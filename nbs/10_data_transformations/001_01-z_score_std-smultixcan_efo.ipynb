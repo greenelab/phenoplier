{
 "cells": [
  {
   "cell_type": "markdown",
   "metadata": {
    "papermill": {
     "duration": 0.036384,
     "end_time": "2020-11-24T15:17:13.330145",
     "exception": false,
     "start_time": "2020-11-24T15:17:13.293761",
     "status": "completed"
    },
    "tags": []
   },
   "source": [
    "# Description"
   ]
  },
  {
   "cell_type": "markdown",
   "metadata": {
    "papermill": {
     "duration": 0.009683,
     "end_time": "2020-11-24T15:17:13.354715",
     "exception": false,
     "start_time": "2020-11-24T15:17:13.345032",
     "status": "completed"
    },
    "tags": []
   },
   "source": [
    "It standardizes the features (latent variables) of an input file."
   ]
  },
  {
   "cell_type": "markdown",
   "metadata": {
    "papermill": {
     "duration": 0.008271,
     "end_time": "2020-11-24T15:17:13.371167",
     "exception": false,
     "start_time": "2020-11-24T15:17:13.362896",
     "status": "completed"
    },
    "tags": []
   },
   "source": [
    "# Modules loading"
   ]
  },
  {
   "cell_type": "code",
   "execution_count": 1,
   "metadata": {
    "execution": {
     "iopub.execute_input": "2020-11-24T15:17:13.391297Z",
     "iopub.status.busy": "2020-11-24T15:17:13.390917Z",
     "iopub.status.idle": "2020-11-24T15:17:13.398846Z",
     "shell.execute_reply": "2020-11-24T15:17:13.398417Z"
    },
    "papermill": {
     "duration": 0.019394,
     "end_time": "2020-11-24T15:17:13.398967",
     "exception": false,
     "start_time": "2020-11-24T15:17:13.379573",
     "status": "completed"
    },
    "tags": []
   },
   "outputs": [],
   "source": [
    "%load_ext autoreload\n",
    "%autoreload 2"
   ]
  },
  {
   "cell_type": "code",
   "execution_count": 2,
   "metadata": {
    "execution": {
     "iopub.execute_input": "2020-11-24T15:17:13.420636Z",
     "iopub.status.busy": "2020-11-24T15:17:13.420253Z",
     "iopub.status.idle": "2020-11-24T15:17:13.867086Z",
     "shell.execute_reply": "2020-11-24T15:17:13.866694Z"
    },
    "papermill": {
     "duration": 0.459631,
     "end_time": "2020-11-24T15:17:13.867177",
     "exception": false,
     "start_time": "2020-11-24T15:17:13.407546",
     "status": "completed"
    },
    "tags": []
   },
   "outputs": [],
   "source": [
    "from pathlib import Path\n",
    "from IPython.display import display\n",
    "\n",
    "import numpy as np\n",
    "import pandas as pd\n",
    "from sklearn.preprocessing import scale\n",
    "\n",
    "import conf"
   ]
  },
  {
   "cell_type": "markdown",
   "metadata": {
    "papermill": {
     "duration": 0.008197,
     "end_time": "2020-11-24T15:17:13.883910",
     "exception": false,
     "start_time": "2020-11-24T15:17:13.875713",
     "status": "completed"
    },
    "tags": []
   },
   "source": [
    "# Settings"
   ]
  },
  {
   "cell_type": "code",
   "execution_count": 3,
   "metadata": {
    "execution": {
     "iopub.execute_input": "2020-11-24T15:17:13.903203Z",
     "iopub.status.busy": "2020-11-24T15:17:13.902822Z",
     "iopub.status.idle": "2020-11-24T15:17:13.912082Z",
     "shell.execute_reply": "2020-11-24T15:17:13.911693Z"
    },
    "papermill": {
     "duration": 0.020025,
     "end_time": "2020-11-24T15:17:13.912172",
     "exception": false,
     "start_time": "2020-11-24T15:17:13.892147",
     "status": "completed"
    },
    "tags": []
   },
   "outputs": [],
   "source": [
    "INPUT_FILEPATH_STEM = 'smultixcan-efo_partial-mashr-zscores'"
   ]
  },
  {
   "cell_type": "code",
   "execution_count": 4,
   "metadata": {
    "execution": {
     "iopub.execute_input": "2020-11-24T15:17:13.932027Z",
     "iopub.status.busy": "2020-11-24T15:17:13.931649Z",
     "iopub.status.idle": "2020-11-24T15:17:13.946220Z",
     "shell.execute_reply": "2020-11-24T15:17:13.945894Z"
    },
    "papermill": {
     "duration": 0.025508,
     "end_time": "2020-11-24T15:17:13.946309",
     "exception": false,
     "start_time": "2020-11-24T15:17:13.920801",
     "status": "completed"
    },
    "tags": []
   },
   "outputs": [
    {
     "data": {
      "text/plain": [
       "PosixPath('/home/miltondp/projects/labs/greenelab/phenoplier/base/results/data_transformations/traits_selections/diseases_only-smultixcan-efo_partial-mashr-zscores.pkl')"
      ]
     },
     "metadata": {},
     "output_type": "display_data"
    },
    {
     "data": {
      "text/plain": [
       "'diseases_only-smultixcan-efo_partial-mashr-zscores'"
      ]
     },
     "metadata": {},
     "output_type": "display_data"
    }
   ],
   "source": [
    "INPUT_FILEPATH = Path(\n",
    "    conf.RESULTS[\"DATA_TRANSFORMATIONS_DIR\"],\n",
    "    'traits_selections',\n",
    "    f'diseases_only-{INPUT_FILEPATH_STEM}.pkl',\n",
    ").resolve()\n",
    "display(INPUT_FILEPATH)\n",
    "\n",
    "input_filepath_stem = INPUT_FILEPATH.stem\n",
    "display(input_filepath_stem)"
   ]
  },
  {
   "cell_type": "code",
   "execution_count": 5,
   "metadata": {
    "execution": {
     "iopub.execute_input": "2020-11-24T15:17:13.967098Z",
     "iopub.status.busy": "2020-11-24T15:17:13.966715Z",
     "iopub.status.idle": "2020-11-24T15:17:13.976837Z",
     "shell.execute_reply": "2020-11-24T15:17:13.976419Z"
    },
    "papermill": {
     "duration": 0.021347,
     "end_time": "2020-11-24T15:17:13.976926",
     "exception": false,
     "start_time": "2020-11-24T15:17:13.955579",
     "status": "completed"
    },
    "tags": []
   },
   "outputs": [
    {
     "data": {
      "text/plain": [
       "PosixPath('/home/miltondp/projects/labs/greenelab/phenoplier/base/results/data_transformations/z_score_std')"
      ]
     },
     "metadata": {},
     "output_type": "display_data"
    }
   ],
   "source": [
    "# output dir for this notebook\n",
    "RESULTS_DIR = Path(\n",
    "    conf.RESULTS[\"DATA_TRANSFORMATIONS_DIR\"],\n",
    "    'z_score_std'\n",
    ").resolve()\n",
    "RESULTS_DIR.mkdir(parents=True, exist_ok=True)\n",
    "\n",
    "display(RESULTS_DIR)"
   ]
  },
  {
   "cell_type": "markdown",
   "metadata": {
    "papermill": {
     "duration": 0.009102,
     "end_time": "2020-11-24T15:17:13.995461",
     "exception": false,
     "start_time": "2020-11-24T15:17:13.986359",
     "status": "completed"
    },
    "tags": []
   },
   "source": [
    "# Load input file"
   ]
  },
  {
   "cell_type": "code",
   "execution_count": 6,
   "metadata": {
    "execution": {
     "iopub.execute_input": "2020-11-24T15:17:14.016081Z",
     "iopub.status.busy": "2020-11-24T15:17:14.015717Z",
     "iopub.status.idle": "2020-11-24T15:17:14.060928Z",
     "shell.execute_reply": "2020-11-24T15:17:14.061247Z"
    },
    "papermill": {
     "duration": 0.05671,
     "end_time": "2020-11-24T15:17:14.061369",
     "exception": false,
     "start_time": "2020-11-24T15:17:14.004659",
     "status": "completed"
    },
    "tags": []
   },
   "outputs": [],
   "source": [
    "data = pd.read_pickle(INPUT_FILEPATH)"
   ]
  },
  {
   "cell_type": "code",
   "execution_count": 7,
   "metadata": {
    "execution": {
     "iopub.execute_input": "2020-11-24T15:17:14.083091Z",
     "iopub.status.busy": "2020-11-24T15:17:14.082706Z",
     "iopub.status.idle": "2020-11-24T15:17:14.092549Z",
     "shell.execute_reply": "2020-11-24T15:17:14.092157Z"
    },
    "papermill": {
     "duration": 0.021378,
     "end_time": "2020-11-24T15:17:14.092641",
     "exception": false,
     "start_time": "2020-11-24T15:17:14.071263",
     "status": "completed"
    },
    "tags": []
   },
   "outputs": [
    {
     "data": {
      "text/plain": [
       "(538, 22515)"
      ]
     },
     "execution_count": 7,
     "metadata": {},
     "output_type": "execute_result"
    }
   ],
   "source": [
    "data.shape"
   ]
  },
  {
   "cell_type": "code",
   "execution_count": 8,
   "metadata": {
    "execution": {
     "iopub.execute_input": "2020-11-24T15:17:14.114102Z",
     "iopub.status.busy": "2020-11-24T15:17:14.113720Z",
     "iopub.status.idle": "2020-11-24T15:17:14.139899Z",
     "shell.execute_reply": "2020-11-24T15:17:14.139528Z"
    },
    "papermill": {
     "duration": 0.037706,
     "end_time": "2020-11-24T15:17:14.140017",
     "exception": false,
     "start_time": "2020-11-24T15:17:14.102311",
     "status": "completed"
    },
    "tags": []
   },
   "outputs": [
    {
     "data": {
      "text/html": [
       "<div>\n",
       "<style scoped>\n",
       "    .dataframe tbody tr th:only-of-type {\n",
       "        vertical-align: middle;\n",
       "    }\n",
       "\n",
       "    .dataframe tbody tr th {\n",
       "        vertical-align: top;\n",
       "    }\n",
       "\n",
       "    .dataframe thead th {\n",
       "        text-align: right;\n",
       "    }\n",
       "</style>\n",
       "<table border=\"1\" class=\"dataframe\">\n",
       "  <thead>\n",
       "    <tr style=\"text-align: right;\">\n",
       "      <th>gene_name</th>\n",
       "      <th>ENSG00000000419</th>\n",
       "      <th>ENSG00000000457</th>\n",
       "      <th>ENSG00000000460</th>\n",
       "      <th>ENSG00000000938</th>\n",
       "      <th>ENSG00000000971</th>\n",
       "      <th>ENSG00000001036</th>\n",
       "      <th>ENSG00000001084</th>\n",
       "      <th>ENSG00000001167</th>\n",
       "      <th>ENSG00000001460</th>\n",
       "      <th>ENSG00000001461</th>\n",
       "      <th>...</th>\n",
       "      <th>ENSG00000284240</th>\n",
       "      <th>ENSG00000284308</th>\n",
       "      <th>ENSG00000284395</th>\n",
       "      <th>ENSG00000284413</th>\n",
       "      <th>ENSG00000284418</th>\n",
       "      <th>ENSG00000284430</th>\n",
       "      <th>ENSG00000284452</th>\n",
       "      <th>ENSG00000284513</th>\n",
       "      <th>ENSG00000284526</th>\n",
       "      <th>ENSG00000284552</th>\n",
       "    </tr>\n",
       "  </thead>\n",
       "  <tbody>\n",
       "    <tr>\n",
       "      <th>vascular disease AND intestinal disease</th>\n",
       "      <td>1.463849</td>\n",
       "      <td>0.295149</td>\n",
       "      <td>0.862394</td>\n",
       "      <td>0.642430</td>\n",
       "      <td>2.560404</td>\n",
       "      <td>0.276682</td>\n",
       "      <td>1.252690</td>\n",
       "      <td>0.138074</td>\n",
       "      <td>0.253713</td>\n",
       "      <td>0.131490</td>\n",
       "      <td>...</td>\n",
       "      <td>0.238496</td>\n",
       "      <td>1.582408</td>\n",
       "      <td>0.470057</td>\n",
       "      <td>1.212982</td>\n",
       "      <td>1.320907</td>\n",
       "      <td>1.348926</td>\n",
       "      <td>0.925907</td>\n",
       "      <td>0.648023</td>\n",
       "      <td>3.172445</td>\n",
       "      <td>0.658885</td>\n",
       "    </tr>\n",
       "    <tr>\n",
       "      <th>osteoarthritis, knee</th>\n",
       "      <td>1.139573</td>\n",
       "      <td>0.339193</td>\n",
       "      <td>0.063113</td>\n",
       "      <td>0.673883</td>\n",
       "      <td>1.480963</td>\n",
       "      <td>0.029437</td>\n",
       "      <td>0.738344</td>\n",
       "      <td>0.597559</td>\n",
       "      <td>0.310168</td>\n",
       "      <td>0.262036</td>\n",
       "      <td>...</td>\n",
       "      <td>0.144221</td>\n",
       "      <td>0.558024</td>\n",
       "      <td>1.497799</td>\n",
       "      <td>3.391703</td>\n",
       "      <td>0.745621</td>\n",
       "      <td>0.681965</td>\n",
       "      <td>0.577402</td>\n",
       "      <td>0.412460</td>\n",
       "      <td>0.245630</td>\n",
       "      <td>1.401890</td>\n",
       "    </tr>\n",
       "    <tr>\n",
       "      <th>carpal tunnel syndrome</th>\n",
       "      <td>0.918410</td>\n",
       "      <td>0.592007</td>\n",
       "      <td>0.221104</td>\n",
       "      <td>1.875068</td>\n",
       "      <td>0.427498</td>\n",
       "      <td>1.564119</td>\n",
       "      <td>1.739466</td>\n",
       "      <td>0.369079</td>\n",
       "      <td>0.795678</td>\n",
       "      <td>0.811066</td>\n",
       "      <td>...</td>\n",
       "      <td>0.326533</td>\n",
       "      <td>1.521576</td>\n",
       "      <td>0.307704</td>\n",
       "      <td>0.155117</td>\n",
       "      <td>1.459384</td>\n",
       "      <td>0.813065</td>\n",
       "      <td>0.526617</td>\n",
       "      <td>0.618006</td>\n",
       "      <td>0.384546</td>\n",
       "      <td>1.114975</td>\n",
       "    </tr>\n",
       "    <tr>\n",
       "      <th>gastritis</th>\n",
       "      <td>1.616585</td>\n",
       "      <td>0.675119</td>\n",
       "      <td>0.847838</td>\n",
       "      <td>0.976489</td>\n",
       "      <td>0.275587</td>\n",
       "      <td>0.137090</td>\n",
       "      <td>0.246508</td>\n",
       "      <td>1.276920</td>\n",
       "      <td>0.368820</td>\n",
       "      <td>0.205764</td>\n",
       "      <td>...</td>\n",
       "      <td>2.220743</td>\n",
       "      <td>0.934335</td>\n",
       "      <td>0.858603</td>\n",
       "      <td>0.422430</td>\n",
       "      <td>0.221982</td>\n",
       "      <td>0.083101</td>\n",
       "      <td>0.909691</td>\n",
       "      <td>0.539585</td>\n",
       "      <td>1.158575</td>\n",
       "      <td>0.101605</td>\n",
       "    </tr>\n",
       "    <tr>\n",
       "      <th>neoplasm</th>\n",
       "      <td>1.445983</td>\n",
       "      <td>2.245419</td>\n",
       "      <td>1.185771</td>\n",
       "      <td>1.236719</td>\n",
       "      <td>0.298348</td>\n",
       "      <td>0.987865</td>\n",
       "      <td>0.670254</td>\n",
       "      <td>0.563399</td>\n",
       "      <td>1.701640</td>\n",
       "      <td>1.710727</td>\n",
       "      <td>...</td>\n",
       "      <td>1.933531</td>\n",
       "      <td>0.586532</td>\n",
       "      <td>0.324582</td>\n",
       "      <td>0.557693</td>\n",
       "      <td>0.986534</td>\n",
       "      <td>1.205885</td>\n",
       "      <td>1.061329</td>\n",
       "      <td>0.743238</td>\n",
       "      <td>0.591596</td>\n",
       "      <td>0.730569</td>\n",
       "    </tr>\n",
       "  </tbody>\n",
       "</table>\n",
       "<p>5 rows × 22515 columns</p>\n",
       "</div>"
      ],
      "text/plain": [
       "gene_name                                ENSG00000000419  ENSG00000000457  \\\n",
       "vascular disease AND intestinal disease         1.463849         0.295149   \n",
       "osteoarthritis, knee                            1.139573         0.339193   \n",
       "carpal tunnel syndrome                          0.918410         0.592007   \n",
       "gastritis                                       1.616585         0.675119   \n",
       "neoplasm                                        1.445983         2.245419   \n",
       "\n",
       "gene_name                                ENSG00000000460  ENSG00000000938  \\\n",
       "vascular disease AND intestinal disease         0.862394         0.642430   \n",
       "osteoarthritis, knee                            0.063113         0.673883   \n",
       "carpal tunnel syndrome                          0.221104         1.875068   \n",
       "gastritis                                       0.847838         0.976489   \n",
       "neoplasm                                        1.185771         1.236719   \n",
       "\n",
       "gene_name                                ENSG00000000971  ENSG00000001036  \\\n",
       "vascular disease AND intestinal disease         2.560404         0.276682   \n",
       "osteoarthritis, knee                            1.480963         0.029437   \n",
       "carpal tunnel syndrome                          0.427498         1.564119   \n",
       "gastritis                                       0.275587         0.137090   \n",
       "neoplasm                                        0.298348         0.987865   \n",
       "\n",
       "gene_name                                ENSG00000001084  ENSG00000001167  \\\n",
       "vascular disease AND intestinal disease         1.252690         0.138074   \n",
       "osteoarthritis, knee                            0.738344         0.597559   \n",
       "carpal tunnel syndrome                          1.739466         0.369079   \n",
       "gastritis                                       0.246508         1.276920   \n",
       "neoplasm                                        0.670254         0.563399   \n",
       "\n",
       "gene_name                                ENSG00000001460  ENSG00000001461  \\\n",
       "vascular disease AND intestinal disease         0.253713         0.131490   \n",
       "osteoarthritis, knee                            0.310168         0.262036   \n",
       "carpal tunnel syndrome                          0.795678         0.811066   \n",
       "gastritis                                       0.368820         0.205764   \n",
       "neoplasm                                        1.701640         1.710727   \n",
       "\n",
       "gene_name                                ...  ENSG00000284240  \\\n",
       "vascular disease AND intestinal disease  ...         0.238496   \n",
       "osteoarthritis, knee                     ...         0.144221   \n",
       "carpal tunnel syndrome                   ...         0.326533   \n",
       "gastritis                                ...         2.220743   \n",
       "neoplasm                                 ...         1.933531   \n",
       "\n",
       "gene_name                                ENSG00000284308  ENSG00000284395  \\\n",
       "vascular disease AND intestinal disease         1.582408         0.470057   \n",
       "osteoarthritis, knee                            0.558024         1.497799   \n",
       "carpal tunnel syndrome                          1.521576         0.307704   \n",
       "gastritis                                       0.934335         0.858603   \n",
       "neoplasm                                        0.586532         0.324582   \n",
       "\n",
       "gene_name                                ENSG00000284413  ENSG00000284418  \\\n",
       "vascular disease AND intestinal disease         1.212982         1.320907   \n",
       "osteoarthritis, knee                            3.391703         0.745621   \n",
       "carpal tunnel syndrome                          0.155117         1.459384   \n",
       "gastritis                                       0.422430         0.221982   \n",
       "neoplasm                                        0.557693         0.986534   \n",
       "\n",
       "gene_name                                ENSG00000284430  ENSG00000284452  \\\n",
       "vascular disease AND intestinal disease         1.348926         0.925907   \n",
       "osteoarthritis, knee                            0.681965         0.577402   \n",
       "carpal tunnel syndrome                          0.813065         0.526617   \n",
       "gastritis                                       0.083101         0.909691   \n",
       "neoplasm                                        1.205885         1.061329   \n",
       "\n",
       "gene_name                                ENSG00000284513  ENSG00000284526  \\\n",
       "vascular disease AND intestinal disease         0.648023         3.172445   \n",
       "osteoarthritis, knee                            0.412460         0.245630   \n",
       "carpal tunnel syndrome                          0.618006         0.384546   \n",
       "gastritis                                       0.539585         1.158575   \n",
       "neoplasm                                        0.743238         0.591596   \n",
       "\n",
       "gene_name                                ENSG00000284552  \n",
       "vascular disease AND intestinal disease         0.658885  \n",
       "osteoarthritis, knee                            1.401890  \n",
       "carpal tunnel syndrome                          1.114975  \n",
       "gastritis                                       0.101605  \n",
       "neoplasm                                        0.730569  \n",
       "\n",
       "[5 rows x 22515 columns]"
      ]
     },
     "execution_count": 8,
     "metadata": {},
     "output_type": "execute_result"
    }
   ],
   "source": [
    "data.head()"
   ]
  },
  {
   "cell_type": "markdown",
   "metadata": {
    "papermill": {
     "duration": 0.009279,
     "end_time": "2020-11-24T15:17:14.159075",
     "exception": false,
     "start_time": "2020-11-24T15:17:14.149796",
     "status": "completed"
    },
    "tags": []
   },
   "source": [
    "# Data preprocessing for clustering"
   ]
  },
  {
   "cell_type": "code",
   "execution_count": 9,
   "metadata": {
    "execution": {
     "iopub.execute_input": "2020-11-24T15:17:14.180717Z",
     "iopub.status.busy": "2020-11-24T15:17:14.180317Z",
     "iopub.status.idle": "2020-11-24T15:17:14.213586Z",
     "shell.execute_reply": "2020-11-24T15:17:14.213205Z"
    },
    "papermill": {
     "duration": 0.045183,
     "end_time": "2020-11-24T15:17:14.213677",
     "exception": false,
     "start_time": "2020-11-24T15:17:14.168494",
     "status": "completed"
    },
    "tags": []
   },
   "outputs": [
    {
     "data": {
      "text/html": [
       "<div>\n",
       "<style scoped>\n",
       "    .dataframe tbody tr th:only-of-type {\n",
       "        vertical-align: middle;\n",
       "    }\n",
       "\n",
       "    .dataframe tbody tr th {\n",
       "        vertical-align: top;\n",
       "    }\n",
       "\n",
       "    .dataframe thead th {\n",
       "        text-align: right;\n",
       "    }\n",
       "</style>\n",
       "<table border=\"1\" class=\"dataframe\">\n",
       "  <thead>\n",
       "    <tr style=\"text-align: right;\">\n",
       "      <th>gene_name</th>\n",
       "      <th>ENSG00000000419</th>\n",
       "      <th>ENSG00000000457</th>\n",
       "      <th>ENSG00000000460</th>\n",
       "      <th>ENSG00000000938</th>\n",
       "      <th>ENSG00000000971</th>\n",
       "      <th>ENSG00000001036</th>\n",
       "      <th>ENSG00000001084</th>\n",
       "      <th>ENSG00000001167</th>\n",
       "      <th>ENSG00000001460</th>\n",
       "      <th>ENSG00000001461</th>\n",
       "    </tr>\n",
       "  </thead>\n",
       "  <tbody>\n",
       "    <tr>\n",
       "      <th>count</th>\n",
       "      <td>538.000000</td>\n",
       "      <td>538.000000</td>\n",
       "      <td>538.000000</td>\n",
       "      <td>538.000000</td>\n",
       "      <td>538.000000</td>\n",
       "      <td>538.000000</td>\n",
       "      <td>538.000000</td>\n",
       "      <td>538.000000</td>\n",
       "      <td>538.000000</td>\n",
       "      <td>538.000000</td>\n",
       "    </tr>\n",
       "    <tr>\n",
       "      <th>mean</th>\n",
       "      <td>0.876279</td>\n",
       "      <td>0.949519</td>\n",
       "      <td>0.879537</td>\n",
       "      <td>0.990397</td>\n",
       "      <td>0.952745</td>\n",
       "      <td>0.941189</td>\n",
       "      <td>0.902247</td>\n",
       "      <td>0.854361</td>\n",
       "      <td>0.882128</td>\n",
       "      <td>0.917427</td>\n",
       "    </tr>\n",
       "    <tr>\n",
       "      <th>std</th>\n",
       "      <td>0.614019</td>\n",
       "      <td>0.734327</td>\n",
       "      <td>0.700223</td>\n",
       "      <td>0.727093</td>\n",
       "      <td>0.683013</td>\n",
       "      <td>0.664107</td>\n",
       "      <td>0.635629</td>\n",
       "      <td>0.613803</td>\n",
       "      <td>0.686745</td>\n",
       "      <td>0.696687</td>\n",
       "    </tr>\n",
       "    <tr>\n",
       "      <th>min</th>\n",
       "      <td>0.005327</td>\n",
       "      <td>0.000509</td>\n",
       "      <td>0.000140</td>\n",
       "      <td>0.006677</td>\n",
       "      <td>0.000002</td>\n",
       "      <td>0.009550</td>\n",
       "      <td>0.001540</td>\n",
       "      <td>0.001177</td>\n",
       "      <td>0.002978</td>\n",
       "      <td>0.002426</td>\n",
       "    </tr>\n",
       "    <tr>\n",
       "      <th>25%</th>\n",
       "      <td>0.416252</td>\n",
       "      <td>0.393362</td>\n",
       "      <td>0.359201</td>\n",
       "      <td>0.423119</td>\n",
       "      <td>0.429098</td>\n",
       "      <td>0.393187</td>\n",
       "      <td>0.451304</td>\n",
       "      <td>0.362337</td>\n",
       "      <td>0.347634</td>\n",
       "      <td>0.362717</td>\n",
       "    </tr>\n",
       "    <tr>\n",
       "      <th>50%</th>\n",
       "      <td>0.769703</td>\n",
       "      <td>0.768482</td>\n",
       "      <td>0.739565</td>\n",
       "      <td>0.829347</td>\n",
       "      <td>0.822457</td>\n",
       "      <td>0.837543</td>\n",
       "      <td>0.772877</td>\n",
       "      <td>0.751141</td>\n",
       "      <td>0.715300</td>\n",
       "      <td>0.754837</td>\n",
       "    </tr>\n",
       "    <tr>\n",
       "      <th>75%</th>\n",
       "      <td>1.228141</td>\n",
       "      <td>1.354872</td>\n",
       "      <td>1.189649</td>\n",
       "      <td>1.393648</td>\n",
       "      <td>1.359572</td>\n",
       "      <td>1.364613</td>\n",
       "      <td>1.246128</td>\n",
       "      <td>1.255927</td>\n",
       "      <td>1.224353</td>\n",
       "      <td>1.291462</td>\n",
       "    </tr>\n",
       "    <tr>\n",
       "      <th>max</th>\n",
       "      <td>3.438081</td>\n",
       "      <td>4.628054</td>\n",
       "      <td>5.508381</td>\n",
       "      <td>3.753905</td>\n",
       "      <td>3.274207</td>\n",
       "      <td>3.574490</td>\n",
       "      <td>4.155087</td>\n",
       "      <td>3.730400</td>\n",
       "      <td>3.592585</td>\n",
       "      <td>3.951277</td>\n",
       "    </tr>\n",
       "  </tbody>\n",
       "</table>\n",
       "</div>"
      ],
      "text/plain": [
       "gene_name  ENSG00000000419  ENSG00000000457  ENSG00000000460  ENSG00000000938  \\\n",
       "count           538.000000       538.000000       538.000000       538.000000   \n",
       "mean              0.876279         0.949519         0.879537         0.990397   \n",
       "std               0.614019         0.734327         0.700223         0.727093   \n",
       "min               0.005327         0.000509         0.000140         0.006677   \n",
       "25%               0.416252         0.393362         0.359201         0.423119   \n",
       "50%               0.769703         0.768482         0.739565         0.829347   \n",
       "75%               1.228141         1.354872         1.189649         1.393648   \n",
       "max               3.438081         4.628054         5.508381         3.753905   \n",
       "\n",
       "gene_name  ENSG00000000971  ENSG00000001036  ENSG00000001084  ENSG00000001167  \\\n",
       "count           538.000000       538.000000       538.000000       538.000000   \n",
       "mean              0.952745         0.941189         0.902247         0.854361   \n",
       "std               0.683013         0.664107         0.635629         0.613803   \n",
       "min               0.000002         0.009550         0.001540         0.001177   \n",
       "25%               0.429098         0.393187         0.451304         0.362337   \n",
       "50%               0.822457         0.837543         0.772877         0.751141   \n",
       "75%               1.359572         1.364613         1.246128         1.255927   \n",
       "max               3.274207         3.574490         4.155087         3.730400   \n",
       "\n",
       "gene_name  ENSG00000001460  ENSG00000001461  \n",
       "count           538.000000       538.000000  \n",
       "mean              0.882128         0.917427  \n",
       "std               0.686745         0.696687  \n",
       "min               0.002978         0.002426  \n",
       "25%               0.347634         0.362717  \n",
       "50%               0.715300         0.754837  \n",
       "75%               1.224353         1.291462  \n",
       "max               3.592585         3.951277  "
      ]
     },
     "metadata": {},
     "output_type": "display_data"
    }
   ],
   "source": [
    "data_stats = data.iloc[:, :10].describe()\n",
    "display(data_stats)"
   ]
  },
  {
   "cell_type": "markdown",
   "metadata": {
    "papermill": {
     "duration": 0.009939,
     "end_time": "2020-11-24T15:17:14.233826",
     "exception": false,
     "start_time": "2020-11-24T15:17:14.223887",
     "status": "completed"
    },
    "tags": []
   },
   "source": [
    "## Standardize"
   ]
  },
  {
   "cell_type": "code",
   "execution_count": 10,
   "metadata": {
    "execution": {
     "iopub.execute_input": "2020-11-24T15:17:14.256702Z",
     "iopub.status.busy": "2020-11-24T15:17:14.256331Z",
     "iopub.status.idle": "2020-11-24T15:17:14.615426Z",
     "shell.execute_reply": "2020-11-24T15:17:14.615749Z"
    },
    "papermill": {
     "duration": 0.371855,
     "end_time": "2020-11-24T15:17:14.615875",
     "exception": false,
     "start_time": "2020-11-24T15:17:14.244020",
     "status": "completed"
    },
    "tags": []
   },
   "outputs": [],
   "source": [
    "scaled_data = pd.DataFrame(\n",
    "    data=scale(data),\n",
    "    index=data.index.copy(),\n",
    "    columns=data.columns.copy()\n",
    ")"
   ]
  },
  {
   "cell_type": "code",
   "execution_count": 11,
   "metadata": {
    "execution": {
     "iopub.execute_input": "2020-11-24T15:17:14.640178Z",
     "iopub.status.busy": "2020-11-24T15:17:14.639804Z",
     "iopub.status.idle": "2020-11-24T15:17:14.649674Z",
     "shell.execute_reply": "2020-11-24T15:17:14.649335Z"
    },
    "papermill": {
     "duration": 0.022517,
     "end_time": "2020-11-24T15:17:14.649767",
     "exception": false,
     "start_time": "2020-11-24T15:17:14.627250",
     "status": "completed"
    },
    "tags": []
   },
   "outputs": [
    {
     "data": {
      "text/plain": [
       "(538, 22515)"
      ]
     },
     "execution_count": 11,
     "metadata": {},
     "output_type": "execute_result"
    }
   ],
   "source": [
    "scaled_data.shape"
   ]
  },
  {
   "cell_type": "code",
   "execution_count": 12,
   "metadata": {
    "execution": {
     "iopub.execute_input": "2020-11-24T15:17:14.673391Z",
     "iopub.status.busy": "2020-11-24T15:17:14.673016Z",
     "iopub.status.idle": "2020-11-24T15:17:14.696306Z",
     "shell.execute_reply": "2020-11-24T15:17:14.695905Z"
    },
    "papermill": {
     "duration": 0.035869,
     "end_time": "2020-11-24T15:17:14.696397",
     "exception": false,
     "start_time": "2020-11-24T15:17:14.660528",
     "status": "completed"
    },
    "tags": []
   },
   "outputs": [
    {
     "data": {
      "text/html": [
       "<div>\n",
       "<style scoped>\n",
       "    .dataframe tbody tr th:only-of-type {\n",
       "        vertical-align: middle;\n",
       "    }\n",
       "\n",
       "    .dataframe tbody tr th {\n",
       "        vertical-align: top;\n",
       "    }\n",
       "\n",
       "    .dataframe thead th {\n",
       "        text-align: right;\n",
       "    }\n",
       "</style>\n",
       "<table border=\"1\" class=\"dataframe\">\n",
       "  <thead>\n",
       "    <tr style=\"text-align: right;\">\n",
       "      <th>gene_name</th>\n",
       "      <th>ENSG00000000419</th>\n",
       "      <th>ENSG00000000457</th>\n",
       "      <th>ENSG00000000460</th>\n",
       "      <th>ENSG00000000938</th>\n",
       "      <th>ENSG00000000971</th>\n",
       "      <th>ENSG00000001036</th>\n",
       "      <th>ENSG00000001084</th>\n",
       "      <th>ENSG00000001167</th>\n",
       "      <th>ENSG00000001460</th>\n",
       "      <th>ENSG00000001461</th>\n",
       "      <th>...</th>\n",
       "      <th>ENSG00000284240</th>\n",
       "      <th>ENSG00000284308</th>\n",
       "      <th>ENSG00000284395</th>\n",
       "      <th>ENSG00000284413</th>\n",
       "      <th>ENSG00000284418</th>\n",
       "      <th>ENSG00000284430</th>\n",
       "      <th>ENSG00000284452</th>\n",
       "      <th>ENSG00000284513</th>\n",
       "      <th>ENSG00000284526</th>\n",
       "      <th>ENSG00000284552</th>\n",
       "    </tr>\n",
       "  </thead>\n",
       "  <tbody>\n",
       "    <tr>\n",
       "      <th>vascular disease AND intestinal disease</th>\n",
       "      <td>0.957815</td>\n",
       "      <td>-0.891945</td>\n",
       "      <td>-0.024504</td>\n",
       "      <td>-0.479018</td>\n",
       "      <td>2.355967</td>\n",
       "      <td>-1.001533</td>\n",
       "      <td>0.551846</td>\n",
       "      <td>-1.168051</td>\n",
       "      <td>-0.915916</td>\n",
       "      <td>-1.129156</td>\n",
       "      <td>...</td>\n",
       "      <td>-1.084690</td>\n",
       "      <td>1.137969</td>\n",
       "      <td>-0.681588</td>\n",
       "      <td>0.417068</td>\n",
       "      <td>0.756573</td>\n",
       "      <td>0.925027</td>\n",
       "      <td>0.087152</td>\n",
       "      <td>-0.361709</td>\n",
       "      <td>3.831066</td>\n",
       "      <td>-0.383482</td>\n",
       "    </tr>\n",
       "    <tr>\n",
       "      <th>osteoarthritis, knee</th>\n",
       "      <td>0.429203</td>\n",
       "      <td>-0.831911</td>\n",
       "      <td>-1.167032</td>\n",
       "      <td>-0.435719</td>\n",
       "      <td>0.774084</td>\n",
       "      <td>-1.374176</td>\n",
       "      <td>-0.258100</td>\n",
       "      <td>-0.418768</td>\n",
       "      <td>-0.833632</td>\n",
       "      <td>-0.941600</td>\n",
       "      <td>...</td>\n",
       "      <td>-1.230954</td>\n",
       "      <td>-0.536561</td>\n",
       "      <td>0.750267</td>\n",
       "      <td>3.640816</td>\n",
       "      <td>-0.193611</td>\n",
       "      <td>-0.211389</td>\n",
       "      <td>-0.484246</td>\n",
       "      <td>-0.760691</td>\n",
       "      <td>-0.984610</td>\n",
       "      <td>0.793113</td>\n",
       "    </tr>\n",
       "    <tr>\n",
       "      <th>carpal tunnel syndrome</th>\n",
       "      <td>0.068678</td>\n",
       "      <td>-0.487310</td>\n",
       "      <td>-0.941193</td>\n",
       "      <td>1.217856</td>\n",
       "      <td>-0.769730</td>\n",
       "      <td>0.938871</td>\n",
       "      <td>1.318377</td>\n",
       "      <td>-0.791351</td>\n",
       "      <td>-0.126000</td>\n",
       "      <td>-0.152809</td>\n",
       "      <td>...</td>\n",
       "      <td>-0.948103</td>\n",
       "      <td>1.038529</td>\n",
       "      <td>-0.907778</td>\n",
       "      <td>-1.148204</td>\n",
       "      <td>0.985292</td>\n",
       "      <td>0.011989</td>\n",
       "      <td>-0.567512</td>\n",
       "      <td>-0.412550</td>\n",
       "      <td>-0.756042</td>\n",
       "      <td>0.338765</td>\n",
       "    </tr>\n",
       "    <tr>\n",
       "      <th>gastritis</th>\n",
       "      <td>1.206793</td>\n",
       "      <td>-0.374024</td>\n",
       "      <td>-0.045312</td>\n",
       "      <td>-0.019145</td>\n",
       "      <td>-0.992350</td>\n",
       "      <td>-1.211925</td>\n",
       "      <td>-1.032599</td>\n",
       "      <td>0.689070</td>\n",
       "      <td>-0.748146</td>\n",
       "      <td>-1.022447</td>\n",
       "      <td>...</td>\n",
       "      <td>1.990701</td>\n",
       "      <td>0.078584</td>\n",
       "      <td>-0.140263</td>\n",
       "      <td>-0.752674</td>\n",
       "      <td>-1.058492</td>\n",
       "      <td>-1.231776</td>\n",
       "      <td>0.060565</td>\n",
       "      <td>-0.545375</td>\n",
       "      <td>0.517516</td>\n",
       "      <td>-1.265970</td>\n",
       "    </tr>\n",
       "    <tr>\n",
       "      <th>neoplasm</th>\n",
       "      <td>0.928690</td>\n",
       "      <td>1.766387</td>\n",
       "      <td>0.437744</td>\n",
       "      <td>0.339092</td>\n",
       "      <td>-0.958995</td>\n",
       "      <td>0.070350</td>\n",
       "      <td>-0.365322</td>\n",
       "      <td>-0.474472</td>\n",
       "      <td>1.194440</td>\n",
       "      <td>1.139735</td>\n",
       "      <td>...</td>\n",
       "      <td>1.545101</td>\n",
       "      <td>-0.489959</td>\n",
       "      <td>-0.884264</td>\n",
       "      <td>-0.552531</td>\n",
       "      <td>0.204299</td>\n",
       "      <td>0.681304</td>\n",
       "      <td>0.309185</td>\n",
       "      <td>-0.200440</td>\n",
       "      <td>-0.415370</td>\n",
       "      <td>-0.269966</td>\n",
       "    </tr>\n",
       "  </tbody>\n",
       "</table>\n",
       "<p>5 rows × 22515 columns</p>\n",
       "</div>"
      ],
      "text/plain": [
       "gene_name                                ENSG00000000419  ENSG00000000457  \\\n",
       "vascular disease AND intestinal disease         0.957815        -0.891945   \n",
       "osteoarthritis, knee                            0.429203        -0.831911   \n",
       "carpal tunnel syndrome                          0.068678        -0.487310   \n",
       "gastritis                                       1.206793        -0.374024   \n",
       "neoplasm                                        0.928690         1.766387   \n",
       "\n",
       "gene_name                                ENSG00000000460  ENSG00000000938  \\\n",
       "vascular disease AND intestinal disease        -0.024504        -0.479018   \n",
       "osteoarthritis, knee                           -1.167032        -0.435719   \n",
       "carpal tunnel syndrome                         -0.941193         1.217856   \n",
       "gastritis                                      -0.045312        -0.019145   \n",
       "neoplasm                                        0.437744         0.339092   \n",
       "\n",
       "gene_name                                ENSG00000000971  ENSG00000001036  \\\n",
       "vascular disease AND intestinal disease         2.355967        -1.001533   \n",
       "osteoarthritis, knee                            0.774084        -1.374176   \n",
       "carpal tunnel syndrome                         -0.769730         0.938871   \n",
       "gastritis                                      -0.992350        -1.211925   \n",
       "neoplasm                                       -0.958995         0.070350   \n",
       "\n",
       "gene_name                                ENSG00000001084  ENSG00000001167  \\\n",
       "vascular disease AND intestinal disease         0.551846        -1.168051   \n",
       "osteoarthritis, knee                           -0.258100        -0.418768   \n",
       "carpal tunnel syndrome                          1.318377        -0.791351   \n",
       "gastritis                                      -1.032599         0.689070   \n",
       "neoplasm                                       -0.365322        -0.474472   \n",
       "\n",
       "gene_name                                ENSG00000001460  ENSG00000001461  \\\n",
       "vascular disease AND intestinal disease        -0.915916        -1.129156   \n",
       "osteoarthritis, knee                           -0.833632        -0.941600   \n",
       "carpal tunnel syndrome                         -0.126000        -0.152809   \n",
       "gastritis                                      -0.748146        -1.022447   \n",
       "neoplasm                                        1.194440         1.139735   \n",
       "\n",
       "gene_name                                ...  ENSG00000284240  \\\n",
       "vascular disease AND intestinal disease  ...        -1.084690   \n",
       "osteoarthritis, knee                     ...        -1.230954   \n",
       "carpal tunnel syndrome                   ...        -0.948103   \n",
       "gastritis                                ...         1.990701   \n",
       "neoplasm                                 ...         1.545101   \n",
       "\n",
       "gene_name                                ENSG00000284308  ENSG00000284395  \\\n",
       "vascular disease AND intestinal disease         1.137969        -0.681588   \n",
       "osteoarthritis, knee                           -0.536561         0.750267   \n",
       "carpal tunnel syndrome                          1.038529        -0.907778   \n",
       "gastritis                                       0.078584        -0.140263   \n",
       "neoplasm                                       -0.489959        -0.884264   \n",
       "\n",
       "gene_name                                ENSG00000284413  ENSG00000284418  \\\n",
       "vascular disease AND intestinal disease         0.417068         0.756573   \n",
       "osteoarthritis, knee                            3.640816        -0.193611   \n",
       "carpal tunnel syndrome                         -1.148204         0.985292   \n",
       "gastritis                                      -0.752674        -1.058492   \n",
       "neoplasm                                       -0.552531         0.204299   \n",
       "\n",
       "gene_name                                ENSG00000284430  ENSG00000284452  \\\n",
       "vascular disease AND intestinal disease         0.925027         0.087152   \n",
       "osteoarthritis, knee                           -0.211389        -0.484246   \n",
       "carpal tunnel syndrome                          0.011989        -0.567512   \n",
       "gastritis                                      -1.231776         0.060565   \n",
       "neoplasm                                        0.681304         0.309185   \n",
       "\n",
       "gene_name                                ENSG00000284513  ENSG00000284526  \\\n",
       "vascular disease AND intestinal disease        -0.361709         3.831066   \n",
       "osteoarthritis, knee                           -0.760691        -0.984610   \n",
       "carpal tunnel syndrome                         -0.412550        -0.756042   \n",
       "gastritis                                      -0.545375         0.517516   \n",
       "neoplasm                                       -0.200440        -0.415370   \n",
       "\n",
       "gene_name                                ENSG00000284552  \n",
       "vascular disease AND intestinal disease        -0.383482  \n",
       "osteoarthritis, knee                            0.793113  \n",
       "carpal tunnel syndrome                          0.338765  \n",
       "gastritis                                      -1.265970  \n",
       "neoplasm                                       -0.269966  \n",
       "\n",
       "[5 rows x 22515 columns]"
      ]
     },
     "execution_count": 12,
     "metadata": {},
     "output_type": "execute_result"
    }
   ],
   "source": [
    "scaled_data.head()"
   ]
  },
  {
   "cell_type": "code",
   "execution_count": 13,
   "metadata": {
    "execution": {
     "iopub.execute_input": "2020-11-24T15:17:14.721041Z",
     "iopub.status.busy": "2020-11-24T15:17:14.720623Z",
     "iopub.status.idle": "2020-11-24T15:17:14.754220Z",
     "shell.execute_reply": "2020-11-24T15:17:14.753839Z"
    },
    "papermill": {
     "duration": 0.046615,
     "end_time": "2020-11-24T15:17:14.754309",
     "exception": false,
     "start_time": "2020-11-24T15:17:14.707694",
     "status": "completed"
    },
    "tags": []
   },
   "outputs": [
    {
     "data": {
      "text/html": [
       "<div>\n",
       "<style scoped>\n",
       "    .dataframe tbody tr th:only-of-type {\n",
       "        vertical-align: middle;\n",
       "    }\n",
       "\n",
       "    .dataframe tbody tr th {\n",
       "        vertical-align: top;\n",
       "    }\n",
       "\n",
       "    .dataframe thead th {\n",
       "        text-align: right;\n",
       "    }\n",
       "</style>\n",
       "<table border=\"1\" class=\"dataframe\">\n",
       "  <thead>\n",
       "    <tr style=\"text-align: right;\">\n",
       "      <th>gene_name</th>\n",
       "      <th>ENSG00000000419</th>\n",
       "      <th>ENSG00000000457</th>\n",
       "      <th>ENSG00000000460</th>\n",
       "      <th>ENSG00000000938</th>\n",
       "      <th>ENSG00000000971</th>\n",
       "      <th>ENSG00000001036</th>\n",
       "      <th>ENSG00000001084</th>\n",
       "      <th>ENSG00000001167</th>\n",
       "      <th>ENSG00000001460</th>\n",
       "      <th>ENSG00000001461</th>\n",
       "    </tr>\n",
       "  </thead>\n",
       "  <tbody>\n",
       "    <tr>\n",
       "      <th>count</th>\n",
       "      <td>5.380000e+02</td>\n",
       "      <td>5.380000e+02</td>\n",
       "      <td>5.380000e+02</td>\n",
       "      <td>5.380000e+02</td>\n",
       "      <td>5.380000e+02</td>\n",
       "      <td>5.380000e+02</td>\n",
       "      <td>5.380000e+02</td>\n",
       "      <td>5.380000e+02</td>\n",
       "      <td>5.380000e+02</td>\n",
       "      <td>5.380000e+02</td>\n",
       "    </tr>\n",
       "    <tr>\n",
       "      <th>mean</th>\n",
       "      <td>-1.096190e-15</td>\n",
       "      <td>-1.565043e-15</td>\n",
       "      <td>-4.622490e-16</td>\n",
       "      <td>-4.622490e-17</td>\n",
       "      <td>-1.525422e-15</td>\n",
       "      <td>-5.282846e-16</td>\n",
       "      <td>5.745095e-16</td>\n",
       "      <td>-3.037636e-16</td>\n",
       "      <td>-3.367814e-16</td>\n",
       "      <td>-7.594091e-17</td>\n",
       "    </tr>\n",
       "    <tr>\n",
       "      <th>std</th>\n",
       "      <td>1.000931e+00</td>\n",
       "      <td>1.000931e+00</td>\n",
       "      <td>1.000931e+00</td>\n",
       "      <td>1.000931e+00</td>\n",
       "      <td>1.000931e+00</td>\n",
       "      <td>1.000931e+00</td>\n",
       "      <td>1.000931e+00</td>\n",
       "      <td>1.000931e+00</td>\n",
       "      <td>1.000931e+00</td>\n",
       "      <td>1.000931e+00</td>\n",
       "    </tr>\n",
       "    <tr>\n",
       "      <th>min</th>\n",
       "      <td>-1.419765e+00</td>\n",
       "      <td>-1.293557e+00</td>\n",
       "      <td>-1.257049e+00</td>\n",
       "      <td>-1.354207e+00</td>\n",
       "      <td>-1.396210e+00</td>\n",
       "      <td>-1.404151e+00</td>\n",
       "      <td>-1.418352e+00</td>\n",
       "      <td>-1.391291e+00</td>\n",
       "      <td>-1.281362e+00</td>\n",
       "      <td>-1.314582e+00</td>\n",
       "    </tr>\n",
       "    <tr>\n",
       "      <th>25%</th>\n",
       "      <td>-7.499039e-01</td>\n",
       "      <td>-7.580760e-01</td>\n",
       "      <td>-7.437905e-01</td>\n",
       "      <td>-7.809255e-01</td>\n",
       "      <td>-7.673854e-01</td>\n",
       "      <td>-8.259386e-01</td>\n",
       "      <td>-7.101051e-01</td>\n",
       "      <td>-8.023460e-01</td>\n",
       "      <td>-7.790248e-01</td>\n",
       "      <td>-7.969525e-01</td>\n",
       "    </tr>\n",
       "    <tr>\n",
       "      <th>50%</th>\n",
       "      <td>-1.737322e-01</td>\n",
       "      <td>-2.467648e-01</td>\n",
       "      <td>-2.000814e-01</td>\n",
       "      <td>-2.217044e-01</td>\n",
       "      <td>-1.909317e-01</td>\n",
       "      <td>-1.562122e-01</td>\n",
       "      <td>-2.037206e-01</td>\n",
       "      <td>-1.683214e-01</td>\n",
       "      <td>-2.431525e-01</td>\n",
       "      <td>-2.335925e-01</td>\n",
       "    </tr>\n",
       "    <tr>\n",
       "      <th>75%</th>\n",
       "      <td>5.735793e-01</td>\n",
       "      <td>5.525200e-01</td>\n",
       "      <td>4.432880e-01</td>\n",
       "      <td>5.551237e-01</td>\n",
       "      <td>5.961907e-01</td>\n",
       "      <td>6.381776e-01</td>\n",
       "      <td>5.415137e-01</td>\n",
       "      <td>6.548350e-01</td>\n",
       "      <td>4.987937e-01</td>\n",
       "      <td>5.373771e-01</td>\n",
       "    </tr>\n",
       "    <tr>\n",
       "      <th>max</th>\n",
       "      <td>4.176067e+00</td>\n",
       "      <td>5.014060e+00</td>\n",
       "      <td>6.616677e+00</td>\n",
       "      <td>3.804299e+00</td>\n",
       "      <td>3.402020e+00</td>\n",
       "      <td>3.968868e+00</td>\n",
       "      <td>5.122280e+00</td>\n",
       "      <td>4.689970e+00</td>\n",
       "      <td>3.950493e+00</td>\n",
       "      <td>4.358734e+00</td>\n",
       "    </tr>\n",
       "  </tbody>\n",
       "</table>\n",
       "</div>"
      ],
      "text/plain": [
       "gene_name  ENSG00000000419  ENSG00000000457  ENSG00000000460  ENSG00000000938  \\\n",
       "count         5.380000e+02     5.380000e+02     5.380000e+02     5.380000e+02   \n",
       "mean         -1.096190e-15    -1.565043e-15    -4.622490e-16    -4.622490e-17   \n",
       "std           1.000931e+00     1.000931e+00     1.000931e+00     1.000931e+00   \n",
       "min          -1.419765e+00    -1.293557e+00    -1.257049e+00    -1.354207e+00   \n",
       "25%          -7.499039e-01    -7.580760e-01    -7.437905e-01    -7.809255e-01   \n",
       "50%          -1.737322e-01    -2.467648e-01    -2.000814e-01    -2.217044e-01   \n",
       "75%           5.735793e-01     5.525200e-01     4.432880e-01     5.551237e-01   \n",
       "max           4.176067e+00     5.014060e+00     6.616677e+00     3.804299e+00   \n",
       "\n",
       "gene_name  ENSG00000000971  ENSG00000001036  ENSG00000001084  ENSG00000001167  \\\n",
       "count         5.380000e+02     5.380000e+02     5.380000e+02     5.380000e+02   \n",
       "mean         -1.525422e-15    -5.282846e-16     5.745095e-16    -3.037636e-16   \n",
       "std           1.000931e+00     1.000931e+00     1.000931e+00     1.000931e+00   \n",
       "min          -1.396210e+00    -1.404151e+00    -1.418352e+00    -1.391291e+00   \n",
       "25%          -7.673854e-01    -8.259386e-01    -7.101051e-01    -8.023460e-01   \n",
       "50%          -1.909317e-01    -1.562122e-01    -2.037206e-01    -1.683214e-01   \n",
       "75%           5.961907e-01     6.381776e-01     5.415137e-01     6.548350e-01   \n",
       "max           3.402020e+00     3.968868e+00     5.122280e+00     4.689970e+00   \n",
       "\n",
       "gene_name  ENSG00000001460  ENSG00000001461  \n",
       "count         5.380000e+02     5.380000e+02  \n",
       "mean         -3.367814e-16    -7.594091e-17  \n",
       "std           1.000931e+00     1.000931e+00  \n",
       "min          -1.281362e+00    -1.314582e+00  \n",
       "25%          -7.790248e-01    -7.969525e-01  \n",
       "50%          -2.431525e-01    -2.335925e-01  \n",
       "75%           4.987937e-01     5.373771e-01  \n",
       "max           3.950493e+00     4.358734e+00  "
      ]
     },
     "metadata": {},
     "output_type": "display_data"
    }
   ],
   "source": [
    "scaled_data_stats = scaled_data.iloc[:,:10].describe()\n",
    "display(scaled_data_stats)"
   ]
  },
  {
   "cell_type": "markdown",
   "metadata": {
    "papermill": {
     "duration": 0.011069,
     "end_time": "2020-11-24T15:17:14.776791",
     "exception": false,
     "start_time": "2020-11-24T15:17:14.765722",
     "status": "completed"
    },
    "tags": []
   },
   "source": [
    "## Testing"
   ]
  },
  {
   "cell_type": "code",
   "execution_count": 14,
   "metadata": {
    "execution": {
     "iopub.execute_input": "2020-11-24T15:17:14.802222Z",
     "iopub.status.busy": "2020-11-24T15:17:14.801848Z",
     "iopub.status.idle": "2020-11-24T15:17:14.812066Z",
     "shell.execute_reply": "2020-11-24T15:17:14.811678Z"
    },
    "papermill": {
     "duration": 0.02417,
     "end_time": "2020-11-24T15:17:14.812157",
     "exception": false,
     "start_time": "2020-11-24T15:17:14.787987",
     "status": "completed"
    },
    "tags": []
   },
   "outputs": [],
   "source": [
    "assert np.all([np.isclose(scaled_data_stats.loc['mean', c], 0.0) for c in scaled_data_stats.columns])"
   ]
  },
  {
   "cell_type": "code",
   "execution_count": 15,
   "metadata": {
    "execution": {
     "iopub.execute_input": "2020-11-24T15:17:14.837327Z",
     "iopub.status.busy": "2020-11-24T15:17:14.836950Z",
     "iopub.status.idle": "2020-11-24T15:17:14.846743Z",
     "shell.execute_reply": "2020-11-24T15:17:14.846329Z"
    },
    "papermill": {
     "duration": 0.023286,
     "end_time": "2020-11-24T15:17:14.846834",
     "exception": false,
     "start_time": "2020-11-24T15:17:14.823548",
     "status": "completed"
    },
    "tags": []
   },
   "outputs": [],
   "source": [
    "assert np.all([np.isclose(scaled_data_stats.loc['std', c], 1.0, atol=1e-03) for c in scaled_data_stats.columns])"
   ]
  },
  {
   "cell_type": "markdown",
   "metadata": {
    "papermill": {
     "duration": 0.010619,
     "end_time": "2020-11-24T15:17:14.868401",
     "exception": false,
     "start_time": "2020-11-24T15:17:14.857782",
     "status": "completed"
    },
    "tags": []
   },
   "source": [
    "# Save"
   ]
  },
  {
   "cell_type": "code",
   "execution_count": 16,
   "metadata": {
    "execution": {
     "iopub.execute_input": "2020-11-24T15:17:14.892620Z",
     "iopub.status.busy": "2020-11-24T15:17:14.892239Z",
     "iopub.status.idle": "2020-11-24T15:17:14.902585Z",
     "shell.execute_reply": "2020-11-24T15:17:14.902258Z"
    },
    "papermill": {
     "duration": 0.0236,
     "end_time": "2020-11-24T15:17:14.902674",
     "exception": false,
     "start_time": "2020-11-24T15:17:14.879074",
     "status": "completed"
    },
    "tags": []
   },
   "outputs": [
    {
     "data": {
      "text/plain": [
       "PosixPath('/home/miltondp/projects/labs/greenelab/phenoplier/base/results/data_transformations/z_score_std/z_score_std-diseases_only-smultixcan-efo_partial-mashr-zscores.pkl')"
      ]
     },
     "metadata": {},
     "output_type": "display_data"
    }
   ],
   "source": [
    "output_file = Path(\n",
    "    RESULTS_DIR,\n",
    "    f'z_score_std-{input_filepath_stem}.pkl',\n",
    ").resolve()\n",
    "\n",
    "display(output_file)"
   ]
  },
  {
   "cell_type": "code",
   "execution_count": 17,
   "metadata": {
    "execution": {
     "iopub.execute_input": "2020-11-24T15:17:14.927426Z",
     "iopub.status.busy": "2020-11-24T15:17:14.927055Z",
     "iopub.status.idle": "2020-11-24T15:17:15.437323Z",
     "shell.execute_reply": "2020-11-24T15:17:15.435743Z"
    },
    "papermill": {
     "duration": 0.523712,
     "end_time": "2020-11-24T15:17:15.437672",
     "exception": false,
     "start_time": "2020-11-24T15:17:14.913960",
     "status": "completed"
    },
    "tags": []
   },
   "outputs": [],
   "source": [
    "scaled_data.to_pickle(output_file)"
   ]
  },
  {
   "cell_type": "code",
   "execution_count": null,
   "metadata": {
    "papermill": {
     "duration": 0.010923,
     "end_time": "2020-11-24T15:17:15.460875",
     "exception": false,
     "start_time": "2020-11-24T15:17:15.449952",
     "status": "completed"
    },
    "tags": []
   },
   "outputs": [],
   "source": []
  }
 ],
 "metadata": {
  "kernelspec": {
   "display_name": "Python 3",
   "language": "python",
   "name": "python3"
  },
  "language_info": {
   "codemirror_mode": {
    "name": "ipython",
    "version": 3
   },
   "file_extension": ".py",
   "mimetype": "text/x-python",
   "name": "python",
   "nbconvert_exporter": "python",
   "pygments_lexer": "ipython3",
   "version": "3.8.6"
  },
  "papermill": {
   "default_parameters": {},
   "duration": 4.195896,
   "end_time": "2020-11-24T15:17:16.709240",
   "environment_variables": {},
   "exception": null,
   "input_path": "10_data_transformations/001_01-z_score_std-smultixcan_efo.ipynb",
   "output_path": "10_data_transformations/001_01-z_score_std-smultixcan_efo.run.ipynb",
   "parameters": {},
   "start_time": "2020-11-24T15:17:12.513344",
   "version": "2.2.2"
  },
  "toc-autonumbering": true,
  "toc-showcode": false,
  "toc-showmarkdowntxt": false,
  "toc-showtags": false
 },
 "nbformat": 4,
 "nbformat_minor": 4
}