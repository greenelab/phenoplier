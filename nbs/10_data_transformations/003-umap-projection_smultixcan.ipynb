{
 "cells": [
  {
   "cell_type": "markdown",
   "metadata": {},
   "source": [
    "# Description"
   ]
  },
  {
   "cell_type": "markdown",
   "metadata": {},
   "source": [
    "It projects input data into a UMAP representation."
   ]
  },
  {
   "cell_type": "markdown",
   "metadata": {},
   "source": [
    "# Modules loading"
   ]
  },
  {
   "cell_type": "code",
   "execution_count": null,
   "metadata": {},
   "outputs": [],
   "source": [
    "%load_ext autoreload\n",
    "%autoreload 2"
   ]
  },
  {
   "cell_type": "code",
   "execution_count": 2,
   "metadata": {},
   "outputs": [],
   "source": [
    "from pathlib import Path\n",
    "from IPython.display import display\n",
    "\n",
    "import pandas as pd\n",
    "import umap\n",
    "import matplotlib.pyplot as plt\n",
    "import seaborn as sns\n",
    "\n",
    "import conf\n",
    "from utils import generate_result_set_name"
   ]
  },
  {
   "cell_type": "markdown",
   "metadata": {},
   "source": [
    "# Settings"
   ]
  },
  {
   "cell_type": "code",
   "execution_count": 3,
   "metadata": {},
   "outputs": [
    {
     "data": {
      "text/plain": [
       "PosixPath('/media/miltondp/Elements1/projects/phenoplier/results/projections/projection-smultixcan-mashr-zscores.pkl')"
      ]
     },
     "metadata": {},
     "output_type": "display_data"
    },
    {
     "data": {
      "text/plain": [
       "'projection-smultixcan-mashr-zscores'"
      ]
     },
     "metadata": {},
     "output_type": "display_data"
    }
   ],
   "source": [
    "INPUT_FILEPATH = Path(\n",
    "    conf.RESULTS['PROJECTIONS_DIR'],\n",
    "    'projection-smultixcan-mashr-zscores.pkl'\n",
    ").resolve()\n",
    "display(INPUT_FILEPATH)\n",
    "\n",
    "input_filepath_stem = INPUT_FILEPATH.stem\n",
    "display(input_filepath_stem)"
   ]
  },
  {
   "cell_type": "code",
   "execution_count": 4,
   "metadata": {},
   "outputs": [],
   "source": [
    "# number of components to use in the dimensionality reduction step\n",
    "DR_OPTIONS = {\n",
    "    'n_components': [5, 10, 20, 30, 40, 50],\n",
    "    'metric': 'euclidean',\n",
    "    'n_neighbors': 15,\n",
    "    'random_state': 0,\n",
    "}"
   ]
  },
  {
   "cell_type": "code",
   "execution_count": 5,
   "metadata": {},
   "outputs": [
    {
     "data": {
      "text/plain": [
       "PosixPath('/media/miltondp/Elements1/projects/phenoplier/results/data_transformations/umap')"
      ]
     },
     "metadata": {},
     "output_type": "display_data"
    }
   ],
   "source": [
    "# output dir for this notebook\n",
    "RESULTS_DIR = Path(\n",
    "    conf.RESULTS[\"DATA_TRANSFORMATIONS_DIR\"],\n",
    "    'umap'\n",
    ").resolve()\n",
    "RESULTS_DIR.mkdir(parents=True, exist_ok=True)\n",
    "\n",
    "display(RESULTS_DIR)"
   ]
  },
  {
   "cell_type": "code",
   "execution_count": 6,
   "metadata": {},
   "outputs": [
    {
     "data": {
      "text/plain": [
       "{'n_components': [5, 10, 20, 30, 40, 50],\n",
       " 'metric': 'euclidean',\n",
       " 'n_neighbors': 15,\n",
       " 'random_state': 0}"
      ]
     },
     "metadata": {},
     "output_type": "display_data"
    }
   ],
   "source": [
    "# dictionary containing all options/settings (used to generate filenames)\n",
    "ALL_OPTIONS = DR_OPTIONS.copy()\n",
    "# ALL_OPTIONS['proj_percentile'] = PERCENTILE_NAME\n",
    "\n",
    "display(ALL_OPTIONS)"
   ]
  },
  {
   "cell_type": "markdown",
   "metadata": {},
   "source": [
    "# Load input file"
   ]
  },
  {
   "cell_type": "code",
   "execution_count": 7,
   "metadata": {},
   "outputs": [],
   "source": [
    "data = pd.read_pickle(INPUT_FILEPATH).T"
   ]
  },
  {
   "cell_type": "code",
   "execution_count": 8,
   "metadata": {},
   "outputs": [
    {
     "data": {
      "text/plain": [
       "(4091, 987)"
      ]
     },
     "execution_count": 8,
     "metadata": {},
     "output_type": "execute_result"
    }
   ],
   "source": [
    "data.shape"
   ]
  },
  {
   "cell_type": "code",
   "execution_count": 9,
   "metadata": {},
   "outputs": [
    {
     "data": {
      "text/html": [
       "<div>\n",
       "<style scoped>\n",
       "    .dataframe tbody tr th:only-of-type {\n",
       "        vertical-align: middle;\n",
       "    }\n",
       "\n",
       "    .dataframe tbody tr th {\n",
       "        vertical-align: top;\n",
       "    }\n",
       "\n",
       "    .dataframe thead th {\n",
       "        text-align: right;\n",
       "    }\n",
       "</style>\n",
       "<table border=\"1\" class=\"dataframe\">\n",
       "  <thead>\n",
       "    <tr style=\"text-align: right;\">\n",
       "      <th></th>\n",
       "      <th>LV1</th>\n",
       "      <th>LV2</th>\n",
       "      <th>LV3</th>\n",
       "      <th>LV4</th>\n",
       "      <th>LV5</th>\n",
       "      <th>LV6</th>\n",
       "      <th>LV7</th>\n",
       "      <th>LV8</th>\n",
       "      <th>LV9</th>\n",
       "      <th>LV10</th>\n",
       "      <th>...</th>\n",
       "      <th>LV978</th>\n",
       "      <th>LV979</th>\n",
       "      <th>LV980</th>\n",
       "      <th>LV981</th>\n",
       "      <th>LV982</th>\n",
       "      <th>LV983</th>\n",
       "      <th>LV984</th>\n",
       "      <th>LV985</th>\n",
       "      <th>LV986</th>\n",
       "      <th>LV987</th>\n",
       "    </tr>\n",
       "  </thead>\n",
       "  <tbody>\n",
       "    <tr>\n",
       "      <th>20096_1-Size_of_red_wine_glass_drunk_small_125ml</th>\n",
       "      <td>-0.026255</td>\n",
       "      <td>-0.006253</td>\n",
       "      <td>-0.002729</td>\n",
       "      <td>0.042319</td>\n",
       "      <td>-0.025975</td>\n",
       "      <td>0.022122</td>\n",
       "      <td>0.004249</td>\n",
       "      <td>-0.015139</td>\n",
       "      <td>-0.001912</td>\n",
       "      <td>-0.021863</td>\n",
       "      <td>...</td>\n",
       "      <td>-0.024305</td>\n",
       "      <td>-0.021982</td>\n",
       "      <td>-0.020533</td>\n",
       "      <td>-0.001901</td>\n",
       "      <td>-0.019043</td>\n",
       "      <td>0.006065</td>\n",
       "      <td>-0.042334</td>\n",
       "      <td>-0.025743</td>\n",
       "      <td>0.003379</td>\n",
       "      <td>0.003053</td>\n",
       "    </tr>\n",
       "    <tr>\n",
       "      <th>2345-Ever_had_bowel_cancer_screening</th>\n",
       "      <td>0.006045</td>\n",
       "      <td>-0.023996</td>\n",
       "      <td>0.051637</td>\n",
       "      <td>-0.023236</td>\n",
       "      <td>0.002167</td>\n",
       "      <td>-0.009903</td>\n",
       "      <td>-0.036104</td>\n",
       "      <td>0.008751</td>\n",
       "      <td>0.004731</td>\n",
       "      <td>0.035955</td>\n",
       "      <td>...</td>\n",
       "      <td>0.030414</td>\n",
       "      <td>0.015316</td>\n",
       "      <td>0.023236</td>\n",
       "      <td>0.040670</td>\n",
       "      <td>0.002873</td>\n",
       "      <td>0.007549</td>\n",
       "      <td>0.043547</td>\n",
       "      <td>-0.037085</td>\n",
       "      <td>0.043986</td>\n",
       "      <td>0.001230</td>\n",
       "    </tr>\n",
       "    <tr>\n",
       "      <th>N49-Diagnoses_main_ICD10_N49_Inflammatory_disorders_of_male_genital_organs_not_elsewhere_classified</th>\n",
       "      <td>0.007276</td>\n",
       "      <td>0.037932</td>\n",
       "      <td>-0.013182</td>\n",
       "      <td>0.063016</td>\n",
       "      <td>-0.022646</td>\n",
       "      <td>0.013733</td>\n",
       "      <td>0.022293</td>\n",
       "      <td>-0.020302</td>\n",
       "      <td>-0.005819</td>\n",
       "      <td>-0.026274</td>\n",
       "      <td>...</td>\n",
       "      <td>0.002066</td>\n",
       "      <td>-0.006492</td>\n",
       "      <td>-0.003635</td>\n",
       "      <td>0.017402</td>\n",
       "      <td>-0.034985</td>\n",
       "      <td>0.032009</td>\n",
       "      <td>-0.009513</td>\n",
       "      <td>0.020852</td>\n",
       "      <td>0.005649</td>\n",
       "      <td>-0.003510</td>\n",
       "    </tr>\n",
       "    <tr>\n",
       "      <th>100011_raw-Iron</th>\n",
       "      <td>-0.029740</td>\n",
       "      <td>-0.000018</td>\n",
       "      <td>-0.001663</td>\n",
       "      <td>-0.002628</td>\n",
       "      <td>0.004559</td>\n",
       "      <td>0.026327</td>\n",
       "      <td>0.000334</td>\n",
       "      <td>0.057850</td>\n",
       "      <td>-0.011335</td>\n",
       "      <td>0.036659</td>\n",
       "      <td>...</td>\n",
       "      <td>0.017457</td>\n",
       "      <td>0.026494</td>\n",
       "      <td>-0.018653</td>\n",
       "      <td>0.016464</td>\n",
       "      <td>0.013154</td>\n",
       "      <td>-0.022661</td>\n",
       "      <td>0.013973</td>\n",
       "      <td>0.033139</td>\n",
       "      <td>-0.049358</td>\n",
       "      <td>-0.030986</td>\n",
       "    </tr>\n",
       "    <tr>\n",
       "      <th>5221-Index_of_best_refractometry_result_right</th>\n",
       "      <td>-0.001949</td>\n",
       "      <td>-0.016128</td>\n",
       "      <td>0.035221</td>\n",
       "      <td>-0.046487</td>\n",
       "      <td>0.004649</td>\n",
       "      <td>-0.032353</td>\n",
       "      <td>0.002471</td>\n",
       "      <td>0.006538</td>\n",
       "      <td>0.001404</td>\n",
       "      <td>0.039243</td>\n",
       "      <td>...</td>\n",
       "      <td>0.038107</td>\n",
       "      <td>-0.005864</td>\n",
       "      <td>-0.011039</td>\n",
       "      <td>0.013418</td>\n",
       "      <td>-0.010531</td>\n",
       "      <td>-0.026655</td>\n",
       "      <td>-0.020884</td>\n",
       "      <td>-0.024993</td>\n",
       "      <td>0.011461</td>\n",
       "      <td>0.016251</td>\n",
       "    </tr>\n",
       "  </tbody>\n",
       "</table>\n",
       "<p>5 rows × 987 columns</p>\n",
       "</div>"
      ],
      "text/plain": [
       "                                                         LV1       LV2  \\\n",
       "20096_1-Size_of_red_wine_glass_drunk_small_125ml   -0.026255 -0.006253   \n",
       "2345-Ever_had_bowel_cancer_screening                0.006045 -0.023996   \n",
       "N49-Diagnoses_main_ICD10_N49_Inflammatory_disor...  0.007276  0.037932   \n",
       "100011_raw-Iron                                    -0.029740 -0.000018   \n",
       "5221-Index_of_best_refractometry_result_right      -0.001949 -0.016128   \n",
       "\n",
       "                                                         LV3       LV4  \\\n",
       "20096_1-Size_of_red_wine_glass_drunk_small_125ml   -0.002729  0.042319   \n",
       "2345-Ever_had_bowel_cancer_screening                0.051637 -0.023236   \n",
       "N49-Diagnoses_main_ICD10_N49_Inflammatory_disor... -0.013182  0.063016   \n",
       "100011_raw-Iron                                    -0.001663 -0.002628   \n",
       "5221-Index_of_best_refractometry_result_right       0.035221 -0.046487   \n",
       "\n",
       "                                                         LV5       LV6  \\\n",
       "20096_1-Size_of_red_wine_glass_drunk_small_125ml   -0.025975  0.022122   \n",
       "2345-Ever_had_bowel_cancer_screening                0.002167 -0.009903   \n",
       "N49-Diagnoses_main_ICD10_N49_Inflammatory_disor... -0.022646  0.013733   \n",
       "100011_raw-Iron                                     0.004559  0.026327   \n",
       "5221-Index_of_best_refractometry_result_right       0.004649 -0.032353   \n",
       "\n",
       "                                                         LV7       LV8  \\\n",
       "20096_1-Size_of_red_wine_glass_drunk_small_125ml    0.004249 -0.015139   \n",
       "2345-Ever_had_bowel_cancer_screening               -0.036104  0.008751   \n",
       "N49-Diagnoses_main_ICD10_N49_Inflammatory_disor...  0.022293 -0.020302   \n",
       "100011_raw-Iron                                     0.000334  0.057850   \n",
       "5221-Index_of_best_refractometry_result_right       0.002471  0.006538   \n",
       "\n",
       "                                                         LV9      LV10  ...  \\\n",
       "20096_1-Size_of_red_wine_glass_drunk_small_125ml   -0.001912 -0.021863  ...   \n",
       "2345-Ever_had_bowel_cancer_screening                0.004731  0.035955  ...   \n",
       "N49-Diagnoses_main_ICD10_N49_Inflammatory_disor... -0.005819 -0.026274  ...   \n",
       "100011_raw-Iron                                    -0.011335  0.036659  ...   \n",
       "5221-Index_of_best_refractometry_result_right       0.001404  0.039243  ...   \n",
       "\n",
       "                                                       LV978     LV979  \\\n",
       "20096_1-Size_of_red_wine_glass_drunk_small_125ml   -0.024305 -0.021982   \n",
       "2345-Ever_had_bowel_cancer_screening                0.030414  0.015316   \n",
       "N49-Diagnoses_main_ICD10_N49_Inflammatory_disor...  0.002066 -0.006492   \n",
       "100011_raw-Iron                                     0.017457  0.026494   \n",
       "5221-Index_of_best_refractometry_result_right       0.038107 -0.005864   \n",
       "\n",
       "                                                       LV980     LV981  \\\n",
       "20096_1-Size_of_red_wine_glass_drunk_small_125ml   -0.020533 -0.001901   \n",
       "2345-Ever_had_bowel_cancer_screening                0.023236  0.040670   \n",
       "N49-Diagnoses_main_ICD10_N49_Inflammatory_disor... -0.003635  0.017402   \n",
       "100011_raw-Iron                                    -0.018653  0.016464   \n",
       "5221-Index_of_best_refractometry_result_right      -0.011039  0.013418   \n",
       "\n",
       "                                                       LV982     LV983  \\\n",
       "20096_1-Size_of_red_wine_glass_drunk_small_125ml   -0.019043  0.006065   \n",
       "2345-Ever_had_bowel_cancer_screening                0.002873  0.007549   \n",
       "N49-Diagnoses_main_ICD10_N49_Inflammatory_disor... -0.034985  0.032009   \n",
       "100011_raw-Iron                                     0.013154 -0.022661   \n",
       "5221-Index_of_best_refractometry_result_right      -0.010531 -0.026655   \n",
       "\n",
       "                                                       LV984     LV985  \\\n",
       "20096_1-Size_of_red_wine_glass_drunk_small_125ml   -0.042334 -0.025743   \n",
       "2345-Ever_had_bowel_cancer_screening                0.043547 -0.037085   \n",
       "N49-Diagnoses_main_ICD10_N49_Inflammatory_disor... -0.009513  0.020852   \n",
       "100011_raw-Iron                                     0.013973  0.033139   \n",
       "5221-Index_of_best_refractometry_result_right      -0.020884 -0.024993   \n",
       "\n",
       "                                                       LV986     LV987  \n",
       "20096_1-Size_of_red_wine_glass_drunk_small_125ml    0.003379  0.003053  \n",
       "2345-Ever_had_bowel_cancer_screening                0.043986  0.001230  \n",
       "N49-Diagnoses_main_ICD10_N49_Inflammatory_disor...  0.005649 -0.003510  \n",
       "100011_raw-Iron                                    -0.049358 -0.030986  \n",
       "5221-Index_of_best_refractometry_result_right       0.011461  0.016251  \n",
       "\n",
       "[5 rows x 987 columns]"
      ]
     },
     "execution_count": 9,
     "metadata": {},
     "output_type": "execute_result"
    }
   ],
   "source": [
    "data.head()"
   ]
  },
  {
   "cell_type": "markdown",
   "metadata": {},
   "source": [
    "# UMAP"
   ]
  },
  {
   "cell_type": "code",
   "execution_count": 10,
   "metadata": {},
   "outputs": [],
   "source": [
    "def get_umap_proj(orig_data, options):\n",
    "    umap_obj = umap.UMAP(**{k:v for k, v in options.items() if k in DR_OPTIONS})\n",
    "    umap_obj = umap_obj.fit(orig_data)\n",
    "    umap_data = umap_obj.transform(orig_data)\n",
    "    return pd.DataFrame(\n",
    "        data=umap_data,\n",
    "        index=orig_data.index.copy(),\n",
    "        columns=[f'UMAP{i+1}' for i in range(umap_data.shape[1])]\n",
    "    )"
   ]
  },
  {
   "cell_type": "code",
   "execution_count": 11,
   "metadata": {},
   "outputs": [
    {
     "name": "stdout",
     "output_type": "stream",
     "text": [
      "# components: 5\n"
     ]
    },
    {
     "data": {
      "text/plain": [
       "(4091, 5)"
      ]
     },
     "metadata": {},
     "output_type": "display_data"
    },
    {
     "data": {
      "text/html": [
       "<div>\n",
       "<style scoped>\n",
       "    .dataframe tbody tr th:only-of-type {\n",
       "        vertical-align: middle;\n",
       "    }\n",
       "\n",
       "    .dataframe tbody tr th {\n",
       "        vertical-align: top;\n",
       "    }\n",
       "\n",
       "    .dataframe thead th {\n",
       "        text-align: right;\n",
       "    }\n",
       "</style>\n",
       "<table border=\"1\" class=\"dataframe\">\n",
       "  <thead>\n",
       "    <tr style=\"text-align: right;\">\n",
       "      <th></th>\n",
       "      <th>UMAP1</th>\n",
       "      <th>UMAP2</th>\n",
       "      <th>UMAP3</th>\n",
       "      <th>UMAP4</th>\n",
       "      <th>UMAP5</th>\n",
       "    </tr>\n",
       "  </thead>\n",
       "  <tbody>\n",
       "    <tr>\n",
       "      <th>count</th>\n",
       "      <td>4091.000000</td>\n",
       "      <td>4091.000000</td>\n",
       "      <td>4091.000000</td>\n",
       "      <td>4091.000000</td>\n",
       "      <td>4091.000000</td>\n",
       "    </tr>\n",
       "    <tr>\n",
       "      <th>mean</th>\n",
       "      <td>15.092049</td>\n",
       "      <td>-0.340451</td>\n",
       "      <td>-4.964131</td>\n",
       "      <td>14.045987</td>\n",
       "      <td>14.192043</td>\n",
       "    </tr>\n",
       "    <tr>\n",
       "      <th>std</th>\n",
       "      <td>1.316540</td>\n",
       "      <td>0.769260</td>\n",
       "      <td>1.012424</td>\n",
       "      <td>1.112881</td>\n",
       "      <td>0.753357</td>\n",
       "    </tr>\n",
       "    <tr>\n",
       "      <th>min</th>\n",
       "      <td>4.432586</td>\n",
       "      <td>-2.033457</td>\n",
       "      <td>-7.016301</td>\n",
       "      <td>5.509353</td>\n",
       "      <td>9.877634</td>\n",
       "    </tr>\n",
       "    <tr>\n",
       "      <th>25%</th>\n",
       "      <td>14.813584</td>\n",
       "      <td>-0.757855</td>\n",
       "      <td>-5.511229</td>\n",
       "      <td>13.744675</td>\n",
       "      <td>13.829367</td>\n",
       "    </tr>\n",
       "    <tr>\n",
       "      <th>50%</th>\n",
       "      <td>15.274920</td>\n",
       "      <td>-0.367994</td>\n",
       "      <td>-5.082349</td>\n",
       "      <td>14.125525</td>\n",
       "      <td>14.244704</td>\n",
       "    </tr>\n",
       "    <tr>\n",
       "      <th>75%</th>\n",
       "      <td>15.698419</td>\n",
       "      <td>0.025582</td>\n",
       "      <td>-4.611725</td>\n",
       "      <td>14.593624</td>\n",
       "      <td>14.684642</td>\n",
       "    </tr>\n",
       "    <tr>\n",
       "      <th>max</th>\n",
       "      <td>17.144167</td>\n",
       "      <td>11.622155</td>\n",
       "      <td>5.723032</td>\n",
       "      <td>15.972184</td>\n",
       "      <td>16.314999</td>\n",
       "    </tr>\n",
       "  </tbody>\n",
       "</table>\n",
       "</div>"
      ],
      "text/plain": [
       "             UMAP1        UMAP2        UMAP3        UMAP4        UMAP5\n",
       "count  4091.000000  4091.000000  4091.000000  4091.000000  4091.000000\n",
       "mean     15.092049    -0.340451    -4.964131    14.045987    14.192043\n",
       "std       1.316540     0.769260     1.012424     1.112881     0.753357\n",
       "min       4.432586    -2.033457    -7.016301     5.509353     9.877634\n",
       "25%      14.813584    -0.757855    -5.511229    13.744675    13.829367\n",
       "50%      15.274920    -0.367994    -5.082349    14.125525    14.244704\n",
       "75%      15.698419     0.025582    -4.611725    14.593624    14.684642\n",
       "max      17.144167    11.622155     5.723032    15.972184    16.314999"
      ]
     },
     "metadata": {},
     "output_type": "display_data"
    },
    {
     "data": {
      "text/plain": [
       "PosixPath('/media/miltondp/Elements1/projects/phenoplier/results/data_transformations/umap/umap-projection-smultixcan-mashr-zscores-metric_euclidean-n_components_5-n_neighbors_15-random_state_0.pkl')"
      ]
     },
     "metadata": {},
     "output_type": "display_data"
    },
    {
     "name": "stdout",
     "output_type": "stream",
     "text": [
      "\n",
      "\n",
      "# components: 10\n"
     ]
    },
    {
     "data": {
      "text/plain": [
       "(4091, 10)"
      ]
     },
     "metadata": {},
     "output_type": "display_data"
    },
    {
     "data": {
      "text/html": [
       "<div>\n",
       "<style scoped>\n",
       "    .dataframe tbody tr th:only-of-type {\n",
       "        vertical-align: middle;\n",
       "    }\n",
       "\n",
       "    .dataframe tbody tr th {\n",
       "        vertical-align: top;\n",
       "    }\n",
       "\n",
       "    .dataframe thead th {\n",
       "        text-align: right;\n",
       "    }\n",
       "</style>\n",
       "<table border=\"1\" class=\"dataframe\">\n",
       "  <thead>\n",
       "    <tr style=\"text-align: right;\">\n",
       "      <th></th>\n",
       "      <th>UMAP1</th>\n",
       "      <th>UMAP2</th>\n",
       "      <th>UMAP3</th>\n",
       "      <th>UMAP4</th>\n",
       "      <th>UMAP5</th>\n",
       "    </tr>\n",
       "  </thead>\n",
       "  <tbody>\n",
       "    <tr>\n",
       "      <th>count</th>\n",
       "      <td>4091.000000</td>\n",
       "      <td>4091.000000</td>\n",
       "      <td>4091.000000</td>\n",
       "      <td>4091.000000</td>\n",
       "      <td>4091.000000</td>\n",
       "    </tr>\n",
       "    <tr>\n",
       "      <th>mean</th>\n",
       "      <td>14.114046</td>\n",
       "      <td>-1.962394</td>\n",
       "      <td>-2.638373</td>\n",
       "      <td>6.341091</td>\n",
       "      <td>2.594998</td>\n",
       "    </tr>\n",
       "    <tr>\n",
       "      <th>std</th>\n",
       "      <td>1.100211</td>\n",
       "      <td>0.730504</td>\n",
       "      <td>0.613221</td>\n",
       "      <td>0.420210</td>\n",
       "      <td>0.515559</td>\n",
       "    </tr>\n",
       "    <tr>\n",
       "      <th>min</th>\n",
       "      <td>4.675219</td>\n",
       "      <td>-3.127305</td>\n",
       "      <td>-3.985117</td>\n",
       "      <td>4.532813</td>\n",
       "      <td>-0.371966</td>\n",
       "    </tr>\n",
       "    <tr>\n",
       "      <th>25%</th>\n",
       "      <td>13.946414</td>\n",
       "      <td>-2.278970</td>\n",
       "      <td>-2.929388</td>\n",
       "      <td>6.054004</td>\n",
       "      <td>2.376227</td>\n",
       "    </tr>\n",
       "    <tr>\n",
       "      <th>50%</th>\n",
       "      <td>14.251517</td>\n",
       "      <td>-1.990373</td>\n",
       "      <td>-2.673989</td>\n",
       "      <td>6.329113</td>\n",
       "      <td>2.666520</td>\n",
       "    </tr>\n",
       "    <tr>\n",
       "      <th>75%</th>\n",
       "      <td>14.516145</td>\n",
       "      <td>-1.701694</td>\n",
       "      <td>-2.435909</td>\n",
       "      <td>6.638990</td>\n",
       "      <td>2.924531</td>\n",
       "    </tr>\n",
       "    <tr>\n",
       "      <th>max</th>\n",
       "      <td>15.790355</td>\n",
       "      <td>11.241449</td>\n",
       "      <td>5.536536</td>\n",
       "      <td>7.376374</td>\n",
       "      <td>3.783902</td>\n",
       "    </tr>\n",
       "  </tbody>\n",
       "</table>\n",
       "</div>"
      ],
      "text/plain": [
       "             UMAP1        UMAP2        UMAP3        UMAP4        UMAP5\n",
       "count  4091.000000  4091.000000  4091.000000  4091.000000  4091.000000\n",
       "mean     14.114046    -1.962394    -2.638373     6.341091     2.594998\n",
       "std       1.100211     0.730504     0.613221     0.420210     0.515559\n",
       "min       4.675219    -3.127305    -3.985117     4.532813    -0.371966\n",
       "25%      13.946414    -2.278970    -2.929388     6.054004     2.376227\n",
       "50%      14.251517    -1.990373    -2.673989     6.329113     2.666520\n",
       "75%      14.516145    -1.701694    -2.435909     6.638990     2.924531\n",
       "max      15.790355    11.241449     5.536536     7.376374     3.783902"
      ]
     },
     "metadata": {},
     "output_type": "display_data"
    },
    {
     "data": {
      "text/plain": [
       "PosixPath('/media/miltondp/Elements1/projects/phenoplier/results/data_transformations/umap/umap-projection-smultixcan-mashr-zscores-metric_euclidean-n_components_10-n_neighbors_15-random_state_0.pkl')"
      ]
     },
     "metadata": {},
     "output_type": "display_data"
    },
    {
     "name": "stdout",
     "output_type": "stream",
     "text": [
      "\n",
      "\n",
      "# components: 20\n"
     ]
    },
    {
     "data": {
      "text/plain": [
       "(4091, 20)"
      ]
     },
     "metadata": {},
     "output_type": "display_data"
    },
    {
     "data": {
      "text/html": [
       "<div>\n",
       "<style scoped>\n",
       "    .dataframe tbody tr th:only-of-type {\n",
       "        vertical-align: middle;\n",
       "    }\n",
       "\n",
       "    .dataframe tbody tr th {\n",
       "        vertical-align: top;\n",
       "    }\n",
       "\n",
       "    .dataframe thead th {\n",
       "        text-align: right;\n",
       "    }\n",
       "</style>\n",
       "<table border=\"1\" class=\"dataframe\">\n",
       "  <thead>\n",
       "    <tr style=\"text-align: right;\">\n",
       "      <th></th>\n",
       "      <th>UMAP1</th>\n",
       "      <th>UMAP2</th>\n",
       "      <th>UMAP3</th>\n",
       "      <th>UMAP4</th>\n",
       "      <th>UMAP5</th>\n",
       "    </tr>\n",
       "  </thead>\n",
       "  <tbody>\n",
       "    <tr>\n",
       "      <th>count</th>\n",
       "      <td>4091.000000</td>\n",
       "      <td>4091.000000</td>\n",
       "      <td>4091.000000</td>\n",
       "      <td>4091.000000</td>\n",
       "      <td>4091.000000</td>\n",
       "    </tr>\n",
       "    <tr>\n",
       "      <th>mean</th>\n",
       "      <td>12.379113</td>\n",
       "      <td>11.666807</td>\n",
       "      <td>10.714803</td>\n",
       "      <td>4.733529</td>\n",
       "      <td>8.373384</td>\n",
       "    </tr>\n",
       "    <tr>\n",
       "      <th>std</th>\n",
       "      <td>0.745161</td>\n",
       "      <td>0.680411</td>\n",
       "      <td>0.452666</td>\n",
       "      <td>0.285059</td>\n",
       "      <td>0.299464</td>\n",
       "    </tr>\n",
       "    <tr>\n",
       "      <th>min</th>\n",
       "      <td>5.762298</td>\n",
       "      <td>-1.508844</td>\n",
       "      <td>4.444713</td>\n",
       "      <td>3.996361</td>\n",
       "      <td>7.587744</td>\n",
       "    </tr>\n",
       "    <tr>\n",
       "      <th>25%</th>\n",
       "      <td>12.261736</td>\n",
       "      <td>11.546385</td>\n",
       "      <td>10.560979</td>\n",
       "      <td>4.547041</td>\n",
       "      <td>8.172793</td>\n",
       "    </tr>\n",
       "    <tr>\n",
       "      <th>50%</th>\n",
       "      <td>12.446454</td>\n",
       "      <td>11.737701</td>\n",
       "      <td>10.738589</td>\n",
       "      <td>4.738097</td>\n",
       "      <td>8.341006</td>\n",
       "    </tr>\n",
       "    <tr>\n",
       "      <th>75%</th>\n",
       "      <td>12.638480</td>\n",
       "      <td>11.898720</td>\n",
       "      <td>10.931459</td>\n",
       "      <td>4.922190</td>\n",
       "      <td>8.528892</td>\n",
       "    </tr>\n",
       "    <tr>\n",
       "      <th>max</th>\n",
       "      <td>13.892657</td>\n",
       "      <td>12.458995</td>\n",
       "      <td>11.645790</td>\n",
       "      <td>5.693902</td>\n",
       "      <td>10.024713</td>\n",
       "    </tr>\n",
       "  </tbody>\n",
       "</table>\n",
       "</div>"
      ],
      "text/plain": [
       "             UMAP1        UMAP2        UMAP3        UMAP4        UMAP5\n",
       "count  4091.000000  4091.000000  4091.000000  4091.000000  4091.000000\n",
       "mean     12.379113    11.666807    10.714803     4.733529     8.373384\n",
       "std       0.745161     0.680411     0.452666     0.285059     0.299464\n",
       "min       5.762298    -1.508844     4.444713     3.996361     7.587744\n",
       "25%      12.261736    11.546385    10.560979     4.547041     8.172793\n",
       "50%      12.446454    11.737701    10.738589     4.738097     8.341006\n",
       "75%      12.638480    11.898720    10.931459     4.922190     8.528892\n",
       "max      13.892657    12.458995    11.645790     5.693902    10.024713"
      ]
     },
     "metadata": {},
     "output_type": "display_data"
    },
    {
     "data": {
      "text/plain": [
       "PosixPath('/media/miltondp/Elements1/projects/phenoplier/results/data_transformations/umap/umap-projection-smultixcan-mashr-zscores-metric_euclidean-n_components_20-n_neighbors_15-random_state_0.pkl')"
      ]
     },
     "metadata": {},
     "output_type": "display_data"
    },
    {
     "name": "stdout",
     "output_type": "stream",
     "text": [
      "\n",
      "\n",
      "# components: 30\n"
     ]
    },
    {
     "data": {
      "text/plain": [
       "(4091, 30)"
      ]
     },
     "metadata": {},
     "output_type": "display_data"
    },
    {
     "data": {
      "text/html": [
       "<div>\n",
       "<style scoped>\n",
       "    .dataframe tbody tr th:only-of-type {\n",
       "        vertical-align: middle;\n",
       "    }\n",
       "\n",
       "    .dataframe tbody tr th {\n",
       "        vertical-align: top;\n",
       "    }\n",
       "\n",
       "    .dataframe thead th {\n",
       "        text-align: right;\n",
       "    }\n",
       "</style>\n",
       "<table border=\"1\" class=\"dataframe\">\n",
       "  <thead>\n",
       "    <tr style=\"text-align: right;\">\n",
       "      <th></th>\n",
       "      <th>UMAP1</th>\n",
       "      <th>UMAP2</th>\n",
       "      <th>UMAP3</th>\n",
       "      <th>UMAP4</th>\n",
       "      <th>UMAP5</th>\n",
       "    </tr>\n",
       "  </thead>\n",
       "  <tbody>\n",
       "    <tr>\n",
       "      <th>count</th>\n",
       "      <td>4091.000000</td>\n",
       "      <td>4091.000000</td>\n",
       "      <td>4091.000000</td>\n",
       "      <td>4091.000000</td>\n",
       "      <td>4091.000000</td>\n",
       "    </tr>\n",
       "    <tr>\n",
       "      <th>mean</th>\n",
       "      <td>13.796386</td>\n",
       "      <td>11.985489</td>\n",
       "      <td>10.461631</td>\n",
       "      <td>6.011446</td>\n",
       "      <td>9.567186</td>\n",
       "    </tr>\n",
       "    <tr>\n",
       "      <th>std</th>\n",
       "      <td>0.970103</td>\n",
       "      <td>0.640118</td>\n",
       "      <td>0.515074</td>\n",
       "      <td>0.274747</td>\n",
       "      <td>0.214855</td>\n",
       "    </tr>\n",
       "    <tr>\n",
       "      <th>min</th>\n",
       "      <td>4.792209</td>\n",
       "      <td>-0.826455</td>\n",
       "      <td>2.435020</td>\n",
       "      <td>4.366706</td>\n",
       "      <td>8.867124</td>\n",
       "    </tr>\n",
       "    <tr>\n",
       "      <th>25%</th>\n",
       "      <td>13.736948</td>\n",
       "      <td>11.888051</td>\n",
       "      <td>10.368342</td>\n",
       "      <td>5.831102</td>\n",
       "      <td>9.439028</td>\n",
       "    </tr>\n",
       "    <tr>\n",
       "      <th>50%</th>\n",
       "      <td>13.922606</td>\n",
       "      <td>12.017317</td>\n",
       "      <td>10.538025</td>\n",
       "      <td>6.019228</td>\n",
       "      <td>9.563671</td>\n",
       "    </tr>\n",
       "    <tr>\n",
       "      <th>75%</th>\n",
       "      <td>14.086956</td>\n",
       "      <td>12.157341</td>\n",
       "      <td>10.667516</td>\n",
       "      <td>6.209161</td>\n",
       "      <td>9.695908</td>\n",
       "    </tr>\n",
       "    <tr>\n",
       "      <th>max</th>\n",
       "      <td>14.560080</td>\n",
       "      <td>13.214928</td>\n",
       "      <td>11.051181</td>\n",
       "      <td>7.344556</td>\n",
       "      <td>10.415008</td>\n",
       "    </tr>\n",
       "  </tbody>\n",
       "</table>\n",
       "</div>"
      ],
      "text/plain": [
       "             UMAP1        UMAP2        UMAP3        UMAP4        UMAP5\n",
       "count  4091.000000  4091.000000  4091.000000  4091.000000  4091.000000\n",
       "mean     13.796386    11.985489    10.461631     6.011446     9.567186\n",
       "std       0.970103     0.640118     0.515074     0.274747     0.214855\n",
       "min       4.792209    -0.826455     2.435020     4.366706     8.867124\n",
       "25%      13.736948    11.888051    10.368342     5.831102     9.439028\n",
       "50%      13.922606    12.017317    10.538025     6.019228     9.563671\n",
       "75%      14.086956    12.157341    10.667516     6.209161     9.695908\n",
       "max      14.560080    13.214928    11.051181     7.344556    10.415008"
      ]
     },
     "metadata": {},
     "output_type": "display_data"
    },
    {
     "data": {
      "text/plain": [
       "PosixPath('/media/miltondp/Elements1/projects/phenoplier/results/data_transformations/umap/umap-projection-smultixcan-mashr-zscores-metric_euclidean-n_components_30-n_neighbors_15-random_state_0.pkl')"
      ]
     },
     "metadata": {},
     "output_type": "display_data"
    },
    {
     "name": "stdout",
     "output_type": "stream",
     "text": [
      "\n",
      "\n",
      "# components: 40\n"
     ]
    },
    {
     "data": {
      "text/plain": [
       "(4091, 40)"
      ]
     },
     "metadata": {},
     "output_type": "display_data"
    },
    {
     "data": {
      "text/html": [
       "<div>\n",
       "<style scoped>\n",
       "    .dataframe tbody tr th:only-of-type {\n",
       "        vertical-align: middle;\n",
       "    }\n",
       "\n",
       "    .dataframe tbody tr th {\n",
       "        vertical-align: top;\n",
       "    }\n",
       "\n",
       "    .dataframe thead th {\n",
       "        text-align: right;\n",
       "    }\n",
       "</style>\n",
       "<table border=\"1\" class=\"dataframe\">\n",
       "  <thead>\n",
       "    <tr style=\"text-align: right;\">\n",
       "      <th></th>\n",
       "      <th>UMAP1</th>\n",
       "      <th>UMAP2</th>\n",
       "      <th>UMAP3</th>\n",
       "      <th>UMAP4</th>\n",
       "      <th>UMAP5</th>\n",
       "    </tr>\n",
       "  </thead>\n",
       "  <tbody>\n",
       "    <tr>\n",
       "      <th>count</th>\n",
       "      <td>4091.000000</td>\n",
       "      <td>4091.000000</td>\n",
       "      <td>4091.000000</td>\n",
       "      <td>4091.000000</td>\n",
       "      <td>4091.000000</td>\n",
       "    </tr>\n",
       "    <tr>\n",
       "      <th>mean</th>\n",
       "      <td>14.027572</td>\n",
       "      <td>10.882144</td>\n",
       "      <td>10.095325</td>\n",
       "      <td>6.049903</td>\n",
       "      <td>6.003493</td>\n",
       "    </tr>\n",
       "    <tr>\n",
       "      <th>std</th>\n",
       "      <td>0.914546</td>\n",
       "      <td>0.597263</td>\n",
       "      <td>0.466466</td>\n",
       "      <td>0.201895</td>\n",
       "      <td>0.518032</td>\n",
       "    </tr>\n",
       "    <tr>\n",
       "      <th>min</th>\n",
       "      <td>5.551249</td>\n",
       "      <td>-1.270937</td>\n",
       "      <td>2.817276</td>\n",
       "      <td>5.125857</td>\n",
       "      <td>5.263468</td>\n",
       "    </tr>\n",
       "    <tr>\n",
       "      <th>25%</th>\n",
       "      <td>14.038877</td>\n",
       "      <td>10.794255</td>\n",
       "      <td>9.986335</td>\n",
       "      <td>5.950322</td>\n",
       "      <td>5.760055</td>\n",
       "    </tr>\n",
       "    <tr>\n",
       "      <th>50%</th>\n",
       "      <td>14.157476</td>\n",
       "      <td>10.929843</td>\n",
       "      <td>10.144741</td>\n",
       "      <td>6.075797</td>\n",
       "      <td>5.899253</td>\n",
       "    </tr>\n",
       "    <tr>\n",
       "      <th>75%</th>\n",
       "      <td>14.262088</td>\n",
       "      <td>11.062300</td>\n",
       "      <td>10.282416</td>\n",
       "      <td>6.182686</td>\n",
       "      <td>6.067422</td>\n",
       "    </tr>\n",
       "    <tr>\n",
       "      <th>max</th>\n",
       "      <td>14.741997</td>\n",
       "      <td>11.541875</td>\n",
       "      <td>10.889355</td>\n",
       "      <td>6.557185</td>\n",
       "      <td>10.079408</td>\n",
       "    </tr>\n",
       "  </tbody>\n",
       "</table>\n",
       "</div>"
      ],
      "text/plain": [
       "             UMAP1        UMAP2        UMAP3        UMAP4        UMAP5\n",
       "count  4091.000000  4091.000000  4091.000000  4091.000000  4091.000000\n",
       "mean     14.027572    10.882144    10.095325     6.049903     6.003493\n",
       "std       0.914546     0.597263     0.466466     0.201895     0.518032\n",
       "min       5.551249    -1.270937     2.817276     5.125857     5.263468\n",
       "25%      14.038877    10.794255     9.986335     5.950322     5.760055\n",
       "50%      14.157476    10.929843    10.144741     6.075797     5.899253\n",
       "75%      14.262088    11.062300    10.282416     6.182686     6.067422\n",
       "max      14.741997    11.541875    10.889355     6.557185    10.079408"
      ]
     },
     "metadata": {},
     "output_type": "display_data"
    },
    {
     "data": {
      "text/plain": [
       "PosixPath('/media/miltondp/Elements1/projects/phenoplier/results/data_transformations/umap/umap-projection-smultixcan-mashr-zscores-metric_euclidean-n_components_40-n_neighbors_15-random_state_0.pkl')"
      ]
     },
     "metadata": {},
     "output_type": "display_data"
    },
    {
     "name": "stdout",
     "output_type": "stream",
     "text": [
      "\n",
      "\n",
      "# components: 50\n"
     ]
    },
    {
     "data": {
      "text/plain": [
       "(4091, 50)"
      ]
     },
     "metadata": {},
     "output_type": "display_data"
    },
    {
     "data": {
      "text/html": [
       "<div>\n",
       "<style scoped>\n",
       "    .dataframe tbody tr th:only-of-type {\n",
       "        vertical-align: middle;\n",
       "    }\n",
       "\n",
       "    .dataframe tbody tr th {\n",
       "        vertical-align: top;\n",
       "    }\n",
       "\n",
       "    .dataframe thead th {\n",
       "        text-align: right;\n",
       "    }\n",
       "</style>\n",
       "<table border=\"1\" class=\"dataframe\">\n",
       "  <thead>\n",
       "    <tr style=\"text-align: right;\">\n",
       "      <th></th>\n",
       "      <th>UMAP1</th>\n",
       "      <th>UMAP2</th>\n",
       "      <th>UMAP3</th>\n",
       "      <th>UMAP4</th>\n",
       "      <th>UMAP5</th>\n",
       "    </tr>\n",
       "  </thead>\n",
       "  <tbody>\n",
       "    <tr>\n",
       "      <th>count</th>\n",
       "      <td>4091.000000</td>\n",
       "      <td>4091.000000</td>\n",
       "      <td>4091.000000</td>\n",
       "      <td>4091.000000</td>\n",
       "      <td>4091.000000</td>\n",
       "    </tr>\n",
       "    <tr>\n",
       "      <th>mean</th>\n",
       "      <td>13.444895</td>\n",
       "      <td>8.559925</td>\n",
       "      <td>9.117065</td>\n",
       "      <td>5.899381</td>\n",
       "      <td>10.957607</td>\n",
       "    </tr>\n",
       "    <tr>\n",
       "      <th>std</th>\n",
       "      <td>0.915052</td>\n",
       "      <td>0.525422</td>\n",
       "      <td>0.412820</td>\n",
       "      <td>0.196807</td>\n",
       "      <td>0.252918</td>\n",
       "    </tr>\n",
       "    <tr>\n",
       "      <th>min</th>\n",
       "      <td>5.249570</td>\n",
       "      <td>-2.049825</td>\n",
       "      <td>2.373647</td>\n",
       "      <td>4.773959</td>\n",
       "      <td>9.093416</td>\n",
       "    </tr>\n",
       "    <tr>\n",
       "      <th>25%</th>\n",
       "      <td>13.425783</td>\n",
       "      <td>8.437731</td>\n",
       "      <td>9.007820</td>\n",
       "      <td>5.793877</td>\n",
       "      <td>10.841897</td>\n",
       "    </tr>\n",
       "    <tr>\n",
       "      <th>50%</th>\n",
       "      <td>13.569436</td>\n",
       "      <td>8.569058</td>\n",
       "      <td>9.131269</td>\n",
       "      <td>5.894562</td>\n",
       "      <td>10.977713</td>\n",
       "    </tr>\n",
       "    <tr>\n",
       "      <th>75%</th>\n",
       "      <td>13.717456</td>\n",
       "      <td>8.696826</td>\n",
       "      <td>9.250693</td>\n",
       "      <td>6.014483</td>\n",
       "      <td>11.110442</td>\n",
       "    </tr>\n",
       "    <tr>\n",
       "      <th>max</th>\n",
       "      <td>14.121567</td>\n",
       "      <td>9.907840</td>\n",
       "      <td>11.026827</td>\n",
       "      <td>6.498401</td>\n",
       "      <td>11.667341</td>\n",
       "    </tr>\n",
       "  </tbody>\n",
       "</table>\n",
       "</div>"
      ],
      "text/plain": [
       "             UMAP1        UMAP2        UMAP3        UMAP4        UMAP5\n",
       "count  4091.000000  4091.000000  4091.000000  4091.000000  4091.000000\n",
       "mean     13.444895     8.559925     9.117065     5.899381    10.957607\n",
       "std       0.915052     0.525422     0.412820     0.196807     0.252918\n",
       "min       5.249570    -2.049825     2.373647     4.773959     9.093416\n",
       "25%      13.425783     8.437731     9.007820     5.793877    10.841897\n",
       "50%      13.569436     8.569058     9.131269     5.894562    10.977713\n",
       "75%      13.717456     8.696826     9.250693     6.014483    11.110442\n",
       "max      14.121567     9.907840    11.026827     6.498401    11.667341"
      ]
     },
     "metadata": {},
     "output_type": "display_data"
    },
    {
     "data": {
      "text/plain": [
       "PosixPath('/media/miltondp/Elements1/projects/phenoplier/results/data_transformations/umap/umap-projection-smultixcan-mashr-zscores-metric_euclidean-n_components_50-n_neighbors_15-random_state_0.pkl')"
      ]
     },
     "metadata": {},
     "output_type": "display_data"
    },
    {
     "name": "stdout",
     "output_type": "stream",
     "text": [
      "\n",
      "\n"
     ]
    }
   ],
   "source": [
    "# for n_comp, n_neigh in product(DR_OPTIONS['n_components'], DR_OPTIONS['n_neighbors']):\n",
    "for n_comp in DR_OPTIONS['n_components']:\n",
    "    print(f'# components: {n_comp}')\n",
    "    \n",
    "    options = ALL_OPTIONS.copy()\n",
    "    options['n_components'] = n_comp\n",
    "    \n",
    "    dr_data = get_umap_proj(data, options)\n",
    "    \n",
    "    display(dr_data.shape)\n",
    "    assert dr_data.shape == (data.shape[0], n_comp)\n",
    "    \n",
    "    display(dr_data.iloc[:, 0:5].describe())\n",
    "    \n",
    "    # save\n",
    "    output_file = Path(\n",
    "        RESULTS_DIR,\n",
    "        generate_result_set_name(\n",
    "            options,\n",
    "            prefix=f'umap-{input_filepath_stem}-',\n",
    "            suffix='.pkl'\n",
    "        )\n",
    "    ).resolve()\n",
    "    display(output_file)\n",
    "    \n",
    "    dr_data.to_pickle(output_file)\n",
    "    \n",
    "    print('\\n')"
   ]
  },
  {
   "cell_type": "code",
   "execution_count": null,
   "metadata": {},
   "outputs": [],
   "source": []
  }
 ],
 "metadata": {
  "kernelspec": {
   "display_name": "Python 3",
   "language": "python",
   "name": "python3"
  },
  "language_info": {
   "codemirror_mode": {
    "name": "ipython",
    "version": 3
   },
   "file_extension": ".py",
   "mimetype": "text/x-python",
   "name": "python",
   "nbconvert_exporter": "python",
   "pygments_lexer": "ipython3",
   "version": "3.8.6"
  },
  "toc-autonumbering": true,
  "toc-showcode": false,
  "toc-showmarkdowntxt": false,
  "toc-showtags": false
 },
 "nbformat": 4,
 "nbformat_minor": 4
}
