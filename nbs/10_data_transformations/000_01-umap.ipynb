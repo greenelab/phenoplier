{
 "cells": [
  {
   "cell_type": "markdown",
   "metadata": {
    "papermill": {
     "duration": 0.010137,
     "end_time": "2020-11-30T18:31:33.121838",
     "exception": false,
     "start_time": "2020-11-30T18:31:33.111701",
     "status": "completed"
    },
    "tags": []
   },
   "source": [
    "# Description"
   ]
  },
  {
   "cell_type": "markdown",
   "metadata": {
    "papermill": {
     "duration": 0.006066,
     "end_time": "2020-11-30T18:31:33.134218",
     "exception": false,
     "start_time": "2020-11-30T18:31:33.128152",
     "status": "completed"
    },
    "tags": []
   },
   "source": [
    "It projects input data into a UMAP representation."
   ]
  },
  {
   "cell_type": "markdown",
   "metadata": {
    "papermill": {
     "duration": 0.006102,
     "end_time": "2020-11-30T18:31:33.146515",
     "exception": false,
     "start_time": "2020-11-30T18:31:33.140413",
     "status": "completed"
    },
    "tags": []
   },
   "source": [
    "# Modules loading"
   ]
  },
  {
   "cell_type": "code",
   "execution_count": 1,
   "metadata": {
    "execution": {
     "iopub.execute_input": "2020-11-30T18:31:33.162387Z",
     "iopub.status.busy": "2020-11-30T18:31:33.162018Z",
     "iopub.status.idle": "2020-11-30T18:31:33.169954Z",
     "shell.execute_reply": "2020-11-30T18:31:33.169502Z"
    },
    "papermill": {
     "duration": 0.017413,
     "end_time": "2020-11-30T18:31:33.170086",
     "exception": false,
     "start_time": "2020-11-30T18:31:33.152673",
     "status": "completed"
    },
    "tags": []
   },
   "outputs": [],
   "source": [
    "%load_ext autoreload\n",
    "%autoreload 2"
   ]
  },
  {
   "cell_type": "code",
   "execution_count": 2,
   "metadata": {
    "execution": {
     "iopub.execute_input": "2020-11-30T18:31:33.186169Z",
     "iopub.status.busy": "2020-11-30T18:31:33.185791Z",
     "iopub.status.idle": "2020-11-30T18:31:33.750834Z",
     "shell.execute_reply": "2020-11-30T18:31:33.750438Z"
    },
    "papermill": {
     "duration": 0.57397,
     "end_time": "2020-11-30T18:31:33.750950",
     "exception": false,
     "start_time": "2020-11-30T18:31:33.176980",
     "status": "completed"
    },
    "tags": []
   },
   "outputs": [],
   "source": [
    "from pathlib import Path\n",
    "from IPython.display import display\n",
    "\n",
    "import pandas as pd\n",
    "import matplotlib.pyplot as plt\n",
    "import seaborn as sns\n",
    "\n",
    "import conf\n",
    "from utils import generate_result_set_name"
   ]
  },
  {
   "cell_type": "markdown",
   "metadata": {
    "papermill": {
     "duration": 0.008085,
     "end_time": "2020-11-30T18:31:33.767559",
     "exception": false,
     "start_time": "2020-11-30T18:31:33.759474",
     "status": "completed"
    },
    "tags": []
   },
   "source": [
    "# Settings"
   ]
  },
  {
   "cell_type": "markdown",
   "metadata": {
    "papermill": {
     "duration": 0.007456,
     "end_time": "2020-11-30T18:31:33.783918",
     "exception": false,
     "start_time": "2020-11-30T18:31:33.776462",
     "status": "completed"
    },
    "tags": []
   },
   "source": [
    "## Input data"
   ]
  },
  {
   "cell_type": "code",
   "execution_count": 3,
   "metadata": {
    "execution": {
     "iopub.execute_input": "2020-11-30T18:31:33.800326Z",
     "iopub.status.busy": "2020-11-30T18:31:33.799938Z",
     "iopub.status.idle": "2020-11-30T18:31:33.809849Z",
     "shell.execute_reply": "2020-11-30T18:31:33.810148Z"
    },
    "papermill": {
     "duration": 0.019311,
     "end_time": "2020-11-30T18:31:33.810267",
     "exception": false,
     "start_time": "2020-11-30T18:31:33.790956",
     "status": "completed"
    },
    "tags": []
   },
   "outputs": [],
   "source": [
    "INPUT_FILEPATH_STEM = 'projection-smultixcan-efo_partial-mashr-zscores'"
   ]
  },
  {
   "cell_type": "code",
   "execution_count": 4,
   "metadata": {
    "execution": {
     "iopub.execute_input": "2020-11-30T18:31:33.827185Z",
     "iopub.status.busy": "2020-11-30T18:31:33.826783Z",
     "iopub.status.idle": "2020-11-30T18:31:33.840129Z",
     "shell.execute_reply": "2020-11-30T18:31:33.839751Z"
    },
    "papermill": {
     "duration": 0.022739,
     "end_time": "2020-11-30T18:31:33.840220",
     "exception": false,
     "start_time": "2020-11-30T18:31:33.817481",
     "status": "completed"
    },
    "tags": []
   },
   "outputs": [
    {
     "data": {
      "text/plain": [
       "PosixPath('/home/miltondp/projects/labs/greenelab/phenoplier/base/results/data_transformations/z_score_std/z_score_std-projection-smultixcan-efo_partial-mashr-zscores.pkl')"
      ]
     },
     "metadata": {},
     "output_type": "display_data"
    },
    {
     "data": {
      "text/plain": [
       "'z_score_std-projection-smultixcan-efo_partial-mashr-zscores'"
      ]
     },
     "metadata": {},
     "output_type": "display_data"
    }
   ],
   "source": [
    "INPUT_FILEPATH = Path(\n",
    "    conf.RESULTS[\"DATA_TRANSFORMATIONS_DIR\"],\n",
    "    'z_score_std',\n",
    "    f'z_score_std-{INPUT_FILEPATH_STEM}.pkl',\n",
    ").resolve()\n",
    "display(INPUT_FILEPATH)\n",
    "\n",
    "input_filepath_stem = INPUT_FILEPATH.stem\n",
    "display(input_filepath_stem)"
   ]
  },
  {
   "cell_type": "markdown",
   "metadata": {
    "papermill": {
     "duration": 0.008102,
     "end_time": "2020-11-30T18:31:33.856013",
     "exception": false,
     "start_time": "2020-11-30T18:31:33.847911",
     "status": "completed"
    },
    "tags": []
   },
   "source": [
    "## Output folder"
   ]
  },
  {
   "cell_type": "code",
   "execution_count": 5,
   "metadata": {
    "execution": {
     "iopub.execute_input": "2020-11-30T18:31:33.873940Z",
     "iopub.status.busy": "2020-11-30T18:31:33.873575Z",
     "iopub.status.idle": "2020-11-30T18:31:33.884255Z",
     "shell.execute_reply": "2020-11-30T18:31:33.883878Z"
    },
    "papermill": {
     "duration": 0.02057,
     "end_time": "2020-11-30T18:31:33.884349",
     "exception": false,
     "start_time": "2020-11-30T18:31:33.863779",
     "status": "completed"
    },
    "tags": []
   },
   "outputs": [
    {
     "data": {
      "text/plain": [
       "PosixPath('/home/miltondp/projects/labs/greenelab/phenoplier/base/results/data_transformations/umap')"
      ]
     },
     "metadata": {},
     "output_type": "display_data"
    }
   ],
   "source": [
    "# output dir for this notebook\n",
    "RESULTS_DIR = Path(\n",
    "    conf.RESULTS[\"DATA_TRANSFORMATIONS_DIR\"],\n",
    "    'umap'\n",
    ").resolve()\n",
    "RESULTS_DIR.mkdir(parents=True, exist_ok=True)\n",
    "\n",
    "display(RESULTS_DIR)"
   ]
  },
  {
   "cell_type": "markdown",
   "metadata": {
    "papermill": {
     "duration": 0.007595,
     "end_time": "2020-11-30T18:31:33.899752",
     "exception": false,
     "start_time": "2020-11-30T18:31:33.892157",
     "status": "completed"
    },
    "tags": []
   },
   "source": [
    "## UMAP options"
   ]
  },
  {
   "cell_type": "code",
   "execution_count": 6,
   "metadata": {
    "execution": {
     "iopub.execute_input": "2020-11-30T18:31:33.917963Z",
     "iopub.status.busy": "2020-11-30T18:31:33.917583Z",
     "iopub.status.idle": "2020-11-30T18:31:33.927789Z",
     "shell.execute_reply": "2020-11-30T18:31:33.927435Z"
    },
    "papermill": {
     "duration": 0.020365,
     "end_time": "2020-11-30T18:31:33.927880",
     "exception": false,
     "start_time": "2020-11-30T18:31:33.907515",
     "status": "completed"
    },
    "tags": []
   },
   "outputs": [],
   "source": [
    "# parameters of the dimentionality reduction steps\n",
    "# note that these are the default parameters of UMAP (metric and n_neighbors)\n",
    "DR_OPTIONS = {\n",
    "    'n_components': [5, 10, 20, 30, 40, 50],\n",
    "    'metric': 'euclidean',\n",
    "    'n_neighbors': 15,\n",
    "    'random_state': 0,\n",
    "}"
   ]
  },
  {
   "cell_type": "code",
   "execution_count": 7,
   "metadata": {
    "execution": {
     "iopub.execute_input": "2020-11-30T18:31:33.945443Z",
     "iopub.status.busy": "2020-11-30T18:31:33.945063Z",
     "iopub.status.idle": "2020-11-30T18:31:33.955999Z",
     "shell.execute_reply": "2020-11-30T18:31:33.955624Z"
    },
    "papermill": {
     "duration": 0.020501,
     "end_time": "2020-11-30T18:31:33.956090",
     "exception": false,
     "start_time": "2020-11-30T18:31:33.935589",
     "status": "completed"
    },
    "tags": []
   },
   "outputs": [
    {
     "data": {
      "text/plain": [
       "{'n_components': [5, 10, 20, 30, 40, 50],\n",
       " 'metric': 'euclidean',\n",
       " 'n_neighbors': 15,\n",
       " 'random_state': 0}"
      ]
     },
     "metadata": {},
     "output_type": "display_data"
    }
   ],
   "source": [
    "# dictionary containing all options/settings (used to generate filenames)\n",
    "ALL_OPTIONS = DR_OPTIONS.copy()\n",
    "\n",
    "display(ALL_OPTIONS)"
   ]
  },
  {
   "cell_type": "markdown",
   "metadata": {
    "papermill": {
     "duration": 0.007431,
     "end_time": "2020-11-30T18:31:33.971366",
     "exception": false,
     "start_time": "2020-11-30T18:31:33.963935",
     "status": "completed"
    },
    "tags": []
   },
   "source": [
    "# Load input file"
   ]
  },
  {
   "cell_type": "code",
   "execution_count": 8,
   "metadata": {
    "execution": {
     "iopub.execute_input": "2020-11-30T18:31:33.988850Z",
     "iopub.status.busy": "2020-11-30T18:31:33.988436Z",
     "iopub.status.idle": "2020-11-30T18:31:34.011164Z",
     "shell.execute_reply": "2020-11-30T18:31:34.010788Z"
    },
    "papermill": {
     "duration": 0.032456,
     "end_time": "2020-11-30T18:31:34.011262",
     "exception": false,
     "start_time": "2020-11-30T18:31:33.978806",
     "status": "completed"
    },
    "tags": []
   },
   "outputs": [],
   "source": [
    "data = pd.read_pickle(INPUT_FILEPATH)"
   ]
  },
  {
   "cell_type": "code",
   "execution_count": 9,
   "metadata": {
    "execution": {
     "iopub.execute_input": "2020-11-30T18:31:34.030527Z",
     "iopub.status.busy": "2020-11-30T18:31:34.030126Z",
     "iopub.status.idle": "2020-11-30T18:31:34.041094Z",
     "shell.execute_reply": "2020-11-30T18:31:34.040764Z"
    },
    "papermill": {
     "duration": 0.021387,
     "end_time": "2020-11-30T18:31:34.041193",
     "exception": false,
     "start_time": "2020-11-30T18:31:34.019806",
     "status": "completed"
    },
    "tags": []
   },
   "outputs": [
    {
     "data": {
      "text/plain": [
       "(3749, 987)"
      ]
     },
     "metadata": {},
     "output_type": "display_data"
    }
   ],
   "source": [
    "display(data.shape)"
   ]
  },
  {
   "cell_type": "code",
   "execution_count": 10,
   "metadata": {
    "execution": {
     "iopub.execute_input": "2020-11-30T18:31:34.061223Z",
     "iopub.status.busy": "2020-11-30T18:31:34.060825Z",
     "iopub.status.idle": "2020-11-30T18:31:34.085442Z",
     "shell.execute_reply": "2020-11-30T18:31:34.085095Z"
    },
    "papermill": {
     "duration": 0.035424,
     "end_time": "2020-11-30T18:31:34.085538",
     "exception": false,
     "start_time": "2020-11-30T18:31:34.050114",
     "status": "completed"
    },
    "tags": []
   },
   "outputs": [
    {
     "data": {
      "text/html": [
       "<div>\n",
       "<style scoped>\n",
       "    .dataframe tbody tr th:only-of-type {\n",
       "        vertical-align: middle;\n",
       "    }\n",
       "\n",
       "    .dataframe tbody tr th {\n",
       "        vertical-align: top;\n",
       "    }\n",
       "\n",
       "    .dataframe thead th {\n",
       "        text-align: right;\n",
       "    }\n",
       "</style>\n",
       "<table border=\"1\" class=\"dataframe\">\n",
       "  <thead>\n",
       "    <tr style=\"text-align: right;\">\n",
       "      <th></th>\n",
       "      <th>LV1</th>\n",
       "      <th>LV2</th>\n",
       "      <th>LV3</th>\n",
       "      <th>LV4</th>\n",
       "      <th>LV5</th>\n",
       "      <th>LV6</th>\n",
       "      <th>LV7</th>\n",
       "      <th>LV8</th>\n",
       "      <th>LV9</th>\n",
       "      <th>LV10</th>\n",
       "      <th>...</th>\n",
       "      <th>LV978</th>\n",
       "      <th>LV979</th>\n",
       "      <th>LV980</th>\n",
       "      <th>LV981</th>\n",
       "      <th>LV982</th>\n",
       "      <th>LV983</th>\n",
       "      <th>LV984</th>\n",
       "      <th>LV985</th>\n",
       "      <th>LV986</th>\n",
       "      <th>LV987</th>\n",
       "    </tr>\n",
       "  </thead>\n",
       "  <tbody>\n",
       "    <tr>\n",
       "      <th>100001_raw-Food_weight</th>\n",
       "      <td>-0.553743</td>\n",
       "      <td>1.851060</td>\n",
       "      <td>-0.095721</td>\n",
       "      <td>0.931603</td>\n",
       "      <td>-0.515196</td>\n",
       "      <td>1.371264</td>\n",
       "      <td>-0.413165</td>\n",
       "      <td>0.729668</td>\n",
       "      <td>0.546338</td>\n",
       "      <td>0.901153</td>\n",
       "      <td>...</td>\n",
       "      <td>1.148776</td>\n",
       "      <td>1.649018</td>\n",
       "      <td>-1.375952</td>\n",
       "      <td>2.203063</td>\n",
       "      <td>0.810199</td>\n",
       "      <td>-0.987048</td>\n",
       "      <td>0.277710</td>\n",
       "      <td>-0.607613</td>\n",
       "      <td>0.572376</td>\n",
       "      <td>-0.660846</td>\n",
       "    </tr>\n",
       "    <tr>\n",
       "      <th>100002_raw-Energy</th>\n",
       "      <td>-1.313905</td>\n",
       "      <td>-0.421015</td>\n",
       "      <td>-0.310524</td>\n",
       "      <td>-0.201978</td>\n",
       "      <td>0.233028</td>\n",
       "      <td>0.693838</td>\n",
       "      <td>0.084129</td>\n",
       "      <td>0.572439</td>\n",
       "      <td>0.217866</td>\n",
       "      <td>1.296973</td>\n",
       "      <td>...</td>\n",
       "      <td>0.165430</td>\n",
       "      <td>0.799276</td>\n",
       "      <td>-0.361989</td>\n",
       "      <td>-0.008253</td>\n",
       "      <td>2.063780</td>\n",
       "      <td>-0.930765</td>\n",
       "      <td>-0.147007</td>\n",
       "      <td>1.601938</td>\n",
       "      <td>-0.273553</td>\n",
       "      <td>-0.560822</td>\n",
       "    </tr>\n",
       "    <tr>\n",
       "      <th>100003_raw-Protein</th>\n",
       "      <td>-0.645622</td>\n",
       "      <td>-0.997845</td>\n",
       "      <td>0.249039</td>\n",
       "      <td>0.256499</td>\n",
       "      <td>0.422357</td>\n",
       "      <td>0.829189</td>\n",
       "      <td>-0.169004</td>\n",
       "      <td>0.511550</td>\n",
       "      <td>0.002389</td>\n",
       "      <td>-0.057200</td>\n",
       "      <td>...</td>\n",
       "      <td>1.016791</td>\n",
       "      <td>1.019488</td>\n",
       "      <td>-2.148844</td>\n",
       "      <td>-0.065130</td>\n",
       "      <td>0.041052</td>\n",
       "      <td>-0.836118</td>\n",
       "      <td>-0.320571</td>\n",
       "      <td>1.325519</td>\n",
       "      <td>-0.341494</td>\n",
       "      <td>-0.495786</td>\n",
       "    </tr>\n",
       "    <tr>\n",
       "      <th>100004_raw-Fat</th>\n",
       "      <td>-0.913924</td>\n",
       "      <td>-1.837183</td>\n",
       "      <td>0.012095</td>\n",
       "      <td>-1.301315</td>\n",
       "      <td>0.205794</td>\n",
       "      <td>1.129114</td>\n",
       "      <td>0.019985</td>\n",
       "      <td>0.376660</td>\n",
       "      <td>-0.810272</td>\n",
       "      <td>0.843611</td>\n",
       "      <td>...</td>\n",
       "      <td>0.544266</td>\n",
       "      <td>0.576714</td>\n",
       "      <td>0.281731</td>\n",
       "      <td>-0.218963</td>\n",
       "      <td>1.258957</td>\n",
       "      <td>-1.131924</td>\n",
       "      <td>0.378545</td>\n",
       "      <td>0.842047</td>\n",
       "      <td>-0.622194</td>\n",
       "      <td>-0.160058</td>\n",
       "    </tr>\n",
       "    <tr>\n",
       "      <th>100005_raw-Carbohydrate</th>\n",
       "      <td>-0.523004</td>\n",
       "      <td>0.131379</td>\n",
       "      <td>-0.097802</td>\n",
       "      <td>-0.030526</td>\n",
       "      <td>-0.021500</td>\n",
       "      <td>-0.219116</td>\n",
       "      <td>0.668229</td>\n",
       "      <td>0.365700</td>\n",
       "      <td>1.102347</td>\n",
       "      <td>0.845625</td>\n",
       "      <td>...</td>\n",
       "      <td>-0.344740</td>\n",
       "      <td>0.079274</td>\n",
       "      <td>0.253427</td>\n",
       "      <td>0.236474</td>\n",
       "      <td>1.033895</td>\n",
       "      <td>-0.229105</td>\n",
       "      <td>0.364793</td>\n",
       "      <td>1.776714</td>\n",
       "      <td>0.190531</td>\n",
       "      <td>-1.459641</td>\n",
       "    </tr>\n",
       "  </tbody>\n",
       "</table>\n",
       "<p>5 rows × 987 columns</p>\n",
       "</div>"
      ],
      "text/plain": [
       "                              LV1       LV2       LV3       LV4       LV5  \\\n",
       "100001_raw-Food_weight  -0.553743  1.851060 -0.095721  0.931603 -0.515196   \n",
       "100002_raw-Energy       -1.313905 -0.421015 -0.310524 -0.201978  0.233028   \n",
       "100003_raw-Protein      -0.645622 -0.997845  0.249039  0.256499  0.422357   \n",
       "100004_raw-Fat          -0.913924 -1.837183  0.012095 -1.301315  0.205794   \n",
       "100005_raw-Carbohydrate -0.523004  0.131379 -0.097802 -0.030526 -0.021500   \n",
       "\n",
       "                              LV6       LV7       LV8       LV9      LV10  \\\n",
       "100001_raw-Food_weight   1.371264 -0.413165  0.729668  0.546338  0.901153   \n",
       "100002_raw-Energy        0.693838  0.084129  0.572439  0.217866  1.296973   \n",
       "100003_raw-Protein       0.829189 -0.169004  0.511550  0.002389 -0.057200   \n",
       "100004_raw-Fat           1.129114  0.019985  0.376660 -0.810272  0.843611   \n",
       "100005_raw-Carbohydrate -0.219116  0.668229  0.365700  1.102347  0.845625   \n",
       "\n",
       "                         ...     LV978     LV979     LV980     LV981  \\\n",
       "100001_raw-Food_weight   ...  1.148776  1.649018 -1.375952  2.203063   \n",
       "100002_raw-Energy        ...  0.165430  0.799276 -0.361989 -0.008253   \n",
       "100003_raw-Protein       ...  1.016791  1.019488 -2.148844 -0.065130   \n",
       "100004_raw-Fat           ...  0.544266  0.576714  0.281731 -0.218963   \n",
       "100005_raw-Carbohydrate  ... -0.344740  0.079274  0.253427  0.236474   \n",
       "\n",
       "                            LV982     LV983     LV984     LV985     LV986  \\\n",
       "100001_raw-Food_weight   0.810199 -0.987048  0.277710 -0.607613  0.572376   \n",
       "100002_raw-Energy        2.063780 -0.930765 -0.147007  1.601938 -0.273553   \n",
       "100003_raw-Protein       0.041052 -0.836118 -0.320571  1.325519 -0.341494   \n",
       "100004_raw-Fat           1.258957 -1.131924  0.378545  0.842047 -0.622194   \n",
       "100005_raw-Carbohydrate  1.033895 -0.229105  0.364793  1.776714  0.190531   \n",
       "\n",
       "                            LV987  \n",
       "100001_raw-Food_weight  -0.660846  \n",
       "100002_raw-Energy       -0.560822  \n",
       "100003_raw-Protein      -0.495786  \n",
       "100004_raw-Fat          -0.160058  \n",
       "100005_raw-Carbohydrate -1.459641  \n",
       "\n",
       "[5 rows x 987 columns]"
      ]
     },
     "metadata": {},
     "output_type": "display_data"
    }
   ],
   "source": [
    "display(data.head())"
   ]
  },
  {
   "cell_type": "markdown",
   "metadata": {
    "papermill": {
     "duration": 0.009136,
     "end_time": "2020-11-30T18:31:34.104038",
     "exception": false,
     "start_time": "2020-11-30T18:31:34.094902",
     "status": "completed"
    },
    "tags": []
   },
   "source": [
    "# UMAP"
   ]
  },
  {
   "cell_type": "markdown",
   "metadata": {
    "papermill": {
     "duration": 0.008271,
     "end_time": "2020-11-30T18:31:34.121574",
     "exception": false,
     "start_time": "2020-11-30T18:31:34.113303",
     "status": "completed"
    },
    "tags": []
   },
   "source": [
    "**Reproducibility problem**: there seems to be a bug with UMAP in which it produces different results in different operating systems or machines: https://github.com/lmcinnes/umap/issues/153"
   ]
  },
  {
   "cell_type": "code",
   "execution_count": 11,
   "metadata": {
    "execution": {
     "iopub.execute_input": "2020-11-30T18:31:34.140988Z",
     "iopub.status.busy": "2020-11-30T18:31:34.140576Z",
     "iopub.status.idle": "2020-11-30T18:31:34.150674Z",
     "shell.execute_reply": "2020-11-30T18:31:34.150307Z"
    },
    "papermill": {
     "duration": 0.020807,
     "end_time": "2020-11-30T18:31:34.150762",
     "exception": false,
     "start_time": "2020-11-30T18:31:34.129955",
     "status": "completed"
    },
    "tags": []
   },
   "outputs": [],
   "source": [
    "from data.dimreduction import get_umap_proj"
   ]
  },
  {
   "cell_type": "code",
   "execution_count": 12,
   "metadata": {
    "execution": {
     "iopub.execute_input": "2020-11-30T18:31:34.172434Z",
     "iopub.status.busy": "2020-11-30T18:31:34.172057Z",
     "iopub.status.idle": "2020-11-30T18:33:30.613339Z",
     "shell.execute_reply": "2020-11-30T18:33:30.612961Z"
    },
    "papermill": {
     "duration": 116.453553,
     "end_time": "2020-11-30T18:33:30.613431",
     "exception": false,
     "start_time": "2020-11-30T18:31:34.159878",
     "status": "completed"
    },
    "tags": []
   },
   "outputs": [
    {
     "name": "stdout",
     "output_type": "stream",
     "text": [
      "# components: 5\n"
     ]
    },
    {
     "data": {
      "text/plain": [
       "'UMAP object: UMAP(n_components=5, random_state=0)'"
      ]
     },
     "metadata": {},
     "output_type": "display_data"
    },
    {
     "data": {
      "text/plain": [
       "(3749, 5)"
      ]
     },
     "metadata": {},
     "output_type": "display_data"
    },
    {
     "data": {
      "text/html": [
       "<div>\n",
       "<style scoped>\n",
       "    .dataframe tbody tr th:only-of-type {\n",
       "        vertical-align: middle;\n",
       "    }\n",
       "\n",
       "    .dataframe tbody tr th {\n",
       "        vertical-align: top;\n",
       "    }\n",
       "\n",
       "    .dataframe thead th {\n",
       "        text-align: right;\n",
       "    }\n",
       "</style>\n",
       "<table border=\"1\" class=\"dataframe\">\n",
       "  <thead>\n",
       "    <tr style=\"text-align: right;\">\n",
       "      <th></th>\n",
       "      <th>UMAP1</th>\n",
       "      <th>UMAP2</th>\n",
       "      <th>UMAP3</th>\n",
       "      <th>UMAP4</th>\n",
       "      <th>UMAP5</th>\n",
       "    </tr>\n",
       "  </thead>\n",
       "  <tbody>\n",
       "    <tr>\n",
       "      <th>count</th>\n",
       "      <td>3749.000000</td>\n",
       "      <td>3749.000000</td>\n",
       "      <td>3749.000000</td>\n",
       "      <td>3749.000000</td>\n",
       "      <td>3749.000000</td>\n",
       "    </tr>\n",
       "    <tr>\n",
       "      <th>mean</th>\n",
       "      <td>-7.516746</td>\n",
       "      <td>0.300875</td>\n",
       "      <td>10.172270</td>\n",
       "      <td>7.235293</td>\n",
       "      <td>15.081844</td>\n",
       "    </tr>\n",
       "    <tr>\n",
       "      <th>std</th>\n",
       "      <td>1.363649</td>\n",
       "      <td>0.831780</td>\n",
       "      <td>0.741798</td>\n",
       "      <td>0.623588</td>\n",
       "      <td>0.847875</td>\n",
       "    </tr>\n",
       "    <tr>\n",
       "      <th>min</th>\n",
       "      <td>-9.142575</td>\n",
       "      <td>-1.305105</td>\n",
       "      <td>4.354950</td>\n",
       "      <td>4.881416</td>\n",
       "      <td>8.001960</td>\n",
       "    </tr>\n",
       "    <tr>\n",
       "      <th>25%</th>\n",
       "      <td>-8.157810</td>\n",
       "      <td>-0.184725</td>\n",
       "      <td>9.737357</td>\n",
       "      <td>6.821357</td>\n",
       "      <td>14.783074</td>\n",
       "    </tr>\n",
       "    <tr>\n",
       "      <th>50%</th>\n",
       "      <td>-7.768608</td>\n",
       "      <td>0.214808</td>\n",
       "      <td>10.234052</td>\n",
       "      <td>7.254055</td>\n",
       "      <td>15.119847</td>\n",
       "    </tr>\n",
       "    <tr>\n",
       "      <th>75%</th>\n",
       "      <td>-7.265254</td>\n",
       "      <td>0.700175</td>\n",
       "      <td>10.661971</td>\n",
       "      <td>7.699661</td>\n",
       "      <td>15.519849</td>\n",
       "    </tr>\n",
       "    <tr>\n",
       "      <th>max</th>\n",
       "      <td>2.960578</td>\n",
       "      <td>11.088941</td>\n",
       "      <td>12.534808</td>\n",
       "      <td>8.778034</td>\n",
       "      <td>17.483521</td>\n",
       "    </tr>\n",
       "  </tbody>\n",
       "</table>\n",
       "</div>"
      ],
      "text/plain": [
       "             UMAP1        UMAP2        UMAP3        UMAP4        UMAP5\n",
       "count  3749.000000  3749.000000  3749.000000  3749.000000  3749.000000\n",
       "mean     -7.516746     0.300875    10.172270     7.235293    15.081844\n",
       "std       1.363649     0.831780     0.741798     0.623588     0.847875\n",
       "min      -9.142575    -1.305105     4.354950     4.881416     8.001960\n",
       "25%      -8.157810    -0.184725     9.737357     6.821357    14.783074\n",
       "50%      -7.768608     0.214808    10.234052     7.254055    15.119847\n",
       "75%      -7.265254     0.700175    10.661971     7.699661    15.519849\n",
       "max       2.960578    11.088941    12.534808     8.778034    17.483521"
      ]
     },
     "metadata": {},
     "output_type": "display_data"
    },
    {
     "data": {
      "text/plain": [
       "PosixPath('/home/miltondp/projects/labs/greenelab/phenoplier/base/results/data_transformations/umap/umap-z_score_std-projection-smultixcan-efo_partial-mashr-zscores-metric_euclidean-n_components_5-n_neighbors_15-random_state_0.pkl')"
      ]
     },
     "metadata": {},
     "output_type": "display_data"
    },
    {
     "name": "stdout",
     "output_type": "stream",
     "text": [
      "\n",
      "\n",
      "# components: 10\n"
     ]
    },
    {
     "data": {
      "text/plain": [
       "'UMAP object: UMAP(n_components=10, random_state=0)'"
      ]
     },
     "metadata": {},
     "output_type": "display_data"
    },
    {
     "data": {
      "text/plain": [
       "(3749, 10)"
      ]
     },
     "metadata": {},
     "output_type": "display_data"
    },
    {
     "data": {
      "text/html": [
       "<div>\n",
       "<style scoped>\n",
       "    .dataframe tbody tr th:only-of-type {\n",
       "        vertical-align: middle;\n",
       "    }\n",
       "\n",
       "    .dataframe tbody tr th {\n",
       "        vertical-align: top;\n",
       "    }\n",
       "\n",
       "    .dataframe thead th {\n",
       "        text-align: right;\n",
       "    }\n",
       "</style>\n",
       "<table border=\"1\" class=\"dataframe\">\n",
       "  <thead>\n",
       "    <tr style=\"text-align: right;\">\n",
       "      <th></th>\n",
       "      <th>UMAP1</th>\n",
       "      <th>UMAP2</th>\n",
       "      <th>UMAP3</th>\n",
       "      <th>UMAP4</th>\n",
       "      <th>UMAP5</th>\n",
       "    </tr>\n",
       "  </thead>\n",
       "  <tbody>\n",
       "    <tr>\n",
       "      <th>count</th>\n",
       "      <td>3749.000000</td>\n",
       "      <td>3749.000000</td>\n",
       "      <td>3749.000000</td>\n",
       "      <td>3749.000000</td>\n",
       "      <td>3749.000000</td>\n",
       "    </tr>\n",
       "    <tr>\n",
       "      <th>mean</th>\n",
       "      <td>11.667530</td>\n",
       "      <td>-1.281877</td>\n",
       "      <td>2.741475</td>\n",
       "      <td>0.252802</td>\n",
       "      <td>-5.194531</td>\n",
       "    </tr>\n",
       "    <tr>\n",
       "      <th>std</th>\n",
       "      <td>0.614635</td>\n",
       "      <td>0.762489</td>\n",
       "      <td>0.568064</td>\n",
       "      <td>0.743449</td>\n",
       "      <td>0.764147</td>\n",
       "    </tr>\n",
       "    <tr>\n",
       "      <th>min</th>\n",
       "      <td>7.151138</td>\n",
       "      <td>-2.593357</td>\n",
       "      <td>-1.505797</td>\n",
       "      <td>-1.037291</td>\n",
       "      <td>-6.816354</td>\n",
       "    </tr>\n",
       "    <tr>\n",
       "      <th>25%</th>\n",
       "      <td>11.439322</td>\n",
       "      <td>-1.634749</td>\n",
       "      <td>2.505892</td>\n",
       "      <td>-0.165383</td>\n",
       "      <td>-5.532526</td>\n",
       "    </tr>\n",
       "    <tr>\n",
       "      <th>50%</th>\n",
       "      <td>11.658796</td>\n",
       "      <td>-1.375485</td>\n",
       "      <td>2.809999</td>\n",
       "      <td>0.106383</td>\n",
       "      <td>-5.295153</td>\n",
       "    </tr>\n",
       "    <tr>\n",
       "      <th>75%</th>\n",
       "      <td>11.967888</td>\n",
       "      <td>-1.054193</td>\n",
       "      <td>3.067614</td>\n",
       "      <td>0.456244</td>\n",
       "      <td>-5.033541</td>\n",
       "    </tr>\n",
       "    <tr>\n",
       "      <th>max</th>\n",
       "      <td>13.895837</td>\n",
       "      <td>11.346296</td>\n",
       "      <td>4.522652</td>\n",
       "      <td>4.658851</td>\n",
       "      <td>1.287042</td>\n",
       "    </tr>\n",
       "  </tbody>\n",
       "</table>\n",
       "</div>"
      ],
      "text/plain": [
       "             UMAP1        UMAP2        UMAP3        UMAP4        UMAP5\n",
       "count  3749.000000  3749.000000  3749.000000  3749.000000  3749.000000\n",
       "mean     11.667530    -1.281877     2.741475     0.252802    -5.194531\n",
       "std       0.614635     0.762489     0.568064     0.743449     0.764147\n",
       "min       7.151138    -2.593357    -1.505797    -1.037291    -6.816354\n",
       "25%      11.439322    -1.634749     2.505892    -0.165383    -5.532526\n",
       "50%      11.658796    -1.375485     2.809999     0.106383    -5.295153\n",
       "75%      11.967888    -1.054193     3.067614     0.456244    -5.033541\n",
       "max      13.895837    11.346296     4.522652     4.658851     1.287042"
      ]
     },
     "metadata": {},
     "output_type": "display_data"
    },
    {
     "data": {
      "text/plain": [
       "PosixPath('/home/miltondp/projects/labs/greenelab/phenoplier/base/results/data_transformations/umap/umap-z_score_std-projection-smultixcan-efo_partial-mashr-zscores-metric_euclidean-n_components_10-n_neighbors_15-random_state_0.pkl')"
      ]
     },
     "metadata": {},
     "output_type": "display_data"
    },
    {
     "name": "stdout",
     "output_type": "stream",
     "text": [
      "\n",
      "\n",
      "# components: 20\n"
     ]
    },
    {
     "data": {
      "text/plain": [
       "'UMAP object: UMAP(n_components=20, random_state=0)'"
      ]
     },
     "metadata": {},
     "output_type": "display_data"
    },
    {
     "data": {
      "text/plain": [
       "(3749, 20)"
      ]
     },
     "metadata": {},
     "output_type": "display_data"
    },
    {
     "data": {
      "text/html": [
       "<div>\n",
       "<style scoped>\n",
       "    .dataframe tbody tr th:only-of-type {\n",
       "        vertical-align: middle;\n",
       "    }\n",
       "\n",
       "    .dataframe tbody tr th {\n",
       "        vertical-align: top;\n",
       "    }\n",
       "\n",
       "    .dataframe thead th {\n",
       "        text-align: right;\n",
       "    }\n",
       "</style>\n",
       "<table border=\"1\" class=\"dataframe\">\n",
       "  <thead>\n",
       "    <tr style=\"text-align: right;\">\n",
       "      <th></th>\n",
       "      <th>UMAP1</th>\n",
       "      <th>UMAP2</th>\n",
       "      <th>UMAP3</th>\n",
       "      <th>UMAP4</th>\n",
       "      <th>UMAP5</th>\n",
       "    </tr>\n",
       "  </thead>\n",
       "  <tbody>\n",
       "    <tr>\n",
       "      <th>count</th>\n",
       "      <td>3749.000000</td>\n",
       "      <td>3749.000000</td>\n",
       "      <td>3749.000000</td>\n",
       "      <td>3749.000000</td>\n",
       "      <td>3749.000000</td>\n",
       "    </tr>\n",
       "    <tr>\n",
       "      <th>mean</th>\n",
       "      <td>11.568976</td>\n",
       "      <td>7.355754</td>\n",
       "      <td>11.267879</td>\n",
       "      <td>5.112085</td>\n",
       "      <td>16.240360</td>\n",
       "    </tr>\n",
       "    <tr>\n",
       "      <th>std</th>\n",
       "      <td>0.532828</td>\n",
       "      <td>0.497575</td>\n",
       "      <td>0.332682</td>\n",
       "      <td>0.311138</td>\n",
       "      <td>0.839745</td>\n",
       "    </tr>\n",
       "    <tr>\n",
       "      <th>min</th>\n",
       "      <td>7.561148</td>\n",
       "      <td>-0.423349</td>\n",
       "      <td>7.288350</td>\n",
       "      <td>3.934043</td>\n",
       "      <td>7.932266</td>\n",
       "    </tr>\n",
       "    <tr>\n",
       "      <th>25%</th>\n",
       "      <td>11.416198</td>\n",
       "      <td>7.148762</td>\n",
       "      <td>11.126831</td>\n",
       "      <td>4.921436</td>\n",
       "      <td>16.164885</td>\n",
       "    </tr>\n",
       "    <tr>\n",
       "      <th>50%</th>\n",
       "      <td>11.598224</td>\n",
       "      <td>7.329553</td>\n",
       "      <td>11.287426</td>\n",
       "      <td>5.126296</td>\n",
       "      <td>16.375513</td>\n",
       "    </tr>\n",
       "    <tr>\n",
       "      <th>75%</th>\n",
       "      <td>11.805898</td>\n",
       "      <td>7.534088</td>\n",
       "      <td>11.422673</td>\n",
       "      <td>5.329064</td>\n",
       "      <td>16.538406</td>\n",
       "    </tr>\n",
       "    <tr>\n",
       "      <th>max</th>\n",
       "      <td>12.704876</td>\n",
       "      <td>9.409404</td>\n",
       "      <td>12.178100</td>\n",
       "      <td>6.089090</td>\n",
       "      <td>17.439648</td>\n",
       "    </tr>\n",
       "  </tbody>\n",
       "</table>\n",
       "</div>"
      ],
      "text/plain": [
       "             UMAP1        UMAP2        UMAP3        UMAP4        UMAP5\n",
       "count  3749.000000  3749.000000  3749.000000  3749.000000  3749.000000\n",
       "mean     11.568976     7.355754    11.267879     5.112085    16.240360\n",
       "std       0.532828     0.497575     0.332682     0.311138     0.839745\n",
       "min       7.561148    -0.423349     7.288350     3.934043     7.932266\n",
       "25%      11.416198     7.148762    11.126831     4.921436    16.164885\n",
       "50%      11.598224     7.329553    11.287426     5.126296    16.375513\n",
       "75%      11.805898     7.534088    11.422673     5.329064    16.538406\n",
       "max      12.704876     9.409404    12.178100     6.089090    17.439648"
      ]
     },
     "metadata": {},
     "output_type": "display_data"
    },
    {
     "data": {
      "text/plain": [
       "PosixPath('/home/miltondp/projects/labs/greenelab/phenoplier/base/results/data_transformations/umap/umap-z_score_std-projection-smultixcan-efo_partial-mashr-zscores-metric_euclidean-n_components_20-n_neighbors_15-random_state_0.pkl')"
      ]
     },
     "metadata": {},
     "output_type": "display_data"
    },
    {
     "name": "stdout",
     "output_type": "stream",
     "text": [
      "\n",
      "\n",
      "# components: 30\n"
     ]
    },
    {
     "data": {
      "text/plain": [
       "'UMAP object: UMAP(n_components=30, random_state=0)'"
      ]
     },
     "metadata": {},
     "output_type": "display_data"
    },
    {
     "data": {
      "text/plain": [
       "(3749, 30)"
      ]
     },
     "metadata": {},
     "output_type": "display_data"
    },
    {
     "data": {
      "text/html": [
       "<div>\n",
       "<style scoped>\n",
       "    .dataframe tbody tr th:only-of-type {\n",
       "        vertical-align: middle;\n",
       "    }\n",
       "\n",
       "    .dataframe tbody tr th {\n",
       "        vertical-align: top;\n",
       "    }\n",
       "\n",
       "    .dataframe thead th {\n",
       "        text-align: right;\n",
       "    }\n",
       "</style>\n",
       "<table border=\"1\" class=\"dataframe\">\n",
       "  <thead>\n",
       "    <tr style=\"text-align: right;\">\n",
       "      <th></th>\n",
       "      <th>UMAP1</th>\n",
       "      <th>UMAP2</th>\n",
       "      <th>UMAP3</th>\n",
       "      <th>UMAP4</th>\n",
       "      <th>UMAP5</th>\n",
       "    </tr>\n",
       "  </thead>\n",
       "  <tbody>\n",
       "    <tr>\n",
       "      <th>count</th>\n",
       "      <td>3749.000000</td>\n",
       "      <td>3749.000000</td>\n",
       "      <td>3749.000000</td>\n",
       "      <td>3749.000000</td>\n",
       "      <td>3749.000000</td>\n",
       "    </tr>\n",
       "    <tr>\n",
       "      <th>mean</th>\n",
       "      <td>12.048045</td>\n",
       "      <td>9.776567</td>\n",
       "      <td>10.619061</td>\n",
       "      <td>5.579163</td>\n",
       "      <td>15.304787</td>\n",
       "    </tr>\n",
       "    <tr>\n",
       "      <th>std</th>\n",
       "      <td>0.707637</td>\n",
       "      <td>0.486287</td>\n",
       "      <td>0.330640</td>\n",
       "      <td>0.215690</td>\n",
       "      <td>0.871587</td>\n",
       "    </tr>\n",
       "    <tr>\n",
       "      <th>min</th>\n",
       "      <td>6.047788</td>\n",
       "      <td>0.533798</td>\n",
       "      <td>6.591578</td>\n",
       "      <td>4.676175</td>\n",
       "      <td>8.104358</td>\n",
       "    </tr>\n",
       "    <tr>\n",
       "      <th>25%</th>\n",
       "      <td>11.976559</td>\n",
       "      <td>9.634285</td>\n",
       "      <td>10.497344</td>\n",
       "      <td>5.442010</td>\n",
       "      <td>15.276850</td>\n",
       "    </tr>\n",
       "    <tr>\n",
       "      <th>50%</th>\n",
       "      <td>12.174281</td>\n",
       "      <td>9.771852</td>\n",
       "      <td>10.648478</td>\n",
       "      <td>5.593583</td>\n",
       "      <td>15.470864</td>\n",
       "    </tr>\n",
       "    <tr>\n",
       "      <th>75%</th>\n",
       "      <td>12.314528</td>\n",
       "      <td>9.936595</td>\n",
       "      <td>10.788346</td>\n",
       "      <td>5.718888</td>\n",
       "      <td>15.630330</td>\n",
       "    </tr>\n",
       "    <tr>\n",
       "      <th>max</th>\n",
       "      <td>12.842635</td>\n",
       "      <td>10.839581</td>\n",
       "      <td>11.493337</td>\n",
       "      <td>6.152011</td>\n",
       "      <td>16.115988</td>\n",
       "    </tr>\n",
       "  </tbody>\n",
       "</table>\n",
       "</div>"
      ],
      "text/plain": [
       "             UMAP1        UMAP2        UMAP3        UMAP4        UMAP5\n",
       "count  3749.000000  3749.000000  3749.000000  3749.000000  3749.000000\n",
       "mean     12.048045     9.776567    10.619061     5.579163    15.304787\n",
       "std       0.707637     0.486287     0.330640     0.215690     0.871587\n",
       "min       6.047788     0.533798     6.591578     4.676175     8.104358\n",
       "25%      11.976559     9.634285    10.497344     5.442010    15.276850\n",
       "50%      12.174281     9.771852    10.648478     5.593583    15.470864\n",
       "75%      12.314528     9.936595    10.788346     5.718888    15.630330\n",
       "max      12.842635    10.839581    11.493337     6.152011    16.115988"
      ]
     },
     "metadata": {},
     "output_type": "display_data"
    },
    {
     "data": {
      "text/plain": [
       "PosixPath('/home/miltondp/projects/labs/greenelab/phenoplier/base/results/data_transformations/umap/umap-z_score_std-projection-smultixcan-efo_partial-mashr-zscores-metric_euclidean-n_components_30-n_neighbors_15-random_state_0.pkl')"
      ]
     },
     "metadata": {},
     "output_type": "display_data"
    },
    {
     "name": "stdout",
     "output_type": "stream",
     "text": [
      "\n",
      "\n",
      "# components: 40\n"
     ]
    },
    {
     "data": {
      "text/plain": [
       "'UMAP object: UMAP(n_components=40, random_state=0)'"
      ]
     },
     "metadata": {},
     "output_type": "display_data"
    },
    {
     "data": {
      "text/plain": [
       "(3749, 40)"
      ]
     },
     "metadata": {},
     "output_type": "display_data"
    },
    {
     "data": {
      "text/html": [
       "<div>\n",
       "<style scoped>\n",
       "    .dataframe tbody tr th:only-of-type {\n",
       "        vertical-align: middle;\n",
       "    }\n",
       "\n",
       "    .dataframe tbody tr th {\n",
       "        vertical-align: top;\n",
       "    }\n",
       "\n",
       "    .dataframe thead th {\n",
       "        text-align: right;\n",
       "    }\n",
       "</style>\n",
       "<table border=\"1\" class=\"dataframe\">\n",
       "  <thead>\n",
       "    <tr style=\"text-align: right;\">\n",
       "      <th></th>\n",
       "      <th>UMAP1</th>\n",
       "      <th>UMAP2</th>\n",
       "      <th>UMAP3</th>\n",
       "      <th>UMAP4</th>\n",
       "      <th>UMAP5</th>\n",
       "    </tr>\n",
       "  </thead>\n",
       "  <tbody>\n",
       "    <tr>\n",
       "      <th>count</th>\n",
       "      <td>3749.000000</td>\n",
       "      <td>3749.000000</td>\n",
       "      <td>3749.000000</td>\n",
       "      <td>3749.000000</td>\n",
       "      <td>3749.000000</td>\n",
       "    </tr>\n",
       "    <tr>\n",
       "      <th>mean</th>\n",
       "      <td>12.064989</td>\n",
       "      <td>8.581733</td>\n",
       "      <td>11.597040</td>\n",
       "      <td>5.346490</td>\n",
       "      <td>14.489970</td>\n",
       "    </tr>\n",
       "    <tr>\n",
       "      <th>std</th>\n",
       "      <td>0.535111</td>\n",
       "      <td>0.503057</td>\n",
       "      <td>0.421009</td>\n",
       "      <td>0.202592</td>\n",
       "      <td>0.709418</td>\n",
       "    </tr>\n",
       "    <tr>\n",
       "      <th>min</th>\n",
       "      <td>7.550630</td>\n",
       "      <td>-1.373201</td>\n",
       "      <td>5.554543</td>\n",
       "      <td>4.843082</td>\n",
       "      <td>9.005580</td>\n",
       "    </tr>\n",
       "    <tr>\n",
       "      <th>25%</th>\n",
       "      <td>11.971493</td>\n",
       "      <td>8.467064</td>\n",
       "      <td>11.487862</td>\n",
       "      <td>5.200290</td>\n",
       "      <td>14.466892</td>\n",
       "    </tr>\n",
       "    <tr>\n",
       "      <th>50%</th>\n",
       "      <td>12.124852</td>\n",
       "      <td>8.586386</td>\n",
       "      <td>11.627160</td>\n",
       "      <td>5.335732</td>\n",
       "      <td>14.603366</td>\n",
       "    </tr>\n",
       "    <tr>\n",
       "      <th>75%</th>\n",
       "      <td>12.266528</td>\n",
       "      <td>8.703697</td>\n",
       "      <td>11.755375</td>\n",
       "      <td>5.486707</td>\n",
       "      <td>14.744328</td>\n",
       "    </tr>\n",
       "    <tr>\n",
       "      <th>max</th>\n",
       "      <td>12.861876</td>\n",
       "      <td>9.745922</td>\n",
       "      <td>12.426261</td>\n",
       "      <td>6.167309</td>\n",
       "      <td>15.281291</td>\n",
       "    </tr>\n",
       "  </tbody>\n",
       "</table>\n",
       "</div>"
      ],
      "text/plain": [
       "             UMAP1        UMAP2        UMAP3        UMAP4        UMAP5\n",
       "count  3749.000000  3749.000000  3749.000000  3749.000000  3749.000000\n",
       "mean     12.064989     8.581733    11.597040     5.346490    14.489970\n",
       "std       0.535111     0.503057     0.421009     0.202592     0.709418\n",
       "min       7.550630    -1.373201     5.554543     4.843082     9.005580\n",
       "25%      11.971493     8.467064    11.487862     5.200290    14.466892\n",
       "50%      12.124852     8.586386    11.627160     5.335732    14.603366\n",
       "75%      12.266528     8.703697    11.755375     5.486707    14.744328\n",
       "max      12.861876     9.745922    12.426261     6.167309    15.281291"
      ]
     },
     "metadata": {},
     "output_type": "display_data"
    },
    {
     "data": {
      "text/plain": [
       "PosixPath('/home/miltondp/projects/labs/greenelab/phenoplier/base/results/data_transformations/umap/umap-z_score_std-projection-smultixcan-efo_partial-mashr-zscores-metric_euclidean-n_components_40-n_neighbors_15-random_state_0.pkl')"
      ]
     },
     "metadata": {},
     "output_type": "display_data"
    },
    {
     "name": "stdout",
     "output_type": "stream",
     "text": [
      "\n",
      "\n",
      "# components: 50\n"
     ]
    },
    {
     "data": {
      "text/plain": [
       "'UMAP object: UMAP(n_components=50, random_state=0)'"
      ]
     },
     "metadata": {},
     "output_type": "display_data"
    },
    {
     "data": {
      "text/plain": [
       "(3749, 50)"
      ]
     },
     "metadata": {},
     "output_type": "display_data"
    },
    {
     "data": {
      "text/html": [
       "<div>\n",
       "<style scoped>\n",
       "    .dataframe tbody tr th:only-of-type {\n",
       "        vertical-align: middle;\n",
       "    }\n",
       "\n",
       "    .dataframe tbody tr th {\n",
       "        vertical-align: top;\n",
       "    }\n",
       "\n",
       "    .dataframe thead th {\n",
       "        text-align: right;\n",
       "    }\n",
       "</style>\n",
       "<table border=\"1\" class=\"dataframe\">\n",
       "  <thead>\n",
       "    <tr style=\"text-align: right;\">\n",
       "      <th></th>\n",
       "      <th>UMAP1</th>\n",
       "      <th>UMAP2</th>\n",
       "      <th>UMAP3</th>\n",
       "      <th>UMAP4</th>\n",
       "      <th>UMAP5</th>\n",
       "    </tr>\n",
       "  </thead>\n",
       "  <tbody>\n",
       "    <tr>\n",
       "      <th>count</th>\n",
       "      <td>3749.000000</td>\n",
       "      <td>3749.000000</td>\n",
       "      <td>3749.000000</td>\n",
       "      <td>3749.000000</td>\n",
       "      <td>3749.000000</td>\n",
       "    </tr>\n",
       "    <tr>\n",
       "      <th>mean</th>\n",
       "      <td>11.819470</td>\n",
       "      <td>10.514360</td>\n",
       "      <td>10.790124</td>\n",
       "      <td>5.806060</td>\n",
       "      <td>13.429363</td>\n",
       "    </tr>\n",
       "    <tr>\n",
       "      <th>std</th>\n",
       "      <td>0.591982</td>\n",
       "      <td>0.462244</td>\n",
       "      <td>0.357213</td>\n",
       "      <td>0.170279</td>\n",
       "      <td>0.603651</td>\n",
       "    </tr>\n",
       "    <tr>\n",
       "      <th>min</th>\n",
       "      <td>6.864138</td>\n",
       "      <td>1.230025</td>\n",
       "      <td>5.346579</td>\n",
       "      <td>5.047084</td>\n",
       "      <td>7.840955</td>\n",
       "    </tr>\n",
       "    <tr>\n",
       "      <th>25%</th>\n",
       "      <td>11.726042</td>\n",
       "      <td>10.438283</td>\n",
       "      <td>10.718997</td>\n",
       "      <td>5.724452</td>\n",
       "      <td>13.357506</td>\n",
       "    </tr>\n",
       "    <tr>\n",
       "      <th>50%</th>\n",
       "      <td>11.911532</td>\n",
       "      <td>10.543786</td>\n",
       "      <td>10.828536</td>\n",
       "      <td>5.815688</td>\n",
       "      <td>13.531915</td>\n",
       "    </tr>\n",
       "    <tr>\n",
       "      <th>75%</th>\n",
       "      <td>12.061273</td>\n",
       "      <td>10.644863</td>\n",
       "      <td>10.921763</td>\n",
       "      <td>5.908139</td>\n",
       "      <td>13.656499</td>\n",
       "    </tr>\n",
       "    <tr>\n",
       "      <th>max</th>\n",
       "      <td>12.532558</td>\n",
       "      <td>11.035397</td>\n",
       "      <td>11.457878</td>\n",
       "      <td>6.249172</td>\n",
       "      <td>14.083682</td>\n",
       "    </tr>\n",
       "  </tbody>\n",
       "</table>\n",
       "</div>"
      ],
      "text/plain": [
       "             UMAP1        UMAP2        UMAP3        UMAP4        UMAP5\n",
       "count  3749.000000  3749.000000  3749.000000  3749.000000  3749.000000\n",
       "mean     11.819470    10.514360    10.790124     5.806060    13.429363\n",
       "std       0.591982     0.462244     0.357213     0.170279     0.603651\n",
       "min       6.864138     1.230025     5.346579     5.047084     7.840955\n",
       "25%      11.726042    10.438283    10.718997     5.724452    13.357506\n",
       "50%      11.911532    10.543786    10.828536     5.815688    13.531915\n",
       "75%      12.061273    10.644863    10.921763     5.908139    13.656499\n",
       "max      12.532558    11.035397    11.457878     6.249172    14.083682"
      ]
     },
     "metadata": {},
     "output_type": "display_data"
    },
    {
     "data": {
      "text/plain": [
       "PosixPath('/home/miltondp/projects/labs/greenelab/phenoplier/base/results/data_transformations/umap/umap-z_score_std-projection-smultixcan-efo_partial-mashr-zscores-metric_euclidean-n_components_50-n_neighbors_15-random_state_0.pkl')"
      ]
     },
     "metadata": {},
     "output_type": "display_data"
    },
    {
     "name": "stdout",
     "output_type": "stream",
     "text": [
      "\n",
      "\n"
     ]
    }
   ],
   "source": [
    "# Get a UMAP representation for all n_components configurations\n",
    "for n_comp in DR_OPTIONS['n_components']:\n",
    "    print(f'# components: {n_comp}')\n",
    "    \n",
    "    # prepare options of n_comp\n",
    "    options = ALL_OPTIONS.copy()\n",
    "    options['n_components'] = n_comp\n",
    "    options = {k:v for k, v in options.items() if k in DR_OPTIONS}\n",
    "    \n",
    "    # get projection\n",
    "    dr_data = get_umap_proj(data, options)\n",
    "    \n",
    "    # check data dimensionality\n",
    "    display(dr_data.shape)\n",
    "    assert dr_data.shape == (data.shape[0], n_comp)\n",
    "    \n",
    "    display(dr_data.iloc[:, 0:5].describe())\n",
    "    \n",
    "    # save\n",
    "    output_file = Path(\n",
    "        RESULTS_DIR,\n",
    "        generate_result_set_name(\n",
    "            options,\n",
    "            prefix=f'umap-{input_filepath_stem}-',\n",
    "            suffix='.pkl'\n",
    "        )\n",
    "    ).resolve()\n",
    "    display(output_file)\n",
    "    \n",
    "    dr_data.to_pickle(output_file)\n",
    "    \n",
    "    print('\\n')"
   ]
  },
  {
   "cell_type": "code",
   "execution_count": null,
   "metadata": {
    "papermill": {
     "duration": 0.015327,
     "end_time": "2020-11-30T18:33:30.644774",
     "exception": false,
     "start_time": "2020-11-30T18:33:30.629447",
     "status": "completed"
    },
    "tags": []
   },
   "outputs": [],
   "source": []
  }
 ],
 "metadata": {
  "kernelspec": {
   "display_name": "Python 3",
   "language": "python",
   "name": "python3"
  },
  "language_info": {
   "codemirror_mode": {
    "name": "ipython",
    "version": 3
   },
   "file_extension": ".py",
   "mimetype": "text/x-python",
   "name": "python",
   "nbconvert_exporter": "python",
   "pygments_lexer": "ipython3",
   "version": "3.8.6"
  },
  "papermill": {
   "default_parameters": {},
   "duration": 118.929901,
   "end_time": "2020-11-30T18:33:31.267772",
   "environment_variables": {},
   "exception": null,
   "input_path": "10_data_transformations/000_01-umap.ipynb",
   "output_path": "10_data_transformations/000_01-umap.run.ipynb",
   "parameters": {},
   "start_time": "2020-11-30T18:31:32.337871",
   "version": "2.2.2"
  },
  "toc-autonumbering": true,
  "toc-showcode": false,
  "toc-showmarkdowntxt": false,
  "toc-showtags": false
 },
 "nbformat": 4,
 "nbformat_minor": 4
}