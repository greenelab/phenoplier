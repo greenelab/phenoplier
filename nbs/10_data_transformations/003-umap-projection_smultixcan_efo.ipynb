{
 "cells": [
  {
   "cell_type": "markdown",
   "metadata": {},
   "source": [
    "# Description"
   ]
  },
  {
   "cell_type": "markdown",
   "metadata": {},
   "source": [
    "It projects input data into a UMAP representation."
   ]
  },
  {
   "cell_type": "markdown",
   "metadata": {},
   "source": [
    "# Modules loading"
   ]
  },
  {
   "cell_type": "code",
   "execution_count": 1,
   "metadata": {},
   "outputs": [],
   "source": [
    "%load_ext autoreload\n",
    "%autoreload 2"
   ]
  },
  {
   "cell_type": "code",
   "execution_count": 2,
   "metadata": {},
   "outputs": [],
   "source": [
    "from pathlib import Path\n",
    "from IPython.display import display\n",
    "\n",
    "import pandas as pd\n",
    "import umap\n",
    "import matplotlib.pyplot as plt\n",
    "import seaborn as sns\n",
    "\n",
    "import conf\n",
    "from utils import generate_result_set_name"
   ]
  },
  {
   "cell_type": "markdown",
   "metadata": {},
   "source": [
    "# Settings"
   ]
  },
  {
   "cell_type": "code",
   "execution_count": 3,
   "metadata": {},
   "outputs": [
    {
     "data": {
      "text/plain": [
       "PosixPath('/media/miltondp/Elements1/projects/phenoplier/results/projections/projection-smultixcan-efo_partial-mashr-zscores.pkl')"
      ]
     },
     "metadata": {},
     "output_type": "display_data"
    },
    {
     "data": {
      "text/plain": [
       "'projection-smultixcan-efo_partial-mashr-zscores'"
      ]
     },
     "metadata": {},
     "output_type": "display_data"
    }
   ],
   "source": [
    "INPUT_FILEPATH = Path(\n",
    "    conf.RESULTS['PROJECTIONS_DIR'],\n",
    "    'projection-smultixcan-efo_partial-mashr-zscores.pkl'\n",
    ").resolve()\n",
    "display(INPUT_FILEPATH)\n",
    "\n",
    "input_filepath_stem = INPUT_FILEPATH.stem\n",
    "display(input_filepath_stem)"
   ]
  },
  {
   "cell_type": "code",
   "execution_count": 4,
   "metadata": {},
   "outputs": [],
   "source": [
    "# number of components to use in the dimensionality reduction step\n",
    "DR_OPTIONS = {\n",
    "    'n_components': [5, 10, 20, 30, 40, 50],\n",
    "    'metric': 'euclidean',\n",
    "    'n_neighbors': 15,\n",
    "    'random_state': 0,\n",
    "}"
   ]
  },
  {
   "cell_type": "code",
   "execution_count": 5,
   "metadata": {},
   "outputs": [
    {
     "data": {
      "text/plain": [
       "PosixPath('/media/miltondp/Elements1/projects/phenoplier/results/data_transformations/umap')"
      ]
     },
     "metadata": {},
     "output_type": "display_data"
    }
   ],
   "source": [
    "# output dir for this notebook\n",
    "RESULTS_DIR = Path(\n",
    "    conf.RESULTS[\"DATA_TRANSFORMATIONS_DIR\"],\n",
    "    'umap'\n",
    ").resolve()\n",
    "RESULTS_DIR.mkdir(parents=True, exist_ok=True)\n",
    "\n",
    "display(RESULTS_DIR)"
   ]
  },
  {
   "cell_type": "code",
   "execution_count": 6,
   "metadata": {},
   "outputs": [
    {
     "data": {
      "text/plain": [
       "{'n_components': [5, 10, 20, 30, 40, 50],\n",
       " 'metric': 'euclidean',\n",
       " 'n_neighbors': 15,\n",
       " 'random_state': 0}"
      ]
     },
     "metadata": {},
     "output_type": "display_data"
    }
   ],
   "source": [
    "# dictionary containing all options/settings (used to generate filenames)\n",
    "ALL_OPTIONS = DR_OPTIONS.copy()\n",
    "# ALL_OPTIONS['proj_percentile'] = PERCENTILE_NAME\n",
    "\n",
    "display(ALL_OPTIONS)"
   ]
  },
  {
   "cell_type": "markdown",
   "metadata": {},
   "source": [
    "# Load input file"
   ]
  },
  {
   "cell_type": "code",
   "execution_count": 7,
   "metadata": {},
   "outputs": [],
   "source": [
    "data = pd.read_pickle(INPUT_FILEPATH).T"
   ]
  },
  {
   "cell_type": "code",
   "execution_count": 8,
   "metadata": {},
   "outputs": [
    {
     "data": {
      "text/plain": [
       "(3749, 987)"
      ]
     },
     "execution_count": 8,
     "metadata": {},
     "output_type": "execute_result"
    }
   ],
   "source": [
    "data.shape"
   ]
  },
  {
   "cell_type": "code",
   "execution_count": 9,
   "metadata": {},
   "outputs": [
    {
     "data": {
      "text/html": [
       "<div>\n",
       "<style scoped>\n",
       "    .dataframe tbody tr th:only-of-type {\n",
       "        vertical-align: middle;\n",
       "    }\n",
       "\n",
       "    .dataframe tbody tr th {\n",
       "        vertical-align: top;\n",
       "    }\n",
       "\n",
       "    .dataframe thead th {\n",
       "        text-align: right;\n",
       "    }\n",
       "</style>\n",
       "<table border=\"1\" class=\"dataframe\">\n",
       "  <thead>\n",
       "    <tr style=\"text-align: right;\">\n",
       "      <th></th>\n",
       "      <th>LV1</th>\n",
       "      <th>LV2</th>\n",
       "      <th>LV3</th>\n",
       "      <th>LV4</th>\n",
       "      <th>LV5</th>\n",
       "      <th>LV6</th>\n",
       "      <th>LV7</th>\n",
       "      <th>LV8</th>\n",
       "      <th>LV9</th>\n",
       "      <th>LV10</th>\n",
       "      <th>...</th>\n",
       "      <th>LV978</th>\n",
       "      <th>LV979</th>\n",
       "      <th>LV980</th>\n",
       "      <th>LV981</th>\n",
       "      <th>LV982</th>\n",
       "      <th>LV983</th>\n",
       "      <th>LV984</th>\n",
       "      <th>LV985</th>\n",
       "      <th>LV986</th>\n",
       "      <th>LV987</th>\n",
       "    </tr>\n",
       "  </thead>\n",
       "  <tbody>\n",
       "    <tr>\n",
       "      <th>100001_raw-Food_weight</th>\n",
       "      <td>-0.018452</td>\n",
       "      <td>0.052938</td>\n",
       "      <td>-0.003629</td>\n",
       "      <td>0.028359</td>\n",
       "      <td>-0.015500</td>\n",
       "      <td>0.035854</td>\n",
       "      <td>-0.015439</td>\n",
       "      <td>0.023007</td>\n",
       "      <td>0.017368</td>\n",
       "      <td>0.026811</td>\n",
       "      <td>...</td>\n",
       "      <td>0.033560</td>\n",
       "      <td>0.047126</td>\n",
       "      <td>-0.036183</td>\n",
       "      <td>0.068750</td>\n",
       "      <td>0.023462</td>\n",
       "      <td>-0.030111</td>\n",
       "      <td>0.011272</td>\n",
       "      <td>-0.017171</td>\n",
       "      <td>0.016078</td>\n",
       "      <td>-0.022283</td>\n",
       "    </tr>\n",
       "    <tr>\n",
       "      <th>100002_raw-Energy</th>\n",
       "      <td>-0.043782</td>\n",
       "      <td>-0.012041</td>\n",
       "      <td>-0.011772</td>\n",
       "      <td>-0.006148</td>\n",
       "      <td>0.007011</td>\n",
       "      <td>0.018142</td>\n",
       "      <td>0.003144</td>\n",
       "      <td>0.018049</td>\n",
       "      <td>0.006926</td>\n",
       "      <td>0.038587</td>\n",
       "      <td>...</td>\n",
       "      <td>0.004833</td>\n",
       "      <td>0.022842</td>\n",
       "      <td>-0.009519</td>\n",
       "      <td>-0.000258</td>\n",
       "      <td>0.059764</td>\n",
       "      <td>-0.028394</td>\n",
       "      <td>-0.005967</td>\n",
       "      <td>0.045269</td>\n",
       "      <td>-0.007684</td>\n",
       "      <td>-0.018910</td>\n",
       "    </tr>\n",
       "    <tr>\n",
       "      <th>100003_raw-Protein</th>\n",
       "      <td>-0.021514</td>\n",
       "      <td>-0.028537</td>\n",
       "      <td>0.009441</td>\n",
       "      <td>0.007808</td>\n",
       "      <td>0.012707</td>\n",
       "      <td>0.021681</td>\n",
       "      <td>-0.006315</td>\n",
       "      <td>0.016129</td>\n",
       "      <td>0.000076</td>\n",
       "      <td>-0.001702</td>\n",
       "      <td>...</td>\n",
       "      <td>0.029704</td>\n",
       "      <td>0.029135</td>\n",
       "      <td>-0.056508</td>\n",
       "      <td>-0.002032</td>\n",
       "      <td>0.001189</td>\n",
       "      <td>-0.025507</td>\n",
       "      <td>-0.013012</td>\n",
       "      <td>0.037458</td>\n",
       "      <td>-0.009592</td>\n",
       "      <td>-0.016718</td>\n",
       "    </tr>\n",
       "    <tr>\n",
       "      <th>100004_raw-Fat</th>\n",
       "      <td>-0.030454</td>\n",
       "      <td>-0.052542</td>\n",
       "      <td>0.000459</td>\n",
       "      <td>-0.039613</td>\n",
       "      <td>0.006191</td>\n",
       "      <td>0.029523</td>\n",
       "      <td>0.000747</td>\n",
       "      <td>0.011876</td>\n",
       "      <td>-0.025758</td>\n",
       "      <td>0.025099</td>\n",
       "      <td>...</td>\n",
       "      <td>0.015900</td>\n",
       "      <td>0.016482</td>\n",
       "      <td>0.007409</td>\n",
       "      <td>-0.006833</td>\n",
       "      <td>0.036457</td>\n",
       "      <td>-0.034531</td>\n",
       "      <td>0.015365</td>\n",
       "      <td>0.023796</td>\n",
       "      <td>-0.017477</td>\n",
       "      <td>-0.005397</td>\n",
       "    </tr>\n",
       "    <tr>\n",
       "      <th>100005_raw-Carbohydrate</th>\n",
       "      <td>-0.017428</td>\n",
       "      <td>0.003757</td>\n",
       "      <td>-0.003708</td>\n",
       "      <td>-0.000929</td>\n",
       "      <td>-0.000647</td>\n",
       "      <td>-0.005729</td>\n",
       "      <td>0.024970</td>\n",
       "      <td>0.011531</td>\n",
       "      <td>0.035043</td>\n",
       "      <td>0.025159</td>\n",
       "      <td>...</td>\n",
       "      <td>-0.010071</td>\n",
       "      <td>0.002266</td>\n",
       "      <td>0.006664</td>\n",
       "      <td>0.007380</td>\n",
       "      <td>0.029940</td>\n",
       "      <td>-0.006989</td>\n",
       "      <td>0.014807</td>\n",
       "      <td>0.050208</td>\n",
       "      <td>0.005352</td>\n",
       "      <td>-0.049218</td>\n",
       "    </tr>\n",
       "  </tbody>\n",
       "</table>\n",
       "<p>5 rows × 987 columns</p>\n",
       "</div>"
      ],
      "text/plain": [
       "                              LV1       LV2       LV3       LV4       LV5  \\\n",
       "100001_raw-Food_weight  -0.018452  0.052938 -0.003629  0.028359 -0.015500   \n",
       "100002_raw-Energy       -0.043782 -0.012041 -0.011772 -0.006148  0.007011   \n",
       "100003_raw-Protein      -0.021514 -0.028537  0.009441  0.007808  0.012707   \n",
       "100004_raw-Fat          -0.030454 -0.052542  0.000459 -0.039613  0.006191   \n",
       "100005_raw-Carbohydrate -0.017428  0.003757 -0.003708 -0.000929 -0.000647   \n",
       "\n",
       "                              LV6       LV7       LV8       LV9      LV10  \\\n",
       "100001_raw-Food_weight   0.035854 -0.015439  0.023007  0.017368  0.026811   \n",
       "100002_raw-Energy        0.018142  0.003144  0.018049  0.006926  0.038587   \n",
       "100003_raw-Protein       0.021681 -0.006315  0.016129  0.000076 -0.001702   \n",
       "100004_raw-Fat           0.029523  0.000747  0.011876 -0.025758  0.025099   \n",
       "100005_raw-Carbohydrate -0.005729  0.024970  0.011531  0.035043  0.025159   \n",
       "\n",
       "                         ...     LV978     LV979     LV980     LV981  \\\n",
       "100001_raw-Food_weight   ...  0.033560  0.047126 -0.036183  0.068750   \n",
       "100002_raw-Energy        ...  0.004833  0.022842 -0.009519 -0.000258   \n",
       "100003_raw-Protein       ...  0.029704  0.029135 -0.056508 -0.002032   \n",
       "100004_raw-Fat           ...  0.015900  0.016482  0.007409 -0.006833   \n",
       "100005_raw-Carbohydrate  ... -0.010071  0.002266  0.006664  0.007380   \n",
       "\n",
       "                            LV982     LV983     LV984     LV985     LV986  \\\n",
       "100001_raw-Food_weight   0.023462 -0.030111  0.011272 -0.017171  0.016078   \n",
       "100002_raw-Energy        0.059764 -0.028394 -0.005967  0.045269 -0.007684   \n",
       "100003_raw-Protein       0.001189 -0.025507 -0.013012  0.037458 -0.009592   \n",
       "100004_raw-Fat           0.036457 -0.034531  0.015365  0.023796 -0.017477   \n",
       "100005_raw-Carbohydrate  0.029940 -0.006989  0.014807  0.050208  0.005352   \n",
       "\n",
       "                            LV987  \n",
       "100001_raw-Food_weight  -0.022283  \n",
       "100002_raw-Energy       -0.018910  \n",
       "100003_raw-Protein      -0.016718  \n",
       "100004_raw-Fat          -0.005397  \n",
       "100005_raw-Carbohydrate -0.049218  \n",
       "\n",
       "[5 rows x 987 columns]"
      ]
     },
     "execution_count": 9,
     "metadata": {},
     "output_type": "execute_result"
    }
   ],
   "source": [
    "data.head()"
   ]
  },
  {
   "cell_type": "markdown",
   "metadata": {},
   "source": [
    "# UMAP"
   ]
  },
  {
   "cell_type": "code",
   "execution_count": 10,
   "metadata": {},
   "outputs": [],
   "source": [
    "def get_umap_proj(orig_data, options):\n",
    "    umap_obj = umap.UMAP(**{k:v for k, v in options.items() if k in DR_OPTIONS})\n",
    "    umap_obj = umap_obj.fit(orig_data)\n",
    "    umap_data = umap_obj.transform(orig_data)\n",
    "    return pd.DataFrame(\n",
    "        data=umap_data,\n",
    "        index=orig_data.index.copy(),\n",
    "        columns=[f'UMAP{i+1}' for i in range(umap_data.shape[1])]\n",
    "    )"
   ]
  },
  {
   "cell_type": "code",
   "execution_count": 11,
   "metadata": {},
   "outputs": [
    {
     "name": "stdout",
     "output_type": "stream",
     "text": [
      "# components: 5\n"
     ]
    },
    {
     "data": {
      "text/plain": [
       "(3749, 5)"
      ]
     },
     "metadata": {},
     "output_type": "display_data"
    },
    {
     "data": {
      "text/html": [
       "<div>\n",
       "<style scoped>\n",
       "    .dataframe tbody tr th:only-of-type {\n",
       "        vertical-align: middle;\n",
       "    }\n",
       "\n",
       "    .dataframe tbody tr th {\n",
       "        vertical-align: top;\n",
       "    }\n",
       "\n",
       "    .dataframe thead th {\n",
       "        text-align: right;\n",
       "    }\n",
       "</style>\n",
       "<table border=\"1\" class=\"dataframe\">\n",
       "  <thead>\n",
       "    <tr style=\"text-align: right;\">\n",
       "      <th></th>\n",
       "      <th>UMAP1</th>\n",
       "      <th>UMAP2</th>\n",
       "      <th>UMAP3</th>\n",
       "      <th>UMAP4</th>\n",
       "      <th>UMAP5</th>\n",
       "    </tr>\n",
       "  </thead>\n",
       "  <tbody>\n",
       "    <tr>\n",
       "      <th>count</th>\n",
       "      <td>3749.000000</td>\n",
       "      <td>3749.000000</td>\n",
       "      <td>3749.000000</td>\n",
       "      <td>3749.000000</td>\n",
       "      <td>3749.000000</td>\n",
       "    </tr>\n",
       "    <tr>\n",
       "      <th>mean</th>\n",
       "      <td>3.996364</td>\n",
       "      <td>-4.579150</td>\n",
       "      <td>-2.381185</td>\n",
       "      <td>12.718588</td>\n",
       "      <td>15.357991</td>\n",
       "    </tr>\n",
       "    <tr>\n",
       "      <th>std</th>\n",
       "      <td>0.828690</td>\n",
       "      <td>1.125089</td>\n",
       "      <td>0.734250</td>\n",
       "      <td>1.221331</td>\n",
       "      <td>0.908778</td>\n",
       "    </tr>\n",
       "    <tr>\n",
       "      <th>min</th>\n",
       "      <td>2.210563</td>\n",
       "      <td>-5.985320</td>\n",
       "      <td>-4.135514</td>\n",
       "      <td>5.086887</td>\n",
       "      <td>8.194320</td>\n",
       "    </tr>\n",
       "    <tr>\n",
       "      <th>25%</th>\n",
       "      <td>3.442145</td>\n",
       "      <td>-5.132524</td>\n",
       "      <td>-2.808691</td>\n",
       "      <td>12.422697</td>\n",
       "      <td>15.048211</td>\n",
       "    </tr>\n",
       "    <tr>\n",
       "      <th>50%</th>\n",
       "      <td>3.875299</td>\n",
       "      <td>-4.676681</td>\n",
       "      <td>-2.372222</td>\n",
       "      <td>12.952255</td>\n",
       "      <td>15.438498</td>\n",
       "    </tr>\n",
       "    <tr>\n",
       "      <th>75%</th>\n",
       "      <td>4.388280</td>\n",
       "      <td>-4.222258</td>\n",
       "      <td>-2.054847</td>\n",
       "      <td>13.364546</td>\n",
       "      <td>15.816606</td>\n",
       "    </tr>\n",
       "    <tr>\n",
       "      <th>max</th>\n",
       "      <td>8.131745</td>\n",
       "      <td>12.219553</td>\n",
       "      <td>4.790262</td>\n",
       "      <td>14.530914</td>\n",
       "      <td>17.804277</td>\n",
       "    </tr>\n",
       "  </tbody>\n",
       "</table>\n",
       "</div>"
      ],
      "text/plain": [
       "             UMAP1        UMAP2        UMAP3        UMAP4        UMAP5\n",
       "count  3749.000000  3749.000000  3749.000000  3749.000000  3749.000000\n",
       "mean      3.996364    -4.579150    -2.381185    12.718588    15.357991\n",
       "std       0.828690     1.125089     0.734250     1.221331     0.908778\n",
       "min       2.210563    -5.985320    -4.135514     5.086887     8.194320\n",
       "25%       3.442145    -5.132524    -2.808691    12.422697    15.048211\n",
       "50%       3.875299    -4.676681    -2.372222    12.952255    15.438498\n",
       "75%       4.388280    -4.222258    -2.054847    13.364546    15.816606\n",
       "max       8.131745    12.219553     4.790262    14.530914    17.804277"
      ]
     },
     "metadata": {},
     "output_type": "display_data"
    },
    {
     "data": {
      "text/plain": [
       "PosixPath('/media/miltondp/Elements1/projects/phenoplier/results/data_transformations/umap/umap-projection-smultixcan-efo_partial-mashr-zscores-metric_euclidean-n_components_5-n_neighbors_15-random_state_0.pkl')"
      ]
     },
     "metadata": {},
     "output_type": "display_data"
    },
    {
     "name": "stdout",
     "output_type": "stream",
     "text": [
      "\n",
      "\n",
      "# components: 10\n"
     ]
    },
    {
     "data": {
      "text/plain": [
       "(3749, 10)"
      ]
     },
     "metadata": {},
     "output_type": "display_data"
    },
    {
     "data": {
      "text/html": [
       "<div>\n",
       "<style scoped>\n",
       "    .dataframe tbody tr th:only-of-type {\n",
       "        vertical-align: middle;\n",
       "    }\n",
       "\n",
       "    .dataframe tbody tr th {\n",
       "        vertical-align: top;\n",
       "    }\n",
       "\n",
       "    .dataframe thead th {\n",
       "        text-align: right;\n",
       "    }\n",
       "</style>\n",
       "<table border=\"1\" class=\"dataframe\">\n",
       "  <thead>\n",
       "    <tr style=\"text-align: right;\">\n",
       "      <th></th>\n",
       "      <th>UMAP1</th>\n",
       "      <th>UMAP2</th>\n",
       "      <th>UMAP3</th>\n",
       "      <th>UMAP4</th>\n",
       "      <th>UMAP5</th>\n",
       "    </tr>\n",
       "  </thead>\n",
       "  <tbody>\n",
       "    <tr>\n",
       "      <th>count</th>\n",
       "      <td>3749.000000</td>\n",
       "      <td>3749.000000</td>\n",
       "      <td>3749.000000</td>\n",
       "      <td>3749.000000</td>\n",
       "      <td>3749.000000</td>\n",
       "    </tr>\n",
       "    <tr>\n",
       "      <th>mean</th>\n",
       "      <td>11.846665</td>\n",
       "      <td>2.969445</td>\n",
       "      <td>-3.858104</td>\n",
       "      <td>1.500653</td>\n",
       "      <td>-4.276917</td>\n",
       "    </tr>\n",
       "    <tr>\n",
       "      <th>std</th>\n",
       "      <td>0.583781</td>\n",
       "      <td>0.635233</td>\n",
       "      <td>0.773101</td>\n",
       "      <td>0.545960</td>\n",
       "      <td>0.839233</td>\n",
       "    </tr>\n",
       "    <tr>\n",
       "      <th>min</th>\n",
       "      <td>7.827236</td>\n",
       "      <td>0.219349</td>\n",
       "      <td>-5.098680</td>\n",
       "      <td>0.102483</td>\n",
       "      <td>-5.615700</td>\n",
       "    </tr>\n",
       "    <tr>\n",
       "      <th>25%</th>\n",
       "      <td>11.582856</td>\n",
       "      <td>2.713638</td>\n",
       "      <td>-4.268599</td>\n",
       "      <td>1.184582</td>\n",
       "      <td>-4.645813</td>\n",
       "    </tr>\n",
       "    <tr>\n",
       "      <th>50%</th>\n",
       "      <td>11.881741</td>\n",
       "      <td>2.997579</td>\n",
       "      <td>-3.956902</td>\n",
       "      <td>1.480065</td>\n",
       "      <td>-4.419270</td>\n",
       "    </tr>\n",
       "    <tr>\n",
       "      <th>75%</th>\n",
       "      <td>12.160008</td>\n",
       "      <td>3.278105</td>\n",
       "      <td>-3.585745</td>\n",
       "      <td>1.744241</td>\n",
       "      <td>-4.092615</td>\n",
       "    </tr>\n",
       "    <tr>\n",
       "      <th>max</th>\n",
       "      <td>13.151178</td>\n",
       "      <td>11.667685</td>\n",
       "      <td>4.690622</td>\n",
       "      <td>5.284763</td>\n",
       "      <td>2.517114</td>\n",
       "    </tr>\n",
       "  </tbody>\n",
       "</table>\n",
       "</div>"
      ],
      "text/plain": [
       "             UMAP1        UMAP2        UMAP3        UMAP4        UMAP5\n",
       "count  3749.000000  3749.000000  3749.000000  3749.000000  3749.000000\n",
       "mean     11.846665     2.969445    -3.858104     1.500653    -4.276917\n",
       "std       0.583781     0.635233     0.773101     0.545960     0.839233\n",
       "min       7.827236     0.219349    -5.098680     0.102483    -5.615700\n",
       "25%      11.582856     2.713638    -4.268599     1.184582    -4.645813\n",
       "50%      11.881741     2.997579    -3.956902     1.480065    -4.419270\n",
       "75%      12.160008     3.278105    -3.585745     1.744241    -4.092615\n",
       "max      13.151178    11.667685     4.690622     5.284763     2.517114"
      ]
     },
     "metadata": {},
     "output_type": "display_data"
    },
    {
     "data": {
      "text/plain": [
       "PosixPath('/media/miltondp/Elements1/projects/phenoplier/results/data_transformations/umap/umap-projection-smultixcan-efo_partial-mashr-zscores-metric_euclidean-n_components_10-n_neighbors_15-random_state_0.pkl')"
      ]
     },
     "metadata": {},
     "output_type": "display_data"
    },
    {
     "name": "stdout",
     "output_type": "stream",
     "text": [
      "\n",
      "\n",
      "# components: 20\n"
     ]
    },
    {
     "data": {
      "text/plain": [
       "(3749, 20)"
      ]
     },
     "metadata": {},
     "output_type": "display_data"
    },
    {
     "data": {
      "text/html": [
       "<div>\n",
       "<style scoped>\n",
       "    .dataframe tbody tr th:only-of-type {\n",
       "        vertical-align: middle;\n",
       "    }\n",
       "\n",
       "    .dataframe tbody tr th {\n",
       "        vertical-align: top;\n",
       "    }\n",
       "\n",
       "    .dataframe thead th {\n",
       "        text-align: right;\n",
       "    }\n",
       "</style>\n",
       "<table border=\"1\" class=\"dataframe\">\n",
       "  <thead>\n",
       "    <tr style=\"text-align: right;\">\n",
       "      <th></th>\n",
       "      <th>UMAP1</th>\n",
       "      <th>UMAP2</th>\n",
       "      <th>UMAP3</th>\n",
       "      <th>UMAP4</th>\n",
       "      <th>UMAP5</th>\n",
       "    </tr>\n",
       "  </thead>\n",
       "  <tbody>\n",
       "    <tr>\n",
       "      <th>count</th>\n",
       "      <td>3749.000000</td>\n",
       "      <td>3749.000000</td>\n",
       "      <td>3749.000000</td>\n",
       "      <td>3749.000000</td>\n",
       "      <td>3749.000000</td>\n",
       "    </tr>\n",
       "    <tr>\n",
       "      <th>mean</th>\n",
       "      <td>14.314087</td>\n",
       "      <td>10.125624</td>\n",
       "      <td>10.845999</td>\n",
       "      <td>4.331203</td>\n",
       "      <td>14.293452</td>\n",
       "    </tr>\n",
       "    <tr>\n",
       "      <th>std</th>\n",
       "      <td>0.832876</td>\n",
       "      <td>0.618109</td>\n",
       "      <td>0.523132</td>\n",
       "      <td>0.268324</td>\n",
       "      <td>0.608360</td>\n",
       "    </tr>\n",
       "    <tr>\n",
       "      <th>min</th>\n",
       "      <td>8.263475</td>\n",
       "      <td>-2.044916</td>\n",
       "      <td>4.283272</td>\n",
       "      <td>3.477882</td>\n",
       "      <td>9.230556</td>\n",
       "    </tr>\n",
       "    <tr>\n",
       "      <th>25%</th>\n",
       "      <td>14.247963</td>\n",
       "      <td>9.994162</td>\n",
       "      <td>10.684250</td>\n",
       "      <td>4.158350</td>\n",
       "      <td>14.186441</td>\n",
       "    </tr>\n",
       "    <tr>\n",
       "      <th>50%</th>\n",
       "      <td>14.468014</td>\n",
       "      <td>10.166414</td>\n",
       "      <td>10.921513</td>\n",
       "      <td>4.338503</td>\n",
       "      <td>14.359128</td>\n",
       "    </tr>\n",
       "    <tr>\n",
       "      <th>75%</th>\n",
       "      <td>14.657330</td>\n",
       "      <td>10.332847</td>\n",
       "      <td>11.112129</td>\n",
       "      <td>4.515208</td>\n",
       "      <td>14.523200</td>\n",
       "    </tr>\n",
       "    <tr>\n",
       "      <th>max</th>\n",
       "      <td>15.363819</td>\n",
       "      <td>10.943927</td>\n",
       "      <td>11.727321</td>\n",
       "      <td>5.537631</td>\n",
       "      <td>15.165653</td>\n",
       "    </tr>\n",
       "  </tbody>\n",
       "</table>\n",
       "</div>"
      ],
      "text/plain": [
       "             UMAP1        UMAP2        UMAP3        UMAP4        UMAP5\n",
       "count  3749.000000  3749.000000  3749.000000  3749.000000  3749.000000\n",
       "mean     14.314087    10.125624    10.845999     4.331203    14.293452\n",
       "std       0.832876     0.618109     0.523132     0.268324     0.608360\n",
       "min       8.263475    -2.044916     4.283272     3.477882     9.230556\n",
       "25%      14.247963     9.994162    10.684250     4.158350    14.186441\n",
       "50%      14.468014    10.166414    10.921513     4.338503    14.359128\n",
       "75%      14.657330    10.332847    11.112129     4.515208    14.523200\n",
       "max      15.363819    10.943927    11.727321     5.537631    15.165653"
      ]
     },
     "metadata": {},
     "output_type": "display_data"
    },
    {
     "data": {
      "text/plain": [
       "PosixPath('/media/miltondp/Elements1/projects/phenoplier/results/data_transformations/umap/umap-projection-smultixcan-efo_partial-mashr-zscores-metric_euclidean-n_components_20-n_neighbors_15-random_state_0.pkl')"
      ]
     },
     "metadata": {},
     "output_type": "display_data"
    },
    {
     "name": "stdout",
     "output_type": "stream",
     "text": [
      "\n",
      "\n",
      "# components: 30\n"
     ]
    },
    {
     "data": {
      "text/plain": [
       "(3749, 30)"
      ]
     },
     "metadata": {},
     "output_type": "display_data"
    },
    {
     "data": {
      "text/html": [
       "<div>\n",
       "<style scoped>\n",
       "    .dataframe tbody tr th:only-of-type {\n",
       "        vertical-align: middle;\n",
       "    }\n",
       "\n",
       "    .dataframe tbody tr th {\n",
       "        vertical-align: top;\n",
       "    }\n",
       "\n",
       "    .dataframe thead th {\n",
       "        text-align: right;\n",
       "    }\n",
       "</style>\n",
       "<table border=\"1\" class=\"dataframe\">\n",
       "  <thead>\n",
       "    <tr style=\"text-align: right;\">\n",
       "      <th></th>\n",
       "      <th>UMAP1</th>\n",
       "      <th>UMAP2</th>\n",
       "      <th>UMAP3</th>\n",
       "      <th>UMAP4</th>\n",
       "      <th>UMAP5</th>\n",
       "    </tr>\n",
       "  </thead>\n",
       "  <tbody>\n",
       "    <tr>\n",
       "      <th>count</th>\n",
       "      <td>3749.000000</td>\n",
       "      <td>3749.000000</td>\n",
       "      <td>3749.000000</td>\n",
       "      <td>3749.000000</td>\n",
       "      <td>3749.000000</td>\n",
       "    </tr>\n",
       "    <tr>\n",
       "      <th>mean</th>\n",
       "      <td>13.344429</td>\n",
       "      <td>10.320044</td>\n",
       "      <td>8.814381</td>\n",
       "      <td>8.121710</td>\n",
       "      <td>12.930243</td>\n",
       "    </tr>\n",
       "    <tr>\n",
       "      <th>std</th>\n",
       "      <td>0.760608</td>\n",
       "      <td>0.573750</td>\n",
       "      <td>0.344378</td>\n",
       "      <td>0.397372</td>\n",
       "      <td>0.536628</td>\n",
       "    </tr>\n",
       "    <tr>\n",
       "      <th>min</th>\n",
       "      <td>7.442815</td>\n",
       "      <td>-1.166084</td>\n",
       "      <td>4.930897</td>\n",
       "      <td>5.297506</td>\n",
       "      <td>8.356246</td>\n",
       "    </tr>\n",
       "    <tr>\n",
       "      <th>25%</th>\n",
       "      <td>13.298338</td>\n",
       "      <td>10.205273</td>\n",
       "      <td>8.655258</td>\n",
       "      <td>7.994777</td>\n",
       "      <td>12.856535</td>\n",
       "    </tr>\n",
       "    <tr>\n",
       "      <th>50%</th>\n",
       "      <td>13.479302</td>\n",
       "      <td>10.340881</td>\n",
       "      <td>8.795181</td>\n",
       "      <td>8.165555</td>\n",
       "      <td>12.985718</td>\n",
       "    </tr>\n",
       "    <tr>\n",
       "      <th>75%</th>\n",
       "      <td>13.620317</td>\n",
       "      <td>10.490021</td>\n",
       "      <td>8.951226</td>\n",
       "      <td>8.335352</td>\n",
       "      <td>13.112096</td>\n",
       "    </tr>\n",
       "    <tr>\n",
       "      <th>max</th>\n",
       "      <td>14.345589</td>\n",
       "      <td>10.957788</td>\n",
       "      <td>10.327756</td>\n",
       "      <td>9.123297</td>\n",
       "      <td>13.603683</td>\n",
       "    </tr>\n",
       "  </tbody>\n",
       "</table>\n",
       "</div>"
      ],
      "text/plain": [
       "             UMAP1        UMAP2        UMAP3        UMAP4        UMAP5\n",
       "count  3749.000000  3749.000000  3749.000000  3749.000000  3749.000000\n",
       "mean     13.344429    10.320044     8.814381     8.121710    12.930243\n",
       "std       0.760608     0.573750     0.344378     0.397372     0.536628\n",
       "min       7.442815    -1.166084     4.930897     5.297506     8.356246\n",
       "25%      13.298338    10.205273     8.655258     7.994777    12.856535\n",
       "50%      13.479302    10.340881     8.795181     8.165555    12.985718\n",
       "75%      13.620317    10.490021     8.951226     8.335352    13.112096\n",
       "max      14.345589    10.957788    10.327756     9.123297    13.603683"
      ]
     },
     "metadata": {},
     "output_type": "display_data"
    },
    {
     "data": {
      "text/plain": [
       "PosixPath('/media/miltondp/Elements1/projects/phenoplier/results/data_transformations/umap/umap-projection-smultixcan-efo_partial-mashr-zscores-metric_euclidean-n_components_30-n_neighbors_15-random_state_0.pkl')"
      ]
     },
     "metadata": {},
     "output_type": "display_data"
    },
    {
     "name": "stdout",
     "output_type": "stream",
     "text": [
      "\n",
      "\n",
      "# components: 40\n"
     ]
    },
    {
     "data": {
      "text/plain": [
       "(3749, 40)"
      ]
     },
     "metadata": {},
     "output_type": "display_data"
    },
    {
     "data": {
      "text/html": [
       "<div>\n",
       "<style scoped>\n",
       "    .dataframe tbody tr th:only-of-type {\n",
       "        vertical-align: middle;\n",
       "    }\n",
       "\n",
       "    .dataframe tbody tr th {\n",
       "        vertical-align: top;\n",
       "    }\n",
       "\n",
       "    .dataframe thead th {\n",
       "        text-align: right;\n",
       "    }\n",
       "</style>\n",
       "<table border=\"1\" class=\"dataframe\">\n",
       "  <thead>\n",
       "    <tr style=\"text-align: right;\">\n",
       "      <th></th>\n",
       "      <th>UMAP1</th>\n",
       "      <th>UMAP2</th>\n",
       "      <th>UMAP3</th>\n",
       "      <th>UMAP4</th>\n",
       "      <th>UMAP5</th>\n",
       "    </tr>\n",
       "  </thead>\n",
       "  <tbody>\n",
       "    <tr>\n",
       "      <th>count</th>\n",
       "      <td>3749.000000</td>\n",
       "      <td>3749.000000</td>\n",
       "      <td>3749.000000</td>\n",
       "      <td>3749.000000</td>\n",
       "      <td>3749.000000</td>\n",
       "    </tr>\n",
       "    <tr>\n",
       "      <th>mean</th>\n",
       "      <td>12.184085</td>\n",
       "      <td>7.442320</td>\n",
       "      <td>13.120358</td>\n",
       "      <td>8.303720</td>\n",
       "      <td>15.466315</td>\n",
       "    </tr>\n",
       "    <tr>\n",
       "      <th>std</th>\n",
       "      <td>0.596015</td>\n",
       "      <td>0.512163</td>\n",
       "      <td>0.538274</td>\n",
       "      <td>0.412523</td>\n",
       "      <td>0.758163</td>\n",
       "    </tr>\n",
       "    <tr>\n",
       "      <th>min</th>\n",
       "      <td>7.573236</td>\n",
       "      <td>-0.807962</td>\n",
       "      <td>7.162447</td>\n",
       "      <td>5.469018</td>\n",
       "      <td>7.731785</td>\n",
       "    </tr>\n",
       "    <tr>\n",
       "      <th>25%</th>\n",
       "      <td>12.112029</td>\n",
       "      <td>7.252896</td>\n",
       "      <td>13.070852</td>\n",
       "      <td>8.217155</td>\n",
       "      <td>15.435895</td>\n",
       "    </tr>\n",
       "    <tr>\n",
       "      <th>50%</th>\n",
       "      <td>12.280890</td>\n",
       "      <td>7.405071</td>\n",
       "      <td>13.246187</td>\n",
       "      <td>8.377634</td>\n",
       "      <td>15.609369</td>\n",
       "    </tr>\n",
       "    <tr>\n",
       "      <th>75%</th>\n",
       "      <td>12.412335</td>\n",
       "      <td>7.562565</td>\n",
       "      <td>13.354837</td>\n",
       "      <td>8.507201</td>\n",
       "      <td>15.740123</td>\n",
       "    </tr>\n",
       "    <tr>\n",
       "      <th>max</th>\n",
       "      <td>13.106312</td>\n",
       "      <td>9.429248</td>\n",
       "      <td>13.709147</td>\n",
       "      <td>9.210105</td>\n",
       "      <td>16.218624</td>\n",
       "    </tr>\n",
       "  </tbody>\n",
       "</table>\n",
       "</div>"
      ],
      "text/plain": [
       "             UMAP1        UMAP2        UMAP3        UMAP4        UMAP5\n",
       "count  3749.000000  3749.000000  3749.000000  3749.000000  3749.000000\n",
       "mean     12.184085     7.442320    13.120358     8.303720    15.466315\n",
       "std       0.596015     0.512163     0.538274     0.412523     0.758163\n",
       "min       7.573236    -0.807962     7.162447     5.469018     7.731785\n",
       "25%      12.112029     7.252896    13.070852     8.217155    15.435895\n",
       "50%      12.280890     7.405071    13.246187     8.377634    15.609369\n",
       "75%      12.412335     7.562565    13.354837     8.507201    15.740123\n",
       "max      13.106312     9.429248    13.709147     9.210105    16.218624"
      ]
     },
     "metadata": {},
     "output_type": "display_data"
    },
    {
     "data": {
      "text/plain": [
       "PosixPath('/media/miltondp/Elements1/projects/phenoplier/results/data_transformations/umap/umap-projection-smultixcan-efo_partial-mashr-zscores-metric_euclidean-n_components_40-n_neighbors_15-random_state_0.pkl')"
      ]
     },
     "metadata": {},
     "output_type": "display_data"
    },
    {
     "name": "stdout",
     "output_type": "stream",
     "text": [
      "\n",
      "\n",
      "# components: 50\n"
     ]
    },
    {
     "data": {
      "text/plain": [
       "(3749, 50)"
      ]
     },
     "metadata": {},
     "output_type": "display_data"
    },
    {
     "data": {
      "text/html": [
       "<div>\n",
       "<style scoped>\n",
       "    .dataframe tbody tr th:only-of-type {\n",
       "        vertical-align: middle;\n",
       "    }\n",
       "\n",
       "    .dataframe tbody tr th {\n",
       "        vertical-align: top;\n",
       "    }\n",
       "\n",
       "    .dataframe thead th {\n",
       "        text-align: right;\n",
       "    }\n",
       "</style>\n",
       "<table border=\"1\" class=\"dataframe\">\n",
       "  <thead>\n",
       "    <tr style=\"text-align: right;\">\n",
       "      <th></th>\n",
       "      <th>UMAP1</th>\n",
       "      <th>UMAP2</th>\n",
       "      <th>UMAP3</th>\n",
       "      <th>UMAP4</th>\n",
       "      <th>UMAP5</th>\n",
       "    </tr>\n",
       "  </thead>\n",
       "  <tbody>\n",
       "    <tr>\n",
       "      <th>count</th>\n",
       "      <td>3749.000000</td>\n",
       "      <td>3749.000000</td>\n",
       "      <td>3749.000000</td>\n",
       "      <td>3749.000000</td>\n",
       "      <td>3749.000000</td>\n",
       "    </tr>\n",
       "    <tr>\n",
       "      <th>mean</th>\n",
       "      <td>12.190821</td>\n",
       "      <td>9.693271</td>\n",
       "      <td>8.821040</td>\n",
       "      <td>5.151597</td>\n",
       "      <td>13.368401</td>\n",
       "    </tr>\n",
       "    <tr>\n",
       "      <th>std</th>\n",
       "      <td>0.574257</td>\n",
       "      <td>0.511677</td>\n",
       "      <td>0.297742</td>\n",
       "      <td>0.204645</td>\n",
       "      <td>0.511793</td>\n",
       "    </tr>\n",
       "    <tr>\n",
       "      <th>min</th>\n",
       "      <td>7.259162</td>\n",
       "      <td>-0.741623</td>\n",
       "      <td>4.879749</td>\n",
       "      <td>4.516759</td>\n",
       "      <td>8.868875</td>\n",
       "    </tr>\n",
       "    <tr>\n",
       "      <th>25%</th>\n",
       "      <td>12.116760</td>\n",
       "      <td>9.599879</td>\n",
       "      <td>8.706084</td>\n",
       "      <td>5.007544</td>\n",
       "      <td>13.277666</td>\n",
       "    </tr>\n",
       "    <tr>\n",
       "      <th>50%</th>\n",
       "      <td>12.264053</td>\n",
       "      <td>9.706082</td>\n",
       "      <td>8.825241</td>\n",
       "      <td>5.154793</td>\n",
       "      <td>13.428452</td>\n",
       "    </tr>\n",
       "    <tr>\n",
       "      <th>75%</th>\n",
       "      <td>12.401225</td>\n",
       "      <td>9.816405</td>\n",
       "      <td>8.944929</td>\n",
       "      <td>5.299308</td>\n",
       "      <td>13.564143</td>\n",
       "    </tr>\n",
       "    <tr>\n",
       "      <th>max</th>\n",
       "      <td>13.152287</td>\n",
       "      <td>10.181146</td>\n",
       "      <td>10.434216</td>\n",
       "      <td>5.804502</td>\n",
       "      <td>14.315068</td>\n",
       "    </tr>\n",
       "  </tbody>\n",
       "</table>\n",
       "</div>"
      ],
      "text/plain": [
       "             UMAP1        UMAP2        UMAP3        UMAP4        UMAP5\n",
       "count  3749.000000  3749.000000  3749.000000  3749.000000  3749.000000\n",
       "mean     12.190821     9.693271     8.821040     5.151597    13.368401\n",
       "std       0.574257     0.511677     0.297742     0.204645     0.511793\n",
       "min       7.259162    -0.741623     4.879749     4.516759     8.868875\n",
       "25%      12.116760     9.599879     8.706084     5.007544    13.277666\n",
       "50%      12.264053     9.706082     8.825241     5.154793    13.428452\n",
       "75%      12.401225     9.816405     8.944929     5.299308    13.564143\n",
       "max      13.152287    10.181146    10.434216     5.804502    14.315068"
      ]
     },
     "metadata": {},
     "output_type": "display_data"
    },
    {
     "data": {
      "text/plain": [
       "PosixPath('/media/miltondp/Elements1/projects/phenoplier/results/data_transformations/umap/umap-projection-smultixcan-efo_partial-mashr-zscores-metric_euclidean-n_components_50-n_neighbors_15-random_state_0.pkl')"
      ]
     },
     "metadata": {},
     "output_type": "display_data"
    },
    {
     "name": "stdout",
     "output_type": "stream",
     "text": [
      "\n",
      "\n"
     ]
    }
   ],
   "source": [
    "# for n_comp, n_neigh in product(DR_OPTIONS['n_components'], DR_OPTIONS['n_neighbors']):\n",
    "for n_comp in DR_OPTIONS['n_components']:\n",
    "    print(f'# components: {n_comp}')\n",
    "    \n",
    "    options = ALL_OPTIONS.copy()\n",
    "    options['n_components'] = n_comp\n",
    "    \n",
    "    dr_data = get_umap_proj(data, options)\n",
    "    \n",
    "    display(dr_data.shape)\n",
    "    assert dr_data.shape == (data.shape[0], n_comp)\n",
    "    \n",
    "    display(dr_data.iloc[:, 0:5].describe())\n",
    "    \n",
    "    # save\n",
    "    output_file = Path(\n",
    "        RESULTS_DIR,\n",
    "        generate_result_set_name(\n",
    "            options,\n",
    "            prefix=f'umap-{input_filepath_stem}-',\n",
    "            suffix='.pkl'\n",
    "        )\n",
    "    ).resolve()\n",
    "    display(output_file)\n",
    "    \n",
    "    dr_data.to_pickle(output_file)\n",
    "    \n",
    "    print('\\n')"
   ]
  },
  {
   "cell_type": "code",
   "execution_count": null,
   "metadata": {},
   "outputs": [],
   "source": []
  }
 ],
 "metadata": {
  "kernelspec": {
   "display_name": "Python 3",
   "language": "python",
   "name": "python3"
  },
  "language_info": {
   "codemirror_mode": {
    "name": "ipython",
    "version": 3
   },
   "file_extension": ".py",
   "mimetype": "text/x-python",
   "name": "python",
   "nbconvert_exporter": "python",
   "pygments_lexer": "ipython3",
   "version": "3.8.6"
  },
  "toc-autonumbering": true,
  "toc-showcode": false,
  "toc-showmarkdowntxt": false,
  "toc-showtags": false
 },
 "nbformat": 4,
 "nbformat_minor": 4
}
