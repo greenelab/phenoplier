{
 "cells": [
  {
   "cell_type": "markdown",
   "metadata": {
    "papermill": {
     "duration": 0.03516,
     "end_time": "2020-11-30T18:33:36.778350",
     "exception": false,
     "start_time": "2020-11-30T18:33:36.743190",
     "status": "completed"
    },
    "tags": []
   },
   "source": [
    "# Description"
   ]
  },
  {
   "cell_type": "markdown",
   "metadata": {
    "papermill": {
     "duration": 0.009602,
     "end_time": "2020-11-30T18:33:36.803172",
     "exception": false,
     "start_time": "2020-11-30T18:33:36.793570",
     "status": "completed"
    },
    "tags": []
   },
   "source": [
    "It gets the PCA transformation of an input file."
   ]
  },
  {
   "cell_type": "markdown",
   "metadata": {
    "papermill": {
     "duration": 0.007408,
     "end_time": "2020-11-30T18:33:36.818498",
     "exception": false,
     "start_time": "2020-11-30T18:33:36.811090",
     "status": "completed"
    },
    "tags": []
   },
   "source": [
    "# Modules loading"
   ]
  },
  {
   "cell_type": "code",
   "execution_count": 1,
   "metadata": {
    "execution": {
     "iopub.execute_input": "2020-11-30T18:33:36.837087Z",
     "iopub.status.busy": "2020-11-30T18:33:36.836675Z",
     "iopub.status.idle": "2020-11-30T18:33:36.844789Z",
     "shell.execute_reply": "2020-11-30T18:33:36.844307Z"
    },
    "papermill": {
     "duration": 0.01897,
     "end_time": "2020-11-30T18:33:36.844916",
     "exception": false,
     "start_time": "2020-11-30T18:33:36.825946",
     "status": "completed"
    },
    "tags": []
   },
   "outputs": [],
   "source": [
    "%load_ext autoreload\n",
    "%autoreload 2"
   ]
  },
  {
   "cell_type": "code",
   "execution_count": 2,
   "metadata": {
    "execution": {
     "iopub.execute_input": "2020-11-30T18:33:36.864437Z",
     "iopub.status.busy": "2020-11-30T18:33:36.864075Z",
     "iopub.status.idle": "2020-11-30T18:33:37.432989Z",
     "shell.execute_reply": "2020-11-30T18:33:37.432537Z"
    },
    "papermill": {
     "duration": 0.579974,
     "end_time": "2020-11-30T18:33:37.433100",
     "exception": false,
     "start_time": "2020-11-30T18:33:36.853126",
     "status": "completed"
    },
    "tags": []
   },
   "outputs": [],
   "source": [
    "from pathlib import Path\n",
    "from IPython.display import display\n",
    "\n",
    "import pandas as pd\n",
    "import matplotlib.pyplot as plt\n",
    "import seaborn as sns\n",
    "\n",
    "import conf\n",
    "from utils import generate_result_set_name"
   ]
  },
  {
   "cell_type": "markdown",
   "metadata": {
    "papermill": {
     "duration": 0.009888,
     "end_time": "2020-11-30T18:33:37.453278",
     "exception": false,
     "start_time": "2020-11-30T18:33:37.443390",
     "status": "completed"
    },
    "tags": []
   },
   "source": [
    "# Settings"
   ]
  },
  {
   "cell_type": "markdown",
   "metadata": {
    "papermill": {
     "duration": 0.008645,
     "end_time": "2020-11-30T18:33:37.471328",
     "exception": false,
     "start_time": "2020-11-30T18:33:37.462683",
     "status": "completed"
    },
    "tags": []
   },
   "source": [
    "## Input data"
   ]
  },
  {
   "cell_type": "code",
   "execution_count": 3,
   "metadata": {
    "execution": {
     "iopub.execute_input": "2020-11-30T18:33:37.489897Z",
     "iopub.status.busy": "2020-11-30T18:33:37.489530Z",
     "iopub.status.idle": "2020-11-30T18:33:37.499114Z",
     "shell.execute_reply": "2020-11-30T18:33:37.499415Z"
    },
    "papermill": {
     "duration": 0.020067,
     "end_time": "2020-11-30T18:33:37.499526",
     "exception": false,
     "start_time": "2020-11-30T18:33:37.479459",
     "status": "completed"
    },
    "tags": []
   },
   "outputs": [],
   "source": [
    "INPUT_FILEPATH_STEM = 'smultixcan-efo_partial-mashr-zscores'"
   ]
  },
  {
   "cell_type": "code",
   "execution_count": 4,
   "metadata": {
    "execution": {
     "iopub.execute_input": "2020-11-30T18:33:37.518457Z",
     "iopub.status.busy": "2020-11-30T18:33:37.518083Z",
     "iopub.status.idle": "2020-11-30T18:33:37.530834Z",
     "shell.execute_reply": "2020-11-30T18:33:37.530462Z"
    },
    "papermill": {
     "duration": 0.023025,
     "end_time": "2020-11-30T18:33:37.530922",
     "exception": false,
     "start_time": "2020-11-30T18:33:37.507897",
     "status": "completed"
    },
    "tags": []
   },
   "outputs": [
    {
     "data": {
      "text/plain": [
       "PosixPath('/home/miltondp/projects/labs/greenelab/phenoplier/base/results/data_transformations/z_score_std/z_score_std-smultixcan-efo_partial-mashr-zscores.pkl')"
      ]
     },
     "metadata": {},
     "output_type": "display_data"
    },
    {
     "data": {
      "text/plain": [
       "'z_score_std-smultixcan-efo_partial-mashr-zscores'"
      ]
     },
     "metadata": {},
     "output_type": "display_data"
    }
   ],
   "source": [
    "INPUT_FILEPATH = Path(\n",
    "    conf.RESULTS[\"DATA_TRANSFORMATIONS_DIR\"],\n",
    "    'z_score_std',\n",
    "    f'z_score_std-{INPUT_FILEPATH_STEM}.pkl',\n",
    ").resolve()\n",
    "display(INPUT_FILEPATH)\n",
    "\n",
    "input_filepath_stem = INPUT_FILEPATH.stem\n",
    "display(input_filepath_stem)"
   ]
  },
  {
   "cell_type": "markdown",
   "metadata": {
    "papermill": {
     "duration": 0.008406,
     "end_time": "2020-11-30T18:33:37.548382",
     "exception": false,
     "start_time": "2020-11-30T18:33:37.539976",
     "status": "completed"
    },
    "tags": []
   },
   "source": [
    "## Output folder"
   ]
  },
  {
   "cell_type": "code",
   "execution_count": 5,
   "metadata": {
    "execution": {
     "iopub.execute_input": "2020-11-30T18:33:37.568265Z",
     "iopub.status.busy": "2020-11-30T18:33:37.567903Z",
     "iopub.status.idle": "2020-11-30T18:33:37.578766Z",
     "shell.execute_reply": "2020-11-30T18:33:37.578404Z"
    },
    "papermill": {
     "duration": 0.021914,
     "end_time": "2020-11-30T18:33:37.578852",
     "exception": false,
     "start_time": "2020-11-30T18:33:37.556938",
     "status": "completed"
    },
    "tags": []
   },
   "outputs": [
    {
     "data": {
      "text/plain": [
       "PosixPath('/home/miltondp/projects/labs/greenelab/phenoplier/base/results/data_transformations/pca')"
      ]
     },
     "metadata": {},
     "output_type": "display_data"
    }
   ],
   "source": [
    "# output dir for this notebook\n",
    "RESULTS_DIR = Path(\n",
    "    conf.RESULTS[\"DATA_TRANSFORMATIONS_DIR\"],\n",
    "    'pca'\n",
    ").resolve()\n",
    "RESULTS_DIR.mkdir(parents=True, exist_ok=True)\n",
    "\n",
    "display(RESULTS_DIR)"
   ]
  },
  {
   "cell_type": "markdown",
   "metadata": {
    "papermill": {
     "duration": 0.008664,
     "end_time": "2020-11-30T18:33:37.596440",
     "exception": false,
     "start_time": "2020-11-30T18:33:37.587776",
     "status": "completed"
    },
    "tags": []
   },
   "source": [
    "## PCA options"
   ]
  },
  {
   "cell_type": "code",
   "execution_count": 6,
   "metadata": {
    "execution": {
     "iopub.execute_input": "2020-11-30T18:33:37.615840Z",
     "iopub.status.busy": "2020-11-30T18:33:37.615481Z",
     "iopub.status.idle": "2020-11-30T18:33:37.625275Z",
     "shell.execute_reply": "2020-11-30T18:33:37.624904Z"
    },
    "papermill": {
     "duration": 0.020488,
     "end_time": "2020-11-30T18:33:37.625361",
     "exception": false,
     "start_time": "2020-11-30T18:33:37.604873",
     "status": "completed"
    },
    "tags": []
   },
   "outputs": [],
   "source": [
    "# parameters of the dimentionality reduction steps\n",
    "DR_OPTIONS = {\n",
    "    'n_components': 50,\n",
    "    'svd_solver': 'full',\n",
    "    'random_state': 0,\n",
    "}"
   ]
  },
  {
   "cell_type": "code",
   "execution_count": 7,
   "metadata": {
    "execution": {
     "iopub.execute_input": "2020-11-30T18:33:37.645332Z",
     "iopub.status.busy": "2020-11-30T18:33:37.644973Z",
     "iopub.status.idle": "2020-11-30T18:33:37.655610Z",
     "shell.execute_reply": "2020-11-30T18:33:37.655269Z"
    },
    "papermill": {
     "duration": 0.021313,
     "end_time": "2020-11-30T18:33:37.655698",
     "exception": false,
     "start_time": "2020-11-30T18:33:37.634385",
     "status": "completed"
    },
    "tags": []
   },
   "outputs": [
    {
     "data": {
      "text/plain": [
       "{'n_components': 50, 'svd_solver': 'full', 'random_state': 0}"
      ]
     },
     "metadata": {},
     "output_type": "display_data"
    }
   ],
   "source": [
    "# dictionary containing all options/settings (used to generate filenames)\n",
    "ALL_OPTIONS = DR_OPTIONS.copy()\n",
    "\n",
    "display(ALL_OPTIONS)"
   ]
  },
  {
   "cell_type": "markdown",
   "metadata": {
    "papermill": {
     "duration": 0.009094,
     "end_time": "2020-11-30T18:33:37.674235",
     "exception": false,
     "start_time": "2020-11-30T18:33:37.665141",
     "status": "completed"
    },
    "tags": []
   },
   "source": [
    "# Load input file"
   ]
  },
  {
   "cell_type": "code",
   "execution_count": 8,
   "metadata": {
    "execution": {
     "iopub.execute_input": "2020-11-30T18:33:37.695129Z",
     "iopub.status.busy": "2020-11-30T18:33:37.694756Z",
     "iopub.status.idle": "2020-11-30T18:33:37.777371Z",
     "shell.execute_reply": "2020-11-30T18:33:37.776963Z"
    },
    "papermill": {
     "duration": 0.094094,
     "end_time": "2020-11-30T18:33:37.777488",
     "exception": false,
     "start_time": "2020-11-30T18:33:37.683394",
     "status": "completed"
    },
    "tags": []
   },
   "outputs": [],
   "source": [
    "data = pd.read_pickle(INPUT_FILEPATH)"
   ]
  },
  {
   "cell_type": "code",
   "execution_count": 9,
   "metadata": {
    "execution": {
     "iopub.execute_input": "2020-11-30T18:33:37.800757Z",
     "iopub.status.busy": "2020-11-30T18:33:37.800344Z",
     "iopub.status.idle": "2020-11-30T18:33:37.811234Z",
     "shell.execute_reply": "2020-11-30T18:33:37.811539Z"
    },
    "papermill": {
     "duration": 0.023425,
     "end_time": "2020-11-30T18:33:37.811656",
     "exception": false,
     "start_time": "2020-11-30T18:33:37.788231",
     "status": "completed"
    },
    "tags": []
   },
   "outputs": [
    {
     "data": {
      "text/plain": [
       "(3749, 6452)"
      ]
     },
     "metadata": {},
     "output_type": "display_data"
    }
   ],
   "source": [
    "display(data.shape)"
   ]
  },
  {
   "cell_type": "code",
   "execution_count": 10,
   "metadata": {
    "execution": {
     "iopub.execute_input": "2020-11-30T18:33:37.834999Z",
     "iopub.status.busy": "2020-11-30T18:33:37.834600Z",
     "iopub.status.idle": "2020-11-30T18:33:37.860543Z",
     "shell.execute_reply": "2020-11-30T18:33:37.860132Z"
    },
    "papermill": {
     "duration": 0.038391,
     "end_time": "2020-11-30T18:33:37.860640",
     "exception": false,
     "start_time": "2020-11-30T18:33:37.822249",
     "status": "completed"
    },
    "tags": []
   },
   "outputs": [
    {
     "data": {
      "text/html": [
       "<div>\n",
       "<style scoped>\n",
       "    .dataframe tbody tr th:only-of-type {\n",
       "        vertical-align: middle;\n",
       "    }\n",
       "\n",
       "    .dataframe tbody tr th {\n",
       "        vertical-align: top;\n",
       "    }\n",
       "\n",
       "    .dataframe thead th {\n",
       "        text-align: right;\n",
       "    }\n",
       "</style>\n",
       "<table border=\"1\" class=\"dataframe\">\n",
       "  <thead>\n",
       "    <tr style=\"text-align: right;\">\n",
       "      <th>gene_name</th>\n",
       "      <th>ENSG00000183087</th>\n",
       "      <th>ENSG00000157227</th>\n",
       "      <th>ENSG00000096696</th>\n",
       "      <th>ENSG00000175130</th>\n",
       "      <th>ENSG00000113140</th>\n",
       "      <th>ENSG00000117984</th>\n",
       "      <th>ENSG00000116016</th>\n",
       "      <th>ENSG00000129116</th>\n",
       "      <th>ENSG00000134686</th>\n",
       "      <th>ENSG00000108679</th>\n",
       "      <th>...</th>\n",
       "      <th>ENSG00000111716</th>\n",
       "      <th>ENSG00000166796</th>\n",
       "      <th>ENSG00000114331</th>\n",
       "      <th>ENSG00000131584</th>\n",
       "      <th>ENSG00000165410</th>\n",
       "      <th>ENSG00000172757</th>\n",
       "      <th>ENSG00000147862</th>\n",
       "      <th>ENSG00000008323</th>\n",
       "      <th>ENSG00000167083</th>\n",
       "      <th>ENSG00000149257</th>\n",
       "    </tr>\n",
       "  </thead>\n",
       "  <tbody>\n",
       "    <tr>\n",
       "      <th>100001_raw-Food_weight</th>\n",
       "      <td>0.834672</td>\n",
       "      <td>-0.969366</td>\n",
       "      <td>-0.788966</td>\n",
       "      <td>-1.236243</td>\n",
       "      <td>-1.192910</td>\n",
       "      <td>-0.859681</td>\n",
       "      <td>-0.324518</td>\n",
       "      <td>0.880799</td>\n",
       "      <td>-0.152357</td>\n",
       "      <td>-1.109631</td>\n",
       "      <td>...</td>\n",
       "      <td>-0.847934</td>\n",
       "      <td>-1.246339</td>\n",
       "      <td>-1.225673</td>\n",
       "      <td>-0.270551</td>\n",
       "      <td>-0.251339</td>\n",
       "      <td>-0.348636</td>\n",
       "      <td>-0.283083</td>\n",
       "      <td>0.541040</td>\n",
       "      <td>0.412878</td>\n",
       "      <td>0.212180</td>\n",
       "    </tr>\n",
       "    <tr>\n",
       "      <th>100002_raw-Energy</th>\n",
       "      <td>-0.893351</td>\n",
       "      <td>-0.906648</td>\n",
       "      <td>-1.108427</td>\n",
       "      <td>-0.633443</td>\n",
       "      <td>-1.257057</td>\n",
       "      <td>-0.975325</td>\n",
       "      <td>0.100801</td>\n",
       "      <td>-0.814622</td>\n",
       "      <td>0.993700</td>\n",
       "      <td>0.709155</td>\n",
       "      <td>...</td>\n",
       "      <td>1.039015</td>\n",
       "      <td>-0.097355</td>\n",
       "      <td>0.613387</td>\n",
       "      <td>1.297104</td>\n",
       "      <td>-0.646984</td>\n",
       "      <td>-0.642464</td>\n",
       "      <td>0.254638</td>\n",
       "      <td>-0.235577</td>\n",
       "      <td>0.390156</td>\n",
       "      <td>0.875050</td>\n",
       "    </tr>\n",
       "    <tr>\n",
       "      <th>100003_raw-Protein</th>\n",
       "      <td>0.724878</td>\n",
       "      <td>0.367317</td>\n",
       "      <td>-1.100323</td>\n",
       "      <td>-1.304925</td>\n",
       "      <td>-0.735474</td>\n",
       "      <td>-1.178054</td>\n",
       "      <td>0.002718</td>\n",
       "      <td>-0.151997</td>\n",
       "      <td>0.730952</td>\n",
       "      <td>0.949561</td>\n",
       "      <td>...</td>\n",
       "      <td>0.668253</td>\n",
       "      <td>0.381954</td>\n",
       "      <td>0.883388</td>\n",
       "      <td>0.028914</td>\n",
       "      <td>-1.262583</td>\n",
       "      <td>-0.547308</td>\n",
       "      <td>-0.369882</td>\n",
       "      <td>0.725386</td>\n",
       "      <td>0.969339</td>\n",
       "      <td>0.582554</td>\n",
       "    </tr>\n",
       "    <tr>\n",
       "      <th>100004_raw-Fat</th>\n",
       "      <td>-0.273941</td>\n",
       "      <td>-1.113389</td>\n",
       "      <td>-1.176575</td>\n",
       "      <td>-0.461884</td>\n",
       "      <td>-0.947444</td>\n",
       "      <td>-0.213364</td>\n",
       "      <td>-0.169319</td>\n",
       "      <td>-1.092854</td>\n",
       "      <td>0.752200</td>\n",
       "      <td>1.207424</td>\n",
       "      <td>...</td>\n",
       "      <td>0.724525</td>\n",
       "      <td>-0.569374</td>\n",
       "      <td>0.590451</td>\n",
       "      <td>1.656459</td>\n",
       "      <td>-0.081229</td>\n",
       "      <td>-0.290437</td>\n",
       "      <td>0.928900</td>\n",
       "      <td>-0.661822</td>\n",
       "      <td>0.709848</td>\n",
       "      <td>0.600761</td>\n",
       "    </tr>\n",
       "    <tr>\n",
       "      <th>100005_raw-Carbohydrate</th>\n",
       "      <td>-0.925286</td>\n",
       "      <td>-0.186918</td>\n",
       "      <td>-0.488066</td>\n",
       "      <td>-0.682023</td>\n",
       "      <td>-0.746643</td>\n",
       "      <td>-0.262771</td>\n",
       "      <td>-0.261208</td>\n",
       "      <td>-0.513372</td>\n",
       "      <td>0.385347</td>\n",
       "      <td>-0.681057</td>\n",
       "      <td>...</td>\n",
       "      <td>0.692922</td>\n",
       "      <td>-0.029716</td>\n",
       "      <td>0.655211</td>\n",
       "      <td>1.326645</td>\n",
       "      <td>-0.897059</td>\n",
       "      <td>-0.569916</td>\n",
       "      <td>1.393707</td>\n",
       "      <td>-0.189605</td>\n",
       "      <td>-0.369507</td>\n",
       "      <td>0.257153</td>\n",
       "    </tr>\n",
       "  </tbody>\n",
       "</table>\n",
       "<p>5 rows × 6452 columns</p>\n",
       "</div>"
      ],
      "text/plain": [
       "gene_name                ENSG00000183087  ENSG00000157227  ENSG00000096696  \\\n",
       "100001_raw-Food_weight          0.834672        -0.969366        -0.788966   \n",
       "100002_raw-Energy              -0.893351        -0.906648        -1.108427   \n",
       "100003_raw-Protein              0.724878         0.367317        -1.100323   \n",
       "100004_raw-Fat                 -0.273941        -1.113389        -1.176575   \n",
       "100005_raw-Carbohydrate        -0.925286        -0.186918        -0.488066   \n",
       "\n",
       "gene_name                ENSG00000175130  ENSG00000113140  ENSG00000117984  \\\n",
       "100001_raw-Food_weight         -1.236243        -1.192910        -0.859681   \n",
       "100002_raw-Energy              -0.633443        -1.257057        -0.975325   \n",
       "100003_raw-Protein             -1.304925        -0.735474        -1.178054   \n",
       "100004_raw-Fat                 -0.461884        -0.947444        -0.213364   \n",
       "100005_raw-Carbohydrate        -0.682023        -0.746643        -0.262771   \n",
       "\n",
       "gene_name                ENSG00000116016  ENSG00000129116  ENSG00000134686  \\\n",
       "100001_raw-Food_weight         -0.324518         0.880799        -0.152357   \n",
       "100002_raw-Energy               0.100801        -0.814622         0.993700   \n",
       "100003_raw-Protein              0.002718        -0.151997         0.730952   \n",
       "100004_raw-Fat                 -0.169319        -1.092854         0.752200   \n",
       "100005_raw-Carbohydrate        -0.261208        -0.513372         0.385347   \n",
       "\n",
       "gene_name                ENSG00000108679  ...  ENSG00000111716  \\\n",
       "100001_raw-Food_weight         -1.109631  ...        -0.847934   \n",
       "100002_raw-Energy               0.709155  ...         1.039015   \n",
       "100003_raw-Protein              0.949561  ...         0.668253   \n",
       "100004_raw-Fat                  1.207424  ...         0.724525   \n",
       "100005_raw-Carbohydrate        -0.681057  ...         0.692922   \n",
       "\n",
       "gene_name                ENSG00000166796  ENSG00000114331  ENSG00000131584  \\\n",
       "100001_raw-Food_weight         -1.246339        -1.225673        -0.270551   \n",
       "100002_raw-Energy              -0.097355         0.613387         1.297104   \n",
       "100003_raw-Protein              0.381954         0.883388         0.028914   \n",
       "100004_raw-Fat                 -0.569374         0.590451         1.656459   \n",
       "100005_raw-Carbohydrate        -0.029716         0.655211         1.326645   \n",
       "\n",
       "gene_name                ENSG00000165410  ENSG00000172757  ENSG00000147862  \\\n",
       "100001_raw-Food_weight         -0.251339        -0.348636        -0.283083   \n",
       "100002_raw-Energy              -0.646984        -0.642464         0.254638   \n",
       "100003_raw-Protein             -1.262583        -0.547308        -0.369882   \n",
       "100004_raw-Fat                 -0.081229        -0.290437         0.928900   \n",
       "100005_raw-Carbohydrate        -0.897059        -0.569916         1.393707   \n",
       "\n",
       "gene_name                ENSG00000008323  ENSG00000167083  ENSG00000149257  \n",
       "100001_raw-Food_weight          0.541040         0.412878         0.212180  \n",
       "100002_raw-Energy              -0.235577         0.390156         0.875050  \n",
       "100003_raw-Protein              0.725386         0.969339         0.582554  \n",
       "100004_raw-Fat                 -0.661822         0.709848         0.600761  \n",
       "100005_raw-Carbohydrate        -0.189605        -0.369507         0.257153  \n",
       "\n",
       "[5 rows x 6452 columns]"
      ]
     },
     "metadata": {},
     "output_type": "display_data"
    }
   ],
   "source": [
    "display(data.head())"
   ]
  },
  {
   "cell_type": "markdown",
   "metadata": {
    "papermill": {
     "duration": 0.010965,
     "end_time": "2020-11-30T18:33:37.882800",
     "exception": false,
     "start_time": "2020-11-30T18:33:37.871835",
     "status": "completed"
    },
    "tags": []
   },
   "source": [
    "# PCA"
   ]
  },
  {
   "cell_type": "code",
   "execution_count": 11,
   "metadata": {
    "execution": {
     "iopub.execute_input": "2020-11-30T18:33:37.905241Z",
     "iopub.status.busy": "2020-11-30T18:33:37.904875Z",
     "iopub.status.idle": "2020-11-30T18:33:37.914482Z",
     "shell.execute_reply": "2020-11-30T18:33:37.914765Z"
    },
    "papermill": {
     "duration": 0.021854,
     "end_time": "2020-11-30T18:33:37.914875",
     "exception": false,
     "start_time": "2020-11-30T18:33:37.893021",
     "status": "completed"
    },
    "tags": []
   },
   "outputs": [],
   "source": [
    "from data.dimreduction import get_pca_proj"
   ]
  },
  {
   "cell_type": "code",
   "execution_count": 12,
   "metadata": {
    "execution": {
     "iopub.execute_input": "2020-11-30T18:33:37.937639Z",
     "iopub.status.busy": "2020-11-30T18:33:37.937257Z",
     "iopub.status.idle": "2020-11-30T18:34:18.692424Z",
     "shell.execute_reply": "2020-11-30T18:34:18.692965Z"
    },
    "papermill": {
     "duration": 40.767735,
     "end_time": "2020-11-30T18:34:18.693080",
     "exception": false,
     "start_time": "2020-11-30T18:33:37.925345",
     "status": "completed"
    },
    "tags": []
   },
   "outputs": [
    {
     "data": {
      "text/plain": [
       "\"PCA object: PCA(n_components=50, random_state=0, svd_solver='full')\""
      ]
     },
     "metadata": {},
     "output_type": "display_data"
    }
   ],
   "source": [
    "dr_data = get_pca_proj(data, DR_OPTIONS)"
   ]
  },
  {
   "cell_type": "code",
   "execution_count": 13,
   "metadata": {
    "execution": {
     "iopub.execute_input": "2020-11-30T18:34:18.716679Z",
     "iopub.status.busy": "2020-11-30T18:34:18.716319Z",
     "iopub.status.idle": "2020-11-30T18:34:18.727752Z",
     "shell.execute_reply": "2020-11-30T18:34:18.727369Z"
    },
    "papermill": {
     "duration": 0.023738,
     "end_time": "2020-11-30T18:34:18.727841",
     "exception": false,
     "start_time": "2020-11-30T18:34:18.704103",
     "status": "completed"
    },
    "tags": []
   },
   "outputs": [
    {
     "data": {
      "text/plain": [
       "(3749, 50)"
      ]
     },
     "metadata": {},
     "output_type": "display_data"
    }
   ],
   "source": [
    "display(dr_data.shape)"
   ]
  },
  {
   "cell_type": "code",
   "execution_count": 14,
   "metadata": {
    "execution": {
     "iopub.execute_input": "2020-11-30T18:34:18.752218Z",
     "iopub.status.busy": "2020-11-30T18:34:18.751840Z",
     "iopub.status.idle": "2020-11-30T18:34:18.775472Z",
     "shell.execute_reply": "2020-11-30T18:34:18.775084Z"
    },
    "papermill": {
     "duration": 0.036626,
     "end_time": "2020-11-30T18:34:18.775563",
     "exception": false,
     "start_time": "2020-11-30T18:34:18.738937",
     "status": "completed"
    },
    "tags": []
   },
   "outputs": [
    {
     "data": {
      "text/html": [
       "<div>\n",
       "<style scoped>\n",
       "    .dataframe tbody tr th:only-of-type {\n",
       "        vertical-align: middle;\n",
       "    }\n",
       "\n",
       "    .dataframe tbody tr th {\n",
       "        vertical-align: top;\n",
       "    }\n",
       "\n",
       "    .dataframe thead th {\n",
       "        text-align: right;\n",
       "    }\n",
       "</style>\n",
       "<table border=\"1\" class=\"dataframe\">\n",
       "  <thead>\n",
       "    <tr style=\"text-align: right;\">\n",
       "      <th></th>\n",
       "      <th>PCA1</th>\n",
       "      <th>PCA2</th>\n",
       "      <th>PCA3</th>\n",
       "      <th>PCA4</th>\n",
       "      <th>PCA5</th>\n",
       "      <th>PCA6</th>\n",
       "      <th>PCA7</th>\n",
       "      <th>PCA8</th>\n",
       "      <th>PCA9</th>\n",
       "      <th>PCA10</th>\n",
       "      <th>...</th>\n",
       "      <th>PCA41</th>\n",
       "      <th>PCA42</th>\n",
       "      <th>PCA43</th>\n",
       "      <th>PCA44</th>\n",
       "      <th>PCA45</th>\n",
       "      <th>PCA46</th>\n",
       "      <th>PCA47</th>\n",
       "      <th>PCA48</th>\n",
       "      <th>PCA49</th>\n",
       "      <th>PCA50</th>\n",
       "    </tr>\n",
       "  </thead>\n",
       "  <tbody>\n",
       "    <tr>\n",
       "      <th>100001_raw-Food_weight</th>\n",
       "      <td>-3.493215</td>\n",
       "      <td>-0.987150</td>\n",
       "      <td>1.492817</td>\n",
       "      <td>0.482035</td>\n",
       "      <td>-1.164444</td>\n",
       "      <td>0.050002</td>\n",
       "      <td>-0.411728</td>\n",
       "      <td>2.390498</td>\n",
       "      <td>1.765725</td>\n",
       "      <td>-0.896162</td>\n",
       "      <td>...</td>\n",
       "      <td>-3.024788</td>\n",
       "      <td>2.825589</td>\n",
       "      <td>-0.638548</td>\n",
       "      <td>-0.413415</td>\n",
       "      <td>-0.961899</td>\n",
       "      <td>-2.486188</td>\n",
       "      <td>0.529897</td>\n",
       "      <td>1.154922</td>\n",
       "      <td>3.402950</td>\n",
       "      <td>-0.126687</td>\n",
       "    </tr>\n",
       "    <tr>\n",
       "      <th>100002_raw-Energy</th>\n",
       "      <td>-4.440565</td>\n",
       "      <td>-0.508618</td>\n",
       "      <td>-0.304245</td>\n",
       "      <td>0.591788</td>\n",
       "      <td>-2.265994</td>\n",
       "      <td>-1.638334</td>\n",
       "      <td>-1.158587</td>\n",
       "      <td>1.578392</td>\n",
       "      <td>2.171806</td>\n",
       "      <td>-0.087999</td>\n",
       "      <td>...</td>\n",
       "      <td>-3.318181</td>\n",
       "      <td>6.042613</td>\n",
       "      <td>-5.283345</td>\n",
       "      <td>2.079885</td>\n",
       "      <td>-0.773600</td>\n",
       "      <td>0.731210</td>\n",
       "      <td>1.284297</td>\n",
       "      <td>0.321889</td>\n",
       "      <td>-2.528603</td>\n",
       "      <td>0.466368</td>\n",
       "    </tr>\n",
       "    <tr>\n",
       "      <th>100003_raw-Protein</th>\n",
       "      <td>-3.157358</td>\n",
       "      <td>-1.774830</td>\n",
       "      <td>-1.152871</td>\n",
       "      <td>1.268815</td>\n",
       "      <td>-0.823604</td>\n",
       "      <td>-0.550582</td>\n",
       "      <td>-0.783617</td>\n",
       "      <td>-0.249384</td>\n",
       "      <td>0.599203</td>\n",
       "      <td>0.705892</td>\n",
       "      <td>...</td>\n",
       "      <td>-0.762616</td>\n",
       "      <td>3.256450</td>\n",
       "      <td>-1.076204</td>\n",
       "      <td>2.032292</td>\n",
       "      <td>-0.153910</td>\n",
       "      <td>-0.640978</td>\n",
       "      <td>-0.100715</td>\n",
       "      <td>-1.188939</td>\n",
       "      <td>-1.386505</td>\n",
       "      <td>0.828689</td>\n",
       "    </tr>\n",
       "    <tr>\n",
       "      <th>100004_raw-Fat</th>\n",
       "      <td>-5.360858</td>\n",
       "      <td>0.448639</td>\n",
       "      <td>-0.141721</td>\n",
       "      <td>0.918213</td>\n",
       "      <td>-0.706888</td>\n",
       "      <td>-1.685522</td>\n",
       "      <td>0.600232</td>\n",
       "      <td>2.045875</td>\n",
       "      <td>1.589926</td>\n",
       "      <td>0.414214</td>\n",
       "      <td>...</td>\n",
       "      <td>-0.904615</td>\n",
       "      <td>2.387056</td>\n",
       "      <td>-2.364230</td>\n",
       "      <td>0.707589</td>\n",
       "      <td>-1.812605</td>\n",
       "      <td>1.645105</td>\n",
       "      <td>1.853850</td>\n",
       "      <td>-2.124962</td>\n",
       "      <td>-3.696322</td>\n",
       "      <td>-2.100714</td>\n",
       "    </tr>\n",
       "    <tr>\n",
       "      <th>100005_raw-Carbohydrate</th>\n",
       "      <td>-5.568020</td>\n",
       "      <td>0.399839</td>\n",
       "      <td>0.725194</td>\n",
       "      <td>0.004336</td>\n",
       "      <td>-2.251612</td>\n",
       "      <td>-1.041359</td>\n",
       "      <td>-1.348013</td>\n",
       "      <td>1.063241</td>\n",
       "      <td>2.010053</td>\n",
       "      <td>-0.532902</td>\n",
       "      <td>...</td>\n",
       "      <td>-3.680299</td>\n",
       "      <td>5.241352</td>\n",
       "      <td>-5.712520</td>\n",
       "      <td>1.998522</td>\n",
       "      <td>1.427312</td>\n",
       "      <td>-0.181416</td>\n",
       "      <td>0.137243</td>\n",
       "      <td>1.337703</td>\n",
       "      <td>-0.844380</td>\n",
       "      <td>0.376784</td>\n",
       "    </tr>\n",
       "  </tbody>\n",
       "</table>\n",
       "<p>5 rows × 50 columns</p>\n",
       "</div>"
      ],
      "text/plain": [
       "                             PCA1      PCA2      PCA3      PCA4      PCA5  \\\n",
       "100001_raw-Food_weight  -3.493215 -0.987150  1.492817  0.482035 -1.164444   \n",
       "100002_raw-Energy       -4.440565 -0.508618 -0.304245  0.591788 -2.265994   \n",
       "100003_raw-Protein      -3.157358 -1.774830 -1.152871  1.268815 -0.823604   \n",
       "100004_raw-Fat          -5.360858  0.448639 -0.141721  0.918213 -0.706888   \n",
       "100005_raw-Carbohydrate -5.568020  0.399839  0.725194  0.004336 -2.251612   \n",
       "\n",
       "                             PCA6      PCA7      PCA8      PCA9     PCA10  \\\n",
       "100001_raw-Food_weight   0.050002 -0.411728  2.390498  1.765725 -0.896162   \n",
       "100002_raw-Energy       -1.638334 -1.158587  1.578392  2.171806 -0.087999   \n",
       "100003_raw-Protein      -0.550582 -0.783617 -0.249384  0.599203  0.705892   \n",
       "100004_raw-Fat          -1.685522  0.600232  2.045875  1.589926  0.414214   \n",
       "100005_raw-Carbohydrate -1.041359 -1.348013  1.063241  2.010053 -0.532902   \n",
       "\n",
       "                         ...     PCA41     PCA42     PCA43     PCA44  \\\n",
       "100001_raw-Food_weight   ... -3.024788  2.825589 -0.638548 -0.413415   \n",
       "100002_raw-Energy        ... -3.318181  6.042613 -5.283345  2.079885   \n",
       "100003_raw-Protein       ... -0.762616  3.256450 -1.076204  2.032292   \n",
       "100004_raw-Fat           ... -0.904615  2.387056 -2.364230  0.707589   \n",
       "100005_raw-Carbohydrate  ... -3.680299  5.241352 -5.712520  1.998522   \n",
       "\n",
       "                            PCA45     PCA46     PCA47     PCA48     PCA49  \\\n",
       "100001_raw-Food_weight  -0.961899 -2.486188  0.529897  1.154922  3.402950   \n",
       "100002_raw-Energy       -0.773600  0.731210  1.284297  0.321889 -2.528603   \n",
       "100003_raw-Protein      -0.153910 -0.640978 -0.100715 -1.188939 -1.386505   \n",
       "100004_raw-Fat          -1.812605  1.645105  1.853850 -2.124962 -3.696322   \n",
       "100005_raw-Carbohydrate  1.427312 -0.181416  0.137243  1.337703 -0.844380   \n",
       "\n",
       "                            PCA50  \n",
       "100001_raw-Food_weight  -0.126687  \n",
       "100002_raw-Energy        0.466368  \n",
       "100003_raw-Protein       0.828689  \n",
       "100004_raw-Fat          -2.100714  \n",
       "100005_raw-Carbohydrate  0.376784  \n",
       "\n",
       "[5 rows x 50 columns]"
      ]
     },
     "metadata": {},
     "output_type": "display_data"
    }
   ],
   "source": [
    "display(dr_data.head())"
   ]
  },
  {
   "cell_type": "markdown",
   "metadata": {
    "papermill": {
     "duration": 0.011485,
     "end_time": "2020-11-30T18:34:18.798715",
     "exception": false,
     "start_time": "2020-11-30T18:34:18.787230",
     "status": "completed"
    },
    "tags": []
   },
   "source": [
    "## Plot"
   ]
  },
  {
   "cell_type": "code",
   "execution_count": 15,
   "metadata": {
    "execution": {
     "iopub.execute_input": "2020-11-30T18:34:18.824278Z",
     "iopub.status.busy": "2020-11-30T18:34:18.823890Z",
     "iopub.status.idle": "2020-11-30T18:34:26.815324Z",
     "shell.execute_reply": "2020-11-30T18:34:26.815748Z"
    },
    "papermill": {
     "duration": 8.005559,
     "end_time": "2020-11-30T18:34:26.815894",
     "exception": false,
     "start_time": "2020-11-30T18:34:18.810335",
     "status": "completed"
    },
    "tags": []
   },
   "outputs": [
    {
     "data": {
      "image/png": "[encoded data removed]",
      "text/plain": [
       "<Figure size 900x900 with 30 Axes>"
      ]
     },
     "metadata": {
      "needs_background": "light"
     },
     "output_type": "display_data"
    }
   ],
   "source": [
    "g = sns.pairplot(data=dr_data.iloc[:,:5])"
   ]
  },
  {
   "cell_type": "markdown",
   "metadata": {
    "papermill": {
     "duration": 0.017438,
     "end_time": "2020-11-30T18:34:26.852026",
     "exception": false,
     "start_time": "2020-11-30T18:34:26.834588",
     "status": "completed"
    },
    "tags": []
   },
   "source": [
    "# Save"
   ]
  },
  {
   "cell_type": "code",
   "execution_count": 16,
   "metadata": {
    "execution": {
     "iopub.execute_input": "2020-11-30T18:34:26.885675Z",
     "iopub.status.busy": "2020-11-30T18:34:26.885300Z",
     "iopub.status.idle": "2020-11-30T18:34:26.897375Z",
     "shell.execute_reply": "2020-11-30T18:34:26.897041Z"
    },
    "papermill": {
     "duration": 0.029023,
     "end_time": "2020-11-30T18:34:26.897465",
     "exception": false,
     "start_time": "2020-11-30T18:34:26.868442",
     "status": "completed"
    },
    "tags": []
   },
   "outputs": [
    {
     "data": {
      "text/plain": [
       "PosixPath('/home/miltondp/projects/labs/greenelab/phenoplier/base/results/data_transformations/pca/pca-z_score_std-smultixcan-efo_partial-mashr-zscores-n_components_50-random_state_0-svd_solver_full.pkl')"
      ]
     },
     "metadata": {},
     "output_type": "display_data"
    }
   ],
   "source": [
    "output_file = Path(\n",
    "    RESULTS_DIR,\n",
    "    generate_result_set_name(\n",
    "        ALL_OPTIONS,\n",
    "        prefix=f'pca-{input_filepath_stem}-',\n",
    "        suffix='.pkl'\n",
    "    )\n",
    ").resolve()\n",
    "\n",
    "display(output_file)"
   ]
  },
  {
   "cell_type": "code",
   "execution_count": 17,
   "metadata": {
    "execution": {
     "iopub.execute_input": "2020-11-30T18:34:26.929133Z",
     "iopub.status.busy": "2020-11-30T18:34:26.928764Z",
     "iopub.status.idle": "2020-11-30T18:34:26.941367Z",
     "shell.execute_reply": "2020-11-30T18:34:26.941032Z"
    },
    "papermill": {
     "duration": 0.029247,
     "end_time": "2020-11-30T18:34:26.941457",
     "exception": false,
     "start_time": "2020-11-30T18:34:26.912210",
     "status": "completed"
    },
    "tags": []
   },
   "outputs": [],
   "source": [
    "dr_data.to_pickle(output_file)"
   ]
  },
  {
   "cell_type": "code",
   "execution_count": null,
   "metadata": {
    "papermill": {
     "duration": 0.014344,
     "end_time": "2020-11-30T18:34:26.970556",
     "exception": false,
     "start_time": "2020-11-30T18:34:26.956212",
     "status": "completed"
    },
    "tags": []
   },
   "outputs": [],
   "source": []
  }
 ],
 "metadata": {
  "kernelspec": {
   "display_name": "Python 3",
   "language": "python",
   "name": "python3"
  },
  "language_info": {
   "codemirror_mode": {
    "name": "ipython",
    "version": 3
   },
   "file_extension": ".py",
   "mimetype": "text/x-python",
   "name": "python",
   "nbconvert_exporter": "python",
   "pygments_lexer": "ipython3",
   "version": "3.8.6"
  },
  "papermill": {
   "default_parameters": {},
   "duration": 51.826665,
   "end_time": "2020-11-30T18:34:27.793629",
   "environment_variables": {},
   "exception": null,
   "input_path": "10_data_transformations/001_01-pca.ipynb",
   "output_path": "10_data_transformations/001_01-pca.run.ipynb",
   "parameters": {},
   "start_time": "2020-11-30T18:33:35.966964",
   "version": "2.2.2"
  },
  "toc-autonumbering": true,
  "toc-showcode": false,
  "toc-showmarkdowntxt": false,
  "toc-showtags": false
 },
 "nbformat": 4,
 "nbformat_minor": 4
}