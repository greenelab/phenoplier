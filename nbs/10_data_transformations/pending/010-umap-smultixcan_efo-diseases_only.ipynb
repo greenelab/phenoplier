{
 "cells": [
  {
   "cell_type": "markdown",
   "metadata": {},
   "source": [
    "# Description"
   ]
  },
  {
   "cell_type": "markdown",
   "metadata": {},
   "source": [
    "It projects input data into a UMAP representation of **disease only** traits."
   ]
  },
  {
   "cell_type": "markdown",
   "metadata": {},
   "source": [
    "# Modules loading"
   ]
  },
  {
   "cell_type": "code",
   "execution_count": 1,
   "metadata": {},
   "outputs": [],
   "source": [
    "%load_ext autoreload\n",
    "%autoreload 2"
   ]
  },
  {
   "cell_type": "code",
   "execution_count": 2,
   "metadata": {},
   "outputs": [],
   "source": [
    "from pathlib import Path\n",
    "from IPython.display import display\n",
    "\n",
    "import pandas as pd\n",
    "import umap\n",
    "import matplotlib.pyplot as plt\n",
    "import seaborn as sns\n",
    "\n",
    "import conf\n",
    "from utils import generate_result_set_name\n",
    "from data.cache import read_data"
   ]
  },
  {
   "cell_type": "markdown",
   "metadata": {},
   "source": [
    "# Settings"
   ]
  },
  {
   "cell_type": "code",
   "execution_count": 3,
   "metadata": {},
   "outputs": [
    {
     "data": {
      "text/plain": [
       "PosixPath('/media/miltondp/Elements1/projects/phenoplier/results/data_transformations/traits_selections/diseases_only-smultixcan-efo_partial-mashr-zscores.pkl')"
      ]
     },
     "metadata": {},
     "output_type": "display_data"
    },
    {
     "data": {
      "text/plain": [
       "'diseases_only-smultixcan-efo_partial-mashr-zscores'"
      ]
     },
     "metadata": {},
     "output_type": "display_data"
    }
   ],
   "source": [
    "INPUT_FILEPATH = Path(\n",
    "    conf.RESULTS[\"DATA_TRANSFORMATIONS_DIR\"],\n",
    "    'traits_selections',\n",
    "    'diseases_only-smultixcan-efo_partial-mashr-zscores.pkl'\n",
    ").resolve()\n",
    "display(INPUT_FILEPATH)\n",
    "\n",
    "input_filepath_stem = INPUT_FILEPATH.stem\n",
    "display(input_filepath_stem)"
   ]
  },
  {
   "cell_type": "code",
   "execution_count": 4,
   "metadata": {},
   "outputs": [],
   "source": [
    "# number of components to use in the dimensionality reduction step\n",
    "DR_OPTIONS = {\n",
    "    'n_components': [5, 10, 20, 30, 40, 50],\n",
    "    'metric': 'euclidean',\n",
    "    'n_neighbors': 15,\n",
    "    'random_state': 0,\n",
    "}"
   ]
  },
  {
   "cell_type": "code",
   "execution_count": 5,
   "metadata": {},
   "outputs": [
    {
     "data": {
      "text/plain": [
       "PosixPath('/media/miltondp/Elements1/projects/phenoplier/results/data_transformations/umap')"
      ]
     },
     "metadata": {},
     "output_type": "display_data"
    }
   ],
   "source": [
    "# output dir for this notebook\n",
    "RESULTS_DIR = Path(\n",
    "    conf.RESULTS[\"DATA_TRANSFORMATIONS_DIR\"],\n",
    "    'umap'\n",
    ").resolve()\n",
    "RESULTS_DIR.mkdir(parents=True, exist_ok=True)\n",
    "\n",
    "display(RESULTS_DIR)"
   ]
  },
  {
   "cell_type": "code",
   "execution_count": 6,
   "metadata": {},
   "outputs": [
    {
     "data": {
      "text/plain": [
       "{'n_components': [5, 10, 20, 30, 40, 50],\n",
       " 'metric': 'euclidean',\n",
       " 'n_neighbors': 15,\n",
       " 'random_state': 0}"
      ]
     },
     "metadata": {},
     "output_type": "display_data"
    }
   ],
   "source": [
    "# dictionary containing all options/settings (used to generate filenames)\n",
    "ALL_OPTIONS = DR_OPTIONS.copy()\n",
    "# ALL_OPTIONS['proj_percentile'] = PERCENTILE_NAME\n",
    "\n",
    "display(ALL_OPTIONS)"
   ]
  },
  {
   "cell_type": "markdown",
   "metadata": {},
   "source": [
    "# Load input file"
   ]
  },
  {
   "cell_type": "code",
   "execution_count": 7,
   "metadata": {},
   "outputs": [],
   "source": [
    "data = pd.read_pickle(INPUT_FILEPATH)"
   ]
  },
  {
   "cell_type": "code",
   "execution_count": 8,
   "metadata": {},
   "outputs": [
    {
     "data": {
      "text/plain": [
       "(538, 22515)"
      ]
     },
     "execution_count": 8,
     "metadata": {},
     "output_type": "execute_result"
    }
   ],
   "source": [
    "data.shape"
   ]
  },
  {
   "cell_type": "code",
   "execution_count": 9,
   "metadata": {},
   "outputs": [
    {
     "data": {
      "text/html": [
       "<div>\n",
       "<style scoped>\n",
       "    .dataframe tbody tr th:only-of-type {\n",
       "        vertical-align: middle;\n",
       "    }\n",
       "\n",
       "    .dataframe tbody tr th {\n",
       "        vertical-align: top;\n",
       "    }\n",
       "\n",
       "    .dataframe thead th {\n",
       "        text-align: right;\n",
       "    }\n",
       "</style>\n",
       "<table border=\"1\" class=\"dataframe\">\n",
       "  <thead>\n",
       "    <tr style=\"text-align: right;\">\n",
       "      <th>gene_name</th>\n",
       "      <th>ENSG00000000419</th>\n",
       "      <th>ENSG00000000457</th>\n",
       "      <th>ENSG00000000460</th>\n",
       "      <th>ENSG00000000938</th>\n",
       "      <th>ENSG00000000971</th>\n",
       "      <th>ENSG00000001036</th>\n",
       "      <th>ENSG00000001084</th>\n",
       "      <th>ENSG00000001167</th>\n",
       "      <th>ENSG00000001460</th>\n",
       "      <th>ENSG00000001461</th>\n",
       "      <th>...</th>\n",
       "      <th>ENSG00000284240</th>\n",
       "      <th>ENSG00000284308</th>\n",
       "      <th>ENSG00000284395</th>\n",
       "      <th>ENSG00000284413</th>\n",
       "      <th>ENSG00000284418</th>\n",
       "      <th>ENSG00000284430</th>\n",
       "      <th>ENSG00000284452</th>\n",
       "      <th>ENSG00000284513</th>\n",
       "      <th>ENSG00000284526</th>\n",
       "      <th>ENSG00000284552</th>\n",
       "    </tr>\n",
       "  </thead>\n",
       "  <tbody>\n",
       "    <tr>\n",
       "      <th>vascular disease AND intestinal disease</th>\n",
       "      <td>1.463849</td>\n",
       "      <td>0.295149</td>\n",
       "      <td>0.862394</td>\n",
       "      <td>0.642430</td>\n",
       "      <td>2.560404</td>\n",
       "      <td>0.276682</td>\n",
       "      <td>1.252690</td>\n",
       "      <td>0.138074</td>\n",
       "      <td>0.253713</td>\n",
       "      <td>0.131490</td>\n",
       "      <td>...</td>\n",
       "      <td>0.238496</td>\n",
       "      <td>1.582408</td>\n",
       "      <td>0.470057</td>\n",
       "      <td>1.212982</td>\n",
       "      <td>1.320907</td>\n",
       "      <td>1.348926</td>\n",
       "      <td>0.925907</td>\n",
       "      <td>0.648023</td>\n",
       "      <td>3.172445</td>\n",
       "      <td>0.658885</td>\n",
       "    </tr>\n",
       "    <tr>\n",
       "      <th>osteoarthritis, knee</th>\n",
       "      <td>1.139573</td>\n",
       "      <td>0.339193</td>\n",
       "      <td>0.063113</td>\n",
       "      <td>0.673883</td>\n",
       "      <td>1.480963</td>\n",
       "      <td>0.029437</td>\n",
       "      <td>0.738344</td>\n",
       "      <td>0.597559</td>\n",
       "      <td>0.310168</td>\n",
       "      <td>0.262036</td>\n",
       "      <td>...</td>\n",
       "      <td>0.144221</td>\n",
       "      <td>0.558024</td>\n",
       "      <td>1.497799</td>\n",
       "      <td>3.391703</td>\n",
       "      <td>0.745621</td>\n",
       "      <td>0.681965</td>\n",
       "      <td>0.577402</td>\n",
       "      <td>0.412460</td>\n",
       "      <td>0.245630</td>\n",
       "      <td>1.401890</td>\n",
       "    </tr>\n",
       "    <tr>\n",
       "      <th>carpal tunnel syndrome</th>\n",
       "      <td>0.918410</td>\n",
       "      <td>0.592007</td>\n",
       "      <td>0.221104</td>\n",
       "      <td>1.875068</td>\n",
       "      <td>0.427498</td>\n",
       "      <td>1.564119</td>\n",
       "      <td>1.739466</td>\n",
       "      <td>0.369079</td>\n",
       "      <td>0.795678</td>\n",
       "      <td>0.811066</td>\n",
       "      <td>...</td>\n",
       "      <td>0.326533</td>\n",
       "      <td>1.521576</td>\n",
       "      <td>0.307704</td>\n",
       "      <td>0.155117</td>\n",
       "      <td>1.459384</td>\n",
       "      <td>0.813065</td>\n",
       "      <td>0.526617</td>\n",
       "      <td>0.618006</td>\n",
       "      <td>0.384546</td>\n",
       "      <td>1.114975</td>\n",
       "    </tr>\n",
       "    <tr>\n",
       "      <th>gastritis</th>\n",
       "      <td>1.616585</td>\n",
       "      <td>0.675119</td>\n",
       "      <td>0.847838</td>\n",
       "      <td>0.976489</td>\n",
       "      <td>0.275587</td>\n",
       "      <td>0.137090</td>\n",
       "      <td>0.246508</td>\n",
       "      <td>1.276920</td>\n",
       "      <td>0.368820</td>\n",
       "      <td>0.205764</td>\n",
       "      <td>...</td>\n",
       "      <td>2.220743</td>\n",
       "      <td>0.934335</td>\n",
       "      <td>0.858603</td>\n",
       "      <td>0.422430</td>\n",
       "      <td>0.221982</td>\n",
       "      <td>0.083101</td>\n",
       "      <td>0.909691</td>\n",
       "      <td>0.539585</td>\n",
       "      <td>1.158575</td>\n",
       "      <td>0.101605</td>\n",
       "    </tr>\n",
       "    <tr>\n",
       "      <th>neoplasm</th>\n",
       "      <td>1.445983</td>\n",
       "      <td>2.245419</td>\n",
       "      <td>1.185771</td>\n",
       "      <td>1.236719</td>\n",
       "      <td>0.298348</td>\n",
       "      <td>0.987865</td>\n",
       "      <td>0.670254</td>\n",
       "      <td>0.563399</td>\n",
       "      <td>1.701640</td>\n",
       "      <td>1.710727</td>\n",
       "      <td>...</td>\n",
       "      <td>1.933531</td>\n",
       "      <td>0.586532</td>\n",
       "      <td>0.324582</td>\n",
       "      <td>0.557693</td>\n",
       "      <td>0.986534</td>\n",
       "      <td>1.205885</td>\n",
       "      <td>1.061329</td>\n",
       "      <td>0.743238</td>\n",
       "      <td>0.591596</td>\n",
       "      <td>0.730569</td>\n",
       "    </tr>\n",
       "  </tbody>\n",
       "</table>\n",
       "<p>5 rows × 22515 columns</p>\n",
       "</div>"
      ],
      "text/plain": [
       "gene_name                                ENSG00000000419  ENSG00000000457  \\\n",
       "vascular disease AND intestinal disease         1.463849         0.295149   \n",
       "osteoarthritis, knee                            1.139573         0.339193   \n",
       "carpal tunnel syndrome                          0.918410         0.592007   \n",
       "gastritis                                       1.616585         0.675119   \n",
       "neoplasm                                        1.445983         2.245419   \n",
       "\n",
       "gene_name                                ENSG00000000460  ENSG00000000938  \\\n",
       "vascular disease AND intestinal disease         0.862394         0.642430   \n",
       "osteoarthritis, knee                            0.063113         0.673883   \n",
       "carpal tunnel syndrome                          0.221104         1.875068   \n",
       "gastritis                                       0.847838         0.976489   \n",
       "neoplasm                                        1.185771         1.236719   \n",
       "\n",
       "gene_name                                ENSG00000000971  ENSG00000001036  \\\n",
       "vascular disease AND intestinal disease         2.560404         0.276682   \n",
       "osteoarthritis, knee                            1.480963         0.029437   \n",
       "carpal tunnel syndrome                          0.427498         1.564119   \n",
       "gastritis                                       0.275587         0.137090   \n",
       "neoplasm                                        0.298348         0.987865   \n",
       "\n",
       "gene_name                                ENSG00000001084  ENSG00000001167  \\\n",
       "vascular disease AND intestinal disease         1.252690         0.138074   \n",
       "osteoarthritis, knee                            0.738344         0.597559   \n",
       "carpal tunnel syndrome                          1.739466         0.369079   \n",
       "gastritis                                       0.246508         1.276920   \n",
       "neoplasm                                        0.670254         0.563399   \n",
       "\n",
       "gene_name                                ENSG00000001460  ENSG00000001461  \\\n",
       "vascular disease AND intestinal disease         0.253713         0.131490   \n",
       "osteoarthritis, knee                            0.310168         0.262036   \n",
       "carpal tunnel syndrome                          0.795678         0.811066   \n",
       "gastritis                                       0.368820         0.205764   \n",
       "neoplasm                                        1.701640         1.710727   \n",
       "\n",
       "gene_name                                ...  ENSG00000284240  \\\n",
       "vascular disease AND intestinal disease  ...         0.238496   \n",
       "osteoarthritis, knee                     ...         0.144221   \n",
       "carpal tunnel syndrome                   ...         0.326533   \n",
       "gastritis                                ...         2.220743   \n",
       "neoplasm                                 ...         1.933531   \n",
       "\n",
       "gene_name                                ENSG00000284308  ENSG00000284395  \\\n",
       "vascular disease AND intestinal disease         1.582408         0.470057   \n",
       "osteoarthritis, knee                            0.558024         1.497799   \n",
       "carpal tunnel syndrome                          1.521576         0.307704   \n",
       "gastritis                                       0.934335         0.858603   \n",
       "neoplasm                                        0.586532         0.324582   \n",
       "\n",
       "gene_name                                ENSG00000284413  ENSG00000284418  \\\n",
       "vascular disease AND intestinal disease         1.212982         1.320907   \n",
       "osteoarthritis, knee                            3.391703         0.745621   \n",
       "carpal tunnel syndrome                          0.155117         1.459384   \n",
       "gastritis                                       0.422430         0.221982   \n",
       "neoplasm                                        0.557693         0.986534   \n",
       "\n",
       "gene_name                                ENSG00000284430  ENSG00000284452  \\\n",
       "vascular disease AND intestinal disease         1.348926         0.925907   \n",
       "osteoarthritis, knee                            0.681965         0.577402   \n",
       "carpal tunnel syndrome                          0.813065         0.526617   \n",
       "gastritis                                       0.083101         0.909691   \n",
       "neoplasm                                        1.205885         1.061329   \n",
       "\n",
       "gene_name                                ENSG00000284513  ENSG00000284526  \\\n",
       "vascular disease AND intestinal disease         0.648023         3.172445   \n",
       "osteoarthritis, knee                            0.412460         0.245630   \n",
       "carpal tunnel syndrome                          0.618006         0.384546   \n",
       "gastritis                                       0.539585         1.158575   \n",
       "neoplasm                                        0.743238         0.591596   \n",
       "\n",
       "gene_name                                ENSG00000284552  \n",
       "vascular disease AND intestinal disease         0.658885  \n",
       "osteoarthritis, knee                            1.401890  \n",
       "carpal tunnel syndrome                          1.114975  \n",
       "gastritis                                       0.101605  \n",
       "neoplasm                                        0.730569  \n",
       "\n",
       "[5 rows x 22515 columns]"
      ]
     },
     "execution_count": 9,
     "metadata": {},
     "output_type": "execute_result"
    }
   ],
   "source": [
    "data.head()"
   ]
  },
  {
   "cell_type": "markdown",
   "metadata": {},
   "source": [
    "# UMAP"
   ]
  },
  {
   "cell_type": "code",
   "execution_count": 10,
   "metadata": {},
   "outputs": [],
   "source": [
    "def get_umap_proj(orig_data, options):\n",
    "    umap_obj = umap.UMAP(**{k:v for k, v in options.items() if k in DR_OPTIONS})\n",
    "    umap_obj = umap_obj.fit(orig_data)\n",
    "    umap_data = umap_obj.transform(orig_data)\n",
    "    return pd.DataFrame(\n",
    "        data=umap_data,\n",
    "        index=orig_data.index.copy(),\n",
    "        columns=[f'UMAP{i+1}' for i in range(umap_data.shape[1])]\n",
    "    )"
   ]
  },
  {
   "cell_type": "code",
   "execution_count": 11,
   "metadata": {},
   "outputs": [
    {
     "name": "stdout",
     "output_type": "stream",
     "text": [
      "# components: 5\n"
     ]
    },
    {
     "data": {
      "text/plain": [
       "(538, 5)"
      ]
     },
     "metadata": {},
     "output_type": "display_data"
    },
    {
     "data": {
      "text/html": [
       "<div>\n",
       "<style scoped>\n",
       "    .dataframe tbody tr th:only-of-type {\n",
       "        vertical-align: middle;\n",
       "    }\n",
       "\n",
       "    .dataframe tbody tr th {\n",
       "        vertical-align: top;\n",
       "    }\n",
       "\n",
       "    .dataframe thead th {\n",
       "        text-align: right;\n",
       "    }\n",
       "</style>\n",
       "<table border=\"1\" class=\"dataframe\">\n",
       "  <thead>\n",
       "    <tr style=\"text-align: right;\">\n",
       "      <th></th>\n",
       "      <th>UMAP1</th>\n",
       "      <th>UMAP2</th>\n",
       "      <th>UMAP3</th>\n",
       "      <th>UMAP4</th>\n",
       "      <th>UMAP5</th>\n",
       "    </tr>\n",
       "  </thead>\n",
       "  <tbody>\n",
       "    <tr>\n",
       "      <th>count</th>\n",
       "      <td>538.000000</td>\n",
       "      <td>538.000000</td>\n",
       "      <td>538.000000</td>\n",
       "      <td>538.000000</td>\n",
       "      <td>538.000000</td>\n",
       "    </tr>\n",
       "    <tr>\n",
       "      <th>mean</th>\n",
       "      <td>2.523457</td>\n",
       "      <td>3.089354</td>\n",
       "      <td>3.417991</td>\n",
       "      <td>4.474460</td>\n",
       "      <td>3.450390</td>\n",
       "    </tr>\n",
       "    <tr>\n",
       "      <th>std</th>\n",
       "      <td>1.162074</td>\n",
       "      <td>0.721358</td>\n",
       "      <td>0.487387</td>\n",
       "      <td>0.915946</td>\n",
       "      <td>1.660142</td>\n",
       "    </tr>\n",
       "    <tr>\n",
       "      <th>min</th>\n",
       "      <td>0.855264</td>\n",
       "      <td>1.724245</td>\n",
       "      <td>2.315415</td>\n",
       "      <td>2.884456</td>\n",
       "      <td>1.264891</td>\n",
       "    </tr>\n",
       "    <tr>\n",
       "      <th>25%</th>\n",
       "      <td>1.587472</td>\n",
       "      <td>2.528807</td>\n",
       "      <td>3.048225</td>\n",
       "      <td>3.754555</td>\n",
       "      <td>2.169340</td>\n",
       "    </tr>\n",
       "    <tr>\n",
       "      <th>50%</th>\n",
       "      <td>2.136133</td>\n",
       "      <td>2.922859</td>\n",
       "      <td>3.453656</td>\n",
       "      <td>4.235963</td>\n",
       "      <td>2.662531</td>\n",
       "    </tr>\n",
       "    <tr>\n",
       "      <th>75%</th>\n",
       "      <td>3.459928</td>\n",
       "      <td>3.708803</td>\n",
       "      <td>3.838831</td>\n",
       "      <td>5.314695</td>\n",
       "      <td>5.186990</td>\n",
       "    </tr>\n",
       "    <tr>\n",
       "      <th>max</th>\n",
       "      <td>5.563294</td>\n",
       "      <td>4.705710</td>\n",
       "      <td>4.352755</td>\n",
       "      <td>6.591040</td>\n",
       "      <td>6.600336</td>\n",
       "    </tr>\n",
       "  </tbody>\n",
       "</table>\n",
       "</div>"
      ],
      "text/plain": [
       "            UMAP1       UMAP2       UMAP3       UMAP4       UMAP5\n",
       "count  538.000000  538.000000  538.000000  538.000000  538.000000\n",
       "mean     2.523457    3.089354    3.417991    4.474460    3.450390\n",
       "std      1.162074    0.721358    0.487387    0.915946    1.660142\n",
       "min      0.855264    1.724245    2.315415    2.884456    1.264891\n",
       "25%      1.587472    2.528807    3.048225    3.754555    2.169340\n",
       "50%      2.136133    2.922859    3.453656    4.235963    2.662531\n",
       "75%      3.459928    3.708803    3.838831    5.314695    5.186990\n",
       "max      5.563294    4.705710    4.352755    6.591040    6.600336"
      ]
     },
     "metadata": {},
     "output_type": "display_data"
    },
    {
     "data": {
      "text/plain": [
       "PosixPath('/media/miltondp/Elements1/projects/phenoplier/results/data_transformations/umap/umap-diseases_only-smultixcan-efo_partial-mashr-zscores-metric_euclidean-n_components_5-n_neighbors_15-random_state_0.pkl')"
      ]
     },
     "metadata": {},
     "output_type": "display_data"
    },
    {
     "name": "stdout",
     "output_type": "stream",
     "text": [
      "\n",
      "\n",
      "# components: 10\n"
     ]
    },
    {
     "data": {
      "text/plain": [
       "(538, 10)"
      ]
     },
     "metadata": {},
     "output_type": "display_data"
    },
    {
     "data": {
      "text/html": [
       "<div>\n",
       "<style scoped>\n",
       "    .dataframe tbody tr th:only-of-type {\n",
       "        vertical-align: middle;\n",
       "    }\n",
       "\n",
       "    .dataframe tbody tr th {\n",
       "        vertical-align: top;\n",
       "    }\n",
       "\n",
       "    .dataframe thead th {\n",
       "        text-align: right;\n",
       "    }\n",
       "</style>\n",
       "<table border=\"1\" class=\"dataframe\">\n",
       "  <thead>\n",
       "    <tr style=\"text-align: right;\">\n",
       "      <th></th>\n",
       "      <th>UMAP1</th>\n",
       "      <th>UMAP2</th>\n",
       "      <th>UMAP3</th>\n",
       "      <th>UMAP4</th>\n",
       "      <th>UMAP5</th>\n",
       "    </tr>\n",
       "  </thead>\n",
       "  <tbody>\n",
       "    <tr>\n",
       "      <th>count</th>\n",
       "      <td>538.000000</td>\n",
       "      <td>538.000000</td>\n",
       "      <td>538.000000</td>\n",
       "      <td>538.000000</td>\n",
       "      <td>538.000000</td>\n",
       "    </tr>\n",
       "    <tr>\n",
       "      <th>mean</th>\n",
       "      <td>4.926220</td>\n",
       "      <td>5.744770</td>\n",
       "      <td>9.394354</td>\n",
       "      <td>7.357299</td>\n",
       "      <td>4.857917</td>\n",
       "    </tr>\n",
       "    <tr>\n",
       "      <th>std</th>\n",
       "      <td>1.747943</td>\n",
       "      <td>0.525511</td>\n",
       "      <td>0.351106</td>\n",
       "      <td>0.832396</td>\n",
       "      <td>0.328000</td>\n",
       "    </tr>\n",
       "    <tr>\n",
       "      <th>min</th>\n",
       "      <td>1.212473</td>\n",
       "      <td>4.765693</td>\n",
       "      <td>8.447693</td>\n",
       "      <td>6.044429</td>\n",
       "      <td>4.225317</td>\n",
       "    </tr>\n",
       "    <tr>\n",
       "      <th>25%</th>\n",
       "      <td>3.244090</td>\n",
       "      <td>5.447582</td>\n",
       "      <td>9.137399</td>\n",
       "      <td>6.716235</td>\n",
       "      <td>4.636795</td>\n",
       "    </tr>\n",
       "    <tr>\n",
       "      <th>50%</th>\n",
       "      <td>5.905577</td>\n",
       "      <td>5.671469</td>\n",
       "      <td>9.409024</td>\n",
       "      <td>7.028950</td>\n",
       "      <td>4.785826</td>\n",
       "    </tr>\n",
       "    <tr>\n",
       "      <th>75%</th>\n",
       "      <td>6.261049</td>\n",
       "      <td>5.891410</td>\n",
       "      <td>9.619931</td>\n",
       "      <td>8.124026</td>\n",
       "      <td>5.025529</td>\n",
       "    </tr>\n",
       "    <tr>\n",
       "      <th>max</th>\n",
       "      <td>6.991565</td>\n",
       "      <td>7.616616</td>\n",
       "      <td>10.187648</td>\n",
       "      <td>8.976813</td>\n",
       "      <td>5.864987</td>\n",
       "    </tr>\n",
       "  </tbody>\n",
       "</table>\n",
       "</div>"
      ],
      "text/plain": [
       "            UMAP1       UMAP2       UMAP3       UMAP4       UMAP5\n",
       "count  538.000000  538.000000  538.000000  538.000000  538.000000\n",
       "mean     4.926220    5.744770    9.394354    7.357299    4.857917\n",
       "std      1.747943    0.525511    0.351106    0.832396    0.328000\n",
       "min      1.212473    4.765693    8.447693    6.044429    4.225317\n",
       "25%      3.244090    5.447582    9.137399    6.716235    4.636795\n",
       "50%      5.905577    5.671469    9.409024    7.028950    4.785826\n",
       "75%      6.261049    5.891410    9.619931    8.124026    5.025529\n",
       "max      6.991565    7.616616   10.187648    8.976813    5.864987"
      ]
     },
     "metadata": {},
     "output_type": "display_data"
    },
    {
     "data": {
      "text/plain": [
       "PosixPath('/media/miltondp/Elements1/projects/phenoplier/results/data_transformations/umap/umap-diseases_only-smultixcan-efo_partial-mashr-zscores-metric_euclidean-n_components_10-n_neighbors_15-random_state_0.pkl')"
      ]
     },
     "metadata": {},
     "output_type": "display_data"
    },
    {
     "name": "stdout",
     "output_type": "stream",
     "text": [
      "\n",
      "\n",
      "# components: 20\n"
     ]
    },
    {
     "data": {
      "text/plain": [
       "(538, 20)"
      ]
     },
     "metadata": {},
     "output_type": "display_data"
    },
    {
     "data": {
      "text/html": [
       "<div>\n",
       "<style scoped>\n",
       "    .dataframe tbody tr th:only-of-type {\n",
       "        vertical-align: middle;\n",
       "    }\n",
       "\n",
       "    .dataframe tbody tr th {\n",
       "        vertical-align: top;\n",
       "    }\n",
       "\n",
       "    .dataframe thead th {\n",
       "        text-align: right;\n",
       "    }\n",
       "</style>\n",
       "<table border=\"1\" class=\"dataframe\">\n",
       "  <thead>\n",
       "    <tr style=\"text-align: right;\">\n",
       "      <th></th>\n",
       "      <th>UMAP1</th>\n",
       "      <th>UMAP2</th>\n",
       "      <th>UMAP3</th>\n",
       "      <th>UMAP4</th>\n",
       "      <th>UMAP5</th>\n",
       "    </tr>\n",
       "  </thead>\n",
       "  <tbody>\n",
       "    <tr>\n",
       "      <th>count</th>\n",
       "      <td>538.000000</td>\n",
       "      <td>538.000000</td>\n",
       "      <td>538.000000</td>\n",
       "      <td>538.000000</td>\n",
       "      <td>538.000000</td>\n",
       "    </tr>\n",
       "    <tr>\n",
       "      <th>mean</th>\n",
       "      <td>6.195287</td>\n",
       "      <td>6.430822</td>\n",
       "      <td>8.128351</td>\n",
       "      <td>6.301155</td>\n",
       "      <td>5.474097</td>\n",
       "    </tr>\n",
       "    <tr>\n",
       "      <th>std</th>\n",
       "      <td>1.068121</td>\n",
       "      <td>0.150033</td>\n",
       "      <td>0.403351</td>\n",
       "      <td>0.436417</td>\n",
       "      <td>0.242871</td>\n",
       "    </tr>\n",
       "    <tr>\n",
       "      <th>min</th>\n",
       "      <td>3.242134</td>\n",
       "      <td>5.968815</td>\n",
       "      <td>7.353062</td>\n",
       "      <td>5.370771</td>\n",
       "      <td>4.884989</td>\n",
       "    </tr>\n",
       "    <tr>\n",
       "      <th>25%</th>\n",
       "      <td>5.270771</td>\n",
       "      <td>6.326126</td>\n",
       "      <td>7.854867</td>\n",
       "      <td>5.932114</td>\n",
       "      <td>5.254771</td>\n",
       "    </tr>\n",
       "    <tr>\n",
       "      <th>50%</th>\n",
       "      <td>6.722421</td>\n",
       "      <td>6.411115</td>\n",
       "      <td>8.020808</td>\n",
       "      <td>6.434557</td>\n",
       "      <td>5.511577</td>\n",
       "    </tr>\n",
       "    <tr>\n",
       "      <th>75%</th>\n",
       "      <td>6.993140</td>\n",
       "      <td>6.537681</td>\n",
       "      <td>8.380780</td>\n",
       "      <td>6.626839</td>\n",
       "      <td>5.661481</td>\n",
       "    </tr>\n",
       "    <tr>\n",
       "      <th>max</th>\n",
       "      <td>7.368199</td>\n",
       "      <td>6.930509</td>\n",
       "      <td>9.496861</td>\n",
       "      <td>7.135594</td>\n",
       "      <td>5.950854</td>\n",
       "    </tr>\n",
       "  </tbody>\n",
       "</table>\n",
       "</div>"
      ],
      "text/plain": [
       "            UMAP1       UMAP2       UMAP3       UMAP4       UMAP5\n",
       "count  538.000000  538.000000  538.000000  538.000000  538.000000\n",
       "mean     6.195287    6.430822    8.128351    6.301155    5.474097\n",
       "std      1.068121    0.150033    0.403351    0.436417    0.242871\n",
       "min      3.242134    5.968815    7.353062    5.370771    4.884989\n",
       "25%      5.270771    6.326126    7.854867    5.932114    5.254771\n",
       "50%      6.722421    6.411115    8.020808    6.434557    5.511577\n",
       "75%      6.993140    6.537681    8.380780    6.626839    5.661481\n",
       "max      7.368199    6.930509    9.496861    7.135594    5.950854"
      ]
     },
     "metadata": {},
     "output_type": "display_data"
    },
    {
     "data": {
      "text/plain": [
       "PosixPath('/media/miltondp/Elements1/projects/phenoplier/results/data_transformations/umap/umap-diseases_only-smultixcan-efo_partial-mashr-zscores-metric_euclidean-n_components_20-n_neighbors_15-random_state_0.pkl')"
      ]
     },
     "metadata": {},
     "output_type": "display_data"
    },
    {
     "name": "stdout",
     "output_type": "stream",
     "text": [
      "\n",
      "\n",
      "# components: 30\n"
     ]
    },
    {
     "data": {
      "text/plain": [
       "(538, 30)"
      ]
     },
     "metadata": {},
     "output_type": "display_data"
    },
    {
     "data": {
      "text/html": [
       "<div>\n",
       "<style scoped>\n",
       "    .dataframe tbody tr th:only-of-type {\n",
       "        vertical-align: middle;\n",
       "    }\n",
       "\n",
       "    .dataframe tbody tr th {\n",
       "        vertical-align: top;\n",
       "    }\n",
       "\n",
       "    .dataframe thead th {\n",
       "        text-align: right;\n",
       "    }\n",
       "</style>\n",
       "<table border=\"1\" class=\"dataframe\">\n",
       "  <thead>\n",
       "    <tr style=\"text-align: right;\">\n",
       "      <th></th>\n",
       "      <th>UMAP1</th>\n",
       "      <th>UMAP2</th>\n",
       "      <th>UMAP3</th>\n",
       "      <th>UMAP4</th>\n",
       "      <th>UMAP5</th>\n",
       "    </tr>\n",
       "  </thead>\n",
       "  <tbody>\n",
       "    <tr>\n",
       "      <th>count</th>\n",
       "      <td>538.000000</td>\n",
       "      <td>538.000000</td>\n",
       "      <td>538.000000</td>\n",
       "      <td>538.000000</td>\n",
       "      <td>538.000000</td>\n",
       "    </tr>\n",
       "    <tr>\n",
       "      <th>mean</th>\n",
       "      <td>6.809592</td>\n",
       "      <td>6.342454</td>\n",
       "      <td>7.944166</td>\n",
       "      <td>5.785023</td>\n",
       "      <td>4.653926</td>\n",
       "    </tr>\n",
       "    <tr>\n",
       "      <th>std</th>\n",
       "      <td>0.374727</td>\n",
       "      <td>0.606298</td>\n",
       "      <td>0.295185</td>\n",
       "      <td>0.676647</td>\n",
       "      <td>0.157014</td>\n",
       "    </tr>\n",
       "    <tr>\n",
       "      <th>min</th>\n",
       "      <td>5.525477</td>\n",
       "      <td>5.043921</td>\n",
       "      <td>7.324778</td>\n",
       "      <td>4.245417</td>\n",
       "      <td>4.285637</td>\n",
       "    </tr>\n",
       "    <tr>\n",
       "      <th>25%</th>\n",
       "      <td>6.625212</td>\n",
       "      <td>5.814288</td>\n",
       "      <td>7.720852</td>\n",
       "      <td>5.150887</td>\n",
       "      <td>4.540144</td>\n",
       "    </tr>\n",
       "    <tr>\n",
       "      <th>50%</th>\n",
       "      <td>6.892077</td>\n",
       "      <td>6.657752</td>\n",
       "      <td>7.906626</td>\n",
       "      <td>6.173280</td>\n",
       "      <td>4.637617</td>\n",
       "    </tr>\n",
       "    <tr>\n",
       "      <th>75%</th>\n",
       "      <td>7.067567</td>\n",
       "      <td>6.780429</td>\n",
       "      <td>8.170188</td>\n",
       "      <td>6.289493</td>\n",
       "      <td>4.762765</td>\n",
       "    </tr>\n",
       "    <tr>\n",
       "      <th>max</th>\n",
       "      <td>7.462528</td>\n",
       "      <td>7.172960</td>\n",
       "      <td>8.731231</td>\n",
       "      <td>6.589104</td>\n",
       "      <td>5.090665</td>\n",
       "    </tr>\n",
       "  </tbody>\n",
       "</table>\n",
       "</div>"
      ],
      "text/plain": [
       "            UMAP1       UMAP2       UMAP3       UMAP4       UMAP5\n",
       "count  538.000000  538.000000  538.000000  538.000000  538.000000\n",
       "mean     6.809592    6.342454    7.944166    5.785023    4.653926\n",
       "std      0.374727    0.606298    0.295185    0.676647    0.157014\n",
       "min      5.525477    5.043921    7.324778    4.245417    4.285637\n",
       "25%      6.625212    5.814288    7.720852    5.150887    4.540144\n",
       "50%      6.892077    6.657752    7.906626    6.173280    4.637617\n",
       "75%      7.067567    6.780429    8.170188    6.289493    4.762765\n",
       "max      7.462528    7.172960    8.731231    6.589104    5.090665"
      ]
     },
     "metadata": {},
     "output_type": "display_data"
    },
    {
     "data": {
      "text/plain": [
       "PosixPath('/media/miltondp/Elements1/projects/phenoplier/results/data_transformations/umap/umap-diseases_only-smultixcan-efo_partial-mashr-zscores-metric_euclidean-n_components_30-n_neighbors_15-random_state_0.pkl')"
      ]
     },
     "metadata": {},
     "output_type": "display_data"
    },
    {
     "name": "stdout",
     "output_type": "stream",
     "text": [
      "\n",
      "\n",
      "# components: 40\n"
     ]
    },
    {
     "data": {
      "text/plain": [
       "(538, 40)"
      ]
     },
     "metadata": {},
     "output_type": "display_data"
    },
    {
     "data": {
      "text/html": [
       "<div>\n",
       "<style scoped>\n",
       "    .dataframe tbody tr th:only-of-type {\n",
       "        vertical-align: middle;\n",
       "    }\n",
       "\n",
       "    .dataframe tbody tr th {\n",
       "        vertical-align: top;\n",
       "    }\n",
       "\n",
       "    .dataframe thead th {\n",
       "        text-align: right;\n",
       "    }\n",
       "</style>\n",
       "<table border=\"1\" class=\"dataframe\">\n",
       "  <thead>\n",
       "    <tr style=\"text-align: right;\">\n",
       "      <th></th>\n",
       "      <th>UMAP1</th>\n",
       "      <th>UMAP2</th>\n",
       "      <th>UMAP3</th>\n",
       "      <th>UMAP4</th>\n",
       "      <th>UMAP5</th>\n",
       "    </tr>\n",
       "  </thead>\n",
       "  <tbody>\n",
       "    <tr>\n",
       "      <th>count</th>\n",
       "      <td>538.000000</td>\n",
       "      <td>538.000000</td>\n",
       "      <td>538.000000</td>\n",
       "      <td>538.000000</td>\n",
       "      <td>538.000000</td>\n",
       "    </tr>\n",
       "    <tr>\n",
       "      <th>mean</th>\n",
       "      <td>6.573172</td>\n",
       "      <td>6.238102</td>\n",
       "      <td>7.212529</td>\n",
       "      <td>6.606807</td>\n",
       "      <td>5.695101</td>\n",
       "    </tr>\n",
       "    <tr>\n",
       "      <th>std</th>\n",
       "      <td>0.413837</td>\n",
       "      <td>0.156537</td>\n",
       "      <td>0.157814</td>\n",
       "      <td>0.525132</td>\n",
       "      <td>0.419085</td>\n",
       "    </tr>\n",
       "    <tr>\n",
       "      <th>min</th>\n",
       "      <td>5.567856</td>\n",
       "      <td>5.952479</td>\n",
       "      <td>6.747273</td>\n",
       "      <td>5.539504</td>\n",
       "      <td>5.055376</td>\n",
       "    </tr>\n",
       "    <tr>\n",
       "      <th>25%</th>\n",
       "      <td>6.205609</td>\n",
       "      <td>6.099872</td>\n",
       "      <td>7.105600</td>\n",
       "      <td>6.151641</td>\n",
       "      <td>5.402540</td>\n",
       "    </tr>\n",
       "    <tr>\n",
       "      <th>50%</th>\n",
       "      <td>6.742789</td>\n",
       "      <td>6.224386</td>\n",
       "      <td>7.196656</td>\n",
       "      <td>6.832913</td>\n",
       "      <td>5.524118</td>\n",
       "    </tr>\n",
       "    <tr>\n",
       "      <th>75%</th>\n",
       "      <td>6.879238</td>\n",
       "      <td>6.369987</td>\n",
       "      <td>7.314595</td>\n",
       "      <td>7.027964</td>\n",
       "      <td>6.003917</td>\n",
       "    </tr>\n",
       "    <tr>\n",
       "      <th>max</th>\n",
       "      <td>7.180971</td>\n",
       "      <td>6.649337</td>\n",
       "      <td>7.663711</td>\n",
       "      <td>7.253455</td>\n",
       "      <td>6.795944</td>\n",
       "    </tr>\n",
       "  </tbody>\n",
       "</table>\n",
       "</div>"
      ],
      "text/plain": [
       "            UMAP1       UMAP2       UMAP3       UMAP4       UMAP5\n",
       "count  538.000000  538.000000  538.000000  538.000000  538.000000\n",
       "mean     6.573172    6.238102    7.212529    6.606807    5.695101\n",
       "std      0.413837    0.156537    0.157814    0.525132    0.419085\n",
       "min      5.567856    5.952479    6.747273    5.539504    5.055376\n",
       "25%      6.205609    6.099872    7.105600    6.151641    5.402540\n",
       "50%      6.742789    6.224386    7.196656    6.832913    5.524118\n",
       "75%      6.879238    6.369987    7.314595    7.027964    6.003917\n",
       "max      7.180971    6.649337    7.663711    7.253455    6.795944"
      ]
     },
     "metadata": {},
     "output_type": "display_data"
    },
    {
     "data": {
      "text/plain": [
       "PosixPath('/media/miltondp/Elements1/projects/phenoplier/results/data_transformations/umap/umap-diseases_only-smultixcan-efo_partial-mashr-zscores-metric_euclidean-n_components_40-n_neighbors_15-random_state_0.pkl')"
      ]
     },
     "metadata": {},
     "output_type": "display_data"
    },
    {
     "name": "stdout",
     "output_type": "stream",
     "text": [
      "\n",
      "\n",
      "# components: 50\n"
     ]
    },
    {
     "data": {
      "text/plain": [
       "(538, 50)"
      ]
     },
     "metadata": {},
     "output_type": "display_data"
    },
    {
     "data": {
      "text/html": [
       "<div>\n",
       "<style scoped>\n",
       "    .dataframe tbody tr th:only-of-type {\n",
       "        vertical-align: middle;\n",
       "    }\n",
       "\n",
       "    .dataframe tbody tr th {\n",
       "        vertical-align: top;\n",
       "    }\n",
       "\n",
       "    .dataframe thead th {\n",
       "        text-align: right;\n",
       "    }\n",
       "</style>\n",
       "<table border=\"1\" class=\"dataframe\">\n",
       "  <thead>\n",
       "    <tr style=\"text-align: right;\">\n",
       "      <th></th>\n",
       "      <th>UMAP1</th>\n",
       "      <th>UMAP2</th>\n",
       "      <th>UMAP3</th>\n",
       "      <th>UMAP4</th>\n",
       "      <th>UMAP5</th>\n",
       "    </tr>\n",
       "  </thead>\n",
       "  <tbody>\n",
       "    <tr>\n",
       "      <th>count</th>\n",
       "      <td>538.000000</td>\n",
       "      <td>538.000000</td>\n",
       "      <td>538.000000</td>\n",
       "      <td>538.000000</td>\n",
       "      <td>538.000000</td>\n",
       "    </tr>\n",
       "    <tr>\n",
       "      <th>mean</th>\n",
       "      <td>5.948809</td>\n",
       "      <td>6.838124</td>\n",
       "      <td>8.149352</td>\n",
       "      <td>7.036644</td>\n",
       "      <td>4.756956</td>\n",
       "    </tr>\n",
       "    <tr>\n",
       "      <th>std</th>\n",
       "      <td>0.332564</td>\n",
       "      <td>0.382238</td>\n",
       "      <td>0.446649</td>\n",
       "      <td>0.119262</td>\n",
       "      <td>0.187734</td>\n",
       "    </tr>\n",
       "    <tr>\n",
       "      <th>min</th>\n",
       "      <td>4.705698</td>\n",
       "      <td>6.204206</td>\n",
       "      <td>7.531398</td>\n",
       "      <td>6.760604</td>\n",
       "      <td>4.420199</td>\n",
       "    </tr>\n",
       "    <tr>\n",
       "      <th>25%</th>\n",
       "      <td>5.844308</td>\n",
       "      <td>6.542770</td>\n",
       "      <td>7.804341</td>\n",
       "      <td>6.955519</td>\n",
       "      <td>4.598333</td>\n",
       "    </tr>\n",
       "    <tr>\n",
       "      <th>50%</th>\n",
       "      <td>6.011350</td>\n",
       "      <td>6.688265</td>\n",
       "      <td>7.922051</td>\n",
       "      <td>7.032018</td>\n",
       "      <td>4.729662</td>\n",
       "    </tr>\n",
       "    <tr>\n",
       "      <th>75%</th>\n",
       "      <td>6.127545</td>\n",
       "      <td>7.208886</td>\n",
       "      <td>8.629054</td>\n",
       "      <td>7.110879</td>\n",
       "      <td>4.938062</td>\n",
       "    </tr>\n",
       "    <tr>\n",
       "      <th>max</th>\n",
       "      <td>6.634403</td>\n",
       "      <td>7.743271</td>\n",
       "      <td>9.130408</td>\n",
       "      <td>7.384448</td>\n",
       "      <td>5.097365</td>\n",
       "    </tr>\n",
       "  </tbody>\n",
       "</table>\n",
       "</div>"
      ],
      "text/plain": [
       "            UMAP1       UMAP2       UMAP3       UMAP4       UMAP5\n",
       "count  538.000000  538.000000  538.000000  538.000000  538.000000\n",
       "mean     5.948809    6.838124    8.149352    7.036644    4.756956\n",
       "std      0.332564    0.382238    0.446649    0.119262    0.187734\n",
       "min      4.705698    6.204206    7.531398    6.760604    4.420199\n",
       "25%      5.844308    6.542770    7.804341    6.955519    4.598333\n",
       "50%      6.011350    6.688265    7.922051    7.032018    4.729662\n",
       "75%      6.127545    7.208886    8.629054    7.110879    4.938062\n",
       "max      6.634403    7.743271    9.130408    7.384448    5.097365"
      ]
     },
     "metadata": {},
     "output_type": "display_data"
    },
    {
     "data": {
      "text/plain": [
       "PosixPath('/media/miltondp/Elements1/projects/phenoplier/results/data_transformations/umap/umap-diseases_only-smultixcan-efo_partial-mashr-zscores-metric_euclidean-n_components_50-n_neighbors_15-random_state_0.pkl')"
      ]
     },
     "metadata": {},
     "output_type": "display_data"
    },
    {
     "name": "stdout",
     "output_type": "stream",
     "text": [
      "\n",
      "\n"
     ]
    }
   ],
   "source": [
    "# for n_comp, n_neigh in product(DR_OPTIONS['n_components'], DR_OPTIONS['n_neighbors']):\n",
    "for n_comp in DR_OPTIONS['n_components']:\n",
    "    print(f'# components: {n_comp}')\n",
    "    \n",
    "    options = ALL_OPTIONS.copy()\n",
    "    options['n_components'] = n_comp\n",
    "    \n",
    "    dr_data = get_umap_proj(data, options)\n",
    "    \n",
    "    display(dr_data.shape)\n",
    "    assert dr_data.shape == (data.shape[0], n_comp)\n",
    "    \n",
    "    display(dr_data.iloc[:, 0:5].describe())\n",
    "    \n",
    "    # save\n",
    "    output_file = Path(\n",
    "        RESULTS_DIR,\n",
    "        generate_result_set_name(\n",
    "            options,\n",
    "            prefix=f'umap-{input_filepath_stem}-',\n",
    "            suffix='.pkl'\n",
    "        )\n",
    "    ).resolve()\n",
    "    display(output_file)\n",
    "    \n",
    "    dr_data.to_pickle(output_file)\n",
    "    \n",
    "    print('\\n')"
   ]
  },
  {
   "cell_type": "code",
   "execution_count": null,
   "metadata": {},
   "outputs": [],
   "source": []
  }
 ],
 "metadata": {
  "kernelspec": {
   "display_name": "Python 3",
   "language": "python",
   "name": "python3"
  },
  "language_info": {
   "codemirror_mode": {
    "name": "ipython",
    "version": 3
   },
   "file_extension": ".py",
   "mimetype": "text/x-python",
   "name": "python",
   "nbconvert_exporter": "python",
   "pygments_lexer": "ipython3",
   "version": "3.8.6"
  },
  "toc-autonumbering": true,
  "toc-showcode": false,
  "toc-showmarkdowntxt": false,
  "toc-showtags": false
 },
 "nbformat": 4,
 "nbformat_minor": 4
}
