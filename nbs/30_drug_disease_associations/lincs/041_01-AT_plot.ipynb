{
 "cells": [
  {
   "cell_type": "markdown",
   "metadata": {},
   "source": [
    "# Description"
   ]
  },
  {
   "cell_type": "markdown",
   "metadata": {},
   "source": [
    "TODO"
   ]
  },
  {
   "cell_type": "markdown",
   "metadata": {},
   "source": [
    "# Modules loading"
   ]
  },
  {
   "cell_type": "code",
   "execution_count": 1,
   "metadata": {},
   "outputs": [],
   "source": [
    "%load_ext autoreload\n",
    "%autoreload 2"
   ]
  },
  {
   "cell_type": "code",
   "execution_count": 2,
   "metadata": {},
   "outputs": [],
   "source": [
    "import pickle\n",
    "import re\n",
    "from pathlib import Path\n",
    "\n",
    "import pandas as pd\n",
    "import matplotlib.pyplot as plt\n",
    "import seaborn as sns\n",
    "\n",
    "# from IPython.display import HTML\n",
    "from tqdm import tqdm\n",
    "\n",
    "from clustering.methods import ClusterInterpreter\n",
    "from data.recount2 import LVAnalysis\n",
    "from data.cache import read_data\n",
    "import conf"
   ]
  },
  {
   "cell_type": "markdown",
   "metadata": {},
   "source": [
    "# Settings"
   ]
  },
  {
   "cell_type": "code",
   "execution_count": 3,
   "metadata": {
    "tags": [
     "parameters"
    ]
   },
   "outputs": [],
   "source": [
    "SHORT_TRAIT_NAME = \"ICD10_I70_Atherosclerosis\"\n",
    "FULL_TRAIT_NAME = \"I70-Diagnoses_main_ICD10_I70_Atherosclerosis\"\n",
    "N_TOP_LVS = 50"
   ]
  },
  {
   "cell_type": "markdown",
   "metadata": {},
   "source": [
    "# Paths"
   ]
  },
  {
   "cell_type": "code",
   "execution_count": 4,
   "metadata": {
    "papermill": {
     "duration": 0.032034,
     "end_time": "2021-04-22T19:41:49.062125",
     "exception": false,
     "start_time": "2021-04-22T19:41:49.030091",
     "status": "completed"
    },
    "tags": []
   },
   "outputs": [
    {
     "data": {
      "text/plain": [
       "PosixPath('/media/miltondp/Elements1/projects/phenoplier/results/drug_disease_analyses/lincs/analyses')"
      ]
     },
     "metadata": {},
     "output_type": "display_data"
    }
   ],
   "source": [
    "OUTPUT_DIR = conf.RESULTS[\"DRUG_DISEASE_ANALYSES\"] / \"lincs\" / \"analyses\"\n",
    "display(OUTPUT_DIR)\n",
    "OUTPUT_DIR.mkdir(exist_ok=True, parents=True)"
   ]
  },
  {
   "cell_type": "code",
   "execution_count": 5,
   "metadata": {
    "papermill": {
     "duration": 0.024008,
     "end_time": "2021-04-22T19:44:13.877793",
     "exception": false,
     "start_time": "2021-04-22T19:44:13.853785",
     "status": "completed"
    },
    "tags": []
   },
   "outputs": [
    {
     "data": {
      "text/plain": [
       "PosixPath('/home/miltondp/projects/labs/greenelab/phenoplier_manuscript/content/images/drug_disease_prediction')"
      ]
     },
     "metadata": {},
     "output_type": "display_data"
    }
   ],
   "source": [
    "OUTPUT_FIGURES_DIR = Path(\n",
    "    conf.MANUSCRIPT[\"FIGURES_DIR\"], \"drug_disease_prediction\"\n",
    ").resolve()\n",
    "display(OUTPUT_FIGURES_DIR)\n",
    "OUTPUT_FIGURES_DIR.mkdir(parents=True, exist_ok=True)"
   ]
  },
  {
   "cell_type": "code",
   "execution_count": 6,
   "metadata": {},
   "outputs": [
    {
     "data": {
      "text/plain": [
       "PosixPath('/media/miltondp/Elements1/projects/phenoplier/results/drug_disease_analyses/lincs/analyses/cardiovascular-niacin.h5')"
      ]
     },
     "metadata": {},
     "output_type": "display_data"
    }
   ],
   "source": [
    "OUTPUT_FILE = OUTPUT_DIR / \"cardiovascular-niacin.h5\"\n",
    "display(OUTPUT_FILE)"
   ]
  },
  {
   "cell_type": "markdown",
   "metadata": {},
   "source": [
    "# Load data"
   ]
  },
  {
   "cell_type": "code",
   "execution_count": 7,
   "metadata": {},
   "outputs": [
    {
     "data": {
      "text/plain": [
       "PosixPath('/media/miltondp/Elements1/projects/phenoplier/results/drug_disease_analyses/lincs/analyses/cardiovascular-niacin.h5')"
      ]
     },
     "metadata": {},
     "output_type": "display_data"
    }
   ],
   "source": [
    "output_file = OUTPUT_DIR / \"cardiovascular-niacin.h5\"\n",
    "display(output_file)"
   ]
  },
  {
   "cell_type": "code",
   "execution_count": 8,
   "metadata": {},
   "outputs": [],
   "source": [
    "with pd.HDFStore(output_file, mode=\"r\", complevel=4) as store:\n",
    "    top_lvs = store[f\"traits/{SHORT_TRAIT_NAME}/top_lvs\"]\n",
    "    cell_types_data = store[f\"traits/{SHORT_TRAIT_NAME}/cell_types\"]\n",
    "    tissues_data = store[f\"traits/{SHORT_TRAIT_NAME}/tissues\"]"
   ]
  },
  {
   "cell_type": "code",
   "execution_count": 9,
   "metadata": {},
   "outputs": [],
   "source": [
    "top_lvs = top_lvs.head(N_TOP_LVS)"
   ]
  },
  {
   "cell_type": "code",
   "execution_count": 10,
   "metadata": {},
   "outputs": [
    {
     "data": {
      "text/plain": [
       "(50,)"
      ]
     },
     "execution_count": 10,
     "metadata": {},
     "output_type": "execute_result"
    }
   ],
   "source": [
    "top_lvs.shape"
   ]
  },
  {
   "cell_type": "code",
   "execution_count": 11,
   "metadata": {},
   "outputs": [
    {
     "data": {
      "text/plain": [
       "LV116    0.006180\n",
       "LV931    0.004843\n",
       "LV744    0.002292\n",
       "LV697    0.002231\n",
       "LV885    0.001984\n",
       "Name: I70-Diagnoses_main_ICD10_I70_Atherosclerosis, dtype: float64"
      ]
     },
     "execution_count": 11,
     "metadata": {},
     "output_type": "execute_result"
    }
   ],
   "source": [
    "top_lvs.head()"
   ]
  },
  {
   "cell_type": "code",
   "execution_count": 12,
   "metadata": {},
   "outputs": [
    {
     "data": {
      "text/plain": [
       "(173682, 3)"
      ]
     },
     "execution_count": 12,
     "metadata": {},
     "output_type": "execute_result"
    }
   ],
   "source": [
    "cell_types_data.shape"
   ]
  },
  {
   "cell_type": "code",
   "execution_count": 13,
   "metadata": {},
   "outputs": [
    {
     "data": {
      "text/html": [
       "<div>\n",
       "<style scoped>\n",
       "    .dataframe tbody tr th:only-of-type {\n",
       "        vertical-align: middle;\n",
       "    }\n",
       "\n",
       "    .dataframe tbody tr th {\n",
       "        vertical-align: top;\n",
       "    }\n",
       "\n",
       "    .dataframe thead th {\n",
       "        text-align: right;\n",
       "    }\n",
       "</style>\n",
       "<table border=\"1\" class=\"dataframe\">\n",
       "  <thead>\n",
       "    <tr style=\"text-align: right;\">\n",
       "      <th></th>\n",
       "      <th>lv</th>\n",
       "      <th>attr</th>\n",
       "      <th>lv_name</th>\n",
       "    </tr>\n",
       "  </thead>\n",
       "  <tbody>\n",
       "    <tr>\n",
       "      <th>0</th>\n",
       "      <td>2.307126</td>\n",
       "      <td>Neutrophils</td>\n",
       "      <td>LV116</td>\n",
       "    </tr>\n",
       "    <tr>\n",
       "      <th>1</th>\n",
       "      <td>2.151321</td>\n",
       "      <td>dermal fibroblast</td>\n",
       "      <td>LV116</td>\n",
       "    </tr>\n",
       "    <tr>\n",
       "      <th>2</th>\n",
       "      <td>2.047151</td>\n",
       "      <td>PBMCs</td>\n",
       "      <td>LV116</td>\n",
       "    </tr>\n",
       "    <tr>\n",
       "      <th>3</th>\n",
       "      <td>2.039088</td>\n",
       "      <td>PBMCs</td>\n",
       "      <td>LV116</td>\n",
       "    </tr>\n",
       "    <tr>\n",
       "      <th>4</th>\n",
       "      <td>2.031884</td>\n",
       "      <td>PBMCs</td>\n",
       "      <td>LV116</td>\n",
       "    </tr>\n",
       "  </tbody>\n",
       "</table>\n",
       "</div>"
      ],
      "text/plain": [
       "         lv               attr lv_name\n",
       "0  2.307126        Neutrophils   LV116\n",
       "1  2.151321  dermal fibroblast   LV116\n",
       "2  2.047151              PBMCs   LV116\n",
       "3  2.039088              PBMCs   LV116\n",
       "4  2.031884              PBMCs   LV116"
      ]
     },
     "execution_count": 13,
     "metadata": {},
     "output_type": "execute_result"
    }
   ],
   "source": [
    "cell_types_data.head()"
   ]
  },
  {
   "cell_type": "code",
   "execution_count": 14,
   "metadata": {},
   "outputs": [
    {
     "data": {
      "text/plain": [
       "(75235, 3)"
      ]
     },
     "execution_count": 14,
     "metadata": {},
     "output_type": "execute_result"
    }
   ],
   "source": [
    "tissues_data.shape"
   ]
  },
  {
   "cell_type": "code",
   "execution_count": 15,
   "metadata": {},
   "outputs": [
    {
     "data": {
      "text/html": [
       "<div>\n",
       "<style scoped>\n",
       "    .dataframe tbody tr th:only-of-type {\n",
       "        vertical-align: middle;\n",
       "    }\n",
       "\n",
       "    .dataframe tbody tr th {\n",
       "        vertical-align: top;\n",
       "    }\n",
       "\n",
       "    .dataframe thead th {\n",
       "        text-align: right;\n",
       "    }\n",
       "</style>\n",
       "<table border=\"1\" class=\"dataframe\">\n",
       "  <thead>\n",
       "    <tr style=\"text-align: right;\">\n",
       "      <th></th>\n",
       "      <th>lv</th>\n",
       "      <th>attr</th>\n",
       "      <th>lv_name</th>\n",
       "    </tr>\n",
       "  </thead>\n",
       "  <tbody>\n",
       "    <tr>\n",
       "      <th>0</th>\n",
       "      <td>2.780800</td>\n",
       "      <td>Whole blood</td>\n",
       "      <td>LV116</td>\n",
       "    </tr>\n",
       "    <tr>\n",
       "      <th>1</th>\n",
       "      <td>2.343260</td>\n",
       "      <td>Whole blood</td>\n",
       "      <td>LV116</td>\n",
       "    </tr>\n",
       "    <tr>\n",
       "      <th>2</th>\n",
       "      <td>2.334816</td>\n",
       "      <td>Whole blood</td>\n",
       "      <td>LV116</td>\n",
       "    </tr>\n",
       "    <tr>\n",
       "      <th>3</th>\n",
       "      <td>2.324611</td>\n",
       "      <td>Whole blood</td>\n",
       "      <td>LV116</td>\n",
       "    </tr>\n",
       "    <tr>\n",
       "      <th>4</th>\n",
       "      <td>2.213722</td>\n",
       "      <td>Whole blood</td>\n",
       "      <td>LV116</td>\n",
       "    </tr>\n",
       "  </tbody>\n",
       "</table>\n",
       "</div>"
      ],
      "text/plain": [
       "         lv         attr lv_name\n",
       "0  2.780800  Whole blood   LV116\n",
       "1  2.343260  Whole blood   LV116\n",
       "2  2.334816  Whole blood   LV116\n",
       "3  2.324611  Whole blood   LV116\n",
       "4  2.213722  Whole blood   LV116"
      ]
     },
     "execution_count": 15,
     "metadata": {},
     "output_type": "execute_result"
    }
   ],
   "source": [
    "tissues_data.head()"
   ]
  },
  {
   "cell_type": "markdown",
   "metadata": {},
   "source": [
    "# LVs selection"
   ]
  },
  {
   "cell_type": "code",
   "execution_count": 16,
   "metadata": {},
   "outputs": [],
   "source": [
    "# N_TOP_LVS = 50"
   ]
  },
  {
   "cell_type": "markdown",
   "metadata": {},
   "source": [
    "# Cell types"
   ]
  },
  {
   "cell_type": "code",
   "execution_count": 17,
   "metadata": {},
   "outputs": [],
   "source": [
    "# def _get_lv_rank(data):\n",
    "#     data = data.copy()\n",
    "#     data[\"lv\"] = data[\"lv\"].rank()\n",
    "#     return data"
   ]
  },
  {
   "cell_type": "code",
   "execution_count": 18,
   "metadata": {},
   "outputs": [],
   "source": [
    "df = cell_types_data.copy()\n",
    "# df = pd.concat(cell_type_dfs[:N_TOP_LVS], ignore_index=True)\n",
    "# df = pd.concat([_get_lv_rank(x) for x in cell_type_dfs[:N_TOP_LVS]], ignore_index=True)"
   ]
  },
  {
   "cell_type": "code",
   "execution_count": 19,
   "metadata": {},
   "outputs": [],
   "source": [
    "df = df[df[\"lv_name\"].isin(top_lvs.index)]"
   ]
  },
  {
   "cell_type": "code",
   "execution_count": 20,
   "metadata": {},
   "outputs": [
    {
     "data": {
      "text/plain": [
       "(173682, 3)"
      ]
     },
     "execution_count": 20,
     "metadata": {},
     "output_type": "execute_result"
    }
   ],
   "source": [
    "df.shape"
   ]
  },
  {
   "cell_type": "code",
   "execution_count": 21,
   "metadata": {},
   "outputs": [
    {
     "data": {
      "text/html": [
       "<div>\n",
       "<style scoped>\n",
       "    .dataframe tbody tr th:only-of-type {\n",
       "        vertical-align: middle;\n",
       "    }\n",
       "\n",
       "    .dataframe tbody tr th {\n",
       "        vertical-align: top;\n",
       "    }\n",
       "\n",
       "    .dataframe thead th {\n",
       "        text-align: right;\n",
       "    }\n",
       "</style>\n",
       "<table border=\"1\" class=\"dataframe\">\n",
       "  <thead>\n",
       "    <tr style=\"text-align: right;\">\n",
       "      <th></th>\n",
       "      <th>lv</th>\n",
       "      <th>attr</th>\n",
       "      <th>lv_name</th>\n",
       "    </tr>\n",
       "  </thead>\n",
       "  <tbody>\n",
       "    <tr>\n",
       "      <th>0</th>\n",
       "      <td>2.307126</td>\n",
       "      <td>Neutrophils</td>\n",
       "      <td>LV116</td>\n",
       "    </tr>\n",
       "    <tr>\n",
       "      <th>1</th>\n",
       "      <td>2.151321</td>\n",
       "      <td>dermal fibroblast</td>\n",
       "      <td>LV116</td>\n",
       "    </tr>\n",
       "    <tr>\n",
       "      <th>2</th>\n",
       "      <td>2.047151</td>\n",
       "      <td>PBMCs</td>\n",
       "      <td>LV116</td>\n",
       "    </tr>\n",
       "    <tr>\n",
       "      <th>3</th>\n",
       "      <td>2.039088</td>\n",
       "      <td>PBMCs</td>\n",
       "      <td>LV116</td>\n",
       "    </tr>\n",
       "    <tr>\n",
       "      <th>4</th>\n",
       "      <td>2.031884</td>\n",
       "      <td>PBMCs</td>\n",
       "      <td>LV116</td>\n",
       "    </tr>\n",
       "  </tbody>\n",
       "</table>\n",
       "</div>"
      ],
      "text/plain": [
       "         lv               attr lv_name\n",
       "0  2.307126        Neutrophils   LV116\n",
       "1  2.151321  dermal fibroblast   LV116\n",
       "2  2.047151              PBMCs   LV116\n",
       "3  2.039088              PBMCs   LV116\n",
       "4  2.031884              PBMCs   LV116"
      ]
     },
     "execution_count": 21,
     "metadata": {},
     "output_type": "execute_result"
    }
   ],
   "source": [
    "df.head()"
   ]
  },
  {
   "cell_type": "code",
   "execution_count": 22,
   "metadata": {},
   "outputs": [],
   "source": [
    "# this is an attempt to weight cell types by the top lvs from drug-disease\n",
    "\n",
    "# _tmp = pd.merge(df, top_lvs.rename(\"lv_weight\"), left_on=\"lv_name\", right_index=True)\n",
    "# _tmp = _tmp.assign(value=(_tmp[\"lv\"] * _tmp[\"lv_weight\"]))\n",
    "# df = _tmp[[\"attr\", \"value\", \"lv\"]]"
   ]
  },
  {
   "cell_type": "code",
   "execution_count": 23,
   "metadata": {},
   "outputs": [],
   "source": [
    "# The PBMCs entry is related only to those samples treated with HSV-1\n",
    "# see https://trace.ncbi.nlm.nih.gov/Traces/sra/?study=SRP045569\n",
    "# here I keep only those, since the rest (sham) have almost zero expression\n",
    "df = df[~((df[\"attr\"] == \"PBMCs\") & (df[\"lv\"] < 0.05))]\n",
    "\n",
    "# https://trace.ncbi.nlm.nih.gov/Traces/sra/?study=SRP062958\n",
    "df = df[~((df[\"attr\"] == \"peripheral blood monocytes\") & (df[\"lv\"] < 0.00))]\n",
    "\n",
    "# https://trace.ncbi.nlm.nih.gov/Traces/sra/?study=SRP048804\n",
    "df = df[~((df[\"attr\"] == \"glioblastoma cell line\") & (df[\"lv\"] < 0.00))]\n",
    "\n",
    "# https://trace.ncbi.nlm.nih.gov/Traces/sra/?study=SRP066356\n",
    "df = df[~((df[\"attr\"] == \"Monocyte\") & (df[\"lv\"] < 0.00))]\n",
    "\n",
    "# https://trace.ncbi.nlm.nih.gov/Traces/sra/?study=SRP015670\n",
    "df = df[~((df[\"attr\"] == \"monocyte-derived macrophages\") & (df[\"lv\"] < 0.00))]"
   ]
  },
  {
   "cell_type": "code",
   "execution_count": 24,
   "metadata": {},
   "outputs": [
    {
     "data": {
      "text/plain": [
       "attr\n",
       "CD4+CD25highCD127low/- Treg cells                    7.645681\n",
       "mural granulosa cells                                1.869020\n",
       "cumulus granulosa cells                              1.846062\n",
       "PBMCs                                                1.710010\n",
       "HER2-positive breast cancer                          1.499028\n",
       "WAT                                                  1.471362\n",
       "human adipose-derived stem cells                     1.120623\n",
       "peripheral blood monocytes                           1.024814\n",
       "glioblastoma cell line                               0.981873\n",
       "CD14 cells                                           0.893452\n",
       "SGBS adipocyte D10                                   0.846062\n",
       "limbal stem cells                                    0.831004\n",
       "neural precursor cell derived neuronal like cells    0.803758\n",
       "BAT                                                  0.777265\n",
       "skin epithelial cells                                0.719672\n",
       "Primary Monocytes(BC8)                               0.690342\n",
       "Hep3B                                                0.663217\n",
       "Neural crest cells (hNCC) derived from H9 ESC        0.647326\n",
       "liver cancer                                         0.627302\n",
       "NPC                                                  0.616007\n",
       "Neural stem cell                                     0.611681\n",
       "Dendritic cell                                       0.609746\n",
       "Primary Monocytes(BC9)                               0.608375\n",
       "iPSC (GM8330-8)-derived NPC                          0.598906\n",
       "human Neural Stem Cells (hNSCs)                      0.592070\n",
       "Name: lv, dtype: float64"
      ]
     },
     "execution_count": 24,
     "metadata": {},
     "output_type": "execute_result"
    }
   ],
   "source": [
    "df.groupby(\"attr\").median().squeeze().sort_values(ascending=False).head(25)\n",
    "# df[[\"attr\", \"value\"]].groupby(\"attr\").median().squeeze().sort_values(ascending=False).head(40)\n",
    "# df.groupby(\"attr\").max().sort_values(\"lv\", ascending=False).head(25)"
   ]
  },
  {
   "cell_type": "code",
   "execution_count": 25,
   "metadata": {},
   "outputs": [],
   "source": [
    "df = df.replace(\n",
    "    {\n",
    "        \"attr\": {\n",
    "            \"CD14 cells\": \"CD14+ cells\",\n",
    "            \"M1-polarized HMDM\": \"M1 macrophages\\n(HMDM)\",\n",
    "            \"M1-polarized IPSDM\": \"M1 macrophages\\n(IPSDM)\",\n",
    "            \"PBMCs\": \"PBMCs (HSV)\",\n",
    "            \"peripheral blood monocytes\": \"Monocytes (IFNa)\",\n",
    "            \"LHSAR overexpressed with HOXB13\": \"Prostate epithelial cells (LHSAR)\",\n",
    "            \"LHSAR overexpressed with HOXB13 and FOXA1\": \"Prostate epithelial cells (LHSAR)\",\n",
    "            \"LHSAR overexpressed with LacZ\": \"Prostate epithelial cells (LHSAR)\",\n",
    "            \"Primary Monocytes(BC8)\": \"Primary monocytes\",\n",
    "            \"Primary Monocytes(BC9)\": \"Primary monocytes\",\n",
    "            \"Primary Monocytes(BC12)\": \"Primary monocytes\",\n",
    "            \"Primary Monocytes(BC11)\": \"Primary monocytes\",\n",
    "            \"glioblastoma cell line\": \"Glioblastoma (GBM1A cell line)\",\n",
    "            \"Monocyte\": \"Monocytes\",\n",
    "            \"monocyte-derived macrophages\": \"Monocyte-derived\\nmacrophages (WNV)\",\n",
    "            \"Tongue squamous cell carcinoma\": \"Tongue squamous\\ncell carcinoma\",\n",
    "            \"CD4+CD25highCD127low/- Treg cells\": \"Regulatory T cells (Treg)\",\n",
    "            \"WAT\": \"White adipose tissue\",\n",
    "            \"BAT\": \"Brown adipose tissue\",\n",
    "            \"human adipose-derived stem cells\": \"Adipose-derived stem cells\",\n",
    "            \"neural precursor cell derived neuronal like cells\": \"Neural precursor cell\",\n",
    "            \"Neural crest cells (hNCC) derived from H9 ESC\": \"Neural crest cells\",\n",
    "            \"NPC\": \"Neural progenitor cell\",\n",
    "        }\n",
    "    }\n",
    ")"
   ]
  },
  {
   "cell_type": "code",
   "execution_count": 26,
   "metadata": {},
   "outputs": [],
   "source": [
    "cat_order = df.groupby(\"attr\").median().squeeze()\n",
    "cat_order = cat_order.sort_values(ascending=False)\n",
    "cat_order = cat_order.head(20)\n",
    "cat_order = cat_order.index"
   ]
  },
  {
   "cell_type": "code",
   "execution_count": 27,
   "metadata": {},
   "outputs": [
    {
     "data": {
      "text/plain": [
       "PosixPath('/home/miltondp/projects/labs/greenelab/phenoplier_manuscript/content/images/drug_disease_prediction/niacin-ICD10_I70_Atherosclerosis-cell_types.svg')"
      ]
     },
     "metadata": {},
     "output_type": "display_data"
    },
    {
     "data": {
      "image/png": "[encoded data removed]",
      "text/plain": [
       "<Figure size 1008x576 with 1 Axes>"
      ]
     },
     "metadata": {},
     "output_type": "display_data"
    }
   ],
   "source": [
    "with sns.plotting_context(\"paper\", font_scale=2.5), sns.axes_style(\"whitegrid\"):\n",
    "    fig, ax = plt.subplots(figsize=(14, 8))\n",
    "    ax = sns.boxplot(\n",
    "        data=df,\n",
    "        x=\"attr\",\n",
    "        y=\"lv\",\n",
    "        order=cat_order,\n",
    "        linewidth=None,\n",
    "        ax=ax,\n",
    "    )\n",
    "\n",
    "    ax.set_xlabel(\"Cell type\")\n",
    "    ax.set_ylabel(\"LV value\")\n",
    "    plt.xticks(rotation=45, horizontalalignment=\"right\")\n",
    "\n",
    "    output_filepath = OUTPUT_FIGURES_DIR / f\"niacin-{SHORT_TRAIT_NAME}-cell_types.svg\"\n",
    "    display(output_filepath)\n",
    "    plt.savefig(\n",
    "        output_filepath,\n",
    "        bbox_inches=\"tight\",\n",
    "    )"
   ]
  },
  {
   "cell_type": "markdown",
   "metadata": {},
   "source": [
    "# Debug"
   ]
  },
  {
   "cell_type": "code",
   "execution_count": 28,
   "metadata": {},
   "outputs": [
    {
     "data": {
      "text/html": [
       "<div>\n",
       "<style scoped>\n",
       "    .dataframe tbody tr th:only-of-type {\n",
       "        vertical-align: middle;\n",
       "    }\n",
       "\n",
       "    .dataframe tbody tr th {\n",
       "        vertical-align: top;\n",
       "    }\n",
       "\n",
       "    .dataframe thead th {\n",
       "        text-align: right;\n",
       "    }\n",
       "</style>\n",
       "<table border=\"1\" class=\"dataframe\">\n",
       "  <thead>\n",
       "    <tr style=\"text-align: right;\">\n",
       "      <th></th>\n",
       "      <th>lv</th>\n",
       "      <th>attr</th>\n",
       "      <th>lv_name</th>\n",
       "    </tr>\n",
       "  </thead>\n",
       "  <tbody>\n",
       "    <tr>\n",
       "      <th>142005</th>\n",
       "      <td>0.816105</td>\n",
       "      <td>iPSC (GM8330-8)-derived NPC</td>\n",
       "      <td>LV879</td>\n",
       "    </tr>\n",
       "    <tr>\n",
       "      <th>142009</th>\n",
       "      <td>0.810455</td>\n",
       "      <td>iPSC (GM8330-8)-derived NPC</td>\n",
       "      <td>LV879</td>\n",
       "    </tr>\n",
       "    <tr>\n",
       "      <th>142010</th>\n",
       "      <td>0.808660</td>\n",
       "      <td>iPSC (GM8330-8)-derived NPC</td>\n",
       "      <td>LV879</td>\n",
       "    </tr>\n",
       "    <tr>\n",
       "      <th>142017</th>\n",
       "      <td>0.768757</td>\n",
       "      <td>iPSC (GM8330-8)-derived NPC</td>\n",
       "      <td>LV879</td>\n",
       "    </tr>\n",
       "    <tr>\n",
       "      <th>142018</th>\n",
       "      <td>0.767118</td>\n",
       "      <td>iPSC (GM8330-8)-derived NPC</td>\n",
       "      <td>LV879</td>\n",
       "    </tr>\n",
       "    <tr>\n",
       "      <th>142021</th>\n",
       "      <td>0.761991</td>\n",
       "      <td>iPSC (GM8330-8)-derived NPC</td>\n",
       "      <td>LV879</td>\n",
       "    </tr>\n",
       "    <tr>\n",
       "      <th>142022</th>\n",
       "      <td>0.761510</td>\n",
       "      <td>iPSC (GM8330-8)-derived NPC</td>\n",
       "      <td>LV879</td>\n",
       "    </tr>\n",
       "    <tr>\n",
       "      <th>142026</th>\n",
       "      <td>0.738662</td>\n",
       "      <td>iPSC (GM8330-8)-derived NPC</td>\n",
       "      <td>LV879</td>\n",
       "    </tr>\n",
       "    <tr>\n",
       "      <th>142028</th>\n",
       "      <td>0.735728</td>\n",
       "      <td>iPSC (GM8330-8)-derived NPC</td>\n",
       "      <td>LV879</td>\n",
       "    </tr>\n",
       "    <tr>\n",
       "      <th>142033</th>\n",
       "      <td>0.724999</td>\n",
       "      <td>iPSC (GM8330-8)-derived NPC</td>\n",
       "      <td>LV879</td>\n",
       "    </tr>\n",
       "    <tr>\n",
       "      <th>142034</th>\n",
       "      <td>0.723998</td>\n",
       "      <td>iPSC (GM8330-8)-derived NPC</td>\n",
       "      <td>LV879</td>\n",
       "    </tr>\n",
       "    <tr>\n",
       "      <th>142039</th>\n",
       "      <td>0.696362</td>\n",
       "      <td>iPSC (GM8330-8)-derived NPC</td>\n",
       "      <td>LV879</td>\n",
       "    </tr>\n",
       "    <tr>\n",
       "      <th>142040</th>\n",
       "      <td>0.690519</td>\n",
       "      <td>iPSC (GM8330-8)-derived NPC</td>\n",
       "      <td>LV879</td>\n",
       "    </tr>\n",
       "    <tr>\n",
       "      <th>142041</th>\n",
       "      <td>0.689552</td>\n",
       "      <td>iPSC (GM8330-8)-derived NPC</td>\n",
       "      <td>LV879</td>\n",
       "    </tr>\n",
       "    <tr>\n",
       "      <th>142044</th>\n",
       "      <td>0.683405</td>\n",
       "      <td>iPSC (GM8330-8)-derived NPC</td>\n",
       "      <td>LV879</td>\n",
       "    </tr>\n",
       "    <tr>\n",
       "      <th>142046</th>\n",
       "      <td>0.682336</td>\n",
       "      <td>iPSC (GM8330-8)-derived NPC</td>\n",
       "      <td>LV879</td>\n",
       "    </tr>\n",
       "    <tr>\n",
       "      <th>142047</th>\n",
       "      <td>0.681809</td>\n",
       "      <td>iPSC (GM8330-8)-derived NPC</td>\n",
       "      <td>LV879</td>\n",
       "    </tr>\n",
       "    <tr>\n",
       "      <th>142048</th>\n",
       "      <td>0.681689</td>\n",
       "      <td>iPSC (GM8330-8)-derived NPC</td>\n",
       "      <td>LV879</td>\n",
       "    </tr>\n",
       "    <tr>\n",
       "      <th>142049</th>\n",
       "      <td>0.681267</td>\n",
       "      <td>iPSC (GM8330-8)-derived NPC</td>\n",
       "      <td>LV879</td>\n",
       "    </tr>\n",
       "    <tr>\n",
       "      <th>142051</th>\n",
       "      <td>0.680849</td>\n",
       "      <td>iPSC (GM8330-8)-derived NPC</td>\n",
       "      <td>LV879</td>\n",
       "    </tr>\n",
       "    <tr>\n",
       "      <th>142055</th>\n",
       "      <td>0.652692</td>\n",
       "      <td>iPSC (GM8330-8)-derived NPC</td>\n",
       "      <td>LV879</td>\n",
       "    </tr>\n",
       "    <tr>\n",
       "      <th>142056</th>\n",
       "      <td>0.651241</td>\n",
       "      <td>iPSC (GM8330-8)-derived NPC</td>\n",
       "      <td>LV879</td>\n",
       "    </tr>\n",
       "    <tr>\n",
       "      <th>142057</th>\n",
       "      <td>0.650551</td>\n",
       "      <td>iPSC (GM8330-8)-derived NPC</td>\n",
       "      <td>LV879</td>\n",
       "    </tr>\n",
       "    <tr>\n",
       "      <th>142069</th>\n",
       "      <td>0.612703</td>\n",
       "      <td>iPSC (GM8330-8)-derived NPC</td>\n",
       "      <td>LV879</td>\n",
       "    </tr>\n",
       "    <tr>\n",
       "      <th>142072</th>\n",
       "      <td>0.611563</td>\n",
       "      <td>iPSC (GM8330-8)-derived NPC</td>\n",
       "      <td>LV879</td>\n",
       "    </tr>\n",
       "    <tr>\n",
       "      <th>142074</th>\n",
       "      <td>0.609867</td>\n",
       "      <td>iPSC (GM8330-8)-derived NPC</td>\n",
       "      <td>LV879</td>\n",
       "    </tr>\n",
       "    <tr>\n",
       "      <th>142079</th>\n",
       "      <td>0.598944</td>\n",
       "      <td>iPSC (GM8330-8)-derived NPC</td>\n",
       "      <td>LV879</td>\n",
       "    </tr>\n",
       "    <tr>\n",
       "      <th>142080</th>\n",
       "      <td>0.598868</td>\n",
       "      <td>iPSC (GM8330-8)-derived NPC</td>\n",
       "      <td>LV879</td>\n",
       "    </tr>\n",
       "    <tr>\n",
       "      <th>142082</th>\n",
       "      <td>0.597933</td>\n",
       "      <td>iPSC (GM8330-8)-derived NPC</td>\n",
       "      <td>LV879</td>\n",
       "    </tr>\n",
       "    <tr>\n",
       "      <th>142083</th>\n",
       "      <td>0.597252</td>\n",
       "      <td>iPSC (GM8330-8)-derived NPC</td>\n",
       "      <td>LV879</td>\n",
       "    </tr>\n",
       "    <tr>\n",
       "      <th>142084</th>\n",
       "      <td>0.595874</td>\n",
       "      <td>iPSC (GM8330-8)-derived NPC</td>\n",
       "      <td>LV879</td>\n",
       "    </tr>\n",
       "    <tr>\n",
       "      <th>142085</th>\n",
       "      <td>0.592611</td>\n",
       "      <td>iPSC (GM8330-8)-derived NPC</td>\n",
       "      <td>LV879</td>\n",
       "    </tr>\n",
       "    <tr>\n",
       "      <th>142086</th>\n",
       "      <td>0.592475</td>\n",
       "      <td>iPSC (GM8330-8)-derived NPC</td>\n",
       "      <td>LV879</td>\n",
       "    </tr>\n",
       "    <tr>\n",
       "      <th>142090</th>\n",
       "      <td>0.584572</td>\n",
       "      <td>iPSC (GM8330-8)-derived NPC</td>\n",
       "      <td>LV879</td>\n",
       "    </tr>\n",
       "    <tr>\n",
       "      <th>142091</th>\n",
       "      <td>0.583385</td>\n",
       "      <td>iPSC (GM8330-8)-derived NPC</td>\n",
       "      <td>LV879</td>\n",
       "    </tr>\n",
       "    <tr>\n",
       "      <th>142102</th>\n",
       "      <td>0.565962</td>\n",
       "      <td>Neural progenitor cells (NPCs) developed from ...</td>\n",
       "      <td>LV879</td>\n",
       "    </tr>\n",
       "    <tr>\n",
       "      <th>142103</th>\n",
       "      <td>0.562980</td>\n",
       "      <td>iPSC (GM8330-8)-derived NPC</td>\n",
       "      <td>LV879</td>\n",
       "    </tr>\n",
       "    <tr>\n",
       "      <th>142106</th>\n",
       "      <td>0.559439</td>\n",
       "      <td>iPSC (GM8330-8)-derived NPC</td>\n",
       "      <td>LV879</td>\n",
       "    </tr>\n",
       "    <tr>\n",
       "      <th>142111</th>\n",
       "      <td>0.548869</td>\n",
       "      <td>iPSC (GM8330-8)-derived NPC</td>\n",
       "      <td>LV879</td>\n",
       "    </tr>\n",
       "    <tr>\n",
       "      <th>142112</th>\n",
       "      <td>0.548693</td>\n",
       "      <td>iPSC (GM8330-8)-derived NPC</td>\n",
       "      <td>LV879</td>\n",
       "    </tr>\n",
       "    <tr>\n",
       "      <th>142113</th>\n",
       "      <td>0.547454</td>\n",
       "      <td>iPSC (GM8330-8)-derived NPC</td>\n",
       "      <td>LV879</td>\n",
       "    </tr>\n",
       "    <tr>\n",
       "      <th>142115</th>\n",
       "      <td>0.545441</td>\n",
       "      <td>iPSC (GM8330-8)-derived NPC</td>\n",
       "      <td>LV879</td>\n",
       "    </tr>\n",
       "    <tr>\n",
       "      <th>142118</th>\n",
       "      <td>0.540342</td>\n",
       "      <td>iPSC (GM8330-8)-derived NPC</td>\n",
       "      <td>LV879</td>\n",
       "    </tr>\n",
       "    <tr>\n",
       "      <th>142123</th>\n",
       "      <td>0.534814</td>\n",
       "      <td>iPSC (GM8330-8)-derived NPC</td>\n",
       "      <td>LV879</td>\n",
       "    </tr>\n",
       "    <tr>\n",
       "      <th>142124</th>\n",
       "      <td>0.534237</td>\n",
       "      <td>iPSC (GM8330-8)-derived NPC</td>\n",
       "      <td>LV879</td>\n",
       "    </tr>\n",
       "    <tr>\n",
       "      <th>142143</th>\n",
       "      <td>0.505702</td>\n",
       "      <td>Neural progenitor cells (NPCs) developed from ...</td>\n",
       "      <td>LV879</td>\n",
       "    </tr>\n",
       "    <tr>\n",
       "      <th>142153</th>\n",
       "      <td>0.486295</td>\n",
       "      <td>iPSC (GM8330-8)-derived NPC</td>\n",
       "      <td>LV879</td>\n",
       "    </tr>\n",
       "    <tr>\n",
       "      <th>142154</th>\n",
       "      <td>0.485939</td>\n",
       "      <td>iPSC (GM8330-8)-derived NPC</td>\n",
       "      <td>LV879</td>\n",
       "    </tr>\n",
       "    <tr>\n",
       "      <th>142157</th>\n",
       "      <td>0.481055</td>\n",
       "      <td>Neural progenitor cells (NPCs) developed from ...</td>\n",
       "      <td>LV879</td>\n",
       "    </tr>\n",
       "    <tr>\n",
       "      <th>142161</th>\n",
       "      <td>0.478076</td>\n",
       "      <td>iPSC (GM8330-8)-derived NPC</td>\n",
       "      <td>LV879</td>\n",
       "    </tr>\n",
       "    <tr>\n",
       "      <th>142162</th>\n",
       "      <td>0.476038</td>\n",
       "      <td>iPSC (GM8330-8)-derived NPC</td>\n",
       "      <td>LV879</td>\n",
       "    </tr>\n",
       "    <tr>\n",
       "      <th>142172</th>\n",
       "      <td>0.458914</td>\n",
       "      <td>Neural progenitor cells (NPCs) developed from ...</td>\n",
       "      <td>LV879</td>\n",
       "    </tr>\n",
       "    <tr>\n",
       "      <th>142174</th>\n",
       "      <td>0.457419</td>\n",
       "      <td>iPSC (GM8330-8)-derived NPC</td>\n",
       "      <td>LV879</td>\n",
       "    </tr>\n",
       "    <tr>\n",
       "      <th>142175</th>\n",
       "      <td>0.457061</td>\n",
       "      <td>iPSC (GM8330-8)-derived NPC</td>\n",
       "      <td>LV879</td>\n",
       "    </tr>\n",
       "    <tr>\n",
       "      <th>142179</th>\n",
       "      <td>0.454920</td>\n",
       "      <td>iPSC (GM8330-8)-derived NPC</td>\n",
       "      <td>LV879</td>\n",
       "    </tr>\n",
       "    <tr>\n",
       "      <th>142189</th>\n",
       "      <td>0.437411</td>\n",
       "      <td>iPSC (GM8330-8)-derived NPC</td>\n",
       "      <td>LV879</td>\n",
       "    </tr>\n",
       "    <tr>\n",
       "      <th>142190</th>\n",
       "      <td>0.437059</td>\n",
       "      <td>Neural progenitor cells (NPCs) developed from ...</td>\n",
       "      <td>LV879</td>\n",
       "    </tr>\n",
       "    <tr>\n",
       "      <th>142191</th>\n",
       "      <td>0.437044</td>\n",
       "      <td>iPSC (GM8330-8)-derived NPC</td>\n",
       "      <td>LV879</td>\n",
       "    </tr>\n",
       "    <tr>\n",
       "      <th>142192</th>\n",
       "      <td>0.435775</td>\n",
       "      <td>iPSC (GM8330-8)-derived NPC</td>\n",
       "      <td>LV879</td>\n",
       "    </tr>\n",
       "    <tr>\n",
       "      <th>142260</th>\n",
       "      <td>0.340149</td>\n",
       "      <td>Neural progenitor cells (NPCs) developed from ...</td>\n",
       "      <td>LV879</td>\n",
       "    </tr>\n",
       "  </tbody>\n",
       "</table>\n",
       "</div>"
      ],
      "text/plain": [
       "              lv                                               attr lv_name\n",
       "142005  0.816105                        iPSC (GM8330-8)-derived NPC   LV879\n",
       "142009  0.810455                        iPSC (GM8330-8)-derived NPC   LV879\n",
       "142010  0.808660                        iPSC (GM8330-8)-derived NPC   LV879\n",
       "142017  0.768757                        iPSC (GM8330-8)-derived NPC   LV879\n",
       "142018  0.767118                        iPSC (GM8330-8)-derived NPC   LV879\n",
       "142021  0.761991                        iPSC (GM8330-8)-derived NPC   LV879\n",
       "142022  0.761510                        iPSC (GM8330-8)-derived NPC   LV879\n",
       "142026  0.738662                        iPSC (GM8330-8)-derived NPC   LV879\n",
       "142028  0.735728                        iPSC (GM8330-8)-derived NPC   LV879\n",
       "142033  0.724999                        iPSC (GM8330-8)-derived NPC   LV879\n",
       "142034  0.723998                        iPSC (GM8330-8)-derived NPC   LV879\n",
       "142039  0.696362                        iPSC (GM8330-8)-derived NPC   LV879\n",
       "142040  0.690519                        iPSC (GM8330-8)-derived NPC   LV879\n",
       "142041  0.689552                        iPSC (GM8330-8)-derived NPC   LV879\n",
       "142044  0.683405                        iPSC (GM8330-8)-derived NPC   LV879\n",
       "142046  0.682336                        iPSC (GM8330-8)-derived NPC   LV879\n",
       "142047  0.681809                        iPSC (GM8330-8)-derived NPC   LV879\n",
       "142048  0.681689                        iPSC (GM8330-8)-derived NPC   LV879\n",
       "142049  0.681267                        iPSC (GM8330-8)-derived NPC   LV879\n",
       "142051  0.680849                        iPSC (GM8330-8)-derived NPC   LV879\n",
       "142055  0.652692                        iPSC (GM8330-8)-derived NPC   LV879\n",
       "142056  0.651241                        iPSC (GM8330-8)-derived NPC   LV879\n",
       "142057  0.650551                        iPSC (GM8330-8)-derived NPC   LV879\n",
       "142069  0.612703                        iPSC (GM8330-8)-derived NPC   LV879\n",
       "142072  0.611563                        iPSC (GM8330-8)-derived NPC   LV879\n",
       "142074  0.609867                        iPSC (GM8330-8)-derived NPC   LV879\n",
       "142079  0.598944                        iPSC (GM8330-8)-derived NPC   LV879\n",
       "142080  0.598868                        iPSC (GM8330-8)-derived NPC   LV879\n",
       "142082  0.597933                        iPSC (GM8330-8)-derived NPC   LV879\n",
       "142083  0.597252                        iPSC (GM8330-8)-derived NPC   LV879\n",
       "142084  0.595874                        iPSC (GM8330-8)-derived NPC   LV879\n",
       "142085  0.592611                        iPSC (GM8330-8)-derived NPC   LV879\n",
       "142086  0.592475                        iPSC (GM8330-8)-derived NPC   LV879\n",
       "142090  0.584572                        iPSC (GM8330-8)-derived NPC   LV879\n",
       "142091  0.583385                        iPSC (GM8330-8)-derived NPC   LV879\n",
       "142102  0.565962  Neural progenitor cells (NPCs) developed from ...   LV879\n",
       "142103  0.562980                        iPSC (GM8330-8)-derived NPC   LV879\n",
       "142106  0.559439                        iPSC (GM8330-8)-derived NPC   LV879\n",
       "142111  0.548869                        iPSC (GM8330-8)-derived NPC   LV879\n",
       "142112  0.548693                        iPSC (GM8330-8)-derived NPC   LV879\n",
       "142113  0.547454                        iPSC (GM8330-8)-derived NPC   LV879\n",
       "142115  0.545441                        iPSC (GM8330-8)-derived NPC   LV879\n",
       "142118  0.540342                        iPSC (GM8330-8)-derived NPC   LV879\n",
       "142123  0.534814                        iPSC (GM8330-8)-derived NPC   LV879\n",
       "142124  0.534237                        iPSC (GM8330-8)-derived NPC   LV879\n",
       "142143  0.505702  Neural progenitor cells (NPCs) developed from ...   LV879\n",
       "142153  0.486295                        iPSC (GM8330-8)-derived NPC   LV879\n",
       "142154  0.485939                        iPSC (GM8330-8)-derived NPC   LV879\n",
       "142157  0.481055  Neural progenitor cells (NPCs) developed from ...   LV879\n",
       "142161  0.478076                        iPSC (GM8330-8)-derived NPC   LV879\n",
       "142162  0.476038                        iPSC (GM8330-8)-derived NPC   LV879\n",
       "142172  0.458914  Neural progenitor cells (NPCs) developed from ...   LV879\n",
       "142174  0.457419                        iPSC (GM8330-8)-derived NPC   LV879\n",
       "142175  0.457061                        iPSC (GM8330-8)-derived NPC   LV879\n",
       "142179  0.454920                        iPSC (GM8330-8)-derived NPC   LV879\n",
       "142189  0.437411                        iPSC (GM8330-8)-derived NPC   LV879\n",
       "142190  0.437059  Neural progenitor cells (NPCs) developed from ...   LV879\n",
       "142191  0.437044                        iPSC (GM8330-8)-derived NPC   LV879\n",
       "142192  0.435775                        iPSC (GM8330-8)-derived NPC   LV879\n",
       "142260  0.340149  Neural progenitor cells (NPCs) developed from ...   LV879"
      ]
     },
     "execution_count": 28,
     "metadata": {},
     "output_type": "execute_result"
    }
   ],
   "source": [
    "df[df[\"attr\"].str.contains(\"NPC\")]"
   ]
  },
  {
   "cell_type": "code",
   "execution_count": 29,
   "metadata": {},
   "outputs": [],
   "source": [
    "LV_NAME = \"LV879\""
   ]
  },
  {
   "cell_type": "code",
   "execution_count": 30,
   "metadata": {},
   "outputs": [],
   "source": [
    "lv_obj = LVAnalysis(LV_NAME, None)"
   ]
  },
  {
   "cell_type": "code",
   "execution_count": 31,
   "metadata": {},
   "outputs": [
    {
     "name": "stdout",
     "output_type": "stream",
     "text": [
      "SRP041179, SRP048761, SRP002079, SRP039397, SRP047194, SRP047233, SRP049553, SRP017684, SRP045876, SRP022028, SRP061416, SRP045308, SRP006561, SRP041738, SRP047516, SRP060650, SRP063669, SRP018848, SRP035482, SRP035417, SRP013999, SRP033432, SRP058804, SRP041159, SRP049340, SRP028804, SRP039346, SRP064624, SRP046749, SRP032928, SRP049203, SRP013825, SRP033267, SRP049475, SRP047339, SRP041377, SRP037579, SRP061682, SRP055569, SRP028118, SRP050499, SRP032798, SRP056957, SRP059205, SRP041751, SRP008225, SRP014671, SRP048825, SRP036821, SRP040525, SRP056076, SRP021134, SRP055440, SRP003021, SRP016140, "
     ]
    }
   ],
   "source": [
    "lv_data = lv_obj.get_experiments_data()"
   ]
  },
  {
   "cell_type": "code",
   "execution_count": 32,
   "metadata": {},
   "outputs": [
    {
     "data": {
      "text/plain": [
       "(1958, 69)"
      ]
     },
     "execution_count": 32,
     "metadata": {},
     "output_type": "execute_result"
    }
   ],
   "source": [
    "lv_data.shape"
   ]
  },
  {
   "cell_type": "code",
   "execution_count": 33,
   "metadata": {},
   "outputs": [
    {
     "data": {
      "text/html": [
       "<div>\n",
       "<style scoped>\n",
       "    .dataframe tbody tr th:only-of-type {\n",
       "        vertical-align: middle;\n",
       "    }\n",
       "\n",
       "    .dataframe tbody tr th {\n",
       "        vertical-align: top;\n",
       "    }\n",
       "\n",
       "    .dataframe thead th {\n",
       "        text-align: right;\n",
       "    }\n",
       "</style>\n",
       "<table border=\"1\" class=\"dataframe\">\n",
       "  <thead>\n",
       "    <tr style=\"text-align: right;\">\n",
       "      <th></th>\n",
       "      <th></th>\n",
       "      <th>Stage</th>\n",
       "      <th>cell type</th>\n",
       "      <th>run id</th>\n",
       "      <th>genetic background</th>\n",
       "      <th>developmental stage</th>\n",
       "      <th>antibody</th>\n",
       "      <th>cell line</th>\n",
       "      <th>condition</th>\n",
       "      <th>dynamic program</th>\n",
       "      <th>knockdown</th>\n",
       "      <th>...</th>\n",
       "      <th>tissue archive method</th>\n",
       "      <th>source</th>\n",
       "      <th>differential stage</th>\n",
       "      <th>gestational age (weeks)</th>\n",
       "      <th>facs population</th>\n",
       "      <th>antibody batch/lot#</th>\n",
       "      <th>antibody catalog#</th>\n",
       "      <th>antibody vendor</th>\n",
       "      <th>chromosome</th>\n",
       "      <th>LV879</th>\n",
       "    </tr>\n",
       "    <tr>\n",
       "      <th>project</th>\n",
       "      <th>run</th>\n",
       "      <th></th>\n",
       "      <th></th>\n",
       "      <th></th>\n",
       "      <th></th>\n",
       "      <th></th>\n",
       "      <th></th>\n",
       "      <th></th>\n",
       "      <th></th>\n",
       "      <th></th>\n",
       "      <th></th>\n",
       "      <th></th>\n",
       "      <th></th>\n",
       "      <th></th>\n",
       "      <th></th>\n",
       "      <th></th>\n",
       "      <th></th>\n",
       "      <th></th>\n",
       "      <th></th>\n",
       "      <th></th>\n",
       "      <th></th>\n",
       "      <th></th>\n",
       "    </tr>\n",
       "  </thead>\n",
       "  <tbody>\n",
       "    <tr>\n",
       "      <th rowspan=\"5\" valign=\"top\">SRP041179</th>\n",
       "      <th>SRR1238493</th>\n",
       "      <td>Pluripotency</td>\n",
       "      <td>hESC (WA-09)</td>\n",
       "      <td>Cortecon</td>\n",
       "      <td>NaN</td>\n",
       "      <td>NaN</td>\n",
       "      <td>NaN</td>\n",
       "      <td>NaN</td>\n",
       "      <td>NaN</td>\n",
       "      <td>NaN</td>\n",
       "      <td>NaN</td>\n",
       "      <td>...</td>\n",
       "      <td>NaN</td>\n",
       "      <td>NaN</td>\n",
       "      <td>NaN</td>\n",
       "      <td>NaN</td>\n",
       "      <td>NaN</td>\n",
       "      <td>NaN</td>\n",
       "      <td>NaN</td>\n",
       "      <td>NaN</td>\n",
       "      <td>NaN</td>\n",
       "      <td>0.100898</td>\n",
       "    </tr>\n",
       "    <tr>\n",
       "      <th>SRR1238494</th>\n",
       "      <td>Pluripotency</td>\n",
       "      <td>hESC (WA-09)</td>\n",
       "      <td>Cortecon</td>\n",
       "      <td>NaN</td>\n",
       "      <td>NaN</td>\n",
       "      <td>NaN</td>\n",
       "      <td>NaN</td>\n",
       "      <td>NaN</td>\n",
       "      <td>NaN</td>\n",
       "      <td>NaN</td>\n",
       "      <td>...</td>\n",
       "      <td>NaN</td>\n",
       "      <td>NaN</td>\n",
       "      <td>NaN</td>\n",
       "      <td>NaN</td>\n",
       "      <td>NaN</td>\n",
       "      <td>NaN</td>\n",
       "      <td>NaN</td>\n",
       "      <td>NaN</td>\n",
       "      <td>NaN</td>\n",
       "      <td>0.103558</td>\n",
       "    </tr>\n",
       "    <tr>\n",
       "      <th>SRR1238495</th>\n",
       "      <td>Pluripotency</td>\n",
       "      <td>hESC (WA-09)</td>\n",
       "      <td>Cortecon</td>\n",
       "      <td>NaN</td>\n",
       "      <td>NaN</td>\n",
       "      <td>NaN</td>\n",
       "      <td>NaN</td>\n",
       "      <td>NaN</td>\n",
       "      <td>NaN</td>\n",
       "      <td>NaN</td>\n",
       "      <td>...</td>\n",
       "      <td>NaN</td>\n",
       "      <td>NaN</td>\n",
       "      <td>NaN</td>\n",
       "      <td>NaN</td>\n",
       "      <td>NaN</td>\n",
       "      <td>NaN</td>\n",
       "      <td>NaN</td>\n",
       "      <td>NaN</td>\n",
       "      <td>NaN</td>\n",
       "      <td>0.115096</td>\n",
       "    </tr>\n",
       "    <tr>\n",
       "      <th>SRR1238496</th>\n",
       "      <td>Pluripotency</td>\n",
       "      <td>hESC (WA-09)</td>\n",
       "      <td>Cortecon</td>\n",
       "      <td>NaN</td>\n",
       "      <td>NaN</td>\n",
       "      <td>NaN</td>\n",
       "      <td>NaN</td>\n",
       "      <td>NaN</td>\n",
       "      <td>NaN</td>\n",
       "      <td>NaN</td>\n",
       "      <td>...</td>\n",
       "      <td>NaN</td>\n",
       "      <td>NaN</td>\n",
       "      <td>NaN</td>\n",
       "      <td>NaN</td>\n",
       "      <td>NaN</td>\n",
       "      <td>NaN</td>\n",
       "      <td>NaN</td>\n",
       "      <td>NaN</td>\n",
       "      <td>NaN</td>\n",
       "      <td>0.111061</td>\n",
       "    </tr>\n",
       "    <tr>\n",
       "      <th>SRR1238498</th>\n",
       "      <td>Neural Differentation</td>\n",
       "      <td>hESC (WA-09)</td>\n",
       "      <td>Cortecon</td>\n",
       "      <td>NaN</td>\n",
       "      <td>NaN</td>\n",
       "      <td>NaN</td>\n",
       "      <td>NaN</td>\n",
       "      <td>NaN</td>\n",
       "      <td>NaN</td>\n",
       "      <td>NaN</td>\n",
       "      <td>...</td>\n",
       "      <td>NaN</td>\n",
       "      <td>NaN</td>\n",
       "      <td>NaN</td>\n",
       "      <td>NaN</td>\n",
       "      <td>NaN</td>\n",
       "      <td>NaN</td>\n",
       "      <td>NaN</td>\n",
       "      <td>NaN</td>\n",
       "      <td>NaN</td>\n",
       "      <td>1.203854</td>\n",
       "    </tr>\n",
       "  </tbody>\n",
       "</table>\n",
       "<p>5 rows × 69 columns</p>\n",
       "</div>"
      ],
      "text/plain": [
       "                                      Stage     cell type    run id  \\\n",
       "project   run                                                         \n",
       "SRP041179 SRR1238493           Pluripotency  hESC (WA-09)  Cortecon   \n",
       "          SRR1238494           Pluripotency  hESC (WA-09)  Cortecon   \n",
       "          SRR1238495           Pluripotency  hESC (WA-09)  Cortecon   \n",
       "          SRR1238496           Pluripotency  hESC (WA-09)  Cortecon   \n",
       "          SRR1238498  Neural Differentation  hESC (WA-09)  Cortecon   \n",
       "\n",
       "                     genetic background developmental stage antibody  \\\n",
       "project   run                                                          \n",
       "SRP041179 SRR1238493                NaN                 NaN      NaN   \n",
       "          SRR1238494                NaN                 NaN      NaN   \n",
       "          SRR1238495                NaN                 NaN      NaN   \n",
       "          SRR1238496                NaN                 NaN      NaN   \n",
       "          SRR1238498                NaN                 NaN      NaN   \n",
       "\n",
       "                     cell line condition dynamic program knockdown  ...  \\\n",
       "project   run                                                       ...   \n",
       "SRP041179 SRR1238493       NaN       NaN             NaN       NaN  ...   \n",
       "          SRR1238494       NaN       NaN             NaN       NaN  ...   \n",
       "          SRR1238495       NaN       NaN             NaN       NaN  ...   \n",
       "          SRR1238496       NaN       NaN             NaN       NaN  ...   \n",
       "          SRR1238498       NaN       NaN             NaN       NaN  ...   \n",
       "\n",
       "                     tissue archive method source differential stage  \\\n",
       "project   run                                                          \n",
       "SRP041179 SRR1238493                   NaN    NaN                NaN   \n",
       "          SRR1238494                   NaN    NaN                NaN   \n",
       "          SRR1238495                   NaN    NaN                NaN   \n",
       "          SRR1238496                   NaN    NaN                NaN   \n",
       "          SRR1238498                   NaN    NaN                NaN   \n",
       "\n",
       "                     gestational age (weeks) facs population  \\\n",
       "project   run                                                  \n",
       "SRP041179 SRR1238493                     NaN             NaN   \n",
       "          SRR1238494                     NaN             NaN   \n",
       "          SRR1238495                     NaN             NaN   \n",
       "          SRR1238496                     NaN             NaN   \n",
       "          SRR1238498                     NaN             NaN   \n",
       "\n",
       "                     antibody batch/lot# antibody catalog# antibody vendor  \\\n",
       "project   run                                                                \n",
       "SRP041179 SRR1238493                 NaN               NaN             NaN   \n",
       "          SRR1238494                 NaN               NaN             NaN   \n",
       "          SRR1238495                 NaN               NaN             NaN   \n",
       "          SRR1238496                 NaN               NaN             NaN   \n",
       "          SRR1238498                 NaN               NaN             NaN   \n",
       "\n",
       "                     chromosome     LV879  \n",
       "project   run                              \n",
       "SRP041179 SRR1238493        NaN  0.100898  \n",
       "          SRR1238494        NaN  0.103558  \n",
       "          SRR1238495        NaN  0.115096  \n",
       "          SRR1238496        NaN  0.111061  \n",
       "          SRR1238498        NaN  1.203854  \n",
       "\n",
       "[5 rows x 69 columns]"
      ]
     },
     "execution_count": 33,
     "metadata": {},
     "output_type": "execute_result"
    }
   ],
   "source": [
    "lv_data.head()"
   ]
  },
  {
   "cell_type": "code",
   "execution_count": 34,
   "metadata": {},
   "outputs": [],
   "source": [
    "import numpy as np"
   ]
  },
  {
   "cell_type": "code",
   "execution_count": 35,
   "metadata": {},
   "outputs": [],
   "source": [
    "mask = np.column_stack(\n",
    "    [lv_data[col].str.contains(\"^NPC$\", na=False) for col in lv_data if col != LV_NAME]\n",
    ")"
   ]
  },
  {
   "cell_type": "code",
   "execution_count": 36,
   "metadata": {},
   "outputs": [
    {
     "data": {
      "text/html": [
       "<div>\n",
       "<style scoped>\n",
       "    .dataframe tbody tr th:only-of-type {\n",
       "        vertical-align: middle;\n",
       "    }\n",
       "\n",
       "    .dataframe tbody tr th {\n",
       "        vertical-align: top;\n",
       "    }\n",
       "\n",
       "    .dataframe thead th {\n",
       "        text-align: right;\n",
       "    }\n",
       "</style>\n",
       "<table border=\"1\" class=\"dataframe\">\n",
       "  <thead>\n",
       "    <tr style=\"text-align: right;\">\n",
       "      <th></th>\n",
       "      <th></th>\n",
       "      <th>Stage</th>\n",
       "      <th>cell type</th>\n",
       "      <th>run id</th>\n",
       "      <th>genetic background</th>\n",
       "      <th>developmental stage</th>\n",
       "      <th>antibody</th>\n",
       "      <th>cell line</th>\n",
       "      <th>condition</th>\n",
       "      <th>dynamic program</th>\n",
       "      <th>knockdown</th>\n",
       "      <th>...</th>\n",
       "      <th>tissue archive method</th>\n",
       "      <th>source</th>\n",
       "      <th>differential stage</th>\n",
       "      <th>gestational age (weeks)</th>\n",
       "      <th>facs population</th>\n",
       "      <th>antibody batch/lot#</th>\n",
       "      <th>antibody catalog#</th>\n",
       "      <th>antibody vendor</th>\n",
       "      <th>chromosome</th>\n",
       "      <th>LV879</th>\n",
       "    </tr>\n",
       "    <tr>\n",
       "      <th>project</th>\n",
       "      <th>run</th>\n",
       "      <th></th>\n",
       "      <th></th>\n",
       "      <th></th>\n",
       "      <th></th>\n",
       "      <th></th>\n",
       "      <th></th>\n",
       "      <th></th>\n",
       "      <th></th>\n",
       "      <th></th>\n",
       "      <th></th>\n",
       "      <th></th>\n",
       "      <th></th>\n",
       "      <th></th>\n",
       "      <th></th>\n",
       "      <th></th>\n",
       "      <th></th>\n",
       "      <th></th>\n",
       "      <th></th>\n",
       "      <th></th>\n",
       "      <th></th>\n",
       "      <th></th>\n",
       "    </tr>\n",
       "  </thead>\n",
       "  <tbody>\n",
       "    <tr>\n",
       "      <th rowspan=\"2\" valign=\"top\">SRP017684</th>\n",
       "      <th>SRR640259</th>\n",
       "      <td>NaN</td>\n",
       "      <td>NPC</td>\n",
       "      <td>NaN</td>\n",
       "      <td>NaN</td>\n",
       "      <td>NaN</td>\n",
       "      <td>NaN</td>\n",
       "      <td>NaN</td>\n",
       "      <td>NaN</td>\n",
       "      <td>NaN</td>\n",
       "      <td>NaN</td>\n",
       "      <td>...</td>\n",
       "      <td>NaN</td>\n",
       "      <td>NaN</td>\n",
       "      <td>NaN</td>\n",
       "      <td>NaN</td>\n",
       "      <td>NaN</td>\n",
       "      <td>NaN</td>\n",
       "      <td>NaN</td>\n",
       "      <td>NaN</td>\n",
       "      <td>NaN</td>\n",
       "      <td>0.517831</td>\n",
       "    </tr>\n",
       "    <tr>\n",
       "      <th>SRR950429</th>\n",
       "      <td>NaN</td>\n",
       "      <td>NPC</td>\n",
       "      <td>NaN</td>\n",
       "      <td>NaN</td>\n",
       "      <td>NaN</td>\n",
       "      <td>NaN</td>\n",
       "      <td>NaN</td>\n",
       "      <td>NaN</td>\n",
       "      <td>NaN</td>\n",
       "      <td>NaN</td>\n",
       "      <td>...</td>\n",
       "      <td>NaN</td>\n",
       "      <td>NaN</td>\n",
       "      <td>NaN</td>\n",
       "      <td>NaN</td>\n",
       "      <td>NaN</td>\n",
       "      <td>NaN</td>\n",
       "      <td>NaN</td>\n",
       "      <td>NaN</td>\n",
       "      <td>NaN</td>\n",
       "      <td>0.714183</td>\n",
       "    </tr>\n",
       "  </tbody>\n",
       "</table>\n",
       "<p>2 rows × 69 columns</p>\n",
       "</div>"
      ],
      "text/plain": [
       "                    Stage cell type run id genetic background  \\\n",
       "project   run                                                   \n",
       "SRP017684 SRR640259   NaN       NPC    NaN                NaN   \n",
       "          SRR950429   NaN       NPC    NaN                NaN   \n",
       "\n",
       "                    developmental stage antibody cell line condition  \\\n",
       "project   run                                                          \n",
       "SRP017684 SRR640259                 NaN      NaN       NaN       NaN   \n",
       "          SRR950429                 NaN      NaN       NaN       NaN   \n",
       "\n",
       "                    dynamic program knockdown  ... tissue archive method  \\\n",
       "project   run                                  ...                         \n",
       "SRP017684 SRR640259             NaN       NaN  ...                   NaN   \n",
       "          SRR950429             NaN       NaN  ...                   NaN   \n",
       "\n",
       "                    source differential stage gestational age (weeks)  \\\n",
       "project   run                                                           \n",
       "SRP017684 SRR640259    NaN                NaN                     NaN   \n",
       "          SRR950429    NaN                NaN                     NaN   \n",
       "\n",
       "                    facs population antibody batch/lot# antibody catalog#  \\\n",
       "project   run                                                               \n",
       "SRP017684 SRR640259             NaN                 NaN               NaN   \n",
       "          SRR950429             NaN                 NaN               NaN   \n",
       "\n",
       "                    antibody vendor chromosome     LV879  \n",
       "project   run                                             \n",
       "SRP017684 SRR640259             NaN        NaN  0.517831  \n",
       "          SRR950429             NaN        NaN  0.714183  \n",
       "\n",
       "[2 rows x 69 columns]"
      ]
     },
     "execution_count": 36,
     "metadata": {},
     "output_type": "execute_result"
    }
   ],
   "source": [
    "lv_data.loc[mask.any(axis=1)]"
   ]
  },
  {
   "cell_type": "code",
   "execution_count": 37,
   "metadata": {},
   "outputs": [
    {
     "data": {
      "text/html": [
       "<div>\n",
       "<style scoped>\n",
       "    .dataframe tbody tr th:only-of-type {\n",
       "        vertical-align: middle;\n",
       "    }\n",
       "\n",
       "    .dataframe tbody tr th {\n",
       "        vertical-align: top;\n",
       "    }\n",
       "\n",
       "    .dataframe thead th {\n",
       "        text-align: right;\n",
       "    }\n",
       "</style>\n",
       "<table border=\"1\" class=\"dataframe\">\n",
       "  <thead>\n",
       "    <tr style=\"text-align: right;\">\n",
       "      <th></th>\n",
       "      <th></th>\n",
       "      <th>cell type</th>\n",
       "      <th>LV879</th>\n",
       "    </tr>\n",
       "    <tr>\n",
       "      <th>project</th>\n",
       "      <th>run</th>\n",
       "      <th></th>\n",
       "      <th></th>\n",
       "    </tr>\n",
       "  </thead>\n",
       "  <tbody>\n",
       "    <tr>\n",
       "      <th rowspan=\"6\" valign=\"top\">SRP017684</th>\n",
       "      <th>SRR950429</th>\n",
       "      <td>NPC</td>\n",
       "      <td>0.714183</td>\n",
       "    </tr>\n",
       "    <tr>\n",
       "      <th>SRR640259</th>\n",
       "      <td>NPC</td>\n",
       "      <td>0.517831</td>\n",
       "    </tr>\n",
       "    <tr>\n",
       "      <th>SRR950427</th>\n",
       "      <td>neuron</td>\n",
       "      <td>0.430711</td>\n",
       "    </tr>\n",
       "    <tr>\n",
       "      <th>SRR640257</th>\n",
       "      <td>neuron</td>\n",
       "      <td>0.386341</td>\n",
       "    </tr>\n",
       "    <tr>\n",
       "      <th>SRR640258</th>\n",
       "      <td>iPSC</td>\n",
       "      <td>0.194317</td>\n",
       "    </tr>\n",
       "    <tr>\n",
       "      <th>SRR950428</th>\n",
       "      <td>iPSC</td>\n",
       "      <td>0.134221</td>\n",
       "    </tr>\n",
       "  </tbody>\n",
       "</table>\n",
       "</div>"
      ],
      "text/plain": [
       "                    cell type     LV879\n",
       "project   run                          \n",
       "SRP017684 SRR950429       NPC  0.714183\n",
       "          SRR640259       NPC  0.517831\n",
       "          SRR950427    neuron  0.430711\n",
       "          SRR640257    neuron  0.386341\n",
       "          SRR640258      iPSC  0.194317\n",
       "          SRR950428      iPSC  0.134221"
      ]
     },
     "execution_count": 37,
     "metadata": {},
     "output_type": "execute_result"
    }
   ],
   "source": [
    "# what is there in these projects?\n",
    "lv_data.loc[[\"SRP017684\"]].dropna(how=\"all\", axis=1).sort_values(\n",
    "    LV_NAME, ascending=False\n",
    ").head(10)"
   ]
  },
  {
   "cell_type": "code",
   "execution_count": 38,
   "metadata": {},
   "outputs": [
    {
     "ename": "KeyError",
     "evalue": "\"['LV116'] not in index\"",
     "output_type": "error",
     "traceback": [
      "\u001b[0;31m---------------------------------------------------------------------------\u001b[0m",
      "\u001b[0;31mKeyError\u001b[0m                                  Traceback (most recent call last)",
      "\u001b[0;32m<ipython-input-38-20f175fcc3db>\u001b[0m in \u001b[0;36m<module>\u001b[0;34m\u001b[0m\n\u001b[0;32m----> 1\u001b[0;31m \u001b[0m_tmp\u001b[0m \u001b[0;34m=\u001b[0m \u001b[0mlv_data\u001b[0m\u001b[0;34m[\u001b[0m\u001b[0;34m[\u001b[0m\u001b[0;34m\"cell type\"\u001b[0m\u001b[0;34m,\u001b[0m \u001b[0;34m\"LV116\"\u001b[0m\u001b[0;34m]\u001b[0m\u001b[0;34m]\u001b[0m\u001b[0;34m.\u001b[0m\u001b[0mdropna\u001b[0m\u001b[0;34m(\u001b[0m\u001b[0;34m)\u001b[0m\u001b[0;34m\u001b[0m\u001b[0;34m\u001b[0m\u001b[0m\n\u001b[0m",
      "\u001b[0;32m~/software/miniconda3/envs/phenoplier/lib/python3.8/site-packages/pandas/core/frame.py\u001b[0m in \u001b[0;36m__getitem__\u001b[0;34m(self, key)\u001b[0m\n\u001b[1;32m   2910\u001b[0m             \u001b[0;32mif\u001b[0m \u001b[0mis_iterator\u001b[0m\u001b[0;34m(\u001b[0m\u001b[0mkey\u001b[0m\u001b[0;34m)\u001b[0m\u001b[0;34m:\u001b[0m\u001b[0;34m\u001b[0m\u001b[0;34m\u001b[0m\u001b[0m\n\u001b[1;32m   2911\u001b[0m                 \u001b[0mkey\u001b[0m \u001b[0;34m=\u001b[0m \u001b[0mlist\u001b[0m\u001b[0;34m(\u001b[0m\u001b[0mkey\u001b[0m\u001b[0;34m)\u001b[0m\u001b[0;34m\u001b[0m\u001b[0;34m\u001b[0m\u001b[0m\n\u001b[0;32m-> 2912\u001b[0;31m             \u001b[0mindexer\u001b[0m \u001b[0;34m=\u001b[0m \u001b[0mself\u001b[0m\u001b[0;34m.\u001b[0m\u001b[0mloc\u001b[0m\u001b[0;34m.\u001b[0m\u001b[0m_get_listlike_indexer\u001b[0m\u001b[0;34m(\u001b[0m\u001b[0mkey\u001b[0m\u001b[0;34m,\u001b[0m \u001b[0maxis\u001b[0m\u001b[0;34m=\u001b[0m\u001b[0;36m1\u001b[0m\u001b[0;34m,\u001b[0m \u001b[0mraise_missing\u001b[0m\u001b[0;34m=\u001b[0m\u001b[0;32mTrue\u001b[0m\u001b[0;34m)\u001b[0m\u001b[0;34m[\u001b[0m\u001b[0;36m1\u001b[0m\u001b[0;34m]\u001b[0m\u001b[0;34m\u001b[0m\u001b[0;34m\u001b[0m\u001b[0m\n\u001b[0m\u001b[1;32m   2913\u001b[0m \u001b[0;34m\u001b[0m\u001b[0m\n\u001b[1;32m   2914\u001b[0m         \u001b[0;31m# take() does not accept boolean indexers\u001b[0m\u001b[0;34m\u001b[0m\u001b[0;34m\u001b[0m\u001b[0;34m\u001b[0m\u001b[0m\n",
      "\u001b[0;32m~/software/miniconda3/envs/phenoplier/lib/python3.8/site-packages/pandas/core/indexing.py\u001b[0m in \u001b[0;36m_get_listlike_indexer\u001b[0;34m(self, key, axis, raise_missing)\u001b[0m\n\u001b[1;32m   1252\u001b[0m             \u001b[0mkeyarr\u001b[0m\u001b[0;34m,\u001b[0m \u001b[0mindexer\u001b[0m\u001b[0;34m,\u001b[0m \u001b[0mnew_indexer\u001b[0m \u001b[0;34m=\u001b[0m \u001b[0max\u001b[0m\u001b[0;34m.\u001b[0m\u001b[0m_reindex_non_unique\u001b[0m\u001b[0;34m(\u001b[0m\u001b[0mkeyarr\u001b[0m\u001b[0;34m)\u001b[0m\u001b[0;34m\u001b[0m\u001b[0;34m\u001b[0m\u001b[0m\n\u001b[1;32m   1253\u001b[0m \u001b[0;34m\u001b[0m\u001b[0m\n\u001b[0;32m-> 1254\u001b[0;31m         \u001b[0mself\u001b[0m\u001b[0;34m.\u001b[0m\u001b[0m_validate_read_indexer\u001b[0m\u001b[0;34m(\u001b[0m\u001b[0mkeyarr\u001b[0m\u001b[0;34m,\u001b[0m \u001b[0mindexer\u001b[0m\u001b[0;34m,\u001b[0m \u001b[0maxis\u001b[0m\u001b[0;34m,\u001b[0m \u001b[0mraise_missing\u001b[0m\u001b[0;34m=\u001b[0m\u001b[0mraise_missing\u001b[0m\u001b[0;34m)\u001b[0m\u001b[0;34m\u001b[0m\u001b[0;34m\u001b[0m\u001b[0m\n\u001b[0m\u001b[1;32m   1255\u001b[0m         \u001b[0;32mreturn\u001b[0m \u001b[0mkeyarr\u001b[0m\u001b[0;34m,\u001b[0m \u001b[0mindexer\u001b[0m\u001b[0;34m\u001b[0m\u001b[0;34m\u001b[0m\u001b[0m\n\u001b[1;32m   1256\u001b[0m \u001b[0;34m\u001b[0m\u001b[0m\n",
      "\u001b[0;32m~/software/miniconda3/envs/phenoplier/lib/python3.8/site-packages/pandas/core/indexing.py\u001b[0m in \u001b[0;36m_validate_read_indexer\u001b[0;34m(self, key, indexer, axis, raise_missing)\u001b[0m\n\u001b[1;32m   1302\u001b[0m             \u001b[0;32mif\u001b[0m \u001b[0mraise_missing\u001b[0m\u001b[0;34m:\u001b[0m\u001b[0;34m\u001b[0m\u001b[0;34m\u001b[0m\u001b[0m\n\u001b[1;32m   1303\u001b[0m                 \u001b[0mnot_found\u001b[0m \u001b[0;34m=\u001b[0m \u001b[0mlist\u001b[0m\u001b[0;34m(\u001b[0m\u001b[0mset\u001b[0m\u001b[0;34m(\u001b[0m\u001b[0mkey\u001b[0m\u001b[0;34m)\u001b[0m \u001b[0;34m-\u001b[0m \u001b[0mset\u001b[0m\u001b[0;34m(\u001b[0m\u001b[0max\u001b[0m\u001b[0;34m)\u001b[0m\u001b[0;34m)\u001b[0m\u001b[0;34m\u001b[0m\u001b[0;34m\u001b[0m\u001b[0m\n\u001b[0;32m-> 1304\u001b[0;31m                 \u001b[0;32mraise\u001b[0m \u001b[0mKeyError\u001b[0m\u001b[0;34m(\u001b[0m\u001b[0;34mf\"{not_found} not in index\"\u001b[0m\u001b[0;34m)\u001b[0m\u001b[0;34m\u001b[0m\u001b[0;34m\u001b[0m\u001b[0m\n\u001b[0m\u001b[1;32m   1305\u001b[0m \u001b[0;34m\u001b[0m\u001b[0m\n\u001b[1;32m   1306\u001b[0m             \u001b[0;31m# we skip the warning on Categorical\u001b[0m\u001b[0;34m\u001b[0m\u001b[0;34m\u001b[0m\u001b[0;34m\u001b[0m\u001b[0m\n",
      "\u001b[0;31mKeyError\u001b[0m: \"['LV116'] not in index\""
     ]
    }
   ],
   "source": [
    "_tmp = lv_data[[\"cell type\", \"LV116\"]].dropna()"
   ]
  },
  {
   "cell_type": "code",
   "execution_count": null,
   "metadata": {},
   "outputs": [],
   "source": [
    "# _tmp[_tmp[\"cell type\"].str.contains(\"M1\")]"
   ]
  },
  {
   "cell_type": "code",
   "execution_count": null,
   "metadata": {},
   "outputs": [],
   "source": [
    "# _tmp[_tmp[\"cell type\"].str.contains(\"CD14\")]"
   ]
  },
  {
   "cell_type": "code",
   "execution_count": null,
   "metadata": {},
   "outputs": [],
   "source": []
  },
  {
   "cell_type": "markdown",
   "metadata": {},
   "source": [
    "# Tissues"
   ]
  },
  {
   "cell_type": "code",
   "execution_count": null,
   "metadata": {},
   "outputs": [],
   "source": [
    "# df = tissues_data.copy()"
   ]
  },
  {
   "cell_type": "code",
   "execution_count": null,
   "metadata": {},
   "outputs": [],
   "source": [
    "# df.shape"
   ]
  },
  {
   "cell_type": "code",
   "execution_count": null,
   "metadata": {},
   "outputs": [],
   "source": [
    "# df.head()"
   ]
  },
  {
   "cell_type": "code",
   "execution_count": null,
   "metadata": {},
   "outputs": [],
   "source": [
    "# df.groupby(\"attr\").median().squeeze().sort_values(ascending=False).head(25)\n",
    "# # df.groupby(\"attr\").max().sort_values(\"lv\", ascending=False).head(25)"
   ]
  },
  {
   "cell_type": "markdown",
   "metadata": {},
   "source": [
    "# LV analysis"
   ]
  },
  {
   "cell_type": "code",
   "execution_count": null,
   "metadata": {},
   "outputs": [],
   "source": [
    "# lv_obj = LVAnalysis(\"LV116\", data)"
   ]
  },
  {
   "cell_type": "code",
   "execution_count": null,
   "metadata": {},
   "outputs": [],
   "source": [
    "# lv_obj.lv_genes.head(20)"
   ]
  },
  {
   "cell_type": "code",
   "execution_count": null,
   "metadata": {},
   "outputs": [],
   "source": [
    "# lv_data = lv_obj.get_experiments_data()"
   ]
  },
  {
   "cell_type": "code",
   "execution_count": null,
   "metadata": {},
   "outputs": [],
   "source": [
    "# lv_data.shape"
   ]
  },
  {
   "cell_type": "code",
   "execution_count": null,
   "metadata": {},
   "outputs": [],
   "source": [
    "# _tmp = lv_data[[\"cell type\", \"LV116\"]].dropna()"
   ]
  },
  {
   "cell_type": "code",
   "execution_count": null,
   "metadata": {},
   "outputs": [],
   "source": [
    "# _tmp[_tmp[\"cell type\"].str.contains(\"M1\")]"
   ]
  },
  {
   "cell_type": "code",
   "execution_count": null,
   "metadata": {},
   "outputs": [],
   "source": [
    "# _tmp[_tmp[\"cell type\"].str.contains(\"CD14\")]"
   ]
  },
  {
   "cell_type": "code",
   "execution_count": null,
   "metadata": {},
   "outputs": [],
   "source": []
  }
 ],
 "metadata": {
  "jupytext": {
   "cell_metadata_filter": "all,-execution,-papermill,-trusted",
   "formats": "ipynb,py//py:percent"
  },
  "kernelspec": {
   "display_name": "Python 3",
   "language": "python",
   "name": "python3"
  },
  "language_info": {
   "codemirror_mode": {
    "name": "ipython",
    "version": 3
   },
   "file_extension": ".py",
   "mimetype": "text/x-python",
   "name": "python",
   "nbconvert_exporter": "python",
   "pygments_lexer": "ipython3",
   "version": "3.8.8"
  },
  "toc-autonumbering": true
 },
 "nbformat": 4,
 "nbformat_minor": 4
}
