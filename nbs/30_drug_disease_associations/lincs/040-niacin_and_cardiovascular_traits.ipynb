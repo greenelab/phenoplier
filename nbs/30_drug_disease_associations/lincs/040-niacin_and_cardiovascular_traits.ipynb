{
 "cells": [
  {
   "cell_type": "markdown",
   "metadata": {
    "papermill": {
     "duration": 0.039298,
     "end_time": "2020-12-23T18:04:39.246832",
     "exception": false,
     "start_time": "2020-12-23T18:04:39.207534",
     "status": "completed"
    },
    "tags": []
   },
   "source": [
    "# Description"
   ]
  },
  {
   "cell_type": "markdown",
   "metadata": {
    "papermill": {
     "duration": 0.010239,
     "end_time": "2020-12-23T18:04:39.272325",
     "exception": false,
     "start_time": "2020-12-23T18:04:39.262086",
     "status": "completed"
    },
    "tags": []
   },
   "source": [
    "This notebook analyzes the LVs driving the association of Niacin with some cardiovascular traits."
   ]
  },
  {
   "cell_type": "markdown",
   "metadata": {
    "papermill": {
     "duration": 0.010515,
     "end_time": "2020-12-23T18:04:39.292047",
     "exception": false,
     "start_time": "2020-12-23T18:04:39.281532",
     "status": "completed"
    },
    "tags": []
   },
   "source": [
    "# Modules loading"
   ]
  },
  {
   "cell_type": "code",
   "execution_count": 1,
   "metadata": {
    "papermill": {
     "duration": 0.020255,
     "end_time": "2020-12-23T18:04:39.321650",
     "exception": false,
     "start_time": "2020-12-23T18:04:39.301395",
     "status": "completed"
    },
    "tags": []
   },
   "outputs": [],
   "source": [
    "%load_ext autoreload\n",
    "%autoreload 2"
   ]
  },
  {
   "cell_type": "code",
   "execution_count": 2,
   "metadata": {
    "papermill": {
     "duration": 0.194124,
     "end_time": "2020-12-23T18:04:39.525509",
     "exception": false,
     "start_time": "2020-12-23T18:04:39.331385",
     "status": "completed"
    },
    "tags": []
   },
   "outputs": [],
   "source": [
    "from pathlib import Path\n",
    "\n",
    "import numpy as np\n",
    "import pandas as pd\n",
    "\n",
    "from entity import Gene\n",
    "import conf"
   ]
  },
  {
   "cell_type": "markdown",
   "metadata": {
    "papermill": {
     "duration": 0.009123,
     "end_time": "2020-12-23T18:04:39.544244",
     "exception": false,
     "start_time": "2020-12-23T18:04:39.535121",
     "status": "completed"
    },
    "tags": []
   },
   "source": [
    "# Settings"
   ]
  },
  {
   "cell_type": "code",
   "execution_count": 3,
   "metadata": {
    "papermill": {
     "duration": 0.009123,
     "end_time": "2020-12-23T18:04:39.544244",
     "exception": false,
     "start_time": "2020-12-23T18:04:39.535121",
     "status": "completed"
    },
    "tags": []
   },
   "outputs": [],
   "source": [
    "QUANTILE = 0.95"
   ]
  },
  {
   "cell_type": "markdown",
   "metadata": {
    "papermill": {
     "duration": 0.009123,
     "end_time": "2020-12-23T18:04:39.544244",
     "exception": false,
     "start_time": "2020-12-23T18:04:39.535121",
     "status": "completed"
    },
    "tags": []
   },
   "source": [
    "# Paths"
   ]
  },
  {
   "cell_type": "code",
   "execution_count": 4,
   "metadata": {
    "papermill": {
     "duration": 0.032034,
     "end_time": "2021-04-22T19:41:49.062125",
     "exception": false,
     "start_time": "2021-04-22T19:41:49.030091",
     "status": "completed"
    },
    "tags": []
   },
   "outputs": [
    {
     "data": {
      "text/plain": [
       "PosixPath('/media/miltondp/Elements1/projects/phenoplier/results/drug_disease_analyses/lincs/analyses')"
      ]
     },
     "metadata": {},
     "output_type": "display_data"
    }
   ],
   "source": [
    "OUTPUT_DIR = conf.RESULTS[\"DRUG_DISEASE_ANALYSES\"] / \"lincs\" / \"analyses\"\n",
    "display(OUTPUT_DIR)\n",
    "OUTPUT_DIR.mkdir(exist_ok=True, parents=True)"
   ]
  },
  {
   "cell_type": "code",
   "execution_count": 5,
   "metadata": {},
   "outputs": [
    {
     "data": {
      "text/plain": [
       "PosixPath('/media/miltondp/Elements1/projects/phenoplier/results/drug_disease_analyses/lincs/predictions/full_predictions_by_tissue-rank.h5')"
      ]
     },
     "metadata": {},
     "output_type": "display_data"
    }
   ],
   "source": [
    "INPUT_DIR = conf.RESULTS[\"DRUG_DISEASE_ANALYSES\"] / \"lincs\" / \"predictions\"\n",
    "# display(OUTPUT_DIR)\n",
    "# OUTPUT_DIR.mkdir(parents=True, exist_ok=True)\n",
    "input_predictions_by_tissue_file = INPUT_DIR / \"full_predictions_by_tissue-rank.h5\"\n",
    "display(input_predictions_by_tissue_file)"
   ]
  },
  {
   "cell_type": "markdown",
   "metadata": {
    "papermill": {
     "duration": 0.009706,
     "end_time": "2020-12-23T18:04:39.596873",
     "exception": false,
     "start_time": "2020-12-23T18:04:39.587167",
     "status": "completed"
    },
    "tags": []
   },
   "source": [
    "# Data loading"
   ]
  },
  {
   "cell_type": "markdown",
   "metadata": {
    "papermill": {
     "duration": 0.009706,
     "end_time": "2020-12-23T18:04:39.596873",
     "exception": false,
     "start_time": "2020-12-23T18:04:39.587167",
     "status": "completed"
    },
    "tags": []
   },
   "source": [
    "## PharmacotherapyDB: load gold standard"
   ]
  },
  {
   "cell_type": "markdown",
   "metadata": {},
   "source": [
    "### Final"
   ]
  },
  {
   "cell_type": "code",
   "execution_count": 6,
   "metadata": {},
   "outputs": [],
   "source": [
    "gold_standard = pd.read_pickle(\n",
    "    Path(conf.RESULTS[\"DRUG_DISEASE_ANALYSES\"], \"gold_standard.pkl\"),\n",
    ")"
   ]
  },
  {
   "cell_type": "code",
   "execution_count": 7,
   "metadata": {},
   "outputs": [
    {
     "data": {
      "text/plain": [
       "(998, 3)"
      ]
     },
     "execution_count": 7,
     "metadata": {},
     "output_type": "execute_result"
    }
   ],
   "source": [
    "gold_standard.shape"
   ]
  },
  {
   "cell_type": "code",
   "execution_count": 8,
   "metadata": {},
   "outputs": [
    {
     "data": {
      "text/html": [
       "<div>\n",
       "<style scoped>\n",
       "    .dataframe tbody tr th:only-of-type {\n",
       "        vertical-align: middle;\n",
       "    }\n",
       "\n",
       "    .dataframe tbody tr th {\n",
       "        vertical-align: top;\n",
       "    }\n",
       "\n",
       "    .dataframe thead th {\n",
       "        text-align: right;\n",
       "    }\n",
       "</style>\n",
       "<table border=\"1\" class=\"dataframe\">\n",
       "  <thead>\n",
       "    <tr style=\"text-align: right;\">\n",
       "      <th></th>\n",
       "      <th>trait</th>\n",
       "      <th>drug</th>\n",
       "      <th>true_class</th>\n",
       "    </tr>\n",
       "  </thead>\n",
       "  <tbody>\n",
       "    <tr>\n",
       "      <th>0</th>\n",
       "      <td>DOID:10652</td>\n",
       "      <td>DB00843</td>\n",
       "      <td>1</td>\n",
       "    </tr>\n",
       "    <tr>\n",
       "      <th>1</th>\n",
       "      <td>DOID:10652</td>\n",
       "      <td>DB00674</td>\n",
       "      <td>1</td>\n",
       "    </tr>\n",
       "    <tr>\n",
       "      <th>2</th>\n",
       "      <td>DOID:10652</td>\n",
       "      <td>DB01043</td>\n",
       "      <td>1</td>\n",
       "    </tr>\n",
       "    <tr>\n",
       "      <th>3</th>\n",
       "      <td>DOID:10652</td>\n",
       "      <td>DB00989</td>\n",
       "      <td>1</td>\n",
       "    </tr>\n",
       "    <tr>\n",
       "      <th>4</th>\n",
       "      <td>DOID:10652</td>\n",
       "      <td>DB00810</td>\n",
       "      <td>0</td>\n",
       "    </tr>\n",
       "  </tbody>\n",
       "</table>\n",
       "</div>"
      ],
      "text/plain": [
       "        trait     drug  true_class\n",
       "0  DOID:10652  DB00843           1\n",
       "1  DOID:10652  DB00674           1\n",
       "2  DOID:10652  DB01043           1\n",
       "3  DOID:10652  DB00989           1\n",
       "4  DOID:10652  DB00810           0"
      ]
     },
     "execution_count": 8,
     "metadata": {},
     "output_type": "execute_result"
    }
   ],
   "source": [
    "gold_standard.head()"
   ]
  },
  {
   "cell_type": "markdown",
   "metadata": {},
   "source": [
    "### Info"
   ]
  },
  {
   "cell_type": "code",
   "execution_count": 9,
   "metadata": {
    "papermill": {
     "duration": 0.030171,
     "end_time": "2020-12-23T18:04:39.674843",
     "exception": false,
     "start_time": "2020-12-23T18:04:39.644672",
     "status": "completed"
    },
    "tags": []
   },
   "outputs": [
    {
     "data": {
      "text/plain": [
       "PosixPath('/home/miltondp/projects/labs/greenelab/phenoplier/bases_data/base_orig/data/hetionet/pharmacotherapydb-v1.0/indications.tsv')"
      ]
     },
     "metadata": {},
     "output_type": "display_data"
    }
   ],
   "source": [
    "# TODO hardcoded\n",
    "input_file = Path(\n",
    "    conf.DATA_DIR, \"hetionet/pharmacotherapydb-v1.0\", \"indications.tsv\"\n",
    ").resolve()\n",
    "display(input_file)"
   ]
  },
  {
   "cell_type": "code",
   "execution_count": 10,
   "metadata": {},
   "outputs": [],
   "source": [
    "gold_standard_info = pd.read_csv(input_file, sep=\"\\t\")"
   ]
  },
  {
   "cell_type": "code",
   "execution_count": 11,
   "metadata": {},
   "outputs": [],
   "source": [
    "gold_standard_info = gold_standard_info.rename(columns={\"drug\": \"drug_name\"})"
   ]
  },
  {
   "cell_type": "code",
   "execution_count": 12,
   "metadata": {
    "papermill": {
     "duration": 0.020017,
     "end_time": "2020-12-23T18:04:39.704939",
     "exception": false,
     "start_time": "2020-12-23T18:04:39.684922",
     "status": "completed"
    },
    "tags": []
   },
   "outputs": [
    {
     "data": {
      "text/plain": [
       "(1388, 7)"
      ]
     },
     "execution_count": 12,
     "metadata": {},
     "output_type": "execute_result"
    }
   ],
   "source": [
    "gold_standard_info.shape"
   ]
  },
  {
   "cell_type": "code",
   "execution_count": 13,
   "metadata": {
    "papermill": {
     "duration": 0.025481,
     "end_time": "2020-12-23T18:04:39.740804",
     "exception": false,
     "start_time": "2020-12-23T18:04:39.715323",
     "status": "completed"
    },
    "tags": []
   },
   "outputs": [
    {
     "data": {
      "text/html": [
       "<div>\n",
       "<style scoped>\n",
       "    .dataframe tbody tr th:only-of-type {\n",
       "        vertical-align: middle;\n",
       "    }\n",
       "\n",
       "    .dataframe tbody tr th {\n",
       "        vertical-align: top;\n",
       "    }\n",
       "\n",
       "    .dataframe thead th {\n",
       "        text-align: right;\n",
       "    }\n",
       "</style>\n",
       "<table border=\"1\" class=\"dataframe\">\n",
       "  <thead>\n",
       "    <tr style=\"text-align: right;\">\n",
       "      <th></th>\n",
       "      <th>doid_id</th>\n",
       "      <th>drugbank_id</th>\n",
       "      <th>disease</th>\n",
       "      <th>drug_name</th>\n",
       "      <th>category</th>\n",
       "      <th>n_curators</th>\n",
       "      <th>n_resources</th>\n",
       "    </tr>\n",
       "  </thead>\n",
       "  <tbody>\n",
       "    <tr>\n",
       "      <th>0</th>\n",
       "      <td>DOID:10652</td>\n",
       "      <td>DB00843</td>\n",
       "      <td>Alzheimer's disease</td>\n",
       "      <td>Donepezil</td>\n",
       "      <td>DM</td>\n",
       "      <td>2</td>\n",
       "      <td>1</td>\n",
       "    </tr>\n",
       "    <tr>\n",
       "      <th>1</th>\n",
       "      <td>DOID:10652</td>\n",
       "      <td>DB00674</td>\n",
       "      <td>Alzheimer's disease</td>\n",
       "      <td>Galantamine</td>\n",
       "      <td>DM</td>\n",
       "      <td>1</td>\n",
       "      <td>4</td>\n",
       "    </tr>\n",
       "    <tr>\n",
       "      <th>2</th>\n",
       "      <td>DOID:10652</td>\n",
       "      <td>DB01043</td>\n",
       "      <td>Alzheimer's disease</td>\n",
       "      <td>Memantine</td>\n",
       "      <td>DM</td>\n",
       "      <td>1</td>\n",
       "      <td>3</td>\n",
       "    </tr>\n",
       "    <tr>\n",
       "      <th>3</th>\n",
       "      <td>DOID:10652</td>\n",
       "      <td>DB00989</td>\n",
       "      <td>Alzheimer's disease</td>\n",
       "      <td>Rivastigmine</td>\n",
       "      <td>DM</td>\n",
       "      <td>1</td>\n",
       "      <td>3</td>\n",
       "    </tr>\n",
       "    <tr>\n",
       "      <th>4</th>\n",
       "      <td>DOID:10652</td>\n",
       "      <td>DB00245</td>\n",
       "      <td>Alzheimer's disease</td>\n",
       "      <td>Benzatropine</td>\n",
       "      <td>SYM</td>\n",
       "      <td>3</td>\n",
       "      <td>1</td>\n",
       "    </tr>\n",
       "  </tbody>\n",
       "</table>\n",
       "</div>"
      ],
      "text/plain": [
       "      doid_id drugbank_id              disease     drug_name category  \\\n",
       "0  DOID:10652     DB00843  Alzheimer's disease     Donepezil       DM   \n",
       "1  DOID:10652     DB00674  Alzheimer's disease   Galantamine       DM   \n",
       "2  DOID:10652     DB01043  Alzheimer's disease     Memantine       DM   \n",
       "3  DOID:10652     DB00989  Alzheimer's disease  Rivastigmine       DM   \n",
       "4  DOID:10652     DB00245  Alzheimer's disease  Benzatropine      SYM   \n",
       "\n",
       "   n_curators  n_resources  \n",
       "0           2            1  \n",
       "1           1            4  \n",
       "2           1            3  \n",
       "3           1            3  \n",
       "4           3            1  "
      ]
     },
     "execution_count": 13,
     "metadata": {},
     "output_type": "execute_result"
    }
   ],
   "source": [
    "gold_standard_info.head()"
   ]
  },
  {
   "cell_type": "code",
   "execution_count": 14,
   "metadata": {},
   "outputs": [],
   "source": [
    "gold_standard_info = (\n",
    "    gold_standard.set_index([\"trait\", \"drug\"])\n",
    "    .join(\n",
    "        gold_standard_info.rename(\n",
    "            columns={\"doid_id\": \"trait\", \"drugbank_id\": \"drug\"}\n",
    "        ).set_index([\"trait\", \"drug\"])\n",
    "    )\n",
    "    .reset_index()\n",
    ")"
   ]
  },
  {
   "cell_type": "code",
   "execution_count": 15,
   "metadata": {
    "papermill": {
     "duration": 0.021146,
     "end_time": "2020-12-23T18:04:39.772888",
     "exception": false,
     "start_time": "2020-12-23T18:04:39.751742",
     "status": "completed"
    },
    "tags": []
   },
   "outputs": [
    {
     "data": {
      "text/plain": [
       "(998, 8)"
      ]
     },
     "execution_count": 15,
     "metadata": {},
     "output_type": "execute_result"
    }
   ],
   "source": [
    "gold_standard_info.shape"
   ]
  },
  {
   "cell_type": "code",
   "execution_count": 16,
   "metadata": {
    "papermill": {
     "duration": 0.02135,
     "end_time": "2020-12-23T18:04:39.805324",
     "exception": false,
     "start_time": "2020-12-23T18:04:39.783974",
     "status": "completed"
    },
    "tags": []
   },
   "outputs": [
    {
     "data": {
      "text/html": [
       "<div>\n",
       "<style scoped>\n",
       "    .dataframe tbody tr th:only-of-type {\n",
       "        vertical-align: middle;\n",
       "    }\n",
       "\n",
       "    .dataframe tbody tr th {\n",
       "        vertical-align: top;\n",
       "    }\n",
       "\n",
       "    .dataframe thead th {\n",
       "        text-align: right;\n",
       "    }\n",
       "</style>\n",
       "<table border=\"1\" class=\"dataframe\">\n",
       "  <thead>\n",
       "    <tr style=\"text-align: right;\">\n",
       "      <th></th>\n",
       "      <th>trait</th>\n",
       "      <th>drug</th>\n",
       "      <th>true_class</th>\n",
       "      <th>disease</th>\n",
       "      <th>drug_name</th>\n",
       "      <th>category</th>\n",
       "      <th>n_curators</th>\n",
       "      <th>n_resources</th>\n",
       "    </tr>\n",
       "  </thead>\n",
       "  <tbody>\n",
       "    <tr>\n",
       "      <th>0</th>\n",
       "      <td>DOID:10652</td>\n",
       "      <td>DB00843</td>\n",
       "      <td>1</td>\n",
       "      <td>Alzheimer's disease</td>\n",
       "      <td>Donepezil</td>\n",
       "      <td>DM</td>\n",
       "      <td>2</td>\n",
       "      <td>1</td>\n",
       "    </tr>\n",
       "    <tr>\n",
       "      <th>1</th>\n",
       "      <td>DOID:10652</td>\n",
       "      <td>DB00674</td>\n",
       "      <td>1</td>\n",
       "      <td>Alzheimer's disease</td>\n",
       "      <td>Galantamine</td>\n",
       "      <td>DM</td>\n",
       "      <td>1</td>\n",
       "      <td>4</td>\n",
       "    </tr>\n",
       "    <tr>\n",
       "      <th>2</th>\n",
       "      <td>DOID:10652</td>\n",
       "      <td>DB01043</td>\n",
       "      <td>1</td>\n",
       "      <td>Alzheimer's disease</td>\n",
       "      <td>Memantine</td>\n",
       "      <td>DM</td>\n",
       "      <td>1</td>\n",
       "      <td>3</td>\n",
       "    </tr>\n",
       "    <tr>\n",
       "      <th>3</th>\n",
       "      <td>DOID:10652</td>\n",
       "      <td>DB00989</td>\n",
       "      <td>1</td>\n",
       "      <td>Alzheimer's disease</td>\n",
       "      <td>Rivastigmine</td>\n",
       "      <td>DM</td>\n",
       "      <td>1</td>\n",
       "      <td>3</td>\n",
       "    </tr>\n",
       "    <tr>\n",
       "      <th>4</th>\n",
       "      <td>DOID:10652</td>\n",
       "      <td>DB00810</td>\n",
       "      <td>0</td>\n",
       "      <td>Alzheimer's disease</td>\n",
       "      <td>Biperiden</td>\n",
       "      <td>NOT</td>\n",
       "      <td>2</td>\n",
       "      <td>1</td>\n",
       "    </tr>\n",
       "  </tbody>\n",
       "</table>\n",
       "</div>"
      ],
      "text/plain": [
       "        trait     drug  true_class              disease     drug_name  \\\n",
       "0  DOID:10652  DB00843           1  Alzheimer's disease     Donepezil   \n",
       "1  DOID:10652  DB00674           1  Alzheimer's disease   Galantamine   \n",
       "2  DOID:10652  DB01043           1  Alzheimer's disease     Memantine   \n",
       "3  DOID:10652  DB00989           1  Alzheimer's disease  Rivastigmine   \n",
       "4  DOID:10652  DB00810           0  Alzheimer's disease     Biperiden   \n",
       "\n",
       "  category  n_curators  n_resources  \n",
       "0       DM           2            1  \n",
       "1       DM           1            4  \n",
       "2       DM           1            3  \n",
       "3       DM           1            3  \n",
       "4      NOT           2            1  "
      ]
     },
     "execution_count": 16,
     "metadata": {},
     "output_type": "execute_result"
    }
   ],
   "source": [
    "gold_standard_info.head()"
   ]
  },
  {
   "cell_type": "markdown",
   "metadata": {
    "papermill": {
     "duration": 0.010857,
     "end_time": "2020-12-23T19:50:41.886745",
     "exception": false,
     "start_time": "2020-12-23T19:50:41.875888",
     "status": "completed"
    },
    "tags": []
   },
   "source": [
    "## LINCS data"
   ]
  },
  {
   "cell_type": "code",
   "execution_count": 17,
   "metadata": {
    "papermill": {
     "duration": 0.021901,
     "end_time": "2020-12-23T19:50:41.940473",
     "exception": false,
     "start_time": "2020-12-23T19:50:41.918572",
     "status": "completed"
    },
    "tags": []
   },
   "outputs": [
    {
     "data": {
      "text/plain": [
       "PosixPath('/media/miltondp/Elements1/projects/phenoplier/results/drug_disease_analyses/lincs/lincs-data.pkl')"
      ]
     },
     "metadata": {},
     "output_type": "display_data"
    }
   ],
   "source": [
    "input_file = Path(\n",
    "    conf.RESULTS[\"DRUG_DISEASE_ANALYSES\"], \"lincs\", \"lincs-data.pkl\"\n",
    ").resolve()\n",
    "\n",
    "display(input_file)"
   ]
  },
  {
   "cell_type": "code",
   "execution_count": 18,
   "metadata": {
    "papermill": {
     "duration": 0.026636,
     "end_time": "2020-12-23T19:50:41.978518",
     "exception": false,
     "start_time": "2020-12-23T19:50:41.951882",
     "status": "completed"
    },
    "tags": []
   },
   "outputs": [],
   "source": [
    "lincs_data = pd.read_pickle(input_file).T.rename(columns=Gene.GENE_ID_TO_NAME_MAP)"
   ]
  },
  {
   "cell_type": "code",
   "execution_count": 19,
   "metadata": {
    "papermill": {
     "duration": 0.024037,
     "end_time": "2020-12-23T19:50:42.015614",
     "exception": false,
     "start_time": "2020-12-23T19:50:41.991577",
     "status": "completed"
    },
    "tags": []
   },
   "outputs": [
    {
     "data": {
      "text/plain": [
       "(1170, 7120)"
      ]
     },
     "metadata": {},
     "output_type": "display_data"
    }
   ],
   "source": [
    "display(lincs_data.shape)"
   ]
  },
  {
   "cell_type": "code",
   "execution_count": 20,
   "metadata": {
    "papermill": {
     "duration": 0.034451,
     "end_time": "2020-12-23T19:50:42.062781",
     "exception": false,
     "start_time": "2020-12-23T19:50:42.028330",
     "status": "completed"
    },
    "tags": []
   },
   "outputs": [
    {
     "data": {
      "text/html": [
       "<div>\n",
       "<style scoped>\n",
       "    .dataframe tbody tr th:only-of-type {\n",
       "        vertical-align: middle;\n",
       "    }\n",
       "\n",
       "    .dataframe tbody tr th {\n",
       "        vertical-align: top;\n",
       "    }\n",
       "\n",
       "    .dataframe thead th {\n",
       "        text-align: right;\n",
       "    }\n",
       "</style>\n",
       "<table border=\"1\" class=\"dataframe\">\n",
       "  <thead>\n",
       "    <tr style=\"text-align: right;\">\n",
       "      <th></th>\n",
       "      <th>ADA</th>\n",
       "      <th>CDH2</th>\n",
       "      <th>AKT3</th>\n",
       "      <th>MED6</th>\n",
       "      <th>ACOT8</th>\n",
       "      <th>ABI1</th>\n",
       "      <th>GNPDA1</th>\n",
       "      <th>CDH3</th>\n",
       "      <th>TANK</th>\n",
       "      <th>TOPORS-AS1</th>\n",
       "      <th>...</th>\n",
       "      <th>RBX1</th>\n",
       "      <th>CDC42</th>\n",
       "      <th>THOC1</th>\n",
       "      <th>RCE1</th>\n",
       "      <th>HNRNPDL</th>\n",
       "      <th>DMTF1</th>\n",
       "      <th>PPP4R1</th>\n",
       "      <th>CDH1</th>\n",
       "      <th>PTBP3</th>\n",
       "      <th>CASP8AP2</th>\n",
       "    </tr>\n",
       "    <tr>\n",
       "      <th>perturbagen</th>\n",
       "      <th></th>\n",
       "      <th></th>\n",
       "      <th></th>\n",
       "      <th></th>\n",
       "      <th></th>\n",
       "      <th></th>\n",
       "      <th></th>\n",
       "      <th></th>\n",
       "      <th></th>\n",
       "      <th></th>\n",
       "      <th></th>\n",
       "      <th></th>\n",
       "      <th></th>\n",
       "      <th></th>\n",
       "      <th></th>\n",
       "      <th></th>\n",
       "      <th></th>\n",
       "      <th></th>\n",
       "      <th></th>\n",
       "      <th></th>\n",
       "      <th></th>\n",
       "    </tr>\n",
       "  </thead>\n",
       "  <tbody>\n",
       "    <tr>\n",
       "      <th>DB00014</th>\n",
       "      <td>-1.001</td>\n",
       "      <td>1.146</td>\n",
       "      <td>-0.693</td>\n",
       "      <td>-0.037</td>\n",
       "      <td>0.162</td>\n",
       "      <td>-0.380</td>\n",
       "      <td>0.649</td>\n",
       "      <td>-1.952</td>\n",
       "      <td>0.294</td>\n",
       "      <td>0.274</td>\n",
       "      <td>...</td>\n",
       "      <td>-0.592</td>\n",
       "      <td>0.178</td>\n",
       "      <td>0.270</td>\n",
       "      <td>-0.013</td>\n",
       "      <td>0.351</td>\n",
       "      <td>-0.128</td>\n",
       "      <td>0.274</td>\n",
       "      <td>-0.734</td>\n",
       "      <td>-0.048</td>\n",
       "      <td>0.036</td>\n",
       "    </tr>\n",
       "    <tr>\n",
       "      <th>DB00091</th>\n",
       "      <td>-1.835</td>\n",
       "      <td>-1.863</td>\n",
       "      <td>1.694</td>\n",
       "      <td>0.383</td>\n",
       "      <td>-0.899</td>\n",
       "      <td>0.628</td>\n",
       "      <td>-4.878</td>\n",
       "      <td>2.527</td>\n",
       "      <td>1.709</td>\n",
       "      <td>-0.981</td>\n",
       "      <td>...</td>\n",
       "      <td>-0.668</td>\n",
       "      <td>-2.795</td>\n",
       "      <td>-0.333</td>\n",
       "      <td>-0.027</td>\n",
       "      <td>0.578</td>\n",
       "      <td>6.926</td>\n",
       "      <td>-1.875</td>\n",
       "      <td>4.382</td>\n",
       "      <td>0.266</td>\n",
       "      <td>-4.995</td>\n",
       "    </tr>\n",
       "    <tr>\n",
       "      <th>DB00121</th>\n",
       "      <td>1.391</td>\n",
       "      <td>0.011</td>\n",
       "      <td>-0.804</td>\n",
       "      <td>0.269</td>\n",
       "      <td>0.105</td>\n",
       "      <td>-0.588</td>\n",
       "      <td>-1.899</td>\n",
       "      <td>0.306</td>\n",
       "      <td>-1.178</td>\n",
       "      <td>0.120</td>\n",
       "      <td>...</td>\n",
       "      <td>-0.962</td>\n",
       "      <td>0.450</td>\n",
       "      <td>-0.999</td>\n",
       "      <td>1.358</td>\n",
       "      <td>-1.476</td>\n",
       "      <td>0.423</td>\n",
       "      <td>-1.356</td>\n",
       "      <td>-1.897</td>\n",
       "      <td>-0.299</td>\n",
       "      <td>-0.732</td>\n",
       "    </tr>\n",
       "    <tr>\n",
       "      <th>DB00130</th>\n",
       "      <td>1.132</td>\n",
       "      <td>-1.020</td>\n",
       "      <td>-0.164</td>\n",
       "      <td>-0.997</td>\n",
       "      <td>-0.090</td>\n",
       "      <td>0.195</td>\n",
       "      <td>-2.341</td>\n",
       "      <td>0.494</td>\n",
       "      <td>-0.813</td>\n",
       "      <td>-1.140</td>\n",
       "      <td>...</td>\n",
       "      <td>-0.553</td>\n",
       "      <td>-0.528</td>\n",
       "      <td>0.308</td>\n",
       "      <td>0.534</td>\n",
       "      <td>-0.320</td>\n",
       "      <td>3.001</td>\n",
       "      <td>-0.414</td>\n",
       "      <td>0.134</td>\n",
       "      <td>0.147</td>\n",
       "      <td>2.158</td>\n",
       "    </tr>\n",
       "    <tr>\n",
       "      <th>DB00131</th>\n",
       "      <td>0.257</td>\n",
       "      <td>1.143</td>\n",
       "      <td>1.145</td>\n",
       "      <td>0.185</td>\n",
       "      <td>-1.291</td>\n",
       "      <td>-0.457</td>\n",
       "      <td>0.038</td>\n",
       "      <td>1.442</td>\n",
       "      <td>-1.692</td>\n",
       "      <td>0.593</td>\n",
       "      <td>...</td>\n",
       "      <td>-0.556</td>\n",
       "      <td>-0.600</td>\n",
       "      <td>0.092</td>\n",
       "      <td>-0.564</td>\n",
       "      <td>0.174</td>\n",
       "      <td>-1.203</td>\n",
       "      <td>-1.080</td>\n",
       "      <td>-0.575</td>\n",
       "      <td>-0.792</td>\n",
       "      <td>-0.095</td>\n",
       "    </tr>\n",
       "  </tbody>\n",
       "</table>\n",
       "<p>5 rows × 7120 columns</p>\n",
       "</div>"
      ],
      "text/plain": [
       "               ADA   CDH2   AKT3   MED6  ACOT8   ABI1  GNPDA1   CDH3   TANK  \\\n",
       "perturbagen                                                                   \n",
       "DB00014     -1.001  1.146 -0.693 -0.037  0.162 -0.380   0.649 -1.952  0.294   \n",
       "DB00091     -1.835 -1.863  1.694  0.383 -0.899  0.628  -4.878  2.527  1.709   \n",
       "DB00121      1.391  0.011 -0.804  0.269  0.105 -0.588  -1.899  0.306 -1.178   \n",
       "DB00130      1.132 -1.020 -0.164 -0.997 -0.090  0.195  -2.341  0.494 -0.813   \n",
       "DB00131      0.257  1.143  1.145  0.185 -1.291 -0.457   0.038  1.442 -1.692   \n",
       "\n",
       "             TOPORS-AS1  ...   RBX1  CDC42  THOC1   RCE1  HNRNPDL  DMTF1  \\\n",
       "perturbagen              ...                                               \n",
       "DB00014           0.274  ... -0.592  0.178  0.270 -0.013    0.351 -0.128   \n",
       "DB00091          -0.981  ... -0.668 -2.795 -0.333 -0.027    0.578  6.926   \n",
       "DB00121           0.120  ... -0.962  0.450 -0.999  1.358   -1.476  0.423   \n",
       "DB00130          -1.140  ... -0.553 -0.528  0.308  0.534   -0.320  3.001   \n",
       "DB00131           0.593  ... -0.556 -0.600  0.092 -0.564    0.174 -1.203   \n",
       "\n",
       "             PPP4R1   CDH1  PTBP3  CASP8AP2  \n",
       "perturbagen                                  \n",
       "DB00014       0.274 -0.734 -0.048     0.036  \n",
       "DB00091      -1.875  4.382  0.266    -4.995  \n",
       "DB00121      -1.356 -1.897 -0.299    -0.732  \n",
       "DB00130      -0.414  0.134  0.147     2.158  \n",
       "DB00131      -1.080 -0.575 -0.792    -0.095  \n",
       "\n",
       "[5 rows x 7120 columns]"
      ]
     },
     "metadata": {},
     "output_type": "display_data"
    }
   ],
   "source": [
    "display(lincs_data.head())"
   ]
  },
  {
   "cell_type": "markdown",
   "metadata": {
    "papermill": {
     "duration": 0.010857,
     "end_time": "2020-12-23T19:50:41.886745",
     "exception": false,
     "start_time": "2020-12-23T19:50:41.875888",
     "status": "completed"
    },
    "tags": []
   },
   "source": [
    "## LINCS projection"
   ]
  },
  {
   "cell_type": "code",
   "execution_count": 21,
   "metadata": {
    "papermill": {
     "duration": 0.021901,
     "end_time": "2020-12-23T19:50:41.940473",
     "exception": false,
     "start_time": "2020-12-23T19:50:41.918572",
     "status": "completed"
    },
    "tags": []
   },
   "outputs": [
    {
     "data": {
      "text/plain": [
       "PosixPath('/media/miltondp/Elements1/projects/phenoplier/results/drug_disease_analyses/lincs/lincs-projection.pkl')"
      ]
     },
     "metadata": {},
     "output_type": "display_data"
    }
   ],
   "source": [
    "input_file = Path(\n",
    "    conf.RESULTS[\"DRUG_DISEASE_ANALYSES\"], \"lincs\", \"lincs-projection.pkl\"\n",
    ").resolve()\n",
    "\n",
    "display(input_file)"
   ]
  },
  {
   "cell_type": "code",
   "execution_count": 22,
   "metadata": {
    "papermill": {
     "duration": 0.026636,
     "end_time": "2020-12-23T19:50:41.978518",
     "exception": false,
     "start_time": "2020-12-23T19:50:41.951882",
     "status": "completed"
    },
    "tags": []
   },
   "outputs": [],
   "source": [
    "lincs_projection = pd.read_pickle(input_file).T"
   ]
  },
  {
   "cell_type": "code",
   "execution_count": 23,
   "metadata": {
    "papermill": {
     "duration": 0.024037,
     "end_time": "2020-12-23T19:50:42.015614",
     "exception": false,
     "start_time": "2020-12-23T19:50:41.991577",
     "status": "completed"
    },
    "tags": []
   },
   "outputs": [
    {
     "data": {
      "text/plain": [
       "(1170, 987)"
      ]
     },
     "metadata": {},
     "output_type": "display_data"
    }
   ],
   "source": [
    "display(lincs_projection.shape)"
   ]
  },
  {
   "cell_type": "code",
   "execution_count": 24,
   "metadata": {
    "papermill": {
     "duration": 0.034451,
     "end_time": "2020-12-23T19:50:42.062781",
     "exception": false,
     "start_time": "2020-12-23T19:50:42.028330",
     "status": "completed"
    },
    "tags": []
   },
   "outputs": [
    {
     "data": {
      "text/html": [
       "<div>\n",
       "<style scoped>\n",
       "    .dataframe tbody tr th:only-of-type {\n",
       "        vertical-align: middle;\n",
       "    }\n",
       "\n",
       "    .dataframe tbody tr th {\n",
       "        vertical-align: top;\n",
       "    }\n",
       "\n",
       "    .dataframe thead th {\n",
       "        text-align: right;\n",
       "    }\n",
       "</style>\n",
       "<table border=\"1\" class=\"dataframe\">\n",
       "  <thead>\n",
       "    <tr style=\"text-align: right;\">\n",
       "      <th></th>\n",
       "      <th>LV1</th>\n",
       "      <th>LV2</th>\n",
       "      <th>LV3</th>\n",
       "      <th>LV4</th>\n",
       "      <th>LV5</th>\n",
       "      <th>LV6</th>\n",
       "      <th>LV7</th>\n",
       "      <th>LV8</th>\n",
       "      <th>LV9</th>\n",
       "      <th>LV10</th>\n",
       "      <th>...</th>\n",
       "      <th>LV978</th>\n",
       "      <th>LV979</th>\n",
       "      <th>LV980</th>\n",
       "      <th>LV981</th>\n",
       "      <th>LV982</th>\n",
       "      <th>LV983</th>\n",
       "      <th>LV984</th>\n",
       "      <th>LV985</th>\n",
       "      <th>LV986</th>\n",
       "      <th>LV987</th>\n",
       "    </tr>\n",
       "    <tr>\n",
       "      <th>perturbagen</th>\n",
       "      <th></th>\n",
       "      <th></th>\n",
       "      <th></th>\n",
       "      <th></th>\n",
       "      <th></th>\n",
       "      <th></th>\n",
       "      <th></th>\n",
       "      <th></th>\n",
       "      <th></th>\n",
       "      <th></th>\n",
       "      <th></th>\n",
       "      <th></th>\n",
       "      <th></th>\n",
       "      <th></th>\n",
       "      <th></th>\n",
       "      <th></th>\n",
       "      <th></th>\n",
       "      <th></th>\n",
       "      <th></th>\n",
       "      <th></th>\n",
       "      <th></th>\n",
       "    </tr>\n",
       "  </thead>\n",
       "  <tbody>\n",
       "    <tr>\n",
       "      <th>DB00014</th>\n",
       "      <td>0.036115</td>\n",
       "      <td>0.012281</td>\n",
       "      <td>-0.005533</td>\n",
       "      <td>-0.004151</td>\n",
       "      <td>-0.015156</td>\n",
       "      <td>-0.010861</td>\n",
       "      <td>0.008181</td>\n",
       "      <td>-0.008148</td>\n",
       "      <td>0.004948</td>\n",
       "      <td>-0.009869</td>\n",
       "      <td>...</td>\n",
       "      <td>-0.003139</td>\n",
       "      <td>0.003546</td>\n",
       "      <td>-0.006242</td>\n",
       "      <td>0.002449</td>\n",
       "      <td>-0.004391</td>\n",
       "      <td>-0.004334</td>\n",
       "      <td>-0.019902</td>\n",
       "      <td>0.004292</td>\n",
       "      <td>-0.010378</td>\n",
       "      <td>0.002000</td>\n",
       "    </tr>\n",
       "    <tr>\n",
       "      <th>DB00091</th>\n",
       "      <td>-0.358610</td>\n",
       "      <td>0.009738</td>\n",
       "      <td>-0.059174</td>\n",
       "      <td>-0.032884</td>\n",
       "      <td>-0.005276</td>\n",
       "      <td>0.063369</td>\n",
       "      <td>-0.079522</td>\n",
       "      <td>-0.018980</td>\n",
       "      <td>-0.025782</td>\n",
       "      <td>0.021540</td>\n",
       "      <td>...</td>\n",
       "      <td>-0.019892</td>\n",
       "      <td>0.003610</td>\n",
       "      <td>-0.016165</td>\n",
       "      <td>0.008686</td>\n",
       "      <td>0.065335</td>\n",
       "      <td>-0.042051</td>\n",
       "      <td>0.065516</td>\n",
       "      <td>0.016261</td>\n",
       "      <td>0.056314</td>\n",
       "      <td>-0.051035</td>\n",
       "    </tr>\n",
       "    <tr>\n",
       "      <th>DB00121</th>\n",
       "      <td>0.091067</td>\n",
       "      <td>0.004650</td>\n",
       "      <td>0.013454</td>\n",
       "      <td>0.005934</td>\n",
       "      <td>0.025747</td>\n",
       "      <td>0.004324</td>\n",
       "      <td>-0.001865</td>\n",
       "      <td>-0.019613</td>\n",
       "      <td>0.051503</td>\n",
       "      <td>0.013032</td>\n",
       "      <td>...</td>\n",
       "      <td>0.001629</td>\n",
       "      <td>-0.012565</td>\n",
       "      <td>0.009613</td>\n",
       "      <td>-0.014404</td>\n",
       "      <td>-0.009188</td>\n",
       "      <td>0.006544</td>\n",
       "      <td>0.047466</td>\n",
       "      <td>-0.016220</td>\n",
       "      <td>-0.018844</td>\n",
       "      <td>0.034675</td>\n",
       "    </tr>\n",
       "    <tr>\n",
       "      <th>DB00130</th>\n",
       "      <td>0.008923</td>\n",
       "      <td>-0.006554</td>\n",
       "      <td>0.008906</td>\n",
       "      <td>-0.003991</td>\n",
       "      <td>0.000346</td>\n",
       "      <td>0.008212</td>\n",
       "      <td>0.001242</td>\n",
       "      <td>-0.012771</td>\n",
       "      <td>0.014221</td>\n",
       "      <td>0.008269</td>\n",
       "      <td>...</td>\n",
       "      <td>-0.026139</td>\n",
       "      <td>-0.002977</td>\n",
       "      <td>0.021969</td>\n",
       "      <td>0.001204</td>\n",
       "      <td>-0.012731</td>\n",
       "      <td>-0.000076</td>\n",
       "      <td>-0.029127</td>\n",
       "      <td>-0.022679</td>\n",
       "      <td>0.016179</td>\n",
       "      <td>-0.003029</td>\n",
       "    </tr>\n",
       "    <tr>\n",
       "      <th>DB00131</th>\n",
       "      <td>0.046469</td>\n",
       "      <td>0.021758</td>\n",
       "      <td>-0.004939</td>\n",
       "      <td>-0.028524</td>\n",
       "      <td>-0.013932</td>\n",
       "      <td>0.012231</td>\n",
       "      <td>-0.001325</td>\n",
       "      <td>0.003787</td>\n",
       "      <td>0.035189</td>\n",
       "      <td>-0.004377</td>\n",
       "      <td>...</td>\n",
       "      <td>0.017373</td>\n",
       "      <td>0.005304</td>\n",
       "      <td>-0.001649</td>\n",
       "      <td>0.004017</td>\n",
       "      <td>-0.000622</td>\n",
       "      <td>-0.006477</td>\n",
       "      <td>0.021663</td>\n",
       "      <td>0.000988</td>\n",
       "      <td>0.002038</td>\n",
       "      <td>-0.011747</td>\n",
       "    </tr>\n",
       "  </tbody>\n",
       "</table>\n",
       "<p>5 rows × 987 columns</p>\n",
       "</div>"
      ],
      "text/plain": [
       "                  LV1       LV2       LV3       LV4       LV5       LV6  \\\n",
       "perturbagen                                                               \n",
       "DB00014      0.036115  0.012281 -0.005533 -0.004151 -0.015156 -0.010861   \n",
       "DB00091     -0.358610  0.009738 -0.059174 -0.032884 -0.005276  0.063369   \n",
       "DB00121      0.091067  0.004650  0.013454  0.005934  0.025747  0.004324   \n",
       "DB00130      0.008923 -0.006554  0.008906 -0.003991  0.000346  0.008212   \n",
       "DB00131      0.046469  0.021758 -0.004939 -0.028524 -0.013932  0.012231   \n",
       "\n",
       "                  LV7       LV8       LV9      LV10  ...     LV978     LV979  \\\n",
       "perturbagen                                          ...                       \n",
       "DB00014      0.008181 -0.008148  0.004948 -0.009869  ... -0.003139  0.003546   \n",
       "DB00091     -0.079522 -0.018980 -0.025782  0.021540  ... -0.019892  0.003610   \n",
       "DB00121     -0.001865 -0.019613  0.051503  0.013032  ...  0.001629 -0.012565   \n",
       "DB00130      0.001242 -0.012771  0.014221  0.008269  ... -0.026139 -0.002977   \n",
       "DB00131     -0.001325  0.003787  0.035189 -0.004377  ...  0.017373  0.005304   \n",
       "\n",
       "                LV980     LV981     LV982     LV983     LV984     LV985  \\\n",
       "perturbagen                                                               \n",
       "DB00014     -0.006242  0.002449 -0.004391 -0.004334 -0.019902  0.004292   \n",
       "DB00091     -0.016165  0.008686  0.065335 -0.042051  0.065516  0.016261   \n",
       "DB00121      0.009613 -0.014404 -0.009188  0.006544  0.047466 -0.016220   \n",
       "DB00130      0.021969  0.001204 -0.012731 -0.000076 -0.029127 -0.022679   \n",
       "DB00131     -0.001649  0.004017 -0.000622 -0.006477  0.021663  0.000988   \n",
       "\n",
       "                LV986     LV987  \n",
       "perturbagen                      \n",
       "DB00014     -0.010378  0.002000  \n",
       "DB00091      0.056314 -0.051035  \n",
       "DB00121     -0.018844  0.034675  \n",
       "DB00130      0.016179 -0.003029  \n",
       "DB00131      0.002038 -0.011747  \n",
       "\n",
       "[5 rows x 987 columns]"
      ]
     },
     "metadata": {},
     "output_type": "display_data"
    }
   ],
   "source": [
    "display(lincs_projection.head())"
   ]
  },
  {
   "cell_type": "markdown",
   "metadata": {
    "papermill": {
     "duration": 0.012227,
     "end_time": "2020-12-23T18:04:40.308654",
     "exception": false,
     "start_time": "2020-12-23T18:04:40.296427",
     "status": "completed"
    },
    "tags": []
   },
   "source": [
    "## MultiPLIER Z"
   ]
  },
  {
   "cell_type": "code",
   "execution_count": 25,
   "metadata": {},
   "outputs": [],
   "source": [
    "# multiplier_z = pd.read_pickle(conf.MULTIPLIER[\"MODEL_Z_MATRIX_FILE\"])"
   ]
  },
  {
   "cell_type": "code",
   "execution_count": 26,
   "metadata": {},
   "outputs": [],
   "source": [
    "# multiplier_z.shape"
   ]
  },
  {
   "cell_type": "code",
   "execution_count": 27,
   "metadata": {},
   "outputs": [],
   "source": [
    "# multiplier_z.head()"
   ]
  },
  {
   "cell_type": "markdown",
   "metadata": {},
   "source": [
    "# Niacin and cardiovascular diseases"
   ]
  },
  {
   "cell_type": "code",
   "execution_count": 28,
   "metadata": {},
   "outputs": [],
   "source": [
    "from entity import Trait"
   ]
  },
  {
   "cell_type": "code",
   "execution_count": 29,
   "metadata": {},
   "outputs": [
    {
     "data": {
      "text/plain": [
       "[I70-Diagnoses_main_ICD10_I70_Atherosclerosis]"
      ]
     },
     "execution_count": 29,
     "metadata": {},
     "output_type": "execute_result"
    }
   ],
   "source": [
    "Trait.get_traits_from_efo(\"atherosclerosis\")"
   ]
  },
  {
   "cell_type": "code",
   "execution_count": 30,
   "metadata": {},
   "outputs": [
    {
     "data": {
      "text/plain": [
       "[I25-Diagnoses_main_ICD10_I25_Chronic_ischaemic_heart_disease,\n",
       " CARDIoGRAM_C4D_CAD_ADDITIVE]"
      ]
     },
     "execution_count": 30,
     "metadata": {},
     "output_type": "execute_result"
    }
   ],
   "source": [
    "Trait.get_traits_from_efo(\"coronary artery disease\")"
   ]
  },
  {
   "cell_type": "code",
   "execution_count": 31,
   "metadata": {},
   "outputs": [],
   "source": [
    "_phenomexcan_traits = [\n",
    "    \"I70-Diagnoses_main_ICD10_I70_Atherosclerosis\",\n",
    "    \"CARDIoGRAM_C4D_CAD_ADDITIVE\",\n",
    "    \"I25-Diagnoses_main_ICD10_I25_Chronic_ischaemic_heart_disease\",\n",
    "    \"20002_1473-Noncancer_illness_code_selfreported_high_cholesterol\",\n",
    "    \"6150_100-Vascularheart_problems_diagnosed_by_doctor_None_of_the_above\",\n",
    "    \"6150_1-Vascularheart_problems_diagnosed_by_doctor_Heart_attack\",\n",
    "    \"I9_CHD-Major_coronary_heart_disease_event\",\n",
    "    \"I9_CORATHER-Coronary_atherosclerosis\",\n",
    "    \"I9_IHD-Ischaemic_heart_disease_wide_definition\",\n",
    "    \"I9_MI-Myocardial_infarction\",\n",
    "    \"I21-Diagnoses_main_ICD10_I21_Acute_myocardial_infarction\",\n",
    "    \"20002_1075-Noncancer_illness_code_selfreported_heart_attackmyocardial_infarction\",\n",
    "]\n",
    "\n",
    "_drug_id = \"DB00627\"\n",
    "_drug_name = \"Niacin\""
   ]
  },
  {
   "cell_type": "code",
   "execution_count": 32,
   "metadata": {},
   "outputs": [
    {
     "name": "stdout",
     "output_type": "stream",
     "text": [
      "I70-Diagnoses_main_ICD10_I70_Atherosclerosis\n",
      "(361194, 566.0)\n",
      "\n",
      "\n",
      "CARDIoGRAM_C4D_CAD_ADDITIVE\n",
      "(184305, 60801.0)\n",
      "\n",
      "\n",
      "I25-Diagnoses_main_ICD10_I25_Chronic_ischaemic_heart_disease\n",
      "(361194, 12769.0)\n",
      "\n",
      "\n",
      "20002_1473-Noncancer_illness_code_selfreported_high_cholesterol\n",
      "(361141, 43957.0)\n",
      "\n",
      "\n",
      "6150_100-Vascularheart_problems_diagnosed_by_doctor_None_of_the_above\n",
      "(360420, 253565.0)\n",
      "\n",
      "\n",
      "6150_1-Vascularheart_problems_diagnosed_by_doctor_Heart_attack\n",
      "(360420, 8288.0)\n",
      "\n",
      "\n",
      "I9_CHD-Major_coronary_heart_disease_event\n",
      "(361194, 10157.0)\n",
      "\n",
      "\n",
      "I9_CORATHER-Coronary_atherosclerosis\n",
      "(361194, 14334.0)\n",
      "\n",
      "\n",
      "I9_IHD-Ischaemic_heart_disease_wide_definition\n",
      "(361194, 20857.0)\n",
      "\n",
      "\n",
      "I9_MI-Myocardial_infarction\n",
      "(361194, 7018.0)\n",
      "\n",
      "\n",
      "I21-Diagnoses_main_ICD10_I21_Acute_myocardial_infarction\n",
      "(361194, 5948.0)\n",
      "\n",
      "\n",
      "20002_1075-Noncancer_illness_code_selfreported_heart_attackmyocardial_infarction\n",
      "(361141, 8239.0)\n",
      "\n",
      "\n"
     ]
    }
   ],
   "source": [
    "for p in _phenomexcan_traits:\n",
    "    print(p)\n",
    "    d = Trait.get_trait(full_code=p)\n",
    "    print((d.n, d.n_cases))\n",
    "\n",
    "    print(\"\\n\")"
   ]
  },
  {
   "cell_type": "markdown",
   "metadata": {},
   "source": [
    "## Get best tissue results for Niacin"
   ]
  },
  {
   "cell_type": "code",
   "execution_count": 33,
   "metadata": {},
   "outputs": [],
   "source": [
    "drugs_tissue_df = {}\n",
    "\n",
    "with pd.HDFStore(input_predictions_by_tissue_file, mode=\"r\") as store:\n",
    "    for tk in store.keys():\n",
    "        df = store[tk][_drug_id]\n",
    "\n",
    "        drugs_tissue_df[tk[1:]] = df"
   ]
  },
  {
   "cell_type": "code",
   "execution_count": 34,
   "metadata": {},
   "outputs": [
    {
     "data": {
      "text/plain": [
       "(4091, 49)"
      ]
     },
     "metadata": {},
     "output_type": "display_data"
    },
    {
     "data": {
      "text/html": [
       "<div>\n",
       "<style scoped>\n",
       "    .dataframe tbody tr th:only-of-type {\n",
       "        vertical-align: middle;\n",
       "    }\n",
       "\n",
       "    .dataframe tbody tr th {\n",
       "        vertical-align: top;\n",
       "    }\n",
       "\n",
       "    .dataframe thead th {\n",
       "        text-align: right;\n",
       "    }\n",
       "</style>\n",
       "<table border=\"1\" class=\"dataframe\">\n",
       "  <thead>\n",
       "    <tr style=\"text-align: right;\">\n",
       "      <th></th>\n",
       "      <th>Adipose_Subcutaneous</th>\n",
       "      <th>Adipose_Visceral_Omentum</th>\n",
       "      <th>Adrenal_Gland</th>\n",
       "      <th>Artery_Aorta</th>\n",
       "      <th>Artery_Coronary</th>\n",
       "      <th>Artery_Tibial</th>\n",
       "      <th>Brain_Amygdala</th>\n",
       "      <th>Brain_Anterior_cingulate_cortex_BA24</th>\n",
       "      <th>Brain_Caudate_basal_ganglia</th>\n",
       "      <th>Brain_Cerebellar_Hemisphere</th>\n",
       "      <th>...</th>\n",
       "      <th>Skin_Not_Sun_Exposed_Suprapubic</th>\n",
       "      <th>Skin_Sun_Exposed_Lower_leg</th>\n",
       "      <th>Small_Intestine_Terminal_Ileum</th>\n",
       "      <th>Spleen</th>\n",
       "      <th>Stomach</th>\n",
       "      <th>Testis</th>\n",
       "      <th>Thyroid</th>\n",
       "      <th>Uterus</th>\n",
       "      <th>Vagina</th>\n",
       "      <th>Whole_Blood</th>\n",
       "    </tr>\n",
       "  </thead>\n",
       "  <tbody>\n",
       "    <tr>\n",
       "      <th>I9_PHLETHROMBDVTLOW-DVT_of_lower_extremities</th>\n",
       "      <td>2225108</td>\n",
       "      <td>3633306</td>\n",
       "      <td>3960107</td>\n",
       "      <td>1332054</td>\n",
       "      <td>2182424</td>\n",
       "      <td>4240339</td>\n",
       "      <td>2487093</td>\n",
       "      <td>2274668</td>\n",
       "      <td>1708839</td>\n",
       "      <td>2311499</td>\n",
       "      <td>...</td>\n",
       "      <td>3111573</td>\n",
       "      <td>1680886</td>\n",
       "      <td>2903454</td>\n",
       "      <td>1799322</td>\n",
       "      <td>1457560</td>\n",
       "      <td>3024874</td>\n",
       "      <td>3919867</td>\n",
       "      <td>3272210</td>\n",
       "      <td>1370451</td>\n",
       "      <td>3027555</td>\n",
       "    </tr>\n",
       "    <tr>\n",
       "      <th>I71-Diagnoses_main_ICD10_I71_Aortic_aneurysm_and_dissection</th>\n",
       "      <td>1803572</td>\n",
       "      <td>711574</td>\n",
       "      <td>1448934</td>\n",
       "      <td>4231713</td>\n",
       "      <td>1607177</td>\n",
       "      <td>1551651</td>\n",
       "      <td>1389767</td>\n",
       "      <td>3638570</td>\n",
       "      <td>2445540</td>\n",
       "      <td>3317543</td>\n",
       "      <td>...</td>\n",
       "      <td>1935886</td>\n",
       "      <td>2817997</td>\n",
       "      <td>1179611</td>\n",
       "      <td>1986576</td>\n",
       "      <td>1191470</td>\n",
       "      <td>2691960</td>\n",
       "      <td>1236895</td>\n",
       "      <td>3169182</td>\n",
       "      <td>1650408</td>\n",
       "      <td>2093344</td>\n",
       "    </tr>\n",
       "    <tr>\n",
       "      <th>G62-Diagnoses_main_ICD10_G62_Other_polyneuropathies</th>\n",
       "      <td>1298787</td>\n",
       "      <td>2518740</td>\n",
       "      <td>3957170</td>\n",
       "      <td>2937233</td>\n",
       "      <td>2458553</td>\n",
       "      <td>3229771</td>\n",
       "      <td>3576149</td>\n",
       "      <td>1369567</td>\n",
       "      <td>3312298</td>\n",
       "      <td>2019896</td>\n",
       "      <td>...</td>\n",
       "      <td>2011435</td>\n",
       "      <td>1944383</td>\n",
       "      <td>4573539</td>\n",
       "      <td>4539100</td>\n",
       "      <td>2696412</td>\n",
       "      <td>2205179</td>\n",
       "      <td>785903</td>\n",
       "      <td>1301301</td>\n",
       "      <td>4430058</td>\n",
       "      <td>3196323</td>\n",
       "    </tr>\n",
       "    <tr>\n",
       "      <th>2395_4-Hairbalding_pattern_Pattern_4</th>\n",
       "      <td>626108</td>\n",
       "      <td>3038228</td>\n",
       "      <td>2098431</td>\n",
       "      <td>2826578</td>\n",
       "      <td>308521</td>\n",
       "      <td>3097367</td>\n",
       "      <td>649715</td>\n",
       "      <td>2836304</td>\n",
       "      <td>3183412</td>\n",
       "      <td>871365</td>\n",
       "      <td>...</td>\n",
       "      <td>2939378</td>\n",
       "      <td>3161076</td>\n",
       "      <td>3586681</td>\n",
       "      <td>2400041</td>\n",
       "      <td>863019</td>\n",
       "      <td>928483</td>\n",
       "      <td>2868830</td>\n",
       "      <td>1913291</td>\n",
       "      <td>2029917</td>\n",
       "      <td>3557621</td>\n",
       "    </tr>\n",
       "    <tr>\n",
       "      <th>20003_1141168590-Treatmentmedication_code_pariet_10mg_ec_tablet</th>\n",
       "      <td>3017562</td>\n",
       "      <td>1880510</td>\n",
       "      <td>1094152</td>\n",
       "      <td>4206760</td>\n",
       "      <td>4452501</td>\n",
       "      <td>4179176</td>\n",
       "      <td>2875126</td>\n",
       "      <td>2042720</td>\n",
       "      <td>2486881</td>\n",
       "      <td>3534752</td>\n",
       "      <td>...</td>\n",
       "      <td>2561731</td>\n",
       "      <td>516964</td>\n",
       "      <td>2166641</td>\n",
       "      <td>2783551</td>\n",
       "      <td>2651308</td>\n",
       "      <td>2219414</td>\n",
       "      <td>1217317</td>\n",
       "      <td>2210372</td>\n",
       "      <td>3053042</td>\n",
       "      <td>3362472</td>\n",
       "    </tr>\n",
       "  </tbody>\n",
       "</table>\n",
       "<p>5 rows × 49 columns</p>\n",
       "</div>"
      ],
      "text/plain": [
       "                                                    Adipose_Subcutaneous  \\\n",
       "I9_PHLETHROMBDVTLOW-DVT_of_lower_extremities                     2225108   \n",
       "I71-Diagnoses_main_ICD10_I71_Aortic_aneurysm_an...               1803572   \n",
       "G62-Diagnoses_main_ICD10_G62_Other_polyneuropat...               1298787   \n",
       "2395_4-Hairbalding_pattern_Pattern_4                              626108   \n",
       "20003_1141168590-Treatmentmedication_code_parie...               3017562   \n",
       "\n",
       "                                                    Adipose_Visceral_Omentum  \\\n",
       "I9_PHLETHROMBDVTLOW-DVT_of_lower_extremities                         3633306   \n",
       "I71-Diagnoses_main_ICD10_I71_Aortic_aneurysm_an...                    711574   \n",
       "G62-Diagnoses_main_ICD10_G62_Other_polyneuropat...                   2518740   \n",
       "2395_4-Hairbalding_pattern_Pattern_4                                 3038228   \n",
       "20003_1141168590-Treatmentmedication_code_parie...                   1880510   \n",
       "\n",
       "                                                    Adrenal_Gland  \\\n",
       "I9_PHLETHROMBDVTLOW-DVT_of_lower_extremities              3960107   \n",
       "I71-Diagnoses_main_ICD10_I71_Aortic_aneurysm_an...        1448934   \n",
       "G62-Diagnoses_main_ICD10_G62_Other_polyneuropat...        3957170   \n",
       "2395_4-Hairbalding_pattern_Pattern_4                      2098431   \n",
       "20003_1141168590-Treatmentmedication_code_parie...        1094152   \n",
       "\n",
       "                                                    Artery_Aorta  \\\n",
       "I9_PHLETHROMBDVTLOW-DVT_of_lower_extremities             1332054   \n",
       "I71-Diagnoses_main_ICD10_I71_Aortic_aneurysm_an...       4231713   \n",
       "G62-Diagnoses_main_ICD10_G62_Other_polyneuropat...       2937233   \n",
       "2395_4-Hairbalding_pattern_Pattern_4                     2826578   \n",
       "20003_1141168590-Treatmentmedication_code_parie...       4206760   \n",
       "\n",
       "                                                    Artery_Coronary  \\\n",
       "I9_PHLETHROMBDVTLOW-DVT_of_lower_extremities                2182424   \n",
       "I71-Diagnoses_main_ICD10_I71_Aortic_aneurysm_an...          1607177   \n",
       "G62-Diagnoses_main_ICD10_G62_Other_polyneuropat...          2458553   \n",
       "2395_4-Hairbalding_pattern_Pattern_4                         308521   \n",
       "20003_1141168590-Treatmentmedication_code_parie...          4452501   \n",
       "\n",
       "                                                    Artery_Tibial  \\\n",
       "I9_PHLETHROMBDVTLOW-DVT_of_lower_extremities              4240339   \n",
       "I71-Diagnoses_main_ICD10_I71_Aortic_aneurysm_an...        1551651   \n",
       "G62-Diagnoses_main_ICD10_G62_Other_polyneuropat...        3229771   \n",
       "2395_4-Hairbalding_pattern_Pattern_4                      3097367   \n",
       "20003_1141168590-Treatmentmedication_code_parie...        4179176   \n",
       "\n",
       "                                                    Brain_Amygdala  \\\n",
       "I9_PHLETHROMBDVTLOW-DVT_of_lower_extremities               2487093   \n",
       "I71-Diagnoses_main_ICD10_I71_Aortic_aneurysm_an...         1389767   \n",
       "G62-Diagnoses_main_ICD10_G62_Other_polyneuropat...         3576149   \n",
       "2395_4-Hairbalding_pattern_Pattern_4                        649715   \n",
       "20003_1141168590-Treatmentmedication_code_parie...         2875126   \n",
       "\n",
       "                                                    Brain_Anterior_cingulate_cortex_BA24  \\\n",
       "I9_PHLETHROMBDVTLOW-DVT_of_lower_extremities                                     2274668   \n",
       "I71-Diagnoses_main_ICD10_I71_Aortic_aneurysm_an...                               3638570   \n",
       "G62-Diagnoses_main_ICD10_G62_Other_polyneuropat...                               1369567   \n",
       "2395_4-Hairbalding_pattern_Pattern_4                                             2836304   \n",
       "20003_1141168590-Treatmentmedication_code_parie...                               2042720   \n",
       "\n",
       "                                                    Brain_Caudate_basal_ganglia  \\\n",
       "I9_PHLETHROMBDVTLOW-DVT_of_lower_extremities                            1708839   \n",
       "I71-Diagnoses_main_ICD10_I71_Aortic_aneurysm_an...                      2445540   \n",
       "G62-Diagnoses_main_ICD10_G62_Other_polyneuropat...                      3312298   \n",
       "2395_4-Hairbalding_pattern_Pattern_4                                    3183412   \n",
       "20003_1141168590-Treatmentmedication_code_parie...                      2486881   \n",
       "\n",
       "                                                    Brain_Cerebellar_Hemisphere  \\\n",
       "I9_PHLETHROMBDVTLOW-DVT_of_lower_extremities                            2311499   \n",
       "I71-Diagnoses_main_ICD10_I71_Aortic_aneurysm_an...                      3317543   \n",
       "G62-Diagnoses_main_ICD10_G62_Other_polyneuropat...                      2019896   \n",
       "2395_4-Hairbalding_pattern_Pattern_4                                     871365   \n",
       "20003_1141168590-Treatmentmedication_code_parie...                      3534752   \n",
       "\n",
       "                                                    ...  \\\n",
       "I9_PHLETHROMBDVTLOW-DVT_of_lower_extremities        ...   \n",
       "I71-Diagnoses_main_ICD10_I71_Aortic_aneurysm_an...  ...   \n",
       "G62-Diagnoses_main_ICD10_G62_Other_polyneuropat...  ...   \n",
       "2395_4-Hairbalding_pattern_Pattern_4                ...   \n",
       "20003_1141168590-Treatmentmedication_code_parie...  ...   \n",
       "\n",
       "                                                    Skin_Not_Sun_Exposed_Suprapubic  \\\n",
       "I9_PHLETHROMBDVTLOW-DVT_of_lower_extremities                                3111573   \n",
       "I71-Diagnoses_main_ICD10_I71_Aortic_aneurysm_an...                          1935886   \n",
       "G62-Diagnoses_main_ICD10_G62_Other_polyneuropat...                          2011435   \n",
       "2395_4-Hairbalding_pattern_Pattern_4                                        2939378   \n",
       "20003_1141168590-Treatmentmedication_code_parie...                          2561731   \n",
       "\n",
       "                                                    Skin_Sun_Exposed_Lower_leg  \\\n",
       "I9_PHLETHROMBDVTLOW-DVT_of_lower_extremities                           1680886   \n",
       "I71-Diagnoses_main_ICD10_I71_Aortic_aneurysm_an...                     2817997   \n",
       "G62-Diagnoses_main_ICD10_G62_Other_polyneuropat...                     1944383   \n",
       "2395_4-Hairbalding_pattern_Pattern_4                                   3161076   \n",
       "20003_1141168590-Treatmentmedication_code_parie...                      516964   \n",
       "\n",
       "                                                    Small_Intestine_Terminal_Ileum  \\\n",
       "I9_PHLETHROMBDVTLOW-DVT_of_lower_extremities                               2903454   \n",
       "I71-Diagnoses_main_ICD10_I71_Aortic_aneurysm_an...                         1179611   \n",
       "G62-Diagnoses_main_ICD10_G62_Other_polyneuropat...                         4573539   \n",
       "2395_4-Hairbalding_pattern_Pattern_4                                       3586681   \n",
       "20003_1141168590-Treatmentmedication_code_parie...                         2166641   \n",
       "\n",
       "                                                     Spleen  Stomach   Testis  \\\n",
       "I9_PHLETHROMBDVTLOW-DVT_of_lower_extremities        1799322  1457560  3024874   \n",
       "I71-Diagnoses_main_ICD10_I71_Aortic_aneurysm_an...  1986576  1191470  2691960   \n",
       "G62-Diagnoses_main_ICD10_G62_Other_polyneuropat...  4539100  2696412  2205179   \n",
       "2395_4-Hairbalding_pattern_Pattern_4                2400041   863019   928483   \n",
       "20003_1141168590-Treatmentmedication_code_parie...  2783551  2651308  2219414   \n",
       "\n",
       "                                                    Thyroid   Uterus   Vagina  \\\n",
       "I9_PHLETHROMBDVTLOW-DVT_of_lower_extremities        3919867  3272210  1370451   \n",
       "I71-Diagnoses_main_ICD10_I71_Aortic_aneurysm_an...  1236895  3169182  1650408   \n",
       "G62-Diagnoses_main_ICD10_G62_Other_polyneuropat...   785903  1301301  4430058   \n",
       "2395_4-Hairbalding_pattern_Pattern_4                2868830  1913291  2029917   \n",
       "20003_1141168590-Treatmentmedication_code_parie...  1217317  2210372  3053042   \n",
       "\n",
       "                                                    Whole_Blood  \n",
       "I9_PHLETHROMBDVTLOW-DVT_of_lower_extremities            3027555  \n",
       "I71-Diagnoses_main_ICD10_I71_Aortic_aneurysm_an...      2093344  \n",
       "G62-Diagnoses_main_ICD10_G62_Other_polyneuropat...      3196323  \n",
       "2395_4-Hairbalding_pattern_Pattern_4                    3557621  \n",
       "20003_1141168590-Treatmentmedication_code_parie...      3362472  \n",
       "\n",
       "[5 rows x 49 columns]"
      ]
     },
     "metadata": {},
     "output_type": "display_data"
    }
   ],
   "source": [
    "_tmp = pd.DataFrame(drugs_tissue_df)\n",
    "display(_tmp.shape)\n",
    "display(_tmp.head())"
   ]
  },
  {
   "cell_type": "code",
   "execution_count": 35,
   "metadata": {},
   "outputs": [
    {
     "data": {
      "text/plain": [
       "I70-Diagnoses_main_ICD10_I70_Atherosclerosis                                                   Cells_Cultured_fibroblasts\n",
       "CARDIoGRAM_C4D_CAD_ADDITIVE                                                                              Colon_Transverse\n",
       "I25-Diagnoses_main_ICD10_I25_Chronic_ischaemic_heart_disease                                  Brain_Putamen_basal_ganglia\n",
       "20002_1473-Noncancer_illness_code_selfreported_high_cholesterol                                            Brain_Amygdala\n",
       "6150_100-Vascularheart_problems_diagnosed_by_doctor_None_of_the_above                                               Liver\n",
       "6150_1-Vascularheart_problems_diagnosed_by_doctor_Heart_attack                                   Brain_Frontal_Cortex_BA9\n",
       "I9_CHD-Major_coronary_heart_disease_event                                                     Brain_Cerebellar_Hemisphere\n",
       "I9_CORATHER-Coronary_atherosclerosis                                                               Heart_Atrial_Appendage\n",
       "I9_IHD-Ischaemic_heart_disease_wide_definition                                                Brain_Cerebellar_Hemisphere\n",
       "I9_MI-Myocardial_infarction                                                         Brain_Nucleus_accumbens_basal_ganglia\n",
       "I21-Diagnoses_main_ICD10_I21_Acute_myocardial_infarction                                      Brain_Cerebellar_Hemisphere\n",
       "20002_1075-Noncancer_illness_code_selfreported_heart_attackmyocardial_infarction                         Esophagus_Mucosa\n",
       "dtype: object"
      ]
     },
     "metadata": {},
     "output_type": "display_data"
    }
   ],
   "source": [
    "# show top tissue models (from TWAS) for each trait\n",
    "traits_best_tissues_df = (\n",
    "    pd.DataFrame(drugs_tissue_df).loc[_phenomexcan_traits].idxmax(1)\n",
    ")\n",
    "display(traits_best_tissues_df)"
   ]
  },
  {
   "cell_type": "code",
   "execution_count": 36,
   "metadata": {},
   "outputs": [],
   "source": [
    "# pick the tissue with the maximum score for each trait\n",
    "drug_df = pd.DataFrame(drugs_tissue_df).max(1)"
   ]
  },
  {
   "cell_type": "code",
   "execution_count": 37,
   "metadata": {},
   "outputs": [
    {
     "data": {
      "text/plain": [
       "(4091,)"
      ]
     },
     "execution_count": 37,
     "metadata": {},
     "output_type": "execute_result"
    }
   ],
   "source": [
    "drug_df.shape"
   ]
  },
  {
   "cell_type": "code",
   "execution_count": 38,
   "metadata": {},
   "outputs": [
    {
     "data": {
      "text/plain": [
       "I9_PHLETHROMBDVTLOW-DVT_of_lower_extremities                       4240339\n",
       "I71-Diagnoses_main_ICD10_I71_Aortic_aneurysm_and_dissection        4231713\n",
       "G62-Diagnoses_main_ICD10_G62_Other_polyneuropathies                4573539\n",
       "2395_4-Hairbalding_pattern_Pattern_4                               3979892\n",
       "20003_1141168590-Treatmentmedication_code_pariet_10mg_ec_tablet    4452501\n",
       "dtype: int64"
      ]
     },
     "execution_count": 38,
     "metadata": {},
     "output_type": "execute_result"
    }
   ],
   "source": [
    "drug_df.head()"
   ]
  },
  {
   "cell_type": "code",
   "execution_count": 39,
   "metadata": {},
   "outputs": [
    {
     "data": {
      "text/plain": [
       "20002_1075-Noncancer_illness_code_selfreported_heart_attackmyocardial_infarction    3996589\n",
       "6150_1-Vascularheart_problems_diagnosed_by_doctor_Heart_attack                      4014872\n",
       "I21-Diagnoses_main_ICD10_I21_Acute_myocardial_infarction                            4242830\n",
       "I9_MI-Myocardial_infarction                                                         4417032\n",
       "I9_CHD-Major_coronary_heart_disease_event                                           4443732\n",
       "6150_100-Vascularheart_problems_diagnosed_by_doctor_None_of_the_above               4539449\n",
       "20002_1473-Noncancer_illness_code_selfreported_high_cholesterol                     4549772\n",
       "I70-Diagnoses_main_ICD10_I70_Atherosclerosis                                        4574511\n",
       "CARDIoGRAM_C4D_CAD_ADDITIVE                                                         4598049\n",
       "I9_IHD-Ischaemic_heart_disease_wide_definition                                      4671838\n",
       "I25-Diagnoses_main_ICD10_I25_Chronic_ischaemic_heart_disease                        4687680\n",
       "I9_CORATHER-Coronary_atherosclerosis                                                4687805\n",
       "dtype: int64"
      ]
     },
     "execution_count": 39,
     "metadata": {},
     "output_type": "execute_result"
    }
   ],
   "source": [
    "drug_df.loc[_phenomexcan_traits].sort_values()"
   ]
  },
  {
   "cell_type": "code",
   "execution_count": 40,
   "metadata": {},
   "outputs": [
    {
     "data": {
      "text/plain": [
       "count    4.091000e+03\n",
       "mean     4.240773e+06\n",
       "std      3.346693e+05\n",
       "min      2.317380e+06\n",
       "25%      4.064316e+06\n",
       "50%      4.323137e+06\n",
       "75%      4.488742e+06\n",
       "max      4.760801e+06\n",
       "dtype: float64"
      ]
     },
     "execution_count": 40,
     "metadata": {},
     "output_type": "execute_result"
    }
   ],
   "source": [
    "drug_df.describe()"
   ]
  },
  {
   "cell_type": "code",
   "execution_count": 41,
   "metadata": {},
   "outputs": [
    {
     "data": {
      "text/plain": [
       "(4240772.880958201, 334669.30609300843)"
      ]
     },
     "metadata": {},
     "output_type": "display_data"
    }
   ],
   "source": [
    "drug_mean, drug_std = drug_df.mean(), drug_df.std()\n",
    "display((drug_mean, drug_std))"
   ]
  },
  {
   "cell_type": "code",
   "execution_count": 42,
   "metadata": {},
   "outputs": [
    {
     "data": {
      "text/plain": [
       "count    4.091000e+03\n",
       "mean    -1.299159e-15\n",
       "std      1.000000e+00\n",
       "min     -5.747145e+00\n",
       "25%     -5.272574e-01\n",
       "50%      2.461060e-01\n",
       "75%      7.409392e-01\n",
       "max      1.553857e+00\n",
       "dtype: float64"
      ]
     },
     "metadata": {},
     "output_type": "display_data"
    }
   ],
   "source": [
    "drug_df_stats = ((drug_df - drug_mean) / drug_std).describe()\n",
    "display(drug_df_stats)"
   ]
  },
  {
   "cell_type": "code",
   "execution_count": 43,
   "metadata": {},
   "outputs": [],
   "source": [
    "drug_df = (drug_df.loc[_phenomexcan_traits] - drug_mean) / drug_std"
   ]
  },
  {
   "cell_type": "code",
   "execution_count": 44,
   "metadata": {},
   "outputs": [
    {
     "data": {
      "text/plain": [
       "(12,)"
      ]
     },
     "execution_count": 44,
     "metadata": {},
     "output_type": "execute_result"
    }
   ],
   "source": [
    "drug_df.shape"
   ]
  },
  {
   "cell_type": "code",
   "execution_count": 45,
   "metadata": {},
   "outputs": [
    {
     "data": {
      "text/plain": [
       "20002_1075-Noncancer_illness_code_selfreported_heart_attackmyocardial_infarction   -0.729627\n",
       "6150_1-Vascularheart_problems_diagnosed_by_doctor_Heart_attack                     -0.674997\n",
       "I21-Diagnoses_main_ICD10_I21_Acute_myocardial_infarction                            0.006147\n",
       "I9_MI-Myocardial_infarction                                                         0.526667\n",
       "I9_CHD-Major_coronary_heart_disease_event                                           0.606447\n",
       "6150_100-Vascularheart_problems_diagnosed_by_doctor_None_of_the_above               0.892451\n",
       "20002_1473-Noncancer_illness_code_selfreported_high_cholesterol                     0.923297\n",
       "I70-Diagnoses_main_ICD10_I70_Atherosclerosis                                        0.997218\n",
       "CARDIoGRAM_C4D_CAD_ADDITIVE                                                         1.067550\n",
       "I9_IHD-Ischaemic_heart_disease_wide_definition                                      1.288033\n",
       "I25-Diagnoses_main_ICD10_I25_Chronic_ischaemic_heart_disease                        1.335369\n",
       "I9_CORATHER-Coronary_atherosclerosis                                                1.335743\n",
       "dtype: float64"
      ]
     },
     "execution_count": 45,
     "metadata": {},
     "output_type": "execute_result"
    }
   ],
   "source": [
    "drug_df.sort_values()"
   ]
  },
  {
   "cell_type": "markdown",
   "metadata": {},
   "source": [
    "All predictions of Niacin for these traits are high (above the mean and a standard deviation away)"
   ]
  },
  {
   "cell_type": "code",
   "execution_count": 46,
   "metadata": {},
   "outputs": [],
   "source": [
    "# select traits for which niacin has a high prediction\n",
    "selected_traits = drug_df[drug_df > drug_df_stats[\"75%\"]].index.tolist()"
   ]
  },
  {
   "cell_type": "code",
   "execution_count": 47,
   "metadata": {},
   "outputs": [
    {
     "data": {
      "text/plain": [
       "['I70-Diagnoses_main_ICD10_I70_Atherosclerosis',\n",
       " 'CARDIoGRAM_C4D_CAD_ADDITIVE',\n",
       " 'I25-Diagnoses_main_ICD10_I25_Chronic_ischaemic_heart_disease',\n",
       " '20002_1473-Noncancer_illness_code_selfreported_high_cholesterol',\n",
       " '6150_100-Vascularheart_problems_diagnosed_by_doctor_None_of_the_above',\n",
       " 'I9_CORATHER-Coronary_atherosclerosis',\n",
       " 'I9_IHD-Ischaemic_heart_disease_wide_definition']"
      ]
     },
     "execution_count": 47,
     "metadata": {},
     "output_type": "execute_result"
    }
   ],
   "source": [
    "selected_traits"
   ]
  },
  {
   "cell_type": "markdown",
   "metadata": {},
   "source": [
    "## Gene module-based - LVs driving association"
   ]
  },
  {
   "cell_type": "code",
   "execution_count": 48,
   "metadata": {},
   "outputs": [],
   "source": [
    "def find_best_tissue(trait_id):\n",
    "    return traits_best_tissues_df.loc[trait_id]"
   ]
  },
  {
   "cell_type": "code",
   "execution_count": 49,
   "metadata": {},
   "outputs": [
    {
     "data": {
      "text/plain": [
       "'Heart_Atrial_Appendage'"
      ]
     },
     "metadata": {},
     "output_type": "display_data"
    }
   ],
   "source": [
    "_tmp_res = find_best_tissue(\"I9_CORATHER-Coronary_atherosclerosis\")\n",
    "display(_tmp_res)"
   ]
  },
  {
   "cell_type": "code",
   "execution_count": 50,
   "metadata": {},
   "outputs": [
    {
     "data": {
      "text/plain": [
       "'Cells_Cultured_fibroblasts'"
      ]
     },
     "metadata": {},
     "output_type": "display_data"
    },
    {
     "data": {
      "text/plain": [
       "'Colon_Transverse'"
      ]
     },
     "metadata": {},
     "output_type": "display_data"
    },
    {
     "data": {
      "text/plain": [
       "'Brain_Putamen_basal_ganglia'"
      ]
     },
     "metadata": {},
     "output_type": "display_data"
    },
    {
     "data": {
      "text/plain": [
       "'Brain_Amygdala'"
      ]
     },
     "metadata": {},
     "output_type": "display_data"
    },
    {
     "data": {
      "text/plain": [
       "'Liver'"
      ]
     },
     "metadata": {},
     "output_type": "display_data"
    },
    {
     "data": {
      "text/plain": [
       "'Heart_Atrial_Appendage'"
      ]
     },
     "metadata": {},
     "output_type": "display_data"
    },
    {
     "data": {
      "text/plain": [
       "'Brain_Cerebellar_Hemisphere'"
      ]
     },
     "metadata": {},
     "output_type": "display_data"
    }
   ],
   "source": [
    "# available_doids = set(predictions_by_tissue[\"trait\"].unique())\n",
    "traits_lv_data = []\n",
    "\n",
    "for trait in selected_traits:\n",
    "    best_module_tissue = find_best_tissue(trait)\n",
    "    display(best_module_tissue)\n",
    "\n",
    "    best_module_tissue_data = pd.read_pickle(\n",
    "        conf.RESULTS[\"DRUG_DISEASE_ANALYSES\"]\n",
    "        / \"spredixcan\"\n",
    "        / \"proj\"\n",
    "        / f\"spredixcan-mashr-zscores-{best_module_tissue}-projection.pkl\"\n",
    "    )[trait]\n",
    "\n",
    "    traits_lv_data.append(best_module_tissue_data)"
   ]
  },
  {
   "cell_type": "code",
   "execution_count": 51,
   "metadata": {},
   "outputs": [],
   "source": [
    "module_tissue_data = pd.DataFrame(traits_lv_data).T"
   ]
  },
  {
   "cell_type": "code",
   "execution_count": 52,
   "metadata": {},
   "outputs": [
    {
     "data": {
      "text/plain": [
       "(987, 7)"
      ]
     },
     "execution_count": 52,
     "metadata": {},
     "output_type": "execute_result"
    }
   ],
   "source": [
    "module_tissue_data.shape"
   ]
  },
  {
   "cell_type": "code",
   "execution_count": 53,
   "metadata": {},
   "outputs": [
    {
     "data": {
      "text/html": [
       "<div>\n",
       "<style scoped>\n",
       "    .dataframe tbody tr th:only-of-type {\n",
       "        vertical-align: middle;\n",
       "    }\n",
       "\n",
       "    .dataframe tbody tr th {\n",
       "        vertical-align: top;\n",
       "    }\n",
       "\n",
       "    .dataframe thead th {\n",
       "        text-align: right;\n",
       "    }\n",
       "</style>\n",
       "<table border=\"1\" class=\"dataframe\">\n",
       "  <thead>\n",
       "    <tr style=\"text-align: right;\">\n",
       "      <th></th>\n",
       "      <th>I70-Diagnoses_main_ICD10_I70_Atherosclerosis</th>\n",
       "      <th>CARDIoGRAM_C4D_CAD_ADDITIVE</th>\n",
       "      <th>I25-Diagnoses_main_ICD10_I25_Chronic_ischaemic_heart_disease</th>\n",
       "      <th>20002_1473-Noncancer_illness_code_selfreported_high_cholesterol</th>\n",
       "      <th>6150_100-Vascularheart_problems_diagnosed_by_doctor_None_of_the_above</th>\n",
       "      <th>I9_CORATHER-Coronary_atherosclerosis</th>\n",
       "      <th>I9_IHD-Ischaemic_heart_disease_wide_definition</th>\n",
       "    </tr>\n",
       "  </thead>\n",
       "  <tbody>\n",
       "    <tr>\n",
       "      <th>LV1</th>\n",
       "      <td>0.005720</td>\n",
       "      <td>-0.002536</td>\n",
       "      <td>0.003223</td>\n",
       "      <td>0.027183</td>\n",
       "      <td>-0.009975</td>\n",
       "      <td>-0.041645</td>\n",
       "      <td>-0.034174</td>\n",
       "    </tr>\n",
       "    <tr>\n",
       "      <th>LV2</th>\n",
       "      <td>-0.002927</td>\n",
       "      <td>-0.040910</td>\n",
       "      <td>0.009556</td>\n",
       "      <td>0.031170</td>\n",
       "      <td>-0.000601</td>\n",
       "      <td>-0.053181</td>\n",
       "      <td>-0.025907</td>\n",
       "    </tr>\n",
       "    <tr>\n",
       "      <th>LV3</th>\n",
       "      <td>0.002734</td>\n",
       "      <td>0.033692</td>\n",
       "      <td>-0.005872</td>\n",
       "      <td>-0.015628</td>\n",
       "      <td>0.029873</td>\n",
       "      <td>-0.018676</td>\n",
       "      <td>-0.020514</td>\n",
       "    </tr>\n",
       "    <tr>\n",
       "      <th>LV4</th>\n",
       "      <td>0.015454</td>\n",
       "      <td>-0.017444</td>\n",
       "      <td>0.004483</td>\n",
       "      <td>0.000231</td>\n",
       "      <td>-0.073387</td>\n",
       "      <td>0.022468</td>\n",
       "      <td>-0.046343</td>\n",
       "    </tr>\n",
       "    <tr>\n",
       "      <th>LV5</th>\n",
       "      <td>0.027796</td>\n",
       "      <td>0.016727</td>\n",
       "      <td>-0.009114</td>\n",
       "      <td>-0.037452</td>\n",
       "      <td>0.032017</td>\n",
       "      <td>-0.030727</td>\n",
       "      <td>-0.015489</td>\n",
       "    </tr>\n",
       "  </tbody>\n",
       "</table>\n",
       "</div>"
      ],
      "text/plain": [
       "     I70-Diagnoses_main_ICD10_I70_Atherosclerosis  \\\n",
       "LV1                                      0.005720   \n",
       "LV2                                     -0.002927   \n",
       "LV3                                      0.002734   \n",
       "LV4                                      0.015454   \n",
       "LV5                                      0.027796   \n",
       "\n",
       "     CARDIoGRAM_C4D_CAD_ADDITIVE  \\\n",
       "LV1                    -0.002536   \n",
       "LV2                    -0.040910   \n",
       "LV3                     0.033692   \n",
       "LV4                    -0.017444   \n",
       "LV5                     0.016727   \n",
       "\n",
       "     I25-Diagnoses_main_ICD10_I25_Chronic_ischaemic_heart_disease  \\\n",
       "LV1                                           0.003223              \n",
       "LV2                                           0.009556              \n",
       "LV3                                          -0.005872              \n",
       "LV4                                           0.004483              \n",
       "LV5                                          -0.009114              \n",
       "\n",
       "     20002_1473-Noncancer_illness_code_selfreported_high_cholesterol  \\\n",
       "LV1                                           0.027183                 \n",
       "LV2                                           0.031170                 \n",
       "LV3                                          -0.015628                 \n",
       "LV4                                           0.000231                 \n",
       "LV5                                          -0.037452                 \n",
       "\n",
       "     6150_100-Vascularheart_problems_diagnosed_by_doctor_None_of_the_above  \\\n",
       "LV1                                          -0.009975                       \n",
       "LV2                                          -0.000601                       \n",
       "LV3                                           0.029873                       \n",
       "LV4                                          -0.073387                       \n",
       "LV5                                           0.032017                       \n",
       "\n",
       "     I9_CORATHER-Coronary_atherosclerosis  \\\n",
       "LV1                             -0.041645   \n",
       "LV2                             -0.053181   \n",
       "LV3                             -0.018676   \n",
       "LV4                              0.022468   \n",
       "LV5                             -0.030727   \n",
       "\n",
       "     I9_IHD-Ischaemic_heart_disease_wide_definition  \n",
       "LV1                                       -0.034174  \n",
       "LV2                                       -0.025907  \n",
       "LV3                                       -0.020514  \n",
       "LV4                                       -0.046343  \n",
       "LV5                                       -0.015489  "
      ]
     },
     "execution_count": 53,
     "metadata": {},
     "output_type": "execute_result"
    }
   ],
   "source": [
    "module_tissue_data.head()"
   ]
  },
  {
   "cell_type": "code",
   "execution_count": 54,
   "metadata": {},
   "outputs": [],
   "source": [
    "drug_data = lincs_projection.loc[_drug_id]"
   ]
  },
  {
   "cell_type": "code",
   "execution_count": 70,
   "metadata": {},
   "outputs": [
    {
     "data": {
      "text/plain": [
       "LV1   -0.032338\n",
       "LV2    0.007960\n",
       "LV3    0.009136\n",
       "LV4   -0.005717\n",
       "LV5   -0.023626\n",
       "Name: DB00627, dtype: float64"
      ]
     },
     "execution_count": 70,
     "metadata": {},
     "output_type": "execute_result"
    }
   ],
   "source": [
    "drug_data.head()"
   ]
  },
  {
   "cell_type": "code",
   "execution_count": 56,
   "metadata": {},
   "outputs": [
    {
     "data": {
      "text/plain": [
       "I9_IHD-Ischaemic_heart_disease_wide_definition                           0.041041\n",
       "6150_100-Vascularheart_problems_diagnosed_by_doctor_None_of_the_above    0.033455\n",
       "I9_CORATHER-Coronary_atherosclerosis                                     0.025396\n",
       "I70-Diagnoses_main_ICD10_I70_Atherosclerosis                             0.023000\n",
       "I25-Diagnoses_main_ICD10_I25_Chronic_ischaemic_heart_disease             0.021002\n",
       "20002_1473-Noncancer_illness_code_selfreported_high_cholesterol          0.018520\n",
       "CARDIoGRAM_C4D_CAD_ADDITIVE                                              0.016894\n",
       "Name: DB00627, dtype: float64"
      ]
     },
     "metadata": {},
     "output_type": "display_data"
    }
   ],
   "source": [
    "_tmp = (-1.0 * drug_data.dot(module_tissue_data)).sort_values(ascending=False)\n",
    "display(_tmp)"
   ]
  },
  {
   "cell_type": "code",
   "execution_count": 57,
   "metadata": {},
   "outputs": [],
   "source": [
    "drug_trait_predictions = pd.DataFrame(\n",
    "    -1.0 * (drug_data.to_frame().values * module_tissue_data.values),\n",
    "    columns=module_tissue_data.columns.copy(),\n",
    "    index=drug_data.index.copy(),\n",
    ")"
   ]
  },
  {
   "cell_type": "code",
   "execution_count": 58,
   "metadata": {},
   "outputs": [
    {
     "data": {
      "text/plain": [
       "(987, 7)"
      ]
     },
     "execution_count": 58,
     "metadata": {},
     "output_type": "execute_result"
    }
   ],
   "source": [
    "drug_trait_predictions.shape"
   ]
  },
  {
   "cell_type": "code",
   "execution_count": 59,
   "metadata": {},
   "outputs": [
    {
     "data": {
      "text/html": [
       "<div>\n",
       "<style scoped>\n",
       "    .dataframe tbody tr th:only-of-type {\n",
       "        vertical-align: middle;\n",
       "    }\n",
       "\n",
       "    .dataframe tbody tr th {\n",
       "        vertical-align: top;\n",
       "    }\n",
       "\n",
       "    .dataframe thead th {\n",
       "        text-align: right;\n",
       "    }\n",
       "</style>\n",
       "<table border=\"1\" class=\"dataframe\">\n",
       "  <thead>\n",
       "    <tr style=\"text-align: right;\">\n",
       "      <th></th>\n",
       "      <th>I70-Diagnoses_main_ICD10_I70_Atherosclerosis</th>\n",
       "      <th>CARDIoGRAM_C4D_CAD_ADDITIVE</th>\n",
       "      <th>I25-Diagnoses_main_ICD10_I25_Chronic_ischaemic_heart_disease</th>\n",
       "      <th>20002_1473-Noncancer_illness_code_selfreported_high_cholesterol</th>\n",
       "      <th>6150_100-Vascularheart_problems_diagnosed_by_doctor_None_of_the_above</th>\n",
       "      <th>I9_CORATHER-Coronary_atherosclerosis</th>\n",
       "      <th>I9_IHD-Ischaemic_heart_disease_wide_definition</th>\n",
       "    </tr>\n",
       "  </thead>\n",
       "  <tbody>\n",
       "    <tr>\n",
       "      <th>LV1</th>\n",
       "      <td>0.000185</td>\n",
       "      <td>-0.000082</td>\n",
       "      <td>0.000104</td>\n",
       "      <td>0.000879</td>\n",
       "      <td>-0.000323</td>\n",
       "      <td>-0.001347</td>\n",
       "      <td>-0.001105</td>\n",
       "    </tr>\n",
       "    <tr>\n",
       "      <th>LV2</th>\n",
       "      <td>0.000023</td>\n",
       "      <td>0.000326</td>\n",
       "      <td>-0.000076</td>\n",
       "      <td>-0.000248</td>\n",
       "      <td>0.000005</td>\n",
       "      <td>0.000423</td>\n",
       "      <td>0.000206</td>\n",
       "    </tr>\n",
       "    <tr>\n",
       "      <th>LV3</th>\n",
       "      <td>-0.000025</td>\n",
       "      <td>-0.000308</td>\n",
       "      <td>0.000054</td>\n",
       "      <td>0.000143</td>\n",
       "      <td>-0.000273</td>\n",
       "      <td>0.000171</td>\n",
       "      <td>0.000187</td>\n",
       "    </tr>\n",
       "    <tr>\n",
       "      <th>LV4</th>\n",
       "      <td>0.000088</td>\n",
       "      <td>-0.000100</td>\n",
       "      <td>0.000026</td>\n",
       "      <td>0.000001</td>\n",
       "      <td>-0.000420</td>\n",
       "      <td>0.000128</td>\n",
       "      <td>-0.000265</td>\n",
       "    </tr>\n",
       "    <tr>\n",
       "      <th>LV5</th>\n",
       "      <td>0.000657</td>\n",
       "      <td>0.000395</td>\n",
       "      <td>-0.000215</td>\n",
       "      <td>-0.000885</td>\n",
       "      <td>0.000756</td>\n",
       "      <td>-0.000726</td>\n",
       "      <td>-0.000366</td>\n",
       "    </tr>\n",
       "  </tbody>\n",
       "</table>\n",
       "</div>"
      ],
      "text/plain": [
       "     I70-Diagnoses_main_ICD10_I70_Atherosclerosis  \\\n",
       "LV1                                      0.000185   \n",
       "LV2                                      0.000023   \n",
       "LV3                                     -0.000025   \n",
       "LV4                                      0.000088   \n",
       "LV5                                      0.000657   \n",
       "\n",
       "     CARDIoGRAM_C4D_CAD_ADDITIVE  \\\n",
       "LV1                    -0.000082   \n",
       "LV2                     0.000326   \n",
       "LV3                    -0.000308   \n",
       "LV4                    -0.000100   \n",
       "LV5                     0.000395   \n",
       "\n",
       "     I25-Diagnoses_main_ICD10_I25_Chronic_ischaemic_heart_disease  \\\n",
       "LV1                                           0.000104              \n",
       "LV2                                          -0.000076              \n",
       "LV3                                           0.000054              \n",
       "LV4                                           0.000026              \n",
       "LV5                                          -0.000215              \n",
       "\n",
       "     20002_1473-Noncancer_illness_code_selfreported_high_cholesterol  \\\n",
       "LV1                                           0.000879                 \n",
       "LV2                                          -0.000248                 \n",
       "LV3                                           0.000143                 \n",
       "LV4                                           0.000001                 \n",
       "LV5                                          -0.000885                 \n",
       "\n",
       "     6150_100-Vascularheart_problems_diagnosed_by_doctor_None_of_the_above  \\\n",
       "LV1                                          -0.000323                       \n",
       "LV2                                           0.000005                       \n",
       "LV3                                          -0.000273                       \n",
       "LV4                                          -0.000420                       \n",
       "LV5                                           0.000756                       \n",
       "\n",
       "     I9_CORATHER-Coronary_atherosclerosis  \\\n",
       "LV1                             -0.001347   \n",
       "LV2                              0.000423   \n",
       "LV3                              0.000171   \n",
       "LV4                              0.000128   \n",
       "LV5                             -0.000726   \n",
       "\n",
       "     I9_IHD-Ischaemic_heart_disease_wide_definition  \n",
       "LV1                                       -0.001105  \n",
       "LV2                                        0.000206  \n",
       "LV3                                        0.000187  \n",
       "LV4                                       -0.000265  \n",
       "LV5                                       -0.000366  "
      ]
     },
     "execution_count": 59,
     "metadata": {},
     "output_type": "execute_result"
    }
   ],
   "source": [
    "drug_trait_predictions.head()"
   ]
  },
  {
   "cell_type": "code",
   "execution_count": 60,
   "metadata": {},
   "outputs": [
    {
     "data": {
      "text/plain": [
       "'Number of LVs: 25'"
      ]
     },
     "metadata": {},
     "output_type": "display_data"
    },
    {
     "data": {
      "text/plain": [
       "LV116    0.006180\n",
       "LV931    0.004843\n",
       "LV744    0.002292\n",
       "LV697    0.002231\n",
       "LV885    0.001984\n",
       "LV536    0.001956\n",
       "LV550    0.001933\n",
       "LV220    0.001822\n",
       "LV272    0.001785\n",
       "LV739    0.001770\n",
       "LV678    0.001525\n",
       "LV470    0.001444\n",
       "LV66     0.001375\n",
       "LV189    0.001371\n",
       "LV517    0.001296\n",
       "LV840    0.001285\n",
       "LV246    0.001253\n",
       "LV502    0.001249\n",
       "LV525    0.001227\n",
       "LV85     0.001220\n",
       "Name: I70-Diagnoses_main_ICD10_I70_Atherosclerosis, dtype: float64"
      ]
     },
     "metadata": {},
     "output_type": "display_data"
    },
    {
     "name": "stdout",
     "output_type": "stream",
     "text": [
      "\n"
     ]
    },
    {
     "data": {
      "text/plain": [
       "'Number of LVs: 25'"
      ]
     },
     "metadata": {},
     "output_type": "display_data"
    },
    {
     "data": {
      "text/plain": [
       "LV536    0.005978\n",
       "LV74     0.004517\n",
       "LV879    0.003454\n",
       "LV38     0.002886\n",
       "LV841    0.002169\n",
       "LV530    0.001887\n",
       "LV163    0.001600\n",
       "LV678    0.001565\n",
       "LV824    0.001456\n",
       "LV58     0.001449\n",
       "LV256    0.001403\n",
       "LV59     0.001383\n",
       "LV95     0.001338\n",
       "LV104    0.001336\n",
       "LV136    0.001332\n",
       "LV97     0.001327\n",
       "LV189    0.001298\n",
       "LV239    0.001296\n",
       "LV170    0.001292\n",
       "LV885    0.001170\n",
       "Name: CARDIoGRAM_C4D_CAD_ADDITIVE, dtype: float64"
      ]
     },
     "metadata": {},
     "output_type": "display_data"
    },
    {
     "name": "stdout",
     "output_type": "stream",
     "text": [
      "\n"
     ]
    },
    {
     "data": {
      "text/plain": [
       "'Number of LVs: 25'"
      ]
     },
     "metadata": {},
     "output_type": "display_data"
    },
    {
     "data": {
      "text/plain": [
       "LV881    0.013063\n",
       "LV163    0.005463\n",
       "LV116    0.005052\n",
       "LV227    0.002697\n",
       "LV66     0.002403\n",
       "LV442    0.002145\n",
       "LV906    0.001888\n",
       "LV175    0.001865\n",
       "LV965    0.001627\n",
       "LV395    0.001531\n",
       "LV254    0.001448\n",
       "LV707    0.001443\n",
       "LV161    0.001369\n",
       "LV97     0.001323\n",
       "LV205    0.001266\n",
       "LV151    0.001190\n",
       "LV849    0.001187\n",
       "LV38     0.001103\n",
       "LV582    0.001069\n",
       "LV720    0.001056\n",
       "Name: I25-Diagnoses_main_ICD10_I25_Chronic_ischaemic_heart_disease, dtype: float64"
      ]
     },
     "metadata": {},
     "output_type": "display_data"
    },
    {
     "name": "stdout",
     "output_type": "stream",
     "text": [
      "\n"
     ]
    },
    {
     "data": {
      "text/plain": [
       "'Number of LVs: 25'"
      ]
     },
     "metadata": {},
     "output_type": "display_data"
    },
    {
     "data": {
      "text/plain": [
       "LV227    0.002637\n",
       "LV97     0.002382\n",
       "LV547    0.002326\n",
       "LV95     0.002202\n",
       "LV530    0.002180\n",
       "LV170    0.001960\n",
       "LV525    0.001934\n",
       "LV246    0.001847\n",
       "LV738    0.001776\n",
       "LV940    0.001540\n",
       "LV50     0.001505\n",
       "LV678    0.001476\n",
       "LV163    0.001471\n",
       "LV905    0.001421\n",
       "LV885    0.001403\n",
       "LV184    0.001278\n",
       "LV667    0.001269\n",
       "LV707    0.001238\n",
       "LV631    0.001231\n",
       "LV876    0.001154\n",
       "Name: 20002_1473-Noncancer_illness_code_selfreported_high_cholesterol, dtype: float64"
      ]
     },
     "metadata": {},
     "output_type": "display_data"
    },
    {
     "name": "stdout",
     "output_type": "stream",
     "text": [
      "\n"
     ]
    },
    {
     "data": {
      "text/plain": [
       "'Number of LVs: 26'"
      ]
     },
     "metadata": {},
     "output_type": "display_data"
    },
    {
     "data": {
      "text/plain": [
       "LV743    0.006904\n",
       "LV969    0.004285\n",
       "LV575    0.004086\n",
       "LV829    0.003023\n",
       "LV707    0.002743\n",
       "LV840    0.002685\n",
       "LV931    0.002528\n",
       "LV254    0.002311\n",
       "LV885    0.002250\n",
       "LV656    0.002098\n",
       "LV216    0.001912\n",
       "LV95     0.001887\n",
       "LV366    0.001873\n",
       "LV739    0.001867\n",
       "LV290    0.001829\n",
       "LV227    0.001828\n",
       "LV125    0.001815\n",
       "LV461    0.001811\n",
       "LV841    0.001794\n",
       "LV408    0.001696\n",
       "Name: 6150_100-Vascularheart_problems_diagnosed_by_doctor_None_of_the_above, dtype: float64"
      ]
     },
     "metadata": {},
     "output_type": "display_data"
    },
    {
     "name": "stdout",
     "output_type": "stream",
     "text": [
      "\n"
     ]
    },
    {
     "data": {
      "text/plain": [
       "'Number of LVs: 25'"
      ]
     },
     "metadata": {},
     "output_type": "display_data"
    },
    {
     "data": {
      "text/plain": [
       "LV881    0.015670\n",
       "LV670    0.002761\n",
       "LV824    0.002730\n",
       "LV142    0.002600\n",
       "LV227    0.002379\n",
       "LV707    0.002191\n",
       "LV530    0.002034\n",
       "LV841    0.001971\n",
       "LV254    0.001843\n",
       "LV97     0.001810\n",
       "LV21     0.001728\n",
       "LV163    0.001628\n",
       "LV974    0.001596\n",
       "LV313    0.001535\n",
       "LV282    0.001472\n",
       "LV674    0.001425\n",
       "LV678    0.001410\n",
       "LV468    0.001377\n",
       "LV346    0.001357\n",
       "LV354    0.001353\n",
       "Name: I9_CORATHER-Coronary_atherosclerosis, dtype: float64"
      ]
     },
     "metadata": {},
     "output_type": "display_data"
    },
    {
     "name": "stdout",
     "output_type": "stream",
     "text": [
      "\n"
     ]
    },
    {
     "data": {
      "text/plain": [
       "'Number of LVs: 26'"
      ]
     },
     "metadata": {},
     "output_type": "display_data"
    },
    {
     "data": {
      "text/plain": [
       "LV881    0.007724\n",
       "LV97     0.004228\n",
       "LV931    0.003626\n",
       "LV509    0.003360\n",
       "LV395    0.002838\n",
       "LV479    0.001992\n",
       "LV502    0.001909\n",
       "LV536    0.001816\n",
       "LV220    0.001572\n",
       "LV351    0.001518\n",
       "LV570    0.001508\n",
       "LV601    0.001426\n",
       "LV116    0.001423\n",
       "LV170    0.001326\n",
       "LV906    0.001322\n",
       "LV246    0.001268\n",
       "LV78     0.001254\n",
       "LV354    0.001240\n",
       "LV310    0.001206\n",
       "LV824    0.001194\n",
       "Name: I9_IHD-Ischaemic_heart_disease_wide_definition, dtype: float64"
      ]
     },
     "metadata": {},
     "output_type": "display_data"
    },
    {
     "name": "stdout",
     "output_type": "stream",
     "text": [
      "\n"
     ]
    }
   ],
   "source": [
    "common_lvs = []\n",
    "\n",
    "for c in drug_trait_predictions.columns:\n",
    "    _tmp = drug_trait_predictions[c]\n",
    "\n",
    "    _tmp = _tmp[_tmp > 0.0]\n",
    "    q = _tmp.quantile(QUANTILE)\n",
    "    _tmp = _tmp[_tmp > q]\n",
    "    display(f\"Number of LVs: {_tmp.shape[0]}\")\n",
    "\n",
    "    _tmp = _tmp.sort_values(ascending=False)\n",
    "    common_lvs.append(_tmp)\n",
    "\n",
    "    display(_tmp.head(20))\n",
    "    print()"
   ]
  },
  {
   "cell_type": "markdown",
   "metadata": {},
   "source": [
    "# Niacin top LVs"
   ]
  },
  {
   "cell_type": "code",
   "execution_count": 71,
   "metadata": {},
   "outputs": [
    {
     "data": {
      "text/plain": [
       "LV881    0.154953\n",
       "LV116    0.097558\n",
       "LV743    0.097299\n",
       "LV38     0.088232\n",
       "LV841    0.086833\n",
       "LV163    0.080580\n",
       "LV161    0.070249\n",
       "LV931    0.069832\n",
       "LV9      0.069249\n",
       "LV536    0.068436\n",
       "LV50     0.067657\n",
       "LV707    0.067467\n",
       "LV142    0.064834\n",
       "LV95     0.061820\n",
       "LV97     0.061123\n",
       "LV74     0.056454\n",
       "LV66     0.055342\n",
       "LV974    0.053342\n",
       "LV678    0.051296\n",
       "LV879    0.050419\n",
       "LV969    0.047919\n",
       "LV27     0.047240\n",
       "LV509    0.046626\n",
       "LV272    0.046522\n",
       "LV905    0.045610\n",
       "LV254    0.044915\n",
       "LV720    0.043503\n",
       "LV587    0.043327\n",
       "LV608    0.043223\n",
       "LV246    0.042009\n",
       "Name: DB00627, dtype: float64"
      ]
     },
     "execution_count": 71,
     "metadata": {},
     "output_type": "execute_result"
    }
   ],
   "source": [
    "drug_data.abs().sort_values(ascending=False).head(30)"
   ]
  },
  {
   "cell_type": "code",
   "execution_count": 72,
   "metadata": {},
   "outputs": [
    {
     "data": {
      "text/plain": [
       "LV881    0.154953\n",
       "LV116    0.097558\n",
       "LV743    0.097299\n",
       "LV38     0.088232\n",
       "LV974    0.053342\n",
       "LV678    0.051296\n",
       "LV879    0.050419\n",
       "LV272    0.046522\n",
       "LV254    0.044915\n",
       "LV720    0.043503\n",
       "LV587    0.043327\n",
       "LV20     0.040827\n",
       "LV840    0.039595\n",
       "LV507    0.037171\n",
       "LV684    0.034499\n",
       "Name: DB00627, dtype: float64"
      ]
     },
     "execution_count": 72,
     "metadata": {},
     "output_type": "execute_result"
    }
   ],
   "source": [
    "drug_data.sort_values(ascending=False).head(15)"
   ]
  },
  {
   "cell_type": "code",
   "execution_count": 73,
   "metadata": {},
   "outputs": [
    {
     "data": {
      "text/plain": [
       "LV841   -0.086833\n",
       "LV163   -0.080580\n",
       "LV161   -0.070249\n",
       "LV931   -0.069832\n",
       "LV9     -0.069249\n",
       "LV536   -0.068436\n",
       "LV50    -0.067657\n",
       "LV707   -0.067467\n",
       "LV142   -0.064834\n",
       "LV95    -0.061820\n",
       "LV97    -0.061123\n",
       "LV74    -0.056454\n",
       "LV66    -0.055342\n",
       "LV969   -0.047919\n",
       "LV27    -0.047240\n",
       "Name: DB00627, dtype: float64"
      ]
     },
     "execution_count": 73,
     "metadata": {},
     "output_type": "execute_result"
    }
   ],
   "source": [
    "drug_data.sort_values(ascending=True).head(15)"
   ]
  },
  {
   "cell_type": "markdown",
   "metadata": {},
   "source": [
    "# Get common LVs"
   ]
  },
  {
   "cell_type": "code",
   "execution_count": 61,
   "metadata": {},
   "outputs": [],
   "source": [
    "common_lvs_df = (\n",
    "    pd.concat(common_lvs).reset_index().rename(columns={\"index\": \"lv\", 0: \"value\"})\n",
    ")"
   ]
  },
  {
   "cell_type": "code",
   "execution_count": 62,
   "metadata": {},
   "outputs": [
    {
     "data": {
      "text/plain": [
       "(177, 2)"
      ]
     },
     "execution_count": 62,
     "metadata": {},
     "output_type": "execute_result"
    }
   ],
   "source": [
    "common_lvs_df.shape"
   ]
  },
  {
   "cell_type": "code",
   "execution_count": 63,
   "metadata": {},
   "outputs": [
    {
     "data": {
      "text/html": [
       "<div>\n",
       "<style scoped>\n",
       "    .dataframe tbody tr th:only-of-type {\n",
       "        vertical-align: middle;\n",
       "    }\n",
       "\n",
       "    .dataframe tbody tr th {\n",
       "        vertical-align: top;\n",
       "    }\n",
       "\n",
       "    .dataframe thead th {\n",
       "        text-align: right;\n",
       "    }\n",
       "</style>\n",
       "<table border=\"1\" class=\"dataframe\">\n",
       "  <thead>\n",
       "    <tr style=\"text-align: right;\">\n",
       "      <th></th>\n",
       "      <th>lv</th>\n",
       "      <th>value</th>\n",
       "    </tr>\n",
       "  </thead>\n",
       "  <tbody>\n",
       "    <tr>\n",
       "      <th>0</th>\n",
       "      <td>LV116</td>\n",
       "      <td>0.006180</td>\n",
       "    </tr>\n",
       "    <tr>\n",
       "      <th>1</th>\n",
       "      <td>LV931</td>\n",
       "      <td>0.004843</td>\n",
       "    </tr>\n",
       "    <tr>\n",
       "      <th>2</th>\n",
       "      <td>LV744</td>\n",
       "      <td>0.002292</td>\n",
       "    </tr>\n",
       "    <tr>\n",
       "      <th>3</th>\n",
       "      <td>LV697</td>\n",
       "      <td>0.002231</td>\n",
       "    </tr>\n",
       "    <tr>\n",
       "      <th>4</th>\n",
       "      <td>LV885</td>\n",
       "      <td>0.001984</td>\n",
       "    </tr>\n",
       "  </tbody>\n",
       "</table>\n",
       "</div>"
      ],
      "text/plain": [
       "      lv     value\n",
       "0  LV116  0.006180\n",
       "1  LV931  0.004843\n",
       "2  LV744  0.002292\n",
       "3  LV697  0.002231\n",
       "4  LV885  0.001984"
      ]
     },
     "execution_count": 63,
     "metadata": {},
     "output_type": "execute_result"
    }
   ],
   "source": [
    "common_lvs_df.head()"
   ]
  },
  {
   "cell_type": "code",
   "execution_count": 68,
   "metadata": {},
   "outputs": [
    {
     "data": {
      "text/plain": [
       "lv\n",
       "LV881    0.036456\n",
       "LV116    0.014301\n",
       "LV97     0.011069\n",
       "LV931    0.010996\n",
       "LV163    0.010162\n",
       "LV536    0.009750\n",
       "LV227    0.009540\n",
       "LV707    0.007616\n",
       "LV743    0.006904\n",
       "LV885    0.006806\n",
       "LV824    0.006586\n",
       "LV530    0.006100\n",
       "LV678    0.005976\n",
       "LV841    0.005933\n",
       "LV74     0.005811\n",
       "LV254    0.005603\n",
       "LV95     0.005427\n",
       "LV840    0.005103\n",
       "LV170    0.004578\n",
       "LV395    0.004369\n",
       "LV246    0.004369\n",
       "LV969    0.004285\n",
       "LV575    0.004086\n",
       "LV38     0.003989\n",
       "LV21     0.003789\n",
       "Name: value, dtype: float64"
      ]
     },
     "metadata": {},
     "output_type": "display_data"
    }
   ],
   "source": [
    "lvs_by_sum = common_lvs_df.groupby(\"lv\").sum().squeeze().sort_values(ascending=False)\n",
    "display(lvs_by_sum.head(25))"
   ]
  },
  {
   "cell_type": "code",
   "execution_count": 69,
   "metadata": {},
   "outputs": [
    {
     "data": {
      "text/plain": [
       "lv\n",
       "LV97     5\n",
       "LV707    4\n",
       "LV227    4\n",
       "LV116    4\n",
       "LV678    4\n",
       "LV824    4\n",
       "LV163    4\n",
       "LV885    4\n",
       "LV246    3\n",
       "LV21     3\n",
       "LV840    3\n",
       "LV841    3\n",
       "LV354    3\n",
       "LV254    3\n",
       "LV881    3\n",
       "LV536    3\n",
       "LV530    3\n",
       "LV931    3\n",
       "LV95     3\n",
       "LV170    3\n",
       "LV395    2\n",
       "LV38     2\n",
       "LV525    2\n",
       "LV587    2\n",
       "LV59     2\n",
       "Name: value, dtype: int64"
      ]
     },
     "metadata": {},
     "output_type": "display_data"
    }
   ],
   "source": [
    "lvs_by_count = (\n",
    "    common_lvs_df.groupby(\"lv\").count().squeeze().sort_values(ascending=False)\n",
    ")\n",
    "display(lvs_by_count.head(25))"
   ]
  },
  {
   "cell_type": "markdown",
   "metadata": {},
   "source": [
    "# Save"
   ]
  },
  {
   "cell_type": "code",
   "execution_count": 66,
   "metadata": {},
   "outputs": [
    {
     "data": {
      "text/plain": [
       "PosixPath('/media/miltondp/Elements1/projects/phenoplier/results/drug_disease_analyses/lincs/analyses/cardiovascular-niacin.h5')"
      ]
     },
     "metadata": {},
     "output_type": "display_data"
    }
   ],
   "source": [
    "output_file = OUTPUT_DIR / \"cardiovascular-niacin.h5\"\n",
    "display(output_file)"
   ]
  },
  {
   "cell_type": "code",
   "execution_count": 67,
   "metadata": {},
   "outputs": [],
   "source": [
    "with pd.HDFStore(output_file, mode=\"w\", complevel=4) as store:\n",
    "    store.put(\"traits_module_tissue_data\", module_tissue_data, format=\"fixed\")\n",
    "    store.put(\"drug_data\", drug_data, format=\"fixed\")\n",
    "    store.put(\"drug_trait_predictions\", drug_trait_predictions, format=\"fixed\")\n",
    "    store.put(\"common_lvs\", common_lvs_df, format=\"fixed\")"
   ]
  },
  {
   "cell_type": "code",
   "execution_count": null,
   "metadata": {},
   "outputs": [],
   "source": []
  }
 ],
 "metadata": {
  "jupytext": {
   "cell_metadata_filter": "all,-execution,-papermill,-trusted",
   "formats": "ipynb,py//py:percent"
  },
  "kernelspec": {
   "display_name": "Python 3",
   "language": "python",
   "name": "python3"
  },
  "language_info": {
   "codemirror_mode": {
    "name": "ipython",
    "version": 3
   },
   "file_extension": ".py",
   "mimetype": "text/x-python",
   "name": "python",
   "nbconvert_exporter": "python",
   "pygments_lexer": "ipython3",
   "version": "3.8.8"
  },
  "papermill": {
   "default_parameters": {},
   "duration": 3.201629,
   "end_time": "2020-12-23T18:04:41.617935",
   "environment_variables": {},
   "exception": null,
   "input_path": "15_drug_disease_associations/005-pharmacotherapydb-build_gold_standard.ipynb",
   "output_path": "15_drug_disease_associations/005-pharmacotherapydb-build_gold_standard.run.ipynb",
   "parameters": {},
   "start_time": "2020-12-23T18:04:38.416306",
   "version": "2.2.2"
  },
  "toc-autonumbering": true
 },
 "nbformat": 4,
 "nbformat_minor": 4
}
