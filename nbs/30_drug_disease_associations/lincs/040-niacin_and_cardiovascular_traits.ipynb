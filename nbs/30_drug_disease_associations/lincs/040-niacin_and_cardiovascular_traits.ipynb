{
 "cells": [
  {
   "cell_type": "markdown",
   "metadata": {
    "papermill": {
     "duration": 0.058415,
     "end_time": "2021-07-29T19:16:07.003022",
     "exception": false,
     "start_time": "2021-07-29T19:16:06.944607",
     "status": "completed"
    },
    "tags": []
   },
   "source": [
    "# Description"
   ]
  },
  {
   "cell_type": "markdown",
   "metadata": {
    "papermill": {
     "duration": 0.022937,
     "end_time": "2021-07-29T19:16:07.048679",
     "exception": false,
     "start_time": "2021-07-29T19:16:07.025742",
     "status": "completed"
    },
    "tags": []
   },
   "source": [
    "This notebook analyzes the LVs driving the association of Niacin with some cardiovascular traits.\n",
    "It saves some dataframes with the common list of LVs affecting cardiovascular traits and other data for later use."
   ]
  },
  {
   "cell_type": "markdown",
   "metadata": {
    "papermill": {
     "duration": 0.022547,
     "end_time": "2021-07-29T19:16:07.093480",
     "exception": false,
     "start_time": "2021-07-29T19:16:07.070933",
     "status": "completed"
    },
    "tags": []
   },
   "source": [
    "# Modules loading"
   ]
  },
  {
   "cell_type": "code",
   "execution_count": 1,
   "metadata": {
    "execution": {
     "iopub.execute_input": "2021-07-29T19:16:07.144096Z",
     "iopub.status.busy": "2021-07-29T19:16:07.143734Z",
     "iopub.status.idle": "2021-07-29T19:16:07.152311Z",
     "shell.execute_reply": "2021-07-29T19:16:07.151883Z"
    },
    "papermill": {
     "duration": 0.036478,
     "end_time": "2021-07-29T19:16:07.152405",
     "exception": false,
     "start_time": "2021-07-29T19:16:07.115927",
     "status": "completed"
    },
    "tags": []
   },
   "outputs": [],
   "source": [
    "%load_ext autoreload\n",
    "%autoreload 2"
   ]
  },
  {
   "cell_type": "code",
   "execution_count": 2,
   "metadata": {
    "execution": {
     "iopub.execute_input": "2021-07-29T19:16:07.202823Z",
     "iopub.status.busy": "2021-07-29T19:16:07.202451Z",
     "iopub.status.idle": "2021-07-29T19:16:07.575468Z",
     "shell.execute_reply": "2021-07-29T19:16:07.575057Z"
    },
    "papermill": {
     "duration": 0.399261,
     "end_time": "2021-07-29T19:16:07.575566",
     "exception": false,
     "start_time": "2021-07-29T19:16:07.176305",
     "status": "completed"
    },
    "tags": []
   },
   "outputs": [],
   "source": [
    "from pathlib import Path\n",
    "\n",
    "import numpy as np\n",
    "import pandas as pd\n",
    "\n",
    "from entity import Gene, Trait\n",
    "import conf"
   ]
  },
  {
   "cell_type": "markdown",
   "metadata": {
    "papermill": {
     "duration": 0.023467,
     "end_time": "2021-07-29T19:16:07.624794",
     "exception": false,
     "start_time": "2021-07-29T19:16:07.601327",
     "status": "completed"
    },
    "tags": []
   },
   "source": [
    "# Settings"
   ]
  },
  {
   "cell_type": "code",
   "execution_count": 3,
   "metadata": {
    "execution": {
     "iopub.execute_input": "2021-07-29T19:16:07.673105Z",
     "iopub.status.busy": "2021-07-29T19:16:07.672684Z",
     "iopub.status.idle": "2021-07-29T19:16:07.679759Z",
     "shell.execute_reply": "2021-07-29T19:16:07.679402Z"
    },
    "papermill": {
     "duration": 0.032171,
     "end_time": "2021-07-29T19:16:07.679841",
     "exception": false,
     "start_time": "2021-07-29T19:16:07.647670",
     "status": "completed"
    },
    "tags": []
   },
   "outputs": [],
   "source": [
    "# it specified the threshold to select the top-contributing LVs for each selected trait\n",
    "QUANTILE = 0.95"
   ]
  },
  {
   "cell_type": "markdown",
   "metadata": {
    "papermill": {
     "duration": 0.02263,
     "end_time": "2021-07-29T19:16:07.725699",
     "exception": false,
     "start_time": "2021-07-29T19:16:07.703069",
     "status": "completed"
    },
    "tags": []
   },
   "source": [
    "# Paths"
   ]
  },
  {
   "cell_type": "code",
   "execution_count": 4,
   "metadata": {
    "execution": {
     "iopub.execute_input": "2021-07-29T19:16:07.773690Z",
     "iopub.status.busy": "2021-07-29T19:16:07.773319Z",
     "iopub.status.idle": "2021-07-29T19:16:07.785392Z",
     "shell.execute_reply": "2021-07-29T19:16:07.785019Z"
    },
    "papermill": {
     "duration": 0.03702,
     "end_time": "2021-07-29T19:16:07.785474",
     "exception": false,
     "start_time": "2021-07-29T19:16:07.748454",
     "status": "completed"
    },
    "tags": []
   },
   "outputs": [
    {
     "data": {
      "text/plain": [
       "PosixPath('/home/miltondp/projects/labs/greenelab/phenoplier/base/results/drug_disease_analyses/lincs/predictions/full_predictions_by_tissue-rank.h5')"
      ]
     },
     "metadata": {},
     "output_type": "display_data"
    }
   ],
   "source": [
    "INPUT_DIR = conf.RESULTS[\"DRUG_DISEASE_ANALYSES\"] / \"lincs\" / \"predictions\"\n",
    "input_predictions_by_tissue_file = INPUT_DIR / \"full_predictions_by_tissue-rank.h5\"\n",
    "display(input_predictions_by_tissue_file)\n",
    "assert input_predictions_by_tissue_file.exists()"
   ]
  },
  {
   "cell_type": "code",
   "execution_count": 5,
   "metadata": {
    "execution": {
     "iopub.execute_input": "2021-07-29T19:16:07.835527Z",
     "iopub.status.busy": "2021-07-29T19:16:07.835151Z",
     "iopub.status.idle": "2021-07-29T19:16:07.846680Z",
     "shell.execute_reply": "2021-07-29T19:16:07.846287Z"
    },
    "papermill": {
     "duration": 0.037555,
     "end_time": "2021-07-29T19:16:07.846769",
     "exception": false,
     "start_time": "2021-07-29T19:16:07.809214",
     "status": "completed"
    },
    "tags": []
   },
   "outputs": [
    {
     "data": {
      "text/plain": [
       "PosixPath('/home/miltondp/projects/labs/greenelab/phenoplier/base/results/drug_disease_analyses/lincs/analyses')"
      ]
     },
     "metadata": {},
     "output_type": "display_data"
    }
   ],
   "source": [
    "OUTPUT_DIR = conf.RESULTS[\"DRUG_DISEASE_ANALYSES\"] / \"lincs\" / \"analyses\"\n",
    "display(OUTPUT_DIR)\n",
    "OUTPUT_DIR.mkdir(exist_ok=True, parents=True)"
   ]
  },
  {
   "cell_type": "code",
   "execution_count": 6,
   "metadata": {
    "execution": {
     "iopub.execute_input": "2021-07-29T19:16:07.896859Z",
     "iopub.status.busy": "2021-07-29T19:16:07.896432Z",
     "iopub.status.idle": "2021-07-29T19:16:07.904378Z",
     "shell.execute_reply": "2021-07-29T19:16:07.904011Z"
    },
    "papermill": {
     "duration": 0.033415,
     "end_time": "2021-07-29T19:16:07.904462",
     "exception": false,
     "start_time": "2021-07-29T19:16:07.871047",
     "status": "completed"
    },
    "tags": []
   },
   "outputs": [
    {
     "data": {
      "text/plain": [
       "PosixPath('/home/miltondp/projects/labs/greenelab/phenoplier/base/results/drug_disease_analyses/lincs/analyses/cardiovascular-niacin.h5')"
      ]
     },
     "metadata": {},
     "output_type": "display_data"
    }
   ],
   "source": [
    "OUTPUT_FILEPATH = OUTPUT_DIR / \"cardiovascular-niacin.h5\"\n",
    "display(OUTPUT_FILEPATH)"
   ]
  },
  {
   "cell_type": "markdown",
   "metadata": {
    "papermill": {
     "duration": 0.02357,
     "end_time": "2021-07-29T19:16:07.951978",
     "exception": false,
     "start_time": "2021-07-29T19:16:07.928408",
     "status": "completed"
    },
    "tags": []
   },
   "source": [
    "# Data loading"
   ]
  },
  {
   "cell_type": "markdown",
   "metadata": {
    "papermill": {
     "duration": 0.023123,
     "end_time": "2021-07-29T19:16:07.998281",
     "exception": false,
     "start_time": "2021-07-29T19:16:07.975158",
     "status": "completed"
    },
    "tags": []
   },
   "source": [
    "## PharmacotherapyDB"
   ]
  },
  {
   "cell_type": "markdown",
   "metadata": {
    "papermill": {
     "duration": 0.023463,
     "end_time": "2021-07-29T19:16:08.045026",
     "exception": false,
     "start_time": "2021-07-29T19:16:08.021563",
     "status": "completed"
    },
    "tags": []
   },
   "source": [
    "### Gold standard set"
   ]
  },
  {
   "cell_type": "code",
   "execution_count": 7,
   "metadata": {
    "execution": {
     "iopub.execute_input": "2021-07-29T19:16:08.094506Z",
     "iopub.status.busy": "2021-07-29T19:16:08.094149Z",
     "iopub.status.idle": "2021-07-29T19:16:08.102018Z",
     "shell.execute_reply": "2021-07-29T19:16:08.101645Z"
    },
    "papermill": {
     "duration": 0.033615,
     "end_time": "2021-07-29T19:16:08.102101",
     "exception": false,
     "start_time": "2021-07-29T19:16:08.068486",
     "status": "completed"
    },
    "tags": []
   },
   "outputs": [],
   "source": [
    "gold_standard = pd.read_pickle(\n",
    "    Path(conf.RESULTS[\"DRUG_DISEASE_ANALYSES\"], \"gold_standard.pkl\"),\n",
    ")"
   ]
  },
  {
   "cell_type": "code",
   "execution_count": 8,
   "metadata": {
    "execution": {
     "iopub.execute_input": "2021-07-29T19:16:08.152926Z",
     "iopub.status.busy": "2021-07-29T19:16:08.152511Z",
     "iopub.status.idle": "2021-07-29T19:16:08.160528Z",
     "shell.execute_reply": "2021-07-29T19:16:08.160162Z"
    },
    "papermill": {
     "duration": 0.034499,
     "end_time": "2021-07-29T19:16:08.160611",
     "exception": false,
     "start_time": "2021-07-29T19:16:08.126112",
     "status": "completed"
    },
    "tags": []
   },
   "outputs": [
    {
     "data": {
      "text/plain": [
       "(998, 3)"
      ]
     },
     "execution_count": 8,
     "metadata": {},
     "output_type": "execute_result"
    }
   ],
   "source": [
    "gold_standard.shape"
   ]
  },
  {
   "cell_type": "code",
   "execution_count": 9,
   "metadata": {
    "execution": {
     "iopub.execute_input": "2021-07-29T19:16:08.212149Z",
     "iopub.status.busy": "2021-07-29T19:16:08.211746Z",
     "iopub.status.idle": "2021-07-29T19:16:08.223178Z",
     "shell.execute_reply": "2021-07-29T19:16:08.222812Z"
    },
    "papermill": {
     "duration": 0.037413,
     "end_time": "2021-07-29T19:16:08.223261",
     "exception": false,
     "start_time": "2021-07-29T19:16:08.185848",
     "status": "completed"
    },
    "tags": []
   },
   "outputs": [
    {
     "data": {
      "text/html": [
       "<div>\n",
       "<style scoped>\n",
       "    .dataframe tbody tr th:only-of-type {\n",
       "        vertical-align: middle;\n",
       "    }\n",
       "\n",
       "    .dataframe tbody tr th {\n",
       "        vertical-align: top;\n",
       "    }\n",
       "\n",
       "    .dataframe thead th {\n",
       "        text-align: right;\n",
       "    }\n",
       "</style>\n",
       "<table border=\"1\" class=\"dataframe\">\n",
       "  <thead>\n",
       "    <tr style=\"text-align: right;\">\n",
       "      <th></th>\n",
       "      <th>trait</th>\n",
       "      <th>drug</th>\n",
       "      <th>true_class</th>\n",
       "    </tr>\n",
       "  </thead>\n",
       "  <tbody>\n",
       "    <tr>\n",
       "      <th>0</th>\n",
       "      <td>DOID:10652</td>\n",
       "      <td>DB00843</td>\n",
       "      <td>1</td>\n",
       "    </tr>\n",
       "    <tr>\n",
       "      <th>1</th>\n",
       "      <td>DOID:10652</td>\n",
       "      <td>DB00674</td>\n",
       "      <td>1</td>\n",
       "    </tr>\n",
       "    <tr>\n",
       "      <th>2</th>\n",
       "      <td>DOID:10652</td>\n",
       "      <td>DB01043</td>\n",
       "      <td>1</td>\n",
       "    </tr>\n",
       "    <tr>\n",
       "      <th>3</th>\n",
       "      <td>DOID:10652</td>\n",
       "      <td>DB00989</td>\n",
       "      <td>1</td>\n",
       "    </tr>\n",
       "    <tr>\n",
       "      <th>4</th>\n",
       "      <td>DOID:10652</td>\n",
       "      <td>DB00810</td>\n",
       "      <td>0</td>\n",
       "    </tr>\n",
       "  </tbody>\n",
       "</table>\n",
       "</div>"
      ],
      "text/plain": [
       "        trait     drug  true_class\n",
       "0  DOID:10652  DB00843           1\n",
       "1  DOID:10652  DB00674           1\n",
       "2  DOID:10652  DB01043           1\n",
       "3  DOID:10652  DB00989           1\n",
       "4  DOID:10652  DB00810           0"
      ]
     },
     "execution_count": 9,
     "metadata": {},
     "output_type": "execute_result"
    }
   ],
   "source": [
    "gold_standard.head()"
   ]
  },
  {
   "cell_type": "markdown",
   "metadata": {
    "papermill": {
     "duration": 0.024227,
     "end_time": "2021-07-29T19:16:08.272825",
     "exception": false,
     "start_time": "2021-07-29T19:16:08.248598",
     "status": "completed"
    },
    "tags": []
   },
   "source": [
    "### Info"
   ]
  },
  {
   "cell_type": "code",
   "execution_count": 10,
   "metadata": {
    "execution": {
     "iopub.execute_input": "2021-07-29T19:16:08.323505Z",
     "iopub.status.busy": "2021-07-29T19:16:08.323150Z",
     "iopub.status.idle": "2021-07-29T19:16:08.331147Z",
     "shell.execute_reply": "2021-07-29T19:16:08.330770Z"
    },
    "papermill": {
     "duration": 0.034202,
     "end_time": "2021-07-29T19:16:08.331230",
     "exception": false,
     "start_time": "2021-07-29T19:16:08.297028",
     "status": "completed"
    },
    "tags": []
   },
   "outputs": [
    {
     "data": {
      "text/plain": [
       "PosixPath('/home/miltondp/projects/labs/greenelab/phenoplier/base/data/hetionet/pharmacotherapydb-v1.0/indications.tsv')"
      ]
     },
     "metadata": {},
     "output_type": "display_data"
    }
   ],
   "source": [
    "input_file = conf.PHARMACOTHERAPYDB[\"INDICATIONS_FILE\"]\n",
    "display(input_file)"
   ]
  },
  {
   "cell_type": "code",
   "execution_count": 11,
   "metadata": {
    "execution": {
     "iopub.execute_input": "2021-07-29T19:16:08.393240Z",
     "iopub.status.busy": "2021-07-29T19:16:08.385459Z",
     "iopub.status.idle": "2021-07-29T19:16:08.396150Z",
     "shell.execute_reply": "2021-07-29T19:16:08.396490Z"
    },
    "papermill": {
     "duration": 0.04025,
     "end_time": "2021-07-29T19:16:08.396606",
     "exception": false,
     "start_time": "2021-07-29T19:16:08.356356",
     "status": "completed"
    },
    "tags": []
   },
   "outputs": [],
   "source": [
    "gold_standard_info = pd.read_csv(input_file, sep=\"\\t\")"
   ]
  },
  {
   "cell_type": "code",
   "execution_count": 12,
   "metadata": {
    "execution": {
     "iopub.execute_input": "2021-07-29T19:16:08.450921Z",
     "iopub.status.busy": "2021-07-29T19:16:08.450553Z",
     "iopub.status.idle": "2021-07-29T19:16:08.457489Z",
     "shell.execute_reply": "2021-07-29T19:16:08.457780Z"
    },
    "papermill": {
     "duration": 0.034405,
     "end_time": "2021-07-29T19:16:08.457880",
     "exception": false,
     "start_time": "2021-07-29T19:16:08.423475",
     "status": "completed"
    },
    "tags": []
   },
   "outputs": [],
   "source": [
    "gold_standard_info = gold_standard_info.rename(columns={\"drug\": \"drug_name\"})"
   ]
  },
  {
   "cell_type": "code",
   "execution_count": 13,
   "metadata": {
    "execution": {
     "iopub.execute_input": "2021-07-29T19:16:08.510207Z",
     "iopub.status.busy": "2021-07-29T19:16:08.509841Z",
     "iopub.status.idle": "2021-07-29T19:16:08.517249Z",
     "shell.execute_reply": "2021-07-29T19:16:08.517545Z"
    },
    "papermill": {
     "duration": 0.034768,
     "end_time": "2021-07-29T19:16:08.517646",
     "exception": false,
     "start_time": "2021-07-29T19:16:08.482878",
     "status": "completed"
    },
    "tags": []
   },
   "outputs": [
    {
     "data": {
      "text/plain": [
       "(1388, 7)"
      ]
     },
     "execution_count": 13,
     "metadata": {},
     "output_type": "execute_result"
    }
   ],
   "source": [
    "gold_standard_info.shape"
   ]
  },
  {
   "cell_type": "code",
   "execution_count": 14,
   "metadata": {
    "execution": {
     "iopub.execute_input": "2021-07-29T19:16:08.571333Z",
     "iopub.status.busy": "2021-07-29T19:16:08.570979Z",
     "iopub.status.idle": "2021-07-29T19:16:08.583055Z",
     "shell.execute_reply": "2021-07-29T19:16:08.582675Z"
    },
    "papermill": {
     "duration": 0.039035,
     "end_time": "2021-07-29T19:16:08.583139",
     "exception": false,
     "start_time": "2021-07-29T19:16:08.544104",
     "status": "completed"
    },
    "tags": []
   },
   "outputs": [
    {
     "data": {
      "text/html": [
       "<div>\n",
       "<style scoped>\n",
       "    .dataframe tbody tr th:only-of-type {\n",
       "        vertical-align: middle;\n",
       "    }\n",
       "\n",
       "    .dataframe tbody tr th {\n",
       "        vertical-align: top;\n",
       "    }\n",
       "\n",
       "    .dataframe thead th {\n",
       "        text-align: right;\n",
       "    }\n",
       "</style>\n",
       "<table border=\"1\" class=\"dataframe\">\n",
       "  <thead>\n",
       "    <tr style=\"text-align: right;\">\n",
       "      <th></th>\n",
       "      <th>doid_id</th>\n",
       "      <th>drugbank_id</th>\n",
       "      <th>disease</th>\n",
       "      <th>drug_name</th>\n",
       "      <th>category</th>\n",
       "      <th>n_curators</th>\n",
       "      <th>n_resources</th>\n",
       "    </tr>\n",
       "  </thead>\n",
       "  <tbody>\n",
       "    <tr>\n",
       "      <th>0</th>\n",
       "      <td>DOID:10652</td>\n",
       "      <td>DB00843</td>\n",
       "      <td>Alzheimer's disease</td>\n",
       "      <td>Donepezil</td>\n",
       "      <td>DM</td>\n",
       "      <td>2</td>\n",
       "      <td>1</td>\n",
       "    </tr>\n",
       "    <tr>\n",
       "      <th>1</th>\n",
       "      <td>DOID:10652</td>\n",
       "      <td>DB00674</td>\n",
       "      <td>Alzheimer's disease</td>\n",
       "      <td>Galantamine</td>\n",
       "      <td>DM</td>\n",
       "      <td>1</td>\n",
       "      <td>4</td>\n",
       "    </tr>\n",
       "    <tr>\n",
       "      <th>2</th>\n",
       "      <td>DOID:10652</td>\n",
       "      <td>DB01043</td>\n",
       "      <td>Alzheimer's disease</td>\n",
       "      <td>Memantine</td>\n",
       "      <td>DM</td>\n",
       "      <td>1</td>\n",
       "      <td>3</td>\n",
       "    </tr>\n",
       "    <tr>\n",
       "      <th>3</th>\n",
       "      <td>DOID:10652</td>\n",
       "      <td>DB00989</td>\n",
       "      <td>Alzheimer's disease</td>\n",
       "      <td>Rivastigmine</td>\n",
       "      <td>DM</td>\n",
       "      <td>1</td>\n",
       "      <td>3</td>\n",
       "    </tr>\n",
       "    <tr>\n",
       "      <th>4</th>\n",
       "      <td>DOID:10652</td>\n",
       "      <td>DB00245</td>\n",
       "      <td>Alzheimer's disease</td>\n",
       "      <td>Benzatropine</td>\n",
       "      <td>SYM</td>\n",
       "      <td>3</td>\n",
       "      <td>1</td>\n",
       "    </tr>\n",
       "  </tbody>\n",
       "</table>\n",
       "</div>"
      ],
      "text/plain": [
       "      doid_id drugbank_id              disease     drug_name category  \\\n",
       "0  DOID:10652     DB00843  Alzheimer's disease     Donepezil       DM   \n",
       "1  DOID:10652     DB00674  Alzheimer's disease   Galantamine       DM   \n",
       "2  DOID:10652     DB01043  Alzheimer's disease     Memantine       DM   \n",
       "3  DOID:10652     DB00989  Alzheimer's disease  Rivastigmine       DM   \n",
       "4  DOID:10652     DB00245  Alzheimer's disease  Benzatropine      SYM   \n",
       "\n",
       "   n_curators  n_resources  \n",
       "0           2            1  \n",
       "1           1            4  \n",
       "2           1            3  \n",
       "3           1            3  \n",
       "4           3            1  "
      ]
     },
     "execution_count": 14,
     "metadata": {},
     "output_type": "execute_result"
    }
   ],
   "source": [
    "gold_standard_info.head()"
   ]
  },
  {
   "cell_type": "code",
   "execution_count": 15,
   "metadata": {
    "execution": {
     "iopub.execute_input": "2021-07-29T19:16:08.638620Z",
     "iopub.status.busy": "2021-07-29T19:16:08.638260Z",
     "iopub.status.idle": "2021-07-29T19:16:08.652333Z",
     "shell.execute_reply": "2021-07-29T19:16:08.651965Z"
    },
    "papermill": {
     "duration": 0.042338,
     "end_time": "2021-07-29T19:16:08.652418",
     "exception": false,
     "start_time": "2021-07-29T19:16:08.610080",
     "status": "completed"
    },
    "tags": []
   },
   "outputs": [],
   "source": [
    "gold_standard_info = (\n",
    "    gold_standard.set_index([\"trait\", \"drug\"])\n",
    "    .join(\n",
    "        gold_standard_info.rename(\n",
    "            columns={\"doid_id\": \"trait\", \"drugbank_id\": \"drug\"}\n",
    "        ).set_index([\"trait\", \"drug\"])\n",
    "    )\n",
    "    .reset_index()\n",
    ")"
   ]
  },
  {
   "cell_type": "code",
   "execution_count": 16,
   "metadata": {
    "execution": {
     "iopub.execute_input": "2021-07-29T19:16:08.706249Z",
     "iopub.status.busy": "2021-07-29T19:16:08.705881Z",
     "iopub.status.idle": "2021-07-29T19:16:08.713865Z",
     "shell.execute_reply": "2021-07-29T19:16:08.713522Z"
    },
    "papermill": {
     "duration": 0.035143,
     "end_time": "2021-07-29T19:16:08.713949",
     "exception": false,
     "start_time": "2021-07-29T19:16:08.678806",
     "status": "completed"
    },
    "tags": []
   },
   "outputs": [
    {
     "data": {
      "text/plain": [
       "(998, 8)"
      ]
     },
     "execution_count": 16,
     "metadata": {},
     "output_type": "execute_result"
    }
   ],
   "source": [
    "gold_standard_info.shape"
   ]
  },
  {
   "cell_type": "code",
   "execution_count": 17,
   "metadata": {
    "execution": {
     "iopub.execute_input": "2021-07-29T19:16:08.768772Z",
     "iopub.status.busy": "2021-07-29T19:16:08.768374Z",
     "iopub.status.idle": "2021-07-29T19:16:08.780510Z",
     "shell.execute_reply": "2021-07-29T19:16:08.780141Z"
    },
    "papermill": {
     "duration": 0.040061,
     "end_time": "2021-07-29T19:16:08.780592",
     "exception": false,
     "start_time": "2021-07-29T19:16:08.740531",
     "status": "completed"
    },
    "tags": []
   },
   "outputs": [
    {
     "data": {
      "text/html": [
       "<div>\n",
       "<style scoped>\n",
       "    .dataframe tbody tr th:only-of-type {\n",
       "        vertical-align: middle;\n",
       "    }\n",
       "\n",
       "    .dataframe tbody tr th {\n",
       "        vertical-align: top;\n",
       "    }\n",
       "\n",
       "    .dataframe thead th {\n",
       "        text-align: right;\n",
       "    }\n",
       "</style>\n",
       "<table border=\"1\" class=\"dataframe\">\n",
       "  <thead>\n",
       "    <tr style=\"text-align: right;\">\n",
       "      <th></th>\n",
       "      <th>trait</th>\n",
       "      <th>drug</th>\n",
       "      <th>true_class</th>\n",
       "      <th>disease</th>\n",
       "      <th>drug_name</th>\n",
       "      <th>category</th>\n",
       "      <th>n_curators</th>\n",
       "      <th>n_resources</th>\n",
       "    </tr>\n",
       "  </thead>\n",
       "  <tbody>\n",
       "    <tr>\n",
       "      <th>0</th>\n",
       "      <td>DOID:10652</td>\n",
       "      <td>DB00843</td>\n",
       "      <td>1</td>\n",
       "      <td>Alzheimer's disease</td>\n",
       "      <td>Donepezil</td>\n",
       "      <td>DM</td>\n",
       "      <td>2</td>\n",
       "      <td>1</td>\n",
       "    </tr>\n",
       "    <tr>\n",
       "      <th>1</th>\n",
       "      <td>DOID:10652</td>\n",
       "      <td>DB00674</td>\n",
       "      <td>1</td>\n",
       "      <td>Alzheimer's disease</td>\n",
       "      <td>Galantamine</td>\n",
       "      <td>DM</td>\n",
       "      <td>1</td>\n",
       "      <td>4</td>\n",
       "    </tr>\n",
       "    <tr>\n",
       "      <th>2</th>\n",
       "      <td>DOID:10652</td>\n",
       "      <td>DB01043</td>\n",
       "      <td>1</td>\n",
       "      <td>Alzheimer's disease</td>\n",
       "      <td>Memantine</td>\n",
       "      <td>DM</td>\n",
       "      <td>1</td>\n",
       "      <td>3</td>\n",
       "    </tr>\n",
       "    <tr>\n",
       "      <th>3</th>\n",
       "      <td>DOID:10652</td>\n",
       "      <td>DB00989</td>\n",
       "      <td>1</td>\n",
       "      <td>Alzheimer's disease</td>\n",
       "      <td>Rivastigmine</td>\n",
       "      <td>DM</td>\n",
       "      <td>1</td>\n",
       "      <td>3</td>\n",
       "    </tr>\n",
       "    <tr>\n",
       "      <th>4</th>\n",
       "      <td>DOID:10652</td>\n",
       "      <td>DB00810</td>\n",
       "      <td>0</td>\n",
       "      <td>Alzheimer's disease</td>\n",
       "      <td>Biperiden</td>\n",
       "      <td>NOT</td>\n",
       "      <td>2</td>\n",
       "      <td>1</td>\n",
       "    </tr>\n",
       "  </tbody>\n",
       "</table>\n",
       "</div>"
      ],
      "text/plain": [
       "        trait     drug  true_class              disease     drug_name  \\\n",
       "0  DOID:10652  DB00843           1  Alzheimer's disease     Donepezil   \n",
       "1  DOID:10652  DB00674           1  Alzheimer's disease   Galantamine   \n",
       "2  DOID:10652  DB01043           1  Alzheimer's disease     Memantine   \n",
       "3  DOID:10652  DB00989           1  Alzheimer's disease  Rivastigmine   \n",
       "4  DOID:10652  DB00810           0  Alzheimer's disease     Biperiden   \n",
       "\n",
       "  category  n_curators  n_resources  \n",
       "0       DM           2            1  \n",
       "1       DM           1            4  \n",
       "2       DM           1            3  \n",
       "3       DM           1            3  \n",
       "4      NOT           2            1  "
      ]
     },
     "execution_count": 17,
     "metadata": {},
     "output_type": "execute_result"
    }
   ],
   "source": [
    "gold_standard_info.head()"
   ]
  },
  {
   "cell_type": "markdown",
   "metadata": {
    "papermill": {
     "duration": 0.0262,
     "end_time": "2021-07-29T19:16:08.832730",
     "exception": false,
     "start_time": "2021-07-29T19:16:08.806530",
     "status": "completed"
    },
    "tags": []
   },
   "source": [
    "## LINCS data"
   ]
  },
  {
   "cell_type": "code",
   "execution_count": 18,
   "metadata": {
    "execution": {
     "iopub.execute_input": "2021-07-29T19:16:08.887377Z",
     "iopub.status.busy": "2021-07-29T19:16:08.887020Z",
     "iopub.status.idle": "2021-07-29T19:16:08.895031Z",
     "shell.execute_reply": "2021-07-29T19:16:08.894682Z"
    },
    "papermill": {
     "duration": 0.036262,
     "end_time": "2021-07-29T19:16:08.895112",
     "exception": false,
     "start_time": "2021-07-29T19:16:08.858850",
     "status": "completed"
    },
    "tags": []
   },
   "outputs": [
    {
     "data": {
      "text/plain": [
       "PosixPath('/home/miltondp/projects/labs/greenelab/phenoplier/base/results/drug_disease_analyses/lincs/lincs-data.pkl')"
      ]
     },
     "metadata": {},
     "output_type": "display_data"
    }
   ],
   "source": [
    "input_file = Path(\n",
    "    conf.RESULTS[\"DRUG_DISEASE_ANALYSES\"], \"lincs\", \"lincs-data.pkl\"\n",
    ").resolve()\n",
    "\n",
    "display(input_file)"
   ]
  },
  {
   "cell_type": "code",
   "execution_count": 19,
   "metadata": {
    "execution": {
     "iopub.execute_input": "2021-07-29T19:16:08.950314Z",
     "iopub.status.busy": "2021-07-29T19:16:08.949953Z",
     "iopub.status.idle": "2021-07-29T19:16:09.018867Z",
     "shell.execute_reply": "2021-07-29T19:16:09.018441Z"
    },
    "papermill": {
     "duration": 0.0976,
     "end_time": "2021-07-29T19:16:09.018971",
     "exception": false,
     "start_time": "2021-07-29T19:16:08.921371",
     "status": "completed"
    },
    "tags": []
   },
   "outputs": [],
   "source": [
    "lincs_data = pd.read_pickle(input_file).T.rename(columns=Gene.GENE_ID_TO_NAME_MAP)"
   ]
  },
  {
   "cell_type": "code",
   "execution_count": 20,
   "metadata": {
    "execution": {
     "iopub.execute_input": "2021-07-29T19:16:09.078651Z",
     "iopub.status.busy": "2021-07-29T19:16:09.078296Z",
     "iopub.status.idle": "2021-07-29T19:16:09.086292Z",
     "shell.execute_reply": "2021-07-29T19:16:09.085985Z"
    },
    "papermill": {
     "duration": 0.036189,
     "end_time": "2021-07-29T19:16:09.086374",
     "exception": false,
     "start_time": "2021-07-29T19:16:09.050185",
     "status": "completed"
    },
    "tags": []
   },
   "outputs": [
    {
     "data": {
      "text/plain": [
       "(1170, 7120)"
      ]
     },
     "metadata": {},
     "output_type": "display_data"
    }
   ],
   "source": [
    "display(lincs_data.shape)"
   ]
  },
  {
   "cell_type": "code",
   "execution_count": 21,
   "metadata": {
    "execution": {
     "iopub.execute_input": "2021-07-29T19:16:09.143039Z",
     "iopub.status.busy": "2021-07-29T19:16:09.142643Z",
     "iopub.status.idle": "2021-07-29T19:16:09.163805Z",
     "shell.execute_reply": "2021-07-29T19:16:09.163453Z"
    },
    "papermill": {
     "duration": 0.050463,
     "end_time": "2021-07-29T19:16:09.163892",
     "exception": false,
     "start_time": "2021-07-29T19:16:09.113429",
     "status": "completed"
    },
    "tags": []
   },
   "outputs": [
    {
     "data": {
      "text/html": [
       "<div>\n",
       "<style scoped>\n",
       "    .dataframe tbody tr th:only-of-type {\n",
       "        vertical-align: middle;\n",
       "    }\n",
       "\n",
       "    .dataframe tbody tr th {\n",
       "        vertical-align: top;\n",
       "    }\n",
       "\n",
       "    .dataframe thead th {\n",
       "        text-align: right;\n",
       "    }\n",
       "</style>\n",
       "<table border=\"1\" class=\"dataframe\">\n",
       "  <thead>\n",
       "    <tr style=\"text-align: right;\">\n",
       "      <th></th>\n",
       "      <th>ADA</th>\n",
       "      <th>CDH2</th>\n",
       "      <th>AKT3</th>\n",
       "      <th>MED6</th>\n",
       "      <th>ACOT8</th>\n",
       "      <th>ABI1</th>\n",
       "      <th>GNPDA1</th>\n",
       "      <th>CDH3</th>\n",
       "      <th>TANK</th>\n",
       "      <th>TOPORS-AS1</th>\n",
       "      <th>...</th>\n",
       "      <th>RBX1</th>\n",
       "      <th>CDC42</th>\n",
       "      <th>THOC1</th>\n",
       "      <th>RCE1</th>\n",
       "      <th>HNRNPDL</th>\n",
       "      <th>DMTF1</th>\n",
       "      <th>PPP4R1</th>\n",
       "      <th>CDH1</th>\n",
       "      <th>PTBP3</th>\n",
       "      <th>CASP8AP2</th>\n",
       "    </tr>\n",
       "    <tr>\n",
       "      <th>perturbagen</th>\n",
       "      <th></th>\n",
       "      <th></th>\n",
       "      <th></th>\n",
       "      <th></th>\n",
       "      <th></th>\n",
       "      <th></th>\n",
       "      <th></th>\n",
       "      <th></th>\n",
       "      <th></th>\n",
       "      <th></th>\n",
       "      <th></th>\n",
       "      <th></th>\n",
       "      <th></th>\n",
       "      <th></th>\n",
       "      <th></th>\n",
       "      <th></th>\n",
       "      <th></th>\n",
       "      <th></th>\n",
       "      <th></th>\n",
       "      <th></th>\n",
       "      <th></th>\n",
       "    </tr>\n",
       "  </thead>\n",
       "  <tbody>\n",
       "    <tr>\n",
       "      <th>DB00014</th>\n",
       "      <td>-1.001</td>\n",
       "      <td>1.146</td>\n",
       "      <td>-0.693</td>\n",
       "      <td>-0.037</td>\n",
       "      <td>0.162</td>\n",
       "      <td>-0.380</td>\n",
       "      <td>0.649</td>\n",
       "      <td>-1.952</td>\n",
       "      <td>0.294</td>\n",
       "      <td>0.274</td>\n",
       "      <td>...</td>\n",
       "      <td>-0.592</td>\n",
       "      <td>0.178</td>\n",
       "      <td>0.270</td>\n",
       "      <td>-0.013</td>\n",
       "      <td>0.351</td>\n",
       "      <td>-0.128</td>\n",
       "      <td>0.274</td>\n",
       "      <td>-0.734</td>\n",
       "      <td>-0.048</td>\n",
       "      <td>0.036</td>\n",
       "    </tr>\n",
       "    <tr>\n",
       "      <th>DB00091</th>\n",
       "      <td>-1.835</td>\n",
       "      <td>-1.863</td>\n",
       "      <td>1.694</td>\n",
       "      <td>0.383</td>\n",
       "      <td>-0.899</td>\n",
       "      <td>0.628</td>\n",
       "      <td>-4.878</td>\n",
       "      <td>2.527</td>\n",
       "      <td>1.709</td>\n",
       "      <td>-0.981</td>\n",
       "      <td>...</td>\n",
       "      <td>-0.668</td>\n",
       "      <td>-2.795</td>\n",
       "      <td>-0.333</td>\n",
       "      <td>-0.027</td>\n",
       "      <td>0.578</td>\n",
       "      <td>6.926</td>\n",
       "      <td>-1.875</td>\n",
       "      <td>4.382</td>\n",
       "      <td>0.266</td>\n",
       "      <td>-4.995</td>\n",
       "    </tr>\n",
       "    <tr>\n",
       "      <th>DB00121</th>\n",
       "      <td>1.391</td>\n",
       "      <td>0.011</td>\n",
       "      <td>-0.804</td>\n",
       "      <td>0.269</td>\n",
       "      <td>0.105</td>\n",
       "      <td>-0.588</td>\n",
       "      <td>-1.899</td>\n",
       "      <td>0.306</td>\n",
       "      <td>-1.178</td>\n",
       "      <td>0.120</td>\n",
       "      <td>...</td>\n",
       "      <td>-0.962</td>\n",
       "      <td>0.450</td>\n",
       "      <td>-0.999</td>\n",
       "      <td>1.358</td>\n",
       "      <td>-1.476</td>\n",
       "      <td>0.423</td>\n",
       "      <td>-1.356</td>\n",
       "      <td>-1.897</td>\n",
       "      <td>-0.299</td>\n",
       "      <td>-0.732</td>\n",
       "    </tr>\n",
       "    <tr>\n",
       "      <th>DB00130</th>\n",
       "      <td>1.132</td>\n",
       "      <td>-1.020</td>\n",
       "      <td>-0.164</td>\n",
       "      <td>-0.997</td>\n",
       "      <td>-0.090</td>\n",
       "      <td>0.195</td>\n",
       "      <td>-2.341</td>\n",
       "      <td>0.494</td>\n",
       "      <td>-0.813</td>\n",
       "      <td>-1.140</td>\n",
       "      <td>...</td>\n",
       "      <td>-0.553</td>\n",
       "      <td>-0.528</td>\n",
       "      <td>0.308</td>\n",
       "      <td>0.534</td>\n",
       "      <td>-0.320</td>\n",
       "      <td>3.001</td>\n",
       "      <td>-0.414</td>\n",
       "      <td>0.134</td>\n",
       "      <td>0.147</td>\n",
       "      <td>2.158</td>\n",
       "    </tr>\n",
       "    <tr>\n",
       "      <th>DB00131</th>\n",
       "      <td>0.257</td>\n",
       "      <td>1.143</td>\n",
       "      <td>1.145</td>\n",
       "      <td>0.185</td>\n",
       "      <td>-1.291</td>\n",
       "      <td>-0.457</td>\n",
       "      <td>0.038</td>\n",
       "      <td>1.442</td>\n",
       "      <td>-1.692</td>\n",
       "      <td>0.593</td>\n",
       "      <td>...</td>\n",
       "      <td>-0.556</td>\n",
       "      <td>-0.600</td>\n",
       "      <td>0.092</td>\n",
       "      <td>-0.564</td>\n",
       "      <td>0.174</td>\n",
       "      <td>-1.203</td>\n",
       "      <td>-1.080</td>\n",
       "      <td>-0.575</td>\n",
       "      <td>-0.792</td>\n",
       "      <td>-0.095</td>\n",
       "    </tr>\n",
       "  </tbody>\n",
       "</table>\n",
       "<p>5 rows × 7120 columns</p>\n",
       "</div>"
      ],
      "text/plain": [
       "               ADA   CDH2   AKT3   MED6  ACOT8   ABI1  GNPDA1   CDH3   TANK  \\\n",
       "perturbagen                                                                   \n",
       "DB00014     -1.001  1.146 -0.693 -0.037  0.162 -0.380   0.649 -1.952  0.294   \n",
       "DB00091     -1.835 -1.863  1.694  0.383 -0.899  0.628  -4.878  2.527  1.709   \n",
       "DB00121      1.391  0.011 -0.804  0.269  0.105 -0.588  -1.899  0.306 -1.178   \n",
       "DB00130      1.132 -1.020 -0.164 -0.997 -0.090  0.195  -2.341  0.494 -0.813   \n",
       "DB00131      0.257  1.143  1.145  0.185 -1.291 -0.457   0.038  1.442 -1.692   \n",
       "\n",
       "             TOPORS-AS1  ...   RBX1  CDC42  THOC1   RCE1  HNRNPDL  DMTF1  \\\n",
       "perturbagen              ...                                               \n",
       "DB00014           0.274  ... -0.592  0.178  0.270 -0.013    0.351 -0.128   \n",
       "DB00091          -0.981  ... -0.668 -2.795 -0.333 -0.027    0.578  6.926   \n",
       "DB00121           0.120  ... -0.962  0.450 -0.999  1.358   -1.476  0.423   \n",
       "DB00130          -1.140  ... -0.553 -0.528  0.308  0.534   -0.320  3.001   \n",
       "DB00131           0.593  ... -0.556 -0.600  0.092 -0.564    0.174 -1.203   \n",
       "\n",
       "             PPP4R1   CDH1  PTBP3  CASP8AP2  \n",
       "perturbagen                                  \n",
       "DB00014       0.274 -0.734 -0.048     0.036  \n",
       "DB00091      -1.875  4.382  0.266    -4.995  \n",
       "DB00121      -1.356 -1.897 -0.299    -0.732  \n",
       "DB00130      -0.414  0.134  0.147     2.158  \n",
       "DB00131      -1.080 -0.575 -0.792    -0.095  \n",
       "\n",
       "[5 rows x 7120 columns]"
      ]
     },
     "metadata": {},
     "output_type": "display_data"
    }
   ],
   "source": [
    "display(lincs_data.head())"
   ]
  },
  {
   "cell_type": "markdown",
   "metadata": {
    "papermill": {
     "duration": 0.026841,
     "end_time": "2021-07-29T19:16:09.218875",
     "exception": false,
     "start_time": "2021-07-29T19:16:09.192034",
     "status": "completed"
    },
    "tags": []
   },
   "source": [
    "## LINCS projection"
   ]
  },
  {
   "cell_type": "code",
   "execution_count": 22,
   "metadata": {
    "execution": {
     "iopub.execute_input": "2021-07-29T19:16:09.275358Z",
     "iopub.status.busy": "2021-07-29T19:16:09.274980Z",
     "iopub.status.idle": "2021-07-29T19:16:09.283195Z",
     "shell.execute_reply": "2021-07-29T19:16:09.282839Z"
    },
    "papermill": {
     "duration": 0.037613,
     "end_time": "2021-07-29T19:16:09.283276",
     "exception": false,
     "start_time": "2021-07-29T19:16:09.245663",
     "status": "completed"
    },
    "tags": []
   },
   "outputs": [
    {
     "data": {
      "text/plain": [
       "PosixPath('/home/miltondp/projects/labs/greenelab/phenoplier/base/results/drug_disease_analyses/lincs/lincs-projection.pkl')"
      ]
     },
     "metadata": {},
     "output_type": "display_data"
    }
   ],
   "source": [
    "input_file = Path(\n",
    "    conf.RESULTS[\"DRUG_DISEASE_ANALYSES\"], \"lincs\", \"lincs-projection.pkl\"\n",
    ").resolve()\n",
    "\n",
    "display(input_file)"
   ]
  },
  {
   "cell_type": "code",
   "execution_count": 23,
   "metadata": {
    "execution": {
     "iopub.execute_input": "2021-07-29T19:16:09.339954Z",
     "iopub.status.busy": "2021-07-29T19:16:09.339591Z",
     "iopub.status.idle": "2021-07-29T19:16:09.396785Z",
     "shell.execute_reply": "2021-07-29T19:16:09.396385Z"
    },
    "papermill": {
     "duration": 0.086357,
     "end_time": "2021-07-29T19:16:09.396894",
     "exception": false,
     "start_time": "2021-07-29T19:16:09.310537",
     "status": "completed"
    },
    "tags": []
   },
   "outputs": [],
   "source": [
    "lincs_projection = pd.read_pickle(input_file).T"
   ]
  },
  {
   "cell_type": "code",
   "execution_count": 24,
   "metadata": {
    "execution": {
     "iopub.execute_input": "2021-07-29T19:16:09.457788Z",
     "iopub.status.busy": "2021-07-29T19:16:09.457435Z",
     "iopub.status.idle": "2021-07-29T19:16:09.465186Z",
     "shell.execute_reply": "2021-07-29T19:16:09.465460Z"
    },
    "papermill": {
     "duration": 0.037455,
     "end_time": "2021-07-29T19:16:09.465562",
     "exception": false,
     "start_time": "2021-07-29T19:16:09.428107",
     "status": "completed"
    },
    "tags": []
   },
   "outputs": [
    {
     "data": {
      "text/plain": [
       "(1170, 987)"
      ]
     },
     "metadata": {},
     "output_type": "display_data"
    }
   ],
   "source": [
    "display(lincs_projection.shape)"
   ]
  },
  {
   "cell_type": "code",
   "execution_count": 25,
   "metadata": {
    "execution": {
     "iopub.execute_input": "2021-07-29T19:16:09.522944Z",
     "iopub.status.busy": "2021-07-29T19:16:09.522589Z",
     "iopub.status.idle": "2021-07-29T19:16:09.541114Z",
     "shell.execute_reply": "2021-07-29T19:16:09.541475Z"
    },
    "papermill": {
     "duration": 0.048465,
     "end_time": "2021-07-29T19:16:09.541579",
     "exception": false,
     "start_time": "2021-07-29T19:16:09.493114",
     "status": "completed"
    },
    "tags": []
   },
   "outputs": [
    {
     "data": {
      "text/html": [
       "<div>\n",
       "<style scoped>\n",
       "    .dataframe tbody tr th:only-of-type {\n",
       "        vertical-align: middle;\n",
       "    }\n",
       "\n",
       "    .dataframe tbody tr th {\n",
       "        vertical-align: top;\n",
       "    }\n",
       "\n",
       "    .dataframe thead th {\n",
       "        text-align: right;\n",
       "    }\n",
       "</style>\n",
       "<table border=\"1\" class=\"dataframe\">\n",
       "  <thead>\n",
       "    <tr style=\"text-align: right;\">\n",
       "      <th></th>\n",
       "      <th>LV1</th>\n",
       "      <th>LV2</th>\n",
       "      <th>LV3</th>\n",
       "      <th>LV4</th>\n",
       "      <th>LV5</th>\n",
       "      <th>LV6</th>\n",
       "      <th>LV7</th>\n",
       "      <th>LV8</th>\n",
       "      <th>LV9</th>\n",
       "      <th>LV10</th>\n",
       "      <th>...</th>\n",
       "      <th>LV978</th>\n",
       "      <th>LV979</th>\n",
       "      <th>LV980</th>\n",
       "      <th>LV981</th>\n",
       "      <th>LV982</th>\n",
       "      <th>LV983</th>\n",
       "      <th>LV984</th>\n",
       "      <th>LV985</th>\n",
       "      <th>LV986</th>\n",
       "      <th>LV987</th>\n",
       "    </tr>\n",
       "    <tr>\n",
       "      <th>perturbagen</th>\n",
       "      <th></th>\n",
       "      <th></th>\n",
       "      <th></th>\n",
       "      <th></th>\n",
       "      <th></th>\n",
       "      <th></th>\n",
       "      <th></th>\n",
       "      <th></th>\n",
       "      <th></th>\n",
       "      <th></th>\n",
       "      <th></th>\n",
       "      <th></th>\n",
       "      <th></th>\n",
       "      <th></th>\n",
       "      <th></th>\n",
       "      <th></th>\n",
       "      <th></th>\n",
       "      <th></th>\n",
       "      <th></th>\n",
       "      <th></th>\n",
       "      <th></th>\n",
       "    </tr>\n",
       "  </thead>\n",
       "  <tbody>\n",
       "    <tr>\n",
       "      <th>DB00014</th>\n",
       "      <td>0.036115</td>\n",
       "      <td>0.012281</td>\n",
       "      <td>-0.005533</td>\n",
       "      <td>-0.004151</td>\n",
       "      <td>-0.015156</td>\n",
       "      <td>-0.010861</td>\n",
       "      <td>0.008181</td>\n",
       "      <td>-0.008148</td>\n",
       "      <td>0.004948</td>\n",
       "      <td>-0.009869</td>\n",
       "      <td>...</td>\n",
       "      <td>-0.003139</td>\n",
       "      <td>0.003546</td>\n",
       "      <td>-0.006242</td>\n",
       "      <td>0.002449</td>\n",
       "      <td>-0.004391</td>\n",
       "      <td>-0.004334</td>\n",
       "      <td>-0.019902</td>\n",
       "      <td>0.004292</td>\n",
       "      <td>-0.010378</td>\n",
       "      <td>0.002000</td>\n",
       "    </tr>\n",
       "    <tr>\n",
       "      <th>DB00091</th>\n",
       "      <td>-0.358610</td>\n",
       "      <td>0.009738</td>\n",
       "      <td>-0.059174</td>\n",
       "      <td>-0.032884</td>\n",
       "      <td>-0.005276</td>\n",
       "      <td>0.063369</td>\n",
       "      <td>-0.079522</td>\n",
       "      <td>-0.018980</td>\n",
       "      <td>-0.025782</td>\n",
       "      <td>0.021540</td>\n",
       "      <td>...</td>\n",
       "      <td>-0.019892</td>\n",
       "      <td>0.003610</td>\n",
       "      <td>-0.016165</td>\n",
       "      <td>0.008686</td>\n",
       "      <td>0.065335</td>\n",
       "      <td>-0.042051</td>\n",
       "      <td>0.065516</td>\n",
       "      <td>0.016261</td>\n",
       "      <td>0.056314</td>\n",
       "      <td>-0.051035</td>\n",
       "    </tr>\n",
       "    <tr>\n",
       "      <th>DB00121</th>\n",
       "      <td>0.091067</td>\n",
       "      <td>0.004650</td>\n",
       "      <td>0.013454</td>\n",
       "      <td>0.005934</td>\n",
       "      <td>0.025747</td>\n",
       "      <td>0.004324</td>\n",
       "      <td>-0.001865</td>\n",
       "      <td>-0.019613</td>\n",
       "      <td>0.051503</td>\n",
       "      <td>0.013032</td>\n",
       "      <td>...</td>\n",
       "      <td>0.001629</td>\n",
       "      <td>-0.012565</td>\n",
       "      <td>0.009613</td>\n",
       "      <td>-0.014404</td>\n",
       "      <td>-0.009188</td>\n",
       "      <td>0.006544</td>\n",
       "      <td>0.047466</td>\n",
       "      <td>-0.016220</td>\n",
       "      <td>-0.018844</td>\n",
       "      <td>0.034675</td>\n",
       "    </tr>\n",
       "    <tr>\n",
       "      <th>DB00130</th>\n",
       "      <td>0.008923</td>\n",
       "      <td>-0.006554</td>\n",
       "      <td>0.008906</td>\n",
       "      <td>-0.003991</td>\n",
       "      <td>0.000346</td>\n",
       "      <td>0.008212</td>\n",
       "      <td>0.001242</td>\n",
       "      <td>-0.012771</td>\n",
       "      <td>0.014221</td>\n",
       "      <td>0.008269</td>\n",
       "      <td>...</td>\n",
       "      <td>-0.026139</td>\n",
       "      <td>-0.002977</td>\n",
       "      <td>0.021969</td>\n",
       "      <td>0.001204</td>\n",
       "      <td>-0.012731</td>\n",
       "      <td>-0.000076</td>\n",
       "      <td>-0.029127</td>\n",
       "      <td>-0.022679</td>\n",
       "      <td>0.016179</td>\n",
       "      <td>-0.003029</td>\n",
       "    </tr>\n",
       "    <tr>\n",
       "      <th>DB00131</th>\n",
       "      <td>0.046469</td>\n",
       "      <td>0.021758</td>\n",
       "      <td>-0.004939</td>\n",
       "      <td>-0.028524</td>\n",
       "      <td>-0.013932</td>\n",
       "      <td>0.012231</td>\n",
       "      <td>-0.001325</td>\n",
       "      <td>0.003787</td>\n",
       "      <td>0.035189</td>\n",
       "      <td>-0.004377</td>\n",
       "      <td>...</td>\n",
       "      <td>0.017373</td>\n",
       "      <td>0.005304</td>\n",
       "      <td>-0.001649</td>\n",
       "      <td>0.004017</td>\n",
       "      <td>-0.000622</td>\n",
       "      <td>-0.006477</td>\n",
       "      <td>0.021663</td>\n",
       "      <td>0.000988</td>\n",
       "      <td>0.002038</td>\n",
       "      <td>-0.011747</td>\n",
       "    </tr>\n",
       "  </tbody>\n",
       "</table>\n",
       "<p>5 rows × 987 columns</p>\n",
       "</div>"
      ],
      "text/plain": [
       "                  LV1       LV2       LV3       LV4       LV5       LV6  \\\n",
       "perturbagen                                                               \n",
       "DB00014      0.036115  0.012281 -0.005533 -0.004151 -0.015156 -0.010861   \n",
       "DB00091     -0.358610  0.009738 -0.059174 -0.032884 -0.005276  0.063369   \n",
       "DB00121      0.091067  0.004650  0.013454  0.005934  0.025747  0.004324   \n",
       "DB00130      0.008923 -0.006554  0.008906 -0.003991  0.000346  0.008212   \n",
       "DB00131      0.046469  0.021758 -0.004939 -0.028524 -0.013932  0.012231   \n",
       "\n",
       "                  LV7       LV8       LV9      LV10  ...     LV978     LV979  \\\n",
       "perturbagen                                          ...                       \n",
       "DB00014      0.008181 -0.008148  0.004948 -0.009869  ... -0.003139  0.003546   \n",
       "DB00091     -0.079522 -0.018980 -0.025782  0.021540  ... -0.019892  0.003610   \n",
       "DB00121     -0.001865 -0.019613  0.051503  0.013032  ...  0.001629 -0.012565   \n",
       "DB00130      0.001242 -0.012771  0.014221  0.008269  ... -0.026139 -0.002977   \n",
       "DB00131     -0.001325  0.003787  0.035189 -0.004377  ...  0.017373  0.005304   \n",
       "\n",
       "                LV980     LV981     LV982     LV983     LV984     LV985  \\\n",
       "perturbagen                                                               \n",
       "DB00014     -0.006242  0.002449 -0.004391 -0.004334 -0.019902  0.004292   \n",
       "DB00091     -0.016165  0.008686  0.065335 -0.042051  0.065516  0.016261   \n",
       "DB00121      0.009613 -0.014404 -0.009188  0.006544  0.047466 -0.016220   \n",
       "DB00130      0.021969  0.001204 -0.012731 -0.000076 -0.029127 -0.022679   \n",
       "DB00131     -0.001649  0.004017 -0.000622 -0.006477  0.021663  0.000988   \n",
       "\n",
       "                LV986     LV987  \n",
       "perturbagen                      \n",
       "DB00014     -0.010378  0.002000  \n",
       "DB00091      0.056314 -0.051035  \n",
       "DB00121     -0.018844  0.034675  \n",
       "DB00130      0.016179 -0.003029  \n",
       "DB00131      0.002038 -0.011747  \n",
       "\n",
       "[5 rows x 987 columns]"
      ]
     },
     "metadata": {},
     "output_type": "display_data"
    }
   ],
   "source": [
    "display(lincs_projection.head())"
   ]
  },
  {
   "cell_type": "markdown",
   "metadata": {
    "papermill": {
     "duration": 0.027588,
     "end_time": "2021-07-29T19:16:09.597878",
     "exception": false,
     "start_time": "2021-07-29T19:16:09.570290",
     "status": "completed"
    },
    "tags": []
   },
   "source": [
    "# Niacin and cardiovascular diseases"
   ]
  },
  {
   "cell_type": "markdown",
   "metadata": {
    "papermill": {
     "duration": 0.028238,
     "end_time": "2021-07-29T19:16:09.653757",
     "exception": false,
     "start_time": "2021-07-29T19:16:09.625519",
     "status": "completed"
    },
    "tags": []
   },
   "source": [
    "## Select traits and show their sample size"
   ]
  },
  {
   "cell_type": "code",
   "execution_count": 26,
   "metadata": {
    "execution": {
     "iopub.execute_input": "2021-07-29T19:16:09.711057Z",
     "iopub.status.busy": "2021-07-29T19:16:09.710699Z",
     "iopub.status.idle": "2021-07-29T19:16:09.729508Z",
     "shell.execute_reply": "2021-07-29T19:16:09.729787Z"
    },
    "papermill": {
     "duration": 0.048835,
     "end_time": "2021-07-29T19:16:09.729891",
     "exception": false,
     "start_time": "2021-07-29T19:16:09.681056",
     "status": "completed"
    },
    "tags": []
   },
   "outputs": [
    {
     "data": {
      "text/plain": [
       "[I70-Diagnoses_main_ICD10_I70_Atherosclerosis]"
      ]
     },
     "execution_count": 26,
     "metadata": {},
     "output_type": "execute_result"
    }
   ],
   "source": [
    "Trait.get_traits_from_efo(\"atherosclerosis\")"
   ]
  },
  {
   "cell_type": "code",
   "execution_count": 27,
   "metadata": {
    "execution": {
     "iopub.execute_input": "2021-07-29T19:16:09.789425Z",
     "iopub.status.busy": "2021-07-29T19:16:09.789072Z",
     "iopub.status.idle": "2021-07-29T19:16:09.799306Z",
     "shell.execute_reply": "2021-07-29T19:16:09.798940Z"
    },
    "papermill": {
     "duration": 0.040477,
     "end_time": "2021-07-29T19:16:09.799389",
     "exception": false,
     "start_time": "2021-07-29T19:16:09.758912",
     "status": "completed"
    },
    "tags": []
   },
   "outputs": [
    {
     "data": {
      "text/plain": [
       "[I25-Diagnoses_main_ICD10_I25_Chronic_ischaemic_heart_disease,\n",
       " CARDIoGRAM_C4D_CAD_ADDITIVE]"
      ]
     },
     "execution_count": 27,
     "metadata": {},
     "output_type": "execute_result"
    }
   ],
   "source": [
    "Trait.get_traits_from_efo(\"coronary artery disease\")"
   ]
  },
  {
   "cell_type": "code",
   "execution_count": 28,
   "metadata": {
    "execution": {
     "iopub.execute_input": "2021-07-29T19:16:09.860809Z",
     "iopub.status.busy": "2021-07-29T19:16:09.860381Z",
     "iopub.status.idle": "2021-07-29T19:16:09.867697Z",
     "shell.execute_reply": "2021-07-29T19:16:09.867362Z"
    },
    "papermill": {
     "duration": 0.039343,
     "end_time": "2021-07-29T19:16:09.867791",
     "exception": false,
     "start_time": "2021-07-29T19:16:09.828448",
     "status": "completed"
    },
    "tags": []
   },
   "outputs": [],
   "source": [
    "_phenomexcan_traits = [\n",
    "    \"I70-Diagnoses_main_ICD10_I70_Atherosclerosis\",\n",
    "    \"CARDIoGRAM_C4D_CAD_ADDITIVE\",\n",
    "    \"I25-Diagnoses_main_ICD10_I25_Chronic_ischaemic_heart_disease\",\n",
    "    \"20002_1473-Noncancer_illness_code_selfreported_high_cholesterol\",\n",
    "    \"6150_100-Vascularheart_problems_diagnosed_by_doctor_None_of_the_above\",\n",
    "    \"6150_1-Vascularheart_problems_diagnosed_by_doctor_Heart_attack\",\n",
    "    \"I9_CHD-Major_coronary_heart_disease_event\",\n",
    "    \"I9_CORATHER-Coronary_atherosclerosis\",\n",
    "    \"I9_IHD-Ischaemic_heart_disease_wide_definition\",\n",
    "    \"I9_MI-Myocardial_infarction\",\n",
    "    \"I21-Diagnoses_main_ICD10_I21_Acute_myocardial_infarction\",\n",
    "    \"20002_1075-Noncancer_illness_code_selfreported_heart_attackmyocardial_infarction\",\n",
    "]\n",
    "\n",
    "_drug_id = \"DB00627\"\n",
    "_drug_name = \"Niacin\""
   ]
  },
  {
   "cell_type": "code",
   "execution_count": 29,
   "metadata": {
    "execution": {
     "iopub.execute_input": "2021-07-29T19:16:09.954167Z",
     "iopub.status.busy": "2021-07-29T19:16:09.953794Z",
     "iopub.status.idle": "2021-07-29T19:16:09.965182Z",
     "shell.execute_reply": "2021-07-29T19:16:09.965480Z"
    },
    "papermill": {
     "duration": 0.048172,
     "end_time": "2021-07-29T19:16:09.965589",
     "exception": false,
     "start_time": "2021-07-29T19:16:09.917417",
     "status": "completed"
    },
    "tags": []
   },
   "outputs": [
    {
     "name": "stdout",
     "output_type": "stream",
     "text": [
      "I70-Diagnoses_main_ICD10_I70_Atherosclerosis\n",
      "(361194, 566.0)\n",
      "\n",
      "\n",
      "CARDIoGRAM_C4D_CAD_ADDITIVE\n",
      "(184305, 60801.0)\n",
      "\n",
      "\n",
      "I25-Diagnoses_main_ICD10_I25_Chronic_ischaemic_heart_disease\n",
      "(361194, 12769.0)\n",
      "\n",
      "\n",
      "20002_1473-Noncancer_illness_code_selfreported_high_cholesterol\n",
      "(361141, 43957.0)\n",
      "\n",
      "\n",
      "6150_100-Vascularheart_problems_diagnosed_by_doctor_None_of_the_above\n",
      "(360420, 253565.0)\n",
      "\n",
      "\n",
      "6150_1-Vascularheart_problems_diagnosed_by_doctor_Heart_attack\n",
      "(360420, 8288.0)\n",
      "\n",
      "\n",
      "I9_CHD-Major_coronary_heart_disease_event\n",
      "(361194, 10157.0)\n",
      "\n",
      "\n",
      "I9_CORATHER-Coronary_atherosclerosis\n",
      "(361194, 14334.0)\n",
      "\n",
      "\n",
      "I9_IHD-Ischaemic_heart_disease_wide_definition\n",
      "(361194, 20857.0)\n",
      "\n",
      "\n",
      "I9_MI-Myocardial_infarction\n",
      "(361194, 7018.0)\n",
      "\n",
      "\n",
      "I21-Diagnoses_main_ICD10_I21_Acute_myocardial_infarction\n",
      "(361194, 5948.0)\n",
      "\n",
      "\n",
      "20002_1075-Noncancer_illness_code_selfreported_heart_attackmyocardial_infarction\n",
      "(361141, 8239.0)\n",
      "\n",
      "\n"
     ]
    }
   ],
   "source": [
    "for p in _phenomexcan_traits:\n",
    "    print(p)\n",
    "    d = Trait.get_trait(full_code=p)\n",
    "    print((d.n, d.n_cases))\n",
    "\n",
    "    print(\"\\n\")"
   ]
  },
  {
   "cell_type": "markdown",
   "metadata": {
    "papermill": {
     "duration": 0.0285,
     "end_time": "2021-07-29T19:16:10.025955",
     "exception": false,
     "start_time": "2021-07-29T19:16:09.997455",
     "status": "completed"
    },
    "tags": []
   },
   "source": [
    "## Get best tissue results for Niacin"
   ]
  },
  {
   "cell_type": "code",
   "execution_count": 30,
   "metadata": {
    "execution": {
     "iopub.execute_input": "2021-07-29T19:16:10.086647Z",
     "iopub.status.busy": "2021-07-29T19:16:10.086286Z",
     "iopub.status.idle": "2021-07-29T19:16:14.926565Z",
     "shell.execute_reply": "2021-07-29T19:16:14.926883Z"
    },
    "papermill": {
     "duration": 4.872542,
     "end_time": "2021-07-29T19:16:14.926999",
     "exception": false,
     "start_time": "2021-07-29T19:16:10.054457",
     "status": "completed"
    },
    "tags": []
   },
   "outputs": [],
   "source": [
    "drugs_tissue_df = {}\n",
    "\n",
    "with pd.HDFStore(input_predictions_by_tissue_file, mode=\"r\") as store:\n",
    "    for tk in store.keys():\n",
    "        df = store[tk][_drug_id]\n",
    "\n",
    "        drugs_tissue_df[tk[1:]] = df"
   ]
  },
  {
   "cell_type": "code",
   "execution_count": 31,
   "metadata": {
    "execution": {
     "iopub.execute_input": "2021-07-29T19:16:14.989442Z",
     "iopub.status.busy": "2021-07-29T19:16:14.989080Z",
     "iopub.status.idle": "2021-07-29T19:16:15.037377Z",
     "shell.execute_reply": "2021-07-29T19:16:15.037010Z"
    },
    "papermill": {
     "duration": 0.079582,
     "end_time": "2021-07-29T19:16:15.037459",
     "exception": false,
     "start_time": "2021-07-29T19:16:14.957877",
     "status": "completed"
    },
    "tags": []
   },
   "outputs": [
    {
     "data": {
      "text/plain": [
       "(4091, 49)"
      ]
     },
     "metadata": {},
     "output_type": "display_data"
    },
    {
     "data": {
      "text/html": [
       "<div>\n",
       "<style scoped>\n",
       "    .dataframe tbody tr th:only-of-type {\n",
       "        vertical-align: middle;\n",
       "    }\n",
       "\n",
       "    .dataframe tbody tr th {\n",
       "        vertical-align: top;\n",
       "    }\n",
       "\n",
       "    .dataframe thead th {\n",
       "        text-align: right;\n",
       "    }\n",
       "</style>\n",
       "<table border=\"1\" class=\"dataframe\">\n",
       "  <thead>\n",
       "    <tr style=\"text-align: right;\">\n",
       "      <th></th>\n",
       "      <th>Adipose_Subcutaneous</th>\n",
       "      <th>Adipose_Visceral_Omentum</th>\n",
       "      <th>Adrenal_Gland</th>\n",
       "      <th>Artery_Aorta</th>\n",
       "      <th>Artery_Coronary</th>\n",
       "      <th>Artery_Tibial</th>\n",
       "      <th>Brain_Amygdala</th>\n",
       "      <th>Brain_Anterior_cingulate_cortex_BA24</th>\n",
       "      <th>Brain_Caudate_basal_ganglia</th>\n",
       "      <th>Brain_Cerebellar_Hemisphere</th>\n",
       "      <th>...</th>\n",
       "      <th>Skin_Not_Sun_Exposed_Suprapubic</th>\n",
       "      <th>Skin_Sun_Exposed_Lower_leg</th>\n",
       "      <th>Small_Intestine_Terminal_Ileum</th>\n",
       "      <th>Spleen</th>\n",
       "      <th>Stomach</th>\n",
       "      <th>Testis</th>\n",
       "      <th>Thyroid</th>\n",
       "      <th>Uterus</th>\n",
       "      <th>Vagina</th>\n",
       "      <th>Whole_Blood</th>\n",
       "    </tr>\n",
       "  </thead>\n",
       "  <tbody>\n",
       "    <tr>\n",
       "      <th>I9_PHLETHROMBDVTLOW-DVT_of_lower_extremities</th>\n",
       "      <td>2.225108e+06</td>\n",
       "      <td>3633306.50</td>\n",
       "      <td>3960107.250</td>\n",
       "      <td>1332054.75</td>\n",
       "      <td>2.182425e+06</td>\n",
       "      <td>4240339.00</td>\n",
       "      <td>2.487093e+06</td>\n",
       "      <td>2274668.50</td>\n",
       "      <td>1708839.625</td>\n",
       "      <td>2.311500e+06</td>\n",
       "      <td>...</td>\n",
       "      <td>3111573.000</td>\n",
       "      <td>1680886.375</td>\n",
       "      <td>2903454.00</td>\n",
       "      <td>1799322.375</td>\n",
       "      <td>1457560.625</td>\n",
       "      <td>3.024874e+06</td>\n",
       "      <td>3919868.00</td>\n",
       "      <td>3272210.50</td>\n",
       "      <td>1370451.000</td>\n",
       "      <td>3027555.750</td>\n",
       "    </tr>\n",
       "    <tr>\n",
       "      <th>I71-Diagnoses_main_ICD10_I71_Aortic_aneurysm_and_dissection</th>\n",
       "      <td>1.803573e+06</td>\n",
       "      <td>711574.00</td>\n",
       "      <td>1448934.750</td>\n",
       "      <td>4231713.00</td>\n",
       "      <td>1.607177e+06</td>\n",
       "      <td>1551651.25</td>\n",
       "      <td>1.389767e+06</td>\n",
       "      <td>3638570.00</td>\n",
       "      <td>2445540.500</td>\n",
       "      <td>3.317544e+06</td>\n",
       "      <td>...</td>\n",
       "      <td>1935886.625</td>\n",
       "      <td>2817997.000</td>\n",
       "      <td>1179611.25</td>\n",
       "      <td>1986576.250</td>\n",
       "      <td>1191470.250</td>\n",
       "      <td>2.691960e+06</td>\n",
       "      <td>1236895.75</td>\n",
       "      <td>3169182.25</td>\n",
       "      <td>1650408.625</td>\n",
       "      <td>2093344.375</td>\n",
       "    </tr>\n",
       "    <tr>\n",
       "      <th>G62-Diagnoses_main_ICD10_G62_Other_polyneuropathies</th>\n",
       "      <td>1.298787e+06</td>\n",
       "      <td>2518740.25</td>\n",
       "      <td>3957170.750</td>\n",
       "      <td>2937233.50</td>\n",
       "      <td>2.458553e+06</td>\n",
       "      <td>3229771.50</td>\n",
       "      <td>3.576149e+06</td>\n",
       "      <td>1369567.00</td>\n",
       "      <td>3312298.500</td>\n",
       "      <td>2.019896e+06</td>\n",
       "      <td>...</td>\n",
       "      <td>2011435.750</td>\n",
       "      <td>1944383.750</td>\n",
       "      <td>4573539.00</td>\n",
       "      <td>4539101.000</td>\n",
       "      <td>2696412.000</td>\n",
       "      <td>2.205179e+06</td>\n",
       "      <td>785903.00</td>\n",
       "      <td>1301301.75</td>\n",
       "      <td>4430059.000</td>\n",
       "      <td>3196323.500</td>\n",
       "    </tr>\n",
       "    <tr>\n",
       "      <th>2395_4-Hairbalding_pattern_Pattern_4</th>\n",
       "      <td>6.261082e+05</td>\n",
       "      <td>3038228.50</td>\n",
       "      <td>2098431.500</td>\n",
       "      <td>2826578.25</td>\n",
       "      <td>3.085218e+05</td>\n",
       "      <td>3097367.00</td>\n",
       "      <td>6.497158e+05</td>\n",
       "      <td>2836304.50</td>\n",
       "      <td>3183412.000</td>\n",
       "      <td>8.713652e+05</td>\n",
       "      <td>...</td>\n",
       "      <td>2939378.250</td>\n",
       "      <td>3161076.000</td>\n",
       "      <td>3586680.75</td>\n",
       "      <td>2400041.750</td>\n",
       "      <td>863019.625</td>\n",
       "      <td>9.284838e+05</td>\n",
       "      <td>2868830.25</td>\n",
       "      <td>1913291.25</td>\n",
       "      <td>2029917.375</td>\n",
       "      <td>3557621.500</td>\n",
       "    </tr>\n",
       "    <tr>\n",
       "      <th>20003_1141168590-Treatmentmedication_code_pariet_10mg_ec_tablet</th>\n",
       "      <td>3.017563e+06</td>\n",
       "      <td>1880510.75</td>\n",
       "      <td>1094152.375</td>\n",
       "      <td>4206760.50</td>\n",
       "      <td>4.452502e+06</td>\n",
       "      <td>4179176.75</td>\n",
       "      <td>2.875126e+06</td>\n",
       "      <td>2042720.75</td>\n",
       "      <td>2486881.750</td>\n",
       "      <td>3.534752e+06</td>\n",
       "      <td>...</td>\n",
       "      <td>2561731.750</td>\n",
       "      <td>516964.000</td>\n",
       "      <td>2166641.50</td>\n",
       "      <td>2783551.500</td>\n",
       "      <td>2651308.500</td>\n",
       "      <td>2.219414e+06</td>\n",
       "      <td>1217317.25</td>\n",
       "      <td>2210372.50</td>\n",
       "      <td>3053042.250</td>\n",
       "      <td>3362472.000</td>\n",
       "    </tr>\n",
       "  </tbody>\n",
       "</table>\n",
       "<p>5 rows × 49 columns</p>\n",
       "</div>"
      ],
      "text/plain": [
       "                                                    Adipose_Subcutaneous  \\\n",
       "I9_PHLETHROMBDVTLOW-DVT_of_lower_extremities                2.225108e+06   \n",
       "I71-Diagnoses_main_ICD10_I71_Aortic_aneurysm_an...          1.803573e+06   \n",
       "G62-Diagnoses_main_ICD10_G62_Other_polyneuropat...          1.298787e+06   \n",
       "2395_4-Hairbalding_pattern_Pattern_4                        6.261082e+05   \n",
       "20003_1141168590-Treatmentmedication_code_parie...          3.017563e+06   \n",
       "\n",
       "                                                    Adipose_Visceral_Omentum  \\\n",
       "I9_PHLETHROMBDVTLOW-DVT_of_lower_extremities                      3633306.50   \n",
       "I71-Diagnoses_main_ICD10_I71_Aortic_aneurysm_an...                 711574.00   \n",
       "G62-Diagnoses_main_ICD10_G62_Other_polyneuropat...                2518740.25   \n",
       "2395_4-Hairbalding_pattern_Pattern_4                              3038228.50   \n",
       "20003_1141168590-Treatmentmedication_code_parie...                1880510.75   \n",
       "\n",
       "                                                    Adrenal_Gland  \\\n",
       "I9_PHLETHROMBDVTLOW-DVT_of_lower_extremities          3960107.250   \n",
       "I71-Diagnoses_main_ICD10_I71_Aortic_aneurysm_an...    1448934.750   \n",
       "G62-Diagnoses_main_ICD10_G62_Other_polyneuropat...    3957170.750   \n",
       "2395_4-Hairbalding_pattern_Pattern_4                  2098431.500   \n",
       "20003_1141168590-Treatmentmedication_code_parie...    1094152.375   \n",
       "\n",
       "                                                    Artery_Aorta  \\\n",
       "I9_PHLETHROMBDVTLOW-DVT_of_lower_extremities          1332054.75   \n",
       "I71-Diagnoses_main_ICD10_I71_Aortic_aneurysm_an...    4231713.00   \n",
       "G62-Diagnoses_main_ICD10_G62_Other_polyneuropat...    2937233.50   \n",
       "2395_4-Hairbalding_pattern_Pattern_4                  2826578.25   \n",
       "20003_1141168590-Treatmentmedication_code_parie...    4206760.50   \n",
       "\n",
       "                                                    Artery_Coronary  \\\n",
       "I9_PHLETHROMBDVTLOW-DVT_of_lower_extremities           2.182425e+06   \n",
       "I71-Diagnoses_main_ICD10_I71_Aortic_aneurysm_an...     1.607177e+06   \n",
       "G62-Diagnoses_main_ICD10_G62_Other_polyneuropat...     2.458553e+06   \n",
       "2395_4-Hairbalding_pattern_Pattern_4                   3.085218e+05   \n",
       "20003_1141168590-Treatmentmedication_code_parie...     4.452502e+06   \n",
       "\n",
       "                                                    Artery_Tibial  \\\n",
       "I9_PHLETHROMBDVTLOW-DVT_of_lower_extremities           4240339.00   \n",
       "I71-Diagnoses_main_ICD10_I71_Aortic_aneurysm_an...     1551651.25   \n",
       "G62-Diagnoses_main_ICD10_G62_Other_polyneuropat...     3229771.50   \n",
       "2395_4-Hairbalding_pattern_Pattern_4                   3097367.00   \n",
       "20003_1141168590-Treatmentmedication_code_parie...     4179176.75   \n",
       "\n",
       "                                                    Brain_Amygdala  \\\n",
       "I9_PHLETHROMBDVTLOW-DVT_of_lower_extremities          2.487093e+06   \n",
       "I71-Diagnoses_main_ICD10_I71_Aortic_aneurysm_an...    1.389767e+06   \n",
       "G62-Diagnoses_main_ICD10_G62_Other_polyneuropat...    3.576149e+06   \n",
       "2395_4-Hairbalding_pattern_Pattern_4                  6.497158e+05   \n",
       "20003_1141168590-Treatmentmedication_code_parie...    2.875126e+06   \n",
       "\n",
       "                                                    Brain_Anterior_cingulate_cortex_BA24  \\\n",
       "I9_PHLETHROMBDVTLOW-DVT_of_lower_extremities                                  2274668.50   \n",
       "I71-Diagnoses_main_ICD10_I71_Aortic_aneurysm_an...                            3638570.00   \n",
       "G62-Diagnoses_main_ICD10_G62_Other_polyneuropat...                            1369567.00   \n",
       "2395_4-Hairbalding_pattern_Pattern_4                                          2836304.50   \n",
       "20003_1141168590-Treatmentmedication_code_parie...                            2042720.75   \n",
       "\n",
       "                                                    Brain_Caudate_basal_ganglia  \\\n",
       "I9_PHLETHROMBDVTLOW-DVT_of_lower_extremities                        1708839.625   \n",
       "I71-Diagnoses_main_ICD10_I71_Aortic_aneurysm_an...                  2445540.500   \n",
       "G62-Diagnoses_main_ICD10_G62_Other_polyneuropat...                  3312298.500   \n",
       "2395_4-Hairbalding_pattern_Pattern_4                                3183412.000   \n",
       "20003_1141168590-Treatmentmedication_code_parie...                  2486881.750   \n",
       "\n",
       "                                                    Brain_Cerebellar_Hemisphere  \\\n",
       "I9_PHLETHROMBDVTLOW-DVT_of_lower_extremities                       2.311500e+06   \n",
       "I71-Diagnoses_main_ICD10_I71_Aortic_aneurysm_an...                 3.317544e+06   \n",
       "G62-Diagnoses_main_ICD10_G62_Other_polyneuropat...                 2.019896e+06   \n",
       "2395_4-Hairbalding_pattern_Pattern_4                               8.713652e+05   \n",
       "20003_1141168590-Treatmentmedication_code_parie...                 3.534752e+06   \n",
       "\n",
       "                                                    ...  \\\n",
       "I9_PHLETHROMBDVTLOW-DVT_of_lower_extremities        ...   \n",
       "I71-Diagnoses_main_ICD10_I71_Aortic_aneurysm_an...  ...   \n",
       "G62-Diagnoses_main_ICD10_G62_Other_polyneuropat...  ...   \n",
       "2395_4-Hairbalding_pattern_Pattern_4                ...   \n",
       "20003_1141168590-Treatmentmedication_code_parie...  ...   \n",
       "\n",
       "                                                    Skin_Not_Sun_Exposed_Suprapubic  \\\n",
       "I9_PHLETHROMBDVTLOW-DVT_of_lower_extremities                            3111573.000   \n",
       "I71-Diagnoses_main_ICD10_I71_Aortic_aneurysm_an...                      1935886.625   \n",
       "G62-Diagnoses_main_ICD10_G62_Other_polyneuropat...                      2011435.750   \n",
       "2395_4-Hairbalding_pattern_Pattern_4                                    2939378.250   \n",
       "20003_1141168590-Treatmentmedication_code_parie...                      2561731.750   \n",
       "\n",
       "                                                    Skin_Sun_Exposed_Lower_leg  \\\n",
       "I9_PHLETHROMBDVTLOW-DVT_of_lower_extremities                       1680886.375   \n",
       "I71-Diagnoses_main_ICD10_I71_Aortic_aneurysm_an...                 2817997.000   \n",
       "G62-Diagnoses_main_ICD10_G62_Other_polyneuropat...                 1944383.750   \n",
       "2395_4-Hairbalding_pattern_Pattern_4                               3161076.000   \n",
       "20003_1141168590-Treatmentmedication_code_parie...                  516964.000   \n",
       "\n",
       "                                                    Small_Intestine_Terminal_Ileum  \\\n",
       "I9_PHLETHROMBDVTLOW-DVT_of_lower_extremities                            2903454.00   \n",
       "I71-Diagnoses_main_ICD10_I71_Aortic_aneurysm_an...                      1179611.25   \n",
       "G62-Diagnoses_main_ICD10_G62_Other_polyneuropat...                      4573539.00   \n",
       "2395_4-Hairbalding_pattern_Pattern_4                                    3586680.75   \n",
       "20003_1141168590-Treatmentmedication_code_parie...                      2166641.50   \n",
       "\n",
       "                                                         Spleen      Stomach  \\\n",
       "I9_PHLETHROMBDVTLOW-DVT_of_lower_extremities        1799322.375  1457560.625   \n",
       "I71-Diagnoses_main_ICD10_I71_Aortic_aneurysm_an...  1986576.250  1191470.250   \n",
       "G62-Diagnoses_main_ICD10_G62_Other_polyneuropat...  4539101.000  2696412.000   \n",
       "2395_4-Hairbalding_pattern_Pattern_4                2400041.750   863019.625   \n",
       "20003_1141168590-Treatmentmedication_code_parie...  2783551.500  2651308.500   \n",
       "\n",
       "                                                          Testis     Thyroid  \\\n",
       "I9_PHLETHROMBDVTLOW-DVT_of_lower_extremities        3.024874e+06  3919868.00   \n",
       "I71-Diagnoses_main_ICD10_I71_Aortic_aneurysm_an...  2.691960e+06  1236895.75   \n",
       "G62-Diagnoses_main_ICD10_G62_Other_polyneuropat...  2.205179e+06   785903.00   \n",
       "2395_4-Hairbalding_pattern_Pattern_4                9.284838e+05  2868830.25   \n",
       "20003_1141168590-Treatmentmedication_code_parie...  2.219414e+06  1217317.25   \n",
       "\n",
       "                                                        Uterus       Vagina  \\\n",
       "I9_PHLETHROMBDVTLOW-DVT_of_lower_extremities        3272210.50  1370451.000   \n",
       "I71-Diagnoses_main_ICD10_I71_Aortic_aneurysm_an...  3169182.25  1650408.625   \n",
       "G62-Diagnoses_main_ICD10_G62_Other_polyneuropat...  1301301.75  4430059.000   \n",
       "2395_4-Hairbalding_pattern_Pattern_4                1913291.25  2029917.375   \n",
       "20003_1141168590-Treatmentmedication_code_parie...  2210372.50  3053042.250   \n",
       "\n",
       "                                                    Whole_Blood  \n",
       "I9_PHLETHROMBDVTLOW-DVT_of_lower_extremities        3027555.750  \n",
       "I71-Diagnoses_main_ICD10_I71_Aortic_aneurysm_an...  2093344.375  \n",
       "G62-Diagnoses_main_ICD10_G62_Other_polyneuropat...  3196323.500  \n",
       "2395_4-Hairbalding_pattern_Pattern_4                3557621.500  \n",
       "20003_1141168590-Treatmentmedication_code_parie...  3362472.000  \n",
       "\n",
       "[5 rows x 49 columns]"
      ]
     },
     "metadata": {},
     "output_type": "display_data"
    }
   ],
   "source": [
    "_tmp = pd.DataFrame(drugs_tissue_df)\n",
    "display(_tmp.shape)\n",
    "display(_tmp.head())"
   ]
  },
  {
   "cell_type": "code",
   "execution_count": 32,
   "metadata": {
    "execution": {
     "iopub.execute_input": "2021-07-29T19:16:15.100154Z",
     "iopub.status.busy": "2021-07-29T19:16:15.099795Z",
     "iopub.status.idle": "2021-07-29T19:16:15.134905Z",
     "shell.execute_reply": "2021-07-29T19:16:15.134536Z"
    },
    "papermill": {
     "duration": 0.067344,
     "end_time": "2021-07-29T19:16:15.134989",
     "exception": false,
     "start_time": "2021-07-29T19:16:15.067645",
     "status": "completed"
    },
    "tags": []
   },
   "outputs": [
    {
     "data": {
      "text/plain": [
       "I70-Diagnoses_main_ICD10_I70_Atherosclerosis                                                   Cells_Cultured_fibroblasts\n",
       "CARDIoGRAM_C4D_CAD_ADDITIVE                                                                              Colon_Transverse\n",
       "I25-Diagnoses_main_ICD10_I25_Chronic_ischaemic_heart_disease                                  Brain_Putamen_basal_ganglia\n",
       "20002_1473-Noncancer_illness_code_selfreported_high_cholesterol                                            Brain_Amygdala\n",
       "6150_100-Vascularheart_problems_diagnosed_by_doctor_None_of_the_above                                               Liver\n",
       "6150_1-Vascularheart_problems_diagnosed_by_doctor_Heart_attack                                   Brain_Frontal_Cortex_BA9\n",
       "I9_CHD-Major_coronary_heart_disease_event                                                     Brain_Cerebellar_Hemisphere\n",
       "I9_CORATHER-Coronary_atherosclerosis                                                               Heart_Atrial_Appendage\n",
       "I9_IHD-Ischaemic_heart_disease_wide_definition                                                Brain_Cerebellar_Hemisphere\n",
       "I9_MI-Myocardial_infarction                                                         Brain_Nucleus_accumbens_basal_ganglia\n",
       "I21-Diagnoses_main_ICD10_I21_Acute_myocardial_infarction                                      Brain_Cerebellar_Hemisphere\n",
       "20002_1075-Noncancer_illness_code_selfreported_heart_attackmyocardial_infarction                         Esophagus_Mucosa\n",
       "dtype: object"
      ]
     },
     "metadata": {},
     "output_type": "display_data"
    }
   ],
   "source": [
    "# show top tissue models (from TWAS) for each trait\n",
    "traits_best_tissues_df = (\n",
    "    pd.DataFrame(drugs_tissue_df).loc[_phenomexcan_traits].idxmax(1)\n",
    ")\n",
    "display(traits_best_tissues_df)"
   ]
  },
  {
   "cell_type": "code",
   "execution_count": 33,
   "metadata": {
    "execution": {
     "iopub.execute_input": "2021-07-29T19:16:15.198341Z",
     "iopub.status.busy": "2021-07-29T19:16:15.197971Z",
     "iopub.status.idle": "2021-07-29T19:16:15.231614Z",
     "shell.execute_reply": "2021-07-29T19:16:15.231222Z"
    },
    "papermill": {
     "duration": 0.066336,
     "end_time": "2021-07-29T19:16:15.231703",
     "exception": false,
     "start_time": "2021-07-29T19:16:15.165367",
     "status": "completed"
    },
    "tags": []
   },
   "outputs": [],
   "source": [
    "# pick the tissue with the maximum score for each trait\n",
    "drug_df = pd.DataFrame(drugs_tissue_df).max(1)"
   ]
  },
  {
   "cell_type": "code",
   "execution_count": 34,
   "metadata": {
    "execution": {
     "iopub.execute_input": "2021-07-29T19:16:15.295943Z",
     "iopub.status.busy": "2021-07-29T19:16:15.295587Z",
     "iopub.status.idle": "2021-07-29T19:16:15.304096Z",
     "shell.execute_reply": "2021-07-29T19:16:15.303725Z"
    },
    "papermill": {
     "duration": 0.040605,
     "end_time": "2021-07-29T19:16:15.304178",
     "exception": false,
     "start_time": "2021-07-29T19:16:15.263573",
     "status": "completed"
    },
    "tags": []
   },
   "outputs": [
    {
     "data": {
      "text/plain": [
       "(4091,)"
      ]
     },
     "execution_count": 34,
     "metadata": {},
     "output_type": "execute_result"
    }
   ],
   "source": [
    "drug_df.shape"
   ]
  },
  {
   "cell_type": "code",
   "execution_count": 35,
   "metadata": {
    "execution": {
     "iopub.execute_input": "2021-07-29T19:16:15.367524Z",
     "iopub.status.busy": "2021-07-29T19:16:15.367157Z",
     "iopub.status.idle": "2021-07-29T19:16:15.376385Z",
     "shell.execute_reply": "2021-07-29T19:16:15.376004Z"
    },
    "papermill": {
     "duration": 0.042001,
     "end_time": "2021-07-29T19:16:15.376468",
     "exception": false,
     "start_time": "2021-07-29T19:16:15.334467",
     "status": "completed"
    },
    "tags": []
   },
   "outputs": [
    {
     "data": {
      "text/plain": [
       "I9_PHLETHROMBDVTLOW-DVT_of_lower_extremities                       4240339.0\n",
       "I71-Diagnoses_main_ICD10_I71_Aortic_aneurysm_and_dissection        4231713.0\n",
       "G62-Diagnoses_main_ICD10_G62_Other_polyneuropathies                4573539.0\n",
       "2395_4-Hairbalding_pattern_Pattern_4                               3979892.0\n",
       "20003_1141168590-Treatmentmedication_code_pariet_10mg_ec_tablet    4452501.5\n",
       "dtype: float32"
      ]
     },
     "execution_count": 35,
     "metadata": {},
     "output_type": "execute_result"
    }
   ],
   "source": [
    "drug_df.head()"
   ]
  },
  {
   "cell_type": "code",
   "execution_count": 36,
   "metadata": {
    "execution": {
     "iopub.execute_input": "2021-07-29T19:16:15.445440Z",
     "iopub.status.busy": "2021-07-29T19:16:15.445077Z",
     "iopub.status.idle": "2021-07-29T19:16:15.454469Z",
     "shell.execute_reply": "2021-07-29T19:16:15.454151Z"
    },
    "papermill": {
     "duration": 0.044192,
     "end_time": "2021-07-29T19:16:15.454552",
     "exception": false,
     "start_time": "2021-07-29T19:16:15.410360",
     "status": "completed"
    },
    "tags": []
   },
   "outputs": [
    {
     "data": {
      "text/plain": [
       "20002_1075-Noncancer_illness_code_selfreported_heart_attackmyocardial_infarction    3996588.75\n",
       "6150_1-Vascularheart_problems_diagnosed_by_doctor_Heart_attack                      4014872.00\n",
       "I21-Diagnoses_main_ICD10_I21_Acute_myocardial_infarction                            4242830.50\n",
       "I9_MI-Myocardial_infarction                                                         4417031.00\n",
       "I9_CHD-Major_coronary_heart_disease_event                                           4443732.50\n",
       "6150_100-Vascularheart_problems_diagnosed_by_doctor_None_of_the_above               4539449.50\n",
       "20002_1473-Noncancer_illness_code_selfreported_high_cholesterol                     4549772.50\n",
       "I70-Diagnoses_main_ICD10_I70_Atherosclerosis                                        4574511.00\n",
       "CARDIoGRAM_C4D_CAD_ADDITIVE                                                         4598049.00\n",
       "I9_IHD-Ischaemic_heart_disease_wide_definition                                      4671838.50\n",
       "I25-Diagnoses_main_ICD10_I25_Chronic_ischaemic_heart_disease                        4687681.00\n",
       "I9_CORATHER-Coronary_atherosclerosis                                                4687805.50\n",
       "dtype: float32"
      ]
     },
     "execution_count": 36,
     "metadata": {},
     "output_type": "execute_result"
    }
   ],
   "source": [
    "drug_df.loc[_phenomexcan_traits].sort_values()"
   ]
  },
  {
   "cell_type": "code",
   "execution_count": 37,
   "metadata": {
    "execution": {
     "iopub.execute_input": "2021-07-29T19:16:15.519729Z",
     "iopub.status.busy": "2021-07-29T19:16:15.519363Z",
     "iopub.status.idle": "2021-07-29T19:16:15.530042Z",
     "shell.execute_reply": "2021-07-29T19:16:15.529675Z"
    },
    "papermill": {
     "duration": 0.043871,
     "end_time": "2021-07-29T19:16:15.530125",
     "exception": false,
     "start_time": "2021-07-29T19:16:15.486254",
     "status": "completed"
    },
    "tags": []
   },
   "outputs": [
    {
     "data": {
      "text/plain": [
       "count    4.091000e+03\n",
       "mean     4.240774e+06\n",
       "std      3.346693e+05\n",
       "min      2.317380e+06\n",
       "25%      4.064316e+06\n",
       "50%      4.323138e+06\n",
       "75%      4.488743e+06\n",
       "max      4.760801e+06\n",
       "dtype: float64"
      ]
     },
     "execution_count": 37,
     "metadata": {},
     "output_type": "execute_result"
    }
   ],
   "source": [
    "drug_df.describe()"
   ]
  },
  {
   "cell_type": "code",
   "execution_count": 38,
   "metadata": {
    "execution": {
     "iopub.execute_input": "2021-07-29T19:16:15.595110Z",
     "iopub.status.busy": "2021-07-29T19:16:15.594754Z",
     "iopub.status.idle": "2021-07-29T19:16:15.603598Z",
     "shell.execute_reply": "2021-07-29T19:16:15.603227Z"
    },
    "papermill": {
     "duration": 0.042165,
     "end_time": "2021-07-29T19:16:15.603682",
     "exception": false,
     "start_time": "2021-07-29T19:16:15.561517",
     "status": "completed"
    },
    "tags": []
   },
   "outputs": [
    {
     "data": {
      "text/plain": [
       "(4240773.5, 334669.3)"
      ]
     },
     "metadata": {},
     "output_type": "display_data"
    }
   ],
   "source": [
    "drug_mean, drug_std = drug_df.mean(), drug_df.std()\n",
    "display((drug_mean, drug_std))"
   ]
  },
  {
   "cell_type": "code",
   "execution_count": 39,
   "metadata": {
    "execution": {
     "iopub.execute_input": "2021-07-29T19:16:15.669413Z",
     "iopub.status.busy": "2021-07-29T19:16:15.669041Z",
     "iopub.status.idle": "2021-07-29T19:16:15.680337Z",
     "shell.execute_reply": "2021-07-29T19:16:15.679966Z"
    },
    "papermill": {
     "duration": 0.045196,
     "end_time": "2021-07-29T19:16:15.680419",
     "exception": false,
     "start_time": "2021-07-29T19:16:15.635223",
     "status": "completed"
    },
    "tags": []
   },
   "outputs": [
    {
     "data": {
      "text/plain": [
       "count    4.091000e+03\n",
       "mean    -7.086703e-07\n",
       "std      9.999999e-01\n",
       "min     -5.747145e+00\n",
       "25%     -5.272593e-01\n",
       "50%      2.461071e-01\n",
       "75%      7.409381e-01\n",
       "max      1.553855e+00\n",
       "dtype: float64"
      ]
     },
     "metadata": {},
     "output_type": "display_data"
    }
   ],
   "source": [
    "drug_df_stats = ((drug_df - drug_mean) / drug_std).describe()\n",
    "display(drug_df_stats)"
   ]
  },
  {
   "cell_type": "code",
   "execution_count": 40,
   "metadata": {
    "execution": {
     "iopub.execute_input": "2021-07-29T19:16:15.746909Z",
     "iopub.status.busy": "2021-07-29T19:16:15.746528Z",
     "iopub.status.idle": "2021-07-29T19:16:15.755214Z",
     "shell.execute_reply": "2021-07-29T19:16:15.754843Z"
    },
    "papermill": {
     "duration": 0.042854,
     "end_time": "2021-07-29T19:16:15.755295",
     "exception": false,
     "start_time": "2021-07-29T19:16:15.712441",
     "status": "completed"
    },
    "tags": []
   },
   "outputs": [],
   "source": [
    "drug_df = (drug_df.loc[_phenomexcan_traits] - drug_mean) / drug_std"
   ]
  },
  {
   "cell_type": "code",
   "execution_count": 41,
   "metadata": {
    "execution": {
     "iopub.execute_input": "2021-07-29T19:16:15.821062Z",
     "iopub.status.busy": "2021-07-29T19:16:15.820672Z",
     "iopub.status.idle": "2021-07-29T19:16:15.829226Z",
     "shell.execute_reply": "2021-07-29T19:16:15.828861Z"
    },
    "papermill": {
     "duration": 0.042236,
     "end_time": "2021-07-29T19:16:15.829308",
     "exception": false,
     "start_time": "2021-07-29T19:16:15.787072",
     "status": "completed"
    },
    "tags": []
   },
   "outputs": [
    {
     "data": {
      "text/plain": [
       "(12,)"
      ]
     },
     "execution_count": 41,
     "metadata": {},
     "output_type": "execute_result"
    }
   ],
   "source": [
    "drug_df.shape"
   ]
  },
  {
   "cell_type": "code",
   "execution_count": 42,
   "metadata": {
    "execution": {
     "iopub.execute_input": "2021-07-29T19:16:15.896953Z",
     "iopub.status.busy": "2021-07-29T19:16:15.896570Z",
     "iopub.status.idle": "2021-07-29T19:16:15.905816Z",
     "shell.execute_reply": "2021-07-29T19:16:15.905486Z"
    },
    "papermill": {
     "duration": 0.043638,
     "end_time": "2021-07-29T19:16:15.905902",
     "exception": false,
     "start_time": "2021-07-29T19:16:15.862264",
     "status": "completed"
    },
    "tags": []
   },
   "outputs": [
    {
     "data": {
      "text/plain": [
       "20002_1075-Noncancer_illness_code_selfreported_heart_attackmyocardial_infarction   -0.729630\n",
       "6150_1-Vascularheart_problems_diagnosed_by_doctor_Heart_attack                     -0.674999\n",
       "I21-Diagnoses_main_ICD10_I21_Acute_myocardial_infarction                            0.006146\n",
       "I9_MI-Myocardial_infarction                                                         0.526662\n",
       "I9_CHD-Major_coronary_heart_disease_event                                           0.606446\n",
       "6150_100-Vascularheart_problems_diagnosed_by_doctor_None_of_the_above               0.892451\n",
       "20002_1473-Noncancer_illness_code_selfreported_high_cholesterol                     0.923297\n",
       "I70-Diagnoses_main_ICD10_I70_Atherosclerosis                                        0.997216\n",
       "CARDIoGRAM_C4D_CAD_ADDITIVE                                                         1.067548\n",
       "I9_IHD-Ischaemic_heart_disease_wide_definition                                      1.288033\n",
       "I25-Diagnoses_main_ICD10_I25_Chronic_ischaemic_heart_disease                        1.335370\n",
       "I9_CORATHER-Coronary_atherosclerosis                                                1.335742\n",
       "dtype: float32"
      ]
     },
     "execution_count": 42,
     "metadata": {},
     "output_type": "execute_result"
    }
   ],
   "source": [
    "drug_df.sort_values()"
   ]
  },
  {
   "cell_type": "markdown",
   "metadata": {
    "papermill": {
     "duration": 0.031935,
     "end_time": "2021-07-29T19:16:15.970358",
     "exception": false,
     "start_time": "2021-07-29T19:16:15.938423",
     "status": "completed"
    },
    "tags": []
   },
   "source": [
    "Most predictions of Niacin for these traits are high (above the mean and a standard deviation away).\n",
    "The ones that are low are related to heart attack, but there seems to be heterogeneity among definitions, since self-reported ones got a negative score, whereas the ICD10 (from hospital-level data) is positive."
   ]
  },
  {
   "cell_type": "code",
   "execution_count": 43,
   "metadata": {
    "execution": {
     "iopub.execute_input": "2021-07-29T19:16:16.036917Z",
     "iopub.status.busy": "2021-07-29T19:16:16.036511Z",
     "iopub.status.idle": "2021-07-29T19:16:16.044348Z",
     "shell.execute_reply": "2021-07-29T19:16:16.044050Z"
    },
    "papermill": {
     "duration": 0.042454,
     "end_time": "2021-07-29T19:16:16.044432",
     "exception": false,
     "start_time": "2021-07-29T19:16:16.001978",
     "status": "completed"
    },
    "tags": []
   },
   "outputs": [],
   "source": [
    "# select traits for which niacin has a high prediction\n",
    "selected_traits = drug_df[drug_df > drug_df_stats[\"75%\"]].index.tolist()"
   ]
  },
  {
   "cell_type": "code",
   "execution_count": 44,
   "metadata": {
    "execution": {
     "iopub.execute_input": "2021-07-29T19:16:16.110789Z",
     "iopub.status.busy": "2021-07-29T19:16:16.110435Z",
     "iopub.status.idle": "2021-07-29T19:16:16.118826Z",
     "shell.execute_reply": "2021-07-29T19:16:16.118478Z"
    },
    "papermill": {
     "duration": 0.04241,
     "end_time": "2021-07-29T19:16:16.118906",
     "exception": false,
     "start_time": "2021-07-29T19:16:16.076496",
     "status": "completed"
    },
    "tags": []
   },
   "outputs": [
    {
     "data": {
      "text/plain": [
       "['I70-Diagnoses_main_ICD10_I70_Atherosclerosis',\n",
       " 'CARDIoGRAM_C4D_CAD_ADDITIVE',\n",
       " 'I25-Diagnoses_main_ICD10_I25_Chronic_ischaemic_heart_disease',\n",
       " '20002_1473-Noncancer_illness_code_selfreported_high_cholesterol',\n",
       " '6150_100-Vascularheart_problems_diagnosed_by_doctor_None_of_the_above',\n",
       " 'I9_CORATHER-Coronary_atherosclerosis',\n",
       " 'I9_IHD-Ischaemic_heart_disease_wide_definition']"
      ]
     },
     "execution_count": 44,
     "metadata": {},
     "output_type": "execute_result"
    }
   ],
   "source": [
    "selected_traits"
   ]
  },
  {
   "cell_type": "markdown",
   "metadata": {
    "papermill": {
     "duration": 0.032325,
     "end_time": "2021-07-29T19:16:16.183571",
     "exception": false,
     "start_time": "2021-07-29T19:16:16.151246",
     "status": "completed"
    },
    "tags": []
   },
   "source": [
    "## Get niacin projection values"
   ]
  },
  {
   "cell_type": "code",
   "execution_count": 45,
   "metadata": {
    "execution": {
     "iopub.execute_input": "2021-07-29T19:16:16.251600Z",
     "iopub.status.busy": "2021-07-29T19:16:16.251244Z",
     "iopub.status.idle": "2021-07-29T19:16:16.259371Z",
     "shell.execute_reply": "2021-07-29T19:16:16.259018Z"
    },
    "papermill": {
     "duration": 0.04304,
     "end_time": "2021-07-29T19:16:16.259452",
     "exception": false,
     "start_time": "2021-07-29T19:16:16.216412",
     "status": "completed"
    },
    "tags": []
   },
   "outputs": [],
   "source": [
    "drug_data = lincs_projection.loc[_drug_id]"
   ]
  },
  {
   "cell_type": "code",
   "execution_count": 46,
   "metadata": {
    "execution": {
     "iopub.execute_input": "2021-07-29T19:16:16.326563Z",
     "iopub.status.busy": "2021-07-29T19:16:16.326197Z",
     "iopub.status.idle": "2021-07-29T19:16:16.334508Z",
     "shell.execute_reply": "2021-07-29T19:16:16.334136Z"
    },
    "papermill": {
     "duration": 0.042864,
     "end_time": "2021-07-29T19:16:16.334591",
     "exception": false,
     "start_time": "2021-07-29T19:16:16.291727",
     "status": "completed"
    },
    "tags": []
   },
   "outputs": [
    {
     "data": {
      "text/plain": [
       "(987,)"
      ]
     },
     "execution_count": 46,
     "metadata": {},
     "output_type": "execute_result"
    }
   ],
   "source": [
    "drug_data.shape"
   ]
  },
  {
   "cell_type": "code",
   "execution_count": 47,
   "metadata": {
    "execution": {
     "iopub.execute_input": "2021-07-29T19:16:16.406145Z",
     "iopub.status.busy": "2021-07-29T19:16:16.404500Z",
     "iopub.status.idle": "2021-07-29T19:16:16.414303Z",
     "shell.execute_reply": "2021-07-29T19:16:16.414639Z"
    },
    "papermill": {
     "duration": 0.046259,
     "end_time": "2021-07-29T19:16:16.414762",
     "exception": false,
     "start_time": "2021-07-29T19:16:16.368503",
     "status": "completed"
    },
    "tags": []
   },
   "outputs": [
    {
     "data": {
      "text/plain": [
       "LV1   -0.032338\n",
       "LV2    0.007960\n",
       "LV3    0.009136\n",
       "LV4   -0.005717\n",
       "LV5   -0.023626\n",
       "Name: DB00627, dtype: float64"
      ]
     },
     "execution_count": 47,
     "metadata": {},
     "output_type": "execute_result"
    }
   ],
   "source": [
    "drug_data.head()"
   ]
  },
  {
   "cell_type": "markdown",
   "metadata": {
    "papermill": {
     "duration": 0.03293,
     "end_time": "2021-07-29T19:16:16.484753",
     "exception": false,
     "start_time": "2021-07-29T19:16:16.451823",
     "status": "completed"
    },
    "tags": []
   },
   "source": [
    "## Gene module-based - LVs driving association"
   ]
  },
  {
   "cell_type": "markdown",
   "metadata": {
    "papermill": {
     "duration": 0.03237,
     "end_time": "2021-07-29T19:16:16.549883",
     "exception": false,
     "start_time": "2021-07-29T19:16:16.517513",
     "status": "completed"
    },
    "tags": []
   },
   "source": [
    "Find which LVs are positively contributing to the prediction of these selected traits."
   ]
  },
  {
   "cell_type": "code",
   "execution_count": 48,
   "metadata": {
    "execution": {
     "iopub.execute_input": "2021-07-29T19:16:16.617635Z",
     "iopub.status.busy": "2021-07-29T19:16:16.617272Z",
     "iopub.status.idle": "2021-07-29T19:16:17.792652Z",
     "shell.execute_reply": "2021-07-29T19:16:17.791106Z"
    },
    "papermill": {
     "duration": 1.210821,
     "end_time": "2021-07-29T19:16:17.793004",
     "exception": false,
     "start_time": "2021-07-29T19:16:16.582183",
     "status": "completed"
    },
    "tags": []
   },
   "outputs": [
    {
     "data": {
      "text/plain": [
       "'Cells_Cultured_fibroblasts'"
      ]
     },
     "metadata": {},
     "output_type": "display_data"
    },
    {
     "data": {
      "text/plain": [
       "'Colon_Transverse'"
      ]
     },
     "metadata": {},
     "output_type": "display_data"
    },
    {
     "data": {
      "text/plain": [
       "'Brain_Putamen_basal_ganglia'"
      ]
     },
     "metadata": {},
     "output_type": "display_data"
    },
    {
     "data": {
      "text/plain": [
       "'Brain_Amygdala'"
      ]
     },
     "metadata": {},
     "output_type": "display_data"
    },
    {
     "data": {
      "text/plain": [
       "'Liver'"
      ]
     },
     "metadata": {},
     "output_type": "display_data"
    },
    {
     "data": {
      "text/plain": [
       "'Heart_Atrial_Appendage'"
      ]
     },
     "metadata": {},
     "output_type": "display_data"
    },
    {
     "data": {
      "text/plain": [
       "'Brain_Cerebellar_Hemisphere'"
      ]
     },
     "metadata": {},
     "output_type": "display_data"
    }
   ],
   "source": [
    "traits_lv_data = []\n",
    "\n",
    "for trait in selected_traits:\n",
    "    best_module_tissue = traits_best_tissues_df.loc[trait]\n",
    "    display(best_module_tissue)\n",
    "\n",
    "    best_module_tissue_data = pd.read_pickle(\n",
    "        conf.RESULTS[\"DRUG_DISEASE_ANALYSES\"]\n",
    "        / \"spredixcan\"\n",
    "        / \"proj\"\n",
    "        / f\"spredixcan-mashr-zscores-{best_module_tissue}-projection.pkl\"\n",
    "    )[trait]\n",
    "\n",
    "    traits_lv_data.append(best_module_tissue_data)"
   ]
  },
  {
   "cell_type": "code",
   "execution_count": 49,
   "metadata": {
    "execution": {
     "iopub.execute_input": "2021-07-29T19:16:17.896847Z",
     "iopub.status.busy": "2021-07-29T19:16:17.896462Z",
     "iopub.status.idle": "2021-07-29T19:16:17.923419Z",
     "shell.execute_reply": "2021-07-29T19:16:17.923098Z"
    },
    "papermill": {
     "duration": 0.063078,
     "end_time": "2021-07-29T19:16:17.923509",
     "exception": false,
     "start_time": "2021-07-29T19:16:17.860431",
     "status": "completed"
    },
    "tags": []
   },
   "outputs": [],
   "source": [
    "module_tissue_data = pd.DataFrame(traits_lv_data).T"
   ]
  },
  {
   "cell_type": "code",
   "execution_count": 50,
   "metadata": {
    "execution": {
     "iopub.execute_input": "2021-07-29T19:16:17.995938Z",
     "iopub.status.busy": "2021-07-29T19:16:17.995583Z",
     "iopub.status.idle": "2021-07-29T19:16:18.003846Z",
     "shell.execute_reply": "2021-07-29T19:16:18.003479Z"
    },
    "papermill": {
     "duration": 0.044718,
     "end_time": "2021-07-29T19:16:18.003930",
     "exception": false,
     "start_time": "2021-07-29T19:16:17.959212",
     "status": "completed"
    },
    "tags": []
   },
   "outputs": [
    {
     "data": {
      "text/plain": [
       "(987, 7)"
      ]
     },
     "execution_count": 50,
     "metadata": {},
     "output_type": "execute_result"
    }
   ],
   "source": [
    "module_tissue_data.shape"
   ]
  },
  {
   "cell_type": "code",
   "execution_count": 51,
   "metadata": {
    "execution": {
     "iopub.execute_input": "2021-07-29T19:16:18.076537Z",
     "iopub.status.busy": "2021-07-29T19:16:18.076182Z",
     "iopub.status.idle": "2021-07-29T19:16:18.088949Z",
     "shell.execute_reply": "2021-07-29T19:16:18.089238Z"
    },
    "papermill": {
     "duration": 0.050058,
     "end_time": "2021-07-29T19:16:18.089337",
     "exception": false,
     "start_time": "2021-07-29T19:16:18.039279",
     "status": "completed"
    },
    "tags": []
   },
   "outputs": [
    {
     "data": {
      "text/html": [
       "<div>\n",
       "<style scoped>\n",
       "    .dataframe tbody tr th:only-of-type {\n",
       "        vertical-align: middle;\n",
       "    }\n",
       "\n",
       "    .dataframe tbody tr th {\n",
       "        vertical-align: top;\n",
       "    }\n",
       "\n",
       "    .dataframe thead th {\n",
       "        text-align: right;\n",
       "    }\n",
       "</style>\n",
       "<table border=\"1\" class=\"dataframe\">\n",
       "  <thead>\n",
       "    <tr style=\"text-align: right;\">\n",
       "      <th></th>\n",
       "      <th>I70-Diagnoses_main_ICD10_I70_Atherosclerosis</th>\n",
       "      <th>CARDIoGRAM_C4D_CAD_ADDITIVE</th>\n",
       "      <th>I25-Diagnoses_main_ICD10_I25_Chronic_ischaemic_heart_disease</th>\n",
       "      <th>20002_1473-Noncancer_illness_code_selfreported_high_cholesterol</th>\n",
       "      <th>6150_100-Vascularheart_problems_diagnosed_by_doctor_None_of_the_above</th>\n",
       "      <th>I9_CORATHER-Coronary_atherosclerosis</th>\n",
       "      <th>I9_IHD-Ischaemic_heart_disease_wide_definition</th>\n",
       "    </tr>\n",
       "  </thead>\n",
       "  <tbody>\n",
       "    <tr>\n",
       "      <th>LV1</th>\n",
       "      <td>0.005720</td>\n",
       "      <td>-0.002536</td>\n",
       "      <td>0.003223</td>\n",
       "      <td>0.027183</td>\n",
       "      <td>-0.009975</td>\n",
       "      <td>-0.041645</td>\n",
       "      <td>-0.034174</td>\n",
       "    </tr>\n",
       "    <tr>\n",
       "      <th>LV2</th>\n",
       "      <td>-0.002927</td>\n",
       "      <td>-0.040910</td>\n",
       "      <td>0.009556</td>\n",
       "      <td>0.031170</td>\n",
       "      <td>-0.000601</td>\n",
       "      <td>-0.053181</td>\n",
       "      <td>-0.025907</td>\n",
       "    </tr>\n",
       "    <tr>\n",
       "      <th>LV3</th>\n",
       "      <td>0.002734</td>\n",
       "      <td>0.033692</td>\n",
       "      <td>-0.005872</td>\n",
       "      <td>-0.015628</td>\n",
       "      <td>0.029873</td>\n",
       "      <td>-0.018676</td>\n",
       "      <td>-0.020514</td>\n",
       "    </tr>\n",
       "    <tr>\n",
       "      <th>LV4</th>\n",
       "      <td>0.015454</td>\n",
       "      <td>-0.017444</td>\n",
       "      <td>0.004483</td>\n",
       "      <td>0.000231</td>\n",
       "      <td>-0.073387</td>\n",
       "      <td>0.022468</td>\n",
       "      <td>-0.046343</td>\n",
       "    </tr>\n",
       "    <tr>\n",
       "      <th>LV5</th>\n",
       "      <td>0.027796</td>\n",
       "      <td>0.016727</td>\n",
       "      <td>-0.009114</td>\n",
       "      <td>-0.037452</td>\n",
       "      <td>0.032017</td>\n",
       "      <td>-0.030727</td>\n",
       "      <td>-0.015489</td>\n",
       "    </tr>\n",
       "  </tbody>\n",
       "</table>\n",
       "</div>"
      ],
      "text/plain": [
       "     I70-Diagnoses_main_ICD10_I70_Atherosclerosis  \\\n",
       "LV1                                      0.005720   \n",
       "LV2                                     -0.002927   \n",
       "LV3                                      0.002734   \n",
       "LV4                                      0.015454   \n",
       "LV5                                      0.027796   \n",
       "\n",
       "     CARDIoGRAM_C4D_CAD_ADDITIVE  \\\n",
       "LV1                    -0.002536   \n",
       "LV2                    -0.040910   \n",
       "LV3                     0.033692   \n",
       "LV4                    -0.017444   \n",
       "LV5                     0.016727   \n",
       "\n",
       "     I25-Diagnoses_main_ICD10_I25_Chronic_ischaemic_heart_disease  \\\n",
       "LV1                                           0.003223              \n",
       "LV2                                           0.009556              \n",
       "LV3                                          -0.005872              \n",
       "LV4                                           0.004483              \n",
       "LV5                                          -0.009114              \n",
       "\n",
       "     20002_1473-Noncancer_illness_code_selfreported_high_cholesterol  \\\n",
       "LV1                                           0.027183                 \n",
       "LV2                                           0.031170                 \n",
       "LV3                                          -0.015628                 \n",
       "LV4                                           0.000231                 \n",
       "LV5                                          -0.037452                 \n",
       "\n",
       "     6150_100-Vascularheart_problems_diagnosed_by_doctor_None_of_the_above  \\\n",
       "LV1                                          -0.009975                       \n",
       "LV2                                          -0.000601                       \n",
       "LV3                                           0.029873                       \n",
       "LV4                                          -0.073387                       \n",
       "LV5                                           0.032017                       \n",
       "\n",
       "     I9_CORATHER-Coronary_atherosclerosis  \\\n",
       "LV1                             -0.041645   \n",
       "LV2                             -0.053181   \n",
       "LV3                             -0.018676   \n",
       "LV4                              0.022468   \n",
       "LV5                             -0.030727   \n",
       "\n",
       "     I9_IHD-Ischaemic_heart_disease_wide_definition  \n",
       "LV1                                       -0.034174  \n",
       "LV2                                       -0.025907  \n",
       "LV3                                       -0.020514  \n",
       "LV4                                       -0.046343  \n",
       "LV5                                       -0.015489  "
      ]
     },
     "execution_count": 51,
     "metadata": {},
     "output_type": "execute_result"
    }
   ],
   "source": [
    "module_tissue_data.head()"
   ]
  },
  {
   "cell_type": "code",
   "execution_count": 52,
   "metadata": {
    "execution": {
     "iopub.execute_input": "2021-07-29T19:16:18.162168Z",
     "iopub.status.busy": "2021-07-29T19:16:18.161812Z",
     "iopub.status.idle": "2021-07-29T19:16:18.171021Z",
     "shell.execute_reply": "2021-07-29T19:16:18.171300Z"
    },
    "papermill": {
     "duration": 0.047002,
     "end_time": "2021-07-29T19:16:18.171404",
     "exception": false,
     "start_time": "2021-07-29T19:16:18.124402",
     "status": "completed"
    },
    "tags": []
   },
   "outputs": [
    {
     "data": {
      "text/plain": [
       "I9_IHD-Ischaemic_heart_disease_wide_definition                           0.041041\n",
       "6150_100-Vascularheart_problems_diagnosed_by_doctor_None_of_the_above    0.033455\n",
       "I9_CORATHER-Coronary_atherosclerosis                                     0.025396\n",
       "I70-Diagnoses_main_ICD10_I70_Atherosclerosis                             0.023000\n",
       "I25-Diagnoses_main_ICD10_I25_Chronic_ischaemic_heart_disease             0.021002\n",
       "20002_1473-Noncancer_illness_code_selfreported_high_cholesterol          0.018520\n",
       "CARDIoGRAM_C4D_CAD_ADDITIVE                                              0.016894\n",
       "Name: DB00627, dtype: float64"
      ]
     },
     "metadata": {},
     "output_type": "display_data"
    }
   ],
   "source": [
    "_tmp = (-1.0 * drug_data.dot(module_tissue_data)).sort_values(ascending=False)\n",
    "display(_tmp)"
   ]
  },
  {
   "cell_type": "code",
   "execution_count": 53,
   "metadata": {
    "execution": {
     "iopub.execute_input": "2021-07-29T19:16:18.246076Z",
     "iopub.status.busy": "2021-07-29T19:16:18.245716Z",
     "iopub.status.idle": "2021-07-29T19:16:18.253770Z",
     "shell.execute_reply": "2021-07-29T19:16:18.253440Z"
    },
    "papermill": {
     "duration": 0.046165,
     "end_time": "2021-07-29T19:16:18.253856",
     "exception": false,
     "start_time": "2021-07-29T19:16:18.207691",
     "status": "completed"
    },
    "tags": []
   },
   "outputs": [],
   "source": [
    "# create a dataframe where for each trait (column) I have the contribution of each LVs in the rows\n",
    "drug_trait_predictions = pd.DataFrame(\n",
    "    -1.0 * (drug_data.to_frame().values * module_tissue_data.values),\n",
    "    columns=module_tissue_data.columns.copy(),\n",
    "    index=drug_data.index.copy(),\n",
    ")"
   ]
  },
  {
   "cell_type": "code",
   "execution_count": 54,
   "metadata": {
    "execution": {
     "iopub.execute_input": "2021-07-29T19:16:18.327132Z",
     "iopub.status.busy": "2021-07-29T19:16:18.326787Z",
     "iopub.status.idle": "2021-07-29T19:16:18.335743Z",
     "shell.execute_reply": "2021-07-29T19:16:18.335373Z"
    },
    "papermill": {
     "duration": 0.04608,
     "end_time": "2021-07-29T19:16:18.335825",
     "exception": false,
     "start_time": "2021-07-29T19:16:18.289745",
     "status": "completed"
    },
    "tags": []
   },
   "outputs": [
    {
     "data": {
      "text/plain": [
       "(987, 7)"
      ]
     },
     "execution_count": 54,
     "metadata": {},
     "output_type": "execute_result"
    }
   ],
   "source": [
    "drug_trait_predictions.shape"
   ]
  },
  {
   "cell_type": "code",
   "execution_count": 55,
   "metadata": {
    "execution": {
     "iopub.execute_input": "2021-07-29T19:16:18.412549Z",
     "iopub.status.busy": "2021-07-29T19:16:18.412133Z",
     "iopub.status.idle": "2021-07-29T19:16:18.427783Z",
     "shell.execute_reply": "2021-07-29T19:16:18.427327Z"
    },
    "papermill": {
     "duration": 0.054596,
     "end_time": "2021-07-29T19:16:18.427879",
     "exception": false,
     "start_time": "2021-07-29T19:16:18.373283",
     "status": "completed"
    },
    "tags": []
   },
   "outputs": [
    {
     "data": {
      "text/html": [
       "<div>\n",
       "<style scoped>\n",
       "    .dataframe tbody tr th:only-of-type {\n",
       "        vertical-align: middle;\n",
       "    }\n",
       "\n",
       "    .dataframe tbody tr th {\n",
       "        vertical-align: top;\n",
       "    }\n",
       "\n",
       "    .dataframe thead th {\n",
       "        text-align: right;\n",
       "    }\n",
       "</style>\n",
       "<table border=\"1\" class=\"dataframe\">\n",
       "  <thead>\n",
       "    <tr style=\"text-align: right;\">\n",
       "      <th></th>\n",
       "      <th>I70-Diagnoses_main_ICD10_I70_Atherosclerosis</th>\n",
       "      <th>CARDIoGRAM_C4D_CAD_ADDITIVE</th>\n",
       "      <th>I25-Diagnoses_main_ICD10_I25_Chronic_ischaemic_heart_disease</th>\n",
       "      <th>20002_1473-Noncancer_illness_code_selfreported_high_cholesterol</th>\n",
       "      <th>6150_100-Vascularheart_problems_diagnosed_by_doctor_None_of_the_above</th>\n",
       "      <th>I9_CORATHER-Coronary_atherosclerosis</th>\n",
       "      <th>I9_IHD-Ischaemic_heart_disease_wide_definition</th>\n",
       "    </tr>\n",
       "  </thead>\n",
       "  <tbody>\n",
       "    <tr>\n",
       "      <th>LV1</th>\n",
       "      <td>0.000185</td>\n",
       "      <td>-0.000082</td>\n",
       "      <td>0.000104</td>\n",
       "      <td>0.000879</td>\n",
       "      <td>-0.000323</td>\n",
       "      <td>-0.001347</td>\n",
       "      <td>-0.001105</td>\n",
       "    </tr>\n",
       "    <tr>\n",
       "      <th>LV2</th>\n",
       "      <td>0.000023</td>\n",
       "      <td>0.000326</td>\n",
       "      <td>-0.000076</td>\n",
       "      <td>-0.000248</td>\n",
       "      <td>0.000005</td>\n",
       "      <td>0.000423</td>\n",
       "      <td>0.000206</td>\n",
       "    </tr>\n",
       "    <tr>\n",
       "      <th>LV3</th>\n",
       "      <td>-0.000025</td>\n",
       "      <td>-0.000308</td>\n",
       "      <td>0.000054</td>\n",
       "      <td>0.000143</td>\n",
       "      <td>-0.000273</td>\n",
       "      <td>0.000171</td>\n",
       "      <td>0.000187</td>\n",
       "    </tr>\n",
       "    <tr>\n",
       "      <th>LV4</th>\n",
       "      <td>0.000088</td>\n",
       "      <td>-0.000100</td>\n",
       "      <td>0.000026</td>\n",
       "      <td>0.000001</td>\n",
       "      <td>-0.000420</td>\n",
       "      <td>0.000128</td>\n",
       "      <td>-0.000265</td>\n",
       "    </tr>\n",
       "    <tr>\n",
       "      <th>LV5</th>\n",
       "      <td>0.000657</td>\n",
       "      <td>0.000395</td>\n",
       "      <td>-0.000215</td>\n",
       "      <td>-0.000885</td>\n",
       "      <td>0.000756</td>\n",
       "      <td>-0.000726</td>\n",
       "      <td>-0.000366</td>\n",
       "    </tr>\n",
       "  </tbody>\n",
       "</table>\n",
       "</div>"
      ],
      "text/plain": [
       "     I70-Diagnoses_main_ICD10_I70_Atherosclerosis  \\\n",
       "LV1                                      0.000185   \n",
       "LV2                                      0.000023   \n",
       "LV3                                     -0.000025   \n",
       "LV4                                      0.000088   \n",
       "LV5                                      0.000657   \n",
       "\n",
       "     CARDIoGRAM_C4D_CAD_ADDITIVE  \\\n",
       "LV1                    -0.000082   \n",
       "LV2                     0.000326   \n",
       "LV3                    -0.000308   \n",
       "LV4                    -0.000100   \n",
       "LV5                     0.000395   \n",
       "\n",
       "     I25-Diagnoses_main_ICD10_I25_Chronic_ischaemic_heart_disease  \\\n",
       "LV1                                           0.000104              \n",
       "LV2                                          -0.000076              \n",
       "LV3                                           0.000054              \n",
       "LV4                                           0.000026              \n",
       "LV5                                          -0.000215              \n",
       "\n",
       "     20002_1473-Noncancer_illness_code_selfreported_high_cholesterol  \\\n",
       "LV1                                           0.000879                 \n",
       "LV2                                          -0.000248                 \n",
       "LV3                                           0.000143                 \n",
       "LV4                                           0.000001                 \n",
       "LV5                                          -0.000885                 \n",
       "\n",
       "     6150_100-Vascularheart_problems_diagnosed_by_doctor_None_of_the_above  \\\n",
       "LV1                                          -0.000323                       \n",
       "LV2                                           0.000005                       \n",
       "LV3                                          -0.000273                       \n",
       "LV4                                          -0.000420                       \n",
       "LV5                                           0.000756                       \n",
       "\n",
       "     I9_CORATHER-Coronary_atherosclerosis  \\\n",
       "LV1                             -0.001347   \n",
       "LV2                              0.000423   \n",
       "LV3                              0.000171   \n",
       "LV4                              0.000128   \n",
       "LV5                             -0.000726   \n",
       "\n",
       "     I9_IHD-Ischaemic_heart_disease_wide_definition  \n",
       "LV1                                       -0.001105  \n",
       "LV2                                        0.000206  \n",
       "LV3                                        0.000187  \n",
       "LV4                                       -0.000265  \n",
       "LV5                                       -0.000366  "
      ]
     },
     "execution_count": 55,
     "metadata": {},
     "output_type": "execute_result"
    }
   ],
   "source": [
    "drug_trait_predictions.head()"
   ]
  },
  {
   "cell_type": "markdown",
   "metadata": {
    "papermill": {
     "duration": 0.035924,
     "end_time": "2021-07-29T19:16:18.503427",
     "exception": false,
     "start_time": "2021-07-29T19:16:18.467503",
     "status": "completed"
    },
    "tags": []
   },
   "source": [
    "This dataframe now allows me to see which LVs are the largest for each trait."
   ]
  },
  {
   "cell_type": "markdown",
   "metadata": {
    "papermill": {
     "duration": 0.035676,
     "end_time": "2021-07-29T19:16:18.575609",
     "exception": false,
     "start_time": "2021-07-29T19:16:18.539933",
     "status": "completed"
    },
    "tags": []
   },
   "source": [
    "## Get common LVs across selected traits"
   ]
  },
  {
   "cell_type": "code",
   "execution_count": 56,
   "metadata": {
    "execution": {
     "iopub.execute_input": "2021-07-29T19:16:18.650275Z",
     "iopub.status.busy": "2021-07-29T19:16:18.649913Z",
     "iopub.status.idle": "2021-07-29T19:16:18.658149Z",
     "shell.execute_reply": "2021-07-29T19:16:18.657789Z"
    },
    "papermill": {
     "duration": 0.046784,
     "end_time": "2021-07-29T19:16:18.658229",
     "exception": false,
     "start_time": "2021-07-29T19:16:18.611445",
     "status": "completed"
    },
    "tags": []
   },
   "outputs": [
    {
     "data": {
      "text/plain": [
       "0.95"
      ]
     },
     "metadata": {},
     "output_type": "display_data"
    }
   ],
   "source": [
    "display(QUANTILE)"
   ]
  },
  {
   "cell_type": "code",
   "execution_count": 57,
   "metadata": {
    "execution": {
     "iopub.execute_input": "2021-07-29T19:16:18.734755Z",
     "iopub.status.busy": "2021-07-29T19:16:18.734391Z",
     "iopub.status.idle": "2021-07-29T19:16:18.769358Z",
     "shell.execute_reply": "2021-07-29T19:16:18.768990Z"
    },
    "papermill": {
     "duration": 0.074186,
     "end_time": "2021-07-29T19:16:18.769441",
     "exception": false,
     "start_time": "2021-07-29T19:16:18.695255",
     "status": "completed"
    },
    "tags": []
   },
   "outputs": [
    {
     "data": {
      "text/plain": [
       "'Number of LVs: 25'"
      ]
     },
     "metadata": {},
     "output_type": "display_data"
    },
    {
     "data": {
      "text/plain": [
       "LV116    0.006180\n",
       "LV931    0.004843\n",
       "LV744    0.002292\n",
       "LV697    0.002231\n",
       "LV885    0.001984\n",
       "LV536    0.001956\n",
       "LV550    0.001933\n",
       "LV220    0.001822\n",
       "LV272    0.001785\n",
       "LV739    0.001770\n",
       "LV678    0.001525\n",
       "LV470    0.001444\n",
       "LV66     0.001375\n",
       "LV189    0.001371\n",
       "LV517    0.001296\n",
       "LV840    0.001285\n",
       "LV246    0.001253\n",
       "LV502    0.001249\n",
       "LV525    0.001227\n",
       "LV85     0.001220\n",
       "Name: I70-Diagnoses_main_ICD10_I70_Atherosclerosis, dtype: float64"
      ]
     },
     "metadata": {},
     "output_type": "display_data"
    },
    {
     "name": "stdout",
     "output_type": "stream",
     "text": [
      "\n"
     ]
    },
    {
     "data": {
      "text/plain": [
       "'Number of LVs: 25'"
      ]
     },
     "metadata": {},
     "output_type": "display_data"
    },
    {
     "data": {
      "text/plain": [
       "LV536    0.005978\n",
       "LV74     0.004517\n",
       "LV879    0.003454\n",
       "LV38     0.002886\n",
       "LV841    0.002169\n",
       "LV530    0.001887\n",
       "LV163    0.001600\n",
       "LV678    0.001565\n",
       "LV824    0.001456\n",
       "LV58     0.001449\n",
       "LV256    0.001403\n",
       "LV59     0.001383\n",
       "LV95     0.001338\n",
       "LV104    0.001336\n",
       "LV136    0.001332\n",
       "LV97     0.001327\n",
       "LV189    0.001298\n",
       "LV239    0.001296\n",
       "LV170    0.001292\n",
       "LV885    0.001170\n",
       "Name: CARDIoGRAM_C4D_CAD_ADDITIVE, dtype: float64"
      ]
     },
     "metadata": {},
     "output_type": "display_data"
    },
    {
     "name": "stdout",
     "output_type": "stream",
     "text": [
      "\n"
     ]
    },
    {
     "data": {
      "text/plain": [
       "'Number of LVs: 25'"
      ]
     },
     "metadata": {},
     "output_type": "display_data"
    },
    {
     "data": {
      "text/plain": [
       "LV881    0.013063\n",
       "LV163    0.005463\n",
       "LV116    0.005052\n",
       "LV227    0.002697\n",
       "LV66     0.002403\n",
       "LV442    0.002145\n",
       "LV906    0.001888\n",
       "LV175    0.001865\n",
       "LV965    0.001627\n",
       "LV395    0.001531\n",
       "LV254    0.001448\n",
       "LV707    0.001443\n",
       "LV161    0.001369\n",
       "LV97     0.001323\n",
       "LV205    0.001266\n",
       "LV151    0.001190\n",
       "LV849    0.001187\n",
       "LV38     0.001103\n",
       "LV582    0.001069\n",
       "LV720    0.001056\n",
       "Name: I25-Diagnoses_main_ICD10_I25_Chronic_ischaemic_heart_disease, dtype: float64"
      ]
     },
     "metadata": {},
     "output_type": "display_data"
    },
    {
     "name": "stdout",
     "output_type": "stream",
     "text": [
      "\n"
     ]
    },
    {
     "data": {
      "text/plain": [
       "'Number of LVs: 25'"
      ]
     },
     "metadata": {},
     "output_type": "display_data"
    },
    {
     "data": {
      "text/plain": [
       "LV227    0.002637\n",
       "LV97     0.002382\n",
       "LV547    0.002326\n",
       "LV95     0.002202\n",
       "LV530    0.002180\n",
       "LV170    0.001960\n",
       "LV525    0.001934\n",
       "LV246    0.001847\n",
       "LV738    0.001776\n",
       "LV940    0.001540\n",
       "LV50     0.001505\n",
       "LV678    0.001476\n",
       "LV163    0.001471\n",
       "LV905    0.001421\n",
       "LV885    0.001403\n",
       "LV184    0.001278\n",
       "LV667    0.001269\n",
       "LV707    0.001238\n",
       "LV631    0.001231\n",
       "LV876    0.001154\n",
       "Name: 20002_1473-Noncancer_illness_code_selfreported_high_cholesterol, dtype: float64"
      ]
     },
     "metadata": {},
     "output_type": "display_data"
    },
    {
     "name": "stdout",
     "output_type": "stream",
     "text": [
      "\n"
     ]
    },
    {
     "data": {
      "text/plain": [
       "'Number of LVs: 26'"
      ]
     },
     "metadata": {},
     "output_type": "display_data"
    },
    {
     "data": {
      "text/plain": [
       "LV743    0.006904\n",
       "LV969    0.004285\n",
       "LV575    0.004086\n",
       "LV829    0.003023\n",
       "LV707    0.002743\n",
       "LV840    0.002685\n",
       "LV931    0.002528\n",
       "LV254    0.002311\n",
       "LV885    0.002250\n",
       "LV656    0.002098\n",
       "LV216    0.001912\n",
       "LV95     0.001887\n",
       "LV366    0.001873\n",
       "LV739    0.001867\n",
       "LV290    0.001829\n",
       "LV227    0.001828\n",
       "LV125    0.001815\n",
       "LV461    0.001811\n",
       "LV841    0.001794\n",
       "LV408    0.001696\n",
       "Name: 6150_100-Vascularheart_problems_diagnosed_by_doctor_None_of_the_above, dtype: float64"
      ]
     },
     "metadata": {},
     "output_type": "display_data"
    },
    {
     "name": "stdout",
     "output_type": "stream",
     "text": [
      "\n"
     ]
    },
    {
     "data": {
      "text/plain": [
       "'Number of LVs: 25'"
      ]
     },
     "metadata": {},
     "output_type": "display_data"
    },
    {
     "data": {
      "text/plain": [
       "LV881    0.015670\n",
       "LV670    0.002761\n",
       "LV824    0.002730\n",
       "LV142    0.002600\n",
       "LV227    0.002379\n",
       "LV707    0.002191\n",
       "LV530    0.002034\n",
       "LV841    0.001971\n",
       "LV254    0.001843\n",
       "LV97     0.001810\n",
       "LV21     0.001728\n",
       "LV163    0.001628\n",
       "LV974    0.001596\n",
       "LV313    0.001535\n",
       "LV282    0.001472\n",
       "LV674    0.001425\n",
       "LV678    0.001410\n",
       "LV468    0.001377\n",
       "LV346    0.001357\n",
       "LV354    0.001353\n",
       "Name: I9_CORATHER-Coronary_atherosclerosis, dtype: float64"
      ]
     },
     "metadata": {},
     "output_type": "display_data"
    },
    {
     "name": "stdout",
     "output_type": "stream",
     "text": [
      "\n"
     ]
    },
    {
     "data": {
      "text/plain": [
       "'Number of LVs: 26'"
      ]
     },
     "metadata": {},
     "output_type": "display_data"
    },
    {
     "data": {
      "text/plain": [
       "LV881    0.007724\n",
       "LV97     0.004228\n",
       "LV931    0.003626\n",
       "LV509    0.003360\n",
       "LV395    0.002838\n",
       "LV479    0.001992\n",
       "LV502    0.001909\n",
       "LV536    0.001816\n",
       "LV220    0.001572\n",
       "LV351    0.001518\n",
       "LV570    0.001508\n",
       "LV601    0.001426\n",
       "LV116    0.001423\n",
       "LV170    0.001326\n",
       "LV906    0.001322\n",
       "LV246    0.001268\n",
       "LV78     0.001254\n",
       "LV354    0.001240\n",
       "LV310    0.001206\n",
       "LV824    0.001194\n",
       "Name: I9_IHD-Ischaemic_heart_disease_wide_definition, dtype: float64"
      ]
     },
     "metadata": {},
     "output_type": "display_data"
    },
    {
     "name": "stdout",
     "output_type": "stream",
     "text": [
      "\n"
     ]
    }
   ],
   "source": [
    "common_lvs = []\n",
    "\n",
    "for trait in drug_trait_predictions.columns:\n",
    "    _tmp = drug_trait_predictions[trait]\n",
    "\n",
    "    # for each trait, get the set of LVs with a contribution greater than the specified quantile\n",
    "    _tmp = _tmp[_tmp > 0.0]\n",
    "    q = _tmp.quantile(QUANTILE)\n",
    "    _tmp = _tmp[_tmp > q]\n",
    "    display(f\"Number of LVs: {_tmp.shape[0]}\")\n",
    "\n",
    "    _tmp = _tmp.sort_values(ascending=False)\n",
    "    common_lvs.append(_tmp)\n",
    "\n",
    "    display(_tmp.head(20))\n",
    "    print()"
   ]
  },
  {
   "cell_type": "code",
   "execution_count": 58,
   "metadata": {
    "execution": {
     "iopub.execute_input": "2021-07-29T19:16:18.853402Z",
     "iopub.status.busy": "2021-07-29T19:16:18.853035Z",
     "iopub.status.idle": "2021-07-29T19:16:18.861944Z",
     "shell.execute_reply": "2021-07-29T19:16:18.861621Z"
    },
    "papermill": {
     "duration": 0.051126,
     "end_time": "2021-07-29T19:16:18.862028",
     "exception": false,
     "start_time": "2021-07-29T19:16:18.810902",
     "status": "completed"
    },
    "tags": []
   },
   "outputs": [],
   "source": [
    "common_lvs_df = (\n",
    "    pd.concat(common_lvs).reset_index().rename(columns={\"index\": \"lv\", 0: \"value\"})\n",
    ")"
   ]
  },
  {
   "cell_type": "code",
   "execution_count": 59,
   "metadata": {
    "execution": {
     "iopub.execute_input": "2021-07-29T19:16:18.946375Z",
     "iopub.status.busy": "2021-07-29T19:16:18.946021Z",
     "iopub.status.idle": "2021-07-29T19:16:18.953927Z",
     "shell.execute_reply": "2021-07-29T19:16:18.954206Z"
    },
    "papermill": {
     "duration": 0.051271,
     "end_time": "2021-07-29T19:16:18.954309",
     "exception": false,
     "start_time": "2021-07-29T19:16:18.903038",
     "status": "completed"
    },
    "tags": []
   },
   "outputs": [
    {
     "data": {
      "text/plain": [
       "(177, 2)"
      ]
     },
     "execution_count": 59,
     "metadata": {},
     "output_type": "execute_result"
    }
   ],
   "source": [
    "common_lvs_df.shape"
   ]
  },
  {
   "cell_type": "code",
   "execution_count": 60,
   "metadata": {
    "execution": {
     "iopub.execute_input": "2021-07-29T19:16:19.039647Z",
     "iopub.status.busy": "2021-07-29T19:16:19.039293Z",
     "iopub.status.idle": "2021-07-29T19:16:19.049726Z",
     "shell.execute_reply": "2021-07-29T19:16:19.049436Z"
    },
    "papermill": {
     "duration": 0.053216,
     "end_time": "2021-07-29T19:16:19.049809",
     "exception": false,
     "start_time": "2021-07-29T19:16:18.996593",
     "status": "completed"
    },
    "tags": []
   },
   "outputs": [
    {
     "data": {
      "text/html": [
       "<div>\n",
       "<style scoped>\n",
       "    .dataframe tbody tr th:only-of-type {\n",
       "        vertical-align: middle;\n",
       "    }\n",
       "\n",
       "    .dataframe tbody tr th {\n",
       "        vertical-align: top;\n",
       "    }\n",
       "\n",
       "    .dataframe thead th {\n",
       "        text-align: right;\n",
       "    }\n",
       "</style>\n",
       "<table border=\"1\" class=\"dataframe\">\n",
       "  <thead>\n",
       "    <tr style=\"text-align: right;\">\n",
       "      <th></th>\n",
       "      <th>lv</th>\n",
       "      <th>value</th>\n",
       "    </tr>\n",
       "  </thead>\n",
       "  <tbody>\n",
       "    <tr>\n",
       "      <th>0</th>\n",
       "      <td>LV116</td>\n",
       "      <td>0.006180</td>\n",
       "    </tr>\n",
       "    <tr>\n",
       "      <th>1</th>\n",
       "      <td>LV931</td>\n",
       "      <td>0.004843</td>\n",
       "    </tr>\n",
       "    <tr>\n",
       "      <th>2</th>\n",
       "      <td>LV744</td>\n",
       "      <td>0.002292</td>\n",
       "    </tr>\n",
       "    <tr>\n",
       "      <th>3</th>\n",
       "      <td>LV697</td>\n",
       "      <td>0.002231</td>\n",
       "    </tr>\n",
       "    <tr>\n",
       "      <th>4</th>\n",
       "      <td>LV885</td>\n",
       "      <td>0.001984</td>\n",
       "    </tr>\n",
       "  </tbody>\n",
       "</table>\n",
       "</div>"
      ],
      "text/plain": [
       "      lv     value\n",
       "0  LV116  0.006180\n",
       "1  LV931  0.004843\n",
       "2  LV744  0.002292\n",
       "3  LV697  0.002231\n",
       "4  LV885  0.001984"
      ]
     },
     "execution_count": 60,
     "metadata": {},
     "output_type": "execute_result"
    }
   ],
   "source": [
    "common_lvs_df.head()"
   ]
  },
  {
   "cell_type": "code",
   "execution_count": 61,
   "metadata": {
    "execution": {
     "iopub.execute_input": "2021-07-29T19:16:19.134664Z",
     "iopub.status.busy": "2021-07-29T19:16:19.134313Z",
     "iopub.status.idle": "2021-07-29T19:16:19.151935Z",
     "shell.execute_reply": "2021-07-29T19:16:19.151565Z"
    },
    "papermill": {
     "duration": 0.060371,
     "end_time": "2021-07-29T19:16:19.152019",
     "exception": false,
     "start_time": "2021-07-29T19:16:19.091648",
     "status": "completed"
    },
    "tags": []
   },
   "outputs": [
    {
     "data": {
      "text/plain": [
       "lv\n",
       "LV881    0.036456\n",
       "LV116    0.014301\n",
       "LV97     0.011069\n",
       "LV931    0.010996\n",
       "LV163    0.010162\n",
       "LV536    0.009750\n",
       "LV227    0.009540\n",
       "LV707    0.007616\n",
       "LV743    0.006904\n",
       "LV885    0.006806\n",
       "LV824    0.006586\n",
       "LV530    0.006100\n",
       "LV678    0.005976\n",
       "LV841    0.005933\n",
       "LV74     0.005811\n",
       "LV254    0.005603\n",
       "LV95     0.005427\n",
       "LV840    0.005103\n",
       "LV170    0.004578\n",
       "LV395    0.004369\n",
       "LV246    0.004369\n",
       "LV969    0.004285\n",
       "LV575    0.004086\n",
       "LV38     0.003989\n",
       "LV21     0.003789\n",
       "Name: value, dtype: float64"
      ]
     },
     "metadata": {},
     "output_type": "display_data"
    }
   ],
   "source": [
    "# group by LV and sum\n",
    "lvs_by_sum = common_lvs_df.groupby(\"lv\").sum().squeeze().sort_values(ascending=False)\n",
    "display(lvs_by_sum.head(25))"
   ]
  },
  {
   "cell_type": "code",
   "execution_count": 62,
   "metadata": {
    "execution": {
     "iopub.execute_input": "2021-07-29T19:16:19.238429Z",
     "iopub.status.busy": "2021-07-29T19:16:19.238033Z",
     "iopub.status.idle": "2021-07-29T19:16:19.248378Z",
     "shell.execute_reply": "2021-07-29T19:16:19.248021Z"
    },
    "papermill": {
     "duration": 0.054663,
     "end_time": "2021-07-29T19:16:19.248461",
     "exception": false,
     "start_time": "2021-07-29T19:16:19.193798",
     "status": "completed"
    },
    "tags": []
   },
   "outputs": [
    {
     "data": {
      "text/plain": [
       "lv\n",
       "LV97     5\n",
       "LV707    4\n",
       "LV227    4\n",
       "LV116    4\n",
       "LV678    4\n",
       "LV824    4\n",
       "LV163    4\n",
       "LV885    4\n",
       "LV246    3\n",
       "LV21     3\n",
       "LV840    3\n",
       "LV841    3\n",
       "LV354    3\n",
       "LV254    3\n",
       "LV881    3\n",
       "LV536    3\n",
       "LV530    3\n",
       "LV931    3\n",
       "LV95     3\n",
       "LV170    3\n",
       "LV395    2\n",
       "LV38     2\n",
       "LV525    2\n",
       "LV587    2\n",
       "LV59     2\n",
       "Name: value, dtype: int64"
      ]
     },
     "metadata": {},
     "output_type": "display_data"
    }
   ],
   "source": [
    "# group by LV and count\n",
    "lvs_by_count = (\n",
    "    common_lvs_df.groupby(\"lv\").count().squeeze().sort_values(ascending=False)\n",
    ")\n",
    "display(lvs_by_count.head(25))"
   ]
  },
  {
   "cell_type": "markdown",
   "metadata": {
    "papermill": {
     "duration": 0.040876,
     "end_time": "2021-07-29T19:16:19.331080",
     "exception": false,
     "start_time": "2021-07-29T19:16:19.290204",
     "status": "completed"
    },
    "tags": []
   },
   "source": [
    "LV116, LV931 and LV246 (which we discuss in the manuscript) are the common across several cardiovascular traits."
   ]
  },
  {
   "cell_type": "markdown",
   "metadata": {
    "papermill": {
     "duration": 0.041978,
     "end_time": "2021-07-29T19:16:19.414440",
     "exception": false,
     "start_time": "2021-07-29T19:16:19.372462",
     "status": "completed"
    },
    "tags": []
   },
   "source": [
    "# Which are the top LVs \"affected\" by Niacin?"
   ]
  },
  {
   "cell_type": "code",
   "execution_count": 63,
   "metadata": {
    "execution": {
     "iopub.execute_input": "2021-07-29T19:16:19.503473Z",
     "iopub.status.busy": "2021-07-29T19:16:19.503105Z",
     "iopub.status.idle": "2021-07-29T19:16:19.513115Z",
     "shell.execute_reply": "2021-07-29T19:16:19.512746Z"
    },
    "papermill": {
     "duration": 0.05421,
     "end_time": "2021-07-29T19:16:19.513196",
     "exception": false,
     "start_time": "2021-07-29T19:16:19.458986",
     "status": "completed"
    },
    "tags": []
   },
   "outputs": [
    {
     "data": {
      "text/plain": [
       "LV881    0.154953\n",
       "LV116    0.097558\n",
       "LV743    0.097299\n",
       "LV38     0.088232\n",
       "LV841    0.086833\n",
       "LV163    0.080580\n",
       "LV161    0.070249\n",
       "LV931    0.069832\n",
       "LV9      0.069249\n",
       "LV536    0.068436\n",
       "LV50     0.067657\n",
       "LV707    0.067467\n",
       "LV142    0.064834\n",
       "LV95     0.061820\n",
       "LV97     0.061123\n",
       "LV74     0.056454\n",
       "LV66     0.055342\n",
       "LV974    0.053342\n",
       "LV678    0.051296\n",
       "LV879    0.050419\n",
       "LV969    0.047919\n",
       "LV27     0.047240\n",
       "LV509    0.046626\n",
       "LV272    0.046522\n",
       "LV905    0.045610\n",
       "LV254    0.044915\n",
       "LV720    0.043503\n",
       "LV587    0.043327\n",
       "LV608    0.043223\n",
       "LV246    0.042009\n",
       "Name: DB00627, dtype: float64"
      ]
     },
     "execution_count": 63,
     "metadata": {},
     "output_type": "execute_result"
    }
   ],
   "source": [
    "drug_data.abs().sort_values(ascending=False).head(30)"
   ]
  },
  {
   "cell_type": "code",
   "execution_count": 64,
   "metadata": {
    "execution": {
     "iopub.execute_input": "2021-07-29T19:16:19.599900Z",
     "iopub.status.busy": "2021-07-29T19:16:19.599547Z",
     "iopub.status.idle": "2021-07-29T19:16:19.609173Z",
     "shell.execute_reply": "2021-07-29T19:16:19.608804Z"
    },
    "papermill": {
     "duration": 0.053445,
     "end_time": "2021-07-29T19:16:19.609258",
     "exception": false,
     "start_time": "2021-07-29T19:16:19.555813",
     "status": "completed"
    },
    "tags": []
   },
   "outputs": [
    {
     "data": {
      "text/plain": [
       "LV881    0.154953\n",
       "LV116    0.097558\n",
       "LV743    0.097299\n",
       "LV38     0.088232\n",
       "LV974    0.053342\n",
       "LV678    0.051296\n",
       "LV879    0.050419\n",
       "LV272    0.046522\n",
       "LV254    0.044915\n",
       "LV720    0.043503\n",
       "LV587    0.043327\n",
       "LV20     0.040827\n",
       "LV840    0.039595\n",
       "LV507    0.037171\n",
       "LV684    0.034499\n",
       "Name: DB00627, dtype: float64"
      ]
     },
     "execution_count": 64,
     "metadata": {},
     "output_type": "execute_result"
    }
   ],
   "source": [
    "drug_data.sort_values(ascending=False).head(15)"
   ]
  },
  {
   "cell_type": "code",
   "execution_count": 65,
   "metadata": {
    "execution": {
     "iopub.execute_input": "2021-07-29T19:16:19.697177Z",
     "iopub.status.busy": "2021-07-29T19:16:19.696826Z",
     "iopub.status.idle": "2021-07-29T19:16:19.706347Z",
     "shell.execute_reply": "2021-07-29T19:16:19.705980Z"
    },
    "papermill": {
     "duration": 0.054147,
     "end_time": "2021-07-29T19:16:19.706430",
     "exception": false,
     "start_time": "2021-07-29T19:16:19.652283",
     "status": "completed"
    },
    "tags": []
   },
   "outputs": [
    {
     "data": {
      "text/plain": [
       "LV841   -0.086833\n",
       "LV163   -0.080580\n",
       "LV161   -0.070249\n",
       "LV931   -0.069832\n",
       "LV9     -0.069249\n",
       "LV536   -0.068436\n",
       "LV50    -0.067657\n",
       "LV707   -0.067467\n",
       "LV142   -0.064834\n",
       "LV95    -0.061820\n",
       "LV97    -0.061123\n",
       "LV74    -0.056454\n",
       "LV66    -0.055342\n",
       "LV969   -0.047919\n",
       "LV27    -0.047240\n",
       "Name: DB00627, dtype: float64"
      ]
     },
     "execution_count": 65,
     "metadata": {},
     "output_type": "execute_result"
    }
   ],
   "source": [
    "drug_data.sort_values(ascending=True).head(15)"
   ]
  },
  {
   "cell_type": "markdown",
   "metadata": {
    "papermill": {
     "duration": 0.04226,
     "end_time": "2021-07-29T19:16:19.791397",
     "exception": false,
     "start_time": "2021-07-29T19:16:19.749137",
     "status": "completed"
    },
    "tags": []
   },
   "source": [
    "# Save"
   ]
  },
  {
   "cell_type": "code",
   "execution_count": 66,
   "metadata": {
    "execution": {
     "iopub.execute_input": "2021-07-29T19:16:19.878828Z",
     "iopub.status.busy": "2021-07-29T19:16:19.878472Z",
     "iopub.status.idle": "2021-07-29T19:16:19.913361Z",
     "shell.execute_reply": "2021-07-29T19:16:19.912997Z"
    },
    "papermill": {
     "duration": 0.079975,
     "end_time": "2021-07-29T19:16:19.913442",
     "exception": false,
     "start_time": "2021-07-29T19:16:19.833467",
     "status": "completed"
    },
    "tags": []
   },
   "outputs": [],
   "source": [
    "with pd.HDFStore(OUTPUT_FILEPATH, mode=\"w\", complevel=4) as store:\n",
    "    store.put(\"traits_module_tissue_data\", module_tissue_data, format=\"fixed\")\n",
    "    store.put(\"drug_data\", drug_data, format=\"fixed\")\n",
    "    store.put(\"drug_trait_predictions\", drug_trait_predictions, format=\"fixed\")\n",
    "    store.put(\"common_lvs\", common_lvs_df, format=\"fixed\")"
   ]
  },
  {
   "cell_type": "code",
   "execution_count": null,
   "metadata": {
    "papermill": {
     "duration": 0.041916,
     "end_time": "2021-07-29T19:16:19.999490",
     "exception": false,
     "start_time": "2021-07-29T19:16:19.957574",
     "status": "completed"
    },
    "tags": []
   },
   "outputs": [],
   "source": []
  }
 ],
 "metadata": {
  "jupytext": {
   "cell_metadata_filter": "all,-execution,-papermill,-trusted",
   "formats": "ipynb,py//py:percent"
  },
  "kernelspec": {
   "display_name": "Python 3",
   "language": "python",
   "name": "python3"
  },
  "language_info": {
   "codemirror_mode": {
    "name": "ipython",
    "version": 3
   },
   "file_extension": ".py",
   "mimetype": "text/x-python",
   "name": "python",
   "nbconvert_exporter": "python",
   "pygments_lexer": "ipython3",
   "version": "3.8.8"
  },
  "papermill": {
   "default_parameters": {},
   "duration": 14.392918,
   "end_time": "2021-07-29T19:16:20.347386",
   "environment_variables": {},
   "exception": null,
   "input_path": "30_drug_disease_associations/lincs/040-niacin_and_cardiovascular_traits.ipynb",
   "output_path": "30_drug_disease_associations/lincs/040-niacin_and_cardiovascular_traits.run.ipynb",
   "parameters": {},
   "start_time": "2021-07-29T19:16:05.954468",
   "version": "2.2.2"
  },
  "toc-autonumbering": true
 },
 "nbformat": 4,
 "nbformat_minor": 4
}
