{
 "cells": [
  {
   "cell_type": "markdown",
   "metadata": {
    "papermill": {
     "duration": 0.039298,
     "end_time": "2020-12-23T18:04:39.246832",
     "exception": false,
     "start_time": "2020-12-23T18:04:39.207534",
     "status": "completed"
    },
    "tags": []
   },
   "source": [
    "# Description"
   ]
  },
  {
   "cell_type": "markdown",
   "metadata": {
    "papermill": {
     "duration": 0.010239,
     "end_time": "2020-12-23T18:04:39.272325",
     "exception": false,
     "start_time": "2020-12-23T18:04:39.262086",
     "status": "completed"
    },
    "tags": []
   },
   "source": [
    "This notebook analyzes the LVs driving the association of Niacin with some cardiovascular traits.\n",
    "It saves some dataframes with the common list of LVs affecting cardiovascular traits and other data for later use."
   ]
  },
  {
   "cell_type": "markdown",
   "metadata": {
    "papermill": {
     "duration": 0.010515,
     "end_time": "2020-12-23T18:04:39.292047",
     "exception": false,
     "start_time": "2020-12-23T18:04:39.281532",
     "status": "completed"
    },
    "tags": []
   },
   "source": [
    "# Modules loading"
   ]
  },
  {
   "cell_type": "code",
   "execution_count": null,
   "metadata": {
    "papermill": {
     "duration": 0.020255,
     "end_time": "2020-12-23T18:04:39.321650",
     "exception": false,
     "start_time": "2020-12-23T18:04:39.301395",
     "status": "completed"
    },
    "tags": []
   },
   "outputs": [],
   "source": [
    "%load_ext autoreload\n",
    "%autoreload 2"
   ]
  },
  {
   "cell_type": "code",
   "execution_count": null,
   "metadata": {
    "papermill": {
     "duration": 0.194124,
     "end_time": "2020-12-23T18:04:39.525509",
     "exception": false,
     "start_time": "2020-12-23T18:04:39.331385",
     "status": "completed"
    },
    "tags": []
   },
   "outputs": [],
   "source": [
    "from pathlib import Path\n",
    "\n",
    "import numpy as np\n",
    "import pandas as pd\n",
    "\n",
    "from entity import Gene, Trait\n",
    "import conf"
   ]
  },
  {
   "cell_type": "markdown",
   "metadata": {
    "papermill": {
     "duration": 0.009123,
     "end_time": "2020-12-23T18:04:39.544244",
     "exception": false,
     "start_time": "2020-12-23T18:04:39.535121",
     "status": "completed"
    },
    "tags": []
   },
   "source": [
    "# Settings"
   ]
  },
  {
   "cell_type": "code",
   "execution_count": null,
   "metadata": {
    "papermill": {
     "duration": 0.009123,
     "end_time": "2020-12-23T18:04:39.544244",
     "exception": false,
     "start_time": "2020-12-23T18:04:39.535121",
     "status": "completed"
    },
    "tags": []
   },
   "outputs": [],
   "source": [
    "# it specified the threshold to select the top-contributing LVs for each selected trait\n",
    "QUANTILE = 0.95"
   ]
  },
  {
   "cell_type": "markdown",
   "metadata": {
    "papermill": {
     "duration": 0.009123,
     "end_time": "2020-12-23T18:04:39.544244",
     "exception": false,
     "start_time": "2020-12-23T18:04:39.535121",
     "status": "completed"
    },
    "tags": []
   },
   "source": [
    "# Paths"
   ]
  },
  {
   "cell_type": "code",
   "execution_count": null,
   "metadata": {},
   "outputs": [],
   "source": [
    "INPUT_DIR = conf.RESULTS[\"DRUG_DISEASE_ANALYSES\"] / \"lincs\" / \"predictions\"\n",
    "input_predictions_by_tissue_file = INPUT_DIR / \"full_predictions_by_tissue-rank.h5\"\n",
    "display(input_predictions_by_tissue_file)\n",
    "assert input_predictions_by_tissue_file.exists()"
   ]
  },
  {
   "cell_type": "code",
   "execution_count": null,
   "metadata": {
    "papermill": {
     "duration": 0.032034,
     "end_time": "2021-04-22T19:41:49.062125",
     "exception": false,
     "start_time": "2021-04-22T19:41:49.030091",
     "status": "completed"
    },
    "tags": []
   },
   "outputs": [],
   "source": [
    "OUTPUT_DIR = conf.RESULTS[\"DRUG_DISEASE_ANALYSES\"] / \"lincs\" / \"analyses\"\n",
    "display(OUTPUT_DIR)\n",
    "OUTPUT_DIR.mkdir(exist_ok=True, parents=True)"
   ]
  },
  {
   "cell_type": "code",
   "execution_count": null,
   "metadata": {},
   "outputs": [],
   "source": [
    "OUTPUT_FILEPATH = OUTPUT_DIR / \"cardiovascular-niacin.h5\"\n",
    "display(OUTPUT_FILEPATH)"
   ]
  },
  {
   "cell_type": "markdown",
   "metadata": {
    "papermill": {
     "duration": 0.01638,
     "end_time": "2021-07-29T18:28:59.097824",
     "exception": false,
     "start_time": "2021-07-29T18:28:59.081444",
     "status": "completed"
    },
    "tags": []
   },
   "source": [
    "# Data loading"
   ]
  },
  {
   "cell_type": "markdown",
   "metadata": {
    "papermill": {
     "duration": 0.01648,
     "end_time": "2021-07-29T18:28:59.131135",
     "exception": false,
     "start_time": "2021-07-29T18:28:59.114655",
     "status": "completed"
    },
    "tags": []
   },
   "source": [
    "## PharmacotherapyDB"
   ]
  },
  {
   "cell_type": "markdown",
   "metadata": {
    "papermill": {
     "duration": 0.01637,
     "end_time": "2021-07-29T18:28:59.164057",
     "exception": false,
     "start_time": "2021-07-29T18:28:59.147687",
     "status": "completed"
    },
    "tags": []
   },
   "source": [
    "### Gold standard set"
   ]
  },
  {
   "cell_type": "code",
   "execution_count": null,
   "metadata": {},
   "outputs": [],
   "source": [
    "gold_standard = pd.read_pickle(\n",
    "    Path(conf.RESULTS[\"DRUG_DISEASE_ANALYSES\"], \"gold_standard.pkl\"),\n",
    ")"
   ]
  },
  {
   "cell_type": "code",
   "execution_count": null,
   "metadata": {},
   "outputs": [],
   "source": [
    "gold_standard.shape"
   ]
  },
  {
   "cell_type": "code",
   "execution_count": null,
   "metadata": {},
   "outputs": [],
   "source": [
    "gold_standard.head()"
   ]
  },
  {
   "cell_type": "markdown",
   "metadata": {},
   "source": [
    "### Info"
   ]
  },
  {
   "cell_type": "code",
   "execution_count": null,
   "metadata": {
    "papermill": {
     "duration": 0.030171,
     "end_time": "2020-12-23T18:04:39.674843",
     "exception": false,
     "start_time": "2020-12-23T18:04:39.644672",
     "status": "completed"
    },
    "tags": []
   },
   "outputs": [],
   "source": [
    "input_file = conf.PHARMACOTHERAPYDB[\"INDICATIONS_FILE\"]\n",
    "display(input_file)"
   ]
  },
  {
   "cell_type": "code",
   "execution_count": null,
   "metadata": {},
   "outputs": [],
   "source": [
    "gold_standard_info = pd.read_csv(input_file, sep=\"\\t\")"
   ]
  },
  {
   "cell_type": "code",
   "execution_count": null,
   "metadata": {},
   "outputs": [],
   "source": [
    "gold_standard_info = gold_standard_info.rename(columns={\"drug\": \"drug_name\"})"
   ]
  },
  {
   "cell_type": "code",
   "execution_count": null,
   "metadata": {
    "papermill": {
     "duration": 0.020017,
     "end_time": "2020-12-23T18:04:39.704939",
     "exception": false,
     "start_time": "2020-12-23T18:04:39.684922",
     "status": "completed"
    },
    "tags": []
   },
   "outputs": [],
   "source": [
    "gold_standard_info.shape"
   ]
  },
  {
   "cell_type": "code",
   "execution_count": null,
   "metadata": {
    "papermill": {
     "duration": 0.025481,
     "end_time": "2020-12-23T18:04:39.740804",
     "exception": false,
     "start_time": "2020-12-23T18:04:39.715323",
     "status": "completed"
    },
    "tags": []
   },
   "outputs": [],
   "source": [
    "gold_standard_info.head()"
   ]
  },
  {
   "cell_type": "code",
   "execution_count": null,
   "metadata": {},
   "outputs": [],
   "source": [
    "gold_standard_info = (\n",
    "    gold_standard.set_index([\"trait\", \"drug\"])\n",
    "    .join(\n",
    "        gold_standard_info.rename(\n",
    "            columns={\"doid_id\": \"trait\", \"drugbank_id\": \"drug\"}\n",
    "        ).set_index([\"trait\", \"drug\"])\n",
    "    )\n",
    "    .reset_index()\n",
    ")"
   ]
  },
  {
   "cell_type": "code",
   "execution_count": null,
   "metadata": {
    "papermill": {
     "duration": 0.021146,
     "end_time": "2020-12-23T18:04:39.772888",
     "exception": false,
     "start_time": "2020-12-23T18:04:39.751742",
     "status": "completed"
    },
    "tags": []
   },
   "outputs": [],
   "source": [
    "gold_standard_info.shape"
   ]
  },
  {
   "cell_type": "code",
   "execution_count": null,
   "metadata": {
    "papermill": {
     "duration": 0.02135,
     "end_time": "2020-12-23T18:04:39.805324",
     "exception": false,
     "start_time": "2020-12-23T18:04:39.783974",
     "status": "completed"
    },
    "tags": []
   },
   "outputs": [],
   "source": [
    "gold_standard_info.head()"
   ]
  },
  {
   "cell_type": "markdown",
   "metadata": {
    "papermill": {
     "duration": 0.010857,
     "end_time": "2020-12-23T19:50:41.886745",
     "exception": false,
     "start_time": "2020-12-23T19:50:41.875888",
     "status": "completed"
    },
    "tags": []
   },
   "source": [
    "## LINCS data"
   ]
  },
  {
   "cell_type": "code",
   "execution_count": null,
   "metadata": {
    "papermill": {
     "duration": 0.021901,
     "end_time": "2020-12-23T19:50:41.940473",
     "exception": false,
     "start_time": "2020-12-23T19:50:41.918572",
     "status": "completed"
    },
    "tags": []
   },
   "outputs": [],
   "source": [
    "input_file = Path(\n",
    "    conf.RESULTS[\"DRUG_DISEASE_ANALYSES\"], \"lincs\", \"lincs-data.pkl\"\n",
    ").resolve()\n",
    "\n",
    "display(input_file)"
   ]
  },
  {
   "cell_type": "code",
   "execution_count": null,
   "metadata": {
    "papermill": {
     "duration": 0.026636,
     "end_time": "2020-12-23T19:50:41.978518",
     "exception": false,
     "start_time": "2020-12-23T19:50:41.951882",
     "status": "completed"
    },
    "tags": []
   },
   "outputs": [],
   "source": [
    "lincs_data = pd.read_pickle(input_file).T.rename(columns=Gene.GENE_ID_TO_NAME_MAP)"
   ]
  },
  {
   "cell_type": "code",
   "execution_count": null,
   "metadata": {
    "papermill": {
     "duration": 0.024037,
     "end_time": "2020-12-23T19:50:42.015614",
     "exception": false,
     "start_time": "2020-12-23T19:50:41.991577",
     "status": "completed"
    },
    "tags": []
   },
   "outputs": [],
   "source": [
    "display(lincs_data.shape)"
   ]
  },
  {
   "cell_type": "code",
   "execution_count": null,
   "metadata": {
    "papermill": {
     "duration": 0.034451,
     "end_time": "2020-12-23T19:50:42.062781",
     "exception": false,
     "start_time": "2020-12-23T19:50:42.028330",
     "status": "completed"
    },
    "tags": []
   },
   "outputs": [],
   "source": [
    "display(lincs_data.head())"
   ]
  },
  {
   "cell_type": "markdown",
   "metadata": {
    "papermill": {
     "duration": 0.010857,
     "end_time": "2020-12-23T19:50:41.886745",
     "exception": false,
     "start_time": "2020-12-23T19:50:41.875888",
     "status": "completed"
    },
    "tags": []
   },
   "source": [
    "## LINCS projection"
   ]
  },
  {
   "cell_type": "code",
   "execution_count": null,
   "metadata": {
    "papermill": {
     "duration": 0.021901,
     "end_time": "2020-12-23T19:50:41.940473",
     "exception": false,
     "start_time": "2020-12-23T19:50:41.918572",
     "status": "completed"
    },
    "tags": []
   },
   "outputs": [],
   "source": [
    "input_file = Path(\n",
    "    conf.RESULTS[\"DRUG_DISEASE_ANALYSES\"], \"lincs\", \"lincs-projection.pkl\"\n",
    ").resolve()\n",
    "\n",
    "display(input_file)"
   ]
  },
  {
   "cell_type": "code",
   "execution_count": null,
   "metadata": {
    "papermill": {
     "duration": 0.026636,
     "end_time": "2020-12-23T19:50:41.978518",
     "exception": false,
     "start_time": "2020-12-23T19:50:41.951882",
     "status": "completed"
    },
    "tags": []
   },
   "outputs": [],
   "source": [
    "lincs_projection = pd.read_pickle(input_file).T"
   ]
  },
  {
   "cell_type": "code",
   "execution_count": null,
   "metadata": {
    "papermill": {
     "duration": 0.024037,
     "end_time": "2020-12-23T19:50:42.015614",
     "exception": false,
     "start_time": "2020-12-23T19:50:41.991577",
     "status": "completed"
    },
    "tags": []
   },
   "outputs": [],
   "source": [
    "display(lincs_projection.shape)"
   ]
  },
  {
   "cell_type": "code",
   "execution_count": null,
   "metadata": {
    "papermill": {
     "duration": 0.034451,
     "end_time": "2020-12-23T19:50:42.062781",
     "exception": false,
     "start_time": "2020-12-23T19:50:42.028330",
     "status": "completed"
    },
    "tags": []
   },
   "outputs": [],
   "source": [
    "display(lincs_projection.head())"
   ]
  },
  {
   "cell_type": "markdown",
   "metadata": {},
   "source": [
    "# Niacin and cardiovascular diseases"
   ]
  },
  {
   "cell_type": "markdown",
   "metadata": {},
   "source": [
    "## Select traits and show their sample size"
   ]
  },
  {
   "cell_type": "code",
   "execution_count": null,
   "metadata": {},
   "outputs": [],
   "source": [
    "Trait.get_traits_from_efo(\"atherosclerosis\")"
   ]
  },
  {
   "cell_type": "code",
   "execution_count": null,
   "metadata": {},
   "outputs": [],
   "source": [
    "Trait.get_traits_from_efo(\"coronary artery disease\")"
   ]
  },
  {
   "cell_type": "code",
   "execution_count": null,
   "metadata": {},
   "outputs": [],
   "source": [
    "_phenomexcan_traits = [\n",
    "    \"I70-Diagnoses_main_ICD10_I70_Atherosclerosis\",\n",
    "    \"CARDIoGRAM_C4D_CAD_ADDITIVE\",\n",
    "    \"I25-Diagnoses_main_ICD10_I25_Chronic_ischaemic_heart_disease\",\n",
    "    \"20002_1473-Noncancer_illness_code_selfreported_high_cholesterol\",\n",
    "    \"6150_100-Vascularheart_problems_diagnosed_by_doctor_None_of_the_above\",\n",
    "    \"6150_1-Vascularheart_problems_diagnosed_by_doctor_Heart_attack\",\n",
    "    \"I9_CHD-Major_coronary_heart_disease_event\",\n",
    "    \"I9_CORATHER-Coronary_atherosclerosis\",\n",
    "    \"I9_IHD-Ischaemic_heart_disease_wide_definition\",\n",
    "    \"I9_MI-Myocardial_infarction\",\n",
    "    \"I21-Diagnoses_main_ICD10_I21_Acute_myocardial_infarction\",\n",
    "    \"20002_1075-Noncancer_illness_code_selfreported_heart_attackmyocardial_infarction\",\n",
    "]\n",
    "\n",
    "_drug_id = \"DB00627\"\n",
    "_drug_name = \"Niacin\""
   ]
  },
  {
   "cell_type": "code",
   "execution_count": null,
   "metadata": {},
   "outputs": [],
   "source": [
    "for p in _phenomexcan_traits:\n",
    "    print(p)\n",
    "    d = Trait.get_trait(full_code=p)\n",
    "    print((d.n, d.n_cases))\n",
    "\n",
    "    print(\"\\n\")"
   ]
  },
  {
   "cell_type": "markdown",
   "metadata": {},
   "source": [
    "## Get best tissue results for Niacin"
   ]
  },
  {
   "cell_type": "code",
   "execution_count": null,
   "metadata": {},
   "outputs": [],
   "source": [
    "drugs_tissue_df = {}\n",
    "\n",
    "with pd.HDFStore(input_predictions_by_tissue_file, mode=\"r\") as store:\n",
    "    for tk in store.keys():\n",
    "        df = store[tk][_drug_id]\n",
    "\n",
    "        drugs_tissue_df[tk[1:]] = df"
   ]
  },
  {
   "cell_type": "code",
   "execution_count": null,
   "metadata": {},
   "outputs": [],
   "source": [
    "_tmp = pd.DataFrame(drugs_tissue_df)\n",
    "display(_tmp.shape)\n",
    "display(_tmp.head())"
   ]
  },
  {
   "cell_type": "code",
   "execution_count": null,
   "metadata": {},
   "outputs": [],
   "source": [
    "# show top tissue models (from TWAS) for each trait\n",
    "traits_best_tissues_df = (\n",
    "    pd.DataFrame(drugs_tissue_df).loc[_phenomexcan_traits].idxmax(1)\n",
    ")\n",
    "display(traits_best_tissues_df)"
   ]
  },
  {
   "cell_type": "code",
   "execution_count": null,
   "metadata": {},
   "outputs": [],
   "source": [
    "# pick the tissue with the maximum score for each trait\n",
    "drug_df = pd.DataFrame(drugs_tissue_df).max(1)"
   ]
  },
  {
   "cell_type": "code",
   "execution_count": null,
   "metadata": {},
   "outputs": [],
   "source": [
    "drug_df.shape"
   ]
  },
  {
   "cell_type": "code",
   "execution_count": null,
   "metadata": {},
   "outputs": [],
   "source": [
    "drug_df.head()"
   ]
  },
  {
   "cell_type": "code",
   "execution_count": null,
   "metadata": {},
   "outputs": [],
   "source": [
    "drug_df.loc[_phenomexcan_traits].sort_values()"
   ]
  },
  {
   "cell_type": "code",
   "execution_count": null,
   "metadata": {},
   "outputs": [],
   "source": [
    "drug_df.describe()"
   ]
  },
  {
   "cell_type": "code",
   "execution_count": null,
   "metadata": {},
   "outputs": [],
   "source": [
    "drug_mean, drug_std = drug_df.mean(), drug_df.std()\n",
    "display((drug_mean, drug_std))"
   ]
  },
  {
   "cell_type": "code",
   "execution_count": null,
   "metadata": {},
   "outputs": [],
   "source": [
    "drug_df_stats = ((drug_df - drug_mean) / drug_std).describe()\n",
    "display(drug_df_stats)"
   ]
  },
  {
   "cell_type": "code",
   "execution_count": null,
   "metadata": {},
   "outputs": [],
   "source": [
    "drug_df = (drug_df.loc[_phenomexcan_traits] - drug_mean) / drug_std"
   ]
  },
  {
   "cell_type": "code",
   "execution_count": null,
   "metadata": {},
   "outputs": [],
   "source": [
    "drug_df.shape"
   ]
  },
  {
   "cell_type": "code",
   "execution_count": null,
   "metadata": {},
   "outputs": [],
   "source": [
    "drug_df.sort_values()"
   ]
  },
  {
   "cell_type": "markdown",
   "metadata": {},
   "source": [
    "Most predictions of Niacin for these traits are high (above the mean and a standard deviation away).\n",
    "The ones that are low are related to heart attack, but there seems to be heterogeneity among definitions, since self-reported ones got a negative score, whereas the ICD10 (from hospital-level data) is positive."
   ]
  },
  {
   "cell_type": "code",
   "execution_count": null,
   "metadata": {},
   "outputs": [],
   "source": [
    "# select traits for which niacin has a high prediction\n",
    "selected_traits = drug_df[drug_df > drug_df_stats[\"75%\"]].index.tolist()"
   ]
  },
  {
   "cell_type": "code",
   "execution_count": null,
   "metadata": {},
   "outputs": [],
   "source": [
    "selected_traits"
   ]
  },
  {
   "cell_type": "markdown",
   "metadata": {},
   "source": [
    "## Get niacin projection values"
   ]
  },
  {
   "cell_type": "code",
   "execution_count": null,
   "metadata": {},
   "outputs": [],
   "source": [
    "drug_data = lincs_projection.loc[_drug_id]"
   ]
  },
  {
   "cell_type": "code",
   "execution_count": null,
   "metadata": {},
   "outputs": [],
   "source": [
    "drug_data.shape"
   ]
  },
  {
   "cell_type": "code",
   "execution_count": null,
   "metadata": {},
   "outputs": [],
   "source": [
    "drug_data.head()"
   ]
  },
  {
   "cell_type": "markdown",
   "metadata": {},
   "source": [
    "## Gene module-based - LVs driving association"
   ]
  },
  {
   "cell_type": "markdown",
   "metadata": {},
   "source": [
    "Find which LVs are positively contributing to the prediction of these selected traits."
   ]
  },
  {
   "cell_type": "code",
   "execution_count": null,
   "metadata": {},
   "outputs": [],
   "source": [
    "traits_lv_data = []\n",
    "\n",
    "for trait in selected_traits:\n",
    "    best_module_tissue = traits_best_tissues_df.loc[trait]\n",
    "    display(best_module_tissue)\n",
    "\n",
    "    best_module_tissue_data = pd.read_pickle(\n",
    "        conf.RESULTS[\"DRUG_DISEASE_ANALYSES\"]\n",
    "        / \"spredixcan\"\n",
    "        / \"proj\"\n",
    "        / f\"spredixcan-mashr-zscores-{best_module_tissue}-projection.pkl\"\n",
    "    )[trait]\n",
    "\n",
    "    traits_lv_data.append(best_module_tissue_data)"
   ]
  },
  {
   "cell_type": "code",
   "execution_count": null,
   "metadata": {},
   "outputs": [],
   "source": [
    "module_tissue_data = pd.DataFrame(traits_lv_data).T"
   ]
  },
  {
   "cell_type": "code",
   "execution_count": null,
   "metadata": {},
   "outputs": [],
   "source": [
    "module_tissue_data.shape"
   ]
  },
  {
   "cell_type": "code",
   "execution_count": null,
   "metadata": {},
   "outputs": [],
   "source": [
    "module_tissue_data.head()"
   ]
  },
  {
   "cell_type": "code",
   "execution_count": null,
   "metadata": {},
   "outputs": [],
   "source": [
    "_tmp = (-1.0 * drug_data.dot(module_tissue_data)).sort_values(ascending=False)\n",
    "display(_tmp)"
   ]
  },
  {
   "cell_type": "code",
   "execution_count": null,
   "metadata": {},
   "outputs": [],
   "source": [
    "# create a dataframe where for each trait (column) I have the contribution of each LVs in the rows\n",
    "drug_trait_predictions = pd.DataFrame(\n",
    "    -1.0 * (drug_data.to_frame().values * module_tissue_data.values),\n",
    "    columns=module_tissue_data.columns.copy(),\n",
    "    index=drug_data.index.copy(),\n",
    ")"
   ]
  },
  {
   "cell_type": "code",
   "execution_count": null,
   "metadata": {},
   "outputs": [],
   "source": [
    "drug_trait_predictions.shape"
   ]
  },
  {
   "cell_type": "code",
   "execution_count": null,
   "metadata": {},
   "outputs": [],
   "source": [
    "drug_trait_predictions.head()"
   ]
  },
  {
   "cell_type": "markdown",
   "metadata": {},
   "source": [
    "This dataframe now allows me to see which LVs are the largest for each trait."
   ]
  },
  {
   "cell_type": "markdown",
   "metadata": {},
   "source": [
    "## Get common LVs across selected traits"
   ]
  },
  {
   "cell_type": "code",
   "execution_count": null,
   "metadata": {},
   "outputs": [],
   "source": [
    "display(QUANTILE)"
   ]
  },
  {
   "cell_type": "code",
   "execution_count": null,
   "metadata": {},
   "outputs": [],
   "source": [
    "common_lvs = []\n",
    "\n",
    "for trait in drug_trait_predictions.columns:\n",
    "    _tmp = drug_trait_predictions[trait]\n",
    "\n",
    "    # for each trait, get the set of LVs with a contribution greater than the specified quantile\n",
    "    _tmp = _tmp[_tmp > 0.0]\n",
    "    q = _tmp.quantile(QUANTILE)\n",
    "    _tmp = _tmp[_tmp > q]\n",
    "    display(f\"Number of LVs: {_tmp.shape[0]}\")\n",
    "\n",
    "    _tmp = _tmp.sort_values(ascending=False)\n",
    "    common_lvs.append(_tmp)\n",
    "\n",
    "    display(_tmp.head(20))\n",
    "    print()"
   ]
  },
  {
   "cell_type": "code",
   "execution_count": null,
   "metadata": {},
   "outputs": [],
   "source": [
    "common_lvs_df = (\n",
    "    pd.concat(common_lvs).reset_index().rename(columns={\"index\": \"lv\", 0: \"value\"})\n",
    ")"
   ]
  },
  {
   "cell_type": "code",
   "execution_count": null,
   "metadata": {},
   "outputs": [],
   "source": [
    "common_lvs_df.shape"
   ]
  },
  {
   "cell_type": "code",
   "execution_count": null,
   "metadata": {},
   "outputs": [],
   "source": [
    "common_lvs_df.head()"
   ]
  },
  {
   "cell_type": "code",
   "execution_count": null,
   "metadata": {},
   "outputs": [],
   "source": [
    "# group by LV and sum\n",
    "lvs_by_sum = common_lvs_df.groupby(\"lv\").sum().squeeze().sort_values(ascending=False)\n",
    "display(lvs_by_sum.head(25))"
   ]
  },
  {
   "cell_type": "code",
   "execution_count": null,
   "metadata": {},
   "outputs": [],
   "source": [
    "# group by LV and count\n",
    "lvs_by_count = (\n",
    "    common_lvs_df.groupby(\"lv\").count().squeeze().sort_values(ascending=False)\n",
    ")\n",
    "display(lvs_by_count.head(25))"
   ]
  },
  {
   "cell_type": "markdown",
   "metadata": {},
   "source": [
    "LV116, LV931 and LV246 (which we discuss in the manuscript) are the common across several cardiovascular traits."
   ]
  },
  {
   "cell_type": "markdown",
   "metadata": {},
   "source": [
    "# Which are the top LVs \"affected\" by Niacin?"
   ]
  },
  {
   "cell_type": "code",
   "execution_count": null,
   "metadata": {},
   "outputs": [],
   "source": [
    "drug_data.abs().sort_values(ascending=False).head(30)"
   ]
  },
  {
   "cell_type": "code",
   "execution_count": null,
   "metadata": {},
   "outputs": [],
   "source": [
    "drug_data.sort_values(ascending=False).head(15)"
   ]
  },
  {
   "cell_type": "code",
   "execution_count": null,
   "metadata": {},
   "outputs": [],
   "source": [
    "drug_data.sort_values(ascending=True).head(15)"
   ]
  },
  {
   "cell_type": "markdown",
   "metadata": {},
   "source": [
    "# Save"
   ]
  },
  {
   "cell_type": "code",
   "execution_count": null,
   "metadata": {},
   "outputs": [],
   "source": [
    "with pd.HDFStore(OUTPUT_FILEPATH, mode=\"w\", complevel=4) as store:\n",
    "    store.put(\"traits_module_tissue_data\", module_tissue_data, format=\"fixed\")\n",
    "    store.put(\"drug_data\", drug_data, format=\"fixed\")\n",
    "    store.put(\"drug_trait_predictions\", drug_trait_predictions, format=\"fixed\")\n",
    "    store.put(\"common_lvs\", common_lvs_df, format=\"fixed\")"
   ]
  },
  {
   "cell_type": "code",
   "execution_count": null,
   "metadata": {},
   "outputs": [],
   "source": []
  }
 ],
 "metadata": {
  "jupytext": {
   "cell_metadata_filter": "all,-execution,-papermill,-trusted",
   "formats": "ipynb,py//py:percent"
  },
  "kernelspec": {
   "display_name": "Python 3",
   "language": "python",
   "name": "python3"
  },
  "language_info": {
   "codemirror_mode": {
    "name": "ipython",
    "version": 3
   },
   "file_extension": ".py",
   "mimetype": "text/x-python",
   "name": "python",
   "nbconvert_exporter": "python",
   "pygments_lexer": "ipython3",
   "version": "3.8.8"
  },
  "papermill": {
   "default_parameters": {},
   "duration": 3.201629,
   "end_time": "2020-12-23T18:04:41.617935",
   "environment_variables": {},
   "exception": null,
   "input_path": "15_drug_disease_associations/005-pharmacotherapydb-build_gold_standard.ipynb",
   "output_path": "15_drug_disease_associations/005-pharmacotherapydb-build_gold_standard.run.ipynb",
   "parameters": {},
   "start_time": "2020-12-23T18:04:38.416306",
   "version": "2.2.2"
  },
  "toc-autonumbering": true
 },
 "nbformat": 4,
 "nbformat_minor": 4
}
