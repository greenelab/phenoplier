{
 "cells": [
  {
   "cell_type": "markdown",
   "metadata": {
    "papermill": {
     "duration": 0.023904,
     "end_time": "2021-04-22T17:55:12.008724",
     "exception": false,
     "start_time": "2021-04-22T17:55:11.984820",
     "status": "completed"
    },
    "tags": []
   },
   "source": [
    "# Description"
   ]
  },
  {
   "cell_type": "markdown",
   "metadata": {
    "papermill": {
     "duration": 0.01592,
     "end_time": "2021-04-22T17:55:12.043302",
     "exception": false,
     "start_time": "2021-04-22T17:55:12.027382",
     "status": "completed"
    },
    "tags": []
   },
   "source": [
    "This notebook reads the prediction results generated with the `011-prediction-*` notebooks and computes the final performance measures using the gold standard (PharmacotherapyDB)."
   ]
  },
  {
   "cell_type": "markdown",
   "metadata": {
    "papermill": {
     "duration": 0.015421,
     "end_time": "2021-04-22T17:55:12.074167",
     "exception": false,
     "start_time": "2021-04-22T17:55:12.058746",
     "status": "completed"
    },
    "tags": []
   },
   "source": [
    "# Modules loading"
   ]
  },
  {
   "cell_type": "code",
   "execution_count": 1,
   "metadata": {
    "papermill": {
     "duration": 0.028085,
     "end_time": "2021-04-22T17:55:12.117615",
     "exception": false,
     "start_time": "2021-04-22T17:55:12.089530",
     "status": "completed"
    },
    "tags": []
   },
   "outputs": [],
   "source": [
    "%load_ext autoreload\n",
    "%autoreload 2"
   ]
  },
  {
   "cell_type": "code",
   "execution_count": 2,
   "metadata": {
    "papermill": {
     "duration": 0.194976,
     "end_time": "2021-04-22T17:55:12.329506",
     "exception": false,
     "start_time": "2021-04-22T17:55:12.134530",
     "status": "completed"
    },
    "tags": []
   },
   "outputs": [],
   "source": [
    "from pathlib import Path\n",
    "\n",
    "import numpy as np\n",
    "import pandas as pd\n",
    "from tqdm import tqdm\n",
    "\n",
    "import conf"
   ]
  },
  {
   "cell_type": "markdown",
   "metadata": {
    "papermill": {
     "duration": 0.015926,
     "end_time": "2021-04-22T17:55:12.361653",
     "exception": false,
     "start_time": "2021-04-22T17:55:12.345727",
     "status": "completed"
    },
    "tags": []
   },
   "source": [
    "# Settings"
   ]
  },
  {
   "cell_type": "code",
   "execution_count": 3,
   "metadata": {
    "papermill": {
     "duration": 0.028008,
     "end_time": "2021-04-22T17:55:12.405309",
     "exception": false,
     "start_time": "2021-04-22T17:55:12.377301",
     "status": "completed"
    },
    "tags": []
   },
   "outputs": [],
   "source": [
    "N_TISSUES = 49\n",
    "N_THRESHOLDS = 5\n",
    "N_PREDICTIONS = 646"
   ]
  },
  {
   "cell_type": "code",
   "execution_count": 4,
   "metadata": {
    "papermill": {
     "duration": 0.032994,
     "end_time": "2021-04-22T17:55:12.466850",
     "exception": false,
     "start_time": "2021-04-22T17:55:12.433856",
     "status": "completed"
    },
    "tags": []
   },
   "outputs": [
    {
     "data": {
      "text/plain": [
       "PosixPath('/media/miltondp/Elements1/projects/phenoplier/results/drug_disease_analyses/lincs')"
      ]
     },
     "metadata": {},
     "output_type": "display_data"
    }
   ],
   "source": [
    "OUTPUT_DIR = conf.RESULTS[\"DRUG_DISEASE_ANALYSES\"] / \"lincs\"\n",
    "display(OUTPUT_DIR)\n",
    "assert OUTPUT_DIR.exists()"
   ]
  },
  {
   "cell_type": "code",
   "execution_count": 5,
   "metadata": {
    "papermill": {
     "duration": 0.027047,
     "end_time": "2021-04-22T17:55:12.511194",
     "exception": false,
     "start_time": "2021-04-22T17:55:12.484147",
     "status": "completed"
    },
    "tags": []
   },
   "outputs": [
    {
     "data": {
      "text/plain": [
       "PosixPath('/media/miltondp/Elements1/projects/phenoplier/results/drug_disease_analyses/lincs/predictions/dotprod_neg')"
      ]
     },
     "metadata": {},
     "output_type": "display_data"
    }
   ],
   "source": [
    "OUTPUT_PREDICTIONS_DIR = Path(OUTPUT_DIR, \"predictions\", \"dotprod_neg\")\n",
    "display(OUTPUT_PREDICTIONS_DIR)\n",
    "OUTPUT_PREDICTIONS_DIR.mkdir(parents=True, exist_ok=True)"
   ]
  },
  {
   "cell_type": "markdown",
   "metadata": {
    "papermill": {
     "duration": 0.016452,
     "end_time": "2021-04-22T17:55:12.544993",
     "exception": false,
     "start_time": "2021-04-22T17:55:12.528541",
     "status": "completed"
    },
    "tags": []
   },
   "source": [
    "# Load PharmacotherapyDB gold standard"
   ]
  },
  {
   "cell_type": "code",
   "execution_count": 6,
   "metadata": {
    "papermill": {
     "duration": 0.026717,
     "end_time": "2021-04-22T17:55:12.588057",
     "exception": false,
     "start_time": "2021-04-22T17:55:12.561340",
     "status": "completed"
    },
    "tags": []
   },
   "outputs": [],
   "source": [
    "gold_standard = pd.read_pickle(\n",
    "    Path(conf.RESULTS[\"DRUG_DISEASE_ANALYSES\"], \"gold_standard.pkl\"),\n",
    ")"
   ]
  },
  {
   "cell_type": "code",
   "execution_count": 7,
   "metadata": {
    "papermill": {
     "duration": 0.026751,
     "end_time": "2021-04-22T17:55:12.631735",
     "exception": false,
     "start_time": "2021-04-22T17:55:12.604984",
     "status": "completed"
    },
    "tags": []
   },
   "outputs": [
    {
     "data": {
      "text/plain": [
       "(998, 3)"
      ]
     },
     "execution_count": 7,
     "metadata": {},
     "output_type": "execute_result"
    }
   ],
   "source": [
    "gold_standard.shape"
   ]
  },
  {
   "cell_type": "code",
   "execution_count": 8,
   "metadata": {
    "papermill": {
     "duration": 0.030982,
     "end_time": "2021-04-22T17:55:12.679830",
     "exception": false,
     "start_time": "2021-04-22T17:55:12.648848",
     "status": "completed"
    },
    "tags": []
   },
   "outputs": [
    {
     "data": {
      "text/html": [
       "<div>\n",
       "<style scoped>\n",
       "    .dataframe tbody tr th:only-of-type {\n",
       "        vertical-align: middle;\n",
       "    }\n",
       "\n",
       "    .dataframe tbody tr th {\n",
       "        vertical-align: top;\n",
       "    }\n",
       "\n",
       "    .dataframe thead th {\n",
       "        text-align: right;\n",
       "    }\n",
       "</style>\n",
       "<table border=\"1\" class=\"dataframe\">\n",
       "  <thead>\n",
       "    <tr style=\"text-align: right;\">\n",
       "      <th></th>\n",
       "      <th>trait</th>\n",
       "      <th>drug</th>\n",
       "      <th>true_class</th>\n",
       "    </tr>\n",
       "  </thead>\n",
       "  <tbody>\n",
       "    <tr>\n",
       "      <th>0</th>\n",
       "      <td>DOID:10652</td>\n",
       "      <td>DB00843</td>\n",
       "      <td>1</td>\n",
       "    </tr>\n",
       "    <tr>\n",
       "      <th>1</th>\n",
       "      <td>DOID:10652</td>\n",
       "      <td>DB00674</td>\n",
       "      <td>1</td>\n",
       "    </tr>\n",
       "    <tr>\n",
       "      <th>2</th>\n",
       "      <td>DOID:10652</td>\n",
       "      <td>DB01043</td>\n",
       "      <td>1</td>\n",
       "    </tr>\n",
       "    <tr>\n",
       "      <th>3</th>\n",
       "      <td>DOID:10652</td>\n",
       "      <td>DB00989</td>\n",
       "      <td>1</td>\n",
       "    </tr>\n",
       "    <tr>\n",
       "      <th>4</th>\n",
       "      <td>DOID:10652</td>\n",
       "      <td>DB00810</td>\n",
       "      <td>0</td>\n",
       "    </tr>\n",
       "  </tbody>\n",
       "</table>\n",
       "</div>"
      ],
      "text/plain": [
       "        trait     drug  true_class\n",
       "0  DOID:10652  DB00843           1\n",
       "1  DOID:10652  DB00674           1\n",
       "2  DOID:10652  DB01043           1\n",
       "3  DOID:10652  DB00989           1\n",
       "4  DOID:10652  DB00810           0"
      ]
     },
     "execution_count": 8,
     "metadata": {},
     "output_type": "execute_result"
    }
   ],
   "source": [
    "gold_standard.head()"
   ]
  },
  {
   "cell_type": "code",
   "execution_count": 9,
   "metadata": {
    "papermill": {
     "duration": 0.028126,
     "end_time": "2021-04-22T17:55:12.725445",
     "exception": false,
     "start_time": "2021-04-22T17:55:12.697319",
     "status": "completed"
    },
    "tags": []
   },
   "outputs": [
    {
     "data": {
      "text/plain": [
       "1    755\n",
       "0    243\n",
       "Name: true_class, dtype: int64"
      ]
     },
     "execution_count": 9,
     "metadata": {},
     "output_type": "execute_result"
    }
   ],
   "source": [
    "gold_standard[\"true_class\"].value_counts()"
   ]
  },
  {
   "cell_type": "code",
   "execution_count": 10,
   "metadata": {
    "papermill": {
     "duration": 0.030809,
     "end_time": "2021-04-22T17:55:12.773726",
     "exception": false,
     "start_time": "2021-04-22T17:55:12.742917",
     "status": "completed"
    },
    "tags": []
   },
   "outputs": [
    {
     "data": {
      "text/plain": [
       "1    0.756513\n",
       "0    0.243487\n",
       "Name: true_class, dtype: float64"
      ]
     },
     "execution_count": 10,
     "metadata": {},
     "output_type": "execute_result"
    }
   ],
   "source": [
    "gold_standard[\"true_class\"].value_counts(normalize=True)"
   ]
  },
  {
   "cell_type": "markdown",
   "metadata": {
    "papermill": {
     "duration": 0.017224,
     "end_time": "2021-04-22T17:55:12.808880",
     "exception": false,
     "start_time": "2021-04-22T17:55:12.791656",
     "status": "completed"
    },
    "tags": []
   },
   "source": [
    "# Load drug-disease predictions"
   ]
  },
  {
   "cell_type": "code",
   "execution_count": 11,
   "metadata": {
    "papermill": {
     "duration": 0.026208,
     "end_time": "2021-04-22T17:55:12.852330",
     "exception": false,
     "start_time": "2021-04-22T17:55:12.826122",
     "status": "completed"
    },
    "tags": []
   },
   "outputs": [],
   "source": [
    "from collections import defaultdict"
   ]
  },
  {
   "cell_type": "code",
   "execution_count": 19,
   "metadata": {
    "papermill": {
     "duration": 0.029456,
     "end_time": "2021-04-22T17:55:12.899797",
     "exception": false,
     "start_time": "2021-04-22T17:55:12.870341",
     "status": "completed"
    },
    "tags": []
   },
   "outputs": [
    {
     "data": {
      "text/plain": [
       "9"
      ]
     },
     "metadata": {},
     "output_type": "display_data"
    },
    {
     "ename": "AssertionError",
     "evalue": "",
     "output_type": "error",
     "traceback": [
      "\u001b[0;31m---------------------------------------------------------------------------\u001b[0m",
      "\u001b[0;31mAssertionError\u001b[0m                            Traceback (most recent call last)",
      "\u001b[0;32m<ipython-input-19-8e66b993e786>\u001b[0m in \u001b[0;36m<module>\u001b[0;34m\u001b[0m\n\u001b[1;32m      4\u001b[0m \u001b[0mdisplay\u001b[0m\u001b[0;34m(\u001b[0m\u001b[0mlen\u001b[0m\u001b[0;34m(\u001b[0m\u001b[0mcurrent_prediction_files\u001b[0m\u001b[0;34m)\u001b[0m\u001b[0;34m)\u001b[0m\u001b[0;34m\u001b[0m\u001b[0;34m\u001b[0m\u001b[0m\n\u001b[1;32m      5\u001b[0m \u001b[0;34m\u001b[0m\u001b[0m\n\u001b[0;32m----> 6\u001b[0;31m assert len(current_prediction_files) == 2 * (\n\u001b[0m\u001b[1;32m      7\u001b[0m     \u001b[0mN_TISSUES\u001b[0m \u001b[0;34m*\u001b[0m \u001b[0mN_THRESHOLDS\u001b[0m\u001b[0;34m\u001b[0m\u001b[0;34m\u001b[0m\u001b[0m\n\u001b[1;32m      8\u001b[0m )  # two methods (single-gene and module-based)\n",
      "\u001b[0;31mAssertionError\u001b[0m: "
     ]
    }
   ],
   "source": [
    "# get all prediction files\n",
    "\n",
    "current_prediction_files = list(OUTPUT_PREDICTIONS_DIR.glob(\"*.h5\"))\n",
    "display(len(current_prediction_files))\n",
    "\n",
    "assert len(current_prediction_files) == 2 * (\n",
    "    N_TISSUES * N_THRESHOLDS\n",
    ")  # two methods (single-gene and module-based)"
   ]
  },
  {
   "cell_type": "code",
   "execution_count": 13,
   "metadata": {
    "papermill": {
     "duration": 0.028224,
     "end_time": "2021-04-22T17:55:12.946281",
     "exception": false,
     "start_time": "2021-04-22T17:55:12.918057",
     "status": "completed"
    },
    "tags": []
   },
   "outputs": [
    {
     "data": {
      "text/plain": [
       "[PosixPath('/media/miltondp/Elements1/projects/phenoplier/results/drug_disease_analyses/lincs/predictions/dotprod_neg/spredixcan-mashr-zscores-Adipose_Subcutaneous-data-all_genes-prediction_scores.h5'),\n",
       " PosixPath('/media/miltondp/Elements1/projects/phenoplier/results/drug_disease_analyses/lincs/predictions/dotprod_neg/spredixcan-mashr-zscores-Adipose_Subcutaneous-data-top_100_genes-prediction_scores.h5'),\n",
       " PosixPath('/media/miltondp/Elements1/projects/phenoplier/results/drug_disease_analyses/lincs/predictions/dotprod_neg/spredixcan-mashr-zscores-Adipose_Subcutaneous-data-top_250_genes-prediction_scores.h5'),\n",
       " PosixPath('/media/miltondp/Elements1/projects/phenoplier/results/drug_disease_analyses/lincs/predictions/dotprod_neg/spredixcan-mashr-zscores-Adipose_Subcutaneous-data-top_500_genes-prediction_scores.h5'),\n",
       " PosixPath('/media/miltondp/Elements1/projects/phenoplier/results/drug_disease_analyses/lincs/predictions/dotprod_neg/spredixcan-mashr-zscores-Adipose_Subcutaneous-data-top_50_genes-prediction_scores.h5')]"
      ]
     },
     "execution_count": 13,
     "metadata": {},
     "output_type": "execute_result"
    }
   ],
   "source": [
    "current_prediction_files[:5]"
   ]
  },
  {
   "cell_type": "code",
   "execution_count": 14,
   "metadata": {
    "execution": {
     "iopub.execute_input": "2021-04-22T17:55:12.990801Z",
     "iopub.status.busy": "2021-04-22T17:55:12.990425Z",
     "iopub.status.idle": "2021-04-22T17:56:33.955356Z",
     "shell.execute_reply": "2021-04-22T17:56:33.955630Z"
    },
    "papermill": {
     "duration": 80.988855,
     "end_time": "2021-04-22T17:56:33.955734",
     "exception": false,
     "start_time": "2021-04-22T17:55:12.966879",
     "status": "completed"
    },
    "tags": []
   },
   "outputs": [
    {
     "name": "stderr",
     "output_type": "stream",
     "text": [
      "100%|█████████████████████████████████████████████████████████████| 490/490 [01:20<00:00,  6.05it/s]\n"
     ]
    }
   ],
   "source": [
    "# iterate for each prediction file and perform some preprocessing\n",
    "# each prediction file (.h5) has the predictions of one method (either module-based\n",
    "# or gene-based) for all drug-disease pairs across all S-PrediXcan tissues\n",
    "\n",
    "predictions = []\n",
    "\n",
    "for f in tqdm(current_prediction_files, ncols=100):\n",
    "    # get predictions and merge with gold standard, keeping only the drug-disease pairs present there\n",
    "    prediction_data = pd.read_hdf(f, key=\"prediction\")\n",
    "    prediction_data = pd.merge(\n",
    "        prediction_data, gold_standard, on=[\"trait\", \"drug\"], how=\"inner\"\n",
    "    )\n",
    "\n",
    "    # transform scores into ranks, and change the type of columns to save memory\n",
    "    prediction_data[\"score\"] = prediction_data[\"score\"].rank()\n",
    "    prediction_data[\"trait\"] = prediction_data[\"trait\"].astype(\"category\")\n",
    "    prediction_data[\"drug\"] = prediction_data[\"drug\"].astype(\"category\")\n",
    "\n",
    "    # read metadata\n",
    "    metadata = pd.read_hdf(f, key=\"metadata\")\n",
    "\n",
    "    # add the \"method\" column\n",
    "    prediction_data = prediction_data.assign(method=metadata.method.values[0])\n",
    "    prediction_data[\"method\"] = prediction_data[\"method\"].astype(\"category\")\n",
    "\n",
    "    # add the \"n_top_genes\" columns, which indicates the top genes/LVs used for this prediction\n",
    "    prediction_data = prediction_data.assign(n_top_genes=metadata.n_top_genes.values[0])\n",
    "\n",
    "    # add the \"data\" column, which has the tissue name\n",
    "    prediction_data = prediction_data.assign(data=metadata.data.values[0])\n",
    "    prediction_data[\"data\"] = prediction_data[\"data\"].astype(\"category\")\n",
    "\n",
    "    predictions.append(prediction_data)"
   ]
  },
  {
   "cell_type": "code",
   "execution_count": 15,
   "metadata": {
    "execution": {
     "iopub.execute_input": "2021-04-22T17:56:34.149641Z",
     "iopub.status.busy": "2021-04-22T17:56:34.149276Z",
     "iopub.status.idle": "2021-04-22T17:56:34.157386Z",
     "shell.execute_reply": "2021-04-22T17:56:34.157026Z"
    },
    "papermill": {
     "duration": 0.105932,
     "end_time": "2021-04-22T17:56:34.157470",
     "exception": false,
     "start_time": "2021-04-22T17:56:34.051538",
     "status": "completed"
    },
    "tags": []
   },
   "outputs": [],
   "source": [
    "assert np.all(pred.shape[0] == N_PREDICTIONS for pred in predictions)"
   ]
  },
  {
   "cell_type": "code",
   "execution_count": 16,
   "metadata": {
    "execution": {
     "iopub.execute_input": "2021-04-22T17:56:34.356250Z",
     "iopub.status.busy": "2021-04-22T17:56:34.355886Z",
     "iopub.status.idle": "2021-04-22T17:56:35.140548Z",
     "shell.execute_reply": "2021-04-22T17:56:35.140195Z"
    },
    "lines_to_next_cell": 2,
    "papermill": {
     "duration": 0.885575,
     "end_time": "2021-04-22T17:56:35.140649",
     "exception": false,
     "start_time": "2021-04-22T17:56:34.255074",
     "status": "completed"
    },
    "tags": []
   },
   "outputs": [],
   "source": [
    "predictions = pd.concat(predictions, ignore_index=True)"
   ]
  },
  {
   "cell_type": "code",
   "execution_count": 22,
   "metadata": {
    "execution": {
     "iopub.execute_input": "2021-04-22T17:56:36.470826Z",
     "iopub.status.busy": "2021-04-22T17:56:36.470463Z",
     "iopub.status.idle": "2021-04-22T17:56:36.628579Z",
     "shell.execute_reply": "2021-04-22T17:56:36.628164Z"
    },
    "papermill": {
     "duration": 0.257644,
     "end_time": "2021-04-22T17:56:36.628678",
     "exception": false,
     "start_time": "2021-04-22T17:56:36.371034",
     "status": "completed"
    },
    "tags": []
   },
   "outputs": [],
   "source": [
    "# extract the tissue name from the \"data\" column\n",
    "\n",
    "\n",
    "def _get_tissue(x):\n",
    "    if x.endswith(\"-projection\"):\n",
    "        return x.split(\"spredixcan-mashr-zscores-\")[1].split(\"-projection\")[0]\n",
    "    else:\n",
    "        return x.split(\"spredixcan-mashr-zscores-\")[1].split(\"-data\")[0]\n",
    "\n",
    "\n",
    "predictions = predictions.assign(tissue=predictions[\"data\"].apply(_get_tissue))"
   ]
  },
  {
   "cell_type": "code",
   "execution_count": 18,
   "metadata": {
    "execution": {
     "iopub.execute_input": "2021-04-22T17:56:35.540884Z",
     "iopub.status.busy": "2021-04-22T17:56:35.540478Z",
     "iopub.status.idle": "2021-04-22T17:56:35.553291Z",
     "shell.execute_reply": "2021-04-22T17:56:35.553560Z"
    },
    "papermill": {
     "duration": 0.111112,
     "end_time": "2021-04-22T17:56:35.553664",
     "exception": false,
     "start_time": "2021-04-22T17:56:35.442552",
     "status": "completed"
    },
    "tags": []
   },
   "outputs": [
    {
     "data": {
      "text/html": [
       "<div>\n",
       "<style scoped>\n",
       "    .dataframe tbody tr th:only-of-type {\n",
       "        vertical-align: middle;\n",
       "    }\n",
       "\n",
       "    .dataframe tbody tr th {\n",
       "        vertical-align: top;\n",
       "    }\n",
       "\n",
       "    .dataframe thead th {\n",
       "        text-align: right;\n",
       "    }\n",
       "</style>\n",
       "<table border=\"1\" class=\"dataframe\">\n",
       "  <thead>\n",
       "    <tr style=\"text-align: right;\">\n",
       "      <th></th>\n",
       "      <th>trait</th>\n",
       "      <th>drug</th>\n",
       "      <th>score</th>\n",
       "      <th>true_class</th>\n",
       "      <th>method</th>\n",
       "      <th>n_top_genes</th>\n",
       "      <th>data</th>\n",
       "    </tr>\n",
       "  </thead>\n",
       "  <tbody>\n",
       "    <tr>\n",
       "      <th>0</th>\n",
       "      <td>DOID:0050741</td>\n",
       "      <td>DB00215</td>\n",
       "      <td>323.0</td>\n",
       "      <td>1</td>\n",
       "      <td>Gene-based</td>\n",
       "      <td>100.0</td>\n",
       "      <td>spredixcan-mashr-zscores-Pancreas-data</td>\n",
       "    </tr>\n",
       "    <tr>\n",
       "      <th>1</th>\n",
       "      <td>DOID:0050741</td>\n",
       "      <td>DB00704</td>\n",
       "      <td>230.0</td>\n",
       "      <td>1</td>\n",
       "      <td>Gene-based</td>\n",
       "      <td>100.0</td>\n",
       "      <td>spredixcan-mashr-zscores-Pancreas-data</td>\n",
       "    </tr>\n",
       "    <tr>\n",
       "      <th>2</th>\n",
       "      <td>DOID:0050741</td>\n",
       "      <td>DB00822</td>\n",
       "      <td>199.0</td>\n",
       "      <td>1</td>\n",
       "      <td>Gene-based</td>\n",
       "      <td>100.0</td>\n",
       "      <td>spredixcan-mashr-zscores-Pancreas-data</td>\n",
       "    </tr>\n",
       "    <tr>\n",
       "      <th>3</th>\n",
       "      <td>DOID:10283</td>\n",
       "      <td>DB00014</td>\n",
       "      <td>115.0</td>\n",
       "      <td>1</td>\n",
       "      <td>Gene-based</td>\n",
       "      <td>100.0</td>\n",
       "      <td>spredixcan-mashr-zscores-Pancreas-data</td>\n",
       "    </tr>\n",
       "    <tr>\n",
       "      <th>4</th>\n",
       "      <td>DOID:10283</td>\n",
       "      <td>DB00175</td>\n",
       "      <td>167.0</td>\n",
       "      <td>0</td>\n",
       "      <td>Gene-based</td>\n",
       "      <td>100.0</td>\n",
       "      <td>spredixcan-mashr-zscores-Pancreas-data</td>\n",
       "    </tr>\n",
       "  </tbody>\n",
       "</table>\n",
       "</div>"
      ],
      "text/plain": [
       "          trait     drug  score  true_class      method  n_top_genes  \\\n",
       "0  DOID:0050741  DB00215  323.0           1  Gene-based        100.0   \n",
       "1  DOID:0050741  DB00704  230.0           1  Gene-based        100.0   \n",
       "2  DOID:0050741  DB00822  199.0           1  Gene-based        100.0   \n",
       "3    DOID:10283  DB00014  115.0           1  Gene-based        100.0   \n",
       "4    DOID:10283  DB00175  167.0           0  Gene-based        100.0   \n",
       "\n",
       "                                     data  \n",
       "0  spredixcan-mashr-zscores-Pancreas-data  \n",
       "1  spredixcan-mashr-zscores-Pancreas-data  \n",
       "2  spredixcan-mashr-zscores-Pancreas-data  \n",
       "3  spredixcan-mashr-zscores-Pancreas-data  \n",
       "4  spredixcan-mashr-zscores-Pancreas-data  "
      ]
     },
     "execution_count": 18,
     "metadata": {},
     "output_type": "execute_result"
    }
   ],
   "source": [
    "predictions.head()"
   ]
  },
  {
   "cell_type": "markdown",
   "metadata": {
    "papermill": {
     "duration": 0.106087,
     "end_time": "2021-04-22T17:56:37.362592",
     "exception": false,
     "start_time": "2021-04-22T17:56:37.256505",
     "status": "completed"
    },
    "tags": []
   },
   "source": [
    "## Testing"
   ]
  },
  {
   "cell_type": "code",
   "execution_count": 17,
   "metadata": {
    "execution": {
     "iopub.execute_input": "2021-04-22T17:56:35.338826Z",
     "iopub.status.busy": "2021-04-22T17:56:35.338467Z",
     "iopub.status.idle": "2021-04-22T17:56:35.346488Z",
     "shell.execute_reply": "2021-04-22T17:56:35.346780Z"
    },
    "papermill": {
     "duration": 0.108265,
     "end_time": "2021-04-22T17:56:35.346882",
     "exception": false,
     "start_time": "2021-04-22T17:56:35.238617",
     "status": "completed"
    },
    "tags": []
   },
   "outputs": [
    {
     "data": {
      "text/plain": [
       "(316540, 7)"
      ]
     },
     "metadata": {},
     "output_type": "display_data"
    }
   ],
   "source": [
    "display(predictions.shape)\n",
    "\n",
    "assert predictions.shape[0] == 2 * (N_TISSUES * N_THRESHOLDS) * N_PREDICTIONS"
   ]
  },
  {
   "cell_type": "code",
   "execution_count": 19,
   "metadata": {
    "execution": {
     "iopub.execute_input": "2021-04-22T17:56:35.748073Z",
     "iopub.status.busy": "2021-04-22T17:56:35.747722Z",
     "iopub.status.idle": "2021-04-22T17:56:35.777328Z",
     "shell.execute_reply": "2021-04-22T17:56:35.776950Z"
    },
    "papermill": {
     "duration": 0.127741,
     "end_time": "2021-04-22T17:56:35.777416",
     "exception": false,
     "start_time": "2021-04-22T17:56:35.649675",
     "status": "completed"
    },
    "tags": []
   },
   "outputs": [],
   "source": [
    "assert not predictions.isna().any().any()"
   ]
  },
  {
   "cell_type": "code",
   "execution_count": 20,
   "metadata": {
    "execution": {
     "iopub.execute_input": "2021-04-22T17:56:35.973431Z",
     "iopub.status.busy": "2021-04-22T17:56:35.973070Z",
     "iopub.status.idle": "2021-04-22T17:56:36.004272Z",
     "shell.execute_reply": "2021-04-22T17:56:36.003902Z"
    },
    "papermill": {
     "duration": 0.130391,
     "end_time": "2021-04-22T17:56:36.004354",
     "exception": false,
     "start_time": "2021-04-22T17:56:35.873963",
     "status": "completed"
    },
    "tags": []
   },
   "outputs": [
    {
     "data": {
      "text/plain": [
       "Module-based    158270\n",
       "Gene-based      158270\n",
       "Name: method, dtype: int64"
      ]
     },
     "metadata": {},
     "output_type": "display_data"
    }
   ],
   "source": [
    "_tmp = predictions[\"method\"].value_counts()\n",
    "display(_tmp)\n",
    "\n",
    "assert _tmp.loc[\"Gene-based\"] == N_TISSUES * N_THRESHOLDS * N_PREDICTIONS\n",
    "assert _tmp.loc[\"Module-based\"] == N_TISSUES * N_THRESHOLDS * N_PREDICTIONS"
   ]
  },
  {
   "cell_type": "code",
   "execution_count": 21,
   "metadata": {
    "execution": {
     "iopub.execute_input": "2021-04-22T17:56:36.203276Z",
     "iopub.status.busy": "2021-04-22T17:56:36.202878Z",
     "iopub.status.idle": "2021-04-22T17:56:36.270867Z",
     "shell.execute_reply": "2021-04-22T17:56:36.270496Z"
    },
    "papermill": {
     "duration": 0.169484,
     "end_time": "2021-04-22T17:56:36.270952",
     "exception": false,
     "start_time": "2021-04-22T17:56:36.101468",
     "status": "completed"
    },
    "tags": []
   },
   "outputs": [
    {
     "data": {
      "text/html": [
       "<div>\n",
       "<style scoped>\n",
       "    .dataframe tbody tr th:only-of-type {\n",
       "        vertical-align: middle;\n",
       "    }\n",
       "\n",
       "    .dataframe tbody tr th {\n",
       "        vertical-align: top;\n",
       "    }\n",
       "\n",
       "    .dataframe thead th {\n",
       "        text-align: right;\n",
       "    }\n",
       "</style>\n",
       "<table border=\"1\" class=\"dataframe\">\n",
       "  <thead>\n",
       "    <tr style=\"text-align: right;\">\n",
       "      <th></th>\n",
       "      <th></th>\n",
       "      <th>trait</th>\n",
       "      <th>drug</th>\n",
       "      <th>score</th>\n",
       "      <th>true_class</th>\n",
       "      <th>data</th>\n",
       "    </tr>\n",
       "    <tr>\n",
       "      <th>method</th>\n",
       "      <th>n_top_genes</th>\n",
       "      <th></th>\n",
       "      <th></th>\n",
       "      <th></th>\n",
       "      <th></th>\n",
       "      <th></th>\n",
       "    </tr>\n",
       "  </thead>\n",
       "  <tbody>\n",
       "    <tr>\n",
       "      <th rowspan=\"5\" valign=\"top\">Gene-based</th>\n",
       "      <th>-1.0</th>\n",
       "      <td>31654</td>\n",
       "      <td>31654</td>\n",
       "      <td>31654</td>\n",
       "      <td>31654</td>\n",
       "      <td>31654</td>\n",
       "    </tr>\n",
       "    <tr>\n",
       "      <th>50.0</th>\n",
       "      <td>31654</td>\n",
       "      <td>31654</td>\n",
       "      <td>31654</td>\n",
       "      <td>31654</td>\n",
       "      <td>31654</td>\n",
       "    </tr>\n",
       "    <tr>\n",
       "      <th>100.0</th>\n",
       "      <td>31654</td>\n",
       "      <td>31654</td>\n",
       "      <td>31654</td>\n",
       "      <td>31654</td>\n",
       "      <td>31654</td>\n",
       "    </tr>\n",
       "    <tr>\n",
       "      <th>250.0</th>\n",
       "      <td>31654</td>\n",
       "      <td>31654</td>\n",
       "      <td>31654</td>\n",
       "      <td>31654</td>\n",
       "      <td>31654</td>\n",
       "    </tr>\n",
       "    <tr>\n",
       "      <th>500.0</th>\n",
       "      <td>31654</td>\n",
       "      <td>31654</td>\n",
       "      <td>31654</td>\n",
       "      <td>31654</td>\n",
       "      <td>31654</td>\n",
       "    </tr>\n",
       "    <tr>\n",
       "      <th rowspan=\"5\" valign=\"top\">Module-based</th>\n",
       "      <th>-1.0</th>\n",
       "      <td>31654</td>\n",
       "      <td>31654</td>\n",
       "      <td>31654</td>\n",
       "      <td>31654</td>\n",
       "      <td>31654</td>\n",
       "    </tr>\n",
       "    <tr>\n",
       "      <th>5.0</th>\n",
       "      <td>31654</td>\n",
       "      <td>31654</td>\n",
       "      <td>31654</td>\n",
       "      <td>31654</td>\n",
       "      <td>31654</td>\n",
       "    </tr>\n",
       "    <tr>\n",
       "      <th>10.0</th>\n",
       "      <td>31654</td>\n",
       "      <td>31654</td>\n",
       "      <td>31654</td>\n",
       "      <td>31654</td>\n",
       "      <td>31654</td>\n",
       "    </tr>\n",
       "    <tr>\n",
       "      <th>25.0</th>\n",
       "      <td>31654</td>\n",
       "      <td>31654</td>\n",
       "      <td>31654</td>\n",
       "      <td>31654</td>\n",
       "      <td>31654</td>\n",
       "    </tr>\n",
       "    <tr>\n",
       "      <th>50.0</th>\n",
       "      <td>31654</td>\n",
       "      <td>31654</td>\n",
       "      <td>31654</td>\n",
       "      <td>31654</td>\n",
       "      <td>31654</td>\n",
       "    </tr>\n",
       "  </tbody>\n",
       "</table>\n",
       "</div>"
      ],
      "text/plain": [
       "                          trait   drug  score  true_class   data\n",
       "method       n_top_genes                                        \n",
       "Gene-based   -1.0         31654  31654  31654       31654  31654\n",
       "              50.0        31654  31654  31654       31654  31654\n",
       "              100.0       31654  31654  31654       31654  31654\n",
       "              250.0       31654  31654  31654       31654  31654\n",
       "              500.0       31654  31654  31654       31654  31654\n",
       "Module-based -1.0         31654  31654  31654       31654  31654\n",
       "              5.0         31654  31654  31654       31654  31654\n",
       "              10.0        31654  31654  31654       31654  31654\n",
       "              25.0        31654  31654  31654       31654  31654\n",
       "              50.0        31654  31654  31654       31654  31654"
      ]
     },
     "metadata": {},
     "output_type": "display_data"
    }
   ],
   "source": [
    "_tmp = predictions.groupby([\"method\", \"n_top_genes\"]).count()\n",
    "display(_tmp)\n",
    "\n",
    "assert np.all(_tmp == N_TISSUES * N_PREDICTIONS)"
   ]
  },
  {
   "cell_type": "code",
   "execution_count": 24,
   "metadata": {
    "execution": {
     "iopub.execute_input": "2021-04-22T17:56:37.037550Z",
     "iopub.status.busy": "2021-04-22T17:56:37.037186Z",
     "iopub.status.idle": "2021-04-22T17:56:37.137816Z",
     "shell.execute_reply": "2021-04-22T17:56:37.137448Z"
    },
    "papermill": {
     "duration": 0.199868,
     "end_time": "2021-04-22T17:56:37.137901",
     "exception": false,
     "start_time": "2021-04-22T17:56:36.938033",
     "status": "completed"
    },
    "tags": []
   },
   "outputs": [
    {
     "data": {
      "text/html": [
       "<div>\n",
       "<style scoped>\n",
       "    .dataframe tbody tr th:only-of-type {\n",
       "        vertical-align: middle;\n",
       "    }\n",
       "\n",
       "    .dataframe tbody tr th {\n",
       "        vertical-align: top;\n",
       "    }\n",
       "\n",
       "    .dataframe thead th {\n",
       "        text-align: right;\n",
       "    }\n",
       "</style>\n",
       "<table border=\"1\" class=\"dataframe\">\n",
       "  <thead>\n",
       "    <tr style=\"text-align: right;\">\n",
       "      <th></th>\n",
       "      <th></th>\n",
       "      <th>trait</th>\n",
       "      <th>drug</th>\n",
       "      <th>score</th>\n",
       "      <th>true_class</th>\n",
       "      <th>n_top_genes</th>\n",
       "      <th>data</th>\n",
       "    </tr>\n",
       "    <tr>\n",
       "      <th>method</th>\n",
       "      <th>tissue</th>\n",
       "      <th></th>\n",
       "      <th></th>\n",
       "      <th></th>\n",
       "      <th></th>\n",
       "      <th></th>\n",
       "      <th></th>\n",
       "    </tr>\n",
       "  </thead>\n",
       "  <tbody>\n",
       "    <tr>\n",
       "      <th rowspan=\"5\" valign=\"top\">Gene-based</th>\n",
       "      <th>Adipose_Subcutaneous</th>\n",
       "      <td>3230</td>\n",
       "      <td>3230</td>\n",
       "      <td>3230</td>\n",
       "      <td>3230</td>\n",
       "      <td>3230</td>\n",
       "      <td>3230</td>\n",
       "    </tr>\n",
       "    <tr>\n",
       "      <th>Adipose_Visceral_Omentum</th>\n",
       "      <td>3230</td>\n",
       "      <td>3230</td>\n",
       "      <td>3230</td>\n",
       "      <td>3230</td>\n",
       "      <td>3230</td>\n",
       "      <td>3230</td>\n",
       "    </tr>\n",
       "    <tr>\n",
       "      <th>Adrenal_Gland</th>\n",
       "      <td>3230</td>\n",
       "      <td>3230</td>\n",
       "      <td>3230</td>\n",
       "      <td>3230</td>\n",
       "      <td>3230</td>\n",
       "      <td>3230</td>\n",
       "    </tr>\n",
       "    <tr>\n",
       "      <th>Artery_Aorta</th>\n",
       "      <td>3230</td>\n",
       "      <td>3230</td>\n",
       "      <td>3230</td>\n",
       "      <td>3230</td>\n",
       "      <td>3230</td>\n",
       "      <td>3230</td>\n",
       "    </tr>\n",
       "    <tr>\n",
       "      <th>Artery_Coronary</th>\n",
       "      <td>3230</td>\n",
       "      <td>3230</td>\n",
       "      <td>3230</td>\n",
       "      <td>3230</td>\n",
       "      <td>3230</td>\n",
       "      <td>3230</td>\n",
       "    </tr>\n",
       "    <tr>\n",
       "      <th>...</th>\n",
       "      <th>...</th>\n",
       "      <td>...</td>\n",
       "      <td>...</td>\n",
       "      <td>...</td>\n",
       "      <td>...</td>\n",
       "      <td>...</td>\n",
       "      <td>...</td>\n",
       "    </tr>\n",
       "    <tr>\n",
       "      <th rowspan=\"5\" valign=\"top\">Module-based</th>\n",
       "      <th>Testis</th>\n",
       "      <td>3230</td>\n",
       "      <td>3230</td>\n",
       "      <td>3230</td>\n",
       "      <td>3230</td>\n",
       "      <td>3230</td>\n",
       "      <td>3230</td>\n",
       "    </tr>\n",
       "    <tr>\n",
       "      <th>Thyroid</th>\n",
       "      <td>3230</td>\n",
       "      <td>3230</td>\n",
       "      <td>3230</td>\n",
       "      <td>3230</td>\n",
       "      <td>3230</td>\n",
       "      <td>3230</td>\n",
       "    </tr>\n",
       "    <tr>\n",
       "      <th>Uterus</th>\n",
       "      <td>3230</td>\n",
       "      <td>3230</td>\n",
       "      <td>3230</td>\n",
       "      <td>3230</td>\n",
       "      <td>3230</td>\n",
       "      <td>3230</td>\n",
       "    </tr>\n",
       "    <tr>\n",
       "      <th>Vagina</th>\n",
       "      <td>3230</td>\n",
       "      <td>3230</td>\n",
       "      <td>3230</td>\n",
       "      <td>3230</td>\n",
       "      <td>3230</td>\n",
       "      <td>3230</td>\n",
       "    </tr>\n",
       "    <tr>\n",
       "      <th>Whole_Blood</th>\n",
       "      <td>3230</td>\n",
       "      <td>3230</td>\n",
       "      <td>3230</td>\n",
       "      <td>3230</td>\n",
       "      <td>3230</td>\n",
       "      <td>3230</td>\n",
       "    </tr>\n",
       "  </tbody>\n",
       "</table>\n",
       "<p>98 rows × 6 columns</p>\n",
       "</div>"
      ],
      "text/plain": [
       "                                       trait  drug  score  true_class  \\\n",
       "method       tissue                                                     \n",
       "Gene-based   Adipose_Subcutaneous       3230  3230   3230        3230   \n",
       "             Adipose_Visceral_Omentum   3230  3230   3230        3230   \n",
       "             Adrenal_Gland              3230  3230   3230        3230   \n",
       "             Artery_Aorta               3230  3230   3230        3230   \n",
       "             Artery_Coronary            3230  3230   3230        3230   \n",
       "...                                      ...   ...    ...         ...   \n",
       "Module-based Testis                     3230  3230   3230        3230   \n",
       "             Thyroid                    3230  3230   3230        3230   \n",
       "             Uterus                     3230  3230   3230        3230   \n",
       "             Vagina                     3230  3230   3230        3230   \n",
       "             Whole_Blood                3230  3230   3230        3230   \n",
       "\n",
       "                                       n_top_genes  data  \n",
       "method       tissue                                       \n",
       "Gene-based   Adipose_Subcutaneous             3230  3230  \n",
       "             Adipose_Visceral_Omentum         3230  3230  \n",
       "             Adrenal_Gland                    3230  3230  \n",
       "             Artery_Aorta                     3230  3230  \n",
       "             Artery_Coronary                  3230  3230  \n",
       "...                                            ...   ...  \n",
       "Module-based Testis                           3230  3230  \n",
       "             Thyroid                          3230  3230  \n",
       "             Uterus                           3230  3230  \n",
       "             Vagina                           3230  3230  \n",
       "             Whole_Blood                      3230  3230  \n",
       "\n",
       "[98 rows x 6 columns]"
      ]
     },
     "metadata": {},
     "output_type": "display_data"
    }
   ],
   "source": [
    "_tmp = predictions.groupby([\"method\", \"tissue\"]).count()\n",
    "display(_tmp)\n",
    "\n",
    "assert np.all(_tmp.loc[\"Gene-based\"] == (N_PREDICTIONS * N_THRESHOLDS))\n",
    "assert np.all(_tmp.loc[\"Module-based\"] == (N_PREDICTIONS * N_THRESHOLDS))"
   ]
  },
  {
   "cell_type": "code",
   "execution_count": 25,
   "metadata": {
    "execution": {
     "iopub.execute_input": "2021-04-22T17:56:37.563026Z",
     "iopub.status.busy": "2021-04-22T17:56:37.562667Z",
     "iopub.status.idle": "2021-04-22T17:56:37.695736Z",
     "shell.execute_reply": "2021-04-22T17:56:37.695287Z"
    },
    "papermill": {
     "duration": 0.235143,
     "end_time": "2021-04-22T17:56:37.695837",
     "exception": false,
     "start_time": "2021-04-22T17:56:37.460694",
     "status": "completed"
    },
    "tags": []
   },
   "outputs": [
    {
     "data": {
      "text/plain": [
       "array([(646, 8)], dtype=object)"
      ]
     },
     "metadata": {},
     "output_type": "display_data"
    }
   ],
   "source": [
    "# all prediction tables should have the same shape\n",
    "predictions_shape = (\n",
    "    predictions.groupby([\"method\", \"n_top_genes\", \"tissue\"])\n",
    "    .apply(lambda x: x.shape)\n",
    "    .unique()\n",
    ")\n",
    "display(predictions_shape)\n",
    "\n",
    "assert predictions_shape.shape[0] == 1\n",
    "assert predictions_shape[0][0] == N_PREDICTIONS"
   ]
  },
  {
   "cell_type": "markdown",
   "metadata": {
    "papermill": {
     "duration": 0.098314,
     "end_time": "2021-04-22T17:56:37.898895",
     "exception": false,
     "start_time": "2021-04-22T17:56:37.800581",
     "status": "completed"
    },
    "tags": []
   },
   "source": [
    "## Save"
   ]
  },
  {
   "cell_type": "code",
   "execution_count": 26,
   "metadata": {
    "execution": {
     "iopub.execute_input": "2021-04-22T17:56:38.099430Z",
     "iopub.status.busy": "2021-04-22T17:56:38.099072Z",
     "iopub.status.idle": "2021-04-22T17:56:38.107731Z",
     "shell.execute_reply": "2021-04-22T17:56:38.107427Z"
    },
    "papermill": {
     "duration": 0.110111,
     "end_time": "2021-04-22T17:56:38.107816",
     "exception": false,
     "start_time": "2021-04-22T17:56:37.997705",
     "status": "completed"
    },
    "tags": []
   },
   "outputs": [
    {
     "data": {
      "text/plain": [
       "PosixPath('/home/miltondp/projects/labs/greenelab/phenoplier/base/results/drug_disease_analyses/lincs/predictions/predictions_results.pkl')"
      ]
     },
     "metadata": {},
     "output_type": "display_data"
    }
   ],
   "source": [
    "output_file = Path(OUTPUT_DIR, \"predictions\", \"predictions_results.pkl\").resolve()\n",
    "display(output_file)"
   ]
  },
  {
   "cell_type": "code",
   "execution_count": 27,
   "metadata": {
    "execution": {
     "iopub.execute_input": "2021-04-22T17:56:38.314965Z",
     "iopub.status.busy": "2021-04-22T17:56:38.314594Z",
     "iopub.status.idle": "2021-04-22T17:56:38.408987Z",
     "shell.execute_reply": "2021-04-22T17:56:38.408570Z"
    },
    "papermill": {
     "duration": 0.200587,
     "end_time": "2021-04-22T17:56:38.409092",
     "exception": false,
     "start_time": "2021-04-22T17:56:38.208505",
     "status": "completed"
    },
    "tags": []
   },
   "outputs": [],
   "source": [
    "predictions.to_pickle(output_file)"
   ]
  },
  {
   "cell_type": "markdown",
   "metadata": {
    "papermill": {
     "duration": 0.098268,
     "end_time": "2021-04-22T17:56:38.613404",
     "exception": false,
     "start_time": "2021-04-22T17:56:38.515136",
     "status": "completed"
    },
    "tags": []
   },
   "source": [
    "# Aggregate predictions"
   ]
  },
  {
   "cell_type": "markdown",
   "metadata": {},
   "source": [
    "Here I get summaries from all predictions as follows:\n",
    "\n",
    "  1. Group by trait, drug, method, tissue, and average all scores across all gene/LVs thresholds. This is the same as it is done in the published method referenced before (the framework for drug-repositioning).\n",
    "  1. Then, group by trait, drug, method and take the maximum score across all tissues. The rationale for this is that 1) we don't know which tissue might have more information for a particular disease, and 2) tissue-specific TWAS results are not meaningful to extract conclusions of real tissue-specific effects, since there is a lot of eQTL sharing across tissues.\n",
    "\n",
    "These correspond to the final drug-disease predictions for each method."
   ]
  },
  {
   "cell_type": "code",
   "execution_count": 28,
   "metadata": {
    "execution": {
     "iopub.execute_input": "2021-04-22T17:56:38.816029Z",
     "iopub.status.busy": "2021-04-22T17:56:38.815654Z",
     "iopub.status.idle": "2021-04-22T17:56:38.823511Z",
     "shell.execute_reply": "2021-04-22T17:56:38.823153Z"
    },
    "papermill": {
     "duration": 0.11043,
     "end_time": "2021-04-22T17:56:38.823595",
     "exception": false,
     "start_time": "2021-04-22T17:56:38.713165",
     "status": "completed"
    },
    "tags": []
   },
   "outputs": [],
   "source": [
    "def _reduce_mean(x):\n",
    "    return pd.Series(\n",
    "        {\"score\": x[\"score\"].mean(), \"true_class\": x[\"true_class\"].unique()[0]}\n",
    "    )\n",
    "\n",
    "\n",
    "def _reduce_max(x):\n",
    "    return pd.Series(\n",
    "        {\"score\": x[\"score\"].max(), \"true_class\": x[\"true_class\"].unique()[0]}\n",
    "    )"
   ]
  },
  {
   "cell_type": "code",
   "execution_count": 29,
   "metadata": {
    "execution": {
     "iopub.execute_input": "2021-04-22T17:56:39.026589Z",
     "iopub.status.busy": "2021-04-22T17:56:39.026211Z",
     "iopub.status.idle": "2021-04-22T17:57:25.082627Z",
     "shell.execute_reply": "2021-04-22T17:57:25.082222Z"
    },
    "papermill": {
     "duration": 46.159169,
     "end_time": "2021-04-22T17:57:25.082714",
     "exception": false,
     "start_time": "2021-04-22T17:56:38.923545",
     "status": "completed"
    },
    "tags": []
   },
   "outputs": [],
   "source": [
    "predictions_avg = (\n",
    "    # average across n_top_genes\n",
    "    predictions.groupby([\"trait\", \"drug\", \"method\", \"tissue\"])\n",
    "    .apply(_reduce_mean)\n",
    "    .dropna()\n",
    "    # take maximum across tissues\n",
    "    .groupby([\"trait\", \"drug\", \"method\"])\n",
    "    .apply(_reduce_max)\n",
    "    .dropna()\n",
    "    .sort_index()\n",
    "    .reset_index()\n",
    ")"
   ]
  },
  {
   "cell_type": "code",
   "execution_count": 30,
   "metadata": {
    "execution": {
     "iopub.execute_input": "2021-04-22T17:57:25.286742Z",
     "iopub.status.busy": "2021-04-22T17:57:25.286383Z",
     "iopub.status.idle": "2021-04-22T17:57:25.294777Z",
     "shell.execute_reply": "2021-04-22T17:57:25.294419Z"
    },
    "papermill": {
     "duration": 0.111108,
     "end_time": "2021-04-22T17:57:25.294858",
     "exception": false,
     "start_time": "2021-04-22T17:57:25.183750",
     "status": "completed"
    },
    "tags": []
   },
   "outputs": [
    {
     "data": {
      "text/plain": [
       "(1292, 5)"
      ]
     },
     "metadata": {},
     "output_type": "display_data"
    }
   ],
   "source": [
    "# predictions_avg should have twice the number of rows in the predictions table, since has both methods\n",
    "display(predictions_avg.shape)\n",
    "assert predictions_avg.shape[0] == int(predictions_shape[0][0] * 2)"
   ]
  },
  {
   "cell_type": "code",
   "execution_count": 31,
   "metadata": {
    "execution": {
     "iopub.execute_input": "2021-04-22T17:57:25.499701Z",
     "iopub.status.busy": "2021-04-22T17:57:25.499337Z",
     "iopub.status.idle": "2021-04-22T17:57:25.508549Z",
     "shell.execute_reply": "2021-04-22T17:57:25.508238Z"
    },
    "papermill": {
     "duration": 0.113883,
     "end_time": "2021-04-22T17:57:25.508652",
     "exception": false,
     "start_time": "2021-04-22T17:57:25.394769",
     "status": "completed"
    },
    "tags": []
   },
   "outputs": [],
   "source": [
    "assert predictions_avg.dropna().shape == predictions_avg.shape"
   ]
  },
  {
   "cell_type": "code",
   "execution_count": 32,
   "metadata": {
    "execution": {
     "iopub.execute_input": "2021-04-22T17:57:25.711020Z",
     "iopub.status.busy": "2021-04-22T17:57:25.710667Z",
     "iopub.status.idle": "2021-04-22T17:57:25.723138Z",
     "shell.execute_reply": "2021-04-22T17:57:25.722783Z"
    },
    "papermill": {
     "duration": 0.11325,
     "end_time": "2021-04-22T17:57:25.723220",
     "exception": false,
     "start_time": "2021-04-22T17:57:25.609970",
     "status": "completed"
    },
    "tags": []
   },
   "outputs": [
    {
     "data": {
      "text/html": [
       "<div>\n",
       "<style scoped>\n",
       "    .dataframe tbody tr th:only-of-type {\n",
       "        vertical-align: middle;\n",
       "    }\n",
       "\n",
       "    .dataframe tbody tr th {\n",
       "        vertical-align: top;\n",
       "    }\n",
       "\n",
       "    .dataframe thead th {\n",
       "        text-align: right;\n",
       "    }\n",
       "</style>\n",
       "<table border=\"1\" class=\"dataframe\">\n",
       "  <thead>\n",
       "    <tr style=\"text-align: right;\">\n",
       "      <th></th>\n",
       "      <th>trait</th>\n",
       "      <th>drug</th>\n",
       "      <th>method</th>\n",
       "      <th>score</th>\n",
       "      <th>true_class</th>\n",
       "    </tr>\n",
       "  </thead>\n",
       "  <tbody>\n",
       "    <tr>\n",
       "      <th>0</th>\n",
       "      <td>DOID:0050741</td>\n",
       "      <td>DB00215</td>\n",
       "      <td>Gene-based</td>\n",
       "      <td>359.0</td>\n",
       "      <td>1.0</td>\n",
       "    </tr>\n",
       "    <tr>\n",
       "      <th>1</th>\n",
       "      <td>DOID:0050741</td>\n",
       "      <td>DB00215</td>\n",
       "      <td>Module-based</td>\n",
       "      <td>437.8</td>\n",
       "      <td>1.0</td>\n",
       "    </tr>\n",
       "    <tr>\n",
       "      <th>2</th>\n",
       "      <td>DOID:0050741</td>\n",
       "      <td>DB00704</td>\n",
       "      <td>Gene-based</td>\n",
       "      <td>395.8</td>\n",
       "      <td>1.0</td>\n",
       "    </tr>\n",
       "    <tr>\n",
       "      <th>3</th>\n",
       "      <td>DOID:0050741</td>\n",
       "      <td>DB00704</td>\n",
       "      <td>Module-based</td>\n",
       "      <td>562.8</td>\n",
       "      <td>1.0</td>\n",
       "    </tr>\n",
       "    <tr>\n",
       "      <th>4</th>\n",
       "      <td>DOID:0050741</td>\n",
       "      <td>DB00822</td>\n",
       "      <td>Gene-based</td>\n",
       "      <td>556.8</td>\n",
       "      <td>1.0</td>\n",
       "    </tr>\n",
       "  </tbody>\n",
       "</table>\n",
       "</div>"
      ],
      "text/plain": [
       "          trait     drug        method  score  true_class\n",
       "0  DOID:0050741  DB00215    Gene-based  359.0         1.0\n",
       "1  DOID:0050741  DB00215  Module-based  437.8         1.0\n",
       "2  DOID:0050741  DB00704    Gene-based  395.8         1.0\n",
       "3  DOID:0050741  DB00704  Module-based  562.8         1.0\n",
       "4  DOID:0050741  DB00822    Gene-based  556.8         1.0"
      ]
     },
     "execution_count": 32,
     "metadata": {},
     "output_type": "execute_result"
    }
   ],
   "source": [
    "predictions_avg.head()"
   ]
  },
  {
   "cell_type": "markdown",
   "metadata": {
    "papermill": {
     "duration": 0.099025,
     "end_time": "2021-04-22T17:57:25.921806",
     "exception": false,
     "start_time": "2021-04-22T17:57:25.822781",
     "status": "completed"
    },
    "tags": []
   },
   "source": [
    "## Save"
   ]
  },
  {
   "cell_type": "code",
   "execution_count": 33,
   "metadata": {
    "execution": {
     "iopub.execute_input": "2021-04-22T17:57:26.126760Z",
     "iopub.status.busy": "2021-04-22T17:57:26.126405Z",
     "iopub.status.idle": "2021-04-22T17:57:26.134885Z",
     "shell.execute_reply": "2021-04-22T17:57:26.134529Z"
    },
    "papermill": {
     "duration": 0.11172,
     "end_time": "2021-04-22T17:57:26.134967",
     "exception": false,
     "start_time": "2021-04-22T17:57:26.023247",
     "status": "completed"
    },
    "tags": []
   },
   "outputs": [
    {
     "data": {
      "text/plain": [
       "PosixPath('/home/miltondp/projects/labs/greenelab/phenoplier/base/results/drug_disease_analyses/lincs/predictions/predictions_results_aggregated.pkl')"
      ]
     },
     "metadata": {},
     "output_type": "display_data"
    }
   ],
   "source": [
    "output_file = Path(\n",
    "    OUTPUT_DIR, \"predictions\", \"predictions_results_aggregated.pkl\"\n",
    ").resolve()\n",
    "display(output_file)"
   ]
  },
  {
   "cell_type": "code",
   "execution_count": 34,
   "metadata": {
    "execution": {
     "iopub.execute_input": "2021-04-22T17:57:26.338054Z",
     "iopub.status.busy": "2021-04-22T17:57:26.337697Z",
     "iopub.status.idle": "2021-04-22T17:57:26.345092Z",
     "shell.execute_reply": "2021-04-22T17:57:26.345384Z"
    },
    "papermill": {
     "duration": 0.110167,
     "end_time": "2021-04-22T17:57:26.345485",
     "exception": false,
     "start_time": "2021-04-22T17:57:26.235318",
     "status": "completed"
    },
    "tags": []
   },
   "outputs": [],
   "source": [
    "predictions_avg.to_pickle(output_file)"
   ]
  },
  {
   "cell_type": "markdown",
   "metadata": {
    "papermill": {
     "duration": 0.102063,
     "end_time": "2021-04-22T17:57:26.546883",
     "exception": false,
     "start_time": "2021-04-22T17:57:26.444820",
     "status": "completed"
    },
    "tags": []
   },
   "source": [
    "# ROC"
   ]
  },
  {
   "cell_type": "code",
   "execution_count": 35,
   "metadata": {
    "execution": {
     "iopub.execute_input": "2021-04-22T17:57:26.748885Z",
     "iopub.status.busy": "2021-04-22T17:57:26.748466Z",
     "iopub.status.idle": "2021-04-22T17:57:26.952116Z",
     "shell.execute_reply": "2021-04-22T17:57:26.951742Z"
    },
    "papermill": {
     "duration": 0.306094,
     "end_time": "2021-04-22T17:57:26.952199",
     "exception": false,
     "start_time": "2021-04-22T17:57:26.646105",
     "status": "completed"
    },
    "tags": []
   },
   "outputs": [],
   "source": [
    "from sklearn.metrics import roc_auc_score"
   ]
  },
  {
   "cell_type": "markdown",
   "metadata": {
    "papermill": {
     "duration": 0.099744,
     "end_time": "2021-04-22T17:57:27.152965",
     "exception": false,
     "start_time": "2021-04-22T17:57:27.053221",
     "status": "completed"
    },
    "tags": []
   },
   "source": [
    "## Predictions"
   ]
  },
  {
   "cell_type": "code",
   "execution_count": 36,
   "metadata": {
    "execution": {
     "iopub.execute_input": "2021-04-22T17:57:27.358040Z",
     "iopub.status.busy": "2021-04-22T17:57:27.357672Z",
     "iopub.status.idle": "2021-04-22T17:57:27.988816Z",
     "shell.execute_reply": "2021-04-22T17:57:27.988206Z"
    },
    "papermill": {
     "duration": 0.736341,
     "end_time": "2021-04-22T17:57:27.988900",
     "exception": false,
     "start_time": "2021-04-22T17:57:27.252559",
     "status": "completed"
    },
    "tags": []
   },
   "outputs": [
    {
     "data": {
      "text/html": [
       "<div>\n",
       "<style scoped>\n",
       "    .dataframe tbody tr th:only-of-type {\n",
       "        vertical-align: middle;\n",
       "    }\n",
       "\n",
       "    .dataframe tbody tr th {\n",
       "        vertical-align: top;\n",
       "    }\n",
       "\n",
       "    .dataframe thead th {\n",
       "        text-align: right;\n",
       "    }\n",
       "</style>\n",
       "<table border=\"1\" class=\"dataframe\">\n",
       "  <thead>\n",
       "    <tr style=\"text-align: right;\">\n",
       "      <th></th>\n",
       "      <th></th>\n",
       "      <th>count</th>\n",
       "      <th>mean</th>\n",
       "      <th>std</th>\n",
       "      <th>min</th>\n",
       "      <th>25%</th>\n",
       "      <th>50%</th>\n",
       "      <th>75%</th>\n",
       "      <th>max</th>\n",
       "    </tr>\n",
       "    <tr>\n",
       "      <th>method</th>\n",
       "      <th>n_top_genes</th>\n",
       "      <th></th>\n",
       "      <th></th>\n",
       "      <th></th>\n",
       "      <th></th>\n",
       "      <th></th>\n",
       "      <th></th>\n",
       "      <th></th>\n",
       "      <th></th>\n",
       "    </tr>\n",
       "  </thead>\n",
       "  <tbody>\n",
       "    <tr>\n",
       "      <th rowspan=\"5\" valign=\"top\">Gene-based</th>\n",
       "      <th>-1.0</th>\n",
       "      <td>49.0</td>\n",
       "      <td>0.537316</td>\n",
       "      <td>0.022095</td>\n",
       "      <td>0.488657</td>\n",
       "      <td>0.524654</td>\n",
       "      <td>0.539769</td>\n",
       "      <td>0.549363</td>\n",
       "      <td>0.591238</td>\n",
       "    </tr>\n",
       "    <tr>\n",
       "      <th>50.0</th>\n",
       "      <td>49.0</td>\n",
       "      <td>0.521783</td>\n",
       "      <td>0.022669</td>\n",
       "      <td>0.471299</td>\n",
       "      <td>0.509223</td>\n",
       "      <td>0.519465</td>\n",
       "      <td>0.534180</td>\n",
       "      <td>0.578670</td>\n",
       "    </tr>\n",
       "    <tr>\n",
       "      <th>100.0</th>\n",
       "      <td>49.0</td>\n",
       "      <td>0.526877</td>\n",
       "      <td>0.018609</td>\n",
       "      <td>0.488313</td>\n",
       "      <td>0.513366</td>\n",
       "      <td>0.526554</td>\n",
       "      <td>0.541049</td>\n",
       "      <td>0.566846</td>\n",
       "    </tr>\n",
       "    <tr>\n",
       "      <th>250.0</th>\n",
       "      <td>49.0</td>\n",
       "      <td>0.540346</td>\n",
       "      <td>0.021609</td>\n",
       "      <td>0.500138</td>\n",
       "      <td>0.529472</td>\n",
       "      <td>0.538378</td>\n",
       "      <td>0.560486</td>\n",
       "      <td>0.579923</td>\n",
       "    </tr>\n",
       "    <tr>\n",
       "      <th>500.0</th>\n",
       "      <td>49.0</td>\n",
       "      <td>0.539265</td>\n",
       "      <td>0.020471</td>\n",
       "      <td>0.505479</td>\n",
       "      <td>0.525439</td>\n",
       "      <td>0.537566</td>\n",
       "      <td>0.551318</td>\n",
       "      <td>0.598107</td>\n",
       "    </tr>\n",
       "    <tr>\n",
       "      <th rowspan=\"5\" valign=\"top\">Module-based</th>\n",
       "      <th>-1.0</th>\n",
       "      <td>49.0</td>\n",
       "      <td>0.550970</td>\n",
       "      <td>0.021875</td>\n",
       "      <td>0.488396</td>\n",
       "      <td>0.536850</td>\n",
       "      <td>0.552254</td>\n",
       "      <td>0.565001</td>\n",
       "      <td>0.599869</td>\n",
       "    </tr>\n",
       "    <tr>\n",
       "      <th>5.0</th>\n",
       "      <td>49.0</td>\n",
       "      <td>0.546616</td>\n",
       "      <td>0.022894</td>\n",
       "      <td>0.483261</td>\n",
       "      <td>0.528784</td>\n",
       "      <td>0.549019</td>\n",
       "      <td>0.561422</td>\n",
       "      <td>0.605431</td>\n",
       "    </tr>\n",
       "    <tr>\n",
       "      <th>10.0</th>\n",
       "      <td>49.0</td>\n",
       "      <td>0.549093</td>\n",
       "      <td>0.023742</td>\n",
       "      <td>0.478016</td>\n",
       "      <td>0.536479</td>\n",
       "      <td>0.546349</td>\n",
       "      <td>0.560335</td>\n",
       "      <td>0.612864</td>\n",
       "    </tr>\n",
       "    <tr>\n",
       "      <th>25.0</th>\n",
       "      <td>49.0</td>\n",
       "      <td>0.546519</td>\n",
       "      <td>0.028970</td>\n",
       "      <td>0.490034</td>\n",
       "      <td>0.523759</td>\n",
       "      <td>0.544105</td>\n",
       "      <td>0.567382</td>\n",
       "      <td>0.611074</td>\n",
       "    </tr>\n",
       "    <tr>\n",
       "      <th>50.0</th>\n",
       "      <td>49.0</td>\n",
       "      <td>0.546046</td>\n",
       "      <td>0.026593</td>\n",
       "      <td>0.485353</td>\n",
       "      <td>0.531936</td>\n",
       "      <td>0.545826</td>\n",
       "      <td>0.562413</td>\n",
       "      <td>0.596345</td>\n",
       "    </tr>\n",
       "  </tbody>\n",
       "</table>\n",
       "</div>"
      ],
      "text/plain": [
       "                          count      mean       std       min       25%  \\\n",
       "method       n_top_genes                                                  \n",
       "Gene-based   -1.0          49.0  0.537316  0.022095  0.488657  0.524654   \n",
       "              50.0         49.0  0.521783  0.022669  0.471299  0.509223   \n",
       "              100.0        49.0  0.526877  0.018609  0.488313  0.513366   \n",
       "              250.0        49.0  0.540346  0.021609  0.500138  0.529472   \n",
       "              500.0        49.0  0.539265  0.020471  0.505479  0.525439   \n",
       "Module-based -1.0          49.0  0.550970  0.021875  0.488396  0.536850   \n",
       "              5.0          49.0  0.546616  0.022894  0.483261  0.528784   \n",
       "              10.0         49.0  0.549093  0.023742  0.478016  0.536479   \n",
       "              25.0         49.0  0.546519  0.028970  0.490034  0.523759   \n",
       "              50.0         49.0  0.546046  0.026593  0.485353  0.531936   \n",
       "\n",
       "                               50%       75%       max  \n",
       "method       n_top_genes                                \n",
       "Gene-based   -1.0         0.539769  0.549363  0.591238  \n",
       "              50.0        0.519465  0.534180  0.578670  \n",
       "              100.0       0.526554  0.541049  0.566846  \n",
       "              250.0       0.538378  0.560486  0.579923  \n",
       "              500.0       0.537566  0.551318  0.598107  \n",
       "Module-based -1.0         0.552254  0.565001  0.599869  \n",
       "              5.0         0.549019  0.561422  0.605431  \n",
       "              10.0        0.546349  0.560335  0.612864  \n",
       "              25.0        0.544105  0.567382  0.611074  \n",
       "              50.0        0.545826  0.562413  0.596345  "
      ]
     },
     "execution_count": 36,
     "metadata": {},
     "output_type": "execute_result"
    }
   ],
   "source": [
    "# AUROC by method/n_top_genes\n",
    "predictions.groupby([\"method\", \"tissue\", \"n_top_genes\"]).apply(\n",
    "    lambda x: roc_auc_score(x[\"true_class\"], x[\"score\"])\n",
    ").groupby([\"method\", \"n_top_genes\"]).describe()"
   ]
  },
  {
   "cell_type": "code",
   "execution_count": 37,
   "metadata": {
    "execution": {
     "iopub.execute_input": "2021-04-22T17:57:28.199408Z",
     "iopub.status.busy": "2021-04-22T17:57:28.199027Z",
     "iopub.status.idle": "2021-04-22T17:57:28.978431Z",
     "shell.execute_reply": "2021-04-22T17:57:28.978068Z"
    },
    "papermill": {
     "duration": 0.882246,
     "end_time": "2021-04-22T17:57:28.978516",
     "exception": false,
     "start_time": "2021-04-22T17:57:28.096270",
     "status": "completed"
    },
    "tags": []
   },
   "outputs": [
    {
     "data": {
      "text/html": [
       "<div>\n",
       "<style scoped>\n",
       "    .dataframe tbody tr th:only-of-type {\n",
       "        vertical-align: middle;\n",
       "    }\n",
       "\n",
       "    .dataframe tbody tr th {\n",
       "        vertical-align: top;\n",
       "    }\n",
       "\n",
       "    .dataframe thead th {\n",
       "        text-align: right;\n",
       "    }\n",
       "</style>\n",
       "<table border=\"1\" class=\"dataframe\">\n",
       "  <thead>\n",
       "    <tr style=\"text-align: right;\">\n",
       "      <th></th>\n",
       "      <th></th>\n",
       "      <th>count</th>\n",
       "      <th>mean</th>\n",
       "      <th>std</th>\n",
       "      <th>min</th>\n",
       "      <th>25%</th>\n",
       "      <th>50%</th>\n",
       "      <th>75%</th>\n",
       "      <th>max</th>\n",
       "    </tr>\n",
       "    <tr>\n",
       "      <th>method</th>\n",
       "      <th>tissue</th>\n",
       "      <th></th>\n",
       "      <th></th>\n",
       "      <th></th>\n",
       "      <th></th>\n",
       "      <th></th>\n",
       "      <th></th>\n",
       "      <th></th>\n",
       "      <th></th>\n",
       "    </tr>\n",
       "  </thead>\n",
       "  <tbody>\n",
       "    <tr>\n",
       "      <th rowspan=\"5\" valign=\"top\">Gene-based</th>\n",
       "      <th>Adipose_Subcutaneous</th>\n",
       "      <td>5.0</td>\n",
       "      <td>0.536630</td>\n",
       "      <td>0.013501</td>\n",
       "      <td>0.520180</td>\n",
       "      <td>0.530449</td>\n",
       "      <td>0.531317</td>\n",
       "      <td>0.549707</td>\n",
       "      <td>0.551497</td>\n",
       "    </tr>\n",
       "    <tr>\n",
       "      <th>Adipose_Visceral_Omentum</th>\n",
       "      <td>5.0</td>\n",
       "      <td>0.518418</td>\n",
       "      <td>0.022685</td>\n",
       "      <td>0.485064</td>\n",
       "      <td>0.504405</td>\n",
       "      <td>0.533285</td>\n",
       "      <td>0.534180</td>\n",
       "      <td>0.535157</td>\n",
       "    </tr>\n",
       "    <tr>\n",
       "      <th>Adrenal_Gland</th>\n",
       "      <td>5.0</td>\n",
       "      <td>0.524940</td>\n",
       "      <td>0.019282</td>\n",
       "      <td>0.499381</td>\n",
       "      <td>0.509223</td>\n",
       "      <td>0.535240</td>\n",
       "      <td>0.539769</td>\n",
       "      <td>0.541090</td>\n",
       "    </tr>\n",
       "    <tr>\n",
       "      <th>Artery_Aorta</th>\n",
       "      <td>5.0</td>\n",
       "      <td>0.507475</td>\n",
       "      <td>0.005750</td>\n",
       "      <td>0.501845</td>\n",
       "      <td>0.503331</td>\n",
       "      <td>0.504887</td>\n",
       "      <td>0.513284</td>\n",
       "      <td>0.514027</td>\n",
       "    </tr>\n",
       "    <tr>\n",
       "      <th>Artery_Coronary</th>\n",
       "      <td>5.0</td>\n",
       "      <td>0.545325</td>\n",
       "      <td>0.005630</td>\n",
       "      <td>0.539053</td>\n",
       "      <td>0.541049</td>\n",
       "      <td>0.544628</td>\n",
       "      <td>0.549295</td>\n",
       "      <td>0.552598</td>\n",
       "    </tr>\n",
       "    <tr>\n",
       "      <th>...</th>\n",
       "      <th>...</th>\n",
       "      <td>...</td>\n",
       "      <td>...</td>\n",
       "      <td>...</td>\n",
       "      <td>...</td>\n",
       "      <td>...</td>\n",
       "      <td>...</td>\n",
       "      <td>...</td>\n",
       "      <td>...</td>\n",
       "    </tr>\n",
       "    <tr>\n",
       "      <th rowspan=\"5\" valign=\"top\">Module-based</th>\n",
       "      <th>Testis</th>\n",
       "      <td>5.0</td>\n",
       "      <td>0.552882</td>\n",
       "      <td>0.016990</td>\n",
       "      <td>0.534703</td>\n",
       "      <td>0.541737</td>\n",
       "      <td>0.548937</td>\n",
       "      <td>0.561422</td>\n",
       "      <td>0.577610</td>\n",
       "    </tr>\n",
       "    <tr>\n",
       "      <th>Thyroid</th>\n",
       "      <td>5.0</td>\n",
       "      <td>0.559365</td>\n",
       "      <td>0.008815</td>\n",
       "      <td>0.550933</td>\n",
       "      <td>0.551979</td>\n",
       "      <td>0.557334</td>\n",
       "      <td>0.565001</td>\n",
       "      <td>0.571581</td>\n",
       "    </tr>\n",
       "    <tr>\n",
       "      <th>Uterus</th>\n",
       "      <td>5.0</td>\n",
       "      <td>0.537946</td>\n",
       "      <td>0.017693</td>\n",
       "      <td>0.516464</td>\n",
       "      <td>0.523759</td>\n",
       "      <td>0.539342</td>\n",
       "      <td>0.554856</td>\n",
       "      <td>0.555310</td>\n",
       "    </tr>\n",
       "    <tr>\n",
       "      <th>Vagina</th>\n",
       "      <td>5.0</td>\n",
       "      <td>0.542282</td>\n",
       "      <td>0.017486</td>\n",
       "      <td>0.514660</td>\n",
       "      <td>0.540980</td>\n",
       "      <td>0.541779</td>\n",
       "      <td>0.553452</td>\n",
       "      <td>0.560541</td>\n",
       "    </tr>\n",
       "    <tr>\n",
       "      <th>Whole_Blood</th>\n",
       "      <td>5.0</td>\n",
       "      <td>0.555040</td>\n",
       "      <td>0.029789</td>\n",
       "      <td>0.528660</td>\n",
       "      <td>0.538048</td>\n",
       "      <td>0.550809</td>\n",
       "      <td>0.552254</td>\n",
       "      <td>0.605431</td>\n",
       "    </tr>\n",
       "  </tbody>\n",
       "</table>\n",
       "<p>98 rows × 8 columns</p>\n",
       "</div>"
      ],
      "text/plain": [
       "                                       count      mean       std       min  \\\n",
       "method       tissue                                                          \n",
       "Gene-based   Adipose_Subcutaneous        5.0  0.536630  0.013501  0.520180   \n",
       "             Adipose_Visceral_Omentum    5.0  0.518418  0.022685  0.485064   \n",
       "             Adrenal_Gland               5.0  0.524940  0.019282  0.499381   \n",
       "             Artery_Aorta                5.0  0.507475  0.005750  0.501845   \n",
       "             Artery_Coronary             5.0  0.545325  0.005630  0.539053   \n",
       "...                                      ...       ...       ...       ...   \n",
       "Module-based Testis                      5.0  0.552882  0.016990  0.534703   \n",
       "             Thyroid                     5.0  0.559365  0.008815  0.550933   \n",
       "             Uterus                      5.0  0.537946  0.017693  0.516464   \n",
       "             Vagina                      5.0  0.542282  0.017486  0.514660   \n",
       "             Whole_Blood                 5.0  0.555040  0.029789  0.528660   \n",
       "\n",
       "                                            25%       50%       75%       max  \n",
       "method       tissue                                                            \n",
       "Gene-based   Adipose_Subcutaneous      0.530449  0.531317  0.549707  0.551497  \n",
       "             Adipose_Visceral_Omentum  0.504405  0.533285  0.534180  0.535157  \n",
       "             Adrenal_Gland             0.509223  0.535240  0.539769  0.541090  \n",
       "             Artery_Aorta              0.503331  0.504887  0.513284  0.514027  \n",
       "             Artery_Coronary           0.541049  0.544628  0.549295  0.552598  \n",
       "...                                         ...       ...       ...       ...  \n",
       "Module-based Testis                    0.541737  0.548937  0.561422  0.577610  \n",
       "             Thyroid                   0.551979  0.557334  0.565001  0.571581  \n",
       "             Uterus                    0.523759  0.539342  0.554856  0.555310  \n",
       "             Vagina                    0.540980  0.541779  0.553452  0.560541  \n",
       "             Whole_Blood               0.538048  0.550809  0.552254  0.605431  \n",
       "\n",
       "[98 rows x 8 columns]"
      ]
     },
     "execution_count": 37,
     "metadata": {},
     "output_type": "execute_result"
    }
   ],
   "source": [
    "# AUROC by method/tissue\n",
    "predictions.groupby([\"method\", \"tissue\", \"n_top_genes\"]).apply(\n",
    "    lambda x: roc_auc_score(x[\"true_class\"], x[\"score\"])\n",
    ").groupby([\"method\", \"tissue\"]).describe()"
   ]
  },
  {
   "cell_type": "markdown",
   "metadata": {
    "papermill": {
     "duration": 0.100712,
     "end_time": "2021-04-22T17:57:29.180650",
     "exception": false,
     "start_time": "2021-04-22T17:57:29.079938",
     "status": "completed"
    },
    "tags": []
   },
   "source": [
    "## Predictions summaries"
   ]
  },
  {
   "cell_type": "code",
   "execution_count": 38,
   "metadata": {
    "execution": {
     "iopub.execute_input": "2021-04-22T17:57:29.387654Z",
     "iopub.status.busy": "2021-04-22T17:57:29.387287Z",
     "iopub.status.idle": "2021-04-22T17:57:29.401851Z",
     "shell.execute_reply": "2021-04-22T17:57:29.401492Z"
    },
    "papermill": {
     "duration": 0.119585,
     "end_time": "2021-04-22T17:57:29.401933",
     "exception": false,
     "start_time": "2021-04-22T17:57:29.282348",
     "status": "completed"
    },
    "tags": []
   },
   "outputs": [
    {
     "data": {
      "text/html": [
       "<div>\n",
       "<style scoped>\n",
       "    .dataframe tbody tr th:only-of-type {\n",
       "        vertical-align: middle;\n",
       "    }\n",
       "\n",
       "    .dataframe tbody tr th {\n",
       "        vertical-align: top;\n",
       "    }\n",
       "\n",
       "    .dataframe thead th {\n",
       "        text-align: right;\n",
       "    }\n",
       "</style>\n",
       "<table border=\"1\" class=\"dataframe\">\n",
       "  <thead>\n",
       "    <tr style=\"text-align: right;\">\n",
       "      <th></th>\n",
       "      <th>trait</th>\n",
       "      <th>drug</th>\n",
       "      <th>method</th>\n",
       "      <th>score</th>\n",
       "      <th>true_class</th>\n",
       "    </tr>\n",
       "  </thead>\n",
       "  <tbody>\n",
       "    <tr>\n",
       "      <th>0</th>\n",
       "      <td>DOID:0050741</td>\n",
       "      <td>DB00215</td>\n",
       "      <td>Gene-based</td>\n",
       "      <td>359.0</td>\n",
       "      <td>1.0</td>\n",
       "    </tr>\n",
       "    <tr>\n",
       "      <th>1</th>\n",
       "      <td>DOID:0050741</td>\n",
       "      <td>DB00215</td>\n",
       "      <td>Module-based</td>\n",
       "      <td>437.8</td>\n",
       "      <td>1.0</td>\n",
       "    </tr>\n",
       "    <tr>\n",
       "      <th>2</th>\n",
       "      <td>DOID:0050741</td>\n",
       "      <td>DB00704</td>\n",
       "      <td>Gene-based</td>\n",
       "      <td>395.8</td>\n",
       "      <td>1.0</td>\n",
       "    </tr>\n",
       "    <tr>\n",
       "      <th>3</th>\n",
       "      <td>DOID:0050741</td>\n",
       "      <td>DB00704</td>\n",
       "      <td>Module-based</td>\n",
       "      <td>562.8</td>\n",
       "      <td>1.0</td>\n",
       "    </tr>\n",
       "    <tr>\n",
       "      <th>4</th>\n",
       "      <td>DOID:0050741</td>\n",
       "      <td>DB00822</td>\n",
       "      <td>Gene-based</td>\n",
       "      <td>556.8</td>\n",
       "      <td>1.0</td>\n",
       "    </tr>\n",
       "  </tbody>\n",
       "</table>\n",
       "</div>"
      ],
      "text/plain": [
       "          trait     drug        method  score  true_class\n",
       "0  DOID:0050741  DB00215    Gene-based  359.0         1.0\n",
       "1  DOID:0050741  DB00215  Module-based  437.8         1.0\n",
       "2  DOID:0050741  DB00704    Gene-based  395.8         1.0\n",
       "3  DOID:0050741  DB00704  Module-based  562.8         1.0\n",
       "4  DOID:0050741  DB00822    Gene-based  556.8         1.0"
      ]
     },
     "execution_count": 38,
     "metadata": {},
     "output_type": "execute_result"
    }
   ],
   "source": [
    "predictions_avg.head()"
   ]
  },
  {
   "cell_type": "code",
   "execution_count": 39,
   "metadata": {
    "execution": {
     "iopub.execute_input": "2021-04-22T17:57:29.611200Z",
     "iopub.status.busy": "2021-04-22T17:57:29.610843Z",
     "iopub.status.idle": "2021-04-22T17:57:29.625398Z",
     "shell.execute_reply": "2021-04-22T17:57:29.625087Z"
    },
    "papermill": {
     "duration": 0.119669,
     "end_time": "2021-04-22T17:57:29.625481",
     "exception": false,
     "start_time": "2021-04-22T17:57:29.505812",
     "status": "completed"
    },
    "tags": []
   },
   "outputs": [
    {
     "data": {
      "text/plain": [
       "method\n",
       "Gene-based      0.565565\n",
       "Module-based    0.632101\n",
       "dtype: float64"
      ]
     },
     "execution_count": 39,
     "metadata": {},
     "output_type": "execute_result"
    }
   ],
   "source": [
    "predictions_avg.groupby([\"method\"]).apply(\n",
    "    lambda x: roc_auc_score(x[\"true_class\"], x[\"score\"])\n",
    ")"
   ]
  },
  {
   "cell_type": "markdown",
   "metadata": {},
   "source": [
    "These are the final performance measures using AUROC."
   ]
  },
  {
   "cell_type": "markdown",
   "metadata": {
    "papermill": {
     "duration": 0.101133,
     "end_time": "2021-04-22T17:57:29.827959",
     "exception": false,
     "start_time": "2021-04-22T17:57:29.726826",
     "status": "completed"
    },
    "tags": []
   },
   "source": [
    "# PR"
   ]
  },
  {
   "cell_type": "code",
   "execution_count": 40,
   "metadata": {
    "execution": {
     "iopub.execute_input": "2021-04-22T17:57:30.033664Z",
     "iopub.status.busy": "2021-04-22T17:57:30.033312Z",
     "iopub.status.idle": "2021-04-22T17:57:30.042283Z",
     "shell.execute_reply": "2021-04-22T17:57:30.041916Z"
    },
    "papermill": {
     "duration": 0.112453,
     "end_time": "2021-04-22T17:57:30.042367",
     "exception": false,
     "start_time": "2021-04-22T17:57:29.929914",
     "status": "completed"
    },
    "tags": []
   },
   "outputs": [],
   "source": [
    "from sklearn.metrics import average_precision_score"
   ]
  },
  {
   "cell_type": "markdown",
   "metadata": {
    "papermill": {
     "duration": 0.100965,
     "end_time": "2021-04-22T17:57:30.244154",
     "exception": false,
     "start_time": "2021-04-22T17:57:30.143189",
     "status": "completed"
    },
    "tags": []
   },
   "source": [
    "## Predictions"
   ]
  },
  {
   "cell_type": "code",
   "execution_count": 41,
   "metadata": {
    "execution": {
     "iopub.execute_input": "2021-04-22T17:57:30.451589Z",
     "iopub.status.busy": "2021-04-22T17:57:30.451230Z",
     "iopub.status.idle": "2021-04-22T17:57:30.897904Z",
     "shell.execute_reply": "2021-04-22T17:57:30.897545Z"
    },
    "papermill": {
     "duration": 0.550319,
     "end_time": "2021-04-22T17:57:30.897986",
     "exception": false,
     "start_time": "2021-04-22T17:57:30.347667",
     "status": "completed"
    },
    "tags": []
   },
   "outputs": [
    {
     "data": {
      "text/html": [
       "<div>\n",
       "<style scoped>\n",
       "    .dataframe tbody tr th:only-of-type {\n",
       "        vertical-align: middle;\n",
       "    }\n",
       "\n",
       "    .dataframe tbody tr th {\n",
       "        vertical-align: top;\n",
       "    }\n",
       "\n",
       "    .dataframe thead th {\n",
       "        text-align: right;\n",
       "    }\n",
       "</style>\n",
       "<table border=\"1\" class=\"dataframe\">\n",
       "  <thead>\n",
       "    <tr style=\"text-align: right;\">\n",
       "      <th></th>\n",
       "      <th></th>\n",
       "      <th>count</th>\n",
       "      <th>mean</th>\n",
       "      <th>std</th>\n",
       "      <th>min</th>\n",
       "      <th>25%</th>\n",
       "      <th>50%</th>\n",
       "      <th>75%</th>\n",
       "      <th>max</th>\n",
       "    </tr>\n",
       "    <tr>\n",
       "      <th>method</th>\n",
       "      <th>n_top_genes</th>\n",
       "      <th></th>\n",
       "      <th></th>\n",
       "      <th></th>\n",
       "      <th></th>\n",
       "      <th></th>\n",
       "      <th></th>\n",
       "      <th></th>\n",
       "      <th></th>\n",
       "    </tr>\n",
       "  </thead>\n",
       "  <tbody>\n",
       "    <tr>\n",
       "      <th rowspan=\"5\" valign=\"top\">Gene-based</th>\n",
       "      <th>-1.0</th>\n",
       "      <td>49.0</td>\n",
       "      <td>0.821141</td>\n",
       "      <td>0.012115</td>\n",
       "      <td>0.791883</td>\n",
       "      <td>0.815700</td>\n",
       "      <td>0.823089</td>\n",
       "      <td>0.826527</td>\n",
       "      <td>0.845993</td>\n",
       "    </tr>\n",
       "    <tr>\n",
       "      <th>50.0</th>\n",
       "      <td>49.0</td>\n",
       "      <td>0.812367</td>\n",
       "      <td>0.011124</td>\n",
       "      <td>0.789323</td>\n",
       "      <td>0.805338</td>\n",
       "      <td>0.810950</td>\n",
       "      <td>0.818964</td>\n",
       "      <td>0.837116</td>\n",
       "    </tr>\n",
       "    <tr>\n",
       "      <th>100.0</th>\n",
       "      <td>49.0</td>\n",
       "      <td>0.815802</td>\n",
       "      <td>0.009807</td>\n",
       "      <td>0.795174</td>\n",
       "      <td>0.807916</td>\n",
       "      <td>0.815802</td>\n",
       "      <td>0.823319</td>\n",
       "      <td>0.833513</td>\n",
       "    </tr>\n",
       "    <tr>\n",
       "      <th>250.0</th>\n",
       "      <td>49.0</td>\n",
       "      <td>0.822883</td>\n",
       "      <td>0.011527</td>\n",
       "      <td>0.791251</td>\n",
       "      <td>0.816006</td>\n",
       "      <td>0.821466</td>\n",
       "      <td>0.829536</td>\n",
       "      <td>0.849501</td>\n",
       "    </tr>\n",
       "    <tr>\n",
       "      <th>500.0</th>\n",
       "      <td>49.0</td>\n",
       "      <td>0.822643</td>\n",
       "      <td>0.009925</td>\n",
       "      <td>0.803506</td>\n",
       "      <td>0.815523</td>\n",
       "      <td>0.822377</td>\n",
       "      <td>0.828614</td>\n",
       "      <td>0.844589</td>\n",
       "    </tr>\n",
       "    <tr>\n",
       "      <th rowspan=\"5\" valign=\"top\">Module-based</th>\n",
       "      <th>-1.0</th>\n",
       "      <td>49.0</td>\n",
       "      <td>0.825578</td>\n",
       "      <td>0.010326</td>\n",
       "      <td>0.803155</td>\n",
       "      <td>0.818189</td>\n",
       "      <td>0.825569</td>\n",
       "      <td>0.832833</td>\n",
       "      <td>0.850523</td>\n",
       "    </tr>\n",
       "    <tr>\n",
       "      <th>5.0</th>\n",
       "      <td>49.0</td>\n",
       "      <td>0.824127</td>\n",
       "      <td>0.011438</td>\n",
       "      <td>0.795780</td>\n",
       "      <td>0.815947</td>\n",
       "      <td>0.827801</td>\n",
       "      <td>0.831900</td>\n",
       "      <td>0.851023</td>\n",
       "    </tr>\n",
       "    <tr>\n",
       "      <th>10.0</th>\n",
       "      <td>49.0</td>\n",
       "      <td>0.824383</td>\n",
       "      <td>0.012500</td>\n",
       "      <td>0.795728</td>\n",
       "      <td>0.817049</td>\n",
       "      <td>0.823271</td>\n",
       "      <td>0.831864</td>\n",
       "      <td>0.849924</td>\n",
       "    </tr>\n",
       "    <tr>\n",
       "      <th>25.0</th>\n",
       "      <td>49.0</td>\n",
       "      <td>0.821462</td>\n",
       "      <td>0.014990</td>\n",
       "      <td>0.794916</td>\n",
       "      <td>0.810213</td>\n",
       "      <td>0.820894</td>\n",
       "      <td>0.830868</td>\n",
       "      <td>0.853334</td>\n",
       "    </tr>\n",
       "    <tr>\n",
       "      <th>50.0</th>\n",
       "      <td>49.0</td>\n",
       "      <td>0.822552</td>\n",
       "      <td>0.015475</td>\n",
       "      <td>0.778559</td>\n",
       "      <td>0.815136</td>\n",
       "      <td>0.824726</td>\n",
       "      <td>0.831564</td>\n",
       "      <td>0.851906</td>\n",
       "    </tr>\n",
       "  </tbody>\n",
       "</table>\n",
       "</div>"
      ],
      "text/plain": [
       "                          count      mean       std       min       25%  \\\n",
       "method       n_top_genes                                                  \n",
       "Gene-based   -1.0          49.0  0.821141  0.012115  0.791883  0.815700   \n",
       "              50.0         49.0  0.812367  0.011124  0.789323  0.805338   \n",
       "              100.0        49.0  0.815802  0.009807  0.795174  0.807916   \n",
       "              250.0        49.0  0.822883  0.011527  0.791251  0.816006   \n",
       "              500.0        49.0  0.822643  0.009925  0.803506  0.815523   \n",
       "Module-based -1.0          49.0  0.825578  0.010326  0.803155  0.818189   \n",
       "              5.0          49.0  0.824127  0.011438  0.795780  0.815947   \n",
       "              10.0         49.0  0.824383  0.012500  0.795728  0.817049   \n",
       "              25.0         49.0  0.821462  0.014990  0.794916  0.810213   \n",
       "              50.0         49.0  0.822552  0.015475  0.778559  0.815136   \n",
       "\n",
       "                               50%       75%       max  \n",
       "method       n_top_genes                                \n",
       "Gene-based   -1.0         0.823089  0.826527  0.845993  \n",
       "              50.0        0.810950  0.818964  0.837116  \n",
       "              100.0       0.815802  0.823319  0.833513  \n",
       "              250.0       0.821466  0.829536  0.849501  \n",
       "              500.0       0.822377  0.828614  0.844589  \n",
       "Module-based -1.0         0.825569  0.832833  0.850523  \n",
       "              5.0         0.827801  0.831900  0.851023  \n",
       "              10.0        0.823271  0.831864  0.849924  \n",
       "              25.0        0.820894  0.830868  0.853334  \n",
       "              50.0        0.824726  0.831564  0.851906  "
      ]
     },
     "execution_count": 41,
     "metadata": {},
     "output_type": "execute_result"
    }
   ],
   "source": [
    "# Average precision by method/n_top_genes\n",
    "predictions.groupby([\"method\", \"tissue\", \"n_top_genes\"]).apply(\n",
    "    lambda x: average_precision_score(x[\"true_class\"], x[\"score\"])\n",
    ").groupby([\"method\", \"n_top_genes\"]).describe()"
   ]
  },
  {
   "cell_type": "code",
   "execution_count": 42,
   "metadata": {
    "execution": {
     "iopub.execute_input": "2021-04-22T17:57:31.103649Z",
     "iopub.status.busy": "2021-04-22T17:57:31.103285Z",
     "iopub.status.idle": "2021-04-22T17:57:31.703244Z",
     "shell.execute_reply": "2021-04-22T17:57:31.702879Z"
    },
    "papermill": {
     "duration": 0.70411,
     "end_time": "2021-04-22T17:57:31.703328",
     "exception": false,
     "start_time": "2021-04-22T17:57:30.999218",
     "status": "completed"
    },
    "tags": []
   },
   "outputs": [
    {
     "data": {
      "text/html": [
       "<div>\n",
       "<style scoped>\n",
       "    .dataframe tbody tr th:only-of-type {\n",
       "        vertical-align: middle;\n",
       "    }\n",
       "\n",
       "    .dataframe tbody tr th {\n",
       "        vertical-align: top;\n",
       "    }\n",
       "\n",
       "    .dataframe thead th {\n",
       "        text-align: right;\n",
       "    }\n",
       "</style>\n",
       "<table border=\"1\" class=\"dataframe\">\n",
       "  <thead>\n",
       "    <tr style=\"text-align: right;\">\n",
       "      <th></th>\n",
       "      <th></th>\n",
       "      <th>count</th>\n",
       "      <th>mean</th>\n",
       "      <th>std</th>\n",
       "      <th>min</th>\n",
       "      <th>25%</th>\n",
       "      <th>50%</th>\n",
       "      <th>75%</th>\n",
       "      <th>max</th>\n",
       "    </tr>\n",
       "    <tr>\n",
       "      <th>method</th>\n",
       "      <th>tissue</th>\n",
       "      <th></th>\n",
       "      <th></th>\n",
       "      <th></th>\n",
       "      <th></th>\n",
       "      <th></th>\n",
       "      <th></th>\n",
       "      <th></th>\n",
       "      <th></th>\n",
       "    </tr>\n",
       "  </thead>\n",
       "  <tbody>\n",
       "    <tr>\n",
       "      <th rowspan=\"5\" valign=\"top\">Gene-based</th>\n",
       "      <th>Adipose_Subcutaneous</th>\n",
       "      <td>5.0</td>\n",
       "      <td>0.824818</td>\n",
       "      <td>0.009010</td>\n",
       "      <td>0.814039</td>\n",
       "      <td>0.819139</td>\n",
       "      <td>0.822745</td>\n",
       "      <td>0.833728</td>\n",
       "      <td>0.834440</td>\n",
       "    </tr>\n",
       "    <tr>\n",
       "      <th>Adipose_Visceral_Omentum</th>\n",
       "      <td>5.0</td>\n",
       "      <td>0.814407</td>\n",
       "      <td>0.013335</td>\n",
       "      <td>0.796885</td>\n",
       "      <td>0.803859</td>\n",
       "      <td>0.819274</td>\n",
       "      <td>0.825769</td>\n",
       "      <td>0.826248</td>\n",
       "    </tr>\n",
       "    <tr>\n",
       "      <th>Adrenal_Gland</th>\n",
       "      <td>5.0</td>\n",
       "      <td>0.812982</td>\n",
       "      <td>0.006435</td>\n",
       "      <td>0.804577</td>\n",
       "      <td>0.807679</td>\n",
       "      <td>0.816006</td>\n",
       "      <td>0.817753</td>\n",
       "      <td>0.818894</td>\n",
       "    </tr>\n",
       "    <tr>\n",
       "      <th>Artery_Aorta</th>\n",
       "      <td>5.0</td>\n",
       "      <td>0.805476</td>\n",
       "      <td>0.003914</td>\n",
       "      <td>0.800970</td>\n",
       "      <td>0.803506</td>\n",
       "      <td>0.804125</td>\n",
       "      <td>0.807866</td>\n",
       "      <td>0.810915</td>\n",
       "    </tr>\n",
       "    <tr>\n",
       "      <th>Artery_Coronary</th>\n",
       "      <td>5.0</td>\n",
       "      <td>0.824009</td>\n",
       "      <td>0.003853</td>\n",
       "      <td>0.819936</td>\n",
       "      <td>0.820489</td>\n",
       "      <td>0.824517</td>\n",
       "      <td>0.825967</td>\n",
       "      <td>0.829138</td>\n",
       "    </tr>\n",
       "    <tr>\n",
       "      <th>...</th>\n",
       "      <th>...</th>\n",
       "      <td>...</td>\n",
       "      <td>...</td>\n",
       "      <td>...</td>\n",
       "      <td>...</td>\n",
       "      <td>...</td>\n",
       "      <td>...</td>\n",
       "      <td>...</td>\n",
       "      <td>...</td>\n",
       "    </tr>\n",
       "    <tr>\n",
       "      <th rowspan=\"5\" valign=\"top\">Module-based</th>\n",
       "      <th>Testis</th>\n",
       "      <td>5.0</td>\n",
       "      <td>0.829219</td>\n",
       "      <td>0.009344</td>\n",
       "      <td>0.816903</td>\n",
       "      <td>0.825178</td>\n",
       "      <td>0.828267</td>\n",
       "      <td>0.833967</td>\n",
       "      <td>0.841779</td>\n",
       "    </tr>\n",
       "    <tr>\n",
       "      <th>Thyroid</th>\n",
       "      <td>5.0</td>\n",
       "      <td>0.829913</td>\n",
       "      <td>0.004428</td>\n",
       "      <td>0.822062</td>\n",
       "      <td>0.831268</td>\n",
       "      <td>0.831579</td>\n",
       "      <td>0.831826</td>\n",
       "      <td>0.832833</td>\n",
       "    </tr>\n",
       "    <tr>\n",
       "      <th>Uterus</th>\n",
       "      <td>5.0</td>\n",
       "      <td>0.812736</td>\n",
       "      <td>0.012707</td>\n",
       "      <td>0.798563</td>\n",
       "      <td>0.800676</td>\n",
       "      <td>0.814974</td>\n",
       "      <td>0.822915</td>\n",
       "      <td>0.826553</td>\n",
       "    </tr>\n",
       "    <tr>\n",
       "      <th>Vagina</th>\n",
       "      <td>5.0</td>\n",
       "      <td>0.811183</td>\n",
       "      <td>0.013788</td>\n",
       "      <td>0.792978</td>\n",
       "      <td>0.805208</td>\n",
       "      <td>0.810304</td>\n",
       "      <td>0.817441</td>\n",
       "      <td>0.829982</td>\n",
       "    </tr>\n",
       "    <tr>\n",
       "      <th>Whole_Blood</th>\n",
       "      <td>5.0</td>\n",
       "      <td>0.828188</td>\n",
       "      <td>0.014431</td>\n",
       "      <td>0.813380</td>\n",
       "      <td>0.821798</td>\n",
       "      <td>0.822365</td>\n",
       "      <td>0.832375</td>\n",
       "      <td>0.851023</td>\n",
       "    </tr>\n",
       "  </tbody>\n",
       "</table>\n",
       "<p>98 rows × 8 columns</p>\n",
       "</div>"
      ],
      "text/plain": [
       "                                       count      mean       std       min  \\\n",
       "method       tissue                                                          \n",
       "Gene-based   Adipose_Subcutaneous        5.0  0.824818  0.009010  0.814039   \n",
       "             Adipose_Visceral_Omentum    5.0  0.814407  0.013335  0.796885   \n",
       "             Adrenal_Gland               5.0  0.812982  0.006435  0.804577   \n",
       "             Artery_Aorta                5.0  0.805476  0.003914  0.800970   \n",
       "             Artery_Coronary             5.0  0.824009  0.003853  0.819936   \n",
       "...                                      ...       ...       ...       ...   \n",
       "Module-based Testis                      5.0  0.829219  0.009344  0.816903   \n",
       "             Thyroid                     5.0  0.829913  0.004428  0.822062   \n",
       "             Uterus                      5.0  0.812736  0.012707  0.798563   \n",
       "             Vagina                      5.0  0.811183  0.013788  0.792978   \n",
       "             Whole_Blood                 5.0  0.828188  0.014431  0.813380   \n",
       "\n",
       "                                            25%       50%       75%       max  \n",
       "method       tissue                                                            \n",
       "Gene-based   Adipose_Subcutaneous      0.819139  0.822745  0.833728  0.834440  \n",
       "             Adipose_Visceral_Omentum  0.803859  0.819274  0.825769  0.826248  \n",
       "             Adrenal_Gland             0.807679  0.816006  0.817753  0.818894  \n",
       "             Artery_Aorta              0.803506  0.804125  0.807866  0.810915  \n",
       "             Artery_Coronary           0.820489  0.824517  0.825967  0.829138  \n",
       "...                                         ...       ...       ...       ...  \n",
       "Module-based Testis                    0.825178  0.828267  0.833967  0.841779  \n",
       "             Thyroid                   0.831268  0.831579  0.831826  0.832833  \n",
       "             Uterus                    0.800676  0.814974  0.822915  0.826553  \n",
       "             Vagina                    0.805208  0.810304  0.817441  0.829982  \n",
       "             Whole_Blood               0.821798  0.822365  0.832375  0.851023  \n",
       "\n",
       "[98 rows x 8 columns]"
      ]
     },
     "execution_count": 42,
     "metadata": {},
     "output_type": "execute_result"
    }
   ],
   "source": [
    "# Average precision by method/tissue\n",
    "predictions.groupby([\"method\", \"tissue\", \"n_top_genes\"]).apply(\n",
    "    lambda x: average_precision_score(x[\"true_class\"], x[\"score\"])\n",
    ").groupby([\"method\", \"tissue\"]).describe()"
   ]
  },
  {
   "cell_type": "markdown",
   "metadata": {
    "papermill": {
     "duration": 0.101691,
     "end_time": "2021-04-22T17:57:31.907667",
     "exception": false,
     "start_time": "2021-04-22T17:57:31.805976",
     "status": "completed"
    },
    "tags": []
   },
   "source": [
    "## Predictions summaries"
   ]
  },
  {
   "cell_type": "code",
   "execution_count": 43,
   "metadata": {
    "execution": {
     "iopub.execute_input": "2021-04-22T17:57:32.114346Z",
     "iopub.status.busy": "2021-04-22T17:57:32.113984Z",
     "iopub.status.idle": "2021-04-22T17:57:32.127829Z",
     "shell.execute_reply": "2021-04-22T17:57:32.127469Z"
    },
    "papermill": {
     "duration": 0.118324,
     "end_time": "2021-04-22T17:57:32.127913",
     "exception": false,
     "start_time": "2021-04-22T17:57:32.009589",
     "status": "completed"
    },
    "tags": []
   },
   "outputs": [
    {
     "data": {
      "text/plain": [
       "method\n",
       "Gene-based      0.838652\n",
       "Module-based    0.857572\n",
       "dtype: float64"
      ]
     },
     "execution_count": 43,
     "metadata": {},
     "output_type": "execute_result"
    }
   ],
   "source": [
    "predictions_avg.groupby([\"method\"]).apply(\n",
    "    lambda x: average_precision_score(x[\"true_class\"], x[\"score\"])\n",
    ")"
   ]
  },
  {
   "cell_type": "markdown",
   "metadata": {},
   "source": [
    "These are the final performance measures using average precision."
   ]
  },
  {
   "cell_type": "code",
   "execution_count": null,
   "metadata": {
    "papermill": {
     "duration": 0.103399,
     "end_time": "2021-04-22T17:57:32.334208",
     "exception": false,
     "start_time": "2021-04-22T17:57:32.230809",
     "status": "completed"
    },
    "tags": []
   },
   "outputs": [],
   "source": []
  }
 ],
 "metadata": {
  "jupytext": {
   "cell_metadata_filter": "all,-execution,-papermill,-trusted",
   "formats": "ipynb,py//py:percent"
  },
  "kernelspec": {
   "display_name": "Python 3",
   "language": "python",
   "name": "python3"
  },
  "language_info": {
   "codemirror_mode": {
    "name": "ipython",
    "version": 3
   },
   "file_extension": ".py",
   "mimetype": "text/x-python",
   "name": "python",
   "nbconvert_exporter": "python",
   "pygments_lexer": "ipython3",
   "version": "3.8.8"
  },
  "papermill": {
   "default_parameters": {},
   "duration": 141.72933,
   "end_time": "2021-04-22T17:57:32.741538",
   "environment_variables": {},
   "exception": null,
   "input_path": "15_drug_disease_associations/lincs/021-prediction_performance.ipynb",
   "output_path": "15_drug_disease_associations/lincs/021-prediction_performance.run.ipynb",
   "parameters": {},
   "start_time": "2021-04-22T17:55:11.012208",
   "version": "2.2.2"
  }
 },
 "nbformat": 4,
 "nbformat_minor": 4
}
