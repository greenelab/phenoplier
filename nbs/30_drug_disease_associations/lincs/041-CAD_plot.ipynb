{
 "cells": [
  {
   "cell_type": "markdown",
   "metadata": {},
   "source": [
    "# Description"
   ]
  },
  {
   "cell_type": "markdown",
   "metadata": {},
   "source": [
    "This notebook contains the interpretation of a cluster (which features/latent variables in the original data are useful to distinguish traits in the cluster).\n",
    "\n",
    "See section [LV analysis](#lv_analysis) below"
   ]
  },
  {
   "cell_type": "markdown",
   "metadata": {},
   "source": [
    "# Modules loading"
   ]
  },
  {
   "cell_type": "code",
   "execution_count": 1,
   "metadata": {},
   "outputs": [],
   "source": [
    "%load_ext autoreload\n",
    "%autoreload 2"
   ]
  },
  {
   "cell_type": "code",
   "execution_count": 2,
   "metadata": {},
   "outputs": [],
   "source": [
    "import pickle\n",
    "import re\n",
    "from pathlib import Path\n",
    "\n",
    "import pandas as pd\n",
    "import matplotlib.pyplot as plt\n",
    "import seaborn as sns\n",
    "\n",
    "# from IPython.display import HTML\n",
    "from tqdm import tqdm\n",
    "\n",
    "from clustering.methods import ClusterInterpreter\n",
    "from data.recount2 import LVAnalysis\n",
    "from data.cache import read_data\n",
    "import conf"
   ]
  },
  {
   "cell_type": "markdown",
   "metadata": {},
   "source": [
    "# Settings"
   ]
  },
  {
   "cell_type": "code",
   "execution_count": 3,
   "metadata": {
    "tags": [
     "parameters"
    ]
   },
   "outputs": [],
   "source": [
    "# PARTITION_K = 26\n",
    "# PARTITION_CLUSTER_ID = 18"
   ]
  },
  {
   "cell_type": "code",
   "execution_count": 4,
   "metadata": {
    "papermill": {
     "duration": 0.032034,
     "end_time": "2021-04-22T19:41:49.062125",
     "exception": false,
     "start_time": "2021-04-22T19:41:49.030091",
     "status": "completed"
    },
    "tags": []
   },
   "outputs": [
    {
     "data": {
      "text/plain": [
       "PosixPath('/media/miltondp/Elements1/projects/phenoplier/results/drug_disease_analyses/lincs/analyses')"
      ]
     },
     "metadata": {},
     "output_type": "display_data"
    }
   ],
   "source": [
    "OUTPUT_DIR = conf.RESULTS[\"DRUG_DISEASE_ANALYSES\"] / \"lincs\" / \"analyses\"\n",
    "display(OUTPUT_DIR)\n",
    "OUTPUT_DIR.mkdir(exist_ok=True, parents=True)"
   ]
  },
  {
   "cell_type": "code",
   "execution_count": 5,
   "metadata": {
    "papermill": {
     "duration": 0.024008,
     "end_time": "2021-04-22T19:44:13.877793",
     "exception": false,
     "start_time": "2021-04-22T19:44:13.853785",
     "status": "completed"
    },
    "tags": []
   },
   "outputs": [
    {
     "data": {
      "text/plain": [
       "PosixPath('/home/miltondp/projects/labs/greenelab/phenoplier_manuscript/content/images/drug_disease_prediction')"
      ]
     },
     "metadata": {},
     "output_type": "display_data"
    }
   ],
   "source": [
    "OUTPUT_FIGURES_DIR = Path(\n",
    "    conf.MANUSCRIPT[\"FIGURES_DIR\"], \"drug_disease_prediction\"\n",
    ").resolve()\n",
    "display(OUTPUT_FIGURES_DIR)\n",
    "OUTPUT_FIGURES_DIR.mkdir(parents=True, exist_ok=True)"
   ]
  },
  {
   "cell_type": "markdown",
   "metadata": {},
   "source": [
    "# Load MultiPLIER summary"
   ]
  },
  {
   "cell_type": "code",
   "execution_count": 6,
   "metadata": {},
   "outputs": [],
   "source": [
    "multiplier_model_summary = read_data(conf.MULTIPLIER[\"MODEL_SUMMARY_FILE\"])"
   ]
  },
  {
   "cell_type": "code",
   "execution_count": 7,
   "metadata": {},
   "outputs": [
    {
     "data": {
      "text/plain": [
       "(2157, 5)"
      ]
     },
     "execution_count": 7,
     "metadata": {},
     "output_type": "execute_result"
    }
   ],
   "source": [
    "multiplier_model_summary.shape"
   ]
  },
  {
   "cell_type": "code",
   "execution_count": 8,
   "metadata": {},
   "outputs": [
    {
     "data": {
      "text/html": [
       "<div>\n",
       "<style scoped>\n",
       "    .dataframe tbody tr th:only-of-type {\n",
       "        vertical-align: middle;\n",
       "    }\n",
       "\n",
       "    .dataframe tbody tr th {\n",
       "        vertical-align: top;\n",
       "    }\n",
       "\n",
       "    .dataframe thead th {\n",
       "        text-align: right;\n",
       "    }\n",
       "</style>\n",
       "<table border=\"1\" class=\"dataframe\">\n",
       "  <thead>\n",
       "    <tr style=\"text-align: right;\">\n",
       "      <th></th>\n",
       "      <th>pathway</th>\n",
       "      <th>LV index</th>\n",
       "      <th>AUC</th>\n",
       "      <th>p-value</th>\n",
       "      <th>FDR</th>\n",
       "    </tr>\n",
       "  </thead>\n",
       "  <tbody>\n",
       "    <tr>\n",
       "      <th>1</th>\n",
       "      <td>KEGG_LYSINE_DEGRADATION</td>\n",
       "      <td>1</td>\n",
       "      <td>0.388059</td>\n",
       "      <td>0.866078</td>\n",
       "      <td>0.956005</td>\n",
       "    </tr>\n",
       "    <tr>\n",
       "      <th>2</th>\n",
       "      <td>REACTOME_MRNA_SPLICING</td>\n",
       "      <td>1</td>\n",
       "      <td>0.733057</td>\n",
       "      <td>0.000048</td>\n",
       "      <td>0.000582</td>\n",
       "    </tr>\n",
       "    <tr>\n",
       "      <th>3</th>\n",
       "      <td>MIPS_NOP56P_ASSOCIATED_PRE_RRNA_COMPLEX</td>\n",
       "      <td>1</td>\n",
       "      <td>0.680555</td>\n",
       "      <td>0.001628</td>\n",
       "      <td>0.011366</td>\n",
       "    </tr>\n",
       "    <tr>\n",
       "      <th>4</th>\n",
       "      <td>KEGG_DNA_REPLICATION</td>\n",
       "      <td>1</td>\n",
       "      <td>0.549473</td>\n",
       "      <td>0.312155</td>\n",
       "      <td>0.539951</td>\n",
       "    </tr>\n",
       "    <tr>\n",
       "      <th>5</th>\n",
       "      <td>PID_MYC_ACTIVPATHWAY</td>\n",
       "      <td>1</td>\n",
       "      <td>0.639303</td>\n",
       "      <td>0.021702</td>\n",
       "      <td>0.083739</td>\n",
       "    </tr>\n",
       "  </tbody>\n",
       "</table>\n",
       "</div>"
      ],
      "text/plain": [
       "                                   pathway LV index       AUC   p-value  \\\n",
       "1                  KEGG_LYSINE_DEGRADATION        1  0.388059  0.866078   \n",
       "2                   REACTOME_MRNA_SPLICING        1  0.733057  0.000048   \n",
       "3  MIPS_NOP56P_ASSOCIATED_PRE_RRNA_COMPLEX        1  0.680555  0.001628   \n",
       "4                     KEGG_DNA_REPLICATION        1  0.549473  0.312155   \n",
       "5                     PID_MYC_ACTIVPATHWAY        1  0.639303  0.021702   \n",
       "\n",
       "        FDR  \n",
       "1  0.956005  \n",
       "2  0.000582  \n",
       "3  0.011366  \n",
       "4  0.539951  \n",
       "5  0.083739  "
      ]
     },
     "execution_count": 8,
     "metadata": {},
     "output_type": "execute_result"
    }
   ],
   "source": [
    "multiplier_model_summary.head()"
   ]
  },
  {
   "cell_type": "markdown",
   "metadata": {},
   "source": [
    "# Load data"
   ]
  },
  {
   "cell_type": "markdown",
   "metadata": {},
   "source": [
    "## Original data"
   ]
  },
  {
   "cell_type": "code",
   "execution_count": 9,
   "metadata": {
    "papermill": {
     "duration": 0.033993,
     "end_time": "2020-12-02T18:22:03.772878",
     "exception": false,
     "start_time": "2020-12-02T18:22:03.738885",
     "status": "completed"
    },
    "tags": []
   },
   "outputs": [],
   "source": [
    "INPUT_SUBSET = \"z_score_std\""
   ]
  },
  {
   "cell_type": "code",
   "execution_count": 10,
   "metadata": {
    "papermill": {
     "duration": 0.034256,
     "end_time": "2020-12-02T18:22:03.827176",
     "exception": false,
     "start_time": "2020-12-02T18:22:03.792920",
     "status": "completed"
    },
    "tags": []
   },
   "outputs": [],
   "source": [
    "INPUT_STEM = \"projection-smultixcan-efo_partial-mashr-zscores\""
   ]
  },
  {
   "cell_type": "code",
   "execution_count": 11,
   "metadata": {
    "papermill": {
     "duration": 0.036583,
     "end_time": "2020-12-02T18:22:03.884665",
     "exception": false,
     "start_time": "2020-12-02T18:22:03.848082",
     "status": "completed"
    },
    "tags": []
   },
   "outputs": [
    {
     "data": {
      "text/plain": [
       "PosixPath('/home/miltondp/projects/labs/greenelab/phenoplier/bases_data/base_orig/results/data_transformations/z_score_std/z_score_std-projection-smultixcan-efo_partial-mashr-zscores.pkl')"
      ]
     },
     "metadata": {},
     "output_type": "display_data"
    },
    {
     "data": {
      "text/plain": [
       "'z_score_std-projection-smultixcan-efo_partial-mashr-zscores'"
      ]
     },
     "metadata": {},
     "output_type": "display_data"
    }
   ],
   "source": [
    "input_filepath = Path(\n",
    "    conf.RESULTS[\"DATA_TRANSFORMATIONS_DIR\"],\n",
    "    INPUT_SUBSET,\n",
    "    f\"{INPUT_SUBSET}-{INPUT_STEM}.pkl\",\n",
    ").resolve()\n",
    "display(input_filepath)\n",
    "\n",
    "assert input_filepath.exists(), \"Input file does not exist\"\n",
    "\n",
    "input_filepath_stem = input_filepath.stem\n",
    "display(input_filepath_stem)"
   ]
  },
  {
   "cell_type": "code",
   "execution_count": 12,
   "metadata": {
    "papermill": {
     "duration": 0.047976,
     "end_time": "2020-12-02T18:22:04.552607",
     "exception": false,
     "start_time": "2020-12-02T18:22:04.504631",
     "status": "completed"
    },
    "tags": []
   },
   "outputs": [],
   "source": [
    "data = pd.read_pickle(input_filepath)"
   ]
  },
  {
   "cell_type": "code",
   "execution_count": 13,
   "metadata": {
    "papermill": {
     "duration": 0.036934,
     "end_time": "2020-12-02T18:22:04.613671",
     "exception": false,
     "start_time": "2020-12-02T18:22:04.576737",
     "status": "completed"
    },
    "tags": []
   },
   "outputs": [
    {
     "data": {
      "text/plain": [
       "(3752, 987)"
      ]
     },
     "execution_count": 13,
     "metadata": {},
     "output_type": "execute_result"
    }
   ],
   "source": [
    "data.shape"
   ]
  },
  {
   "cell_type": "code",
   "execution_count": 14,
   "metadata": {
    "papermill": {
     "duration": 0.049043,
     "end_time": "2020-12-02T18:22:04.685862",
     "exception": false,
     "start_time": "2020-12-02T18:22:04.636819",
     "status": "completed"
    },
    "tags": []
   },
   "outputs": [
    {
     "data": {
      "text/html": [
       "<div>\n",
       "<style scoped>\n",
       "    .dataframe tbody tr th:only-of-type {\n",
       "        vertical-align: middle;\n",
       "    }\n",
       "\n",
       "    .dataframe tbody tr th {\n",
       "        vertical-align: top;\n",
       "    }\n",
       "\n",
       "    .dataframe thead th {\n",
       "        text-align: right;\n",
       "    }\n",
       "</style>\n",
       "<table border=\"1\" class=\"dataframe\">\n",
       "  <thead>\n",
       "    <tr style=\"text-align: right;\">\n",
       "      <th></th>\n",
       "      <th>LV1</th>\n",
       "      <th>LV2</th>\n",
       "      <th>LV3</th>\n",
       "      <th>LV4</th>\n",
       "      <th>LV5</th>\n",
       "      <th>LV6</th>\n",
       "      <th>LV7</th>\n",
       "      <th>LV8</th>\n",
       "      <th>LV9</th>\n",
       "      <th>LV10</th>\n",
       "      <th>...</th>\n",
       "      <th>LV978</th>\n",
       "      <th>LV979</th>\n",
       "      <th>LV980</th>\n",
       "      <th>LV981</th>\n",
       "      <th>LV982</th>\n",
       "      <th>LV983</th>\n",
       "      <th>LV984</th>\n",
       "      <th>LV985</th>\n",
       "      <th>LV986</th>\n",
       "      <th>LV987</th>\n",
       "    </tr>\n",
       "  </thead>\n",
       "  <tbody>\n",
       "    <tr>\n",
       "      <th>100001_raw-Food_weight</th>\n",
       "      <td>-0.695006</td>\n",
       "      <td>1.962565</td>\n",
       "      <td>0.057683</td>\n",
       "      <td>0.878731</td>\n",
       "      <td>-0.539977</td>\n",
       "      <td>1.481272</td>\n",
       "      <td>-0.396422</td>\n",
       "      <td>1.090180</td>\n",
       "      <td>0.759223</td>\n",
       "      <td>0.931395</td>\n",
       "      <td>...</td>\n",
       "      <td>1.129784</td>\n",
       "      <td>1.752343</td>\n",
       "      <td>-1.411403</td>\n",
       "      <td>2.823863</td>\n",
       "      <td>0.931116</td>\n",
       "      <td>-1.054519</td>\n",
       "      <td>0.432982</td>\n",
       "      <td>-0.633597</td>\n",
       "      <td>0.554279</td>\n",
       "      <td>-0.642479</td>\n",
       "    </tr>\n",
       "    <tr>\n",
       "      <th>100002_raw-Energy</th>\n",
       "      <td>-1.528127</td>\n",
       "      <td>-0.345309</td>\n",
       "      <td>-0.148953</td>\n",
       "      <td>-0.242060</td>\n",
       "      <td>0.373427</td>\n",
       "      <td>0.791092</td>\n",
       "      <td>0.263477</td>\n",
       "      <td>0.987702</td>\n",
       "      <td>0.354391</td>\n",
       "      <td>1.416059</td>\n",
       "      <td>...</td>\n",
       "      <td>0.224604</td>\n",
       "      <td>0.769882</td>\n",
       "      <td>-0.509482</td>\n",
       "      <td>0.091153</td>\n",
       "      <td>2.286789</td>\n",
       "      <td>-1.008256</td>\n",
       "      <td>-0.029764</td>\n",
       "      <td>1.737229</td>\n",
       "      <td>-0.272107</td>\n",
       "      <td>-0.526125</td>\n",
       "    </tr>\n",
       "    <tr>\n",
       "      <th>100003_raw-Protein</th>\n",
       "      <td>-0.704572</td>\n",
       "      <td>-1.011299</td>\n",
       "      <td>0.671420</td>\n",
       "      <td>0.143991</td>\n",
       "      <td>0.615212</td>\n",
       "      <td>0.874212</td>\n",
       "      <td>-0.040998</td>\n",
       "      <td>0.915170</td>\n",
       "      <td>0.254369</td>\n",
       "      <td>-0.084237</td>\n",
       "      <td>...</td>\n",
       "      <td>1.003019</td>\n",
       "      <td>1.044314</td>\n",
       "      <td>-2.376108</td>\n",
       "      <td>0.004778</td>\n",
       "      <td>0.053714</td>\n",
       "      <td>-0.892447</td>\n",
       "      <td>-0.183800</td>\n",
       "      <td>1.377991</td>\n",
       "      <td>-0.278794</td>\n",
       "      <td>-0.419733</td>\n",
       "    </tr>\n",
       "    <tr>\n",
       "      <th>100004_raw-Fat</th>\n",
       "      <td>-0.989832</td>\n",
       "      <td>-1.875490</td>\n",
       "      <td>0.261555</td>\n",
       "      <td>-1.420719</td>\n",
       "      <td>0.366238</td>\n",
       "      <td>1.167049</td>\n",
       "      <td>0.257387</td>\n",
       "      <td>0.717674</td>\n",
       "      <td>-0.997664</td>\n",
       "      <td>0.969825</td>\n",
       "      <td>...</td>\n",
       "      <td>0.585913</td>\n",
       "      <td>0.638314</td>\n",
       "      <td>0.119139</td>\n",
       "      <td>-0.140204</td>\n",
       "      <td>1.394326</td>\n",
       "      <td>-1.173402</td>\n",
       "      <td>0.555058</td>\n",
       "      <td>1.013982</td>\n",
       "      <td>-0.544506</td>\n",
       "      <td>-0.064061</td>\n",
       "    </tr>\n",
       "    <tr>\n",
       "      <th>100005_raw-Carbohydrate</th>\n",
       "      <td>-0.580143</td>\n",
       "      <td>0.243335</td>\n",
       "      <td>0.158966</td>\n",
       "      <td>-0.036558</td>\n",
       "      <td>0.068176</td>\n",
       "      <td>-0.202639</td>\n",
       "      <td>1.101281</td>\n",
       "      <td>0.675227</td>\n",
       "      <td>1.463432</td>\n",
       "      <td>1.010078</td>\n",
       "      <td>...</td>\n",
       "      <td>-0.249108</td>\n",
       "      <td>-0.026814</td>\n",
       "      <td>0.232713</td>\n",
       "      <td>0.323682</td>\n",
       "      <td>1.168642</td>\n",
       "      <td>-0.282935</td>\n",
       "      <td>0.653105</td>\n",
       "      <td>1.909526</td>\n",
       "      <td>0.199997</td>\n",
       "      <td>-1.656894</td>\n",
       "    </tr>\n",
       "  </tbody>\n",
       "</table>\n",
       "<p>5 rows × 987 columns</p>\n",
       "</div>"
      ],
      "text/plain": [
       "                              LV1       LV2       LV3       LV4       LV5  \\\n",
       "100001_raw-Food_weight  -0.695006  1.962565  0.057683  0.878731 -0.539977   \n",
       "100002_raw-Energy       -1.528127 -0.345309 -0.148953 -0.242060  0.373427   \n",
       "100003_raw-Protein      -0.704572 -1.011299  0.671420  0.143991  0.615212   \n",
       "100004_raw-Fat          -0.989832 -1.875490  0.261555 -1.420719  0.366238   \n",
       "100005_raw-Carbohydrate -0.580143  0.243335  0.158966 -0.036558  0.068176   \n",
       "\n",
       "                              LV6       LV7       LV8       LV9      LV10  \\\n",
       "100001_raw-Food_weight   1.481272 -0.396422  1.090180  0.759223  0.931395   \n",
       "100002_raw-Energy        0.791092  0.263477  0.987702  0.354391  1.416059   \n",
       "100003_raw-Protein       0.874212 -0.040998  0.915170  0.254369 -0.084237   \n",
       "100004_raw-Fat           1.167049  0.257387  0.717674 -0.997664  0.969825   \n",
       "100005_raw-Carbohydrate -0.202639  1.101281  0.675227  1.463432  1.010078   \n",
       "\n",
       "                         ...     LV978     LV979     LV980     LV981  \\\n",
       "100001_raw-Food_weight   ...  1.129784  1.752343 -1.411403  2.823863   \n",
       "100002_raw-Energy        ...  0.224604  0.769882 -0.509482  0.091153   \n",
       "100003_raw-Protein       ...  1.003019  1.044314 -2.376108  0.004778   \n",
       "100004_raw-Fat           ...  0.585913  0.638314  0.119139 -0.140204   \n",
       "100005_raw-Carbohydrate  ... -0.249108 -0.026814  0.232713  0.323682   \n",
       "\n",
       "                            LV982     LV983     LV984     LV985     LV986  \\\n",
       "100001_raw-Food_weight   0.931116 -1.054519  0.432982 -0.633597  0.554279   \n",
       "100002_raw-Energy        2.286789 -1.008256 -0.029764  1.737229 -0.272107   \n",
       "100003_raw-Protein       0.053714 -0.892447 -0.183800  1.377991 -0.278794   \n",
       "100004_raw-Fat           1.394326 -1.173402  0.555058  1.013982 -0.544506   \n",
       "100005_raw-Carbohydrate  1.168642 -0.282935  0.653105  1.909526  0.199997   \n",
       "\n",
       "                            LV987  \n",
       "100001_raw-Food_weight  -0.642479  \n",
       "100002_raw-Energy       -0.526125  \n",
       "100003_raw-Protein      -0.419733  \n",
       "100004_raw-Fat          -0.064061  \n",
       "100005_raw-Carbohydrate -1.656894  \n",
       "\n",
       "[5 rows x 987 columns]"
      ]
     },
     "execution_count": 14,
     "metadata": {},
     "output_type": "execute_result"
    }
   ],
   "source": [
    "data.head()"
   ]
  },
  {
   "cell_type": "markdown",
   "metadata": {},
   "source": [
    "## Clustering partitions"
   ]
  },
  {
   "cell_type": "code",
   "execution_count": 15,
   "metadata": {},
   "outputs": [],
   "source": [
    "# CONSENSUS_CLUSTERING_DIR = Path(\n",
    "#     conf.RESULTS[\"CLUSTERING_DIR\"], \"consensus_clustering\"\n",
    "# ).resolve()\n",
    "\n",
    "# display(CONSENSUS_CLUSTERING_DIR)"
   ]
  },
  {
   "cell_type": "code",
   "execution_count": 16,
   "metadata": {},
   "outputs": [],
   "source": [
    "# input_file = Path(CONSENSUS_CLUSTERING_DIR, \"best_partitions_by_k.pkl\").resolve()\n",
    "# display(input_file)"
   ]
  },
  {
   "cell_type": "code",
   "execution_count": 17,
   "metadata": {},
   "outputs": [],
   "source": [
    "# best_partitions = pd.read_pickle(input_file)"
   ]
  },
  {
   "cell_type": "code",
   "execution_count": 18,
   "metadata": {},
   "outputs": [],
   "source": [
    "# best_partitions.shape"
   ]
  },
  {
   "cell_type": "code",
   "execution_count": 19,
   "metadata": {},
   "outputs": [],
   "source": [
    "# best_partitions.head()"
   ]
  },
  {
   "cell_type": "markdown",
   "metadata": {},
   "source": [
    "# Functions"
   ]
  },
  {
   "cell_type": "code",
   "execution_count": 20,
   "metadata": {},
   "outputs": [],
   "source": [
    "# def show_cluster_stats(data, partition, cluster):\n",
    "#     cluster_traits = data[partition == cluster].index\n",
    "#     display(f\"Cluster '{cluster}' has {len(cluster_traits)} traits\")\n",
    "#     display(cluster_traits)"
   ]
  },
  {
   "cell_type": "markdown",
   "metadata": {},
   "source": [
    "# LV analysis\n",
    "<a id=\"lv_analysis\"></a>"
   ]
  },
  {
   "cell_type": "markdown",
   "metadata": {},
   "source": [
    "## Associated traits"
   ]
  },
  {
   "cell_type": "code",
   "execution_count": 21,
   "metadata": {},
   "outputs": [],
   "source": [
    "# display(best_partitions.loc[PARTITION_K])\n",
    "# part = best_partitions.loc[PARTITION_K, \"partition\"]"
   ]
  },
  {
   "cell_type": "code",
   "execution_count": 22,
   "metadata": {},
   "outputs": [],
   "source": [
    "# show_cluster_stats(data, part, PARTITION_CLUSTER_ID)"
   ]
  },
  {
   "cell_type": "markdown",
   "metadata": {},
   "source": [
    "## Associated latent variables"
   ]
  },
  {
   "cell_type": "code",
   "execution_count": 23,
   "metadata": {},
   "outputs": [],
   "source": [
    "# ci = ClusterInterpreter(\n",
    "#     threshold=1.0,\n",
    "#     max_features=20,\n",
    "#     max_features_to_explore=100,\n",
    "# )"
   ]
  },
  {
   "cell_type": "code",
   "execution_count": 24,
   "metadata": {},
   "outputs": [],
   "source": [
    "# ci.fit(data, part, PARTITION_CLUSTER_ID)"
   ]
  },
  {
   "cell_type": "code",
   "execution_count": 25,
   "metadata": {},
   "outputs": [],
   "source": [
    "# ci.features_"
   ]
  },
  {
   "cell_type": "code",
   "execution_count": 26,
   "metadata": {},
   "outputs": [],
   "source": [
    "# # save interpreter instance\n",
    "# output_dir = Path(\n",
    "#     conf.RESULTS[\"CLUSTERING_INTERPRETATION\"][\"BASE_DIR\"],\n",
    "#     \"cluster_lvs\",\n",
    "#     f\"part{PARTITION_K}\",\n",
    "# )\n",
    "# output_dir.mkdir(exist_ok=True, parents=True)"
   ]
  },
  {
   "cell_type": "code",
   "execution_count": 27,
   "metadata": {},
   "outputs": [],
   "source": [
    "# output_file = Path(\n",
    "#     output_dir, f\"cluster_interpreter-part{PARTITION_K}_k{PARTITION_CLUSTER_ID}.pkl\"\n",
    "# )\n",
    "# display(output_file)"
   ]
  },
  {
   "cell_type": "code",
   "execution_count": 28,
   "metadata": {},
   "outputs": [],
   "source": [
    "# ci.features_.to_pickle(output_file)"
   ]
  },
  {
   "cell_type": "markdown",
   "metadata": {},
   "source": [
    "## Top attributes"
   ]
  },
  {
   "cell_type": "code",
   "execution_count": 29,
   "metadata": {},
   "outputs": [
    {
     "data": {
      "text/plain": [
       "PosixPath('/media/miltondp/Elements1/projects/phenoplier/results/drug_disease_analyses/lincs/analyses/cardiovascular-niacin.h5')"
      ]
     },
     "metadata": {},
     "output_type": "display_data"
    }
   ],
   "source": [
    "output_file = OUTPUT_DIR / \"cardiovascular-niacin.h5\"\n",
    "display(output_file)"
   ]
  },
  {
   "cell_type": "code",
   "execution_count": 30,
   "metadata": {},
   "outputs": [],
   "source": [
    "with pd.HDFStore(output_file, mode=\"r\") as store:\n",
    "    traits_module_tissue_data = store[\"traits_module_tissue_data\"]\n",
    "    drug_data = store[\"drug_data\"]\n",
    "    drug_trait_predictions = store[\"drug_trait_predictions\"]"
   ]
  },
  {
   "cell_type": "code",
   "execution_count": 31,
   "metadata": {},
   "outputs": [],
   "source": [
    "top_lvs = drug_trait_predictions[\"CARDIoGRAM_C4D_CAD_ADDITIVE\"].sort_values(\n",
    "    ascending=True\n",
    ")\n",
    "top_lvs = top_lvs[top_lvs < 0.0]"
   ]
  },
  {
   "cell_type": "code",
   "execution_count": 32,
   "metadata": {},
   "outputs": [
    {
     "data": {
      "text/plain": [
       "(497,)"
      ]
     },
     "execution_count": 32,
     "metadata": {},
     "output_type": "execute_result"
    }
   ],
   "source": [
    "top_lvs.shape"
   ]
  },
  {
   "cell_type": "code",
   "execution_count": 33,
   "metadata": {},
   "outputs": [
    {
     "data": {
      "text/plain": [
       "LV38    -6.532010e-03\n",
       "LV881   -4.782590e-03\n",
       "LV116   -4.640577e-03\n",
       "LV163   -2.453669e-03\n",
       "LV74    -2.268123e-03\n",
       "             ...     \n",
       "LV501   -1.095653e-06\n",
       "LV809   -3.631848e-07\n",
       "LV86    -2.728704e-07\n",
       "LV404   -1.182699e-08\n",
       "LV916   -7.352906e-09\n",
       "Name: CARDIoGRAM_C4D_CAD_ADDITIVE, Length: 497, dtype: float64"
      ]
     },
     "execution_count": 33,
     "metadata": {},
     "output_type": "execute_result"
    }
   ],
   "source": [
    "top_lvs"
   ]
  },
  {
   "cell_type": "code",
   "execution_count": 34,
   "metadata": {},
   "outputs": [],
   "source": [
    "lvs_list = top_lvs.index.tolist()"
   ]
  },
  {
   "cell_type": "code",
   "execution_count": 35,
   "metadata": {},
   "outputs": [
    {
     "data": {
      "text/plain": [
       "497"
      ]
     },
     "execution_count": 35,
     "metadata": {},
     "output_type": "execute_result"
    }
   ],
   "source": [
    "len(lvs_list)"
   ]
  },
  {
   "cell_type": "code",
   "execution_count": 36,
   "metadata": {},
   "outputs": [
    {
     "data": {
      "text/plain": [
       "['LV38',\n",
       " 'LV881',\n",
       " 'LV116',\n",
       " 'LV163',\n",
       " 'LV74',\n",
       " 'LV1',\n",
       " 'LV509',\n",
       " 'LV824',\n",
       " 'LV840',\n",
       " 'LV189']"
      ]
     },
     "execution_count": 36,
     "metadata": {},
     "output_type": "execute_result"
    }
   ],
   "source": [
    "lvs_list[:10]"
   ]
  },
  {
   "cell_type": "code",
   "execution_count": 37,
   "metadata": {},
   "outputs": [],
   "source": [
    "def _my_func(x):\n",
    "    _cols = [c for c in x.index if not c.startswith(\"LV\")]\n",
    "    _tmp = x[_cols].dropna()\n",
    "    if _tmp.shape[0] > 0:\n",
    "        return _tmp.iloc[0]\n",
    "\n",
    "    return None"
   ]
  },
  {
   "cell_type": "code",
   "execution_count": 38,
   "metadata": {},
   "outputs": [
    {
     "name": "stderr",
     "output_type": "stream",
     "text": [
      "LV38:   0%|          | 0/50 [00:00<?, ?it/s]"
     ]
    },
    {
     "name": "stdout",
     "output_type": "stream",
     "text": [
      "SRP066834, SRP050499, SRP042161, SRP057196, SRP033135, SRP028301, SRP055153, SRP059775, SRP059035, SRP030617, SRP058773, SRP055569, SRP052294, SRP060598, SRP055810, SRP028570, SRP055101, SRP011546, SRP050992, SRP062177, SRP015138, SRP014428, "
     ]
    },
    {
     "data": {
      "text/plain": [
       "5    cell type\n",
       "dtype: object"
      ]
     },
     "metadata": {},
     "output_type": "display_data"
    },
    {
     "data": {
      "text/plain": [
       "1    tissue\n",
       "dtype: object"
      ]
     },
     "metadata": {},
     "output_type": "display_data"
    },
    {
     "name": "stderr",
     "output_type": "stream",
     "text": [
      "LV881:   2%|▏         | 1/50 [00:12<09:51, 12.07s/it]"
     ]
    },
    {
     "name": "stdout",
     "output_type": "stream",
     "text": [
      "SRP042161, SRP050499, SRP066834, SRP060416, SRP057196, SRP055569, SRP018525, SRP059035, SRP028301, SRP062773, SRP033135, SRP050440, SRP059379, SRP048603, SRP044917, SRP041102, SRP059775, SRP048604, SRP034711, SRP035312, SRP055101, SRP055153, SRP014428, SRP041255, SRP042286, SRP021509, SRP045570, SRP018838, SRP060370, SRP030617, SRP064457, SRP015138, SRP007461, SRP053186, SRP064259, "
     ]
    },
    {
     "name": "stderr",
     "output_type": "stream",
     "text": [
      "/home/miltondp/projects/labs/greenelab/phenoplier/libs/data/recount2.py:320: UserWarning: Not all experiments data could be loaded (34 != 35)\n",
      "  warnings.warn(\n"
     ]
    },
    {
     "data": {
      "text/plain": [
       "1    cell type\n",
       "dtype: object"
      ]
     },
     "metadata": {},
     "output_type": "display_data"
    },
    {
     "data": {
      "text/plain": [
       "7    tissue\n",
       "dtype: object"
      ]
     },
     "metadata": {},
     "output_type": "display_data"
    },
    {
     "name": "stderr",
     "output_type": "stream",
     "text": [
      "LV116:   4%|▍         | 2/50 [00:25<09:59, 12.48s/it]"
     ]
    },
    {
     "name": "stdout",
     "output_type": "stream",
     "text": [
      "SRP059039, SRP045500, SRP063059, SRP045569, SRP015670, SRP059531, SRP062958, SRP039361, SRP056733, SRP060370, SRP062966, SRP045352, SRP048804, SRP032775, SRP059172, SRP050246, SRP064458, SRP033711, SRP049820, SRP023199, SRP060416, SRP005279, SRP042161, SRP059701, SRP068139, SRP051848, SRP014428, SRP063661, SRP057205, SRP041826, SRP059057, SRP064259, SRP046226, SRP044956, SRP066356, SRP048640, SRP041885, SRP045659, SRP041647, SRP045565, SRP041620, SRP053186, SRP045441, SRP022133, SRP055874, SRP029990, SRP044206, SRP065763, SRP056443, SRP041538, SRP044593, SRP019270, SRP067934, SRP059035, SRP019936, SRP054971, SRP058237, SRP051368, SRP019758, "
     ]
    },
    {
     "data": {
      "text/plain": [
       "8      celltype\n",
       "21    cell type\n",
       "dtype: object"
      ]
     },
     "metadata": {},
     "output_type": "display_data"
    },
    {
     "data": {
      "text/plain": [
       "79    tissue type\n",
       "4          tissue\n",
       "dtype: object"
      ]
     },
     "metadata": {},
     "output_type": "display_data"
    },
    {
     "name": "stderr",
     "output_type": "stream",
     "text": [
      "LV163:   6%|▌         | 3/50 [00:38<09:59, 12.76s/it]"
     ]
    },
    {
     "name": "stdout",
     "output_type": "stream",
     "text": [
      "SRP019936, SRP045639, SRP017142, SRP052706, SRP007596, SRP009276, SRP042579, SRP039348, SRP064481, SRP008554, SRP012557, SRP019994, SRP010038, SRP051674, SRP028902, SRP051765, SRP061426, SRP007461, SRP060708, SRP034953, SRP022920, SRP065202, SRP051606, SRP055153, SRP017644, SRP017972, SRP051599, SRP016790, SRP021134, SRP044013, SRP045869, SRP063620, SRP060598, SRP063948, SRP014790, SRP026537, SRP013984, SRP014320, SRP034601, SRP017789, SRP049988, SRP028118, SRP018861, SRP040243, SRP017788, SRP017411, SRP049061, SRP046254, SRP066917, SRP009266, SRP034873, SRP002915, SRP067529, SRP042620, SRP014842, SRP041718, SRP057814, SRP008218, SRP059643, SRP032165, SRP067214, SRP033711, SRP046376, SRP023270, SRP015909, SRP045711, SRP017378, SRP032942, SRP057253, SRP028190, SRP052879, SRP067836, SRP004637, SRP049068, SRP017019, SRP045695, SRP063070, SRP052740, SRP068139, SRP018218, SRP039598, SRP059066, SRP017575, SRP061380, SRP051485, SRP055475, SRP003726, SRP043510, SRP014190, SRP006912, SRP019207, SRP049391, SRP057613, SRP009790, SRP065282, SRP020493, SRP040300, SRP013402, SRP004847, "
     ]
    },
    {
     "name": "stderr",
     "output_type": "stream",
     "text": [
      "/home/miltondp/projects/labs/greenelab/phenoplier/libs/data/recount2.py:320: UserWarning: Not all experiments data could be loaded (95 != 99)\n",
      "  warnings.warn(\n"
     ]
    },
    {
     "data": {
      "text/plain": [
       "2    cell type\n",
       "dtype: object"
      ]
     },
     "metadata": {},
     "output_type": "display_data"
    },
    {
     "data": {
      "text/plain": [
       "0     tissue type\n",
       "12         tissue\n",
       "dtype: object"
      ]
     },
     "metadata": {},
     "output_type": "display_data"
    },
    {
     "name": "stderr",
     "output_type": "stream",
     "text": [
      "LV74:   8%|▊         | 4/50 [00:45<08:17, 10.81s/it] "
     ]
    },
    {
     "name": "stdout",
     "output_type": "stream",
     "text": [
      "SRP010038, SRP043166, SRP042161, SRP006970, SRP066834, SRP064323, SRP042249, SRP055569, SRP041825, SRP057196, SRP049988, SRP024274, SRP059035, SRP014428, SRP063840, SRP016059, SRP007596, SRP047082, SRP050179, SRP029262, SRP033135, SRP060416, SRP060355, SRP026042, SRP048562, SRP064464, SRP056498, SRP019241, SRP013022, SRP009266, SRP064259, SRP041751, SRP056530, SRP050499, SRP067701, SRP017435, SRP041846, SRP004637, SRP061329, SRP061682, SRP042620, SRP020491, SRP059379, SRP020493, SRP035391, SRP033393, SRP025989, SRP050892, SRP032812, SRP007461, SRP045711, SRP042616, SRP018218, SRP057205, SRP049591, SRP033078, SRP058740, SRP022166, SRP055863, SRP011895, SRP045639, SRP021509, SRP045859, SRP056220, SRP041036, SRP027383, SRP051705, SRP058783, "
     ]
    },
    {
     "name": "stderr",
     "output_type": "stream",
     "text": [
      "/home/miltondp/projects/labs/greenelab/phenoplier/libs/data/recount2.py:320: UserWarning: Not all experiments data could be loaded (66 != 68)\n",
      "  warnings.warn(\n"
     ]
    },
    {
     "data": {
      "text/plain": [
       "0    cell type\n",
       "dtype: object"
      ]
     },
     "metadata": {},
     "output_type": "display_data"
    },
    {
     "data": {
      "text/plain": [
       "4    tissue\n",
       "dtype: object"
      ]
     },
     "metadata": {},
     "output_type": "display_data"
    },
    {
     "name": "stderr",
     "output_type": "stream",
     "text": [
      "LV1:  10%|█         | 5/50 [01:04<09:54, 13.22s/it] "
     ]
    },
    {
     "name": "stdout",
     "output_type": "stream",
     "text": [
      "SRP019936, SRP058435, SRP015715, SRP007461, SRP041263, SRP064481, SRP042620, SRP026537, SRP044611, SRP014591, SRP014320, SRP017644, SRP034601, SRP059266, SRP021214, SRP004637, SRP061689, SRP055569, SRP014790, SRP023111, SRP033119, SRP015964, SRP018861, SRP043593, SRP067836, SRP051736, SRP060708, SRP065202, SRP036133, SRP059066, SRP049510, SRP005281, SRP050440, SRP046271, SRP061840, SRP048536, SRP020556, SRP012099, SRP060359, SRP019222, SRP026084, SRP041102, SRP032754, SRP028902, SRP058383, SRP042297, SRP045639, SRP007525, SRP044013, SRP064561, SRP063948, SRP060650, SRP008331, SRP008930, SRP060661, SRP003672, SRP002789, SRP009790, SRP057745, SRP007506, SRP001540, SRP017019, SRP063339, SRP049391, SRP014857, SRP010280, SRP050147, SRP013463, SRP058300, SRP019250, SRP032367, SRP022876, SRP033057, SRP002079, SRP023270, SRP041036, SRP040327, SRP046741, SRP058571, SRP029739, SRP012557, SRP028118, SRP039348, SRP064562, SRP012062, SRP035312, SRP034711, SRP007403, SRP057804, SRP060637, SRP034873, SRP015640, SRP010430, SRP010678, SRP001563, SRP034953, SRP050215, SRP016568, SRP017294, SRP015819, SRP055475, SRP003637, SRP050146, SRP013224, SRP003611, "
     ]
    },
    {
     "name": "stderr",
     "output_type": "stream",
     "text": [
      "/home/miltondp/projects/labs/greenelab/phenoplier/libs/data/recount2.py:320: UserWarning: Not all experiments data could be loaded (102 != 105)\n",
      "  warnings.warn(\n"
     ]
    },
    {
     "data": {
      "text/plain": [
       "1    cell type\n",
       "dtype: object"
      ]
     },
     "metadata": {},
     "output_type": "display_data"
    },
    {
     "data": {
      "text/plain": [
       "0    tissue type\n",
       "5         tissue\n",
       "dtype: object"
      ]
     },
     "metadata": {},
     "output_type": "display_data"
    },
    {
     "name": "stderr",
     "output_type": "stream",
     "text": [
      "LV509:  12%|█▏        | 6/50 [01:10<08:11, 11.18s/it]"
     ]
    },
    {
     "name": "stdout",
     "output_type": "stream",
     "text": [
      "SRP009266, SRP013725, SRP006575, SRP023262, SRP009862, SRP065202, SRP055569, SRP035391, SRP043962, SRP061241, SRP002487, SRP007596, SRP042579, SRP050365, SRP045869, SRP033119, SRP002915, SRP028815, SRP026315, SRP005177, SRP012056, SRP044611, SRP067214, SRP026537, SRP033369, SRP012461, SRP019936, SRP019994, SRP046749, SRP033135, SRP014739, SRP049500, SRP007461, SRP057196, SRP010350, SRP007359, SRP039348, SRP017644, SRP024268, SRP052950, SRP005279, SRP051102, SRP065559, SRP004637, SRP040136, SRP048536, SRP006475, SRP009276, SRP058120, SRP004847, SRP033276, SRP060416, SRP042161, SRP014320, SRP041210, SRP020493, SRP051599, SRP045905, SRP055153, SRP049988, SRP003611, SRP036821, SRP042616, SRP043378, SRP051765, SRP014790, SRP017789, SRP032510, SRP050036, SRP017411, SRP064464, SRP056696, SRP060661, SRP003726, SRP022920, SRP013984, SRP055810, SRP063620, SRP045898, "
     ]
    },
    {
     "name": "stderr",
     "output_type": "stream",
     "text": [
      "/home/miltondp/projects/labs/greenelab/phenoplier/libs/data/recount2.py:320: UserWarning: Not all experiments data could be loaded (75 != 79)\n",
      "  warnings.warn(\n"
     ]
    },
    {
     "data": {
      "text/plain": [
       "1    cell type\n",
       "dtype: object"
      ]
     },
     "metadata": {},
     "output_type": "display_data"
    },
    {
     "data": {
      "text/plain": [
       "38    tissue type\n",
       "4          tissue\n",
       "dtype: object"
      ]
     },
     "metadata": {},
     "output_type": "display_data"
    },
    {
     "name": "stderr",
     "output_type": "stream",
     "text": [
      "LV824:  14%|█▍        | 7/50 [01:24<08:40, 12.09s/it]"
     ]
    },
    {
     "name": "stdout",
     "output_type": "stream",
     "text": [
      "SRP057205, SRP055569, SRP060416, SRP042161, SRP057196, SRP066834, SRP007498, SRP050499, SRP007947, SRP033135, SRP024268, SRP031507, SRP059379, SRP064464, SRP058773, SRP030617, SRP009862, SRP049340, SRP058351, SRP018719, SRP008218, SRP042119, SRP059279, SRP040145, SRP003726, SRP030475, SRP050992, SRP049391, SRP050147, SRP045294, SRP005129, SRP056076, SRP064259, SRP004847, SRP026537, SRP019241, SRP051472, SRP041263, SRP063867, SRP044611, SRP031858, SRP041008, SRP032928, SRP026033, SRP011378, SRP003021, SRP014320, SRP049475, SRP061840, SRP050365, SRP011546, SRP014626, SRP056084, SRP049593, SRP018861, SRP026084, "
     ]
    },
    {
     "name": "stderr",
     "output_type": "stream",
     "text": [
      "/home/miltondp/projects/labs/greenelab/phenoplier/libs/data/recount2.py:320: UserWarning: Not all experiments data could be loaded (54 != 56)\n",
      "  warnings.warn(\n"
     ]
    },
    {
     "data": {
      "text/plain": [
       "5    cell type\n",
       "dtype: object"
      ]
     },
     "metadata": {},
     "output_type": "display_data"
    },
    {
     "data": {
      "text/plain": [
       "10    tissue\n",
       "dtype: object"
      ]
     },
     "metadata": {},
     "output_type": "display_data"
    },
    {
     "name": "stderr",
     "output_type": "stream",
     "text": [
      "LV840:  16%|█▌        | 8/50 [01:39<09:05, 13.00s/it]"
     ]
    },
    {
     "name": "stdout",
     "output_type": "stream",
     "text": [
      "SRP043417, SRP028301, SRP059775, SRP062177, SRP012056, SRP033119, SRP040278, SRP058300, SRP034543, SRP056084, SRP038695, SRP058841, SRP059948, SRP042161, SRP009266, SRP006475, SRP045501, SRP033369, SRP058773, SRP018861, SRP041036, SRP055810, SRP055569, SRP029245, SRP018719, SRP015964, SRP014867, SRP010280, SRP048536, SRP002605, SRP053402, SRP063339, SRP019250, SRP007461, SRP044653, SRP046749, SRP039397, SRP052950, SRP056036, SRP043962, SRP061539, SRP019989, SRP064481, SRP045481, SRP028887, SRP013725, SRP009861, SRP041263, SRP058087, SRP019241, SRP050055, SRP011546, SRP039348, SRP010430, SRP058191, SRP049510, SRP056200, SRP060637, SRP021214, SRP060416, SRP041656, SRP064464, SRP041396, SRP053052, SRP029515, SRP064317, SRP001349, SRP041130, SRP017644, SRP059266, "
     ]
    },
    {
     "name": "stderr",
     "output_type": "stream",
     "text": [
      "/home/miltondp/projects/labs/greenelab/phenoplier/libs/data/recount2.py:320: UserWarning: Not all experiments data could be loaded (68 != 70)\n",
      "  warnings.warn(\n"
     ]
    },
    {
     "data": {
      "text/plain": [
       "2    cell type\n",
       "dtype: object"
      ]
     },
     "metadata": {},
     "output_type": "display_data"
    },
    {
     "data": {
      "text/plain": [
       "52    tissue\n",
       "dtype: object"
      ]
     },
     "metadata": {},
     "output_type": "display_data"
    },
    {
     "name": "stderr",
     "output_type": "stream",
     "text": [
      "LV189:  18%|█▊        | 9/50 [01:47<07:53, 11.54s/it]"
     ]
    },
    {
     "name": "stdout",
     "output_type": "stream",
     "text": [
      "SRP037775, SRP064259, SRP033250, SRP026537, SRP045322, SRP042620, SRP042161, SRP055569, SRP049500, SRP006575, SRP030475, SRP011974, SRP049507, SRP030401, SRP043470, SRP057205, SRP061241, SRP055512, SRP059379, SRP058722, SRP063620, SRP049988, SRP019498, SRP060416, SRP057196, SRP065202, SRP033135, SRP018853, SRP011054, SRP019936, SRP013389, SRP063840, SRP066834, SRP032789, SRP048664, SRP040966, SRP047192, SRP061243, SRP004637, SRP012557, SRP040418, SRP023262, SRP044610, SRP058571, SRP055153, SRP051102, SRP031503, SRP058773, SRP012167, SRP043320, SRP035988, SRP067214, SRP049713, SRP040505, SRP050971, SRP057758, SRP013239, SRP029334, "
     ]
    },
    {
     "name": "stderr",
     "output_type": "stream",
     "text": [
      "/home/miltondp/projects/labs/greenelab/phenoplier/libs/data/recount2.py:320: UserWarning: Not all experiments data could be loaded (56 != 58)\n",
      "  warnings.warn(\n"
     ]
    },
    {
     "data": {
      "text/plain": [
       "2    cell type\n",
       "dtype: object"
      ]
     },
     "metadata": {},
     "output_type": "display_data"
    },
    {
     "data": {
      "text/plain": [
       "51    tissue type\n",
       "8          tissue\n",
       "dtype: object"
      ]
     },
     "metadata": {},
     "output_type": "display_data"
    },
    {
     "name": "stderr",
     "output_type": "stream",
     "text": [
      "LV604:  20%|██        | 10/50 [02:02<08:14, 12.37s/it]"
     ]
    },
    {
     "name": "stdout",
     "output_type": "stream",
     "text": [
      "SRP055569, SRP060416, SRP066834, SRP042161, SRP018853, SRP057196, SRP030617, SRP033135, SRP059379, SRP017411, SRP015013, SRP003754, SRP059735, SRP006575, SRP019994, SRP008145, SRP058773, SRP033276, SRP011185, SRP017575, SRP057205, SRP028554, SRP007498, SRP022892, SRP059035, SRP005279, SRP029899, SRP021478, SRP014591, SRP007947, SRP059775, SRP050499, SRP009247, SRP009862, SRP032775, SRP049988, SRP036053, SRP064464, SRP019936, SRP036821, SRP048759, SRP015715, SRP011974, SRP017777, SRP009266, SRP018838, SRP049500, SRP013363, SRP045869, SRP029334, SRP006474, "
     ]
    },
    {
     "name": "stderr",
     "output_type": "stream",
     "text": [
      "/home/miltondp/projects/labs/greenelab/phenoplier/libs/data/recount2.py:320: UserWarning: Not all experiments data could be loaded (47 != 51)\n",
      "  warnings.warn(\n"
     ]
    },
    {
     "data": {
      "text/plain": [
       "0    cell type\n",
       "dtype: object"
      ]
     },
     "metadata": {},
     "output_type": "display_data"
    },
    {
     "data": {
      "text/plain": [
       "73    tissue type\n",
       "4          tissue\n",
       "dtype: object"
      ]
     },
     "metadata": {},
     "output_type": "display_data"
    },
    {
     "name": "stderr",
     "output_type": "stream",
     "text": [
      "LV854:  22%|██▏       | 11/50 [02:16<08:27, 13.02s/it]"
     ]
    },
    {
     "name": "stdout",
     "output_type": "stream",
     "text": [
      "SRP045352, SRP059695, SRP058237, SRP015360, SRP043033, SRP041826, SRP060416, SRP057852, SRP056295, SRP017138, SRP010644, SRP048801, SRP042228, SRP056733, SRP050272, SRP045500, SRP056197, SRP056098, SRP035679, SRP044303, SRP057196, SRP044286, SRP063363, SRP063493, SRP063500, SRP043080, SRP014856, SRP007461, SRP048759, SRP003726, SRP059205, SRP042031, SRP028594, SRP063496, SRP049097, SRP039361, SRP050000, SRP056840, SRP059735, SRP064454, SRP033266, SRP050493, SRP046233, SRP062958, SRP052491, SRP044271, SRP032789, SRP021191, SRP033466, SRP041538, "
     ]
    },
    {
     "name": "stderr",
     "output_type": "stream",
     "text": [
      "/home/miltondp/projects/labs/greenelab/phenoplier/libs/data/recount2.py:320: UserWarning: Not all experiments data could be loaded (49 != 50)\n",
      "  warnings.warn(\n"
     ]
    },
    {
     "data": {
      "text/plain": [
       "30     celltype\n",
       "0     cell type\n",
       "dtype: object"
      ]
     },
     "metadata": {},
     "output_type": "display_data"
    },
    {
     "data": {
      "text/plain": [
       "64    tissue type\n",
       "4          tissue\n",
       "dtype: object"
      ]
     },
     "metadata": {},
     "output_type": "display_data"
    },
    {
     "name": "stderr",
     "output_type": "stream",
     "text": [
      "LV583:  24%|██▍       | 12/50 [02:29<08:15, 13.03s/it]"
     ]
    },
    {
     "name": "stdout",
     "output_type": "stream",
     "text": [
      "SRP055569, SRP009266, SRP042161, SRP015449, SRP016003, SRP057196, SRP027345, SRP060416, SRP033135, SRP023262, SRP007498, SRP002915, SRP006575, SRP036821, SRP050499, SRP057205, SRP066834, SRP007596, SRP015976, SRP014790, SRP010670, SRP031507, SRP029889, SRP018853, SRP026315, SRP009862, SRP029656, SRP024268, SRP044956, SRP007947, SRP055153, SRP045869, SRP012461, SRP038919, SRP017575, SRP060715, SRP014213, SRP063840, SRP055390, SRP053052, SRP007525, SRP009276, SRP064464, SRP015853, SRP014428, SRP044611, SRP015640, SRP025982, SRP013725, SRP061840, SRP008280, SRP058383, SRP062956, SRP007461, SRP009247, SRP018317, SRP017411, SRP056295, SRP003726, "
     ]
    },
    {
     "name": "stderr",
     "output_type": "stream",
     "text": [
      "/home/miltondp/projects/labs/greenelab/phenoplier/libs/data/recount2.py:320: UserWarning: Not all experiments data could be loaded (56 != 59)\n",
      "  warnings.warn(\n"
     ]
    },
    {
     "data": {
      "text/plain": [
       "0    cell type\n",
       "dtype: object"
      ]
     },
     "metadata": {},
     "output_type": "display_data"
    },
    {
     "data": {
      "text/plain": [
       "59    tissue type\n",
       "7          tissue\n",
       "dtype: object"
      ]
     },
     "metadata": {},
     "output_type": "display_data"
    },
    {
     "name": "stderr",
     "output_type": "stream",
     "text": [
      "LV170:  26%|██▌       | 13/50 [02:52<09:52, 16.01s/it]"
     ]
    },
    {
     "name": "stdout",
     "output_type": "stream",
     "text": [
      "SRP033135, SRP055569, SRP050499, SRP018853, SRP066834, SRP002326, SRP012461, SRP014739, SRP010279, SRP060416, SRP042161, SRP057196, SRP058773, SRP007359, SRP017777, SRP055153, SRP022892, SRP061888, SRP018838, SRP027383, SRP029656, SRP059035, SRP025982, SRP030617, SRP063840, SRP009247, SRP049449, SRP034953, SRP014591, SRP064259, SRP018837, SRP055513, SRP029603, SRP007881, SRP041094, SRP051102, SRP017411, SRP029889, SRP006719, SRP034712, SRP050992, SRP059379, SRP013725, SRP049479, SRP050260, SRP007338, SRP033612, "
     ]
    },
    {
     "data": {
      "text/plain": [
       "0    cell type\n",
       "dtype: object"
      ]
     },
     "metadata": {},
     "output_type": "display_data"
    },
    {
     "data": {
      "text/plain": [
       "11    tissue\n",
       "dtype: object"
      ]
     },
     "metadata": {},
     "output_type": "display_data"
    },
    {
     "name": "stderr",
     "output_type": "stream",
     "text": [
      "LV608:  28%|██▊       | 14/50 [03:15<10:48, 18.03s/it]"
     ]
    },
    {
     "name": "stdout",
     "output_type": "stream",
     "text": [
      "SRP055569, SRP033135, SRP066834, SRP042161, SRP012461, SRP057196, SRP060416, SRP018838, SRP058773, SRP011578, SRP045659, SRP050499, SRP059170, SRP034953, SRP056733, SRP030617, SRP005279, SRP064464, SRP063840, SRP009251, SRP059775, SRP011054, SRP029656, SRP007338, SRP059379, SRP009266, SRP048801, SRP057205, SRP006575, SRP059039, SRP055153, SRP045869, SRP017575, SRP002487, SRP015013, SRP016003, SRP025982, SRP017777, SRP056840, SRP050000, SRP033248, SRP019994, SRP024268, SRP007947, SRP028336, SRP042228, SRP049068, "
     ]
    },
    {
     "name": "stderr",
     "output_type": "stream",
     "text": [
      "/home/miltondp/projects/labs/greenelab/phenoplier/libs/data/recount2.py:320: UserWarning: Not all experiments data could be loaded (46 != 47)\n",
      "  warnings.warn(\n"
     ]
    },
    {
     "data": {
      "text/plain": [
       "0    cell type\n",
       "dtype: object"
      ]
     },
     "metadata": {},
     "output_type": "display_data"
    },
    {
     "data": {
      "text/plain": [
       "7    tissue\n",
       "dtype: object"
      ]
     },
     "metadata": {},
     "output_type": "display_data"
    },
    {
     "name": "stderr",
     "output_type": "stream",
     "text": [
      "LV926:  30%|███       | 15/50 [03:41<11:52, 20.35s/it]"
     ]
    },
    {
     "name": "stdout",
     "output_type": "stream",
     "text": [
      "SRP042161, SRP055569, SRP066834, SRP012461, SRP060416, SRP055153, SRP057196, SRP058773, SRP033135, SRP050499, SRP059379, SRP042218, SRP003901, SRP009266, SRP063840, SRP018838, SRP059775, SRP014620, SRP064464, SRP058667, SRP050992, SRP047192, "
     ]
    },
    {
     "name": "stderr",
     "output_type": "stream",
     "text": [
      "/home/miltondp/projects/labs/greenelab/phenoplier/libs/data/recount2.py:320: UserWarning: Not all experiments data could be loaded (21 != 22)\n",
      "  warnings.warn(\n"
     ]
    },
    {
     "data": {
      "text/plain": [
       "1    cell type\n",
       "dtype: object"
      ]
     },
     "metadata": {},
     "output_type": "display_data"
    },
    {
     "data": {
      "text/plain": [
       "38    tissue type\n",
       "5          tissue\n",
       "dtype: object"
      ]
     },
     "metadata": {},
     "output_type": "display_data"
    },
    {
     "name": "stderr",
     "output_type": "stream",
     "text": [
      "LV420:  32%|███▏      | 16/50 [03:54<10:20, 18.25s/it]"
     ]
    },
    {
     "name": "stdout",
     "output_type": "stream",
     "text": [
      "SRP058773, SRP060416, SRP005279, SRP064464, SRP055569, SRP057196, SRP057852, SRP064259, SRP066834, SRP024268, SRP042161, SRP057248, SRP014487, SRP014213, SRP033135, SRP045659, SRP055153, SRP019207, SRP041833, SRP067173, SRP020646, SRP043085, SRP055810, SRP056049, SRP057205, SRP018020, SRP026537, SRP056733, SRP056295, SRP056098, SRP048759, SRP068523, SRP050499, SRP036821, SRP059379, SRP030617, SRP002184, SRP022591, SRP059775, SRP050992, SRP008218, SRP033248, SRP018853, SRP053246, SRP063840, SRP018525, SRP029656, SRP018837, SRP042620, SRP045352, SRP008145, "
     ]
    },
    {
     "data": {
      "text/plain": [
       "4    cell type\n",
       "dtype: object"
      ]
     },
     "metadata": {},
     "output_type": "display_data"
    },
    {
     "data": {
      "text/plain": [
       "9    tissue\n",
       "dtype: object"
      ]
     },
     "metadata": {},
     "output_type": "display_data"
    },
    {
     "name": "stderr",
     "output_type": "stream",
     "text": [
      "LV272:  34%|███▍      | 17/50 [04:11<09:50, 17.88s/it]"
     ]
    },
    {
     "name": "stdout",
     "output_type": "stream",
     "text": [
      "SRP055569, SRP042161, SRP006474, SRP033135, SRP017575, SRP036821, SRP006575, SRP057196, SRP009266, SRP050499, SRP066834, SRP065202, SRP019994, SRP060416, SRP047192, SRP005279, SRP059775, SRP049097, SRP059379, SRP058773, SRP007359, SRP061241, SRP012461, SRP009862, SRP042620, SRP049713, SRP014620, SRP057745, SRP003754, SRP033369, SRP033276, SRP014428, SRP027383, SRP049238, SRP045322, SRP062230, SRP024268, SRP058841, SRP018838, SRP002915, SRP055810, "
     ]
    },
    {
     "name": "stderr",
     "output_type": "stream",
     "text": [
      "/home/miltondp/projects/labs/greenelab/phenoplier/libs/data/recount2.py:320: UserWarning: Not all experiments data could be loaded (38 != 41)\n",
      "  warnings.warn(\n"
     ]
    },
    {
     "data": {
      "text/plain": [
       "0    cell type\n",
       "dtype: object"
      ]
     },
     "metadata": {},
     "output_type": "display_data"
    },
    {
     "data": {
      "text/plain": [
       "33    tissue type\n",
       "12         tissue\n",
       "dtype: object"
      ]
     },
     "metadata": {},
     "output_type": "display_data"
    },
    {
     "name": "stderr",
     "output_type": "stream",
     "text": [
      "LV60:  36%|███▌      | 18/50 [04:27<09:10, 17.21s/it] "
     ]
    },
    {
     "name": "stdout",
     "output_type": "stream",
     "text": [
      "SRP007412, SRP051844, SRP058181, SRP019762, SRP017959, SRP057196, SRP044668, SRP027383, SRP029889, SRP042161, SRP048683, SRP045900, SRP009144, SRP007338, SRP002274, SRP040622, SRP028336, SRP003611, SRP009247, SRP007351, SRP032539, SRP058351, SRP017933, SRP033725, SRP007483, SRP064454, SRP032540, SRP056477, SRP025982, SRP007494, SRP043364, SRP015668, SRP030628, SRP033464, SRP031501, "
     ]
    },
    {
     "data": {
      "text/plain": [
       "28    cell type\n",
       "dtype: object"
      ]
     },
     "metadata": {},
     "output_type": "display_data"
    },
    {
     "data": {
      "text/plain": [
       "31    tissue type\n",
       "12         tissue\n",
       "dtype: object"
      ]
     },
     "metadata": {},
     "output_type": "display_data"
    },
    {
     "name": "stderr",
     "output_type": "stream",
     "text": [
      "LV905:  38%|███▊      | 19/50 [04:41<08:25, 16.29s/it]"
     ]
    },
    {
     "name": "stdout",
     "output_type": "stream",
     "text": [
      "SRP027358, SRP055569, SRP067661, SRP041885, SRP062025, SRP033135, SRP042616, SRP050499, SRP051102, SRP015138, SRP056295, SRP050146, SRP051765, SRP046233, SRP028594, SRP055390, SRP055103, SRP048759, SRP056074, SRP033266, SRP058719, SRP042161, SRP049063, SRP056197, SRP042043, SRP047323, "
     ]
    },
    {
     "data": {
      "text/plain": [
       "3    cell type\n",
       "dtype: object"
      ]
     },
     "metadata": {},
     "output_type": "display_data"
    },
    {
     "data": {
      "text/plain": [
       "1    tissue\n",
       "dtype: object"
      ]
     },
     "metadata": {},
     "output_type": "display_data"
    },
    {
     "name": "stderr",
     "output_type": "stream",
     "text": [
      "LV667:  40%|████      | 20/50 [04:50<07:01, 14.04s/it]"
     ]
    },
    {
     "name": "stdout",
     "output_type": "stream",
     "text": [
      "SRP055569, SRP024268, SRP042161, SRP066834, SRP057196, SRP002326, SRP060416, SRP019994, SRP063840, SRP014428, SRP058773, SRP030617, SRP045869, SRP050499, SRP049479, SRP003726, SRP007461, SRP064464, SRP033135, SRP055153, SRP044042, SRP012461, SRP059035, SRP011422, SRP061380, SRP051320, SRP052740, SRP064458, SRP009266, SRP018838, SRP027383, SRP029656, SRP045711, SRP006575, SRP048577, SRP015670, SRP055513, SRP008145, SRP028336, SRP003611, SRP057852, SRP058667, SRP041094, SRP063500, SRP044668, SRP057205, SRP004847, "
     ]
    },
    {
     "name": "stderr",
     "output_type": "stream",
     "text": [
      "/home/miltondp/projects/labs/greenelab/phenoplier/libs/data/recount2.py:320: UserWarning: Not all experiments data could be loaded (45 != 47)\n",
      "  warnings.warn(\n"
     ]
    },
    {
     "data": {
      "text/plain": [
       "0    cell type\n",
       "dtype: object"
      ]
     },
     "metadata": {},
     "output_type": "display_data"
    },
    {
     "data": {
      "text/plain": [
       "61    tissue type\n",
       "1          tissue\n",
       "dtype: object"
      ]
     },
     "metadata": {},
     "output_type": "display_data"
    },
    {
     "name": "stderr",
     "output_type": "stream",
     "text": [
      "LV395:  42%|████▏     | 21/50 [05:06<07:03, 14.62s/it]"
     ]
    },
    {
     "name": "stdout",
     "output_type": "stream",
     "text": [
      "SRP066834, SRP055569, SRP007498, SRP057196, SRP011422, SRP059775, SRP055153, SRP058773, SRP060416, SRP050499, SRP066729, SRP008218, SRP017777, SRP006474, SRP042161, SRP064464, SRP013363, SRP004837, SRP050892, SRP007359, SRP004847, SRP064735, SRP022892, SRP003726, SRP067214, SRP060355, SRP007338, SRP032539, SRP049097, SRP032812, SRP005279, SRP033135, SRP030617, SRP032789, SRP004965, SRP043960, SRP017411, SRP022913, SRP039552, SRP065219, SRP015640, SRP028336, SRP026052, SRP015976, SRP018218, SRP002915, SRP041387, SRP018838, SRP033369, SRP012463, SRP057745, SRP026126, SRP018242, SRP018837, SRP063840, SRP032540, SRP067469, SRP029889, SRP043434, SRP033569, SRP014620, SRP058722, SRP008775, SRP044608, SRP058783, SRP012461, SRP010670, SRP045573, SRP014790, SRP040525, SRP028570, SRP013825, "
     ]
    },
    {
     "data": {
      "text/plain": [
       "2    cell type\n",
       "dtype: object"
      ]
     },
     "metadata": {},
     "output_type": "display_data"
    },
    {
     "data": {
      "text/plain": [
       "52    tissue type\n",
       "1          tissue\n",
       "dtype: object"
      ]
     },
     "metadata": {},
     "output_type": "display_data"
    },
    {
     "name": "stderr",
     "output_type": "stream",
     "text": [
      "LV205:  44%|████▍     | 22/50 [05:26<07:36, 16.30s/it]"
     ]
    },
    {
     "name": "stdout",
     "output_type": "stream",
     "text": [
      "SRP055569, SRP057196, SRP066834, SRP060416, SRP009247, SRP042161, SRP057205, SRP002487, SRP055153, SRP035638, SRP007461, SRP013363, SRP033135, SRP019994, SRP017777, SRP050499, SRP009029, SRP052740, SRP017575, SRP028963, SRP045869, SRP059035, SRP048577, SRP058120, SRP058773, SRP041819, SRP010129, SRP022259, SRP007338, SRP036053, SRP013402, SRP006575, SRP011422, SRP042620, SRP008554, SRP064464, SRP048701, SRP008775, SRP017411, SRP009266, SRP060708, SRP067214, SRP023270, SRP056049, SRP018525, SRP051102, SRP012461, SRP049713, SRP063493, SRP017142, SRP036821, SRP063840, SRP009862, "
     ]
    },
    {
     "name": "stderr",
     "output_type": "stream",
     "text": [
      "/home/miltondp/projects/labs/greenelab/phenoplier/libs/data/recount2.py:320: UserWarning: Not all experiments data could be loaded (50 != 53)\n",
      "  warnings.warn(\n"
     ]
    },
    {
     "data": {
      "text/plain": [
       "0    cell type\n",
       "dtype: object"
      ]
     },
     "metadata": {},
     "output_type": "display_data"
    },
    {
     "data": {
      "text/plain": [
       "1    tissue\n",
       "dtype: object"
      ]
     },
     "metadata": {},
     "output_type": "display_data"
    },
    {
     "name": "stderr",
     "output_type": "stream",
     "text": [
      "LV59:  46%|████▌     | 23/50 [05:41<07:13, 16.07s/it] "
     ]
    },
    {
     "name": "stdout",
     "output_type": "stream",
     "text": [
      "SRP047192, SRP060416, SRP057196, SRP050499, SRP058773, SRP042161, SRP055569, SRP043960, SRP066834, SRP007338, SRP014428, SRP011422, SRP024268, SRP029889, SRP042218, SRP033135, SRP019994, SRP036848, SRP008218, SRP018853, SRP055153, SRP009862, SRP053794, SRP064259, SRP051606, SRP015013, SRP059379, SRP009266, SRP029880, SRP057205, SRP010279, SRP007947, SRP042184, SRP056498, SRP028336, SRP011546, SRP014688, SRP034592, SRP038963, SRP012461, SRP064464, SRP061241, SRP022892, SRP002628, SRP056049, SRP002487, SRP050440, SRP032833, SRP029592, SRP007461, SRP027364, SRP059035, SRP063840, SRP006474, SRP059039, "
     ]
    },
    {
     "name": "stderr",
     "output_type": "stream",
     "text": [
      "/home/miltondp/projects/labs/greenelab/phenoplier/libs/data/recount2.py:320: UserWarning: Not all experiments data could be loaded (52 != 55)\n",
      "  warnings.warn(\n"
     ]
    },
    {
     "data": {
      "text/plain": [
       "1    cell type\n",
       "dtype: object"
      ]
     },
     "metadata": {},
     "output_type": "display_data"
    },
    {
     "data": {
      "text/plain": [
       "96    tissue type\n",
       "2          tissue\n",
       "dtype: object"
      ]
     },
     "metadata": {},
     "output_type": "display_data"
    },
    {
     "name": "stderr",
     "output_type": "stream",
     "text": [
      "LV187:  48%|████▊     | 24/50 [06:02<07:31, 17.37s/it]"
     ]
    },
    {
     "name": "stdout",
     "output_type": "stream",
     "text": [
      "SRP009266, SRP055569, SRP045659, SRP066834, SRP007461, SRP057196, SRP043962, SRP010279, SRP060416, SRP050499, SRP003754, SRP042161, SRP057244, SRP052740, SRP002184, SRP009862, SRP058773, SRP019936, SRP047192, SRP017777, SRP033135, SRP025982, SRP026315, SRP059732, SRP059379, SRP007338, SRP014591, SRP009247, SRP006575, SRP036821, SRP031459, SRP042620, SRP044956, SRP028815, SRP019994, SRP012461, SRP013725, SRP063840, SRP030617, SRP059066, SRP059039, SRP027383, SRP033464, SRP056295, SRP014320, SRP033515, SRP064464, SRP014790, SRP057205, SRP035391, SRP030628, SRP028902, SRP023270, SRP018853, SRP012167, SRP004637, "
     ]
    },
    {
     "name": "stderr",
     "output_type": "stream",
     "text": [
      "/home/miltondp/projects/labs/greenelab/phenoplier/libs/data/recount2.py:320: UserWarning: Not all experiments data could be loaded (51 != 56)\n",
      "  warnings.warn(\n"
     ]
    },
    {
     "data": {
      "text/plain": [
       "0    cell type\n",
       "dtype: object"
      ]
     },
     "metadata": {},
     "output_type": "display_data"
    },
    {
     "data": {
      "text/plain": [
       "29    tissue type\n",
       "6          tissue\n",
       "dtype: object"
      ]
     },
     "metadata": {},
     "output_type": "display_data"
    },
    {
     "name": "stderr",
     "output_type": "stream",
     "text": [
      "LV21:  50%|█████     | 25/50 [06:27<08:12, 19.71s/it] "
     ]
    },
    {
     "name": "stdout",
     "output_type": "stream",
     "text": [
      "SRP036821, SRP019994, SRP056733, SRP034953, SRP006575, SRP015670, SRP009251, SRP039361, SRP017575, SRP042031, SRP033276, SRP057196, SRP039338, SRP042161, SRP039591, SRP027383, SRP007359, SRP052740, SRP050146, SRP051368, SRP023262, SRP044668, SRP055513, SRP063838, SRP065445, SRP019936, SRP056696, SRP007338, SRP055569, SRP020470, SRP055153, SRP056840, SRP050000, SRP056295, SRP007461, SRP053101, SRP003726, SRP041538, SRP048801, SRP058237, "
     ]
    },
    {
     "name": "stderr",
     "output_type": "stream",
     "text": [
      "/home/miltondp/projects/labs/greenelab/phenoplier/libs/data/recount2.py:320: UserWarning: Not all experiments data could be loaded (39 != 40)\n",
      "  warnings.warn(\n"
     ]
    },
    {
     "data": {
      "text/plain": [
       "12    cell type\n",
       "dtype: object"
      ]
     },
     "metadata": {},
     "output_type": "display_data"
    },
    {
     "data": {
      "text/plain": [
       "42    tissue type\n",
       "0          tissue\n",
       "dtype: object"
      ]
     },
     "metadata": {},
     "output_type": "display_data"
    },
    {
     "name": "stderr",
     "output_type": "stream",
     "text": [
      "LV136:  52%|█████▏    | 26/50 [06:39<06:57, 17.41s/it]"
     ]
    },
    {
     "name": "stdout",
     "output_type": "stream",
     "text": [
      "SRP063867, SRP042597, SRP047082, SRP038863, SRP049593, SRP055569, SRP018218, SRP039348, SRP067469, SRP056146, SRP053366, SRP048889, SRP058375, SRP049714, SRP041573, SRP021134, SRP042212, SRP033135, SRP042186, SRP051772, SRP049004, SRP041063, SRP043644, SRP064259, SRP063889, SRP049409, SRP043162, SRP047516, SRP032942, SRP033569, SRP045222, SRP017631, SRP037762, SRP049340, SRP019374, SRP032363, SRP063059, SRP039598, SRP050397, SRP043166, SRP044271, SRP057156, SRP004637, SRP007461, SRP033250, SRP051599, SRP019994, SRP027383, SRP034634, SRP047339, "
     ]
    },
    {
     "name": "stderr",
     "output_type": "stream",
     "text": [
      "/home/miltondp/projects/labs/greenelab/phenoplier/libs/data/recount2.py:320: UserWarning: Not all experiments data could be loaded (49 != 50)\n",
      "  warnings.warn(\n"
     ]
    },
    {
     "data": {
      "text/plain": [
       "1    cell type\n",
       "dtype: object"
      ]
     },
     "metadata": {},
     "output_type": "display_data"
    },
    {
     "data": {
      "text/plain": [
       "19    tissue\n",
       "dtype: object"
      ]
     },
     "metadata": {},
     "output_type": "display_data"
    },
    {
     "name": "stderr",
     "output_type": "stream",
     "text": [
      "LV924:  54%|█████▍    | 27/50 [06:47<05:33, 14.51s/it]"
     ]
    },
    {
     "name": "stdout",
     "output_type": "stream",
     "text": [
      "SRP042161, SRP008145, SRP055569, SRP033135, SRP002326, SRP009247, SRP066834, SRP050499, SRP014867, SRP058740, SRP057196, SRP058773, SRP005279, SRP066994, SRP050992, SRP060416, SRP018838, SRP037722, SRP033369, SRP003726, SRP059735, SRP008218, SRP041788, SRP060715, SRP009862, SRP058841, SRP058120, SRP008775, SRP014487, SRP057205, SRP006769, SRP018020, SRP017959, SRP055153, SRP018525, SRP047192, SRP030617, SRP017199, SRP022028, SRP064464, SRP029889, SRP013363, SRP012461, SRP063840, SRP009266, SRP055513, SRP055810, SRP044042, SRP010279, SRP033464, SRP024244, SRP037735, SRP006717, SRP025982, SRP007412, SRP042596, SRP007494, SRP014213, SRP007508, SRP004847, SRP015360, SRP058260, "
     ]
    },
    {
     "name": "stderr",
     "output_type": "stream",
     "text": [
      "/home/miltondp/projects/labs/greenelab/phenoplier/libs/data/recount2.py:320: UserWarning: Not all experiments data could be loaded (60 != 62)\n",
      "  warnings.warn(\n"
     ]
    },
    {
     "data": {
      "text/plain": [
       "1    cell type\n",
       "dtype: object"
      ]
     },
     "metadata": {},
     "output_type": "display_data"
    },
    {
     "data": {
      "text/plain": [
       "13    tissue\n",
       "dtype: object"
      ]
     },
     "metadata": {},
     "output_type": "display_data"
    },
    {
     "name": "stderr",
     "output_type": "stream",
     "text": [
      "LV487:  56%|█████▌    | 28/50 [07:09<06:09, 16.79s/it]"
     ]
    },
    {
     "name": "stdout",
     "output_type": "stream",
     "text": [
      "SRP055569, SRP008218, SRP057196, SRP057248, SRP042218, SRP058773, SRP042161, SRP064967, SRP057244, SRP010670, SRP013456, SRP007947, SRP014542, SRP066834, SRP050499, SRP060416, SRP017777, SRP064464, SRP007359, SRP049238, SRP059379, SRP015449, SRP063840, SRP033135, SRP003227, SRP009862, SRP058647, SRP045611, SRP049500, SRP036821, SRP019994, SRP064259, SRP007338, SRP016626, SRP055153, SRP010279, SRP015853, SRP006769, SRP042616, SRP024268, SRP009266, SRP011546, SRP051595, SRP009247, SRP026052, SRP025982, SRP047192, SRP012461, SRP018717, SRP026315, SRP038767, SRP061241, SRP041846, SRP007596, SRP041751, SRP049981, SRP028902, "
     ]
    },
    {
     "name": "stderr",
     "output_type": "stream",
     "text": [
      "/home/miltondp/projects/labs/greenelab/phenoplier/libs/data/recount2.py:320: UserWarning: Not all experiments data could be loaded (55 != 57)\n",
      "  warnings.warn(\n"
     ]
    },
    {
     "data": {
      "text/plain": [
       "0    cell type\n",
       "dtype: object"
      ]
     },
     "metadata": {},
     "output_type": "display_data"
    },
    {
     "data": {
      "text/plain": [
       "2    tissue\n",
       "dtype: object"
      ]
     },
     "metadata": {},
     "output_type": "display_data"
    },
    {
     "name": "stderr",
     "output_type": "stream",
     "text": [
      "LV670:  58%|█████▊    | 29/50 [07:29<06:14, 17.85s/it]"
     ]
    },
    {
     "name": "stdout",
     "output_type": "stream",
     "text": [
      "SRP012167, SRP055569, SRP060416, SRP003901, SRP028336, SRP064464, SRP024268, SRP010483, SRP057196, SRP058773, SRP066834, SRP057248, SRP042161, SRP035268, SRP060355, SRP059732, SRP052056, SRP039552, SRP055810, SRP027530, SRP029262, SRP041751, SRP027364, SRP059509, SRP018853, SRP056330, SRP064735, SRP058722, SRP042620, SRP058667, SRP032812, SRP006575, SRP041094, SRP041826, SRP055512, SRP035387, SRP032789, SRP002487, SRP009862, SRP045276, SRP019936, SRP058237, SRP042184, SRP066356, SRP033135, SRP055153, SRP004837, SRP002326, SRP048222, SRP043434, SRP002628, SRP007412, SRP009266, SRP035477, SRP033401, SRP045352, SRP067701, SRP055513, SRP057244, SRP050499, SRP040243, SRP063834, SRP004847, SRP050534, SRP059950, SRP014856, SRP026042, SRP050087, SRP049713, "
     ]
    },
    {
     "name": "stderr",
     "output_type": "stream",
     "text": [
      "/home/miltondp/projects/labs/greenelab/phenoplier/libs/data/recount2.py:320: UserWarning: Not all experiments data could be loaded (67 != 69)\n",
      "  warnings.warn(\n"
     ]
    },
    {
     "data": {
      "text/plain": [
       "4    cell type\n",
       "dtype: object"
      ]
     },
     "metadata": {},
     "output_type": "display_data"
    },
    {
     "data": {
      "text/plain": [
       "55    tissue type\n",
       "1          tissue\n",
       "dtype: object"
      ]
     },
     "metadata": {},
     "output_type": "display_data"
    },
    {
     "name": "stderr",
     "output_type": "stream",
     "text": [
      "LV442:  60%|██████    | 30/50 [07:44<05:36, 16.80s/it]"
     ]
    },
    {
     "name": "stdout",
     "output_type": "stream",
     "text": [
      "SRP057205, SRP015976, SRP057196, SRP033135, SRP066834, SRP055569, SRP018853, SRP060416, SRP055153, SRP042161, SRP005279, SRP011895, SRP038963, SRP013363, SRP050499, SRP022260, SRP022892, SRP064464, SRP048759, SRP007498, SRP056295, SRP007947, SRP041100, SRP014133, SRP061639, SRP033466, SRP026052, SRP058856, SRP058667, SRP059035, SRP058773, SRP021917, SRP055474, SRP003901, SRP059379, SRP063980, SRP011422, SRP055438, SRP022259, SRP029656, SRP032833, SRP031507, SRP064259, SRP019939, SRP047082, "
     ]
    },
    {
     "data": {
      "text/plain": [
       "5    cell type\n",
       "dtype: object"
      ]
     },
     "metadata": {},
     "output_type": "display_data"
    },
    {
     "data": {
      "text/plain": [
       "61    tissue type\n",
       "8          tissue\n",
       "dtype: object"
      ]
     },
     "metadata": {},
     "output_type": "display_data"
    },
    {
     "name": "stderr",
     "output_type": "stream",
     "text": [
      "LV885:  62%|██████▏   | 31/50 [07:58<05:04, 16.03s/it]"
     ]
    },
    {
     "name": "stdout",
     "output_type": "stream",
     "text": [
      "SRP058667, SRP060355, SRP007338, SRP024268, SRP036848, SRP035387, SRP045276, SRP019807, SRP007508, SRP029889, SRP028336, SRP058626, SRP015640, SRP057248, SRP064464, SRP057196, SRP049097, SRP063840, SRP009123, SRP055569, SRP050551, SRP050499, SRP014635, SRP059950, SRP064259, SRP009862, SRP042161, SRP064454, SRP066834, SRP049333, SRP052950, SRP060416, SRP044917, SRP051249, SRP007498, SRP003901, SRP051485, SRP030401, SRP007881, SRP029603, SRP040998, SRP011578, SRP019810, SRP050003, SRP009247, SRP026620, SRP033135, SRP051472, SRP066956, SRP029262, SRP051705, SRP061701, SRP012167, SRP057244, SRP026454, SRP040442, SRP041377, SRP051822, SRP059035, SRP055438, SRP016583, SRP006575, SRP057586, SRP014027, SRP042620, SRP015668, SRP010279, SRP014213, SRP056696, SRP027364, SRP037982, SRP001997, SRP051825, SRP057205, SRP007412, SRP052057, SRP058722, SRP018853, SRP016140, SRP059775, "
     ]
    },
    {
     "name": "stderr",
     "output_type": "stream",
     "text": [
      "/home/miltondp/projects/labs/greenelab/phenoplier/libs/data/recount2.py:320: UserWarning: Not all experiments data could be loaded (78 != 80)\n",
      "  warnings.warn(\n"
     ]
    },
    {
     "data": {
      "text/plain": [
       "24    cell type\n",
       "dtype: object"
      ]
     },
     "metadata": {},
     "output_type": "display_data"
    },
    {
     "data": {
      "text/plain": [
       "0    tissue type\n",
       "3         tissue\n",
       "dtype: object"
      ]
     },
     "metadata": {},
     "output_type": "display_data"
    },
    {
     "name": "stderr",
     "output_type": "stream",
     "text": [
      "LV66:  64%|██████▍   | 32/50 [08:14<04:48, 16.04s/it] "
     ]
    },
    {
     "name": "stdout",
     "output_type": "stream",
     "text": [
      "SRP048674, SRP029207, SRP021912, SRP051249, SRP040292, SRP055513, SRP055569, SRP057196, SRP050499, SRP017959, SRP029334, SRP045364, SRP043434, SRP049981, SRP042161, SRP008218, SRP020646, SRP011895, SRP012461, SRP021193, SRP012656, SRP026052, SRP050954, SRP037982, SRP049946, SRP027383, SRP022259, SRP049409, SRP056696, SRP018933, SRP002915, SRP033135, SRP009123, SRP058804, SRP043221, SRP066834, SRP050193, SRP048759, SRP047192, SRP050551, SRP008145, SRP060416, SRP044610, SRP050992, SRP004637, SRP044668, SRP057205, SRP058773, SRP042218, SRP016059, SRP058740, SRP040300, SRP020493, SRP039694, SRP040998, SRP058375, SRP056146, SRP010054, SRP039591, SRP019994, SRP014790, SRP014213, SRP007338, SRP029262, SRP014809, SRP018403, SRP041538, SRP063834, SRP034592, SRP018838, SRP007494, SRP050374, SRP002326, SRP007481, SRP030617, SRP026620, SRP052879, SRP015013, SRP033351, SRP058626, SRP061566, SRP039338, SRP017435, SRP044042, SRP015853, SRP007461, SRP007498, SRP003726, SRP066371, "
     ]
    },
    {
     "name": "stderr",
     "output_type": "stream",
     "text": [
      "/home/miltondp/projects/labs/greenelab/phenoplier/libs/data/recount2.py:320: UserWarning: Not all experiments data could be loaded (86 != 89)\n",
      "  warnings.warn(\n"
     ]
    },
    {
     "data": {
      "text/plain": [
       "1    cell type\n",
       "dtype: object"
      ]
     },
     "metadata": {},
     "output_type": "display_data"
    },
    {
     "data": {
      "text/plain": [
       "38    tissue type\n",
       "2          tissue\n",
       "dtype: object"
      ]
     },
     "metadata": {},
     "output_type": "display_data"
    },
    {
     "name": "stderr",
     "output_type": "stream",
     "text": [
      "LV227:  66%|██████▌   | 33/50 [08:32<04:45, 16.79s/it]"
     ]
    },
    {
     "name": "stdout",
     "output_type": "stream",
     "text": [
      "SRP055569, SRP042161, SRP057196, SRP007338, SRP066834, SRP060416, SRP023262, SRP024268, SRP036053, SRP019994, SRP033135, SRP036821, SRP006575, SRP033276, SRP017575, SRP063059, SRP011578, SRP029592, SRP059775, SRP003754, SRP058773, SRP026537, SRP049479, SRP012461, SRP059379, SRP064464, SRP031507, SRP055513, SRP055153, SRP042620, SRP065219, SRP045632, SRP000599, SRP059957, SRP047192, SRP029334, SRP068942, SRP007359, SRP041263, SRP062617, SRP008496, SRP050499, SRP044056, SRP060355, SRP030628, SRP057205, SRP010350, SRP007461, SRP015370, SRP016790, SRP038963, SRP066371, "
     ]
    },
    {
     "name": "stderr",
     "output_type": "stream",
     "text": [
      "/home/miltondp/projects/labs/greenelab/phenoplier/libs/data/recount2.py:320: UserWarning: Not all experiments data could be loaded (48 != 52)\n",
      "  warnings.warn(\n"
     ]
    },
    {
     "data": {
      "text/plain": [
       "0    cell type\n",
       "dtype: object"
      ]
     },
     "metadata": {},
     "output_type": "display_data"
    },
    {
     "data": {
      "text/plain": [
       "4    tissue\n",
       "dtype: object"
      ]
     },
     "metadata": {},
     "output_type": "display_data"
    },
    {
     "name": "stderr",
     "output_type": "stream",
     "text": [
      "LV855:  68%|██████▊   | 34/50 [08:47<04:18, 16.18s/it]"
     ]
    },
    {
     "name": "stdout",
     "output_type": "stream",
     "text": [
      "SRP057196, SRP055569, SRP058773, SRP060416, SRP063840, SRP042161, SRP066834, SRP050499, SRP030617, SRP055153, SRP033135, SRP015449, SRP023270, SRP019994, SRP059379, SRP059170, SRP047082, SRP055513, SRP006474, SRP059775, SRP064464, SRP059035, "
     ]
    },
    {
     "data": {
      "text/plain": [
       "1    cell type\n",
       "dtype: object"
      ]
     },
     "metadata": {},
     "output_type": "display_data"
    },
    {
     "data": {
      "text/plain": [
       "0    tissue\n",
       "dtype: object"
      ]
     },
     "metadata": {},
     "output_type": "display_data"
    },
    {
     "name": "stderr",
     "output_type": "stream",
     "text": [
      "LV753:  70%|███████   | 35/50 [08:59<03:44, 15.00s/it]"
     ]
    },
    {
     "name": "stdout",
     "output_type": "stream",
     "text": [
      "SRP042161, SRP009247, SRP036848, SRP056696, SRP059066, SRP033135, SRP057196, SRP060416, SRP018853, SRP050003, SRP066834, SRP043593, SRP019994, SRP036821, SRP007461, SRP060359, SRP050499, SRP055569, SRP028902, SRP042620, SRP002184, SRP050992, SRP009266, SRP044286, SRP051249, SRP037982, SRP040998, SRP033131, SRP014790, SRP055810, SRP051102, SRP024674, SRP006575, SRP058773, SRP007596, SRP010054, SRP059775, SRP045391, SRP007508, SRP012461, SRP025982, SRP064464, SRP020561, SRP055513, SRP063840, SRP034712, SRP007412, SRP041990, SRP040117, SRP022892, SRP022054, SRP024669, SRP048759, SRP012099, SRP006574, SRP034953, SRP034528, SRP057205, SRP062873, SRP026537, SRP049820, "
     ]
    },
    {
     "name": "stderr",
     "output_type": "stream",
     "text": [
      "/home/miltondp/projects/labs/greenelab/phenoplier/libs/data/recount2.py:320: UserWarning: Not all experiments data could be loaded (58 != 61)\n",
      "  warnings.warn(\n"
     ]
    },
    {
     "data": {
      "text/plain": [
       "1    cell type\n",
       "dtype: object"
      ]
     },
     "metadata": {},
     "output_type": "display_data"
    },
    {
     "data": {
      "text/plain": [
       "9    tissue\n",
       "dtype: object"
      ]
     },
     "metadata": {},
     "output_type": "display_data"
    },
    {
     "name": "stderr",
     "output_type": "stream",
     "text": [
      "LV542:  72%|███████▏  | 36/50 [09:25<04:15, 18.27s/it]"
     ]
    },
    {
     "name": "stdout",
     "output_type": "stream",
     "text": [
      "SRP036821, SRP006575, SRP019994, SRP017575, SRP005279, SRP033276, SRP012546, SRP060416, SRP048761, SRP002881, SRP050499, SRP009266, SRP018853, SRP055153, SRP010483, SRP035268, SRP042620, SRP064967, SRP015976, SRP009247, SRP002326, SRP055569, SRP034528, SRP042161, SRP025982, SRP047194, SRP036053, SRP002184, SRP036769, SRP014688, SRP007338, SRP042043, SRP007596, SRP064464, SRP035417, SRP050215, SRP007947, SRP047299, SRP048536, SRP020493, SRP033248, SRP008218, SRP023111, SRP018718, SRP028902, SRP009094, SRP059509, SRP033119, SRP000599, SRP014867, SRP017777, SRP014790, SRP002079, SRP023270, SRP004042, SRP047192, SRP023262, SRP032539, SRP063980, SRP011422, SRP048889, SRP063496, SRP032754, SRP061241, SRP049063, SRP041751, SRP066956, SRP033646, SRP034953, SRP012099, SRP058571, SRP028887, SRP055513, SRP018815, SRP041694, SRP022054, SRP007412, SRP049068, SRP018716, SRP062287, SRP050365, SRP014133, SRP049820, SRP027383, SRP062873, SRP068523, SRP042184, SRP030628, SRP026537, SRP022920, SRP043960, SRP055440, SRP045308, SRP066834, SRP011895, SRP033250, SRP058120, SRP009862, SRP057804, SRP029207, SRP059066, SRP011974, SRP029281, SRP057196, SRP067701, SRP043085, "
     ]
    },
    {
     "name": "stderr",
     "output_type": "stream",
     "text": [
      "/home/miltondp/projects/labs/greenelab/phenoplier/libs/data/recount2.py:320: UserWarning: Not all experiments data could be loaded (104 != 106)\n",
      "  warnings.warn(\n"
     ]
    },
    {
     "data": {
      "text/plain": [
       "5    cell type\n",
       "dtype: object"
      ]
     },
     "metadata": {},
     "output_type": "display_data"
    },
    {
     "data": {
      "text/plain": [
       "0    tissue\n",
       "dtype: object"
      ]
     },
     "metadata": {},
     "output_type": "display_data"
    },
    {
     "name": "stderr",
     "output_type": "stream",
     "text": [
      "LV972:  74%|███████▍  | 37/50 [09:47<04:11, 19.35s/it]"
     ]
    },
    {
     "name": "stdout",
     "output_type": "stream",
     "text": [
      "SRP015013, SRP055569, SRP066834, SRP060416, SRP033135, SRP042161, SRP006474, SRP057196, SRP007461, SRP015976, SRP009247, SRP007947, SRP009266, SRP031507, SRP059379, SRP050499, SRP001758, SRP057205, SRP045154, SRP065219, SRP006575, SRP036821, SRP039338, SRP033116, SRP002487, SRP018317, SRP010279, SRP045659, SRP033119, SRP052991, SRP023262, SRP058667, SRP003726, SRP058120, SRP002184, SRP025982, SRP019994, SRP028291, SRP058773, SRP050992, SRP055749, SRP042086, SRP048761, SRP013363, SRP059035, SRP021478, SRP029899, SRP008145, SRP014213, SRP062873, SRP034712, SRP011546, SRP018838, SRP048536, SRP008218, SRP042620, SRP053101, SRP055512, SRP064464, "
     ]
    },
    {
     "name": "stderr",
     "output_type": "stream",
     "text": [
      "/home/miltondp/projects/labs/greenelab/phenoplier/libs/data/recount2.py:320: UserWarning: Not all experiments data could be loaded (57 != 59)\n",
      "  warnings.warn(\n"
     ]
    },
    {
     "data": {
      "text/plain": [
       "2    cell type\n",
       "dtype: object"
      ]
     },
     "metadata": {},
     "output_type": "display_data"
    },
    {
     "data": {
      "text/plain": [
       "63    tissue type\n",
       "4          tissue\n",
       "dtype: object"
      ]
     },
     "metadata": {},
     "output_type": "display_data"
    },
    {
     "name": "stderr",
     "output_type": "stream",
     "text": [
      "LV893:  76%|███████▌  | 38/50 [10:10<04:03, 20.26s/it]"
     ]
    },
    {
     "name": "stdout",
     "output_type": "stream",
     "text": [
      "SRP007461, SRP017411, SRP009266, SRP046271, SRP009862, SRP067214, SRP002789, SRP003672, SRP043593, SRP015711, SRP043962, SRP057065, SRP015955, SRP012096, SRP061455, SRP017294, SRP045222, SRP044298, SRP013773, SRP062389, SRP045663, SRP044679, SRP053195, SRP017305, SRP066424, SRP019270, SRP049611, SRP019946, SRP014844, SRP021214, SRP007498, SRP055048, SRP026315, SRP028815, SRP005342, SRP019989, SRP058479, SRP057196, SRP026084, SRP001758, SRP050943, SRP030639, SRP023199, SRP014925, SRP002605, SRP026052, SRP014857, SRP012098, SRP051170, SRP014190, SRP057804, SRP012099, SRP033131, SRP017577, SRP051644, SRP014320, SRP064143, SRP028325, SRP026044, SRP021918, SRP047097, SRP034158, SRP050138, "
     ]
    },
    {
     "name": "stderr",
     "output_type": "stream",
     "text": [
      "/home/miltondp/projects/labs/greenelab/phenoplier/libs/data/recount2.py:320: UserWarning: Not all experiments data could be loaded (59 != 63)\n",
      "  warnings.warn(\n"
     ]
    },
    {
     "data": {
      "text/plain": [
       "0    cell type\n",
       "dtype: object"
      ]
     },
     "metadata": {},
     "output_type": "display_data"
    },
    {
     "data": {
      "text/plain": [
       "41    tissue\n",
       "dtype: object"
      ]
     },
     "metadata": {},
     "output_type": "display_data"
    },
    {
     "name": "stderr",
     "output_type": "stream",
     "text": [
      "LV58:  78%|███████▊  | 39/50 [10:14<02:49, 15.39s/it] "
     ]
    },
    {
     "name": "stdout",
     "output_type": "stream",
     "text": [
      "SRP045500, SRP051688, SRP048971, SRP059172, SRP040328, SRP059039, SRP005279, SRP060416, SRP020492, SRP015439, SRP041988, SRP051675, SRP043080, SRP062966, SRP051736, SRP051848, SRP022133, SRP008976, SRP039591, SRP034732, SRP041620, SRP045569, SRP042596, SRP032775, SRP063363, SRP056840, SRP056159, SRP032279, SRP056784, SRP042161, SRP014856, SRP050000, "
     ]
    },
    {
     "name": "stderr",
     "output_type": "stream",
     "text": [
      "/home/miltondp/projects/labs/greenelab/phenoplier/libs/data/recount2.py:320: UserWarning: Not all experiments data could be loaded (31 != 32)\n",
      "  warnings.warn(\n"
     ]
    },
    {
     "data": {
      "text/plain": [
       "2      celltype\n",
       "16    cell type\n",
       "dtype: object"
      ]
     },
     "metadata": {},
     "output_type": "display_data"
    },
    {
     "data": {
      "text/plain": [
       "26    tissue\n",
       "dtype: object"
      ]
     },
     "metadata": {},
     "output_type": "display_data"
    },
    {
     "name": "stderr",
     "output_type": "stream",
     "text": [
      "LV261:  80%|████████  | 40/50 [10:24<02:18, 13.85s/it]"
     ]
    },
    {
     "name": "stdout",
     "output_type": "stream",
     "text": [
      "SRP055569, SRP007508, SRP057196, SRP060416, SRP012461, SRP033135, SRP009266, SRP066834, SRP042161, SRP015449, SRP050499, SRP055153, SRP064464, SRP049465, SRP055438, SRP019936, SRP064259, SRP029880, SRP042218, SRP021917, SRP022260, SRP058822, SRP063496, SRP051249, SRP050992, SRP029889, SRP029334, SRP029434, SRP059035, SRP043108, SRP052615, SRP036848, SRP034543, SRP018838, SRP042228, SRP026620, SRP063840, SRP055513, SRP058667, SRP061241, SRP057629, SRP002326, SRP015013, SRP007946, SRP007338, SRP051765, SRP046376, SRP062177, SRP058773, SRP010279, SRP009862, "
     ]
    },
    {
     "name": "stderr",
     "output_type": "stream",
     "text": [
      "/home/miltondp/projects/labs/greenelab/phenoplier/libs/data/recount2.py:320: UserWarning: Not all experiments data could be loaded (47 != 51)\n",
      "  warnings.warn(\n"
     ]
    },
    {
     "data": {
      "text/plain": [
       "0    cell type\n",
       "dtype: object"
      ]
     },
     "metadata": {},
     "output_type": "display_data"
    },
    {
     "data": {
      "text/plain": [
       "35    tissue type\n",
       "2          tissue\n",
       "dtype: object"
      ]
     },
     "metadata": {},
     "output_type": "display_data"
    },
    {
     "name": "stderr",
     "output_type": "stream",
     "text": [
      "LV256:  82%|████████▏ | 41/50 [10:43<02:17, 15.28s/it]"
     ]
    },
    {
     "name": "stdout",
     "output_type": "stream",
     "text": [
      "SRP055569, SRP033135, SRP042161, SRP042218, SRP060416, SRP055810, SRP055153, SRP012461, SRP057196, SRP066834, SRP023111, SRP057205, SRP018242, SRP011578, SRP047192, SRP050499, SRP013450, SRP059379, SRP030617, SRP018838, SRP059775, SRP018853, SRP031507, SRP014739, SRP066729, SRP059035, SRP058841, SRP058773, "
     ]
    },
    {
     "data": {
      "text/plain": [
       "0    cell type\n",
       "dtype: object"
      ]
     },
     "metadata": {},
     "output_type": "display_data"
    },
    {
     "data": {
      "text/plain": [
       "10    tissue\n",
       "dtype: object"
      ]
     },
     "metadata": {},
     "output_type": "display_data"
    },
    {
     "name": "stderr",
     "output_type": "stream",
     "text": [
      "LV342:  84%|████████▍ | 42/50 [10:57<01:59, 14.99s/it]"
     ]
    },
    {
     "name": "stdout",
     "output_type": "stream",
     "text": [
      "SRP055569, SRP042161, SRP060416, SRP045659, SRP012546, SRP042218, SRP057196, SRP005279, SRP057852, SRP029334, SRP024244, SRP066834, SRP058773, SRP050499, SRP059379, SRP009862, SRP009266, SRP041826, SRP033135, SRP055810, SRP023111, SRP063840, SRP024268, SRP032775, SRP057205, SRP015013, SRP025982, SRP060715, SRP007947, SRP018838, SRP011546, SRP018716, SRP002326, SRP042620, SRP062177, SRP044668, SRP006575, SRP047192, SRP012056, SRP004847, SRP029656, SRP019936, SRP049068, SRP029889, SRP045352, SRP055153, SRP027383, "
     ]
    },
    {
     "name": "stderr",
     "output_type": "stream",
     "text": [
      "/home/miltondp/projects/labs/greenelab/phenoplier/libs/data/recount2.py:320: UserWarning: Not all experiments data could be loaded (44 != 47)\n",
      "  warnings.warn(\n"
     ]
    },
    {
     "data": {
      "text/plain": [
       "0    cell type\n",
       "dtype: object"
      ]
     },
     "metadata": {},
     "output_type": "display_data"
    },
    {
     "data": {
      "text/plain": [
       "68    tissue type\n",
       "10         tissue\n",
       "dtype: object"
      ]
     },
     "metadata": {},
     "output_type": "display_data"
    },
    {
     "name": "stderr",
     "output_type": "stream",
     "text": [
      "LV575:  86%|████████▌ | 43/50 [11:22<02:07, 18.15s/it]"
     ]
    },
    {
     "name": "stdout",
     "output_type": "stream",
     "text": [
      "SRP055569, SRP042161, SRP066834, SRP041846, SRP050499, SRP057196, SRP036821, SRP006575, SRP027383, SRP060416, SRP059950, SRP055513, SRP019994, SRP007359, SRP049061, SRP064464, SRP058773, SRP017575, SRP031507, SRP056696, SRP033466, SRP059379, SRP033135, SRP057205, SRP014739, SRP017972, SRP055153, SRP018838, SRP063840, SRP037982, SRP004847, SRP014620, SRP008145, SRP033276, SRP014428, SRP042184, SRP009266, SRP009862, SRP042218, SRP002079, SRP004637, SRP045869, SRP034626, "
     ]
    },
    {
     "name": "stderr",
     "output_type": "stream",
     "text": [
      "/home/miltondp/projects/labs/greenelab/phenoplier/libs/data/recount2.py:320: UserWarning: Not all experiments data could be loaded (41 != 43)\n",
      "  warnings.warn(\n"
     ]
    },
    {
     "data": {
      "text/plain": [
       "0    cell type\n",
       "dtype: object"
      ]
     },
     "metadata": {},
     "output_type": "display_data"
    },
    {
     "data": {
      "text/plain": [
       "5    tissue\n",
       "dtype: object"
      ]
     },
     "metadata": {},
     "output_type": "display_data"
    },
    {
     "name": "stderr",
     "output_type": "stream",
     "text": [
      "LV273:  88%|████████▊ | 44/50 [11:37<01:41, 17.00s/it]"
     ]
    },
    {
     "name": "stdout",
     "output_type": "stream",
     "text": [
      "SRP055569, SRP042161, SRP033135, SRP066834, SRP060416, SRP057196, SRP050499, SRP022892, SRP058773, SRP063840, SRP055153, SRP011054, SRP024268, SRP059379, SRP009862, SRP012461, SRP007947, SRP064259, SRP041846, SRP018317, SRP043960, SRP059170, SRP015013, SRP029656, SRP009247, SRP064464, SRP033466, SRP018020, SRP018853, SRP034543, SRP025982, SRP017411, SRP018525, SRP014867, SRP062177, SRP055810, "
     ]
    },
    {
     "name": "stderr",
     "output_type": "stream",
     "text": [
      "/home/miltondp/projects/labs/greenelab/phenoplier/libs/data/recount2.py:320: UserWarning: Not all experiments data could be loaded (35 != 36)\n",
      "  warnings.warn(\n"
     ]
    },
    {
     "data": {
      "text/plain": [
       "0    cell type\n",
       "dtype: object"
      ]
     },
     "metadata": {},
     "output_type": "display_data"
    },
    {
     "data": {
      "text/plain": [
       "10    tissue\n",
       "dtype: object"
      ]
     },
     "metadata": {},
     "output_type": "display_data"
    },
    {
     "name": "stderr",
     "output_type": "stream",
     "text": [
      "LV876:  90%|█████████ | 45/50 [12:00<01:34, 18.91s/it]"
     ]
    },
    {
     "name": "stdout",
     "output_type": "stream",
     "text": [
      "SRP014867, SRP012056, SRP033119, SRP006474, SRP033369, SRP050215, SRP006475, SRP041130, SRP019250, SRP013463, SRP028887, SRP063339, SRP038921, SRP048536, SRP055569, SRP036821, SRP013456, SRP058191, SRP057196, SRP013363, SRP059242, SRP022591, SRP026315, SRP050055, SRP045481, SRP009266, SRP044673, SRP060416, SRP041788, SRP014591, SRP015013, SRP058120, SRP058300, SRP055513, SRP009568, SRP068194, SRP002915, SRP018525, SRP059948, SRP014190, SRP019994, SRP042161, SRP033131, SRP018719, SRP004637, SRP056036, SRP059775, SRP060637, SRP007359, SRP029515, SRP045983, SRP066834, SRP001349, SRP064457, SRP018716, SRP055770, SRP053402, SRP051331, SRP028301, SRP067214, SRP010430, SRP003726, SRP055153, SRP029207, SRP045065, SRP055105, SRP018717, SRP047192, SRP006575, SRP056742, SRP003227, SRP038695, SRP029365, SRP000599, SRP062177, SRP010280, "
     ]
    },
    {
     "name": "stderr",
     "output_type": "stream",
     "text": [
      "/home/miltondp/projects/labs/greenelab/phenoplier/libs/data/recount2.py:320: UserWarning: Not all experiments data could be loaded (75 != 76)\n",
      "  warnings.warn(\n"
     ]
    },
    {
     "data": {
      "text/plain": [
       "14    cell type\n",
       "dtype: object"
      ]
     },
     "metadata": {},
     "output_type": "display_data"
    },
    {
     "data": {
      "text/plain": [
       "24    tissue\n",
       "dtype: object"
      ]
     },
     "metadata": {},
     "output_type": "display_data"
    },
    {
     "name": "stderr",
     "output_type": "stream",
     "text": [
      "LV732:  92%|█████████▏| 46/50 [12:13<01:08, 17.13s/it]"
     ]
    },
    {
     "name": "stdout",
     "output_type": "stream",
     "text": [
      "SRP055569, SRP060416, SRP042161, SRP066729, SRP057196, SRP064464, SRP057205, SRP040998, SRP066834, SRP005279, SRP050499, SRP014790, SRP033135, SRP058773, SRP011546, SRP063661, SRP027383, SRP037722, SRP033119, SRP059379, SRP006474, SRP056696, SRP014591, SRP018719, SRP055153, SRP064317, SRP011903, SRP041130, SRP029889, SRP018525, SRP027015, SRP026537, SRP011974, SRP023111, SRP043960, SRP037719, SRP028887, SRP047519, SRP059170, SRP044668, SRP019758, SRP063840, SRP006575, SRP007461, SRP024268, "
     ]
    },
    {
     "name": "stderr",
     "output_type": "stream",
     "text": [
      "/home/miltondp/projects/labs/greenelab/phenoplier/libs/data/recount2.py:320: UserWarning: Not all experiments data could be loaded (43 != 45)\n",
      "  warnings.warn(\n"
     ]
    },
    {
     "data": {
      "text/plain": [
       "0    cell type\n",
       "dtype: object"
      ]
     },
     "metadata": {},
     "output_type": "display_data"
    },
    {
     "data": {
      "text/plain": [
       "72    tissue type\n",
       "6          tissue\n",
       "dtype: object"
      ]
     },
     "metadata": {},
     "output_type": "display_data"
    },
    {
     "name": "stderr",
     "output_type": "stream",
     "text": [
      "LV236:  94%|█████████▍| 47/50 [12:27<00:48, 16.12s/it]"
     ]
    },
    {
     "name": "stdout",
     "output_type": "stream",
     "text": [
      "SRP055569, SRP064464, SRP060416, SRP066834, SRP057196, SRP050499, SRP033135, SRP042161, SRP007596, SRP004847, SRP059035, SRP003901, SRP047082, SRP055513, SRP030617, SRP012461, SRP009266, SRP055153, SRP006769, SRP002915, SRP058773, SRP041718, SRP003726, SRP057205, SRP027383, SRP006474, SRP024268, SRP015853, SRP042597, SRP063867, SRP034712, "
     ]
    },
    {
     "name": "stderr",
     "output_type": "stream",
     "text": [
      "/home/miltondp/projects/labs/greenelab/phenoplier/libs/data/recount2.py:320: UserWarning: Not all experiments data could be loaded (30 != 31)\n",
      "  warnings.warn(\n"
     ]
    },
    {
     "data": {
      "text/plain": [
       "0    cell type\n",
       "dtype: object"
      ]
     },
     "metadata": {},
     "output_type": "display_data"
    },
    {
     "data": {
      "text/plain": [
       "9    tissue\n",
       "dtype: object"
      ]
     },
     "metadata": {},
     "output_type": "display_data"
    },
    {
     "name": "stderr",
     "output_type": "stream",
     "text": [
      "LV77:  96%|█████████▌| 48/50 [12:41<00:31, 15.50s/it] "
     ]
    },
    {
     "name": "stdout",
     "output_type": "stream",
     "text": [
      "SRP024268, SRP007947, SRP003901, SRP015449, SRP064464, SRP055569, SRP057196, SRP060416, SRP014428, SRP015013, SRP057205, SRP063840, SRP046749, SRP042161, SRP005279, SRP009247, SRP057248, SRP066834, SRP007498, SRP006717, SRP009266, SRP012461, SRP028336, SRP055153, SRP033135, SRP050499, SRP055513, SRP059775, SRP063496, SRP041751, SRP009862, SRP003726, SRP034712, SRP008218, SRP006900, SRP056840, SRP050000, SRP037719, SRP014867, SRP026537, SRP025982, SRP017933, SRP030617, SRP032279, SRP056036, SRP017777, SRP055810, SRP004847, SRP040998, SRP042620, SRP058773, SRP012056, SRP018719, SRP001558, SRP059379, SRP058841, SRP059732, SRP002915, SRP044608, SRP050992, SRP060370, SRP028301, SRP050003, SRP029656, "
     ]
    },
    {
     "name": "stderr",
     "output_type": "stream",
     "text": [
      "/home/miltondp/projects/labs/greenelab/phenoplier/libs/data/recount2.py:320: UserWarning: Not all experiments data could be loaded (61 != 64)\n",
      "  warnings.warn(\n"
     ]
    },
    {
     "data": {
      "text/plain": [
       "4    cell type\n",
       "dtype: object"
      ]
     },
     "metadata": {},
     "output_type": "display_data"
    },
    {
     "data": {
      "text/plain": [
       "73    tissue type\n",
       "0          tissue\n",
       "dtype: object"
      ]
     },
     "metadata": {},
     "output_type": "display_data"
    },
    {
     "name": "stderr",
     "output_type": "stream",
     "text": [
      "LV334:  98%|█████████▊| 49/50 [13:06<00:18, 18.55s/it]"
     ]
    },
    {
     "name": "stdout",
     "output_type": "stream",
     "text": [
      "SRP055153, SRP013402, SRP045222, SRP051599, SRP050534, SRP057205, SRP015678, SRP066917, SRP041508, SRP050179, SRP020544, SRP068139, SRP041718, SRP064458, SRP019374, SRP037719, SRP009862, SRP027514, SRP045441, SRP044766, SRP017378, SRP040243, SRP039348, SRP063059, SRP007461, SRP054971, SRP026690, SRP039359, SRP053190, SRP033569, SRP047082, SRP044271, SRP020556, SRP049507, SRP050468, SRP041063, SRP049090, SRP031776, SRP057251, SRP047407, SRP029592, SRP007494, SRP032165, SRP052998, SRP059531, SRP062010, SRP064259, SRP050397, SRP018218, SRP052706, SRP039397, SRP067529, SRP049340, "
     ]
    },
    {
     "name": "stderr",
     "output_type": "stream",
     "text": [
      "/home/miltondp/projects/labs/greenelab/phenoplier/libs/data/recount2.py:320: UserWarning: Not all experiments data could be loaded (51 != 53)\n",
      "  warnings.warn(\n"
     ]
    },
    {
     "data": {
      "text/plain": [
       "1    cell type\n",
       "dtype: object"
      ]
     },
     "metadata": {},
     "output_type": "display_data"
    },
    {
     "data": {
      "text/plain": [
       "9    tissue\n",
       "dtype: object"
      ]
     },
     "metadata": {},
     "output_type": "display_data"
    },
    {
     "name": "stderr",
     "output_type": "stream",
     "text": [
      "LV334: 100%|██████████| 50/50 [13:10<00:00, 15.82s/it]\n"
     ]
    }
   ],
   "source": [
    "cell_type_dfs = []\n",
    "tissue_dfs = []\n",
    "\n",
    "pbar = tqdm(lvs_list[:50])\n",
    "for lv_name in pbar:\n",
    "    pbar.set_description(lv_name)\n",
    "\n",
    "    #     lv_name = lv_info[\"name\"]\n",
    "    lv_obj = LVAnalysis(lv_name, data)\n",
    "\n",
    "    #     # show lv prior knowledge match (pathways)\n",
    "    #     lv_pathways = multiplier_model_summary[\n",
    "    #         multiplier_model_summary[\"LV index\"].isin((lv_name[2:],))\n",
    "    #         & (\n",
    "    #             (multiplier_model_summary[\"FDR\"] < 0.05)\n",
    "    #             | (multiplier_model_summary[\"AUC\"] >= 0.75)\n",
    "    #         )\n",
    "    #     ]\n",
    "    #     display(lv_pathways)\n",
    "\n",
    "    lv_data = lv_obj.get_experiments_data()\n",
    "\n",
    "    #     display(\"\")\n",
    "    #     display(lv_obj.lv_traits.head(20))\n",
    "    #     display(\"\")\n",
    "    #     display(lv_obj.lv_genes.head(10))\n",
    "\n",
    "    # get cell type attributes\n",
    "    #     lv_attrs = lv_obj.get_attributes_variation_score()\n",
    "    lv_attrs = pd.Series(lv_data.columns.tolist())\n",
    "    lv_attrs = lv_attrs[\n",
    "        lv_attrs.str.match(\n",
    "            \"(?:cell[^\\w]*type$)\",\n",
    "            case=False,\n",
    "            flags=re.IGNORECASE,\n",
    "        ).values\n",
    "    ].sort_values(ascending=False)\n",
    "    display(lv_attrs)\n",
    "\n",
    "    lv_attrs_data = lv_data[lv_attrs.tolist() + [lv_name]]\n",
    "    lv_attrs_data = lv_attrs_data.assign(attr=lv_attrs_data.apply(_my_func, axis=1))\n",
    "    lv_attrs_data = lv_attrs_data.drop(columns=lv_attrs.tolist())\n",
    "    lv_attrs_data = lv_attrs_data.dropna().sort_values(lv_name, ascending=False)\n",
    "    lv_attrs_data = lv_attrs_data.rename(columns={lv_name: \"lv\"})\n",
    "    lv_attrs_data = lv_attrs_data.assign(lv_name=lv_name)\n",
    "    cell_type_dfs.append(lv_attrs_data)\n",
    "\n",
    "    # get tissue attributes\n",
    "    lv_attrs = pd.Series(lv_data.columns.tolist())\n",
    "    lv_attrs = lv_attrs[\n",
    "        lv_attrs.str.match(\n",
    "            \"(?:tissue$)|(?:tissue[^\\w]*type$)\",\n",
    "            case=False,\n",
    "            flags=re.IGNORECASE,\n",
    "        ).values\n",
    "    ].sort_values(ascending=False)\n",
    "    display(lv_attrs)\n",
    "\n",
    "    lv_attrs_data = lv_data[lv_attrs.tolist() + [lv_name]]\n",
    "    lv_attrs_data = lv_attrs_data.assign(attr=lv_attrs_data.apply(_my_func, axis=1))\n",
    "    lv_attrs_data = lv_attrs_data.drop(columns=lv_attrs.tolist())\n",
    "    lv_attrs_data = lv_attrs_data.dropna().sort_values(lv_name, ascending=False)\n",
    "    lv_attrs_data = lv_attrs_data.rename(columns={lv_name: \"lv\"})\n",
    "    lv_attrs_data = lv_attrs_data.assign(lv_name=lv_name)\n",
    "    tissue_dfs.append(lv_attrs_data)"
   ]
  },
  {
   "cell_type": "markdown",
   "metadata": {},
   "source": [
    "# LVs selection"
   ]
  },
  {
   "cell_type": "code",
   "execution_count": 39,
   "metadata": {},
   "outputs": [],
   "source": [
    "N_TOP_LVS = 10"
   ]
  },
  {
   "cell_type": "markdown",
   "metadata": {},
   "source": [
    "# Cell types"
   ]
  },
  {
   "cell_type": "code",
   "execution_count": 132,
   "metadata": {},
   "outputs": [],
   "source": [
    "def _get_lv_rank(data):\n",
    "    data = data.copy()\n",
    "    data[\"lv\"] = data[\"lv\"].rank()\n",
    "    return data"
   ]
  },
  {
   "cell_type": "code",
   "execution_count": 133,
   "metadata": {},
   "outputs": [],
   "source": [
    "df = pd.concat(cell_type_dfs[:N_TOP_LVS], ignore_index=True)\n",
    "# df = pd.concat([_get_lv_rank(x) for x in cell_type_dfs[:N_TOP_LVS]], ignore_index=True)"
   ]
  },
  {
   "cell_type": "code",
   "execution_count": 134,
   "metadata": {},
   "outputs": [],
   "source": [
    "# https://trace.ncbi.nlm.nih.gov/Traces/sra/?study=SRP037775\n",
    "df = df[~((df[\"attr\"] == \"HER2-positive breast cancer\") & (df[\"lv\"] < 0.10))]\n",
    "\n",
    "# The PBMCs entry is related only to those samples treated with HSV-1\n",
    "# see https://trace.ncbi.nlm.nih.gov/Traces/sra/?study=SRP045569\n",
    "# here I keep only those, since the rest (sham) have almost zero expression\n",
    "df = df[~((df[\"attr\"] == \"PBMCs\") & (df[\"lv\"] < 0.05))]\n",
    "\n",
    "# https://trace.ncbi.nlm.nih.gov/Traces/sra/?study=SRP062958\n",
    "# df = df[~((df[\"attr\"] == \"peripheral blood monocytes\") & (df[\"lv\"] < 0.00))]\n",
    "\n",
    "# https://trace.ncbi.nlm.nih.gov/Traces/sra/?study=SRP048804\n",
    "# df = df[~((df[\"attr\"] == \"glioblastoma cell line\") & (df[\"lv\"] < 0.00))]\n",
    "\n",
    "# https://trace.ncbi.nlm.nih.gov/Traces/sra/?study=SRP066356\n",
    "# df = df[~((df[\"attr\"] == \"Monocyte\") & (df[\"lv\"] < 0.00))]\n",
    "\n",
    "# https://trace.ncbi.nlm.nih.gov/Traces/sra/?study=SRP015670\n",
    "# df = df[~((df[\"attr\"] == \"monocyte-derived macrophages\") & (df[\"lv\"] < 0.00))]"
   ]
  },
  {
   "cell_type": "code",
   "execution_count": 135,
   "metadata": {},
   "outputs": [],
   "source": [
    "# df = df[~df[\"attr\"].str.lower().str.contains(\"cancer|glioblastoma|carcinoma\")]"
   ]
  },
  {
   "cell_type": "code",
   "execution_count": 136,
   "metadata": {},
   "outputs": [
    {
     "data": {
      "text/plain": [
       "attr\n",
       "PBMCs                                                      1.902258\n",
       "HER2-positive breast cancer                                1.805191\n",
       "Jurkat                                                     1.211503\n",
       "M1-polarized HMDM                                          0.881763\n",
       "Rapamycin treated fibroblast                               0.696544\n",
       "proliferative fibroblast                                   0.628045\n",
       "Erythroblasts                                              0.611127\n",
       "primary fibroblasts                                        0.590184\n",
       "LHSAR overexpressed with HOXB13                            0.586583\n",
       "Normal CD34+ HSPCs                                         0.534354\n",
       "B-cell lymphoma                                            0.527413\n",
       "Human embryonic stem cells                                 0.503435\n",
       "Clear Cell Renal Carcinoma cells                           0.503085\n",
       "Human umbilical vein vascular endothelial cells            0.497077\n",
       "peripheral blood monocytes                                 0.481152\n",
       "embryonic kidney cells                                     0.480194\n",
       "human mesenchymal stem cell (hMSCs)                        0.479122\n",
       "colon cancer                                               0.474350\n",
       "in vitro differentiated erythroid cells                    0.471143\n",
       "neonatal dermal blood vascular endothelial cells (BECs)    0.469025\n",
       "contact-inhibited IMR90                                    0.468791\n",
       "hepatocellular carcinoma cell line                         0.466611\n",
       "M1-polarized IPSDM                                         0.460619\n",
       "Cranial neural crest cells (CNCCs)                         0.455924\n",
       "Cord blood CD34+ cells                                     0.453277\n",
       "Name: lv, dtype: float64"
      ]
     },
     "execution_count": 136,
     "metadata": {},
     "output_type": "execute_result"
    }
   ],
   "source": [
    "df.groupby(\"attr\").median().squeeze().sort_values(ascending=False).head(25)"
   ]
  },
  {
   "cell_type": "code",
   "execution_count": 137,
   "metadata": {},
   "outputs": [],
   "source": [
    "df = df.replace(\n",
    "    {\n",
    "        \"attr\": {\n",
    "            \"HER2-positive breast cancer\": \"HER2-positive breast cancer\\n(no trastuzumab resistance)\",\n",
    "            #             \"\": \"\",\n",
    "            \"Rapamycin treated fibroblast\": \"Fibroblasts\\n(Rapamycin treated)\",\n",
    "            \"\": \"\",\n",
    "            #             \"CD14 cells\": \"CD14+ cells\",\n",
    "            \"M1-polarized HMDM\": \"M1 macrophages\\n(HMDM)\",\n",
    "            \"M1-polarized IPSDM\": \"M1 macrophages\\n(IPSDM)\",\n",
    "            \"PBMCs\": \"PBMCs (HSV)\",\n",
    "            #             \"peripheral blood monocytes\": \"Monocytes (IFNa)\",\n",
    "            \"LHSAR overexpressed with HOXB13\": \"Prostate epithelial cells\\n(LHSAR overexpressed\\nwith HOXB13)\",\n",
    "            \"LHSAR overexpressed with HOXB13 and FOXA1\": \"Prostate epithelial cells (LHSAR)\",\n",
    "            \"LHSAR overexpressed with LacZ\": \"Prostate epithelial cells (LHSAR)\",\n",
    "            #             \"Primary Monocytes(BC8)\": \"Primary monocytes\",\n",
    "            #             \"Primary Monocytes(BC9)\": \"Primary monocytes\",\n",
    "            #             \"Primary Monocytes(BC12)\": \"Primary monocytes\",\n",
    "            #             \"Primary Monocytes(BC11)\": \"Primary monocytes\",\n",
    "            #             \"glioblastoma cell line\": \"Glioblastoma\\n(GBM1A cell line)\",\n",
    "            #             \"Monocyte\": \"Monocytes\",\n",
    "            #             \"monocyte-derived macrophages\": \"Monocyte-derived\\nmacrophages (WNV)\",\n",
    "            #             \"Tongue squamous cell carcinoma\": \"Tongue squamous\\ncell carcinoma\",\n",
    "        }\n",
    "    }\n",
    ")"
   ]
  },
  {
   "cell_type": "code",
   "execution_count": 154,
   "metadata": {},
   "outputs": [
    {
     "data": {
      "text/plain": [
       "Index(['PBMCs (HSV)',\n",
       "       'HER2-positive breast cancer\\n(no trastuzumab resistance)', 'Jurkat',\n",
       "       'M1 macrophages\\n(HMDM)', 'Fibroblasts\\n(Rapamycin treated)',\n",
       "       'proliferative fibroblast', 'Erythroblasts', 'primary fibroblasts',\n",
       "       'Prostate epithelial cells\\n(LHSAR overexpressed\\nwith HOXB13)',\n",
       "       'Normal CD34+ HSPCs'],\n",
       "      dtype='object', name='attr')"
      ]
     },
     "execution_count": 154,
     "metadata": {},
     "output_type": "execute_result"
    }
   ],
   "source": [
    "cat_order"
   ]
  },
  {
   "cell_type": "code",
   "execution_count": 164,
   "metadata": {},
   "outputs": [],
   "source": [
    "cat_order = df[[\"attr\", \"lv\"]].groupby(\"attr\").median().squeeze()\n",
    "cat_order = cat_order.sort_values(ascending=False)\n",
    "cat_order = cat_order.head(10)\n",
    "cat_order = cat_order.index"
   ]
  },
  {
   "cell_type": "code",
   "execution_count": 165,
   "metadata": {},
   "outputs": [
    {
     "data": {
      "text/plain": [
       "PosixPath('/home/miltondp/projects/labs/greenelab/phenoplier_manuscript/content/images/drug_disease_prediction/niacin-cad-modules_cell_types.svg')"
      ]
     },
     "metadata": {},
     "output_type": "display_data"
    },
    {
     "data": {
      "image/png": "[encoded data removed]",
      "text/plain": [
       "<Figure size 1008x576 with 1 Axes>"
      ]
     },
     "metadata": {},
     "output_type": "display_data"
    }
   ],
   "source": [
    "with sns.plotting_context(\"paper\", font_scale=2.5), sns.axes_style(\"whitegrid\"):\n",
    "    fig, ax = plt.subplots(figsize=(14, 8))\n",
    "    ax = sns.boxplot(\n",
    "        data=df,\n",
    "        x=\"attr\",\n",
    "        y=\"lv\",\n",
    "        order=cat_order,\n",
    "        linewidth=None,\n",
    "        ax=ax,\n",
    "    )\n",
    "    ax.set_xlabel(\"Cell type\")\n",
    "    ax.set_ylabel(\"LV value\")\n",
    "    plt.xticks(rotation=45, horizontalalignment=\"right\")\n",
    "\n",
    "    output_filepath = OUTPUT_FIGURES_DIR / \"niacin-cad-modules_cell_types.svg\"\n",
    "    display(output_filepath)\n",
    "    plt.savefig(\n",
    "        output_filepath,\n",
    "        bbox_inches=\"tight\",\n",
    "    )"
   ]
  },
  {
   "cell_type": "code",
   "execution_count": 129,
   "metadata": {},
   "outputs": [],
   "source": [
    "df_tmp = pd.concat(cell_type_dfs[:N_TOP_LVS], ignore_index=False).reset_index()"
   ]
  },
  {
   "cell_type": "code",
   "execution_count": 157,
   "metadata": {},
   "outputs": [
    {
     "data": {
      "text/html": [
       "<div>\n",
       "<style scoped>\n",
       "    .dataframe tbody tr th:only-of-type {\n",
       "        vertical-align: middle;\n",
       "    }\n",
       "\n",
       "    .dataframe tbody tr th {\n",
       "        vertical-align: top;\n",
       "    }\n",
       "\n",
       "    .dataframe thead th {\n",
       "        text-align: right;\n",
       "    }\n",
       "</style>\n",
       "<table border=\"1\" class=\"dataframe\">\n",
       "  <thead>\n",
       "    <tr style=\"text-align: right;\">\n",
       "      <th></th>\n",
       "      <th>project</th>\n",
       "      <th>run</th>\n",
       "      <th>lv</th>\n",
       "      <th>attr</th>\n",
       "      <th>lv_name</th>\n",
       "    </tr>\n",
       "  </thead>\n",
       "  <tbody>\n",
       "    <tr>\n",
       "      <th>6849</th>\n",
       "      <td>SRP045500</td>\n",
       "      <td>SRR1551040</td>\n",
       "      <td>2.307126</td>\n",
       "      <td>Neutrophils</td>\n",
       "      <td>LV116</td>\n",
       "    </tr>\n",
       "    <tr>\n",
       "      <th>6859</th>\n",
       "      <td>SRP045500</td>\n",
       "      <td>SRR1550997</td>\n",
       "      <td>1.730614</td>\n",
       "      <td>Neutrophils</td>\n",
       "      <td>LV116</td>\n",
       "    </tr>\n",
       "    <tr>\n",
       "      <th>6862</th>\n",
       "      <td>SRP045500</td>\n",
       "      <td>SRR1551101</td>\n",
       "      <td>1.651573</td>\n",
       "      <td>Neutrophils</td>\n",
       "      <td>LV116</td>\n",
       "    </tr>\n",
       "    <tr>\n",
       "      <th>6933</th>\n",
       "      <td>SRP045500</td>\n",
       "      <td>SRR1551047</td>\n",
       "      <td>0.493593</td>\n",
       "      <td>Neutrophils</td>\n",
       "      <td>LV116</td>\n",
       "    </tr>\n",
       "    <tr>\n",
       "      <th>6992</th>\n",
       "      <td>SRP045500</td>\n",
       "      <td>SRR1551054</td>\n",
       "      <td>0.393106</td>\n",
       "      <td>Neutrophils</td>\n",
       "      <td>LV116</td>\n",
       "    </tr>\n",
       "    <tr>\n",
       "      <th>7114</th>\n",
       "      <td>SRP045500</td>\n",
       "      <td>SRR1550986</td>\n",
       "      <td>0.130220</td>\n",
       "      <td>Neutrophils</td>\n",
       "      <td>LV116</td>\n",
       "    </tr>\n",
       "    <tr>\n",
       "      <th>7128</th>\n",
       "      <td>SRP045500</td>\n",
       "      <td>SRR1551082</td>\n",
       "      <td>0.118749</td>\n",
       "      <td>Neutrophils</td>\n",
       "      <td>LV116</td>\n",
       "    </tr>\n",
       "    <tr>\n",
       "      <th>7538</th>\n",
       "      <td>SRP045500</td>\n",
       "      <td>SRR1551088</td>\n",
       "      <td>0.016866</td>\n",
       "      <td>Neutrophils</td>\n",
       "      <td>LV116</td>\n",
       "    </tr>\n",
       "    <tr>\n",
       "      <th>7606</th>\n",
       "      <td>SRP045500</td>\n",
       "      <td>SRR1551068</td>\n",
       "      <td>0.012291</td>\n",
       "      <td>Neutrophils</td>\n",
       "      <td>LV116</td>\n",
       "    </tr>\n",
       "    <tr>\n",
       "      <th>7607</th>\n",
       "      <td>SRP045500</td>\n",
       "      <td>SRR1551075</td>\n",
       "      <td>0.012157</td>\n",
       "      <td>Neutrophils</td>\n",
       "      <td>LV116</td>\n",
       "    </tr>\n",
       "    <tr>\n",
       "      <th>7806</th>\n",
       "      <td>SRP045500</td>\n",
       "      <td>SRR1551002</td>\n",
       "      <td>0.001375</td>\n",
       "      <td>Neutrophils</td>\n",
       "      <td>LV116</td>\n",
       "    </tr>\n",
       "    <tr>\n",
       "      <th>7910</th>\n",
       "      <td>SRP045500</td>\n",
       "      <td>SRR1551033</td>\n",
       "      <td>-0.002875</td>\n",
       "      <td>Neutrophils</td>\n",
       "      <td>LV116</td>\n",
       "    </tr>\n",
       "    <tr>\n",
       "      <th>8283</th>\n",
       "      <td>SRP045500</td>\n",
       "      <td>SRR1551008</td>\n",
       "      <td>-0.014896</td>\n",
       "      <td>Neutrophils</td>\n",
       "      <td>LV116</td>\n",
       "    </tr>\n",
       "    <tr>\n",
       "      <th>8334</th>\n",
       "      <td>SRP045500</td>\n",
       "      <td>SRR1551108</td>\n",
       "      <td>-0.016153</td>\n",
       "      <td>Neutrophils</td>\n",
       "      <td>LV116</td>\n",
       "    </tr>\n",
       "    <tr>\n",
       "      <th>8402</th>\n",
       "      <td>SRP045500</td>\n",
       "      <td>SRR1551061</td>\n",
       "      <td>-0.017873</td>\n",
       "      <td>Neutrophils</td>\n",
       "      <td>LV116</td>\n",
       "    </tr>\n",
       "    <tr>\n",
       "      <th>8929</th>\n",
       "      <td>SRP045500</td>\n",
       "      <td>SRR1550992</td>\n",
       "      <td>-0.037711</td>\n",
       "      <td>Neutrophils</td>\n",
       "      <td>LV116</td>\n",
       "    </tr>\n",
       "    <tr>\n",
       "      <th>9110</th>\n",
       "      <td>SRP045500</td>\n",
       "      <td>SRR1551095</td>\n",
       "      <td>-0.056746</td>\n",
       "      <td>Neutrophils</td>\n",
       "      <td>LV116</td>\n",
       "    </tr>\n",
       "    <tr>\n",
       "      <th>9221</th>\n",
       "      <td>SRP045500</td>\n",
       "      <td>SRR1551013</td>\n",
       "      <td>-0.147526</td>\n",
       "      <td>Neutrophils</td>\n",
       "      <td>LV116</td>\n",
       "    </tr>\n",
       "    <tr>\n",
       "      <th>9238</th>\n",
       "      <td>SRP045500</td>\n",
       "      <td>SRR1551026</td>\n",
       "      <td>-0.189178</td>\n",
       "      <td>Neutrophils</td>\n",
       "      <td>LV116</td>\n",
       "    </tr>\n",
       "    <tr>\n",
       "      <th>9240</th>\n",
       "      <td>SRP045500</td>\n",
       "      <td>SRR1551020</td>\n",
       "      <td>-0.229266</td>\n",
       "      <td>Neutrophils</td>\n",
       "      <td>LV116</td>\n",
       "    </tr>\n",
       "  </tbody>\n",
       "</table>\n",
       "</div>"
      ],
      "text/plain": [
       "        project         run        lv         attr lv_name\n",
       "6849  SRP045500  SRR1551040  2.307126  Neutrophils   LV116\n",
       "6859  SRP045500  SRR1550997  1.730614  Neutrophils   LV116\n",
       "6862  SRP045500  SRR1551101  1.651573  Neutrophils   LV116\n",
       "6933  SRP045500  SRR1551047  0.493593  Neutrophils   LV116\n",
       "6992  SRP045500  SRR1551054  0.393106  Neutrophils   LV116\n",
       "7114  SRP045500  SRR1550986  0.130220  Neutrophils   LV116\n",
       "7128  SRP045500  SRR1551082  0.118749  Neutrophils   LV116\n",
       "7538  SRP045500  SRR1551088  0.016866  Neutrophils   LV116\n",
       "7606  SRP045500  SRR1551068  0.012291  Neutrophils   LV116\n",
       "7607  SRP045500  SRR1551075  0.012157  Neutrophils   LV116\n",
       "7806  SRP045500  SRR1551002  0.001375  Neutrophils   LV116\n",
       "7910  SRP045500  SRR1551033 -0.002875  Neutrophils   LV116\n",
       "8283  SRP045500  SRR1551008 -0.014896  Neutrophils   LV116\n",
       "8334  SRP045500  SRR1551108 -0.016153  Neutrophils   LV116\n",
       "8402  SRP045500  SRR1551061 -0.017873  Neutrophils   LV116\n",
       "8929  SRP045500  SRR1550992 -0.037711  Neutrophils   LV116\n",
       "9110  SRP045500  SRR1551095 -0.056746  Neutrophils   LV116\n",
       "9221  SRP045500  SRR1551013 -0.147526  Neutrophils   LV116\n",
       "9238  SRP045500  SRR1551026 -0.189178  Neutrophils   LV116\n",
       "9240  SRP045500  SRR1551020 -0.229266  Neutrophils   LV116"
      ]
     },
     "execution_count": 157,
     "metadata": {},
     "output_type": "execute_result"
    }
   ],
   "source": [
    "df_tmp[df_tmp[\"attr\"].str.contains(\"Neutrophils\")]"
   ]
  },
  {
   "cell_type": "code",
   "execution_count": 158,
   "metadata": {},
   "outputs": [],
   "source": [
    "lv_name = \"LV116\"\n",
    "lv_obj = LVAnalysis(lv_name, data)"
   ]
  },
  {
   "cell_type": "code",
   "execution_count": 159,
   "metadata": {},
   "outputs": [
    {
     "data": {
      "text/html": [
       "<div>\n",
       "<style scoped>\n",
       "    .dataframe tbody tr th:only-of-type {\n",
       "        vertical-align: middle;\n",
       "    }\n",
       "\n",
       "    .dataframe tbody tr th {\n",
       "        vertical-align: top;\n",
       "    }\n",
       "\n",
       "    .dataframe thead th {\n",
       "        text-align: right;\n",
       "    }\n",
       "</style>\n",
       "<table border=\"1\" class=\"dataframe\">\n",
       "  <thead>\n",
       "    <tr style=\"text-align: right;\">\n",
       "      <th></th>\n",
       "      <th>gene_name</th>\n",
       "      <th>LV116</th>\n",
       "      <th>gene_band</th>\n",
       "    </tr>\n",
       "  </thead>\n",
       "  <tbody>\n",
       "    <tr>\n",
       "      <th>0</th>\n",
       "      <td>IFIT1</td>\n",
       "      <td>6.937650</td>\n",
       "      <td>10q23.31</td>\n",
       "    </tr>\n",
       "    <tr>\n",
       "      <th>1</th>\n",
       "      <td>MX1</td>\n",
       "      <td>6.650584</td>\n",
       "      <td>21q22.3</td>\n",
       "    </tr>\n",
       "    <tr>\n",
       "      <th>2</th>\n",
       "      <td>IFIT2</td>\n",
       "      <td>6.479595</td>\n",
       "      <td>10q23.31</td>\n",
       "    </tr>\n",
       "    <tr>\n",
       "      <th>3</th>\n",
       "      <td>OAS3</td>\n",
       "      <td>6.311481</td>\n",
       "      <td>12q24.13</td>\n",
       "    </tr>\n",
       "    <tr>\n",
       "      <th>4</th>\n",
       "      <td>OASL</td>\n",
       "      <td>6.212510</td>\n",
       "      <td>12q24.31</td>\n",
       "    </tr>\n",
       "    <tr>\n",
       "      <th>5</th>\n",
       "      <td>IFIT3</td>\n",
       "      <td>5.990415</td>\n",
       "      <td>10q23.31</td>\n",
       "    </tr>\n",
       "    <tr>\n",
       "      <th>6</th>\n",
       "      <td>OAS2</td>\n",
       "      <td>5.873026</td>\n",
       "      <td>12q24.13</td>\n",
       "    </tr>\n",
       "    <tr>\n",
       "      <th>7</th>\n",
       "      <td>OAS1</td>\n",
       "      <td>5.701188</td>\n",
       "      <td>12q24.13</td>\n",
       "    </tr>\n",
       "    <tr>\n",
       "      <th>8</th>\n",
       "      <td>MX2</td>\n",
       "      <td>5.549364</td>\n",
       "      <td>21q22.3</td>\n",
       "    </tr>\n",
       "    <tr>\n",
       "      <th>9</th>\n",
       "      <td>RSAD2</td>\n",
       "      <td>5.244291</td>\n",
       "      <td>2p25.2</td>\n",
       "    </tr>\n",
       "  </tbody>\n",
       "</table>\n",
       "</div>"
      ],
      "text/plain": [
       "  gene_name     LV116 gene_band\n",
       "0     IFIT1  6.937650  10q23.31\n",
       "1       MX1  6.650584   21q22.3\n",
       "2     IFIT2  6.479595  10q23.31\n",
       "3      OAS3  6.311481  12q24.13\n",
       "4      OASL  6.212510  12q24.31\n",
       "5     IFIT3  5.990415  10q23.31\n",
       "6      OAS2  5.873026  12q24.13\n",
       "7      OAS1  5.701188  12q24.13\n",
       "8       MX2  5.549364   21q22.3\n",
       "9     RSAD2  5.244291    2p25.2"
      ]
     },
     "execution_count": 159,
     "metadata": {},
     "output_type": "execute_result"
    }
   ],
   "source": [
    "lv_obj.lv_genes.head(10)"
   ]
  },
  {
   "cell_type": "code",
   "execution_count": 160,
   "metadata": {},
   "outputs": [
    {
     "name": "stdout",
     "output_type": "stream",
     "text": [
      "SRP059039, SRP045500, SRP063059, SRP045569, SRP015670, SRP059531, SRP062958, SRP039361, SRP056733, SRP060370, SRP062966, SRP045352, SRP048804, SRP032775, SRP059172, SRP050246, SRP064458, SRP033711, SRP049820, SRP023199, SRP060416, SRP005279, SRP042161, SRP059701, SRP068139, SRP051848, SRP014428, SRP063661, SRP057205, SRP041826, SRP059057, SRP064259, SRP046226, SRP044956, SRP066356, SRP048640, SRP041885, SRP045659, SRP041647, SRP045565, SRP041620, SRP053186, SRP045441, SRP022133, SRP055874, SRP029990, SRP044206, SRP065763, SRP056443, SRP041538, SRP044593, SRP019270, SRP067934, SRP059035, SRP019936, SRP054971, SRP058237, SRP051368, SRP019758, "
     ]
    }
   ],
   "source": [
    "lv_data = lv_obj.get_experiments_data()"
   ]
  },
  {
   "cell_type": "code",
   "execution_count": 161,
   "metadata": {},
   "outputs": [
    {
     "data": {
      "text/plain": [
       "(4274, 105)"
      ]
     },
     "execution_count": 161,
     "metadata": {},
     "output_type": "execute_result"
    }
   ],
   "source": [
    "lv_data.shape"
   ]
  },
  {
   "cell_type": "code",
   "execution_count": 163,
   "metadata": {},
   "outputs": [
    {
     "data": {
      "text/html": [
       "<div>\n",
       "<style scoped>\n",
       "    .dataframe tbody tr th:only-of-type {\n",
       "        vertical-align: middle;\n",
       "    }\n",
       "\n",
       "    .dataframe tbody tr th {\n",
       "        vertical-align: top;\n",
       "    }\n",
       "\n",
       "    .dataframe thead th {\n",
       "        text-align: right;\n",
       "    }\n",
       "</style>\n",
       "<table border=\"1\" class=\"dataframe\">\n",
       "  <thead>\n",
       "    <tr style=\"text-align: right;\">\n",
       "      <th></th>\n",
       "      <th></th>\n",
       "      <th>age</th>\n",
       "      <th>cellcount</th>\n",
       "      <th>celltype</th>\n",
       "      <th>collectiondate</th>\n",
       "      <th>diseasestatus</th>\n",
       "      <th>donorid</th>\n",
       "      <th>gender</th>\n",
       "      <th>index</th>\n",
       "      <th>race</th>\n",
       "      <th>samplename</th>\n",
       "      <th>smoker</th>\n",
       "      <th>time since last flare (months)</th>\n",
       "      <th>time since steroid dose</th>\n",
       "      <th>time since symptom onset (yrs)</th>\n",
       "      <th>years since diagnosis</th>\n",
       "      <th>LV116</th>\n",
       "    </tr>\n",
       "    <tr>\n",
       "      <th>project</th>\n",
       "      <th>run</th>\n",
       "      <th></th>\n",
       "      <th></th>\n",
       "      <th></th>\n",
       "      <th></th>\n",
       "      <th></th>\n",
       "      <th></th>\n",
       "      <th></th>\n",
       "      <th></th>\n",
       "      <th></th>\n",
       "      <th></th>\n",
       "      <th></th>\n",
       "      <th></th>\n",
       "      <th></th>\n",
       "      <th></th>\n",
       "      <th></th>\n",
       "      <th></th>\n",
       "    </tr>\n",
       "  </thead>\n",
       "  <tbody>\n",
       "    <tr>\n",
       "      <th rowspan=\"60\" valign=\"top\">SRP045500</th>\n",
       "      <th>SRR1551040</th>\n",
       "      <td>36</td>\n",
       "      <td>34537500</td>\n",
       "      <td>Neutrophils</td>\n",
       "      <td>June 29 2012</td>\n",
       "      <td>MS posttreatment</td>\n",
       "      <td>46</td>\n",
       "      <td>F</td>\n",
       "      <td>22</td>\n",
       "      <td>White</td>\n",
       "      <td>46_Neutrophils</td>\n",
       "      <td>N</td>\n",
       "      <td>47</td>\n",
       "      <td>--</td>\n",
       "      <td>10</td>\n",
       "      <td>--</td>\n",
       "      <td>2.307126</td>\n",
       "    </tr>\n",
       "    <tr>\n",
       "      <th>SRR1550997</th>\n",
       "      <td>52</td>\n",
       "      <td>190000000</td>\n",
       "      <td>Neutrophils</td>\n",
       "      <td>May 22 2012</td>\n",
       "      <td>MS posttreatment</td>\n",
       "      <td>33</td>\n",
       "      <td>F</td>\n",
       "      <td>6</td>\n",
       "      <td>White</td>\n",
       "      <td>33_Neutrophils</td>\n",
       "      <td>Y</td>\n",
       "      <td>1</td>\n",
       "      <td>3 weeks, oral</td>\n",
       "      <td>1</td>\n",
       "      <td>--</td>\n",
       "      <td>1.730614</td>\n",
       "    </tr>\n",
       "    <tr>\n",
       "      <th>SRR1551101</th>\n",
       "      <td>35</td>\n",
       "      <td>10237500</td>\n",
       "      <td>Neutrophils</td>\n",
       "      <td>August 24 2012</td>\n",
       "      <td>MS posttreatment</td>\n",
       "      <td>56</td>\n",
       "      <td>F</td>\n",
       "      <td>16</td>\n",
       "      <td>White</td>\n",
       "      <td>56_Neutrophils</td>\n",
       "      <td>N</td>\n",
       "      <td>1</td>\n",
       "      <td>1 month, IV</td>\n",
       "      <td>0.5</td>\n",
       "      <td>--</td>\n",
       "      <td>1.651573</td>\n",
       "    </tr>\n",
       "    <tr>\n",
       "      <th>SRR1551046</th>\n",
       "      <td>36</td>\n",
       "      <td>--</td>\n",
       "      <td>Whole Blood</td>\n",
       "      <td>June 29 2012</td>\n",
       "      <td>MS posttreatment</td>\n",
       "      <td>46</td>\n",
       "      <td>F</td>\n",
       "      <td>27</td>\n",
       "      <td>White</td>\n",
       "      <td>46_Tempus</td>\n",
       "      <td>N</td>\n",
       "      <td>47</td>\n",
       "      <td>--</td>\n",
       "      <td>10</td>\n",
       "      <td>--</td>\n",
       "      <td>0.739608</td>\n",
       "    </tr>\n",
       "    <tr>\n",
       "      <th>SRR1550983</th>\n",
       "      <td>52</td>\n",
       "      <td>--</td>\n",
       "      <td>Whole Blood</td>\n",
       "      <td>May 22 2012</td>\n",
       "      <td>MS posttreatment</td>\n",
       "      <td>33</td>\n",
       "      <td>F</td>\n",
       "      <td>9</td>\n",
       "      <td>White</td>\n",
       "      <td>33_Tempus</td>\n",
       "      <td>Y</td>\n",
       "      <td>1</td>\n",
       "      <td>3 weeks, oral</td>\n",
       "      <td>1</td>\n",
       "      <td>--</td>\n",
       "      <td>0.642043</td>\n",
       "    </tr>\n",
       "    <tr>\n",
       "      <th>SRR1551107</th>\n",
       "      <td>35</td>\n",
       "      <td>--</td>\n",
       "      <td>Whole Blood</td>\n",
       "      <td>August 24 2012</td>\n",
       "      <td>MS posttreatment</td>\n",
       "      <td>56</td>\n",
       "      <td>F</td>\n",
       "      <td>19</td>\n",
       "      <td>White</td>\n",
       "      <td>56_Tempus</td>\n",
       "      <td>N</td>\n",
       "      <td>1</td>\n",
       "      <td>1 month, IV</td>\n",
       "      <td>0.5</td>\n",
       "      <td>--</td>\n",
       "      <td>0.523484</td>\n",
       "    </tr>\n",
       "    <tr>\n",
       "      <th>SRR1551047</th>\n",
       "      <td>29</td>\n",
       "      <td>42250000</td>\n",
       "      <td>Neutrophils</td>\n",
       "      <td>January 25 2012</td>\n",
       "      <td>Healthy Control</td>\n",
       "      <td>20</td>\n",
       "      <td>F</td>\n",
       "      <td>1</td>\n",
       "      <td>White</td>\n",
       "      <td>20_Neutrophils</td>\n",
       "      <td>--</td>\n",
       "      <td>--</td>\n",
       "      <td>--</td>\n",
       "      <td>--</td>\n",
       "      <td>--</td>\n",
       "      <td>0.493593</td>\n",
       "    </tr>\n",
       "    <tr>\n",
       "      <th>SRR1551054</th>\n",
       "      <td>22</td>\n",
       "      <td>3700000</td>\n",
       "      <td>Neutrophils</td>\n",
       "      <td>February 2 2012</td>\n",
       "      <td>Healthy Control</td>\n",
       "      <td>21</td>\n",
       "      <td>F</td>\n",
       "      <td>21</td>\n",
       "      <td>White</td>\n",
       "      <td>21_Neutrophils</td>\n",
       "      <td>--</td>\n",
       "      <td>--</td>\n",
       "      <td>--</td>\n",
       "      <td>--</td>\n",
       "      <td>--</td>\n",
       "      <td>0.393106</td>\n",
       "    </tr>\n",
       "    <tr>\n",
       "      <th>SRR1551041</th>\n",
       "      <td>36</td>\n",
       "      <td>2000000</td>\n",
       "      <td>Monocytes</td>\n",
       "      <td>June 29 2012</td>\n",
       "      <td>MS posttreatment</td>\n",
       "      <td>46</td>\n",
       "      <td>F</td>\n",
       "      <td>7</td>\n",
       "      <td>White</td>\n",
       "      <td>46_Monocytes</td>\n",
       "      <td>N</td>\n",
       "      <td>47</td>\n",
       "      <td>--</td>\n",
       "      <td>10</td>\n",
       "      <td>--</td>\n",
       "      <td>0.365628</td>\n",
       "    </tr>\n",
       "    <tr>\n",
       "      <th>SRR1550998</th>\n",
       "      <td>52</td>\n",
       "      <td>2000000</td>\n",
       "      <td>Monocytes</td>\n",
       "      <td>May 22 2012</td>\n",
       "      <td>MS posttreatment</td>\n",
       "      <td>33</td>\n",
       "      <td>F</td>\n",
       "      <td>10</td>\n",
       "      <td>White</td>\n",
       "      <td>33_Monocytes</td>\n",
       "      <td>Y</td>\n",
       "      <td>1</td>\n",
       "      <td>3 weeks, oral</td>\n",
       "      <td>1</td>\n",
       "      <td>--</td>\n",
       "      <td>0.276318</td>\n",
       "    </tr>\n",
       "    <tr>\n",
       "      <th>SRR1551102</th>\n",
       "      <td>35</td>\n",
       "      <td>2000000</td>\n",
       "      <td>Monocytes</td>\n",
       "      <td>August 24 2012</td>\n",
       "      <td>MS posttreatment</td>\n",
       "      <td>56</td>\n",
       "      <td>F</td>\n",
       "      <td>15</td>\n",
       "      <td>White</td>\n",
       "      <td>56_Monocytes</td>\n",
       "      <td>N</td>\n",
       "      <td>1</td>\n",
       "      <td>1 month, IV</td>\n",
       "      <td>0.5</td>\n",
       "      <td>--</td>\n",
       "      <td>0.196628</td>\n",
       "    </tr>\n",
       "    <tr>\n",
       "      <th>SRR1551042</th>\n",
       "      <td>36</td>\n",
       "      <td>487967</td>\n",
       "      <td>B-cells</td>\n",
       "      <td>June 29 2012</td>\n",
       "      <td>MS posttreatment</td>\n",
       "      <td>46</td>\n",
       "      <td>F</td>\n",
       "      <td>25</td>\n",
       "      <td>White</td>\n",
       "      <td>46_Bcells</td>\n",
       "      <td>N</td>\n",
       "      <td>47</td>\n",
       "      <td>--</td>\n",
       "      <td>10</td>\n",
       "      <td>--</td>\n",
       "      <td>0.190920</td>\n",
       "    </tr>\n",
       "    <tr>\n",
       "      <th>SRR1550999</th>\n",
       "      <td>52</td>\n",
       "      <td>273769</td>\n",
       "      <td>B-cells</td>\n",
       "      <td>May 22 2012</td>\n",
       "      <td>MS posttreatment</td>\n",
       "      <td>33</td>\n",
       "      <td>F</td>\n",
       "      <td>7</td>\n",
       "      <td>White</td>\n",
       "      <td>33_Bcells</td>\n",
       "      <td>Y</td>\n",
       "      <td>1</td>\n",
       "      <td>3 weeks, oral</td>\n",
       "      <td>1</td>\n",
       "      <td>--</td>\n",
       "      <td>0.175113</td>\n",
       "    </tr>\n",
       "    <tr>\n",
       "      <th>SRR1551045</th>\n",
       "      <td>36</td>\n",
       "      <td>301460</td>\n",
       "      <td>NK</td>\n",
       "      <td>June 29 2012</td>\n",
       "      <td>MS posttreatment</td>\n",
       "      <td>46</td>\n",
       "      <td>F</td>\n",
       "      <td>1</td>\n",
       "      <td>White</td>\n",
       "      <td>46_NK</td>\n",
       "      <td>N</td>\n",
       "      <td>47</td>\n",
       "      <td>--</td>\n",
       "      <td>10</td>\n",
       "      <td>--</td>\n",
       "      <td>0.175028</td>\n",
       "    </tr>\n",
       "    <tr>\n",
       "      <th>SRR1551043</th>\n",
       "      <td>36</td>\n",
       "      <td>2000000</td>\n",
       "      <td>CD4</td>\n",
       "      <td>June 29 2012</td>\n",
       "      <td>MS posttreatment</td>\n",
       "      <td>46</td>\n",
       "      <td>F</td>\n",
       "      <td>27</td>\n",
       "      <td>White</td>\n",
       "      <td>46_CD4T</td>\n",
       "      <td>N</td>\n",
       "      <td>47</td>\n",
       "      <td>--</td>\n",
       "      <td>10</td>\n",
       "      <td>--</td>\n",
       "      <td>0.168327</td>\n",
       "    </tr>\n",
       "    <tr>\n",
       "      <th>SRR1551000</th>\n",
       "      <td>52</td>\n",
       "      <td>2000000</td>\n",
       "      <td>CD4</td>\n",
       "      <td>May 22 2012</td>\n",
       "      <td>MS posttreatment</td>\n",
       "      <td>33</td>\n",
       "      <td>F</td>\n",
       "      <td>11</td>\n",
       "      <td>White</td>\n",
       "      <td>33_CD4T</td>\n",
       "      <td>Y</td>\n",
       "      <td>1</td>\n",
       "      <td>3 weeks, oral</td>\n",
       "      <td>1</td>\n",
       "      <td>--</td>\n",
       "      <td>0.166757</td>\n",
       "    </tr>\n",
       "    <tr>\n",
       "      <th>SRR1551060</th>\n",
       "      <td>22</td>\n",
       "      <td>--</td>\n",
       "      <td>Whole Blood</td>\n",
       "      <td>February 2 2012</td>\n",
       "      <td>Healthy Control</td>\n",
       "      <td>21</td>\n",
       "      <td>F</td>\n",
       "      <td>20</td>\n",
       "      <td>White</td>\n",
       "      <td>21_Tempus</td>\n",
       "      <td>--</td>\n",
       "      <td>--</td>\n",
       "      <td>--</td>\n",
       "      <td>--</td>\n",
       "      <td>--</td>\n",
       "      <td>0.137682</td>\n",
       "    </tr>\n",
       "    <tr>\n",
       "      <th>SRR1550986</th>\n",
       "      <td>32</td>\n",
       "      <td>14737500</td>\n",
       "      <td>Neutrophils</td>\n",
       "      <td>June 26 2012</td>\n",
       "      <td>Healthy Control</td>\n",
       "      <td>44</td>\n",
       "      <td>F</td>\n",
       "      <td>5</td>\n",
       "      <td>Hispanic</td>\n",
       "      <td>44_Neutrophils</td>\n",
       "      <td>--</td>\n",
       "      <td>--</td>\n",
       "      <td>--</td>\n",
       "      <td>--</td>\n",
       "      <td>--</td>\n",
       "      <td>0.130220</td>\n",
       "    </tr>\n",
       "    <tr>\n",
       "      <th>SRR1551103</th>\n",
       "      <td>35</td>\n",
       "      <td>640619</td>\n",
       "      <td>B-cells</td>\n",
       "      <td>August 24 2012</td>\n",
       "      <td>MS posttreatment</td>\n",
       "      <td>56</td>\n",
       "      <td>F</td>\n",
       "      <td>10</td>\n",
       "      <td>White</td>\n",
       "      <td>56_Bcells</td>\n",
       "      <td>N</td>\n",
       "      <td>1</td>\n",
       "      <td>1 month, IV</td>\n",
       "      <td>0.5</td>\n",
       "      <td>--</td>\n",
       "      <td>0.124546</td>\n",
       "    </tr>\n",
       "    <tr>\n",
       "      <th>SRR1551082</th>\n",
       "      <td>42</td>\n",
       "      <td>17550000</td>\n",
       "      <td>Neutrophils</td>\n",
       "      <td>June 19 2012</td>\n",
       "      <td>Type 1 Diabetes</td>\n",
       "      <td>40</td>\n",
       "      <td>M</td>\n",
       "      <td>1</td>\n",
       "      <td>White</td>\n",
       "      <td>40_Neutrophils</td>\n",
       "      <td>--</td>\n",
       "      <td>--</td>\n",
       "      <td>--</td>\n",
       "      <td>--</td>\n",
       "      <td>6</td>\n",
       "      <td>0.118749</td>\n",
       "    </tr>\n",
       "    <tr>\n",
       "      <th>SRR1551001</th>\n",
       "      <td>52</td>\n",
       "      <td>2000000</td>\n",
       "      <td>CD8</td>\n",
       "      <td>May 22 2012</td>\n",
       "      <td>MS posttreatment</td>\n",
       "      <td>33</td>\n",
       "      <td>F</td>\n",
       "      <td>12</td>\n",
       "      <td>White</td>\n",
       "      <td>33_CD8T</td>\n",
       "      <td>Y</td>\n",
       "      <td>1</td>\n",
       "      <td>3 weeks, oral</td>\n",
       "      <td>1</td>\n",
       "      <td>--</td>\n",
       "      <td>0.118561</td>\n",
       "    </tr>\n",
       "    <tr>\n",
       "      <th>SRR1551053</th>\n",
       "      <td>29</td>\n",
       "      <td>--</td>\n",
       "      <td>Whole Blood</td>\n",
       "      <td>January 25 2012</td>\n",
       "      <td>Healthy Control</td>\n",
       "      <td>20</td>\n",
       "      <td>F</td>\n",
       "      <td>6</td>\n",
       "      <td>White</td>\n",
       "      <td>20_Tempus</td>\n",
       "      <td>--</td>\n",
       "      <td>--</td>\n",
       "      <td>--</td>\n",
       "      <td>--</td>\n",
       "      <td>--</td>\n",
       "      <td>0.113863</td>\n",
       "    </tr>\n",
       "    <tr>\n",
       "      <th>SRR1551104</th>\n",
       "      <td>35</td>\n",
       "      <td>2000000</td>\n",
       "      <td>CD4</td>\n",
       "      <td>August 24 2012</td>\n",
       "      <td>MS posttreatment</td>\n",
       "      <td>56</td>\n",
       "      <td>F</td>\n",
       "      <td>21</td>\n",
       "      <td>White</td>\n",
       "      <td>56_CD4T</td>\n",
       "      <td>N</td>\n",
       "      <td>1</td>\n",
       "      <td>1 month, IV</td>\n",
       "      <td>0.5</td>\n",
       "      <td>--</td>\n",
       "      <td>0.110456</td>\n",
       "    </tr>\n",
       "    <tr>\n",
       "      <th>SRR1551044</th>\n",
       "      <td>36</td>\n",
       "      <td>2000000</td>\n",
       "      <td>CD8</td>\n",
       "      <td>June 29 2012</td>\n",
       "      <td>MS posttreatment</td>\n",
       "      <td>46</td>\n",
       "      <td>F</td>\n",
       "      <td>11</td>\n",
       "      <td>White</td>\n",
       "      <td>46_CD8T</td>\n",
       "      <td>N</td>\n",
       "      <td>47</td>\n",
       "      <td>--</td>\n",
       "      <td>10</td>\n",
       "      <td>--</td>\n",
       "      <td>0.107513</td>\n",
       "    </tr>\n",
       "    <tr>\n",
       "      <th>SRR1551106</th>\n",
       "      <td>35</td>\n",
       "      <td>310438</td>\n",
       "      <td>NK</td>\n",
       "      <td>August 24 2012</td>\n",
       "      <td>MS posttreatment</td>\n",
       "      <td>56</td>\n",
       "      <td>F</td>\n",
       "      <td>9</td>\n",
       "      <td>White</td>\n",
       "      <td>56_NK</td>\n",
       "      <td>N</td>\n",
       "      <td>1</td>\n",
       "      <td>1 month, IV</td>\n",
       "      <td>0.5</td>\n",
       "      <td>--</td>\n",
       "      <td>0.082022</td>\n",
       "    </tr>\n",
       "    <tr>\n",
       "      <th>SRR1551105</th>\n",
       "      <td>35</td>\n",
       "      <td>1352936</td>\n",
       "      <td>CD8</td>\n",
       "      <td>August 24 2012</td>\n",
       "      <td>MS posttreatment</td>\n",
       "      <td>56</td>\n",
       "      <td>F</td>\n",
       "      <td>23</td>\n",
       "      <td>White</td>\n",
       "      <td>56_CD8T</td>\n",
       "      <td>N</td>\n",
       "      <td>1</td>\n",
       "      <td>1 month, IV</td>\n",
       "      <td>0.5</td>\n",
       "      <td>--</td>\n",
       "      <td>0.080185</td>\n",
       "    </tr>\n",
       "    <tr>\n",
       "      <th>SRR1551055</th>\n",
       "      <td>22</td>\n",
       "      <td>2000000</td>\n",
       "      <td>Monocytes</td>\n",
       "      <td>February 2 2012</td>\n",
       "      <td>Healthy Control</td>\n",
       "      <td>21</td>\n",
       "      <td>F</td>\n",
       "      <td>3</td>\n",
       "      <td>White</td>\n",
       "      <td>21_Monocytes</td>\n",
       "      <td>--</td>\n",
       "      <td>--</td>\n",
       "      <td>--</td>\n",
       "      <td>--</td>\n",
       "      <td>--</td>\n",
       "      <td>0.054378</td>\n",
       "    </tr>\n",
       "    <tr>\n",
       "      <th>SRR1550981</th>\n",
       "      <td>32</td>\n",
       "      <td>--</td>\n",
       "      <td>Whole Blood</td>\n",
       "      <td>June 26 2012</td>\n",
       "      <td>Healthy Control</td>\n",
       "      <td>44</td>\n",
       "      <td>F</td>\n",
       "      <td>21</td>\n",
       "      <td>Hispanic</td>\n",
       "      <td>44_Tempus</td>\n",
       "      <td>--</td>\n",
       "      <td>--</td>\n",
       "      <td>--</td>\n",
       "      <td>--</td>\n",
       "      <td>--</td>\n",
       "      <td>0.047822</td>\n",
       "    </tr>\n",
       "    <tr>\n",
       "      <th>SRR1551048</th>\n",
       "      <td>29</td>\n",
       "      <td>2000000</td>\n",
       "      <td>Monocytes</td>\n",
       "      <td>January 25 2012</td>\n",
       "      <td>Healthy Control</td>\n",
       "      <td>20</td>\n",
       "      <td>F</td>\n",
       "      <td>2</td>\n",
       "      <td>White</td>\n",
       "      <td>20_Monocytes</td>\n",
       "      <td>--</td>\n",
       "      <td>--</td>\n",
       "      <td>--</td>\n",
       "      <td>--</td>\n",
       "      <td>--</td>\n",
       "      <td>0.033105</td>\n",
       "    </tr>\n",
       "    <tr>\n",
       "      <th>SRR1551087</th>\n",
       "      <td>42</td>\n",
       "      <td>--</td>\n",
       "      <td>Whole Blood</td>\n",
       "      <td>June 19 2012</td>\n",
       "      <td>Type 1 Diabetes</td>\n",
       "      <td>40</td>\n",
       "      <td>M</td>\n",
       "      <td>4</td>\n",
       "      <td>White</td>\n",
       "      <td>40_Tempus</td>\n",
       "      <td>--</td>\n",
       "      <td>--</td>\n",
       "      <td>--</td>\n",
       "      <td>--</td>\n",
       "      <td>6</td>\n",
       "      <td>0.021139</td>\n",
       "    </tr>\n",
       "    <tr>\n",
       "      <th>SRR1551050</th>\n",
       "      <td>29</td>\n",
       "      <td>2000000</td>\n",
       "      <td>CD4</td>\n",
       "      <td>January 25 2012</td>\n",
       "      <td>Healthy Control</td>\n",
       "      <td>20</td>\n",
       "      <td>F</td>\n",
       "      <td>5</td>\n",
       "      <td>White</td>\n",
       "      <td>20_CD4T</td>\n",
       "      <td>--</td>\n",
       "      <td>--</td>\n",
       "      <td>--</td>\n",
       "      <td>--</td>\n",
       "      <td>--</td>\n",
       "      <td>0.017957</td>\n",
       "    </tr>\n",
       "    <tr>\n",
       "      <th>SRR1551088</th>\n",
       "      <td>21</td>\n",
       "      <td>12825000</td>\n",
       "      <td>Neutrophils</td>\n",
       "      <td>June 20 2012</td>\n",
       "      <td>Type 1 Diabetes</td>\n",
       "      <td>41</td>\n",
       "      <td>F</td>\n",
       "      <td>6</td>\n",
       "      <td>White</td>\n",
       "      <td>41_Neutrophils</td>\n",
       "      <td>--</td>\n",
       "      <td>--</td>\n",
       "      <td>--</td>\n",
       "      <td>--</td>\n",
       "      <td>2.5</td>\n",
       "      <td>0.016866</td>\n",
       "    </tr>\n",
       "    <tr>\n",
       "      <th>SRR1551056</th>\n",
       "      <td>22</td>\n",
       "      <td>363469</td>\n",
       "      <td>B-cells</td>\n",
       "      <td>February 2 2012</td>\n",
       "      <td>Healthy Control</td>\n",
       "      <td>21</td>\n",
       "      <td>F</td>\n",
       "      <td>7</td>\n",
       "      <td>White</td>\n",
       "      <td>21_Bcells</td>\n",
       "      <td>--</td>\n",
       "      <td>--</td>\n",
       "      <td>--</td>\n",
       "      <td>--</td>\n",
       "      <td>--</td>\n",
       "      <td>0.014016</td>\n",
       "    </tr>\n",
       "    <tr>\n",
       "      <th>SRR1551068</th>\n",
       "      <td>30</td>\n",
       "      <td>17887500</td>\n",
       "      <td>Neutrophils</td>\n",
       "      <td>August 21 2012</td>\n",
       "      <td>Healthy Control</td>\n",
       "      <td>53</td>\n",
       "      <td>F</td>\n",
       "      <td>18</td>\n",
       "      <td>White</td>\n",
       "      <td>53_Neutrophils</td>\n",
       "      <td>--</td>\n",
       "      <td>--</td>\n",
       "      <td>--</td>\n",
       "      <td>--</td>\n",
       "      <td>--</td>\n",
       "      <td>0.012291</td>\n",
       "    </tr>\n",
       "    <tr>\n",
       "      <th>SRR1551075</th>\n",
       "      <td>--</td>\n",
       "      <td>15862500</td>\n",
       "      <td>Neutrophils</td>\n",
       "      <td>August 22 2012</td>\n",
       "      <td>ALS</td>\n",
       "      <td>54</td>\n",
       "      <td>--</td>\n",
       "      <td>10</td>\n",
       "      <td>--</td>\n",
       "      <td>54_Neutrophils</td>\n",
       "      <td>--</td>\n",
       "      <td>--</td>\n",
       "      <td>--</td>\n",
       "      <td>--</td>\n",
       "      <td>--</td>\n",
       "      <td>0.012157</td>\n",
       "    </tr>\n",
       "    <tr>\n",
       "      <th>SRR1550987</th>\n",
       "      <td>32</td>\n",
       "      <td>2000000</td>\n",
       "      <td>Monocytes</td>\n",
       "      <td>June 26 2012</td>\n",
       "      <td>Healthy Control</td>\n",
       "      <td>44</td>\n",
       "      <td>F</td>\n",
       "      <td>23</td>\n",
       "      <td>Hispanic</td>\n",
       "      <td>44_Monocytes</td>\n",
       "      <td>--</td>\n",
       "      <td>--</td>\n",
       "      <td>--</td>\n",
       "      <td>--</td>\n",
       "      <td>--</td>\n",
       "      <td>0.009150</td>\n",
       "    </tr>\n",
       "    <tr>\n",
       "      <th>SRR1551049</th>\n",
       "      <td>29</td>\n",
       "      <td>2000000</td>\n",
       "      <td>B-cells</td>\n",
       "      <td>January 25 2012</td>\n",
       "      <td>Healthy Control</td>\n",
       "      <td>20</td>\n",
       "      <td>F</td>\n",
       "      <td>4</td>\n",
       "      <td>White</td>\n",
       "      <td>20_Bcells</td>\n",
       "      <td>--</td>\n",
       "      <td>--</td>\n",
       "      <td>--</td>\n",
       "      <td>--</td>\n",
       "      <td>--</td>\n",
       "      <td>0.008582</td>\n",
       "    </tr>\n",
       "    <tr>\n",
       "      <th>SRR1551057</th>\n",
       "      <td>22</td>\n",
       "      <td>2000000</td>\n",
       "      <td>CD4</td>\n",
       "      <td>February 2 2012</td>\n",
       "      <td>Healthy Control</td>\n",
       "      <td>21</td>\n",
       "      <td>F</td>\n",
       "      <td>12</td>\n",
       "      <td>White</td>\n",
       "      <td>21_CD4T</td>\n",
       "      <td>--</td>\n",
       "      <td>--</td>\n",
       "      <td>--</td>\n",
       "      <td>--</td>\n",
       "      <td>--</td>\n",
       "      <td>0.007999</td>\n",
       "    </tr>\n",
       "    <tr>\n",
       "      <th>SRR1551005</th>\n",
       "      <td>24</td>\n",
       "      <td>2000000</td>\n",
       "      <td>CD4</td>\n",
       "      <td>May 23 2012</td>\n",
       "      <td>Type 1 Diabetes</td>\n",
       "      <td>34</td>\n",
       "      <td>F</td>\n",
       "      <td>15</td>\n",
       "      <td>White</td>\n",
       "      <td>34_CD4T</td>\n",
       "      <td>--</td>\n",
       "      <td>--</td>\n",
       "      <td>--</td>\n",
       "      <td>--</td>\n",
       "      <td>7</td>\n",
       "      <td>0.003183</td>\n",
       "    </tr>\n",
       "    <tr>\n",
       "      <th>SRR1551074</th>\n",
       "      <td>30</td>\n",
       "      <td>--</td>\n",
       "      <td>Whole Blood</td>\n",
       "      <td>August 21 2012</td>\n",
       "      <td>Healthy Control</td>\n",
       "      <td>53</td>\n",
       "      <td>F</td>\n",
       "      <td>8</td>\n",
       "      <td>White</td>\n",
       "      <td>53_Tempus</td>\n",
       "      <td>--</td>\n",
       "      <td>--</td>\n",
       "      <td>--</td>\n",
       "      <td>--</td>\n",
       "      <td>--</td>\n",
       "      <td>0.002934</td>\n",
       "    </tr>\n",
       "    <tr>\n",
       "      <th>SRR1550989</th>\n",
       "      <td>32</td>\n",
       "      <td>1071990</td>\n",
       "      <td>CD4</td>\n",
       "      <td>June 26 2012</td>\n",
       "      <td>Healthy Control</td>\n",
       "      <td>44</td>\n",
       "      <td>F</td>\n",
       "      <td>25</td>\n",
       "      <td>Hispanic</td>\n",
       "      <td>44_CD4T</td>\n",
       "      <td>--</td>\n",
       "      <td>--</td>\n",
       "      <td>--</td>\n",
       "      <td>--</td>\n",
       "      <td>--</td>\n",
       "      <td>0.002654</td>\n",
       "    </tr>\n",
       "    <tr>\n",
       "      <th>SRR1551002</th>\n",
       "      <td>24</td>\n",
       "      <td>19800000</td>\n",
       "      <td>Neutrophils</td>\n",
       "      <td>May 23 2012</td>\n",
       "      <td>Type 1 Diabetes</td>\n",
       "      <td>34</td>\n",
       "      <td>F</td>\n",
       "      <td>20</td>\n",
       "      <td>White</td>\n",
       "      <td>34_Neutrophils</td>\n",
       "      <td>--</td>\n",
       "      <td>--</td>\n",
       "      <td>--</td>\n",
       "      <td>--</td>\n",
       "      <td>7</td>\n",
       "      <td>0.001375</td>\n",
       "    </tr>\n",
       "    <tr>\n",
       "      <th>SRR1551011</th>\n",
       "      <td>27</td>\n",
       "      <td>2000000</td>\n",
       "      <td>CD4</td>\n",
       "      <td>June 6 2012</td>\n",
       "      <td>Type 1 Diabetes</td>\n",
       "      <td>37</td>\n",
       "      <td>F</td>\n",
       "      <td>27</td>\n",
       "      <td>White</td>\n",
       "      <td>37_CD4T</td>\n",
       "      <td>--</td>\n",
       "      <td>--</td>\n",
       "      <td>--</td>\n",
       "      <td>--</td>\n",
       "      <td>3</td>\n",
       "      <td>-0.000080</td>\n",
       "    </tr>\n",
       "    <tr>\n",
       "      <th>SRR1551051</th>\n",
       "      <td>29</td>\n",
       "      <td>1500000</td>\n",
       "      <td>CD8</td>\n",
       "      <td>January 25 2012</td>\n",
       "      <td>Healthy Control</td>\n",
       "      <td>20</td>\n",
       "      <td>F</td>\n",
       "      <td>27</td>\n",
       "      <td>White</td>\n",
       "      <td>20_CD8T</td>\n",
       "      <td>--</td>\n",
       "      <td>--</td>\n",
       "      <td>--</td>\n",
       "      <td>--</td>\n",
       "      <td>--</td>\n",
       "      <td>-0.000805</td>\n",
       "    </tr>\n",
       "    <tr>\n",
       "      <th>SRR1550995</th>\n",
       "      <td>52</td>\n",
       "      <td>2000000</td>\n",
       "      <td>CD4</td>\n",
       "      <td>May 21 2012</td>\n",
       "      <td>MS pretreatment</td>\n",
       "      <td>31</td>\n",
       "      <td>F</td>\n",
       "      <td>5</td>\n",
       "      <td>White</td>\n",
       "      <td>31_CD4T</td>\n",
       "      <td>Y</td>\n",
       "      <td>1</td>\n",
       "      <td>3 weeks, oral</td>\n",
       "      <td>1</td>\n",
       "      <td>--</td>\n",
       "      <td>-0.001154</td>\n",
       "    </tr>\n",
       "    <tr>\n",
       "      <th>SRR1550984</th>\n",
       "      <td>24</td>\n",
       "      <td>--</td>\n",
       "      <td>Whole Blood</td>\n",
       "      <td>May 23 2012</td>\n",
       "      <td>Type 1 Diabetes</td>\n",
       "      <td>34</td>\n",
       "      <td>F</td>\n",
       "      <td>13</td>\n",
       "      <td>White</td>\n",
       "      <td>34_Tempus</td>\n",
       "      <td>--</td>\n",
       "      <td>--</td>\n",
       "      <td>--</td>\n",
       "      <td>--</td>\n",
       "      <td>7</td>\n",
       "      <td>-0.002335</td>\n",
       "    </tr>\n",
       "    <tr>\n",
       "      <th>SRR1550988</th>\n",
       "      <td>32</td>\n",
       "      <td>1012333</td>\n",
       "      <td>B-cells</td>\n",
       "      <td>June 26 2012</td>\n",
       "      <td>Healthy Control</td>\n",
       "      <td>44</td>\n",
       "      <td>F</td>\n",
       "      <td>6</td>\n",
       "      <td>Hispanic</td>\n",
       "      <td>44_Bcells</td>\n",
       "      <td>--</td>\n",
       "      <td>--</td>\n",
       "      <td>--</td>\n",
       "      <td>--</td>\n",
       "      <td>--</td>\n",
       "      <td>-0.002397</td>\n",
       "    </tr>\n",
       "    <tr>\n",
       "      <th>SRR1551091</th>\n",
       "      <td>21</td>\n",
       "      <td>2000000</td>\n",
       "      <td>CD4</td>\n",
       "      <td>June 20 2012</td>\n",
       "      <td>Type 1 Diabetes</td>\n",
       "      <td>41</td>\n",
       "      <td>F</td>\n",
       "      <td>7</td>\n",
       "      <td>White</td>\n",
       "      <td>41_CD4T</td>\n",
       "      <td>--</td>\n",
       "      <td>--</td>\n",
       "      <td>--</td>\n",
       "      <td>--</td>\n",
       "      <td>2.5</td>\n",
       "      <td>-0.002503</td>\n",
       "    </tr>\n",
       "    <tr>\n",
       "      <th>SRR1551090</th>\n",
       "      <td>21</td>\n",
       "      <td>484043</td>\n",
       "      <td>B-cells</td>\n",
       "      <td>June 20 2012</td>\n",
       "      <td>Type 1 Diabetes</td>\n",
       "      <td>41</td>\n",
       "      <td>F</td>\n",
       "      <td>3</td>\n",
       "      <td>White</td>\n",
       "      <td>41_Bcells</td>\n",
       "      <td>--</td>\n",
       "      <td>--</td>\n",
       "      <td>--</td>\n",
       "      <td>--</td>\n",
       "      <td>2.5</td>\n",
       "      <td>-0.002859</td>\n",
       "    </tr>\n",
       "    <tr>\n",
       "      <th>SRR1551033</th>\n",
       "      <td>36</td>\n",
       "      <td>41000000</td>\n",
       "      <td>Neutrophils</td>\n",
       "      <td>June 28 2012</td>\n",
       "      <td>MS pretreatment</td>\n",
       "      <td>45</td>\n",
       "      <td>F</td>\n",
       "      <td>16</td>\n",
       "      <td>White</td>\n",
       "      <td>45_Neutrophils</td>\n",
       "      <td>N</td>\n",
       "      <td>47</td>\n",
       "      <td>--</td>\n",
       "      <td>10</td>\n",
       "      <td>--</td>\n",
       "      <td>-0.002875</td>\n",
       "    </tr>\n",
       "    <tr>\n",
       "      <th>SRR1551084</th>\n",
       "      <td>42</td>\n",
       "      <td>1275892</td>\n",
       "      <td>B-cells</td>\n",
       "      <td>June 19 2012</td>\n",
       "      <td>Type 1 Diabetes</td>\n",
       "      <td>40</td>\n",
       "      <td>M</td>\n",
       "      <td>11</td>\n",
       "      <td>White</td>\n",
       "      <td>40_Bcells</td>\n",
       "      <td>--</td>\n",
       "      <td>--</td>\n",
       "      <td>--</td>\n",
       "      <td>--</td>\n",
       "      <td>6</td>\n",
       "      <td>-0.003058</td>\n",
       "    </tr>\n",
       "    <tr>\n",
       "      <th>SRR1551029</th>\n",
       "      <td>59</td>\n",
       "      <td>2000000</td>\n",
       "      <td>CD4</td>\n",
       "      <td>July 6 2012</td>\n",
       "      <td>Sepsis</td>\n",
       "      <td>50</td>\n",
       "      <td>F</td>\n",
       "      <td>2</td>\n",
       "      <td>Asian</td>\n",
       "      <td>50_CD4T</td>\n",
       "      <td>--</td>\n",
       "      <td>--</td>\n",
       "      <td>--</td>\n",
       "      <td>--</td>\n",
       "      <td>--</td>\n",
       "      <td>-0.003155</td>\n",
       "    </tr>\n",
       "    <tr>\n",
       "      <th>SRR1551094</th>\n",
       "      <td>21</td>\n",
       "      <td>--</td>\n",
       "      <td>Whole Blood</td>\n",
       "      <td>June 20 2012</td>\n",
       "      <td>Type 1 Diabetes</td>\n",
       "      <td>41</td>\n",
       "      <td>F</td>\n",
       "      <td>14</td>\n",
       "      <td>White</td>\n",
       "      <td>41_Tempus</td>\n",
       "      <td>--</td>\n",
       "      <td>--</td>\n",
       "      <td>--</td>\n",
       "      <td>--</td>\n",
       "      <td>2.5</td>\n",
       "      <td>-0.003942</td>\n",
       "    </tr>\n",
       "    <tr>\n",
       "      <th>SRR1551023</th>\n",
       "      <td>39</td>\n",
       "      <td>2000000</td>\n",
       "      <td>CD4</td>\n",
       "      <td>July 5 2012</td>\n",
       "      <td>Sepsis</td>\n",
       "      <td>49</td>\n",
       "      <td>F</td>\n",
       "      <td>12</td>\n",
       "      <td>White</td>\n",
       "      <td>49_CD4T</td>\n",
       "      <td>--</td>\n",
       "      <td>--</td>\n",
       "      <td>--</td>\n",
       "      <td>--</td>\n",
       "      <td>--</td>\n",
       "      <td>-0.004144</td>\n",
       "    </tr>\n",
       "    <tr>\n",
       "      <th>SRR1551085</th>\n",
       "      <td>42</td>\n",
       "      <td>2000000</td>\n",
       "      <td>CD4</td>\n",
       "      <td>June 19 2012</td>\n",
       "      <td>Type 1 Diabetes</td>\n",
       "      <td>40</td>\n",
       "      <td>M</td>\n",
       "      <td>5</td>\n",
       "      <td>White</td>\n",
       "      <td>40_CD4T</td>\n",
       "      <td>--</td>\n",
       "      <td>--</td>\n",
       "      <td>--</td>\n",
       "      <td>--</td>\n",
       "      <td>6</td>\n",
       "      <td>-0.004438</td>\n",
       "    </tr>\n",
       "    <tr>\n",
       "      <th>SRR1551064</th>\n",
       "      <td>--</td>\n",
       "      <td>2000000</td>\n",
       "      <td>CD4</td>\n",
       "      <td>August 16 2012</td>\n",
       "      <td>ALS</td>\n",
       "      <td>52</td>\n",
       "      <td>--</td>\n",
       "      <td>15</td>\n",
       "      <td>--</td>\n",
       "      <td>52_CD4T</td>\n",
       "      <td>--</td>\n",
       "      <td>--</td>\n",
       "      <td>--</td>\n",
       "      <td>--</td>\n",
       "      <td>--</td>\n",
       "      <td>-0.004971</td>\n",
       "    </tr>\n",
       "    <tr>\n",
       "      <th>SRR1551078</th>\n",
       "      <td>--</td>\n",
       "      <td>2000000</td>\n",
       "      <td>CD4</td>\n",
       "      <td>August 22 2012</td>\n",
       "      <td>ALS</td>\n",
       "      <td>54</td>\n",
       "      <td>--</td>\n",
       "      <td>25</td>\n",
       "      <td>--</td>\n",
       "      <td>54_CD4T</td>\n",
       "      <td>--</td>\n",
       "      <td>--</td>\n",
       "      <td>--</td>\n",
       "      <td>--</td>\n",
       "      <td>--</td>\n",
       "      <td>-0.005091</td>\n",
       "    </tr>\n",
       "    <tr>\n",
       "      <th>SRR1551015</th>\n",
       "      <td>80</td>\n",
       "      <td>73307</td>\n",
       "      <td>B-cells</td>\n",
       "      <td>June 22 2012</td>\n",
       "      <td>Sepsis</td>\n",
       "      <td>43</td>\n",
       "      <td>M</td>\n",
       "      <td>3</td>\n",
       "      <td>White</td>\n",
       "      <td>43_Bcells</td>\n",
       "      <td>--</td>\n",
       "      <td>--</td>\n",
       "      <td>--</td>\n",
       "      <td>--</td>\n",
       "      <td>--</td>\n",
       "      <td>-0.006032</td>\n",
       "    </tr>\n",
       "    <tr>\n",
       "      <th>SRR1551071</th>\n",
       "      <td>30</td>\n",
       "      <td>2000000</td>\n",
       "      <td>CD4</td>\n",
       "      <td>August 21 2012</td>\n",
       "      <td>Healthy Control</td>\n",
       "      <td>53</td>\n",
       "      <td>F</td>\n",
       "      <td>9</td>\n",
       "      <td>White</td>\n",
       "      <td>53_CD4T</td>\n",
       "      <td>--</td>\n",
       "      <td>--</td>\n",
       "      <td>--</td>\n",
       "      <td>--</td>\n",
       "      <td>--</td>\n",
       "      <td>-0.006073</td>\n",
       "    </tr>\n",
       "    <tr>\n",
       "      <th>SRR1551004</th>\n",
       "      <td>24</td>\n",
       "      <td>1006332</td>\n",
       "      <td>B-cells</td>\n",
       "      <td>May 23 2012</td>\n",
       "      <td>Type 1 Diabetes</td>\n",
       "      <td>34</td>\n",
       "      <td>F</td>\n",
       "      <td>21</td>\n",
       "      <td>White</td>\n",
       "      <td>34_Bcells</td>\n",
       "      <td>--</td>\n",
       "      <td>--</td>\n",
       "      <td>--</td>\n",
       "      <td>--</td>\n",
       "      <td>7</td>\n",
       "      <td>-0.006440</td>\n",
       "    </tr>\n",
       "  </tbody>\n",
       "</table>\n",
       "</div>"
      ],
      "text/plain": [
       "                     age  cellcount     celltype   collectiondate  \\\n",
       "project   run                                                       \n",
       "SRP045500 SRR1551040  36   34537500  Neutrophils     June 29 2012   \n",
       "          SRR1550997  52  190000000  Neutrophils      May 22 2012   \n",
       "          SRR1551101  35   10237500  Neutrophils   August 24 2012   \n",
       "          SRR1551046  36         --  Whole Blood     June 29 2012   \n",
       "          SRR1550983  52         --  Whole Blood      May 22 2012   \n",
       "          SRR1551107  35         --  Whole Blood   August 24 2012   \n",
       "          SRR1551047  29   42250000  Neutrophils  January 25 2012   \n",
       "          SRR1551054  22    3700000  Neutrophils  February 2 2012   \n",
       "          SRR1551041  36    2000000    Monocytes     June 29 2012   \n",
       "          SRR1550998  52    2000000    Monocytes      May 22 2012   \n",
       "          SRR1551102  35    2000000    Monocytes   August 24 2012   \n",
       "          SRR1551042  36     487967      B-cells     June 29 2012   \n",
       "          SRR1550999  52     273769      B-cells      May 22 2012   \n",
       "          SRR1551045  36     301460           NK     June 29 2012   \n",
       "          SRR1551043  36    2000000          CD4     June 29 2012   \n",
       "          SRR1551000  52    2000000          CD4      May 22 2012   \n",
       "          SRR1551060  22         --  Whole Blood  February 2 2012   \n",
       "          SRR1550986  32   14737500  Neutrophils     June 26 2012   \n",
       "          SRR1551103  35     640619      B-cells   August 24 2012   \n",
       "          SRR1551082  42   17550000  Neutrophils     June 19 2012   \n",
       "          SRR1551001  52    2000000          CD8      May 22 2012   \n",
       "          SRR1551053  29         --  Whole Blood  January 25 2012   \n",
       "          SRR1551104  35    2000000          CD4   August 24 2012   \n",
       "          SRR1551044  36    2000000          CD8     June 29 2012   \n",
       "          SRR1551106  35     310438           NK   August 24 2012   \n",
       "          SRR1551105  35    1352936          CD8   August 24 2012   \n",
       "          SRR1551055  22    2000000    Monocytes  February 2 2012   \n",
       "          SRR1550981  32         --  Whole Blood     June 26 2012   \n",
       "          SRR1551048  29    2000000    Monocytes  January 25 2012   \n",
       "          SRR1551087  42         --  Whole Blood     June 19 2012   \n",
       "          SRR1551050  29    2000000          CD4  January 25 2012   \n",
       "          SRR1551088  21   12825000  Neutrophils     June 20 2012   \n",
       "          SRR1551056  22     363469      B-cells  February 2 2012   \n",
       "          SRR1551068  30   17887500  Neutrophils   August 21 2012   \n",
       "          SRR1551075  --   15862500  Neutrophils   August 22 2012   \n",
       "          SRR1550987  32    2000000    Monocytes     June 26 2012   \n",
       "          SRR1551049  29    2000000      B-cells  January 25 2012   \n",
       "          SRR1551057  22    2000000          CD4  February 2 2012   \n",
       "          SRR1551005  24    2000000          CD4      May 23 2012   \n",
       "          SRR1551074  30         --  Whole Blood   August 21 2012   \n",
       "          SRR1550989  32    1071990          CD4     June 26 2012   \n",
       "          SRR1551002  24   19800000  Neutrophils      May 23 2012   \n",
       "          SRR1551011  27    2000000          CD4      June 6 2012   \n",
       "          SRR1551051  29    1500000          CD8  January 25 2012   \n",
       "          SRR1550995  52    2000000          CD4      May 21 2012   \n",
       "          SRR1550984  24         --  Whole Blood      May 23 2012   \n",
       "          SRR1550988  32    1012333      B-cells     June 26 2012   \n",
       "          SRR1551091  21    2000000          CD4     June 20 2012   \n",
       "          SRR1551090  21     484043      B-cells     June 20 2012   \n",
       "          SRR1551033  36   41000000  Neutrophils     June 28 2012   \n",
       "          SRR1551084  42    1275892      B-cells     June 19 2012   \n",
       "          SRR1551029  59    2000000          CD4      July 6 2012   \n",
       "          SRR1551094  21         --  Whole Blood     June 20 2012   \n",
       "          SRR1551023  39    2000000          CD4      July 5 2012   \n",
       "          SRR1551085  42    2000000          CD4     June 19 2012   \n",
       "          SRR1551064  --    2000000          CD4   August 16 2012   \n",
       "          SRR1551078  --    2000000          CD4   August 22 2012   \n",
       "          SRR1551015  80      73307      B-cells     June 22 2012   \n",
       "          SRR1551071  30    2000000          CD4   August 21 2012   \n",
       "          SRR1551004  24    1006332      B-cells      May 23 2012   \n",
       "\n",
       "                         diseasestatus donorid gender index      race  \\\n",
       "project   run                                                           \n",
       "SRP045500 SRR1551040  MS posttreatment      46      F    22     White   \n",
       "          SRR1550997  MS posttreatment      33      F     6     White   \n",
       "          SRR1551101  MS posttreatment      56      F    16     White   \n",
       "          SRR1551046  MS posttreatment      46      F    27     White   \n",
       "          SRR1550983  MS posttreatment      33      F     9     White   \n",
       "          SRR1551107  MS posttreatment      56      F    19     White   \n",
       "          SRR1551047   Healthy Control      20      F     1     White   \n",
       "          SRR1551054   Healthy Control      21      F    21     White   \n",
       "          SRR1551041  MS posttreatment      46      F     7     White   \n",
       "          SRR1550998  MS posttreatment      33      F    10     White   \n",
       "          SRR1551102  MS posttreatment      56      F    15     White   \n",
       "          SRR1551042  MS posttreatment      46      F    25     White   \n",
       "          SRR1550999  MS posttreatment      33      F     7     White   \n",
       "          SRR1551045  MS posttreatment      46      F     1     White   \n",
       "          SRR1551043  MS posttreatment      46      F    27     White   \n",
       "          SRR1551000  MS posttreatment      33      F    11     White   \n",
       "          SRR1551060   Healthy Control      21      F    20     White   \n",
       "          SRR1550986   Healthy Control      44      F     5  Hispanic   \n",
       "          SRR1551103  MS posttreatment      56      F    10     White   \n",
       "          SRR1551082   Type 1 Diabetes      40      M     1     White   \n",
       "          SRR1551001  MS posttreatment      33      F    12     White   \n",
       "          SRR1551053   Healthy Control      20      F     6     White   \n",
       "          SRR1551104  MS posttreatment      56      F    21     White   \n",
       "          SRR1551044  MS posttreatment      46      F    11     White   \n",
       "          SRR1551106  MS posttreatment      56      F     9     White   \n",
       "          SRR1551105  MS posttreatment      56      F    23     White   \n",
       "          SRR1551055   Healthy Control      21      F     3     White   \n",
       "          SRR1550981   Healthy Control      44      F    21  Hispanic   \n",
       "          SRR1551048   Healthy Control      20      F     2     White   \n",
       "          SRR1551087   Type 1 Diabetes      40      M     4     White   \n",
       "          SRR1551050   Healthy Control      20      F     5     White   \n",
       "          SRR1551088   Type 1 Diabetes      41      F     6     White   \n",
       "          SRR1551056   Healthy Control      21      F     7     White   \n",
       "          SRR1551068   Healthy Control      53      F    18     White   \n",
       "          SRR1551075               ALS      54     --    10        --   \n",
       "          SRR1550987   Healthy Control      44      F    23  Hispanic   \n",
       "          SRR1551049   Healthy Control      20      F     4     White   \n",
       "          SRR1551057   Healthy Control      21      F    12     White   \n",
       "          SRR1551005   Type 1 Diabetes      34      F    15     White   \n",
       "          SRR1551074   Healthy Control      53      F     8     White   \n",
       "          SRR1550989   Healthy Control      44      F    25  Hispanic   \n",
       "          SRR1551002   Type 1 Diabetes      34      F    20     White   \n",
       "          SRR1551011   Type 1 Diabetes      37      F    27     White   \n",
       "          SRR1551051   Healthy Control      20      F    27     White   \n",
       "          SRR1550995   MS pretreatment      31      F     5     White   \n",
       "          SRR1550984   Type 1 Diabetes      34      F    13     White   \n",
       "          SRR1550988   Healthy Control      44      F     6  Hispanic   \n",
       "          SRR1551091   Type 1 Diabetes      41      F     7     White   \n",
       "          SRR1551090   Type 1 Diabetes      41      F     3     White   \n",
       "          SRR1551033   MS pretreatment      45      F    16     White   \n",
       "          SRR1551084   Type 1 Diabetes      40      M    11     White   \n",
       "          SRR1551029            Sepsis      50      F     2     Asian   \n",
       "          SRR1551094   Type 1 Diabetes      41      F    14     White   \n",
       "          SRR1551023            Sepsis      49      F    12     White   \n",
       "          SRR1551085   Type 1 Diabetes      40      M     5     White   \n",
       "          SRR1551064               ALS      52     --    15        --   \n",
       "          SRR1551078               ALS      54     --    25        --   \n",
       "          SRR1551015            Sepsis      43      M     3     White   \n",
       "          SRR1551071   Healthy Control      53      F     9     White   \n",
       "          SRR1551004   Type 1 Diabetes      34      F    21     White   \n",
       "\n",
       "                          samplename smoker time since last flare (months)  \\\n",
       "project   run                                                                \n",
       "SRP045500 SRR1551040  46_Neutrophils      N                             47   \n",
       "          SRR1550997  33_Neutrophils      Y                              1   \n",
       "          SRR1551101  56_Neutrophils      N                              1   \n",
       "          SRR1551046       46_Tempus      N                             47   \n",
       "          SRR1550983       33_Tempus      Y                              1   \n",
       "          SRR1551107       56_Tempus      N                              1   \n",
       "          SRR1551047  20_Neutrophils     --                             --   \n",
       "          SRR1551054  21_Neutrophils     --                             --   \n",
       "          SRR1551041    46_Monocytes      N                             47   \n",
       "          SRR1550998    33_Monocytes      Y                              1   \n",
       "          SRR1551102    56_Monocytes      N                              1   \n",
       "          SRR1551042       46_Bcells      N                             47   \n",
       "          SRR1550999       33_Bcells      Y                              1   \n",
       "          SRR1551045           46_NK      N                             47   \n",
       "          SRR1551043         46_CD4T      N                             47   \n",
       "          SRR1551000         33_CD4T      Y                              1   \n",
       "          SRR1551060       21_Tempus     --                             --   \n",
       "          SRR1550986  44_Neutrophils     --                             --   \n",
       "          SRR1551103       56_Bcells      N                              1   \n",
       "          SRR1551082  40_Neutrophils     --                             --   \n",
       "          SRR1551001         33_CD8T      Y                              1   \n",
       "          SRR1551053       20_Tempus     --                             --   \n",
       "          SRR1551104         56_CD4T      N                              1   \n",
       "          SRR1551044         46_CD8T      N                             47   \n",
       "          SRR1551106           56_NK      N                              1   \n",
       "          SRR1551105         56_CD8T      N                              1   \n",
       "          SRR1551055    21_Monocytes     --                             --   \n",
       "          SRR1550981       44_Tempus     --                             --   \n",
       "          SRR1551048    20_Monocytes     --                             --   \n",
       "          SRR1551087       40_Tempus     --                             --   \n",
       "          SRR1551050         20_CD4T     --                             --   \n",
       "          SRR1551088  41_Neutrophils     --                             --   \n",
       "          SRR1551056       21_Bcells     --                             --   \n",
       "          SRR1551068  53_Neutrophils     --                             --   \n",
       "          SRR1551075  54_Neutrophils     --                             --   \n",
       "          SRR1550987    44_Monocytes     --                             --   \n",
       "          SRR1551049       20_Bcells     --                             --   \n",
       "          SRR1551057         21_CD4T     --                             --   \n",
       "          SRR1551005         34_CD4T     --                             --   \n",
       "          SRR1551074       53_Tempus     --                             --   \n",
       "          SRR1550989         44_CD4T     --                             --   \n",
       "          SRR1551002  34_Neutrophils     --                             --   \n",
       "          SRR1551011         37_CD4T     --                             --   \n",
       "          SRR1551051         20_CD8T     --                             --   \n",
       "          SRR1550995         31_CD4T      Y                              1   \n",
       "          SRR1550984       34_Tempus     --                             --   \n",
       "          SRR1550988       44_Bcells     --                             --   \n",
       "          SRR1551091         41_CD4T     --                             --   \n",
       "          SRR1551090       41_Bcells     --                             --   \n",
       "          SRR1551033  45_Neutrophils      N                             47   \n",
       "          SRR1551084       40_Bcells     --                             --   \n",
       "          SRR1551029         50_CD4T     --                             --   \n",
       "          SRR1551094       41_Tempus     --                             --   \n",
       "          SRR1551023         49_CD4T     --                             --   \n",
       "          SRR1551085         40_CD4T     --                             --   \n",
       "          SRR1551064         52_CD4T     --                             --   \n",
       "          SRR1551078         54_CD4T     --                             --   \n",
       "          SRR1551015       43_Bcells     --                             --   \n",
       "          SRR1551071         53_CD4T     --                             --   \n",
       "          SRR1551004       34_Bcells     --                             --   \n",
       "\n",
       "                     time since steroid dose time since symptom onset (yrs)  \\\n",
       "project   run                                                                 \n",
       "SRP045500 SRR1551040                      --                             10   \n",
       "          SRR1550997           3 weeks, oral                              1   \n",
       "          SRR1551101             1 month, IV                            0.5   \n",
       "          SRR1551046                      --                             10   \n",
       "          SRR1550983           3 weeks, oral                              1   \n",
       "          SRR1551107             1 month, IV                            0.5   \n",
       "          SRR1551047                      --                             --   \n",
       "          SRR1551054                      --                             --   \n",
       "          SRR1551041                      --                             10   \n",
       "          SRR1550998           3 weeks, oral                              1   \n",
       "          SRR1551102             1 month, IV                            0.5   \n",
       "          SRR1551042                      --                             10   \n",
       "          SRR1550999           3 weeks, oral                              1   \n",
       "          SRR1551045                      --                             10   \n",
       "          SRR1551043                      --                             10   \n",
       "          SRR1551000           3 weeks, oral                              1   \n",
       "          SRR1551060                      --                             --   \n",
       "          SRR1550986                      --                             --   \n",
       "          SRR1551103             1 month, IV                            0.5   \n",
       "          SRR1551082                      --                             --   \n",
       "          SRR1551001           3 weeks, oral                              1   \n",
       "          SRR1551053                      --                             --   \n",
       "          SRR1551104             1 month, IV                            0.5   \n",
       "          SRR1551044                      --                             10   \n",
       "          SRR1551106             1 month, IV                            0.5   \n",
       "          SRR1551105             1 month, IV                            0.5   \n",
       "          SRR1551055                      --                             --   \n",
       "          SRR1550981                      --                             --   \n",
       "          SRR1551048                      --                             --   \n",
       "          SRR1551087                      --                             --   \n",
       "          SRR1551050                      --                             --   \n",
       "          SRR1551088                      --                             --   \n",
       "          SRR1551056                      --                             --   \n",
       "          SRR1551068                      --                             --   \n",
       "          SRR1551075                      --                             --   \n",
       "          SRR1550987                      --                             --   \n",
       "          SRR1551049                      --                             --   \n",
       "          SRR1551057                      --                             --   \n",
       "          SRR1551005                      --                             --   \n",
       "          SRR1551074                      --                             --   \n",
       "          SRR1550989                      --                             --   \n",
       "          SRR1551002                      --                             --   \n",
       "          SRR1551011                      --                             --   \n",
       "          SRR1551051                      --                             --   \n",
       "          SRR1550995           3 weeks, oral                              1   \n",
       "          SRR1550984                      --                             --   \n",
       "          SRR1550988                      --                             --   \n",
       "          SRR1551091                      --                             --   \n",
       "          SRR1551090                      --                             --   \n",
       "          SRR1551033                      --                             10   \n",
       "          SRR1551084                      --                             --   \n",
       "          SRR1551029                      --                             --   \n",
       "          SRR1551094                      --                             --   \n",
       "          SRR1551023                      --                             --   \n",
       "          SRR1551085                      --                             --   \n",
       "          SRR1551064                      --                             --   \n",
       "          SRR1551078                      --                             --   \n",
       "          SRR1551015                      --                             --   \n",
       "          SRR1551071                      --                             --   \n",
       "          SRR1551004                      --                             --   \n",
       "\n",
       "                     years since diagnosis     LV116  \n",
       "project   run                                         \n",
       "SRP045500 SRR1551040                    --  2.307126  \n",
       "          SRR1550997                    --  1.730614  \n",
       "          SRR1551101                    --  1.651573  \n",
       "          SRR1551046                    --  0.739608  \n",
       "          SRR1550983                    --  0.642043  \n",
       "          SRR1551107                    --  0.523484  \n",
       "          SRR1551047                    --  0.493593  \n",
       "          SRR1551054                    --  0.393106  \n",
       "          SRR1551041                    --  0.365628  \n",
       "          SRR1550998                    --  0.276318  \n",
       "          SRR1551102                    --  0.196628  \n",
       "          SRR1551042                    --  0.190920  \n",
       "          SRR1550999                    --  0.175113  \n",
       "          SRR1551045                    --  0.175028  \n",
       "          SRR1551043                    --  0.168327  \n",
       "          SRR1551000                    --  0.166757  \n",
       "          SRR1551060                    --  0.137682  \n",
       "          SRR1550986                    --  0.130220  \n",
       "          SRR1551103                    --  0.124546  \n",
       "          SRR1551082                     6  0.118749  \n",
       "          SRR1551001                    --  0.118561  \n",
       "          SRR1551053                    --  0.113863  \n",
       "          SRR1551104                    --  0.110456  \n",
       "          SRR1551044                    --  0.107513  \n",
       "          SRR1551106                    --  0.082022  \n",
       "          SRR1551105                    --  0.080185  \n",
       "          SRR1551055                    --  0.054378  \n",
       "          SRR1550981                    --  0.047822  \n",
       "          SRR1551048                    --  0.033105  \n",
       "          SRR1551087                     6  0.021139  \n",
       "          SRR1551050                    --  0.017957  \n",
       "          SRR1551088                   2.5  0.016866  \n",
       "          SRR1551056                    --  0.014016  \n",
       "          SRR1551068                    --  0.012291  \n",
       "          SRR1551075                    --  0.012157  \n",
       "          SRR1550987                    --  0.009150  \n",
       "          SRR1551049                    --  0.008582  \n",
       "          SRR1551057                    --  0.007999  \n",
       "          SRR1551005                     7  0.003183  \n",
       "          SRR1551074                    --  0.002934  \n",
       "          SRR1550989                    --  0.002654  \n",
       "          SRR1551002                     7  0.001375  \n",
       "          SRR1551011                     3 -0.000080  \n",
       "          SRR1551051                    -- -0.000805  \n",
       "          SRR1550995                    -- -0.001154  \n",
       "          SRR1550984                     7 -0.002335  \n",
       "          SRR1550988                    -- -0.002397  \n",
       "          SRR1551091                   2.5 -0.002503  \n",
       "          SRR1551090                   2.5 -0.002859  \n",
       "          SRR1551033                    -- -0.002875  \n",
       "          SRR1551084                     6 -0.003058  \n",
       "          SRR1551029                    -- -0.003155  \n",
       "          SRR1551094                   2.5 -0.003942  \n",
       "          SRR1551023                    -- -0.004144  \n",
       "          SRR1551085                     6 -0.004438  \n",
       "          SRR1551064                    -- -0.004971  \n",
       "          SRR1551078                    -- -0.005091  \n",
       "          SRR1551015                    -- -0.006032  \n",
       "          SRR1551071                    -- -0.006073  \n",
       "          SRR1551004                     7 -0.006440  "
      ]
     },
     "execution_count": 163,
     "metadata": {},
     "output_type": "execute_result"
    }
   ],
   "source": [
    "lv_data.loc[[\"SRP045500\"]].dropna(how=\"all\", axis=1).sort_values(\n",
    "    lv_name, ascending=False\n",
    ").head(60)"
   ]
  },
  {
   "cell_type": "code",
   "execution_count": null,
   "metadata": {},
   "outputs": [],
   "source": []
  },
  {
   "cell_type": "markdown",
   "metadata": {},
   "source": [
    "# Tissues"
   ]
  },
  {
   "cell_type": "code",
   "execution_count": null,
   "metadata": {},
   "outputs": [],
   "source": [
    "df = pd.concat(tissue_dfs[:N_TOP_LVS], ignore_index=True)\n",
    "# df = pd.concat([_get_lv_rank(x) for x in tissue_dfs[:N_TOP_LVS]], ignore_index=True)"
   ]
  },
  {
   "cell_type": "code",
   "execution_count": null,
   "metadata": {},
   "outputs": [],
   "source": [
    "df.groupby(\"attr\").mean().squeeze().sort_values(ascending=False).head(50)"
   ]
  },
  {
   "cell_type": "markdown",
   "metadata": {},
   "source": [
    "# LV analysis"
   ]
  },
  {
   "cell_type": "code",
   "execution_count": null,
   "metadata": {},
   "outputs": [],
   "source": [
    "lv_obj = LVAnalysis(\"LV116\", data)"
   ]
  },
  {
   "cell_type": "code",
   "execution_count": null,
   "metadata": {},
   "outputs": [],
   "source": [
    "lv_obj.lv_genes.head(20)"
   ]
  },
  {
   "cell_type": "code",
   "execution_count": null,
   "metadata": {},
   "outputs": [],
   "source": [
    "lv_data = lv_obj.get_experiments_data()"
   ]
  },
  {
   "cell_type": "code",
   "execution_count": null,
   "metadata": {},
   "outputs": [],
   "source": [
    "lv_data.shape"
   ]
  },
  {
   "cell_type": "code",
   "execution_count": null,
   "metadata": {},
   "outputs": [],
   "source": [
    "_tmp = lv_data[[\"cell type\", \"LV116\"]].dropna()"
   ]
  },
  {
   "cell_type": "code",
   "execution_count": null,
   "metadata": {},
   "outputs": [],
   "source": [
    "_tmp[_tmp[\"cell type\"].str.contains(\"M1\")]"
   ]
  },
  {
   "cell_type": "code",
   "execution_count": null,
   "metadata": {},
   "outputs": [],
   "source": [
    "_tmp[_tmp[\"cell type\"].str.contains(\"CD14\")]"
   ]
  },
  {
   "cell_type": "code",
   "execution_count": null,
   "metadata": {},
   "outputs": [],
   "source": []
  },
  {
   "cell_type": "code",
   "execution_count": null,
   "metadata": {},
   "outputs": [],
   "source": []
  },
  {
   "cell_type": "code",
   "execution_count": null,
   "metadata": {},
   "outputs": [],
   "source": [
    "lv_obj2 = LVAnalysis(\"LV881\", data)"
   ]
  },
  {
   "cell_type": "code",
   "execution_count": null,
   "metadata": {},
   "outputs": [],
   "source": [
    "lv_obj2.lv_genes.head(20)"
   ]
  },
  {
   "cell_type": "code",
   "execution_count": null,
   "metadata": {},
   "outputs": [],
   "source": [
    "lv_attrs = lv_obj.get_attributes_variation_score()\n",
    "_tmp = pd.Series(lv_attrs.index)\n",
    "lv_attrs = lv_attrs[\n",
    "    _tmp.str.match(\n",
    "        \"(?:cell.+type$)|(?:tissue$)|(?:tissue.+type$)\",\n",
    "        case=False,\n",
    "        flags=re.IGNORECASE,\n",
    "    ).values\n",
    "].sort_values(ascending=False)\n",
    "display(lv_attrs)"
   ]
  },
  {
   "cell_type": "code",
   "execution_count": null,
   "metadata": {},
   "outputs": [],
   "source": [
    "with sns.plotting_context(\"paper\", font_scale=1.0), sns.axes_style(\"whitegrid\"):\n",
    "    fig, ax = plt.subplots(figsize=(14, 8))\n",
    "    ax = lv_obj2.plot_attribute(\"tissue\", top_x_values=20)"
   ]
  },
  {
   "cell_type": "code",
   "execution_count": null,
   "metadata": {},
   "outputs": [],
   "source": [
    "with sns.plotting_context(\"paper\", font_scale=1.0), sns.axes_style(\"whitegrid\"):\n",
    "    fig, ax = plt.subplots(figsize=(14, 8))\n",
    "    ax = lv_obj2.plot_attribute(\"cell type\", top_x_values=20)"
   ]
  },
  {
   "cell_type": "code",
   "execution_count": null,
   "metadata": {},
   "outputs": [],
   "source": []
  }
 ],
 "metadata": {
  "jupytext": {
   "cell_metadata_filter": "all,-execution,-papermill,-trusted",
   "formats": "ipynb,py//py:percent"
  },
  "kernelspec": {
   "display_name": "Python 3",
   "language": "python",
   "name": "python3"
  },
  "language_info": {
   "codemirror_mode": {
    "name": "ipython",
    "version": 3
   },
   "file_extension": ".py",
   "mimetype": "text/x-python",
   "name": "python",
   "nbconvert_exporter": "python",
   "pygments_lexer": "ipython3",
   "version": "3.8.8"
  },
  "toc-autonumbering": true
 },
 "nbformat": 4,
 "nbformat_minor": 4
}
