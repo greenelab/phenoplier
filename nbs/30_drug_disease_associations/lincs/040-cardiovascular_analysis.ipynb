{
 "cells": [
  {
   "cell_type": "markdown",
   "metadata": {
    "papermill": {
     "duration": 0.039298,
     "end_time": "2020-12-23T18:04:39.246832",
     "exception": false,
     "start_time": "2020-12-23T18:04:39.207534",
     "status": "completed"
    },
    "tags": []
   },
   "source": [
    "# Description"
   ]
  },
  {
   "cell_type": "markdown",
   "metadata": {
    "papermill": {
     "duration": 0.010239,
     "end_time": "2020-12-23T18:04:39.272325",
     "exception": false,
     "start_time": "2020-12-23T18:04:39.262086",
     "status": "completed"
    },
    "tags": []
   },
   "source": [
    "**TODO**"
   ]
  },
  {
   "cell_type": "markdown",
   "metadata": {
    "papermill": {
     "duration": 0.010515,
     "end_time": "2020-12-23T18:04:39.292047",
     "exception": false,
     "start_time": "2020-12-23T18:04:39.281532",
     "status": "completed"
    },
    "tags": []
   },
   "source": [
    "# Modules loading"
   ]
  },
  {
   "cell_type": "code",
   "execution_count": 1,
   "metadata": {
    "papermill": {
     "duration": 0.020255,
     "end_time": "2020-12-23T18:04:39.321650",
     "exception": false,
     "start_time": "2020-12-23T18:04:39.301395",
     "status": "completed"
    },
    "tags": []
   },
   "outputs": [],
   "source": [
    "%load_ext autoreload\n",
    "%autoreload 2"
   ]
  },
  {
   "cell_type": "code",
   "execution_count": 2,
   "metadata": {
    "papermill": {
     "duration": 0.194124,
     "end_time": "2020-12-23T18:04:39.525509",
     "exception": false,
     "start_time": "2020-12-23T18:04:39.331385",
     "status": "completed"
    },
    "tags": []
   },
   "outputs": [],
   "source": [
    "from pathlib import Path\n",
    "\n",
    "import numpy as np\n",
    "import pandas as pd\n",
    "\n",
    "from entity import Gene\n",
    "import conf"
   ]
  },
  {
   "cell_type": "markdown",
   "metadata": {
    "papermill": {
     "duration": 0.009123,
     "end_time": "2020-12-23T18:04:39.544244",
     "exception": false,
     "start_time": "2020-12-23T18:04:39.535121",
     "status": "completed"
    },
    "tags": []
   },
   "source": [
    "# Settings"
   ]
  },
  {
   "cell_type": "code",
   "execution_count": 3,
   "metadata": {
    "papermill": {
     "duration": 0.032034,
     "end_time": "2021-04-22T19:41:49.062125",
     "exception": false,
     "start_time": "2021-04-22T19:41:49.030091",
     "status": "completed"
    },
    "tags": []
   },
   "outputs": [
    {
     "data": {
      "text/plain": [
       "PosixPath('/media/miltondp/Elements1/projects/phenoplier/results/drug_disease_analyses/lincs/analyses')"
      ]
     },
     "metadata": {},
     "output_type": "display_data"
    }
   ],
   "source": [
    "OUTPUT_DIR = conf.RESULTS[\"DRUG_DISEASE_ANALYSES\"] / \"lincs\" / \"analyses\"\n",
    "display(OUTPUT_DIR)\n",
    "OUTPUT_DIR.mkdir(exist_ok=True, parents=True)"
   ]
  },
  {
   "cell_type": "code",
   "execution_count": 4,
   "metadata": {
    "papermill": {
     "duration": 0.023479,
     "end_time": "2020-12-23T18:04:39.577159",
     "exception": false,
     "start_time": "2020-12-23T18:04:39.553680",
     "status": "completed"
    },
    "tags": []
   },
   "outputs": [],
   "source": [
    "# OUTPUT_DIR = conf.RESULTS[\"DRUG_DISEASE_ANALYSES\"]\n",
    "# display(OUTPUT_DIR)\n",
    "\n",
    "# assert OUTPUT_DIR.exists()\n",
    "# # OUTPUT_DIR.mkdir(parents=True, exist_ok=True)"
   ]
  },
  {
   "cell_type": "code",
   "execution_count": 5,
   "metadata": {
    "papermill": {
     "duration": 0.022741,
     "end_time": "2020-12-23T19:50:41.676575",
     "exception": false,
     "start_time": "2020-12-23T19:50:41.653834",
     "status": "completed"
    },
    "tags": []
   },
   "outputs": [],
   "source": [
    "# INPUT_DATA_DIR = Path(\n",
    "#     conf.RESULTS[\"DRUG_DISEASE_ANALYSES\"],\n",
    "#     \"data\",\n",
    "# )\n",
    "# display(INPUT_DATA_DIR)"
   ]
  },
  {
   "cell_type": "code",
   "execution_count": 6,
   "metadata": {
    "papermill": {
     "duration": 0.022117,
     "end_time": "2020-12-23T19:50:41.708701",
     "exception": false,
     "start_time": "2020-12-23T19:50:41.686584",
     "status": "completed"
    },
    "tags": []
   },
   "outputs": [],
   "source": [
    "# OUTPUT_PREDICTIONS_DIR = Path(\n",
    "#     conf.RESULTS[\"DRUG_DISEASE_ANALYSES\"], \"predictions\", \"dotprod_neg\"\n",
    "# )\n",
    "# display(OUTPUT_PREDICTIONS_DIR)"
   ]
  },
  {
   "cell_type": "code",
   "execution_count": 7,
   "metadata": {},
   "outputs": [
    {
     "data": {
      "text/plain": [
       "PosixPath('/media/miltondp/Elements1/projects/phenoplier/results/drug_disease_analyses/lincs/predictions/full_predictions_by_tissue-rank.h5')"
      ]
     },
     "metadata": {},
     "output_type": "display_data"
    }
   ],
   "source": [
    "INPUT_DIR = conf.RESULTS[\"DRUG_DISEASE_ANALYSES\"] / \"lincs\" / \"predictions\"\n",
    "# display(OUTPUT_DIR)\n",
    "# OUTPUT_DIR.mkdir(parents=True, exist_ok=True)\n",
    "input_predictions_by_tissue_file = INPUT_DIR / \"full_predictions_by_tissue-rank.h5\"\n",
    "display(input_predictions_by_tissue_file)"
   ]
  },
  {
   "cell_type": "markdown",
   "metadata": {
    "papermill": {
     "duration": 0.009706,
     "end_time": "2020-12-23T18:04:39.596873",
     "exception": false,
     "start_time": "2020-12-23T18:04:39.587167",
     "status": "completed"
    },
    "tags": []
   },
   "source": [
    "# Data loading"
   ]
  },
  {
   "cell_type": "markdown",
   "metadata": {
    "papermill": {
     "duration": 0.009706,
     "end_time": "2020-12-23T18:04:39.596873",
     "exception": false,
     "start_time": "2020-12-23T18:04:39.587167",
     "status": "completed"
    },
    "tags": []
   },
   "source": [
    "## S-MultiXcan projection"
   ]
  },
  {
   "cell_type": "code",
   "execution_count": 8,
   "metadata": {
    "papermill": {
     "duration": 0.024614,
     "end_time": "2021-03-08T19:23:39.863140",
     "exception": false,
     "start_time": "2021-03-08T19:23:39.838526",
     "status": "completed"
    },
    "tags": []
   },
   "outputs": [],
   "source": [
    "# input_file = Path(\n",
    "#     conf.RESULTS[\"PROJECTIONS_DIR\"],\n",
    "#     \"projection-smultixcan-efo_partial-mashr-zscores.pkl\",\n",
    "# ).resolve()\n",
    "# display(input_file)"
   ]
  },
  {
   "cell_type": "code",
   "execution_count": 9,
   "metadata": {},
   "outputs": [],
   "source": [
    "# smultixcan_proj = pd.read_pickle(input_file)"
   ]
  },
  {
   "cell_type": "code",
   "execution_count": 10,
   "metadata": {},
   "outputs": [],
   "source": [
    "# smultixcan_proj.shape"
   ]
  },
  {
   "cell_type": "code",
   "execution_count": 11,
   "metadata": {},
   "outputs": [],
   "source": [
    "# smultixcan_proj.head()"
   ]
  },
  {
   "cell_type": "markdown",
   "metadata": {
    "papermill": {
     "duration": 0.009706,
     "end_time": "2020-12-23T18:04:39.596873",
     "exception": false,
     "start_time": "2020-12-23T18:04:39.587167",
     "status": "completed"
    },
    "tags": []
   },
   "source": [
    "## S-MultiXcan"
   ]
  },
  {
   "cell_type": "code",
   "execution_count": 12,
   "metadata": {},
   "outputs": [],
   "source": [
    "# # smultixcan_zscores = pd.read_pickle(conf.PHENOMEXCAN[\"SMULTIXCAN_MASHR_ZSCORES_FILE\"])\n",
    "# smultixcan_zscores = pd.read_pickle(\n",
    "#     conf.PHENOMEXCAN[\"SMULTIXCAN_EFO_PARTIAL_MASHR_ZSCORES_FILE\"]\n",
    "# )"
   ]
  },
  {
   "cell_type": "code",
   "execution_count": 13,
   "metadata": {},
   "outputs": [],
   "source": [
    "# smultixcan_zscores = smultixcan_zscores.rename(index=Gene.GENE_ID_TO_NAME_MAP)"
   ]
  },
  {
   "cell_type": "code",
   "execution_count": 14,
   "metadata": {},
   "outputs": [],
   "source": [
    "# smultixcan_zscores = smultixcan_zscores[~smultixcan_zscores.index.duplicated()]"
   ]
  },
  {
   "cell_type": "code",
   "execution_count": 15,
   "metadata": {},
   "outputs": [],
   "source": [
    "# smultixcan_zscores = smultixcan_zscores.dropna(how=\"any\")"
   ]
  },
  {
   "cell_type": "code",
   "execution_count": 16,
   "metadata": {},
   "outputs": [],
   "source": [
    "# smultixcan_zscores.shape"
   ]
  },
  {
   "cell_type": "code",
   "execution_count": 17,
   "metadata": {},
   "outputs": [],
   "source": [
    "# smultixcan_zscores.head()"
   ]
  },
  {
   "cell_type": "markdown",
   "metadata": {
    "papermill": {
     "duration": 0.009706,
     "end_time": "2020-12-23T18:04:39.596873",
     "exception": false,
     "start_time": "2020-12-23T18:04:39.587167",
     "status": "completed"
    },
    "tags": []
   },
   "source": [
    "## PharmacotherapyDB: load gold standard"
   ]
  },
  {
   "cell_type": "markdown",
   "metadata": {},
   "source": [
    "### Final"
   ]
  },
  {
   "cell_type": "code",
   "execution_count": 18,
   "metadata": {},
   "outputs": [],
   "source": [
    "gold_standard = pd.read_pickle(\n",
    "    Path(conf.RESULTS[\"DRUG_DISEASE_ANALYSES\"], \"gold_standard.pkl\"),\n",
    ")"
   ]
  },
  {
   "cell_type": "code",
   "execution_count": 19,
   "metadata": {},
   "outputs": [
    {
     "data": {
      "text/plain": [
       "(998, 3)"
      ]
     },
     "execution_count": 19,
     "metadata": {},
     "output_type": "execute_result"
    }
   ],
   "source": [
    "gold_standard.shape"
   ]
  },
  {
   "cell_type": "code",
   "execution_count": 20,
   "metadata": {},
   "outputs": [
    {
     "data": {
      "text/html": [
       "<div>\n",
       "<style scoped>\n",
       "    .dataframe tbody tr th:only-of-type {\n",
       "        vertical-align: middle;\n",
       "    }\n",
       "\n",
       "    .dataframe tbody tr th {\n",
       "        vertical-align: top;\n",
       "    }\n",
       "\n",
       "    .dataframe thead th {\n",
       "        text-align: right;\n",
       "    }\n",
       "</style>\n",
       "<table border=\"1\" class=\"dataframe\">\n",
       "  <thead>\n",
       "    <tr style=\"text-align: right;\">\n",
       "      <th></th>\n",
       "      <th>trait</th>\n",
       "      <th>drug</th>\n",
       "      <th>true_class</th>\n",
       "    </tr>\n",
       "  </thead>\n",
       "  <tbody>\n",
       "    <tr>\n",
       "      <th>0</th>\n",
       "      <td>DOID:10652</td>\n",
       "      <td>DB00843</td>\n",
       "      <td>1</td>\n",
       "    </tr>\n",
       "    <tr>\n",
       "      <th>1</th>\n",
       "      <td>DOID:10652</td>\n",
       "      <td>DB00674</td>\n",
       "      <td>1</td>\n",
       "    </tr>\n",
       "    <tr>\n",
       "      <th>2</th>\n",
       "      <td>DOID:10652</td>\n",
       "      <td>DB01043</td>\n",
       "      <td>1</td>\n",
       "    </tr>\n",
       "    <tr>\n",
       "      <th>3</th>\n",
       "      <td>DOID:10652</td>\n",
       "      <td>DB00989</td>\n",
       "      <td>1</td>\n",
       "    </tr>\n",
       "    <tr>\n",
       "      <th>4</th>\n",
       "      <td>DOID:10652</td>\n",
       "      <td>DB00810</td>\n",
       "      <td>0</td>\n",
       "    </tr>\n",
       "  </tbody>\n",
       "</table>\n",
       "</div>"
      ],
      "text/plain": [
       "        trait     drug  true_class\n",
       "0  DOID:10652  DB00843           1\n",
       "1  DOID:10652  DB00674           1\n",
       "2  DOID:10652  DB01043           1\n",
       "3  DOID:10652  DB00989           1\n",
       "4  DOID:10652  DB00810           0"
      ]
     },
     "execution_count": 20,
     "metadata": {},
     "output_type": "execute_result"
    }
   ],
   "source": [
    "gold_standard.head()"
   ]
  },
  {
   "cell_type": "markdown",
   "metadata": {},
   "source": [
    "### Info"
   ]
  },
  {
   "cell_type": "code",
   "execution_count": 21,
   "metadata": {
    "papermill": {
     "duration": 0.030171,
     "end_time": "2020-12-23T18:04:39.674843",
     "exception": false,
     "start_time": "2020-12-23T18:04:39.644672",
     "status": "completed"
    },
    "tags": []
   },
   "outputs": [
    {
     "data": {
      "text/plain": [
       "PosixPath('/home/miltondp/projects/labs/greenelab/phenoplier/bases_data/base_orig/data/hetionet/pharmacotherapydb-v1.0/indications.tsv')"
      ]
     },
     "metadata": {},
     "output_type": "display_data"
    }
   ],
   "source": [
    "# TODO hardcoded\n",
    "input_file = Path(\n",
    "    conf.DATA_DIR, \"hetionet/pharmacotherapydb-v1.0\", \"indications.tsv\"\n",
    ").resolve()\n",
    "display(input_file)"
   ]
  },
  {
   "cell_type": "code",
   "execution_count": 22,
   "metadata": {},
   "outputs": [],
   "source": [
    "gold_standard_info = pd.read_csv(input_file, sep=\"\\t\")"
   ]
  },
  {
   "cell_type": "code",
   "execution_count": 23,
   "metadata": {},
   "outputs": [],
   "source": [
    "gold_standard_info = gold_standard_info.rename(columns={\"drug\": \"drug_name\"})"
   ]
  },
  {
   "cell_type": "code",
   "execution_count": 24,
   "metadata": {
    "papermill": {
     "duration": 0.020017,
     "end_time": "2020-12-23T18:04:39.704939",
     "exception": false,
     "start_time": "2020-12-23T18:04:39.684922",
     "status": "completed"
    },
    "tags": []
   },
   "outputs": [
    {
     "data": {
      "text/plain": [
       "(1388, 7)"
      ]
     },
     "execution_count": 24,
     "metadata": {},
     "output_type": "execute_result"
    }
   ],
   "source": [
    "gold_standard_info.shape"
   ]
  },
  {
   "cell_type": "code",
   "execution_count": 25,
   "metadata": {
    "papermill": {
     "duration": 0.025481,
     "end_time": "2020-12-23T18:04:39.740804",
     "exception": false,
     "start_time": "2020-12-23T18:04:39.715323",
     "status": "completed"
    },
    "tags": []
   },
   "outputs": [
    {
     "data": {
      "text/html": [
       "<div>\n",
       "<style scoped>\n",
       "    .dataframe tbody tr th:only-of-type {\n",
       "        vertical-align: middle;\n",
       "    }\n",
       "\n",
       "    .dataframe tbody tr th {\n",
       "        vertical-align: top;\n",
       "    }\n",
       "\n",
       "    .dataframe thead th {\n",
       "        text-align: right;\n",
       "    }\n",
       "</style>\n",
       "<table border=\"1\" class=\"dataframe\">\n",
       "  <thead>\n",
       "    <tr style=\"text-align: right;\">\n",
       "      <th></th>\n",
       "      <th>doid_id</th>\n",
       "      <th>drugbank_id</th>\n",
       "      <th>disease</th>\n",
       "      <th>drug_name</th>\n",
       "      <th>category</th>\n",
       "      <th>n_curators</th>\n",
       "      <th>n_resources</th>\n",
       "    </tr>\n",
       "  </thead>\n",
       "  <tbody>\n",
       "    <tr>\n",
       "      <th>0</th>\n",
       "      <td>DOID:10652</td>\n",
       "      <td>DB00843</td>\n",
       "      <td>Alzheimer's disease</td>\n",
       "      <td>Donepezil</td>\n",
       "      <td>DM</td>\n",
       "      <td>2</td>\n",
       "      <td>1</td>\n",
       "    </tr>\n",
       "    <tr>\n",
       "      <th>1</th>\n",
       "      <td>DOID:10652</td>\n",
       "      <td>DB00674</td>\n",
       "      <td>Alzheimer's disease</td>\n",
       "      <td>Galantamine</td>\n",
       "      <td>DM</td>\n",
       "      <td>1</td>\n",
       "      <td>4</td>\n",
       "    </tr>\n",
       "    <tr>\n",
       "      <th>2</th>\n",
       "      <td>DOID:10652</td>\n",
       "      <td>DB01043</td>\n",
       "      <td>Alzheimer's disease</td>\n",
       "      <td>Memantine</td>\n",
       "      <td>DM</td>\n",
       "      <td>1</td>\n",
       "      <td>3</td>\n",
       "    </tr>\n",
       "    <tr>\n",
       "      <th>3</th>\n",
       "      <td>DOID:10652</td>\n",
       "      <td>DB00989</td>\n",
       "      <td>Alzheimer's disease</td>\n",
       "      <td>Rivastigmine</td>\n",
       "      <td>DM</td>\n",
       "      <td>1</td>\n",
       "      <td>3</td>\n",
       "    </tr>\n",
       "    <tr>\n",
       "      <th>4</th>\n",
       "      <td>DOID:10652</td>\n",
       "      <td>DB00245</td>\n",
       "      <td>Alzheimer's disease</td>\n",
       "      <td>Benzatropine</td>\n",
       "      <td>SYM</td>\n",
       "      <td>3</td>\n",
       "      <td>1</td>\n",
       "    </tr>\n",
       "  </tbody>\n",
       "</table>\n",
       "</div>"
      ],
      "text/plain": [
       "      doid_id drugbank_id              disease     drug_name category  \\\n",
       "0  DOID:10652     DB00843  Alzheimer's disease     Donepezil       DM   \n",
       "1  DOID:10652     DB00674  Alzheimer's disease   Galantamine       DM   \n",
       "2  DOID:10652     DB01043  Alzheimer's disease     Memantine       DM   \n",
       "3  DOID:10652     DB00989  Alzheimer's disease  Rivastigmine       DM   \n",
       "4  DOID:10652     DB00245  Alzheimer's disease  Benzatropine      SYM   \n",
       "\n",
       "   n_curators  n_resources  \n",
       "0           2            1  \n",
       "1           1            4  \n",
       "2           1            3  \n",
       "3           1            3  \n",
       "4           3            1  "
      ]
     },
     "execution_count": 25,
     "metadata": {},
     "output_type": "execute_result"
    }
   ],
   "source": [
    "gold_standard_info.head()"
   ]
  },
  {
   "cell_type": "code",
   "execution_count": 26,
   "metadata": {},
   "outputs": [],
   "source": [
    "gold_standard_info = (\n",
    "    gold_standard.set_index([\"trait\", \"drug\"])\n",
    "    .join(\n",
    "        gold_standard_info.rename(\n",
    "            columns={\"doid_id\": \"trait\", \"drugbank_id\": \"drug\"}\n",
    "        ).set_index([\"trait\", \"drug\"])\n",
    "    )\n",
    "    .reset_index()\n",
    ")"
   ]
  },
  {
   "cell_type": "code",
   "execution_count": 27,
   "metadata": {
    "papermill": {
     "duration": 0.021146,
     "end_time": "2020-12-23T18:04:39.772888",
     "exception": false,
     "start_time": "2020-12-23T18:04:39.751742",
     "status": "completed"
    },
    "tags": []
   },
   "outputs": [
    {
     "data": {
      "text/plain": [
       "(998, 8)"
      ]
     },
     "execution_count": 27,
     "metadata": {},
     "output_type": "execute_result"
    }
   ],
   "source": [
    "gold_standard_info.shape"
   ]
  },
  {
   "cell_type": "code",
   "execution_count": 28,
   "metadata": {
    "papermill": {
     "duration": 0.02135,
     "end_time": "2020-12-23T18:04:39.805324",
     "exception": false,
     "start_time": "2020-12-23T18:04:39.783974",
     "status": "completed"
    },
    "tags": []
   },
   "outputs": [
    {
     "data": {
      "text/html": [
       "<div>\n",
       "<style scoped>\n",
       "    .dataframe tbody tr th:only-of-type {\n",
       "        vertical-align: middle;\n",
       "    }\n",
       "\n",
       "    .dataframe tbody tr th {\n",
       "        vertical-align: top;\n",
       "    }\n",
       "\n",
       "    .dataframe thead th {\n",
       "        text-align: right;\n",
       "    }\n",
       "</style>\n",
       "<table border=\"1\" class=\"dataframe\">\n",
       "  <thead>\n",
       "    <tr style=\"text-align: right;\">\n",
       "      <th></th>\n",
       "      <th>trait</th>\n",
       "      <th>drug</th>\n",
       "      <th>true_class</th>\n",
       "      <th>disease</th>\n",
       "      <th>drug_name</th>\n",
       "      <th>category</th>\n",
       "      <th>n_curators</th>\n",
       "      <th>n_resources</th>\n",
       "    </tr>\n",
       "  </thead>\n",
       "  <tbody>\n",
       "    <tr>\n",
       "      <th>0</th>\n",
       "      <td>DOID:10652</td>\n",
       "      <td>DB00843</td>\n",
       "      <td>1</td>\n",
       "      <td>Alzheimer's disease</td>\n",
       "      <td>Donepezil</td>\n",
       "      <td>DM</td>\n",
       "      <td>2</td>\n",
       "      <td>1</td>\n",
       "    </tr>\n",
       "    <tr>\n",
       "      <th>1</th>\n",
       "      <td>DOID:10652</td>\n",
       "      <td>DB00674</td>\n",
       "      <td>1</td>\n",
       "      <td>Alzheimer's disease</td>\n",
       "      <td>Galantamine</td>\n",
       "      <td>DM</td>\n",
       "      <td>1</td>\n",
       "      <td>4</td>\n",
       "    </tr>\n",
       "    <tr>\n",
       "      <th>2</th>\n",
       "      <td>DOID:10652</td>\n",
       "      <td>DB01043</td>\n",
       "      <td>1</td>\n",
       "      <td>Alzheimer's disease</td>\n",
       "      <td>Memantine</td>\n",
       "      <td>DM</td>\n",
       "      <td>1</td>\n",
       "      <td>3</td>\n",
       "    </tr>\n",
       "    <tr>\n",
       "      <th>3</th>\n",
       "      <td>DOID:10652</td>\n",
       "      <td>DB00989</td>\n",
       "      <td>1</td>\n",
       "      <td>Alzheimer's disease</td>\n",
       "      <td>Rivastigmine</td>\n",
       "      <td>DM</td>\n",
       "      <td>1</td>\n",
       "      <td>3</td>\n",
       "    </tr>\n",
       "    <tr>\n",
       "      <th>4</th>\n",
       "      <td>DOID:10652</td>\n",
       "      <td>DB00810</td>\n",
       "      <td>0</td>\n",
       "      <td>Alzheimer's disease</td>\n",
       "      <td>Biperiden</td>\n",
       "      <td>NOT</td>\n",
       "      <td>2</td>\n",
       "      <td>1</td>\n",
       "    </tr>\n",
       "  </tbody>\n",
       "</table>\n",
       "</div>"
      ],
      "text/plain": [
       "        trait     drug  true_class              disease     drug_name  \\\n",
       "0  DOID:10652  DB00843           1  Alzheimer's disease     Donepezil   \n",
       "1  DOID:10652  DB00674           1  Alzheimer's disease   Galantamine   \n",
       "2  DOID:10652  DB01043           1  Alzheimer's disease     Memantine   \n",
       "3  DOID:10652  DB00989           1  Alzheimer's disease  Rivastigmine   \n",
       "4  DOID:10652  DB00810           0  Alzheimer's disease     Biperiden   \n",
       "\n",
       "  category  n_curators  n_resources  \n",
       "0       DM           2            1  \n",
       "1       DM           1            4  \n",
       "2       DM           1            3  \n",
       "3       DM           1            3  \n",
       "4      NOT           2            1  "
      ]
     },
     "execution_count": 28,
     "metadata": {},
     "output_type": "execute_result"
    }
   ],
   "source": [
    "gold_standard_info.head()"
   ]
  },
  {
   "cell_type": "markdown",
   "metadata": {
    "papermill": {
     "duration": 0.010857,
     "end_time": "2020-12-23T19:50:41.886745",
     "exception": false,
     "start_time": "2020-12-23T19:50:41.875888",
     "status": "completed"
    },
    "tags": []
   },
   "source": [
    "## LINCS data"
   ]
  },
  {
   "cell_type": "code",
   "execution_count": 29,
   "metadata": {
    "papermill": {
     "duration": 0.021901,
     "end_time": "2020-12-23T19:50:41.940473",
     "exception": false,
     "start_time": "2020-12-23T19:50:41.918572",
     "status": "completed"
    },
    "tags": []
   },
   "outputs": [
    {
     "data": {
      "text/plain": [
       "PosixPath('/media/miltondp/Elements1/projects/phenoplier/results/drug_disease_analyses/lincs/lincs-data.pkl')"
      ]
     },
     "metadata": {},
     "output_type": "display_data"
    }
   ],
   "source": [
    "input_file = Path(\n",
    "    conf.RESULTS[\"DRUG_DISEASE_ANALYSES\"], \"lincs\", \"lincs-data.pkl\"\n",
    ").resolve()\n",
    "\n",
    "display(input_file)"
   ]
  },
  {
   "cell_type": "code",
   "execution_count": 30,
   "metadata": {
    "papermill": {
     "duration": 0.026636,
     "end_time": "2020-12-23T19:50:41.978518",
     "exception": false,
     "start_time": "2020-12-23T19:50:41.951882",
     "status": "completed"
    },
    "tags": []
   },
   "outputs": [],
   "source": [
    "lincs_data = pd.read_pickle(input_file).T.rename(columns=Gene.GENE_ID_TO_NAME_MAP)"
   ]
  },
  {
   "cell_type": "code",
   "execution_count": 31,
   "metadata": {
    "papermill": {
     "duration": 0.024037,
     "end_time": "2020-12-23T19:50:42.015614",
     "exception": false,
     "start_time": "2020-12-23T19:50:41.991577",
     "status": "completed"
    },
    "tags": []
   },
   "outputs": [
    {
     "data": {
      "text/plain": [
       "(1170, 7120)"
      ]
     },
     "metadata": {},
     "output_type": "display_data"
    }
   ],
   "source": [
    "display(lincs_data.shape)"
   ]
  },
  {
   "cell_type": "code",
   "execution_count": 32,
   "metadata": {
    "papermill": {
     "duration": 0.034451,
     "end_time": "2020-12-23T19:50:42.062781",
     "exception": false,
     "start_time": "2020-12-23T19:50:42.028330",
     "status": "completed"
    },
    "tags": []
   },
   "outputs": [
    {
     "data": {
      "text/html": [
       "<div>\n",
       "<style scoped>\n",
       "    .dataframe tbody tr th:only-of-type {\n",
       "        vertical-align: middle;\n",
       "    }\n",
       "\n",
       "    .dataframe tbody tr th {\n",
       "        vertical-align: top;\n",
       "    }\n",
       "\n",
       "    .dataframe thead th {\n",
       "        text-align: right;\n",
       "    }\n",
       "</style>\n",
       "<table border=\"1\" class=\"dataframe\">\n",
       "  <thead>\n",
       "    <tr style=\"text-align: right;\">\n",
       "      <th></th>\n",
       "      <th>ADA</th>\n",
       "      <th>CDH2</th>\n",
       "      <th>AKT3</th>\n",
       "      <th>MED6</th>\n",
       "      <th>ACOT8</th>\n",
       "      <th>ABI1</th>\n",
       "      <th>GNPDA1</th>\n",
       "      <th>CDH3</th>\n",
       "      <th>TANK</th>\n",
       "      <th>TOPORS-AS1</th>\n",
       "      <th>...</th>\n",
       "      <th>RBX1</th>\n",
       "      <th>CDC42</th>\n",
       "      <th>THOC1</th>\n",
       "      <th>RCE1</th>\n",
       "      <th>HNRNPDL</th>\n",
       "      <th>DMTF1</th>\n",
       "      <th>PPP4R1</th>\n",
       "      <th>CDH1</th>\n",
       "      <th>PTBP3</th>\n",
       "      <th>CASP8AP2</th>\n",
       "    </tr>\n",
       "    <tr>\n",
       "      <th>perturbagen</th>\n",
       "      <th></th>\n",
       "      <th></th>\n",
       "      <th></th>\n",
       "      <th></th>\n",
       "      <th></th>\n",
       "      <th></th>\n",
       "      <th></th>\n",
       "      <th></th>\n",
       "      <th></th>\n",
       "      <th></th>\n",
       "      <th></th>\n",
       "      <th></th>\n",
       "      <th></th>\n",
       "      <th></th>\n",
       "      <th></th>\n",
       "      <th></th>\n",
       "      <th></th>\n",
       "      <th></th>\n",
       "      <th></th>\n",
       "      <th></th>\n",
       "      <th></th>\n",
       "    </tr>\n",
       "  </thead>\n",
       "  <tbody>\n",
       "    <tr>\n",
       "      <th>DB00014</th>\n",
       "      <td>-1.001</td>\n",
       "      <td>1.146</td>\n",
       "      <td>-0.693</td>\n",
       "      <td>-0.037</td>\n",
       "      <td>0.162</td>\n",
       "      <td>-0.380</td>\n",
       "      <td>0.649</td>\n",
       "      <td>-1.952</td>\n",
       "      <td>0.294</td>\n",
       "      <td>0.274</td>\n",
       "      <td>...</td>\n",
       "      <td>-0.592</td>\n",
       "      <td>0.178</td>\n",
       "      <td>0.270</td>\n",
       "      <td>-0.013</td>\n",
       "      <td>0.351</td>\n",
       "      <td>-0.128</td>\n",
       "      <td>0.274</td>\n",
       "      <td>-0.734</td>\n",
       "      <td>-0.048</td>\n",
       "      <td>0.036</td>\n",
       "    </tr>\n",
       "    <tr>\n",
       "      <th>DB00091</th>\n",
       "      <td>-1.835</td>\n",
       "      <td>-1.863</td>\n",
       "      <td>1.694</td>\n",
       "      <td>0.383</td>\n",
       "      <td>-0.899</td>\n",
       "      <td>0.628</td>\n",
       "      <td>-4.878</td>\n",
       "      <td>2.527</td>\n",
       "      <td>1.709</td>\n",
       "      <td>-0.981</td>\n",
       "      <td>...</td>\n",
       "      <td>-0.668</td>\n",
       "      <td>-2.795</td>\n",
       "      <td>-0.333</td>\n",
       "      <td>-0.027</td>\n",
       "      <td>0.578</td>\n",
       "      <td>6.926</td>\n",
       "      <td>-1.875</td>\n",
       "      <td>4.382</td>\n",
       "      <td>0.266</td>\n",
       "      <td>-4.995</td>\n",
       "    </tr>\n",
       "    <tr>\n",
       "      <th>DB00121</th>\n",
       "      <td>1.391</td>\n",
       "      <td>0.011</td>\n",
       "      <td>-0.804</td>\n",
       "      <td>0.269</td>\n",
       "      <td>0.105</td>\n",
       "      <td>-0.588</td>\n",
       "      <td>-1.899</td>\n",
       "      <td>0.306</td>\n",
       "      <td>-1.178</td>\n",
       "      <td>0.120</td>\n",
       "      <td>...</td>\n",
       "      <td>-0.962</td>\n",
       "      <td>0.450</td>\n",
       "      <td>-0.999</td>\n",
       "      <td>1.358</td>\n",
       "      <td>-1.476</td>\n",
       "      <td>0.423</td>\n",
       "      <td>-1.356</td>\n",
       "      <td>-1.897</td>\n",
       "      <td>-0.299</td>\n",
       "      <td>-0.732</td>\n",
       "    </tr>\n",
       "    <tr>\n",
       "      <th>DB00130</th>\n",
       "      <td>1.132</td>\n",
       "      <td>-1.020</td>\n",
       "      <td>-0.164</td>\n",
       "      <td>-0.997</td>\n",
       "      <td>-0.090</td>\n",
       "      <td>0.195</td>\n",
       "      <td>-2.341</td>\n",
       "      <td>0.494</td>\n",
       "      <td>-0.813</td>\n",
       "      <td>-1.140</td>\n",
       "      <td>...</td>\n",
       "      <td>-0.553</td>\n",
       "      <td>-0.528</td>\n",
       "      <td>0.308</td>\n",
       "      <td>0.534</td>\n",
       "      <td>-0.320</td>\n",
       "      <td>3.001</td>\n",
       "      <td>-0.414</td>\n",
       "      <td>0.134</td>\n",
       "      <td>0.147</td>\n",
       "      <td>2.158</td>\n",
       "    </tr>\n",
       "    <tr>\n",
       "      <th>DB00131</th>\n",
       "      <td>0.257</td>\n",
       "      <td>1.143</td>\n",
       "      <td>1.145</td>\n",
       "      <td>0.185</td>\n",
       "      <td>-1.291</td>\n",
       "      <td>-0.457</td>\n",
       "      <td>0.038</td>\n",
       "      <td>1.442</td>\n",
       "      <td>-1.692</td>\n",
       "      <td>0.593</td>\n",
       "      <td>...</td>\n",
       "      <td>-0.556</td>\n",
       "      <td>-0.600</td>\n",
       "      <td>0.092</td>\n",
       "      <td>-0.564</td>\n",
       "      <td>0.174</td>\n",
       "      <td>-1.203</td>\n",
       "      <td>-1.080</td>\n",
       "      <td>-0.575</td>\n",
       "      <td>-0.792</td>\n",
       "      <td>-0.095</td>\n",
       "    </tr>\n",
       "  </tbody>\n",
       "</table>\n",
       "<p>5 rows × 7120 columns</p>\n",
       "</div>"
      ],
      "text/plain": [
       "               ADA   CDH2   AKT3   MED6  ACOT8   ABI1  GNPDA1   CDH3   TANK  \\\n",
       "perturbagen                                                                   \n",
       "DB00014     -1.001  1.146 -0.693 -0.037  0.162 -0.380   0.649 -1.952  0.294   \n",
       "DB00091     -1.835 -1.863  1.694  0.383 -0.899  0.628  -4.878  2.527  1.709   \n",
       "DB00121      1.391  0.011 -0.804  0.269  0.105 -0.588  -1.899  0.306 -1.178   \n",
       "DB00130      1.132 -1.020 -0.164 -0.997 -0.090  0.195  -2.341  0.494 -0.813   \n",
       "DB00131      0.257  1.143  1.145  0.185 -1.291 -0.457   0.038  1.442 -1.692   \n",
       "\n",
       "             TOPORS-AS1  ...   RBX1  CDC42  THOC1   RCE1  HNRNPDL  DMTF1  \\\n",
       "perturbagen              ...                                               \n",
       "DB00014           0.274  ... -0.592  0.178  0.270 -0.013    0.351 -0.128   \n",
       "DB00091          -0.981  ... -0.668 -2.795 -0.333 -0.027    0.578  6.926   \n",
       "DB00121           0.120  ... -0.962  0.450 -0.999  1.358   -1.476  0.423   \n",
       "DB00130          -1.140  ... -0.553 -0.528  0.308  0.534   -0.320  3.001   \n",
       "DB00131           0.593  ... -0.556 -0.600  0.092 -0.564    0.174 -1.203   \n",
       "\n",
       "             PPP4R1   CDH1  PTBP3  CASP8AP2  \n",
       "perturbagen                                  \n",
       "DB00014       0.274 -0.734 -0.048     0.036  \n",
       "DB00091      -1.875  4.382  0.266    -4.995  \n",
       "DB00121      -1.356 -1.897 -0.299    -0.732  \n",
       "DB00130      -0.414  0.134  0.147     2.158  \n",
       "DB00131      -1.080 -0.575 -0.792    -0.095  \n",
       "\n",
       "[5 rows x 7120 columns]"
      ]
     },
     "metadata": {},
     "output_type": "display_data"
    }
   ],
   "source": [
    "display(lincs_data.head())"
   ]
  },
  {
   "cell_type": "code",
   "execution_count": 33,
   "metadata": {},
   "outputs": [
    {
     "data": {
      "text/plain": [
       "True"
      ]
     },
     "execution_count": 33,
     "metadata": {},
     "output_type": "execute_result"
    }
   ],
   "source": [
    "lincs_data.index.is_unique"
   ]
  },
  {
   "cell_type": "code",
   "execution_count": 34,
   "metadata": {},
   "outputs": [
    {
     "data": {
      "text/plain": [
       "True"
      ]
     },
     "execution_count": 34,
     "metadata": {},
     "output_type": "execute_result"
    }
   ],
   "source": [
    "lincs_data.columns.is_unique"
   ]
  },
  {
   "cell_type": "markdown",
   "metadata": {
    "papermill": {
     "duration": 0.010857,
     "end_time": "2020-12-23T19:50:41.886745",
     "exception": false,
     "start_time": "2020-12-23T19:50:41.875888",
     "status": "completed"
    },
    "tags": []
   },
   "source": [
    "## LINCS projection"
   ]
  },
  {
   "cell_type": "code",
   "execution_count": 35,
   "metadata": {
    "papermill": {
     "duration": 0.021901,
     "end_time": "2020-12-23T19:50:41.940473",
     "exception": false,
     "start_time": "2020-12-23T19:50:41.918572",
     "status": "completed"
    },
    "tags": []
   },
   "outputs": [
    {
     "data": {
      "text/plain": [
       "PosixPath('/media/miltondp/Elements1/projects/phenoplier/results/drug_disease_analyses/lincs/lincs-projection.pkl')"
      ]
     },
     "metadata": {},
     "output_type": "display_data"
    }
   ],
   "source": [
    "input_file = Path(\n",
    "    conf.RESULTS[\"DRUG_DISEASE_ANALYSES\"], \"lincs\", \"lincs-projection.pkl\"\n",
    ").resolve()\n",
    "\n",
    "display(input_file)"
   ]
  },
  {
   "cell_type": "code",
   "execution_count": 36,
   "metadata": {
    "papermill": {
     "duration": 0.026636,
     "end_time": "2020-12-23T19:50:41.978518",
     "exception": false,
     "start_time": "2020-12-23T19:50:41.951882",
     "status": "completed"
    },
    "tags": []
   },
   "outputs": [],
   "source": [
    "lincs_projection = pd.read_pickle(input_file).T"
   ]
  },
  {
   "cell_type": "code",
   "execution_count": 37,
   "metadata": {
    "papermill": {
     "duration": 0.024037,
     "end_time": "2020-12-23T19:50:42.015614",
     "exception": false,
     "start_time": "2020-12-23T19:50:41.991577",
     "status": "completed"
    },
    "tags": []
   },
   "outputs": [
    {
     "data": {
      "text/plain": [
       "(1170, 987)"
      ]
     },
     "metadata": {},
     "output_type": "display_data"
    }
   ],
   "source": [
    "display(lincs_projection.shape)"
   ]
  },
  {
   "cell_type": "code",
   "execution_count": 38,
   "metadata": {
    "papermill": {
     "duration": 0.034451,
     "end_time": "2020-12-23T19:50:42.062781",
     "exception": false,
     "start_time": "2020-12-23T19:50:42.028330",
     "status": "completed"
    },
    "tags": []
   },
   "outputs": [
    {
     "data": {
      "text/html": [
       "<div>\n",
       "<style scoped>\n",
       "    .dataframe tbody tr th:only-of-type {\n",
       "        vertical-align: middle;\n",
       "    }\n",
       "\n",
       "    .dataframe tbody tr th {\n",
       "        vertical-align: top;\n",
       "    }\n",
       "\n",
       "    .dataframe thead th {\n",
       "        text-align: right;\n",
       "    }\n",
       "</style>\n",
       "<table border=\"1\" class=\"dataframe\">\n",
       "  <thead>\n",
       "    <tr style=\"text-align: right;\">\n",
       "      <th></th>\n",
       "      <th>LV1</th>\n",
       "      <th>LV2</th>\n",
       "      <th>LV3</th>\n",
       "      <th>LV4</th>\n",
       "      <th>LV5</th>\n",
       "      <th>LV6</th>\n",
       "      <th>LV7</th>\n",
       "      <th>LV8</th>\n",
       "      <th>LV9</th>\n",
       "      <th>LV10</th>\n",
       "      <th>...</th>\n",
       "      <th>LV978</th>\n",
       "      <th>LV979</th>\n",
       "      <th>LV980</th>\n",
       "      <th>LV981</th>\n",
       "      <th>LV982</th>\n",
       "      <th>LV983</th>\n",
       "      <th>LV984</th>\n",
       "      <th>LV985</th>\n",
       "      <th>LV986</th>\n",
       "      <th>LV987</th>\n",
       "    </tr>\n",
       "    <tr>\n",
       "      <th>perturbagen</th>\n",
       "      <th></th>\n",
       "      <th></th>\n",
       "      <th></th>\n",
       "      <th></th>\n",
       "      <th></th>\n",
       "      <th></th>\n",
       "      <th></th>\n",
       "      <th></th>\n",
       "      <th></th>\n",
       "      <th></th>\n",
       "      <th></th>\n",
       "      <th></th>\n",
       "      <th></th>\n",
       "      <th></th>\n",
       "      <th></th>\n",
       "      <th></th>\n",
       "      <th></th>\n",
       "      <th></th>\n",
       "      <th></th>\n",
       "      <th></th>\n",
       "      <th></th>\n",
       "    </tr>\n",
       "  </thead>\n",
       "  <tbody>\n",
       "    <tr>\n",
       "      <th>DB00014</th>\n",
       "      <td>0.036115</td>\n",
       "      <td>0.012281</td>\n",
       "      <td>-0.005533</td>\n",
       "      <td>-0.004151</td>\n",
       "      <td>-0.015156</td>\n",
       "      <td>-0.010861</td>\n",
       "      <td>0.008181</td>\n",
       "      <td>-0.008148</td>\n",
       "      <td>0.004948</td>\n",
       "      <td>-0.009869</td>\n",
       "      <td>...</td>\n",
       "      <td>-0.003139</td>\n",
       "      <td>0.003546</td>\n",
       "      <td>-0.006242</td>\n",
       "      <td>0.002449</td>\n",
       "      <td>-0.004391</td>\n",
       "      <td>-0.004334</td>\n",
       "      <td>-0.019902</td>\n",
       "      <td>0.004292</td>\n",
       "      <td>-0.010378</td>\n",
       "      <td>0.002000</td>\n",
       "    </tr>\n",
       "    <tr>\n",
       "      <th>DB00091</th>\n",
       "      <td>-0.358610</td>\n",
       "      <td>0.009738</td>\n",
       "      <td>-0.059174</td>\n",
       "      <td>-0.032884</td>\n",
       "      <td>-0.005276</td>\n",
       "      <td>0.063369</td>\n",
       "      <td>-0.079522</td>\n",
       "      <td>-0.018980</td>\n",
       "      <td>-0.025782</td>\n",
       "      <td>0.021540</td>\n",
       "      <td>...</td>\n",
       "      <td>-0.019892</td>\n",
       "      <td>0.003610</td>\n",
       "      <td>-0.016165</td>\n",
       "      <td>0.008686</td>\n",
       "      <td>0.065335</td>\n",
       "      <td>-0.042051</td>\n",
       "      <td>0.065516</td>\n",
       "      <td>0.016261</td>\n",
       "      <td>0.056314</td>\n",
       "      <td>-0.051035</td>\n",
       "    </tr>\n",
       "    <tr>\n",
       "      <th>DB00121</th>\n",
       "      <td>0.091067</td>\n",
       "      <td>0.004650</td>\n",
       "      <td>0.013454</td>\n",
       "      <td>0.005934</td>\n",
       "      <td>0.025747</td>\n",
       "      <td>0.004324</td>\n",
       "      <td>-0.001865</td>\n",
       "      <td>-0.019613</td>\n",
       "      <td>0.051503</td>\n",
       "      <td>0.013032</td>\n",
       "      <td>...</td>\n",
       "      <td>0.001629</td>\n",
       "      <td>-0.012565</td>\n",
       "      <td>0.009613</td>\n",
       "      <td>-0.014404</td>\n",
       "      <td>-0.009188</td>\n",
       "      <td>0.006544</td>\n",
       "      <td>0.047466</td>\n",
       "      <td>-0.016220</td>\n",
       "      <td>-0.018844</td>\n",
       "      <td>0.034675</td>\n",
       "    </tr>\n",
       "    <tr>\n",
       "      <th>DB00130</th>\n",
       "      <td>0.008923</td>\n",
       "      <td>-0.006554</td>\n",
       "      <td>0.008906</td>\n",
       "      <td>-0.003991</td>\n",
       "      <td>0.000346</td>\n",
       "      <td>0.008212</td>\n",
       "      <td>0.001242</td>\n",
       "      <td>-0.012771</td>\n",
       "      <td>0.014221</td>\n",
       "      <td>0.008269</td>\n",
       "      <td>...</td>\n",
       "      <td>-0.026139</td>\n",
       "      <td>-0.002977</td>\n",
       "      <td>0.021969</td>\n",
       "      <td>0.001204</td>\n",
       "      <td>-0.012731</td>\n",
       "      <td>-0.000076</td>\n",
       "      <td>-0.029127</td>\n",
       "      <td>-0.022679</td>\n",
       "      <td>0.016179</td>\n",
       "      <td>-0.003029</td>\n",
       "    </tr>\n",
       "    <tr>\n",
       "      <th>DB00131</th>\n",
       "      <td>0.046469</td>\n",
       "      <td>0.021758</td>\n",
       "      <td>-0.004939</td>\n",
       "      <td>-0.028524</td>\n",
       "      <td>-0.013932</td>\n",
       "      <td>0.012231</td>\n",
       "      <td>-0.001325</td>\n",
       "      <td>0.003787</td>\n",
       "      <td>0.035189</td>\n",
       "      <td>-0.004377</td>\n",
       "      <td>...</td>\n",
       "      <td>0.017373</td>\n",
       "      <td>0.005304</td>\n",
       "      <td>-0.001649</td>\n",
       "      <td>0.004017</td>\n",
       "      <td>-0.000622</td>\n",
       "      <td>-0.006477</td>\n",
       "      <td>0.021663</td>\n",
       "      <td>0.000988</td>\n",
       "      <td>0.002038</td>\n",
       "      <td>-0.011747</td>\n",
       "    </tr>\n",
       "  </tbody>\n",
       "</table>\n",
       "<p>5 rows × 987 columns</p>\n",
       "</div>"
      ],
      "text/plain": [
       "                  LV1       LV2       LV3       LV4       LV5       LV6  \\\n",
       "perturbagen                                                               \n",
       "DB00014      0.036115  0.012281 -0.005533 -0.004151 -0.015156 -0.010861   \n",
       "DB00091     -0.358610  0.009738 -0.059174 -0.032884 -0.005276  0.063369   \n",
       "DB00121      0.091067  0.004650  0.013454  0.005934  0.025747  0.004324   \n",
       "DB00130      0.008923 -0.006554  0.008906 -0.003991  0.000346  0.008212   \n",
       "DB00131      0.046469  0.021758 -0.004939 -0.028524 -0.013932  0.012231   \n",
       "\n",
       "                  LV7       LV8       LV9      LV10  ...     LV978     LV979  \\\n",
       "perturbagen                                          ...                       \n",
       "DB00014      0.008181 -0.008148  0.004948 -0.009869  ... -0.003139  0.003546   \n",
       "DB00091     -0.079522 -0.018980 -0.025782  0.021540  ... -0.019892  0.003610   \n",
       "DB00121     -0.001865 -0.019613  0.051503  0.013032  ...  0.001629 -0.012565   \n",
       "DB00130      0.001242 -0.012771  0.014221  0.008269  ... -0.026139 -0.002977   \n",
       "DB00131     -0.001325  0.003787  0.035189 -0.004377  ...  0.017373  0.005304   \n",
       "\n",
       "                LV980     LV981     LV982     LV983     LV984     LV985  \\\n",
       "perturbagen                                                               \n",
       "DB00014     -0.006242  0.002449 -0.004391 -0.004334 -0.019902  0.004292   \n",
       "DB00091     -0.016165  0.008686  0.065335 -0.042051  0.065516  0.016261   \n",
       "DB00121      0.009613 -0.014404 -0.009188  0.006544  0.047466 -0.016220   \n",
       "DB00130      0.021969  0.001204 -0.012731 -0.000076 -0.029127 -0.022679   \n",
       "DB00131     -0.001649  0.004017 -0.000622 -0.006477  0.021663  0.000988   \n",
       "\n",
       "                LV986     LV987  \n",
       "perturbagen                      \n",
       "DB00014     -0.010378  0.002000  \n",
       "DB00091      0.056314 -0.051035  \n",
       "DB00121     -0.018844  0.034675  \n",
       "DB00130      0.016179 -0.003029  \n",
       "DB00131      0.002038 -0.011747  \n",
       "\n",
       "[5 rows x 987 columns]"
      ]
     },
     "metadata": {},
     "output_type": "display_data"
    }
   ],
   "source": [
    "display(lincs_projection.head())"
   ]
  },
  {
   "cell_type": "markdown",
   "metadata": {
    "papermill": {
     "duration": 0.012227,
     "end_time": "2020-12-23T18:04:40.308654",
     "exception": false,
     "start_time": "2020-12-23T18:04:40.296427",
     "status": "completed"
    },
    "tags": []
   },
   "source": [
    "## MultiPLIER Z"
   ]
  },
  {
   "cell_type": "code",
   "execution_count": 39,
   "metadata": {},
   "outputs": [],
   "source": [
    "multiplier_z = pd.read_pickle(conf.MULTIPLIER[\"MODEL_Z_MATRIX_FILE\"])"
   ]
  },
  {
   "cell_type": "code",
   "execution_count": 40,
   "metadata": {},
   "outputs": [
    {
     "data": {
      "text/plain": [
       "(6750, 987)"
      ]
     },
     "execution_count": 40,
     "metadata": {},
     "output_type": "execute_result"
    }
   ],
   "source": [
    "multiplier_z.shape"
   ]
  },
  {
   "cell_type": "code",
   "execution_count": 41,
   "metadata": {},
   "outputs": [
    {
     "data": {
      "text/html": [
       "<div>\n",
       "<style scoped>\n",
       "    .dataframe tbody tr th:only-of-type {\n",
       "        vertical-align: middle;\n",
       "    }\n",
       "\n",
       "    .dataframe tbody tr th {\n",
       "        vertical-align: top;\n",
       "    }\n",
       "\n",
       "    .dataframe thead th {\n",
       "        text-align: right;\n",
       "    }\n",
       "</style>\n",
       "<table border=\"1\" class=\"dataframe\">\n",
       "  <thead>\n",
       "    <tr style=\"text-align: right;\">\n",
       "      <th></th>\n",
       "      <th>LV1</th>\n",
       "      <th>LV2</th>\n",
       "      <th>LV3</th>\n",
       "      <th>LV4</th>\n",
       "      <th>LV5</th>\n",
       "      <th>LV6</th>\n",
       "      <th>LV7</th>\n",
       "      <th>LV8</th>\n",
       "      <th>LV9</th>\n",
       "      <th>LV10</th>\n",
       "      <th>...</th>\n",
       "      <th>LV978</th>\n",
       "      <th>LV979</th>\n",
       "      <th>LV980</th>\n",
       "      <th>LV981</th>\n",
       "      <th>LV982</th>\n",
       "      <th>LV983</th>\n",
       "      <th>LV984</th>\n",
       "      <th>LV985</th>\n",
       "      <th>LV986</th>\n",
       "      <th>LV987</th>\n",
       "    </tr>\n",
       "  </thead>\n",
       "  <tbody>\n",
       "    <tr>\n",
       "      <th>GAS6</th>\n",
       "      <td>0.000000</td>\n",
       "      <td>0.0</td>\n",
       "      <td>0.039438</td>\n",
       "      <td>0.0</td>\n",
       "      <td>0.050476</td>\n",
       "      <td>0.000000</td>\n",
       "      <td>0.0</td>\n",
       "      <td>0.000000</td>\n",
       "      <td>0.590949</td>\n",
       "      <td>0.000000</td>\n",
       "      <td>...</td>\n",
       "      <td>0.050125</td>\n",
       "      <td>0.00000</td>\n",
       "      <td>0.033407</td>\n",
       "      <td>0.000000</td>\n",
       "      <td>0.000000</td>\n",
       "      <td>0.005963</td>\n",
       "      <td>0.347362</td>\n",
       "      <td>0.0</td>\n",
       "      <td>0.000000</td>\n",
       "      <td>0.000000</td>\n",
       "    </tr>\n",
       "    <tr>\n",
       "      <th>MMP14</th>\n",
       "      <td>0.000000</td>\n",
       "      <td>0.0</td>\n",
       "      <td>0.000000</td>\n",
       "      <td>0.0</td>\n",
       "      <td>0.070072</td>\n",
       "      <td>0.000000</td>\n",
       "      <td>0.0</td>\n",
       "      <td>0.004904</td>\n",
       "      <td>1.720179</td>\n",
       "      <td>2.423595</td>\n",
       "      <td>...</td>\n",
       "      <td>0.000000</td>\n",
       "      <td>0.00000</td>\n",
       "      <td>0.001007</td>\n",
       "      <td>0.000000</td>\n",
       "      <td>0.035747</td>\n",
       "      <td>0.000000</td>\n",
       "      <td>0.000000</td>\n",
       "      <td>0.0</td>\n",
       "      <td>0.014978</td>\n",
       "      <td>0.000000</td>\n",
       "    </tr>\n",
       "    <tr>\n",
       "      <th>DSP</th>\n",
       "      <td>0.000000</td>\n",
       "      <td>0.0</td>\n",
       "      <td>0.000000</td>\n",
       "      <td>0.0</td>\n",
       "      <td>0.000000</td>\n",
       "      <td>0.041697</td>\n",
       "      <td>0.0</td>\n",
       "      <td>0.005718</td>\n",
       "      <td>0.000000</td>\n",
       "      <td>0.000000</td>\n",
       "      <td>...</td>\n",
       "      <td>0.020853</td>\n",
       "      <td>0.00000</td>\n",
       "      <td>0.000000</td>\n",
       "      <td>0.000000</td>\n",
       "      <td>0.000000</td>\n",
       "      <td>0.005774</td>\n",
       "      <td>0.000000</td>\n",
       "      <td>0.0</td>\n",
       "      <td>0.000000</td>\n",
       "      <td>0.416405</td>\n",
       "    </tr>\n",
       "    <tr>\n",
       "      <th>MARCKSL1</th>\n",
       "      <td>0.305212</td>\n",
       "      <td>0.0</td>\n",
       "      <td>0.000000</td>\n",
       "      <td>0.0</td>\n",
       "      <td>0.000000</td>\n",
       "      <td>0.000000</td>\n",
       "      <td>0.0</td>\n",
       "      <td>0.000000</td>\n",
       "      <td>0.161843</td>\n",
       "      <td>0.149471</td>\n",
       "      <td>...</td>\n",
       "      <td>0.027134</td>\n",
       "      <td>0.05272</td>\n",
       "      <td>0.000000</td>\n",
       "      <td>0.030189</td>\n",
       "      <td>0.060884</td>\n",
       "      <td>0.000000</td>\n",
       "      <td>0.000000</td>\n",
       "      <td>0.0</td>\n",
       "      <td>0.000000</td>\n",
       "      <td>0.448480</td>\n",
       "    </tr>\n",
       "    <tr>\n",
       "      <th>SPARC</th>\n",
       "      <td>0.000000</td>\n",
       "      <td>0.0</td>\n",
       "      <td>0.000000</td>\n",
       "      <td>0.0</td>\n",
       "      <td>0.000000</td>\n",
       "      <td>0.000000</td>\n",
       "      <td>0.0</td>\n",
       "      <td>0.000000</td>\n",
       "      <td>0.000000</td>\n",
       "      <td>0.014014</td>\n",
       "      <td>...</td>\n",
       "      <td>0.000000</td>\n",
       "      <td>0.00000</td>\n",
       "      <td>0.000000</td>\n",
       "      <td>0.000000</td>\n",
       "      <td>0.000000</td>\n",
       "      <td>0.000000</td>\n",
       "      <td>0.067779</td>\n",
       "      <td>0.0</td>\n",
       "      <td>0.122417</td>\n",
       "      <td>0.062665</td>\n",
       "    </tr>\n",
       "  </tbody>\n",
       "</table>\n",
       "<p>5 rows × 987 columns</p>\n",
       "</div>"
      ],
      "text/plain": [
       "               LV1  LV2       LV3  LV4       LV5       LV6  LV7       LV8  \\\n",
       "GAS6      0.000000  0.0  0.039438  0.0  0.050476  0.000000  0.0  0.000000   \n",
       "MMP14     0.000000  0.0  0.000000  0.0  0.070072  0.000000  0.0  0.004904   \n",
       "DSP       0.000000  0.0  0.000000  0.0  0.000000  0.041697  0.0  0.005718   \n",
       "MARCKSL1  0.305212  0.0  0.000000  0.0  0.000000  0.000000  0.0  0.000000   \n",
       "SPARC     0.000000  0.0  0.000000  0.0  0.000000  0.000000  0.0  0.000000   \n",
       "\n",
       "               LV9      LV10  ...     LV978    LV979     LV980     LV981  \\\n",
       "GAS6      0.590949  0.000000  ...  0.050125  0.00000  0.033407  0.000000   \n",
       "MMP14     1.720179  2.423595  ...  0.000000  0.00000  0.001007  0.000000   \n",
       "DSP       0.000000  0.000000  ...  0.020853  0.00000  0.000000  0.000000   \n",
       "MARCKSL1  0.161843  0.149471  ...  0.027134  0.05272  0.000000  0.030189   \n",
       "SPARC     0.000000  0.014014  ...  0.000000  0.00000  0.000000  0.000000   \n",
       "\n",
       "             LV982     LV983     LV984  LV985     LV986     LV987  \n",
       "GAS6      0.000000  0.005963  0.347362    0.0  0.000000  0.000000  \n",
       "MMP14     0.035747  0.000000  0.000000    0.0  0.014978  0.000000  \n",
       "DSP       0.000000  0.005774  0.000000    0.0  0.000000  0.416405  \n",
       "MARCKSL1  0.060884  0.000000  0.000000    0.0  0.000000  0.448480  \n",
       "SPARC     0.000000  0.000000  0.067779    0.0  0.122417  0.062665  \n",
       "\n",
       "[5 rows x 987 columns]"
      ]
     },
     "execution_count": 41,
     "metadata": {},
     "output_type": "execute_result"
    }
   ],
   "source": [
    "multiplier_z.head()"
   ]
  },
  {
   "cell_type": "markdown",
   "metadata": {
    "papermill": {
     "duration": 0.012227,
     "end_time": "2020-12-23T18:04:40.308654",
     "exception": false,
     "start_time": "2020-12-23T18:04:40.296427",
     "status": "completed"
    },
    "tags": []
   },
   "source": [
    "## Prediction results"
   ]
  },
  {
   "cell_type": "markdown",
   "metadata": {},
   "source": [
    "### Full"
   ]
  },
  {
   "cell_type": "code",
   "execution_count": 42,
   "metadata": {},
   "outputs": [
    {
     "data": {
      "text/plain": [
       "PosixPath('/media/miltondp/Elements1/projects/phenoplier/results/drug_disease_analyses/lincs/predictions/predictions_results.pkl')"
      ]
     },
     "metadata": {},
     "output_type": "display_data"
    }
   ],
   "source": [
    "output_file = Path(\n",
    "    conf.RESULTS[\"DRUG_DISEASE_ANALYSES\"],\n",
    "    \"lincs\",\n",
    "    \"predictions\",\n",
    "    \"predictions_results.pkl\",\n",
    ").resolve()\n",
    "display(output_file)"
   ]
  },
  {
   "cell_type": "code",
   "execution_count": 43,
   "metadata": {},
   "outputs": [],
   "source": [
    "predictions = pd.read_pickle(output_file)"
   ]
  },
  {
   "cell_type": "code",
   "execution_count": 44,
   "metadata": {},
   "outputs": [
    {
     "data": {
      "text/plain": [
       "(316540, 8)"
      ]
     },
     "execution_count": 44,
     "metadata": {},
     "output_type": "execute_result"
    }
   ],
   "source": [
    "predictions.shape"
   ]
  },
  {
   "cell_type": "code",
   "execution_count": 45,
   "metadata": {},
   "outputs": [
    {
     "data": {
      "text/html": [
       "<div>\n",
       "<style scoped>\n",
       "    .dataframe tbody tr th:only-of-type {\n",
       "        vertical-align: middle;\n",
       "    }\n",
       "\n",
       "    .dataframe tbody tr th {\n",
       "        vertical-align: top;\n",
       "    }\n",
       "\n",
       "    .dataframe thead th {\n",
       "        text-align: right;\n",
       "    }\n",
       "</style>\n",
       "<table border=\"1\" class=\"dataframe\">\n",
       "  <thead>\n",
       "    <tr style=\"text-align: right;\">\n",
       "      <th></th>\n",
       "      <th>trait</th>\n",
       "      <th>drug</th>\n",
       "      <th>score</th>\n",
       "      <th>true_class</th>\n",
       "      <th>method</th>\n",
       "      <th>n_top_genes</th>\n",
       "      <th>data</th>\n",
       "      <th>tissue</th>\n",
       "    </tr>\n",
       "  </thead>\n",
       "  <tbody>\n",
       "    <tr>\n",
       "      <th>0</th>\n",
       "      <td>DOID:0050741</td>\n",
       "      <td>DB00215</td>\n",
       "      <td>323.0</td>\n",
       "      <td>1</td>\n",
       "      <td>Gene-based</td>\n",
       "      <td>100.0</td>\n",
       "      <td>spredixcan-mashr-zscores-Pancreas-data</td>\n",
       "      <td>Pancreas</td>\n",
       "    </tr>\n",
       "    <tr>\n",
       "      <th>1</th>\n",
       "      <td>DOID:0050741</td>\n",
       "      <td>DB00704</td>\n",
       "      <td>230.0</td>\n",
       "      <td>1</td>\n",
       "      <td>Gene-based</td>\n",
       "      <td>100.0</td>\n",
       "      <td>spredixcan-mashr-zscores-Pancreas-data</td>\n",
       "      <td>Pancreas</td>\n",
       "    </tr>\n",
       "    <tr>\n",
       "      <th>2</th>\n",
       "      <td>DOID:0050741</td>\n",
       "      <td>DB00822</td>\n",
       "      <td>199.0</td>\n",
       "      <td>1</td>\n",
       "      <td>Gene-based</td>\n",
       "      <td>100.0</td>\n",
       "      <td>spredixcan-mashr-zscores-Pancreas-data</td>\n",
       "      <td>Pancreas</td>\n",
       "    </tr>\n",
       "    <tr>\n",
       "      <th>3</th>\n",
       "      <td>DOID:10283</td>\n",
       "      <td>DB00014</td>\n",
       "      <td>115.0</td>\n",
       "      <td>1</td>\n",
       "      <td>Gene-based</td>\n",
       "      <td>100.0</td>\n",
       "      <td>spredixcan-mashr-zscores-Pancreas-data</td>\n",
       "      <td>Pancreas</td>\n",
       "    </tr>\n",
       "    <tr>\n",
       "      <th>4</th>\n",
       "      <td>DOID:10283</td>\n",
       "      <td>DB00175</td>\n",
       "      <td>167.0</td>\n",
       "      <td>0</td>\n",
       "      <td>Gene-based</td>\n",
       "      <td>100.0</td>\n",
       "      <td>spredixcan-mashr-zscores-Pancreas-data</td>\n",
       "      <td>Pancreas</td>\n",
       "    </tr>\n",
       "  </tbody>\n",
       "</table>\n",
       "</div>"
      ],
      "text/plain": [
       "          trait     drug  score  true_class      method  n_top_genes  \\\n",
       "0  DOID:0050741  DB00215  323.0           1  Gene-based        100.0   \n",
       "1  DOID:0050741  DB00704  230.0           1  Gene-based        100.0   \n",
       "2  DOID:0050741  DB00822  199.0           1  Gene-based        100.0   \n",
       "3    DOID:10283  DB00014  115.0           1  Gene-based        100.0   \n",
       "4    DOID:10283  DB00175  167.0           0  Gene-based        100.0   \n",
       "\n",
       "                                     data    tissue  \n",
       "0  spredixcan-mashr-zscores-Pancreas-data  Pancreas  \n",
       "1  spredixcan-mashr-zscores-Pancreas-data  Pancreas  \n",
       "2  spredixcan-mashr-zscores-Pancreas-data  Pancreas  \n",
       "3  spredixcan-mashr-zscores-Pancreas-data  Pancreas  \n",
       "4  spredixcan-mashr-zscores-Pancreas-data  Pancreas  "
      ]
     },
     "execution_count": 45,
     "metadata": {},
     "output_type": "execute_result"
    }
   ],
   "source": [
    "predictions.head()"
   ]
  },
  {
   "cell_type": "code",
   "execution_count": 46,
   "metadata": {},
   "outputs": [],
   "source": [
    "# def _reduce_mean(x):\n",
    "#     return pd.Series(\n",
    "#         {\"score\": x[\"score\"].mean(), \"true_class\": x[\"true_class\"].unique()[0]}\n",
    "#     )"
   ]
  },
  {
   "cell_type": "code",
   "execution_count": 47,
   "metadata": {},
   "outputs": [],
   "source": [
    "# predictions_by_tissue = (\n",
    "#     predictions.groupby([\"trait\", \"drug\", \"method\", \"tissue\"])\n",
    "#     .apply(_reduce_mean)\n",
    "#     .dropna()\n",
    "#     .sort_index()\n",
    "#     .reset_index()\n",
    "# )"
   ]
  },
  {
   "cell_type": "code",
   "execution_count": 48,
   "metadata": {},
   "outputs": [],
   "source": [
    "# predictions_by_tissue.head()"
   ]
  },
  {
   "cell_type": "markdown",
   "metadata": {
    "papermill": {
     "duration": 0.012227,
     "end_time": "2020-12-23T18:04:40.308654",
     "exception": false,
     "start_time": "2020-12-23T18:04:40.296427",
     "status": "completed"
    },
    "tags": []
   },
   "source": [
    "### Aggregated"
   ]
  },
  {
   "cell_type": "code",
   "execution_count": 49,
   "metadata": {},
   "outputs": [
    {
     "data": {
      "text/plain": [
       "PosixPath('/media/miltondp/Elements1/projects/phenoplier/results/drug_disease_analyses/lincs/predictions/predictions_results_aggregated.pkl')"
      ]
     },
     "metadata": {},
     "output_type": "display_data"
    }
   ],
   "source": [
    "output_file = Path(\n",
    "    conf.RESULTS[\"DRUG_DISEASE_ANALYSES\"],\n",
    "    \"lincs\",\n",
    "    \"predictions\",\n",
    "    \"predictions_results_aggregated.pkl\",\n",
    ").resolve()\n",
    "display(output_file)"
   ]
  },
  {
   "cell_type": "code",
   "execution_count": 50,
   "metadata": {},
   "outputs": [],
   "source": [
    "predictions_avg = pd.read_pickle(output_file)"
   ]
  },
  {
   "cell_type": "code",
   "execution_count": 51,
   "metadata": {},
   "outputs": [
    {
     "data": {
      "text/plain": [
       "(1292, 5)"
      ]
     },
     "execution_count": 51,
     "metadata": {},
     "output_type": "execute_result"
    }
   ],
   "source": [
    "predictions_avg.shape"
   ]
  },
  {
   "cell_type": "code",
   "execution_count": 52,
   "metadata": {},
   "outputs": [
    {
     "data": {
      "text/html": [
       "<div>\n",
       "<style scoped>\n",
       "    .dataframe tbody tr th:only-of-type {\n",
       "        vertical-align: middle;\n",
       "    }\n",
       "\n",
       "    .dataframe tbody tr th {\n",
       "        vertical-align: top;\n",
       "    }\n",
       "\n",
       "    .dataframe thead th {\n",
       "        text-align: right;\n",
       "    }\n",
       "</style>\n",
       "<table border=\"1\" class=\"dataframe\">\n",
       "  <thead>\n",
       "    <tr style=\"text-align: right;\">\n",
       "      <th></th>\n",
       "      <th>trait</th>\n",
       "      <th>drug</th>\n",
       "      <th>method</th>\n",
       "      <th>score</th>\n",
       "      <th>true_class</th>\n",
       "    </tr>\n",
       "  </thead>\n",
       "  <tbody>\n",
       "    <tr>\n",
       "      <th>0</th>\n",
       "      <td>DOID:0050741</td>\n",
       "      <td>DB00215</td>\n",
       "      <td>Gene-based</td>\n",
       "      <td>359.0</td>\n",
       "      <td>1.0</td>\n",
       "    </tr>\n",
       "    <tr>\n",
       "      <th>1</th>\n",
       "      <td>DOID:0050741</td>\n",
       "      <td>DB00215</td>\n",
       "      <td>Module-based</td>\n",
       "      <td>437.8</td>\n",
       "      <td>1.0</td>\n",
       "    </tr>\n",
       "    <tr>\n",
       "      <th>2</th>\n",
       "      <td>DOID:0050741</td>\n",
       "      <td>DB00704</td>\n",
       "      <td>Gene-based</td>\n",
       "      <td>395.8</td>\n",
       "      <td>1.0</td>\n",
       "    </tr>\n",
       "    <tr>\n",
       "      <th>3</th>\n",
       "      <td>DOID:0050741</td>\n",
       "      <td>DB00704</td>\n",
       "      <td>Module-based</td>\n",
       "      <td>562.8</td>\n",
       "      <td>1.0</td>\n",
       "    </tr>\n",
       "    <tr>\n",
       "      <th>4</th>\n",
       "      <td>DOID:0050741</td>\n",
       "      <td>DB00822</td>\n",
       "      <td>Gene-based</td>\n",
       "      <td>556.8</td>\n",
       "      <td>1.0</td>\n",
       "    </tr>\n",
       "  </tbody>\n",
       "</table>\n",
       "</div>"
      ],
      "text/plain": [
       "          trait     drug        method  score  true_class\n",
       "0  DOID:0050741  DB00215    Gene-based  359.0         1.0\n",
       "1  DOID:0050741  DB00215  Module-based  437.8         1.0\n",
       "2  DOID:0050741  DB00704    Gene-based  395.8         1.0\n",
       "3  DOID:0050741  DB00704  Module-based  562.8         1.0\n",
       "4  DOID:0050741  DB00822    Gene-based  556.8         1.0"
      ]
     },
     "execution_count": 52,
     "metadata": {},
     "output_type": "execute_result"
    }
   ],
   "source": [
    "predictions_avg.head()"
   ]
  },
  {
   "cell_type": "markdown",
   "metadata": {},
   "source": [
    "### Merge"
   ]
  },
  {
   "cell_type": "code",
   "execution_count": 53,
   "metadata": {},
   "outputs": [],
   "source": [
    "pharmadb_predictions = pd.merge(\n",
    "    gold_standard_info,\n",
    "    predictions_avg,\n",
    "    #     left_on=[\"doid_id\", \"drugbank_id\"],\n",
    "    on=[\"trait\", \"drug\"],\n",
    "    how=\"inner\",\n",
    ")"
   ]
  },
  {
   "cell_type": "code",
   "execution_count": 54,
   "metadata": {},
   "outputs": [
    {
     "data": {
      "text/html": [
       "<div>\n",
       "<style scoped>\n",
       "    .dataframe tbody tr th:only-of-type {\n",
       "        vertical-align: middle;\n",
       "    }\n",
       "\n",
       "    .dataframe tbody tr th {\n",
       "        vertical-align: top;\n",
       "    }\n",
       "\n",
       "    .dataframe thead th {\n",
       "        text-align: right;\n",
       "    }\n",
       "</style>\n",
       "<table border=\"1\" class=\"dataframe\">\n",
       "  <thead>\n",
       "    <tr style=\"text-align: right;\">\n",
       "      <th></th>\n",
       "      <th>trait</th>\n",
       "      <th>drug</th>\n",
       "      <th>true_class_x</th>\n",
       "      <th>disease</th>\n",
       "      <th>drug_name</th>\n",
       "      <th>category</th>\n",
       "      <th>n_curators</th>\n",
       "      <th>n_resources</th>\n",
       "      <th>method</th>\n",
       "      <th>score</th>\n",
       "      <th>true_class_y</th>\n",
       "    </tr>\n",
       "  </thead>\n",
       "  <tbody>\n",
       "    <tr>\n",
       "      <th>0</th>\n",
       "      <td>DOID:10652</td>\n",
       "      <td>DB00843</td>\n",
       "      <td>1</td>\n",
       "      <td>Alzheimer's disease</td>\n",
       "      <td>Donepezil</td>\n",
       "      <td>DM</td>\n",
       "      <td>2</td>\n",
       "      <td>1</td>\n",
       "      <td>Gene-based</td>\n",
       "      <td>311.6</td>\n",
       "      <td>1.0</td>\n",
       "    </tr>\n",
       "    <tr>\n",
       "      <th>1</th>\n",
       "      <td>DOID:10652</td>\n",
       "      <td>DB00843</td>\n",
       "      <td>1</td>\n",
       "      <td>Alzheimer's disease</td>\n",
       "      <td>Donepezil</td>\n",
       "      <td>DM</td>\n",
       "      <td>2</td>\n",
       "      <td>1</td>\n",
       "      <td>Module-based</td>\n",
       "      <td>475.2</td>\n",
       "      <td>1.0</td>\n",
       "    </tr>\n",
       "    <tr>\n",
       "      <th>2</th>\n",
       "      <td>DOID:10652</td>\n",
       "      <td>DB00674</td>\n",
       "      <td>1</td>\n",
       "      <td>Alzheimer's disease</td>\n",
       "      <td>Galantamine</td>\n",
       "      <td>DM</td>\n",
       "      <td>1</td>\n",
       "      <td>4</td>\n",
       "      <td>Gene-based</td>\n",
       "      <td>509.4</td>\n",
       "      <td>1.0</td>\n",
       "    </tr>\n",
       "    <tr>\n",
       "      <th>3</th>\n",
       "      <td>DOID:10652</td>\n",
       "      <td>DB00674</td>\n",
       "      <td>1</td>\n",
       "      <td>Alzheimer's disease</td>\n",
       "      <td>Galantamine</td>\n",
       "      <td>DM</td>\n",
       "      <td>1</td>\n",
       "      <td>4</td>\n",
       "      <td>Module-based</td>\n",
       "      <td>508.0</td>\n",
       "      <td>1.0</td>\n",
       "    </tr>\n",
       "    <tr>\n",
       "      <th>4</th>\n",
       "      <td>DOID:10652</td>\n",
       "      <td>DB01043</td>\n",
       "      <td>1</td>\n",
       "      <td>Alzheimer's disease</td>\n",
       "      <td>Memantine</td>\n",
       "      <td>DM</td>\n",
       "      <td>1</td>\n",
       "      <td>3</td>\n",
       "      <td>Gene-based</td>\n",
       "      <td>452.4</td>\n",
       "      <td>1.0</td>\n",
       "    </tr>\n",
       "    <tr>\n",
       "      <th>...</th>\n",
       "      <td>...</td>\n",
       "      <td>...</td>\n",
       "      <td>...</td>\n",
       "      <td>...</td>\n",
       "      <td>...</td>\n",
       "      <td>...</td>\n",
       "      <td>...</td>\n",
       "      <td>...</td>\n",
       "      <td>...</td>\n",
       "      <td>...</td>\n",
       "      <td>...</td>\n",
       "    </tr>\n",
       "    <tr>\n",
       "      <th>1287</th>\n",
       "      <td>DOID:363</td>\n",
       "      <td>DB00917</td>\n",
       "      <td>0</td>\n",
       "      <td>uterine cancer</td>\n",
       "      <td>Dinoprostone</td>\n",
       "      <td>NOT</td>\n",
       "      <td>3</td>\n",
       "      <td>1</td>\n",
       "      <td>Module-based</td>\n",
       "      <td>476.0</td>\n",
       "      <td>0.0</td>\n",
       "    </tr>\n",
       "    <tr>\n",
       "      <th>1288</th>\n",
       "      <td>DOID:363</td>\n",
       "      <td>DB00783</td>\n",
       "      <td>0</td>\n",
       "      <td>uterine cancer</td>\n",
       "      <td>Estradiol</td>\n",
       "      <td>NOT</td>\n",
       "      <td>2</td>\n",
       "      <td>1</td>\n",
       "      <td>Gene-based</td>\n",
       "      <td>556.0</td>\n",
       "      <td>0.0</td>\n",
       "    </tr>\n",
       "    <tr>\n",
       "      <th>1289</th>\n",
       "      <td>DOID:363</td>\n",
       "      <td>DB00783</td>\n",
       "      <td>0</td>\n",
       "      <td>uterine cancer</td>\n",
       "      <td>Estradiol</td>\n",
       "      <td>NOT</td>\n",
       "      <td>2</td>\n",
       "      <td>1</td>\n",
       "      <td>Module-based</td>\n",
       "      <td>603.0</td>\n",
       "      <td>0.0</td>\n",
       "    </tr>\n",
       "    <tr>\n",
       "      <th>1290</th>\n",
       "      <td>DOID:12306</td>\n",
       "      <td>DB00553</td>\n",
       "      <td>1</td>\n",
       "      <td>vitiligo</td>\n",
       "      <td>Methoxsalen</td>\n",
       "      <td>DM</td>\n",
       "      <td>3</td>\n",
       "      <td>1</td>\n",
       "      <td>Gene-based</td>\n",
       "      <td>550.8</td>\n",
       "      <td>1.0</td>\n",
       "    </tr>\n",
       "    <tr>\n",
       "      <th>1291</th>\n",
       "      <td>DOID:12306</td>\n",
       "      <td>DB00553</td>\n",
       "      <td>1</td>\n",
       "      <td>vitiligo</td>\n",
       "      <td>Methoxsalen</td>\n",
       "      <td>DM</td>\n",
       "      <td>3</td>\n",
       "      <td>1</td>\n",
       "      <td>Module-based</td>\n",
       "      <td>506.8</td>\n",
       "      <td>1.0</td>\n",
       "    </tr>\n",
       "  </tbody>\n",
       "</table>\n",
       "<p>1292 rows × 11 columns</p>\n",
       "</div>"
      ],
      "text/plain": [
       "           trait     drug  true_class_x              disease     drug_name  \\\n",
       "0     DOID:10652  DB00843             1  Alzheimer's disease     Donepezil   \n",
       "1     DOID:10652  DB00843             1  Alzheimer's disease     Donepezil   \n",
       "2     DOID:10652  DB00674             1  Alzheimer's disease   Galantamine   \n",
       "3     DOID:10652  DB00674             1  Alzheimer's disease   Galantamine   \n",
       "4     DOID:10652  DB01043             1  Alzheimer's disease     Memantine   \n",
       "...          ...      ...           ...                  ...           ...   \n",
       "1287    DOID:363  DB00917             0       uterine cancer  Dinoprostone   \n",
       "1288    DOID:363  DB00783             0       uterine cancer     Estradiol   \n",
       "1289    DOID:363  DB00783             0       uterine cancer     Estradiol   \n",
       "1290  DOID:12306  DB00553             1             vitiligo   Methoxsalen   \n",
       "1291  DOID:12306  DB00553             1             vitiligo   Methoxsalen   \n",
       "\n",
       "     category  n_curators  n_resources        method  score  true_class_y  \n",
       "0          DM           2            1    Gene-based  311.6           1.0  \n",
       "1          DM           2            1  Module-based  475.2           1.0  \n",
       "2          DM           1            4    Gene-based  509.4           1.0  \n",
       "3          DM           1            4  Module-based  508.0           1.0  \n",
       "4          DM           1            3    Gene-based  452.4           1.0  \n",
       "...       ...         ...          ...           ...    ...           ...  \n",
       "1287      NOT           3            1  Module-based  476.0           0.0  \n",
       "1288      NOT           2            1    Gene-based  556.0           0.0  \n",
       "1289      NOT           2            1  Module-based  603.0           0.0  \n",
       "1290       DM           3            1    Gene-based  550.8           1.0  \n",
       "1291       DM           3            1  Module-based  506.8           1.0  \n",
       "\n",
       "[1292 rows x 11 columns]"
      ]
     },
     "execution_count": 54,
     "metadata": {},
     "output_type": "execute_result"
    }
   ],
   "source": [
    "pharmadb_predictions"
   ]
  },
  {
   "cell_type": "code",
   "execution_count": 55,
   "metadata": {},
   "outputs": [],
   "source": [
    "pharmadb_predictions = pharmadb_predictions[\n",
    "    [\"trait\", \"drug\", \"disease\", \"drug_name\", \"method\", \"score\", \"true_class_x\"]\n",
    "].rename(columns={\"true_class_x\": \"true_class\", \"drug_x\": \"drug\"})"
   ]
  },
  {
   "cell_type": "code",
   "execution_count": 56,
   "metadata": {},
   "outputs": [
    {
     "data": {
      "text/plain": [
       "(1292, 7)"
      ]
     },
     "metadata": {},
     "output_type": "display_data"
    }
   ],
   "source": [
    "display(pharmadb_predictions.shape)\n",
    "assert pharmadb_predictions.shape[0] == predictions_avg.shape[0]"
   ]
  },
  {
   "cell_type": "code",
   "execution_count": 57,
   "metadata": {},
   "outputs": [
    {
     "data": {
      "text/html": [
       "<div>\n",
       "<style scoped>\n",
       "    .dataframe tbody tr th:only-of-type {\n",
       "        vertical-align: middle;\n",
       "    }\n",
       "\n",
       "    .dataframe tbody tr th {\n",
       "        vertical-align: top;\n",
       "    }\n",
       "\n",
       "    .dataframe thead th {\n",
       "        text-align: right;\n",
       "    }\n",
       "</style>\n",
       "<table border=\"1\" class=\"dataframe\">\n",
       "  <thead>\n",
       "    <tr style=\"text-align: right;\">\n",
       "      <th></th>\n",
       "      <th>trait</th>\n",
       "      <th>drug</th>\n",
       "      <th>disease</th>\n",
       "      <th>drug_name</th>\n",
       "      <th>method</th>\n",
       "      <th>score</th>\n",
       "      <th>true_class</th>\n",
       "    </tr>\n",
       "  </thead>\n",
       "  <tbody>\n",
       "    <tr>\n",
       "      <th>0</th>\n",
       "      <td>DOID:10652</td>\n",
       "      <td>DB00843</td>\n",
       "      <td>Alzheimer's disease</td>\n",
       "      <td>Donepezil</td>\n",
       "      <td>Gene-based</td>\n",
       "      <td>311.6</td>\n",
       "      <td>1</td>\n",
       "    </tr>\n",
       "    <tr>\n",
       "      <th>1</th>\n",
       "      <td>DOID:10652</td>\n",
       "      <td>DB00843</td>\n",
       "      <td>Alzheimer's disease</td>\n",
       "      <td>Donepezil</td>\n",
       "      <td>Module-based</td>\n",
       "      <td>475.2</td>\n",
       "      <td>1</td>\n",
       "    </tr>\n",
       "    <tr>\n",
       "      <th>2</th>\n",
       "      <td>DOID:10652</td>\n",
       "      <td>DB00674</td>\n",
       "      <td>Alzheimer's disease</td>\n",
       "      <td>Galantamine</td>\n",
       "      <td>Gene-based</td>\n",
       "      <td>509.4</td>\n",
       "      <td>1</td>\n",
       "    </tr>\n",
       "    <tr>\n",
       "      <th>3</th>\n",
       "      <td>DOID:10652</td>\n",
       "      <td>DB00674</td>\n",
       "      <td>Alzheimer's disease</td>\n",
       "      <td>Galantamine</td>\n",
       "      <td>Module-based</td>\n",
       "      <td>508.0</td>\n",
       "      <td>1</td>\n",
       "    </tr>\n",
       "    <tr>\n",
       "      <th>4</th>\n",
       "      <td>DOID:10652</td>\n",
       "      <td>DB01043</td>\n",
       "      <td>Alzheimer's disease</td>\n",
       "      <td>Memantine</td>\n",
       "      <td>Gene-based</td>\n",
       "      <td>452.4</td>\n",
       "      <td>1</td>\n",
       "    </tr>\n",
       "  </tbody>\n",
       "</table>\n",
       "</div>"
      ],
      "text/plain": [
       "        trait     drug              disease    drug_name        method  score  \\\n",
       "0  DOID:10652  DB00843  Alzheimer's disease    Donepezil    Gene-based  311.6   \n",
       "1  DOID:10652  DB00843  Alzheimer's disease    Donepezil  Module-based  475.2   \n",
       "2  DOID:10652  DB00674  Alzheimer's disease  Galantamine    Gene-based  509.4   \n",
       "3  DOID:10652  DB00674  Alzheimer's disease  Galantamine  Module-based  508.0   \n",
       "4  DOID:10652  DB01043  Alzheimer's disease    Memantine    Gene-based  452.4   \n",
       "\n",
       "   true_class  \n",
       "0           1  \n",
       "1           1  \n",
       "2           1  \n",
       "3           1  \n",
       "4           1  "
      ]
     },
     "execution_count": 57,
     "metadata": {},
     "output_type": "execute_result"
    }
   ],
   "source": [
    "pharmadb_predictions.head()"
   ]
  },
  {
   "cell_type": "code",
   "execution_count": 58,
   "metadata": {
    "papermill": {
     "duration": 0.021146,
     "end_time": "2020-12-23T18:04:39.772888",
     "exception": false,
     "start_time": "2020-12-23T18:04:39.751742",
     "status": "completed"
    },
    "tags": []
   },
   "outputs": [
    {
     "data": {
      "text/plain": [
       "(53,)"
      ]
     },
     "execution_count": 58,
     "metadata": {},
     "output_type": "execute_result"
    }
   ],
   "source": [
    "pharmadb_predictions[\"trait\"].unique().shape"
   ]
  },
  {
   "cell_type": "code",
   "execution_count": 59,
   "metadata": {
    "papermill": {
     "duration": 0.02135,
     "end_time": "2020-12-23T18:04:39.805324",
     "exception": false,
     "start_time": "2020-12-23T18:04:39.783974",
     "status": "completed"
    },
    "tags": []
   },
   "outputs": [
    {
     "data": {
      "text/plain": [
       "(322,)"
      ]
     },
     "execution_count": 59,
     "metadata": {},
     "output_type": "execute_result"
    }
   ],
   "source": [
    "pharmadb_predictions[\"drug\"].unique().shape"
   ]
  },
  {
   "cell_type": "markdown",
   "metadata": {},
   "source": [
    "### Standardize"
   ]
  },
  {
   "cell_type": "code",
   "execution_count": 60,
   "metadata": {},
   "outputs": [
    {
     "data": {
      "text/html": [
       "<div>\n",
       "<style scoped>\n",
       "    .dataframe tbody tr th:only-of-type {\n",
       "        vertical-align: middle;\n",
       "    }\n",
       "\n",
       "    .dataframe tbody tr th {\n",
       "        vertical-align: top;\n",
       "    }\n",
       "\n",
       "    .dataframe thead th {\n",
       "        text-align: right;\n",
       "    }\n",
       "</style>\n",
       "<table border=\"1\" class=\"dataframe\">\n",
       "  <thead>\n",
       "    <tr style=\"text-align: right;\">\n",
       "      <th></th>\n",
       "      <th>count</th>\n",
       "      <th>mean</th>\n",
       "      <th>std</th>\n",
       "      <th>min</th>\n",
       "      <th>25%</th>\n",
       "      <th>50%</th>\n",
       "      <th>75%</th>\n",
       "      <th>max</th>\n",
       "    </tr>\n",
       "    <tr>\n",
       "      <th>method</th>\n",
       "      <th></th>\n",
       "      <th></th>\n",
       "      <th></th>\n",
       "      <th></th>\n",
       "      <th></th>\n",
       "      <th></th>\n",
       "      <th></th>\n",
       "      <th></th>\n",
       "    </tr>\n",
       "  </thead>\n",
       "  <tbody>\n",
       "    <tr>\n",
       "      <th>Gene-based</th>\n",
       "      <td>646.0</td>\n",
       "      <td>517.657585</td>\n",
       "      <td>93.950154</td>\n",
       "      <td>87.3</td>\n",
       "      <td>458.95</td>\n",
       "      <td>535.4</td>\n",
       "      <td>591.75</td>\n",
       "      <td>646.0</td>\n",
       "    </tr>\n",
       "    <tr>\n",
       "      <th>Module-based</th>\n",
       "      <td>646.0</td>\n",
       "      <td>530.429721</td>\n",
       "      <td>73.472425</td>\n",
       "      <td>220.4</td>\n",
       "      <td>484.10</td>\n",
       "      <td>535.0</td>\n",
       "      <td>587.90</td>\n",
       "      <td>646.0</td>\n",
       "    </tr>\n",
       "  </tbody>\n",
       "</table>\n",
       "</div>"
      ],
      "text/plain": [
       "              count        mean        std    min     25%    50%     75%  \\\n",
       "method                                                                     \n",
       "Gene-based    646.0  517.657585  93.950154   87.3  458.95  535.4  591.75   \n",
       "Module-based  646.0  530.429721  73.472425  220.4  484.10  535.0  587.90   \n",
       "\n",
       "                max  \n",
       "method               \n",
       "Gene-based    646.0  \n",
       "Module-based  646.0  "
      ]
     },
     "metadata": {},
     "output_type": "display_data"
    }
   ],
   "source": [
    "data_stats = pharmadb_predictions.groupby(\"method\")[\"score\"].describe()\n",
    "display(data_stats)"
   ]
  },
  {
   "cell_type": "code",
   "execution_count": 61,
   "metadata": {},
   "outputs": [],
   "source": [
    "# Standardize scores by method\n",
    "def _standardize(x):\n",
    "    return (x[\"score\"] - data_stats.loc[x[\"method\"], \"mean\"]) / data_stats.loc[\n",
    "        x[\"method\"], \"std\"\n",
    "    ]"
   ]
  },
  {
   "cell_type": "code",
   "execution_count": 62,
   "metadata": {},
   "outputs": [],
   "source": [
    "pharmadb_predictions = pharmadb_predictions.assign(\n",
    "    score_std=pharmadb_predictions.apply(_standardize, axis=1)\n",
    ")"
   ]
  },
  {
   "cell_type": "code",
   "execution_count": 63,
   "metadata": {},
   "outputs": [
    {
     "data": {
      "text/html": [
       "<div>\n",
       "<style scoped>\n",
       "    .dataframe tbody tr th:only-of-type {\n",
       "        vertical-align: middle;\n",
       "    }\n",
       "\n",
       "    .dataframe tbody tr th {\n",
       "        vertical-align: top;\n",
       "    }\n",
       "\n",
       "    .dataframe thead th {\n",
       "        text-align: right;\n",
       "    }\n",
       "</style>\n",
       "<table border=\"1\" class=\"dataframe\">\n",
       "  <thead>\n",
       "    <tr style=\"text-align: right;\">\n",
       "      <th></th>\n",
       "      <th>trait</th>\n",
       "      <th>drug</th>\n",
       "      <th>disease</th>\n",
       "      <th>drug_name</th>\n",
       "      <th>method</th>\n",
       "      <th>score</th>\n",
       "      <th>true_class</th>\n",
       "      <th>score_std</th>\n",
       "    </tr>\n",
       "  </thead>\n",
       "  <tbody>\n",
       "    <tr>\n",
       "      <th>0</th>\n",
       "      <td>DOID:10652</td>\n",
       "      <td>DB00843</td>\n",
       "      <td>Alzheimer's disease</td>\n",
       "      <td>Donepezil</td>\n",
       "      <td>Gene-based</td>\n",
       "      <td>311.6</td>\n",
       "      <td>1</td>\n",
       "      <td>-2.193265</td>\n",
       "    </tr>\n",
       "    <tr>\n",
       "      <th>1</th>\n",
       "      <td>DOID:10652</td>\n",
       "      <td>DB00843</td>\n",
       "      <td>Alzheimer's disease</td>\n",
       "      <td>Donepezil</td>\n",
       "      <td>Module-based</td>\n",
       "      <td>475.2</td>\n",
       "      <td>1</td>\n",
       "      <td>-0.751707</td>\n",
       "    </tr>\n",
       "    <tr>\n",
       "      <th>2</th>\n",
       "      <td>DOID:10652</td>\n",
       "      <td>DB00674</td>\n",
       "      <td>Alzheimer's disease</td>\n",
       "      <td>Galantamine</td>\n",
       "      <td>Gene-based</td>\n",
       "      <td>509.4</td>\n",
       "      <td>1</td>\n",
       "      <td>-0.087893</td>\n",
       "    </tr>\n",
       "    <tr>\n",
       "      <th>3</th>\n",
       "      <td>DOID:10652</td>\n",
       "      <td>DB00674</td>\n",
       "      <td>Alzheimer's disease</td>\n",
       "      <td>Galantamine</td>\n",
       "      <td>Module-based</td>\n",
       "      <td>508.0</td>\n",
       "      <td>1</td>\n",
       "      <td>-0.305281</td>\n",
       "    </tr>\n",
       "    <tr>\n",
       "      <th>4</th>\n",
       "      <td>DOID:10652</td>\n",
       "      <td>DB01043</td>\n",
       "      <td>Alzheimer's disease</td>\n",
       "      <td>Memantine</td>\n",
       "      <td>Gene-based</td>\n",
       "      <td>452.4</td>\n",
       "      <td>1</td>\n",
       "      <td>-0.694598</td>\n",
       "    </tr>\n",
       "    <tr>\n",
       "      <th>...</th>\n",
       "      <td>...</td>\n",
       "      <td>...</td>\n",
       "      <td>...</td>\n",
       "      <td>...</td>\n",
       "      <td>...</td>\n",
       "      <td>...</td>\n",
       "      <td>...</td>\n",
       "      <td>...</td>\n",
       "    </tr>\n",
       "    <tr>\n",
       "      <th>1287</th>\n",
       "      <td>DOID:363</td>\n",
       "      <td>DB00917</td>\n",
       "      <td>uterine cancer</td>\n",
       "      <td>Dinoprostone</td>\n",
       "      <td>Module-based</td>\n",
       "      <td>476.0</td>\n",
       "      <td>0</td>\n",
       "      <td>-0.740818</td>\n",
       "    </tr>\n",
       "    <tr>\n",
       "      <th>1288</th>\n",
       "      <td>DOID:363</td>\n",
       "      <td>DB00783</td>\n",
       "      <td>uterine cancer</td>\n",
       "      <td>Estradiol</td>\n",
       "      <td>Gene-based</td>\n",
       "      <td>556.0</td>\n",
       "      <td>0</td>\n",
       "      <td>0.408114</td>\n",
       "    </tr>\n",
       "    <tr>\n",
       "      <th>1289</th>\n",
       "      <td>DOID:363</td>\n",
       "      <td>DB00783</td>\n",
       "      <td>uterine cancer</td>\n",
       "      <td>Estradiol</td>\n",
       "      <td>Module-based</td>\n",
       "      <td>603.0</td>\n",
       "      <td>0</td>\n",
       "      <td>0.987721</td>\n",
       "    </tr>\n",
       "    <tr>\n",
       "      <th>1290</th>\n",
       "      <td>DOID:12306</td>\n",
       "      <td>DB00553</td>\n",
       "      <td>vitiligo</td>\n",
       "      <td>Methoxsalen</td>\n",
       "      <td>Gene-based</td>\n",
       "      <td>550.8</td>\n",
       "      <td>1</td>\n",
       "      <td>0.352766</td>\n",
       "    </tr>\n",
       "    <tr>\n",
       "      <th>1291</th>\n",
       "      <td>DOID:12306</td>\n",
       "      <td>DB00553</td>\n",
       "      <td>vitiligo</td>\n",
       "      <td>Methoxsalen</td>\n",
       "      <td>Module-based</td>\n",
       "      <td>506.8</td>\n",
       "      <td>1</td>\n",
       "      <td>-0.321613</td>\n",
       "    </tr>\n",
       "  </tbody>\n",
       "</table>\n",
       "<p>1292 rows × 8 columns</p>\n",
       "</div>"
      ],
      "text/plain": [
       "           trait     drug              disease     drug_name        method  \\\n",
       "0     DOID:10652  DB00843  Alzheimer's disease     Donepezil    Gene-based   \n",
       "1     DOID:10652  DB00843  Alzheimer's disease     Donepezil  Module-based   \n",
       "2     DOID:10652  DB00674  Alzheimer's disease   Galantamine    Gene-based   \n",
       "3     DOID:10652  DB00674  Alzheimer's disease   Galantamine  Module-based   \n",
       "4     DOID:10652  DB01043  Alzheimer's disease     Memantine    Gene-based   \n",
       "...          ...      ...                  ...           ...           ...   \n",
       "1287    DOID:363  DB00917       uterine cancer  Dinoprostone  Module-based   \n",
       "1288    DOID:363  DB00783       uterine cancer     Estradiol    Gene-based   \n",
       "1289    DOID:363  DB00783       uterine cancer     Estradiol  Module-based   \n",
       "1290  DOID:12306  DB00553             vitiligo   Methoxsalen    Gene-based   \n",
       "1291  DOID:12306  DB00553             vitiligo   Methoxsalen  Module-based   \n",
       "\n",
       "      score  true_class  score_std  \n",
       "0     311.6           1  -2.193265  \n",
       "1     475.2           1  -0.751707  \n",
       "2     509.4           1  -0.087893  \n",
       "3     508.0           1  -0.305281  \n",
       "4     452.4           1  -0.694598  \n",
       "...     ...         ...        ...  \n",
       "1287  476.0           0  -0.740818  \n",
       "1288  556.0           0   0.408114  \n",
       "1289  603.0           0   0.987721  \n",
       "1290  550.8           1   0.352766  \n",
       "1291  506.8           1  -0.321613  \n",
       "\n",
       "[1292 rows x 8 columns]"
      ]
     },
     "execution_count": 63,
     "metadata": {},
     "output_type": "execute_result"
    }
   ],
   "source": [
    "pharmadb_predictions"
   ]
  },
  {
   "cell_type": "markdown",
   "metadata": {},
   "source": [
    "### Testing"
   ]
  },
  {
   "cell_type": "code",
   "execution_count": 64,
   "metadata": {},
   "outputs": [
    {
     "data": {
      "text/html": [
       "<div>\n",
       "<style scoped>\n",
       "    .dataframe tbody tr th:only-of-type {\n",
       "        vertical-align: middle;\n",
       "    }\n",
       "\n",
       "    .dataframe tbody tr th {\n",
       "        vertical-align: top;\n",
       "    }\n",
       "\n",
       "    .dataframe thead tr th {\n",
       "        text-align: left;\n",
       "    }\n",
       "\n",
       "    .dataframe thead tr:last-of-type th {\n",
       "        text-align: right;\n",
       "    }\n",
       "</style>\n",
       "<table border=\"1\" class=\"dataframe\">\n",
       "  <thead>\n",
       "    <tr>\n",
       "      <th></th>\n",
       "      <th colspan=\"8\" halign=\"left\">score</th>\n",
       "      <th colspan=\"8\" halign=\"left\">score_std</th>\n",
       "    </tr>\n",
       "    <tr>\n",
       "      <th></th>\n",
       "      <th>count</th>\n",
       "      <th>mean</th>\n",
       "      <th>std</th>\n",
       "      <th>min</th>\n",
       "      <th>25%</th>\n",
       "      <th>50%</th>\n",
       "      <th>75%</th>\n",
       "      <th>max</th>\n",
       "      <th>count</th>\n",
       "      <th>mean</th>\n",
       "      <th>std</th>\n",
       "      <th>min</th>\n",
       "      <th>25%</th>\n",
       "      <th>50%</th>\n",
       "      <th>75%</th>\n",
       "      <th>max</th>\n",
       "    </tr>\n",
       "    <tr>\n",
       "      <th>method</th>\n",
       "      <th></th>\n",
       "      <th></th>\n",
       "      <th></th>\n",
       "      <th></th>\n",
       "      <th></th>\n",
       "      <th></th>\n",
       "      <th></th>\n",
       "      <th></th>\n",
       "      <th></th>\n",
       "      <th></th>\n",
       "      <th></th>\n",
       "      <th></th>\n",
       "      <th></th>\n",
       "      <th></th>\n",
       "      <th></th>\n",
       "      <th></th>\n",
       "    </tr>\n",
       "  </thead>\n",
       "  <tbody>\n",
       "    <tr>\n",
       "      <th>Gene-based</th>\n",
       "      <td>646.0</td>\n",
       "      <td>517.657585</td>\n",
       "      <td>93.950154</td>\n",
       "      <td>87.3</td>\n",
       "      <td>458.95</td>\n",
       "      <td>535.4</td>\n",
       "      <td>591.75</td>\n",
       "      <td>646.0</td>\n",
       "      <td>646.0</td>\n",
       "      <td>-5.609548e-16</td>\n",
       "      <td>1.0</td>\n",
       "      <td>-4.580701</td>\n",
       "      <td>-0.624880</td>\n",
       "      <td>0.188849</td>\n",
       "      <td>0.788635</td>\n",
       "      <td>1.366069</td>\n",
       "    </tr>\n",
       "    <tr>\n",
       "      <th>Module-based</th>\n",
       "      <td>646.0</td>\n",
       "      <td>530.429721</td>\n",
       "      <td>73.472425</td>\n",
       "      <td>220.4</td>\n",
       "      <td>484.10</td>\n",
       "      <td>535.0</td>\n",
       "      <td>587.90</td>\n",
       "      <td>646.0</td>\n",
       "      <td>646.0</td>\n",
       "      <td>2.034836e-16</td>\n",
       "      <td>1.0</td>\n",
       "      <td>-4.219675</td>\n",
       "      <td>-0.630573</td>\n",
       "      <td>0.062204</td>\n",
       "      <td>0.782202</td>\n",
       "      <td>1.572975</td>\n",
       "    </tr>\n",
       "  </tbody>\n",
       "</table>\n",
       "</div>"
      ],
      "text/plain": [
       "              score                                                       \\\n",
       "              count        mean        std    min     25%    50%     75%   \n",
       "method                                                                     \n",
       "Gene-based    646.0  517.657585  93.950154   87.3  458.95  535.4  591.75   \n",
       "Module-based  646.0  530.429721  73.472425  220.4  484.10  535.0  587.90   \n",
       "\n",
       "                    score_std                                         \\\n",
       "                max     count          mean  std       min       25%   \n",
       "method                                                                 \n",
       "Gene-based    646.0     646.0 -5.609548e-16  1.0 -4.580701 -0.624880   \n",
       "Module-based  646.0     646.0  2.034836e-16  1.0 -4.219675 -0.630573   \n",
       "\n",
       "                                            \n",
       "                   50%       75%       max  \n",
       "method                                      \n",
       "Gene-based    0.188849  0.788635  1.366069  \n",
       "Module-based  0.062204  0.782202  1.572975  "
      ]
     },
     "metadata": {},
     "output_type": "display_data"
    }
   ],
   "source": [
    "_tmp = pharmadb_predictions.groupby(\"method\")[[\"score\", \"score_std\"]].describe()\n",
    "display(_tmp)"
   ]
  },
  {
   "cell_type": "code",
   "execution_count": 65,
   "metadata": {},
   "outputs": [],
   "source": [
    "_tmp0 = pharmadb_predictions[(pharmadb_predictions[\"method\"] == \"Gene-based\")][\n",
    "    [\"score\", \"score_std\"]\n",
    "]"
   ]
  },
  {
   "cell_type": "code",
   "execution_count": 66,
   "metadata": {},
   "outputs": [],
   "source": [
    "assert all(_tmp0.corr() > 0.99999)"
   ]
  },
  {
   "cell_type": "code",
   "execution_count": 67,
   "metadata": {},
   "outputs": [],
   "source": [
    "_tmp0 = pharmadb_predictions[(pharmadb_predictions[\"method\"] == \"Module-based\")][\n",
    "    [\"score\", \"score_std\"]\n",
    "]"
   ]
  },
  {
   "cell_type": "code",
   "execution_count": 68,
   "metadata": {},
   "outputs": [],
   "source": [
    "assert all(_tmp0.corr() > 0.99999)"
   ]
  },
  {
   "cell_type": "markdown",
   "metadata": {},
   "source": [
    "# List diseases"
   ]
  },
  {
   "cell_type": "code",
   "execution_count": 69,
   "metadata": {},
   "outputs": [
    {
     "data": {
      "text/plain": [
       "array([\"Alzheimer's disease\", \"Crohn's disease\", \"Parkinson's disease\",\n",
       "       'alcohol dependence', 'allergic rhinitis', 'anemia',\n",
       "       'ankylosing spondylitis', 'asthma', 'atherosclerosis',\n",
       "       'bone cancer', 'brain cancer', 'breast cancer', 'cervical cancer',\n",
       "       'chronic kidney failure', 'chronic obstructive pulmonary disease',\n",
       "       'coronary artery disease', 'epilepsy syndrome',\n",
       "       'esophageal cancer', 'gestational diabetes', 'glaucoma', 'gout',\n",
       "       'hematologic cancer', 'hypertension', 'hypothyroidism',\n",
       "       'kidney cancer', 'liver cancer', 'lung cancer', 'malaria',\n",
       "       'melanoma', 'migraine', 'multiple sclerosis', 'nephrolithiasis',\n",
       "       'obesity', 'osteoarthritis', 'osteoporosis', 'pancreatic cancer',\n",
       "       'pancreatitis', 'periodontitis', 'prostate cancer', 'psoriasis',\n",
       "       'psoriatic arthritis', 'rheumatoid arthritis', 'skin cancer',\n",
       "       'stomach cancer', 'systemic lupus erythematosus',\n",
       "       'testicular cancer', 'thyroid cancer', 'type 1 diabetes mellitus',\n",
       "       'type 2 diabetes mellitus', 'ulcerative colitis',\n",
       "       'urinary bladder cancer', 'uterine cancer', 'vitiligo'],\n",
       "      dtype=object)"
      ]
     },
     "execution_count": 69,
     "metadata": {},
     "output_type": "execute_result"
    }
   ],
   "source": [
    "pharmadb_predictions[\"disease\"].unique()"
   ]
  },
  {
   "cell_type": "markdown",
   "metadata": {},
   "source": [
    "# Looks for differences in scores of both methods"
   ]
  },
  {
   "cell_type": "code",
   "execution_count": 70,
   "metadata": {},
   "outputs": [
    {
     "data": {
      "text/plain": [
       "True"
      ]
     },
     "execution_count": 70,
     "metadata": {},
     "output_type": "execute_result"
    }
   ],
   "source": [
    "np.all(pharmadb_predictions.groupby([\"trait\", \"drug\"]).count() == 2)"
   ]
  },
  {
   "cell_type": "code",
   "execution_count": 71,
   "metadata": {},
   "outputs": [],
   "source": [
    "def _compare(x):\n",
    "    assert x.shape[0] == 2\n",
    "    x_sign = np.sign(x[\"score_std\"].values)\n",
    "    x0 = x.iloc[0][\"score_std\"]\n",
    "    x1 = x.iloc[1][\"score_std\"]\n",
    "\n",
    "    return pd.Series(\n",
    "        {\"different_sign\": x_sign[0] != x_sign[1], \"score_difference\": np.abs(x0 - x1)}\n",
    "    )"
   ]
  },
  {
   "cell_type": "code",
   "execution_count": 72,
   "metadata": {},
   "outputs": [],
   "source": [
    "pharmadb_predictions = pharmadb_predictions.set_index([\"trait\", \"drug\"]).join(\n",
    "    pharmadb_predictions.groupby([\"trait\", \"drug\"]).apply(_compare)\n",
    ")"
   ]
  },
  {
   "cell_type": "code",
   "execution_count": 73,
   "metadata": {},
   "outputs": [
    {
     "data": {
      "text/html": [
       "<div>\n",
       "<style scoped>\n",
       "    .dataframe tbody tr th:only-of-type {\n",
       "        vertical-align: middle;\n",
       "    }\n",
       "\n",
       "    .dataframe tbody tr th {\n",
       "        vertical-align: top;\n",
       "    }\n",
       "\n",
       "    .dataframe thead th {\n",
       "        text-align: right;\n",
       "    }\n",
       "</style>\n",
       "<table border=\"1\" class=\"dataframe\">\n",
       "  <thead>\n",
       "    <tr style=\"text-align: right;\">\n",
       "      <th></th>\n",
       "      <th></th>\n",
       "      <th>disease</th>\n",
       "      <th>drug_name</th>\n",
       "      <th>method</th>\n",
       "      <th>score</th>\n",
       "      <th>true_class</th>\n",
       "      <th>score_std</th>\n",
       "      <th>different_sign</th>\n",
       "      <th>score_difference</th>\n",
       "    </tr>\n",
       "    <tr>\n",
       "      <th>trait</th>\n",
       "      <th>drug</th>\n",
       "      <th></th>\n",
       "      <th></th>\n",
       "      <th></th>\n",
       "      <th></th>\n",
       "      <th></th>\n",
       "      <th></th>\n",
       "      <th></th>\n",
       "      <th></th>\n",
       "    </tr>\n",
       "  </thead>\n",
       "  <tbody>\n",
       "    <tr>\n",
       "      <th rowspan=\"5\" valign=\"top\">DOID:0050741</th>\n",
       "      <th>DB00215</th>\n",
       "      <td>alcohol dependence</td>\n",
       "      <td>Citalopram</td>\n",
       "      <td>Gene-based</td>\n",
       "      <td>359.0</td>\n",
       "      <td>1</td>\n",
       "      <td>-1.688742</td>\n",
       "      <td>False</td>\n",
       "      <td>0.428001</td>\n",
       "    </tr>\n",
       "    <tr>\n",
       "      <th>DB00215</th>\n",
       "      <td>alcohol dependence</td>\n",
       "      <td>Citalopram</td>\n",
       "      <td>Module-based</td>\n",
       "      <td>437.8</td>\n",
       "      <td>1</td>\n",
       "      <td>-1.260741</td>\n",
       "      <td>False</td>\n",
       "      <td>0.428001</td>\n",
       "    </tr>\n",
       "    <tr>\n",
       "      <th>DB00704</th>\n",
       "      <td>alcohol dependence</td>\n",
       "      <td>Naltrexone</td>\n",
       "      <td>Gene-based</td>\n",
       "      <td>395.8</td>\n",
       "      <td>1</td>\n",
       "      <td>-1.297045</td>\n",
       "      <td>True</td>\n",
       "      <td>1.737622</td>\n",
       "    </tr>\n",
       "    <tr>\n",
       "      <th>DB00704</th>\n",
       "      <td>alcohol dependence</td>\n",
       "      <td>Naltrexone</td>\n",
       "      <td>Module-based</td>\n",
       "      <td>562.8</td>\n",
       "      <td>1</td>\n",
       "      <td>0.440577</td>\n",
       "      <td>True</td>\n",
       "      <td>1.737622</td>\n",
       "    </tr>\n",
       "    <tr>\n",
       "      <th>DB00822</th>\n",
       "      <td>alcohol dependence</td>\n",
       "      <td>Disulfiram</td>\n",
       "      <td>Gene-based</td>\n",
       "      <td>556.8</td>\n",
       "      <td>1</td>\n",
       "      <td>0.416630</td>\n",
       "      <td>False</td>\n",
       "      <td>0.508483</td>\n",
       "    </tr>\n",
       "  </tbody>\n",
       "</table>\n",
       "</div>"
      ],
      "text/plain": [
       "                                 disease   drug_name        method  score  \\\n",
       "trait        drug                                                           \n",
       "DOID:0050741 DB00215  alcohol dependence  Citalopram    Gene-based  359.0   \n",
       "             DB00215  alcohol dependence  Citalopram  Module-based  437.8   \n",
       "             DB00704  alcohol dependence  Naltrexone    Gene-based  395.8   \n",
       "             DB00704  alcohol dependence  Naltrexone  Module-based  562.8   \n",
       "             DB00822  alcohol dependence  Disulfiram    Gene-based  556.8   \n",
       "\n",
       "                      true_class  score_std  different_sign  score_difference  \n",
       "trait        drug                                                              \n",
       "DOID:0050741 DB00215           1  -1.688742           False          0.428001  \n",
       "             DB00215           1  -1.260741           False          0.428001  \n",
       "             DB00704           1  -1.297045            True          1.737622  \n",
       "             DB00704           1   0.440577            True          1.737622  \n",
       "             DB00822           1   0.416630           False          0.508483  "
      ]
     },
     "execution_count": 73,
     "metadata": {},
     "output_type": "execute_result"
    }
   ],
   "source": [
    "pharmadb_predictions.head()"
   ]
  },
  {
   "cell_type": "code",
   "execution_count": 74,
   "metadata": {},
   "outputs": [],
   "source": [
    "def find_differences(trait_name):\n",
    "    with pd.option_context(\n",
    "        \"display.max_rows\", None, \"display.max_columns\", None, \"max_colwidth\", None\n",
    "    ):\n",
    "        _tmp = pharmadb_predictions[\n",
    "            (pharmadb_predictions[\"disease\"] == trait_name)\n",
    "            & (pharmadb_predictions[\"different_sign\"])\n",
    "        ].sort_values(\n",
    "            [\"score_difference\", \"drug_name\", \"method\"], ascending=[False, False, False]\n",
    "        )\n",
    "        display(_tmp)"
   ]
  },
  {
   "cell_type": "markdown",
   "metadata": {},
   "source": [
    "## any disease"
   ]
  },
  {
   "cell_type": "code",
   "execution_count": 75,
   "metadata": {},
   "outputs": [
    {
     "data": {
      "text/html": [
       "<div>\n",
       "<style scoped>\n",
       "    .dataframe tbody tr th:only-of-type {\n",
       "        vertical-align: middle;\n",
       "    }\n",
       "\n",
       "    .dataframe tbody tr th {\n",
       "        vertical-align: top;\n",
       "    }\n",
       "\n",
       "    .dataframe thead th {\n",
       "        text-align: right;\n",
       "    }\n",
       "</style>\n",
       "<table border=\"1\" class=\"dataframe\">\n",
       "  <thead>\n",
       "    <tr style=\"text-align: right;\">\n",
       "      <th></th>\n",
       "      <th></th>\n",
       "      <th>disease</th>\n",
       "      <th>drug_name</th>\n",
       "      <th>method</th>\n",
       "      <th>score</th>\n",
       "      <th>true_class</th>\n",
       "      <th>score_std</th>\n",
       "      <th>different_sign</th>\n",
       "      <th>score_difference</th>\n",
       "    </tr>\n",
       "    <tr>\n",
       "      <th>trait</th>\n",
       "      <th>drug</th>\n",
       "      <th></th>\n",
       "      <th></th>\n",
       "      <th></th>\n",
       "      <th></th>\n",
       "      <th></th>\n",
       "      <th></th>\n",
       "      <th></th>\n",
       "      <th></th>\n",
       "    </tr>\n",
       "  </thead>\n",
       "  <tbody>\n",
       "    <tr>\n",
       "      <th rowspan=\"2\" valign=\"top\">DOID:10763</th>\n",
       "      <th>DB01136</th>\n",
       "      <td>hypertension</td>\n",
       "      <td>Carvedilol</td>\n",
       "      <td>Module-based</td>\n",
       "      <td>289.2</td>\n",
       "      <td>1</td>\n",
       "      <td>-3.283269</td>\n",
       "      <td>True</td>\n",
       "      <td>3.644550</td>\n",
       "    </tr>\n",
       "    <tr>\n",
       "      <th>DB01136</th>\n",
       "      <td>hypertension</td>\n",
       "      <td>Carvedilol</td>\n",
       "      <td>Gene-based</td>\n",
       "      <td>551.6</td>\n",
       "      <td>1</td>\n",
       "      <td>0.361281</td>\n",
       "      <td>True</td>\n",
       "      <td>3.644550</td>\n",
       "    </tr>\n",
       "    <tr>\n",
       "      <th rowspan=\"6\" valign=\"top\">DOID:4481</th>\n",
       "      <th>DB00959</th>\n",
       "      <td>allergic rhinitis</td>\n",
       "      <td>Methylprednisolone</td>\n",
       "      <td>Module-based</td>\n",
       "      <td>538.4</td>\n",
       "      <td>1</td>\n",
       "      <td>0.108480</td>\n",
       "      <td>True</td>\n",
       "      <td>3.395942</td>\n",
       "    </tr>\n",
       "    <tr>\n",
       "      <th>DB00959</th>\n",
       "      <td>allergic rhinitis</td>\n",
       "      <td>Methylprednisolone</td>\n",
       "      <td>Gene-based</td>\n",
       "      <td>208.8</td>\n",
       "      <td>1</td>\n",
       "      <td>-3.287462</td>\n",
       "      <td>True</td>\n",
       "      <td>3.395942</td>\n",
       "    </tr>\n",
       "    <tr>\n",
       "      <th>DB01234</th>\n",
       "      <td>allergic rhinitis</td>\n",
       "      <td>Dexamethasone</td>\n",
       "      <td>Module-based</td>\n",
       "      <td>618.7</td>\n",
       "      <td>1</td>\n",
       "      <td>1.201407</td>\n",
       "      <td>True</td>\n",
       "      <td>3.144539</td>\n",
       "    </tr>\n",
       "    <tr>\n",
       "      <th>DB01234</th>\n",
       "      <td>allergic rhinitis</td>\n",
       "      <td>Dexamethasone</td>\n",
       "      <td>Gene-based</td>\n",
       "      <td>335.1</td>\n",
       "      <td>1</td>\n",
       "      <td>-1.943132</td>\n",
       "      <td>True</td>\n",
       "      <td>3.144539</td>\n",
       "    </tr>\n",
       "    <tr>\n",
       "      <th>DB00443</th>\n",
       "      <td>allergic rhinitis</td>\n",
       "      <td>Betamethasone</td>\n",
       "      <td>Module-based</td>\n",
       "      <td>618.7</td>\n",
       "      <td>1</td>\n",
       "      <td>1.201407</td>\n",
       "      <td>True</td>\n",
       "      <td>3.144539</td>\n",
       "    </tr>\n",
       "    <tr>\n",
       "      <th>DB00443</th>\n",
       "      <td>allergic rhinitis</td>\n",
       "      <td>Betamethasone</td>\n",
       "      <td>Gene-based</td>\n",
       "      <td>335.1</td>\n",
       "      <td>1</td>\n",
       "      <td>-1.943132</td>\n",
       "      <td>True</td>\n",
       "      <td>3.144539</td>\n",
       "    </tr>\n",
       "    <tr>\n",
       "      <th rowspan=\"8\" valign=\"top\">DOID:10763</th>\n",
       "      <th>DB00374</th>\n",
       "      <td>hypertension</td>\n",
       "      <td>Treprostinil</td>\n",
       "      <td>Module-based</td>\n",
       "      <td>638.8</td>\n",
       "      <td>0</td>\n",
       "      <td>1.474979</td>\n",
       "      <td>True</td>\n",
       "      <td>2.889107</td>\n",
       "    </tr>\n",
       "    <tr>\n",
       "      <th>DB00374</th>\n",
       "      <td>hypertension</td>\n",
       "      <td>Treprostinil</td>\n",
       "      <td>Gene-based</td>\n",
       "      <td>384.8</td>\n",
       "      <td>0</td>\n",
       "      <td>-1.414128</td>\n",
       "      <td>True</td>\n",
       "      <td>2.889107</td>\n",
       "    </tr>\n",
       "    <tr>\n",
       "      <th>DB00384</th>\n",
       "      <td>hypertension</td>\n",
       "      <td>Triamterene</td>\n",
       "      <td>Module-based</td>\n",
       "      <td>568.2</td>\n",
       "      <td>1</td>\n",
       "      <td>0.514074</td>\n",
       "      <td>True</td>\n",
       "      <td>2.613673</td>\n",
       "    </tr>\n",
       "    <tr>\n",
       "      <th>DB00384</th>\n",
       "      <td>hypertension</td>\n",
       "      <td>Triamterene</td>\n",
       "      <td>Gene-based</td>\n",
       "      <td>320.4</td>\n",
       "      <td>1</td>\n",
       "      <td>-2.099598</td>\n",
       "      <td>True</td>\n",
       "      <td>2.613673</td>\n",
       "    </tr>\n",
       "    <tr>\n",
       "      <th>DB00966</th>\n",
       "      <td>hypertension</td>\n",
       "      <td>Telmisartan</td>\n",
       "      <td>Module-based</td>\n",
       "      <td>378.2</td>\n",
       "      <td>1</td>\n",
       "      <td>-2.071930</td>\n",
       "      <td>True</td>\n",
       "      <td>2.471529</td>\n",
       "    </tr>\n",
       "    <tr>\n",
       "      <th>DB00966</th>\n",
       "      <td>hypertension</td>\n",
       "      <td>Telmisartan</td>\n",
       "      <td>Gene-based</td>\n",
       "      <td>555.2</td>\n",
       "      <td>1</td>\n",
       "      <td>0.399599</td>\n",
       "      <td>True</td>\n",
       "      <td>2.471529</td>\n",
       "    </tr>\n",
       "    <tr>\n",
       "      <th>DB01001</th>\n",
       "      <td>hypertension</td>\n",
       "      <td>Salbutamol</td>\n",
       "      <td>Module-based</td>\n",
       "      <td>401.2</td>\n",
       "      <td>0</td>\n",
       "      <td>-1.758887</td>\n",
       "      <td>True</td>\n",
       "      <td>2.390525</td>\n",
       "    </tr>\n",
       "    <tr>\n",
       "      <th>DB01001</th>\n",
       "      <td>hypertension</td>\n",
       "      <td>Salbutamol</td>\n",
       "      <td>Gene-based</td>\n",
       "      <td>577.0</td>\n",
       "      <td>0</td>\n",
       "      <td>0.631637</td>\n",
       "      <td>True</td>\n",
       "      <td>2.390525</td>\n",
       "    </tr>\n",
       "    <tr>\n",
       "      <th rowspan=\"2\" valign=\"top\">DOID:7147</th>\n",
       "      <th>DB00620</th>\n",
       "      <td>ankylosing spondylitis</td>\n",
       "      <td>Triamcinolone</td>\n",
       "      <td>Module-based</td>\n",
       "      <td>578.6</td>\n",
       "      <td>1</td>\n",
       "      <td>0.655624</td>\n",
       "      <td>True</td>\n",
       "      <td>2.197480</td>\n",
       "    </tr>\n",
       "    <tr>\n",
       "      <th>DB00620</th>\n",
       "      <td>ankylosing spondylitis</td>\n",
       "      <td>Triamcinolone</td>\n",
       "      <td>Gene-based</td>\n",
       "      <td>372.8</td>\n",
       "      <td>1</td>\n",
       "      <td>-1.541856</td>\n",
       "      <td>True</td>\n",
       "      <td>2.197480</td>\n",
       "    </tr>\n",
       "    <tr>\n",
       "      <th rowspan=\"10\" valign=\"top\">DOID:10763</th>\n",
       "      <th>DB00227</th>\n",
       "      <td>hypertension</td>\n",
       "      <td>Lovastatin</td>\n",
       "      <td>Module-based</td>\n",
       "      <td>622.4</td>\n",
       "      <td>0</td>\n",
       "      <td>1.251766</td>\n",
       "      <td>True</td>\n",
       "      <td>2.195432</td>\n",
       "    </tr>\n",
       "    <tr>\n",
       "      <th>DB00227</th>\n",
       "      <td>hypertension</td>\n",
       "      <td>Lovastatin</td>\n",
       "      <td>Gene-based</td>\n",
       "      <td>429.0</td>\n",
       "      <td>0</td>\n",
       "      <td>-0.943666</td>\n",
       "      <td>True</td>\n",
       "      <td>2.195432</td>\n",
       "    </tr>\n",
       "    <tr>\n",
       "      <th>DB00820</th>\n",
       "      <td>hypertension</td>\n",
       "      <td>Tadalafil</td>\n",
       "      <td>Module-based</td>\n",
       "      <td>419.6</td>\n",
       "      <td>0</td>\n",
       "      <td>-1.508453</td>\n",
       "      <td>True</td>\n",
       "      <td>2.176280</td>\n",
       "    </tr>\n",
       "    <tr>\n",
       "      <th>DB00820</th>\n",
       "      <td>hypertension</td>\n",
       "      <td>Tadalafil</td>\n",
       "      <td>Gene-based</td>\n",
       "      <td>580.4</td>\n",
       "      <td>0</td>\n",
       "      <td>0.667827</td>\n",
       "      <td>True</td>\n",
       "      <td>2.176280</td>\n",
       "    </tr>\n",
       "    <tr>\n",
       "      <th>DB00598</th>\n",
       "      <td>hypertension</td>\n",
       "      <td>Labetalol</td>\n",
       "      <td>Module-based</td>\n",
       "      <td>388.8</td>\n",
       "      <td>1</td>\n",
       "      <td>-1.927658</td>\n",
       "      <td>True</td>\n",
       "      <td>2.169727</td>\n",
       "    </tr>\n",
       "    <tr>\n",
       "      <th>DB00598</th>\n",
       "      <td>hypertension</td>\n",
       "      <td>Labetalol</td>\n",
       "      <td>Gene-based</td>\n",
       "      <td>540.4</td>\n",
       "      <td>1</td>\n",
       "      <td>0.242069</td>\n",
       "      <td>True</td>\n",
       "      <td>2.169727</td>\n",
       "    </tr>\n",
       "    <tr>\n",
       "      <th>DB00905</th>\n",
       "      <td>hypertension</td>\n",
       "      <td>Bimatoprost</td>\n",
       "      <td>Module-based</td>\n",
       "      <td>570.0</td>\n",
       "      <td>0</td>\n",
       "      <td>0.538573</td>\n",
       "      <td>True</td>\n",
       "      <td>2.165580</td>\n",
       "    </tr>\n",
       "    <tr>\n",
       "      <th>DB00905</th>\n",
       "      <td>hypertension</td>\n",
       "      <td>Bimatoprost</td>\n",
       "      <td>Gene-based</td>\n",
       "      <td>364.8</td>\n",
       "      <td>0</td>\n",
       "      <td>-1.627007</td>\n",
       "      <td>True</td>\n",
       "      <td>2.165580</td>\n",
       "    </tr>\n",
       "    <tr>\n",
       "      <th>DB00774</th>\n",
       "      <td>hypertension</td>\n",
       "      <td>Hydroflumethiazide</td>\n",
       "      <td>Module-based</td>\n",
       "      <td>542.8</td>\n",
       "      <td>1</td>\n",
       "      <td>0.168366</td>\n",
       "      <td>True</td>\n",
       "      <td>2.089146</td>\n",
       "    </tr>\n",
       "    <tr>\n",
       "      <th>DB00774</th>\n",
       "      <td>hypertension</td>\n",
       "      <td>Hydroflumethiazide</td>\n",
       "      <td>Gene-based</td>\n",
       "      <td>337.2</td>\n",
       "      <td>1</td>\n",
       "      <td>-1.920780</td>\n",
       "      <td>True</td>\n",
       "      <td>2.089146</td>\n",
       "    </tr>\n",
       "    <tr>\n",
       "      <th rowspan=\"2\" valign=\"top\">DOID:4481</th>\n",
       "      <th>DB00741</th>\n",
       "      <td>allergic rhinitis</td>\n",
       "      <td>Hydrocortisone</td>\n",
       "      <td>Module-based</td>\n",
       "      <td>551.8</td>\n",
       "      <td>1</td>\n",
       "      <td>0.290861</td>\n",
       "      <td>True</td>\n",
       "      <td>2.083914</td>\n",
       "    </tr>\n",
       "    <tr>\n",
       "      <th>DB00741</th>\n",
       "      <td>allergic rhinitis</td>\n",
       "      <td>Hydrocortisone</td>\n",
       "      <td>Gene-based</td>\n",
       "      <td>349.2</td>\n",
       "      <td>1</td>\n",
       "      <td>-1.793053</td>\n",
       "      <td>True</td>\n",
       "      <td>2.083914</td>\n",
       "    </tr>\n",
       "    <tr>\n",
       "      <th rowspan=\"2\" valign=\"top\">DOID:2841</th>\n",
       "      <th>DB00938</th>\n",
       "      <td>asthma</td>\n",
       "      <td>Salmeterol</td>\n",
       "      <td>Module-based</td>\n",
       "      <td>414.8</td>\n",
       "      <td>1</td>\n",
       "      <td>-1.573784</td>\n",
       "      <td>True</td>\n",
       "      <td>1.979770</td>\n",
       "    </tr>\n",
       "    <tr>\n",
       "      <th>DB00938</th>\n",
       "      <td>asthma</td>\n",
       "      <td>Salmeterol</td>\n",
       "      <td>Gene-based</td>\n",
       "      <td>555.8</td>\n",
       "      <td>1</td>\n",
       "      <td>0.405986</td>\n",
       "      <td>True</td>\n",
       "      <td>1.979770</td>\n",
       "    </tr>\n",
       "    <tr>\n",
       "      <th rowspan=\"2\" valign=\"top\">DOID:8893</th>\n",
       "      <th>DB01091</th>\n",
       "      <td>psoriasis</td>\n",
       "      <td>Butenafine</td>\n",
       "      <td>Module-based</td>\n",
       "      <td>443.4</td>\n",
       "      <td>0</td>\n",
       "      <td>-1.184522</td>\n",
       "      <td>True</td>\n",
       "      <td>1.943887</td>\n",
       "    </tr>\n",
       "    <tr>\n",
       "      <th>DB01091</th>\n",
       "      <td>psoriasis</td>\n",
       "      <td>Butenafine</td>\n",
       "      <td>Gene-based</td>\n",
       "      <td>589.0</td>\n",
       "      <td>0</td>\n",
       "      <td>0.759365</td>\n",
       "      <td>True</td>\n",
       "      <td>1.943887</td>\n",
       "    </tr>\n",
       "    <tr>\n",
       "      <th rowspan=\"2\" valign=\"top\">DOID:4481</th>\n",
       "      <th>DB00620</th>\n",
       "      <td>allergic rhinitis</td>\n",
       "      <td>Triamcinolone</td>\n",
       "      <td>Module-based</td>\n",
       "      <td>574.2</td>\n",
       "      <td>1</td>\n",
       "      <td>0.595738</td>\n",
       "      <td>True</td>\n",
       "      <td>1.848078</td>\n",
       "    </tr>\n",
       "    <tr>\n",
       "      <th>DB00620</th>\n",
       "      <td>allergic rhinitis</td>\n",
       "      <td>Triamcinolone</td>\n",
       "      <td>Gene-based</td>\n",
       "      <td>400.0</td>\n",
       "      <td>1</td>\n",
       "      <td>-1.252341</td>\n",
       "      <td>True</td>\n",
       "      <td>1.848078</td>\n",
       "    </tr>\n",
       "    <tr>\n",
       "      <th rowspan=\"4\" valign=\"top\">DOID:10763</th>\n",
       "      <th>DB00436</th>\n",
       "      <td>hypertension</td>\n",
       "      <td>Bendroflumethiazide</td>\n",
       "      <td>Module-based</td>\n",
       "      <td>578.8</td>\n",
       "      <td>1</td>\n",
       "      <td>0.658346</td>\n",
       "      <td>True</td>\n",
       "      <td>1.821277</td>\n",
       "    </tr>\n",
       "    <tr>\n",
       "      <th>DB00436</th>\n",
       "      <td>hypertension</td>\n",
       "      <td>Bendroflumethiazide</td>\n",
       "      <td>Gene-based</td>\n",
       "      <td>408.4</td>\n",
       "      <td>1</td>\n",
       "      <td>-1.162931</td>\n",
       "      <td>True</td>\n",
       "      <td>1.821277</td>\n",
       "    </tr>\n",
       "    <tr>\n",
       "      <th>DB00758</th>\n",
       "      <td>hypertension</td>\n",
       "      <td>Clopidogrel</td>\n",
       "      <td>Module-based</td>\n",
       "      <td>466.4</td>\n",
       "      <td>0</td>\n",
       "      <td>-0.871480</td>\n",
       "      <td>True</td>\n",
       "      <td>1.796890</td>\n",
       "    </tr>\n",
       "    <tr>\n",
       "      <th>DB00758</th>\n",
       "      <td>hypertension</td>\n",
       "      <td>Clopidogrel</td>\n",
       "      <td>Gene-based</td>\n",
       "      <td>604.6</td>\n",
       "      <td>0</td>\n",
       "      <td>0.925410</td>\n",
       "      <td>True</td>\n",
       "      <td>1.796890</td>\n",
       "    </tr>\n",
       "    <tr>\n",
       "      <th rowspan=\"2\" valign=\"top\">DOID:9352</th>\n",
       "      <th>DB01200</th>\n",
       "      <td>type 2 diabetes mellitus</td>\n",
       "      <td>Bromocriptine</td>\n",
       "      <td>Module-based</td>\n",
       "      <td>419.4</td>\n",
       "      <td>1</td>\n",
       "      <td>-1.511175</td>\n",
       "      <td>True</td>\n",
       "      <td>1.783047</td>\n",
       "    </tr>\n",
       "    <tr>\n",
       "      <th>DB01200</th>\n",
       "      <td>type 2 diabetes mellitus</td>\n",
       "      <td>Bromocriptine</td>\n",
       "      <td>Gene-based</td>\n",
       "      <td>543.2</td>\n",
       "      <td>1</td>\n",
       "      <td>0.271872</td>\n",
       "      <td>True</td>\n",
       "      <td>1.783047</td>\n",
       "    </tr>\n",
       "    <tr>\n",
       "      <th rowspan=\"2\" valign=\"top\">DOID:10763</th>\n",
       "      <th>DB01194</th>\n",
       "      <td>hypertension</td>\n",
       "      <td>Brinzolamide</td>\n",
       "      <td>Module-based</td>\n",
       "      <td>569.2</td>\n",
       "      <td>0</td>\n",
       "      <td>0.527685</td>\n",
       "      <td>True</td>\n",
       "      <td>1.771510</td>\n",
       "    </tr>\n",
       "    <tr>\n",
       "      <th>DB01194</th>\n",
       "      <td>hypertension</td>\n",
       "      <td>Brinzolamide</td>\n",
       "      <td>Gene-based</td>\n",
       "      <td>400.8</td>\n",
       "      <td>0</td>\n",
       "      <td>-1.243825</td>\n",
       "      <td>True</td>\n",
       "      <td>1.771510</td>\n",
       "    </tr>\n",
       "    <tr>\n",
       "      <th rowspan=\"2\" valign=\"top\">DOID:0050741</th>\n",
       "      <th>DB00704</th>\n",
       "      <td>alcohol dependence</td>\n",
       "      <td>Naltrexone</td>\n",
       "      <td>Module-based</td>\n",
       "      <td>562.8</td>\n",
       "      <td>1</td>\n",
       "      <td>0.440577</td>\n",
       "      <td>True</td>\n",
       "      <td>1.737622</td>\n",
       "    </tr>\n",
       "    <tr>\n",
       "      <th>DB00704</th>\n",
       "      <td>alcohol dependence</td>\n",
       "      <td>Naltrexone</td>\n",
       "      <td>Gene-based</td>\n",
       "      <td>395.8</td>\n",
       "      <td>1</td>\n",
       "      <td>-1.297045</td>\n",
       "      <td>True</td>\n",
       "      <td>1.737622</td>\n",
       "    </tr>\n",
       "    <tr>\n",
       "      <th rowspan=\"2\" valign=\"top\">DOID:13189</th>\n",
       "      <th>DB01394</th>\n",
       "      <td>gout</td>\n",
       "      <td>Colchicine</td>\n",
       "      <td>Module-based</td>\n",
       "      <td>590.2</td>\n",
       "      <td>1</td>\n",
       "      <td>0.813506</td>\n",
       "      <td>True</td>\n",
       "      <td>1.714597</td>\n",
       "    </tr>\n",
       "    <tr>\n",
       "      <th>DB01394</th>\n",
       "      <td>gout</td>\n",
       "      <td>Colchicine</td>\n",
       "      <td>Gene-based</td>\n",
       "      <td>433.0</td>\n",
       "      <td>1</td>\n",
       "      <td>-0.901090</td>\n",
       "      <td>True</td>\n",
       "      <td>1.714597</td>\n",
       "    </tr>\n",
       "    <tr>\n",
       "      <th rowspan=\"2\" valign=\"top\">DOID:2841</th>\n",
       "      <th>DB00535</th>\n",
       "      <td>asthma</td>\n",
       "      <td>Cefdinir</td>\n",
       "      <td>Module-based</td>\n",
       "      <td>439.8</td>\n",
       "      <td>0</td>\n",
       "      <td>-1.233520</td>\n",
       "      <td>True</td>\n",
       "      <td>1.677824</td>\n",
       "    </tr>\n",
       "    <tr>\n",
       "      <th>DB00535</th>\n",
       "      <td>asthma</td>\n",
       "      <td>Cefdinir</td>\n",
       "      <td>Gene-based</td>\n",
       "      <td>559.4</td>\n",
       "      <td>0</td>\n",
       "      <td>0.444304</td>\n",
       "      <td>True</td>\n",
       "      <td>1.677824</td>\n",
       "    </tr>\n",
       "  </tbody>\n",
       "</table>\n",
       "</div>"
      ],
      "text/plain": [
       "                                       disease            drug_name  \\\n",
       "trait        drug                                                     \n",
       "DOID:10763   DB01136              hypertension           Carvedilol   \n",
       "             DB01136              hypertension           Carvedilol   \n",
       "DOID:4481    DB00959         allergic rhinitis   Methylprednisolone   \n",
       "             DB00959         allergic rhinitis   Methylprednisolone   \n",
       "             DB01234         allergic rhinitis        Dexamethasone   \n",
       "             DB01234         allergic rhinitis        Dexamethasone   \n",
       "             DB00443         allergic rhinitis        Betamethasone   \n",
       "             DB00443         allergic rhinitis        Betamethasone   \n",
       "DOID:10763   DB00374              hypertension         Treprostinil   \n",
       "             DB00374              hypertension         Treprostinil   \n",
       "             DB00384              hypertension          Triamterene   \n",
       "             DB00384              hypertension          Triamterene   \n",
       "             DB00966              hypertension          Telmisartan   \n",
       "             DB00966              hypertension          Telmisartan   \n",
       "             DB01001              hypertension           Salbutamol   \n",
       "             DB01001              hypertension           Salbutamol   \n",
       "DOID:7147    DB00620    ankylosing spondylitis        Triamcinolone   \n",
       "             DB00620    ankylosing spondylitis        Triamcinolone   \n",
       "DOID:10763   DB00227              hypertension           Lovastatin   \n",
       "             DB00227              hypertension           Lovastatin   \n",
       "             DB00820              hypertension            Tadalafil   \n",
       "             DB00820              hypertension            Tadalafil   \n",
       "             DB00598              hypertension            Labetalol   \n",
       "             DB00598              hypertension            Labetalol   \n",
       "             DB00905              hypertension          Bimatoprost   \n",
       "             DB00905              hypertension          Bimatoprost   \n",
       "             DB00774              hypertension   Hydroflumethiazide   \n",
       "             DB00774              hypertension   Hydroflumethiazide   \n",
       "DOID:4481    DB00741         allergic rhinitis       Hydrocortisone   \n",
       "             DB00741         allergic rhinitis       Hydrocortisone   \n",
       "DOID:2841    DB00938                    asthma           Salmeterol   \n",
       "             DB00938                    asthma           Salmeterol   \n",
       "DOID:8893    DB01091                 psoriasis           Butenafine   \n",
       "             DB01091                 psoriasis           Butenafine   \n",
       "DOID:4481    DB00620         allergic rhinitis        Triamcinolone   \n",
       "             DB00620         allergic rhinitis        Triamcinolone   \n",
       "DOID:10763   DB00436              hypertension  Bendroflumethiazide   \n",
       "             DB00436              hypertension  Bendroflumethiazide   \n",
       "             DB00758              hypertension          Clopidogrel   \n",
       "             DB00758              hypertension          Clopidogrel   \n",
       "DOID:9352    DB01200  type 2 diabetes mellitus        Bromocriptine   \n",
       "             DB01200  type 2 diabetes mellitus        Bromocriptine   \n",
       "DOID:10763   DB01194              hypertension         Brinzolamide   \n",
       "             DB01194              hypertension         Brinzolamide   \n",
       "DOID:0050741 DB00704        alcohol dependence           Naltrexone   \n",
       "             DB00704        alcohol dependence           Naltrexone   \n",
       "DOID:13189   DB01394                      gout           Colchicine   \n",
       "             DB01394                      gout           Colchicine   \n",
       "DOID:2841    DB00535                    asthma             Cefdinir   \n",
       "             DB00535                    asthma             Cefdinir   \n",
       "\n",
       "                            method  score  true_class  score_std  \\\n",
       "trait        drug                                                  \n",
       "DOID:10763   DB01136  Module-based  289.2           1  -3.283269   \n",
       "             DB01136    Gene-based  551.6           1   0.361281   \n",
       "DOID:4481    DB00959  Module-based  538.4           1   0.108480   \n",
       "             DB00959    Gene-based  208.8           1  -3.287462   \n",
       "             DB01234  Module-based  618.7           1   1.201407   \n",
       "             DB01234    Gene-based  335.1           1  -1.943132   \n",
       "             DB00443  Module-based  618.7           1   1.201407   \n",
       "             DB00443    Gene-based  335.1           1  -1.943132   \n",
       "DOID:10763   DB00374  Module-based  638.8           0   1.474979   \n",
       "             DB00374    Gene-based  384.8           0  -1.414128   \n",
       "             DB00384  Module-based  568.2           1   0.514074   \n",
       "             DB00384    Gene-based  320.4           1  -2.099598   \n",
       "             DB00966  Module-based  378.2           1  -2.071930   \n",
       "             DB00966    Gene-based  555.2           1   0.399599   \n",
       "             DB01001  Module-based  401.2           0  -1.758887   \n",
       "             DB01001    Gene-based  577.0           0   0.631637   \n",
       "DOID:7147    DB00620  Module-based  578.6           1   0.655624   \n",
       "             DB00620    Gene-based  372.8           1  -1.541856   \n",
       "DOID:10763   DB00227  Module-based  622.4           0   1.251766   \n",
       "             DB00227    Gene-based  429.0           0  -0.943666   \n",
       "             DB00820  Module-based  419.6           0  -1.508453   \n",
       "             DB00820    Gene-based  580.4           0   0.667827   \n",
       "             DB00598  Module-based  388.8           1  -1.927658   \n",
       "             DB00598    Gene-based  540.4           1   0.242069   \n",
       "             DB00905  Module-based  570.0           0   0.538573   \n",
       "             DB00905    Gene-based  364.8           0  -1.627007   \n",
       "             DB00774  Module-based  542.8           1   0.168366   \n",
       "             DB00774    Gene-based  337.2           1  -1.920780   \n",
       "DOID:4481    DB00741  Module-based  551.8           1   0.290861   \n",
       "             DB00741    Gene-based  349.2           1  -1.793053   \n",
       "DOID:2841    DB00938  Module-based  414.8           1  -1.573784   \n",
       "             DB00938    Gene-based  555.8           1   0.405986   \n",
       "DOID:8893    DB01091  Module-based  443.4           0  -1.184522   \n",
       "             DB01091    Gene-based  589.0           0   0.759365   \n",
       "DOID:4481    DB00620  Module-based  574.2           1   0.595738   \n",
       "             DB00620    Gene-based  400.0           1  -1.252341   \n",
       "DOID:10763   DB00436  Module-based  578.8           1   0.658346   \n",
       "             DB00436    Gene-based  408.4           1  -1.162931   \n",
       "             DB00758  Module-based  466.4           0  -0.871480   \n",
       "             DB00758    Gene-based  604.6           0   0.925410   \n",
       "DOID:9352    DB01200  Module-based  419.4           1  -1.511175   \n",
       "             DB01200    Gene-based  543.2           1   0.271872   \n",
       "DOID:10763   DB01194  Module-based  569.2           0   0.527685   \n",
       "             DB01194    Gene-based  400.8           0  -1.243825   \n",
       "DOID:0050741 DB00704  Module-based  562.8           1   0.440577   \n",
       "             DB00704    Gene-based  395.8           1  -1.297045   \n",
       "DOID:13189   DB01394  Module-based  590.2           1   0.813506   \n",
       "             DB01394    Gene-based  433.0           1  -0.901090   \n",
       "DOID:2841    DB00535  Module-based  439.8           0  -1.233520   \n",
       "             DB00535    Gene-based  559.4           0   0.444304   \n",
       "\n",
       "                      different_sign  score_difference  \n",
       "trait        drug                                       \n",
       "DOID:10763   DB01136            True          3.644550  \n",
       "             DB01136            True          3.644550  \n",
       "DOID:4481    DB00959            True          3.395942  \n",
       "             DB00959            True          3.395942  \n",
       "             DB01234            True          3.144539  \n",
       "             DB01234            True          3.144539  \n",
       "             DB00443            True          3.144539  \n",
       "             DB00443            True          3.144539  \n",
       "DOID:10763   DB00374            True          2.889107  \n",
       "             DB00374            True          2.889107  \n",
       "             DB00384            True          2.613673  \n",
       "             DB00384            True          2.613673  \n",
       "             DB00966            True          2.471529  \n",
       "             DB00966            True          2.471529  \n",
       "             DB01001            True          2.390525  \n",
       "             DB01001            True          2.390525  \n",
       "DOID:7147    DB00620            True          2.197480  \n",
       "             DB00620            True          2.197480  \n",
       "DOID:10763   DB00227            True          2.195432  \n",
       "             DB00227            True          2.195432  \n",
       "             DB00820            True          2.176280  \n",
       "             DB00820            True          2.176280  \n",
       "             DB00598            True          2.169727  \n",
       "             DB00598            True          2.169727  \n",
       "             DB00905            True          2.165580  \n",
       "             DB00905            True          2.165580  \n",
       "             DB00774            True          2.089146  \n",
       "             DB00774            True          2.089146  \n",
       "DOID:4481    DB00741            True          2.083914  \n",
       "             DB00741            True          2.083914  \n",
       "DOID:2841    DB00938            True          1.979770  \n",
       "             DB00938            True          1.979770  \n",
       "DOID:8893    DB01091            True          1.943887  \n",
       "             DB01091            True          1.943887  \n",
       "DOID:4481    DB00620            True          1.848078  \n",
       "             DB00620            True          1.848078  \n",
       "DOID:10763   DB00436            True          1.821277  \n",
       "             DB00436            True          1.821277  \n",
       "             DB00758            True          1.796890  \n",
       "             DB00758            True          1.796890  \n",
       "DOID:9352    DB01200            True          1.783047  \n",
       "             DB01200            True          1.783047  \n",
       "DOID:10763   DB01194            True          1.771510  \n",
       "             DB01194            True          1.771510  \n",
       "DOID:0050741 DB00704            True          1.737622  \n",
       "             DB00704            True          1.737622  \n",
       "DOID:13189   DB01394            True          1.714597  \n",
       "             DB01394            True          1.714597  \n",
       "DOID:2841    DB00535            True          1.677824  \n",
       "             DB00535            True          1.677824  "
      ]
     },
     "metadata": {},
     "output_type": "display_data"
    }
   ],
   "source": [
    "with pd.option_context(\n",
    "    \"display.max_rows\", None, \"display.max_columns\", None, \"max_colwidth\", None\n",
    "):\n",
    "    _tmp = pharmadb_predictions[\n",
    "        (pharmadb_predictions[\"different_sign\"])\n",
    "        & (~pharmadb_predictions[\"disease\"].str.contains(\"cancer\"))  # avoid cancer\n",
    "    ].sort_values(\n",
    "        [\"score_difference\", \"drug_name\", \"method\"], ascending=[False, False, False]\n",
    "    )\n",
    "    display(_tmp.head(50))"
   ]
  },
  {
   "cell_type": "markdown",
   "metadata": {},
   "source": [
    "## coronary artery disease"
   ]
  },
  {
   "cell_type": "code",
   "execution_count": 76,
   "metadata": {},
   "outputs": [
    {
     "data": {
      "text/html": [
       "<div>\n",
       "<style scoped>\n",
       "    .dataframe tbody tr th:only-of-type {\n",
       "        vertical-align: middle;\n",
       "    }\n",
       "\n",
       "    .dataframe tbody tr th {\n",
       "        vertical-align: top;\n",
       "    }\n",
       "\n",
       "    .dataframe thead th {\n",
       "        text-align: right;\n",
       "    }\n",
       "</style>\n",
       "<table border=\"1\" class=\"dataframe\">\n",
       "  <thead>\n",
       "    <tr style=\"text-align: right;\">\n",
       "      <th></th>\n",
       "      <th></th>\n",
       "      <th>disease</th>\n",
       "      <th>drug_name</th>\n",
       "      <th>method</th>\n",
       "      <th>score</th>\n",
       "      <th>true_class</th>\n",
       "      <th>score_std</th>\n",
       "      <th>different_sign</th>\n",
       "      <th>score_difference</th>\n",
       "    </tr>\n",
       "    <tr>\n",
       "      <th>trait</th>\n",
       "      <th>drug</th>\n",
       "      <th></th>\n",
       "      <th></th>\n",
       "      <th></th>\n",
       "      <th></th>\n",
       "      <th></th>\n",
       "      <th></th>\n",
       "      <th></th>\n",
       "      <th></th>\n",
       "    </tr>\n",
       "  </thead>\n",
       "  <tbody>\n",
       "    <tr>\n",
       "      <th rowspan=\"2\" valign=\"top\">DOID:3393</th>\n",
       "      <th>DB00627</th>\n",
       "      <td>coronary artery disease</td>\n",
       "      <td>Niacin</td>\n",
       "      <td>Module-based</td>\n",
       "      <td>601.0</td>\n",
       "      <td>1</td>\n",
       "      <td>0.960500</td>\n",
       "      <td>False</td>\n",
       "      <td>0.452333</td>\n",
       "    </tr>\n",
       "    <tr>\n",
       "      <th>DB00627</th>\n",
       "      <td>coronary artery disease</td>\n",
       "      <td>Niacin</td>\n",
       "      <td>Gene-based</td>\n",
       "      <td>565.4</td>\n",
       "      <td>1</td>\n",
       "      <td>0.508167</td>\n",
       "      <td>False</td>\n",
       "      <td>0.452333</td>\n",
       "    </tr>\n",
       "  </tbody>\n",
       "</table>\n",
       "</div>"
      ],
      "text/plain": [
       "                                   disease drug_name        method  score  \\\n",
       "trait     drug                                                              \n",
       "DOID:3393 DB00627  coronary artery disease    Niacin  Module-based  601.0   \n",
       "          DB00627  coronary artery disease    Niacin    Gene-based  565.4   \n",
       "\n",
       "                   true_class  score_std  different_sign  score_difference  \n",
       "trait     drug                                                              \n",
       "DOID:3393 DB00627           1   0.960500           False          0.452333  \n",
       "          DB00627           1   0.508167           False          0.452333  "
      ]
     },
     "execution_count": 76,
     "metadata": {},
     "output_type": "execute_result"
    }
   ],
   "source": [
    "pharmadb_predictions[\n",
    "    (pharmadb_predictions[\"disease\"] == \"coronary artery disease\")\n",
    "    & (pharmadb_predictions[\"drug_name\"] == \"Niacin\")\n",
    "    #     & (pharmadb_predictions[\"different_sign\"])\n",
    "].sort_values(\n",
    "    [\"score_difference\", \"drug_name\", \"method\"], ascending=[False, False, False]\n",
    ")"
   ]
  },
  {
   "cell_type": "code",
   "execution_count": 77,
   "metadata": {},
   "outputs": [
    {
     "data": {
      "text/html": [
       "<div>\n",
       "<style scoped>\n",
       "    .dataframe tbody tr th:only-of-type {\n",
       "        vertical-align: middle;\n",
       "    }\n",
       "\n",
       "    .dataframe tbody tr th {\n",
       "        vertical-align: top;\n",
       "    }\n",
       "\n",
       "    .dataframe thead th {\n",
       "        text-align: right;\n",
       "    }\n",
       "</style>\n",
       "<table border=\"1\" class=\"dataframe\">\n",
       "  <thead>\n",
       "    <tr style=\"text-align: right;\">\n",
       "      <th></th>\n",
       "      <th></th>\n",
       "      <th>disease</th>\n",
       "      <th>drug_name</th>\n",
       "      <th>method</th>\n",
       "      <th>score</th>\n",
       "      <th>true_class</th>\n",
       "      <th>score_std</th>\n",
       "      <th>different_sign</th>\n",
       "      <th>score_difference</th>\n",
       "    </tr>\n",
       "    <tr>\n",
       "      <th>trait</th>\n",
       "      <th>drug</th>\n",
       "      <th></th>\n",
       "      <th></th>\n",
       "      <th></th>\n",
       "      <th></th>\n",
       "      <th></th>\n",
       "      <th></th>\n",
       "      <th></th>\n",
       "      <th></th>\n",
       "    </tr>\n",
       "  </thead>\n",
       "  <tbody>\n",
       "    <tr>\n",
       "      <th rowspan=\"12\" valign=\"top\">DOID:3393</th>\n",
       "      <th>DB01197</th>\n",
       "      <td>coronary artery disease</td>\n",
       "      <td>Captopril</td>\n",
       "      <td>Module-based</td>\n",
       "      <td>580.2</td>\n",
       "      <td>1</td>\n",
       "      <td>0.677401</td>\n",
       "      <td>True</td>\n",
       "      <td>1.418832</td>\n",
       "    </tr>\n",
       "    <tr>\n",
       "      <th>DB01197</th>\n",
       "      <td>coronary artery disease</td>\n",
       "      <td>Captopril</td>\n",
       "      <td>Gene-based</td>\n",
       "      <td>448.0</td>\n",
       "      <td>1</td>\n",
       "      <td>-0.741431</td>\n",
       "      <td>True</td>\n",
       "      <td>1.418832</td>\n",
       "    </tr>\n",
       "    <tr>\n",
       "      <th>DB00451</th>\n",
       "      <td>coronary artery disease</td>\n",
       "      <td>Levothyroxine</td>\n",
       "      <td>Module-based</td>\n",
       "      <td>483.5</td>\n",
       "      <td>0</td>\n",
       "      <td>-0.638739</td>\n",
       "      <td>True</td>\n",
       "      <td>0.996827</td>\n",
       "    </tr>\n",
       "    <tr>\n",
       "      <th>DB00451</th>\n",
       "      <td>coronary artery disease</td>\n",
       "      <td>Levothyroxine</td>\n",
       "      <td>Gene-based</td>\n",
       "      <td>551.3</td>\n",
       "      <td>0</td>\n",
       "      <td>0.358088</td>\n",
       "      <td>True</td>\n",
       "      <td>0.996827</td>\n",
       "    </tr>\n",
       "    <tr>\n",
       "      <th>DB00509</th>\n",
       "      <td>coronary artery disease</td>\n",
       "      <td>Dextrothyroxine</td>\n",
       "      <td>Module-based</td>\n",
       "      <td>483.5</td>\n",
       "      <td>0</td>\n",
       "      <td>-0.638739</td>\n",
       "      <td>True</td>\n",
       "      <td>0.996827</td>\n",
       "    </tr>\n",
       "    <tr>\n",
       "      <th>DB00509</th>\n",
       "      <td>coronary artery disease</td>\n",
       "      <td>Dextrothyroxine</td>\n",
       "      <td>Gene-based</td>\n",
       "      <td>551.3</td>\n",
       "      <td>0</td>\n",
       "      <td>0.358088</td>\n",
       "      <td>True</td>\n",
       "      <td>0.996827</td>\n",
       "    </tr>\n",
       "    <tr>\n",
       "      <th>DB00700</th>\n",
       "      <td>coronary artery disease</td>\n",
       "      <td>Eplerenone</td>\n",
       "      <td>Module-based</td>\n",
       "      <td>538.6</td>\n",
       "      <td>1</td>\n",
       "      <td>0.111202</td>\n",
       "      <td>True</td>\n",
       "      <td>0.967588</td>\n",
       "    </tr>\n",
       "    <tr>\n",
       "      <th>DB00700</th>\n",
       "      <td>coronary artery disease</td>\n",
       "      <td>Eplerenone</td>\n",
       "      <td>Gene-based</td>\n",
       "      <td>437.2</td>\n",
       "      <td>1</td>\n",
       "      <td>-0.856386</td>\n",
       "      <td>True</td>\n",
       "      <td>0.967588</td>\n",
       "    </tr>\n",
       "    <tr>\n",
       "      <th>DB00790</th>\n",
       "      <td>coronary artery disease</td>\n",
       "      <td>Perindopril</td>\n",
       "      <td>Module-based</td>\n",
       "      <td>555.8</td>\n",
       "      <td>1</td>\n",
       "      <td>0.345303</td>\n",
       "      <td>True</td>\n",
       "      <td>0.554538</td>\n",
       "    </tr>\n",
       "    <tr>\n",
       "      <th>DB00790</th>\n",
       "      <td>coronary artery disease</td>\n",
       "      <td>Perindopril</td>\n",
       "      <td>Gene-based</td>\n",
       "      <td>498.0</td>\n",
       "      <td>1</td>\n",
       "      <td>-0.209234</td>\n",
       "      <td>True</td>\n",
       "      <td>0.554538</td>\n",
       "    </tr>\n",
       "    <tr>\n",
       "      <th>DB01039</th>\n",
       "      <td>coronary artery disease</td>\n",
       "      <td>Fenofibrate</td>\n",
       "      <td>Module-based</td>\n",
       "      <td>533.6</td>\n",
       "      <td>1</td>\n",
       "      <td>0.043149</td>\n",
       "      <td>True</td>\n",
       "      <td>0.258770</td>\n",
       "    </tr>\n",
       "    <tr>\n",
       "      <th>DB01039</th>\n",
       "      <td>coronary artery disease</td>\n",
       "      <td>Fenofibrate</td>\n",
       "      <td>Gene-based</td>\n",
       "      <td>497.4</td>\n",
       "      <td>1</td>\n",
       "      <td>-0.215621</td>\n",
       "      <td>True</td>\n",
       "      <td>0.258770</td>\n",
       "    </tr>\n",
       "  </tbody>\n",
       "</table>\n",
       "</div>"
      ],
      "text/plain": [
       "                                   disease        drug_name        method  \\\n",
       "trait     drug                                                              \n",
       "DOID:3393 DB01197  coronary artery disease        Captopril  Module-based   \n",
       "          DB01197  coronary artery disease        Captopril    Gene-based   \n",
       "          DB00451  coronary artery disease    Levothyroxine  Module-based   \n",
       "          DB00451  coronary artery disease    Levothyroxine    Gene-based   \n",
       "          DB00509  coronary artery disease  Dextrothyroxine  Module-based   \n",
       "          DB00509  coronary artery disease  Dextrothyroxine    Gene-based   \n",
       "          DB00700  coronary artery disease       Eplerenone  Module-based   \n",
       "          DB00700  coronary artery disease       Eplerenone    Gene-based   \n",
       "          DB00790  coronary artery disease      Perindopril  Module-based   \n",
       "          DB00790  coronary artery disease      Perindopril    Gene-based   \n",
       "          DB01039  coronary artery disease      Fenofibrate  Module-based   \n",
       "          DB01039  coronary artery disease      Fenofibrate    Gene-based   \n",
       "\n",
       "                   score  true_class  score_std  different_sign  \\\n",
       "trait     drug                                                    \n",
       "DOID:3393 DB01197  580.2           1   0.677401            True   \n",
       "          DB01197  448.0           1  -0.741431            True   \n",
       "          DB00451  483.5           0  -0.638739            True   \n",
       "          DB00451  551.3           0   0.358088            True   \n",
       "          DB00509  483.5           0  -0.638739            True   \n",
       "          DB00509  551.3           0   0.358088            True   \n",
       "          DB00700  538.6           1   0.111202            True   \n",
       "          DB00700  437.2           1  -0.856386            True   \n",
       "          DB00790  555.8           1   0.345303            True   \n",
       "          DB00790  498.0           1  -0.209234            True   \n",
       "          DB01039  533.6           1   0.043149            True   \n",
       "          DB01039  497.4           1  -0.215621            True   \n",
       "\n",
       "                   score_difference  \n",
       "trait     drug                       \n",
       "DOID:3393 DB01197          1.418832  \n",
       "          DB01197          1.418832  \n",
       "          DB00451          0.996827  \n",
       "          DB00451          0.996827  \n",
       "          DB00509          0.996827  \n",
       "          DB00509          0.996827  \n",
       "          DB00700          0.967588  \n",
       "          DB00700          0.967588  \n",
       "          DB00790          0.554538  \n",
       "          DB00790          0.554538  \n",
       "          DB01039          0.258770  \n",
       "          DB01039          0.258770  "
      ]
     },
     "metadata": {},
     "output_type": "display_data"
    }
   ],
   "source": [
    "find_differences(\"coronary artery disease\")"
   ]
  },
  {
   "cell_type": "markdown",
   "metadata": {},
   "source": [
    "## atherosclerosis"
   ]
  },
  {
   "cell_type": "code",
   "execution_count": 78,
   "metadata": {},
   "outputs": [
    {
     "data": {
      "text/html": [
       "<div>\n",
       "<style scoped>\n",
       "    .dataframe tbody tr th:only-of-type {\n",
       "        vertical-align: middle;\n",
       "    }\n",
       "\n",
       "    .dataframe tbody tr th {\n",
       "        vertical-align: top;\n",
       "    }\n",
       "\n",
       "    .dataframe thead th {\n",
       "        text-align: right;\n",
       "    }\n",
       "</style>\n",
       "<table border=\"1\" class=\"dataframe\">\n",
       "  <thead>\n",
       "    <tr style=\"text-align: right;\">\n",
       "      <th></th>\n",
       "      <th></th>\n",
       "      <th>disease</th>\n",
       "      <th>drug_name</th>\n",
       "      <th>method</th>\n",
       "      <th>score</th>\n",
       "      <th>true_class</th>\n",
       "      <th>score_std</th>\n",
       "      <th>different_sign</th>\n",
       "      <th>score_difference</th>\n",
       "    </tr>\n",
       "    <tr>\n",
       "      <th>trait</th>\n",
       "      <th>drug</th>\n",
       "      <th></th>\n",
       "      <th></th>\n",
       "      <th></th>\n",
       "      <th></th>\n",
       "      <th></th>\n",
       "      <th></th>\n",
       "      <th></th>\n",
       "      <th></th>\n",
       "    </tr>\n",
       "  </thead>\n",
       "  <tbody>\n",
       "    <tr>\n",
       "      <th rowspan=\"2\" valign=\"top\">DOID:1936</th>\n",
       "      <th>DB00627</th>\n",
       "      <td>atherosclerosis</td>\n",
       "      <td>Niacin</td>\n",
       "      <td>Module-based</td>\n",
       "      <td>568.6</td>\n",
       "      <td>1</td>\n",
       "      <td>0.519518</td>\n",
       "      <td>True</td>\n",
       "      <td>0.530775</td>\n",
       "    </tr>\n",
       "    <tr>\n",
       "      <th>DB00627</th>\n",
       "      <td>atherosclerosis</td>\n",
       "      <td>Niacin</td>\n",
       "      <td>Gene-based</td>\n",
       "      <td>516.6</td>\n",
       "      <td>1</td>\n",
       "      <td>-0.011257</td>\n",
       "      <td>True</td>\n",
       "      <td>0.530775</td>\n",
       "    </tr>\n",
       "  </tbody>\n",
       "</table>\n",
       "</div>"
      ],
      "text/plain": [
       "                           disease drug_name        method  score  true_class  \\\n",
       "trait     drug                                                                  \n",
       "DOID:1936 DB00627  atherosclerosis    Niacin  Module-based  568.6           1   \n",
       "          DB00627  atherosclerosis    Niacin    Gene-based  516.6           1   \n",
       "\n",
       "                   score_std  different_sign  score_difference  \n",
       "trait     drug                                                  \n",
       "DOID:1936 DB00627   0.519518            True          0.530775  \n",
       "          DB00627  -0.011257            True          0.530775  "
      ]
     },
     "execution_count": 78,
     "metadata": {},
     "output_type": "execute_result"
    }
   ],
   "source": [
    "pharmadb_predictions[\n",
    "    (pharmadb_predictions[\"disease\"] == \"atherosclerosis\")\n",
    "    & (pharmadb_predictions[\"drug_name\"] == \"Niacin\")\n",
    "    #     & (pharmadb_predictions[\"different_sign\"])\n",
    "].sort_values(\n",
    "    [\"score_difference\", \"drug_name\", \"method\"], ascending=[False, False, False]\n",
    ")"
   ]
  },
  {
   "cell_type": "code",
   "execution_count": 79,
   "metadata": {},
   "outputs": [
    {
     "data": {
      "text/html": [
       "<div>\n",
       "<style scoped>\n",
       "    .dataframe tbody tr th:only-of-type {\n",
       "        vertical-align: middle;\n",
       "    }\n",
       "\n",
       "    .dataframe tbody tr th {\n",
       "        vertical-align: top;\n",
       "    }\n",
       "\n",
       "    .dataframe thead th {\n",
       "        text-align: right;\n",
       "    }\n",
       "</style>\n",
       "<table border=\"1\" class=\"dataframe\">\n",
       "  <thead>\n",
       "    <tr style=\"text-align: right;\">\n",
       "      <th></th>\n",
       "      <th></th>\n",
       "      <th>disease</th>\n",
       "      <th>drug_name</th>\n",
       "      <th>method</th>\n",
       "      <th>score</th>\n",
       "      <th>true_class</th>\n",
       "      <th>score_std</th>\n",
       "      <th>different_sign</th>\n",
       "      <th>score_difference</th>\n",
       "    </tr>\n",
       "    <tr>\n",
       "      <th>trait</th>\n",
       "      <th>drug</th>\n",
       "      <th></th>\n",
       "      <th></th>\n",
       "      <th></th>\n",
       "      <th></th>\n",
       "      <th></th>\n",
       "      <th></th>\n",
       "      <th></th>\n",
       "      <th></th>\n",
       "    </tr>\n",
       "  </thead>\n",
       "  <tbody>\n",
       "    <tr>\n",
       "      <th rowspan=\"8\" valign=\"top\">DOID:1936</th>\n",
       "      <th>DB00227</th>\n",
       "      <td>atherosclerosis</td>\n",
       "      <td>Lovastatin</td>\n",
       "      <td>Module-based</td>\n",
       "      <td>439.0</td>\n",
       "      <td>1</td>\n",
       "      <td>-1.244409</td>\n",
       "      <td>True</td>\n",
       "      <td>1.629106</td>\n",
       "    </tr>\n",
       "    <tr>\n",
       "      <th>DB00227</th>\n",
       "      <td>atherosclerosis</td>\n",
       "      <td>Lovastatin</td>\n",
       "      <td>Gene-based</td>\n",
       "      <td>553.8</td>\n",
       "      <td>1</td>\n",
       "      <td>0.384698</td>\n",
       "      <td>True</td>\n",
       "      <td>1.629106</td>\n",
       "    </tr>\n",
       "    <tr>\n",
       "      <th>DB00175</th>\n",
       "      <td>atherosclerosis</td>\n",
       "      <td>Pravastatin</td>\n",
       "      <td>Module-based</td>\n",
       "      <td>470.0</td>\n",
       "      <td>1</td>\n",
       "      <td>-0.822482</td>\n",
       "      <td>True</td>\n",
       "      <td>1.000687</td>\n",
       "    </tr>\n",
       "    <tr>\n",
       "      <th>DB00175</th>\n",
       "      <td>atherosclerosis</td>\n",
       "      <td>Pravastatin</td>\n",
       "      <td>Gene-based</td>\n",
       "      <td>534.4</td>\n",
       "      <td>1</td>\n",
       "      <td>0.178205</td>\n",
       "      <td>True</td>\n",
       "      <td>1.000687</td>\n",
       "    </tr>\n",
       "    <tr>\n",
       "      <th>DB00758</th>\n",
       "      <td>atherosclerosis</td>\n",
       "      <td>Clopidogrel</td>\n",
       "      <td>Module-based</td>\n",
       "      <td>503.2</td>\n",
       "      <td>0</td>\n",
       "      <td>-0.370611</td>\n",
       "      <td>True</td>\n",
       "      <td>0.921355</td>\n",
       "    </tr>\n",
       "    <tr>\n",
       "      <th>DB00758</th>\n",
       "      <td>atherosclerosis</td>\n",
       "      <td>Clopidogrel</td>\n",
       "      <td>Gene-based</td>\n",
       "      <td>569.4</td>\n",
       "      <td>0</td>\n",
       "      <td>0.550743</td>\n",
       "      <td>True</td>\n",
       "      <td>0.921355</td>\n",
       "    </tr>\n",
       "    <tr>\n",
       "      <th>DB00627</th>\n",
       "      <td>atherosclerosis</td>\n",
       "      <td>Niacin</td>\n",
       "      <td>Module-based</td>\n",
       "      <td>568.6</td>\n",
       "      <td>1</td>\n",
       "      <td>0.519518</td>\n",
       "      <td>True</td>\n",
       "      <td>0.530775</td>\n",
       "    </tr>\n",
       "    <tr>\n",
       "      <th>DB00627</th>\n",
       "      <td>atherosclerosis</td>\n",
       "      <td>Niacin</td>\n",
       "      <td>Gene-based</td>\n",
       "      <td>516.6</td>\n",
       "      <td>1</td>\n",
       "      <td>-0.011257</td>\n",
       "      <td>True</td>\n",
       "      <td>0.530775</td>\n",
       "    </tr>\n",
       "  </tbody>\n",
       "</table>\n",
       "</div>"
      ],
      "text/plain": [
       "                           disease    drug_name        method  score  \\\n",
       "trait     drug                                                         \n",
       "DOID:1936 DB00227  atherosclerosis   Lovastatin  Module-based  439.0   \n",
       "          DB00227  atherosclerosis   Lovastatin    Gene-based  553.8   \n",
       "          DB00175  atherosclerosis  Pravastatin  Module-based  470.0   \n",
       "          DB00175  atherosclerosis  Pravastatin    Gene-based  534.4   \n",
       "          DB00758  atherosclerosis  Clopidogrel  Module-based  503.2   \n",
       "          DB00758  atherosclerosis  Clopidogrel    Gene-based  569.4   \n",
       "          DB00627  atherosclerosis       Niacin  Module-based  568.6   \n",
       "          DB00627  atherosclerosis       Niacin    Gene-based  516.6   \n",
       "\n",
       "                   true_class  score_std  different_sign  score_difference  \n",
       "trait     drug                                                              \n",
       "DOID:1936 DB00227           1  -1.244409            True          1.629106  \n",
       "          DB00227           1   0.384698            True          1.629106  \n",
       "          DB00175           1  -0.822482            True          1.000687  \n",
       "          DB00175           1   0.178205            True          1.000687  \n",
       "          DB00758           0  -0.370611            True          0.921355  \n",
       "          DB00758           0   0.550743            True          0.921355  \n",
       "          DB00627           1   0.519518            True          0.530775  \n",
       "          DB00627           1  -0.011257            True          0.530775  "
      ]
     },
     "metadata": {},
     "output_type": "display_data"
    }
   ],
   "source": [
    "find_differences(\"atherosclerosis\")"
   ]
  },
  {
   "cell_type": "markdown",
   "metadata": {},
   "source": [
    "# Niacin and Atherosclerosis/CAD"
   ]
  },
  {
   "cell_type": "code",
   "execution_count": 80,
   "metadata": {},
   "outputs": [],
   "source": [
    "from entity import Trait"
   ]
  },
  {
   "cell_type": "code",
   "execution_count": 81,
   "metadata": {},
   "outputs": [
    {
     "data": {
      "text/plain": [
       "[I70-Diagnoses_main_ICD10_I70_Atherosclerosis]"
      ]
     },
     "execution_count": 81,
     "metadata": {},
     "output_type": "execute_result"
    }
   ],
   "source": [
    "Trait.get_traits_from_efo(\"atherosclerosis\")"
   ]
  },
  {
   "cell_type": "code",
   "execution_count": 82,
   "metadata": {},
   "outputs": [],
   "source": [
    "d = Trait.get_trait(full_code=\"I70-Diagnoses_main_ICD10_I70_Atherosclerosis\")"
   ]
  },
  {
   "cell_type": "code",
   "execution_count": 83,
   "metadata": {},
   "outputs": [
    {
     "data": {
      "text/plain": [
       "(361194, 566.0)"
      ]
     },
     "execution_count": 83,
     "metadata": {},
     "output_type": "execute_result"
    }
   ],
   "source": [
    "d.n, d.n_cases"
   ]
  },
  {
   "cell_type": "code",
   "execution_count": 84,
   "metadata": {},
   "outputs": [
    {
     "data": {
      "text/plain": [
       "EfoInfo(id=['DOID:1936'], label=None)"
      ]
     },
     "execution_count": 84,
     "metadata": {},
     "output_type": "execute_result"
    }
   ],
   "source": [
    "d.get_do_info()"
   ]
  },
  {
   "cell_type": "code",
   "execution_count": 85,
   "metadata": {},
   "outputs": [
    {
     "data": {
      "text/plain": [
       "[I25-Diagnoses_main_ICD10_I25_Chronic_ischaemic_heart_disease,\n",
       " CARDIoGRAM_C4D_CAD_ADDITIVE]"
      ]
     },
     "execution_count": 85,
     "metadata": {},
     "output_type": "execute_result"
    }
   ],
   "source": [
    "Trait.get_traits_from_efo(\"coronary artery disease\")"
   ]
  },
  {
   "cell_type": "code",
   "execution_count": 86,
   "metadata": {},
   "outputs": [],
   "source": [
    "# d = Trait.get_trait(full_code=\"CARDIoGRAM_C4D_CAD_ADDITIVE\")\n",
    "d = Trait.get_trait(\n",
    "    full_code=\"I25-Diagnoses_main_ICD10_I25_Chronic_ischaemic_heart_disease\"\n",
    ")"
   ]
  },
  {
   "cell_type": "code",
   "execution_count": 87,
   "metadata": {},
   "outputs": [
    {
     "data": {
      "text/plain": [
       "(361194, 12769.0)"
      ]
     },
     "execution_count": 87,
     "metadata": {},
     "output_type": "execute_result"
    }
   ],
   "source": [
    "d.n, d.n_cases"
   ]
  },
  {
   "cell_type": "code",
   "execution_count": 88,
   "metadata": {},
   "outputs": [
    {
     "data": {
      "text/plain": [
       "EfoInfo(id=['DOID:3393'], label=None)"
      ]
     },
     "execution_count": 88,
     "metadata": {},
     "output_type": "execute_result"
    }
   ],
   "source": [
    "d.get_do_info()"
   ]
  },
  {
   "cell_type": "code",
   "execution_count": 89,
   "metadata": {},
   "outputs": [
    {
     "data": {
      "text/plain": [
       "[20002_1065-Noncancer_illness_code_selfreported_hypertension]"
      ]
     },
     "execution_count": 89,
     "metadata": {},
     "output_type": "execute_result"
    }
   ],
   "source": [
    "Trait.get_traits_from_efo(\"hypertension\")"
   ]
  },
  {
   "cell_type": "code",
   "execution_count": 90,
   "metadata": {},
   "outputs": [],
   "source": [
    "d = Trait.get_trait(\n",
    "    full_code=\"20002_1065-Noncancer_illness_code_selfreported_hypertension\"\n",
    ")"
   ]
  },
  {
   "cell_type": "code",
   "execution_count": 91,
   "metadata": {},
   "outputs": [
    {
     "data": {
      "text/plain": [
       "(361141, 93560.0)"
      ]
     },
     "execution_count": 91,
     "metadata": {},
     "output_type": "execute_result"
    }
   ],
   "source": [
    "d.n, d.n_cases"
   ]
  },
  {
   "cell_type": "code",
   "execution_count": 92,
   "metadata": {},
   "outputs": [
    {
     "data": {
      "text/plain": [
       "EfoInfo(id=['DOID:10763'], label=None)"
      ]
     },
     "execution_count": 92,
     "metadata": {},
     "output_type": "execute_result"
    }
   ],
   "source": [
    "d.get_do_info()"
   ]
  },
  {
   "cell_type": "code",
   "execution_count": 93,
   "metadata": {},
   "outputs": [
    {
     "data": {
      "text/plain": [
       "[20002_1075-Noncancer_illness_code_selfreported_heart_attackmyocardial_infarction]"
      ]
     },
     "execution_count": 93,
     "metadata": {},
     "output_type": "execute_result"
    }
   ],
   "source": [
    "Trait.get_traits_from_efo(\"myocardial infarction\")"
   ]
  },
  {
   "cell_type": "code",
   "execution_count": 94,
   "metadata": {},
   "outputs": [],
   "source": [
    "d = Trait.get_trait(\n",
    "    full_code=\"20002_1473-Noncancer_illness_code_selfreported_high_cholesterol\"\n",
    ")"
   ]
  },
  {
   "cell_type": "code",
   "execution_count": 95,
   "metadata": {},
   "outputs": [
    {
     "data": {
      "text/plain": [
       "(361141, 43957.0)"
      ]
     },
     "execution_count": 95,
     "metadata": {},
     "output_type": "execute_result"
    }
   ],
   "source": [
    "d.n, d.n_cases"
   ]
  },
  {
   "cell_type": "code",
   "execution_count": 96,
   "metadata": {},
   "outputs": [],
   "source": [
    "d.get_do_info()"
   ]
  },
  {
   "cell_type": "code",
   "execution_count": 97,
   "metadata": {},
   "outputs": [],
   "source": [
    "# _doid = \"DOID:1936\"\n",
    "_phenomexcan_traits = [\n",
    "    \"I70-Diagnoses_main_ICD10_I70_Atherosclerosis\",\n",
    "    \"CARDIoGRAM_C4D_CAD_ADDITIVE\",\n",
    "    \"I25-Diagnoses_main_ICD10_I25_Chronic_ischaemic_heart_disease\",\n",
    "    \"20002_1065-Noncancer_illness_code_selfreported_hypertension\",\n",
    "    \"20002_1473-Noncancer_illness_code_selfreported_high_cholesterol\",\n",
    "    # others\n",
    "    \"6150_100-Vascularheart_problems_diagnosed_by_doctor_None_of_the_above\",\n",
    "    \"6150_4-Vascularheart_problems_diagnosed_by_doctor_High_blood_pressure\",\n",
    "    # lipids\n",
    "    \"MAGNETIC_HDL.C\",\n",
    "    \"MAGNETIC_LDL.C\",\n",
    "    \"MAGNETIC_IDL.TG\",\n",
    "    \"MAGNETIC_CH2.DB.ratio\",\n",
    "    #\n",
    "    \"6150_1-Vascularheart_problems_diagnosed_by_doctor_Heart_attack\",\n",
    "    \"I9_CHD-Major_coronary_heart_disease_event\",\n",
    "    \"I9_CORATHER-Coronary_atherosclerosis\",\n",
    "    \"I9_IHD-Ischaemic_heart_disease_wide_definition\",\n",
    "    \"I9_MI-Myocardial_infarction\",\n",
    "    \"I9_MI_STRICT-Myocardial_infarction_strict\",\n",
    "    \"I21-Diagnoses_main_ICD10_I21_Acute_myocardial_infarction\",\n",
    "    \"20002_1075-Noncancer_illness_code_selfreported_heart_attackmyocardial_infarction\",\n",
    "]\n",
    "\n",
    "# _doid = \"DOID:3393\"\n",
    "# _phenomexcan_traits = [\n",
    "#     \"I25-Diagnoses_main_ICD10_I25_Chronic_ischaemic_heart_disease\",\n",
    "#     \"CARDIoGRAM_C4D_CAD_ADDITIVE\"\n",
    "# ]\n",
    "\n",
    "_drug_id = \"DB00627\"\n",
    "_drug_name = \"Niacin\""
   ]
  },
  {
   "cell_type": "code",
   "execution_count": 98,
   "metadata": {},
   "outputs": [
    {
     "data": {
      "text/html": [
       "<div>\n",
       "<style scoped>\n",
       "    .dataframe tbody tr th:only-of-type {\n",
       "        vertical-align: middle;\n",
       "    }\n",
       "\n",
       "    .dataframe tbody tr th {\n",
       "        vertical-align: top;\n",
       "    }\n",
       "\n",
       "    .dataframe thead th {\n",
       "        text-align: right;\n",
       "    }\n",
       "</style>\n",
       "<table border=\"1\" class=\"dataframe\">\n",
       "  <thead>\n",
       "    <tr style=\"text-align: right;\">\n",
       "      <th></th>\n",
       "      <th></th>\n",
       "      <th>disease</th>\n",
       "      <th>drug_name</th>\n",
       "      <th>method</th>\n",
       "      <th>score</th>\n",
       "      <th>true_class</th>\n",
       "      <th>score_std</th>\n",
       "      <th>different_sign</th>\n",
       "      <th>score_difference</th>\n",
       "    </tr>\n",
       "    <tr>\n",
       "      <th>trait</th>\n",
       "      <th>drug</th>\n",
       "      <th></th>\n",
       "      <th></th>\n",
       "      <th></th>\n",
       "      <th></th>\n",
       "      <th></th>\n",
       "      <th></th>\n",
       "      <th></th>\n",
       "      <th></th>\n",
       "    </tr>\n",
       "  </thead>\n",
       "  <tbody>\n",
       "    <tr>\n",
       "      <th rowspan=\"2\" valign=\"top\">DOID:1936</th>\n",
       "      <th>DB00627</th>\n",
       "      <td>atherosclerosis</td>\n",
       "      <td>Niacin</td>\n",
       "      <td>Gene-based</td>\n",
       "      <td>516.6</td>\n",
       "      <td>1</td>\n",
       "      <td>-0.011257</td>\n",
       "      <td>True</td>\n",
       "      <td>0.530775</td>\n",
       "    </tr>\n",
       "    <tr>\n",
       "      <th>DB00627</th>\n",
       "      <td>atherosclerosis</td>\n",
       "      <td>Niacin</td>\n",
       "      <td>Module-based</td>\n",
       "      <td>568.6</td>\n",
       "      <td>1</td>\n",
       "      <td>0.519518</td>\n",
       "      <td>True</td>\n",
       "      <td>0.530775</td>\n",
       "    </tr>\n",
       "    <tr>\n",
       "      <th rowspan=\"2\" valign=\"top\">DOID:3393</th>\n",
       "      <th>DB00627</th>\n",
       "      <td>coronary artery disease</td>\n",
       "      <td>Niacin</td>\n",
       "      <td>Gene-based</td>\n",
       "      <td>565.4</td>\n",
       "      <td>1</td>\n",
       "      <td>0.508167</td>\n",
       "      <td>False</td>\n",
       "      <td>0.452333</td>\n",
       "    </tr>\n",
       "    <tr>\n",
       "      <th>DB00627</th>\n",
       "      <td>coronary artery disease</td>\n",
       "      <td>Niacin</td>\n",
       "      <td>Module-based</td>\n",
       "      <td>601.0</td>\n",
       "      <td>1</td>\n",
       "      <td>0.960500</td>\n",
       "      <td>False</td>\n",
       "      <td>0.452333</td>\n",
       "    </tr>\n",
       "    <tr>\n",
       "      <th rowspan=\"2\" valign=\"top\">DOID:4989</th>\n",
       "      <th>DB00627</th>\n",
       "      <td>pancreatitis</td>\n",
       "      <td>Niacin</td>\n",
       "      <td>Gene-based</td>\n",
       "      <td>394.8</td>\n",
       "      <td>0</td>\n",
       "      <td>-1.307689</td>\n",
       "      <td>False</td>\n",
       "      <td>1.149402</td>\n",
       "    </tr>\n",
       "    <tr>\n",
       "      <th>DB00627</th>\n",
       "      <td>pancreatitis</td>\n",
       "      <td>Niacin</td>\n",
       "      <td>Module-based</td>\n",
       "      <td>518.8</td>\n",
       "      <td>0</td>\n",
       "      <td>-0.158287</td>\n",
       "      <td>False</td>\n",
       "      <td>1.149402</td>\n",
       "    </tr>\n",
       "  </tbody>\n",
       "</table>\n",
       "</div>"
      ],
      "text/plain": [
       "                                   disease drug_name        method  score  \\\n",
       "trait     drug                                                              \n",
       "DOID:1936 DB00627          atherosclerosis    Niacin    Gene-based  516.6   \n",
       "          DB00627          atherosclerosis    Niacin  Module-based  568.6   \n",
       "DOID:3393 DB00627  coronary artery disease    Niacin    Gene-based  565.4   \n",
       "          DB00627  coronary artery disease    Niacin  Module-based  601.0   \n",
       "DOID:4989 DB00627             pancreatitis    Niacin    Gene-based  394.8   \n",
       "          DB00627             pancreatitis    Niacin  Module-based  518.8   \n",
       "\n",
       "                   true_class  score_std  different_sign  score_difference  \n",
       "trait     drug                                                              \n",
       "DOID:1936 DB00627           1  -0.011257            True          0.530775  \n",
       "          DB00627           1   0.519518            True          0.530775  \n",
       "DOID:3393 DB00627           1   0.508167           False          0.452333  \n",
       "          DB00627           1   0.960500           False          0.452333  \n",
       "DOID:4989 DB00627           0  -1.307689           False          1.149402  \n",
       "          DB00627           0  -0.158287           False          1.149402  "
      ]
     },
     "execution_count": 98,
     "metadata": {},
     "output_type": "execute_result"
    }
   ],
   "source": [
    "pharmadb_predictions[pharmadb_predictions[\"drug_name\"] == _drug_name].sort_values(\n",
    "    [\"disease\", \"method\"]\n",
    ")"
   ]
  },
  {
   "cell_type": "markdown",
   "metadata": {},
   "source": [
    "## Get best tissue results for traits"
   ]
  },
  {
   "cell_type": "code",
   "execution_count": 99,
   "metadata": {},
   "outputs": [],
   "source": [
    "drugs_tissue_df = {}\n",
    "\n",
    "with pd.HDFStore(input_predictions_by_tissue_file, mode=\"r\") as store:\n",
    "    for tk in store.keys():\n",
    "        df = store[tk][_drug_id]\n",
    "\n",
    "        drugs_tissue_df[tk[1:]] = df\n",
    "#         tissue_df_flatten = tissue_df.values.flatten()\n",
    "#         tissue_df = (tissue_df - tissue_df_flatten.mean()) / tissue_df_flatten.std()\n",
    "\n",
    "#         tissue_df = tissue_df.loc[_phenomexcan_traits, _drug_id]"
   ]
  },
  {
   "cell_type": "code",
   "execution_count": 100,
   "metadata": {},
   "outputs": [],
   "source": [
    "drug_df = pd.DataFrame(drugs_tissue_df).max(1)"
   ]
  },
  {
   "cell_type": "code",
   "execution_count": 101,
   "metadata": {},
   "outputs": [
    {
     "data": {
      "text/plain": [
       "(4091,)"
      ]
     },
     "execution_count": 101,
     "metadata": {},
     "output_type": "execute_result"
    }
   ],
   "source": [
    "drug_df.shape"
   ]
  },
  {
   "cell_type": "code",
   "execution_count": 102,
   "metadata": {},
   "outputs": [
    {
     "data": {
      "text/plain": [
       "I9_PHLETHROMBDVTLOW-DVT_of_lower_extremities                       4240339\n",
       "I71-Diagnoses_main_ICD10_I71_Aortic_aneurysm_and_dissection        4231713\n",
       "G62-Diagnoses_main_ICD10_G62_Other_polyneuropathies                4573539\n",
       "2395_4-Hairbalding_pattern_Pattern_4                               3979892\n",
       "20003_1141168590-Treatmentmedication_code_pariet_10mg_ec_tablet    4452501\n",
       "dtype: int64"
      ]
     },
     "execution_count": 102,
     "metadata": {},
     "output_type": "execute_result"
    }
   ],
   "source": [
    "drug_df.head()"
   ]
  },
  {
   "cell_type": "code",
   "execution_count": 103,
   "metadata": {},
   "outputs": [
    {
     "data": {
      "text/plain": [
       "count    4.091000e+03\n",
       "mean     4.240773e+06\n",
       "std      3.346693e+05\n",
       "min      2.317380e+06\n",
       "25%      4.064316e+06\n",
       "50%      4.323137e+06\n",
       "75%      4.488742e+06\n",
       "max      4.760801e+06\n",
       "dtype: float64"
      ]
     },
     "execution_count": 103,
     "metadata": {},
     "output_type": "execute_result"
    }
   ],
   "source": [
    "drug_df.describe()"
   ]
  },
  {
   "cell_type": "code",
   "execution_count": 104,
   "metadata": {},
   "outputs": [],
   "source": [
    "traits_tissue_df = {}\n",
    "\n",
    "with pd.HDFStore(input_predictions_by_tissue_file, mode=\"r\") as store:\n",
    "    for tk in store.keys():\n",
    "        df = store[tk].loc[_phenomexcan_traits, _drug_id]\n",
    "\n",
    "        traits_tissue_df[tk[1:]] = df\n",
    "#         tissue_df_flatten = tissue_df.values.flatten()\n",
    "#         tissue_df = (tissue_df - tissue_df_flatten.mean()) / tissue_df_flatten.std()\n",
    "\n",
    "#         tissue_df = tissue_df.loc[_phenomexcan_traits, _drug_id]"
   ]
  },
  {
   "cell_type": "code",
   "execution_count": 105,
   "metadata": {},
   "outputs": [],
   "source": [
    "traits_best_tissues_df = pd.DataFrame(traits_tissue_df).idxmax(1)"
   ]
  },
  {
   "cell_type": "code",
   "execution_count": 106,
   "metadata": {},
   "outputs": [
    {
     "data": {
      "text/plain": [
       "I70-Diagnoses_main_ICD10_I70_Atherosclerosis                                                   Cells_Cultured_fibroblasts\n",
       "CARDIoGRAM_C4D_CAD_ADDITIVE                                                                              Colon_Transverse\n",
       "I25-Diagnoses_main_ICD10_I25_Chronic_ischaemic_heart_disease                                  Brain_Putamen_basal_ganglia\n",
       "20002_1065-Noncancer_illness_code_selfreported_hypertension                                   Brain_Putamen_basal_ganglia\n",
       "20002_1473-Noncancer_illness_code_selfreported_high_cholesterol                                            Brain_Amygdala\n",
       "6150_100-Vascularheart_problems_diagnosed_by_doctor_None_of_the_above                                               Liver\n",
       "6150_4-Vascularheart_problems_diagnosed_by_doctor_High_blood_pressure                                             Stomach\n",
       "MAGNETIC_HDL.C                                                                                     Heart_Atrial_Appendage\n",
       "MAGNETIC_LDL.C                                                                        Esophagus_Gastroesophageal_Junction\n",
       "MAGNETIC_IDL.TG                                                                               Brain_Cerebellar_Hemisphere\n",
       "MAGNETIC_CH2.DB.ratio                                                                      Small_Intestine_Terminal_Ileum\n",
       "6150_1-Vascularheart_problems_diagnosed_by_doctor_Heart_attack                                   Brain_Frontal_Cortex_BA9\n",
       "I9_CHD-Major_coronary_heart_disease_event                                                     Brain_Cerebellar_Hemisphere\n",
       "I9_CORATHER-Coronary_atherosclerosis                                                               Heart_Atrial_Appendage\n",
       "I9_IHD-Ischaemic_heart_disease_wide_definition                                                Brain_Cerebellar_Hemisphere\n",
       "I9_MI-Myocardial_infarction                                                         Brain_Nucleus_accumbens_basal_ganglia\n",
       "I9_MI_STRICT-Myocardial_infarction_strict                                           Brain_Nucleus_accumbens_basal_ganglia\n",
       "I21-Diagnoses_main_ICD10_I21_Acute_myocardial_infarction                                      Brain_Cerebellar_Hemisphere\n",
       "20002_1075-Noncancer_illness_code_selfreported_heart_attackmyocardial_infarction                         Esophagus_Mucosa\n",
       "dtype: object"
      ]
     },
     "execution_count": 106,
     "metadata": {},
     "output_type": "execute_result"
    }
   ],
   "source": [
    "traits_best_tissues_df"
   ]
  },
  {
   "cell_type": "code",
   "execution_count": 107,
   "metadata": {},
   "outputs": [],
   "source": [
    "traits_df = pd.DataFrame(traits_tissue_df).max(1)"
   ]
  },
  {
   "cell_type": "code",
   "execution_count": 108,
   "metadata": {},
   "outputs": [
    {
     "data": {
      "text/plain": [
       "I70-Diagnoses_main_ICD10_I70_Atherosclerosis                                        4574511\n",
       "CARDIoGRAM_C4D_CAD_ADDITIVE                                                         4598049\n",
       "I25-Diagnoses_main_ICD10_I25_Chronic_ischaemic_heart_disease                        4687680\n",
       "20002_1065-Noncancer_illness_code_selfreported_hypertension                         4441478\n",
       "20002_1473-Noncancer_illness_code_selfreported_high_cholesterol                     4549772\n",
       "6150_100-Vascularheart_problems_diagnosed_by_doctor_None_of_the_above               4539449\n",
       "6150_4-Vascularheart_problems_diagnosed_by_doctor_High_blood_pressure               4587815\n",
       "MAGNETIC_HDL.C                                                                      4535385\n",
       "MAGNETIC_LDL.C                                                                      4111780\n",
       "MAGNETIC_IDL.TG                                                                     4028127\n",
       "MAGNETIC_CH2.DB.ratio                                                               3884220\n",
       "6150_1-Vascularheart_problems_diagnosed_by_doctor_Heart_attack                      4014872\n",
       "I9_CHD-Major_coronary_heart_disease_event                                           4443732\n",
       "I9_CORATHER-Coronary_atherosclerosis                                                4687805\n",
       "I9_IHD-Ischaemic_heart_disease_wide_definition                                      4671838\n",
       "I9_MI-Myocardial_infarction                                                         4417032\n",
       "I9_MI_STRICT-Myocardial_infarction_strict                                           4417032\n",
       "I21-Diagnoses_main_ICD10_I21_Acute_myocardial_infarction                            4242830\n",
       "20002_1075-Noncancer_illness_code_selfreported_heart_attackmyocardial_infarction    3996589\n",
       "dtype: int64"
      ]
     },
     "execution_count": 108,
     "metadata": {},
     "output_type": "execute_result"
    }
   ],
   "source": [
    "traits_df"
   ]
  },
  {
   "cell_type": "code",
   "execution_count": 109,
   "metadata": {},
   "outputs": [
    {
     "data": {
      "text/plain": [
       "(19,)"
      ]
     },
     "execution_count": 109,
     "metadata": {},
     "output_type": "execute_result"
    }
   ],
   "source": [
    "traits_df.shape"
   ]
  },
  {
   "cell_type": "code",
   "execution_count": 110,
   "metadata": {},
   "outputs": [
    {
     "data": {
      "text/plain": [
       "MAGNETIC_CH2.DB.ratio                                                               3884220\n",
       "20002_1075-Noncancer_illness_code_selfreported_heart_attackmyocardial_infarction    3996589\n",
       "6150_1-Vascularheart_problems_diagnosed_by_doctor_Heart_attack                      4014872\n",
       "MAGNETIC_IDL.TG                                                                     4028127\n",
       "MAGNETIC_LDL.C                                                                      4111780\n",
       "I21-Diagnoses_main_ICD10_I21_Acute_myocardial_infarction                            4242830\n",
       "I9_MI-Myocardial_infarction                                                         4417032\n",
       "I9_MI_STRICT-Myocardial_infarction_strict                                           4417032\n",
       "20002_1065-Noncancer_illness_code_selfreported_hypertension                         4441478\n",
       "I9_CHD-Major_coronary_heart_disease_event                                           4443732\n",
       "MAGNETIC_HDL.C                                                                      4535385\n",
       "6150_100-Vascularheart_problems_diagnosed_by_doctor_None_of_the_above               4539449\n",
       "20002_1473-Noncancer_illness_code_selfreported_high_cholesterol                     4549772\n",
       "I70-Diagnoses_main_ICD10_I70_Atherosclerosis                                        4574511\n",
       "6150_4-Vascularheart_problems_diagnosed_by_doctor_High_blood_pressure               4587815\n",
       "CARDIoGRAM_C4D_CAD_ADDITIVE                                                         4598049\n",
       "I9_IHD-Ischaemic_heart_disease_wide_definition                                      4671838\n",
       "I25-Diagnoses_main_ICD10_I25_Chronic_ischaemic_heart_disease                        4687680\n",
       "I9_CORATHER-Coronary_atherosclerosis                                                4687805\n",
       "dtype: int64"
      ]
     },
     "execution_count": 110,
     "metadata": {},
     "output_type": "execute_result"
    }
   ],
   "source": [
    "traits_df.sort_values()"
   ]
  },
  {
   "cell_type": "code",
   "execution_count": 111,
   "metadata": {},
   "outputs": [],
   "source": [
    "traits_drug_df = (traits_df - drug_df.mean()) / drug_df.std()"
   ]
  },
  {
   "cell_type": "code",
   "execution_count": 112,
   "metadata": {},
   "outputs": [
    {
     "data": {
      "text/plain": [
       "MAGNETIC_CH2.DB.ratio                                                              -1.065389\n",
       "20002_1075-Noncancer_illness_code_selfreported_heart_attackmyocardial_infarction   -0.729627\n",
       "6150_1-Vascularheart_problems_diagnosed_by_doctor_Heart_attack                     -0.674997\n",
       "MAGNETIC_IDL.TG                                                                    -0.635391\n",
       "MAGNETIC_LDL.C                                                                     -0.385434\n",
       "I21-Diagnoses_main_ICD10_I21_Acute_myocardial_infarction                            0.006147\n",
       "I9_MI-Myocardial_infarction                                                         0.526667\n",
       "I9_MI_STRICT-Myocardial_infarction_strict                                           0.526667\n",
       "20002_1065-Noncancer_illness_code_selfreported_hypertension                         0.599712\n",
       "I9_CHD-Major_coronary_heart_disease_event                                           0.606447\n",
       "MAGNETIC_HDL.C                                                                      0.880308\n",
       "6150_100-Vascularheart_problems_diagnosed_by_doctor_None_of_the_above               0.892451\n",
       "20002_1473-Noncancer_illness_code_selfreported_high_cholesterol                     0.923297\n",
       "I70-Diagnoses_main_ICD10_I70_Atherosclerosis                                        0.997218\n",
       "6150_4-Vascularheart_problems_diagnosed_by_doctor_High_blood_pressure               1.036970\n",
       "CARDIoGRAM_C4D_CAD_ADDITIVE                                                         1.067550\n",
       "I9_IHD-Ischaemic_heart_disease_wide_definition                                      1.288033\n",
       "I25-Diagnoses_main_ICD10_I25_Chronic_ischaemic_heart_disease                        1.335369\n",
       "I9_CORATHER-Coronary_atherosclerosis                                                1.335743\n",
       "dtype: float64"
      ]
     },
     "execution_count": 112,
     "metadata": {},
     "output_type": "execute_result"
    }
   ],
   "source": [
    "traits_drug_df.sort_values()"
   ]
  },
  {
   "cell_type": "code",
   "execution_count": 113,
   "metadata": {},
   "outputs": [],
   "source": [
    "d = Trait.get_trait(full_code=\"I9_IHD-Ischaemic_heart_disease_wide_definition\")"
   ]
  },
  {
   "cell_type": "code",
   "execution_count": 114,
   "metadata": {},
   "outputs": [
    {
     "data": {
      "text/plain": [
       "(361194, 20857.0)"
      ]
     },
     "execution_count": 114,
     "metadata": {},
     "output_type": "execute_result"
    }
   ],
   "source": [
    "d.n, d.n_cases"
   ]
  },
  {
   "cell_type": "code",
   "execution_count": 115,
   "metadata": {},
   "outputs": [],
   "source": [
    "_tmp_df = (drug_df - drug_df.mean()) / drug_df.std()"
   ]
  },
  {
   "cell_type": "code",
   "execution_count": 116,
   "metadata": {},
   "outputs": [
    {
     "data": {
      "text/plain": [
       "count                     4091.0\n",
       "mean     -1.2991590475398556e-15\n",
       "std           1.0000000000000002\n",
       "min          -5.7471445571517945\n",
       "25%          -0.5272574381504886\n",
       "50%           0.2461059844517343\n",
       "75%           0.7409392332288909\n",
       "max           1.5538566267480678\n",
       "dtype: object"
      ]
     },
     "execution_count": 116,
     "metadata": {},
     "output_type": "execute_result"
    }
   ],
   "source": [
    "_tmp_df.describe().apply(str)"
   ]
  },
  {
   "cell_type": "code",
   "execution_count": 117,
   "metadata": {},
   "outputs": [
    {
     "data": {
      "text/plain": [
       "0.80    0.834881\n",
       "0.85    0.938876\n",
       "0.90    1.036803\n",
       "0.95    1.185432\n",
       "dtype: float64"
      ]
     },
     "execution_count": 117,
     "metadata": {},
     "output_type": "execute_result"
    }
   ],
   "source": [
    "_tmp_df.quantile([0.80, 0.85, 0.90, 0.95])"
   ]
  },
  {
   "cell_type": "code",
   "execution_count": null,
   "metadata": {},
   "outputs": [],
   "source": []
  },
  {
   "cell_type": "code",
   "execution_count": null,
   "metadata": {},
   "outputs": [],
   "source": []
  },
  {
   "cell_type": "code",
   "execution_count": 118,
   "metadata": {},
   "outputs": [],
   "source": [
    "def find_best_tissue(trait_id):\n",
    "    return traits_best_tissues_df.loc[trait_id]"
   ]
  },
  {
   "cell_type": "code",
   "execution_count": 119,
   "metadata": {},
   "outputs": [
    {
     "data": {
      "text/plain": [
       "'Brain_Cerebellar_Hemisphere'"
      ]
     },
     "metadata": {},
     "output_type": "display_data"
    }
   ],
   "source": [
    "_tmp_res = find_best_tissue(\"I9_IHD-Ischaemic_heart_disease_wide_definition\")\n",
    "display(_tmp_res)"
   ]
  },
  {
   "cell_type": "markdown",
   "metadata": {},
   "source": [
    "## Gene module-based - LVs driving association"
   ]
  },
  {
   "cell_type": "code",
   "execution_count": 120,
   "metadata": {},
   "outputs": [
    {
     "data": {
      "text/plain": [
       "'Cells_Cultured_fibroblasts'"
      ]
     },
     "metadata": {},
     "output_type": "display_data"
    },
    {
     "data": {
      "text/plain": [
       "'Colon_Transverse'"
      ]
     },
     "metadata": {},
     "output_type": "display_data"
    },
    {
     "data": {
      "text/plain": [
       "'Brain_Putamen_basal_ganglia'"
      ]
     },
     "metadata": {},
     "output_type": "display_data"
    },
    {
     "data": {
      "text/plain": [
       "'Brain_Putamen_basal_ganglia'"
      ]
     },
     "metadata": {},
     "output_type": "display_data"
    },
    {
     "data": {
      "text/plain": [
       "'Brain_Amygdala'"
      ]
     },
     "metadata": {},
     "output_type": "display_data"
    },
    {
     "data": {
      "text/plain": [
       "'Liver'"
      ]
     },
     "metadata": {},
     "output_type": "display_data"
    },
    {
     "data": {
      "text/plain": [
       "'Stomach'"
      ]
     },
     "metadata": {},
     "output_type": "display_data"
    },
    {
     "data": {
      "text/plain": [
       "'Heart_Atrial_Appendage'"
      ]
     },
     "metadata": {},
     "output_type": "display_data"
    },
    {
     "data": {
      "text/plain": [
       "'Esophagus_Gastroesophageal_Junction'"
      ]
     },
     "metadata": {},
     "output_type": "display_data"
    },
    {
     "data": {
      "text/plain": [
       "'Brain_Cerebellar_Hemisphere'"
      ]
     },
     "metadata": {},
     "output_type": "display_data"
    },
    {
     "data": {
      "text/plain": [
       "'Small_Intestine_Terminal_Ileum'"
      ]
     },
     "metadata": {},
     "output_type": "display_data"
    },
    {
     "data": {
      "text/plain": [
       "'Brain_Frontal_Cortex_BA9'"
      ]
     },
     "metadata": {},
     "output_type": "display_data"
    },
    {
     "data": {
      "text/plain": [
       "'Brain_Cerebellar_Hemisphere'"
      ]
     },
     "metadata": {},
     "output_type": "display_data"
    },
    {
     "data": {
      "text/plain": [
       "'Heart_Atrial_Appendage'"
      ]
     },
     "metadata": {},
     "output_type": "display_data"
    },
    {
     "data": {
      "text/plain": [
       "'Brain_Cerebellar_Hemisphere'"
      ]
     },
     "metadata": {},
     "output_type": "display_data"
    },
    {
     "data": {
      "text/plain": [
       "'Brain_Nucleus_accumbens_basal_ganglia'"
      ]
     },
     "metadata": {},
     "output_type": "display_data"
    },
    {
     "data": {
      "text/plain": [
       "'Brain_Nucleus_accumbens_basal_ganglia'"
      ]
     },
     "metadata": {},
     "output_type": "display_data"
    },
    {
     "data": {
      "text/plain": [
       "'Brain_Cerebellar_Hemisphere'"
      ]
     },
     "metadata": {},
     "output_type": "display_data"
    },
    {
     "data": {
      "text/plain": [
       "'Esophagus_Mucosa'"
      ]
     },
     "metadata": {},
     "output_type": "display_data"
    }
   ],
   "source": [
    "# available_doids = set(predictions_by_tissue[\"trait\"].unique())\n",
    "traits_lv_data = []\n",
    "\n",
    "for trait in _phenomexcan_traits:\n",
    "    #     t = Trait.get_trait(full_code=trait)\n",
    "\n",
    "    #     t_doid = t.get_do_info().id\n",
    "    #     # select available doid\n",
    "    #     t_doid = [x for x in t_doid if x in available_doids]\n",
    "    #     assert len(t_doid) == 1\n",
    "    #     t_doid = t_doid[0]\n",
    "    #     display(t_doid)\n",
    "\n",
    "    best_module_tissue = find_best_tissue(trait)\n",
    "    display(best_module_tissue)\n",
    "\n",
    "    best_module_tissue_data = pd.read_pickle(\n",
    "        conf.RESULTS[\"DRUG_DISEASE_ANALYSES\"]\n",
    "        / \"spredixcan\"\n",
    "        / \"proj\"\n",
    "        / f\"spredixcan-mashr-zscores-{best_module_tissue}-projection.pkl\"\n",
    "    )[trait]\n",
    "\n",
    "    traits_lv_data.append(best_module_tissue_data)"
   ]
  },
  {
   "cell_type": "code",
   "execution_count": 121,
   "metadata": {},
   "outputs": [],
   "source": [
    "module_tissue_data = pd.DataFrame(traits_lv_data).T"
   ]
  },
  {
   "cell_type": "code",
   "execution_count": 122,
   "metadata": {},
   "outputs": [
    {
     "data": {
      "text/plain": [
       "(987, 19)"
      ]
     },
     "execution_count": 122,
     "metadata": {},
     "output_type": "execute_result"
    }
   ],
   "source": [
    "module_tissue_data.shape"
   ]
  },
  {
   "cell_type": "code",
   "execution_count": 123,
   "metadata": {},
   "outputs": [
    {
     "data": {
      "text/html": [
       "<div>\n",
       "<style scoped>\n",
       "    .dataframe tbody tr th:only-of-type {\n",
       "        vertical-align: middle;\n",
       "    }\n",
       "\n",
       "    .dataframe tbody tr th {\n",
       "        vertical-align: top;\n",
       "    }\n",
       "\n",
       "    .dataframe thead th {\n",
       "        text-align: right;\n",
       "    }\n",
       "</style>\n",
       "<table border=\"1\" class=\"dataframe\">\n",
       "  <thead>\n",
       "    <tr style=\"text-align: right;\">\n",
       "      <th></th>\n",
       "      <th>I70-Diagnoses_main_ICD10_I70_Atherosclerosis</th>\n",
       "      <th>CARDIoGRAM_C4D_CAD_ADDITIVE</th>\n",
       "      <th>I25-Diagnoses_main_ICD10_I25_Chronic_ischaemic_heart_disease</th>\n",
       "      <th>20002_1065-Noncancer_illness_code_selfreported_hypertension</th>\n",
       "      <th>20002_1473-Noncancer_illness_code_selfreported_high_cholesterol</th>\n",
       "      <th>6150_100-Vascularheart_problems_diagnosed_by_doctor_None_of_the_above</th>\n",
       "      <th>6150_4-Vascularheart_problems_diagnosed_by_doctor_High_blood_pressure</th>\n",
       "      <th>MAGNETIC_HDL.C</th>\n",
       "      <th>MAGNETIC_LDL.C</th>\n",
       "      <th>MAGNETIC_IDL.TG</th>\n",
       "      <th>MAGNETIC_CH2.DB.ratio</th>\n",
       "      <th>6150_1-Vascularheart_problems_diagnosed_by_doctor_Heart_attack</th>\n",
       "      <th>I9_CHD-Major_coronary_heart_disease_event</th>\n",
       "      <th>I9_CORATHER-Coronary_atherosclerosis</th>\n",
       "      <th>I9_IHD-Ischaemic_heart_disease_wide_definition</th>\n",
       "      <th>I9_MI-Myocardial_infarction</th>\n",
       "      <th>I9_MI_STRICT-Myocardial_infarction_strict</th>\n",
       "      <th>I21-Diagnoses_main_ICD10_I21_Acute_myocardial_infarction</th>\n",
       "      <th>20002_1075-Noncancer_illness_code_selfreported_heart_attackmyocardial_infarction</th>\n",
       "    </tr>\n",
       "  </thead>\n",
       "  <tbody>\n",
       "    <tr>\n",
       "      <th>LV1</th>\n",
       "      <td>0.005720</td>\n",
       "      <td>-0.002536</td>\n",
       "      <td>0.003223</td>\n",
       "      <td>0.133016</td>\n",
       "      <td>0.027183</td>\n",
       "      <td>-0.009975</td>\n",
       "      <td>0.076686</td>\n",
       "      <td>0.004675</td>\n",
       "      <td>0.043670</td>\n",
       "      <td>0.029299</td>\n",
       "      <td>-0.012070</td>\n",
       "      <td>0.032704</td>\n",
       "      <td>-0.050731</td>\n",
       "      <td>-0.041645</td>\n",
       "      <td>-0.034174</td>\n",
       "      <td>0.022980</td>\n",
       "      <td>0.022980</td>\n",
       "      <td>-0.028532</td>\n",
       "      <td>0.008422</td>\n",
       "    </tr>\n",
       "    <tr>\n",
       "      <th>LV2</th>\n",
       "      <td>-0.002927</td>\n",
       "      <td>-0.040910</td>\n",
       "      <td>0.009556</td>\n",
       "      <td>0.000760</td>\n",
       "      <td>0.031170</td>\n",
       "      <td>-0.000601</td>\n",
       "      <td>0.015566</td>\n",
       "      <td>-0.003369</td>\n",
       "      <td>-0.001206</td>\n",
       "      <td>0.003167</td>\n",
       "      <td>-0.011635</td>\n",
       "      <td>0.002790</td>\n",
       "      <td>-0.058849</td>\n",
       "      <td>-0.053181</td>\n",
       "      <td>-0.025907</td>\n",
       "      <td>0.009914</td>\n",
       "      <td>0.009914</td>\n",
       "      <td>-0.044439</td>\n",
       "      <td>-0.054301</td>\n",
       "    </tr>\n",
       "    <tr>\n",
       "      <th>LV3</th>\n",
       "      <td>0.002734</td>\n",
       "      <td>0.033692</td>\n",
       "      <td>-0.005872</td>\n",
       "      <td>0.018757</td>\n",
       "      <td>-0.015628</td>\n",
       "      <td>0.029873</td>\n",
       "      <td>-0.055076</td>\n",
       "      <td>0.008938</td>\n",
       "      <td>-0.017906</td>\n",
       "      <td>-0.010961</td>\n",
       "      <td>-0.048228</td>\n",
       "      <td>-0.026598</td>\n",
       "      <td>-0.034387</td>\n",
       "      <td>-0.018676</td>\n",
       "      <td>-0.020514</td>\n",
       "      <td>-0.001761</td>\n",
       "      <td>-0.001761</td>\n",
       "      <td>-0.027963</td>\n",
       "      <td>0.003448</td>\n",
       "    </tr>\n",
       "    <tr>\n",
       "      <th>LV4</th>\n",
       "      <td>0.015454</td>\n",
       "      <td>-0.017444</td>\n",
       "      <td>0.004483</td>\n",
       "      <td>-0.040484</td>\n",
       "      <td>0.000231</td>\n",
       "      <td>-0.073387</td>\n",
       "      <td>0.044005</td>\n",
       "      <td>-0.015783</td>\n",
       "      <td>-0.004416</td>\n",
       "      <td>0.018076</td>\n",
       "      <td>0.020984</td>\n",
       "      <td>-0.063318</td>\n",
       "      <td>-0.040422</td>\n",
       "      <td>0.022468</td>\n",
       "      <td>-0.046343</td>\n",
       "      <td>-0.009688</td>\n",
       "      <td>-0.009688</td>\n",
       "      <td>-0.033462</td>\n",
       "      <td>-0.005588</td>\n",
       "    </tr>\n",
       "    <tr>\n",
       "      <th>LV5</th>\n",
       "      <td>0.027796</td>\n",
       "      <td>0.016727</td>\n",
       "      <td>-0.009114</td>\n",
       "      <td>0.001534</td>\n",
       "      <td>-0.037452</td>\n",
       "      <td>0.032017</td>\n",
       "      <td>-0.033671</td>\n",
       "      <td>-0.012350</td>\n",
       "      <td>-0.003539</td>\n",
       "      <td>-0.044317</td>\n",
       "      <td>-0.007597</td>\n",
       "      <td>-0.010769</td>\n",
       "      <td>-0.020286</td>\n",
       "      <td>-0.030727</td>\n",
       "      <td>-0.015489</td>\n",
       "      <td>0.024017</td>\n",
       "      <td>0.024017</td>\n",
       "      <td>-0.009718</td>\n",
       "      <td>-0.009654</td>\n",
       "    </tr>\n",
       "  </tbody>\n",
       "</table>\n",
       "</div>"
      ],
      "text/plain": [
       "     I70-Diagnoses_main_ICD10_I70_Atherosclerosis  \\\n",
       "LV1                                      0.005720   \n",
       "LV2                                     -0.002927   \n",
       "LV3                                      0.002734   \n",
       "LV4                                      0.015454   \n",
       "LV5                                      0.027796   \n",
       "\n",
       "     CARDIoGRAM_C4D_CAD_ADDITIVE  \\\n",
       "LV1                    -0.002536   \n",
       "LV2                    -0.040910   \n",
       "LV3                     0.033692   \n",
       "LV4                    -0.017444   \n",
       "LV5                     0.016727   \n",
       "\n",
       "     I25-Diagnoses_main_ICD10_I25_Chronic_ischaemic_heart_disease  \\\n",
       "LV1                                           0.003223              \n",
       "LV2                                           0.009556              \n",
       "LV3                                          -0.005872              \n",
       "LV4                                           0.004483              \n",
       "LV5                                          -0.009114              \n",
       "\n",
       "     20002_1065-Noncancer_illness_code_selfreported_hypertension  \\\n",
       "LV1                                           0.133016             \n",
       "LV2                                           0.000760             \n",
       "LV3                                           0.018757             \n",
       "LV4                                          -0.040484             \n",
       "LV5                                           0.001534             \n",
       "\n",
       "     20002_1473-Noncancer_illness_code_selfreported_high_cholesterol  \\\n",
       "LV1                                           0.027183                 \n",
       "LV2                                           0.031170                 \n",
       "LV3                                          -0.015628                 \n",
       "LV4                                           0.000231                 \n",
       "LV5                                          -0.037452                 \n",
       "\n",
       "     6150_100-Vascularheart_problems_diagnosed_by_doctor_None_of_the_above  \\\n",
       "LV1                                          -0.009975                       \n",
       "LV2                                          -0.000601                       \n",
       "LV3                                           0.029873                       \n",
       "LV4                                          -0.073387                       \n",
       "LV5                                           0.032017                       \n",
       "\n",
       "     6150_4-Vascularheart_problems_diagnosed_by_doctor_High_blood_pressure  \\\n",
       "LV1                                           0.076686                       \n",
       "LV2                                           0.015566                       \n",
       "LV3                                          -0.055076                       \n",
       "LV4                                           0.044005                       \n",
       "LV5                                          -0.033671                       \n",
       "\n",
       "     MAGNETIC_HDL.C  MAGNETIC_LDL.C  MAGNETIC_IDL.TG  MAGNETIC_CH2.DB.ratio  \\\n",
       "LV1        0.004675        0.043670         0.029299              -0.012070   \n",
       "LV2       -0.003369       -0.001206         0.003167              -0.011635   \n",
       "LV3        0.008938       -0.017906        -0.010961              -0.048228   \n",
       "LV4       -0.015783       -0.004416         0.018076               0.020984   \n",
       "LV5       -0.012350       -0.003539        -0.044317              -0.007597   \n",
       "\n",
       "     6150_1-Vascularheart_problems_diagnosed_by_doctor_Heart_attack  \\\n",
       "LV1                                           0.032704                \n",
       "LV2                                           0.002790                \n",
       "LV3                                          -0.026598                \n",
       "LV4                                          -0.063318                \n",
       "LV5                                          -0.010769                \n",
       "\n",
       "     I9_CHD-Major_coronary_heart_disease_event  \\\n",
       "LV1                                  -0.050731   \n",
       "LV2                                  -0.058849   \n",
       "LV3                                  -0.034387   \n",
       "LV4                                  -0.040422   \n",
       "LV5                                  -0.020286   \n",
       "\n",
       "     I9_CORATHER-Coronary_atherosclerosis  \\\n",
       "LV1                             -0.041645   \n",
       "LV2                             -0.053181   \n",
       "LV3                             -0.018676   \n",
       "LV4                              0.022468   \n",
       "LV5                             -0.030727   \n",
       "\n",
       "     I9_IHD-Ischaemic_heart_disease_wide_definition  \\\n",
       "LV1                                       -0.034174   \n",
       "LV2                                       -0.025907   \n",
       "LV3                                       -0.020514   \n",
       "LV4                                       -0.046343   \n",
       "LV5                                       -0.015489   \n",
       "\n",
       "     I9_MI-Myocardial_infarction  I9_MI_STRICT-Myocardial_infarction_strict  \\\n",
       "LV1                     0.022980                                   0.022980   \n",
       "LV2                     0.009914                                   0.009914   \n",
       "LV3                    -0.001761                                  -0.001761   \n",
       "LV4                    -0.009688                                  -0.009688   \n",
       "LV5                     0.024017                                   0.024017   \n",
       "\n",
       "     I21-Diagnoses_main_ICD10_I21_Acute_myocardial_infarction  \\\n",
       "LV1                                          -0.028532          \n",
       "LV2                                          -0.044439          \n",
       "LV3                                          -0.027963          \n",
       "LV4                                          -0.033462          \n",
       "LV5                                          -0.009718          \n",
       "\n",
       "     20002_1075-Noncancer_illness_code_selfreported_heart_attackmyocardial_infarction  \n",
       "LV1                                           0.008422                                 \n",
       "LV2                                          -0.054301                                 \n",
       "LV3                                           0.003448                                 \n",
       "LV4                                          -0.005588                                 \n",
       "LV5                                          -0.009654                                 "
      ]
     },
     "execution_count": 123,
     "metadata": {},
     "output_type": "execute_result"
    }
   ],
   "source": [
    "module_tissue_data.head()"
   ]
  },
  {
   "cell_type": "code",
   "execution_count": 124,
   "metadata": {},
   "outputs": [],
   "source": [
    "drug_data = lincs_projection.loc[_drug_id]"
   ]
  },
  {
   "cell_type": "code",
   "execution_count": 125,
   "metadata": {},
   "outputs": [
    {
     "data": {
      "text/plain": [
       "LV1     -0.032338\n",
       "LV2      0.007960\n",
       "LV3      0.009136\n",
       "LV4     -0.005717\n",
       "LV5     -0.023626\n",
       "           ...   \n",
       "LV983    0.005209\n",
       "LV984    0.021905\n",
       "LV985    0.013012\n",
       "LV986   -0.014168\n",
       "LV987    0.012947\n",
       "Name: DB00627, Length: 987, dtype: float64"
      ]
     },
     "execution_count": 125,
     "metadata": {},
     "output_type": "execute_result"
    }
   ],
   "source": [
    "drug_data"
   ]
  },
  {
   "cell_type": "code",
   "execution_count": 126,
   "metadata": {},
   "outputs": [
    {
     "data": {
      "text/plain": [
       "I9_IHD-Ischaemic_heart_disease_wide_definition                                      0.041041\n",
       "6150_100-Vascularheart_problems_diagnosed_by_doctor_None_of_the_above               0.033455\n",
       "I9_MI_STRICT-Myocardial_infarction_strict                                           0.030205\n",
       "I9_MI-Myocardial_infarction                                                         0.030205\n",
       "I9_CORATHER-Coronary_atherosclerosis                                                0.025396\n",
       "I70-Diagnoses_main_ICD10_I70_Atherosclerosis                                        0.023000\n",
       "I9_CHD-Major_coronary_heart_disease_event                                           0.021127\n",
       "I25-Diagnoses_main_ICD10_I25_Chronic_ischaemic_heart_disease                        0.021002\n",
       "6150_4-Vascularheart_problems_diagnosed_by_doctor_High_blood_pressure               0.019493\n",
       "20002_1473-Noncancer_illness_code_selfreported_high_cholesterol                     0.018520\n",
       "I21-Diagnoses_main_ICD10_I21_Acute_myocardial_infarction                            0.017050\n",
       "CARDIoGRAM_C4D_CAD_ADDITIVE                                                         0.016894\n",
       "MAGNETIC_HDL.C                                                                      0.016513\n",
       "20002_1075-Noncancer_illness_code_selfreported_heart_attackmyocardial_infarction    0.015887\n",
       "20002_1065-Noncancer_illness_code_selfreported_hypertension                         0.010881\n",
       "MAGNETIC_IDL.TG                                                                     0.007082\n",
       "MAGNETIC_CH2.DB.ratio                                                               0.003710\n",
       "6150_1-Vascularheart_problems_diagnosed_by_doctor_Heart_attack                      0.003115\n",
       "MAGNETIC_LDL.C                                                                      0.002542\n",
       "Name: DB00627, dtype: float64"
      ]
     },
     "metadata": {},
     "output_type": "display_data"
    }
   ],
   "source": [
    "_tmp = (-1.0 * drug_data.dot(module_tissue_data)).sort_values(ascending=False)\n",
    "display(_tmp)"
   ]
  },
  {
   "cell_type": "code",
   "execution_count": 127,
   "metadata": {},
   "outputs": [
    {
     "data": {
      "text/html": [
       "<div>\n",
       "<style scoped>\n",
       "    .dataframe tbody tr th:only-of-type {\n",
       "        vertical-align: middle;\n",
       "    }\n",
       "\n",
       "    .dataframe tbody tr th {\n",
       "        vertical-align: top;\n",
       "    }\n",
       "\n",
       "    .dataframe thead th {\n",
       "        text-align: right;\n",
       "    }\n",
       "</style>\n",
       "<table border=\"1\" class=\"dataframe\">\n",
       "  <thead>\n",
       "    <tr style=\"text-align: right;\">\n",
       "      <th></th>\n",
       "      <th>trait</th>\n",
       "      <th>drug</th>\n",
       "      <th>method</th>\n",
       "      <th>score</th>\n",
       "      <th>true_class</th>\n",
       "    </tr>\n",
       "  </thead>\n",
       "  <tbody>\n",
       "    <tr>\n",
       "      <th>588</th>\n",
       "      <td>DOID:1936</td>\n",
       "      <td>DB00627</td>\n",
       "      <td>Gene-based</td>\n",
       "      <td>516.6</td>\n",
       "      <td>1.0</td>\n",
       "    </tr>\n",
       "    <tr>\n",
       "      <th>589</th>\n",
       "      <td>DOID:1936</td>\n",
       "      <td>DB00627</td>\n",
       "      <td>Module-based</td>\n",
       "      <td>568.6</td>\n",
       "      <td>1.0</td>\n",
       "    </tr>\n",
       "    <tr>\n",
       "      <th>886</th>\n",
       "      <td>DOID:3393</td>\n",
       "      <td>DB00627</td>\n",
       "      <td>Gene-based</td>\n",
       "      <td>565.4</td>\n",
       "      <td>1.0</td>\n",
       "    </tr>\n",
       "    <tr>\n",
       "      <th>887</th>\n",
       "      <td>DOID:3393</td>\n",
       "      <td>DB00627</td>\n",
       "      <td>Module-based</td>\n",
       "      <td>601.0</td>\n",
       "      <td>1.0</td>\n",
       "    </tr>\n",
       "  </tbody>\n",
       "</table>\n",
       "</div>"
      ],
      "text/plain": [
       "         trait     drug        method  score  true_class\n",
       "588  DOID:1936  DB00627    Gene-based  516.6         1.0\n",
       "589  DOID:1936  DB00627  Module-based  568.6         1.0\n",
       "886  DOID:3393  DB00627    Gene-based  565.4         1.0\n",
       "887  DOID:3393  DB00627  Module-based  601.0         1.0"
      ]
     },
     "execution_count": 127,
     "metadata": {},
     "output_type": "execute_result"
    }
   ],
   "source": [
    "predictions_avg[\n",
    "    predictions_avg[\"trait\"].isin((\"DOID:1936\", \"DOID:3393\"))\n",
    "    & (predictions_avg[\"drug\"] == _drug_id)\n",
    "]"
   ]
  },
  {
   "cell_type": "code",
   "execution_count": 128,
   "metadata": {},
   "outputs": [],
   "source": [
    "drug_trait_predictions = pd.DataFrame(\n",
    "    drug_data.to_frame().values * module_tissue_data.values,\n",
    "    columns=module_tissue_data.columns.copy(),\n",
    "    index=drug_data.index.copy(),\n",
    ")"
   ]
  },
  {
   "cell_type": "code",
   "execution_count": 129,
   "metadata": {},
   "outputs": [],
   "source": [
    "_lvs_sel = [\"LV246\", \"LV847\", \"LV136\", \"LV931\", \"LV116\"]"
   ]
  },
  {
   "cell_type": "code",
   "execution_count": 130,
   "metadata": {},
   "outputs": [
    {
     "data": {
      "text/plain": [
       "0.05   -0.027790\n",
       "0.20   -0.011224\n",
       "0.80    0.011868\n",
       "0.95    0.023996\n",
       "Name: DB00627, dtype: float64"
      ]
     },
     "execution_count": 130,
     "metadata": {},
     "output_type": "execute_result"
    }
   ],
   "source": [
    "drug_data.quantile([0.05, 0.20, 0.80, 0.95])"
   ]
  },
  {
   "cell_type": "code",
   "execution_count": 131,
   "metadata": {},
   "outputs": [
    {
     "data": {
      "text/plain": [
       "LV246   -0.042009\n",
       "LV847    0.002689\n",
       "LV136   -0.018860\n",
       "LV931   -0.069832\n",
       "LV116    0.097558\n",
       "Name: DB00627, dtype: float64"
      ]
     },
     "execution_count": 131,
     "metadata": {},
     "output_type": "execute_result"
    }
   ],
   "source": [
    "drug_data.loc[_lvs_sel]"
   ]
  },
  {
   "cell_type": "code",
   "execution_count": 150,
   "metadata": {},
   "outputs": [
    {
     "data": {
      "text/plain": [
       "LV881   -0.004827\n",
       "LV841   -0.002385\n",
       "LV116   -0.002296\n",
       "LV227   -0.002247\n",
       "LV879   -0.002102\n",
       "LV97    -0.002069\n",
       "LV272   -0.001990\n",
       "LV582   -0.001665\n",
       "LV583   -0.001586\n",
       "LV142   -0.001553\n",
       "LV707   -0.001497\n",
       "LV684   -0.001424\n",
       "LV74    -0.001370\n",
       "LV90    -0.001364\n",
       "LV965   -0.001347\n",
       "LV202   -0.001337\n",
       "LV246   -0.001277\n",
       "LV132   -0.001223\n",
       "LV479   -0.001219\n",
       "LV507   -0.001200\n",
       "Name: I9_MI-Myocardial_infarction, dtype: float64"
      ]
     },
     "execution_count": 150,
     "metadata": {},
     "output_type": "execute_result"
    }
   ],
   "source": [
    "drug_trait_predictions.loc[:, \"I9_MI-Myocardial_infarction\"].sort_values(\n",
    "    ascending=True\n",
    ").head(20)"
   ]
  },
  {
   "cell_type": "code",
   "execution_count": 132,
   "metadata": {},
   "outputs": [
    {
     "data": {
      "text/plain": [
       "LV116   -0.006180\n",
       "LV931   -0.004843\n",
       "LV246   -0.001253\n",
       "LV136    0.000022\n",
       "LV847    0.000025\n",
       "Name: I70-Diagnoses_main_ICD10_I70_Atherosclerosis, dtype: float64"
      ]
     },
     "metadata": {},
     "output_type": "display_data"
    },
    {
     "data": {
      "text/plain": [
       "(361194, 566.0)"
      ]
     },
     "metadata": {},
     "output_type": "display_data"
    },
    {
     "name": "stdout",
     "output_type": "stream",
     "text": [
      "\n"
     ]
    },
    {
     "data": {
      "text/plain": [
       "LV136   -0.001332\n",
       "LV116   -0.001011\n",
       "LV847   -0.000037\n",
       "LV931    0.000283\n",
       "LV246    0.001622\n",
       "Name: CARDIoGRAM_C4D_CAD_ADDITIVE, dtype: float64"
      ]
     },
     "metadata": {},
     "output_type": "display_data"
    },
    {
     "data": {
      "text/plain": [
       "(184305, 60801.0)"
      ]
     },
     "metadata": {},
     "output_type": "display_data"
    },
    {
     "name": "stdout",
     "output_type": "stream",
     "text": [
      "\n"
     ]
    },
    {
     "data": {
      "text/plain": [
       "LV116   -0.005052\n",
       "LV246   -0.000686\n",
       "LV136   -0.000493\n",
       "LV847   -0.000034\n",
       "LV931    0.001128\n",
       "Name: I25-Diagnoses_main_ICD10_I25_Chronic_ischaemic_heart_disease, dtype: float64"
      ]
     },
     "metadata": {},
     "output_type": "display_data"
    },
    {
     "data": {
      "text/plain": [
       "(361194, 12769.0)"
      ]
     },
     "metadata": {},
     "output_type": "display_data"
    },
    {
     "name": "stdout",
     "output_type": "stream",
     "text": [
      "\n"
     ]
    },
    {
     "data": {
      "text/plain": [
       "LV136   -0.000304\n",
       "LV847    0.000081\n",
       "LV931    0.000090\n",
       "LV246    0.000850\n",
       "LV116    0.004396\n",
       "Name: 20002_1065-Noncancer_illness_code_selfreported_hypertension, dtype: float64"
      ]
     },
     "metadata": {},
     "output_type": "display_data"
    },
    {
     "data": {
      "text/plain": [
       "(361141, 93560.0)"
      ]
     },
     "metadata": {},
     "output_type": "display_data"
    },
    {
     "name": "stdout",
     "output_type": "stream",
     "text": [
      "\n"
     ]
    },
    {
     "data": {
      "text/plain": [
       "LV246   -0.001847\n",
       "LV136   -0.000132\n",
       "LV847    0.000039\n",
       "LV116    0.000216\n",
       "LV931    0.000803\n",
       "Name: 20002_1473-Noncancer_illness_code_selfreported_high_cholesterol, dtype: float64"
      ]
     },
     "metadata": {},
     "output_type": "display_data"
    },
    {
     "data": {
      "text/plain": [
       "(361141, 43957.0)"
      ]
     },
     "metadata": {},
     "output_type": "display_data"
    },
    {
     "name": "stdout",
     "output_type": "stream",
     "text": [
      "\n"
     ]
    },
    {
     "data": {
      "text/plain": [
       "LV931   -0.002528\n",
       "LV116   -0.001646\n",
       "LV246   -0.000602\n",
       "LV136   -0.000138\n",
       "LV847    0.000248\n",
       "Name: 6150_100-Vascularheart_problems_diagnosed_by_doctor_None_of_the_above, dtype: float64"
      ]
     },
     "metadata": {},
     "output_type": "display_data"
    },
    {
     "data": {
      "text/plain": [
       "(360420, 253565.0)"
      ]
     },
     "metadata": {},
     "output_type": "display_data"
    },
    {
     "name": "stdout",
     "output_type": "stream",
     "text": [
      "\n"
     ]
    },
    {
     "data": {
      "text/plain": [
       "LV136   -0.000273\n",
       "LV847    0.000060\n",
       "LV931    0.001193\n",
       "LV116    0.001508\n",
       "LV246    0.002213\n",
       "Name: 6150_4-Vascularheart_problems_diagnosed_by_doctor_High_blood_pressure, dtype: float64"
      ]
     },
     "metadata": {},
     "output_type": "display_data"
    },
    {
     "data": {
      "text/plain": [
       "(360420, 97139.0)"
      ]
     },
     "metadata": {},
     "output_type": "display_data"
    },
    {
     "name": "stdout",
     "output_type": "stream",
     "text": [
      "\n"
     ]
    },
    {
     "data": {
      "text/plain": [
       "LV116   -0.007940\n",
       "LV136   -0.000466\n",
       "LV847   -0.000022\n",
       "LV931    0.001162\n",
       "LV246    0.001419\n",
       "Name: MAGNETIC_HDL.C, dtype: float64"
      ]
     },
     "metadata": {},
     "output_type": "display_data"
    },
    {
     "data": {
      "text/plain": [
       "(19270, nan)"
      ]
     },
     "metadata": {},
     "output_type": "display_data"
    },
    {
     "name": "stdout",
     "output_type": "stream",
     "text": [
      "\n"
     ]
    },
    {
     "data": {
      "text/plain": [
       "LV931   -0.001333\n",
       "LV847   -0.000022\n",
       "LV246    0.000235\n",
       "LV136    0.000240\n",
       "LV116    0.000406\n",
       "Name: MAGNETIC_LDL.C, dtype: float64"
      ]
     },
     "metadata": {},
     "output_type": "display_data"
    },
    {
     "data": {
      "text/plain": [
       "(13527, nan)"
      ]
     },
     "metadata": {},
     "output_type": "display_data"
    },
    {
     "name": "stdout",
     "output_type": "stream",
     "text": [
      "\n"
     ]
    },
    {
     "data": {
      "text/plain": [
       "LV931   -0.002481\n",
       "LV246   -0.002312\n",
       "LV136   -0.000220\n",
       "LV116   -0.000154\n",
       "LV847    0.000004\n",
       "Name: MAGNETIC_IDL.TG, dtype: float64"
      ]
     },
     "metadata": {},
     "output_type": "display_data"
    },
    {
     "data": {
      "text/plain": [
       "(21559, nan)"
      ]
     },
     "metadata": {},
     "output_type": "display_data"
    },
    {
     "name": "stdout",
     "output_type": "stream",
     "text": [
      "\n"
     ]
    },
    {
     "data": {
      "text/plain": [
       "LV116   -0.005308\n",
       "LV246   -0.000237\n",
       "LV847   -0.000046\n",
       "LV136   -0.000011\n",
       "LV931    0.000792\n",
       "Name: MAGNETIC_CH2.DB.ratio, dtype: float64"
      ]
     },
     "metadata": {},
     "output_type": "display_data"
    },
    {
     "data": {
      "text/plain": [
       "(24154, nan)"
      ]
     },
     "metadata": {},
     "output_type": "display_data"
    },
    {
     "name": "stdout",
     "output_type": "stream",
     "text": [
      "\n"
     ]
    },
    {
     "data": {
      "text/plain": [
       "LV116   -0.001872\n",
       "LV246   -0.000264\n",
       "LV136   -0.000165\n",
       "LV847    0.000041\n",
       "LV931    0.001409\n",
       "Name: 6150_1-Vascularheart_problems_diagnosed_by_doctor_Heart_attack, dtype: float64"
      ]
     },
     "metadata": {},
     "output_type": "display_data"
    },
    {
     "data": {
      "text/plain": [
       "(360420, 8288.0)"
      ]
     },
     "metadata": {},
     "output_type": "display_data"
    },
    {
     "name": "stdout",
     "output_type": "stream",
     "text": [
      "\n"
     ]
    },
    {
     "data": {
      "text/plain": [
       "LV116   -0.003977\n",
       "LV931   -0.002070\n",
       "LV246   -0.001930\n",
       "LV847    0.000022\n",
       "LV136    0.000350\n",
       "Name: I9_CHD-Major_coronary_heart_disease_event, dtype: float64"
      ]
     },
     "metadata": {},
     "output_type": "display_data"
    },
    {
     "data": {
      "text/plain": [
       "(361194, 10157.0)"
      ]
     },
     "metadata": {},
     "output_type": "display_data"
    },
    {
     "name": "stdout",
     "output_type": "stream",
     "text": [
      "\n"
     ]
    },
    {
     "data": {
      "text/plain": [
       "LV246   -0.000953\n",
       "LV136   -0.000380\n",
       "LV116   -0.000265\n",
       "LV931   -0.000151\n",
       "LV847    0.000066\n",
       "Name: I9_CORATHER-Coronary_atherosclerosis, dtype: float64"
      ]
     },
     "metadata": {},
     "output_type": "display_data"
    },
    {
     "data": {
      "text/plain": [
       "(361194, 14334.0)"
      ]
     },
     "metadata": {},
     "output_type": "display_data"
    },
    {
     "name": "stdout",
     "output_type": "stream",
     "text": [
      "\n"
     ]
    },
    {
     "data": {
      "text/plain": [
       "LV931   -0.003626\n",
       "LV116   -0.001423\n",
       "LV246   -0.001268\n",
       "LV847    0.000010\n",
       "LV136    0.001077\n",
       "Name: I9_IHD-Ischaemic_heart_disease_wide_definition, dtype: float64"
      ]
     },
     "metadata": {},
     "output_type": "display_data"
    },
    {
     "data": {
      "text/plain": [
       "(361194, 20857.0)"
      ]
     },
     "metadata": {},
     "output_type": "display_data"
    },
    {
     "name": "stdout",
     "output_type": "stream",
     "text": [
      "\n"
     ]
    },
    {
     "data": {
      "text/plain": [
       "LV116   -0.002296\n",
       "LV246   -0.001277\n",
       "LV847   -0.000014\n",
       "LV931    0.000218\n",
       "LV136    0.000430\n",
       "Name: I9_MI-Myocardial_infarction, dtype: float64"
      ]
     },
     "metadata": {},
     "output_type": "display_data"
    },
    {
     "data": {
      "text/plain": [
       "(361194, 7018.0)"
      ]
     },
     "metadata": {},
     "output_type": "display_data"
    },
    {
     "name": "stdout",
     "output_type": "stream",
     "text": [
      "\n"
     ]
    },
    {
     "data": {
      "text/plain": [
       "LV116   -0.002296\n",
       "LV246   -0.001277\n",
       "LV847   -0.000014\n",
       "LV931    0.000218\n",
       "LV136    0.000430\n",
       "Name: I9_MI_STRICT-Myocardial_infarction_strict, dtype: float64"
      ]
     },
     "metadata": {},
     "output_type": "display_data"
    },
    {
     "data": {
      "text/plain": [
       "(361194, 7018.0)"
      ]
     },
     "metadata": {},
     "output_type": "display_data"
    },
    {
     "name": "stdout",
     "output_type": "stream",
     "text": [
      "\n"
     ]
    },
    {
     "data": {
      "text/plain": [
       "LV116   -0.004386\n",
       "LV246   -0.001440\n",
       "LV931   -0.000324\n",
       "LV847   -0.000027\n",
       "LV136    0.000377\n",
       "Name: I21-Diagnoses_main_ICD10_I21_Acute_myocardial_infarction, dtype: float64"
      ]
     },
     "metadata": {},
     "output_type": "display_data"
    },
    {
     "data": {
      "text/plain": [
       "(361194, 5948.0)"
      ]
     },
     "metadata": {},
     "output_type": "display_data"
    },
    {
     "name": "stdout",
     "output_type": "stream",
     "text": [
      "\n"
     ]
    },
    {
     "data": {
      "text/plain": [
       "LV116   -0.003414\n",
       "LV136   -0.000465\n",
       "LV847    0.000015\n",
       "LV246    0.000467\n",
       "LV931    0.001656\n",
       "Name: 20002_1075-Noncancer_illness_code_selfreported_heart_attackmyocardial_infarction, dtype: float64"
      ]
     },
     "metadata": {},
     "output_type": "display_data"
    },
    {
     "data": {
      "text/plain": [
       "(361141, 8239.0)"
      ]
     },
     "metadata": {},
     "output_type": "display_data"
    },
    {
     "name": "stdout",
     "output_type": "stream",
     "text": [
      "\n"
     ]
    }
   ],
   "source": [
    "for _trait in _phenomexcan_traits:\n",
    "    #     display(_trait)\n",
    "    _tmp = drug_trait_predictions.loc[_lvs_sel, _trait].sort_values(ascending=True)\n",
    "    display(_tmp)\n",
    "\n",
    "    d = Trait.get_trait(full_code=_trait)\n",
    "    display((d.n, d.n_cases))\n",
    "\n",
    "    print()"
   ]
  },
  {
   "cell_type": "code",
   "execution_count": null,
   "metadata": {},
   "outputs": [],
   "source": []
  }
 ],
 "metadata": {
  "jupytext": {
   "cell_metadata_filter": "all,-execution,-papermill,-trusted",
   "formats": "ipynb,py//py:percent"
  },
  "kernelspec": {
   "display_name": "Python 3",
   "language": "python",
   "name": "python3"
  },
  "language_info": {
   "codemirror_mode": {
    "name": "ipython",
    "version": 3
   },
   "file_extension": ".py",
   "mimetype": "text/x-python",
   "name": "python",
   "nbconvert_exporter": "python",
   "pygments_lexer": "ipython3",
   "version": "3.8.8"
  },
  "papermill": {
   "default_parameters": {},
   "duration": 3.201629,
   "end_time": "2020-12-23T18:04:41.617935",
   "environment_variables": {},
   "exception": null,
   "input_path": "15_drug_disease_associations/005-pharmacotherapydb-build_gold_standard.ipynb",
   "output_path": "15_drug_disease_associations/005-pharmacotherapydb-build_gold_standard.run.ipynb",
   "parameters": {},
   "start_time": "2020-12-23T18:04:38.416306",
   "version": "2.2.2"
  },
  "toc-autonumbering": true
 },
 "nbformat": 4,
 "nbformat_minor": 4
}
