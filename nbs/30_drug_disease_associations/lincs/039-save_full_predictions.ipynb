{
 "cells": [
  {
   "cell_type": "markdown",
   "metadata": {
    "papermill": {
     "duration": 0.044778,
     "end_time": "2021-07-29T18:50:15.024195",
     "exception": false,
     "start_time": "2021-07-29T18:50:14.979417",
     "status": "completed"
    },
    "tags": []
   },
   "source": [
    "# Description"
   ]
  },
  {
   "cell_type": "markdown",
   "metadata": {
    "papermill": {
     "duration": 0.010821,
     "end_time": "2021-07-29T18:50:15.050385",
     "exception": false,
     "start_time": "2021-07-29T18:50:15.039564",
     "status": "completed"
    },
    "tags": []
   },
   "source": [
    "This notebook reads the *full predictions* results (with all traits in PhenomeXcan, it doesn't matter if it doesn't have DOID map) generated with the `011-prediction-*` notebooks and saves for later use."
   ]
  },
  {
   "cell_type": "markdown",
   "metadata": {
    "papermill": {
     "duration": 0.010235,
     "end_time": "2021-07-29T18:50:15.071038",
     "exception": false,
     "start_time": "2021-07-29T18:50:15.060803",
     "status": "completed"
    },
    "tags": []
   },
   "source": [
    "# Modules loading"
   ]
  },
  {
   "cell_type": "code",
   "execution_count": 1,
   "metadata": {
    "execution": {
     "iopub.execute_input": "2021-07-29T18:50:15.098196Z",
     "iopub.status.busy": "2021-07-29T18:50:15.097386Z",
     "iopub.status.idle": "2021-07-29T18:50:15.104956Z",
     "shell.execute_reply": "2021-07-29T18:50:15.104471Z"
    },
    "papermill": {
     "duration": 0.023565,
     "end_time": "2021-07-29T18:50:15.105050",
     "exception": false,
     "start_time": "2021-07-29T18:50:15.081485",
     "status": "completed"
    },
    "tags": []
   },
   "outputs": [],
   "source": [
    "%load_ext autoreload\n",
    "%autoreload 2"
   ]
  },
  {
   "cell_type": "code",
   "execution_count": 2,
   "metadata": {
    "execution": {
     "iopub.execute_input": "2021-07-29T18:50:15.133110Z",
     "iopub.status.busy": "2021-07-29T18:50:15.132659Z",
     "iopub.status.idle": "2021-07-29T18:50:15.323978Z",
     "shell.execute_reply": "2021-07-29T18:50:15.324293Z"
    },
    "papermill": {
     "duration": 0.207585,
     "end_time": "2021-07-29T18:50:15.324400",
     "exception": false,
     "start_time": "2021-07-29T18:50:15.116815",
     "status": "completed"
    },
    "tags": []
   },
   "outputs": [],
   "source": [
    "from pathlib import Path\n",
    "\n",
    "import numpy as np\n",
    "import pandas as pd\n",
    "from tqdm import tqdm\n",
    "\n",
    "from data.hdf5 import simplify_trait_fullcode\n",
    "import conf"
   ]
  },
  {
   "cell_type": "markdown",
   "metadata": {
    "papermill": {
     "duration": 0.010685,
     "end_time": "2021-07-29T18:50:15.346273",
     "exception": false,
     "start_time": "2021-07-29T18:50:15.335588",
     "status": "completed"
    },
    "tags": []
   },
   "source": [
    "# Settings"
   ]
  },
  {
   "cell_type": "code",
   "execution_count": 3,
   "metadata": {
    "execution": {
     "iopub.execute_input": "2021-07-29T18:50:15.370038Z",
     "iopub.status.busy": "2021-07-29T18:50:15.369668Z",
     "iopub.status.idle": "2021-07-29T18:50:15.376792Z",
     "shell.execute_reply": "2021-07-29T18:50:15.377084Z"
    },
    "papermill": {
     "duration": 0.020313,
     "end_time": "2021-07-29T18:50:15.377183",
     "exception": false,
     "start_time": "2021-07-29T18:50:15.356870",
     "status": "completed"
    },
    "tags": []
   },
   "outputs": [],
   "source": [
    "# these numbers are for testing/checking\n",
    "N_TISSUES = 49\n",
    "N_THRESHOLDS = 5"
   ]
  },
  {
   "cell_type": "code",
   "execution_count": 4,
   "metadata": {
    "execution": {
     "iopub.execute_input": "2021-07-29T18:50:15.401393Z",
     "iopub.status.busy": "2021-07-29T18:50:15.401032Z",
     "iopub.status.idle": "2021-07-29T18:50:15.412153Z",
     "shell.execute_reply": "2021-07-29T18:50:15.412420Z"
    },
    "papermill": {
     "duration": 0.024238,
     "end_time": "2021-07-29T18:50:15.412522",
     "exception": false,
     "start_time": "2021-07-29T18:50:15.388284",
     "status": "completed"
    },
    "tags": []
   },
   "outputs": [
    {
     "data": {
      "text/plain": [
       "PosixPath('/home/miltondp/projects/labs/greenelab/phenoplier/base/results/drug_disease_analyses/lincs')"
      ]
     },
     "metadata": {},
     "output_type": "display_data"
    }
   ],
   "source": [
    "INPUT_DIR = conf.RESULTS[\"DRUG_DISEASE_ANALYSES\"] / \"lincs\"\n",
    "display(INPUT_DIR)\n",
    "assert INPUT_DIR.exists()"
   ]
  },
  {
   "cell_type": "code",
   "execution_count": 5,
   "metadata": {
    "execution": {
     "iopub.execute_input": "2021-07-29T18:50:15.437451Z",
     "iopub.status.busy": "2021-07-29T18:50:15.437078Z",
     "iopub.status.idle": "2021-07-29T18:50:15.444205Z",
     "shell.execute_reply": "2021-07-29T18:50:15.444501Z"
    },
    "papermill": {
     "duration": 0.020801,
     "end_time": "2021-07-29T18:50:15.444602",
     "exception": false,
     "start_time": "2021-07-29T18:50:15.423801",
     "status": "completed"
    },
    "tags": []
   },
   "outputs": [
    {
     "data": {
      "text/plain": [
       "PosixPath('/home/miltondp/projects/labs/greenelab/phenoplier/base/results/drug_disease_analyses/lincs/predictions/dotprod_neg')"
      ]
     },
     "metadata": {},
     "output_type": "display_data"
    }
   ],
   "source": [
    "INPUT_PREDICTIONS_DIR = Path(INPUT_DIR, \"predictions\", \"dotprod_neg\")\n",
    "display(INPUT_PREDICTIONS_DIR)\n",
    "INPUT_PREDICTIONS_DIR.mkdir(parents=True, exist_ok=True)"
   ]
  },
  {
   "cell_type": "code",
   "execution_count": 6,
   "metadata": {
    "execution": {
     "iopub.execute_input": "2021-07-29T18:50:15.470104Z",
     "iopub.status.busy": "2021-07-29T18:50:15.469738Z",
     "iopub.status.idle": "2021-07-29T18:50:15.477107Z",
     "shell.execute_reply": "2021-07-29T18:50:15.477381Z"
    },
    "papermill": {
     "duration": 0.021282,
     "end_time": "2021-07-29T18:50:15.477484",
     "exception": false,
     "start_time": "2021-07-29T18:50:15.456202",
     "status": "completed"
    },
    "tags": []
   },
   "outputs": [
    {
     "data": {
      "text/plain": [
       "PosixPath('/home/miltondp/projects/labs/greenelab/phenoplier/base/results/drug_disease_analyses/lincs/predictions')"
      ]
     },
     "metadata": {},
     "output_type": "display_data"
    }
   ],
   "source": [
    "OUTPUT_DIR = Path(INPUT_DIR, \"predictions\")\n",
    "display(OUTPUT_DIR)\n",
    "OUTPUT_DIR.mkdir(parents=True, exist_ok=True)"
   ]
  },
  {
   "cell_type": "code",
   "execution_count": 7,
   "metadata": {
    "execution": {
     "iopub.execute_input": "2021-07-29T18:50:15.503788Z",
     "iopub.status.busy": "2021-07-29T18:50:15.503420Z",
     "iopub.status.idle": "2021-07-29T18:50:15.510783Z",
     "shell.execute_reply": "2021-07-29T18:50:15.511061Z"
    },
    "papermill": {
     "duration": 0.021544,
     "end_time": "2021-07-29T18:50:15.511163",
     "exception": false,
     "start_time": "2021-07-29T18:50:15.489619",
     "status": "completed"
    },
    "tags": []
   },
   "outputs": [
    {
     "data": {
      "text/plain": [
       "PosixPath('/home/miltondp/projects/labs/greenelab/phenoplier/base/results/drug_disease_analyses/lincs/predictions/full_predictions_by_tissue-rank.h5')"
      ]
     },
     "metadata": {},
     "output_type": "display_data"
    }
   ],
   "source": [
    "OUTPUT_FILENAME = Path(OUTPUT_DIR, \"full_predictions_by_tissue-rank.h5\")\n",
    "display(OUTPUT_FILENAME)"
   ]
  },
  {
   "cell_type": "markdown",
   "metadata": {
    "papermill": {
     "duration": 0.012249,
     "end_time": "2021-07-29T18:50:15.535763",
     "exception": false,
     "start_time": "2021-07-29T18:50:15.523514",
     "status": "completed"
    },
    "tags": []
   },
   "source": [
    "# Load drug-disease predictions"
   ]
  },
  {
   "cell_type": "code",
   "execution_count": 8,
   "metadata": {
    "execution": {
     "iopub.execute_input": "2021-07-29T18:50:15.562376Z",
     "iopub.status.busy": "2021-07-29T18:50:15.562003Z",
     "iopub.status.idle": "2021-07-29T18:50:15.569200Z",
     "shell.execute_reply": "2021-07-29T18:50:15.568840Z"
    },
    "papermill": {
     "duration": 0.021532,
     "end_time": "2021-07-29T18:50:15.569283",
     "exception": false,
     "start_time": "2021-07-29T18:50:15.547751",
     "status": "completed"
    },
    "tags": []
   },
   "outputs": [],
   "source": [
    "from collections import defaultdict"
   ]
  },
  {
   "cell_type": "code",
   "execution_count": 9,
   "metadata": {
    "execution": {
     "iopub.execute_input": "2021-07-29T18:50:15.595790Z",
     "iopub.status.busy": "2021-07-29T18:50:15.595428Z",
     "iopub.status.idle": "2021-07-29T18:50:15.605667Z",
     "shell.execute_reply": "2021-07-29T18:50:15.605308Z"
    },
    "papermill": {
     "duration": 0.024414,
     "end_time": "2021-07-29T18:50:15.605748",
     "exception": false,
     "start_time": "2021-07-29T18:50:15.581334",
     "status": "completed"
    },
    "tags": []
   },
   "outputs": [
    {
     "data": {
      "text/plain": [
       "245"
      ]
     },
     "metadata": {},
     "output_type": "display_data"
    }
   ],
   "source": [
    "# get all prediction files\n",
    "\n",
    "current_prediction_files = sorted(\n",
    "    [f for f in list(INPUT_PREDICTIONS_DIR.glob(\"*.h5\")) if \"-projection-\" in f.name]\n",
    ")\n",
    "display(len(current_prediction_files))\n",
    "\n",
    "assert len(current_prediction_files) == (N_TISSUES * N_THRESHOLDS)"
   ]
  },
  {
   "cell_type": "code",
   "execution_count": 10,
   "metadata": {
    "execution": {
     "iopub.execute_input": "2021-07-29T18:50:15.632536Z",
     "iopub.status.busy": "2021-07-29T18:50:15.632182Z",
     "iopub.status.idle": "2021-07-29T18:50:15.640351Z",
     "shell.execute_reply": "2021-07-29T18:50:15.640013Z"
    },
    "papermill": {
     "duration": 0.022277,
     "end_time": "2021-07-29T18:50:15.640435",
     "exception": false,
     "start_time": "2021-07-29T18:50:15.618158",
     "status": "completed"
    },
    "tags": []
   },
   "outputs": [
    {
     "data": {
      "text/plain": [
       "[PosixPath('/home/miltondp/projects/labs/greenelab/phenoplier/base/results/drug_disease_analyses/lincs/predictions/dotprod_neg/spredixcan-mashr-zscores-Adipose_Subcutaneous-projection-all_genes-prediction_scores.h5'),\n",
       " PosixPath('/home/miltondp/projects/labs/greenelab/phenoplier/base/results/drug_disease_analyses/lincs/predictions/dotprod_neg/spredixcan-mashr-zscores-Adipose_Subcutaneous-projection-top_10_genes-prediction_scores.h5'),\n",
       " PosixPath('/home/miltondp/projects/labs/greenelab/phenoplier/base/results/drug_disease_analyses/lincs/predictions/dotprod_neg/spredixcan-mashr-zscores-Adipose_Subcutaneous-projection-top_25_genes-prediction_scores.h5'),\n",
       " PosixPath('/home/miltondp/projects/labs/greenelab/phenoplier/base/results/drug_disease_analyses/lincs/predictions/dotprod_neg/spredixcan-mashr-zscores-Adipose_Subcutaneous-projection-top_50_genes-prediction_scores.h5'),\n",
       " PosixPath('/home/miltondp/projects/labs/greenelab/phenoplier/base/results/drug_disease_analyses/lincs/predictions/dotprod_neg/spredixcan-mashr-zscores-Adipose_Subcutaneous-projection-top_5_genes-prediction_scores.h5'),\n",
       " PosixPath('/home/miltondp/projects/labs/greenelab/phenoplier/base/results/drug_disease_analyses/lincs/predictions/dotprod_neg/spredixcan-mashr-zscores-Adipose_Visceral_Omentum-projection-all_genes-prediction_scores.h5'),\n",
       " PosixPath('/home/miltondp/projects/labs/greenelab/phenoplier/base/results/drug_disease_analyses/lincs/predictions/dotprod_neg/spredixcan-mashr-zscores-Adipose_Visceral_Omentum-projection-top_10_genes-prediction_scores.h5'),\n",
       " PosixPath('/home/miltondp/projects/labs/greenelab/phenoplier/base/results/drug_disease_analyses/lincs/predictions/dotprod_neg/spredixcan-mashr-zscores-Adipose_Visceral_Omentum-projection-top_25_genes-prediction_scores.h5'),\n",
       " PosixPath('/home/miltondp/projects/labs/greenelab/phenoplier/base/results/drug_disease_analyses/lincs/predictions/dotprod_neg/spredixcan-mashr-zscores-Adipose_Visceral_Omentum-projection-top_50_genes-prediction_scores.h5'),\n",
       " PosixPath('/home/miltondp/projects/labs/greenelab/phenoplier/base/results/drug_disease_analyses/lincs/predictions/dotprod_neg/spredixcan-mashr-zscores-Adipose_Visceral_Omentum-projection-top_5_genes-prediction_scores.h5')]"
      ]
     },
     "execution_count": 10,
     "metadata": {},
     "output_type": "execute_result"
    }
   ],
   "source": [
    "current_prediction_files[:10]"
   ]
  },
  {
   "cell_type": "code",
   "execution_count": 11,
   "metadata": {
    "execution": {
     "iopub.execute_input": "2021-07-29T18:50:15.668938Z",
     "iopub.status.busy": "2021-07-29T18:50:15.668549Z",
     "iopub.status.idle": "2021-07-29T18:50:15.675739Z",
     "shell.execute_reply": "2021-07-29T18:50:15.675358Z"
    },
    "papermill": {
     "duration": 0.022456,
     "end_time": "2021-07-29T18:50:15.675825",
     "exception": false,
     "start_time": "2021-07-29T18:50:15.653369",
     "status": "completed"
    },
    "tags": []
   },
   "outputs": [],
   "source": [
    "def _get_tissue(x):\n",
    "    \"\"\"\n",
    "    It extracts the tissue name from a filename.\n",
    "    \"\"\"\n",
    "    if x.endswith(\"-projection\"):\n",
    "        return x.split(\"spredixcan-mashr-zscores-\")[1].split(\"-projection\")[0]\n",
    "    else:\n",
    "        return x.split(\"spredixcan-mashr-zscores-\")[1].split(\"-data\")[0]"
   ]
  },
  {
   "cell_type": "code",
   "execution_count": 12,
   "metadata": {
    "execution": {
     "iopub.execute_input": "2021-07-29T18:50:15.704615Z",
     "iopub.status.busy": "2021-07-29T18:50:15.704223Z",
     "iopub.status.idle": "2021-07-29T18:50:17.637435Z",
     "shell.execute_reply": "2021-07-29T18:50:17.637714Z"
    },
    "papermill": {
     "duration": 1.948748,
     "end_time": "2021-07-29T18:50:17.637820",
     "exception": false,
     "start_time": "2021-07-29T18:50:15.689072",
     "status": "completed"
    },
    "tags": []
   },
   "outputs": [
    {
     "name": "stderr",
     "output_type": "stream",
     "text": [
      "100%|████████████████████████████████████████████████████████████| 245/245 [00:01<00:00, 127.44it/s]\n"
     ]
    }
   ],
   "source": [
    "# get all tissue names\n",
    "\n",
    "all_tissues = set()\n",
    "all_methods = set()\n",
    "\n",
    "for f in tqdm(current_prediction_files, ncols=100):\n",
    "    # read metadata\n",
    "    metadata = pd.read_hdf(f, key=\"metadata\")\n",
    "\n",
    "    # get the tissue name\n",
    "    _data = metadata.data.values[0]\n",
    "    _tissue = _get_tissue(_data)\n",
    "    all_tissues.add(_tissue)\n",
    "\n",
    "    _n_top_genes = metadata.n_top_genes.values[0]\n",
    "    all_methods.add(_n_top_genes)"
   ]
  },
  {
   "cell_type": "code",
   "execution_count": 13,
   "metadata": {
    "execution": {
     "iopub.execute_input": "2021-07-29T18:50:17.672764Z",
     "iopub.status.busy": "2021-07-29T18:50:17.672358Z",
     "iopub.status.idle": "2021-07-29T18:50:17.681233Z",
     "shell.execute_reply": "2021-07-29T18:50:17.680871Z"
    },
    "papermill": {
     "duration": 0.026972,
     "end_time": "2021-07-29T18:50:17.681316",
     "exception": false,
     "start_time": "2021-07-29T18:50:17.654344",
     "status": "completed"
    },
    "tags": []
   },
   "outputs": [
    {
     "data": {
      "text/plain": [
       "{-1.0, 5, 10, 25, 50}"
      ]
     },
     "metadata": {},
     "output_type": "display_data"
    }
   ],
   "source": [
    "assert len(all_methods) == N_THRESHOLDS\n",
    "display(all_methods)"
   ]
  },
  {
   "cell_type": "code",
   "execution_count": 14,
   "metadata": {
    "execution": {
     "iopub.execute_input": "2021-07-29T18:50:17.716220Z",
     "iopub.status.busy": "2021-07-29T18:50:17.715840Z",
     "iopub.status.idle": "2021-07-29T18:50:17.723471Z",
     "shell.execute_reply": "2021-07-29T18:50:17.723090Z"
    },
    "papermill": {
     "duration": 0.025999,
     "end_time": "2021-07-29T18:50:17.723557",
     "exception": false,
     "start_time": "2021-07-29T18:50:17.697558",
     "status": "completed"
    },
    "tags": []
   },
   "outputs": [],
   "source": [
    "all_tissues = sorted(list(all_tissues))"
   ]
  },
  {
   "cell_type": "code",
   "execution_count": 15,
   "metadata": {
    "execution": {
     "iopub.execute_input": "2021-07-29T18:50:17.759562Z",
     "iopub.status.busy": "2021-07-29T18:50:17.759207Z",
     "iopub.status.idle": "2021-07-29T18:50:17.766588Z",
     "shell.execute_reply": "2021-07-29T18:50:17.766220Z"
    },
    "papermill": {
     "duration": 0.026206,
     "end_time": "2021-07-29T18:50:17.766671",
     "exception": false,
     "start_time": "2021-07-29T18:50:17.740465",
     "status": "completed"
    },
    "tags": []
   },
   "outputs": [],
   "source": [
    "assert len(all_tissues) == N_TISSUES"
   ]
  },
  {
   "cell_type": "code",
   "execution_count": 16,
   "metadata": {
    "execution": {
     "iopub.execute_input": "2021-07-29T18:50:17.803281Z",
     "iopub.status.busy": "2021-07-29T18:50:17.802911Z",
     "iopub.status.idle": "2021-07-29T18:50:18.306621Z",
     "shell.execute_reply": "2021-07-29T18:50:18.306916Z"
    },
    "papermill": {
     "duration": 0.523253,
     "end_time": "2021-07-29T18:50:18.307028",
     "exception": false,
     "start_time": "2021-07-29T18:50:17.783775",
     "status": "completed"
    },
    "tags": []
   },
   "outputs": [],
   "source": [
    "_tmp_df = pd.read_hdf(current_prediction_files[0], key=\"full_prediction\")\n",
    "all_traits = _tmp_df[\"trait\"].drop_duplicates().tolist()\n",
    "all_drugs = _tmp_df[\"drug\"].drop_duplicates().tolist()"
   ]
  },
  {
   "cell_type": "code",
   "execution_count": 17,
   "metadata": {
    "execution": {
     "iopub.execute_input": "2021-07-29T18:50:18.343601Z",
     "iopub.status.busy": "2021-07-29T18:50:18.343247Z",
     "iopub.status.idle": "2021-07-29T18:50:18.354913Z",
     "shell.execute_reply": "2021-07-29T18:50:18.355210Z"
    },
    "papermill": {
     "duration": 0.031014,
     "end_time": "2021-07-29T18:50:18.355314",
     "exception": false,
     "start_time": "2021-07-29T18:50:18.324300",
     "status": "completed"
    },
    "tags": []
   },
   "outputs": [
    {
     "data": {
      "text/html": [
       "<div>\n",
       "<style scoped>\n",
       "    .dataframe tbody tr th:only-of-type {\n",
       "        vertical-align: middle;\n",
       "    }\n",
       "\n",
       "    .dataframe tbody tr th {\n",
       "        vertical-align: top;\n",
       "    }\n",
       "\n",
       "    .dataframe thead th {\n",
       "        text-align: right;\n",
       "    }\n",
       "</style>\n",
       "<table border=\"1\" class=\"dataframe\">\n",
       "  <thead>\n",
       "    <tr style=\"text-align: right;\">\n",
       "      <th></th>\n",
       "      <th>trait</th>\n",
       "      <th>drug</th>\n",
       "      <th>score</th>\n",
       "    </tr>\n",
       "  </thead>\n",
       "  <tbody>\n",
       "    <tr>\n",
       "      <th>0</th>\n",
       "      <td>I9_PHLETHROMBDVTLOW-DVT_of_lower_extremities</td>\n",
       "      <td>DB00014</td>\n",
       "      <td>-0.015198</td>\n",
       "    </tr>\n",
       "    <tr>\n",
       "      <th>1</th>\n",
       "      <td>I9_PHLETHROMBDVTLOW-DVT_of_lower_extremities</td>\n",
       "      <td>DB00091</td>\n",
       "      <td>0.052318</td>\n",
       "    </tr>\n",
       "    <tr>\n",
       "      <th>2</th>\n",
       "      <td>I9_PHLETHROMBDVTLOW-DVT_of_lower_extremities</td>\n",
       "      <td>DB00121</td>\n",
       "      <td>0.007140</td>\n",
       "    </tr>\n",
       "    <tr>\n",
       "      <th>3</th>\n",
       "      <td>I9_PHLETHROMBDVTLOW-DVT_of_lower_extremities</td>\n",
       "      <td>DB00130</td>\n",
       "      <td>-0.019694</td>\n",
       "    </tr>\n",
       "    <tr>\n",
       "      <th>4</th>\n",
       "      <td>I9_PHLETHROMBDVTLOW-DVT_of_lower_extremities</td>\n",
       "      <td>DB00131</td>\n",
       "      <td>0.018786</td>\n",
       "    </tr>\n",
       "  </tbody>\n",
       "</table>\n",
       "</div>"
      ],
      "text/plain": [
       "                                          trait     drug     score\n",
       "0  I9_PHLETHROMBDVTLOW-DVT_of_lower_extremities  DB00014 -0.015198\n",
       "1  I9_PHLETHROMBDVTLOW-DVT_of_lower_extremities  DB00091  0.052318\n",
       "2  I9_PHLETHROMBDVTLOW-DVT_of_lower_extremities  DB00121  0.007140\n",
       "3  I9_PHLETHROMBDVTLOW-DVT_of_lower_extremities  DB00130 -0.019694\n",
       "4  I9_PHLETHROMBDVTLOW-DVT_of_lower_extremities  DB00131  0.018786"
      ]
     },
     "execution_count": 17,
     "metadata": {},
     "output_type": "execute_result"
    }
   ],
   "source": [
    "_tmp_df.head()"
   ]
  },
  {
   "cell_type": "code",
   "execution_count": 18,
   "metadata": {
    "execution": {
     "iopub.execute_input": "2021-07-29T18:50:18.392563Z",
     "iopub.status.busy": "2021-07-29T18:50:18.392208Z",
     "iopub.status.idle": "2021-07-29T18:50:18.399730Z",
     "shell.execute_reply": "2021-07-29T18:50:18.399361Z"
    },
    "papermill": {
     "duration": 0.027031,
     "end_time": "2021-07-29T18:50:18.399816",
     "exception": false,
     "start_time": "2021-07-29T18:50:18.372785",
     "status": "completed"
    },
    "tags": []
   },
   "outputs": [],
   "source": [
    "assert len(all_traits) == 4091"
   ]
  },
  {
   "cell_type": "code",
   "execution_count": 19,
   "metadata": {
    "execution": {
     "iopub.execute_input": "2021-07-29T18:50:18.437287Z",
     "iopub.status.busy": "2021-07-29T18:50:18.436923Z",
     "iopub.status.idle": "2021-07-29T18:50:18.444228Z",
     "shell.execute_reply": "2021-07-29T18:50:18.443861Z"
    },
    "papermill": {
     "duration": 0.0268,
     "end_time": "2021-07-29T18:50:18.444313",
     "exception": false,
     "start_time": "2021-07-29T18:50:18.417513",
     "status": "completed"
    },
    "tags": []
   },
   "outputs": [],
   "source": [
    "assert len(all_drugs) == 1170"
   ]
  },
  {
   "cell_type": "markdown",
   "metadata": {
    "papermill": {
     "duration": 0.016825,
     "end_time": "2021-07-29T18:50:18.478119",
     "exception": false,
     "start_time": "2021-07-29T18:50:18.461294",
     "status": "completed"
    },
    "tags": []
   },
   "source": [
    "## Create predictions dataframe"
   ]
  },
  {
   "cell_type": "code",
   "execution_count": 20,
   "metadata": {
    "execution": {
     "iopub.execute_input": "2021-07-29T18:50:18.516184Z",
     "iopub.status.busy": "2021-07-29T18:50:18.515776Z",
     "iopub.status.idle": "2021-07-29T19:00:49.565367Z",
     "shell.execute_reply": "2021-07-29T19:00:49.565030Z"
    },
    "papermill": {
     "duration": 631.070851,
     "end_time": "2021-07-29T19:00:49.565450",
     "exception": false,
     "start_time": "2021-07-29T18:50:18.494599",
     "status": "completed"
    },
    "tags": []
   },
   "outputs": [
    {
     "name": "stderr",
     "output_type": "stream",
     "text": [
      "100%|███████████████████████████████████████████████████████████████| 49/49 [10:30<00:00, 12.86s/it]\n"
     ]
    }
   ],
   "source": [
    "# Iterate for each prediction file and perform some preprocessing.\n",
    "#\n",
    "# Each prediction file (.h5) has the predictions of one method (either module-based\n",
    "# or gene-based) for all drug-disease pairs across all S-PrediXcan tissues\n",
    "\n",
    "with pd.HDFStore(OUTPUT_FILENAME, mode=\"w\", complevel=4) as store:\n",
    "    for tissue in tqdm(all_tissues, ncols=100):\n",
    "        # get all the prediction files for one tissue\n",
    "        tissue_prediction_files = [\n",
    "            x for x in current_prediction_files if f\"-{tissue}-\" in x.name\n",
    "        ]\n",
    "        assert len(tissue_prediction_files) == len(all_methods)\n",
    "\n",
    "        tissue_df = pd.DataFrame(\n",
    "            data=0,\n",
    "            index=all_traits.copy(),\n",
    "            columns=all_drugs.copy(),\n",
    "            dtype=\"float32\",\n",
    "        )\n",
    "\n",
    "        for f in tissue_prediction_files:\n",
    "            # read metadata\n",
    "            metadata = pd.read_hdf(f, key=\"metadata\")\n",
    "            _data = metadata.data.values[0]\n",
    "            _tissue = _get_tissue(_data)\n",
    "            assert _tissue == tissue\n",
    "\n",
    "            # get full predictions\n",
    "            prediction_data = pd.read_hdf(f, key=\"full_prediction\")\n",
    "            prediction_data[\"score\"] = prediction_data[\"score\"].rank()\n",
    "            prediction_data = prediction_data.pivot(\n",
    "                index=\"trait\", columns=\"drug\", values=\"score\"\n",
    "            )\n",
    "            prediction_data = prediction_data.astype(\"float32\")\n",
    "\n",
    "            # sum across N_THRESHOLDS (which is equals to len(all_methods))\n",
    "            tissue_df += prediction_data.loc[tissue_df.index, tissue_df.columns]\n",
    "\n",
    "        # save the average\n",
    "        store.put(\n",
    "            simplify_trait_fullcode(tissue, prefix=\"\"),\n",
    "            (tissue_df / len(all_methods)).astype(\"float32\"),\n",
    "            format=\"fixed\",\n",
    "        )"
   ]
  },
  {
   "cell_type": "markdown",
   "metadata": {
    "papermill": {
     "duration": 0.024604,
     "end_time": "2021-07-29T19:00:49.614848",
     "exception": false,
     "start_time": "2021-07-29T19:00:49.590244",
     "status": "completed"
    },
    "tags": []
   },
   "source": [
    "## Testing"
   ]
  },
  {
   "cell_type": "code",
   "execution_count": 21,
   "metadata": {
    "execution": {
     "iopub.execute_input": "2021-07-29T19:00:49.667442Z",
     "iopub.status.busy": "2021-07-29T19:00:49.667077Z",
     "iopub.status.idle": "2021-07-29T19:00:49.674761Z",
     "shell.execute_reply": "2021-07-29T19:00:49.674397Z"
    },
    "papermill": {
     "duration": 0.034941,
     "end_time": "2021-07-29T19:00:49.674845",
     "exception": false,
     "start_time": "2021-07-29T19:00:49.639904",
     "status": "completed"
    },
    "tags": []
   },
   "outputs": [],
   "source": [
    "_tissue = \"Adipose_Subcutaneous\""
   ]
  },
  {
   "cell_type": "code",
   "execution_count": 22,
   "metadata": {
    "execution": {
     "iopub.execute_input": "2021-07-29T19:00:49.727745Z",
     "iopub.status.busy": "2021-07-29T19:00:49.727390Z",
     "iopub.status.idle": "2021-07-29T19:00:49.828145Z",
     "shell.execute_reply": "2021-07-29T19:00:49.827795Z"
    },
    "papermill": {
     "duration": 0.127849,
     "end_time": "2021-07-29T19:00:49.828244",
     "exception": false,
     "start_time": "2021-07-29T19:00:49.700395",
     "status": "completed"
    },
    "tags": []
   },
   "outputs": [],
   "source": [
    "with pd.HDFStore(OUTPUT_FILENAME, mode=\"r\") as store:\n",
    "    tissue_df = store[simplify_trait_fullcode(_tissue, prefix=\"\")]"
   ]
  },
  {
   "cell_type": "code",
   "execution_count": 23,
   "metadata": {
    "execution": {
     "iopub.execute_input": "2021-07-29T19:00:49.883030Z",
     "iopub.status.busy": "2021-07-29T19:00:49.882677Z",
     "iopub.status.idle": "2021-07-29T19:00:49.893890Z",
     "shell.execute_reply": "2021-07-29T19:00:49.893580Z"
    },
    "papermill": {
     "duration": 0.038492,
     "end_time": "2021-07-29T19:00:49.893977",
     "exception": false,
     "start_time": "2021-07-29T19:00:49.855485",
     "status": "completed"
    },
    "tags": []
   },
   "outputs": [],
   "source": [
    "assert not tissue_df.isna().any().any()"
   ]
  },
  {
   "cell_type": "code",
   "execution_count": 24,
   "metadata": {
    "execution": {
     "iopub.execute_input": "2021-07-29T19:00:49.946854Z",
     "iopub.status.busy": "2021-07-29T19:00:49.946499Z",
     "iopub.status.idle": "2021-07-29T19:00:49.954796Z",
     "shell.execute_reply": "2021-07-29T19:00:49.954435Z"
    },
    "papermill": {
     "duration": 0.035463,
     "end_time": "2021-07-29T19:00:49.954878",
     "exception": false,
     "start_time": "2021-07-29T19:00:49.919415",
     "status": "completed"
    },
    "tags": []
   },
   "outputs": [
    {
     "data": {
      "text/plain": [
       "(4091, 1170)"
      ]
     },
     "execution_count": 24,
     "metadata": {},
     "output_type": "execute_result"
    }
   ],
   "source": [
    "tissue_df.shape"
   ]
  },
  {
   "cell_type": "code",
   "execution_count": 25,
   "metadata": {
    "execution": {
     "iopub.execute_input": "2021-07-29T19:00:50.009032Z",
     "iopub.status.busy": "2021-07-29T19:00:50.008619Z",
     "iopub.status.idle": "2021-07-29T19:00:50.030319Z",
     "shell.execute_reply": "2021-07-29T19:00:50.029947Z"
    },
    "papermill": {
     "duration": 0.049086,
     "end_time": "2021-07-29T19:00:50.030404",
     "exception": false,
     "start_time": "2021-07-29T19:00:49.981318",
     "status": "completed"
    },
    "tags": []
   },
   "outputs": [
    {
     "data": {
      "text/html": [
       "<div>\n",
       "<style scoped>\n",
       "    .dataframe tbody tr th:only-of-type {\n",
       "        vertical-align: middle;\n",
       "    }\n",
       "\n",
       "    .dataframe tbody tr th {\n",
       "        vertical-align: top;\n",
       "    }\n",
       "\n",
       "    .dataframe thead th {\n",
       "        text-align: right;\n",
       "    }\n",
       "</style>\n",
       "<table border=\"1\" class=\"dataframe\">\n",
       "  <thead>\n",
       "    <tr style=\"text-align: right;\">\n",
       "      <th></th>\n",
       "      <th>DB00014</th>\n",
       "      <th>DB00091</th>\n",
       "      <th>DB00121</th>\n",
       "      <th>DB00130</th>\n",
       "      <th>DB00131</th>\n",
       "      <th>DB00132</th>\n",
       "      <th>DB00136</th>\n",
       "      <th>DB00140</th>\n",
       "      <th>DB00146</th>\n",
       "      <th>DB00150</th>\n",
       "      <th>...</th>\n",
       "      <th>DB08995</th>\n",
       "      <th>DB09002</th>\n",
       "      <th>DB09004</th>\n",
       "      <th>DB09009</th>\n",
       "      <th>DB09010</th>\n",
       "      <th>DB09015</th>\n",
       "      <th>DB09019</th>\n",
       "      <th>DB09020</th>\n",
       "      <th>DB09022</th>\n",
       "      <th>DB09023</th>\n",
       "    </tr>\n",
       "  </thead>\n",
       "  <tbody>\n",
       "    <tr>\n",
       "      <th>I9_PHLETHROMBDVTLOW-DVT_of_lower_extremities</th>\n",
       "      <td>859149.625</td>\n",
       "      <td>4768451.00</td>\n",
       "      <td>1.805252e+06</td>\n",
       "      <td>1854894.375</td>\n",
       "      <td>3398083.25</td>\n",
       "      <td>2779902.250</td>\n",
       "      <td>6.271933e+05</td>\n",
       "      <td>2718546.750</td>\n",
       "      <td>5.068766e+05</td>\n",
       "      <td>2362122.000</td>\n",
       "      <td>...</td>\n",
       "      <td>1253533.375</td>\n",
       "      <td>1393785.375</td>\n",
       "      <td>3439556.00</td>\n",
       "      <td>2334818.000</td>\n",
       "      <td>6.123972e+05</td>\n",
       "      <td>2.318932e+06</td>\n",
       "      <td>1.158458e+06</td>\n",
       "      <td>1.771659e+06</td>\n",
       "      <td>2203938.750</td>\n",
       "      <td>2.170518e+06</td>\n",
       "    </tr>\n",
       "    <tr>\n",
       "      <th>I71-Diagnoses_main_ICD10_I71_Aortic_aneurysm_and_dissection</th>\n",
       "      <td>2158918.000</td>\n",
       "      <td>1604089.75</td>\n",
       "      <td>2.996882e+06</td>\n",
       "      <td>4482039.000</td>\n",
       "      <td>3456084.50</td>\n",
       "      <td>2998575.750</td>\n",
       "      <td>2.721814e+06</td>\n",
       "      <td>3717782.500</td>\n",
       "      <td>3.051466e+06</td>\n",
       "      <td>1574597.375</td>\n",
       "      <td>...</td>\n",
       "      <td>3172424.000</td>\n",
       "      <td>2908268.000</td>\n",
       "      <td>2173213.50</td>\n",
       "      <td>3204648.500</td>\n",
       "      <td>3.457790e+06</td>\n",
       "      <td>2.039608e+06</td>\n",
       "      <td>2.139980e+06</td>\n",
       "      <td>4.523702e+06</td>\n",
       "      <td>2600490.750</td>\n",
       "      <td>3.802814e+06</td>\n",
       "    </tr>\n",
       "    <tr>\n",
       "      <th>G62-Diagnoses_main_ICD10_G62_Other_polyneuropathies</th>\n",
       "      <td>3461948.750</td>\n",
       "      <td>1927388.75</td>\n",
       "      <td>2.176780e+06</td>\n",
       "      <td>512809.500</td>\n",
       "      <td>3038566.25</td>\n",
       "      <td>3553626.750</td>\n",
       "      <td>3.918880e+06</td>\n",
       "      <td>4038913.500</td>\n",
       "      <td>2.468866e+06</td>\n",
       "      <td>3752765.500</td>\n",
       "      <td>...</td>\n",
       "      <td>3365832.750</td>\n",
       "      <td>3317607.250</td>\n",
       "      <td>2800978.75</td>\n",
       "      <td>1869802.000</td>\n",
       "      <td>1.344453e+06</td>\n",
       "      <td>6.254732e+05</td>\n",
       "      <td>4.325136e+06</td>\n",
       "      <td>1.872992e+06</td>\n",
       "      <td>3932942.500</td>\n",
       "      <td>3.852908e+06</td>\n",
       "    </tr>\n",
       "    <tr>\n",
       "      <th>2395_4-Hairbalding_pattern_Pattern_4</th>\n",
       "      <td>3090963.000</td>\n",
       "      <td>4568733.00</td>\n",
       "      <td>2.645423e+06</td>\n",
       "      <td>1255693.875</td>\n",
       "      <td>2618424.00</td>\n",
       "      <td>2325709.250</td>\n",
       "      <td>3.993211e+05</td>\n",
       "      <td>1472670.750</td>\n",
       "      <td>1.134247e+06</td>\n",
       "      <td>3924732.750</td>\n",
       "      <td>...</td>\n",
       "      <td>2988520.500</td>\n",
       "      <td>3734202.500</td>\n",
       "      <td>2425991.25</td>\n",
       "      <td>1622558.375</td>\n",
       "      <td>3.532253e+06</td>\n",
       "      <td>1.441019e+06</td>\n",
       "      <td>6.259132e+05</td>\n",
       "      <td>7.697660e+04</td>\n",
       "      <td>1666976.625</td>\n",
       "      <td>2.402028e+06</td>\n",
       "    </tr>\n",
       "    <tr>\n",
       "      <th>20003_1141168590-Treatmentmedication_code_pariet_10mg_ec_tablet</th>\n",
       "      <td>2202725.500</td>\n",
       "      <td>3775144.75</td>\n",
       "      <td>6.853903e+05</td>\n",
       "      <td>3455764.500</td>\n",
       "      <td>3799727.25</td>\n",
       "      <td>621039.375</td>\n",
       "      <td>1.006550e+06</td>\n",
       "      <td>1001633.375</td>\n",
       "      <td>1.557073e+06</td>\n",
       "      <td>2179146.000</td>\n",
       "      <td>...</td>\n",
       "      <td>1229269.625</td>\n",
       "      <td>1622658.000</td>\n",
       "      <td>2122098.25</td>\n",
       "      <td>1419842.625</td>\n",
       "      <td>3.815263e+06</td>\n",
       "      <td>2.282254e+06</td>\n",
       "      <td>1.187751e+06</td>\n",
       "      <td>1.162379e+06</td>\n",
       "      <td>3317796.500</td>\n",
       "      <td>4.343798e+05</td>\n",
       "    </tr>\n",
       "  </tbody>\n",
       "</table>\n",
       "<p>5 rows × 1170 columns</p>\n",
       "</div>"
      ],
      "text/plain": [
       "                                                        DB00014     DB00091  \\\n",
       "I9_PHLETHROMBDVTLOW-DVT_of_lower_extremities         859149.625  4768451.00   \n",
       "I71-Diagnoses_main_ICD10_I71_Aortic_aneurysm_an...  2158918.000  1604089.75   \n",
       "G62-Diagnoses_main_ICD10_G62_Other_polyneuropat...  3461948.750  1927388.75   \n",
       "2395_4-Hairbalding_pattern_Pattern_4                3090963.000  4568733.00   \n",
       "20003_1141168590-Treatmentmedication_code_parie...  2202725.500  3775144.75   \n",
       "\n",
       "                                                         DB00121      DB00130  \\\n",
       "I9_PHLETHROMBDVTLOW-DVT_of_lower_extremities        1.805252e+06  1854894.375   \n",
       "I71-Diagnoses_main_ICD10_I71_Aortic_aneurysm_an...  2.996882e+06  4482039.000   \n",
       "G62-Diagnoses_main_ICD10_G62_Other_polyneuropat...  2.176780e+06   512809.500   \n",
       "2395_4-Hairbalding_pattern_Pattern_4                2.645423e+06  1255693.875   \n",
       "20003_1141168590-Treatmentmedication_code_parie...  6.853903e+05  3455764.500   \n",
       "\n",
       "                                                       DB00131      DB00132  \\\n",
       "I9_PHLETHROMBDVTLOW-DVT_of_lower_extremities        3398083.25  2779902.250   \n",
       "I71-Diagnoses_main_ICD10_I71_Aortic_aneurysm_an...  3456084.50  2998575.750   \n",
       "G62-Diagnoses_main_ICD10_G62_Other_polyneuropat...  3038566.25  3553626.750   \n",
       "2395_4-Hairbalding_pattern_Pattern_4                2618424.00  2325709.250   \n",
       "20003_1141168590-Treatmentmedication_code_parie...  3799727.25   621039.375   \n",
       "\n",
       "                                                         DB00136      DB00140  \\\n",
       "I9_PHLETHROMBDVTLOW-DVT_of_lower_extremities        6.271933e+05  2718546.750   \n",
       "I71-Diagnoses_main_ICD10_I71_Aortic_aneurysm_an...  2.721814e+06  3717782.500   \n",
       "G62-Diagnoses_main_ICD10_G62_Other_polyneuropat...  3.918880e+06  4038913.500   \n",
       "2395_4-Hairbalding_pattern_Pattern_4                3.993211e+05  1472670.750   \n",
       "20003_1141168590-Treatmentmedication_code_parie...  1.006550e+06  1001633.375   \n",
       "\n",
       "                                                         DB00146      DB00150  \\\n",
       "I9_PHLETHROMBDVTLOW-DVT_of_lower_extremities        5.068766e+05  2362122.000   \n",
       "I71-Diagnoses_main_ICD10_I71_Aortic_aneurysm_an...  3.051466e+06  1574597.375   \n",
       "G62-Diagnoses_main_ICD10_G62_Other_polyneuropat...  2.468866e+06  3752765.500   \n",
       "2395_4-Hairbalding_pattern_Pattern_4                1.134247e+06  3924732.750   \n",
       "20003_1141168590-Treatmentmedication_code_parie...  1.557073e+06  2179146.000   \n",
       "\n",
       "                                                    ...      DB08995  \\\n",
       "I9_PHLETHROMBDVTLOW-DVT_of_lower_extremities        ...  1253533.375   \n",
       "I71-Diagnoses_main_ICD10_I71_Aortic_aneurysm_an...  ...  3172424.000   \n",
       "G62-Diagnoses_main_ICD10_G62_Other_polyneuropat...  ...  3365832.750   \n",
       "2395_4-Hairbalding_pattern_Pattern_4                ...  2988520.500   \n",
       "20003_1141168590-Treatmentmedication_code_parie...  ...  1229269.625   \n",
       "\n",
       "                                                        DB09002     DB09004  \\\n",
       "I9_PHLETHROMBDVTLOW-DVT_of_lower_extremities        1393785.375  3439556.00   \n",
       "I71-Diagnoses_main_ICD10_I71_Aortic_aneurysm_an...  2908268.000  2173213.50   \n",
       "G62-Diagnoses_main_ICD10_G62_Other_polyneuropat...  3317607.250  2800978.75   \n",
       "2395_4-Hairbalding_pattern_Pattern_4                3734202.500  2425991.25   \n",
       "20003_1141168590-Treatmentmedication_code_parie...  1622658.000  2122098.25   \n",
       "\n",
       "                                                        DB09009       DB09010  \\\n",
       "I9_PHLETHROMBDVTLOW-DVT_of_lower_extremities        2334818.000  6.123972e+05   \n",
       "I71-Diagnoses_main_ICD10_I71_Aortic_aneurysm_an...  3204648.500  3.457790e+06   \n",
       "G62-Diagnoses_main_ICD10_G62_Other_polyneuropat...  1869802.000  1.344453e+06   \n",
       "2395_4-Hairbalding_pattern_Pattern_4                1622558.375  3.532253e+06   \n",
       "20003_1141168590-Treatmentmedication_code_parie...  1419842.625  3.815263e+06   \n",
       "\n",
       "                                                         DB09015  \\\n",
       "I9_PHLETHROMBDVTLOW-DVT_of_lower_extremities        2.318932e+06   \n",
       "I71-Diagnoses_main_ICD10_I71_Aortic_aneurysm_an...  2.039608e+06   \n",
       "G62-Diagnoses_main_ICD10_G62_Other_polyneuropat...  6.254732e+05   \n",
       "2395_4-Hairbalding_pattern_Pattern_4                1.441019e+06   \n",
       "20003_1141168590-Treatmentmedication_code_parie...  2.282254e+06   \n",
       "\n",
       "                                                         DB09019  \\\n",
       "I9_PHLETHROMBDVTLOW-DVT_of_lower_extremities        1.158458e+06   \n",
       "I71-Diagnoses_main_ICD10_I71_Aortic_aneurysm_an...  2.139980e+06   \n",
       "G62-Diagnoses_main_ICD10_G62_Other_polyneuropat...  4.325136e+06   \n",
       "2395_4-Hairbalding_pattern_Pattern_4                6.259132e+05   \n",
       "20003_1141168590-Treatmentmedication_code_parie...  1.187751e+06   \n",
       "\n",
       "                                                         DB09020      DB09022  \\\n",
       "I9_PHLETHROMBDVTLOW-DVT_of_lower_extremities        1.771659e+06  2203938.750   \n",
       "I71-Diagnoses_main_ICD10_I71_Aortic_aneurysm_an...  4.523702e+06  2600490.750   \n",
       "G62-Diagnoses_main_ICD10_G62_Other_polyneuropat...  1.872992e+06  3932942.500   \n",
       "2395_4-Hairbalding_pattern_Pattern_4                7.697660e+04  1666976.625   \n",
       "20003_1141168590-Treatmentmedication_code_parie...  1.162379e+06  3317796.500   \n",
       "\n",
       "                                                         DB09023  \n",
       "I9_PHLETHROMBDVTLOW-DVT_of_lower_extremities        2.170518e+06  \n",
       "I71-Diagnoses_main_ICD10_I71_Aortic_aneurysm_an...  3.802814e+06  \n",
       "G62-Diagnoses_main_ICD10_G62_Other_polyneuropat...  3.852908e+06  \n",
       "2395_4-Hairbalding_pattern_Pattern_4                2.402028e+06  \n",
       "20003_1141168590-Treatmentmedication_code_parie...  4.343798e+05  \n",
       "\n",
       "[5 rows x 1170 columns]"
      ]
     },
     "execution_count": 25,
     "metadata": {},
     "output_type": "execute_result"
    }
   ],
   "source": [
    "tissue_df.head()"
   ]
  },
  {
   "cell_type": "code",
   "execution_count": 26,
   "metadata": {
    "execution": {
     "iopub.execute_input": "2021-07-29T19:00:50.085095Z",
     "iopub.status.busy": "2021-07-29T19:00:50.084676Z",
     "iopub.status.idle": "2021-07-29T19:00:50.092530Z",
     "shell.execute_reply": "2021-07-29T19:00:50.092159Z"
    },
    "papermill": {
     "duration": 0.035634,
     "end_time": "2021-07-29T19:00:50.092614",
     "exception": false,
     "start_time": "2021-07-29T19:00:50.056980",
     "status": "completed"
    },
    "tags": []
   },
   "outputs": [],
   "source": [
    "_files = [x for x in current_prediction_files if f\"-{_tissue}-\" in x.name]"
   ]
  },
  {
   "cell_type": "code",
   "execution_count": 27,
   "metadata": {
    "execution": {
     "iopub.execute_input": "2021-07-29T19:00:50.146908Z",
     "iopub.status.busy": "2021-07-29T19:00:50.146549Z",
     "iopub.status.idle": "2021-07-29T19:00:50.154763Z",
     "shell.execute_reply": "2021-07-29T19:00:50.154403Z"
    },
    "papermill": {
     "duration": 0.036103,
     "end_time": "2021-07-29T19:00:50.154846",
     "exception": false,
     "start_time": "2021-07-29T19:00:50.118743",
     "status": "completed"
    },
    "tags": []
   },
   "outputs": [
    {
     "data": {
      "text/plain": [
       "5"
      ]
     },
     "metadata": {},
     "output_type": "display_data"
    }
   ],
   "source": [
    "display(len(_files))\n",
    "assert len(_files) == N_THRESHOLDS"
   ]
  },
  {
   "cell_type": "code",
   "execution_count": 28,
   "metadata": {
    "execution": {
     "iopub.execute_input": "2021-07-29T19:00:50.211331Z",
     "iopub.status.busy": "2021-07-29T19:00:50.210974Z",
     "iopub.status.idle": "2021-07-29T19:00:57.575517Z",
     "shell.execute_reply": "2021-07-29T19:00:57.575876Z"
    },
    "papermill": {
     "duration": 7.394248,
     "end_time": "2021-07-29T19:00:57.576009",
     "exception": false,
     "start_time": "2021-07-29T19:00:50.181761",
     "status": "completed"
    },
    "tags": []
   },
   "outputs": [],
   "source": [
    "_files_data = [\n",
    "    pd.read_hdf(f, key=\"full_prediction\").set_index([\"trait\", \"drug\"]).squeeze().rank()\n",
    "    for f in _files\n",
    "]"
   ]
  },
  {
   "cell_type": "code",
   "execution_count": 29,
   "metadata": {
    "execution": {
     "iopub.execute_input": "2021-07-29T19:00:57.636756Z",
     "iopub.status.busy": "2021-07-29T19:00:57.636351Z",
     "iopub.status.idle": "2021-07-29T19:00:57.646366Z",
     "shell.execute_reply": "2021-07-29T19:00:57.645997Z"
    },
    "papermill": {
     "duration": 0.038893,
     "end_time": "2021-07-29T19:00:57.646448",
     "exception": false,
     "start_time": "2021-07-29T19:00:57.607555",
     "status": "completed"
    },
    "tags": []
   },
   "outputs": [
    {
     "data": {
      "text/plain": [
       "trait                                         drug   \n",
       "I9_PHLETHROMBDVTLOW-DVT_of_lower_extremities  DB00014     624145.0\n",
       "                                              DB00091    4719379.0\n",
       "                                              DB00121    3416104.5\n",
       "                                              DB00130     403035.5\n",
       "                                              DB00131    4345081.0\n",
       "Name: score, dtype: float64"
      ]
     },
     "execution_count": 29,
     "metadata": {},
     "output_type": "execute_result"
    }
   ],
   "source": [
    "_files_data[0].head(5)"
   ]
  },
  {
   "cell_type": "code",
   "execution_count": 30,
   "metadata": {
    "execution": {
     "iopub.execute_input": "2021-07-29T19:00:57.707168Z",
     "iopub.status.busy": "2021-07-29T19:00:57.706788Z",
     "iopub.status.idle": "2021-07-29T19:00:57.714552Z",
     "shell.execute_reply": "2021-07-29T19:00:57.714230Z"
    },
    "papermill": {
     "duration": 0.040372,
     "end_time": "2021-07-29T19:00:57.714644",
     "exception": false,
     "start_time": "2021-07-29T19:00:57.674272",
     "status": "completed"
    },
    "tags": []
   },
   "outputs": [],
   "source": [
    "_trait = \"I9_PHLETHROMBDVTLOW-DVT_of_lower_extremities\"\n",
    "_drug = \"DB00014\""
   ]
  },
  {
   "cell_type": "code",
   "execution_count": 31,
   "metadata": {
    "execution": {
     "iopub.execute_input": "2021-07-29T19:00:57.772384Z",
     "iopub.status.busy": "2021-07-29T19:00:57.772023Z",
     "iopub.status.idle": "2021-07-29T19:00:59.824730Z",
     "shell.execute_reply": "2021-07-29T19:00:59.823675Z"
    },
    "papermill": {
     "duration": 2.082083,
     "end_time": "2021-07-29T19:00:59.824956",
     "exception": false,
     "start_time": "2021-07-29T19:00:57.742873",
     "status": "completed"
    },
    "tags": []
   },
   "outputs": [],
   "source": [
    "assert tissue_df.loc[_trait, _drug].round(7) == np.mean(\n",
    "    [x.loc[(_trait, _drug)] for x in _files_data]\n",
    ").round(7).astype(\"float32\")"
   ]
  },
  {
   "cell_type": "code",
   "execution_count": null,
   "metadata": {
    "papermill": {
     "duration": 0.026136,
     "end_time": "2021-07-29T19:00:59.894463",
     "exception": false,
     "start_time": "2021-07-29T19:00:59.868327",
     "status": "completed"
    },
    "tags": []
   },
   "outputs": [],
   "source": []
  }
 ],
 "metadata": {
  "jupytext": {
   "cell_metadata_filter": "all,-execution,-papermill,-trusted",
   "formats": "ipynb,py//py:percent"
  },
  "kernelspec": {
   "display_name": "Python 3",
   "language": "python",
   "name": "python3"
  },
  "language_info": {
   "codemirror_mode": {
    "name": "ipython",
    "version": 3
   },
   "file_extension": ".py",
   "mimetype": "text/x-python",
   "name": "python",
   "nbconvert_exporter": "python",
   "pygments_lexer": "ipython3",
   "version": "3.8.8"
  },
  "papermill": {
   "default_parameters": {},
   "duration": 646.234339,
   "end_time": "2021-07-29T19:01:00.226588",
   "environment_variables": {},
   "exception": null,
   "input_path": "30_drug_disease_associations/lincs/039-save_full_predictions.ipynb",
   "output_path": "30_drug_disease_associations/lincs/039-save_full_predictions.run.ipynb",
   "parameters": {},
   "start_time": "2021-07-29T18:50:13.992249",
   "version": "2.2.2"
  }
 },
 "nbformat": 4,
 "nbformat_minor": 4
}
