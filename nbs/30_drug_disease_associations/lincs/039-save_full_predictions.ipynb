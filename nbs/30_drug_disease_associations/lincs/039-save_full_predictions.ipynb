{
 "cells": [
  {
   "cell_type": "markdown",
   "metadata": {
    "papermill": {
     "duration": 0.021404,
     "end_time": "2021-04-22T19:41:48.588067",
     "exception": false,
     "start_time": "2021-04-22T19:41:48.566663",
     "status": "completed"
    },
    "tags": []
   },
   "source": [
    "# Description"
   ]
  },
  {
   "cell_type": "markdown",
   "metadata": {
    "papermill": {
     "duration": 0.017414,
     "end_time": "2021-04-22T19:41:48.623013",
     "exception": false,
     "start_time": "2021-04-22T19:41:48.605599",
     "status": "completed"
    },
    "tags": []
   },
   "source": [
    "This notebook reads the *full predictions* results (with all traits in PhenomeXcan, it doesn't matter if it doesn't have DOID map) generated with the `011-prediction-*` notebooks and saves for later use."
   ]
  },
  {
   "cell_type": "markdown",
   "metadata": {
    "papermill": {
     "duration": 0.017456,
     "end_time": "2021-04-22T19:41:48.657919",
     "exception": false,
     "start_time": "2021-04-22T19:41:48.640463",
     "status": "completed"
    },
    "tags": []
   },
   "source": [
    "# Modules loading"
   ]
  },
  {
   "cell_type": "code",
   "execution_count": 1,
   "metadata": {
    "papermill": {
     "duration": 0.030768,
     "end_time": "2021-04-22T19:41:48.706141",
     "exception": false,
     "start_time": "2021-04-22T19:41:48.675373",
     "status": "completed"
    },
    "tags": []
   },
   "outputs": [],
   "source": [
    "%load_ext autoreload\n",
    "%autoreload 2"
   ]
  },
  {
   "cell_type": "code",
   "execution_count": 2,
   "metadata": {
    "papermill": {
     "duration": 0.204512,
     "end_time": "2021-04-22T19:41:48.928561",
     "exception": false,
     "start_time": "2021-04-22T19:41:48.724049",
     "status": "completed"
    },
    "tags": []
   },
   "outputs": [],
   "source": [
    "from pathlib import Path\n",
    "\n",
    "import numpy as np\n",
    "import pandas as pd\n",
    "from tqdm import tqdm\n",
    "\n",
    "from data.hdf5 import simplify_trait_fullcode\n",
    "import conf"
   ]
  },
  {
   "cell_type": "markdown",
   "metadata": {
    "papermill": {
     "duration": 0.018253,
     "end_time": "2021-04-22T19:41:48.965527",
     "exception": false,
     "start_time": "2021-04-22T19:41:48.947274",
     "status": "completed"
    },
    "tags": []
   },
   "source": [
    "# Settings"
   ]
  },
  {
   "cell_type": "code",
   "execution_count": 3,
   "metadata": {
    "papermill": {
     "duration": 0.027406,
     "end_time": "2021-04-22T19:41:49.011472",
     "exception": false,
     "start_time": "2021-04-22T19:41:48.984066",
     "status": "completed"
    },
    "tags": []
   },
   "outputs": [],
   "source": [
    "# these numbers are for testing/checking\n",
    "N_TISSUES = 49\n",
    "N_THRESHOLDS = 5"
   ]
  },
  {
   "cell_type": "code",
   "execution_count": 4,
   "metadata": {
    "papermill": {
     "duration": 0.032034,
     "end_time": "2021-04-22T19:41:49.062125",
     "exception": false,
     "start_time": "2021-04-22T19:41:49.030091",
     "status": "completed"
    },
    "tags": []
   },
   "outputs": [
    {
     "data": {
      "text/plain": [
       "PosixPath('/media/miltondp/Elements1/projects/phenoplier/results/drug_disease_analyses/lincs')"
      ]
     },
     "metadata": {},
     "output_type": "display_data"
    }
   ],
   "source": [
    "INPUT_DIR = conf.RESULTS[\"DRUG_DISEASE_ANALYSES\"] / \"lincs\"\n",
    "display(INPUT_DIR)\n",
    "assert INPUT_DIR.exists()"
   ]
  },
  {
   "cell_type": "code",
   "execution_count": 5,
   "metadata": {
    "papermill": {
     "duration": 0.028283,
     "end_time": "2021-04-22T19:41:49.109426",
     "exception": false,
     "start_time": "2021-04-22T19:41:49.081143",
     "status": "completed"
    },
    "tags": []
   },
   "outputs": [
    {
     "data": {
      "text/plain": [
       "PosixPath('/media/miltondp/Elements1/projects/phenoplier/results/drug_disease_analyses/lincs/predictions/dotprod_neg')"
      ]
     },
     "metadata": {},
     "output_type": "display_data"
    }
   ],
   "source": [
    "INPUT_PREDICTIONS_DIR = Path(INPUT_DIR, \"predictions\", \"dotprod_neg\")\n",
    "display(INPUT_PREDICTIONS_DIR)\n",
    "INPUT_PREDICTIONS_DIR.mkdir(parents=True, exist_ok=True)"
   ]
  },
  {
   "cell_type": "code",
   "execution_count": 6,
   "metadata": {
    "papermill": {
     "duration": 0.028283,
     "end_time": "2021-04-22T19:41:49.109426",
     "exception": false,
     "start_time": "2021-04-22T19:41:49.081143",
     "status": "completed"
    },
    "tags": []
   },
   "outputs": [
    {
     "data": {
      "text/plain": [
       "PosixPath('/media/miltondp/Elements1/projects/phenoplier/results/drug_disease_analyses/lincs/predictions')"
      ]
     },
     "metadata": {},
     "output_type": "display_data"
    }
   ],
   "source": [
    "OUTPUT_DIR = Path(INPUT_DIR, \"predictions\")\n",
    "display(OUTPUT_DIR)\n",
    "OUTPUT_DIR.mkdir(parents=True, exist_ok=True)"
   ]
  },
  {
   "cell_type": "code",
   "execution_count": 6,
   "metadata": {
    "papermill": {
     "duration": 0.028283,
     "end_time": "2021-04-22T19:41:49.109426",
     "exception": false,
     "start_time": "2021-04-22T19:41:49.081143",
     "status": "completed"
    },
    "tags": []
   },
   "outputs": [
    {
     "data": {
      "text/plain": [
       "PosixPath('/media/miltondp/Elements1/projects/phenoplier/results/drug_disease_analyses/lincs/predictions')"
      ]
     },
     "metadata": {},
     "output_type": "display_data"
    }
   ],
   "source": [
    "OUTPUT_FILENAME = Path(OUTPUT_DIR, \"predictions\")\n",
    "display(OUTPUT_FILENAME)"
   ]
  },
  {
   "cell_type": "markdown",
   "metadata": {
    "papermill": {
     "duration": 0.019687,
     "end_time": "2021-04-22T19:41:49.442266",
     "exception": false,
     "start_time": "2021-04-22T19:41:49.422579",
     "status": "completed"
    },
    "tags": []
   },
   "source": [
    "# Load drug-disease predictions"
   ]
  },
  {
   "cell_type": "code",
   "execution_count": 7,
   "metadata": {
    "papermill": {
     "duration": 0.029314,
     "end_time": "2021-04-22T19:41:49.491194",
     "exception": false,
     "start_time": "2021-04-22T19:41:49.461880",
     "status": "completed"
    },
    "tags": []
   },
   "outputs": [],
   "source": [
    "from collections import defaultdict"
   ]
  },
  {
   "cell_type": "code",
   "execution_count": 8,
   "metadata": {
    "papermill": {
     "duration": 0.031607,
     "end_time": "2021-04-22T19:41:49.542893",
     "exception": false,
     "start_time": "2021-04-22T19:41:49.511286",
     "status": "completed"
    },
    "tags": []
   },
   "outputs": [
    {
     "data": {
      "text/plain": [
       "245"
      ]
     },
     "metadata": {},
     "output_type": "display_data"
    }
   ],
   "source": [
    "# get all prediction files\n",
    "\n",
    "current_prediction_files = sorted(\n",
    "    [f for f in list(INPUT_PREDICTIONS_DIR.glob(\"*.h5\")) if \"-projection-\" in f.name]\n",
    ")\n",
    "display(len(current_prediction_files))\n",
    "\n",
    "assert len(current_prediction_files) == (N_TISSUES * N_THRESHOLDS)"
   ]
  },
  {
   "cell_type": "code",
   "execution_count": 9,
   "metadata": {
    "papermill": {
     "duration": 0.029415,
     "end_time": "2021-04-22T19:41:49.592402",
     "exception": false,
     "start_time": "2021-04-22T19:41:49.562987",
     "status": "completed"
    },
    "tags": []
   },
   "outputs": [
    {
     "data": {
      "text/plain": [
       "[PosixPath('/media/miltondp/Elements1/projects/phenoplier/results/drug_disease_analyses/lincs/predictions/dotprod_neg/spredixcan-mashr-zscores-Adipose_Subcutaneous-projection-all_genes-prediction_scores.h5'),\n",
       " PosixPath('/media/miltondp/Elements1/projects/phenoplier/results/drug_disease_analyses/lincs/predictions/dotprod_neg/spredixcan-mashr-zscores-Adipose_Subcutaneous-projection-top_10_genes-prediction_scores.h5'),\n",
       " PosixPath('/media/miltondp/Elements1/projects/phenoplier/results/drug_disease_analyses/lincs/predictions/dotprod_neg/spredixcan-mashr-zscores-Adipose_Subcutaneous-projection-top_25_genes-prediction_scores.h5'),\n",
       " PosixPath('/media/miltondp/Elements1/projects/phenoplier/results/drug_disease_analyses/lincs/predictions/dotprod_neg/spredixcan-mashr-zscores-Adipose_Subcutaneous-projection-top_50_genes-prediction_scores.h5'),\n",
       " PosixPath('/media/miltondp/Elements1/projects/phenoplier/results/drug_disease_analyses/lincs/predictions/dotprod_neg/spredixcan-mashr-zscores-Adipose_Subcutaneous-projection-top_5_genes-prediction_scores.h5'),\n",
       " PosixPath('/media/miltondp/Elements1/projects/phenoplier/results/drug_disease_analyses/lincs/predictions/dotprod_neg/spredixcan-mashr-zscores-Adipose_Visceral_Omentum-projection-all_genes-prediction_scores.h5'),\n",
       " PosixPath('/media/miltondp/Elements1/projects/phenoplier/results/drug_disease_analyses/lincs/predictions/dotprod_neg/spredixcan-mashr-zscores-Adipose_Visceral_Omentum-projection-top_10_genes-prediction_scores.h5'),\n",
       " PosixPath('/media/miltondp/Elements1/projects/phenoplier/results/drug_disease_analyses/lincs/predictions/dotprod_neg/spredixcan-mashr-zscores-Adipose_Visceral_Omentum-projection-top_25_genes-prediction_scores.h5'),\n",
       " PosixPath('/media/miltondp/Elements1/projects/phenoplier/results/drug_disease_analyses/lincs/predictions/dotprod_neg/spredixcan-mashr-zscores-Adipose_Visceral_Omentum-projection-top_50_genes-prediction_scores.h5'),\n",
       " PosixPath('/media/miltondp/Elements1/projects/phenoplier/results/drug_disease_analyses/lincs/predictions/dotprod_neg/spredixcan-mashr-zscores-Adipose_Visceral_Omentum-projection-top_5_genes-prediction_scores.h5')]"
      ]
     },
     "execution_count": 9,
     "metadata": {},
     "output_type": "execute_result"
    }
   ],
   "source": [
    "current_prediction_files[:10]"
   ]
  },
  {
   "cell_type": "code",
   "execution_count": 10,
   "metadata": {},
   "outputs": [],
   "source": [
    "def _get_tissue(x):\n",
    "    \"\"\"\n",
    "    It extracts the tissue name from a filename.\n",
    "    \"\"\"\n",
    "    if x.endswith(\"-projection\"):\n",
    "        return x.split(\"spredixcan-mashr-zscores-\")[1].split(\"-projection\")[0]\n",
    "    else:\n",
    "        return x.split(\"spredixcan-mashr-zscores-\")[1].split(\"-data\")[0]"
   ]
  },
  {
   "cell_type": "code",
   "execution_count": 11,
   "metadata": {},
   "outputs": [
    {
     "name": "stderr",
     "output_type": "stream",
     "text": [
      "100%|█████████████████████████████████████████████████████████████| 245/245 [00:13<00:00, 17.71it/s]\n"
     ]
    }
   ],
   "source": [
    "# get all tissue names\n",
    "\n",
    "all_tissues = set()\n",
    "all_methods = set()\n",
    "\n",
    "for f in tqdm(current_prediction_files, ncols=100):\n",
    "    # read metadata\n",
    "    metadata = pd.read_hdf(f, key=\"metadata\")\n",
    "\n",
    "    # get the tissue name\n",
    "    _data = metadata.data.values[0]\n",
    "    _tissue = _get_tissue(_data)\n",
    "    all_tissues.add(_tissue)\n",
    "\n",
    "    _n_top_genes = metadata.n_top_genes.values[0]\n",
    "    all_methods.add(_n_top_genes)"
   ]
  },
  {
   "cell_type": "code",
   "execution_count": 12,
   "metadata": {},
   "outputs": [
    {
     "data": {
      "text/plain": [
       "{-1.0, 5, 10, 25, 50}"
      ]
     },
     "metadata": {},
     "output_type": "display_data"
    }
   ],
   "source": [
    "assert len(all_methods) == N_THRESHOLDS\n",
    "display(all_methods)"
   ]
  },
  {
   "cell_type": "code",
   "execution_count": 13,
   "metadata": {},
   "outputs": [],
   "source": [
    "all_tissues = sorted(list(all_tissues))"
   ]
  },
  {
   "cell_type": "code",
   "execution_count": 14,
   "metadata": {},
   "outputs": [],
   "source": [
    "assert len(all_tissues) == N_TISSUES"
   ]
  },
  {
   "cell_type": "code",
   "execution_count": 15,
   "metadata": {},
   "outputs": [],
   "source": [
    "_tmp_df = pd.read_hdf(current_prediction_files[0], key=\"full_prediction\")\n",
    "all_traits = _tmp_df[\"trait\"].drop_duplicates().tolist()\n",
    "all_drugs = _tmp_df[\"drug\"].drop_duplicates().tolist()"
   ]
  },
  {
   "cell_type": "code",
   "execution_count": 16,
   "metadata": {},
   "outputs": [
    {
     "data": {
      "text/html": [
       "<div>\n",
       "<style scoped>\n",
       "    .dataframe tbody tr th:only-of-type {\n",
       "        vertical-align: middle;\n",
       "    }\n",
       "\n",
       "    .dataframe tbody tr th {\n",
       "        vertical-align: top;\n",
       "    }\n",
       "\n",
       "    .dataframe thead th {\n",
       "        text-align: right;\n",
       "    }\n",
       "</style>\n",
       "<table border=\"1\" class=\"dataframe\">\n",
       "  <thead>\n",
       "    <tr style=\"text-align: right;\">\n",
       "      <th></th>\n",
       "      <th>trait</th>\n",
       "      <th>drug</th>\n",
       "      <th>score</th>\n",
       "    </tr>\n",
       "  </thead>\n",
       "  <tbody>\n",
       "    <tr>\n",
       "      <th>0</th>\n",
       "      <td>I9_PHLETHROMBDVTLOW-DVT_of_lower_extremities</td>\n",
       "      <td>DB00014</td>\n",
       "      <td>-0.015198</td>\n",
       "    </tr>\n",
       "    <tr>\n",
       "      <th>1</th>\n",
       "      <td>I9_PHLETHROMBDVTLOW-DVT_of_lower_extremities</td>\n",
       "      <td>DB00091</td>\n",
       "      <td>0.052318</td>\n",
       "    </tr>\n",
       "    <tr>\n",
       "      <th>2</th>\n",
       "      <td>I9_PHLETHROMBDVTLOW-DVT_of_lower_extremities</td>\n",
       "      <td>DB00121</td>\n",
       "      <td>0.007140</td>\n",
       "    </tr>\n",
       "    <tr>\n",
       "      <th>3</th>\n",
       "      <td>I9_PHLETHROMBDVTLOW-DVT_of_lower_extremities</td>\n",
       "      <td>DB00130</td>\n",
       "      <td>-0.019694</td>\n",
       "    </tr>\n",
       "    <tr>\n",
       "      <th>4</th>\n",
       "      <td>I9_PHLETHROMBDVTLOW-DVT_of_lower_extremities</td>\n",
       "      <td>DB00131</td>\n",
       "      <td>0.018786</td>\n",
       "    </tr>\n",
       "  </tbody>\n",
       "</table>\n",
       "</div>"
      ],
      "text/plain": [
       "                                          trait     drug     score\n",
       "0  I9_PHLETHROMBDVTLOW-DVT_of_lower_extremities  DB00014 -0.015198\n",
       "1  I9_PHLETHROMBDVTLOW-DVT_of_lower_extremities  DB00091  0.052318\n",
       "2  I9_PHLETHROMBDVTLOW-DVT_of_lower_extremities  DB00121  0.007140\n",
       "3  I9_PHLETHROMBDVTLOW-DVT_of_lower_extremities  DB00130 -0.019694\n",
       "4  I9_PHLETHROMBDVTLOW-DVT_of_lower_extremities  DB00131  0.018786"
      ]
     },
     "execution_count": 16,
     "metadata": {},
     "output_type": "execute_result"
    }
   ],
   "source": [
    "_tmp_df.head()"
   ]
  },
  {
   "cell_type": "code",
   "execution_count": 17,
   "metadata": {},
   "outputs": [],
   "source": [
    "assert len(all_traits) == 4091"
   ]
  },
  {
   "cell_type": "code",
   "execution_count": 18,
   "metadata": {},
   "outputs": [],
   "source": [
    "assert len(all_drugs) == 1170"
   ]
  },
  {
   "cell_type": "markdown",
   "metadata": {},
   "source": [
    "## Create predictions dataframe"
   ]
  },
  {
   "cell_type": "code",
   "execution_count": 28,
   "metadata": {
    "papermill": {
     "duration": 81.725816,
     "end_time": "2021-04-22T19:43:11.339033",
     "exception": false,
     "start_time": "2021-04-22T19:41:49.613217",
     "status": "completed"
    },
    "tags": []
   },
   "outputs": [
    {
     "name": "stderr",
     "output_type": "stream",
     "text": [
      "100%|███████████████████████████████████████████████████████████████| 49/49 [08:56<00:00, 10.95s/it]\n"
     ]
    }
   ],
   "source": [
    "# Iterate for each prediction file and perform some preprocessing.\n",
    "#\n",
    "# Each prediction file (.h5) has the predictions of one method (either module-based\n",
    "# or gene-based) for all drug-disease pairs across all S-PrediXcan tissues\n",
    "\n",
    "with pd.HDFStore(OUTPUT_FILENAME, mode=\"w\", complevel=4) as store:\n",
    "    for tissue in tqdm(all_tissues, ncols=100):\n",
    "        # get all the prediction files for one tissue\n",
    "        tissue_prediction_files = [\n",
    "            x for x in current_prediction_files if f\"-{tissue}-\" in x.name\n",
    "        ]\n",
    "        assert len(tissue_prediction_files) == len(all_methods)\n",
    "\n",
    "        tissue_df = pd.DataFrame(\n",
    "            data=0,\n",
    "            index=all_traits.copy(),\n",
    "            columns=all_drugs.copy(),\n",
    "            dtype=\"float32\",\n",
    "        )\n",
    "\n",
    "        for f in tissue_prediction_files:\n",
    "            # read metadata\n",
    "            metadata = pd.read_hdf(f, key=\"metadata\")\n",
    "            _data = metadata.data.values[0]\n",
    "            _tissue = _get_tissue(_data)\n",
    "            assert _tissue == tissue\n",
    "\n",
    "            # get full predictions\n",
    "            prediction_data = pd.read_hdf(f, key=\"full_prediction\")\n",
    "            prediction_data[\"score\"] = prediction_data[\"score\"].rank()\n",
    "            prediction_data = prediction_data.pivot(\n",
    "                index=\"trait\", columns=\"drug\", values=\"score\"\n",
    "            )\n",
    "            prediction_data = prediction_data.astype(\"float32\")\n",
    "\n",
    "            # sum across N_THRESHOLDS (which is equals to len(all_methods))\n",
    "            tissue_df += prediction_data.loc[tissue_df.index, tissue_df.columns]\n",
    "\n",
    "        # save the average\n",
    "        store.put(\n",
    "            simplify_trait_fullcode(tissue, prefix=\"\"),\n",
    "            (tissue_df / len(all_methods)).astype(\"float32\"),\n",
    "            format=\"fixed\",\n",
    "        )"
   ]
  },
  {
   "cell_type": "markdown",
   "metadata": {
    "papermill": {
     "duration": 0.100483,
     "end_time": "2021-04-22T19:43:13.335286",
     "exception": false,
     "start_time": "2021-04-22T19:43:13.234803",
     "status": "completed"
    },
    "tags": []
   },
   "source": [
    "## Testing"
   ]
  },
  {
   "cell_type": "code",
   "execution_count": 29,
   "metadata": {
    "papermill": {
     "duration": 0.10806,
     "end_time": "2021-04-22T19:43:11.545254",
     "exception": false,
     "start_time": "2021-04-22T19:43:11.437194",
     "status": "completed"
    },
    "tags": []
   },
   "outputs": [],
   "source": [
    "_tissue = \"Adipose_Subcutaneous\""
   ]
  },
  {
   "cell_type": "code",
   "execution_count": 30,
   "metadata": {},
   "outputs": [],
   "source": [
    "with pd.HDFStore(OUTPUT_FILENAME, mode=\"r\") as store:\n",
    "    tissue_df = store[simplify_trait_fullcode(_tissue, prefix=\"\")]"
   ]
  },
  {
   "cell_type": "code",
   "execution_count": 31,
   "metadata": {},
   "outputs": [],
   "source": [
    "assert not tissue_df.isna().any().any()"
   ]
  },
  {
   "cell_type": "code",
   "execution_count": 32,
   "metadata": {},
   "outputs": [
    {
     "data": {
      "text/plain": [
       "(4091, 1170)"
      ]
     },
     "execution_count": 32,
     "metadata": {},
     "output_type": "execute_result"
    }
   ],
   "source": [
    "tissue_df.shape"
   ]
  },
  {
   "cell_type": "code",
   "execution_count": 33,
   "metadata": {},
   "outputs": [
    {
     "data": {
      "text/html": [
       "<div>\n",
       "<style scoped>\n",
       "    .dataframe tbody tr th:only-of-type {\n",
       "        vertical-align: middle;\n",
       "    }\n",
       "\n",
       "    .dataframe tbody tr th {\n",
       "        vertical-align: top;\n",
       "    }\n",
       "\n",
       "    .dataframe thead th {\n",
       "        text-align: right;\n",
       "    }\n",
       "</style>\n",
       "<table border=\"1\" class=\"dataframe\">\n",
       "  <thead>\n",
       "    <tr style=\"text-align: right;\">\n",
       "      <th></th>\n",
       "      <th>DB00014</th>\n",
       "      <th>DB00091</th>\n",
       "      <th>DB00121</th>\n",
       "      <th>DB00130</th>\n",
       "      <th>DB00131</th>\n",
       "      <th>DB00132</th>\n",
       "      <th>DB00136</th>\n",
       "      <th>DB00140</th>\n",
       "      <th>DB00146</th>\n",
       "      <th>DB00150</th>\n",
       "      <th>...</th>\n",
       "      <th>DB08995</th>\n",
       "      <th>DB09002</th>\n",
       "      <th>DB09004</th>\n",
       "      <th>DB09009</th>\n",
       "      <th>DB09010</th>\n",
       "      <th>DB09015</th>\n",
       "      <th>DB09019</th>\n",
       "      <th>DB09020</th>\n",
       "      <th>DB09022</th>\n",
       "      <th>DB09023</th>\n",
       "    </tr>\n",
       "  </thead>\n",
       "  <tbody>\n",
       "    <tr>\n",
       "      <th>I9_PHLETHROMBDVTLOW-DVT_of_lower_extremities</th>\n",
       "      <td>-0.006497</td>\n",
       "      <td>0.072210</td>\n",
       "      <td>-0.000529</td>\n",
       "      <td>-0.004296</td>\n",
       "      <td>0.006141</td>\n",
       "      <td>0.003154</td>\n",
       "      <td>-0.009074</td>\n",
       "      <td>0.000412</td>\n",
       "      <td>-0.011412</td>\n",
       "      <td>-0.000051</td>\n",
       "      <td>...</td>\n",
       "      <td>-0.005129</td>\n",
       "      <td>-0.005269</td>\n",
       "      <td>0.003960</td>\n",
       "      <td>0.000896</td>\n",
       "      <td>-0.007339</td>\n",
       "      <td>-0.000500</td>\n",
       "      <td>-0.006592</td>\n",
       "      <td>-0.005177</td>\n",
       "      <td>0.000278</td>\n",
       "      <td>-0.001050</td>\n",
       "    </tr>\n",
       "    <tr>\n",
       "      <th>I71-Diagnoses_main_ICD10_I71_Aortic_aneurysm_and_dissection</th>\n",
       "      <td>0.000659</td>\n",
       "      <td>-0.005164</td>\n",
       "      <td>0.002791</td>\n",
       "      <td>0.010931</td>\n",
       "      <td>0.002671</td>\n",
       "      <td>0.005856</td>\n",
       "      <td>0.000188</td>\n",
       "      <td>0.004834</td>\n",
       "      <td>0.003271</td>\n",
       "      <td>-0.003199</td>\n",
       "      <td>...</td>\n",
       "      <td>0.004561</td>\n",
       "      <td>0.003152</td>\n",
       "      <td>-0.000097</td>\n",
       "      <td>0.001627</td>\n",
       "      <td>0.003118</td>\n",
       "      <td>-0.000943</td>\n",
       "      <td>-0.001265</td>\n",
       "      <td>0.012858</td>\n",
       "      <td>0.000736</td>\n",
       "      <td>0.004679</td>\n",
       "    </tr>\n",
       "    <tr>\n",
       "      <th>G62-Diagnoses_main_ICD10_G62_Other_polyneuropathies</th>\n",
       "      <td>0.004322</td>\n",
       "      <td>-0.017429</td>\n",
       "      <td>-0.000954</td>\n",
       "      <td>-0.008551</td>\n",
       "      <td>0.002615</td>\n",
       "      <td>0.003103</td>\n",
       "      <td>0.005615</td>\n",
       "      <td>0.006073</td>\n",
       "      <td>0.000174</td>\n",
       "      <td>0.006135</td>\n",
       "      <td>...</td>\n",
       "      <td>0.004491</td>\n",
       "      <td>0.002732</td>\n",
       "      <td>0.001949</td>\n",
       "      <td>-0.002629</td>\n",
       "      <td>-0.002929</td>\n",
       "      <td>-0.008633</td>\n",
       "      <td>0.009766</td>\n",
       "      <td>-0.006897</td>\n",
       "      <td>0.006556</td>\n",
       "      <td>0.005399</td>\n",
       "    </tr>\n",
       "    <tr>\n",
       "      <th>2395_4-Hairbalding_pattern_Pattern_4</th>\n",
       "      <td>0.001281</td>\n",
       "      <td>0.014856</td>\n",
       "      <td>-0.000798</td>\n",
       "      <td>-0.006296</td>\n",
       "      <td>-0.002154</td>\n",
       "      <td>-0.005253</td>\n",
       "      <td>-0.013910</td>\n",
       "      <td>-0.005741</td>\n",
       "      <td>-0.004840</td>\n",
       "      <td>0.008523</td>\n",
       "      <td>...</td>\n",
       "      <td>-0.000877</td>\n",
       "      <td>0.004396</td>\n",
       "      <td>-0.001962</td>\n",
       "      <td>-0.002118</td>\n",
       "      <td>0.005094</td>\n",
       "      <td>-0.005699</td>\n",
       "      <td>-0.011614</td>\n",
       "      <td>-0.022731</td>\n",
       "      <td>-0.004846</td>\n",
       "      <td>-0.001254</td>\n",
       "    </tr>\n",
       "    <tr>\n",
       "      <th>20003_1141168590-Treatmentmedication_code_pariet_10mg_ec_tablet</th>\n",
       "      <td>-0.001726</td>\n",
       "      <td>0.024150</td>\n",
       "      <td>-0.006406</td>\n",
       "      <td>0.003348</td>\n",
       "      <td>0.004601</td>\n",
       "      <td>-0.007618</td>\n",
       "      <td>-0.005133</td>\n",
       "      <td>-0.005093</td>\n",
       "      <td>-0.002373</td>\n",
       "      <td>0.000356</td>\n",
       "      <td>...</td>\n",
       "      <td>-0.005400</td>\n",
       "      <td>-0.003261</td>\n",
       "      <td>-0.001523</td>\n",
       "      <td>-0.003059</td>\n",
       "      <td>0.004404</td>\n",
       "      <td>-0.000027</td>\n",
       "      <td>-0.004118</td>\n",
       "      <td>-0.007614</td>\n",
       "      <td>0.003105</td>\n",
       "      <td>-0.009730</td>\n",
       "    </tr>\n",
       "  </tbody>\n",
       "</table>\n",
       "<p>5 rows × 1170 columns</p>\n",
       "</div>"
      ],
      "text/plain": [
       "                                                     DB00014   DB00091  \\\n",
       "I9_PHLETHROMBDVTLOW-DVT_of_lower_extremities       -0.006497  0.072210   \n",
       "I71-Diagnoses_main_ICD10_I71_Aortic_aneurysm_an...  0.000659 -0.005164   \n",
       "G62-Diagnoses_main_ICD10_G62_Other_polyneuropat...  0.004322 -0.017429   \n",
       "2395_4-Hairbalding_pattern_Pattern_4                0.001281  0.014856   \n",
       "20003_1141168590-Treatmentmedication_code_parie... -0.001726  0.024150   \n",
       "\n",
       "                                                     DB00121   DB00130  \\\n",
       "I9_PHLETHROMBDVTLOW-DVT_of_lower_extremities       -0.000529 -0.004296   \n",
       "I71-Diagnoses_main_ICD10_I71_Aortic_aneurysm_an...  0.002791  0.010931   \n",
       "G62-Diagnoses_main_ICD10_G62_Other_polyneuropat... -0.000954 -0.008551   \n",
       "2395_4-Hairbalding_pattern_Pattern_4               -0.000798 -0.006296   \n",
       "20003_1141168590-Treatmentmedication_code_parie... -0.006406  0.003348   \n",
       "\n",
       "                                                     DB00131   DB00132  \\\n",
       "I9_PHLETHROMBDVTLOW-DVT_of_lower_extremities        0.006141  0.003154   \n",
       "I71-Diagnoses_main_ICD10_I71_Aortic_aneurysm_an...  0.002671  0.005856   \n",
       "G62-Diagnoses_main_ICD10_G62_Other_polyneuropat...  0.002615  0.003103   \n",
       "2395_4-Hairbalding_pattern_Pattern_4               -0.002154 -0.005253   \n",
       "20003_1141168590-Treatmentmedication_code_parie...  0.004601 -0.007618   \n",
       "\n",
       "                                                     DB00136   DB00140  \\\n",
       "I9_PHLETHROMBDVTLOW-DVT_of_lower_extremities       -0.009074  0.000412   \n",
       "I71-Diagnoses_main_ICD10_I71_Aortic_aneurysm_an...  0.000188  0.004834   \n",
       "G62-Diagnoses_main_ICD10_G62_Other_polyneuropat...  0.005615  0.006073   \n",
       "2395_4-Hairbalding_pattern_Pattern_4               -0.013910 -0.005741   \n",
       "20003_1141168590-Treatmentmedication_code_parie... -0.005133 -0.005093   \n",
       "\n",
       "                                                     DB00146   DB00150  ...  \\\n",
       "I9_PHLETHROMBDVTLOW-DVT_of_lower_extremities       -0.011412 -0.000051  ...   \n",
       "I71-Diagnoses_main_ICD10_I71_Aortic_aneurysm_an...  0.003271 -0.003199  ...   \n",
       "G62-Diagnoses_main_ICD10_G62_Other_polyneuropat...  0.000174  0.006135  ...   \n",
       "2395_4-Hairbalding_pattern_Pattern_4               -0.004840  0.008523  ...   \n",
       "20003_1141168590-Treatmentmedication_code_parie... -0.002373  0.000356  ...   \n",
       "\n",
       "                                                     DB08995   DB09002  \\\n",
       "I9_PHLETHROMBDVTLOW-DVT_of_lower_extremities       -0.005129 -0.005269   \n",
       "I71-Diagnoses_main_ICD10_I71_Aortic_aneurysm_an...  0.004561  0.003152   \n",
       "G62-Diagnoses_main_ICD10_G62_Other_polyneuropat...  0.004491  0.002732   \n",
       "2395_4-Hairbalding_pattern_Pattern_4               -0.000877  0.004396   \n",
       "20003_1141168590-Treatmentmedication_code_parie... -0.005400 -0.003261   \n",
       "\n",
       "                                                     DB09004   DB09009  \\\n",
       "I9_PHLETHROMBDVTLOW-DVT_of_lower_extremities        0.003960  0.000896   \n",
       "I71-Diagnoses_main_ICD10_I71_Aortic_aneurysm_an... -0.000097  0.001627   \n",
       "G62-Diagnoses_main_ICD10_G62_Other_polyneuropat...  0.001949 -0.002629   \n",
       "2395_4-Hairbalding_pattern_Pattern_4               -0.001962 -0.002118   \n",
       "20003_1141168590-Treatmentmedication_code_parie... -0.001523 -0.003059   \n",
       "\n",
       "                                                     DB09010   DB09015  \\\n",
       "I9_PHLETHROMBDVTLOW-DVT_of_lower_extremities       -0.007339 -0.000500   \n",
       "I71-Diagnoses_main_ICD10_I71_Aortic_aneurysm_an...  0.003118 -0.000943   \n",
       "G62-Diagnoses_main_ICD10_G62_Other_polyneuropat... -0.002929 -0.008633   \n",
       "2395_4-Hairbalding_pattern_Pattern_4                0.005094 -0.005699   \n",
       "20003_1141168590-Treatmentmedication_code_parie...  0.004404 -0.000027   \n",
       "\n",
       "                                                     DB09019   DB09020  \\\n",
       "I9_PHLETHROMBDVTLOW-DVT_of_lower_extremities       -0.006592 -0.005177   \n",
       "I71-Diagnoses_main_ICD10_I71_Aortic_aneurysm_an... -0.001265  0.012858   \n",
       "G62-Diagnoses_main_ICD10_G62_Other_polyneuropat...  0.009766 -0.006897   \n",
       "2395_4-Hairbalding_pattern_Pattern_4               -0.011614 -0.022731   \n",
       "20003_1141168590-Treatmentmedication_code_parie... -0.004118 -0.007614   \n",
       "\n",
       "                                                     DB09022   DB09023  \n",
       "I9_PHLETHROMBDVTLOW-DVT_of_lower_extremities        0.000278 -0.001050  \n",
       "I71-Diagnoses_main_ICD10_I71_Aortic_aneurysm_an...  0.000736  0.004679  \n",
       "G62-Diagnoses_main_ICD10_G62_Other_polyneuropat...  0.006556  0.005399  \n",
       "2395_4-Hairbalding_pattern_Pattern_4               -0.004846 -0.001254  \n",
       "20003_1141168590-Treatmentmedication_code_parie...  0.003105 -0.009730  \n",
       "\n",
       "[5 rows x 1170 columns]"
      ]
     },
     "execution_count": 33,
     "metadata": {},
     "output_type": "execute_result"
    }
   ],
   "source": [
    "tissue_df.head()"
   ]
  },
  {
   "cell_type": "code",
   "execution_count": 34,
   "metadata": {},
   "outputs": [],
   "source": [
    "_files = [x for x in current_prediction_files if f\"-{_tissue}-\" in x.name]"
   ]
  },
  {
   "cell_type": "code",
   "execution_count": 35,
   "metadata": {},
   "outputs": [
    {
     "data": {
      "text/plain": [
       "5"
      ]
     },
     "metadata": {},
     "output_type": "display_data"
    }
   ],
   "source": [
    "display(len(_files))\n",
    "assert len(_files) == N_THRESHOLDS"
   ]
  },
  {
   "cell_type": "code",
   "execution_count": 42,
   "metadata": {},
   "outputs": [],
   "source": [
    "_files_data = [\n",
    "    pd.read_hdf(f, key=\"full_prediction\").set_index([\"trait\", \"drug\"]).squeeze().rank()\n",
    "    for f in _files\n",
    "]"
   ]
  },
  {
   "cell_type": "code",
   "execution_count": 43,
   "metadata": {},
   "outputs": [
    {
     "data": {
      "text/plain": [
       "trait                                         drug   \n",
       "I9_PHLETHROMBDVTLOW-DVT_of_lower_extremities  DB00014   -0.015198\n",
       "                                              DB00091    0.052318\n",
       "                                              DB00121    0.007140\n",
       "                                              DB00130   -0.019694\n",
       "                                              DB00131    0.018786\n",
       "Name: score, dtype: float64"
      ]
     },
     "execution_count": 43,
     "metadata": {},
     "output_type": "execute_result"
    }
   ],
   "source": [
    "_files_data[0].head(5)"
   ]
  },
  {
   "cell_type": "code",
   "execution_count": 44,
   "metadata": {},
   "outputs": [],
   "source": [
    "_trait = \"I9_PHLETHROMBDVTLOW-DVT_of_lower_extremities\"\n",
    "_drug = \"DB00014\""
   ]
  },
  {
   "cell_type": "code",
   "execution_count": 58,
   "metadata": {},
   "outputs": [],
   "source": [
    "assert tissue_df.loc[_trait, _drug].round(7) == np.mean(\n",
    "    [x.loc[(_trait, _drug)] for x in _files_data]\n",
    ").round(7).astype(\"float32\")"
   ]
  },
  {
   "cell_type": "code",
   "execution_count": null,
   "metadata": {},
   "outputs": [],
   "source": []
  }
 ],
 "metadata": {
  "jupytext": {
   "cell_metadata_filter": "all,-execution,-papermill,-trusted",
   "formats": "ipynb,py//py:percent"
  },
  "kernelspec": {
   "display_name": "Python 3",
   "language": "python",
   "name": "python3"
  },
  "language_info": {
   "codemirror_mode": {
    "name": "ipython",
    "version": 3
   },
   "file_extension": ".py",
   "mimetype": "text/x-python",
   "name": "python",
   "nbconvert_exporter": "python",
   "pygments_lexer": "ipython3",
   "version": "3.8.8"
  },
  "papermill": {
   "default_parameters": {},
   "duration": 143.229962,
   "end_time": "2021-04-22T19:44:10.819888",
   "environment_variables": {},
   "exception": null,
   "input_path": "30_drug_disease_associations/lincs/021-prediction_performance.ipynb",
   "output_path": "30_drug_disease_associations/lincs/021-prediction_performance.run.ipynb",
   "parameters": {},
   "start_time": "2021-04-22T19:41:47.589926",
   "version": "2.2.2"
  }
 },
 "nbformat": 4,
 "nbformat_minor": 4
}
