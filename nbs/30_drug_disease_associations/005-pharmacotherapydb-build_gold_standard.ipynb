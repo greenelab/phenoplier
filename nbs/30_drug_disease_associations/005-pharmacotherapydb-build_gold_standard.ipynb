{
 "cells": [
  {
   "cell_type": "markdown",
   "metadata": {
    "papermill": {
     "duration": 0.011652,
     "end_time": "2021-04-22T19:40:20.210096",
     "exception": false,
     "start_time": "2021-04-22T19:40:20.198444",
     "status": "completed"
    },
    "tags": []
   },
   "source": [
    "# Description"
   ]
  },
  {
   "cell_type": "markdown",
   "metadata": {
    "papermill": {
     "duration": 0.008744,
     "end_time": "2021-04-22T19:40:20.226928",
     "exception": false,
     "start_time": "2021-04-22T19:40:20.218184",
     "status": "completed"
    },
    "tags": []
   },
   "source": [
    "This notebook builds the gold-standard for drug-disease prediction using [PharmarcotherapyDB](https://dx.doi.org/10.7554%2FeLife.26726)\n",
    "\n",
    "Instead of using all drug-disease pairs in PharmarcotherapyDB, we only use disease-modifying (DM) pairs as positive cases, and non-indications (NOT) as negative ones. We exclude symptomatic (SYM) because those might not exert an important effect to the disease."
   ]
  },
  {
   "cell_type": "markdown",
   "metadata": {
    "papermill": {
     "duration": 0.007581,
     "end_time": "2021-04-22T19:40:20.242349",
     "exception": false,
     "start_time": "2021-04-22T19:40:20.234768",
     "status": "completed"
    },
    "tags": []
   },
   "source": [
    "# Modules loading"
   ]
  },
  {
   "cell_type": "code",
   "execution_count": 1,
   "metadata": {
    "execution": {
     "iopub.execute_input": "2021-04-22T19:40:20.264346Z",
     "iopub.status.busy": "2021-04-22T19:40:20.263971Z",
     "iopub.status.idle": "2021-04-22T19:40:20.270556Z",
     "shell.execute_reply": "2021-04-22T19:40:20.270136Z"
    },
    "papermill": {
     "duration": 0.020659,
     "end_time": "2021-04-22T19:40:20.270647",
     "exception": false,
     "start_time": "2021-04-22T19:40:20.249988",
     "status": "completed"
    },
    "tags": []
   },
   "outputs": [],
   "source": [
    "%load_ext autoreload\n",
    "%autoreload 2"
   ]
  },
  {
   "cell_type": "code",
   "execution_count": 2,
   "metadata": {
    "execution": {
     "iopub.execute_input": "2021-04-22T19:40:20.289304Z",
     "iopub.status.busy": "2021-04-22T19:40:20.288942Z",
     "iopub.status.idle": "2021-04-22T19:40:20.464525Z",
     "shell.execute_reply": "2021-04-22T19:40:20.464162Z"
    },
    "papermill": {
     "duration": 0.185604,
     "end_time": "2021-04-22T19:40:20.464608",
     "exception": false,
     "start_time": "2021-04-22T19:40:20.279004",
     "status": "completed"
    },
    "tags": []
   },
   "outputs": [],
   "source": [
    "from pathlib import Path\n",
    "\n",
    "import pandas as pd\n",
    "\n",
    "import conf"
   ]
  },
  {
   "cell_type": "markdown",
   "metadata": {
    "papermill": {
     "duration": 0.007829,
     "end_time": "2021-04-22T19:40:20.480777",
     "exception": false,
     "start_time": "2021-04-22T19:40:20.472948",
     "status": "completed"
    },
    "tags": []
   },
   "source": [
    "# Settings"
   ]
  },
  {
   "cell_type": "code",
   "execution_count": 3,
   "metadata": {
    "execution": {
     "iopub.execute_input": "2021-04-22T19:40:20.499382Z",
     "iopub.status.busy": "2021-04-22T19:40:20.498961Z",
     "iopub.status.idle": "2021-04-22T19:40:20.512150Z",
     "shell.execute_reply": "2021-04-22T19:40:20.511722Z"
    },
    "papermill": {
     "duration": 0.023883,
     "end_time": "2021-04-22T19:40:20.512245",
     "exception": false,
     "start_time": "2021-04-22T19:40:20.488362",
     "status": "completed"
    },
    "tags": []
   },
   "outputs": [
    {
     "data": {
      "text/plain": [
       "PosixPath('/home/miltondp/projects/labs/greenelab/phenoplier/base/results/drug_disease_analyses')"
      ]
     },
     "metadata": {},
     "output_type": "display_data"
    }
   ],
   "source": [
    "OUTPUT_DIR = conf.RESULTS[\"DRUG_DISEASE_ANALYSES\"]\n",
    "display(OUTPUT_DIR)\n",
    "OUTPUT_DIR.mkdir(parents=True, exist_ok=True)"
   ]
  },
  {
   "cell_type": "markdown",
   "metadata": {
    "papermill": {
     "duration": 0.008655,
     "end_time": "2021-04-22T19:40:20.530566",
     "exception": false,
     "start_time": "2021-04-22T19:40:20.521911",
     "status": "completed"
    },
    "tags": []
   },
   "source": [
    "# PharmacotherapyDB: load gold standard"
   ]
  },
  {
   "cell_type": "markdown",
   "metadata": {
    "papermill": {
     "duration": 0.008742,
     "end_time": "2021-04-22T19:40:20.547932",
     "exception": false,
     "start_time": "2021-04-22T19:40:20.539190",
     "status": "completed"
    },
    "tags": []
   },
   "source": [
    "## Read data"
   ]
  },
  {
   "cell_type": "code",
   "execution_count": 4,
   "metadata": {
    "execution": {
     "iopub.execute_input": "2021-04-22T19:40:20.567232Z",
     "iopub.status.busy": "2021-04-22T19:40:20.566875Z",
     "iopub.status.idle": "2021-04-22T19:40:20.578288Z",
     "shell.execute_reply": "2021-04-22T19:40:20.577958Z"
    },
    "papermill": {
     "duration": 0.021875,
     "end_time": "2021-04-22T19:40:20.578372",
     "exception": false,
     "start_time": "2021-04-22T19:40:20.556497",
     "status": "completed"
    },
    "tags": []
   },
   "outputs": [
    {
     "data": {
      "text/plain": [
       "PosixPath('/home/miltondp/projects/labs/greenelab/phenoplier/base/data/hetionet/pharmacotherapydb-v1.0/indications.tsv')"
      ]
     },
     "metadata": {},
     "output_type": "display_data"
    }
   ],
   "source": [
    "input_file = conf.PHARMACOTHERAPYDB[\"INDICATIONS_FILE\"]\n",
    "display(input_file)\n",
    "\n",
    "pharmadb_gold_standard = pd.read_csv(input_file, sep=\"\\t\")"
   ]
  },
  {
   "cell_type": "code",
   "execution_count": 5,
   "metadata": {
    "execution": {
     "iopub.execute_input": "2021-04-22T19:40:20.598879Z",
     "iopub.status.busy": "2021-04-22T19:40:20.598508Z",
     "iopub.status.idle": "2021-04-22T19:40:20.606345Z",
     "shell.execute_reply": "2021-04-22T19:40:20.605969Z"
    },
    "papermill": {
     "duration": 0.018933,
     "end_time": "2021-04-22T19:40:20.606431",
     "exception": false,
     "start_time": "2021-04-22T19:40:20.587498",
     "status": "completed"
    },
    "tags": []
   },
   "outputs": [
    {
     "data": {
      "text/plain": [
       "(1388, 7)"
      ]
     },
     "execution_count": 5,
     "metadata": {},
     "output_type": "execute_result"
    }
   ],
   "source": [
    "pharmadb_gold_standard.shape"
   ]
  },
  {
   "cell_type": "code",
   "execution_count": 6,
   "metadata": {
    "execution": {
     "iopub.execute_input": "2021-04-22T19:40:20.627341Z",
     "iopub.status.busy": "2021-04-22T19:40:20.626966Z",
     "iopub.status.idle": "2021-04-22T19:40:20.639558Z",
     "shell.execute_reply": "2021-04-22T19:40:20.639860Z"
    },
    "papermill": {
     "duration": 0.024149,
     "end_time": "2021-04-22T19:40:20.639962",
     "exception": false,
     "start_time": "2021-04-22T19:40:20.615813",
     "status": "completed"
    },
    "tags": []
   },
   "outputs": [
    {
     "data": {
      "text/html": [
       "<div>\n",
       "<style scoped>\n",
       "    .dataframe tbody tr th:only-of-type {\n",
       "        vertical-align: middle;\n",
       "    }\n",
       "\n",
       "    .dataframe tbody tr th {\n",
       "        vertical-align: top;\n",
       "    }\n",
       "\n",
       "    .dataframe thead th {\n",
       "        text-align: right;\n",
       "    }\n",
       "</style>\n",
       "<table border=\"1\" class=\"dataframe\">\n",
       "  <thead>\n",
       "    <tr style=\"text-align: right;\">\n",
       "      <th></th>\n",
       "      <th>doid_id</th>\n",
       "      <th>drugbank_id</th>\n",
       "      <th>disease</th>\n",
       "      <th>drug</th>\n",
       "      <th>category</th>\n",
       "      <th>n_curators</th>\n",
       "      <th>n_resources</th>\n",
       "    </tr>\n",
       "  </thead>\n",
       "  <tbody>\n",
       "    <tr>\n",
       "      <th>0</th>\n",
       "      <td>DOID:10652</td>\n",
       "      <td>DB00843</td>\n",
       "      <td>Alzheimer's disease</td>\n",
       "      <td>Donepezil</td>\n",
       "      <td>DM</td>\n",
       "      <td>2</td>\n",
       "      <td>1</td>\n",
       "    </tr>\n",
       "    <tr>\n",
       "      <th>1</th>\n",
       "      <td>DOID:10652</td>\n",
       "      <td>DB00674</td>\n",
       "      <td>Alzheimer's disease</td>\n",
       "      <td>Galantamine</td>\n",
       "      <td>DM</td>\n",
       "      <td>1</td>\n",
       "      <td>4</td>\n",
       "    </tr>\n",
       "    <tr>\n",
       "      <th>2</th>\n",
       "      <td>DOID:10652</td>\n",
       "      <td>DB01043</td>\n",
       "      <td>Alzheimer's disease</td>\n",
       "      <td>Memantine</td>\n",
       "      <td>DM</td>\n",
       "      <td>1</td>\n",
       "      <td>3</td>\n",
       "    </tr>\n",
       "    <tr>\n",
       "      <th>3</th>\n",
       "      <td>DOID:10652</td>\n",
       "      <td>DB00989</td>\n",
       "      <td>Alzheimer's disease</td>\n",
       "      <td>Rivastigmine</td>\n",
       "      <td>DM</td>\n",
       "      <td>1</td>\n",
       "      <td>3</td>\n",
       "    </tr>\n",
       "    <tr>\n",
       "      <th>4</th>\n",
       "      <td>DOID:10652</td>\n",
       "      <td>DB00245</td>\n",
       "      <td>Alzheimer's disease</td>\n",
       "      <td>Benzatropine</td>\n",
       "      <td>SYM</td>\n",
       "      <td>3</td>\n",
       "      <td>1</td>\n",
       "    </tr>\n",
       "  </tbody>\n",
       "</table>\n",
       "</div>"
      ],
      "text/plain": [
       "      doid_id drugbank_id              disease          drug category  \\\n",
       "0  DOID:10652     DB00843  Alzheimer's disease     Donepezil       DM   \n",
       "1  DOID:10652     DB00674  Alzheimer's disease   Galantamine       DM   \n",
       "2  DOID:10652     DB01043  Alzheimer's disease     Memantine       DM   \n",
       "3  DOID:10652     DB00989  Alzheimer's disease  Rivastigmine       DM   \n",
       "4  DOID:10652     DB00245  Alzheimer's disease  Benzatropine      SYM   \n",
       "\n",
       "   n_curators  n_resources  \n",
       "0           2            1  \n",
       "1           1            4  \n",
       "2           1            3  \n",
       "3           1            3  \n",
       "4           3            1  "
      ]
     },
     "execution_count": 6,
     "metadata": {},
     "output_type": "execute_result"
    }
   ],
   "source": [
    "pharmadb_gold_standard.head()"
   ]
  },
  {
   "cell_type": "code",
   "execution_count": 7,
   "metadata": {
    "execution": {
     "iopub.execute_input": "2021-04-22T19:40:20.661280Z",
     "iopub.status.busy": "2021-04-22T19:40:20.660904Z",
     "iopub.status.idle": "2021-04-22T19:40:20.668865Z",
     "shell.execute_reply": "2021-04-22T19:40:20.668532Z"
    },
    "papermill": {
     "duration": 0.019366,
     "end_time": "2021-04-22T19:40:20.668947",
     "exception": false,
     "start_time": "2021-04-22T19:40:20.649581",
     "status": "completed"
    },
    "tags": []
   },
   "outputs": [
    {
     "data": {
      "text/plain": [
       "(97,)"
      ]
     },
     "execution_count": 7,
     "metadata": {},
     "output_type": "execute_result"
    }
   ],
   "source": [
    "pharmadb_gold_standard[\"doid_id\"].unique().shape"
   ]
  },
  {
   "cell_type": "code",
   "execution_count": 8,
   "metadata": {
    "execution": {
     "iopub.execute_input": "2021-04-22T19:40:20.690367Z",
     "iopub.status.busy": "2021-04-22T19:40:20.690018Z",
     "iopub.status.idle": "2021-04-22T19:40:20.697987Z",
     "shell.execute_reply": "2021-04-22T19:40:20.697600Z"
    },
    "papermill": {
     "duration": 0.019411,
     "end_time": "2021-04-22T19:40:20.698073",
     "exception": false,
     "start_time": "2021-04-22T19:40:20.678662",
     "status": "completed"
    },
    "tags": []
   },
   "outputs": [
    {
     "data": {
      "text/plain": [
       "(601,)"
      ]
     },
     "execution_count": 8,
     "metadata": {},
     "output_type": "execute_result"
    }
   ],
   "source": [
    "pharmadb_gold_standard[\"drugbank_id\"].unique().shape"
   ]
  },
  {
   "cell_type": "markdown",
   "metadata": {
    "papermill": {
     "duration": 0.009908,
     "end_time": "2021-04-22T19:40:20.718033",
     "exception": false,
     "start_time": "2021-04-22T19:40:20.708125",
     "status": "completed"
    },
    "tags": []
   },
   "source": [
    "## Build gold standard"
   ]
  },
  {
   "cell_type": "code",
   "execution_count": 9,
   "metadata": {
    "execution": {
     "iopub.execute_input": "2021-04-22T19:40:20.739725Z",
     "iopub.status.busy": "2021-04-22T19:40:20.739373Z",
     "iopub.status.idle": "2021-04-22T19:40:20.748410Z",
     "shell.execute_reply": "2021-04-22T19:40:20.748037Z"
    },
    "papermill": {
     "duration": 0.020539,
     "end_time": "2021-04-22T19:40:20.748495",
     "exception": false,
     "start_time": "2021-04-22T19:40:20.727956",
     "status": "completed"
    },
    "tags": []
   },
   "outputs": [
    {
     "data": {
      "text/plain": [
       "DM     755\n",
       "SYM    390\n",
       "NOT    243\n",
       "Name: category, dtype: int64"
      ]
     },
     "execution_count": 9,
     "metadata": {},
     "output_type": "execute_result"
    }
   ],
   "source": [
    "pharmadb_gold_standard[\"category\"].value_counts()"
   ]
  },
  {
   "cell_type": "code",
   "execution_count": 10,
   "metadata": {
    "execution": {
     "iopub.execute_input": "2021-04-22T19:40:20.771934Z",
     "iopub.status.busy": "2021-04-22T19:40:20.771551Z",
     "iopub.status.idle": "2021-04-22T19:40:20.791987Z",
     "shell.execute_reply": "2021-04-22T19:40:20.791622Z"
    },
    "papermill": {
     "duration": 0.033299,
     "end_time": "2021-04-22T19:40:20.792067",
     "exception": false,
     "start_time": "2021-04-22T19:40:20.758768",
     "status": "completed"
    },
    "tags": []
   },
   "outputs": [],
   "source": [
    "gold_standard = (\n",
    "    pharmadb_gold_standard[pharmadb_gold_standard[\"category\"].isin((\"DM\", \"NOT\"))]\n",
    "    .set_index([\"doid_id\", \"drugbank_id\"])\n",
    "    .apply(lambda x: int(x.category in (\"DM\",)), axis=1)\n",
    "    .reset_index()\n",
    "    .rename(\n",
    "        columns={\n",
    "            \"doid_id\": \"trait\",\n",
    "            \"drugbank_id\": \"drug\",\n",
    "            0: \"true_class\",\n",
    "        }\n",
    "    )\n",
    ")"
   ]
  },
  {
   "cell_type": "code",
   "execution_count": 11,
   "metadata": {
    "execution": {
     "iopub.execute_input": "2021-04-22T19:40:20.813857Z",
     "iopub.status.busy": "2021-04-22T19:40:20.813482Z",
     "iopub.status.idle": "2021-04-22T19:40:20.821373Z",
     "shell.execute_reply": "2021-04-22T19:40:20.821051Z"
    },
    "papermill": {
     "duration": 0.019457,
     "end_time": "2021-04-22T19:40:20.821456",
     "exception": false,
     "start_time": "2021-04-22T19:40:20.801999",
     "status": "completed"
    },
    "tags": []
   },
   "outputs": [
    {
     "data": {
      "text/plain": [
       "(998, 3)"
      ]
     },
     "execution_count": 11,
     "metadata": {},
     "output_type": "execute_result"
    }
   ],
   "source": [
    "gold_standard.shape"
   ]
  },
  {
   "cell_type": "code",
   "execution_count": 12,
   "metadata": {
    "execution": {
     "iopub.execute_input": "2021-04-22T19:40:20.844729Z",
     "iopub.status.busy": "2021-04-22T19:40:20.844355Z",
     "iopub.status.idle": "2021-04-22T19:40:20.851313Z",
     "shell.execute_reply": "2021-04-22T19:40:20.850946Z"
    },
    "papermill": {
     "duration": 0.019238,
     "end_time": "2021-04-22T19:40:20.851394",
     "exception": false,
     "start_time": "2021-04-22T19:40:20.832156",
     "status": "completed"
    },
    "tags": []
   },
   "outputs": [],
   "source": [
    "assert gold_standard.shape[0] == 998"
   ]
  },
  {
   "cell_type": "code",
   "execution_count": 13,
   "metadata": {
    "execution": {
     "iopub.execute_input": "2021-04-22T19:40:20.874321Z",
     "iopub.status.busy": "2021-04-22T19:40:20.873958Z",
     "iopub.status.idle": "2021-04-22T19:40:20.884133Z",
     "shell.execute_reply": "2021-04-22T19:40:20.883766Z"
    },
    "papermill": {
     "duration": 0.022427,
     "end_time": "2021-04-22T19:40:20.884215",
     "exception": false,
     "start_time": "2021-04-22T19:40:20.861788",
     "status": "completed"
    },
    "tags": []
   },
   "outputs": [
    {
     "data": {
      "text/html": [
       "<div>\n",
       "<style scoped>\n",
       "    .dataframe tbody tr th:only-of-type {\n",
       "        vertical-align: middle;\n",
       "    }\n",
       "\n",
       "    .dataframe tbody tr th {\n",
       "        vertical-align: top;\n",
       "    }\n",
       "\n",
       "    .dataframe thead th {\n",
       "        text-align: right;\n",
       "    }\n",
       "</style>\n",
       "<table border=\"1\" class=\"dataframe\">\n",
       "  <thead>\n",
       "    <tr style=\"text-align: right;\">\n",
       "      <th></th>\n",
       "      <th>trait</th>\n",
       "      <th>drug</th>\n",
       "      <th>true_class</th>\n",
       "    </tr>\n",
       "  </thead>\n",
       "  <tbody>\n",
       "    <tr>\n",
       "      <th>0</th>\n",
       "      <td>DOID:10652</td>\n",
       "      <td>DB00843</td>\n",
       "      <td>1</td>\n",
       "    </tr>\n",
       "    <tr>\n",
       "      <th>1</th>\n",
       "      <td>DOID:10652</td>\n",
       "      <td>DB00674</td>\n",
       "      <td>1</td>\n",
       "    </tr>\n",
       "    <tr>\n",
       "      <th>2</th>\n",
       "      <td>DOID:10652</td>\n",
       "      <td>DB01043</td>\n",
       "      <td>1</td>\n",
       "    </tr>\n",
       "    <tr>\n",
       "      <th>3</th>\n",
       "      <td>DOID:10652</td>\n",
       "      <td>DB00989</td>\n",
       "      <td>1</td>\n",
       "    </tr>\n",
       "    <tr>\n",
       "      <th>4</th>\n",
       "      <td>DOID:10652</td>\n",
       "      <td>DB00810</td>\n",
       "      <td>0</td>\n",
       "    </tr>\n",
       "  </tbody>\n",
       "</table>\n",
       "</div>"
      ],
      "text/plain": [
       "        trait     drug  true_class\n",
       "0  DOID:10652  DB00843           1\n",
       "1  DOID:10652  DB00674           1\n",
       "2  DOID:10652  DB01043           1\n",
       "3  DOID:10652  DB00989           1\n",
       "4  DOID:10652  DB00810           0"
      ]
     },
     "execution_count": 13,
     "metadata": {},
     "output_type": "execute_result"
    }
   ],
   "source": [
    "gold_standard.head()"
   ]
  },
  {
   "cell_type": "code",
   "execution_count": 14,
   "metadata": {
    "execution": {
     "iopub.execute_input": "2021-04-22T19:40:20.908307Z",
     "iopub.status.busy": "2021-04-22T19:40:20.907934Z",
     "iopub.status.idle": "2021-04-22T19:40:20.916366Z",
     "shell.execute_reply": "2021-04-22T19:40:20.915990Z"
    },
    "papermill": {
     "duration": 0.021316,
     "end_time": "2021-04-22T19:40:20.916449",
     "exception": false,
     "start_time": "2021-04-22T19:40:20.895133",
     "status": "completed"
    },
    "tags": []
   },
   "outputs": [
    {
     "data": {
      "text/plain": [
       "(87,)"
      ]
     },
     "execution_count": 14,
     "metadata": {},
     "output_type": "execute_result"
    }
   ],
   "source": [
    "gold_standard[\"trait\"].unique().shape"
   ]
  },
  {
   "cell_type": "code",
   "execution_count": 15,
   "metadata": {
    "execution": {
     "iopub.execute_input": "2021-04-22T19:40:20.941088Z",
     "iopub.status.busy": "2021-04-22T19:40:20.940675Z",
     "iopub.status.idle": "2021-04-22T19:40:20.948833Z",
     "shell.execute_reply": "2021-04-22T19:40:20.949132Z"
    },
    "papermill": {
     "duration": 0.02159,
     "end_time": "2021-04-22T19:40:20.949235",
     "exception": false,
     "start_time": "2021-04-22T19:40:20.927645",
     "status": "completed"
    },
    "tags": []
   },
   "outputs": [
    {
     "data": {
      "text/plain": [
       "(465,)"
      ]
     },
     "execution_count": 15,
     "metadata": {},
     "output_type": "execute_result"
    }
   ],
   "source": [
    "gold_standard[\"drug\"].unique().shape"
   ]
  },
  {
   "cell_type": "code",
   "execution_count": 16,
   "metadata": {
    "execution": {
     "iopub.execute_input": "2021-04-22T19:40:20.974075Z",
     "iopub.status.busy": "2021-04-22T19:40:20.973698Z",
     "iopub.status.idle": "2021-04-22T19:40:20.982926Z",
     "shell.execute_reply": "2021-04-22T19:40:20.982565Z"
    },
    "papermill": {
     "duration": 0.022586,
     "end_time": "2021-04-22T19:40:20.983009",
     "exception": false,
     "start_time": "2021-04-22T19:40:20.960423",
     "status": "completed"
    },
    "tags": []
   },
   "outputs": [
    {
     "data": {
      "text/plain": [
       "1    755\n",
       "0    243\n",
       "Name: true_class, dtype: int64"
      ]
     },
     "execution_count": 16,
     "metadata": {},
     "output_type": "execute_result"
    }
   ],
   "source": [
    "gold_standard[\"true_class\"].value_counts()"
   ]
  },
  {
   "cell_type": "code",
   "execution_count": 17,
   "metadata": {
    "execution": {
     "iopub.execute_input": "2021-04-22T19:40:21.008014Z",
     "iopub.status.busy": "2021-04-22T19:40:21.007664Z",
     "iopub.status.idle": "2021-04-22T19:40:21.018595Z",
     "shell.execute_reply": "2021-04-22T19:40:21.018870Z"
    },
    "papermill": {
     "duration": 0.024647,
     "end_time": "2021-04-22T19:40:21.018974",
     "exception": false,
     "start_time": "2021-04-22T19:40:20.994327",
     "status": "completed"
    },
    "tags": []
   },
   "outputs": [
    {
     "data": {
      "text/plain": [
       "(998, 3)"
      ]
     },
     "execution_count": 17,
     "metadata": {},
     "output_type": "execute_result"
    }
   ],
   "source": [
    "gold_standard.dropna().shape"
   ]
  },
  {
   "cell_type": "code",
   "execution_count": 18,
   "metadata": {
    "execution": {
     "iopub.execute_input": "2021-04-22T19:40:21.044210Z",
     "iopub.status.busy": "2021-04-22T19:40:21.043859Z",
     "iopub.status.idle": "2021-04-22T19:40:21.050666Z",
     "shell.execute_reply": "2021-04-22T19:40:21.050955Z"
    },
    "papermill": {
     "duration": 0.020475,
     "end_time": "2021-04-22T19:40:21.051050",
     "exception": false,
     "start_time": "2021-04-22T19:40:21.030575",
     "status": "completed"
    },
    "tags": []
   },
   "outputs": [],
   "source": [
    "doids_in_gold_standard = set(gold_standard[\"trait\"].values)"
   ]
  },
  {
   "cell_type": "markdown",
   "metadata": {
    "papermill": {
     "duration": 0.011255,
     "end_time": "2021-04-22T19:40:21.074159",
     "exception": false,
     "start_time": "2021-04-22T19:40:21.062904",
     "status": "completed"
    },
    "tags": []
   },
   "source": [
    "# Save"
   ]
  },
  {
   "cell_type": "code",
   "execution_count": 19,
   "metadata": {
    "execution": {
     "iopub.execute_input": "2021-04-22T19:40:21.099377Z",
     "iopub.status.busy": "2021-04-22T19:40:21.099024Z",
     "iopub.status.idle": "2021-04-22T19:40:21.107037Z",
     "shell.execute_reply": "2021-04-22T19:40:21.106687Z"
    },
    "papermill": {
     "duration": 0.02175,
     "end_time": "2021-04-22T19:40:21.107117",
     "exception": false,
     "start_time": "2021-04-22T19:40:21.085367",
     "status": "completed"
    },
    "tags": []
   },
   "outputs": [
    {
     "data": {
      "text/plain": [
       "PosixPath('/home/miltondp/projects/labs/greenelab/phenoplier/base/results/drug_disease_analyses/gold_standard.pkl')"
      ]
     },
     "metadata": {},
     "output_type": "display_data"
    }
   ],
   "source": [
    "output_file = Path(OUTPUT_DIR, \"gold_standard.pkl\").resolve()\n",
    "display(output_file)"
   ]
  },
  {
   "cell_type": "code",
   "execution_count": 20,
   "metadata": {
    "execution": {
     "iopub.execute_input": "2021-04-22T19:40:21.132967Z",
     "iopub.status.busy": "2021-04-22T19:40:21.132562Z",
     "iopub.status.idle": "2021-04-22T19:40:21.140400Z",
     "shell.execute_reply": "2021-04-22T19:40:21.139998Z"
    },
    "papermill": {
     "duration": 0.021551,
     "end_time": "2021-04-22T19:40:21.140484",
     "exception": false,
     "start_time": "2021-04-22T19:40:21.118933",
     "status": "completed"
    },
    "tags": []
   },
   "outputs": [],
   "source": [
    "gold_standard.to_pickle(output_file)"
   ]
  },
  {
   "cell_type": "code",
   "execution_count": null,
   "metadata": {
    "papermill": {
     "duration": 0.01179,
     "end_time": "2021-04-22T19:40:21.164540",
     "exception": false,
     "start_time": "2021-04-22T19:40:21.152750",
     "status": "completed"
    },
    "tags": []
   },
   "outputs": [],
   "source": []
  }
 ],
 "metadata": {
  "jupytext": {
   "cell_metadata_filter": "all,-execution,-papermill,-trusted",
   "formats": "ipynb,py//py:percent"
  },
  "kernelspec": {
   "display_name": "Python 3",
   "language": "python",
   "name": "python3"
  },
  "language_info": {
   "codemirror_mode": {
    "name": "ipython",
    "version": 3
   },
   "file_extension": ".py",
   "mimetype": "text/x-python",
   "name": "python",
   "nbconvert_exporter": "python",
   "pygments_lexer": "ipython3",
   "version": "3.8.8"
  },
  "papermill": {
   "default_parameters": {},
   "duration": 3.188188,
   "end_time": "2021-04-22T19:40:22.422229",
   "environment_variables": {},
   "exception": null,
   "input_path": "30_drug_disease_associations/005-pharmacotherapydb-build_gold_standard.ipynb",
   "output_path": "30_drug_disease_associations/005-pharmacotherapydb-build_gold_standard.run.ipynb",
   "parameters": {},
   "start_time": "2021-04-22T19:40:19.234041",
   "version": "2.2.2"
  }
 },
 "nbformat": 4,
 "nbformat_minor": 4
}
