{
 "cells": [
  {
   "cell_type": "markdown",
   "metadata": {
    "papermill": {
     "duration": 0.044577,
     "end_time": "2020-12-18T22:38:21.345879",
     "exception": false,
     "start_time": "2020-12-18T22:38:21.301302",
     "status": "completed"
    },
    "tags": []
   },
   "source": [
    "# Description"
   ]
  },
  {
   "cell_type": "markdown",
   "metadata": {
    "papermill": {
     "duration": 0.011764,
     "end_time": "2020-12-18T22:38:21.398073",
     "exception": false,
     "start_time": "2020-12-18T22:38:21.386309",
     "status": "completed"
    },
    "tags": []
   },
   "source": [
    "**TODO**: should probably be moved to preprocessing folder."
   ]
  },
  {
   "cell_type": "markdown",
   "metadata": {
    "papermill": {
     "duration": 0.011799,
     "end_time": "2020-12-18T22:38:21.422136",
     "exception": false,
     "start_time": "2020-12-18T22:38:21.410337",
     "status": "completed"
    },
    "tags": []
   },
   "source": [
    "# Modules loading"
   ]
  },
  {
   "cell_type": "code",
   "execution_count": 1,
   "metadata": {
    "papermill": {
     "duration": 0.022467,
     "end_time": "2020-12-18T22:38:21.456126",
     "exception": false,
     "start_time": "2020-12-18T22:38:21.433659",
     "status": "completed"
    },
    "tags": []
   },
   "outputs": [],
   "source": [
    "%load_ext autoreload\n",
    "%autoreload 2"
   ]
  },
  {
   "cell_type": "code",
   "execution_count": 2,
   "metadata": {
    "papermill": {
     "duration": 0.192251,
     "end_time": "2020-12-18T22:38:21.659996",
     "exception": false,
     "start_time": "2020-12-18T22:38:21.467745",
     "status": "completed"
    },
    "tags": []
   },
   "outputs": [],
   "source": [
    "from pathlib import Path\n",
    "\n",
    "# import numpy as np\n",
    "import pandas as pd\n",
    "\n",
    "import conf\n",
    "# from multiplier import MultiplierProjection\n",
    "from entity import Gene\n",
    "# from data.cache import read_data\n",
    "# from data.hdf5 import simplify_trait_fullcode, HDF5_FILE_PATTERN"
   ]
  },
  {
   "cell_type": "markdown",
   "metadata": {
    "papermill": {
     "duration": 0.011416,
     "end_time": "2020-12-18T22:38:21.683356",
     "exception": false,
     "start_time": "2020-12-18T22:38:21.671940",
     "status": "completed"
    },
    "tags": []
   },
   "source": [
    "# Settings"
   ]
  },
  {
   "cell_type": "code",
   "execution_count": 3,
   "metadata": {},
   "outputs": [
    {
     "data": {
      "text/plain": [
       "PosixPath('/media/miltondp/Elements1/projects/phenoplier/results/drug_disease_analyses')"
      ]
     },
     "metadata": {},
     "output_type": "display_data"
    }
   ],
   "source": [
    "OUTPUT_DIR = conf.RESULTS[\"DRUG_DISEASE_ANALYSES\"]\n",
    "display(OUTPUT_DIR)\n",
    "OUTPUT_DIR.mkdir(parents=True, exist_ok=True)"
   ]
  },
  {
   "cell_type": "code",
   "execution_count": 4,
   "metadata": {},
   "outputs": [
    {
     "data": {
      "text/plain": [
       "PosixPath('/media/miltondp/Elements1/projects/phenoplier/results/drug_disease_analyses/data')"
      ]
     },
     "metadata": {},
     "output_type": "display_data"
    }
   ],
   "source": [
    "OUTPUT_DATA_DIR = Path(OUTPUT_DIR, \"data\")\n",
    "display(OUTPUT_DATA_DIR)\n",
    "OUTPUT_DATA_DIR.mkdir(parents=True, exist_ok=True)"
   ]
  },
  {
   "cell_type": "code",
   "execution_count": 5,
   "metadata": {},
   "outputs": [
    {
     "data": {
      "text/plain": [
       "PosixPath('/media/miltondp/Elements1/projects/phenoplier/results/drug_disease_analyses/data/raw')"
      ]
     },
     "metadata": {},
     "output_type": "display_data"
    }
   ],
   "source": [
    "OUTPUT_RAW_DATA_DIR = Path(OUTPUT_DATA_DIR, \"raw\")\n",
    "display(OUTPUT_RAW_DATA_DIR)\n",
    "OUTPUT_RAW_DATA_DIR.mkdir(parents=True, exist_ok=True)"
   ]
  },
  {
   "cell_type": "code",
   "execution_count": 6,
   "metadata": {},
   "outputs": [
    {
     "data": {
      "text/plain": [
       "PosixPath('/media/miltondp/Elements1/projects/phenoplier/results/drug_disease_analyses/data/proj')"
      ]
     },
     "metadata": {},
     "output_type": "display_data"
    }
   ],
   "source": [
    "OUTPUT_PROJ_DATA_DIR = Path(OUTPUT_DATA_DIR, \"proj\")\n",
    "display(OUTPUT_PROJ_DATA_DIR)\n",
    "OUTPUT_PROJ_DATA_DIR.mkdir(parents=True, exist_ok=True)"
   ]
  },
  {
   "cell_type": "markdown",
   "metadata": {},
   "source": [
    "# Load LINCS consensi drugbank (Daniel)"
   ]
  },
  {
   "cell_type": "code",
   "execution_count": 7,
   "metadata": {},
   "outputs": [
    {
     "data": {
      "text/plain": [
       "PosixPath('/media/miltondp/Elements1/projects/phenoplier/data/hetionet/lincs-v2.0/consensi-drugbank.tsv.bz2')"
      ]
     },
     "metadata": {},
     "output_type": "display_data"
    }
   ],
   "source": [
    "# TODO: hardcoded\n",
    "input_file = Path(\n",
    "    conf.DATA_DIR,\n",
    "    \"hetionet\",\n",
    "    \"lincs-v2.0\",\n",
    "    \"consensi-drugbank.tsv.bz2\"\n",
    ").resolve()\n",
    "\n",
    "display(input_file)"
   ]
  },
  {
   "cell_type": "code",
   "execution_count": 8,
   "metadata": {},
   "outputs": [],
   "source": [
    "lincs_data = pd.read_csv(input_file, sep='\\t', index_col='perturbagen').T"
   ]
  },
  {
   "cell_type": "code",
   "execution_count": 9,
   "metadata": {},
   "outputs": [
    {
     "data": {
      "text/plain": [
       "(7467, 1170)"
      ]
     },
     "execution_count": 9,
     "metadata": {},
     "output_type": "execute_result"
    }
   ],
   "source": [
    "lincs_data.shape"
   ]
  },
  {
   "cell_type": "code",
   "execution_count": 10,
   "metadata": {},
   "outputs": [
    {
     "data": {
      "text/html": [
       "<div>\n",
       "<style scoped>\n",
       "    .dataframe tbody tr th:only-of-type {\n",
       "        vertical-align: middle;\n",
       "    }\n",
       "\n",
       "    .dataframe tbody tr th {\n",
       "        vertical-align: top;\n",
       "    }\n",
       "\n",
       "    .dataframe thead th {\n",
       "        text-align: right;\n",
       "    }\n",
       "</style>\n",
       "<table border=\"1\" class=\"dataframe\">\n",
       "  <thead>\n",
       "    <tr style=\"text-align: right;\">\n",
       "      <th>perturbagen</th>\n",
       "      <th>DB00014</th>\n",
       "      <th>DB00091</th>\n",
       "      <th>DB00121</th>\n",
       "      <th>DB00130</th>\n",
       "      <th>DB00131</th>\n",
       "      <th>DB00132</th>\n",
       "      <th>DB00136</th>\n",
       "      <th>DB00140</th>\n",
       "      <th>DB00146</th>\n",
       "      <th>DB00150</th>\n",
       "      <th>...</th>\n",
       "      <th>DB08995</th>\n",
       "      <th>DB09002</th>\n",
       "      <th>DB09004</th>\n",
       "      <th>DB09009</th>\n",
       "      <th>DB09010</th>\n",
       "      <th>DB09015</th>\n",
       "      <th>DB09019</th>\n",
       "      <th>DB09020</th>\n",
       "      <th>DB09022</th>\n",
       "      <th>DB09023</th>\n",
       "    </tr>\n",
       "  </thead>\n",
       "  <tbody>\n",
       "    <tr>\n",
       "      <th>100</th>\n",
       "      <td>-1.001</td>\n",
       "      <td>-1.835</td>\n",
       "      <td>1.391</td>\n",
       "      <td>1.132</td>\n",
       "      <td>0.257</td>\n",
       "      <td>1.932</td>\n",
       "      <td>0.508</td>\n",
       "      <td>1.408</td>\n",
       "      <td>0.777</td>\n",
       "      <td>0.032</td>\n",
       "      <td>...</td>\n",
       "      <td>-1.692</td>\n",
       "      <td>-0.516</td>\n",
       "      <td>-1.435</td>\n",
       "      <td>-0.317</td>\n",
       "      <td>-0.012</td>\n",
       "      <td>0.641</td>\n",
       "      <td>-0.230</td>\n",
       "      <td>-0.518</td>\n",
       "      <td>-0.177</td>\n",
       "      <td>2.146</td>\n",
       "    </tr>\n",
       "    <tr>\n",
       "      <th>1000</th>\n",
       "      <td>1.146</td>\n",
       "      <td>-1.863</td>\n",
       "      <td>0.011</td>\n",
       "      <td>-1.020</td>\n",
       "      <td>1.143</td>\n",
       "      <td>-0.115</td>\n",
       "      <td>1.327</td>\n",
       "      <td>0.310</td>\n",
       "      <td>-1.853</td>\n",
       "      <td>0.872</td>\n",
       "      <td>...</td>\n",
       "      <td>0.354</td>\n",
       "      <td>0.498</td>\n",
       "      <td>0.268</td>\n",
       "      <td>-1.084</td>\n",
       "      <td>-0.142</td>\n",
       "      <td>-0.077</td>\n",
       "      <td>0.633</td>\n",
       "      <td>-1.807</td>\n",
       "      <td>0.032</td>\n",
       "      <td>0.135</td>\n",
       "    </tr>\n",
       "    <tr>\n",
       "      <th>10000</th>\n",
       "      <td>-0.693</td>\n",
       "      <td>1.694</td>\n",
       "      <td>-0.804</td>\n",
       "      <td>-0.164</td>\n",
       "      <td>1.145</td>\n",
       "      <td>-1.465</td>\n",
       "      <td>1.221</td>\n",
       "      <td>-0.747</td>\n",
       "      <td>0.829</td>\n",
       "      <td>-0.961</td>\n",
       "      <td>...</td>\n",
       "      <td>-1.196</td>\n",
       "      <td>-0.230</td>\n",
       "      <td>-1.049</td>\n",
       "      <td>-0.347</td>\n",
       "      <td>0.586</td>\n",
       "      <td>0.865</td>\n",
       "      <td>-0.021</td>\n",
       "      <td>2.180</td>\n",
       "      <td>-0.956</td>\n",
       "      <td>0.105</td>\n",
       "    </tr>\n",
       "    <tr>\n",
       "      <th>10001</th>\n",
       "      <td>-0.037</td>\n",
       "      <td>0.383</td>\n",
       "      <td>0.269</td>\n",
       "      <td>-0.997</td>\n",
       "      <td>0.185</td>\n",
       "      <td>-0.536</td>\n",
       "      <td>0.424</td>\n",
       "      <td>-0.119</td>\n",
       "      <td>-1.313</td>\n",
       "      <td>0.579</td>\n",
       "      <td>...</td>\n",
       "      <td>-0.343</td>\n",
       "      <td>0.116</td>\n",
       "      <td>-0.245</td>\n",
       "      <td>-0.127</td>\n",
       "      <td>-1.367</td>\n",
       "      <td>0.149</td>\n",
       "      <td>0.117</td>\n",
       "      <td>2.084</td>\n",
       "      <td>1.178</td>\n",
       "      <td>0.772</td>\n",
       "    </tr>\n",
       "    <tr>\n",
       "      <th>10005</th>\n",
       "      <td>0.162</td>\n",
       "      <td>-0.899</td>\n",
       "      <td>0.105</td>\n",
       "      <td>-0.090</td>\n",
       "      <td>-1.291</td>\n",
       "      <td>1.404</td>\n",
       "      <td>0.185</td>\n",
       "      <td>0.157</td>\n",
       "      <td>-0.327</td>\n",
       "      <td>-0.026</td>\n",
       "      <td>...</td>\n",
       "      <td>-0.136</td>\n",
       "      <td>-1.115</td>\n",
       "      <td>-0.280</td>\n",
       "      <td>0.200</td>\n",
       "      <td>0.638</td>\n",
       "      <td>-0.197</td>\n",
       "      <td>-0.360</td>\n",
       "      <td>-2.302</td>\n",
       "      <td>-0.117</td>\n",
       "      <td>-0.167</td>\n",
       "    </tr>\n",
       "  </tbody>\n",
       "</table>\n",
       "<p>5 rows × 1170 columns</p>\n",
       "</div>"
      ],
      "text/plain": [
       "perturbagen  DB00014  DB00091  DB00121  DB00130  DB00131  DB00132  DB00136  \\\n",
       "100           -1.001   -1.835    1.391    1.132    0.257    1.932    0.508   \n",
       "1000           1.146   -1.863    0.011   -1.020    1.143   -0.115    1.327   \n",
       "10000         -0.693    1.694   -0.804   -0.164    1.145   -1.465    1.221   \n",
       "10001         -0.037    0.383    0.269   -0.997    0.185   -0.536    0.424   \n",
       "10005          0.162   -0.899    0.105   -0.090   -1.291    1.404    0.185   \n",
       "\n",
       "perturbagen  DB00140  DB00146  DB00150  ...  DB08995  DB09002  DB09004  \\\n",
       "100            1.408    0.777    0.032  ...   -1.692   -0.516   -1.435   \n",
       "1000           0.310   -1.853    0.872  ...    0.354    0.498    0.268   \n",
       "10000         -0.747    0.829   -0.961  ...   -1.196   -0.230   -1.049   \n",
       "10001         -0.119   -1.313    0.579  ...   -0.343    0.116   -0.245   \n",
       "10005          0.157   -0.327   -0.026  ...   -0.136   -1.115   -0.280   \n",
       "\n",
       "perturbagen  DB09009  DB09010  DB09015  DB09019  DB09020  DB09022  DB09023  \n",
       "100           -0.317   -0.012    0.641   -0.230   -0.518   -0.177    2.146  \n",
       "1000          -1.084   -0.142   -0.077    0.633   -1.807    0.032    0.135  \n",
       "10000         -0.347    0.586    0.865   -0.021    2.180   -0.956    0.105  \n",
       "10001         -0.127   -1.367    0.149    0.117    2.084    1.178    0.772  \n",
       "10005          0.200    0.638   -0.197   -0.360   -2.302   -0.117   -0.167  \n",
       "\n",
       "[5 rows x 1170 columns]"
      ]
     },
     "execution_count": 10,
     "metadata": {},
     "output_type": "execute_result"
    }
   ],
   "source": [
    "lincs_data.head()"
   ]
  },
  {
   "cell_type": "code",
   "execution_count": 11,
   "metadata": {},
   "outputs": [],
   "source": [
    "assert lincs_data.index.is_unique"
   ]
  },
  {
   "cell_type": "code",
   "execution_count": 12,
   "metadata": {},
   "outputs": [],
   "source": [
    "# drubback ids are consistent\n",
    "_tmp = lincs_data.columns.map(len).unique()\n",
    "assert _tmp.shape[0] == 1"
   ]
  },
  {
   "cell_type": "code",
   "execution_count": 13,
   "metadata": {},
   "outputs": [],
   "source": [
    "assert lincs_data.columns.is_unique"
   ]
  },
  {
   "cell_type": "markdown",
   "metadata": {},
   "source": [
    "## Gene IDs to Gene names"
   ]
  },
  {
   "cell_type": "code",
   "execution_count": 14,
   "metadata": {},
   "outputs": [],
   "source": [
    "from rpy2.robjects.packages import importr\n",
    "import rpy2.robjects as robjects\n",
    "from rpy2.robjects import pandas2ri\n",
    "pandas2ri.activate()"
   ]
  },
  {
   "cell_type": "code",
   "execution_count": 15,
   "metadata": {},
   "outputs": [],
   "source": [
    "clusterProfiler = importr(\"clusterProfiler\")"
   ]
  },
  {
   "cell_type": "code",
   "execution_count": 16,
   "metadata": {},
   "outputs": [],
   "source": [
    "# lincs_data = lincs_data.rename(columns=GENE_ENTREZ_ID_TO_SYMBOL).rename(columns=GENE_SYMBOL_TO_ENSEMBL_ID).T"
   ]
  },
  {
   "cell_type": "code",
   "execution_count": 17,
   "metadata": {},
   "outputs": [],
   "source": [
    "# _gene_id_len = lincs_data.index.map(len)"
   ]
  },
  {
   "cell_type": "code",
   "execution_count": 18,
   "metadata": {},
   "outputs": [],
   "source": [
    "# _not_mapped_genes = lincs_data[_gene_id_len != 15].index.copy()"
   ]
  },
  {
   "cell_type": "code",
   "execution_count": 19,
   "metadata": {},
   "outputs": [],
   "source": [
    "# _not_mapped_genes"
   ]
  },
  {
   "cell_type": "code",
   "execution_count": 20,
   "metadata": {},
   "outputs": [
    {
     "name": "stderr",
     "output_type": "stream",
     "text": [
      "R[write to console]: Loading required package: org.Hs.eg.db\n",
      "\n",
      "R[write to console]: Loading required package: AnnotationDbi\n",
      "\n",
      "R[write to console]: Loading required package: stats4\n",
      "\n",
      "R[write to console]: Loading required package: BiocGenerics\n",
      "\n",
      "R[write to console]: Loading required package: parallel\n",
      "\n",
      "R[write to console]: \n",
      "Attaching package: ‘BiocGenerics’\n",
      "\n",
      "\n",
      "R[write to console]: The following objects are masked from ‘package:parallel’:\n",
      "\n",
      "    clusterApply, clusterApplyLB, clusterCall, clusterEvalQ,\n",
      "    clusterExport, clusterMap, parApply, parCapply, parLapply,\n",
      "    parLapplyLB, parRapply, parSapply, parSapplyLB\n",
      "\n",
      "\n",
      "R[write to console]: The following objects are masked from ‘package:stats’:\n",
      "\n",
      "    IQR, mad, sd, var, xtabs\n",
      "\n",
      "\n",
      "R[write to console]: The following objects are masked from ‘package:base’:\n",
      "\n",
      "    anyDuplicated, append, as.data.frame, basename, cbind, colnames,\n",
      "    dirname, do.call, duplicated, eval, evalq, Filter, Find, get, grep,\n",
      "    grepl, intersect, is.unsorted, lapply, Map, mapply, match, mget,\n",
      "    order, paste, pmax, pmax.int, pmin, pmin.int, Position, rank,\n",
      "    rbind, Reduce, rownames, sapply, setdiff, sort, table, tapply,\n",
      "    union, unique, unsplit, which, which.max, which.min\n",
      "\n",
      "\n",
      "R[write to console]: Loading required package: Biobase\n",
      "\n",
      "R[write to console]: Welcome to Bioconductor\n",
      "\n",
      "    Vignettes contain introductory material; view with\n",
      "    'browseVignettes()'. To cite Bioconductor, see\n",
      "    'citation(\"Biobase\")', and for packages 'citation(\"pkgname\")'.\n",
      "\n",
      "\n",
      "R[write to console]: Loading required package: IRanges\n",
      "\n",
      "R[write to console]: Loading required package: S4Vectors\n",
      "\n",
      "R[write to console]: \n",
      "Attaching package: ‘S4Vectors’\n",
      "\n",
      "\n",
      "R[write to console]: The following object is masked from ‘package:base’:\n",
      "\n",
      "    expand.grid\n",
      "\n",
      "\n",
      "R[write to console]: \n",
      "\n",
      "R[write to console]: 'select()' returned 1:many mapping between keys and columns\n",
      "\n"
     ]
    }
   ],
   "source": [
    "_now_mapped_genes = clusterProfiler.bitr(lincs_data.index.tolist(), fromType='ENTREZID', toType='ENSEMBL', OrgDb=\"org.Hs.eg.db\")"
   ]
  },
  {
   "cell_type": "code",
   "execution_count": 21,
   "metadata": {},
   "outputs": [
    {
     "data": {
      "text/plain": [
       "(8259, 2)"
      ]
     },
     "execution_count": 21,
     "metadata": {},
     "output_type": "execute_result"
    }
   ],
   "source": [
    "_now_mapped_genes.shape"
   ]
  },
  {
   "cell_type": "code",
   "execution_count": 22,
   "metadata": {},
   "outputs": [
    {
     "data": {
      "text/html": [
       "<div>\n",
       "<style scoped>\n",
       "    .dataframe tbody tr th:only-of-type {\n",
       "        vertical-align: middle;\n",
       "    }\n",
       "\n",
       "    .dataframe tbody tr th {\n",
       "        vertical-align: top;\n",
       "    }\n",
       "\n",
       "    .dataframe thead th {\n",
       "        text-align: right;\n",
       "    }\n",
       "</style>\n",
       "<table border=\"1\" class=\"dataframe\">\n",
       "  <thead>\n",
       "    <tr style=\"text-align: right;\">\n",
       "      <th></th>\n",
       "      <th>ENTREZID</th>\n",
       "      <th>ENSEMBL</th>\n",
       "    </tr>\n",
       "  </thead>\n",
       "  <tbody>\n",
       "    <tr>\n",
       "      <th>3</th>\n",
       "      <td>10000</td>\n",
       "      <td>ENSG00000117020</td>\n",
       "    </tr>\n",
       "    <tr>\n",
       "      <th>4</th>\n",
       "      <td>10000</td>\n",
       "      <td>ENSG00000275199</td>\n",
       "    </tr>\n",
       "    <tr>\n",
       "      <th>12</th>\n",
       "      <td>100129361</td>\n",
       "      <td>ENSG00000256537</td>\n",
       "    </tr>\n",
       "    <tr>\n",
       "      <th>13</th>\n",
       "      <td>100129361</td>\n",
       "      <td>ENSG00000262986</td>\n",
       "    </tr>\n",
       "    <tr>\n",
       "      <th>14</th>\n",
       "      <td>100129361</td>\n",
       "      <td>ENSG00000281930</td>\n",
       "    </tr>\n",
       "    <tr>\n",
       "      <th>...</th>\n",
       "      <td>...</td>\n",
       "      <td>...</td>\n",
       "    </tr>\n",
       "    <tr>\n",
       "      <th>8202</th>\n",
       "      <td>9859</td>\n",
       "      <td>ENSG00000276725</td>\n",
       "    </tr>\n",
       "    <tr>\n",
       "      <th>8243</th>\n",
       "      <td>9920</td>\n",
       "      <td>ENSG00000176595</td>\n",
       "    </tr>\n",
       "    <tr>\n",
       "      <th>8244</th>\n",
       "      <td>9920</td>\n",
       "      <td>ENSG00000273645</td>\n",
       "    </tr>\n",
       "    <tr>\n",
       "      <th>8288</th>\n",
       "      <td>9994</td>\n",
       "      <td>ENSG00000118412</td>\n",
       "    </tr>\n",
       "    <tr>\n",
       "      <th>8289</th>\n",
       "      <td>9994</td>\n",
       "      <td>ENSG00000288475</td>\n",
       "    </tr>\n",
       "  </tbody>\n",
       "</table>\n",
       "<p>1232 rows × 2 columns</p>\n",
       "</div>"
      ],
      "text/plain": [
       "       ENTREZID          ENSEMBL\n",
       "3         10000  ENSG00000117020\n",
       "4         10000  ENSG00000275199\n",
       "12    100129361  ENSG00000256537\n",
       "13    100129361  ENSG00000262986\n",
       "14    100129361  ENSG00000281930\n",
       "...         ...              ...\n",
       "8202       9859  ENSG00000276725\n",
       "8243       9920  ENSG00000176595\n",
       "8244       9920  ENSG00000273645\n",
       "8288       9994  ENSG00000118412\n",
       "8289       9994  ENSG00000288475\n",
       "\n",
       "[1232 rows x 2 columns]"
      ]
     },
     "metadata": {},
     "output_type": "display_data"
    }
   ],
   "source": [
    "# some genes have entrez ids that map to several ensembl id\n",
    "display(_now_mapped_genes[_now_mapped_genes['ENTREZID'].duplicated(keep=False)])"
   ]
  },
  {
   "cell_type": "code",
   "execution_count": 23,
   "metadata": {},
   "outputs": [],
   "source": [
    "_now_mapped_genes = _now_mapped_genes.assign(in_phenomexcan=_now_mapped_genes['ENSEMBL'].apply(lambda x: x in Gene.GENE_ID_TO_NAME_MAP))"
   ]
  },
  {
   "cell_type": "code",
   "execution_count": 24,
   "metadata": {},
   "outputs": [
    {
     "data": {
      "text/plain": [
       "(7125, 3)"
      ]
     },
     "execution_count": 24,
     "metadata": {},
     "output_type": "execute_result"
    }
   ],
   "source": [
    "_now_mapped_genes[_now_mapped_genes['in_phenomexcan']].shape"
   ]
  },
  {
   "cell_type": "code",
   "execution_count": 25,
   "metadata": {},
   "outputs": [
    {
     "data": {
      "text/html": [
       "<div>\n",
       "<style scoped>\n",
       "    .dataframe tbody tr th:only-of-type {\n",
       "        vertical-align: middle;\n",
       "    }\n",
       "\n",
       "    .dataframe tbody tr th {\n",
       "        vertical-align: top;\n",
       "    }\n",
       "\n",
       "    .dataframe thead th {\n",
       "        text-align: right;\n",
       "    }\n",
       "</style>\n",
       "<table border=\"1\" class=\"dataframe\">\n",
       "  <thead>\n",
       "    <tr style=\"text-align: right;\">\n",
       "      <th></th>\n",
       "      <th>ENTREZID</th>\n",
       "      <th>ENSEMBL</th>\n",
       "      <th>in_phenomexcan</th>\n",
       "    </tr>\n",
       "  </thead>\n",
       "  <tbody>\n",
       "    <tr>\n",
       "      <th>1</th>\n",
       "      <td>100</td>\n",
       "      <td>ENSG00000196839</td>\n",
       "      <td>True</td>\n",
       "    </tr>\n",
       "    <tr>\n",
       "      <th>2</th>\n",
       "      <td>1000</td>\n",
       "      <td>ENSG00000170558</td>\n",
       "      <td>True</td>\n",
       "    </tr>\n",
       "    <tr>\n",
       "      <th>3</th>\n",
       "      <td>10000</td>\n",
       "      <td>ENSG00000117020</td>\n",
       "      <td>True</td>\n",
       "    </tr>\n",
       "    <tr>\n",
       "      <th>4</th>\n",
       "      <td>10000</td>\n",
       "      <td>ENSG00000275199</td>\n",
       "      <td>False</td>\n",
       "    </tr>\n",
       "    <tr>\n",
       "      <th>5</th>\n",
       "      <td>10001</td>\n",
       "      <td>ENSG00000133997</td>\n",
       "      <td>True</td>\n",
       "    </tr>\n",
       "  </tbody>\n",
       "</table>\n",
       "</div>"
      ],
      "text/plain": [
       "  ENTREZID          ENSEMBL  in_phenomexcan\n",
       "1      100  ENSG00000196839            True\n",
       "2     1000  ENSG00000170558            True\n",
       "3    10000  ENSG00000117020            True\n",
       "4    10000  ENSG00000275199           False\n",
       "5    10001  ENSG00000133997            True"
      ]
     },
     "execution_count": 25,
     "metadata": {},
     "output_type": "execute_result"
    }
   ],
   "source": [
    "_now_mapped_genes.head()"
   ]
  },
  {
   "cell_type": "code",
   "execution_count": 26,
   "metadata": {},
   "outputs": [],
   "source": [
    "_now_mapped_genes = _now_mapped_genes[_now_mapped_genes['in_phenomexcan']].drop_duplicates(subset=['ENTREZID'])"
   ]
  },
  {
   "cell_type": "code",
   "execution_count": 27,
   "metadata": {},
   "outputs": [
    {
     "data": {
      "text/plain": [
       "(7120, 3)"
      ]
     },
     "execution_count": 27,
     "metadata": {},
     "output_type": "execute_result"
    }
   ],
   "source": [
    "_now_mapped_genes.shape"
   ]
  },
  {
   "cell_type": "code",
   "execution_count": 28,
   "metadata": {},
   "outputs": [
    {
     "data": {
      "text/html": [
       "<div>\n",
       "<style scoped>\n",
       "    .dataframe tbody tr th:only-of-type {\n",
       "        vertical-align: middle;\n",
       "    }\n",
       "\n",
       "    .dataframe tbody tr th {\n",
       "        vertical-align: top;\n",
       "    }\n",
       "\n",
       "    .dataframe thead th {\n",
       "        text-align: right;\n",
       "    }\n",
       "</style>\n",
       "<table border=\"1\" class=\"dataframe\">\n",
       "  <thead>\n",
       "    <tr style=\"text-align: right;\">\n",
       "      <th></th>\n",
       "      <th>ENTREZID</th>\n",
       "      <th>ENSEMBL</th>\n",
       "      <th>in_phenomexcan</th>\n",
       "    </tr>\n",
       "  </thead>\n",
       "  <tbody>\n",
       "    <tr>\n",
       "      <th>1</th>\n",
       "      <td>100</td>\n",
       "      <td>ENSG00000196839</td>\n",
       "      <td>True</td>\n",
       "    </tr>\n",
       "    <tr>\n",
       "      <th>2</th>\n",
       "      <td>1000</td>\n",
       "      <td>ENSG00000170558</td>\n",
       "      <td>True</td>\n",
       "    </tr>\n",
       "    <tr>\n",
       "      <th>3</th>\n",
       "      <td>10000</td>\n",
       "      <td>ENSG00000117020</td>\n",
       "      <td>True</td>\n",
       "    </tr>\n",
       "    <tr>\n",
       "      <th>5</th>\n",
       "      <td>10001</td>\n",
       "      <td>ENSG00000133997</td>\n",
       "      <td>True</td>\n",
       "    </tr>\n",
       "    <tr>\n",
       "      <th>6</th>\n",
       "      <td>10005</td>\n",
       "      <td>ENSG00000101473</td>\n",
       "      <td>True</td>\n",
       "    </tr>\n",
       "  </tbody>\n",
       "</table>\n",
       "</div>"
      ],
      "text/plain": [
       "  ENTREZID          ENSEMBL  in_phenomexcan\n",
       "1      100  ENSG00000196839            True\n",
       "2     1000  ENSG00000170558            True\n",
       "3    10000  ENSG00000117020            True\n",
       "5    10001  ENSG00000133997            True\n",
       "6    10005  ENSG00000101473            True"
      ]
     },
     "execution_count": 28,
     "metadata": {},
     "output_type": "execute_result"
    }
   ],
   "source": [
    "_now_mapped_genes.head()"
   ]
  },
  {
   "cell_type": "code",
   "execution_count": 29,
   "metadata": {},
   "outputs": [],
   "source": [
    "_now_mapped_genes_dict = _now_mapped_genes.set_index('ENTREZID').to_dict()['ENSEMBL']"
   ]
  },
  {
   "cell_type": "code",
   "execution_count": 30,
   "metadata": {},
   "outputs": [],
   "source": [
    "lincs_data = lincs_data.loc[_now_mapped_genes_dict.keys()].rename(index=_now_mapped_genes_dict)"
   ]
  },
  {
   "cell_type": "code",
   "execution_count": 31,
   "metadata": {},
   "outputs": [
    {
     "data": {
      "text/html": [
       "<div>\n",
       "<style scoped>\n",
       "    .dataframe tbody tr th:only-of-type {\n",
       "        vertical-align: middle;\n",
       "    }\n",
       "\n",
       "    .dataframe tbody tr th {\n",
       "        vertical-align: top;\n",
       "    }\n",
       "\n",
       "    .dataframe thead th {\n",
       "        text-align: right;\n",
       "    }\n",
       "</style>\n",
       "<table border=\"1\" class=\"dataframe\">\n",
       "  <thead>\n",
       "    <tr style=\"text-align: right;\">\n",
       "      <th>perturbagen</th>\n",
       "      <th>DB00014</th>\n",
       "      <th>DB00091</th>\n",
       "      <th>DB00121</th>\n",
       "      <th>DB00130</th>\n",
       "      <th>DB00131</th>\n",
       "      <th>DB00132</th>\n",
       "      <th>DB00136</th>\n",
       "      <th>DB00140</th>\n",
       "      <th>DB00146</th>\n",
       "      <th>DB00150</th>\n",
       "      <th>...</th>\n",
       "      <th>DB08995</th>\n",
       "      <th>DB09002</th>\n",
       "      <th>DB09004</th>\n",
       "      <th>DB09009</th>\n",
       "      <th>DB09010</th>\n",
       "      <th>DB09015</th>\n",
       "      <th>DB09019</th>\n",
       "      <th>DB09020</th>\n",
       "      <th>DB09022</th>\n",
       "      <th>DB09023</th>\n",
       "    </tr>\n",
       "  </thead>\n",
       "  <tbody>\n",
       "    <tr>\n",
       "      <th>ENSG00000196839</th>\n",
       "      <td>-1.001</td>\n",
       "      <td>-1.835</td>\n",
       "      <td>1.391</td>\n",
       "      <td>1.132</td>\n",
       "      <td>0.257</td>\n",
       "      <td>1.932</td>\n",
       "      <td>0.508</td>\n",
       "      <td>1.408</td>\n",
       "      <td>0.777</td>\n",
       "      <td>0.032</td>\n",
       "      <td>...</td>\n",
       "      <td>-1.692</td>\n",
       "      <td>-0.516</td>\n",
       "      <td>-1.435</td>\n",
       "      <td>-0.317</td>\n",
       "      <td>-0.012</td>\n",
       "      <td>0.641</td>\n",
       "      <td>-0.230</td>\n",
       "      <td>-0.518</td>\n",
       "      <td>-0.177</td>\n",
       "      <td>2.146</td>\n",
       "    </tr>\n",
       "    <tr>\n",
       "      <th>ENSG00000170558</th>\n",
       "      <td>1.146</td>\n",
       "      <td>-1.863</td>\n",
       "      <td>0.011</td>\n",
       "      <td>-1.020</td>\n",
       "      <td>1.143</td>\n",
       "      <td>-0.115</td>\n",
       "      <td>1.327</td>\n",
       "      <td>0.310</td>\n",
       "      <td>-1.853</td>\n",
       "      <td>0.872</td>\n",
       "      <td>...</td>\n",
       "      <td>0.354</td>\n",
       "      <td>0.498</td>\n",
       "      <td>0.268</td>\n",
       "      <td>-1.084</td>\n",
       "      <td>-0.142</td>\n",
       "      <td>-0.077</td>\n",
       "      <td>0.633</td>\n",
       "      <td>-1.807</td>\n",
       "      <td>0.032</td>\n",
       "      <td>0.135</td>\n",
       "    </tr>\n",
       "    <tr>\n",
       "      <th>ENSG00000117020</th>\n",
       "      <td>-0.693</td>\n",
       "      <td>1.694</td>\n",
       "      <td>-0.804</td>\n",
       "      <td>-0.164</td>\n",
       "      <td>1.145</td>\n",
       "      <td>-1.465</td>\n",
       "      <td>1.221</td>\n",
       "      <td>-0.747</td>\n",
       "      <td>0.829</td>\n",
       "      <td>-0.961</td>\n",
       "      <td>...</td>\n",
       "      <td>-1.196</td>\n",
       "      <td>-0.230</td>\n",
       "      <td>-1.049</td>\n",
       "      <td>-0.347</td>\n",
       "      <td>0.586</td>\n",
       "      <td>0.865</td>\n",
       "      <td>-0.021</td>\n",
       "      <td>2.180</td>\n",
       "      <td>-0.956</td>\n",
       "      <td>0.105</td>\n",
       "    </tr>\n",
       "    <tr>\n",
       "      <th>ENSG00000133997</th>\n",
       "      <td>-0.037</td>\n",
       "      <td>0.383</td>\n",
       "      <td>0.269</td>\n",
       "      <td>-0.997</td>\n",
       "      <td>0.185</td>\n",
       "      <td>-0.536</td>\n",
       "      <td>0.424</td>\n",
       "      <td>-0.119</td>\n",
       "      <td>-1.313</td>\n",
       "      <td>0.579</td>\n",
       "      <td>...</td>\n",
       "      <td>-0.343</td>\n",
       "      <td>0.116</td>\n",
       "      <td>-0.245</td>\n",
       "      <td>-0.127</td>\n",
       "      <td>-1.367</td>\n",
       "      <td>0.149</td>\n",
       "      <td>0.117</td>\n",
       "      <td>2.084</td>\n",
       "      <td>1.178</td>\n",
       "      <td>0.772</td>\n",
       "    </tr>\n",
       "    <tr>\n",
       "      <th>ENSG00000101473</th>\n",
       "      <td>0.162</td>\n",
       "      <td>-0.899</td>\n",
       "      <td>0.105</td>\n",
       "      <td>-0.090</td>\n",
       "      <td>-1.291</td>\n",
       "      <td>1.404</td>\n",
       "      <td>0.185</td>\n",
       "      <td>0.157</td>\n",
       "      <td>-0.327</td>\n",
       "      <td>-0.026</td>\n",
       "      <td>...</td>\n",
       "      <td>-0.136</td>\n",
       "      <td>-1.115</td>\n",
       "      <td>-0.280</td>\n",
       "      <td>0.200</td>\n",
       "      <td>0.638</td>\n",
       "      <td>-0.197</td>\n",
       "      <td>-0.360</td>\n",
       "      <td>-2.302</td>\n",
       "      <td>-0.117</td>\n",
       "      <td>-0.167</td>\n",
       "    </tr>\n",
       "  </tbody>\n",
       "</table>\n",
       "<p>5 rows × 1170 columns</p>\n",
       "</div>"
      ],
      "text/plain": [
       "perturbagen      DB00014  DB00091  DB00121  DB00130  DB00131  DB00132  \\\n",
       "ENSG00000196839   -1.001   -1.835    1.391    1.132    0.257    1.932   \n",
       "ENSG00000170558    1.146   -1.863    0.011   -1.020    1.143   -0.115   \n",
       "ENSG00000117020   -0.693    1.694   -0.804   -0.164    1.145   -1.465   \n",
       "ENSG00000133997   -0.037    0.383    0.269   -0.997    0.185   -0.536   \n",
       "ENSG00000101473    0.162   -0.899    0.105   -0.090   -1.291    1.404   \n",
       "\n",
       "perturbagen      DB00136  DB00140  DB00146  DB00150  ...  DB08995  DB09002  \\\n",
       "ENSG00000196839    0.508    1.408    0.777    0.032  ...   -1.692   -0.516   \n",
       "ENSG00000170558    1.327    0.310   -1.853    0.872  ...    0.354    0.498   \n",
       "ENSG00000117020    1.221   -0.747    0.829   -0.961  ...   -1.196   -0.230   \n",
       "ENSG00000133997    0.424   -0.119   -1.313    0.579  ...   -0.343    0.116   \n",
       "ENSG00000101473    0.185    0.157   -0.327   -0.026  ...   -0.136   -1.115   \n",
       "\n",
       "perturbagen      DB09004  DB09009  DB09010  DB09015  DB09019  DB09020  \\\n",
       "ENSG00000196839   -1.435   -0.317   -0.012    0.641   -0.230   -0.518   \n",
       "ENSG00000170558    0.268   -1.084   -0.142   -0.077    0.633   -1.807   \n",
       "ENSG00000117020   -1.049   -0.347    0.586    0.865   -0.021    2.180   \n",
       "ENSG00000133997   -0.245   -0.127   -1.367    0.149    0.117    2.084   \n",
       "ENSG00000101473   -0.280    0.200    0.638   -0.197   -0.360   -2.302   \n",
       "\n",
       "perturbagen      DB09022  DB09023  \n",
       "ENSG00000196839   -0.177    2.146  \n",
       "ENSG00000170558    0.032    0.135  \n",
       "ENSG00000117020   -0.956    0.105  \n",
       "ENSG00000133997    1.178    0.772  \n",
       "ENSG00000101473   -0.117   -0.167  \n",
       "\n",
       "[5 rows x 1170 columns]"
      ]
     },
     "execution_count": 31,
     "metadata": {},
     "output_type": "execute_result"
    }
   ],
   "source": [
    "lincs_data.head()"
   ]
  },
  {
   "cell_type": "code",
   "execution_count": 32,
   "metadata": {},
   "outputs": [
    {
     "data": {
      "text/plain": [
       "15    7120\n",
       "dtype: int64"
      ]
     },
     "metadata": {},
     "output_type": "display_data"
    }
   ],
   "source": [
    "# make sure we have ensembl id only in the index\n",
    "_tmp = pd.Series(lincs_data.index.map(len)).value_counts()\n",
    "display(_tmp)\n",
    "assert _tmp.shape[0] == 1"
   ]
  },
  {
   "cell_type": "code",
   "execution_count": 33,
   "metadata": {},
   "outputs": [
    {
     "data": {
      "text/html": [
       "<div>\n",
       "<style scoped>\n",
       "    .dataframe tbody tr th:only-of-type {\n",
       "        vertical-align: middle;\n",
       "    }\n",
       "\n",
       "    .dataframe tbody tr th {\n",
       "        vertical-align: top;\n",
       "    }\n",
       "\n",
       "    .dataframe thead th {\n",
       "        text-align: right;\n",
       "    }\n",
       "</style>\n",
       "<table border=\"1\" class=\"dataframe\">\n",
       "  <thead>\n",
       "    <tr style=\"text-align: right;\">\n",
       "      <th>perturbagen</th>\n",
       "      <th>DB00014</th>\n",
       "      <th>DB00091</th>\n",
       "      <th>DB00121</th>\n",
       "      <th>DB00130</th>\n",
       "      <th>DB00131</th>\n",
       "      <th>DB00132</th>\n",
       "      <th>DB00136</th>\n",
       "      <th>DB00140</th>\n",
       "      <th>DB00146</th>\n",
       "      <th>DB00150</th>\n",
       "      <th>...</th>\n",
       "      <th>DB08995</th>\n",
       "      <th>DB09002</th>\n",
       "      <th>DB09004</th>\n",
       "      <th>DB09009</th>\n",
       "      <th>DB09010</th>\n",
       "      <th>DB09015</th>\n",
       "      <th>DB09019</th>\n",
       "      <th>DB09020</th>\n",
       "      <th>DB09022</th>\n",
       "      <th>DB09023</th>\n",
       "    </tr>\n",
       "  </thead>\n",
       "  <tbody>\n",
       "    <tr>\n",
       "      <th>ENSG00000196839</th>\n",
       "      <td>-1.001</td>\n",
       "      <td>-1.835</td>\n",
       "      <td>1.391</td>\n",
       "      <td>1.132</td>\n",
       "      <td>0.257</td>\n",
       "      <td>1.932</td>\n",
       "      <td>0.508</td>\n",
       "      <td>1.408</td>\n",
       "      <td>0.777</td>\n",
       "      <td>0.032</td>\n",
       "      <td>...</td>\n",
       "      <td>-1.692</td>\n",
       "      <td>-0.516</td>\n",
       "      <td>-1.435</td>\n",
       "      <td>-0.317</td>\n",
       "      <td>-0.012</td>\n",
       "      <td>0.641</td>\n",
       "      <td>-0.230</td>\n",
       "      <td>-0.518</td>\n",
       "      <td>-0.177</td>\n",
       "      <td>2.146</td>\n",
       "    </tr>\n",
       "    <tr>\n",
       "      <th>ENSG00000170558</th>\n",
       "      <td>1.146</td>\n",
       "      <td>-1.863</td>\n",
       "      <td>0.011</td>\n",
       "      <td>-1.020</td>\n",
       "      <td>1.143</td>\n",
       "      <td>-0.115</td>\n",
       "      <td>1.327</td>\n",
       "      <td>0.310</td>\n",
       "      <td>-1.853</td>\n",
       "      <td>0.872</td>\n",
       "      <td>...</td>\n",
       "      <td>0.354</td>\n",
       "      <td>0.498</td>\n",
       "      <td>0.268</td>\n",
       "      <td>-1.084</td>\n",
       "      <td>-0.142</td>\n",
       "      <td>-0.077</td>\n",
       "      <td>0.633</td>\n",
       "      <td>-1.807</td>\n",
       "      <td>0.032</td>\n",
       "      <td>0.135</td>\n",
       "    </tr>\n",
       "    <tr>\n",
       "      <th>ENSG00000117020</th>\n",
       "      <td>-0.693</td>\n",
       "      <td>1.694</td>\n",
       "      <td>-0.804</td>\n",
       "      <td>-0.164</td>\n",
       "      <td>1.145</td>\n",
       "      <td>-1.465</td>\n",
       "      <td>1.221</td>\n",
       "      <td>-0.747</td>\n",
       "      <td>0.829</td>\n",
       "      <td>-0.961</td>\n",
       "      <td>...</td>\n",
       "      <td>-1.196</td>\n",
       "      <td>-0.230</td>\n",
       "      <td>-1.049</td>\n",
       "      <td>-0.347</td>\n",
       "      <td>0.586</td>\n",
       "      <td>0.865</td>\n",
       "      <td>-0.021</td>\n",
       "      <td>2.180</td>\n",
       "      <td>-0.956</td>\n",
       "      <td>0.105</td>\n",
       "    </tr>\n",
       "    <tr>\n",
       "      <th>ENSG00000133997</th>\n",
       "      <td>-0.037</td>\n",
       "      <td>0.383</td>\n",
       "      <td>0.269</td>\n",
       "      <td>-0.997</td>\n",
       "      <td>0.185</td>\n",
       "      <td>-0.536</td>\n",
       "      <td>0.424</td>\n",
       "      <td>-0.119</td>\n",
       "      <td>-1.313</td>\n",
       "      <td>0.579</td>\n",
       "      <td>...</td>\n",
       "      <td>-0.343</td>\n",
       "      <td>0.116</td>\n",
       "      <td>-0.245</td>\n",
       "      <td>-0.127</td>\n",
       "      <td>-1.367</td>\n",
       "      <td>0.149</td>\n",
       "      <td>0.117</td>\n",
       "      <td>2.084</td>\n",
       "      <td>1.178</td>\n",
       "      <td>0.772</td>\n",
       "    </tr>\n",
       "    <tr>\n",
       "      <th>ENSG00000101473</th>\n",
       "      <td>0.162</td>\n",
       "      <td>-0.899</td>\n",
       "      <td>0.105</td>\n",
       "      <td>-0.090</td>\n",
       "      <td>-1.291</td>\n",
       "      <td>1.404</td>\n",
       "      <td>0.185</td>\n",
       "      <td>0.157</td>\n",
       "      <td>-0.327</td>\n",
       "      <td>-0.026</td>\n",
       "      <td>...</td>\n",
       "      <td>-0.136</td>\n",
       "      <td>-1.115</td>\n",
       "      <td>-0.280</td>\n",
       "      <td>0.200</td>\n",
       "      <td>0.638</td>\n",
       "      <td>-0.197</td>\n",
       "      <td>-0.360</td>\n",
       "      <td>-2.302</td>\n",
       "      <td>-0.117</td>\n",
       "      <td>-0.167</td>\n",
       "    </tr>\n",
       "  </tbody>\n",
       "</table>\n",
       "<p>5 rows × 1170 columns</p>\n",
       "</div>"
      ],
      "text/plain": [
       "perturbagen      DB00014  DB00091  DB00121  DB00130  DB00131  DB00132  \\\n",
       "ENSG00000196839   -1.001   -1.835    1.391    1.132    0.257    1.932   \n",
       "ENSG00000170558    1.146   -1.863    0.011   -1.020    1.143   -0.115   \n",
       "ENSG00000117020   -0.693    1.694   -0.804   -0.164    1.145   -1.465   \n",
       "ENSG00000133997   -0.037    0.383    0.269   -0.997    0.185   -0.536   \n",
       "ENSG00000101473    0.162   -0.899    0.105   -0.090   -1.291    1.404   \n",
       "\n",
       "perturbagen      DB00136  DB00140  DB00146  DB00150  ...  DB08995  DB09002  \\\n",
       "ENSG00000196839    0.508    1.408    0.777    0.032  ...   -1.692   -0.516   \n",
       "ENSG00000170558    1.327    0.310   -1.853    0.872  ...    0.354    0.498   \n",
       "ENSG00000117020    1.221   -0.747    0.829   -0.961  ...   -1.196   -0.230   \n",
       "ENSG00000133997    0.424   -0.119   -1.313    0.579  ...   -0.343    0.116   \n",
       "ENSG00000101473    0.185    0.157   -0.327   -0.026  ...   -0.136   -1.115   \n",
       "\n",
       "perturbagen      DB09004  DB09009  DB09010  DB09015  DB09019  DB09020  \\\n",
       "ENSG00000196839   -1.435   -0.317   -0.012    0.641   -0.230   -0.518   \n",
       "ENSG00000170558    0.268   -1.084   -0.142   -0.077    0.633   -1.807   \n",
       "ENSG00000117020   -1.049   -0.347    0.586    0.865   -0.021    2.180   \n",
       "ENSG00000133997   -0.245   -0.127   -1.367    0.149    0.117    2.084   \n",
       "ENSG00000101473   -0.280    0.200    0.638   -0.197   -0.360   -2.302   \n",
       "\n",
       "perturbagen      DB09022  DB09023  \n",
       "ENSG00000196839   -0.177    2.146  \n",
       "ENSG00000170558    0.032    0.135  \n",
       "ENSG00000117020   -0.956    0.105  \n",
       "ENSG00000133997    1.178    0.772  \n",
       "ENSG00000101473   -0.117   -0.167  \n",
       "\n",
       "[5 rows x 1170 columns]"
      ]
     },
     "execution_count": 33,
     "metadata": {},
     "output_type": "execute_result"
    }
   ],
   "source": [
    "lincs_data.head()"
   ]
  },
  {
   "cell_type": "markdown",
   "metadata": {},
   "source": [
    "## Remove NaN values"
   ]
  },
  {
   "cell_type": "code",
   "execution_count": 34,
   "metadata": {},
   "outputs": [],
   "source": [
    "assert not lincs_data.isna().any().any()"
   ]
  },
  {
   "cell_type": "markdown",
   "metadata": {},
   "source": [
    "## Save"
   ]
  },
  {
   "cell_type": "code",
   "execution_count": 35,
   "metadata": {},
   "outputs": [
    {
     "data": {
      "text/plain": [
       "PosixPath('/media/miltondp/Elements1/projects/phenoplier/results/drug_disease_analyses/data/raw/lincs-data.pkl')"
      ]
     },
     "metadata": {},
     "output_type": "display_data"
    }
   ],
   "source": [
    "output_file = Path(\n",
    "    OUTPUT_RAW_DATA_DIR,\n",
    "    \"lincs-data.pkl\"\n",
    ").resolve()\n",
    "display(output_file)"
   ]
  },
  {
   "cell_type": "code",
   "execution_count": 36,
   "metadata": {},
   "outputs": [],
   "source": [
    "lincs_data.to_pickle(output_file)"
   ]
  },
  {
   "cell_type": "markdown",
   "metadata": {},
   "source": [
    "# Project into MultiPLIER"
   ]
  },
  {
   "cell_type": "code",
   "execution_count": 37,
   "metadata": {},
   "outputs": [],
   "source": [
    "from multiplier import MultiplierProjection"
   ]
  },
  {
   "cell_type": "code",
   "execution_count": 38,
   "metadata": {},
   "outputs": [],
   "source": [
    "mproj = MultiplierProjection()"
   ]
  },
  {
   "cell_type": "code",
   "execution_count": 39,
   "metadata": {},
   "outputs": [],
   "source": [
    "lincs_projection = mproj.transform(lincs_data)"
   ]
  },
  {
   "cell_type": "code",
   "execution_count": 40,
   "metadata": {},
   "outputs": [
    {
     "data": {
      "text/plain": [
       "(987, 1170)"
      ]
     },
     "execution_count": 40,
     "metadata": {},
     "output_type": "execute_result"
    }
   ],
   "source": [
    "lincs_projection.shape"
   ]
  },
  {
   "cell_type": "code",
   "execution_count": 41,
   "metadata": {},
   "outputs": [
    {
     "data": {
      "text/html": [
       "<div>\n",
       "<style scoped>\n",
       "    .dataframe tbody tr th:only-of-type {\n",
       "        vertical-align: middle;\n",
       "    }\n",
       "\n",
       "    .dataframe tbody tr th {\n",
       "        vertical-align: top;\n",
       "    }\n",
       "\n",
       "    .dataframe thead th {\n",
       "        text-align: right;\n",
       "    }\n",
       "</style>\n",
       "<table border=\"1\" class=\"dataframe\">\n",
       "  <thead>\n",
       "    <tr style=\"text-align: right;\">\n",
       "      <th>perturbagen</th>\n",
       "      <th>DB00014</th>\n",
       "      <th>DB00091</th>\n",
       "      <th>DB00121</th>\n",
       "      <th>DB00130</th>\n",
       "      <th>DB00131</th>\n",
       "      <th>DB00132</th>\n",
       "      <th>DB00136</th>\n",
       "      <th>DB00140</th>\n",
       "      <th>DB00146</th>\n",
       "      <th>DB00150</th>\n",
       "      <th>...</th>\n",
       "      <th>DB08995</th>\n",
       "      <th>DB09002</th>\n",
       "      <th>DB09004</th>\n",
       "      <th>DB09009</th>\n",
       "      <th>DB09010</th>\n",
       "      <th>DB09015</th>\n",
       "      <th>DB09019</th>\n",
       "      <th>DB09020</th>\n",
       "      <th>DB09022</th>\n",
       "      <th>DB09023</th>\n",
       "    </tr>\n",
       "  </thead>\n",
       "  <tbody>\n",
       "    <tr>\n",
       "      <th>LV1</th>\n",
       "      <td>0.036115</td>\n",
       "      <td>-0.358610</td>\n",
       "      <td>0.091067</td>\n",
       "      <td>0.008923</td>\n",
       "      <td>0.046469</td>\n",
       "      <td>0.136747</td>\n",
       "      <td>0.036151</td>\n",
       "      <td>0.034024</td>\n",
       "      <td>-0.027445</td>\n",
       "      <td>0.060644</td>\n",
       "      <td>...</td>\n",
       "      <td>0.069930</td>\n",
       "      <td>0.021537</td>\n",
       "      <td>0.020511</td>\n",
       "      <td>-0.006250</td>\n",
       "      <td>-0.002660</td>\n",
       "      <td>-0.017210</td>\n",
       "      <td>-0.004029</td>\n",
       "      <td>-0.145490</td>\n",
       "      <td>0.102504</td>\n",
       "      <td>0.057621</td>\n",
       "    </tr>\n",
       "    <tr>\n",
       "      <th>LV2</th>\n",
       "      <td>0.012281</td>\n",
       "      <td>0.009738</td>\n",
       "      <td>0.004650</td>\n",
       "      <td>-0.006554</td>\n",
       "      <td>0.021758</td>\n",
       "      <td>0.010425</td>\n",
       "      <td>0.000794</td>\n",
       "      <td>-0.000603</td>\n",
       "      <td>0.011534</td>\n",
       "      <td>-0.004425</td>\n",
       "      <td>...</td>\n",
       "      <td>0.000344</td>\n",
       "      <td>0.001123</td>\n",
       "      <td>-0.012675</td>\n",
       "      <td>-0.004849</td>\n",
       "      <td>0.000375</td>\n",
       "      <td>0.002623</td>\n",
       "      <td>-0.003252</td>\n",
       "      <td>-0.066209</td>\n",
       "      <td>0.025378</td>\n",
       "      <td>0.012453</td>\n",
       "    </tr>\n",
       "    <tr>\n",
       "      <th>LV3</th>\n",
       "      <td>-0.005533</td>\n",
       "      <td>-0.059174</td>\n",
       "      <td>0.013454</td>\n",
       "      <td>0.008906</td>\n",
       "      <td>-0.004939</td>\n",
       "      <td>0.033663</td>\n",
       "      <td>-0.010045</td>\n",
       "      <td>0.003824</td>\n",
       "      <td>0.009814</td>\n",
       "      <td>-0.007492</td>\n",
       "      <td>...</td>\n",
       "      <td>-0.021941</td>\n",
       "      <td>-0.002417</td>\n",
       "      <td>0.000155</td>\n",
       "      <td>0.002941</td>\n",
       "      <td>-0.015100</td>\n",
       "      <td>-0.016372</td>\n",
       "      <td>0.012249</td>\n",
       "      <td>0.009216</td>\n",
       "      <td>0.018254</td>\n",
       "      <td>-0.003516</td>\n",
       "    </tr>\n",
       "    <tr>\n",
       "      <th>LV4</th>\n",
       "      <td>-0.004151</td>\n",
       "      <td>-0.032884</td>\n",
       "      <td>0.005934</td>\n",
       "      <td>-0.003991</td>\n",
       "      <td>-0.028524</td>\n",
       "      <td>0.002709</td>\n",
       "      <td>0.007001</td>\n",
       "      <td>0.024704</td>\n",
       "      <td>0.005058</td>\n",
       "      <td>-0.004345</td>\n",
       "      <td>...</td>\n",
       "      <td>0.013806</td>\n",
       "      <td>0.003197</td>\n",
       "      <td>0.013099</td>\n",
       "      <td>0.002643</td>\n",
       "      <td>-0.008836</td>\n",
       "      <td>0.023852</td>\n",
       "      <td>0.028957</td>\n",
       "      <td>0.014681</td>\n",
       "      <td>0.000826</td>\n",
       "      <td>-0.009739</td>\n",
       "    </tr>\n",
       "    <tr>\n",
       "      <th>LV5</th>\n",
       "      <td>-0.015156</td>\n",
       "      <td>-0.005276</td>\n",
       "      <td>0.025747</td>\n",
       "      <td>0.000346</td>\n",
       "      <td>-0.013932</td>\n",
       "      <td>-0.010911</td>\n",
       "      <td>0.041403</td>\n",
       "      <td>-0.018285</td>\n",
       "      <td>0.003507</td>\n",
       "      <td>-0.007621</td>\n",
       "      <td>...</td>\n",
       "      <td>-0.011577</td>\n",
       "      <td>-0.015956</td>\n",
       "      <td>-0.027614</td>\n",
       "      <td>-0.001707</td>\n",
       "      <td>-0.000542</td>\n",
       "      <td>-0.016918</td>\n",
       "      <td>0.001959</td>\n",
       "      <td>0.024147</td>\n",
       "      <td>0.013004</td>\n",
       "      <td>-0.014166</td>\n",
       "    </tr>\n",
       "  </tbody>\n",
       "</table>\n",
       "<p>5 rows × 1170 columns</p>\n",
       "</div>"
      ],
      "text/plain": [
       "perturbagen   DB00014   DB00091   DB00121   DB00130   DB00131   DB00132  \\\n",
       "LV1          0.036115 -0.358610  0.091067  0.008923  0.046469  0.136747   \n",
       "LV2          0.012281  0.009738  0.004650 -0.006554  0.021758  0.010425   \n",
       "LV3         -0.005533 -0.059174  0.013454  0.008906 -0.004939  0.033663   \n",
       "LV4         -0.004151 -0.032884  0.005934 -0.003991 -0.028524  0.002709   \n",
       "LV5         -0.015156 -0.005276  0.025747  0.000346 -0.013932 -0.010911   \n",
       "\n",
       "perturbagen   DB00136   DB00140   DB00146   DB00150  ...   DB08995   DB09002  \\\n",
       "LV1          0.036151  0.034024 -0.027445  0.060644  ...  0.069930  0.021537   \n",
       "LV2          0.000794 -0.000603  0.011534 -0.004425  ...  0.000344  0.001123   \n",
       "LV3         -0.010045  0.003824  0.009814 -0.007492  ... -0.021941 -0.002417   \n",
       "LV4          0.007001  0.024704  0.005058 -0.004345  ...  0.013806  0.003197   \n",
       "LV5          0.041403 -0.018285  0.003507 -0.007621  ... -0.011577 -0.015956   \n",
       "\n",
       "perturbagen   DB09004   DB09009   DB09010   DB09015   DB09019   DB09020  \\\n",
       "LV1          0.020511 -0.006250 -0.002660 -0.017210 -0.004029 -0.145490   \n",
       "LV2         -0.012675 -0.004849  0.000375  0.002623 -0.003252 -0.066209   \n",
       "LV3          0.000155  0.002941 -0.015100 -0.016372  0.012249  0.009216   \n",
       "LV4          0.013099  0.002643 -0.008836  0.023852  0.028957  0.014681   \n",
       "LV5         -0.027614 -0.001707 -0.000542 -0.016918  0.001959  0.024147   \n",
       "\n",
       "perturbagen   DB09022   DB09023  \n",
       "LV1          0.102504  0.057621  \n",
       "LV2          0.025378  0.012453  \n",
       "LV3          0.018254 -0.003516  \n",
       "LV4          0.000826 -0.009739  \n",
       "LV5          0.013004 -0.014166  \n",
       "\n",
       "[5 rows x 1170 columns]"
      ]
     },
     "execution_count": 41,
     "metadata": {},
     "output_type": "execute_result"
    }
   ],
   "source": [
    "lincs_projection.head()"
   ]
  },
  {
   "cell_type": "markdown",
   "metadata": {},
   "source": [
    "## Save"
   ]
  },
  {
   "cell_type": "code",
   "execution_count": 42,
   "metadata": {},
   "outputs": [
    {
     "data": {
      "text/plain": [
       "PosixPath('/media/miltondp/Elements1/projects/phenoplier/results/drug_disease_analyses/data/proj/lincs-projection.pkl')"
      ]
     },
     "metadata": {},
     "output_type": "display_data"
    }
   ],
   "source": [
    "output_file = Path(\n",
    "    OUTPUT_PROJ_DATA_DIR,\n",
    "    \"lincs-projection.pkl\"\n",
    ").resolve()\n",
    "display(output_file)"
   ]
  },
  {
   "cell_type": "code",
   "execution_count": 43,
   "metadata": {},
   "outputs": [],
   "source": [
    "lincs_projection.to_pickle(output_file)"
   ]
  },
  {
   "cell_type": "markdown",
   "metadata": {},
   "source": [
    "# Get reconstructed data"
   ]
  },
  {
   "cell_type": "code",
   "execution_count": 44,
   "metadata": {},
   "outputs": [],
   "source": [
    "# lincs_data_recon = MultiplierProjection._read_model_z().rename(index=GENE_SYMBOL_TO_ENSEMBL_ID).dot(lincs_projection)"
   ]
  },
  {
   "cell_type": "code",
   "execution_count": 45,
   "metadata": {},
   "outputs": [],
   "source": [
    "# lincs_data_recon.shape"
   ]
  },
  {
   "cell_type": "code",
   "execution_count": 46,
   "metadata": {},
   "outputs": [],
   "source": [
    "# lincs_data_recon.head()"
   ]
  },
  {
   "cell_type": "code",
   "execution_count": null,
   "metadata": {},
   "outputs": [],
   "source": []
  }
 ],
 "metadata": {
  "jupytext": {
   "formats": "ipynb,py//py:percent"
  },
  "kernelspec": {
   "display_name": "Python 3",
   "language": "python",
   "name": "python3"
  },
  "language_info": {
   "codemirror_mode": {
    "name": "ipython",
    "version": 3
   },
   "file_extension": ".py",
   "mimetype": "text/x-python",
   "name": "python",
   "nbconvert_exporter": "python",
   "pygments_lexer": "ipython3",
   "version": "3.8.6"
  },
  "papermill": {
   "default_parameters": {},
   "duration": 4334.257345,
   "end_time": "2020-12-18T23:50:34.771313",
   "environment_variables": {},
   "exception": null,
   "input_path": "15_drug_disease_associations/000-spredixcan_most_significant.ipynb",
   "output_path": "15_drug_disease_associations/000-spredixcan_most_significant.run.ipynb",
   "parameters": {},
   "start_time": "2020-12-18T22:38:20.513968",
   "version": "2.2.2"
  }
 },
 "nbformat": 4,
 "nbformat_minor": 4
}
