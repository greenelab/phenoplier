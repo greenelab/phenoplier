{
 "cells": [
  {
   "cell_type": "markdown",
   "metadata": {},
   "source": [
    "# Description"
   ]
  },
  {
   "cell_type": "markdown",
   "metadata": {},
   "source": [
    "This notebook contains the interpretation of a cluster (which features/latent variables in the original data are useful to distinguish traits in the cluster).\n",
    "\n",
    "See section [LV analysis](#lv_analysis) below"
   ]
  },
  {
   "cell_type": "markdown",
   "metadata": {},
   "source": [
    "# Modules loading"
   ]
  },
  {
   "cell_type": "code",
   "execution_count": 1,
   "metadata": {},
   "outputs": [],
   "source": [
    "%load_ext autoreload\n",
    "%autoreload 2"
   ]
  },
  {
   "cell_type": "code",
   "execution_count": 2,
   "metadata": {},
   "outputs": [],
   "source": [
    "import pickle\n",
    "import re\n",
    "from pathlib import Path\n",
    "\n",
    "import pandas as pd\n",
    "import matplotlib.pyplot as plt\n",
    "import seaborn as sns\n",
    "\n",
    "# from IPython.display import HTML\n",
    "from tqdm import tqdm\n",
    "\n",
    "from clustering.methods import ClusterInterpreter\n",
    "from data.recount2 import LVAnalysis\n",
    "from data.cache import read_data\n",
    "import conf"
   ]
  },
  {
   "cell_type": "markdown",
   "metadata": {},
   "source": [
    "# Settings"
   ]
  },
  {
   "cell_type": "code",
   "execution_count": 3,
   "metadata": {
    "tags": [
     "parameters"
    ]
   },
   "outputs": [],
   "source": [
    "# PARTITION_K = 26\n",
    "# PARTITION_CLUSTER_ID = 18"
   ]
  },
  {
   "cell_type": "markdown",
   "metadata": {},
   "source": [
    "# Load MultiPLIER summary"
   ]
  },
  {
   "cell_type": "code",
   "execution_count": 4,
   "metadata": {},
   "outputs": [],
   "source": [
    "multiplier_model_summary = read_data(conf.MULTIPLIER[\"MODEL_SUMMARY_FILE\"])"
   ]
  },
  {
   "cell_type": "code",
   "execution_count": 5,
   "metadata": {},
   "outputs": [
    {
     "data": {
      "text/plain": [
       "(2157, 5)"
      ]
     },
     "execution_count": 5,
     "metadata": {},
     "output_type": "execute_result"
    }
   ],
   "source": [
    "multiplier_model_summary.shape"
   ]
  },
  {
   "cell_type": "code",
   "execution_count": 6,
   "metadata": {},
   "outputs": [
    {
     "data": {
      "text/html": [
       "<div>\n",
       "<style scoped>\n",
       "    .dataframe tbody tr th:only-of-type {\n",
       "        vertical-align: middle;\n",
       "    }\n",
       "\n",
       "    .dataframe tbody tr th {\n",
       "        vertical-align: top;\n",
       "    }\n",
       "\n",
       "    .dataframe thead th {\n",
       "        text-align: right;\n",
       "    }\n",
       "</style>\n",
       "<table border=\"1\" class=\"dataframe\">\n",
       "  <thead>\n",
       "    <tr style=\"text-align: right;\">\n",
       "      <th></th>\n",
       "      <th>pathway</th>\n",
       "      <th>LV index</th>\n",
       "      <th>AUC</th>\n",
       "      <th>p-value</th>\n",
       "      <th>FDR</th>\n",
       "    </tr>\n",
       "  </thead>\n",
       "  <tbody>\n",
       "    <tr>\n",
       "      <th>1</th>\n",
       "      <td>KEGG_LYSINE_DEGRADATION</td>\n",
       "      <td>1</td>\n",
       "      <td>0.388059</td>\n",
       "      <td>0.866078</td>\n",
       "      <td>0.956005</td>\n",
       "    </tr>\n",
       "    <tr>\n",
       "      <th>2</th>\n",
       "      <td>REACTOME_MRNA_SPLICING</td>\n",
       "      <td>1</td>\n",
       "      <td>0.733057</td>\n",
       "      <td>0.000048</td>\n",
       "      <td>0.000582</td>\n",
       "    </tr>\n",
       "    <tr>\n",
       "      <th>3</th>\n",
       "      <td>MIPS_NOP56P_ASSOCIATED_PRE_RRNA_COMPLEX</td>\n",
       "      <td>1</td>\n",
       "      <td>0.680555</td>\n",
       "      <td>0.001628</td>\n",
       "      <td>0.011366</td>\n",
       "    </tr>\n",
       "    <tr>\n",
       "      <th>4</th>\n",
       "      <td>KEGG_DNA_REPLICATION</td>\n",
       "      <td>1</td>\n",
       "      <td>0.549473</td>\n",
       "      <td>0.312155</td>\n",
       "      <td>0.539951</td>\n",
       "    </tr>\n",
       "    <tr>\n",
       "      <th>5</th>\n",
       "      <td>PID_MYC_ACTIVPATHWAY</td>\n",
       "      <td>1</td>\n",
       "      <td>0.639303</td>\n",
       "      <td>0.021702</td>\n",
       "      <td>0.083739</td>\n",
       "    </tr>\n",
       "  </tbody>\n",
       "</table>\n",
       "</div>"
      ],
      "text/plain": [
       "                                   pathway LV index       AUC   p-value  \\\n",
       "1                  KEGG_LYSINE_DEGRADATION        1  0.388059  0.866078   \n",
       "2                   REACTOME_MRNA_SPLICING        1  0.733057  0.000048   \n",
       "3  MIPS_NOP56P_ASSOCIATED_PRE_RRNA_COMPLEX        1  0.680555  0.001628   \n",
       "4                     KEGG_DNA_REPLICATION        1  0.549473  0.312155   \n",
       "5                     PID_MYC_ACTIVPATHWAY        1  0.639303  0.021702   \n",
       "\n",
       "        FDR  \n",
       "1  0.956005  \n",
       "2  0.000582  \n",
       "3  0.011366  \n",
       "4  0.539951  \n",
       "5  0.083739  "
      ]
     },
     "execution_count": 6,
     "metadata": {},
     "output_type": "execute_result"
    }
   ],
   "source": [
    "multiplier_model_summary.head()"
   ]
  },
  {
   "cell_type": "markdown",
   "metadata": {},
   "source": [
    "# Load data"
   ]
  },
  {
   "cell_type": "markdown",
   "metadata": {},
   "source": [
    "## Original data"
   ]
  },
  {
   "cell_type": "code",
   "execution_count": 7,
   "metadata": {
    "papermill": {
     "duration": 0.033993,
     "end_time": "2020-12-02T18:22:03.772878",
     "exception": false,
     "start_time": "2020-12-02T18:22:03.738885",
     "status": "completed"
    },
    "tags": []
   },
   "outputs": [],
   "source": [
    "INPUT_SUBSET = \"z_score_std\""
   ]
  },
  {
   "cell_type": "code",
   "execution_count": 8,
   "metadata": {
    "papermill": {
     "duration": 0.034256,
     "end_time": "2020-12-02T18:22:03.827176",
     "exception": false,
     "start_time": "2020-12-02T18:22:03.792920",
     "status": "completed"
    },
    "tags": []
   },
   "outputs": [],
   "source": [
    "INPUT_STEM = \"projection-smultixcan-efo_partial-mashr-zscores\""
   ]
  },
  {
   "cell_type": "code",
   "execution_count": 9,
   "metadata": {
    "papermill": {
     "duration": 0.036583,
     "end_time": "2020-12-02T18:22:03.884665",
     "exception": false,
     "start_time": "2020-12-02T18:22:03.848082",
     "status": "completed"
    },
    "tags": []
   },
   "outputs": [
    {
     "data": {
      "text/plain": [
       "PosixPath('/home/miltondp/projects/labs/greenelab/phenoplier/base/results/data_transformations/z_score_std/z_score_std-projection-smultixcan-efo_partial-mashr-zscores.pkl')"
      ]
     },
     "metadata": {},
     "output_type": "display_data"
    },
    {
     "data": {
      "text/plain": [
       "'z_score_std-projection-smultixcan-efo_partial-mashr-zscores'"
      ]
     },
     "metadata": {},
     "output_type": "display_data"
    }
   ],
   "source": [
    "input_filepath = Path(\n",
    "    conf.RESULTS[\"DATA_TRANSFORMATIONS_DIR\"],\n",
    "    INPUT_SUBSET,\n",
    "    f\"{INPUT_SUBSET}-{INPUT_STEM}.pkl\",\n",
    ").resolve()\n",
    "display(input_filepath)\n",
    "\n",
    "assert input_filepath.exists(), \"Input file does not exist\"\n",
    "\n",
    "input_filepath_stem = input_filepath.stem\n",
    "display(input_filepath_stem)"
   ]
  },
  {
   "cell_type": "code",
   "execution_count": 10,
   "metadata": {
    "papermill": {
     "duration": 0.047976,
     "end_time": "2020-12-02T18:22:04.552607",
     "exception": false,
     "start_time": "2020-12-02T18:22:04.504631",
     "status": "completed"
    },
    "tags": []
   },
   "outputs": [],
   "source": [
    "data = pd.read_pickle(input_filepath)"
   ]
  },
  {
   "cell_type": "code",
   "execution_count": 11,
   "metadata": {
    "papermill": {
     "duration": 0.036934,
     "end_time": "2020-12-02T18:22:04.613671",
     "exception": false,
     "start_time": "2020-12-02T18:22:04.576737",
     "status": "completed"
    },
    "tags": []
   },
   "outputs": [
    {
     "data": {
      "text/plain": [
       "(3752, 987)"
      ]
     },
     "execution_count": 11,
     "metadata": {},
     "output_type": "execute_result"
    }
   ],
   "source": [
    "data.shape"
   ]
  },
  {
   "cell_type": "code",
   "execution_count": 12,
   "metadata": {
    "papermill": {
     "duration": 0.049043,
     "end_time": "2020-12-02T18:22:04.685862",
     "exception": false,
     "start_time": "2020-12-02T18:22:04.636819",
     "status": "completed"
    },
    "tags": []
   },
   "outputs": [
    {
     "data": {
      "text/html": [
       "<div>\n",
       "<style scoped>\n",
       "    .dataframe tbody tr th:only-of-type {\n",
       "        vertical-align: middle;\n",
       "    }\n",
       "\n",
       "    .dataframe tbody tr th {\n",
       "        vertical-align: top;\n",
       "    }\n",
       "\n",
       "    .dataframe thead th {\n",
       "        text-align: right;\n",
       "    }\n",
       "</style>\n",
       "<table border=\"1\" class=\"dataframe\">\n",
       "  <thead>\n",
       "    <tr style=\"text-align: right;\">\n",
       "      <th></th>\n",
       "      <th>LV1</th>\n",
       "      <th>LV2</th>\n",
       "      <th>LV3</th>\n",
       "      <th>LV4</th>\n",
       "      <th>LV5</th>\n",
       "      <th>LV6</th>\n",
       "      <th>LV7</th>\n",
       "      <th>LV8</th>\n",
       "      <th>LV9</th>\n",
       "      <th>LV10</th>\n",
       "      <th>...</th>\n",
       "      <th>LV978</th>\n",
       "      <th>LV979</th>\n",
       "      <th>LV980</th>\n",
       "      <th>LV981</th>\n",
       "      <th>LV982</th>\n",
       "      <th>LV983</th>\n",
       "      <th>LV984</th>\n",
       "      <th>LV985</th>\n",
       "      <th>LV986</th>\n",
       "      <th>LV987</th>\n",
       "    </tr>\n",
       "  </thead>\n",
       "  <tbody>\n",
       "    <tr>\n",
       "      <th>100001_raw-Food_weight</th>\n",
       "      <td>-0.695006</td>\n",
       "      <td>1.962565</td>\n",
       "      <td>0.057683</td>\n",
       "      <td>0.878731</td>\n",
       "      <td>-0.539977</td>\n",
       "      <td>1.481272</td>\n",
       "      <td>-0.396422</td>\n",
       "      <td>1.090180</td>\n",
       "      <td>0.759223</td>\n",
       "      <td>0.931395</td>\n",
       "      <td>...</td>\n",
       "      <td>1.129784</td>\n",
       "      <td>1.752343</td>\n",
       "      <td>-1.411403</td>\n",
       "      <td>2.823863</td>\n",
       "      <td>0.931116</td>\n",
       "      <td>-1.054519</td>\n",
       "      <td>0.432982</td>\n",
       "      <td>-0.633597</td>\n",
       "      <td>0.554279</td>\n",
       "      <td>-0.642479</td>\n",
       "    </tr>\n",
       "    <tr>\n",
       "      <th>100002_raw-Energy</th>\n",
       "      <td>-1.528127</td>\n",
       "      <td>-0.345309</td>\n",
       "      <td>-0.148953</td>\n",
       "      <td>-0.242060</td>\n",
       "      <td>0.373427</td>\n",
       "      <td>0.791092</td>\n",
       "      <td>0.263477</td>\n",
       "      <td>0.987702</td>\n",
       "      <td>0.354391</td>\n",
       "      <td>1.416059</td>\n",
       "      <td>...</td>\n",
       "      <td>0.224604</td>\n",
       "      <td>0.769882</td>\n",
       "      <td>-0.509482</td>\n",
       "      <td>0.091153</td>\n",
       "      <td>2.286789</td>\n",
       "      <td>-1.008256</td>\n",
       "      <td>-0.029764</td>\n",
       "      <td>1.737229</td>\n",
       "      <td>-0.272107</td>\n",
       "      <td>-0.526125</td>\n",
       "    </tr>\n",
       "    <tr>\n",
       "      <th>100003_raw-Protein</th>\n",
       "      <td>-0.704572</td>\n",
       "      <td>-1.011299</td>\n",
       "      <td>0.671420</td>\n",
       "      <td>0.143991</td>\n",
       "      <td>0.615212</td>\n",
       "      <td>0.874212</td>\n",
       "      <td>-0.040998</td>\n",
       "      <td>0.915170</td>\n",
       "      <td>0.254369</td>\n",
       "      <td>-0.084237</td>\n",
       "      <td>...</td>\n",
       "      <td>1.003019</td>\n",
       "      <td>1.044314</td>\n",
       "      <td>-2.376108</td>\n",
       "      <td>0.004778</td>\n",
       "      <td>0.053714</td>\n",
       "      <td>-0.892447</td>\n",
       "      <td>-0.183800</td>\n",
       "      <td>1.377991</td>\n",
       "      <td>-0.278794</td>\n",
       "      <td>-0.419733</td>\n",
       "    </tr>\n",
       "    <tr>\n",
       "      <th>100004_raw-Fat</th>\n",
       "      <td>-0.989832</td>\n",
       "      <td>-1.875490</td>\n",
       "      <td>0.261555</td>\n",
       "      <td>-1.420719</td>\n",
       "      <td>0.366238</td>\n",
       "      <td>1.167049</td>\n",
       "      <td>0.257387</td>\n",
       "      <td>0.717674</td>\n",
       "      <td>-0.997664</td>\n",
       "      <td>0.969825</td>\n",
       "      <td>...</td>\n",
       "      <td>0.585913</td>\n",
       "      <td>0.638314</td>\n",
       "      <td>0.119139</td>\n",
       "      <td>-0.140204</td>\n",
       "      <td>1.394326</td>\n",
       "      <td>-1.173402</td>\n",
       "      <td>0.555058</td>\n",
       "      <td>1.013982</td>\n",
       "      <td>-0.544506</td>\n",
       "      <td>-0.064061</td>\n",
       "    </tr>\n",
       "    <tr>\n",
       "      <th>100005_raw-Carbohydrate</th>\n",
       "      <td>-0.580143</td>\n",
       "      <td>0.243335</td>\n",
       "      <td>0.158966</td>\n",
       "      <td>-0.036558</td>\n",
       "      <td>0.068176</td>\n",
       "      <td>-0.202639</td>\n",
       "      <td>1.101281</td>\n",
       "      <td>0.675227</td>\n",
       "      <td>1.463432</td>\n",
       "      <td>1.010078</td>\n",
       "      <td>...</td>\n",
       "      <td>-0.249108</td>\n",
       "      <td>-0.026814</td>\n",
       "      <td>0.232713</td>\n",
       "      <td>0.323682</td>\n",
       "      <td>1.168642</td>\n",
       "      <td>-0.282935</td>\n",
       "      <td>0.653105</td>\n",
       "      <td>1.909526</td>\n",
       "      <td>0.199997</td>\n",
       "      <td>-1.656894</td>\n",
       "    </tr>\n",
       "  </tbody>\n",
       "</table>\n",
       "<p>5 rows × 987 columns</p>\n",
       "</div>"
      ],
      "text/plain": [
       "                              LV1       LV2       LV3       LV4       LV5  \\\n",
       "100001_raw-Food_weight  -0.695006  1.962565  0.057683  0.878731 -0.539977   \n",
       "100002_raw-Energy       -1.528127 -0.345309 -0.148953 -0.242060  0.373427   \n",
       "100003_raw-Protein      -0.704572 -1.011299  0.671420  0.143991  0.615212   \n",
       "100004_raw-Fat          -0.989832 -1.875490  0.261555 -1.420719  0.366238   \n",
       "100005_raw-Carbohydrate -0.580143  0.243335  0.158966 -0.036558  0.068176   \n",
       "\n",
       "                              LV6       LV7       LV8       LV9      LV10  \\\n",
       "100001_raw-Food_weight   1.481272 -0.396422  1.090180  0.759223  0.931395   \n",
       "100002_raw-Energy        0.791092  0.263477  0.987702  0.354391  1.416059   \n",
       "100003_raw-Protein       0.874212 -0.040998  0.915170  0.254369 -0.084237   \n",
       "100004_raw-Fat           1.167049  0.257387  0.717674 -0.997664  0.969825   \n",
       "100005_raw-Carbohydrate -0.202639  1.101281  0.675227  1.463432  1.010078   \n",
       "\n",
       "                         ...     LV978     LV979     LV980     LV981  \\\n",
       "100001_raw-Food_weight   ...  1.129784  1.752343 -1.411403  2.823863   \n",
       "100002_raw-Energy        ...  0.224604  0.769882 -0.509482  0.091153   \n",
       "100003_raw-Protein       ...  1.003019  1.044314 -2.376108  0.004778   \n",
       "100004_raw-Fat           ...  0.585913  0.638314  0.119139 -0.140204   \n",
       "100005_raw-Carbohydrate  ... -0.249108 -0.026814  0.232713  0.323682   \n",
       "\n",
       "                            LV982     LV983     LV984     LV985     LV986  \\\n",
       "100001_raw-Food_weight   0.931116 -1.054519  0.432982 -0.633597  0.554279   \n",
       "100002_raw-Energy        2.286789 -1.008256 -0.029764  1.737229 -0.272107   \n",
       "100003_raw-Protein       0.053714 -0.892447 -0.183800  1.377991 -0.278794   \n",
       "100004_raw-Fat           1.394326 -1.173402  0.555058  1.013982 -0.544506   \n",
       "100005_raw-Carbohydrate  1.168642 -0.282935  0.653105  1.909526  0.199997   \n",
       "\n",
       "                            LV987  \n",
       "100001_raw-Food_weight  -0.642479  \n",
       "100002_raw-Energy       -0.526125  \n",
       "100003_raw-Protein      -0.419733  \n",
       "100004_raw-Fat          -0.064061  \n",
       "100005_raw-Carbohydrate -1.656894  \n",
       "\n",
       "[5 rows x 987 columns]"
      ]
     },
     "execution_count": 12,
     "metadata": {},
     "output_type": "execute_result"
    }
   ],
   "source": [
    "data.head()"
   ]
  },
  {
   "cell_type": "markdown",
   "metadata": {},
   "source": [
    "## Clustering partitions"
   ]
  },
  {
   "cell_type": "code",
   "execution_count": 13,
   "metadata": {},
   "outputs": [],
   "source": [
    "# CONSENSUS_CLUSTERING_DIR = Path(\n",
    "#     conf.RESULTS[\"CLUSTERING_DIR\"], \"consensus_clustering\"\n",
    "# ).resolve()\n",
    "\n",
    "# display(CONSENSUS_CLUSTERING_DIR)"
   ]
  },
  {
   "cell_type": "code",
   "execution_count": 14,
   "metadata": {},
   "outputs": [],
   "source": [
    "# input_file = Path(CONSENSUS_CLUSTERING_DIR, \"best_partitions_by_k.pkl\").resolve()\n",
    "# display(input_file)"
   ]
  },
  {
   "cell_type": "code",
   "execution_count": 15,
   "metadata": {},
   "outputs": [],
   "source": [
    "# best_partitions = pd.read_pickle(input_file)"
   ]
  },
  {
   "cell_type": "code",
   "execution_count": 16,
   "metadata": {},
   "outputs": [],
   "source": [
    "# best_partitions.shape"
   ]
  },
  {
   "cell_type": "code",
   "execution_count": 17,
   "metadata": {},
   "outputs": [],
   "source": [
    "# best_partitions.head()"
   ]
  },
  {
   "cell_type": "markdown",
   "metadata": {},
   "source": [
    "# Functions"
   ]
  },
  {
   "cell_type": "code",
   "execution_count": 18,
   "metadata": {},
   "outputs": [],
   "source": [
    "# def show_cluster_stats(data, partition, cluster):\n",
    "#     cluster_traits = data[partition == cluster].index\n",
    "#     display(f\"Cluster '{cluster}' has {len(cluster_traits)} traits\")\n",
    "#     display(cluster_traits)"
   ]
  },
  {
   "cell_type": "markdown",
   "metadata": {},
   "source": [
    "# LV analysis\n",
    "<a id=\"lv_analysis\"></a>"
   ]
  },
  {
   "cell_type": "markdown",
   "metadata": {},
   "source": [
    "## Associated traits"
   ]
  },
  {
   "cell_type": "code",
   "execution_count": 19,
   "metadata": {},
   "outputs": [],
   "source": [
    "# display(best_partitions.loc[PARTITION_K])\n",
    "# part = best_partitions.loc[PARTITION_K, \"partition\"]"
   ]
  },
  {
   "cell_type": "code",
   "execution_count": 20,
   "metadata": {},
   "outputs": [],
   "source": [
    "# show_cluster_stats(data, part, PARTITION_CLUSTER_ID)"
   ]
  },
  {
   "cell_type": "markdown",
   "metadata": {},
   "source": [
    "## Associated latent variables"
   ]
  },
  {
   "cell_type": "code",
   "execution_count": 21,
   "metadata": {},
   "outputs": [],
   "source": [
    "# ci = ClusterInterpreter(\n",
    "#     threshold=1.0,\n",
    "#     max_features=20,\n",
    "#     max_features_to_explore=100,\n",
    "# )"
   ]
  },
  {
   "cell_type": "code",
   "execution_count": 22,
   "metadata": {},
   "outputs": [],
   "source": [
    "# ci.fit(data, part, PARTITION_CLUSTER_ID)"
   ]
  },
  {
   "cell_type": "code",
   "execution_count": 23,
   "metadata": {},
   "outputs": [],
   "source": [
    "# ci.features_"
   ]
  },
  {
   "cell_type": "code",
   "execution_count": 24,
   "metadata": {},
   "outputs": [],
   "source": [
    "# # save interpreter instance\n",
    "# output_dir = Path(\n",
    "#     conf.RESULTS[\"CLUSTERING_INTERPRETATION\"][\"BASE_DIR\"],\n",
    "#     \"cluster_lvs\",\n",
    "#     f\"part{PARTITION_K}\",\n",
    "# )\n",
    "# output_dir.mkdir(exist_ok=True, parents=True)"
   ]
  },
  {
   "cell_type": "code",
   "execution_count": 25,
   "metadata": {},
   "outputs": [],
   "source": [
    "# output_file = Path(\n",
    "#     output_dir, f\"cluster_interpreter-part{PARTITION_K}_k{PARTITION_CLUSTER_ID}.pkl\"\n",
    "# )\n",
    "# display(output_file)"
   ]
  },
  {
   "cell_type": "code",
   "execution_count": 26,
   "metadata": {},
   "outputs": [],
   "source": [
    "# ci.features_.to_pickle(output_file)"
   ]
  },
  {
   "cell_type": "markdown",
   "metadata": {},
   "source": [
    "## Top attributes"
   ]
  },
  {
   "cell_type": "code",
   "execution_count": 27,
   "metadata": {},
   "outputs": [],
   "source": [
    "# lvs_list = \"LV116,LV931,LV744,LV697,LV885,LV536,LV550,LV220,LV272,LV739,LV678,LV470,LV66,LV189,LV517,LV840,LV246,LV502,LV525,LV85\".split(\",\")"
   ]
  },
  {
   "cell_type": "code",
   "execution_count": 28,
   "metadata": {},
   "outputs": [],
   "source": [
    "lvs_list = pd.read_pickle(\"/tmp/lv_list.pkl\").index.tolist()"
   ]
  },
  {
   "cell_type": "code",
   "execution_count": 29,
   "metadata": {},
   "outputs": [
    {
     "data": {
      "text/plain": [
       "485"
      ]
     },
     "execution_count": 29,
     "metadata": {},
     "output_type": "execute_result"
    }
   ],
   "source": [
    "len(lvs_list)"
   ]
  },
  {
   "cell_type": "code",
   "execution_count": 30,
   "metadata": {},
   "outputs": [
    {
     "data": {
      "text/plain": [
       "['LV116',\n",
       " 'LV931',\n",
       " 'LV744',\n",
       " 'LV697',\n",
       " 'LV885',\n",
       " 'LV536',\n",
       " 'LV550',\n",
       " 'LV220',\n",
       " 'LV272',\n",
       " 'LV739']"
      ]
     },
     "execution_count": 30,
     "metadata": {},
     "output_type": "execute_result"
    }
   ],
   "source": [
    "lvs_list[:10]"
   ]
  },
  {
   "cell_type": "code",
   "execution_count": 31,
   "metadata": {},
   "outputs": [],
   "source": [
    "def _my_func(x):\n",
    "    _cols = [c for c in x.index if not c.startswith(\"LV\")]\n",
    "    _tmp = x[_cols].dropna()\n",
    "    if _tmp.shape[0] > 0:\n",
    "        return _tmp.iloc[0]\n",
    "\n",
    "    return None"
   ]
  },
  {
   "cell_type": "code",
   "execution_count": 32,
   "metadata": {},
   "outputs": [
    {
     "name": "stderr",
     "output_type": "stream",
     "text": [
      "LV116:   0%|          | 0/50 [00:00<?, ?it/s]"
     ]
    },
    {
     "name": "stdout",
     "output_type": "stream",
     "text": [
      "SRP059039, SRP045500, SRP063059, SRP045569, SRP015670, SRP059531, SRP062958, SRP039361, SRP056733, SRP060370, SRP062966, SRP045352, SRP048804, SRP032775, SRP059172, SRP050246, SRP064458, SRP033711, SRP049820, SRP023199, SRP060416, SRP005279, SRP042161, SRP059701, SRP068139, SRP051848, SRP014428, SRP063661, SRP057205, SRP041826, SRP059057, SRP064259, SRP046226, SRP044956, SRP066356, SRP048640, SRP041885, SRP045659, SRP041647, SRP045565, SRP041620, SRP053186, SRP045441, SRP022133, SRP055874, SRP029990, SRP044206, SRP065763, SRP056443, SRP041538, SRP044593, SRP019270, SRP067934, SRP059035, SRP019936, SRP054971, SRP058237, SRP051368, SRP019758, "
     ]
    },
    {
     "data": {
      "text/plain": [
       "8      celltype\n",
       "21    cell type\n",
       "dtype: object"
      ]
     },
     "metadata": {},
     "output_type": "display_data"
    },
    {
     "data": {
      "text/plain": [
       "79    tissue type\n",
       "4          tissue\n",
       "dtype: object"
      ]
     },
     "metadata": {},
     "output_type": "display_data"
    },
    {
     "name": "stderr",
     "output_type": "stream",
     "text": [
      "LV931:   2%|▏         | 1/50 [00:12<10:21, 12.68s/it]"
     ]
    },
    {
     "name": "stdout",
     "output_type": "stream",
     "text": [
      "SRP056295, SRP017138, SRP043080, SRP048759, SRP021191, SRP028594, SRP056197, SRP050272, SRP059735, SRP028554, SRP061932, SRP033266, SRP005279, SRP055390, SRP050493, SRP046233, SRP035679, SRP043033, SRP041885, SRP027358, SRP045500, SRP045352, SRP015360, SRP053046, "
     ]
    },
    {
     "data": {
      "text/plain": [
       "30     celltype\n",
       "1     cell type\n",
       "dtype: object"
      ]
     },
     "metadata": {},
     "output_type": "display_data"
    },
    {
     "data": {
      "text/plain": [
       "0    tissue\n",
       "dtype: object"
      ]
     },
     "metadata": {},
     "output_type": "display_data"
    },
    {
     "name": "stderr",
     "output_type": "stream",
     "text": [
      "LV744:   4%|▍         | 2/50 [00:18<08:29, 10.62s/it]"
     ]
    },
    {
     "name": "stdout",
     "output_type": "stream",
     "text": [
      "SRP033135, SRP002326, SRP042161, SRP066834, SRP055569, SRP060416, SRP020646, SRP013363, SRP050499, SRP057196, SRP012461, SRP013935, SRP059379, SRP062177, SRP007338, SRP003901, SRP033248, SRP028902, SRP014688, SRP057205, SRP011422, SRP040278, SRP050992, SRP055153, SRP002184, SRP042218, SRP053246, SRP007461, SRP009276, SRP007947, SRP036821, SRP058351, SRP018716, SRP043085, SRP019994, SRP059035, SRP006575, SRP010350, SRP007596, SRP026537, SRP002487, SRP015819, SRP012056, SRP064464, SRP039348, SRP008218, SRP021072, SRP028170, SRP018525, SRP041718, SRP052706, SRP037719, SRP042297, SRP059057, SRP010907, SRP041036, SRP059775, SRP063840, SRP016568, SRP051599, SRP044766, SRP006474, SRP036053, SRP007525, SRP018838, "
     ]
    },
    {
     "name": "stderr",
     "output_type": "stream",
     "text": [
      "/home/miltondp/projects/labs/greenelab/phenoplier/libs/data/recount2.py:320: UserWarning: Not all experiments data could be loaded (64 != 65)\n",
      "  warnings.warn(\n"
     ]
    },
    {
     "data": {
      "text/plain": [
       "0    cell type\n",
       "dtype: object"
      ]
     },
     "metadata": {},
     "output_type": "display_data"
    },
    {
     "data": {
      "text/plain": [
       "7    tissue\n",
       "dtype: object"
      ]
     },
     "metadata": {},
     "output_type": "display_data"
    },
    {
     "name": "stderr",
     "output_type": "stream",
     "text": [
      "LV697:   6%|▌         | 3/50 [00:36<10:02, 12.82s/it]"
     ]
    },
    {
     "name": "stdout",
     "output_type": "stream",
     "text": [
      "SRP051083, SRP048700, SRP055569, SRP043960, SRP041846, SRP057196, SRP055153, SRP051595, SRP044668, SRP042161, SRP060416, SRP013935, SRP062332, SRP061425, SRP066363, SRP033135, SRP031459, SRP051485, SRP038963, SRP044013, SRP059035, SRP051606, SRP004637, SRP064259, SRP006912, SRP045421, SRP050440, SRP056153, SRP056530, SRP040692, SRP066956, SRP009247, SRP019240, SRP028902, SRP056498, SRP063493, SRP060708, SRP059379, SRP007461, SRP017411, SRP060370, SRP051544, SRP066834, SRP041956, SRP063840, SRP032456, SRP042184, SRP007498, "
     ]
    },
    {
     "name": "stderr",
     "output_type": "stream",
     "text": [
      "/home/miltondp/projects/labs/greenelab/phenoplier/libs/data/recount2.py:320: UserWarning: Not all experiments data could be loaded (47 != 48)\n",
      "  warnings.warn(\n"
     ]
    },
    {
     "data": {
      "text/plain": [
       "7    cell type\n",
       "dtype: object"
      ]
     },
     "metadata": {},
     "output_type": "display_data"
    },
    {
     "data": {
      "text/plain": [
       "13    tissue type\n",
       "9          tissue\n",
       "dtype: object"
      ]
     },
     "metadata": {},
     "output_type": "display_data"
    },
    {
     "name": "stderr",
     "output_type": "stream",
     "text": [
      "LV885:   8%|▊         | 4/50 [00:48<09:41, 12.63s/it]"
     ]
    },
    {
     "name": "stdout",
     "output_type": "stream",
     "text": [
      "SRP058667, SRP060355, SRP007338, SRP024268, SRP036848, SRP035387, SRP045276, SRP019807, SRP007508, SRP029889, SRP028336, SRP058626, SRP015640, SRP057248, SRP064464, SRP057196, SRP049097, SRP063840, SRP009123, SRP055569, SRP050551, SRP050499, SRP014635, SRP059950, SRP064259, SRP009862, SRP042161, SRP064454, SRP066834, SRP049333, SRP052950, SRP060416, SRP044917, SRP051249, SRP007498, SRP003901, SRP051485, SRP030401, SRP007881, SRP029603, SRP040998, SRP011578, SRP019810, SRP050003, SRP009247, SRP026620, SRP033135, SRP051472, SRP066956, SRP029262, SRP051705, SRP061701, SRP012167, SRP057244, SRP026454, SRP040442, SRP041377, SRP051822, SRP059035, SRP055438, SRP016583, SRP006575, SRP057586, SRP014027, SRP042620, SRP015668, SRP010279, SRP014213, SRP056696, SRP027364, SRP037982, SRP001997, SRP051825, SRP057205, SRP007412, SRP052057, SRP058722, SRP018853, SRP016140, SRP059775, "
     ]
    },
    {
     "name": "stderr",
     "output_type": "stream",
     "text": [
      "/home/miltondp/projects/labs/greenelab/phenoplier/libs/data/recount2.py:320: UserWarning: Not all experiments data could be loaded (78 != 80)\n",
      "  warnings.warn(\n"
     ]
    },
    {
     "data": {
      "text/plain": [
       "24    cell type\n",
       "dtype: object"
      ]
     },
     "metadata": {},
     "output_type": "display_data"
    },
    {
     "data": {
      "text/plain": [
       "0    tissue type\n",
       "3         tissue\n",
       "dtype: object"
      ]
     },
     "metadata": {},
     "output_type": "display_data"
    },
    {
     "name": "stderr",
     "output_type": "stream",
     "text": [
      "LV536:  10%|█         | 5/50 [01:05<10:28, 13.97s/it]"
     ]
    },
    {
     "name": "stdout",
     "output_type": "stream",
     "text": [
      "SRP007947, SRP003901, SRP055569, SRP037722, SRP008218, SRP066834, SRP015013, SRP060416, SRP019994, SRP057196, SRP042161, SRP058773, SRP012557, SRP050499, SRP055153, SRP059379, SRP030617, SRP005279, SRP051606, SRP003754, SRP058841, SRP009247, SRP050497, SRP018104, SRP007508, SRP008145, SRP041377, SRP002326, SRP035478, SRP033135, SRP017777, SRP055440, SRP057248, SRP000599, SRP013450, SRP014213, SRP055513, SRP042218, SRP034543, "
     ]
    },
    {
     "name": "stderr",
     "output_type": "stream",
     "text": [
      "/home/miltondp/projects/labs/greenelab/phenoplier/libs/data/recount2.py:320: UserWarning: Not all experiments data could be loaded (37 != 39)\n",
      "  warnings.warn(\n"
     ]
    },
    {
     "data": {
      "text/plain": [
       "0    cell type\n",
       "dtype: object"
      ]
     },
     "metadata": {},
     "output_type": "display_data"
    },
    {
     "data": {
      "text/plain": [
       "3    tissue\n",
       "dtype: object"
      ]
     },
     "metadata": {},
     "output_type": "display_data"
    },
    {
     "name": "stderr",
     "output_type": "stream",
     "text": [
      "LV550:  12%|█▏        | 6/50 [01:17<09:51, 13.43s/it]"
     ]
    },
    {
     "name": "stdout",
     "output_type": "stream",
     "text": [
      "SRP055569, SRP033135, SRP051606, SRP009247, SRP057196, SRP066834, SRP060416, SRP012557, SRP049097, SRP019994, SRP042161, SRP017933, SRP065559, SRP058773, SRP007498, SRP012461, SRP050497, SRP019807, SRP041396, SRP019936, SRP030617, SRP055438, SRP050499, SRP045352, SRP042620, SRP055153, SRP055810, SRP051825, SRP064464, SRP018853, SRP055392, SRP002184, SRP009266, SRP063840, SRP006474, SRP015845, SRP026315, SRP059733, SRP048820, SRP036848, SRP059035, SRP034007, SRP015013, SRP011578, SRP058667, SRP009862, "
     ]
    },
    {
     "name": "stderr",
     "output_type": "stream",
     "text": [
      "/home/miltondp/projects/labs/greenelab/phenoplier/libs/data/recount2.py:320: UserWarning: Not all experiments data could be loaded (43 != 46)\n",
      "  warnings.warn(\n"
     ]
    },
    {
     "data": {
      "text/plain": [
       "0    cell type\n",
       "dtype: object"
      ]
     },
     "metadata": {},
     "output_type": "display_data"
    },
    {
     "data": {
      "text/plain": [
       "17    tissue type\n",
       "10         tissue\n",
       "dtype: object"
      ]
     },
     "metadata": {},
     "output_type": "display_data"
    },
    {
     "name": "stderr",
     "output_type": "stream",
     "text": [
      "LV220:  14%|█▍        | 7/50 [01:33<10:01, 13.99s/it]"
     ]
    },
    {
     "name": "stdout",
     "output_type": "stream",
     "text": [
      "SRP042161, SRP060416, SRP050499, SRP055569, SRP033135, SRP066834, SRP059379, SRP057196, SRP009266, SRP003901, SRP018838, SRP055153, SRP011546, SRP064464, SRP063840, SRP059775, SRP015449, SRP050992, SRP059035, SRP049238, SRP047192, "
     ]
    },
    {
     "name": "stderr",
     "output_type": "stream",
     "text": [
      "/home/miltondp/projects/labs/greenelab/phenoplier/libs/data/recount2.py:320: UserWarning: Not all experiments data could be loaded (20 != 21)\n",
      "  warnings.warn(\n"
     ]
    },
    {
     "data": {
      "text/plain": [
       "1    cell type\n",
       "dtype: object"
      ]
     },
     "metadata": {},
     "output_type": "display_data"
    },
    {
     "data": {
      "text/plain": [
       "14    tissue\n",
       "dtype: object"
      ]
     },
     "metadata": {},
     "output_type": "display_data"
    },
    {
     "name": "stderr",
     "output_type": "stream",
     "text": [
      "LV272:  16%|█▌        | 8/50 [01:45<09:27, 13.51s/it]"
     ]
    },
    {
     "name": "stdout",
     "output_type": "stream",
     "text": [
      "SRP055569, SRP042161, SRP006474, SRP033135, SRP017575, SRP036821, SRP006575, SRP057196, SRP009266, SRP050499, SRP066834, SRP065202, SRP019994, SRP060416, SRP047192, SRP005279, SRP059775, SRP049097, SRP059379, SRP058773, SRP007359, SRP061241, SRP012461, SRP009862, SRP042620, SRP049713, SRP014620, SRP057745, SRP003754, SRP033369, SRP033276, SRP014428, SRP027383, SRP049238, SRP045322, SRP062230, SRP024268, SRP058841, SRP018838, SRP002915, SRP055810, "
     ]
    },
    {
     "name": "stderr",
     "output_type": "stream",
     "text": [
      "/home/miltondp/projects/labs/greenelab/phenoplier/libs/data/recount2.py:320: UserWarning: Not all experiments data could be loaded (38 != 41)\n",
      "  warnings.warn(\n"
     ]
    },
    {
     "data": {
      "text/plain": [
       "0    cell type\n",
       "dtype: object"
      ]
     },
     "metadata": {},
     "output_type": "display_data"
    },
    {
     "data": {
      "text/plain": [
       "33    tissue type\n",
       "12         tissue\n",
       "dtype: object"
      ]
     },
     "metadata": {},
     "output_type": "display_data"
    },
    {
     "name": "stderr",
     "output_type": "stream",
     "text": [
      "LV739:  18%|█▊        | 9/50 [01:59<09:19, 13.64s/it]"
     ]
    },
    {
     "name": "stdout",
     "output_type": "stream",
     "text": [
      "SRP042161, SRP066834, SRP059379, SRP009862, SRP057196, SRP062025, SRP063840, "
     ]
    },
    {
     "name": "stderr",
     "output_type": "stream",
     "text": [
      "/home/miltondp/projects/labs/greenelab/phenoplier/libs/data/recount2.py:320: UserWarning: Not all experiments data could be loaded (6 != 7)\n",
      "  warnings.warn(\n"
     ]
    },
    {
     "data": {
      "text/plain": [
       "1    cell type\n",
       "dtype: object"
      ]
     },
     "metadata": {},
     "output_type": "display_data"
    },
    {
     "data": {
      "text/plain": [
       "5    tissue\n",
       "dtype: object"
      ]
     },
     "metadata": {},
     "output_type": "display_data"
    },
    {
     "name": "stderr",
     "output_type": "stream",
     "text": [
      "LV678:  20%|██        | 10/50 [02:05<07:30, 11.27s/it]"
     ]
    },
    {
     "name": "stdout",
     "output_type": "stream",
     "text": [
      "SRP011924, SRP066729, SRP055569, SRP052978, SRP029889, SRP026315, SRP042161, SRP017933, SRP009266, SRP033135, SRP009862, SRP014428, SRP006475, SRP055810, SRP062177, SRP034712, SRP028301, SRP044206, SRP012056, SRP057196, SRP057118, SRP045573, SRP024268, SRP018838, SRP060416, SRP018719, SRP061888, SRP058840, SRP002915, SRP059775, SRP014867, SRP033276, SRP029899, SRP021478, SRP049500, SRP036821, SRP055513, SRP058773, SRP045666, SRP041706, SRP011185, SRP006575, SRP028336, SRP043368, SRP012461, SRP058740, SRP007947, "
     ]
    },
    {
     "name": "stderr",
     "output_type": "stream",
     "text": [
      "/home/miltondp/projects/labs/greenelab/phenoplier/libs/data/recount2.py:320: UserWarning: Not all experiments data could be loaded (45 != 47)\n",
      "  warnings.warn(\n"
     ]
    },
    {
     "data": {
      "text/plain": [
       "2    cell type\n",
       "dtype: object"
      ]
     },
     "metadata": {},
     "output_type": "display_data"
    },
    {
     "data": {
      "text/plain": [
       "0    tissue\n",
       "dtype: object"
      ]
     },
     "metadata": {},
     "output_type": "display_data"
    },
    {
     "name": "stderr",
     "output_type": "stream",
     "text": [
      "LV470:  22%|██▏       | 11/50 [02:17<07:34, 11.67s/it]"
     ]
    },
    {
     "name": "stdout",
     "output_type": "stream",
     "text": [
      "SRP024268, SRP007947, SRP064464, SRP057196, SRP066834, SRP055569, SRP060416, SRP007412, SRP041036, SRP029889, SRP042161, SRP058667, SRP039361, SRP060355, SRP007338, SRP045276, SRP015976, SRP028336, SRP056696, SRP042620, SRP014428, SRP055513, SRP063840, SRP006575, SRP050499, SRP012015, SRP061701, SRP045569, SRP033135, SRP047192, SRP059066, SRP063834, SRP058773, SRP037982, SRP064259, SRP017138, SRP059379, SRP041826, SRP050003, SRP020493, SRP050551, SRP010483, SRP012461, SRP035387, SRP039694, SRP001558, SRP009247, SRP011924, SRP066956, SRP040998, SRP056098, SRP052740, SRP058626, SRP034712, SRP062873, SRP004837, SRP025982, SRP042218, SRP051688, SRP063661, SRP049591, SRP009373, SRP003901, SRP043960, SRP045898, SRP056395, SRP030617, SRP007461, SRP066356, SRP051485, SRP045659, SRP011546, SRP050992, "
     ]
    },
    {
     "name": "stderr",
     "output_type": "stream",
     "text": [
      "/home/miltondp/projects/labs/greenelab/phenoplier/libs/data/recount2.py:320: UserWarning: Not all experiments data could be loaded (71 != 73)\n",
      "  warnings.warn(\n"
     ]
    },
    {
     "data": {
      "text/plain": [
       "4    cell type\n",
       "dtype: object"
      ]
     },
     "metadata": {},
     "output_type": "display_data"
    },
    {
     "data": {
      "text/plain": [
       "24    tissue type\n",
       "0          tissue\n",
       "dtype: object"
      ]
     },
     "metadata": {},
     "output_type": "display_data"
    },
    {
     "name": "stderr",
     "output_type": "stream",
     "text": [
      "LV66:  24%|██▍       | 12/50 [02:41<09:40, 15.27s/it] "
     ]
    },
    {
     "name": "stdout",
     "output_type": "stream",
     "text": [
      "SRP048674, SRP029207, SRP021912, SRP051249, SRP040292, SRP055513, SRP055569, SRP057196, SRP050499, SRP017959, SRP029334, SRP045364, SRP043434, SRP049981, SRP042161, SRP008218, SRP020646, SRP011895, SRP012461, SRP021193, SRP012656, SRP026052, SRP050954, SRP037982, SRP049946, SRP027383, SRP022259, SRP049409, SRP056696, SRP018933, SRP002915, SRP033135, SRP009123, SRP058804, SRP043221, SRP066834, SRP050193, SRP048759, SRP047192, SRP050551, SRP008145, SRP060416, SRP044610, SRP050992, SRP004637, SRP044668, SRP057205, SRP058773, SRP042218, SRP016059, SRP058740, SRP040300, SRP020493, SRP039694, SRP040998, SRP058375, SRP056146, SRP010054, SRP039591, SRP019994, SRP014790, SRP014213, SRP007338, SRP029262, SRP014809, SRP018403, SRP041538, SRP063834, SRP034592, SRP018838, SRP007494, SRP050374, SRP002326, SRP007481, SRP030617, SRP026620, SRP052879, SRP015013, SRP033351, SRP058626, SRP061566, SRP039338, SRP017435, SRP044042, SRP015853, SRP007461, SRP007498, SRP003726, SRP066371, "
     ]
    },
    {
     "name": "stderr",
     "output_type": "stream",
     "text": [
      "/home/miltondp/projects/labs/greenelab/phenoplier/libs/data/recount2.py:320: UserWarning: Not all experiments data could be loaded (86 != 89)\n",
      "  warnings.warn(\n"
     ]
    },
    {
     "data": {
      "text/plain": [
       "1    cell type\n",
       "dtype: object"
      ]
     },
     "metadata": {},
     "output_type": "display_data"
    },
    {
     "data": {
      "text/plain": [
       "38    tissue type\n",
       "2          tissue\n",
       "dtype: object"
      ]
     },
     "metadata": {},
     "output_type": "display_data"
    },
    {
     "name": "stderr",
     "output_type": "stream",
     "text": [
      "LV189:  26%|██▌       | 13/50 [02:59<09:57, 16.14s/it]"
     ]
    },
    {
     "name": "stdout",
     "output_type": "stream",
     "text": [
      "SRP037775, SRP064259, SRP033250, SRP026537, SRP045322, SRP042620, SRP042161, SRP055569, SRP049500, SRP006575, SRP030475, SRP011974, SRP049507, SRP030401, SRP043470, SRP057205, SRP061241, SRP055512, SRP059379, SRP058722, SRP063620, SRP049988, SRP019498, SRP060416, SRP057196, SRP065202, SRP033135, SRP018853, SRP011054, SRP019936, SRP013389, SRP063840, SRP066834, SRP032789, SRP048664, SRP040966, SRP047192, SRP061243, SRP004637, SRP012557, SRP040418, SRP023262, SRP044610, SRP058571, SRP055153, SRP051102, SRP031503, SRP058773, SRP012167, SRP043320, SRP035988, SRP067214, SRP049713, SRP040505, SRP050971, SRP057758, SRP013239, SRP029334, "
     ]
    },
    {
     "name": "stderr",
     "output_type": "stream",
     "text": [
      "/home/miltondp/projects/labs/greenelab/phenoplier/libs/data/recount2.py:320: UserWarning: Not all experiments data could be loaded (56 != 58)\n",
      "  warnings.warn(\n"
     ]
    },
    {
     "data": {
      "text/plain": [
       "2    cell type\n",
       "dtype: object"
      ]
     },
     "metadata": {},
     "output_type": "display_data"
    },
    {
     "data": {
      "text/plain": [
       "51    tissue type\n",
       "8          tissue\n",
       "dtype: object"
      ]
     },
     "metadata": {},
     "output_type": "display_data"
    },
    {
     "name": "stderr",
     "output_type": "stream",
     "text": [
      "LV517:  28%|██▊       | 14/50 [03:13<09:16, 15.47s/it]"
     ]
    },
    {
     "name": "stdout",
     "output_type": "stream",
     "text": [
      "SRP055569, SRP057196, SRP015449, SRP002326, SRP042161, SRP060416, SRP033206, SRP030401, SRP025989, SRP050892, SRP040421, SRP012461, SRP064259, SRP050499, SRP009266, SRP018104, SRP005279, SRP066834, SRP006970, SRP057205, SRP029889, SRP019994, SRP018020, SRP043960, SRP009862, SRP017199, SRP058773, SRP014624, SRP018838, SRP015976, SRP060359, SRP014867, SRP033119, SRP059775, SRP014320, SRP063840, SRP041788, SRP056696, SRP017575, SRP018719, SRP027345, SRP017933, SRP046266, SRP030617, SRP015670, SRP015013, SRP044206, SRP017190, SRP055863, SRP011422, SRP007338, SRP015678, SRP045639, SRP006575, SRP028325, SRP033135, SRP059039, SRP004837, SRP059732, SRP062389, SRP059379, SRP014428, SRP002605, SRP023262, SRP027258, SRP036821, SRP010038, SRP038964, SRP041162, SRP014027, "
     ]
    },
    {
     "name": "stderr",
     "output_type": "stream",
     "text": [
      "/home/miltondp/projects/labs/greenelab/phenoplier/libs/data/recount2.py:320: UserWarning: Not all experiments data could be loaded (67 != 70)\n",
      "  warnings.warn(\n"
     ]
    },
    {
     "data": {
      "text/plain": [
       "0    cell type\n",
       "dtype: object"
      ]
     },
     "metadata": {},
     "output_type": "display_data"
    },
    {
     "data": {
      "text/plain": [
       "1    tissue\n",
       "dtype: object"
      ]
     },
     "metadata": {},
     "output_type": "display_data"
    },
    {
     "name": "stderr",
     "output_type": "stream",
     "text": [
      "LV840:  30%|███       | 15/50 [03:30<09:11, 15.76s/it]"
     ]
    },
    {
     "name": "stdout",
     "output_type": "stream",
     "text": [
      "SRP043417, SRP028301, SRP059775, SRP062177, SRP012056, SRP033119, SRP040278, SRP058300, SRP034543, SRP056084, SRP038695, SRP058841, SRP059948, SRP042161, SRP009266, SRP006475, SRP045501, SRP033369, SRP058773, SRP018861, SRP041036, SRP055810, SRP055569, SRP029245, SRP018719, SRP015964, SRP014867, SRP010280, SRP048536, SRP002605, SRP053402, SRP063339, SRP019250, SRP007461, SRP044653, SRP046749, SRP039397, SRP052950, SRP056036, SRP043962, SRP061539, SRP019989, SRP064481, SRP045481, SRP028887, SRP013725, SRP009861, SRP041263, SRP058087, SRP019241, SRP050055, SRP011546, SRP039348, SRP010430, SRP058191, SRP049510, SRP056200, SRP060637, SRP021214, SRP060416, SRP041656, SRP064464, SRP041396, SRP053052, SRP029515, SRP064317, SRP001349, SRP041130, SRP017644, SRP059266, "
     ]
    },
    {
     "name": "stderr",
     "output_type": "stream",
     "text": [
      "/home/miltondp/projects/labs/greenelab/phenoplier/libs/data/recount2.py:320: UserWarning: Not all experiments data could be loaded (68 != 70)\n",
      "  warnings.warn(\n"
     ]
    },
    {
     "data": {
      "text/plain": [
       "2    cell type\n",
       "dtype: object"
      ]
     },
     "metadata": {},
     "output_type": "display_data"
    },
    {
     "data": {
      "text/plain": [
       "52    tissue\n",
       "dtype: object"
      ]
     },
     "metadata": {},
     "output_type": "display_data"
    },
    {
     "name": "stderr",
     "output_type": "stream",
     "text": [
      "LV246:  32%|███▏      | 16/50 [03:39<07:55, 13.97s/it]"
     ]
    },
    {
     "name": "stdout",
     "output_type": "stream",
     "text": [
      "SRP042186, SRP045545, SRP044756, SRP051211, SRP042620, SRP055749, SRP029899, SRP021478, SRP042086, SRP065812, SRP007412, SRP020470, SRP037778, SRP042161, SRP029889, SRP057196, SRP053101, SRP050499, SRP035988, SRP033135, SRP034712, SRP012461, SRP056041, SRP048674, SRP059643, SRP045364, SRP026042, SRP050971, SRP051705, SRP035387, SRP055512, SRP007461, SRP065451, SRP007338, SRP019936, SRP055569, SRP060355, SRP058571, SRP041377, SRP040998, SRP059379, SRP036133, SRP066834, SRP051772, SRP044056, SRP048669, SRP059066, SRP068078, SRP060359, SRP055475, SRP058771, SRP045639, SRP043085, SRP062177, SRP064464, SRP041597, SRP056696, SRP059035, SRP010678, SRP049593, SRP048536, SRP061566, SRP030617, SRP057804, SRP045156, SRP044171, SRP010644, SRP057448, SRP041751, SRP061701, SRP033131, SRP041387, SRP063834, SRP020493, "
     ]
    },
    {
     "name": "stderr",
     "output_type": "stream",
     "text": [
      "/home/miltondp/projects/labs/greenelab/phenoplier/libs/data/recount2.py:320: UserWarning: Not all experiments data could be loaded (72 != 74)\n",
      "  warnings.warn(\n"
     ]
    },
    {
     "data": {
      "text/plain": [
       "0    cell type\n",
       "dtype: object"
      ]
     },
     "metadata": {},
     "output_type": "display_data"
    },
    {
     "data": {
      "text/plain": [
       "17    tissue type\n",
       "10         tissue\n",
       "dtype: object"
      ]
     },
     "metadata": {},
     "output_type": "display_data"
    },
    {
     "name": "stderr",
     "output_type": "stream",
     "text": [
      "LV502:  34%|███▍      | 17/50 [03:57<08:18, 15.11s/it]"
     ]
    },
    {
     "name": "stdout",
     "output_type": "stream",
     "text": [
      "SRP012461, SRP055569, SRP042161, SRP060416, SRP042218, SRP014624, SRP057196, SRP015678, SRP015449, SRP011054, SRP031776, SRP033369, SRP066834, SRP011578, SRP057205, SRP059170, SRP025982, SRP002915, SRP057248, SRP011546, SRP055810, SRP050179, SRP033135, SRP056696, SRP029334, SRP058773, SRP067529, SRP063620, SRP041718, SRP050499, SRP005279, SRP041094, SRP013984, SRP002640, SRP058120, SRP019994, SRP059531, SRP003754, SRP035391, SRP042184, SRP040243, SRP018716, SRP048674, SRP051000, SRP007461, SRP063840, SRP017575, SRP026537, SRP057500, SRP047192, SRP030617, SRP008554, SRP064259, SRP030475, SRP014867, SRP039348, SRP044206, SRP010038, SRP059035, SRP059732, SRP019936, SRP037982, "
     ]
    },
    {
     "name": "stderr",
     "output_type": "stream",
     "text": [
      "/home/miltondp/projects/labs/greenelab/phenoplier/libs/data/recount2.py:320: UserWarning: Not all experiments data could be loaded (59 != 62)\n",
      "  warnings.warn(\n"
     ]
    },
    {
     "data": {
      "text/plain": [
       "0    cell type\n",
       "dtype: object"
      ]
     },
     "metadata": {},
     "output_type": "display_data"
    },
    {
     "data": {
      "text/plain": [
       "99    tissue type\n",
       "11         tissue\n",
       "dtype: object"
      ]
     },
     "metadata": {},
     "output_type": "display_data"
    },
    {
     "name": "stderr",
     "output_type": "stream",
     "text": [
      "LV525:  36%|███▌      | 18/50 [04:24<09:52, 18.53s/it]"
     ]
    },
    {
     "name": "stdout",
     "output_type": "stream",
     "text": [
      "SRP055569, SRP042161, SRP033135, SRP050499, SRP058773, SRP060416, SRP059775, SRP009266, SRP057196, SRP066834, SRP055153, SRP056696, SRP018838, SRP009862, SRP019994, SRP017575, SRP012461, SRP064464, SRP063840, SRP050551, SRP019936, SRP002326, SRP013402, SRP045573, SRP013363, SRP025982, SRP007338, SRP058626, SRP057205, SRP014428, SRP044917, SRP062177, SRP059035, SRP064259, SRP059379, SRP036053, "
     ]
    },
    {
     "name": "stderr",
     "output_type": "stream",
     "text": [
      "/home/miltondp/projects/labs/greenelab/phenoplier/libs/data/recount2.py:320: UserWarning: Not all experiments data could be loaded (34 != 36)\n",
      "  warnings.warn(\n"
     ]
    },
    {
     "data": {
      "text/plain": [
       "0    cell type\n",
       "dtype: object"
      ]
     },
     "metadata": {},
     "output_type": "display_data"
    },
    {
     "data": {
      "text/plain": [
       "38    tissue type\n",
       "15         tissue\n",
       "dtype: object"
      ]
     },
     "metadata": {},
     "output_type": "display_data"
    },
    {
     "name": "stderr",
     "output_type": "stream",
     "text": [
      "LV85:  38%|███▊      | 19/50 [04:47<10:23, 20.12s/it] "
     ]
    },
    {
     "name": "stdout",
     "output_type": "stream",
     "text": [
      "SRP012461, SRP055569, SRP057196, SRP023111, SRP066834, SRP058773, SRP002184, SRP042161, SRP009266, SRP015976, SRP033135, SRP007947, SRP064464, SRP063840, SRP003901, SRP055153, SRP060416, SRP050499, SRP057205, SRP009247, SRP024268, SRP044956, SRP014542, SRP059379, SRP059035, SRP013239, SRP010350, SRP015853, SRP017411, SRP015449, SRP009862, SRP018256, SRP055810, SRP011546, SRP027383, SRP006575, SRP014620, SRP003227, SRP041130, "
     ]
    },
    {
     "name": "stderr",
     "output_type": "stream",
     "text": [
      "/home/miltondp/projects/labs/greenelab/phenoplier/libs/data/recount2.py:320: UserWarning: Not all experiments data could be loaded (37 != 39)\n",
      "  warnings.warn(\n"
     ]
    },
    {
     "data": {
      "text/plain": [
       "0    cell type\n",
       "dtype: object"
      ]
     },
     "metadata": {},
     "output_type": "display_data"
    },
    {
     "data": {
      "text/plain": [
       "44    tissue type\n",
       "5          tissue\n",
       "dtype: object"
      ]
     },
     "metadata": {},
     "output_type": "display_data"
    },
    {
     "name": "stderr",
     "output_type": "stream",
     "text": [
      "LV926:  40%|████      | 20/50 [05:03<09:23, 18.78s/it]"
     ]
    },
    {
     "name": "stdout",
     "output_type": "stream",
     "text": [
      "SRP042161, SRP055569, SRP066834, SRP012461, SRP060416, SRP055153, SRP057196, SRP058773, SRP033135, SRP050499, SRP059379, SRP042218, SRP003901, SRP009266, SRP063840, SRP018838, SRP059775, SRP014620, SRP064464, SRP058667, SRP050992, SRP047192, "
     ]
    },
    {
     "name": "stderr",
     "output_type": "stream",
     "text": [
      "/home/miltondp/projects/labs/greenelab/phenoplier/libs/data/recount2.py:320: UserWarning: Not all experiments data could be loaded (21 != 22)\n",
      "  warnings.warn(\n"
     ]
    },
    {
     "data": {
      "text/plain": [
       "1    cell type\n",
       "dtype: object"
      ]
     },
     "metadata": {},
     "output_type": "display_data"
    },
    {
     "data": {
      "text/plain": [
       "38    tissue type\n",
       "5          tissue\n",
       "dtype: object"
      ]
     },
     "metadata": {},
     "output_type": "display_data"
    },
    {
     "name": "stderr",
     "output_type": "stream",
     "text": [
      "LV824:  42%|████▏     | 21/50 [05:24<09:20, 19.32s/it]"
     ]
    },
    {
     "name": "stdout",
     "output_type": "stream",
     "text": [
      "SRP057205, SRP055569, SRP060416, SRP042161, SRP057196, SRP066834, SRP007498, SRP050499, SRP007947, SRP033135, SRP024268, SRP031507, SRP059379, SRP064464, SRP058773, SRP030617, SRP009862, SRP049340, SRP058351, SRP018719, SRP008218, SRP042119, SRP059279, SRP040145, SRP003726, SRP030475, SRP050992, SRP049391, SRP050147, SRP045294, SRP005129, SRP056076, SRP064259, SRP004847, SRP026537, SRP019241, SRP051472, SRP041263, SRP063867, SRP044611, SRP031858, SRP041008, SRP032928, SRP026033, SRP011378, SRP003021, SRP014320, SRP049475, SRP061840, SRP050365, SRP011546, SRP014626, SRP056084, SRP049593, SRP018861, SRP026084, "
     ]
    },
    {
     "name": "stderr",
     "output_type": "stream",
     "text": [
      "/home/miltondp/projects/labs/greenelab/phenoplier/libs/data/recount2.py:320: UserWarning: Not all experiments data could be loaded (54 != 56)\n",
      "  warnings.warn(\n"
     ]
    },
    {
     "data": {
      "text/plain": [
       "5    cell type\n",
       "dtype: object"
      ]
     },
     "metadata": {},
     "output_type": "display_data"
    },
    {
     "data": {
      "text/plain": [
       "10    tissue\n",
       "dtype: object"
      ]
     },
     "metadata": {},
     "output_type": "display_data"
    },
    {
     "name": "stderr",
     "output_type": "stream",
     "text": [
      "LV496:  44%|████▍     | 22/50 [05:45<09:15, 19.85s/it]"
     ]
    },
    {
     "name": "stdout",
     "output_type": "stream",
     "text": [
      "SRP055569, SRP060416, SRP057196, SRP042218, SRP042161, SRP066834, SRP050499, SRP042620, SRP024268, SRP026537, SRP033135, SRP007947, SRP058773, SRP058351, SRP010129, SRP063493, SRP019222, SRP015449, SRP064259, SRP055153, SRP018838, SRP009247, SRP063840, SRP043960, SRP050992, SRP006474, SRP002184, SRP002079, SRP059379, SRP018837, SRP007498, SRP041826, SRP014670, SRP012461, SRP019758, SRP059170, SRP059775, SRP030617, SRP060370, SRP008218, SRP057205, SRP015360, SRP022591, SRP009862, "
     ]
    },
    {
     "name": "stderr",
     "output_type": "stream",
     "text": [
      "/home/miltondp/projects/labs/greenelab/phenoplier/libs/data/recount2.py:320: UserWarning: Not all experiments data could be loaded (43 != 44)\n",
      "  warnings.warn(\n"
     ]
    },
    {
     "data": {
      "text/plain": [
       "0    cell type\n",
       "dtype: object"
      ]
     },
     "metadata": {},
     "output_type": "display_data"
    },
    {
     "data": {
      "text/plain": [
       "3    tissue\n",
       "dtype: object"
      ]
     },
     "metadata": {},
     "output_type": "display_data"
    },
    {
     "name": "stderr",
     "output_type": "stream",
     "text": [
      "LV545:  46%|████▌     | 23/50 [06:01<08:29, 18.88s/it]"
     ]
    },
    {
     "name": "stdout",
     "output_type": "stream",
     "text": [
      "SRP055569, SRP057196, SRP066834, SRP007359, SRP007947, SRP042161, SRP012461, SRP050499, SRP063840, SRP060416, SRP015013, SRP010350, SRP059379, SRP011546, SRP033135, SRP000599, SRP058773, SRP011054, SRP012096, SRP064464, SRP018838, SRP029889, SRP030617, SRP063661, SRP031507, SRP042218, SRP009247, SRP057205, "
     ]
    },
    {
     "data": {
      "text/plain": [
       "0    cell type\n",
       "dtype: object"
      ]
     },
     "metadata": {},
     "output_type": "display_data"
    },
    {
     "data": {
      "text/plain": [
       "1    tissue\n",
       "dtype: object"
      ]
     },
     "metadata": {},
     "output_type": "display_data"
    },
    {
     "name": "stderr",
     "output_type": "stream",
     "text": [
      "LV541:  48%|████▊     | 24/50 [06:14<07:24, 17.08s/it]"
     ]
    },
    {
     "name": "stdout",
     "output_type": "stream",
     "text": [
      "SRP055569, SRP010350, SRP050499, SRP057196, SRP018837, SRP058773, SRP015668, SRP066834, SRP014428, SRP051765, SRP060416, SRP042161, SRP022892, SRP045711, SRP022260, SRP033135, SRP055474, SRP019994, SRP022591, SRP009266, SRP030401, SRP012461, SRP051606, SRP049068, SRP065559, SRP048577, SRP009029, SRP011185, SRP014867, SRP064735, SRP017435, SRP002487, SRP030617, SRP042218, SRP058120, SRP018853, SRP064464, SRP007338, SRP055153, SRP059732, SRP025982, SRP057205, SRP029207, SRP018838, SRP022259, SRP019936, SRP017575, SRP012557, SRP041008, SRP063840, SRP064454, SRP043085, SRP006475, SRP034599, SRP014213, SRP029656, SRP032789, SRP052874, SRP018719, SRP033511, SRP036053, SRP019207, SRP057616, "
     ]
    },
    {
     "name": "stderr",
     "output_type": "stream",
     "text": [
      "/home/miltondp/projects/labs/greenelab/phenoplier/libs/data/recount2.py:320: UserWarning: Not all experiments data could be loaded (61 != 63)\n",
      "  warnings.warn(\n"
     ]
    },
    {
     "data": {
      "text/plain": [
       "0    cell type\n",
       "dtype: object"
      ]
     },
     "metadata": {},
     "output_type": "display_data"
    },
    {
     "data": {
      "text/plain": [
       "89    tissue type\n",
       "6          tissue\n",
       "dtype: object"
      ]
     },
     "metadata": {},
     "output_type": "display_data"
    },
    {
     "name": "stderr",
     "output_type": "stream",
     "text": [
      "LV143:  50%|█████     | 25/50 [06:37<07:49, 18.78s/it]"
     ]
    },
    {
     "name": "stdout",
     "output_type": "stream",
     "text": [
      "SRP055569, SRP012546, SRP033135, SRP057196, SRP066834, SRP057205, SRP056957, SRP010279, SRP060416, SRP042161, SRP059775, SRP055153, SRP058773, SRP007947, SRP057248, SRP063840, SRP047192, SRP007461, SRP015449, SRP034528, SRP050499, SRP004637, SRP009247, SRP014320, SRP020470, SRP045659, SRP059379, SRP007359, SRP059035, SRP064464, SRP027258, SRP007946, SRP014624, SRP012461, SRP038761, SRP002184, SRP015640, SRP021509, SRP043593, SRP062025, SRP039361, SRP019936, SRP006474, SRP032775, SRP050992, SRP009862, SRP029739, SRP018933, SRP024268, SRP010644, SRP015670, SRP044042, SRP055810, SRP017138, SRP036821, SRP043085, "
     ]
    },
    {
     "name": "stderr",
     "output_type": "stream",
     "text": [
      "/home/miltondp/projects/labs/greenelab/phenoplier/libs/data/recount2.py:320: UserWarning: Not all experiments data could be loaded (53 != 56)\n",
      "  warnings.warn(\n"
     ]
    },
    {
     "data": {
      "text/plain": [
       "0    cell type\n",
       "dtype: object"
      ]
     },
     "metadata": {},
     "output_type": "display_data"
    },
    {
     "data": {
      "text/plain": [
       "78    tissue type\n",
       "3          tissue\n",
       "dtype: object"
      ]
     },
     "metadata": {},
     "output_type": "display_data"
    },
    {
     "name": "stderr",
     "output_type": "stream",
     "text": [
      "LV221:  52%|█████▏    | 26/50 [06:53<07:14, 18.09s/it]"
     ]
    },
    {
     "name": "stdout",
     "output_type": "stream",
     "text": [
      "SRP024244, SRP055569, SRP060416, SRP042161, SRP042218, SRP007947, SRP008145, SRP033135, SRP050499, SRP024268, SRP055675, SRP066834, SRP007338, SRP007569, SRP057196, SRP059057, SRP009247, SRP012461, SRP037735, SRP006574, SRP017123, SRP051736, SRP019994, SRP034953, SRP015668, SRP058773, SRP002915, SRP017575, SRP057205, SRP038969, SRP064464, SRP037722, SRP056733, SRP011054, SRP030617, SRP006575, SRP018838, SRP037719, SRP011422, SRP045659, SRP055474, SRP033498, SRP056098, SRP005279, SRP009251, SRP055513, SRP006474, SRP058120, SRP008218, SRP009067, SRP055810, SRP047476, SRP002881, SRP002326, SRP042228, SRP048801, SRP036821, "
     ]
    },
    {
     "data": {
      "text/plain": [
       "0    cell type\n",
       "dtype: object"
      ]
     },
     "metadata": {},
     "output_type": "display_data"
    },
    {
     "data": {
      "text/plain": [
       "9    tissue\n",
       "dtype: object"
      ]
     },
     "metadata": {},
     "output_type": "display_data"
    },
    {
     "name": "stderr",
     "output_type": "stream",
     "text": [
      "LV122:  54%|█████▍    | 27/50 [07:14<07:13, 18.85s/it]"
     ]
    },
    {
     "name": "stdout",
     "output_type": "stream",
     "text": [
      "SRP010350, SRP049591, SRP007596, SRP057196, SRP028282, SRP060416, SRP055569, SRP035387, SRP040679, SRP004637, SRP013473, SRP065202, SRP009276, SRP015449, SRP010054, SRP006719, SRP034953, SRP009266, SRP066834, SRP019936, SRP058120, SRP014809, SRP059775, SRP051102, SRP045869, SRP036821, SRP006575, SRP017631, SRP060708, SRP040966, SRP023262, SRP013725, SRP061241, SRP044956, SRP029334, SRP027258, SRP019994, SRP042620, SRP052950, SRP058300, SRP017411, SRP064481, SRP026315, SRP022920, SRP012461, SRP014146, SRP056696, SRP050365, SRP060359, SRP033276, SRP033119, SRP067214, SRP036053, SRP033135, SRP042161, SRP050499, SRP061566, SRP055153, SRP059948, SRP044608, SRP005177, SRP051583, SRP040998, SRP014428, SRP009862, SRP011546, SRP059950, SRP050061, SRP006731, SRP026537, SRP048536, SRP055810, SRP064317, SRP061329, SRP052978, "
     ]
    },
    {
     "name": "stderr",
     "output_type": "stream",
     "text": [
      "/home/miltondp/projects/labs/greenelab/phenoplier/libs/data/recount2.py:320: UserWarning: Not all experiments data could be loaded (71 != 75)\n",
      "  warnings.warn(\n"
     ]
    },
    {
     "data": {
      "text/plain": [
       "6    cell type\n",
       "dtype: object"
      ]
     },
     "metadata": {},
     "output_type": "display_data"
    },
    {
     "data": {
      "text/plain": [
       "37    tissue type\n",
       "7          tissue\n",
       "dtype: object"
      ]
     },
     "metadata": {},
     "output_type": "display_data"
    },
    {
     "name": "stderr",
     "output_type": "stream",
     "text": [
      "LV802:  56%|█████▌    | 28/50 [07:32<06:45, 18.41s/it]"
     ]
    },
    {
     "name": "stdout",
     "output_type": "stream",
     "text": [
      "SRP057196, SRP066834, SRP042161, SRP060416, SRP055569, SRP064464, SRP059379, SRP058773, SRP050499, SRP055153, SRP030617, SRP029889, SRP018853, SRP033369, SRP012461, SRP007947, SRP010670, SRP015853, SRP006474, SRP017411, SRP059170, SRP033135, SRP059775, SRP022892, SRP024268, SRP009862, SRP002487, SRP015449, SRP063980, SRP033646, SRP017777, SRP064259, SRP046749, SRP007461, SRP066424, SRP052056, SRP063840, SRP053190, SRP006575, SRP013363, SRP005279, SRP045859, SRP007412, SRP027530, "
     ]
    },
    {
     "name": "stderr",
     "output_type": "stream",
     "text": [
      "/home/miltondp/projects/labs/greenelab/phenoplier/libs/data/recount2.py:320: UserWarning: Not all experiments data could be loaded (42 != 44)\n",
      "  warnings.warn(\n"
     ]
    },
    {
     "data": {
      "text/plain": [
       "1    cell type\n",
       "dtype: object"
      ]
     },
     "metadata": {},
     "output_type": "display_data"
    },
    {
     "data": {
      "text/plain": [
       "0    tissue\n",
       "dtype: object"
      ]
     },
     "metadata": {},
     "output_type": "display_data"
    },
    {
     "name": "stderr",
     "output_type": "stream",
     "text": [
      "LV106:  58%|█████▊    | 29/50 [07:46<05:59, 17.14s/it]"
     ]
    },
    {
     "name": "stdout",
     "output_type": "stream",
     "text": [
      "SRP007461, SRP014790, SRP059066, SRP062873, SRP009862, SRP035387, SRP014320, SRP028902, SRP011233, SRP056696, SRP009266, SRP015845, SRP041990, SRP034011, SRP037982, SRP060359, SRP063834, SRP033131, SRP007412, SRP058626, SRP050551, SRP006575, SRP040998, SRP051705, SRP055513, SRP026537, SRP040292, SRP064259, SRP007338, SRP043593, SRP042620, SRP060355, SRP039694, SRP042161, SRP051822, SRP026621, SRP001558, SRP015976, SRP041597, SRP051249, SRP048557, SRP019994, SRP050003, SRP025982, SRP055569, SRP058773, SRP029207, SRP003611, SRP058740, SRP045276, SRP007351, SRP019241, SRP030617, SRP029880, SRP009247, SRP057196, SRP047299, SRP012557, SRP028336, SRP028804, SRP023111, SRP039591, SRP036821, "
     ]
    },
    {
     "name": "stderr",
     "output_type": "stream",
     "text": [
      "/home/miltondp/projects/labs/greenelab/phenoplier/libs/data/recount2.py:320: UserWarning: Not all experiments data could be loaded (57 != 63)\n",
      "  warnings.warn(\n"
     ]
    },
    {
     "data": {
      "text/plain": [
       "1    cell type\n",
       "dtype: object"
      ]
     },
     "metadata": {},
     "output_type": "display_data"
    },
    {
     "data": {
      "text/plain": [
       "11    tissue\n",
       "dtype: object"
      ]
     },
     "metadata": {},
     "output_type": "display_data"
    },
    {
     "name": "stderr",
     "output_type": "stream",
     "text": [
      "LV798:  60%|██████    | 30/50 [08:01<05:30, 16.54s/it]"
     ]
    },
    {
     "name": "stdout",
     "output_type": "stream",
     "text": [
      "SRP055569, SRP058773, SRP060416, SRP042161, SRP057196, SRP066834, SRP033135, SRP050499, SRP007498, SRP055153, SRP057852, SRP059379, SRP059775, SRP055810, SRP006474, SRP009266, SRP007338, SRP008145, SRP066994, SRP063840, SRP019994, SRP050992, SRP033119, SRP064259, SRP011546, SRP002487, SRP045711, SRP005279, SRP017777, SRP015013, SRP014428, "
     ]
    },
    {
     "name": "stderr",
     "output_type": "stream",
     "text": [
      "/home/miltondp/projects/labs/greenelab/phenoplier/libs/data/recount2.py:320: UserWarning: Not all experiments data could be loaded (30 != 31)\n",
      "  warnings.warn(\n"
     ]
    },
    {
     "data": {
      "text/plain": [
       "0    cell type\n",
       "dtype: object"
      ]
     },
     "metadata": {},
     "output_type": "display_data"
    },
    {
     "data": {
      "text/plain": [
       "8    tissue\n",
       "dtype: object"
      ]
     },
     "metadata": {},
     "output_type": "display_data"
    },
    {
     "name": "stderr",
     "output_type": "stream",
     "text": [
      "LV50:  62%|██████▏   | 31/50 [08:15<04:58, 15.71s/it] "
     ]
    },
    {
     "name": "stdout",
     "output_type": "stream",
     "text": [
      "SRP060416, SRP007461, SRP056295, SRP057196, SRP055390, SRP005279, SRP050499, SRP003726, SRP028594, SRP043434, SRP033266, SRP058237, SRP008218, SRP045500, SRP032789, SRP041538, SRP048759, SRP021891, SRP064458, SRP043080, SRP042161, SRP063834, SRP055440, SRP056197, SRP018359, SRP050272, SRP063363, SRP027364, SRP043339, SRP004847, SRP059695, SRP035679, SRP041885, SRP021193, "
     ]
    },
    {
     "name": "stderr",
     "output_type": "stream",
     "text": [
      "/home/miltondp/projects/labs/greenelab/phenoplier/libs/data/recount2.py:320: UserWarning: Not all experiments data could be loaded (33 != 34)\n",
      "  warnings.warn(\n"
     ]
    },
    {
     "data": {
      "text/plain": [
       "18     celltype\n",
       "2     cell type\n",
       "dtype: object"
      ]
     },
     "metadata": {},
     "output_type": "display_data"
    },
    {
     "data": {
      "text/plain": [
       "3    tissue\n",
       "dtype: object"
      ]
     },
     "metadata": {},
     "output_type": "display_data"
    },
    {
     "name": "stderr",
     "output_type": "stream",
     "text": [
      "LV23:  64%|██████▍   | 32/50 [08:25<04:15, 14.19s/it]"
     ]
    },
    {
     "name": "stdout",
     "output_type": "stream",
     "text": [
      "SRP035988, SRP050971, SRP026042, SRP057087, SRP035864, SRP065812, SRP035641, SRP010678, SRP006575, SRP052740, SRP021891, SRP044206, SRP009251, SRP043085, SRP055569, SRP052856, SRP011974, SRP059275, SRP014320, SRP014146, SRP056637, SRP017575, SRP043388, SRP009266, SRP016583, "
     ]
    },
    {
     "name": "stderr",
     "output_type": "stream",
     "text": [
      "/home/miltondp/projects/labs/greenelab/phenoplier/libs/data/recount2.py:320: UserWarning: Not all experiments data could be loaded (23 != 25)\n",
      "  warnings.warn(\n"
     ]
    },
    {
     "data": {
      "text/plain": [
       "12    cell type\n",
       "dtype: object"
      ]
     },
     "metadata": {},
     "output_type": "display_data"
    },
    {
     "data": {
      "text/plain": [
       "0    tissue type\n",
       "6         tissue\n",
       "dtype: object"
      ]
     },
     "metadata": {},
     "output_type": "display_data"
    },
    {
     "name": "stderr",
     "output_type": "stream",
     "text": [
      "LV631:  66%|██████▌   | 33/50 [08:29<03:06, 10.97s/it]"
     ]
    },
    {
     "name": "stdout",
     "output_type": "stream",
     "text": [
      "SRP042161, SRP057196, SRP066834, SRP060416, SRP055569, SRP015976, SRP050499, SRP064464, SRP015013, SRP033135, SRP059379, SRP050992, SRP018853, SRP027383, SRP058773, SRP030617, SRP013363, SRP060355, SRP043085, SRP007947, SRP055153, SRP014591, SRP028301, SRP059775, SRP014213, SRP007498, "
     ]
    },
    {
     "data": {
      "text/plain": [
       "1    cell type\n",
       "dtype: object"
      ]
     },
     "metadata": {},
     "output_type": "display_data"
    },
    {
     "data": {
      "text/plain": [
       "4    tissue\n",
       "dtype: object"
      ]
     },
     "metadata": {},
     "output_type": "display_data"
    },
    {
     "name": "stderr",
     "output_type": "stream",
     "text": [
      "LV6:  68%|██████▊   | 34/50 [08:42<03:05, 11.61s/it]  "
     ]
    },
    {
     "name": "stdout",
     "output_type": "stream",
     "text": [
      "SRP057745, SRP041396, SRP022913, SRP015976, SRP004637, SRP056036, SRP014591, SRP055569, SRP045983, SRP041656, SRP057213, SRP041130, SRP064457, SRP033336, SRP056086, SRP010280, SRP029367, SRP040764, SRP060637, SRP029515, SRP019989, SRP028887, SRP033119, SRP057196, SRP059775, SRP039397, SRP029245, SRP010430, SRP038695, SRP019250, SRP001349, SRP044653, SRP018786, SRP044042, SRP038921, SRP033369, SRP045501, SRP055105, SRP018719, SRP014190, SRP029365, SRP034543, SRP058191, SRP018571, SRP010279, SRP023111, SRP060416, SRP059242, SRP056742, SRP040278, SRP050215, SRP068194, SRP048536, SRP062010, SRP058087, SRP029513, SRP009568, SRP018242, SRP053402, SRP042161, SRP050055, SRP059948, SRP064410, SRP041228, SRP045859, "
     ]
    },
    {
     "data": {
      "text/plain": [
       "5    cell type\n",
       "dtype: object"
      ]
     },
     "metadata": {},
     "output_type": "display_data"
    },
    {
     "data": {
      "text/plain": [
       "17    tissue\n",
       "dtype: object"
      ]
     },
     "metadata": {},
     "output_type": "display_data"
    },
    {
     "name": "stderr",
     "output_type": "stream",
     "text": [
      "LV893:  70%|███████   | 35/50 [08:51<02:41, 10.77s/it]"
     ]
    },
    {
     "name": "stdout",
     "output_type": "stream",
     "text": [
      "SRP007461, SRP017411, SRP009266, SRP046271, SRP009862, SRP067214, SRP002789, SRP003672, SRP043593, SRP015711, SRP043962, SRP057065, SRP015955, SRP012096, SRP061455, SRP017294, SRP045222, SRP044298, SRP013773, SRP062389, SRP045663, SRP044679, SRP053195, SRP017305, SRP066424, SRP019270, SRP049611, SRP019946, SRP014844, SRP021214, SRP007498, SRP055048, SRP026315, SRP028815, SRP005342, SRP019989, SRP058479, SRP057196, SRP026084, SRP001758, SRP050943, SRP030639, SRP023199, SRP014925, SRP002605, SRP026052, SRP014857, SRP012098, SRP051170, SRP014190, SRP057804, SRP012099, SRP033131, SRP017577, SRP051644, SRP014320, SRP064143, SRP028325, SRP026044, SRP021918, SRP047097, SRP034158, SRP050138, "
     ]
    },
    {
     "name": "stderr",
     "output_type": "stream",
     "text": [
      "/home/miltondp/projects/labs/greenelab/phenoplier/libs/data/recount2.py:320: UserWarning: Not all experiments data could be loaded (59 != 63)\n",
      "  warnings.warn(\n"
     ]
    },
    {
     "data": {
      "text/plain": [
       "0    cell type\n",
       "dtype: object"
      ]
     },
     "metadata": {},
     "output_type": "display_data"
    },
    {
     "data": {
      "text/plain": [
       "41    tissue\n",
       "dtype: object"
      ]
     },
     "metadata": {},
     "output_type": "display_data"
    },
    {
     "name": "stderr",
     "output_type": "stream",
     "text": [
      "LV882:  72%|███████▏  | 36/50 [08:55<02:03,  8.82s/it]"
     ]
    },
    {
     "name": "stdout",
     "output_type": "stream",
     "text": [
      "SRP042161, SRP055569, SRP060416, SRP033135, SRP018838, SRP066834, SRP057196, SRP050499, SRP014428, SRP007338, SRP058773, SRP057205, SRP055153, SRP007947, SRP024268, SRP012461, SRP064464, SRP043694, SRP059035, SRP039552, SRP059732, SRP006676, SRP002184, SRP063840, SRP029889, SRP003726, SRP016003, SRP006474, SRP008218, SRP017933, SRP015853, SRP050992, SRP016059, SRP042228, SRP020646, SRP025982, "
     ]
    },
    {
     "data": {
      "text/plain": [
       "1    cell type\n",
       "dtype: object"
      ]
     },
     "metadata": {},
     "output_type": "display_data"
    },
    {
     "data": {
      "text/plain": [
       "13    tissue\n",
       "dtype: object"
      ]
     },
     "metadata": {},
     "output_type": "display_data"
    },
    {
     "name": "stderr",
     "output_type": "stream",
     "text": [
      "LV142:  74%|███████▍  | 37/50 [09:17<02:45, 12.76s/it]"
     ]
    },
    {
     "name": "stdout",
     "output_type": "stream",
     "text": [
      "SRP004847, SRP004965, SRP008218, SRP003726, SRP009266, SRP057196, SRP002915, SRP005279, SRP055569, SRP032789, SRP042161, SRP055513, SRP026042, SRP057244, SRP050954, SRP041538, SRP066834, SRP007461, SRP012461, SRP023262, SRP032833, SRP014790, SRP017575, SRP064464, SRP029262, SRP060416, SRP065202, SRP012099, SRP042218, SRP042620, SRP022920, SRP036821, SRP012656, SRP022591, SRP056733, SRP014670, SRP036053, SRP056098, SRP024268, SRP055390, SRP064458, SRP058722, SRP058773, SRP033135, SRP029592, SRP012557, SRP040998, SRP050499, SRP059379, SRP057205, SRP031776, SRP061426, SRP049097, SRP010678, SRP002628, SRP059057, SRP009251, SRP019994, SRP063838, SRP046376, SRP050892, SRP049409, SRP028118, SRP003611, SRP027383, SRP043080, SRP017142, SRP006575, SRP007338, SRP027364, SRP065219, SRP029207, SRP014624, SRP017972, SRP052879, SRP039397, SRP016140, SRP026537, SRP050003, SRP013984, SRP036848, "
     ]
    },
    {
     "name": "stderr",
     "output_type": "stream",
     "text": [
      "/home/miltondp/projects/labs/greenelab/phenoplier/libs/data/recount2.py:320: UserWarning: Not all experiments data could be loaded (77 != 81)\n",
      "  warnings.warn(\n"
     ]
    },
    {
     "data": {
      "text/plain": [
       "1    cell type\n",
       "dtype: object"
      ]
     },
     "metadata": {},
     "output_type": "display_data"
    },
    {
     "data": {
      "text/plain": [
       "35    tissue type\n",
       "0          tissue\n",
       "dtype: object"
      ]
     },
     "metadata": {},
     "output_type": "display_data"
    },
    {
     "name": "stderr",
     "output_type": "stream",
     "text": [
      "LV913:  76%|███████▌  | 38/50 [09:36<02:55, 14.61s/it]"
     ]
    },
    {
     "name": "stdout",
     "output_type": "stream",
     "text": [
      "SRP039591, SRP048801, SRP042228, SRP009251, SRP063496, SRP006575, SRP029452, SRP041377, SRP042161, SRP052615, SRP019994, SRP007359, SRP041826, SRP052740, SRP023262, SRP050499, SRP063838, SRP056733, SRP007338, SRP057196, SRP039361, "
     ]
    },
    {
     "data": {
      "text/plain": [
       "21    cell type\n",
       "dtype: object"
      ]
     },
     "metadata": {},
     "output_type": "display_data"
    },
    {
     "data": {
      "text/plain": [
       "2    tissue\n",
       "dtype: object"
      ]
     },
     "metadata": {},
     "output_type": "display_data"
    },
    {
     "name": "stderr",
     "output_type": "stream",
     "text": [
      "LV478:  78%|███████▊  | 39/50 [09:46<02:26, 13.30s/it]"
     ]
    },
    {
     "name": "stdout",
     "output_type": "stream",
     "text": [
      "SRP057196, SRP066834, SRP042161, SRP050499, SRP060416, SRP045659, SRP009266, SRP058773, SRP009247, SRP018403, SRP063840, SRP055569, SRP018525, SRP033135, SRP043108, SRP012099, SRP041538, SRP003726, SRP029207, SRP032789, SRP012098, SRP055153, SRP050992, SRP056049, SRP064259, SRP040998, SRP050892, SRP032833, SRP034712, SRP018853, SRP008218, SRP004847, SRP033466, SRP024268, SRP015013, SRP042043, SRP064464, SRP012461, SRP057205, SRP063980, SRP015449, SRP058237, SRP056074, SRP010279, SRP029889, SRP011546, SRP020646, SRP059775, SRP064458, "
     ]
    },
    {
     "name": "stderr",
     "output_type": "stream",
     "text": [
      "/home/miltondp/projects/labs/greenelab/phenoplier/libs/data/recount2.py:320: UserWarning: Not all experiments data could be loaded (47 != 49)\n",
      "  warnings.warn(\n"
     ]
    },
    {
     "data": {
      "text/plain": [
       "1    cell type\n",
       "dtype: object"
      ]
     },
     "metadata": {},
     "output_type": "display_data"
    },
    {
     "data": {
      "text/plain": [
       "44    tissue type\n",
       "0          tissue\n",
       "dtype: object"
      ]
     },
     "metadata": {},
     "output_type": "display_data"
    },
    {
     "name": "stderr",
     "output_type": "stream",
     "text": [
      "LV387:  80%|████████  | 40/50 [10:03<02:23, 14.38s/it]"
     ]
    },
    {
     "name": "stdout",
     "output_type": "stream",
     "text": [
      "SRP055569, SRP060416, SRP057196, SRP042161, SRP055153, SRP033135, SRP009266, SRP015976, SRP015013, SRP007947, SRP012461, SRP055513, SRP015449, SRP011578, SRP009862, SRP014635, SRP050499, SRP066834, SRP007338, SRP013239, SRP059775, SRP024268, SRP056696, SRP007461, SRP058773, SRP003901, SRP015668, SRP017575, SRP018838, SRP019994, SRP063840, SRP051765, SRP042579, "
     ]
    },
    {
     "name": "stderr",
     "output_type": "stream",
     "text": [
      "/home/miltondp/projects/labs/greenelab/phenoplier/libs/data/recount2.py:320: UserWarning: Not all experiments data could be loaded (30 != 33)\n",
      "  warnings.warn(\n"
     ]
    },
    {
     "data": {
      "text/plain": [
       "0    cell type\n",
       "dtype: object"
      ]
     },
     "metadata": {},
     "output_type": "display_data"
    },
    {
     "data": {
      "text/plain": [
       "3    tissue\n",
       "dtype: object"
      ]
     },
     "metadata": {},
     "output_type": "display_data"
    },
    {
     "name": "stderr",
     "output_type": "stream",
     "text": [
      "LV879:  82%|████████▏ | 41/50 [10:17<02:07, 14.15s/it]"
     ]
    },
    {
     "name": "stdout",
     "output_type": "stream",
     "text": [
      "SRP041179, SRP048761, SRP002079, SRP039397, SRP047194, SRP047233, SRP049553, SRP017684, SRP045876, SRP022028, SRP061416, SRP045308, SRP006561, SRP041738, SRP047516, SRP060650, SRP063669, SRP018848, SRP035482, SRP035417, SRP013999, SRP033432, SRP058804, SRP041159, SRP049340, SRP028804, SRP039346, SRP064624, SRP046749, SRP032928, SRP049203, SRP013825, SRP033267, SRP049475, SRP047339, SRP041377, SRP037579, SRP061682, SRP055569, SRP028118, SRP050499, SRP032798, SRP056957, SRP059205, SRP041751, SRP008225, SRP014671, SRP048825, SRP036821, SRP040525, SRP056076, SRP021134, SRP055440, SRP003021, SRP016140, "
     ]
    },
    {
     "data": {
      "text/plain": [
       "1    cell type\n",
       "dtype: object"
      ]
     },
     "metadata": {},
     "output_type": "display_data"
    },
    {
     "data": {
      "text/plain": [
       "22    tissue\n",
       "dtype: object"
      ]
     },
     "metadata": {},
     "output_type": "display_data"
    },
    {
     "name": "stderr",
     "output_type": "stream",
     "text": [
      "LV855:  84%|████████▍ | 42/50 [10:22<01:31, 11.49s/it]"
     ]
    },
    {
     "name": "stdout",
     "output_type": "stream",
     "text": [
      "SRP057196, SRP055569, SRP058773, SRP060416, SRP063840, SRP042161, SRP066834, SRP050499, SRP030617, SRP055153, SRP033135, SRP015449, SRP023270, SRP019994, SRP059379, SRP059170, SRP047082, SRP055513, SRP006474, SRP059775, SRP064464, SRP059035, "
     ]
    },
    {
     "data": {
      "text/plain": [
       "1    cell type\n",
       "dtype: object"
      ]
     },
     "metadata": {},
     "output_type": "display_data"
    },
    {
     "data": {
      "text/plain": [
       "0    tissue\n",
       "dtype: object"
      ]
     },
     "metadata": {},
     "output_type": "display_data"
    },
    {
     "name": "stderr",
     "output_type": "stream",
     "text": [
      "LV248:  86%|████████▌ | 43/50 [10:36<01:26, 12.29s/it]"
     ]
    },
    {
     "name": "stdout",
     "output_type": "stream",
     "text": [
      "SRP059775, SRP055569, SRP019994, SRP042161, SRP060416, SRP066834, SRP057196, SRP033135, SRP012461, SRP002487, SRP050499, SRP005279, SRP043166, SRP007359, SRP010038, SRP059379, SRP018838, SRP058773, SRP014428, SRP013363, SRP007338, SRP055153, SRP006970, SRP064464, SRP056498, SRP018525, SRP045859, SRP042218, SRP017411, SRP031507, SRP022591, SRP041825, SRP009862, SRP059035, SRP057205, SRP050992, SRP063840, SRP055863, SRP007569, "
     ]
    },
    {
     "name": "stderr",
     "output_type": "stream",
     "text": [
      "/home/miltondp/projects/labs/greenelab/phenoplier/libs/data/recount2.py:320: UserWarning: Not all experiments data could be loaded (38 != 39)\n",
      "  warnings.warn(\n"
     ]
    },
    {
     "data": {
      "text/plain": [
       "1    cell type\n",
       "dtype: object"
      ]
     },
     "metadata": {},
     "output_type": "display_data"
    },
    {
     "data": {
      "text/plain": [
       "2    tissue\n",
       "dtype: object"
      ]
     },
     "metadata": {},
     "output_type": "display_data"
    },
    {
     "name": "stderr",
     "output_type": "stream",
     "text": [
      "LV532:  88%|████████▊ | 44/50 [10:51<01:19, 13.19s/it]"
     ]
    },
    {
     "name": "stdout",
     "output_type": "stream",
     "text": [
      "SRP055569, SRP042161, SRP057196, SRP055153, SRP008145, SRP003901, SRP060416, SRP012461, SRP033135, SRP066834, SRP042218, SRP007525, SRP029889, SRP002487, SRP002326, SRP050499, SRP058773, SRP018838, SRP043085, SRP030617, SRP009862, SRP025982, SRP059775, SRP059035, SRP026052, SRP033464, SRP050992, SRP039361, SRP009247, SRP018717, SRP064259, SRP009266, SRP004847, SRP007947, SRP022591, SRP057205, SRP018716, SRP062230, SRP014213, SRP057613, SRP024268, SRP019810, SRP007412, SRP026315, SRP010279, "
     ]
    },
    {
     "name": "stderr",
     "output_type": "stream",
     "text": [
      "/home/miltondp/projects/labs/greenelab/phenoplier/libs/data/recount2.py:320: UserWarning: Not all experiments data could be loaded (43 != 45)\n",
      "  warnings.warn(\n"
     ]
    },
    {
     "data": {
      "text/plain": [
       "0    cell type\n",
       "dtype: object"
      ]
     },
     "metadata": {},
     "output_type": "display_data"
    },
    {
     "data": {
      "text/plain": [
       "4    tissue\n",
       "dtype: object"
      ]
     },
     "metadata": {},
     "output_type": "display_data"
    },
    {
     "name": "stderr",
     "output_type": "stream",
     "text": [
      "LV512:  90%|█████████ | 45/50 [11:14<01:19, 15.97s/it]"
     ]
    },
    {
     "name": "stdout",
     "output_type": "stream",
     "text": [
      "SRP033135, SRP057196, SRP055569, SRP066834, SRP050499, SRP042161, SRP042043, SRP060416, SRP018838, SRP007359, SRP015668, SRP038963, SRP009247, SRP028282, SRP040679, SRP014320, SRP050596, SRP059379, SRP049591, SRP013473, SRP063840, SRP012461, SRP044668, SRP017575, SRP049097, SRP007461, SRP043221, SRP027383, SRP051606, SRP028336, SRP006719, SRP057205, SRP050061, SRP058667, SRP003901, SRP009266, SRP059035, SRP039397, "
     ]
    },
    {
     "name": "stderr",
     "output_type": "stream",
     "text": [
      "/home/miltondp/projects/labs/greenelab/phenoplier/libs/data/recount2.py:320: UserWarning: Not all experiments data could be loaded (35 != 38)\n",
      "  warnings.warn(\n"
     ]
    },
    {
     "data": {
      "text/plain": [
       "0    cell type\n",
       "dtype: object"
      ]
     },
     "metadata": {},
     "output_type": "display_data"
    },
    {
     "data": {
      "text/plain": [
       "46    tissue type\n",
       "6          tissue\n",
       "dtype: object"
      ]
     },
     "metadata": {},
     "output_type": "display_data"
    },
    {
     "name": "stderr",
     "output_type": "stream",
     "text": [
      "LV353:  92%|█████████▏| 46/50 [11:27<01:01, 15.30s/it]"
     ]
    },
    {
     "name": "stdout",
     "output_type": "stream",
     "text": [
      "SRP030617, SRP057196, SRP055569, SRP033135, SRP042161, SRP060416, SRP066834, SRP002487, SRP014428, SRP026620, SRP058773, SRP044042, SRP009247, SRP026315, SRP059379, SRP012056, SRP008145, SRP048820, SRP014670, SRP050499, SRP055153, SRP015845, SRP032833, SRP063840, SRP008218, SRP036790, SRP026454, SRP027383, SRP014213, SRP018838, SRP009862, SRP001758, SRP064464, SRP064259, SRP009266, SRP053794, SRP048664, SRP041387, SRP040278, SRP049823, SRP063493, SRP021509, SRP050551, SRP029452, SRP018242, "
     ]
    },
    {
     "name": "stderr",
     "output_type": "stream",
     "text": [
      "/home/miltondp/projects/labs/greenelab/phenoplier/libs/data/recount2.py:320: UserWarning: Not all experiments data could be loaded (43 != 45)\n",
      "  warnings.warn(\n"
     ]
    },
    {
     "data": {
      "text/plain": [
       "4    cell type\n",
       "dtype: object"
      ]
     },
     "metadata": {},
     "output_type": "display_data"
    },
    {
     "data": {
      "text/plain": [
       "47    tissue type\n",
       "3          tissue\n",
       "dtype: object"
      ]
     },
     "metadata": {},
     "output_type": "display_data"
    },
    {
     "name": "stderr",
     "output_type": "stream",
     "text": [
      "LV202:  94%|█████████▍| 47/50 [11:41<00:44, 14.89s/it]"
     ]
    },
    {
     "name": "stdout",
     "output_type": "stream",
     "text": [
      "SRP055569, SRP018853, SRP057196, SRP060416, SRP009266, SRP042161, SRP009862, SRP033135, SRP066834, SRP012461, SRP015976, SRP064464, SRP058773, SRP050499, SRP051000, SRP062177, SRP014320, SRP003901, SRP015013, SRP059695, SRP018242, SRP002640, SRP049238, SRP058626, SRP007461, SRP059035, SRP059775, SRP014428, SRP058667, SRP039361, SRP034712, SRP041377, SRP025982, SRP018837, SRP018525, SRP051822, SRP014009, SRP002487, SRP022591, SRP051705, "
     ]
    },
    {
     "name": "stderr",
     "output_type": "stream",
     "text": [
      "/home/miltondp/projects/labs/greenelab/phenoplier/libs/data/recount2.py:320: UserWarning: Not all experiments data could be loaded (36 != 40)\n",
      "  warnings.warn(\n"
     ]
    },
    {
     "data": {
      "text/plain": [
       "0    cell type\n",
       "dtype: object"
      ]
     },
     "metadata": {},
     "output_type": "display_data"
    },
    {
     "data": {
      "text/plain": [
       "42    tissue type\n",
       "3          tissue\n",
       "dtype: object"
      ]
     },
     "metadata": {},
     "output_type": "display_data"
    },
    {
     "name": "stderr",
     "output_type": "stream",
     "text": [
      "LV848:  96%|█████████▌| 48/50 [12:03<00:33, 16.92s/it]"
     ]
    },
    {
     "name": "stdout",
     "output_type": "stream",
     "text": [
      "SRP022892, SRP018837, SRP013363, SRP022591, SRP002487, SRP006474, SRP007498, SRP012463, SRP014591, SRP018242, SRP041130, SRP057196, SRP028887, SRP066834, SRP050499, SRP040278, SRP018317, SRP026052, SRP018717, SRP013463, SRP017411, SRP055569, SRP000599, SRP061639, SRP068194, SRP056036, SRP045983, SRP018716, SRP010279, SRP050892, SRP060416, SRP014320, SRP063840, SRP014190, SRP013456, SRP033119, SRP050215, SRP033135, SRP018718, SRP064410, SRP064457, SRP022913, SRP028570, SRP029513, SRP067214, SRP009568, SRP012099, SRP044673, SRP064735, SRP028301, SRP019222, SRP014671, SRP029367, SRP058783, SRP004637, SRP039397, SRP019250, SRP050055, SRP058191, SRP064562, SRP016003, SRP029656, SRP043960, SRP018719, SRP057745, SRP058841, SRP064561, SRP038921, SRP032775, SRP059242, SRP055770, SRP033131, SRP009862, SRP018014, SRP051331, SRP042161, "
     ]
    },
    {
     "name": "stderr",
     "output_type": "stream",
     "text": [
      "/home/miltondp/projects/labs/greenelab/phenoplier/libs/data/recount2.py:320: UserWarning: Not all experiments data could be loaded (74 != 76)\n",
      "  warnings.warn(\n"
     ]
    },
    {
     "data": {
      "text/plain": [
       "21    cell type\n",
       "dtype: object"
      ]
     },
     "metadata": {},
     "output_type": "display_data"
    },
    {
     "data": {
      "text/plain": [
       "20    tissue\n",
       "dtype: object"
      ]
     },
     "metadata": {},
     "output_type": "display_data"
    },
    {
     "name": "stderr",
     "output_type": "stream",
     "text": [
      "LV319:  98%|█████████▊| 49/50 [12:18<00:16, 16.41s/it]"
     ]
    },
    {
     "name": "stdout",
     "output_type": "stream",
     "text": [
      "SRP055569, SRP050499, SRP060416, SRP066834, SRP057196, SRP042161, SRP063840, SRP024268, SRP015449, SRP033135, SRP018838, SRP061033, SRP038963, SRP058773, SRP011578, SRP064464, SRP041228, SRP055810, SRP046254, SRP038969, SRP042218, SRP007338, SRP055153, SRP050992, SRP006575, SRP036821, SRP010279, SRP008145, SRP012461, SRP059170, SRP029656, SRP030617, SRP059379, SRP026690, SRP007508, SRP064454, SRP040243, SRP009266, SRP014213, SRP013825, SRP044042, "
     ]
    },
    {
     "name": "stderr",
     "output_type": "stream",
     "text": [
      "/home/miltondp/projects/labs/greenelab/phenoplier/libs/data/recount2.py:320: UserWarning: Not all experiments data could be loaded (40 != 41)\n",
      "  warnings.warn(\n"
     ]
    },
    {
     "data": {
      "text/plain": [
       "0    cell type\n",
       "dtype: object"
      ]
     },
     "metadata": {},
     "output_type": "display_data"
    },
    {
     "data": {
      "text/plain": [
       "6    tissue\n",
       "dtype: object"
      ]
     },
     "metadata": {},
     "output_type": "display_data"
    },
    {
     "name": "stderr",
     "output_type": "stream",
     "text": [
      "LV319: 100%|██████████| 50/50 [12:33<00:00, 15.07s/it]\n"
     ]
    }
   ],
   "source": [
    "cell_type_dfs = []\n",
    "tissue_dfs = []\n",
    "\n",
    "pbar = tqdm(lvs_list[:50])\n",
    "for lv_name in pbar:\n",
    "    pbar.set_description(lv_name)\n",
    "\n",
    "    #     lv_name = lv_info[\"name\"]\n",
    "    lv_obj = LVAnalysis(lv_name, data)\n",
    "\n",
    "    #     # show lv prior knowledge match (pathways)\n",
    "    #     lv_pathways = multiplier_model_summary[\n",
    "    #         multiplier_model_summary[\"LV index\"].isin((lv_name[2:],))\n",
    "    #         & (\n",
    "    #             (multiplier_model_summary[\"FDR\"] < 0.05)\n",
    "    #             | (multiplier_model_summary[\"AUC\"] >= 0.75)\n",
    "    #         )\n",
    "    #     ]\n",
    "    #     display(lv_pathways)\n",
    "\n",
    "    lv_data = lv_obj.get_experiments_data()\n",
    "\n",
    "    #     display(\"\")\n",
    "    #     display(lv_obj.lv_traits.head(20))\n",
    "    #     display(\"\")\n",
    "    #     display(lv_obj.lv_genes.head(10))\n",
    "\n",
    "    # get cell type attributes\n",
    "    #     lv_attrs = lv_obj.get_attributes_variation_score()\n",
    "    lv_attrs = pd.Series(lv_data.columns.tolist())\n",
    "    lv_attrs = lv_attrs[\n",
    "        lv_attrs.str.match(\n",
    "            \"(?:cell[^\\w]*type$)\",\n",
    "            case=False,\n",
    "            flags=re.IGNORECASE,\n",
    "        ).values\n",
    "    ].sort_values(ascending=False)\n",
    "    display(lv_attrs)\n",
    "\n",
    "    lv_attrs_data = lv_data[lv_attrs.tolist() + [lv_name]]\n",
    "    lv_attrs_data = lv_attrs_data.assign(attr=lv_attrs_data.apply(_my_func, axis=1))\n",
    "    lv_attrs_data = lv_attrs_data.drop(columns=lv_attrs.tolist())\n",
    "    lv_attrs_data = lv_attrs_data.dropna().sort_values(lv_name, ascending=False)\n",
    "    lv_attrs_data = lv_attrs_data.rename(columns={lv_name: \"lv\"})\n",
    "    cell_type_dfs.append(lv_attrs_data)\n",
    "\n",
    "    # get tissue attributes\n",
    "    lv_attrs = pd.Series(lv_data.columns.tolist())\n",
    "    lv_attrs = lv_attrs[\n",
    "        lv_attrs.str.match(\n",
    "            \"(?:tissue$)|(?:tissue[^\\w]*type$)\",\n",
    "            case=False,\n",
    "            flags=re.IGNORECASE,\n",
    "        ).values\n",
    "    ].sort_values(ascending=False)\n",
    "    display(lv_attrs)\n",
    "\n",
    "    lv_attrs_data = lv_data[lv_attrs.tolist() + [lv_name]]\n",
    "    lv_attrs_data = lv_attrs_data.assign(attr=lv_attrs_data.apply(_my_func, axis=1))\n",
    "    lv_attrs_data = lv_attrs_data.drop(columns=lv_attrs.tolist())\n",
    "    lv_attrs_data = lv_attrs_data.dropna().sort_values(lv_name, ascending=False)\n",
    "    lv_attrs_data = lv_attrs_data.rename(columns={lv_name: \"lv\"})\n",
    "    tissue_dfs.append(lv_attrs_data)"
   ]
  },
  {
   "cell_type": "markdown",
   "metadata": {},
   "source": [
    "# LVs selection"
   ]
  },
  {
   "cell_type": "code",
   "execution_count": 130,
   "metadata": {},
   "outputs": [],
   "source": [
    "N_TOP_LVS = 10"
   ]
  },
  {
   "cell_type": "markdown",
   "metadata": {},
   "source": [
    "# Cell types"
   ]
  },
  {
   "cell_type": "code",
   "execution_count": 151,
   "metadata": {},
   "outputs": [],
   "source": [
    "def _get_lv_rank(data):\n",
    "    data = data.copy()\n",
    "    data[\"lv\"] = data[\"lv\"].rank()\n",
    "    return data"
   ]
  },
  {
   "cell_type": "code",
   "execution_count": 265,
   "metadata": {},
   "outputs": [],
   "source": [
    "df = pd.concat(cell_type_dfs[:N_TOP_LVS], ignore_index=True)\n",
    "# df = pd.concat([_get_lv_rank(x) for x in cell_type_dfs[:N_TOP_LVS]], ignore_index=True)"
   ]
  },
  {
   "cell_type": "code",
   "execution_count": 266,
   "metadata": {},
   "outputs": [],
   "source": [
    "# The PBMCs entry is related only to those samples treated with HSV-1\n",
    "# see https://trace.ncbi.nlm.nih.gov/Traces/sra/?study=SRP045569\n",
    "# here I keep only those, since the rest (sham) have almost zero expression\n",
    "df = df[~((df[\"attr\"] == \"PBMCs\") & (df[\"lv\"] < 0.05))]\n",
    "\n",
    "# https://trace.ncbi.nlm.nih.gov/Traces/sra/?study=SRP062958\n",
    "df = df[~((df[\"attr\"] == \"peripheral blood monocytes\") & (df[\"lv\"] < 0.00))]\n",
    "\n",
    "# https://trace.ncbi.nlm.nih.gov/Traces/sra/?study=SRP048804\n",
    "df = df[~((df[\"attr\"] == \"glioblastoma cell line\") & (df[\"lv\"] < 0.00))]\n",
    "\n",
    "# https://trace.ncbi.nlm.nih.gov/Traces/sra/?study=SRP066356\n",
    "df = df[~((df[\"attr\"] == \"Monocyte\") & (df[\"lv\"] < 0.00))]\n",
    "\n",
    "# https://trace.ncbi.nlm.nih.gov/Traces/sra/?study=SRP015670\n",
    "df = df[~((df[\"attr\"] == \"monocyte-derived macrophages\") & (df[\"lv\"] < 0.00))]"
   ]
  },
  {
   "cell_type": "code",
   "execution_count": 267,
   "metadata": {},
   "outputs": [],
   "source": [
    "# df = df[~df[\"attr\"].str.lower().str.contains(\"cancer|glioblastoma|carcinoma\")]"
   ]
  },
  {
   "cell_type": "code",
   "execution_count": 268,
   "metadata": {},
   "outputs": [
    {
     "data": {
      "text/plain": [
       "attr\n",
       "PBMCs                                        1.902258\n",
       "monocyte-derived macrophages                 1.210975\n",
       "peripheral blood monocytes                   1.024814\n",
       "glioblastoma cell line                       0.981873\n",
       "CD14 cells                                   0.893452\n",
       "M1-polarized HMDM                            0.881763\n",
       "Primary Monocytes(BC8)                       0.690342\n",
       "Dendritic cell                               0.609746\n",
       "Primary Monocytes(BC9)                       0.608375\n",
       "LHSAR overexpressed with HOXB13              0.586583\n",
       "Primary Monocytes(BC12)                      0.564832\n",
       "Primary Monocytes(BC11)                      0.550826\n",
       "Monocyte                                     0.471879\n",
       "M1-polarized IPSDM                           0.460619\n",
       "Tongue squamous cell carcinoma               0.424836\n",
       "human foreskin fibroblasts (HFFs)            0.420294\n",
       "highly invasive                              0.404448\n",
       "bone marrow mononuclear cells (BM MNC)       0.369199\n",
       "dermal fibroblast                            0.338876\n",
       "CD4+ T cell                                  0.338032\n",
       "Primary fibroblasts                          0.326785\n",
       "prostate cancer                              0.297528\n",
       "Primary MonocytesCD14+(BC13)                 0.283325\n",
       "LHSAR overexpressed with HOXB13 and FOXA1    0.275014\n",
       "acute myeloid leukemia (AML) cells           0.272036\n",
       "Name: lv, dtype: float64"
      ]
     },
     "execution_count": 268,
     "metadata": {},
     "output_type": "execute_result"
    }
   ],
   "source": [
    "df.groupby(\"attr\").median().squeeze().sort_values(ascending=False).head(25)"
   ]
  },
  {
   "cell_type": "code",
   "execution_count": 269,
   "metadata": {},
   "outputs": [],
   "source": [
    "df = df.replace(\n",
    "    {\n",
    "        \"attr\": {\n",
    "            \"CD14 cells\": \"CD14+ cells\",\n",
    "            \"M1-polarized HMDM\": \"M1 macrophages\\n(HMDM)\",\n",
    "            \"M1-polarized IPSDM\": \"M1 macrophages\\n(IPSDM)\",\n",
    "            \"PBMCs\": \"PBMCs (HSV)\",\n",
    "            \"peripheral blood monocytes\": \"Monocytes (IFNa)\",\n",
    "            \"LHSAR overexpressed with HOXB13\": \"Prostate epithelial cells (LHSAR)\",\n",
    "            \"LHSAR overexpressed with HOXB13 and FOXA1\": \"Prostate epithelial cells (LHSAR)\",\n",
    "            \"LHSAR overexpressed with LacZ\": \"Prostate epithelial cells (LHSAR)\",\n",
    "            \"Primary Monocytes(BC8)\": \"Primary monocytes\",\n",
    "            \"Primary Monocytes(BC9)\": \"Primary monocytes\",\n",
    "            \"Primary Monocytes(BC12)\": \"Primary monocytes\",\n",
    "            \"Primary Monocytes(BC11)\": \"Primary monocytes\",\n",
    "            \"glioblastoma cell line\": \"Glioblastoma\\n(GBM1A cell line)\",\n",
    "            \"Monocyte\": \"Monocytes\",\n",
    "            \"monocyte-derived macrophages\": \"Monocyte-derived\\nmacrophages (WNV)\",\n",
    "            \"Tongue squamous cell carcinoma\": \"Tongue squamous\\ncell carcinoma\",\n",
    "        }\n",
    "    }\n",
    ")"
   ]
  },
  {
   "cell_type": "code",
   "execution_count": 274,
   "metadata": {},
   "outputs": [],
   "source": [
    "cat_order = df.groupby(\"attr\").median().squeeze()\n",
    "cat_order = cat_order.sort_values(ascending=False)\n",
    "cat_order = cat_order.head(10)\n",
    "cat_order = cat_order.index"
   ]
  },
  {
   "cell_type": "code",
   "execution_count": 275,
   "metadata": {},
   "outputs": [
    {
     "data": {
      "text/plain": [
       "PosixPath('/home/miltondp/projects/labs/greenelab/phenoplier_manuscript/content/images/drug_disease_prediction/niacin-at-modules_cell_types.svg')"
      ]
     },
     "metadata": {},
     "output_type": "display_data"
    },
    {
     "data": {
      "image/png": "[encoded data removed]",
      "text/plain": [
       "<Figure size 1008x576 with 1 Axes>"
      ]
     },
     "metadata": {},
     "output_type": "display_data"
    }
   ],
   "source": [
    "with sns.plotting_context(\"paper\", font_scale=2.5), sns.axes_style(\"whitegrid\"):\n",
    "    fig, ax = plt.subplots(figsize=(14, 8))\n",
    "    ax = sns.boxplot(\n",
    "        data=df,\n",
    "        x=\"attr\",\n",
    "        y=\"lv\",\n",
    "        order=cat_order,\n",
    "        linewidth=None,\n",
    "        ax=ax,\n",
    "    )\n",
    "    ax.set_xlabel(\"Cell type\")\n",
    "    ax.set_ylabel(\"LV value\")\n",
    "    plt.xticks(rotation=45, horizontalalignment=\"right\")\n",
    "\n",
    "    output_dir = Path(\n",
    "        \"/home/miltondp/projects/labs/greenelab/phenoplier_manuscript/content/images/drug_disease_prediction/\"\n",
    "    )\n",
    "    output_filepath = output_dir / \"niacin-at-modules_cell_types.svg\"\n",
    "    display(output_filepath)\n",
    "    plt.savefig(\n",
    "        output_filepath,\n",
    "        bbox_inches=\"tight\",\n",
    "    )"
   ]
  },
  {
   "cell_type": "markdown",
   "metadata": {},
   "source": [
    "# Tissues"
   ]
  },
  {
   "cell_type": "code",
   "execution_count": 75,
   "metadata": {},
   "outputs": [],
   "source": [
    "df = pd.concat(tissue_dfs[:N_TOP_LVS], ignore_index=True)\n",
    "# df = pd.concat([_get_lv_rank(x) for x in tissue_dfs[:N_TOP_LVS]], ignore_index=True)"
   ]
  },
  {
   "cell_type": "code",
   "execution_count": 76,
   "metadata": {},
   "outputs": [
    {
     "data": {
      "text/plain": [
       "attr\n",
       "Kidney                                           0.664597\n",
       "kidney                                           0.662350\n",
       "Blood                                            0.613820\n",
       "Kidney tubules                                   0.372490\n",
       "Heparinised blood                                0.365669\n",
       "bladder                                          0.351314\n",
       "blood                                            0.309753\n",
       "umbilical cord blood                             0.288038\n",
       "Bone marrow                                      0.267101\n",
       "Lung adenocarcinoma                              0.235711\n",
       "placenta from full-term pregnancy                0.229173\n",
       "bone marrow                                      0.222914\n",
       "Whole blood                                      0.198839\n",
       "Gastrointestinal Stromal Tumor                   0.176956\n",
       "cord blood                                       0.165468\n",
       "Tumor                                            0.148332\n",
       "Leukapheresis                                    0.146331\n",
       "Portal vein tumor thrombus                       0.139335\n",
       "bone metastatic tumor                            0.129277\n",
       "leimyosarcoma                                    0.123032\n",
       "whole blood                                      0.121840\n",
       "normal                                           0.118286\n",
       "Hepatocellular carcinoma primary tumor           0.111054\n",
       "primary cutaneous melanoma (11.5 mm, level V)    0.109767\n",
       "normal lung                                      0.096630\n",
       "Triple Negative Breast Tumor                     0.093348\n",
       "HCC                                              0.091443\n",
       "triple negative breast cancer                    0.088493\n",
       "normal smooth muscle                             0.088248\n",
       "tumor                                            0.085213\n",
       "ovary                                            0.085192\n",
       "Heart                                            0.084791\n",
       "adjacent normal tissue                           0.071797\n",
       "breast ductal carcinoma in situ                  0.070105\n",
       "ileum                                            0.068436\n",
       "Parathyroid tumor                                0.065313\n",
       "Adipose                                          0.064994\n",
       "prostate                                         0.062860\n",
       "Adjacent non-tumor                               0.061922\n",
       "pancreatic islets                                0.061719\n",
       "HER2+ Breast Tumor                               0.057550\n",
       "Induced pluripotent stem cells                   0.056730\n",
       "Peripheral blood                                 0.054486\n",
       "Breast                                           0.050926\n",
       "Cord fibroblasts                                 0.048793\n",
       "EDTA Blood                                       0.047863\n",
       "endometrial tumor                                0.045546\n",
       "thyroid                                          0.036486\n",
       "renal pelvis                                     0.033987\n",
       "peripheral whole blood                           0.032755\n",
       "Name: lv, dtype: float64"
      ]
     },
     "execution_count": 76,
     "metadata": {},
     "output_type": "execute_result"
    }
   ],
   "source": [
    "df.groupby(\"attr\").mean().squeeze().sort_values(ascending=False).head(50)"
   ]
  },
  {
   "cell_type": "markdown",
   "metadata": {},
   "source": [
    "# LV analysis"
   ]
  },
  {
   "cell_type": "code",
   "execution_count": 54,
   "metadata": {},
   "outputs": [],
   "source": [
    "lv_obj = LVAnalysis(\"LV116\", data)"
   ]
  },
  {
   "cell_type": "code",
   "execution_count": 56,
   "metadata": {},
   "outputs": [
    {
     "data": {
      "text/html": [
       "<div>\n",
       "<style scoped>\n",
       "    .dataframe tbody tr th:only-of-type {\n",
       "        vertical-align: middle;\n",
       "    }\n",
       "\n",
       "    .dataframe tbody tr th {\n",
       "        vertical-align: top;\n",
       "    }\n",
       "\n",
       "    .dataframe thead th {\n",
       "        text-align: right;\n",
       "    }\n",
       "</style>\n",
       "<table border=\"1\" class=\"dataframe\">\n",
       "  <thead>\n",
       "    <tr style=\"text-align: right;\">\n",
       "      <th></th>\n",
       "      <th>gene_name</th>\n",
       "      <th>LV116</th>\n",
       "      <th>gene_band</th>\n",
       "    </tr>\n",
       "  </thead>\n",
       "  <tbody>\n",
       "    <tr>\n",
       "      <th>0</th>\n",
       "      <td>IFIT1</td>\n",
       "      <td>6.937650</td>\n",
       "      <td>10q23.31</td>\n",
       "    </tr>\n",
       "    <tr>\n",
       "      <th>1</th>\n",
       "      <td>MX1</td>\n",
       "      <td>6.650584</td>\n",
       "      <td>21q22.3</td>\n",
       "    </tr>\n",
       "    <tr>\n",
       "      <th>2</th>\n",
       "      <td>IFIT2</td>\n",
       "      <td>6.479595</td>\n",
       "      <td>10q23.31</td>\n",
       "    </tr>\n",
       "    <tr>\n",
       "      <th>3</th>\n",
       "      <td>OAS3</td>\n",
       "      <td>6.311481</td>\n",
       "      <td>12q24.13</td>\n",
       "    </tr>\n",
       "    <tr>\n",
       "      <th>4</th>\n",
       "      <td>OASL</td>\n",
       "      <td>6.212510</td>\n",
       "      <td>12q24.31</td>\n",
       "    </tr>\n",
       "    <tr>\n",
       "      <th>5</th>\n",
       "      <td>IFIT3</td>\n",
       "      <td>5.990415</td>\n",
       "      <td>10q23.31</td>\n",
       "    </tr>\n",
       "    <tr>\n",
       "      <th>6</th>\n",
       "      <td>OAS2</td>\n",
       "      <td>5.873026</td>\n",
       "      <td>12q24.13</td>\n",
       "    </tr>\n",
       "    <tr>\n",
       "      <th>7</th>\n",
       "      <td>OAS1</td>\n",
       "      <td>5.701188</td>\n",
       "      <td>12q24.13</td>\n",
       "    </tr>\n",
       "    <tr>\n",
       "      <th>8</th>\n",
       "      <td>MX2</td>\n",
       "      <td>5.549364</td>\n",
       "      <td>21q22.3</td>\n",
       "    </tr>\n",
       "    <tr>\n",
       "      <th>9</th>\n",
       "      <td>RSAD2</td>\n",
       "      <td>5.244291</td>\n",
       "      <td>2p25.2</td>\n",
       "    </tr>\n",
       "    <tr>\n",
       "      <th>10</th>\n",
       "      <td>IRF7</td>\n",
       "      <td>4.884961</td>\n",
       "      <td>11p15.5</td>\n",
       "    </tr>\n",
       "    <tr>\n",
       "      <th>11</th>\n",
       "      <td>CMPK2</td>\n",
       "      <td>4.819447</td>\n",
       "      <td>2p25.2</td>\n",
       "    </tr>\n",
       "    <tr>\n",
       "      <th>12</th>\n",
       "      <td>ISG15</td>\n",
       "      <td>4.772618</td>\n",
       "      <td>1p36.33</td>\n",
       "    </tr>\n",
       "    <tr>\n",
       "      <th>13</th>\n",
       "      <td>DDX58</td>\n",
       "      <td>4.501822</td>\n",
       "      <td>9p21.1</td>\n",
       "    </tr>\n",
       "    <tr>\n",
       "      <th>14</th>\n",
       "      <td>IFIH1</td>\n",
       "      <td>4.499766</td>\n",
       "      <td>2q24.2</td>\n",
       "    </tr>\n",
       "    <tr>\n",
       "      <th>15</th>\n",
       "      <td>USP18</td>\n",
       "      <td>4.476803</td>\n",
       "      <td>22q11.21</td>\n",
       "    </tr>\n",
       "    <tr>\n",
       "      <th>16</th>\n",
       "      <td>IFI35</td>\n",
       "      <td>4.355401</td>\n",
       "      <td>17q21.31</td>\n",
       "    </tr>\n",
       "    <tr>\n",
       "      <th>17</th>\n",
       "      <td>DHX58</td>\n",
       "      <td>4.262576</td>\n",
       "      <td>17q21.2</td>\n",
       "    </tr>\n",
       "    <tr>\n",
       "      <th>18</th>\n",
       "      <td>STAT2</td>\n",
       "      <td>4.138099</td>\n",
       "      <td>12q13.3</td>\n",
       "    </tr>\n",
       "    <tr>\n",
       "      <th>19</th>\n",
       "      <td>IFI6</td>\n",
       "      <td>3.972494</td>\n",
       "      <td>1p35.3</td>\n",
       "    </tr>\n",
       "  </tbody>\n",
       "</table>\n",
       "</div>"
      ],
      "text/plain": [
       "   gene_name     LV116 gene_band\n",
       "0      IFIT1  6.937650  10q23.31\n",
       "1        MX1  6.650584   21q22.3\n",
       "2      IFIT2  6.479595  10q23.31\n",
       "3       OAS3  6.311481  12q24.13\n",
       "4       OASL  6.212510  12q24.31\n",
       "5      IFIT3  5.990415  10q23.31\n",
       "6       OAS2  5.873026  12q24.13\n",
       "7       OAS1  5.701188  12q24.13\n",
       "8        MX2  5.549364   21q22.3\n",
       "9      RSAD2  5.244291    2p25.2\n",
       "10      IRF7  4.884961   11p15.5\n",
       "11     CMPK2  4.819447    2p25.2\n",
       "12     ISG15  4.772618   1p36.33\n",
       "13     DDX58  4.501822    9p21.1\n",
       "14     IFIH1  4.499766    2q24.2\n",
       "15     USP18  4.476803  22q11.21\n",
       "16     IFI35  4.355401  17q21.31\n",
       "17     DHX58  4.262576   17q21.2\n",
       "18     STAT2  4.138099   12q13.3\n",
       "19      IFI6  3.972494    1p35.3"
      ]
     },
     "execution_count": 56,
     "metadata": {},
     "output_type": "execute_result"
    }
   ],
   "source": [
    "lv_obj.lv_genes.head(20)"
   ]
  },
  {
   "cell_type": "code",
   "execution_count": 77,
   "metadata": {},
   "outputs": [
    {
     "name": "stdout",
     "output_type": "stream",
     "text": [
      "SRP059039, SRP045500, SRP063059, SRP045569, SRP015670, SRP059531, SRP062958, SRP039361, SRP056733, SRP060370, SRP062966, SRP045352, SRP048804, SRP032775, SRP059172, SRP050246, SRP064458, SRP033711, SRP049820, SRP023199, SRP060416, SRP005279, SRP042161, SRP059701, SRP068139, SRP051848, SRP014428, SRP063661, SRP057205, SRP041826, SRP059057, SRP064259, SRP046226, SRP044956, SRP066356, SRP048640, SRP041885, SRP045659, SRP041647, SRP045565, SRP041620, SRP053186, SRP045441, SRP022133, SRP055874, SRP029990, SRP044206, SRP065763, SRP056443, SRP041538, SRP044593, SRP019270, SRP067934, SRP059035, SRP019936, SRP054971, SRP058237, SRP051368, SRP019758, "
     ]
    }
   ],
   "source": [
    "lv_data = lv_obj.get_experiments_data()"
   ]
  },
  {
   "cell_type": "code",
   "execution_count": 78,
   "metadata": {},
   "outputs": [
    {
     "data": {
      "text/plain": [
       "(4274, 105)"
      ]
     },
     "execution_count": 78,
     "metadata": {},
     "output_type": "execute_result"
    }
   ],
   "source": [
    "lv_data.shape"
   ]
  },
  {
   "cell_type": "code",
   "execution_count": 83,
   "metadata": {},
   "outputs": [],
   "source": [
    "_tmp = lv_data[[\"cell type\", \"LV116\"]].dropna()"
   ]
  },
  {
   "cell_type": "code",
   "execution_count": 85,
   "metadata": {},
   "outputs": [
    {
     "data": {
      "text/html": [
       "<div>\n",
       "<style scoped>\n",
       "    .dataframe tbody tr th:only-of-type {\n",
       "        vertical-align: middle;\n",
       "    }\n",
       "\n",
       "    .dataframe tbody tr th {\n",
       "        vertical-align: top;\n",
       "    }\n",
       "\n",
       "    .dataframe thead th {\n",
       "        text-align: right;\n",
       "    }\n",
       "</style>\n",
       "<table border=\"1\" class=\"dataframe\">\n",
       "  <thead>\n",
       "    <tr style=\"text-align: right;\">\n",
       "      <th></th>\n",
       "      <th></th>\n",
       "      <th>cell type</th>\n",
       "      <th>LV116</th>\n",
       "    </tr>\n",
       "    <tr>\n",
       "      <th>project</th>\n",
       "      <th>run</th>\n",
       "      <th></th>\n",
       "      <th></th>\n",
       "    </tr>\n",
       "  </thead>\n",
       "  <tbody>\n",
       "    <tr>\n",
       "      <th rowspan=\"9\" valign=\"top\">SRP039361</th>\n",
       "      <th>SRR2910664</th>\n",
       "      <td>M1-polarized HMDM</td>\n",
       "      <td>0.659014</td>\n",
       "    </tr>\n",
       "    <tr>\n",
       "      <th>SRR2910671</th>\n",
       "      <td>M1-polarized IPSDM</td>\n",
       "      <td>0.414396</td>\n",
       "    </tr>\n",
       "    <tr>\n",
       "      <th>SRR2910670</th>\n",
       "      <td>M1-polarized IPSDM</td>\n",
       "      <td>-0.073581</td>\n",
       "    </tr>\n",
       "    <tr>\n",
       "      <th>SRR2939133</th>\n",
       "      <td>M1-polarized HMDM</td>\n",
       "      <td>1.104377</td>\n",
       "    </tr>\n",
       "    <tr>\n",
       "      <th>SRR2939134</th>\n",
       "      <td>M1-polarized HMDM</td>\n",
       "      <td>0.881763</td>\n",
       "    </tr>\n",
       "    <tr>\n",
       "      <th>SRR2939145</th>\n",
       "      <td>M1-polarized IPSDM</td>\n",
       "      <td>0.364958</td>\n",
       "    </tr>\n",
       "    <tr>\n",
       "      <th>SRR2939146</th>\n",
       "      <td>M1-polarized IPSDM</td>\n",
       "      <td>0.506842</td>\n",
       "    </tr>\n",
       "    <tr>\n",
       "      <th>SRR2939148</th>\n",
       "      <td>M1-polarized IPSDM</td>\n",
       "      <td>0.543771</td>\n",
       "    </tr>\n",
       "    <tr>\n",
       "      <th>SRR2939147</th>\n",
       "      <td>M1-polarized IPSDM</td>\n",
       "      <td>0.597001</td>\n",
       "    </tr>\n",
       "  </tbody>\n",
       "</table>\n",
       "</div>"
      ],
      "text/plain": [
       "                               cell type     LV116\n",
       "project   run                                     \n",
       "SRP039361 SRR2910664   M1-polarized HMDM  0.659014\n",
       "          SRR2910671  M1-polarized IPSDM  0.414396\n",
       "          SRR2910670  M1-polarized IPSDM -0.073581\n",
       "          SRR2939133   M1-polarized HMDM  1.104377\n",
       "          SRR2939134   M1-polarized HMDM  0.881763\n",
       "          SRR2939145  M1-polarized IPSDM  0.364958\n",
       "          SRR2939146  M1-polarized IPSDM  0.506842\n",
       "          SRR2939148  M1-polarized IPSDM  0.543771\n",
       "          SRR2939147  M1-polarized IPSDM  0.597001"
      ]
     },
     "execution_count": 85,
     "metadata": {},
     "output_type": "execute_result"
    }
   ],
   "source": [
    "_tmp[_tmp[\"cell type\"].str.contains(\"M1\")]"
   ]
  },
  {
   "cell_type": "code",
   "execution_count": 86,
   "metadata": {},
   "outputs": [
    {
     "data": {
      "text/html": [
       "<div>\n",
       "<style scoped>\n",
       "    .dataframe tbody tr th:only-of-type {\n",
       "        vertical-align: middle;\n",
       "    }\n",
       "\n",
       "    .dataframe tbody tr th {\n",
       "        vertical-align: top;\n",
       "    }\n",
       "\n",
       "    .dataframe thead th {\n",
       "        text-align: right;\n",
       "    }\n",
       "</style>\n",
       "<table border=\"1\" class=\"dataframe\">\n",
       "  <thead>\n",
       "    <tr style=\"text-align: right;\">\n",
       "      <th></th>\n",
       "      <th></th>\n",
       "      <th>cell type</th>\n",
       "      <th>LV116</th>\n",
       "    </tr>\n",
       "    <tr>\n",
       "      <th>project</th>\n",
       "      <th>run</th>\n",
       "      <th></th>\n",
       "      <th></th>\n",
       "    </tr>\n",
       "  </thead>\n",
       "  <tbody>\n",
       "    <tr>\n",
       "      <th rowspan=\"40\" valign=\"top\">SRP041826</th>\n",
       "      <th>SRR1282161</th>\n",
       "      <td>Primary CD14+/CD16+ monocytes</td>\n",
       "      <td>0.230883</td>\n",
       "    </tr>\n",
       "    <tr>\n",
       "      <th>SRR1282162</th>\n",
       "      <td>Primary CD14+/CD16+ monocytes</td>\n",
       "      <td>0.287578</td>\n",
       "    </tr>\n",
       "    <tr>\n",
       "      <th>SRR1282163</th>\n",
       "      <td>Primary CD14+/CD16+ monocytes</td>\n",
       "      <td>0.547642</td>\n",
       "    </tr>\n",
       "    <tr>\n",
       "      <th>SRR1282160</th>\n",
       "      <td>Primary CD14+/CD16+ monocytes</td>\n",
       "      <td>-0.096427</td>\n",
       "    </tr>\n",
       "    <tr>\n",
       "      <th>SRR1282164</th>\n",
       "      <td>Primary CD14+/CD16+ monocytes</td>\n",
       "      <td>0.010500</td>\n",
       "    </tr>\n",
       "    <tr>\n",
       "      <th>SRR1282166</th>\n",
       "      <td>Primary CD14+/CD16+ monocytes</td>\n",
       "      <td>0.041394</td>\n",
       "    </tr>\n",
       "    <tr>\n",
       "      <th>SRR1282165</th>\n",
       "      <td>Primary CD14+/CD16+ monocytes</td>\n",
       "      <td>-0.167267</td>\n",
       "    </tr>\n",
       "    <tr>\n",
       "      <th>SRR1282167</th>\n",
       "      <td>Primary CD14+/CD16+ monocytes</td>\n",
       "      <td>0.170839</td>\n",
       "    </tr>\n",
       "    <tr>\n",
       "      <th>SRR1282169</th>\n",
       "      <td>Primary CD14+/CD16+ monocytes</td>\n",
       "      <td>-0.051987</td>\n",
       "    </tr>\n",
       "    <tr>\n",
       "      <th>SRR1282168</th>\n",
       "      <td>Primary CD14+/CD16+ monocytes</td>\n",
       "      <td>0.443167</td>\n",
       "    </tr>\n",
       "    <tr>\n",
       "      <th>SRR1282170</th>\n",
       "      <td>Primary CD14+/CD16+ monocytes</td>\n",
       "      <td>0.275083</td>\n",
       "    </tr>\n",
       "    <tr>\n",
       "      <th>SRR1282171</th>\n",
       "      <td>Primary CD14+/CD16+ monocytes</td>\n",
       "      <td>0.351928</td>\n",
       "    </tr>\n",
       "    <tr>\n",
       "      <th>SRR1282172</th>\n",
       "      <td>Primary CD14+/CD16+ monocytes</td>\n",
       "      <td>0.063096</td>\n",
       "    </tr>\n",
       "    <tr>\n",
       "      <th>SRR1282173</th>\n",
       "      <td>Primary CD14+/CD16+ monocytes</td>\n",
       "      <td>0.272780</td>\n",
       "    </tr>\n",
       "    <tr>\n",
       "      <th>SRR1282174</th>\n",
       "      <td>Primary CD14+/CD16+ monocytes</td>\n",
       "      <td>0.122376</td>\n",
       "    </tr>\n",
       "    <tr>\n",
       "      <th>SRR1282175</th>\n",
       "      <td>Primary CD14+/CD16+ monocytes</td>\n",
       "      <td>-0.083836</td>\n",
       "    </tr>\n",
       "    <tr>\n",
       "      <th>SRR1282176</th>\n",
       "      <td>Primary CD14+/CD16+ monocytes</td>\n",
       "      <td>-0.134923</td>\n",
       "    </tr>\n",
       "    <tr>\n",
       "      <th>SRR1282177</th>\n",
       "      <td>Primary CD14+/CD16+ monocytes</td>\n",
       "      <td>-0.102467</td>\n",
       "    </tr>\n",
       "    <tr>\n",
       "      <th>SRR1282178</th>\n",
       "      <td>Primary CD14+/CD16+ monocytes</td>\n",
       "      <td>-0.022341</td>\n",
       "    </tr>\n",
       "    <tr>\n",
       "      <th>SRR1282179</th>\n",
       "      <td>Primary CD14+/CD16+ monocytes</td>\n",
       "      <td>-0.099233</td>\n",
       "    </tr>\n",
       "    <tr>\n",
       "      <th>SRR1282180</th>\n",
       "      <td>Primary CD14+/CD16+ monocytes</td>\n",
       "      <td>-0.017653</td>\n",
       "    </tr>\n",
       "    <tr>\n",
       "      <th>SRR1282182</th>\n",
       "      <td>Primary CD14+/CD16+ monocytes</td>\n",
       "      <td>0.085782</td>\n",
       "    </tr>\n",
       "    <tr>\n",
       "      <th>SRR1282181</th>\n",
       "      <td>Primary CD14+/CD16+ monocytes</td>\n",
       "      <td>0.382617</td>\n",
       "    </tr>\n",
       "    <tr>\n",
       "      <th>SRR1282183</th>\n",
       "      <td>Primary CD14+/CD16+ monocytes</td>\n",
       "      <td>0.245886</td>\n",
       "    </tr>\n",
       "    <tr>\n",
       "      <th>SRR1282185</th>\n",
       "      <td>Primary CD14+/CD16+ monocytes</td>\n",
       "      <td>-0.121478</td>\n",
       "    </tr>\n",
       "    <tr>\n",
       "      <th>SRR1282184</th>\n",
       "      <td>Primary CD14+/CD16+ monocytes</td>\n",
       "      <td>0.064294</td>\n",
       "    </tr>\n",
       "    <tr>\n",
       "      <th>SRR1282186</th>\n",
       "      <td>Primary CD14+/CD16+ monocytes</td>\n",
       "      <td>0.127237</td>\n",
       "    </tr>\n",
       "    <tr>\n",
       "      <th>SRR1282187</th>\n",
       "      <td>Primary CD14+/CD16+ monocytes</td>\n",
       "      <td>-0.016085</td>\n",
       "    </tr>\n",
       "    <tr>\n",
       "      <th>SRR1282188</th>\n",
       "      <td>Primary CD14+/CD16+ monocytes</td>\n",
       "      <td>0.084159</td>\n",
       "    </tr>\n",
       "    <tr>\n",
       "      <th>SRR1282189</th>\n",
       "      <td>Primary CD14+/CD16+ monocytes</td>\n",
       "      <td>-0.035647</td>\n",
       "    </tr>\n",
       "    <tr>\n",
       "      <th>SRR1282190</th>\n",
       "      <td>Primary CD14+/CD16+ monocytes</td>\n",
       "      <td>-0.005439</td>\n",
       "    </tr>\n",
       "    <tr>\n",
       "      <th>SRR1282191</th>\n",
       "      <td>Primary CD14+/CD16+ monocytes</td>\n",
       "      <td>0.018762</td>\n",
       "    </tr>\n",
       "    <tr>\n",
       "      <th>SRR1282192</th>\n",
       "      <td>Primary CD14+/CD16+ monocytes</td>\n",
       "      <td>0.044972</td>\n",
       "    </tr>\n",
       "    <tr>\n",
       "      <th>SRR1282194</th>\n",
       "      <td>Primary CD14+/CD16+ monocytes</td>\n",
       "      <td>0.046946</td>\n",
       "    </tr>\n",
       "    <tr>\n",
       "      <th>SRR1282193</th>\n",
       "      <td>Primary CD14+/CD16+ monocytes</td>\n",
       "      <td>0.171404</td>\n",
       "    </tr>\n",
       "    <tr>\n",
       "      <th>SRR1282195</th>\n",
       "      <td>Primary CD14+/CD16+ monocytes</td>\n",
       "      <td>-0.121174</td>\n",
       "    </tr>\n",
       "    <tr>\n",
       "      <th>SRR1282196</th>\n",
       "      <td>Primary CD14+/CD16+ monocytes</td>\n",
       "      <td>-0.112898</td>\n",
       "    </tr>\n",
       "    <tr>\n",
       "      <th>SRR1282197</th>\n",
       "      <td>Primary CD14+/CD16+ monocytes</td>\n",
       "      <td>-0.091886</td>\n",
       "    </tr>\n",
       "    <tr>\n",
       "      <th>SRR1282199</th>\n",
       "      <td>Primary CD14+/CD16+ monocytes</td>\n",
       "      <td>-0.120345</td>\n",
       "    </tr>\n",
       "    <tr>\n",
       "      <th>SRR1282198</th>\n",
       "      <td>Primary CD14+/CD16+ monocytes</td>\n",
       "      <td>0.050925</td>\n",
       "    </tr>\n",
       "  </tbody>\n",
       "</table>\n",
       "</div>"
      ],
      "text/plain": [
       "                                          cell type     LV116\n",
       "project   run                                                \n",
       "SRP041826 SRR1282161  Primary CD14+/CD16+ monocytes  0.230883\n",
       "          SRR1282162  Primary CD14+/CD16+ monocytes  0.287578\n",
       "          SRR1282163  Primary CD14+/CD16+ monocytes  0.547642\n",
       "          SRR1282160  Primary CD14+/CD16+ monocytes -0.096427\n",
       "          SRR1282164  Primary CD14+/CD16+ monocytes  0.010500\n",
       "          SRR1282166  Primary CD14+/CD16+ monocytes  0.041394\n",
       "          SRR1282165  Primary CD14+/CD16+ monocytes -0.167267\n",
       "          SRR1282167  Primary CD14+/CD16+ monocytes  0.170839\n",
       "          SRR1282169  Primary CD14+/CD16+ monocytes -0.051987\n",
       "          SRR1282168  Primary CD14+/CD16+ monocytes  0.443167\n",
       "          SRR1282170  Primary CD14+/CD16+ monocytes  0.275083\n",
       "          SRR1282171  Primary CD14+/CD16+ monocytes  0.351928\n",
       "          SRR1282172  Primary CD14+/CD16+ monocytes  0.063096\n",
       "          SRR1282173  Primary CD14+/CD16+ monocytes  0.272780\n",
       "          SRR1282174  Primary CD14+/CD16+ monocytes  0.122376\n",
       "          SRR1282175  Primary CD14+/CD16+ monocytes -0.083836\n",
       "          SRR1282176  Primary CD14+/CD16+ monocytes -0.134923\n",
       "          SRR1282177  Primary CD14+/CD16+ monocytes -0.102467\n",
       "          SRR1282178  Primary CD14+/CD16+ monocytes -0.022341\n",
       "          SRR1282179  Primary CD14+/CD16+ monocytes -0.099233\n",
       "          SRR1282180  Primary CD14+/CD16+ monocytes -0.017653\n",
       "          SRR1282182  Primary CD14+/CD16+ monocytes  0.085782\n",
       "          SRR1282181  Primary CD14+/CD16+ monocytes  0.382617\n",
       "          SRR1282183  Primary CD14+/CD16+ monocytes  0.245886\n",
       "          SRR1282185  Primary CD14+/CD16+ monocytes -0.121478\n",
       "          SRR1282184  Primary CD14+/CD16+ monocytes  0.064294\n",
       "          SRR1282186  Primary CD14+/CD16+ monocytes  0.127237\n",
       "          SRR1282187  Primary CD14+/CD16+ monocytes -0.016085\n",
       "          SRR1282188  Primary CD14+/CD16+ monocytes  0.084159\n",
       "          SRR1282189  Primary CD14+/CD16+ monocytes -0.035647\n",
       "          SRR1282190  Primary CD14+/CD16+ monocytes -0.005439\n",
       "          SRR1282191  Primary CD14+/CD16+ monocytes  0.018762\n",
       "          SRR1282192  Primary CD14+/CD16+ monocytes  0.044972\n",
       "          SRR1282194  Primary CD14+/CD16+ monocytes  0.046946\n",
       "          SRR1282193  Primary CD14+/CD16+ monocytes  0.171404\n",
       "          SRR1282195  Primary CD14+/CD16+ monocytes -0.121174\n",
       "          SRR1282196  Primary CD14+/CD16+ monocytes -0.112898\n",
       "          SRR1282197  Primary CD14+/CD16+ monocytes -0.091886\n",
       "          SRR1282199  Primary CD14+/CD16+ monocytes -0.120345\n",
       "          SRR1282198  Primary CD14+/CD16+ monocytes  0.050925"
      ]
     },
     "execution_count": 86,
     "metadata": {},
     "output_type": "execute_result"
    }
   ],
   "source": [
    "_tmp[_tmp[\"cell type\"].str.contains(\"CD14\")]"
   ]
  },
  {
   "cell_type": "code",
   "execution_count": null,
   "metadata": {},
   "outputs": [],
   "source": []
  },
  {
   "cell_type": "code",
   "execution_count": null,
   "metadata": {},
   "outputs": [],
   "source": []
  },
  {
   "cell_type": "code",
   "execution_count": 87,
   "metadata": {},
   "outputs": [],
   "source": [
    "lv_obj2 = LVAnalysis(\"LV881\", data)"
   ]
  },
  {
   "cell_type": "code",
   "execution_count": 88,
   "metadata": {},
   "outputs": [
    {
     "data": {
      "text/html": [
       "<div>\n",
       "<style scoped>\n",
       "    .dataframe tbody tr th:only-of-type {\n",
       "        vertical-align: middle;\n",
       "    }\n",
       "\n",
       "    .dataframe tbody tr th {\n",
       "        vertical-align: top;\n",
       "    }\n",
       "\n",
       "    .dataframe thead th {\n",
       "        text-align: right;\n",
       "    }\n",
       "</style>\n",
       "<table border=\"1\" class=\"dataframe\">\n",
       "  <thead>\n",
       "    <tr style=\"text-align: right;\">\n",
       "      <th></th>\n",
       "      <th>gene_name</th>\n",
       "      <th>LV881</th>\n",
       "      <th>gene_band</th>\n",
       "    </tr>\n",
       "  </thead>\n",
       "  <tbody>\n",
       "    <tr>\n",
       "      <th>0</th>\n",
       "      <td>MCM7</td>\n",
       "      <td>3.976067</td>\n",
       "      <td>7q22.1</td>\n",
       "    </tr>\n",
       "    <tr>\n",
       "      <th>1</th>\n",
       "      <td>CDC45</td>\n",
       "      <td>3.588157</td>\n",
       "      <td>22q11.21</td>\n",
       "    </tr>\n",
       "    <tr>\n",
       "      <th>2</th>\n",
       "      <td>PRIM1</td>\n",
       "      <td>3.445345</td>\n",
       "      <td>12q13.3</td>\n",
       "    </tr>\n",
       "    <tr>\n",
       "      <th>3</th>\n",
       "      <td>MCM4</td>\n",
       "      <td>3.420215</td>\n",
       "      <td>8q11.21</td>\n",
       "    </tr>\n",
       "    <tr>\n",
       "      <th>4</th>\n",
       "      <td>RFC4</td>\n",
       "      <td>3.372605</td>\n",
       "      <td>3q27.3</td>\n",
       "    </tr>\n",
       "    <tr>\n",
       "      <th>5</th>\n",
       "      <td>RFC5</td>\n",
       "      <td>3.363940</td>\n",
       "      <td>12q24.23</td>\n",
       "    </tr>\n",
       "    <tr>\n",
       "      <th>6</th>\n",
       "      <td>FANCI</td>\n",
       "      <td>3.339942</td>\n",
       "      <td>15q26.1</td>\n",
       "    </tr>\n",
       "    <tr>\n",
       "      <th>7</th>\n",
       "      <td>PCNA</td>\n",
       "      <td>3.267518</td>\n",
       "      <td>20p12.3</td>\n",
       "    </tr>\n",
       "    <tr>\n",
       "      <th>8</th>\n",
       "      <td>MCM6</td>\n",
       "      <td>3.155560</td>\n",
       "      <td>2q21.3</td>\n",
       "    </tr>\n",
       "    <tr>\n",
       "      <th>9</th>\n",
       "      <td>MCM2</td>\n",
       "      <td>3.125547</td>\n",
       "      <td>3q21.3</td>\n",
       "    </tr>\n",
       "    <tr>\n",
       "      <th>10</th>\n",
       "      <td>DTL</td>\n",
       "      <td>3.098912</td>\n",
       "      <td>1q32.3</td>\n",
       "    </tr>\n",
       "    <tr>\n",
       "      <th>11</th>\n",
       "      <td>RPA1</td>\n",
       "      <td>3.062088</td>\n",
       "      <td>17p13.3</td>\n",
       "    </tr>\n",
       "    <tr>\n",
       "      <th>12</th>\n",
       "      <td>POLA1</td>\n",
       "      <td>3.011842</td>\n",
       "      <td>NaN</td>\n",
       "    </tr>\n",
       "    <tr>\n",
       "      <th>13</th>\n",
       "      <td>CDC6</td>\n",
       "      <td>3.000016</td>\n",
       "      <td>17q21.2</td>\n",
       "    </tr>\n",
       "    <tr>\n",
       "      <th>14</th>\n",
       "      <td>KNTC1</td>\n",
       "      <td>2.732765</td>\n",
       "      <td>12q24.31</td>\n",
       "    </tr>\n",
       "    <tr>\n",
       "      <th>15</th>\n",
       "      <td>RFC2</td>\n",
       "      <td>2.730728</td>\n",
       "      <td>7q11.23</td>\n",
       "    </tr>\n",
       "    <tr>\n",
       "      <th>16</th>\n",
       "      <td>GINS4</td>\n",
       "      <td>2.726610</td>\n",
       "      <td>8p11.21</td>\n",
       "    </tr>\n",
       "    <tr>\n",
       "      <th>17</th>\n",
       "      <td>CCNE2</td>\n",
       "      <td>2.692705</td>\n",
       "      <td>8q22.1</td>\n",
       "    </tr>\n",
       "    <tr>\n",
       "      <th>18</th>\n",
       "      <td>RPA3</td>\n",
       "      <td>2.674221</td>\n",
       "      <td>7p21.3</td>\n",
       "    </tr>\n",
       "    <tr>\n",
       "      <th>19</th>\n",
       "      <td>POLD3</td>\n",
       "      <td>2.664949</td>\n",
       "      <td>11q13.4</td>\n",
       "    </tr>\n",
       "  </tbody>\n",
       "</table>\n",
       "</div>"
      ],
      "text/plain": [
       "   gene_name     LV881 gene_band\n",
       "0       MCM7  3.976067    7q22.1\n",
       "1      CDC45  3.588157  22q11.21\n",
       "2      PRIM1  3.445345   12q13.3\n",
       "3       MCM4  3.420215   8q11.21\n",
       "4       RFC4  3.372605    3q27.3\n",
       "5       RFC5  3.363940  12q24.23\n",
       "6      FANCI  3.339942   15q26.1\n",
       "7       PCNA  3.267518   20p12.3\n",
       "8       MCM6  3.155560    2q21.3\n",
       "9       MCM2  3.125547    3q21.3\n",
       "10       DTL  3.098912    1q32.3\n",
       "11      RPA1  3.062088   17p13.3\n",
       "12     POLA1  3.011842       NaN\n",
       "13      CDC6  3.000016   17q21.2\n",
       "14     KNTC1  2.732765  12q24.31\n",
       "15      RFC2  2.730728   7q11.23\n",
       "16     GINS4  2.726610   8p11.21\n",
       "17     CCNE2  2.692705    8q22.1\n",
       "18      RPA3  2.674221    7p21.3\n",
       "19     POLD3  2.664949   11q13.4"
      ]
     },
     "execution_count": 88,
     "metadata": {},
     "output_type": "execute_result"
    }
   ],
   "source": [
    "lv_obj2.lv_genes.head(20)"
   ]
  },
  {
   "cell_type": "code",
   "execution_count": 89,
   "metadata": {},
   "outputs": [
    {
     "data": {
      "text/plain": [
       "tissue          0.097682\n",
       "cell type       0.056706\n",
       "cell subtype    0.035469\n",
       "tissue type     0.017317\n",
       "dtype: float64"
      ]
     },
     "metadata": {},
     "output_type": "display_data"
    }
   ],
   "source": [
    "lv_attrs = lv_obj.get_attributes_variation_score()\n",
    "_tmp = pd.Series(lv_attrs.index)\n",
    "lv_attrs = lv_attrs[\n",
    "    _tmp.str.match(\n",
    "        \"(?:cell.+type$)|(?:tissue$)|(?:tissue.+type$)\",\n",
    "        case=False,\n",
    "        flags=re.IGNORECASE,\n",
    "    ).values\n",
    "].sort_values(ascending=False)\n",
    "display(lv_attrs)"
   ]
  },
  {
   "cell_type": "code",
   "execution_count": 90,
   "metadata": {},
   "outputs": [
    {
     "name": "stdout",
     "output_type": "stream",
     "text": [
      "SRP042161, SRP050499, SRP066834, SRP060416, SRP057196, SRP055569, SRP018525, SRP059035, SRP028301, SRP062773, SRP033135, SRP050440, SRP059379, SRP048603, SRP044917, SRP041102, SRP059775, SRP048604, SRP034711, SRP035312, SRP055101, SRP055153, SRP014428, SRP041255, SRP042286, SRP021509, SRP045570, SRP018838, SRP060370, SRP030617, SRP064457, SRP015138, SRP007461, SRP053186, SRP064259, "
     ]
    },
    {
     "name": "stderr",
     "output_type": "stream",
     "text": [
      "/home/miltondp/projects/labs/greenelab/phenoplier/libs/data/recount2.py:320: UserWarning: Not all experiments data could be loaded (34 != 35)\n",
      "  warnings.warn(\n"
     ]
    },
    {
     "data": {
      "image/png": "[encoded data removed]",
      "text/plain": [
       "<Figure size 1008x576 with 1 Axes>"
      ]
     },
     "metadata": {},
     "output_type": "display_data"
    }
   ],
   "source": [
    "with sns.plotting_context(\"paper\", font_scale=1.0), sns.axes_style(\"whitegrid\"):\n",
    "    fig, ax = plt.subplots(figsize=(14, 8))\n",
    "    ax = lv_obj2.plot_attribute(\"tissue\", top_x_values=20)"
   ]
  },
  {
   "cell_type": "code",
   "execution_count": 91,
   "metadata": {},
   "outputs": [
    {
     "data": {
      "image/png": "[encoded data removed]",
      "text/plain": [
       "<Figure size 1008x576 with 1 Axes>"
      ]
     },
     "metadata": {},
     "output_type": "display_data"
    }
   ],
   "source": [
    "with sns.plotting_context(\"paper\", font_scale=1.0), sns.axes_style(\"whitegrid\"):\n",
    "    fig, ax = plt.subplots(figsize=(14, 8))\n",
    "    ax = lv_obj2.plot_attribute(\"cell type\", top_x_values=20)"
   ]
  },
  {
   "cell_type": "code",
   "execution_count": null,
   "metadata": {},
   "outputs": [],
   "source": []
  }
 ],
 "metadata": {
  "jupytext": {
   "cell_metadata_filter": "all,-execution,-papermill,-trusted",
   "formats": "ipynb,py//py:percent"
  },
  "kernelspec": {
   "display_name": "Python 3",
   "language": "python",
   "name": "python3"
  },
  "language_info": {
   "codemirror_mode": {
    "name": "ipython",
    "version": 3
   },
   "file_extension": ".py",
   "mimetype": "text/x-python",
   "name": "python",
   "nbconvert_exporter": "python",
   "pygments_lexer": "ipython3",
   "version": "3.8.8"
  },
  "toc-autonumbering": true
 },
 "nbformat": 4,
 "nbformat_minor": 4
}
