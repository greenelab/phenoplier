{
 "cells": [
  {
   "cell_type": "markdown",
   "metadata": {
    "papermill": {
     "duration": 0.039298,
     "end_time": "2020-12-23T18:04:39.246832",
     "exception": false,
     "start_time": "2020-12-23T18:04:39.207534",
     "status": "completed"
    },
    "tags": []
   },
   "source": [
    "# Description"
   ]
  },
  {
   "cell_type": "markdown",
   "metadata": {
    "papermill": {
     "duration": 0.010239,
     "end_time": "2020-12-23T18:04:39.272325",
     "exception": false,
     "start_time": "2020-12-23T18:04:39.262086",
     "status": "completed"
    },
    "tags": []
   },
   "source": [
    "**TODO**"
   ]
  },
  {
   "cell_type": "markdown",
   "metadata": {
    "papermill": {
     "duration": 0.010515,
     "end_time": "2020-12-23T18:04:39.292047",
     "exception": false,
     "start_time": "2020-12-23T18:04:39.281532",
     "status": "completed"
    },
    "tags": []
   },
   "source": [
    "# Modules loading"
   ]
  },
  {
   "cell_type": "code",
   "execution_count": 1,
   "metadata": {
    "execution": {
     "iopub.execute_input": "2020-12-23T18:04:39.314320Z",
     "iopub.status.busy": "2020-12-23T18:04:39.313951Z",
     "iopub.status.idle": "2020-12-23T18:04:39.321526Z",
     "shell.execute_reply": "2020-12-23T18:04:39.321100Z"
    },
    "papermill": {
     "duration": 0.020255,
     "end_time": "2020-12-23T18:04:39.321650",
     "exception": false,
     "start_time": "2020-12-23T18:04:39.301395",
     "status": "completed"
    },
    "tags": []
   },
   "outputs": [],
   "source": [
    "%load_ext autoreload\n",
    "%autoreload 2"
   ]
  },
  {
   "cell_type": "code",
   "execution_count": 2,
   "metadata": {
    "execution": {
     "iopub.execute_input": "2020-12-23T18:04:39.343289Z",
     "iopub.status.busy": "2020-12-23T18:04:39.342930Z",
     "iopub.status.idle": "2020-12-23T18:04:39.525417Z",
     "shell.execute_reply": "2020-12-23T18:04:39.525078Z"
    },
    "papermill": {
     "duration": 0.194124,
     "end_time": "2020-12-23T18:04:39.525509",
     "exception": false,
     "start_time": "2020-12-23T18:04:39.331385",
     "status": "completed"
    },
    "tags": []
   },
   "outputs": [],
   "source": [
    "from pathlib import Path\n",
    "\n",
    "import pandas as pd\n",
    "\n",
    "import conf"
   ]
  },
  {
   "cell_type": "markdown",
   "metadata": {
    "papermill": {
     "duration": 0.009123,
     "end_time": "2020-12-23T18:04:39.544244",
     "exception": false,
     "start_time": "2020-12-23T18:04:39.535121",
     "status": "completed"
    },
    "tags": []
   },
   "source": [
    "# Settings"
   ]
  },
  {
   "cell_type": "code",
   "execution_count": 3,
   "metadata": {
    "execution": {
     "iopub.execute_input": "2020-12-23T18:04:39.565360Z",
     "iopub.status.busy": "2020-12-23T18:04:39.564998Z",
     "iopub.status.idle": "2020-12-23T18:04:39.577072Z",
     "shell.execute_reply": "2020-12-23T18:04:39.576658Z"
    },
    "papermill": {
     "duration": 0.023479,
     "end_time": "2020-12-23T18:04:39.577159",
     "exception": false,
     "start_time": "2020-12-23T18:04:39.553680",
     "status": "completed"
    },
    "tags": []
   },
   "outputs": [
    {
     "data": {
      "text/plain": [
       "PosixPath('/home/miltondp/projects/labs/greenelab/phenoplier/base/results/drug_disease_analyses')"
      ]
     },
     "metadata": {},
     "output_type": "display_data"
    }
   ],
   "source": [
    "OUTPUT_DIR = conf.RESULTS[\"DRUG_DISEASE_ANALYSES\"]\n",
    "display(OUTPUT_DIR)\n",
    "OUTPUT_DIR.mkdir(parents=True, exist_ok=True)"
   ]
  },
  {
   "cell_type": "markdown",
   "metadata": {
    "papermill": {
     "duration": 0.009706,
     "end_time": "2020-12-23T18:04:39.596873",
     "exception": false,
     "start_time": "2020-12-23T18:04:39.587167",
     "status": "completed"
    },
    "tags": []
   },
   "source": [
    "# PharmacotherapyDB: load gold standard"
   ]
  },
  {
   "cell_type": "markdown",
   "metadata": {
    "papermill": {
     "duration": 0.009703,
     "end_time": "2020-12-23T18:04:39.616377",
     "exception": false,
     "start_time": "2020-12-23T18:04:39.606674",
     "status": "completed"
    },
    "tags": []
   },
   "source": [
    "FIXME: This could go into a separate and previous notebook"
   ]
  },
  {
   "cell_type": "markdown",
   "metadata": {
    "papermill": {
     "duration": 0.009187,
     "end_time": "2020-12-23T18:04:39.635350",
     "exception": false,
     "start_time": "2020-12-23T18:04:39.626163",
     "status": "completed"
    },
    "tags": []
   },
   "source": [
    "## Read data"
   ]
  },
  {
   "cell_type": "code",
   "execution_count": 4,
   "metadata": {
    "execution": {
     "iopub.execute_input": "2020-12-23T18:04:39.657041Z",
     "iopub.status.busy": "2020-12-23T18:04:39.656630Z",
     "iopub.status.idle": "2020-12-23T18:04:39.674458Z",
     "shell.execute_reply": "2020-12-23T18:04:39.674732Z"
    },
    "papermill": {
     "duration": 0.030171,
     "end_time": "2020-12-23T18:04:39.674843",
     "exception": false,
     "start_time": "2020-12-23T18:04:39.644672",
     "status": "completed"
    },
    "tags": []
   },
   "outputs": [
    {
     "data": {
      "text/plain": [
       "PosixPath('/home/miltondp/projects/labs/greenelab/phenoplier/base/data/hetionet/pharmacotherapydb-v1.0/indications.tsv')"
      ]
     },
     "metadata": {},
     "output_type": "display_data"
    }
   ],
   "source": [
    "# TODO hardcoded\n",
    "input_file = Path(\n",
    "    conf.DATA_DIR, \"hetionet/pharmacotherapydb-v1.0\", \"indications.tsv\"\n",
    ").resolve()\n",
    "display(input_file)\n",
    "\n",
    "pharmadb_gold_standard = pd.read_csv(input_file, sep=\"\\t\")"
   ]
  },
  {
   "cell_type": "code",
   "execution_count": 5,
   "metadata": {
    "execution": {
     "iopub.execute_input": "2020-12-23T18:04:39.697178Z",
     "iopub.status.busy": "2020-12-23T18:04:39.696823Z",
     "iopub.status.idle": "2020-12-23T18:04:39.704853Z",
     "shell.execute_reply": "2020-12-23T18:04:39.704444Z"
    },
    "papermill": {
     "duration": 0.020017,
     "end_time": "2020-12-23T18:04:39.704939",
     "exception": false,
     "start_time": "2020-12-23T18:04:39.684922",
     "status": "completed"
    },
    "tags": []
   },
   "outputs": [
    {
     "data": {
      "text/plain": [
       "(1388, 7)"
      ]
     },
     "execution_count": 5,
     "metadata": {},
     "output_type": "execute_result"
    }
   ],
   "source": [
    "pharmadb_gold_standard.shape"
   ]
  },
  {
   "cell_type": "code",
   "execution_count": 6,
   "metadata": {
    "execution": {
     "iopub.execute_input": "2020-12-23T18:04:39.727772Z",
     "iopub.status.busy": "2020-12-23T18:04:39.727411Z",
     "iopub.status.idle": "2020-12-23T18:04:39.740356Z",
     "shell.execute_reply": "2020-12-23T18:04:39.740682Z"
    },
    "papermill": {
     "duration": 0.025481,
     "end_time": "2020-12-23T18:04:39.740804",
     "exception": false,
     "start_time": "2020-12-23T18:04:39.715323",
     "status": "completed"
    },
    "tags": []
   },
   "outputs": [
    {
     "data": {
      "text/html": [
       "<div>\n",
       "<style scoped>\n",
       "    .dataframe tbody tr th:only-of-type {\n",
       "        vertical-align: middle;\n",
       "    }\n",
       "\n",
       "    .dataframe tbody tr th {\n",
       "        vertical-align: top;\n",
       "    }\n",
       "\n",
       "    .dataframe thead th {\n",
       "        text-align: right;\n",
       "    }\n",
       "</style>\n",
       "<table border=\"1\" class=\"dataframe\">\n",
       "  <thead>\n",
       "    <tr style=\"text-align: right;\">\n",
       "      <th></th>\n",
       "      <th>doid_id</th>\n",
       "      <th>drugbank_id</th>\n",
       "      <th>disease</th>\n",
       "      <th>drug</th>\n",
       "      <th>category</th>\n",
       "      <th>n_curators</th>\n",
       "      <th>n_resources</th>\n",
       "    </tr>\n",
       "  </thead>\n",
       "  <tbody>\n",
       "    <tr>\n",
       "      <th>0</th>\n",
       "      <td>DOID:10652</td>\n",
       "      <td>DB00843</td>\n",
       "      <td>Alzheimer's disease</td>\n",
       "      <td>Donepezil</td>\n",
       "      <td>DM</td>\n",
       "      <td>2</td>\n",
       "      <td>1</td>\n",
       "    </tr>\n",
       "    <tr>\n",
       "      <th>1</th>\n",
       "      <td>DOID:10652</td>\n",
       "      <td>DB00674</td>\n",
       "      <td>Alzheimer's disease</td>\n",
       "      <td>Galantamine</td>\n",
       "      <td>DM</td>\n",
       "      <td>1</td>\n",
       "      <td>4</td>\n",
       "    </tr>\n",
       "    <tr>\n",
       "      <th>2</th>\n",
       "      <td>DOID:10652</td>\n",
       "      <td>DB01043</td>\n",
       "      <td>Alzheimer's disease</td>\n",
       "      <td>Memantine</td>\n",
       "      <td>DM</td>\n",
       "      <td>1</td>\n",
       "      <td>3</td>\n",
       "    </tr>\n",
       "    <tr>\n",
       "      <th>3</th>\n",
       "      <td>DOID:10652</td>\n",
       "      <td>DB00989</td>\n",
       "      <td>Alzheimer's disease</td>\n",
       "      <td>Rivastigmine</td>\n",
       "      <td>DM</td>\n",
       "      <td>1</td>\n",
       "      <td>3</td>\n",
       "    </tr>\n",
       "    <tr>\n",
       "      <th>4</th>\n",
       "      <td>DOID:10652</td>\n",
       "      <td>DB00245</td>\n",
       "      <td>Alzheimer's disease</td>\n",
       "      <td>Benzatropine</td>\n",
       "      <td>SYM</td>\n",
       "      <td>3</td>\n",
       "      <td>1</td>\n",
       "    </tr>\n",
       "  </tbody>\n",
       "</table>\n",
       "</div>"
      ],
      "text/plain": [
       "      doid_id drugbank_id              disease          drug category  \\\n",
       "0  DOID:10652     DB00843  Alzheimer's disease     Donepezil       DM   \n",
       "1  DOID:10652     DB00674  Alzheimer's disease   Galantamine       DM   \n",
       "2  DOID:10652     DB01043  Alzheimer's disease     Memantine       DM   \n",
       "3  DOID:10652     DB00989  Alzheimer's disease  Rivastigmine       DM   \n",
       "4  DOID:10652     DB00245  Alzheimer's disease  Benzatropine      SYM   \n",
       "\n",
       "   n_curators  n_resources  \n",
       "0           2            1  \n",
       "1           1            4  \n",
       "2           1            3  \n",
       "3           1            3  \n",
       "4           3            1  "
      ]
     },
     "execution_count": 6,
     "metadata": {},
     "output_type": "execute_result"
    }
   ],
   "source": [
    "pharmadb_gold_standard.head()"
   ]
  },
  {
   "cell_type": "code",
   "execution_count": 7,
   "metadata": {
    "execution": {
     "iopub.execute_input": "2020-12-23T18:04:39.764867Z",
     "iopub.status.busy": "2020-12-23T18:04:39.764477Z",
     "iopub.status.idle": "2020-12-23T18:04:39.772795Z",
     "shell.execute_reply": "2020-12-23T18:04:39.772477Z"
    },
    "papermill": {
     "duration": 0.021146,
     "end_time": "2020-12-23T18:04:39.772888",
     "exception": false,
     "start_time": "2020-12-23T18:04:39.751742",
     "status": "completed"
    },
    "tags": []
   },
   "outputs": [
    {
     "data": {
      "text/plain": [
       "(97,)"
      ]
     },
     "execution_count": 7,
     "metadata": {},
     "output_type": "execute_result"
    }
   ],
   "source": [
    "pharmadb_gold_standard[\"doid_id\"].unique().shape"
   ]
  },
  {
   "cell_type": "code",
   "execution_count": 8,
   "metadata": {
    "execution": {
     "iopub.execute_input": "2020-12-23T18:04:39.797379Z",
     "iopub.status.busy": "2020-12-23T18:04:39.797001Z",
     "iopub.status.idle": "2020-12-23T18:04:39.805233Z",
     "shell.execute_reply": "2020-12-23T18:04:39.804922Z"
    },
    "papermill": {
     "duration": 0.02135,
     "end_time": "2020-12-23T18:04:39.805324",
     "exception": false,
     "start_time": "2020-12-23T18:04:39.783974",
     "status": "completed"
    },
    "tags": []
   },
   "outputs": [
    {
     "data": {
      "text/plain": [
       "(601,)"
      ]
     },
     "execution_count": 8,
     "metadata": {},
     "output_type": "execute_result"
    }
   ],
   "source": [
    "pharmadb_gold_standard[\"drugbank_id\"].unique().shape"
   ]
  },
  {
   "cell_type": "markdown",
   "metadata": {
    "papermill": {
     "duration": 0.01117,
     "end_time": "2020-12-23T18:04:39.827693",
     "exception": false,
     "start_time": "2020-12-23T18:04:39.816523",
     "status": "completed"
    },
    "tags": []
   },
   "source": [
    "## Build gold standard"
   ]
  },
  {
   "cell_type": "code",
   "execution_count": 9,
   "metadata": {
    "execution": {
     "iopub.execute_input": "2020-12-23T18:04:39.851259Z",
     "iopub.status.busy": "2020-12-23T18:04:39.850902Z",
     "iopub.status.idle": "2020-12-23T18:04:39.860440Z",
     "shell.execute_reply": "2020-12-23T18:04:39.860072Z"
    },
    "papermill": {
     "duration": 0.022333,
     "end_time": "2020-12-23T18:04:39.860528",
     "exception": false,
     "start_time": "2020-12-23T18:04:39.838195",
     "status": "completed"
    },
    "tags": []
   },
   "outputs": [
    {
     "data": {
      "text/plain": [
       "DM     755\n",
       "SYM    390\n",
       "NOT    243\n",
       "Name: category, dtype: int64"
      ]
     },
     "execution_count": 9,
     "metadata": {},
     "output_type": "execute_result"
    }
   ],
   "source": [
    "pharmadb_gold_standard[\"category\"].value_counts()"
   ]
  },
  {
   "cell_type": "code",
   "execution_count": 10,
   "metadata": {
    "execution": {
     "iopub.execute_input": "2020-12-23T18:04:39.885410Z",
     "iopub.status.busy": "2020-12-23T18:04:39.885033Z",
     "iopub.status.idle": "2020-12-23T18:04:39.912555Z",
     "shell.execute_reply": "2020-12-23T18:04:39.912170Z"
    },
    "papermill": {
     "duration": 0.04118,
     "end_time": "2020-12-23T18:04:39.912647",
     "exception": false,
     "start_time": "2020-12-23T18:04:39.871467",
     "status": "completed"
    },
    "tags": []
   },
   "outputs": [],
   "source": [
    "gold_standard = (\n",
    "    pharmadb_gold_standard[pharmadb_gold_standard[\"category\"].isin((\"DM\", \"NOT\"))]\n",
    "    .set_index([\"doid_id\", \"drugbank_id\"])\n",
    "    .apply(lambda x: int(x.category in (\"DM\",)), axis=1)\n",
    "    .reset_index()\n",
    "    .rename(\n",
    "        columns={\n",
    "            \"doid_id\": \"trait\",\n",
    "            \"drugbank_id\": \"drug\",\n",
    "            0: \"true_class\",\n",
    "        }\n",
    "    )\n",
    ")"
   ]
  },
  {
   "cell_type": "code",
   "execution_count": 11,
   "metadata": {
    "execution": {
     "iopub.execute_input": "2020-12-23T18:04:39.937474Z",
     "iopub.status.busy": "2020-12-23T18:04:39.937097Z",
     "iopub.status.idle": "2020-12-23T18:04:39.945102Z",
     "shell.execute_reply": "2020-12-23T18:04:39.944719Z"
    },
    "papermill": {
     "duration": 0.02125,
     "end_time": "2020-12-23T18:04:39.945192",
     "exception": false,
     "start_time": "2020-12-23T18:04:39.923942",
     "status": "completed"
    },
    "tags": []
   },
   "outputs": [
    {
     "data": {
      "text/plain": [
       "(998, 3)"
      ]
     },
     "execution_count": 11,
     "metadata": {},
     "output_type": "execute_result"
    }
   ],
   "source": [
    "gold_standard.shape"
   ]
  },
  {
   "cell_type": "code",
   "execution_count": 12,
   "metadata": {
    "execution": {
     "iopub.execute_input": "2020-12-23T18:04:39.970498Z",
     "iopub.status.busy": "2020-12-23T18:04:39.970118Z",
     "iopub.status.idle": "2020-12-23T18:04:39.977320Z",
     "shell.execute_reply": "2020-12-23T18:04:39.976947Z"
    },
    "papermill": {
     "duration": 0.020612,
     "end_time": "2020-12-23T18:04:39.977406",
     "exception": false,
     "start_time": "2020-12-23T18:04:39.956794",
     "status": "completed"
    },
    "tags": []
   },
   "outputs": [],
   "source": [
    "# assert gold_standard.shape[0] == 1388\n",
    "assert gold_standard.shape[0] == 998"
   ]
  },
  {
   "cell_type": "code",
   "execution_count": 13,
   "metadata": {
    "execution": {
     "iopub.execute_input": "2020-12-23T18:04:40.002428Z",
     "iopub.status.busy": "2020-12-23T18:04:40.002062Z",
     "iopub.status.idle": "2020-12-23T18:04:40.012759Z",
     "shell.execute_reply": "2020-12-23T18:04:40.012350Z"
    },
    "papermill": {
     "duration": 0.023936,
     "end_time": "2020-12-23T18:04:40.012850",
     "exception": false,
     "start_time": "2020-12-23T18:04:39.988914",
     "status": "completed"
    },
    "tags": []
   },
   "outputs": [
    {
     "data": {
      "text/html": [
       "<div>\n",
       "<style scoped>\n",
       "    .dataframe tbody tr th:only-of-type {\n",
       "        vertical-align: middle;\n",
       "    }\n",
       "\n",
       "    .dataframe tbody tr th {\n",
       "        vertical-align: top;\n",
       "    }\n",
       "\n",
       "    .dataframe thead th {\n",
       "        text-align: right;\n",
       "    }\n",
       "</style>\n",
       "<table border=\"1\" class=\"dataframe\">\n",
       "  <thead>\n",
       "    <tr style=\"text-align: right;\">\n",
       "      <th></th>\n",
       "      <th>trait</th>\n",
       "      <th>drug</th>\n",
       "      <th>true_class</th>\n",
       "    </tr>\n",
       "  </thead>\n",
       "  <tbody>\n",
       "    <tr>\n",
       "      <th>0</th>\n",
       "      <td>DOID:10652</td>\n",
       "      <td>DB00843</td>\n",
       "      <td>1</td>\n",
       "    </tr>\n",
       "    <tr>\n",
       "      <th>1</th>\n",
       "      <td>DOID:10652</td>\n",
       "      <td>DB00674</td>\n",
       "      <td>1</td>\n",
       "    </tr>\n",
       "    <tr>\n",
       "      <th>2</th>\n",
       "      <td>DOID:10652</td>\n",
       "      <td>DB01043</td>\n",
       "      <td>1</td>\n",
       "    </tr>\n",
       "    <tr>\n",
       "      <th>3</th>\n",
       "      <td>DOID:10652</td>\n",
       "      <td>DB00989</td>\n",
       "      <td>1</td>\n",
       "    </tr>\n",
       "    <tr>\n",
       "      <th>4</th>\n",
       "      <td>DOID:10652</td>\n",
       "      <td>DB00810</td>\n",
       "      <td>0</td>\n",
       "    </tr>\n",
       "  </tbody>\n",
       "</table>\n",
       "</div>"
      ],
      "text/plain": [
       "        trait     drug  true_class\n",
       "0  DOID:10652  DB00843           1\n",
       "1  DOID:10652  DB00674           1\n",
       "2  DOID:10652  DB01043           1\n",
       "3  DOID:10652  DB00989           1\n",
       "4  DOID:10652  DB00810           0"
      ]
     },
     "execution_count": 13,
     "metadata": {},
     "output_type": "execute_result"
    }
   ],
   "source": [
    "gold_standard.head()"
   ]
  },
  {
   "cell_type": "code",
   "execution_count": 14,
   "metadata": {
    "execution": {
     "iopub.execute_input": "2020-12-23T18:04:40.038079Z",
     "iopub.status.busy": "2020-12-23T18:04:40.037727Z",
     "iopub.status.idle": "2020-12-23T18:04:40.046339Z",
     "shell.execute_reply": "2020-12-23T18:04:40.046016Z"
    },
    "papermill": {
     "duration": 0.022093,
     "end_time": "2020-12-23T18:04:40.046429",
     "exception": false,
     "start_time": "2020-12-23T18:04:40.024336",
     "status": "completed"
    },
    "tags": []
   },
   "outputs": [
    {
     "data": {
      "text/plain": [
       "(87,)"
      ]
     },
     "execution_count": 14,
     "metadata": {},
     "output_type": "execute_result"
    }
   ],
   "source": [
    "gold_standard[\"trait\"].unique().shape"
   ]
  },
  {
   "cell_type": "code",
   "execution_count": 15,
   "metadata": {
    "execution": {
     "iopub.execute_input": "2020-12-23T18:04:40.073406Z",
     "iopub.status.busy": "2020-12-23T18:04:40.073018Z",
     "iopub.status.idle": "2020-12-23T18:04:40.081410Z",
     "shell.execute_reply": "2020-12-23T18:04:40.081069Z"
    },
    "papermill": {
     "duration": 0.023393,
     "end_time": "2020-12-23T18:04:40.081507",
     "exception": false,
     "start_time": "2020-12-23T18:04:40.058114",
     "status": "completed"
    },
    "tags": []
   },
   "outputs": [
    {
     "data": {
      "text/plain": [
       "(465,)"
      ]
     },
     "execution_count": 15,
     "metadata": {},
     "output_type": "execute_result"
    }
   ],
   "source": [
    "gold_standard[\"drug\"].unique().shape"
   ]
  },
  {
   "cell_type": "code",
   "execution_count": 16,
   "metadata": {
    "execution": {
     "iopub.execute_input": "2020-12-23T18:04:40.108644Z",
     "iopub.status.busy": "2020-12-23T18:04:40.108271Z",
     "iopub.status.idle": "2020-12-23T18:04:40.117557Z",
     "shell.execute_reply": "2020-12-23T18:04:40.117255Z"
    },
    "papermill": {
     "duration": 0.023772,
     "end_time": "2020-12-23T18:04:40.117647",
     "exception": false,
     "start_time": "2020-12-23T18:04:40.093875",
     "status": "completed"
    },
    "tags": []
   },
   "outputs": [
    {
     "data": {
      "text/plain": [
       "1    755\n",
       "0    243\n",
       "Name: true_class, dtype: int64"
      ]
     },
     "execution_count": 16,
     "metadata": {},
     "output_type": "execute_result"
    }
   ],
   "source": [
    "gold_standard[\"true_class\"].value_counts()"
   ]
  },
  {
   "cell_type": "code",
   "execution_count": 17,
   "metadata": {
    "execution": {
     "iopub.execute_input": "2020-12-23T18:04:40.144136Z",
     "iopub.status.busy": "2020-12-23T18:04:40.143783Z",
     "iopub.status.idle": "2020-12-23T18:04:40.155470Z",
     "shell.execute_reply": "2020-12-23T18:04:40.155755Z"
    },
    "papermill": {
     "duration": 0.025883,
     "end_time": "2020-12-23T18:04:40.155866",
     "exception": false,
     "start_time": "2020-12-23T18:04:40.129983",
     "status": "completed"
    },
    "tags": []
   },
   "outputs": [
    {
     "data": {
      "text/plain": [
       "(998, 3)"
      ]
     },
     "execution_count": 17,
     "metadata": {},
     "output_type": "execute_result"
    }
   ],
   "source": [
    "gold_standard.dropna().shape"
   ]
  },
  {
   "cell_type": "code",
   "execution_count": 18,
   "metadata": {
    "execution": {
     "iopub.execute_input": "2020-12-23T18:04:40.183652Z",
     "iopub.status.busy": "2020-12-23T18:04:40.183278Z",
     "iopub.status.idle": "2020-12-23T18:04:40.190451Z",
     "shell.execute_reply": "2020-12-23T18:04:40.190735Z"
    },
    "papermill": {
     "duration": 0.022141,
     "end_time": "2020-12-23T18:04:40.190845",
     "exception": false,
     "start_time": "2020-12-23T18:04:40.168704",
     "status": "completed"
    },
    "tags": []
   },
   "outputs": [],
   "source": [
    "doids_in_gold_standard = set(gold_standard[\"trait\"].values)"
   ]
  },
  {
   "cell_type": "markdown",
   "metadata": {
    "papermill": {
     "duration": 0.011775,
     "end_time": "2020-12-23T18:04:40.215437",
     "exception": false,
     "start_time": "2020-12-23T18:04:40.203662",
     "status": "completed"
    },
    "tags": []
   },
   "source": [
    "# Save"
   ]
  },
  {
   "cell_type": "code",
   "execution_count": 19,
   "metadata": {
    "execution": {
     "iopub.execute_input": "2020-12-23T18:04:40.241268Z",
     "iopub.status.busy": "2020-12-23T18:04:40.240913Z",
     "iopub.status.idle": "2020-12-23T18:04:40.249037Z",
     "shell.execute_reply": "2020-12-23T18:04:40.248621Z"
    },
    "papermill": {
     "duration": 0.022126,
     "end_time": "2020-12-23T18:04:40.249120",
     "exception": false,
     "start_time": "2020-12-23T18:04:40.226994",
     "status": "completed"
    },
    "tags": []
   },
   "outputs": [
    {
     "data": {
      "text/plain": [
       "PosixPath('/home/miltondp/projects/labs/greenelab/phenoplier/base/results/drug_disease_analyses/gold_standard.pkl')"
      ]
     },
     "metadata": {},
     "output_type": "display_data"
    }
   ],
   "source": [
    "output_file = Path(OUTPUT_DIR, \"gold_standard.pkl\").resolve()\n",
    "display(output_file)"
   ]
  },
  {
   "cell_type": "code",
   "execution_count": 20,
   "metadata": {
    "execution": {
     "iopub.execute_input": "2020-12-23T18:04:40.275859Z",
     "iopub.status.busy": "2020-12-23T18:04:40.275470Z",
     "iopub.status.idle": "2020-12-23T18:04:40.283684Z",
     "shell.execute_reply": "2020-12-23T18:04:40.283307Z"
    },
    "papermill": {
     "duration": 0.022466,
     "end_time": "2020-12-23T18:04:40.283775",
     "exception": false,
     "start_time": "2020-12-23T18:04:40.261309",
     "status": "completed"
    },
    "tags": []
   },
   "outputs": [],
   "source": [
    "gold_standard.to_pickle(output_file)"
   ]
  },
  {
   "cell_type": "code",
   "execution_count": null,
   "metadata": {
    "papermill": {
     "duration": 0.012227,
     "end_time": "2020-12-23T18:04:40.308654",
     "exception": false,
     "start_time": "2020-12-23T18:04:40.296427",
     "status": "completed"
    },
    "tags": []
   },
   "outputs": [],
   "source": []
  }
 ],
 "metadata": {
  "jupytext": {
   "formats": "ipynb,py//py:percent"
  },
  "kernelspec": {
   "display_name": "Python 3",
   "language": "python",
   "name": "python3"
  },
  "language_info": {
   "codemirror_mode": {
    "name": "ipython",
    "version": 3
   },
   "file_extension": ".py",
   "mimetype": "text/x-python",
   "name": "python",
   "nbconvert_exporter": "python",
   "pygments_lexer": "ipython3",
   "version": "3.8.6"
  },
  "papermill": {
   "default_parameters": {},
   "duration": 3.201629,
   "end_time": "2020-12-23T18:04:41.617935",
   "environment_variables": {},
   "exception": null,
   "input_path": "15_drug_disease_associations/005-pharmacotherapydb-build_gold_standard.ipynb",
   "output_path": "15_drug_disease_associations/005-pharmacotherapydb-build_gold_standard.run.ipynb",
   "parameters": {},
   "start_time": "2020-12-23T18:04:38.416306",
   "version": "2.2.2"
  }
 },
 "nbformat": 4,
 "nbformat_minor": 4
}
