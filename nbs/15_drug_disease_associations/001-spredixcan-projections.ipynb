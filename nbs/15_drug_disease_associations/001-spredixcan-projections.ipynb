{
 "cells": [
  {
   "cell_type": "markdown",
   "metadata": {
    "papermill": {
     "duration": 0.011642,
     "end_time": "2021-04-22T13:36:50.660996",
     "exception": false,
     "start_time": "2021-04-22T13:36:50.649354",
     "status": "completed"
    },
    "tags": []
   },
   "source": [
    "# Description"
   ]
  },
  {
   "cell_type": "markdown",
   "metadata": {
    "papermill": {
     "duration": 0.010786,
     "end_time": "2021-04-22T13:36:50.683981",
     "exception": false,
     "start_time": "2021-04-22T13:36:50.673195",
     "status": "completed"
    },
    "tags": []
   },
   "source": [
    "This notebook projects S-PrediXcan results in each tissues into the MultiPLIER space. It also saves S-PrediXcan results after removing NaN rows."
   ]
  },
  {
   "cell_type": "markdown",
   "metadata": {
    "papermill": {
     "duration": 0.005608,
     "end_time": "2021-04-22T13:36:50.697183",
     "exception": false,
     "start_time": "2021-04-22T13:36:50.691575",
     "status": "completed"
    },
    "tags": []
   },
   "source": [
    "# Modules loading"
   ]
  },
  {
   "cell_type": "code",
   "execution_count": 1,
   "metadata": {
    "execution": {
     "iopub.execute_input": "2021-04-22T13:36:50.712373Z",
     "iopub.status.busy": "2021-04-22T13:36:50.712010Z",
     "iopub.status.idle": "2021-04-22T13:36:50.718706Z",
     "shell.execute_reply": "2021-04-22T13:36:50.718998Z"
    },
    "papermill": {
     "duration": 0.016954,
     "end_time": "2021-04-22T13:36:50.719151",
     "exception": false,
     "start_time": "2021-04-22T13:36:50.702197",
     "status": "completed"
    },
    "tags": []
   },
   "outputs": [],
   "source": [
    "%load_ext autoreload\n",
    "%autoreload 2"
   ]
  },
  {
   "cell_type": "code",
   "execution_count": 2,
   "metadata": {
    "execution": {
     "iopub.execute_input": "2021-04-22T13:36:50.730517Z",
     "iopub.status.busy": "2021-04-22T13:36:50.730143Z",
     "iopub.status.idle": "2021-04-22T13:36:50.907342Z",
     "shell.execute_reply": "2021-04-22T13:36:50.907008Z"
    },
    "papermill": {
     "duration": 0.183749,
     "end_time": "2021-04-22T13:36:50.907428",
     "exception": false,
     "start_time": "2021-04-22T13:36:50.723679",
     "status": "completed"
    },
    "tags": []
   },
   "outputs": [],
   "source": [
    "from IPython.display import display\n",
    "from pathlib import Path\n",
    "\n",
    "import pandas as pd\n",
    "\n",
    "import conf\n",
    "from multiplier import MultiplierProjection"
   ]
  },
  {
   "cell_type": "markdown",
   "metadata": {
    "papermill": {
     "duration": 0.005219,
     "end_time": "2021-04-22T13:36:50.917256",
     "exception": false,
     "start_time": "2021-04-22T13:36:50.912037",
     "status": "completed"
    },
    "tags": []
   },
   "source": [
    "# Settings"
   ]
  },
  {
   "cell_type": "code",
   "execution_count": 3,
   "metadata": {
    "execution": {
     "iopub.execute_input": "2021-04-22T13:36:50.928495Z",
     "iopub.status.busy": "2021-04-22T13:36:50.928122Z",
     "iopub.status.idle": "2021-04-22T13:36:50.940260Z",
     "shell.execute_reply": "2021-04-22T13:36:50.939908Z"
    },
    "papermill": {
     "duration": 0.018729,
     "end_time": "2021-04-22T13:36:50.940347",
     "exception": false,
     "start_time": "2021-04-22T13:36:50.921618",
     "status": "completed"
    },
    "tags": []
   },
   "outputs": [
    {
     "data": {
      "text/plain": [
       "PosixPath('/home/miltondp/projects/labs/greenelab/phenoplier/base/results/drug_disease_analyses/spredixcan')"
      ]
     },
     "metadata": {},
     "output_type": "display_data"
    }
   ],
   "source": [
    "OUTPUT_DATA_DIR = Path(conf.RESULTS[\"DRUG_DISEASE_ANALYSES\"], \"spredixcan\")\n",
    "display(OUTPUT_DATA_DIR)\n",
    "OUTPUT_DATA_DIR.mkdir(parents=True, exist_ok=True)"
   ]
  },
  {
   "cell_type": "code",
   "execution_count": 4,
   "metadata": {
    "execution": {
     "iopub.execute_input": "2021-04-22T13:36:50.952857Z",
     "iopub.status.busy": "2021-04-22T13:36:50.952475Z",
     "iopub.status.idle": "2021-04-22T13:36:50.960089Z",
     "shell.execute_reply": "2021-04-22T13:36:50.960373Z"
    },
    "papermill": {
     "duration": 0.014849,
     "end_time": "2021-04-22T13:36:50.960479",
     "exception": false,
     "start_time": "2021-04-22T13:36:50.945630",
     "status": "completed"
    },
    "tags": []
   },
   "outputs": [
    {
     "data": {
      "text/plain": [
       "PosixPath('/home/miltondp/projects/labs/greenelab/phenoplier/base/results/drug_disease_analyses/spredixcan/raw')"
      ]
     },
     "metadata": {},
     "output_type": "display_data"
    }
   ],
   "source": [
    "OUTPUT_RAW_DATA_DIR = Path(OUTPUT_DATA_DIR, \"raw\")\n",
    "display(OUTPUT_RAW_DATA_DIR)\n",
    "OUTPUT_RAW_DATA_DIR.mkdir(parents=True, exist_ok=True)"
   ]
  },
  {
   "cell_type": "code",
   "execution_count": 5,
   "metadata": {
    "execution": {
     "iopub.execute_input": "2021-04-22T13:36:50.973048Z",
     "iopub.status.busy": "2021-04-22T13:36:50.972657Z",
     "iopub.status.idle": "2021-04-22T13:36:50.980467Z",
     "shell.execute_reply": "2021-04-22T13:36:50.980085Z"
    },
    "papermill": {
     "duration": 0.014903,
     "end_time": "2021-04-22T13:36:50.980551",
     "exception": false,
     "start_time": "2021-04-22T13:36:50.965648",
     "status": "completed"
    },
    "tags": []
   },
   "outputs": [
    {
     "data": {
      "text/plain": [
       "PosixPath('/home/miltondp/projects/labs/greenelab/phenoplier/base/results/drug_disease_analyses/spredixcan/proj')"
      ]
     },
     "metadata": {},
     "output_type": "display_data"
    }
   ],
   "source": [
    "OUTPUT_PROJ_DATA_DIR = Path(OUTPUT_DATA_DIR, \"proj\")\n",
    "display(OUTPUT_PROJ_DATA_DIR)\n",
    "OUTPUT_PROJ_DATA_DIR.mkdir(parents=True, exist_ok=True)"
   ]
  },
  {
   "cell_type": "markdown",
   "metadata": {
    "papermill": {
     "duration": 0.005283,
     "end_time": "2021-04-22T13:36:50.991367",
     "exception": false,
     "start_time": "2021-04-22T13:36:50.986084",
     "status": "completed"
    },
    "tags": []
   },
   "source": [
    "# Load PhenomeXcan results"
   ]
  },
  {
   "cell_type": "code",
   "execution_count": 6,
   "metadata": {
    "execution": {
     "iopub.execute_input": "2021-04-22T13:36:51.004487Z",
     "iopub.status.busy": "2021-04-22T13:36:51.004101Z",
     "iopub.status.idle": "2021-04-22T13:36:51.011841Z",
     "shell.execute_reply": "2021-04-22T13:36:51.011463Z"
    },
    "papermill": {
     "duration": 0.015126,
     "end_time": "2021-04-22T13:36:51.011926",
     "exception": false,
     "start_time": "2021-04-22T13:36:50.996800",
     "status": "completed"
    },
    "tags": []
   },
   "outputs": [],
   "source": [
    "input_file_list = [\n",
    "    f\n",
    "    for f in Path(conf.PHENOMEXCAN[\"SPREDIXCAN_MASHR_ZSCORES_FOLDER\"], \"pkl\").glob(\n",
    "        \"*.pkl\"\n",
    "    )\n",
    "]"
   ]
  },
  {
   "cell_type": "code",
   "execution_count": 7,
   "metadata": {
    "execution": {
     "iopub.execute_input": "2021-04-22T13:36:51.025756Z",
     "iopub.status.busy": "2021-04-22T13:36:51.025358Z",
     "iopub.status.idle": "2021-04-22T13:36:51.033349Z",
     "shell.execute_reply": "2021-04-22T13:36:51.033664Z"
    },
    "papermill": {
     "duration": 0.01616,
     "end_time": "2021-04-22T13:36:51.033779",
     "exception": false,
     "start_time": "2021-04-22T13:36:51.017619",
     "status": "completed"
    },
    "tags": []
   },
   "outputs": [
    {
     "data": {
      "text/plain": [
       "49"
      ]
     },
     "metadata": {},
     "output_type": "display_data"
    }
   ],
   "source": [
    "_tmp = len(input_file_list)\n",
    "display(_tmp)\n",
    "assert _tmp == 49"
   ]
  },
  {
   "cell_type": "code",
   "execution_count": 8,
   "metadata": {
    "execution": {
     "iopub.execute_input": "2021-04-22T13:36:51.050687Z",
     "iopub.status.busy": "2021-04-22T13:36:51.050252Z",
     "iopub.status.idle": "2021-04-22T13:41:57.859284Z",
     "shell.execute_reply": "2021-04-22T13:41:57.859723Z"
    },
    "papermill": {
     "duration": 306.819578,
     "end_time": "2021-04-22T13:41:57.859835",
     "exception": false,
     "start_time": "2021-04-22T13:36:51.040257",
     "status": "completed"
    },
    "tags": []
   },
   "outputs": [
    {
     "name": "stdout",
     "output_type": "stream",
     "text": [
      "spredixcan-mashr-zscores-Testis.pkl\n"
     ]
    },
    {
     "name": "stdout",
     "output_type": "stream",
     "text": [
      "  shape: (17853, 4091)\n"
     ]
    },
    {
     "name": "stdout",
     "output_type": "stream",
     "text": [
      "  shape (no NaN): (16972, 4091)\n",
      "  saving to: /home/miltondp/projects/labs/greenelab/phenoplier/base/results/drug_disease_analyses/spredixcan/raw/spredixcan-mashr-zscores-Testis-data.pkl\n"
     ]
    },
    {
     "name": "stdout",
     "output_type": "stream",
     "text": [
      "  projecting...\n"
     ]
    },
    {
     "name": "stdout",
     "output_type": "stream",
     "text": [
      "    shape: (987, 4091)\n",
      "    saving to: /home/miltondp/projects/labs/greenelab/phenoplier/base/results/drug_disease_analyses/spredixcan/proj/spredixcan-mashr-zscores-Testis-projection.pkl\n",
      "\n",
      "spredixcan-mashr-zscores-Esophagus_Gastroesophageal_Junction.pkl\n"
     ]
    },
    {
     "name": "stdout",
     "output_type": "stream",
     "text": [
      "  shape: (14271, 4091)\n"
     ]
    },
    {
     "name": "stdout",
     "output_type": "stream",
     "text": [
      "  shape (no NaN): (13580, 4091)\n",
      "  saving to: /home/miltondp/projects/labs/greenelab/phenoplier/base/results/drug_disease_analyses/spredixcan/raw/spredixcan-mashr-zscores-Esophagus_Gastroesophageal_Junction-data.pkl\n"
     ]
    },
    {
     "name": "stdout",
     "output_type": "stream",
     "text": [
      "  projecting...\n"
     ]
    },
    {
     "name": "stdout",
     "output_type": "stream",
     "text": [
      "    shape: (987, 4091)\n",
      "    saving to: /home/miltondp/projects/labs/greenelab/phenoplier/base/results/drug_disease_analyses/spredixcan/proj/spredixcan-mashr-zscores-Esophagus_Gastroesophageal_Junction-projection.pkl\n",
      "\n",
      "spredixcan-mashr-zscores-Brain_Nucleus_accumbens_basal_ganglia.pkl\n"
     ]
    },
    {
     "name": "stdout",
     "output_type": "stream",
     "text": [
      "  shape: (14047, 4091)\n"
     ]
    },
    {
     "name": "stdout",
     "output_type": "stream",
     "text": [
      "  shape (no NaN): (13307, 4091)\n",
      "  saving to: /home/miltondp/projects/labs/greenelab/phenoplier/base/results/drug_disease_analyses/spredixcan/raw/spredixcan-mashr-zscores-Brain_Nucleus_accumbens_basal_ganglia-data.pkl\n"
     ]
    },
    {
     "name": "stdout",
     "output_type": "stream",
     "text": [
      "  projecting...\n"
     ]
    },
    {
     "name": "stdout",
     "output_type": "stream",
     "text": [
      "    shape: (987, 4091)\n",
      "    saving to: /home/miltondp/projects/labs/greenelab/phenoplier/base/results/drug_disease_analyses/spredixcan/proj/spredixcan-mashr-zscores-Brain_Nucleus_accumbens_basal_ganglia-projection.pkl\n",
      "\n",
      "spredixcan-mashr-zscores-Vagina.pkl\n"
     ]
    },
    {
     "name": "stdout",
     "output_type": "stream",
     "text": [
      "  shape: (12960, 4091)\n"
     ]
    },
    {
     "name": "stdout",
     "output_type": "stream",
     "text": [
      "  shape (no NaN): (12167, 4091)\n",
      "  saving to: /home/miltondp/projects/labs/greenelab/phenoplier/base/results/drug_disease_analyses/spredixcan/raw/spredixcan-mashr-zscores-Vagina-data.pkl\n"
     ]
    },
    {
     "name": "stdout",
     "output_type": "stream",
     "text": [
      "  projecting...\n"
     ]
    },
    {
     "name": "stdout",
     "output_type": "stream",
     "text": [
      "    shape: (987, 4091)\n",
      "    saving to: /home/miltondp/projects/labs/greenelab/phenoplier/base/results/drug_disease_analyses/spredixcan/proj/spredixcan-mashr-zscores-Vagina-projection.pkl\n",
      "\n",
      "spredixcan-mashr-zscores-Colon_Transverse.pkl\n"
     ]
    },
    {
     "name": "stdout",
     "output_type": "stream",
     "text": [
      "  shape: (14572, 4091)\n"
     ]
    },
    {
     "name": "stdout",
     "output_type": "stream",
     "text": [
      "  shape (no NaN): (13868, 4091)\n",
      "  saving to: /home/miltondp/projects/labs/greenelab/phenoplier/base/results/drug_disease_analyses/spredixcan/raw/spredixcan-mashr-zscores-Colon_Transverse-data.pkl\n"
     ]
    },
    {
     "name": "stdout",
     "output_type": "stream",
     "text": [
      "  projecting...\n"
     ]
    },
    {
     "name": "stdout",
     "output_type": "stream",
     "text": [
      "    shape: (987, 4091)\n",
      "    saving to: /home/miltondp/projects/labs/greenelab/phenoplier/base/results/drug_disease_analyses/spredixcan/proj/spredixcan-mashr-zscores-Colon_Transverse-projection.pkl\n",
      "\n",
      "spredixcan-mashr-zscores-Colon_Sigmoid.pkl\n"
     ]
    },
    {
     "name": "stdout",
     "output_type": "stream",
     "text": [
      "  shape: (14349, 4091)\n"
     ]
    },
    {
     "name": "stdout",
     "output_type": "stream",
     "text": [
      "  shape (no NaN): (13641, 4091)\n",
      "  saving to: /home/miltondp/projects/labs/greenelab/phenoplier/base/results/drug_disease_analyses/spredixcan/raw/spredixcan-mashr-zscores-Colon_Sigmoid-data.pkl\n"
     ]
    },
    {
     "name": "stdout",
     "output_type": "stream",
     "text": [
      "  projecting...\n"
     ]
    },
    {
     "name": "stdout",
     "output_type": "stream",
     "text": [
      "    shape: (987, 4091)\n",
      "    saving to: /home/miltondp/projects/labs/greenelab/phenoplier/base/results/drug_disease_analyses/spredixcan/proj/spredixcan-mashr-zscores-Colon_Sigmoid-projection.pkl\n",
      "\n",
      "spredixcan-mashr-zscores-Adipose_Visceral_Omentum.pkl\n"
     ]
    },
    {
     "name": "stdout",
     "output_type": "stream",
     "text": [
      "  shape: (14627, 4091)\n"
     ]
    },
    {
     "name": "stdout",
     "output_type": "stream",
     "text": [
      "  shape (no NaN): (13942, 4091)\n",
      "  saving to: /home/miltondp/projects/labs/greenelab/phenoplier/base/results/drug_disease_analyses/spredixcan/raw/spredixcan-mashr-zscores-Adipose_Visceral_Omentum-data.pkl\n"
     ]
    },
    {
     "name": "stdout",
     "output_type": "stream",
     "text": [
      "  projecting...\n"
     ]
    },
    {
     "name": "stdout",
     "output_type": "stream",
     "text": [
      "    shape: (987, 4091)\n",
      "    saving to: /home/miltondp/projects/labs/greenelab/phenoplier/base/results/drug_disease_analyses/spredixcan/proj/spredixcan-mashr-zscores-Adipose_Visceral_Omentum-projection.pkl\n",
      "\n",
      "spredixcan-mashr-zscores-Lung.pkl\n"
     ]
    },
    {
     "name": "stdout",
     "output_type": "stream",
     "text": [
      "  shape: (15044, 4091)\n"
     ]
    },
    {
     "name": "stdout",
     "output_type": "stream",
     "text": [
      "  shape (no NaN): (14334, 4091)\n",
      "  saving to: /home/miltondp/projects/labs/greenelab/phenoplier/base/results/drug_disease_analyses/spredixcan/raw/spredixcan-mashr-zscores-Lung-data.pkl\n"
     ]
    },
    {
     "name": "stdout",
     "output_type": "stream",
     "text": [
      "  projecting...\n"
     ]
    },
    {
     "name": "stdout",
     "output_type": "stream",
     "text": [
      "    shape: (987, 4091)\n",
      "    saving to: /home/miltondp/projects/labs/greenelab/phenoplier/base/results/drug_disease_analyses/spredixcan/proj/spredixcan-mashr-zscores-Lung-projection.pkl\n",
      "\n",
      "spredixcan-mashr-zscores-Spleen.pkl\n"
     ]
    },
    {
     "name": "stdout",
     "output_type": "stream",
     "text": [
      "  shape: (14061, 4091)\n"
     ]
    },
    {
     "name": "stdout",
     "output_type": "stream",
     "text": [
      "  shape (no NaN): (13376, 4091)\n",
      "  saving to: /home/miltondp/projects/labs/greenelab/phenoplier/base/results/drug_disease_analyses/spredixcan/raw/spredixcan-mashr-zscores-Spleen-data.pkl\n"
     ]
    },
    {
     "name": "stdout",
     "output_type": "stream",
     "text": [
      "  projecting...\n"
     ]
    },
    {
     "name": "stdout",
     "output_type": "stream",
     "text": [
      "    shape: (987, 4091)\n",
      "    saving to: /home/miltondp/projects/labs/greenelab/phenoplier/base/results/drug_disease_analyses/spredixcan/proj/spredixcan-mashr-zscores-Spleen-projection.pkl\n",
      "\n",
      "spredixcan-mashr-zscores-Adipose_Subcutaneous.pkl\n"
     ]
    },
    {
     "name": "stdout",
     "output_type": "stream",
     "text": [
      "  shape: (14720, 4091)\n"
     ]
    },
    {
     "name": "stdout",
     "output_type": "stream",
     "text": [
      "  shape (no NaN): (14063, 4091)\n",
      "  saving to: /home/miltondp/projects/labs/greenelab/phenoplier/base/results/drug_disease_analyses/spredixcan/raw/spredixcan-mashr-zscores-Adipose_Subcutaneous-data.pkl\n"
     ]
    },
    {
     "name": "stdout",
     "output_type": "stream",
     "text": [
      "  projecting...\n"
     ]
    },
    {
     "name": "stdout",
     "output_type": "stream",
     "text": [
      "    shape: (987, 4091)\n",
      "    saving to: /home/miltondp/projects/labs/greenelab/phenoplier/base/results/drug_disease_analyses/spredixcan/proj/spredixcan-mashr-zscores-Adipose_Subcutaneous-projection.pkl\n",
      "\n",
      "spredixcan-mashr-zscores-Pituitary.pkl\n"
     ]
    },
    {
     "name": "stdout",
     "output_type": "stream",
     "text": [
      "  shape: (14633, 4091)\n"
     ]
    },
    {
     "name": "stdout",
     "output_type": "stream",
     "text": [
      "  shape (no NaN): (13898, 4091)\n",
      "  saving to: /home/miltondp/projects/labs/greenelab/phenoplier/base/results/drug_disease_analyses/spredixcan/raw/spredixcan-mashr-zscores-Pituitary-data.pkl\n"
     ]
    },
    {
     "name": "stdout",
     "output_type": "stream",
     "text": [
      "  projecting...\n"
     ]
    },
    {
     "name": "stdout",
     "output_type": "stream",
     "text": [
      "    shape: (987, 4091)\n",
      "    saving to: /home/miltondp/projects/labs/greenelab/phenoplier/base/results/drug_disease_analyses/spredixcan/proj/spredixcan-mashr-zscores-Pituitary-projection.pkl\n",
      "\n",
      "spredixcan-mashr-zscores-Prostate.pkl\n"
     ]
    },
    {
     "name": "stdout",
     "output_type": "stream",
     "text": [
      "  shape: (14436, 4091)\n"
     ]
    },
    {
     "name": "stdout",
     "output_type": "stream",
     "text": [
      "  shape (no NaN): (13610, 4091)\n",
      "  saving to: /home/miltondp/projects/labs/greenelab/phenoplier/base/results/drug_disease_analyses/spredixcan/raw/spredixcan-mashr-zscores-Prostate-data.pkl\n"
     ]
    },
    {
     "name": "stdout",
     "output_type": "stream",
     "text": [
      "  projecting...\n"
     ]
    },
    {
     "name": "stdout",
     "output_type": "stream",
     "text": [
      "    shape: (987, 4091)\n",
      "    saving to: /home/miltondp/projects/labs/greenelab/phenoplier/base/results/drug_disease_analyses/spredixcan/proj/spredixcan-mashr-zscores-Prostate-projection.pkl\n",
      "\n",
      "spredixcan-mashr-zscores-Brain_Cerebellar_Hemisphere.pkl\n"
     ]
    },
    {
     "name": "stdout",
     "output_type": "stream",
     "text": [
      "  shape: (13756, 4091)\n"
     ]
    },
    {
     "name": "stdout",
     "output_type": "stream",
     "text": [
      "  shape (no NaN): (13026, 4091)\n",
      "  saving to: /home/miltondp/projects/labs/greenelab/phenoplier/base/results/drug_disease_analyses/spredixcan/raw/spredixcan-mashr-zscores-Brain_Cerebellar_Hemisphere-data.pkl\n"
     ]
    },
    {
     "name": "stdout",
     "output_type": "stream",
     "text": [
      "  projecting...\n"
     ]
    },
    {
     "name": "stdout",
     "output_type": "stream",
     "text": [
      "    shape: (987, 4091)\n",
      "    saving to: /home/miltondp/projects/labs/greenelab/phenoplier/base/results/drug_disease_analyses/spredixcan/proj/spredixcan-mashr-zscores-Brain_Cerebellar_Hemisphere-projection.pkl\n",
      "\n",
      "spredixcan-mashr-zscores-Brain_Putamen_basal_ganglia.pkl\n"
     ]
    },
    {
     "name": "stdout",
     "output_type": "stream",
     "text": [
      "  shape: (13683, 4091)\n"
     ]
    },
    {
     "name": "stdout",
     "output_type": "stream",
     "text": [
      "  shape (no NaN): (12992, 4091)\n",
      "  saving to: /home/miltondp/projects/labs/greenelab/phenoplier/base/results/drug_disease_analyses/spredixcan/raw/spredixcan-mashr-zscores-Brain_Putamen_basal_ganglia-data.pkl\n"
     ]
    },
    {
     "name": "stdout",
     "output_type": "stream",
     "text": [
      "  projecting...\n"
     ]
    },
    {
     "name": "stdout",
     "output_type": "stream",
     "text": [
      "    shape: (987, 4091)\n",
      "    saving to: /home/miltondp/projects/labs/greenelab/phenoplier/base/results/drug_disease_analyses/spredixcan/proj/spredixcan-mashr-zscores-Brain_Putamen_basal_ganglia-projection.pkl\n",
      "\n",
      "spredixcan-mashr-zscores-Brain_Cortex.pkl\n"
     ]
    },
    {
     "name": "stdout",
     "output_type": "stream",
     "text": [
      "  shape: (14272, 4091)\n"
     ]
    },
    {
     "name": "stdout",
     "output_type": "stream",
     "text": [
      "  shape (no NaN): (13527, 4091)\n",
      "  saving to: /home/miltondp/projects/labs/greenelab/phenoplier/base/results/drug_disease_analyses/spredixcan/raw/spredixcan-mashr-zscores-Brain_Cortex-data.pkl\n"
     ]
    },
    {
     "name": "stdout",
     "output_type": "stream",
     "text": [
      "  projecting...\n"
     ]
    },
    {
     "name": "stdout",
     "output_type": "stream",
     "text": [
      "    shape: (987, 4091)\n",
      "    saving to: /home/miltondp/projects/labs/greenelab/phenoplier/base/results/drug_disease_analyses/spredixcan/proj/spredixcan-mashr-zscores-Brain_Cortex-projection.pkl\n",
      "\n",
      "spredixcan-mashr-zscores-Brain_Cerebellum.pkl\n"
     ]
    },
    {
     "name": "stdout",
     "output_type": "stream",
     "text": [
      "  shape: (13980, 4091)\n"
     ]
    },
    {
     "name": "stdout",
     "output_type": "stream",
     "text": [
      "  shape (no NaN): (13253, 4091)\n",
      "  saving to: /home/miltondp/projects/labs/greenelab/phenoplier/base/results/drug_disease_analyses/spredixcan/raw/spredixcan-mashr-zscores-Brain_Cerebellum-data.pkl\n"
     ]
    },
    {
     "name": "stdout",
     "output_type": "stream",
     "text": [
      "  projecting...\n"
     ]
    },
    {
     "name": "stdout",
     "output_type": "stream",
     "text": [
      "    shape: (987, 4091)\n",
      "    saving to: /home/miltondp/projects/labs/greenelab/phenoplier/base/results/drug_disease_analyses/spredixcan/proj/spredixcan-mashr-zscores-Brain_Cerebellum-projection.pkl\n",
      "\n",
      "spredixcan-mashr-zscores-Brain_Spinal_cord_cervical_c-1.pkl\n"
     ]
    },
    {
     "name": "stdout",
     "output_type": "stream",
     "text": [
      "  shape: (13083, 4091)\n"
     ]
    },
    {
     "name": "stdout",
     "output_type": "stream",
     "text": [
      "  shape (no NaN): (12335, 4091)\n",
      "  saving to: /home/miltondp/projects/labs/greenelab/phenoplier/base/results/drug_disease_analyses/spredixcan/raw/spredixcan-mashr-zscores-Brain_Spinal_cord_cervical_c-1-data.pkl\n"
     ]
    },
    {
     "name": "stdout",
     "output_type": "stream",
     "text": [
      "  projecting...\n"
     ]
    },
    {
     "name": "stdout",
     "output_type": "stream",
     "text": [
      "    shape: (987, 4091)\n",
      "    saving to: /home/miltondp/projects/labs/greenelab/phenoplier/base/results/drug_disease_analyses/spredixcan/proj/spredixcan-mashr-zscores-Brain_Spinal_cord_cervical_c-1-projection.pkl\n",
      "\n",
      "spredixcan-mashr-zscores-Brain_Amygdala.pkl\n"
     ]
    },
    {
     "name": "stdout",
     "output_type": "stream",
     "text": [
      "  shape: (12804, 4091)\n"
     ]
    },
    {
     "name": "stdout",
     "output_type": "stream",
     "text": [
      "  shape (no NaN): (12081, 4091)\n",
      "  saving to: /home/miltondp/projects/labs/greenelab/phenoplier/base/results/drug_disease_analyses/spredixcan/raw/spredixcan-mashr-zscores-Brain_Amygdala-data.pkl\n"
     ]
    },
    {
     "name": "stdout",
     "output_type": "stream",
     "text": [
      "  projecting...\n"
     ]
    },
    {
     "name": "stdout",
     "output_type": "stream",
     "text": [
      "    shape: (987, 4091)\n",
      "    saving to: /home/miltondp/projects/labs/greenelab/phenoplier/base/results/drug_disease_analyses/spredixcan/proj/spredixcan-mashr-zscores-Brain_Amygdala-projection.pkl\n",
      "\n",
      "spredixcan-mashr-zscores-Brain_Caudate_basal_ganglia.pkl\n"
     ]
    },
    {
     "name": "stdout",
     "output_type": "stream",
     "text": [
      "  shape: (14107, 4091)\n"
     ]
    },
    {
     "name": "stdout",
     "output_type": "stream",
     "text": [
      "  shape (no NaN): (13382, 4091)\n",
      "  saving to: /home/miltondp/projects/labs/greenelab/phenoplier/base/results/drug_disease_analyses/spredixcan/raw/spredixcan-mashr-zscores-Brain_Caudate_basal_ganglia-data.pkl\n"
     ]
    },
    {
     "name": "stdout",
     "output_type": "stream",
     "text": [
      "  projecting...\n"
     ]
    },
    {
     "name": "stdout",
     "output_type": "stream",
     "text": [
      "    shape: (987, 4091)\n",
      "    saving to: /home/miltondp/projects/labs/greenelab/phenoplier/base/results/drug_disease_analyses/spredixcan/proj/spredixcan-mashr-zscores-Brain_Caudate_basal_ganglia-projection.pkl\n",
      "\n",
      "spredixcan-mashr-zscores-Kidney_Cortex.pkl\n"
     ]
    },
    {
     "name": "stdout",
     "output_type": "stream",
     "text": [
      "  shape: (11151, 4091)\n"
     ]
    },
    {
     "name": "stdout",
     "output_type": "stream",
     "text": [
      "  shape (no NaN): (10427, 4091)\n",
      "  saving to: /home/miltondp/projects/labs/greenelab/phenoplier/base/results/drug_disease_analyses/spredixcan/raw/spredixcan-mashr-zscores-Kidney_Cortex-data.pkl\n"
     ]
    },
    {
     "name": "stdout",
     "output_type": "stream",
     "text": [
      "  projecting...\n"
     ]
    },
    {
     "name": "stdout",
     "output_type": "stream",
     "text": [
      "    shape: (987, 4091)\n",
      "    saving to: /home/miltondp/projects/labs/greenelab/phenoplier/base/results/drug_disease_analyses/spredixcan/proj/spredixcan-mashr-zscores-Kidney_Cortex-projection.pkl\n",
      "\n",
      "spredixcan-mashr-zscores-Skin_Sun_Exposed_Lower_leg.pkl\n"
     ]
    },
    {
     "name": "stdout",
     "output_type": "stream",
     "text": [
      "  shape: (15188, 4091)\n"
     ]
    },
    {
     "name": "stdout",
     "output_type": "stream",
     "text": [
      "  shape (no NaN): (14501, 4091)\n",
      "  saving to: /home/miltondp/projects/labs/greenelab/phenoplier/base/results/drug_disease_analyses/spredixcan/raw/spredixcan-mashr-zscores-Skin_Sun_Exposed_Lower_leg-data.pkl\n"
     ]
    },
    {
     "name": "stdout",
     "output_type": "stream",
     "text": [
      "  projecting...\n"
     ]
    },
    {
     "name": "stdout",
     "output_type": "stream",
     "text": [
      "    shape: (987, 4091)\n",
      "    saving to: /home/miltondp/projects/labs/greenelab/phenoplier/base/results/drug_disease_analyses/spredixcan/proj/spredixcan-mashr-zscores-Skin_Sun_Exposed_Lower_leg-projection.pkl\n",
      "\n",
      "spredixcan-mashr-zscores-Ovary.pkl\n"
     ]
    },
    {
     "name": "stdout",
     "output_type": "stream",
     "text": [
      "  shape: (13728, 4091)\n"
     ]
    },
    {
     "name": "stdout",
     "output_type": "stream",
     "text": [
      "  shape (no NaN): (12961, 4091)\n",
      "  saving to: /home/miltondp/projects/labs/greenelab/phenoplier/base/results/drug_disease_analyses/spredixcan/raw/spredixcan-mashr-zscores-Ovary-data.pkl\n"
     ]
    },
    {
     "name": "stdout",
     "output_type": "stream",
     "text": [
      "  projecting...\n"
     ]
    },
    {
     "name": "stdout",
     "output_type": "stream",
     "text": [
      "    shape: (987, 4091)\n",
      "    saving to: /home/miltondp/projects/labs/greenelab/phenoplier/base/results/drug_disease_analyses/spredixcan/proj/spredixcan-mashr-zscores-Ovary-projection.pkl\n",
      "\n",
      "spredixcan-mashr-zscores-Brain_Substantia_nigra.pkl\n"
     ]
    },
    {
     "name": "stdout",
     "output_type": "stream",
     "text": [
      "  shape: (12625, 4091)\n"
     ]
    },
    {
     "name": "stdout",
     "output_type": "stream",
     "text": [
      "  shape (no NaN): (11870, 4091)\n",
      "  saving to: /home/miltondp/projects/labs/greenelab/phenoplier/base/results/drug_disease_analyses/spredixcan/raw/spredixcan-mashr-zscores-Brain_Substantia_nigra-data.pkl\n"
     ]
    },
    {
     "name": "stdout",
     "output_type": "stream",
     "text": [
      "  projecting...\n"
     ]
    },
    {
     "name": "stdout",
     "output_type": "stream",
     "text": [
      "    shape: (987, 4091)\n",
      "    saving to: /home/miltondp/projects/labs/greenelab/phenoplier/base/results/drug_disease_analyses/spredixcan/proj/spredixcan-mashr-zscores-Brain_Substantia_nigra-projection.pkl\n",
      "\n",
      "spredixcan-mashr-zscores-Heart_Left_Ventricle.pkl\n"
     ]
    },
    {
     "name": "stdout",
     "output_type": "stream",
     "text": [
      "  shape: (13189, 4091)\n"
     ]
    },
    {
     "name": "stdout",
     "output_type": "stream",
     "text": [
      "  shape (no NaN): (12561, 4091)\n",
      "  saving to: /home/miltondp/projects/labs/greenelab/phenoplier/base/results/drug_disease_analyses/spredixcan/raw/spredixcan-mashr-zscores-Heart_Left_Ventricle-data.pkl\n"
     ]
    },
    {
     "name": "stdout",
     "output_type": "stream",
     "text": [
      "  projecting...\n"
     ]
    },
    {
     "name": "stdout",
     "output_type": "stream",
     "text": [
      "    shape: (987, 4091)\n",
      "    saving to: /home/miltondp/projects/labs/greenelab/phenoplier/base/results/drug_disease_analyses/spredixcan/proj/spredixcan-mashr-zscores-Heart_Left_Ventricle-projection.pkl\n",
      "\n",
      "spredixcan-mashr-zscores-Brain_Anterior_cingulate_cortex_BA24.pkl\n"
     ]
    },
    {
     "name": "stdout",
     "output_type": "stream",
     "text": [
      "  shape: (13516, 4091)\n"
     ]
    },
    {
     "name": "stdout",
     "output_type": "stream",
     "text": [
      "  shape (no NaN): (12766, 4091)\n",
      "  saving to: /home/miltondp/projects/labs/greenelab/phenoplier/base/results/drug_disease_analyses/spredixcan/raw/spredixcan-mashr-zscores-Brain_Anterior_cingulate_cortex_BA24-data.pkl\n"
     ]
    },
    {
     "name": "stdout",
     "output_type": "stream",
     "text": [
      "  projecting...\n"
     ]
    },
    {
     "name": "stdout",
     "output_type": "stream",
     "text": [
      "    shape: (987, 4091)\n",
      "    saving to: /home/miltondp/projects/labs/greenelab/phenoplier/base/results/drug_disease_analyses/spredixcan/proj/spredixcan-mashr-zscores-Brain_Anterior_cingulate_cortex_BA24-projection.pkl\n",
      "\n",
      "spredixcan-mashr-zscores-Minor_Salivary_Gland.pkl\n"
     ]
    },
    {
     "name": "stdout",
     "output_type": "stream",
     "text": [
      "  shape: (13874, 4091)\n"
     ]
    },
    {
     "name": "stdout",
     "output_type": "stream",
     "text": [
      "  shape (no NaN): (13107, 4091)\n",
      "  saving to: /home/miltondp/projects/labs/greenelab/phenoplier/base/results/drug_disease_analyses/spredixcan/raw/spredixcan-mashr-zscores-Minor_Salivary_Gland-data.pkl\n"
     ]
    },
    {
     "name": "stdout",
     "output_type": "stream",
     "text": [
      "  projecting...\n"
     ]
    },
    {
     "name": "stdout",
     "output_type": "stream",
     "text": [
      "    shape: (987, 4091)\n",
      "    saving to: /home/miltondp/projects/labs/greenelab/phenoplier/base/results/drug_disease_analyses/spredixcan/proj/spredixcan-mashr-zscores-Minor_Salivary_Gland-projection.pkl\n",
      "\n",
      "spredixcan-mashr-zscores-Nerve_Tibial.pkl\n"
     ]
    },
    {
     "name": "stdout",
     "output_type": "stream",
     "text": [
      "  shape: (15357, 4091)\n"
     ]
    },
    {
     "name": "stdout",
     "output_type": "stream",
     "text": [
      "  shape (no NaN): (14718, 4091)\n",
      "  saving to: /home/miltondp/projects/labs/greenelab/phenoplier/base/results/drug_disease_analyses/spredixcan/raw/spredixcan-mashr-zscores-Nerve_Tibial-data.pkl\n"
     ]
    },
    {
     "name": "stdout",
     "output_type": "stream",
     "text": [
      "  projecting...\n"
     ]
    },
    {
     "name": "stdout",
     "output_type": "stream",
     "text": [
      "    shape: (987, 4091)\n",
      "    saving to: /home/miltondp/projects/labs/greenelab/phenoplier/base/results/drug_disease_analyses/spredixcan/proj/spredixcan-mashr-zscores-Nerve_Tibial-projection.pkl\n",
      "\n",
      "spredixcan-mashr-zscores-Esophagus_Mucosa.pkl\n"
     ]
    },
    {
     "name": "stdout",
     "output_type": "stream",
     "text": [
      "  shape: (14576, 4091)\n"
     ]
    },
    {
     "name": "stdout",
     "output_type": "stream",
     "text": [
      "  shape (no NaN): (13928, 4091)\n",
      "  saving to: /home/miltondp/projects/labs/greenelab/phenoplier/base/results/drug_disease_analyses/spredixcan/raw/spredixcan-mashr-zscores-Esophagus_Mucosa-data.pkl\n"
     ]
    },
    {
     "name": "stdout",
     "output_type": "stream",
     "text": [
      "  projecting...\n"
     ]
    },
    {
     "name": "stdout",
     "output_type": "stream",
     "text": [
      "    shape: (987, 4091)\n",
      "    saving to: /home/miltondp/projects/labs/greenelab/phenoplier/base/results/drug_disease_analyses/spredixcan/proj/spredixcan-mashr-zscores-Esophagus_Mucosa-projection.pkl\n",
      "\n",
      "spredixcan-mashr-zscores-Muscle_Skeletal.pkl\n"
     ]
    },
    {
     "name": "stdout",
     "output_type": "stream",
     "text": [
      "  shape: (13370, 4091)\n"
     ]
    },
    {
     "name": "stdout",
     "output_type": "stream",
     "text": [
      "  shape (no NaN): (12823, 4091)\n",
      "  saving to: /home/miltondp/projects/labs/greenelab/phenoplier/base/results/drug_disease_analyses/spredixcan/raw/spredixcan-mashr-zscores-Muscle_Skeletal-data.pkl\n"
     ]
    },
    {
     "name": "stdout",
     "output_type": "stream",
     "text": [
      "  projecting...\n"
     ]
    },
    {
     "name": "stdout",
     "output_type": "stream",
     "text": [
      "    shape: (987, 4091)\n",
      "    saving to: /home/miltondp/projects/labs/greenelab/phenoplier/base/results/drug_disease_analyses/spredixcan/proj/spredixcan-mashr-zscores-Muscle_Skeletal-projection.pkl\n",
      "\n",
      "spredixcan-mashr-zscores-Small_Intestine_Terminal_Ileum.pkl\n"
     ]
    },
    {
     "name": "stdout",
     "output_type": "stream",
     "text": [
      "  shape: (14053, 4091)\n"
     ]
    },
    {
     "name": "stdout",
     "output_type": "stream",
     "text": [
      "  shape (no NaN): (13270, 4091)\n",
      "  saving to: /home/miltondp/projects/labs/greenelab/phenoplier/base/results/drug_disease_analyses/spredixcan/raw/spredixcan-mashr-zscores-Small_Intestine_Terminal_Ileum-data.pkl\n"
     ]
    },
    {
     "name": "stdout",
     "output_type": "stream",
     "text": [
      "  projecting...\n"
     ]
    },
    {
     "name": "stdout",
     "output_type": "stream",
     "text": [
      "    shape: (987, 4091)\n",
      "    saving to: /home/miltondp/projects/labs/greenelab/phenoplier/base/results/drug_disease_analyses/spredixcan/proj/spredixcan-mashr-zscores-Small_Intestine_Terminal_Ileum-projection.pkl\n",
      "\n",
      "spredixcan-mashr-zscores-Uterus.pkl\n"
     ]
    },
    {
     "name": "stdout",
     "output_type": "stream",
     "text": [
      "  shape: (13188, 4091)\n"
     ]
    },
    {
     "name": "stdout",
     "output_type": "stream",
     "text": [
      "  shape (no NaN): (12433, 4091)\n",
      "  saving to: /home/miltondp/projects/labs/greenelab/phenoplier/base/results/drug_disease_analyses/spredixcan/raw/spredixcan-mashr-zscores-Uterus-data.pkl\n"
     ]
    },
    {
     "name": "stdout",
     "output_type": "stream",
     "text": [
      "  projecting...\n"
     ]
    },
    {
     "name": "stdout",
     "output_type": "stream",
     "text": [
      "    shape: (987, 4091)\n",
      "    saving to: /home/miltondp/projects/labs/greenelab/phenoplier/base/results/drug_disease_analyses/spredixcan/proj/spredixcan-mashr-zscores-Uterus-projection.pkl\n",
      "\n",
      "spredixcan-mashr-zscores-Skin_Not_Sun_Exposed_Suprapubic.pkl\n"
     ]
    },
    {
     "name": "stdout",
     "output_type": "stream",
     "text": [
      "  shape: (14920, 4091)\n"
     ]
    },
    {
     "name": "stdout",
     "output_type": "stream",
     "text": [
      "  shape (no NaN): (14282, 4091)\n",
      "  saving to: /home/miltondp/projects/labs/greenelab/phenoplier/base/results/drug_disease_analyses/spredixcan/raw/spredixcan-mashr-zscores-Skin_Not_Sun_Exposed_Suprapubic-data.pkl\n"
     ]
    },
    {
     "name": "stdout",
     "output_type": "stream",
     "text": [
      "  projecting...\n"
     ]
    },
    {
     "name": "stdout",
     "output_type": "stream",
     "text": [
      "    shape: (987, 4091)\n",
      "    saving to: /home/miltondp/projects/labs/greenelab/phenoplier/base/results/drug_disease_analyses/spredixcan/proj/spredixcan-mashr-zscores-Skin_Not_Sun_Exposed_Suprapubic-projection.pkl\n",
      "\n",
      "spredixcan-mashr-zscores-Brain_Hypothalamus.pkl\n"
     ]
    },
    {
     "name": "stdout",
     "output_type": "stream",
     "text": [
      "  shape: (13728, 4091)\n"
     ]
    },
    {
     "name": "stdout",
     "output_type": "stream",
     "text": [
      "  shape (no NaN): (12966, 4091)\n",
      "  saving to: /home/miltondp/projects/labs/greenelab/phenoplier/base/results/drug_disease_analyses/spredixcan/raw/spredixcan-mashr-zscores-Brain_Hypothalamus-data.pkl\n"
     ]
    },
    {
     "name": "stdout",
     "output_type": "stream",
     "text": [
      "  projecting...\n"
     ]
    },
    {
     "name": "stdout",
     "output_type": "stream",
     "text": [
      "    shape: (987, 4091)\n",
      "    saving to: /home/miltondp/projects/labs/greenelab/phenoplier/base/results/drug_disease_analyses/spredixcan/proj/spredixcan-mashr-zscores-Brain_Hypothalamus-projection.pkl\n",
      "\n",
      "spredixcan-mashr-zscores-Artery_Aorta.pkl\n"
     ]
    },
    {
     "name": "stdout",
     "output_type": "stream",
     "text": [
      "  shape: (14380, 4091)\n"
     ]
    },
    {
     "name": "stdout",
     "output_type": "stream",
     "text": [
      "  shape (no NaN): (13736, 4091)\n",
      "  saving to: /home/miltondp/projects/labs/greenelab/phenoplier/base/results/drug_disease_analyses/spredixcan/raw/spredixcan-mashr-zscores-Artery_Aorta-data.pkl\n"
     ]
    },
    {
     "name": "stdout",
     "output_type": "stream",
     "text": [
      "  projecting...\n"
     ]
    },
    {
     "name": "stdout",
     "output_type": "stream",
     "text": [
      "    shape: (987, 4091)\n",
      "    saving to: /home/miltondp/projects/labs/greenelab/phenoplier/base/results/drug_disease_analyses/spredixcan/proj/spredixcan-mashr-zscores-Artery_Aorta-projection.pkl\n",
      "\n",
      "spredixcan-mashr-zscores-Esophagus_Muscularis.pkl\n"
     ]
    },
    {
     "name": "stdout",
     "output_type": "stream",
     "text": [
      "  shape: (14590, 4091)\n"
     ]
    },
    {
     "name": "stdout",
     "output_type": "stream",
     "text": [
      "  shape (no NaN): (13943, 4091)\n",
      "  saving to: /home/miltondp/projects/labs/greenelab/phenoplier/base/results/drug_disease_analyses/spredixcan/raw/spredixcan-mashr-zscores-Esophagus_Muscularis-data.pkl\n"
     ]
    },
    {
     "name": "stdout",
     "output_type": "stream",
     "text": [
      "  projecting...\n"
     ]
    },
    {
     "name": "stdout",
     "output_type": "stream",
     "text": [
      "    shape: (987, 4091)\n",
      "    saving to: /home/miltondp/projects/labs/greenelab/phenoplier/base/results/drug_disease_analyses/spredixcan/proj/spredixcan-mashr-zscores-Esophagus_Muscularis-projection.pkl\n",
      "\n",
      "spredixcan-mashr-zscores-Thyroid.pkl\n"
     ]
    },
    {
     "name": "stdout",
     "output_type": "stream",
     "text": [
      "  shape: (15289, 4091)\n"
     ]
    },
    {
     "name": "stdout",
     "output_type": "stream",
     "text": [
      "  shape (no NaN): (14667, 4091)\n",
      "  saving to: /home/miltondp/projects/labs/greenelab/phenoplier/base/results/drug_disease_analyses/spredixcan/raw/spredixcan-mashr-zscores-Thyroid-data.pkl\n"
     ]
    },
    {
     "name": "stdout",
     "output_type": "stream",
     "text": [
      "  projecting...\n"
     ]
    },
    {
     "name": "stdout",
     "output_type": "stream",
     "text": [
      "    shape: (987, 4091)\n",
      "    saving to: /home/miltondp/projects/labs/greenelab/phenoplier/base/results/drug_disease_analyses/spredixcan/proj/spredixcan-mashr-zscores-Thyroid-projection.pkl\n",
      "\n",
      "spredixcan-mashr-zscores-Cells_EBV-transformed_lymphocytes.pkl\n"
     ]
    },
    {
     "name": "stdout",
     "output_type": "stream",
     "text": [
      "  shape: (12386, 4091)\n"
     ]
    },
    {
     "name": "stdout",
     "output_type": "stream",
     "text": [
      "  shape (no NaN): (11691, 4091)\n",
      "  saving to: /home/miltondp/projects/labs/greenelab/phenoplier/base/results/drug_disease_analyses/spredixcan/raw/spredixcan-mashr-zscores-Cells_EBV-transformed_lymphocytes-data.pkl\n"
     ]
    },
    {
     "name": "stdout",
     "output_type": "stream",
     "text": [
      "  projecting...\n"
     ]
    },
    {
     "name": "stdout",
     "output_type": "stream",
     "text": [
      "    shape: (987, 4091)\n",
      "    saving to: /home/miltondp/projects/labs/greenelab/phenoplier/base/results/drug_disease_analyses/spredixcan/proj/spredixcan-mashr-zscores-Cells_EBV-transformed_lymphocytes-projection.pkl\n",
      "\n",
      "spredixcan-mashr-zscores-Artery_Tibial.pkl\n"
     ]
    },
    {
     "name": "stdout",
     "output_type": "stream",
     "text": [
      "  shape: (14479, 4091)\n"
     ]
    },
    {
     "name": "stdout",
     "output_type": "stream",
     "text": [
      "  shape (no NaN): (13869, 4091)\n",
      "  saving to: /home/miltondp/projects/labs/greenelab/phenoplier/base/results/drug_disease_analyses/spredixcan/raw/spredixcan-mashr-zscores-Artery_Tibial-data.pkl\n"
     ]
    },
    {
     "name": "stdout",
     "output_type": "stream",
     "text": [
      "  projecting...\n"
     ]
    },
    {
     "name": "stdout",
     "output_type": "stream",
     "text": [
      "    shape: (987, 4091)\n",
      "    saving to: /home/miltondp/projects/labs/greenelab/phenoplier/base/results/drug_disease_analyses/spredixcan/proj/spredixcan-mashr-zscores-Artery_Tibial-projection.pkl\n",
      "\n",
      "spredixcan-mashr-zscores-Adrenal_Gland.pkl\n"
     ]
    },
    {
     "name": "stdout",
     "output_type": "stream",
     "text": [
      "  shape: (13607, 4091)\n"
     ]
    },
    {
     "name": "stdout",
     "output_type": "stream",
     "text": [
      "  shape (no NaN): (12898, 4091)\n",
      "  saving to: /home/miltondp/projects/labs/greenelab/phenoplier/base/results/drug_disease_analyses/spredixcan/raw/spredixcan-mashr-zscores-Adrenal_Gland-data.pkl\n"
     ]
    },
    {
     "name": "stdout",
     "output_type": "stream",
     "text": [
      "  projecting...\n"
     ]
    },
    {
     "name": "stdout",
     "output_type": "stream",
     "text": [
      "    shape: (987, 4091)\n",
      "    saving to: /home/miltondp/projects/labs/greenelab/phenoplier/base/results/drug_disease_analyses/spredixcan/proj/spredixcan-mashr-zscores-Adrenal_Gland-projection.pkl\n",
      "\n",
      "spredixcan-mashr-zscores-Brain_Hippocampus.pkl\n"
     ]
    },
    {
     "name": "stdout",
     "output_type": "stream",
     "text": [
      "  shape: (13513, 4091)\n"
     ]
    },
    {
     "name": "stdout",
     "output_type": "stream",
     "text": [
      "  shape (no NaN): (12796, 4091)\n",
      "  saving to: /home/miltondp/projects/labs/greenelab/phenoplier/base/results/drug_disease_analyses/spredixcan/raw/spredixcan-mashr-zscores-Brain_Hippocampus-data.pkl\n"
     ]
    },
    {
     "name": "stdout",
     "output_type": "stream",
     "text": [
      "  projecting...\n"
     ]
    },
    {
     "name": "stdout",
     "output_type": "stream",
     "text": [
      "    shape: (987, 4091)\n",
      "    saving to: /home/miltondp/projects/labs/greenelab/phenoplier/base/results/drug_disease_analyses/spredixcan/proj/spredixcan-mashr-zscores-Brain_Hippocampus-projection.pkl\n",
      "\n",
      "spredixcan-mashr-zscores-Liver.pkl\n"
     ]
    },
    {
     "name": "stdout",
     "output_type": "stream",
     "text": [
      "  shape: (12703, 4091)\n"
     ]
    },
    {
     "name": "stdout",
     "output_type": "stream",
     "text": [
      "  shape (no NaN): (12026, 4091)\n",
      "  saving to: /home/miltondp/projects/labs/greenelab/phenoplier/base/results/drug_disease_analyses/spredixcan/raw/spredixcan-mashr-zscores-Liver-data.pkl\n"
     ]
    },
    {
     "name": "stdout",
     "output_type": "stream",
     "text": [
      "  projecting...\n"
     ]
    },
    {
     "name": "stdout",
     "output_type": "stream",
     "text": [
      "    shape: (987, 4091)\n",
      "    saving to: /home/miltondp/projects/labs/greenelab/phenoplier/base/results/drug_disease_analyses/spredixcan/proj/spredixcan-mashr-zscores-Liver-projection.pkl\n",
      "\n",
      "spredixcan-mashr-zscores-Artery_Coronary.pkl\n"
     ]
    },
    {
     "name": "stdout",
     "output_type": "stream",
     "text": [
      "  shape: (13864, 4091)\n"
     ]
    },
    {
     "name": "stdout",
     "output_type": "stream",
     "text": [
      "  shape (no NaN): (13134, 4091)\n",
      "  saving to: /home/miltondp/projects/labs/greenelab/phenoplier/base/results/drug_disease_analyses/spredixcan/raw/spredixcan-mashr-zscores-Artery_Coronary-data.pkl\n"
     ]
    },
    {
     "name": "stdout",
     "output_type": "stream",
     "text": [
      "  projecting...\n"
     ]
    },
    {
     "name": "stdout",
     "output_type": "stream",
     "text": [
      "    shape: (987, 4091)\n",
      "    saving to: /home/miltondp/projects/labs/greenelab/phenoplier/base/results/drug_disease_analyses/spredixcan/proj/spredixcan-mashr-zscores-Artery_Coronary-projection.pkl\n",
      "\n",
      "spredixcan-mashr-zscores-Pancreas.pkl\n"
     ]
    },
    {
     "name": "stdout",
     "output_type": "stream",
     "text": [
      "  shape: (13684, 4091)\n"
     ]
    },
    {
     "name": "stdout",
     "output_type": "stream",
     "text": [
      "  shape (no NaN): (12968, 4091)\n",
      "  saving to: /home/miltondp/projects/labs/greenelab/phenoplier/base/results/drug_disease_analyses/spredixcan/raw/spredixcan-mashr-zscores-Pancreas-data.pkl\n"
     ]
    },
    {
     "name": "stdout",
     "output_type": "stream",
     "text": [
      "  projecting...\n"
     ]
    },
    {
     "name": "stdout",
     "output_type": "stream",
     "text": [
      "    shape: (987, 4091)\n",
      "    saving to: /home/miltondp/projects/labs/greenelab/phenoplier/base/results/drug_disease_analyses/spredixcan/proj/spredixcan-mashr-zscores-Pancreas-projection.pkl\n",
      "\n",
      "spredixcan-mashr-zscores-Heart_Atrial_Appendage.pkl\n"
     ]
    },
    {
     "name": "stdout",
     "output_type": "stream",
     "text": [
      "  shape: (14022, 4091)\n"
     ]
    },
    {
     "name": "stdout",
     "output_type": "stream",
     "text": [
      "  shape (no NaN): (13330, 4091)\n",
      "  saving to: /home/miltondp/projects/labs/greenelab/phenoplier/base/results/drug_disease_analyses/spredixcan/raw/spredixcan-mashr-zscores-Heart_Atrial_Appendage-data.pkl\n"
     ]
    },
    {
     "name": "stdout",
     "output_type": "stream",
     "text": [
      "  projecting...\n"
     ]
    },
    {
     "name": "stdout",
     "output_type": "stream",
     "text": [
      "    shape: (987, 4091)\n",
      "    saving to: /home/miltondp/projects/labs/greenelab/phenoplier/base/results/drug_disease_analyses/spredixcan/proj/spredixcan-mashr-zscores-Heart_Atrial_Appendage-projection.pkl\n",
      "\n",
      "spredixcan-mashr-zscores-Cells_Cultured_fibroblasts.pkl\n"
     ]
    },
    {
     "name": "stdout",
     "output_type": "stream",
     "text": [
      "  shape: (13964, 4091)\n"
     ]
    },
    {
     "name": "stdout",
     "output_type": "stream",
     "text": [
      "  shape (no NaN): (13395, 4091)\n",
      "  saving to: /home/miltondp/projects/labs/greenelab/phenoplier/base/results/drug_disease_analyses/spredixcan/raw/spredixcan-mashr-zscores-Cells_Cultured_fibroblasts-data.pkl\n"
     ]
    },
    {
     "name": "stdout",
     "output_type": "stream",
     "text": [
      "  projecting...\n"
     ]
    },
    {
     "name": "stdout",
     "output_type": "stream",
     "text": [
      "    shape: (987, 4091)\n",
      "    saving to: /home/miltondp/projects/labs/greenelab/phenoplier/base/results/drug_disease_analyses/spredixcan/proj/spredixcan-mashr-zscores-Cells_Cultured_fibroblasts-projection.pkl\n",
      "\n",
      "spredixcan-mashr-zscores-Brain_Frontal_Cortex_BA9.pkl\n"
     ]
    },
    {
     "name": "stdout",
     "output_type": "stream",
     "text": [
      "  shape: (14079, 4091)\n"
     ]
    },
    {
     "name": "stdout",
     "output_type": "stream",
     "text": [
      "  shape (no NaN): (13338, 4091)\n",
      "  saving to: /home/miltondp/projects/labs/greenelab/phenoplier/base/results/drug_disease_analyses/spredixcan/raw/spredixcan-mashr-zscores-Brain_Frontal_Cortex_BA9-data.pkl\n"
     ]
    },
    {
     "name": "stdout",
     "output_type": "stream",
     "text": [
      "  projecting...\n"
     ]
    },
    {
     "name": "stdout",
     "output_type": "stream",
     "text": [
      "    shape: (987, 4091)\n",
      "    saving to: /home/miltondp/projects/labs/greenelab/phenoplier/base/results/drug_disease_analyses/spredixcan/proj/spredixcan-mashr-zscores-Brain_Frontal_Cortex_BA9-projection.pkl\n",
      "\n",
      "spredixcan-mashr-zscores-Whole_Blood.pkl\n"
     ]
    },
    {
     "name": "stdout",
     "output_type": "stream",
     "text": [
      "  shape: (12610, 4091)\n"
     ]
    },
    {
     "name": "stdout",
     "output_type": "stream",
     "text": [
      "  shape (no NaN): (12067, 4091)\n",
      "  saving to: /home/miltondp/projects/labs/greenelab/phenoplier/base/results/drug_disease_analyses/spredixcan/raw/spredixcan-mashr-zscores-Whole_Blood-data.pkl\n"
     ]
    },
    {
     "name": "stdout",
     "output_type": "stream",
     "text": [
      "  projecting...\n"
     ]
    },
    {
     "name": "stdout",
     "output_type": "stream",
     "text": [
      "    shape: (987, 4091)\n",
      "    saving to: /home/miltondp/projects/labs/greenelab/phenoplier/base/results/drug_disease_analyses/spredixcan/proj/spredixcan-mashr-zscores-Whole_Blood-projection.pkl\n",
      "\n",
      "spredixcan-mashr-zscores-Stomach.pkl\n"
     ]
    },
    {
     "name": "stdout",
     "output_type": "stream",
     "text": [
      "  shape: (14089, 4091)\n"
     ]
    },
    {
     "name": "stdout",
     "output_type": "stream",
     "text": [
      "  shape (no NaN): (13342, 4091)\n",
      "  saving to: /home/miltondp/projects/labs/greenelab/phenoplier/base/results/drug_disease_analyses/spredixcan/raw/spredixcan-mashr-zscores-Stomach-data.pkl\n"
     ]
    },
    {
     "name": "stdout",
     "output_type": "stream",
     "text": [
      "  projecting...\n"
     ]
    },
    {
     "name": "stdout",
     "output_type": "stream",
     "text": [
      "    shape: (987, 4091)\n",
      "    saving to: /home/miltondp/projects/labs/greenelab/phenoplier/base/results/drug_disease_analyses/spredixcan/proj/spredixcan-mashr-zscores-Stomach-projection.pkl\n",
      "\n",
      "spredixcan-mashr-zscores-Breast_Mammary_Tissue.pkl\n"
     ]
    },
    {
     "name": "stdout",
     "output_type": "stream",
     "text": [
      "  shape: (14640, 4091)\n"
     ]
    },
    {
     "name": "stdout",
     "output_type": "stream",
     "text": [
      "  shape (no NaN): (13883, 4091)\n",
      "  saving to: /home/miltondp/projects/labs/greenelab/phenoplier/base/results/drug_disease_analyses/spredixcan/raw/spredixcan-mashr-zscores-Breast_Mammary_Tissue-data.pkl\n"
     ]
    },
    {
     "name": "stdout",
     "output_type": "stream",
     "text": [
      "  projecting...\n"
     ]
    },
    {
     "name": "stdout",
     "output_type": "stream",
     "text": [
      "    shape: (987, 4091)\n",
      "    saving to: /home/miltondp/projects/labs/greenelab/phenoplier/base/results/drug_disease_analyses/spredixcan/proj/spredixcan-mashr-zscores-Breast_Mammary_Tissue-projection.pkl\n",
      "\n"
     ]
    }
   ],
   "source": [
    "for input_file in input_file_list:\n",
    "    print(input_file.name)\n",
    "\n",
    "    # read data\n",
    "    phenomexcan_data = pd.read_pickle(input_file)\n",
    "    print(f\"  shape: {phenomexcan_data.shape}\")\n",
    "\n",
    "    assert phenomexcan_data.index.is_unique\n",
    "    assert phenomexcan_data.columns.is_unique\n",
    "\n",
    "    phenomexcan_data = phenomexcan_data.dropna(how=\"any\")\n",
    "    print(f\"  shape (no NaN): {phenomexcan_data.shape}\")\n",
    "    assert not phenomexcan_data.isna().any().any()\n",
    "\n",
    "    output_file = Path(OUTPUT_RAW_DATA_DIR, f\"{input_file.stem}-data.pkl\").resolve()\n",
    "    print(f\"  saving to: {str(output_file)}\")\n",
    "    phenomexcan_data.to_pickle(output_file)\n",
    "\n",
    "    # project\n",
    "    print(\"  projecting...\")\n",
    "    mproj = MultiplierProjection()\n",
    "    phenomexcan_projection = mproj.transform(phenomexcan_data)\n",
    "    print(f\"    shape: {phenomexcan_projection.shape}\")\n",
    "\n",
    "    output_file = Path(\n",
    "        OUTPUT_PROJ_DATA_DIR, f\"{input_file.stem}-projection.pkl\"\n",
    "    ).resolve()\n",
    "    print(f\"    saving to: {str(output_file)}\")\n",
    "    phenomexcan_projection.to_pickle(output_file)\n",
    "\n",
    "    print(\"\")"
   ]
  },
  {
   "cell_type": "code",
   "execution_count": null,
   "metadata": {
    "papermill": {
     "duration": 0.079955,
     "end_time": "2021-04-22T13:41:58.026973",
     "exception": false,
     "start_time": "2021-04-22T13:41:57.947018",
     "status": "completed"
    },
    "tags": []
   },
   "outputs": [],
   "source": []
  }
 ],
 "metadata": {
  "jupytext": {
   "cell_metadata_filter": "all,-execution,-papermill,-trusted",
   "formats": "ipynb,py//py:percent"
  },
  "kernelspec": {
   "display_name": "Python 3",
   "language": "python",
   "name": "python3"
  },
  "language_info": {
   "codemirror_mode": {
    "name": "ipython",
    "version": 3
   },
   "file_extension": ".py",
   "mimetype": "text/x-python",
   "name": "python",
   "nbconvert_exporter": "python",
   "pygments_lexer": "ipython3",
   "version": "3.8.8"
  },
  "papermill": {
   "default_parameters": {},
   "duration": 308.787019,
   "end_time": "2021-04-22T13:41:58.470705",
   "environment_variables": {},
   "exception": null,
   "input_path": "15_drug_disease_associations/001-spredixcan-projections.ipynb",
   "output_path": "15_drug_disease_associations/001-spredixcan-projections.run.ipynb",
   "parameters": {},
   "start_time": "2021-04-22T13:36:49.683686",
   "version": "2.2.2"
  }
 },
 "nbformat": 4,
 "nbformat_minor": 4
}
