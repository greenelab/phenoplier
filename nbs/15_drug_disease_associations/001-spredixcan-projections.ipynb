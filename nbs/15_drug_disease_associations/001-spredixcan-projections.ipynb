{
 "cells": [
  {
   "cell_type": "markdown",
   "metadata": {
    "papermill": {
     "duration": 0.025145,
     "end_time": "2020-12-23T17:59:44.890969",
     "exception": false,
     "start_time": "2020-12-23T17:59:44.865824",
     "status": "completed"
    },
    "tags": []
   },
   "source": [
    "# Description"
   ]
  },
  {
   "cell_type": "markdown",
   "metadata": {
    "papermill": {
     "duration": 0.005927,
     "end_time": "2020-12-23T17:59:44.903360",
     "exception": false,
     "start_time": "2020-12-23T17:59:44.897433",
     "status": "completed"
    },
    "tags": []
   },
   "source": [
    "**TODO**: should probably be moved to preprocessing folder."
   ]
  },
  {
   "cell_type": "markdown",
   "metadata": {
    "papermill": {
     "duration": 0.005535,
     "end_time": "2020-12-23T17:59:44.914868",
     "exception": false,
     "start_time": "2020-12-23T17:59:44.909333",
     "status": "completed"
    },
    "tags": []
   },
   "source": [
    "# Modules loading"
   ]
  },
  {
   "cell_type": "code",
   "execution_count": 1,
   "metadata": {
    "papermill": {
     "duration": 0.016928,
     "end_time": "2020-12-23T17:59:44.937412",
     "exception": false,
     "start_time": "2020-12-23T17:59:44.920484",
     "status": "completed"
    },
    "tags": []
   },
   "outputs": [],
   "source": [
    "%load_ext autoreload\n",
    "%autoreload 2"
   ]
  },
  {
   "cell_type": "code",
   "execution_count": 2,
   "metadata": {
    "papermill": {
     "duration": 0.221381,
     "end_time": "2020-12-23T17:59:45.164612",
     "exception": false,
     "start_time": "2020-12-23T17:59:44.943231",
     "status": "completed"
    },
    "tags": []
   },
   "outputs": [],
   "source": [
    "from IPython.display import display\n",
    "from pathlib import Path\n",
    "\n",
    "import pandas as pd\n",
    "\n",
    "import conf\n",
    "from multiplier import MultiplierProjection"
   ]
  },
  {
   "cell_type": "markdown",
   "metadata": {
    "papermill": {
     "duration": 0.005632,
     "end_time": "2020-12-23T17:59:45.176196",
     "exception": false,
     "start_time": "2020-12-23T17:59:45.170564",
     "status": "completed"
    },
    "tags": []
   },
   "source": [
    "# Settings"
   ]
  },
  {
   "cell_type": "code",
   "execution_count": 3,
   "metadata": {
    "papermill": {
     "duration": 0.020531,
     "end_time": "2020-12-23T17:59:45.202520",
     "exception": false,
     "start_time": "2020-12-23T17:59:45.181989",
     "status": "completed"
    },
    "tags": []
   },
   "outputs": [
    {
     "data": {
      "text/plain": [
       "PosixPath('/media/miltondp/Elements1/projects/phenoplier/results/drug_disease_analyses')"
      ]
     },
     "metadata": {},
     "output_type": "display_data"
    }
   ],
   "source": [
    "OUTPUT_DIR = conf.RESULTS[\"DRUG_DISEASE_ANALYSES\"]\n",
    "display(OUTPUT_DIR)\n",
    "OUTPUT_DIR.mkdir(parents=True, exist_ok=True)"
   ]
  },
  {
   "cell_type": "code",
   "execution_count": 4,
   "metadata": {
    "papermill": {
     "duration": 0.016809,
     "end_time": "2020-12-23T17:59:45.225470",
     "exception": false,
     "start_time": "2020-12-23T17:59:45.208661",
     "status": "completed"
    },
    "tags": []
   },
   "outputs": [
    {
     "data": {
      "text/plain": [
       "PosixPath('/media/miltondp/Elements1/projects/phenoplier/results/drug_disease_analyses/data')"
      ]
     },
     "metadata": {},
     "output_type": "display_data"
    }
   ],
   "source": [
    "OUTPUT_DATA_DIR = Path(OUTPUT_DIR, \"data\")\n",
    "display(OUTPUT_DATA_DIR)\n",
    "OUTPUT_DATA_DIR.mkdir(parents=True, exist_ok=True)"
   ]
  },
  {
   "cell_type": "code",
   "execution_count": 5,
   "metadata": {
    "papermill": {
     "duration": 0.017168,
     "end_time": "2020-12-23T17:59:45.249232",
     "exception": false,
     "start_time": "2020-12-23T17:59:45.232064",
     "status": "completed"
    },
    "tags": []
   },
   "outputs": [
    {
     "data": {
      "text/plain": [
       "PosixPath('/media/miltondp/Elements1/projects/phenoplier/results/drug_disease_analyses/data/raw')"
      ]
     },
     "metadata": {},
     "output_type": "display_data"
    }
   ],
   "source": [
    "OUTPUT_RAW_DATA_DIR = Path(OUTPUT_DATA_DIR, \"raw\")\n",
    "display(OUTPUT_RAW_DATA_DIR)\n",
    "OUTPUT_RAW_DATA_DIR.mkdir(parents=True, exist_ok=True)"
   ]
  },
  {
   "cell_type": "code",
   "execution_count": 6,
   "metadata": {
    "papermill": {
     "duration": 0.017076,
     "end_time": "2020-12-23T17:59:45.273070",
     "exception": false,
     "start_time": "2020-12-23T17:59:45.255994",
     "status": "completed"
    },
    "tags": []
   },
   "outputs": [
    {
     "data": {
      "text/plain": [
       "PosixPath('/media/miltondp/Elements1/projects/phenoplier/results/drug_disease_analyses/data/proj')"
      ]
     },
     "metadata": {},
     "output_type": "display_data"
    }
   ],
   "source": [
    "OUTPUT_PROJ_DATA_DIR = Path(OUTPUT_DATA_DIR, \"proj\")\n",
    "display(OUTPUT_PROJ_DATA_DIR)\n",
    "OUTPUT_PROJ_DATA_DIR.mkdir(parents=True, exist_ok=True)"
   ]
  },
  {
   "cell_type": "markdown",
   "metadata": {
    "papermill": {
     "duration": 0.006797,
     "end_time": "2020-12-23T17:59:45.286928",
     "exception": false,
     "start_time": "2020-12-23T17:59:45.280131",
     "status": "completed"
    },
    "tags": []
   },
   "source": [
    "# Load PhenomeXcan results"
   ]
  },
  {
   "cell_type": "code",
   "execution_count": 7,
   "metadata": {
    "papermill": {
     "duration": 0.016576,
     "end_time": "2020-12-23T17:59:45.310298",
     "exception": false,
     "start_time": "2020-12-23T17:59:45.293722",
     "status": "completed"
    },
    "tags": []
   },
   "outputs": [],
   "source": [
    "input_file_list = [\n",
    "    conf.PHENOMEXCAN[\"SMULTIXCAN_MASHR_ZSCORES_FILE\"],\n",
    "    Path(\n",
    "        conf.PHENOMEXCAN[\"SPREDIXCAN_MASHR_ZSCORES_FOLDER\"],\n",
    "        \"most_signif\",\n",
    "        \"spredixcan-most_signif.pkl\",\n",
    "    ),\n",
    "]"
   ]
  },
  {
   "cell_type": "code",
   "execution_count": 8,
   "metadata": {
    "papermill": {
     "duration": 0.017001,
     "end_time": "2020-12-23T17:59:45.334111",
     "exception": false,
     "start_time": "2020-12-23T17:59:45.317110",
     "status": "completed"
    },
    "tags": []
   },
   "outputs": [],
   "source": [
    "# add S-PrediXcan results for each tissue\n",
    "input_file_list = input_file_list + [\n",
    "    f\n",
    "    for f in Path(conf.PHENOMEXCAN[\"SPREDIXCAN_MASHR_ZSCORES_FOLDER\"], \"pkl\").glob(\n",
    "        \"*.pkl\"\n",
    "    )\n",
    "]"
   ]
  },
  {
   "cell_type": "code",
   "execution_count": 9,
   "metadata": {
    "papermill": {
     "duration": 0.016575,
     "end_time": "2020-12-23T17:59:45.357589",
     "exception": false,
     "start_time": "2020-12-23T17:59:45.341014",
     "status": "completed"
    },
    "tags": []
   },
   "outputs": [
    {
     "data": {
      "text/plain": [
       "51"
      ]
     },
     "metadata": {},
     "output_type": "display_data"
    }
   ],
   "source": [
    "_tmp = len(input_file_list)\n",
    "display(_tmp)\n",
    "assert _tmp == 51"
   ]
  },
  {
   "cell_type": "code",
   "execution_count": 10,
   "metadata": {
    "papermill": {
     "duration": 176.85296,
     "end_time": "2020-12-23T18:02:42.217692",
     "exception": false,
     "start_time": "2020-12-23T17:59:45.364732",
     "status": "completed"
    },
    "tags": []
   },
   "outputs": [
    {
     "name": "stdout",
     "output_type": "stream",
     "text": [
      "smultixcan-mashr-zscores.pkl\n",
      "  shape: (22515, 4091)\n",
      "  shape (no NaN): (22152, 4091)\n",
      "  saving to: /media/miltondp/Elements1/projects/phenoplier/results/drug_disease_analyses/data/raw/smultixcan-mashr-zscores-data.pkl\n",
      "  projecting...\n",
      "    shape: (987, 4091)\n",
      "    saving to: /media/miltondp/Elements1/projects/phenoplier/results/drug_disease_analyses/data/proj/smultixcan-mashr-zscores-projection.pkl\n",
      "\n",
      "spredixcan-most_signif.pkl\n",
      "  shape: (22515, 4091)\n",
      "  shape (no NaN): (22152, 4091)\n",
      "  saving to: /media/miltondp/Elements1/projects/phenoplier/results/drug_disease_analyses/data/raw/spredixcan-most_signif-data.pkl\n",
      "  projecting...\n",
      "    shape: (987, 4091)\n",
      "    saving to: /media/miltondp/Elements1/projects/phenoplier/results/drug_disease_analyses/data/proj/spredixcan-most_signif-projection.pkl\n",
      "\n",
      "spredixcan-mashr-zscores-Adipose_Subcutaneous.pkl\n",
      "  shape: (14720, 4091)\n",
      "  shape (no NaN): (14063, 4091)\n",
      "  saving to: /media/miltondp/Elements1/projects/phenoplier/results/drug_disease_analyses/data/raw/spredixcan-mashr-zscores-Adipose_Subcutaneous-data.pkl\n",
      "  projecting...\n",
      "    shape: (987, 4091)\n",
      "    saving to: /media/miltondp/Elements1/projects/phenoplier/results/drug_disease_analyses/data/proj/spredixcan-mashr-zscores-Adipose_Subcutaneous-projection.pkl\n",
      "\n",
      "spredixcan-mashr-zscores-Adipose_Visceral_Omentum.pkl\n",
      "  shape: (14627, 4091)\n",
      "  shape (no NaN): (13942, 4091)\n",
      "  saving to: /media/miltondp/Elements1/projects/phenoplier/results/drug_disease_analyses/data/raw/spredixcan-mashr-zscores-Adipose_Visceral_Omentum-data.pkl\n",
      "  projecting...\n",
      "    shape: (987, 4091)\n",
      "    saving to: /media/miltondp/Elements1/projects/phenoplier/results/drug_disease_analyses/data/proj/spredixcan-mashr-zscores-Adipose_Visceral_Omentum-projection.pkl\n",
      "\n",
      "spredixcan-mashr-zscores-Adrenal_Gland.pkl\n",
      "  shape: (13607, 4091)\n",
      "  shape (no NaN): (12898, 4091)\n",
      "  saving to: /media/miltondp/Elements1/projects/phenoplier/results/drug_disease_analyses/data/raw/spredixcan-mashr-zscores-Adrenal_Gland-data.pkl\n",
      "  projecting...\n",
      "    shape: (987, 4091)\n",
      "    saving to: /media/miltondp/Elements1/projects/phenoplier/results/drug_disease_analyses/data/proj/spredixcan-mashr-zscores-Adrenal_Gland-projection.pkl\n",
      "\n",
      "spredixcan-mashr-zscores-Artery_Aorta.pkl\n",
      "  shape: (14380, 4091)\n",
      "  shape (no NaN): (13736, 4091)\n",
      "  saving to: /media/miltondp/Elements1/projects/phenoplier/results/drug_disease_analyses/data/raw/spredixcan-mashr-zscores-Artery_Aorta-data.pkl\n",
      "  projecting...\n",
      "    shape: (987, 4091)\n",
      "    saving to: /media/miltondp/Elements1/projects/phenoplier/results/drug_disease_analyses/data/proj/spredixcan-mashr-zscores-Artery_Aorta-projection.pkl\n",
      "\n",
      "spredixcan-mashr-zscores-Artery_Coronary.pkl\n",
      "  shape: (13864, 4091)\n",
      "  shape (no NaN): (13134, 4091)\n",
      "  saving to: /media/miltondp/Elements1/projects/phenoplier/results/drug_disease_analyses/data/raw/spredixcan-mashr-zscores-Artery_Coronary-data.pkl\n",
      "  projecting...\n",
      "    shape: (987, 4091)\n",
      "    saving to: /media/miltondp/Elements1/projects/phenoplier/results/drug_disease_analyses/data/proj/spredixcan-mashr-zscores-Artery_Coronary-projection.pkl\n",
      "\n",
      "spredixcan-mashr-zscores-Artery_Tibial.pkl\n",
      "  shape: (14479, 4091)\n",
      "  shape (no NaN): (13869, 4091)\n",
      "  saving to: /media/miltondp/Elements1/projects/phenoplier/results/drug_disease_analyses/data/raw/spredixcan-mashr-zscores-Artery_Tibial-data.pkl\n",
      "  projecting...\n",
      "    shape: (987, 4091)\n",
      "    saving to: /media/miltondp/Elements1/projects/phenoplier/results/drug_disease_analyses/data/proj/spredixcan-mashr-zscores-Artery_Tibial-projection.pkl\n",
      "\n",
      "spredixcan-mashr-zscores-Brain_Amygdala.pkl\n",
      "  shape: (12804, 4091)\n",
      "  shape (no NaN): (12081, 4091)\n",
      "  saving to: /media/miltondp/Elements1/projects/phenoplier/results/drug_disease_analyses/data/raw/spredixcan-mashr-zscores-Brain_Amygdala-data.pkl\n",
      "  projecting...\n",
      "    shape: (987, 4091)\n",
      "    saving to: /media/miltondp/Elements1/projects/phenoplier/results/drug_disease_analyses/data/proj/spredixcan-mashr-zscores-Brain_Amygdala-projection.pkl\n",
      "\n",
      "spredixcan-mashr-zscores-Brain_Anterior_cingulate_cortex_BA24.pkl\n",
      "  shape: (13516, 4091)\n",
      "  shape (no NaN): (12766, 4091)\n",
      "  saving to: /media/miltondp/Elements1/projects/phenoplier/results/drug_disease_analyses/data/raw/spredixcan-mashr-zscores-Brain_Anterior_cingulate_cortex_BA24-data.pkl\n",
      "  projecting...\n",
      "    shape: (987, 4091)\n",
      "    saving to: /media/miltondp/Elements1/projects/phenoplier/results/drug_disease_analyses/data/proj/spredixcan-mashr-zscores-Brain_Anterior_cingulate_cortex_BA24-projection.pkl\n",
      "\n",
      "spredixcan-mashr-zscores-Brain_Caudate_basal_ganglia.pkl\n",
      "  shape: (14107, 4091)\n",
      "  shape (no NaN): (13382, 4091)\n",
      "  saving to: /media/miltondp/Elements1/projects/phenoplier/results/drug_disease_analyses/data/raw/spredixcan-mashr-zscores-Brain_Caudate_basal_ganglia-data.pkl\n",
      "  projecting...\n",
      "    shape: (987, 4091)\n",
      "    saving to: /media/miltondp/Elements1/projects/phenoplier/results/drug_disease_analyses/data/proj/spredixcan-mashr-zscores-Brain_Caudate_basal_ganglia-projection.pkl\n",
      "\n",
      "spredixcan-mashr-zscores-Brain_Cerebellar_Hemisphere.pkl\n",
      "  shape: (13756, 4091)\n",
      "  shape (no NaN): (13026, 4091)\n",
      "  saving to: /media/miltondp/Elements1/projects/phenoplier/results/drug_disease_analyses/data/raw/spredixcan-mashr-zscores-Brain_Cerebellar_Hemisphere-data.pkl\n",
      "  projecting...\n",
      "    shape: (987, 4091)\n",
      "    saving to: /media/miltondp/Elements1/projects/phenoplier/results/drug_disease_analyses/data/proj/spredixcan-mashr-zscores-Brain_Cerebellar_Hemisphere-projection.pkl\n",
      "\n",
      "spredixcan-mashr-zscores-Brain_Cortex.pkl\n",
      "  shape: (14272, 4091)\n",
      "  shape (no NaN): (13527, 4091)\n",
      "  saving to: /media/miltondp/Elements1/projects/phenoplier/results/drug_disease_analyses/data/raw/spredixcan-mashr-zscores-Brain_Cortex-data.pkl\n",
      "  projecting...\n",
      "    shape: (987, 4091)\n",
      "    saving to: /media/miltondp/Elements1/projects/phenoplier/results/drug_disease_analyses/data/proj/spredixcan-mashr-zscores-Brain_Cortex-projection.pkl\n",
      "\n",
      "spredixcan-mashr-zscores-Brain_Frontal_Cortex_BA9.pkl\n",
      "  shape: (14079, 4091)\n",
      "  shape (no NaN): (13338, 4091)\n",
      "  saving to: /media/miltondp/Elements1/projects/phenoplier/results/drug_disease_analyses/data/raw/spredixcan-mashr-zscores-Brain_Frontal_Cortex_BA9-data.pkl\n",
      "  projecting...\n",
      "    shape: (987, 4091)\n",
      "    saving to: /media/miltondp/Elements1/projects/phenoplier/results/drug_disease_analyses/data/proj/spredixcan-mashr-zscores-Brain_Frontal_Cortex_BA9-projection.pkl\n",
      "\n",
      "spredixcan-mashr-zscores-Brain_Hippocampus.pkl\n",
      "  shape: (13513, 4091)\n",
      "  shape (no NaN): (12796, 4091)\n",
      "  saving to: /media/miltondp/Elements1/projects/phenoplier/results/drug_disease_analyses/data/raw/spredixcan-mashr-zscores-Brain_Hippocampus-data.pkl\n",
      "  projecting...\n",
      "    shape: (987, 4091)\n",
      "    saving to: /media/miltondp/Elements1/projects/phenoplier/results/drug_disease_analyses/data/proj/spredixcan-mashr-zscores-Brain_Hippocampus-projection.pkl\n",
      "\n",
      "spredixcan-mashr-zscores-Brain_Hypothalamus.pkl\n",
      "  shape: (13728, 4091)\n",
      "  shape (no NaN): (12966, 4091)\n",
      "  saving to: /media/miltondp/Elements1/projects/phenoplier/results/drug_disease_analyses/data/raw/spredixcan-mashr-zscores-Brain_Hypothalamus-data.pkl\n",
      "  projecting...\n",
      "    shape: (987, 4091)\n",
      "    saving to: /media/miltondp/Elements1/projects/phenoplier/results/drug_disease_analyses/data/proj/spredixcan-mashr-zscores-Brain_Hypothalamus-projection.pkl\n",
      "\n",
      "spredixcan-mashr-zscores-Brain_Nucleus_accumbens_basal_ganglia.pkl\n",
      "  shape: (14047, 4091)\n",
      "  shape (no NaN): (13307, 4091)\n",
      "  saving to: /media/miltondp/Elements1/projects/phenoplier/results/drug_disease_analyses/data/raw/spredixcan-mashr-zscores-Brain_Nucleus_accumbens_basal_ganglia-data.pkl\n",
      "  projecting...\n",
      "    shape: (987, 4091)\n",
      "    saving to: /media/miltondp/Elements1/projects/phenoplier/results/drug_disease_analyses/data/proj/spredixcan-mashr-zscores-Brain_Nucleus_accumbens_basal_ganglia-projection.pkl\n",
      "\n",
      "spredixcan-mashr-zscores-Brain_Putamen_basal_ganglia.pkl\n",
      "  shape: (13683, 4091)\n",
      "  shape (no NaN): (12992, 4091)\n",
      "  saving to: /media/miltondp/Elements1/projects/phenoplier/results/drug_disease_analyses/data/raw/spredixcan-mashr-zscores-Brain_Putamen_basal_ganglia-data.pkl\n",
      "  projecting...\n",
      "    shape: (987, 4091)\n",
      "    saving to: /media/miltondp/Elements1/projects/phenoplier/results/drug_disease_analyses/data/proj/spredixcan-mashr-zscores-Brain_Putamen_basal_ganglia-projection.pkl\n",
      "\n",
      "spredixcan-mashr-zscores-Brain_Spinal_cord_cervical_c-1.pkl\n",
      "  shape: (13083, 4091)\n",
      "  shape (no NaN): (12335, 4091)\n",
      "  saving to: /media/miltondp/Elements1/projects/phenoplier/results/drug_disease_analyses/data/raw/spredixcan-mashr-zscores-Brain_Spinal_cord_cervical_c-1-data.pkl\n",
      "  projecting...\n",
      "    shape: (987, 4091)\n",
      "    saving to: /media/miltondp/Elements1/projects/phenoplier/results/drug_disease_analyses/data/proj/spredixcan-mashr-zscores-Brain_Spinal_cord_cervical_c-1-projection.pkl\n",
      "\n",
      "spredixcan-mashr-zscores-Brain_Substantia_nigra.pkl\n",
      "  shape: (12625, 4091)\n",
      "  shape (no NaN): (11870, 4091)\n",
      "  saving to: /media/miltondp/Elements1/projects/phenoplier/results/drug_disease_analyses/data/raw/spredixcan-mashr-zscores-Brain_Substantia_nigra-data.pkl\n",
      "  projecting...\n",
      "    shape: (987, 4091)\n",
      "    saving to: /media/miltondp/Elements1/projects/phenoplier/results/drug_disease_analyses/data/proj/spredixcan-mashr-zscores-Brain_Substantia_nigra-projection.pkl\n",
      "\n",
      "spredixcan-mashr-zscores-Breast_Mammary_Tissue.pkl\n",
      "  shape: (14640, 4091)\n",
      "  shape (no NaN): (13883, 4091)\n",
      "  saving to: /media/miltondp/Elements1/projects/phenoplier/results/drug_disease_analyses/data/raw/spredixcan-mashr-zscores-Breast_Mammary_Tissue-data.pkl\n",
      "  projecting...\n",
      "    shape: (987, 4091)\n",
      "    saving to: /media/miltondp/Elements1/projects/phenoplier/results/drug_disease_analyses/data/proj/spredixcan-mashr-zscores-Breast_Mammary_Tissue-projection.pkl\n",
      "\n",
      "spredixcan-mashr-zscores-Cells_Cultured_fibroblasts.pkl\n",
      "  shape: (13964, 4091)\n",
      "  shape (no NaN): (13395, 4091)\n",
      "  saving to: /media/miltondp/Elements1/projects/phenoplier/results/drug_disease_analyses/data/raw/spredixcan-mashr-zscores-Cells_Cultured_fibroblasts-data.pkl\n",
      "  projecting...\n",
      "    shape: (987, 4091)\n",
      "    saving to: /media/miltondp/Elements1/projects/phenoplier/results/drug_disease_analyses/data/proj/spredixcan-mashr-zscores-Cells_Cultured_fibroblasts-projection.pkl\n",
      "\n",
      "spredixcan-mashr-zscores-Colon_Sigmoid.pkl\n",
      "  shape: (14349, 4091)\n",
      "  shape (no NaN): (13641, 4091)\n",
      "  saving to: /media/miltondp/Elements1/projects/phenoplier/results/drug_disease_analyses/data/raw/spredixcan-mashr-zscores-Colon_Sigmoid-data.pkl\n",
      "  projecting...\n",
      "    shape: (987, 4091)\n",
      "    saving to: /media/miltondp/Elements1/projects/phenoplier/results/drug_disease_analyses/data/proj/spredixcan-mashr-zscores-Colon_Sigmoid-projection.pkl\n",
      "\n",
      "spredixcan-mashr-zscores-Colon_Transverse.pkl\n",
      "  shape: (14572, 4091)\n",
      "  shape (no NaN): (13868, 4091)\n",
      "  saving to: /media/miltondp/Elements1/projects/phenoplier/results/drug_disease_analyses/data/raw/spredixcan-mashr-zscores-Colon_Transverse-data.pkl\n",
      "  projecting...\n",
      "    shape: (987, 4091)\n",
      "    saving to: /media/miltondp/Elements1/projects/phenoplier/results/drug_disease_analyses/data/proj/spredixcan-mashr-zscores-Colon_Transverse-projection.pkl\n",
      "\n",
      "spredixcan-mashr-zscores-Esophagus_Gastroesophageal_Junction.pkl\n",
      "  shape: (14271, 4091)\n",
      "  shape (no NaN): (13580, 4091)\n",
      "  saving to: /media/miltondp/Elements1/projects/phenoplier/results/drug_disease_analyses/data/raw/spredixcan-mashr-zscores-Esophagus_Gastroesophageal_Junction-data.pkl\n",
      "  projecting...\n",
      "    shape: (987, 4091)\n",
      "    saving to: /media/miltondp/Elements1/projects/phenoplier/results/drug_disease_analyses/data/proj/spredixcan-mashr-zscores-Esophagus_Gastroesophageal_Junction-projection.pkl\n",
      "\n",
      "spredixcan-mashr-zscores-Esophagus_Mucosa.pkl\n",
      "  shape: (14576, 4091)\n",
      "  shape (no NaN): (13928, 4091)\n",
      "  saving to: /media/miltondp/Elements1/projects/phenoplier/results/drug_disease_analyses/data/raw/spredixcan-mashr-zscores-Esophagus_Mucosa-data.pkl\n",
      "  projecting...\n",
      "    shape: (987, 4091)\n",
      "    saving to: /media/miltondp/Elements1/projects/phenoplier/results/drug_disease_analyses/data/proj/spredixcan-mashr-zscores-Esophagus_Mucosa-projection.pkl\n",
      "\n",
      "spredixcan-mashr-zscores-Esophagus_Muscularis.pkl\n",
      "  shape: (14590, 4091)\n",
      "  shape (no NaN): (13943, 4091)\n",
      "  saving to: /media/miltondp/Elements1/projects/phenoplier/results/drug_disease_analyses/data/raw/spredixcan-mashr-zscores-Esophagus_Muscularis-data.pkl\n",
      "  projecting...\n",
      "    shape: (987, 4091)\n",
      "    saving to: /media/miltondp/Elements1/projects/phenoplier/results/drug_disease_analyses/data/proj/spredixcan-mashr-zscores-Esophagus_Muscularis-projection.pkl\n",
      "\n",
      "spredixcan-mashr-zscores-Heart_Atrial_Appendage.pkl\n",
      "  shape: (14022, 4091)\n",
      "  shape (no NaN): (13330, 4091)\n",
      "  saving to: /media/miltondp/Elements1/projects/phenoplier/results/drug_disease_analyses/data/raw/spredixcan-mashr-zscores-Heart_Atrial_Appendage-data.pkl\n",
      "  projecting...\n",
      "    shape: (987, 4091)\n",
      "    saving to: /media/miltondp/Elements1/projects/phenoplier/results/drug_disease_analyses/data/proj/spredixcan-mashr-zscores-Heart_Atrial_Appendage-projection.pkl\n",
      "\n",
      "spredixcan-mashr-zscores-Heart_Left_Ventricle.pkl\n",
      "  shape: (13189, 4091)\n",
      "  shape (no NaN): (12561, 4091)\n",
      "  saving to: /media/miltondp/Elements1/projects/phenoplier/results/drug_disease_analyses/data/raw/spredixcan-mashr-zscores-Heart_Left_Ventricle-data.pkl\n",
      "  projecting...\n",
      "    shape: (987, 4091)\n",
      "    saving to: /media/miltondp/Elements1/projects/phenoplier/results/drug_disease_analyses/data/proj/spredixcan-mashr-zscores-Heart_Left_Ventricle-projection.pkl\n",
      "\n",
      "spredixcan-mashr-zscores-Kidney_Cortex.pkl\n",
      "  shape: (11151, 4091)\n",
      "  shape (no NaN): (10427, 4091)\n",
      "  saving to: /media/miltondp/Elements1/projects/phenoplier/results/drug_disease_analyses/data/raw/spredixcan-mashr-zscores-Kidney_Cortex-data.pkl\n",
      "  projecting...\n",
      "    shape: (987, 4091)\n",
      "    saving to: /media/miltondp/Elements1/projects/phenoplier/results/drug_disease_analyses/data/proj/spredixcan-mashr-zscores-Kidney_Cortex-projection.pkl\n",
      "\n",
      "spredixcan-mashr-zscores-Liver.pkl\n",
      "  shape: (12703, 4091)\n",
      "  shape (no NaN): (12026, 4091)\n",
      "  saving to: /media/miltondp/Elements1/projects/phenoplier/results/drug_disease_analyses/data/raw/spredixcan-mashr-zscores-Liver-data.pkl\n",
      "  projecting...\n",
      "    shape: (987, 4091)\n",
      "    saving to: /media/miltondp/Elements1/projects/phenoplier/results/drug_disease_analyses/data/proj/spredixcan-mashr-zscores-Liver-projection.pkl\n",
      "\n",
      "spredixcan-mashr-zscores-Lung.pkl\n",
      "  shape: (15044, 4091)\n",
      "  shape (no NaN): (14334, 4091)\n",
      "  saving to: /media/miltondp/Elements1/projects/phenoplier/results/drug_disease_analyses/data/raw/spredixcan-mashr-zscores-Lung-data.pkl\n",
      "  projecting...\n",
      "    shape: (987, 4091)\n",
      "    saving to: /media/miltondp/Elements1/projects/phenoplier/results/drug_disease_analyses/data/proj/spredixcan-mashr-zscores-Lung-projection.pkl\n",
      "\n",
      "spredixcan-mashr-zscores-Minor_Salivary_Gland.pkl\n",
      "  shape: (13874, 4091)\n",
      "  shape (no NaN): (13107, 4091)\n",
      "  saving to: /media/miltondp/Elements1/projects/phenoplier/results/drug_disease_analyses/data/raw/spredixcan-mashr-zscores-Minor_Salivary_Gland-data.pkl\n",
      "  projecting...\n",
      "    shape: (987, 4091)\n",
      "    saving to: /media/miltondp/Elements1/projects/phenoplier/results/drug_disease_analyses/data/proj/spredixcan-mashr-zscores-Minor_Salivary_Gland-projection.pkl\n",
      "\n",
      "spredixcan-mashr-zscores-Brain_Cerebellum.pkl\n",
      "  shape: (13980, 4091)\n",
      "  shape (no NaN): (13253, 4091)\n",
      "  saving to: /media/miltondp/Elements1/projects/phenoplier/results/drug_disease_analyses/data/raw/spredixcan-mashr-zscores-Brain_Cerebellum-data.pkl\n",
      "  projecting...\n",
      "    shape: (987, 4091)\n",
      "    saving to: /media/miltondp/Elements1/projects/phenoplier/results/drug_disease_analyses/data/proj/spredixcan-mashr-zscores-Brain_Cerebellum-projection.pkl\n",
      "\n",
      "spredixcan-mashr-zscores-Cells_EBV-transformed_lymphocytes.pkl\n",
      "  shape: (12386, 4091)\n",
      "  shape (no NaN): (11691, 4091)\n",
      "  saving to: /media/miltondp/Elements1/projects/phenoplier/results/drug_disease_analyses/data/raw/spredixcan-mashr-zscores-Cells_EBV-transformed_lymphocytes-data.pkl\n",
      "  projecting...\n",
      "    shape: (987, 4091)\n",
      "    saving to: /media/miltondp/Elements1/projects/phenoplier/results/drug_disease_analyses/data/proj/spredixcan-mashr-zscores-Cells_EBV-transformed_lymphocytes-projection.pkl\n",
      "\n",
      "spredixcan-mashr-zscores-Muscle_Skeletal.pkl\n",
      "  shape: (13370, 4091)\n",
      "  shape (no NaN): (12823, 4091)\n",
      "  saving to: /media/miltondp/Elements1/projects/phenoplier/results/drug_disease_analyses/data/raw/spredixcan-mashr-zscores-Muscle_Skeletal-data.pkl\n",
      "  projecting...\n",
      "    shape: (987, 4091)\n",
      "    saving to: /media/miltondp/Elements1/projects/phenoplier/results/drug_disease_analyses/data/proj/spredixcan-mashr-zscores-Muscle_Skeletal-projection.pkl\n",
      "\n",
      "spredixcan-mashr-zscores-Nerve_Tibial.pkl\n",
      "  shape: (15357, 4091)\n",
      "  shape (no NaN): (14718, 4091)\n",
      "  saving to: /media/miltondp/Elements1/projects/phenoplier/results/drug_disease_analyses/data/raw/spredixcan-mashr-zscores-Nerve_Tibial-data.pkl\n",
      "  projecting...\n",
      "    shape: (987, 4091)\n",
      "    saving to: /media/miltondp/Elements1/projects/phenoplier/results/drug_disease_analyses/data/proj/spredixcan-mashr-zscores-Nerve_Tibial-projection.pkl\n",
      "\n",
      "spredixcan-mashr-zscores-Ovary.pkl\n",
      "  shape: (13728, 4091)\n",
      "  shape (no NaN): (12961, 4091)\n",
      "  saving to: /media/miltondp/Elements1/projects/phenoplier/results/drug_disease_analyses/data/raw/spredixcan-mashr-zscores-Ovary-data.pkl\n",
      "  projecting...\n",
      "    shape: (987, 4091)\n",
      "    saving to: /media/miltondp/Elements1/projects/phenoplier/results/drug_disease_analyses/data/proj/spredixcan-mashr-zscores-Ovary-projection.pkl\n",
      "\n",
      "spredixcan-mashr-zscores-Pancreas.pkl\n",
      "  shape: (13684, 4091)\n",
      "  shape (no NaN): (12968, 4091)\n",
      "  saving to: /media/miltondp/Elements1/projects/phenoplier/results/drug_disease_analyses/data/raw/spredixcan-mashr-zscores-Pancreas-data.pkl\n",
      "  projecting...\n",
      "    shape: (987, 4091)\n",
      "    saving to: /media/miltondp/Elements1/projects/phenoplier/results/drug_disease_analyses/data/proj/spredixcan-mashr-zscores-Pancreas-projection.pkl\n",
      "\n",
      "spredixcan-mashr-zscores-Pituitary.pkl\n",
      "  shape: (14633, 4091)\n",
      "  shape (no NaN): (13898, 4091)\n",
      "  saving to: /media/miltondp/Elements1/projects/phenoplier/results/drug_disease_analyses/data/raw/spredixcan-mashr-zscores-Pituitary-data.pkl\n",
      "  projecting...\n",
      "    shape: (987, 4091)\n",
      "    saving to: /media/miltondp/Elements1/projects/phenoplier/results/drug_disease_analyses/data/proj/spredixcan-mashr-zscores-Pituitary-projection.pkl\n",
      "\n",
      "spredixcan-mashr-zscores-Prostate.pkl\n",
      "  shape: (14436, 4091)\n",
      "  shape (no NaN): (13610, 4091)\n",
      "  saving to: /media/miltondp/Elements1/projects/phenoplier/results/drug_disease_analyses/data/raw/spredixcan-mashr-zscores-Prostate-data.pkl\n",
      "  projecting...\n",
      "    shape: (987, 4091)\n",
      "    saving to: /media/miltondp/Elements1/projects/phenoplier/results/drug_disease_analyses/data/proj/spredixcan-mashr-zscores-Prostate-projection.pkl\n",
      "\n",
      "spredixcan-mashr-zscores-Skin_Not_Sun_Exposed_Suprapubic.pkl\n",
      "  shape: (14920, 4091)\n",
      "  shape (no NaN): (14282, 4091)\n",
      "  saving to: /media/miltondp/Elements1/projects/phenoplier/results/drug_disease_analyses/data/raw/spredixcan-mashr-zscores-Skin_Not_Sun_Exposed_Suprapubic-data.pkl\n",
      "  projecting...\n",
      "    shape: (987, 4091)\n",
      "    saving to: /media/miltondp/Elements1/projects/phenoplier/results/drug_disease_analyses/data/proj/spredixcan-mashr-zscores-Skin_Not_Sun_Exposed_Suprapubic-projection.pkl\n",
      "\n",
      "spredixcan-mashr-zscores-Skin_Sun_Exposed_Lower_leg.pkl\n",
      "  shape: (15188, 4091)\n",
      "  shape (no NaN): (14501, 4091)\n",
      "  saving to: /media/miltondp/Elements1/projects/phenoplier/results/drug_disease_analyses/data/raw/spredixcan-mashr-zscores-Skin_Sun_Exposed_Lower_leg-data.pkl\n",
      "  projecting...\n",
      "    shape: (987, 4091)\n",
      "    saving to: /media/miltondp/Elements1/projects/phenoplier/results/drug_disease_analyses/data/proj/spredixcan-mashr-zscores-Skin_Sun_Exposed_Lower_leg-projection.pkl\n",
      "\n",
      "spredixcan-mashr-zscores-Small_Intestine_Terminal_Ileum.pkl\n",
      "  shape: (14053, 4091)\n",
      "  shape (no NaN): (13270, 4091)\n",
      "  saving to: /media/miltondp/Elements1/projects/phenoplier/results/drug_disease_analyses/data/raw/spredixcan-mashr-zscores-Small_Intestine_Terminal_Ileum-data.pkl\n",
      "  projecting...\n",
      "    shape: (987, 4091)\n",
      "    saving to: /media/miltondp/Elements1/projects/phenoplier/results/drug_disease_analyses/data/proj/spredixcan-mashr-zscores-Small_Intestine_Terminal_Ileum-projection.pkl\n",
      "\n",
      "spredixcan-mashr-zscores-Spleen.pkl\n",
      "  shape: (14061, 4091)\n",
      "  shape (no NaN): (13376, 4091)\n",
      "  saving to: /media/miltondp/Elements1/projects/phenoplier/results/drug_disease_analyses/data/raw/spredixcan-mashr-zscores-Spleen-data.pkl\n",
      "  projecting...\n",
      "    shape: (987, 4091)\n",
      "    saving to: /media/miltondp/Elements1/projects/phenoplier/results/drug_disease_analyses/data/proj/spredixcan-mashr-zscores-Spleen-projection.pkl\n",
      "\n",
      "spredixcan-mashr-zscores-Stomach.pkl\n",
      "  shape: (14089, 4091)\n",
      "  shape (no NaN): (13342, 4091)\n",
      "  saving to: /media/miltondp/Elements1/projects/phenoplier/results/drug_disease_analyses/data/raw/spredixcan-mashr-zscores-Stomach-data.pkl\n",
      "  projecting...\n",
      "    shape: (987, 4091)\n",
      "    saving to: /media/miltondp/Elements1/projects/phenoplier/results/drug_disease_analyses/data/proj/spredixcan-mashr-zscores-Stomach-projection.pkl\n",
      "\n",
      "spredixcan-mashr-zscores-Testis.pkl\n",
      "  shape: (17853, 4091)\n",
      "  shape (no NaN): (16972, 4091)\n",
      "  saving to: /media/miltondp/Elements1/projects/phenoplier/results/drug_disease_analyses/data/raw/spredixcan-mashr-zscores-Testis-data.pkl\n",
      "  projecting...\n",
      "    shape: (987, 4091)\n",
      "    saving to: /media/miltondp/Elements1/projects/phenoplier/results/drug_disease_analyses/data/proj/spredixcan-mashr-zscores-Testis-projection.pkl\n",
      "\n",
      "spredixcan-mashr-zscores-Thyroid.pkl\n",
      "  shape: (15289, 4091)\n",
      "  shape (no NaN): (14667, 4091)\n",
      "  saving to: /media/miltondp/Elements1/projects/phenoplier/results/drug_disease_analyses/data/raw/spredixcan-mashr-zscores-Thyroid-data.pkl\n",
      "  projecting...\n",
      "    shape: (987, 4091)\n",
      "    saving to: /media/miltondp/Elements1/projects/phenoplier/results/drug_disease_analyses/data/proj/spredixcan-mashr-zscores-Thyroid-projection.pkl\n",
      "\n",
      "spredixcan-mashr-zscores-Uterus.pkl\n",
      "  shape: (13188, 4091)\n",
      "  shape (no NaN): (12433, 4091)\n",
      "  saving to: /media/miltondp/Elements1/projects/phenoplier/results/drug_disease_analyses/data/raw/spredixcan-mashr-zscores-Uterus-data.pkl\n",
      "  projecting...\n",
      "    shape: (987, 4091)\n",
      "    saving to: /media/miltondp/Elements1/projects/phenoplier/results/drug_disease_analyses/data/proj/spredixcan-mashr-zscores-Uterus-projection.pkl\n",
      "\n",
      "spredixcan-mashr-zscores-Vagina.pkl\n",
      "  shape: (12960, 4091)\n",
      "  shape (no NaN): (12167, 4091)\n",
      "  saving to: /media/miltondp/Elements1/projects/phenoplier/results/drug_disease_analyses/data/raw/spredixcan-mashr-zscores-Vagina-data.pkl\n",
      "  projecting...\n",
      "    shape: (987, 4091)\n",
      "    saving to: /media/miltondp/Elements1/projects/phenoplier/results/drug_disease_analyses/data/proj/spredixcan-mashr-zscores-Vagina-projection.pkl\n",
      "\n",
      "spredixcan-mashr-zscores-Whole_Blood.pkl\n",
      "  shape: (12610, 4091)\n",
      "  shape (no NaN): (12067, 4091)\n",
      "  saving to: /media/miltondp/Elements1/projects/phenoplier/results/drug_disease_analyses/data/raw/spredixcan-mashr-zscores-Whole_Blood-data.pkl\n",
      "  projecting...\n",
      "    shape: (987, 4091)\n",
      "    saving to: /media/miltondp/Elements1/projects/phenoplier/results/drug_disease_analyses/data/proj/spredixcan-mashr-zscores-Whole_Blood-projection.pkl\n",
      "\n"
     ]
    }
   ],
   "source": [
    "for input_file in input_file_list:\n",
    "    print(input_file.name)\n",
    "\n",
    "    # read data\n",
    "    phenomexcan_data = pd.read_pickle(input_file)\n",
    "    print(f\"  shape: {phenomexcan_data.shape}\")\n",
    "\n",
    "    assert phenomexcan_data.index.is_unique\n",
    "    assert phenomexcan_data.columns.is_unique\n",
    "\n",
    "    phenomexcan_data = phenomexcan_data.dropna(how=\"any\")\n",
    "    print(f\"  shape (no NaN): {phenomexcan_data.shape}\")\n",
    "    assert not phenomexcan_data.isna().any().any()\n",
    "\n",
    "    output_file = Path(OUTPUT_RAW_DATA_DIR, f\"{input_file.stem}-data.pkl\").resolve()\n",
    "    print(f\"  saving to: {str(output_file)}\")\n",
    "    phenomexcan_data.to_pickle(output_file)\n",
    "\n",
    "    # project\n",
    "    print(\"  projecting...\")\n",
    "    mproj = MultiplierProjection()\n",
    "    phenomexcan_projection = mproj.transform(phenomexcan_data)\n",
    "    print(f\"    shape: {phenomexcan_projection.shape}\")\n",
    "\n",
    "    output_file = Path(\n",
    "        OUTPUT_PROJ_DATA_DIR, f\"{input_file.stem}-projection.pkl\"\n",
    "    ).resolve()\n",
    "    print(f\"    saving to: {str(output_file)}\")\n",
    "    phenomexcan_projection.to_pickle(output_file)\n",
    "\n",
    "    print(\"\")"
   ]
  },
  {
   "cell_type": "code",
   "execution_count": null,
   "metadata": {
    "papermill": {
     "duration": 0.036917,
     "end_time": "2020-12-23T18:02:42.293797",
     "exception": false,
     "start_time": "2020-12-23T18:02:42.256880",
     "status": "completed"
    },
    "tags": []
   },
   "outputs": [],
   "source": []
  }
 ],
 "metadata": {
  "jupytext": {
   "cell_metadata_filter": "all,-execution,-papermill,-trusted",
   "formats": "ipynb,py//py:percent"
  },
  "kernelspec": {
   "display_name": "Python 3",
   "language": "python",
   "name": "python3"
  },
  "language_info": {
   "codemirror_mode": {
    "name": "ipython",
    "version": 3
   },
   "file_extension": ".py",
   "mimetype": "text/x-python",
   "name": "python",
   "nbconvert_exporter": "python",
   "pygments_lexer": "ipython3",
   "version": "3.8.8"
  },
  "papermill": {
   "default_parameters": {},
   "duration": 178.565484,
   "end_time": "2020-12-23T18:02:42.635207",
   "environment_variables": {},
   "exception": null,
   "input_path": "15_drug_disease_associations/001-data-phenomexcan.ipynb",
   "output_path": "15_drug_disease_associations/001-data-phenomexcan.run.ipynb",
   "parameters": {},
   "start_time": "2020-12-23T17:59:44.069723",
   "version": "2.2.2"
  }
 },
 "nbformat": 4,
 "nbformat_minor": 4
}
