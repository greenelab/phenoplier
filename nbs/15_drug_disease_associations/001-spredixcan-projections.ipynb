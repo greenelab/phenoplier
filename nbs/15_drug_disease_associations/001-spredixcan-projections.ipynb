{
 "cells": [
  {
   "cell_type": "markdown",
   "metadata": {
    "papermill": {
     "duration": 0.025145,
     "end_time": "2020-12-23T17:59:44.890969",
     "exception": false,
     "start_time": "2020-12-23T17:59:44.865824",
     "status": "completed"
    },
    "tags": []
   },
   "source": [
    "# Description"
   ]
  },
  {
   "cell_type": "markdown",
   "metadata": {
    "papermill": {
     "duration": 0.005927,
     "end_time": "2020-12-23T17:59:44.903360",
     "exception": false,
     "start_time": "2020-12-23T17:59:44.897433",
     "status": "completed"
    },
    "tags": []
   },
   "source": [
    "This notebook projects S-PrediXcan results in each tissues into the MultiPLIER space. It also saves S-PrediXcan results after removing NaN rows."
   ]
  },
  {
   "cell_type": "markdown",
   "metadata": {
    "papermill": {
     "duration": 0.005535,
     "end_time": "2020-12-23T17:59:44.914868",
     "exception": false,
     "start_time": "2020-12-23T17:59:44.909333",
     "status": "completed"
    },
    "tags": []
   },
   "source": [
    "# Modules loading"
   ]
  },
  {
   "cell_type": "code",
   "execution_count": null,
   "metadata": {
    "papermill": {
     "duration": 0.016928,
     "end_time": "2020-12-23T17:59:44.937412",
     "exception": false,
     "start_time": "2020-12-23T17:59:44.920484",
     "status": "completed"
    },
    "tags": []
   },
   "outputs": [],
   "source": [
    "%load_ext autoreload\n",
    "%autoreload 2"
   ]
  },
  {
   "cell_type": "code",
   "execution_count": null,
   "metadata": {
    "papermill": {
     "duration": 0.221381,
     "end_time": "2020-12-23T17:59:45.164612",
     "exception": false,
     "start_time": "2020-12-23T17:59:44.943231",
     "status": "completed"
    },
    "tags": []
   },
   "outputs": [],
   "source": [
    "from IPython.display import display\n",
    "from pathlib import Path\n",
    "\n",
    "import pandas as pd\n",
    "\n",
    "import conf\n",
    "from multiplier import MultiplierProjection"
   ]
  },
  {
   "cell_type": "markdown",
   "metadata": {
    "papermill": {
     "duration": 0.005632,
     "end_time": "2020-12-23T17:59:45.176196",
     "exception": false,
     "start_time": "2020-12-23T17:59:45.170564",
     "status": "completed"
    },
    "tags": []
   },
   "source": [
    "# Settings"
   ]
  },
  {
   "cell_type": "code",
   "execution_count": null,
   "metadata": {
    "papermill": {
     "duration": 0.016809,
     "end_time": "2020-12-23T17:59:45.225470",
     "exception": false,
     "start_time": "2020-12-23T17:59:45.208661",
     "status": "completed"
    },
    "tags": []
   },
   "outputs": [],
   "source": [
    "OUTPUT_DATA_DIR = Path(conf.RESULTS[\"DRUG_DISEASE_ANALYSES\"], \"spredixcan\")\n",
    "display(OUTPUT_DATA_DIR)\n",
    "OUTPUT_DATA_DIR.mkdir(parents=True, exist_ok=True)"
   ]
  },
  {
   "cell_type": "code",
   "execution_count": null,
   "metadata": {
    "papermill": {
     "duration": 0.017168,
     "end_time": "2020-12-23T17:59:45.249232",
     "exception": false,
     "start_time": "2020-12-23T17:59:45.232064",
     "status": "completed"
    },
    "tags": []
   },
   "outputs": [],
   "source": [
    "OUTPUT_RAW_DATA_DIR = Path(OUTPUT_DATA_DIR, \"raw\")\n",
    "display(OUTPUT_RAW_DATA_DIR)\n",
    "OUTPUT_RAW_DATA_DIR.mkdir(parents=True, exist_ok=True)"
   ]
  },
  {
   "cell_type": "code",
   "execution_count": null,
   "metadata": {
    "papermill": {
     "duration": 0.017076,
     "end_time": "2020-12-23T17:59:45.273070",
     "exception": false,
     "start_time": "2020-12-23T17:59:45.255994",
     "status": "completed"
    },
    "tags": []
   },
   "outputs": [],
   "source": [
    "OUTPUT_PROJ_DATA_DIR = Path(OUTPUT_DATA_DIR, \"proj\")\n",
    "display(OUTPUT_PROJ_DATA_DIR)\n",
    "OUTPUT_PROJ_DATA_DIR.mkdir(parents=True, exist_ok=True)"
   ]
  },
  {
   "cell_type": "markdown",
   "metadata": {
    "papermill": {
     "duration": 0.006797,
     "end_time": "2020-12-23T17:59:45.286928",
     "exception": false,
     "start_time": "2020-12-23T17:59:45.280131",
     "status": "completed"
    },
    "tags": []
   },
   "source": [
    "# Load PhenomeXcan results"
   ]
  },
  {
   "cell_type": "code",
   "execution_count": null,
   "metadata": {
    "papermill": {
     "duration": 0.017001,
     "end_time": "2020-12-23T17:59:45.334111",
     "exception": false,
     "start_time": "2020-12-23T17:59:45.317110",
     "status": "completed"
    },
    "tags": []
   },
   "outputs": [],
   "source": [
    "input_file_list = [\n",
    "    f\n",
    "    for f in Path(conf.PHENOMEXCAN[\"SPREDIXCAN_MASHR_ZSCORES_FOLDER\"], \"pkl\").glob(\n",
    "        \"*.pkl\"\n",
    "    )\n",
    "]"
   ]
  },
  {
   "cell_type": "code",
   "execution_count": null,
   "metadata": {
    "papermill": {
     "duration": 0.016575,
     "end_time": "2020-12-23T17:59:45.357589",
     "exception": false,
     "start_time": "2020-12-23T17:59:45.341014",
     "status": "completed"
    },
    "tags": []
   },
   "outputs": [],
   "source": [
    "_tmp = len(input_file_list)\n",
    "display(_tmp)\n",
    "assert _tmp == 49"
   ]
  },
  {
   "cell_type": "code",
   "execution_count": null,
   "metadata": {
    "papermill": {
     "duration": 176.85296,
     "end_time": "2020-12-23T18:02:42.217692",
     "exception": false,
     "start_time": "2020-12-23T17:59:45.364732",
     "status": "completed"
    },
    "tags": []
   },
   "outputs": [],
   "source": [
    "for input_file in input_file_list:\n",
    "    print(input_file.name)\n",
    "\n",
    "    # read data\n",
    "    phenomexcan_data = pd.read_pickle(input_file)\n",
    "    print(f\"  shape: {phenomexcan_data.shape}\")\n",
    "\n",
    "    assert phenomexcan_data.index.is_unique\n",
    "    assert phenomexcan_data.columns.is_unique\n",
    "\n",
    "    phenomexcan_data = phenomexcan_data.dropna(how=\"any\")\n",
    "    print(f\"  shape (no NaN): {phenomexcan_data.shape}\")\n",
    "    assert not phenomexcan_data.isna().any().any()\n",
    "\n",
    "    output_file = Path(OUTPUT_RAW_DATA_DIR, f\"{input_file.stem}-data.pkl\").resolve()\n",
    "    print(f\"  saving to: {str(output_file)}\")\n",
    "    phenomexcan_data.to_pickle(output_file)\n",
    "\n",
    "    # project\n",
    "    print(\"  projecting...\")\n",
    "    mproj = MultiplierProjection()\n",
    "    phenomexcan_projection = mproj.transform(phenomexcan_data)\n",
    "    print(f\"    shape: {phenomexcan_projection.shape}\")\n",
    "\n",
    "    output_file = Path(\n",
    "        OUTPUT_PROJ_DATA_DIR, f\"{input_file.stem}-projection.pkl\"\n",
    "    ).resolve()\n",
    "    print(f\"    saving to: {str(output_file)}\")\n",
    "    phenomexcan_projection.to_pickle(output_file)\n",
    "\n",
    "    print(\"\")"
   ]
  },
  {
   "cell_type": "code",
   "execution_count": null,
   "metadata": {
    "papermill": {
     "duration": 0.036917,
     "end_time": "2020-12-23T18:02:42.293797",
     "exception": false,
     "start_time": "2020-12-23T18:02:42.256880",
     "status": "completed"
    },
    "tags": []
   },
   "outputs": [],
   "source": []
  }
 ],
 "metadata": {
  "jupytext": {
   "cell_metadata_filter": "all,-execution,-papermill,-trusted",
   "formats": "ipynb,py//py:percent"
  },
  "kernelspec": {
   "display_name": "Python 3",
   "language": "python",
   "name": "python3"
  },
  "language_info": {
   "codemirror_mode": {
    "name": "ipython",
    "version": 3
   },
   "file_extension": ".py",
   "mimetype": "text/x-python",
   "name": "python",
   "nbconvert_exporter": "python",
   "pygments_lexer": "ipython3",
   "version": "3.8.8"
  },
  "papermill": {
   "default_parameters": {},
   "duration": 178.565484,
   "end_time": "2020-12-23T18:02:42.635207",
   "environment_variables": {},
   "exception": null,
   "input_path": "15_drug_disease_associations/001-data-phenomexcan.ipynb",
   "output_path": "15_drug_disease_associations/001-data-phenomexcan.run.ipynb",
   "parameters": {},
   "start_time": "2020-12-23T17:59:44.069723",
   "version": "2.2.2"
  }
 },
 "nbformat": 4,
 "nbformat_minor": 4
}
