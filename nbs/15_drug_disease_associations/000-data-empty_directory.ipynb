{
 "cells": [
  {
   "cell_type": "markdown",
   "metadata": {
    "papermill": {
     "duration": 0.044577,
     "end_time": "2020-12-18T22:38:21.345879",
     "exception": false,
     "start_time": "2020-12-18T22:38:21.301302",
     "status": "completed"
    },
    "tags": []
   },
   "source": [
    "# Description"
   ]
  },
  {
   "cell_type": "markdown",
   "metadata": {
    "papermill": {
     "duration": 0.011764,
     "end_time": "2020-12-18T22:38:21.398073",
     "exception": false,
     "start_time": "2020-12-18T22:38:21.386309",
     "status": "completed"
    },
    "tags": []
   },
   "source": [
    "It makes sure that the data directory for predictions is empty before these notebooks are run.\n",
    "\n",
    "Do I need this?"
   ]
  },
  {
   "cell_type": "markdown",
   "metadata": {
    "papermill": {
     "duration": 0.011799,
     "end_time": "2020-12-18T22:38:21.422136",
     "exception": false,
     "start_time": "2020-12-18T22:38:21.410337",
     "status": "completed"
    },
    "tags": []
   },
   "source": [
    "# Modules loading"
   ]
  },
  {
   "cell_type": "code",
   "execution_count": 1,
   "metadata": {
    "papermill": {
     "duration": 0.022467,
     "end_time": "2020-12-18T22:38:21.456126",
     "exception": false,
     "start_time": "2020-12-18T22:38:21.433659",
     "status": "completed"
    },
    "tags": []
   },
   "outputs": [],
   "source": [
    "%load_ext autoreload\n",
    "%autoreload 2"
   ]
  },
  {
   "cell_type": "code",
   "execution_count": 2,
   "metadata": {
    "papermill": {
     "duration": 0.192251,
     "end_time": "2020-12-18T22:38:21.659996",
     "exception": false,
     "start_time": "2020-12-18T22:38:21.467745",
     "status": "completed"
    },
    "tags": []
   },
   "outputs": [],
   "source": [
    "from pathlib import Path\n",
    "\n",
    "import numpy as np\n",
    "import pandas as pd\n",
    "\n",
    "import conf"
   ]
  },
  {
   "cell_type": "markdown",
   "metadata": {
    "papermill": {
     "duration": 0.011416,
     "end_time": "2020-12-18T22:38:21.683356",
     "exception": false,
     "start_time": "2020-12-18T22:38:21.671940",
     "status": "completed"
    },
    "tags": []
   },
   "source": [
    "# Settings"
   ]
  },
  {
   "cell_type": "code",
   "execution_count": 3,
   "metadata": {},
   "outputs": [
    {
     "data": {
      "text/plain": [
       "PosixPath('/media/miltondp/Elements1/projects/phenoplier/results/drug_disease_analyses')"
      ]
     },
     "metadata": {},
     "output_type": "display_data"
    }
   ],
   "source": [
    "OUTPUT_DIR = conf.RESULTS[\"DRUG_DISEASE_ANALYSES\"]\n",
    "display(OUTPUT_DIR)\n",
    "OUTPUT_DIR.mkdir(parents=True, exist_ok=True)"
   ]
  },
  {
   "cell_type": "code",
   "execution_count": 4,
   "metadata": {},
   "outputs": [
    {
     "data": {
      "text/plain": [
       "PosixPath('/media/miltondp/Elements1/projects/phenoplier/results/drug_disease_analyses/data')"
      ]
     },
     "metadata": {},
     "output_type": "display_data"
    }
   ],
   "source": [
    "OUTPUT_DATA_DIR = Path(OUTPUT_DIR, \"data\")\n",
    "display(OUTPUT_DATA_DIR)\n",
    "OUTPUT_DATA_DIR.mkdir(parents=True, exist_ok=True)"
   ]
  },
  {
   "cell_type": "markdown",
   "metadata": {},
   "source": [
    "# Remove previous predictions"
   ]
  },
  {
   "cell_type": "code",
   "execution_count": 5,
   "metadata": {},
   "outputs": [],
   "source": [
    "current_prediction_files = OUTPUT_DATA_DIR.rglob(\"*.pkl\")"
   ]
  },
  {
   "cell_type": "code",
   "execution_count": 6,
   "metadata": {},
   "outputs": [
    {
     "data": {
      "text/plain": [
       "PosixPath('/media/miltondp/Elements1/projects/phenoplier/results/drug_disease_analyses/data/spredixcan-mashr-zscores-Brain_Anterior_cingulate_cortex_BA24-projection.pkl')"
      ]
     },
     "metadata": {},
     "output_type": "display_data"
    },
    {
     "data": {
      "text/plain": [
       "PosixPath('/media/miltondp/Elements1/projects/phenoplier/results/drug_disease_analyses/data/lincs_data.pkl')"
      ]
     },
     "metadata": {},
     "output_type": "display_data"
    },
    {
     "data": {
      "text/plain": [
       "PosixPath('/media/miltondp/Elements1/projects/phenoplier/results/drug_disease_analyses/data/lincs_data_projection.pkl')"
      ]
     },
     "metadata": {},
     "output_type": "display_data"
    },
    {
     "data": {
      "text/plain": [
       "PosixPath('/media/miltondp/Elements1/projects/phenoplier/results/drug_disease_analyses/data/smultixcan-mashr-zscores-projection.pkl')"
      ]
     },
     "metadata": {},
     "output_type": "display_data"
    },
    {
     "data": {
      "text/plain": [
       "PosixPath('/media/miltondp/Elements1/projects/phenoplier/results/drug_disease_analyses/data/spredixcan-mashr-zscores-Adipose_Subcutaneous-projection.pkl')"
      ]
     },
     "metadata": {},
     "output_type": "display_data"
    },
    {
     "data": {
      "text/plain": [
       "PosixPath('/media/miltondp/Elements1/projects/phenoplier/results/drug_disease_analyses/data/spredixcan-mashr-zscores-Adipose_Visceral_Omentum-projection.pkl')"
      ]
     },
     "metadata": {},
     "output_type": "display_data"
    },
    {
     "data": {
      "text/plain": [
       "PosixPath('/media/miltondp/Elements1/projects/phenoplier/results/drug_disease_analyses/data/spredixcan-mashr-zscores-Adrenal_Gland-projection.pkl')"
      ]
     },
     "metadata": {},
     "output_type": "display_data"
    },
    {
     "data": {
      "text/plain": [
       "PosixPath('/media/miltondp/Elements1/projects/phenoplier/results/drug_disease_analyses/data/spredixcan-mashr-zscores-Artery_Aorta-projection.pkl')"
      ]
     },
     "metadata": {},
     "output_type": "display_data"
    },
    {
     "data": {
      "text/plain": [
       "PosixPath('/media/miltondp/Elements1/projects/phenoplier/results/drug_disease_analyses/data/spredixcan-mashr-zscores-Artery_Coronary-projection.pkl')"
      ]
     },
     "metadata": {},
     "output_type": "display_data"
    },
    {
     "data": {
      "text/plain": [
       "PosixPath('/media/miltondp/Elements1/projects/phenoplier/results/drug_disease_analyses/data/spredixcan-mashr-zscores-Artery_Tibial-projection.pkl')"
      ]
     },
     "metadata": {},
     "output_type": "display_data"
    },
    {
     "data": {
      "text/plain": [
       "PosixPath('/media/miltondp/Elements1/projects/phenoplier/results/drug_disease_analyses/data/spredixcan-mashr-zscores-Brain_Amygdala-projection.pkl')"
      ]
     },
     "metadata": {},
     "output_type": "display_data"
    },
    {
     "data": {
      "text/plain": [
       "PosixPath('/media/miltondp/Elements1/projects/phenoplier/results/drug_disease_analyses/data/spredixcan-mashr-zscores-Brain_Caudate_basal_ganglia-projection.pkl')"
      ]
     },
     "metadata": {},
     "output_type": "display_data"
    },
    {
     "data": {
      "text/plain": [
       "PosixPath('/media/miltondp/Elements1/projects/phenoplier/results/drug_disease_analyses/data/spredixcan-mashr-zscores-Brain_Cerebellar_Hemisphere-projection.pkl')"
      ]
     },
     "metadata": {},
     "output_type": "display_data"
    },
    {
     "data": {
      "text/plain": [
       "PosixPath('/media/miltondp/Elements1/projects/phenoplier/results/drug_disease_analyses/data/spredixcan-mashr-zscores-Brain_Cortex-projection.pkl')"
      ]
     },
     "metadata": {},
     "output_type": "display_data"
    },
    {
     "data": {
      "text/plain": [
       "PosixPath('/media/miltondp/Elements1/projects/phenoplier/results/drug_disease_analyses/data/spredixcan-mashr-zscores-Brain_Frontal_Cortex_BA9-projection.pkl')"
      ]
     },
     "metadata": {},
     "output_type": "display_data"
    },
    {
     "data": {
      "text/plain": [
       "PosixPath('/media/miltondp/Elements1/projects/phenoplier/results/drug_disease_analyses/data/spredixcan-mashr-zscores-Brain_Hippocampus-projection.pkl')"
      ]
     },
     "metadata": {},
     "output_type": "display_data"
    },
    {
     "data": {
      "text/plain": [
       "PosixPath('/media/miltondp/Elements1/projects/phenoplier/results/drug_disease_analyses/data/spredixcan-mashr-zscores-Brain_Hypothalamus-projection.pkl')"
      ]
     },
     "metadata": {},
     "output_type": "display_data"
    },
    {
     "data": {
      "text/plain": [
       "PosixPath('/media/miltondp/Elements1/projects/phenoplier/results/drug_disease_analyses/data/spredixcan-mashr-zscores-Brain_Nucleus_accumbens_basal_ganglia-projection.pkl')"
      ]
     },
     "metadata": {},
     "output_type": "display_data"
    },
    {
     "data": {
      "text/plain": [
       "PosixPath('/media/miltondp/Elements1/projects/phenoplier/results/drug_disease_analyses/data/spredixcan-mashr-zscores-Brain_Putamen_basal_ganglia-projection.pkl')"
      ]
     },
     "metadata": {},
     "output_type": "display_data"
    },
    {
     "data": {
      "text/plain": [
       "PosixPath('/media/miltondp/Elements1/projects/phenoplier/results/drug_disease_analyses/data/spredixcan-mashr-zscores-Brain_Spinal_cord_cervical_c-1-projection.pkl')"
      ]
     },
     "metadata": {},
     "output_type": "display_data"
    },
    {
     "data": {
      "text/plain": [
       "PosixPath('/media/miltondp/Elements1/projects/phenoplier/results/drug_disease_analyses/data/spredixcan-mashr-zscores-Brain_Substantia_nigra-projection.pkl')"
      ]
     },
     "metadata": {},
     "output_type": "display_data"
    },
    {
     "data": {
      "text/plain": [
       "PosixPath('/media/miltondp/Elements1/projects/phenoplier/results/drug_disease_analyses/data/spredixcan-mashr-zscores-Breast_Mammary_Tissue-projection.pkl')"
      ]
     },
     "metadata": {},
     "output_type": "display_data"
    },
    {
     "data": {
      "text/plain": [
       "PosixPath('/media/miltondp/Elements1/projects/phenoplier/results/drug_disease_analyses/data/spredixcan-mashr-zscores-Cells_Cultured_fibroblasts-projection.pkl')"
      ]
     },
     "metadata": {},
     "output_type": "display_data"
    },
    {
     "data": {
      "text/plain": [
       "PosixPath('/media/miltondp/Elements1/projects/phenoplier/results/drug_disease_analyses/data/spredixcan-mashr-zscores-Colon_Sigmoid-projection.pkl')"
      ]
     },
     "metadata": {},
     "output_type": "display_data"
    },
    {
     "data": {
      "text/plain": [
       "PosixPath('/media/miltondp/Elements1/projects/phenoplier/results/drug_disease_analyses/data/spredixcan-mashr-zscores-Colon_Transverse-projection.pkl')"
      ]
     },
     "metadata": {},
     "output_type": "display_data"
    },
    {
     "data": {
      "text/plain": [
       "PosixPath('/media/miltondp/Elements1/projects/phenoplier/results/drug_disease_analyses/data/spredixcan-mashr-zscores-Esophagus_Gastroesophageal_Junction-projection.pkl')"
      ]
     },
     "metadata": {},
     "output_type": "display_data"
    },
    {
     "data": {
      "text/plain": [
       "PosixPath('/media/miltondp/Elements1/projects/phenoplier/results/drug_disease_analyses/data/spredixcan-most_signif-projection.pkl')"
      ]
     },
     "metadata": {},
     "output_type": "display_data"
    }
   ],
   "source": [
    "for f in current_prediction_files:\n",
    "    display(f)\n",
    "    f.unlink()"
   ]
  },
  {
   "cell_type": "code",
   "execution_count": null,
   "metadata": {},
   "outputs": [],
   "source": []
  }
 ],
 "metadata": {
  "jupytext": {
   "formats": "ipynb,py//py:percent"
  },
  "kernelspec": {
   "display_name": "Python 3",
   "language": "python",
   "name": "python3"
  },
  "language_info": {
   "codemirror_mode": {
    "name": "ipython",
    "version": 3
   },
   "file_extension": ".py",
   "mimetype": "text/x-python",
   "name": "python",
   "nbconvert_exporter": "python",
   "pygments_lexer": "ipython3",
   "version": "3.8.6"
  },
  "papermill": {
   "default_parameters": {},
   "duration": 4334.257345,
   "end_time": "2020-12-18T23:50:34.771313",
   "environment_variables": {},
   "exception": null,
   "input_path": "15_drug_disease_associations/000-spredixcan_most_significant.ipynb",
   "output_path": "15_drug_disease_associations/000-spredixcan_most_significant.run.ipynb",
   "parameters": {},
   "start_time": "2020-12-18T22:38:20.513968",
   "version": "2.2.2"
  }
 },
 "nbformat": 4,
 "nbformat_minor": 4
}
