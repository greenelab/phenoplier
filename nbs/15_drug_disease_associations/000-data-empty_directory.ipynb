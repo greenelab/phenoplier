{
 "cells": [
  {
   "cell_type": "markdown",
   "metadata": {
    "papermill": {
     "duration": 0.007976,
     "end_time": "2020-12-23T17:59:22.240217",
     "exception": false,
     "start_time": "2020-12-23T17:59:22.232241",
     "status": "completed"
    },
    "tags": []
   },
   "source": [
    "# Description"
   ]
  },
  {
   "cell_type": "markdown",
   "metadata": {
    "papermill": {
     "duration": 0.003976,
     "end_time": "2020-12-23T17:59:22.248255",
     "exception": false,
     "start_time": "2020-12-23T17:59:22.244279",
     "status": "completed"
    },
    "tags": []
   },
   "source": [
    "It makes sure that the data directory for predictions is empty before these notebooks are run.\n",
    "\n",
    "Do I need this?"
   ]
  },
  {
   "cell_type": "markdown",
   "metadata": {
    "papermill": {
     "duration": 0.003769,
     "end_time": "2020-12-23T17:59:22.255905",
     "exception": false,
     "start_time": "2020-12-23T17:59:22.252136",
     "status": "completed"
    },
    "tags": []
   },
   "source": [
    "# Modules loading"
   ]
  },
  {
   "cell_type": "code",
   "execution_count": 1,
   "metadata": {
    "papermill": {
     "duration": 0.014707,
     "end_time": "2020-12-23T17:59:22.274511",
     "exception": false,
     "start_time": "2020-12-23T17:59:22.259804",
     "status": "completed"
    },
    "tags": []
   },
   "outputs": [],
   "source": [
    "%load_ext autoreload\n",
    "%autoreload 2"
   ]
  },
  {
   "cell_type": "code",
   "execution_count": 2,
   "metadata": {
    "papermill": {
     "duration": 0.211138,
     "end_time": "2020-12-23T17:59:22.489841",
     "exception": false,
     "start_time": "2020-12-23T17:59:22.278703",
     "status": "completed"
    },
    "tags": []
   },
   "outputs": [],
   "source": [
    "from pathlib import Path\n",
    "\n",
    "import numpy as np\n",
    "import pandas as pd\n",
    "\n",
    "import conf"
   ]
  },
  {
   "cell_type": "markdown",
   "metadata": {
    "papermill": {
     "duration": 0.004028,
     "end_time": "2020-12-23T17:59:22.498156",
     "exception": false,
     "start_time": "2020-12-23T17:59:22.494128",
     "status": "completed"
    },
    "tags": []
   },
   "source": [
    "# Settings"
   ]
  },
  {
   "cell_type": "code",
   "execution_count": 3,
   "metadata": {
    "papermill": {
     "duration": 0.018476,
     "end_time": "2020-12-23T17:59:22.520574",
     "exception": false,
     "start_time": "2020-12-23T17:59:22.502098",
     "status": "completed"
    },
    "tags": []
   },
   "outputs": [
    {
     "data": {
      "text/plain": [
       "PosixPath('/home/miltondp/projects/labs/greenelab/phenoplier/base/results/drug_disease_analyses')"
      ]
     },
     "metadata": {},
     "output_type": "display_data"
    }
   ],
   "source": [
    "OUTPUT_DIR = conf.RESULTS[\"DRUG_DISEASE_ANALYSES\"]\n",
    "display(OUTPUT_DIR)\n",
    "OUTPUT_DIR.mkdir(parents=True, exist_ok=True)"
   ]
  },
  {
   "cell_type": "code",
   "execution_count": 4,
   "metadata": {
    "papermill": {
     "duration": 0.014514,
     "end_time": "2020-12-23T17:59:22.539593",
     "exception": false,
     "start_time": "2020-12-23T17:59:22.525079",
     "status": "completed"
    },
    "tags": []
   },
   "outputs": [
    {
     "data": {
      "text/plain": [
       "PosixPath('/home/miltondp/projects/labs/greenelab/phenoplier/base/results/drug_disease_analyses/data')"
      ]
     },
     "metadata": {},
     "output_type": "display_data"
    }
   ],
   "source": [
    "OUTPUT_DATA_DIR = Path(OUTPUT_DIR, \"data\")\n",
    "display(OUTPUT_DATA_DIR)\n",
    "OUTPUT_DATA_DIR.mkdir(parents=True, exist_ok=True)"
   ]
  },
  {
   "cell_type": "markdown",
   "metadata": {
    "papermill": {
     "duration": 0.004541,
     "end_time": "2020-12-23T17:59:22.548952",
     "exception": false,
     "start_time": "2020-12-23T17:59:22.544411",
     "status": "completed"
    },
    "tags": []
   },
   "source": [
    "# Remove previous predictions"
   ]
  },
  {
   "cell_type": "code",
   "execution_count": 5,
   "metadata": {
    "papermill": {
     "duration": 0.014057,
     "end_time": "2020-12-23T17:59:22.567665",
     "exception": false,
     "start_time": "2020-12-23T17:59:22.553608",
     "status": "completed"
    },
    "tags": []
   },
   "outputs": [],
   "source": [
    "current_prediction_files = OUTPUT_DATA_DIR.rglob(\"*.pkl\")"
   ]
  },
  {
   "cell_type": "code",
   "execution_count": 6,
   "metadata": {
    "papermill": {
     "duration": 1.185649,
     "end_time": "2020-12-23T17:59:23.758106",
     "exception": false,
     "start_time": "2020-12-23T17:59:22.572457",
     "status": "completed"
    },
    "tags": []
   },
   "outputs": [],
   "source": [
    "for f in current_prediction_files:\n",
    "    display(f)\n",
    "    f.unlink()"
   ]
  },
  {
   "cell_type": "code",
   "execution_count": null,
   "metadata": {
    "papermill": {
     "duration": 0.027515,
     "end_time": "2020-12-23T17:59:23.813540",
     "exception": false,
     "start_time": "2020-12-23T17:59:23.786025",
     "status": "completed"
    },
    "tags": []
   },
   "outputs": [],
   "source": []
  }
 ],
 "metadata": {
  "jupytext": {
   "cell_metadata_filter": "all,-execution,-papermill,-trusted",
   "formats": "ipynb,py//py:percent"
  },
  "kernelspec": {
   "display_name": "Python 3",
   "language": "python",
   "name": "python3"
  },
  "language_info": {
   "codemirror_mode": {
    "name": "ipython",
    "version": 3
   },
   "file_extension": ".py",
   "mimetype": "text/x-python",
   "name": "python",
   "nbconvert_exporter": "python",
   "pygments_lexer": "ipython3",
   "version": "3.8.8"
  },
  "papermill": {
   "default_parameters": {},
   "duration": 2.699124,
   "end_time": "2020-12-23T17:59:24.147006",
   "environment_variables": {},
   "exception": null,
   "input_path": "15_drug_disease_associations/000-data-empty_directory.ipynb",
   "output_path": "15_drug_disease_associations/000-data-empty_directory.run.ipynb",
   "parameters": {},
   "start_time": "2020-12-23T17:59:21.447882",
   "version": "2.2.2"
  }
 },
 "nbformat": 4,
 "nbformat_minor": 4
}
