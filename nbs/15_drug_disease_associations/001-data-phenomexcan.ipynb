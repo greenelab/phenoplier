{
 "cells": [
  {
   "cell_type": "markdown",
   "metadata": {
    "papermill": {
     "duration": 0.044577,
     "end_time": "2020-12-18T22:38:21.345879",
     "exception": false,
     "start_time": "2020-12-18T22:38:21.301302",
     "status": "completed"
    },
    "tags": []
   },
   "source": [
    "# Description"
   ]
  },
  {
   "cell_type": "markdown",
   "metadata": {
    "papermill": {
     "duration": 0.011764,
     "end_time": "2020-12-18T22:38:21.398073",
     "exception": false,
     "start_time": "2020-12-18T22:38:21.386309",
     "status": "completed"
    },
    "tags": []
   },
   "source": [
    "**TODO**: should probably be moved to preprocessing folder."
   ]
  },
  {
   "cell_type": "markdown",
   "metadata": {
    "papermill": {
     "duration": 0.011799,
     "end_time": "2020-12-18T22:38:21.422136",
     "exception": false,
     "start_time": "2020-12-18T22:38:21.410337",
     "status": "completed"
    },
    "tags": []
   },
   "source": [
    "# Modules loading"
   ]
  },
  {
   "cell_type": "code",
   "execution_count": null,
   "metadata": {
    "papermill": {
     "duration": 0.022467,
     "end_time": "2020-12-18T22:38:21.456126",
     "exception": false,
     "start_time": "2020-12-18T22:38:21.433659",
     "status": "completed"
    },
    "tags": []
   },
   "outputs": [],
   "source": [
    "%load_ext autoreload\n",
    "%autoreload 2"
   ]
  },
  {
   "cell_type": "code",
   "execution_count": null,
   "metadata": {
    "papermill": {
     "duration": 0.192251,
     "end_time": "2020-12-18T22:38:21.659996",
     "exception": false,
     "start_time": "2020-12-18T22:38:21.467745",
     "status": "completed"
    },
    "tags": []
   },
   "outputs": [],
   "source": [
    "from IPython.display import display\n",
    "from pathlib import Path\n",
    "\n",
    "import pandas as pd\n",
    "\n",
    "import conf\n",
    "from multiplier import MultiplierProjection"
   ]
  },
  {
   "cell_type": "markdown",
   "metadata": {
    "papermill": {
     "duration": 0.011416,
     "end_time": "2020-12-18T22:38:21.683356",
     "exception": false,
     "start_time": "2020-12-18T22:38:21.671940",
     "status": "completed"
    },
    "tags": []
   },
   "source": [
    "# Settings"
   ]
  },
  {
   "cell_type": "code",
   "execution_count": null,
   "metadata": {},
   "outputs": [],
   "source": [
    "OUTPUT_DIR = conf.RESULTS[\"DRUG_DISEASE_ANALYSES\"]\n",
    "display(OUTPUT_DIR)\n",
    "OUTPUT_DIR.mkdir(parents=True, exist_ok=True)"
   ]
  },
  {
   "cell_type": "code",
   "execution_count": null,
   "metadata": {},
   "outputs": [],
   "source": [
    "OUTPUT_DATA_DIR = Path(OUTPUT_DIR, \"data\")\n",
    "display(OUTPUT_DATA_DIR)\n",
    "OUTPUT_DATA_DIR.mkdir(parents=True, exist_ok=True)"
   ]
  },
  {
   "cell_type": "code",
   "execution_count": null,
   "metadata": {},
   "outputs": [],
   "source": [
    "OUTPUT_RAW_DATA_DIR = Path(OUTPUT_DATA_DIR, \"raw\")\n",
    "display(OUTPUT_RAW_DATA_DIR)\n",
    "OUTPUT_RAW_DATA_DIR.mkdir(parents=True, exist_ok=True)"
   ]
  },
  {
   "cell_type": "code",
   "execution_count": null,
   "metadata": {},
   "outputs": [],
   "source": [
    "OUTPUT_PROJ_DATA_DIR = Path(OUTPUT_DATA_DIR, \"proj\")\n",
    "display(OUTPUT_PROJ_DATA_DIR)\n",
    "OUTPUT_PROJ_DATA_DIR.mkdir(parents=True, exist_ok=True)"
   ]
  },
  {
   "cell_type": "markdown",
   "metadata": {},
   "source": [
    "# Load PhenomeXcan results"
   ]
  },
  {
   "cell_type": "code",
   "execution_count": null,
   "metadata": {},
   "outputs": [],
   "source": [
    "input_file_list = [\n",
    "    conf.PHENOMEXCAN[\"SMULTIXCAN_MASHR_ZSCORES_FILE\"],\n",
    "    Path(\n",
    "        conf.PHENOMEXCAN[\"SPREDIXCAN_MASHR_ZSCORES_FOLDER\"],\n",
    "        \"most_signif\",\n",
    "        \"spredixcan-most_signif.pkl\",\n",
    "    ),\n",
    "]"
   ]
  },
  {
   "cell_type": "code",
   "execution_count": null,
   "metadata": {},
   "outputs": [],
   "source": [
    "# add S-PrediXcan results for each tissue\n",
    "input_file_list = input_file_list + [\n",
    "    f\n",
    "    for f in Path(conf.PHENOMEXCAN[\"SPREDIXCAN_MASHR_ZSCORES_FOLDER\"], \"pkl\").glob(\n",
    "        \"*.pkl\"\n",
    "    )\n",
    "]"
   ]
  },
  {
   "cell_type": "code",
   "execution_count": null,
   "metadata": {},
   "outputs": [],
   "source": [
    "_tmp = len(input_file_list)\n",
    "display(_tmp)\n",
    "assert _tmp == 51"
   ]
  },
  {
   "cell_type": "code",
   "execution_count": null,
   "metadata": {},
   "outputs": [],
   "source": [
    "for input_file in input_file_list:\n",
    "    print(input_file.name)\n",
    "\n",
    "    # read data\n",
    "    phenomexcan_data = pd.read_pickle(input_file)\n",
    "    print(f\"  shape: {phenomexcan_data.shape}\")\n",
    "\n",
    "    assert phenomexcan_data.index.is_unique\n",
    "    assert phenomexcan_data.columns.is_unique\n",
    "\n",
    "    phenomexcan_data = phenomexcan_data.dropna(how=\"any\")\n",
    "    print(f\"  shape (no NaN): {phenomexcan_data.shape}\")\n",
    "    assert not phenomexcan_data.isna().any().any()\n",
    "\n",
    "    output_file = Path(OUTPUT_RAW_DATA_DIR, f\"{input_file.stem}-data.pkl\").resolve()\n",
    "    print(f\"  saving to: {str(output_file)}\")\n",
    "    phenomexcan_data.to_pickle(output_file)\n",
    "\n",
    "    # project\n",
    "    print(\"  projecting...\")\n",
    "    mproj = MultiplierProjection()\n",
    "    phenomexcan_projection = mproj.transform(phenomexcan_data)\n",
    "    print(f\"    shape: {phenomexcan_projection.shape}\")\n",
    "\n",
    "    output_file = Path(\n",
    "        OUTPUT_PROJ_DATA_DIR, f\"{input_file.stem}-projection.pkl\"\n",
    "    ).resolve()\n",
    "    print(f\"    saving to: {str(output_file)}\")\n",
    "    phenomexcan_projection.to_pickle(output_file)\n",
    "\n",
    "    print(\"\")"
   ]
  },
  {
   "cell_type": "code",
   "execution_count": null,
   "metadata": {},
   "outputs": [],
   "source": []
  }
 ],
 "metadata": {
  "jupytext": {
   "formats": "ipynb,py//py:percent"
  },
  "kernelspec": {
   "display_name": "Python 3",
   "language": "python",
   "name": "python3"
  },
  "language_info": {
   "codemirror_mode": {
    "name": "ipython",
    "version": 3
   },
   "file_extension": ".py",
   "mimetype": "text/x-python",
   "name": "python",
   "nbconvert_exporter": "python",
   "pygments_lexer": "ipython3",
   "version": "3.8.6"
  },
  "papermill": {
   "default_parameters": {},
   "duration": 4334.257345,
   "end_time": "2020-12-18T23:50:34.771313",
   "environment_variables": {},
   "exception": null,
   "input_path": "15_drug_disease_associations/000-spredixcan_most_significant.ipynb",
   "output_path": "15_drug_disease_associations/000-spredixcan_most_significant.run.ipynb",
   "parameters": {},
   "start_time": "2020-12-18T22:38:20.513968",
   "version": "2.2.2"
  }
 },
 "nbformat": 4,
 "nbformat_minor": 4
}
