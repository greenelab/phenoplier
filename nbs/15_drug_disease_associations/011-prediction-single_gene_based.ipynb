{
 "cells": [
  {
   "cell_type": "markdown",
   "metadata": {
    "papermill": {
     "duration": 0.039383,
     "end_time": "2020-12-23T18:05:20.790329",
     "exception": false,
     "start_time": "2020-12-23T18:05:20.750946",
     "status": "completed"
    },
    "tags": []
   },
   "source": [
    "# Description"
   ]
  },
  {
   "cell_type": "markdown",
   "metadata": {
    "papermill": {
     "duration": 0.010248,
     "end_time": "2020-12-23T18:05:20.814612",
     "exception": false,
     "start_time": "2020-12-23T18:05:20.804364",
     "status": "completed"
    },
    "tags": []
   },
   "source": [
    "**TODO**"
   ]
  },
  {
   "cell_type": "markdown",
   "metadata": {
    "papermill": {
     "duration": 0.009786,
     "end_time": "2020-12-23T18:05:20.834637",
     "exception": false,
     "start_time": "2020-12-23T18:05:20.824851",
     "status": "completed"
    },
    "tags": []
   },
   "source": [
    "# Modules loading"
   ]
  },
  {
   "cell_type": "code",
   "execution_count": null,
   "metadata": {
    "papermill": {
     "duration": 0.022074,
     "end_time": "2020-12-23T18:05:20.866594",
     "exception": false,
     "start_time": "2020-12-23T18:05:20.844520",
     "status": "completed"
    },
    "tags": []
   },
   "outputs": [],
   "source": [
    "%load_ext autoreload\n",
    "%autoreload 2"
   ]
  },
  {
   "cell_type": "code",
   "execution_count": null,
   "metadata": {
    "papermill": {
     "duration": 0.238689,
     "end_time": "2020-12-23T18:05:21.115690",
     "exception": false,
     "start_time": "2020-12-23T18:05:20.877001",
     "status": "completed"
    },
    "tags": []
   },
   "outputs": [],
   "source": [
    "from IPython.display import display\n",
    "from pathlib import Path\n",
    "\n",
    "import pandas as pd\n",
    "\n",
    "import conf"
   ]
  },
  {
   "cell_type": "markdown",
   "metadata": {
    "papermill": {
     "duration": 0.010343,
     "end_time": "2020-12-23T18:05:21.136621",
     "exception": false,
     "start_time": "2020-12-23T18:05:21.126278",
     "status": "completed"
    },
    "tags": []
   },
   "source": [
    "# Settings"
   ]
  },
  {
   "cell_type": "code",
   "execution_count": null,
   "metadata": {
    "papermill": {
     "duration": 0.020294,
     "end_time": "2020-12-23T18:05:21.166974",
     "exception": false,
     "start_time": "2020-12-23T18:05:21.146680",
     "status": "completed"
    },
    "tags": []
   },
   "outputs": [],
   "source": [
    "# if True, then it doesn't check if result files already exist and runs everything again\n",
    "FORCE_RUN = False"
   ]
  },
  {
   "cell_type": "code",
   "execution_count": null,
   "metadata": {
    "papermill": {
     "duration": 0.020017,
     "end_time": "2020-12-23T18:05:21.197349",
     "exception": false,
     "start_time": "2020-12-23T18:05:21.177332",
     "status": "completed"
    },
    "tags": []
   },
   "outputs": [],
   "source": [
    "PREDICTION_METHOD = \"Gene-based\""
   ]
  },
  {
   "cell_type": "code",
   "execution_count": null,
   "metadata": {
    "papermill": {
     "duration": 0.026973,
     "end_time": "2020-12-23T18:05:21.234826",
     "exception": false,
     "start_time": "2020-12-23T18:05:21.207853",
     "status": "completed"
    },
    "tags": []
   },
   "outputs": [],
   "source": [
    "OUTPUT_DIR = conf.RESULTS[\"DRUG_DISEASE_ANALYSES\"]\n",
    "display(OUTPUT_DIR)\n",
    "OUTPUT_DIR.mkdir(parents=True, exist_ok=True)"
   ]
  },
  {
   "cell_type": "code",
   "execution_count": null,
   "metadata": {
    "papermill": {
     "duration": 0.022135,
     "end_time": "2020-12-23T18:05:21.268833",
     "exception": false,
     "start_time": "2020-12-23T18:05:21.246698",
     "status": "completed"
    },
    "tags": []
   },
   "outputs": [],
   "source": [
    "# OUTPUT_DATA_DIR = Path(OUTPUT_DIR, \"data\")\n",
    "# display(OUTPUT_DATA_DIR)\n",
    "# OUTPUT_DATA_DIR.mkdir(parents=True, exist_ok=True)"
   ]
  },
  {
   "cell_type": "code",
   "execution_count": null,
   "metadata": {
    "papermill": {
     "duration": 0.025055,
     "end_time": "2020-12-23T18:05:21.305648",
     "exception": false,
     "start_time": "2020-12-23T18:05:21.280593",
     "status": "completed"
    },
    "tags": []
   },
   "outputs": [],
   "source": [
    "INPUT_DATA_DIR = Path(\n",
    "    OUTPUT_DIR,\n",
    "    \"data\",\n",
    "    \"raw\",\n",
    ")\n",
    "display(INPUT_DATA_DIR)\n",
    "INPUT_DATA_DIR.mkdir(parents=True, exist_ok=True)"
   ]
  },
  {
   "cell_type": "code",
   "execution_count": null,
   "metadata": {
    "papermill": {
     "duration": 0.021082,
     "end_time": "2020-12-23T18:05:21.337916",
     "exception": false,
     "start_time": "2020-12-23T18:05:21.316834",
     "status": "completed"
    },
    "tags": []
   },
   "outputs": [],
   "source": [
    "OUTPUT_PREDICTIONS_DIR = Path(OUTPUT_DIR, \"predictions\")\n",
    "display(OUTPUT_PREDICTIONS_DIR)\n",
    "OUTPUT_PREDICTIONS_DIR.mkdir(parents=True, exist_ok=True)"
   ]
  },
  {
   "cell_type": "markdown",
   "metadata": {
    "papermill": {
     "duration": 0.010727,
     "end_time": "2020-12-23T18:05:21.359594",
     "exception": false,
     "start_time": "2020-12-23T18:05:21.348867",
     "status": "completed"
    },
    "tags": []
   },
   "source": [
    "# Load PharmacotherapyDB gold standard"
   ]
  },
  {
   "cell_type": "code",
   "execution_count": null,
   "metadata": {
    "papermill": {
     "duration": 0.021616,
     "end_time": "2020-12-23T18:05:21.392509",
     "exception": false,
     "start_time": "2020-12-23T18:05:21.370893",
     "status": "completed"
    },
    "tags": []
   },
   "outputs": [],
   "source": [
    "gold_standard = pd.read_pickle(\n",
    "    Path(OUTPUT_DIR, \"gold_standard.pkl\"),\n",
    ")"
   ]
  },
  {
   "cell_type": "code",
   "execution_count": null,
   "metadata": {
    "papermill": {
     "duration": 0.021491,
     "end_time": "2020-12-23T18:05:21.425152",
     "exception": false,
     "start_time": "2020-12-23T18:05:21.403661",
     "status": "completed"
    },
    "tags": []
   },
   "outputs": [],
   "source": [
    "display(gold_standard.shape)"
   ]
  },
  {
   "cell_type": "code",
   "execution_count": null,
   "metadata": {
    "papermill": {
     "duration": 0.02498,
     "end_time": "2020-12-23T18:05:21.461457",
     "exception": false,
     "start_time": "2020-12-23T18:05:21.436477",
     "status": "completed"
    },
    "tags": []
   },
   "outputs": [],
   "source": [
    "display(gold_standard.head())"
   ]
  },
  {
   "cell_type": "code",
   "execution_count": null,
   "metadata": {
    "papermill": {
     "duration": 0.02083,
     "end_time": "2020-12-23T18:05:21.493934",
     "exception": false,
     "start_time": "2020-12-23T18:05:21.473104",
     "status": "completed"
    },
    "tags": []
   },
   "outputs": [],
   "source": [
    "doids_in_gold_standard = set(gold_standard[\"trait\"])"
   ]
  },
  {
   "cell_type": "markdown",
   "metadata": {
    "papermill": {
     "duration": 0.011148,
     "end_time": "2020-12-23T18:05:21.516609",
     "exception": false,
     "start_time": "2020-12-23T18:05:21.505461",
     "status": "completed"
    },
    "tags": []
   },
   "source": [
    "# Load LINCS"
   ]
  },
  {
   "cell_type": "markdown",
   "metadata": {
    "papermill": {
     "duration": 0.010843,
     "end_time": "2020-12-23T18:05:21.538630",
     "exception": false,
     "start_time": "2020-12-23T18:05:21.527787",
     "status": "completed"
    },
    "tags": []
   },
   "source": [
    "## Raw data"
   ]
  },
  {
   "cell_type": "code",
   "execution_count": null,
   "metadata": {
    "papermill": {
     "duration": 0.021893,
     "end_time": "2020-12-23T18:05:21.572955",
     "exception": false,
     "start_time": "2020-12-23T18:05:21.551062",
     "status": "completed"
    },
    "tags": []
   },
   "outputs": [],
   "source": [
    "input_file = Path(INPUT_DATA_DIR, \"lincs-data.pkl\").resolve()\n",
    "\n",
    "display(input_file)"
   ]
  },
  {
   "cell_type": "code",
   "execution_count": null,
   "metadata": {
    "papermill": {
     "duration": 0.050725,
     "end_time": "2020-12-23T18:05:21.635650",
     "exception": false,
     "start_time": "2020-12-23T18:05:21.584925",
     "status": "completed"
    },
    "tags": []
   },
   "outputs": [],
   "source": [
    "lincs_projection = pd.read_pickle(input_file)"
   ]
  },
  {
   "cell_type": "code",
   "execution_count": null,
   "metadata": {
    "papermill": {
     "duration": 0.022481,
     "end_time": "2020-12-23T18:05:21.671018",
     "exception": false,
     "start_time": "2020-12-23T18:05:21.648537",
     "status": "completed"
    },
    "tags": []
   },
   "outputs": [],
   "source": [
    "display(lincs_projection.shape)"
   ]
  },
  {
   "cell_type": "code",
   "execution_count": null,
   "metadata": {
    "papermill": {
     "duration": 0.034702,
     "end_time": "2020-12-23T18:05:21.718059",
     "exception": false,
     "start_time": "2020-12-23T18:05:21.683357",
     "status": "completed"
    },
    "tags": []
   },
   "outputs": [],
   "source": [
    "display(lincs_projection.head())"
   ]
  },
  {
   "cell_type": "markdown",
   "metadata": {
    "papermill": {
     "duration": 0.012171,
     "end_time": "2020-12-23T18:05:21.743039",
     "exception": false,
     "start_time": "2020-12-23T18:05:21.730868",
     "status": "completed"
    },
    "tags": []
   },
   "source": [
    "# Load S-PrediXcan"
   ]
  },
  {
   "cell_type": "code",
   "execution_count": null,
   "metadata": {
    "papermill": {
     "duration": 0.224496,
     "end_time": "2020-12-23T18:05:21.980123",
     "exception": false,
     "start_time": "2020-12-23T18:05:21.755627",
     "status": "completed"
    },
    "tags": []
   },
   "outputs": [],
   "source": [
    "from entity import Trait"
   ]
  },
  {
   "cell_type": "code",
   "execution_count": null,
   "metadata": {
    "papermill": {
     "duration": 0.023597,
     "end_time": "2020-12-23T18:05:22.017319",
     "exception": false,
     "start_time": "2020-12-23T18:05:21.993722",
     "status": "completed"
    },
    "tags": []
   },
   "outputs": [],
   "source": [
    "phenomexcan_input_file_list = [\n",
    "    f\n",
    "    for f in INPUT_DATA_DIR.glob(\"*.pkl\")\n",
    "    if f.name.startswith((\"smultixcan-\", \"spredixcan-\"))\n",
    "]"
   ]
  },
  {
   "cell_type": "code",
   "execution_count": null,
   "metadata": {
    "papermill": {
     "duration": 0.022527,
     "end_time": "2020-12-23T18:05:22.052846",
     "exception": false,
     "start_time": "2020-12-23T18:05:22.030319",
     "status": "completed"
    },
    "tags": []
   },
   "outputs": [],
   "source": [
    "display(len(phenomexcan_input_file_list))"
   ]
  },
  {
   "cell_type": "markdown",
   "metadata": {
    "papermill": {
     "duration": 0.013435,
     "end_time": "2020-12-23T18:05:22.078841",
     "exception": false,
     "start_time": "2020-12-23T18:05:22.065406",
     "status": "completed"
    },
    "tags": []
   },
   "source": [
    "# Predict drug-disease associations"
   ]
  },
  {
   "cell_type": "code",
   "execution_count": null,
   "metadata": {
    "papermill": {
     "duration": 0.028271,
     "end_time": "2020-12-23T18:05:22.083712",
     "exception": false,
     "start_time": "2020-12-23T18:05:22.055441",
     "status": "completed"
    },
    "tags": []
   },
   "outputs": [],
   "source": [
    "from drug_disease import (\n",
    "    predict_dotprod,\n",
    "    predict_dotprod_neg,\n",
    "    predict_pearson,\n",
    "    predict_pearson_neg,\n",
    "    predict_spearman,\n",
    "    predict_spearman_neg,\n",
    ")"
   ]
  },
  {
   "cell_type": "code",
   "execution_count": null,
   "metadata": {
    "papermill": {
     "duration": 2059.56362,
     "end_time": "2020-12-23T18:39:41.691237",
     "exception": false,
     "start_time": "2020-12-23T18:05:22.127617",
     "status": "completed"
    },
    "tags": []
   },
   "outputs": [],
   "source": [
    "for phenomexcan_input_file in phenomexcan_input_file_list:\n",
    "    print(phenomexcan_input_file.name)\n",
    "\n",
    "    # read phenomexcan data\n",
    "    phenomexcan_projection = pd.read_pickle(phenomexcan_input_file)\n",
    "\n",
    "    # get common genes with lincs\n",
    "    common_genes = phenomexcan_projection.index.intersection(lincs_projection.index)\n",
    "    phenomexcan_projection = phenomexcan_projection.loc[common_genes]\n",
    "    lincs_projection = lincs_projection.loc[common_genes]\n",
    "\n",
    "    print(f\"  shape: {phenomexcan_projection.shape}\")\n",
    "\n",
    "    predict_dotprod(\n",
    "        lincs_projection,\n",
    "        phenomexcan_input_file,\n",
    "        phenomexcan_projection,\n",
    "        OUTPUT_PREDICTIONS_DIR,\n",
    "        PREDICTION_METHOD,\n",
    "        doids_in_gold_standard,\n",
    "        FORCE_RUN,\n",
    "    )\n",
    "\n",
    "    predict_dotprod_neg(\n",
    "        lincs_projection,\n",
    "        phenomexcan_input_file,\n",
    "        phenomexcan_projection,\n",
    "        OUTPUT_PREDICTIONS_DIR,\n",
    "        PREDICTION_METHOD,\n",
    "        doids_in_gold_standard,\n",
    "        FORCE_RUN,\n",
    "    )\n",
    "\n",
    "    predict_pearson(\n",
    "        lincs_projection,\n",
    "        phenomexcan_input_file,\n",
    "        phenomexcan_projection,\n",
    "        OUTPUT_PREDICTIONS_DIR,\n",
    "        PREDICTION_METHOD,\n",
    "        doids_in_gold_standard,\n",
    "        FORCE_RUN,\n",
    "    )\n",
    "\n",
    "    predict_pearson_neg(\n",
    "        lincs_projection,\n",
    "        phenomexcan_input_file,\n",
    "        phenomexcan_projection,\n",
    "        OUTPUT_PREDICTIONS_DIR,\n",
    "        PREDICTION_METHOD,\n",
    "        doids_in_gold_standard,\n",
    "        FORCE_RUN,\n",
    "    )\n",
    "\n",
    "    predict_spearman(\n",
    "        lincs_projection,\n",
    "        phenomexcan_input_file,\n",
    "        phenomexcan_projection,\n",
    "        OUTPUT_PREDICTIONS_DIR,\n",
    "        PREDICTION_METHOD,\n",
    "        doids_in_gold_standard,\n",
    "        FORCE_RUN,\n",
    "    )\n",
    "\n",
    "    predict_spearman_neg(\n",
    "        lincs_projection,\n",
    "        phenomexcan_input_file,\n",
    "        phenomexcan_projection,\n",
    "        OUTPUT_PREDICTIONS_DIR,\n",
    "        PREDICTION_METHOD,\n",
    "        doids_in_gold_standard,\n",
    "        FORCE_RUN,\n",
    "    )\n",
    "\n",
    "    print(\"\\n\")"
   ]
  },
  {
   "cell_type": "code",
   "execution_count": null,
   "metadata": {
    "papermill": {
     "duration": 0.113934,
     "end_time": "2020-12-23T18:39:41.917951",
     "exception": false,
     "start_time": "2020-12-23T18:39:41.804017",
     "status": "completed"
    },
    "tags": []
   },
   "outputs": [],
   "source": []
  }
 ],
 "metadata": {
  "jupytext": {
   "formats": "ipynb,py//py:percent"
  },
  "kernelspec": {
   "display_name": "Python 3",
   "language": "python",
   "name": "python3"
  },
  "language_info": {
   "codemirror_mode": {
    "name": "ipython",
    "version": 3
   },
   "file_extension": ".py",
   "mimetype": "text/x-python",
   "name": "python",
   "nbconvert_exporter": "python",
   "pygments_lexer": "ipython3",
   "version": "3.8.6"
  },
  "papermill": {
   "default_parameters": {},
   "duration": 2062.379769,
   "end_time": "2020-12-23T18:39:42.339345",
   "environment_variables": {},
   "exception": null,
   "input_path": "15_drug_disease_associations/011-prediction-single_gene_based.ipynb",
   "output_path": "15_drug_disease_associations/011-prediction-single_gene_based.run.ipynb",
   "parameters": {},
   "start_time": "2020-12-23T18:05:19.959576",
   "version": "2.2.2"
  }
 },
 "nbformat": 4,
 "nbformat_minor": 4
}
