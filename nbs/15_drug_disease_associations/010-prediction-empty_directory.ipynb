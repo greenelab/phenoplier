{
 "cells": [
  {
   "cell_type": "markdown",
   "metadata": {
    "papermill": {
     "duration": 0.019234,
     "end_time": "2020-12-23T18:04:57.485194",
     "exception": false,
     "start_time": "2020-12-23T18:04:57.465960",
     "status": "completed"
    },
    "tags": []
   },
   "source": [
    "# Description"
   ]
  },
  {
   "cell_type": "markdown",
   "metadata": {
    "papermill": {
     "duration": 0.008833,
     "end_time": "2020-12-23T18:04:57.510470",
     "exception": false,
     "start_time": "2020-12-23T18:04:57.501637",
     "status": "completed"
    },
    "tags": []
   },
   "source": [
    "It makes sure that the output directory for predictions is empty before these notebooks are run."
   ]
  },
  {
   "cell_type": "markdown",
   "metadata": {
    "papermill": {
     "duration": 0.00523,
     "end_time": "2020-12-23T18:04:57.522081",
     "exception": false,
     "start_time": "2020-12-23T18:04:57.516851",
     "status": "completed"
    },
    "tags": []
   },
   "source": [
    "# Modules loading"
   ]
  },
  {
   "cell_type": "code",
   "execution_count": 1,
   "metadata": {
    "execution": {
     "iopub.execute_input": "2020-12-23T18:04:57.535044Z",
     "iopub.status.busy": "2020-12-23T18:04:57.533928Z",
     "iopub.status.idle": "2020-12-23T18:04:57.542196Z",
     "shell.execute_reply": "2020-12-23T18:04:57.541722Z"
    },
    "papermill": {
     "duration": 0.015659,
     "end_time": "2020-12-23T18:04:57.542339",
     "exception": false,
     "start_time": "2020-12-23T18:04:57.526680",
     "status": "completed"
    },
    "tags": []
   },
   "outputs": [],
   "source": [
    "%load_ext autoreload\n",
    "%autoreload 2"
   ]
  },
  {
   "cell_type": "code",
   "execution_count": 2,
   "metadata": {
    "execution": {
     "iopub.execute_input": "2020-12-23T18:04:57.553129Z",
     "iopub.status.busy": "2020-12-23T18:04:57.552743Z",
     "iopub.status.idle": "2020-12-23T18:04:57.729801Z",
     "shell.execute_reply": "2020-12-23T18:04:57.729443Z"
    },
    "papermill": {
     "duration": 0.1833,
     "end_time": "2020-12-23T18:04:57.729890",
     "exception": false,
     "start_time": "2020-12-23T18:04:57.546590",
     "status": "completed"
    },
    "tags": []
   },
   "outputs": [],
   "source": [
    "from pathlib import Path\n",
    "\n",
    "import numpy as np\n",
    "import pandas as pd\n",
    "\n",
    "import conf"
   ]
  },
  {
   "cell_type": "markdown",
   "metadata": {
    "papermill": {
     "duration": 0.003867,
     "end_time": "2020-12-23T18:04:57.737952",
     "exception": false,
     "start_time": "2020-12-23T18:04:57.734085",
     "status": "completed"
    },
    "tags": []
   },
   "source": [
    "# Settings"
   ]
  },
  {
   "cell_type": "code",
   "execution_count": 3,
   "metadata": {
    "execution": {
     "iopub.execute_input": "2020-12-23T18:04:57.748307Z",
     "iopub.status.busy": "2020-12-23T18:04:57.747939Z",
     "iopub.status.idle": "2020-12-23T18:04:57.760106Z",
     "shell.execute_reply": "2020-12-23T18:04:57.759766Z"
    },
    "papermill": {
     "duration": 0.018298,
     "end_time": "2020-12-23T18:04:57.760191",
     "exception": false,
     "start_time": "2020-12-23T18:04:57.741893",
     "status": "completed"
    },
    "tags": []
   },
   "outputs": [
    {
     "data": {
      "text/plain": [
       "PosixPath('/home/miltondp/projects/labs/greenelab/phenoplier/base/results/drug_disease_analyses')"
      ]
     },
     "metadata": {},
     "output_type": "display_data"
    }
   ],
   "source": [
    "OUTPUT_DIR = conf.RESULTS[\"DRUG_DISEASE_ANALYSES\"]\n",
    "display(OUTPUT_DIR)\n",
    "OUTPUT_DIR.mkdir(parents=True, exist_ok=True)"
   ]
  },
  {
   "cell_type": "code",
   "execution_count": 4,
   "metadata": {
    "execution": {
     "iopub.execute_input": "2020-12-23T18:04:57.771285Z",
     "iopub.status.busy": "2020-12-23T18:04:57.770908Z",
     "iopub.status.idle": "2020-12-23T18:04:57.779367Z",
     "shell.execute_reply": "2020-12-23T18:04:57.778968Z"
    },
    "papermill": {
     "duration": 0.014887,
     "end_time": "2020-12-23T18:04:57.779457",
     "exception": false,
     "start_time": "2020-12-23T18:04:57.764570",
     "status": "completed"
    },
    "tags": []
   },
   "outputs": [
    {
     "data": {
      "text/plain": [
       "PosixPath('/home/miltondp/projects/labs/greenelab/phenoplier/base/results/drug_disease_analyses/predictions')"
      ]
     },
     "metadata": {},
     "output_type": "display_data"
    }
   ],
   "source": [
    "OUTPUT_PREDICTIONS_DIR = Path(OUTPUT_DIR, \"predictions\")\n",
    "display(OUTPUT_PREDICTIONS_DIR)\n",
    "OUTPUT_PREDICTIONS_DIR.mkdir(parents=True, exist_ok=True)"
   ]
  },
  {
   "cell_type": "markdown",
   "metadata": {
    "papermill": {
     "duration": 0.004625,
     "end_time": "2020-12-23T18:04:57.788975",
     "exception": false,
     "start_time": "2020-12-23T18:04:57.784350",
     "status": "completed"
    },
    "tags": []
   },
   "source": [
    "# Remove previous predictions"
   ]
  },
  {
   "cell_type": "code",
   "execution_count": 5,
   "metadata": {
    "execution": {
     "iopub.execute_input": "2020-12-23T18:04:57.801694Z",
     "iopub.status.busy": "2020-12-23T18:04:57.801298Z",
     "iopub.status.idle": "2020-12-23T18:04:57.808867Z",
     "shell.execute_reply": "2020-12-23T18:04:57.808461Z"
    },
    "papermill": {
     "duration": 0.015255,
     "end_time": "2020-12-23T18:04:57.808959",
     "exception": false,
     "start_time": "2020-12-23T18:04:57.793704",
     "status": "completed"
    },
    "tags": []
   },
   "outputs": [],
   "source": [
    "current_prediction_files = OUTPUT_PREDICTIONS_DIR.rglob(\"*.h5\")"
   ]
  },
  {
   "cell_type": "code",
   "execution_count": 6,
   "metadata": {
    "execution": {
     "iopub.execute_input": "2020-12-23T18:04:57.820878Z",
     "iopub.status.busy": "2020-12-23T18:04:57.820476Z",
     "iopub.status.idle": "2020-12-23T18:04:57.828256Z",
     "shell.execute_reply": "2020-12-23T18:04:57.827858Z"
    },
    "papermill": {
     "duration": 0.01444,
     "end_time": "2020-12-23T18:04:57.828347",
     "exception": false,
     "start_time": "2020-12-23T18:04:57.813907",
     "status": "completed"
    },
    "tags": []
   },
   "outputs": [],
   "source": [
    "for f in current_prediction_files:\n",
    "    display(f)\n",
    "    f.unlink()"
   ]
  },
  {
   "cell_type": "code",
   "execution_count": null,
   "metadata": {
    "papermill": {
     "duration": 0.004645,
     "end_time": "2020-12-23T18:04:57.837888",
     "exception": false,
     "start_time": "2020-12-23T18:04:57.833243",
     "status": "completed"
    },
    "tags": []
   },
   "outputs": [],
   "source": []
  }
 ],
 "metadata": {
  "jupytext": {
   "cell_metadata_filter": "all,-execution,-papermill",
   "formats": "ipynb,py//py:percent"
  },
  "kernelspec": {
   "display_name": "Python 3",
   "language": "python",
   "name": "python3"
  },
  "language_info": {
   "codemirror_mode": {
    "name": "ipython",
    "version": 3
   },
   "file_extension": ".py",
   "mimetype": "text/x-python",
   "name": "python",
   "nbconvert_exporter": "python",
   "pygments_lexer": "ipython3",
   "version": "3.8.6"
  },
  "papermill": {
   "default_parameters": {},
   "duration": 1.390341,
   "end_time": "2020-12-23T18:04:58.147665",
   "environment_variables": {},
   "exception": null,
   "input_path": "15_drug_disease_associations/010-prediction-empty_directory.ipynb",
   "output_path": "15_drug_disease_associations/010-prediction-empty_directory.run.ipynb",
   "parameters": {},
   "start_time": "2020-12-23T18:04:56.757324",
   "version": "2.2.2"
  }
 },
 "nbformat": 4,
 "nbformat_minor": 4
}
