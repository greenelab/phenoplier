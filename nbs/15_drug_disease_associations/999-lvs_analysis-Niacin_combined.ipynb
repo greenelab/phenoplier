{
 "cells": [
  {
   "cell_type": "markdown",
   "metadata": {},
   "source": [
    "# Description"
   ]
  },
  {
   "cell_type": "markdown",
   "metadata": {},
   "source": [
    "This notebook contains the interpretation of a cluster (which features/latent variables in the original data are useful to distinguish traits in the cluster).\n",
    "\n",
    "See section [LV analysis](#lv_analysis) below"
   ]
  },
  {
   "cell_type": "markdown",
   "metadata": {},
   "source": [
    "# Modules loading"
   ]
  },
  {
   "cell_type": "code",
   "execution_count": 1,
   "metadata": {},
   "outputs": [],
   "source": [
    "%load_ext autoreload\n",
    "%autoreload 2"
   ]
  },
  {
   "cell_type": "code",
   "execution_count": 2,
   "metadata": {},
   "outputs": [],
   "source": [
    "import pickle\n",
    "import re\n",
    "from pathlib import Path\n",
    "\n",
    "import pandas as pd\n",
    "import matplotlib.pyplot as plt\n",
    "import seaborn as sns\n",
    "\n",
    "# from IPython.display import HTML\n",
    "from tqdm import tqdm\n",
    "\n",
    "from clustering.methods import ClusterInterpreter\n",
    "from data.recount2 import LVAnalysis\n",
    "from data.cache import read_data\n",
    "import conf"
   ]
  },
  {
   "cell_type": "markdown",
   "metadata": {},
   "source": [
    "# Settings"
   ]
  },
  {
   "cell_type": "code",
   "execution_count": 3,
   "metadata": {
    "tags": [
     "parameters"
    ]
   },
   "outputs": [],
   "source": [
    "# PARTITION_K = 26\n",
    "# PARTITION_CLUSTER_ID = 18"
   ]
  },
  {
   "cell_type": "markdown",
   "metadata": {},
   "source": [
    "# Load MultiPLIER summary"
   ]
  },
  {
   "cell_type": "code",
   "execution_count": 4,
   "metadata": {},
   "outputs": [],
   "source": [
    "multiplier_model_summary = read_data(conf.MULTIPLIER[\"MODEL_SUMMARY_FILE\"])"
   ]
  },
  {
   "cell_type": "code",
   "execution_count": 5,
   "metadata": {},
   "outputs": [
    {
     "data": {
      "text/plain": [
       "(2157, 5)"
      ]
     },
     "execution_count": 5,
     "metadata": {},
     "output_type": "execute_result"
    }
   ],
   "source": [
    "multiplier_model_summary.shape"
   ]
  },
  {
   "cell_type": "code",
   "execution_count": 6,
   "metadata": {},
   "outputs": [
    {
     "data": {
      "text/html": [
       "<div>\n",
       "<style scoped>\n",
       "    .dataframe tbody tr th:only-of-type {\n",
       "        vertical-align: middle;\n",
       "    }\n",
       "\n",
       "    .dataframe tbody tr th {\n",
       "        vertical-align: top;\n",
       "    }\n",
       "\n",
       "    .dataframe thead th {\n",
       "        text-align: right;\n",
       "    }\n",
       "</style>\n",
       "<table border=\"1\" class=\"dataframe\">\n",
       "  <thead>\n",
       "    <tr style=\"text-align: right;\">\n",
       "      <th></th>\n",
       "      <th>pathway</th>\n",
       "      <th>LV index</th>\n",
       "      <th>AUC</th>\n",
       "      <th>p-value</th>\n",
       "      <th>FDR</th>\n",
       "    </tr>\n",
       "  </thead>\n",
       "  <tbody>\n",
       "    <tr>\n",
       "      <th>1</th>\n",
       "      <td>KEGG_LYSINE_DEGRADATION</td>\n",
       "      <td>1</td>\n",
       "      <td>0.388059</td>\n",
       "      <td>0.866078</td>\n",
       "      <td>0.956005</td>\n",
       "    </tr>\n",
       "    <tr>\n",
       "      <th>2</th>\n",
       "      <td>REACTOME_MRNA_SPLICING</td>\n",
       "      <td>1</td>\n",
       "      <td>0.733057</td>\n",
       "      <td>0.000048</td>\n",
       "      <td>0.000582</td>\n",
       "    </tr>\n",
       "    <tr>\n",
       "      <th>3</th>\n",
       "      <td>MIPS_NOP56P_ASSOCIATED_PRE_RRNA_COMPLEX</td>\n",
       "      <td>1</td>\n",
       "      <td>0.680555</td>\n",
       "      <td>0.001628</td>\n",
       "      <td>0.011366</td>\n",
       "    </tr>\n",
       "    <tr>\n",
       "      <th>4</th>\n",
       "      <td>KEGG_DNA_REPLICATION</td>\n",
       "      <td>1</td>\n",
       "      <td>0.549473</td>\n",
       "      <td>0.312155</td>\n",
       "      <td>0.539951</td>\n",
       "    </tr>\n",
       "    <tr>\n",
       "      <th>5</th>\n",
       "      <td>PID_MYC_ACTIVPATHWAY</td>\n",
       "      <td>1</td>\n",
       "      <td>0.639303</td>\n",
       "      <td>0.021702</td>\n",
       "      <td>0.083739</td>\n",
       "    </tr>\n",
       "  </tbody>\n",
       "</table>\n",
       "</div>"
      ],
      "text/plain": [
       "                                   pathway LV index       AUC   p-value  \\\n",
       "1                  KEGG_LYSINE_DEGRADATION        1  0.388059  0.866078   \n",
       "2                   REACTOME_MRNA_SPLICING        1  0.733057  0.000048   \n",
       "3  MIPS_NOP56P_ASSOCIATED_PRE_RRNA_COMPLEX        1  0.680555  0.001628   \n",
       "4                     KEGG_DNA_REPLICATION        1  0.549473  0.312155   \n",
       "5                     PID_MYC_ACTIVPATHWAY        1  0.639303  0.021702   \n",
       "\n",
       "        FDR  \n",
       "1  0.956005  \n",
       "2  0.000582  \n",
       "3  0.011366  \n",
       "4  0.539951  \n",
       "5  0.083739  "
      ]
     },
     "execution_count": 6,
     "metadata": {},
     "output_type": "execute_result"
    }
   ],
   "source": [
    "multiplier_model_summary.head()"
   ]
  },
  {
   "cell_type": "markdown",
   "metadata": {},
   "source": [
    "# Load data"
   ]
  },
  {
   "cell_type": "markdown",
   "metadata": {},
   "source": [
    "## Original data"
   ]
  },
  {
   "cell_type": "code",
   "execution_count": 7,
   "metadata": {
    "papermill": {
     "duration": 0.033993,
     "end_time": "2020-12-02T18:22:03.772878",
     "exception": false,
     "start_time": "2020-12-02T18:22:03.738885",
     "status": "completed"
    },
    "tags": []
   },
   "outputs": [],
   "source": [
    "INPUT_SUBSET = \"z_score_std\""
   ]
  },
  {
   "cell_type": "code",
   "execution_count": 8,
   "metadata": {
    "papermill": {
     "duration": 0.034256,
     "end_time": "2020-12-02T18:22:03.827176",
     "exception": false,
     "start_time": "2020-12-02T18:22:03.792920",
     "status": "completed"
    },
    "tags": []
   },
   "outputs": [],
   "source": [
    "INPUT_STEM = \"projection-smultixcan-efo_partial-mashr-zscores\""
   ]
  },
  {
   "cell_type": "code",
   "execution_count": 9,
   "metadata": {
    "papermill": {
     "duration": 0.036583,
     "end_time": "2020-12-02T18:22:03.884665",
     "exception": false,
     "start_time": "2020-12-02T18:22:03.848082",
     "status": "completed"
    },
    "tags": []
   },
   "outputs": [
    {
     "data": {
      "text/plain": [
       "PosixPath('/home/miltondp/projects/labs/greenelab/phenoplier/base/results/data_transformations/z_score_std/z_score_std-projection-smultixcan-efo_partial-mashr-zscores.pkl')"
      ]
     },
     "metadata": {},
     "output_type": "display_data"
    },
    {
     "data": {
      "text/plain": [
       "'z_score_std-projection-smultixcan-efo_partial-mashr-zscores'"
      ]
     },
     "metadata": {},
     "output_type": "display_data"
    }
   ],
   "source": [
    "input_filepath = Path(\n",
    "    conf.RESULTS[\"DATA_TRANSFORMATIONS_DIR\"],\n",
    "    INPUT_SUBSET,\n",
    "    f\"{INPUT_SUBSET}-{INPUT_STEM}.pkl\",\n",
    ").resolve()\n",
    "display(input_filepath)\n",
    "\n",
    "assert input_filepath.exists(), \"Input file does not exist\"\n",
    "\n",
    "input_filepath_stem = input_filepath.stem\n",
    "display(input_filepath_stem)"
   ]
  },
  {
   "cell_type": "code",
   "execution_count": 10,
   "metadata": {
    "papermill": {
     "duration": 0.047976,
     "end_time": "2020-12-02T18:22:04.552607",
     "exception": false,
     "start_time": "2020-12-02T18:22:04.504631",
     "status": "completed"
    },
    "tags": []
   },
   "outputs": [],
   "source": [
    "data = pd.read_pickle(input_filepath)"
   ]
  },
  {
   "cell_type": "code",
   "execution_count": 11,
   "metadata": {
    "papermill": {
     "duration": 0.036934,
     "end_time": "2020-12-02T18:22:04.613671",
     "exception": false,
     "start_time": "2020-12-02T18:22:04.576737",
     "status": "completed"
    },
    "tags": []
   },
   "outputs": [
    {
     "data": {
      "text/plain": [
       "(3752, 987)"
      ]
     },
     "execution_count": 11,
     "metadata": {},
     "output_type": "execute_result"
    }
   ],
   "source": [
    "data.shape"
   ]
  },
  {
   "cell_type": "code",
   "execution_count": 12,
   "metadata": {
    "papermill": {
     "duration": 0.049043,
     "end_time": "2020-12-02T18:22:04.685862",
     "exception": false,
     "start_time": "2020-12-02T18:22:04.636819",
     "status": "completed"
    },
    "tags": []
   },
   "outputs": [
    {
     "data": {
      "text/html": [
       "<div>\n",
       "<style scoped>\n",
       "    .dataframe tbody tr th:only-of-type {\n",
       "        vertical-align: middle;\n",
       "    }\n",
       "\n",
       "    .dataframe tbody tr th {\n",
       "        vertical-align: top;\n",
       "    }\n",
       "\n",
       "    .dataframe thead th {\n",
       "        text-align: right;\n",
       "    }\n",
       "</style>\n",
       "<table border=\"1\" class=\"dataframe\">\n",
       "  <thead>\n",
       "    <tr style=\"text-align: right;\">\n",
       "      <th></th>\n",
       "      <th>LV1</th>\n",
       "      <th>LV2</th>\n",
       "      <th>LV3</th>\n",
       "      <th>LV4</th>\n",
       "      <th>LV5</th>\n",
       "      <th>LV6</th>\n",
       "      <th>LV7</th>\n",
       "      <th>LV8</th>\n",
       "      <th>LV9</th>\n",
       "      <th>LV10</th>\n",
       "      <th>...</th>\n",
       "      <th>LV978</th>\n",
       "      <th>LV979</th>\n",
       "      <th>LV980</th>\n",
       "      <th>LV981</th>\n",
       "      <th>LV982</th>\n",
       "      <th>LV983</th>\n",
       "      <th>LV984</th>\n",
       "      <th>LV985</th>\n",
       "      <th>LV986</th>\n",
       "      <th>LV987</th>\n",
       "    </tr>\n",
       "  </thead>\n",
       "  <tbody>\n",
       "    <tr>\n",
       "      <th>100001_raw-Food_weight</th>\n",
       "      <td>-0.695006</td>\n",
       "      <td>1.962565</td>\n",
       "      <td>0.057683</td>\n",
       "      <td>0.878731</td>\n",
       "      <td>-0.539977</td>\n",
       "      <td>1.481272</td>\n",
       "      <td>-0.396422</td>\n",
       "      <td>1.090180</td>\n",
       "      <td>0.759223</td>\n",
       "      <td>0.931395</td>\n",
       "      <td>...</td>\n",
       "      <td>1.129784</td>\n",
       "      <td>1.752343</td>\n",
       "      <td>-1.411403</td>\n",
       "      <td>2.823863</td>\n",
       "      <td>0.931116</td>\n",
       "      <td>-1.054519</td>\n",
       "      <td>0.432982</td>\n",
       "      <td>-0.633597</td>\n",
       "      <td>0.554279</td>\n",
       "      <td>-0.642479</td>\n",
       "    </tr>\n",
       "    <tr>\n",
       "      <th>100002_raw-Energy</th>\n",
       "      <td>-1.528127</td>\n",
       "      <td>-0.345309</td>\n",
       "      <td>-0.148953</td>\n",
       "      <td>-0.242060</td>\n",
       "      <td>0.373427</td>\n",
       "      <td>0.791092</td>\n",
       "      <td>0.263477</td>\n",
       "      <td>0.987702</td>\n",
       "      <td>0.354391</td>\n",
       "      <td>1.416059</td>\n",
       "      <td>...</td>\n",
       "      <td>0.224604</td>\n",
       "      <td>0.769882</td>\n",
       "      <td>-0.509482</td>\n",
       "      <td>0.091153</td>\n",
       "      <td>2.286789</td>\n",
       "      <td>-1.008256</td>\n",
       "      <td>-0.029764</td>\n",
       "      <td>1.737229</td>\n",
       "      <td>-0.272107</td>\n",
       "      <td>-0.526125</td>\n",
       "    </tr>\n",
       "    <tr>\n",
       "      <th>100003_raw-Protein</th>\n",
       "      <td>-0.704572</td>\n",
       "      <td>-1.011299</td>\n",
       "      <td>0.671420</td>\n",
       "      <td>0.143991</td>\n",
       "      <td>0.615212</td>\n",
       "      <td>0.874212</td>\n",
       "      <td>-0.040998</td>\n",
       "      <td>0.915170</td>\n",
       "      <td>0.254369</td>\n",
       "      <td>-0.084237</td>\n",
       "      <td>...</td>\n",
       "      <td>1.003019</td>\n",
       "      <td>1.044314</td>\n",
       "      <td>-2.376108</td>\n",
       "      <td>0.004778</td>\n",
       "      <td>0.053714</td>\n",
       "      <td>-0.892447</td>\n",
       "      <td>-0.183800</td>\n",
       "      <td>1.377991</td>\n",
       "      <td>-0.278794</td>\n",
       "      <td>-0.419733</td>\n",
       "    </tr>\n",
       "    <tr>\n",
       "      <th>100004_raw-Fat</th>\n",
       "      <td>-0.989832</td>\n",
       "      <td>-1.875490</td>\n",
       "      <td>0.261555</td>\n",
       "      <td>-1.420719</td>\n",
       "      <td>0.366238</td>\n",
       "      <td>1.167049</td>\n",
       "      <td>0.257387</td>\n",
       "      <td>0.717674</td>\n",
       "      <td>-0.997664</td>\n",
       "      <td>0.969825</td>\n",
       "      <td>...</td>\n",
       "      <td>0.585913</td>\n",
       "      <td>0.638314</td>\n",
       "      <td>0.119139</td>\n",
       "      <td>-0.140204</td>\n",
       "      <td>1.394326</td>\n",
       "      <td>-1.173402</td>\n",
       "      <td>0.555058</td>\n",
       "      <td>1.013982</td>\n",
       "      <td>-0.544506</td>\n",
       "      <td>-0.064061</td>\n",
       "    </tr>\n",
       "    <tr>\n",
       "      <th>100005_raw-Carbohydrate</th>\n",
       "      <td>-0.580143</td>\n",
       "      <td>0.243335</td>\n",
       "      <td>0.158966</td>\n",
       "      <td>-0.036558</td>\n",
       "      <td>0.068176</td>\n",
       "      <td>-0.202639</td>\n",
       "      <td>1.101281</td>\n",
       "      <td>0.675227</td>\n",
       "      <td>1.463432</td>\n",
       "      <td>1.010078</td>\n",
       "      <td>...</td>\n",
       "      <td>-0.249108</td>\n",
       "      <td>-0.026814</td>\n",
       "      <td>0.232713</td>\n",
       "      <td>0.323682</td>\n",
       "      <td>1.168642</td>\n",
       "      <td>-0.282935</td>\n",
       "      <td>0.653105</td>\n",
       "      <td>1.909526</td>\n",
       "      <td>0.199997</td>\n",
       "      <td>-1.656894</td>\n",
       "    </tr>\n",
       "  </tbody>\n",
       "</table>\n",
       "<p>5 rows × 987 columns</p>\n",
       "</div>"
      ],
      "text/plain": [
       "                              LV1       LV2       LV3       LV4       LV5  \\\n",
       "100001_raw-Food_weight  -0.695006  1.962565  0.057683  0.878731 -0.539977   \n",
       "100002_raw-Energy       -1.528127 -0.345309 -0.148953 -0.242060  0.373427   \n",
       "100003_raw-Protein      -0.704572 -1.011299  0.671420  0.143991  0.615212   \n",
       "100004_raw-Fat          -0.989832 -1.875490  0.261555 -1.420719  0.366238   \n",
       "100005_raw-Carbohydrate -0.580143  0.243335  0.158966 -0.036558  0.068176   \n",
       "\n",
       "                              LV6       LV7       LV8       LV9      LV10  \\\n",
       "100001_raw-Food_weight   1.481272 -0.396422  1.090180  0.759223  0.931395   \n",
       "100002_raw-Energy        0.791092  0.263477  0.987702  0.354391  1.416059   \n",
       "100003_raw-Protein       0.874212 -0.040998  0.915170  0.254369 -0.084237   \n",
       "100004_raw-Fat           1.167049  0.257387  0.717674 -0.997664  0.969825   \n",
       "100005_raw-Carbohydrate -0.202639  1.101281  0.675227  1.463432  1.010078   \n",
       "\n",
       "                         ...     LV978     LV979     LV980     LV981  \\\n",
       "100001_raw-Food_weight   ...  1.129784  1.752343 -1.411403  2.823863   \n",
       "100002_raw-Energy        ...  0.224604  0.769882 -0.509482  0.091153   \n",
       "100003_raw-Protein       ...  1.003019  1.044314 -2.376108  0.004778   \n",
       "100004_raw-Fat           ...  0.585913  0.638314  0.119139 -0.140204   \n",
       "100005_raw-Carbohydrate  ... -0.249108 -0.026814  0.232713  0.323682   \n",
       "\n",
       "                            LV982     LV983     LV984     LV985     LV986  \\\n",
       "100001_raw-Food_weight   0.931116 -1.054519  0.432982 -0.633597  0.554279   \n",
       "100002_raw-Energy        2.286789 -1.008256 -0.029764  1.737229 -0.272107   \n",
       "100003_raw-Protein       0.053714 -0.892447 -0.183800  1.377991 -0.278794   \n",
       "100004_raw-Fat           1.394326 -1.173402  0.555058  1.013982 -0.544506   \n",
       "100005_raw-Carbohydrate  1.168642 -0.282935  0.653105  1.909526  0.199997   \n",
       "\n",
       "                            LV987  \n",
       "100001_raw-Food_weight  -0.642479  \n",
       "100002_raw-Energy       -0.526125  \n",
       "100003_raw-Protein      -0.419733  \n",
       "100004_raw-Fat          -0.064061  \n",
       "100005_raw-Carbohydrate -1.656894  \n",
       "\n",
       "[5 rows x 987 columns]"
      ]
     },
     "execution_count": 12,
     "metadata": {},
     "output_type": "execute_result"
    }
   ],
   "source": [
    "data.head()"
   ]
  },
  {
   "cell_type": "markdown",
   "metadata": {},
   "source": [
    "## Clustering partitions"
   ]
  },
  {
   "cell_type": "code",
   "execution_count": 13,
   "metadata": {},
   "outputs": [],
   "source": [
    "# CONSENSUS_CLUSTERING_DIR = Path(\n",
    "#     conf.RESULTS[\"CLUSTERING_DIR\"], \"consensus_clustering\"\n",
    "# ).resolve()\n",
    "\n",
    "# display(CONSENSUS_CLUSTERING_DIR)"
   ]
  },
  {
   "cell_type": "code",
   "execution_count": 14,
   "metadata": {},
   "outputs": [],
   "source": [
    "# input_file = Path(CONSENSUS_CLUSTERING_DIR, \"best_partitions_by_k.pkl\").resolve()\n",
    "# display(input_file)"
   ]
  },
  {
   "cell_type": "code",
   "execution_count": 15,
   "metadata": {},
   "outputs": [],
   "source": [
    "# best_partitions = pd.read_pickle(input_file)"
   ]
  },
  {
   "cell_type": "code",
   "execution_count": 16,
   "metadata": {},
   "outputs": [],
   "source": [
    "# best_partitions.shape"
   ]
  },
  {
   "cell_type": "code",
   "execution_count": 17,
   "metadata": {},
   "outputs": [],
   "source": [
    "# best_partitions.head()"
   ]
  },
  {
   "cell_type": "markdown",
   "metadata": {},
   "source": [
    "# Functions"
   ]
  },
  {
   "cell_type": "code",
   "execution_count": 18,
   "metadata": {},
   "outputs": [],
   "source": [
    "# def show_cluster_stats(data, partition, cluster):\n",
    "#     cluster_traits = data[partition == cluster].index\n",
    "#     display(f\"Cluster '{cluster}' has {len(cluster_traits)} traits\")\n",
    "#     display(cluster_traits)"
   ]
  },
  {
   "cell_type": "markdown",
   "metadata": {},
   "source": [
    "# LV analysis\n",
    "<a id=\"lv_analysis\"></a>"
   ]
  },
  {
   "cell_type": "markdown",
   "metadata": {},
   "source": [
    "## Associated traits"
   ]
  },
  {
   "cell_type": "code",
   "execution_count": 19,
   "metadata": {},
   "outputs": [],
   "source": [
    "# display(best_partitions.loc[PARTITION_K])\n",
    "# part = best_partitions.loc[PARTITION_K, \"partition\"]"
   ]
  },
  {
   "cell_type": "code",
   "execution_count": 20,
   "metadata": {},
   "outputs": [],
   "source": [
    "# show_cluster_stats(data, part, PARTITION_CLUSTER_ID)"
   ]
  },
  {
   "cell_type": "markdown",
   "metadata": {},
   "source": [
    "## Associated latent variables"
   ]
  },
  {
   "cell_type": "code",
   "execution_count": 21,
   "metadata": {},
   "outputs": [],
   "source": [
    "# ci = ClusterInterpreter(\n",
    "#     threshold=1.0,\n",
    "#     max_features=20,\n",
    "#     max_features_to_explore=100,\n",
    "# )"
   ]
  },
  {
   "cell_type": "code",
   "execution_count": 22,
   "metadata": {},
   "outputs": [],
   "source": [
    "# ci.fit(data, part, PARTITION_CLUSTER_ID)"
   ]
  },
  {
   "cell_type": "code",
   "execution_count": 23,
   "metadata": {},
   "outputs": [],
   "source": [
    "# ci.features_"
   ]
  },
  {
   "cell_type": "code",
   "execution_count": 24,
   "metadata": {},
   "outputs": [],
   "source": [
    "# # save interpreter instance\n",
    "# output_dir = Path(\n",
    "#     conf.RESULTS[\"CLUSTERING_INTERPRETATION\"][\"BASE_DIR\"],\n",
    "#     \"cluster_lvs\",\n",
    "#     f\"part{PARTITION_K}\",\n",
    "# )\n",
    "# output_dir.mkdir(exist_ok=True, parents=True)"
   ]
  },
  {
   "cell_type": "code",
   "execution_count": 25,
   "metadata": {},
   "outputs": [],
   "source": [
    "# output_file = Path(\n",
    "#     output_dir, f\"cluster_interpreter-part{PARTITION_K}_k{PARTITION_CLUSTER_ID}.pkl\"\n",
    "# )\n",
    "# display(output_file)"
   ]
  },
  {
   "cell_type": "code",
   "execution_count": 26,
   "metadata": {},
   "outputs": [],
   "source": [
    "# ci.features_.to_pickle(output_file)"
   ]
  },
  {
   "cell_type": "markdown",
   "metadata": {},
   "source": [
    "## Top attributes"
   ]
  },
  {
   "cell_type": "code",
   "execution_count": 27,
   "metadata": {},
   "outputs": [],
   "source": [
    "# lvs_list = \"LV116,LV931,LV744,LV697,LV885,LV536,LV550,LV220,LV272,LV739,LV678,LV470,LV66,LV189,LV517,LV840,LV246,LV502,LV525,LV85\".split(\",\")"
   ]
  },
  {
   "cell_type": "code",
   "execution_count": 28,
   "metadata": {},
   "outputs": [],
   "source": [
    "lvs_list = pd.read_pickle(\"/tmp/niacin_lv_list.pkl\").index.tolist()"
   ]
  },
  {
   "cell_type": "code",
   "execution_count": 29,
   "metadata": {},
   "outputs": [
    {
     "data": {
      "text/plain": [
       "987"
      ]
     },
     "execution_count": 29,
     "metadata": {},
     "output_type": "execute_result"
    }
   ],
   "source": [
    "len(lvs_list)"
   ]
  },
  {
   "cell_type": "code",
   "execution_count": 30,
   "metadata": {},
   "outputs": [
    {
     "data": {
      "text/plain": [
       "['LV881',\n",
       " 'LV116',\n",
       " 'LV743',\n",
       " 'LV38',\n",
       " 'LV841',\n",
       " 'LV163',\n",
       " 'LV161',\n",
       " 'LV931',\n",
       " 'LV9',\n",
       " 'LV536']"
      ]
     },
     "execution_count": 30,
     "metadata": {},
     "output_type": "execute_result"
    }
   ],
   "source": [
    "lvs_list[:10]"
   ]
  },
  {
   "cell_type": "code",
   "execution_count": 31,
   "metadata": {},
   "outputs": [],
   "source": [
    "def _my_func(x):\n",
    "    _cols = [c for c in x.index if not c.startswith(\"LV\")]\n",
    "    _tmp = x[_cols].dropna()\n",
    "    if _tmp.shape[0] > 0:\n",
    "        return _tmp.iloc[0]\n",
    "\n",
    "    return None"
   ]
  },
  {
   "cell_type": "code",
   "execution_count": 32,
   "metadata": {},
   "outputs": [
    {
     "name": "stderr",
     "output_type": "stream",
     "text": [
      "LV881:   0%|          | 0/50 [00:00<?, ?it/s]"
     ]
    },
    {
     "name": "stdout",
     "output_type": "stream",
     "text": [
      "SRP042161, SRP050499, SRP066834, SRP060416, SRP057196, SRP055569, SRP018525, SRP059035, SRP028301, SRP062773, SRP033135, SRP050440, SRP059379, SRP048603, SRP044917, SRP041102, SRP059775, SRP048604, SRP034711, SRP035312, SRP055101, SRP055153, SRP014428, SRP041255, SRP042286, SRP021509, SRP045570, SRP018838, SRP060370, SRP030617, SRP064457, SRP015138, SRP007461, SRP053186, SRP064259, "
     ]
    },
    {
     "name": "stderr",
     "output_type": "stream",
     "text": [
      "/home/miltondp/projects/labs/greenelab/phenoplier/libs/data/recount2.py:320: UserWarning: Not all experiments data could be loaded (34 != 35)\n",
      "  warnings.warn(\n"
     ]
    },
    {
     "data": {
      "text/plain": [
       "1    cell type\n",
       "dtype: object"
      ]
     },
     "metadata": {},
     "output_type": "display_data"
    },
    {
     "data": {
      "text/plain": [
       "7    tissue\n",
       "dtype: object"
      ]
     },
     "metadata": {},
     "output_type": "display_data"
    },
    {
     "name": "stderr",
     "output_type": "stream",
     "text": [
      "LV116:   2%|▏         | 1/50 [00:13<11:11, 13.70s/it]"
     ]
    },
    {
     "name": "stdout",
     "output_type": "stream",
     "text": [
      "SRP059039, SRP045500, SRP063059, SRP045569, SRP015670, SRP059531, SRP062958, SRP039361, SRP056733, SRP060370, SRP062966, SRP045352, SRP048804, SRP032775, SRP059172, SRP050246, SRP064458, SRP033711, SRP049820, SRP023199, SRP060416, SRP005279, SRP042161, SRP059701, SRP068139, SRP051848, SRP014428, SRP063661, SRP057205, SRP041826, SRP059057, SRP064259, SRP046226, SRP044956, SRP066356, SRP048640, SRP041885, SRP045659, SRP041647, SRP045565, SRP041620, SRP053186, SRP045441, SRP022133, SRP055874, SRP029990, SRP044206, SRP065763, SRP056443, SRP041538, SRP044593, SRP019270, SRP067934, SRP059035, SRP019936, SRP054971, SRP058237, SRP051368, SRP019758, "
     ]
    },
    {
     "data": {
      "text/plain": [
       "8      celltype\n",
       "21    cell type\n",
       "dtype: object"
      ]
     },
     "metadata": {},
     "output_type": "display_data"
    },
    {
     "data": {
      "text/plain": [
       "79    tissue type\n",
       "4          tissue\n",
       "dtype: object"
      ]
     },
     "metadata": {},
     "output_type": "display_data"
    },
    {
     "name": "stderr",
     "output_type": "stream",
     "text": [
      "LV743:   4%|▍         | 2/50 [00:27<10:54, 13.63s/it]"
     ]
    },
    {
     "name": "stdout",
     "output_type": "stream",
     "text": [
      "SRP059775, SRP028301, SRP018838, SRP011185, SRP030617, SRP050992, SRP014428, SRP055810, SRP062025, SRP042161, SRP059035, SRP058840, SRP066834, "
     ]
    },
    {
     "data": {
      "text/plain": [
       "5    cell type\n",
       "dtype: object"
      ]
     },
     "metadata": {},
     "output_type": "display_data"
    },
    {
     "data": {
      "text/plain": [
       "9    tissue\n",
       "dtype: object"
      ]
     },
     "metadata": {},
     "output_type": "display_data"
    },
    {
     "name": "stderr",
     "output_type": "stream",
     "text": [
      "LV38:   6%|▌         | 3/50 [00:34<09:06, 11.64s/it] "
     ]
    },
    {
     "name": "stdout",
     "output_type": "stream",
     "text": [
      "SRP066834, SRP050499, SRP042161, SRP057196, SRP033135, SRP028301, SRP055153, SRP059775, SRP059035, SRP030617, SRP058773, SRP055569, SRP052294, SRP060598, SRP055810, SRP028570, SRP055101, SRP011546, SRP050992, SRP062177, SRP015138, SRP014428, "
     ]
    },
    {
     "data": {
      "text/plain": [
       "5    cell type\n",
       "dtype: object"
      ]
     },
     "metadata": {},
     "output_type": "display_data"
    },
    {
     "data": {
      "text/plain": [
       "1    tissue\n",
       "dtype: object"
      ]
     },
     "metadata": {},
     "output_type": "display_data"
    },
    {
     "name": "stderr",
     "output_type": "stream",
     "text": [
      "LV841:   8%|▊         | 4/50 [00:45<08:45, 11.43s/it]"
     ]
    },
    {
     "name": "stdout",
     "output_type": "stream",
     "text": [
      "SRP057205, SRP051102, SRP007461, SRP034666, SRP014591, SRP015964, SRP057745, SRP042620, SRP017972, SRP021214, SRP018719, SRP049004, SRP055101, SRP038702, SRP010038, SRP008331, SRP017142, SRP039348, SRP061426, SRP059692, SRP009659, SRP006970, SRP014842, SRP001893, SRP045639, SRP052706, SRP026537, SRP048761, SRP013773, SRP056076, SRP006912, SRP012295, SRP067836, SRP052740, SRP009474, SRP038963, SRP022913, SRP050374, SRP043593, SRP055475, SRP044763, SRP004637, SRP011903, SRP002079, SRP012557, SRP043960, SRP007481, SRP037718, SRP018883, SRP016790, SRP043644, SRP018861, SRP049391, SRP059643, SRP033250, SRP029434, SRP061380, SRP020544, SRP045501, SRP031849, SRP017378, SRP040327, SRP051595, SRP060650, SRP040243, SRP021134, SRP033711, SRP043510, SRP007338, SRP050954, SRP045421, SRP058804, SRP042184, SRP051674, SRP007403, SRP052879, SRP017294, SRP051772, SRP044611, SRP018218, SRP041228, SRP028570, SRP010054, SRP046266, SRP006561, "
     ]
    },
    {
     "name": "stderr",
     "output_type": "stream",
     "text": [
      "/home/miltondp/projects/labs/greenelab/phenoplier/libs/data/recount2.py:320: UserWarning: Not all experiments data could be loaded (82 != 85)\n",
      "  warnings.warn(\n"
     ]
    },
    {
     "data": {
      "text/plain": [
       "6    cell type\n",
       "dtype: object"
      ]
     },
     "metadata": {},
     "output_type": "display_data"
    },
    {
     "data": {
      "text/plain": [
       "16    tissue\n",
       "dtype: object"
      ]
     },
     "metadata": {},
     "output_type": "display_data"
    },
    {
     "name": "stderr",
     "output_type": "stream",
     "text": [
      "LV163:  10%|█         | 5/50 [00:50<07:06,  9.48s/it]"
     ]
    },
    {
     "name": "stdout",
     "output_type": "stream",
     "text": [
      "SRP019936, SRP045639, SRP017142, SRP052706, SRP007596, SRP009276, SRP042579, SRP039348, SRP064481, SRP008554, SRP012557, SRP019994, SRP010038, SRP051674, SRP028902, SRP051765, SRP061426, SRP007461, SRP060708, SRP034953, SRP022920, SRP065202, SRP051606, SRP055153, SRP017644, SRP017972, SRP051599, SRP016790, SRP021134, SRP044013, SRP045869, SRP063620, SRP060598, SRP063948, SRP014790, SRP026537, SRP013984, SRP014320, SRP034601, SRP017789, SRP049988, SRP028118, SRP018861, SRP040243, SRP017788, SRP017411, SRP049061, SRP046254, SRP066917, SRP009266, SRP034873, SRP002915, SRP067529, SRP042620, SRP014842, SRP041718, SRP057814, SRP008218, SRP059643, SRP032165, SRP067214, SRP033711, SRP046376, SRP023270, SRP015909, SRP045711, SRP017378, SRP032942, SRP057253, SRP028190, SRP052879, SRP067836, SRP004637, SRP049068, SRP017019, SRP045695, SRP063070, SRP052740, SRP068139, SRP018218, SRP039598, SRP059066, SRP017575, SRP061380, SRP051485, SRP055475, SRP003726, SRP043510, SRP014190, SRP006912, SRP019207, SRP049391, SRP057613, SRP009790, SRP065282, SRP020493, SRP040300, SRP013402, SRP004847, "
     ]
    },
    {
     "name": "stderr",
     "output_type": "stream",
     "text": [
      "/home/miltondp/projects/labs/greenelab/phenoplier/libs/data/recount2.py:320: UserWarning: Not all experiments data could be loaded (95 != 99)\n",
      "  warnings.warn(\n"
     ]
    },
    {
     "data": {
      "text/plain": [
       "2    cell type\n",
       "dtype: object"
      ]
     },
     "metadata": {},
     "output_type": "display_data"
    },
    {
     "data": {
      "text/plain": [
       "0     tissue type\n",
       "12         tissue\n",
       "dtype: object"
      ]
     },
     "metadata": {},
     "output_type": "display_data"
    },
    {
     "name": "stderr",
     "output_type": "stream",
     "text": [
      "LV161:  12%|█▏        | 6/50 [00:56<06:14,  8.52s/it]"
     ]
    },
    {
     "name": "stdout",
     "output_type": "stream",
     "text": [
      "SRP061840, SRP004637, SRP058783, SRP012557, SRP019758, SRP042161, SRP018218, SRP049591, SRP014320, SRP064259, SRP032754, SRP042620, SRP026537, SRP058773, SRP024274, SRP035312, SRP034711, SRP003901, SRP066834, SRP018312, SRP037775, SRP062230, SRP043621, SRP063661, SRP059701, SRP057745, SRP014790, SRP021214, SRP048640, SRP042249, SRP020493, SRP041036, SRP022913, SRP016059, SRP051583, SRP041825, SRP061932, SRP055569, SRP012651, SRP060416, SRP051606, SRP010038, SRP050493, SRP028282, SRP044171, SRP018883, SRP014428, SRP048700, SRP008930, SRP057196, SRP015964, SRP033466, SRP041130, SRP021509, SRP033135, SRP030617, SRP059379, SRP009615, SRP045711, SRP028301, SRP007461, SRP043960, SRP002326, SRP031478, SRP041956, SRP056036, SRP009266, SRP057205, SRP055810, SRP049462, SRP029739, SRP007338, SRP027258, SRP005342, SRP044610, SRP011974, SRP012099, SRP049988, SRP062773, SRP016118, SRP056086, SRP022166, SRP028887, SRP055153, SRP042184, SRP049714, SRP063840, SRP061243, SRP017577, SRP057448, "
     ]
    },
    {
     "name": "stderr",
     "output_type": "stream",
     "text": [
      "/home/miltondp/projects/labs/greenelab/phenoplier/libs/data/recount2.py:320: UserWarning: Not all experiments data could be loaded (86 != 90)\n",
      "  warnings.warn(\n"
     ]
    },
    {
     "data": {
      "text/plain": [
       "16    cell type\n",
       "dtype: object"
      ]
     },
     "metadata": {},
     "output_type": "display_data"
    },
    {
     "data": {
      "text/plain": [
       "12    tissue\n",
       "dtype: object"
      ]
     },
     "metadata": {},
     "output_type": "display_data"
    },
    {
     "name": "stderr",
     "output_type": "stream",
     "text": [
      "LV931:  14%|█▍        | 7/50 [01:10<07:20, 10.25s/it]"
     ]
    },
    {
     "name": "stdout",
     "output_type": "stream",
     "text": [
      "SRP056295, SRP017138, SRP043080, SRP048759, SRP021191, SRP028594, SRP056197, SRP050272, SRP059735, SRP028554, SRP061932, SRP033266, SRP005279, SRP055390, SRP050493, SRP046233, SRP035679, SRP043033, SRP041885, SRP027358, SRP045500, SRP045352, SRP015360, SRP053046, "
     ]
    },
    {
     "data": {
      "text/plain": [
       "30     celltype\n",
       "1     cell type\n",
       "dtype: object"
      ]
     },
     "metadata": {},
     "output_type": "display_data"
    },
    {
     "data": {
      "text/plain": [
       "0    tissue\n",
       "dtype: object"
      ]
     },
     "metadata": {},
     "output_type": "display_data"
    },
    {
     "name": "stderr",
     "output_type": "stream",
     "text": [
      "LV9:  16%|█▌        | 8/50 [01:15<06:07,  8.74s/it]  "
     ]
    },
    {
     "name": "stdout",
     "output_type": "stream",
     "text": [
      "SRP017575, SRP019994, SRP036821, SRP006575, SRP023262, SRP033276, SRP034953, SRP036053, SRP022920, SRP009276, SRP007596, SRP044956, SRP045869, "
     ]
    },
    {
     "data": {
      "text/plain": [
       "8    cell type\n",
       "dtype: object"
      ]
     },
     "metadata": {},
     "output_type": "display_data"
    },
    {
     "data": {
      "text/plain": [
       "21    tissue type\n",
       "0          tissue\n",
       "dtype: object"
      ]
     },
     "metadata": {},
     "output_type": "display_data"
    },
    {
     "name": "stderr",
     "output_type": "stream",
     "text": [
      "LV536:  18%|█▊        | 9/50 [01:17<04:35,  6.73s/it]"
     ]
    },
    {
     "name": "stdout",
     "output_type": "stream",
     "text": [
      "SRP007947, SRP003901, SRP055569, SRP037722, SRP008218, SRP066834, SRP015013, SRP060416, SRP019994, SRP057196, SRP042161, SRP058773, SRP012557, SRP050499, SRP055153, SRP059379, SRP030617, SRP005279, SRP051606, SRP003754, SRP058841, SRP009247, SRP050497, SRP018104, SRP007508, SRP008145, SRP041377, SRP002326, SRP035478, SRP033135, SRP017777, SRP055440, SRP057248, SRP000599, SRP013450, SRP014213, SRP055513, SRP042218, SRP034543, "
     ]
    },
    {
     "name": "stderr",
     "output_type": "stream",
     "text": [
      "/home/miltondp/projects/labs/greenelab/phenoplier/libs/data/recount2.py:320: UserWarning: Not all experiments data could be loaded (37 != 39)\n",
      "  warnings.warn(\n"
     ]
    },
    {
     "data": {
      "text/plain": [
       "0    cell type\n",
       "dtype: object"
      ]
     },
     "metadata": {},
     "output_type": "display_data"
    },
    {
     "data": {
      "text/plain": [
       "3    tissue\n",
       "dtype: object"
      ]
     },
     "metadata": {},
     "output_type": "display_data"
    },
    {
     "name": "stderr",
     "output_type": "stream",
     "text": [
      "LV50:  20%|██        | 10/50 [01:29<05:28,  8.21s/it] "
     ]
    },
    {
     "name": "stdout",
     "output_type": "stream",
     "text": [
      "SRP060416, SRP007461, SRP056295, SRP057196, SRP055390, SRP005279, SRP050499, SRP003726, SRP028594, SRP043434, SRP033266, SRP058237, SRP008218, SRP045500, SRP032789, SRP041538, SRP048759, SRP021891, SRP064458, SRP043080, SRP042161, SRP063834, SRP055440, SRP056197, SRP018359, SRP050272, SRP063363, SRP027364, SRP043339, SRP004847, SRP059695, SRP035679, SRP041885, SRP021193, "
     ]
    },
    {
     "name": "stderr",
     "output_type": "stream",
     "text": [
      "/home/miltondp/projects/labs/greenelab/phenoplier/libs/data/recount2.py:320: UserWarning: Not all experiments data could be loaded (33 != 34)\n",
      "  warnings.warn(\n"
     ]
    },
    {
     "data": {
      "text/plain": [
       "18     celltype\n",
       "2     cell type\n",
       "dtype: object"
      ]
     },
     "metadata": {},
     "output_type": "display_data"
    },
    {
     "data": {
      "text/plain": [
       "3    tissue\n",
       "dtype: object"
      ]
     },
     "metadata": {},
     "output_type": "display_data"
    },
    {
     "name": "stderr",
     "output_type": "stream",
     "text": [
      "LV707:  22%|██▏       | 11/50 [01:40<05:53,  9.07s/it]"
     ]
    },
    {
     "name": "stdout",
     "output_type": "stream",
     "text": [
      "SRP036821, SRP006575, SRP050499, SRP056049, SRP003227, SRP051102, SRP055569, SRP014428, SRP023262, SRP055675, SRP042161, SRP006475, SRP005279, SRP042616, SRP007359, SRP018525, SRP051765, SRP050215, SRP036053, SRP011546, SRP068523, SRP033369, SRP059057, SRP049063, SRP048971, SRP019994, SRP045898, SRP034543, SRP018838, SRP014867, SRP005177, SRP055390, SRP037735, SRP009067, SRP042218, SRP028594, SRP012461, SRP029452, SRP014146, SRP058977, SRP033135, SRP014739, SRP008976, SRP062025, SRP001563, SRP046233, SRP035599, SRP056295, SRP058840, SRP057250, SRP058120, SRP034712, SRP060715, SRP057745, SRP057244, SRP053046, SRP029739, SRP022920, SRP009266, SRP057852, SRP001540, SRP045869, SRP058046, SRP065988, SRP067214, SRP059775, SRP042043, SRP058841, SRP049648, SRP019222, SRP067661, SRP004847, SRP044206, "
     ]
    },
    {
     "name": "stderr",
     "output_type": "stream",
     "text": [
      "/home/miltondp/projects/labs/greenelab/phenoplier/libs/data/recount2.py:320: UserWarning: Not all experiments data could be loaded (72 != 73)\n",
      "  warnings.warn(\n"
     ]
    },
    {
     "data": {
      "text/plain": [
       "5    cell type\n",
       "dtype: object"
      ]
     },
     "metadata": {},
     "output_type": "display_data"
    },
    {
     "data": {
      "text/plain": [
       "0    tissue\n",
       "dtype: object"
      ]
     },
     "metadata": {},
     "output_type": "display_data"
    },
    {
     "name": "stderr",
     "output_type": "stream",
     "text": [
      "LV142:  24%|██▍       | 12/50 [01:53<06:29, 10.25s/it]"
     ]
    },
    {
     "name": "stdout",
     "output_type": "stream",
     "text": [
      "SRP004847, SRP004965, SRP008218, SRP003726, SRP009266, SRP057196, SRP002915, SRP005279, SRP055569, SRP032789, SRP042161, SRP055513, SRP026042, SRP057244, SRP050954, SRP041538, SRP066834, SRP007461, SRP012461, SRP023262, SRP032833, SRP014790, SRP017575, SRP064464, SRP029262, SRP060416, SRP065202, SRP012099, SRP042218, SRP042620, SRP022920, SRP036821, SRP012656, SRP022591, SRP056733, SRP014670, SRP036053, SRP056098, SRP024268, SRP055390, SRP064458, SRP058722, SRP058773, SRP033135, SRP029592, SRP012557, SRP040998, SRP050499, SRP059379, SRP057205, SRP031776, SRP061426, SRP049097, SRP010678, SRP002628, SRP059057, SRP009251, SRP019994, SRP063838, SRP046376, SRP050892, SRP049409, SRP028118, SRP003611, SRP027383, SRP043080, SRP017142, SRP006575, SRP007338, SRP027364, SRP065219, SRP029207, SRP014624, SRP017972, SRP052879, SRP039397, SRP016140, SRP026537, SRP050003, SRP013984, SRP036848, "
     ]
    },
    {
     "name": "stderr",
     "output_type": "stream",
     "text": [
      "/home/miltondp/projects/labs/greenelab/phenoplier/libs/data/recount2.py:320: UserWarning: Not all experiments data could be loaded (77 != 81)\n",
      "  warnings.warn(\n"
     ]
    },
    {
     "data": {
      "text/plain": [
       "1    cell type\n",
       "dtype: object"
      ]
     },
     "metadata": {},
     "output_type": "display_data"
    },
    {
     "data": {
      "text/plain": [
       "35    tissue type\n",
       "0          tissue\n",
       "dtype: object"
      ]
     },
     "metadata": {},
     "output_type": "display_data"
    },
    {
     "name": "stderr",
     "output_type": "stream",
     "text": [
      "LV95:  26%|██▌       | 13/50 [02:16<08:34, 13.90s/it] "
     ]
    },
    {
     "name": "stdout",
     "output_type": "stream",
     "text": [
      "SRP039077, SRP043388, SRP052856, SRP008496, SRP007169, SRP057586, SRP059275, SRP043694, SRP055569, SRP044206, SRP010678, SRP026333, SRP006575, SRP039552, SRP056637, SRP055513, SRP035641, SRP064259, SRP044925, SRP065812, SRP011974, SRP051182, SRP056330, SRP014739, SRP026042, SRP057196, SRP056840, SRP050000, SRP018853, SRP063840, SRP014320, SRP035988, SRP052615, SRP065763, SRP060416, SRP035864, SRP059732, SRP058722, SRP026537, SRP066834, SRP063661, SRP057087, SRP062188, SRP010166, SRP063496, SRP021917, SRP041094, SRP050440, SRP028822, SRP035391, SRP024274, SRP033135, SRP018883, SRP024268, SRP045898, SRP050499, SRP041751, SRP058773, SRP063834, SRP050971, SRP063493, SRP002326, SRP028180, SRP014146, "
     ]
    },
    {
     "name": "stderr",
     "output_type": "stream",
     "text": [
      "/home/miltondp/projects/labs/greenelab/phenoplier/libs/data/recount2.py:320: UserWarning: Not all experiments data could be loaded (63 != 64)\n",
      "  warnings.warn(\n"
     ]
    },
    {
     "data": {
      "text/plain": [
       "1    cell type\n",
       "dtype: object"
      ]
     },
     "metadata": {},
     "output_type": "display_data"
    },
    {
     "data": {
      "text/plain": [
       "8    tissue type\n",
       "6         tissue\n",
       "dtype: object"
      ]
     },
     "metadata": {},
     "output_type": "display_data"
    },
    {
     "name": "stderr",
     "output_type": "stream",
     "text": [
      "LV97:  28%|██▊       | 14/50 [02:31<08:35, 14.33s/it]"
     ]
    },
    {
     "name": "stdout",
     "output_type": "stream",
     "text": [
      "SRP049988, SRP007461, SRP009862, SRP063658, SRP012557, SRP009790, SRP067836, SRP039397, SRP055860, SRP014920, SRP017019, SRP009266, SRP055153, SRP064464, SRP028902, SRP043960, SRP041228, SRP011578, SRP013935, SRP067934, SRP055863, SRP052950, SRP055569, SRP010907, SRP064259, SRP014027, SRP040998, SRP050087, SRP009123, SRP063834, SRP017411, SRP050003, SRP045048, SRP040692, SRP010166, SRP058626, SRP019240, SRP064321, SRP051544, SRP051606, SRP057248, SRP063620, SRP022876, SRP035387, SRP051485, SRP066956, SRP061701, SRP015845, SRP012461, SRP050551, SRP045659, SRP057196, SRP003901, SRP029262, SRP056696, SRP014190, SRP050497, SRP065491, SRP042620, SRP042184, SRP050440, "
     ]
    },
    {
     "name": "stderr",
     "output_type": "stream",
     "text": [
      "/home/miltondp/projects/labs/greenelab/phenoplier/libs/data/recount2.py:320: UserWarning: Not all experiments data could be loaded (56 != 61)\n",
      "  warnings.warn(\n"
     ]
    },
    {
     "data": {
      "text/plain": [
       "1    cell type\n",
       "dtype: object"
      ]
     },
     "metadata": {},
     "output_type": "display_data"
    },
    {
     "data": {
      "text/plain": [
       "22    tissue\n",
       "dtype: object"
      ]
     },
     "metadata": {},
     "output_type": "display_data"
    },
    {
     "name": "stderr",
     "output_type": "stream",
     "text": [
      "LV74:  30%|███       | 15/50 [02:38<07:07, 12.21s/it]"
     ]
    },
    {
     "name": "stdout",
     "output_type": "stream",
     "text": [
      "SRP010038, SRP043166, SRP042161, SRP006970, SRP066834, SRP064323, SRP042249, SRP055569, SRP041825, SRP057196, SRP049988, SRP024274, SRP059035, SRP014428, SRP063840, SRP016059, SRP007596, SRP047082, SRP050179, SRP029262, SRP033135, SRP060416, SRP060355, SRP026042, SRP048562, SRP064464, SRP056498, SRP019241, SRP013022, SRP009266, SRP064259, SRP041751, SRP056530, SRP050499, SRP067701, SRP017435, SRP041846, SRP004637, SRP061329, SRP061682, SRP042620, SRP020491, SRP059379, SRP020493, SRP035391, SRP033393, SRP025989, SRP050892, SRP032812, SRP007461, SRP045711, SRP042616, SRP018218, SRP057205, SRP049591, SRP033078, SRP058740, SRP022166, SRP055863, SRP011895, SRP045639, SRP021509, SRP045859, SRP056220, SRP041036, SRP027383, SRP051705, SRP058783, "
     ]
    },
    {
     "name": "stderr",
     "output_type": "stream",
     "text": [
      "/home/miltondp/projects/labs/greenelab/phenoplier/libs/data/recount2.py:320: UserWarning: Not all experiments data could be loaded (66 != 68)\n",
      "  warnings.warn(\n"
     ]
    },
    {
     "data": {
      "text/plain": [
       "0    cell type\n",
       "dtype: object"
      ]
     },
     "metadata": {},
     "output_type": "display_data"
    },
    {
     "data": {
      "text/plain": [
       "4    tissue\n",
       "dtype: object"
      ]
     },
     "metadata": {},
     "output_type": "display_data"
    },
    {
     "name": "stderr",
     "output_type": "stream",
     "text": [
      "LV66:  32%|███▏      | 16/50 [02:57<07:58, 14.07s/it]"
     ]
    },
    {
     "name": "stdout",
     "output_type": "stream",
     "text": [
      "SRP048674, SRP029207, SRP021912, SRP051249, SRP040292, SRP055513, SRP055569, SRP057196, SRP050499, SRP017959, SRP029334, SRP045364, SRP043434, SRP049981, SRP042161, SRP008218, SRP020646, SRP011895, SRP012461, SRP021193, SRP012656, SRP026052, SRP050954, SRP037982, SRP049946, SRP027383, SRP022259, SRP049409, SRP056696, SRP018933, SRP002915, SRP033135, SRP009123, SRP058804, SRP043221, SRP066834, SRP050193, SRP048759, SRP047192, SRP050551, SRP008145, SRP060416, SRP044610, SRP050992, SRP004637, SRP044668, SRP057205, SRP058773, SRP042218, SRP016059, SRP058740, SRP040300, SRP020493, SRP039694, SRP040998, SRP058375, SRP056146, SRP010054, SRP039591, SRP019994, SRP014790, SRP014213, SRP007338, SRP029262, SRP014809, SRP018403, SRP041538, SRP063834, SRP034592, SRP018838, SRP007494, SRP050374, SRP002326, SRP007481, SRP030617, SRP026620, SRP052879, SRP015013, SRP033351, SRP058626, SRP061566, SRP039338, SRP017435, SRP044042, SRP015853, SRP007461, SRP007498, SRP003726, SRP066371, "
     ]
    },
    {
     "name": "stderr",
     "output_type": "stream",
     "text": [
      "/home/miltondp/projects/labs/greenelab/phenoplier/libs/data/recount2.py:320: UserWarning: Not all experiments data could be loaded (86 != 89)\n",
      "  warnings.warn(\n"
     ]
    },
    {
     "data": {
      "text/plain": [
       "1    cell type\n",
       "dtype: object"
      ]
     },
     "metadata": {},
     "output_type": "display_data"
    },
    {
     "data": {
      "text/plain": [
       "38    tissue type\n",
       "2          tissue\n",
       "dtype: object"
      ]
     },
     "metadata": {},
     "output_type": "display_data"
    },
    {
     "name": "stderr",
     "output_type": "stream",
     "text": [
      "LV974:  34%|███▍      | 17/50 [03:19<09:07, 16.58s/it]"
     ]
    },
    {
     "name": "stdout",
     "output_type": "stream",
     "text": [
      "SRP012098, SRP012099, SRP039397, SRP014591, SRP007498, SRP028887, SRP017411, SRP041130, SRP057804, SRP046271, SRP002326, SRP021214, SRP022892, SRP023111, SRP007461, SRP033135, SRP062389, SRP055153, SRP055569, SRP045222, SRP015976, SRP007946, SRP051102, SRP043593, SRP067214, SRP017294, SRP033119, SRP018861, SRP060416, SRP014688, SRP044298, SRP044611, SRP015711, SRP010907, SRP012546, SRP057196, SRP034601, SRP053195, SRP012557, SRP026052, SRP056696, SRP050499, SRP029889, SRP011974, SRP049611, SRP026537, SRP008331, SRP015370, SRP041956, SRP013463, SRP022591, SRP067934, SRP010054, SRP007412, SRP030639, SRP061455, SRP022876, SRP013363, SRP042161, SRP059066, SRP056084, SRP059948, SRP026084, SRP042620, SRP028902, SRP015715, SRP014790, SRP058571, SRP002789, SRP003672, SRP006474, SRP014857, SRP002487, SRP017644, SRP014809, SRP045663, SRP057814, SRP005342, SRP064464, SRP059205, SRP005279, SRP050003, SRP058435, SRP064561, SRP009790, SRP065500, SRP013239, SRP045155, SRP002079, SRP052879, SRP019946, SRP041387, SRP040327, SRP026204, SRP055860, SRP034666, SRP061639, SRP014190, SRP042616, SRP064562, SRP004637, SRP015955, SRP013773, "
     ]
    },
    {
     "name": "stderr",
     "output_type": "stream",
     "text": [
      "/home/miltondp/projects/labs/greenelab/phenoplier/libs/data/recount2.py:320: UserWarning: Not all experiments data could be loaded (101 != 103)\n",
      "  warnings.warn(\n"
     ]
    },
    {
     "data": {
      "text/plain": [
       "16    cell type\n",
       "dtype: object"
      ]
     },
     "metadata": {},
     "output_type": "display_data"
    },
    {
     "data": {
      "text/plain": [
       "22    tissue\n",
       "dtype: object"
      ]
     },
     "metadata": {},
     "output_type": "display_data"
    },
    {
     "name": "stderr",
     "output_type": "stream",
     "text": [
      "LV678:  36%|███▌      | 18/50 [03:36<08:52, 16.63s/it]"
     ]
    },
    {
     "name": "stdout",
     "output_type": "stream",
     "text": [
      "SRP011924, SRP066729, SRP055569, SRP052978, SRP029889, SRP026315, SRP042161, SRP017933, SRP009266, SRP033135, SRP009862, SRP014428, SRP006475, SRP055810, SRP062177, SRP034712, SRP028301, SRP044206, SRP012056, SRP057196, SRP057118, SRP045573, SRP024268, SRP018838, SRP060416, SRP018719, SRP061888, SRP058840, SRP002915, SRP059775, SRP014867, SRP033276, SRP029899, SRP021478, SRP049500, SRP036821, SRP055513, SRP058773, SRP045666, SRP041706, SRP011185, SRP006575, SRP028336, SRP043368, SRP012461, SRP058740, SRP007947, "
     ]
    },
    {
     "name": "stderr",
     "output_type": "stream",
     "text": [
      "/home/miltondp/projects/labs/greenelab/phenoplier/libs/data/recount2.py:320: UserWarning: Not all experiments data could be loaded (45 != 47)\n",
      "  warnings.warn(\n"
     ]
    },
    {
     "data": {
      "text/plain": [
       "2    cell type\n",
       "dtype: object"
      ]
     },
     "metadata": {},
     "output_type": "display_data"
    },
    {
     "data": {
      "text/plain": [
       "0    tissue\n",
       "dtype: object"
      ]
     },
     "metadata": {},
     "output_type": "display_data"
    },
    {
     "name": "stderr",
     "output_type": "stream",
     "text": [
      "LV879:  38%|███▊      | 19/50 [03:51<08:21, 16.19s/it]"
     ]
    },
    {
     "name": "stdout",
     "output_type": "stream",
     "text": [
      "SRP041179, SRP048761, SRP002079, SRP039397, SRP047194, SRP047233, SRP049553, SRP017684, SRP045876, SRP022028, SRP061416, SRP045308, SRP006561, SRP041738, SRP047516, SRP060650, SRP063669, SRP018848, SRP035482, SRP035417, SRP013999, SRP033432, SRP058804, SRP041159, SRP049340, SRP028804, SRP039346, SRP064624, SRP046749, SRP032928, SRP049203, SRP013825, SRP033267, SRP049475, SRP047339, SRP041377, SRP037579, SRP061682, SRP055569, SRP028118, SRP050499, SRP032798, SRP056957, SRP059205, SRP041751, SRP008225, SRP014671, SRP048825, SRP036821, SRP040525, SRP056076, SRP021134, SRP055440, SRP003021, SRP016140, "
     ]
    },
    {
     "data": {
      "text/plain": [
       "1    cell type\n",
       "dtype: object"
      ]
     },
     "metadata": {},
     "output_type": "display_data"
    },
    {
     "data": {
      "text/plain": [
       "22    tissue\n",
       "dtype: object"
      ]
     },
     "metadata": {},
     "output_type": "display_data"
    },
    {
     "name": "stderr",
     "output_type": "stream",
     "text": [
      "LV969:  40%|████      | 20/50 [03:56<06:29, 13.00s/it]"
     ]
    },
    {
     "name": "stdout",
     "output_type": "stream",
     "text": [
      "SRP055569, SRP042161, SRP057196, SRP033135, SRP049238, SRP042184, SRP014671, SRP028180, SRP017019, SRP026052, SRP065500, SRP044042, SRP060416, SRP057205, SRP066834, SRP019758, SRP029334, SRP012461, SRP044241, SRP058773, SRP059431, SRP043578, SRP062188, SRP007359, SRP017411, SRP026537, SRP031478, SRP009247, SRP019994, SRP009374, SRP064259, SRP015013, SRP065202, SRP022892, SRP055153, SRP049465, SRP015439, SRP011185, SRP042620, SRP009862, SRP012557, SRP013402, SRP065153, SRP034528, SRP050193, SRP009266, SRP065763, SRP042218, SRP006575, SRP033276, SRP011974, SRP066956, SRP063661, SRP017972, SRP057500, SRP009276, SRP038963, SRP002184, SRP026620, SRP013363, SRP017644, SRP011422, SRP049500, SRP051595, SRP010678, SRP059035, SRP049756, SRP007338, SRP021912, SRP018838, SRP012651, SRP032165, SRP011546, SRP061455, SRP045869, SRP014027, SRP007596, SRP010038, SRP044854, "
     ]
    },
    {
     "name": "stderr",
     "output_type": "stream",
     "text": [
      "/home/miltondp/projects/labs/greenelab/phenoplier/libs/data/recount2.py:320: UserWarning: Not all experiments data could be loaded (75 != 79)\n",
      "  warnings.warn(\n"
     ]
    },
    {
     "data": {
      "text/plain": [
       "0    cell type\n",
       "dtype: object"
      ]
     },
     "metadata": {},
     "output_type": "display_data"
    },
    {
     "data": {
      "text/plain": [
       "4    tissue\n",
       "dtype: object"
      ]
     },
     "metadata": {},
     "output_type": "display_data"
    },
    {
     "name": "stderr",
     "output_type": "stream",
     "text": [
      "LV27:  42%|████▏     | 21/50 [04:17<07:24, 15.31s/it] "
     ]
    },
    {
     "name": "stdout",
     "output_type": "stream",
     "text": [
      "SRP007461, SRP049377, SRP010678, SRP011974, SRP026013, SRP019936, SRP042620, SRP014320, SRP004637, SRP018883, SRP024274, SRP055475, SRP009266, SRP026537, SRP027258, SRP006731, SRP031478, SRP059431, SRP012651, SRP009862, SRP065500, SRP046376, SRP052856, SRP007403, SRP044925, SRP065763, SRP006575, SRP010644, SRP044854, SRP065202, SRP049465, SRP034528, SRP063661, SRP050036, SRP049756, SRP056637, SRP057448, SRP042218, SRP006726, SRP051606, SRP026042, SRP019758, SRP055569, SRP015361, SRP021891, SRP064259, SRP044241, SRP041956, SRP035641, SRP063493, SRP009251, SRP022876, SRP065153, SRP039077, "
     ]
    },
    {
     "name": "stderr",
     "output_type": "stream",
     "text": [
      "/home/miltondp/projects/labs/greenelab/phenoplier/libs/data/recount2.py:320: UserWarning: Not all experiments data could be loaded (50 != 54)\n",
      "  warnings.warn(\n"
     ]
    },
    {
     "data": {
      "text/plain": [
       "0    cell type\n",
       "dtype: object"
      ]
     },
     "metadata": {},
     "output_type": "display_data"
    },
    {
     "data": {
      "text/plain": [
       "8    tissue type\n",
       "9         tissue\n",
       "dtype: object"
      ]
     },
     "metadata": {},
     "output_type": "display_data"
    },
    {
     "name": "stderr",
     "output_type": "stream",
     "text": [
      "LV509:  44%|████▍     | 22/50 [04:24<05:54, 12.68s/it]"
     ]
    },
    {
     "name": "stdout",
     "output_type": "stream",
     "text": [
      "SRP009266, SRP013725, SRP006575, SRP023262, SRP009862, SRP065202, SRP055569, SRP035391, SRP043962, SRP061241, SRP002487, SRP007596, SRP042579, SRP050365, SRP045869, SRP033119, SRP002915, SRP028815, SRP026315, SRP005177, SRP012056, SRP044611, SRP067214, SRP026537, SRP033369, SRP012461, SRP019936, SRP019994, SRP046749, SRP033135, SRP014739, SRP049500, SRP007461, SRP057196, SRP010350, SRP007359, SRP039348, SRP017644, SRP024268, SRP052950, SRP005279, SRP051102, SRP065559, SRP004637, SRP040136, SRP048536, SRP006475, SRP009276, SRP058120, SRP004847, SRP033276, SRP060416, SRP042161, SRP014320, SRP041210, SRP020493, SRP051599, SRP045905, SRP055153, SRP049988, SRP003611, SRP036821, SRP042616, SRP043378, SRP051765, SRP014790, SRP017789, SRP032510, SRP050036, SRP017411, SRP064464, SRP056696, SRP060661, SRP003726, SRP022920, SRP013984, SRP055810, SRP063620, SRP045898, "
     ]
    },
    {
     "name": "stderr",
     "output_type": "stream",
     "text": [
      "/home/miltondp/projects/labs/greenelab/phenoplier/libs/data/recount2.py:320: UserWarning: Not all experiments data could be loaded (75 != 79)\n",
      "  warnings.warn(\n"
     ]
    },
    {
     "data": {
      "text/plain": [
       "1    cell type\n",
       "dtype: object"
      ]
     },
     "metadata": {},
     "output_type": "display_data"
    },
    {
     "data": {
      "text/plain": [
       "38    tissue type\n",
       "4          tissue\n",
       "dtype: object"
      ]
     },
     "metadata": {},
     "output_type": "display_data"
    },
    {
     "name": "stderr",
     "output_type": "stream",
     "text": [
      "LV272:  46%|████▌     | 23/50 [04:41<06:19, 14.05s/it]"
     ]
    },
    {
     "name": "stdout",
     "output_type": "stream",
     "text": [
      "SRP055569, SRP042161, SRP006474, SRP033135, SRP017575, SRP036821, SRP006575, SRP057196, SRP009266, SRP050499, SRP066834, SRP065202, SRP019994, SRP060416, SRP047192, SRP005279, SRP059775, SRP049097, SRP059379, SRP058773, SRP007359, SRP061241, SRP012461, SRP009862, SRP042620, SRP049713, SRP014620, SRP057745, SRP003754, SRP033369, SRP033276, SRP014428, SRP027383, SRP049238, SRP045322, SRP062230, SRP024268, SRP058841, SRP018838, SRP002915, SRP055810, "
     ]
    },
    {
     "name": "stderr",
     "output_type": "stream",
     "text": [
      "/home/miltondp/projects/labs/greenelab/phenoplier/libs/data/recount2.py:320: UserWarning: Not all experiments data could be loaded (38 != 41)\n",
      "  warnings.warn(\n"
     ]
    },
    {
     "data": {
      "text/plain": [
       "0    cell type\n",
       "dtype: object"
      ]
     },
     "metadata": {},
     "output_type": "display_data"
    },
    {
     "data": {
      "text/plain": [
       "33    tissue type\n",
       "12         tissue\n",
       "dtype: object"
      ]
     },
     "metadata": {},
     "output_type": "display_data"
    },
    {
     "name": "stderr",
     "output_type": "stream",
     "text": [
      "LV905:  48%|████▊     | 24/50 [04:58<06:32, 15.08s/it]"
     ]
    },
    {
     "name": "stdout",
     "output_type": "stream",
     "text": [
      "SRP027358, SRP055569, SRP067661, SRP041885, SRP062025, SRP033135, SRP042616, SRP050499, SRP051102, SRP015138, SRP056295, SRP050146, SRP051765, SRP046233, SRP028594, SRP055390, SRP055103, SRP048759, SRP056074, SRP033266, SRP058719, SRP042161, SRP049063, SRP056197, SRP042043, SRP047323, "
     ]
    },
    {
     "data": {
      "text/plain": [
       "3    cell type\n",
       "dtype: object"
      ]
     },
     "metadata": {},
     "output_type": "display_data"
    },
    {
     "data": {
      "text/plain": [
       "1    tissue\n",
       "dtype: object"
      ]
     },
     "metadata": {},
     "output_type": "display_data"
    },
    {
     "name": "stderr",
     "output_type": "stream",
     "text": [
      "LV254:  50%|█████     | 25/50 [05:09<05:46, 13.87s/it]"
     ]
    },
    {
     "name": "stdout",
     "output_type": "stream",
     "text": [
      "SRP055569, SRP033135, SRP060416, SRP042161, SRP012461, SRP057196, SRP058722, SRP026315, SRP066834, SRP058773, SRP018853, SRP003754, SRP050499, SRP010350, SRP057248, SRP049238, SRP013402, SRP023111, SRP018525, SRP033116, SRP007508, SRP050223, SRP018838, SRP033119, SRP013450, SRP002184, SRP058120, SRP042218, SRP014213, SRP015013, SRP042620, SRP050246, SRP045611, SRP057205, SRP059775, SRP063070, SRP050992, SRP009266, SRP059950, SRP041036, SRP063840, SRP009862, "
     ]
    },
    {
     "name": "stderr",
     "output_type": "stream",
     "text": [
      "/home/miltondp/projects/labs/greenelab/phenoplier/libs/data/recount2.py:320: UserWarning: Not all experiments data could be loaded (39 != 42)\n",
      "  warnings.warn(\n"
     ]
    },
    {
     "data": {
      "text/plain": [
       "0    cell type\n",
       "dtype: object"
      ]
     },
     "metadata": {},
     "output_type": "display_data"
    },
    {
     "data": {
      "text/plain": [
       "15    tissue\n",
       "dtype: object"
      ]
     },
     "metadata": {},
     "output_type": "display_data"
    },
    {
     "name": "stderr",
     "output_type": "stream",
     "text": [
      "LV720:  52%|█████▏    | 26/50 [05:26<05:53, 14.74s/it]"
     ]
    },
    {
     "name": "stdout",
     "output_type": "stream",
     "text": [
      "SRP067214, SRP028570, SRP061639, SRP050246, SRP057629, SRP007498, SRP017577, SRP064323, SRP051472, SRP026052, SRP051644, SRP015419, SRP050138, SRP007461, SRP033117, SRP048669, SRP064143, SRP045421, SRP056084, SRP035419, SRP026620, SRP043960, SRP064735, SRP061881, SRP028155, SRP050193, SRP033569, SRP046266, SRP013363, SRP002605, SRP045441, SRP055411, SRP062389, SRP058479, SRP033466, SRP056036, SRP050333, SRP041036, SRP019275, SRP013724, SRP019810, SRP062230, SRP058098, SRP026126, SRP049238, SRP047097, SRP057205, SRP047082, SRP002487, SRP015640, SRP064562, SRP021918, SRP061840, SRP031858, SRP057512, SRP056369, SRP061425, SRP057613, SRP005174, SRP063980, SRP058244, SRP044673, SRP011378, SRP056074, SRP048660, SRP051170, SRP045322, SRP051320, SRP041162, "
     ]
    },
    {
     "name": "stderr",
     "output_type": "stream",
     "text": [
      "/home/miltondp/projects/labs/greenelab/phenoplier/libs/data/recount2.py:320: UserWarning: Not all experiments data could be loaded (68 != 69)\n",
      "  warnings.warn(\n"
     ]
    },
    {
     "data": {
      "text/plain": [
       "9    cell type\n",
       "dtype: object"
      ]
     },
     "metadata": {},
     "output_type": "display_data"
    },
    {
     "data": {
      "text/plain": [
       "18    tissue\n",
       "dtype: object"
      ]
     },
     "metadata": {},
     "output_type": "display_data"
    },
    {
     "name": "stderr",
     "output_type": "stream",
     "text": [
      "LV587:  54%|█████▍    | 27/50 [05:32<04:38, 12.13s/it]"
     ]
    },
    {
     "name": "stdout",
     "output_type": "stream",
     "text": [
      "SRP055569, SRP046254, SRP051599, SRP050179, SRP040243, SRP049061, SRP012607, SRP044763, SRP067529, SRP049507, SRP017142, SRP045867, SRP056989, SRP017631, SRP034541, SRP033401, SRP007461, SRP060598, SRP015976, SRP043510, SRP017972, SRP007494, SRP041508, SRP009862, SRP064820, SRP066917, SRP034163, SRP016790, SRP033131, SRP014320, SRP023270, SRP017378, SRP033502, SRP057205, SRP058387, SRP008554, SRP050499, SRP041387, SRP033351, SRP004637, SRP050374, SRP007481, SRP018218, SRP043162, SRP051606, SRP016059, SRP039397, SRP009266, SRP064464, SRP037550, SRP041036, SRP066834, SRP041063, SRP041573, SRP055153, SRP057196, SRP057251, SRP056146, SRP042161, SRP049340, SRP004042, SRP033135, SRP012167, SRP068942, SRP047299, SRP060416, SRP056330, SRP050534, "
     ]
    },
    {
     "name": "stderr",
     "output_type": "stream",
     "text": [
      "/home/miltondp/projects/labs/greenelab/phenoplier/libs/data/recount2.py:320: UserWarning: Not all experiments data could be loaded (64 != 68)\n",
      "  warnings.warn(\n"
     ]
    },
    {
     "data": {
      "text/plain": [
       "0    cell type\n",
       "dtype: object"
      ]
     },
     "metadata": {},
     "output_type": "display_data"
    },
    {
     "data": {
      "text/plain": [
       "7    tissue\n",
       "dtype: object"
      ]
     },
     "metadata": {},
     "output_type": "display_data"
    },
    {
     "name": "stderr",
     "output_type": "stream",
     "text": [
      "LV608:  56%|█████▌    | 28/50 [05:48<04:48, 13.12s/it]"
     ]
    },
    {
     "name": "stdout",
     "output_type": "stream",
     "text": [
      "SRP055569, SRP033135, SRP066834, SRP042161, SRP012461, SRP057196, SRP060416, SRP018838, SRP058773, SRP011578, SRP045659, SRP050499, SRP059170, SRP034953, SRP056733, SRP030617, SRP005279, SRP064464, SRP063840, SRP009251, SRP059775, SRP011054, SRP029656, SRP007338, SRP059379, SRP009266, SRP048801, SRP057205, SRP006575, SRP059039, SRP055153, SRP045869, SRP017575, SRP002487, SRP015013, SRP016003, SRP025982, SRP017777, SRP056840, SRP050000, SRP033248, SRP019994, SRP024268, SRP007947, SRP028336, SRP042228, SRP049068, "
     ]
    },
    {
     "name": "stderr",
     "output_type": "stream",
     "text": [
      "/home/miltondp/projects/labs/greenelab/phenoplier/libs/data/recount2.py:320: UserWarning: Not all experiments data could be loaded (46 != 47)\n",
      "  warnings.warn(\n"
     ]
    },
    {
     "data": {
      "text/plain": [
       "0    cell type\n",
       "dtype: object"
      ]
     },
     "metadata": {},
     "output_type": "display_data"
    },
    {
     "data": {
      "text/plain": [
       "7    tissue\n",
       "dtype: object"
      ]
     },
     "metadata": {},
     "output_type": "display_data"
    },
    {
     "name": "stderr",
     "output_type": "stream",
     "text": [
      "LV246:  58%|█████▊    | 29/50 [06:16<06:08, 17.57s/it]"
     ]
    },
    {
     "name": "stdout",
     "output_type": "stream",
     "text": [
      "SRP042186, SRP045545, SRP044756, SRP051211, SRP042620, SRP055749, SRP029899, SRP021478, SRP042086, SRP065812, SRP007412, SRP020470, SRP037778, SRP042161, SRP029889, SRP057196, SRP053101, SRP050499, SRP035988, SRP033135, SRP034712, SRP012461, SRP056041, SRP048674, SRP059643, SRP045364, SRP026042, SRP050971, SRP051705, SRP035387, SRP055512, SRP007461, SRP065451, SRP007338, SRP019936, SRP055569, SRP060355, SRP058571, SRP041377, SRP040998, SRP059379, SRP036133, SRP066834, SRP051772, SRP044056, SRP048669, SRP059066, SRP068078, SRP060359, SRP055475, SRP058771, SRP045639, SRP043085, SRP062177, SRP064464, SRP041597, SRP056696, SRP059035, SRP010678, SRP049593, SRP048536, SRP061566, SRP030617, SRP057804, SRP045156, SRP044171, SRP010644, SRP057448, SRP041751, SRP061701, SRP033131, SRP041387, SRP063834, SRP020493, "
     ]
    },
    {
     "name": "stderr",
     "output_type": "stream",
     "text": [
      "/home/miltondp/projects/labs/greenelab/phenoplier/libs/data/recount2.py:320: UserWarning: Not all experiments data could be loaded (72 != 74)\n",
      "  warnings.warn(\n"
     ]
    },
    {
     "data": {
      "text/plain": [
       "0    cell type\n",
       "dtype: object"
      ]
     },
     "metadata": {},
     "output_type": "display_data"
    },
    {
     "data": {
      "text/plain": [
       "17    tissue type\n",
       "10         tissue\n",
       "dtype: object"
      ]
     },
     "metadata": {},
     "output_type": "display_data"
    },
    {
     "name": "stderr",
     "output_type": "stream",
     "text": [
      "LV20:  60%|██████    | 30/50 [06:30<05:33, 16.68s/it] "
     ]
    },
    {
     "name": "stdout",
     "output_type": "stream",
     "text": [
      "SRP014213, SRP042161, SRP007596, SRP009247, SRP057196, SRP011422, SRP029452, SRP055569, SRP045569, SRP026537, SRP033464, SRP003901, SRP066834, SRP059692, SRP007338, SRP035387, SRP025989, SRP036821, SRP060416, SRP057745, SRP058773, SRP019994, SRP024268, SRP060355, SRP056957, SRP032775, SRP049820, SRP029889, SRP055153, SRP041833, SRP017575, SRP022892, SRP050499, SRP056295, SRP012098, SRP012099, SRP033248, SRP014320, SRP011578, SRP036848, SRP034528, SRP058740, SRP002326, SRP055513, SRP064464, SRP034712, SRP033135, SRP059732, SRP041751, SRP049097, SRP029334, SRP065202, SRP006575, SRP014620, SRP057500, SRP063661, SRP036053, SRP043694, SRP008775, SRP039361, SRP049981, SRP015670, SRP011185, SRP018020, SRP064259, SRP010279, SRP018838, SRP010166, SRP043033, SRP053004, SRP018837, SRP004837, SRP041988, SRP008145, SRP063840, SRP018242, SRP058667, SRP005279, SRP018403, SRP019248, SRP041538, SRP031507, SRP063834, "
     ]
    },
    {
     "name": "stderr",
     "output_type": "stream",
     "text": [
      "/home/miltondp/projects/labs/greenelab/phenoplier/libs/data/recount2.py:320: UserWarning: Not all experiments data could be loaded (81 != 83)\n",
      "  warnings.warn(\n"
     ]
    },
    {
     "data": {
      "text/plain": [
       "1    cell type\n",
       "dtype: object"
      ]
     },
     "metadata": {},
     "output_type": "display_data"
    },
    {
     "data": {
      "text/plain": [
       "101    tissue type\n",
       "8           tissue\n",
       "dtype: object"
      ]
     },
     "metadata": {},
     "output_type": "display_data"
    },
    {
     "name": "stderr",
     "output_type": "stream",
     "text": [
      "LV854:  62%|██████▏   | 31/50 [06:48<05:21, 16.92s/it]"
     ]
    },
    {
     "name": "stdout",
     "output_type": "stream",
     "text": [
      "SRP045352, SRP059695, SRP058237, SRP015360, SRP043033, SRP041826, SRP060416, SRP057852, SRP056295, SRP017138, SRP010644, SRP048801, SRP042228, SRP056733, SRP050272, SRP045500, SRP056197, SRP056098, SRP035679, SRP044303, SRP057196, SRP044286, SRP063363, SRP063493, SRP063500, SRP043080, SRP014856, SRP007461, SRP048759, SRP003726, SRP059205, SRP042031, SRP028594, SRP063496, SRP049097, SRP039361, SRP050000, SRP056840, SRP059735, SRP064454, SRP033266, SRP050493, SRP046233, SRP062958, SRP052491, SRP044271, SRP032789, SRP021191, SRP033466, SRP041538, "
     ]
    },
    {
     "name": "stderr",
     "output_type": "stream",
     "text": [
      "/home/miltondp/projects/labs/greenelab/phenoplier/libs/data/recount2.py:320: UserWarning: Not all experiments data could be loaded (49 != 50)\n",
      "  warnings.warn(\n"
     ]
    },
    {
     "data": {
      "text/plain": [
       "30     celltype\n",
       "0     cell type\n",
       "dtype: object"
      ]
     },
     "metadata": {},
     "output_type": "display_data"
    },
    {
     "data": {
      "text/plain": [
       "64    tissue type\n",
       "4          tissue\n",
       "dtype: object"
      ]
     },
     "metadata": {},
     "output_type": "display_data"
    },
    {
     "name": "stderr",
     "output_type": "stream",
     "text": [
      "LV840:  64%|██████▍   | 32/50 [07:00<04:39, 15.55s/it]"
     ]
    },
    {
     "name": "stdout",
     "output_type": "stream",
     "text": [
      "SRP043417, SRP028301, SRP059775, SRP062177, SRP012056, SRP033119, SRP040278, SRP058300, SRP034543, SRP056084, SRP038695, SRP058841, SRP059948, SRP042161, SRP009266, SRP006475, SRP045501, SRP033369, SRP058773, SRP018861, SRP041036, SRP055810, SRP055569, SRP029245, SRP018719, SRP015964, SRP014867, SRP010280, SRP048536, SRP002605, SRP053402, SRP063339, SRP019250, SRP007461, SRP044653, SRP046749, SRP039397, SRP052950, SRP056036, SRP043962, SRP061539, SRP019989, SRP064481, SRP045481, SRP028887, SRP013725, SRP009861, SRP041263, SRP058087, SRP019241, SRP050055, SRP011546, SRP039348, SRP010430, SRP058191, SRP049510, SRP056200, SRP060637, SRP021214, SRP060416, SRP041656, SRP064464, SRP041396, SRP053052, SRP029515, SRP064317, SRP001349, SRP041130, SRP017644, SRP059266, "
     ]
    },
    {
     "name": "stderr",
     "output_type": "stream",
     "text": [
      "/home/miltondp/projects/labs/greenelab/phenoplier/libs/data/recount2.py:320: UserWarning: Not all experiments data could be loaded (68 != 70)\n",
      "  warnings.warn(\n"
     ]
    },
    {
     "data": {
      "text/plain": [
       "2    cell type\n",
       "dtype: object"
      ]
     },
     "metadata": {},
     "output_type": "display_data"
    },
    {
     "data": {
      "text/plain": [
       "52    tissue\n",
       "dtype: object"
      ]
     },
     "metadata": {},
     "output_type": "display_data"
    },
    {
     "name": "stderr",
     "output_type": "stream",
     "text": [
      "LV903:  66%|██████▌   | 33/50 [07:08<03:43, 13.17s/it]"
     ]
    },
    {
     "name": "stdout",
     "output_type": "stream",
     "text": [
      "SRP064464, SRP039552, SRP004847, SRP039077, SRP066956, SRP050440, SRP056330, SRP028336, SRP006676, SRP051182, SRP010483, SRP063661, SRP064321, SRP046226, SRP051606, SRP058722, SRP047383, SRP035268, SRP059732, SRP043434, SRP063493, SRP059509, SRP063834, SRP026537, SRP004837, SRP064259, SRP062287, SRP028180, SRP052057, SRP044917, SRP018883, SRP004965, SRP011974, SRP012656, SRP059275, SRP019936, SRP041538, SRP040442, SRP051544, SRP043388, SRP058237, SRP033250, SRP031478, SRP029262, SRP037775, SRP003726, SRP019207, SRP016059, SRP059035, SRP049988, SRP063840, SRP042620, SRP065763, SRP017411, SRP008218, SRP065491, SRP009266, SRP032789, SRP006900, SRP002628, SRP048700, SRP051595, SRP059733, SRP035387, SRP050003, SRP010678, SRP019241, SRP002326, "
     ]
    },
    {
     "name": "stderr",
     "output_type": "stream",
     "text": [
      "/home/miltondp/projects/labs/greenelab/phenoplier/libs/data/recount2.py:320: UserWarning: Not all experiments data could be loaded (67 != 68)\n",
      "  warnings.warn(\n"
     ]
    },
    {
     "data": {
      "text/plain": [
       "5    cell type\n",
       "dtype: object"
      ]
     },
     "metadata": {},
     "output_type": "display_data"
    },
    {
     "data": {
      "text/plain": [
       "60    tissue type\n",
       "9          tissue\n",
       "dtype: object"
      ]
     },
     "metadata": {},
     "output_type": "display_data"
    },
    {
     "name": "stderr",
     "output_type": "stream",
     "text": [
      "LV310:  68%|██████▊   | 34/50 [07:14<02:55, 10.96s/it]"
     ]
    },
    {
     "name": "stdout",
     "output_type": "stream",
     "text": [
      "SRP012461, SRP034712, SRP008218, SRP045364, SRP057196, SRP060416, SRP055569, SRP049946, SRP064464, SRP040998, SRP004965, SRP056696, SRP045500, SRP045352, SRP050954, SRP029889, SRP021478, SRP029899, SRP012557, SRP050499, SRP050551, SRP037982, SRP063889, SRP009123, SRP015439, SRP042161, SRP058626, SRP049714, SRP049409, SRP060355, SRP066834, SRP029207, SRP007481, SRP021912, SRP050374, SRP033351, SRP041538, SRP007947, SRP033135, SRP063834, SRP007338, SRP055810, SRP032833, SRP063059, SRP004847, SRP043162, "
     ]
    },
    {
     "name": "stderr",
     "output_type": "stream",
     "text": [
      "/home/miltondp/projects/labs/greenelab/phenoplier/libs/data/recount2.py:320: UserWarning: Not all experiments data could be loaded (44 != 46)\n",
      "  warnings.warn(\n"
     ]
    },
    {
     "data": {
      "text/plain": [
       "34     celltype\n",
       "0     cell type\n",
       "dtype: object"
      ]
     },
     "metadata": {},
     "output_type": "display_data"
    },
    {
     "data": {
      "text/plain": [
       "77    tissue type\n",
       "11         tissue\n",
       "dtype: object"
      ]
     },
     "metadata": {},
     "output_type": "display_data"
    },
    {
     "name": "stderr",
     "output_type": "stream",
     "text": [
      "LV824:  70%|███████   | 35/50 [07:27<02:56, 11.75s/it]"
     ]
    },
    {
     "name": "stdout",
     "output_type": "stream",
     "text": [
      "SRP057205, SRP055569, SRP060416, SRP042161, SRP057196, SRP066834, SRP007498, SRP050499, SRP007947, SRP033135, SRP024268, SRP031507, SRP059379, SRP064464, SRP058773, SRP030617, SRP009862, SRP049340, SRP058351, SRP018719, SRP008218, SRP042119, SRP059279, SRP040145, SRP003726, SRP030475, SRP050992, SRP049391, SRP050147, SRP045294, SRP005129, SRP056076, SRP064259, SRP004847, SRP026537, SRP019241, SRP051472, SRP041263, SRP063867, SRP044611, SRP031858, SRP041008, SRP032928, SRP026033, SRP011378, SRP003021, SRP014320, SRP049475, SRP061840, SRP050365, SRP011546, SRP014626, SRP056084, SRP049593, SRP018861, SRP026084, "
     ]
    },
    {
     "name": "stderr",
     "output_type": "stream",
     "text": [
      "/home/miltondp/projects/labs/greenelab/phenoplier/libs/data/recount2.py:320: UserWarning: Not all experiments data could be loaded (54 != 56)\n",
      "  warnings.warn(\n"
     ]
    },
    {
     "data": {
      "text/plain": [
       "5    cell type\n",
       "dtype: object"
      ]
     },
     "metadata": {},
     "output_type": "display_data"
    },
    {
     "data": {
      "text/plain": [
       "10    tissue\n",
       "dtype: object"
      ]
     },
     "metadata": {},
     "output_type": "display_data"
    },
    {
     "name": "stderr",
     "output_type": "stream",
     "text": [
      "LV507:  72%|███████▏  | 36/50 [07:41<02:54, 12.45s/it]"
     ]
    },
    {
     "name": "stdout",
     "output_type": "stream",
     "text": [
      "SRP059170, SRP055569, SRP057196, SRP018838, SRP045565, SRP029513, SRP033135, SRP006474, SRP042161, SRP003227, SRP057244, SRP066834, SRP060416, SRP064464, SRP062025, SRP057248, SRP056049, SRP014320, SRP055810, SRP063840, SRP050992, SRP014428, SRP045052, SRP037735, SRP059035, SRP014620, SRP067661, SRP038963, SRP043033, "
     ]
    },
    {
     "name": "stderr",
     "output_type": "stream",
     "text": [
      "/home/miltondp/projects/labs/greenelab/phenoplier/libs/data/recount2.py:320: UserWarning: Not all experiments data could be loaded (28 != 29)\n",
      "  warnings.warn(\n"
     ]
    },
    {
     "data": {
      "text/plain": [
       "4    cell type\n",
       "dtype: object"
      ]
     },
     "metadata": {},
     "output_type": "display_data"
    },
    {
     "data": {
      "text/plain": [
       "3    tissue\n",
       "dtype: object"
      ]
     },
     "metadata": {},
     "output_type": "display_data"
    },
    {
     "name": "stderr",
     "output_type": "stream",
     "text": [
      "LV19:  74%|███████▍  | 37/50 [07:52<02:36, 12.06s/it] "
     ]
    },
    {
     "name": "stdout",
     "output_type": "stream",
     "text": [
      "SRP015789, SRP017123, SRP055513, SRP055918, SRP041751, SRP007494, SRP017959, SRP047192, SRP055569, SRP036821, SRP042161, SRP017575, SRP056220, SRP023262, SRP006575, SRP014790, SRP024268, SRP019994, SRP009247, SRP042620, SRP060416, SRP051249, SRP048761, SRP015909, SRP050892, SRP063493, SRP026537, SRP020493, SRP064464, SRP062873, SRP006900, SRP009266, SRP018853, SRP004637, SRP061426, SRP018359, SRP030475, SRP038963, SRP016118, SRP039077, SRP028554, SRP007461, SRP044611, SRP025982, SRP019936, SRP042579, SRP050003, SRP029262, SRP041573, SRP021214, SRP061380, SRP008218, "
     ]
    },
    {
     "name": "stderr",
     "output_type": "stream",
     "text": [
      "/home/miltondp/projects/labs/greenelab/phenoplier/libs/data/recount2.py:320: UserWarning: Not all experiments data could be loaded (50 != 52)\n",
      "  warnings.warn(\n"
     ]
    },
    {
     "data": {
      "text/plain": [
       "6    cell type\n",
       "dtype: object"
      ]
     },
     "metadata": {},
     "output_type": "display_data"
    },
    {
     "data": {
      "text/plain": [
       "45    tissue type\n",
       "0          tissue\n",
       "dtype: object"
      ]
     },
     "metadata": {},
     "output_type": "display_data"
    },
    {
     "name": "stderr",
     "output_type": "stream",
     "text": [
      "LV517:  76%|███████▌  | 38/50 [08:08<02:38, 13.18s/it]"
     ]
    },
    {
     "name": "stdout",
     "output_type": "stream",
     "text": [
      "SRP055569, SRP057196, SRP015449, SRP002326, SRP042161, SRP060416, SRP033206, SRP030401, SRP025989, SRP050892, SRP040421, SRP012461, SRP064259, SRP050499, SRP009266, SRP018104, SRP005279, SRP066834, SRP006970, SRP057205, SRP029889, SRP019994, SRP018020, SRP043960, SRP009862, SRP017199, SRP058773, SRP014624, SRP018838, SRP015976, SRP060359, SRP014867, SRP033119, SRP059775, SRP014320, SRP063840, SRP041788, SRP056696, SRP017575, SRP018719, SRP027345, SRP017933, SRP046266, SRP030617, SRP015670, SRP015013, SRP044206, SRP017190, SRP055863, SRP011422, SRP007338, SRP015678, SRP045639, SRP006575, SRP028325, SRP033135, SRP059039, SRP004837, SRP059732, SRP062389, SRP059379, SRP014428, SRP002605, SRP023262, SRP027258, SRP036821, SRP010038, SRP038964, SRP041162, SRP014027, "
     ]
    },
    {
     "name": "stderr",
     "output_type": "stream",
     "text": [
      "/home/miltondp/projects/labs/greenelab/phenoplier/libs/data/recount2.py:320: UserWarning: Not all experiments data could be loaded (67 != 70)\n",
      "  warnings.warn(\n"
     ]
    },
    {
     "data": {
      "text/plain": [
       "0    cell type\n",
       "dtype: object"
      ]
     },
     "metadata": {},
     "output_type": "display_data"
    },
    {
     "data": {
      "text/plain": [
       "1    tissue\n",
       "dtype: object"
      ]
     },
     "metadata": {},
     "output_type": "display_data"
    },
    {
     "name": "stderr",
     "output_type": "stream",
     "text": [
      "LV513:  78%|███████▊  | 39/50 [08:24<02:32, 13.89s/it]"
     ]
    },
    {
     "name": "stdout",
     "output_type": "stream",
     "text": [
      "SRP055569, SRP060416, SRP042161, SRP012461, SRP031507, SRP007498, SRP057205, SRP050499, SRP042218, SRP018242, SRP057196, SRP003754, SRP066834, SRP063840, SRP018838, SRP059379, SRP034007, SRP055153, SRP042620, SRP057244, SRP000599, SRP007596, SRP050365, SRP007461, SRP033135, SRP009266, SRP006474, SRP006575, SRP023262, SRP029334, SRP026537, SRP026315, SRP064464, SRP009276, SRP045659, SRP050374, SRP025982, "
     ]
    },
    {
     "name": "stderr",
     "output_type": "stream",
     "text": [
      "/home/miltondp/projects/labs/greenelab/phenoplier/libs/data/recount2.py:320: UserWarning: Not all experiments data could be loaded (33 != 37)\n",
      "  warnings.warn(\n"
     ]
    },
    {
     "data": {
      "text/plain": [
       "0    cell type\n",
       "dtype: object"
      ]
     },
     "metadata": {},
     "output_type": "display_data"
    },
    {
     "data": {
      "text/plain": [
       "28    tissue\n",
       "dtype: object"
      ]
     },
     "metadata": {},
     "output_type": "display_data"
    },
    {
     "name": "stderr",
     "output_type": "stream",
     "text": [
      "LV864:  80%|████████  | 40/50 [08:42<02:33, 15.35s/it]"
     ]
    },
    {
     "name": "stdout",
     "output_type": "stream",
     "text": [
      "SRP056498, SRP017788, SRP028155, SRP062544, SRP034873, SRP019275, SRP013022, SRP040300, SRP059692, SRP019936, SRP043090, SRP041962, SRP033250, SRP028570, SRP032456, SRP044265, SRP056041, SRP042620, SRP051606, SRP064625, SRP020493, SRP015764, SRP064259, SRP047065, SRP042303, SRP066356, SRP017789, SRP026537, SRP058571, SRP048669, SRP057512, SRP047299, SRP049340, SRP060598, SRP057196, SRP055569, SRP046266, SRP045639, SRP066424, SRP026620, SRP026256, SRP033135, SRP061425, SRP055153, SRP045695, SRP014842, SRP066917, SRP045421, SRP054971, SRP004637, SRP060416, SRP062617, SRP051000, SRP051595, SRP059035, SRP027514, SRP018778, SRP058260, SRP058773, SRP066834, SRP017019, SRP044013, SRP063070, SRP017378, "
     ]
    },
    {
     "name": "stderr",
     "output_type": "stream",
     "text": [
      "/home/miltondp/projects/labs/greenelab/phenoplier/libs/data/recount2.py:320: UserWarning: Not all experiments data could be loaded (63 != 64)\n",
      "  warnings.warn(\n"
     ]
    },
    {
     "data": {
      "text/plain": [
       "0    cell type\n",
       "dtype: object"
      ]
     },
     "metadata": {},
     "output_type": "display_data"
    },
    {
     "data": {
      "text/plain": [
       "16    tissue type\n",
       "9          tissue\n",
       "dtype: object"
      ]
     },
     "metadata": {},
     "output_type": "display_data"
    },
    {
     "name": "stderr",
     "output_type": "stream",
     "text": [
      "LV674:  82%|████████▏ | 41/50 [08:52<02:02, 13.66s/it]"
     ]
    },
    {
     "name": "stdout",
     "output_type": "stream",
     "text": [
      "SRP063840, SRP056530, SRP024268, SRP007947, SRP019240, SRP057196, SRP051485, SRP052612, SRP029889, SRP059035, SRP063661, SRP066834, SRP039552, SRP055569, SRP042161, SRP064464, SRP058667, SRP056153, SRP060370, SRP014428, SRP060355, SRP059379, SRP059732, SRP013935, SRP044206, SRP052057, SRP060416, SRP060708, SRP030617, SRP055153, SRP050272, SRP051401, SRP033135, SRP014739, SRP035387, SRP006474, SRP059275, SRP026052, SRP028336, SRP057074, SRP045565, SRP050003, SRP059170, SRP032363, SRP018779, SRP050499, SRP050954, SRP018838, SRP007412, SRP044042, "
     ]
    },
    {
     "data": {
      "text/plain": [
       "0    cell type\n",
       "dtype: object"
      ]
     },
     "metadata": {},
     "output_type": "display_data"
    },
    {
     "data": {
      "text/plain": [
       "33    tissue type\n",
       "4          tissue\n",
       "dtype: object"
      ]
     },
     "metadata": {},
     "output_type": "display_data"
    },
    {
     "name": "stderr",
     "output_type": "stream",
     "text": [
      "LV670:  84%|████████▍ | 42/50 [09:05<01:46, 13.36s/it]"
     ]
    },
    {
     "name": "stdout",
     "output_type": "stream",
     "text": [
      "SRP012167, SRP055569, SRP060416, SRP003901, SRP028336, SRP064464, SRP024268, SRP010483, SRP057196, SRP058773, SRP066834, SRP057248, SRP042161, SRP035268, SRP060355, SRP059732, SRP052056, SRP039552, SRP055810, SRP027530, SRP029262, SRP041751, SRP027364, SRP059509, SRP018853, SRP056330, SRP064735, SRP058722, SRP042620, SRP058667, SRP032812, SRP006575, SRP041094, SRP041826, SRP055512, SRP035387, SRP032789, SRP002487, SRP009862, SRP045276, SRP019936, SRP058237, SRP042184, SRP066356, SRP033135, SRP055153, SRP004837, SRP002326, SRP048222, SRP043434, SRP002628, SRP007412, SRP009266, SRP035477, SRP033401, SRP045352, SRP067701, SRP055513, SRP057244, SRP050499, SRP040243, SRP063834, SRP004847, SRP050534, SRP059950, SRP014856, SRP026042, SRP050087, SRP049713, "
     ]
    },
    {
     "name": "stderr",
     "output_type": "stream",
     "text": [
      "/home/miltondp/projects/labs/greenelab/phenoplier/libs/data/recount2.py:320: UserWarning: Not all experiments data could be loaded (67 != 69)\n",
      "  warnings.warn(\n"
     ]
    },
    {
     "data": {
      "text/plain": [
       "4    cell type\n",
       "dtype: object"
      ]
     },
     "metadata": {},
     "output_type": "display_data"
    },
    {
     "data": {
      "text/plain": [
       "55    tissue type\n",
       "1          tissue\n",
       "dtype: object"
      ]
     },
     "metadata": {},
     "output_type": "display_data"
    },
    {
     "name": "stderr",
     "output_type": "stream",
     "text": [
      "LV684:  86%|████████▌ | 43/50 [09:18<01:34, 13.45s/it]"
     ]
    },
    {
     "name": "stdout",
     "output_type": "stream",
     "text": [
      "SRP053004, SRP018525, SRP011546, SRP008775, SRP042161, SRP057196, SRP066834, SRP007596, SRP055569, SRP050499, SRP017777, SRP058773, SRP060416, SRP033135, SRP018838, SRP014213, SRP063840, SRP055153, SRP003901, SRP059775, SRP064464, SRP055810, SRP058722, SRP042620, SRP015668, SRP018853, SRP010279, SRP030617, SRP028301, SRP059035, SRP058571, SRP009266, SRP050992, SRP029334, SRP033248, SRP013363, SRP064259, SRP061639, SRP011054, SRP009247, SRP011185, SRP062025, SRP007947, SRP018837, SRP014591, SRP022913, SRP002487, "
     ]
    },
    {
     "name": "stderr",
     "output_type": "stream",
     "text": [
      "/home/miltondp/projects/labs/greenelab/phenoplier/libs/data/recount2.py:320: UserWarning: Not all experiments data could be loaded (45 != 47)\n",
      "  warnings.warn(\n"
     ]
    },
    {
     "data": {
      "text/plain": [
       "3    cell type\n",
       "dtype: object"
      ]
     },
     "metadata": {},
     "output_type": "display_data"
    },
    {
     "data": {
      "text/plain": [
       "0    tissue type\n",
       "6         tissue\n",
       "dtype: object"
      ]
     },
     "metadata": {},
     "output_type": "display_data"
    },
    {
     "name": "stderr",
     "output_type": "stream",
     "text": [
      "LV189:  88%|████████▊ | 44/50 [09:32<01:21, 13.60s/it]"
     ]
    },
    {
     "name": "stdout",
     "output_type": "stream",
     "text": [
      "SRP037775, SRP064259, SRP033250, SRP026537, SRP045322, SRP042620, SRP042161, SRP055569, SRP049500, SRP006575, SRP030475, SRP011974, SRP049507, SRP030401, SRP043470, SRP057205, SRP061241, SRP055512, SRP059379, SRP058722, SRP063620, SRP049988, SRP019498, SRP060416, SRP057196, SRP065202, SRP033135, SRP018853, SRP011054, SRP019936, SRP013389, SRP063840, SRP066834, SRP032789, SRP048664, SRP040966, SRP047192, SRP061243, SRP004637, SRP012557, SRP040418, SRP023262, SRP044610, SRP058571, SRP055153, SRP051102, SRP031503, SRP058773, SRP012167, SRP043320, SRP035988, SRP067214, SRP049713, SRP040505, SRP050971, SRP057758, SRP013239, SRP029334, "
     ]
    },
    {
     "name": "stderr",
     "output_type": "stream",
     "text": [
      "/home/miltondp/projects/labs/greenelab/phenoplier/libs/data/recount2.py:320: UserWarning: Not all experiments data could be loaded (56 != 58)\n",
      "  warnings.warn(\n"
     ]
    },
    {
     "data": {
      "text/plain": [
       "2    cell type\n",
       "dtype: object"
      ]
     },
     "metadata": {},
     "output_type": "display_data"
    },
    {
     "data": {
      "text/plain": [
       "51    tissue type\n",
       "8          tissue\n",
       "dtype: object"
      ]
     },
     "metadata": {},
     "output_type": "display_data"
    },
    {
     "name": "stderr",
     "output_type": "stream",
     "text": [
      "LV530:  90%|█████████ | 45/50 [09:45<01:07, 13.40s/it]"
     ]
    },
    {
     "name": "stdout",
     "output_type": "stream",
     "text": [
      "SRP042161, SRP055569, SRP013450, SRP057196, SRP051472, SRP066834, SRP060416, SRP005279, SRP050374, SRP058773, SRP049714, SRP033135, SRP030617, SRP041008, SRP019994, SRP050179, SRP007461, SRP004637, SRP051599, SRP006474, SRP002245, SRP038767, SRP017631, SRP033569, SRP042597, SRP050499, SRP033351, SRP057205, SRP056989, SRP008331, SRP033119, SRP018719, SRP013389, SRP055153, SRP029656, SRP049449, SRP043339, SRP041751, SRP034666, SRP035617, SRP059379, SRP050468, SRP066371, SRP015964, SRP053366, SRP034007, SRP051249, SRP047082, SRP014213, SRP039348, SRP049340, SRP013999, SRP044084, SRP007338, SRP051772, SRP050246, SRP019374, SRP032775, SRP012557, SRP040525, SRP041885, SRP063840, "
     ]
    },
    {
     "name": "stderr",
     "output_type": "stream",
     "text": [
      "/home/miltondp/projects/labs/greenelab/phenoplier/libs/data/recount2.py:320: UserWarning: Not all experiments data could be loaded (60 != 62)\n",
      "  warnings.warn(\n"
     ]
    },
    {
     "data": {
      "text/plain": [
       "1    cell type\n",
       "dtype: object"
      ]
     },
     "metadata": {},
     "output_type": "display_data"
    },
    {
     "data": {
      "text/plain": [
       "8    tissue\n",
       "dtype: object"
      ]
     },
     "metadata": {},
     "output_type": "display_data"
    },
    {
     "name": "stderr",
     "output_type": "stream",
     "text": [
      "LV55:  92%|█████████▏| 46/50 [09:59<00:53, 13.34s/it] "
     ]
    },
    {
     "name": "stdout",
     "output_type": "stream",
     "text": [
      "SRP055513, SRP005279, SRP003227, SRP003726, SRP032279, SRP002915, SRP015449, SRP030617, SRP004847, SRP009266, SRP029889, SRP050499, SRP055153, SRP037719, SRP019994, SRP011578, SRP014620, SRP008218, SRP007947, SRP066834, SRP055569, SRP027383, SRP036821, SRP060416, SRP009862, SRP064259, SRP042161, SRP007569, SRP033135, SRP006575, SRP016140, SRP012461, SRP050260, SRP041751, SRP024268, SRP024244, SRP057196, SRP014867, SRP004965, SRP017575, SRP068523, SRP042218, SRP028804, SRP048556, SRP036053, SRP026315, SRP053052, SRP014428, SRP049449, SRP015853, SRP007412, SRP057156, SRP037735, SRP004042, SRP047194, SRP029334, SRP056296, SRP048761, SRP039591, SRP038767, SRP064624, SRP041179, SRP028902, "
     ]
    },
    {
     "name": "stderr",
     "output_type": "stream",
     "text": [
      "/home/miltondp/projects/labs/greenelab/phenoplier/libs/data/recount2.py:320: UserWarning: Not all experiments data could be loaded (60 != 63)\n",
      "  warnings.warn(\n"
     ]
    },
    {
     "data": {
      "text/plain": [
       "6    cell type\n",
       "dtype: object"
      ]
     },
     "metadata": {},
     "output_type": "display_data"
    },
    {
     "data": {
      "text/plain": [
       "0    tissue\n",
       "dtype: object"
      ]
     },
     "metadata": {},
     "output_type": "display_data"
    },
    {
     "name": "stderr",
     "output_type": "stream",
     "text": [
      "LV739:  94%|█████████▍| 47/50 [10:13<00:40, 13.59s/it]"
     ]
    },
    {
     "name": "stdout",
     "output_type": "stream",
     "text": [
      "SRP042161, SRP066834, SRP059379, SRP009862, SRP057196, SRP062025, SRP063840, "
     ]
    },
    {
     "name": "stderr",
     "output_type": "stream",
     "text": [
      "/home/miltondp/projects/labs/greenelab/phenoplier/libs/data/recount2.py:320: UserWarning: Not all experiments data could be loaded (6 != 7)\n",
      "  warnings.warn(\n"
     ]
    },
    {
     "data": {
      "text/plain": [
       "1    cell type\n",
       "dtype: object"
      ]
     },
     "metadata": {},
     "output_type": "display_data"
    },
    {
     "data": {
      "text/plain": [
       "5    tissue\n",
       "dtype: object"
      ]
     },
     "metadata": {},
     "output_type": "display_data"
    },
    {
     "name": "stderr",
     "output_type": "stream",
     "text": [
      "LV667:  96%|█████████▌| 48/50 [10:18<00:22, 11.12s/it]"
     ]
    },
    {
     "name": "stdout",
     "output_type": "stream",
     "text": [
      "SRP055569, SRP024268, SRP042161, SRP066834, SRP057196, SRP002326, SRP060416, SRP019994, SRP063840, SRP014428, SRP058773, SRP030617, SRP045869, SRP050499, SRP049479, SRP003726, SRP007461, SRP064464, SRP033135, SRP055153, SRP044042, SRP012461, SRP059035, SRP011422, SRP061380, SRP051320, SRP052740, SRP064458, SRP009266, SRP018838, SRP027383, SRP029656, SRP045711, SRP006575, SRP048577, SRP015670, SRP055513, SRP008145, SRP028336, SRP003611, SRP057852, SRP058667, SRP041094, SRP063500, SRP044668, SRP057205, SRP004847, "
     ]
    },
    {
     "name": "stderr",
     "output_type": "stream",
     "text": [
      "/home/miltondp/projects/labs/greenelab/phenoplier/libs/data/recount2.py:320: UserWarning: Not all experiments data could be loaded (45 != 47)\n",
      "  warnings.warn(\n"
     ]
    },
    {
     "data": {
      "text/plain": [
       "0    cell type\n",
       "dtype: object"
      ]
     },
     "metadata": {},
     "output_type": "display_data"
    },
    {
     "data": {
      "text/plain": [
       "61    tissue type\n",
       "1          tissue\n",
       "dtype: object"
      ]
     },
     "metadata": {},
     "output_type": "display_data"
    },
    {
     "name": "stderr",
     "output_type": "stream",
     "text": [
      "LV893:  98%|█████████▊| 49/50 [10:32<00:12, 12.09s/it]"
     ]
    },
    {
     "name": "stdout",
     "output_type": "stream",
     "text": [
      "SRP007461, SRP017411, SRP009266, SRP046271, SRP009862, SRP067214, SRP002789, SRP003672, SRP043593, SRP015711, SRP043962, SRP057065, SRP015955, SRP012096, SRP061455, SRP017294, SRP045222, SRP044298, SRP013773, SRP062389, SRP045663, SRP044679, SRP053195, SRP017305, SRP066424, SRP019270, SRP049611, SRP019946, SRP014844, SRP021214, SRP007498, SRP055048, SRP026315, SRP028815, SRP005342, SRP019989, SRP058479, SRP057196, SRP026084, SRP001758, SRP050943, SRP030639, SRP023199, SRP014925, SRP002605, SRP026052, SRP014857, SRP012098, SRP051170, SRP014190, SRP057804, SRP012099, SRP033131, SRP017577, SRP051644, SRP014320, SRP064143, SRP028325, SRP026044, SRP021918, SRP047097, SRP034158, SRP050138, "
     ]
    },
    {
     "name": "stderr",
     "output_type": "stream",
     "text": [
      "/home/miltondp/projects/labs/greenelab/phenoplier/libs/data/recount2.py:320: UserWarning: Not all experiments data could be loaded (59 != 63)\n",
      "  warnings.warn(\n"
     ]
    },
    {
     "data": {
      "text/plain": [
       "0    cell type\n",
       "dtype: object"
      ]
     },
     "metadata": {},
     "output_type": "display_data"
    },
    {
     "data": {
      "text/plain": [
       "41    tissue\n",
       "dtype: object"
      ]
     },
     "metadata": {},
     "output_type": "display_data"
    },
    {
     "name": "stderr",
     "output_type": "stream",
     "text": [
      "LV893: 100%|██████████| 50/50 [10:36<00:00, 12.73s/it]\n"
     ]
    }
   ],
   "source": [
    "cell_type_dfs = []\n",
    "tissue_dfs = []\n",
    "\n",
    "pbar = tqdm(lvs_list[:50])\n",
    "for lv_name in pbar:\n",
    "    pbar.set_description(lv_name)\n",
    "\n",
    "    #     lv_name = lv_info[\"name\"]\n",
    "    lv_obj = LVAnalysis(lv_name, data)\n",
    "\n",
    "    #     # show lv prior knowledge match (pathways)\n",
    "    #     lv_pathways = multiplier_model_summary[\n",
    "    #         multiplier_model_summary[\"LV index\"].isin((lv_name[2:],))\n",
    "    #         & (\n",
    "    #             (multiplier_model_summary[\"FDR\"] < 0.05)\n",
    "    #             | (multiplier_model_summary[\"AUC\"] >= 0.75)\n",
    "    #         )\n",
    "    #     ]\n",
    "    #     display(lv_pathways)\n",
    "\n",
    "    lv_data = lv_obj.get_experiments_data()\n",
    "\n",
    "    #     display(\"\")\n",
    "    #     display(lv_obj.lv_traits.head(20))\n",
    "    #     display(\"\")\n",
    "    #     display(lv_obj.lv_genes.head(10))\n",
    "\n",
    "    # get cell type attributes\n",
    "    #     lv_attrs = lv_obj.get_attributes_variation_score()\n",
    "    lv_attrs = pd.Series(lv_data.columns.tolist())\n",
    "    lv_attrs = lv_attrs[\n",
    "        lv_attrs.str.match(\n",
    "            \"(?:cell[^\\w]*type$)\",\n",
    "            case=False,\n",
    "            flags=re.IGNORECASE,\n",
    "        ).values\n",
    "    ].sort_values(ascending=False)\n",
    "    display(lv_attrs)\n",
    "\n",
    "    lv_attrs_data = lv_data[lv_attrs.tolist() + [lv_name]]\n",
    "    lv_attrs_data = lv_attrs_data.assign(attr=lv_attrs_data.apply(_my_func, axis=1))\n",
    "    lv_attrs_data = lv_attrs_data.drop(columns=lv_attrs.tolist())\n",
    "    lv_attrs_data = lv_attrs_data.dropna().sort_values(lv_name, ascending=False)\n",
    "    lv_attrs_data = lv_attrs_data.rename(columns={lv_name: \"lv\"})\n",
    "    cell_type_dfs.append(lv_attrs_data)\n",
    "\n",
    "    # get tissue attributes\n",
    "    lv_attrs = pd.Series(lv_data.columns.tolist())\n",
    "    lv_attrs = lv_attrs[\n",
    "        lv_attrs.str.match(\n",
    "            \"(?:tissue$)|(?:tissue[^\\w]*type$)\",\n",
    "            case=False,\n",
    "            flags=re.IGNORECASE,\n",
    "        ).values\n",
    "    ].sort_values(ascending=False)\n",
    "    display(lv_attrs)\n",
    "\n",
    "    lv_attrs_data = lv_data[lv_attrs.tolist() + [lv_name]]\n",
    "    lv_attrs_data = lv_attrs_data.assign(attr=lv_attrs_data.apply(_my_func, axis=1))\n",
    "    lv_attrs_data = lv_attrs_data.drop(columns=lv_attrs.tolist())\n",
    "    lv_attrs_data = lv_attrs_data.dropna().sort_values(lv_name, ascending=False)\n",
    "    lv_attrs_data = lv_attrs_data.rename(columns={lv_name: \"lv\"})\n",
    "    tissue_dfs.append(lv_attrs_data)"
   ]
  },
  {
   "cell_type": "markdown",
   "metadata": {},
   "source": [
    "# LVs selection"
   ]
  },
  {
   "cell_type": "code",
   "execution_count": 33,
   "metadata": {},
   "outputs": [],
   "source": [
    "N_TOP_LVS = 20"
   ]
  },
  {
   "cell_type": "markdown",
   "metadata": {},
   "source": [
    "# Cell types"
   ]
  },
  {
   "cell_type": "code",
   "execution_count": 34,
   "metadata": {},
   "outputs": [],
   "source": [
    "def _get_lv_rank(data):\n",
    "    data = data.copy()\n",
    "    data[\"lv\"] = data[\"lv\"].rank()\n",
    "    return data"
   ]
  },
  {
   "cell_type": "code",
   "execution_count": 35,
   "metadata": {},
   "outputs": [],
   "source": [
    "df = pd.concat(cell_type_dfs[:N_TOP_LVS], ignore_index=True)\n",
    "# df = pd.concat([_get_lv_rank(x) for x in cell_type_dfs[:N_TOP_LVS]], ignore_index=True)"
   ]
  },
  {
   "cell_type": "code",
   "execution_count": 36,
   "metadata": {},
   "outputs": [],
   "source": [
    "df = df[~df[\"attr\"].str.lower().str.contains(\"cancer\")]"
   ]
  },
  {
   "cell_type": "code",
   "execution_count": 37,
   "metadata": {},
   "outputs": [
    {
     "data": {
      "text/plain": [
       "attr\n",
       "ovarian granulosa cells                                                                       2.529479\n",
       "mural granulosa cells                                                                         1.869020\n",
       "cumulus granulosa cells                                                                       1.846062\n",
       "CD14 cells                                                                                    0.893452\n",
       "M1-polarized HMDM                                                                             0.881763\n",
       "Differentiated fused HEF19 and FL24 cells                                                     0.789934\n",
       "MCF10A breast epithelial cells                                                                0.758430\n",
       "PBMCs                                                                                         0.735288\n",
       "Primary Monocytes(BC8)                                                                        0.690342\n",
       "BJ fibroblast cells                                                                           0.687194\n",
       "NPC                                                                                           0.616007\n",
       "exosome-depleted                                                                              0.611736\n",
       "Neural stem cell                                                                              0.611681\n",
       "Dendritic cell                                                                                0.609746\n",
       "Primary Monocytes(BC9)                                                                        0.608375\n",
       "iPSC (GM8330-8)-derived NPC                                                                   0.598906\n",
       "neonatal dermal blood vascular endothelial cells (BECs)                                       0.596400\n",
       "human Neural Stem Cells (hNSCs)                                                               0.592070\n",
       "hTERT-immortalized retinal pigment epithelial                                                 0.589680\n",
       "hESC (WA-09)                                                                                  0.574953\n",
       "human embryonic stem cells differentiated to \"stage 6\" containing insulin-expressing cells    0.571838\n",
       "Primary Monocytes(BC12)                                                                       0.564832\n",
       "H1-NSC                                                                                        0.556652\n",
       "Primary Monocytes(BC11)                                                                       0.550826\n",
       "Rapamycin treated fibroblast                                                                  0.541021\n",
       "Name: lv, dtype: float64"
      ]
     },
     "execution_count": 37,
     "metadata": {},
     "output_type": "execute_result"
    }
   ],
   "source": [
    "df.groupby(\"attr\").median().squeeze().sort_values(ascending=False).head(25)"
   ]
  },
  {
   "cell_type": "code",
   "execution_count": 38,
   "metadata": {},
   "outputs": [],
   "source": [
    "df = df.replace(\n",
    "    {\n",
    "        \"attr\": {\n",
    "            \"mural granulosa cells\": \"Granulosa cells\",\n",
    "            \"cumulus granulosa cells\": \"Granulosa cells\",\n",
    "            \"WAT\": \"White adipose tissue\",\n",
    "            \"BAT\": \"Brown adipose tissue\",\n",
    "            \"human adipose-derived stem cells\": \"Adipose-derived stem cells\",\n",
    "            \"Primary Monocytes(BC8)\": \"Primary monocytes\",\n",
    "            \"Primary Monocytes(BC9)\": \"Primary monocytes\",\n",
    "            \"Primary Monocytes(BC12)\": \"Primary monocytes\",\n",
    "            \"Primary Monocytes(BC11)\": \"Primary monocytes\",\n",
    "        }\n",
    "    }\n",
    ")"
   ]
  },
  {
   "cell_type": "code",
   "execution_count": 39,
   "metadata": {},
   "outputs": [],
   "source": [
    "cat_order = df.groupby(\"attr\").median().squeeze()\n",
    "cat_order = cat_order.sort_values(ascending=False)\n",
    "cat_order = cat_order.head(20)\n",
    "cat_order = cat_order.index"
   ]
  },
  {
   "cell_type": "code",
   "execution_count": 40,
   "metadata": {},
   "outputs": [
    {
     "data": {
      "image/png": "[encoded data removed]",
      "text/plain": [
       "<Figure size 1008x576 with 1 Axes>"
      ]
     },
     "metadata": {},
     "output_type": "display_data"
    }
   ],
   "source": [
    "with sns.plotting_context(\"paper\", font_scale=1.0), sns.axes_style(\"whitegrid\"):\n",
    "    fig, ax = plt.subplots(figsize=(14, 8))\n",
    "    ax = sns.boxplot(\n",
    "        data=df,\n",
    "        x=\"attr\",\n",
    "        y=\"lv\",\n",
    "        order=cat_order,\n",
    "        linewidth=None,\n",
    "        ax=ax,\n",
    "    )\n",
    "    plt.xticks(rotation=45, horizontalalignment=\"right\")"
   ]
  },
  {
   "cell_type": "markdown",
   "metadata": {},
   "source": [
    "# Tissues"
   ]
  },
  {
   "cell_type": "code",
   "execution_count": 41,
   "metadata": {},
   "outputs": [],
   "source": [
    "df = pd.concat(tissue_dfs[:N_TOP_LVS], ignore_index=True)\n",
    "# df = pd.concat([_get_lv_rank(x) for x in tissue_dfs[:N_TOP_LVS]], ignore_index=True)"
   ]
  },
  {
   "cell_type": "code",
   "execution_count": 42,
   "metadata": {},
   "outputs": [
    {
     "data": {
      "text/plain": [
       "attr\n",
       "adrenal tumor                                               0.798195\n",
       "Muscle biopsy immediately before surgery                    0.740382\n",
       "non-tumor                                                   0.708005\n",
       "Muscle biopsy 2hr after surgery and tourniquet              0.689389\n",
       "ovary                                                       0.651734\n",
       "Blood                                                       0.613820\n",
       "foreskin specimen                                           0.596400\n",
       "hiPSC-derived embryoid bodies                               0.575964\n",
       "Dorsal Forebrain Equivalent                                 0.553621\n",
       "14 day neurons                                              0.517445\n",
       "skin (epidermal suction blister samples)                    0.498048\n",
       "primary bone marrow derived mesenchymal progenitor cells    0.489509\n",
       "Gastrointestinal Stromal Tumor                              0.473392\n",
       "snap frozen tissue of normal esophagus                      0.465734\n",
       "breast                                                      0.444920\n",
       "Duct cells                                                  0.443782\n",
       "lung/bronchus                                               0.403965\n",
       "Pterygia                                                    0.403562\n",
       "Lung adenocarcinoma                                         0.395093\n",
       "Colorectal cancer PDX                                       0.389788\n",
       "heart, right ventricle                                      0.357715\n",
       "Fibroblast                                                  0.356455\n",
       "synovial sarcoma                                            0.328082\n",
       "myxoid liposarcoma                                          0.316969\n",
       "Ewing's sarcoma                                             0.316742\n",
       "extraskeletal myxoid chondrosarcoma                         0.310144\n",
       "soft tissue sarcoma                                         0.302534\n",
       "Soft Tissue                                                 0.300818\n",
       "prostate adenocarcinoma                                     0.298475\n",
       "lung carcinoma                                              0.298343\n",
       "leiomyosarcoma                                              0.292948\n",
       "umbilical cord blood                                        0.288038\n",
       "Cord fibroblasts                                            0.286179\n",
       "endometrial stromal sarcoma                                 0.284098\n",
       "uterus                                                      0.283829\n",
       "Bone marrow MEP                                             0.277626\n",
       "colon adenocarcinoma                                        0.275112\n",
       "colon                                                       0.272755\n",
       "kidney normal                                               0.260479\n",
       "breast invasive ductal carcinoma                            0.257193\n",
       "Biceps                                                      0.254826\n",
       "left ventricle                                              0.254390\n",
       "papillary urothelial carcinoma                              0.254343\n",
       "gastrointestinal stromal tumor                              0.249580\n",
       "dedifferentiated liposarcoma                                0.249274\n",
       "adipose                                                     0.246119\n",
       "heart, left ventricle                                       0.245128\n",
       "nasal polyp                                                 0.245105\n",
       "triple negative breast cancer                               0.241871\n",
       "Fetal primary fibroblasts                                   0.241795\n",
       "Name: lv, dtype: float64"
      ]
     },
     "execution_count": 42,
     "metadata": {},
     "output_type": "execute_result"
    }
   ],
   "source": [
    "df.groupby(\"attr\").mean().squeeze().sort_values(ascending=False).head(50)"
   ]
  },
  {
   "cell_type": "markdown",
   "metadata": {},
   "source": [
    "# LV analysis"
   ]
  },
  {
   "cell_type": "code",
   "execution_count": 64,
   "metadata": {},
   "outputs": [],
   "source": [
    "lv_obj1 = LVAnalysis(\"LV931\", data)"
   ]
  },
  {
   "cell_type": "code",
   "execution_count": 65,
   "metadata": {},
   "outputs": [
    {
     "data": {
      "text/html": [
       "<div>\n",
       "<style scoped>\n",
       "    .dataframe tbody tr th:only-of-type {\n",
       "        vertical-align: middle;\n",
       "    }\n",
       "\n",
       "    .dataframe tbody tr th {\n",
       "        vertical-align: top;\n",
       "    }\n",
       "\n",
       "    .dataframe thead th {\n",
       "        text-align: right;\n",
       "    }\n",
       "</style>\n",
       "<table border=\"1\" class=\"dataframe\">\n",
       "  <thead>\n",
       "    <tr style=\"text-align: right;\">\n",
       "      <th></th>\n",
       "      <th>gene_name</th>\n",
       "      <th>LV931</th>\n",
       "      <th>gene_band</th>\n",
       "    </tr>\n",
       "  </thead>\n",
       "  <tbody>\n",
       "    <tr>\n",
       "      <th>0</th>\n",
       "      <td>PER1</td>\n",
       "      <td>3.808422</td>\n",
       "      <td>17p13.1</td>\n",
       "    </tr>\n",
       "    <tr>\n",
       "      <th>1</th>\n",
       "      <td>MEF2D</td>\n",
       "      <td>3.090195</td>\n",
       "      <td>1q22</td>\n",
       "    </tr>\n",
       "    <tr>\n",
       "      <th>2</th>\n",
       "      <td>FOSL2</td>\n",
       "      <td>2.855936</td>\n",
       "      <td>2p23.2</td>\n",
       "    </tr>\n",
       "    <tr>\n",
       "      <th>3</th>\n",
       "      <td>RELT</td>\n",
       "      <td>2.831571</td>\n",
       "      <td>11q13.4</td>\n",
       "    </tr>\n",
       "    <tr>\n",
       "      <th>4</th>\n",
       "      <td>H1FX</td>\n",
       "      <td>2.815111</td>\n",
       "      <td>3q21.3</td>\n",
       "    </tr>\n",
       "    <tr>\n",
       "      <th>5</th>\n",
       "      <td>GNA15</td>\n",
       "      <td>2.733091</td>\n",
       "      <td>19p13.3</td>\n",
       "    </tr>\n",
       "    <tr>\n",
       "      <th>6</th>\n",
       "      <td>GNA13</td>\n",
       "      <td>2.345263</td>\n",
       "      <td>17q24.1</td>\n",
       "    </tr>\n",
       "    <tr>\n",
       "      <th>7</th>\n",
       "      <td>MCL1</td>\n",
       "      <td>2.329089</td>\n",
       "      <td>1q21.2</td>\n",
       "    </tr>\n",
       "    <tr>\n",
       "      <th>8</th>\n",
       "      <td>MED13L</td>\n",
       "      <td>2.245489</td>\n",
       "      <td>12q24.21</td>\n",
       "    </tr>\n",
       "    <tr>\n",
       "      <th>9</th>\n",
       "      <td>ELF1</td>\n",
       "      <td>2.218887</td>\n",
       "      <td>13q14.11</td>\n",
       "    </tr>\n",
       "    <tr>\n",
       "      <th>10</th>\n",
       "      <td>PIK3R1</td>\n",
       "      <td>2.199913</td>\n",
       "      <td>5q13.1</td>\n",
       "    </tr>\n",
       "    <tr>\n",
       "      <th>11</th>\n",
       "      <td>PLK3</td>\n",
       "      <td>2.109441</td>\n",
       "      <td>1p34.1</td>\n",
       "    </tr>\n",
       "    <tr>\n",
       "      <th>12</th>\n",
       "      <td>CSGALNACT2</td>\n",
       "      <td>1.957090</td>\n",
       "      <td>10q11.21</td>\n",
       "    </tr>\n",
       "    <tr>\n",
       "      <th>13</th>\n",
       "      <td>STX11</td>\n",
       "      <td>1.955259</td>\n",
       "      <td>6q24.2</td>\n",
       "    </tr>\n",
       "    <tr>\n",
       "      <th>14</th>\n",
       "      <td>JUND</td>\n",
       "      <td>1.931036</td>\n",
       "      <td>19p13.11</td>\n",
       "    </tr>\n",
       "    <tr>\n",
       "      <th>15</th>\n",
       "      <td>PELI1</td>\n",
       "      <td>1.921965</td>\n",
       "      <td>2p14</td>\n",
       "    </tr>\n",
       "    <tr>\n",
       "      <th>16</th>\n",
       "      <td>LATS2</td>\n",
       "      <td>1.907213</td>\n",
       "      <td>13q12.11</td>\n",
       "    </tr>\n",
       "    <tr>\n",
       "      <th>17</th>\n",
       "      <td>ANKRD28</td>\n",
       "      <td>1.898279</td>\n",
       "      <td>3p25.1</td>\n",
       "    </tr>\n",
       "    <tr>\n",
       "      <th>18</th>\n",
       "      <td>MAPKAPK2</td>\n",
       "      <td>1.862226</td>\n",
       "      <td>1q32.1</td>\n",
       "    </tr>\n",
       "    <tr>\n",
       "      <th>19</th>\n",
       "      <td>P2RX1</td>\n",
       "      <td>1.850392</td>\n",
       "      <td>17p13.2</td>\n",
       "    </tr>\n",
       "  </tbody>\n",
       "</table>\n",
       "</div>"
      ],
      "text/plain": [
       "     gene_name     LV931 gene_band\n",
       "0         PER1  3.808422   17p13.1\n",
       "1        MEF2D  3.090195      1q22\n",
       "2        FOSL2  2.855936    2p23.2\n",
       "3         RELT  2.831571   11q13.4\n",
       "4         H1FX  2.815111    3q21.3\n",
       "5        GNA15  2.733091   19p13.3\n",
       "6        GNA13  2.345263   17q24.1\n",
       "7         MCL1  2.329089    1q21.2\n",
       "8       MED13L  2.245489  12q24.21\n",
       "9         ELF1  2.218887  13q14.11\n",
       "10      PIK3R1  2.199913    5q13.1\n",
       "11        PLK3  2.109441    1p34.1\n",
       "12  CSGALNACT2  1.957090  10q11.21\n",
       "13       STX11  1.955259    6q24.2\n",
       "14        JUND  1.931036  19p13.11\n",
       "15       PELI1  1.921965      2p14\n",
       "16       LATS2  1.907213  13q12.11\n",
       "17     ANKRD28  1.898279    3p25.1\n",
       "18    MAPKAPK2  1.862226    1q32.1\n",
       "19       P2RX1  1.850392   17p13.2"
      ]
     },
     "execution_count": 65,
     "metadata": {},
     "output_type": "execute_result"
    }
   ],
   "source": [
    "lv_obj1.lv_genes.head(20)"
   ]
  },
  {
   "cell_type": "code",
   "execution_count": 66,
   "metadata": {},
   "outputs": [
    {
     "name": "stdout",
     "output_type": "stream",
     "text": [
      "SRP056295, SRP017138, SRP043080, SRP048759, SRP021191, SRP028594, SRP056197, SRP050272, SRP059735, SRP028554, SRP061932, SRP033266, SRP005279, SRP055390, SRP050493, SRP046233, SRP035679, SRP043033, SRP041885, SRP027358, SRP045500, SRP045352, SRP015360, SRP053046, "
     ]
    }
   ],
   "source": [
    "lv_data1 = lv_obj1.get_experiments_data()"
   ]
  },
  {
   "cell_type": "code",
   "execution_count": 67,
   "metadata": {},
   "outputs": [
    {
     "data": {
      "text/plain": [
       "(1932, 45)"
      ]
     },
     "execution_count": 67,
     "metadata": {},
     "output_type": "execute_result"
    }
   ],
   "source": [
    "lv_data1.shape"
   ]
  },
  {
   "cell_type": "code",
   "execution_count": 120,
   "metadata": {},
   "outputs": [],
   "source": [
    "_tmp = lv_data1[[\"cell type\", \"LV931\"]].dropna()"
   ]
  },
  {
   "cell_type": "code",
   "execution_count": 121,
   "metadata": {},
   "outputs": [
    {
     "data": {
      "text/html": [
       "<div>\n",
       "<style scoped>\n",
       "    .dataframe tbody tr th:only-of-type {\n",
       "        vertical-align: middle;\n",
       "    }\n",
       "\n",
       "    .dataframe tbody tr th {\n",
       "        vertical-align: top;\n",
       "    }\n",
       "\n",
       "    .dataframe thead th {\n",
       "        text-align: right;\n",
       "    }\n",
       "</style>\n",
       "<table border=\"1\" class=\"dataframe\">\n",
       "  <thead>\n",
       "    <tr style=\"text-align: right;\">\n",
       "      <th></th>\n",
       "      <th></th>\n",
       "      <th>cell type</th>\n",
       "      <th>LV931</th>\n",
       "    </tr>\n",
       "    <tr>\n",
       "      <th>project</th>\n",
       "      <th>run</th>\n",
       "      <th></th>\n",
       "      <th></th>\n",
       "    </tr>\n",
       "  </thead>\n",
       "  <tbody>\n",
       "    <tr>\n",
       "      <th rowspan=\"9\" valign=\"top\">SRP021191</th>\n",
       "      <th>SRR830946</th>\n",
       "      <td>CD14 cells</td>\n",
       "      <td>0.898809</td>\n",
       "    </tr>\n",
       "    <tr>\n",
       "      <th>SRR830948</th>\n",
       "      <td>CD14 cells</td>\n",
       "      <td>0.943218</td>\n",
       "    </tr>\n",
       "    <tr>\n",
       "      <th>SRR830949</th>\n",
       "      <td>CD14 cells</td>\n",
       "      <td>0.893341</td>\n",
       "    </tr>\n",
       "    <tr>\n",
       "      <th>SRR830950</th>\n",
       "      <td>CD14 cells</td>\n",
       "      <td>0.736326</td>\n",
       "    </tr>\n",
       "    <tr>\n",
       "      <th>SRR830951</th>\n",
       "      <td>CD14 cells</td>\n",
       "      <td>0.799759</td>\n",
       "    </tr>\n",
       "    <tr>\n",
       "      <th>SRR830952</th>\n",
       "      <td>CD14 cells</td>\n",
       "      <td>0.943728</td>\n",
       "    </tr>\n",
       "    <tr>\n",
       "      <th>SRR830953</th>\n",
       "      <td>CD14 cells</td>\n",
       "      <td>0.893452</td>\n",
       "    </tr>\n",
       "    <tr>\n",
       "      <th>SRR830954</th>\n",
       "      <td>CD14 cells</td>\n",
       "      <td>0.736694</td>\n",
       "    </tr>\n",
       "    <tr>\n",
       "      <th>SRR830955</th>\n",
       "      <td>CD14 cells</td>\n",
       "      <td>0.899005</td>\n",
       "    </tr>\n",
       "  </tbody>\n",
       "</table>\n",
       "</div>"
      ],
      "text/plain": [
       "                      cell type     LV931\n",
       "project   run                            \n",
       "SRP021191 SRR830946  CD14 cells  0.898809\n",
       "          SRR830948  CD14 cells  0.943218\n",
       "          SRR830949  CD14 cells  0.893341\n",
       "          SRR830950  CD14 cells  0.736326\n",
       "          SRR830951  CD14 cells  0.799759\n",
       "          SRR830952  CD14 cells  0.943728\n",
       "          SRR830953  CD14 cells  0.893452\n",
       "          SRR830954  CD14 cells  0.736694\n",
       "          SRR830955  CD14 cells  0.899005"
      ]
     },
     "execution_count": 121,
     "metadata": {},
     "output_type": "execute_result"
    }
   ],
   "source": [
    "_tmp[_tmp[\"cell type\"].str.contains(\"CD14 cells\")]"
   ]
  },
  {
   "cell_type": "code",
   "execution_count": 72,
   "metadata": {},
   "outputs": [
    {
     "data": {
      "text/html": [
       "<div>\n",
       "<style scoped>\n",
       "    .dataframe tbody tr th:only-of-type {\n",
       "        vertical-align: middle;\n",
       "    }\n",
       "\n",
       "    .dataframe tbody tr th {\n",
       "        vertical-align: top;\n",
       "    }\n",
       "\n",
       "    .dataframe thead th {\n",
       "        text-align: right;\n",
       "    }\n",
       "</style>\n",
       "<table border=\"1\" class=\"dataframe\">\n",
       "  <thead>\n",
       "    <tr style=\"text-align: right;\">\n",
       "      <th></th>\n",
       "      <th>cell type</th>\n",
       "      <th>LV931</th>\n",
       "    </tr>\n",
       "    <tr>\n",
       "      <th>run</th>\n",
       "      <th></th>\n",
       "      <th></th>\n",
       "    </tr>\n",
       "  </thead>\n",
       "  <tbody>\n",
       "    <tr>\n",
       "      <th>SRR2072610</th>\n",
       "      <td>Monocyte</td>\n",
       "      <td>0.517383</td>\n",
       "    </tr>\n",
       "    <tr>\n",
       "      <th>SRR2072609</th>\n",
       "      <td>Dendritic cell</td>\n",
       "      <td>0.480492</td>\n",
       "    </tr>\n",
       "    <tr>\n",
       "      <th>SRR2072608</th>\n",
       "      <td>Dendritic cell</td>\n",
       "      <td>0.502290</td>\n",
       "    </tr>\n",
       "    <tr>\n",
       "      <th>SRR2072606</th>\n",
       "      <td>Monocyte</td>\n",
       "      <td>0.638148</td>\n",
       "    </tr>\n",
       "    <tr>\n",
       "      <th>SRR2072607</th>\n",
       "      <td>Dendritic cell</td>\n",
       "      <td>0.446599</td>\n",
       "    </tr>\n",
       "    <tr>\n",
       "      <th>SRR2072605</th>\n",
       "      <td>Dendritic cell</td>\n",
       "      <td>0.642076</td>\n",
       "    </tr>\n",
       "    <tr>\n",
       "      <th>SRR2072603</th>\n",
       "      <td>Dendritic cell</td>\n",
       "      <td>0.791440</td>\n",
       "    </tr>\n",
       "    <tr>\n",
       "      <th>SRR2072604</th>\n",
       "      <td>Dendritic cell</td>\n",
       "      <td>0.619685</td>\n",
       "    </tr>\n",
       "    <tr>\n",
       "      <th>SRR2072602</th>\n",
       "      <td>Monocyte</td>\n",
       "      <td>0.674253</td>\n",
       "    </tr>\n",
       "    <tr>\n",
       "      <th>SRR2072601</th>\n",
       "      <td>Dendritic cell</td>\n",
       "      <td>0.603855</td>\n",
       "    </tr>\n",
       "    <tr>\n",
       "      <th>SRR2072600</th>\n",
       "      <td>Dendritic cell</td>\n",
       "      <td>0.609746</td>\n",
       "    </tr>\n",
       "    <tr>\n",
       "      <th>SRR2072599</th>\n",
       "      <td>Dendritic cell</td>\n",
       "      <td>0.839868</td>\n",
       "    </tr>\n",
       "  </tbody>\n",
       "</table>\n",
       "</div>"
      ],
      "text/plain": [
       "                 cell type     LV931\n",
       "run                                 \n",
       "SRR2072610        Monocyte  0.517383\n",
       "SRR2072609  Dendritic cell  0.480492\n",
       "SRR2072608  Dendritic cell  0.502290\n",
       "SRR2072606        Monocyte  0.638148\n",
       "SRR2072607  Dendritic cell  0.446599\n",
       "SRR2072605  Dendritic cell  0.642076\n",
       "SRR2072603  Dendritic cell  0.791440\n",
       "SRR2072604  Dendritic cell  0.619685\n",
       "SRR2072602        Monocyte  0.674253\n",
       "SRR2072601  Dendritic cell  0.603855\n",
       "SRR2072600  Dendritic cell  0.609746\n",
       "SRR2072599  Dendritic cell  0.839868"
      ]
     },
     "execution_count": 72,
     "metadata": {},
     "output_type": "execute_result"
    }
   ],
   "source": [
    "_tmp.loc[\"SRP059735\"]"
   ]
  },
  {
   "cell_type": "code",
   "execution_count": null,
   "metadata": {},
   "outputs": [],
   "source": []
  },
  {
   "cell_type": "code",
   "execution_count": null,
   "metadata": {},
   "outputs": [],
   "source": []
  },
  {
   "cell_type": "code",
   "execution_count": null,
   "metadata": {},
   "outputs": [],
   "source": []
  },
  {
   "cell_type": "code",
   "execution_count": null,
   "metadata": {},
   "outputs": [],
   "source": []
  },
  {
   "cell_type": "code",
   "execution_count": null,
   "metadata": {},
   "outputs": [],
   "source": []
  },
  {
   "cell_type": "code",
   "execution_count": 141,
   "metadata": {},
   "outputs": [],
   "source": [
    "lv_obj3 = LVAnalysis(\"LV536\", data)"
   ]
  },
  {
   "cell_type": "code",
   "execution_count": 142,
   "metadata": {},
   "outputs": [
    {
     "data": {
      "text/html": [
       "<div>\n",
       "<style scoped>\n",
       "    .dataframe tbody tr th:only-of-type {\n",
       "        vertical-align: middle;\n",
       "    }\n",
       "\n",
       "    .dataframe tbody tr th {\n",
       "        vertical-align: top;\n",
       "    }\n",
       "\n",
       "    .dataframe thead th {\n",
       "        text-align: right;\n",
       "    }\n",
       "</style>\n",
       "<table border=\"1\" class=\"dataframe\">\n",
       "  <thead>\n",
       "    <tr style=\"text-align: right;\">\n",
       "      <th></th>\n",
       "      <th>gene_name</th>\n",
       "      <th>LV536</th>\n",
       "      <th>gene_band</th>\n",
       "    </tr>\n",
       "  </thead>\n",
       "  <tbody>\n",
       "    <tr>\n",
       "      <th>0</th>\n",
       "      <td>GTF2IRD1</td>\n",
       "      <td>6.397333</td>\n",
       "      <td>7q11.23</td>\n",
       "    </tr>\n",
       "    <tr>\n",
       "      <th>1</th>\n",
       "      <td>TAGLN</td>\n",
       "      <td>5.519838</td>\n",
       "      <td>11q23.3</td>\n",
       "    </tr>\n",
       "    <tr>\n",
       "      <th>2</th>\n",
       "      <td>HIST3H2BB</td>\n",
       "      <td>4.543711</td>\n",
       "      <td>1q42.13</td>\n",
       "    </tr>\n",
       "    <tr>\n",
       "      <th>3</th>\n",
       "      <td>PIAS1</td>\n",
       "      <td>3.546184</td>\n",
       "      <td>15q23</td>\n",
       "    </tr>\n",
       "    <tr>\n",
       "      <th>4</th>\n",
       "      <td>TMEM71</td>\n",
       "      <td>3.175580</td>\n",
       "      <td>8q24.22</td>\n",
       "    </tr>\n",
       "    <tr>\n",
       "      <th>5</th>\n",
       "      <td>PCBP1</td>\n",
       "      <td>2.948925</td>\n",
       "      <td>2p13.3</td>\n",
       "    </tr>\n",
       "    <tr>\n",
       "      <th>6</th>\n",
       "      <td>EGR1</td>\n",
       "      <td>2.824492</td>\n",
       "      <td>5q31.2</td>\n",
       "    </tr>\n",
       "    <tr>\n",
       "      <th>7</th>\n",
       "      <td>ACTR3</td>\n",
       "      <td>2.752111</td>\n",
       "      <td>2q14.1</td>\n",
       "    </tr>\n",
       "    <tr>\n",
       "      <th>8</th>\n",
       "      <td>APAF1</td>\n",
       "      <td>2.561194</td>\n",
       "      <td>12q23.1</td>\n",
       "    </tr>\n",
       "    <tr>\n",
       "      <th>9</th>\n",
       "      <td>MAGEH1</td>\n",
       "      <td>2.505184</td>\n",
       "      <td>NaN</td>\n",
       "    </tr>\n",
       "    <tr>\n",
       "      <th>10</th>\n",
       "      <td>STK11IP</td>\n",
       "      <td>2.504990</td>\n",
       "      <td>2q35</td>\n",
       "    </tr>\n",
       "    <tr>\n",
       "      <th>11</th>\n",
       "      <td>GINS2</td>\n",
       "      <td>2.433209</td>\n",
       "      <td>16q24.1</td>\n",
       "    </tr>\n",
       "    <tr>\n",
       "      <th>12</th>\n",
       "      <td>TMEM220</td>\n",
       "      <td>2.264740</td>\n",
       "      <td>17p13.1</td>\n",
       "    </tr>\n",
       "    <tr>\n",
       "      <th>13</th>\n",
       "      <td>EFNB2</td>\n",
       "      <td>2.118157</td>\n",
       "      <td>13q33.3</td>\n",
       "    </tr>\n",
       "    <tr>\n",
       "      <th>14</th>\n",
       "      <td>PLEKHA2</td>\n",
       "      <td>2.037479</td>\n",
       "      <td>8p11.22</td>\n",
       "    </tr>\n",
       "    <tr>\n",
       "      <th>15</th>\n",
       "      <td>PSMB2</td>\n",
       "      <td>1.968330</td>\n",
       "      <td>1p34.3</td>\n",
       "    </tr>\n",
       "    <tr>\n",
       "      <th>16</th>\n",
       "      <td>RFT1</td>\n",
       "      <td>1.859824</td>\n",
       "      <td>3p21.1</td>\n",
       "    </tr>\n",
       "    <tr>\n",
       "      <th>17</th>\n",
       "      <td>ARHGEF6</td>\n",
       "      <td>1.800890</td>\n",
       "      <td>NaN</td>\n",
       "    </tr>\n",
       "    <tr>\n",
       "      <th>18</th>\n",
       "      <td>RPL4</td>\n",
       "      <td>1.726855</td>\n",
       "      <td>15q22.31</td>\n",
       "    </tr>\n",
       "    <tr>\n",
       "      <th>19</th>\n",
       "      <td>MRPL34</td>\n",
       "      <td>1.710362</td>\n",
       "      <td>19p13.11</td>\n",
       "    </tr>\n",
       "  </tbody>\n",
       "</table>\n",
       "</div>"
      ],
      "text/plain": [
       "    gene_name     LV536 gene_band\n",
       "0    GTF2IRD1  6.397333   7q11.23\n",
       "1       TAGLN  5.519838   11q23.3\n",
       "2   HIST3H2BB  4.543711   1q42.13\n",
       "3       PIAS1  3.546184     15q23\n",
       "4      TMEM71  3.175580   8q24.22\n",
       "5       PCBP1  2.948925    2p13.3\n",
       "6        EGR1  2.824492    5q31.2\n",
       "7       ACTR3  2.752111    2q14.1\n",
       "8       APAF1  2.561194   12q23.1\n",
       "9      MAGEH1  2.505184       NaN\n",
       "10    STK11IP  2.504990      2q35\n",
       "11      GINS2  2.433209   16q24.1\n",
       "12    TMEM220  2.264740   17p13.1\n",
       "13      EFNB2  2.118157   13q33.3\n",
       "14    PLEKHA2  2.037479   8p11.22\n",
       "15      PSMB2  1.968330    1p34.3\n",
       "16       RFT1  1.859824    3p21.1\n",
       "17    ARHGEF6  1.800890       NaN\n",
       "18       RPL4  1.726855  15q22.31\n",
       "19     MRPL34  1.710362  19p13.11"
      ]
     },
     "execution_count": 142,
     "metadata": {},
     "output_type": "execute_result"
    }
   ],
   "source": [
    "lv_obj3.lv_genes.head(20)"
   ]
  },
  {
   "cell_type": "code",
   "execution_count": 143,
   "metadata": {},
   "outputs": [
    {
     "name": "stdout",
     "output_type": "stream",
     "text": [
      "SRP007947, SRP003901, SRP055569, SRP037722, SRP008218, SRP066834, SRP015013, SRP060416, SRP019994, SRP057196, SRP042161, SRP058773, SRP012557, SRP050499, SRP055153, SRP059379, SRP030617, SRP005279, SRP051606, SRP003754, SRP058841, SRP009247, SRP050497, SRP018104, SRP007508, SRP008145, SRP041377, SRP002326, SRP035478, SRP033135, SRP017777, SRP055440, SRP057248, SRP000599, SRP013450, SRP014213, SRP055513, SRP042218, SRP034543, "
     ]
    },
    {
     "name": "stderr",
     "output_type": "stream",
     "text": [
      "/home/miltondp/projects/labs/greenelab/phenoplier/libs/data/recount2.py:320: UserWarning: Not all experiments data could be loaded (37 != 39)\n",
      "  warnings.warn(\n"
     ]
    }
   ],
   "source": [
    "lv_data3 = lv_obj3.get_experiments_data()"
   ]
  },
  {
   "cell_type": "code",
   "execution_count": 144,
   "metadata": {},
   "outputs": [
    {
     "data": {
      "text/plain": [
       "(4995, 73)"
      ]
     },
     "execution_count": 144,
     "metadata": {},
     "output_type": "execute_result"
    }
   ],
   "source": [
    "lv_data3.shape"
   ]
  },
  {
   "cell_type": "code",
   "execution_count": 145,
   "metadata": {},
   "outputs": [],
   "source": [
    "_tmp = lv_data3[[\"cell type\", \"cancer or normal\", \"LV536\"]].dropna()"
   ]
  },
  {
   "cell_type": "code",
   "execution_count": 147,
   "metadata": {},
   "outputs": [
    {
     "data": {
      "text/html": [
       "<div>\n",
       "<style scoped>\n",
       "    .dataframe tbody tr th:only-of-type {\n",
       "        vertical-align: middle;\n",
       "    }\n",
       "\n",
       "    .dataframe tbody tr th {\n",
       "        vertical-align: top;\n",
       "    }\n",
       "\n",
       "    .dataframe thead th {\n",
       "        text-align: right;\n",
       "    }\n",
       "</style>\n",
       "<table border=\"1\" class=\"dataframe\">\n",
       "  <thead>\n",
       "    <tr style=\"text-align: right;\">\n",
       "      <th></th>\n",
       "      <th></th>\n",
       "      <th>cell type</th>\n",
       "      <th>cancer or normal</th>\n",
       "      <th>LV536</th>\n",
       "    </tr>\n",
       "    <tr>\n",
       "      <th>project</th>\n",
       "      <th>run</th>\n",
       "      <th></th>\n",
       "      <th></th>\n",
       "      <th></th>\n",
       "    </tr>\n",
       "  </thead>\n",
       "  <tbody>\n",
       "    <tr>\n",
       "      <th rowspan=\"20\" valign=\"top\">SRP007947</th>\n",
       "      <th>SRR333689</th>\n",
       "      <td>transitional</td>\n",
       "      <td>cancer</td>\n",
       "      <td>0.783877</td>\n",
       "    </tr>\n",
       "    <tr>\n",
       "      <th>SRR333691</th>\n",
       "      <td>transitional</td>\n",
       "      <td>cancer</td>\n",
       "      <td>0.555289</td>\n",
       "    </tr>\n",
       "    <tr>\n",
       "      <th>SRR333705</th>\n",
       "      <td>transitional</td>\n",
       "      <td>cancer</td>\n",
       "      <td>1.823202</td>\n",
       "    </tr>\n",
       "    <tr>\n",
       "      <th>SRR333693</th>\n",
       "      <td>transitional</td>\n",
       "      <td>cancer</td>\n",
       "      <td>1.030423</td>\n",
       "    </tr>\n",
       "    <tr>\n",
       "      <th>SRR333695</th>\n",
       "      <td>transitional</td>\n",
       "      <td>cancer</td>\n",
       "      <td>1.574230</td>\n",
       "    </tr>\n",
       "    <tr>\n",
       "      <th>SRR333703</th>\n",
       "      <td>transitional</td>\n",
       "      <td>cancer</td>\n",
       "      <td>1.637187</td>\n",
       "    </tr>\n",
       "    <tr>\n",
       "      <th>SRR333697</th>\n",
       "      <td>transitional</td>\n",
       "      <td>cancer</td>\n",
       "      <td>2.885932</td>\n",
       "    </tr>\n",
       "    <tr>\n",
       "      <th>SRR333707</th>\n",
       "      <td>transitional</td>\n",
       "      <td>cancer</td>\n",
       "      <td>0.387183</td>\n",
       "    </tr>\n",
       "    <tr>\n",
       "      <th>SRR333699</th>\n",
       "      <td>transitional</td>\n",
       "      <td>cancer</td>\n",
       "      <td>1.923467</td>\n",
       "    </tr>\n",
       "    <tr>\n",
       "      <th>SRR333701</th>\n",
       "      <td>transitional</td>\n",
       "      <td>cancer</td>\n",
       "      <td>0.913994</td>\n",
       "    </tr>\n",
       "    <tr>\n",
       "      <th>SRR333706</th>\n",
       "      <td>transitional</td>\n",
       "      <td>normal</td>\n",
       "      <td>2.289978</td>\n",
       "    </tr>\n",
       "    <tr>\n",
       "      <th>SRR333704</th>\n",
       "      <td>transitional</td>\n",
       "      <td>normal</td>\n",
       "      <td>3.171180</td>\n",
       "    </tr>\n",
       "    <tr>\n",
       "      <th>SRR333702</th>\n",
       "      <td>transitional</td>\n",
       "      <td>normal</td>\n",
       "      <td>2.356165</td>\n",
       "    </tr>\n",
       "    <tr>\n",
       "      <th>SRR333698</th>\n",
       "      <td>transitional</td>\n",
       "      <td>normal</td>\n",
       "      <td>3.255220</td>\n",
       "    </tr>\n",
       "    <tr>\n",
       "      <th>SRR333696</th>\n",
       "      <td>transitional</td>\n",
       "      <td>normal</td>\n",
       "      <td>2.678098</td>\n",
       "    </tr>\n",
       "    <tr>\n",
       "      <th>SRR333694</th>\n",
       "      <td>transitional</td>\n",
       "      <td>normal</td>\n",
       "      <td>1.428419</td>\n",
       "    </tr>\n",
       "    <tr>\n",
       "      <th>SRR333692</th>\n",
       "      <td>transitional</td>\n",
       "      <td>normal</td>\n",
       "      <td>2.569971</td>\n",
       "    </tr>\n",
       "    <tr>\n",
       "      <th>SRR333690</th>\n",
       "      <td>transitional</td>\n",
       "      <td>normal</td>\n",
       "      <td>3.199537</td>\n",
       "    </tr>\n",
       "    <tr>\n",
       "      <th>SRR333700</th>\n",
       "      <td>transitional</td>\n",
       "      <td>normal</td>\n",
       "      <td>2.671362</td>\n",
       "    </tr>\n",
       "    <tr>\n",
       "      <th>SRR333708</th>\n",
       "      <td>transitional</td>\n",
       "      <td>normal</td>\n",
       "      <td>1.823486</td>\n",
       "    </tr>\n",
       "  </tbody>\n",
       "</table>\n",
       "</div>"
      ],
      "text/plain": [
       "                        cell type cancer or normal     LV536\n",
       "project   run                                               \n",
       "SRP007947 SRR333689  transitional           cancer  0.783877\n",
       "          SRR333691  transitional           cancer  0.555289\n",
       "          SRR333705  transitional           cancer  1.823202\n",
       "          SRR333693  transitional           cancer  1.030423\n",
       "          SRR333695  transitional           cancer  1.574230\n",
       "          SRR333703  transitional           cancer  1.637187\n",
       "          SRR333697  transitional           cancer  2.885932\n",
       "          SRR333707  transitional           cancer  0.387183\n",
       "          SRR333699  transitional           cancer  1.923467\n",
       "          SRR333701  transitional           cancer  0.913994\n",
       "          SRR333706  transitional           normal  2.289978\n",
       "          SRR333704  transitional           normal  3.171180\n",
       "          SRR333702  transitional           normal  2.356165\n",
       "          SRR333698  transitional           normal  3.255220\n",
       "          SRR333696  transitional           normal  2.678098\n",
       "          SRR333694  transitional           normal  1.428419\n",
       "          SRR333692  transitional           normal  2.569971\n",
       "          SRR333690  transitional           normal  3.199537\n",
       "          SRR333700  transitional           normal  2.671362\n",
       "          SRR333708  transitional           normal  1.823486"
      ]
     },
     "execution_count": 147,
     "metadata": {},
     "output_type": "execute_result"
    }
   ],
   "source": [
    "_tmp[_tmp[\"cell type\"].str.contains(\"transitional\")].sort_values(\"cancer or normal\")"
   ]
  },
  {
   "cell_type": "code",
   "execution_count": null,
   "metadata": {},
   "outputs": [],
   "source": []
  },
  {
   "cell_type": "code",
   "execution_count": null,
   "metadata": {},
   "outputs": [],
   "source": []
  },
  {
   "cell_type": "code",
   "execution_count": null,
   "metadata": {},
   "outputs": [],
   "source": []
  },
  {
   "cell_type": "code",
   "execution_count": 50,
   "metadata": {},
   "outputs": [],
   "source": [
    "lv_obj = LVAnalysis(\"LV116\", data)"
   ]
  },
  {
   "cell_type": "code",
   "execution_count": 108,
   "metadata": {},
   "outputs": [
    {
     "data": {
      "text/plain": [
       "LV116    0.664563\n",
       "Name: atherosclerosis, dtype: float64"
      ]
     },
     "execution_count": 108,
     "metadata": {},
     "output_type": "execute_result"
    }
   ],
   "source": [
    "lv_obj.lv_traits.to_frame().loc[\"atherosclerosis\"]"
   ]
  },
  {
   "cell_type": "code",
   "execution_count": 110,
   "metadata": {},
   "outputs": [
    {
     "data": {
      "text/plain": [
       "LV116   -1.955667\n",
       "Name: hypertension, dtype: float64"
      ]
     },
     "execution_count": 110,
     "metadata": {},
     "output_type": "execute_result"
    }
   ],
   "source": [
    "lv_obj.lv_traits.to_frame().loc[\"hypertension\"]"
   ]
  },
  {
   "cell_type": "code",
   "execution_count": 111,
   "metadata": {},
   "outputs": [
    {
     "data": {
      "text/plain": [
       "LV116    0.51024\n",
       "Name: MAGNETIC_HDL.C, dtype: float64"
      ]
     },
     "execution_count": 111,
     "metadata": {},
     "output_type": "execute_result"
    }
   ],
   "source": [
    "lv_obj.lv_traits.to_frame().loc[\"MAGNETIC_HDL.C\"]"
   ]
  },
  {
   "cell_type": "code",
   "execution_count": 112,
   "metadata": {},
   "outputs": [
    {
     "data": {
      "text/plain": [
       "LV116   -0.644745\n",
       "Name: MAGNETIC_CH2.DB.ratio, dtype: float64"
      ]
     },
     "execution_count": 112,
     "metadata": {},
     "output_type": "execute_result"
    }
   ],
   "source": [
    "lv_obj.lv_traits.to_frame().loc[\"MAGNETIC_CH2.DB.ratio\"]"
   ]
  },
  {
   "cell_type": "code",
   "execution_count": 109,
   "metadata": {},
   "outputs": [
    {
     "data": {
      "text/plain": [
       "LV116   -0.498428\n",
       "Name: coronary artery disease, dtype: float64"
      ]
     },
     "execution_count": 109,
     "metadata": {},
     "output_type": "execute_result"
    }
   ],
   "source": [
    "lv_obj.lv_traits.to_frame().loc[\"coronary artery disease\"]"
   ]
  },
  {
   "cell_type": "code",
   "execution_count": 51,
   "metadata": {},
   "outputs": [
    {
     "data": {
      "text/html": [
       "<div>\n",
       "<style scoped>\n",
       "    .dataframe tbody tr th:only-of-type {\n",
       "        vertical-align: middle;\n",
       "    }\n",
       "\n",
       "    .dataframe tbody tr th {\n",
       "        vertical-align: top;\n",
       "    }\n",
       "\n",
       "    .dataframe thead th {\n",
       "        text-align: right;\n",
       "    }\n",
       "</style>\n",
       "<table border=\"1\" class=\"dataframe\">\n",
       "  <thead>\n",
       "    <tr style=\"text-align: right;\">\n",
       "      <th></th>\n",
       "      <th>gene_name</th>\n",
       "      <th>LV116</th>\n",
       "      <th>gene_band</th>\n",
       "    </tr>\n",
       "  </thead>\n",
       "  <tbody>\n",
       "    <tr>\n",
       "      <th>0</th>\n",
       "      <td>IFIT1</td>\n",
       "      <td>6.937650</td>\n",
       "      <td>10q23.31</td>\n",
       "    </tr>\n",
       "    <tr>\n",
       "      <th>1</th>\n",
       "      <td>MX1</td>\n",
       "      <td>6.650584</td>\n",
       "      <td>21q22.3</td>\n",
       "    </tr>\n",
       "    <tr>\n",
       "      <th>2</th>\n",
       "      <td>IFIT2</td>\n",
       "      <td>6.479595</td>\n",
       "      <td>10q23.31</td>\n",
       "    </tr>\n",
       "    <tr>\n",
       "      <th>3</th>\n",
       "      <td>OAS3</td>\n",
       "      <td>6.311481</td>\n",
       "      <td>12q24.13</td>\n",
       "    </tr>\n",
       "    <tr>\n",
       "      <th>4</th>\n",
       "      <td>OASL</td>\n",
       "      <td>6.212510</td>\n",
       "      <td>12q24.31</td>\n",
       "    </tr>\n",
       "    <tr>\n",
       "      <th>5</th>\n",
       "      <td>IFIT3</td>\n",
       "      <td>5.990415</td>\n",
       "      <td>10q23.31</td>\n",
       "    </tr>\n",
       "    <tr>\n",
       "      <th>6</th>\n",
       "      <td>OAS2</td>\n",
       "      <td>5.873026</td>\n",
       "      <td>12q24.13</td>\n",
       "    </tr>\n",
       "    <tr>\n",
       "      <th>7</th>\n",
       "      <td>OAS1</td>\n",
       "      <td>5.701188</td>\n",
       "      <td>12q24.13</td>\n",
       "    </tr>\n",
       "    <tr>\n",
       "      <th>8</th>\n",
       "      <td>MX2</td>\n",
       "      <td>5.549364</td>\n",
       "      <td>21q22.3</td>\n",
       "    </tr>\n",
       "    <tr>\n",
       "      <th>9</th>\n",
       "      <td>RSAD2</td>\n",
       "      <td>5.244291</td>\n",
       "      <td>2p25.2</td>\n",
       "    </tr>\n",
       "    <tr>\n",
       "      <th>10</th>\n",
       "      <td>IRF7</td>\n",
       "      <td>4.884961</td>\n",
       "      <td>11p15.5</td>\n",
       "    </tr>\n",
       "    <tr>\n",
       "      <th>11</th>\n",
       "      <td>CMPK2</td>\n",
       "      <td>4.819447</td>\n",
       "      <td>2p25.2</td>\n",
       "    </tr>\n",
       "    <tr>\n",
       "      <th>12</th>\n",
       "      <td>ISG15</td>\n",
       "      <td>4.772618</td>\n",
       "      <td>1p36.33</td>\n",
       "    </tr>\n",
       "    <tr>\n",
       "      <th>13</th>\n",
       "      <td>DDX58</td>\n",
       "      <td>4.501822</td>\n",
       "      <td>9p21.1</td>\n",
       "    </tr>\n",
       "    <tr>\n",
       "      <th>14</th>\n",
       "      <td>IFIH1</td>\n",
       "      <td>4.499766</td>\n",
       "      <td>2q24.2</td>\n",
       "    </tr>\n",
       "    <tr>\n",
       "      <th>15</th>\n",
       "      <td>USP18</td>\n",
       "      <td>4.476803</td>\n",
       "      <td>22q11.21</td>\n",
       "    </tr>\n",
       "    <tr>\n",
       "      <th>16</th>\n",
       "      <td>IFI35</td>\n",
       "      <td>4.355401</td>\n",
       "      <td>17q21.31</td>\n",
       "    </tr>\n",
       "    <tr>\n",
       "      <th>17</th>\n",
       "      <td>DHX58</td>\n",
       "      <td>4.262576</td>\n",
       "      <td>17q21.2</td>\n",
       "    </tr>\n",
       "    <tr>\n",
       "      <th>18</th>\n",
       "      <td>STAT2</td>\n",
       "      <td>4.138099</td>\n",
       "      <td>12q13.3</td>\n",
       "    </tr>\n",
       "    <tr>\n",
       "      <th>19</th>\n",
       "      <td>IFI6</td>\n",
       "      <td>3.972494</td>\n",
       "      <td>1p35.3</td>\n",
       "    </tr>\n",
       "  </tbody>\n",
       "</table>\n",
       "</div>"
      ],
      "text/plain": [
       "   gene_name     LV116 gene_band\n",
       "0      IFIT1  6.937650  10q23.31\n",
       "1        MX1  6.650584   21q22.3\n",
       "2      IFIT2  6.479595  10q23.31\n",
       "3       OAS3  6.311481  12q24.13\n",
       "4       OASL  6.212510  12q24.31\n",
       "5      IFIT3  5.990415  10q23.31\n",
       "6       OAS2  5.873026  12q24.13\n",
       "7       OAS1  5.701188  12q24.13\n",
       "8        MX2  5.549364   21q22.3\n",
       "9      RSAD2  5.244291    2p25.2\n",
       "10      IRF7  4.884961   11p15.5\n",
       "11     CMPK2  4.819447    2p25.2\n",
       "12     ISG15  4.772618   1p36.33\n",
       "13     DDX58  4.501822    9p21.1\n",
       "14     IFIH1  4.499766    2q24.2\n",
       "15     USP18  4.476803  22q11.21\n",
       "16     IFI35  4.355401  17q21.31\n",
       "17     DHX58  4.262576   17q21.2\n",
       "18     STAT2  4.138099   12q13.3\n",
       "19      IFI6  3.972494    1p35.3"
      ]
     },
     "execution_count": 51,
     "metadata": {},
     "output_type": "execute_result"
    }
   ],
   "source": [
    "lv_obj.lv_genes.head(20)"
   ]
  },
  {
   "cell_type": "code",
   "execution_count": 118,
   "metadata": {},
   "outputs": [
    {
     "data": {
      "text/html": [
       "<div>\n",
       "<style scoped>\n",
       "    .dataframe tbody tr th:only-of-type {\n",
       "        vertical-align: middle;\n",
       "    }\n",
       "\n",
       "    .dataframe tbody tr th {\n",
       "        vertical-align: top;\n",
       "    }\n",
       "\n",
       "    .dataframe thead th {\n",
       "        text-align: right;\n",
       "    }\n",
       "</style>\n",
       "<table border=\"1\" class=\"dataframe\">\n",
       "  <thead>\n",
       "    <tr style=\"text-align: right;\">\n",
       "      <th></th>\n",
       "      <th>gene_name</th>\n",
       "      <th>LV116</th>\n",
       "      <th>gene_band</th>\n",
       "    </tr>\n",
       "  </thead>\n",
       "  <tbody>\n",
       "    <tr>\n",
       "      <th>131</th>\n",
       "      <td>ABCD1</td>\n",
       "      <td>0.769893</td>\n",
       "      <td>NaN</td>\n",
       "    </tr>\n",
       "    <tr>\n",
       "      <th>219</th>\n",
       "      <td>ABCA7</td>\n",
       "      <td>0.465347</td>\n",
       "      <td>19p13.3</td>\n",
       "    </tr>\n",
       "    <tr>\n",
       "      <th>745</th>\n",
       "      <td>ABCA1</td>\n",
       "      <td>0.119768</td>\n",
       "      <td>9q31.1</td>\n",
       "    </tr>\n",
       "    <tr>\n",
       "      <th>754</th>\n",
       "      <td>ABCA6</td>\n",
       "      <td>0.118606</td>\n",
       "      <td>17q24.3</td>\n",
       "    </tr>\n",
       "    <tr>\n",
       "      <th>976</th>\n",
       "      <td>ABCC1</td>\n",
       "      <td>0.089240</td>\n",
       "      <td>16p13.11</td>\n",
       "    </tr>\n",
       "    <tr>\n",
       "      <th>1033</th>\n",
       "      <td>ABCC10</td>\n",
       "      <td>0.082434</td>\n",
       "      <td>6p21.1</td>\n",
       "    </tr>\n",
       "    <tr>\n",
       "      <th>1110</th>\n",
       "      <td>ABCC3</td>\n",
       "      <td>0.074794</td>\n",
       "      <td>17q21.33</td>\n",
       "    </tr>\n",
       "    <tr>\n",
       "      <th>1344</th>\n",
       "      <td>ABCG1</td>\n",
       "      <td>0.056964</td>\n",
       "      <td>21q22.3</td>\n",
       "    </tr>\n",
       "    <tr>\n",
       "      <th>1963</th>\n",
       "      <td>ABCB10</td>\n",
       "      <td>0.028698</td>\n",
       "      <td>1q42.13</td>\n",
       "    </tr>\n",
       "    <tr>\n",
       "      <th>2298</th>\n",
       "      <td>ABCA3</td>\n",
       "      <td>0.019102</td>\n",
       "      <td>16p13.3</td>\n",
       "    </tr>\n",
       "    <tr>\n",
       "      <th>2356</th>\n",
       "      <td>ABCB8</td>\n",
       "      <td>0.017641</td>\n",
       "      <td>7q36.1</td>\n",
       "    </tr>\n",
       "    <tr>\n",
       "      <th>2693</th>\n",
       "      <td>ABCC6</td>\n",
       "      <td>0.010565</td>\n",
       "      <td>16p13.11</td>\n",
       "    </tr>\n",
       "    <tr>\n",
       "      <th>3107</th>\n",
       "      <td>ABCB6</td>\n",
       "      <td>0.003030</td>\n",
       "      <td>2q35</td>\n",
       "    </tr>\n",
       "    <tr>\n",
       "      <th>3219</th>\n",
       "      <td>ABCA2</td>\n",
       "      <td>0.000935</td>\n",
       "      <td>9q34.3</td>\n",
       "    </tr>\n",
       "    <tr>\n",
       "      <th>3616</th>\n",
       "      <td>ABCB4</td>\n",
       "      <td>0.000000</td>\n",
       "      <td>7q21.12</td>\n",
       "    </tr>\n",
       "    <tr>\n",
       "      <th>3786</th>\n",
       "      <td>ABCG2</td>\n",
       "      <td>0.000000</td>\n",
       "      <td>4q22.1</td>\n",
       "    </tr>\n",
       "    <tr>\n",
       "      <th>4069</th>\n",
       "      <td>ABCB9</td>\n",
       "      <td>0.000000</td>\n",
       "      <td>12q24.31</td>\n",
       "    </tr>\n",
       "    <tr>\n",
       "      <th>4088</th>\n",
       "      <td>ABCB1</td>\n",
       "      <td>0.000000</td>\n",
       "      <td>7q21.12</td>\n",
       "    </tr>\n",
       "    <tr>\n",
       "      <th>4363</th>\n",
       "      <td>ABCC5</td>\n",
       "      <td>0.000000</td>\n",
       "      <td>3q27.1</td>\n",
       "    </tr>\n",
       "    <tr>\n",
       "      <th>5039</th>\n",
       "      <td>ABCA5</td>\n",
       "      <td>0.000000</td>\n",
       "      <td>17q24.3</td>\n",
       "    </tr>\n",
       "    <tr>\n",
       "      <th>5145</th>\n",
       "      <td>ABCC4</td>\n",
       "      <td>0.000000</td>\n",
       "      <td>13q32.1</td>\n",
       "    </tr>\n",
       "    <tr>\n",
       "      <th>5146</th>\n",
       "      <td>ABCC2</td>\n",
       "      <td>0.000000</td>\n",
       "      <td>10q24.2</td>\n",
       "    </tr>\n",
       "    <tr>\n",
       "      <th>5404</th>\n",
       "      <td>ABCB7</td>\n",
       "      <td>0.000000</td>\n",
       "      <td>NaN</td>\n",
       "    </tr>\n",
       "    <tr>\n",
       "      <th>6299</th>\n",
       "      <td>ABCA10</td>\n",
       "      <td>0.000000</td>\n",
       "      <td>17q24.3</td>\n",
       "    </tr>\n",
       "    <tr>\n",
       "      <th>6384</th>\n",
       "      <td>ABCD4</td>\n",
       "      <td>0.000000</td>\n",
       "      <td>14q24.3</td>\n",
       "    </tr>\n",
       "    <tr>\n",
       "      <th>6385</th>\n",
       "      <td>ABCD2</td>\n",
       "      <td>0.000000</td>\n",
       "      <td>12q12</td>\n",
       "    </tr>\n",
       "    <tr>\n",
       "      <th>6436</th>\n",
       "      <td>ABCD3</td>\n",
       "      <td>0.000000</td>\n",
       "      <td>1p21.3</td>\n",
       "    </tr>\n",
       "    <tr>\n",
       "      <th>6504</th>\n",
       "      <td>ABCA13</td>\n",
       "      <td>0.000000</td>\n",
       "      <td>7p12.3</td>\n",
       "    </tr>\n",
       "  </tbody>\n",
       "</table>\n",
       "</div>"
      ],
      "text/plain": [
       "     gene_name     LV116 gene_band\n",
       "131      ABCD1  0.769893       NaN\n",
       "219      ABCA7  0.465347   19p13.3\n",
       "745      ABCA1  0.119768    9q31.1\n",
       "754      ABCA6  0.118606   17q24.3\n",
       "976      ABCC1  0.089240  16p13.11\n",
       "1033    ABCC10  0.082434    6p21.1\n",
       "1110     ABCC3  0.074794  17q21.33\n",
       "1344     ABCG1  0.056964   21q22.3\n",
       "1963    ABCB10  0.028698   1q42.13\n",
       "2298     ABCA3  0.019102   16p13.3\n",
       "2356     ABCB8  0.017641    7q36.1\n",
       "2693     ABCC6  0.010565  16p13.11\n",
       "3107     ABCB6  0.003030      2q35\n",
       "3219     ABCA2  0.000935    9q34.3\n",
       "3616     ABCB4  0.000000   7q21.12\n",
       "3786     ABCG2  0.000000    4q22.1\n",
       "4069     ABCB9  0.000000  12q24.31\n",
       "4088     ABCB1  0.000000   7q21.12\n",
       "4363     ABCC5  0.000000    3q27.1\n",
       "5039     ABCA5  0.000000   17q24.3\n",
       "5145     ABCC4  0.000000   13q32.1\n",
       "5146     ABCC2  0.000000   10q24.2\n",
       "5404     ABCB7  0.000000       NaN\n",
       "6299    ABCA10  0.000000   17q24.3\n",
       "6384     ABCD4  0.000000   14q24.3\n",
       "6385     ABCD2  0.000000     12q12\n",
       "6436     ABCD3  0.000000    1p21.3\n",
       "6504    ABCA13  0.000000    7p12.3"
      ]
     },
     "execution_count": 118,
     "metadata": {},
     "output_type": "execute_result"
    }
   ],
   "source": [
    "lv_obj.lv_genes[lv_obj.lv_genes[\"gene_name\"].str.startswith(\"ABC\")]"
   ]
  },
  {
   "cell_type": "code",
   "execution_count": 52,
   "metadata": {},
   "outputs": [
    {
     "name": "stdout",
     "output_type": "stream",
     "text": [
      "SRP059039, SRP045500, SRP063059, SRP045569, SRP015670, SRP059531, SRP062958, SRP039361, SRP056733, SRP060370, SRP062966, SRP045352, SRP048804, SRP032775, SRP059172, SRP050246, SRP064458, SRP033711, SRP049820, SRP023199, SRP060416, SRP005279, SRP042161, SRP059701, SRP068139, SRP051848, SRP014428, SRP063661, SRP057205, SRP041826, SRP059057, SRP064259, SRP046226, SRP044956, SRP066356, SRP048640, SRP041885, SRP045659, SRP041647, SRP045565, SRP041620, SRP053186, SRP045441, SRP022133, SRP055874, SRP029990, SRP044206, SRP065763, SRP056443, SRP041538, SRP044593, SRP019270, SRP067934, SRP059035, SRP019936, SRP054971, SRP058237, SRP051368, SRP019758, "
     ]
    }
   ],
   "source": [
    "lv_data = lv_obj.get_experiments_data()"
   ]
  },
  {
   "cell_type": "code",
   "execution_count": 53,
   "metadata": {},
   "outputs": [
    {
     "data": {
      "text/plain": [
       "(4274, 105)"
      ]
     },
     "execution_count": 53,
     "metadata": {},
     "output_type": "execute_result"
    }
   ],
   "source": [
    "lv_data.shape"
   ]
  },
  {
   "cell_type": "code",
   "execution_count": 114,
   "metadata": {},
   "outputs": [],
   "source": [
    "# _tmp = lv_data[[\"cell type\", \"ad type\", \"treatment\", \"LV116\"]].dropna()\n",
    "_tmp = lv_data[[\"cell type\", \"LV116\"]].dropna()"
   ]
  },
  {
   "cell_type": "code",
   "execution_count": 115,
   "metadata": {},
   "outputs": [
    {
     "data": {
      "text/html": [
       "<div>\n",
       "<style scoped>\n",
       "    .dataframe tbody tr th:only-of-type {\n",
       "        vertical-align: middle;\n",
       "    }\n",
       "\n",
       "    .dataframe tbody tr th {\n",
       "        vertical-align: top;\n",
       "    }\n",
       "\n",
       "    .dataframe thead th {\n",
       "        text-align: right;\n",
       "    }\n",
       "</style>\n",
       "<table border=\"1\" class=\"dataframe\">\n",
       "  <thead>\n",
       "    <tr style=\"text-align: right;\">\n",
       "      <th></th>\n",
       "      <th></th>\n",
       "      <th>cell type</th>\n",
       "      <th>LV116</th>\n",
       "    </tr>\n",
       "    <tr>\n",
       "      <th>project</th>\n",
       "      <th>run</th>\n",
       "      <th></th>\n",
       "      <th></th>\n",
       "    </tr>\n",
       "  </thead>\n",
       "  <tbody>\n",
       "    <tr>\n",
       "      <th rowspan=\"7\" valign=\"top\">SRP066356</th>\n",
       "      <th>SRR2922614</th>\n",
       "      <td>Monocyte</td>\n",
       "      <td>0.414178</td>\n",
       "    </tr>\n",
       "    <tr>\n",
       "      <th>SRR2922613</th>\n",
       "      <td>Monocyte</td>\n",
       "      <td>0.409810</td>\n",
       "    </tr>\n",
       "    <tr>\n",
       "      <th>SRR2922612</th>\n",
       "      <td>Monocyte</td>\n",
       "      <td>-0.182914</td>\n",
       "    </tr>\n",
       "    <tr>\n",
       "      <th>SRR2922611</th>\n",
       "      <td>Monocyte</td>\n",
       "      <td>0.445308</td>\n",
       "    </tr>\n",
       "    <tr>\n",
       "      <th>SRR2922610</th>\n",
       "      <td>Monocyte</td>\n",
       "      <td>0.458754</td>\n",
       "    </tr>\n",
       "    <tr>\n",
       "      <th>SRR2922609</th>\n",
       "      <td>Monocyte</td>\n",
       "      <td>0.485004</td>\n",
       "    </tr>\n",
       "    <tr>\n",
       "      <th>SRR2922608</th>\n",
       "      <td>Monocyte</td>\n",
       "      <td>-0.169334</td>\n",
       "    </tr>\n",
       "  </tbody>\n",
       "</table>\n",
       "</div>"
      ],
      "text/plain": [
       "                     cell type     LV116\n",
       "project   run                           \n",
       "SRP066356 SRR2922614  Monocyte  0.414178\n",
       "          SRR2922613  Monocyte  0.409810\n",
       "          SRR2922612  Monocyte -0.182914\n",
       "          SRR2922611  Monocyte  0.445308\n",
       "          SRR2922610  Monocyte  0.458754\n",
       "          SRR2922609  Monocyte  0.485004\n",
       "          SRR2922608  Monocyte -0.169334"
      ]
     },
     "execution_count": 115,
     "metadata": {},
     "output_type": "execute_result"
    }
   ],
   "source": [
    "_tmp[_tmp[\"cell type\"].str.contains(\"Monocyte\")]"
   ]
  },
  {
   "cell_type": "code",
   "execution_count": 96,
   "metadata": {},
   "outputs": [
    {
     "data": {
      "text/html": [
       "<div>\n",
       "<style scoped>\n",
       "    .dataframe tbody tr th:only-of-type {\n",
       "        vertical-align: middle;\n",
       "    }\n",
       "\n",
       "    .dataframe tbody tr th {\n",
       "        vertical-align: top;\n",
       "    }\n",
       "\n",
       "    .dataframe thead th {\n",
       "        text-align: right;\n",
       "    }\n",
       "</style>\n",
       "<table border=\"1\" class=\"dataframe\">\n",
       "  <thead>\n",
       "    <tr style=\"text-align: right;\">\n",
       "      <th></th>\n",
       "      <th>cell type</th>\n",
       "      <th>culture condition</th>\n",
       "      <th>LV116</th>\n",
       "    </tr>\n",
       "    <tr>\n",
       "      <th>run</th>\n",
       "      <th></th>\n",
       "      <th></th>\n",
       "      <th></th>\n",
       "    </tr>\n",
       "  </thead>\n",
       "  <tbody>\n",
       "    <tr>\n",
       "      <th>SRR2922621</th>\n",
       "      <td>Breast cancer</td>\n",
       "      <td>co-culture</td>\n",
       "      <td>-0.023795</td>\n",
       "    </tr>\n",
       "    <tr>\n",
       "      <th>SRR2922620</th>\n",
       "      <td>Breast cancer</td>\n",
       "      <td>co-culture</td>\n",
       "      <td>-0.015148</td>\n",
       "    </tr>\n",
       "    <tr>\n",
       "      <th>SRR2922619</th>\n",
       "      <td>Breast cancer</td>\n",
       "      <td>co-culture</td>\n",
       "      <td>-0.006626</td>\n",
       "    </tr>\n",
       "    <tr>\n",
       "      <th>SRR2922618</th>\n",
       "      <td>Breast cancer</td>\n",
       "      <td>single</td>\n",
       "      <td>0.061319</td>\n",
       "    </tr>\n",
       "    <tr>\n",
       "      <th>SRR2922616</th>\n",
       "      <td>Breast cancer</td>\n",
       "      <td>co-culture</td>\n",
       "      <td>-0.002950</td>\n",
       "    </tr>\n",
       "    <tr>\n",
       "      <th>SRR2922617</th>\n",
       "      <td>Breast cancer</td>\n",
       "      <td>co-culture</td>\n",
       "      <td>-0.003162</td>\n",
       "    </tr>\n",
       "    <tr>\n",
       "      <th>SRR2922615</th>\n",
       "      <td>Breast cancer</td>\n",
       "      <td>co-culture</td>\n",
       "      <td>-0.003472</td>\n",
       "    </tr>\n",
       "    <tr>\n",
       "      <th>SRR2922614</th>\n",
       "      <td>Monocyte</td>\n",
       "      <td>co-culture</td>\n",
       "      <td>0.414178</td>\n",
       "    </tr>\n",
       "    <tr>\n",
       "      <th>SRR2922613</th>\n",
       "      <td>Monocyte</td>\n",
       "      <td>co-culture</td>\n",
       "      <td>0.409810</td>\n",
       "    </tr>\n",
       "    <tr>\n",
       "      <th>SRR2922612</th>\n",
       "      <td>Monocyte</td>\n",
       "      <td>single</td>\n",
       "      <td>-0.182914</td>\n",
       "    </tr>\n",
       "    <tr>\n",
       "      <th>SRR2922611</th>\n",
       "      <td>Monocyte</td>\n",
       "      <td>co-culture</td>\n",
       "      <td>0.445308</td>\n",
       "    </tr>\n",
       "    <tr>\n",
       "      <th>SRR2922610</th>\n",
       "      <td>Monocyte</td>\n",
       "      <td>co-culture</td>\n",
       "      <td>0.458754</td>\n",
       "    </tr>\n",
       "    <tr>\n",
       "      <th>SRR2922609</th>\n",
       "      <td>Monocyte</td>\n",
       "      <td>co-culture</td>\n",
       "      <td>0.485004</td>\n",
       "    </tr>\n",
       "    <tr>\n",
       "      <th>SRR2922608</th>\n",
       "      <td>Monocyte</td>\n",
       "      <td>single</td>\n",
       "      <td>-0.169334</td>\n",
       "    </tr>\n",
       "    <tr>\n",
       "      <th>SRR2922607</th>\n",
       "      <td>Breast cancer</td>\n",
       "      <td>single</td>\n",
       "      <td>-0.008133</td>\n",
       "    </tr>\n",
       "  </tbody>\n",
       "</table>\n",
       "</div>"
      ],
      "text/plain": [
       "                cell type culture condition     LV116\n",
       "run                                                  \n",
       "SRR2922621  Breast cancer        co-culture -0.023795\n",
       "SRR2922620  Breast cancer        co-culture -0.015148\n",
       "SRR2922619  Breast cancer        co-culture -0.006626\n",
       "SRR2922618  Breast cancer            single  0.061319\n",
       "SRR2922616  Breast cancer        co-culture -0.002950\n",
       "SRR2922617  Breast cancer        co-culture -0.003162\n",
       "SRR2922615  Breast cancer        co-culture -0.003472\n",
       "SRR2922614       Monocyte        co-culture  0.414178\n",
       "SRR2922613       Monocyte        co-culture  0.409810\n",
       "SRR2922612       Monocyte            single -0.182914\n",
       "SRR2922611       Monocyte        co-culture  0.445308\n",
       "SRR2922610       Monocyte        co-culture  0.458754\n",
       "SRR2922609       Monocyte        co-culture  0.485004\n",
       "SRR2922608       Monocyte            single -0.169334\n",
       "SRR2922607  Breast cancer            single -0.008133"
      ]
     },
     "execution_count": 96,
     "metadata": {},
     "output_type": "execute_result"
    }
   ],
   "source": [
    "_tmp.loc[\"SRP066356\"]"
   ]
  },
  {
   "cell_type": "code",
   "execution_count": 60,
   "metadata": {},
   "outputs": [
    {
     "data": {
      "text/html": [
       "<div>\n",
       "<style scoped>\n",
       "    .dataframe tbody tr th:only-of-type {\n",
       "        vertical-align: middle;\n",
       "    }\n",
       "\n",
       "    .dataframe tbody tr th {\n",
       "        vertical-align: top;\n",
       "    }\n",
       "\n",
       "    .dataframe thead tr th {\n",
       "        text-align: left;\n",
       "    }\n",
       "\n",
       "    .dataframe thead tr:last-of-type th {\n",
       "        text-align: right;\n",
       "    }\n",
       "</style>\n",
       "<table border=\"1\" class=\"dataframe\">\n",
       "  <thead>\n",
       "    <tr>\n",
       "      <th></th>\n",
       "      <th colspan=\"8\" halign=\"left\">LV116</th>\n",
       "    </tr>\n",
       "    <tr>\n",
       "      <th></th>\n",
       "      <th>count</th>\n",
       "      <th>mean</th>\n",
       "      <th>std</th>\n",
       "      <th>min</th>\n",
       "      <th>25%</th>\n",
       "      <th>50%</th>\n",
       "      <th>75%</th>\n",
       "      <th>max</th>\n",
       "    </tr>\n",
       "    <tr>\n",
       "      <th>treatment</th>\n",
       "      <th></th>\n",
       "      <th></th>\n",
       "      <th></th>\n",
       "      <th></th>\n",
       "      <th></th>\n",
       "      <th></th>\n",
       "      <th></th>\n",
       "      <th></th>\n",
       "    </tr>\n",
       "  </thead>\n",
       "  <tbody>\n",
       "    <tr>\n",
       "      <th>HSV-1</th>\n",
       "      <td>11.0</td>\n",
       "      <td>1.831321</td>\n",
       "      <td>0.210512</td>\n",
       "      <td>1.446892</td>\n",
       "      <td>1.679989</td>\n",
       "      <td>1.902258</td>\n",
       "      <td>2.013290</td>\n",
       "      <td>2.047151</td>\n",
       "    </tr>\n",
       "    <tr>\n",
       "      <th>sham</th>\n",
       "      <td>11.0</td>\n",
       "      <td>-0.011554</td>\n",
       "      <td>0.015610</td>\n",
       "      <td>-0.034335</td>\n",
       "      <td>-0.018048</td>\n",
       "      <td>-0.014753</td>\n",
       "      <td>-0.006473</td>\n",
       "      <td>0.023683</td>\n",
       "    </tr>\n",
       "  </tbody>\n",
       "</table>\n",
       "</div>"
      ],
      "text/plain": [
       "          LV116                                                              \\\n",
       "          count      mean       std       min       25%       50%       75%   \n",
       "treatment                                                                     \n",
       "HSV-1      11.0  1.831321  0.210512  1.446892  1.679989  1.902258  2.013290   \n",
       "sham       11.0 -0.011554  0.015610 -0.034335 -0.018048 -0.014753 -0.006473   \n",
       "\n",
       "                     \n",
       "                max  \n",
       "treatment            \n",
       "HSV-1      2.047151  \n",
       "sham       0.023683  "
      ]
     },
     "execution_count": 60,
     "metadata": {},
     "output_type": "execute_result"
    }
   ],
   "source": [
    "_tmp[_tmp[\"cell type\"].str.contains(\"PBMCs\")].groupby(\"treatment\").describe()"
   ]
  },
  {
   "cell_type": "code",
   "execution_count": null,
   "metadata": {},
   "outputs": [],
   "source": []
  },
  {
   "cell_type": "code",
   "execution_count": null,
   "metadata": {},
   "outputs": [],
   "source": []
  },
  {
   "cell_type": "code",
   "execution_count": null,
   "metadata": {},
   "outputs": [],
   "source": [
    "lv_obj2 = LVAnalysis(\"LV881\", data)"
   ]
  },
  {
   "cell_type": "code",
   "execution_count": null,
   "metadata": {},
   "outputs": [],
   "source": [
    "lv_obj2.lv_genes.head(20)"
   ]
  },
  {
   "cell_type": "code",
   "execution_count": null,
   "metadata": {},
   "outputs": [],
   "source": [
    "lv_attrs = lv_obj.get_attributes_variation_score()\n",
    "_tmp = pd.Series(lv_attrs.index)\n",
    "lv_attrs = lv_attrs[\n",
    "    _tmp.str.match(\n",
    "        \"(?:cell.+type$)|(?:tissue$)|(?:tissue.+type$)\",\n",
    "        case=False,\n",
    "        flags=re.IGNORECASE,\n",
    "    ).values\n",
    "].sort_values(ascending=False)\n",
    "display(lv_attrs)"
   ]
  },
  {
   "cell_type": "code",
   "execution_count": null,
   "metadata": {},
   "outputs": [],
   "source": [
    "with sns.plotting_context(\"paper\", font_scale=1.0), sns.axes_style(\"whitegrid\"):\n",
    "    fig, ax = plt.subplots(figsize=(14, 8))\n",
    "    ax = lv_obj2.plot_attribute(\"tissue\", top_x_values=20)"
   ]
  },
  {
   "cell_type": "code",
   "execution_count": null,
   "metadata": {},
   "outputs": [],
   "source": [
    "with sns.plotting_context(\"paper\", font_scale=1.0), sns.axes_style(\"whitegrid\"):\n",
    "    fig, ax = plt.subplots(figsize=(14, 8))\n",
    "    ax = lv_obj2.plot_attribute(\"cell type\", top_x_values=20)"
   ]
  },
  {
   "cell_type": "code",
   "execution_count": null,
   "metadata": {},
   "outputs": [],
   "source": []
  }
 ],
 "metadata": {
  "jupytext": {
   "cell_metadata_filter": "all,-execution,-papermill,-trusted",
   "formats": "ipynb,py//py:percent"
  },
  "kernelspec": {
   "display_name": "Python 3",
   "language": "python",
   "name": "python3"
  },
  "language_info": {
   "codemirror_mode": {
    "name": "ipython",
    "version": 3
   },
   "file_extension": ".py",
   "mimetype": "text/x-python",
   "name": "python",
   "nbconvert_exporter": "python",
   "pygments_lexer": "ipython3",
   "version": "3.8.8"
  },
  "toc-autonumbering": true
 },
 "nbformat": 4,
 "nbformat_minor": 4
}
