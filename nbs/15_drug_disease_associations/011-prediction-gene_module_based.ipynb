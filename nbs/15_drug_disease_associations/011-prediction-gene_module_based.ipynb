{
 "cells": [
  {
   "cell_type": "markdown",
   "metadata": {
    "papermill": {
     "duration": 0.04089,
     "end_time": "2020-12-23T18:05:20.790112",
     "exception": false,
     "start_time": "2020-12-23T18:05:20.749222",
     "status": "completed"
    },
    "tags": []
   },
   "source": [
    "# Description"
   ]
  },
  {
   "cell_type": "markdown",
   "metadata": {
    "papermill": {
     "duration": 0.010506,
     "end_time": "2020-12-23T18:05:20.814922",
     "exception": false,
     "start_time": "2020-12-23T18:05:20.804416",
     "status": "completed"
    },
    "tags": []
   },
   "source": [
    "**TODO**"
   ]
  },
  {
   "cell_type": "markdown",
   "metadata": {
    "papermill": {
     "duration": 0.010014,
     "end_time": "2020-12-23T18:05:20.835300",
     "exception": false,
     "start_time": "2020-12-23T18:05:20.825286",
     "status": "completed"
    },
    "tags": []
   },
   "source": [
    "# Modules loading"
   ]
  },
  {
   "cell_type": "code",
   "execution_count": null,
   "metadata": {
    "papermill": {
     "duration": 0.02428,
     "end_time": "2020-12-23T18:05:20.869748",
     "exception": false,
     "start_time": "2020-12-23T18:05:20.845468",
     "status": "completed"
    },
    "tags": []
   },
   "outputs": [],
   "source": [
    "%load_ext autoreload\n",
    "%autoreload 2"
   ]
  },
  {
   "cell_type": "code",
   "execution_count": null,
   "metadata": {
    "papermill": {
     "duration": 0.196929,
     "end_time": "2020-12-23T18:05:21.077057",
     "exception": false,
     "start_time": "2020-12-23T18:05:20.880128",
     "status": "completed"
    },
    "tags": []
   },
   "outputs": [],
   "source": [
    "from IPython.display import display\n",
    "from pathlib import Path\n",
    "\n",
    "import pandas as pd\n",
    "\n",
    "import conf"
   ]
  },
  {
   "cell_type": "markdown",
   "metadata": {
    "papermill": {
     "duration": 0.010457,
     "end_time": "2020-12-23T18:05:21.098286",
     "exception": false,
     "start_time": "2020-12-23T18:05:21.087829",
     "status": "completed"
    },
    "tags": []
   },
   "source": [
    "# Settings"
   ]
  },
  {
   "cell_type": "code",
   "execution_count": null,
   "metadata": {
    "papermill": {
     "duration": 0.020419,
     "end_time": "2020-12-23T18:05:21.129046",
     "exception": false,
     "start_time": "2020-12-23T18:05:21.108627",
     "status": "completed"
    },
    "tags": []
   },
   "outputs": [],
   "source": [
    "# if True, then it doesn't check if result files already exist and runs everything again\n",
    "FORCE_RUN = False"
   ]
  },
  {
   "cell_type": "code",
   "execution_count": null,
   "metadata": {
    "papermill": {
     "duration": 0.020341,
     "end_time": "2020-12-23T18:05:21.159804",
     "exception": false,
     "start_time": "2020-12-23T18:05:21.139463",
     "status": "completed"
    },
    "tags": []
   },
   "outputs": [],
   "source": [
    "PREDICTION_METHOD = \"Module-based\""
   ]
  },
  {
   "cell_type": "code",
   "execution_count": null,
   "metadata": {
    "papermill": {
     "duration": 0.025232,
     "end_time": "2020-12-23T18:05:21.196196",
     "exception": false,
     "start_time": "2020-12-23T18:05:21.170964",
     "status": "completed"
    },
    "tags": []
   },
   "outputs": [],
   "source": [
    "OUTPUT_DIR = conf.RESULTS[\"DRUG_DISEASE_ANALYSES\"]\n",
    "display(OUTPUT_DIR)\n",
    "OUTPUT_DIR.mkdir(parents=True, exist_ok=True)"
   ]
  },
  {
   "cell_type": "code",
   "execution_count": null,
   "metadata": {
    "papermill": {
     "duration": 0.023756,
     "end_time": "2020-12-23T18:05:21.230855",
     "exception": false,
     "start_time": "2020-12-23T18:05:21.207099",
     "status": "completed"
    },
    "tags": []
   },
   "outputs": [],
   "source": [
    "# OUTPUT_DATA_DIR = Path(OUTPUT_DIR, \"data\")\n",
    "# display(OUTPUT_DATA_DIR)\n",
    "# OUTPUT_DATA_DIR.mkdir(parents=True, exist_ok=True)"
   ]
  },
  {
   "cell_type": "code",
   "execution_count": null,
   "metadata": {
    "papermill": {
     "duration": 0.032363,
     "end_time": "2020-12-23T18:05:21.275472",
     "exception": false,
     "start_time": "2020-12-23T18:05:21.243109",
     "status": "completed"
    },
    "tags": []
   },
   "outputs": [],
   "source": [
    "INPUT_DATA_DIR = Path(\n",
    "    OUTPUT_DIR,\n",
    "    \"data\",\n",
    "    \"proj\",\n",
    ")\n",
    "display(INPUT_DATA_DIR)\n",
    "INPUT_DATA_DIR.mkdir(parents=True, exist_ok=True)"
   ]
  },
  {
   "cell_type": "code",
   "execution_count": null,
   "metadata": {
    "papermill": {
     "duration": 0.022844,
     "end_time": "2020-12-23T18:05:21.310394",
     "exception": false,
     "start_time": "2020-12-23T18:05:21.287550",
     "status": "completed"
    },
    "tags": []
   },
   "outputs": [],
   "source": [
    "OUTPUT_PREDICTIONS_DIR = Path(OUTPUT_DIR, \"predictions\")\n",
    "display(OUTPUT_PREDICTIONS_DIR)\n",
    "OUTPUT_PREDICTIONS_DIR.mkdir(parents=True, exist_ok=True)"
   ]
  },
  {
   "cell_type": "markdown",
   "metadata": {
    "papermill": {
     "duration": 0.011243,
     "end_time": "2020-12-23T18:05:21.333015",
     "exception": false,
     "start_time": "2020-12-23T18:05:21.321772",
     "status": "completed"
    },
    "tags": []
   },
   "source": [
    "# Load PharmacotherapyDB gold standard"
   ]
  },
  {
   "cell_type": "code",
   "execution_count": null,
   "metadata": {
    "papermill": {
     "duration": 0.021633,
     "end_time": "2020-12-23T18:05:21.366060",
     "exception": false,
     "start_time": "2020-12-23T18:05:21.344427",
     "status": "completed"
    },
    "tags": []
   },
   "outputs": [],
   "source": [
    "gold_standard = pd.read_pickle(\n",
    "    Path(OUTPUT_DIR, \"gold_standard.pkl\"),\n",
    ")"
   ]
  },
  {
   "cell_type": "code",
   "execution_count": null,
   "metadata": {
    "papermill": {
     "duration": 0.021866,
     "end_time": "2020-12-23T18:05:21.399127",
     "exception": false,
     "start_time": "2020-12-23T18:05:21.377261",
     "status": "completed"
    },
    "tags": []
   },
   "outputs": [],
   "source": [
    "display(gold_standard.shape)"
   ]
  },
  {
   "cell_type": "code",
   "execution_count": null,
   "metadata": {
    "papermill": {
     "duration": 0.02686,
     "end_time": "2020-12-23T18:05:21.437229",
     "exception": false,
     "start_time": "2020-12-23T18:05:21.410369",
     "status": "completed"
    },
    "tags": []
   },
   "outputs": [],
   "source": [
    "display(gold_standard.head())"
   ]
  },
  {
   "cell_type": "code",
   "execution_count": null,
   "metadata": {
    "papermill": {
     "duration": 0.021401,
     "end_time": "2020-12-23T18:05:21.470364",
     "exception": false,
     "start_time": "2020-12-23T18:05:21.448963",
     "status": "completed"
    },
    "tags": []
   },
   "outputs": [],
   "source": [
    "doids_in_gold_standard = set(gold_standard[\"trait\"])"
   ]
  },
  {
   "cell_type": "markdown",
   "metadata": {
    "papermill": {
     "duration": 0.011701,
     "end_time": "2020-12-23T18:05:21.493765",
     "exception": false,
     "start_time": "2020-12-23T18:05:21.482064",
     "status": "completed"
    },
    "tags": []
   },
   "source": [
    "# Load LINCS"
   ]
  },
  {
   "cell_type": "markdown",
   "metadata": {
    "papermill": {
     "duration": 0.011496,
     "end_time": "2020-12-23T18:05:21.517009",
     "exception": false,
     "start_time": "2020-12-23T18:05:21.505513",
     "status": "completed"
    },
    "tags": []
   },
   "source": [
    "## Projected data"
   ]
  },
  {
   "cell_type": "code",
   "execution_count": null,
   "metadata": {
    "papermill": {
     "duration": 0.022224,
     "end_time": "2020-12-23T18:05:21.550584",
     "exception": false,
     "start_time": "2020-12-23T18:05:21.528360",
     "status": "completed"
    },
    "tags": []
   },
   "outputs": [],
   "source": [
    "input_file = Path(INPUT_DATA_DIR, \"lincs-projection.pkl\").resolve()\n",
    "\n",
    "display(input_file)"
   ]
  },
  {
   "cell_type": "code",
   "execution_count": null,
   "metadata": {
    "papermill": {
     "duration": 0.026689,
     "end_time": "2020-12-23T18:05:21.589109",
     "exception": false,
     "start_time": "2020-12-23T18:05:21.562420",
     "status": "completed"
    },
    "tags": []
   },
   "outputs": [],
   "source": [
    "lincs_projection = pd.read_pickle(input_file)"
   ]
  },
  {
   "cell_type": "code",
   "execution_count": null,
   "metadata": {
    "papermill": {
     "duration": 0.023879,
     "end_time": "2020-12-23T18:05:21.625255",
     "exception": false,
     "start_time": "2020-12-23T18:05:21.601376",
     "status": "completed"
    },
    "tags": []
   },
   "outputs": [],
   "source": [
    "display(lincs_projection.shape)"
   ]
  },
  {
   "cell_type": "code",
   "execution_count": null,
   "metadata": {
    "papermill": {
     "duration": 0.03622,
     "end_time": "2020-12-23T18:05:21.675585",
     "exception": false,
     "start_time": "2020-12-23T18:05:21.639365",
     "status": "completed"
    },
    "tags": []
   },
   "outputs": [],
   "source": [
    "display(lincs_projection.head())"
   ]
  },
  {
   "cell_type": "markdown",
   "metadata": {
    "papermill": {
     "duration": 0.012484,
     "end_time": "2020-12-23T18:05:21.700768",
     "exception": false,
     "start_time": "2020-12-23T18:05:21.688284",
     "status": "completed"
    },
    "tags": []
   },
   "source": [
    "# Load S-PrediXcan"
   ]
  },
  {
   "cell_type": "code",
   "execution_count": null,
   "metadata": {
    "papermill": {
     "duration": 0.225438,
     "end_time": "2020-12-23T18:05:21.938669",
     "exception": false,
     "start_time": "2020-12-23T18:05:21.713231",
     "status": "completed"
    },
    "tags": []
   },
   "outputs": [],
   "source": [
    "from entity import Trait"
   ]
  },
  {
   "cell_type": "code",
   "execution_count": null,
   "metadata": {
    "papermill": {
     "duration": 0.025545,
     "end_time": "2020-12-23T18:05:21.979243",
     "exception": false,
     "start_time": "2020-12-23T18:05:21.953698",
     "status": "completed"
    },
    "tags": []
   },
   "outputs": [],
   "source": [
    "phenomexcan_input_file_list = [\n",
    "    f\n",
    "    for f in INPUT_DATA_DIR.glob(\"*.pkl\")\n",
    "    if f.name.startswith((\"smultixcan-\", \"spredixcan-\"))\n",
    "]"
   ]
  },
  {
   "cell_type": "code",
   "execution_count": null,
   "metadata": {
    "papermill": {
     "duration": 0.023138,
     "end_time": "2020-12-23T18:05:22.016221",
     "exception": false,
     "start_time": "2020-12-23T18:05:21.993083",
     "status": "completed"
    },
    "tags": []
   },
   "outputs": [],
   "source": [
    "display(len(phenomexcan_input_file_list))"
   ]
  },
  {
   "cell_type": "markdown",
   "metadata": {
    "papermill": {
     "duration": 0.01245,
     "end_time": "2020-12-23T18:05:22.042111",
     "exception": false,
     "start_time": "2020-12-23T18:05:22.029661",
     "status": "completed"
    },
    "tags": []
   },
   "source": [
    "# Predict drug-disease associations"
   ]
  },
  {
   "cell_type": "code",
   "execution_count": null,
   "metadata": {
    "papermill": {
     "duration": 0.028271,
     "end_time": "2020-12-23T18:05:22.083712",
     "exception": false,
     "start_time": "2020-12-23T18:05:22.055441",
     "status": "completed"
    },
    "tags": []
   },
   "outputs": [],
   "source": [
    "from drug_disease import (\n",
    "    predict_dotprod,\n",
    "    predict_dotprod_neg,\n",
    "    predict_pearson,\n",
    "    predict_pearson_neg,\n",
    "    predict_spearman,\n",
    "    predict_spearman_neg,\n",
    ")"
   ]
  },
  {
   "cell_type": "code",
   "execution_count": null,
   "metadata": {
    "papermill": {
     "duration": 2056.463755,
     "end_time": "2020-12-23T18:39:38.560240",
     "exception": false,
     "start_time": "2020-12-23T18:05:22.096485",
     "status": "completed"
    },
    "tags": []
   },
   "outputs": [],
   "source": [
    "for phenomexcan_input_file in phenomexcan_input_file_list:\n",
    "    print(phenomexcan_input_file.name)\n",
    "\n",
    "    # read phenomexcan data\n",
    "    phenomexcan_projection = pd.read_pickle(phenomexcan_input_file)\n",
    "    print(f\"  shape: {phenomexcan_projection.shape}\")\n",
    "\n",
    "    predict_dotprod(\n",
    "        lincs_projection,\n",
    "        phenomexcan_input_file,\n",
    "        phenomexcan_projection,\n",
    "        OUTPUT_PREDICTIONS_DIR,\n",
    "        PREDICTION_METHOD,\n",
    "        doids_in_gold_standard,\n",
    "        FORCE_RUN,\n",
    "    )\n",
    "\n",
    "    predict_dotprod_neg(\n",
    "        lincs_projection,\n",
    "        phenomexcan_input_file,\n",
    "        phenomexcan_projection,\n",
    "        OUTPUT_PREDICTIONS_DIR,\n",
    "        PREDICTION_METHOD,\n",
    "        doids_in_gold_standard,\n",
    "        FORCE_RUN,\n",
    "    )\n",
    "\n",
    "    predict_pearson(\n",
    "        lincs_projection,\n",
    "        phenomexcan_input_file,\n",
    "        phenomexcan_projection,\n",
    "        OUTPUT_PREDICTIONS_DIR,\n",
    "        PREDICTION_METHOD,\n",
    "        doids_in_gold_standard,\n",
    "        FORCE_RUN,\n",
    "    )\n",
    "\n",
    "    predict_pearson_neg(\n",
    "        lincs_projection,\n",
    "        phenomexcan_input_file,\n",
    "        phenomexcan_projection,\n",
    "        OUTPUT_PREDICTIONS_DIR,\n",
    "        PREDICTION_METHOD,\n",
    "        doids_in_gold_standard,\n",
    "        FORCE_RUN,\n",
    "    )\n",
    "\n",
    "    predict_spearman(\n",
    "        lincs_projection,\n",
    "        phenomexcan_input_file,\n",
    "        phenomexcan_projection,\n",
    "        OUTPUT_PREDICTIONS_DIR,\n",
    "        PREDICTION_METHOD,\n",
    "        doids_in_gold_standard,\n",
    "        FORCE_RUN,\n",
    "    )\n",
    "\n",
    "    predict_spearman_neg(\n",
    "        lincs_projection,\n",
    "        phenomexcan_input_file,\n",
    "        phenomexcan_projection,\n",
    "        OUTPUT_PREDICTIONS_DIR,\n",
    "        PREDICTION_METHOD,\n",
    "        doids_in_gold_standard,\n",
    "        FORCE_RUN,\n",
    "    )\n",
    "\n",
    "    print(\"\\n\")"
   ]
  },
  {
   "cell_type": "code",
   "execution_count": null,
   "metadata": {
    "papermill": {
     "duration": 0.112221,
     "end_time": "2020-12-23T18:39:38.786608",
     "exception": false,
     "start_time": "2020-12-23T18:39:38.674387",
     "status": "completed"
    },
    "tags": []
   },
   "outputs": [],
   "source": []
  }
 ],
 "metadata": {
  "jupytext": {
   "formats": "ipynb,py//py:percent"
  },
  "kernelspec": {
   "display_name": "Python 3",
   "language": "python",
   "name": "python3"
  },
  "language_info": {
   "codemirror_mode": {
    "name": "ipython",
    "version": 3
   },
   "file_extension": ".py",
   "mimetype": "text/x-python",
   "name": "python",
   "nbconvert_exporter": "python",
   "pygments_lexer": "ipython3",
   "version": "3.8.6"
  },
  "papermill": {
   "default_parameters": {},
   "duration": 2059.244697,
   "end_time": "2020-12-23T18:39:39.204345",
   "environment_variables": {},
   "exception": null,
   "input_path": "15_drug_disease_associations/011-prediction-gene_module_based.ipynb",
   "output_path": "15_drug_disease_associations/011-prediction-gene_module_based.run.ipynb",
   "parameters": {},
   "start_time": "2020-12-23T18:05:19.959648",
   "version": "2.2.2"
  }
 },
 "nbformat": 4,
 "nbformat_minor": 4
}
