{
 "cells": [
  {
   "cell_type": "markdown",
   "metadata": {
    "papermill": {
     "duration": 0.036359,
     "end_time": "2020-12-23T19:50:41.165143",
     "exception": false,
     "start_time": "2020-12-23T19:50:41.128784",
     "status": "completed"
    },
    "tags": []
   },
   "source": [
    "# Description"
   ]
  },
  {
   "cell_type": "markdown",
   "metadata": {
    "papermill": {
     "duration": 0.009766,
     "end_time": "2020-12-23T19:50:41.189531",
     "exception": false,
     "start_time": "2020-12-23T19:50:41.179765",
     "status": "completed"
    },
    "tags": []
   },
   "source": [
    "**TODO**"
   ]
  },
  {
   "cell_type": "markdown",
   "metadata": {
    "papermill": {
     "duration": 0.00867,
     "end_time": "2020-12-23T19:50:41.206942",
     "exception": false,
     "start_time": "2020-12-23T19:50:41.198272",
     "status": "completed"
    },
    "tags": []
   },
   "source": [
    "# Modules loading"
   ]
  },
  {
   "cell_type": "code",
   "execution_count": 1,
   "metadata": {
    "papermill": {
     "duration": 0.020623,
     "end_time": "2020-12-23T19:50:41.236311",
     "exception": false,
     "start_time": "2020-12-23T19:50:41.215688",
     "status": "completed"
    },
    "tags": []
   },
   "outputs": [],
   "source": [
    "%load_ext autoreload\n",
    "%autoreload 2"
   ]
  },
  {
   "cell_type": "code",
   "execution_count": 2,
   "metadata": {
    "papermill": {
     "duration": 0.247588,
     "end_time": "2020-12-23T19:50:41.493393",
     "exception": false,
     "start_time": "2020-12-23T19:50:41.245805",
     "status": "completed"
    },
    "tags": []
   },
   "outputs": [],
   "source": [
    "from IPython.display import display\n",
    "from pathlib import Path\n",
    "\n",
    "import pandas as pd\n",
    "\n",
    "import conf"
   ]
  },
  {
   "cell_type": "markdown",
   "metadata": {
    "papermill": {
     "duration": 0.008919,
     "end_time": "2020-12-23T19:50:41.511867",
     "exception": false,
     "start_time": "2020-12-23T19:50:41.502948",
     "status": "completed"
    },
    "tags": []
   },
   "source": [
    "# Settings"
   ]
  },
  {
   "cell_type": "code",
   "execution_count": 3,
   "metadata": {
    "papermill": {
     "duration": 0.018418,
     "end_time": "2020-12-23T19:50:41.539027",
     "exception": false,
     "start_time": "2020-12-23T19:50:41.520609",
     "status": "completed"
    },
    "tags": []
   },
   "outputs": [],
   "source": [
    "# if True, then it doesn't check if result files already exist and runs everything again\n",
    "FORCE_RUN = True"
   ]
  },
  {
   "cell_type": "code",
   "execution_count": 4,
   "metadata": {
    "papermill": {
     "duration": 0.019205,
     "end_time": "2020-12-23T19:50:41.567597",
     "exception": false,
     "start_time": "2020-12-23T19:50:41.548392",
     "status": "completed"
    },
    "tags": []
   },
   "outputs": [],
   "source": [
    "PREDICTION_METHOD = \"Module-based\""
   ]
  },
  {
   "cell_type": "code",
   "execution_count": 5,
   "metadata": {
    "papermill": {
     "duration": 0.024172,
     "end_time": "2020-12-23T19:50:41.601289",
     "exception": false,
     "start_time": "2020-12-23T19:50:41.577117",
     "status": "completed"
    },
    "tags": []
   },
   "outputs": [
    {
     "data": {
      "text/plain": [
       "PosixPath('/media/miltondp/Elements1/projects/phenoplier/results/drug_disease_analyses')"
      ]
     },
     "metadata": {},
     "output_type": "display_data"
    }
   ],
   "source": [
    "OUTPUT_DIR = conf.RESULTS[\"DRUG_DISEASE_ANALYSES\"]\n",
    "display(OUTPUT_DIR)\n",
    "OUTPUT_DIR.mkdir(parents=True, exist_ok=True)"
   ]
  },
  {
   "cell_type": "code",
   "execution_count": 6,
   "metadata": {
    "papermill": {
     "duration": 0.023388,
     "end_time": "2020-12-23T19:50:41.634609",
     "exception": false,
     "start_time": "2020-12-23T19:50:41.611221",
     "status": "completed"
    },
    "tags": []
   },
   "outputs": [],
   "source": [
    "# OUTPUT_DATA_DIR = Path(OUTPUT_DIR, \"data\")\n",
    "# display(OUTPUT_DATA_DIR)\n",
    "# OUTPUT_DATA_DIR.mkdir(parents=True, exist_ok=True)"
   ]
  },
  {
   "cell_type": "code",
   "execution_count": 7,
   "metadata": {
    "papermill": {
     "duration": 0.022741,
     "end_time": "2020-12-23T19:50:41.676575",
     "exception": false,
     "start_time": "2020-12-23T19:50:41.653834",
     "status": "completed"
    },
    "tags": []
   },
   "outputs": [
    {
     "data": {
      "text/plain": [
       "PosixPath('/media/miltondp/Elements1/projects/phenoplier/results/drug_disease_analyses/data/proj')"
      ]
     },
     "metadata": {},
     "output_type": "display_data"
    }
   ],
   "source": [
    "INPUT_DATA_DIR = Path(\n",
    "    OUTPUT_DIR,\n",
    "    \"data\",\n",
    "    \"proj\",\n",
    ")\n",
    "display(INPUT_DATA_DIR)\n",
    "INPUT_DATA_DIR.mkdir(parents=True, exist_ok=True)"
   ]
  },
  {
   "cell_type": "code",
   "execution_count": 8,
   "metadata": {
    "papermill": {
     "duration": 0.022117,
     "end_time": "2020-12-23T19:50:41.708701",
     "exception": false,
     "start_time": "2020-12-23T19:50:41.686584",
     "status": "completed"
    },
    "tags": []
   },
   "outputs": [
    {
     "data": {
      "text/plain": [
       "PosixPath('/media/miltondp/Elements1/projects/phenoplier/results/drug_disease_analyses/predictions')"
      ]
     },
     "metadata": {},
     "output_type": "display_data"
    }
   ],
   "source": [
    "OUTPUT_PREDICTIONS_DIR = Path(OUTPUT_DIR, \"predictions\")\n",
    "display(OUTPUT_PREDICTIONS_DIR)\n",
    "OUTPUT_PREDICTIONS_DIR.mkdir(parents=True, exist_ok=True)"
   ]
  },
  {
   "cell_type": "markdown",
   "metadata": {
    "papermill": {
     "duration": 0.009765,
     "end_time": "2020-12-23T19:50:41.728870",
     "exception": false,
     "start_time": "2020-12-23T19:50:41.719105",
     "status": "completed"
    },
    "tags": []
   },
   "source": [
    "# Load PharmacotherapyDB gold standard"
   ]
  },
  {
   "cell_type": "code",
   "execution_count": 9,
   "metadata": {
    "papermill": {
     "duration": 0.025208,
     "end_time": "2020-12-23T19:50:41.763784",
     "exception": false,
     "start_time": "2020-12-23T19:50:41.738576",
     "status": "completed"
    },
    "tags": []
   },
   "outputs": [],
   "source": [
    "gold_standard = pd.read_pickle(\n",
    "    Path(OUTPUT_DIR, \"gold_standard.pkl\"),\n",
    ")"
   ]
  },
  {
   "cell_type": "code",
   "execution_count": 10,
   "metadata": {
    "papermill": {
     "duration": 0.021155,
     "end_time": "2020-12-23T19:50:41.796102",
     "exception": false,
     "start_time": "2020-12-23T19:50:41.774947",
     "status": "completed"
    },
    "tags": []
   },
   "outputs": [
    {
     "data": {
      "text/plain": [
       "(998, 3)"
      ]
     },
     "metadata": {},
     "output_type": "display_data"
    }
   ],
   "source": [
    "display(gold_standard.shape)"
   ]
  },
  {
   "cell_type": "code",
   "execution_count": 11,
   "metadata": {
    "papermill": {
     "duration": 0.024921,
     "end_time": "2020-12-23T19:50:41.831886",
     "exception": false,
     "start_time": "2020-12-23T19:50:41.806965",
     "status": "completed"
    },
    "tags": []
   },
   "outputs": [
    {
     "data": {
      "text/html": [
       "<div>\n",
       "<style scoped>\n",
       "    .dataframe tbody tr th:only-of-type {\n",
       "        vertical-align: middle;\n",
       "    }\n",
       "\n",
       "    .dataframe tbody tr th {\n",
       "        vertical-align: top;\n",
       "    }\n",
       "\n",
       "    .dataframe thead th {\n",
       "        text-align: right;\n",
       "    }\n",
       "</style>\n",
       "<table border=\"1\" class=\"dataframe\">\n",
       "  <thead>\n",
       "    <tr style=\"text-align: right;\">\n",
       "      <th></th>\n",
       "      <th>trait</th>\n",
       "      <th>drug</th>\n",
       "      <th>true_class</th>\n",
       "    </tr>\n",
       "  </thead>\n",
       "  <tbody>\n",
       "    <tr>\n",
       "      <th>0</th>\n",
       "      <td>DOID:10652</td>\n",
       "      <td>DB00843</td>\n",
       "      <td>1</td>\n",
       "    </tr>\n",
       "    <tr>\n",
       "      <th>1</th>\n",
       "      <td>DOID:10652</td>\n",
       "      <td>DB00674</td>\n",
       "      <td>1</td>\n",
       "    </tr>\n",
       "    <tr>\n",
       "      <th>2</th>\n",
       "      <td>DOID:10652</td>\n",
       "      <td>DB01043</td>\n",
       "      <td>1</td>\n",
       "    </tr>\n",
       "    <tr>\n",
       "      <th>3</th>\n",
       "      <td>DOID:10652</td>\n",
       "      <td>DB00989</td>\n",
       "      <td>1</td>\n",
       "    </tr>\n",
       "    <tr>\n",
       "      <th>4</th>\n",
       "      <td>DOID:10652</td>\n",
       "      <td>DB00810</td>\n",
       "      <td>0</td>\n",
       "    </tr>\n",
       "  </tbody>\n",
       "</table>\n",
       "</div>"
      ],
      "text/plain": [
       "        trait     drug  true_class\n",
       "0  DOID:10652  DB00843           1\n",
       "1  DOID:10652  DB00674           1\n",
       "2  DOID:10652  DB01043           1\n",
       "3  DOID:10652  DB00989           1\n",
       "4  DOID:10652  DB00810           0"
      ]
     },
     "metadata": {},
     "output_type": "display_data"
    }
   ],
   "source": [
    "display(gold_standard.head())"
   ]
  },
  {
   "cell_type": "code",
   "execution_count": 12,
   "metadata": {
    "papermill": {
     "duration": 0.02118,
     "end_time": "2020-12-23T19:50:41.864638",
     "exception": false,
     "start_time": "2020-12-23T19:50:41.843458",
     "status": "completed"
    },
    "tags": []
   },
   "outputs": [],
   "source": [
    "doids_in_gold_standard = set(gold_standard[\"trait\"])"
   ]
  },
  {
   "cell_type": "markdown",
   "metadata": {
    "papermill": {
     "duration": 0.010857,
     "end_time": "2020-12-23T19:50:41.886745",
     "exception": false,
     "start_time": "2020-12-23T19:50:41.875888",
     "status": "completed"
    },
    "tags": []
   },
   "source": [
    "# Load LINCS"
   ]
  },
  {
   "cell_type": "markdown",
   "metadata": {
    "papermill": {
     "duration": 0.010454,
     "end_time": "2020-12-23T19:50:41.907921",
     "exception": false,
     "start_time": "2020-12-23T19:50:41.897467",
     "status": "completed"
    },
    "tags": []
   },
   "source": [
    "## Projected data"
   ]
  },
  {
   "cell_type": "code",
   "execution_count": 13,
   "metadata": {
    "papermill": {
     "duration": 0.021901,
     "end_time": "2020-12-23T19:50:41.940473",
     "exception": false,
     "start_time": "2020-12-23T19:50:41.918572",
     "status": "completed"
    },
    "tags": []
   },
   "outputs": [
    {
     "data": {
      "text/plain": [
       "PosixPath('/media/miltondp/Elements1/projects/phenoplier/results/drug_disease_analyses/data/proj/lincs-projection.pkl')"
      ]
     },
     "metadata": {},
     "output_type": "display_data"
    }
   ],
   "source": [
    "input_file = Path(INPUT_DATA_DIR, \"lincs-projection.pkl\").resolve()\n",
    "\n",
    "display(input_file)"
   ]
  },
  {
   "cell_type": "code",
   "execution_count": 14,
   "metadata": {
    "papermill": {
     "duration": 0.026636,
     "end_time": "2020-12-23T19:50:41.978518",
     "exception": false,
     "start_time": "2020-12-23T19:50:41.951882",
     "status": "completed"
    },
    "tags": []
   },
   "outputs": [],
   "source": [
    "lincs_projection = pd.read_pickle(input_file)"
   ]
  },
  {
   "cell_type": "code",
   "execution_count": 15,
   "metadata": {
    "papermill": {
     "duration": 0.024037,
     "end_time": "2020-12-23T19:50:42.015614",
     "exception": false,
     "start_time": "2020-12-23T19:50:41.991577",
     "status": "completed"
    },
    "tags": []
   },
   "outputs": [
    {
     "data": {
      "text/plain": [
       "(987, 1170)"
      ]
     },
     "metadata": {},
     "output_type": "display_data"
    }
   ],
   "source": [
    "display(lincs_projection.shape)"
   ]
  },
  {
   "cell_type": "code",
   "execution_count": 16,
   "metadata": {
    "papermill": {
     "duration": 0.034451,
     "end_time": "2020-12-23T19:50:42.062781",
     "exception": false,
     "start_time": "2020-12-23T19:50:42.028330",
     "status": "completed"
    },
    "tags": []
   },
   "outputs": [
    {
     "data": {
      "text/html": [
       "<div>\n",
       "<style scoped>\n",
       "    .dataframe tbody tr th:only-of-type {\n",
       "        vertical-align: middle;\n",
       "    }\n",
       "\n",
       "    .dataframe tbody tr th {\n",
       "        vertical-align: top;\n",
       "    }\n",
       "\n",
       "    .dataframe thead th {\n",
       "        text-align: right;\n",
       "    }\n",
       "</style>\n",
       "<table border=\"1\" class=\"dataframe\">\n",
       "  <thead>\n",
       "    <tr style=\"text-align: right;\">\n",
       "      <th>perturbagen</th>\n",
       "      <th>DB00014</th>\n",
       "      <th>DB00091</th>\n",
       "      <th>DB00121</th>\n",
       "      <th>DB00130</th>\n",
       "      <th>DB00131</th>\n",
       "      <th>DB00132</th>\n",
       "      <th>DB00136</th>\n",
       "      <th>DB00140</th>\n",
       "      <th>DB00146</th>\n",
       "      <th>DB00150</th>\n",
       "      <th>...</th>\n",
       "      <th>DB08995</th>\n",
       "      <th>DB09002</th>\n",
       "      <th>DB09004</th>\n",
       "      <th>DB09009</th>\n",
       "      <th>DB09010</th>\n",
       "      <th>DB09015</th>\n",
       "      <th>DB09019</th>\n",
       "      <th>DB09020</th>\n",
       "      <th>DB09022</th>\n",
       "      <th>DB09023</th>\n",
       "    </tr>\n",
       "  </thead>\n",
       "  <tbody>\n",
       "    <tr>\n",
       "      <th>LV1</th>\n",
       "      <td>0.036115</td>\n",
       "      <td>-0.358610</td>\n",
       "      <td>0.091067</td>\n",
       "      <td>0.008923</td>\n",
       "      <td>0.046469</td>\n",
       "      <td>0.136747</td>\n",
       "      <td>0.036151</td>\n",
       "      <td>0.034024</td>\n",
       "      <td>-0.027445</td>\n",
       "      <td>0.060644</td>\n",
       "      <td>...</td>\n",
       "      <td>0.069930</td>\n",
       "      <td>0.021537</td>\n",
       "      <td>0.020511</td>\n",
       "      <td>-0.006250</td>\n",
       "      <td>-0.002660</td>\n",
       "      <td>-0.017210</td>\n",
       "      <td>-0.004029</td>\n",
       "      <td>-0.145490</td>\n",
       "      <td>0.102504</td>\n",
       "      <td>0.057621</td>\n",
       "    </tr>\n",
       "    <tr>\n",
       "      <th>LV2</th>\n",
       "      <td>0.012281</td>\n",
       "      <td>0.009738</td>\n",
       "      <td>0.004650</td>\n",
       "      <td>-0.006554</td>\n",
       "      <td>0.021758</td>\n",
       "      <td>0.010425</td>\n",
       "      <td>0.000794</td>\n",
       "      <td>-0.000603</td>\n",
       "      <td>0.011534</td>\n",
       "      <td>-0.004425</td>\n",
       "      <td>...</td>\n",
       "      <td>0.000344</td>\n",
       "      <td>0.001123</td>\n",
       "      <td>-0.012675</td>\n",
       "      <td>-0.004849</td>\n",
       "      <td>0.000375</td>\n",
       "      <td>0.002623</td>\n",
       "      <td>-0.003252</td>\n",
       "      <td>-0.066209</td>\n",
       "      <td>0.025378</td>\n",
       "      <td>0.012453</td>\n",
       "    </tr>\n",
       "    <tr>\n",
       "      <th>LV3</th>\n",
       "      <td>-0.005533</td>\n",
       "      <td>-0.059174</td>\n",
       "      <td>0.013454</td>\n",
       "      <td>0.008906</td>\n",
       "      <td>-0.004939</td>\n",
       "      <td>0.033663</td>\n",
       "      <td>-0.010045</td>\n",
       "      <td>0.003824</td>\n",
       "      <td>0.009814</td>\n",
       "      <td>-0.007492</td>\n",
       "      <td>...</td>\n",
       "      <td>-0.021941</td>\n",
       "      <td>-0.002417</td>\n",
       "      <td>0.000155</td>\n",
       "      <td>0.002941</td>\n",
       "      <td>-0.015100</td>\n",
       "      <td>-0.016372</td>\n",
       "      <td>0.012249</td>\n",
       "      <td>0.009216</td>\n",
       "      <td>0.018254</td>\n",
       "      <td>-0.003516</td>\n",
       "    </tr>\n",
       "    <tr>\n",
       "      <th>LV4</th>\n",
       "      <td>-0.004151</td>\n",
       "      <td>-0.032884</td>\n",
       "      <td>0.005934</td>\n",
       "      <td>-0.003991</td>\n",
       "      <td>-0.028524</td>\n",
       "      <td>0.002709</td>\n",
       "      <td>0.007001</td>\n",
       "      <td>0.024704</td>\n",
       "      <td>0.005058</td>\n",
       "      <td>-0.004345</td>\n",
       "      <td>...</td>\n",
       "      <td>0.013806</td>\n",
       "      <td>0.003197</td>\n",
       "      <td>0.013099</td>\n",
       "      <td>0.002643</td>\n",
       "      <td>-0.008836</td>\n",
       "      <td>0.023852</td>\n",
       "      <td>0.028957</td>\n",
       "      <td>0.014681</td>\n",
       "      <td>0.000826</td>\n",
       "      <td>-0.009739</td>\n",
       "    </tr>\n",
       "    <tr>\n",
       "      <th>LV5</th>\n",
       "      <td>-0.015156</td>\n",
       "      <td>-0.005276</td>\n",
       "      <td>0.025747</td>\n",
       "      <td>0.000346</td>\n",
       "      <td>-0.013932</td>\n",
       "      <td>-0.010911</td>\n",
       "      <td>0.041403</td>\n",
       "      <td>-0.018285</td>\n",
       "      <td>0.003507</td>\n",
       "      <td>-0.007621</td>\n",
       "      <td>...</td>\n",
       "      <td>-0.011577</td>\n",
       "      <td>-0.015956</td>\n",
       "      <td>-0.027614</td>\n",
       "      <td>-0.001707</td>\n",
       "      <td>-0.000542</td>\n",
       "      <td>-0.016918</td>\n",
       "      <td>0.001959</td>\n",
       "      <td>0.024147</td>\n",
       "      <td>0.013004</td>\n",
       "      <td>-0.014166</td>\n",
       "    </tr>\n",
       "  </tbody>\n",
       "</table>\n",
       "<p>5 rows × 1170 columns</p>\n",
       "</div>"
      ],
      "text/plain": [
       "perturbagen   DB00014   DB00091   DB00121   DB00130   DB00131   DB00132  \\\n",
       "LV1          0.036115 -0.358610  0.091067  0.008923  0.046469  0.136747   \n",
       "LV2          0.012281  0.009738  0.004650 -0.006554  0.021758  0.010425   \n",
       "LV3         -0.005533 -0.059174  0.013454  0.008906 -0.004939  0.033663   \n",
       "LV4         -0.004151 -0.032884  0.005934 -0.003991 -0.028524  0.002709   \n",
       "LV5         -0.015156 -0.005276  0.025747  0.000346 -0.013932 -0.010911   \n",
       "\n",
       "perturbagen   DB00136   DB00140   DB00146   DB00150  ...   DB08995   DB09002  \\\n",
       "LV1          0.036151  0.034024 -0.027445  0.060644  ...  0.069930  0.021537   \n",
       "LV2          0.000794 -0.000603  0.011534 -0.004425  ...  0.000344  0.001123   \n",
       "LV3         -0.010045  0.003824  0.009814 -0.007492  ... -0.021941 -0.002417   \n",
       "LV4          0.007001  0.024704  0.005058 -0.004345  ...  0.013806  0.003197   \n",
       "LV5          0.041403 -0.018285  0.003507 -0.007621  ... -0.011577 -0.015956   \n",
       "\n",
       "perturbagen   DB09004   DB09009   DB09010   DB09015   DB09019   DB09020  \\\n",
       "LV1          0.020511 -0.006250 -0.002660 -0.017210 -0.004029 -0.145490   \n",
       "LV2         -0.012675 -0.004849  0.000375  0.002623 -0.003252 -0.066209   \n",
       "LV3          0.000155  0.002941 -0.015100 -0.016372  0.012249  0.009216   \n",
       "LV4          0.013099  0.002643 -0.008836  0.023852  0.028957  0.014681   \n",
       "LV5         -0.027614 -0.001707 -0.000542 -0.016918  0.001959  0.024147   \n",
       "\n",
       "perturbagen   DB09022   DB09023  \n",
       "LV1          0.102504  0.057621  \n",
       "LV2          0.025378  0.012453  \n",
       "LV3          0.018254 -0.003516  \n",
       "LV4          0.000826 -0.009739  \n",
       "LV5          0.013004 -0.014166  \n",
       "\n",
       "[5 rows x 1170 columns]"
      ]
     },
     "metadata": {},
     "output_type": "display_data"
    }
   ],
   "source": [
    "display(lincs_projection.head())"
   ]
  },
  {
   "cell_type": "markdown",
   "metadata": {
    "papermill": {
     "duration": 0.012417,
     "end_time": "2020-12-23T19:50:42.087747",
     "exception": false,
     "start_time": "2020-12-23T19:50:42.075330",
     "status": "completed"
    },
    "tags": []
   },
   "source": [
    "# Load S-PrediXcan"
   ]
  },
  {
   "cell_type": "code",
   "execution_count": 17,
   "metadata": {
    "papermill": {
     "duration": 0.217486,
     "end_time": "2020-12-23T19:50:42.317086",
     "exception": false,
     "start_time": "2020-12-23T19:50:42.099600",
     "status": "completed"
    },
    "tags": []
   },
   "outputs": [],
   "source": [
    "from entity import Trait"
   ]
  },
  {
   "cell_type": "code",
   "execution_count": 18,
   "metadata": {
    "papermill": {
     "duration": 0.024685,
     "end_time": "2020-12-23T19:50:42.356631",
     "exception": false,
     "start_time": "2020-12-23T19:50:42.331946",
     "status": "completed"
    },
    "tags": []
   },
   "outputs": [],
   "source": [
    "phenomexcan_input_file_list = [\n",
    "    f\n",
    "    for f in INPUT_DATA_DIR.glob(\"*.pkl\")\n",
    "    if f.name.startswith(\"spredixcan-\")\n",
    "    #     if f.name.startswith((\"smultixcan-\", \"spredixcan-\"))\n",
    "]"
   ]
  },
  {
   "cell_type": "code",
   "execution_count": 19,
   "metadata": {
    "papermill": {
     "duration": 0.02244,
     "end_time": "2020-12-23T19:50:42.392015",
     "exception": false,
     "start_time": "2020-12-23T19:50:42.369575",
     "status": "completed"
    },
    "tags": []
   },
   "outputs": [
    {
     "data": {
      "text/plain": [
       "1"
      ]
     },
     "metadata": {},
     "output_type": "display_data"
    }
   ],
   "source": [
    "display(len(phenomexcan_input_file_list))"
   ]
  },
  {
   "cell_type": "code",
   "execution_count": 21,
   "metadata": {},
   "outputs": [
    {
     "data": {
      "text/html": [
       "<div>\n",
       "<style scoped>\n",
       "    .dataframe tbody tr th:only-of-type {\n",
       "        vertical-align: middle;\n",
       "    }\n",
       "\n",
       "    .dataframe tbody tr th {\n",
       "        vertical-align: top;\n",
       "    }\n",
       "\n",
       "    .dataframe thead th {\n",
       "        text-align: right;\n",
       "    }\n",
       "</style>\n",
       "<table border=\"1\" class=\"dataframe\">\n",
       "  <thead>\n",
       "    <tr style=\"text-align: right;\">\n",
       "      <th></th>\n",
       "      <th>20096_1-Size_of_red_wine_glass_drunk_small_125ml</th>\n",
       "      <th>2345-Ever_had_bowel_cancer_screening</th>\n",
       "      <th>N49-Diagnoses_main_ICD10_N49_Inflammatory_disorders_of_male_genital_organs_not_elsewhere_classified</th>\n",
       "      <th>100011_raw-Iron</th>\n",
       "      <th>5221-Index_of_best_refractometry_result_right</th>\n",
       "      <th>20003_1141150624-Treatmentmedication_code_zomig_25mg_tablet</th>\n",
       "      <th>S69-Diagnoses_main_ICD10_S69_Other_and_unspecified_injuries_of_wrist_and_hand</th>\n",
       "      <th>20024_1136-Job_code_deduced_Information_and_communication_technology_managers</th>\n",
       "      <th>20002_1385-Noncancer_illness_code_selfreported_allergy_or_anaphylactic_reaction_to_food</th>\n",
       "      <th>G6_SLEEPAPNO-Sleep_apnoea</th>\n",
       "      <th>...</th>\n",
       "      <th>Astle_et_al_2016_Sum_basophil_neutrophil_counts</th>\n",
       "      <th>RA_OKADA_TRANS_ETHNIC</th>\n",
       "      <th>pgc.scz2</th>\n",
       "      <th>PGC_ADHD_EUR_2017</th>\n",
       "      <th>MAGIC_FastingGlucose</th>\n",
       "      <th>Astle_et_al_2016_Red_blood_cell_count</th>\n",
       "      <th>SSGAC_Depressive_Symptoms</th>\n",
       "      <th>BCAC_ER_positive_BreastCancer_EUR</th>\n",
       "      <th>IBD.EUR.Inflammatory_Bowel_Disease</th>\n",
       "      <th>Astle_et_al_2016_High_light_scatter_reticulocyte_count</th>\n",
       "    </tr>\n",
       "  </thead>\n",
       "  <tbody>\n",
       "    <tr>\n",
       "      <th>LV1</th>\n",
       "      <td>0.005032</td>\n",
       "      <td>-0.017742</td>\n",
       "      <td>-0.000063</td>\n",
       "      <td>-0.027630</td>\n",
       "      <td>-0.035386</td>\n",
       "      <td>0.011002</td>\n",
       "      <td>0.010724</td>\n",
       "      <td>0.010446</td>\n",
       "      <td>-0.018710</td>\n",
       "      <td>0.010722</td>\n",
       "      <td>...</td>\n",
       "      <td>-0.077884</td>\n",
       "      <td>-0.059427</td>\n",
       "      <td>0.014250</td>\n",
       "      <td>0.011559</td>\n",
       "      <td>0.010034</td>\n",
       "      <td>-0.007861</td>\n",
       "      <td>0.050615</td>\n",
       "      <td>-0.024714</td>\n",
       "      <td>-0.016299</td>\n",
       "      <td>0.012266</td>\n",
       "    </tr>\n",
       "    <tr>\n",
       "      <th>LV2</th>\n",
       "      <td>0.022757</td>\n",
       "      <td>-0.002494</td>\n",
       "      <td>-0.022456</td>\n",
       "      <td>-0.006039</td>\n",
       "      <td>0.014805</td>\n",
       "      <td>0.029324</td>\n",
       "      <td>-0.020111</td>\n",
       "      <td>-0.029098</td>\n",
       "      <td>-0.028098</td>\n",
       "      <td>-0.011183</td>\n",
       "      <td>...</td>\n",
       "      <td>0.022188</td>\n",
       "      <td>-0.004523</td>\n",
       "      <td>0.044796</td>\n",
       "      <td>-0.003497</td>\n",
       "      <td>0.036967</td>\n",
       "      <td>0.018417</td>\n",
       "      <td>-0.002459</td>\n",
       "      <td>-0.019084</td>\n",
       "      <td>0.023447</td>\n",
       "      <td>-0.014293</td>\n",
       "    </tr>\n",
       "    <tr>\n",
       "      <th>LV3</th>\n",
       "      <td>-0.014583</td>\n",
       "      <td>-0.009334</td>\n",
       "      <td>-0.008777</td>\n",
       "      <td>-0.016107</td>\n",
       "      <td>-0.026012</td>\n",
       "      <td>-0.006325</td>\n",
       "      <td>-0.019086</td>\n",
       "      <td>-0.027593</td>\n",
       "      <td>0.009968</td>\n",
       "      <td>-0.026543</td>\n",
       "      <td>...</td>\n",
       "      <td>0.041333</td>\n",
       "      <td>-0.015025</td>\n",
       "      <td>-0.050110</td>\n",
       "      <td>0.034439</td>\n",
       "      <td>-0.023318</td>\n",
       "      <td>-0.030491</td>\n",
       "      <td>-0.003833</td>\n",
       "      <td>-0.017156</td>\n",
       "      <td>0.013962</td>\n",
       "      <td>-0.053326</td>\n",
       "    </tr>\n",
       "    <tr>\n",
       "      <th>LV4</th>\n",
       "      <td>-0.007432</td>\n",
       "      <td>-0.029053</td>\n",
       "      <td>-0.031635</td>\n",
       "      <td>-0.016797</td>\n",
       "      <td>0.015012</td>\n",
       "      <td>0.034683</td>\n",
       "      <td>-0.013831</td>\n",
       "      <td>0.037747</td>\n",
       "      <td>-0.040881</td>\n",
       "      <td>0.006171</td>\n",
       "      <td>...</td>\n",
       "      <td>0.029442</td>\n",
       "      <td>-0.005255</td>\n",
       "      <td>0.006472</td>\n",
       "      <td>0.003765</td>\n",
       "      <td>-0.023333</td>\n",
       "      <td>-0.057144</td>\n",
       "      <td>0.018355</td>\n",
       "      <td>0.048978</td>\n",
       "      <td>0.032675</td>\n",
       "      <td>0.041624</td>\n",
       "    </tr>\n",
       "    <tr>\n",
       "      <th>LV5</th>\n",
       "      <td>-0.035077</td>\n",
       "      <td>-0.038190</td>\n",
       "      <td>-0.008507</td>\n",
       "      <td>0.000203</td>\n",
       "      <td>-0.010666</td>\n",
       "      <td>-0.002614</td>\n",
       "      <td>0.013233</td>\n",
       "      <td>-0.005662</td>\n",
       "      <td>-0.022220</td>\n",
       "      <td>0.000116</td>\n",
       "      <td>...</td>\n",
       "      <td>0.036306</td>\n",
       "      <td>-0.058390</td>\n",
       "      <td>-0.036769</td>\n",
       "      <td>0.014124</td>\n",
       "      <td>-0.010000</td>\n",
       "      <td>-0.008742</td>\n",
       "      <td>0.025883</td>\n",
       "      <td>-0.023848</td>\n",
       "      <td>-0.034297</td>\n",
       "      <td>-0.003898</td>\n",
       "    </tr>\n",
       "  </tbody>\n",
       "</table>\n",
       "<p>5 rows × 4091 columns</p>\n",
       "</div>"
      ],
      "text/plain": [
       "     20096_1-Size_of_red_wine_glass_drunk_small_125ml  \\\n",
       "LV1                                          0.005032   \n",
       "LV2                                          0.022757   \n",
       "LV3                                         -0.014583   \n",
       "LV4                                         -0.007432   \n",
       "LV5                                         -0.035077   \n",
       "\n",
       "     2345-Ever_had_bowel_cancer_screening  \\\n",
       "LV1                             -0.017742   \n",
       "LV2                             -0.002494   \n",
       "LV3                             -0.009334   \n",
       "LV4                             -0.029053   \n",
       "LV5                             -0.038190   \n",
       "\n",
       "     N49-Diagnoses_main_ICD10_N49_Inflammatory_disorders_of_male_genital_organs_not_elsewhere_classified  \\\n",
       "LV1                                          -0.000063                                                     \n",
       "LV2                                          -0.022456                                                     \n",
       "LV3                                          -0.008777                                                     \n",
       "LV4                                          -0.031635                                                     \n",
       "LV5                                          -0.008507                                                     \n",
       "\n",
       "     100011_raw-Iron  5221-Index_of_best_refractometry_result_right  \\\n",
       "LV1        -0.027630                                      -0.035386   \n",
       "LV2        -0.006039                                       0.014805   \n",
       "LV3        -0.016107                                      -0.026012   \n",
       "LV4        -0.016797                                       0.015012   \n",
       "LV5         0.000203                                      -0.010666   \n",
       "\n",
       "     20003_1141150624-Treatmentmedication_code_zomig_25mg_tablet  \\\n",
       "LV1                                           0.011002             \n",
       "LV2                                           0.029324             \n",
       "LV3                                          -0.006325             \n",
       "LV4                                           0.034683             \n",
       "LV5                                          -0.002614             \n",
       "\n",
       "     S69-Diagnoses_main_ICD10_S69_Other_and_unspecified_injuries_of_wrist_and_hand  \\\n",
       "LV1                                           0.010724                               \n",
       "LV2                                          -0.020111                               \n",
       "LV3                                          -0.019086                               \n",
       "LV4                                          -0.013831                               \n",
       "LV5                                           0.013233                               \n",
       "\n",
       "     20024_1136-Job_code_deduced_Information_and_communication_technology_managers  \\\n",
       "LV1                                           0.010446                               \n",
       "LV2                                          -0.029098                               \n",
       "LV3                                          -0.027593                               \n",
       "LV4                                           0.037747                               \n",
       "LV5                                          -0.005662                               \n",
       "\n",
       "     20002_1385-Noncancer_illness_code_selfreported_allergy_or_anaphylactic_reaction_to_food  \\\n",
       "LV1                                          -0.018710                                         \n",
       "LV2                                          -0.028098                                         \n",
       "LV3                                           0.009968                                         \n",
       "LV4                                          -0.040881                                         \n",
       "LV5                                          -0.022220                                         \n",
       "\n",
       "     G6_SLEEPAPNO-Sleep_apnoea  ...  \\\n",
       "LV1                   0.010722  ...   \n",
       "LV2                  -0.011183  ...   \n",
       "LV3                  -0.026543  ...   \n",
       "LV4                   0.006171  ...   \n",
       "LV5                   0.000116  ...   \n",
       "\n",
       "     Astle_et_al_2016_Sum_basophil_neutrophil_counts  RA_OKADA_TRANS_ETHNIC  \\\n",
       "LV1                                        -0.077884              -0.059427   \n",
       "LV2                                         0.022188              -0.004523   \n",
       "LV3                                         0.041333              -0.015025   \n",
       "LV4                                         0.029442              -0.005255   \n",
       "LV5                                         0.036306              -0.058390   \n",
       "\n",
       "     pgc.scz2  PGC_ADHD_EUR_2017  MAGIC_FastingGlucose  \\\n",
       "LV1  0.014250           0.011559              0.010034   \n",
       "LV2  0.044796          -0.003497              0.036967   \n",
       "LV3 -0.050110           0.034439             -0.023318   \n",
       "LV4  0.006472           0.003765             -0.023333   \n",
       "LV5 -0.036769           0.014124             -0.010000   \n",
       "\n",
       "     Astle_et_al_2016_Red_blood_cell_count  SSGAC_Depressive_Symptoms  \\\n",
       "LV1                              -0.007861                   0.050615   \n",
       "LV2                               0.018417                  -0.002459   \n",
       "LV3                              -0.030491                  -0.003833   \n",
       "LV4                              -0.057144                   0.018355   \n",
       "LV5                              -0.008742                   0.025883   \n",
       "\n",
       "     BCAC_ER_positive_BreastCancer_EUR  IBD.EUR.Inflammatory_Bowel_Disease  \\\n",
       "LV1                          -0.024714                           -0.016299   \n",
       "LV2                          -0.019084                            0.023447   \n",
       "LV3                          -0.017156                            0.013962   \n",
       "LV4                           0.048978                            0.032675   \n",
       "LV5                          -0.023848                           -0.034297   \n",
       "\n",
       "     Astle_et_al_2016_High_light_scatter_reticulocyte_count  \n",
       "LV1                                           0.012266       \n",
       "LV2                                          -0.014293       \n",
       "LV3                                          -0.053326       \n",
       "LV4                                           0.041624       \n",
       "LV5                                          -0.003898       \n",
       "\n",
       "[5 rows x 4091 columns]"
      ]
     },
     "execution_count": 21,
     "metadata": {},
     "output_type": "execute_result"
    }
   ],
   "source": [
    "pd.read_pickle(phenomexcan_input_file_list[0]).head()"
   ]
  },
  {
   "cell_type": "markdown",
   "metadata": {
    "papermill": {
     "duration": 0.012838,
     "end_time": "2020-12-23T19:50:42.417450",
     "exception": false,
     "start_time": "2020-12-23T19:50:42.404612",
     "status": "completed"
    },
    "tags": []
   },
   "source": [
    "# Predict drug-disease associations"
   ]
  },
  {
   "cell_type": "code",
   "execution_count": 22,
   "metadata": {
    "papermill": {
     "duration": 0.623517,
     "end_time": "2020-12-23T19:50:43.053428",
     "exception": false,
     "start_time": "2020-12-23T19:50:42.429911",
     "status": "completed"
    },
    "tags": []
   },
   "outputs": [],
   "source": [
    "from drug_disease import (\n",
    "    #     predict_dotprod,\n",
    "    predict_dotprod_neg,\n",
    "    #     predict_pearson,\n",
    "    #     predict_pearson_neg,\n",
    "    #     predict_spearman,\n",
    "    #     predict_spearman_neg,\n",
    ")"
   ]
  },
  {
   "cell_type": "code",
   "execution_count": 23,
   "metadata": {},
   "outputs": [],
   "source": [
    "methods_to_run = [predict_dotprod_neg]"
   ]
  },
  {
   "cell_type": "code",
   "execution_count": 24,
   "metadata": {
    "papermill": {
     "duration": 4836.090114,
     "end_time": "2020-12-23T21:11:19.157026",
     "exception": false,
     "start_time": "2020-12-23T19:50:43.066912",
     "status": "completed"
    },
    "tags": []
   },
   "outputs": [
    {
     "name": "stdout",
     "output_type": "stream",
     "text": [
      "spredixcan-most_signif-projection.pkl\n",
      "  shape: (987, 4091)\n",
      "  predicting all_genes...\n",
      "    shape: (1170, 4091)\n",
      "    shape (after DOID map): (1170, 351)\n",
      "  building classifier data...\n",
      "    shape: (410670, 3)\n"
     ]
    },
    {
     "data": {
      "text/html": [
       "<div>\n",
       "<style scoped>\n",
       "    .dataframe tbody tr th:only-of-type {\n",
       "        vertical-align: middle;\n",
       "    }\n",
       "\n",
       "    .dataframe tbody tr th {\n",
       "        vertical-align: top;\n",
       "    }\n",
       "\n",
       "    .dataframe thead th {\n",
       "        text-align: right;\n",
       "    }\n",
       "</style>\n",
       "<table border=\"1\" class=\"dataframe\">\n",
       "  <thead>\n",
       "    <tr style=\"text-align: right;\">\n",
       "      <th></th>\n",
       "      <th>score</th>\n",
       "    </tr>\n",
       "  </thead>\n",
       "  <tbody>\n",
       "    <tr>\n",
       "      <th>count</th>\n",
       "      <td>410670.000000</td>\n",
       "    </tr>\n",
       "    <tr>\n",
       "      <th>mean</th>\n",
       "      <td>0.004373</td>\n",
       "    </tr>\n",
       "    <tr>\n",
       "      <th>std</th>\n",
       "      <td>0.028793</td>\n",
       "    </tr>\n",
       "    <tr>\n",
       "      <th>min</th>\n",
       "      <td>-1.032507</td>\n",
       "    </tr>\n",
       "    <tr>\n",
       "      <th>25%</th>\n",
       "      <td>-0.005697</td>\n",
       "    </tr>\n",
       "    <tr>\n",
       "      <th>50%</th>\n",
       "      <td>0.003642</td>\n",
       "    </tr>\n",
       "    <tr>\n",
       "      <th>75%</th>\n",
       "      <td>0.012913</td>\n",
       "    </tr>\n",
       "    <tr>\n",
       "      <th>max</th>\n",
       "      <td>1.266442</td>\n",
       "    </tr>\n",
       "  </tbody>\n",
       "</table>\n",
       "</div>"
      ],
      "text/plain": [
       "               score\n",
       "count  410670.000000\n",
       "mean        0.004373\n",
       "std         0.028793\n",
       "min        -1.032507\n",
       "25%        -0.005697\n",
       "50%         0.003642\n",
       "75%         0.012913\n",
       "max         1.266442"
      ]
     },
     "metadata": {},
     "output_type": "display_data"
    },
    {
     "name": "stdout",
     "output_type": "stream",
     "text": [
      "    saving to: /media/miltondp/Elements1/projects/phenoplier/results/drug_disease_analyses/predictions/dotprod_neg/spredixcan-most_signif-projection-all_genes-prediction_scores.h5\n",
      "\n",
      "\n",
      "  predicting top_5_genes...\n",
      "    shape: (1170, 4091)\n",
      "    shape (after DOID map): (1170, 351)\n",
      "  building classifier data...\n",
      "    shape: (410670, 3)\n"
     ]
    },
    {
     "data": {
      "text/html": [
       "<div>\n",
       "<style scoped>\n",
       "    .dataframe tbody tr th:only-of-type {\n",
       "        vertical-align: middle;\n",
       "    }\n",
       "\n",
       "    .dataframe tbody tr th {\n",
       "        vertical-align: top;\n",
       "    }\n",
       "\n",
       "    .dataframe thead th {\n",
       "        text-align: right;\n",
       "    }\n",
       "</style>\n",
       "<table border=\"1\" class=\"dataframe\">\n",
       "  <thead>\n",
       "    <tr style=\"text-align: right;\">\n",
       "      <th></th>\n",
       "      <th>score</th>\n",
       "    </tr>\n",
       "  </thead>\n",
       "  <tbody>\n",
       "    <tr>\n",
       "      <th>count</th>\n",
       "      <td>410670.000000</td>\n",
       "    </tr>\n",
       "    <tr>\n",
       "      <th>mean</th>\n",
       "      <td>0.000938</td>\n",
       "    </tr>\n",
       "    <tr>\n",
       "      <th>std</th>\n",
       "      <td>0.006307</td>\n",
       "    </tr>\n",
       "    <tr>\n",
       "      <th>min</th>\n",
       "      <td>-0.264044</td>\n",
       "    </tr>\n",
       "    <tr>\n",
       "      <th>25%</th>\n",
       "      <td>-0.001053</td>\n",
       "    </tr>\n",
       "    <tr>\n",
       "      <th>50%</th>\n",
       "      <td>0.000784</td>\n",
       "    </tr>\n",
       "    <tr>\n",
       "      <th>75%</th>\n",
       "      <td>0.002655</td>\n",
       "    </tr>\n",
       "    <tr>\n",
       "      <th>max</th>\n",
       "      <td>0.297101</td>\n",
       "    </tr>\n",
       "  </tbody>\n",
       "</table>\n",
       "</div>"
      ],
      "text/plain": [
       "               score\n",
       "count  410670.000000\n",
       "mean        0.000938\n",
       "std         0.006307\n",
       "min        -0.264044\n",
       "25%        -0.001053\n",
       "50%         0.000784\n",
       "75%         0.002655\n",
       "max         0.297101"
      ]
     },
     "metadata": {},
     "output_type": "display_data"
    },
    {
     "name": "stdout",
     "output_type": "stream",
     "text": [
      "    saving to: /media/miltondp/Elements1/projects/phenoplier/results/drug_disease_analyses/predictions/dotprod_neg/spredixcan-most_signif-projection-top_5_genes-prediction_scores.h5\n",
      "\n",
      "\n",
      "  predicting top_10_genes...\n",
      "    shape: (1170, 4091)\n",
      "    shape (after DOID map): (1170, 351)\n",
      "  building classifier data...\n",
      "    shape: (410670, 3)\n"
     ]
    },
    {
     "data": {
      "text/html": [
       "<div>\n",
       "<style scoped>\n",
       "    .dataframe tbody tr th:only-of-type {\n",
       "        vertical-align: middle;\n",
       "    }\n",
       "\n",
       "    .dataframe tbody tr th {\n",
       "        vertical-align: top;\n",
       "    }\n",
       "\n",
       "    .dataframe thead th {\n",
       "        text-align: right;\n",
       "    }\n",
       "</style>\n",
       "<table border=\"1\" class=\"dataframe\">\n",
       "  <thead>\n",
       "    <tr style=\"text-align: right;\">\n",
       "      <th></th>\n",
       "      <th>score</th>\n",
       "    </tr>\n",
       "  </thead>\n",
       "  <tbody>\n",
       "    <tr>\n",
       "      <th>count</th>\n",
       "      <td>410670.000000</td>\n",
       "    </tr>\n",
       "    <tr>\n",
       "      <th>mean</th>\n",
       "      <td>0.001261</td>\n",
       "    </tr>\n",
       "    <tr>\n",
       "      <th>std</th>\n",
       "      <td>0.008275</td>\n",
       "    </tr>\n",
       "    <tr>\n",
       "      <th>min</th>\n",
       "      <td>-0.274754</td>\n",
       "    </tr>\n",
       "    <tr>\n",
       "      <th>25%</th>\n",
       "      <td>-0.001484</td>\n",
       "    </tr>\n",
       "    <tr>\n",
       "      <th>50%</th>\n",
       "      <td>0.001040</td>\n",
       "    </tr>\n",
       "    <tr>\n",
       "      <th>75%</th>\n",
       "      <td>0.003609</td>\n",
       "    </tr>\n",
       "    <tr>\n",
       "      <th>max</th>\n",
       "      <td>0.368043</td>\n",
       "    </tr>\n",
       "  </tbody>\n",
       "</table>\n",
       "</div>"
      ],
      "text/plain": [
       "               score\n",
       "count  410670.000000\n",
       "mean        0.001261\n",
       "std         0.008275\n",
       "min        -0.274754\n",
       "25%        -0.001484\n",
       "50%         0.001040\n",
       "75%         0.003609\n",
       "max         0.368043"
      ]
     },
     "metadata": {},
     "output_type": "display_data"
    },
    {
     "name": "stdout",
     "output_type": "stream",
     "text": [
      "    saving to: /media/miltondp/Elements1/projects/phenoplier/results/drug_disease_analyses/predictions/dotprod_neg/spredixcan-most_signif-projection-top_10_genes-prediction_scores.h5\n",
      "\n",
      "\n",
      "  predicting top_25_genes...\n",
      "    shape: (1170, 4091)\n",
      "    shape (after DOID map): (1170, 351)\n",
      "  building classifier data...\n",
      "    shape: (410670, 3)\n"
     ]
    },
    {
     "data": {
      "text/html": [
       "<div>\n",
       "<style scoped>\n",
       "    .dataframe tbody tr th:only-of-type {\n",
       "        vertical-align: middle;\n",
       "    }\n",
       "\n",
       "    .dataframe tbody tr th {\n",
       "        vertical-align: top;\n",
       "    }\n",
       "\n",
       "    .dataframe thead th {\n",
       "        text-align: right;\n",
       "    }\n",
       "</style>\n",
       "<table border=\"1\" class=\"dataframe\">\n",
       "  <thead>\n",
       "    <tr style=\"text-align: right;\">\n",
       "      <th></th>\n",
       "      <th>score</th>\n",
       "    </tr>\n",
       "  </thead>\n",
       "  <tbody>\n",
       "    <tr>\n",
       "      <th>count</th>\n",
       "      <td>410670.000000</td>\n",
       "    </tr>\n",
       "    <tr>\n",
       "      <th>mean</th>\n",
       "      <td>0.001784</td>\n",
       "    </tr>\n",
       "    <tr>\n",
       "      <th>std</th>\n",
       "      <td>0.011800</td>\n",
       "    </tr>\n",
       "    <tr>\n",
       "      <th>min</th>\n",
       "      <td>-0.331659</td>\n",
       "    </tr>\n",
       "    <tr>\n",
       "      <th>25%</th>\n",
       "      <td>-0.002215</td>\n",
       "    </tr>\n",
       "    <tr>\n",
       "      <th>50%</th>\n",
       "      <td>0.001507</td>\n",
       "    </tr>\n",
       "    <tr>\n",
       "      <th>75%</th>\n",
       "      <td>0.005258</td>\n",
       "    </tr>\n",
       "    <tr>\n",
       "      <th>max</th>\n",
       "      <td>0.527264</td>\n",
       "    </tr>\n",
       "  </tbody>\n",
       "</table>\n",
       "</div>"
      ],
      "text/plain": [
       "               score\n",
       "count  410670.000000\n",
       "mean        0.001784\n",
       "std         0.011800\n",
       "min        -0.331659\n",
       "25%        -0.002215\n",
       "50%         0.001507\n",
       "75%         0.005258\n",
       "max         0.527264"
      ]
     },
     "metadata": {},
     "output_type": "display_data"
    },
    {
     "name": "stdout",
     "output_type": "stream",
     "text": [
      "    saving to: /media/miltondp/Elements1/projects/phenoplier/results/drug_disease_analyses/predictions/dotprod_neg/spredixcan-most_signif-projection-top_25_genes-prediction_scores.h5\n",
      "\n",
      "\n",
      "  predicting top_50_genes...\n",
      "    shape: (1170, 4091)\n",
      "    shape (after DOID map): (1170, 351)\n",
      "  building classifier data...\n",
      "    shape: (410670, 3)\n"
     ]
    },
    {
     "data": {
      "text/html": [
       "<div>\n",
       "<style scoped>\n",
       "    .dataframe tbody tr th:only-of-type {\n",
       "        vertical-align: middle;\n",
       "    }\n",
       "\n",
       "    .dataframe tbody tr th {\n",
       "        vertical-align: top;\n",
       "    }\n",
       "\n",
       "    .dataframe thead th {\n",
       "        text-align: right;\n",
       "    }\n",
       "</style>\n",
       "<table border=\"1\" class=\"dataframe\">\n",
       "  <thead>\n",
       "    <tr style=\"text-align: right;\">\n",
       "      <th></th>\n",
       "      <th>score</th>\n",
       "    </tr>\n",
       "  </thead>\n",
       "  <tbody>\n",
       "    <tr>\n",
       "      <th>count</th>\n",
       "      <td>410670.000000</td>\n",
       "    </tr>\n",
       "    <tr>\n",
       "      <th>mean</th>\n",
       "      <td>0.002357</td>\n",
       "    </tr>\n",
       "    <tr>\n",
       "      <th>std</th>\n",
       "      <td>0.015196</td>\n",
       "    </tr>\n",
       "    <tr>\n",
       "      <th>min</th>\n",
       "      <td>-0.569921</td>\n",
       "    </tr>\n",
       "    <tr>\n",
       "      <th>25%</th>\n",
       "      <td>-0.002917</td>\n",
       "    </tr>\n",
       "    <tr>\n",
       "      <th>50%</th>\n",
       "      <td>0.001962</td>\n",
       "    </tr>\n",
       "    <tr>\n",
       "      <th>75%</th>\n",
       "      <td>0.006876</td>\n",
       "    </tr>\n",
       "    <tr>\n",
       "      <th>max</th>\n",
       "      <td>0.642653</td>\n",
       "    </tr>\n",
       "  </tbody>\n",
       "</table>\n",
       "</div>"
      ],
      "text/plain": [
       "               score\n",
       "count  410670.000000\n",
       "mean        0.002357\n",
       "std         0.015196\n",
       "min        -0.569921\n",
       "25%        -0.002917\n",
       "50%         0.001962\n",
       "75%         0.006876\n",
       "max         0.642653"
      ]
     },
     "metadata": {},
     "output_type": "display_data"
    },
    {
     "name": "stdout",
     "output_type": "stream",
     "text": [
      "    saving to: /media/miltondp/Elements1/projects/phenoplier/results/drug_disease_analyses/predictions/dotprod_neg/spredixcan-most_signif-projection-top_50_genes-prediction_scores.h5\n",
      "\n",
      "\n"
     ]
    }
   ],
   "source": [
    "for phenomexcan_input_file in phenomexcan_input_file_list:\n",
    "    print(phenomexcan_input_file.name)\n",
    "\n",
    "    # read phenomexcan data\n",
    "    phenomexcan_projection = pd.read_pickle(phenomexcan_input_file)\n",
    "    print(f\"  shape: {phenomexcan_projection.shape}\")\n",
    "\n",
    "    for prediction_method in methods_to_run:\n",
    "        for ntc in (None, 5, 10, 25, 50):\n",
    "            prediction_method(\n",
    "                lincs_projection,\n",
    "                phenomexcan_input_file,\n",
    "                phenomexcan_projection,\n",
    "                OUTPUT_PREDICTIONS_DIR,\n",
    "                PREDICTION_METHOD,\n",
    "                doids_in_gold_standard,\n",
    "                FORCE_RUN,\n",
    "                n_top_conditions=ntc,\n",
    "                use_abs=True,\n",
    "            )\n",
    "\n",
    "            print(\"\\n\")"
   ]
  },
  {
   "cell_type": "code",
   "execution_count": null,
   "metadata": {
    "papermill": {
     "duration": 0.211738,
     "end_time": "2020-12-23T21:11:19.579207",
     "exception": false,
     "start_time": "2020-12-23T21:11:19.367469",
     "status": "completed"
    },
    "tags": []
   },
   "outputs": [],
   "source": []
  }
 ],
 "metadata": {
  "jupytext": {
   "cell_metadata_filter": "all,-execution,-papermill,-trusted",
   "formats": "ipynb,py//py:percent"
  },
  "kernelspec": {
   "display_name": "Python 3",
   "language": "python",
   "name": "python3"
  },
  "language_info": {
   "codemirror_mode": {
    "name": "ipython",
    "version": 3
   },
   "file_extension": ".py",
   "mimetype": "text/x-python",
   "name": "python",
   "nbconvert_exporter": "python",
   "pygments_lexer": "ipython3",
   "version": "3.8.8"
  },
  "papermill": {
   "default_parameters": {},
   "duration": 4839.754743,
   "end_time": "2020-12-23T21:11:20.097081",
   "environment_variables": {},
   "exception": null,
   "input_path": "15_drug_disease_associations/011-prediction-gene_module_based.ipynb",
   "output_path": "15_drug_disease_associations/011-prediction-gene_module_based.run.ipynb",
   "parameters": {},
   "start_time": "2020-12-23T19:50:40.342338",
   "version": "2.2.2"
  }
 },
 "nbformat": 4,
 "nbformat_minor": 4
}
