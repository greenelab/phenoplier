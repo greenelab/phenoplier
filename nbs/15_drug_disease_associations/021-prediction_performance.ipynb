{
 "cells": [
  {
   "cell_type": "markdown",
   "metadata": {
    "papermill": {
     "duration": 0.044577,
     "end_time": "2020-12-18T22:38:21.345879",
     "exception": false,
     "start_time": "2020-12-18T22:38:21.301302",
     "status": "completed"
    },
    "tags": []
   },
   "source": [
    "# Description"
   ]
  },
  {
   "cell_type": "markdown",
   "metadata": {
    "papermill": {
     "duration": 0.011764,
     "end_time": "2020-12-18T22:38:21.398073",
     "exception": false,
     "start_time": "2020-12-18T22:38:21.386309",
     "status": "completed"
    },
    "tags": []
   },
   "source": [
    "**TODO**"
   ]
  },
  {
   "cell_type": "markdown",
   "metadata": {
    "papermill": {
     "duration": 0.011799,
     "end_time": "2020-12-18T22:38:21.422136",
     "exception": false,
     "start_time": "2020-12-18T22:38:21.410337",
     "status": "completed"
    },
    "tags": []
   },
   "source": [
    "# Modules loading"
   ]
  },
  {
   "cell_type": "code",
   "execution_count": 1,
   "metadata": {
    "papermill": {
     "duration": 0.022467,
     "end_time": "2020-12-18T22:38:21.456126",
     "exception": false,
     "start_time": "2020-12-18T22:38:21.433659",
     "status": "completed"
    },
    "tags": []
   },
   "outputs": [],
   "source": [
    "%load_ext autoreload\n",
    "%autoreload 2"
   ]
  },
  {
   "cell_type": "code",
   "execution_count": 2,
   "metadata": {
    "papermill": {
     "duration": 0.192251,
     "end_time": "2020-12-18T22:38:21.659996",
     "exception": false,
     "start_time": "2020-12-18T22:38:21.467745",
     "status": "completed"
    },
    "tags": []
   },
   "outputs": [],
   "source": [
    "from pathlib import Path\n",
    "\n",
    "import numpy as np\n",
    "import pandas as pd\n",
    "from tqdm import tqdm\n",
    "\n",
    "import conf"
   ]
  },
  {
   "cell_type": "markdown",
   "metadata": {
    "papermill": {
     "duration": 0.011416,
     "end_time": "2020-12-18T22:38:21.683356",
     "exception": false,
     "start_time": "2020-12-18T22:38:21.671940",
     "status": "completed"
    },
    "tags": []
   },
   "source": [
    "# Settings"
   ]
  },
  {
   "cell_type": "code",
   "execution_count": 3,
   "metadata": {},
   "outputs": [
    {
     "data": {
      "text/plain": [
       "PosixPath('/media/miltondp/Elements1/projects/phenoplier/results/drug_disease_analyses')"
      ]
     },
     "metadata": {},
     "output_type": "display_data"
    }
   ],
   "source": [
    "OUTPUT_DIR = conf.RESULTS[\"DRUG_DISEASE_ANALYSES\"]\n",
    "display(OUTPUT_DIR)\n",
    "OUTPUT_DIR.mkdir(parents=True, exist_ok=True)"
   ]
  },
  {
   "cell_type": "code",
   "execution_count": 4,
   "metadata": {},
   "outputs": [
    {
     "data": {
      "text/plain": [
       "PosixPath('/media/miltondp/Elements1/projects/phenoplier/results/drug_disease_analyses/predictions/dotprod_neg')"
      ]
     },
     "metadata": {},
     "output_type": "display_data"
    }
   ],
   "source": [
    "OUTPUT_PREDICTIONS_DIR = Path(OUTPUT_DIR, \"predictions\", \"dotprod_neg\")\n",
    "display(OUTPUT_PREDICTIONS_DIR)\n",
    "OUTPUT_PREDICTIONS_DIR.mkdir(parents=True, exist_ok=True)"
   ]
  },
  {
   "cell_type": "markdown",
   "metadata": {},
   "source": [
    "# Load PharmacotherapyDB gold standard"
   ]
  },
  {
   "cell_type": "code",
   "execution_count": 5,
   "metadata": {},
   "outputs": [],
   "source": [
    "gold_standard = pd.read_pickle(\n",
    "    Path(OUTPUT_DIR, \"gold_standard.pkl\"),\n",
    ")"
   ]
  },
  {
   "cell_type": "code",
   "execution_count": 6,
   "metadata": {},
   "outputs": [
    {
     "data": {
      "text/plain": [
       "(998, 3)"
      ]
     },
     "execution_count": 6,
     "metadata": {},
     "output_type": "execute_result"
    }
   ],
   "source": [
    "gold_standard.shape"
   ]
  },
  {
   "cell_type": "code",
   "execution_count": 7,
   "metadata": {},
   "outputs": [
    {
     "data": {
      "text/html": [
       "<div>\n",
       "<style scoped>\n",
       "    .dataframe tbody tr th:only-of-type {\n",
       "        vertical-align: middle;\n",
       "    }\n",
       "\n",
       "    .dataframe tbody tr th {\n",
       "        vertical-align: top;\n",
       "    }\n",
       "\n",
       "    .dataframe thead th {\n",
       "        text-align: right;\n",
       "    }\n",
       "</style>\n",
       "<table border=\"1\" class=\"dataframe\">\n",
       "  <thead>\n",
       "    <tr style=\"text-align: right;\">\n",
       "      <th></th>\n",
       "      <th>trait</th>\n",
       "      <th>drug</th>\n",
       "      <th>true_class</th>\n",
       "    </tr>\n",
       "  </thead>\n",
       "  <tbody>\n",
       "    <tr>\n",
       "      <th>0</th>\n",
       "      <td>DOID:10652</td>\n",
       "      <td>DB00843</td>\n",
       "      <td>1</td>\n",
       "    </tr>\n",
       "    <tr>\n",
       "      <th>1</th>\n",
       "      <td>DOID:10652</td>\n",
       "      <td>DB00674</td>\n",
       "      <td>1</td>\n",
       "    </tr>\n",
       "    <tr>\n",
       "      <th>2</th>\n",
       "      <td>DOID:10652</td>\n",
       "      <td>DB01043</td>\n",
       "      <td>1</td>\n",
       "    </tr>\n",
       "    <tr>\n",
       "      <th>3</th>\n",
       "      <td>DOID:10652</td>\n",
       "      <td>DB00989</td>\n",
       "      <td>1</td>\n",
       "    </tr>\n",
       "    <tr>\n",
       "      <th>4</th>\n",
       "      <td>DOID:10652</td>\n",
       "      <td>DB00810</td>\n",
       "      <td>0</td>\n",
       "    </tr>\n",
       "  </tbody>\n",
       "</table>\n",
       "</div>"
      ],
      "text/plain": [
       "        trait     drug  true_class\n",
       "0  DOID:10652  DB00843           1\n",
       "1  DOID:10652  DB00674           1\n",
       "2  DOID:10652  DB01043           1\n",
       "3  DOID:10652  DB00989           1\n",
       "4  DOID:10652  DB00810           0"
      ]
     },
     "execution_count": 7,
     "metadata": {},
     "output_type": "execute_result"
    }
   ],
   "source": [
    "gold_standard.head()"
   ]
  },
  {
   "cell_type": "code",
   "execution_count": 8,
   "metadata": {},
   "outputs": [
    {
     "data": {
      "text/plain": [
       "1    755\n",
       "0    243\n",
       "Name: true_class, dtype: int64"
      ]
     },
     "execution_count": 8,
     "metadata": {},
     "output_type": "execute_result"
    }
   ],
   "source": [
    "gold_standard[\"true_class\"].value_counts()"
   ]
  },
  {
   "cell_type": "code",
   "execution_count": 9,
   "metadata": {},
   "outputs": [
    {
     "data": {
      "text/plain": [
       "1    0.756513\n",
       "0    0.243487\n",
       "Name: true_class, dtype: float64"
      ]
     },
     "execution_count": 9,
     "metadata": {},
     "output_type": "execute_result"
    }
   ],
   "source": [
    "gold_standard[\"true_class\"].value_counts(normalize=True)"
   ]
  },
  {
   "cell_type": "code",
   "execution_count": 10,
   "metadata": {},
   "outputs": [],
   "source": [
    "doids_in_gold_standard = set(gold_standard[\"trait\"])"
   ]
  },
  {
   "cell_type": "markdown",
   "metadata": {},
   "source": [
    "# Load drug-disease predictions"
   ]
  },
  {
   "cell_type": "code",
   "execution_count": 11,
   "metadata": {},
   "outputs": [],
   "source": [
    "from collections import defaultdict"
   ]
  },
  {
   "cell_type": "code",
   "execution_count": 12,
   "metadata": {},
   "outputs": [
    {
     "data": {
      "text/plain": [
       "102"
      ]
     },
     "metadata": {},
     "output_type": "display_data"
    }
   ],
   "source": [
    "current_prediction_files = list(OUTPUT_PREDICTIONS_DIR.glob(\"*.h5\"))\n",
    "display(len(current_prediction_files))"
   ]
  },
  {
   "cell_type": "code",
   "execution_count": 13,
   "metadata": {},
   "outputs": [
    {
     "data": {
      "text/plain": [
       "[PosixPath('/media/miltondp/Elements1/projects/phenoplier/results/drug_disease_analyses/predictions/dotprod_neg/smultixcan-mashr-zscores-data-prediction_scores.h5'),\n",
       " PosixPath('/media/miltondp/Elements1/projects/phenoplier/results/drug_disease_analyses/predictions/dotprod_neg/smultixcan-mashr-zscores-projection-prediction_scores.h5'),\n",
       " PosixPath('/media/miltondp/Elements1/projects/phenoplier/results/drug_disease_analyses/predictions/dotprod_neg/spredixcan-mashr-zscores-Adipose_Subcutaneous-data-prediction_scores.h5'),\n",
       " PosixPath('/media/miltondp/Elements1/projects/phenoplier/results/drug_disease_analyses/predictions/dotprod_neg/spredixcan-mashr-zscores-Adipose_Subcutaneous-projection-prediction_scores.h5'),\n",
       " PosixPath('/media/miltondp/Elements1/projects/phenoplier/results/drug_disease_analyses/predictions/dotprod_neg/spredixcan-mashr-zscores-Adipose_Visceral_Omentum-data-prediction_scores.h5')]"
      ]
     },
     "execution_count": 13,
     "metadata": {},
     "output_type": "execute_result"
    }
   ],
   "source": [
    "current_prediction_files[:5]"
   ]
  },
  {
   "cell_type": "code",
   "execution_count": 14,
   "metadata": {},
   "outputs": [
    {
     "name": "stderr",
     "output_type": "stream",
     "text": [
      "100%|█████████████████████████████████████████████████████████████| 102/102 [00:14<00:00,  7.11it/s]\n"
     ]
    }
   ],
   "source": [
    "predictions = []\n",
    "\n",
    "for f in tqdm(current_prediction_files, ncols=100):\n",
    "    # exclude S-MultiXcan results, since they have no direction of effect\n",
    "    if f.name.startswith(\"smultixcan-\"):\n",
    "        continue\n",
    "\n",
    "    prediction_data = pd.read_hdf(f, key=\"prediction\")\n",
    "    prediction_data = pd.merge(\n",
    "        prediction_data, gold_standard, on=[\"trait\", \"drug\"], how=\"inner\"\n",
    "    )\n",
    "\n",
    "    metadata = pd.read_hdf(f, key=\"metadata\")\n",
    "\n",
    "    prediction_data[\"score\"] = prediction_data[\"score\"].rank()\n",
    "    prediction_data[\"trait\"] = prediction_data[\"trait\"].astype(\"category\")\n",
    "    prediction_data[\"drug\"] = prediction_data[\"drug\"].astype(\"category\")\n",
    "    prediction_data = prediction_data.assign(method=metadata.method)\n",
    "    prediction_data = prediction_data.assign(data=metadata.data)\n",
    "\n",
    "    predictions.append(prediction_data)"
   ]
  },
  {
   "cell_type": "code",
   "execution_count": 15,
   "metadata": {},
   "outputs": [],
   "source": [
    "predictions = pd.concat(predictions, ignore_index=True)"
   ]
  },
  {
   "cell_type": "code",
   "execution_count": 16,
   "metadata": {},
   "outputs": [
    {
     "data": {
      "text/plain": [
       "(64600, 6)"
      ]
     },
     "execution_count": 16,
     "metadata": {},
     "output_type": "execute_result"
    }
   ],
   "source": [
    "predictions.shape"
   ]
  },
  {
   "cell_type": "code",
   "execution_count": 17,
   "metadata": {},
   "outputs": [
    {
     "data": {
      "text/html": [
       "<div>\n",
       "<style scoped>\n",
       "    .dataframe tbody tr th:only-of-type {\n",
       "        vertical-align: middle;\n",
       "    }\n",
       "\n",
       "    .dataframe tbody tr th {\n",
       "        vertical-align: top;\n",
       "    }\n",
       "\n",
       "    .dataframe thead th {\n",
       "        text-align: right;\n",
       "    }\n",
       "</style>\n",
       "<table border=\"1\" class=\"dataframe\">\n",
       "  <thead>\n",
       "    <tr style=\"text-align: right;\">\n",
       "      <th></th>\n",
       "      <th>trait</th>\n",
       "      <th>drug</th>\n",
       "      <th>score</th>\n",
       "      <th>true_class</th>\n",
       "      <th>method</th>\n",
       "      <th>data</th>\n",
       "    </tr>\n",
       "  </thead>\n",
       "  <tbody>\n",
       "    <tr>\n",
       "      <th>0</th>\n",
       "      <td>DOID:0050741</td>\n",
       "      <td>DB00215</td>\n",
       "      <td>251.0</td>\n",
       "      <td>1</td>\n",
       "      <td>Gene-based</td>\n",
       "      <td>spredixcan-mashr-zscores-Adipose_Subcutaneous-...</td>\n",
       "    </tr>\n",
       "    <tr>\n",
       "      <th>1</th>\n",
       "      <td>DOID:0050741</td>\n",
       "      <td>DB00704</td>\n",
       "      <td>307.0</td>\n",
       "      <td>1</td>\n",
       "      <td>Gene-based</td>\n",
       "      <td>spredixcan-mashr-zscores-Adipose_Subcutaneous-...</td>\n",
       "    </tr>\n",
       "    <tr>\n",
       "      <th>2</th>\n",
       "      <td>DOID:0050741</td>\n",
       "      <td>DB00822</td>\n",
       "      <td>94.0</td>\n",
       "      <td>1</td>\n",
       "      <td>Gene-based</td>\n",
       "      <td>spredixcan-mashr-zscores-Adipose_Subcutaneous-...</td>\n",
       "    </tr>\n",
       "    <tr>\n",
       "      <th>3</th>\n",
       "      <td>DOID:10283</td>\n",
       "      <td>DB00014</td>\n",
       "      <td>69.0</td>\n",
       "      <td>1</td>\n",
       "      <td>Gene-based</td>\n",
       "      <td>spredixcan-mashr-zscores-Adipose_Subcutaneous-...</td>\n",
       "    </tr>\n",
       "    <tr>\n",
       "      <th>4</th>\n",
       "      <td>DOID:10283</td>\n",
       "      <td>DB00175</td>\n",
       "      <td>254.0</td>\n",
       "      <td>0</td>\n",
       "      <td>Gene-based</td>\n",
       "      <td>spredixcan-mashr-zscores-Adipose_Subcutaneous-...</td>\n",
       "    </tr>\n",
       "  </tbody>\n",
       "</table>\n",
       "</div>"
      ],
      "text/plain": [
       "          trait     drug  score  true_class      method  \\\n",
       "0  DOID:0050741  DB00215  251.0           1  Gene-based   \n",
       "1  DOID:0050741  DB00704  307.0           1  Gene-based   \n",
       "2  DOID:0050741  DB00822   94.0           1  Gene-based   \n",
       "3    DOID:10283  DB00014   69.0           1  Gene-based   \n",
       "4    DOID:10283  DB00175  254.0           0  Gene-based   \n",
       "\n",
       "                                                data  \n",
       "0  spredixcan-mashr-zscores-Adipose_Subcutaneous-...  \n",
       "1  spredixcan-mashr-zscores-Adipose_Subcutaneous-...  \n",
       "2  spredixcan-mashr-zscores-Adipose_Subcutaneous-...  \n",
       "3  spredixcan-mashr-zscores-Adipose_Subcutaneous-...  \n",
       "4  spredixcan-mashr-zscores-Adipose_Subcutaneous-...  "
      ]
     },
     "execution_count": 17,
     "metadata": {},
     "output_type": "execute_result"
    }
   ],
   "source": [
    "predictions.head()"
   ]
  },
  {
   "cell_type": "markdown",
   "metadata": {},
   "source": [
    "## Testing"
   ]
  },
  {
   "cell_type": "code",
   "execution_count": 18,
   "metadata": {},
   "outputs": [
    {
     "data": {
      "text/plain": [
       "array([(646, 6)], dtype=object)"
      ]
     },
     "metadata": {},
     "output_type": "display_data"
    }
   ],
   "source": [
    "# all prediction tables should have the same shape\n",
    "predictions_shape = (\n",
    "    predictions.groupby([\"method\", \"data\"]).apply(lambda x: x.shape).unique()\n",
    ")\n",
    "display(predictions_shape)\n",
    "assert predictions_shape.shape[0] == 1"
   ]
  },
  {
   "cell_type": "markdown",
   "metadata": {},
   "source": [
    "## Save"
   ]
  },
  {
   "cell_type": "code",
   "execution_count": 19,
   "metadata": {},
   "outputs": [
    {
     "data": {
      "text/plain": [
       "PosixPath('/media/miltondp/Elements1/projects/phenoplier/results/drug_disease_analyses/predictions/predictions_results.pkl')"
      ]
     },
     "metadata": {},
     "output_type": "display_data"
    }
   ],
   "source": [
    "output_file = Path(OUTPUT_DIR, \"predictions\", \"predictions_results.pkl\").resolve()\n",
    "display(output_file)"
   ]
  },
  {
   "cell_type": "code",
   "execution_count": 20,
   "metadata": {},
   "outputs": [],
   "source": [
    "predictions.to_pickle(output_file)"
   ]
  },
  {
   "cell_type": "markdown",
   "metadata": {},
   "source": [
    "# Aggregate predictions"
   ]
  },
  {
   "cell_type": "code",
   "execution_count": 21,
   "metadata": {},
   "outputs": [],
   "source": [
    "def _reduce(x):\n",
    "    return pd.Series(\n",
    "        {\n",
    "            \"score\": x[\"score\"].max(),\n",
    "            \"true_class\": x[\"true_class\"].unique()[0]\n",
    "            if x[\"true_class\"].unique().shape[0] == 1\n",
    "            else None,\n",
    "        }\n",
    "    )"
   ]
  },
  {
   "cell_type": "code",
   "execution_count": 22,
   "metadata": {},
   "outputs": [],
   "source": [
    "predictions_avg = (\n",
    "    predictions.groupby([\"trait\", \"drug\", \"method\"])\n",
    "    .apply(_reduce)\n",
    "    .dropna()\n",
    "    .sort_index()\n",
    "    .reset_index()\n",
    ")"
   ]
  },
  {
   "cell_type": "code",
   "execution_count": 23,
   "metadata": {},
   "outputs": [
    {
     "data": {
      "text/plain": [
       "(1292, 5)"
      ]
     },
     "execution_count": 23,
     "metadata": {},
     "output_type": "execute_result"
    }
   ],
   "source": [
    "predictions_avg.shape"
   ]
  },
  {
   "cell_type": "code",
   "execution_count": 24,
   "metadata": {},
   "outputs": [],
   "source": [
    "# predictions_avg should have twice the number of rows in the predictions table, since has both methods\n",
    "assert predictions_avg.shape[0] == int(predictions_shape[0][0] * 2)"
   ]
  },
  {
   "cell_type": "code",
   "execution_count": 25,
   "metadata": {},
   "outputs": [],
   "source": [
    "assert predictions_avg.dropna().shape == predictions_avg.shape"
   ]
  },
  {
   "cell_type": "code",
   "execution_count": 26,
   "metadata": {},
   "outputs": [
    {
     "data": {
      "text/html": [
       "<div>\n",
       "<style scoped>\n",
       "    .dataframe tbody tr th:only-of-type {\n",
       "        vertical-align: middle;\n",
       "    }\n",
       "\n",
       "    .dataframe tbody tr th {\n",
       "        vertical-align: top;\n",
       "    }\n",
       "\n",
       "    .dataframe thead th {\n",
       "        text-align: right;\n",
       "    }\n",
       "</style>\n",
       "<table border=\"1\" class=\"dataframe\">\n",
       "  <thead>\n",
       "    <tr style=\"text-align: right;\">\n",
       "      <th></th>\n",
       "      <th>trait</th>\n",
       "      <th>drug</th>\n",
       "      <th>method</th>\n",
       "      <th>score</th>\n",
       "      <th>true_class</th>\n",
       "    </tr>\n",
       "  </thead>\n",
       "  <tbody>\n",
       "    <tr>\n",
       "      <th>0</th>\n",
       "      <td>DOID:0050741</td>\n",
       "      <td>DB00215</td>\n",
       "      <td>Gene-based</td>\n",
       "      <td>379.0</td>\n",
       "      <td>1.0</td>\n",
       "    </tr>\n",
       "    <tr>\n",
       "      <th>1</th>\n",
       "      <td>DOID:0050741</td>\n",
       "      <td>DB00215</td>\n",
       "      <td>Module-based</td>\n",
       "      <td>541.0</td>\n",
       "      <td>1.0</td>\n",
       "    </tr>\n",
       "    <tr>\n",
       "      <th>2</th>\n",
       "      <td>DOID:0050741</td>\n",
       "      <td>DB00704</td>\n",
       "      <td>Gene-based</td>\n",
       "      <td>483.0</td>\n",
       "      <td>1.0</td>\n",
       "    </tr>\n",
       "    <tr>\n",
       "      <th>3</th>\n",
       "      <td>DOID:0050741</td>\n",
       "      <td>DB00704</td>\n",
       "      <td>Module-based</td>\n",
       "      <td>562.0</td>\n",
       "      <td>1.0</td>\n",
       "    </tr>\n",
       "    <tr>\n",
       "      <th>4</th>\n",
       "      <td>DOID:0050741</td>\n",
       "      <td>DB00822</td>\n",
       "      <td>Gene-based</td>\n",
       "      <td>579.0</td>\n",
       "      <td>1.0</td>\n",
       "    </tr>\n",
       "  </tbody>\n",
       "</table>\n",
       "</div>"
      ],
      "text/plain": [
       "          trait     drug        method  score  true_class\n",
       "0  DOID:0050741  DB00215    Gene-based  379.0         1.0\n",
       "1  DOID:0050741  DB00215  Module-based  541.0         1.0\n",
       "2  DOID:0050741  DB00704    Gene-based  483.0         1.0\n",
       "3  DOID:0050741  DB00704  Module-based  562.0         1.0\n",
       "4  DOID:0050741  DB00822    Gene-based  579.0         1.0"
      ]
     },
     "execution_count": 26,
     "metadata": {},
     "output_type": "execute_result"
    }
   ],
   "source": [
    "predictions_avg.head()"
   ]
  },
  {
   "cell_type": "markdown",
   "metadata": {},
   "source": [
    "## Save"
   ]
  },
  {
   "cell_type": "code",
   "execution_count": 27,
   "metadata": {},
   "outputs": [
    {
     "data": {
      "text/plain": [
       "PosixPath('/media/miltondp/Elements1/projects/phenoplier/results/drug_disease_analyses/predictions/predictions_results_aggregated.pkl')"
      ]
     },
     "metadata": {},
     "output_type": "display_data"
    }
   ],
   "source": [
    "output_file = Path(\n",
    "    OUTPUT_DIR, \"predictions\", \"predictions_results_aggregated.pkl\"\n",
    ").resolve()\n",
    "display(output_file)"
   ]
  },
  {
   "cell_type": "code",
   "execution_count": 28,
   "metadata": {},
   "outputs": [],
   "source": [
    "predictions_avg.to_pickle(output_file)"
   ]
  },
  {
   "cell_type": "markdown",
   "metadata": {},
   "source": [
    "# ROC"
   ]
  },
  {
   "cell_type": "code",
   "execution_count": 29,
   "metadata": {},
   "outputs": [],
   "source": [
    "from sklearn.metrics import roc_auc_score"
   ]
  },
  {
   "cell_type": "code",
   "execution_count": 30,
   "metadata": {},
   "outputs": [
    {
     "data": {
      "text/html": [
       "<div>\n",
       "<style scoped>\n",
       "    .dataframe tbody tr th:only-of-type {\n",
       "        vertical-align: middle;\n",
       "    }\n",
       "\n",
       "    .dataframe tbody tr th {\n",
       "        vertical-align: top;\n",
       "    }\n",
       "\n",
       "    .dataframe thead th {\n",
       "        text-align: right;\n",
       "    }\n",
       "</style>\n",
       "<table border=\"1\" class=\"dataframe\">\n",
       "  <thead>\n",
       "    <tr style=\"text-align: right;\">\n",
       "      <th></th>\n",
       "      <th>count</th>\n",
       "      <th>mean</th>\n",
       "      <th>std</th>\n",
       "      <th>min</th>\n",
       "      <th>25%</th>\n",
       "      <th>50%</th>\n",
       "      <th>75%</th>\n",
       "      <th>max</th>\n",
       "    </tr>\n",
       "    <tr>\n",
       "      <th>method</th>\n",
       "      <th></th>\n",
       "      <th></th>\n",
       "      <th></th>\n",
       "      <th></th>\n",
       "      <th></th>\n",
       "      <th></th>\n",
       "      <th></th>\n",
       "      <th></th>\n",
       "    </tr>\n",
       "  </thead>\n",
       "  <tbody>\n",
       "    <tr>\n",
       "      <th>Gene-based</th>\n",
       "      <td>50.0</td>\n",
       "      <td>0.537465</td>\n",
       "      <td>0.021894</td>\n",
       "      <td>0.488657</td>\n",
       "      <td>0.525222</td>\n",
       "      <td>0.539817</td>\n",
       "      <td>0.549346</td>\n",
       "      <td>0.591238</td>\n",
       "    </tr>\n",
       "    <tr>\n",
       "      <th>Module-based</th>\n",
       "      <td>50.0</td>\n",
       "      <td>0.550209</td>\n",
       "      <td>0.022309</td>\n",
       "      <td>0.488396</td>\n",
       "      <td>0.536499</td>\n",
       "      <td>0.552103</td>\n",
       "      <td>0.564925</td>\n",
       "      <td>0.599869</td>\n",
       "    </tr>\n",
       "  </tbody>\n",
       "</table>\n",
       "</div>"
      ],
      "text/plain": [
       "              count      mean       std       min       25%       50%  \\\n",
       "method                                                                  \n",
       "Gene-based     50.0  0.537465  0.021894  0.488657  0.525222  0.539817   \n",
       "Module-based   50.0  0.550209  0.022309  0.488396  0.536499  0.552103   \n",
       "\n",
       "                   75%       max  \n",
       "method                            \n",
       "Gene-based    0.549346  0.591238  \n",
       "Module-based  0.564925  0.599869  "
      ]
     },
     "execution_count": 30,
     "metadata": {},
     "output_type": "execute_result"
    }
   ],
   "source": [
    "predictions.groupby([\"method\", \"data\"]).apply(\n",
    "    lambda x: roc_auc_score(x[\"true_class\"], x[\"score\"])\n",
    ").groupby(\"method\").describe()"
   ]
  },
  {
   "cell_type": "code",
   "execution_count": 31,
   "metadata": {},
   "outputs": [
    {
     "data": {
      "text/html": [
       "<div>\n",
       "<style scoped>\n",
       "    .dataframe tbody tr th:only-of-type {\n",
       "        vertical-align: middle;\n",
       "    }\n",
       "\n",
       "    .dataframe tbody tr th {\n",
       "        vertical-align: top;\n",
       "    }\n",
       "\n",
       "    .dataframe thead th {\n",
       "        text-align: right;\n",
       "    }\n",
       "</style>\n",
       "<table border=\"1\" class=\"dataframe\">\n",
       "  <thead>\n",
       "    <tr style=\"text-align: right;\">\n",
       "      <th></th>\n",
       "      <th>count</th>\n",
       "      <th>mean</th>\n",
       "      <th>std</th>\n",
       "      <th>min</th>\n",
       "      <th>25%</th>\n",
       "      <th>50%</th>\n",
       "      <th>75%</th>\n",
       "      <th>max</th>\n",
       "    </tr>\n",
       "    <tr>\n",
       "      <th>method</th>\n",
       "      <th></th>\n",
       "      <th></th>\n",
       "      <th></th>\n",
       "      <th></th>\n",
       "      <th></th>\n",
       "      <th></th>\n",
       "      <th></th>\n",
       "      <th></th>\n",
       "    </tr>\n",
       "  </thead>\n",
       "  <tbody>\n",
       "    <tr>\n",
       "      <th>Gene-based</th>\n",
       "      <td>1.0</td>\n",
       "      <td>0.573384</td>\n",
       "      <td>NaN</td>\n",
       "      <td>0.573384</td>\n",
       "      <td>0.573384</td>\n",
       "      <td>0.573384</td>\n",
       "      <td>0.573384</td>\n",
       "      <td>0.573384</td>\n",
       "    </tr>\n",
       "    <tr>\n",
       "      <th>Module-based</th>\n",
       "      <td>1.0</td>\n",
       "      <td>0.614860</td>\n",
       "      <td>NaN</td>\n",
       "      <td>0.614860</td>\n",
       "      <td>0.614860</td>\n",
       "      <td>0.614860</td>\n",
       "      <td>0.614860</td>\n",
       "      <td>0.614860</td>\n",
       "    </tr>\n",
       "  </tbody>\n",
       "</table>\n",
       "</div>"
      ],
      "text/plain": [
       "              count      mean  std       min       25%       50%       75%  \\\n",
       "method                                                                       \n",
       "Gene-based      1.0  0.573384  NaN  0.573384  0.573384  0.573384  0.573384   \n",
       "Module-based    1.0  0.614860  NaN  0.614860  0.614860  0.614860  0.614860   \n",
       "\n",
       "                   max  \n",
       "method                  \n",
       "Gene-based    0.573384  \n",
       "Module-based  0.614860  "
      ]
     },
     "execution_count": 31,
     "metadata": {},
     "output_type": "execute_result"
    }
   ],
   "source": [
    "predictions_avg.groupby([\"method\"]).apply(\n",
    "    lambda x: roc_auc_score(x[\"true_class\"], x[\"score\"])\n",
    ").groupby(\"method\").describe()"
   ]
  },
  {
   "cell_type": "markdown",
   "metadata": {},
   "source": [
    "# PR"
   ]
  },
  {
   "cell_type": "code",
   "execution_count": 32,
   "metadata": {},
   "outputs": [],
   "source": [
    "from sklearn.metrics import average_precision_score"
   ]
  },
  {
   "cell_type": "code",
   "execution_count": 33,
   "metadata": {},
   "outputs": [
    {
     "data": {
      "text/html": [
       "<div>\n",
       "<style scoped>\n",
       "    .dataframe tbody tr th:only-of-type {\n",
       "        vertical-align: middle;\n",
       "    }\n",
       "\n",
       "    .dataframe tbody tr th {\n",
       "        vertical-align: top;\n",
       "    }\n",
       "\n",
       "    .dataframe thead th {\n",
       "        text-align: right;\n",
       "    }\n",
       "</style>\n",
       "<table border=\"1\" class=\"dataframe\">\n",
       "  <thead>\n",
       "    <tr style=\"text-align: right;\">\n",
       "      <th></th>\n",
       "      <th>count</th>\n",
       "      <th>mean</th>\n",
       "      <th>std</th>\n",
       "      <th>min</th>\n",
       "      <th>25%</th>\n",
       "      <th>50%</th>\n",
       "      <th>75%</th>\n",
       "      <th>max</th>\n",
       "    </tr>\n",
       "    <tr>\n",
       "      <th>method</th>\n",
       "      <th></th>\n",
       "      <th></th>\n",
       "      <th></th>\n",
       "      <th></th>\n",
       "      <th></th>\n",
       "      <th></th>\n",
       "      <th></th>\n",
       "      <th></th>\n",
       "    </tr>\n",
       "  </thead>\n",
       "  <tbody>\n",
       "    <tr>\n",
       "      <th>Gene-based</th>\n",
       "      <td>50.0</td>\n",
       "      <td>0.821235</td>\n",
       "      <td>0.012008</td>\n",
       "      <td>0.791883</td>\n",
       "      <td>0.815912</td>\n",
       "      <td>0.823289</td>\n",
       "      <td>0.826459</td>\n",
       "      <td>0.845993</td>\n",
       "    </tr>\n",
       "    <tr>\n",
       "      <th>Module-based</th>\n",
       "      <td>50.0</td>\n",
       "      <td>0.825101</td>\n",
       "      <td>0.010762</td>\n",
       "      <td>0.801752</td>\n",
       "      <td>0.817628</td>\n",
       "      <td>0.825254</td>\n",
       "      <td>0.832694</td>\n",
       "      <td>0.850523</td>\n",
       "    </tr>\n",
       "  </tbody>\n",
       "</table>\n",
       "</div>"
      ],
      "text/plain": [
       "              count      mean       std       min       25%       50%  \\\n",
       "method                                                                  \n",
       "Gene-based     50.0  0.821235  0.012008  0.791883  0.815912  0.823289   \n",
       "Module-based   50.0  0.825101  0.010762  0.801752  0.817628  0.825254   \n",
       "\n",
       "                   75%       max  \n",
       "method                            \n",
       "Gene-based    0.826459  0.845993  \n",
       "Module-based  0.832694  0.850523  "
      ]
     },
     "execution_count": 33,
     "metadata": {},
     "output_type": "execute_result"
    }
   ],
   "source": [
    "predictions.groupby([\"method\", \"data\"]).apply(\n",
    "    lambda x: average_precision_score(x[\"true_class\"], x[\"score\"])\n",
    ").groupby(\"method\").describe()"
   ]
  },
  {
   "cell_type": "code",
   "execution_count": 34,
   "metadata": {},
   "outputs": [
    {
     "data": {
      "text/html": [
       "<div>\n",
       "<style scoped>\n",
       "    .dataframe tbody tr th:only-of-type {\n",
       "        vertical-align: middle;\n",
       "    }\n",
       "\n",
       "    .dataframe tbody tr th {\n",
       "        vertical-align: top;\n",
       "    }\n",
       "\n",
       "    .dataframe thead th {\n",
       "        text-align: right;\n",
       "    }\n",
       "</style>\n",
       "<table border=\"1\" class=\"dataframe\">\n",
       "  <thead>\n",
       "    <tr style=\"text-align: right;\">\n",
       "      <th></th>\n",
       "      <th>count</th>\n",
       "      <th>mean</th>\n",
       "      <th>std</th>\n",
       "      <th>min</th>\n",
       "      <th>25%</th>\n",
       "      <th>50%</th>\n",
       "      <th>75%</th>\n",
       "      <th>max</th>\n",
       "    </tr>\n",
       "    <tr>\n",
       "      <th>method</th>\n",
       "      <th></th>\n",
       "      <th></th>\n",
       "      <th></th>\n",
       "      <th></th>\n",
       "      <th></th>\n",
       "      <th></th>\n",
       "      <th></th>\n",
       "      <th></th>\n",
       "    </tr>\n",
       "  </thead>\n",
       "  <tbody>\n",
       "    <tr>\n",
       "      <th>Gene-based</th>\n",
       "      <td>1.0</td>\n",
       "      <td>0.841137</td>\n",
       "      <td>NaN</td>\n",
       "      <td>0.841137</td>\n",
       "      <td>0.841137</td>\n",
       "      <td>0.841137</td>\n",
       "      <td>0.841137</td>\n",
       "      <td>0.841137</td>\n",
       "    </tr>\n",
       "    <tr>\n",
       "      <th>Module-based</th>\n",
       "      <td>1.0</td>\n",
       "      <td>0.851117</td>\n",
       "      <td>NaN</td>\n",
       "      <td>0.851117</td>\n",
       "      <td>0.851117</td>\n",
       "      <td>0.851117</td>\n",
       "      <td>0.851117</td>\n",
       "      <td>0.851117</td>\n",
       "    </tr>\n",
       "  </tbody>\n",
       "</table>\n",
       "</div>"
      ],
      "text/plain": [
       "              count      mean  std       min       25%       50%       75%  \\\n",
       "method                                                                       \n",
       "Gene-based      1.0  0.841137  NaN  0.841137  0.841137  0.841137  0.841137   \n",
       "Module-based    1.0  0.851117  NaN  0.851117  0.851117  0.851117  0.851117   \n",
       "\n",
       "                   max  \n",
       "method                  \n",
       "Gene-based    0.841137  \n",
       "Module-based  0.851117  "
      ]
     },
     "execution_count": 34,
     "metadata": {},
     "output_type": "execute_result"
    }
   ],
   "source": [
    "predictions_avg.groupby([\"method\"]).apply(\n",
    "    lambda x: average_precision_score(x[\"true_class\"], x[\"score\"])\n",
    ").groupby(\"method\").describe()"
   ]
  },
  {
   "cell_type": "code",
   "execution_count": null,
   "metadata": {},
   "outputs": [],
   "source": []
  }
 ],
 "metadata": {
  "jupytext": {
   "formats": "ipynb,py//py:percent"
  },
  "kernelspec": {
   "display_name": "Python 3",
   "language": "python",
   "name": "python3"
  },
  "language_info": {
   "codemirror_mode": {
    "name": "ipython",
    "version": 3
   },
   "file_extension": ".py",
   "mimetype": "text/x-python",
   "name": "python",
   "nbconvert_exporter": "python",
   "pygments_lexer": "ipython3",
   "version": "3.8.6"
  },
  "papermill": {
   "default_parameters": {},
   "duration": 4334.257345,
   "end_time": "2020-12-18T23:50:34.771313",
   "environment_variables": {},
   "exception": null,
   "input_path": "15_drug_disease_associations/000-spredixcan_most_significant.ipynb",
   "output_path": "15_drug_disease_associations/000-spredixcan_most_significant.run.ipynb",
   "parameters": {},
   "start_time": "2020-12-18T22:38:20.513968",
   "version": "2.2.2"
  }
 },
 "nbformat": 4,
 "nbformat_minor": 4
}
