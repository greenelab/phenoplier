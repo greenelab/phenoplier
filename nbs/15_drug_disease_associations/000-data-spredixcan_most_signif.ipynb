{
 "cells": [
  {
   "cell_type": "markdown",
   "metadata": {
    "papermill": {
     "duration": 0.044577,
     "end_time": "2020-12-18T22:38:21.345879",
     "exception": false,
     "start_time": "2020-12-18T22:38:21.301302",
     "status": "completed"
    },
    "tags": []
   },
   "source": [
    "# Description"
   ]
  },
  {
   "cell_type": "markdown",
   "metadata": {
    "papermill": {
     "duration": 0.011764,
     "end_time": "2020-12-18T22:38:21.398073",
     "exception": false,
     "start_time": "2020-12-18T22:38:21.386309",
     "status": "completed"
    },
    "tags": []
   },
   "source": [
    "**TODO**: should probably be moved to preprocessing folder."
   ]
  },
  {
   "cell_type": "markdown",
   "metadata": {
    "papermill": {
     "duration": 0.011799,
     "end_time": "2020-12-18T22:38:21.422136",
     "exception": false,
     "start_time": "2020-12-18T22:38:21.410337",
     "status": "completed"
    },
    "tags": []
   },
   "source": [
    "# Modules loading"
   ]
  },
  {
   "cell_type": "code",
   "execution_count": null,
   "metadata": {
    "papermill": {
     "duration": 0.022467,
     "end_time": "2020-12-18T22:38:21.456126",
     "exception": false,
     "start_time": "2020-12-18T22:38:21.433659",
     "status": "completed"
    },
    "tags": []
   },
   "outputs": [],
   "source": [
    "%load_ext autoreload\n",
    "%autoreload 2"
   ]
  },
  {
   "cell_type": "code",
   "execution_count": 2,
   "metadata": {
    "papermill": {
     "duration": 0.192251,
     "end_time": "2020-12-18T22:38:21.659996",
     "exception": false,
     "start_time": "2020-12-18T22:38:21.467745",
     "status": "completed"
    },
    "tags": []
   },
   "outputs": [],
   "source": [
    "from pathlib import Path\n",
    "\n",
    "# import numpy as np\n",
    "import pandas as pd\n",
    "\n",
    "import conf\n",
    "from multiplier import MultiplierProjection\n",
    "# from entity import Gene\n",
    "# from data.cache import read_data\n",
    "# from data.hdf5 import simplify_trait_fullcode, HDF5_FILE_PATTERN"
   ]
  },
  {
   "cell_type": "markdown",
   "metadata": {
    "papermill": {
     "duration": 0.011416,
     "end_time": "2020-12-18T22:38:21.683356",
     "exception": false,
     "start_time": "2020-12-18T22:38:21.671940",
     "status": "completed"
    },
    "tags": []
   },
   "source": [
    "# Settings"
   ]
  },
  {
   "cell_type": "code",
   "execution_count": 3,
   "metadata": {},
   "outputs": [
    {
     "data": {
      "text/plain": [
       "PosixPath('/media/miltondp/Elements1/projects/phenoplier/results/drug_disease_analyses')"
      ]
     },
     "metadata": {},
     "output_type": "display_data"
    }
   ],
   "source": [
    "OUTPUT_DIR = conf.RESULTS[\"DRUG_DISEASE_ANALYSES\"]\n",
    "display(OUTPUT_DIR)\n",
    "OUTPUT_DIR.mkdir(parents=True, exist_ok=True)"
   ]
  },
  {
   "cell_type": "code",
   "execution_count": 4,
   "metadata": {},
   "outputs": [
    {
     "data": {
      "text/plain": [
       "PosixPath('/media/miltondp/Elements1/projects/phenoplier/results/drug_disease_analyses/data')"
      ]
     },
     "metadata": {},
     "output_type": "display_data"
    }
   ],
   "source": [
    "OUTPUT_DATA_DIR = Path(OUTPUT_DIR, \"data\")\n",
    "display(OUTPUT_DATA_DIR)\n",
    "OUTPUT_DATA_DIR.mkdir(parents=True, exist_ok=True)"
   ]
  },
  {
   "cell_type": "markdown",
   "metadata": {},
   "source": [
    "# Load S-PrediXcan results"
   ]
  },
  {
   "cell_type": "code",
   "execution_count": 5,
   "metadata": {},
   "outputs": [
    {
     "data": {
      "text/plain": [
       "PosixPath('/media/miltondp/Elements1/projects/phenoplier/data/phenomexcan/gene_assoc/spredixcan/most_signif/spredixcan-most_signif.pkl')"
      ]
     },
     "metadata": {},
     "output_type": "display_data"
    }
   ],
   "source": [
    "input_file = Path(\n",
    "    conf.PHENOMEXCAN[\"SPREDIXCAN_MASHR_ZSCORES_FOLDER\"],\n",
    "    \"most_signif\",\n",
    "    \"spredixcan-most_signif.pkl\"\n",
    ").resolve()\n",
    "\n",
    "display(input_file)"
   ]
  },
  {
   "cell_type": "code",
   "execution_count": 6,
   "metadata": {},
   "outputs": [],
   "source": [
    "phenomexcan_data = pd.read_pickle(input_file)"
   ]
  },
  {
   "cell_type": "code",
   "execution_count": 7,
   "metadata": {},
   "outputs": [
    {
     "data": {
      "text/plain": [
       "(22515, 4091)"
      ]
     },
     "execution_count": 7,
     "metadata": {},
     "output_type": "execute_result"
    }
   ],
   "source": [
    "phenomexcan_data.shape"
   ]
  },
  {
   "cell_type": "code",
   "execution_count": 8,
   "metadata": {},
   "outputs": [
    {
     "data": {
      "text/html": [
       "<div>\n",
       "<style scoped>\n",
       "    .dataframe tbody tr th:only-of-type {\n",
       "        vertical-align: middle;\n",
       "    }\n",
       "\n",
       "    .dataframe tbody tr th {\n",
       "        vertical-align: top;\n",
       "    }\n",
       "\n",
       "    .dataframe thead th {\n",
       "        text-align: right;\n",
       "    }\n",
       "</style>\n",
       "<table border=\"1\" class=\"dataframe\">\n",
       "  <thead>\n",
       "    <tr style=\"text-align: right;\">\n",
       "      <th></th>\n",
       "      <th>20096_1-Size_of_red_wine_glass_drunk_small_125ml</th>\n",
       "      <th>2345-Ever_had_bowel_cancer_screening</th>\n",
       "      <th>N49-Diagnoses_main_ICD10_N49_Inflammatory_disorders_of_male_genital_organs_not_elsewhere_classified</th>\n",
       "      <th>100011_raw-Iron</th>\n",
       "      <th>5221-Index_of_best_refractometry_result_right</th>\n",
       "      <th>20003_1141150624-Treatmentmedication_code_zomig_25mg_tablet</th>\n",
       "      <th>S69-Diagnoses_main_ICD10_S69_Other_and_unspecified_injuries_of_wrist_and_hand</th>\n",
       "      <th>20024_1136-Job_code_deduced_Information_and_communication_technology_managers</th>\n",
       "      <th>20002_1385-Noncancer_illness_code_selfreported_allergy_or_anaphylactic_reaction_to_food</th>\n",
       "      <th>G6_SLEEPAPNO-Sleep_apnoea</th>\n",
       "      <th>...</th>\n",
       "      <th>Astle_et_al_2016_Sum_basophil_neutrophil_counts</th>\n",
       "      <th>RA_OKADA_TRANS_ETHNIC</th>\n",
       "      <th>pgc.scz2</th>\n",
       "      <th>PGC_ADHD_EUR_2017</th>\n",
       "      <th>MAGIC_FastingGlucose</th>\n",
       "      <th>Astle_et_al_2016_Red_blood_cell_count</th>\n",
       "      <th>SSGAC_Depressive_Symptoms</th>\n",
       "      <th>BCAC_ER_positive_BreastCancer_EUR</th>\n",
       "      <th>IBD.EUR.Inflammatory_Bowel_Disease</th>\n",
       "      <th>Astle_et_al_2016_High_light_scatter_reticulocyte_count</th>\n",
       "    </tr>\n",
       "  </thead>\n",
       "  <tbody>\n",
       "    <tr>\n",
       "      <th>ENSG00000000419</th>\n",
       "      <td>-0.521616</td>\n",
       "      <td>-0.354356</td>\n",
       "      <td>-0.647688</td>\n",
       "      <td>1.110194</td>\n",
       "      <td>-1.786116</td>\n",
       "      <td>1.714687</td>\n",
       "      <td>0.999024</td>\n",
       "      <td>-1.662682</td>\n",
       "      <td>1.576522</td>\n",
       "      <td>-1.402812</td>\n",
       "      <td>...</td>\n",
       "      <td>1.614588</td>\n",
       "      <td>0.954165</td>\n",
       "      <td>-1.325516</td>\n",
       "      <td>-0.290283</td>\n",
       "      <td>1.009580</td>\n",
       "      <td>-1.237774</td>\n",
       "      <td>-1.083244</td>\n",
       "      <td>1.711170</td>\n",
       "      <td>-1.144057</td>\n",
       "      <td>-0.803475</td>\n",
       "    </tr>\n",
       "    <tr>\n",
       "      <th>ENSG00000000457</th>\n",
       "      <td>-1.885895</td>\n",
       "      <td>-2.056025</td>\n",
       "      <td>-0.693315</td>\n",
       "      <td>1.342271</td>\n",
       "      <td>1.631252</td>\n",
       "      <td>-1.902825</td>\n",
       "      <td>-1.485516</td>\n",
       "      <td>-2.356658</td>\n",
       "      <td>3.181447</td>\n",
       "      <td>2.094172</td>\n",
       "      <td>...</td>\n",
       "      <td>2.582993</td>\n",
       "      <td>2.004654</td>\n",
       "      <td>2.918376</td>\n",
       "      <td>1.886111</td>\n",
       "      <td>1.242073</td>\n",
       "      <td>1.184227</td>\n",
       "      <td>1.190373</td>\n",
       "      <td>0.773194</td>\n",
       "      <td>-2.302876</td>\n",
       "      <td>1.702888</td>\n",
       "    </tr>\n",
       "    <tr>\n",
       "      <th>ENSG00000000460</th>\n",
       "      <td>-1.269773</td>\n",
       "      <td>-2.088193</td>\n",
       "      <td>-2.868509</td>\n",
       "      <td>1.653372</td>\n",
       "      <td>1.307943</td>\n",
       "      <td>-2.114711</td>\n",
       "      <td>1.162425</td>\n",
       "      <td>-1.418749</td>\n",
       "      <td>2.363683</td>\n",
       "      <td>-1.480930</td>\n",
       "      <td>...</td>\n",
       "      <td>1.577850</td>\n",
       "      <td>1.156873</td>\n",
       "      <td>-1.480989</td>\n",
       "      <td>-1.384810</td>\n",
       "      <td>1.820841</td>\n",
       "      <td>1.872488</td>\n",
       "      <td>-1.279276</td>\n",
       "      <td>-1.054766</td>\n",
       "      <td>2.876039</td>\n",
       "      <td>-2.125799</td>\n",
       "    </tr>\n",
       "    <tr>\n",
       "      <th>ENSG00000000938</th>\n",
       "      <td>1.521316</td>\n",
       "      <td>-1.344366</td>\n",
       "      <td>-2.155603</td>\n",
       "      <td>1.313485</td>\n",
       "      <td>1.537092</td>\n",
       "      <td>4.348633</td>\n",
       "      <td>-0.604390</td>\n",
       "      <td>-1.816184</td>\n",
       "      <td>-1.049993</td>\n",
       "      <td>1.669054</td>\n",
       "      <td>...</td>\n",
       "      <td>1.369958</td>\n",
       "      <td>-0.446664</td>\n",
       "      <td>-3.131358</td>\n",
       "      <td>1.459237</td>\n",
       "      <td>1.007082</td>\n",
       "      <td>2.096814</td>\n",
       "      <td>0.932845</td>\n",
       "      <td>-2.452785</td>\n",
       "      <td>1.710248</td>\n",
       "      <td>1.730114</td>\n",
       "    </tr>\n",
       "    <tr>\n",
       "      <th>ENSG00000000971</th>\n",
       "      <td>-1.409875</td>\n",
       "      <td>-1.325785</td>\n",
       "      <td>-1.674708</td>\n",
       "      <td>1.316074</td>\n",
       "      <td>-1.145304</td>\n",
       "      <td>-0.788946</td>\n",
       "      <td>1.549621</td>\n",
       "      <td>1.224362</td>\n",
       "      <td>-0.670558</td>\n",
       "      <td>-1.915256</td>\n",
       "      <td>...</td>\n",
       "      <td>-1.882554</td>\n",
       "      <td>2.691985</td>\n",
       "      <td>-3.261818</td>\n",
       "      <td>2.756464</td>\n",
       "      <td>-1.038795</td>\n",
       "      <td>-0.576466</td>\n",
       "      <td>-3.605774</td>\n",
       "      <td>1.423109</td>\n",
       "      <td>-1.578721</td>\n",
       "      <td>-1.200703</td>\n",
       "    </tr>\n",
       "  </tbody>\n",
       "</table>\n",
       "<p>5 rows × 4091 columns</p>\n",
       "</div>"
      ],
      "text/plain": [
       "                 20096_1-Size_of_red_wine_glass_drunk_small_125ml  \\\n",
       "ENSG00000000419                                         -0.521616   \n",
       "ENSG00000000457                                         -1.885895   \n",
       "ENSG00000000460                                         -1.269773   \n",
       "ENSG00000000938                                          1.521316   \n",
       "ENSG00000000971                                         -1.409875   \n",
       "\n",
       "                 2345-Ever_had_bowel_cancer_screening  \\\n",
       "ENSG00000000419                             -0.354356   \n",
       "ENSG00000000457                             -2.056025   \n",
       "ENSG00000000460                             -2.088193   \n",
       "ENSG00000000938                             -1.344366   \n",
       "ENSG00000000971                             -1.325785   \n",
       "\n",
       "                 N49-Diagnoses_main_ICD10_N49_Inflammatory_disorders_of_male_genital_organs_not_elsewhere_classified  \\\n",
       "ENSG00000000419                                          -0.647688                                                     \n",
       "ENSG00000000457                                          -0.693315                                                     \n",
       "ENSG00000000460                                          -2.868509                                                     \n",
       "ENSG00000000938                                          -2.155603                                                     \n",
       "ENSG00000000971                                          -1.674708                                                     \n",
       "\n",
       "                 100011_raw-Iron  \\\n",
       "ENSG00000000419         1.110194   \n",
       "ENSG00000000457         1.342271   \n",
       "ENSG00000000460         1.653372   \n",
       "ENSG00000000938         1.313485   \n",
       "ENSG00000000971         1.316074   \n",
       "\n",
       "                 5221-Index_of_best_refractometry_result_right  \\\n",
       "ENSG00000000419                                      -1.786116   \n",
       "ENSG00000000457                                       1.631252   \n",
       "ENSG00000000460                                       1.307943   \n",
       "ENSG00000000938                                       1.537092   \n",
       "ENSG00000000971                                      -1.145304   \n",
       "\n",
       "                 20003_1141150624-Treatmentmedication_code_zomig_25mg_tablet  \\\n",
       "ENSG00000000419                                           1.714687             \n",
       "ENSG00000000457                                          -1.902825             \n",
       "ENSG00000000460                                          -2.114711             \n",
       "ENSG00000000938                                           4.348633             \n",
       "ENSG00000000971                                          -0.788946             \n",
       "\n",
       "                 S69-Diagnoses_main_ICD10_S69_Other_and_unspecified_injuries_of_wrist_and_hand  \\\n",
       "ENSG00000000419                                           0.999024                               \n",
       "ENSG00000000457                                          -1.485516                               \n",
       "ENSG00000000460                                           1.162425                               \n",
       "ENSG00000000938                                          -0.604390                               \n",
       "ENSG00000000971                                           1.549621                               \n",
       "\n",
       "                 20024_1136-Job_code_deduced_Information_and_communication_technology_managers  \\\n",
       "ENSG00000000419                                          -1.662682                               \n",
       "ENSG00000000457                                          -2.356658                               \n",
       "ENSG00000000460                                          -1.418749                               \n",
       "ENSG00000000938                                          -1.816184                               \n",
       "ENSG00000000971                                           1.224362                               \n",
       "\n",
       "                 20002_1385-Noncancer_illness_code_selfreported_allergy_or_anaphylactic_reaction_to_food  \\\n",
       "ENSG00000000419                                           1.576522                                         \n",
       "ENSG00000000457                                           3.181447                                         \n",
       "ENSG00000000460                                           2.363683                                         \n",
       "ENSG00000000938                                          -1.049993                                         \n",
       "ENSG00000000971                                          -0.670558                                         \n",
       "\n",
       "                 G6_SLEEPAPNO-Sleep_apnoea  ...  \\\n",
       "ENSG00000000419                  -1.402812  ...   \n",
       "ENSG00000000457                   2.094172  ...   \n",
       "ENSG00000000460                  -1.480930  ...   \n",
       "ENSG00000000938                   1.669054  ...   \n",
       "ENSG00000000971                  -1.915256  ...   \n",
       "\n",
       "                 Astle_et_al_2016_Sum_basophil_neutrophil_counts  \\\n",
       "ENSG00000000419                                         1.614588   \n",
       "ENSG00000000457                                         2.582993   \n",
       "ENSG00000000460                                         1.577850   \n",
       "ENSG00000000938                                         1.369958   \n",
       "ENSG00000000971                                        -1.882554   \n",
       "\n",
       "                 RA_OKADA_TRANS_ETHNIC  pgc.scz2  PGC_ADHD_EUR_2017  \\\n",
       "ENSG00000000419               0.954165 -1.325516          -0.290283   \n",
       "ENSG00000000457               2.004654  2.918376           1.886111   \n",
       "ENSG00000000460               1.156873 -1.480989          -1.384810   \n",
       "ENSG00000000938              -0.446664 -3.131358           1.459237   \n",
       "ENSG00000000971               2.691985 -3.261818           2.756464   \n",
       "\n",
       "                 MAGIC_FastingGlucose  Astle_et_al_2016_Red_blood_cell_count  \\\n",
       "ENSG00000000419              1.009580                              -1.237774   \n",
       "ENSG00000000457              1.242073                               1.184227   \n",
       "ENSG00000000460              1.820841                               1.872488   \n",
       "ENSG00000000938              1.007082                               2.096814   \n",
       "ENSG00000000971             -1.038795                              -0.576466   \n",
       "\n",
       "                 SSGAC_Depressive_Symptoms  BCAC_ER_positive_BreastCancer_EUR  \\\n",
       "ENSG00000000419                  -1.083244                           1.711170   \n",
       "ENSG00000000457                   1.190373                           0.773194   \n",
       "ENSG00000000460                  -1.279276                          -1.054766   \n",
       "ENSG00000000938                   0.932845                          -2.452785   \n",
       "ENSG00000000971                  -3.605774                           1.423109   \n",
       "\n",
       "                 IBD.EUR.Inflammatory_Bowel_Disease  \\\n",
       "ENSG00000000419                           -1.144057   \n",
       "ENSG00000000457                           -2.302876   \n",
       "ENSG00000000460                            2.876039   \n",
       "ENSG00000000938                            1.710248   \n",
       "ENSG00000000971                           -1.578721   \n",
       "\n",
       "                 Astle_et_al_2016_High_light_scatter_reticulocyte_count  \n",
       "ENSG00000000419                                          -0.803475       \n",
       "ENSG00000000457                                           1.702888       \n",
       "ENSG00000000460                                          -2.125799       \n",
       "ENSG00000000938                                           1.730114       \n",
       "ENSG00000000971                                          -1.200703       \n",
       "\n",
       "[5 rows x 4091 columns]"
      ]
     },
     "execution_count": 8,
     "metadata": {},
     "output_type": "execute_result"
    }
   ],
   "source": [
    "phenomexcan_data.head()"
   ]
  },
  {
   "cell_type": "code",
   "execution_count": 9,
   "metadata": {},
   "outputs": [],
   "source": [
    "assert phenomexcan_data.index.is_unique"
   ]
  },
  {
   "cell_type": "code",
   "execution_count": 10,
   "metadata": {},
   "outputs": [],
   "source": [
    "assert phenomexcan_data.columns.is_unique"
   ]
  },
  {
   "cell_type": "markdown",
   "metadata": {},
   "source": [
    "## Remove NaN values"
   ]
  },
  {
   "cell_type": "code",
   "execution_count": 11,
   "metadata": {},
   "outputs": [],
   "source": [
    "phenomexcan_data = phenomexcan_data.dropna(how='any')"
   ]
  },
  {
   "cell_type": "code",
   "execution_count": 12,
   "metadata": {},
   "outputs": [
    {
     "data": {
      "text/plain": [
       "(22152, 4091)"
      ]
     },
     "execution_count": 12,
     "metadata": {},
     "output_type": "execute_result"
    }
   ],
   "source": [
    "phenomexcan_data.shape"
   ]
  },
  {
   "cell_type": "code",
   "execution_count": 13,
   "metadata": {},
   "outputs": [],
   "source": [
    "assert not phenomexcan_data.isna().any().any()"
   ]
  },
  {
   "cell_type": "markdown",
   "metadata": {},
   "source": [
    "## Save"
   ]
  },
  {
   "cell_type": "code",
   "execution_count": 14,
   "metadata": {},
   "outputs": [
    {
     "data": {
      "text/plain": [
       "PosixPath('/media/miltondp/Elements1/projects/phenoplier/results/drug_disease_analyses/data/spredixcan-most_signif.pkl')"
      ]
     },
     "metadata": {},
     "output_type": "display_data"
    }
   ],
   "source": [
    "output_file = Path(\n",
    "    OUTPUT_DATA_DIR,\n",
    "    \"spredixcan-most_signif.pkl\"\n",
    ").resolve()\n",
    "display(output_file)"
   ]
  },
  {
   "cell_type": "code",
   "execution_count": 15,
   "metadata": {},
   "outputs": [],
   "source": [
    "phenomexcan_data.to_pickle(output_file)"
   ]
  },
  {
   "cell_type": "markdown",
   "metadata": {},
   "source": [
    "# Project into MultiPLIER"
   ]
  },
  {
   "cell_type": "code",
   "execution_count": 16,
   "metadata": {},
   "outputs": [],
   "source": [
    "mproj = MultiplierProjection()"
   ]
  },
  {
   "cell_type": "code",
   "execution_count": 17,
   "metadata": {},
   "outputs": [],
   "source": [
    "phenomexcan_projection = mproj.transform(phenomexcan_data)"
   ]
  },
  {
   "cell_type": "code",
   "execution_count": 18,
   "metadata": {},
   "outputs": [
    {
     "data": {
      "text/plain": [
       "(987, 4091)"
      ]
     },
     "execution_count": 18,
     "metadata": {},
     "output_type": "execute_result"
    }
   ],
   "source": [
    "phenomexcan_projection.shape"
   ]
  },
  {
   "cell_type": "code",
   "execution_count": 19,
   "metadata": {},
   "outputs": [
    {
     "data": {
      "text/html": [
       "<div>\n",
       "<style scoped>\n",
       "    .dataframe tbody tr th:only-of-type {\n",
       "        vertical-align: middle;\n",
       "    }\n",
       "\n",
       "    .dataframe tbody tr th {\n",
       "        vertical-align: top;\n",
       "    }\n",
       "\n",
       "    .dataframe thead th {\n",
       "        text-align: right;\n",
       "    }\n",
       "</style>\n",
       "<table border=\"1\" class=\"dataframe\">\n",
       "  <thead>\n",
       "    <tr style=\"text-align: right;\">\n",
       "      <th></th>\n",
       "      <th>20096_1-Size_of_red_wine_glass_drunk_small_125ml</th>\n",
       "      <th>2345-Ever_had_bowel_cancer_screening</th>\n",
       "      <th>N49-Diagnoses_main_ICD10_N49_Inflammatory_disorders_of_male_genital_organs_not_elsewhere_classified</th>\n",
       "      <th>100011_raw-Iron</th>\n",
       "      <th>5221-Index_of_best_refractometry_result_right</th>\n",
       "      <th>20003_1141150624-Treatmentmedication_code_zomig_25mg_tablet</th>\n",
       "      <th>S69-Diagnoses_main_ICD10_S69_Other_and_unspecified_injuries_of_wrist_and_hand</th>\n",
       "      <th>20024_1136-Job_code_deduced_Information_and_communication_technology_managers</th>\n",
       "      <th>20002_1385-Noncancer_illness_code_selfreported_allergy_or_anaphylactic_reaction_to_food</th>\n",
       "      <th>G6_SLEEPAPNO-Sleep_apnoea</th>\n",
       "      <th>...</th>\n",
       "      <th>Astle_et_al_2016_Sum_basophil_neutrophil_counts</th>\n",
       "      <th>RA_OKADA_TRANS_ETHNIC</th>\n",
       "      <th>pgc.scz2</th>\n",
       "      <th>PGC_ADHD_EUR_2017</th>\n",
       "      <th>MAGIC_FastingGlucose</th>\n",
       "      <th>Astle_et_al_2016_Red_blood_cell_count</th>\n",
       "      <th>SSGAC_Depressive_Symptoms</th>\n",
       "      <th>BCAC_ER_positive_BreastCancer_EUR</th>\n",
       "      <th>IBD.EUR.Inflammatory_Bowel_Disease</th>\n",
       "      <th>Astle_et_al_2016_High_light_scatter_reticulocyte_count</th>\n",
       "    </tr>\n",
       "  </thead>\n",
       "  <tbody>\n",
       "    <tr>\n",
       "      <th>LV1</th>\n",
       "      <td>0.005032</td>\n",
       "      <td>-0.017742</td>\n",
       "      <td>-0.000063</td>\n",
       "      <td>-0.027630</td>\n",
       "      <td>-0.035386</td>\n",
       "      <td>0.011002</td>\n",
       "      <td>0.010724</td>\n",
       "      <td>0.010446</td>\n",
       "      <td>-0.018710</td>\n",
       "      <td>0.010722</td>\n",
       "      <td>...</td>\n",
       "      <td>-0.077884</td>\n",
       "      <td>-0.059427</td>\n",
       "      <td>0.014250</td>\n",
       "      <td>0.011559</td>\n",
       "      <td>0.010034</td>\n",
       "      <td>-0.007861</td>\n",
       "      <td>0.050615</td>\n",
       "      <td>-0.024714</td>\n",
       "      <td>-0.016299</td>\n",
       "      <td>0.012266</td>\n",
       "    </tr>\n",
       "    <tr>\n",
       "      <th>LV2</th>\n",
       "      <td>0.022757</td>\n",
       "      <td>-0.002494</td>\n",
       "      <td>-0.022456</td>\n",
       "      <td>-0.006039</td>\n",
       "      <td>0.014805</td>\n",
       "      <td>0.029324</td>\n",
       "      <td>-0.020111</td>\n",
       "      <td>-0.029098</td>\n",
       "      <td>-0.028098</td>\n",
       "      <td>-0.011183</td>\n",
       "      <td>...</td>\n",
       "      <td>0.022188</td>\n",
       "      <td>-0.004523</td>\n",
       "      <td>0.044796</td>\n",
       "      <td>-0.003497</td>\n",
       "      <td>0.036967</td>\n",
       "      <td>0.018417</td>\n",
       "      <td>-0.002459</td>\n",
       "      <td>-0.019084</td>\n",
       "      <td>0.023447</td>\n",
       "      <td>-0.014293</td>\n",
       "    </tr>\n",
       "    <tr>\n",
       "      <th>LV3</th>\n",
       "      <td>-0.014583</td>\n",
       "      <td>-0.009334</td>\n",
       "      <td>-0.008777</td>\n",
       "      <td>-0.016107</td>\n",
       "      <td>-0.026012</td>\n",
       "      <td>-0.006325</td>\n",
       "      <td>-0.019086</td>\n",
       "      <td>-0.027593</td>\n",
       "      <td>0.009968</td>\n",
       "      <td>-0.026543</td>\n",
       "      <td>...</td>\n",
       "      <td>0.041333</td>\n",
       "      <td>-0.015025</td>\n",
       "      <td>-0.050110</td>\n",
       "      <td>0.034439</td>\n",
       "      <td>-0.023318</td>\n",
       "      <td>-0.030491</td>\n",
       "      <td>-0.003833</td>\n",
       "      <td>-0.017156</td>\n",
       "      <td>0.013962</td>\n",
       "      <td>-0.053326</td>\n",
       "    </tr>\n",
       "    <tr>\n",
       "      <th>LV4</th>\n",
       "      <td>-0.007432</td>\n",
       "      <td>-0.029053</td>\n",
       "      <td>-0.031635</td>\n",
       "      <td>-0.016797</td>\n",
       "      <td>0.015012</td>\n",
       "      <td>0.034683</td>\n",
       "      <td>-0.013831</td>\n",
       "      <td>0.037747</td>\n",
       "      <td>-0.040881</td>\n",
       "      <td>0.006171</td>\n",
       "      <td>...</td>\n",
       "      <td>0.029442</td>\n",
       "      <td>-0.005255</td>\n",
       "      <td>0.006472</td>\n",
       "      <td>0.003765</td>\n",
       "      <td>-0.023333</td>\n",
       "      <td>-0.057144</td>\n",
       "      <td>0.018355</td>\n",
       "      <td>0.048978</td>\n",
       "      <td>0.032675</td>\n",
       "      <td>0.041624</td>\n",
       "    </tr>\n",
       "    <tr>\n",
       "      <th>LV5</th>\n",
       "      <td>-0.035077</td>\n",
       "      <td>-0.038190</td>\n",
       "      <td>-0.008507</td>\n",
       "      <td>0.000203</td>\n",
       "      <td>-0.010666</td>\n",
       "      <td>-0.002614</td>\n",
       "      <td>0.013233</td>\n",
       "      <td>-0.005662</td>\n",
       "      <td>-0.022220</td>\n",
       "      <td>0.000116</td>\n",
       "      <td>...</td>\n",
       "      <td>0.036306</td>\n",
       "      <td>-0.058390</td>\n",
       "      <td>-0.036769</td>\n",
       "      <td>0.014124</td>\n",
       "      <td>-0.010000</td>\n",
       "      <td>-0.008742</td>\n",
       "      <td>0.025883</td>\n",
       "      <td>-0.023848</td>\n",
       "      <td>-0.034297</td>\n",
       "      <td>-0.003898</td>\n",
       "    </tr>\n",
       "  </tbody>\n",
       "</table>\n",
       "<p>5 rows × 4091 columns</p>\n",
       "</div>"
      ],
      "text/plain": [
       "     20096_1-Size_of_red_wine_glass_drunk_small_125ml  \\\n",
       "LV1                                          0.005032   \n",
       "LV2                                          0.022757   \n",
       "LV3                                         -0.014583   \n",
       "LV4                                         -0.007432   \n",
       "LV5                                         -0.035077   \n",
       "\n",
       "     2345-Ever_had_bowel_cancer_screening  \\\n",
       "LV1                             -0.017742   \n",
       "LV2                             -0.002494   \n",
       "LV3                             -0.009334   \n",
       "LV4                             -0.029053   \n",
       "LV5                             -0.038190   \n",
       "\n",
       "     N49-Diagnoses_main_ICD10_N49_Inflammatory_disorders_of_male_genital_organs_not_elsewhere_classified  \\\n",
       "LV1                                          -0.000063                                                     \n",
       "LV2                                          -0.022456                                                     \n",
       "LV3                                          -0.008777                                                     \n",
       "LV4                                          -0.031635                                                     \n",
       "LV5                                          -0.008507                                                     \n",
       "\n",
       "     100011_raw-Iron  5221-Index_of_best_refractometry_result_right  \\\n",
       "LV1        -0.027630                                      -0.035386   \n",
       "LV2        -0.006039                                       0.014805   \n",
       "LV3        -0.016107                                      -0.026012   \n",
       "LV4        -0.016797                                       0.015012   \n",
       "LV5         0.000203                                      -0.010666   \n",
       "\n",
       "     20003_1141150624-Treatmentmedication_code_zomig_25mg_tablet  \\\n",
       "LV1                                           0.011002             \n",
       "LV2                                           0.029324             \n",
       "LV3                                          -0.006325             \n",
       "LV4                                           0.034683             \n",
       "LV5                                          -0.002614             \n",
       "\n",
       "     S69-Diagnoses_main_ICD10_S69_Other_and_unspecified_injuries_of_wrist_and_hand  \\\n",
       "LV1                                           0.010724                               \n",
       "LV2                                          -0.020111                               \n",
       "LV3                                          -0.019086                               \n",
       "LV4                                          -0.013831                               \n",
       "LV5                                           0.013233                               \n",
       "\n",
       "     20024_1136-Job_code_deduced_Information_and_communication_technology_managers  \\\n",
       "LV1                                           0.010446                               \n",
       "LV2                                          -0.029098                               \n",
       "LV3                                          -0.027593                               \n",
       "LV4                                           0.037747                               \n",
       "LV5                                          -0.005662                               \n",
       "\n",
       "     20002_1385-Noncancer_illness_code_selfreported_allergy_or_anaphylactic_reaction_to_food  \\\n",
       "LV1                                          -0.018710                                         \n",
       "LV2                                          -0.028098                                         \n",
       "LV3                                           0.009968                                         \n",
       "LV4                                          -0.040881                                         \n",
       "LV5                                          -0.022220                                         \n",
       "\n",
       "     G6_SLEEPAPNO-Sleep_apnoea  ...  \\\n",
       "LV1                   0.010722  ...   \n",
       "LV2                  -0.011183  ...   \n",
       "LV3                  -0.026543  ...   \n",
       "LV4                   0.006171  ...   \n",
       "LV5                   0.000116  ...   \n",
       "\n",
       "     Astle_et_al_2016_Sum_basophil_neutrophil_counts  RA_OKADA_TRANS_ETHNIC  \\\n",
       "LV1                                        -0.077884              -0.059427   \n",
       "LV2                                         0.022188              -0.004523   \n",
       "LV3                                         0.041333              -0.015025   \n",
       "LV4                                         0.029442              -0.005255   \n",
       "LV5                                         0.036306              -0.058390   \n",
       "\n",
       "     pgc.scz2  PGC_ADHD_EUR_2017  MAGIC_FastingGlucose  \\\n",
       "LV1  0.014250           0.011559              0.010034   \n",
       "LV2  0.044796          -0.003497              0.036967   \n",
       "LV3 -0.050110           0.034439             -0.023318   \n",
       "LV4  0.006472           0.003765             -0.023333   \n",
       "LV5 -0.036769           0.014124             -0.010000   \n",
       "\n",
       "     Astle_et_al_2016_Red_blood_cell_count  SSGAC_Depressive_Symptoms  \\\n",
       "LV1                              -0.007861                   0.050615   \n",
       "LV2                               0.018417                  -0.002459   \n",
       "LV3                              -0.030491                  -0.003833   \n",
       "LV4                              -0.057144                   0.018355   \n",
       "LV5                              -0.008742                   0.025883   \n",
       "\n",
       "     BCAC_ER_positive_BreastCancer_EUR  IBD.EUR.Inflammatory_Bowel_Disease  \\\n",
       "LV1                          -0.024714                           -0.016299   \n",
       "LV2                          -0.019084                            0.023447   \n",
       "LV3                          -0.017156                            0.013962   \n",
       "LV4                           0.048978                            0.032675   \n",
       "LV5                          -0.023848                           -0.034297   \n",
       "\n",
       "     Astle_et_al_2016_High_light_scatter_reticulocyte_count  \n",
       "LV1                                           0.012266       \n",
       "LV2                                          -0.014293       \n",
       "LV3                                          -0.053326       \n",
       "LV4                                           0.041624       \n",
       "LV5                                          -0.003898       \n",
       "\n",
       "[5 rows x 4091 columns]"
      ]
     },
     "execution_count": 19,
     "metadata": {},
     "output_type": "execute_result"
    }
   ],
   "source": [
    "phenomexcan_projection.head()"
   ]
  },
  {
   "cell_type": "markdown",
   "metadata": {},
   "source": [
    "## Save"
   ]
  },
  {
   "cell_type": "code",
   "execution_count": 20,
   "metadata": {},
   "outputs": [
    {
     "data": {
      "text/plain": [
       "PosixPath('/media/miltondp/Elements1/projects/phenoplier/results/drug_disease_analyses/data/spredixcan-most_signif-projection.pkl')"
      ]
     },
     "metadata": {},
     "output_type": "display_data"
    }
   ],
   "source": [
    "output_file = Path(\n",
    "    OUTPUT_DATA_DIR,\n",
    "    \"spredixcan-most_signif-projection.pkl\"\n",
    ").resolve()\n",
    "display(output_file)"
   ]
  },
  {
   "cell_type": "code",
   "execution_count": 21,
   "metadata": {},
   "outputs": [],
   "source": [
    "phenomexcan_projection.to_pickle(output_file)"
   ]
  },
  {
   "cell_type": "code",
   "execution_count": null,
   "metadata": {},
   "outputs": [],
   "source": []
  }
 ],
 "metadata": {
  "jupytext": {
   "formats": "ipynb,py//py:percent"
  },
  "kernelspec": {
   "display_name": "Python 3",
   "language": "python",
   "name": "python3"
  },
  "language_info": {
   "codemirror_mode": {
    "name": "ipython",
    "version": 3
   },
   "file_extension": ".py",
   "mimetype": "text/x-python",
   "name": "python",
   "nbconvert_exporter": "python",
   "pygments_lexer": "ipython3",
   "version": "3.8.6"
  },
  "papermill": {
   "default_parameters": {},
   "duration": 4334.257345,
   "end_time": "2020-12-18T23:50:34.771313",
   "environment_variables": {},
   "exception": null,
   "input_path": "15_drug_disease_associations/000-spredixcan_most_significant.ipynb",
   "output_path": "15_drug_disease_associations/000-spredixcan_most_significant.run.ipynb",
   "parameters": {},
   "start_time": "2020-12-18T22:38:20.513968",
   "version": "2.2.2"
  }
 },
 "nbformat": 4,
 "nbformat_minor": 4
}
