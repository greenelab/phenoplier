{
 "cells": [
  {
   "cell_type": "markdown",
   "metadata": {
    "papermill": {
     "duration": 0.018023,
     "end_time": "2021-04-22T13:42:47.619662",
     "exception": false,
     "start_time": "2021-04-22T13:42:47.601639",
     "status": "completed"
    },
    "tags": []
   },
   "source": [
    "# Description"
   ]
  },
  {
   "cell_type": "markdown",
   "metadata": {
    "papermill": {
     "duration": 0.014082,
     "end_time": "2021-04-22T13:42:47.647464",
     "exception": false,
     "start_time": "2021-04-22T13:42:47.633382",
     "status": "completed"
    },
    "tags": []
   },
   "source": [
    "**TODO**: should probably be moved to preprocessing folder."
   ]
  },
  {
   "cell_type": "markdown",
   "metadata": {
    "papermill": {
     "duration": 0.013154,
     "end_time": "2021-04-22T13:42:47.673883",
     "exception": false,
     "start_time": "2021-04-22T13:42:47.660729",
     "status": "completed"
    },
    "tags": []
   },
   "source": [
    "# Modules loading"
   ]
  },
  {
   "cell_type": "code",
   "execution_count": 1,
   "metadata": {
    "execution": {
     "iopub.execute_input": "2021-04-22T13:42:47.704077Z",
     "iopub.status.busy": "2021-04-22T13:42:47.703695Z",
     "iopub.status.idle": "2021-04-22T13:42:47.711648Z",
     "shell.execute_reply": "2021-04-22T13:42:47.711214Z"
    },
    "papermill": {
     "duration": 0.024629,
     "end_time": "2021-04-22T13:42:47.711773",
     "exception": false,
     "start_time": "2021-04-22T13:42:47.687144",
     "status": "completed"
    },
    "tags": []
   },
   "outputs": [],
   "source": [
    "%load_ext autoreload\n",
    "%autoreload 2"
   ]
  },
  {
   "cell_type": "code",
   "execution_count": 2,
   "metadata": {
    "execution": {
     "iopub.execute_input": "2021-04-22T13:42:47.742069Z",
     "iopub.status.busy": "2021-04-22T13:42:47.741697Z",
     "iopub.status.idle": "2021-04-22T13:42:48.147321Z",
     "shell.execute_reply": "2021-04-22T13:42:48.146845Z"
    },
    "papermill": {
     "duration": 0.421822,
     "end_time": "2021-04-22T13:42:48.147428",
     "exception": false,
     "start_time": "2021-04-22T13:42:47.725606",
     "status": "completed"
    },
    "tags": []
   },
   "outputs": [],
   "source": [
    "from pathlib import Path\n",
    "\n",
    "import pandas as pd\n",
    "\n",
    "import conf\n",
    "from entity import Gene"
   ]
  },
  {
   "cell_type": "markdown",
   "metadata": {
    "papermill": {
     "duration": 0.015152,
     "end_time": "2021-04-22T13:42:48.178431",
     "exception": false,
     "start_time": "2021-04-22T13:42:48.163279",
     "status": "completed"
    },
    "tags": []
   },
   "source": [
    "# Settings"
   ]
  },
  {
   "cell_type": "code",
   "execution_count": 3,
   "metadata": {
    "execution": {
     "iopub.execute_input": "2021-04-22T13:42:48.208173Z",
     "iopub.status.busy": "2021-04-22T13:42:48.207773Z",
     "iopub.status.idle": "2021-04-22T13:42:48.220335Z",
     "shell.execute_reply": "2021-04-22T13:42:48.219956Z"
    },
    "papermill": {
     "duration": 0.028564,
     "end_time": "2021-04-22T13:42:48.220424",
     "exception": false,
     "start_time": "2021-04-22T13:42:48.191860",
     "status": "completed"
    },
    "tags": []
   },
   "outputs": [
    {
     "data": {
      "text/plain": [
       "PosixPath('/home/miltondp/projects/labs/greenelab/phenoplier/base/results/drug_disease_analyses/lincs')"
      ]
     },
     "metadata": {},
     "output_type": "display_data"
    }
   ],
   "source": [
    "OUTPUT_DATA_DIR = Path(conf.RESULTS[\"DRUG_DISEASE_ANALYSES\"], \"lincs\")\n",
    "display(OUTPUT_DATA_DIR)\n",
    "OUTPUT_DATA_DIR.mkdir(parents=True, exist_ok=True)"
   ]
  },
  {
   "cell_type": "markdown",
   "metadata": {
    "papermill": {
     "duration": 0.013692,
     "end_time": "2021-04-22T13:42:48.248375",
     "exception": false,
     "start_time": "2021-04-22T13:42:48.234683",
     "status": "completed"
    },
    "tags": []
   },
   "source": [
    "# Load LINCS consensi drugbank (Daniel)"
   ]
  },
  {
   "cell_type": "code",
   "execution_count": 4,
   "metadata": {
    "execution": {
     "iopub.execute_input": "2021-04-22T13:42:48.278379Z",
     "iopub.status.busy": "2021-04-22T13:42:48.278005Z",
     "iopub.status.idle": "2021-04-22T13:42:48.286270Z",
     "shell.execute_reply": "2021-04-22T13:42:48.285895Z"
    },
    "papermill": {
     "duration": 0.024349,
     "end_time": "2021-04-22T13:42:48.286359",
     "exception": false,
     "start_time": "2021-04-22T13:42:48.262010",
     "status": "completed"
    },
    "tags": []
   },
   "outputs": [
    {
     "data": {
      "text/plain": [
       "PosixPath('/home/miltondp/projects/labs/greenelab/phenoplier/base/data/hetionet/lincs-v2.0/consensi-drugbank.tsv.bz2')"
      ]
     },
     "metadata": {},
     "output_type": "display_data"
    }
   ],
   "source": [
    "# TODO: hardcoded\n",
    "input_file = Path(\n",
    "    conf.DATA_DIR, \"hetionet\", \"lincs-v2.0\", \"consensi-drugbank.tsv.bz2\"\n",
    ").resolve()\n",
    "\n",
    "display(input_file)"
   ]
  },
  {
   "cell_type": "code",
   "execution_count": 5,
   "metadata": {
    "execution": {
     "iopub.execute_input": "2021-04-22T13:42:48.317734Z",
     "iopub.status.busy": "2021-04-22T13:42:48.317345Z",
     "iopub.status.idle": "2021-04-22T13:42:52.106350Z",
     "shell.execute_reply": "2021-04-22T13:42:52.105951Z"
    },
    "papermill": {
     "duration": 3.805618,
     "end_time": "2021-04-22T13:42:52.106452",
     "exception": false,
     "start_time": "2021-04-22T13:42:48.300834",
     "status": "completed"
    },
    "tags": []
   },
   "outputs": [],
   "source": [
    "lincs_data = pd.read_csv(input_file, sep=\"\\t\", index_col=\"perturbagen\").T"
   ]
  },
  {
   "cell_type": "code",
   "execution_count": 6,
   "metadata": {
    "execution": {
     "iopub.execute_input": "2021-04-22T13:42:52.141201Z",
     "iopub.status.busy": "2021-04-22T13:42:52.140836Z",
     "iopub.status.idle": "2021-04-22T13:42:52.149175Z",
     "shell.execute_reply": "2021-04-22T13:42:52.148810Z"
    },
    "papermill": {
     "duration": 0.026168,
     "end_time": "2021-04-22T13:42:52.149262",
     "exception": false,
     "start_time": "2021-04-22T13:42:52.123094",
     "status": "completed"
    },
    "tags": []
   },
   "outputs": [
    {
     "data": {
      "text/plain": [
       "(7467, 1170)"
      ]
     },
     "execution_count": 6,
     "metadata": {},
     "output_type": "execute_result"
    }
   ],
   "source": [
    "lincs_data.shape"
   ]
  },
  {
   "cell_type": "code",
   "execution_count": 7,
   "metadata": {
    "execution": {
     "iopub.execute_input": "2021-04-22T13:42:52.180365Z",
     "iopub.status.busy": "2021-04-22T13:42:52.180000Z",
     "iopub.status.idle": "2021-04-22T13:42:52.201241Z",
     "shell.execute_reply": "2021-04-22T13:42:52.200862Z"
    },
    "papermill": {
     "duration": 0.037583,
     "end_time": "2021-04-22T13:42:52.201331",
     "exception": false,
     "start_time": "2021-04-22T13:42:52.163748",
     "status": "completed"
    },
    "tags": []
   },
   "outputs": [
    {
     "data": {
      "text/html": [
       "<div>\n",
       "<style scoped>\n",
       "    .dataframe tbody tr th:only-of-type {\n",
       "        vertical-align: middle;\n",
       "    }\n",
       "\n",
       "    .dataframe tbody tr th {\n",
       "        vertical-align: top;\n",
       "    }\n",
       "\n",
       "    .dataframe thead th {\n",
       "        text-align: right;\n",
       "    }\n",
       "</style>\n",
       "<table border=\"1\" class=\"dataframe\">\n",
       "  <thead>\n",
       "    <tr style=\"text-align: right;\">\n",
       "      <th>perturbagen</th>\n",
       "      <th>DB00014</th>\n",
       "      <th>DB00091</th>\n",
       "      <th>DB00121</th>\n",
       "      <th>DB00130</th>\n",
       "      <th>DB00131</th>\n",
       "      <th>DB00132</th>\n",
       "      <th>DB00136</th>\n",
       "      <th>DB00140</th>\n",
       "      <th>DB00146</th>\n",
       "      <th>DB00150</th>\n",
       "      <th>...</th>\n",
       "      <th>DB08995</th>\n",
       "      <th>DB09002</th>\n",
       "      <th>DB09004</th>\n",
       "      <th>DB09009</th>\n",
       "      <th>DB09010</th>\n",
       "      <th>DB09015</th>\n",
       "      <th>DB09019</th>\n",
       "      <th>DB09020</th>\n",
       "      <th>DB09022</th>\n",
       "      <th>DB09023</th>\n",
       "    </tr>\n",
       "  </thead>\n",
       "  <tbody>\n",
       "    <tr>\n",
       "      <th>100</th>\n",
       "      <td>-1.001</td>\n",
       "      <td>-1.835</td>\n",
       "      <td>1.391</td>\n",
       "      <td>1.132</td>\n",
       "      <td>0.257</td>\n",
       "      <td>1.932</td>\n",
       "      <td>0.508</td>\n",
       "      <td>1.408</td>\n",
       "      <td>0.777</td>\n",
       "      <td>0.032</td>\n",
       "      <td>...</td>\n",
       "      <td>-1.692</td>\n",
       "      <td>-0.516</td>\n",
       "      <td>-1.435</td>\n",
       "      <td>-0.317</td>\n",
       "      <td>-0.012</td>\n",
       "      <td>0.641</td>\n",
       "      <td>-0.230</td>\n",
       "      <td>-0.518</td>\n",
       "      <td>-0.177</td>\n",
       "      <td>2.146</td>\n",
       "    </tr>\n",
       "    <tr>\n",
       "      <th>1000</th>\n",
       "      <td>1.146</td>\n",
       "      <td>-1.863</td>\n",
       "      <td>0.011</td>\n",
       "      <td>-1.020</td>\n",
       "      <td>1.143</td>\n",
       "      <td>-0.115</td>\n",
       "      <td>1.327</td>\n",
       "      <td>0.310</td>\n",
       "      <td>-1.853</td>\n",
       "      <td>0.872</td>\n",
       "      <td>...</td>\n",
       "      <td>0.354</td>\n",
       "      <td>0.498</td>\n",
       "      <td>0.268</td>\n",
       "      <td>-1.084</td>\n",
       "      <td>-0.142</td>\n",
       "      <td>-0.077</td>\n",
       "      <td>0.633</td>\n",
       "      <td>-1.807</td>\n",
       "      <td>0.032</td>\n",
       "      <td>0.135</td>\n",
       "    </tr>\n",
       "    <tr>\n",
       "      <th>10000</th>\n",
       "      <td>-0.693</td>\n",
       "      <td>1.694</td>\n",
       "      <td>-0.804</td>\n",
       "      <td>-0.164</td>\n",
       "      <td>1.145</td>\n",
       "      <td>-1.465</td>\n",
       "      <td>1.221</td>\n",
       "      <td>-0.747</td>\n",
       "      <td>0.829</td>\n",
       "      <td>-0.961</td>\n",
       "      <td>...</td>\n",
       "      <td>-1.196</td>\n",
       "      <td>-0.230</td>\n",
       "      <td>-1.049</td>\n",
       "      <td>-0.347</td>\n",
       "      <td>0.586</td>\n",
       "      <td>0.865</td>\n",
       "      <td>-0.021</td>\n",
       "      <td>2.180</td>\n",
       "      <td>-0.956</td>\n",
       "      <td>0.105</td>\n",
       "    </tr>\n",
       "    <tr>\n",
       "      <th>10001</th>\n",
       "      <td>-0.037</td>\n",
       "      <td>0.383</td>\n",
       "      <td>0.269</td>\n",
       "      <td>-0.997</td>\n",
       "      <td>0.185</td>\n",
       "      <td>-0.536</td>\n",
       "      <td>0.424</td>\n",
       "      <td>-0.119</td>\n",
       "      <td>-1.313</td>\n",
       "      <td>0.579</td>\n",
       "      <td>...</td>\n",
       "      <td>-0.343</td>\n",
       "      <td>0.116</td>\n",
       "      <td>-0.245</td>\n",
       "      <td>-0.127</td>\n",
       "      <td>-1.367</td>\n",
       "      <td>0.149</td>\n",
       "      <td>0.117</td>\n",
       "      <td>2.084</td>\n",
       "      <td>1.178</td>\n",
       "      <td>0.772</td>\n",
       "    </tr>\n",
       "    <tr>\n",
       "      <th>10005</th>\n",
       "      <td>0.162</td>\n",
       "      <td>-0.899</td>\n",
       "      <td>0.105</td>\n",
       "      <td>-0.090</td>\n",
       "      <td>-1.291</td>\n",
       "      <td>1.404</td>\n",
       "      <td>0.185</td>\n",
       "      <td>0.157</td>\n",
       "      <td>-0.327</td>\n",
       "      <td>-0.026</td>\n",
       "      <td>...</td>\n",
       "      <td>-0.136</td>\n",
       "      <td>-1.115</td>\n",
       "      <td>-0.280</td>\n",
       "      <td>0.200</td>\n",
       "      <td>0.638</td>\n",
       "      <td>-0.197</td>\n",
       "      <td>-0.360</td>\n",
       "      <td>-2.302</td>\n",
       "      <td>-0.117</td>\n",
       "      <td>-0.167</td>\n",
       "    </tr>\n",
       "  </tbody>\n",
       "</table>\n",
       "<p>5 rows × 1170 columns</p>\n",
       "</div>"
      ],
      "text/plain": [
       "perturbagen  DB00014  DB00091  DB00121  DB00130  DB00131  DB00132  DB00136  \\\n",
       "100           -1.001   -1.835    1.391    1.132    0.257    1.932    0.508   \n",
       "1000           1.146   -1.863    0.011   -1.020    1.143   -0.115    1.327   \n",
       "10000         -0.693    1.694   -0.804   -0.164    1.145   -1.465    1.221   \n",
       "10001         -0.037    0.383    0.269   -0.997    0.185   -0.536    0.424   \n",
       "10005          0.162   -0.899    0.105   -0.090   -1.291    1.404    0.185   \n",
       "\n",
       "perturbagen  DB00140  DB00146  DB00150  ...  DB08995  DB09002  DB09004  \\\n",
       "100            1.408    0.777    0.032  ...   -1.692   -0.516   -1.435   \n",
       "1000           0.310   -1.853    0.872  ...    0.354    0.498    0.268   \n",
       "10000         -0.747    0.829   -0.961  ...   -1.196   -0.230   -1.049   \n",
       "10001         -0.119   -1.313    0.579  ...   -0.343    0.116   -0.245   \n",
       "10005          0.157   -0.327   -0.026  ...   -0.136   -1.115   -0.280   \n",
       "\n",
       "perturbagen  DB09009  DB09010  DB09015  DB09019  DB09020  DB09022  DB09023  \n",
       "100           -0.317   -0.012    0.641   -0.230   -0.518   -0.177    2.146  \n",
       "1000          -1.084   -0.142   -0.077    0.633   -1.807    0.032    0.135  \n",
       "10000         -0.347    0.586    0.865   -0.021    2.180   -0.956    0.105  \n",
       "10001         -0.127   -1.367    0.149    0.117    2.084    1.178    0.772  \n",
       "10005          0.200    0.638   -0.197   -0.360   -2.302   -0.117   -0.167  \n",
       "\n",
       "[5 rows x 1170 columns]"
      ]
     },
     "execution_count": 7,
     "metadata": {},
     "output_type": "execute_result"
    }
   ],
   "source": [
    "lincs_data.head()"
   ]
  },
  {
   "cell_type": "code",
   "execution_count": 8,
   "metadata": {
    "execution": {
     "iopub.execute_input": "2021-04-22T13:42:52.234832Z",
     "iopub.status.busy": "2021-04-22T13:42:52.234467Z",
     "iopub.status.idle": "2021-04-22T13:42:52.242244Z",
     "shell.execute_reply": "2021-04-22T13:42:52.241863Z"
    },
    "papermill": {
     "duration": 0.025407,
     "end_time": "2021-04-22T13:42:52.242333",
     "exception": false,
     "start_time": "2021-04-22T13:42:52.216926",
     "status": "completed"
    },
    "tags": []
   },
   "outputs": [],
   "source": [
    "assert lincs_data.index.is_unique"
   ]
  },
  {
   "cell_type": "code",
   "execution_count": 9,
   "metadata": {
    "execution": {
     "iopub.execute_input": "2021-04-22T13:42:52.275109Z",
     "iopub.status.busy": "2021-04-22T13:42:52.274743Z",
     "iopub.status.idle": "2021-04-22T13:42:52.282630Z",
     "shell.execute_reply": "2021-04-22T13:42:52.282260Z"
    },
    "papermill": {
     "duration": 0.025116,
     "end_time": "2021-04-22T13:42:52.282718",
     "exception": false,
     "start_time": "2021-04-22T13:42:52.257602",
     "status": "completed"
    },
    "tags": []
   },
   "outputs": [],
   "source": [
    "# drubback ids are consistent\n",
    "_tmp = lincs_data.columns.map(len).unique()\n",
    "assert _tmp.shape[0] == 1"
   ]
  },
  {
   "cell_type": "code",
   "execution_count": 10,
   "metadata": {
    "execution": {
     "iopub.execute_input": "2021-04-22T13:42:52.315461Z",
     "iopub.status.busy": "2021-04-22T13:42:52.315086Z",
     "iopub.status.idle": "2021-04-22T13:42:52.321616Z",
     "shell.execute_reply": "2021-04-22T13:42:52.321921Z"
    },
    "papermill": {
     "duration": 0.02407,
     "end_time": "2021-04-22T13:42:52.322028",
     "exception": false,
     "start_time": "2021-04-22T13:42:52.297958",
     "status": "completed"
    },
    "tags": []
   },
   "outputs": [],
   "source": [
    "assert lincs_data.columns.is_unique"
   ]
  },
  {
   "cell_type": "markdown",
   "metadata": {
    "papermill": {
     "duration": 0.014756,
     "end_time": "2021-04-22T13:42:52.352196",
     "exception": false,
     "start_time": "2021-04-22T13:42:52.337440",
     "status": "completed"
    },
    "tags": []
   },
   "source": [
    "## Gene IDs to Gene names"
   ]
  },
  {
   "cell_type": "code",
   "execution_count": 11,
   "metadata": {
    "execution": {
     "iopub.execute_input": "2021-04-22T13:42:52.384456Z",
     "iopub.status.busy": "2021-04-22T13:42:52.384092Z",
     "iopub.status.idle": "2021-04-22T13:42:52.603390Z",
     "shell.execute_reply": "2021-04-22T13:42:52.603683Z"
    },
    "papermill": {
     "duration": 0.236691,
     "end_time": "2021-04-22T13:42:52.603797",
     "exception": false,
     "start_time": "2021-04-22T13:42:52.367106",
     "status": "completed"
    },
    "tags": []
   },
   "outputs": [],
   "source": [
    "from rpy2.robjects.packages import importr\n",
    "import rpy2.robjects as robjects\n",
    "from rpy2.robjects import pandas2ri\n",
    "\n",
    "pandas2ri.activate()"
   ]
  },
  {
   "cell_type": "code",
   "execution_count": 12,
   "metadata": {
    "execution": {
     "iopub.execute_input": "2021-04-22T13:42:52.636657Z",
     "iopub.status.busy": "2021-04-22T13:42:52.636294Z",
     "iopub.status.idle": "2021-04-22T13:42:55.942861Z",
     "shell.execute_reply": "2021-04-22T13:42:55.942482Z"
    },
    "papermill": {
     "duration": 3.323836,
     "end_time": "2021-04-22T13:42:55.942951",
     "exception": false,
     "start_time": "2021-04-22T13:42:52.619115",
     "status": "completed"
    },
    "tags": []
   },
   "outputs": [],
   "source": [
    "clusterProfiler = importr(\"clusterProfiler\")"
   ]
  },
  {
   "cell_type": "code",
   "execution_count": 13,
   "metadata": {
    "execution": {
     "iopub.execute_input": "2021-04-22T13:42:55.975909Z",
     "iopub.status.busy": "2021-04-22T13:42:55.975546Z",
     "iopub.status.idle": "2021-04-22T13:42:55.984445Z",
     "shell.execute_reply": "2021-04-22T13:42:55.984079Z"
    },
    "papermill": {
     "duration": 0.026301,
     "end_time": "2021-04-22T13:42:55.984530",
     "exception": false,
     "start_time": "2021-04-22T13:42:55.958229",
     "status": "completed"
    },
    "tags": []
   },
   "outputs": [],
   "source": [
    "# lincs_data = lincs_data.rename(columns=GENE_ENTREZ_ID_TO_SYMBOL).rename(columns=GENE_SYMBOL_TO_ENSEMBL_ID).T"
   ]
  },
  {
   "cell_type": "code",
   "execution_count": 14,
   "metadata": {
    "execution": {
     "iopub.execute_input": "2021-04-22T13:42:56.017587Z",
     "iopub.status.busy": "2021-04-22T13:42:56.017210Z",
     "iopub.status.idle": "2021-04-22T13:42:56.024061Z",
     "shell.execute_reply": "2021-04-22T13:42:56.024367Z"
    },
    "papermill": {
     "duration": 0.024697,
     "end_time": "2021-04-22T13:42:56.024474",
     "exception": false,
     "start_time": "2021-04-22T13:42:55.999777",
     "status": "completed"
    },
    "tags": []
   },
   "outputs": [],
   "source": [
    "# _gene_id_len = lincs_data.index.map(len)"
   ]
  },
  {
   "cell_type": "code",
   "execution_count": 15,
   "metadata": {
    "execution": {
     "iopub.execute_input": "2021-04-22T13:42:56.057402Z",
     "iopub.status.busy": "2021-04-22T13:42:56.057026Z",
     "iopub.status.idle": "2021-04-22T13:42:56.064479Z",
     "shell.execute_reply": "2021-04-22T13:42:56.064112Z"
    },
    "papermill": {
     "duration": 0.024671,
     "end_time": "2021-04-22T13:42:56.064569",
     "exception": false,
     "start_time": "2021-04-22T13:42:56.039898",
     "status": "completed"
    },
    "tags": []
   },
   "outputs": [],
   "source": [
    "# _not_mapped_genes = lincs_data[_gene_id_len != 15].index.copy()"
   ]
  },
  {
   "cell_type": "code",
   "execution_count": 16,
   "metadata": {
    "execution": {
     "iopub.execute_input": "2021-04-22T13:42:56.100102Z",
     "iopub.status.busy": "2021-04-22T13:42:56.099704Z",
     "iopub.status.idle": "2021-04-22T13:42:56.107324Z",
     "shell.execute_reply": "2021-04-22T13:42:56.106969Z"
    },
    "papermill": {
     "duration": 0.026414,
     "end_time": "2021-04-22T13:42:56.107417",
     "exception": false,
     "start_time": "2021-04-22T13:42:56.081003",
     "status": "completed"
    },
    "tags": []
   },
   "outputs": [],
   "source": [
    "# _not_mapped_genes"
   ]
  },
  {
   "cell_type": "code",
   "execution_count": 17,
   "metadata": {
    "execution": {
     "iopub.execute_input": "2021-04-22T13:42:56.142416Z",
     "iopub.status.busy": "2021-04-22T13:42:56.142037Z",
     "iopub.status.idle": "2021-04-22T13:42:56.647078Z",
     "shell.execute_reply": "2021-04-22T13:42:56.646685Z"
    },
    "papermill": {
     "duration": 0.523235,
     "end_time": "2021-04-22T13:42:56.647169",
     "exception": false,
     "start_time": "2021-04-22T13:42:56.123934",
     "status": "completed"
    },
    "tags": []
   },
   "outputs": [
    {
     "name": "stderr",
     "output_type": "stream",
     "text": [
      "R[write to console]: Loading required package: org.Hs.eg.db\n",
      "\n"
     ]
    },
    {
     "name": "stderr",
     "output_type": "stream",
     "text": [
      "R[write to console]: Loading required package: AnnotationDbi\n",
      "\n"
     ]
    },
    {
     "name": "stderr",
     "output_type": "stream",
     "text": [
      "R[write to console]: Loading required package: stats4\n",
      "\n"
     ]
    },
    {
     "name": "stderr",
     "output_type": "stream",
     "text": [
      "R[write to console]: Loading required package: BiocGenerics\n",
      "\n"
     ]
    },
    {
     "name": "stderr",
     "output_type": "stream",
     "text": [
      "R[write to console]: Loading required package: parallel\n",
      "\n"
     ]
    },
    {
     "name": "stderr",
     "output_type": "stream",
     "text": [
      "R[write to console]: \n",
      "Attaching package: ‘BiocGenerics’\n",
      "\n",
      "\n"
     ]
    },
    {
     "name": "stderr",
     "output_type": "stream",
     "text": [
      "R[write to console]: The following objects are masked from ‘package:parallel’:\n",
      "\n",
      "    clusterApply, clusterApplyLB, clusterCall, clusterEvalQ,\n",
      "    clusterExport, clusterMap, parApply, parCapply, parLapply,\n",
      "    parLapplyLB, parRapply, parSapply, parSapplyLB\n",
      "\n",
      "\n"
     ]
    },
    {
     "name": "stderr",
     "output_type": "stream",
     "text": [
      "R[write to console]: The following objects are masked from ‘package:stats’:\n",
      "\n",
      "    IQR, mad, sd, var, xtabs\n",
      "\n",
      "\n"
     ]
    },
    {
     "name": "stderr",
     "output_type": "stream",
     "text": [
      "R[write to console]: The following objects are masked from ‘package:base’:\n",
      "\n",
      "    anyDuplicated, append, as.data.frame, basename, cbind, colnames,\n",
      "    dirname, do.call, duplicated, eval, evalq, Filter, Find, get, grep,\n",
      "    grepl, intersect, is.unsorted, lapply, Map, mapply, match, mget,\n",
      "    order, paste, pmax, pmax.int, pmin, pmin.int, Position, rank,\n",
      "    rbind, Reduce, rownames, sapply, setdiff, sort, table, tapply,\n",
      "    union, unique, unsplit, which, which.max, which.min\n",
      "\n",
      "\n"
     ]
    },
    {
     "name": "stderr",
     "output_type": "stream",
     "text": [
      "R[write to console]: Loading required package: Biobase\n",
      "\n"
     ]
    },
    {
     "name": "stderr",
     "output_type": "stream",
     "text": [
      "R[write to console]: Welcome to Bioconductor\n",
      "\n",
      "    Vignettes contain introductory material; view with\n",
      "    'browseVignettes()'. To cite Bioconductor, see\n",
      "    'citation(\"Biobase\")', and for packages 'citation(\"pkgname\")'.\n",
      "\n",
      "\n"
     ]
    },
    {
     "name": "stderr",
     "output_type": "stream",
     "text": [
      "R[write to console]: Loading required package: IRanges\n",
      "\n"
     ]
    },
    {
     "name": "stderr",
     "output_type": "stream",
     "text": [
      "R[write to console]: Loading required package: S4Vectors\n",
      "\n"
     ]
    },
    {
     "name": "stderr",
     "output_type": "stream",
     "text": [
      "R[write to console]: \n",
      "Attaching package: ‘S4Vectors’\n",
      "\n",
      "\n"
     ]
    },
    {
     "name": "stderr",
     "output_type": "stream",
     "text": [
      "R[write to console]: The following object is masked from ‘package:base’:\n",
      "\n",
      "    expand.grid\n",
      "\n",
      "\n"
     ]
    },
    {
     "name": "stderr",
     "output_type": "stream",
     "text": [
      "R[write to console]: \n",
      "\n"
     ]
    },
    {
     "name": "stderr",
     "output_type": "stream",
     "text": [
      "R[write to console]: 'select()' returned 1:many mapping between keys and columns\n",
      "\n"
     ]
    }
   ],
   "source": [
    "_now_mapped_genes = clusterProfiler.bitr(\n",
    "    lincs_data.index.tolist(),\n",
    "    fromType=\"ENTREZID\",\n",
    "    toType=\"ENSEMBL\",\n",
    "    OrgDb=\"org.Hs.eg.db\",\n",
    ")"
   ]
  },
  {
   "cell_type": "code",
   "execution_count": 18,
   "metadata": {
    "execution": {
     "iopub.execute_input": "2021-04-22T13:42:56.686998Z",
     "iopub.status.busy": "2021-04-22T13:42:56.686633Z",
     "iopub.status.idle": "2021-04-22T13:42:56.694877Z",
     "shell.execute_reply": "2021-04-22T13:42:56.695172Z"
    },
    "papermill": {
     "duration": 0.029688,
     "end_time": "2021-04-22T13:42:56.695285",
     "exception": false,
     "start_time": "2021-04-22T13:42:56.665597",
     "status": "completed"
    },
    "tags": []
   },
   "outputs": [
    {
     "data": {
      "text/plain": [
       "(8259, 2)"
      ]
     },
     "execution_count": 18,
     "metadata": {},
     "output_type": "execute_result"
    }
   ],
   "source": [
    "_now_mapped_genes.shape"
   ]
  },
  {
   "cell_type": "code",
   "execution_count": 19,
   "metadata": {
    "execution": {
     "iopub.execute_input": "2021-04-22T13:42:56.735803Z",
     "iopub.status.busy": "2021-04-22T13:42:56.735430Z",
     "iopub.status.idle": "2021-04-22T13:42:56.749277Z",
     "shell.execute_reply": "2021-04-22T13:42:56.748948Z"
    },
    "papermill": {
     "duration": 0.03472,
     "end_time": "2021-04-22T13:42:56.749367",
     "exception": false,
     "start_time": "2021-04-22T13:42:56.714647",
     "status": "completed"
    },
    "tags": []
   },
   "outputs": [
    {
     "data": {
      "text/html": [
       "<div>\n",
       "<style scoped>\n",
       "    .dataframe tbody tr th:only-of-type {\n",
       "        vertical-align: middle;\n",
       "    }\n",
       "\n",
       "    .dataframe tbody tr th {\n",
       "        vertical-align: top;\n",
       "    }\n",
       "\n",
       "    .dataframe thead th {\n",
       "        text-align: right;\n",
       "    }\n",
       "</style>\n",
       "<table border=\"1\" class=\"dataframe\">\n",
       "  <thead>\n",
       "    <tr style=\"text-align: right;\">\n",
       "      <th></th>\n",
       "      <th>ENTREZID</th>\n",
       "      <th>ENSEMBL</th>\n",
       "    </tr>\n",
       "  </thead>\n",
       "  <tbody>\n",
       "    <tr>\n",
       "      <th>3</th>\n",
       "      <td>10000</td>\n",
       "      <td>ENSG00000117020</td>\n",
       "    </tr>\n",
       "    <tr>\n",
       "      <th>4</th>\n",
       "      <td>10000</td>\n",
       "      <td>ENSG00000275199</td>\n",
       "    </tr>\n",
       "    <tr>\n",
       "      <th>12</th>\n",
       "      <td>100129361</td>\n",
       "      <td>ENSG00000256537</td>\n",
       "    </tr>\n",
       "    <tr>\n",
       "      <th>13</th>\n",
       "      <td>100129361</td>\n",
       "      <td>ENSG00000262986</td>\n",
       "    </tr>\n",
       "    <tr>\n",
       "      <th>14</th>\n",
       "      <td>100129361</td>\n",
       "      <td>ENSG00000281930</td>\n",
       "    </tr>\n",
       "    <tr>\n",
       "      <th>...</th>\n",
       "      <td>...</td>\n",
       "      <td>...</td>\n",
       "    </tr>\n",
       "    <tr>\n",
       "      <th>8202</th>\n",
       "      <td>9859</td>\n",
       "      <td>ENSG00000276725</td>\n",
       "    </tr>\n",
       "    <tr>\n",
       "      <th>8243</th>\n",
       "      <td>9920</td>\n",
       "      <td>ENSG00000176595</td>\n",
       "    </tr>\n",
       "    <tr>\n",
       "      <th>8244</th>\n",
       "      <td>9920</td>\n",
       "      <td>ENSG00000273645</td>\n",
       "    </tr>\n",
       "    <tr>\n",
       "      <th>8288</th>\n",
       "      <td>9994</td>\n",
       "      <td>ENSG00000118412</td>\n",
       "    </tr>\n",
       "    <tr>\n",
       "      <th>8289</th>\n",
       "      <td>9994</td>\n",
       "      <td>ENSG00000288475</td>\n",
       "    </tr>\n",
       "  </tbody>\n",
       "</table>\n",
       "<p>1232 rows × 2 columns</p>\n",
       "</div>"
      ],
      "text/plain": [
       "       ENTREZID          ENSEMBL\n",
       "3         10000  ENSG00000117020\n",
       "4         10000  ENSG00000275199\n",
       "12    100129361  ENSG00000256537\n",
       "13    100129361  ENSG00000262986\n",
       "14    100129361  ENSG00000281930\n",
       "...         ...              ...\n",
       "8202       9859  ENSG00000276725\n",
       "8243       9920  ENSG00000176595\n",
       "8244       9920  ENSG00000273645\n",
       "8288       9994  ENSG00000118412\n",
       "8289       9994  ENSG00000288475\n",
       "\n",
       "[1232 rows x 2 columns]"
      ]
     },
     "metadata": {},
     "output_type": "display_data"
    }
   ],
   "source": [
    "# some genes have entrez ids that map to several ensembl id\n",
    "display(_now_mapped_genes[_now_mapped_genes[\"ENTREZID\"].duplicated(keep=False)])"
   ]
  },
  {
   "cell_type": "code",
   "execution_count": 20,
   "metadata": {
    "execution": {
     "iopub.execute_input": "2021-04-22T13:42:56.790466Z",
     "iopub.status.busy": "2021-04-22T13:42:56.789827Z",
     "iopub.status.idle": "2021-04-22T13:42:56.801154Z",
     "shell.execute_reply": "2021-04-22T13:42:56.801465Z"
    },
    "papermill": {
     "duration": 0.03253,
     "end_time": "2021-04-22T13:42:56.801576",
     "exception": false,
     "start_time": "2021-04-22T13:42:56.769046",
     "status": "completed"
    },
    "tags": []
   },
   "outputs": [],
   "source": [
    "_now_mapped_genes = _now_mapped_genes.assign(\n",
    "    in_phenomexcan=_now_mapped_genes[\"ENSEMBL\"].apply(\n",
    "        lambda x: x in Gene.GENE_ID_TO_NAME_MAP\n",
    "    )\n",
    ")"
   ]
  },
  {
   "cell_type": "code",
   "execution_count": 21,
   "metadata": {
    "execution": {
     "iopub.execute_input": "2021-04-22T13:42:56.842895Z",
     "iopub.status.busy": "2021-04-22T13:42:56.842530Z",
     "iopub.status.idle": "2021-04-22T13:42:56.851381Z",
     "shell.execute_reply": "2021-04-22T13:42:56.851677Z"
    },
    "papermill": {
     "duration": 0.030577,
     "end_time": "2021-04-22T13:42:56.851793",
     "exception": false,
     "start_time": "2021-04-22T13:42:56.821216",
     "status": "completed"
    },
    "tags": []
   },
   "outputs": [
    {
     "data": {
      "text/plain": [
       "(7125, 3)"
      ]
     },
     "execution_count": 21,
     "metadata": {},
     "output_type": "execute_result"
    }
   ],
   "source": [
    "_now_mapped_genes[_now_mapped_genes[\"in_phenomexcan\"]].shape"
   ]
  },
  {
   "cell_type": "code",
   "execution_count": 22,
   "metadata": {
    "execution": {
     "iopub.execute_input": "2021-04-22T13:42:56.893095Z",
     "iopub.status.busy": "2021-04-22T13:42:56.892665Z",
     "iopub.status.idle": "2021-04-22T13:42:56.903819Z",
     "shell.execute_reply": "2021-04-22T13:42:56.903509Z"
    },
    "papermill": {
     "duration": 0.032554,
     "end_time": "2021-04-22T13:42:56.903912",
     "exception": false,
     "start_time": "2021-04-22T13:42:56.871358",
     "status": "completed"
    },
    "tags": []
   },
   "outputs": [
    {
     "data": {
      "text/html": [
       "<div>\n",
       "<style scoped>\n",
       "    .dataframe tbody tr th:only-of-type {\n",
       "        vertical-align: middle;\n",
       "    }\n",
       "\n",
       "    .dataframe tbody tr th {\n",
       "        vertical-align: top;\n",
       "    }\n",
       "\n",
       "    .dataframe thead th {\n",
       "        text-align: right;\n",
       "    }\n",
       "</style>\n",
       "<table border=\"1\" class=\"dataframe\">\n",
       "  <thead>\n",
       "    <tr style=\"text-align: right;\">\n",
       "      <th></th>\n",
       "      <th>ENTREZID</th>\n",
       "      <th>ENSEMBL</th>\n",
       "      <th>in_phenomexcan</th>\n",
       "    </tr>\n",
       "  </thead>\n",
       "  <tbody>\n",
       "    <tr>\n",
       "      <th>1</th>\n",
       "      <td>100</td>\n",
       "      <td>ENSG00000196839</td>\n",
       "      <td>True</td>\n",
       "    </tr>\n",
       "    <tr>\n",
       "      <th>2</th>\n",
       "      <td>1000</td>\n",
       "      <td>ENSG00000170558</td>\n",
       "      <td>True</td>\n",
       "    </tr>\n",
       "    <tr>\n",
       "      <th>3</th>\n",
       "      <td>10000</td>\n",
       "      <td>ENSG00000117020</td>\n",
       "      <td>True</td>\n",
       "    </tr>\n",
       "    <tr>\n",
       "      <th>4</th>\n",
       "      <td>10000</td>\n",
       "      <td>ENSG00000275199</td>\n",
       "      <td>False</td>\n",
       "    </tr>\n",
       "    <tr>\n",
       "      <th>5</th>\n",
       "      <td>10001</td>\n",
       "      <td>ENSG00000133997</td>\n",
       "      <td>True</td>\n",
       "    </tr>\n",
       "  </tbody>\n",
       "</table>\n",
       "</div>"
      ],
      "text/plain": [
       "  ENTREZID          ENSEMBL  in_phenomexcan\n",
       "1      100  ENSG00000196839            True\n",
       "2     1000  ENSG00000170558            True\n",
       "3    10000  ENSG00000117020            True\n",
       "4    10000  ENSG00000275199           False\n",
       "5    10001  ENSG00000133997            True"
      ]
     },
     "execution_count": 22,
     "metadata": {},
     "output_type": "execute_result"
    }
   ],
   "source": [
    "_now_mapped_genes.head()"
   ]
  },
  {
   "cell_type": "code",
   "execution_count": 23,
   "metadata": {
    "execution": {
     "iopub.execute_input": "2021-04-22T13:42:56.945841Z",
     "iopub.status.busy": "2021-04-22T13:42:56.945466Z",
     "iopub.status.idle": "2021-04-22T13:42:56.956176Z",
     "shell.execute_reply": "2021-04-22T13:42:56.955782Z"
    },
    "papermill": {
     "duration": 0.032351,
     "end_time": "2021-04-22T13:42:56.956267",
     "exception": false,
     "start_time": "2021-04-22T13:42:56.923916",
     "status": "completed"
    },
    "tags": []
   },
   "outputs": [],
   "source": [
    "_now_mapped_genes = _now_mapped_genes[\n",
    "    _now_mapped_genes[\"in_phenomexcan\"]\n",
    "].drop_duplicates(subset=[\"ENTREZID\"])"
   ]
  },
  {
   "cell_type": "code",
   "execution_count": 24,
   "metadata": {
    "execution": {
     "iopub.execute_input": "2021-04-22T13:42:56.997888Z",
     "iopub.status.busy": "2021-04-22T13:42:56.997525Z",
     "iopub.status.idle": "2021-04-22T13:42:57.005835Z",
     "shell.execute_reply": "2021-04-22T13:42:57.005511Z"
    },
    "papermill": {
     "duration": 0.029964,
     "end_time": "2021-04-22T13:42:57.005924",
     "exception": false,
     "start_time": "2021-04-22T13:42:56.975960",
     "status": "completed"
    },
    "tags": []
   },
   "outputs": [
    {
     "data": {
      "text/plain": [
       "(7120, 3)"
      ]
     },
     "execution_count": 24,
     "metadata": {},
     "output_type": "execute_result"
    }
   ],
   "source": [
    "_now_mapped_genes.shape"
   ]
  },
  {
   "cell_type": "code",
   "execution_count": 25,
   "metadata": {
    "execution": {
     "iopub.execute_input": "2021-04-22T13:42:57.049498Z",
     "iopub.status.busy": "2021-04-22T13:42:57.049125Z",
     "iopub.status.idle": "2021-04-22T13:42:57.060105Z",
     "shell.execute_reply": "2021-04-22T13:42:57.060401Z"
    },
    "papermill": {
     "duration": 0.033672,
     "end_time": "2021-04-22T13:42:57.060508",
     "exception": false,
     "start_time": "2021-04-22T13:42:57.026836",
     "status": "completed"
    },
    "tags": []
   },
   "outputs": [
    {
     "data": {
      "text/html": [
       "<div>\n",
       "<style scoped>\n",
       "    .dataframe tbody tr th:only-of-type {\n",
       "        vertical-align: middle;\n",
       "    }\n",
       "\n",
       "    .dataframe tbody tr th {\n",
       "        vertical-align: top;\n",
       "    }\n",
       "\n",
       "    .dataframe thead th {\n",
       "        text-align: right;\n",
       "    }\n",
       "</style>\n",
       "<table border=\"1\" class=\"dataframe\">\n",
       "  <thead>\n",
       "    <tr style=\"text-align: right;\">\n",
       "      <th></th>\n",
       "      <th>ENTREZID</th>\n",
       "      <th>ENSEMBL</th>\n",
       "      <th>in_phenomexcan</th>\n",
       "    </tr>\n",
       "  </thead>\n",
       "  <tbody>\n",
       "    <tr>\n",
       "      <th>1</th>\n",
       "      <td>100</td>\n",
       "      <td>ENSG00000196839</td>\n",
       "      <td>True</td>\n",
       "    </tr>\n",
       "    <tr>\n",
       "      <th>2</th>\n",
       "      <td>1000</td>\n",
       "      <td>ENSG00000170558</td>\n",
       "      <td>True</td>\n",
       "    </tr>\n",
       "    <tr>\n",
       "      <th>3</th>\n",
       "      <td>10000</td>\n",
       "      <td>ENSG00000117020</td>\n",
       "      <td>True</td>\n",
       "    </tr>\n",
       "    <tr>\n",
       "      <th>5</th>\n",
       "      <td>10001</td>\n",
       "      <td>ENSG00000133997</td>\n",
       "      <td>True</td>\n",
       "    </tr>\n",
       "    <tr>\n",
       "      <th>6</th>\n",
       "      <td>10005</td>\n",
       "      <td>ENSG00000101473</td>\n",
       "      <td>True</td>\n",
       "    </tr>\n",
       "  </tbody>\n",
       "</table>\n",
       "</div>"
      ],
      "text/plain": [
       "  ENTREZID          ENSEMBL  in_phenomexcan\n",
       "1      100  ENSG00000196839            True\n",
       "2     1000  ENSG00000170558            True\n",
       "3    10000  ENSG00000117020            True\n",
       "5    10001  ENSG00000133997            True\n",
       "6    10005  ENSG00000101473            True"
      ]
     },
     "execution_count": 25,
     "metadata": {},
     "output_type": "execute_result"
    }
   ],
   "source": [
    "_now_mapped_genes.head()"
   ]
  },
  {
   "cell_type": "code",
   "execution_count": 26,
   "metadata": {
    "execution": {
     "iopub.execute_input": "2021-04-22T13:42:57.105898Z",
     "iopub.status.busy": "2021-04-22T13:42:57.105521Z",
     "iopub.status.idle": "2021-04-22T13:42:57.117170Z",
     "shell.execute_reply": "2021-04-22T13:42:57.116794Z"
    },
    "papermill": {
     "duration": 0.035851,
     "end_time": "2021-04-22T13:42:57.117266",
     "exception": false,
     "start_time": "2021-04-22T13:42:57.081415",
     "status": "completed"
    },
    "tags": []
   },
   "outputs": [],
   "source": [
    "_now_mapped_genes_dict = _now_mapped_genes.set_index(\"ENTREZID\").to_dict()[\"ENSEMBL\"]"
   ]
  },
  {
   "cell_type": "code",
   "execution_count": 27,
   "metadata": {
    "execution": {
     "iopub.execute_input": "2021-04-22T13:42:57.162282Z",
     "iopub.status.busy": "2021-04-22T13:42:57.161917Z",
     "iopub.status.idle": "2021-04-22T13:42:57.212214Z",
     "shell.execute_reply": "2021-04-22T13:42:57.211818Z"
    },
    "papermill": {
     "duration": 0.073042,
     "end_time": "2021-04-22T13:42:57.212334",
     "exception": false,
     "start_time": "2021-04-22T13:42:57.139292",
     "status": "completed"
    },
    "tags": []
   },
   "outputs": [],
   "source": [
    "lincs_data = lincs_data.loc[_now_mapped_genes_dict.keys()].rename(\n",
    "    index=_now_mapped_genes_dict\n",
    ")"
   ]
  },
  {
   "cell_type": "code",
   "execution_count": 28,
   "metadata": {
    "execution": {
     "iopub.execute_input": "2021-04-22T13:42:57.261966Z",
     "iopub.status.busy": "2021-04-22T13:42:57.261604Z",
     "iopub.status.idle": "2021-04-22T13:42:57.282073Z",
     "shell.execute_reply": "2021-04-22T13:42:57.281695Z"
    },
    "papermill": {
     "duration": 0.044194,
     "end_time": "2021-04-22T13:42:57.282164",
     "exception": false,
     "start_time": "2021-04-22T13:42:57.237970",
     "status": "completed"
    },
    "tags": []
   },
   "outputs": [
    {
     "data": {
      "text/html": [
       "<div>\n",
       "<style scoped>\n",
       "    .dataframe tbody tr th:only-of-type {\n",
       "        vertical-align: middle;\n",
       "    }\n",
       "\n",
       "    .dataframe tbody tr th {\n",
       "        vertical-align: top;\n",
       "    }\n",
       "\n",
       "    .dataframe thead th {\n",
       "        text-align: right;\n",
       "    }\n",
       "</style>\n",
       "<table border=\"1\" class=\"dataframe\">\n",
       "  <thead>\n",
       "    <tr style=\"text-align: right;\">\n",
       "      <th>perturbagen</th>\n",
       "      <th>DB00014</th>\n",
       "      <th>DB00091</th>\n",
       "      <th>DB00121</th>\n",
       "      <th>DB00130</th>\n",
       "      <th>DB00131</th>\n",
       "      <th>DB00132</th>\n",
       "      <th>DB00136</th>\n",
       "      <th>DB00140</th>\n",
       "      <th>DB00146</th>\n",
       "      <th>DB00150</th>\n",
       "      <th>...</th>\n",
       "      <th>DB08995</th>\n",
       "      <th>DB09002</th>\n",
       "      <th>DB09004</th>\n",
       "      <th>DB09009</th>\n",
       "      <th>DB09010</th>\n",
       "      <th>DB09015</th>\n",
       "      <th>DB09019</th>\n",
       "      <th>DB09020</th>\n",
       "      <th>DB09022</th>\n",
       "      <th>DB09023</th>\n",
       "    </tr>\n",
       "  </thead>\n",
       "  <tbody>\n",
       "    <tr>\n",
       "      <th>ENSG00000196839</th>\n",
       "      <td>-1.001</td>\n",
       "      <td>-1.835</td>\n",
       "      <td>1.391</td>\n",
       "      <td>1.132</td>\n",
       "      <td>0.257</td>\n",
       "      <td>1.932</td>\n",
       "      <td>0.508</td>\n",
       "      <td>1.408</td>\n",
       "      <td>0.777</td>\n",
       "      <td>0.032</td>\n",
       "      <td>...</td>\n",
       "      <td>-1.692</td>\n",
       "      <td>-0.516</td>\n",
       "      <td>-1.435</td>\n",
       "      <td>-0.317</td>\n",
       "      <td>-0.012</td>\n",
       "      <td>0.641</td>\n",
       "      <td>-0.230</td>\n",
       "      <td>-0.518</td>\n",
       "      <td>-0.177</td>\n",
       "      <td>2.146</td>\n",
       "    </tr>\n",
       "    <tr>\n",
       "      <th>ENSG00000170558</th>\n",
       "      <td>1.146</td>\n",
       "      <td>-1.863</td>\n",
       "      <td>0.011</td>\n",
       "      <td>-1.020</td>\n",
       "      <td>1.143</td>\n",
       "      <td>-0.115</td>\n",
       "      <td>1.327</td>\n",
       "      <td>0.310</td>\n",
       "      <td>-1.853</td>\n",
       "      <td>0.872</td>\n",
       "      <td>...</td>\n",
       "      <td>0.354</td>\n",
       "      <td>0.498</td>\n",
       "      <td>0.268</td>\n",
       "      <td>-1.084</td>\n",
       "      <td>-0.142</td>\n",
       "      <td>-0.077</td>\n",
       "      <td>0.633</td>\n",
       "      <td>-1.807</td>\n",
       "      <td>0.032</td>\n",
       "      <td>0.135</td>\n",
       "    </tr>\n",
       "    <tr>\n",
       "      <th>ENSG00000117020</th>\n",
       "      <td>-0.693</td>\n",
       "      <td>1.694</td>\n",
       "      <td>-0.804</td>\n",
       "      <td>-0.164</td>\n",
       "      <td>1.145</td>\n",
       "      <td>-1.465</td>\n",
       "      <td>1.221</td>\n",
       "      <td>-0.747</td>\n",
       "      <td>0.829</td>\n",
       "      <td>-0.961</td>\n",
       "      <td>...</td>\n",
       "      <td>-1.196</td>\n",
       "      <td>-0.230</td>\n",
       "      <td>-1.049</td>\n",
       "      <td>-0.347</td>\n",
       "      <td>0.586</td>\n",
       "      <td>0.865</td>\n",
       "      <td>-0.021</td>\n",
       "      <td>2.180</td>\n",
       "      <td>-0.956</td>\n",
       "      <td>0.105</td>\n",
       "    </tr>\n",
       "    <tr>\n",
       "      <th>ENSG00000133997</th>\n",
       "      <td>-0.037</td>\n",
       "      <td>0.383</td>\n",
       "      <td>0.269</td>\n",
       "      <td>-0.997</td>\n",
       "      <td>0.185</td>\n",
       "      <td>-0.536</td>\n",
       "      <td>0.424</td>\n",
       "      <td>-0.119</td>\n",
       "      <td>-1.313</td>\n",
       "      <td>0.579</td>\n",
       "      <td>...</td>\n",
       "      <td>-0.343</td>\n",
       "      <td>0.116</td>\n",
       "      <td>-0.245</td>\n",
       "      <td>-0.127</td>\n",
       "      <td>-1.367</td>\n",
       "      <td>0.149</td>\n",
       "      <td>0.117</td>\n",
       "      <td>2.084</td>\n",
       "      <td>1.178</td>\n",
       "      <td>0.772</td>\n",
       "    </tr>\n",
       "    <tr>\n",
       "      <th>ENSG00000101473</th>\n",
       "      <td>0.162</td>\n",
       "      <td>-0.899</td>\n",
       "      <td>0.105</td>\n",
       "      <td>-0.090</td>\n",
       "      <td>-1.291</td>\n",
       "      <td>1.404</td>\n",
       "      <td>0.185</td>\n",
       "      <td>0.157</td>\n",
       "      <td>-0.327</td>\n",
       "      <td>-0.026</td>\n",
       "      <td>...</td>\n",
       "      <td>-0.136</td>\n",
       "      <td>-1.115</td>\n",
       "      <td>-0.280</td>\n",
       "      <td>0.200</td>\n",
       "      <td>0.638</td>\n",
       "      <td>-0.197</td>\n",
       "      <td>-0.360</td>\n",
       "      <td>-2.302</td>\n",
       "      <td>-0.117</td>\n",
       "      <td>-0.167</td>\n",
       "    </tr>\n",
       "  </tbody>\n",
       "</table>\n",
       "<p>5 rows × 1170 columns</p>\n",
       "</div>"
      ],
      "text/plain": [
       "perturbagen      DB00014  DB00091  DB00121  DB00130  DB00131  DB00132  \\\n",
       "ENSG00000196839   -1.001   -1.835    1.391    1.132    0.257    1.932   \n",
       "ENSG00000170558    1.146   -1.863    0.011   -1.020    1.143   -0.115   \n",
       "ENSG00000117020   -0.693    1.694   -0.804   -0.164    1.145   -1.465   \n",
       "ENSG00000133997   -0.037    0.383    0.269   -0.997    0.185   -0.536   \n",
       "ENSG00000101473    0.162   -0.899    0.105   -0.090   -1.291    1.404   \n",
       "\n",
       "perturbagen      DB00136  DB00140  DB00146  DB00150  ...  DB08995  DB09002  \\\n",
       "ENSG00000196839    0.508    1.408    0.777    0.032  ...   -1.692   -0.516   \n",
       "ENSG00000170558    1.327    0.310   -1.853    0.872  ...    0.354    0.498   \n",
       "ENSG00000117020    1.221   -0.747    0.829   -0.961  ...   -1.196   -0.230   \n",
       "ENSG00000133997    0.424   -0.119   -1.313    0.579  ...   -0.343    0.116   \n",
       "ENSG00000101473    0.185    0.157   -0.327   -0.026  ...   -0.136   -1.115   \n",
       "\n",
       "perturbagen      DB09004  DB09009  DB09010  DB09015  DB09019  DB09020  \\\n",
       "ENSG00000196839   -1.435   -0.317   -0.012    0.641   -0.230   -0.518   \n",
       "ENSG00000170558    0.268   -1.084   -0.142   -0.077    0.633   -1.807   \n",
       "ENSG00000117020   -1.049   -0.347    0.586    0.865   -0.021    2.180   \n",
       "ENSG00000133997   -0.245   -0.127   -1.367    0.149    0.117    2.084   \n",
       "ENSG00000101473   -0.280    0.200    0.638   -0.197   -0.360   -2.302   \n",
       "\n",
       "perturbagen      DB09022  DB09023  \n",
       "ENSG00000196839   -0.177    2.146  \n",
       "ENSG00000170558    0.032    0.135  \n",
       "ENSG00000117020   -0.956    0.105  \n",
       "ENSG00000133997    1.178    0.772  \n",
       "ENSG00000101473   -0.117   -0.167  \n",
       "\n",
       "[5 rows x 1170 columns]"
      ]
     },
     "execution_count": 28,
     "metadata": {},
     "output_type": "execute_result"
    }
   ],
   "source": [
    "lincs_data.head()"
   ]
  },
  {
   "cell_type": "code",
   "execution_count": 29,
   "metadata": {
    "execution": {
     "iopub.execute_input": "2021-04-22T13:42:57.327162Z",
     "iopub.status.busy": "2021-04-22T13:42:57.326784Z",
     "iopub.status.idle": "2021-04-22T13:42:57.337590Z",
     "shell.execute_reply": "2021-04-22T13:42:57.337224Z"
    },
    "papermill": {
     "duration": 0.034039,
     "end_time": "2021-04-22T13:42:57.337677",
     "exception": false,
     "start_time": "2021-04-22T13:42:57.303638",
     "status": "completed"
    },
    "tags": []
   },
   "outputs": [
    {
     "data": {
      "text/plain": [
       "15    7120\n",
       "dtype: int64"
      ]
     },
     "metadata": {},
     "output_type": "display_data"
    }
   ],
   "source": [
    "# make sure we have ensembl id only in the index\n",
    "_tmp = pd.Series(lincs_data.index.map(len)).value_counts()\n",
    "display(_tmp)\n",
    "assert _tmp.shape[0] == 1"
   ]
  },
  {
   "cell_type": "code",
   "execution_count": 30,
   "metadata": {
    "execution": {
     "iopub.execute_input": "2021-04-22T13:42:57.382393Z",
     "iopub.status.busy": "2021-04-22T13:42:57.382021Z",
     "iopub.status.idle": "2021-04-22T13:42:57.402547Z",
     "shell.execute_reply": "2021-04-22T13:42:57.402170Z"
    },
    "papermill": {
     "duration": 0.043707,
     "end_time": "2021-04-22T13:42:57.402636",
     "exception": false,
     "start_time": "2021-04-22T13:42:57.358929",
     "status": "completed"
    },
    "tags": []
   },
   "outputs": [
    {
     "data": {
      "text/html": [
       "<div>\n",
       "<style scoped>\n",
       "    .dataframe tbody tr th:only-of-type {\n",
       "        vertical-align: middle;\n",
       "    }\n",
       "\n",
       "    .dataframe tbody tr th {\n",
       "        vertical-align: top;\n",
       "    }\n",
       "\n",
       "    .dataframe thead th {\n",
       "        text-align: right;\n",
       "    }\n",
       "</style>\n",
       "<table border=\"1\" class=\"dataframe\">\n",
       "  <thead>\n",
       "    <tr style=\"text-align: right;\">\n",
       "      <th>perturbagen</th>\n",
       "      <th>DB00014</th>\n",
       "      <th>DB00091</th>\n",
       "      <th>DB00121</th>\n",
       "      <th>DB00130</th>\n",
       "      <th>DB00131</th>\n",
       "      <th>DB00132</th>\n",
       "      <th>DB00136</th>\n",
       "      <th>DB00140</th>\n",
       "      <th>DB00146</th>\n",
       "      <th>DB00150</th>\n",
       "      <th>...</th>\n",
       "      <th>DB08995</th>\n",
       "      <th>DB09002</th>\n",
       "      <th>DB09004</th>\n",
       "      <th>DB09009</th>\n",
       "      <th>DB09010</th>\n",
       "      <th>DB09015</th>\n",
       "      <th>DB09019</th>\n",
       "      <th>DB09020</th>\n",
       "      <th>DB09022</th>\n",
       "      <th>DB09023</th>\n",
       "    </tr>\n",
       "  </thead>\n",
       "  <tbody>\n",
       "    <tr>\n",
       "      <th>ENSG00000196839</th>\n",
       "      <td>-1.001</td>\n",
       "      <td>-1.835</td>\n",
       "      <td>1.391</td>\n",
       "      <td>1.132</td>\n",
       "      <td>0.257</td>\n",
       "      <td>1.932</td>\n",
       "      <td>0.508</td>\n",
       "      <td>1.408</td>\n",
       "      <td>0.777</td>\n",
       "      <td>0.032</td>\n",
       "      <td>...</td>\n",
       "      <td>-1.692</td>\n",
       "      <td>-0.516</td>\n",
       "      <td>-1.435</td>\n",
       "      <td>-0.317</td>\n",
       "      <td>-0.012</td>\n",
       "      <td>0.641</td>\n",
       "      <td>-0.230</td>\n",
       "      <td>-0.518</td>\n",
       "      <td>-0.177</td>\n",
       "      <td>2.146</td>\n",
       "    </tr>\n",
       "    <tr>\n",
       "      <th>ENSG00000170558</th>\n",
       "      <td>1.146</td>\n",
       "      <td>-1.863</td>\n",
       "      <td>0.011</td>\n",
       "      <td>-1.020</td>\n",
       "      <td>1.143</td>\n",
       "      <td>-0.115</td>\n",
       "      <td>1.327</td>\n",
       "      <td>0.310</td>\n",
       "      <td>-1.853</td>\n",
       "      <td>0.872</td>\n",
       "      <td>...</td>\n",
       "      <td>0.354</td>\n",
       "      <td>0.498</td>\n",
       "      <td>0.268</td>\n",
       "      <td>-1.084</td>\n",
       "      <td>-0.142</td>\n",
       "      <td>-0.077</td>\n",
       "      <td>0.633</td>\n",
       "      <td>-1.807</td>\n",
       "      <td>0.032</td>\n",
       "      <td>0.135</td>\n",
       "    </tr>\n",
       "    <tr>\n",
       "      <th>ENSG00000117020</th>\n",
       "      <td>-0.693</td>\n",
       "      <td>1.694</td>\n",
       "      <td>-0.804</td>\n",
       "      <td>-0.164</td>\n",
       "      <td>1.145</td>\n",
       "      <td>-1.465</td>\n",
       "      <td>1.221</td>\n",
       "      <td>-0.747</td>\n",
       "      <td>0.829</td>\n",
       "      <td>-0.961</td>\n",
       "      <td>...</td>\n",
       "      <td>-1.196</td>\n",
       "      <td>-0.230</td>\n",
       "      <td>-1.049</td>\n",
       "      <td>-0.347</td>\n",
       "      <td>0.586</td>\n",
       "      <td>0.865</td>\n",
       "      <td>-0.021</td>\n",
       "      <td>2.180</td>\n",
       "      <td>-0.956</td>\n",
       "      <td>0.105</td>\n",
       "    </tr>\n",
       "    <tr>\n",
       "      <th>ENSG00000133997</th>\n",
       "      <td>-0.037</td>\n",
       "      <td>0.383</td>\n",
       "      <td>0.269</td>\n",
       "      <td>-0.997</td>\n",
       "      <td>0.185</td>\n",
       "      <td>-0.536</td>\n",
       "      <td>0.424</td>\n",
       "      <td>-0.119</td>\n",
       "      <td>-1.313</td>\n",
       "      <td>0.579</td>\n",
       "      <td>...</td>\n",
       "      <td>-0.343</td>\n",
       "      <td>0.116</td>\n",
       "      <td>-0.245</td>\n",
       "      <td>-0.127</td>\n",
       "      <td>-1.367</td>\n",
       "      <td>0.149</td>\n",
       "      <td>0.117</td>\n",
       "      <td>2.084</td>\n",
       "      <td>1.178</td>\n",
       "      <td>0.772</td>\n",
       "    </tr>\n",
       "    <tr>\n",
       "      <th>ENSG00000101473</th>\n",
       "      <td>0.162</td>\n",
       "      <td>-0.899</td>\n",
       "      <td>0.105</td>\n",
       "      <td>-0.090</td>\n",
       "      <td>-1.291</td>\n",
       "      <td>1.404</td>\n",
       "      <td>0.185</td>\n",
       "      <td>0.157</td>\n",
       "      <td>-0.327</td>\n",
       "      <td>-0.026</td>\n",
       "      <td>...</td>\n",
       "      <td>-0.136</td>\n",
       "      <td>-1.115</td>\n",
       "      <td>-0.280</td>\n",
       "      <td>0.200</td>\n",
       "      <td>0.638</td>\n",
       "      <td>-0.197</td>\n",
       "      <td>-0.360</td>\n",
       "      <td>-2.302</td>\n",
       "      <td>-0.117</td>\n",
       "      <td>-0.167</td>\n",
       "    </tr>\n",
       "  </tbody>\n",
       "</table>\n",
       "<p>5 rows × 1170 columns</p>\n",
       "</div>"
      ],
      "text/plain": [
       "perturbagen      DB00014  DB00091  DB00121  DB00130  DB00131  DB00132  \\\n",
       "ENSG00000196839   -1.001   -1.835    1.391    1.132    0.257    1.932   \n",
       "ENSG00000170558    1.146   -1.863    0.011   -1.020    1.143   -0.115   \n",
       "ENSG00000117020   -0.693    1.694   -0.804   -0.164    1.145   -1.465   \n",
       "ENSG00000133997   -0.037    0.383    0.269   -0.997    0.185   -0.536   \n",
       "ENSG00000101473    0.162   -0.899    0.105   -0.090   -1.291    1.404   \n",
       "\n",
       "perturbagen      DB00136  DB00140  DB00146  DB00150  ...  DB08995  DB09002  \\\n",
       "ENSG00000196839    0.508    1.408    0.777    0.032  ...   -1.692   -0.516   \n",
       "ENSG00000170558    1.327    0.310   -1.853    0.872  ...    0.354    0.498   \n",
       "ENSG00000117020    1.221   -0.747    0.829   -0.961  ...   -1.196   -0.230   \n",
       "ENSG00000133997    0.424   -0.119   -1.313    0.579  ...   -0.343    0.116   \n",
       "ENSG00000101473    0.185    0.157   -0.327   -0.026  ...   -0.136   -1.115   \n",
       "\n",
       "perturbagen      DB09004  DB09009  DB09010  DB09015  DB09019  DB09020  \\\n",
       "ENSG00000196839   -1.435   -0.317   -0.012    0.641   -0.230   -0.518   \n",
       "ENSG00000170558    0.268   -1.084   -0.142   -0.077    0.633   -1.807   \n",
       "ENSG00000117020   -1.049   -0.347    0.586    0.865   -0.021    2.180   \n",
       "ENSG00000133997   -0.245   -0.127   -1.367    0.149    0.117    2.084   \n",
       "ENSG00000101473   -0.280    0.200    0.638   -0.197   -0.360   -2.302   \n",
       "\n",
       "perturbagen      DB09022  DB09023  \n",
       "ENSG00000196839   -0.177    2.146  \n",
       "ENSG00000170558    0.032    0.135  \n",
       "ENSG00000117020   -0.956    0.105  \n",
       "ENSG00000133997    1.178    0.772  \n",
       "ENSG00000101473   -0.117   -0.167  \n",
       "\n",
       "[5 rows x 1170 columns]"
      ]
     },
     "execution_count": 30,
     "metadata": {},
     "output_type": "execute_result"
    }
   ],
   "source": [
    "lincs_data.head()"
   ]
  },
  {
   "cell_type": "markdown",
   "metadata": {
    "papermill": {
     "duration": 0.020774,
     "end_time": "2021-04-22T13:42:57.445018",
     "exception": false,
     "start_time": "2021-04-22T13:42:57.424244",
     "status": "completed"
    },
    "tags": []
   },
   "source": [
    "## Remove NaN values"
   ]
  },
  {
   "cell_type": "code",
   "execution_count": 31,
   "metadata": {
    "execution": {
     "iopub.execute_input": "2021-04-22T13:42:57.489412Z",
     "iopub.status.busy": "2021-04-22T13:42:57.489038Z",
     "iopub.status.idle": "2021-04-22T13:42:57.504455Z",
     "shell.execute_reply": "2021-04-22T13:42:57.504105Z"
    },
    "papermill": {
     "duration": 0.038652,
     "end_time": "2021-04-22T13:42:57.504549",
     "exception": false,
     "start_time": "2021-04-22T13:42:57.465897",
     "status": "completed"
    },
    "tags": []
   },
   "outputs": [],
   "source": [
    "assert not lincs_data.isna().any().any()"
   ]
  },
  {
   "cell_type": "markdown",
   "metadata": {
    "papermill": {
     "duration": 0.021673,
     "end_time": "2021-04-22T13:42:57.548419",
     "exception": false,
     "start_time": "2021-04-22T13:42:57.526746",
     "status": "completed"
    },
    "tags": []
   },
   "source": [
    "## Save"
   ]
  },
  {
   "cell_type": "code",
   "execution_count": 32,
   "metadata": {
    "execution": {
     "iopub.execute_input": "2021-04-22T13:42:57.593333Z",
     "iopub.status.busy": "2021-04-22T13:42:57.592964Z",
     "iopub.status.idle": "2021-04-22T13:42:57.601694Z",
     "shell.execute_reply": "2021-04-22T13:42:57.601323Z"
    },
    "papermill": {
     "duration": 0.032048,
     "end_time": "2021-04-22T13:42:57.601781",
     "exception": false,
     "start_time": "2021-04-22T13:42:57.569733",
     "status": "completed"
    },
    "tags": []
   },
   "outputs": [
    {
     "data": {
      "text/plain": [
       "PosixPath('/home/miltondp/projects/labs/greenelab/phenoplier/base/results/drug_disease_analyses/lincs/lincs-data.pkl')"
      ]
     },
     "metadata": {},
     "output_type": "display_data"
    }
   ],
   "source": [
    "output_file = Path(OUTPUT_DATA_DIR, \"lincs-data.pkl\").resolve()\n",
    "display(output_file)"
   ]
  },
  {
   "cell_type": "code",
   "execution_count": 33,
   "metadata": {
    "execution": {
     "iopub.execute_input": "2021-04-22T13:42:57.647873Z",
     "iopub.status.busy": "2021-04-22T13:42:57.647510Z",
     "iopub.status.idle": "2021-04-22T13:42:57.716183Z",
     "shell.execute_reply": "2021-04-22T13:42:57.715844Z"
    },
    "papermill": {
     "duration": 0.092453,
     "end_time": "2021-04-22T13:42:57.716274",
     "exception": false,
     "start_time": "2021-04-22T13:42:57.623821",
     "status": "completed"
    },
    "tags": []
   },
   "outputs": [],
   "source": [
    "lincs_data.to_pickle(output_file)"
   ]
  },
  {
   "cell_type": "markdown",
   "metadata": {
    "papermill": {
     "duration": 0.021406,
     "end_time": "2021-04-22T13:42:57.759684",
     "exception": false,
     "start_time": "2021-04-22T13:42:57.738278",
     "status": "completed"
    },
    "tags": []
   },
   "source": [
    "# Project into MultiPLIER"
   ]
  },
  {
   "cell_type": "code",
   "execution_count": 34,
   "metadata": {
    "execution": {
     "iopub.execute_input": "2021-04-22T13:42:57.804974Z",
     "iopub.status.busy": "2021-04-22T13:42:57.804552Z",
     "iopub.status.idle": "2021-04-22T13:42:57.812511Z",
     "shell.execute_reply": "2021-04-22T13:42:57.812133Z"
    },
    "papermill": {
     "duration": 0.031542,
     "end_time": "2021-04-22T13:42:57.812601",
     "exception": false,
     "start_time": "2021-04-22T13:42:57.781059",
     "status": "completed"
    },
    "tags": []
   },
   "outputs": [],
   "source": [
    "from multiplier import MultiplierProjection"
   ]
  },
  {
   "cell_type": "code",
   "execution_count": 35,
   "metadata": {
    "execution": {
     "iopub.execute_input": "2021-04-22T13:42:57.859708Z",
     "iopub.status.busy": "2021-04-22T13:42:57.859342Z",
     "iopub.status.idle": "2021-04-22T13:42:57.866757Z",
     "shell.execute_reply": "2021-04-22T13:42:57.866397Z"
    },
    "papermill": {
     "duration": 0.031779,
     "end_time": "2021-04-22T13:42:57.866841",
     "exception": false,
     "start_time": "2021-04-22T13:42:57.835062",
     "status": "completed"
    },
    "tags": []
   },
   "outputs": [],
   "source": [
    "mproj = MultiplierProjection()"
   ]
  },
  {
   "cell_type": "code",
   "execution_count": 36,
   "metadata": {
    "execution": {
     "iopub.execute_input": "2021-04-22T13:42:57.912854Z",
     "iopub.status.busy": "2021-04-22T13:42:57.912410Z",
     "iopub.status.idle": "2021-04-22T13:42:58.776563Z",
     "shell.execute_reply": "2021-04-22T13:42:58.776912Z"
    },
    "papermill": {
     "duration": 0.888543,
     "end_time": "2021-04-22T13:42:58.777028",
     "exception": false,
     "start_time": "2021-04-22T13:42:57.888485",
     "status": "completed"
    },
    "tags": []
   },
   "outputs": [],
   "source": [
    "lincs_projection = mproj.transform(lincs_data)"
   ]
  },
  {
   "cell_type": "code",
   "execution_count": 37,
   "metadata": {
    "execution": {
     "iopub.execute_input": "2021-04-22T13:42:58.831722Z",
     "iopub.status.busy": "2021-04-22T13:42:58.831302Z",
     "iopub.status.idle": "2021-04-22T13:42:58.833140Z",
     "shell.execute_reply": "2021-04-22T13:42:58.833506Z"
    },
    "papermill": {
     "duration": 0.033285,
     "end_time": "2021-04-22T13:42:58.833621",
     "exception": false,
     "start_time": "2021-04-22T13:42:58.800336",
     "status": "completed"
    },
    "tags": []
   },
   "outputs": [
    {
     "data": {
      "text/plain": [
       "(987, 1170)"
      ]
     },
     "execution_count": 37,
     "metadata": {},
     "output_type": "execute_result"
    }
   ],
   "source": [
    "lincs_projection.shape"
   ]
  },
  {
   "cell_type": "code",
   "execution_count": 38,
   "metadata": {
    "execution": {
     "iopub.execute_input": "2021-04-22T13:42:58.881216Z",
     "iopub.status.busy": "2021-04-22T13:42:58.880849Z",
     "iopub.status.idle": "2021-04-22T13:42:58.900212Z",
     "shell.execute_reply": "2021-04-22T13:42:58.899838Z"
    },
    "papermill": {
     "duration": 0.043312,
     "end_time": "2021-04-22T13:42:58.900301",
     "exception": false,
     "start_time": "2021-04-22T13:42:58.856989",
     "status": "completed"
    },
    "tags": []
   },
   "outputs": [
    {
     "data": {
      "text/html": [
       "<div>\n",
       "<style scoped>\n",
       "    .dataframe tbody tr th:only-of-type {\n",
       "        vertical-align: middle;\n",
       "    }\n",
       "\n",
       "    .dataframe tbody tr th {\n",
       "        vertical-align: top;\n",
       "    }\n",
       "\n",
       "    .dataframe thead th {\n",
       "        text-align: right;\n",
       "    }\n",
       "</style>\n",
       "<table border=\"1\" class=\"dataframe\">\n",
       "  <thead>\n",
       "    <tr style=\"text-align: right;\">\n",
       "      <th>perturbagen</th>\n",
       "      <th>DB00014</th>\n",
       "      <th>DB00091</th>\n",
       "      <th>DB00121</th>\n",
       "      <th>DB00130</th>\n",
       "      <th>DB00131</th>\n",
       "      <th>DB00132</th>\n",
       "      <th>DB00136</th>\n",
       "      <th>DB00140</th>\n",
       "      <th>DB00146</th>\n",
       "      <th>DB00150</th>\n",
       "      <th>...</th>\n",
       "      <th>DB08995</th>\n",
       "      <th>DB09002</th>\n",
       "      <th>DB09004</th>\n",
       "      <th>DB09009</th>\n",
       "      <th>DB09010</th>\n",
       "      <th>DB09015</th>\n",
       "      <th>DB09019</th>\n",
       "      <th>DB09020</th>\n",
       "      <th>DB09022</th>\n",
       "      <th>DB09023</th>\n",
       "    </tr>\n",
       "  </thead>\n",
       "  <tbody>\n",
       "    <tr>\n",
       "      <th>LV1</th>\n",
       "      <td>0.036115</td>\n",
       "      <td>-0.358610</td>\n",
       "      <td>0.091067</td>\n",
       "      <td>0.008923</td>\n",
       "      <td>0.046469</td>\n",
       "      <td>0.136747</td>\n",
       "      <td>0.036151</td>\n",
       "      <td>0.034024</td>\n",
       "      <td>-0.027445</td>\n",
       "      <td>0.060644</td>\n",
       "      <td>...</td>\n",
       "      <td>0.069930</td>\n",
       "      <td>0.021537</td>\n",
       "      <td>0.020511</td>\n",
       "      <td>-0.006250</td>\n",
       "      <td>-0.002660</td>\n",
       "      <td>-0.017210</td>\n",
       "      <td>-0.004029</td>\n",
       "      <td>-0.145490</td>\n",
       "      <td>0.102504</td>\n",
       "      <td>0.057621</td>\n",
       "    </tr>\n",
       "    <tr>\n",
       "      <th>LV2</th>\n",
       "      <td>0.012281</td>\n",
       "      <td>0.009738</td>\n",
       "      <td>0.004650</td>\n",
       "      <td>-0.006554</td>\n",
       "      <td>0.021758</td>\n",
       "      <td>0.010425</td>\n",
       "      <td>0.000794</td>\n",
       "      <td>-0.000603</td>\n",
       "      <td>0.011534</td>\n",
       "      <td>-0.004425</td>\n",
       "      <td>...</td>\n",
       "      <td>0.000344</td>\n",
       "      <td>0.001123</td>\n",
       "      <td>-0.012675</td>\n",
       "      <td>-0.004849</td>\n",
       "      <td>0.000375</td>\n",
       "      <td>0.002623</td>\n",
       "      <td>-0.003252</td>\n",
       "      <td>-0.066209</td>\n",
       "      <td>0.025378</td>\n",
       "      <td>0.012453</td>\n",
       "    </tr>\n",
       "    <tr>\n",
       "      <th>LV3</th>\n",
       "      <td>-0.005533</td>\n",
       "      <td>-0.059174</td>\n",
       "      <td>0.013454</td>\n",
       "      <td>0.008906</td>\n",
       "      <td>-0.004939</td>\n",
       "      <td>0.033663</td>\n",
       "      <td>-0.010045</td>\n",
       "      <td>0.003824</td>\n",
       "      <td>0.009814</td>\n",
       "      <td>-0.007492</td>\n",
       "      <td>...</td>\n",
       "      <td>-0.021941</td>\n",
       "      <td>-0.002417</td>\n",
       "      <td>0.000155</td>\n",
       "      <td>0.002941</td>\n",
       "      <td>-0.015100</td>\n",
       "      <td>-0.016372</td>\n",
       "      <td>0.012249</td>\n",
       "      <td>0.009216</td>\n",
       "      <td>0.018254</td>\n",
       "      <td>-0.003516</td>\n",
       "    </tr>\n",
       "    <tr>\n",
       "      <th>LV4</th>\n",
       "      <td>-0.004151</td>\n",
       "      <td>-0.032884</td>\n",
       "      <td>0.005934</td>\n",
       "      <td>-0.003991</td>\n",
       "      <td>-0.028524</td>\n",
       "      <td>0.002709</td>\n",
       "      <td>0.007001</td>\n",
       "      <td>0.024704</td>\n",
       "      <td>0.005058</td>\n",
       "      <td>-0.004345</td>\n",
       "      <td>...</td>\n",
       "      <td>0.013806</td>\n",
       "      <td>0.003197</td>\n",
       "      <td>0.013099</td>\n",
       "      <td>0.002643</td>\n",
       "      <td>-0.008836</td>\n",
       "      <td>0.023852</td>\n",
       "      <td>0.028957</td>\n",
       "      <td>0.014681</td>\n",
       "      <td>0.000826</td>\n",
       "      <td>-0.009739</td>\n",
       "    </tr>\n",
       "    <tr>\n",
       "      <th>LV5</th>\n",
       "      <td>-0.015156</td>\n",
       "      <td>-0.005276</td>\n",
       "      <td>0.025747</td>\n",
       "      <td>0.000346</td>\n",
       "      <td>-0.013932</td>\n",
       "      <td>-0.010911</td>\n",
       "      <td>0.041403</td>\n",
       "      <td>-0.018285</td>\n",
       "      <td>0.003507</td>\n",
       "      <td>-0.007621</td>\n",
       "      <td>...</td>\n",
       "      <td>-0.011577</td>\n",
       "      <td>-0.015956</td>\n",
       "      <td>-0.027614</td>\n",
       "      <td>-0.001707</td>\n",
       "      <td>-0.000542</td>\n",
       "      <td>-0.016918</td>\n",
       "      <td>0.001959</td>\n",
       "      <td>0.024147</td>\n",
       "      <td>0.013004</td>\n",
       "      <td>-0.014166</td>\n",
       "    </tr>\n",
       "  </tbody>\n",
       "</table>\n",
       "<p>5 rows × 1170 columns</p>\n",
       "</div>"
      ],
      "text/plain": [
       "perturbagen   DB00014   DB00091   DB00121   DB00130   DB00131   DB00132  \\\n",
       "LV1          0.036115 -0.358610  0.091067  0.008923  0.046469  0.136747   \n",
       "LV2          0.012281  0.009738  0.004650 -0.006554  0.021758  0.010425   \n",
       "LV3         -0.005533 -0.059174  0.013454  0.008906 -0.004939  0.033663   \n",
       "LV4         -0.004151 -0.032884  0.005934 -0.003991 -0.028524  0.002709   \n",
       "LV5         -0.015156 -0.005276  0.025747  0.000346 -0.013932 -0.010911   \n",
       "\n",
       "perturbagen   DB00136   DB00140   DB00146   DB00150  ...   DB08995   DB09002  \\\n",
       "LV1          0.036151  0.034024 -0.027445  0.060644  ...  0.069930  0.021537   \n",
       "LV2          0.000794 -0.000603  0.011534 -0.004425  ...  0.000344  0.001123   \n",
       "LV3         -0.010045  0.003824  0.009814 -0.007492  ... -0.021941 -0.002417   \n",
       "LV4          0.007001  0.024704  0.005058 -0.004345  ...  0.013806  0.003197   \n",
       "LV5          0.041403 -0.018285  0.003507 -0.007621  ... -0.011577 -0.015956   \n",
       "\n",
       "perturbagen   DB09004   DB09009   DB09010   DB09015   DB09019   DB09020  \\\n",
       "LV1          0.020511 -0.006250 -0.002660 -0.017210 -0.004029 -0.145490   \n",
       "LV2         -0.012675 -0.004849  0.000375  0.002623 -0.003252 -0.066209   \n",
       "LV3          0.000155  0.002941 -0.015100 -0.016372  0.012249  0.009216   \n",
       "LV4          0.013099  0.002643 -0.008836  0.023852  0.028957  0.014681   \n",
       "LV5         -0.027614 -0.001707 -0.000542 -0.016918  0.001959  0.024147   \n",
       "\n",
       "perturbagen   DB09022   DB09023  \n",
       "LV1          0.102504  0.057621  \n",
       "LV2          0.025378  0.012453  \n",
       "LV3          0.018254 -0.003516  \n",
       "LV4          0.000826 -0.009739  \n",
       "LV5          0.013004 -0.014166  \n",
       "\n",
       "[5 rows x 1170 columns]"
      ]
     },
     "execution_count": 38,
     "metadata": {},
     "output_type": "execute_result"
    }
   ],
   "source": [
    "lincs_projection.head()"
   ]
  },
  {
   "cell_type": "markdown",
   "metadata": {
    "papermill": {
     "duration": 0.02248,
     "end_time": "2021-04-22T13:42:58.945558",
     "exception": false,
     "start_time": "2021-04-22T13:42:58.923078",
     "status": "completed"
    },
    "tags": []
   },
   "source": [
    "## Save"
   ]
  },
  {
   "cell_type": "code",
   "execution_count": 39,
   "metadata": {
    "execution": {
     "iopub.execute_input": "2021-04-22T13:42:58.992628Z",
     "iopub.status.busy": "2021-04-22T13:42:58.992252Z",
     "iopub.status.idle": "2021-04-22T13:42:59.000611Z",
     "shell.execute_reply": "2021-04-22T13:42:59.000957Z"
    },
    "papermill": {
     "duration": 0.033152,
     "end_time": "2021-04-22T13:42:59.001063",
     "exception": false,
     "start_time": "2021-04-22T13:42:58.967911",
     "status": "completed"
    },
    "tags": []
   },
   "outputs": [
    {
     "data": {
      "text/plain": [
       "PosixPath('/home/miltondp/projects/labs/greenelab/phenoplier/base/results/drug_disease_analyses/lincs/lincs-projection.pkl')"
      ]
     },
     "metadata": {},
     "output_type": "display_data"
    }
   ],
   "source": [
    "output_file = Path(OUTPUT_DATA_DIR, \"lincs-projection.pkl\").resolve()\n",
    "display(output_file)"
   ]
  },
  {
   "cell_type": "code",
   "execution_count": 40,
   "metadata": {
    "execution": {
     "iopub.execute_input": "2021-04-22T13:42:59.049770Z",
     "iopub.status.busy": "2021-04-22T13:42:59.049409Z",
     "iopub.status.idle": "2021-04-22T13:42:59.066504Z",
     "shell.execute_reply": "2021-04-22T13:42:59.066102Z"
    },
    "papermill": {
     "duration": 0.042034,
     "end_time": "2021-04-22T13:42:59.066596",
     "exception": false,
     "start_time": "2021-04-22T13:42:59.024562",
     "status": "completed"
    },
    "tags": []
   },
   "outputs": [],
   "source": [
    "lincs_projection.to_pickle(output_file)"
   ]
  },
  {
   "cell_type": "code",
   "execution_count": null,
   "metadata": {
    "papermill": {
     "duration": 0.024552,
     "end_time": "2021-04-22T13:42:59.114434",
     "exception": false,
     "start_time": "2021-04-22T13:42:59.089882",
     "status": "completed"
    },
    "tags": []
   },
   "outputs": [],
   "source": []
  }
 ],
 "metadata": {
  "jupytext": {
   "cell_metadata_filter": "all,-execution,-papermill,-trusted",
   "formats": "ipynb,py//py:percent"
  },
  "kernelspec": {
   "display_name": "Python 3",
   "language": "python",
   "name": "python3"
  },
  "language_info": {
   "codemirror_mode": {
    "name": "ipython",
    "version": 3
   },
   "file_extension": ".py",
   "mimetype": "text/x-python",
   "name": "python",
   "nbconvert_exporter": "python",
   "pygments_lexer": "ipython3",
   "version": "3.8.6"
  },
  "papermill": {
   "default_parameters": {},
   "duration": 13.043299,
   "end_time": "2021-04-22T13:42:59.844595",
   "environment_variables": {},
   "exception": null,
   "input_path": "15_drug_disease_associations/lincs/001-lincs_consensi-projection.ipynb",
   "output_path": "15_drug_disease_associations/lincs/001-lincs_consensi-projection.run.ipynb",
   "parameters": {},
   "start_time": "2021-04-22T13:42:46.801296",
   "version": "2.2.2"
  }
 },
 "nbformat": 4,
 "nbformat_minor": 4
}
