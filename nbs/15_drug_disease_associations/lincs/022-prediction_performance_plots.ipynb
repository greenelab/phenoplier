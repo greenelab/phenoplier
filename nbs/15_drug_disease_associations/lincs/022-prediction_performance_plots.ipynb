{
 "cells": [
  {
   "cell_type": "markdown",
   "metadata": {
    "papermill": {
     "duration": 0.044577,
     "end_time": "2020-12-18T22:38:21.345879",
     "exception": false,
     "start_time": "2020-12-18T22:38:21.301302",
     "status": "completed"
    },
    "tags": []
   },
   "source": [
    "# Description"
   ]
  },
  {
   "cell_type": "markdown",
   "metadata": {
    "papermill": {
     "duration": 0.011764,
     "end_time": "2020-12-18T22:38:21.398073",
     "exception": false,
     "start_time": "2020-12-18T22:38:21.386309",
     "status": "completed"
    },
    "tags": []
   },
   "source": [
    "**TODO**"
   ]
  },
  {
   "cell_type": "markdown",
   "metadata": {
    "papermill": {
     "duration": 0.011799,
     "end_time": "2020-12-18T22:38:21.422136",
     "exception": false,
     "start_time": "2020-12-18T22:38:21.410337",
     "status": "completed"
    },
    "tags": []
   },
   "source": [
    "# Modules loading"
   ]
  },
  {
   "cell_type": "code",
   "execution_count": null,
   "metadata": {
    "papermill": {
     "duration": 0.022467,
     "end_time": "2020-12-18T22:38:21.456126",
     "exception": false,
     "start_time": "2020-12-18T22:38:21.433659",
     "status": "completed"
    },
    "tags": []
   },
   "outputs": [],
   "source": [
    "%load_ext autoreload\n",
    "%autoreload 2"
   ]
  },
  {
   "cell_type": "code",
   "execution_count": null,
   "metadata": {
    "papermill": {
     "duration": 0.192251,
     "end_time": "2020-12-18T22:38:21.659996",
     "exception": false,
     "start_time": "2020-12-18T22:38:21.467745",
     "status": "completed"
    },
    "tags": []
   },
   "outputs": [],
   "source": [
    "from IPython.display import display\n",
    "from pathlib import Path\n",
    "\n",
    "import numpy as np\n",
    "import pandas as pd\n",
    "import matplotlib.pyplot as plt\n",
    "import seaborn as sns\n",
    "\n",
    "import conf"
   ]
  },
  {
   "cell_type": "markdown",
   "metadata": {
    "papermill": {
     "duration": 0.011416,
     "end_time": "2020-12-18T22:38:21.683356",
     "exception": false,
     "start_time": "2020-12-18T22:38:21.671940",
     "status": "completed"
    },
    "tags": []
   },
   "source": [
    "# Settings"
   ]
  },
  {
   "cell_type": "code",
   "execution_count": null,
   "metadata": {},
   "outputs": [],
   "source": [
    "OUTPUT_DIR = conf.RESULTS[\"DRUG_DISEASE_ANALYSES\"] / \"lincs\"\n",
    "display(OUTPUT_DIR)\n",
    "assert OUTPUT_DIR.exists()"
   ]
  },
  {
   "cell_type": "code",
   "execution_count": null,
   "metadata": {},
   "outputs": [],
   "source": [
    "OUTPUT_FIGURES_DIR = Path(\n",
    "    conf.MANUSCRIPT[\"FIGURES_DIR\"], \"drug_disease_prediction\"\n",
    ").resolve()\n",
    "display(OUTPUT_FIGURES_DIR)\n",
    "OUTPUT_FIGURES_DIR.mkdir(parents=True, exist_ok=True)"
   ]
  },
  {
   "cell_type": "markdown",
   "metadata": {},
   "source": [
    "# Load predictions"
   ]
  },
  {
   "cell_type": "markdown",
   "metadata": {},
   "source": [
    "## Across all tissues"
   ]
  },
  {
   "cell_type": "code",
   "execution_count": null,
   "metadata": {},
   "outputs": [],
   "source": [
    "input_file = Path(OUTPUT_DIR, \"predictions\", \"predictions_results.pkl\").resolve()\n",
    "display(input_file)"
   ]
  },
  {
   "cell_type": "code",
   "execution_count": null,
   "metadata": {},
   "outputs": [],
   "source": [
    "predictions = pd.read_pickle(input_file)"
   ]
  },
  {
   "cell_type": "code",
   "execution_count": null,
   "metadata": {},
   "outputs": [],
   "source": [
    "predictions.shape"
   ]
  },
  {
   "cell_type": "code",
   "execution_count": null,
   "metadata": {},
   "outputs": [],
   "source": [
    "predictions.head()"
   ]
  },
  {
   "cell_type": "markdown",
   "metadata": {},
   "source": [
    "## Aggregated (across all tissues)"
   ]
  },
  {
   "cell_type": "code",
   "execution_count": null,
   "metadata": {},
   "outputs": [],
   "source": [
    "input_file = Path(\n",
    "    OUTPUT_DIR, \"predictions\", \"predictions_results_aggregated.pkl\"\n",
    ").resolve()\n",
    "display(input_file)"
   ]
  },
  {
   "cell_type": "code",
   "execution_count": null,
   "metadata": {},
   "outputs": [],
   "source": [
    "predictions_avg = pd.read_pickle(input_file)"
   ]
  },
  {
   "cell_type": "code",
   "execution_count": null,
   "metadata": {},
   "outputs": [],
   "source": [
    "predictions_avg.shape"
   ]
  },
  {
   "cell_type": "code",
   "execution_count": null,
   "metadata": {},
   "outputs": [],
   "source": [
    "predictions_avg.head()"
   ]
  },
  {
   "cell_type": "markdown",
   "metadata": {},
   "source": [
    "# ROC"
   ]
  },
  {
   "cell_type": "code",
   "execution_count": null,
   "metadata": {},
   "outputs": [],
   "source": [
    "methods_names = tuple(predictions[\"method\"].unique())\n",
    "assert len(methods_names) == 2\n",
    "display(methods_names)"
   ]
  },
  {
   "cell_type": "code",
   "execution_count": null,
   "metadata": {},
   "outputs": [],
   "source": [
    "methods_colors = {methods_names[0]: \"red\", methods_names[1]: \"blue\"}"
   ]
  },
  {
   "cell_type": "markdown",
   "metadata": {},
   "source": [
    "## Functions"
   ]
  },
  {
   "cell_type": "code",
   "execution_count": null,
   "metadata": {
    "lines_to_next_cell": 1
   },
   "outputs": [],
   "source": [
    "from sklearn.metrics import roc_auc_score, roc_curve"
   ]
  },
  {
   "cell_type": "code",
   "execution_count": null,
   "metadata": {},
   "outputs": [],
   "source": [
    "def plot_roc(data, method_key, fig, ax, remove_non_informative=False):\n",
    "    roc_auc = roc_auc_score(data[\"true_class\"], data[\"score\"])\n",
    "\n",
    "    fpr, tpr, thresholds = roc_curve(data[\"true_class\"], data[\"score\"])\n",
    "    #     print(f'  Points for ROC curve: {len(fpr)}')\n",
    "    if remove_non_informative:\n",
    "        cond = (fpr < 1.0) & (tpr < 1.0)\n",
    "        fpr = fpr[cond]\n",
    "        tpr = tpr[cond]\n",
    "        print(f\"  Points for ROC curve (after prunning): {len(fpr)}\")\n",
    "\n",
    "    label = f\"{method_key} - AUC: {roc_auc:.3f}\"\n",
    "    sns.lineplot(\n",
    "        x=fpr,\n",
    "        y=tpr,\n",
    "        estimator=None,\n",
    "        label=label,\n",
    "        ax=ax,\n",
    "        linewidth=1.00,\n",
    "        linestyle=\"-\",\n",
    "        color=methods_colors[method_key],\n",
    "    )"
   ]
  },
  {
   "cell_type": "code",
   "execution_count": null,
   "metadata": {},
   "outputs": [],
   "source": [
    "def plot_roc_for_methods(selected_methods, fig, ax):\n",
    "    for method_name in selected_methods:\n",
    "        data = predictions_avg[predictions_avg[\"method\"] == method_name]\n",
    "        plot_roc(data, method_name, fig, ax)\n",
    "\n",
    "    #         ax.set_title('ROC curves using PharmacotherapyDB')\n",
    "    ax.plot([0.0, 1.00], [0.0, 1.00], color=\"gray\", linewidth=1.25, linestyle=\"-\")\n",
    "    ax.set_xlabel(\"False Positive Rate\")\n",
    "    ax.set_ylabel(\"True Positive Rate\")\n",
    "    ax.set_xlim([0.0, 1.01])\n",
    "    ax.set_ylim([0.0, 1.01])\n",
    "    #                 ax.legend(loc=\"lower right\")\n",
    "    ax.set_aspect(\"equal\")\n",
    "\n",
    "\n",
    "#         ax.get_legend().remove()"
   ]
  },
  {
   "cell_type": "markdown",
   "metadata": {},
   "source": [
    "## Plots"
   ]
  },
  {
   "cell_type": "code",
   "execution_count": null,
   "metadata": {},
   "outputs": [],
   "source": [
    "with sns.plotting_context(\"paper\", font_scale=3.00):\n",
    "    fig, ax = plt.subplots(figsize=(10, 10))\n",
    "    plot_roc_for_methods(methods_names, fig, ax)\n",
    "\n",
    "#     output_filepath = OUTPUT_FIGURES_DIR / f\"roc_curves.svg\"\n",
    "#     display(output_filepath)\n",
    "\n",
    "#     plt.savefig(\n",
    "#         output_filepath,\n",
    "#         bbox_inches=\"tight\",\n",
    "#         facecolor=\"white\",\n",
    "#     )"
   ]
  },
  {
   "cell_type": "markdown",
   "metadata": {},
   "source": [
    "# Precision-Recall"
   ]
  },
  {
   "cell_type": "markdown",
   "metadata": {},
   "source": [
    "## Functions"
   ]
  },
  {
   "cell_type": "code",
   "execution_count": null,
   "metadata": {},
   "outputs": [],
   "source": [
    "from sklearn.metrics import precision_recall_curve, average_precision_score"
   ]
  },
  {
   "cell_type": "code",
   "execution_count": null,
   "metadata": {},
   "outputs": [],
   "source": [
    "def plot_pr_raw_data(recall, precision, label, **kwargs):\n",
    "    sns.lineplot(x=recall, y=precision, label=label, **kwargs)\n",
    "\n",
    "\n",
    "def plot_pr(data, method_key, fig, ax, estimator=None, remove_non_informative=False):\n",
    "    precision, recall, thresholds = precision_recall_curve(\n",
    "        data[\"true_class\"], data[\"score\"]\n",
    "    )\n",
    "    if remove_non_informative:\n",
    "        cond = recall < 1.0\n",
    "        recall = recall[cond]\n",
    "        precision = precision[cond]\n",
    "\n",
    "    ap = average_precision_score(data[\"true_class\"], data[\"score\"])\n",
    "\n",
    "    label = f\"{method_key} - AP: {ap:.3f}\"\n",
    "    plot_pr_raw_data(\n",
    "        recall,\n",
    "        precision,\n",
    "        label,\n",
    "        estimator=estimator,\n",
    "        ax=ax,\n",
    "        linewidth=1.00,\n",
    "        linestyle=\"-\",\n",
    "        color=methods_colors[method_key],\n",
    "    )"
   ]
  },
  {
   "cell_type": "code",
   "execution_count": null,
   "metadata": {},
   "outputs": [],
   "source": [
    "def get_random_classifier_pr(data, reps=10, min_val=0, max_val=1):\n",
    "    random_precision = []\n",
    "    random_recall = []\n",
    "    random_average_precision = []\n",
    "\n",
    "    for i in range(reps):\n",
    "        random_score = np.random.permutation(data[\"score\"].values)\n",
    "        rp, rr, _ = precision_recall_curve(data[\"true_class\"], random_score)\n",
    "        random_precision.extend(rp)\n",
    "        random_recall.extend(rr)\n",
    "        random_average_precision.append(\n",
    "            average_precision_score(data[\"true_class\"], random_score)\n",
    "        )\n",
    "\n",
    "    return (\n",
    "        np.array(random_recall),\n",
    "        np.array(random_precision),\n",
    "        np.array(random_average_precision),\n",
    "    )"
   ]
  },
  {
   "cell_type": "code",
   "execution_count": null,
   "metadata": {},
   "outputs": [],
   "source": [
    "def plot_pr_for_methods(selected_methods, fig, ax):\n",
    "    for method_name in selected_methods:\n",
    "        data = predictions_avg[predictions_avg[\"method\"] == method_name]\n",
    "        plot_pr(data, method_name, fig, ax)\n",
    "\n",
    "    # add random classifier\n",
    "    #     random_recall, random_precision = get_random_classifier_pr(predictions['multixcan_mashr'].shape[0], predictions['multixcan_mashr'])\n",
    "    random_recall, random_precision, random_averages = get_random_classifier_pr(\n",
    "        data, reps=100\n",
    "    )\n",
    "    #         display(len(random_recall))\n",
    "    random_label = f\"Random - AP: {random_averages.mean():.3f}\"\n",
    "    plot_pr_raw_data(\n",
    "        random_recall,\n",
    "        random_precision,\n",
    "        random_label,\n",
    "        estimator=\"mean\",\n",
    "        ax=ax,\n",
    "        ci=\"sd\",\n",
    "        color=\"gray\",\n",
    "    )\n",
    "\n",
    "    #         ax.set_title('Precision-Recall curves using PharmacotherapyDB')\n",
    "    # ax.plot([0.00, 1.00], [1.00, 0.00], color='gray', linewidth=0.50)\n",
    "    ax.set_xlabel(\"Recall\")\n",
    "    ax.set_ylabel(\"Precision\")\n",
    "    ax.set_xlim([0.0, 1.01])\n",
    "    ax.set_ylim([0.60, 1.02])\n",
    "    #         ax.legend(loc=\"upper right\")\n",
    "\n",
    "\n",
    "#         ax.get_legend().remove()\n",
    "#     ax.set_aspect('equal')"
   ]
  },
  {
   "cell_type": "markdown",
   "metadata": {},
   "source": [
    "## Plots"
   ]
  },
  {
   "cell_type": "code",
   "execution_count": null,
   "metadata": {},
   "outputs": [],
   "source": [
    "with sns.plotting_context(\"paper\", font_scale=3.00):\n",
    "    fig, ax = plt.subplots(figsize=(10, 10))\n",
    "    plot_pr_for_methods(methods_names, fig, ax)\n",
    "\n",
    "#     output_filepath = OUTPUT_FIGURES_DIR / f\"pr_curves.svg\"\n",
    "#     display(output_filepath)\n",
    "\n",
    "#     plt.savefig(\n",
    "#         output_filepath,\n",
    "#         bbox_inches=\"tight\",\n",
    "#         facecolor=\"white\",\n",
    "#     )"
   ]
  },
  {
   "cell_type": "markdown",
   "metadata": {},
   "source": [
    "# Plots"
   ]
  },
  {
   "cell_type": "code",
   "execution_count": null,
   "metadata": {},
   "outputs": [],
   "source": [
    "with sns.plotting_context(\"paper\", font_scale=3.00):\n",
    "    fig, ax = plt.subplots(figsize=(22, 10))\n",
    "\n",
    "    ax = plt.subplot(1, 2, 1)\n",
    "    plot_roc_for_methods(methods_names, fig, ax)\n",
    "\n",
    "    ax = plt.subplot(1, 2, 2)\n",
    "    plot_pr_for_methods(methods_names, fig, ax)\n",
    "\n",
    "    output_filepath = OUTPUT_FIGURES_DIR / f\"roc_pr_curves.svg\"\n",
    "    display(output_filepath)\n",
    "\n",
    "    plt.savefig(\n",
    "        output_filepath,\n",
    "        bbox_inches=\"tight\",\n",
    "        facecolor=\"white\",\n",
    "    )"
   ]
  },
  {
   "cell_type": "code",
   "execution_count": null,
   "metadata": {},
   "outputs": [],
   "source": []
  }
 ],
 "metadata": {
  "jupytext": {
   "cell_metadata_filter": "all,-execution,-papermill,-trusted",
   "formats": "ipynb,py//py:percent"
  },
  "kernelspec": {
   "display_name": "Python 3",
   "language": "python",
   "name": "python3"
  },
  "language_info": {
   "codemirror_mode": {
    "name": "ipython",
    "version": 3
   },
   "file_extension": ".py",
   "mimetype": "text/x-python",
   "name": "python",
   "nbconvert_exporter": "python",
   "pygments_lexer": "ipython3",
   "version": "3.8.8"
  },
  "papermill": {
   "default_parameters": {},
   "duration": 4334.257345,
   "end_time": "2020-12-18T23:50:34.771313",
   "environment_variables": {},
   "exception": null,
   "input_path": "15_drug_disease_associations/000-spredixcan_most_significant.ipynb",
   "output_path": "15_drug_disease_associations/000-spredixcan_most_significant.run.ipynb",
   "parameters": {},
   "start_time": "2020-12-18T22:38:20.513968",
   "version": "2.2.2"
  },
  "toc-autonumbering": true
 },
 "nbformat": 4,
 "nbformat_minor": 4
}
