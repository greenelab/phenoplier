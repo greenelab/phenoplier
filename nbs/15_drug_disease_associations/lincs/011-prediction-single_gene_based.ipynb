{
 "cells": [
  {
   "cell_type": "markdown",
   "metadata": {
    "papermill": {
     "duration": 0.026465,
     "end_time": "2020-12-23T19:50:41.173233",
     "exception": false,
     "start_time": "2020-12-23T19:50:41.146768",
     "status": "completed"
    },
    "tags": []
   },
   "source": [
    "# Description"
   ]
  },
  {
   "cell_type": "markdown",
   "metadata": {
    "papermill": {
     "duration": 0.008954,
     "end_time": "2020-12-23T19:50:41.193904",
     "exception": false,
     "start_time": "2020-12-23T19:50:41.184950",
     "status": "completed"
    },
    "tags": []
   },
   "source": [
    "**TODO**"
   ]
  },
  {
   "cell_type": "markdown",
   "metadata": {
    "papermill": {
     "duration": 0.008741,
     "end_time": "2020-12-23T19:50:41.211367",
     "exception": false,
     "start_time": "2020-12-23T19:50:41.202626",
     "status": "completed"
    },
    "tags": []
   },
   "source": [
    "# Modules loading"
   ]
  },
  {
   "cell_type": "code",
   "execution_count": 1,
   "metadata": {
    "papermill": {
     "duration": 0.020906,
     "end_time": "2020-12-23T19:50:41.241264",
     "exception": false,
     "start_time": "2020-12-23T19:50:41.220358",
     "status": "completed"
    },
    "tags": []
   },
   "outputs": [],
   "source": [
    "%load_ext autoreload\n",
    "%autoreload 2"
   ]
  },
  {
   "cell_type": "code",
   "execution_count": 2,
   "metadata": {
    "papermill": {
     "duration": 0.241664,
     "end_time": "2020-12-23T19:50:41.492228",
     "exception": false,
     "start_time": "2020-12-23T19:50:41.250564",
     "status": "completed"
    },
    "tags": []
   },
   "outputs": [],
   "source": [
    "from IPython.display import display\n",
    "from pathlib import Path\n",
    "\n",
    "import pandas as pd\n",
    "\n",
    "import conf"
   ]
  },
  {
   "cell_type": "markdown",
   "metadata": {
    "papermill": {
     "duration": 0.009209,
     "end_time": "2020-12-23T19:50:41.511289",
     "exception": false,
     "start_time": "2020-12-23T19:50:41.502080",
     "status": "completed"
    },
    "tags": []
   },
   "source": [
    "# Settings"
   ]
  },
  {
   "cell_type": "code",
   "execution_count": 3,
   "metadata": {
    "papermill": {
     "duration": 0.01881,
     "end_time": "2020-12-23T19:50:41.539028",
     "exception": false,
     "start_time": "2020-12-23T19:50:41.520218",
     "status": "completed"
    },
    "tags": []
   },
   "outputs": [],
   "source": [
    "# if True, then it doesn't check if result files already exist and runs everything again\n",
    "FORCE_RUN = True"
   ]
  },
  {
   "cell_type": "code",
   "execution_count": 4,
   "metadata": {
    "papermill": {
     "duration": 0.019014,
     "end_time": "2020-12-23T19:50:41.567599",
     "exception": false,
     "start_time": "2020-12-23T19:50:41.548585",
     "status": "completed"
    },
    "tags": []
   },
   "outputs": [],
   "source": [
    "PREDICTION_METHOD = \"Gene-based\""
   ]
  },
  {
   "cell_type": "code",
   "execution_count": 5,
   "metadata": {
    "papermill": {
     "duration": 0.023785,
     "end_time": "2020-12-23T19:50:41.600953",
     "exception": false,
     "start_time": "2020-12-23T19:50:41.577168",
     "status": "completed"
    },
    "tags": []
   },
   "outputs": [
    {
     "data": {
      "text/plain": [
       "PosixPath('/media/miltondp/Elements1/projects/phenoplier/results/drug_disease_analyses')"
      ]
     },
     "metadata": {},
     "output_type": "display_data"
    }
   ],
   "source": [
    "OUTPUT_DIR = conf.RESULTS[\"DRUG_DISEASE_ANALYSES\"]\n",
    "display(OUTPUT_DIR)\n",
    "OUTPUT_DIR.mkdir(parents=True, exist_ok=True)"
   ]
  },
  {
   "cell_type": "code",
   "execution_count": 6,
   "metadata": {
    "papermill": {
     "duration": 0.023779,
     "end_time": "2020-12-23T19:50:41.634743",
     "exception": false,
     "start_time": "2020-12-23T19:50:41.610964",
     "status": "completed"
    },
    "tags": []
   },
   "outputs": [],
   "source": [
    "# OUTPUT_DATA_DIR = Path(OUTPUT_DIR, \"data\")\n",
    "# display(OUTPUT_DATA_DIR)\n",
    "# OUTPUT_DATA_DIR.mkdir(parents=True, exist_ok=True)"
   ]
  },
  {
   "cell_type": "code",
   "execution_count": 7,
   "metadata": {
    "papermill": {
     "duration": 0.022631,
     "end_time": "2020-12-23T19:50:41.676613",
     "exception": false,
     "start_time": "2020-12-23T19:50:41.653982",
     "status": "completed"
    },
    "tags": []
   },
   "outputs": [
    {
     "data": {
      "text/plain": [
       "PosixPath('/media/miltondp/Elements1/projects/phenoplier/results/drug_disease_analyses/data/raw')"
      ]
     },
     "metadata": {},
     "output_type": "display_data"
    }
   ],
   "source": [
    "INPUT_DATA_DIR = Path(\n",
    "    OUTPUT_DIR,\n",
    "    \"data\",\n",
    "    \"raw\",\n",
    ")\n",
    "display(INPUT_DATA_DIR)\n",
    "INPUT_DATA_DIR.mkdir(parents=True, exist_ok=True)"
   ]
  },
  {
   "cell_type": "code",
   "execution_count": 8,
   "metadata": {
    "papermill": {
     "duration": 0.020424,
     "end_time": "2020-12-23T19:50:41.707114",
     "exception": false,
     "start_time": "2020-12-23T19:50:41.686690",
     "status": "completed"
    },
    "tags": []
   },
   "outputs": [
    {
     "data": {
      "text/plain": [
       "PosixPath('/media/miltondp/Elements1/projects/phenoplier/results/drug_disease_analyses/predictions')"
      ]
     },
     "metadata": {},
     "output_type": "display_data"
    }
   ],
   "source": [
    "OUTPUT_PREDICTIONS_DIR = Path(OUTPUT_DIR, \"predictions\")\n",
    "display(OUTPUT_PREDICTIONS_DIR)\n",
    "OUTPUT_PREDICTIONS_DIR.mkdir(parents=True, exist_ok=True)"
   ]
  },
  {
   "cell_type": "markdown",
   "metadata": {
    "papermill": {
     "duration": 0.009936,
     "end_time": "2020-12-23T19:50:41.727668",
     "exception": false,
     "start_time": "2020-12-23T19:50:41.717732",
     "status": "completed"
    },
    "tags": []
   },
   "source": [
    "# Load PharmacotherapyDB gold standard"
   ]
  },
  {
   "cell_type": "code",
   "execution_count": 9,
   "metadata": {
    "papermill": {
     "duration": 0.020685,
     "end_time": "2020-12-23T19:50:41.758217",
     "exception": false,
     "start_time": "2020-12-23T19:50:41.737532",
     "status": "completed"
    },
    "tags": []
   },
   "outputs": [],
   "source": [
    "gold_standard = pd.read_pickle(\n",
    "    Path(OUTPUT_DIR, \"gold_standard.pkl\"),\n",
    ")"
   ]
  },
  {
   "cell_type": "code",
   "execution_count": 10,
   "metadata": {
    "papermill": {
     "duration": 0.021437,
     "end_time": "2020-12-23T19:50:41.790924",
     "exception": false,
     "start_time": "2020-12-23T19:50:41.769487",
     "status": "completed"
    },
    "tags": []
   },
   "outputs": [
    {
     "data": {
      "text/plain": [
       "(998, 3)"
      ]
     },
     "metadata": {},
     "output_type": "display_data"
    }
   ],
   "source": [
    "display(gold_standard.shape)"
   ]
  },
  {
   "cell_type": "code",
   "execution_count": 11,
   "metadata": {
    "papermill": {
     "duration": 0.025095,
     "end_time": "2020-12-23T19:50:41.827547",
     "exception": false,
     "start_time": "2020-12-23T19:50:41.802452",
     "status": "completed"
    },
    "tags": []
   },
   "outputs": [
    {
     "data": {
      "text/html": [
       "<div>\n",
       "<style scoped>\n",
       "    .dataframe tbody tr th:only-of-type {\n",
       "        vertical-align: middle;\n",
       "    }\n",
       "\n",
       "    .dataframe tbody tr th {\n",
       "        vertical-align: top;\n",
       "    }\n",
       "\n",
       "    .dataframe thead th {\n",
       "        text-align: right;\n",
       "    }\n",
       "</style>\n",
       "<table border=\"1\" class=\"dataframe\">\n",
       "  <thead>\n",
       "    <tr style=\"text-align: right;\">\n",
       "      <th></th>\n",
       "      <th>trait</th>\n",
       "      <th>drug</th>\n",
       "      <th>true_class</th>\n",
       "    </tr>\n",
       "  </thead>\n",
       "  <tbody>\n",
       "    <tr>\n",
       "      <th>0</th>\n",
       "      <td>DOID:10652</td>\n",
       "      <td>DB00843</td>\n",
       "      <td>1</td>\n",
       "    </tr>\n",
       "    <tr>\n",
       "      <th>1</th>\n",
       "      <td>DOID:10652</td>\n",
       "      <td>DB00674</td>\n",
       "      <td>1</td>\n",
       "    </tr>\n",
       "    <tr>\n",
       "      <th>2</th>\n",
       "      <td>DOID:10652</td>\n",
       "      <td>DB01043</td>\n",
       "      <td>1</td>\n",
       "    </tr>\n",
       "    <tr>\n",
       "      <th>3</th>\n",
       "      <td>DOID:10652</td>\n",
       "      <td>DB00989</td>\n",
       "      <td>1</td>\n",
       "    </tr>\n",
       "    <tr>\n",
       "      <th>4</th>\n",
       "      <td>DOID:10652</td>\n",
       "      <td>DB00810</td>\n",
       "      <td>0</td>\n",
       "    </tr>\n",
       "  </tbody>\n",
       "</table>\n",
       "</div>"
      ],
      "text/plain": [
       "        trait     drug  true_class\n",
       "0  DOID:10652  DB00843           1\n",
       "1  DOID:10652  DB00674           1\n",
       "2  DOID:10652  DB01043           1\n",
       "3  DOID:10652  DB00989           1\n",
       "4  DOID:10652  DB00810           0"
      ]
     },
     "metadata": {},
     "output_type": "display_data"
    }
   ],
   "source": [
    "display(gold_standard.head())"
   ]
  },
  {
   "cell_type": "code",
   "execution_count": 12,
   "metadata": {
    "papermill": {
     "duration": 0.021356,
     "end_time": "2020-12-23T19:50:41.861048",
     "exception": false,
     "start_time": "2020-12-23T19:50:41.839692",
     "status": "completed"
    },
    "tags": []
   },
   "outputs": [],
   "source": [
    "doids_in_gold_standard = set(gold_standard[\"trait\"])"
   ]
  },
  {
   "cell_type": "markdown",
   "metadata": {
    "papermill": {
     "duration": 0.011051,
     "end_time": "2020-12-23T19:50:41.883598",
     "exception": false,
     "start_time": "2020-12-23T19:50:41.872547",
     "status": "completed"
    },
    "tags": []
   },
   "source": [
    "# Load LINCS"
   ]
  },
  {
   "cell_type": "markdown",
   "metadata": {
    "papermill": {
     "duration": 0.010577,
     "end_time": "2020-12-23T19:50:41.904997",
     "exception": false,
     "start_time": "2020-12-23T19:50:41.894420",
     "status": "completed"
    },
    "tags": []
   },
   "source": [
    "## Raw data"
   ]
  },
  {
   "cell_type": "code",
   "execution_count": 13,
   "metadata": {
    "papermill": {
     "duration": 0.021823,
     "end_time": "2020-12-23T19:50:41.937362",
     "exception": false,
     "start_time": "2020-12-23T19:50:41.915539",
     "status": "completed"
    },
    "tags": []
   },
   "outputs": [
    {
     "data": {
      "text/plain": [
       "PosixPath('/media/miltondp/Elements1/projects/phenoplier/results/drug_disease_analyses/data/raw/lincs-data.pkl')"
      ]
     },
     "metadata": {},
     "output_type": "display_data"
    }
   ],
   "source": [
    "input_file = Path(INPUT_DATA_DIR, \"lincs-data.pkl\").resolve()\n",
    "\n",
    "display(input_file)"
   ]
  },
  {
   "cell_type": "code",
   "execution_count": 14,
   "metadata": {
    "papermill": {
     "duration": 0.05252,
     "end_time": "2020-12-23T19:50:42.001671",
     "exception": false,
     "start_time": "2020-12-23T19:50:41.949151",
     "status": "completed"
    },
    "tags": []
   },
   "outputs": [],
   "source": [
    "lincs_projection = pd.read_pickle(input_file)"
   ]
  },
  {
   "cell_type": "code",
   "execution_count": 15,
   "metadata": {
    "papermill": {
     "duration": 0.022634,
     "end_time": "2020-12-23T19:50:42.037283",
     "exception": false,
     "start_time": "2020-12-23T19:50:42.014649",
     "status": "completed"
    },
    "tags": []
   },
   "outputs": [
    {
     "data": {
      "text/plain": [
       "(7120, 1170)"
      ]
     },
     "metadata": {},
     "output_type": "display_data"
    }
   ],
   "source": [
    "display(lincs_projection.shape)"
   ]
  },
  {
   "cell_type": "code",
   "execution_count": 16,
   "metadata": {
    "papermill": {
     "duration": 0.035095,
     "end_time": "2020-12-23T19:50:42.084412",
     "exception": false,
     "start_time": "2020-12-23T19:50:42.049317",
     "status": "completed"
    },
    "tags": []
   },
   "outputs": [
    {
     "data": {
      "text/html": [
       "<div>\n",
       "<style scoped>\n",
       "    .dataframe tbody tr th:only-of-type {\n",
       "        vertical-align: middle;\n",
       "    }\n",
       "\n",
       "    .dataframe tbody tr th {\n",
       "        vertical-align: top;\n",
       "    }\n",
       "\n",
       "    .dataframe thead th {\n",
       "        text-align: right;\n",
       "    }\n",
       "</style>\n",
       "<table border=\"1\" class=\"dataframe\">\n",
       "  <thead>\n",
       "    <tr style=\"text-align: right;\">\n",
       "      <th>perturbagen</th>\n",
       "      <th>DB00014</th>\n",
       "      <th>DB00091</th>\n",
       "      <th>DB00121</th>\n",
       "      <th>DB00130</th>\n",
       "      <th>DB00131</th>\n",
       "      <th>DB00132</th>\n",
       "      <th>DB00136</th>\n",
       "      <th>DB00140</th>\n",
       "      <th>DB00146</th>\n",
       "      <th>DB00150</th>\n",
       "      <th>...</th>\n",
       "      <th>DB08995</th>\n",
       "      <th>DB09002</th>\n",
       "      <th>DB09004</th>\n",
       "      <th>DB09009</th>\n",
       "      <th>DB09010</th>\n",
       "      <th>DB09015</th>\n",
       "      <th>DB09019</th>\n",
       "      <th>DB09020</th>\n",
       "      <th>DB09022</th>\n",
       "      <th>DB09023</th>\n",
       "    </tr>\n",
       "  </thead>\n",
       "  <tbody>\n",
       "    <tr>\n",
       "      <th>ENSG00000196839</th>\n",
       "      <td>-1.001</td>\n",
       "      <td>-1.835</td>\n",
       "      <td>1.391</td>\n",
       "      <td>1.132</td>\n",
       "      <td>0.257</td>\n",
       "      <td>1.932</td>\n",
       "      <td>0.508</td>\n",
       "      <td>1.408</td>\n",
       "      <td>0.777</td>\n",
       "      <td>0.032</td>\n",
       "      <td>...</td>\n",
       "      <td>-1.692</td>\n",
       "      <td>-0.516</td>\n",
       "      <td>-1.435</td>\n",
       "      <td>-0.317</td>\n",
       "      <td>-0.012</td>\n",
       "      <td>0.641</td>\n",
       "      <td>-0.230</td>\n",
       "      <td>-0.518</td>\n",
       "      <td>-0.177</td>\n",
       "      <td>2.146</td>\n",
       "    </tr>\n",
       "    <tr>\n",
       "      <th>ENSG00000170558</th>\n",
       "      <td>1.146</td>\n",
       "      <td>-1.863</td>\n",
       "      <td>0.011</td>\n",
       "      <td>-1.020</td>\n",
       "      <td>1.143</td>\n",
       "      <td>-0.115</td>\n",
       "      <td>1.327</td>\n",
       "      <td>0.310</td>\n",
       "      <td>-1.853</td>\n",
       "      <td>0.872</td>\n",
       "      <td>...</td>\n",
       "      <td>0.354</td>\n",
       "      <td>0.498</td>\n",
       "      <td>0.268</td>\n",
       "      <td>-1.084</td>\n",
       "      <td>-0.142</td>\n",
       "      <td>-0.077</td>\n",
       "      <td>0.633</td>\n",
       "      <td>-1.807</td>\n",
       "      <td>0.032</td>\n",
       "      <td>0.135</td>\n",
       "    </tr>\n",
       "    <tr>\n",
       "      <th>ENSG00000117020</th>\n",
       "      <td>-0.693</td>\n",
       "      <td>1.694</td>\n",
       "      <td>-0.804</td>\n",
       "      <td>-0.164</td>\n",
       "      <td>1.145</td>\n",
       "      <td>-1.465</td>\n",
       "      <td>1.221</td>\n",
       "      <td>-0.747</td>\n",
       "      <td>0.829</td>\n",
       "      <td>-0.961</td>\n",
       "      <td>...</td>\n",
       "      <td>-1.196</td>\n",
       "      <td>-0.230</td>\n",
       "      <td>-1.049</td>\n",
       "      <td>-0.347</td>\n",
       "      <td>0.586</td>\n",
       "      <td>0.865</td>\n",
       "      <td>-0.021</td>\n",
       "      <td>2.180</td>\n",
       "      <td>-0.956</td>\n",
       "      <td>0.105</td>\n",
       "    </tr>\n",
       "    <tr>\n",
       "      <th>ENSG00000133997</th>\n",
       "      <td>-0.037</td>\n",
       "      <td>0.383</td>\n",
       "      <td>0.269</td>\n",
       "      <td>-0.997</td>\n",
       "      <td>0.185</td>\n",
       "      <td>-0.536</td>\n",
       "      <td>0.424</td>\n",
       "      <td>-0.119</td>\n",
       "      <td>-1.313</td>\n",
       "      <td>0.579</td>\n",
       "      <td>...</td>\n",
       "      <td>-0.343</td>\n",
       "      <td>0.116</td>\n",
       "      <td>-0.245</td>\n",
       "      <td>-0.127</td>\n",
       "      <td>-1.367</td>\n",
       "      <td>0.149</td>\n",
       "      <td>0.117</td>\n",
       "      <td>2.084</td>\n",
       "      <td>1.178</td>\n",
       "      <td>0.772</td>\n",
       "    </tr>\n",
       "    <tr>\n",
       "      <th>ENSG00000101473</th>\n",
       "      <td>0.162</td>\n",
       "      <td>-0.899</td>\n",
       "      <td>0.105</td>\n",
       "      <td>-0.090</td>\n",
       "      <td>-1.291</td>\n",
       "      <td>1.404</td>\n",
       "      <td>0.185</td>\n",
       "      <td>0.157</td>\n",
       "      <td>-0.327</td>\n",
       "      <td>-0.026</td>\n",
       "      <td>...</td>\n",
       "      <td>-0.136</td>\n",
       "      <td>-1.115</td>\n",
       "      <td>-0.280</td>\n",
       "      <td>0.200</td>\n",
       "      <td>0.638</td>\n",
       "      <td>-0.197</td>\n",
       "      <td>-0.360</td>\n",
       "      <td>-2.302</td>\n",
       "      <td>-0.117</td>\n",
       "      <td>-0.167</td>\n",
       "    </tr>\n",
       "  </tbody>\n",
       "</table>\n",
       "<p>5 rows × 1170 columns</p>\n",
       "</div>"
      ],
      "text/plain": [
       "perturbagen      DB00014  DB00091  DB00121  DB00130  DB00131  DB00132  \\\n",
       "ENSG00000196839   -1.001   -1.835    1.391    1.132    0.257    1.932   \n",
       "ENSG00000170558    1.146   -1.863    0.011   -1.020    1.143   -0.115   \n",
       "ENSG00000117020   -0.693    1.694   -0.804   -0.164    1.145   -1.465   \n",
       "ENSG00000133997   -0.037    0.383    0.269   -0.997    0.185   -0.536   \n",
       "ENSG00000101473    0.162   -0.899    0.105   -0.090   -1.291    1.404   \n",
       "\n",
       "perturbagen      DB00136  DB00140  DB00146  DB00150  ...  DB08995  DB09002  \\\n",
       "ENSG00000196839    0.508    1.408    0.777    0.032  ...   -1.692   -0.516   \n",
       "ENSG00000170558    1.327    0.310   -1.853    0.872  ...    0.354    0.498   \n",
       "ENSG00000117020    1.221   -0.747    0.829   -0.961  ...   -1.196   -0.230   \n",
       "ENSG00000133997    0.424   -0.119   -1.313    0.579  ...   -0.343    0.116   \n",
       "ENSG00000101473    0.185    0.157   -0.327   -0.026  ...   -0.136   -1.115   \n",
       "\n",
       "perturbagen      DB09004  DB09009  DB09010  DB09015  DB09019  DB09020  \\\n",
       "ENSG00000196839   -1.435   -0.317   -0.012    0.641   -0.230   -0.518   \n",
       "ENSG00000170558    0.268   -1.084   -0.142   -0.077    0.633   -1.807   \n",
       "ENSG00000117020   -1.049   -0.347    0.586    0.865   -0.021    2.180   \n",
       "ENSG00000133997   -0.245   -0.127   -1.367    0.149    0.117    2.084   \n",
       "ENSG00000101473   -0.280    0.200    0.638   -0.197   -0.360   -2.302   \n",
       "\n",
       "perturbagen      DB09022  DB09023  \n",
       "ENSG00000196839   -0.177    2.146  \n",
       "ENSG00000170558    0.032    0.135  \n",
       "ENSG00000117020   -0.956    0.105  \n",
       "ENSG00000133997    1.178    0.772  \n",
       "ENSG00000101473   -0.117   -0.167  \n",
       "\n",
       "[5 rows x 1170 columns]"
      ]
     },
     "metadata": {},
     "output_type": "display_data"
    }
   ],
   "source": [
    "display(lincs_projection.head())"
   ]
  },
  {
   "cell_type": "markdown",
   "metadata": {
    "papermill": {
     "duration": 0.011754,
     "end_time": "2020-12-23T19:50:42.108487",
     "exception": false,
     "start_time": "2020-12-23T19:50:42.096733",
     "status": "completed"
    },
    "tags": []
   },
   "source": [
    "# Load S-PrediXcan"
   ]
  },
  {
   "cell_type": "code",
   "execution_count": 17,
   "metadata": {
    "papermill": {
     "duration": 0.224618,
     "end_time": "2020-12-23T19:50:42.345643",
     "exception": false,
     "start_time": "2020-12-23T19:50:42.121025",
     "status": "completed"
    },
    "tags": []
   },
   "outputs": [],
   "source": [
    "from entity import Trait"
   ]
  },
  {
   "cell_type": "code",
   "execution_count": 18,
   "metadata": {
    "papermill": {
     "duration": 0.022572,
     "end_time": "2020-12-23T19:50:42.381817",
     "exception": false,
     "start_time": "2020-12-23T19:50:42.359245",
     "status": "completed"
    },
    "tags": []
   },
   "outputs": [],
   "source": [
    "phenomexcan_input_file_list = [\n",
    "    f\n",
    "    for f in INPUT_DATA_DIR.glob(\"*.pkl\")\n",
    "    if f.name.startswith(\"spredixcan-\")\n",
    "    #     if f.name.startswith((\"smultixcan-\", \"spredixcan-\"))\n",
    "]"
   ]
  },
  {
   "cell_type": "code",
   "execution_count": 19,
   "metadata": {
    "papermill": {
     "duration": 0.022258,
     "end_time": "2020-12-23T19:50:42.417071",
     "exception": false,
     "start_time": "2020-12-23T19:50:42.394813",
     "status": "completed"
    },
    "tags": []
   },
   "outputs": [
    {
     "data": {
      "text/plain": [
       "1"
      ]
     },
     "metadata": {},
     "output_type": "display_data"
    }
   ],
   "source": [
    "display(len(phenomexcan_input_file_list))"
   ]
  },
  {
   "cell_type": "code",
   "execution_count": 21,
   "metadata": {},
   "outputs": [
    {
     "data": {
      "text/html": [
       "<div>\n",
       "<style scoped>\n",
       "    .dataframe tbody tr th:only-of-type {\n",
       "        vertical-align: middle;\n",
       "    }\n",
       "\n",
       "    .dataframe tbody tr th {\n",
       "        vertical-align: top;\n",
       "    }\n",
       "\n",
       "    .dataframe thead th {\n",
       "        text-align: right;\n",
       "    }\n",
       "</style>\n",
       "<table border=\"1\" class=\"dataframe\">\n",
       "  <thead>\n",
       "    <tr style=\"text-align: right;\">\n",
       "      <th></th>\n",
       "      <th>20096_1-Size_of_red_wine_glass_drunk_small_125ml</th>\n",
       "      <th>2345-Ever_had_bowel_cancer_screening</th>\n",
       "      <th>N49-Diagnoses_main_ICD10_N49_Inflammatory_disorders_of_male_genital_organs_not_elsewhere_classified</th>\n",
       "      <th>100011_raw-Iron</th>\n",
       "      <th>5221-Index_of_best_refractometry_result_right</th>\n",
       "      <th>20003_1141150624-Treatmentmedication_code_zomig_25mg_tablet</th>\n",
       "      <th>S69-Diagnoses_main_ICD10_S69_Other_and_unspecified_injuries_of_wrist_and_hand</th>\n",
       "      <th>20024_1136-Job_code_deduced_Information_and_communication_technology_managers</th>\n",
       "      <th>20002_1385-Noncancer_illness_code_selfreported_allergy_or_anaphylactic_reaction_to_food</th>\n",
       "      <th>G6_SLEEPAPNO-Sleep_apnoea</th>\n",
       "      <th>...</th>\n",
       "      <th>Astle_et_al_2016_Sum_basophil_neutrophil_counts</th>\n",
       "      <th>RA_OKADA_TRANS_ETHNIC</th>\n",
       "      <th>pgc.scz2</th>\n",
       "      <th>PGC_ADHD_EUR_2017</th>\n",
       "      <th>MAGIC_FastingGlucose</th>\n",
       "      <th>Astle_et_al_2016_Red_blood_cell_count</th>\n",
       "      <th>SSGAC_Depressive_Symptoms</th>\n",
       "      <th>BCAC_ER_positive_BreastCancer_EUR</th>\n",
       "      <th>IBD.EUR.Inflammatory_Bowel_Disease</th>\n",
       "      <th>Astle_et_al_2016_High_light_scatter_reticulocyte_count</th>\n",
       "    </tr>\n",
       "  </thead>\n",
       "  <tbody>\n",
       "    <tr>\n",
       "      <th>ENSG00000000419</th>\n",
       "      <td>-0.521616</td>\n",
       "      <td>-0.354356</td>\n",
       "      <td>-0.647688</td>\n",
       "      <td>1.110194</td>\n",
       "      <td>-1.786116</td>\n",
       "      <td>1.714687</td>\n",
       "      <td>0.999024</td>\n",
       "      <td>-1.662682</td>\n",
       "      <td>1.576522</td>\n",
       "      <td>-1.402812</td>\n",
       "      <td>...</td>\n",
       "      <td>1.614588</td>\n",
       "      <td>0.954165</td>\n",
       "      <td>-1.325516</td>\n",
       "      <td>-0.290283</td>\n",
       "      <td>1.009580</td>\n",
       "      <td>-1.237774</td>\n",
       "      <td>-1.083244</td>\n",
       "      <td>1.711170</td>\n",
       "      <td>-1.144057</td>\n",
       "      <td>-0.803475</td>\n",
       "    </tr>\n",
       "    <tr>\n",
       "      <th>ENSG00000000457</th>\n",
       "      <td>-1.885895</td>\n",
       "      <td>-2.056025</td>\n",
       "      <td>-0.693315</td>\n",
       "      <td>1.342271</td>\n",
       "      <td>1.631252</td>\n",
       "      <td>-1.902825</td>\n",
       "      <td>-1.485516</td>\n",
       "      <td>-2.356658</td>\n",
       "      <td>3.181447</td>\n",
       "      <td>2.094172</td>\n",
       "      <td>...</td>\n",
       "      <td>2.582993</td>\n",
       "      <td>2.004654</td>\n",
       "      <td>2.918376</td>\n",
       "      <td>1.886111</td>\n",
       "      <td>1.242073</td>\n",
       "      <td>1.184227</td>\n",
       "      <td>1.190373</td>\n",
       "      <td>0.773194</td>\n",
       "      <td>-2.302876</td>\n",
       "      <td>1.702888</td>\n",
       "    </tr>\n",
       "    <tr>\n",
       "      <th>ENSG00000000460</th>\n",
       "      <td>-1.269773</td>\n",
       "      <td>-2.088193</td>\n",
       "      <td>-2.868509</td>\n",
       "      <td>1.653372</td>\n",
       "      <td>1.307943</td>\n",
       "      <td>-2.114711</td>\n",
       "      <td>1.162425</td>\n",
       "      <td>-1.418749</td>\n",
       "      <td>2.363683</td>\n",
       "      <td>-1.480930</td>\n",
       "      <td>...</td>\n",
       "      <td>1.577850</td>\n",
       "      <td>1.156873</td>\n",
       "      <td>-1.480989</td>\n",
       "      <td>-1.384810</td>\n",
       "      <td>1.820841</td>\n",
       "      <td>1.872488</td>\n",
       "      <td>-1.279276</td>\n",
       "      <td>-1.054766</td>\n",
       "      <td>2.876039</td>\n",
       "      <td>-2.125799</td>\n",
       "    </tr>\n",
       "    <tr>\n",
       "      <th>ENSG00000000938</th>\n",
       "      <td>1.521316</td>\n",
       "      <td>-1.344366</td>\n",
       "      <td>-2.155603</td>\n",
       "      <td>1.313485</td>\n",
       "      <td>1.537092</td>\n",
       "      <td>4.348633</td>\n",
       "      <td>-0.604390</td>\n",
       "      <td>-1.816184</td>\n",
       "      <td>-1.049993</td>\n",
       "      <td>1.669054</td>\n",
       "      <td>...</td>\n",
       "      <td>1.369958</td>\n",
       "      <td>-0.446664</td>\n",
       "      <td>-3.131358</td>\n",
       "      <td>1.459237</td>\n",
       "      <td>1.007082</td>\n",
       "      <td>2.096814</td>\n",
       "      <td>0.932845</td>\n",
       "      <td>-2.452785</td>\n",
       "      <td>1.710248</td>\n",
       "      <td>1.730114</td>\n",
       "    </tr>\n",
       "    <tr>\n",
       "      <th>ENSG00000000971</th>\n",
       "      <td>-1.409875</td>\n",
       "      <td>-1.325785</td>\n",
       "      <td>-1.674708</td>\n",
       "      <td>1.316074</td>\n",
       "      <td>-1.145304</td>\n",
       "      <td>-0.788946</td>\n",
       "      <td>1.549621</td>\n",
       "      <td>1.224362</td>\n",
       "      <td>-0.670558</td>\n",
       "      <td>-1.915256</td>\n",
       "      <td>...</td>\n",
       "      <td>-1.882554</td>\n",
       "      <td>2.691985</td>\n",
       "      <td>-3.261818</td>\n",
       "      <td>2.756464</td>\n",
       "      <td>-1.038795</td>\n",
       "      <td>-0.576466</td>\n",
       "      <td>-3.605774</td>\n",
       "      <td>1.423109</td>\n",
       "      <td>-1.578721</td>\n",
       "      <td>-1.200703</td>\n",
       "    </tr>\n",
       "  </tbody>\n",
       "</table>\n",
       "<p>5 rows × 4091 columns</p>\n",
       "</div>"
      ],
      "text/plain": [
       "                 20096_1-Size_of_red_wine_glass_drunk_small_125ml  \\\n",
       "ENSG00000000419                                         -0.521616   \n",
       "ENSG00000000457                                         -1.885895   \n",
       "ENSG00000000460                                         -1.269773   \n",
       "ENSG00000000938                                          1.521316   \n",
       "ENSG00000000971                                         -1.409875   \n",
       "\n",
       "                 2345-Ever_had_bowel_cancer_screening  \\\n",
       "ENSG00000000419                             -0.354356   \n",
       "ENSG00000000457                             -2.056025   \n",
       "ENSG00000000460                             -2.088193   \n",
       "ENSG00000000938                             -1.344366   \n",
       "ENSG00000000971                             -1.325785   \n",
       "\n",
       "                 N49-Diagnoses_main_ICD10_N49_Inflammatory_disorders_of_male_genital_organs_not_elsewhere_classified  \\\n",
       "ENSG00000000419                                          -0.647688                                                     \n",
       "ENSG00000000457                                          -0.693315                                                     \n",
       "ENSG00000000460                                          -2.868509                                                     \n",
       "ENSG00000000938                                          -2.155603                                                     \n",
       "ENSG00000000971                                          -1.674708                                                     \n",
       "\n",
       "                 100011_raw-Iron  \\\n",
       "ENSG00000000419         1.110194   \n",
       "ENSG00000000457         1.342271   \n",
       "ENSG00000000460         1.653372   \n",
       "ENSG00000000938         1.313485   \n",
       "ENSG00000000971         1.316074   \n",
       "\n",
       "                 5221-Index_of_best_refractometry_result_right  \\\n",
       "ENSG00000000419                                      -1.786116   \n",
       "ENSG00000000457                                       1.631252   \n",
       "ENSG00000000460                                       1.307943   \n",
       "ENSG00000000938                                       1.537092   \n",
       "ENSG00000000971                                      -1.145304   \n",
       "\n",
       "                 20003_1141150624-Treatmentmedication_code_zomig_25mg_tablet  \\\n",
       "ENSG00000000419                                           1.714687             \n",
       "ENSG00000000457                                          -1.902825             \n",
       "ENSG00000000460                                          -2.114711             \n",
       "ENSG00000000938                                           4.348633             \n",
       "ENSG00000000971                                          -0.788946             \n",
       "\n",
       "                 S69-Diagnoses_main_ICD10_S69_Other_and_unspecified_injuries_of_wrist_and_hand  \\\n",
       "ENSG00000000419                                           0.999024                               \n",
       "ENSG00000000457                                          -1.485516                               \n",
       "ENSG00000000460                                           1.162425                               \n",
       "ENSG00000000938                                          -0.604390                               \n",
       "ENSG00000000971                                           1.549621                               \n",
       "\n",
       "                 20024_1136-Job_code_deduced_Information_and_communication_technology_managers  \\\n",
       "ENSG00000000419                                          -1.662682                               \n",
       "ENSG00000000457                                          -2.356658                               \n",
       "ENSG00000000460                                          -1.418749                               \n",
       "ENSG00000000938                                          -1.816184                               \n",
       "ENSG00000000971                                           1.224362                               \n",
       "\n",
       "                 20002_1385-Noncancer_illness_code_selfreported_allergy_or_anaphylactic_reaction_to_food  \\\n",
       "ENSG00000000419                                           1.576522                                         \n",
       "ENSG00000000457                                           3.181447                                         \n",
       "ENSG00000000460                                           2.363683                                         \n",
       "ENSG00000000938                                          -1.049993                                         \n",
       "ENSG00000000971                                          -0.670558                                         \n",
       "\n",
       "                 G6_SLEEPAPNO-Sleep_apnoea  ...  \\\n",
       "ENSG00000000419                  -1.402812  ...   \n",
       "ENSG00000000457                   2.094172  ...   \n",
       "ENSG00000000460                  -1.480930  ...   \n",
       "ENSG00000000938                   1.669054  ...   \n",
       "ENSG00000000971                  -1.915256  ...   \n",
       "\n",
       "                 Astle_et_al_2016_Sum_basophil_neutrophil_counts  \\\n",
       "ENSG00000000419                                         1.614588   \n",
       "ENSG00000000457                                         2.582993   \n",
       "ENSG00000000460                                         1.577850   \n",
       "ENSG00000000938                                         1.369958   \n",
       "ENSG00000000971                                        -1.882554   \n",
       "\n",
       "                 RA_OKADA_TRANS_ETHNIC  pgc.scz2  PGC_ADHD_EUR_2017  \\\n",
       "ENSG00000000419               0.954165 -1.325516          -0.290283   \n",
       "ENSG00000000457               2.004654  2.918376           1.886111   \n",
       "ENSG00000000460               1.156873 -1.480989          -1.384810   \n",
       "ENSG00000000938              -0.446664 -3.131358           1.459237   \n",
       "ENSG00000000971               2.691985 -3.261818           2.756464   \n",
       "\n",
       "                 MAGIC_FastingGlucose  Astle_et_al_2016_Red_blood_cell_count  \\\n",
       "ENSG00000000419              1.009580                              -1.237774   \n",
       "ENSG00000000457              1.242073                               1.184227   \n",
       "ENSG00000000460              1.820841                               1.872488   \n",
       "ENSG00000000938              1.007082                               2.096814   \n",
       "ENSG00000000971             -1.038795                              -0.576466   \n",
       "\n",
       "                 SSGAC_Depressive_Symptoms  BCAC_ER_positive_BreastCancer_EUR  \\\n",
       "ENSG00000000419                  -1.083244                           1.711170   \n",
       "ENSG00000000457                   1.190373                           0.773194   \n",
       "ENSG00000000460                  -1.279276                          -1.054766   \n",
       "ENSG00000000938                   0.932845                          -2.452785   \n",
       "ENSG00000000971                  -3.605774                           1.423109   \n",
       "\n",
       "                 IBD.EUR.Inflammatory_Bowel_Disease  \\\n",
       "ENSG00000000419                           -1.144057   \n",
       "ENSG00000000457                           -2.302876   \n",
       "ENSG00000000460                            2.876039   \n",
       "ENSG00000000938                            1.710248   \n",
       "ENSG00000000971                           -1.578721   \n",
       "\n",
       "                 Astle_et_al_2016_High_light_scatter_reticulocyte_count  \n",
       "ENSG00000000419                                          -0.803475       \n",
       "ENSG00000000457                                           1.702888       \n",
       "ENSG00000000460                                          -2.125799       \n",
       "ENSG00000000938                                           1.730114       \n",
       "ENSG00000000971                                          -1.200703       \n",
       "\n",
       "[5 rows x 4091 columns]"
      ]
     },
     "execution_count": 21,
     "metadata": {},
     "output_type": "execute_result"
    }
   ],
   "source": [
    "pd.read_pickle(phenomexcan_input_file_list[0]).head()"
   ]
  },
  {
   "cell_type": "markdown",
   "metadata": {
    "papermill": {
     "duration": 0.012297,
     "end_time": "2020-12-23T19:50:42.442121",
     "exception": false,
     "start_time": "2020-12-23T19:50:42.429824",
     "status": "completed"
    },
    "tags": []
   },
   "source": [
    "# Predict drug-disease associations"
   ]
  },
  {
   "cell_type": "code",
   "execution_count": 22,
   "metadata": {
    "papermill": {
     "duration": 0.594541,
     "end_time": "2020-12-23T19:50:43.049740",
     "exception": false,
     "start_time": "2020-12-23T19:50:42.455199",
     "status": "completed"
    },
    "tags": []
   },
   "outputs": [],
   "source": [
    "from drug_disease import (\n",
    "    #     predict_dotprod,\n",
    "    predict_dotprod_neg,\n",
    "    #     predict_pearson,\n",
    "    #     predict_pearson_neg,\n",
    "    #     predict_spearman,\n",
    "    #     predict_spearman_neg,\n",
    ")"
   ]
  },
  {
   "cell_type": "code",
   "execution_count": 23,
   "metadata": {},
   "outputs": [],
   "source": [
    "methods_to_run = [predict_dotprod_neg]"
   ]
  },
  {
   "cell_type": "code",
   "execution_count": 24,
   "metadata": {
    "papermill": {
     "duration": 5362.660602,
     "end_time": "2020-12-23T21:20:05.724677",
     "exception": false,
     "start_time": "2020-12-23T19:50:43.064075",
     "status": "completed"
    },
    "tags": []
   },
   "outputs": [
    {
     "name": "stdout",
     "output_type": "stream",
     "text": [
      "spredixcan-most_signif-data.pkl\n",
      "  shape: (7086, 4091)\n",
      "  predicting all_genes...\n",
      "    shape: (1170, 4091)\n",
      "    shape (after DOID map): (1170, 351)\n",
      "  building classifier data...\n",
      "    shape: (410670, 3)\n"
     ]
    },
    {
     "data": {
      "text/html": [
       "<div>\n",
       "<style scoped>\n",
       "    .dataframe tbody tr th:only-of-type {\n",
       "        vertical-align: middle;\n",
       "    }\n",
       "\n",
       "    .dataframe tbody tr th {\n",
       "        vertical-align: top;\n",
       "    }\n",
       "\n",
       "    .dataframe thead th {\n",
       "        text-align: right;\n",
       "    }\n",
       "</style>\n",
       "<table border=\"1\" class=\"dataframe\">\n",
       "  <thead>\n",
       "    <tr style=\"text-align: right;\">\n",
       "      <th></th>\n",
       "      <th>score</th>\n",
       "    </tr>\n",
       "  </thead>\n",
       "  <tbody>\n",
       "    <tr>\n",
       "      <th>count</th>\n",
       "      <td>410670.000000</td>\n",
       "    </tr>\n",
       "    <tr>\n",
       "      <th>mean</th>\n",
       "      <td>48.857712</td>\n",
       "    </tr>\n",
       "    <tr>\n",
       "      <th>std</th>\n",
       "      <td>320.014221</td>\n",
       "    </tr>\n",
       "    <tr>\n",
       "      <th>min</th>\n",
       "      <td>-10320.613263</td>\n",
       "    </tr>\n",
       "    <tr>\n",
       "      <th>25%</th>\n",
       "      <td>-56.458472</td>\n",
       "    </tr>\n",
       "    <tr>\n",
       "      <th>50%</th>\n",
       "      <td>36.735054</td>\n",
       "    </tr>\n",
       "    <tr>\n",
       "      <th>75%</th>\n",
       "      <td>132.484432</td>\n",
       "    </tr>\n",
       "    <tr>\n",
       "      <th>max</th>\n",
       "      <td>15344.861226</td>\n",
       "    </tr>\n",
       "  </tbody>\n",
       "</table>\n",
       "</div>"
      ],
      "text/plain": [
       "               score\n",
       "count  410670.000000\n",
       "mean       48.857712\n",
       "std       320.014221\n",
       "min    -10320.613263\n",
       "25%       -56.458472\n",
       "50%        36.735054\n",
       "75%       132.484432\n",
       "max     15344.861226"
      ]
     },
     "metadata": {},
     "output_type": "display_data"
    },
    {
     "name": "stdout",
     "output_type": "stream",
     "text": [
      "    saving to: /media/miltondp/Elements1/projects/phenoplier/results/drug_disease_analyses/predictions/dotprod_neg/spredixcan-most_signif-data-all_genes-prediction_scores.h5\n",
      "\n",
      "\n",
      "  predicting top_50_genes...\n",
      "    shape: (1170, 4091)\n",
      "    shape (after DOID map): (1170, 351)\n",
      "  building classifier data...\n",
      "    shape: (410670, 3)\n"
     ]
    },
    {
     "data": {
      "text/html": [
       "<div>\n",
       "<style scoped>\n",
       "    .dataframe tbody tr th:only-of-type {\n",
       "        vertical-align: middle;\n",
       "    }\n",
       "\n",
       "    .dataframe tbody tr th {\n",
       "        vertical-align: top;\n",
       "    }\n",
       "\n",
       "    .dataframe thead th {\n",
       "        text-align: right;\n",
       "    }\n",
       "</style>\n",
       "<table border=\"1\" class=\"dataframe\">\n",
       "  <thead>\n",
       "    <tr style=\"text-align: right;\">\n",
       "      <th></th>\n",
       "      <th>score</th>\n",
       "    </tr>\n",
       "  </thead>\n",
       "  <tbody>\n",
       "    <tr>\n",
       "      <th>count</th>\n",
       "      <td>410670.000000</td>\n",
       "    </tr>\n",
       "    <tr>\n",
       "      <th>mean</th>\n",
       "      <td>8.663541</td>\n",
       "    </tr>\n",
       "    <tr>\n",
       "      <th>std</th>\n",
       "      <td>69.670928</td>\n",
       "    </tr>\n",
       "    <tr>\n",
       "      <th>min</th>\n",
       "      <td>-3411.490683</td>\n",
       "    </tr>\n",
       "    <tr>\n",
       "      <th>25%</th>\n",
       "      <td>-10.723551</td>\n",
       "    </tr>\n",
       "    <tr>\n",
       "      <th>50%</th>\n",
       "      <td>6.557789</td>\n",
       "    </tr>\n",
       "    <tr>\n",
       "      <th>75%</th>\n",
       "      <td>24.049320</td>\n",
       "    </tr>\n",
       "    <tr>\n",
       "      <th>max</th>\n",
       "      <td>8775.102557</td>\n",
       "    </tr>\n",
       "  </tbody>\n",
       "</table>\n",
       "</div>"
      ],
      "text/plain": [
       "               score\n",
       "count  410670.000000\n",
       "mean        8.663541\n",
       "std        69.670928\n",
       "min     -3411.490683\n",
       "25%       -10.723551\n",
       "50%         6.557789\n",
       "75%        24.049320\n",
       "max      8775.102557"
      ]
     },
     "metadata": {},
     "output_type": "display_data"
    },
    {
     "name": "stdout",
     "output_type": "stream",
     "text": [
      "    saving to: /media/miltondp/Elements1/projects/phenoplier/results/drug_disease_analyses/predictions/dotprod_neg/spredixcan-most_signif-data-top_50_genes-prediction_scores.h5\n",
      "\n",
      "\n",
      "  predicting top_100_genes...\n",
      "    shape: (1170, 4091)\n",
      "    shape (after DOID map): (1170, 351)\n",
      "  building classifier data...\n",
      "    shape: (410670, 3)\n"
     ]
    },
    {
     "data": {
      "text/html": [
       "<div>\n",
       "<style scoped>\n",
       "    .dataframe tbody tr th:only-of-type {\n",
       "        vertical-align: middle;\n",
       "    }\n",
       "\n",
       "    .dataframe tbody tr th {\n",
       "        vertical-align: top;\n",
       "    }\n",
       "\n",
       "    .dataframe thead th {\n",
       "        text-align: right;\n",
       "    }\n",
       "</style>\n",
       "<table border=\"1\" class=\"dataframe\">\n",
       "  <thead>\n",
       "    <tr style=\"text-align: right;\">\n",
       "      <th></th>\n",
       "      <th>score</th>\n",
       "    </tr>\n",
       "  </thead>\n",
       "  <tbody>\n",
       "    <tr>\n",
       "      <th>count</th>\n",
       "      <td>410670.000000</td>\n",
       "    </tr>\n",
       "    <tr>\n",
       "      <th>mean</th>\n",
       "      <td>11.948209</td>\n",
       "    </tr>\n",
       "    <tr>\n",
       "      <th>std</th>\n",
       "      <td>85.652550</td>\n",
       "    </tr>\n",
       "    <tr>\n",
       "      <th>min</th>\n",
       "      <td>-3672.976906</td>\n",
       "    </tr>\n",
       "    <tr>\n",
       "      <th>25%</th>\n",
       "      <td>-13.920688</td>\n",
       "    </tr>\n",
       "    <tr>\n",
       "      <th>50%</th>\n",
       "      <td>8.896166</td>\n",
       "    </tr>\n",
       "    <tr>\n",
       "      <th>75%</th>\n",
       "      <td>32.024711</td>\n",
       "    </tr>\n",
       "    <tr>\n",
       "      <th>max</th>\n",
       "      <td>9531.794412</td>\n",
       "    </tr>\n",
       "  </tbody>\n",
       "</table>\n",
       "</div>"
      ],
      "text/plain": [
       "               score\n",
       "count  410670.000000\n",
       "mean       11.948209\n",
       "std        85.652550\n",
       "min     -3672.976906\n",
       "25%       -13.920688\n",
       "50%         8.896166\n",
       "75%        32.024711\n",
       "max      9531.794412"
      ]
     },
     "metadata": {},
     "output_type": "display_data"
    },
    {
     "name": "stdout",
     "output_type": "stream",
     "text": [
      "    saving to: /media/miltondp/Elements1/projects/phenoplier/results/drug_disease_analyses/predictions/dotprod_neg/spredixcan-most_signif-data-top_100_genes-prediction_scores.h5\n",
      "\n",
      "\n",
      "  predicting top_250_genes...\n",
      "    shape: (1170, 4091)\n",
      "    shape (after DOID map): (1170, 351)\n",
      "  building classifier data...\n",
      "    shape: (410670, 3)\n"
     ]
    },
    {
     "data": {
      "text/html": [
       "<div>\n",
       "<style scoped>\n",
       "    .dataframe tbody tr th:only-of-type {\n",
       "        vertical-align: middle;\n",
       "    }\n",
       "\n",
       "    .dataframe tbody tr th {\n",
       "        vertical-align: top;\n",
       "    }\n",
       "\n",
       "    .dataframe thead th {\n",
       "        text-align: right;\n",
       "    }\n",
       "</style>\n",
       "<table border=\"1\" class=\"dataframe\">\n",
       "  <thead>\n",
       "    <tr style=\"text-align: right;\">\n",
       "      <th></th>\n",
       "      <th>score</th>\n",
       "    </tr>\n",
       "  </thead>\n",
       "  <tbody>\n",
       "    <tr>\n",
       "      <th>count</th>\n",
       "      <td>410670.000000</td>\n",
       "    </tr>\n",
       "    <tr>\n",
       "      <th>mean</th>\n",
       "      <td>17.280056</td>\n",
       "    </tr>\n",
       "    <tr>\n",
       "      <th>std</th>\n",
       "      <td>117.555031</td>\n",
       "    </tr>\n",
       "    <tr>\n",
       "      <th>min</th>\n",
       "      <td>-4802.424684</td>\n",
       "    </tr>\n",
       "    <tr>\n",
       "      <th>25%</th>\n",
       "      <td>-19.866577</td>\n",
       "    </tr>\n",
       "    <tr>\n",
       "      <th>50%</th>\n",
       "      <td>12.908558</td>\n",
       "    </tr>\n",
       "    <tr>\n",
       "      <th>75%</th>\n",
       "      <td>46.174251</td>\n",
       "    </tr>\n",
       "    <tr>\n",
       "      <th>max</th>\n",
       "      <td>9082.186853</td>\n",
       "    </tr>\n",
       "  </tbody>\n",
       "</table>\n",
       "</div>"
      ],
      "text/plain": [
       "               score\n",
       "count  410670.000000\n",
       "mean       17.280056\n",
       "std       117.555031\n",
       "min     -4802.424684\n",
       "25%       -19.866577\n",
       "50%        12.908558\n",
       "75%        46.174251\n",
       "max      9082.186853"
      ]
     },
     "metadata": {},
     "output_type": "display_data"
    },
    {
     "name": "stdout",
     "output_type": "stream",
     "text": [
      "    saving to: /media/miltondp/Elements1/projects/phenoplier/results/drug_disease_analyses/predictions/dotprod_neg/spredixcan-most_signif-data-top_250_genes-prediction_scores.h5\n",
      "\n",
      "\n",
      "  predicting top_500_genes...\n",
      "    shape: (1170, 4091)\n",
      "    shape (after DOID map): (1170, 351)\n",
      "  building classifier data...\n",
      "    shape: (410670, 3)\n"
     ]
    },
    {
     "data": {
      "text/html": [
       "<div>\n",
       "<style scoped>\n",
       "    .dataframe tbody tr th:only-of-type {\n",
       "        vertical-align: middle;\n",
       "    }\n",
       "\n",
       "    .dataframe tbody tr th {\n",
       "        vertical-align: top;\n",
       "    }\n",
       "\n",
       "    .dataframe thead th {\n",
       "        text-align: right;\n",
       "    }\n",
       "</style>\n",
       "<table border=\"1\" class=\"dataframe\">\n",
       "  <thead>\n",
       "    <tr style=\"text-align: right;\">\n",
       "      <th></th>\n",
       "      <th>score</th>\n",
       "    </tr>\n",
       "  </thead>\n",
       "  <tbody>\n",
       "    <tr>\n",
       "      <th>count</th>\n",
       "      <td>410670.000000</td>\n",
       "    </tr>\n",
       "    <tr>\n",
       "      <th>mean</th>\n",
       "      <td>22.083991</td>\n",
       "    </tr>\n",
       "    <tr>\n",
       "      <th>std</th>\n",
       "      <td>148.249251</td>\n",
       "    </tr>\n",
       "    <tr>\n",
       "      <th>min</th>\n",
       "      <td>-5349.318288</td>\n",
       "    </tr>\n",
       "    <tr>\n",
       "      <th>25%</th>\n",
       "      <td>-25.438721</td>\n",
       "    </tr>\n",
       "    <tr>\n",
       "      <th>50%</th>\n",
       "      <td>16.764418</td>\n",
       "    </tr>\n",
       "    <tr>\n",
       "      <th>75%</th>\n",
       "      <td>59.752494</td>\n",
       "    </tr>\n",
       "    <tr>\n",
       "      <th>max</th>\n",
       "      <td>9373.322484</td>\n",
       "    </tr>\n",
       "  </tbody>\n",
       "</table>\n",
       "</div>"
      ],
      "text/plain": [
       "               score\n",
       "count  410670.000000\n",
       "mean       22.083991\n",
       "std       148.249251\n",
       "min     -5349.318288\n",
       "25%       -25.438721\n",
       "50%        16.764418\n",
       "75%        59.752494\n",
       "max      9373.322484"
      ]
     },
     "metadata": {},
     "output_type": "display_data"
    },
    {
     "name": "stdout",
     "output_type": "stream",
     "text": [
      "    saving to: /media/miltondp/Elements1/projects/phenoplier/results/drug_disease_analyses/predictions/dotprod_neg/spredixcan-most_signif-data-top_500_genes-prediction_scores.h5\n",
      "\n",
      "\n"
     ]
    }
   ],
   "source": [
    "for phenomexcan_input_file in phenomexcan_input_file_list:\n",
    "    print(phenomexcan_input_file.name)\n",
    "\n",
    "    # read phenomexcan data\n",
    "    phenomexcan_projection = pd.read_pickle(phenomexcan_input_file)\n",
    "\n",
    "    # get common genes with lincs\n",
    "    common_genes = phenomexcan_projection.index.intersection(lincs_projection.index)\n",
    "    phenomexcan_projection = phenomexcan_projection.loc[common_genes]\n",
    "    lincs_projection = lincs_projection.loc[common_genes]\n",
    "\n",
    "    print(f\"  shape: {phenomexcan_projection.shape}\")\n",
    "\n",
    "    for prediction_method in methods_to_run:\n",
    "        for ntc in (None, 50, 100, 250, 500):\n",
    "            prediction_method(\n",
    "                lincs_projection,\n",
    "                phenomexcan_input_file,\n",
    "                phenomexcan_projection,\n",
    "                OUTPUT_PREDICTIONS_DIR,\n",
    "                PREDICTION_METHOD,\n",
    "                doids_in_gold_standard,\n",
    "                FORCE_RUN,\n",
    "                n_top_conditions=ntc,\n",
    "                use_abs=True,  # because we want positive and negative z-scores from S-PrediXcan\n",
    "            )\n",
    "\n",
    "            print(\"\\n\")"
   ]
  },
  {
   "cell_type": "code",
   "execution_count": null,
   "metadata": {
    "papermill": {
     "duration": 0.216001,
     "end_time": "2020-12-23T21:20:06.153906",
     "exception": false,
     "start_time": "2020-12-23T21:20:05.937905",
     "status": "completed"
    },
    "tags": []
   },
   "outputs": [],
   "source": []
  }
 ],
 "metadata": {
  "jupytext": {
   "cell_metadata_filter": "all,-execution,-papermill,-trusted",
   "formats": "ipynb,py//py:percent"
  },
  "kernelspec": {
   "display_name": "Python 3",
   "language": "python",
   "name": "python3"
  },
  "language_info": {
   "codemirror_mode": {
    "name": "ipython",
    "version": 3
   },
   "file_extension": ".py",
   "mimetype": "text/x-python",
   "name": "python",
   "nbconvert_exporter": "python",
   "pygments_lexer": "ipython3",
   "version": "3.8.8"
  },
  "papermill": {
   "default_parameters": {},
   "duration": 5366.325988,
   "end_time": "2020-12-23T21:20:06.672245",
   "environment_variables": {},
   "exception": null,
   "input_path": "15_drug_disease_associations/011-prediction-single_gene_based.ipynb",
   "output_path": "15_drug_disease_associations/011-prediction-single_gene_based.run.ipynb",
   "parameters": {},
   "start_time": "2020-12-23T19:50:40.346257",
   "version": "2.2.2"
  }
 },
 "nbformat": 4,
 "nbformat_minor": 4
}
