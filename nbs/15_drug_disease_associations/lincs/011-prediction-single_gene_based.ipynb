{
 "cells": [
  {
   "cell_type": "markdown",
   "metadata": {
    "papermill": {
     "duration": 0.026465,
     "end_time": "2020-12-23T19:50:41.173233",
     "exception": false,
     "start_time": "2020-12-23T19:50:41.146768",
     "status": "completed"
    },
    "tags": []
   },
   "source": [
    "# Description"
   ]
  },
  {
   "cell_type": "markdown",
   "metadata": {
    "papermill": {
     "duration": 0.008954,
     "end_time": "2020-12-23T19:50:41.193904",
     "exception": false,
     "start_time": "2020-12-23T19:50:41.184950",
     "status": "completed"
    },
    "tags": []
   },
   "source": [
    "**TODO**"
   ]
  },
  {
   "cell_type": "markdown",
   "metadata": {
    "papermill": {
     "duration": 0.008741,
     "end_time": "2020-12-23T19:50:41.211367",
     "exception": false,
     "start_time": "2020-12-23T19:50:41.202626",
     "status": "completed"
    },
    "tags": []
   },
   "source": [
    "# Modules loading"
   ]
  },
  {
   "cell_type": "code",
   "execution_count": null,
   "metadata": {
    "papermill": {
     "duration": 0.020906,
     "end_time": "2020-12-23T19:50:41.241264",
     "exception": false,
     "start_time": "2020-12-23T19:50:41.220358",
     "status": "completed"
    },
    "tags": []
   },
   "outputs": [],
   "source": [
    "%load_ext autoreload\n",
    "%autoreload 2"
   ]
  },
  {
   "cell_type": "code",
   "execution_count": null,
   "metadata": {
    "papermill": {
     "duration": 0.241664,
     "end_time": "2020-12-23T19:50:41.492228",
     "exception": false,
     "start_time": "2020-12-23T19:50:41.250564",
     "status": "completed"
    },
    "tags": []
   },
   "outputs": [],
   "source": [
    "from IPython.display import display\n",
    "from pathlib import Path\n",
    "\n",
    "import pandas as pd\n",
    "\n",
    "import conf"
   ]
  },
  {
   "cell_type": "markdown",
   "metadata": {
    "papermill": {
     "duration": 0.009209,
     "end_time": "2020-12-23T19:50:41.511289",
     "exception": false,
     "start_time": "2020-12-23T19:50:41.502080",
     "status": "completed"
    },
    "tags": []
   },
   "source": [
    "# Settings"
   ]
  },
  {
   "cell_type": "code",
   "execution_count": null,
   "metadata": {
    "papermill": {
     "duration": 0.01881,
     "end_time": "2020-12-23T19:50:41.539028",
     "exception": false,
     "start_time": "2020-12-23T19:50:41.520218",
     "status": "completed"
    },
    "tags": []
   },
   "outputs": [],
   "source": [
    "# if True, then it doesn't check if result files already exist and runs everything again\n",
    "FORCE_RUN = True"
   ]
  },
  {
   "cell_type": "code",
   "execution_count": null,
   "metadata": {
    "papermill": {
     "duration": 0.019014,
     "end_time": "2020-12-23T19:50:41.567599",
     "exception": false,
     "start_time": "2020-12-23T19:50:41.548585",
     "status": "completed"
    },
    "tags": []
   },
   "outputs": [],
   "source": [
    "PREDICTION_METHOD = \"Gene-based\""
   ]
  },
  {
   "cell_type": "code",
   "execution_count": null,
   "metadata": {
    "papermill": {
     "duration": 0.023785,
     "end_time": "2020-12-23T19:50:41.600953",
     "exception": false,
     "start_time": "2020-12-23T19:50:41.577168",
     "status": "completed"
    },
    "tags": []
   },
   "outputs": [],
   "source": [
    "LINCS_DATA_DIR = conf.RESULTS[\"DRUG_DISEASE_ANALYSES\"] / \"lincs\"\n",
    "display(LINCS_DATA_DIR)\n",
    "assert LINCS_DATA_DIR.exists()"
   ]
  },
  {
   "cell_type": "code",
   "execution_count": null,
   "metadata": {
    "papermill": {
     "duration": 0.023779,
     "end_time": "2020-12-23T19:50:41.634743",
     "exception": false,
     "start_time": "2020-12-23T19:50:41.610964",
     "status": "completed"
    }
   },
   "outputs": [],
   "source": [
    "SPREDIXCAN_DATA_DIR = conf.RESULTS[\"DRUG_DISEASE_ANALYSES\"] / \"spredixcan\" / \"raw\"\n",
    "display(SPREDIXCAN_DATA_DIR)\n",
    "assert SPREDIXCAN_DATA_DIR.exists()"
   ]
  },
  {
   "cell_type": "code",
   "execution_count": null,
   "metadata": {
    "papermill": {
     "duration": 0.022631,
     "end_time": "2020-12-23T19:50:41.676613",
     "exception": false,
     "start_time": "2020-12-23T19:50:41.653982",
     "status": "completed"
    },
    "tags": []
   },
   "outputs": [],
   "source": [
    "OUTPUT_PREDICTIONS_DIR = Path(LINCS_DATA_DIR, \"predictions\")\n",
    "display(OUTPUT_PREDICTIONS_DIR)\n",
    "OUTPUT_PREDICTIONS_DIR.mkdir(parents=True, exist_ok=True)"
   ]
  },
  {
   "cell_type": "markdown",
   "metadata": {
    "papermill": {
     "duration": 0.009936,
     "end_time": "2020-12-23T19:50:41.727668",
     "exception": false,
     "start_time": "2020-12-23T19:50:41.717732",
     "status": "completed"
    },
    "tags": []
   },
   "source": [
    "# Load PharmacotherapyDB gold standard"
   ]
  },
  {
   "cell_type": "code",
   "execution_count": null,
   "metadata": {
    "papermill": {
     "duration": 0.020685,
     "end_time": "2020-12-23T19:50:41.758217",
     "exception": false,
     "start_time": "2020-12-23T19:50:41.737532",
     "status": "completed"
    },
    "tags": []
   },
   "outputs": [],
   "source": [
    "gold_standard = pd.read_pickle(\n",
    "    Path(conf.RESULTS[\"DRUG_DISEASE_ANALYSES\"], \"gold_standard.pkl\"),\n",
    ")"
   ]
  },
  {
   "cell_type": "code",
   "execution_count": null,
   "metadata": {
    "papermill": {
     "duration": 0.021437,
     "end_time": "2020-12-23T19:50:41.790924",
     "exception": false,
     "start_time": "2020-12-23T19:50:41.769487",
     "status": "completed"
    },
    "tags": []
   },
   "outputs": [],
   "source": [
    "display(gold_standard.shape)"
   ]
  },
  {
   "cell_type": "code",
   "execution_count": null,
   "metadata": {
    "papermill": {
     "duration": 0.025095,
     "end_time": "2020-12-23T19:50:41.827547",
     "exception": false,
     "start_time": "2020-12-23T19:50:41.802452",
     "status": "completed"
    },
    "tags": []
   },
   "outputs": [],
   "source": [
    "display(gold_standard.head())"
   ]
  },
  {
   "cell_type": "code",
   "execution_count": null,
   "metadata": {
    "papermill": {
     "duration": 0.021356,
     "end_time": "2020-12-23T19:50:41.861048",
     "exception": false,
     "start_time": "2020-12-23T19:50:41.839692",
     "status": "completed"
    },
    "tags": []
   },
   "outputs": [],
   "source": [
    "doids_in_gold_standard = set(gold_standard[\"trait\"])"
   ]
  },
  {
   "cell_type": "markdown",
   "metadata": {
    "papermill": {
     "duration": 0.011051,
     "end_time": "2020-12-23T19:50:41.883598",
     "exception": false,
     "start_time": "2020-12-23T19:50:41.872547",
     "status": "completed"
    },
    "tags": []
   },
   "source": [
    "# Load LINCS"
   ]
  },
  {
   "cell_type": "markdown",
   "metadata": {
    "papermill": {
     "duration": 0.010577,
     "end_time": "2020-12-23T19:50:41.904997",
     "exception": false,
     "start_time": "2020-12-23T19:50:41.894420",
     "status": "completed"
    },
    "tags": []
   },
   "source": [
    "## Raw data"
   ]
  },
  {
   "cell_type": "code",
   "execution_count": null,
   "metadata": {
    "papermill": {
     "duration": 0.021823,
     "end_time": "2020-12-23T19:50:41.937362",
     "exception": false,
     "start_time": "2020-12-23T19:50:41.915539",
     "status": "completed"
    },
    "tags": []
   },
   "outputs": [],
   "source": [
    "input_file = Path(LINCS_DATA_DIR, \"lincs-data.pkl\").resolve()\n",
    "\n",
    "display(input_file)"
   ]
  },
  {
   "cell_type": "code",
   "execution_count": null,
   "metadata": {
    "papermill": {
     "duration": 0.05252,
     "end_time": "2020-12-23T19:50:42.001671",
     "exception": false,
     "start_time": "2020-12-23T19:50:41.949151",
     "status": "completed"
    },
    "tags": []
   },
   "outputs": [],
   "source": [
    "lincs_projection = pd.read_pickle(input_file)"
   ]
  },
  {
   "cell_type": "code",
   "execution_count": null,
   "metadata": {
    "papermill": {
     "duration": 0.022634,
     "end_time": "2020-12-23T19:50:42.037283",
     "exception": false,
     "start_time": "2020-12-23T19:50:42.014649",
     "status": "completed"
    },
    "tags": []
   },
   "outputs": [],
   "source": [
    "display(lincs_projection.shape)"
   ]
  },
  {
   "cell_type": "code",
   "execution_count": null,
   "metadata": {
    "papermill": {
     "duration": 0.035095,
     "end_time": "2020-12-23T19:50:42.084412",
     "exception": false,
     "start_time": "2020-12-23T19:50:42.049317",
     "status": "completed"
    },
    "tags": []
   },
   "outputs": [],
   "source": [
    "display(lincs_projection.head())"
   ]
  },
  {
   "cell_type": "markdown",
   "metadata": {
    "papermill": {
     "duration": 0.011754,
     "end_time": "2020-12-23T19:50:42.108487",
     "exception": false,
     "start_time": "2020-12-23T19:50:42.096733",
     "status": "completed"
    },
    "tags": []
   },
   "source": [
    "# Load S-PrediXcan"
   ]
  },
  {
   "cell_type": "code",
   "execution_count": null,
   "metadata": {
    "papermill": {
     "duration": 0.224618,
     "end_time": "2020-12-23T19:50:42.345643",
     "exception": false,
     "start_time": "2020-12-23T19:50:42.121025",
     "status": "completed"
    },
    "tags": []
   },
   "outputs": [],
   "source": [
    "phenomexcan_input_file_list = [\n",
    "    f for f in SPREDIXCAN_DATA_DIR.glob(\"*.pkl\") if f.name.startswith(\"spredixcan-\")\n",
    "]"
   ]
  },
  {
   "cell_type": "code",
   "execution_count": null,
   "metadata": {
    "papermill": {
     "duration": 0.022258,
     "end_time": "2020-12-23T19:50:42.417071",
     "exception": false,
     "start_time": "2020-12-23T19:50:42.394813",
     "status": "completed"
    },
    "tags": []
   },
   "outputs": [],
   "source": [
    "display(len(phenomexcan_input_file_list))"
   ]
  },
  {
   "cell_type": "code",
   "execution_count": null,
   "metadata": {},
   "outputs": [],
   "source": [
    "pd.read_pickle(phenomexcan_input_file_list[0]).head()"
   ]
  },
  {
   "cell_type": "markdown",
   "metadata": {
    "papermill": {
     "duration": 0.012297,
     "end_time": "2020-12-23T19:50:42.442121",
     "exception": false,
     "start_time": "2020-12-23T19:50:42.429824",
     "status": "completed"
    },
    "tags": []
   },
   "source": [
    "# Predict drug-disease associations"
   ]
  },
  {
   "cell_type": "code",
   "execution_count": null,
   "metadata": {
    "papermill": {
     "duration": 0.594541,
     "end_time": "2020-12-23T19:50:43.049740",
     "exception": false,
     "start_time": "2020-12-23T19:50:42.455199",
     "status": "completed"
    },
    "tags": []
   },
   "outputs": [],
   "source": [
    "from drug_disease import predict_dotprod_neg"
   ]
  },
  {
   "cell_type": "code",
   "execution_count": null,
   "metadata": {},
   "outputs": [],
   "source": [
    "methods_to_run = [predict_dotprod_neg]"
   ]
  },
  {
   "cell_type": "code",
   "execution_count": null,
   "metadata": {
    "papermill": {
     "duration": 5362.660602,
     "end_time": "2020-12-23T21:20:05.724677",
     "exception": false,
     "start_time": "2020-12-23T19:50:43.064075",
     "status": "completed"
    },
    "tags": []
   },
   "outputs": [],
   "source": [
    "for phenomexcan_input_file in phenomexcan_input_file_list:\n",
    "    print(phenomexcan_input_file.name)\n",
    "\n",
    "    # read phenomexcan data\n",
    "    phenomexcan_projection = pd.read_pickle(phenomexcan_input_file)\n",
    "\n",
    "    # get common genes with lincs\n",
    "    common_genes = phenomexcan_projection.index.intersection(lincs_projection.index)\n",
    "    phenomexcan_projection = phenomexcan_projection.loc[common_genes]\n",
    "    lincs_projection = lincs_projection.loc[common_genes]\n",
    "\n",
    "    print(f\"  shape: {phenomexcan_projection.shape}\")\n",
    "\n",
    "    for prediction_method in methods_to_run:\n",
    "        for ntc in (None, 50, 100, 250, 500):\n",
    "            prediction_method(\n",
    "                lincs_projection,\n",
    "                phenomexcan_input_file,\n",
    "                phenomexcan_projection,\n",
    "                OUTPUT_PREDICTIONS_DIR,\n",
    "                PREDICTION_METHOD,\n",
    "                doids_in_gold_standard,\n",
    "                FORCE_RUN,\n",
    "                n_top_conditions=ntc,\n",
    "                use_abs=True,\n",
    "            )\n",
    "\n",
    "            print(\"\\n\")"
   ]
  },
  {
   "cell_type": "code",
   "execution_count": null,
   "metadata": {
    "papermill": {
     "duration": 0.216001,
     "end_time": "2020-12-23T21:20:06.153906",
     "exception": false,
     "start_time": "2020-12-23T21:20:05.937905",
     "status": "completed"
    },
    "tags": []
   },
   "outputs": [],
   "source": []
  }
 ],
 "metadata": {
  "jupytext": {
   "cell_metadata_filter": "all,-execution,-papermill,-trusted",
   "formats": "ipynb,py//py:percent"
  },
  "kernelspec": {
   "display_name": "Python 3",
   "language": "python",
   "name": "python3"
  },
  "language_info": {
   "codemirror_mode": {
    "name": "ipython",
    "version": 3
   },
   "file_extension": ".py",
   "mimetype": "text/x-python",
   "name": "python",
   "nbconvert_exporter": "python",
   "pygments_lexer": "ipython3",
   "version": "3.8.8"
  },
  "papermill": {
   "default_parameters": {},
   "duration": 5366.325988,
   "end_time": "2020-12-23T21:20:06.672245",
   "environment_variables": {},
   "exception": null,
   "input_path": "15_drug_disease_associations/011-prediction-single_gene_based.ipynb",
   "output_path": "15_drug_disease_associations/011-prediction-single_gene_based.run.ipynb",
   "parameters": {},
   "start_time": "2020-12-23T19:50:40.346257",
   "version": "2.2.2"
  }
 },
 "nbformat": 4,
 "nbformat_minor": 4
}
