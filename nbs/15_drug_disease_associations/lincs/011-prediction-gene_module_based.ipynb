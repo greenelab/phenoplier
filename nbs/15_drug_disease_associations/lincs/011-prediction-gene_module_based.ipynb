{
 "cells": [
  {
   "cell_type": "markdown",
   "metadata": {
    "papermill": {
     "duration": 0.036359,
     "end_time": "2020-12-23T19:50:41.165143",
     "exception": false,
     "start_time": "2020-12-23T19:50:41.128784",
     "status": "completed"
    },
    "tags": []
   },
   "source": [
    "# Description"
   ]
  },
  {
   "cell_type": "markdown",
   "metadata": {
    "papermill": {
     "duration": 0.009766,
     "end_time": "2020-12-23T19:50:41.189531",
     "exception": false,
     "start_time": "2020-12-23T19:50:41.179765",
     "status": "completed"
    },
    "tags": []
   },
   "source": [
    "**TODO**"
   ]
  },
  {
   "cell_type": "markdown",
   "metadata": {
    "papermill": {
     "duration": 0.00867,
     "end_time": "2020-12-23T19:50:41.206942",
     "exception": false,
     "start_time": "2020-12-23T19:50:41.198272",
     "status": "completed"
    },
    "tags": []
   },
   "source": [
    "# Modules loading"
   ]
  },
  {
   "cell_type": "code",
   "execution_count": null,
   "metadata": {
    "papermill": {
     "duration": 0.020623,
     "end_time": "2020-12-23T19:50:41.236311",
     "exception": false,
     "start_time": "2020-12-23T19:50:41.215688",
     "status": "completed"
    },
    "tags": []
   },
   "outputs": [],
   "source": [
    "%load_ext autoreload\n",
    "%autoreload 2"
   ]
  },
  {
   "cell_type": "code",
   "execution_count": null,
   "metadata": {
    "papermill": {
     "duration": 0.247588,
     "end_time": "2020-12-23T19:50:41.493393",
     "exception": false,
     "start_time": "2020-12-23T19:50:41.245805",
     "status": "completed"
    },
    "tags": []
   },
   "outputs": [],
   "source": [
    "from IPython.display import display\n",
    "from pathlib import Path\n",
    "\n",
    "import pandas as pd\n",
    "\n",
    "import conf"
   ]
  },
  {
   "cell_type": "markdown",
   "metadata": {
    "papermill": {
     "duration": 0.008919,
     "end_time": "2020-12-23T19:50:41.511867",
     "exception": false,
     "start_time": "2020-12-23T19:50:41.502948",
     "status": "completed"
    },
    "tags": []
   },
   "source": [
    "# Settings"
   ]
  },
  {
   "cell_type": "code",
   "execution_count": null,
   "metadata": {
    "papermill": {
     "duration": 0.018418,
     "end_time": "2020-12-23T19:50:41.539027",
     "exception": false,
     "start_time": "2020-12-23T19:50:41.520609",
     "status": "completed"
    },
    "tags": []
   },
   "outputs": [],
   "source": [
    "# if True, then it doesn't check if result files already exist and runs everything again\n",
    "FORCE_RUN = True"
   ]
  },
  {
   "cell_type": "code",
   "execution_count": null,
   "metadata": {
    "papermill": {
     "duration": 0.019205,
     "end_time": "2020-12-23T19:50:41.567597",
     "exception": false,
     "start_time": "2020-12-23T19:50:41.548392",
     "status": "completed"
    },
    "tags": []
   },
   "outputs": [],
   "source": [
    "PREDICTION_METHOD = \"Module-based\""
   ]
  },
  {
   "cell_type": "code",
   "execution_count": null,
   "metadata": {
    "papermill": {
     "duration": 0.024172,
     "end_time": "2020-12-23T19:50:41.601289",
     "exception": false,
     "start_time": "2020-12-23T19:50:41.577117",
     "status": "completed"
    },
    "tags": []
   },
   "outputs": [],
   "source": [
    "LINCS_DATA_DIR = conf.RESULTS[\"DRUG_DISEASE_ANALYSES\"] / \"lincs\"\n",
    "display(LINCS_DATA_DIR)\n",
    "assert LINCS_DATA_DIR.exists()"
   ]
  },
  {
   "cell_type": "code",
   "execution_count": null,
   "metadata": {},
   "outputs": [],
   "source": [
    "SPREDIXCAN_DATA_DIR = conf.RESULTS[\"DRUG_DISEASE_ANALYSES\"] / \"spredixcan\" / \"proj\"\n",
    "display(SPREDIXCAN_DATA_DIR)\n",
    "assert SPREDIXCAN_DATA_DIR.exists()"
   ]
  },
  {
   "cell_type": "code",
   "execution_count": null,
   "metadata": {
    "papermill": {
     "duration": 0.022117,
     "end_time": "2020-12-23T19:50:41.708701",
     "exception": false,
     "start_time": "2020-12-23T19:50:41.686584",
     "status": "completed"
    },
    "tags": []
   },
   "outputs": [],
   "source": [
    "OUTPUT_PREDICTIONS_DIR = Path(LINCS_DATA_DIR, \"predictions\")\n",
    "display(OUTPUT_PREDICTIONS_DIR)\n",
    "OUTPUT_PREDICTIONS_DIR.mkdir(parents=True, exist_ok=True)"
   ]
  },
  {
   "cell_type": "markdown",
   "metadata": {
    "papermill": {
     "duration": 0.009765,
     "end_time": "2020-12-23T19:50:41.728870",
     "exception": false,
     "start_time": "2020-12-23T19:50:41.719105",
     "status": "completed"
    },
    "tags": []
   },
   "source": [
    "# Load PharmacotherapyDB gold standard"
   ]
  },
  {
   "cell_type": "code",
   "execution_count": null,
   "metadata": {
    "papermill": {
     "duration": 0.025208,
     "end_time": "2020-12-23T19:50:41.763784",
     "exception": false,
     "start_time": "2020-12-23T19:50:41.738576",
     "status": "completed"
    },
    "tags": []
   },
   "outputs": [],
   "source": [
    "gold_standard = pd.read_pickle(\n",
    "    Path(conf.RESULTS[\"DRUG_DISEASE_ANALYSES\"], \"gold_standard.pkl\"),\n",
    ")"
   ]
  },
  {
   "cell_type": "code",
   "execution_count": null,
   "metadata": {
    "papermill": {
     "duration": 0.021155,
     "end_time": "2020-12-23T19:50:41.796102",
     "exception": false,
     "start_time": "2020-12-23T19:50:41.774947",
     "status": "completed"
    },
    "tags": []
   },
   "outputs": [],
   "source": [
    "display(gold_standard.shape)"
   ]
  },
  {
   "cell_type": "code",
   "execution_count": null,
   "metadata": {
    "papermill": {
     "duration": 0.024921,
     "end_time": "2020-12-23T19:50:41.831886",
     "exception": false,
     "start_time": "2020-12-23T19:50:41.806965",
     "status": "completed"
    },
    "tags": []
   },
   "outputs": [],
   "source": [
    "display(gold_standard.head())"
   ]
  },
  {
   "cell_type": "code",
   "execution_count": null,
   "metadata": {
    "papermill": {
     "duration": 0.02118,
     "end_time": "2020-12-23T19:50:41.864638",
     "exception": false,
     "start_time": "2020-12-23T19:50:41.843458",
     "status": "completed"
    },
    "tags": []
   },
   "outputs": [],
   "source": [
    "doids_in_gold_standard = set(gold_standard[\"trait\"])"
   ]
  },
  {
   "cell_type": "markdown",
   "metadata": {
    "papermill": {
     "duration": 0.010857,
     "end_time": "2020-12-23T19:50:41.886745",
     "exception": false,
     "start_time": "2020-12-23T19:50:41.875888",
     "status": "completed"
    },
    "tags": []
   },
   "source": [
    "# Load LINCS"
   ]
  },
  {
   "cell_type": "markdown",
   "metadata": {
    "papermill": {
     "duration": 0.010454,
     "end_time": "2020-12-23T19:50:41.907921",
     "exception": false,
     "start_time": "2020-12-23T19:50:41.897467",
     "status": "completed"
    },
    "tags": []
   },
   "source": [
    "## Projected data"
   ]
  },
  {
   "cell_type": "code",
   "execution_count": null,
   "metadata": {
    "papermill": {
     "duration": 0.021901,
     "end_time": "2020-12-23T19:50:41.940473",
     "exception": false,
     "start_time": "2020-12-23T19:50:41.918572",
     "status": "completed"
    },
    "tags": []
   },
   "outputs": [],
   "source": [
    "input_file = Path(LINCS_DATA_DIR, \"lincs-projection.pkl\").resolve()\n",
    "\n",
    "display(input_file)"
   ]
  },
  {
   "cell_type": "code",
   "execution_count": null,
   "metadata": {
    "papermill": {
     "duration": 0.026636,
     "end_time": "2020-12-23T19:50:41.978518",
     "exception": false,
     "start_time": "2020-12-23T19:50:41.951882",
     "status": "completed"
    },
    "tags": []
   },
   "outputs": [],
   "source": [
    "lincs_projection = pd.read_pickle(input_file)"
   ]
  },
  {
   "cell_type": "code",
   "execution_count": null,
   "metadata": {
    "papermill": {
     "duration": 0.024037,
     "end_time": "2020-12-23T19:50:42.015614",
     "exception": false,
     "start_time": "2020-12-23T19:50:41.991577",
     "status": "completed"
    },
    "tags": []
   },
   "outputs": [],
   "source": [
    "display(lincs_projection.shape)"
   ]
  },
  {
   "cell_type": "code",
   "execution_count": null,
   "metadata": {
    "papermill": {
     "duration": 0.034451,
     "end_time": "2020-12-23T19:50:42.062781",
     "exception": false,
     "start_time": "2020-12-23T19:50:42.028330",
     "status": "completed"
    },
    "tags": []
   },
   "outputs": [],
   "source": [
    "display(lincs_projection.head())"
   ]
  },
  {
   "cell_type": "markdown",
   "metadata": {
    "papermill": {
     "duration": 0.012417,
     "end_time": "2020-12-23T19:50:42.087747",
     "exception": false,
     "start_time": "2020-12-23T19:50:42.075330",
     "status": "completed"
    },
    "tags": []
   },
   "source": [
    "# Load S-PrediXcan"
   ]
  },
  {
   "cell_type": "code",
   "execution_count": null,
   "metadata": {
    "papermill": {
     "duration": 0.217486,
     "end_time": "2020-12-23T19:50:42.317086",
     "exception": false,
     "start_time": "2020-12-23T19:50:42.099600",
     "status": "completed"
    },
    "tags": []
   },
   "outputs": [],
   "source": [
    "phenomexcan_input_file_list = [\n",
    "    f for f in SPREDIXCAN_DATA_DIR.glob(\"*.pkl\") if f.name.startswith(\"spredixcan-\")\n",
    "]"
   ]
  },
  {
   "cell_type": "code",
   "execution_count": null,
   "metadata": {
    "papermill": {
     "duration": 0.02244,
     "end_time": "2020-12-23T19:50:42.392015",
     "exception": false,
     "start_time": "2020-12-23T19:50:42.369575",
     "status": "completed"
    },
    "tags": []
   },
   "outputs": [],
   "source": [
    "display(len(phenomexcan_input_file_list))"
   ]
  },
  {
   "cell_type": "code",
   "execution_count": null,
   "metadata": {},
   "outputs": [],
   "source": [
    "pd.read_pickle(phenomexcan_input_file_list[0]).head()"
   ]
  },
  {
   "cell_type": "markdown",
   "metadata": {
    "papermill": {
     "duration": 0.012838,
     "end_time": "2020-12-23T19:50:42.417450",
     "exception": false,
     "start_time": "2020-12-23T19:50:42.404612",
     "status": "completed"
    },
    "tags": []
   },
   "source": [
    "# Predict drug-disease associations"
   ]
  },
  {
   "cell_type": "code",
   "execution_count": null,
   "metadata": {
    "papermill": {
     "duration": 0.623517,
     "end_time": "2020-12-23T19:50:43.053428",
     "exception": false,
     "start_time": "2020-12-23T19:50:42.429911",
     "status": "completed"
    },
    "tags": []
   },
   "outputs": [],
   "source": [
    "from drug_disease import predict_dotprod_neg"
   ]
  },
  {
   "cell_type": "code",
   "execution_count": null,
   "metadata": {},
   "outputs": [],
   "source": [
    "methods_to_run = [predict_dotprod_neg]"
   ]
  },
  {
   "cell_type": "code",
   "execution_count": null,
   "metadata": {
    "papermill": {
     "duration": 4836.090114,
     "end_time": "2020-12-23T21:11:19.157026",
     "exception": false,
     "start_time": "2020-12-23T19:50:43.066912",
     "status": "completed"
    },
    "tags": []
   },
   "outputs": [],
   "source": [
    "for phenomexcan_input_file in phenomexcan_input_file_list:\n",
    "    print(phenomexcan_input_file.name)\n",
    "\n",
    "    # read phenomexcan data\n",
    "    phenomexcan_projection = pd.read_pickle(phenomexcan_input_file)\n",
    "    print(f\"  shape: {phenomexcan_projection.shape}\")\n",
    "\n",
    "    for prediction_method in methods_to_run:\n",
    "        for ntc in (None, 5, 10, 25, 50):\n",
    "            prediction_method(\n",
    "                lincs_projection,\n",
    "                phenomexcan_input_file,\n",
    "                phenomexcan_projection,\n",
    "                OUTPUT_PREDICTIONS_DIR,\n",
    "                PREDICTION_METHOD,\n",
    "                doids_in_gold_standard,\n",
    "                FORCE_RUN,\n",
    "                n_top_conditions=ntc,\n",
    "                use_abs=True,\n",
    "            )\n",
    "\n",
    "            print(\"\\n\")"
   ]
  },
  {
   "cell_type": "code",
   "execution_count": null,
   "metadata": {
    "papermill": {
     "duration": 0.211738,
     "end_time": "2020-12-23T21:11:19.579207",
     "exception": false,
     "start_time": "2020-12-23T21:11:19.367469",
     "status": "completed"
    },
    "tags": []
   },
   "outputs": [],
   "source": []
  }
 ],
 "metadata": {
  "jupytext": {
   "cell_metadata_filter": "all,-execution,-papermill,-trusted",
   "formats": "ipynb,py//py:percent"
  },
  "kernelspec": {
   "display_name": "Python 3",
   "language": "python",
   "name": "python3"
  },
  "language_info": {
   "codemirror_mode": {
    "name": "ipython",
    "version": 3
   },
   "file_extension": ".py",
   "mimetype": "text/x-python",
   "name": "python",
   "nbconvert_exporter": "python",
   "pygments_lexer": "ipython3",
   "version": "3.8.8"
  },
  "papermill": {
   "default_parameters": {},
   "duration": 4839.754743,
   "end_time": "2020-12-23T21:11:20.097081",
   "environment_variables": {},
   "exception": null,
   "input_path": "15_drug_disease_associations/011-prediction-gene_module_based.ipynb",
   "output_path": "15_drug_disease_associations/011-prediction-gene_module_based.run.ipynb",
   "parameters": {},
   "start_time": "2020-12-23T19:50:40.342338",
   "version": "2.2.2"
  }
 },
 "nbformat": 4,
 "nbformat_minor": 4
}
