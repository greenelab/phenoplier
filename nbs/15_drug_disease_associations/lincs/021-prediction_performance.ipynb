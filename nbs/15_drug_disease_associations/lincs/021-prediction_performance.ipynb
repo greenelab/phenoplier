{
 "cells": [
  {
   "cell_type": "markdown",
   "metadata": {
    "papermill": {
     "duration": 0.044577,
     "end_time": "2020-12-18T22:38:21.345879",
     "exception": false,
     "start_time": "2020-12-18T22:38:21.301302",
     "status": "completed"
    },
    "tags": []
   },
   "source": [
    "# Description"
   ]
  },
  {
   "cell_type": "markdown",
   "metadata": {
    "papermill": {
     "duration": 0.011764,
     "end_time": "2020-12-18T22:38:21.398073",
     "exception": false,
     "start_time": "2020-12-18T22:38:21.386309",
     "status": "completed"
    },
    "tags": []
   },
   "source": [
    "**TODO**"
   ]
  },
  {
   "cell_type": "markdown",
   "metadata": {
    "papermill": {
     "duration": 0.011799,
     "end_time": "2020-12-18T22:38:21.422136",
     "exception": false,
     "start_time": "2020-12-18T22:38:21.410337",
     "status": "completed"
    },
    "tags": []
   },
   "source": [
    "# Modules loading"
   ]
  },
  {
   "cell_type": "code",
   "execution_count": 1,
   "metadata": {
    "papermill": {
     "duration": 0.022467,
     "end_time": "2020-12-18T22:38:21.456126",
     "exception": false,
     "start_time": "2020-12-18T22:38:21.433659",
     "status": "completed"
    },
    "tags": []
   },
   "outputs": [],
   "source": [
    "%load_ext autoreload\n",
    "%autoreload 2"
   ]
  },
  {
   "cell_type": "code",
   "execution_count": 2,
   "metadata": {
    "papermill": {
     "duration": 0.192251,
     "end_time": "2020-12-18T22:38:21.659996",
     "exception": false,
     "start_time": "2020-12-18T22:38:21.467745",
     "status": "completed"
    },
    "tags": []
   },
   "outputs": [],
   "source": [
    "from pathlib import Path\n",
    "\n",
    "import numpy as np\n",
    "import pandas as pd\n",
    "from tqdm import tqdm\n",
    "\n",
    "import conf"
   ]
  },
  {
   "cell_type": "markdown",
   "metadata": {
    "papermill": {
     "duration": 0.011416,
     "end_time": "2020-12-18T22:38:21.683356",
     "exception": false,
     "start_time": "2020-12-18T22:38:21.671940",
     "status": "completed"
    },
    "tags": []
   },
   "source": [
    "# Settings"
   ]
  },
  {
   "cell_type": "code",
   "execution_count": 3,
   "metadata": {},
   "outputs": [],
   "source": [
    "N_TISSUES = 49\n",
    "# N_TISSUES = 1\n",
    "N_THRESHOLDS = 5\n",
    "N_PREDICTIONS = 646"
   ]
  },
  {
   "cell_type": "code",
   "execution_count": 4,
   "metadata": {},
   "outputs": [
    {
     "data": {
      "text/plain": [
       "PosixPath('/media/miltondp/Elements1/projects/phenoplier/results/drug_disease_analyses')"
      ]
     },
     "metadata": {},
     "output_type": "display_data"
    }
   ],
   "source": [
    "OUTPUT_DIR = conf.RESULTS[\"DRUG_DISEASE_ANALYSES\"]\n",
    "display(OUTPUT_DIR)\n",
    "OUTPUT_DIR.mkdir(parents=True, exist_ok=True)"
   ]
  },
  {
   "cell_type": "code",
   "execution_count": 5,
   "metadata": {},
   "outputs": [
    {
     "data": {
      "text/plain": [
       "PosixPath('/media/miltondp/Elements1/projects/phenoplier/results/drug_disease_analyses/predictions/dotprod_neg')"
      ]
     },
     "metadata": {},
     "output_type": "display_data"
    }
   ],
   "source": [
    "OUTPUT_PREDICTIONS_DIR = Path(OUTPUT_DIR, \"predictions\", \"dotprod_neg\")\n",
    "display(OUTPUT_PREDICTIONS_DIR)\n",
    "OUTPUT_PREDICTIONS_DIR.mkdir(parents=True, exist_ok=True)"
   ]
  },
  {
   "cell_type": "markdown",
   "metadata": {},
   "source": [
    "# Load PharmacotherapyDB gold standard"
   ]
  },
  {
   "cell_type": "code",
   "execution_count": 6,
   "metadata": {},
   "outputs": [],
   "source": [
    "gold_standard = pd.read_pickle(\n",
    "    Path(OUTPUT_DIR, \"gold_standard.pkl\"),\n",
    ")"
   ]
  },
  {
   "cell_type": "code",
   "execution_count": 7,
   "metadata": {},
   "outputs": [
    {
     "data": {
      "text/plain": [
       "(998, 3)"
      ]
     },
     "execution_count": 7,
     "metadata": {},
     "output_type": "execute_result"
    }
   ],
   "source": [
    "gold_standard.shape"
   ]
  },
  {
   "cell_type": "code",
   "execution_count": 8,
   "metadata": {},
   "outputs": [
    {
     "data": {
      "text/html": [
       "<div>\n",
       "<style scoped>\n",
       "    .dataframe tbody tr th:only-of-type {\n",
       "        vertical-align: middle;\n",
       "    }\n",
       "\n",
       "    .dataframe tbody tr th {\n",
       "        vertical-align: top;\n",
       "    }\n",
       "\n",
       "    .dataframe thead th {\n",
       "        text-align: right;\n",
       "    }\n",
       "</style>\n",
       "<table border=\"1\" class=\"dataframe\">\n",
       "  <thead>\n",
       "    <tr style=\"text-align: right;\">\n",
       "      <th></th>\n",
       "      <th>trait</th>\n",
       "      <th>drug</th>\n",
       "      <th>true_class</th>\n",
       "    </tr>\n",
       "  </thead>\n",
       "  <tbody>\n",
       "    <tr>\n",
       "      <th>0</th>\n",
       "      <td>DOID:10652</td>\n",
       "      <td>DB00843</td>\n",
       "      <td>1</td>\n",
       "    </tr>\n",
       "    <tr>\n",
       "      <th>1</th>\n",
       "      <td>DOID:10652</td>\n",
       "      <td>DB00674</td>\n",
       "      <td>1</td>\n",
       "    </tr>\n",
       "    <tr>\n",
       "      <th>2</th>\n",
       "      <td>DOID:10652</td>\n",
       "      <td>DB01043</td>\n",
       "      <td>1</td>\n",
       "    </tr>\n",
       "    <tr>\n",
       "      <th>3</th>\n",
       "      <td>DOID:10652</td>\n",
       "      <td>DB00989</td>\n",
       "      <td>1</td>\n",
       "    </tr>\n",
       "    <tr>\n",
       "      <th>4</th>\n",
       "      <td>DOID:10652</td>\n",
       "      <td>DB00810</td>\n",
       "      <td>0</td>\n",
       "    </tr>\n",
       "  </tbody>\n",
       "</table>\n",
       "</div>"
      ],
      "text/plain": [
       "        trait     drug  true_class\n",
       "0  DOID:10652  DB00843           1\n",
       "1  DOID:10652  DB00674           1\n",
       "2  DOID:10652  DB01043           1\n",
       "3  DOID:10652  DB00989           1\n",
       "4  DOID:10652  DB00810           0"
      ]
     },
     "execution_count": 8,
     "metadata": {},
     "output_type": "execute_result"
    }
   ],
   "source": [
    "gold_standard.head()"
   ]
  },
  {
   "cell_type": "code",
   "execution_count": 9,
   "metadata": {},
   "outputs": [
    {
     "data": {
      "text/plain": [
       "1    755\n",
       "0    243\n",
       "Name: true_class, dtype: int64"
      ]
     },
     "execution_count": 9,
     "metadata": {},
     "output_type": "execute_result"
    }
   ],
   "source": [
    "gold_standard[\"true_class\"].value_counts()"
   ]
  },
  {
   "cell_type": "code",
   "execution_count": 10,
   "metadata": {},
   "outputs": [
    {
     "data": {
      "text/plain": [
       "1    0.756513\n",
       "0    0.243487\n",
       "Name: true_class, dtype: float64"
      ]
     },
     "execution_count": 10,
     "metadata": {},
     "output_type": "execute_result"
    }
   ],
   "source": [
    "gold_standard[\"true_class\"].value_counts(normalize=True)"
   ]
  },
  {
   "cell_type": "code",
   "execution_count": 11,
   "metadata": {},
   "outputs": [],
   "source": [
    "# doids_in_gold_standard = set(gold_standard[\"trait\"])"
   ]
  },
  {
   "cell_type": "markdown",
   "metadata": {},
   "source": [
    "# Load drug-disease predictions"
   ]
  },
  {
   "cell_type": "code",
   "execution_count": 12,
   "metadata": {},
   "outputs": [],
   "source": [
    "from collections import defaultdict"
   ]
  },
  {
   "cell_type": "code",
   "execution_count": 13,
   "metadata": {},
   "outputs": [
    {
     "data": {
      "text/plain": [
       "490"
      ]
     },
     "metadata": {},
     "output_type": "display_data"
    }
   ],
   "source": [
    "current_prediction_files = list(OUTPUT_PREDICTIONS_DIR.glob(\"*.h5\"))\n",
    "display(len(current_prediction_files))\n",
    "\n",
    "assert len(current_prediction_files) == 2 * (\n",
    "    N_TISSUES * N_THRESHOLDS\n",
    ")  # two methods (single-gene and module-based)"
   ]
  },
  {
   "cell_type": "code",
   "execution_count": 14,
   "metadata": {},
   "outputs": [
    {
     "data": {
      "text/plain": [
       "[PosixPath('/media/miltondp/Elements1/projects/phenoplier/results/drug_disease_analyses/predictions/dotprod_neg/spredixcan-mashr-zscores-Adipose_Subcutaneous-data-all_genes-prediction_scores.h5'),\n",
       " PosixPath('/media/miltondp/Elements1/projects/phenoplier/results/drug_disease_analyses/predictions/dotprod_neg/spredixcan-mashr-zscores-Adipose_Subcutaneous-data-top_100_genes-prediction_scores.h5'),\n",
       " PosixPath('/media/miltondp/Elements1/projects/phenoplier/results/drug_disease_analyses/predictions/dotprod_neg/spredixcan-mashr-zscores-Adipose_Subcutaneous-data-top_250_genes-prediction_scores.h5'),\n",
       " PosixPath('/media/miltondp/Elements1/projects/phenoplier/results/drug_disease_analyses/predictions/dotprod_neg/spredixcan-mashr-zscores-Adipose_Subcutaneous-data-top_500_genes-prediction_scores.h5'),\n",
       " PosixPath('/media/miltondp/Elements1/projects/phenoplier/results/drug_disease_analyses/predictions/dotprod_neg/spredixcan-mashr-zscores-Adipose_Subcutaneous-data-top_50_genes-prediction_scores.h5')]"
      ]
     },
     "execution_count": 14,
     "metadata": {},
     "output_type": "execute_result"
    }
   ],
   "source": [
    "current_prediction_files[:5]"
   ]
  },
  {
   "cell_type": "code",
   "execution_count": 15,
   "metadata": {},
   "outputs": [
    {
     "name": "stderr",
     "output_type": "stream",
     "text": [
      "100%|█████████████████████████████████████████████████████████████| 490/490 [02:42<00:00,  3.02it/s]\n"
     ]
    }
   ],
   "source": [
    "predictions = []\n",
    "\n",
    "for f in tqdm(current_prediction_files, ncols=100):\n",
    "    # FIXME: it shouldn't be necessary to include this anymore\n",
    "    # exclude S-MultiXcan results, since they have no direction of effect\n",
    "    if f.name.startswith(\"smultixcan-\"):\n",
    "        continue\n",
    "\n",
    "    prediction_data = pd.read_hdf(f, key=\"prediction\")\n",
    "    prediction_data = pd.merge(\n",
    "        prediction_data, gold_standard, on=[\"trait\", \"drug\"], how=\"inner\"\n",
    "    )\n",
    "\n",
    "    metadata = pd.read_hdf(f, key=\"metadata\")\n",
    "\n",
    "    prediction_data[\"score\"] = prediction_data[\"score\"].rank()\n",
    "    prediction_data[\"trait\"] = prediction_data[\"trait\"].astype(\"category\")\n",
    "    prediction_data[\"drug\"] = prediction_data[\"drug\"].astype(\"category\")\n",
    "\n",
    "    prediction_data = prediction_data.assign(method=metadata.method.values[0])\n",
    "    prediction_data[\"method\"] = prediction_data[\"method\"].astype(\"category\")\n",
    "\n",
    "    prediction_data = prediction_data.assign(n_top_genes=metadata.n_top_genes.values[0])\n",
    "    #     prediction_data[\"n_top_genes\"] = prediction_data[\"data\"].astype(\"category\")\n",
    "\n",
    "    prediction_data = prediction_data.assign(data=metadata.data.values[0])\n",
    "    prediction_data[\"data\"] = prediction_data[\"data\"].astype(\"category\")\n",
    "\n",
    "    predictions.append(prediction_data)"
   ]
  },
  {
   "cell_type": "code",
   "execution_count": 16,
   "metadata": {},
   "outputs": [],
   "source": [
    "assert np.all(pred.shape[0] == N_PREDICTIONS for pred in predictions)"
   ]
  },
  {
   "cell_type": "code",
   "execution_count": 17,
   "metadata": {},
   "outputs": [],
   "source": [
    "predictions = pd.concat(predictions, ignore_index=True)"
   ]
  },
  {
   "cell_type": "code",
   "execution_count": 18,
   "metadata": {},
   "outputs": [
    {
     "data": {
      "text/plain": [
       "(316540, 7)"
      ]
     },
     "metadata": {},
     "output_type": "display_data"
    }
   ],
   "source": [
    "display(predictions.shape)\n",
    "\n",
    "assert predictions.shape[0] == 2 * (N_TISSUES * N_THRESHOLDS) * N_PREDICTIONS"
   ]
  },
  {
   "cell_type": "code",
   "execution_count": 19,
   "metadata": {},
   "outputs": [
    {
     "data": {
      "text/html": [
       "<div>\n",
       "<style scoped>\n",
       "    .dataframe tbody tr th:only-of-type {\n",
       "        vertical-align: middle;\n",
       "    }\n",
       "\n",
       "    .dataframe tbody tr th {\n",
       "        vertical-align: top;\n",
       "    }\n",
       "\n",
       "    .dataframe thead th {\n",
       "        text-align: right;\n",
       "    }\n",
       "</style>\n",
       "<table border=\"1\" class=\"dataframe\">\n",
       "  <thead>\n",
       "    <tr style=\"text-align: right;\">\n",
       "      <th></th>\n",
       "      <th>trait</th>\n",
       "      <th>drug</th>\n",
       "      <th>score</th>\n",
       "      <th>true_class</th>\n",
       "      <th>method</th>\n",
       "      <th>n_top_genes</th>\n",
       "      <th>data</th>\n",
       "    </tr>\n",
       "  </thead>\n",
       "  <tbody>\n",
       "    <tr>\n",
       "      <th>0</th>\n",
       "      <td>DOID:0050741</td>\n",
       "      <td>DB00215</td>\n",
       "      <td>146.0</td>\n",
       "      <td>1</td>\n",
       "      <td>Gene-based</td>\n",
       "      <td>-1.0</td>\n",
       "      <td>spredixcan-mashr-zscores-Adipose_Subcutaneous-...</td>\n",
       "    </tr>\n",
       "    <tr>\n",
       "      <th>1</th>\n",
       "      <td>DOID:0050741</td>\n",
       "      <td>DB00704</td>\n",
       "      <td>465.0</td>\n",
       "      <td>1</td>\n",
       "      <td>Gene-based</td>\n",
       "      <td>-1.0</td>\n",
       "      <td>spredixcan-mashr-zscores-Adipose_Subcutaneous-...</td>\n",
       "    </tr>\n",
       "    <tr>\n",
       "      <th>2</th>\n",
       "      <td>DOID:0050741</td>\n",
       "      <td>DB00822</td>\n",
       "      <td>530.0</td>\n",
       "      <td>1</td>\n",
       "      <td>Gene-based</td>\n",
       "      <td>-1.0</td>\n",
       "      <td>spredixcan-mashr-zscores-Adipose_Subcutaneous-...</td>\n",
       "    </tr>\n",
       "    <tr>\n",
       "      <th>3</th>\n",
       "      <td>DOID:10283</td>\n",
       "      <td>DB00014</td>\n",
       "      <td>124.0</td>\n",
       "      <td>1</td>\n",
       "      <td>Gene-based</td>\n",
       "      <td>-1.0</td>\n",
       "      <td>spredixcan-mashr-zscores-Adipose_Subcutaneous-...</td>\n",
       "    </tr>\n",
       "    <tr>\n",
       "      <th>4</th>\n",
       "      <td>DOID:10283</td>\n",
       "      <td>DB00175</td>\n",
       "      <td>309.0</td>\n",
       "      <td>0</td>\n",
       "      <td>Gene-based</td>\n",
       "      <td>-1.0</td>\n",
       "      <td>spredixcan-mashr-zscores-Adipose_Subcutaneous-...</td>\n",
       "    </tr>\n",
       "  </tbody>\n",
       "</table>\n",
       "</div>"
      ],
      "text/plain": [
       "          trait     drug  score  true_class      method  n_top_genes  \\\n",
       "0  DOID:0050741  DB00215  146.0           1  Gene-based         -1.0   \n",
       "1  DOID:0050741  DB00704  465.0           1  Gene-based         -1.0   \n",
       "2  DOID:0050741  DB00822  530.0           1  Gene-based         -1.0   \n",
       "3    DOID:10283  DB00014  124.0           1  Gene-based         -1.0   \n",
       "4    DOID:10283  DB00175  309.0           0  Gene-based         -1.0   \n",
       "\n",
       "                                                data  \n",
       "0  spredixcan-mashr-zscores-Adipose_Subcutaneous-...  \n",
       "1  spredixcan-mashr-zscores-Adipose_Subcutaneous-...  \n",
       "2  spredixcan-mashr-zscores-Adipose_Subcutaneous-...  \n",
       "3  spredixcan-mashr-zscores-Adipose_Subcutaneous-...  \n",
       "4  spredixcan-mashr-zscores-Adipose_Subcutaneous-...  "
      ]
     },
     "execution_count": 19,
     "metadata": {},
     "output_type": "execute_result"
    }
   ],
   "source": [
    "predictions.head()"
   ]
  },
  {
   "cell_type": "code",
   "execution_count": 20,
   "metadata": {},
   "outputs": [],
   "source": [
    "assert not predictions.isna().any().any()"
   ]
  },
  {
   "cell_type": "code",
   "execution_count": 21,
   "metadata": {},
   "outputs": [
    {
     "data": {
      "text/plain": [
       "Gene-based      158270\n",
       "Module-based    158270\n",
       "Name: method, dtype: int64"
      ]
     },
     "metadata": {},
     "output_type": "display_data"
    }
   ],
   "source": [
    "_tmp = predictions[\"method\"].value_counts()\n",
    "display(_tmp)\n",
    "\n",
    "assert _tmp.loc[\"Gene-based\"] == N_TISSUES * N_THRESHOLDS * N_PREDICTIONS\n",
    "assert _tmp.loc[\"Module-based\"] == N_TISSUES * N_THRESHOLDS * N_PREDICTIONS"
   ]
  },
  {
   "cell_type": "code",
   "execution_count": 22,
   "metadata": {},
   "outputs": [
    {
     "data": {
      "text/html": [
       "<div>\n",
       "<style scoped>\n",
       "    .dataframe tbody tr th:only-of-type {\n",
       "        vertical-align: middle;\n",
       "    }\n",
       "\n",
       "    .dataframe tbody tr th {\n",
       "        vertical-align: top;\n",
       "    }\n",
       "\n",
       "    .dataframe thead th {\n",
       "        text-align: right;\n",
       "    }\n",
       "</style>\n",
       "<table border=\"1\" class=\"dataframe\">\n",
       "  <thead>\n",
       "    <tr style=\"text-align: right;\">\n",
       "      <th></th>\n",
       "      <th></th>\n",
       "      <th>trait</th>\n",
       "      <th>drug</th>\n",
       "      <th>score</th>\n",
       "      <th>true_class</th>\n",
       "      <th>data</th>\n",
       "    </tr>\n",
       "    <tr>\n",
       "      <th>method</th>\n",
       "      <th>n_top_genes</th>\n",
       "      <th></th>\n",
       "      <th></th>\n",
       "      <th></th>\n",
       "      <th></th>\n",
       "      <th></th>\n",
       "    </tr>\n",
       "  </thead>\n",
       "  <tbody>\n",
       "    <tr>\n",
       "      <th rowspan=\"5\" valign=\"top\">Gene-based</th>\n",
       "      <th>-1.0</th>\n",
       "      <td>31654</td>\n",
       "      <td>31654</td>\n",
       "      <td>31654</td>\n",
       "      <td>31654</td>\n",
       "      <td>31654</td>\n",
       "    </tr>\n",
       "    <tr>\n",
       "      <th>50.0</th>\n",
       "      <td>31654</td>\n",
       "      <td>31654</td>\n",
       "      <td>31654</td>\n",
       "      <td>31654</td>\n",
       "      <td>31654</td>\n",
       "    </tr>\n",
       "    <tr>\n",
       "      <th>100.0</th>\n",
       "      <td>31654</td>\n",
       "      <td>31654</td>\n",
       "      <td>31654</td>\n",
       "      <td>31654</td>\n",
       "      <td>31654</td>\n",
       "    </tr>\n",
       "    <tr>\n",
       "      <th>250.0</th>\n",
       "      <td>31654</td>\n",
       "      <td>31654</td>\n",
       "      <td>31654</td>\n",
       "      <td>31654</td>\n",
       "      <td>31654</td>\n",
       "    </tr>\n",
       "    <tr>\n",
       "      <th>500.0</th>\n",
       "      <td>31654</td>\n",
       "      <td>31654</td>\n",
       "      <td>31654</td>\n",
       "      <td>31654</td>\n",
       "      <td>31654</td>\n",
       "    </tr>\n",
       "    <tr>\n",
       "      <th rowspan=\"5\" valign=\"top\">Module-based</th>\n",
       "      <th>-1.0</th>\n",
       "      <td>31654</td>\n",
       "      <td>31654</td>\n",
       "      <td>31654</td>\n",
       "      <td>31654</td>\n",
       "      <td>31654</td>\n",
       "    </tr>\n",
       "    <tr>\n",
       "      <th>5.0</th>\n",
       "      <td>31654</td>\n",
       "      <td>31654</td>\n",
       "      <td>31654</td>\n",
       "      <td>31654</td>\n",
       "      <td>31654</td>\n",
       "    </tr>\n",
       "    <tr>\n",
       "      <th>10.0</th>\n",
       "      <td>31654</td>\n",
       "      <td>31654</td>\n",
       "      <td>31654</td>\n",
       "      <td>31654</td>\n",
       "      <td>31654</td>\n",
       "    </tr>\n",
       "    <tr>\n",
       "      <th>25.0</th>\n",
       "      <td>31654</td>\n",
       "      <td>31654</td>\n",
       "      <td>31654</td>\n",
       "      <td>31654</td>\n",
       "      <td>31654</td>\n",
       "    </tr>\n",
       "    <tr>\n",
       "      <th>50.0</th>\n",
       "      <td>31654</td>\n",
       "      <td>31654</td>\n",
       "      <td>31654</td>\n",
       "      <td>31654</td>\n",
       "      <td>31654</td>\n",
       "    </tr>\n",
       "  </tbody>\n",
       "</table>\n",
       "</div>"
      ],
      "text/plain": [
       "                          trait   drug  score  true_class   data\n",
       "method       n_top_genes                                        \n",
       "Gene-based   -1.0         31654  31654  31654       31654  31654\n",
       "              50.0        31654  31654  31654       31654  31654\n",
       "              100.0       31654  31654  31654       31654  31654\n",
       "              250.0       31654  31654  31654       31654  31654\n",
       "              500.0       31654  31654  31654       31654  31654\n",
       "Module-based -1.0         31654  31654  31654       31654  31654\n",
       "              5.0         31654  31654  31654       31654  31654\n",
       "              10.0        31654  31654  31654       31654  31654\n",
       "              25.0        31654  31654  31654       31654  31654\n",
       "              50.0        31654  31654  31654       31654  31654"
      ]
     },
     "metadata": {},
     "output_type": "display_data"
    }
   ],
   "source": [
    "_tmp = predictions.groupby([\"method\", \"n_top_genes\"]).count()\n",
    "display(_tmp)\n",
    "\n",
    "assert np.all(_tmp == N_TISSUES * N_PREDICTIONS)"
   ]
  },
  {
   "cell_type": "code",
   "execution_count": 23,
   "metadata": {},
   "outputs": [],
   "source": [
    "# FIXME: add this to the 011 notebooks... or maybe it's fine here (after submitting draft)\n",
    "def _get_tissue(x):\n",
    "    if x.endswith(\"-projection\"):\n",
    "        return x.split(\"spredixcan-mashr-zscores-\")[1].split(\"-projection\")[0]\n",
    "    else:\n",
    "        return x.split(\"spredixcan-mashr-zscores-\")[1].split(\"-data\")[0]\n",
    "\n",
    "\n",
    "predictions = predictions.assign(tissue=predictions[\"data\"].apply(_get_tissue))\n",
    "\n",
    "# # FIXME: remove or better document; here just for the most_signif version\n",
    "# predictions = predictions.assign(tissue=\"most_signif\")"
   ]
  },
  {
   "cell_type": "code",
   "execution_count": 24,
   "metadata": {},
   "outputs": [
    {
     "data": {
      "text/html": [
       "<div>\n",
       "<style scoped>\n",
       "    .dataframe tbody tr th:only-of-type {\n",
       "        vertical-align: middle;\n",
       "    }\n",
       "\n",
       "    .dataframe tbody tr th {\n",
       "        vertical-align: top;\n",
       "    }\n",
       "\n",
       "    .dataframe thead th {\n",
       "        text-align: right;\n",
       "    }\n",
       "</style>\n",
       "<table border=\"1\" class=\"dataframe\">\n",
       "  <thead>\n",
       "    <tr style=\"text-align: right;\">\n",
       "      <th></th>\n",
       "      <th>trait</th>\n",
       "      <th>drug</th>\n",
       "      <th>score</th>\n",
       "      <th>true_class</th>\n",
       "      <th>method</th>\n",
       "      <th>n_top_genes</th>\n",
       "      <th>data</th>\n",
       "      <th>tissue</th>\n",
       "    </tr>\n",
       "  </thead>\n",
       "  <tbody>\n",
       "    <tr>\n",
       "      <th>0</th>\n",
       "      <td>DOID:0050741</td>\n",
       "      <td>DB00215</td>\n",
       "      <td>146.0</td>\n",
       "      <td>1</td>\n",
       "      <td>Gene-based</td>\n",
       "      <td>-1.0</td>\n",
       "      <td>spredixcan-mashr-zscores-Adipose_Subcutaneous-...</td>\n",
       "      <td>Adipose_Subcutaneous</td>\n",
       "    </tr>\n",
       "    <tr>\n",
       "      <th>1</th>\n",
       "      <td>DOID:0050741</td>\n",
       "      <td>DB00704</td>\n",
       "      <td>465.0</td>\n",
       "      <td>1</td>\n",
       "      <td>Gene-based</td>\n",
       "      <td>-1.0</td>\n",
       "      <td>spredixcan-mashr-zscores-Adipose_Subcutaneous-...</td>\n",
       "      <td>Adipose_Subcutaneous</td>\n",
       "    </tr>\n",
       "    <tr>\n",
       "      <th>2</th>\n",
       "      <td>DOID:0050741</td>\n",
       "      <td>DB00822</td>\n",
       "      <td>530.0</td>\n",
       "      <td>1</td>\n",
       "      <td>Gene-based</td>\n",
       "      <td>-1.0</td>\n",
       "      <td>spredixcan-mashr-zscores-Adipose_Subcutaneous-...</td>\n",
       "      <td>Adipose_Subcutaneous</td>\n",
       "    </tr>\n",
       "    <tr>\n",
       "      <th>3</th>\n",
       "      <td>DOID:10283</td>\n",
       "      <td>DB00014</td>\n",
       "      <td>124.0</td>\n",
       "      <td>1</td>\n",
       "      <td>Gene-based</td>\n",
       "      <td>-1.0</td>\n",
       "      <td>spredixcan-mashr-zscores-Adipose_Subcutaneous-...</td>\n",
       "      <td>Adipose_Subcutaneous</td>\n",
       "    </tr>\n",
       "    <tr>\n",
       "      <th>4</th>\n",
       "      <td>DOID:10283</td>\n",
       "      <td>DB00175</td>\n",
       "      <td>309.0</td>\n",
       "      <td>0</td>\n",
       "      <td>Gene-based</td>\n",
       "      <td>-1.0</td>\n",
       "      <td>spredixcan-mashr-zscores-Adipose_Subcutaneous-...</td>\n",
       "      <td>Adipose_Subcutaneous</td>\n",
       "    </tr>\n",
       "  </tbody>\n",
       "</table>\n",
       "</div>"
      ],
      "text/plain": [
       "          trait     drug  score  true_class      method  n_top_genes  \\\n",
       "0  DOID:0050741  DB00215  146.0           1  Gene-based         -1.0   \n",
       "1  DOID:0050741  DB00704  465.0           1  Gene-based         -1.0   \n",
       "2  DOID:0050741  DB00822  530.0           1  Gene-based         -1.0   \n",
       "3    DOID:10283  DB00014  124.0           1  Gene-based         -1.0   \n",
       "4    DOID:10283  DB00175  309.0           0  Gene-based         -1.0   \n",
       "\n",
       "                                                data                tissue  \n",
       "0  spredixcan-mashr-zscores-Adipose_Subcutaneous-...  Adipose_Subcutaneous  \n",
       "1  spredixcan-mashr-zscores-Adipose_Subcutaneous-...  Adipose_Subcutaneous  \n",
       "2  spredixcan-mashr-zscores-Adipose_Subcutaneous-...  Adipose_Subcutaneous  \n",
       "3  spredixcan-mashr-zscores-Adipose_Subcutaneous-...  Adipose_Subcutaneous  \n",
       "4  spredixcan-mashr-zscores-Adipose_Subcutaneous-...  Adipose_Subcutaneous  "
      ]
     },
     "execution_count": 24,
     "metadata": {},
     "output_type": "execute_result"
    }
   ],
   "source": [
    "predictions.head()"
   ]
  },
  {
   "cell_type": "code",
   "execution_count": 25,
   "metadata": {},
   "outputs": [
    {
     "data": {
      "text/html": [
       "<div>\n",
       "<style scoped>\n",
       "    .dataframe tbody tr th:only-of-type {\n",
       "        vertical-align: middle;\n",
       "    }\n",
       "\n",
       "    .dataframe tbody tr th {\n",
       "        vertical-align: top;\n",
       "    }\n",
       "\n",
       "    .dataframe thead th {\n",
       "        text-align: right;\n",
       "    }\n",
       "</style>\n",
       "<table border=\"1\" class=\"dataframe\">\n",
       "  <thead>\n",
       "    <tr style=\"text-align: right;\">\n",
       "      <th></th>\n",
       "      <th></th>\n",
       "      <th>trait</th>\n",
       "      <th>drug</th>\n",
       "      <th>score</th>\n",
       "      <th>true_class</th>\n",
       "      <th>n_top_genes</th>\n",
       "      <th>data</th>\n",
       "    </tr>\n",
       "    <tr>\n",
       "      <th>method</th>\n",
       "      <th>tissue</th>\n",
       "      <th></th>\n",
       "      <th></th>\n",
       "      <th></th>\n",
       "      <th></th>\n",
       "      <th></th>\n",
       "      <th></th>\n",
       "    </tr>\n",
       "  </thead>\n",
       "  <tbody>\n",
       "    <tr>\n",
       "      <th rowspan=\"5\" valign=\"top\">Gene-based</th>\n",
       "      <th>Adipose_Subcutaneous</th>\n",
       "      <td>3230</td>\n",
       "      <td>3230</td>\n",
       "      <td>3230</td>\n",
       "      <td>3230</td>\n",
       "      <td>3230</td>\n",
       "      <td>3230</td>\n",
       "    </tr>\n",
       "    <tr>\n",
       "      <th>Adipose_Visceral_Omentum</th>\n",
       "      <td>3230</td>\n",
       "      <td>3230</td>\n",
       "      <td>3230</td>\n",
       "      <td>3230</td>\n",
       "      <td>3230</td>\n",
       "      <td>3230</td>\n",
       "    </tr>\n",
       "    <tr>\n",
       "      <th>Adrenal_Gland</th>\n",
       "      <td>3230</td>\n",
       "      <td>3230</td>\n",
       "      <td>3230</td>\n",
       "      <td>3230</td>\n",
       "      <td>3230</td>\n",
       "      <td>3230</td>\n",
       "    </tr>\n",
       "    <tr>\n",
       "      <th>Artery_Aorta</th>\n",
       "      <td>3230</td>\n",
       "      <td>3230</td>\n",
       "      <td>3230</td>\n",
       "      <td>3230</td>\n",
       "      <td>3230</td>\n",
       "      <td>3230</td>\n",
       "    </tr>\n",
       "    <tr>\n",
       "      <th>Artery_Coronary</th>\n",
       "      <td>3230</td>\n",
       "      <td>3230</td>\n",
       "      <td>3230</td>\n",
       "      <td>3230</td>\n",
       "      <td>3230</td>\n",
       "      <td>3230</td>\n",
       "    </tr>\n",
       "    <tr>\n",
       "      <th>...</th>\n",
       "      <th>...</th>\n",
       "      <td>...</td>\n",
       "      <td>...</td>\n",
       "      <td>...</td>\n",
       "      <td>...</td>\n",
       "      <td>...</td>\n",
       "      <td>...</td>\n",
       "    </tr>\n",
       "    <tr>\n",
       "      <th rowspan=\"5\" valign=\"top\">Module-based</th>\n",
       "      <th>Testis</th>\n",
       "      <td>3230</td>\n",
       "      <td>3230</td>\n",
       "      <td>3230</td>\n",
       "      <td>3230</td>\n",
       "      <td>3230</td>\n",
       "      <td>3230</td>\n",
       "    </tr>\n",
       "    <tr>\n",
       "      <th>Thyroid</th>\n",
       "      <td>3230</td>\n",
       "      <td>3230</td>\n",
       "      <td>3230</td>\n",
       "      <td>3230</td>\n",
       "      <td>3230</td>\n",
       "      <td>3230</td>\n",
       "    </tr>\n",
       "    <tr>\n",
       "      <th>Uterus</th>\n",
       "      <td>3230</td>\n",
       "      <td>3230</td>\n",
       "      <td>3230</td>\n",
       "      <td>3230</td>\n",
       "      <td>3230</td>\n",
       "      <td>3230</td>\n",
       "    </tr>\n",
       "    <tr>\n",
       "      <th>Vagina</th>\n",
       "      <td>3230</td>\n",
       "      <td>3230</td>\n",
       "      <td>3230</td>\n",
       "      <td>3230</td>\n",
       "      <td>3230</td>\n",
       "      <td>3230</td>\n",
       "    </tr>\n",
       "    <tr>\n",
       "      <th>Whole_Blood</th>\n",
       "      <td>3230</td>\n",
       "      <td>3230</td>\n",
       "      <td>3230</td>\n",
       "      <td>3230</td>\n",
       "      <td>3230</td>\n",
       "      <td>3230</td>\n",
       "    </tr>\n",
       "  </tbody>\n",
       "</table>\n",
       "<p>98 rows × 6 columns</p>\n",
       "</div>"
      ],
      "text/plain": [
       "                                       trait  drug  score  true_class  \\\n",
       "method       tissue                                                     \n",
       "Gene-based   Adipose_Subcutaneous       3230  3230   3230        3230   \n",
       "             Adipose_Visceral_Omentum   3230  3230   3230        3230   \n",
       "             Adrenal_Gland              3230  3230   3230        3230   \n",
       "             Artery_Aorta               3230  3230   3230        3230   \n",
       "             Artery_Coronary            3230  3230   3230        3230   \n",
       "...                                      ...   ...    ...         ...   \n",
       "Module-based Testis                     3230  3230   3230        3230   \n",
       "             Thyroid                    3230  3230   3230        3230   \n",
       "             Uterus                     3230  3230   3230        3230   \n",
       "             Vagina                     3230  3230   3230        3230   \n",
       "             Whole_Blood                3230  3230   3230        3230   \n",
       "\n",
       "                                       n_top_genes  data  \n",
       "method       tissue                                       \n",
       "Gene-based   Adipose_Subcutaneous             3230  3230  \n",
       "             Adipose_Visceral_Omentum         3230  3230  \n",
       "             Adrenal_Gland                    3230  3230  \n",
       "             Artery_Aorta                     3230  3230  \n",
       "             Artery_Coronary                  3230  3230  \n",
       "...                                            ...   ...  \n",
       "Module-based Testis                           3230  3230  \n",
       "             Thyroid                          3230  3230  \n",
       "             Uterus                           3230  3230  \n",
       "             Vagina                           3230  3230  \n",
       "             Whole_Blood                      3230  3230  \n",
       "\n",
       "[98 rows x 6 columns]"
      ]
     },
     "metadata": {},
     "output_type": "display_data"
    }
   ],
   "source": [
    "_tmp = predictions.groupby([\"method\", \"tissue\"]).count()\n",
    "display(_tmp)\n",
    "\n",
    "assert np.all(_tmp.loc[\"Gene-based\"] == (N_PREDICTIONS * N_THRESHOLDS))\n",
    "assert np.all(_tmp.loc[\"Module-based\"] == (N_PREDICTIONS * N_THRESHOLDS))"
   ]
  },
  {
   "cell_type": "markdown",
   "metadata": {},
   "source": [
    "## Testing"
   ]
  },
  {
   "cell_type": "code",
   "execution_count": 26,
   "metadata": {},
   "outputs": [
    {
     "data": {
      "text/plain": [
       "array([(646, 8)], dtype=object)"
      ]
     },
     "metadata": {},
     "output_type": "display_data"
    }
   ],
   "source": [
    "# all prediction tables should have the same shape\n",
    "predictions_shape = (\n",
    "    predictions.groupby([\"method\", \"n_top_genes\", \"tissue\"])\n",
    "    .apply(lambda x: x.shape)\n",
    "    .unique()\n",
    ")\n",
    "display(predictions_shape)\n",
    "\n",
    "assert predictions_shape.shape[0] == 1\n",
    "assert predictions_shape[0][0] == N_PREDICTIONS"
   ]
  },
  {
   "cell_type": "markdown",
   "metadata": {},
   "source": [
    "## Save"
   ]
  },
  {
   "cell_type": "code",
   "execution_count": 27,
   "metadata": {},
   "outputs": [
    {
     "data": {
      "text/plain": [
       "PosixPath('/media/miltondp/Elements1/projects/phenoplier/results/drug_disease_analyses/predictions_using_each_tissue_bak/predictions_results.pkl')"
      ]
     },
     "metadata": {},
     "output_type": "display_data"
    }
   ],
   "source": [
    "output_file = Path(OUTPUT_DIR, \"predictions\", \"predictions_results.pkl\").resolve()\n",
    "display(output_file)"
   ]
  },
  {
   "cell_type": "code",
   "execution_count": 28,
   "metadata": {},
   "outputs": [],
   "source": [
    "predictions.to_pickle(output_file)"
   ]
  },
  {
   "cell_type": "markdown",
   "metadata": {},
   "source": [
    "# Aggregate predictions"
   ]
  },
  {
   "cell_type": "code",
   "execution_count": 150,
   "metadata": {},
   "outputs": [],
   "source": [
    "def _reduce_mean(x):\n",
    "    return pd.Series(\n",
    "        {\n",
    "            \"score\": x[\"score\"].mean(),\n",
    "            \"true_class\": x[\"true_class\"].unique()[0]\n",
    "            #             if x[\"true_class\"].unique().shape[0] == 1\n",
    "            #             else None,\n",
    "        }\n",
    "    )\n",
    "\n",
    "\n",
    "def _reduce_max(x):\n",
    "    return pd.Series(\n",
    "        {\n",
    "            \"score\": x[\"score\"].max(),\n",
    "            \"true_class\": x[\"true_class\"].unique()[0]\n",
    "            #             if x[\"true_class\"].unique().shape[0] == 1\n",
    "            #             else None,\n",
    "        }\n",
    "    )\n",
    "\n",
    "\n",
    "# def _reduce_best(x):\n",
    "# #     assert x[\"true_class\"].unique() == FINISH\n",
    "#     x_stand = (x[\"score\"] - x[\"score\"].mean()) / x[\"score\"].std()\n",
    "\n",
    "#     x_max_score = x_stand.max()\n",
    "#     x_min_score = x_stand.min()\n",
    "\n",
    "#     # select best score\n",
    "#     x_selected = x[\"score\"].max()\n",
    "#     if abs(x_min_score) > abs(x_max_score):\n",
    "#         x_selected = x[\"score\"].min()\n",
    "\n",
    "#     return pd.Series(\n",
    "#         {\n",
    "#             \"score\": x_selected,\n",
    "#             \"true_class\": x[\"true_class\"].unique()[0]\n",
    "#             #             if x[\"true_class\"].unique().shape[0] == 1\n",
    "#             #             else None,\n",
    "#         }\n",
    "#     )"
   ]
  },
  {
   "cell_type": "code",
   "execution_count": 151,
   "metadata": {},
   "outputs": [],
   "source": [
    "predictions_avg = (\n",
    "    predictions.groupby([\"trait\", \"drug\", \"method\", \"tissue\"])\n",
    "    #     predictions.groupby([\"trait\", \"drug\", \"method\"])\n",
    "    .apply(_reduce_mean)\n",
    "    .dropna()\n",
    "    .groupby([\"trait\", \"drug\", \"method\"])\n",
    "    .apply(_reduce_max)\n",
    "    .dropna()\n",
    "    .sort_index()\n",
    "    .reset_index()\n",
    ")"
   ]
  },
  {
   "cell_type": "code",
   "execution_count": 152,
   "metadata": {},
   "outputs": [
    {
     "data": {
      "text/plain": [
       "(1292, 5)"
      ]
     },
     "metadata": {},
     "output_type": "display_data"
    }
   ],
   "source": [
    "# predictions_avg should have twice the number of rows in the predictions table, since has both methods\n",
    "display(predictions_avg.shape)\n",
    "assert predictions_avg.shape[0] == int(predictions_shape[0][0] * 2)"
   ]
  },
  {
   "cell_type": "code",
   "execution_count": 153,
   "metadata": {},
   "outputs": [],
   "source": [
    "assert predictions_avg.dropna().shape == predictions_avg.shape"
   ]
  },
  {
   "cell_type": "code",
   "execution_count": 154,
   "metadata": {},
   "outputs": [
    {
     "data": {
      "text/html": [
       "<div>\n",
       "<style scoped>\n",
       "    .dataframe tbody tr th:only-of-type {\n",
       "        vertical-align: middle;\n",
       "    }\n",
       "\n",
       "    .dataframe tbody tr th {\n",
       "        vertical-align: top;\n",
       "    }\n",
       "\n",
       "    .dataframe thead th {\n",
       "        text-align: right;\n",
       "    }\n",
       "</style>\n",
       "<table border=\"1\" class=\"dataframe\">\n",
       "  <thead>\n",
       "    <tr style=\"text-align: right;\">\n",
       "      <th></th>\n",
       "      <th>trait</th>\n",
       "      <th>drug</th>\n",
       "      <th>method</th>\n",
       "      <th>score</th>\n",
       "      <th>true_class</th>\n",
       "    </tr>\n",
       "  </thead>\n",
       "  <tbody>\n",
       "    <tr>\n",
       "      <th>0</th>\n",
       "      <td>DOID:0050741</td>\n",
       "      <td>DB00215</td>\n",
       "      <td>Gene-based</td>\n",
       "      <td>460.0</td>\n",
       "      <td>1.0</td>\n",
       "    </tr>\n",
       "    <tr>\n",
       "      <th>1</th>\n",
       "      <td>DOID:0050741</td>\n",
       "      <td>DB00215</td>\n",
       "      <td>Module-based</td>\n",
       "      <td>437.8</td>\n",
       "      <td>1.0</td>\n",
       "    </tr>\n",
       "    <tr>\n",
       "      <th>2</th>\n",
       "      <td>DOID:0050741</td>\n",
       "      <td>DB00704</td>\n",
       "      <td>Gene-based</td>\n",
       "      <td>544.4</td>\n",
       "      <td>1.0</td>\n",
       "    </tr>\n",
       "    <tr>\n",
       "      <th>3</th>\n",
       "      <td>DOID:0050741</td>\n",
       "      <td>DB00704</td>\n",
       "      <td>Module-based</td>\n",
       "      <td>562.8</td>\n",
       "      <td>1.0</td>\n",
       "    </tr>\n",
       "    <tr>\n",
       "      <th>4</th>\n",
       "      <td>DOID:0050741</td>\n",
       "      <td>DB00822</td>\n",
       "      <td>Gene-based</td>\n",
       "      <td>598.2</td>\n",
       "      <td>1.0</td>\n",
       "    </tr>\n",
       "  </tbody>\n",
       "</table>\n",
       "</div>"
      ],
      "text/plain": [
       "          trait     drug        method  score  true_class\n",
       "0  DOID:0050741  DB00215    Gene-based  460.0         1.0\n",
       "1  DOID:0050741  DB00215  Module-based  437.8         1.0\n",
       "2  DOID:0050741  DB00704    Gene-based  544.4         1.0\n",
       "3  DOID:0050741  DB00704  Module-based  562.8         1.0\n",
       "4  DOID:0050741  DB00822    Gene-based  598.2         1.0"
      ]
     },
     "execution_count": 154,
     "metadata": {},
     "output_type": "execute_result"
    }
   ],
   "source": [
    "predictions_avg.head()"
   ]
  },
  {
   "cell_type": "markdown",
   "metadata": {},
   "source": [
    "## Save"
   ]
  },
  {
   "cell_type": "code",
   "execution_count": 155,
   "metadata": {},
   "outputs": [
    {
     "data": {
      "text/plain": [
       "PosixPath('/media/miltondp/Elements1/projects/phenoplier/results/drug_disease_analyses/predictions_using_each_tissue_bak/predictions_results_aggregated.pkl')"
      ]
     },
     "metadata": {},
     "output_type": "display_data"
    }
   ],
   "source": [
    "output_file = Path(\n",
    "    OUTPUT_DIR, \"predictions\", \"predictions_results_aggregated.pkl\"\n",
    ").resolve()\n",
    "display(output_file)"
   ]
  },
  {
   "cell_type": "code",
   "execution_count": 156,
   "metadata": {},
   "outputs": [],
   "source": [
    "predictions_avg.to_pickle(output_file)"
   ]
  },
  {
   "cell_type": "markdown",
   "metadata": {},
   "source": [
    "# ROC"
   ]
  },
  {
   "cell_type": "code",
   "execution_count": 157,
   "metadata": {},
   "outputs": [],
   "source": [
    "from sklearn.metrics import roc_auc_score"
   ]
  },
  {
   "cell_type": "markdown",
   "metadata": {},
   "source": [
    "## Predictions"
   ]
  },
  {
   "cell_type": "code",
   "execution_count": 158,
   "metadata": {},
   "outputs": [
    {
     "data": {
      "text/html": [
       "<div>\n",
       "<style scoped>\n",
       "    .dataframe tbody tr th:only-of-type {\n",
       "        vertical-align: middle;\n",
       "    }\n",
       "\n",
       "    .dataframe tbody tr th {\n",
       "        vertical-align: top;\n",
       "    }\n",
       "\n",
       "    .dataframe thead th {\n",
       "        text-align: right;\n",
       "    }\n",
       "</style>\n",
       "<table border=\"1\" class=\"dataframe\">\n",
       "  <thead>\n",
       "    <tr style=\"text-align: right;\">\n",
       "      <th></th>\n",
       "      <th></th>\n",
       "      <th>count</th>\n",
       "      <th>mean</th>\n",
       "      <th>std</th>\n",
       "      <th>min</th>\n",
       "      <th>25%</th>\n",
       "      <th>50%</th>\n",
       "      <th>75%</th>\n",
       "      <th>max</th>\n",
       "    </tr>\n",
       "    <tr>\n",
       "      <th>method</th>\n",
       "      <th>n_top_genes</th>\n",
       "      <th></th>\n",
       "      <th></th>\n",
       "      <th></th>\n",
       "      <th></th>\n",
       "      <th></th>\n",
       "      <th></th>\n",
       "      <th></th>\n",
       "      <th></th>\n",
       "    </tr>\n",
       "  </thead>\n",
       "  <tbody>\n",
       "    <tr>\n",
       "      <th rowspan=\"5\" valign=\"top\">Gene-based</th>\n",
       "      <th>-1.0</th>\n",
       "      <td>49.0</td>\n",
       "      <td>0.532496</td>\n",
       "      <td>0.017163</td>\n",
       "      <td>0.492209</td>\n",
       "      <td>0.518996</td>\n",
       "      <td>0.533340</td>\n",
       "      <td>0.542742</td>\n",
       "      <td>0.573357</td>\n",
       "    </tr>\n",
       "    <tr>\n",
       "      <th>50.0</th>\n",
       "      <td>49.0</td>\n",
       "      <td>0.531650</td>\n",
       "      <td>0.021763</td>\n",
       "      <td>0.486716</td>\n",
       "      <td>0.514991</td>\n",
       "      <td>0.530862</td>\n",
       "      <td>0.546968</td>\n",
       "      <td>0.570521</td>\n",
       "    </tr>\n",
       "    <tr>\n",
       "      <th>100.0</th>\n",
       "      <td>49.0</td>\n",
       "      <td>0.538694</td>\n",
       "      <td>0.021833</td>\n",
       "      <td>0.471134</td>\n",
       "      <td>0.525866</td>\n",
       "      <td>0.540072</td>\n",
       "      <td>0.552516</td>\n",
       "      <td>0.577018</td>\n",
       "    </tr>\n",
       "    <tr>\n",
       "      <th>250.0</th>\n",
       "      <td>49.0</td>\n",
       "      <td>0.544592</td>\n",
       "      <td>0.020689</td>\n",
       "      <td>0.500647</td>\n",
       "      <td>0.534772</td>\n",
       "      <td>0.542894</td>\n",
       "      <td>0.557347</td>\n",
       "      <td>0.611515</td>\n",
       "    </tr>\n",
       "    <tr>\n",
       "      <th>500.0</th>\n",
       "      <td>49.0</td>\n",
       "      <td>0.541715</td>\n",
       "      <td>0.018178</td>\n",
       "      <td>0.500922</td>\n",
       "      <td>0.529472</td>\n",
       "      <td>0.538929</td>\n",
       "      <td>0.554759</td>\n",
       "      <td>0.593922</td>\n",
       "    </tr>\n",
       "    <tr>\n",
       "      <th rowspan=\"5\" valign=\"top\">Module-based</th>\n",
       "      <th>-1.0</th>\n",
       "      <td>49.0</td>\n",
       "      <td>0.550970</td>\n",
       "      <td>0.021875</td>\n",
       "      <td>0.488396</td>\n",
       "      <td>0.536850</td>\n",
       "      <td>0.552254</td>\n",
       "      <td>0.565001</td>\n",
       "      <td>0.599869</td>\n",
       "    </tr>\n",
       "    <tr>\n",
       "      <th>5.0</th>\n",
       "      <td>49.0</td>\n",
       "      <td>0.546616</td>\n",
       "      <td>0.022894</td>\n",
       "      <td>0.483261</td>\n",
       "      <td>0.528784</td>\n",
       "      <td>0.549019</td>\n",
       "      <td>0.561422</td>\n",
       "      <td>0.605431</td>\n",
       "    </tr>\n",
       "    <tr>\n",
       "      <th>10.0</th>\n",
       "      <td>49.0</td>\n",
       "      <td>0.549093</td>\n",
       "      <td>0.023742</td>\n",
       "      <td>0.478016</td>\n",
       "      <td>0.536479</td>\n",
       "      <td>0.546349</td>\n",
       "      <td>0.560335</td>\n",
       "      <td>0.612864</td>\n",
       "    </tr>\n",
       "    <tr>\n",
       "      <th>25.0</th>\n",
       "      <td>49.0</td>\n",
       "      <td>0.546519</td>\n",
       "      <td>0.028970</td>\n",
       "      <td>0.490034</td>\n",
       "      <td>0.523759</td>\n",
       "      <td>0.544105</td>\n",
       "      <td>0.567382</td>\n",
       "      <td>0.611074</td>\n",
       "    </tr>\n",
       "    <tr>\n",
       "      <th>50.0</th>\n",
       "      <td>49.0</td>\n",
       "      <td>0.546046</td>\n",
       "      <td>0.026593</td>\n",
       "      <td>0.485353</td>\n",
       "      <td>0.531936</td>\n",
       "      <td>0.545826</td>\n",
       "      <td>0.562413</td>\n",
       "      <td>0.596345</td>\n",
       "    </tr>\n",
       "  </tbody>\n",
       "</table>\n",
       "</div>"
      ],
      "text/plain": [
       "                          count      mean       std       min       25%  \\\n",
       "method       n_top_genes                                                  \n",
       "Gene-based   -1.0          49.0  0.532496  0.017163  0.492209  0.518996   \n",
       "              50.0         49.0  0.531650  0.021763  0.486716  0.514991   \n",
       "              100.0        49.0  0.538694  0.021833  0.471134  0.525866   \n",
       "              250.0        49.0  0.544592  0.020689  0.500647  0.534772   \n",
       "              500.0        49.0  0.541715  0.018178  0.500922  0.529472   \n",
       "Module-based -1.0          49.0  0.550970  0.021875  0.488396  0.536850   \n",
       "              5.0          49.0  0.546616  0.022894  0.483261  0.528784   \n",
       "              10.0         49.0  0.549093  0.023742  0.478016  0.536479   \n",
       "              25.0         49.0  0.546519  0.028970  0.490034  0.523759   \n",
       "              50.0         49.0  0.546046  0.026593  0.485353  0.531936   \n",
       "\n",
       "                               50%       75%       max  \n",
       "method       n_top_genes                                \n",
       "Gene-based   -1.0         0.533340  0.542742  0.573357  \n",
       "              50.0        0.530862  0.546968  0.570521  \n",
       "              100.0       0.540072  0.552516  0.577018  \n",
       "              250.0       0.542894  0.557347  0.611515  \n",
       "              500.0       0.538929  0.554759  0.593922  \n",
       "Module-based -1.0         0.552254  0.565001  0.599869  \n",
       "              5.0         0.549019  0.561422  0.605431  \n",
       "              10.0        0.546349  0.560335  0.612864  \n",
       "              25.0        0.544105  0.567382  0.611074  \n",
       "              50.0        0.545826  0.562413  0.596345  "
      ]
     },
     "execution_count": 158,
     "metadata": {},
     "output_type": "execute_result"
    }
   ],
   "source": [
    "# by method/n_top_genes\n",
    "predictions.groupby([\"method\", \"tissue\", \"n_top_genes\"]).apply(\n",
    "    lambda x: roc_auc_score(x[\"true_class\"], x[\"score\"])\n",
    ").groupby([\"method\", \"n_top_genes\"]).describe()"
   ]
  },
  {
   "cell_type": "code",
   "execution_count": 159,
   "metadata": {},
   "outputs": [
    {
     "data": {
      "text/html": [
       "<div>\n",
       "<style scoped>\n",
       "    .dataframe tbody tr th:only-of-type {\n",
       "        vertical-align: middle;\n",
       "    }\n",
       "\n",
       "    .dataframe tbody tr th {\n",
       "        vertical-align: top;\n",
       "    }\n",
       "\n",
       "    .dataframe thead th {\n",
       "        text-align: right;\n",
       "    }\n",
       "</style>\n",
       "<table border=\"1\" class=\"dataframe\">\n",
       "  <thead>\n",
       "    <tr style=\"text-align: right;\">\n",
       "      <th></th>\n",
       "      <th></th>\n",
       "      <th>count</th>\n",
       "      <th>mean</th>\n",
       "      <th>std</th>\n",
       "      <th>min</th>\n",
       "      <th>25%</th>\n",
       "      <th>50%</th>\n",
       "      <th>75%</th>\n",
       "      <th>max</th>\n",
       "    </tr>\n",
       "    <tr>\n",
       "      <th>method</th>\n",
       "      <th>tissue</th>\n",
       "      <th></th>\n",
       "      <th></th>\n",
       "      <th></th>\n",
       "      <th></th>\n",
       "      <th></th>\n",
       "      <th></th>\n",
       "      <th></th>\n",
       "      <th></th>\n",
       "    </tr>\n",
       "  </thead>\n",
       "  <tbody>\n",
       "    <tr>\n",
       "      <th rowspan=\"5\" valign=\"top\">Gene-based</th>\n",
       "      <th>Adipose_Subcutaneous</th>\n",
       "      <td>5.0</td>\n",
       "      <td>0.517983</td>\n",
       "      <td>0.017567</td>\n",
       "      <td>0.501542</td>\n",
       "      <td>0.504625</td>\n",
       "      <td>0.510957</td>\n",
       "      <td>0.531000</td>\n",
       "      <td>0.541792</td>\n",
       "    </tr>\n",
       "    <tr>\n",
       "      <th>Adipose_Visceral_Omentum</th>\n",
       "      <td>5.0</td>\n",
       "      <td>0.516053</td>\n",
       "      <td>0.010469</td>\n",
       "      <td>0.504873</td>\n",
       "      <td>0.506332</td>\n",
       "      <td>0.518501</td>\n",
       "      <td>0.520662</td>\n",
       "      <td>0.529899</td>\n",
       "    </tr>\n",
       "    <tr>\n",
       "      <th>Adrenal_Gland</th>\n",
       "      <td>5.0</td>\n",
       "      <td>0.507062</td>\n",
       "      <td>0.007235</td>\n",
       "      <td>0.500647</td>\n",
       "      <td>0.500922</td>\n",
       "      <td>0.505740</td>\n",
       "      <td>0.509966</td>\n",
       "      <td>0.518033</td>\n",
       "    </tr>\n",
       "    <tr>\n",
       "      <th>Artery_Aorta</th>\n",
       "      <td>5.0</td>\n",
       "      <td>0.530601</td>\n",
       "      <td>0.022785</td>\n",
       "      <td>0.492209</td>\n",
       "      <td>0.528743</td>\n",
       "      <td>0.539631</td>\n",
       "      <td>0.542315</td>\n",
       "      <td>0.550107</td>\n",
       "    </tr>\n",
       "    <tr>\n",
       "      <th>Artery_Coronary</th>\n",
       "      <td>5.0</td>\n",
       "      <td>0.550239</td>\n",
       "      <td>0.019450</td>\n",
       "      <td>0.534194</td>\n",
       "      <td>0.536437</td>\n",
       "      <td>0.538667</td>\n",
       "      <td>0.564877</td>\n",
       "      <td>0.577018</td>\n",
       "    </tr>\n",
       "    <tr>\n",
       "      <th>...</th>\n",
       "      <th>...</th>\n",
       "      <td>...</td>\n",
       "      <td>...</td>\n",
       "      <td>...</td>\n",
       "      <td>...</td>\n",
       "      <td>...</td>\n",
       "      <td>...</td>\n",
       "      <td>...</td>\n",
       "      <td>...</td>\n",
       "    </tr>\n",
       "    <tr>\n",
       "      <th rowspan=\"5\" valign=\"top\">Module-based</th>\n",
       "      <th>Testis</th>\n",
       "      <td>5.0</td>\n",
       "      <td>0.552882</td>\n",
       "      <td>0.016990</td>\n",
       "      <td>0.534703</td>\n",
       "      <td>0.541737</td>\n",
       "      <td>0.548937</td>\n",
       "      <td>0.561422</td>\n",
       "      <td>0.577610</td>\n",
       "    </tr>\n",
       "    <tr>\n",
       "      <th>Thyroid</th>\n",
       "      <td>5.0</td>\n",
       "      <td>0.559365</td>\n",
       "      <td>0.008815</td>\n",
       "      <td>0.550933</td>\n",
       "      <td>0.551979</td>\n",
       "      <td>0.557334</td>\n",
       "      <td>0.565001</td>\n",
       "      <td>0.571581</td>\n",
       "    </tr>\n",
       "    <tr>\n",
       "      <th>Uterus</th>\n",
       "      <td>5.0</td>\n",
       "      <td>0.537946</td>\n",
       "      <td>0.017693</td>\n",
       "      <td>0.516464</td>\n",
       "      <td>0.523759</td>\n",
       "      <td>0.539342</td>\n",
       "      <td>0.554856</td>\n",
       "      <td>0.555310</td>\n",
       "    </tr>\n",
       "    <tr>\n",
       "      <th>Vagina</th>\n",
       "      <td>5.0</td>\n",
       "      <td>0.542282</td>\n",
       "      <td>0.017486</td>\n",
       "      <td>0.514660</td>\n",
       "      <td>0.540980</td>\n",
       "      <td>0.541779</td>\n",
       "      <td>0.553452</td>\n",
       "      <td>0.560541</td>\n",
       "    </tr>\n",
       "    <tr>\n",
       "      <th>Whole_Blood</th>\n",
       "      <td>5.0</td>\n",
       "      <td>0.555040</td>\n",
       "      <td>0.029789</td>\n",
       "      <td>0.528660</td>\n",
       "      <td>0.538048</td>\n",
       "      <td>0.550809</td>\n",
       "      <td>0.552254</td>\n",
       "      <td>0.605431</td>\n",
       "    </tr>\n",
       "  </tbody>\n",
       "</table>\n",
       "<p>98 rows × 8 columns</p>\n",
       "</div>"
      ],
      "text/plain": [
       "                                       count      mean       std       min  \\\n",
       "method       tissue                                                          \n",
       "Gene-based   Adipose_Subcutaneous        5.0  0.517983  0.017567  0.501542   \n",
       "             Adipose_Visceral_Omentum    5.0  0.516053  0.010469  0.504873   \n",
       "             Adrenal_Gland               5.0  0.507062  0.007235  0.500647   \n",
       "             Artery_Aorta                5.0  0.530601  0.022785  0.492209   \n",
       "             Artery_Coronary             5.0  0.550239  0.019450  0.534194   \n",
       "...                                      ...       ...       ...       ...   \n",
       "Module-based Testis                      5.0  0.552882  0.016990  0.534703   \n",
       "             Thyroid                     5.0  0.559365  0.008815  0.550933   \n",
       "             Uterus                      5.0  0.537946  0.017693  0.516464   \n",
       "             Vagina                      5.0  0.542282  0.017486  0.514660   \n",
       "             Whole_Blood                 5.0  0.555040  0.029789  0.528660   \n",
       "\n",
       "                                            25%       50%       75%       max  \n",
       "method       tissue                                                            \n",
       "Gene-based   Adipose_Subcutaneous      0.504625  0.510957  0.531000  0.541792  \n",
       "             Adipose_Visceral_Omentum  0.506332  0.518501  0.520662  0.529899  \n",
       "             Adrenal_Gland             0.500922  0.505740  0.509966  0.518033  \n",
       "             Artery_Aorta              0.528743  0.539631  0.542315  0.550107  \n",
       "             Artery_Coronary           0.536437  0.538667  0.564877  0.577018  \n",
       "...                                         ...       ...       ...       ...  \n",
       "Module-based Testis                    0.541737  0.548937  0.561422  0.577610  \n",
       "             Thyroid                   0.551979  0.557334  0.565001  0.571581  \n",
       "             Uterus                    0.523759  0.539342  0.554856  0.555310  \n",
       "             Vagina                    0.540980  0.541779  0.553452  0.560541  \n",
       "             Whole_Blood               0.538048  0.550809  0.552254  0.605431  \n",
       "\n",
       "[98 rows x 8 columns]"
      ]
     },
     "execution_count": 159,
     "metadata": {},
     "output_type": "execute_result"
    }
   ],
   "source": [
    "# by method/tissue\n",
    "predictions.groupby([\"method\", \"tissue\", \"n_top_genes\"]).apply(\n",
    "    lambda x: roc_auc_score(x[\"true_class\"], x[\"score\"])\n",
    ").groupby([\"method\", \"tissue\"]).describe()"
   ]
  },
  {
   "cell_type": "markdown",
   "metadata": {},
   "source": [
    "## Predictions avg"
   ]
  },
  {
   "cell_type": "code",
   "execution_count": 160,
   "metadata": {},
   "outputs": [
    {
     "data": {
      "text/html": [
       "<div>\n",
       "<style scoped>\n",
       "    .dataframe tbody tr th:only-of-type {\n",
       "        vertical-align: middle;\n",
       "    }\n",
       "\n",
       "    .dataframe tbody tr th {\n",
       "        vertical-align: top;\n",
       "    }\n",
       "\n",
       "    .dataframe thead th {\n",
       "        text-align: right;\n",
       "    }\n",
       "</style>\n",
       "<table border=\"1\" class=\"dataframe\">\n",
       "  <thead>\n",
       "    <tr style=\"text-align: right;\">\n",
       "      <th></th>\n",
       "      <th>trait</th>\n",
       "      <th>drug</th>\n",
       "      <th>method</th>\n",
       "      <th>score</th>\n",
       "      <th>true_class</th>\n",
       "    </tr>\n",
       "  </thead>\n",
       "  <tbody>\n",
       "    <tr>\n",
       "      <th>0</th>\n",
       "      <td>DOID:0050741</td>\n",
       "      <td>DB00215</td>\n",
       "      <td>Gene-based</td>\n",
       "      <td>460.0</td>\n",
       "      <td>1.0</td>\n",
       "    </tr>\n",
       "    <tr>\n",
       "      <th>1</th>\n",
       "      <td>DOID:0050741</td>\n",
       "      <td>DB00215</td>\n",
       "      <td>Module-based</td>\n",
       "      <td>437.8</td>\n",
       "      <td>1.0</td>\n",
       "    </tr>\n",
       "    <tr>\n",
       "      <th>2</th>\n",
       "      <td>DOID:0050741</td>\n",
       "      <td>DB00704</td>\n",
       "      <td>Gene-based</td>\n",
       "      <td>544.4</td>\n",
       "      <td>1.0</td>\n",
       "    </tr>\n",
       "    <tr>\n",
       "      <th>3</th>\n",
       "      <td>DOID:0050741</td>\n",
       "      <td>DB00704</td>\n",
       "      <td>Module-based</td>\n",
       "      <td>562.8</td>\n",
       "      <td>1.0</td>\n",
       "    </tr>\n",
       "    <tr>\n",
       "      <th>4</th>\n",
       "      <td>DOID:0050741</td>\n",
       "      <td>DB00822</td>\n",
       "      <td>Gene-based</td>\n",
       "      <td>598.2</td>\n",
       "      <td>1.0</td>\n",
       "    </tr>\n",
       "  </tbody>\n",
       "</table>\n",
       "</div>"
      ],
      "text/plain": [
       "          trait     drug        method  score  true_class\n",
       "0  DOID:0050741  DB00215    Gene-based  460.0         1.0\n",
       "1  DOID:0050741  DB00215  Module-based  437.8         1.0\n",
       "2  DOID:0050741  DB00704    Gene-based  544.4         1.0\n",
       "3  DOID:0050741  DB00704  Module-based  562.8         1.0\n",
       "4  DOID:0050741  DB00822    Gene-based  598.2         1.0"
      ]
     },
     "execution_count": 160,
     "metadata": {},
     "output_type": "execute_result"
    }
   ],
   "source": [
    "predictions_avg.head()"
   ]
  },
  {
   "cell_type": "code",
   "execution_count": 161,
   "metadata": {},
   "outputs": [
    {
     "data": {
      "text/plain": [
       "method\n",
       "Gene-based      0.577831\n",
       "Module-based    0.632101\n",
       "dtype: float64"
      ]
     },
     "execution_count": 161,
     "metadata": {},
     "output_type": "execute_result"
    }
   ],
   "source": [
    "predictions_avg.groupby([\"method\"]).apply(\n",
    "    lambda x: roc_auc_score(x[\"true_class\"], x[\"score\"])\n",
    ")"
   ]
  },
  {
   "cell_type": "markdown",
   "metadata": {},
   "source": [
    "# PR"
   ]
  },
  {
   "cell_type": "code",
   "execution_count": 162,
   "metadata": {},
   "outputs": [],
   "source": [
    "from sklearn.metrics import average_precision_score"
   ]
  },
  {
   "cell_type": "markdown",
   "metadata": {},
   "source": [
    "## Predictions"
   ]
  },
  {
   "cell_type": "code",
   "execution_count": 163,
   "metadata": {},
   "outputs": [
    {
     "data": {
      "text/html": [
       "<div>\n",
       "<style scoped>\n",
       "    .dataframe tbody tr th:only-of-type {\n",
       "        vertical-align: middle;\n",
       "    }\n",
       "\n",
       "    .dataframe tbody tr th {\n",
       "        vertical-align: top;\n",
       "    }\n",
       "\n",
       "    .dataframe thead th {\n",
       "        text-align: right;\n",
       "    }\n",
       "</style>\n",
       "<table border=\"1\" class=\"dataframe\">\n",
       "  <thead>\n",
       "    <tr style=\"text-align: right;\">\n",
       "      <th></th>\n",
       "      <th></th>\n",
       "      <th>count</th>\n",
       "      <th>mean</th>\n",
       "      <th>std</th>\n",
       "      <th>min</th>\n",
       "      <th>25%</th>\n",
       "      <th>50%</th>\n",
       "      <th>75%</th>\n",
       "      <th>max</th>\n",
       "    </tr>\n",
       "    <tr>\n",
       "      <th>method</th>\n",
       "      <th>n_top_genes</th>\n",
       "      <th></th>\n",
       "      <th></th>\n",
       "      <th></th>\n",
       "      <th></th>\n",
       "      <th></th>\n",
       "      <th></th>\n",
       "      <th></th>\n",
       "      <th></th>\n",
       "    </tr>\n",
       "  </thead>\n",
       "  <tbody>\n",
       "    <tr>\n",
       "      <th rowspan=\"5\" valign=\"top\">Gene-based</th>\n",
       "      <th>-1.0</th>\n",
       "      <td>49.0</td>\n",
       "      <td>0.819652</td>\n",
       "      <td>0.009440</td>\n",
       "      <td>0.799782</td>\n",
       "      <td>0.813899</td>\n",
       "      <td>0.820518</td>\n",
       "      <td>0.826926</td>\n",
       "      <td>0.837497</td>\n",
       "    </tr>\n",
       "    <tr>\n",
       "      <th>50.0</th>\n",
       "      <td>49.0</td>\n",
       "      <td>0.818973</td>\n",
       "      <td>0.011333</td>\n",
       "      <td>0.797444</td>\n",
       "      <td>0.812942</td>\n",
       "      <td>0.818782</td>\n",
       "      <td>0.825572</td>\n",
       "      <td>0.846052</td>\n",
       "    </tr>\n",
       "    <tr>\n",
       "      <th>100.0</th>\n",
       "      <td>49.0</td>\n",
       "      <td>0.822515</td>\n",
       "      <td>0.010255</td>\n",
       "      <td>0.795834</td>\n",
       "      <td>0.816960</td>\n",
       "      <td>0.821320</td>\n",
       "      <td>0.829157</td>\n",
       "      <td>0.843993</td>\n",
       "    </tr>\n",
       "    <tr>\n",
       "      <th>250.0</th>\n",
       "      <td>49.0</td>\n",
       "      <td>0.826079</td>\n",
       "      <td>0.010757</td>\n",
       "      <td>0.805038</td>\n",
       "      <td>0.820633</td>\n",
       "      <td>0.825800</td>\n",
       "      <td>0.832956</td>\n",
       "      <td>0.858472</td>\n",
       "    </tr>\n",
       "    <tr>\n",
       "      <th>500.0</th>\n",
       "      <td>49.0</td>\n",
       "      <td>0.824255</td>\n",
       "      <td>0.008704</td>\n",
       "      <td>0.809210</td>\n",
       "      <td>0.817748</td>\n",
       "      <td>0.825342</td>\n",
       "      <td>0.829961</td>\n",
       "      <td>0.851972</td>\n",
       "    </tr>\n",
       "    <tr>\n",
       "      <th rowspan=\"5\" valign=\"top\">Module-based</th>\n",
       "      <th>-1.0</th>\n",
       "      <td>49.0</td>\n",
       "      <td>0.825578</td>\n",
       "      <td>0.010326</td>\n",
       "      <td>0.803155</td>\n",
       "      <td>0.818189</td>\n",
       "      <td>0.825569</td>\n",
       "      <td>0.832833</td>\n",
       "      <td>0.850523</td>\n",
       "    </tr>\n",
       "    <tr>\n",
       "      <th>5.0</th>\n",
       "      <td>49.0</td>\n",
       "      <td>0.824127</td>\n",
       "      <td>0.011438</td>\n",
       "      <td>0.795780</td>\n",
       "      <td>0.815947</td>\n",
       "      <td>0.827801</td>\n",
       "      <td>0.831900</td>\n",
       "      <td>0.851023</td>\n",
       "    </tr>\n",
       "    <tr>\n",
       "      <th>10.0</th>\n",
       "      <td>49.0</td>\n",
       "      <td>0.824383</td>\n",
       "      <td>0.012500</td>\n",
       "      <td>0.795728</td>\n",
       "      <td>0.817049</td>\n",
       "      <td>0.823271</td>\n",
       "      <td>0.831864</td>\n",
       "      <td>0.849924</td>\n",
       "    </tr>\n",
       "    <tr>\n",
       "      <th>25.0</th>\n",
       "      <td>49.0</td>\n",
       "      <td>0.821462</td>\n",
       "      <td>0.014990</td>\n",
       "      <td>0.794916</td>\n",
       "      <td>0.810213</td>\n",
       "      <td>0.820894</td>\n",
       "      <td>0.830868</td>\n",
       "      <td>0.853334</td>\n",
       "    </tr>\n",
       "    <tr>\n",
       "      <th>50.0</th>\n",
       "      <td>49.0</td>\n",
       "      <td>0.822552</td>\n",
       "      <td>0.015475</td>\n",
       "      <td>0.778559</td>\n",
       "      <td>0.815136</td>\n",
       "      <td>0.824726</td>\n",
       "      <td>0.831564</td>\n",
       "      <td>0.851906</td>\n",
       "    </tr>\n",
       "  </tbody>\n",
       "</table>\n",
       "</div>"
      ],
      "text/plain": [
       "                          count      mean       std       min       25%  \\\n",
       "method       n_top_genes                                                  \n",
       "Gene-based   -1.0          49.0  0.819652  0.009440  0.799782  0.813899   \n",
       "              50.0         49.0  0.818973  0.011333  0.797444  0.812942   \n",
       "              100.0        49.0  0.822515  0.010255  0.795834  0.816960   \n",
       "              250.0        49.0  0.826079  0.010757  0.805038  0.820633   \n",
       "              500.0        49.0  0.824255  0.008704  0.809210  0.817748   \n",
       "Module-based -1.0          49.0  0.825578  0.010326  0.803155  0.818189   \n",
       "              5.0          49.0  0.824127  0.011438  0.795780  0.815947   \n",
       "              10.0         49.0  0.824383  0.012500  0.795728  0.817049   \n",
       "              25.0         49.0  0.821462  0.014990  0.794916  0.810213   \n",
       "              50.0         49.0  0.822552  0.015475  0.778559  0.815136   \n",
       "\n",
       "                               50%       75%       max  \n",
       "method       n_top_genes                                \n",
       "Gene-based   -1.0         0.820518  0.826926  0.837497  \n",
       "              50.0        0.818782  0.825572  0.846052  \n",
       "              100.0       0.821320  0.829157  0.843993  \n",
       "              250.0       0.825800  0.832956  0.858472  \n",
       "              500.0       0.825342  0.829961  0.851972  \n",
       "Module-based -1.0         0.825569  0.832833  0.850523  \n",
       "              5.0         0.827801  0.831900  0.851023  \n",
       "              10.0        0.823271  0.831864  0.849924  \n",
       "              25.0        0.820894  0.830868  0.853334  \n",
       "              50.0        0.824726  0.831564  0.851906  "
      ]
     },
     "execution_count": 163,
     "metadata": {},
     "output_type": "execute_result"
    }
   ],
   "source": [
    "# by method/n_top_genes\n",
    "predictions.groupby([\"method\", \"tissue\", \"n_top_genes\"]).apply(\n",
    "    lambda x: average_precision_score(x[\"true_class\"], x[\"score\"])\n",
    ").groupby([\"method\", \"n_top_genes\"]).describe()"
   ]
  },
  {
   "cell_type": "code",
   "execution_count": 164,
   "metadata": {},
   "outputs": [
    {
     "data": {
      "text/html": [
       "<div>\n",
       "<style scoped>\n",
       "    .dataframe tbody tr th:only-of-type {\n",
       "        vertical-align: middle;\n",
       "    }\n",
       "\n",
       "    .dataframe tbody tr th {\n",
       "        vertical-align: top;\n",
       "    }\n",
       "\n",
       "    .dataframe thead th {\n",
       "        text-align: right;\n",
       "    }\n",
       "</style>\n",
       "<table border=\"1\" class=\"dataframe\">\n",
       "  <thead>\n",
       "    <tr style=\"text-align: right;\">\n",
       "      <th></th>\n",
       "      <th></th>\n",
       "      <th>count</th>\n",
       "      <th>mean</th>\n",
       "      <th>std</th>\n",
       "      <th>min</th>\n",
       "      <th>25%</th>\n",
       "      <th>50%</th>\n",
       "      <th>75%</th>\n",
       "      <th>max</th>\n",
       "    </tr>\n",
       "    <tr>\n",
       "      <th>method</th>\n",
       "      <th>tissue</th>\n",
       "      <th></th>\n",
       "      <th></th>\n",
       "      <th></th>\n",
       "      <th></th>\n",
       "      <th></th>\n",
       "      <th></th>\n",
       "      <th></th>\n",
       "      <th></th>\n",
       "    </tr>\n",
       "  </thead>\n",
       "  <tbody>\n",
       "    <tr>\n",
       "      <th rowspan=\"5\" valign=\"top\">Gene-based</th>\n",
       "      <th>Adipose_Subcutaneous</th>\n",
       "      <td>5.0</td>\n",
       "      <td>0.811499</td>\n",
       "      <td>0.009896</td>\n",
       "      <td>0.797558</td>\n",
       "      <td>0.807947</td>\n",
       "      <td>0.810087</td>\n",
       "      <td>0.819524</td>\n",
       "      <td>0.822379</td>\n",
       "    </tr>\n",
       "    <tr>\n",
       "      <th>Adipose_Visceral_Omentum</th>\n",
       "      <td>5.0</td>\n",
       "      <td>0.811665</td>\n",
       "      <td>0.005740</td>\n",
       "      <td>0.804858</td>\n",
       "      <td>0.805990</td>\n",
       "      <td>0.814885</td>\n",
       "      <td>0.816269</td>\n",
       "      <td>0.816321</td>\n",
       "    </tr>\n",
       "    <tr>\n",
       "      <th>Adrenal_Gland</th>\n",
       "      <td>5.0</td>\n",
       "      <td>0.813936</td>\n",
       "      <td>0.005540</td>\n",
       "      <td>0.809210</td>\n",
       "      <td>0.810372</td>\n",
       "      <td>0.810965</td>\n",
       "      <td>0.816784</td>\n",
       "      <td>0.822350</td>\n",
       "    </tr>\n",
       "    <tr>\n",
       "      <th>Artery_Aorta</th>\n",
       "      <td>5.0</td>\n",
       "      <td>0.822988</td>\n",
       "      <td>0.011146</td>\n",
       "      <td>0.803923</td>\n",
       "      <td>0.824227</td>\n",
       "      <td>0.825382</td>\n",
       "      <td>0.828809</td>\n",
       "      <td>0.832597</td>\n",
       "    </tr>\n",
       "    <tr>\n",
       "      <th>Artery_Coronary</th>\n",
       "      <td>5.0</td>\n",
       "      <td>0.829851</td>\n",
       "      <td>0.009367</td>\n",
       "      <td>0.821312</td>\n",
       "      <td>0.822853</td>\n",
       "      <td>0.825572</td>\n",
       "      <td>0.837073</td>\n",
       "      <td>0.842447</td>\n",
       "    </tr>\n",
       "    <tr>\n",
       "      <th>...</th>\n",
       "      <th>...</th>\n",
       "      <td>...</td>\n",
       "      <td>...</td>\n",
       "      <td>...</td>\n",
       "      <td>...</td>\n",
       "      <td>...</td>\n",
       "      <td>...</td>\n",
       "      <td>...</td>\n",
       "      <td>...</td>\n",
       "    </tr>\n",
       "    <tr>\n",
       "      <th rowspan=\"5\" valign=\"top\">Module-based</th>\n",
       "      <th>Testis</th>\n",
       "      <td>5.0</td>\n",
       "      <td>0.829219</td>\n",
       "      <td>0.009344</td>\n",
       "      <td>0.816903</td>\n",
       "      <td>0.825178</td>\n",
       "      <td>0.828267</td>\n",
       "      <td>0.833967</td>\n",
       "      <td>0.841779</td>\n",
       "    </tr>\n",
       "    <tr>\n",
       "      <th>Thyroid</th>\n",
       "      <td>5.0</td>\n",
       "      <td>0.829913</td>\n",
       "      <td>0.004428</td>\n",
       "      <td>0.822062</td>\n",
       "      <td>0.831268</td>\n",
       "      <td>0.831579</td>\n",
       "      <td>0.831826</td>\n",
       "      <td>0.832833</td>\n",
       "    </tr>\n",
       "    <tr>\n",
       "      <th>Uterus</th>\n",
       "      <td>5.0</td>\n",
       "      <td>0.812736</td>\n",
       "      <td>0.012707</td>\n",
       "      <td>0.798563</td>\n",
       "      <td>0.800676</td>\n",
       "      <td>0.814974</td>\n",
       "      <td>0.822915</td>\n",
       "      <td>0.826553</td>\n",
       "    </tr>\n",
       "    <tr>\n",
       "      <th>Vagina</th>\n",
       "      <td>5.0</td>\n",
       "      <td>0.811183</td>\n",
       "      <td>0.013788</td>\n",
       "      <td>0.792978</td>\n",
       "      <td>0.805208</td>\n",
       "      <td>0.810304</td>\n",
       "      <td>0.817441</td>\n",
       "      <td>0.829982</td>\n",
       "    </tr>\n",
       "    <tr>\n",
       "      <th>Whole_Blood</th>\n",
       "      <td>5.0</td>\n",
       "      <td>0.828188</td>\n",
       "      <td>0.014431</td>\n",
       "      <td>0.813380</td>\n",
       "      <td>0.821798</td>\n",
       "      <td>0.822365</td>\n",
       "      <td>0.832375</td>\n",
       "      <td>0.851023</td>\n",
       "    </tr>\n",
       "  </tbody>\n",
       "</table>\n",
       "<p>98 rows × 8 columns</p>\n",
       "</div>"
      ],
      "text/plain": [
       "                                       count      mean       std       min  \\\n",
       "method       tissue                                                          \n",
       "Gene-based   Adipose_Subcutaneous        5.0  0.811499  0.009896  0.797558   \n",
       "             Adipose_Visceral_Omentum    5.0  0.811665  0.005740  0.804858   \n",
       "             Adrenal_Gland               5.0  0.813936  0.005540  0.809210   \n",
       "             Artery_Aorta                5.0  0.822988  0.011146  0.803923   \n",
       "             Artery_Coronary             5.0  0.829851  0.009367  0.821312   \n",
       "...                                      ...       ...       ...       ...   \n",
       "Module-based Testis                      5.0  0.829219  0.009344  0.816903   \n",
       "             Thyroid                     5.0  0.829913  0.004428  0.822062   \n",
       "             Uterus                      5.0  0.812736  0.012707  0.798563   \n",
       "             Vagina                      5.0  0.811183  0.013788  0.792978   \n",
       "             Whole_Blood                 5.0  0.828188  0.014431  0.813380   \n",
       "\n",
       "                                            25%       50%       75%       max  \n",
       "method       tissue                                                            \n",
       "Gene-based   Adipose_Subcutaneous      0.807947  0.810087  0.819524  0.822379  \n",
       "             Adipose_Visceral_Omentum  0.805990  0.814885  0.816269  0.816321  \n",
       "             Adrenal_Gland             0.810372  0.810965  0.816784  0.822350  \n",
       "             Artery_Aorta              0.824227  0.825382  0.828809  0.832597  \n",
       "             Artery_Coronary           0.822853  0.825572  0.837073  0.842447  \n",
       "...                                         ...       ...       ...       ...  \n",
       "Module-based Testis                    0.825178  0.828267  0.833967  0.841779  \n",
       "             Thyroid                   0.831268  0.831579  0.831826  0.832833  \n",
       "             Uterus                    0.800676  0.814974  0.822915  0.826553  \n",
       "             Vagina                    0.805208  0.810304  0.817441  0.829982  \n",
       "             Whole_Blood               0.821798  0.822365  0.832375  0.851023  \n",
       "\n",
       "[98 rows x 8 columns]"
      ]
     },
     "execution_count": 164,
     "metadata": {},
     "output_type": "execute_result"
    }
   ],
   "source": [
    "# by method/tissue\n",
    "predictions.groupby([\"method\", \"tissue\", \"n_top_genes\"]).apply(\n",
    "    lambda x: average_precision_score(x[\"true_class\"], x[\"score\"])\n",
    ").groupby([\"method\", \"tissue\"]).describe()"
   ]
  },
  {
   "cell_type": "markdown",
   "metadata": {},
   "source": [
    "## Predictions avg"
   ]
  },
  {
   "cell_type": "code",
   "execution_count": 165,
   "metadata": {},
   "outputs": [
    {
     "data": {
      "text/plain": [
       "method\n",
       "Gene-based      0.846631\n",
       "Module-based    0.857572\n",
       "dtype: float64"
      ]
     },
     "execution_count": 165,
     "metadata": {},
     "output_type": "execute_result"
    }
   ],
   "source": [
    "predictions_avg.groupby([\"method\"]).apply(\n",
    "    lambda x: average_precision_score(x[\"true_class\"], x[\"score\"])\n",
    ")"
   ]
  },
  {
   "cell_type": "code",
   "execution_count": null,
   "metadata": {},
   "outputs": [],
   "source": []
  }
 ],
 "metadata": {
  "jupytext": {
   "cell_metadata_filter": "all,-execution,-papermill,-trusted",
   "formats": "ipynb,py//py:percent"
  },
  "kernelspec": {
   "display_name": "Python 3",
   "language": "python",
   "name": "python3"
  },
  "language_info": {
   "codemirror_mode": {
    "name": "ipython",
    "version": 3
   },
   "file_extension": ".py",
   "mimetype": "text/x-python",
   "name": "python",
   "nbconvert_exporter": "python",
   "pygments_lexer": "ipython3",
   "version": "3.8.8"
  },
  "papermill": {
   "default_parameters": {},
   "duration": 4334.257345,
   "end_time": "2020-12-18T23:50:34.771313",
   "environment_variables": {},
   "exception": null,
   "input_path": "15_drug_disease_associations/000-spredixcan_most_significant.ipynb",
   "output_path": "15_drug_disease_associations/000-spredixcan_most_significant.run.ipynb",
   "parameters": {},
   "start_time": "2020-12-18T22:38:20.513968",
   "version": "2.2.2"
  }
 },
 "nbformat": 4,
 "nbformat_minor": 4
}
