{
 "cells": [
  {
   "cell_type": "markdown",
   "metadata": {
    "papermill": {
     "duration": 0.023904,
     "end_time": "2021-04-22T17:55:12.008724",
     "exception": false,
     "start_time": "2021-04-22T17:55:11.984820",
     "status": "completed"
    },
    "tags": []
   },
   "source": [
    "# Description"
   ]
  },
  {
   "cell_type": "markdown",
   "metadata": {
    "papermill": {
     "duration": 0.01592,
     "end_time": "2021-04-22T17:55:12.043302",
     "exception": false,
     "start_time": "2021-04-22T17:55:12.027382",
     "status": "completed"
    },
    "tags": []
   },
   "source": [
    "**TODO**"
   ]
  },
  {
   "cell_type": "markdown",
   "metadata": {
    "papermill": {
     "duration": 0.015421,
     "end_time": "2021-04-22T17:55:12.074167",
     "exception": false,
     "start_time": "2021-04-22T17:55:12.058746",
     "status": "completed"
    },
    "tags": []
   },
   "source": [
    "# Modules loading"
   ]
  },
  {
   "cell_type": "code",
   "execution_count": 1,
   "metadata": {
    "execution": {
     "iopub.execute_input": "2021-04-22T17:55:12.110924Z",
     "iopub.status.busy": "2021-04-22T17:55:12.110547Z",
     "iopub.status.idle": "2021-04-22T17:55:12.117150Z",
     "shell.execute_reply": "2021-04-22T17:55:12.117454Z"
    },
    "papermill": {
     "duration": 0.028085,
     "end_time": "2021-04-22T17:55:12.117615",
     "exception": false,
     "start_time": "2021-04-22T17:55:12.089530",
     "status": "completed"
    },
    "tags": []
   },
   "outputs": [],
   "source": [
    "%load_ext autoreload\n",
    "%autoreload 2"
   ]
  },
  {
   "cell_type": "code",
   "execution_count": 2,
   "metadata": {
    "execution": {
     "iopub.execute_input": "2021-04-22T17:55:12.153481Z",
     "iopub.status.busy": "2021-04-22T17:55:12.153115Z",
     "iopub.status.idle": "2021-04-22T17:55:12.329096Z",
     "shell.execute_reply": "2021-04-22T17:55:12.329399Z"
    },
    "papermill": {
     "duration": 0.194976,
     "end_time": "2021-04-22T17:55:12.329506",
     "exception": false,
     "start_time": "2021-04-22T17:55:12.134530",
     "status": "completed"
    },
    "tags": []
   },
   "outputs": [],
   "source": [
    "from pathlib import Path\n",
    "\n",
    "import numpy as np\n",
    "import pandas as pd\n",
    "from tqdm import tqdm\n",
    "\n",
    "import conf"
   ]
  },
  {
   "cell_type": "markdown",
   "metadata": {
    "papermill": {
     "duration": 0.015926,
     "end_time": "2021-04-22T17:55:12.361653",
     "exception": false,
     "start_time": "2021-04-22T17:55:12.345727",
     "status": "completed"
    },
    "tags": []
   },
   "source": [
    "# Settings"
   ]
  },
  {
   "cell_type": "code",
   "execution_count": 3,
   "metadata": {
    "execution": {
     "iopub.execute_input": "2021-04-22T17:55:12.395559Z",
     "iopub.status.busy": "2021-04-22T17:55:12.395202Z",
     "iopub.status.idle": "2021-04-22T17:55:12.405090Z",
     "shell.execute_reply": "2021-04-22T17:55:12.404040Z"
    },
    "papermill": {
     "duration": 0.028008,
     "end_time": "2021-04-22T17:55:12.405309",
     "exception": false,
     "start_time": "2021-04-22T17:55:12.377301",
     "status": "completed"
    },
    "tags": []
   },
   "outputs": [],
   "source": [
    "N_TISSUES = 49\n",
    "# N_TISSUES = 1\n",
    "N_THRESHOLDS = 5\n",
    "N_PREDICTIONS = 646"
   ]
  },
  {
   "cell_type": "code",
   "execution_count": 4,
   "metadata": {
    "execution": {
     "iopub.execute_input": "2021-04-22T17:55:12.455897Z",
     "iopub.status.busy": "2021-04-22T17:55:12.455543Z",
     "iopub.status.idle": "2021-04-22T17:55:12.466448Z",
     "shell.execute_reply": "2021-04-22T17:55:12.466747Z"
    },
    "papermill": {
     "duration": 0.032994,
     "end_time": "2021-04-22T17:55:12.466850",
     "exception": false,
     "start_time": "2021-04-22T17:55:12.433856",
     "status": "completed"
    },
    "tags": []
   },
   "outputs": [
    {
     "data": {
      "text/plain": [
       "PosixPath('/home/miltondp/projects/labs/greenelab/phenoplier/base/results/drug_disease_analyses/lincs')"
      ]
     },
     "metadata": {},
     "output_type": "display_data"
    }
   ],
   "source": [
    "OUTPUT_DIR = conf.RESULTS[\"DRUG_DISEASE_ANALYSES\"] / \"lincs\"\n",
    "display(OUTPUT_DIR)\n",
    "assert OUTPUT_DIR.exists()"
   ]
  },
  {
   "cell_type": "code",
   "execution_count": 5,
   "metadata": {
    "execution": {
     "iopub.execute_input": "2021-04-22T17:55:12.503479Z",
     "iopub.status.busy": "2021-04-22T17:55:12.503123Z",
     "iopub.status.idle": "2021-04-22T17:55:12.511110Z",
     "shell.execute_reply": "2021-04-22T17:55:12.510741Z"
    },
    "papermill": {
     "duration": 0.027047,
     "end_time": "2021-04-22T17:55:12.511194",
     "exception": false,
     "start_time": "2021-04-22T17:55:12.484147",
     "status": "completed"
    },
    "tags": []
   },
   "outputs": [
    {
     "data": {
      "text/plain": [
       "PosixPath('/home/miltondp/projects/labs/greenelab/phenoplier/base/results/drug_disease_analyses/lincs/predictions/dotprod_neg')"
      ]
     },
     "metadata": {},
     "output_type": "display_data"
    }
   ],
   "source": [
    "OUTPUT_PREDICTIONS_DIR = Path(OUTPUT_DIR, \"predictions\", \"dotprod_neg\")\n",
    "display(OUTPUT_PREDICTIONS_DIR)\n",
    "OUTPUT_PREDICTIONS_DIR.mkdir(parents=True, exist_ok=True)"
   ]
  },
  {
   "cell_type": "markdown",
   "metadata": {
    "papermill": {
     "duration": 0.016452,
     "end_time": "2021-04-22T17:55:12.544993",
     "exception": false,
     "start_time": "2021-04-22T17:55:12.528541",
     "status": "completed"
    },
    "tags": []
   },
   "source": [
    "# Load PharmacotherapyDB gold standard"
   ]
  },
  {
   "cell_type": "code",
   "execution_count": 6,
   "metadata": {
    "execution": {
     "iopub.execute_input": "2021-04-22T17:55:12.580119Z",
     "iopub.status.busy": "2021-04-22T17:55:12.579763Z",
     "iopub.status.idle": "2021-04-22T17:55:12.587973Z",
     "shell.execute_reply": "2021-04-22T17:55:12.587602Z"
    },
    "papermill": {
     "duration": 0.026717,
     "end_time": "2021-04-22T17:55:12.588057",
     "exception": false,
     "start_time": "2021-04-22T17:55:12.561340",
     "status": "completed"
    },
    "tags": []
   },
   "outputs": [],
   "source": [
    "gold_standard = pd.read_pickle(\n",
    "    Path(conf.RESULTS[\"DRUG_DISEASE_ANALYSES\"], \"gold_standard.pkl\"),\n",
    ")"
   ]
  },
  {
   "cell_type": "code",
   "execution_count": 7,
   "metadata": {
    "execution": {
     "iopub.execute_input": "2021-04-22T17:55:12.623900Z",
     "iopub.status.busy": "2021-04-22T17:55:12.623536Z",
     "iopub.status.idle": "2021-04-22T17:55:12.631653Z",
     "shell.execute_reply": "2021-04-22T17:55:12.631285Z"
    },
    "papermill": {
     "duration": 0.026751,
     "end_time": "2021-04-22T17:55:12.631735",
     "exception": false,
     "start_time": "2021-04-22T17:55:12.604984",
     "status": "completed"
    },
    "tags": []
   },
   "outputs": [
    {
     "data": {
      "text/plain": [
       "(998, 3)"
      ]
     },
     "execution_count": 7,
     "metadata": {},
     "output_type": "execute_result"
    }
   ],
   "source": [
    "gold_standard.shape"
   ]
  },
  {
   "cell_type": "code",
   "execution_count": 8,
   "metadata": {
    "execution": {
     "iopub.execute_input": "2021-04-22T17:55:12.668366Z",
     "iopub.status.busy": "2021-04-22T17:55:12.668000Z",
     "iopub.status.idle": "2021-04-22T17:55:12.679742Z",
     "shell.execute_reply": "2021-04-22T17:55:12.679363Z"
    },
    "papermill": {
     "duration": 0.030982,
     "end_time": "2021-04-22T17:55:12.679830",
     "exception": false,
     "start_time": "2021-04-22T17:55:12.648848",
     "status": "completed"
    },
    "tags": []
   },
   "outputs": [
    {
     "data": {
      "text/html": [
       "<div>\n",
       "<style scoped>\n",
       "    .dataframe tbody tr th:only-of-type {\n",
       "        vertical-align: middle;\n",
       "    }\n",
       "\n",
       "    .dataframe tbody tr th {\n",
       "        vertical-align: top;\n",
       "    }\n",
       "\n",
       "    .dataframe thead th {\n",
       "        text-align: right;\n",
       "    }\n",
       "</style>\n",
       "<table border=\"1\" class=\"dataframe\">\n",
       "  <thead>\n",
       "    <tr style=\"text-align: right;\">\n",
       "      <th></th>\n",
       "      <th>trait</th>\n",
       "      <th>drug</th>\n",
       "      <th>true_class</th>\n",
       "    </tr>\n",
       "  </thead>\n",
       "  <tbody>\n",
       "    <tr>\n",
       "      <th>0</th>\n",
       "      <td>DOID:10652</td>\n",
       "      <td>DB00843</td>\n",
       "      <td>1</td>\n",
       "    </tr>\n",
       "    <tr>\n",
       "      <th>1</th>\n",
       "      <td>DOID:10652</td>\n",
       "      <td>DB00674</td>\n",
       "      <td>1</td>\n",
       "    </tr>\n",
       "    <tr>\n",
       "      <th>2</th>\n",
       "      <td>DOID:10652</td>\n",
       "      <td>DB01043</td>\n",
       "      <td>1</td>\n",
       "    </tr>\n",
       "    <tr>\n",
       "      <th>3</th>\n",
       "      <td>DOID:10652</td>\n",
       "      <td>DB00989</td>\n",
       "      <td>1</td>\n",
       "    </tr>\n",
       "    <tr>\n",
       "      <th>4</th>\n",
       "      <td>DOID:10652</td>\n",
       "      <td>DB00810</td>\n",
       "      <td>0</td>\n",
       "    </tr>\n",
       "  </tbody>\n",
       "</table>\n",
       "</div>"
      ],
      "text/plain": [
       "        trait     drug  true_class\n",
       "0  DOID:10652  DB00843           1\n",
       "1  DOID:10652  DB00674           1\n",
       "2  DOID:10652  DB01043           1\n",
       "3  DOID:10652  DB00989           1\n",
       "4  DOID:10652  DB00810           0"
      ]
     },
     "execution_count": 8,
     "metadata": {},
     "output_type": "execute_result"
    }
   ],
   "source": [
    "gold_standard.head()"
   ]
  },
  {
   "cell_type": "code",
   "execution_count": 9,
   "metadata": {
    "execution": {
     "iopub.execute_input": "2021-04-22T17:55:12.716770Z",
     "iopub.status.busy": "2021-04-22T17:55:12.716364Z",
     "iopub.status.idle": "2021-04-22T17:55:12.725363Z",
     "shell.execute_reply": "2021-04-22T17:55:12.725004Z"
    },
    "papermill": {
     "duration": 0.028126,
     "end_time": "2021-04-22T17:55:12.725445",
     "exception": false,
     "start_time": "2021-04-22T17:55:12.697319",
     "status": "completed"
    },
    "tags": []
   },
   "outputs": [
    {
     "data": {
      "text/plain": [
       "1    755\n",
       "0    243\n",
       "Name: true_class, dtype: int64"
      ]
     },
     "execution_count": 9,
     "metadata": {},
     "output_type": "execute_result"
    }
   ],
   "source": [
    "gold_standard[\"true_class\"].value_counts()"
   ]
  },
  {
   "cell_type": "code",
   "execution_count": 10,
   "metadata": {
    "execution": {
     "iopub.execute_input": "2021-04-22T17:55:12.762571Z",
     "iopub.status.busy": "2021-04-22T17:55:12.762218Z",
     "iopub.status.idle": "2021-04-22T17:55:12.773642Z",
     "shell.execute_reply": "2021-04-22T17:55:12.773324Z"
    },
    "papermill": {
     "duration": 0.030809,
     "end_time": "2021-04-22T17:55:12.773726",
     "exception": false,
     "start_time": "2021-04-22T17:55:12.742917",
     "status": "completed"
    },
    "tags": []
   },
   "outputs": [
    {
     "data": {
      "text/plain": [
       "1    0.756513\n",
       "0    0.243487\n",
       "Name: true_class, dtype: float64"
      ]
     },
     "execution_count": 10,
     "metadata": {},
     "output_type": "execute_result"
    }
   ],
   "source": [
    "gold_standard[\"true_class\"].value_counts(normalize=True)"
   ]
  },
  {
   "cell_type": "markdown",
   "metadata": {
    "papermill": {
     "duration": 0.017224,
     "end_time": "2021-04-22T17:55:12.808880",
     "exception": false,
     "start_time": "2021-04-22T17:55:12.791656",
     "status": "completed"
    },
    "tags": []
   },
   "source": [
    "# Load drug-disease predictions"
   ]
  },
  {
   "cell_type": "code",
   "execution_count": 11,
   "metadata": {
    "execution": {
     "iopub.execute_input": "2021-04-22T17:55:12.845581Z",
     "iopub.status.busy": "2021-04-22T17:55:12.845216Z",
     "iopub.status.idle": "2021-04-22T17:55:12.851939Z",
     "shell.execute_reply": "2021-04-22T17:55:12.852232Z"
    },
    "papermill": {
     "duration": 0.026208,
     "end_time": "2021-04-22T17:55:12.852330",
     "exception": false,
     "start_time": "2021-04-22T17:55:12.826122",
     "status": "completed"
    },
    "tags": []
   },
   "outputs": [],
   "source": [
    "from collections import defaultdict"
   ]
  },
  {
   "cell_type": "code",
   "execution_count": 12,
   "metadata": {
    "execution": {
     "iopub.execute_input": "2021-04-22T17:55:12.890458Z",
     "iopub.status.busy": "2021-04-22T17:55:12.890088Z",
     "iopub.status.idle": "2021-04-22T17:55:12.899714Z",
     "shell.execute_reply": "2021-04-22T17:55:12.899352Z"
    },
    "papermill": {
     "duration": 0.029456,
     "end_time": "2021-04-22T17:55:12.899797",
     "exception": false,
     "start_time": "2021-04-22T17:55:12.870341",
     "status": "completed"
    },
    "tags": []
   },
   "outputs": [
    {
     "data": {
      "text/plain": [
       "490"
      ]
     },
     "metadata": {},
     "output_type": "display_data"
    }
   ],
   "source": [
    "current_prediction_files = list(OUTPUT_PREDICTIONS_DIR.glob(\"*.h5\"))\n",
    "display(len(current_prediction_files))\n",
    "\n",
    "assert len(current_prediction_files) == 2 * (\n",
    "    N_TISSUES * N_THRESHOLDS\n",
    ")  # two methods (single-gene and module-based)"
   ]
  },
  {
   "cell_type": "code",
   "execution_count": 13,
   "metadata": {
    "execution": {
     "iopub.execute_input": "2021-04-22T17:55:12.938553Z",
     "iopub.status.busy": "2021-04-22T17:55:12.938188Z",
     "iopub.status.idle": "2021-04-22T17:55:12.945815Z",
     "shell.execute_reply": "2021-04-22T17:55:12.946177Z"
    },
    "papermill": {
     "duration": 0.028224,
     "end_time": "2021-04-22T17:55:12.946281",
     "exception": false,
     "start_time": "2021-04-22T17:55:12.918057",
     "status": "completed"
    },
    "tags": []
   },
   "outputs": [
    {
     "data": {
      "text/plain": [
       "[PosixPath('/home/miltondp/projects/labs/greenelab/phenoplier/base/results/drug_disease_analyses/lincs/predictions/dotprod_neg/spredixcan-mashr-zscores-Pancreas-data-top_100_genes-prediction_scores.h5'),\n",
       " PosixPath('/home/miltondp/projects/labs/greenelab/phenoplier/base/results/drug_disease_analyses/lincs/predictions/dotprod_neg/spredixcan-mashr-zscores-Kidney_Cortex-projection-top_5_genes-prediction_scores.h5'),\n",
       " PosixPath('/home/miltondp/projects/labs/greenelab/phenoplier/base/results/drug_disease_analyses/lincs/predictions/dotprod_neg/spredixcan-mashr-zscores-Brain_Cerebellum-data-all_genes-prediction_scores.h5'),\n",
       " PosixPath('/home/miltondp/projects/labs/greenelab/phenoplier/base/results/drug_disease_analyses/lincs/predictions/dotprod_neg/spredixcan-mashr-zscores-Brain_Nucleus_accumbens_basal_ganglia-projection-top_50_genes-prediction_scores.h5'),\n",
       " PosixPath('/home/miltondp/projects/labs/greenelab/phenoplier/base/results/drug_disease_analyses/lincs/predictions/dotprod_neg/spredixcan-mashr-zscores-Brain_Cortex-data-all_genes-prediction_scores.h5')]"
      ]
     },
     "execution_count": 13,
     "metadata": {},
     "output_type": "execute_result"
    }
   ],
   "source": [
    "current_prediction_files[:5]"
   ]
  },
  {
   "cell_type": "code",
   "execution_count": 14,
   "metadata": {
    "execution": {
     "iopub.execute_input": "2021-04-22T17:55:12.990801Z",
     "iopub.status.busy": "2021-04-22T17:55:12.990425Z",
     "iopub.status.idle": "2021-04-22T17:56:33.955356Z",
     "shell.execute_reply": "2021-04-22T17:56:33.955630Z"
    },
    "papermill": {
     "duration": 80.988855,
     "end_time": "2021-04-22T17:56:33.955734",
     "exception": false,
     "start_time": "2021-04-22T17:55:12.966879",
     "status": "completed"
    },
    "tags": []
   },
   "outputs": [
    {
     "name": "stderr",
     "output_type": "stream",
     "text": [
      "\r",
      "  0%|                                                                       | 0/490 [00:00<?, ?it/s]"
     ]
    },
    {
     "name": "stderr",
     "output_type": "stream",
     "text": [
      "\r",
      "  0%|▏                                                              | 1/490 [00:00<02:23,  3.41it/s]"
     ]
    },
    {
     "name": "stderr",
     "output_type": "stream",
     "text": [
      "\r",
      "  0%|▎                                                              | 2/490 [00:00<02:04,  3.93it/s]"
     ]
    },
    {
     "name": "stderr",
     "output_type": "stream",
     "text": [
      "\r",
      "  1%|▍                                                              | 3/490 [00:00<01:50,  4.40it/s]"
     ]
    },
    {
     "name": "stderr",
     "output_type": "stream",
     "text": [
      "\r",
      "  1%|▌                                                              | 4/490 [00:00<01:41,  4.79it/s]"
     ]
    },
    {
     "name": "stderr",
     "output_type": "stream",
     "text": [
      "\r",
      "  1%|▋                                                              | 5/490 [00:00<01:34,  5.13it/s]"
     ]
    },
    {
     "name": "stderr",
     "output_type": "stream",
     "text": [
      "\r",
      "  1%|▊                                                              | 6/490 [00:01<01:30,  5.33it/s]"
     ]
    },
    {
     "name": "stderr",
     "output_type": "stream",
     "text": [
      "\r",
      "  1%|▉                                                              | 7/490 [00:01<01:26,  5.55it/s]"
     ]
    },
    {
     "name": "stderr",
     "output_type": "stream",
     "text": [
      "\r",
      "  2%|█                                                              | 8/490 [00:01<01:24,  5.72it/s]"
     ]
    },
    {
     "name": "stderr",
     "output_type": "stream",
     "text": [
      "\r",
      "  2%|█▏                                                             | 9/490 [00:01<01:22,  5.86it/s]"
     ]
    },
    {
     "name": "stderr",
     "output_type": "stream",
     "text": [
      "\r",
      "  2%|█▎                                                            | 10/490 [00:01<01:20,  5.96it/s]"
     ]
    },
    {
     "name": "stderr",
     "output_type": "stream",
     "text": [
      "\r",
      "  2%|█▍                                                            | 11/490 [00:01<01:19,  6.02it/s]"
     ]
    },
    {
     "name": "stderr",
     "output_type": "stream",
     "text": [
      "\r",
      "  2%|█▌                                                            | 12/490 [00:02<01:20,  5.92it/s]"
     ]
    },
    {
     "name": "stderr",
     "output_type": "stream",
     "text": [
      "\r",
      "  3%|█▋                                                            | 13/490 [00:02<01:19,  6.00it/s]"
     ]
    },
    {
     "name": "stderr",
     "output_type": "stream",
     "text": [
      "\r",
      "  3%|█▊                                                            | 14/490 [00:02<01:18,  6.04it/s]"
     ]
    },
    {
     "name": "stderr",
     "output_type": "stream",
     "text": [
      "\r",
      "  3%|█▉                                                            | 15/490 [00:02<01:18,  6.07it/s]"
     ]
    },
    {
     "name": "stderr",
     "output_type": "stream",
     "text": [
      "\r",
      "  3%|██                                                            | 16/490 [00:02<01:17,  6.11it/s]"
     ]
    },
    {
     "name": "stderr",
     "output_type": "stream",
     "text": [
      "\r",
      "  3%|██▏                                                           | 17/490 [00:02<01:17,  6.14it/s]"
     ]
    },
    {
     "name": "stderr",
     "output_type": "stream",
     "text": [
      "\r",
      "  4%|██▎                                                           | 18/490 [00:03<01:16,  6.13it/s]"
     ]
    },
    {
     "name": "stderr",
     "output_type": "stream",
     "text": [
      "\r",
      "  4%|██▍                                                           | 19/490 [00:03<01:16,  6.13it/s]"
     ]
    },
    {
     "name": "stderr",
     "output_type": "stream",
     "text": [
      "\r",
      "  4%|██▌                                                           | 20/490 [00:03<01:16,  6.15it/s]"
     ]
    },
    {
     "name": "stderr",
     "output_type": "stream",
     "text": [
      "\r",
      "  4%|██▋                                                           | 21/490 [00:03<01:16,  6.15it/s]"
     ]
    },
    {
     "name": "stderr",
     "output_type": "stream",
     "text": [
      "\r",
      "  4%|██▊                                                           | 22/490 [00:03<01:15,  6.17it/s]"
     ]
    },
    {
     "name": "stderr",
     "output_type": "stream",
     "text": [
      "\r",
      "  5%|██▉                                                           | 23/490 [00:03<01:15,  6.18it/s]"
     ]
    },
    {
     "name": "stderr",
     "output_type": "stream",
     "text": [
      "\r",
      "  5%|███                                                           | 24/490 [00:04<01:17,  6.02it/s]"
     ]
    },
    {
     "name": "stderr",
     "output_type": "stream",
     "text": [
      "\r",
      "  5%|███▏                                                          | 25/490 [00:04<01:16,  6.06it/s]"
     ]
    },
    {
     "name": "stderr",
     "output_type": "stream",
     "text": [
      "\r",
      "  5%|███▎                                                          | 26/490 [00:04<01:16,  6.10it/s]"
     ]
    },
    {
     "name": "stderr",
     "output_type": "stream",
     "text": [
      "\r",
      "  6%|███▍                                                          | 27/490 [00:04<01:15,  6.13it/s]"
     ]
    },
    {
     "name": "stderr",
     "output_type": "stream",
     "text": [
      "\r",
      "  6%|███▌                                                          | 28/490 [00:04<01:15,  6.16it/s]"
     ]
    },
    {
     "name": "stderr",
     "output_type": "stream",
     "text": [
      "\r",
      "  6%|███▋                                                          | 29/490 [00:04<01:14,  6.17it/s]"
     ]
    },
    {
     "name": "stderr",
     "output_type": "stream",
     "text": [
      "\r",
      "  6%|███▊                                                          | 30/490 [00:05<01:14,  6.16it/s]"
     ]
    },
    {
     "name": "stderr",
     "output_type": "stream",
     "text": [
      "\r",
      "  6%|███▉                                                          | 31/490 [00:05<01:14,  6.14it/s]"
     ]
    },
    {
     "name": "stderr",
     "output_type": "stream",
     "text": [
      "\r",
      "  7%|████                                                          | 32/490 [00:05<01:14,  6.17it/s]"
     ]
    },
    {
     "name": "stderr",
     "output_type": "stream",
     "text": [
      "\r",
      "  7%|████▏                                                         | 33/490 [00:05<01:14,  6.17it/s]"
     ]
    },
    {
     "name": "stderr",
     "output_type": "stream",
     "text": [
      "\r",
      "  7%|████▎                                                         | 34/490 [00:05<01:13,  6.17it/s]"
     ]
    },
    {
     "name": "stderr",
     "output_type": "stream",
     "text": [
      "\r",
      "  7%|████▍                                                         | 35/490 [00:05<01:13,  6.19it/s]"
     ]
    },
    {
     "name": "stderr",
     "output_type": "stream",
     "text": [
      "\r",
      "  7%|████▌                                                         | 36/490 [00:06<01:14,  6.13it/s]"
     ]
    },
    {
     "name": "stderr",
     "output_type": "stream",
     "text": [
      "\r",
      "  8%|████▋                                                         | 37/490 [00:06<01:15,  6.03it/s]"
     ]
    },
    {
     "name": "stderr",
     "output_type": "stream",
     "text": [
      "\r",
      "  8%|████▊                                                         | 38/490 [00:06<01:14,  6.05it/s]"
     ]
    },
    {
     "name": "stderr",
     "output_type": "stream",
     "text": [
      "\r",
      "  8%|████▉                                                         | 39/490 [00:06<01:14,  6.09it/s]"
     ]
    },
    {
     "name": "stderr",
     "output_type": "stream",
     "text": [
      "\r",
      "  8%|█████                                                         | 40/490 [00:06<01:13,  6.13it/s]"
     ]
    },
    {
     "name": "stderr",
     "output_type": "stream",
     "text": [
      "\r",
      "  8%|█████▏                                                        | 41/490 [00:06<01:13,  6.13it/s]"
     ]
    },
    {
     "name": "stderr",
     "output_type": "stream",
     "text": [
      "\r",
      "  9%|█████▎                                                        | 42/490 [00:06<01:12,  6.15it/s]"
     ]
    },
    {
     "name": "stderr",
     "output_type": "stream",
     "text": [
      "\r",
      "  9%|█████▍                                                        | 43/490 [00:07<01:12,  6.13it/s]"
     ]
    },
    {
     "name": "stderr",
     "output_type": "stream",
     "text": [
      "\r",
      "  9%|█████▌                                                        | 44/490 [00:07<01:12,  6.14it/s]"
     ]
    },
    {
     "name": "stderr",
     "output_type": "stream",
     "text": [
      "\r",
      "  9%|█████▋                                                        | 45/490 [00:07<01:12,  6.16it/s]"
     ]
    },
    {
     "name": "stderr",
     "output_type": "stream",
     "text": [
      "\r",
      "  9%|█████▊                                                        | 46/490 [00:07<01:11,  6.17it/s]"
     ]
    },
    {
     "name": "stderr",
     "output_type": "stream",
     "text": [
      "\r",
      " 10%|█████▉                                                        | 47/490 [00:07<01:11,  6.18it/s]"
     ]
    },
    {
     "name": "stderr",
     "output_type": "stream",
     "text": [
      "\r",
      " 10%|██████                                                        | 48/490 [00:07<01:11,  6.18it/s]"
     ]
    },
    {
     "name": "stderr",
     "output_type": "stream",
     "text": [
      "\r",
      " 10%|██████▏                                                       | 49/490 [00:08<01:13,  5.97it/s]"
     ]
    },
    {
     "name": "stderr",
     "output_type": "stream",
     "text": [
      "\r",
      " 10%|██████▎                                                       | 50/490 [00:08<01:13,  5.98it/s]"
     ]
    },
    {
     "name": "stderr",
     "output_type": "stream",
     "text": [
      "\r",
      " 10%|██████▍                                                       | 51/490 [00:08<01:12,  6.02it/s]"
     ]
    },
    {
     "name": "stderr",
     "output_type": "stream",
     "text": [
      "\r",
      " 11%|██████▌                                                       | 52/490 [00:08<01:12,  6.02it/s]"
     ]
    },
    {
     "name": "stderr",
     "output_type": "stream",
     "text": [
      "\r",
      " 11%|██████▋                                                       | 53/490 [00:08<01:12,  6.06it/s]"
     ]
    },
    {
     "name": "stderr",
     "output_type": "stream",
     "text": [
      "\r",
      " 11%|██████▊                                                       | 54/490 [00:08<01:11,  6.10it/s]"
     ]
    },
    {
     "name": "stderr",
     "output_type": "stream",
     "text": [
      "\r",
      " 11%|██████▉                                                       | 55/490 [00:09<01:11,  6.07it/s]"
     ]
    },
    {
     "name": "stderr",
     "output_type": "stream",
     "text": [
      "\r",
      " 11%|███████                                                       | 56/490 [00:09<01:11,  6.06it/s]"
     ]
    },
    {
     "name": "stderr",
     "output_type": "stream",
     "text": [
      "\r",
      " 12%|███████▏                                                      | 57/490 [00:09<01:11,  6.09it/s]"
     ]
    },
    {
     "name": "stderr",
     "output_type": "stream",
     "text": [
      "\r",
      " 12%|███████▎                                                      | 58/490 [00:09<01:10,  6.10it/s]"
     ]
    },
    {
     "name": "stderr",
     "output_type": "stream",
     "text": [
      "\r",
      " 12%|███████▍                                                      | 59/490 [00:09<01:10,  6.10it/s]"
     ]
    },
    {
     "name": "stderr",
     "output_type": "stream",
     "text": [
      "\r",
      " 12%|███████▌                                                      | 60/490 [00:09<01:10,  6.10it/s]"
     ]
    },
    {
     "name": "stderr",
     "output_type": "stream",
     "text": [
      "\r",
      " 12%|███████▋                                                      | 61/490 [00:10<01:12,  5.95it/s]"
     ]
    },
    {
     "name": "stderr",
     "output_type": "stream",
     "text": [
      "\r",
      " 13%|███████▊                                                      | 62/490 [00:10<01:11,  5.99it/s]"
     ]
    },
    {
     "name": "stderr",
     "output_type": "stream",
     "text": [
      "\r",
      " 13%|███████▉                                                      | 63/490 [00:10<01:10,  6.03it/s]"
     ]
    },
    {
     "name": "stderr",
     "output_type": "stream",
     "text": [
      "\r",
      " 13%|████████                                                      | 64/490 [00:10<01:10,  6.03it/s]"
     ]
    },
    {
     "name": "stderr",
     "output_type": "stream",
     "text": [
      "\r",
      " 13%|████████▏                                                     | 65/490 [00:10<01:10,  6.03it/s]"
     ]
    },
    {
     "name": "stderr",
     "output_type": "stream",
     "text": [
      "\r",
      " 13%|████████▎                                                     | 66/490 [00:10<01:09,  6.08it/s]"
     ]
    },
    {
     "name": "stderr",
     "output_type": "stream",
     "text": [
      "\r",
      " 14%|████████▍                                                     | 67/490 [00:11<01:09,  6.09it/s]"
     ]
    },
    {
     "name": "stderr",
     "output_type": "stream",
     "text": [
      "\r",
      " 14%|████████▌                                                     | 68/490 [00:11<01:08,  6.12it/s]"
     ]
    },
    {
     "name": "stderr",
     "output_type": "stream",
     "text": [
      "\r",
      " 14%|████████▋                                                     | 69/490 [00:11<01:08,  6.14it/s]"
     ]
    },
    {
     "name": "stderr",
     "output_type": "stream",
     "text": [
      "\r",
      " 14%|████████▊                                                     | 70/490 [00:11<01:08,  6.15it/s]"
     ]
    },
    {
     "name": "stderr",
     "output_type": "stream",
     "text": [
      "\r",
      " 14%|████████▉                                                     | 71/490 [00:11<01:08,  6.16it/s]"
     ]
    },
    {
     "name": "stderr",
     "output_type": "stream",
     "text": [
      "\r",
      " 15%|█████████                                                     | 72/490 [00:11<01:07,  6.16it/s]"
     ]
    },
    {
     "name": "stderr",
     "output_type": "stream",
     "text": [
      "\r",
      " 15%|█████████▏                                                    | 73/490 [00:12<01:08,  6.06it/s]"
     ]
    },
    {
     "name": "stderr",
     "output_type": "stream",
     "text": [
      "\r",
      " 15%|█████████▎                                                    | 74/490 [00:12<01:08,  6.07it/s]"
     ]
    },
    {
     "name": "stderr",
     "output_type": "stream",
     "text": [
      "\r",
      " 15%|█████████▍                                                    | 75/490 [00:12<01:07,  6.11it/s]"
     ]
    },
    {
     "name": "stderr",
     "output_type": "stream",
     "text": [
      "\r",
      " 16%|█████████▌                                                    | 76/490 [00:12<01:07,  6.14it/s]"
     ]
    },
    {
     "name": "stderr",
     "output_type": "stream",
     "text": [
      "\r",
      " 16%|█████████▋                                                    | 77/490 [00:12<01:07,  6.16it/s]"
     ]
    },
    {
     "name": "stderr",
     "output_type": "stream",
     "text": [
      "\r",
      " 16%|█████████▊                                                    | 78/490 [00:12<01:07,  6.14it/s]"
     ]
    },
    {
     "name": "stderr",
     "output_type": "stream",
     "text": [
      "\r",
      " 16%|█████████▉                                                    | 79/490 [00:13<01:07,  6.10it/s]"
     ]
    },
    {
     "name": "stderr",
     "output_type": "stream",
     "text": [
      "\r",
      " 16%|██████████                                                    | 80/490 [00:13<01:07,  6.08it/s]"
     ]
    },
    {
     "name": "stderr",
     "output_type": "stream",
     "text": [
      "\r",
      " 17%|██████████▏                                                   | 81/490 [00:13<01:06,  6.12it/s]"
     ]
    },
    {
     "name": "stderr",
     "output_type": "stream",
     "text": [
      "\r",
      " 17%|██████████▍                                                   | 82/490 [00:13<01:06,  6.13it/s]"
     ]
    },
    {
     "name": "stderr",
     "output_type": "stream",
     "text": [
      "\r",
      " 17%|██████████▌                                                   | 83/490 [00:13<01:06,  6.15it/s]"
     ]
    },
    {
     "name": "stderr",
     "output_type": "stream",
     "text": [
      "\r",
      " 17%|██████████▋                                                   | 84/490 [00:13<01:06,  6.14it/s]"
     ]
    },
    {
     "name": "stderr",
     "output_type": "stream",
     "text": [
      "\r",
      " 17%|██████████▊                                                   | 85/490 [00:14<01:06,  6.07it/s]"
     ]
    },
    {
     "name": "stderr",
     "output_type": "stream",
     "text": [
      "\r",
      " 18%|██████████▉                                                   | 86/490 [00:14<01:06,  6.06it/s]"
     ]
    },
    {
     "name": "stderr",
     "output_type": "stream",
     "text": [
      "\r",
      " 18%|███████████                                                   | 87/490 [00:14<01:06,  6.10it/s]"
     ]
    },
    {
     "name": "stderr",
     "output_type": "stream",
     "text": [
      "\r",
      " 18%|███████████▏                                                  | 88/490 [00:14<01:05,  6.12it/s]"
     ]
    },
    {
     "name": "stderr",
     "output_type": "stream",
     "text": [
      "\r",
      " 18%|███████████▎                                                  | 89/490 [00:14<01:05,  6.14it/s]"
     ]
    },
    {
     "name": "stderr",
     "output_type": "stream",
     "text": [
      "\r",
      " 18%|███████████▍                                                  | 90/490 [00:14<01:04,  6.16it/s]"
     ]
    },
    {
     "name": "stderr",
     "output_type": "stream",
     "text": [
      "\r",
      " 19%|███████████▌                                                  | 91/490 [00:15<01:04,  6.14it/s]"
     ]
    },
    {
     "name": "stderr",
     "output_type": "stream",
     "text": [
      "\r",
      " 19%|███████████▋                                                  | 92/490 [00:15<01:05,  6.09it/s]"
     ]
    },
    {
     "name": "stderr",
     "output_type": "stream",
     "text": [
      "\r",
      " 19%|███████████▊                                                  | 93/490 [00:15<01:04,  6.13it/s]"
     ]
    },
    {
     "name": "stderr",
     "output_type": "stream",
     "text": [
      "\r",
      " 19%|███████████▉                                                  | 94/490 [00:15<01:04,  6.13it/s]"
     ]
    },
    {
     "name": "stderr",
     "output_type": "stream",
     "text": [
      "\r",
      " 19%|████████████                                                  | 95/490 [00:15<01:04,  6.16it/s]"
     ]
    },
    {
     "name": "stderr",
     "output_type": "stream",
     "text": [
      "\r",
      " 20%|████████████▏                                                 | 96/490 [00:15<01:03,  6.16it/s]"
     ]
    },
    {
     "name": "stderr",
     "output_type": "stream",
     "text": [
      "\r",
      " 20%|████████████▎                                                 | 97/490 [00:16<01:03,  6.15it/s]"
     ]
    },
    {
     "name": "stderr",
     "output_type": "stream",
     "text": [
      "\r",
      " 20%|████████████▍                                                 | 98/490 [00:16<01:04,  6.06it/s]"
     ]
    },
    {
     "name": "stderr",
     "output_type": "stream",
     "text": [
      "\r",
      " 20%|████████████▌                                                 | 99/490 [00:16<01:04,  6.10it/s]"
     ]
    },
    {
     "name": "stderr",
     "output_type": "stream",
     "text": [
      "\r",
      " 20%|████████████▍                                                | 100/490 [00:16<01:03,  6.12it/s]"
     ]
    },
    {
     "name": "stderr",
     "output_type": "stream",
     "text": [
      "\r",
      " 21%|████████████▌                                                | 101/490 [00:16<01:03,  6.14it/s]"
     ]
    },
    {
     "name": "stderr",
     "output_type": "stream",
     "text": [
      "\r",
      " 21%|████████████▋                                                | 102/490 [00:16<01:02,  6.17it/s]"
     ]
    },
    {
     "name": "stderr",
     "output_type": "stream",
     "text": [
      "\r",
      " 21%|████████████▊                                                | 103/490 [00:16<01:02,  6.15it/s]"
     ]
    },
    {
     "name": "stderr",
     "output_type": "stream",
     "text": [
      "\r",
      " 21%|████████████▉                                                | 104/490 [00:17<01:03,  6.06it/s]"
     ]
    },
    {
     "name": "stderr",
     "output_type": "stream",
     "text": [
      "\r",
      " 21%|█████████████                                                | 105/490 [00:17<01:03,  6.09it/s]"
     ]
    },
    {
     "name": "stderr",
     "output_type": "stream",
     "text": [
      "\r",
      " 22%|█████████████▏                                               | 106/490 [00:17<01:02,  6.12it/s]"
     ]
    },
    {
     "name": "stderr",
     "output_type": "stream",
     "text": [
      "\r",
      " 22%|█████████████▎                                               | 107/490 [00:17<01:02,  6.13it/s]"
     ]
    },
    {
     "name": "stderr",
     "output_type": "stream",
     "text": [
      "\r",
      " 22%|█████████████▍                                               | 108/490 [00:17<01:02,  6.13it/s]"
     ]
    },
    {
     "name": "stderr",
     "output_type": "stream",
     "text": [
      "\r",
      " 22%|█████████████▌                                               | 109/490 [00:17<01:01,  6.15it/s]"
     ]
    },
    {
     "name": "stderr",
     "output_type": "stream",
     "text": [
      "\r",
      " 22%|█████████████▋                                               | 110/490 [00:18<01:02,  6.06it/s]"
     ]
    },
    {
     "name": "stderr",
     "output_type": "stream",
     "text": [
      "\r",
      " 23%|█████████████▊                                               | 111/490 [00:18<01:02,  6.08it/s]"
     ]
    },
    {
     "name": "stderr",
     "output_type": "stream",
     "text": [
      "\r",
      " 23%|█████████████▉                                               | 112/490 [00:18<01:01,  6.11it/s]"
     ]
    },
    {
     "name": "stderr",
     "output_type": "stream",
     "text": [
      "\r",
      " 23%|██████████████                                               | 113/490 [00:18<01:01,  6.12it/s]"
     ]
    },
    {
     "name": "stderr",
     "output_type": "stream",
     "text": [
      "\r",
      " 23%|██████████████▏                                              | 114/490 [00:18<01:01,  6.14it/s]"
     ]
    },
    {
     "name": "stderr",
     "output_type": "stream",
     "text": [
      "\r",
      " 23%|██████████████▎                                              | 115/490 [00:18<01:00,  6.17it/s]"
     ]
    },
    {
     "name": "stderr",
     "output_type": "stream",
     "text": [
      "\r",
      " 24%|██████████████▍                                              | 116/490 [00:19<01:01,  6.10it/s]"
     ]
    },
    {
     "name": "stderr",
     "output_type": "stream",
     "text": [
      "\r",
      " 24%|██████████████▌                                              | 117/490 [00:19<01:01,  6.10it/s]"
     ]
    },
    {
     "name": "stderr",
     "output_type": "stream",
     "text": [
      "\r",
      " 24%|██████████████▋                                              | 118/490 [00:19<01:00,  6.13it/s]"
     ]
    },
    {
     "name": "stderr",
     "output_type": "stream",
     "text": [
      "\r",
      " 24%|██████████████▊                                              | 119/490 [00:19<01:00,  6.14it/s]"
     ]
    },
    {
     "name": "stderr",
     "output_type": "stream",
     "text": [
      "\r",
      " 24%|██████████████▉                                              | 120/490 [00:19<01:00,  6.14it/s]"
     ]
    },
    {
     "name": "stderr",
     "output_type": "stream",
     "text": [
      "\r",
      " 25%|███████████████                                              | 121/490 [00:19<00:59,  6.16it/s]"
     ]
    },
    {
     "name": "stderr",
     "output_type": "stream",
     "text": [
      "\r",
      " 25%|███████████████▏                                             | 122/490 [00:20<01:00,  6.09it/s]"
     ]
    },
    {
     "name": "stderr",
     "output_type": "stream",
     "text": [
      "\r",
      " 25%|███████████████▎                                             | 123/490 [00:20<01:00,  6.09it/s]"
     ]
    },
    {
     "name": "stderr",
     "output_type": "stream",
     "text": [
      "\r",
      " 25%|███████████████▍                                             | 124/490 [00:20<00:59,  6.12it/s]"
     ]
    },
    {
     "name": "stderr",
     "output_type": "stream",
     "text": [
      "\r",
      " 26%|███████████████▌                                             | 125/490 [00:20<00:59,  6.15it/s]"
     ]
    },
    {
     "name": "stderr",
     "output_type": "stream",
     "text": [
      "\r",
      " 26%|███████████████▋                                             | 126/490 [00:20<00:59,  6.16it/s]"
     ]
    },
    {
     "name": "stderr",
     "output_type": "stream",
     "text": [
      "\r",
      " 26%|███████████████▊                                             | 127/490 [00:20<00:58,  6.17it/s]"
     ]
    },
    {
     "name": "stderr",
     "output_type": "stream",
     "text": [
      "\r",
      " 26%|███████████████▉                                             | 128/490 [00:21<00:58,  6.14it/s]"
     ]
    },
    {
     "name": "stderr",
     "output_type": "stream",
     "text": [
      "\r",
      " 26%|████████████████                                             | 129/490 [00:21<00:59,  6.08it/s]"
     ]
    },
    {
     "name": "stderr",
     "output_type": "stream",
     "text": [
      "\r",
      " 27%|████████████████▏                                            | 130/490 [00:21<00:59,  6.06it/s]"
     ]
    },
    {
     "name": "stderr",
     "output_type": "stream",
     "text": [
      "\r",
      " 27%|████████████████▎                                            | 131/490 [00:21<00:58,  6.09it/s]"
     ]
    },
    {
     "name": "stderr",
     "output_type": "stream",
     "text": [
      "\r",
      " 27%|████████████████▍                                            | 132/490 [00:21<00:58,  6.11it/s]"
     ]
    },
    {
     "name": "stderr",
     "output_type": "stream",
     "text": [
      "\r",
      " 27%|████████████████▌                                            | 133/490 [00:21<01:02,  5.68it/s]"
     ]
    },
    {
     "name": "stderr",
     "output_type": "stream",
     "text": [
      "\r",
      " 27%|████████████████▋                                            | 134/490 [00:22<01:02,  5.72it/s]"
     ]
    },
    {
     "name": "stderr",
     "output_type": "stream",
     "text": [
      "\r",
      " 28%|████████████████▊                                            | 135/490 [00:22<01:01,  5.80it/s]"
     ]
    },
    {
     "name": "stderr",
     "output_type": "stream",
     "text": [
      "\r",
      " 28%|████████████████▉                                            | 136/490 [00:22<01:00,  5.84it/s]"
     ]
    },
    {
     "name": "stderr",
     "output_type": "stream",
     "text": [
      "\r",
      " 28%|█████████████████                                            | 137/490 [00:22<00:59,  5.89it/s]"
     ]
    },
    {
     "name": "stderr",
     "output_type": "stream",
     "text": [
      "\r",
      " 28%|█████████████████▏                                           | 138/490 [00:22<00:59,  5.93it/s]"
     ]
    },
    {
     "name": "stderr",
     "output_type": "stream",
     "text": [
      "\r",
      " 28%|█████████████████▎                                           | 139/490 [00:22<00:58,  5.98it/s]"
     ]
    },
    {
     "name": "stderr",
     "output_type": "stream",
     "text": [
      "\r",
      " 29%|█████████████████▍                                           | 140/490 [00:23<00:58,  5.95it/s]"
     ]
    },
    {
     "name": "stderr",
     "output_type": "stream",
     "text": [
      "\r",
      " 29%|█████████████████▌                                           | 141/490 [00:23<00:58,  5.97it/s]"
     ]
    },
    {
     "name": "stderr",
     "output_type": "stream",
     "text": [
      "\r",
      " 29%|█████████████████▋                                           | 142/490 [00:23<00:57,  6.02it/s]"
     ]
    },
    {
     "name": "stderr",
     "output_type": "stream",
     "text": [
      "\r",
      " 29%|█████████████████▊                                           | 143/490 [00:23<00:57,  6.07it/s]"
     ]
    },
    {
     "name": "stderr",
     "output_type": "stream",
     "text": [
      "\r",
      " 29%|█████████████████▉                                           | 144/490 [00:23<00:56,  6.07it/s]"
     ]
    },
    {
     "name": "stderr",
     "output_type": "stream",
     "text": [
      "\r",
      " 30%|██████████████████                                           | 145/490 [00:23<00:56,  6.07it/s]"
     ]
    },
    {
     "name": "stderr",
     "output_type": "stream",
     "text": [
      "\r",
      " 30%|██████████████████▏                                          | 146/490 [00:24<00:56,  6.06it/s]"
     ]
    },
    {
     "name": "stderr",
     "output_type": "stream",
     "text": [
      "\r",
      " 30%|██████████████████▎                                          | 147/490 [00:24<00:57,  6.01it/s]"
     ]
    },
    {
     "name": "stderr",
     "output_type": "stream",
     "text": [
      "\r",
      " 30%|██████████████████▍                                          | 148/490 [00:24<00:56,  6.07it/s]"
     ]
    },
    {
     "name": "stderr",
     "output_type": "stream",
     "text": [
      "\r",
      " 30%|██████████████████▌                                          | 149/490 [00:24<00:55,  6.10it/s]"
     ]
    },
    {
     "name": "stderr",
     "output_type": "stream",
     "text": [
      "\r",
      " 31%|██████████████████▋                                          | 150/490 [00:24<00:55,  6.13it/s]"
     ]
    },
    {
     "name": "stderr",
     "output_type": "stream",
     "text": [
      "\r",
      " 31%|██████████████████▊                                          | 151/490 [00:24<00:55,  6.15it/s]"
     ]
    },
    {
     "name": "stderr",
     "output_type": "stream",
     "text": [
      "\r",
      " 31%|██████████████████▉                                          | 152/490 [00:25<00:55,  6.13it/s]"
     ]
    },
    {
     "name": "stderr",
     "output_type": "stream",
     "text": [
      "\r",
      " 31%|███████████████████                                          | 153/490 [00:25<00:55,  6.06it/s]"
     ]
    },
    {
     "name": "stderr",
     "output_type": "stream",
     "text": [
      "\r",
      " 31%|███████████████████▏                                         | 154/490 [00:25<00:55,  6.09it/s]"
     ]
    },
    {
     "name": "stderr",
     "output_type": "stream",
     "text": [
      "\r",
      " 32%|███████████████████▎                                         | 155/490 [00:25<00:54,  6.13it/s]"
     ]
    },
    {
     "name": "stderr",
     "output_type": "stream",
     "text": [
      "\r",
      " 32%|███████████████████▍                                         | 156/490 [00:25<00:54,  6.13it/s]"
     ]
    },
    {
     "name": "stderr",
     "output_type": "stream",
     "text": [
      "\r",
      " 32%|███████████████████▌                                         | 157/490 [00:25<00:54,  6.13it/s]"
     ]
    },
    {
     "name": "stderr",
     "output_type": "stream",
     "text": [
      "\r",
      " 32%|███████████████████▋                                         | 158/490 [00:26<00:54,  6.12it/s]"
     ]
    },
    {
     "name": "stderr",
     "output_type": "stream",
     "text": [
      "\r",
      " 32%|███████████████████▊                                         | 159/490 [00:26<00:55,  6.01it/s]"
     ]
    },
    {
     "name": "stderr",
     "output_type": "stream",
     "text": [
      "\r",
      " 33%|███████████████████▉                                         | 160/490 [00:26<00:54,  6.05it/s]"
     ]
    },
    {
     "name": "stderr",
     "output_type": "stream",
     "text": [
      "\r",
      " 33%|████████████████████                                         | 161/490 [00:26<00:54,  6.08it/s]"
     ]
    },
    {
     "name": "stderr",
     "output_type": "stream",
     "text": [
      "\r",
      " 33%|████████████████████▏                                        | 162/490 [00:26<00:53,  6.10it/s]"
     ]
    },
    {
     "name": "stderr",
     "output_type": "stream",
     "text": [
      "\r",
      " 33%|████████████████████▎                                        | 163/490 [00:26<00:53,  6.10it/s]"
     ]
    },
    {
     "name": "stderr",
     "output_type": "stream",
     "text": [
      "\r",
      " 33%|████████████████████▍                                        | 164/490 [00:27<00:53,  6.10it/s]"
     ]
    },
    {
     "name": "stderr",
     "output_type": "stream",
     "text": [
      "\r",
      " 34%|████████████████████▌                                        | 165/490 [00:27<00:53,  6.02it/s]"
     ]
    },
    {
     "name": "stderr",
     "output_type": "stream",
     "text": [
      "\r",
      " 34%|████████████████████▋                                        | 166/490 [00:27<00:53,  6.05it/s]"
     ]
    },
    {
     "name": "stderr",
     "output_type": "stream",
     "text": [
      "\r",
      " 34%|████████████████████▊                                        | 167/490 [00:27<00:53,  6.06it/s]"
     ]
    },
    {
     "name": "stderr",
     "output_type": "stream",
     "text": [
      "\r",
      " 34%|████████████████████▉                                        | 168/490 [00:27<00:52,  6.09it/s]"
     ]
    },
    {
     "name": "stderr",
     "output_type": "stream",
     "text": [
      "\r",
      " 34%|█████████████████████                                        | 169/490 [00:27<00:52,  6.10it/s]"
     ]
    },
    {
     "name": "stderr",
     "output_type": "stream",
     "text": [
      "\r",
      " 35%|█████████████████████▏                                       | 170/490 [00:28<00:52,  6.11it/s]"
     ]
    },
    {
     "name": "stderr",
     "output_type": "stream",
     "text": [
      "\r",
      " 35%|█████████████████████▎                                       | 171/490 [00:28<00:52,  6.04it/s]"
     ]
    },
    {
     "name": "stderr",
     "output_type": "stream",
     "text": [
      "\r",
      " 35%|█████████████████████▍                                       | 172/490 [00:28<00:52,  6.02it/s]"
     ]
    },
    {
     "name": "stderr",
     "output_type": "stream",
     "text": [
      "\r",
      " 35%|█████████████████████▌                                       | 173/490 [00:28<00:52,  6.07it/s]"
     ]
    },
    {
     "name": "stderr",
     "output_type": "stream",
     "text": [
      "\r",
      " 36%|█████████████████████▋                                       | 174/490 [00:28<00:51,  6.08it/s]"
     ]
    },
    {
     "name": "stderr",
     "output_type": "stream",
     "text": [
      "\r",
      " 36%|█████████████████████▊                                       | 175/490 [00:28<00:51,  6.11it/s]"
     ]
    },
    {
     "name": "stderr",
     "output_type": "stream",
     "text": [
      "\r",
      " 36%|█████████████████████▉                                       | 176/490 [00:29<00:51,  6.10it/s]"
     ]
    },
    {
     "name": "stderr",
     "output_type": "stream",
     "text": [
      "\r",
      " 36%|██████████████████████                                       | 177/490 [00:29<00:52,  6.00it/s]"
     ]
    },
    {
     "name": "stderr",
     "output_type": "stream",
     "text": [
      "\r",
      " 36%|██████████████████████▏                                      | 178/490 [00:29<00:51,  6.01it/s]"
     ]
    },
    {
     "name": "stderr",
     "output_type": "stream",
     "text": [
      "\r",
      " 37%|██████████████████████▎                                      | 179/490 [00:29<00:51,  6.05it/s]"
     ]
    },
    {
     "name": "stderr",
     "output_type": "stream",
     "text": [
      "\r",
      " 37%|██████████████████████▍                                      | 180/490 [00:29<00:51,  6.07it/s]"
     ]
    },
    {
     "name": "stderr",
     "output_type": "stream",
     "text": [
      "\r",
      " 37%|██████████████████████▌                                      | 181/490 [00:29<00:50,  6.07it/s]"
     ]
    },
    {
     "name": "stderr",
     "output_type": "stream",
     "text": [
      "\r",
      " 37%|██████████████████████▋                                      | 182/490 [00:30<00:50,  6.06it/s]"
     ]
    },
    {
     "name": "stderr",
     "output_type": "stream",
     "text": [
      "\r",
      " 37%|██████████████████████▊                                      | 183/490 [00:30<00:51,  5.97it/s]"
     ]
    },
    {
     "name": "stderr",
     "output_type": "stream",
     "text": [
      "\r",
      " 38%|██████████████████████▉                                      | 184/490 [00:30<00:50,  6.01it/s]"
     ]
    },
    {
     "name": "stderr",
     "output_type": "stream",
     "text": [
      "\r",
      " 38%|███████████████████████                                      | 185/490 [00:30<00:50,  6.06it/s]"
     ]
    },
    {
     "name": "stderr",
     "output_type": "stream",
     "text": [
      "\r",
      " 38%|███████████████████████▏                                     | 186/490 [00:30<00:49,  6.10it/s]"
     ]
    },
    {
     "name": "stderr",
     "output_type": "stream",
     "text": [
      "\r",
      " 38%|███████████████████████▎                                     | 187/490 [00:30<00:49,  6.13it/s]"
     ]
    },
    {
     "name": "stderr",
     "output_type": "stream",
     "text": [
      "\r",
      " 38%|███████████████████████▍                                     | 188/490 [00:31<00:49,  6.13it/s]"
     ]
    },
    {
     "name": "stderr",
     "output_type": "stream",
     "text": [
      "\r",
      " 39%|███████████████████████▌                                     | 189/490 [00:31<00:49,  6.06it/s]"
     ]
    },
    {
     "name": "stderr",
     "output_type": "stream",
     "text": [
      "\r",
      " 39%|███████████████████████▋                                     | 190/490 [00:31<00:49,  6.03it/s]"
     ]
    },
    {
     "name": "stderr",
     "output_type": "stream",
     "text": [
      "\r",
      " 39%|███████████████████████▊                                     | 191/490 [00:31<00:49,  6.07it/s]"
     ]
    },
    {
     "name": "stderr",
     "output_type": "stream",
     "text": [
      "\r",
      " 39%|███████████████████████▉                                     | 192/490 [00:31<00:48,  6.09it/s]"
     ]
    },
    {
     "name": "stderr",
     "output_type": "stream",
     "text": [
      "\r",
      " 39%|████████████████████████                                     | 193/490 [00:31<00:48,  6.07it/s]"
     ]
    },
    {
     "name": "stderr",
     "output_type": "stream",
     "text": [
      "\r",
      " 40%|████████████████████████▏                                    | 194/490 [00:31<00:48,  6.09it/s]"
     ]
    },
    {
     "name": "stderr",
     "output_type": "stream",
     "text": [
      "\r",
      " 40%|████████████████████████▎                                    | 195/490 [00:32<00:49,  6.00it/s]"
     ]
    },
    {
     "name": "stderr",
     "output_type": "stream",
     "text": [
      "\r",
      " 40%|████████████████████████▍                                    | 196/490 [00:32<00:48,  6.01it/s]"
     ]
    },
    {
     "name": "stderr",
     "output_type": "stream",
     "text": [
      "\r",
      " 40%|████████████████████████▌                                    | 197/490 [00:32<00:48,  6.05it/s]"
     ]
    },
    {
     "name": "stderr",
     "output_type": "stream",
     "text": [
      "\r",
      " 40%|████████████████████████▋                                    | 198/490 [00:32<00:48,  6.08it/s]"
     ]
    },
    {
     "name": "stderr",
     "output_type": "stream",
     "text": [
      "\r",
      " 41%|████████████████████████▊                                    | 199/490 [00:32<00:47,  6.08it/s]"
     ]
    },
    {
     "name": "stderr",
     "output_type": "stream",
     "text": [
      "\r",
      " 41%|████████████████████████▉                                    | 200/490 [00:32<00:47,  6.08it/s]"
     ]
    },
    {
     "name": "stderr",
     "output_type": "stream",
     "text": [
      "\r",
      " 41%|█████████████████████████                                    | 201/490 [00:33<00:47,  6.05it/s]"
     ]
    },
    {
     "name": "stderr",
     "output_type": "stream",
     "text": [
      "\r",
      " 41%|█████████████████████████▏                                   | 202/490 [00:33<00:47,  6.01it/s]"
     ]
    },
    {
     "name": "stderr",
     "output_type": "stream",
     "text": [
      "\r",
      " 41%|█████████████████████████▎                                   | 203/490 [00:33<00:47,  6.04it/s]"
     ]
    },
    {
     "name": "stderr",
     "output_type": "stream",
     "text": [
      "\r",
      " 42%|█████████████████████████▍                                   | 204/490 [00:33<00:47,  6.05it/s]"
     ]
    },
    {
     "name": "stderr",
     "output_type": "stream",
     "text": [
      "\r",
      " 42%|█████████████████████████▌                                   | 205/490 [00:33<00:47,  6.05it/s]"
     ]
    },
    {
     "name": "stderr",
     "output_type": "stream",
     "text": [
      "\r",
      " 42%|█████████████████████████▋                                   | 206/490 [00:33<00:46,  6.09it/s]"
     ]
    },
    {
     "name": "stderr",
     "output_type": "stream",
     "text": [
      "\r",
      " 42%|█████████████████████████▊                                   | 207/490 [00:34<00:46,  6.04it/s]"
     ]
    },
    {
     "name": "stderr",
     "output_type": "stream",
     "text": [
      "\r",
      " 42%|█████████████████████████▉                                   | 208/490 [00:34<00:47,  6.00it/s]"
     ]
    },
    {
     "name": "stderr",
     "output_type": "stream",
     "text": [
      "\r",
      " 43%|██████████████████████████                                   | 209/490 [00:34<00:46,  6.02it/s]"
     ]
    },
    {
     "name": "stderr",
     "output_type": "stream",
     "text": [
      "\r",
      " 43%|██████████████████████████▏                                  | 210/490 [00:34<00:46,  6.06it/s]"
     ]
    },
    {
     "name": "stderr",
     "output_type": "stream",
     "text": [
      "\r",
      " 43%|██████████████████████████▎                                  | 211/490 [00:34<00:45,  6.08it/s]"
     ]
    },
    {
     "name": "stderr",
     "output_type": "stream",
     "text": [
      "\r",
      " 43%|██████████████████████████▍                                  | 212/490 [00:34<00:45,  6.10it/s]"
     ]
    },
    {
     "name": "stderr",
     "output_type": "stream",
     "text": [
      "\r",
      " 43%|██████████████████████████▌                                  | 213/490 [00:35<00:45,  6.06it/s]"
     ]
    },
    {
     "name": "stderr",
     "output_type": "stream",
     "text": [
      "\r",
      " 44%|██████████████████████████▋                                  | 214/490 [00:35<00:45,  6.02it/s]"
     ]
    },
    {
     "name": "stderr",
     "output_type": "stream",
     "text": [
      "\r",
      " 44%|██████████████████████████▊                                  | 215/490 [00:35<00:45,  6.04it/s]"
     ]
    },
    {
     "name": "stderr",
     "output_type": "stream",
     "text": [
      "\r",
      " 44%|██████████████████████████▉                                  | 216/490 [00:35<00:45,  6.07it/s]"
     ]
    },
    {
     "name": "stderr",
     "output_type": "stream",
     "text": [
      "\r",
      " 44%|███████████████████████████                                  | 217/490 [00:35<00:44,  6.08it/s]"
     ]
    },
    {
     "name": "stderr",
     "output_type": "stream",
     "text": [
      "\r",
      " 44%|███████████████████████████▏                                 | 218/490 [00:35<00:44,  6.10it/s]"
     ]
    },
    {
     "name": "stderr",
     "output_type": "stream",
     "text": [
      "\r",
      " 45%|███████████████████████████▎                                 | 219/490 [00:36<00:44,  6.05it/s]"
     ]
    },
    {
     "name": "stderr",
     "output_type": "stream",
     "text": [
      "\r",
      " 45%|███████████████████████████▍                                 | 220/490 [00:36<00:44,  6.02it/s]"
     ]
    },
    {
     "name": "stderr",
     "output_type": "stream",
     "text": [
      "\r",
      " 45%|███████████████████████████▌                                 | 221/490 [00:36<00:44,  6.06it/s]"
     ]
    },
    {
     "name": "stderr",
     "output_type": "stream",
     "text": [
      "\r",
      " 45%|███████████████████████████▋                                 | 222/490 [00:36<00:44,  6.08it/s]"
     ]
    },
    {
     "name": "stderr",
     "output_type": "stream",
     "text": [
      "\r",
      " 46%|███████████████████████████▊                                 | 223/490 [00:36<00:43,  6.11it/s]"
     ]
    },
    {
     "name": "stderr",
     "output_type": "stream",
     "text": [
      "\r",
      " 46%|███████████████████████████▉                                 | 224/490 [00:36<00:43,  6.14it/s]"
     ]
    },
    {
     "name": "stderr",
     "output_type": "stream",
     "text": [
      "\r",
      " 46%|████████████████████████████                                 | 225/490 [00:37<00:43,  6.13it/s]"
     ]
    },
    {
     "name": "stderr",
     "output_type": "stream",
     "text": [
      "\r",
      " 46%|████████████████████████████▏                                | 226/490 [00:37<00:43,  6.06it/s]"
     ]
    },
    {
     "name": "stderr",
     "output_type": "stream",
     "text": [
      "\r",
      " 46%|████████████████████████████▎                                | 227/490 [00:37<00:43,  6.08it/s]"
     ]
    },
    {
     "name": "stderr",
     "output_type": "stream",
     "text": [
      "\r",
      " 47%|████████████████████████████▍                                | 228/490 [00:37<00:42,  6.09it/s]"
     ]
    },
    {
     "name": "stderr",
     "output_type": "stream",
     "text": [
      "\r",
      " 47%|████████████████████████████▌                                | 229/490 [00:37<00:42,  6.10it/s]"
     ]
    },
    {
     "name": "stderr",
     "output_type": "stream",
     "text": [
      "\r",
      " 47%|████████████████████████████▋                                | 230/490 [00:37<00:42,  6.12it/s]"
     ]
    },
    {
     "name": "stderr",
     "output_type": "stream",
     "text": [
      "\r",
      " 47%|████████████████████████████▊                                | 231/490 [00:38<00:42,  6.13it/s]"
     ]
    },
    {
     "name": "stderr",
     "output_type": "stream",
     "text": [
      "\r",
      " 47%|████████████████████████████▉                                | 232/490 [00:38<00:42,  6.03it/s]"
     ]
    },
    {
     "name": "stderr",
     "output_type": "stream",
     "text": [
      "\r",
      " 48%|█████████████████████████████                                | 233/490 [00:38<00:42,  6.05it/s]"
     ]
    },
    {
     "name": "stderr",
     "output_type": "stream",
     "text": [
      "\r",
      " 48%|█████████████████████████████▏                               | 234/490 [00:38<00:42,  6.08it/s]"
     ]
    },
    {
     "name": "stderr",
     "output_type": "stream",
     "text": [
      "\r",
      " 48%|█████████████████████████████▎                               | 235/490 [00:38<00:41,  6.11it/s]"
     ]
    },
    {
     "name": "stderr",
     "output_type": "stream",
     "text": [
      "\r",
      " 48%|█████████████████████████████▍                               | 236/490 [00:38<00:41,  6.13it/s]"
     ]
    },
    {
     "name": "stderr",
     "output_type": "stream",
     "text": [
      "\r",
      " 48%|█████████████████████████████▌                               | 237/490 [00:39<00:41,  6.14it/s]"
     ]
    },
    {
     "name": "stderr",
     "output_type": "stream",
     "text": [
      "\r",
      " 49%|█████████████████████████████▋                               | 238/490 [00:39<00:41,  6.06it/s]"
     ]
    },
    {
     "name": "stderr",
     "output_type": "stream",
     "text": [
      "\r",
      " 49%|█████████████████████████████▊                               | 239/490 [00:39<00:41,  6.06it/s]"
     ]
    },
    {
     "name": "stderr",
     "output_type": "stream",
     "text": [
      "\r",
      " 49%|█████████████████████████████▉                               | 240/490 [00:39<00:41,  6.09it/s]"
     ]
    },
    {
     "name": "stderr",
     "output_type": "stream",
     "text": [
      "\r",
      " 49%|██████████████████████████████                               | 241/490 [00:39<00:40,  6.09it/s]"
     ]
    },
    {
     "name": "stderr",
     "output_type": "stream",
     "text": [
      "\r",
      " 49%|██████████████████████████████▏                              | 242/490 [00:39<00:40,  6.11it/s]"
     ]
    },
    {
     "name": "stderr",
     "output_type": "stream",
     "text": [
      "\r",
      " 50%|██████████████████████████████▎                              | 243/490 [00:40<00:40,  6.11it/s]"
     ]
    },
    {
     "name": "stderr",
     "output_type": "stream",
     "text": [
      "\r",
      " 50%|██████████████████████████████▍                              | 244/490 [00:40<00:40,  6.03it/s]"
     ]
    },
    {
     "name": "stderr",
     "output_type": "stream",
     "text": [
      "\r",
      " 50%|██████████████████████████████▌                              | 245/490 [00:40<00:40,  6.03it/s]"
     ]
    },
    {
     "name": "stderr",
     "output_type": "stream",
     "text": [
      "\r",
      " 50%|██████████████████████████████▌                              | 246/490 [00:40<00:40,  6.07it/s]"
     ]
    },
    {
     "name": "stderr",
     "output_type": "stream",
     "text": [
      "\r",
      " 50%|██████████████████████████████▋                              | 247/490 [00:40<00:39,  6.11it/s]"
     ]
    },
    {
     "name": "stderr",
     "output_type": "stream",
     "text": [
      "\r",
      " 51%|██████████████████████████████▊                              | 248/490 [00:40<00:39,  6.10it/s]"
     ]
    },
    {
     "name": "stderr",
     "output_type": "stream",
     "text": [
      "\r",
      " 51%|██████████████████████████████▉                              | 249/490 [00:41<00:39,  6.10it/s]"
     ]
    },
    {
     "name": "stderr",
     "output_type": "stream",
     "text": [
      "\r",
      " 51%|███████████████████████████████                              | 250/490 [00:41<00:39,  6.04it/s]"
     ]
    },
    {
     "name": "stderr",
     "output_type": "stream",
     "text": [
      "\r",
      " 51%|███████████████████████████████▏                             | 251/490 [00:41<00:39,  6.06it/s]"
     ]
    },
    {
     "name": "stderr",
     "output_type": "stream",
     "text": [
      "\r",
      " 51%|███████████████████████████████▎                             | 252/490 [00:41<00:39,  6.07it/s]"
     ]
    },
    {
     "name": "stderr",
     "output_type": "stream",
     "text": [
      "\r",
      " 52%|███████████████████████████████▍                             | 253/490 [00:41<00:38,  6.09it/s]"
     ]
    },
    {
     "name": "stderr",
     "output_type": "stream",
     "text": [
      "\r",
      " 52%|███████████████████████████████▌                             | 254/490 [00:41<00:38,  6.09it/s]"
     ]
    },
    {
     "name": "stderr",
     "output_type": "stream",
     "text": [
      "\r",
      " 52%|███████████████████████████████▋                             | 255/490 [00:42<00:38,  6.10it/s]"
     ]
    },
    {
     "name": "stderr",
     "output_type": "stream",
     "text": [
      "\r",
      " 52%|███████████████████████████████▊                             | 256/490 [00:42<00:38,  6.06it/s]"
     ]
    },
    {
     "name": "stderr",
     "output_type": "stream",
     "text": [
      "\r",
      " 52%|███████████████████████████████▉                             | 257/490 [00:42<00:38,  6.06it/s]"
     ]
    },
    {
     "name": "stderr",
     "output_type": "stream",
     "text": [
      "\r",
      " 53%|████████████████████████████████                             | 258/490 [00:42<00:38,  6.09it/s]"
     ]
    },
    {
     "name": "stderr",
     "output_type": "stream",
     "text": [
      "\r",
      " 53%|████████████████████████████████▏                            | 259/490 [00:42<00:37,  6.11it/s]"
     ]
    },
    {
     "name": "stderr",
     "output_type": "stream",
     "text": [
      "\r",
      " 53%|████████████████████████████████▎                            | 260/490 [00:42<00:37,  6.12it/s]"
     ]
    },
    {
     "name": "stderr",
     "output_type": "stream",
     "text": [
      "\r",
      " 53%|████████████████████████████████▍                            | 261/490 [00:43<00:37,  6.13it/s]"
     ]
    },
    {
     "name": "stderr",
     "output_type": "stream",
     "text": [
      "\r",
      " 53%|████████████████████████████████▌                            | 262/490 [00:43<00:37,  6.08it/s]"
     ]
    },
    {
     "name": "stderr",
     "output_type": "stream",
     "text": [
      "\r",
      " 54%|████████████████████████████████▋                            | 263/490 [00:43<00:37,  6.04it/s]"
     ]
    },
    {
     "name": "stderr",
     "output_type": "stream",
     "text": [
      "\r",
      " 54%|████████████████████████████████▊                            | 264/490 [00:43<00:37,  6.07it/s]"
     ]
    },
    {
     "name": "stderr",
     "output_type": "stream",
     "text": [
      "\r",
      " 54%|████████████████████████████████▉                            | 265/490 [00:43<00:36,  6.09it/s]"
     ]
    },
    {
     "name": "stderr",
     "output_type": "stream",
     "text": [
      "\r",
      " 54%|█████████████████████████████████                            | 266/490 [00:43<00:36,  6.09it/s]"
     ]
    },
    {
     "name": "stderr",
     "output_type": "stream",
     "text": [
      "\r",
      " 54%|█████████████████████████████████▏                           | 267/490 [00:44<00:36,  6.11it/s]"
     ]
    },
    {
     "name": "stderr",
     "output_type": "stream",
     "text": [
      "\r",
      " 55%|█████████████████████████████████▎                           | 268/490 [00:44<00:36,  6.05it/s]"
     ]
    },
    {
     "name": "stderr",
     "output_type": "stream",
     "text": [
      "\r",
      " 55%|█████████████████████████████████▍                           | 269/490 [00:44<00:36,  6.02it/s]"
     ]
    },
    {
     "name": "stderr",
     "output_type": "stream",
     "text": [
      "\r",
      " 55%|█████████████████████████████████▌                           | 270/490 [00:44<00:36,  6.06it/s]"
     ]
    },
    {
     "name": "stderr",
     "output_type": "stream",
     "text": [
      "\r",
      " 55%|█████████████████████████████████▋                           | 271/490 [00:44<00:35,  6.09it/s]"
     ]
    },
    {
     "name": "stderr",
     "output_type": "stream",
     "text": [
      "\r",
      " 56%|█████████████████████████████████▊                           | 272/490 [00:44<00:35,  6.09it/s]"
     ]
    },
    {
     "name": "stderr",
     "output_type": "stream",
     "text": [
      "\r",
      " 56%|█████████████████████████████████▉                           | 273/490 [00:44<00:35,  6.12it/s]"
     ]
    },
    {
     "name": "stderr",
     "output_type": "stream",
     "text": [
      "\r",
      " 56%|██████████████████████████████████                           | 274/490 [00:45<00:35,  6.08it/s]"
     ]
    },
    {
     "name": "stderr",
     "output_type": "stream",
     "text": [
      "\r",
      " 56%|██████████████████████████████████▏                          | 275/490 [00:45<00:35,  6.06it/s]"
     ]
    },
    {
     "name": "stderr",
     "output_type": "stream",
     "text": [
      "\r",
      " 56%|██████████████████████████████████▎                          | 276/490 [00:45<00:35,  6.10it/s]"
     ]
    },
    {
     "name": "stderr",
     "output_type": "stream",
     "text": [
      "\r",
      " 57%|██████████████████████████████████▍                          | 277/490 [00:45<00:34,  6.12it/s]"
     ]
    },
    {
     "name": "stderr",
     "output_type": "stream",
     "text": [
      "\r",
      " 57%|██████████████████████████████████▌                          | 278/490 [00:45<00:34,  6.15it/s]"
     ]
    },
    {
     "name": "stderr",
     "output_type": "stream",
     "text": [
      "\r",
      " 57%|██████████████████████████████████▋                          | 279/490 [00:45<00:34,  6.17it/s]"
     ]
    },
    {
     "name": "stderr",
     "output_type": "stream",
     "text": [
      "\r",
      " 57%|██████████████████████████████████▊                          | 280/490 [00:46<00:34,  6.17it/s]"
     ]
    },
    {
     "name": "stderr",
     "output_type": "stream",
     "text": [
      "\r",
      " 57%|██████████████████████████████████▉                          | 281/490 [00:46<00:34,  6.09it/s]"
     ]
    },
    {
     "name": "stderr",
     "output_type": "stream",
     "text": [
      "\r",
      " 58%|███████████████████████████████████                          | 282/490 [00:46<00:34,  6.11it/s]"
     ]
    },
    {
     "name": "stderr",
     "output_type": "stream",
     "text": [
      "\r",
      " 58%|███████████████████████████████████▏                         | 283/490 [00:46<00:33,  6.12it/s]"
     ]
    },
    {
     "name": "stderr",
     "output_type": "stream",
     "text": [
      "\r",
      " 58%|███████████████████████████████████▎                         | 284/490 [00:46<00:33,  6.12it/s]"
     ]
    },
    {
     "name": "stderr",
     "output_type": "stream",
     "text": [
      "\r",
      " 58%|███████████████████████████████████▍                         | 285/490 [00:46<00:33,  6.13it/s]"
     ]
    },
    {
     "name": "stderr",
     "output_type": "stream",
     "text": [
      "\r",
      " 58%|███████████████████████████████████▌                         | 286/490 [00:47<00:33,  6.11it/s]"
     ]
    },
    {
     "name": "stderr",
     "output_type": "stream",
     "text": [
      "\r",
      " 59%|███████████████████████████████████▋                         | 287/490 [00:47<00:33,  6.02it/s]"
     ]
    },
    {
     "name": "stderr",
     "output_type": "stream",
     "text": [
      "\r",
      " 59%|███████████████████████████████████▊                         | 288/490 [00:47<00:33,  6.02it/s]"
     ]
    },
    {
     "name": "stderr",
     "output_type": "stream",
     "text": [
      "\r",
      " 59%|███████████████████████████████████▉                         | 289/490 [00:47<00:33,  6.02it/s]"
     ]
    },
    {
     "name": "stderr",
     "output_type": "stream",
     "text": [
      "\r",
      " 59%|████████████████████████████████████                         | 290/490 [00:47<00:32,  6.06it/s]"
     ]
    },
    {
     "name": "stderr",
     "output_type": "stream",
     "text": [
      "\r",
      " 59%|████████████████████████████████████▏                        | 291/490 [00:47<00:32,  6.09it/s]"
     ]
    },
    {
     "name": "stderr",
     "output_type": "stream",
     "text": [
      "\r",
      " 60%|████████████████████████████████████▎                        | 292/490 [00:48<00:32,  6.10it/s]"
     ]
    },
    {
     "name": "stderr",
     "output_type": "stream",
     "text": [
      "\r",
      " 60%|████████████████████████████████████▍                        | 293/490 [00:48<00:32,  6.03it/s]"
     ]
    },
    {
     "name": "stderr",
     "output_type": "stream",
     "text": [
      "\r",
      " 60%|████████████████████████████████████▌                        | 294/490 [00:48<00:32,  6.03it/s]"
     ]
    },
    {
     "name": "stderr",
     "output_type": "stream",
     "text": [
      "\r",
      " 60%|████████████████████████████████████▋                        | 295/490 [00:48<00:32,  6.05it/s]"
     ]
    },
    {
     "name": "stderr",
     "output_type": "stream",
     "text": [
      "\r",
      " 60%|████████████████████████████████████▊                        | 296/490 [00:48<00:31,  6.09it/s]"
     ]
    },
    {
     "name": "stderr",
     "output_type": "stream",
     "text": [
      "\r",
      " 61%|████████████████████████████████████▉                        | 297/490 [00:48<00:31,  6.12it/s]"
     ]
    },
    {
     "name": "stderr",
     "output_type": "stream",
     "text": [
      "\r",
      " 61%|█████████████████████████████████████                        | 298/490 [00:49<00:31,  6.12it/s]"
     ]
    },
    {
     "name": "stderr",
     "output_type": "stream",
     "text": [
      "\r",
      " 61%|█████████████████████████████████████▏                       | 299/490 [00:49<00:31,  6.04it/s]"
     ]
    },
    {
     "name": "stderr",
     "output_type": "stream",
     "text": [
      "\r",
      " 61%|█████████████████████████████████████▎                       | 300/490 [00:49<00:31,  6.05it/s]"
     ]
    },
    {
     "name": "stderr",
     "output_type": "stream",
     "text": [
      "\r",
      " 61%|█████████████████████████████████████▍                       | 301/490 [00:49<00:31,  6.05it/s]"
     ]
    },
    {
     "name": "stderr",
     "output_type": "stream",
     "text": [
      "\r",
      " 62%|█████████████████████████████████████▌                       | 302/490 [00:49<00:30,  6.08it/s]"
     ]
    },
    {
     "name": "stderr",
     "output_type": "stream",
     "text": [
      "\r",
      " 62%|█████████████████████████████████████▋                       | 303/490 [00:49<00:30,  6.11it/s]"
     ]
    },
    {
     "name": "stderr",
     "output_type": "stream",
     "text": [
      "\r",
      " 62%|█████████████████████████████████████▊                       | 304/490 [00:50<00:30,  6.12it/s]"
     ]
    },
    {
     "name": "stderr",
     "output_type": "stream",
     "text": [
      "\r",
      " 62%|█████████████████████████████████████▉                       | 305/490 [00:50<00:30,  6.05it/s]"
     ]
    },
    {
     "name": "stderr",
     "output_type": "stream",
     "text": [
      "\r",
      " 62%|██████████████████████████████████████                       | 306/490 [00:50<00:30,  6.05it/s]"
     ]
    },
    {
     "name": "stderr",
     "output_type": "stream",
     "text": [
      "\r",
      " 63%|██████████████████████████████████████▏                      | 307/490 [00:50<00:30,  6.04it/s]"
     ]
    },
    {
     "name": "stderr",
     "output_type": "stream",
     "text": [
      "\r",
      " 63%|██████████████████████████████████████▎                      | 308/490 [00:50<00:30,  6.05it/s]"
     ]
    },
    {
     "name": "stderr",
     "output_type": "stream",
     "text": [
      "\r",
      " 63%|██████████████████████████████████████▍                      | 309/490 [00:50<00:29,  6.07it/s]"
     ]
    },
    {
     "name": "stderr",
     "output_type": "stream",
     "text": [
      "\r",
      " 63%|██████████████████████████████████████▌                      | 310/490 [00:51<00:29,  6.08it/s]"
     ]
    },
    {
     "name": "stderr",
     "output_type": "stream",
     "text": [
      "\r",
      " 63%|██████████████████████████████████████▋                      | 311/490 [00:51<00:29,  5.99it/s]"
     ]
    },
    {
     "name": "stderr",
     "output_type": "stream",
     "text": [
      "\r",
      " 64%|██████████████████████████████████████▊                      | 312/490 [00:51<00:29,  5.99it/s]"
     ]
    },
    {
     "name": "stderr",
     "output_type": "stream",
     "text": [
      "\r",
      " 64%|██████████████████████████████████████▉                      | 313/490 [00:51<00:29,  6.00it/s]"
     ]
    },
    {
     "name": "stderr",
     "output_type": "stream",
     "text": [
      "\r",
      " 64%|███████████████████████████████████████                      | 314/490 [00:51<00:29,  6.01it/s]"
     ]
    },
    {
     "name": "stderr",
     "output_type": "stream",
     "text": [
      "\r",
      " 64%|███████████████████████████████████████▏                     | 315/490 [00:51<00:28,  6.05it/s]"
     ]
    },
    {
     "name": "stderr",
     "output_type": "stream",
     "text": [
      "\r",
      " 64%|███████████████████████████████████████▎                     | 316/490 [00:52<00:28,  6.07it/s]"
     ]
    },
    {
     "name": "stderr",
     "output_type": "stream",
     "text": [
      "\r",
      " 65%|███████████████████████████████████████▍                     | 317/490 [00:52<00:28,  6.02it/s]"
     ]
    },
    {
     "name": "stderr",
     "output_type": "stream",
     "text": [
      "\r",
      " 65%|███████████████████████████████████████▌                     | 318/490 [00:52<00:28,  6.00it/s]"
     ]
    },
    {
     "name": "stderr",
     "output_type": "stream",
     "text": [
      "\r",
      " 65%|███████████████████████████████████████▋                     | 319/490 [00:52<00:28,  6.03it/s]"
     ]
    },
    {
     "name": "stderr",
     "output_type": "stream",
     "text": [
      "\r",
      " 65%|███████████████████████████████████████▊                     | 320/490 [00:52<00:28,  6.07it/s]"
     ]
    },
    {
     "name": "stderr",
     "output_type": "stream",
     "text": [
      "\r",
      " 66%|███████████████████████████████████████▉                     | 321/490 [00:52<00:27,  6.09it/s]"
     ]
    },
    {
     "name": "stderr",
     "output_type": "stream",
     "text": [
      "\r",
      " 66%|████████████████████████████████████████                     | 322/490 [00:53<00:27,  6.13it/s]"
     ]
    },
    {
     "name": "stderr",
     "output_type": "stream",
     "text": [
      "\r",
      " 66%|████████████████████████████████████████▏                    | 323/490 [00:53<00:27,  6.05it/s]"
     ]
    },
    {
     "name": "stderr",
     "output_type": "stream",
     "text": [
      "\r",
      " 66%|████████████████████████████████████████▎                    | 324/490 [00:53<00:27,  6.05it/s]"
     ]
    },
    {
     "name": "stderr",
     "output_type": "stream",
     "text": [
      "\r",
      " 66%|████████████████████████████████████████▍                    | 325/490 [00:53<00:27,  6.07it/s]"
     ]
    },
    {
     "name": "stderr",
     "output_type": "stream",
     "text": [
      "\r",
      " 67%|████████████████████████████████████████▌                    | 326/490 [00:53<00:29,  5.57it/s]"
     ]
    },
    {
     "name": "stderr",
     "output_type": "stream",
     "text": [
      "\r",
      " 67%|████████████████████████████████████████▋                    | 327/490 [00:53<00:28,  5.72it/s]"
     ]
    },
    {
     "name": "stderr",
     "output_type": "stream",
     "text": [
      "\r",
      " 67%|████████████████████████████████████████▊                    | 328/490 [00:54<00:27,  5.83it/s]"
     ]
    },
    {
     "name": "stderr",
     "output_type": "stream",
     "text": [
      "\r",
      " 67%|████████████████████████████████████████▉                    | 329/490 [00:54<00:27,  5.84it/s]"
     ]
    },
    {
     "name": "stderr",
     "output_type": "stream",
     "text": [
      "\r",
      " 67%|█████████████████████████████████████████                    | 330/490 [00:54<00:27,  5.89it/s]"
     ]
    },
    {
     "name": "stderr",
     "output_type": "stream",
     "text": [
      "\r",
      " 68%|█████████████████████████████████████████▏                   | 331/490 [00:54<00:26,  5.95it/s]"
     ]
    },
    {
     "name": "stderr",
     "output_type": "stream",
     "text": [
      "\r",
      " 68%|█████████████████████████████████████████▎                   | 332/490 [00:54<00:26,  5.99it/s]"
     ]
    },
    {
     "name": "stderr",
     "output_type": "stream",
     "text": [
      "\r",
      " 68%|█████████████████████████████████████████▍                   | 333/490 [00:54<00:26,  6.02it/s]"
     ]
    },
    {
     "name": "stderr",
     "output_type": "stream",
     "text": [
      "\r",
      " 68%|█████████████████████████████████████████▌                   | 334/490 [00:55<00:25,  6.05it/s]"
     ]
    },
    {
     "name": "stderr",
     "output_type": "stream",
     "text": [
      "\r",
      " 68%|█████████████████████████████████████████▋                   | 335/490 [00:55<00:25,  5.99it/s]"
     ]
    },
    {
     "name": "stderr",
     "output_type": "stream",
     "text": [
      "\r",
      " 69%|█████████████████████████████████████████▊                   | 336/490 [00:55<00:25,  5.99it/s]"
     ]
    },
    {
     "name": "stderr",
     "output_type": "stream",
     "text": [
      "\r",
      " 69%|█████████████████████████████████████████▉                   | 337/490 [00:55<00:25,  6.04it/s]"
     ]
    },
    {
     "name": "stderr",
     "output_type": "stream",
     "text": [
      "\r",
      " 69%|██████████████████████████████████████████                   | 338/490 [00:55<00:25,  6.04it/s]"
     ]
    },
    {
     "name": "stderr",
     "output_type": "stream",
     "text": [
      "\r",
      " 69%|██████████████████████████████████████████▏                  | 339/490 [00:55<00:24,  6.05it/s]"
     ]
    },
    {
     "name": "stderr",
     "output_type": "stream",
     "text": [
      "\r",
      " 69%|██████████████████████████████████████████▎                  | 340/490 [00:56<00:24,  6.09it/s]"
     ]
    },
    {
     "name": "stderr",
     "output_type": "stream",
     "text": [
      "\r",
      " 70%|██████████████████████████████████████████▍                  | 341/490 [00:56<00:24,  6.05it/s]"
     ]
    },
    {
     "name": "stderr",
     "output_type": "stream",
     "text": [
      "\r",
      " 70%|██████████████████████████████████████████▌                  | 342/490 [00:56<00:24,  6.05it/s]"
     ]
    },
    {
     "name": "stderr",
     "output_type": "stream",
     "text": [
      "\r",
      " 70%|██████████████████████████████████████████▋                  | 343/490 [00:56<00:24,  6.07it/s]"
     ]
    },
    {
     "name": "stderr",
     "output_type": "stream",
     "text": [
      "\r",
      " 70%|██████████████████████████████████████████▊                  | 344/490 [00:56<00:23,  6.10it/s]"
     ]
    },
    {
     "name": "stderr",
     "output_type": "stream",
     "text": [
      "\r",
      " 70%|██████████████████████████████████████████▉                  | 345/490 [00:56<00:23,  6.10it/s]"
     ]
    },
    {
     "name": "stderr",
     "output_type": "stream",
     "text": [
      "\r",
      " 71%|███████████████████████████████████████████                  | 346/490 [00:57<00:23,  6.11it/s]"
     ]
    },
    {
     "name": "stderr",
     "output_type": "stream",
     "text": [
      "\r",
      " 71%|███████████████████████████████████████████▏                 | 347/490 [00:57<00:23,  6.08it/s]"
     ]
    },
    {
     "name": "stderr",
     "output_type": "stream",
     "text": [
      "\r",
      " 71%|███████████████████████████████████████████▎                 | 348/490 [00:57<00:23,  6.08it/s]"
     ]
    },
    {
     "name": "stderr",
     "output_type": "stream",
     "text": [
      "\r",
      " 71%|███████████████████████████████████████████▍                 | 349/490 [00:57<00:23,  6.10it/s]"
     ]
    },
    {
     "name": "stderr",
     "output_type": "stream",
     "text": [
      "\r",
      " 71%|███████████████████████████████████████████▌                 | 350/490 [00:57<00:23,  6.08it/s]"
     ]
    },
    {
     "name": "stderr",
     "output_type": "stream",
     "text": [
      "\r",
      " 72%|███████████████████████████████████████████▋                 | 351/490 [00:57<00:22,  6.09it/s]"
     ]
    },
    {
     "name": "stderr",
     "output_type": "stream",
     "text": [
      "\r",
      " 72%|███████████████████████████████████████████▊                 | 352/490 [00:58<00:22,  6.10it/s]"
     ]
    },
    {
     "name": "stderr",
     "output_type": "stream",
     "text": [
      "\r",
      " 72%|███████████████████████████████████████████▉                 | 353/490 [00:58<00:22,  6.04it/s]"
     ]
    },
    {
     "name": "stderr",
     "output_type": "stream",
     "text": [
      "\r",
      " 72%|████████████████████████████████████████████                 | 354/490 [00:58<00:22,  6.03it/s]"
     ]
    },
    {
     "name": "stderr",
     "output_type": "stream",
     "text": [
      "\r",
      " 72%|████████████████████████████████████████████▏                | 355/490 [00:58<00:22,  6.06it/s]"
     ]
    },
    {
     "name": "stderr",
     "output_type": "stream",
     "text": [
      "\r",
      " 73%|████████████████████████████████████████████▎                | 356/490 [00:58<00:22,  6.07it/s]"
     ]
    },
    {
     "name": "stderr",
     "output_type": "stream",
     "text": [
      "\r",
      " 73%|████████████████████████████████████████████▍                | 357/490 [00:58<00:21,  6.05it/s]"
     ]
    },
    {
     "name": "stderr",
     "output_type": "stream",
     "text": [
      "\r",
      " 73%|████████████████████████████████████████████▌                | 358/490 [00:59<00:21,  6.04it/s]"
     ]
    },
    {
     "name": "stderr",
     "output_type": "stream",
     "text": [
      "\r",
      " 73%|████████████████████████████████████████████▋                | 359/490 [00:59<00:21,  6.01it/s]"
     ]
    },
    {
     "name": "stderr",
     "output_type": "stream",
     "text": [
      "\r",
      " 73%|████████████████████████████████████████████▊                | 360/490 [00:59<00:21,  6.00it/s]"
     ]
    },
    {
     "name": "stderr",
     "output_type": "stream",
     "text": [
      "\r",
      " 74%|████████████████████████████████████████████▉                | 361/490 [00:59<00:21,  6.05it/s]"
     ]
    },
    {
     "name": "stderr",
     "output_type": "stream",
     "text": [
      "\r",
      " 74%|█████████████████████████████████████████████                | 362/490 [00:59<00:21,  6.05it/s]"
     ]
    },
    {
     "name": "stderr",
     "output_type": "stream",
     "text": [
      "\r",
      " 74%|█████████████████████████████████████████████▏               | 363/490 [00:59<00:20,  6.08it/s]"
     ]
    },
    {
     "name": "stderr",
     "output_type": "stream",
     "text": [
      "\r",
      " 74%|█████████████████████████████████████████████▎               | 364/490 [01:00<00:20,  6.09it/s]"
     ]
    },
    {
     "name": "stderr",
     "output_type": "stream",
     "text": [
      "\r",
      " 74%|█████████████████████████████████████████████▍               | 365/490 [01:00<00:20,  6.07it/s]"
     ]
    },
    {
     "name": "stderr",
     "output_type": "stream",
     "text": [
      "\r",
      " 75%|█████████████████████████████████████████████▌               | 366/490 [01:00<00:20,  6.04it/s]"
     ]
    },
    {
     "name": "stderr",
     "output_type": "stream",
     "text": [
      "\r",
      " 75%|█████████████████████████████████████████████▋               | 367/490 [01:00<00:20,  6.07it/s]"
     ]
    },
    {
     "name": "stderr",
     "output_type": "stream",
     "text": [
      "\r",
      " 75%|█████████████████████████████████████████████▊               | 368/490 [01:00<00:20,  6.07it/s]"
     ]
    },
    {
     "name": "stderr",
     "output_type": "stream",
     "text": [
      "\r",
      " 75%|█████████████████████████████████████████████▉               | 369/490 [01:00<00:19,  6.07it/s]"
     ]
    },
    {
     "name": "stderr",
     "output_type": "stream",
     "text": [
      "\r",
      " 76%|██████████████████████████████████████████████               | 370/490 [01:01<00:19,  6.08it/s]"
     ]
    },
    {
     "name": "stderr",
     "output_type": "stream",
     "text": [
      "\r",
      " 76%|██████████████████████████████████████████████▏              | 371/490 [01:01<00:19,  6.08it/s]"
     ]
    },
    {
     "name": "stderr",
     "output_type": "stream",
     "text": [
      "\r",
      " 76%|██████████████████████████████████████████████▎              | 372/490 [01:01<00:19,  5.98it/s]"
     ]
    },
    {
     "name": "stderr",
     "output_type": "stream",
     "text": [
      "\r",
      " 76%|██████████████████████████████████████████████▍              | 373/490 [01:01<00:19,  6.03it/s]"
     ]
    },
    {
     "name": "stderr",
     "output_type": "stream",
     "text": [
      "\r",
      " 76%|██████████████████████████████████████████████▌              | 374/490 [01:01<00:19,  6.07it/s]"
     ]
    },
    {
     "name": "stderr",
     "output_type": "stream",
     "text": [
      "\r",
      " 77%|██████████████████████████████████████████████▋              | 375/490 [01:01<00:18,  6.08it/s]"
     ]
    },
    {
     "name": "stderr",
     "output_type": "stream",
     "text": [
      "\r",
      " 77%|██████████████████████████████████████████████▊              | 376/490 [01:02<00:18,  6.10it/s]"
     ]
    },
    {
     "name": "stderr",
     "output_type": "stream",
     "text": [
      "\r",
      " 77%|██████████████████████████████████████████████▉              | 377/490 [01:02<00:18,  6.09it/s]"
     ]
    },
    {
     "name": "stderr",
     "output_type": "stream",
     "text": [
      "\r",
      " 77%|███████████████████████████████████████████████              | 378/490 [01:02<00:18,  5.99it/s]"
     ]
    },
    {
     "name": "stderr",
     "output_type": "stream",
     "text": [
      "\r",
      " 77%|███████████████████████████████████████████████▏             | 379/490 [01:02<00:18,  5.98it/s]"
     ]
    },
    {
     "name": "stderr",
     "output_type": "stream",
     "text": [
      "\r",
      " 78%|███████████████████████████████████████████████▎             | 380/490 [01:02<00:18,  6.03it/s]"
     ]
    },
    {
     "name": "stderr",
     "output_type": "stream",
     "text": [
      "\r",
      " 78%|███████████████████████████████████████████████▍             | 381/490 [01:02<00:18,  6.04it/s]"
     ]
    },
    {
     "name": "stderr",
     "output_type": "stream",
     "text": [
      "\r",
      " 78%|███████████████████████████████████████████████▌             | 382/490 [01:03<00:17,  6.07it/s]"
     ]
    },
    {
     "name": "stderr",
     "output_type": "stream",
     "text": [
      "\r",
      " 78%|███████████████████████████████████████████████▋             | 383/490 [01:03<00:17,  6.07it/s]"
     ]
    },
    {
     "name": "stderr",
     "output_type": "stream",
     "text": [
      "\r",
      " 78%|███████████████████████████████████████████████▊             | 384/490 [01:03<00:17,  6.01it/s]"
     ]
    },
    {
     "name": "stderr",
     "output_type": "stream",
     "text": [
      "\r",
      " 79%|███████████████████████████████████████████████▉             | 385/490 [01:03<00:17,  5.99it/s]"
     ]
    },
    {
     "name": "stderr",
     "output_type": "stream",
     "text": [
      "\r",
      " 79%|████████████████████████████████████████████████             | 386/490 [01:03<00:17,  6.01it/s]"
     ]
    },
    {
     "name": "stderr",
     "output_type": "stream",
     "text": [
      "\r",
      " 79%|████████████████████████████████████████████████▏            | 387/490 [01:03<00:17,  6.02it/s]"
     ]
    },
    {
     "name": "stderr",
     "output_type": "stream",
     "text": [
      "\r",
      " 79%|████████████████████████████████████████████████▎            | 388/490 [01:04<00:16,  6.05it/s]"
     ]
    },
    {
     "name": "stderr",
     "output_type": "stream",
     "text": [
      "\r",
      " 79%|████████████████████████████████████████████████▍            | 389/490 [01:04<00:16,  6.06it/s]"
     ]
    },
    {
     "name": "stderr",
     "output_type": "stream",
     "text": [
      "\r",
      " 80%|████████████████████████████████████████████████▌            | 390/490 [01:04<00:16,  6.00it/s]"
     ]
    },
    {
     "name": "stderr",
     "output_type": "stream",
     "text": [
      "\r",
      " 80%|████████████████████████████████████████████████▋            | 391/490 [01:04<00:16,  6.02it/s]"
     ]
    },
    {
     "name": "stderr",
     "output_type": "stream",
     "text": [
      "\r",
      " 80%|████████████████████████████████████████████████▊            | 392/490 [01:04<00:16,  6.03it/s]"
     ]
    },
    {
     "name": "stderr",
     "output_type": "stream",
     "text": [
      "\r",
      " 80%|████████████████████████████████████████████████▉            | 393/490 [01:04<00:16,  6.06it/s]"
     ]
    },
    {
     "name": "stderr",
     "output_type": "stream",
     "text": [
      "\r",
      " 80%|█████████████████████████████████████████████████            | 394/490 [01:05<00:15,  6.07it/s]"
     ]
    },
    {
     "name": "stderr",
     "output_type": "stream",
     "text": [
      "\r",
      " 81%|█████████████████████████████████████████████████▏           | 395/490 [01:05<00:15,  6.02it/s]"
     ]
    },
    {
     "name": "stderr",
     "output_type": "stream",
     "text": [
      "\r",
      " 81%|█████████████████████████████████████████████████▎           | 396/490 [01:05<00:15,  5.98it/s]"
     ]
    },
    {
     "name": "stderr",
     "output_type": "stream",
     "text": [
      "\r",
      " 81%|█████████████████████████████████████████████████▍           | 397/490 [01:05<00:15,  6.01it/s]"
     ]
    },
    {
     "name": "stderr",
     "output_type": "stream",
     "text": [
      "\r",
      " 81%|█████████████████████████████████████████████████▌           | 398/490 [01:05<00:15,  6.01it/s]"
     ]
    },
    {
     "name": "stderr",
     "output_type": "stream",
     "text": [
      "\r",
      " 81%|█████████████████████████████████████████████████▋           | 399/490 [01:05<00:15,  6.03it/s]"
     ]
    },
    {
     "name": "stderr",
     "output_type": "stream",
     "text": [
      "\r",
      " 82%|█████████████████████████████████████████████████▊           | 400/490 [01:06<00:14,  6.07it/s]"
     ]
    },
    {
     "name": "stderr",
     "output_type": "stream",
     "text": [
      "\r",
      " 82%|█████████████████████████████████████████████████▉           | 401/490 [01:06<00:14,  6.07it/s]"
     ]
    },
    {
     "name": "stderr",
     "output_type": "stream",
     "text": [
      "\r",
      " 82%|██████████████████████████████████████████████████           | 402/490 [01:06<00:14,  5.99it/s]"
     ]
    },
    {
     "name": "stderr",
     "output_type": "stream",
     "text": [
      "\r",
      " 82%|██████████████████████████████████████████████████▏          | 403/490 [01:06<00:14,  6.02it/s]"
     ]
    },
    {
     "name": "stderr",
     "output_type": "stream",
     "text": [
      "\r",
      " 82%|██████████████████████████████████████████████████▎          | 404/490 [01:06<00:14,  6.06it/s]"
     ]
    },
    {
     "name": "stderr",
     "output_type": "stream",
     "text": [
      "\r",
      " 83%|██████████████████████████████████████████████████▍          | 405/490 [01:06<00:13,  6.09it/s]"
     ]
    },
    {
     "name": "stderr",
     "output_type": "stream",
     "text": [
      "\r",
      " 83%|██████████████████████████████████████████████████▌          | 406/490 [01:07<00:13,  6.07it/s]"
     ]
    },
    {
     "name": "stderr",
     "output_type": "stream",
     "text": [
      "\r",
      " 83%|██████████████████████████████████████████████████▋          | 407/490 [01:07<00:13,  6.07it/s]"
     ]
    },
    {
     "name": "stderr",
     "output_type": "stream",
     "text": [
      "\r",
      " 83%|██████████████████████████████████████████████████▊          | 408/490 [01:07<00:13,  6.01it/s]"
     ]
    },
    {
     "name": "stderr",
     "output_type": "stream",
     "text": [
      "\r",
      " 83%|██████████████████████████████████████████████████▉          | 409/490 [01:07<00:13,  6.00it/s]"
     ]
    },
    {
     "name": "stderr",
     "output_type": "stream",
     "text": [
      "\r",
      " 84%|███████████████████████████████████████████████████          | 410/490 [01:07<00:13,  6.04it/s]"
     ]
    },
    {
     "name": "stderr",
     "output_type": "stream",
     "text": [
      "\r",
      " 84%|███████████████████████████████████████████████████▏         | 411/490 [01:07<00:13,  6.07it/s]"
     ]
    },
    {
     "name": "stderr",
     "output_type": "stream",
     "text": [
      "\r",
      " 84%|███████████████████████████████████████████████████▎         | 412/490 [01:07<00:12,  6.06it/s]"
     ]
    },
    {
     "name": "stderr",
     "output_type": "stream",
     "text": [
      "\r",
      " 84%|███████████████████████████████████████████████████▍         | 413/490 [01:08<00:12,  6.07it/s]"
     ]
    },
    {
     "name": "stderr",
     "output_type": "stream",
     "text": [
      "\r",
      " 84%|███████████████████████████████████████████████████▌         | 414/490 [01:08<00:12,  6.01it/s]"
     ]
    },
    {
     "name": "stderr",
     "output_type": "stream",
     "text": [
      "\r",
      " 85%|███████████████████████████████████████████████████▋         | 415/490 [01:08<00:12,  6.01it/s]"
     ]
    },
    {
     "name": "stderr",
     "output_type": "stream",
     "text": [
      "\r",
      " 85%|███████████████████████████████████████████████████▊         | 416/490 [01:08<00:12,  6.04it/s]"
     ]
    },
    {
     "name": "stderr",
     "output_type": "stream",
     "text": [
      "\r",
      " 85%|███████████████████████████████████████████████████▉         | 417/490 [01:08<00:12,  6.05it/s]"
     ]
    },
    {
     "name": "stderr",
     "output_type": "stream",
     "text": [
      "\r",
      " 85%|████████████████████████████████████████████████████         | 418/490 [01:08<00:11,  6.09it/s]"
     ]
    },
    {
     "name": "stderr",
     "output_type": "stream",
     "text": [
      "\r",
      " 86%|████████████████████████████████████████████████████▏        | 419/490 [01:09<00:11,  6.09it/s]"
     ]
    },
    {
     "name": "stderr",
     "output_type": "stream",
     "text": [
      "\r",
      " 86%|████████████████████████████████████████████████████▎        | 420/490 [01:09<00:11,  6.02it/s]"
     ]
    },
    {
     "name": "stderr",
     "output_type": "stream",
     "text": [
      "\r",
      " 86%|████████████████████████████████████████████████████▍        | 421/490 [01:09<00:11,  6.01it/s]"
     ]
    },
    {
     "name": "stderr",
     "output_type": "stream",
     "text": [
      "\r",
      " 86%|████████████████████████████████████████████████████▌        | 422/490 [01:09<00:11,  6.04it/s]"
     ]
    },
    {
     "name": "stderr",
     "output_type": "stream",
     "text": [
      "\r",
      " 86%|████████████████████████████████████████████████████▋        | 423/490 [01:09<00:11,  6.08it/s]"
     ]
    },
    {
     "name": "stderr",
     "output_type": "stream",
     "text": [
      "\r",
      " 87%|████████████████████████████████████████████████████▊        | 424/490 [01:09<00:10,  6.10it/s]"
     ]
    },
    {
     "name": "stderr",
     "output_type": "stream",
     "text": [
      "\r",
      " 87%|████████████████████████████████████████████████████▉        | 425/490 [01:10<00:10,  6.12it/s]"
     ]
    },
    {
     "name": "stderr",
     "output_type": "stream",
     "text": [
      "\r",
      " 87%|█████████████████████████████████████████████████████        | 426/490 [01:10<00:10,  6.04it/s]"
     ]
    },
    {
     "name": "stderr",
     "output_type": "stream",
     "text": [
      "\r",
      " 87%|█████████████████████████████████████████████████████▏       | 427/490 [01:10<00:10,  6.04it/s]"
     ]
    },
    {
     "name": "stderr",
     "output_type": "stream",
     "text": [
      "\r",
      " 87%|█████████████████████████████████████████████████████▎       | 428/490 [01:10<00:10,  6.08it/s]"
     ]
    },
    {
     "name": "stderr",
     "output_type": "stream",
     "text": [
      "\r",
      " 88%|█████████████████████████████████████████████████████▍       | 429/490 [01:10<00:10,  6.08it/s]"
     ]
    },
    {
     "name": "stderr",
     "output_type": "stream",
     "text": [
      "\r",
      " 88%|█████████████████████████████████████████████████████▌       | 430/490 [01:10<00:09,  6.12it/s]"
     ]
    },
    {
     "name": "stderr",
     "output_type": "stream",
     "text": [
      "\r",
      " 88%|█████████████████████████████████████████████████████▋       | 431/490 [01:11<00:09,  6.14it/s]"
     ]
    },
    {
     "name": "stderr",
     "output_type": "stream",
     "text": [
      "\r",
      " 88%|█████████████████████████████████████████████████████▊       | 432/490 [01:11<00:09,  6.04it/s]"
     ]
    },
    {
     "name": "stderr",
     "output_type": "stream",
     "text": [
      "\r",
      " 88%|█████████████████████████████████████████████████████▉       | 433/490 [01:11<00:09,  6.02it/s]"
     ]
    },
    {
     "name": "stderr",
     "output_type": "stream",
     "text": [
      "\r",
      " 89%|██████████████████████████████████████████████████████       | 434/490 [01:11<00:09,  6.03it/s]"
     ]
    },
    {
     "name": "stderr",
     "output_type": "stream",
     "text": [
      "\r",
      " 89%|██████████████████████████████████████████████████████▏      | 435/490 [01:11<00:09,  6.05it/s]"
     ]
    },
    {
     "name": "stderr",
     "output_type": "stream",
     "text": [
      "\r",
      " 89%|██████████████████████████████████████████████████████▎      | 436/490 [01:11<00:08,  6.08it/s]"
     ]
    },
    {
     "name": "stderr",
     "output_type": "stream",
     "text": [
      "\r",
      " 89%|██████████████████████████████████████████████████████▍      | 437/490 [01:12<00:08,  6.10it/s]"
     ]
    },
    {
     "name": "stderr",
     "output_type": "stream",
     "text": [
      "\r",
      " 89%|██████████████████████████████████████████████████████▌      | 438/490 [01:12<00:08,  6.06it/s]"
     ]
    },
    {
     "name": "stderr",
     "output_type": "stream",
     "text": [
      "\r",
      " 90%|██████████████████████████████████████████████████████▋      | 439/490 [01:12<00:08,  6.03it/s]"
     ]
    },
    {
     "name": "stderr",
     "output_type": "stream",
     "text": [
      "\r",
      " 90%|██████████████████████████████████████████████████████▊      | 440/490 [01:12<00:08,  6.05it/s]"
     ]
    },
    {
     "name": "stderr",
     "output_type": "stream",
     "text": [
      "\r",
      " 90%|██████████████████████████████████████████████████████▉      | 441/490 [01:12<00:08,  6.07it/s]"
     ]
    },
    {
     "name": "stderr",
     "output_type": "stream",
     "text": [
      "\r",
      " 90%|███████████████████████████████████████████████████████      | 442/490 [01:12<00:07,  6.06it/s]"
     ]
    },
    {
     "name": "stderr",
     "output_type": "stream",
     "text": [
      "\r",
      " 90%|███████████████████████████████████████████████████████▏     | 443/490 [01:13<00:07,  6.08it/s]"
     ]
    },
    {
     "name": "stderr",
     "output_type": "stream",
     "text": [
      "\r",
      " 91%|███████████████████████████████████████████████████████▎     | 444/490 [01:13<00:07,  6.01it/s]"
     ]
    },
    {
     "name": "stderr",
     "output_type": "stream",
     "text": [
      "\r",
      " 91%|███████████████████████████████████████████████████████▍     | 445/490 [01:13<00:07,  5.99it/s]"
     ]
    },
    {
     "name": "stderr",
     "output_type": "stream",
     "text": [
      "\r",
      " 91%|███████████████████████████████████████████████████████▌     | 446/490 [01:13<00:07,  6.00it/s]"
     ]
    },
    {
     "name": "stderr",
     "output_type": "stream",
     "text": [
      "\r",
      " 91%|███████████████████████████████████████████████████████▋     | 447/490 [01:13<00:07,  6.00it/s]"
     ]
    },
    {
     "name": "stderr",
     "output_type": "stream",
     "text": [
      "\r",
      " 91%|███████████████████████████████████████████████████████▊     | 448/490 [01:13<00:07,  6.00it/s]"
     ]
    },
    {
     "name": "stderr",
     "output_type": "stream",
     "text": [
      "\r",
      " 92%|███████████████████████████████████████████████████████▉     | 449/490 [01:14<00:06,  6.02it/s]"
     ]
    },
    {
     "name": "stderr",
     "output_type": "stream",
     "text": [
      "\r",
      " 92%|████████████████████████████████████████████████████████     | 450/490 [01:14<00:06,  5.96it/s]"
     ]
    },
    {
     "name": "stderr",
     "output_type": "stream",
     "text": [
      "\r",
      " 92%|████████████████████████████████████████████████████████▏    | 451/490 [01:14<00:06,  5.96it/s]"
     ]
    },
    {
     "name": "stderr",
     "output_type": "stream",
     "text": [
      "\r",
      " 92%|████████████████████████████████████████████████████████▎    | 452/490 [01:14<00:06,  5.97it/s]"
     ]
    },
    {
     "name": "stderr",
     "output_type": "stream",
     "text": [
      "\r",
      " 92%|████████████████████████████████████████████████████████▍    | 453/490 [01:14<00:06,  5.98it/s]"
     ]
    },
    {
     "name": "stderr",
     "output_type": "stream",
     "text": [
      "\r",
      " 93%|████████████████████████████████████████████████████████▌    | 454/490 [01:14<00:05,  6.00it/s]"
     ]
    },
    {
     "name": "stderr",
     "output_type": "stream",
     "text": [
      "\r",
      " 93%|████████████████████████████████████████████████████████▋    | 455/490 [01:15<00:05,  6.02it/s]"
     ]
    },
    {
     "name": "stderr",
     "output_type": "stream",
     "text": [
      "\r",
      " 93%|████████████████████████████████████████████████████████▊    | 456/490 [01:15<00:05,  5.98it/s]"
     ]
    },
    {
     "name": "stderr",
     "output_type": "stream",
     "text": [
      "\r",
      " 93%|████████████████████████████████████████████████████████▉    | 457/490 [01:15<00:05,  5.97it/s]"
     ]
    },
    {
     "name": "stderr",
     "output_type": "stream",
     "text": [
      "\r",
      " 93%|█████████████████████████████████████████████████████████    | 458/490 [01:15<00:05,  5.95it/s]"
     ]
    },
    {
     "name": "stderr",
     "output_type": "stream",
     "text": [
      "\r",
      " 94%|█████████████████████████████████████████████████████████▏   | 459/490 [01:15<00:05,  5.94it/s]"
     ]
    },
    {
     "name": "stderr",
     "output_type": "stream",
     "text": [
      "\r",
      " 94%|█████████████████████████████████████████████████████████▎   | 460/490 [01:15<00:05,  5.98it/s]"
     ]
    },
    {
     "name": "stderr",
     "output_type": "stream",
     "text": [
      "\r",
      " 94%|█████████████████████████████████████████████████████████▍   | 461/490 [01:16<00:04,  5.97it/s]"
     ]
    },
    {
     "name": "stderr",
     "output_type": "stream",
     "text": [
      "\r",
      " 94%|█████████████████████████████████████████████████████████▌   | 462/490 [01:16<00:04,  5.93it/s]"
     ]
    },
    {
     "name": "stderr",
     "output_type": "stream",
     "text": [
      "\r",
      " 94%|█████████████████████████████████████████████████████████▋   | 463/490 [01:16<00:04,  5.94it/s]"
     ]
    },
    {
     "name": "stderr",
     "output_type": "stream",
     "text": [
      "\r",
      " 95%|█████████████████████████████████████████████████████████▊   | 464/490 [01:16<00:04,  5.97it/s]"
     ]
    },
    {
     "name": "stderr",
     "output_type": "stream",
     "text": [
      "\r",
      " 95%|█████████████████████████████████████████████████████████▉   | 465/490 [01:16<00:04,  5.98it/s]"
     ]
    },
    {
     "name": "stderr",
     "output_type": "stream",
     "text": [
      "\r",
      " 95%|██████████████████████████████████████████████████████████   | 466/490 [01:16<00:03,  6.02it/s]"
     ]
    },
    {
     "name": "stderr",
     "output_type": "stream",
     "text": [
      "\r",
      " 95%|██████████████████████████████████████████████████████████▏  | 467/490 [01:17<00:03,  6.02it/s]"
     ]
    },
    {
     "name": "stderr",
     "output_type": "stream",
     "text": [
      "\r",
      " 96%|██████████████████████████████████████████████████████████▎  | 468/490 [01:17<00:03,  5.97it/s]"
     ]
    },
    {
     "name": "stderr",
     "output_type": "stream",
     "text": [
      "\r",
      " 96%|██████████████████████████████████████████████████████████▍  | 469/490 [01:17<00:03,  5.95it/s]"
     ]
    },
    {
     "name": "stderr",
     "output_type": "stream",
     "text": [
      "\r",
      " 96%|██████████████████████████████████████████████████████████▌  | 470/490 [01:17<00:03,  5.96it/s]"
     ]
    },
    {
     "name": "stderr",
     "output_type": "stream",
     "text": [
      "\r",
      " 96%|██████████████████████████████████████████████████████████▋  | 471/490 [01:17<00:03,  5.99it/s]"
     ]
    },
    {
     "name": "stderr",
     "output_type": "stream",
     "text": [
      "\r",
      " 96%|██████████████████████████████████████████████████████████▊  | 472/490 [01:17<00:02,  6.02it/s]"
     ]
    },
    {
     "name": "stderr",
     "output_type": "stream",
     "text": [
      "\r",
      " 97%|██████████████████████████████████████████████████████████▉  | 473/490 [01:18<00:02,  6.03it/s]"
     ]
    },
    {
     "name": "stderr",
     "output_type": "stream",
     "text": [
      "\r",
      " 97%|███████████████████████████████████████████████████████████  | 474/490 [01:18<00:02,  5.99it/s]"
     ]
    },
    {
     "name": "stderr",
     "output_type": "stream",
     "text": [
      "\r",
      " 97%|███████████████████████████████████████████████████████████▏ | 475/490 [01:18<00:02,  5.97it/s]"
     ]
    },
    {
     "name": "stderr",
     "output_type": "stream",
     "text": [
      "\r",
      " 97%|███████████████████████████████████████████████████████████▎ | 476/490 [01:18<00:02,  6.00it/s]"
     ]
    },
    {
     "name": "stderr",
     "output_type": "stream",
     "text": [
      "\r",
      " 97%|███████████████████████████████████████████████████████████▍ | 477/490 [01:18<00:02,  6.03it/s]"
     ]
    },
    {
     "name": "stderr",
     "output_type": "stream",
     "text": [
      "\r",
      " 98%|███████████████████████████████████████████████████████████▌ | 478/490 [01:18<00:01,  6.06it/s]"
     ]
    },
    {
     "name": "stderr",
     "output_type": "stream",
     "text": [
      "\r",
      " 98%|███████████████████████████████████████████████████████████▋ | 479/490 [01:19<00:01,  6.06it/s]"
     ]
    },
    {
     "name": "stderr",
     "output_type": "stream",
     "text": [
      "\r",
      " 98%|███████████████████████████████████████████████████████████▊ | 480/490 [01:19<00:01,  6.03it/s]"
     ]
    },
    {
     "name": "stderr",
     "output_type": "stream",
     "text": [
      "\r",
      " 98%|███████████████████████████████████████████████████████████▉ | 481/490 [01:19<00:01,  5.98it/s]"
     ]
    },
    {
     "name": "stderr",
     "output_type": "stream",
     "text": [
      "\r",
      " 98%|████████████████████████████████████████████████████████████ | 482/490 [01:19<00:01,  5.96it/s]"
     ]
    },
    {
     "name": "stderr",
     "output_type": "stream",
     "text": [
      "\r",
      " 99%|████████████████████████████████████████████████████████████▏| 483/490 [01:19<00:01,  5.98it/s]"
     ]
    },
    {
     "name": "stderr",
     "output_type": "stream",
     "text": [
      "\r",
      " 99%|████████████████████████████████████████████████████████████▎| 484/490 [01:19<00:00,  6.01it/s]"
     ]
    },
    {
     "name": "stderr",
     "output_type": "stream",
     "text": [
      "\r",
      " 99%|████████████████████████████████████████████████████████████▍| 485/490 [01:20<00:00,  6.02it/s]"
     ]
    },
    {
     "name": "stderr",
     "output_type": "stream",
     "text": [
      "\r",
      " 99%|████████████████████████████████████████████████████████████▌| 486/490 [01:20<00:00,  5.99it/s]"
     ]
    },
    {
     "name": "stderr",
     "output_type": "stream",
     "text": [
      "\r",
      " 99%|████████████████████████████████████████████████████████████▋| 487/490 [01:20<00:00,  5.98it/s]"
     ]
    },
    {
     "name": "stderr",
     "output_type": "stream",
     "text": [
      "\r",
      "100%|████████████████████████████████████████████████████████████▊| 488/490 [01:20<00:00,  6.00it/s]"
     ]
    },
    {
     "name": "stderr",
     "output_type": "stream",
     "text": [
      "\r",
      "100%|████████████████████████████████████████████████████████████▉| 489/490 [01:20<00:00,  6.05it/s]"
     ]
    },
    {
     "name": "stderr",
     "output_type": "stream",
     "text": [
      "\r",
      "100%|█████████████████████████████████████████████████████████████| 490/490 [01:20<00:00,  6.08it/s]"
     ]
    },
    {
     "name": "stderr",
     "output_type": "stream",
     "text": [
      "\r",
      "100%|█████████████████████████████████████████████████████████████| 490/490 [01:20<00:00,  6.05it/s]"
     ]
    },
    {
     "name": "stderr",
     "output_type": "stream",
     "text": [
      "\n"
     ]
    }
   ],
   "source": [
    "predictions = []\n",
    "\n",
    "for f in tqdm(current_prediction_files, ncols=100):\n",
    "    # FIXME: it shouldn't be necessary to include this anymore\n",
    "    # exclude S-MultiXcan results, since they have no direction of effect\n",
    "    if f.name.startswith(\"smultixcan-\"):\n",
    "        continue\n",
    "\n",
    "    prediction_data = pd.read_hdf(f, key=\"prediction\")\n",
    "    prediction_data = pd.merge(\n",
    "        prediction_data, gold_standard, on=[\"trait\", \"drug\"], how=\"inner\"\n",
    "    )\n",
    "\n",
    "    metadata = pd.read_hdf(f, key=\"metadata\")\n",
    "\n",
    "    prediction_data[\"score\"] = prediction_data[\"score\"].rank()\n",
    "    prediction_data[\"trait\"] = prediction_data[\"trait\"].astype(\"category\")\n",
    "    prediction_data[\"drug\"] = prediction_data[\"drug\"].astype(\"category\")\n",
    "\n",
    "    prediction_data = prediction_data.assign(method=metadata.method.values[0])\n",
    "    prediction_data[\"method\"] = prediction_data[\"method\"].astype(\"category\")\n",
    "\n",
    "    prediction_data = prediction_data.assign(n_top_genes=metadata.n_top_genes.values[0])\n",
    "    #     prediction_data[\"n_top_genes\"] = prediction_data[\"data\"].astype(\"category\")\n",
    "\n",
    "    prediction_data = prediction_data.assign(data=metadata.data.values[0])\n",
    "    prediction_data[\"data\"] = prediction_data[\"data\"].astype(\"category\")\n",
    "\n",
    "    predictions.append(prediction_data)"
   ]
  },
  {
   "cell_type": "code",
   "execution_count": 15,
   "metadata": {
    "execution": {
     "iopub.execute_input": "2021-04-22T17:56:34.149641Z",
     "iopub.status.busy": "2021-04-22T17:56:34.149276Z",
     "iopub.status.idle": "2021-04-22T17:56:34.157386Z",
     "shell.execute_reply": "2021-04-22T17:56:34.157026Z"
    },
    "papermill": {
     "duration": 0.105932,
     "end_time": "2021-04-22T17:56:34.157470",
     "exception": false,
     "start_time": "2021-04-22T17:56:34.051538",
     "status": "completed"
    },
    "tags": []
   },
   "outputs": [],
   "source": [
    "assert np.all(pred.shape[0] == N_PREDICTIONS for pred in predictions)"
   ]
  },
  {
   "cell_type": "code",
   "execution_count": 16,
   "metadata": {
    "execution": {
     "iopub.execute_input": "2021-04-22T17:56:34.356250Z",
     "iopub.status.busy": "2021-04-22T17:56:34.355886Z",
     "iopub.status.idle": "2021-04-22T17:56:35.140548Z",
     "shell.execute_reply": "2021-04-22T17:56:35.140195Z"
    },
    "papermill": {
     "duration": 0.885575,
     "end_time": "2021-04-22T17:56:35.140649",
     "exception": false,
     "start_time": "2021-04-22T17:56:34.255074",
     "status": "completed"
    },
    "tags": []
   },
   "outputs": [],
   "source": [
    "predictions = pd.concat(predictions, ignore_index=True)"
   ]
  },
  {
   "cell_type": "code",
   "execution_count": 17,
   "metadata": {
    "execution": {
     "iopub.execute_input": "2021-04-22T17:56:35.338826Z",
     "iopub.status.busy": "2021-04-22T17:56:35.338467Z",
     "iopub.status.idle": "2021-04-22T17:56:35.346488Z",
     "shell.execute_reply": "2021-04-22T17:56:35.346780Z"
    },
    "papermill": {
     "duration": 0.108265,
     "end_time": "2021-04-22T17:56:35.346882",
     "exception": false,
     "start_time": "2021-04-22T17:56:35.238617",
     "status": "completed"
    },
    "tags": []
   },
   "outputs": [
    {
     "data": {
      "text/plain": [
       "(316540, 7)"
      ]
     },
     "metadata": {},
     "output_type": "display_data"
    }
   ],
   "source": [
    "display(predictions.shape)\n",
    "\n",
    "assert predictions.shape[0] == 2 * (N_TISSUES * N_THRESHOLDS) * N_PREDICTIONS"
   ]
  },
  {
   "cell_type": "code",
   "execution_count": 18,
   "metadata": {
    "execution": {
     "iopub.execute_input": "2021-04-22T17:56:35.540884Z",
     "iopub.status.busy": "2021-04-22T17:56:35.540478Z",
     "iopub.status.idle": "2021-04-22T17:56:35.553291Z",
     "shell.execute_reply": "2021-04-22T17:56:35.553560Z"
    },
    "papermill": {
     "duration": 0.111112,
     "end_time": "2021-04-22T17:56:35.553664",
     "exception": false,
     "start_time": "2021-04-22T17:56:35.442552",
     "status": "completed"
    },
    "tags": []
   },
   "outputs": [
    {
     "data": {
      "text/html": [
       "<div>\n",
       "<style scoped>\n",
       "    .dataframe tbody tr th:only-of-type {\n",
       "        vertical-align: middle;\n",
       "    }\n",
       "\n",
       "    .dataframe tbody tr th {\n",
       "        vertical-align: top;\n",
       "    }\n",
       "\n",
       "    .dataframe thead th {\n",
       "        text-align: right;\n",
       "    }\n",
       "</style>\n",
       "<table border=\"1\" class=\"dataframe\">\n",
       "  <thead>\n",
       "    <tr style=\"text-align: right;\">\n",
       "      <th></th>\n",
       "      <th>trait</th>\n",
       "      <th>drug</th>\n",
       "      <th>score</th>\n",
       "      <th>true_class</th>\n",
       "      <th>method</th>\n",
       "      <th>n_top_genes</th>\n",
       "      <th>data</th>\n",
       "    </tr>\n",
       "  </thead>\n",
       "  <tbody>\n",
       "    <tr>\n",
       "      <th>0</th>\n",
       "      <td>DOID:0050741</td>\n",
       "      <td>DB00215</td>\n",
       "      <td>323.0</td>\n",
       "      <td>1</td>\n",
       "      <td>Gene-based</td>\n",
       "      <td>100.0</td>\n",
       "      <td>spredixcan-mashr-zscores-Pancreas-data</td>\n",
       "    </tr>\n",
       "    <tr>\n",
       "      <th>1</th>\n",
       "      <td>DOID:0050741</td>\n",
       "      <td>DB00704</td>\n",
       "      <td>230.0</td>\n",
       "      <td>1</td>\n",
       "      <td>Gene-based</td>\n",
       "      <td>100.0</td>\n",
       "      <td>spredixcan-mashr-zscores-Pancreas-data</td>\n",
       "    </tr>\n",
       "    <tr>\n",
       "      <th>2</th>\n",
       "      <td>DOID:0050741</td>\n",
       "      <td>DB00822</td>\n",
       "      <td>199.0</td>\n",
       "      <td>1</td>\n",
       "      <td>Gene-based</td>\n",
       "      <td>100.0</td>\n",
       "      <td>spredixcan-mashr-zscores-Pancreas-data</td>\n",
       "    </tr>\n",
       "    <tr>\n",
       "      <th>3</th>\n",
       "      <td>DOID:10283</td>\n",
       "      <td>DB00014</td>\n",
       "      <td>115.0</td>\n",
       "      <td>1</td>\n",
       "      <td>Gene-based</td>\n",
       "      <td>100.0</td>\n",
       "      <td>spredixcan-mashr-zscores-Pancreas-data</td>\n",
       "    </tr>\n",
       "    <tr>\n",
       "      <th>4</th>\n",
       "      <td>DOID:10283</td>\n",
       "      <td>DB00175</td>\n",
       "      <td>167.0</td>\n",
       "      <td>0</td>\n",
       "      <td>Gene-based</td>\n",
       "      <td>100.0</td>\n",
       "      <td>spredixcan-mashr-zscores-Pancreas-data</td>\n",
       "    </tr>\n",
       "  </tbody>\n",
       "</table>\n",
       "</div>"
      ],
      "text/plain": [
       "          trait     drug  score  true_class      method  n_top_genes  \\\n",
       "0  DOID:0050741  DB00215  323.0           1  Gene-based        100.0   \n",
       "1  DOID:0050741  DB00704  230.0           1  Gene-based        100.0   \n",
       "2  DOID:0050741  DB00822  199.0           1  Gene-based        100.0   \n",
       "3    DOID:10283  DB00014  115.0           1  Gene-based        100.0   \n",
       "4    DOID:10283  DB00175  167.0           0  Gene-based        100.0   \n",
       "\n",
       "                                     data  \n",
       "0  spredixcan-mashr-zscores-Pancreas-data  \n",
       "1  spredixcan-mashr-zscores-Pancreas-data  \n",
       "2  spredixcan-mashr-zscores-Pancreas-data  \n",
       "3  spredixcan-mashr-zscores-Pancreas-data  \n",
       "4  spredixcan-mashr-zscores-Pancreas-data  "
      ]
     },
     "execution_count": 18,
     "metadata": {},
     "output_type": "execute_result"
    }
   ],
   "source": [
    "predictions.head()"
   ]
  },
  {
   "cell_type": "code",
   "execution_count": 19,
   "metadata": {
    "execution": {
     "iopub.execute_input": "2021-04-22T17:56:35.748073Z",
     "iopub.status.busy": "2021-04-22T17:56:35.747722Z",
     "iopub.status.idle": "2021-04-22T17:56:35.777328Z",
     "shell.execute_reply": "2021-04-22T17:56:35.776950Z"
    },
    "papermill": {
     "duration": 0.127741,
     "end_time": "2021-04-22T17:56:35.777416",
     "exception": false,
     "start_time": "2021-04-22T17:56:35.649675",
     "status": "completed"
    },
    "tags": []
   },
   "outputs": [],
   "source": [
    "assert not predictions.isna().any().any()"
   ]
  },
  {
   "cell_type": "code",
   "execution_count": 20,
   "metadata": {
    "execution": {
     "iopub.execute_input": "2021-04-22T17:56:35.973431Z",
     "iopub.status.busy": "2021-04-22T17:56:35.973070Z",
     "iopub.status.idle": "2021-04-22T17:56:36.004272Z",
     "shell.execute_reply": "2021-04-22T17:56:36.003902Z"
    },
    "papermill": {
     "duration": 0.130391,
     "end_time": "2021-04-22T17:56:36.004354",
     "exception": false,
     "start_time": "2021-04-22T17:56:35.873963",
     "status": "completed"
    },
    "tags": []
   },
   "outputs": [
    {
     "data": {
      "text/plain": [
       "Module-based    158270\n",
       "Gene-based      158270\n",
       "Name: method, dtype: int64"
      ]
     },
     "metadata": {},
     "output_type": "display_data"
    }
   ],
   "source": [
    "_tmp = predictions[\"method\"].value_counts()\n",
    "display(_tmp)\n",
    "\n",
    "assert _tmp.loc[\"Gene-based\"] == N_TISSUES * N_THRESHOLDS * N_PREDICTIONS\n",
    "assert _tmp.loc[\"Module-based\"] == N_TISSUES * N_THRESHOLDS * N_PREDICTIONS"
   ]
  },
  {
   "cell_type": "code",
   "execution_count": 21,
   "metadata": {
    "execution": {
     "iopub.execute_input": "2021-04-22T17:56:36.203276Z",
     "iopub.status.busy": "2021-04-22T17:56:36.202878Z",
     "iopub.status.idle": "2021-04-22T17:56:36.270867Z",
     "shell.execute_reply": "2021-04-22T17:56:36.270496Z"
    },
    "papermill": {
     "duration": 0.169484,
     "end_time": "2021-04-22T17:56:36.270952",
     "exception": false,
     "start_time": "2021-04-22T17:56:36.101468",
     "status": "completed"
    },
    "tags": []
   },
   "outputs": [
    {
     "data": {
      "text/html": [
       "<div>\n",
       "<style scoped>\n",
       "    .dataframe tbody tr th:only-of-type {\n",
       "        vertical-align: middle;\n",
       "    }\n",
       "\n",
       "    .dataframe tbody tr th {\n",
       "        vertical-align: top;\n",
       "    }\n",
       "\n",
       "    .dataframe thead th {\n",
       "        text-align: right;\n",
       "    }\n",
       "</style>\n",
       "<table border=\"1\" class=\"dataframe\">\n",
       "  <thead>\n",
       "    <tr style=\"text-align: right;\">\n",
       "      <th></th>\n",
       "      <th></th>\n",
       "      <th>trait</th>\n",
       "      <th>drug</th>\n",
       "      <th>score</th>\n",
       "      <th>true_class</th>\n",
       "      <th>data</th>\n",
       "    </tr>\n",
       "    <tr>\n",
       "      <th>method</th>\n",
       "      <th>n_top_genes</th>\n",
       "      <th></th>\n",
       "      <th></th>\n",
       "      <th></th>\n",
       "      <th></th>\n",
       "      <th></th>\n",
       "    </tr>\n",
       "  </thead>\n",
       "  <tbody>\n",
       "    <tr>\n",
       "      <th rowspan=\"5\" valign=\"top\">Gene-based</th>\n",
       "      <th>-1.0</th>\n",
       "      <td>31654</td>\n",
       "      <td>31654</td>\n",
       "      <td>31654</td>\n",
       "      <td>31654</td>\n",
       "      <td>31654</td>\n",
       "    </tr>\n",
       "    <tr>\n",
       "      <th>50.0</th>\n",
       "      <td>31654</td>\n",
       "      <td>31654</td>\n",
       "      <td>31654</td>\n",
       "      <td>31654</td>\n",
       "      <td>31654</td>\n",
       "    </tr>\n",
       "    <tr>\n",
       "      <th>100.0</th>\n",
       "      <td>31654</td>\n",
       "      <td>31654</td>\n",
       "      <td>31654</td>\n",
       "      <td>31654</td>\n",
       "      <td>31654</td>\n",
       "    </tr>\n",
       "    <tr>\n",
       "      <th>250.0</th>\n",
       "      <td>31654</td>\n",
       "      <td>31654</td>\n",
       "      <td>31654</td>\n",
       "      <td>31654</td>\n",
       "      <td>31654</td>\n",
       "    </tr>\n",
       "    <tr>\n",
       "      <th>500.0</th>\n",
       "      <td>31654</td>\n",
       "      <td>31654</td>\n",
       "      <td>31654</td>\n",
       "      <td>31654</td>\n",
       "      <td>31654</td>\n",
       "    </tr>\n",
       "    <tr>\n",
       "      <th rowspan=\"5\" valign=\"top\">Module-based</th>\n",
       "      <th>-1.0</th>\n",
       "      <td>31654</td>\n",
       "      <td>31654</td>\n",
       "      <td>31654</td>\n",
       "      <td>31654</td>\n",
       "      <td>31654</td>\n",
       "    </tr>\n",
       "    <tr>\n",
       "      <th>5.0</th>\n",
       "      <td>31654</td>\n",
       "      <td>31654</td>\n",
       "      <td>31654</td>\n",
       "      <td>31654</td>\n",
       "      <td>31654</td>\n",
       "    </tr>\n",
       "    <tr>\n",
       "      <th>10.0</th>\n",
       "      <td>31654</td>\n",
       "      <td>31654</td>\n",
       "      <td>31654</td>\n",
       "      <td>31654</td>\n",
       "      <td>31654</td>\n",
       "    </tr>\n",
       "    <tr>\n",
       "      <th>25.0</th>\n",
       "      <td>31654</td>\n",
       "      <td>31654</td>\n",
       "      <td>31654</td>\n",
       "      <td>31654</td>\n",
       "      <td>31654</td>\n",
       "    </tr>\n",
       "    <tr>\n",
       "      <th>50.0</th>\n",
       "      <td>31654</td>\n",
       "      <td>31654</td>\n",
       "      <td>31654</td>\n",
       "      <td>31654</td>\n",
       "      <td>31654</td>\n",
       "    </tr>\n",
       "  </tbody>\n",
       "</table>\n",
       "</div>"
      ],
      "text/plain": [
       "                          trait   drug  score  true_class   data\n",
       "method       n_top_genes                                        \n",
       "Gene-based   -1.0         31654  31654  31654       31654  31654\n",
       "              50.0        31654  31654  31654       31654  31654\n",
       "              100.0       31654  31654  31654       31654  31654\n",
       "              250.0       31654  31654  31654       31654  31654\n",
       "              500.0       31654  31654  31654       31654  31654\n",
       "Module-based -1.0         31654  31654  31654       31654  31654\n",
       "              5.0         31654  31654  31654       31654  31654\n",
       "              10.0        31654  31654  31654       31654  31654\n",
       "              25.0        31654  31654  31654       31654  31654\n",
       "              50.0        31654  31654  31654       31654  31654"
      ]
     },
     "metadata": {},
     "output_type": "display_data"
    }
   ],
   "source": [
    "_tmp = predictions.groupby([\"method\", \"n_top_genes\"]).count()\n",
    "display(_tmp)\n",
    "\n",
    "assert np.all(_tmp == N_TISSUES * N_PREDICTIONS)"
   ]
  },
  {
   "cell_type": "code",
   "execution_count": 22,
   "metadata": {
    "execution": {
     "iopub.execute_input": "2021-04-22T17:56:36.470826Z",
     "iopub.status.busy": "2021-04-22T17:56:36.470463Z",
     "iopub.status.idle": "2021-04-22T17:56:36.628579Z",
     "shell.execute_reply": "2021-04-22T17:56:36.628164Z"
    },
    "papermill": {
     "duration": 0.257644,
     "end_time": "2021-04-22T17:56:36.628678",
     "exception": false,
     "start_time": "2021-04-22T17:56:36.371034",
     "status": "completed"
    },
    "tags": []
   },
   "outputs": [],
   "source": [
    "# FIXME: add this to the 011 notebooks... or maybe it's fine here (after submitting draft)\n",
    "def _get_tissue(x):\n",
    "    if x.endswith(\"-projection\"):\n",
    "        return x.split(\"spredixcan-mashr-zscores-\")[1].split(\"-projection\")[0]\n",
    "    else:\n",
    "        return x.split(\"spredixcan-mashr-zscores-\")[1].split(\"-data\")[0]\n",
    "\n",
    "\n",
    "predictions = predictions.assign(tissue=predictions[\"data\"].apply(_get_tissue))\n",
    "\n",
    "# # FIXME: remove or better document; here just for the most_signif version\n",
    "# predictions = predictions.assign(tissue=\"most_signif\")"
   ]
  },
  {
   "cell_type": "code",
   "execution_count": 23,
   "metadata": {
    "execution": {
     "iopub.execute_input": "2021-04-22T17:56:36.828101Z",
     "iopub.status.busy": "2021-04-22T17:56:36.827748Z",
     "iopub.status.idle": "2021-04-22T17:56:36.841188Z",
     "shell.execute_reply": "2021-04-22T17:56:36.840897Z"
    },
    "papermill": {
     "duration": 0.112464,
     "end_time": "2021-04-22T17:56:36.841271",
     "exception": false,
     "start_time": "2021-04-22T17:56:36.728807",
     "status": "completed"
    },
    "tags": []
   },
   "outputs": [
    {
     "data": {
      "text/html": [
       "<div>\n",
       "<style scoped>\n",
       "    .dataframe tbody tr th:only-of-type {\n",
       "        vertical-align: middle;\n",
       "    }\n",
       "\n",
       "    .dataframe tbody tr th {\n",
       "        vertical-align: top;\n",
       "    }\n",
       "\n",
       "    .dataframe thead th {\n",
       "        text-align: right;\n",
       "    }\n",
       "</style>\n",
       "<table border=\"1\" class=\"dataframe\">\n",
       "  <thead>\n",
       "    <tr style=\"text-align: right;\">\n",
       "      <th></th>\n",
       "      <th>trait</th>\n",
       "      <th>drug</th>\n",
       "      <th>score</th>\n",
       "      <th>true_class</th>\n",
       "      <th>method</th>\n",
       "      <th>n_top_genes</th>\n",
       "      <th>data</th>\n",
       "      <th>tissue</th>\n",
       "    </tr>\n",
       "  </thead>\n",
       "  <tbody>\n",
       "    <tr>\n",
       "      <th>0</th>\n",
       "      <td>DOID:0050741</td>\n",
       "      <td>DB00215</td>\n",
       "      <td>323.0</td>\n",
       "      <td>1</td>\n",
       "      <td>Gene-based</td>\n",
       "      <td>100.0</td>\n",
       "      <td>spredixcan-mashr-zscores-Pancreas-data</td>\n",
       "      <td>Pancreas</td>\n",
       "    </tr>\n",
       "    <tr>\n",
       "      <th>1</th>\n",
       "      <td>DOID:0050741</td>\n",
       "      <td>DB00704</td>\n",
       "      <td>230.0</td>\n",
       "      <td>1</td>\n",
       "      <td>Gene-based</td>\n",
       "      <td>100.0</td>\n",
       "      <td>spredixcan-mashr-zscores-Pancreas-data</td>\n",
       "      <td>Pancreas</td>\n",
       "    </tr>\n",
       "    <tr>\n",
       "      <th>2</th>\n",
       "      <td>DOID:0050741</td>\n",
       "      <td>DB00822</td>\n",
       "      <td>199.0</td>\n",
       "      <td>1</td>\n",
       "      <td>Gene-based</td>\n",
       "      <td>100.0</td>\n",
       "      <td>spredixcan-mashr-zscores-Pancreas-data</td>\n",
       "      <td>Pancreas</td>\n",
       "    </tr>\n",
       "    <tr>\n",
       "      <th>3</th>\n",
       "      <td>DOID:10283</td>\n",
       "      <td>DB00014</td>\n",
       "      <td>115.0</td>\n",
       "      <td>1</td>\n",
       "      <td>Gene-based</td>\n",
       "      <td>100.0</td>\n",
       "      <td>spredixcan-mashr-zscores-Pancreas-data</td>\n",
       "      <td>Pancreas</td>\n",
       "    </tr>\n",
       "    <tr>\n",
       "      <th>4</th>\n",
       "      <td>DOID:10283</td>\n",
       "      <td>DB00175</td>\n",
       "      <td>167.0</td>\n",
       "      <td>0</td>\n",
       "      <td>Gene-based</td>\n",
       "      <td>100.0</td>\n",
       "      <td>spredixcan-mashr-zscores-Pancreas-data</td>\n",
       "      <td>Pancreas</td>\n",
       "    </tr>\n",
       "  </tbody>\n",
       "</table>\n",
       "</div>"
      ],
      "text/plain": [
       "          trait     drug  score  true_class      method  n_top_genes  \\\n",
       "0  DOID:0050741  DB00215  323.0           1  Gene-based        100.0   \n",
       "1  DOID:0050741  DB00704  230.0           1  Gene-based        100.0   \n",
       "2  DOID:0050741  DB00822  199.0           1  Gene-based        100.0   \n",
       "3    DOID:10283  DB00014  115.0           1  Gene-based        100.0   \n",
       "4    DOID:10283  DB00175  167.0           0  Gene-based        100.0   \n",
       "\n",
       "                                     data    tissue  \n",
       "0  spredixcan-mashr-zscores-Pancreas-data  Pancreas  \n",
       "1  spredixcan-mashr-zscores-Pancreas-data  Pancreas  \n",
       "2  spredixcan-mashr-zscores-Pancreas-data  Pancreas  \n",
       "3  spredixcan-mashr-zscores-Pancreas-data  Pancreas  \n",
       "4  spredixcan-mashr-zscores-Pancreas-data  Pancreas  "
      ]
     },
     "execution_count": 23,
     "metadata": {},
     "output_type": "execute_result"
    }
   ],
   "source": [
    "predictions.head()"
   ]
  },
  {
   "cell_type": "code",
   "execution_count": 24,
   "metadata": {
    "execution": {
     "iopub.execute_input": "2021-04-22T17:56:37.037550Z",
     "iopub.status.busy": "2021-04-22T17:56:37.037186Z",
     "iopub.status.idle": "2021-04-22T17:56:37.137816Z",
     "shell.execute_reply": "2021-04-22T17:56:37.137448Z"
    },
    "papermill": {
     "duration": 0.199868,
     "end_time": "2021-04-22T17:56:37.137901",
     "exception": false,
     "start_time": "2021-04-22T17:56:36.938033",
     "status": "completed"
    },
    "tags": []
   },
   "outputs": [
    {
     "data": {
      "text/html": [
       "<div>\n",
       "<style scoped>\n",
       "    .dataframe tbody tr th:only-of-type {\n",
       "        vertical-align: middle;\n",
       "    }\n",
       "\n",
       "    .dataframe tbody tr th {\n",
       "        vertical-align: top;\n",
       "    }\n",
       "\n",
       "    .dataframe thead th {\n",
       "        text-align: right;\n",
       "    }\n",
       "</style>\n",
       "<table border=\"1\" class=\"dataframe\">\n",
       "  <thead>\n",
       "    <tr style=\"text-align: right;\">\n",
       "      <th></th>\n",
       "      <th></th>\n",
       "      <th>trait</th>\n",
       "      <th>drug</th>\n",
       "      <th>score</th>\n",
       "      <th>true_class</th>\n",
       "      <th>n_top_genes</th>\n",
       "      <th>data</th>\n",
       "    </tr>\n",
       "    <tr>\n",
       "      <th>method</th>\n",
       "      <th>tissue</th>\n",
       "      <th></th>\n",
       "      <th></th>\n",
       "      <th></th>\n",
       "      <th></th>\n",
       "      <th></th>\n",
       "      <th></th>\n",
       "    </tr>\n",
       "  </thead>\n",
       "  <tbody>\n",
       "    <tr>\n",
       "      <th rowspan=\"5\" valign=\"top\">Gene-based</th>\n",
       "      <th>Adipose_Subcutaneous</th>\n",
       "      <td>3230</td>\n",
       "      <td>3230</td>\n",
       "      <td>3230</td>\n",
       "      <td>3230</td>\n",
       "      <td>3230</td>\n",
       "      <td>3230</td>\n",
       "    </tr>\n",
       "    <tr>\n",
       "      <th>Adipose_Visceral_Omentum</th>\n",
       "      <td>3230</td>\n",
       "      <td>3230</td>\n",
       "      <td>3230</td>\n",
       "      <td>3230</td>\n",
       "      <td>3230</td>\n",
       "      <td>3230</td>\n",
       "    </tr>\n",
       "    <tr>\n",
       "      <th>Adrenal_Gland</th>\n",
       "      <td>3230</td>\n",
       "      <td>3230</td>\n",
       "      <td>3230</td>\n",
       "      <td>3230</td>\n",
       "      <td>3230</td>\n",
       "      <td>3230</td>\n",
       "    </tr>\n",
       "    <tr>\n",
       "      <th>Artery_Aorta</th>\n",
       "      <td>3230</td>\n",
       "      <td>3230</td>\n",
       "      <td>3230</td>\n",
       "      <td>3230</td>\n",
       "      <td>3230</td>\n",
       "      <td>3230</td>\n",
       "    </tr>\n",
       "    <tr>\n",
       "      <th>Artery_Coronary</th>\n",
       "      <td>3230</td>\n",
       "      <td>3230</td>\n",
       "      <td>3230</td>\n",
       "      <td>3230</td>\n",
       "      <td>3230</td>\n",
       "      <td>3230</td>\n",
       "    </tr>\n",
       "    <tr>\n",
       "      <th>...</th>\n",
       "      <th>...</th>\n",
       "      <td>...</td>\n",
       "      <td>...</td>\n",
       "      <td>...</td>\n",
       "      <td>...</td>\n",
       "      <td>...</td>\n",
       "      <td>...</td>\n",
       "    </tr>\n",
       "    <tr>\n",
       "      <th rowspan=\"5\" valign=\"top\">Module-based</th>\n",
       "      <th>Testis</th>\n",
       "      <td>3230</td>\n",
       "      <td>3230</td>\n",
       "      <td>3230</td>\n",
       "      <td>3230</td>\n",
       "      <td>3230</td>\n",
       "      <td>3230</td>\n",
       "    </tr>\n",
       "    <tr>\n",
       "      <th>Thyroid</th>\n",
       "      <td>3230</td>\n",
       "      <td>3230</td>\n",
       "      <td>3230</td>\n",
       "      <td>3230</td>\n",
       "      <td>3230</td>\n",
       "      <td>3230</td>\n",
       "    </tr>\n",
       "    <tr>\n",
       "      <th>Uterus</th>\n",
       "      <td>3230</td>\n",
       "      <td>3230</td>\n",
       "      <td>3230</td>\n",
       "      <td>3230</td>\n",
       "      <td>3230</td>\n",
       "      <td>3230</td>\n",
       "    </tr>\n",
       "    <tr>\n",
       "      <th>Vagina</th>\n",
       "      <td>3230</td>\n",
       "      <td>3230</td>\n",
       "      <td>3230</td>\n",
       "      <td>3230</td>\n",
       "      <td>3230</td>\n",
       "      <td>3230</td>\n",
       "    </tr>\n",
       "    <tr>\n",
       "      <th>Whole_Blood</th>\n",
       "      <td>3230</td>\n",
       "      <td>3230</td>\n",
       "      <td>3230</td>\n",
       "      <td>3230</td>\n",
       "      <td>3230</td>\n",
       "      <td>3230</td>\n",
       "    </tr>\n",
       "  </tbody>\n",
       "</table>\n",
       "<p>98 rows × 6 columns</p>\n",
       "</div>"
      ],
      "text/plain": [
       "                                       trait  drug  score  true_class  \\\n",
       "method       tissue                                                     \n",
       "Gene-based   Adipose_Subcutaneous       3230  3230   3230        3230   \n",
       "             Adipose_Visceral_Omentum   3230  3230   3230        3230   \n",
       "             Adrenal_Gland              3230  3230   3230        3230   \n",
       "             Artery_Aorta               3230  3230   3230        3230   \n",
       "             Artery_Coronary            3230  3230   3230        3230   \n",
       "...                                      ...   ...    ...         ...   \n",
       "Module-based Testis                     3230  3230   3230        3230   \n",
       "             Thyroid                    3230  3230   3230        3230   \n",
       "             Uterus                     3230  3230   3230        3230   \n",
       "             Vagina                     3230  3230   3230        3230   \n",
       "             Whole_Blood                3230  3230   3230        3230   \n",
       "\n",
       "                                       n_top_genes  data  \n",
       "method       tissue                                       \n",
       "Gene-based   Adipose_Subcutaneous             3230  3230  \n",
       "             Adipose_Visceral_Omentum         3230  3230  \n",
       "             Adrenal_Gland                    3230  3230  \n",
       "             Artery_Aorta                     3230  3230  \n",
       "             Artery_Coronary                  3230  3230  \n",
       "...                                            ...   ...  \n",
       "Module-based Testis                           3230  3230  \n",
       "             Thyroid                          3230  3230  \n",
       "             Uterus                           3230  3230  \n",
       "             Vagina                           3230  3230  \n",
       "             Whole_Blood                      3230  3230  \n",
       "\n",
       "[98 rows x 6 columns]"
      ]
     },
     "metadata": {},
     "output_type": "display_data"
    }
   ],
   "source": [
    "_tmp = predictions.groupby([\"method\", \"tissue\"]).count()\n",
    "display(_tmp)\n",
    "\n",
    "assert np.all(_tmp.loc[\"Gene-based\"] == (N_PREDICTIONS * N_THRESHOLDS))\n",
    "assert np.all(_tmp.loc[\"Module-based\"] == (N_PREDICTIONS * N_THRESHOLDS))"
   ]
  },
  {
   "cell_type": "markdown",
   "metadata": {
    "papermill": {
     "duration": 0.106087,
     "end_time": "2021-04-22T17:56:37.362592",
     "exception": false,
     "start_time": "2021-04-22T17:56:37.256505",
     "status": "completed"
    },
    "tags": []
   },
   "source": [
    "## Testing"
   ]
  },
  {
   "cell_type": "code",
   "execution_count": 25,
   "metadata": {
    "execution": {
     "iopub.execute_input": "2021-04-22T17:56:37.563026Z",
     "iopub.status.busy": "2021-04-22T17:56:37.562667Z",
     "iopub.status.idle": "2021-04-22T17:56:37.695736Z",
     "shell.execute_reply": "2021-04-22T17:56:37.695287Z"
    },
    "papermill": {
     "duration": 0.235143,
     "end_time": "2021-04-22T17:56:37.695837",
     "exception": false,
     "start_time": "2021-04-22T17:56:37.460694",
     "status": "completed"
    },
    "tags": []
   },
   "outputs": [
    {
     "data": {
      "text/plain": [
       "array([(646, 8)], dtype=object)"
      ]
     },
     "metadata": {},
     "output_type": "display_data"
    }
   ],
   "source": [
    "# all prediction tables should have the same shape\n",
    "predictions_shape = (\n",
    "    predictions.groupby([\"method\", \"n_top_genes\", \"tissue\"])\n",
    "    .apply(lambda x: x.shape)\n",
    "    .unique()\n",
    ")\n",
    "display(predictions_shape)\n",
    "\n",
    "assert predictions_shape.shape[0] == 1\n",
    "assert predictions_shape[0][0] == N_PREDICTIONS"
   ]
  },
  {
   "cell_type": "markdown",
   "metadata": {
    "papermill": {
     "duration": 0.098314,
     "end_time": "2021-04-22T17:56:37.898895",
     "exception": false,
     "start_time": "2021-04-22T17:56:37.800581",
     "status": "completed"
    },
    "tags": []
   },
   "source": [
    "## Save"
   ]
  },
  {
   "cell_type": "code",
   "execution_count": 26,
   "metadata": {
    "execution": {
     "iopub.execute_input": "2021-04-22T17:56:38.099430Z",
     "iopub.status.busy": "2021-04-22T17:56:38.099072Z",
     "iopub.status.idle": "2021-04-22T17:56:38.107731Z",
     "shell.execute_reply": "2021-04-22T17:56:38.107427Z"
    },
    "papermill": {
     "duration": 0.110111,
     "end_time": "2021-04-22T17:56:38.107816",
     "exception": false,
     "start_time": "2021-04-22T17:56:37.997705",
     "status": "completed"
    },
    "tags": []
   },
   "outputs": [
    {
     "data": {
      "text/plain": [
       "PosixPath('/home/miltondp/projects/labs/greenelab/phenoplier/base/results/drug_disease_analyses/lincs/predictions/predictions_results.pkl')"
      ]
     },
     "metadata": {},
     "output_type": "display_data"
    }
   ],
   "source": [
    "output_file = Path(OUTPUT_DIR, \"predictions\", \"predictions_results.pkl\").resolve()\n",
    "display(output_file)"
   ]
  },
  {
   "cell_type": "code",
   "execution_count": 27,
   "metadata": {
    "execution": {
     "iopub.execute_input": "2021-04-22T17:56:38.314965Z",
     "iopub.status.busy": "2021-04-22T17:56:38.314594Z",
     "iopub.status.idle": "2021-04-22T17:56:38.408987Z",
     "shell.execute_reply": "2021-04-22T17:56:38.408570Z"
    },
    "papermill": {
     "duration": 0.200587,
     "end_time": "2021-04-22T17:56:38.409092",
     "exception": false,
     "start_time": "2021-04-22T17:56:38.208505",
     "status": "completed"
    },
    "tags": []
   },
   "outputs": [],
   "source": [
    "predictions.to_pickle(output_file)"
   ]
  },
  {
   "cell_type": "markdown",
   "metadata": {
    "papermill": {
     "duration": 0.098268,
     "end_time": "2021-04-22T17:56:38.613404",
     "exception": false,
     "start_time": "2021-04-22T17:56:38.515136",
     "status": "completed"
    },
    "tags": []
   },
   "source": [
    "# Aggregate predictions"
   ]
  },
  {
   "cell_type": "code",
   "execution_count": 28,
   "metadata": {
    "execution": {
     "iopub.execute_input": "2021-04-22T17:56:38.816029Z",
     "iopub.status.busy": "2021-04-22T17:56:38.815654Z",
     "iopub.status.idle": "2021-04-22T17:56:38.823511Z",
     "shell.execute_reply": "2021-04-22T17:56:38.823153Z"
    },
    "papermill": {
     "duration": 0.11043,
     "end_time": "2021-04-22T17:56:38.823595",
     "exception": false,
     "start_time": "2021-04-22T17:56:38.713165",
     "status": "completed"
    },
    "tags": []
   },
   "outputs": [],
   "source": [
    "def _reduce_mean(x):\n",
    "    return pd.Series(\n",
    "        {\n",
    "            \"score\": x[\"score\"].mean(),\n",
    "            \"true_class\": x[\"true_class\"].unique()[0]\n",
    "            #             if x[\"true_class\"].unique().shape[0] == 1\n",
    "            #             else None,\n",
    "        }\n",
    "    )\n",
    "\n",
    "\n",
    "def _reduce_max(x):\n",
    "    return pd.Series(\n",
    "        {\n",
    "            \"score\": x[\"score\"].max(),\n",
    "            \"true_class\": x[\"true_class\"].unique()[0]\n",
    "            #             if x[\"true_class\"].unique().shape[0] == 1\n",
    "            #             else None,\n",
    "        }\n",
    "    )\n",
    "\n",
    "\n",
    "# def _reduce_best(x):\n",
    "# #     assert x[\"true_class\"].unique() == FINISH\n",
    "#     x_stand = (x[\"score\"] - x[\"score\"].mean()) / x[\"score\"].std()\n",
    "\n",
    "#     x_max_score = x_stand.max()\n",
    "#     x_min_score = x_stand.min()\n",
    "\n",
    "#     # select best score\n",
    "#     x_selected = x[\"score\"].max()\n",
    "#     if abs(x_min_score) > abs(x_max_score):\n",
    "#         x_selected = x[\"score\"].min()\n",
    "\n",
    "#     return pd.Series(\n",
    "#         {\n",
    "#             \"score\": x_selected,\n",
    "#             \"true_class\": x[\"true_class\"].unique()[0]\n",
    "#             #             if x[\"true_class\"].unique().shape[0] == 1\n",
    "#             #             else None,\n",
    "#         }\n",
    "#     )"
   ]
  },
  {
   "cell_type": "code",
   "execution_count": 29,
   "metadata": {
    "execution": {
     "iopub.execute_input": "2021-04-22T17:56:39.026589Z",
     "iopub.status.busy": "2021-04-22T17:56:39.026211Z",
     "iopub.status.idle": "2021-04-22T17:57:25.082627Z",
     "shell.execute_reply": "2021-04-22T17:57:25.082222Z"
    },
    "papermill": {
     "duration": 46.159169,
     "end_time": "2021-04-22T17:57:25.082714",
     "exception": false,
     "start_time": "2021-04-22T17:56:38.923545",
     "status": "completed"
    },
    "tags": []
   },
   "outputs": [],
   "source": [
    "predictions_avg = (\n",
    "    predictions.groupby([\"trait\", \"drug\", \"method\", \"tissue\"])\n",
    "    #     predictions.groupby([\"trait\", \"drug\", \"method\"])\n",
    "    .apply(_reduce_mean)\n",
    "    .dropna()\n",
    "    .groupby([\"trait\", \"drug\", \"method\"])\n",
    "    .apply(_reduce_max)\n",
    "    .dropna()\n",
    "    .sort_index()\n",
    "    .reset_index()\n",
    ")"
   ]
  },
  {
   "cell_type": "code",
   "execution_count": 30,
   "metadata": {
    "execution": {
     "iopub.execute_input": "2021-04-22T17:57:25.286742Z",
     "iopub.status.busy": "2021-04-22T17:57:25.286383Z",
     "iopub.status.idle": "2021-04-22T17:57:25.294777Z",
     "shell.execute_reply": "2021-04-22T17:57:25.294419Z"
    },
    "papermill": {
     "duration": 0.111108,
     "end_time": "2021-04-22T17:57:25.294858",
     "exception": false,
     "start_time": "2021-04-22T17:57:25.183750",
     "status": "completed"
    },
    "tags": []
   },
   "outputs": [
    {
     "data": {
      "text/plain": [
       "(1292, 5)"
      ]
     },
     "metadata": {},
     "output_type": "display_data"
    }
   ],
   "source": [
    "# predictions_avg should have twice the number of rows in the predictions table, since has both methods\n",
    "display(predictions_avg.shape)\n",
    "assert predictions_avg.shape[0] == int(predictions_shape[0][0] * 2)"
   ]
  },
  {
   "cell_type": "code",
   "execution_count": 31,
   "metadata": {
    "execution": {
     "iopub.execute_input": "2021-04-22T17:57:25.499701Z",
     "iopub.status.busy": "2021-04-22T17:57:25.499337Z",
     "iopub.status.idle": "2021-04-22T17:57:25.508549Z",
     "shell.execute_reply": "2021-04-22T17:57:25.508238Z"
    },
    "papermill": {
     "duration": 0.113883,
     "end_time": "2021-04-22T17:57:25.508652",
     "exception": false,
     "start_time": "2021-04-22T17:57:25.394769",
     "status": "completed"
    },
    "tags": []
   },
   "outputs": [],
   "source": [
    "assert predictions_avg.dropna().shape == predictions_avg.shape"
   ]
  },
  {
   "cell_type": "code",
   "execution_count": 32,
   "metadata": {
    "execution": {
     "iopub.execute_input": "2021-04-22T17:57:25.711020Z",
     "iopub.status.busy": "2021-04-22T17:57:25.710667Z",
     "iopub.status.idle": "2021-04-22T17:57:25.723138Z",
     "shell.execute_reply": "2021-04-22T17:57:25.722783Z"
    },
    "papermill": {
     "duration": 0.11325,
     "end_time": "2021-04-22T17:57:25.723220",
     "exception": false,
     "start_time": "2021-04-22T17:57:25.609970",
     "status": "completed"
    },
    "tags": []
   },
   "outputs": [
    {
     "data": {
      "text/html": [
       "<div>\n",
       "<style scoped>\n",
       "    .dataframe tbody tr th:only-of-type {\n",
       "        vertical-align: middle;\n",
       "    }\n",
       "\n",
       "    .dataframe tbody tr th {\n",
       "        vertical-align: top;\n",
       "    }\n",
       "\n",
       "    .dataframe thead th {\n",
       "        text-align: right;\n",
       "    }\n",
       "</style>\n",
       "<table border=\"1\" class=\"dataframe\">\n",
       "  <thead>\n",
       "    <tr style=\"text-align: right;\">\n",
       "      <th></th>\n",
       "      <th>trait</th>\n",
       "      <th>drug</th>\n",
       "      <th>method</th>\n",
       "      <th>score</th>\n",
       "      <th>true_class</th>\n",
       "    </tr>\n",
       "  </thead>\n",
       "  <tbody>\n",
       "    <tr>\n",
       "      <th>0</th>\n",
       "      <td>DOID:0050741</td>\n",
       "      <td>DB00215</td>\n",
       "      <td>Gene-based</td>\n",
       "      <td>359.0</td>\n",
       "      <td>1.0</td>\n",
       "    </tr>\n",
       "    <tr>\n",
       "      <th>1</th>\n",
       "      <td>DOID:0050741</td>\n",
       "      <td>DB00215</td>\n",
       "      <td>Module-based</td>\n",
       "      <td>437.8</td>\n",
       "      <td>1.0</td>\n",
       "    </tr>\n",
       "    <tr>\n",
       "      <th>2</th>\n",
       "      <td>DOID:0050741</td>\n",
       "      <td>DB00704</td>\n",
       "      <td>Gene-based</td>\n",
       "      <td>395.8</td>\n",
       "      <td>1.0</td>\n",
       "    </tr>\n",
       "    <tr>\n",
       "      <th>3</th>\n",
       "      <td>DOID:0050741</td>\n",
       "      <td>DB00704</td>\n",
       "      <td>Module-based</td>\n",
       "      <td>562.8</td>\n",
       "      <td>1.0</td>\n",
       "    </tr>\n",
       "    <tr>\n",
       "      <th>4</th>\n",
       "      <td>DOID:0050741</td>\n",
       "      <td>DB00822</td>\n",
       "      <td>Gene-based</td>\n",
       "      <td>556.8</td>\n",
       "      <td>1.0</td>\n",
       "    </tr>\n",
       "  </tbody>\n",
       "</table>\n",
       "</div>"
      ],
      "text/plain": [
       "          trait     drug        method  score  true_class\n",
       "0  DOID:0050741  DB00215    Gene-based  359.0         1.0\n",
       "1  DOID:0050741  DB00215  Module-based  437.8         1.0\n",
       "2  DOID:0050741  DB00704    Gene-based  395.8         1.0\n",
       "3  DOID:0050741  DB00704  Module-based  562.8         1.0\n",
       "4  DOID:0050741  DB00822    Gene-based  556.8         1.0"
      ]
     },
     "execution_count": 32,
     "metadata": {},
     "output_type": "execute_result"
    }
   ],
   "source": [
    "predictions_avg.head()"
   ]
  },
  {
   "cell_type": "markdown",
   "metadata": {
    "papermill": {
     "duration": 0.099025,
     "end_time": "2021-04-22T17:57:25.921806",
     "exception": false,
     "start_time": "2021-04-22T17:57:25.822781",
     "status": "completed"
    },
    "tags": []
   },
   "source": [
    "## Save"
   ]
  },
  {
   "cell_type": "code",
   "execution_count": 33,
   "metadata": {
    "execution": {
     "iopub.execute_input": "2021-04-22T17:57:26.126760Z",
     "iopub.status.busy": "2021-04-22T17:57:26.126405Z",
     "iopub.status.idle": "2021-04-22T17:57:26.134885Z",
     "shell.execute_reply": "2021-04-22T17:57:26.134529Z"
    },
    "papermill": {
     "duration": 0.11172,
     "end_time": "2021-04-22T17:57:26.134967",
     "exception": false,
     "start_time": "2021-04-22T17:57:26.023247",
     "status": "completed"
    },
    "tags": []
   },
   "outputs": [
    {
     "data": {
      "text/plain": [
       "PosixPath('/home/miltondp/projects/labs/greenelab/phenoplier/base/results/drug_disease_analyses/lincs/predictions/predictions_results_aggregated.pkl')"
      ]
     },
     "metadata": {},
     "output_type": "display_data"
    }
   ],
   "source": [
    "output_file = Path(\n",
    "    OUTPUT_DIR, \"predictions\", \"predictions_results_aggregated.pkl\"\n",
    ").resolve()\n",
    "display(output_file)"
   ]
  },
  {
   "cell_type": "code",
   "execution_count": 34,
   "metadata": {
    "execution": {
     "iopub.execute_input": "2021-04-22T17:57:26.338054Z",
     "iopub.status.busy": "2021-04-22T17:57:26.337697Z",
     "iopub.status.idle": "2021-04-22T17:57:26.345092Z",
     "shell.execute_reply": "2021-04-22T17:57:26.345384Z"
    },
    "papermill": {
     "duration": 0.110167,
     "end_time": "2021-04-22T17:57:26.345485",
     "exception": false,
     "start_time": "2021-04-22T17:57:26.235318",
     "status": "completed"
    },
    "tags": []
   },
   "outputs": [],
   "source": [
    "predictions_avg.to_pickle(output_file)"
   ]
  },
  {
   "cell_type": "markdown",
   "metadata": {
    "papermill": {
     "duration": 0.102063,
     "end_time": "2021-04-22T17:57:26.546883",
     "exception": false,
     "start_time": "2021-04-22T17:57:26.444820",
     "status": "completed"
    },
    "tags": []
   },
   "source": [
    "# ROC"
   ]
  },
  {
   "cell_type": "code",
   "execution_count": 35,
   "metadata": {
    "execution": {
     "iopub.execute_input": "2021-04-22T17:57:26.748885Z",
     "iopub.status.busy": "2021-04-22T17:57:26.748466Z",
     "iopub.status.idle": "2021-04-22T17:57:26.952116Z",
     "shell.execute_reply": "2021-04-22T17:57:26.951742Z"
    },
    "papermill": {
     "duration": 0.306094,
     "end_time": "2021-04-22T17:57:26.952199",
     "exception": false,
     "start_time": "2021-04-22T17:57:26.646105",
     "status": "completed"
    },
    "tags": []
   },
   "outputs": [],
   "source": [
    "from sklearn.metrics import roc_auc_score"
   ]
  },
  {
   "cell_type": "markdown",
   "metadata": {
    "papermill": {
     "duration": 0.099744,
     "end_time": "2021-04-22T17:57:27.152965",
     "exception": false,
     "start_time": "2021-04-22T17:57:27.053221",
     "status": "completed"
    },
    "tags": []
   },
   "source": [
    "## Predictions"
   ]
  },
  {
   "cell_type": "code",
   "execution_count": 36,
   "metadata": {
    "execution": {
     "iopub.execute_input": "2021-04-22T17:57:27.358040Z",
     "iopub.status.busy": "2021-04-22T17:57:27.357672Z",
     "iopub.status.idle": "2021-04-22T17:57:27.988816Z",
     "shell.execute_reply": "2021-04-22T17:57:27.988206Z"
    },
    "papermill": {
     "duration": 0.736341,
     "end_time": "2021-04-22T17:57:27.988900",
     "exception": false,
     "start_time": "2021-04-22T17:57:27.252559",
     "status": "completed"
    },
    "tags": []
   },
   "outputs": [
    {
     "data": {
      "text/html": [
       "<div>\n",
       "<style scoped>\n",
       "    .dataframe tbody tr th:only-of-type {\n",
       "        vertical-align: middle;\n",
       "    }\n",
       "\n",
       "    .dataframe tbody tr th {\n",
       "        vertical-align: top;\n",
       "    }\n",
       "\n",
       "    .dataframe thead th {\n",
       "        text-align: right;\n",
       "    }\n",
       "</style>\n",
       "<table border=\"1\" class=\"dataframe\">\n",
       "  <thead>\n",
       "    <tr style=\"text-align: right;\">\n",
       "      <th></th>\n",
       "      <th></th>\n",
       "      <th>count</th>\n",
       "      <th>mean</th>\n",
       "      <th>std</th>\n",
       "      <th>min</th>\n",
       "      <th>25%</th>\n",
       "      <th>50%</th>\n",
       "      <th>75%</th>\n",
       "      <th>max</th>\n",
       "    </tr>\n",
       "    <tr>\n",
       "      <th>method</th>\n",
       "      <th>n_top_genes</th>\n",
       "      <th></th>\n",
       "      <th></th>\n",
       "      <th></th>\n",
       "      <th></th>\n",
       "      <th></th>\n",
       "      <th></th>\n",
       "      <th></th>\n",
       "      <th></th>\n",
       "    </tr>\n",
       "  </thead>\n",
       "  <tbody>\n",
       "    <tr>\n",
       "      <th rowspan=\"5\" valign=\"top\">Gene-based</th>\n",
       "      <th>-1.0</th>\n",
       "      <td>49.0</td>\n",
       "      <td>0.537316</td>\n",
       "      <td>0.022095</td>\n",
       "      <td>0.488657</td>\n",
       "      <td>0.524654</td>\n",
       "      <td>0.539769</td>\n",
       "      <td>0.549363</td>\n",
       "      <td>0.591238</td>\n",
       "    </tr>\n",
       "    <tr>\n",
       "      <th>50.0</th>\n",
       "      <td>49.0</td>\n",
       "      <td>0.521783</td>\n",
       "      <td>0.022669</td>\n",
       "      <td>0.471299</td>\n",
       "      <td>0.509223</td>\n",
       "      <td>0.519465</td>\n",
       "      <td>0.534180</td>\n",
       "      <td>0.578670</td>\n",
       "    </tr>\n",
       "    <tr>\n",
       "      <th>100.0</th>\n",
       "      <td>49.0</td>\n",
       "      <td>0.526877</td>\n",
       "      <td>0.018609</td>\n",
       "      <td>0.488313</td>\n",
       "      <td>0.513366</td>\n",
       "      <td>0.526554</td>\n",
       "      <td>0.541049</td>\n",
       "      <td>0.566846</td>\n",
       "    </tr>\n",
       "    <tr>\n",
       "      <th>250.0</th>\n",
       "      <td>49.0</td>\n",
       "      <td>0.540346</td>\n",
       "      <td>0.021609</td>\n",
       "      <td>0.500138</td>\n",
       "      <td>0.529472</td>\n",
       "      <td>0.538378</td>\n",
       "      <td>0.560486</td>\n",
       "      <td>0.579923</td>\n",
       "    </tr>\n",
       "    <tr>\n",
       "      <th>500.0</th>\n",
       "      <td>49.0</td>\n",
       "      <td>0.539265</td>\n",
       "      <td>0.020471</td>\n",
       "      <td>0.505479</td>\n",
       "      <td>0.525439</td>\n",
       "      <td>0.537566</td>\n",
       "      <td>0.551318</td>\n",
       "      <td>0.598107</td>\n",
       "    </tr>\n",
       "    <tr>\n",
       "      <th rowspan=\"5\" valign=\"top\">Module-based</th>\n",
       "      <th>-1.0</th>\n",
       "      <td>49.0</td>\n",
       "      <td>0.550970</td>\n",
       "      <td>0.021875</td>\n",
       "      <td>0.488396</td>\n",
       "      <td>0.536850</td>\n",
       "      <td>0.552254</td>\n",
       "      <td>0.565001</td>\n",
       "      <td>0.599869</td>\n",
       "    </tr>\n",
       "    <tr>\n",
       "      <th>5.0</th>\n",
       "      <td>49.0</td>\n",
       "      <td>0.546616</td>\n",
       "      <td>0.022894</td>\n",
       "      <td>0.483261</td>\n",
       "      <td>0.528784</td>\n",
       "      <td>0.549019</td>\n",
       "      <td>0.561422</td>\n",
       "      <td>0.605431</td>\n",
       "    </tr>\n",
       "    <tr>\n",
       "      <th>10.0</th>\n",
       "      <td>49.0</td>\n",
       "      <td>0.549093</td>\n",
       "      <td>0.023742</td>\n",
       "      <td>0.478016</td>\n",
       "      <td>0.536479</td>\n",
       "      <td>0.546349</td>\n",
       "      <td>0.560335</td>\n",
       "      <td>0.612864</td>\n",
       "    </tr>\n",
       "    <tr>\n",
       "      <th>25.0</th>\n",
       "      <td>49.0</td>\n",
       "      <td>0.546519</td>\n",
       "      <td>0.028970</td>\n",
       "      <td>0.490034</td>\n",
       "      <td>0.523759</td>\n",
       "      <td>0.544105</td>\n",
       "      <td>0.567382</td>\n",
       "      <td>0.611074</td>\n",
       "    </tr>\n",
       "    <tr>\n",
       "      <th>50.0</th>\n",
       "      <td>49.0</td>\n",
       "      <td>0.546046</td>\n",
       "      <td>0.026593</td>\n",
       "      <td>0.485353</td>\n",
       "      <td>0.531936</td>\n",
       "      <td>0.545826</td>\n",
       "      <td>0.562413</td>\n",
       "      <td>0.596345</td>\n",
       "    </tr>\n",
       "  </tbody>\n",
       "</table>\n",
       "</div>"
      ],
      "text/plain": [
       "                          count      mean       std       min       25%  \\\n",
       "method       n_top_genes                                                  \n",
       "Gene-based   -1.0          49.0  0.537316  0.022095  0.488657  0.524654   \n",
       "              50.0         49.0  0.521783  0.022669  0.471299  0.509223   \n",
       "              100.0        49.0  0.526877  0.018609  0.488313  0.513366   \n",
       "              250.0        49.0  0.540346  0.021609  0.500138  0.529472   \n",
       "              500.0        49.0  0.539265  0.020471  0.505479  0.525439   \n",
       "Module-based -1.0          49.0  0.550970  0.021875  0.488396  0.536850   \n",
       "              5.0          49.0  0.546616  0.022894  0.483261  0.528784   \n",
       "              10.0         49.0  0.549093  0.023742  0.478016  0.536479   \n",
       "              25.0         49.0  0.546519  0.028970  0.490034  0.523759   \n",
       "              50.0         49.0  0.546046  0.026593  0.485353  0.531936   \n",
       "\n",
       "                               50%       75%       max  \n",
       "method       n_top_genes                                \n",
       "Gene-based   -1.0         0.539769  0.549363  0.591238  \n",
       "              50.0        0.519465  0.534180  0.578670  \n",
       "              100.0       0.526554  0.541049  0.566846  \n",
       "              250.0       0.538378  0.560486  0.579923  \n",
       "              500.0       0.537566  0.551318  0.598107  \n",
       "Module-based -1.0         0.552254  0.565001  0.599869  \n",
       "              5.0         0.549019  0.561422  0.605431  \n",
       "              10.0        0.546349  0.560335  0.612864  \n",
       "              25.0        0.544105  0.567382  0.611074  \n",
       "              50.0        0.545826  0.562413  0.596345  "
      ]
     },
     "execution_count": 36,
     "metadata": {},
     "output_type": "execute_result"
    }
   ],
   "source": [
    "# by method/n_top_genes\n",
    "predictions.groupby([\"method\", \"tissue\", \"n_top_genes\"]).apply(\n",
    "    lambda x: roc_auc_score(x[\"true_class\"], x[\"score\"])\n",
    ").groupby([\"method\", \"n_top_genes\"]).describe()"
   ]
  },
  {
   "cell_type": "code",
   "execution_count": 37,
   "metadata": {
    "execution": {
     "iopub.execute_input": "2021-04-22T17:57:28.199408Z",
     "iopub.status.busy": "2021-04-22T17:57:28.199027Z",
     "iopub.status.idle": "2021-04-22T17:57:28.978431Z",
     "shell.execute_reply": "2021-04-22T17:57:28.978068Z"
    },
    "papermill": {
     "duration": 0.882246,
     "end_time": "2021-04-22T17:57:28.978516",
     "exception": false,
     "start_time": "2021-04-22T17:57:28.096270",
     "status": "completed"
    },
    "tags": []
   },
   "outputs": [
    {
     "data": {
      "text/html": [
       "<div>\n",
       "<style scoped>\n",
       "    .dataframe tbody tr th:only-of-type {\n",
       "        vertical-align: middle;\n",
       "    }\n",
       "\n",
       "    .dataframe tbody tr th {\n",
       "        vertical-align: top;\n",
       "    }\n",
       "\n",
       "    .dataframe thead th {\n",
       "        text-align: right;\n",
       "    }\n",
       "</style>\n",
       "<table border=\"1\" class=\"dataframe\">\n",
       "  <thead>\n",
       "    <tr style=\"text-align: right;\">\n",
       "      <th></th>\n",
       "      <th></th>\n",
       "      <th>count</th>\n",
       "      <th>mean</th>\n",
       "      <th>std</th>\n",
       "      <th>min</th>\n",
       "      <th>25%</th>\n",
       "      <th>50%</th>\n",
       "      <th>75%</th>\n",
       "      <th>max</th>\n",
       "    </tr>\n",
       "    <tr>\n",
       "      <th>method</th>\n",
       "      <th>tissue</th>\n",
       "      <th></th>\n",
       "      <th></th>\n",
       "      <th></th>\n",
       "      <th></th>\n",
       "      <th></th>\n",
       "      <th></th>\n",
       "      <th></th>\n",
       "      <th></th>\n",
       "    </tr>\n",
       "  </thead>\n",
       "  <tbody>\n",
       "    <tr>\n",
       "      <th rowspan=\"5\" valign=\"top\">Gene-based</th>\n",
       "      <th>Adipose_Subcutaneous</th>\n",
       "      <td>5.0</td>\n",
       "      <td>0.536630</td>\n",
       "      <td>0.013501</td>\n",
       "      <td>0.520180</td>\n",
       "      <td>0.530449</td>\n",
       "      <td>0.531317</td>\n",
       "      <td>0.549707</td>\n",
       "      <td>0.551497</td>\n",
       "    </tr>\n",
       "    <tr>\n",
       "      <th>Adipose_Visceral_Omentum</th>\n",
       "      <td>5.0</td>\n",
       "      <td>0.518418</td>\n",
       "      <td>0.022685</td>\n",
       "      <td>0.485064</td>\n",
       "      <td>0.504405</td>\n",
       "      <td>0.533285</td>\n",
       "      <td>0.534180</td>\n",
       "      <td>0.535157</td>\n",
       "    </tr>\n",
       "    <tr>\n",
       "      <th>Adrenal_Gland</th>\n",
       "      <td>5.0</td>\n",
       "      <td>0.524940</td>\n",
       "      <td>0.019282</td>\n",
       "      <td>0.499381</td>\n",
       "      <td>0.509223</td>\n",
       "      <td>0.535240</td>\n",
       "      <td>0.539769</td>\n",
       "      <td>0.541090</td>\n",
       "    </tr>\n",
       "    <tr>\n",
       "      <th>Artery_Aorta</th>\n",
       "      <td>5.0</td>\n",
       "      <td>0.507475</td>\n",
       "      <td>0.005750</td>\n",
       "      <td>0.501845</td>\n",
       "      <td>0.503331</td>\n",
       "      <td>0.504887</td>\n",
       "      <td>0.513284</td>\n",
       "      <td>0.514027</td>\n",
       "    </tr>\n",
       "    <tr>\n",
       "      <th>Artery_Coronary</th>\n",
       "      <td>5.0</td>\n",
       "      <td>0.545325</td>\n",
       "      <td>0.005630</td>\n",
       "      <td>0.539053</td>\n",
       "      <td>0.541049</td>\n",
       "      <td>0.544628</td>\n",
       "      <td>0.549295</td>\n",
       "      <td>0.552598</td>\n",
       "    </tr>\n",
       "    <tr>\n",
       "      <th>...</th>\n",
       "      <th>...</th>\n",
       "      <td>...</td>\n",
       "      <td>...</td>\n",
       "      <td>...</td>\n",
       "      <td>...</td>\n",
       "      <td>...</td>\n",
       "      <td>...</td>\n",
       "      <td>...</td>\n",
       "      <td>...</td>\n",
       "    </tr>\n",
       "    <tr>\n",
       "      <th rowspan=\"5\" valign=\"top\">Module-based</th>\n",
       "      <th>Testis</th>\n",
       "      <td>5.0</td>\n",
       "      <td>0.552882</td>\n",
       "      <td>0.016990</td>\n",
       "      <td>0.534703</td>\n",
       "      <td>0.541737</td>\n",
       "      <td>0.548937</td>\n",
       "      <td>0.561422</td>\n",
       "      <td>0.577610</td>\n",
       "    </tr>\n",
       "    <tr>\n",
       "      <th>Thyroid</th>\n",
       "      <td>5.0</td>\n",
       "      <td>0.559365</td>\n",
       "      <td>0.008815</td>\n",
       "      <td>0.550933</td>\n",
       "      <td>0.551979</td>\n",
       "      <td>0.557334</td>\n",
       "      <td>0.565001</td>\n",
       "      <td>0.571581</td>\n",
       "    </tr>\n",
       "    <tr>\n",
       "      <th>Uterus</th>\n",
       "      <td>5.0</td>\n",
       "      <td>0.537946</td>\n",
       "      <td>0.017693</td>\n",
       "      <td>0.516464</td>\n",
       "      <td>0.523759</td>\n",
       "      <td>0.539342</td>\n",
       "      <td>0.554856</td>\n",
       "      <td>0.555310</td>\n",
       "    </tr>\n",
       "    <tr>\n",
       "      <th>Vagina</th>\n",
       "      <td>5.0</td>\n",
       "      <td>0.542282</td>\n",
       "      <td>0.017486</td>\n",
       "      <td>0.514660</td>\n",
       "      <td>0.540980</td>\n",
       "      <td>0.541779</td>\n",
       "      <td>0.553452</td>\n",
       "      <td>0.560541</td>\n",
       "    </tr>\n",
       "    <tr>\n",
       "      <th>Whole_Blood</th>\n",
       "      <td>5.0</td>\n",
       "      <td>0.555040</td>\n",
       "      <td>0.029789</td>\n",
       "      <td>0.528660</td>\n",
       "      <td>0.538048</td>\n",
       "      <td>0.550809</td>\n",
       "      <td>0.552254</td>\n",
       "      <td>0.605431</td>\n",
       "    </tr>\n",
       "  </tbody>\n",
       "</table>\n",
       "<p>98 rows × 8 columns</p>\n",
       "</div>"
      ],
      "text/plain": [
       "                                       count      mean       std       min  \\\n",
       "method       tissue                                                          \n",
       "Gene-based   Adipose_Subcutaneous        5.0  0.536630  0.013501  0.520180   \n",
       "             Adipose_Visceral_Omentum    5.0  0.518418  0.022685  0.485064   \n",
       "             Adrenal_Gland               5.0  0.524940  0.019282  0.499381   \n",
       "             Artery_Aorta                5.0  0.507475  0.005750  0.501845   \n",
       "             Artery_Coronary             5.0  0.545325  0.005630  0.539053   \n",
       "...                                      ...       ...       ...       ...   \n",
       "Module-based Testis                      5.0  0.552882  0.016990  0.534703   \n",
       "             Thyroid                     5.0  0.559365  0.008815  0.550933   \n",
       "             Uterus                      5.0  0.537946  0.017693  0.516464   \n",
       "             Vagina                      5.0  0.542282  0.017486  0.514660   \n",
       "             Whole_Blood                 5.0  0.555040  0.029789  0.528660   \n",
       "\n",
       "                                            25%       50%       75%       max  \n",
       "method       tissue                                                            \n",
       "Gene-based   Adipose_Subcutaneous      0.530449  0.531317  0.549707  0.551497  \n",
       "             Adipose_Visceral_Omentum  0.504405  0.533285  0.534180  0.535157  \n",
       "             Adrenal_Gland             0.509223  0.535240  0.539769  0.541090  \n",
       "             Artery_Aorta              0.503331  0.504887  0.513284  0.514027  \n",
       "             Artery_Coronary           0.541049  0.544628  0.549295  0.552598  \n",
       "...                                         ...       ...       ...       ...  \n",
       "Module-based Testis                    0.541737  0.548937  0.561422  0.577610  \n",
       "             Thyroid                   0.551979  0.557334  0.565001  0.571581  \n",
       "             Uterus                    0.523759  0.539342  0.554856  0.555310  \n",
       "             Vagina                    0.540980  0.541779  0.553452  0.560541  \n",
       "             Whole_Blood               0.538048  0.550809  0.552254  0.605431  \n",
       "\n",
       "[98 rows x 8 columns]"
      ]
     },
     "execution_count": 37,
     "metadata": {},
     "output_type": "execute_result"
    }
   ],
   "source": [
    "# by method/tissue\n",
    "predictions.groupby([\"method\", \"tissue\", \"n_top_genes\"]).apply(\n",
    "    lambda x: roc_auc_score(x[\"true_class\"], x[\"score\"])\n",
    ").groupby([\"method\", \"tissue\"]).describe()"
   ]
  },
  {
   "cell_type": "markdown",
   "metadata": {
    "papermill": {
     "duration": 0.100712,
     "end_time": "2021-04-22T17:57:29.180650",
     "exception": false,
     "start_time": "2021-04-22T17:57:29.079938",
     "status": "completed"
    },
    "tags": []
   },
   "source": [
    "## Predictions avg"
   ]
  },
  {
   "cell_type": "code",
   "execution_count": 38,
   "metadata": {
    "execution": {
     "iopub.execute_input": "2021-04-22T17:57:29.387654Z",
     "iopub.status.busy": "2021-04-22T17:57:29.387287Z",
     "iopub.status.idle": "2021-04-22T17:57:29.401851Z",
     "shell.execute_reply": "2021-04-22T17:57:29.401492Z"
    },
    "papermill": {
     "duration": 0.119585,
     "end_time": "2021-04-22T17:57:29.401933",
     "exception": false,
     "start_time": "2021-04-22T17:57:29.282348",
     "status": "completed"
    },
    "tags": []
   },
   "outputs": [
    {
     "data": {
      "text/html": [
       "<div>\n",
       "<style scoped>\n",
       "    .dataframe tbody tr th:only-of-type {\n",
       "        vertical-align: middle;\n",
       "    }\n",
       "\n",
       "    .dataframe tbody tr th {\n",
       "        vertical-align: top;\n",
       "    }\n",
       "\n",
       "    .dataframe thead th {\n",
       "        text-align: right;\n",
       "    }\n",
       "</style>\n",
       "<table border=\"1\" class=\"dataframe\">\n",
       "  <thead>\n",
       "    <tr style=\"text-align: right;\">\n",
       "      <th></th>\n",
       "      <th>trait</th>\n",
       "      <th>drug</th>\n",
       "      <th>method</th>\n",
       "      <th>score</th>\n",
       "      <th>true_class</th>\n",
       "    </tr>\n",
       "  </thead>\n",
       "  <tbody>\n",
       "    <tr>\n",
       "      <th>0</th>\n",
       "      <td>DOID:0050741</td>\n",
       "      <td>DB00215</td>\n",
       "      <td>Gene-based</td>\n",
       "      <td>359.0</td>\n",
       "      <td>1.0</td>\n",
       "    </tr>\n",
       "    <tr>\n",
       "      <th>1</th>\n",
       "      <td>DOID:0050741</td>\n",
       "      <td>DB00215</td>\n",
       "      <td>Module-based</td>\n",
       "      <td>437.8</td>\n",
       "      <td>1.0</td>\n",
       "    </tr>\n",
       "    <tr>\n",
       "      <th>2</th>\n",
       "      <td>DOID:0050741</td>\n",
       "      <td>DB00704</td>\n",
       "      <td>Gene-based</td>\n",
       "      <td>395.8</td>\n",
       "      <td>1.0</td>\n",
       "    </tr>\n",
       "    <tr>\n",
       "      <th>3</th>\n",
       "      <td>DOID:0050741</td>\n",
       "      <td>DB00704</td>\n",
       "      <td>Module-based</td>\n",
       "      <td>562.8</td>\n",
       "      <td>1.0</td>\n",
       "    </tr>\n",
       "    <tr>\n",
       "      <th>4</th>\n",
       "      <td>DOID:0050741</td>\n",
       "      <td>DB00822</td>\n",
       "      <td>Gene-based</td>\n",
       "      <td>556.8</td>\n",
       "      <td>1.0</td>\n",
       "    </tr>\n",
       "  </tbody>\n",
       "</table>\n",
       "</div>"
      ],
      "text/plain": [
       "          trait     drug        method  score  true_class\n",
       "0  DOID:0050741  DB00215    Gene-based  359.0         1.0\n",
       "1  DOID:0050741  DB00215  Module-based  437.8         1.0\n",
       "2  DOID:0050741  DB00704    Gene-based  395.8         1.0\n",
       "3  DOID:0050741  DB00704  Module-based  562.8         1.0\n",
       "4  DOID:0050741  DB00822    Gene-based  556.8         1.0"
      ]
     },
     "execution_count": 38,
     "metadata": {},
     "output_type": "execute_result"
    }
   ],
   "source": [
    "predictions_avg.head()"
   ]
  },
  {
   "cell_type": "code",
   "execution_count": 39,
   "metadata": {
    "execution": {
     "iopub.execute_input": "2021-04-22T17:57:29.611200Z",
     "iopub.status.busy": "2021-04-22T17:57:29.610843Z",
     "iopub.status.idle": "2021-04-22T17:57:29.625398Z",
     "shell.execute_reply": "2021-04-22T17:57:29.625087Z"
    },
    "papermill": {
     "duration": 0.119669,
     "end_time": "2021-04-22T17:57:29.625481",
     "exception": false,
     "start_time": "2021-04-22T17:57:29.505812",
     "status": "completed"
    },
    "tags": []
   },
   "outputs": [
    {
     "data": {
      "text/plain": [
       "method\n",
       "Gene-based      0.565565\n",
       "Module-based    0.632101\n",
       "dtype: float64"
      ]
     },
     "execution_count": 39,
     "metadata": {},
     "output_type": "execute_result"
    }
   ],
   "source": [
    "predictions_avg.groupby([\"method\"]).apply(\n",
    "    lambda x: roc_auc_score(x[\"true_class\"], x[\"score\"])\n",
    ")"
   ]
  },
  {
   "cell_type": "markdown",
   "metadata": {
    "papermill": {
     "duration": 0.101133,
     "end_time": "2021-04-22T17:57:29.827959",
     "exception": false,
     "start_time": "2021-04-22T17:57:29.726826",
     "status": "completed"
    },
    "tags": []
   },
   "source": [
    "# PR"
   ]
  },
  {
   "cell_type": "code",
   "execution_count": 40,
   "metadata": {
    "execution": {
     "iopub.execute_input": "2021-04-22T17:57:30.033664Z",
     "iopub.status.busy": "2021-04-22T17:57:30.033312Z",
     "iopub.status.idle": "2021-04-22T17:57:30.042283Z",
     "shell.execute_reply": "2021-04-22T17:57:30.041916Z"
    },
    "papermill": {
     "duration": 0.112453,
     "end_time": "2021-04-22T17:57:30.042367",
     "exception": false,
     "start_time": "2021-04-22T17:57:29.929914",
     "status": "completed"
    },
    "tags": []
   },
   "outputs": [],
   "source": [
    "from sklearn.metrics import average_precision_score"
   ]
  },
  {
   "cell_type": "markdown",
   "metadata": {
    "papermill": {
     "duration": 0.100965,
     "end_time": "2021-04-22T17:57:30.244154",
     "exception": false,
     "start_time": "2021-04-22T17:57:30.143189",
     "status": "completed"
    },
    "tags": []
   },
   "source": [
    "## Predictions"
   ]
  },
  {
   "cell_type": "code",
   "execution_count": 41,
   "metadata": {
    "execution": {
     "iopub.execute_input": "2021-04-22T17:57:30.451589Z",
     "iopub.status.busy": "2021-04-22T17:57:30.451230Z",
     "iopub.status.idle": "2021-04-22T17:57:30.897904Z",
     "shell.execute_reply": "2021-04-22T17:57:30.897545Z"
    },
    "papermill": {
     "duration": 0.550319,
     "end_time": "2021-04-22T17:57:30.897986",
     "exception": false,
     "start_time": "2021-04-22T17:57:30.347667",
     "status": "completed"
    },
    "tags": []
   },
   "outputs": [
    {
     "data": {
      "text/html": [
       "<div>\n",
       "<style scoped>\n",
       "    .dataframe tbody tr th:only-of-type {\n",
       "        vertical-align: middle;\n",
       "    }\n",
       "\n",
       "    .dataframe tbody tr th {\n",
       "        vertical-align: top;\n",
       "    }\n",
       "\n",
       "    .dataframe thead th {\n",
       "        text-align: right;\n",
       "    }\n",
       "</style>\n",
       "<table border=\"1\" class=\"dataframe\">\n",
       "  <thead>\n",
       "    <tr style=\"text-align: right;\">\n",
       "      <th></th>\n",
       "      <th></th>\n",
       "      <th>count</th>\n",
       "      <th>mean</th>\n",
       "      <th>std</th>\n",
       "      <th>min</th>\n",
       "      <th>25%</th>\n",
       "      <th>50%</th>\n",
       "      <th>75%</th>\n",
       "      <th>max</th>\n",
       "    </tr>\n",
       "    <tr>\n",
       "      <th>method</th>\n",
       "      <th>n_top_genes</th>\n",
       "      <th></th>\n",
       "      <th></th>\n",
       "      <th></th>\n",
       "      <th></th>\n",
       "      <th></th>\n",
       "      <th></th>\n",
       "      <th></th>\n",
       "      <th></th>\n",
       "    </tr>\n",
       "  </thead>\n",
       "  <tbody>\n",
       "    <tr>\n",
       "      <th rowspan=\"5\" valign=\"top\">Gene-based</th>\n",
       "      <th>-1.0</th>\n",
       "      <td>49.0</td>\n",
       "      <td>0.821141</td>\n",
       "      <td>0.012115</td>\n",
       "      <td>0.791883</td>\n",
       "      <td>0.815700</td>\n",
       "      <td>0.823089</td>\n",
       "      <td>0.826527</td>\n",
       "      <td>0.845993</td>\n",
       "    </tr>\n",
       "    <tr>\n",
       "      <th>50.0</th>\n",
       "      <td>49.0</td>\n",
       "      <td>0.812367</td>\n",
       "      <td>0.011124</td>\n",
       "      <td>0.789323</td>\n",
       "      <td>0.805338</td>\n",
       "      <td>0.810950</td>\n",
       "      <td>0.818964</td>\n",
       "      <td>0.837116</td>\n",
       "    </tr>\n",
       "    <tr>\n",
       "      <th>100.0</th>\n",
       "      <td>49.0</td>\n",
       "      <td>0.815802</td>\n",
       "      <td>0.009807</td>\n",
       "      <td>0.795174</td>\n",
       "      <td>0.807916</td>\n",
       "      <td>0.815802</td>\n",
       "      <td>0.823319</td>\n",
       "      <td>0.833513</td>\n",
       "    </tr>\n",
       "    <tr>\n",
       "      <th>250.0</th>\n",
       "      <td>49.0</td>\n",
       "      <td>0.822883</td>\n",
       "      <td>0.011527</td>\n",
       "      <td>0.791251</td>\n",
       "      <td>0.816006</td>\n",
       "      <td>0.821466</td>\n",
       "      <td>0.829536</td>\n",
       "      <td>0.849501</td>\n",
       "    </tr>\n",
       "    <tr>\n",
       "      <th>500.0</th>\n",
       "      <td>49.0</td>\n",
       "      <td>0.822643</td>\n",
       "      <td>0.009925</td>\n",
       "      <td>0.803506</td>\n",
       "      <td>0.815523</td>\n",
       "      <td>0.822377</td>\n",
       "      <td>0.828614</td>\n",
       "      <td>0.844589</td>\n",
       "    </tr>\n",
       "    <tr>\n",
       "      <th rowspan=\"5\" valign=\"top\">Module-based</th>\n",
       "      <th>-1.0</th>\n",
       "      <td>49.0</td>\n",
       "      <td>0.825578</td>\n",
       "      <td>0.010326</td>\n",
       "      <td>0.803155</td>\n",
       "      <td>0.818189</td>\n",
       "      <td>0.825569</td>\n",
       "      <td>0.832833</td>\n",
       "      <td>0.850523</td>\n",
       "    </tr>\n",
       "    <tr>\n",
       "      <th>5.0</th>\n",
       "      <td>49.0</td>\n",
       "      <td>0.824127</td>\n",
       "      <td>0.011438</td>\n",
       "      <td>0.795780</td>\n",
       "      <td>0.815947</td>\n",
       "      <td>0.827801</td>\n",
       "      <td>0.831900</td>\n",
       "      <td>0.851023</td>\n",
       "    </tr>\n",
       "    <tr>\n",
       "      <th>10.0</th>\n",
       "      <td>49.0</td>\n",
       "      <td>0.824383</td>\n",
       "      <td>0.012500</td>\n",
       "      <td>0.795728</td>\n",
       "      <td>0.817049</td>\n",
       "      <td>0.823271</td>\n",
       "      <td>0.831864</td>\n",
       "      <td>0.849924</td>\n",
       "    </tr>\n",
       "    <tr>\n",
       "      <th>25.0</th>\n",
       "      <td>49.0</td>\n",
       "      <td>0.821462</td>\n",
       "      <td>0.014990</td>\n",
       "      <td>0.794916</td>\n",
       "      <td>0.810213</td>\n",
       "      <td>0.820894</td>\n",
       "      <td>0.830868</td>\n",
       "      <td>0.853334</td>\n",
       "    </tr>\n",
       "    <tr>\n",
       "      <th>50.0</th>\n",
       "      <td>49.0</td>\n",
       "      <td>0.822552</td>\n",
       "      <td>0.015475</td>\n",
       "      <td>0.778559</td>\n",
       "      <td>0.815136</td>\n",
       "      <td>0.824726</td>\n",
       "      <td>0.831564</td>\n",
       "      <td>0.851906</td>\n",
       "    </tr>\n",
       "  </tbody>\n",
       "</table>\n",
       "</div>"
      ],
      "text/plain": [
       "                          count      mean       std       min       25%  \\\n",
       "method       n_top_genes                                                  \n",
       "Gene-based   -1.0          49.0  0.821141  0.012115  0.791883  0.815700   \n",
       "              50.0         49.0  0.812367  0.011124  0.789323  0.805338   \n",
       "              100.0        49.0  0.815802  0.009807  0.795174  0.807916   \n",
       "              250.0        49.0  0.822883  0.011527  0.791251  0.816006   \n",
       "              500.0        49.0  0.822643  0.009925  0.803506  0.815523   \n",
       "Module-based -1.0          49.0  0.825578  0.010326  0.803155  0.818189   \n",
       "              5.0          49.0  0.824127  0.011438  0.795780  0.815947   \n",
       "              10.0         49.0  0.824383  0.012500  0.795728  0.817049   \n",
       "              25.0         49.0  0.821462  0.014990  0.794916  0.810213   \n",
       "              50.0         49.0  0.822552  0.015475  0.778559  0.815136   \n",
       "\n",
       "                               50%       75%       max  \n",
       "method       n_top_genes                                \n",
       "Gene-based   -1.0         0.823089  0.826527  0.845993  \n",
       "              50.0        0.810950  0.818964  0.837116  \n",
       "              100.0       0.815802  0.823319  0.833513  \n",
       "              250.0       0.821466  0.829536  0.849501  \n",
       "              500.0       0.822377  0.828614  0.844589  \n",
       "Module-based -1.0         0.825569  0.832833  0.850523  \n",
       "              5.0         0.827801  0.831900  0.851023  \n",
       "              10.0        0.823271  0.831864  0.849924  \n",
       "              25.0        0.820894  0.830868  0.853334  \n",
       "              50.0        0.824726  0.831564  0.851906  "
      ]
     },
     "execution_count": 41,
     "metadata": {},
     "output_type": "execute_result"
    }
   ],
   "source": [
    "# by method/n_top_genes\n",
    "predictions.groupby([\"method\", \"tissue\", \"n_top_genes\"]).apply(\n",
    "    lambda x: average_precision_score(x[\"true_class\"], x[\"score\"])\n",
    ").groupby([\"method\", \"n_top_genes\"]).describe()"
   ]
  },
  {
   "cell_type": "code",
   "execution_count": 42,
   "metadata": {
    "execution": {
     "iopub.execute_input": "2021-04-22T17:57:31.103649Z",
     "iopub.status.busy": "2021-04-22T17:57:31.103285Z",
     "iopub.status.idle": "2021-04-22T17:57:31.703244Z",
     "shell.execute_reply": "2021-04-22T17:57:31.702879Z"
    },
    "papermill": {
     "duration": 0.70411,
     "end_time": "2021-04-22T17:57:31.703328",
     "exception": false,
     "start_time": "2021-04-22T17:57:30.999218",
     "status": "completed"
    },
    "tags": []
   },
   "outputs": [
    {
     "data": {
      "text/html": [
       "<div>\n",
       "<style scoped>\n",
       "    .dataframe tbody tr th:only-of-type {\n",
       "        vertical-align: middle;\n",
       "    }\n",
       "\n",
       "    .dataframe tbody tr th {\n",
       "        vertical-align: top;\n",
       "    }\n",
       "\n",
       "    .dataframe thead th {\n",
       "        text-align: right;\n",
       "    }\n",
       "</style>\n",
       "<table border=\"1\" class=\"dataframe\">\n",
       "  <thead>\n",
       "    <tr style=\"text-align: right;\">\n",
       "      <th></th>\n",
       "      <th></th>\n",
       "      <th>count</th>\n",
       "      <th>mean</th>\n",
       "      <th>std</th>\n",
       "      <th>min</th>\n",
       "      <th>25%</th>\n",
       "      <th>50%</th>\n",
       "      <th>75%</th>\n",
       "      <th>max</th>\n",
       "    </tr>\n",
       "    <tr>\n",
       "      <th>method</th>\n",
       "      <th>tissue</th>\n",
       "      <th></th>\n",
       "      <th></th>\n",
       "      <th></th>\n",
       "      <th></th>\n",
       "      <th></th>\n",
       "      <th></th>\n",
       "      <th></th>\n",
       "      <th></th>\n",
       "    </tr>\n",
       "  </thead>\n",
       "  <tbody>\n",
       "    <tr>\n",
       "      <th rowspan=\"5\" valign=\"top\">Gene-based</th>\n",
       "      <th>Adipose_Subcutaneous</th>\n",
       "      <td>5.0</td>\n",
       "      <td>0.824818</td>\n",
       "      <td>0.009010</td>\n",
       "      <td>0.814039</td>\n",
       "      <td>0.819139</td>\n",
       "      <td>0.822745</td>\n",
       "      <td>0.833728</td>\n",
       "      <td>0.834440</td>\n",
       "    </tr>\n",
       "    <tr>\n",
       "      <th>Adipose_Visceral_Omentum</th>\n",
       "      <td>5.0</td>\n",
       "      <td>0.814407</td>\n",
       "      <td>0.013335</td>\n",
       "      <td>0.796885</td>\n",
       "      <td>0.803859</td>\n",
       "      <td>0.819274</td>\n",
       "      <td>0.825769</td>\n",
       "      <td>0.826248</td>\n",
       "    </tr>\n",
       "    <tr>\n",
       "      <th>Adrenal_Gland</th>\n",
       "      <td>5.0</td>\n",
       "      <td>0.812982</td>\n",
       "      <td>0.006435</td>\n",
       "      <td>0.804577</td>\n",
       "      <td>0.807679</td>\n",
       "      <td>0.816006</td>\n",
       "      <td>0.817753</td>\n",
       "      <td>0.818894</td>\n",
       "    </tr>\n",
       "    <tr>\n",
       "      <th>Artery_Aorta</th>\n",
       "      <td>5.0</td>\n",
       "      <td>0.805476</td>\n",
       "      <td>0.003914</td>\n",
       "      <td>0.800970</td>\n",
       "      <td>0.803506</td>\n",
       "      <td>0.804125</td>\n",
       "      <td>0.807866</td>\n",
       "      <td>0.810915</td>\n",
       "    </tr>\n",
       "    <tr>\n",
       "      <th>Artery_Coronary</th>\n",
       "      <td>5.0</td>\n",
       "      <td>0.824009</td>\n",
       "      <td>0.003853</td>\n",
       "      <td>0.819936</td>\n",
       "      <td>0.820489</td>\n",
       "      <td>0.824517</td>\n",
       "      <td>0.825967</td>\n",
       "      <td>0.829138</td>\n",
       "    </tr>\n",
       "    <tr>\n",
       "      <th>...</th>\n",
       "      <th>...</th>\n",
       "      <td>...</td>\n",
       "      <td>...</td>\n",
       "      <td>...</td>\n",
       "      <td>...</td>\n",
       "      <td>...</td>\n",
       "      <td>...</td>\n",
       "      <td>...</td>\n",
       "      <td>...</td>\n",
       "    </tr>\n",
       "    <tr>\n",
       "      <th rowspan=\"5\" valign=\"top\">Module-based</th>\n",
       "      <th>Testis</th>\n",
       "      <td>5.0</td>\n",
       "      <td>0.829219</td>\n",
       "      <td>0.009344</td>\n",
       "      <td>0.816903</td>\n",
       "      <td>0.825178</td>\n",
       "      <td>0.828267</td>\n",
       "      <td>0.833967</td>\n",
       "      <td>0.841779</td>\n",
       "    </tr>\n",
       "    <tr>\n",
       "      <th>Thyroid</th>\n",
       "      <td>5.0</td>\n",
       "      <td>0.829913</td>\n",
       "      <td>0.004428</td>\n",
       "      <td>0.822062</td>\n",
       "      <td>0.831268</td>\n",
       "      <td>0.831579</td>\n",
       "      <td>0.831826</td>\n",
       "      <td>0.832833</td>\n",
       "    </tr>\n",
       "    <tr>\n",
       "      <th>Uterus</th>\n",
       "      <td>5.0</td>\n",
       "      <td>0.812736</td>\n",
       "      <td>0.012707</td>\n",
       "      <td>0.798563</td>\n",
       "      <td>0.800676</td>\n",
       "      <td>0.814974</td>\n",
       "      <td>0.822915</td>\n",
       "      <td>0.826553</td>\n",
       "    </tr>\n",
       "    <tr>\n",
       "      <th>Vagina</th>\n",
       "      <td>5.0</td>\n",
       "      <td>0.811183</td>\n",
       "      <td>0.013788</td>\n",
       "      <td>0.792978</td>\n",
       "      <td>0.805208</td>\n",
       "      <td>0.810304</td>\n",
       "      <td>0.817441</td>\n",
       "      <td>0.829982</td>\n",
       "    </tr>\n",
       "    <tr>\n",
       "      <th>Whole_Blood</th>\n",
       "      <td>5.0</td>\n",
       "      <td>0.828188</td>\n",
       "      <td>0.014431</td>\n",
       "      <td>0.813380</td>\n",
       "      <td>0.821798</td>\n",
       "      <td>0.822365</td>\n",
       "      <td>0.832375</td>\n",
       "      <td>0.851023</td>\n",
       "    </tr>\n",
       "  </tbody>\n",
       "</table>\n",
       "<p>98 rows × 8 columns</p>\n",
       "</div>"
      ],
      "text/plain": [
       "                                       count      mean       std       min  \\\n",
       "method       tissue                                                          \n",
       "Gene-based   Adipose_Subcutaneous        5.0  0.824818  0.009010  0.814039   \n",
       "             Adipose_Visceral_Omentum    5.0  0.814407  0.013335  0.796885   \n",
       "             Adrenal_Gland               5.0  0.812982  0.006435  0.804577   \n",
       "             Artery_Aorta                5.0  0.805476  0.003914  0.800970   \n",
       "             Artery_Coronary             5.0  0.824009  0.003853  0.819936   \n",
       "...                                      ...       ...       ...       ...   \n",
       "Module-based Testis                      5.0  0.829219  0.009344  0.816903   \n",
       "             Thyroid                     5.0  0.829913  0.004428  0.822062   \n",
       "             Uterus                      5.0  0.812736  0.012707  0.798563   \n",
       "             Vagina                      5.0  0.811183  0.013788  0.792978   \n",
       "             Whole_Blood                 5.0  0.828188  0.014431  0.813380   \n",
       "\n",
       "                                            25%       50%       75%       max  \n",
       "method       tissue                                                            \n",
       "Gene-based   Adipose_Subcutaneous      0.819139  0.822745  0.833728  0.834440  \n",
       "             Adipose_Visceral_Omentum  0.803859  0.819274  0.825769  0.826248  \n",
       "             Adrenal_Gland             0.807679  0.816006  0.817753  0.818894  \n",
       "             Artery_Aorta              0.803506  0.804125  0.807866  0.810915  \n",
       "             Artery_Coronary           0.820489  0.824517  0.825967  0.829138  \n",
       "...                                         ...       ...       ...       ...  \n",
       "Module-based Testis                    0.825178  0.828267  0.833967  0.841779  \n",
       "             Thyroid                   0.831268  0.831579  0.831826  0.832833  \n",
       "             Uterus                    0.800676  0.814974  0.822915  0.826553  \n",
       "             Vagina                    0.805208  0.810304  0.817441  0.829982  \n",
       "             Whole_Blood               0.821798  0.822365  0.832375  0.851023  \n",
       "\n",
       "[98 rows x 8 columns]"
      ]
     },
     "execution_count": 42,
     "metadata": {},
     "output_type": "execute_result"
    }
   ],
   "source": [
    "# by method/tissue\n",
    "predictions.groupby([\"method\", \"tissue\", \"n_top_genes\"]).apply(\n",
    "    lambda x: average_precision_score(x[\"true_class\"], x[\"score\"])\n",
    ").groupby([\"method\", \"tissue\"]).describe()"
   ]
  },
  {
   "cell_type": "markdown",
   "metadata": {
    "papermill": {
     "duration": 0.101691,
     "end_time": "2021-04-22T17:57:31.907667",
     "exception": false,
     "start_time": "2021-04-22T17:57:31.805976",
     "status": "completed"
    },
    "tags": []
   },
   "source": [
    "## Predictions avg"
   ]
  },
  {
   "cell_type": "code",
   "execution_count": 43,
   "metadata": {
    "execution": {
     "iopub.execute_input": "2021-04-22T17:57:32.114346Z",
     "iopub.status.busy": "2021-04-22T17:57:32.113984Z",
     "iopub.status.idle": "2021-04-22T17:57:32.127829Z",
     "shell.execute_reply": "2021-04-22T17:57:32.127469Z"
    },
    "papermill": {
     "duration": 0.118324,
     "end_time": "2021-04-22T17:57:32.127913",
     "exception": false,
     "start_time": "2021-04-22T17:57:32.009589",
     "status": "completed"
    },
    "tags": []
   },
   "outputs": [
    {
     "data": {
      "text/plain": [
       "method\n",
       "Gene-based      0.838652\n",
       "Module-based    0.857572\n",
       "dtype: float64"
      ]
     },
     "execution_count": 43,
     "metadata": {},
     "output_type": "execute_result"
    }
   ],
   "source": [
    "predictions_avg.groupby([\"method\"]).apply(\n",
    "    lambda x: average_precision_score(x[\"true_class\"], x[\"score\"])\n",
    ")"
   ]
  },
  {
   "cell_type": "code",
   "execution_count": null,
   "metadata": {
    "papermill": {
     "duration": 0.103399,
     "end_time": "2021-04-22T17:57:32.334208",
     "exception": false,
     "start_time": "2021-04-22T17:57:32.230809",
     "status": "completed"
    },
    "tags": []
   },
   "outputs": [],
   "source": []
  }
 ],
 "metadata": {
  "jupytext": {
   "cell_metadata_filter": "all,-execution,-papermill,-trusted",
   "formats": "ipynb,py//py:percent"
  },
  "kernelspec": {
   "display_name": "Python 3",
   "language": "python",
   "name": "python3"
  },
  "language_info": {
   "codemirror_mode": {
    "name": "ipython",
    "version": 3
   },
   "file_extension": ".py",
   "mimetype": "text/x-python",
   "name": "python",
   "nbconvert_exporter": "python",
   "pygments_lexer": "ipython3",
   "version": "3.8.8"
  },
  "papermill": {
   "default_parameters": {},
   "duration": 141.72933,
   "end_time": "2021-04-22T17:57:32.741538",
   "environment_variables": {},
   "exception": null,
   "input_path": "15_drug_disease_associations/lincs/021-prediction_performance.ipynb",
   "output_path": "15_drug_disease_associations/lincs/021-prediction_performance.run.ipynb",
   "parameters": {},
   "start_time": "2021-04-22T17:55:11.012208",
   "version": "2.2.2"
  }
 },
 "nbformat": 4,
 "nbformat_minor": 4
}
