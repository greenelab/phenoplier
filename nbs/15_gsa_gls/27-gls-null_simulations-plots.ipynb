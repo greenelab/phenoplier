{
 "cells": [
  {
   "cell_type": "markdown",
   "id": "34eb1146",
   "metadata": {
    "papermill": {
     "duration": 0.038207,
     "end_time": "2022-02-24T05:32:03.755452",
     "exception": false,
     "start_time": "2022-02-24T05:32:03.717245",
     "status": "completed"
    },
    "tags": []
   },
   "source": [
    "# Description"
   ]
  },
  {
   "cell_type": "markdown",
   "id": "8671dcce",
   "metadata": {
    "papermill": {
     "duration": 0.009944,
     "end_time": "2022-02-24T05:32:03.780673",
     "exception": false,
     "start_time": "2022-02-24T05:32:03.770729",
     "status": "completed"
    },
    "tags": []
   },
   "source": [
    "TODO\n",
    "\n",
    "- rename this file to be 27-"
   ]
  },
  {
   "cell_type": "markdown",
   "id": "dc2265e6",
   "metadata": {
    "papermill": {
     "duration": 0.008401,
     "end_time": "2022-02-24T05:32:03.797668",
     "exception": false,
     "start_time": "2022-02-24T05:32:03.789267",
     "status": "completed"
    },
    "tags": []
   },
   "source": [
    "# Modules"
   ]
  },
  {
   "cell_type": "code",
   "execution_count": null,
   "id": "78d30487",
   "metadata": {
    "papermill": {
     "duration": 0.861241,
     "end_time": "2022-02-24T05:32:04.667481",
     "exception": false,
     "start_time": "2022-02-24T05:32:03.806240",
     "status": "completed"
    },
    "tags": []
   },
   "outputs": [],
   "source": [
    "from pathlib import Path\n",
    "\n",
    "import numpy as np\n",
    "import pandas as pd\n",
    "from statsmodels.graphics.gofplots import qqplot_2samples\n",
    "import matplotlib.pyplot as plt\n",
    "import seaborn as sns\n",
    "\n",
    "import conf"
   ]
  },
  {
   "cell_type": "markdown",
   "id": "76f282f6",
   "metadata": {
    "papermill": {
     "duration": 0.008701,
     "end_time": "2022-02-24T05:32:04.685435",
     "exception": false,
     "start_time": "2022-02-24T05:32:04.676734",
     "status": "completed"
    },
    "tags": []
   },
   "source": [
    "# Settings"
   ]
  },
  {
   "cell_type": "code",
   "execution_count": null,
   "id": "6607cfbf",
   "metadata": {
    "papermill": {
     "duration": 0.016348,
     "end_time": "2022-02-24T05:32:04.710602",
     "exception": false,
     "start_time": "2022-02-24T05:32:04.694254",
     "status": "completed"
    },
    "tags": []
   },
   "outputs": [],
   "source": [
    "INPUT_DIR = conf.RESULTS[\"GLS\"]\n",
    "display(INPUT_DIR)"
   ]
  },
  {
   "cell_type": "code",
   "execution_count": null,
   "id": "1afee291",
   "metadata": {
    "papermill": {
     "duration": 0.015178,
     "end_time": "2022-02-24T05:32:04.735972",
     "exception": false,
     "start_time": "2022-02-24T05:32:04.720794",
     "status": "completed"
    },
    "tags": []
   },
   "outputs": [],
   "source": [
    "INPUT_FILENAME = INPUT_DIR / \"gls-null_simulations.pkl\"\n",
    "display(INPUT_FILENAME)\n",
    "assert INPUT_FILENAME.exists()"
   ]
  },
  {
   "cell_type": "code",
   "execution_count": null,
   "id": "0bc958d5",
   "metadata": {
    "papermill": {
     "duration": 0.015178,
     "end_time": "2022-02-24T05:32:04.735972",
     "exception": false,
     "start_time": "2022-02-24T05:32:04.720794",
     "status": "completed"
    },
    "tags": []
   },
   "outputs": [],
   "source": [
    "INPUT_REAL_FILENAME = INPUT_DIR / \"gls-null_simulations-real_data.pkl\"\n",
    "display(INPUT_REAL_FILENAME)\n",
    "assert INPUT_REAL_FILENAME.exists()"
   ]
  },
  {
   "cell_type": "markdown",
   "id": "b8620f6a",
   "metadata": {
    "papermill": {
     "duration": 0.010426,
     "end_time": "2022-02-24T05:32:04.905993",
     "exception": false,
     "start_time": "2022-02-24T05:32:04.895567",
     "status": "completed"
    },
    "tags": []
   },
   "source": [
    "# Null simulations - artificial gene-trait associations"
   ]
  },
  {
   "cell_type": "markdown",
   "id": "5b9479bf",
   "metadata": {},
   "source": [
    "## Load data"
   ]
  },
  {
   "cell_type": "code",
   "execution_count": null,
   "id": "b0c030b4",
   "metadata": {
    "papermill": {
     "duration": 0.023945,
     "end_time": "2022-02-24T05:32:04.808813",
     "exception": false,
     "start_time": "2022-02-24T05:32:04.784868",
     "status": "completed"
    },
    "tags": []
   },
   "outputs": [],
   "source": [
    "results = pd.read_pickle(INPUT_FILENAME)"
   ]
  },
  {
   "cell_type": "code",
   "execution_count": null,
   "id": "2ed5c764",
   "metadata": {
    "papermill": {
     "duration": 0.015781,
     "end_time": "2022-02-24T05:32:04.834694",
     "exception": false,
     "start_time": "2022-02-24T05:32:04.818913",
     "status": "completed"
    },
    "tags": []
   },
   "outputs": [],
   "source": [
    "results.shape"
   ]
  },
  {
   "cell_type": "code",
   "execution_count": null,
   "id": "3fdfa824",
   "metadata": {
    "papermill": {
     "duration": 0.038689,
     "end_time": "2022-02-24T05:32:04.884154",
     "exception": false,
     "start_time": "2022-02-24T05:32:04.845465",
     "status": "completed"
    },
    "tags": []
   },
   "outputs": [],
   "source": [
    "results.head()"
   ]
  },
  {
   "cell_type": "markdown",
   "id": "f2ab1d3b",
   "metadata": {},
   "source": [
    "## Proportion pvalue < 0.05"
   ]
  },
  {
   "cell_type": "code",
   "execution_count": null,
   "id": "4bb1eac3",
   "metadata": {},
   "outputs": [],
   "source": [
    "_pvalue_lt_005 = results[results[\"pvalue\"] < 0.05]\n",
    "display(_pvalue_lt_005.head())"
   ]
  },
  {
   "cell_type": "code",
   "execution_count": null,
   "id": "cdab3697",
   "metadata": {},
   "outputs": [],
   "source": [
    "_pvalue_lt_005.shape"
   ]
  },
  {
   "cell_type": "code",
   "execution_count": null,
   "id": "cc348b6e",
   "metadata": {},
   "outputs": [],
   "source": [
    "# show proportion\n",
    "_pvalue_lt_005.shape[0] / results.shape[0]"
   ]
  },
  {
   "cell_type": "markdown",
   "id": "32073437",
   "metadata": {},
   "source": [
    "## Plot"
   ]
  },
  {
   "cell_type": "code",
   "execution_count": null,
   "id": "20abb94a",
   "metadata": {
    "papermill": {
     "duration": 0.016445,
     "end_time": "2022-02-24T05:32:04.933024",
     "exception": false,
     "start_time": "2022-02-24T05:32:04.916579",
     "status": "completed"
    },
    "tags": []
   },
   "outputs": [],
   "source": [
    "data = results[\"pvalue\"].to_numpy()\n",
    "uniform_data = np.linspace(data.min(), data.max(), num=data.shape[0])"
   ]
  },
  {
   "cell_type": "code",
   "execution_count": null,
   "id": "0fa45ad5",
   "metadata": {
    "papermill": {
     "duration": 0.018047,
     "end_time": "2022-02-24T05:32:04.962092",
     "exception": false,
     "start_time": "2022-02-24T05:32:04.944045",
     "status": "completed"
    },
    "tags": []
   },
   "outputs": [],
   "source": [
    "display(data[:5])\n",
    "display(uniform_data[:5])"
   ]
  },
  {
   "cell_type": "code",
   "execution_count": null,
   "id": "24055781",
   "metadata": {
    "papermill": {
     "duration": 0.142909,
     "end_time": "2022-02-24T05:32:05.117221",
     "exception": false,
     "start_time": "2022-02-24T05:32:04.974312",
     "status": "completed"
    },
    "tags": []
   },
   "outputs": [],
   "source": [
    "with sns.plotting_context(\"paper\", font_scale=1.3):\n",
    "    fig, ax = plt.subplots(figsize=(5, 5))\n",
    "\n",
    "    fig = qqplot_2samples(-np.log10(uniform_data), -np.log10(data), line=\"45\", ax=ax)\n",
    "\n",
    "    ax.set_xlabel(\"$-\\log_{10}$(expected pvalue)\")\n",
    "    ax.set_ylabel(\"$-\\log_{10}$(observed pvalue)\")\n",
    "    ax.set_title(\"QQ-Plot\")"
   ]
  },
  {
   "cell_type": "markdown",
   "id": "08862548",
   "metadata": {
    "papermill": {
     "duration": 0.010426,
     "end_time": "2022-02-24T05:32:04.905993",
     "exception": false,
     "start_time": "2022-02-24T05:32:04.895567",
     "status": "completed"
    },
    "tags": []
   },
   "source": [
    "# Null simulations - real gene-trait associations"
   ]
  },
  {
   "cell_type": "markdown",
   "id": "78dd7bc7",
   "metadata": {},
   "source": [
    "## Load data"
   ]
  },
  {
   "cell_type": "code",
   "execution_count": null,
   "id": "8a577b16",
   "metadata": {
    "papermill": {
     "duration": 0.023945,
     "end_time": "2022-02-24T05:32:04.808813",
     "exception": false,
     "start_time": "2022-02-24T05:32:04.784868",
     "status": "completed"
    },
    "tags": []
   },
   "outputs": [],
   "source": [
    "results = pd.read_pickle(INPUT_REAL_FILENAME)"
   ]
  },
  {
   "cell_type": "code",
   "execution_count": null,
   "id": "23348bca",
   "metadata": {
    "papermill": {
     "duration": 0.015781,
     "end_time": "2022-02-24T05:32:04.834694",
     "exception": false,
     "start_time": "2022-02-24T05:32:04.818913",
     "status": "completed"
    },
    "tags": []
   },
   "outputs": [],
   "source": [
    "results.shape"
   ]
  },
  {
   "cell_type": "code",
   "execution_count": null,
   "id": "733dbba6",
   "metadata": {
    "papermill": {
     "duration": 0.038689,
     "end_time": "2022-02-24T05:32:04.884154",
     "exception": false,
     "start_time": "2022-02-24T05:32:04.845465",
     "status": "completed"
    },
    "tags": []
   },
   "outputs": [],
   "source": [
    "results.head()"
   ]
  },
  {
   "cell_type": "markdown",
   "id": "1ac531b2",
   "metadata": {},
   "source": [
    "## Proportion pvalue < 0.05"
   ]
  },
  {
   "cell_type": "code",
   "execution_count": null,
   "id": "6992893d",
   "metadata": {},
   "outputs": [],
   "source": [
    "_pvalue_lt_005 = results[results[\"pvalue\"] < 0.05]\n",
    "display(_pvalue_lt_005.head())"
   ]
  },
  {
   "cell_type": "code",
   "execution_count": null,
   "id": "f37a330e",
   "metadata": {},
   "outputs": [],
   "source": [
    "_pvalue_lt_005.shape"
   ]
  },
  {
   "cell_type": "code",
   "execution_count": null,
   "id": "d7c4e479",
   "metadata": {},
   "outputs": [],
   "source": [
    "# show proportion\n",
    "_pvalue_lt_005.shape[0] / results.shape[0]"
   ]
  },
  {
   "cell_type": "markdown",
   "id": "3ca80a26",
   "metadata": {},
   "source": [
    "## Plot"
   ]
  },
  {
   "cell_type": "code",
   "execution_count": null,
   "id": "b8e9534a",
   "metadata": {
    "papermill": {
     "duration": 0.016445,
     "end_time": "2022-02-24T05:32:04.933024",
     "exception": false,
     "start_time": "2022-02-24T05:32:04.916579",
     "status": "completed"
    },
    "tags": []
   },
   "outputs": [],
   "source": [
    "data = results[\"pvalue\"].to_numpy()\n",
    "uniform_data = np.linspace(data.min(), data.max(), num=data.shape[0])"
   ]
  },
  {
   "cell_type": "code",
   "execution_count": null,
   "id": "9aadc84a",
   "metadata": {
    "papermill": {
     "duration": 0.018047,
     "end_time": "2022-02-24T05:32:04.962092",
     "exception": false,
     "start_time": "2022-02-24T05:32:04.944045",
     "status": "completed"
    },
    "tags": []
   },
   "outputs": [],
   "source": [
    "display(data[:5])\n",
    "display(uniform_data[:5])"
   ]
  },
  {
   "cell_type": "code",
   "execution_count": null,
   "id": "7460deae",
   "metadata": {
    "papermill": {
     "duration": 0.142909,
     "end_time": "2022-02-24T05:32:05.117221",
     "exception": false,
     "start_time": "2022-02-24T05:32:04.974312",
     "status": "completed"
    },
    "tags": []
   },
   "outputs": [],
   "source": [
    "with sns.plotting_context(\"paper\", font_scale=1.3):\n",
    "    fig, ax = plt.subplots(figsize=(5, 5))\n",
    "\n",
    "    fig = qqplot_2samples(-np.log10(uniform_data), -np.log10(data), line=\"45\", ax=ax)\n",
    "\n",
    "    ax.set_xlabel(\"$-\\log_{10}$(expected pvalue)\")\n",
    "    ax.set_ylabel(\"$-\\log_{10}$(observed pvalue)\")\n",
    "    ax.set_title(\"QQ-Plot\")"
   ]
  },
  {
   "cell_type": "code",
   "execution_count": null,
   "id": "47583419",
   "metadata": {
    "papermill": {
     "duration": 0.011924,
     "end_time": "2022-02-24T05:32:05.141706",
     "exception": false,
     "start_time": "2022-02-24T05:32:05.129782",
     "status": "completed"
    },
    "tags": []
   },
   "outputs": [],
   "source": []
  }
 ],
 "metadata": {
  "jupytext": {
   "cell_metadata_filter": "all,-execution,-papermill,-trusted",
   "formats": "ipynb,py//py:percent"
  },
  "kernelspec": {
   "display_name": "Python 3 (ipykernel)",
   "language": "python",
   "name": "python3"
  },
  "language_info": {
   "codemirror_mode": {
    "name": "ipython",
    "version": 3
   },
   "file_extension": ".py",
   "mimetype": "text/x-python",
   "name": "python",
   "nbconvert_exporter": "python",
   "pygments_lexer": "ipython3",
   "version": "3.8.12"
  },
  "papermill": {
   "default_parameters": {},
   "duration": 2.899223,
   "end_time": "2022-02-24T05:32:05.472242",
   "environment_variables": {},
   "exception": null,
   "input_path": "nbs/15_gsa_gls/26-gls-null_simulations-plots.ipynb",
   "output_path": "nbs/15_gsa_gls/26-gls-null_simulations-plots.run.ipynb",
   "parameters": {},
   "start_time": "2022-02-24T05:32:02.573019",
   "version": "2.2.2"
  }
 },
 "nbformat": 4,
 "nbformat_minor": 5
}
