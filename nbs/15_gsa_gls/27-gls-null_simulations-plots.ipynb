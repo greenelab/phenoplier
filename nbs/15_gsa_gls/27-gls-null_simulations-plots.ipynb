{
 "cells": [
  {
   "cell_type": "markdown",
   "id": "fcf5e534",
   "metadata": {
    "papermill": {
     "duration": 0.038207,
     "end_time": "2022-02-24T05:32:03.755452",
     "exception": false,
     "start_time": "2022-02-24T05:32:03.717245",
     "status": "completed"
    },
    "tags": []
   },
   "source": [
    "# Description"
   ]
  },
  {
   "cell_type": "markdown",
   "id": "81c5c620",
   "metadata": {
    "papermill": {
     "duration": 0.009944,
     "end_time": "2022-02-24T05:32:03.780673",
     "exception": false,
     "start_time": "2022-02-24T05:32:03.770729",
     "status": "completed"
    },
    "tags": []
   },
   "source": [
    "TODO\n",
    "\n",
    "- rename this file to be 27-"
   ]
  },
  {
   "cell_type": "markdown",
   "id": "fa26853f",
   "metadata": {
    "papermill": {
     "duration": 0.008401,
     "end_time": "2022-02-24T05:32:03.797668",
     "exception": false,
     "start_time": "2022-02-24T05:32:03.789267",
     "status": "completed"
    },
    "tags": []
   },
   "source": [
    "# Modules"
   ]
  },
  {
   "cell_type": "code",
   "execution_count": 1,
   "id": "8db83321",
   "metadata": {
    "papermill": {
     "duration": 0.861241,
     "end_time": "2022-02-24T05:32:04.667481",
     "exception": false,
     "start_time": "2022-02-24T05:32:03.806240",
     "status": "completed"
    },
    "tags": []
   },
   "outputs": [],
   "source": [
    "from pathlib import Path\n",
    "\n",
    "import numpy as np\n",
    "import pandas as pd\n",
    "from statsmodels.graphics.gofplots import qqplot_2samples\n",
    "import matplotlib.pyplot as plt\n",
    "import seaborn as sns\n",
    "\n",
    "import conf"
   ]
  },
  {
   "cell_type": "markdown",
   "id": "8dfdd0fb",
   "metadata": {
    "papermill": {
     "duration": 0.008701,
     "end_time": "2022-02-24T05:32:04.685435",
     "exception": false,
     "start_time": "2022-02-24T05:32:04.676734",
     "status": "completed"
    },
    "tags": []
   },
   "source": [
    "# Settings"
   ]
  },
  {
   "cell_type": "code",
   "execution_count": 2,
   "id": "2d72cf52",
   "metadata": {
    "papermill": {
     "duration": 0.016348,
     "end_time": "2022-02-24T05:32:04.710602",
     "exception": false,
     "start_time": "2022-02-24T05:32:04.694254",
     "status": "completed"
    },
    "tags": []
   },
   "outputs": [
    {
     "data": {
      "text/plain": [
       "PosixPath('/opt/data/results/gls')"
      ]
     },
     "metadata": {},
     "output_type": "display_data"
    }
   ],
   "source": [
    "INPUT_DIR = conf.RESULTS[\"GLS\"]\n",
    "display(INPUT_DIR)"
   ]
  },
  {
   "cell_type": "code",
   "execution_count": 3,
   "id": "1010937b",
   "metadata": {
    "papermill": {
     "duration": 0.015178,
     "end_time": "2022-02-24T05:32:04.735972",
     "exception": false,
     "start_time": "2022-02-24T05:32:04.720794",
     "status": "completed"
    },
    "tags": []
   },
   "outputs": [
    {
     "data": {
      "text/plain": [
       "PosixPath('/opt/data/results/gls/gls-null_simulations.pkl')"
      ]
     },
     "metadata": {},
     "output_type": "display_data"
    }
   ],
   "source": [
    "INPUT_FILENAME = INPUT_DIR / \"gls-null_simulations.pkl\"\n",
    "display(INPUT_FILENAME)\n",
    "assert INPUT_FILENAME.exists()"
   ]
  },
  {
   "cell_type": "code",
   "execution_count": 4,
   "id": "3ff7c885",
   "metadata": {
    "papermill": {
     "duration": 0.015178,
     "end_time": "2022-02-24T05:32:04.735972",
     "exception": false,
     "start_time": "2022-02-24T05:32:04.720794",
     "status": "completed"
    },
    "tags": []
   },
   "outputs": [
    {
     "data": {
      "text/plain": [
       "PosixPath('/opt/data/results/gls/gls-null_simulations-real_data.pkl')"
      ]
     },
     "metadata": {},
     "output_type": "display_data"
    }
   ],
   "source": [
    "INPUT_REAL_FILENAME = INPUT_DIR / \"gls-null_simulations-real_data.pkl\"\n",
    "display(INPUT_REAL_FILENAME)\n",
    "assert INPUT_REAL_FILENAME.exists()"
   ]
  },
  {
   "cell_type": "markdown",
   "id": "8fe3ef2b",
   "metadata": {
    "papermill": {
     "duration": 0.010426,
     "end_time": "2022-02-24T05:32:04.905993",
     "exception": false,
     "start_time": "2022-02-24T05:32:04.895567",
     "status": "completed"
    },
    "tags": []
   },
   "source": [
    "# Null simulations - artificial gene-trait associations"
   ]
  },
  {
   "cell_type": "markdown",
   "id": "403d97bd",
   "metadata": {},
   "source": [
    "## Load data"
   ]
  },
  {
   "cell_type": "code",
   "execution_count": 5,
   "id": "3ea4d4f0",
   "metadata": {
    "papermill": {
     "duration": 0.023945,
     "end_time": "2022-02-24T05:32:04.808813",
     "exception": false,
     "start_time": "2022-02-24T05:32:04.784868",
     "status": "completed"
    },
    "tags": []
   },
   "outputs": [],
   "source": [
    "results = pd.read_pickle(INPUT_FILENAME)"
   ]
  },
  {
   "cell_type": "code",
   "execution_count": 6,
   "id": "6e32dbd1",
   "metadata": {
    "papermill": {
     "duration": 0.015781,
     "end_time": "2022-02-24T05:32:04.834694",
     "exception": false,
     "start_time": "2022-02-24T05:32:04.818913",
     "status": "completed"
    },
    "tags": []
   },
   "outputs": [
    {
     "data": {
      "text/plain": [
       "(930, 4)"
      ]
     },
     "execution_count": 6,
     "metadata": {},
     "output_type": "execute_result"
    }
   ],
   "source": [
    "results.shape"
   ]
  },
  {
   "cell_type": "code",
   "execution_count": 7,
   "id": "db4df228",
   "metadata": {
    "papermill": {
     "duration": 0.038689,
     "end_time": "2022-02-24T05:32:04.884154",
     "exception": false,
     "start_time": "2022-02-24T05:32:04.845465",
     "status": "completed"
    },
    "tags": []
   },
   "outputs": [
    {
     "data": {
      "text/html": [
       "<div>\n",
       "<style scoped>\n",
       "    .dataframe tbody tr th:only-of-type {\n",
       "        vertical-align: middle;\n",
       "    }\n",
       "\n",
       "    .dataframe tbody tr th {\n",
       "        vertical-align: top;\n",
       "    }\n",
       "\n",
       "    .dataframe thead th {\n",
       "        text-align: right;\n",
       "    }\n",
       "</style>\n",
       "<table border=\"1\" class=\"dataframe\">\n",
       "  <thead>\n",
       "    <tr style=\"text-align: right;\">\n",
       "      <th></th>\n",
       "      <th>phenotype</th>\n",
       "      <th>lv</th>\n",
       "      <th>coef</th>\n",
       "      <th>pvalue</th>\n",
       "    </tr>\n",
       "  </thead>\n",
       "  <tbody>\n",
       "    <tr>\n",
       "      <th>0</th>\n",
       "      <td>random_normal-19</td>\n",
       "      <td>LV629</td>\n",
       "      <td>-0.017303</td>\n",
       "      <td>0.916134</td>\n",
       "    </tr>\n",
       "    <tr>\n",
       "      <th>1</th>\n",
       "      <td>random_normal-43</td>\n",
       "      <td>LV828</td>\n",
       "      <td>0.010451</td>\n",
       "      <td>0.200734</td>\n",
       "    </tr>\n",
       "    <tr>\n",
       "      <th>2</th>\n",
       "      <td>random_normal-29</td>\n",
       "      <td>LV922</td>\n",
       "      <td>0.018611</td>\n",
       "      <td>0.066561</td>\n",
       "    </tr>\n",
       "    <tr>\n",
       "      <th>3</th>\n",
       "      <td>random_normal-5</td>\n",
       "      <td>LV444</td>\n",
       "      <td>0.025777</td>\n",
       "      <td>0.018998</td>\n",
       "    </tr>\n",
       "    <tr>\n",
       "      <th>4</th>\n",
       "      <td>random_normal-70</td>\n",
       "      <td>LV210</td>\n",
       "      <td>-0.001532</td>\n",
       "      <td>0.550300</td>\n",
       "    </tr>\n",
       "  </tbody>\n",
       "</table>\n",
       "</div>"
      ],
      "text/plain": [
       "          phenotype     lv      coef    pvalue\n",
       "0  random_normal-19  LV629 -0.017303  0.916134\n",
       "1  random_normal-43  LV828  0.010451  0.200734\n",
       "2  random_normal-29  LV922  0.018611  0.066561\n",
       "3   random_normal-5  LV444  0.025777  0.018998\n",
       "4  random_normal-70  LV210 -0.001532  0.550300"
      ]
     },
     "execution_count": 7,
     "metadata": {},
     "output_type": "execute_result"
    }
   ],
   "source": [
    "results.head()"
   ]
  },
  {
   "cell_type": "markdown",
   "id": "194f4ecd",
   "metadata": {},
   "source": [
    "## Proportion pvalue < 0.05"
   ]
  },
  {
   "cell_type": "code",
   "execution_count": 8,
   "id": "74e6188c",
   "metadata": {},
   "outputs": [
    {
     "data": {
      "text/html": [
       "<div>\n",
       "<style scoped>\n",
       "    .dataframe tbody tr th:only-of-type {\n",
       "        vertical-align: middle;\n",
       "    }\n",
       "\n",
       "    .dataframe tbody tr th {\n",
       "        vertical-align: top;\n",
       "    }\n",
       "\n",
       "    .dataframe thead th {\n",
       "        text-align: right;\n",
       "    }\n",
       "</style>\n",
       "<table border=\"1\" class=\"dataframe\">\n",
       "  <thead>\n",
       "    <tr style=\"text-align: right;\">\n",
       "      <th></th>\n",
       "      <th>phenotype</th>\n",
       "      <th>lv</th>\n",
       "      <th>coef</th>\n",
       "      <th>pvalue</th>\n",
       "    </tr>\n",
       "  </thead>\n",
       "  <tbody>\n",
       "    <tr>\n",
       "      <th>3</th>\n",
       "      <td>random_normal-5</td>\n",
       "      <td>LV444</td>\n",
       "      <td>0.025777</td>\n",
       "      <td>0.018998</td>\n",
       "    </tr>\n",
       "    <tr>\n",
       "      <th>9</th>\n",
       "      <td>random_normal-88</td>\n",
       "      <td>LV370</td>\n",
       "      <td>0.025709</td>\n",
       "      <td>0.019875</td>\n",
       "    </tr>\n",
       "    <tr>\n",
       "      <th>20</th>\n",
       "      <td>random_normal-52</td>\n",
       "      <td>LV976</td>\n",
       "      <td>0.024592</td>\n",
       "      <td>0.024082</td>\n",
       "    </tr>\n",
       "    <tr>\n",
       "      <th>32</th>\n",
       "      <td>random_normal-35</td>\n",
       "      <td>LV18</td>\n",
       "      <td>0.024381</td>\n",
       "      <td>0.023893</td>\n",
       "    </tr>\n",
       "    <tr>\n",
       "      <th>57</th>\n",
       "      <td>random_normal-48</td>\n",
       "      <td>LV891</td>\n",
       "      <td>0.022535</td>\n",
       "      <td>0.031875</td>\n",
       "    </tr>\n",
       "  </tbody>\n",
       "</table>\n",
       "</div>"
      ],
      "text/plain": [
       "           phenotype     lv      coef    pvalue\n",
       "3    random_normal-5  LV444  0.025777  0.018998\n",
       "9   random_normal-88  LV370  0.025709  0.019875\n",
       "20  random_normal-52  LV976  0.024592  0.024082\n",
       "32  random_normal-35   LV18  0.024381  0.023893\n",
       "57  random_normal-48  LV891  0.022535  0.031875"
      ]
     },
     "metadata": {},
     "output_type": "display_data"
    }
   ],
   "source": [
    "_pvalue_lt_005 = results[results[\"pvalue\"] < 0.05]\n",
    "display(_pvalue_lt_005.head())"
   ]
  },
  {
   "cell_type": "code",
   "execution_count": 9,
   "id": "bedc440d",
   "metadata": {},
   "outputs": [
    {
     "data": {
      "text/plain": [
       "(54, 4)"
      ]
     },
     "execution_count": 9,
     "metadata": {},
     "output_type": "execute_result"
    }
   ],
   "source": [
    "_pvalue_lt_005.shape"
   ]
  },
  {
   "cell_type": "code",
   "execution_count": 10,
   "id": "8394bdc8",
   "metadata": {},
   "outputs": [
    {
     "data": {
      "text/plain": [
       "0.05806451612903226"
      ]
     },
     "execution_count": 10,
     "metadata": {},
     "output_type": "execute_result"
    }
   ],
   "source": [
    "# show proportion\n",
    "_pvalue_lt_005.shape[0] / results.shape[0]"
   ]
  },
  {
   "cell_type": "markdown",
   "id": "0fea24f0",
   "metadata": {},
   "source": [
    "## Plot"
   ]
  },
  {
   "cell_type": "code",
   "execution_count": 11,
   "id": "045a9b4a",
   "metadata": {
    "papermill": {
     "duration": 0.016445,
     "end_time": "2022-02-24T05:32:04.933024",
     "exception": false,
     "start_time": "2022-02-24T05:32:04.916579",
     "status": "completed"
    },
    "tags": []
   },
   "outputs": [],
   "source": [
    "data = results[\"pvalue\"].to_numpy()\n",
    "uniform_data = np.linspace(data.min(), data.max(), num=data.shape[0])"
   ]
  },
  {
   "cell_type": "code",
   "execution_count": 12,
   "id": "ab08f07f",
   "metadata": {
    "papermill": {
     "duration": 0.018047,
     "end_time": "2022-02-24T05:32:04.962092",
     "exception": false,
     "start_time": "2022-02-24T05:32:04.944045",
     "status": "completed"
    },
    "tags": []
   },
   "outputs": [
    {
     "data": {
      "text/plain": [
       "array([0.91613363, 0.20073411, 0.06656115, 0.01899791, 0.55030007])"
      ]
     },
     "metadata": {},
     "output_type": "display_data"
    },
    {
     "data": {
      "text/plain": [
       "array([4.16868103e-10, 1.07635597e-03, 2.15271151e-03, 3.22906706e-03,\n",
       "       4.30542261e-03])"
      ]
     },
     "metadata": {},
     "output_type": "display_data"
    }
   ],
   "source": [
    "display(data[:5])\n",
    "display(uniform_data[:5])"
   ]
  },
  {
   "cell_type": "code",
   "execution_count": 13,
   "id": "f07063f8",
   "metadata": {
    "papermill": {
     "duration": 0.142909,
     "end_time": "2022-02-24T05:32:05.117221",
     "exception": false,
     "start_time": "2022-02-24T05:32:04.974312",
     "status": "completed"
    },
    "tags": []
   },
   "outputs": [
    {
     "data": {
      "image/png": "[encoded data removed]",
      "text/plain": [
       "<Figure size 360x360 with 1 Axes>"
      ]
     },
     "metadata": {
      "needs_background": "light"
     },
     "output_type": "display_data"
    }
   ],
   "source": [
    "with sns.plotting_context(\"paper\", font_scale=1.3):\n",
    "    fig, ax = plt.subplots(figsize=(5, 5))\n",
    "\n",
    "    fig = qqplot_2samples(-np.log10(uniform_data), -np.log10(data), line=\"45\", ax=ax)\n",
    "\n",
    "    ax.set_xlabel(\"$-\\log_{10}$(expected pvalue)\")\n",
    "    ax.set_ylabel(\"$-\\log_{10}$(observed pvalue)\")\n",
    "    ax.set_title(\"QQ-Plot - Null model #1\")"
   ]
  },
  {
   "cell_type": "markdown",
   "id": "3b9c80e9",
   "metadata": {
    "papermill": {
     "duration": 0.010426,
     "end_time": "2022-02-24T05:32:04.905993",
     "exception": false,
     "start_time": "2022-02-24T05:32:04.895567",
     "status": "completed"
    },
    "tags": []
   },
   "source": [
    "# Null simulations - real gene-trait associations"
   ]
  },
  {
   "cell_type": "markdown",
   "id": "4f4bd02a",
   "metadata": {},
   "source": [
    "## Load data"
   ]
  },
  {
   "cell_type": "code",
   "execution_count": 14,
   "id": "ba75c890",
   "metadata": {
    "papermill": {
     "duration": 0.023945,
     "end_time": "2022-02-24T05:32:04.808813",
     "exception": false,
     "start_time": "2022-02-24T05:32:04.784868",
     "status": "completed"
    },
    "tags": []
   },
   "outputs": [],
   "source": [
    "results = pd.read_pickle(INPUT_REAL_FILENAME)"
   ]
  },
  {
   "cell_type": "code",
   "execution_count": 15,
   "id": "969ba215",
   "metadata": {
    "papermill": {
     "duration": 0.015781,
     "end_time": "2022-02-24T05:32:04.834694",
     "exception": false,
     "start_time": "2022-02-24T05:32:04.818913",
     "status": "completed"
    },
    "tags": []
   },
   "outputs": [
    {
     "data": {
      "text/plain": [
       "(930, 4)"
      ]
     },
     "execution_count": 15,
     "metadata": {},
     "output_type": "execute_result"
    }
   ],
   "source": [
    "results.shape"
   ]
  },
  {
   "cell_type": "code",
   "execution_count": 16,
   "id": "e9b8d9c7",
   "metadata": {
    "papermill": {
     "duration": 0.038689,
     "end_time": "2022-02-24T05:32:04.884154",
     "exception": false,
     "start_time": "2022-02-24T05:32:04.845465",
     "status": "completed"
    },
    "tags": []
   },
   "outputs": [
    {
     "data": {
      "text/html": [
       "<div>\n",
       "<style scoped>\n",
       "    .dataframe tbody tr th:only-of-type {\n",
       "        vertical-align: middle;\n",
       "    }\n",
       "\n",
       "    .dataframe tbody tr th {\n",
       "        vertical-align: top;\n",
       "    }\n",
       "\n",
       "    .dataframe thead th {\n",
       "        text-align: right;\n",
       "    }\n",
       "</style>\n",
       "<table border=\"1\" class=\"dataframe\">\n",
       "  <thead>\n",
       "    <tr style=\"text-align: right;\">\n",
       "      <th></th>\n",
       "      <th>phenotype</th>\n",
       "      <th>lv</th>\n",
       "      <th>coef</th>\n",
       "      <th>pvalue</th>\n",
       "    </tr>\n",
       "  </thead>\n",
       "  <tbody>\n",
       "    <tr>\n",
       "      <th>0</th>\n",
       "      <td>supraventricular tachycardia</td>\n",
       "      <td>LV836</td>\n",
       "      <td>0.024826</td>\n",
       "      <td>0.023398</td>\n",
       "    </tr>\n",
       "    <tr>\n",
       "      <th>1</th>\n",
       "      <td>soft tissue neoplasm</td>\n",
       "      <td>LV965</td>\n",
       "      <td>-0.008985</td>\n",
       "      <td>0.768745</td>\n",
       "    </tr>\n",
       "    <tr>\n",
       "      <th>2</th>\n",
       "      <td>22601_62133370-Job_coding_traveltour_guide</td>\n",
       "      <td>LV725</td>\n",
       "      <td>0.000105</td>\n",
       "      <td>0.496584</td>\n",
       "    </tr>\n",
       "    <tr>\n",
       "      <th>3</th>\n",
       "      <td>radius fracture</td>\n",
       "      <td>LV670</td>\n",
       "      <td>-0.014912</td>\n",
       "      <td>0.880191</td>\n",
       "    </tr>\n",
       "    <tr>\n",
       "      <th>4</th>\n",
       "      <td>radius fracture</td>\n",
       "      <td>LV922</td>\n",
       "      <td>0.024495</td>\n",
       "      <td>0.023172</td>\n",
       "    </tr>\n",
       "  </tbody>\n",
       "</table>\n",
       "</div>"
      ],
      "text/plain": [
       "                                    phenotype     lv      coef    pvalue\n",
       "0                supraventricular tachycardia  LV836  0.024826  0.023398\n",
       "1                        soft tissue neoplasm  LV965 -0.008985  0.768745\n",
       "2  22601_62133370-Job_coding_traveltour_guide  LV725  0.000105  0.496584\n",
       "3                             radius fracture  LV670 -0.014912  0.880191\n",
       "4                             radius fracture  LV922  0.024495  0.023172"
      ]
     },
     "execution_count": 16,
     "metadata": {},
     "output_type": "execute_result"
    }
   ],
   "source": [
    "results.head()"
   ]
  },
  {
   "cell_type": "markdown",
   "id": "543c1ca1",
   "metadata": {},
   "source": [
    "## Proportion pvalue < 0.05"
   ]
  },
  {
   "cell_type": "code",
   "execution_count": 17,
   "id": "8803b9b2",
   "metadata": {},
   "outputs": [
    {
     "data": {
      "text/html": [
       "<div>\n",
       "<style scoped>\n",
       "    .dataframe tbody tr th:only-of-type {\n",
       "        vertical-align: middle;\n",
       "    }\n",
       "\n",
       "    .dataframe tbody tr th {\n",
       "        vertical-align: top;\n",
       "    }\n",
       "\n",
       "    .dataframe thead th {\n",
       "        text-align: right;\n",
       "    }\n",
       "</style>\n",
       "<table border=\"1\" class=\"dataframe\">\n",
       "  <thead>\n",
       "    <tr style=\"text-align: right;\">\n",
       "      <th></th>\n",
       "      <th>phenotype</th>\n",
       "      <th>lv</th>\n",
       "      <th>coef</th>\n",
       "      <th>pvalue</th>\n",
       "    </tr>\n",
       "  </thead>\n",
       "  <tbody>\n",
       "    <tr>\n",
       "      <th>0</th>\n",
       "      <td>supraventricular tachycardia</td>\n",
       "      <td>LV836</td>\n",
       "      <td>0.024826</td>\n",
       "      <td>0.023398</td>\n",
       "    </tr>\n",
       "    <tr>\n",
       "      <th>4</th>\n",
       "      <td>radius fracture</td>\n",
       "      <td>LV922</td>\n",
       "      <td>0.024495</td>\n",
       "      <td>0.023172</td>\n",
       "    </tr>\n",
       "    <tr>\n",
       "      <th>25</th>\n",
       "      <td>20486-Contemplated_selfharm_in_past_year</td>\n",
       "      <td>LV370</td>\n",
       "      <td>0.028611</td>\n",
       "      <td>0.010701</td>\n",
       "    </tr>\n",
       "    <tr>\n",
       "      <th>50</th>\n",
       "      <td>K11_OESOBST-Oesophageal_obstruction</td>\n",
       "      <td>LV350</td>\n",
       "      <td>0.027669</td>\n",
       "      <td>0.012736</td>\n",
       "    </tr>\n",
       "    <tr>\n",
       "      <th>51</th>\n",
       "      <td>vascular disease</td>\n",
       "      <td>LV596</td>\n",
       "      <td>0.022975</td>\n",
       "      <td>0.034357</td>\n",
       "    </tr>\n",
       "  </tbody>\n",
       "</table>\n",
       "</div>"
      ],
      "text/plain": [
       "                                   phenotype     lv      coef    pvalue\n",
       "0               supraventricular tachycardia  LV836  0.024826  0.023398\n",
       "4                            radius fracture  LV922  0.024495  0.023172\n",
       "25  20486-Contemplated_selfharm_in_past_year  LV370  0.028611  0.010701\n",
       "50       K11_OESOBST-Oesophageal_obstruction  LV350  0.027669  0.012736\n",
       "51                          vascular disease  LV596  0.022975  0.034357"
      ]
     },
     "metadata": {},
     "output_type": "display_data"
    }
   ],
   "source": [
    "_pvalue_lt_005 = results[results[\"pvalue\"] < 0.05]\n",
    "display(_pvalue_lt_005.head())"
   ]
  },
  {
   "cell_type": "code",
   "execution_count": 18,
   "id": "57e8db8e",
   "metadata": {},
   "outputs": [
    {
     "data": {
      "text/plain": [
       "(71, 4)"
      ]
     },
     "execution_count": 18,
     "metadata": {},
     "output_type": "execute_result"
    }
   ],
   "source": [
    "_pvalue_lt_005.shape"
   ]
  },
  {
   "cell_type": "code",
   "execution_count": 19,
   "id": "ac655b02",
   "metadata": {},
   "outputs": [
    {
     "data": {
      "text/plain": [
       "0.07634408602150537"
      ]
     },
     "execution_count": 19,
     "metadata": {},
     "output_type": "execute_result"
    }
   ],
   "source": [
    "# show proportion\n",
    "_pvalue_lt_005.shape[0] / results.shape[0]"
   ]
  },
  {
   "cell_type": "markdown",
   "id": "826972a9",
   "metadata": {},
   "source": [
    "## Plot"
   ]
  },
  {
   "cell_type": "code",
   "execution_count": 20,
   "id": "44a4fc43",
   "metadata": {
    "papermill": {
     "duration": 0.016445,
     "end_time": "2022-02-24T05:32:04.933024",
     "exception": false,
     "start_time": "2022-02-24T05:32:04.916579",
     "status": "completed"
    },
    "tags": []
   },
   "outputs": [],
   "source": [
    "data = results[\"pvalue\"].to_numpy()\n",
    "uniform_data = np.linspace(data.min(), data.max(), num=data.shape[0])"
   ]
  },
  {
   "cell_type": "code",
   "execution_count": 21,
   "id": "fb6a007e",
   "metadata": {
    "papermill": {
     "duration": 0.018047,
     "end_time": "2022-02-24T05:32:04.962092",
     "exception": false,
     "start_time": "2022-02-24T05:32:04.944045",
     "status": "completed"
    },
    "tags": []
   },
   "outputs": [
    {
     "data": {
      "text/plain": [
       "array([0.02339773, 0.76874472, 0.49658352, 0.88019134, 0.02317226])"
      ]
     },
     "metadata": {},
     "output_type": "display_data"
    },
    {
     "data": {
      "text/plain": [
       "array([6.16685020e-07, 1.07586585e-03, 2.15111501e-03, 3.22636418e-03,\n",
       "       4.30161334e-03])"
      ]
     },
     "metadata": {},
     "output_type": "display_data"
    }
   ],
   "source": [
    "display(data[:5])\n",
    "display(uniform_data[:5])"
   ]
  },
  {
   "cell_type": "code",
   "execution_count": 22,
   "id": "d8ed9914",
   "metadata": {
    "papermill": {
     "duration": 0.142909,
     "end_time": "2022-02-24T05:32:05.117221",
     "exception": false,
     "start_time": "2022-02-24T05:32:04.974312",
     "status": "completed"
    },
    "tags": []
   },
   "outputs": [
    {
     "data": {
      "image/png": "[encoded data removed]",
      "text/plain": [
       "<Figure size 360x360 with 1 Axes>"
      ]
     },
     "metadata": {
      "needs_background": "light"
     },
     "output_type": "display_data"
    }
   ],
   "source": [
    "with sns.plotting_context(\"paper\", font_scale=1.3):\n",
    "    fig, ax = plt.subplots(figsize=(5, 5))\n",
    "\n",
    "    fig = qqplot_2samples(-np.log10(uniform_data), -np.log10(data), line=\"45\", ax=ax)\n",
    "\n",
    "    ax.set_xlabel(\"$-\\log_{10}$(expected pvalue)\")\n",
    "    ax.set_ylabel(\"$-\\log_{10}$(observed pvalue)\")\n",
    "    ax.set_title(\"QQ-Plot - Null model #2\")"
   ]
  },
  {
   "cell_type": "code",
   "execution_count": null,
   "id": "91eeef6e",
   "metadata": {
    "papermill": {
     "duration": 0.011924,
     "end_time": "2022-02-24T05:32:05.141706",
     "exception": false,
     "start_time": "2022-02-24T05:32:05.129782",
     "status": "completed"
    },
    "tags": []
   },
   "outputs": [],
   "source": []
  }
 ],
 "metadata": {
  "jupytext": {
   "cell_metadata_filter": "all,-execution,-papermill,-trusted",
   "formats": "ipynb,py//py:percent"
  },
  "kernelspec": {
   "display_name": "Python 3 (ipykernel)",
   "language": "python",
   "name": "python3"
  },
  "language_info": {
   "codemirror_mode": {
    "name": "ipython",
    "version": 3
   },
   "file_extension": ".py",
   "mimetype": "text/x-python",
   "name": "python",
   "nbconvert_exporter": "python",
   "pygments_lexer": "ipython3",
   "version": "3.8.12"
  },
  "papermill": {
   "default_parameters": {},
   "duration": 2.899223,
   "end_time": "2022-02-24T05:32:05.472242",
   "environment_variables": {},
   "exception": null,
   "input_path": "nbs/15_gsa_gls/26-gls-null_simulations-plots.ipynb",
   "output_path": "nbs/15_gsa_gls/26-gls-null_simulations-plots.run.ipynb",
   "parameters": {},
   "start_time": "2022-02-24T05:32:02.573019",
   "version": "2.2.2"
  }
 },
 "nbformat": 4,
 "nbformat_minor": 5
}
