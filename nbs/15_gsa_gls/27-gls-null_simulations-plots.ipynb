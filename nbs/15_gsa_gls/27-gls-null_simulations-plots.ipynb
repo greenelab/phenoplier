{
 "cells": [
  {
   "cell_type": "markdown",
   "id": "89ca44fe",
   "metadata": {
    "papermill": {
     "duration": 0.038207,
     "end_time": "2022-02-24T05:32:03.755452",
     "exception": false,
     "start_time": "2022-02-24T05:32:03.717245",
     "status": "completed"
    },
    "tags": []
   },
   "source": [
    "# Description"
   ]
  },
  {
   "cell_type": "markdown",
   "id": "1bdea327",
   "metadata": {
    "papermill": {
     "duration": 0.009944,
     "end_time": "2022-02-24T05:32:03.780673",
     "exception": false,
     "start_time": "2022-02-24T05:32:03.770729",
     "status": "completed"
    },
    "tags": []
   },
   "source": [
    "TODO\n",
    "\n",
    "- rename this file to be 27-"
   ]
  },
  {
   "cell_type": "markdown",
   "id": "38515b0c",
   "metadata": {
    "papermill": {
     "duration": 0.008401,
     "end_time": "2022-02-24T05:32:03.797668",
     "exception": false,
     "start_time": "2022-02-24T05:32:03.789267",
     "status": "completed"
    },
    "tags": []
   },
   "source": [
    "# Modules"
   ]
  },
  {
   "cell_type": "code",
   "execution_count": 1,
   "id": "b8f7373d",
   "metadata": {
    "papermill": {
     "duration": 0.861241,
     "end_time": "2022-02-24T05:32:04.667481",
     "exception": false,
     "start_time": "2022-02-24T05:32:03.806240",
     "status": "completed"
    },
    "tags": []
   },
   "outputs": [],
   "source": [
    "from pathlib import Path\n",
    "\n",
    "import numpy as np\n",
    "import pandas as pd\n",
    "from statsmodels.graphics.gofplots import qqplot_2samples\n",
    "import matplotlib.pyplot as plt\n",
    "import seaborn as sns\n",
    "\n",
    "import conf"
   ]
  },
  {
   "cell_type": "markdown",
   "id": "1dbb931e",
   "metadata": {
    "papermill": {
     "duration": 0.008701,
     "end_time": "2022-02-24T05:32:04.685435",
     "exception": false,
     "start_time": "2022-02-24T05:32:04.676734",
     "status": "completed"
    },
    "tags": []
   },
   "source": [
    "# Settings"
   ]
  },
  {
   "cell_type": "code",
   "execution_count": 2,
   "id": "268dc15a",
   "metadata": {
    "papermill": {
     "duration": 0.016348,
     "end_time": "2022-02-24T05:32:04.710602",
     "exception": false,
     "start_time": "2022-02-24T05:32:04.694254",
     "status": "completed"
    },
    "tags": []
   },
   "outputs": [
    {
     "data": {
      "text/plain": [
       "PosixPath('/opt/data/results/gls')"
      ]
     },
     "metadata": {},
     "output_type": "display_data"
    }
   ],
   "source": [
    "INPUT_DIR = conf.RESULTS[\"GLS\"]\n",
    "display(INPUT_DIR)"
   ]
  },
  {
   "cell_type": "code",
   "execution_count": 3,
   "id": "c92de5c4",
   "metadata": {
    "papermill": {
     "duration": 0.015178,
     "end_time": "2022-02-24T05:32:04.735972",
     "exception": false,
     "start_time": "2022-02-24T05:32:04.720794",
     "status": "completed"
    },
    "tags": []
   },
   "outputs": [
    {
     "data": {
      "text/plain": [
       "PosixPath('/opt/data/results/gls/gls-null_simulations.pkl')"
      ]
     },
     "metadata": {},
     "output_type": "display_data"
    }
   ],
   "source": [
    "INPUT_FILENAME = INPUT_DIR / \"gls-null_simulations.pkl\"\n",
    "display(INPUT_FILENAME)\n",
    "assert INPUT_FILENAME.exists()"
   ]
  },
  {
   "cell_type": "code",
   "execution_count": 4,
   "id": "d22ef2b9",
   "metadata": {
    "papermill": {
     "duration": 0.015178,
     "end_time": "2022-02-24T05:32:04.735972",
     "exception": false,
     "start_time": "2022-02-24T05:32:04.720794",
     "status": "completed"
    },
    "tags": []
   },
   "outputs": [
    {
     "data": {
      "text/plain": [
       "PosixPath('/opt/data/results/gls/gls-null_simulations-real_data.pkl')"
      ]
     },
     "metadata": {},
     "output_type": "display_data"
    }
   ],
   "source": [
    "INPUT_REAL_FILENAME = INPUT_DIR / \"gls-null_simulations-real_data.pkl\"\n",
    "display(INPUT_REAL_FILENAME)\n",
    "assert INPUT_REAL_FILENAME.exists()"
   ]
  },
  {
   "cell_type": "markdown",
   "id": "74cbb398",
   "metadata": {
    "papermill": {
     "duration": 0.010426,
     "end_time": "2022-02-24T05:32:04.905993",
     "exception": false,
     "start_time": "2022-02-24T05:32:04.895567",
     "status": "completed"
    },
    "tags": []
   },
   "source": [
    "# Null simulations - artificial gene-trait associations"
   ]
  },
  {
   "cell_type": "markdown",
   "id": "37e78c4e",
   "metadata": {},
   "source": [
    "## Load data"
   ]
  },
  {
   "cell_type": "code",
   "execution_count": 5,
   "id": "89dbe2aa",
   "metadata": {
    "papermill": {
     "duration": 0.023945,
     "end_time": "2022-02-24T05:32:04.808813",
     "exception": false,
     "start_time": "2022-02-24T05:32:04.784868",
     "status": "completed"
    },
    "tags": []
   },
   "outputs": [],
   "source": [
    "results = pd.read_pickle(INPUT_FILENAME)"
   ]
  },
  {
   "cell_type": "code",
   "execution_count": 6,
   "id": "fd7074cb",
   "metadata": {
    "papermill": {
     "duration": 0.015781,
     "end_time": "2022-02-24T05:32:04.834694",
     "exception": false,
     "start_time": "2022-02-24T05:32:04.818913",
     "status": "completed"
    },
    "tags": []
   },
   "outputs": [
    {
     "data": {
      "text/plain": [
       "(10, 4)"
      ]
     },
     "execution_count": 6,
     "metadata": {},
     "output_type": "execute_result"
    }
   ],
   "source": [
    "results.shape"
   ]
  },
  {
   "cell_type": "code",
   "execution_count": 7,
   "id": "08c724df",
   "metadata": {
    "papermill": {
     "duration": 0.038689,
     "end_time": "2022-02-24T05:32:04.884154",
     "exception": false,
     "start_time": "2022-02-24T05:32:04.845465",
     "status": "completed"
    },
    "tags": []
   },
   "outputs": [
    {
     "data": {
      "text/html": [
       "<div>\n",
       "<style scoped>\n",
       "    .dataframe tbody tr th:only-of-type {\n",
       "        vertical-align: middle;\n",
       "    }\n",
       "\n",
       "    .dataframe tbody tr th {\n",
       "        vertical-align: top;\n",
       "    }\n",
       "\n",
       "    .dataframe thead th {\n",
       "        text-align: right;\n",
       "    }\n",
       "</style>\n",
       "<table border=\"1\" class=\"dataframe\">\n",
       "  <thead>\n",
       "    <tr style=\"text-align: right;\">\n",
       "      <th></th>\n",
       "      <th>phenotype</th>\n",
       "      <th>lv</th>\n",
       "      <th>coef</th>\n",
       "      <th>pvalue</th>\n",
       "    </tr>\n",
       "  </thead>\n",
       "  <tbody>\n",
       "    <tr>\n",
       "      <th>0</th>\n",
       "      <td>random_normal-73</td>\n",
       "      <td>LV793</td>\n",
       "      <td>-0.015397</td>\n",
       "      <td>0.892538</td>\n",
       "    </tr>\n",
       "    <tr>\n",
       "      <th>1</th>\n",
       "      <td>random_normal-74</td>\n",
       "      <td>LV738</td>\n",
       "      <td>0.018206</td>\n",
       "      <td>0.071598</td>\n",
       "    </tr>\n",
       "    <tr>\n",
       "      <th>2</th>\n",
       "      <td>random_normal-71</td>\n",
       "      <td>LV507</td>\n",
       "      <td>0.006586</td>\n",
       "      <td>0.294598</td>\n",
       "    </tr>\n",
       "    <tr>\n",
       "      <th>3</th>\n",
       "      <td>random_normal-21</td>\n",
       "      <td>LV326</td>\n",
       "      <td>-0.002914</td>\n",
       "      <td>0.590851</td>\n",
       "    </tr>\n",
       "    <tr>\n",
       "      <th>4</th>\n",
       "      <td>random_normal-51</td>\n",
       "      <td>LV682</td>\n",
       "      <td>0.003964</td>\n",
       "      <td>0.377072</td>\n",
       "    </tr>\n",
       "  </tbody>\n",
       "</table>\n",
       "</div>"
      ],
      "text/plain": [
       "          phenotype     lv      coef    pvalue\n",
       "0  random_normal-73  LV793 -0.015397  0.892538\n",
       "1  random_normal-74  LV738  0.018206  0.071598\n",
       "2  random_normal-71  LV507  0.006586  0.294598\n",
       "3  random_normal-21  LV326 -0.002914  0.590851\n",
       "4  random_normal-51  LV682  0.003964  0.377072"
      ]
     },
     "execution_count": 7,
     "metadata": {},
     "output_type": "execute_result"
    }
   ],
   "source": [
    "results.head()"
   ]
  },
  {
   "cell_type": "markdown",
   "id": "bfbf607f",
   "metadata": {},
   "source": [
    "## Plot"
   ]
  },
  {
   "cell_type": "code",
   "execution_count": 8,
   "id": "b193397b",
   "metadata": {
    "papermill": {
     "duration": 0.016445,
     "end_time": "2022-02-24T05:32:04.933024",
     "exception": false,
     "start_time": "2022-02-24T05:32:04.916579",
     "status": "completed"
    },
    "tags": []
   },
   "outputs": [],
   "source": [
    "data = results[\"pvalue\"].to_numpy()\n",
    "uniform_data = np.linspace(data.min(), data.max(), num=data.shape[0])"
   ]
  },
  {
   "cell_type": "code",
   "execution_count": 9,
   "id": "cd910de1",
   "metadata": {
    "papermill": {
     "duration": 0.018047,
     "end_time": "2022-02-24T05:32:04.962092",
     "exception": false,
     "start_time": "2022-02-24T05:32:04.944045",
     "status": "completed"
    },
    "tags": []
   },
   "outputs": [
    {
     "data": {
      "text/plain": [
       "array([0.89253774, 0.0715977 , 0.29459795, 0.59085101, 0.37707179])"
      ]
     },
     "metadata": {},
     "output_type": "display_data"
    },
    {
     "data": {
      "text/plain": [
       "array([0.04141019, 0.13597992, 0.23054965, 0.32511938, 0.4196891 ])"
      ]
     },
     "metadata": {},
     "output_type": "display_data"
    }
   ],
   "source": [
    "display(data[:5])\n",
    "display(uniform_data[:5])"
   ]
  },
  {
   "cell_type": "code",
   "execution_count": 10,
   "id": "de5f161a",
   "metadata": {
    "papermill": {
     "duration": 0.142909,
     "end_time": "2022-02-24T05:32:05.117221",
     "exception": false,
     "start_time": "2022-02-24T05:32:04.974312",
     "status": "completed"
    },
    "tags": []
   },
   "outputs": [
    {
     "data": {
      "image/png": "[encoded data removed]",
      "text/plain": [
       "<Figure size 360x360 with 1 Axes>"
      ]
     },
     "metadata": {
      "needs_background": "light"
     },
     "output_type": "display_data"
    }
   ],
   "source": [
    "with sns.plotting_context(\"paper\", font_scale=1.5):\n",
    "    fig, ax = plt.subplots(figsize=(5, 5))\n",
    "\n",
    "    fig = qqplot_2samples(-np.log10(uniform_data), -np.log10(data), line=\"45\", ax=ax)\n",
    "\n",
    "    ax.set_xlabel(\"$-\\log_{10}$(expected pvalue)\")\n",
    "    ax.set_ylabel(\"$-\\log_{10}$(observed pvalue)\")\n",
    "    ax.set_title(\"QQ-Plot\")"
   ]
  },
  {
   "cell_type": "markdown",
   "id": "df9adee3",
   "metadata": {
    "papermill": {
     "duration": 0.010426,
     "end_time": "2022-02-24T05:32:04.905993",
     "exception": false,
     "start_time": "2022-02-24T05:32:04.895567",
     "status": "completed"
    },
    "tags": []
   },
   "source": [
    "# Null simulations - real gene-trait associations"
   ]
  },
  {
   "cell_type": "markdown",
   "id": "ae0813c6",
   "metadata": {},
   "source": [
    "## Load data"
   ]
  },
  {
   "cell_type": "code",
   "execution_count": 11,
   "id": "51e42be0",
   "metadata": {
    "papermill": {
     "duration": 0.023945,
     "end_time": "2022-02-24T05:32:04.808813",
     "exception": false,
     "start_time": "2022-02-24T05:32:04.784868",
     "status": "completed"
    },
    "tags": []
   },
   "outputs": [],
   "source": [
    "results = pd.read_pickle(INPUT_REAL_FILENAME)"
   ]
  },
  {
   "cell_type": "code",
   "execution_count": 12,
   "id": "22c8b4d0",
   "metadata": {
    "papermill": {
     "duration": 0.015781,
     "end_time": "2022-02-24T05:32:04.834694",
     "exception": false,
     "start_time": "2022-02-24T05:32:04.818913",
     "status": "completed"
    },
    "tags": []
   },
   "outputs": [
    {
     "data": {
      "text/plain": [
       "(10, 4)"
      ]
     },
     "execution_count": 12,
     "metadata": {},
     "output_type": "execute_result"
    }
   ],
   "source": [
    "results.shape"
   ]
  },
  {
   "cell_type": "code",
   "execution_count": 13,
   "id": "da03deeb",
   "metadata": {
    "papermill": {
     "duration": 0.038689,
     "end_time": "2022-02-24T05:32:04.884154",
     "exception": false,
     "start_time": "2022-02-24T05:32:04.845465",
     "status": "completed"
    },
    "tags": []
   },
   "outputs": [
    {
     "data": {
      "text/html": [
       "<div>\n",
       "<style scoped>\n",
       "    .dataframe tbody tr th:only-of-type {\n",
       "        vertical-align: middle;\n",
       "    }\n",
       "\n",
       "    .dataframe tbody tr th {\n",
       "        vertical-align: top;\n",
       "    }\n",
       "\n",
       "    .dataframe thead th {\n",
       "        text-align: right;\n",
       "    }\n",
       "</style>\n",
       "<table border=\"1\" class=\"dataframe\">\n",
       "  <thead>\n",
       "    <tr style=\"text-align: right;\">\n",
       "      <th></th>\n",
       "      <th>phenotype</th>\n",
       "      <th>lv</th>\n",
       "      <th>coef</th>\n",
       "      <th>pvalue</th>\n",
       "    </tr>\n",
       "  </thead>\n",
       "  <tbody>\n",
       "    <tr>\n",
       "      <th>0</th>\n",
       "      <td>supraventricular tachycardia</td>\n",
       "      <td>LV836</td>\n",
       "      <td>0.024826</td>\n",
       "      <td>0.023398</td>\n",
       "    </tr>\n",
       "    <tr>\n",
       "      <th>1</th>\n",
       "      <td>soft tissue neoplasm</td>\n",
       "      <td>LV965</td>\n",
       "      <td>-0.008985</td>\n",
       "      <td>0.768745</td>\n",
       "    </tr>\n",
       "    <tr>\n",
       "      <th>2</th>\n",
       "      <td>22601_62133370-Job_coding_traveltour_guide</td>\n",
       "      <td>LV725</td>\n",
       "      <td>0.000105</td>\n",
       "      <td>0.496584</td>\n",
       "    </tr>\n",
       "    <tr>\n",
       "      <th>3</th>\n",
       "      <td>radius fracture</td>\n",
       "      <td>LV670</td>\n",
       "      <td>-0.014912</td>\n",
       "      <td>0.880191</td>\n",
       "    </tr>\n",
       "    <tr>\n",
       "      <th>4</th>\n",
       "      <td>radius fracture</td>\n",
       "      <td>LV922</td>\n",
       "      <td>0.024495</td>\n",
       "      <td>0.023172</td>\n",
       "    </tr>\n",
       "  </tbody>\n",
       "</table>\n",
       "</div>"
      ],
      "text/plain": [
       "                                    phenotype     lv      coef    pvalue\n",
       "0                supraventricular tachycardia  LV836  0.024826  0.023398\n",
       "1                        soft tissue neoplasm  LV965 -0.008985  0.768745\n",
       "2  22601_62133370-Job_coding_traveltour_guide  LV725  0.000105  0.496584\n",
       "3                             radius fracture  LV670 -0.014912  0.880191\n",
       "4                             radius fracture  LV922  0.024495  0.023172"
      ]
     },
     "execution_count": 13,
     "metadata": {},
     "output_type": "execute_result"
    }
   ],
   "source": [
    "results.head()"
   ]
  },
  {
   "cell_type": "markdown",
   "id": "2eadc9c7",
   "metadata": {},
   "source": [
    "## Plot"
   ]
  },
  {
   "cell_type": "code",
   "execution_count": 14,
   "id": "14c7158c",
   "metadata": {
    "papermill": {
     "duration": 0.016445,
     "end_time": "2022-02-24T05:32:04.933024",
     "exception": false,
     "start_time": "2022-02-24T05:32:04.916579",
     "status": "completed"
    },
    "tags": []
   },
   "outputs": [],
   "source": [
    "data = results[\"pvalue\"].to_numpy()\n",
    "uniform_data = np.linspace(data.min(), data.max(), num=data.shape[0])"
   ]
  },
  {
   "cell_type": "code",
   "execution_count": 15,
   "id": "0017bdb0",
   "metadata": {
    "papermill": {
     "duration": 0.018047,
     "end_time": "2022-02-24T05:32:04.962092",
     "exception": false,
     "start_time": "2022-02-24T05:32:04.944045",
     "status": "completed"
    },
    "tags": []
   },
   "outputs": [
    {
     "data": {
      "text/plain": [
       "array([0.02339773, 0.76874472, 0.49658352, 0.88019134, 0.02317226])"
      ]
     },
     "metadata": {},
     "output_type": "display_data"
    },
    {
     "data": {
      "text/plain": [
       "array([0.02317226, 0.12566372, 0.22815517, 0.33064663, 0.43313808])"
      ]
     },
     "metadata": {},
     "output_type": "display_data"
    }
   ],
   "source": [
    "display(data[:5])\n",
    "display(uniform_data[:5])"
   ]
  },
  {
   "cell_type": "code",
   "execution_count": 16,
   "id": "e00c7517",
   "metadata": {
    "papermill": {
     "duration": 0.142909,
     "end_time": "2022-02-24T05:32:05.117221",
     "exception": false,
     "start_time": "2022-02-24T05:32:04.974312",
     "status": "completed"
    },
    "tags": []
   },
   "outputs": [
    {
     "data": {
      "image/png": "[encoded data removed]",
      "text/plain": [
       "<Figure size 360x360 with 1 Axes>"
      ]
     },
     "metadata": {
      "needs_background": "light"
     },
     "output_type": "display_data"
    }
   ],
   "source": [
    "with sns.plotting_context(\"paper\", font_scale=1.5):\n",
    "    fig, ax = plt.subplots(figsize=(5, 5))\n",
    "\n",
    "    fig = qqplot_2samples(-np.log10(uniform_data), -np.log10(data), line=\"45\", ax=ax)\n",
    "\n",
    "    ax.set_xlabel(\"$-\\log_{10}$(expected pvalue)\")\n",
    "    ax.set_ylabel(\"$-\\log_{10}$(observed pvalue)\")\n",
    "    ax.set_title(\"QQ-Plot\")"
   ]
  },
  {
   "cell_type": "code",
   "execution_count": null,
   "id": "cbaecc5c",
   "metadata": {
    "papermill": {
     "duration": 0.011924,
     "end_time": "2022-02-24T05:32:05.141706",
     "exception": false,
     "start_time": "2022-02-24T05:32:05.129782",
     "status": "completed"
    },
    "tags": []
   },
   "outputs": [],
   "source": []
  }
 ],
 "metadata": {
  "jupytext": {
   "cell_metadata_filter": "all,-execution,-papermill,-trusted",
   "formats": "ipynb,py//py:percent"
  },
  "kernelspec": {
   "display_name": "Python 3 (ipykernel)",
   "language": "python",
   "name": "python3"
  },
  "language_info": {
   "codemirror_mode": {
    "name": "ipython",
    "version": 3
   },
   "file_extension": ".py",
   "mimetype": "text/x-python",
   "name": "python",
   "nbconvert_exporter": "python",
   "pygments_lexer": "ipython3",
   "version": "3.8.12"
  },
  "papermill": {
   "default_parameters": {},
   "duration": 2.899223,
   "end_time": "2022-02-24T05:32:05.472242",
   "environment_variables": {},
   "exception": null,
   "input_path": "nbs/15_gsa_gls/26-gls-null_simulations-plots.ipynb",
   "output_path": "nbs/15_gsa_gls/26-gls-null_simulations-plots.run.ipynb",
   "parameters": {},
   "start_time": "2022-02-24T05:32:02.573019",
   "version": "2.2.2"
  }
 },
 "nbformat": 4,
 "nbformat_minor": 5
}
