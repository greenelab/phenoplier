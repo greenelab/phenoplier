{
 "cells": [
  {
   "cell_type": "markdown",
   "id": "d88b3ffc",
   "metadata": {
    "papermill": {
     "duration": 0.030116,
     "end_time": "2021-05-01T02:06:16.164951",
     "exception": false,
     "start_time": "2021-05-01T02:06:16.134835",
     "status": "completed"
    },
    "tags": []
   },
   "source": [
    "# Description"
   ]
  },
  {
   "cell_type": "markdown",
   "id": "69f66c44",
   "metadata": {
    "papermill": {
     "duration": 0.025831,
     "end_time": "2021-05-01T02:06:16.216963",
     "exception": false,
     "start_time": "2021-05-01T02:06:16.191132",
     "status": "completed"
    },
    "tags": []
   },
   "source": [
    "(Please, take a look at the README.md file in this directory for instructions on how to run this notebook)\n",
    "\n",
    "This notebook computes the covariance of SNPs for each chr."
   ]
  },
  {
   "cell_type": "markdown",
   "id": "0cb79cbe",
   "metadata": {
    "papermill": {
     "duration": 0.025907,
     "end_time": "2021-05-01T02:06:16.268871",
     "exception": false,
     "start_time": "2021-05-01T02:06:16.242964",
     "status": "completed"
    },
    "tags": []
   },
   "source": [
    "# Modules"
   ]
  },
  {
   "cell_type": "code",
   "execution_count": null,
   "id": "0a4272be",
   "metadata": {
    "papermill": {
     "duration": 0.039766,
     "end_time": "2021-05-01T02:06:16.335232",
     "exception": false,
     "start_time": "2021-05-01T02:06:16.295466",
     "status": "completed"
    },
    "tags": []
   },
   "outputs": [],
   "source": [
    "%load_ext autoreload\n",
    "%autoreload 2"
   ]
  },
  {
   "cell_type": "code",
   "execution_count": null,
   "id": "4141c781",
   "metadata": {
    "papermill": {
     "duration": 0.397986,
     "end_time": "2021-05-01T02:06:16.761106",
     "exception": false,
     "start_time": "2021-05-01T02:06:16.363120",
     "status": "completed"
    },
    "tags": []
   },
   "outputs": [],
   "source": [
    "import gc\n",
    "import sqlite3\n",
    "from pathlib import Path\n",
    "\n",
    "import numpy as np\n",
    "import pandas as pd\n",
    "from tqdm import tqdm\n",
    "\n",
    "import conf\n",
    "from entity import Gene"
   ]
  },
  {
   "cell_type": "markdown",
   "id": "37055abe",
   "metadata": {},
   "source": [
    "# Settings"
   ]
  },
  {
   "cell_type": "code",
   "execution_count": null,
   "id": "ac93914d",
   "metadata": {
    "tags": [
     "parameters"
    ]
   },
   "outputs": [],
   "source": [
    "# reference panel\n",
    "REFERENCE_PANEL = \"GTEX_V8\"\n",
    "# REFERENCE_PANEL = \"1000G\"\n",
    "\n",
    "# prediction models\n",
    "## mashr\n",
    "EQTL_MODEL = \"MASHR\"\n",
    "EQTL_MODEL_FILES_PREFIX = \"mashr_\"\n",
    "\n",
    "# ## elastic net\n",
    "# EQTL_MODEL = \"ELASTIC_NET\"\n",
    "# EQTL_MODEL_FILES_PREFIX = \"en_\"\n",
    "\n",
    "# make it read the prefix from conf.py\n",
    "EQTL_MODEL_FILES_PREFIX = None\n",
    "\n",
    "# the numpy dtype used for the covariance matrix\n",
    "#  either float64 or float32 (for huge matrices)\n",
    "COVARIANCE_MATRIX_DTYPE = None"
   ]
  },
  {
   "cell_type": "code",
   "execution_count": null,
   "id": "455c2e55",
   "metadata": {},
   "outputs": [],
   "source": [
    "if EQTL_MODEL_FILES_PREFIX is None:\n",
    "    EQTL_MODEL_FILES_PREFIX = conf.PHENOMEXCAN[\"PREDICTION_MODELS\"][\n",
    "        f\"{EQTL_MODEL}_PREFIX\"\n",
    "    ]"
   ]
  },
  {
   "cell_type": "code",
   "execution_count": null,
   "id": "ebd7a49b-8062-4c37-b571-efb5c4689adc",
   "metadata": {},
   "outputs": [],
   "source": [
    "display(f\"Using eQTL model: {EQTL_MODEL} / {EQTL_MODEL_FILES_PREFIX}\")"
   ]
  },
  {
   "cell_type": "code",
   "execution_count": null,
   "id": "32bd0019-14eb-4645-8a7f-98bdcf11e04a",
   "metadata": {},
   "outputs": [],
   "source": [
    "REFERENCE_PANEL_DIR = conf.PHENOMEXCAN[\"LD_BLOCKS\"][f\"{REFERENCE_PANEL}_GENOTYPE_DIR\"]"
   ]
  },
  {
   "cell_type": "code",
   "execution_count": null,
   "id": "a2ea1be5",
   "metadata": {},
   "outputs": [],
   "source": [
    "display(f\"Using reference panel folder: {str(REFERENCE_PANEL_DIR)}\")"
   ]
  },
  {
   "cell_type": "code",
   "execution_count": null,
   "id": "e9bac058-9add-44c1-897d-09200964448c",
   "metadata": {},
   "outputs": [],
   "source": [
    "OUTPUT_DIR_BASE = (\n",
    "    conf.RESULTS[\"GLS\"]\n",
    "    / \"gene_corrs\"\n",
    "    / \"reference_panels\"\n",
    "    / REFERENCE_PANEL.lower()\n",
    "    / EQTL_MODEL.lower()\n",
    ")\n",
    "OUTPUT_DIR_BASE.mkdir(parents=True, exist_ok=True)"
   ]
  },
  {
   "cell_type": "code",
   "execution_count": null,
   "id": "09a8d5b0-82d8-4f5d-97f4-6910301cba8b",
   "metadata": {},
   "outputs": [],
   "source": [
    "display(f\"Using output dir base: {OUTPUT_DIR_BASE}\")"
   ]
  },
  {
   "cell_type": "code",
   "execution_count": null,
   "id": "c264a67f",
   "metadata": {},
   "outputs": [],
   "source": [
    "cov_dtype_dict = {\n",
    "    \"float32\": np.float32,\n",
    "    \"float64\": np.float64,\n",
    "}\n",
    "\n",
    "if COVARIANCE_MATRIX_DTYPE in cov_dtype_dict:\n",
    "    COV_DTYPE = cov_dtype_dict[COVARIANCE_MATRIX_DTYPE]\n",
    "else:\n",
    "    COV_DTYPE = np.float64\n",
    "\n",
    "display(f\"Covariance matrix dtype used: {str(COV_DTYPE)}\")"
   ]
  },
  {
   "cell_type": "markdown",
   "id": "37dfafb8",
   "metadata": {
    "papermill": {
     "duration": 0.026832,
     "end_time": "2021-05-01T02:06:16.817536",
     "exception": false,
     "start_time": "2021-05-01T02:06:16.790704",
     "status": "completed"
    },
    "tags": []
   },
   "source": [
    "# Load data"
   ]
  },
  {
   "cell_type": "markdown",
   "id": "c6f55abd",
   "metadata": {
    "papermill": {
     "duration": 0.027069,
     "end_time": "2021-05-01T02:06:16.875152",
     "exception": false,
     "start_time": "2021-05-01T02:06:16.848083",
     "status": "completed"
    },
    "tags": []
   },
   "source": [
    "## Functions"
   ]
  },
  {
   "cell_type": "code",
   "execution_count": null,
   "id": "5d1731cc-7c43-4dbe-bea5-88a9ecfc58f8",
   "metadata": {},
   "outputs": [],
   "source": [
    "def get_reference_panel_file(directory: Path, file_pattern: str) -> Path:\n",
    "    files = list(directory.glob(f\"*{file_pattern}*.parquet\"))\n",
    "    assert len(files) == 1, f\"More than one file was found: {files}\"\n",
    "    return files[0]"
   ]
  },
  {
   "cell_type": "code",
   "execution_count": null,
   "id": "5b460090-39d3-40da-a06a-8ccc039e748c",
   "metadata": {},
   "outputs": [],
   "source": [
    "# testing\n",
    "_tmp = get_reference_panel_file(\n",
    "    conf.PHENOMEXCAN[\"LD_BLOCKS\"][\"GTEX_V8_GENOTYPE_DIR\"], \"chr1.variants\"\n",
    ")\n",
    "assert _tmp is not None\n",
    "assert (\n",
    "    _tmp.name\n",
    "    == \"gtex_v8_eur_filtered_maf0.01_monoallelic_variants.chr1.variants.parquet\"\n",
    ")\n",
    "\n",
    "_tmp = get_reference_panel_file(\n",
    "    conf.PHENOMEXCAN[\"LD_BLOCKS\"][\"GTEX_V8_GENOTYPE_DIR\"], \"_metadata\"\n",
    ")\n",
    "assert _tmp is not None\n",
    "assert (\n",
    "    _tmp.name\n",
    "    == \"gtex_v8_eur_filtered_maf0.01_monoallelic_variants.variants_metadata.parquet\"\n",
    ")\n",
    "\n",
    "# 1000G\n",
    "_tmp = get_reference_panel_file(\n",
    "    conf.PHENOMEXCAN[\"LD_BLOCKS\"][\"1000G_GENOTYPE_DIR\"], \"chr1.variants\"\n",
    ")\n",
    "assert _tmp is not None\n",
    "assert _tmp.name == \"chr1.variants.parquet\"\n",
    "\n",
    "_tmp = get_reference_panel_file(\n",
    "    conf.PHENOMEXCAN[\"LD_BLOCKS\"][\"1000G_GENOTYPE_DIR\"], \"_metadata\"\n",
    ")\n",
    "assert _tmp is not None\n",
    "assert _tmp.name == \"variant_metadata.parquet\"\n",
    "\n",
    "# pattern matches more than one file\n",
    "try:\n",
    "    get_reference_panel_file(\n",
    "        conf.PHENOMEXCAN[\"LD_BLOCKS\"][\"1000G_GENOTYPE_DIR\"], \"chr1\"\n",
    "    )\n",
    "    raise AssertionError(\"Exception was not raised\")\n",
    "except AssertionError as e:\n",
    "    assert \"More than one file was found\" in str(e)"
   ]
  },
  {
   "cell_type": "markdown",
   "id": "cd93f57d-ba1b-463c-b5ae-97435954a5de",
   "metadata": {
    "papermill": {
     "duration": 0.027069,
     "end_time": "2021-05-01T02:06:16.875152",
     "exception": false,
     "start_time": "2021-05-01T02:06:16.848083",
     "status": "completed"
    },
    "tags": []
   },
   "source": [
    "## SNPs in predictions models"
   ]
  },
  {
   "cell_type": "code",
   "execution_count": null,
   "id": "c94c4cbb",
   "metadata": {
    "papermill": {
     "duration": 0.036493,
     "end_time": "2021-05-01T02:06:16.938020",
     "exception": false,
     "start_time": "2021-05-01T02:06:16.901527",
     "status": "completed"
    },
    "tags": []
   },
   "outputs": [],
   "source": [
    "mashr_models_db_files = list(\n",
    "    conf.PHENOMEXCAN[\"PREDICTION_MODELS\"][EQTL_MODEL].glob(\"*.db\")\n",
    ")"
   ]
  },
  {
   "cell_type": "code",
   "execution_count": null,
   "id": "9015c1d7",
   "metadata": {
    "papermill": {
     "duration": 0.036168,
     "end_time": "2021-05-01T02:06:17.001337",
     "exception": false,
     "start_time": "2021-05-01T02:06:16.965169",
     "status": "completed"
    },
    "tags": []
   },
   "outputs": [],
   "source": [
    "assert len(mashr_models_db_files) == 49"
   ]
  },
  {
   "cell_type": "code",
   "execution_count": null,
   "id": "d5a28a46",
   "metadata": {
    "papermill": {
     "duration": 1.581321,
     "end_time": "2021-05-01T02:06:18.608741",
     "exception": false,
     "start_time": "2021-05-01T02:06:17.027420",
     "status": "completed"
    },
    "tags": []
   },
   "outputs": [],
   "source": [
    "all_variants_ids = []\n",
    "\n",
    "for m in mashr_models_db_files:\n",
    "    print(f\"Processing {m.name}\")\n",
    "    tissue = m.name.split(EQTL_MODEL_FILES_PREFIX)[1].split(\".db\")[0]\n",
    "\n",
    "    with sqlite3.connect(m) as conn:\n",
    "        df = pd.read_sql(\"select gene, varID from weights\", conn)\n",
    "        df[\"gene\"] = df[\"gene\"].apply(lambda x: x.split(\".\")[0])\n",
    "        df = df.assign(tissue=tissue)\n",
    "\n",
    "        all_variants_ids.append(df)"
   ]
  },
  {
   "cell_type": "code",
   "execution_count": null,
   "id": "986feda1",
   "metadata": {
    "papermill": {
     "duration": 0.169887,
     "end_time": "2021-05-01T02:06:18.809836",
     "exception": false,
     "start_time": "2021-05-01T02:06:18.639949",
     "status": "completed"
    },
    "tags": []
   },
   "outputs": [],
   "source": [
    "all_gene_snps = pd.concat(all_variants_ids, ignore_index=True)"
   ]
  },
  {
   "cell_type": "code",
   "execution_count": null,
   "id": "cdbb12ef",
   "metadata": {
    "papermill": {
     "duration": 0.047036,
     "end_time": "2021-05-01T02:06:18.893702",
     "exception": false,
     "start_time": "2021-05-01T02:06:18.846666",
     "status": "completed"
    },
    "tags": []
   },
   "outputs": [],
   "source": [
    "all_gene_snps.shape"
   ]
  },
  {
   "cell_type": "code",
   "execution_count": null,
   "id": "c5300203",
   "metadata": {
    "papermill": {
     "duration": 0.04134,
     "end_time": "2021-05-01T02:06:18.963529",
     "exception": false,
     "start_time": "2021-05-01T02:06:18.922189",
     "status": "completed"
    },
    "tags": []
   },
   "outputs": [],
   "source": [
    "all_gene_snps.head()"
   ]
  },
  {
   "cell_type": "code",
   "execution_count": null,
   "id": "e5a2d4be",
   "metadata": {
    "papermill": {
     "duration": 0.35692,
     "end_time": "2021-05-01T02:06:19.348961",
     "exception": false,
     "start_time": "2021-05-01T02:06:18.992041",
     "status": "completed"
    },
    "tags": []
   },
   "outputs": [],
   "source": [
    "all_snps_in_models = set(all_gene_snps[\"varID\"].unique())"
   ]
  },
  {
   "cell_type": "markdown",
   "id": "e2cfb3d9",
   "metadata": {
    "papermill": {
     "duration": 0.029665,
     "end_time": "2021-05-01T02:06:19.415645",
     "exception": false,
     "start_time": "2021-05-01T02:06:19.385980",
     "status": "completed"
    },
    "tags": []
   },
   "source": [
    "## MultiPLIER Z"
   ]
  },
  {
   "cell_type": "code",
   "execution_count": null,
   "id": "0e901bf8",
   "metadata": {
    "papermill": {
     "duration": 0.057348,
     "end_time": "2021-05-01T02:06:19.500944",
     "exception": false,
     "start_time": "2021-05-01T02:06:19.443596",
     "status": "completed"
    },
    "tags": []
   },
   "outputs": [],
   "source": [
    "multiplier_z = pd.read_pickle(conf.MULTIPLIER[\"MODEL_Z_MATRIX_FILE\"])"
   ]
  },
  {
   "cell_type": "code",
   "execution_count": null,
   "id": "55da6f21",
   "metadata": {
    "papermill": {
     "duration": 0.038176,
     "end_time": "2021-05-01T02:06:19.571136",
     "exception": false,
     "start_time": "2021-05-01T02:06:19.532960",
     "status": "completed"
    },
    "tags": []
   },
   "outputs": [],
   "source": [
    "multiplier_z.shape"
   ]
  },
  {
   "cell_type": "code",
   "execution_count": null,
   "id": "5efd6fc7",
   "metadata": {
    "papermill": {
     "duration": 0.049543,
     "end_time": "2021-05-01T02:06:19.649742",
     "exception": false,
     "start_time": "2021-05-01T02:06:19.600199",
     "status": "completed"
    },
    "tags": []
   },
   "outputs": [],
   "source": [
    "multiplier_z.head()"
   ]
  },
  {
   "cell_type": "markdown",
   "id": "c2109617",
   "metadata": {
    "papermill": {
     "duration": 0.028575,
     "end_time": "2021-05-01T02:06:19.708159",
     "exception": false,
     "start_time": "2021-05-01T02:06:19.679584",
     "status": "completed"
    },
    "tags": []
   },
   "source": [
    "## Reference panel variants metadata"
   ]
  },
  {
   "cell_type": "code",
   "execution_count": null,
   "id": "f69e80b2",
   "metadata": {
    "papermill": {
     "duration": 0.038654,
     "end_time": "2021-05-01T02:06:19.775018",
     "exception": false,
     "start_time": "2021-05-01T02:06:19.736364",
     "status": "completed"
    },
    "tags": []
   },
   "outputs": [],
   "source": [
    "input_file = get_reference_panel_file(REFERENCE_PANEL_DIR, \"_metadata\")\n",
    "display(input_file)"
   ]
  },
  {
   "cell_type": "code",
   "execution_count": null,
   "id": "41e34ee0",
   "metadata": {
    "papermill": {
     "duration": 6.024264,
     "end_time": "2021-05-01T02:06:25.827585",
     "exception": false,
     "start_time": "2021-05-01T02:06:19.803321",
     "status": "completed"
    },
    "tags": []
   },
   "outputs": [],
   "source": [
    "variants_metadata = pd.read_parquet(input_file, columns=[\"id\"])"
   ]
  },
  {
   "cell_type": "code",
   "execution_count": null,
   "id": "81410760",
   "metadata": {
    "papermill": {
     "duration": 0.045381,
     "end_time": "2021-05-01T02:06:25.902980",
     "exception": false,
     "start_time": "2021-05-01T02:06:25.857599",
     "status": "completed"
    },
    "tags": []
   },
   "outputs": [],
   "source": [
    "variants_metadata.shape"
   ]
  },
  {
   "cell_type": "code",
   "execution_count": null,
   "id": "1d008de7",
   "metadata": {
    "papermill": {
     "duration": 0.042522,
     "end_time": "2021-05-01T02:06:25.976224",
     "exception": false,
     "start_time": "2021-05-01T02:06:25.933702",
     "status": "completed"
    },
    "tags": []
   },
   "outputs": [],
   "source": [
    "variants_metadata.head()"
   ]
  },
  {
   "cell_type": "code",
   "execution_count": null,
   "id": "45bd2164",
   "metadata": {
    "papermill": {
     "duration": 7.609034,
     "end_time": "2021-05-01T02:06:33.615428",
     "exception": false,
     "start_time": "2021-05-01T02:06:26.006394",
     "status": "completed"
    },
    "tags": []
   },
   "outputs": [],
   "source": [
    "variants_ids_with_genotype = set(variants_metadata[\"id\"])"
   ]
  },
  {
   "cell_type": "code",
   "execution_count": null,
   "id": "8f2937d7",
   "metadata": {
    "papermill": {
     "duration": 0.041583,
     "end_time": "2021-05-01T02:06:33.693743",
     "exception": false,
     "start_time": "2021-05-01T02:06:33.652160",
     "status": "completed"
    },
    "tags": []
   },
   "outputs": [],
   "source": [
    "len(variants_ids_with_genotype)"
   ]
  },
  {
   "cell_type": "code",
   "execution_count": null,
   "id": "6b160cc3",
   "metadata": {
    "papermill": {
     "duration": 2.919124,
     "end_time": "2021-05-01T02:06:36.642850",
     "exception": false,
     "start_time": "2021-05-01T02:06:33.723726",
     "status": "completed"
    },
    "tags": []
   },
   "outputs": [],
   "source": [
    "list(variants_ids_with_genotype)[:10]"
   ]
  },
  {
   "cell_type": "code",
   "execution_count": null,
   "id": "0a38a43c",
   "metadata": {
    "papermill": {
     "duration": 0.044995,
     "end_time": "2021-05-01T02:06:36.730033",
     "exception": false,
     "start_time": "2021-05-01T02:06:36.685038",
     "status": "completed"
    },
    "tags": []
   },
   "outputs": [],
   "source": [
    "del variants_metadata"
   ]
  },
  {
   "cell_type": "markdown",
   "id": "4b7ca4c8",
   "metadata": {
    "papermill": {
     "duration": 0.029312,
     "end_time": "2021-05-01T02:06:36.790291",
     "exception": false,
     "start_time": "2021-05-01T02:06:36.760979",
     "status": "completed"
    },
    "tags": []
   },
   "source": [
    "# How many variants in predictions models are present in the reference panel?"
   ]
  },
  {
   "cell_type": "code",
   "execution_count": null,
   "id": "4e323c11",
   "metadata": {
    "papermill": {
     "duration": 0.040975,
     "end_time": "2021-05-01T02:06:36.860303",
     "exception": false,
     "start_time": "2021-05-01T02:06:36.819328",
     "status": "completed"
    },
    "tags": []
   },
   "outputs": [],
   "source": [
    "n_snps_in_models = len(all_snps_in_models)\n",
    "display(n_snps_in_models)"
   ]
  },
  {
   "cell_type": "code",
   "execution_count": null,
   "id": "a9ecb68e",
   "metadata": {
    "papermill": {
     "duration": 0.09885,
     "end_time": "2021-05-01T02:06:36.989096",
     "exception": false,
     "start_time": "2021-05-01T02:06:36.890246",
     "status": "completed"
    },
    "tags": []
   },
   "outputs": [],
   "source": [
    "n_snps_in_ref_panel = len(all_snps_in_models.intersection(variants_ids_with_genotype))\n",
    "display(n_snps_in_ref_panel)"
   ]
  },
  {
   "cell_type": "code",
   "execution_count": null,
   "id": "5f2f5991",
   "metadata": {
    "papermill": {
     "duration": 0.044521,
     "end_time": "2021-05-01T02:06:37.074626",
     "exception": false,
     "start_time": "2021-05-01T02:06:37.030105",
     "status": "completed"
    },
    "tags": []
   },
   "outputs": [],
   "source": [
    "n_snps_in_ref_panel / n_snps_in_models"
   ]
  },
  {
   "cell_type": "markdown",
   "id": "a9a0d07c",
   "metadata": {
    "papermill": {
     "duration": 0.030258,
     "end_time": "2021-05-01T02:06:37.136374",
     "exception": false,
     "start_time": "2021-05-01T02:06:37.106116",
     "status": "completed"
    },
    "tags": []
   },
   "source": [
    "# Get final list of genes in MultiPLIER"
   ]
  },
  {
   "cell_type": "code",
   "execution_count": null,
   "id": "e9801fec",
   "metadata": {
    "papermill": {
     "duration": 0.046317,
     "end_time": "2021-05-01T02:06:37.212333",
     "exception": false,
     "start_time": "2021-05-01T02:06:37.166016",
     "status": "completed"
    },
    "tags": []
   },
   "outputs": [],
   "source": [
    "genes_in_z = [\n",
    "    Gene(name=gene_name).ensembl_id\n",
    "    for gene_name in multiplier_z.index\n",
    "    if gene_name in Gene.GENE_NAME_TO_ID_MAP\n",
    "]"
   ]
  },
  {
   "cell_type": "code",
   "execution_count": null,
   "id": "4cde8776",
   "metadata": {
    "papermill": {
     "duration": 0.041708,
     "end_time": "2021-05-01T02:06:37.284556",
     "exception": false,
     "start_time": "2021-05-01T02:06:37.242848",
     "status": "completed"
    },
    "tags": []
   },
   "outputs": [],
   "source": [
    "len(genes_in_z)"
   ]
  },
  {
   "cell_type": "code",
   "execution_count": null,
   "id": "577cf614",
   "metadata": {
    "papermill": {
     "duration": 0.042195,
     "end_time": "2021-05-01T02:06:37.357140",
     "exception": false,
     "start_time": "2021-05-01T02:06:37.314945",
     "status": "completed"
    },
    "tags": []
   },
   "outputs": [],
   "source": [
    "genes_in_z[:5]"
   ]
  },
  {
   "cell_type": "code",
   "execution_count": null,
   "id": "3136fc66",
   "metadata": {
    "papermill": {
     "duration": 0.042206,
     "end_time": "2021-05-01T02:06:37.430671",
     "exception": false,
     "start_time": "2021-05-01T02:06:37.388465",
     "status": "completed"
    },
    "tags": []
   },
   "outputs": [],
   "source": [
    "genes_in_z = set(genes_in_z)"
   ]
  },
  {
   "cell_type": "code",
   "execution_count": null,
   "id": "0f1cace8",
   "metadata": {
    "papermill": {
     "duration": 0.042628,
     "end_time": "2021-05-01T02:06:37.504640",
     "exception": false,
     "start_time": "2021-05-01T02:06:37.462012",
     "status": "completed"
    },
    "tags": []
   },
   "outputs": [],
   "source": [
    "len(genes_in_z)"
   ]
  },
  {
   "cell_type": "code",
   "execution_count": null,
   "id": "b9dc4d3e",
   "metadata": {
    "papermill": {
     "duration": 0.134686,
     "end_time": "2021-05-01T02:06:37.670571",
     "exception": false,
     "start_time": "2021-05-01T02:06:37.535885",
     "status": "completed"
    },
    "tags": []
   },
   "outputs": [],
   "source": [
    "# keep genes in MultiPLIER only\n",
    "display(all_gene_snps.shape)\n",
    "\n",
    "all_gene_snps = all_gene_snps[all_gene_snps[\"gene\"].isin(genes_in_z)]\n",
    "\n",
    "display(all_gene_snps.shape)"
   ]
  },
  {
   "cell_type": "markdown",
   "id": "69e77b6e",
   "metadata": {
    "papermill": {
     "duration": 0.031293,
     "end_time": "2021-05-01T02:06:37.740476",
     "exception": false,
     "start_time": "2021-05-01T02:06:37.709183",
     "status": "completed"
    },
    "tags": []
   },
   "source": [
    "# (For MultiPLIER genes): How many variants in predictions models are present in the reference panel?"
   ]
  },
  {
   "cell_type": "code",
   "execution_count": null,
   "id": "c8a3405c",
   "metadata": {
    "papermill": {
     "duration": 0.160238,
     "end_time": "2021-05-01T02:06:37.931672",
     "exception": false,
     "start_time": "2021-05-01T02:06:37.771434",
     "status": "completed"
    },
    "tags": []
   },
   "outputs": [],
   "source": [
    "all_snps_in_models_multiplier = set(all_gene_snps[\"varID\"])\n",
    "\n",
    "n_snps_in_models = len(all_snps_in_models_multiplier)\n",
    "display(n_snps_in_models)"
   ]
  },
  {
   "cell_type": "code",
   "execution_count": null,
   "id": "a118deab",
   "metadata": {
    "papermill": {
     "duration": 0.063091,
     "end_time": "2021-05-01T02:06:38.033358",
     "exception": false,
     "start_time": "2021-05-01T02:06:37.970267",
     "status": "completed"
    },
    "tags": []
   },
   "outputs": [],
   "source": [
    "n_snps_in_ref_panel = len(\n",
    "    all_snps_in_models_multiplier.intersection(variants_ids_with_genotype)\n",
    ")\n",
    "display(n_snps_in_ref_panel)"
   ]
  },
  {
   "cell_type": "code",
   "execution_count": null,
   "id": "cb5b96f3",
   "metadata": {
    "papermill": {
     "duration": 0.044592,
     "end_time": "2021-05-01T02:06:38.117752",
     "exception": false,
     "start_time": "2021-05-01T02:06:38.073160",
     "status": "completed"
    },
    "tags": []
   },
   "outputs": [],
   "source": [
    "n_snps_in_ref_panel / n_snps_in_models"
   ]
  },
  {
   "cell_type": "markdown",
   "id": "dbabf1c1",
   "metadata": {
    "papermill": {
     "duration": 0.032313,
     "end_time": "2021-05-01T02:06:38.182886",
     "exception": false,
     "start_time": "2021-05-01T02:06:38.150573",
     "status": "completed"
    },
    "tags": []
   },
   "source": [
    "## Preprocess SNPs data"
   ]
  },
  {
   "cell_type": "code",
   "execution_count": null,
   "id": "19838f0a",
   "metadata": {
    "papermill": {
     "duration": 0.165782,
     "end_time": "2021-05-01T02:06:38.380420",
     "exception": false,
     "start_time": "2021-05-01T02:06:38.214638",
     "status": "completed"
    },
    "tags": []
   },
   "outputs": [],
   "source": [
    "variants_ld_block_df = all_gene_snps[[\"varID\"]].drop_duplicates()"
   ]
  },
  {
   "cell_type": "code",
   "execution_count": null,
   "id": "d015b20d",
   "metadata": {
    "papermill": {
     "duration": 0.044731,
     "end_time": "2021-05-01T02:06:38.466798",
     "exception": false,
     "start_time": "2021-05-01T02:06:38.422067",
     "status": "completed"
    },
    "tags": []
   },
   "outputs": [],
   "source": [
    "variants_ld_block_df.shape"
   ]
  },
  {
   "cell_type": "code",
   "execution_count": null,
   "id": "ed4a5faa",
   "metadata": {
    "papermill": {
     "duration": 0.045457,
     "end_time": "2021-05-01T02:06:38.544957",
     "exception": false,
     "start_time": "2021-05-01T02:06:38.499500",
     "status": "completed"
    },
    "tags": []
   },
   "outputs": [],
   "source": [
    "variants_ld_block_df.head()"
   ]
  },
  {
   "cell_type": "code",
   "execution_count": null,
   "id": "3557d870",
   "metadata": {
    "papermill": {
     "duration": 7.527001,
     "end_time": "2021-05-01T02:06:46.104057",
     "exception": false,
     "start_time": "2021-05-01T02:06:38.577056",
     "status": "completed"
    },
    "tags": []
   },
   "outputs": [],
   "source": [
    "variants_info = variants_ld_block_df[\"varID\"].str.split(\"_\", expand=True)"
   ]
  },
  {
   "cell_type": "code",
   "execution_count": null,
   "id": "bd49aa4c",
   "metadata": {
    "papermill": {
     "duration": 0.044586,
     "end_time": "2021-05-01T02:06:46.189459",
     "exception": false,
     "start_time": "2021-05-01T02:06:46.144873",
     "status": "completed"
    },
    "tags": []
   },
   "outputs": [],
   "source": [
    "variants_info.shape"
   ]
  },
  {
   "cell_type": "code",
   "execution_count": null,
   "id": "7e2b7606",
   "metadata": {
    "papermill": {
     "duration": 0.042616,
     "end_time": "2021-05-01T02:06:46.265376",
     "exception": false,
     "start_time": "2021-05-01T02:06:46.222760",
     "status": "completed"
    },
    "tags": []
   },
   "outputs": [],
   "source": [
    "assert variants_ld_block_df.shape[0] == variants_info.shape[0]"
   ]
  },
  {
   "cell_type": "code",
   "execution_count": null,
   "id": "048abd7f",
   "metadata": {
    "papermill": {
     "duration": 0.079553,
     "end_time": "2021-05-01T02:06:46.377067",
     "exception": false,
     "start_time": "2021-05-01T02:06:46.297514",
     "status": "completed"
    },
    "tags": []
   },
   "outputs": [],
   "source": [
    "variants_ld_block_df = variants_ld_block_df.join(variants_info)[[\"varID\", 0, 1, 2, 3]]"
   ]
  },
  {
   "cell_type": "code",
   "execution_count": null,
   "id": "5bfb6a7a",
   "metadata": {
    "papermill": {
     "duration": 0.045555,
     "end_time": "2021-05-01T02:06:46.465764",
     "exception": false,
     "start_time": "2021-05-01T02:06:46.420209",
     "status": "completed"
    },
    "tags": []
   },
   "outputs": [],
   "source": [
    "assert variants_ld_block_df.shape[0] == variants_info.shape[0]"
   ]
  },
  {
   "cell_type": "code",
   "execution_count": null,
   "id": "4d8cf1da",
   "metadata": {
    "papermill": {
     "duration": 0.047476,
     "end_time": "2021-05-01T02:06:46.546757",
     "exception": false,
     "start_time": "2021-05-01T02:06:46.499281",
     "status": "completed"
    },
    "tags": []
   },
   "outputs": [],
   "source": [
    "variants_ld_block_df.head()"
   ]
  },
  {
   "cell_type": "code",
   "execution_count": null,
   "id": "47448229",
   "metadata": {
    "papermill": {
     "duration": 0.048257,
     "end_time": "2021-05-01T02:06:46.633007",
     "exception": false,
     "start_time": "2021-05-01T02:06:46.584750",
     "status": "completed"
    },
    "tags": []
   },
   "outputs": [],
   "source": [
    "variants_ld_block_df = variants_ld_block_df.rename(\n",
    "    columns={\n",
    "        0: \"chr\",\n",
    "        1: \"position\",\n",
    "        2: \"ref_allele\",\n",
    "        3: \"eff_allele\",\n",
    "    }\n",
    ")"
   ]
  },
  {
   "cell_type": "code",
   "execution_count": null,
   "id": "3beadcf8",
   "metadata": {
    "papermill": {
     "duration": 0.08124,
     "end_time": "2021-05-01T02:06:46.749569",
     "exception": false,
     "start_time": "2021-05-01T02:06:46.668329",
     "status": "completed"
    },
    "tags": []
   },
   "outputs": [],
   "source": [
    "variants_ld_block_df[\"chr\"] = variants_ld_block_df[\"chr\"].apply(lambda x: int(x[3:]))"
   ]
  },
  {
   "cell_type": "code",
   "execution_count": null,
   "id": "b18c25c1",
   "metadata": {
    "papermill": {
     "duration": 0.056609,
     "end_time": "2021-05-01T02:06:46.846018",
     "exception": false,
     "start_time": "2021-05-01T02:06:46.789409",
     "status": "completed"
    },
    "tags": []
   },
   "outputs": [],
   "source": [
    "variants_ld_block_df[\"position\"] = variants_ld_block_df[\"position\"].astype(int)"
   ]
  },
  {
   "cell_type": "code",
   "execution_count": null,
   "id": "13af12ae",
   "metadata": {
    "papermill": {
     "duration": 0.043819,
     "end_time": "2021-05-01T02:06:46.930634",
     "exception": false,
     "start_time": "2021-05-01T02:06:46.886815",
     "status": "completed"
    },
    "tags": []
   },
   "outputs": [],
   "source": [
    "variants_ld_block_df.shape"
   ]
  },
  {
   "cell_type": "code",
   "execution_count": null,
   "id": "431d8602",
   "metadata": {
    "papermill": {
     "duration": 0.049159,
     "end_time": "2021-05-01T02:06:47.016875",
     "exception": false,
     "start_time": "2021-05-01T02:06:46.967716",
     "status": "completed"
    },
    "tags": []
   },
   "outputs": [],
   "source": [
    "variants_ld_block_df.head()"
   ]
  },
  {
   "cell_type": "code",
   "execution_count": null,
   "id": "35fc8e6d",
   "metadata": {
    "papermill": {
     "duration": 0.045802,
     "end_time": "2021-05-01T02:06:47.096369",
     "exception": false,
     "start_time": "2021-05-01T02:06:47.050567",
     "status": "completed"
    },
    "tags": []
   },
   "outputs": [],
   "source": [
    "variants_ld_block_df.dtypes"
   ]
  },
  {
   "cell_type": "markdown",
   "id": "ec84177c",
   "metadata": {
    "papermill": {
     "duration": 0.031864,
     "end_time": "2021-05-01T02:06:47.162256",
     "exception": false,
     "start_time": "2021-05-01T02:06:47.130392",
     "status": "completed"
    },
    "tags": []
   },
   "source": [
    "# Covariance for each chromosome block"
   ]
  },
  {
   "cell_type": "markdown",
   "id": "d43e1890",
   "metadata": {
    "papermill": {
     "duration": 0.03262,
     "end_time": "2021-05-01T02:06:47.227602",
     "exception": false,
     "start_time": "2021-05-01T02:06:47.194982",
     "status": "completed"
    },
    "tags": []
   },
   "source": [
    "## Functions"
   ]
  },
  {
   "cell_type": "code",
   "execution_count": null,
   "id": "394c6b4d",
   "metadata": {},
   "outputs": [],
   "source": [
    "def covariance(df, dtype):\n",
    "    n = df.shape[0]\n",
    "    df = df.sub(df.mean(), axis=1).astype(dtype)\n",
    "    return df.T.dot(df) / (n - 1)"
   ]
  },
  {
   "cell_type": "code",
   "execution_count": null,
   "id": "ed702fd0",
   "metadata": {},
   "outputs": [],
   "source": [
    "# testing\n",
    "rs = np.random.RandomState(0)\n",
    "\n",
    "_test_data = pd.DataFrame(rs.normal(size=(50, 5)), columns=[f\"c{i}\" for i in range(5)])\n",
    "\n",
    "# float64\n",
    "pd.testing.assert_frame_equal(\n",
    "    covariance(_test_data, np.float64),\n",
    "    _test_data.cov(),\n",
    "    rtol=1e-10,\n",
    "    atol=1e-10,\n",
    "    check_dtype=True,\n",
    ")\n",
    "\n",
    "# float32\n",
    "pd.testing.assert_frame_equal(\n",
    "    covariance(_test_data, np.float32),\n",
    "    _test_data.cov(),\n",
    "    rtol=1e-5,\n",
    "    atol=1e-8,\n",
    "    check_dtype=False,\n",
    ")\n",
    "\n",
    "del _test_data"
   ]
  },
  {
   "cell_type": "code",
   "execution_count": null,
   "id": "417717ae",
   "metadata": {
    "papermill": {
     "duration": 0.045102,
     "end_time": "2021-05-01T02:06:47.305108",
     "exception": false,
     "start_time": "2021-05-01T02:06:47.260006",
     "status": "completed"
    },
    "tags": []
   },
   "outputs": [],
   "source": [
    "def compute_snps_cov(snps_df):\n",
    "    assert snps_df[\"chr\"].unique().shape[0] == 1\n",
    "    chromosome = snps_df[\"chr\"].unique()[0]\n",
    "\n",
    "    # keep variants only present in genotype\n",
    "    snps_ids = list(set(snps_df[\"varID\"]).intersection(variants_ids_with_genotype))\n",
    "\n",
    "    chromosome_file = get_reference_panel_file(\n",
    "        REFERENCE_PANEL_DIR, f\"chr{chromosome}.variants\"\n",
    "    )\n",
    "    snps_genotypes = pd.read_parquet(chromosome_file, columns=snps_ids)\n",
    "\n",
    "    return covariance(snps_genotypes, COV_DTYPE)"
   ]
  },
  {
   "cell_type": "code",
   "execution_count": null,
   "id": "db4aed3c",
   "metadata": {
    "papermill": {
     "duration": 0.047823,
     "end_time": "2021-05-01T02:06:47.385526",
     "exception": false,
     "start_time": "2021-05-01T02:06:47.337703",
     "status": "completed"
    },
    "tags": []
   },
   "outputs": [],
   "source": [
    "# testing\n",
    "_tmp_snps = variants_ld_block_df[variants_ld_block_df[\"chr\"] == 22]\n",
    "assert _tmp_snps.shape[0] > 0"
   ]
  },
  {
   "cell_type": "code",
   "execution_count": null,
   "id": "db520e6e",
   "metadata": {
    "papermill": {
     "duration": 0.04447,
     "end_time": "2021-05-01T02:06:47.463533",
     "exception": false,
     "start_time": "2021-05-01T02:06:47.419063",
     "status": "completed"
    },
    "tags": []
   },
   "outputs": [],
   "source": [
    "_tmp_snps.shape"
   ]
  },
  {
   "cell_type": "code",
   "execution_count": null,
   "id": "7f7bb541",
   "metadata": {
    "papermill": {
     "duration": 0.045946,
     "end_time": "2021-05-01T02:06:47.542621",
     "exception": false,
     "start_time": "2021-05-01T02:06:47.496675",
     "status": "completed"
    },
    "tags": []
   },
   "outputs": [],
   "source": [
    "n_expected = len(set(_tmp_snps[\"varID\"]).intersection(variants_ids_with_genotype))\n",
    "display(n_expected)"
   ]
  },
  {
   "cell_type": "code",
   "execution_count": null,
   "id": "f9de93c0",
   "metadata": {
    "papermill": {
     "duration": 56.463839,
     "end_time": "2021-05-01T02:07:44.040326",
     "exception": false,
     "start_time": "2021-05-01T02:06:47.576487",
     "status": "completed"
    },
    "tags": []
   },
   "outputs": [],
   "source": [
    "_tmp = compute_snps_cov(_tmp_snps)"
   ]
  },
  {
   "cell_type": "code",
   "execution_count": null,
   "id": "46ab35a8",
   "metadata": {
    "papermill": {
     "duration": 0.054961,
     "end_time": "2021-05-01T02:07:44.131522",
     "exception": false,
     "start_time": "2021-05-01T02:07:44.076561",
     "status": "completed"
    },
    "tags": []
   },
   "outputs": [],
   "source": [
    "assert _tmp.shape == (n_expected, n_expected)\n",
    "assert not _tmp.isna().any().any()"
   ]
  },
  {
   "cell_type": "code",
   "execution_count": null,
   "id": "9320eeb4",
   "metadata": {},
   "outputs": [],
   "source": [
    "del _tmp_snps, _tmp"
   ]
  },
  {
   "cell_type": "markdown",
   "id": "1264f97f",
   "metadata": {
    "papermill": {
     "duration": 0.038481,
     "end_time": "2021-05-01T02:07:44.204154",
     "exception": false,
     "start_time": "2021-05-01T02:07:44.165673",
     "status": "completed"
    },
    "tags": []
   },
   "source": [
    "## Compute covariance and save"
   ]
  },
  {
   "cell_type": "code",
   "execution_count": null,
   "id": "b938ae8a",
   "metadata": {
    "papermill": {
     "duration": 0.045814,
     "end_time": "2021-05-01T02:07:44.284362",
     "exception": false,
     "start_time": "2021-05-01T02:07:44.238548",
     "status": "completed"
    },
    "tags": []
   },
   "outputs": [],
   "source": [
    "output_file_name_template = conf.PHENOMEXCAN[\"LD_BLOCKS\"][\n",
    "    \"GENE_CORRS_FILE_NAME_TEMPLATES\"\n",
    "][\"SNPS_COVARIANCE\"]\n",
    "\n",
    "output_file = OUTPUT_DIR_BASE / output_file_name_template.format(\n",
    "    prefix=\"\",\n",
    "    suffix=\"\",\n",
    ")\n",
    "display(output_file)"
   ]
  },
  {
   "cell_type": "code",
   "execution_count": null,
   "id": "8953db89",
   "metadata": {
    "papermill": {
     "duration": 3350.510215,
     "end_time": "2021-05-01T03:03:34.829504",
     "exception": false,
     "start_time": "2021-05-01T02:07:44.319289",
     "status": "completed"
    },
    "tags": []
   },
   "outputs": [],
   "source": [
    "with pd.HDFStore(output_file, mode=\"w\", complevel=4) as store:\n",
    "    pbar = tqdm(\n",
    "        variants_ld_block_df.groupby(\"chr\"),\n",
    "        ncols=100,\n",
    "        total=variants_ld_block_df[\"chr\"].unique().shape[0],\n",
    "    )\n",
    "\n",
    "    store[\"metadata\"] = variants_ld_block_df\n",
    "\n",
    "    for grp_name, grp_data in pbar:\n",
    "        pbar.set_description(f\"{grp_name} {grp_data.shape}\")\n",
    "        snps_cov = compute_snps_cov(grp_data)  # .astype(COV_DTYPE)\n",
    "        assert not snps_cov.isna().any().any()\n",
    "        store[f\"chr{grp_name}\"] = snps_cov\n",
    "\n",
    "        del snps_cov\n",
    "        store.flush()\n",
    "\n",
    "        gc.collect()"
   ]
  },
  {
   "cell_type": "markdown",
   "id": "1de34e70",
   "metadata": {
    "papermill": {
     "duration": 0.041185,
     "end_time": "2021-05-01T03:03:34.911974",
     "exception": false,
     "start_time": "2021-05-01T03:03:34.870789",
     "status": "completed"
    },
    "tags": []
   },
   "source": [
    "# Testing"
   ]
  },
  {
   "cell_type": "code",
   "execution_count": null,
   "id": "54fc512c",
   "metadata": {
    "papermill": {
     "duration": 0.053876,
     "end_time": "2021-05-01T03:03:35.006512",
     "exception": false,
     "start_time": "2021-05-01T03:03:34.952636",
     "status": "completed"
    },
    "tags": []
   },
   "outputs": [],
   "source": [
    "_tmp = variants_ld_block_df[variants_ld_block_df[\"chr\"] == 1]"
   ]
  },
  {
   "cell_type": "code",
   "execution_count": null,
   "id": "a3bd8ede",
   "metadata": {
    "papermill": {
     "duration": 0.053285,
     "end_time": "2021-05-01T03:03:35.101591",
     "exception": false,
     "start_time": "2021-05-01T03:03:35.048306",
     "status": "completed"
    },
    "tags": []
   },
   "outputs": [],
   "source": [
    "_tmp.shape"
   ]
  },
  {
   "cell_type": "code",
   "execution_count": null,
   "id": "6149cee4",
   "metadata": {
    "papermill": {
     "duration": 0.058091,
     "end_time": "2021-05-01T03:03:35.219342",
     "exception": false,
     "start_time": "2021-05-01T03:03:35.161251",
     "status": "completed"
    },
    "tags": []
   },
   "outputs": [],
   "source": [
    "assert _tmp.shape[0] > 0"
   ]
  },
  {
   "cell_type": "code",
   "execution_count": null,
   "id": "8aceb74a",
   "metadata": {
    "papermill": {
     "duration": 0.056848,
     "end_time": "2021-05-01T03:03:35.317574",
     "exception": false,
     "start_time": "2021-05-01T03:03:35.260726",
     "status": "completed"
    },
    "tags": []
   },
   "outputs": [],
   "source": [
    "n_expected = len(set(_tmp[\"varID\"]).intersection(variants_ids_with_genotype))\n",
    "display(n_expected)\n",
    "assert n_expected > 0"
   ]
  },
  {
   "cell_type": "code",
   "execution_count": null,
   "id": "ffdb4c4b",
   "metadata": {
    "papermill": {
     "duration": 1.171943,
     "end_time": "2021-05-01T03:03:36.534072",
     "exception": false,
     "start_time": "2021-05-01T03:03:35.362129",
     "status": "completed"
    },
    "tags": []
   },
   "outputs": [],
   "source": [
    "with pd.HDFStore(output_file, mode=\"r\") as store:\n",
    "    df = store[\"chr1\"]\n",
    "    assert df.shape == (n_expected, n_expected)\n",
    "    assert not df.isna().any().any()"
   ]
  },
  {
   "cell_type": "code",
   "execution_count": null,
   "id": "49dccd49",
   "metadata": {
    "papermill": {
     "duration": 0.041503,
     "end_time": "2021-05-01T03:03:36.626482",
     "exception": false,
     "start_time": "2021-05-01T03:03:36.584979",
     "status": "completed"
    },
    "tags": []
   },
   "outputs": [],
   "source": []
  }
 ],
 "metadata": {
  "jupytext": {
   "cell_metadata_filter": "all,-execution,-papermill,-trusted",
   "formats": "ipynb,py//py:percent"
  },
  "kernelspec": {
   "display_name": "Python 3 (ipykernel)",
   "language": "python",
   "name": "python3"
  },
  "language_info": {
   "codemirror_mode": {
    "name": "ipython",
    "version": 3
   },
   "file_extension": ".py",
   "mimetype": "text/x-python",
   "name": "python",
   "nbconvert_exporter": "python",
   "pygments_lexer": "ipython3",
   "version": "3.8.13"
  },
  "papermill": {
   "default_parameters": {},
   "duration": 3446.902881,
   "end_time": "2021-05-01T03:03:42.050489",
   "environment_variables": {},
   "exception": null,
   "input_path": "08_gsa_gls/05-snps_into_chr_cov.ipynb",
   "output_path": "08_gsa_gls/05-snps_into_chr_cov.run.ipynb",
   "parameters": {},
   "start_time": "2021-05-01T02:06:15.147608",
   "version": "2.2.2"
  }
 },
 "nbformat": 4,
 "nbformat_minor": 5
}
