{
 "cells": [
  {
   "cell_type": "markdown",
   "id": "everyday-andrew",
   "metadata": {
    "papermill": {
     "duration": 0.030116,
     "end_time": "2021-05-01T02:06:16.164951",
     "exception": false,
     "start_time": "2021-05-01T02:06:16.134835",
     "status": "completed"
    },
    "tags": []
   },
   "source": [
    "# Description"
   ]
  },
  {
   "cell_type": "markdown",
   "id": "composed-layer",
   "metadata": {
    "papermill": {
     "duration": 0.025831,
     "end_time": "2021-05-01T02:06:16.216963",
     "exception": false,
     "start_time": "2021-05-01T02:06:16.191132",
     "status": "completed"
    },
    "tags": []
   },
   "source": [
    "This notebook computes the covariance of SNPs for each chr."
   ]
  },
  {
   "cell_type": "markdown",
   "id": "olive-title",
   "metadata": {
    "papermill": {
     "duration": 0.025907,
     "end_time": "2021-05-01T02:06:16.268871",
     "exception": false,
     "start_time": "2021-05-01T02:06:16.242964",
     "status": "completed"
    },
    "tags": []
   },
   "source": [
    "# Modules"
   ]
  },
  {
   "cell_type": "code",
   "execution_count": 1,
   "id": "associate-chance",
   "metadata": {
    "execution": {
     "iopub.execute_input": "2021-05-01T02:06:16.328131Z",
     "iopub.status.busy": "2021-05-01T02:06:16.327761Z",
     "iopub.status.idle": "2021-05-01T02:06:16.335137Z",
     "shell.execute_reply": "2021-05-01T02:06:16.334698Z"
    },
    "papermill": {
     "duration": 0.039766,
     "end_time": "2021-05-01T02:06:16.335232",
     "exception": false,
     "start_time": "2021-05-01T02:06:16.295466",
     "status": "completed"
    },
    "tags": []
   },
   "outputs": [],
   "source": [
    "%load_ext autoreload\n",
    "%autoreload 2"
   ]
  },
  {
   "cell_type": "code",
   "execution_count": 2,
   "id": "dangerous-sensitivity",
   "metadata": {
    "execution": {
     "iopub.execute_input": "2021-05-01T02:06:16.392205Z",
     "iopub.status.busy": "2021-05-01T02:06:16.391848Z",
     "iopub.status.idle": "2021-05-01T02:06:16.761006Z",
     "shell.execute_reply": "2021-05-01T02:06:16.760609Z"
    },
    "papermill": {
     "duration": 0.397986,
     "end_time": "2021-05-01T02:06:16.761106",
     "exception": false,
     "start_time": "2021-05-01T02:06:16.363120",
     "status": "completed"
    },
    "tags": []
   },
   "outputs": [],
   "source": [
    "import sqlite3\n",
    "\n",
    "import numpy as np\n",
    "import pandas as pd\n",
    "from tqdm import tqdm\n",
    "\n",
    "import conf\n",
    "from entity import Gene"
   ]
  },
  {
   "cell_type": "markdown",
   "id": "working-twins",
   "metadata": {
    "papermill": {
     "duration": 0.026832,
     "end_time": "2021-05-01T02:06:16.817536",
     "exception": false,
     "start_time": "2021-05-01T02:06:16.790704",
     "status": "completed"
    },
    "tags": []
   },
   "source": [
    "# Load data"
   ]
  },
  {
   "cell_type": "markdown",
   "id": "dominican-olive",
   "metadata": {
    "papermill": {
     "duration": 0.027069,
     "end_time": "2021-05-01T02:06:16.875152",
     "exception": false,
     "start_time": "2021-05-01T02:06:16.848083",
     "status": "completed"
    },
    "tags": []
   },
   "source": [
    "## SNPs in predictions models"
   ]
  },
  {
   "cell_type": "code",
   "execution_count": 3,
   "id": "recent-success",
   "metadata": {
    "execution": {
     "iopub.execute_input": "2021-05-01T02:06:16.930557Z",
     "iopub.status.busy": "2021-05-01T02:06:16.930200Z",
     "iopub.status.idle": "2021-05-01T02:06:16.937935Z",
     "shell.execute_reply": "2021-05-01T02:06:16.937567Z"
    },
    "papermill": {
     "duration": 0.036493,
     "end_time": "2021-05-01T02:06:16.938020",
     "exception": false,
     "start_time": "2021-05-01T02:06:16.901527",
     "status": "completed"
    },
    "tags": []
   },
   "outputs": [],
   "source": [
    "mashr_models_db_files = list(\n",
    "    conf.PHENOMEXCAN[\"PREDICTION_MODELS\"][\"MASHR\"].glob(\"*.db\")\n",
    ")"
   ]
  },
  {
   "cell_type": "code",
   "execution_count": 4,
   "id": "discrete-wesley",
   "metadata": {
    "execution": {
     "iopub.execute_input": "2021-05-01T02:06:16.994391Z",
     "iopub.status.busy": "2021-05-01T02:06:16.994030Z",
     "iopub.status.idle": "2021-05-01T02:06:17.001256Z",
     "shell.execute_reply": "2021-05-01T02:06:17.000896Z"
    },
    "papermill": {
     "duration": 0.036168,
     "end_time": "2021-05-01T02:06:17.001337",
     "exception": false,
     "start_time": "2021-05-01T02:06:16.965169",
     "status": "completed"
    },
    "tags": []
   },
   "outputs": [],
   "source": [
    "assert len(mashr_models_db_files) == 49"
   ]
  },
  {
   "cell_type": "code",
   "execution_count": 5,
   "id": "organic-scanning",
   "metadata": {
    "execution": {
     "iopub.execute_input": "2021-05-01T02:06:17.056414Z",
     "iopub.status.busy": "2021-05-01T02:06:17.056056Z",
     "iopub.status.idle": "2021-05-01T02:06:18.608619Z",
     "shell.execute_reply": "2021-05-01T02:06:18.608175Z"
    },
    "papermill": {
     "duration": 1.581321,
     "end_time": "2021-05-01T02:06:18.608741",
     "exception": false,
     "start_time": "2021-05-01T02:06:17.027420",
     "status": "completed"
    },
    "tags": []
   },
   "outputs": [
    {
     "name": "stdout",
     "output_type": "stream",
     "text": [
      "Processing mashr_Skin_Not_Sun_Exposed_Suprapubic.db\n",
      "Processing mashr_Cells_EBV-transformed_lymphocytes.db\n",
      "Processing mashr_Brain_Frontal_Cortex_BA9.db\n",
      "Processing mashr_Kidney_Cortex.db\n",
      "Processing mashr_Brain_Substantia_nigra.db\n",
      "Processing mashr_Spleen.db\n",
      "Processing mashr_Colon_Transverse.db\n",
      "Processing mashr_Heart_Left_Ventricle.db\n",
      "Processing mashr_Lung.db\n",
      "Processing mashr_Muscle_Skeletal.db\n",
      "Processing mashr_Brain_Hypothalamus.db\n",
      "Processing mashr_Brain_Cortex.db\n",
      "Processing mashr_Brain_Amygdala.db\n",
      "Processing mashr_Esophagus_Mucosa.db\n",
      "Processing mashr_Adrenal_Gland.db\n",
      "Processing mashr_Uterus.db\n",
      "Processing mashr_Prostate.db\n",
      "Processing mashr_Whole_Blood.db\n",
      "Processing mashr_Pituitary.db\n",
      "Processing mashr_Esophagus_Gastroesophageal_Junction.db\n",
      "Processing mashr_Stomach.db\n",
      "Processing mashr_Heart_Atrial_Appendage.db\n",
      "Processing mashr_Brain_Cerebellum.db\n",
      "Processing mashr_Breast_Mammary_Tissue.db\n",
      "Processing mashr_Artery_Tibial.db\n",
      "Processing mashr_Artery_Aorta.db\n",
      "Processing mashr_Small_Intestine_Terminal_Ileum.db\n",
      "Processing mashr_Brain_Hippocampus.db\n",
      "Processing mashr_Testis.db\n",
      "Processing mashr_Brain_Putamen_basal_ganglia.db\n",
      "Processing mashr_Pancreas.db\n",
      "Processing mashr_Adipose_Subcutaneous.db\n",
      "Processing mashr_Brain_Cerebellar_Hemisphere.db\n",
      "Processing mashr_Colon_Sigmoid.db\n",
      "Processing mashr_Minor_Salivary_Gland.db\n",
      "Processing mashr_Cells_Cultured_fibroblasts.db\n",
      "Processing mashr_Brain_Nucleus_accumbens_basal_ganglia.db\n",
      "Processing mashr_Brain_Anterior_cingulate_cortex_BA24.db\n",
      "Processing mashr_Vagina.db\n",
      "Processing mashr_Ovary.db\n",
      "Processing mashr_Skin_Sun_Exposed_Lower_leg.db\n",
      "Processing mashr_Esophagus_Muscularis.db\n",
      "Processing mashr_Brain_Spinal_cord_cervical_c-1.db\n",
      "Processing mashr_Artery_Coronary.db\n",
      "Processing mashr_Thyroid.db\n",
      "Processing mashr_Brain_Caudate_basal_ganglia.db\n",
      "Processing mashr_Adipose_Visceral_Omentum.db\n",
      "Processing mashr_Nerve_Tibial.db\n",
      "Processing mashr_Liver.db\n"
     ]
    }
   ],
   "source": [
    "all_variants_ids = []\n",
    "\n",
    "for m in mashr_models_db_files:\n",
    "    print(f\"Processing {m.name}\")\n",
    "    tissue = m.name.split(\"mashr_\")[1].split(\".db\")[0]\n",
    "\n",
    "    with sqlite3.connect(m) as conn:\n",
    "        df = pd.read_sql(\"select gene, varID from weights\", conn)\n",
    "        df[\"gene\"] = df[\"gene\"].apply(lambda x: x.split(\".\")[0])\n",
    "        df = df.assign(tissue=tissue)\n",
    "\n",
    "        all_variants_ids.append(df)"
   ]
  },
  {
   "cell_type": "code",
   "execution_count": 6,
   "id": "unique-white",
   "metadata": {
    "execution": {
     "iopub.execute_input": "2021-05-01T02:06:18.671255Z",
     "iopub.status.busy": "2021-05-01T02:06:18.670895Z",
     "iopub.status.idle": "2021-05-01T02:06:18.809730Z",
     "shell.execute_reply": "2021-05-01T02:06:18.809284Z"
    },
    "papermill": {
     "duration": 0.169887,
     "end_time": "2021-05-01T02:06:18.809836",
     "exception": false,
     "start_time": "2021-05-01T02:06:18.639949",
     "status": "completed"
    },
    "tags": []
   },
   "outputs": [],
   "source": [
    "all_gene_snps = pd.concat(all_variants_ids, ignore_index=True)"
   ]
  },
  {
   "cell_type": "code",
   "execution_count": 7,
   "id": "double-equity",
   "metadata": {
    "execution": {
     "iopub.execute_input": "2021-05-01T02:06:18.882047Z",
     "iopub.status.busy": "2021-05-01T02:06:18.881660Z",
     "iopub.status.idle": "2021-05-01T02:06:18.893616Z",
     "shell.execute_reply": "2021-05-01T02:06:18.893233Z"
    },
    "papermill": {
     "duration": 0.047036,
     "end_time": "2021-05-01T02:06:18.893702",
     "exception": false,
     "start_time": "2021-05-01T02:06:18.846666",
     "status": "completed"
    },
    "tags": []
   },
   "outputs": [
    {
     "data": {
      "text/plain": [
       "(1132714, 3)"
      ]
     },
     "execution_count": 7,
     "metadata": {},
     "output_type": "execute_result"
    }
   ],
   "source": [
    "all_gene_snps.shape"
   ]
  },
  {
   "cell_type": "code",
   "execution_count": 8,
   "id": "romance-retro",
   "metadata": {
    "execution": {
     "iopub.execute_input": "2021-05-01T02:06:18.952066Z",
     "iopub.status.busy": "2021-05-01T02:06:18.951713Z",
     "iopub.status.idle": "2021-05-01T02:06:18.963445Z",
     "shell.execute_reply": "2021-05-01T02:06:18.963085Z"
    },
    "papermill": {
     "duration": 0.04134,
     "end_time": "2021-05-01T02:06:18.963529",
     "exception": false,
     "start_time": "2021-05-01T02:06:18.922189",
     "status": "completed"
    },
    "tags": []
   },
   "outputs": [
    {
     "data": {
      "text/html": [
       "<div>\n",
       "<style scoped>\n",
       "    .dataframe tbody tr th:only-of-type {\n",
       "        vertical-align: middle;\n",
       "    }\n",
       "\n",
       "    .dataframe tbody tr th {\n",
       "        vertical-align: top;\n",
       "    }\n",
       "\n",
       "    .dataframe thead th {\n",
       "        text-align: right;\n",
       "    }\n",
       "</style>\n",
       "<table border=\"1\" class=\"dataframe\">\n",
       "  <thead>\n",
       "    <tr style=\"text-align: right;\">\n",
       "      <th></th>\n",
       "      <th>gene</th>\n",
       "      <th>varID</th>\n",
       "      <th>tissue</th>\n",
       "    </tr>\n",
       "  </thead>\n",
       "  <tbody>\n",
       "    <tr>\n",
       "      <th>0</th>\n",
       "      <td>ENSG00000169583</td>\n",
       "      <td>chr9_136996001_G_A_b38</td>\n",
       "      <td>Skin_Not_Sun_Exposed_Suprapubic</td>\n",
       "    </tr>\n",
       "    <tr>\n",
       "      <th>1</th>\n",
       "      <td>ENSG00000107331</td>\n",
       "      <td>chr9_137029055_C_CA_b38</td>\n",
       "      <td>Skin_Not_Sun_Exposed_Suprapubic</td>\n",
       "    </tr>\n",
       "    <tr>\n",
       "      <th>2</th>\n",
       "      <td>ENSG00000107331</td>\n",
       "      <td>chr9_137029407_T_G_b38</td>\n",
       "      <td>Skin_Not_Sun_Exposed_Suprapubic</td>\n",
       "    </tr>\n",
       "    <tr>\n",
       "      <th>3</th>\n",
       "      <td>ENSG00000180549</td>\n",
       "      <td>chr9_137031950_T_C_b38</td>\n",
       "      <td>Skin_Not_Sun_Exposed_Suprapubic</td>\n",
       "    </tr>\n",
       "    <tr>\n",
       "      <th>4</th>\n",
       "      <td>ENSG00000180549</td>\n",
       "      <td>chr9_137032610_A_G_b38</td>\n",
       "      <td>Skin_Not_Sun_Exposed_Suprapubic</td>\n",
       "    </tr>\n",
       "  </tbody>\n",
       "</table>\n",
       "</div>"
      ],
      "text/plain": [
       "              gene                    varID                           tissue\n",
       "0  ENSG00000169583   chr9_136996001_G_A_b38  Skin_Not_Sun_Exposed_Suprapubic\n",
       "1  ENSG00000107331  chr9_137029055_C_CA_b38  Skin_Not_Sun_Exposed_Suprapubic\n",
       "2  ENSG00000107331   chr9_137029407_T_G_b38  Skin_Not_Sun_Exposed_Suprapubic\n",
       "3  ENSG00000180549   chr9_137031950_T_C_b38  Skin_Not_Sun_Exposed_Suprapubic\n",
       "4  ENSG00000180549   chr9_137032610_A_G_b38  Skin_Not_Sun_Exposed_Suprapubic"
      ]
     },
     "execution_count": 8,
     "metadata": {},
     "output_type": "execute_result"
    }
   ],
   "source": [
    "all_gene_snps.head()"
   ]
  },
  {
   "cell_type": "code",
   "execution_count": 9,
   "id": "electrical-comfort",
   "metadata": {
    "execution": {
     "iopub.execute_input": "2021-05-01T02:06:19.022428Z",
     "iopub.status.busy": "2021-05-01T02:06:19.022064Z",
     "iopub.status.idle": "2021-05-01T02:06:19.348847Z",
     "shell.execute_reply": "2021-05-01T02:06:19.348435Z"
    },
    "papermill": {
     "duration": 0.35692,
     "end_time": "2021-05-01T02:06:19.348961",
     "exception": false,
     "start_time": "2021-05-01T02:06:18.992041",
     "status": "completed"
    },
    "tags": []
   },
   "outputs": [],
   "source": [
    "all_snps_in_models = set(all_gene_snps[\"varID\"].unique())"
   ]
  },
  {
   "cell_type": "markdown",
   "id": "unauthorized-football",
   "metadata": {
    "papermill": {
     "duration": 0.029665,
     "end_time": "2021-05-01T02:06:19.415645",
     "exception": false,
     "start_time": "2021-05-01T02:06:19.385980",
     "status": "completed"
    },
    "tags": []
   },
   "source": [
    "## MultiPLIER Z"
   ]
  },
  {
   "cell_type": "code",
   "execution_count": 10,
   "id": "polar-external",
   "metadata": {
    "execution": {
     "iopub.execute_input": "2021-05-01T02:06:19.473681Z",
     "iopub.status.busy": "2021-05-01T02:06:19.473327Z",
     "iopub.status.idle": "2021-05-01T02:06:19.500849Z",
     "shell.execute_reply": "2021-05-01T02:06:19.500502Z"
    },
    "papermill": {
     "duration": 0.057348,
     "end_time": "2021-05-01T02:06:19.500944",
     "exception": false,
     "start_time": "2021-05-01T02:06:19.443596",
     "status": "completed"
    },
    "tags": []
   },
   "outputs": [],
   "source": [
    "multiplier_z = pd.read_pickle(conf.MULTIPLIER[\"MODEL_Z_MATRIX_FILE\"])"
   ]
  },
  {
   "cell_type": "code",
   "execution_count": 11,
   "id": "simple-singing",
   "metadata": {
    "execution": {
     "iopub.execute_input": "2021-05-01T02:06:19.563458Z",
     "iopub.status.busy": "2021-05-01T02:06:19.563104Z",
     "iopub.status.idle": "2021-05-01T02:06:19.571054Z",
     "shell.execute_reply": "2021-05-01T02:06:19.570690Z"
    },
    "papermill": {
     "duration": 0.038176,
     "end_time": "2021-05-01T02:06:19.571136",
     "exception": false,
     "start_time": "2021-05-01T02:06:19.532960",
     "status": "completed"
    },
    "tags": []
   },
   "outputs": [
    {
     "data": {
      "text/plain": [
       "(6750, 987)"
      ]
     },
     "execution_count": 11,
     "metadata": {},
     "output_type": "execute_result"
    }
   ],
   "source": [
    "multiplier_z.shape"
   ]
  },
  {
   "cell_type": "code",
   "execution_count": 12,
   "id": "protected-facial",
   "metadata": {
    "execution": {
     "iopub.execute_input": "2021-05-01T02:06:19.630976Z",
     "iopub.status.busy": "2021-05-01T02:06:19.630624Z",
     "iopub.status.idle": "2021-05-01T02:06:19.649658Z",
     "shell.execute_reply": "2021-05-01T02:06:19.649294Z"
    },
    "papermill": {
     "duration": 0.049543,
     "end_time": "2021-05-01T02:06:19.649742",
     "exception": false,
     "start_time": "2021-05-01T02:06:19.600199",
     "status": "completed"
    },
    "tags": []
   },
   "outputs": [
    {
     "data": {
      "text/html": [
       "<div>\n",
       "<style scoped>\n",
       "    .dataframe tbody tr th:only-of-type {\n",
       "        vertical-align: middle;\n",
       "    }\n",
       "\n",
       "    .dataframe tbody tr th {\n",
       "        vertical-align: top;\n",
       "    }\n",
       "\n",
       "    .dataframe thead th {\n",
       "        text-align: right;\n",
       "    }\n",
       "</style>\n",
       "<table border=\"1\" class=\"dataframe\">\n",
       "  <thead>\n",
       "    <tr style=\"text-align: right;\">\n",
       "      <th></th>\n",
       "      <th>LV1</th>\n",
       "      <th>LV2</th>\n",
       "      <th>LV3</th>\n",
       "      <th>LV4</th>\n",
       "      <th>LV5</th>\n",
       "      <th>LV6</th>\n",
       "      <th>LV7</th>\n",
       "      <th>LV8</th>\n",
       "      <th>LV9</th>\n",
       "      <th>LV10</th>\n",
       "      <th>...</th>\n",
       "      <th>LV978</th>\n",
       "      <th>LV979</th>\n",
       "      <th>LV980</th>\n",
       "      <th>LV981</th>\n",
       "      <th>LV982</th>\n",
       "      <th>LV983</th>\n",
       "      <th>LV984</th>\n",
       "      <th>LV985</th>\n",
       "      <th>LV986</th>\n",
       "      <th>LV987</th>\n",
       "    </tr>\n",
       "  </thead>\n",
       "  <tbody>\n",
       "    <tr>\n",
       "      <th>GAS6</th>\n",
       "      <td>0.000000</td>\n",
       "      <td>0.0</td>\n",
       "      <td>0.039438</td>\n",
       "      <td>0.0</td>\n",
       "      <td>0.050476</td>\n",
       "      <td>0.000000</td>\n",
       "      <td>0.0</td>\n",
       "      <td>0.000000</td>\n",
       "      <td>0.590949</td>\n",
       "      <td>0.000000</td>\n",
       "      <td>...</td>\n",
       "      <td>0.050125</td>\n",
       "      <td>0.00000</td>\n",
       "      <td>0.033407</td>\n",
       "      <td>0.000000</td>\n",
       "      <td>0.000000</td>\n",
       "      <td>0.005963</td>\n",
       "      <td>0.347362</td>\n",
       "      <td>0.0</td>\n",
       "      <td>0.000000</td>\n",
       "      <td>0.000000</td>\n",
       "    </tr>\n",
       "    <tr>\n",
       "      <th>MMP14</th>\n",
       "      <td>0.000000</td>\n",
       "      <td>0.0</td>\n",
       "      <td>0.000000</td>\n",
       "      <td>0.0</td>\n",
       "      <td>0.070072</td>\n",
       "      <td>0.000000</td>\n",
       "      <td>0.0</td>\n",
       "      <td>0.004904</td>\n",
       "      <td>1.720179</td>\n",
       "      <td>2.423595</td>\n",
       "      <td>...</td>\n",
       "      <td>0.000000</td>\n",
       "      <td>0.00000</td>\n",
       "      <td>0.001007</td>\n",
       "      <td>0.000000</td>\n",
       "      <td>0.035747</td>\n",
       "      <td>0.000000</td>\n",
       "      <td>0.000000</td>\n",
       "      <td>0.0</td>\n",
       "      <td>0.014978</td>\n",
       "      <td>0.000000</td>\n",
       "    </tr>\n",
       "    <tr>\n",
       "      <th>DSP</th>\n",
       "      <td>0.000000</td>\n",
       "      <td>0.0</td>\n",
       "      <td>0.000000</td>\n",
       "      <td>0.0</td>\n",
       "      <td>0.000000</td>\n",
       "      <td>0.041697</td>\n",
       "      <td>0.0</td>\n",
       "      <td>0.005718</td>\n",
       "      <td>0.000000</td>\n",
       "      <td>0.000000</td>\n",
       "      <td>...</td>\n",
       "      <td>0.020853</td>\n",
       "      <td>0.00000</td>\n",
       "      <td>0.000000</td>\n",
       "      <td>0.000000</td>\n",
       "      <td>0.000000</td>\n",
       "      <td>0.005774</td>\n",
       "      <td>0.000000</td>\n",
       "      <td>0.0</td>\n",
       "      <td>0.000000</td>\n",
       "      <td>0.416405</td>\n",
       "    </tr>\n",
       "    <tr>\n",
       "      <th>MARCKSL1</th>\n",
       "      <td>0.305212</td>\n",
       "      <td>0.0</td>\n",
       "      <td>0.000000</td>\n",
       "      <td>0.0</td>\n",
       "      <td>0.000000</td>\n",
       "      <td>0.000000</td>\n",
       "      <td>0.0</td>\n",
       "      <td>0.000000</td>\n",
       "      <td>0.161843</td>\n",
       "      <td>0.149471</td>\n",
       "      <td>...</td>\n",
       "      <td>0.027134</td>\n",
       "      <td>0.05272</td>\n",
       "      <td>0.000000</td>\n",
       "      <td>0.030189</td>\n",
       "      <td>0.060884</td>\n",
       "      <td>0.000000</td>\n",
       "      <td>0.000000</td>\n",
       "      <td>0.0</td>\n",
       "      <td>0.000000</td>\n",
       "      <td>0.448480</td>\n",
       "    </tr>\n",
       "    <tr>\n",
       "      <th>SPARC</th>\n",
       "      <td>0.000000</td>\n",
       "      <td>0.0</td>\n",
       "      <td>0.000000</td>\n",
       "      <td>0.0</td>\n",
       "      <td>0.000000</td>\n",
       "      <td>0.000000</td>\n",
       "      <td>0.0</td>\n",
       "      <td>0.000000</td>\n",
       "      <td>0.000000</td>\n",
       "      <td>0.014014</td>\n",
       "      <td>...</td>\n",
       "      <td>0.000000</td>\n",
       "      <td>0.00000</td>\n",
       "      <td>0.000000</td>\n",
       "      <td>0.000000</td>\n",
       "      <td>0.000000</td>\n",
       "      <td>0.000000</td>\n",
       "      <td>0.067779</td>\n",
       "      <td>0.0</td>\n",
       "      <td>0.122417</td>\n",
       "      <td>0.062665</td>\n",
       "    </tr>\n",
       "  </tbody>\n",
       "</table>\n",
       "<p>5 rows × 987 columns</p>\n",
       "</div>"
      ],
      "text/plain": [
       "               LV1  LV2       LV3  LV4       LV5       LV6  LV7       LV8  \\\n",
       "GAS6      0.000000  0.0  0.039438  0.0  0.050476  0.000000  0.0  0.000000   \n",
       "MMP14     0.000000  0.0  0.000000  0.0  0.070072  0.000000  0.0  0.004904   \n",
       "DSP       0.000000  0.0  0.000000  0.0  0.000000  0.041697  0.0  0.005718   \n",
       "MARCKSL1  0.305212  0.0  0.000000  0.0  0.000000  0.000000  0.0  0.000000   \n",
       "SPARC     0.000000  0.0  0.000000  0.0  0.000000  0.000000  0.0  0.000000   \n",
       "\n",
       "               LV9      LV10  ...     LV978    LV979     LV980     LV981  \\\n",
       "GAS6      0.590949  0.000000  ...  0.050125  0.00000  0.033407  0.000000   \n",
       "MMP14     1.720179  2.423595  ...  0.000000  0.00000  0.001007  0.000000   \n",
       "DSP       0.000000  0.000000  ...  0.020853  0.00000  0.000000  0.000000   \n",
       "MARCKSL1  0.161843  0.149471  ...  0.027134  0.05272  0.000000  0.030189   \n",
       "SPARC     0.000000  0.014014  ...  0.000000  0.00000  0.000000  0.000000   \n",
       "\n",
       "             LV982     LV983     LV984  LV985     LV986     LV987  \n",
       "GAS6      0.000000  0.005963  0.347362    0.0  0.000000  0.000000  \n",
       "MMP14     0.035747  0.000000  0.000000    0.0  0.014978  0.000000  \n",
       "DSP       0.000000  0.005774  0.000000    0.0  0.000000  0.416405  \n",
       "MARCKSL1  0.060884  0.000000  0.000000    0.0  0.000000  0.448480  \n",
       "SPARC     0.000000  0.000000  0.067779    0.0  0.122417  0.062665  \n",
       "\n",
       "[5 rows x 987 columns]"
      ]
     },
     "execution_count": 12,
     "metadata": {},
     "output_type": "execute_result"
    }
   ],
   "source": [
    "multiplier_z.head()"
   ]
  },
  {
   "cell_type": "markdown",
   "id": "conventional-shelf",
   "metadata": {
    "papermill": {
     "duration": 0.028575,
     "end_time": "2021-05-01T02:06:19.708159",
     "exception": false,
     "start_time": "2021-05-01T02:06:19.679584",
     "status": "completed"
    },
    "tags": []
   },
   "source": [
    "## 1000G variants metadata"
   ]
  },
  {
   "cell_type": "code",
   "execution_count": 13,
   "id": "experienced-parcel",
   "metadata": {
    "execution": {
     "iopub.execute_input": "2021-05-01T02:06:19.767311Z",
     "iopub.status.busy": "2021-05-01T02:06:19.766948Z",
     "iopub.status.idle": "2021-05-01T02:06:19.774940Z",
     "shell.execute_reply": "2021-05-01T02:06:19.774596Z"
    },
    "papermill": {
     "duration": 0.038654,
     "end_time": "2021-05-01T02:06:19.775018",
     "exception": false,
     "start_time": "2021-05-01T02:06:19.736364",
     "status": "completed"
    },
    "tags": []
   },
   "outputs": [
    {
     "data": {
      "text/plain": [
       "PosixPath('/home/miltondp/projects/labs/greenelab/phenoplier/base/data/phenomexcan/ld_blocks/reference_panel_1000G/variant_metadata.parquet')"
      ]
     },
     "metadata": {},
     "output_type": "display_data"
    }
   ],
   "source": [
    "input_file = (\n",
    "    conf.PHENOMEXCAN[\"LD_BLOCKS\"][\"1000G_GENOTYPE_DIR\"] / \"variant_metadata.parquet\"\n",
    ")\n",
    "display(input_file)"
   ]
  },
  {
   "cell_type": "code",
   "execution_count": 14,
   "id": "sporting-gamma",
   "metadata": {
    "execution": {
     "iopub.execute_input": "2021-05-01T02:06:19.837271Z",
     "iopub.status.busy": "2021-05-01T02:06:19.836827Z",
     "iopub.status.idle": "2021-05-01T02:06:25.827495Z",
     "shell.execute_reply": "2021-05-01T02:06:25.827137Z"
    },
    "papermill": {
     "duration": 6.024264,
     "end_time": "2021-05-01T02:06:25.827585",
     "exception": false,
     "start_time": "2021-05-01T02:06:19.803321",
     "status": "completed"
    },
    "tags": []
   },
   "outputs": [],
   "source": [
    "variants_metadata = pd.read_parquet(input_file, columns=[\"id\"])"
   ]
  },
  {
   "cell_type": "code",
   "execution_count": 15,
   "id": "animal-weather",
   "metadata": {
    "execution": {
     "iopub.execute_input": "2021-05-01T02:06:25.893492Z",
     "iopub.status.busy": "2021-05-01T02:06:25.893097Z",
     "iopub.status.idle": "2021-05-01T02:06:25.902575Z",
     "shell.execute_reply": "2021-05-01T02:06:25.902869Z"
    },
    "papermill": {
     "duration": 0.045381,
     "end_time": "2021-05-01T02:06:25.902980",
     "exception": false,
     "start_time": "2021-05-01T02:06:25.857599",
     "status": "completed"
    },
    "tags": []
   },
   "outputs": [
    {
     "data": {
      "text/plain": [
       "(27731498, 1)"
      ]
     },
     "execution_count": 15,
     "metadata": {},
     "output_type": "execute_result"
    }
   ],
   "source": [
    "variants_metadata.shape"
   ]
  },
  {
   "cell_type": "code",
   "execution_count": 16,
   "id": "assumed-oriental",
   "metadata": {
    "execution": {
     "iopub.execute_input": "2021-05-01T02:06:25.964653Z",
     "iopub.status.busy": "2021-05-01T02:06:25.964299Z",
     "iopub.status.idle": "2021-05-01T02:06:25.975842Z",
     "shell.execute_reply": "2021-05-01T02:06:25.976118Z"
    },
    "papermill": {
     "duration": 0.042522,
     "end_time": "2021-05-01T02:06:25.976224",
     "exception": false,
     "start_time": "2021-05-01T02:06:25.933702",
     "status": "completed"
    },
    "tags": []
   },
   "outputs": [
    {
     "data": {
      "text/html": [
       "<div>\n",
       "<style scoped>\n",
       "    .dataframe tbody tr th:only-of-type {\n",
       "        vertical-align: middle;\n",
       "    }\n",
       "\n",
       "    .dataframe tbody tr th {\n",
       "        vertical-align: top;\n",
       "    }\n",
       "\n",
       "    .dataframe thead th {\n",
       "        text-align: right;\n",
       "    }\n",
       "</style>\n",
       "<table border=\"1\" class=\"dataframe\">\n",
       "  <thead>\n",
       "    <tr style=\"text-align: right;\">\n",
       "      <th></th>\n",
       "      <th>id</th>\n",
       "    </tr>\n",
       "  </thead>\n",
       "  <tbody>\n",
       "    <tr>\n",
       "      <th>0</th>\n",
       "      <td>chr1_17496_AC_A_b38</td>\n",
       "    </tr>\n",
       "    <tr>\n",
       "      <th>1</th>\n",
       "      <td>chr1_54490_G_A_b38</td>\n",
       "    </tr>\n",
       "    <tr>\n",
       "      <th>2</th>\n",
       "      <td>chr1_55330_G_A_b38</td>\n",
       "    </tr>\n",
       "    <tr>\n",
       "      <th>3</th>\n",
       "      <td>chr1_55416_G_A_b38</td>\n",
       "    </tr>\n",
       "    <tr>\n",
       "      <th>4</th>\n",
       "      <td>chr1_62157_G_A_b38</td>\n",
       "    </tr>\n",
       "  </tbody>\n",
       "</table>\n",
       "</div>"
      ],
      "text/plain": [
       "                    id\n",
       "0  chr1_17496_AC_A_b38\n",
       "1   chr1_54490_G_A_b38\n",
       "2   chr1_55330_G_A_b38\n",
       "3   chr1_55416_G_A_b38\n",
       "4   chr1_62157_G_A_b38"
      ]
     },
     "execution_count": 16,
     "metadata": {},
     "output_type": "execute_result"
    }
   ],
   "source": [
    "variants_metadata.head()"
   ]
  },
  {
   "cell_type": "code",
   "execution_count": 17,
   "id": "developing-humidity",
   "metadata": {
    "execution": {
     "iopub.execute_input": "2021-05-01T02:06:26.037666Z",
     "iopub.status.busy": "2021-05-01T02:06:26.037307Z",
     "iopub.status.idle": "2021-05-01T02:06:33.615316Z",
     "shell.execute_reply": "2021-05-01T02:06:33.614920Z"
    },
    "papermill": {
     "duration": 7.609034,
     "end_time": "2021-05-01T02:06:33.615428",
     "exception": false,
     "start_time": "2021-05-01T02:06:26.006394",
     "status": "completed"
    },
    "tags": []
   },
   "outputs": [],
   "source": [
    "variants_ids_with_genotype = set(variants_metadata[\"id\"])"
   ]
  },
  {
   "cell_type": "code",
   "execution_count": 18,
   "id": "informed-search",
   "metadata": {
    "execution": {
     "iopub.execute_input": "2021-05-01T02:06:33.684320Z",
     "iopub.status.busy": "2021-05-01T02:06:33.683966Z",
     "iopub.status.idle": "2021-05-01T02:06:33.693661Z",
     "shell.execute_reply": "2021-05-01T02:06:33.693307Z"
    },
    "papermill": {
     "duration": 0.041583,
     "end_time": "2021-05-01T02:06:33.693743",
     "exception": false,
     "start_time": "2021-05-01T02:06:33.652160",
     "status": "completed"
    },
    "tags": []
   },
   "outputs": [
    {
     "data": {
      "text/plain": [
       "27731498"
      ]
     },
     "execution_count": 18,
     "metadata": {},
     "output_type": "execute_result"
    }
   ],
   "source": [
    "len(variants_ids_with_genotype)"
   ]
  },
  {
   "cell_type": "code",
   "execution_count": 19,
   "id": "coordinate-ideal",
   "metadata": {
    "execution": {
     "iopub.execute_input": "2021-05-01T02:06:33.755626Z",
     "iopub.status.busy": "2021-05-01T02:06:33.755272Z",
     "iopub.status.idle": "2021-05-01T02:06:36.642698Z",
     "shell.execute_reply": "2021-05-01T02:06:36.642000Z"
    },
    "papermill": {
     "duration": 2.919124,
     "end_time": "2021-05-01T02:06:36.642850",
     "exception": false,
     "start_time": "2021-05-01T02:06:33.723726",
     "status": "completed"
    },
    "tags": []
   },
   "outputs": [
    {
     "data": {
      "text/plain": [
       "['chr16_84046706_G_A_b38',\n",
       " 'chr6_23908450_G_A_b38',\n",
       " 'chr11_133499406_C_T_b38',\n",
       " 'chr1_216825327_A_G_b38',\n",
       " 'chr11_26748448_C_T_b38',\n",
       " 'chr14_53370917_G_A_b38',\n",
       " 'chr8_15215594_T_A_b38',\n",
       " 'chr3_46186134_C_A_b38',\n",
       " 'chr1_231576076_T_G_b38',\n",
       " 'chr4_10426646_T_A_b38']"
      ]
     },
     "execution_count": 19,
     "metadata": {},
     "output_type": "execute_result"
    }
   ],
   "source": [
    "list(variants_ids_with_genotype)[:10]"
   ]
  },
  {
   "cell_type": "code",
   "execution_count": 20,
   "id": "color-uncertainty",
   "metadata": {
    "execution": {
     "iopub.execute_input": "2021-05-01T02:06:36.721348Z",
     "iopub.status.busy": "2021-05-01T02:06:36.720972Z",
     "iopub.status.idle": "2021-05-01T02:06:36.729654Z",
     "shell.execute_reply": "2021-05-01T02:06:36.729928Z"
    },
    "papermill": {
     "duration": 0.044995,
     "end_time": "2021-05-01T02:06:36.730033",
     "exception": false,
     "start_time": "2021-05-01T02:06:36.685038",
     "status": "completed"
    },
    "tags": []
   },
   "outputs": [],
   "source": [
    "del variants_metadata"
   ]
  },
  {
   "cell_type": "markdown",
   "id": "swiss-concentration",
   "metadata": {
    "papermill": {
     "duration": 0.029312,
     "end_time": "2021-05-01T02:06:36.790291",
     "exception": false,
     "start_time": "2021-05-01T02:06:36.760979",
     "status": "completed"
    },
    "tags": []
   },
   "source": [
    "# How many variants in predictions models are present in 1000G?"
   ]
  },
  {
   "cell_type": "code",
   "execution_count": 21,
   "id": "greek-logging",
   "metadata": {
    "execution": {
     "iopub.execute_input": "2021-05-01T02:06:36.851047Z",
     "iopub.status.busy": "2021-05-01T02:06:36.850694Z",
     "iopub.status.idle": "2021-05-01T02:06:36.859925Z",
     "shell.execute_reply": "2021-05-01T02:06:36.860199Z"
    },
    "papermill": {
     "duration": 0.040975,
     "end_time": "2021-05-01T02:06:36.860303",
     "exception": false,
     "start_time": "2021-05-01T02:06:36.819328",
     "status": "completed"
    },
    "tags": []
   },
   "outputs": [
    {
     "data": {
      "text/plain": [
       "237405"
      ]
     },
     "metadata": {},
     "output_type": "display_data"
    }
   ],
   "source": [
    "n_snps_in_models = len(all_snps_in_models)\n",
    "display(n_snps_in_models)"
   ]
  },
  {
   "cell_type": "code",
   "execution_count": 22,
   "id": "periodic-surname",
   "metadata": {
    "execution": {
     "iopub.execute_input": "2021-05-01T02:06:36.925143Z",
     "iopub.status.busy": "2021-05-01T02:06:36.924752Z",
     "iopub.status.idle": "2021-05-01T02:06:36.988959Z",
     "shell.execute_reply": "2021-05-01T02:06:36.988383Z"
    },
    "papermill": {
     "duration": 0.09885,
     "end_time": "2021-05-01T02:06:36.989096",
     "exception": false,
     "start_time": "2021-05-01T02:06:36.890246",
     "status": "completed"
    },
    "tags": []
   },
   "outputs": [
    {
     "data": {
      "text/plain": [
       "222720"
      ]
     },
     "metadata": {},
     "output_type": "display_data"
    }
   ],
   "source": [
    "n_snps_in_1000g = len(all_snps_in_models.intersection(variants_ids_with_genotype))\n",
    "display(n_snps_in_1000g)"
   ]
  },
  {
   "cell_type": "code",
   "execution_count": 23,
   "id": "dangerous-director",
   "metadata": {
    "execution": {
     "iopub.execute_input": "2021-05-01T02:06:37.065195Z",
     "iopub.status.busy": "2021-05-01T02:06:37.064836Z",
     "iopub.status.idle": "2021-05-01T02:06:37.074257Z",
     "shell.execute_reply": "2021-05-01T02:06:37.074524Z"
    },
    "papermill": {
     "duration": 0.044521,
     "end_time": "2021-05-01T02:06:37.074626",
     "exception": false,
     "start_time": "2021-05-01T02:06:37.030105",
     "status": "completed"
    },
    "tags": []
   },
   "outputs": [
    {
     "data": {
      "text/plain": [
       "0.9381436785240412"
      ]
     },
     "execution_count": 23,
     "metadata": {},
     "output_type": "execute_result"
    }
   ],
   "source": [
    "n_snps_in_1000g / n_snps_in_models"
   ]
  },
  {
   "cell_type": "markdown",
   "id": "union-retro",
   "metadata": {
    "papermill": {
     "duration": 0.030258,
     "end_time": "2021-05-01T02:06:37.136374",
     "exception": false,
     "start_time": "2021-05-01T02:06:37.106116",
     "status": "completed"
    },
    "tags": []
   },
   "source": [
    "# Get final list of genes in MultiPLIER"
   ]
  },
  {
   "cell_type": "code",
   "execution_count": 24,
   "id": "greenhouse-exhaust",
   "metadata": {
    "execution": {
     "iopub.execute_input": "2021-05-01T02:06:37.198508Z",
     "iopub.status.busy": "2021-05-01T02:06:37.198151Z",
     "iopub.status.idle": "2021-05-01T02:06:37.212251Z",
     "shell.execute_reply": "2021-05-01T02:06:37.211890Z"
    },
    "papermill": {
     "duration": 0.046317,
     "end_time": "2021-05-01T02:06:37.212333",
     "exception": false,
     "start_time": "2021-05-01T02:06:37.166016",
     "status": "completed"
    },
    "tags": []
   },
   "outputs": [],
   "source": [
    "genes_in_z = [\n",
    "    Gene(name=gene_name).ensembl_id\n",
    "    for gene_name in multiplier_z.index\n",
    "    if gene_name in Gene.GENE_NAME_TO_ID_MAP\n",
    "]"
   ]
  },
  {
   "cell_type": "code",
   "execution_count": 25,
   "id": "computational-trash",
   "metadata": {
    "execution": {
     "iopub.execute_input": "2021-05-01T02:06:37.274790Z",
     "iopub.status.busy": "2021-05-01T02:06:37.274439Z",
     "iopub.status.idle": "2021-05-01T02:06:37.284470Z",
     "shell.execute_reply": "2021-05-01T02:06:37.284156Z"
    },
    "papermill": {
     "duration": 0.041708,
     "end_time": "2021-05-01T02:06:37.284556",
     "exception": false,
     "start_time": "2021-05-01T02:06:37.242848",
     "status": "completed"
    },
    "tags": []
   },
   "outputs": [
    {
     "data": {
      "text/plain": [
       "6454"
      ]
     },
     "execution_count": 25,
     "metadata": {},
     "output_type": "execute_result"
    }
   ],
   "source": [
    "len(genes_in_z)"
   ]
  },
  {
   "cell_type": "code",
   "execution_count": 26,
   "id": "illegal-south",
   "metadata": {
    "execution": {
     "iopub.execute_input": "2021-05-01T02:06:37.347338Z",
     "iopub.status.busy": "2021-05-01T02:06:37.346980Z",
     "iopub.status.idle": "2021-05-01T02:06:37.357059Z",
     "shell.execute_reply": "2021-05-01T02:06:37.356678Z"
    },
    "papermill": {
     "duration": 0.042195,
     "end_time": "2021-05-01T02:06:37.357140",
     "exception": false,
     "start_time": "2021-05-01T02:06:37.314945",
     "status": "completed"
    },
    "tags": []
   },
   "outputs": [
    {
     "data": {
      "text/plain": [
       "['ENSG00000183087',\n",
       " 'ENSG00000157227',\n",
       " 'ENSG00000096696',\n",
       " 'ENSG00000175130',\n",
       " 'ENSG00000113140']"
      ]
     },
     "execution_count": 26,
     "metadata": {},
     "output_type": "execute_result"
    }
   ],
   "source": [
    "genes_in_z[:5]"
   ]
  },
  {
   "cell_type": "code",
   "execution_count": 27,
   "id": "fifteen-auditor",
   "metadata": {
    "execution": {
     "iopub.execute_input": "2021-05-01T02:06:37.421142Z",
     "iopub.status.busy": "2021-05-01T02:06:37.420785Z",
     "iopub.status.idle": "2021-05-01T02:06:37.430588Z",
     "shell.execute_reply": "2021-05-01T02:06:37.430222Z"
    },
    "papermill": {
     "duration": 0.042206,
     "end_time": "2021-05-01T02:06:37.430671",
     "exception": false,
     "start_time": "2021-05-01T02:06:37.388465",
     "status": "completed"
    },
    "tags": []
   },
   "outputs": [],
   "source": [
    "genes_in_z = set(genes_in_z)"
   ]
  },
  {
   "cell_type": "code",
   "execution_count": 28,
   "id": "regular-marina",
   "metadata": {
    "execution": {
     "iopub.execute_input": "2021-05-01T02:06:37.495251Z",
     "iopub.status.busy": "2021-05-01T02:06:37.494885Z",
     "iopub.status.idle": "2021-05-01T02:06:37.504557Z",
     "shell.execute_reply": "2021-05-01T02:06:37.504202Z"
    },
    "papermill": {
     "duration": 0.042628,
     "end_time": "2021-05-01T02:06:37.504640",
     "exception": false,
     "start_time": "2021-05-01T02:06:37.462012",
     "status": "completed"
    },
    "tags": []
   },
   "outputs": [
    {
     "data": {
      "text/plain": [
       "6454"
      ]
     },
     "execution_count": 28,
     "metadata": {},
     "output_type": "execute_result"
    }
   ],
   "source": [
    "len(genes_in_z)"
   ]
  },
  {
   "cell_type": "code",
   "execution_count": 29,
   "id": "appointed-arabic",
   "metadata": {
    "execution": {
     "iopub.execute_input": "2021-05-01T02:06:37.569302Z",
     "iopub.status.busy": "2021-05-01T02:06:37.568947Z",
     "iopub.status.idle": "2021-05-01T02:06:37.670466Z",
     "shell.execute_reply": "2021-05-01T02:06:37.670094Z"
    },
    "papermill": {
     "duration": 0.134686,
     "end_time": "2021-05-01T02:06:37.670571",
     "exception": false,
     "start_time": "2021-05-01T02:06:37.535885",
     "status": "completed"
    },
    "tags": []
   },
   "outputs": [
    {
     "data": {
      "text/plain": [
       "(1132714, 3)"
      ]
     },
     "metadata": {},
     "output_type": "display_data"
    },
    {
     "data": {
      "text/plain": [
       "(396890, 3)"
      ]
     },
     "metadata": {},
     "output_type": "display_data"
    }
   ],
   "source": [
    "# keep genes in MultiPLIER only\n",
    "display(all_gene_snps.shape)\n",
    "\n",
    "all_gene_snps = all_gene_snps[all_gene_snps[\"gene\"].isin(genes_in_z)]\n",
    "\n",
    "display(all_gene_snps.shape)"
   ]
  },
  {
   "cell_type": "markdown",
   "id": "tamil-warner",
   "metadata": {
    "papermill": {
     "duration": 0.031293,
     "end_time": "2021-05-01T02:06:37.740476",
     "exception": false,
     "start_time": "2021-05-01T02:06:37.709183",
     "status": "completed"
    },
    "tags": []
   },
   "source": [
    "# (For MultiPLIER genes): How many variants in predictions models are present in 1000G?"
   ]
  },
  {
   "cell_type": "code",
   "execution_count": 30,
   "id": "skilled-fabric",
   "metadata": {
    "execution": {
     "iopub.execute_input": "2021-05-01T02:06:37.823529Z",
     "iopub.status.busy": "2021-05-01T02:06:37.823076Z",
     "iopub.status.idle": "2021-05-01T02:06:37.931188Z",
     "shell.execute_reply": "2021-05-01T02:06:37.931539Z"
    },
    "papermill": {
     "duration": 0.160238,
     "end_time": "2021-05-01T02:06:37.931672",
     "exception": false,
     "start_time": "2021-05-01T02:06:37.771434",
     "status": "completed"
    },
    "tags": []
   },
   "outputs": [
    {
     "data": {
      "text/plain": [
       "84708"
      ]
     },
     "metadata": {},
     "output_type": "display_data"
    }
   ],
   "source": [
    "all_snps_in_models_multiplier = set(all_gene_snps[\"varID\"])\n",
    "\n",
    "n_snps_in_models = len(all_snps_in_models_multiplier)\n",
    "display(n_snps_in_models)"
   ]
  },
  {
   "cell_type": "code",
   "execution_count": 31,
   "id": "stainless-lebanon",
   "metadata": {
    "execution": {
     "iopub.execute_input": "2021-05-01T02:06:38.004399Z",
     "iopub.status.busy": "2021-05-01T02:06:38.004030Z",
     "iopub.status.idle": "2021-05-01T02:06:38.033251Z",
     "shell.execute_reply": "2021-05-01T02:06:38.032773Z"
    },
    "papermill": {
     "duration": 0.063091,
     "end_time": "2021-05-01T02:06:38.033358",
     "exception": false,
     "start_time": "2021-05-01T02:06:37.970267",
     "status": "completed"
    },
    "tags": []
   },
   "outputs": [
    {
     "data": {
      "text/plain": [
       "80339"
      ]
     },
     "metadata": {},
     "output_type": "display_data"
    }
   ],
   "source": [
    "n_snps_in_1000g = len(\n",
    "    all_snps_in_models_multiplier.intersection(variants_ids_with_genotype)\n",
    ")\n",
    "display(n_snps_in_1000g)"
   ]
  },
  {
   "cell_type": "code",
   "execution_count": 32,
   "id": "bronze-cycling",
   "metadata": {
    "execution": {
     "iopub.execute_input": "2021-05-01T02:06:38.107959Z",
     "iopub.status.busy": "2021-05-01T02:06:38.107595Z",
     "iopub.status.idle": "2021-05-01T02:06:38.117668Z",
     "shell.execute_reply": "2021-05-01T02:06:38.117304Z"
    },
    "papermill": {
     "duration": 0.044592,
     "end_time": "2021-05-01T02:06:38.117752",
     "exception": false,
     "start_time": "2021-05-01T02:06:38.073160",
     "status": "completed"
    },
    "tags": []
   },
   "outputs": [
    {
     "data": {
      "text/plain": [
       "0.9484228172073476"
      ]
     },
     "execution_count": 32,
     "metadata": {},
     "output_type": "execute_result"
    }
   ],
   "source": [
    "n_snps_in_1000g / n_snps_in_models"
   ]
  },
  {
   "cell_type": "markdown",
   "id": "stretch-promotion",
   "metadata": {
    "papermill": {
     "duration": 0.032313,
     "end_time": "2021-05-01T02:06:38.182886",
     "exception": false,
     "start_time": "2021-05-01T02:06:38.150573",
     "status": "completed"
    },
    "tags": []
   },
   "source": [
    "## Preprocess SNPs data"
   ]
  },
  {
   "cell_type": "code",
   "execution_count": 33,
   "id": "mexican-accused",
   "metadata": {
    "execution": {
     "iopub.execute_input": "2021-05-01T02:06:38.248412Z",
     "iopub.status.busy": "2021-05-01T02:06:38.248057Z",
     "iopub.status.idle": "2021-05-01T02:06:38.380307Z",
     "shell.execute_reply": "2021-05-01T02:06:38.379798Z"
    },
    "papermill": {
     "duration": 0.165782,
     "end_time": "2021-05-01T02:06:38.380420",
     "exception": false,
     "start_time": "2021-05-01T02:06:38.214638",
     "status": "completed"
    },
    "tags": []
   },
   "outputs": [],
   "source": [
    "variants_ld_block_df = all_gene_snps[[\"varID\"]].drop_duplicates()"
   ]
  },
  {
   "cell_type": "code",
   "execution_count": 34,
   "id": "boolean-balloon",
   "metadata": {
    "execution": {
     "iopub.execute_input": "2021-05-01T02:06:38.457449Z",
     "iopub.status.busy": "2021-05-01T02:06:38.457101Z",
     "iopub.status.idle": "2021-05-01T02:06:38.466716Z",
     "shell.execute_reply": "2021-05-01T02:06:38.466350Z"
    },
    "papermill": {
     "duration": 0.044731,
     "end_time": "2021-05-01T02:06:38.466798",
     "exception": false,
     "start_time": "2021-05-01T02:06:38.422067",
     "status": "completed"
    },
    "tags": []
   },
   "outputs": [
    {
     "data": {
      "text/plain": [
       "(84708, 1)"
      ]
     },
     "execution_count": 34,
     "metadata": {},
     "output_type": "execute_result"
    }
   ],
   "source": [
    "variants_ld_block_df.shape"
   ]
  },
  {
   "cell_type": "code",
   "execution_count": 35,
   "id": "hydraulic-utility",
   "metadata": {
    "execution": {
     "iopub.execute_input": "2021-05-01T02:06:38.533437Z",
     "iopub.status.busy": "2021-05-01T02:06:38.533087Z",
     "iopub.status.idle": "2021-05-01T02:06:38.544520Z",
     "shell.execute_reply": "2021-05-01T02:06:38.544838Z"
    },
    "papermill": {
     "duration": 0.045457,
     "end_time": "2021-05-01T02:06:38.544957",
     "exception": false,
     "start_time": "2021-05-01T02:06:38.499500",
     "status": "completed"
    },
    "tags": []
   },
   "outputs": [
    {
     "data": {
      "text/html": [
       "<div>\n",
       "<style scoped>\n",
       "    .dataframe tbody tr th:only-of-type {\n",
       "        vertical-align: middle;\n",
       "    }\n",
       "\n",
       "    .dataframe tbody tr th {\n",
       "        vertical-align: top;\n",
       "    }\n",
       "\n",
       "    .dataframe thead th {\n",
       "        text-align: right;\n",
       "    }\n",
       "</style>\n",
       "<table border=\"1\" class=\"dataframe\">\n",
       "  <thead>\n",
       "    <tr style=\"text-align: right;\">\n",
       "      <th></th>\n",
       "      <th>varID</th>\n",
       "    </tr>\n",
       "  </thead>\n",
       "  <tbody>\n",
       "    <tr>\n",
       "      <th>0</th>\n",
       "      <td>chr9_136996001_G_A_b38</td>\n",
       "    </tr>\n",
       "    <tr>\n",
       "      <th>1</th>\n",
       "      <td>chr9_137029055_C_CA_b38</td>\n",
       "    </tr>\n",
       "    <tr>\n",
       "      <th>2</th>\n",
       "      <td>chr9_137029407_T_G_b38</td>\n",
       "    </tr>\n",
       "    <tr>\n",
       "      <th>10</th>\n",
       "      <td>chr9_137084985_C_T_b38</td>\n",
       "    </tr>\n",
       "    <tr>\n",
       "      <th>11</th>\n",
       "      <td>chr9_137102549_TACAC_T_b38</td>\n",
       "    </tr>\n",
       "  </tbody>\n",
       "</table>\n",
       "</div>"
      ],
      "text/plain": [
       "                         varID\n",
       "0       chr9_136996001_G_A_b38\n",
       "1      chr9_137029055_C_CA_b38\n",
       "2       chr9_137029407_T_G_b38\n",
       "10      chr9_137084985_C_T_b38\n",
       "11  chr9_137102549_TACAC_T_b38"
      ]
     },
     "execution_count": 35,
     "metadata": {},
     "output_type": "execute_result"
    }
   ],
   "source": [
    "variants_ld_block_df.head()"
   ]
  },
  {
   "cell_type": "code",
   "execution_count": 36,
   "id": "organic-public",
   "metadata": {
    "execution": {
     "iopub.execute_input": "2021-05-01T02:06:38.611043Z",
     "iopub.status.busy": "2021-05-01T02:06:38.610688Z",
     "iopub.status.idle": "2021-05-01T02:06:46.103950Z",
     "shell.execute_reply": "2021-05-01T02:06:46.103473Z"
    },
    "papermill": {
     "duration": 7.527001,
     "end_time": "2021-05-01T02:06:46.104057",
     "exception": false,
     "start_time": "2021-05-01T02:06:38.577056",
     "status": "completed"
    },
    "tags": []
   },
   "outputs": [],
   "source": [
    "variants_info = variants_ld_block_df[\"varID\"].str.split(\"_\", expand=True)"
   ]
  },
  {
   "cell_type": "code",
   "execution_count": 37,
   "id": "agricultural-dominant",
   "metadata": {
    "execution": {
     "iopub.execute_input": "2021-05-01T02:06:46.179874Z",
     "iopub.status.busy": "2021-05-01T02:06:46.179518Z",
     "iopub.status.idle": "2021-05-01T02:06:46.189374Z",
     "shell.execute_reply": "2021-05-01T02:06:46.189004Z"
    },
    "papermill": {
     "duration": 0.044586,
     "end_time": "2021-05-01T02:06:46.189459",
     "exception": false,
     "start_time": "2021-05-01T02:06:46.144873",
     "status": "completed"
    },
    "tags": []
   },
   "outputs": [
    {
     "data": {
      "text/plain": [
       "(84708, 5)"
      ]
     },
     "execution_count": 37,
     "metadata": {},
     "output_type": "execute_result"
    }
   ],
   "source": [
    "variants_info.shape"
   ]
  },
  {
   "cell_type": "code",
   "execution_count": 38,
   "id": "infinite-birth",
   "metadata": {
    "execution": {
     "iopub.execute_input": "2021-05-01T02:06:46.256567Z",
     "iopub.status.busy": "2021-05-01T02:06:46.256217Z",
     "iopub.status.idle": "2021-05-01T02:06:46.265292Z",
     "shell.execute_reply": "2021-05-01T02:06:46.264918Z"
    },
    "papermill": {
     "duration": 0.042616,
     "end_time": "2021-05-01T02:06:46.265376",
     "exception": false,
     "start_time": "2021-05-01T02:06:46.222760",
     "status": "completed"
    },
    "tags": []
   },
   "outputs": [],
   "source": [
    "assert variants_ld_block_df.shape[0] == variants_info.shape[0]"
   ]
  },
  {
   "cell_type": "code",
   "execution_count": 39,
   "id": "sustained-chocolate",
   "metadata": {
    "execution": {
     "iopub.execute_input": "2021-05-01T02:06:46.331790Z",
     "iopub.status.busy": "2021-05-01T02:06:46.331437Z",
     "iopub.status.idle": "2021-05-01T02:06:46.376937Z",
     "shell.execute_reply": "2021-05-01T02:06:46.376362Z"
    },
    "papermill": {
     "duration": 0.079553,
     "end_time": "2021-05-01T02:06:46.377067",
     "exception": false,
     "start_time": "2021-05-01T02:06:46.297514",
     "status": "completed"
    },
    "tags": []
   },
   "outputs": [],
   "source": [
    "variants_ld_block_df = variants_ld_block_df.join(variants_info)[[\"varID\", 0, 1, 2, 3]]"
   ]
  },
  {
   "cell_type": "code",
   "execution_count": 40,
   "id": "comprehensive-scholarship",
   "metadata": {
    "execution": {
     "iopub.execute_input": "2021-05-01T02:06:46.457205Z",
     "iopub.status.busy": "2021-05-01T02:06:46.456849Z",
     "iopub.status.idle": "2021-05-01T02:06:46.465681Z",
     "shell.execute_reply": "2021-05-01T02:06:46.465361Z"
    },
    "papermill": {
     "duration": 0.045555,
     "end_time": "2021-05-01T02:06:46.465764",
     "exception": false,
     "start_time": "2021-05-01T02:06:46.420209",
     "status": "completed"
    },
    "tags": []
   },
   "outputs": [],
   "source": [
    "assert variants_ld_block_df.shape[0] == variants_info.shape[0]"
   ]
  },
  {
   "cell_type": "code",
   "execution_count": 41,
   "id": "treated-glenn",
   "metadata": {
    "execution": {
     "iopub.execute_input": "2021-05-01T02:06:46.533429Z",
     "iopub.status.busy": "2021-05-01T02:06:46.533072Z",
     "iopub.status.idle": "2021-05-01T02:06:46.546674Z",
     "shell.execute_reply": "2021-05-01T02:06:46.546317Z"
    },
    "papermill": {
     "duration": 0.047476,
     "end_time": "2021-05-01T02:06:46.546757",
     "exception": false,
     "start_time": "2021-05-01T02:06:46.499281",
     "status": "completed"
    },
    "tags": []
   },
   "outputs": [
    {
     "data": {
      "text/html": [
       "<div>\n",
       "<style scoped>\n",
       "    .dataframe tbody tr th:only-of-type {\n",
       "        vertical-align: middle;\n",
       "    }\n",
       "\n",
       "    .dataframe tbody tr th {\n",
       "        vertical-align: top;\n",
       "    }\n",
       "\n",
       "    .dataframe thead th {\n",
       "        text-align: right;\n",
       "    }\n",
       "</style>\n",
       "<table border=\"1\" class=\"dataframe\">\n",
       "  <thead>\n",
       "    <tr style=\"text-align: right;\">\n",
       "      <th></th>\n",
       "      <th>varID</th>\n",
       "      <th>0</th>\n",
       "      <th>1</th>\n",
       "      <th>2</th>\n",
       "      <th>3</th>\n",
       "    </tr>\n",
       "  </thead>\n",
       "  <tbody>\n",
       "    <tr>\n",
       "      <th>0</th>\n",
       "      <td>chr9_136996001_G_A_b38</td>\n",
       "      <td>chr9</td>\n",
       "      <td>136996001</td>\n",
       "      <td>G</td>\n",
       "      <td>A</td>\n",
       "    </tr>\n",
       "    <tr>\n",
       "      <th>1</th>\n",
       "      <td>chr9_137029055_C_CA_b38</td>\n",
       "      <td>chr9</td>\n",
       "      <td>137029055</td>\n",
       "      <td>C</td>\n",
       "      <td>CA</td>\n",
       "    </tr>\n",
       "    <tr>\n",
       "      <th>2</th>\n",
       "      <td>chr9_137029407_T_G_b38</td>\n",
       "      <td>chr9</td>\n",
       "      <td>137029407</td>\n",
       "      <td>T</td>\n",
       "      <td>G</td>\n",
       "    </tr>\n",
       "    <tr>\n",
       "      <th>10</th>\n",
       "      <td>chr9_137084985_C_T_b38</td>\n",
       "      <td>chr9</td>\n",
       "      <td>137084985</td>\n",
       "      <td>C</td>\n",
       "      <td>T</td>\n",
       "    </tr>\n",
       "    <tr>\n",
       "      <th>11</th>\n",
       "      <td>chr9_137102549_TACAC_T_b38</td>\n",
       "      <td>chr9</td>\n",
       "      <td>137102549</td>\n",
       "      <td>TACAC</td>\n",
       "      <td>T</td>\n",
       "    </tr>\n",
       "  </tbody>\n",
       "</table>\n",
       "</div>"
      ],
      "text/plain": [
       "                         varID     0          1      2   3\n",
       "0       chr9_136996001_G_A_b38  chr9  136996001      G   A\n",
       "1      chr9_137029055_C_CA_b38  chr9  137029055      C  CA\n",
       "2       chr9_137029407_T_G_b38  chr9  137029407      T   G\n",
       "10      chr9_137084985_C_T_b38  chr9  137084985      C   T\n",
       "11  chr9_137102549_TACAC_T_b38  chr9  137102549  TACAC   T"
      ]
     },
     "execution_count": 41,
     "metadata": {},
     "output_type": "execute_result"
    }
   ],
   "source": [
    "variants_ld_block_df.head()"
   ]
  },
  {
   "cell_type": "code",
   "execution_count": 42,
   "id": "welcome-pearl",
   "metadata": {
    "execution": {
     "iopub.execute_input": "2021-05-01T02:06:46.620105Z",
     "iopub.status.busy": "2021-05-01T02:06:46.619731Z",
     "iopub.status.idle": "2021-05-01T02:06:46.632895Z",
     "shell.execute_reply": "2021-05-01T02:06:46.632538Z"
    },
    "papermill": {
     "duration": 0.048257,
     "end_time": "2021-05-01T02:06:46.633007",
     "exception": false,
     "start_time": "2021-05-01T02:06:46.584750",
     "status": "completed"
    },
    "tags": []
   },
   "outputs": [],
   "source": [
    "variants_ld_block_df = variants_ld_block_df.rename(\n",
    "    columns={\n",
    "        0: \"chr\",\n",
    "        1: \"position\",\n",
    "        2: \"ref_allele\",\n",
    "        3: \"eff_allele\",\n",
    "    }\n",
    ")"
   ]
  },
  {
   "cell_type": "code",
   "execution_count": 43,
   "id": "worth-western",
   "metadata": {
    "execution": {
     "iopub.execute_input": "2021-05-01T02:06:46.703133Z",
     "iopub.status.busy": "2021-05-01T02:06:46.702774Z",
     "iopub.status.idle": "2021-05-01T02:06:46.749461Z",
     "shell.execute_reply": "2021-05-01T02:06:46.749076Z"
    },
    "papermill": {
     "duration": 0.08124,
     "end_time": "2021-05-01T02:06:46.749569",
     "exception": false,
     "start_time": "2021-05-01T02:06:46.668329",
     "status": "completed"
    },
    "tags": []
   },
   "outputs": [],
   "source": [
    "variants_ld_block_df[\"chr\"] = variants_ld_block_df[\"chr\"].apply(lambda x: int(x[3:]))"
   ]
  },
  {
   "cell_type": "code",
   "execution_count": 44,
   "id": "square-settle",
   "metadata": {
    "execution": {
     "iopub.execute_input": "2021-05-01T02:06:46.824543Z",
     "iopub.status.busy": "2021-05-01T02:06:46.824191Z",
     "iopub.status.idle": "2021-05-01T02:06:46.845912Z",
     "shell.execute_reply": "2021-05-01T02:06:46.845485Z"
    },
    "papermill": {
     "duration": 0.056609,
     "end_time": "2021-05-01T02:06:46.846018",
     "exception": false,
     "start_time": "2021-05-01T02:06:46.789409",
     "status": "completed"
    },
    "tags": []
   },
   "outputs": [],
   "source": [
    "variants_ld_block_df[\"position\"] = variants_ld_block_df[\"position\"].astype(int)"
   ]
  },
  {
   "cell_type": "code",
   "execution_count": 45,
   "id": "social-frank",
   "metadata": {
    "execution": {
     "iopub.execute_input": "2021-05-01T02:06:46.921097Z",
     "iopub.status.busy": "2021-05-01T02:06:46.920661Z",
     "iopub.status.idle": "2021-05-01T02:06:46.930552Z",
     "shell.execute_reply": "2021-05-01T02:06:46.930188Z"
    },
    "papermill": {
     "duration": 0.043819,
     "end_time": "2021-05-01T02:06:46.930634",
     "exception": false,
     "start_time": "2021-05-01T02:06:46.886815",
     "status": "completed"
    },
    "tags": []
   },
   "outputs": [
    {
     "data": {
      "text/plain": [
       "(84708, 5)"
      ]
     },
     "execution_count": 45,
     "metadata": {},
     "output_type": "execute_result"
    }
   ],
   "source": [
    "variants_ld_block_df.shape"
   ]
  },
  {
   "cell_type": "code",
   "execution_count": 46,
   "id": "korean-cookie",
   "metadata": {
    "execution": {
     "iopub.execute_input": "2021-05-01T02:06:47.004262Z",
     "iopub.status.busy": "2021-05-01T02:06:47.003905Z",
     "iopub.status.idle": "2021-05-01T02:06:47.016793Z",
     "shell.execute_reply": "2021-05-01T02:06:47.016379Z"
    },
    "papermill": {
     "duration": 0.049159,
     "end_time": "2021-05-01T02:06:47.016875",
     "exception": false,
     "start_time": "2021-05-01T02:06:46.967716",
     "status": "completed"
    },
    "tags": []
   },
   "outputs": [
    {
     "data": {
      "text/html": [
       "<div>\n",
       "<style scoped>\n",
       "    .dataframe tbody tr th:only-of-type {\n",
       "        vertical-align: middle;\n",
       "    }\n",
       "\n",
       "    .dataframe tbody tr th {\n",
       "        vertical-align: top;\n",
       "    }\n",
       "\n",
       "    .dataframe thead th {\n",
       "        text-align: right;\n",
       "    }\n",
       "</style>\n",
       "<table border=\"1\" class=\"dataframe\">\n",
       "  <thead>\n",
       "    <tr style=\"text-align: right;\">\n",
       "      <th></th>\n",
       "      <th>varID</th>\n",
       "      <th>chr</th>\n",
       "      <th>position</th>\n",
       "      <th>ref_allele</th>\n",
       "      <th>eff_allele</th>\n",
       "    </tr>\n",
       "  </thead>\n",
       "  <tbody>\n",
       "    <tr>\n",
       "      <th>0</th>\n",
       "      <td>chr9_136996001_G_A_b38</td>\n",
       "      <td>9</td>\n",
       "      <td>136996001</td>\n",
       "      <td>G</td>\n",
       "      <td>A</td>\n",
       "    </tr>\n",
       "    <tr>\n",
       "      <th>1</th>\n",
       "      <td>chr9_137029055_C_CA_b38</td>\n",
       "      <td>9</td>\n",
       "      <td>137029055</td>\n",
       "      <td>C</td>\n",
       "      <td>CA</td>\n",
       "    </tr>\n",
       "    <tr>\n",
       "      <th>2</th>\n",
       "      <td>chr9_137029407_T_G_b38</td>\n",
       "      <td>9</td>\n",
       "      <td>137029407</td>\n",
       "      <td>T</td>\n",
       "      <td>G</td>\n",
       "    </tr>\n",
       "    <tr>\n",
       "      <th>10</th>\n",
       "      <td>chr9_137084985_C_T_b38</td>\n",
       "      <td>9</td>\n",
       "      <td>137084985</td>\n",
       "      <td>C</td>\n",
       "      <td>T</td>\n",
       "    </tr>\n",
       "    <tr>\n",
       "      <th>11</th>\n",
       "      <td>chr9_137102549_TACAC_T_b38</td>\n",
       "      <td>9</td>\n",
       "      <td>137102549</td>\n",
       "      <td>TACAC</td>\n",
       "      <td>T</td>\n",
       "    </tr>\n",
       "  </tbody>\n",
       "</table>\n",
       "</div>"
      ],
      "text/plain": [
       "                         varID  chr   position ref_allele eff_allele\n",
       "0       chr9_136996001_G_A_b38    9  136996001          G          A\n",
       "1      chr9_137029055_C_CA_b38    9  137029055          C         CA\n",
       "2       chr9_137029407_T_G_b38    9  137029407          T          G\n",
       "10      chr9_137084985_C_T_b38    9  137084985          C          T\n",
       "11  chr9_137102549_TACAC_T_b38    9  137102549      TACAC          T"
      ]
     },
     "execution_count": 46,
     "metadata": {},
     "output_type": "execute_result"
    }
   ],
   "source": [
    "variants_ld_block_df.head()"
   ]
  },
  {
   "cell_type": "code",
   "execution_count": 47,
   "id": "floppy-italian",
   "metadata": {
    "execution": {
     "iopub.execute_input": "2021-05-01T02:06:47.086021Z",
     "iopub.status.busy": "2021-05-01T02:06:47.085669Z",
     "iopub.status.idle": "2021-05-01T02:06:47.096285Z",
     "shell.execute_reply": "2021-05-01T02:06:47.095918Z"
    },
    "papermill": {
     "duration": 0.045802,
     "end_time": "2021-05-01T02:06:47.096369",
     "exception": false,
     "start_time": "2021-05-01T02:06:47.050567",
     "status": "completed"
    },
    "tags": []
   },
   "outputs": [
    {
     "data": {
      "text/plain": [
       "varID         object\n",
       "chr            int64\n",
       "position       int64\n",
       "ref_allele    object\n",
       "eff_allele    object\n",
       "dtype: object"
      ]
     },
     "execution_count": 47,
     "metadata": {},
     "output_type": "execute_result"
    }
   ],
   "source": [
    "variants_ld_block_df.dtypes"
   ]
  },
  {
   "cell_type": "markdown",
   "id": "intelligent-collins",
   "metadata": {
    "papermill": {
     "duration": 0.031864,
     "end_time": "2021-05-01T02:06:47.162256",
     "exception": false,
     "start_time": "2021-05-01T02:06:47.130392",
     "status": "completed"
    },
    "tags": []
   },
   "source": [
    "# Covariance for each chromosome block"
   ]
  },
  {
   "cell_type": "markdown",
   "id": "realistic-classic",
   "metadata": {
    "papermill": {
     "duration": 0.03262,
     "end_time": "2021-05-01T02:06:47.227602",
     "exception": false,
     "start_time": "2021-05-01T02:06:47.194982",
     "status": "completed"
    },
    "tags": []
   },
   "source": [
    "## Functions"
   ]
  },
  {
   "cell_type": "code",
   "execution_count": 48,
   "id": "monetary-gathering",
   "metadata": {
    "execution": {
     "iopub.execute_input": "2021-05-01T02:06:47.296202Z",
     "iopub.status.busy": "2021-05-01T02:06:47.295837Z",
     "iopub.status.idle": "2021-05-01T02:06:47.305027Z",
     "shell.execute_reply": "2021-05-01T02:06:47.304639Z"
    },
    "papermill": {
     "duration": 0.045102,
     "end_time": "2021-05-01T02:06:47.305108",
     "exception": false,
     "start_time": "2021-05-01T02:06:47.260006",
     "status": "completed"
    },
    "tags": []
   },
   "outputs": [],
   "source": [
    "def compute_snps_cov(snps_df):\n",
    "    assert snps_df[\"chr\"].unique().shape[0]\n",
    "    chromosome = snps_df[\"chr\"].unique()[0]\n",
    "\n",
    "    # keep variants only present in genotype\n",
    "    snps_ids = list(set(snps_df[\"varID\"]).intersection(variants_ids_with_genotype))\n",
    "\n",
    "    chromosome_file = (\n",
    "        conf.PHENOMEXCAN[\"LD_BLOCKS\"][\"1000G_GENOTYPE_DIR\"]\n",
    "        / f\"chr{chromosome}.variants.parquet\"\n",
    "    )\n",
    "    snps_genotypes = pd.read_parquet(chromosome_file, columns=snps_ids)\n",
    "\n",
    "    return snps_genotypes.cov()"
   ]
  },
  {
   "cell_type": "code",
   "execution_count": 49,
   "id": "short-creativity",
   "metadata": {
    "execution": {
     "iopub.execute_input": "2021-05-01T02:06:47.372273Z",
     "iopub.status.busy": "2021-05-01T02:06:47.371924Z",
     "iopub.status.idle": "2021-05-01T02:06:47.385388Z",
     "shell.execute_reply": "2021-05-01T02:06:47.384983Z"
    },
    "papermill": {
     "duration": 0.047823,
     "end_time": "2021-05-01T02:06:47.385526",
     "exception": false,
     "start_time": "2021-05-01T02:06:47.337703",
     "status": "completed"
    },
    "tags": []
   },
   "outputs": [],
   "source": [
    "# testing\n",
    "_tmp_snps = variants_ld_block_df[variants_ld_block_df[\"chr\"] == 22]\n",
    "assert _tmp_snps.shape[0] > 0"
   ]
  },
  {
   "cell_type": "code",
   "execution_count": 50,
   "id": "crucial-miller",
   "metadata": {
    "execution": {
     "iopub.execute_input": "2021-05-01T02:06:47.454092Z",
     "iopub.status.busy": "2021-05-01T02:06:47.453736Z",
     "iopub.status.idle": "2021-05-01T02:06:47.463451Z",
     "shell.execute_reply": "2021-05-01T02:06:47.463087Z"
    },
    "papermill": {
     "duration": 0.04447,
     "end_time": "2021-05-01T02:06:47.463533",
     "exception": false,
     "start_time": "2021-05-01T02:06:47.419063",
     "status": "completed"
    },
    "tags": []
   },
   "outputs": [
    {
     "data": {
      "text/plain": [
       "(2687, 5)"
      ]
     },
     "execution_count": 50,
     "metadata": {},
     "output_type": "execute_result"
    }
   ],
   "source": [
    "_tmp_snps.shape"
   ]
  },
  {
   "cell_type": "code",
   "execution_count": 51,
   "id": "overhead-balloon",
   "metadata": {
    "execution": {
     "iopub.execute_input": "2021-05-01T02:06:47.531803Z",
     "iopub.status.busy": "2021-05-01T02:06:47.531451Z",
     "iopub.status.idle": "2021-05-01T02:06:47.542251Z",
     "shell.execute_reply": "2021-05-01T02:06:47.542520Z"
    },
    "papermill": {
     "duration": 0.045946,
     "end_time": "2021-05-01T02:06:47.542621",
     "exception": false,
     "start_time": "2021-05-01T02:06:47.496675",
     "status": "completed"
    },
    "tags": []
   },
   "outputs": [
    {
     "data": {
      "text/plain": [
       "2484"
      ]
     },
     "metadata": {},
     "output_type": "display_data"
    }
   ],
   "source": [
    "n_expected = len(set(_tmp_snps[\"varID\"]).intersection(variants_ids_with_genotype))\n",
    "display(n_expected)"
   ]
  },
  {
   "cell_type": "code",
   "execution_count": 52,
   "id": "associate-space",
   "metadata": {
    "execution": {
     "iopub.execute_input": "2021-05-01T02:06:47.612167Z",
     "iopub.status.busy": "2021-05-01T02:06:47.611810Z",
     "iopub.status.idle": "2021-05-01T02:07:44.039899Z",
     "shell.execute_reply": "2021-05-01T02:07:44.040209Z"
    },
    "papermill": {
     "duration": 56.463839,
     "end_time": "2021-05-01T02:07:44.040326",
     "exception": false,
     "start_time": "2021-05-01T02:06:47.576487",
     "status": "completed"
    },
    "tags": []
   },
   "outputs": [],
   "source": [
    "_tmp = compute_snps_cov(_tmp_snps)"
   ]
  },
  {
   "cell_type": "code",
   "execution_count": 53,
   "id": "bottom-legend",
   "metadata": {
    "execution": {
     "iopub.execute_input": "2021-05-01T02:07:44.114340Z",
     "iopub.status.busy": "2021-05-01T02:07:44.113972Z",
     "iopub.status.idle": "2021-05-01T02:07:44.131428Z",
     "shell.execute_reply": "2021-05-01T02:07:44.131104Z"
    },
    "papermill": {
     "duration": 0.054961,
     "end_time": "2021-05-01T02:07:44.131522",
     "exception": false,
     "start_time": "2021-05-01T02:07:44.076561",
     "status": "completed"
    },
    "tags": []
   },
   "outputs": [],
   "source": [
    "assert _tmp.shape == (n_expected, n_expected)\n",
    "assert not _tmp.isna().any().any()"
   ]
  },
  {
   "cell_type": "markdown",
   "id": "streaming-canon",
   "metadata": {
    "papermill": {
     "duration": 0.038481,
     "end_time": "2021-05-01T02:07:44.204154",
     "exception": false,
     "start_time": "2021-05-01T02:07:44.165673",
     "status": "completed"
    },
    "tags": []
   },
   "source": [
    "## Compute covariance and save"
   ]
  },
  {
   "cell_type": "code",
   "execution_count": 54,
   "id": "japanese-alcohol",
   "metadata": {
    "execution": {
     "iopub.execute_input": "2021-05-01T02:07:44.274307Z",
     "iopub.status.busy": "2021-05-01T02:07:44.273945Z",
     "iopub.status.idle": "2021-05-01T02:07:44.284274Z",
     "shell.execute_reply": "2021-05-01T02:07:44.283890Z"
    },
    "papermill": {
     "duration": 0.045814,
     "end_time": "2021-05-01T02:07:44.284362",
     "exception": false,
     "start_time": "2021-05-01T02:07:44.238548",
     "status": "completed"
    },
    "tags": []
   },
   "outputs": [
    {
     "data": {
      "text/plain": [
       "PosixPath('/home/miltondp/projects/labs/greenelab/phenoplier/base/data/phenomexcan/ld_blocks/mashr_snps_chr_blocks_cov.h5')"
      ]
     },
     "metadata": {},
     "output_type": "display_data"
    }
   ],
   "source": [
    "output_file = conf.PHENOMEXCAN[\"LD_BLOCKS\"][\"SNPS_COVARIANCE_FILE\"]\n",
    "display(output_file)"
   ]
  },
  {
   "cell_type": "code",
   "execution_count": 55,
   "id": "internal-outline",
   "metadata": {
    "execution": {
     "iopub.execute_input": "2021-05-01T02:07:44.356147Z",
     "iopub.status.busy": "2021-05-01T02:07:44.355774Z",
     "iopub.status.idle": "2021-05-01T03:03:34.829419Z",
     "shell.execute_reply": "2021-05-01T03:03:34.829048Z"
    },
    "papermill": {
     "duration": 3350.510215,
     "end_time": "2021-05-01T03:03:34.829504",
     "exception": false,
     "start_time": "2021-05-01T02:07:44.319289",
     "status": "completed"
    },
    "tags": []
   },
   "outputs": [
    {
     "name": "stderr",
     "output_type": "stream",
     "text": [
      "22 (2687, 5): 100%|████████████████████████████████████████████████| 22/22 [55:49<00:00, 152.26s/it]\n"
     ]
    }
   ],
   "source": [
    "with pd.HDFStore(output_file, mode=\"w\", complevel=4) as store:\n",
    "    pbar = tqdm(\n",
    "        variants_ld_block_df.groupby(\"chr\"),\n",
    "        ncols=100,\n",
    "        total=variants_ld_block_df[\"chr\"].unique().shape[0],\n",
    "    )\n",
    "\n",
    "    store[\"metadata\"] = variants_ld_block_df\n",
    "\n",
    "    for grp_name, grp_data in pbar:\n",
    "        pbar.set_description(f\"{grp_name} {grp_data.shape}\")\n",
    "        snps_cov = compute_snps_cov(grp_data).astype(np.float32)\n",
    "        assert not snps_cov.isna().any().any()\n",
    "        store[f\"chr{grp_name}\"] = snps_cov"
   ]
  },
  {
   "cell_type": "markdown",
   "id": "integral-boost",
   "metadata": {
    "papermill": {
     "duration": 0.041185,
     "end_time": "2021-05-01T03:03:34.911974",
     "exception": false,
     "start_time": "2021-05-01T03:03:34.870789",
     "status": "completed"
    },
    "tags": []
   },
   "source": [
    "# Testing"
   ]
  },
  {
   "cell_type": "code",
   "execution_count": 56,
   "id": "patient-miami",
   "metadata": {
    "execution": {
     "iopub.execute_input": "2021-05-01T03:03:34.996013Z",
     "iopub.status.busy": "2021-05-01T03:03:34.995657Z",
     "iopub.status.idle": "2021-05-01T03:03:35.006426Z",
     "shell.execute_reply": "2021-05-01T03:03:35.006048Z"
    },
    "papermill": {
     "duration": 0.053876,
     "end_time": "2021-05-01T03:03:35.006512",
     "exception": false,
     "start_time": "2021-05-01T03:03:34.952636",
     "status": "completed"
    },
    "tags": []
   },
   "outputs": [],
   "source": [
    "_tmp = variants_ld_block_df[variants_ld_block_df[\"chr\"] == 1]"
   ]
  },
  {
   "cell_type": "code",
   "execution_count": 57,
   "id": "lesbian-queens",
   "metadata": {
    "execution": {
     "iopub.execute_input": "2021-05-01T03:03:35.091693Z",
     "iopub.status.busy": "2021-05-01T03:03:35.091331Z",
     "iopub.status.idle": "2021-05-01T03:03:35.101504Z",
     "shell.execute_reply": "2021-05-01T03:03:35.101205Z"
    },
    "papermill": {
     "duration": 0.053285,
     "end_time": "2021-05-01T03:03:35.101591",
     "exception": false,
     "start_time": "2021-05-01T03:03:35.048306",
     "status": "completed"
    },
    "tags": []
   },
   "outputs": [
    {
     "data": {
      "text/plain": [
       "(8130, 5)"
      ]
     },
     "execution_count": 57,
     "metadata": {},
     "output_type": "execute_result"
    }
   ],
   "source": [
    "_tmp.shape"
   ]
  },
  {
   "cell_type": "code",
   "execution_count": 58,
   "id": "structural-stockholm",
   "metadata": {
    "execution": {
     "iopub.execute_input": "2021-05-01T03:03:35.210254Z",
     "iopub.status.busy": "2021-05-01T03:03:35.209902Z",
     "iopub.status.idle": "2021-05-01T03:03:35.219254Z",
     "shell.execute_reply": "2021-05-01T03:03:35.218901Z"
    },
    "papermill": {
     "duration": 0.058091,
     "end_time": "2021-05-01T03:03:35.219342",
     "exception": false,
     "start_time": "2021-05-01T03:03:35.161251",
     "status": "completed"
    },
    "tags": []
   },
   "outputs": [],
   "source": [
    "assert _tmp.shape[0] > 0"
   ]
  },
  {
   "cell_type": "code",
   "execution_count": 59,
   "id": "legendary-tourist",
   "metadata": {
    "execution": {
     "iopub.execute_input": "2021-05-01T03:03:35.304815Z",
     "iopub.status.busy": "2021-05-01T03:03:35.304384Z",
     "iopub.status.idle": "2021-05-01T03:03:35.317483Z",
     "shell.execute_reply": "2021-05-01T03:03:35.317130Z"
    },
    "papermill": {
     "duration": 0.056848,
     "end_time": "2021-05-01T03:03:35.317574",
     "exception": false,
     "start_time": "2021-05-01T03:03:35.260726",
     "status": "completed"
    },
    "tags": []
   },
   "outputs": [
    {
     "data": {
      "text/plain": [
       "7701"
      ]
     },
     "metadata": {},
     "output_type": "display_data"
    }
   ],
   "source": [
    "n_expected = len(set(_tmp[\"varID\"]).intersection(variants_ids_with_genotype))\n",
    "display(n_expected)\n",
    "assert n_expected > 0"
   ]
  },
  {
   "cell_type": "code",
   "execution_count": 60,
   "id": "laughing-brake",
   "metadata": {
    "execution": {
     "iopub.execute_input": "2021-05-01T03:03:35.406920Z",
     "iopub.status.busy": "2021-05-01T03:03:35.406564Z",
     "iopub.status.idle": "2021-05-01T03:03:36.533955Z",
     "shell.execute_reply": "2021-05-01T03:03:36.533532Z"
    },
    "papermill": {
     "duration": 1.171943,
     "end_time": "2021-05-01T03:03:36.534072",
     "exception": false,
     "start_time": "2021-05-01T03:03:35.362129",
     "status": "completed"
    },
    "tags": []
   },
   "outputs": [],
   "source": [
    "with pd.HDFStore(output_file, mode=\"r\") as store:\n",
    "    df = store[\"chr1\"]\n",
    "    assert df.shape == (n_expected, n_expected)\n",
    "    assert not df.isna().any().any()"
   ]
  },
  {
   "cell_type": "code",
   "execution_count": null,
   "id": "conventional-gazette",
   "metadata": {
    "papermill": {
     "duration": 0.041503,
     "end_time": "2021-05-01T03:03:36.626482",
     "exception": false,
     "start_time": "2021-05-01T03:03:36.584979",
     "status": "completed"
    },
    "tags": []
   },
   "outputs": [],
   "source": []
  }
 ],
 "metadata": {
  "jupytext": {
   "cell_metadata_filter": "all,-execution,-papermill,-trusted",
   "formats": "ipynb,py//py:percent"
  },
  "kernelspec": {
   "display_name": "Python 3",
   "language": "python",
   "name": "python3"
  },
  "language_info": {
   "codemirror_mode": {
    "name": "ipython",
    "version": 3
   },
   "file_extension": ".py",
   "mimetype": "text/x-python",
   "name": "python",
   "nbconvert_exporter": "python",
   "pygments_lexer": "ipython3",
   "version": "3.8.8"
  },
  "papermill": {
   "default_parameters": {},
   "duration": 3446.902881,
   "end_time": "2021-05-01T03:03:42.050489",
   "environment_variables": {},
   "exception": null,
   "input_path": "08_gsa_gls/05-snps_into_chr_cov.ipynb",
   "output_path": "08_gsa_gls/05-snps_into_chr_cov.run.ipynb",
   "parameters": {},
   "start_time": "2021-05-01T02:06:15.147608",
   "version": "2.2.2"
  }
 },
 "nbformat": 4,
 "nbformat_minor": 5
}
