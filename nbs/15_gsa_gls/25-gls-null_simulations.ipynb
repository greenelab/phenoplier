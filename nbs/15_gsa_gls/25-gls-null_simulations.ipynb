{
 "cells": [
  {
   "cell_type": "markdown",
   "id": "03a976d9",
   "metadata": {
    "papermill": {
     "duration": 0.023509,
     "end_time": "2022-02-24T05:27:16.566490",
     "exception": false,
     "start_time": "2022-02-24T05:27:16.542981",
     "status": "completed"
    },
    "tags": []
   },
   "source": [
    "# Description"
   ]
  },
  {
   "cell_type": "markdown",
   "id": "43fe3a2a",
   "metadata": {
    "papermill": {
     "duration": 0.02005,
     "end_time": "2022-02-24T05:27:16.606408",
     "exception": false,
     "start_time": "2022-02-24T05:27:16.586358",
     "status": "completed"
    },
    "tags": []
   },
   "source": [
    "TODO"
   ]
  },
  {
   "cell_type": "markdown",
   "id": "138ce9ac",
   "metadata": {
    "papermill": {
     "duration": 0.019673,
     "end_time": "2022-02-24T05:27:16.646565",
     "exception": false,
     "start_time": "2022-02-24T05:27:16.626892",
     "status": "completed"
    },
    "tags": []
   },
   "source": [
    "# Environment variables"
   ]
  },
  {
   "cell_type": "code",
   "execution_count": null,
   "id": "3408cc20",
   "metadata": {
    "papermill": {
     "duration": 0.037961,
     "end_time": "2022-02-24T05:27:16.704765",
     "exception": false,
     "start_time": "2022-02-24T05:27:16.666804",
     "status": "completed"
    },
    "tags": []
   },
   "outputs": [],
   "source": [
    "%load_ext autoreload\n",
    "%autoreload 2"
   ]
  },
  {
   "cell_type": "code",
   "execution_count": 2,
   "id": "ec7eb10c",
   "metadata": {
    "papermill": {
     "duration": 0.055312,
     "end_time": "2022-02-24T05:27:16.781466",
     "exception": false,
     "start_time": "2022-02-24T05:27:16.726154",
     "status": "completed"
    },
    "tags": []
   },
   "outputs": [],
   "source": [
    "import conf"
   ]
  },
  {
   "cell_type": "code",
   "execution_count": 3,
   "id": "ef67358b",
   "metadata": {
    "papermill": {
     "duration": 0.038739,
     "end_time": "2022-02-24T05:27:16.846718",
     "exception": false,
     "start_time": "2022-02-24T05:27:16.807979",
     "status": "completed"
    },
    "tags": []
   },
   "outputs": [
    {
     "data": {
      "text/plain": [
       "3"
      ]
     },
     "metadata": {},
     "output_type": "display_data"
    }
   ],
   "source": [
    "N_JOBS = conf.GENERAL[\"N_JOBS\"]\n",
    "display(N_JOBS)"
   ]
  },
  {
   "cell_type": "code",
   "execution_count": 4,
   "id": "9a6b806a",
   "metadata": {
    "papermill": {
     "duration": 0.036141,
     "end_time": "2022-02-24T05:27:16.904702",
     "exception": false,
     "start_time": "2022-02-24T05:27:16.868561",
     "status": "completed"
    },
    "tags": []
   },
   "outputs": [
    {
     "name": "stdout",
     "output_type": "stream",
     "text": [
      "env: MKL_NUM_THREADS=3\n",
      "env: OPEN_BLAS_NUM_THREADS=3\n",
      "env: NUMEXPR_NUM_THREADS=3\n",
      "env: OMP_NUM_THREADS=3\n"
     ]
    }
   ],
   "source": [
    "%env MKL_NUM_THREADS=$N_JOBS\n",
    "%env OPEN_BLAS_NUM_THREADS=$N_JOBS\n",
    "%env NUMEXPR_NUM_THREADS=$N_JOBS\n",
    "%env OMP_NUM_THREADS=$N_JOBS"
   ]
  },
  {
   "cell_type": "markdown",
   "id": "bb5b6c44",
   "metadata": {
    "papermill": {
     "duration": 0.021581,
     "end_time": "2022-02-24T05:27:16.947886",
     "exception": false,
     "start_time": "2022-02-24T05:27:16.926305",
     "status": "completed"
    },
    "tags": []
   },
   "source": [
    "# Modules"
   ]
  },
  {
   "cell_type": "code",
   "execution_count": 5,
   "id": "86c0ffec",
   "metadata": {
    "papermill": {
     "duration": 0.913421,
     "end_time": "2022-02-24T05:27:17.882796",
     "exception": false,
     "start_time": "2022-02-24T05:27:16.969375",
     "status": "completed"
    },
    "tags": []
   },
   "outputs": [],
   "source": [
    "from pathlib import Path\n",
    "\n",
    "import statsmodels.api as sm\n",
    "import numpy as np\n",
    "import pandas as pd\n",
    "from sklearn.preprocessing import scale\n",
    "from tqdm import tqdm\n",
    "\n",
    "from gls import GLSPhenoplier"
   ]
  },
  {
   "cell_type": "markdown",
   "id": "b5985d9a",
   "metadata": {
    "papermill": {
     "duration": 0.02149,
     "end_time": "2022-02-24T05:27:17.927711",
     "exception": false,
     "start_time": "2022-02-24T05:27:17.906221",
     "status": "completed"
    },
    "tags": []
   },
   "source": [
    "# Settings"
   ]
  },
  {
   "cell_type": "code",
   "execution_count": 6,
   "id": "5d2008ee",
   "metadata": {
    "papermill": {
     "duration": 0.040185,
     "end_time": "2022-02-24T05:27:17.988879",
     "exception": false,
     "start_time": "2022-02-24T05:27:17.948694",
     "status": "completed"
    },
    "tags": []
   },
   "outputs": [],
   "source": [
    "N_SIMULATED_PHENOTYPES = 50"
   ]
  },
  {
   "cell_type": "code",
   "execution_count": 7,
   "id": "29134c2f",
   "metadata": {
    "papermill": {
     "duration": 0.042205,
     "end_time": "2022-02-24T05:27:18.052950",
     "exception": false,
     "start_time": "2022-02-24T05:27:18.010745",
     "status": "completed"
    },
    "tags": []
   },
   "outputs": [
    {
     "data": {
      "text/plain": [
       "PosixPath('/opt/data/results/gls')"
      ]
     },
     "metadata": {},
     "output_type": "display_data"
    }
   ],
   "source": [
    "OUTPUT_DIR = conf.RESULTS[\"GLS\"]\n",
    "display(OUTPUT_DIR)\n",
    "\n",
    "OUTPUT_DIR.mkdir(exist_ok=True, parents=True)"
   ]
  },
  {
   "cell_type": "code",
   "execution_count": 8,
   "id": "434b2899",
   "metadata": {
    "papermill": {
     "duration": 0.041981,
     "end_time": "2022-02-24T05:27:18.117562",
     "exception": false,
     "start_time": "2022-02-24T05:27:18.075581",
     "status": "completed"
    },
    "tags": []
   },
   "outputs": [
    {
     "data": {
      "text/plain": [
       "PosixPath('/opt/data/results/gls/gls-null_simulations.pkl')"
      ]
     },
     "metadata": {},
     "output_type": "display_data"
    }
   ],
   "source": [
    "OUTPUT_FILENAME = OUTPUT_DIR / \"gls-null_simulations.pkl\"\n",
    "display(OUTPUT_FILENAME)"
   ]
  },
  {
   "cell_type": "markdown",
   "id": "4a06af0d",
   "metadata": {
    "papermill": {
     "duration": 0.021629,
     "end_time": "2022-02-24T05:27:18.162851",
     "exception": false,
     "start_time": "2022-02-24T05:27:18.141222",
     "status": "completed"
    },
    "tags": []
   },
   "source": [
    "# Load data"
   ]
  },
  {
   "cell_type": "markdown",
   "id": "7c4d15e1",
   "metadata": {
    "papermill": {
     "duration": 0.021814,
     "end_time": "2022-02-24T05:27:18.207099",
     "exception": false,
     "start_time": "2022-02-24T05:27:18.185285",
     "status": "completed"
    },
    "tags": []
   },
   "source": [
    "## MultiPLIER Z matrix"
   ]
  },
  {
   "cell_type": "code",
   "execution_count": 9,
   "id": "18b7267a",
   "metadata": {
    "papermill": {
     "duration": 0.307278,
     "end_time": "2022-02-24T05:27:18.536398",
     "exception": false,
     "start_time": "2022-02-24T05:27:18.229120",
     "status": "completed"
    },
    "tags": []
   },
   "outputs": [],
   "source": [
    "multiplier_z_matrix = pd.read_pickle(conf.MULTIPLIER[\"MODEL_Z_MATRIX_FILE\"])"
   ]
  },
  {
   "cell_type": "code",
   "execution_count": 10,
   "id": "5cd38734",
   "metadata": {
    "papermill": {
     "duration": 0.04243,
     "end_time": "2022-02-24T05:27:18.604523",
     "exception": false,
     "start_time": "2022-02-24T05:27:18.562093",
     "status": "completed"
    },
    "tags": []
   },
   "outputs": [
    {
     "data": {
      "text/plain": [
       "(6750, 987)"
      ]
     },
     "execution_count": 10,
     "metadata": {},
     "output_type": "execute_result"
    }
   ],
   "source": [
    "multiplier_z_matrix.shape"
   ]
  },
  {
   "cell_type": "code",
   "execution_count": 11,
   "id": "5d2bf092",
   "metadata": {
    "papermill": {
     "duration": 0.057464,
     "end_time": "2022-02-24T05:27:18.685499",
     "exception": false,
     "start_time": "2022-02-24T05:27:18.628035",
     "status": "completed"
    },
    "tags": []
   },
   "outputs": [
    {
     "data": {
      "text/html": [
       "<div>\n",
       "<style scoped>\n",
       "    .dataframe tbody tr th:only-of-type {\n",
       "        vertical-align: middle;\n",
       "    }\n",
       "\n",
       "    .dataframe tbody tr th {\n",
       "        vertical-align: top;\n",
       "    }\n",
       "\n",
       "    .dataframe thead th {\n",
       "        text-align: right;\n",
       "    }\n",
       "</style>\n",
       "<table border=\"1\" class=\"dataframe\">\n",
       "  <thead>\n",
       "    <tr style=\"text-align: right;\">\n",
       "      <th></th>\n",
       "      <th>LV1</th>\n",
       "      <th>LV2</th>\n",
       "      <th>LV3</th>\n",
       "      <th>LV4</th>\n",
       "      <th>LV5</th>\n",
       "      <th>LV6</th>\n",
       "      <th>LV7</th>\n",
       "      <th>LV8</th>\n",
       "      <th>LV9</th>\n",
       "      <th>LV10</th>\n",
       "      <th>...</th>\n",
       "      <th>LV978</th>\n",
       "      <th>LV979</th>\n",
       "      <th>LV980</th>\n",
       "      <th>LV981</th>\n",
       "      <th>LV982</th>\n",
       "      <th>LV983</th>\n",
       "      <th>LV984</th>\n",
       "      <th>LV985</th>\n",
       "      <th>LV986</th>\n",
       "      <th>LV987</th>\n",
       "    </tr>\n",
       "  </thead>\n",
       "  <tbody>\n",
       "    <tr>\n",
       "      <th>GAS6</th>\n",
       "      <td>0.000000</td>\n",
       "      <td>0.0</td>\n",
       "      <td>0.039438</td>\n",
       "      <td>0.0</td>\n",
       "      <td>0.050476</td>\n",
       "      <td>0.000000</td>\n",
       "      <td>0.0</td>\n",
       "      <td>0.000000</td>\n",
       "      <td>0.590949</td>\n",
       "      <td>0.000000</td>\n",
       "      <td>...</td>\n",
       "      <td>0.050125</td>\n",
       "      <td>0.00000</td>\n",
       "      <td>0.033407</td>\n",
       "      <td>0.000000</td>\n",
       "      <td>0.000000</td>\n",
       "      <td>0.005963</td>\n",
       "      <td>0.347362</td>\n",
       "      <td>0.0</td>\n",
       "      <td>0.000000</td>\n",
       "      <td>0.000000</td>\n",
       "    </tr>\n",
       "    <tr>\n",
       "      <th>MMP14</th>\n",
       "      <td>0.000000</td>\n",
       "      <td>0.0</td>\n",
       "      <td>0.000000</td>\n",
       "      <td>0.0</td>\n",
       "      <td>0.070072</td>\n",
       "      <td>0.000000</td>\n",
       "      <td>0.0</td>\n",
       "      <td>0.004904</td>\n",
       "      <td>1.720179</td>\n",
       "      <td>2.423595</td>\n",
       "      <td>...</td>\n",
       "      <td>0.000000</td>\n",
       "      <td>0.00000</td>\n",
       "      <td>0.001007</td>\n",
       "      <td>0.000000</td>\n",
       "      <td>0.035747</td>\n",
       "      <td>0.000000</td>\n",
       "      <td>0.000000</td>\n",
       "      <td>0.0</td>\n",
       "      <td>0.014978</td>\n",
       "      <td>0.000000</td>\n",
       "    </tr>\n",
       "    <tr>\n",
       "      <th>DSP</th>\n",
       "      <td>0.000000</td>\n",
       "      <td>0.0</td>\n",
       "      <td>0.000000</td>\n",
       "      <td>0.0</td>\n",
       "      <td>0.000000</td>\n",
       "      <td>0.041697</td>\n",
       "      <td>0.0</td>\n",
       "      <td>0.005718</td>\n",
       "      <td>0.000000</td>\n",
       "      <td>0.000000</td>\n",
       "      <td>...</td>\n",
       "      <td>0.020853</td>\n",
       "      <td>0.00000</td>\n",
       "      <td>0.000000</td>\n",
       "      <td>0.000000</td>\n",
       "      <td>0.000000</td>\n",
       "      <td>0.005774</td>\n",
       "      <td>0.000000</td>\n",
       "      <td>0.0</td>\n",
       "      <td>0.000000</td>\n",
       "      <td>0.416405</td>\n",
       "    </tr>\n",
       "    <tr>\n",
       "      <th>MARCKSL1</th>\n",
       "      <td>0.305212</td>\n",
       "      <td>0.0</td>\n",
       "      <td>0.000000</td>\n",
       "      <td>0.0</td>\n",
       "      <td>0.000000</td>\n",
       "      <td>0.000000</td>\n",
       "      <td>0.0</td>\n",
       "      <td>0.000000</td>\n",
       "      <td>0.161843</td>\n",
       "      <td>0.149471</td>\n",
       "      <td>...</td>\n",
       "      <td>0.027134</td>\n",
       "      <td>0.05272</td>\n",
       "      <td>0.000000</td>\n",
       "      <td>0.030189</td>\n",
       "      <td>0.060884</td>\n",
       "      <td>0.000000</td>\n",
       "      <td>0.000000</td>\n",
       "      <td>0.0</td>\n",
       "      <td>0.000000</td>\n",
       "      <td>0.448480</td>\n",
       "    </tr>\n",
       "    <tr>\n",
       "      <th>SPARC</th>\n",
       "      <td>0.000000</td>\n",
       "      <td>0.0</td>\n",
       "      <td>0.000000</td>\n",
       "      <td>0.0</td>\n",
       "      <td>0.000000</td>\n",
       "      <td>0.000000</td>\n",
       "      <td>0.0</td>\n",
       "      <td>0.000000</td>\n",
       "      <td>0.000000</td>\n",
       "      <td>0.014014</td>\n",
       "      <td>...</td>\n",
       "      <td>0.000000</td>\n",
       "      <td>0.00000</td>\n",
       "      <td>0.000000</td>\n",
       "      <td>0.000000</td>\n",
       "      <td>0.000000</td>\n",
       "      <td>0.000000</td>\n",
       "      <td>0.067779</td>\n",
       "      <td>0.0</td>\n",
       "      <td>0.122417</td>\n",
       "      <td>0.062665</td>\n",
       "    </tr>\n",
       "  </tbody>\n",
       "</table>\n",
       "<p>5 rows × 987 columns</p>\n",
       "</div>"
      ],
      "text/plain": [
       "               LV1  LV2       LV3  LV4       LV5       LV6  LV7       LV8  \\\n",
       "GAS6      0.000000  0.0  0.039438  0.0  0.050476  0.000000  0.0  0.000000   \n",
       "MMP14     0.000000  0.0  0.000000  0.0  0.070072  0.000000  0.0  0.004904   \n",
       "DSP       0.000000  0.0  0.000000  0.0  0.000000  0.041697  0.0  0.005718   \n",
       "MARCKSL1  0.305212  0.0  0.000000  0.0  0.000000  0.000000  0.0  0.000000   \n",
       "SPARC     0.000000  0.0  0.000000  0.0  0.000000  0.000000  0.0  0.000000   \n",
       "\n",
       "               LV9      LV10  ...     LV978    LV979     LV980     LV981  \\\n",
       "GAS6      0.590949  0.000000  ...  0.050125  0.00000  0.033407  0.000000   \n",
       "MMP14     1.720179  2.423595  ...  0.000000  0.00000  0.001007  0.000000   \n",
       "DSP       0.000000  0.000000  ...  0.020853  0.00000  0.000000  0.000000   \n",
       "MARCKSL1  0.161843  0.149471  ...  0.027134  0.05272  0.000000  0.030189   \n",
       "SPARC     0.000000  0.014014  ...  0.000000  0.00000  0.000000  0.000000   \n",
       "\n",
       "             LV982     LV983     LV984  LV985     LV986     LV987  \n",
       "GAS6      0.000000  0.005963  0.347362    0.0  0.000000  0.000000  \n",
       "MMP14     0.035747  0.000000  0.000000    0.0  0.014978  0.000000  \n",
       "DSP       0.000000  0.005774  0.000000    0.0  0.000000  0.416405  \n",
       "MARCKSL1  0.060884  0.000000  0.000000    0.0  0.000000  0.448480  \n",
       "SPARC     0.000000  0.000000  0.067779    0.0  0.122417  0.062665  \n",
       "\n",
       "[5 rows x 987 columns]"
      ]
     },
     "execution_count": 11,
     "metadata": {},
     "output_type": "execute_result"
    }
   ],
   "source": [
    "multiplier_z_matrix.head()"
   ]
  },
  {
   "cell_type": "code",
   "execution_count": 12,
   "id": "e0115f0b",
   "metadata": {
    "papermill": {
     "duration": 0.043929,
     "end_time": "2022-02-24T05:27:18.754068",
     "exception": false,
     "start_time": "2022-02-24T05:27:18.710139",
     "status": "completed"
    },
    "tags": []
   },
   "outputs": [
    {
     "data": {
      "text/plain": [
       "['LV1', 'LV2', 'LV3', 'LV4', 'LV5']"
      ]
     },
     "metadata": {},
     "output_type": "display_data"
    }
   ],
   "source": [
    "lv_codes = list(multiplier_z_matrix.columns)\n",
    "display(lv_codes[:5])"
   ]
  },
  {
   "cell_type": "markdown",
   "id": "9c77242f",
   "metadata": {
    "papermill": {
     "duration": 0.023429,
     "end_time": "2022-02-24T05:27:18.802234",
     "exception": false,
     "start_time": "2022-02-24T05:27:18.778805",
     "status": "completed"
    },
    "tags": []
   },
   "source": [
    "## PhenomeXcan (S-MultiXcan)"
   ]
  },
  {
   "cell_type": "code",
   "execution_count": 13,
   "id": "7c44ef64",
   "metadata": {
    "papermill": {
     "duration": 0.044168,
     "end_time": "2022-02-24T05:27:18.872317",
     "exception": false,
     "start_time": "2022-02-24T05:27:18.828149",
     "status": "completed"
    },
    "tags": []
   },
   "outputs": [],
   "source": [
    "# INPUT_SUBSET = \"z_score_std\""
   ]
  },
  {
   "cell_type": "code",
   "execution_count": 14,
   "id": "460550bd",
   "metadata": {
    "papermill": {
     "duration": 0.043281,
     "end_time": "2022-02-24T05:27:18.941356",
     "exception": false,
     "start_time": "2022-02-24T05:27:18.898075",
     "status": "completed"
    },
    "tags": []
   },
   "outputs": [],
   "source": [
    "# INPUT_STEM = \"projection-smultixcan-efo_partial-mashr-zscores\""
   ]
  },
  {
   "cell_type": "code",
   "execution_count": 15,
   "id": "3ce8d91c",
   "metadata": {
    "papermill": {
     "duration": 0.0436,
     "end_time": "2022-02-24T05:27:19.009668",
     "exception": false,
     "start_time": "2022-02-24T05:27:18.966068",
     "status": "completed"
    },
    "tags": []
   },
   "outputs": [],
   "source": [
    "# input_filepath = Path(\n",
    "#     conf.RESULTS[\"DATA_TRANSFORMATIONS_DIR\"],\n",
    "#     INPUT_SUBSET,\n",
    "#     f\"{INPUT_SUBSET}-{INPUT_STEM}.pkl\",\n",
    "# ).resolve()"
   ]
  },
  {
   "cell_type": "code",
   "execution_count": 16,
   "id": "5e6b6273",
   "metadata": {
    "papermill": {
     "duration": 0.044383,
     "end_time": "2022-02-24T05:27:19.079519",
     "exception": false,
     "start_time": "2022-02-24T05:27:19.035136",
     "status": "completed"
    },
    "tags": []
   },
   "outputs": [],
   "source": [
    "# data = pd.read_pickle(input_filepath)"
   ]
  },
  {
   "cell_type": "code",
   "execution_count": 17,
   "id": "5cefc8e7",
   "metadata": {
    "papermill": {
     "duration": 0.043401,
     "end_time": "2022-02-24T05:27:19.147840",
     "exception": false,
     "start_time": "2022-02-24T05:27:19.104439",
     "status": "completed"
    },
    "tags": []
   },
   "outputs": [],
   "source": [
    "# data.shape"
   ]
  },
  {
   "cell_type": "code",
   "execution_count": 18,
   "id": "1c9a492d",
   "metadata": {
    "papermill": {
     "duration": 0.047439,
     "end_time": "2022-02-24T05:27:19.221605",
     "exception": false,
     "start_time": "2022-02-24T05:27:19.174166",
     "status": "completed"
    },
    "tags": []
   },
   "outputs": [],
   "source": [
    "# data.head()"
   ]
  },
  {
   "cell_type": "markdown",
   "id": "a9933572",
   "metadata": {
    "papermill": {
     "duration": 0.024394,
     "end_time": "2022-02-24T05:27:19.271472",
     "exception": false,
     "start_time": "2022-02-24T05:27:19.247078",
     "status": "completed"
    },
    "tags": []
   },
   "source": [
    "# GLSPhenoplier"
   ]
  },
  {
   "cell_type": "markdown",
   "id": "03719eee",
   "metadata": {
    "papermill": {
     "duration": 0.02416,
     "end_time": "2022-02-24T05:27:19.319988",
     "exception": false,
     "start_time": "2022-02-24T05:27:19.295828",
     "status": "completed"
    },
    "tags": []
   },
   "source": [
    "## Load `lv_weights`"
   ]
  },
  {
   "cell_type": "code",
   "execution_count": 19,
   "id": "d0e03845",
   "metadata": {
    "papermill": {
     "duration": 2.472304,
     "end_time": "2022-02-24T05:27:21.816899",
     "exception": false,
     "start_time": "2022-02-24T05:27:19.344595",
     "status": "completed"
    },
    "tags": []
   },
   "outputs": [],
   "source": [
    "lv_weights = GLSPhenoplier._get_data(\n",
    "    conf.PHENOMEXCAN[\"SMULTIXCAN_EFO_PARTIAL_MASHR_ZSCORES_FILE\"]\n",
    ")[2]"
   ]
  },
  {
   "cell_type": "code",
   "execution_count": 20,
   "id": "778fc62a",
   "metadata": {
    "papermill": {
     "duration": 0.045852,
     "end_time": "2022-02-24T05:27:21.894670",
     "exception": false,
     "start_time": "2022-02-24T05:27:21.848818",
     "status": "completed"
    },
    "tags": []
   },
   "outputs": [
    {
     "data": {
      "text/plain": [
       "(6450, 987)"
      ]
     },
     "execution_count": 20,
     "metadata": {},
     "output_type": "execute_result"
    }
   ],
   "source": [
    "lv_weights.shape"
   ]
  },
  {
   "cell_type": "code",
   "execution_count": 21,
   "id": "b530d203",
   "metadata": {
    "papermill": {
     "duration": 0.060212,
     "end_time": "2022-02-24T05:27:21.980146",
     "exception": false,
     "start_time": "2022-02-24T05:27:21.919934",
     "status": "completed"
    },
    "tags": []
   },
   "outputs": [
    {
     "data": {
      "text/html": [
       "<div>\n",
       "<style scoped>\n",
       "    .dataframe tbody tr th:only-of-type {\n",
       "        vertical-align: middle;\n",
       "    }\n",
       "\n",
       "    .dataframe tbody tr th {\n",
       "        vertical-align: top;\n",
       "    }\n",
       "\n",
       "    .dataframe thead th {\n",
       "        text-align: right;\n",
       "    }\n",
       "</style>\n",
       "<table border=\"1\" class=\"dataframe\">\n",
       "  <thead>\n",
       "    <tr style=\"text-align: right;\">\n",
       "      <th></th>\n",
       "      <th>LV1</th>\n",
       "      <th>LV2</th>\n",
       "      <th>LV3</th>\n",
       "      <th>LV4</th>\n",
       "      <th>LV5</th>\n",
       "      <th>LV6</th>\n",
       "      <th>LV7</th>\n",
       "      <th>LV8</th>\n",
       "      <th>LV9</th>\n",
       "      <th>LV10</th>\n",
       "      <th>...</th>\n",
       "      <th>LV978</th>\n",
       "      <th>LV979</th>\n",
       "      <th>LV980</th>\n",
       "      <th>LV981</th>\n",
       "      <th>LV982</th>\n",
       "      <th>LV983</th>\n",
       "      <th>LV984</th>\n",
       "      <th>LV985</th>\n",
       "      <th>LV986</th>\n",
       "      <th>LV987</th>\n",
       "    </tr>\n",
       "  </thead>\n",
       "  <tbody>\n",
       "    <tr>\n",
       "      <th>GAS6</th>\n",
       "      <td>0.000000</td>\n",
       "      <td>0.0</td>\n",
       "      <td>0.039438</td>\n",
       "      <td>0.0</td>\n",
       "      <td>0.050476</td>\n",
       "      <td>0.000000</td>\n",
       "      <td>0.0</td>\n",
       "      <td>0.000000</td>\n",
       "      <td>0.590949</td>\n",
       "      <td>0.000000</td>\n",
       "      <td>...</td>\n",
       "      <td>0.050125</td>\n",
       "      <td>0.00000</td>\n",
       "      <td>0.033407</td>\n",
       "      <td>0.000000</td>\n",
       "      <td>0.000000</td>\n",
       "      <td>0.005963</td>\n",
       "      <td>0.347362</td>\n",
       "      <td>0.0</td>\n",
       "      <td>0.000000</td>\n",
       "      <td>0.000000</td>\n",
       "    </tr>\n",
       "    <tr>\n",
       "      <th>MMP14</th>\n",
       "      <td>0.000000</td>\n",
       "      <td>0.0</td>\n",
       "      <td>0.000000</td>\n",
       "      <td>0.0</td>\n",
       "      <td>0.070072</td>\n",
       "      <td>0.000000</td>\n",
       "      <td>0.0</td>\n",
       "      <td>0.004904</td>\n",
       "      <td>1.720179</td>\n",
       "      <td>2.423595</td>\n",
       "      <td>...</td>\n",
       "      <td>0.000000</td>\n",
       "      <td>0.00000</td>\n",
       "      <td>0.001007</td>\n",
       "      <td>0.000000</td>\n",
       "      <td>0.035747</td>\n",
       "      <td>0.000000</td>\n",
       "      <td>0.000000</td>\n",
       "      <td>0.0</td>\n",
       "      <td>0.014978</td>\n",
       "      <td>0.000000</td>\n",
       "    </tr>\n",
       "    <tr>\n",
       "      <th>DSP</th>\n",
       "      <td>0.000000</td>\n",
       "      <td>0.0</td>\n",
       "      <td>0.000000</td>\n",
       "      <td>0.0</td>\n",
       "      <td>0.000000</td>\n",
       "      <td>0.041697</td>\n",
       "      <td>0.0</td>\n",
       "      <td>0.005718</td>\n",
       "      <td>0.000000</td>\n",
       "      <td>0.000000</td>\n",
       "      <td>...</td>\n",
       "      <td>0.020853</td>\n",
       "      <td>0.00000</td>\n",
       "      <td>0.000000</td>\n",
       "      <td>0.000000</td>\n",
       "      <td>0.000000</td>\n",
       "      <td>0.005774</td>\n",
       "      <td>0.000000</td>\n",
       "      <td>0.0</td>\n",
       "      <td>0.000000</td>\n",
       "      <td>0.416405</td>\n",
       "    </tr>\n",
       "    <tr>\n",
       "      <th>MARCKSL1</th>\n",
       "      <td>0.305212</td>\n",
       "      <td>0.0</td>\n",
       "      <td>0.000000</td>\n",
       "      <td>0.0</td>\n",
       "      <td>0.000000</td>\n",
       "      <td>0.000000</td>\n",
       "      <td>0.0</td>\n",
       "      <td>0.000000</td>\n",
       "      <td>0.161843</td>\n",
       "      <td>0.149471</td>\n",
       "      <td>...</td>\n",
       "      <td>0.027134</td>\n",
       "      <td>0.05272</td>\n",
       "      <td>0.000000</td>\n",
       "      <td>0.030189</td>\n",
       "      <td>0.060884</td>\n",
       "      <td>0.000000</td>\n",
       "      <td>0.000000</td>\n",
       "      <td>0.0</td>\n",
       "      <td>0.000000</td>\n",
       "      <td>0.448480</td>\n",
       "    </tr>\n",
       "    <tr>\n",
       "      <th>SPARC</th>\n",
       "      <td>0.000000</td>\n",
       "      <td>0.0</td>\n",
       "      <td>0.000000</td>\n",
       "      <td>0.0</td>\n",
       "      <td>0.000000</td>\n",
       "      <td>0.000000</td>\n",
       "      <td>0.0</td>\n",
       "      <td>0.000000</td>\n",
       "      <td>0.000000</td>\n",
       "      <td>0.014014</td>\n",
       "      <td>...</td>\n",
       "      <td>0.000000</td>\n",
       "      <td>0.00000</td>\n",
       "      <td>0.000000</td>\n",
       "      <td>0.000000</td>\n",
       "      <td>0.000000</td>\n",
       "      <td>0.000000</td>\n",
       "      <td>0.067779</td>\n",
       "      <td>0.0</td>\n",
       "      <td>0.122417</td>\n",
       "      <td>0.062665</td>\n",
       "    </tr>\n",
       "  </tbody>\n",
       "</table>\n",
       "<p>5 rows × 987 columns</p>\n",
       "</div>"
      ],
      "text/plain": [
       "               LV1  LV2       LV3  LV4       LV5       LV6  LV7       LV8  \\\n",
       "GAS6      0.000000  0.0  0.039438  0.0  0.050476  0.000000  0.0  0.000000   \n",
       "MMP14     0.000000  0.0  0.000000  0.0  0.070072  0.000000  0.0  0.004904   \n",
       "DSP       0.000000  0.0  0.000000  0.0  0.000000  0.041697  0.0  0.005718   \n",
       "MARCKSL1  0.305212  0.0  0.000000  0.0  0.000000  0.000000  0.0  0.000000   \n",
       "SPARC     0.000000  0.0  0.000000  0.0  0.000000  0.000000  0.0  0.000000   \n",
       "\n",
       "               LV9      LV10  ...     LV978    LV979     LV980     LV981  \\\n",
       "GAS6      0.590949  0.000000  ...  0.050125  0.00000  0.033407  0.000000   \n",
       "MMP14     1.720179  2.423595  ...  0.000000  0.00000  0.001007  0.000000   \n",
       "DSP       0.000000  0.000000  ...  0.020853  0.00000  0.000000  0.000000   \n",
       "MARCKSL1  0.161843  0.149471  ...  0.027134  0.05272  0.000000  0.030189   \n",
       "SPARC     0.000000  0.014014  ...  0.000000  0.00000  0.000000  0.000000   \n",
       "\n",
       "             LV982     LV983     LV984  LV985     LV986     LV987  \n",
       "GAS6      0.000000  0.005963  0.347362    0.0  0.000000  0.000000  \n",
       "MMP14     0.035747  0.000000  0.000000    0.0  0.014978  0.000000  \n",
       "DSP       0.000000  0.005774  0.000000    0.0  0.000000  0.416405  \n",
       "MARCKSL1  0.060884  0.000000  0.000000    0.0  0.000000  0.448480  \n",
       "SPARC     0.000000  0.000000  0.067779    0.0  0.122417  0.062665  \n",
       "\n",
       "[5 rows x 987 columns]"
      ]
     },
     "execution_count": 21,
     "metadata": {},
     "output_type": "execute_result"
    }
   ],
   "source": [
    "lv_weights.head()"
   ]
  },
  {
   "cell_type": "markdown",
   "id": "014f9d37",
   "metadata": {
    "papermill": {
     "duration": 0.025213,
     "end_time": "2022-02-24T05:27:22.031914",
     "exception": false,
     "start_time": "2022-02-24T05:27:22.006701",
     "status": "completed"
    },
    "tags": []
   },
   "source": [
    "## Run"
   ]
  },
  {
   "cell_type": "code",
   "execution_count": 22,
   "id": "8192af52",
   "metadata": {
    "papermill": {
     "duration": 0.050246,
     "end_time": "2022-02-24T05:27:22.107072",
     "exception": false,
     "start_time": "2022-02-24T05:27:22.056826",
     "status": "completed"
    },
    "tags": []
   },
   "outputs": [],
   "source": [
    "rs = np.random.RandomState(0)"
   ]
  },
  {
   "cell_type": "code",
   "execution_count": null,
   "id": "f0e7dc2c",
   "metadata": {
    "papermill": {
     "duration": 276.976752,
     "end_time": "2022-02-24T05:31:59.142157",
     "exception": false,
     "start_time": "2022-02-24T05:27:22.165405",
     "status": "completed"
    },
    "tags": []
   },
   "outputs": [
    {
     "name": "stderr",
     "output_type": "stream",
     "text": [
      "random_normal-0 - LV67:   0%|          | 66/49350 [13:04<220:47:54, 16.13s/it]"
     ]
    }
   ],
   "source": [
    "results = []\n",
    "\n",
    "pbar = tqdm(total=int(N_SIMULATED_PHENOTYPES * len(lv_codes)))\n",
    "\n",
    "for idx in range(N_SIMULATED_PHENOTYPES):\n",
    "    # compute an association for all LVs\n",
    "    for lv_code in lv_codes:\n",
    "        # generate a random phenotype\n",
    "        phenotype_code = f\"random_normal-{idx}\"\n",
    "\n",
    "        phenotype = pd.Series(\n",
    "            # use abs to simulate MultiPLIER z-scores (always positives)\n",
    "            np.abs(rs.normal(size=lv_weights.shape[0])),\n",
    "            index=lv_weights.index.copy(),\n",
    "            name=phenotype_code,\n",
    "        )\n",
    "        \n",
    "        pbar.set_description(f\"{phenotype_code} - {lv_code}\")\n",
    "\n",
    "        gls_model = GLSPhenoplier(\n",
    "            smultixcan_result_set_filepath=conf.PHENOMEXCAN[\n",
    "                \"SMULTIXCAN_EFO_PARTIAL_MASHR_ZSCORES_FILE\"\n",
    "            ]\n",
    "        )\n",
    "        gls_model.fit_named(lv_code, phenotype)\n",
    "        res = gls_model.results\n",
    "\n",
    "        results.append(\n",
    "            {\n",
    "                \"phenotype\": phenotype_code,\n",
    "                \"lv\": lv_code,\n",
    "                \"coef\": res.params.loc[\"lv\"],\n",
    "                \"pvalue\": res.pvalues_onesided.loc[\"lv\"],\n",
    "                \"pvalue_twosided\": res.pvalues.loc[\"lv\"],\n",
    "                \"summary\": gls_model.results_summary,\n",
    "            }\n",
    "        )\n",
    "\n",
    "        # save results every 10 models trained\n",
    "        if (len(results) % 10) == 0:\n",
    "            pd.DataFrame(results).to_pickle(OUTPUT_FILENAME)\n",
    "\n",
    "        pbar.update(1)\n",
    "\n",
    "pbar.close()"
   ]
  },
  {
   "cell_type": "code",
   "execution_count": null,
   "id": "b4321625",
   "metadata": {
    "papermill": {
     "duration": 0.063485,
     "end_time": "2022-02-24T05:31:59.250438",
     "exception": false,
     "start_time": "2022-02-24T05:31:59.186953",
     "status": "completed"
    },
    "tags": []
   },
   "outputs": [],
   "source": [
    "results = pd.DataFrame(results)"
   ]
  },
  {
   "cell_type": "code",
   "execution_count": null,
   "id": "6ad96390",
   "metadata": {
    "papermill": {
     "duration": 0.062045,
     "end_time": "2022-02-24T05:31:59.354776",
     "exception": false,
     "start_time": "2022-02-24T05:31:59.292731",
     "status": "completed"
    },
    "tags": []
   },
   "outputs": [],
   "source": [
    "results.shape"
   ]
  },
  {
   "cell_type": "code",
   "execution_count": null,
   "id": "d90746ac",
   "metadata": {
    "papermill": {
     "duration": 0.086869,
     "end_time": "2022-02-24T05:31:59.485344",
     "exception": false,
     "start_time": "2022-02-24T05:31:59.398475",
     "status": "completed"
    },
    "tags": []
   },
   "outputs": [],
   "source": [
    "results.head()"
   ]
  },
  {
   "cell_type": "code",
   "execution_count": null,
   "id": "f95a1a5f",
   "metadata": {
    "papermill": {
     "duration": 0.102836,
     "end_time": "2022-02-24T05:31:59.631470",
     "exception": false,
     "start_time": "2022-02-24T05:31:59.528634",
     "status": "completed"
    },
    "tags": []
   },
   "outputs": [],
   "source": [
    "results.sort_values(\"pvalue\").head(10)"
   ]
  },
  {
   "cell_type": "markdown",
   "id": "b99dbf43",
   "metadata": {
    "papermill": {
     "duration": 0.042428,
     "end_time": "2022-02-24T05:31:59.716388",
     "exception": false,
     "start_time": "2022-02-24T05:31:59.673960",
     "status": "completed"
    },
    "tags": []
   },
   "source": [
    "## Save"
   ]
  },
  {
   "cell_type": "code",
   "execution_count": null,
   "id": "cc61085d",
   "metadata": {
    "papermill": {
     "duration": 0.067855,
     "end_time": "2022-02-24T05:31:59.826785",
     "exception": false,
     "start_time": "2022-02-24T05:31:59.758930",
     "status": "completed"
    },
    "tags": []
   },
   "outputs": [],
   "source": [
    "results.to_pickle(OUTPUT_FILENAME)"
   ]
  },
  {
   "cell_type": "code",
   "execution_count": null,
   "id": "6e5eb730",
   "metadata": {
    "papermill": {
     "duration": 0.042196,
     "end_time": "2022-02-24T05:31:59.912389",
     "exception": false,
     "start_time": "2022-02-24T05:31:59.870193",
     "status": "completed"
    },
    "tags": []
   },
   "outputs": [],
   "source": []
  }
 ],
 "metadata": {
  "jupytext": {
   "cell_metadata_filter": "all,-execution,-papermill,-trusted",
   "formats": "ipynb,py//py:percent"
  },
  "kernelspec": {
   "display_name": "Python 3 (ipykernel)",
   "language": "python",
   "name": "python3"
  },
  "language_info": {
   "codemirror_mode": {
    "name": "ipython",
    "version": 3
   },
   "file_extension": ".py",
   "mimetype": "text/x-python",
   "name": "python",
   "nbconvert_exporter": "python",
   "pygments_lexer": "ipython3",
   "version": "3.8.12"
  },
  "papermill": {
   "default_parameters": {},
   "duration": 284.976164,
   "end_time": "2022-02-24T05:32:00.278080",
   "environment_variables": {},
   "exception": null,
   "input_path": "nbs/15_gsa_gls/25-gls-null_simulations.ipynb",
   "output_path": "nbs/15_gsa_gls/25-gls-null_simulations.run.ipynb",
   "parameters": {},
   "start_time": "2022-02-24T05:27:15.301916",
   "version": "2.2.2"
  }
 },
 "nbformat": 4,
 "nbformat_minor": 5
}
