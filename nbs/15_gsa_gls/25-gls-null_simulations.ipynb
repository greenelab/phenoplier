{
 "cells": [
  {
   "cell_type": "markdown",
   "id": "3bb6ba85",
   "metadata": {
    "papermill": {
     "duration": 0.023509,
     "end_time": "2022-02-24T05:27:16.566490",
     "exception": false,
     "start_time": "2022-02-24T05:27:16.542981",
     "status": "completed"
    },
    "tags": []
   },
   "source": [
    "# Description"
   ]
  },
  {
   "cell_type": "markdown",
   "id": "b0ac1a1e",
   "metadata": {
    "papermill": {
     "duration": 0.02005,
     "end_time": "2022-02-24T05:27:16.606408",
     "exception": false,
     "start_time": "2022-02-24T05:27:16.586358",
     "status": "completed"
    },
    "tags": []
   },
   "source": [
    "TODO"
   ]
  },
  {
   "cell_type": "markdown",
   "id": "0fb7a5bf",
   "metadata": {
    "papermill": {
     "duration": 0.019673,
     "end_time": "2022-02-24T05:27:16.646565",
     "exception": false,
     "start_time": "2022-02-24T05:27:16.626892",
     "status": "completed"
    },
    "tags": []
   },
   "source": [
    "# Environment variables"
   ]
  },
  {
   "cell_type": "code",
   "execution_count": 1,
   "id": "78b93b48",
   "metadata": {
    "execution": {
     "iopub.execute_input": "2022-02-24T05:27:16.687748Z",
     "iopub.status.busy": "2022-02-24T05:27:16.687500Z",
     "iopub.status.idle": "2022-02-24T05:27:16.703155Z",
     "shell.execute_reply": "2022-02-24T05:27:16.702526Z"
    },
    "papermill": {
     "duration": 0.037961,
     "end_time": "2022-02-24T05:27:16.704765",
     "exception": false,
     "start_time": "2022-02-24T05:27:16.666804",
     "status": "completed"
    },
    "tags": []
   },
   "outputs": [],
   "source": [
    "%load_ext autoreload\n",
    "%autoreload 2"
   ]
  },
  {
   "cell_type": "code",
   "execution_count": 2,
   "id": "b6fd932b",
   "metadata": {
    "execution": {
     "iopub.execute_input": "2022-02-24T05:27:16.747157Z",
     "iopub.status.busy": "2022-02-24T05:27:16.746951Z",
     "iopub.status.idle": "2022-02-24T05:27:16.779910Z",
     "shell.execute_reply": "2022-02-24T05:27:16.779368Z"
    },
    "papermill": {
     "duration": 0.055312,
     "end_time": "2022-02-24T05:27:16.781466",
     "exception": false,
     "start_time": "2022-02-24T05:27:16.726154",
     "status": "completed"
    },
    "tags": []
   },
   "outputs": [],
   "source": [
    "import conf"
   ]
  },
  {
   "cell_type": "code",
   "execution_count": 3,
   "id": "bb9e9c60",
   "metadata": {
    "execution": {
     "iopub.execute_input": "2022-02-24T05:27:16.830335Z",
     "iopub.status.busy": "2022-02-24T05:27:16.830120Z",
     "iopub.status.idle": "2022-02-24T05:27:16.845409Z",
     "shell.execute_reply": "2022-02-24T05:27:16.844959Z"
    },
    "papermill": {
     "duration": 0.038739,
     "end_time": "2022-02-24T05:27:16.846718",
     "exception": false,
     "start_time": "2022-02-24T05:27:16.807979",
     "status": "completed"
    },
    "tags": []
   },
   "outputs": [
    {
     "data": {
      "text/plain": [
       "3"
      ]
     },
     "metadata": {},
     "output_type": "display_data"
    }
   ],
   "source": [
    "N_JOBS = conf.GENERAL[\"N_JOBS\"]\n",
    "display(N_JOBS)"
   ]
  },
  {
   "cell_type": "code",
   "execution_count": 4,
   "id": "bdb9067d",
   "metadata": {
    "execution": {
     "iopub.execute_input": "2022-02-24T05:27:16.890055Z",
     "iopub.status.busy": "2022-02-24T05:27:16.889848Z",
     "iopub.status.idle": "2022-02-24T05:27:16.903271Z",
     "shell.execute_reply": "2022-02-24T05:27:16.902461Z"
    },
    "papermill": {
     "duration": 0.036141,
     "end_time": "2022-02-24T05:27:16.904702",
     "exception": false,
     "start_time": "2022-02-24T05:27:16.868561",
     "status": "completed"
    },
    "tags": []
   },
   "outputs": [
    {
     "name": "stdout",
     "output_type": "stream",
     "text": [
      "env: MKL_NUM_THREADS=3\n",
      "env: OPEN_BLAS_NUM_THREADS=3\n",
      "env: NUMEXPR_NUM_THREADS=3\n",
      "env: OMP_NUM_THREADS=3\n"
     ]
    }
   ],
   "source": [
    "%env MKL_NUM_THREADS=$N_JOBS\n",
    "%env OPEN_BLAS_NUM_THREADS=$N_JOBS\n",
    "%env NUMEXPR_NUM_THREADS=$N_JOBS\n",
    "%env OMP_NUM_THREADS=$N_JOBS"
   ]
  },
  {
   "cell_type": "markdown",
   "id": "eb48abab",
   "metadata": {
    "papermill": {
     "duration": 0.021581,
     "end_time": "2022-02-24T05:27:16.947886",
     "exception": false,
     "start_time": "2022-02-24T05:27:16.926305",
     "status": "completed"
    },
    "tags": []
   },
   "source": [
    "# Modules"
   ]
  },
  {
   "cell_type": "code",
   "execution_count": 5,
   "id": "2912ffd0",
   "metadata": {
    "execution": {
     "iopub.execute_input": "2022-02-24T05:27:16.991379Z",
     "iopub.status.busy": "2022-02-24T05:27:16.991170Z",
     "iopub.status.idle": "2022-02-24T05:27:17.881174Z",
     "shell.execute_reply": "2022-02-24T05:27:17.880425Z"
    },
    "papermill": {
     "duration": 0.913421,
     "end_time": "2022-02-24T05:27:17.882796",
     "exception": false,
     "start_time": "2022-02-24T05:27:16.969375",
     "status": "completed"
    },
    "tags": []
   },
   "outputs": [],
   "source": [
    "from pathlib import Path\n",
    "\n",
    "import statsmodels.api as sm\n",
    "import numpy as np\n",
    "import pandas as pd\n",
    "from sklearn.preprocessing import scale\n",
    "from tqdm import tqdm\n",
    "\n",
    "from gls import GLSPhenoplier"
   ]
  },
  {
   "cell_type": "markdown",
   "id": "d1c7328a",
   "metadata": {
    "papermill": {
     "duration": 0.02149,
     "end_time": "2022-02-24T05:27:17.927711",
     "exception": false,
     "start_time": "2022-02-24T05:27:17.906221",
     "status": "completed"
    },
    "tags": []
   },
   "source": [
    "# Settings"
   ]
  },
  {
   "cell_type": "code",
   "execution_count": 6,
   "id": "f7da5993",
   "metadata": {
    "execution": {
     "iopub.execute_input": "2022-02-24T05:27:17.970789Z",
     "iopub.status.busy": "2022-02-24T05:27:17.970572Z",
     "iopub.status.idle": "2022-02-24T05:27:17.987329Z",
     "shell.execute_reply": "2022-02-24T05:27:17.986782Z"
    },
    "papermill": {
     "duration": 0.040185,
     "end_time": "2022-02-24T05:27:17.988879",
     "exception": false,
     "start_time": "2022-02-24T05:27:17.948694",
     "status": "completed"
    },
    "tags": []
   },
   "outputs": [],
   "source": [
    "N_SIMULATED_PHENOTYPES = 10"
   ]
  },
  {
   "cell_type": "code",
   "execution_count": 7,
   "id": "fc3cd755",
   "metadata": {
    "execution": {
     "iopub.execute_input": "2022-02-24T05:27:18.032846Z",
     "iopub.status.busy": "2022-02-24T05:27:18.032634Z",
     "iopub.status.idle": "2022-02-24T05:27:18.051452Z",
     "shell.execute_reply": "2022-02-24T05:27:18.050949Z"
    },
    "papermill": {
     "duration": 0.042205,
     "end_time": "2022-02-24T05:27:18.052950",
     "exception": false,
     "start_time": "2022-02-24T05:27:18.010745",
     "status": "completed"
    },
    "tags": []
   },
   "outputs": [
    {
     "data": {
      "text/plain": [
       "PosixPath('/opt/data/results/gls')"
      ]
     },
     "metadata": {},
     "output_type": "display_data"
    }
   ],
   "source": [
    "OUTPUT_DIR = conf.RESULTS[\"GLS\"]\n",
    "display(OUTPUT_DIR)\n",
    "\n",
    "OUTPUT_DIR.mkdir(exist_ok=True, parents=True)"
   ]
  },
  {
   "cell_type": "code",
   "execution_count": 8,
   "id": "1cc9767e",
   "metadata": {
    "execution": {
     "iopub.execute_input": "2022-02-24T05:27:18.098134Z",
     "iopub.status.busy": "2022-02-24T05:27:18.097924Z",
     "iopub.status.idle": "2022-02-24T05:27:18.116173Z",
     "shell.execute_reply": "2022-02-24T05:27:18.115675Z"
    },
    "papermill": {
     "duration": 0.041981,
     "end_time": "2022-02-24T05:27:18.117562",
     "exception": false,
     "start_time": "2022-02-24T05:27:18.075581",
     "status": "completed"
    },
    "tags": []
   },
   "outputs": [
    {
     "data": {
      "text/plain": [
       "PosixPath('/opt/data/results/gls/gls-null_simulations.pkl')"
      ]
     },
     "metadata": {},
     "output_type": "display_data"
    }
   ],
   "source": [
    "OUTPUT_FILENAME = OUTPUT_DIR / \"gls-null_simulations.pkl\"\n",
    "display(OUTPUT_FILENAME)"
   ]
  },
  {
   "cell_type": "markdown",
   "id": "7cc58f68",
   "metadata": {
    "papermill": {
     "duration": 0.021629,
     "end_time": "2022-02-24T05:27:18.162851",
     "exception": false,
     "start_time": "2022-02-24T05:27:18.141222",
     "status": "completed"
    },
    "tags": []
   },
   "source": [
    "# Load data"
   ]
  },
  {
   "cell_type": "markdown",
   "id": "25d3f06e",
   "metadata": {
    "papermill": {
     "duration": 0.021814,
     "end_time": "2022-02-24T05:27:18.207099",
     "exception": false,
     "start_time": "2022-02-24T05:27:18.185285",
     "status": "completed"
    },
    "tags": []
   },
   "source": [
    "## MultiPLIER Z matrix"
   ]
  },
  {
   "cell_type": "code",
   "execution_count": 9,
   "id": "e2c1fba1",
   "metadata": {
    "execution": {
     "iopub.execute_input": "2022-02-24T05:27:18.251887Z",
     "iopub.status.busy": "2022-02-24T05:27:18.251670Z",
     "iopub.status.idle": "2022-02-24T05:27:18.531001Z",
     "shell.execute_reply": "2022-02-24T05:27:18.529093Z"
    },
    "papermill": {
     "duration": 0.307278,
     "end_time": "2022-02-24T05:27:18.536398",
     "exception": false,
     "start_time": "2022-02-24T05:27:18.229120",
     "status": "completed"
    },
    "tags": []
   },
   "outputs": [],
   "source": [
    "multiplier_z_matrix = pd.read_pickle(conf.MULTIPLIER[\"MODEL_Z_MATRIX_FILE\"])"
   ]
  },
  {
   "cell_type": "code",
   "execution_count": 10,
   "id": "a27abf1e",
   "metadata": {
    "execution": {
     "iopub.execute_input": "2022-02-24T05:27:18.585175Z",
     "iopub.status.busy": "2022-02-24T05:27:18.584951Z",
     "iopub.status.idle": "2022-02-24T05:27:18.603112Z",
     "shell.execute_reply": "2022-02-24T05:27:18.602635Z"
    },
    "papermill": {
     "duration": 0.04243,
     "end_time": "2022-02-24T05:27:18.604523",
     "exception": false,
     "start_time": "2022-02-24T05:27:18.562093",
     "status": "completed"
    },
    "tags": []
   },
   "outputs": [
    {
     "data": {
      "text/plain": [
       "(6750, 987)"
      ]
     },
     "execution_count": 10,
     "metadata": {},
     "output_type": "execute_result"
    }
   ],
   "source": [
    "multiplier_z_matrix.shape"
   ]
  },
  {
   "cell_type": "code",
   "execution_count": 11,
   "id": "23d03388",
   "metadata": {
    "execution": {
     "iopub.execute_input": "2022-02-24T05:27:18.651218Z",
     "iopub.status.busy": "2022-02-24T05:27:18.651002Z",
     "iopub.status.idle": "2022-02-24T05:27:18.684144Z",
     "shell.execute_reply": "2022-02-24T05:27:18.683689Z"
    },
    "papermill": {
     "duration": 0.057464,
     "end_time": "2022-02-24T05:27:18.685499",
     "exception": false,
     "start_time": "2022-02-24T05:27:18.628035",
     "status": "completed"
    },
    "tags": []
   },
   "outputs": [
    {
     "data": {
      "text/html": [
       "<div>\n",
       "<style scoped>\n",
       "    .dataframe tbody tr th:only-of-type {\n",
       "        vertical-align: middle;\n",
       "    }\n",
       "\n",
       "    .dataframe tbody tr th {\n",
       "        vertical-align: top;\n",
       "    }\n",
       "\n",
       "    .dataframe thead th {\n",
       "        text-align: right;\n",
       "    }\n",
       "</style>\n",
       "<table border=\"1\" class=\"dataframe\">\n",
       "  <thead>\n",
       "    <tr style=\"text-align: right;\">\n",
       "      <th></th>\n",
       "      <th>LV1</th>\n",
       "      <th>LV2</th>\n",
       "      <th>LV3</th>\n",
       "      <th>LV4</th>\n",
       "      <th>LV5</th>\n",
       "      <th>LV6</th>\n",
       "      <th>LV7</th>\n",
       "      <th>LV8</th>\n",
       "      <th>LV9</th>\n",
       "      <th>LV10</th>\n",
       "      <th>...</th>\n",
       "      <th>LV978</th>\n",
       "      <th>LV979</th>\n",
       "      <th>LV980</th>\n",
       "      <th>LV981</th>\n",
       "      <th>LV982</th>\n",
       "      <th>LV983</th>\n",
       "      <th>LV984</th>\n",
       "      <th>LV985</th>\n",
       "      <th>LV986</th>\n",
       "      <th>LV987</th>\n",
       "    </tr>\n",
       "  </thead>\n",
       "  <tbody>\n",
       "    <tr>\n",
       "      <th>GAS6</th>\n",
       "      <td>0.000000</td>\n",
       "      <td>0.0</td>\n",
       "      <td>0.039438</td>\n",
       "      <td>0.0</td>\n",
       "      <td>0.050476</td>\n",
       "      <td>0.000000</td>\n",
       "      <td>0.0</td>\n",
       "      <td>0.000000</td>\n",
       "      <td>0.590949</td>\n",
       "      <td>0.000000</td>\n",
       "      <td>...</td>\n",
       "      <td>0.050125</td>\n",
       "      <td>0.00000</td>\n",
       "      <td>0.033407</td>\n",
       "      <td>0.000000</td>\n",
       "      <td>0.000000</td>\n",
       "      <td>0.005963</td>\n",
       "      <td>0.347362</td>\n",
       "      <td>0.0</td>\n",
       "      <td>0.000000</td>\n",
       "      <td>0.000000</td>\n",
       "    </tr>\n",
       "    <tr>\n",
       "      <th>MMP14</th>\n",
       "      <td>0.000000</td>\n",
       "      <td>0.0</td>\n",
       "      <td>0.000000</td>\n",
       "      <td>0.0</td>\n",
       "      <td>0.070072</td>\n",
       "      <td>0.000000</td>\n",
       "      <td>0.0</td>\n",
       "      <td>0.004904</td>\n",
       "      <td>1.720179</td>\n",
       "      <td>2.423595</td>\n",
       "      <td>...</td>\n",
       "      <td>0.000000</td>\n",
       "      <td>0.00000</td>\n",
       "      <td>0.001007</td>\n",
       "      <td>0.000000</td>\n",
       "      <td>0.035747</td>\n",
       "      <td>0.000000</td>\n",
       "      <td>0.000000</td>\n",
       "      <td>0.0</td>\n",
       "      <td>0.014978</td>\n",
       "      <td>0.000000</td>\n",
       "    </tr>\n",
       "    <tr>\n",
       "      <th>DSP</th>\n",
       "      <td>0.000000</td>\n",
       "      <td>0.0</td>\n",
       "      <td>0.000000</td>\n",
       "      <td>0.0</td>\n",
       "      <td>0.000000</td>\n",
       "      <td>0.041697</td>\n",
       "      <td>0.0</td>\n",
       "      <td>0.005718</td>\n",
       "      <td>0.000000</td>\n",
       "      <td>0.000000</td>\n",
       "      <td>...</td>\n",
       "      <td>0.020853</td>\n",
       "      <td>0.00000</td>\n",
       "      <td>0.000000</td>\n",
       "      <td>0.000000</td>\n",
       "      <td>0.000000</td>\n",
       "      <td>0.005774</td>\n",
       "      <td>0.000000</td>\n",
       "      <td>0.0</td>\n",
       "      <td>0.000000</td>\n",
       "      <td>0.416405</td>\n",
       "    </tr>\n",
       "    <tr>\n",
       "      <th>MARCKSL1</th>\n",
       "      <td>0.305212</td>\n",
       "      <td>0.0</td>\n",
       "      <td>0.000000</td>\n",
       "      <td>0.0</td>\n",
       "      <td>0.000000</td>\n",
       "      <td>0.000000</td>\n",
       "      <td>0.0</td>\n",
       "      <td>0.000000</td>\n",
       "      <td>0.161843</td>\n",
       "      <td>0.149471</td>\n",
       "      <td>...</td>\n",
       "      <td>0.027134</td>\n",
       "      <td>0.05272</td>\n",
       "      <td>0.000000</td>\n",
       "      <td>0.030189</td>\n",
       "      <td>0.060884</td>\n",
       "      <td>0.000000</td>\n",
       "      <td>0.000000</td>\n",
       "      <td>0.0</td>\n",
       "      <td>0.000000</td>\n",
       "      <td>0.448480</td>\n",
       "    </tr>\n",
       "    <tr>\n",
       "      <th>SPARC</th>\n",
       "      <td>0.000000</td>\n",
       "      <td>0.0</td>\n",
       "      <td>0.000000</td>\n",
       "      <td>0.0</td>\n",
       "      <td>0.000000</td>\n",
       "      <td>0.000000</td>\n",
       "      <td>0.0</td>\n",
       "      <td>0.000000</td>\n",
       "      <td>0.000000</td>\n",
       "      <td>0.014014</td>\n",
       "      <td>...</td>\n",
       "      <td>0.000000</td>\n",
       "      <td>0.00000</td>\n",
       "      <td>0.000000</td>\n",
       "      <td>0.000000</td>\n",
       "      <td>0.000000</td>\n",
       "      <td>0.000000</td>\n",
       "      <td>0.067779</td>\n",
       "      <td>0.0</td>\n",
       "      <td>0.122417</td>\n",
       "      <td>0.062665</td>\n",
       "    </tr>\n",
       "  </tbody>\n",
       "</table>\n",
       "<p>5 rows × 987 columns</p>\n",
       "</div>"
      ],
      "text/plain": [
       "               LV1  LV2       LV3  LV4       LV5       LV6  LV7       LV8  \\\n",
       "GAS6      0.000000  0.0  0.039438  0.0  0.050476  0.000000  0.0  0.000000   \n",
       "MMP14     0.000000  0.0  0.000000  0.0  0.070072  0.000000  0.0  0.004904   \n",
       "DSP       0.000000  0.0  0.000000  0.0  0.000000  0.041697  0.0  0.005718   \n",
       "MARCKSL1  0.305212  0.0  0.000000  0.0  0.000000  0.000000  0.0  0.000000   \n",
       "SPARC     0.000000  0.0  0.000000  0.0  0.000000  0.000000  0.0  0.000000   \n",
       "\n",
       "               LV9      LV10  ...     LV978    LV979     LV980     LV981  \\\n",
       "GAS6      0.590949  0.000000  ...  0.050125  0.00000  0.033407  0.000000   \n",
       "MMP14     1.720179  2.423595  ...  0.000000  0.00000  0.001007  0.000000   \n",
       "DSP       0.000000  0.000000  ...  0.020853  0.00000  0.000000  0.000000   \n",
       "MARCKSL1  0.161843  0.149471  ...  0.027134  0.05272  0.000000  0.030189   \n",
       "SPARC     0.000000  0.014014  ...  0.000000  0.00000  0.000000  0.000000   \n",
       "\n",
       "             LV982     LV983     LV984  LV985     LV986     LV987  \n",
       "GAS6      0.000000  0.005963  0.347362    0.0  0.000000  0.000000  \n",
       "MMP14     0.035747  0.000000  0.000000    0.0  0.014978  0.000000  \n",
       "DSP       0.000000  0.005774  0.000000    0.0  0.000000  0.416405  \n",
       "MARCKSL1  0.060884  0.000000  0.000000    0.0  0.000000  0.448480  \n",
       "SPARC     0.000000  0.000000  0.067779    0.0  0.122417  0.062665  \n",
       "\n",
       "[5 rows x 987 columns]"
      ]
     },
     "execution_count": 11,
     "metadata": {},
     "output_type": "execute_result"
    }
   ],
   "source": [
    "multiplier_z_matrix.head()"
   ]
  },
  {
   "cell_type": "code",
   "execution_count": 12,
   "id": "7d6b521f",
   "metadata": {
    "execution": {
     "iopub.execute_input": "2022-02-24T05:27:18.734473Z",
     "iopub.status.busy": "2022-02-24T05:27:18.734253Z",
     "iopub.status.idle": "2022-02-24T05:27:18.752584Z",
     "shell.execute_reply": "2022-02-24T05:27:18.752060Z"
    },
    "papermill": {
     "duration": 0.043929,
     "end_time": "2022-02-24T05:27:18.754068",
     "exception": false,
     "start_time": "2022-02-24T05:27:18.710139",
     "status": "completed"
    },
    "tags": []
   },
   "outputs": [
    {
     "data": {
      "text/plain": [
       "['LV1', 'LV2', 'LV3', 'LV4', 'LV5']"
      ]
     },
     "metadata": {},
     "output_type": "display_data"
    }
   ],
   "source": [
    "lv_codes = list(multiplier_z_matrix.columns)\n",
    "display(lv_codes[:5])"
   ]
  },
  {
   "cell_type": "markdown",
   "id": "90f47bac",
   "metadata": {
    "papermill": {
     "duration": 0.023429,
     "end_time": "2022-02-24T05:27:18.802234",
     "exception": false,
     "start_time": "2022-02-24T05:27:18.778805",
     "status": "completed"
    },
    "tags": []
   },
   "source": [
    "## PhenomeXcan (S-MultiXcan)"
   ]
  },
  {
   "cell_type": "code",
   "execution_count": 13,
   "id": "3b8627ca",
   "metadata": {
    "execution": {
     "iopub.execute_input": "2022-02-24T05:27:18.853598Z",
     "iopub.status.busy": "2022-02-24T05:27:18.853377Z",
     "iopub.status.idle": "2022-02-24T05:27:18.870884Z",
     "shell.execute_reply": "2022-02-24T05:27:18.870383Z"
    },
    "papermill": {
     "duration": 0.044168,
     "end_time": "2022-02-24T05:27:18.872317",
     "exception": false,
     "start_time": "2022-02-24T05:27:18.828149",
     "status": "completed"
    },
    "tags": []
   },
   "outputs": [],
   "source": [
    "# INPUT_SUBSET = \"z_score_std\""
   ]
  },
  {
   "cell_type": "code",
   "execution_count": 14,
   "id": "54b2834c",
   "metadata": {
    "execution": {
     "iopub.execute_input": "2022-02-24T05:27:18.923168Z",
     "iopub.status.busy": "2022-02-24T05:27:18.922941Z",
     "iopub.status.idle": "2022-02-24T05:27:18.939943Z",
     "shell.execute_reply": "2022-02-24T05:27:18.939416Z"
    },
    "papermill": {
     "duration": 0.043281,
     "end_time": "2022-02-24T05:27:18.941356",
     "exception": false,
     "start_time": "2022-02-24T05:27:18.898075",
     "status": "completed"
    },
    "tags": []
   },
   "outputs": [],
   "source": [
    "# INPUT_STEM = \"projection-smultixcan-efo_partial-mashr-zscores\""
   ]
  },
  {
   "cell_type": "code",
   "execution_count": 15,
   "id": "b69b9c38",
   "metadata": {
    "execution": {
     "iopub.execute_input": "2022-02-24T05:27:18.991069Z",
     "iopub.status.busy": "2022-02-24T05:27:18.990848Z",
     "iopub.status.idle": "2022-02-24T05:27:19.008236Z",
     "shell.execute_reply": "2022-02-24T05:27:19.007743Z"
    },
    "papermill": {
     "duration": 0.0436,
     "end_time": "2022-02-24T05:27:19.009668",
     "exception": false,
     "start_time": "2022-02-24T05:27:18.966068",
     "status": "completed"
    },
    "tags": []
   },
   "outputs": [],
   "source": [
    "# input_filepath = Path(\n",
    "#     conf.RESULTS[\"DATA_TRANSFORMATIONS_DIR\"],\n",
    "#     INPUT_SUBSET,\n",
    "#     f\"{INPUT_SUBSET}-{INPUT_STEM}.pkl\",\n",
    "# ).resolve()"
   ]
  },
  {
   "cell_type": "code",
   "execution_count": 16,
   "id": "03c84c26",
   "metadata": {
    "execution": {
     "iopub.execute_input": "2022-02-24T05:27:19.060826Z",
     "iopub.status.busy": "2022-02-24T05:27:19.060612Z",
     "iopub.status.idle": "2022-02-24T05:27:19.077930Z",
     "shell.execute_reply": "2022-02-24T05:27:19.077371Z"
    },
    "papermill": {
     "duration": 0.044383,
     "end_time": "2022-02-24T05:27:19.079519",
     "exception": false,
     "start_time": "2022-02-24T05:27:19.035136",
     "status": "completed"
    },
    "tags": []
   },
   "outputs": [],
   "source": [
    "# data = pd.read_pickle(input_filepath)"
   ]
  },
  {
   "cell_type": "code",
   "execution_count": 17,
   "id": "1c519104",
   "metadata": {
    "execution": {
     "iopub.execute_input": "2022-02-24T05:27:19.129165Z",
     "iopub.status.busy": "2022-02-24T05:27:19.128956Z",
     "iopub.status.idle": "2022-02-24T05:27:19.146193Z",
     "shell.execute_reply": "2022-02-24T05:27:19.145697Z"
    },
    "papermill": {
     "duration": 0.043401,
     "end_time": "2022-02-24T05:27:19.147840",
     "exception": false,
     "start_time": "2022-02-24T05:27:19.104439",
     "status": "completed"
    },
    "tags": []
   },
   "outputs": [],
   "source": [
    "# data.shape"
   ]
  },
  {
   "cell_type": "code",
   "execution_count": 18,
   "id": "f125df2d",
   "metadata": {
    "execution": {
     "iopub.execute_input": "2022-02-24T05:27:19.203320Z",
     "iopub.status.busy": "2022-02-24T05:27:19.203148Z",
     "iopub.status.idle": "2022-02-24T05:27:19.220276Z",
     "shell.execute_reply": "2022-02-24T05:27:19.219814Z"
    },
    "papermill": {
     "duration": 0.047439,
     "end_time": "2022-02-24T05:27:19.221605",
     "exception": false,
     "start_time": "2022-02-24T05:27:19.174166",
     "status": "completed"
    },
    "tags": []
   },
   "outputs": [],
   "source": [
    "# data.head()"
   ]
  },
  {
   "cell_type": "markdown",
   "id": "8353aedd",
   "metadata": {
    "papermill": {
     "duration": 0.024394,
     "end_time": "2022-02-24T05:27:19.271472",
     "exception": false,
     "start_time": "2022-02-24T05:27:19.247078",
     "status": "completed"
    },
    "tags": []
   },
   "source": [
    "# GLSPhenoplier"
   ]
  },
  {
   "cell_type": "markdown",
   "id": "b655f443",
   "metadata": {
    "papermill": {
     "duration": 0.02416,
     "end_time": "2022-02-24T05:27:19.319988",
     "exception": false,
     "start_time": "2022-02-24T05:27:19.295828",
     "status": "completed"
    },
    "tags": []
   },
   "source": [
    "## Load `lv_weights`"
   ]
  },
  {
   "cell_type": "code",
   "execution_count": 19,
   "id": "2b5031b8",
   "metadata": {
    "execution": {
     "iopub.execute_input": "2022-02-24T05:27:19.369929Z",
     "iopub.status.busy": "2022-02-24T05:27:19.369693Z",
     "iopub.status.idle": "2022-02-24T05:27:21.815164Z",
     "shell.execute_reply": "2022-02-24T05:27:21.814545Z"
    },
    "papermill": {
     "duration": 2.472304,
     "end_time": "2022-02-24T05:27:21.816899",
     "exception": false,
     "start_time": "2022-02-24T05:27:19.344595",
     "status": "completed"
    },
    "tags": []
   },
   "outputs": [],
   "source": [
    "lv_weights = GLSPhenoplier._get_data(\n",
    "    conf.PHENOMEXCAN[\"SMULTIXCAN_EFO_PARTIAL_MASHR_ZSCORES_FILE\"]\n",
    ")[2]"
   ]
  },
  {
   "cell_type": "code",
   "execution_count": 20,
   "id": "b7de6656",
   "metadata": {
    "execution": {
     "iopub.execute_input": "2022-02-24T05:27:21.875335Z",
     "iopub.status.busy": "2022-02-24T05:27:21.875117Z",
     "iopub.status.idle": "2022-02-24T05:27:21.893324Z",
     "shell.execute_reply": "2022-02-24T05:27:21.892837Z"
    },
    "papermill": {
     "duration": 0.045852,
     "end_time": "2022-02-24T05:27:21.894670",
     "exception": false,
     "start_time": "2022-02-24T05:27:21.848818",
     "status": "completed"
    },
    "tags": []
   },
   "outputs": [
    {
     "data": {
      "text/plain": [
       "(6450, 987)"
      ]
     },
     "execution_count": 20,
     "metadata": {},
     "output_type": "execute_result"
    }
   ],
   "source": [
    "lv_weights.shape"
   ]
  },
  {
   "cell_type": "code",
   "execution_count": 21,
   "id": "d2f145ce",
   "metadata": {
    "execution": {
     "iopub.execute_input": "2022-02-24T05:27:21.945659Z",
     "iopub.status.busy": "2022-02-24T05:27:21.945432Z",
     "iopub.status.idle": "2022-02-24T05:27:21.978782Z",
     "shell.execute_reply": "2022-02-24T05:27:21.978193Z"
    },
    "papermill": {
     "duration": 0.060212,
     "end_time": "2022-02-24T05:27:21.980146",
     "exception": false,
     "start_time": "2022-02-24T05:27:21.919934",
     "status": "completed"
    },
    "tags": []
   },
   "outputs": [
    {
     "data": {
      "text/html": [
       "<div>\n",
       "<style scoped>\n",
       "    .dataframe tbody tr th:only-of-type {\n",
       "        vertical-align: middle;\n",
       "    }\n",
       "\n",
       "    .dataframe tbody tr th {\n",
       "        vertical-align: top;\n",
       "    }\n",
       "\n",
       "    .dataframe thead th {\n",
       "        text-align: right;\n",
       "    }\n",
       "</style>\n",
       "<table border=\"1\" class=\"dataframe\">\n",
       "  <thead>\n",
       "    <tr style=\"text-align: right;\">\n",
       "      <th></th>\n",
       "      <th>LV1</th>\n",
       "      <th>LV2</th>\n",
       "      <th>LV3</th>\n",
       "      <th>LV4</th>\n",
       "      <th>LV5</th>\n",
       "      <th>LV6</th>\n",
       "      <th>LV7</th>\n",
       "      <th>LV8</th>\n",
       "      <th>LV9</th>\n",
       "      <th>LV10</th>\n",
       "      <th>...</th>\n",
       "      <th>LV978</th>\n",
       "      <th>LV979</th>\n",
       "      <th>LV980</th>\n",
       "      <th>LV981</th>\n",
       "      <th>LV982</th>\n",
       "      <th>LV983</th>\n",
       "      <th>LV984</th>\n",
       "      <th>LV985</th>\n",
       "      <th>LV986</th>\n",
       "      <th>LV987</th>\n",
       "    </tr>\n",
       "  </thead>\n",
       "  <tbody>\n",
       "    <tr>\n",
       "      <th>GAS6</th>\n",
       "      <td>0.000000</td>\n",
       "      <td>0.0</td>\n",
       "      <td>0.039438</td>\n",
       "      <td>0.0</td>\n",
       "      <td>0.050476</td>\n",
       "      <td>0.000000</td>\n",
       "      <td>0.0</td>\n",
       "      <td>0.000000</td>\n",
       "      <td>0.590949</td>\n",
       "      <td>0.000000</td>\n",
       "      <td>...</td>\n",
       "      <td>0.050125</td>\n",
       "      <td>0.00000</td>\n",
       "      <td>0.033407</td>\n",
       "      <td>0.000000</td>\n",
       "      <td>0.000000</td>\n",
       "      <td>0.005963</td>\n",
       "      <td>0.347362</td>\n",
       "      <td>0.0</td>\n",
       "      <td>0.000000</td>\n",
       "      <td>0.000000</td>\n",
       "    </tr>\n",
       "    <tr>\n",
       "      <th>MMP14</th>\n",
       "      <td>0.000000</td>\n",
       "      <td>0.0</td>\n",
       "      <td>0.000000</td>\n",
       "      <td>0.0</td>\n",
       "      <td>0.070072</td>\n",
       "      <td>0.000000</td>\n",
       "      <td>0.0</td>\n",
       "      <td>0.004904</td>\n",
       "      <td>1.720179</td>\n",
       "      <td>2.423595</td>\n",
       "      <td>...</td>\n",
       "      <td>0.000000</td>\n",
       "      <td>0.00000</td>\n",
       "      <td>0.001007</td>\n",
       "      <td>0.000000</td>\n",
       "      <td>0.035747</td>\n",
       "      <td>0.000000</td>\n",
       "      <td>0.000000</td>\n",
       "      <td>0.0</td>\n",
       "      <td>0.014978</td>\n",
       "      <td>0.000000</td>\n",
       "    </tr>\n",
       "    <tr>\n",
       "      <th>DSP</th>\n",
       "      <td>0.000000</td>\n",
       "      <td>0.0</td>\n",
       "      <td>0.000000</td>\n",
       "      <td>0.0</td>\n",
       "      <td>0.000000</td>\n",
       "      <td>0.041697</td>\n",
       "      <td>0.0</td>\n",
       "      <td>0.005718</td>\n",
       "      <td>0.000000</td>\n",
       "      <td>0.000000</td>\n",
       "      <td>...</td>\n",
       "      <td>0.020853</td>\n",
       "      <td>0.00000</td>\n",
       "      <td>0.000000</td>\n",
       "      <td>0.000000</td>\n",
       "      <td>0.000000</td>\n",
       "      <td>0.005774</td>\n",
       "      <td>0.000000</td>\n",
       "      <td>0.0</td>\n",
       "      <td>0.000000</td>\n",
       "      <td>0.416405</td>\n",
       "    </tr>\n",
       "    <tr>\n",
       "      <th>MARCKSL1</th>\n",
       "      <td>0.305212</td>\n",
       "      <td>0.0</td>\n",
       "      <td>0.000000</td>\n",
       "      <td>0.0</td>\n",
       "      <td>0.000000</td>\n",
       "      <td>0.000000</td>\n",
       "      <td>0.0</td>\n",
       "      <td>0.000000</td>\n",
       "      <td>0.161843</td>\n",
       "      <td>0.149471</td>\n",
       "      <td>...</td>\n",
       "      <td>0.027134</td>\n",
       "      <td>0.05272</td>\n",
       "      <td>0.000000</td>\n",
       "      <td>0.030189</td>\n",
       "      <td>0.060884</td>\n",
       "      <td>0.000000</td>\n",
       "      <td>0.000000</td>\n",
       "      <td>0.0</td>\n",
       "      <td>0.000000</td>\n",
       "      <td>0.448480</td>\n",
       "    </tr>\n",
       "    <tr>\n",
       "      <th>SPARC</th>\n",
       "      <td>0.000000</td>\n",
       "      <td>0.0</td>\n",
       "      <td>0.000000</td>\n",
       "      <td>0.0</td>\n",
       "      <td>0.000000</td>\n",
       "      <td>0.000000</td>\n",
       "      <td>0.0</td>\n",
       "      <td>0.000000</td>\n",
       "      <td>0.000000</td>\n",
       "      <td>0.014014</td>\n",
       "      <td>...</td>\n",
       "      <td>0.000000</td>\n",
       "      <td>0.00000</td>\n",
       "      <td>0.000000</td>\n",
       "      <td>0.000000</td>\n",
       "      <td>0.000000</td>\n",
       "      <td>0.000000</td>\n",
       "      <td>0.067779</td>\n",
       "      <td>0.0</td>\n",
       "      <td>0.122417</td>\n",
       "      <td>0.062665</td>\n",
       "    </tr>\n",
       "  </tbody>\n",
       "</table>\n",
       "<p>5 rows × 987 columns</p>\n",
       "</div>"
      ],
      "text/plain": [
       "               LV1  LV2       LV3  LV4       LV5       LV6  LV7       LV8  \\\n",
       "GAS6      0.000000  0.0  0.039438  0.0  0.050476  0.000000  0.0  0.000000   \n",
       "MMP14     0.000000  0.0  0.000000  0.0  0.070072  0.000000  0.0  0.004904   \n",
       "DSP       0.000000  0.0  0.000000  0.0  0.000000  0.041697  0.0  0.005718   \n",
       "MARCKSL1  0.305212  0.0  0.000000  0.0  0.000000  0.000000  0.0  0.000000   \n",
       "SPARC     0.000000  0.0  0.000000  0.0  0.000000  0.000000  0.0  0.000000   \n",
       "\n",
       "               LV9      LV10  ...     LV978    LV979     LV980     LV981  \\\n",
       "GAS6      0.590949  0.000000  ...  0.050125  0.00000  0.033407  0.000000   \n",
       "MMP14     1.720179  2.423595  ...  0.000000  0.00000  0.001007  0.000000   \n",
       "DSP       0.000000  0.000000  ...  0.020853  0.00000  0.000000  0.000000   \n",
       "MARCKSL1  0.161843  0.149471  ...  0.027134  0.05272  0.000000  0.030189   \n",
       "SPARC     0.000000  0.014014  ...  0.000000  0.00000  0.000000  0.000000   \n",
       "\n",
       "             LV982     LV983     LV984  LV985     LV986     LV987  \n",
       "GAS6      0.000000  0.005963  0.347362    0.0  0.000000  0.000000  \n",
       "MMP14     0.035747  0.000000  0.000000    0.0  0.014978  0.000000  \n",
       "DSP       0.000000  0.005774  0.000000    0.0  0.000000  0.416405  \n",
       "MARCKSL1  0.060884  0.000000  0.000000    0.0  0.000000  0.448480  \n",
       "SPARC     0.000000  0.000000  0.067779    0.0  0.122417  0.062665  \n",
       "\n",
       "[5 rows x 987 columns]"
      ]
     },
     "execution_count": 21,
     "metadata": {},
     "output_type": "execute_result"
    }
   ],
   "source": [
    "lv_weights.head()"
   ]
  },
  {
   "cell_type": "markdown",
   "id": "b8ea0240",
   "metadata": {
    "papermill": {
     "duration": 0.025213,
     "end_time": "2022-02-24T05:27:22.031914",
     "exception": false,
     "start_time": "2022-02-24T05:27:22.006701",
     "status": "completed"
    },
    "tags": []
   },
   "source": [
    "## Run"
   ]
  },
  {
   "cell_type": "code",
   "execution_count": 22,
   "id": "82ebb589",
   "metadata": {
    "execution": {
     "iopub.execute_input": "2022-02-24T05:27:22.082882Z",
     "iopub.status.busy": "2022-02-24T05:27:22.082658Z",
     "iopub.status.idle": "2022-02-24T05:27:22.101562Z",
     "shell.execute_reply": "2022-02-24T05:27:22.099621Z"
    },
    "papermill": {
     "duration": 0.050246,
     "end_time": "2022-02-24T05:27:22.107072",
     "exception": false,
     "start_time": "2022-02-24T05:27:22.056826",
     "status": "completed"
    },
    "tags": []
   },
   "outputs": [],
   "source": [
    "rs = np.random.RandomState(0)"
   ]
  },
  {
   "cell_type": "code",
   "execution_count": 23,
   "id": "71df13d7",
   "metadata": {
    "execution": {
     "iopub.execute_input": "2022-02-24T05:27:22.192144Z",
     "iopub.status.busy": "2022-02-24T05:27:22.191917Z",
     "iopub.status.idle": "2022-02-24T05:31:59.140832Z",
     "shell.execute_reply": "2022-02-24T05:31:59.140305Z"
    },
    "papermill": {
     "duration": 276.976752,
     "end_time": "2022-02-24T05:31:59.142157",
     "exception": false,
     "start_time": "2022-02-24T05:27:22.165405",
     "status": "completed"
    },
    "tags": []
   },
   "outputs": [
    {
     "name": "stderr",
     "output_type": "stream",
     "text": [
      "random_normal-9 - LV3:   0%|          | 30/9870 [04:36<25:13:51,  9.23s/it]\n"
     ]
    }
   ],
   "source": [
    "results = []\n",
    "\n",
    "pbar = tqdm(total=int(N_SIMULATED_PHENOTYPES * len(lv_codes)))\n",
    "\n",
    "for idx in range(N_SIMULATED_PHENOTYPES):\n",
    "    # generate a random phenotype\n",
    "    phenotype_code = f\"random_normal-{idx}\"\n",
    "\n",
    "    phenotype = pd.Series(\n",
    "        # use abs to simulate MultiPLIER z-scores (always positives)\n",
    "        np.abs(rs.normal(size=lv_weights.shape[0])),\n",
    "        index=lv_weights.index.copy(),\n",
    "        name=phenotype_code,\n",
    "    )\n",
    "\n",
    "    # compute an association for all LVs\n",
    "    for lv_code in lv_codes[:3]:\n",
    "        pbar.set_description(f\"{phenotype_code} - {lv_code}\")\n",
    "\n",
    "        gls_model = GLSPhenoplier(\n",
    "            smultixcan_result_set_filepath=conf.PHENOMEXCAN[\n",
    "                \"SMULTIXCAN_EFO_PARTIAL_MASHR_ZSCORES_FILE\"\n",
    "            ]\n",
    "        )\n",
    "        gls_model.fit_named(lv_code, phenotype)\n",
    "        res = gls_model.results\n",
    "\n",
    "        results.append(\n",
    "            {\n",
    "                \"phenotype\": phenotype_code,\n",
    "                \"lv\": lv_code,\n",
    "                \"coef\": res.params.loc[\"lv\"],\n",
    "                \"pvalue\": res.pvalues_onesided.loc[\"lv\"],\n",
    "                \"pvalue_twosided\": res.pvalues.loc[\"lv\"],\n",
    "                \"summary\": gls_model.results_summary,\n",
    "            }\n",
    "        )\n",
    "\n",
    "        # save results every 10 models trained\n",
    "        if (idx % 10) == 0:\n",
    "            pd.DataFrame(results).to_pickle(OUTPUT_FILENAME)\n",
    "\n",
    "        pbar.update(1)\n",
    "\n",
    "pbar.close()"
   ]
  },
  {
   "cell_type": "code",
   "execution_count": 24,
   "id": "e24d0732",
   "metadata": {
    "execution": {
     "iopub.execute_input": "2022-02-24T05:31:59.230321Z",
     "iopub.status.busy": "2022-02-24T05:31:59.230093Z",
     "iopub.status.idle": "2022-02-24T05:31:59.248942Z",
     "shell.execute_reply": "2022-02-24T05:31:59.248435Z"
    },
    "papermill": {
     "duration": 0.063485,
     "end_time": "2022-02-24T05:31:59.250438",
     "exception": false,
     "start_time": "2022-02-24T05:31:59.186953",
     "status": "completed"
    },
    "tags": []
   },
   "outputs": [],
   "source": [
    "results = pd.DataFrame(results)"
   ]
  },
  {
   "cell_type": "code",
   "execution_count": 25,
   "id": "509f93be",
   "metadata": {
    "execution": {
     "iopub.execute_input": "2022-02-24T05:31:59.334829Z",
     "iopub.status.busy": "2022-02-24T05:31:59.334611Z",
     "iopub.status.idle": "2022-02-24T05:31:59.353281Z",
     "shell.execute_reply": "2022-02-24T05:31:59.352688Z"
    },
    "papermill": {
     "duration": 0.062045,
     "end_time": "2022-02-24T05:31:59.354776",
     "exception": false,
     "start_time": "2022-02-24T05:31:59.292731",
     "status": "completed"
    },
    "tags": []
   },
   "outputs": [
    {
     "data": {
      "text/plain": [
       "(30, 6)"
      ]
     },
     "execution_count": 25,
     "metadata": {},
     "output_type": "execute_result"
    }
   ],
   "source": [
    "results.shape"
   ]
  },
  {
   "cell_type": "code",
   "execution_count": 26,
   "id": "5dd06126",
   "metadata": {
    "execution": {
     "iopub.execute_input": "2022-02-24T05:31:59.441223Z",
     "iopub.status.busy": "2022-02-24T05:31:59.440994Z",
     "iopub.status.idle": "2022-02-24T05:31:59.483979Z",
     "shell.execute_reply": "2022-02-24T05:31:59.483321Z"
    },
    "papermill": {
     "duration": 0.086869,
     "end_time": "2022-02-24T05:31:59.485344",
     "exception": false,
     "start_time": "2022-02-24T05:31:59.398475",
     "status": "completed"
    },
    "tags": []
   },
   "outputs": [
    {
     "data": {
      "text/html": [
       "<div>\n",
       "<style scoped>\n",
       "    .dataframe tbody tr th:only-of-type {\n",
       "        vertical-align: middle;\n",
       "    }\n",
       "\n",
       "    .dataframe tbody tr th {\n",
       "        vertical-align: top;\n",
       "    }\n",
       "\n",
       "    .dataframe thead th {\n",
       "        text-align: right;\n",
       "    }\n",
       "</style>\n",
       "<table border=\"1\" class=\"dataframe\">\n",
       "  <thead>\n",
       "    <tr style=\"text-align: right;\">\n",
       "      <th></th>\n",
       "      <th>phenotype</th>\n",
       "      <th>lv</th>\n",
       "      <th>coef</th>\n",
       "      <th>pvalue</th>\n",
       "      <th>pvalue_twosided</th>\n",
       "      <th>summary</th>\n",
       "    </tr>\n",
       "  </thead>\n",
       "  <tbody>\n",
       "    <tr>\n",
       "      <th>0</th>\n",
       "      <td>random_normal-0</td>\n",
       "      <td>LV1</td>\n",
       "      <td>0.010088</td>\n",
       "      <td>0.208194</td>\n",
       "      <td>0.416388</td>\n",
       "      <td>GLS Regression Res...</td>\n",
       "    </tr>\n",
       "    <tr>\n",
       "      <th>1</th>\n",
       "      <td>random_normal-0</td>\n",
       "      <td>LV2</td>\n",
       "      <td>0.003398</td>\n",
       "      <td>0.392886</td>\n",
       "      <td>0.785772</td>\n",
       "      <td>GLS Regression Res...</td>\n",
       "    </tr>\n",
       "    <tr>\n",
       "      <th>2</th>\n",
       "      <td>random_normal-0</td>\n",
       "      <td>LV3</td>\n",
       "      <td>0.008308</td>\n",
       "      <td>0.256323</td>\n",
       "      <td>0.512647</td>\n",
       "      <td>GLS Regression Res...</td>\n",
       "    </tr>\n",
       "    <tr>\n",
       "      <th>3</th>\n",
       "      <td>random_normal-1</td>\n",
       "      <td>LV1</td>\n",
       "      <td>0.013093</td>\n",
       "      <td>0.144843</td>\n",
       "      <td>0.289685</td>\n",
       "      <td>GLS Regression Res...</td>\n",
       "    </tr>\n",
       "    <tr>\n",
       "      <th>4</th>\n",
       "      <td>random_normal-1</td>\n",
       "      <td>LV2</td>\n",
       "      <td>0.004008</td>\n",
       "      <td>0.373797</td>\n",
       "      <td>0.747594</td>\n",
       "      <td>GLS Regression Res...</td>\n",
       "    </tr>\n",
       "  </tbody>\n",
       "</table>\n",
       "</div>"
      ],
      "text/plain": [
       "         phenotype   lv      coef    pvalue  pvalue_twosided  \\\n",
       "0  random_normal-0  LV1  0.010088  0.208194         0.416388   \n",
       "1  random_normal-0  LV2  0.003398  0.392886         0.785772   \n",
       "2  random_normal-0  LV3  0.008308  0.256323         0.512647   \n",
       "3  random_normal-1  LV1  0.013093  0.144843         0.289685   \n",
       "4  random_normal-1  LV2  0.004008  0.373797         0.747594   \n",
       "\n",
       "                                             summary  \n",
       "0                              GLS Regression Res...  \n",
       "1                              GLS Regression Res...  \n",
       "2                              GLS Regression Res...  \n",
       "3                              GLS Regression Res...  \n",
       "4                              GLS Regression Res...  "
      ]
     },
     "execution_count": 26,
     "metadata": {},
     "output_type": "execute_result"
    }
   ],
   "source": [
    "results.head()"
   ]
  },
  {
   "cell_type": "code",
   "execution_count": 27,
   "id": "a541e08c",
   "metadata": {
    "execution": {
     "iopub.execute_input": "2022-02-24T05:31:59.571458Z",
     "iopub.status.busy": "2022-02-24T05:31:59.571247Z",
     "iopub.status.idle": "2022-02-24T05:31:59.629992Z",
     "shell.execute_reply": "2022-02-24T05:31:59.629469Z"
    },
    "papermill": {
     "duration": 0.102836,
     "end_time": "2022-02-24T05:31:59.631470",
     "exception": false,
     "start_time": "2022-02-24T05:31:59.528634",
     "status": "completed"
    },
    "tags": []
   },
   "outputs": [
    {
     "data": {
      "text/html": [
       "<div>\n",
       "<style scoped>\n",
       "    .dataframe tbody tr th:only-of-type {\n",
       "        vertical-align: middle;\n",
       "    }\n",
       "\n",
       "    .dataframe tbody tr th {\n",
       "        vertical-align: top;\n",
       "    }\n",
       "\n",
       "    .dataframe thead th {\n",
       "        text-align: right;\n",
       "    }\n",
       "</style>\n",
       "<table border=\"1\" class=\"dataframe\">\n",
       "  <thead>\n",
       "    <tr style=\"text-align: right;\">\n",
       "      <th></th>\n",
       "      <th>phenotype</th>\n",
       "      <th>lv</th>\n",
       "      <th>coef</th>\n",
       "      <th>pvalue</th>\n",
       "      <th>pvalue_twosided</th>\n",
       "      <th>summary</th>\n",
       "    </tr>\n",
       "  </thead>\n",
       "  <tbody>\n",
       "    <tr>\n",
       "      <th>24</th>\n",
       "      <td>random_normal-8</td>\n",
       "      <td>LV1</td>\n",
       "      <td>0.021787</td>\n",
       "      <td>0.039785</td>\n",
       "      <td>0.079571</td>\n",
       "      <td>GLS Regression Res...</td>\n",
       "    </tr>\n",
       "    <tr>\n",
       "      <th>25</th>\n",
       "      <td>random_normal-8</td>\n",
       "      <td>LV2</td>\n",
       "      <td>0.017532</td>\n",
       "      <td>0.080626</td>\n",
       "      <td>0.161251</td>\n",
       "      <td>GLS Regression Res...</td>\n",
       "    </tr>\n",
       "    <tr>\n",
       "      <th>3</th>\n",
       "      <td>random_normal-1</td>\n",
       "      <td>LV1</td>\n",
       "      <td>0.013093</td>\n",
       "      <td>0.144843</td>\n",
       "      <td>0.289685</td>\n",
       "      <td>GLS Regression Res...</td>\n",
       "    </tr>\n",
       "    <tr>\n",
       "      <th>0</th>\n",
       "      <td>random_normal-0</td>\n",
       "      <td>LV1</td>\n",
       "      <td>0.010088</td>\n",
       "      <td>0.208194</td>\n",
       "      <td>0.416388</td>\n",
       "      <td>GLS Regression Res...</td>\n",
       "    </tr>\n",
       "    <tr>\n",
       "      <th>18</th>\n",
       "      <td>random_normal-6</td>\n",
       "      <td>LV1</td>\n",
       "      <td>0.008375</td>\n",
       "      <td>0.249024</td>\n",
       "      <td>0.498048</td>\n",
       "      <td>GLS Regression Res...</td>\n",
       "    </tr>\n",
       "    <tr>\n",
       "      <th>2</th>\n",
       "      <td>random_normal-0</td>\n",
       "      <td>LV3</td>\n",
       "      <td>0.008308</td>\n",
       "      <td>0.256323</td>\n",
       "      <td>0.512647</td>\n",
       "      <td>GLS Regression Res...</td>\n",
       "    </tr>\n",
       "    <tr>\n",
       "      <th>8</th>\n",
       "      <td>random_normal-2</td>\n",
       "      <td>LV3</td>\n",
       "      <td>0.006218</td>\n",
       "      <td>0.311497</td>\n",
       "      <td>0.622993</td>\n",
       "      <td>GLS Regression Res...</td>\n",
       "    </tr>\n",
       "    <tr>\n",
       "      <th>15</th>\n",
       "      <td>random_normal-5</td>\n",
       "      <td>LV1</td>\n",
       "      <td>0.005684</td>\n",
       "      <td>0.323406</td>\n",
       "      <td>0.646812</td>\n",
       "      <td>GLS Regression Res...</td>\n",
       "    </tr>\n",
       "    <tr>\n",
       "      <th>26</th>\n",
       "      <td>random_normal-8</td>\n",
       "      <td>LV3</td>\n",
       "      <td>0.005456</td>\n",
       "      <td>0.333808</td>\n",
       "      <td>0.667617</td>\n",
       "      <td>GLS Regression Res...</td>\n",
       "    </tr>\n",
       "    <tr>\n",
       "      <th>4</th>\n",
       "      <td>random_normal-1</td>\n",
       "      <td>LV2</td>\n",
       "      <td>0.004008</td>\n",
       "      <td>0.373797</td>\n",
       "      <td>0.747594</td>\n",
       "      <td>GLS Regression Res...</td>\n",
       "    </tr>\n",
       "  </tbody>\n",
       "</table>\n",
       "</div>"
      ],
      "text/plain": [
       "          phenotype   lv      coef    pvalue  pvalue_twosided  \\\n",
       "24  random_normal-8  LV1  0.021787  0.039785         0.079571   \n",
       "25  random_normal-8  LV2  0.017532  0.080626         0.161251   \n",
       "3   random_normal-1  LV1  0.013093  0.144843         0.289685   \n",
       "0   random_normal-0  LV1  0.010088  0.208194         0.416388   \n",
       "18  random_normal-6  LV1  0.008375  0.249024         0.498048   \n",
       "2   random_normal-0  LV3  0.008308  0.256323         0.512647   \n",
       "8   random_normal-2  LV3  0.006218  0.311497         0.622993   \n",
       "15  random_normal-5  LV1  0.005684  0.323406         0.646812   \n",
       "26  random_normal-8  LV3  0.005456  0.333808         0.667617   \n",
       "4   random_normal-1  LV2  0.004008  0.373797         0.747594   \n",
       "\n",
       "                                              summary  \n",
       "24                              GLS Regression Res...  \n",
       "25                              GLS Regression Res...  \n",
       "3                               GLS Regression Res...  \n",
       "0                               GLS Regression Res...  \n",
       "18                              GLS Regression Res...  \n",
       "2                               GLS Regression Res...  \n",
       "8                               GLS Regression Res...  \n",
       "15                              GLS Regression Res...  \n",
       "26                              GLS Regression Res...  \n",
       "4                               GLS Regression Res...  "
      ]
     },
     "execution_count": 27,
     "metadata": {},
     "output_type": "execute_result"
    }
   ],
   "source": [
    "results.sort_values(\"pvalue\").head(10)"
   ]
  },
  {
   "cell_type": "markdown",
   "id": "37220e02",
   "metadata": {
    "papermill": {
     "duration": 0.042428,
     "end_time": "2022-02-24T05:31:59.716388",
     "exception": false,
     "start_time": "2022-02-24T05:31:59.673960",
     "status": "completed"
    },
    "tags": []
   },
   "source": [
    "## Save"
   ]
  },
  {
   "cell_type": "code",
   "execution_count": 28,
   "id": "eac2917d",
   "metadata": {
    "execution": {
     "iopub.execute_input": "2022-02-24T05:31:59.802763Z",
     "iopub.status.busy": "2022-02-24T05:31:59.802560Z",
     "iopub.status.idle": "2022-02-24T05:31:59.825227Z",
     "shell.execute_reply": "2022-02-24T05:31:59.824587Z"
    },
    "papermill": {
     "duration": 0.067855,
     "end_time": "2022-02-24T05:31:59.826785",
     "exception": false,
     "start_time": "2022-02-24T05:31:59.758930",
     "status": "completed"
    },
    "tags": []
   },
   "outputs": [],
   "source": [
    "results.to_pickle(OUTPUT_FILENAME)"
   ]
  },
  {
   "cell_type": "code",
   "execution_count": null,
   "id": "cbc36beb",
   "metadata": {
    "papermill": {
     "duration": 0.042196,
     "end_time": "2022-02-24T05:31:59.912389",
     "exception": false,
     "start_time": "2022-02-24T05:31:59.870193",
     "status": "completed"
    },
    "tags": []
   },
   "outputs": [],
   "source": []
  }
 ],
 "metadata": {
  "jupytext": {
   "cell_metadata_filter": "all,-execution,-papermill,-trusted",
   "formats": "ipynb,py//py:percent"
  },
  "kernelspec": {
   "display_name": "Python 3 (ipykernel)",
   "language": "python",
   "name": "python3"
  },
  "language_info": {
   "codemirror_mode": {
    "name": "ipython",
    "version": 3
   },
   "file_extension": ".py",
   "mimetype": "text/x-python",
   "name": "python",
   "nbconvert_exporter": "python",
   "pygments_lexer": "ipython3",
   "version": "3.8.12"
  },
  "papermill": {
   "default_parameters": {},
   "duration": 284.976164,
   "end_time": "2022-02-24T05:32:00.278080",
   "environment_variables": {},
   "exception": null,
   "input_path": "nbs/15_gsa_gls/25-gls-null_simulations.ipynb",
   "output_path": "nbs/15_gsa_gls/25-gls-null_simulations.run.ipynb",
   "parameters": {},
   "start_time": "2022-02-24T05:27:15.301916",
   "version": "2.2.2"
  }
 },
 "nbformat": 4,
 "nbformat_minor": 5
}
