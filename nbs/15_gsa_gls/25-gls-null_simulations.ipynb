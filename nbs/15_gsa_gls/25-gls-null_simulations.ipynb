{
 "cells": [
  {
   "cell_type": "markdown",
   "id": "3bb6ba85",
   "metadata": {
    "papermill": {
     "duration": 0.052918,
     "end_time": "2021-07-13T18:19:13.607493",
     "exception": false,
     "start_time": "2021-07-13T18:19:13.554575",
     "status": "completed"
    },
    "tags": []
   },
   "source": [
    "# Description"
   ]
  },
  {
   "cell_type": "markdown",
   "id": "b0ac1a1e",
   "metadata": {
    "papermill": {
     "duration": 0.01605,
     "end_time": "2021-07-13T18:19:13.641424",
     "exception": false,
     "start_time": "2021-07-13T18:19:13.625374",
     "status": "completed"
    },
    "tags": []
   },
   "source": [
    "TODO"
   ]
  },
  {
   "cell_type": "markdown",
   "id": "0fb7a5bf",
   "metadata": {
    "papermill": {
     "duration": 0.016123,
     "end_time": "2021-07-13T18:19:13.673279",
     "exception": false,
     "start_time": "2021-07-13T18:19:13.657156",
     "status": "completed"
    },
    "tags": []
   },
   "source": [
    "# Environment variables"
   ]
  },
  {
   "cell_type": "code",
   "execution_count": null,
   "id": "78b93b48",
   "metadata": {
    "papermill": {
     "duration": 0.028634,
     "end_time": "2021-07-13T18:19:13.717965",
     "exception": false,
     "start_time": "2021-07-13T18:19:13.689331",
     "status": "completed"
    },
    "tags": []
   },
   "outputs": [],
   "source": [
    "%load_ext autoreload\n",
    "%autoreload 2"
   ]
  },
  {
   "cell_type": "code",
   "execution_count": null,
   "id": "b6fd932b",
   "metadata": {
    "papermill": {
     "duration": 0.02799,
     "end_time": "2021-07-13T18:19:13.763058",
     "exception": false,
     "start_time": "2021-07-13T18:19:13.735068",
     "status": "completed"
    },
    "tags": []
   },
   "outputs": [],
   "source": [
    "import conf"
   ]
  },
  {
   "cell_type": "code",
   "execution_count": null,
   "id": "bb9e9c60",
   "metadata": {
    "papermill": {
     "duration": 0.028908,
     "end_time": "2021-07-13T18:19:13.808680",
     "exception": false,
     "start_time": "2021-07-13T18:19:13.779772",
     "status": "completed"
    },
    "tags": []
   },
   "outputs": [],
   "source": [
    "N_JOBS = conf.GENERAL[\"N_JOBS\"]\n",
    "display(N_JOBS)"
   ]
  },
  {
   "cell_type": "code",
   "execution_count": null,
   "id": "bdb9067d",
   "metadata": {
    "papermill": {
     "duration": 0.032033,
     "end_time": "2021-07-13T18:19:13.859135",
     "exception": false,
     "start_time": "2021-07-13T18:19:13.827102",
     "status": "completed"
    },
    "tags": []
   },
   "outputs": [],
   "source": [
    "%env MKL_NUM_THREADS=$N_JOBS\n",
    "%env OPEN_BLAS_NUM_THREADS=$N_JOBS\n",
    "%env NUMEXPR_NUM_THREADS=$N_JOBS\n",
    "%env OMP_NUM_THREADS=$N_JOBS"
   ]
  },
  {
   "cell_type": "markdown",
   "id": "eb48abab",
   "metadata": {
    "papermill": {
     "duration": 0.017628,
     "end_time": "2021-07-13T18:19:13.896334",
     "exception": false,
     "start_time": "2021-07-13T18:19:13.878706",
     "status": "completed"
    },
    "tags": []
   },
   "source": [
    "# Modules"
   ]
  },
  {
   "cell_type": "code",
   "execution_count": null,
   "id": "2912ffd0",
   "metadata": {
    "papermill": {
     "duration": 0.765338,
     "end_time": "2021-07-13T18:19:14.677976",
     "exception": false,
     "start_time": "2021-07-13T18:19:13.912638",
     "status": "completed"
    },
    "tags": []
   },
   "outputs": [],
   "source": [
    "from pathlib import Path\n",
    "\n",
    "import statsmodels.api as sm\n",
    "import numpy as np\n",
    "import pandas as pd\n",
    "from sklearn.preprocessing import scale\n",
    "from tqdm import tqdm\n",
    "\n",
    "from gls import GLSPhenoplier"
   ]
  },
  {
   "cell_type": "markdown",
   "id": "d1c7328a",
   "metadata": {
    "papermill": {
     "duration": 0.016805,
     "end_time": "2021-07-13T18:19:14.713306",
     "exception": false,
     "start_time": "2021-07-13T18:19:14.696501",
     "status": "completed"
    },
    "tags": []
   },
   "source": [
    "# Settings"
   ]
  },
  {
   "cell_type": "code",
   "execution_count": null,
   "id": "f7da5993",
   "metadata": {},
   "outputs": [],
   "source": [
    "N_SIMULATED_PHENOTYPES = 10"
   ]
  },
  {
   "cell_type": "code",
   "execution_count": null,
   "id": "fc3cd755",
   "metadata": {
    "papermill": {
     "duration": 0.030638,
     "end_time": "2021-07-13T18:19:14.760546",
     "exception": false,
     "start_time": "2021-07-13T18:19:14.729908",
     "status": "completed"
    },
    "tags": []
   },
   "outputs": [],
   "source": [
    "OUTPUT_DIR = conf.RESULTS[\"GLS\"]\n",
    "display(OUTPUT_DIR)\n",
    "\n",
    "OUTPUT_DIR.mkdir(exist_ok=True, parents=True)"
   ]
  },
  {
   "cell_type": "code",
   "execution_count": null,
   "id": "1cc9767e",
   "metadata": {
    "papermill": {
     "duration": 0.03094,
     "end_time": "2021-07-13T18:19:14.808766",
     "exception": false,
     "start_time": "2021-07-13T18:19:14.777826",
     "status": "completed"
    },
    "tags": []
   },
   "outputs": [],
   "source": [
    "OUTPUT_FILENAME = OUTPUT_DIR / \"gls-null_simulations.pkl\"\n",
    "display(OUTPUT_FILENAME)"
   ]
  },
  {
   "cell_type": "markdown",
   "id": "7cc58f68",
   "metadata": {
    "papermill": {
     "duration": 0.021412,
     "end_time": "2021-07-13T18:19:14.848089",
     "exception": false,
     "start_time": "2021-07-13T18:19:14.826677",
     "status": "completed"
    },
    "tags": []
   },
   "source": [
    "# Load data"
   ]
  },
  {
   "cell_type": "markdown",
   "id": "25d3f06e",
   "metadata": {
    "papermill": {
     "duration": 0.017486,
     "end_time": "2021-07-13T18:19:14.885092",
     "exception": false,
     "start_time": "2021-07-13T18:19:14.867606",
     "status": "completed"
    },
    "tags": []
   },
   "source": [
    "## MultiPLIER Z matrix"
   ]
  },
  {
   "cell_type": "code",
   "execution_count": null,
   "id": "e2c1fba1",
   "metadata": {},
   "outputs": [],
   "source": [
    "multiplier_z_matrix = pd.read_pickle(conf.MULTIPLIER[\"MODEL_Z_MATRIX_FILE\"])"
   ]
  },
  {
   "cell_type": "code",
   "execution_count": null,
   "id": "a27abf1e",
   "metadata": {},
   "outputs": [],
   "source": [
    "multiplier_z_matrix.shape"
   ]
  },
  {
   "cell_type": "code",
   "execution_count": null,
   "id": "23d03388",
   "metadata": {},
   "outputs": [],
   "source": [
    "multiplier_z_matrix.head()"
   ]
  },
  {
   "cell_type": "code",
   "execution_count": null,
   "id": "7d6b521f",
   "metadata": {},
   "outputs": [],
   "source": [
    "lv_codes = list(multiplier_z_matrix.columns)\n",
    "display(lv_codes[:5])"
   ]
  },
  {
   "cell_type": "markdown",
   "id": "90f47bac",
   "metadata": {
    "papermill": {
     "duration": 0.017486,
     "end_time": "2021-07-13T18:19:14.885092",
     "exception": false,
     "start_time": "2021-07-13T18:19:14.867606",
     "status": "completed"
    },
    "tags": []
   },
   "source": [
    "## PhenomeXcan (S-MultiXcan)"
   ]
  },
  {
   "cell_type": "code",
   "execution_count": null,
   "id": "3b8627ca",
   "metadata": {
    "papermill": {
     "duration": 0.030937,
     "end_time": "2021-07-13T18:19:14.933032",
     "exception": false,
     "start_time": "2021-07-13T18:19:14.902095",
     "status": "completed"
    },
    "tags": []
   },
   "outputs": [],
   "source": [
    "# INPUT_SUBSET = \"z_score_std\""
   ]
  },
  {
   "cell_type": "code",
   "execution_count": null,
   "id": "54b2834c",
   "metadata": {
    "papermill": {
     "duration": 0.03058,
     "end_time": "2021-07-13T18:19:14.982785",
     "exception": false,
     "start_time": "2021-07-13T18:19:14.952205",
     "status": "completed"
    },
    "tags": []
   },
   "outputs": [],
   "source": [
    "# INPUT_STEM = \"projection-smultixcan-efo_partial-mashr-zscores\""
   ]
  },
  {
   "cell_type": "code",
   "execution_count": null,
   "id": "b69b9c38",
   "metadata": {
    "papermill": {
     "duration": 0.030024,
     "end_time": "2021-07-13T18:19:15.030958",
     "exception": false,
     "start_time": "2021-07-13T18:19:15.000934",
     "status": "completed"
    },
    "tags": []
   },
   "outputs": [],
   "source": [
    "# input_filepath = Path(\n",
    "#     conf.RESULTS[\"DATA_TRANSFORMATIONS_DIR\"],\n",
    "#     INPUT_SUBSET,\n",
    "#     f\"{INPUT_SUBSET}-{INPUT_STEM}.pkl\",\n",
    "# ).resolve()"
   ]
  },
  {
   "cell_type": "code",
   "execution_count": null,
   "id": "03c84c26",
   "metadata": {
    "papermill": {
     "duration": 0.044967,
     "end_time": "2021-07-13T18:19:15.094231",
     "exception": false,
     "start_time": "2021-07-13T18:19:15.049264",
     "status": "completed"
    },
    "tags": []
   },
   "outputs": [],
   "source": [
    "# data = pd.read_pickle(input_filepath)"
   ]
  },
  {
   "cell_type": "code",
   "execution_count": null,
   "id": "1c519104",
   "metadata": {
    "papermill": {
     "duration": 0.031125,
     "end_time": "2021-07-13T18:19:15.146586",
     "exception": false,
     "start_time": "2021-07-13T18:19:15.115461",
     "status": "completed"
    },
    "tags": []
   },
   "outputs": [],
   "source": [
    "# data.shape"
   ]
  },
  {
   "cell_type": "code",
   "execution_count": null,
   "id": "f125df2d",
   "metadata": {
    "papermill": {
     "duration": 0.044213,
     "end_time": "2021-07-13T18:19:15.209107",
     "exception": false,
     "start_time": "2021-07-13T18:19:15.164894",
     "status": "completed"
    },
    "tags": []
   },
   "outputs": [],
   "source": [
    "# data.head()"
   ]
  },
  {
   "cell_type": "markdown",
   "id": "8353aedd",
   "metadata": {
    "papermill": {
     "duration": 0.021719,
     "end_time": "2021-07-13T18:19:16.269567",
     "exception": false,
     "start_time": "2021-07-13T18:19:16.247848",
     "status": "completed"
    },
    "tags": []
   },
   "source": [
    "# GLSPhenoplier"
   ]
  },
  {
   "cell_type": "markdown",
   "id": "b655f443",
   "metadata": {
    "papermill": {
     "duration": 0.021942,
     "end_time": "2021-07-13T18:19:16.707835",
     "exception": false,
     "start_time": "2021-07-13T18:19:16.685893",
     "status": "completed"
    },
    "tags": []
   },
   "source": [
    "## Load `lv_weights`"
   ]
  },
  {
   "cell_type": "code",
   "execution_count": null,
   "id": "2b5031b8",
   "metadata": {},
   "outputs": [],
   "source": [
    "lv_weights = GLSPhenoplier._get_data(\n",
    "    conf.PHENOMEXCAN[\"SMULTIXCAN_EFO_PARTIAL_MASHR_ZSCORES_FILE\"]\n",
    ")[2]"
   ]
  },
  {
   "cell_type": "code",
   "execution_count": null,
   "id": "b7de6656",
   "metadata": {},
   "outputs": [],
   "source": [
    "lv_weights.shape"
   ]
  },
  {
   "cell_type": "code",
   "execution_count": null,
   "id": "d2f145ce",
   "metadata": {},
   "outputs": [],
   "source": [
    "lv_weights.head()"
   ]
  },
  {
   "cell_type": "markdown",
   "id": "b8ea0240",
   "metadata": {
    "papermill": {
     "duration": 0.021942,
     "end_time": "2021-07-13T18:19:16.707835",
     "exception": false,
     "start_time": "2021-07-13T18:19:16.685893",
     "status": "completed"
    },
    "tags": []
   },
   "source": [
    "## Run"
   ]
  },
  {
   "cell_type": "code",
   "execution_count": null,
   "id": "82ebb589",
   "metadata": {},
   "outputs": [],
   "source": [
    "rs = np.random.RandomState(0)"
   ]
  },
  {
   "cell_type": "code",
   "execution_count": null,
   "id": "71df13d7",
   "metadata": {
    "papermill": {
     "duration": 24762.52063,
     "end_time": "2021-07-14T01:11:59.250634",
     "exception": false,
     "start_time": "2021-07-13T18:19:16.730004",
     "status": "completed"
    },
    "tags": []
   },
   "outputs": [],
   "source": [
    "results = []\n",
    "\n",
    "pbar = tqdm(total=int(N_SIMULATED_PHENOTYPES * len(lv_codes)))\n",
    "\n",
    "for idx in range(N_SIMULATED_PHENOTYPES):\n",
    "    # generate a random phenotype\n",
    "    phenotype_code = f\"random_normal-{idx}\"\n",
    "\n",
    "    phenotype = pd.Series(\n",
    "        # use abs to simulate MultiPLIER z-scores (always positives)\n",
    "        np.abs(rs.normal(size=lv_weights.shape[0])),\n",
    "        index=lv_weights.index.copy(),\n",
    "        name=phenotype_code,\n",
    "    )\n",
    "\n",
    "    # compute an association for all LVs\n",
    "    for lv_code in lv_codes[:3]:\n",
    "        pbar.set_description(f\"{phenotype_code} - {lv_code}\")\n",
    "\n",
    "        gls_model = GLSPhenoplier(\n",
    "            smultixcan_result_set_filepath=conf.PHENOMEXCAN[\n",
    "                \"SMULTIXCAN_EFO_PARTIAL_MASHR_ZSCORES_FILE\"\n",
    "            ]\n",
    "        )\n",
    "        gls_model.fit_named(lv_code, phenotype)\n",
    "        res = gls_model.results\n",
    "\n",
    "        results.append(\n",
    "            {\n",
    "                \"phenotype\": phenotype_code,\n",
    "                \"lv\": lv_code,\n",
    "                \"coef\": res.params.loc[\"lv\"],\n",
    "                \"pvalue\": res.pvalues_onesided.loc[\"lv\"],\n",
    "                \"pvalue_twosided\": res.pvalues.loc[\"lv\"],\n",
    "                \"summary\": gls_model.results_summary,\n",
    "            }\n",
    "        )\n",
    "\n",
    "        # save results every 10 models trained\n",
    "        if (idx % 10) == 0:\n",
    "            pd.DataFrame(results).to_pickle(OUTPUT_FILENAME)\n",
    "\n",
    "        pbar.update(1)\n",
    "\n",
    "pbar.close()"
   ]
  },
  {
   "cell_type": "code",
   "execution_count": null,
   "id": "e24d0732",
   "metadata": {
    "papermill": {
     "duration": 0.913087,
     "end_time": "2021-07-14T01:12:01.008630",
     "exception": false,
     "start_time": "2021-07-14T01:12:00.095543",
     "status": "completed"
    },
    "tags": []
   },
   "outputs": [],
   "source": [
    "results = pd.DataFrame(results)"
   ]
  },
  {
   "cell_type": "code",
   "execution_count": null,
   "id": "509f93be",
   "metadata": {
    "papermill": {
     "duration": 0.851426,
     "end_time": "2021-07-14T01:12:02.689215",
     "exception": false,
     "start_time": "2021-07-14T01:12:01.837789",
     "status": "completed"
    },
    "tags": []
   },
   "outputs": [],
   "source": [
    "results.shape"
   ]
  },
  {
   "cell_type": "code",
   "execution_count": null,
   "id": "5dd06126",
   "metadata": {
    "papermill": {
     "duration": 0.881399,
     "end_time": "2021-07-14T01:12:04.389615",
     "exception": false,
     "start_time": "2021-07-14T01:12:03.508216",
     "status": "completed"
    },
    "tags": []
   },
   "outputs": [],
   "source": [
    "results.head()"
   ]
  },
  {
   "cell_type": "code",
   "execution_count": null,
   "id": "a541e08c",
   "metadata": {
    "papermill": {
     "duration": 0.914562,
     "end_time": "2021-07-14T01:12:06.163803",
     "exception": false,
     "start_time": "2021-07-14T01:12:05.249241",
     "status": "completed"
    },
    "tags": []
   },
   "outputs": [],
   "source": [
    "results.sort_values(\"pvalue\").head(10)"
   ]
  },
  {
   "cell_type": "markdown",
   "id": "37220e02",
   "metadata": {
    "papermill": {
     "duration": 0.850472,
     "end_time": "2021-07-14T01:12:07.851693",
     "exception": false,
     "start_time": "2021-07-14T01:12:07.001221",
     "status": "completed"
    },
    "tags": []
   },
   "source": [
    "## Save"
   ]
  },
  {
   "cell_type": "code",
   "execution_count": null,
   "id": "eac2917d",
   "metadata": {
    "papermill": {
     "duration": 1.548956,
     "end_time": "2021-07-14T01:12:10.298766",
     "exception": false,
     "start_time": "2021-07-14T01:12:08.749810",
     "status": "completed"
    },
    "tags": []
   },
   "outputs": [],
   "source": [
    "results.to_pickle(OUTPUT_FILENAME)"
   ]
  },
  {
   "cell_type": "code",
   "execution_count": null,
   "id": "cbc36beb",
   "metadata": {
    "papermill": {
     "duration": 0.828404,
     "end_time": "2021-07-14T01:12:11.993638",
     "exception": false,
     "start_time": "2021-07-14T01:12:11.165234",
     "status": "completed"
    },
    "tags": []
   },
   "outputs": [],
   "source": []
  }
 ],
 "metadata": {
  "jupytext": {
   "cell_metadata_filter": "all,-execution,-papermill,-trusted",
   "formats": "ipynb,py//py:percent"
  },
  "kernelspec": {
   "display_name": "Python 3 (ipykernel)",
   "language": "python",
   "name": "python3"
  },
  "language_info": {
   "codemirror_mode": {
    "name": "ipython",
    "version": 3
   },
   "file_extension": ".py",
   "mimetype": "text/x-python",
   "name": "python",
   "nbconvert_exporter": "python",
   "pygments_lexer": "ipython3",
   "version": "3.8.12"
  },
  "papermill": {
   "default_parameters": {},
   "duration": 24782.138194,
   "end_time": "2021-07-14T01:12:14.711855",
   "environment_variables": {},
   "exception": null,
   "input_path": "08_gsa_gls/30-gls_on_phenotypes-phenomexcan.ipynb",
   "output_path": "08_gsa_gls/30-gls_on_phenotypes-phenomexcan.run.ipynb",
   "parameters": {},
   "start_time": "2021-07-13T18:19:12.573661",
   "version": "2.2.2"
  }
 },
 "nbformat": 4,
 "nbformat_minor": 5
}
