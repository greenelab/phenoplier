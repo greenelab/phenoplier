{
 "cells": [
  {
   "cell_type": "markdown",
   "id": "b7acf0c2",
   "metadata": {
    "papermill": {
     "duration": 0.038207,
     "end_time": "2022-02-24T05:32:03.755452",
     "exception": false,
     "start_time": "2022-02-24T05:32:03.717245",
     "status": "completed"
    },
    "tags": []
   },
   "source": [
    "# Description"
   ]
  },
  {
   "cell_type": "markdown",
   "id": "2653adfb",
   "metadata": {
    "papermill": {
     "duration": 0.009944,
     "end_time": "2022-02-24T05:32:03.780673",
     "exception": false,
     "start_time": "2022-02-24T05:32:03.770729",
     "status": "completed"
    },
    "tags": []
   },
   "source": [
    "It summarizes the GLS results on PhenomeXcan, adjusting pvalues using FDR, and saving the final results to a pickle file for later use."
   ]
  },
  {
   "cell_type": "markdown",
   "id": "fb645f46",
   "metadata": {
    "papermill": {
     "duration": 0.008401,
     "end_time": "2022-02-24T05:32:03.797668",
     "exception": false,
     "start_time": "2022-02-24T05:32:03.789267",
     "status": "completed"
    },
    "tags": []
   },
   "source": [
    "# Modules"
   ]
  },
  {
   "cell_type": "code",
   "execution_count": 1,
   "id": "7ce51c68",
   "metadata": {
    "papermill": {
     "duration": 0.861241,
     "end_time": "2022-02-24T05:32:04.667481",
     "exception": false,
     "start_time": "2022-02-24T05:32:03.806240",
     "status": "completed"
    },
    "tags": []
   },
   "outputs": [],
   "source": [
    "from pathlib import Path\n",
    "\n",
    "import numpy as np\n",
    "import pandas as pd\n",
    "from statsmodels.stats.multitest import multipletests\n",
    "import matplotlib.pyplot as plt\n",
    "import matplotlib as mpl\n",
    "import seaborn as sns\n",
    "\n",
    "import conf\n",
    "from phenoplier_plots import qqplot"
   ]
  },
  {
   "cell_type": "markdown",
   "id": "654985a3",
   "metadata": {
    "papermill": {
     "duration": 0.008701,
     "end_time": "2022-02-24T05:32:04.685435",
     "exception": false,
     "start_time": "2022-02-24T05:32:04.676734",
     "status": "completed"
    },
    "tags": []
   },
   "source": [
    "# Settings"
   ]
  },
  {
   "cell_type": "code",
   "execution_count": 2,
   "id": "d4e1bf58-d0ac-455a-97d8-1d892b4a38d6",
   "metadata": {},
   "outputs": [],
   "source": [
    "N_PHENOTYPES = 4091\n",
    "N_LVS = 987"
   ]
  },
  {
   "cell_type": "code",
   "execution_count": 3,
   "id": "9ba4e01c",
   "metadata": {
    "papermill": {
     "duration": 0.016348,
     "end_time": "2022-02-24T05:32:04.710602",
     "exception": false,
     "start_time": "2022-02-24T05:32:04.694254",
     "status": "completed"
    },
    "tags": []
   },
   "outputs": [
    {
     "data": {
      "text/plain": [
       "PosixPath('/opt/data/results/gls')"
      ]
     },
     "metadata": {},
     "output_type": "display_data"
    },
    {
     "data": {
      "text/plain": [
       "'phenomexcan_*/**/*.tsv.gz'"
      ]
     },
     "metadata": {},
     "output_type": "display_data"
    }
   ],
   "source": [
    "INPUT_DIR = conf.RESULTS[\"GLS\"]\n",
    "display(INPUT_DIR)\n",
    "assert INPUT_DIR.exists()\n",
    "\n",
    "INPUT_PATTERN = \"phenomexcan_*/**/*.tsv.gz\"\n",
    "display(INPUT_PATTERN)"
   ]
  },
  {
   "cell_type": "code",
   "execution_count": 4,
   "id": "3f0ceee7-2e59-493d-845c-35d131159f4b",
   "metadata": {},
   "outputs": [],
   "source": [
    "PVALUE_COLUMN = \"pvalue\""
   ]
  },
  {
   "cell_type": "code",
   "execution_count": 5,
   "id": "9b6901c2-e3c5-4dfc-8ff3-b8fdeb12e3fd",
   "metadata": {},
   "outputs": [
    {
     "data": {
      "text/plain": [
       "PosixPath('/opt/data/results/gls')"
      ]
     },
     "metadata": {},
     "output_type": "display_data"
    }
   ],
   "source": [
    "OUTPUT_DIR = conf.RESULTS[\"GLS\"]\n",
    "display(OUTPUT_DIR)\n",
    "OUTPUT_DIR.mkdir(exist_ok=True, parents=True)"
   ]
  },
  {
   "cell_type": "markdown",
   "id": "5f2c6f72-9a30-4ced-bc9a-04b6b3b21384",
   "metadata": {},
   "source": [
    "# Load data"
   ]
  },
  {
   "cell_type": "markdown",
   "id": "1d14b0b8-7358-4c0a-934c-2298b0436f02",
   "metadata": {},
   "source": [
    "## Phenotype info"
   ]
  },
  {
   "cell_type": "code",
   "execution_count": 6,
   "id": "55a31713-f6d3-4639-a8a9-642e7d4e8bf7",
   "metadata": {},
   "outputs": [],
   "source": [
    "pheno_info = pd.read_csv(conf.PHENOMEXCAN[\"UNIFIED_PHENO_INFO_FILE\"], sep=\"\\t\")"
   ]
  },
  {
   "cell_type": "code",
   "execution_count": 7,
   "id": "0cb2c235-1b72-498a-8d98-80950fc48faa",
   "metadata": {},
   "outputs": [
    {
     "data": {
      "text/plain": [
       "(4091, 10)"
      ]
     },
     "execution_count": 7,
     "metadata": {},
     "output_type": "execute_result"
    }
   ],
   "source": [
    "pheno_info.shape"
   ]
  },
  {
   "cell_type": "code",
   "execution_count": 8,
   "id": "c286789f-6d0a-4162-bf8d-7bcf82d9089d",
   "metadata": {},
   "outputs": [
    {
     "data": {
      "text/html": [
       "<div>\n",
       "<style scoped>\n",
       "    .dataframe tbody tr th:only-of-type {\n",
       "        vertical-align: middle;\n",
       "    }\n",
       "\n",
       "    .dataframe tbody tr th {\n",
       "        vertical-align: top;\n",
       "    }\n",
       "\n",
       "    .dataframe thead th {\n",
       "        text-align: right;\n",
       "    }\n",
       "</style>\n",
       "<table border=\"1\" class=\"dataframe\">\n",
       "  <thead>\n",
       "    <tr style=\"text-align: right;\">\n",
       "      <th></th>\n",
       "      <th>pheno_id</th>\n",
       "      <th>full_code</th>\n",
       "      <th>short_code</th>\n",
       "      <th>description</th>\n",
       "      <th>unique_description</th>\n",
       "      <th>type</th>\n",
       "      <th>n</th>\n",
       "      <th>n_cases</th>\n",
       "      <th>n_controls</th>\n",
       "      <th>source</th>\n",
       "    </tr>\n",
       "  </thead>\n",
       "  <tbody>\n",
       "    <tr>\n",
       "      <th>0</th>\n",
       "      <td>0</td>\n",
       "      <td>100001_raw-Food_weight</td>\n",
       "      <td>100001_raw</td>\n",
       "      <td>Food weight</td>\n",
       "      <td>Food weight</td>\n",
       "      <td>continuous_raw</td>\n",
       "      <td>51453</td>\n",
       "      <td>NaN</td>\n",
       "      <td>NaN</td>\n",
       "      <td>UK Biobank</td>\n",
       "    </tr>\n",
       "    <tr>\n",
       "      <th>1</th>\n",
       "      <td>1</td>\n",
       "      <td>100002_raw-Energy</td>\n",
       "      <td>100002_raw</td>\n",
       "      <td>Energy</td>\n",
       "      <td>Energy</td>\n",
       "      <td>continuous_raw</td>\n",
       "      <td>51453</td>\n",
       "      <td>NaN</td>\n",
       "      <td>NaN</td>\n",
       "      <td>UK Biobank</td>\n",
       "    </tr>\n",
       "    <tr>\n",
       "      <th>2</th>\n",
       "      <td>2</td>\n",
       "      <td>100003_raw-Protein</td>\n",
       "      <td>100003_raw</td>\n",
       "      <td>Protein</td>\n",
       "      <td>Protein</td>\n",
       "      <td>continuous_raw</td>\n",
       "      <td>51453</td>\n",
       "      <td>NaN</td>\n",
       "      <td>NaN</td>\n",
       "      <td>UK Biobank</td>\n",
       "    </tr>\n",
       "    <tr>\n",
       "      <th>3</th>\n",
       "      <td>3</td>\n",
       "      <td>100004_raw-Fat</td>\n",
       "      <td>100004_raw</td>\n",
       "      <td>Fat</td>\n",
       "      <td>Fat</td>\n",
       "      <td>continuous_raw</td>\n",
       "      <td>51453</td>\n",
       "      <td>NaN</td>\n",
       "      <td>NaN</td>\n",
       "      <td>UK Biobank</td>\n",
       "    </tr>\n",
       "    <tr>\n",
       "      <th>4</th>\n",
       "      <td>4</td>\n",
       "      <td>100005_raw-Carbohydrate</td>\n",
       "      <td>100005_raw</td>\n",
       "      <td>Carbohydrate</td>\n",
       "      <td>Carbohydrate</td>\n",
       "      <td>continuous_raw</td>\n",
       "      <td>51453</td>\n",
       "      <td>NaN</td>\n",
       "      <td>NaN</td>\n",
       "      <td>UK Biobank</td>\n",
       "    </tr>\n",
       "  </tbody>\n",
       "</table>\n",
       "</div>"
      ],
      "text/plain": [
       "   pheno_id                full_code  short_code   description  \\\n",
       "0         0   100001_raw-Food_weight  100001_raw   Food weight   \n",
       "1         1        100002_raw-Energy  100002_raw        Energy   \n",
       "2         2       100003_raw-Protein  100003_raw       Protein   \n",
       "3         3           100004_raw-Fat  100004_raw           Fat   \n",
       "4         4  100005_raw-Carbohydrate  100005_raw  Carbohydrate   \n",
       "\n",
       "  unique_description            type      n  n_cases  n_controls      source  \n",
       "0        Food weight  continuous_raw  51453      NaN         NaN  UK Biobank  \n",
       "1             Energy  continuous_raw  51453      NaN         NaN  UK Biobank  \n",
       "2            Protein  continuous_raw  51453      NaN         NaN  UK Biobank  \n",
       "3                Fat  continuous_raw  51453      NaN         NaN  UK Biobank  \n",
       "4       Carbohydrate  continuous_raw  51453      NaN         NaN  UK Biobank  "
      ]
     },
     "execution_count": 8,
     "metadata": {},
     "output_type": "execute_result"
    }
   ],
   "source": [
    "pheno_info.head()"
   ]
  },
  {
   "cell_type": "code",
   "execution_count": 9,
   "id": "3c97a69a-a6fa-4868-a20e-88bdb4636641",
   "metadata": {},
   "outputs": [],
   "source": [
    "assert pheno_info[\"short_code\"].is_unique"
   ]
  },
  {
   "cell_type": "code",
   "execution_count": 10,
   "id": "aa15fe3b-cd3c-45c1-ad4e-29b5bc8aa5f9",
   "metadata": {},
   "outputs": [],
   "source": [
    "pheno_code_to_desc_map = pheno_info.set_index(\"short_code\")[\n",
    "    \"unique_description\"\n",
    "].to_dict()"
   ]
  },
  {
   "cell_type": "markdown",
   "id": "d8e6a40d-2049-4bd7-a5e4-77e45723da4f",
   "metadata": {},
   "source": [
    "## GLS results"
   ]
  },
  {
   "cell_type": "markdown",
   "id": "0b8c03b8-78d5-4cbe-b9f2-7c9be063c483",
   "metadata": {},
   "source": [
    "### Get files list"
   ]
  },
  {
   "cell_type": "code",
   "execution_count": 11,
   "id": "f920bc02-8297-4bd9-8601-665f079cbf91",
   "metadata": {},
   "outputs": [
    {
     "data": {
      "text/plain": [
       "[PosixPath('/opt/data/results/gls/phenomexcan_rapid_gwas/gls-gtex_v8_mashr-sub_corr/gls_phenoplier-AB1_OTHER_VIRAL.tsv.gz'),\n",
       " PosixPath('/opt/data/results/gls/phenomexcan_rapid_gwas/gls-gtex_v8_mashr-sub_corr/gls_phenoplier-20002_1134.tsv.gz'),\n",
       " PosixPath('/opt/data/results/gls/phenomexcan_rapid_gwas/gls-gtex_v8_mashr-sub_corr/gls_phenoplier-1747_4.tsv.gz'),\n",
       " PosixPath('/opt/data/results/gls/phenomexcan_rapid_gwas/gls-gtex_v8_mashr-sub_corr/gls_phenoplier-22617_1136.tsv.gz'),\n",
       " PosixPath('/opt/data/results/gls/phenomexcan_rapid_gwas/gls-gtex_v8_mashr-sub_corr/gls_phenoplier-M13_SHOULDER.tsv.gz')]"
      ]
     },
     "metadata": {},
     "output_type": "display_data"
    }
   ],
   "source": [
    "INPUT_FILES = list(INPUT_DIR.glob(INPUT_PATTERN))\n",
    "display(INPUT_FILES[:5])"
   ]
  },
  {
   "cell_type": "code",
   "execution_count": 12,
   "id": "78294bb3-db99-45ae-8c98-44b74737b56d",
   "metadata": {},
   "outputs": [
    {
     "data": {
      "text/plain": [
       "4091"
      ]
     },
     "metadata": {},
     "output_type": "display_data"
    }
   ],
   "source": [
    "_tmp = len(INPUT_FILES)\n",
    "display(_tmp)\n",
    "assert _tmp == N_PHENOTYPES"
   ]
  },
  {
   "cell_type": "markdown",
   "id": "b582e77d-0f1d-4659-a5fd-d963904931cb",
   "metadata": {},
   "source": [
    "### Read results"
   ]
  },
  {
   "cell_type": "code",
   "execution_count": 13,
   "id": "a082aeb1-c444-41f1-9f7e-d935c84cda8c",
   "metadata": {},
   "outputs": [
    {
     "data": {
      "text/plain": [
       "'AB1_OTHER_VIRAL'"
      ]
     },
     "execution_count": 13,
     "metadata": {},
     "output_type": "execute_result"
    }
   ],
   "source": [
    "INPUT_FILES[0].name.split(\"gls_phenoplier-\")[1].split(\".tsv.gz\")[0]"
   ]
  },
  {
   "cell_type": "code",
   "execution_count": 14,
   "id": "18ebfb6c",
   "metadata": {
    "papermill": {
     "duration": 0.023945,
     "end_time": "2022-02-24T05:32:04.808813",
     "exception": false,
     "start_time": "2022-02-24T05:32:04.784868",
     "status": "completed"
    },
    "tags": []
   },
   "outputs": [],
   "source": [
    "dfs = [\n",
    "    pd.read_csv(f, sep=\"\\t\", usecols=[\"lv\", \"pvalue_onesided\"]).assign(\n",
    "        phenotype=f.name.split(\"gls_phenoplier-\")[1].split(\".tsv.gz\")[0]\n",
    "    )\n",
    "    for f in INPUT_FILES\n",
    "]"
   ]
  },
  {
   "cell_type": "code",
   "execution_count": 15,
   "id": "ac3b6041",
   "metadata": {
    "papermill": {
     "duration": 0.015781,
     "end_time": "2022-02-24T05:32:04.834694",
     "exception": false,
     "start_time": "2022-02-24T05:32:04.818913",
     "status": "completed"
    },
    "tags": []
   },
   "outputs": [
    {
     "data": {
      "text/plain": [
       "4091"
      ]
     },
     "metadata": {},
     "output_type": "display_data"
    }
   ],
   "source": [
    "display(len(dfs))\n",
    "assert len(dfs) == N_PHENOTYPES"
   ]
  },
  {
   "cell_type": "code",
   "execution_count": 16,
   "id": "d15f7346",
   "metadata": {
    "papermill": {
     "duration": 0.038689,
     "end_time": "2022-02-24T05:32:04.884154",
     "exception": false,
     "start_time": "2022-02-24T05:32:04.845465",
     "status": "completed"
    },
    "tags": []
   },
   "outputs": [],
   "source": [
    "dfs = pd.concat(dfs, axis=0, ignore_index=True).rename(\n",
    "    columns={\"pvalue_onesided\": \"pvalue\"}\n",
    ")"
   ]
  },
  {
   "cell_type": "code",
   "execution_count": 17,
   "id": "7405b07c-b71a-4a8f-924b-f9ffc7a0b13a",
   "metadata": {},
   "outputs": [
    {
     "data": {
      "text/plain": [
       "(4037817, 3)"
      ]
     },
     "metadata": {},
     "output_type": "display_data"
    }
   ],
   "source": [
    "display(dfs.shape)\n",
    "assert dfs.shape[0] == N_PHENOTYPES * N_LVS"
   ]
  },
  {
   "cell_type": "code",
   "execution_count": 18,
   "id": "921c9f6b-69e2-46ba-9dcd-bce387c6aabc",
   "metadata": {},
   "outputs": [],
   "source": [
    "# add phenotype description\n",
    "dfs = dfs.assign(\n",
    "    phenotype_desc=dfs[\"phenotype\"].apply(lambda x: pheno_code_to_desc_map[x])\n",
    ")\n",
    "dfs = dfs[[\"phenotype\", \"phenotype_desc\", \"lv\", \"pvalue\"]]"
   ]
  },
  {
   "cell_type": "code",
   "execution_count": 19,
   "id": "228787ad-0cbb-4f3b-b964-0bc148a1a305",
   "metadata": {},
   "outputs": [
    {
     "data": {
      "text/html": [
       "<div>\n",
       "<style scoped>\n",
       "    .dataframe tbody tr th:only-of-type {\n",
       "        vertical-align: middle;\n",
       "    }\n",
       "\n",
       "    .dataframe tbody tr th {\n",
       "        vertical-align: top;\n",
       "    }\n",
       "\n",
       "    .dataframe thead th {\n",
       "        text-align: right;\n",
       "    }\n",
       "</style>\n",
       "<table border=\"1\" class=\"dataframe\">\n",
       "  <thead>\n",
       "    <tr style=\"text-align: right;\">\n",
       "      <th></th>\n",
       "      <th>phenotype</th>\n",
       "      <th>phenotype_desc</th>\n",
       "      <th>lv</th>\n",
       "      <th>pvalue</th>\n",
       "    </tr>\n",
       "  </thead>\n",
       "  <tbody>\n",
       "    <tr>\n",
       "      <th>0</th>\n",
       "      <td>AB1_OTHER_VIRAL</td>\n",
       "      <td>Other viral diseases</td>\n",
       "      <td>LV736</td>\n",
       "      <td>0.004725</td>\n",
       "    </tr>\n",
       "    <tr>\n",
       "      <th>1</th>\n",
       "      <td>AB1_OTHER_VIRAL</td>\n",
       "      <td>Other viral diseases</td>\n",
       "      <td>LV320</td>\n",
       "      <td>0.004848</td>\n",
       "    </tr>\n",
       "    <tr>\n",
       "      <th>2</th>\n",
       "      <td>AB1_OTHER_VIRAL</td>\n",
       "      <td>Other viral diseases</td>\n",
       "      <td>LV366</td>\n",
       "      <td>0.005306</td>\n",
       "    </tr>\n",
       "    <tr>\n",
       "      <th>3</th>\n",
       "      <td>AB1_OTHER_VIRAL</td>\n",
       "      <td>Other viral diseases</td>\n",
       "      <td>LV964</td>\n",
       "      <td>0.006106</td>\n",
       "    </tr>\n",
       "    <tr>\n",
       "      <th>4</th>\n",
       "      <td>AB1_OTHER_VIRAL</td>\n",
       "      <td>Other viral diseases</td>\n",
       "      <td>LV92</td>\n",
       "      <td>0.006565</td>\n",
       "    </tr>\n",
       "  </tbody>\n",
       "</table>\n",
       "</div>"
      ],
      "text/plain": [
       "         phenotype        phenotype_desc     lv    pvalue\n",
       "0  AB1_OTHER_VIRAL  Other viral diseases  LV736  0.004725\n",
       "1  AB1_OTHER_VIRAL  Other viral diseases  LV320  0.004848\n",
       "2  AB1_OTHER_VIRAL  Other viral diseases  LV366  0.005306\n",
       "3  AB1_OTHER_VIRAL  Other viral diseases  LV964  0.006106\n",
       "4  AB1_OTHER_VIRAL  Other viral diseases   LV92  0.006565"
      ]
     },
     "execution_count": 19,
     "metadata": {},
     "output_type": "execute_result"
    }
   ],
   "source": [
    "dfs.head()"
   ]
  },
  {
   "cell_type": "code",
   "execution_count": 20,
   "id": "97764d1b-af87-46a2-ab78-53df39b0dde3",
   "metadata": {},
   "outputs": [],
   "source": [
    "_tmp = dfs.groupby(\"phenotype\")[\"lv\"].nunique().unique()\n",
    "assert _tmp.shape[0] == 1\n",
    "assert _tmp[0] == N_LVS"
   ]
  },
  {
   "cell_type": "markdown",
   "id": "f5310838-2f3e-4f4d-b32a-904cefde6a6a",
   "metadata": {},
   "source": [
    "### FDR adjust"
   ]
  },
  {
   "cell_type": "code",
   "execution_count": 21,
   "id": "d7e8301f-3cbe-4fe9-973f-cd26f74c2164",
   "metadata": {},
   "outputs": [],
   "source": [
    "adj_pval = multipletests(dfs[PVALUE_COLUMN], alpha=0.05, method=\"fdr_bh\")\n",
    "dfs = dfs.assign(fdr=adj_pval[1])"
   ]
  },
  {
   "cell_type": "code",
   "execution_count": 22,
   "id": "5878bb72-b4b7-4c8a-9494-f5e9e191b638",
   "metadata": {},
   "outputs": [
    {
     "data": {
      "text/plain": [
       "(4037817, 5)"
      ]
     },
     "execution_count": 22,
     "metadata": {},
     "output_type": "execute_result"
    }
   ],
   "source": [
    "dfs.shape"
   ]
  },
  {
   "cell_type": "code",
   "execution_count": 23,
   "id": "0623dadc-a934-4ae2-b514-8029fd8fbed2",
   "metadata": {},
   "outputs": [
    {
     "data": {
      "text/html": [
       "<div>\n",
       "<style scoped>\n",
       "    .dataframe tbody tr th:only-of-type {\n",
       "        vertical-align: middle;\n",
       "    }\n",
       "\n",
       "    .dataframe tbody tr th {\n",
       "        vertical-align: top;\n",
       "    }\n",
       "\n",
       "    .dataframe thead th {\n",
       "        text-align: right;\n",
       "    }\n",
       "</style>\n",
       "<table border=\"1\" class=\"dataframe\">\n",
       "  <thead>\n",
       "    <tr style=\"text-align: right;\">\n",
       "      <th></th>\n",
       "      <th>phenotype</th>\n",
       "      <th>phenotype_desc</th>\n",
       "      <th>lv</th>\n",
       "      <th>pvalue</th>\n",
       "      <th>fdr</th>\n",
       "    </tr>\n",
       "  </thead>\n",
       "  <tbody>\n",
       "    <tr>\n",
       "      <th>0</th>\n",
       "      <td>AB1_OTHER_VIRAL</td>\n",
       "      <td>Other viral diseases</td>\n",
       "      <td>LV736</td>\n",
       "      <td>0.004725</td>\n",
       "      <td>0.504339</td>\n",
       "    </tr>\n",
       "    <tr>\n",
       "      <th>1</th>\n",
       "      <td>AB1_OTHER_VIRAL</td>\n",
       "      <td>Other viral diseases</td>\n",
       "      <td>LV320</td>\n",
       "      <td>0.004848</td>\n",
       "      <td>0.508291</td>\n",
       "    </tr>\n",
       "    <tr>\n",
       "      <th>2</th>\n",
       "      <td>AB1_OTHER_VIRAL</td>\n",
       "      <td>Other viral diseases</td>\n",
       "      <td>LV366</td>\n",
       "      <td>0.005306</td>\n",
       "      <td>0.523691</td>\n",
       "    </tr>\n",
       "    <tr>\n",
       "      <th>3</th>\n",
       "      <td>AB1_OTHER_VIRAL</td>\n",
       "      <td>Other viral diseases</td>\n",
       "      <td>LV964</td>\n",
       "      <td>0.006106</td>\n",
       "      <td>0.548143</td>\n",
       "    </tr>\n",
       "    <tr>\n",
       "      <th>4</th>\n",
       "      <td>AB1_OTHER_VIRAL</td>\n",
       "      <td>Other viral diseases</td>\n",
       "      <td>LV92</td>\n",
       "      <td>0.006565</td>\n",
       "      <td>0.560048</td>\n",
       "    </tr>\n",
       "  </tbody>\n",
       "</table>\n",
       "</div>"
      ],
      "text/plain": [
       "         phenotype        phenotype_desc     lv    pvalue       fdr\n",
       "0  AB1_OTHER_VIRAL  Other viral diseases  LV736  0.004725  0.504339\n",
       "1  AB1_OTHER_VIRAL  Other viral diseases  LV320  0.004848  0.508291\n",
       "2  AB1_OTHER_VIRAL  Other viral diseases  LV366  0.005306  0.523691\n",
       "3  AB1_OTHER_VIRAL  Other viral diseases  LV964  0.006106  0.548143\n",
       "4  AB1_OTHER_VIRAL  Other viral diseases   LV92  0.006565  0.560048"
      ]
     },
     "execution_count": 23,
     "metadata": {},
     "output_type": "execute_result"
    }
   ],
   "source": [
    "dfs.head()"
   ]
  },
  {
   "cell_type": "markdown",
   "id": "ec45e443-0a39-46a7-85c7-540193a15f25",
   "metadata": {},
   "source": [
    "# QQ-plot"
   ]
  },
  {
   "cell_type": "code",
   "execution_count": 24,
   "id": "de7de0f0-493d-4426-aa14-a330f612407f",
   "metadata": {},
   "outputs": [
    {
     "data": {
      "image/png": "[encoded data removed]",
      "text/plain": [
       "<Figure size 576x576 with 1 Axes>"
      ]
     },
     "metadata": {},
     "output_type": "display_data"
    }
   ],
   "source": [
    "with sns.plotting_context(\"paper\", font_scale=1.8), mpl.rc_context(\n",
    "    {\"lines.markersize\": 3}\n",
    "):\n",
    "    fig, ax = qqplot(dfs[\"pvalue\"])\n",
    "    ax.set_title(f\"PhenomeXcan - {N_PHENOTYPES} traits\")"
   ]
  },
  {
   "cell_type": "markdown",
   "id": "44f26913-0b71-44ba-a884-3a83d221c748",
   "metadata": {},
   "source": [
    "# Top hits"
   ]
  },
  {
   "cell_type": "code",
   "execution_count": 25,
   "id": "d4731278-0adc-47f1-ba18-556e37472026",
   "metadata": {},
   "outputs": [
    {
     "data": {
      "text/html": [
       "<div>\n",
       "<style scoped>\n",
       "    .dataframe tbody tr th:only-of-type {\n",
       "        vertical-align: middle;\n",
       "    }\n",
       "\n",
       "    .dataframe tbody tr th {\n",
       "        vertical-align: top;\n",
       "    }\n",
       "\n",
       "    .dataframe thead th {\n",
       "        text-align: right;\n",
       "    }\n",
       "</style>\n",
       "<table border=\"1\" class=\"dataframe\">\n",
       "  <thead>\n",
       "    <tr style=\"text-align: right;\">\n",
       "      <th></th>\n",
       "      <th>phenotype_desc</th>\n",
       "      <th>lv</th>\n",
       "      <th>pvalue</th>\n",
       "      <th>fdr</th>\n",
       "    </tr>\n",
       "  </thead>\n",
       "  <tbody>\n",
       "    <tr>\n",
       "      <th>3456474</th>\n",
       "      <td>Mean reticulocyte volume</td>\n",
       "      <td>LV30</td>\n",
       "      <td>2.705451e-39</td>\n",
       "      <td>1.092412e-32</td>\n",
       "    </tr>\n",
       "    <tr>\n",
       "      <th>1064973</th>\n",
       "      <td>Heel broadband ultrasound attenuation (right)</td>\n",
       "      <td>LV874</td>\n",
       "      <td>5.970097e-37</td>\n",
       "      <td>1.205308e-30</td>\n",
       "    </tr>\n",
       "    <tr>\n",
       "      <th>3764418</th>\n",
       "      <td>Treatment/medication code: allopurinol (20003_1140875408)</td>\n",
       "      <td>LV770</td>\n",
       "      <td>1.192106e-33</td>\n",
       "      <td>1.604502e-27</td>\n",
       "    </tr>\n",
       "    <tr>\n",
       "      <th>855729</th>\n",
       "      <td>Non-cancer illness code, self-reported: gout</td>\n",
       "      <td>LV770</td>\n",
       "      <td>2.041706e-33</td>\n",
       "      <td>2.061009e-27</td>\n",
       "    </tr>\n",
       "    <tr>\n",
       "      <th>1367982</th>\n",
       "      <td>Heel broadband ultrasound attenuation (left)</td>\n",
       "      <td>LV874</td>\n",
       "      <td>7.094100e-33</td>\n",
       "      <td>5.728935e-27</td>\n",
       "    </tr>\n",
       "    <tr>\n",
       "      <th>4036830</th>\n",
       "      <td>Triglycerides NMR</td>\n",
       "      <td>LV246</td>\n",
       "      <td>2.460305e-32</td>\n",
       "      <td>1.655710e-26</td>\n",
       "    </tr>\n",
       "    <tr>\n",
       "      <th>463890</th>\n",
       "      <td>Heel quantitative ultrasound index (QUI), direct entry (right)</td>\n",
       "      <td>LV874</td>\n",
       "      <td>4.397697e-32</td>\n",
       "      <td>2.015331e-26</td>\n",
       "    </tr>\n",
       "    <tr>\n",
       "      <th>3587745</th>\n",
       "      <td>Heel bone mineral density (BMD) T-score, automated (right)</td>\n",
       "      <td>LV874</td>\n",
       "      <td>4.401984e-32</td>\n",
       "      <td>2.015331e-26</td>\n",
       "    </tr>\n",
       "    <tr>\n",
       "      <th>2039142</th>\n",
       "      <td>Heel bone mineral density (BMD) (right)</td>\n",
       "      <td>LV874</td>\n",
       "      <td>4.492026e-32</td>\n",
       "      <td>2.015331e-26</td>\n",
       "    </tr>\n",
       "    <tr>\n",
       "      <th>4024986</th>\n",
       "      <td>LDL Cholesterol NMR</td>\n",
       "      <td>LV246</td>\n",
       "      <td>9.696207e-32</td>\n",
       "      <td>3.915151e-26</td>\n",
       "    </tr>\n",
       "    <tr>\n",
       "      <th>1177491</th>\n",
       "      <td>Non-cancer illness code, self-reported: high cholesterol</td>\n",
       "      <td>LV246</td>\n",
       "      <td>2.952274e-30</td>\n",
       "      <td>1.083704e-24</td>\n",
       "    </tr>\n",
       "    <tr>\n",
       "      <th>1367983</th>\n",
       "      <td>Heel broadband ultrasound attenuation (left)</td>\n",
       "      <td>LV587</td>\n",
       "      <td>4.250038e-30</td>\n",
       "      <td>1.375249e-24</td>\n",
       "    </tr>\n",
       "    <tr>\n",
       "      <th>3644004</th>\n",
       "      <td>Mean sphered cell volume</td>\n",
       "      <td>LV30</td>\n",
       "      <td>4.427699e-30</td>\n",
       "      <td>1.375249e-24</td>\n",
       "    </tr>\n",
       "    <tr>\n",
       "      <th>455007</th>\n",
       "      <td>Medication for cholesterol, blood pressure, diabetes, or take exogenous hormones: Cholesterol lowering medication</td>\n",
       "      <td>LV246</td>\n",
       "      <td>1.483317e-29</td>\n",
       "      <td>4.278117e-24</td>\n",
       "    </tr>\n",
       "    <tr>\n",
       "      <th>1064974</th>\n",
       "      <td>Heel broadband ultrasound attenuation (right)</td>\n",
       "      <td>LV587</td>\n",
       "      <td>5.101162e-28</td>\n",
       "      <td>1.373171e-22</td>\n",
       "    </tr>\n",
       "    <tr>\n",
       "      <th>1621641</th>\n",
       "      <td>Heel Broadband ultrasound attenuation, direct entry</td>\n",
       "      <td>LV874</td>\n",
       "      <td>1.177400e-27</td>\n",
       "      <td>2.971329e-22</td>\n",
       "    </tr>\n",
       "    <tr>\n",
       "      <th>1367984</th>\n",
       "      <td>Heel broadband ultrasound attenuation (left)</td>\n",
       "      <td>LV918</td>\n",
       "      <td>7.221983e-27</td>\n",
       "      <td>1.715356e-21</td>\n",
       "    </tr>\n",
       "    <tr>\n",
       "      <th>790587</th>\n",
       "      <td>Heel bone mineral density (BMD) (left)</td>\n",
       "      <td>LV874</td>\n",
       "      <td>3.574346e-26</td>\n",
       "      <td>8.018086e-21</td>\n",
       "    </tr>\n",
       "    <tr>\n",
       "      <th>1064975</th>\n",
       "      <td>Heel broadband ultrasound attenuation (right)</td>\n",
       "      <td>LV918</td>\n",
       "      <td>4.652007e-26</td>\n",
       "      <td>9.886292e-21</td>\n",
       "    </tr>\n",
       "    <tr>\n",
       "      <th>3644005</th>\n",
       "      <td>Mean sphered cell volume</td>\n",
       "      <td>LV928</td>\n",
       "      <td>7.930366e-26</td>\n",
       "      <td>1.601068e-20</td>\n",
       "    </tr>\n",
       "    <tr>\n",
       "      <th>1587096</th>\n",
       "      <td>Heel bone mineral density (BMD)</td>\n",
       "      <td>LV874</td>\n",
       "      <td>1.329121e-25</td>\n",
       "      <td>2.555594e-20</td>\n",
       "    </tr>\n",
       "    <tr>\n",
       "      <th>918897</th>\n",
       "      <td>Heel bone mineral density (BMD) T-score, automated</td>\n",
       "      <td>LV874</td>\n",
       "      <td>2.125571e-25</td>\n",
       "      <td>3.733391e-20</td>\n",
       "    </tr>\n",
       "    <tr>\n",
       "      <th>3941091</th>\n",
       "      <td>Heel quantitative ultrasound index (QUI), direct entry</td>\n",
       "      <td>LV874</td>\n",
       "      <td>2.126594e-25</td>\n",
       "      <td>3.733391e-20</td>\n",
       "    </tr>\n",
       "    <tr>\n",
       "      <th>118440</th>\n",
       "      <td>Heel quantitative ultrasound index (QUI), direct entry (left)</td>\n",
       "      <td>LV874</td>\n",
       "      <td>2.955370e-25</td>\n",
       "      <td>4.780701e-20</td>\n",
       "    </tr>\n",
       "    <tr>\n",
       "      <th>2049012</th>\n",
       "      <td>Heel bone mineral density (BMD) T-score, automated (left)</td>\n",
       "      <td>LV874</td>\n",
       "      <td>2.959954e-25</td>\n",
       "      <td>4.780701e-20</td>\n",
       "    </tr>\n",
       "    <tr>\n",
       "      <th>4006233</th>\n",
       "      <td>Monocyte Count</td>\n",
       "      <td>LV787</td>\n",
       "      <td>9.154314e-25</td>\n",
       "      <td>1.421671e-19</td>\n",
       "    </tr>\n",
       "    <tr>\n",
       "      <th>378021</th>\n",
       "      <td>Treatment/medication code: simvastatin (20003_1140861958)</td>\n",
       "      <td>LV246</td>\n",
       "      <td>1.711568e-24</td>\n",
       "      <td>2.559629e-19</td>\n",
       "    </tr>\n",
       "    <tr>\n",
       "      <th>3941092</th>\n",
       "      <td>Heel quantitative ultrasound index (QUI), direct entry</td>\n",
       "      <td>LV587</td>\n",
       "      <td>4.237044e-24</td>\n",
       "      <td>5.899451e-19</td>\n",
       "    </tr>\n",
       "    <tr>\n",
       "      <th>918898</th>\n",
       "      <td>Heel bone mineral density (BMD) T-score, automated</td>\n",
       "      <td>LV587</td>\n",
       "      <td>4.234894e-24</td>\n",
       "      <td>5.899451e-19</td>\n",
       "    </tr>\n",
       "    <tr>\n",
       "      <th>1587097</th>\n",
       "      <td>Heel bone mineral density (BMD)</td>\n",
       "      <td>LV587</td>\n",
       "      <td>6.482746e-24</td>\n",
       "      <td>8.725381e-19</td>\n",
       "    </tr>\n",
       "    <tr>\n",
       "      <th>118441</th>\n",
       "      <td>Heel quantitative ultrasound index (QUI), direct entry (left)</td>\n",
       "      <td>LV587</td>\n",
       "      <td>2.181078e-23</td>\n",
       "      <td>2.668725e-18</td>\n",
       "    </tr>\n",
       "    <tr>\n",
       "      <th>2340177</th>\n",
       "      <td>Monocyte count</td>\n",
       "      <td>LV787</td>\n",
       "      <td>2.176503e-23</td>\n",
       "      <td>2.668725e-18</td>\n",
       "    </tr>\n",
       "    <tr>\n",
       "      <th>2049013</th>\n",
       "      <td>Heel bone mineral density (BMD) T-score, automated (left)</td>\n",
       "      <td>LV587</td>\n",
       "      <td>2.177810e-23</td>\n",
       "      <td>2.668725e-18</td>\n",
       "    </tr>\n",
       "    <tr>\n",
       "      <th>790588</th>\n",
       "      <td>Heel bone mineral density (BMD) (left)</td>\n",
       "      <td>LV587</td>\n",
       "      <td>2.684471e-23</td>\n",
       "      <td>3.188060e-18</td>\n",
       "    </tr>\n",
       "    <tr>\n",
       "      <th>2952117</th>\n",
       "      <td>Monocyte percentage</td>\n",
       "      <td>LV787</td>\n",
       "      <td>3.760828e-23</td>\n",
       "      <td>4.338724e-18</td>\n",
       "    </tr>\n",
       "    <tr>\n",
       "      <th>1367985</th>\n",
       "      <td>Heel broadband ultrasound attenuation (left)</td>\n",
       "      <td>LV94</td>\n",
       "      <td>4.132920e-23</td>\n",
       "      <td>4.635548e-18</td>\n",
       "    </tr>\n",
       "    <tr>\n",
       "      <th>4005246</th>\n",
       "      <td>Reticulocyte Count</td>\n",
       "      <td>LV30</td>\n",
       "      <td>5.757638e-23</td>\n",
       "      <td>6.283322e-18</td>\n",
       "    </tr>\n",
       "    <tr>\n",
       "      <th>3496941</th>\n",
       "      <td>Reticulocyte percentage</td>\n",
       "      <td>LV30</td>\n",
       "      <td>1.199250e-22</td>\n",
       "      <td>1.274303e-17</td>\n",
       "    </tr>\n",
       "    <tr>\n",
       "      <th>1449903</th>\n",
       "      <td>Mean corpuscular haemoglobin concentration</td>\n",
       "      <td>LV928</td>\n",
       "      <td>1.372728e-22</td>\n",
       "      <td>1.421237e-17</td>\n",
       "    </tr>\n",
       "    <tr>\n",
       "      <th>1449904</th>\n",
       "      <td>Mean corpuscular haemoglobin concentration</td>\n",
       "      <td>LV30</td>\n",
       "      <td>1.648984e-22</td>\n",
       "      <td>1.623974e-17</td>\n",
       "    </tr>\n",
       "    <tr>\n",
       "      <th>3312372</th>\n",
       "      <td>Reticulocyte count</td>\n",
       "      <td>LV30</td>\n",
       "      <td>1.627896e-22</td>\n",
       "      <td>1.623974e-17</td>\n",
       "    </tr>\n",
       "    <tr>\n",
       "      <th>3456475</th>\n",
       "      <td>Mean reticulocyte volume</td>\n",
       "      <td>LV928</td>\n",
       "      <td>1.840166e-22</td>\n",
       "      <td>1.769108e-17</td>\n",
       "    </tr>\n",
       "    <tr>\n",
       "      <th>918899</th>\n",
       "      <td>Heel bone mineral density (BMD) T-score, automated</td>\n",
       "      <td>LV918</td>\n",
       "      <td>2.776277e-22</td>\n",
       "      <td>2.547750e-17</td>\n",
       "    </tr>\n",
       "    <tr>\n",
       "      <th>3941093</th>\n",
       "      <td>Heel quantitative ultrasound index (QUI), direct entry</td>\n",
       "      <td>LV918</td>\n",
       "      <td>2.773010e-22</td>\n",
       "      <td>2.547750e-17</td>\n",
       "    </tr>\n",
       "    <tr>\n",
       "      <th>1064976</th>\n",
       "      <td>Heel broadband ultrasound attenuation (right)</td>\n",
       "      <td>LV94</td>\n",
       "      <td>4.406110e-22</td>\n",
       "      <td>3.953570e-17</td>\n",
       "    </tr>\n",
       "    <tr>\n",
       "      <th>1587098</th>\n",
       "      <td>Heel bone mineral density (BMD)</td>\n",
       "      <td>LV918</td>\n",
       "      <td>4.536000e-22</td>\n",
       "      <td>3.981639e-17</td>\n",
       "    </tr>\n",
       "    <tr>\n",
       "      <th>2039143</th>\n",
       "      <td>Heel bone mineral density (BMD) (right)</td>\n",
       "      <td>LV587</td>\n",
       "      <td>5.531928e-22</td>\n",
       "      <td>4.752535e-17</td>\n",
       "    </tr>\n",
       "    <tr>\n",
       "      <th>3587746</th>\n",
       "      <td>Heel bone mineral density (BMD) T-score, automated (right)</td>\n",
       "      <td>LV587</td>\n",
       "      <td>8.341522e-22</td>\n",
       "      <td>6.874311e-17</td>\n",
       "    </tr>\n",
       "    <tr>\n",
       "      <th>463891</th>\n",
       "      <td>Heel quantitative ultrasound index (QUI), direct entry (right)</td>\n",
       "      <td>LV587</td>\n",
       "      <td>8.342163e-22</td>\n",
       "      <td>6.874311e-17</td>\n",
       "    </tr>\n",
       "    <tr>\n",
       "      <th>1621642</th>\n",
       "      <td>Heel Broadband ultrasound attenuation, direct entry</td>\n",
       "      <td>LV587</td>\n",
       "      <td>1.401155e-21</td>\n",
       "      <td>1.131521e-16</td>\n",
       "    </tr>\n",
       "  </tbody>\n",
       "</table>\n",
       "</div>"
      ],
      "text/plain": [
       "                                                                                                            phenotype_desc  \\\n",
       "3456474                                                                                           Mean reticulocyte volume   \n",
       "1064973                                                                      Heel broadband ultrasound attenuation (right)   \n",
       "3764418                                                          Treatment/medication code: allopurinol (20003_1140875408)   \n",
       "855729                                                                        Non-cancer illness code, self-reported: gout   \n",
       "1367982                                                                       Heel broadband ultrasound attenuation (left)   \n",
       "4036830                                                                                                  Triglycerides NMR   \n",
       "463890                                                      Heel quantitative ultrasound index (QUI), direct entry (right)   \n",
       "3587745                                                         Heel bone mineral density (BMD) T-score, automated (right)   \n",
       "2039142                                                                            Heel bone mineral density (BMD) (right)   \n",
       "4024986                                                                                                LDL Cholesterol NMR   \n",
       "1177491                                                           Non-cancer illness code, self-reported: high cholesterol   \n",
       "1367983                                                                       Heel broadband ultrasound attenuation (left)   \n",
       "3644004                                                                                           Mean sphered cell volume   \n",
       "455007   Medication for cholesterol, blood pressure, diabetes, or take exogenous hormones: Cholesterol lowering medication   \n",
       "1064974                                                                      Heel broadband ultrasound attenuation (right)   \n",
       "1621641                                                                Heel Broadband ultrasound attenuation, direct entry   \n",
       "1367984                                                                       Heel broadband ultrasound attenuation (left)   \n",
       "790587                                                                              Heel bone mineral density (BMD) (left)   \n",
       "1064975                                                                      Heel broadband ultrasound attenuation (right)   \n",
       "3644005                                                                                           Mean sphered cell volume   \n",
       "1587096                                                                                    Heel bone mineral density (BMD)   \n",
       "918897                                                                  Heel bone mineral density (BMD) T-score, automated   \n",
       "3941091                                                             Heel quantitative ultrasound index (QUI), direct entry   \n",
       "118440                                                       Heel quantitative ultrasound index (QUI), direct entry (left)   \n",
       "2049012                                                          Heel bone mineral density (BMD) T-score, automated (left)   \n",
       "4006233                                                                                                     Monocyte Count   \n",
       "378021                                                           Treatment/medication code: simvastatin (20003_1140861958)   \n",
       "3941092                                                             Heel quantitative ultrasound index (QUI), direct entry   \n",
       "918898                                                                  Heel bone mineral density (BMD) T-score, automated   \n",
       "1587097                                                                                    Heel bone mineral density (BMD)   \n",
       "118441                                                       Heel quantitative ultrasound index (QUI), direct entry (left)   \n",
       "2340177                                                                                                     Monocyte count   \n",
       "2049013                                                          Heel bone mineral density (BMD) T-score, automated (left)   \n",
       "790588                                                                              Heel bone mineral density (BMD) (left)   \n",
       "2952117                                                                                                Monocyte percentage   \n",
       "1367985                                                                       Heel broadband ultrasound attenuation (left)   \n",
       "4005246                                                                                                 Reticulocyte Count   \n",
       "3496941                                                                                            Reticulocyte percentage   \n",
       "1449903                                                                         Mean corpuscular haemoglobin concentration   \n",
       "1449904                                                                         Mean corpuscular haemoglobin concentration   \n",
       "3312372                                                                                                 Reticulocyte count   \n",
       "3456475                                                                                           Mean reticulocyte volume   \n",
       "918899                                                                  Heel bone mineral density (BMD) T-score, automated   \n",
       "3941093                                                             Heel quantitative ultrasound index (QUI), direct entry   \n",
       "1064976                                                                      Heel broadband ultrasound attenuation (right)   \n",
       "1587098                                                                                    Heel bone mineral density (BMD)   \n",
       "2039143                                                                            Heel bone mineral density (BMD) (right)   \n",
       "3587746                                                         Heel bone mineral density (BMD) T-score, automated (right)   \n",
       "463891                                                      Heel quantitative ultrasound index (QUI), direct entry (right)   \n",
       "1621642                                                                Heel Broadband ultrasound attenuation, direct entry   \n",
       "\n",
       "            lv        pvalue           fdr  \n",
       "3456474   LV30  2.705451e-39  1.092412e-32  \n",
       "1064973  LV874  5.970097e-37  1.205308e-30  \n",
       "3764418  LV770  1.192106e-33  1.604502e-27  \n",
       "855729   LV770  2.041706e-33  2.061009e-27  \n",
       "1367982  LV874  7.094100e-33  5.728935e-27  \n",
       "4036830  LV246  2.460305e-32  1.655710e-26  \n",
       "463890   LV874  4.397697e-32  2.015331e-26  \n",
       "3587745  LV874  4.401984e-32  2.015331e-26  \n",
       "2039142  LV874  4.492026e-32  2.015331e-26  \n",
       "4024986  LV246  9.696207e-32  3.915151e-26  \n",
       "1177491  LV246  2.952274e-30  1.083704e-24  \n",
       "1367983  LV587  4.250038e-30  1.375249e-24  \n",
       "3644004   LV30  4.427699e-30  1.375249e-24  \n",
       "455007   LV246  1.483317e-29  4.278117e-24  \n",
       "1064974  LV587  5.101162e-28  1.373171e-22  \n",
       "1621641  LV874  1.177400e-27  2.971329e-22  \n",
       "1367984  LV918  7.221983e-27  1.715356e-21  \n",
       "790587   LV874  3.574346e-26  8.018086e-21  \n",
       "1064975  LV918  4.652007e-26  9.886292e-21  \n",
       "3644005  LV928  7.930366e-26  1.601068e-20  \n",
       "1587096  LV874  1.329121e-25  2.555594e-20  \n",
       "918897   LV874  2.125571e-25  3.733391e-20  \n",
       "3941091  LV874  2.126594e-25  3.733391e-20  \n",
       "118440   LV874  2.955370e-25  4.780701e-20  \n",
       "2049012  LV874  2.959954e-25  4.780701e-20  \n",
       "4006233  LV787  9.154314e-25  1.421671e-19  \n",
       "378021   LV246  1.711568e-24  2.559629e-19  \n",
       "3941092  LV587  4.237044e-24  5.899451e-19  \n",
       "918898   LV587  4.234894e-24  5.899451e-19  \n",
       "1587097  LV587  6.482746e-24  8.725381e-19  \n",
       "118441   LV587  2.181078e-23  2.668725e-18  \n",
       "2340177  LV787  2.176503e-23  2.668725e-18  \n",
       "2049013  LV587  2.177810e-23  2.668725e-18  \n",
       "790588   LV587  2.684471e-23  3.188060e-18  \n",
       "2952117  LV787  3.760828e-23  4.338724e-18  \n",
       "1367985   LV94  4.132920e-23  4.635548e-18  \n",
       "4005246   LV30  5.757638e-23  6.283322e-18  \n",
       "3496941   LV30  1.199250e-22  1.274303e-17  \n",
       "1449903  LV928  1.372728e-22  1.421237e-17  \n",
       "1449904   LV30  1.648984e-22  1.623974e-17  \n",
       "3312372   LV30  1.627896e-22  1.623974e-17  \n",
       "3456475  LV928  1.840166e-22  1.769108e-17  \n",
       "918899   LV918  2.776277e-22  2.547750e-17  \n",
       "3941093  LV918  2.773010e-22  2.547750e-17  \n",
       "1064976   LV94  4.406110e-22  3.953570e-17  \n",
       "1587098  LV918  4.536000e-22  3.981639e-17  \n",
       "2039143  LV587  5.531928e-22  4.752535e-17  \n",
       "3587746  LV587  8.341522e-22  6.874311e-17  \n",
       "463891   LV587  8.342163e-22  6.874311e-17  \n",
       "1621642  LV587  1.401155e-21  1.131521e-16  "
      ]
     },
     "metadata": {},
     "output_type": "display_data"
    }
   ],
   "source": [
    "with pd.option_context(\"display.max_columns\", None, \"display.max_colwidth\", None):\n",
    "    _tmp = dfs.sort_values(\"fdr\").drop(columns=\"phenotype\")\n",
    "    _tmp = _tmp[_tmp[\"fdr\"] < 0.05]\n",
    "    display(_tmp.head(50))"
   ]
  },
  {
   "cell_type": "markdown",
   "id": "43daf9dd-7530-4e53-8fc0-305aa78b5be3",
   "metadata": {},
   "source": [
    "## LV246"
   ]
  },
  {
   "cell_type": "code",
   "execution_count": 26,
   "id": "d230ce21-91a8-4a15-93ef-f69c459150ec",
   "metadata": {},
   "outputs": [
    {
     "data": {
      "text/html": [
       "<div>\n",
       "<style scoped>\n",
       "    .dataframe tbody tr th:only-of-type {\n",
       "        vertical-align: middle;\n",
       "    }\n",
       "\n",
       "    .dataframe tbody tr th {\n",
       "        vertical-align: top;\n",
       "    }\n",
       "\n",
       "    .dataframe thead th {\n",
       "        text-align: right;\n",
       "    }\n",
       "</style>\n",
       "<table border=\"1\" class=\"dataframe\">\n",
       "  <thead>\n",
       "    <tr style=\"text-align: right;\">\n",
       "      <th></th>\n",
       "      <th>phenotype_desc</th>\n",
       "      <th>lv</th>\n",
       "      <th>pvalue</th>\n",
       "      <th>fdr</th>\n",
       "    </tr>\n",
       "  </thead>\n",
       "  <tbody>\n",
       "    <tr>\n",
       "      <th>4036830</th>\n",
       "      <td>Triglycerides NMR</td>\n",
       "      <td>LV246</td>\n",
       "      <td>2.460305e-32</td>\n",
       "      <td>1.655710e-26</td>\n",
       "    </tr>\n",
       "    <tr>\n",
       "      <th>4024986</th>\n",
       "      <td>LDL Cholesterol NMR</td>\n",
       "      <td>LV246</td>\n",
       "      <td>9.696207e-32</td>\n",
       "      <td>3.915151e-26</td>\n",
       "    </tr>\n",
       "    <tr>\n",
       "      <th>1177491</th>\n",
       "      <td>Non-cancer illness code, self-reported: high cholesterol</td>\n",
       "      <td>LV246</td>\n",
       "      <td>2.952274e-30</td>\n",
       "      <td>1.083704e-24</td>\n",
       "    </tr>\n",
       "    <tr>\n",
       "      <th>455007</th>\n",
       "      <td>Medication for cholesterol, blood pressure, diabetes, or take exogenous hormones: Cholesterol lowering medication</td>\n",
       "      <td>LV246</td>\n",
       "      <td>1.483317e-29</td>\n",
       "      <td>4.278117e-24</td>\n",
       "    </tr>\n",
       "    <tr>\n",
       "      <th>378021</th>\n",
       "      <td>Treatment/medication code: simvastatin (20003_1140861958)</td>\n",
       "      <td>LV246</td>\n",
       "      <td>1.711568e-24</td>\n",
       "      <td>2.559629e-19</td>\n",
       "    </tr>\n",
       "    <tr>\n",
       "      <th>4018077</th>\n",
       "      <td>CH2DB NMR</td>\n",
       "      <td>LV246</td>\n",
       "      <td>1.478299e-20</td>\n",
       "      <td>1.047211e-15</td>\n",
       "    </tr>\n",
       "    <tr>\n",
       "      <th>1303827</th>\n",
       "      <td>Medication for cholesterol, blood pressure or diabetes: Cholesterol lowering medication</td>\n",
       "      <td>LV246</td>\n",
       "      <td>1.518204e-19</td>\n",
       "      <td>9.578481e-15</td>\n",
       "    </tr>\n",
       "    <tr>\n",
       "      <th>3591693</th>\n",
       "      <td>Treatment/medication code: atorvastatin (20003_1141146234)</td>\n",
       "      <td>LV246</td>\n",
       "      <td>4.661357e-19</td>\n",
       "      <td>2.543474e-14</td>\n",
       "    </tr>\n",
       "    <tr>\n",
       "      <th>2109224</th>\n",
       "      <td>Illnesses of father: Alzheimer's disease/dementia</td>\n",
       "      <td>LV246</td>\n",
       "      <td>2.416461e-12</td>\n",
       "      <td>2.764086e-08</td>\n",
       "    </tr>\n",
       "    <tr>\n",
       "      <th>3931227</th>\n",
       "      <td>Illnesses of mother: Alzheimer's disease/dementia</td>\n",
       "      <td>LV246</td>\n",
       "      <td>2.414698e-12</td>\n",
       "      <td>2.764086e-08</td>\n",
       "    </tr>\n",
       "    <tr>\n",
       "      <th>4025983</th>\n",
       "      <td>Alzheimers Disease</td>\n",
       "      <td>LV246</td>\n",
       "      <td>1.117565e-11</td>\n",
       "      <td>1.097937e-07</td>\n",
       "    </tr>\n",
       "    <tr>\n",
       "      <th>272412</th>\n",
       "      <td>Non-butter spread type details: Flora Pro-Active or Benecol</td>\n",
       "      <td>LV246</td>\n",
       "      <td>6.640570e-11</td>\n",
       "      <td>5.633069e-07</td>\n",
       "    </tr>\n",
       "    <tr>\n",
       "      <th>2629370</th>\n",
       "      <td>Illnesses of siblings: Alzheimer's disease/dementia</td>\n",
       "      <td>LV246</td>\n",
       "      <td>7.282529e-11</td>\n",
       "      <td>6.164679e-07</td>\n",
       "    </tr>\n",
       "    <tr>\n",
       "      <th>3107080</th>\n",
       "      <td>Any dementia</td>\n",
       "      <td>LV246</td>\n",
       "      <td>5.246540e-09</td>\n",
       "      <td>2.862779e-05</td>\n",
       "    </tr>\n",
       "    <tr>\n",
       "      <th>746172</th>\n",
       "      <td>Illnesses of father: None of the above (group 1)</td>\n",
       "      <td>LV246</td>\n",
       "      <td>6.762308e-09</td>\n",
       "      <td>3.559969e-05</td>\n",
       "    </tr>\n",
       "    <tr>\n",
       "      <th>2876118</th>\n",
       "      <td>Medication for cholesterol, blood pressure, diabetes, or take exogenous hormones: None of the above</td>\n",
       "      <td>LV246</td>\n",
       "      <td>2.416435e-08</td>\n",
       "      <td>1.100014e-04</td>\n",
       "    </tr>\n",
       "    <tr>\n",
       "      <th>3219594</th>\n",
       "      <td>Treatment/medication code: lipitor 10mg tablet (20003_1141146138)</td>\n",
       "      <td>LV246</td>\n",
       "      <td>3.554286e-08</td>\n",
       "      <td>1.553199e-04</td>\n",
       "    </tr>\n",
       "    <tr>\n",
       "      <th>93765</th>\n",
       "      <td>Treatment/medication code: rosuvastatin (20003_1141192410)</td>\n",
       "      <td>LV246</td>\n",
       "      <td>4.653312e-07</td>\n",
       "      <td>1.366489e-03</td>\n",
       "    </tr>\n",
       "    <tr>\n",
       "      <th>3675592</th>\n",
       "      <td>Illnesses of father: Heart disease</td>\n",
       "      <td>LV246</td>\n",
       "      <td>6.851023e-07</td>\n",
       "      <td>1.888272e-03</td>\n",
       "    </tr>\n",
       "    <tr>\n",
       "      <th>2546465</th>\n",
       "      <td>Dementia</td>\n",
       "      <td>LV246</td>\n",
       "      <td>5.200108e-06</td>\n",
       "      <td>9.578962e-03</td>\n",
       "    </tr>\n",
       "    <tr>\n",
       "      <th>1962160</th>\n",
       "      <td>Mother still alive</td>\n",
       "      <td>LV246</td>\n",
       "      <td>1.153017e-05</td>\n",
       "      <td>1.762844e-02</td>\n",
       "    </tr>\n",
       "    <tr>\n",
       "      <th>2920533</th>\n",
       "      <td>Job SOC coding: Librarians</td>\n",
       "      <td>LV246</td>\n",
       "      <td>2.626747e-05</td>\n",
       "      <td>3.215441e-02</td>\n",
       "    </tr>\n",
       "    <tr>\n",
       "      <th>2742882</th>\n",
       "      <td>Alzheimer’s disease</td>\n",
       "      <td>LV246</td>\n",
       "      <td>3.085285e-05</td>\n",
       "      <td>3.608869e-02</td>\n",
       "    </tr>\n",
       "  </tbody>\n",
       "</table>\n",
       "</div>"
      ],
      "text/plain": [
       "                                                                                                            phenotype_desc  \\\n",
       "4036830                                                                                                  Triglycerides NMR   \n",
       "4024986                                                                                                LDL Cholesterol NMR   \n",
       "1177491                                                           Non-cancer illness code, self-reported: high cholesterol   \n",
       "455007   Medication for cholesterol, blood pressure, diabetes, or take exogenous hormones: Cholesterol lowering medication   \n",
       "378021                                                           Treatment/medication code: simvastatin (20003_1140861958)   \n",
       "4018077                                                                                                          CH2DB NMR   \n",
       "1303827                            Medication for cholesterol, blood pressure or diabetes: Cholesterol lowering medication   \n",
       "3591693                                                         Treatment/medication code: atorvastatin (20003_1141146234)   \n",
       "2109224                                                                  Illnesses of father: Alzheimer's disease/dementia   \n",
       "3931227                                                                  Illnesses of mother: Alzheimer's disease/dementia   \n",
       "4025983                                                                                                 Alzheimers Disease   \n",
       "272412                                                         Non-butter spread type details: Flora Pro-Active or Benecol   \n",
       "2629370                                                                Illnesses of siblings: Alzheimer's disease/dementia   \n",
       "3107080                                                                                                       Any dementia   \n",
       "746172                                                                    Illnesses of father: None of the above (group 1)   \n",
       "2876118                Medication for cholesterol, blood pressure, diabetes, or take exogenous hormones: None of the above   \n",
       "3219594                                                  Treatment/medication code: lipitor 10mg tablet (20003_1141146138)   \n",
       "93765                                                           Treatment/medication code: rosuvastatin (20003_1141192410)   \n",
       "3675592                                                                                 Illnesses of father: Heart disease   \n",
       "2546465                                                                                                           Dementia   \n",
       "1962160                                                                                                 Mother still alive   \n",
       "2920533                                                                                         Job SOC coding: Librarians   \n",
       "2742882                                                                                                Alzheimer’s disease   \n",
       "\n",
       "            lv        pvalue           fdr  \n",
       "4036830  LV246  2.460305e-32  1.655710e-26  \n",
       "4024986  LV246  9.696207e-32  3.915151e-26  \n",
       "1177491  LV246  2.952274e-30  1.083704e-24  \n",
       "455007   LV246  1.483317e-29  4.278117e-24  \n",
       "378021   LV246  1.711568e-24  2.559629e-19  \n",
       "4018077  LV246  1.478299e-20  1.047211e-15  \n",
       "1303827  LV246  1.518204e-19  9.578481e-15  \n",
       "3591693  LV246  4.661357e-19  2.543474e-14  \n",
       "2109224  LV246  2.416461e-12  2.764086e-08  \n",
       "3931227  LV246  2.414698e-12  2.764086e-08  \n",
       "4025983  LV246  1.117565e-11  1.097937e-07  \n",
       "272412   LV246  6.640570e-11  5.633069e-07  \n",
       "2629370  LV246  7.282529e-11  6.164679e-07  \n",
       "3107080  LV246  5.246540e-09  2.862779e-05  \n",
       "746172   LV246  6.762308e-09  3.559969e-05  \n",
       "2876118  LV246  2.416435e-08  1.100014e-04  \n",
       "3219594  LV246  3.554286e-08  1.553199e-04  \n",
       "93765    LV246  4.653312e-07  1.366489e-03  \n",
       "3675592  LV246  6.851023e-07  1.888272e-03  \n",
       "2546465  LV246  5.200108e-06  9.578962e-03  \n",
       "1962160  LV246  1.153017e-05  1.762844e-02  \n",
       "2920533  LV246  2.626747e-05  3.215441e-02  \n",
       "2742882  LV246  3.085285e-05  3.608869e-02  "
      ]
     },
     "metadata": {},
     "output_type": "display_data"
    }
   ],
   "source": [
    "with pd.option_context(\"display.max_columns\", None, \"display.max_colwidth\", None):\n",
    "    _tmp = dfs[dfs[\"lv\"] == \"LV246\"].sort_values(\"fdr\").drop(columns=\"phenotype\")\n",
    "    _tmp = _tmp[_tmp[\"fdr\"] < 0.05]\n",
    "    display(_tmp.head(50))"
   ]
  },
  {
   "cell_type": "markdown",
   "id": "4584fb22-976b-4994-bb78-9c81019058c3",
   "metadata": {},
   "source": [
    "# Optimize data types"
   ]
  },
  {
   "cell_type": "code",
   "execution_count": 27,
   "id": "39b4a3da-9372-492b-b239-fc2d1273ade4",
   "metadata": {},
   "outputs": [
    {
     "data": {
      "text/html": [
       "<div>\n",
       "<style scoped>\n",
       "    .dataframe tbody tr th:only-of-type {\n",
       "        vertical-align: middle;\n",
       "    }\n",
       "\n",
       "    .dataframe tbody tr th {\n",
       "        vertical-align: top;\n",
       "    }\n",
       "\n",
       "    .dataframe thead th {\n",
       "        text-align: right;\n",
       "    }\n",
       "</style>\n",
       "<table border=\"1\" class=\"dataframe\">\n",
       "  <thead>\n",
       "    <tr style=\"text-align: right;\">\n",
       "      <th></th>\n",
       "      <th>phenotype</th>\n",
       "      <th>phenotype_desc</th>\n",
       "      <th>lv</th>\n",
       "      <th>pvalue</th>\n",
       "      <th>fdr</th>\n",
       "    </tr>\n",
       "  </thead>\n",
       "  <tbody>\n",
       "    <tr>\n",
       "      <th>0</th>\n",
       "      <td>AB1_OTHER_VIRAL</td>\n",
       "      <td>Other viral diseases</td>\n",
       "      <td>LV736</td>\n",
       "      <td>0.004725</td>\n",
       "      <td>0.504339</td>\n",
       "    </tr>\n",
       "    <tr>\n",
       "      <th>1</th>\n",
       "      <td>AB1_OTHER_VIRAL</td>\n",
       "      <td>Other viral diseases</td>\n",
       "      <td>LV320</td>\n",
       "      <td>0.004848</td>\n",
       "      <td>0.508291</td>\n",
       "    </tr>\n",
       "    <tr>\n",
       "      <th>2</th>\n",
       "      <td>AB1_OTHER_VIRAL</td>\n",
       "      <td>Other viral diseases</td>\n",
       "      <td>LV366</td>\n",
       "      <td>0.005306</td>\n",
       "      <td>0.523691</td>\n",
       "    </tr>\n",
       "    <tr>\n",
       "      <th>3</th>\n",
       "      <td>AB1_OTHER_VIRAL</td>\n",
       "      <td>Other viral diseases</td>\n",
       "      <td>LV964</td>\n",
       "      <td>0.006106</td>\n",
       "      <td>0.548143</td>\n",
       "    </tr>\n",
       "    <tr>\n",
       "      <th>4</th>\n",
       "      <td>AB1_OTHER_VIRAL</td>\n",
       "      <td>Other viral diseases</td>\n",
       "      <td>LV92</td>\n",
       "      <td>0.006565</td>\n",
       "      <td>0.560048</td>\n",
       "    </tr>\n",
       "  </tbody>\n",
       "</table>\n",
       "</div>"
      ],
      "text/plain": [
       "         phenotype        phenotype_desc     lv    pvalue       fdr\n",
       "0  AB1_OTHER_VIRAL  Other viral diseases  LV736  0.004725  0.504339\n",
       "1  AB1_OTHER_VIRAL  Other viral diseases  LV320  0.004848  0.508291\n",
       "2  AB1_OTHER_VIRAL  Other viral diseases  LV366  0.005306  0.523691\n",
       "3  AB1_OTHER_VIRAL  Other viral diseases  LV964  0.006106  0.548143\n",
       "4  AB1_OTHER_VIRAL  Other viral diseases   LV92  0.006565  0.560048"
      ]
     },
     "execution_count": 27,
     "metadata": {},
     "output_type": "execute_result"
    }
   ],
   "source": [
    "dfs.head()"
   ]
  },
  {
   "cell_type": "code",
   "execution_count": 28,
   "id": "1fa4ab15-9fe9-467a-a365-66d2b591a455",
   "metadata": {},
   "outputs": [
    {
     "data": {
      "text/plain": [
       "Index                  128\n",
       "phenotype         32302536\n",
       "phenotype_desc    32302536\n",
       "lv                32302536\n",
       "pvalue            32302536\n",
       "fdr               32302536\n",
       "dtype: int64"
      ]
     },
     "execution_count": 28,
     "metadata": {},
     "output_type": "execute_result"
    }
   ],
   "source": [
    "dfs.memory_usage()"
   ]
  },
  {
   "cell_type": "code",
   "execution_count": 29,
   "id": "9e651ad8-6f66-4189-a07a-4967891600c4",
   "metadata": {},
   "outputs": [],
   "source": [
    "dfs[\"phenotype\"] = dfs[\"phenotype\"].astype(\"category\")\n",
    "dfs[\"phenotype_desc\"] = dfs[\"phenotype_desc\"].astype(\"category\")\n",
    "dfs[\"lv\"] = dfs[\"lv\"].astype(\"category\")"
   ]
  },
  {
   "cell_type": "code",
   "execution_count": 30,
   "id": "84001a8d-d406-470e-9746-9454602e8871",
   "metadata": {},
   "outputs": [
    {
     "data": {
      "text/html": [
       "<div>\n",
       "<style scoped>\n",
       "    .dataframe tbody tr th:only-of-type {\n",
       "        vertical-align: middle;\n",
       "    }\n",
       "\n",
       "    .dataframe tbody tr th {\n",
       "        vertical-align: top;\n",
       "    }\n",
       "\n",
       "    .dataframe thead th {\n",
       "        text-align: right;\n",
       "    }\n",
       "</style>\n",
       "<table border=\"1\" class=\"dataframe\">\n",
       "  <thead>\n",
       "    <tr style=\"text-align: right;\">\n",
       "      <th></th>\n",
       "      <th>phenotype</th>\n",
       "      <th>phenotype_desc</th>\n",
       "      <th>lv</th>\n",
       "      <th>pvalue</th>\n",
       "      <th>fdr</th>\n",
       "    </tr>\n",
       "  </thead>\n",
       "  <tbody>\n",
       "    <tr>\n",
       "      <th>0</th>\n",
       "      <td>AB1_OTHER_VIRAL</td>\n",
       "      <td>Other viral diseases</td>\n",
       "      <td>LV736</td>\n",
       "      <td>0.004725</td>\n",
       "      <td>0.504339</td>\n",
       "    </tr>\n",
       "    <tr>\n",
       "      <th>1</th>\n",
       "      <td>AB1_OTHER_VIRAL</td>\n",
       "      <td>Other viral diseases</td>\n",
       "      <td>LV320</td>\n",
       "      <td>0.004848</td>\n",
       "      <td>0.508291</td>\n",
       "    </tr>\n",
       "    <tr>\n",
       "      <th>2</th>\n",
       "      <td>AB1_OTHER_VIRAL</td>\n",
       "      <td>Other viral diseases</td>\n",
       "      <td>LV366</td>\n",
       "      <td>0.005306</td>\n",
       "      <td>0.523691</td>\n",
       "    </tr>\n",
       "    <tr>\n",
       "      <th>3</th>\n",
       "      <td>AB1_OTHER_VIRAL</td>\n",
       "      <td>Other viral diseases</td>\n",
       "      <td>LV964</td>\n",
       "      <td>0.006106</td>\n",
       "      <td>0.548143</td>\n",
       "    </tr>\n",
       "    <tr>\n",
       "      <th>4</th>\n",
       "      <td>AB1_OTHER_VIRAL</td>\n",
       "      <td>Other viral diseases</td>\n",
       "      <td>LV92</td>\n",
       "      <td>0.006565</td>\n",
       "      <td>0.560048</td>\n",
       "    </tr>\n",
       "  </tbody>\n",
       "</table>\n",
       "</div>"
      ],
      "text/plain": [
       "         phenotype        phenotype_desc     lv    pvalue       fdr\n",
       "0  AB1_OTHER_VIRAL  Other viral diseases  LV736  0.004725  0.504339\n",
       "1  AB1_OTHER_VIRAL  Other viral diseases  LV320  0.004848  0.508291\n",
       "2  AB1_OTHER_VIRAL  Other viral diseases  LV366  0.005306  0.523691\n",
       "3  AB1_OTHER_VIRAL  Other viral diseases  LV964  0.006106  0.548143\n",
       "4  AB1_OTHER_VIRAL  Other viral diseases   LV92  0.006565  0.560048"
      ]
     },
     "execution_count": 30,
     "metadata": {},
     "output_type": "execute_result"
    }
   ],
   "source": [
    "dfs.head()"
   ]
  },
  {
   "cell_type": "code",
   "execution_count": 31,
   "id": "bc9910a0-35fb-409c-828f-b283d3d0d6d6",
   "metadata": {},
   "outputs": [
    {
     "data": {
      "text/plain": [
       "Index                  128\n",
       "phenotype          8272202\n",
       "phenotype_desc     8272202\n",
       "lv                 8124490\n",
       "pvalue            32302536\n",
       "fdr               32302536\n",
       "dtype: int64"
      ]
     },
     "execution_count": 31,
     "metadata": {},
     "output_type": "execute_result"
    }
   ],
   "source": [
    "dfs.memory_usage()"
   ]
  },
  {
   "cell_type": "markdown",
   "id": "3b38c985-e1e2-4f14-bc6b-ac23d0e8a87a",
   "metadata": {},
   "source": [
    "# Save"
   ]
  },
  {
   "cell_type": "code",
   "execution_count": 32,
   "id": "34f2e127-317c-45c3-99ce-c5f539057153",
   "metadata": {},
   "outputs": [
    {
     "data": {
      "text/plain": [
       "PosixPath('/opt/data/results/gls/gls-summary-phenomexcan.pkl.gz')"
      ]
     },
     "metadata": {},
     "output_type": "display_data"
    }
   ],
   "source": [
    "output_file = OUTPUT_DIR / \"gls-summary-phenomexcan.pkl.gz\"\n",
    "display(output_file)"
   ]
  },
  {
   "cell_type": "code",
   "execution_count": 33,
   "id": "0e32637a-d3fb-4833-93d3-7d680ee8bdbe",
   "metadata": {},
   "outputs": [],
   "source": [
    "dfs.to_pickle(output_file)"
   ]
  },
  {
   "cell_type": "code",
   "execution_count": null,
   "id": "9aff4c2e-cfc7-4313-b5b2-30e59ee5f12b",
   "metadata": {},
   "outputs": [],
   "source": []
  }
 ],
 "metadata": {
  "jupytext": {
   "cell_metadata_filter": "all,-execution,-papermill,-trusted",
   "formats": "ipynb,py//py:percent"
  },
  "kernelspec": {
   "display_name": "Python 3 (ipykernel)",
   "language": "python",
   "name": "python3"
  },
  "language_info": {
   "codemirror_mode": {
    "name": "ipython",
    "version": 3
   },
   "file_extension": ".py",
   "mimetype": "text/x-python",
   "name": "python",
   "nbconvert_exporter": "python",
   "pygments_lexer": "ipython3",
   "version": "3.8.13"
  },
  "papermill": {
   "default_parameters": {},
   "duration": 2.899223,
   "end_time": "2022-02-24T05:32:05.472242",
   "environment_variables": {},
   "exception": null,
   "input_path": "nbs/15_gsa_gls/26-gls-null_simulations-plots.ipynb",
   "output_path": "nbs/15_gsa_gls/26-gls-null_simulations-plots.run.ipynb",
   "parameters": {},
   "start_time": "2022-02-24T05:32:02.573019",
   "version": "2.2.2"
  },
  "toc-autonumbering": true
 },
 "nbformat": 4,
 "nbformat_minor": 5
}
