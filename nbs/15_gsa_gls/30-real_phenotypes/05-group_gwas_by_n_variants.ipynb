{
 "cells": [
  {
   "cell_type": "markdown",
   "id": "49e037c0-adb8-4953-9912-e5fa908d68f5",
   "metadata": {},
   "source": [
    "# Description"
   ]
  },
  {
   "cell_type": "markdown",
   "id": "63cbc8a1-285d-4622-974d-7938f30b3fa3",
   "metadata": {},
   "source": [
    "It groups GWASs acording to the number of variants in each one."
   ]
  },
  {
   "cell_type": "markdown",
   "id": "bee71e8a-45b9-4d48-9cb2-b6f962ee7fb6",
   "metadata": {},
   "source": [
    "# Modules"
   ]
  },
  {
   "cell_type": "code",
   "execution_count": 45,
   "id": "e8a8dfa1-45d6-4691-96db-97ae1a8a8cb5",
   "metadata": {},
   "outputs": [],
   "source": [
    "import sqlite3\n",
    "from pathlib import Path\n",
    "\n",
    "import numpy as np\n",
    "import pandas as pd\n",
    "from tqdm import tqdm\n",
    "\n",
    "import conf"
   ]
  },
  {
   "cell_type": "markdown",
   "id": "f993070d-7ef3-406d-bf4f-e94ebcbe7eda",
   "metadata": {},
   "source": [
    "# Settings"
   ]
  },
  {
   "cell_type": "code",
   "execution_count": 2,
   "id": "bd21926d-10ac-4be7-9f34-94b5c3778ba1",
   "metadata": {},
   "outputs": [
    {
     "data": {
      "text/plain": [
       "PosixPath('/opt/data/data/phenomexcan/gwas_parsing')"
      ]
     },
     "metadata": {},
     "output_type": "display_data"
    }
   ],
   "source": [
    "GWAS_PARSING_BASE_DIR = conf.PHENOMEXCAN[\"BASE_DIR\"] / \"gwas_parsing\"\n",
    "display(GWAS_PARSING_BASE_DIR)\n",
    "GWAS_PARSING_BASE_DIR.mkdir(exist_ok=True, parents=True)"
   ]
  },
  {
   "cell_type": "code",
   "execution_count": 3,
   "id": "3c74ddd4-5611-48f2-9a72-717892b7a61f",
   "metadata": {},
   "outputs": [
    {
     "data": {
      "text/plain": [
       "PosixPath('/opt/data/data/phenomexcan/gwas_parsing/gwas_parsing_n_lines')"
      ]
     },
     "metadata": {},
     "output_type": "display_data"
    }
   ],
   "source": [
    "GWAS_PARSING_N_LINES_DIR = GWAS_PARSING_BASE_DIR / \"gwas_parsing_n_lines\"\n",
    "display(GWAS_PARSING_N_LINES_DIR)\n",
    "GWAS_PARSING_N_LINES_DIR.mkdir(exist_ok=True, parents=True)"
   ]
  },
  {
   "cell_type": "code",
   "execution_count": 4,
   "id": "cb084977-b6ac-4e04-94d2-6fd110c45648",
   "metadata": {},
   "outputs": [
    {
     "data": {
      "text/plain": [
       "PosixPath('/opt/data/data/phenomexcan/gwas_parsing/full')"
      ]
     },
     "metadata": {},
     "output_type": "display_data"
    }
   ],
   "source": [
    "GWAS_PARSING_INPUT_DIR = GWAS_PARSING_BASE_DIR / \"full\"\n",
    "display(GWAS_PARSING_INPUT_DIR)\n",
    "assert GWAS_PARSING_INPUT_DIR.exists()"
   ]
  },
  {
   "cell_type": "markdown",
   "id": "2f71bcd3-fade-4f25-b3a7-718e32382f5e",
   "metadata": {},
   "source": [
    "# Load data"
   ]
  },
  {
   "cell_type": "markdown",
   "id": "4b4a20b3-c443-4348-a3e2-713f25429bdc",
   "metadata": {},
   "source": [
    "## Phenotype info from PhenomeXcan"
   ]
  },
  {
   "cell_type": "code",
   "execution_count": 5,
   "id": "bc3e3b8f-bc8b-4cb7-b531-69d26efd9e01",
   "metadata": {},
   "outputs": [],
   "source": [
    "pheno_info = pd.read_csv(conf.PHENOMEXCAN[\"UNIFIED_PHENO_INFO_FILE\"], sep=\"\\t\")"
   ]
  },
  {
   "cell_type": "code",
   "execution_count": 6,
   "id": "181770a8-cac2-4fcc-972a-79c7938519b4",
   "metadata": {},
   "outputs": [
    {
     "data": {
      "text/plain": [
       "(4091, 10)"
      ]
     },
     "execution_count": 6,
     "metadata": {},
     "output_type": "execute_result"
    }
   ],
   "source": [
    "pheno_info.shape"
   ]
  },
  {
   "cell_type": "code",
   "execution_count": 7,
   "id": "8985ba7c-04f2-4137-bebd-82b02d1efb67",
   "metadata": {},
   "outputs": [
    {
     "data": {
      "text/html": [
       "<div>\n",
       "<style scoped>\n",
       "    .dataframe tbody tr th:only-of-type {\n",
       "        vertical-align: middle;\n",
       "    }\n",
       "\n",
       "    .dataframe tbody tr th {\n",
       "        vertical-align: top;\n",
       "    }\n",
       "\n",
       "    .dataframe thead th {\n",
       "        text-align: right;\n",
       "    }\n",
       "</style>\n",
       "<table border=\"1\" class=\"dataframe\">\n",
       "  <thead>\n",
       "    <tr style=\"text-align: right;\">\n",
       "      <th></th>\n",
       "      <th>pheno_id</th>\n",
       "      <th>full_code</th>\n",
       "      <th>short_code</th>\n",
       "      <th>description</th>\n",
       "      <th>unique_description</th>\n",
       "      <th>type</th>\n",
       "      <th>n</th>\n",
       "      <th>n_cases</th>\n",
       "      <th>n_controls</th>\n",
       "      <th>source</th>\n",
       "    </tr>\n",
       "  </thead>\n",
       "  <tbody>\n",
       "    <tr>\n",
       "      <th>0</th>\n",
       "      <td>0</td>\n",
       "      <td>100001_raw-Food_weight</td>\n",
       "      <td>100001_raw</td>\n",
       "      <td>Food weight</td>\n",
       "      <td>Food weight</td>\n",
       "      <td>continuous_raw</td>\n",
       "      <td>51453</td>\n",
       "      <td>NaN</td>\n",
       "      <td>NaN</td>\n",
       "      <td>UK Biobank</td>\n",
       "    </tr>\n",
       "    <tr>\n",
       "      <th>1</th>\n",
       "      <td>1</td>\n",
       "      <td>100002_raw-Energy</td>\n",
       "      <td>100002_raw</td>\n",
       "      <td>Energy</td>\n",
       "      <td>Energy</td>\n",
       "      <td>continuous_raw</td>\n",
       "      <td>51453</td>\n",
       "      <td>NaN</td>\n",
       "      <td>NaN</td>\n",
       "      <td>UK Biobank</td>\n",
       "    </tr>\n",
       "    <tr>\n",
       "      <th>2</th>\n",
       "      <td>2</td>\n",
       "      <td>100003_raw-Protein</td>\n",
       "      <td>100003_raw</td>\n",
       "      <td>Protein</td>\n",
       "      <td>Protein</td>\n",
       "      <td>continuous_raw</td>\n",
       "      <td>51453</td>\n",
       "      <td>NaN</td>\n",
       "      <td>NaN</td>\n",
       "      <td>UK Biobank</td>\n",
       "    </tr>\n",
       "    <tr>\n",
       "      <th>3</th>\n",
       "      <td>3</td>\n",
       "      <td>100004_raw-Fat</td>\n",
       "      <td>100004_raw</td>\n",
       "      <td>Fat</td>\n",
       "      <td>Fat</td>\n",
       "      <td>continuous_raw</td>\n",
       "      <td>51453</td>\n",
       "      <td>NaN</td>\n",
       "      <td>NaN</td>\n",
       "      <td>UK Biobank</td>\n",
       "    </tr>\n",
       "    <tr>\n",
       "      <th>4</th>\n",
       "      <td>4</td>\n",
       "      <td>100005_raw-Carbohydrate</td>\n",
       "      <td>100005_raw</td>\n",
       "      <td>Carbohydrate</td>\n",
       "      <td>Carbohydrate</td>\n",
       "      <td>continuous_raw</td>\n",
       "      <td>51453</td>\n",
       "      <td>NaN</td>\n",
       "      <td>NaN</td>\n",
       "      <td>UK Biobank</td>\n",
       "    </tr>\n",
       "  </tbody>\n",
       "</table>\n",
       "</div>"
      ],
      "text/plain": [
       "   pheno_id                full_code  short_code   description  \\\n",
       "0         0   100001_raw-Food_weight  100001_raw   Food weight   \n",
       "1         1        100002_raw-Energy  100002_raw        Energy   \n",
       "2         2       100003_raw-Protein  100003_raw       Protein   \n",
       "3         3           100004_raw-Fat  100004_raw           Fat   \n",
       "4         4  100005_raw-Carbohydrate  100005_raw  Carbohydrate   \n",
       "\n",
       "  unique_description            type      n  n_cases  n_controls      source  \n",
       "0        Food weight  continuous_raw  51453      NaN         NaN  UK Biobank  \n",
       "1             Energy  continuous_raw  51453      NaN         NaN  UK Biobank  \n",
       "2            Protein  continuous_raw  51453      NaN         NaN  UK Biobank  \n",
       "3                Fat  continuous_raw  51453      NaN         NaN  UK Biobank  \n",
       "4       Carbohydrate  continuous_raw  51453      NaN         NaN  UK Biobank  "
      ]
     },
     "execution_count": 7,
     "metadata": {},
     "output_type": "execute_result"
    }
   ],
   "source": [
    "pheno_info.head()"
   ]
  },
  {
   "cell_type": "code",
   "execution_count": 89,
   "id": "348f7aa2-dae6-4a1a-ad52-b3288dd6b719",
   "metadata": {},
   "outputs": [
    {
     "data": {
      "text/plain": [
       "UK Biobank          4049\n",
       "Astle_et_al_2016      14\n",
       "MAGNETIC               4\n",
       "BCAC                   3\n",
       "IBD                    3\n",
       "SSGAC                  2\n",
       "Jones_et_al_2016       2\n",
       "PGC                    2\n",
       "MAGIC                  2\n",
       "CNCR-CTG               1\n",
       "ENIGMA                 1\n",
       "CARDIoGRAM_C4D         1\n",
       "GEFOS                  1\n",
       "EAGLE                  1\n",
       "IGAP                   1\n",
       "EGG                    1\n",
       "IMMUNOBASE             1\n",
       "GIANT                  1\n",
       "RA_OKADA               1\n",
       "Name: source, dtype: int64"
      ]
     },
     "execution_count": 89,
     "metadata": {},
     "output_type": "execute_result"
    }
   ],
   "source": [
    "pheno_info[\"source\"].value_counts()"
   ]
  },
  {
   "cell_type": "markdown",
   "id": "72e7dc21-8469-4055-91a9-6543e8b49c0c",
   "metadata": {},
   "source": [
    "## GWAS number of variants"
   ]
  },
  {
   "cell_type": "code",
   "execution_count": 8,
   "id": "a99eaa0a-d550-4828-81f5-0a7d07a22d7d",
   "metadata": {},
   "outputs": [
    {
     "data": {
      "text/plain": [
       "M13_FOREIGNBODY     8496089\n",
       "22617_7112          8496089\n",
       "M13_ANKLEFOOT       8496089\n",
       "22601_81212774      8496089\n",
       "40001_J841          8496089\n",
       "                     ...   \n",
       "20551_1             8496089\n",
       "20003_1140882728    8496089\n",
       "20003_1141172924    8496089\n",
       "K08                 8496089\n",
       "20003_1199          8496089\n",
       "Name: 0, Length: 4197, dtype: int64"
      ]
     },
     "metadata": {},
     "output_type": "display_data"
    }
   ],
   "source": [
    "gwas_n_variants = pd.read_pickle(GWAS_PARSING_BASE_DIR / \"gwas_n_variants.pkl\")\n",
    "display(gwas_n_variants)"
   ]
  },
  {
   "cell_type": "code",
   "execution_count": 9,
   "id": "4da0b22b-f11f-4cfa-85bb-bafddec6cac2",
   "metadata": {},
   "outputs": [],
   "source": [
    "# keep only those phenotypes present in PhenomeXcan\n",
    "_common_pheno_codes = gwas_n_variants.index.intersection(set(pheno_info[\"short_code\"]))\n",
    "assert len(_common_pheno_codes) == pheno_info.shape[0]"
   ]
  },
  {
   "cell_type": "code",
   "execution_count": 10,
   "id": "8a97b016-c34c-4598-9480-1435bb1c01f5",
   "metadata": {},
   "outputs": [],
   "source": [
    "gwas_n_variants = gwas_n_variants.loc[_common_pheno_codes]"
   ]
  },
  {
   "cell_type": "code",
   "execution_count": 11,
   "id": "cd7ecee7-93f9-4cab-8cac-cf318626cf11",
   "metadata": {},
   "outputs": [
    {
     "data": {
      "text/plain": [
       "(4091,)"
      ]
     },
     "execution_count": 11,
     "metadata": {},
     "output_type": "execute_result"
    }
   ],
   "source": [
    "gwas_n_variants.shape"
   ]
  },
  {
   "cell_type": "markdown",
   "id": "d15d2d01-7a86-4981-8941-e27fe3e71107",
   "metadata": {},
   "source": [
    "# Functions"
   ]
  },
  {
   "cell_type": "code",
   "execution_count": 19,
   "id": "26b3f14d-33cf-4e9b-aca2-4c7b0f987e36",
   "metadata": {},
   "outputs": [],
   "source": [
    "def read_gwas_variants(pheno_code):\n",
    "    gwas_data = pd.read_csv(\n",
    "        GWAS_PARSING_INPUT_DIR / f\"{pheno_code}.txt.gz\",\n",
    "        sep=\"\\t\",\n",
    "        usecols=[\"panel_variant_id\"],\n",
    "    ).squeeze()\n",
    "\n",
    "    return set(gwas_data.tolist())"
   ]
  },
  {
   "cell_type": "code",
   "execution_count": 57,
   "id": "cce4125d-82ca-4136-97c0-2c59c1ae14f2",
   "metadata": {},
   "outputs": [],
   "source": [
    "def get_upper_triag(similarity_matrix, k: int = 1):\n",
    "    \"\"\"\n",
    "    It returns the upper triangular matrix of a dataframe representing a\n",
    "    similarity matrix between n elements.\n",
    "    Args:\n",
    "        similarity_matrix: a squared dataframe with a pairwise similarity\n",
    "          matrix. That means the matrix is equal to its transposed version.\n",
    "        k: argument given to numpy.triu function. It indicates the that the\n",
    "          elements of the k-th diagonal to be zeroed.\n",
    "    Returns:\n",
    "        A dataframe with non-selected elements as NaNs.\n",
    "    \"\"\"\n",
    "    mask = np.triu(np.ones(similarity_matrix.shape), k=k).astype(bool)\n",
    "    return similarity_matrix.where(mask)"
   ]
  },
  {
   "cell_type": "markdown",
   "id": "19155c98-c20b-434c-89a2-2247e4dd84bf",
   "metadata": {},
   "source": [
    "# Identify groups of cohorts"
   ]
  },
  {
   "cell_type": "code",
   "execution_count": 20,
   "id": "11728074-3b10-480a-b70a-221340b26993",
   "metadata": {},
   "outputs": [],
   "source": [
    "group_variants = {}"
   ]
  },
  {
   "cell_type": "code",
   "execution_count": 21,
   "id": "486357c4-4c27-4ffc-9a71-7b46912b959a",
   "metadata": {},
   "outputs": [
    {
     "data": {
      "text/plain": [
       "(31,)"
      ]
     },
     "metadata": {},
     "output_type": "display_data"
    },
    {
     "data": {
      "text/plain": [
       "8496089    4049\n",
       "8871980      13\n",
       "8857563       1\n",
       "8869886       1\n",
       "8867946       1\n",
       "Name: 0, dtype: int64"
      ]
     },
     "metadata": {},
     "output_type": "display_data"
    }
   ],
   "source": [
    "df_counts = gwas_n_variants.value_counts()\n",
    "display(df_counts.shape)\n",
    "display(df_counts.head())"
   ]
  },
  {
   "cell_type": "markdown",
   "id": "a43f01f6-e180-4e13-9773-579a0bd7814f",
   "metadata": {},
   "source": [
    "There are 31 groups of GWASs with different number of SNPs.\n",
    "\n",
    "Most GWAS (4049) seem to have the same set of SNPs/variants, which are part of the Rapid GWAS project (UK Biobank)."
   ]
  },
  {
   "cell_type": "markdown",
   "id": "a15afde2-367c-47cc-8c4f-d8b7610896a4",
   "metadata": {},
   "source": [
    "## Rapid GWAS project"
   ]
  },
  {
   "cell_type": "code",
   "execution_count": 22,
   "id": "6f4b3d4d-9a6f-4e14-b62f-b58328f34dd3",
   "metadata": {},
   "outputs": [
    {
     "data": {
      "text/plain": [
       "(4049,)"
      ]
     },
     "metadata": {},
     "output_type": "display_data"
    },
    {
     "data": {
      "text/plain": [
       "M13_FOREIGNBODY     8496089\n",
       "22617_7112          8496089\n",
       "M13_ANKLEFOOT       8496089\n",
       "22601_81212774      8496089\n",
       "40001_J841          8496089\n",
       "                     ...   \n",
       "20551_1             8496089\n",
       "20003_1140882728    8496089\n",
       "20003_1141172924    8496089\n",
       "K08                 8496089\n",
       "20003_1199          8496089\n",
       "Name: 0, Length: 4049, dtype: int64"
      ]
     },
     "metadata": {},
     "output_type": "display_data"
    }
   ],
   "source": [
    "_tmp = gwas_n_variants[gwas_n_variants == 8496089]\n",
    "display(_tmp.shape)\n",
    "display(_tmp)"
   ]
  },
  {
   "cell_type": "code",
   "execution_count": 23,
   "id": "7c450d0b-67dd-4cbc-a916-897c2c37882d",
   "metadata": {},
   "outputs": [],
   "source": [
    "group_snps = read_gwas_variants(_tmp.index[0])"
   ]
  },
  {
   "cell_type": "code",
   "execution_count": 24,
   "id": "0d8598f3-8c6f-4891-a52d-75055259e153",
   "metadata": {},
   "outputs": [],
   "source": [
    "# make sure a random sample of phenotypes in this group really have the same set of SNPs\n",
    "assert group_snps == read_gwas_variants(\"K08\") == read_gwas_variants(\"40001_J841\")"
   ]
  },
  {
   "cell_type": "code",
   "execution_count": 25,
   "id": "421ec9d7-ce81-47bf-ae8b-7372d5e1007f",
   "metadata": {},
   "outputs": [],
   "source": [
    "group_variants[\"rapid\"] = group_snps"
   ]
  },
  {
   "cell_type": "code",
   "execution_count": 26,
   "id": "ca687106-657e-47ad-a8c8-cc36ccbb4ef2",
   "metadata": {},
   "outputs": [
    {
     "data": {
      "text/plain": [
       "['chr20_13499848_T_G_b38',\n",
       " 'chr6_164394161_G_A_b38',\n",
       " 'chr1_236269835_AT_A_b38',\n",
       " 'chr4_145756702_A_G_b38',\n",
       " 'chr5_14728846_C_T_b38']"
      ]
     },
     "execution_count": 26,
     "metadata": {},
     "output_type": "execute_result"
    }
   ],
   "source": [
    "list(group_variants[\"rapid\"])[:5]"
   ]
  },
  {
   "cell_type": "markdown",
   "id": "21baa93f-33b8-4f0d-b4a7-c2a6ab63e1ab",
   "metadata": {},
   "source": [
    "## GTEx GWASs"
   ]
  },
  {
   "cell_type": "markdown",
   "id": "a728a107-5a48-4673-85fa-0877c3214fe4",
   "metadata": {},
   "source": [
    "### Astle GWASs"
   ]
  },
  {
   "cell_type": "code",
   "execution_count": 27,
   "id": "2043fcd3-978b-4f4a-82f2-9a4923996eef",
   "metadata": {},
   "outputs": [
    {
     "data": {
      "text/plain": [
       "(13,)"
      ]
     },
     "metadata": {},
     "output_type": "display_data"
    },
    {
     "data": {
      "text/plain": [
       "Astle_et_al_2016_Eosinophil_counts                        8871980\n",
       "Astle_et_al_2016_Sum_basophil_neutrophil_counts           8871980\n",
       "Astle_et_al_2016_Platelet_count                           8871980\n",
       "Astle_et_al_2016_Lymphocyte_counts                        8871980\n",
       "Astle_et_al_2016_Sum_eosinophil_basophil_counts           8871980\n",
       "Astle_et_al_2016_White_blood_cell_count                   8871980\n",
       "Astle_et_al_2016_High_light_scatter_reticulocyte_count    8871980\n",
       "Astle_et_al_2016_Reticulocyte_count                       8871980\n",
       "Astle_et_al_2016_Myeloid_white_cell_count                 8871980\n",
       "Astle_et_al_2016_Sum_neutrophil_eosinophil_counts         8871980\n",
       "Astle_et_al_2016_Neutrophil_count                         8871980\n",
       "Astle_et_al_2016_Granulocyte_count                        8871980\n",
       "Astle_et_al_2016_Red_blood_cell_count                     8871980\n",
       "Name: 0, dtype: int64"
      ]
     },
     "metadata": {},
     "output_type": "display_data"
    }
   ],
   "source": [
    "_tmp = gwas_n_variants[gwas_n_variants == 8871980]\n",
    "display(_tmp.shape)\n",
    "display(_tmp)"
   ]
  },
  {
   "cell_type": "code",
   "execution_count": 28,
   "id": "69520505-1e9e-43ab-8c6c-488da4119db6",
   "metadata": {},
   "outputs": [],
   "source": [
    "group_snps = read_gwas_variants(_tmp.index[0])"
   ]
  },
  {
   "cell_type": "code",
   "execution_count": 29,
   "id": "c5993a9c-198c-4ab6-b238-35552d9c2c1d",
   "metadata": {},
   "outputs": [],
   "source": [
    "# make sure a random sample of phenotypes really have the same set of SNPs\n",
    "assert (\n",
    "    group_snps\n",
    "    == read_gwas_variants(\"Astle_et_al_2016_Sum_eosinophil_basophil_counts\")\n",
    "    == read_gwas_variants(\"Astle_et_al_2016_Red_blood_cell_count\")\n",
    ")"
   ]
  },
  {
   "cell_type": "code",
   "execution_count": 30,
   "id": "2505aa40-c752-4a3a-a826-f48e0cb840c1",
   "metadata": {},
   "outputs": [],
   "source": [
    "# and are different from the other sets\n",
    "assert group_snps != group_variants[\"rapid\"]"
   ]
  },
  {
   "cell_type": "code",
   "execution_count": 31,
   "id": "b9559278-aa32-4aa2-ab47-44844cd2b8b3",
   "metadata": {},
   "outputs": [],
   "source": [
    "group_variants[\"astle\"] = group_snps"
   ]
  },
  {
   "cell_type": "markdown",
   "id": "3250bba4-6bf2-4d38-85d1-73bbd81c0bee",
   "metadata": {},
   "source": [
    "### Others"
   ]
  },
  {
   "cell_type": "code",
   "execution_count": 32,
   "id": "c6ba02f0-7c57-4ae1-910a-b29175cf3a65",
   "metadata": {},
   "outputs": [
    {
     "data": {
      "text/plain": [
       "(29,)"
      ]
     },
     "metadata": {},
     "output_type": "display_data"
    },
    {
     "data": {
      "text/plain": [
       "MAGNETIC_IDL.TG                                 8865801\n",
       "IBD.EUR.Crohns_Disease                          8860908\n",
       "EGG_BW3_EUR                                     8844013\n",
       "MAGNETIC_LDL.C                                  8867946\n",
       "ENIGMA_Intracraneal_Volume                      8844641\n",
       "RA_OKADA_TRANS_ETHNIC                           8857563\n",
       "MAGIC_ln_FastingInsulin                         8830280\n",
       "SSGAC_Depressive_Symptoms                       8851108\n",
       "MAGNETIC_HDL.C                                  8868284\n",
       "PGC_ADHD_EUR_2017                               8848821\n",
       "IGAP_Alzheimer                                  8828376\n",
       "GIANT_HEIGHT                                    8836262\n",
       "IBD.EUR.Inflammatory_Bowel_Disease              8858739\n",
       "pgc.scz2                                        8853745\n",
       "Jones_et_al_2016_SleepDuration                  8870443\n",
       "IBD.EUR.Ulcerative_Colitis                      8857077\n",
       "MAGIC_FastingGlucose                            8841109\n",
       "EAGLE_Eczema                                    8859248\n",
       "IMMUNOBASE_Systemic_lupus_erythematosus_hg19    8847651\n",
       "BCAC_ER_negative_BreastCancer_EUR               8860456\n",
       "CARDIoGRAM_C4D_CAD_ADDITIVE                     8855158\n",
       "MAGNETIC_CH2.DB.ratio                           8866025\n",
       "Astle_et_al_2016_Monocyte_count                 8871571\n",
       "SSGAC_Education_Years_Pooled                    8853724\n",
       "CNCR_Insomnia_all                               8869886\n",
       "BCAC_Overall_BreastCancer_EUR                   8864196\n",
       "GEFOS_Forearm                                   8855004\n",
       "BCAC_ER_positive_BreastCancer_EUR               8865808\n",
       "Jones_et_al_2016_Chronotype                     8870362\n",
       "Name: 0, dtype: int64"
      ]
     },
     "metadata": {},
     "output_type": "display_data"
    }
   ],
   "source": [
    "_tmp = gwas_n_variants[gwas_n_variants.isin(df_counts[df_counts == 1].index)]\n",
    "display(_tmp.shape)\n",
    "display(_tmp)"
   ]
  },
  {
   "cell_type": "code",
   "execution_count": 34,
   "id": "394195c4-d865-42c0-a518-c16a3206eeb9",
   "metadata": {},
   "outputs": [
    {
     "name": "stderr",
     "output_type": "stream",
     "text": [
      "100%|███████████████████████████████████████████████████████████████| 29/29 [08:07<00:00, 16.81s/it]\n"
     ]
    }
   ],
   "source": [
    "for pheno in tqdm(_tmp.index, ncols=100):\n",
    "    group_snps = read_gwas_variants(pheno)\n",
    "    assert group_snps != group_variants[\"rapid\"]\n",
    "    assert group_snps != group_variants[\"astle\"]\n",
    "    group_variants[pheno] = group_snps"
   ]
  },
  {
   "cell_type": "markdown",
   "id": "c2e02371-0e0a-4309-b6d5-1c70ed7afa62",
   "metadata": {},
   "source": [
    "# Others: merge GWAS snps with SNPs in models"
   ]
  },
  {
   "cell_type": "markdown",
   "id": "2902ade1-dd00-4bb9-bbd3-86adabc0a397",
   "metadata": {},
   "source": [
    "Here I want to see whether groups of SNPs are really different in terms of their intersection with model SNPs.\n",
    "\n",
    "I only consider groups that are not \"rapid\" nor \"astle\"."
   ]
  },
  {
   "cell_type": "markdown",
   "id": "810a25f5-f423-4122-92a2-badb49a9f09e",
   "metadata": {
    "papermill": {
     "duration": 0.027069,
     "end_time": "2021-05-01T02:06:16.875152",
     "exception": false,
     "start_time": "2021-05-01T02:06:16.848083",
     "status": "completed"
    },
    "tags": []
   },
   "source": [
    "## Load SNPs in predictions models"
   ]
  },
  {
   "cell_type": "code",
   "execution_count": 35,
   "id": "c94c4cbb",
   "metadata": {
    "papermill": {
     "duration": 0.036493,
     "end_time": "2021-05-01T02:06:16.938020",
     "exception": false,
     "start_time": "2021-05-01T02:06:16.901527",
     "status": "completed"
    },
    "tags": []
   },
   "outputs": [],
   "source": [
    "mashr_models_db_files = list(\n",
    "    conf.PHENOMEXCAN[\"PREDICTION_MODELS\"][\"MASHR\"].glob(\"*.db\")\n",
    ")"
   ]
  },
  {
   "cell_type": "code",
   "execution_count": 36,
   "id": "9015c1d7",
   "metadata": {
    "papermill": {
     "duration": 0.036168,
     "end_time": "2021-05-01T02:06:17.001337",
     "exception": false,
     "start_time": "2021-05-01T02:06:16.965169",
     "status": "completed"
    },
    "tags": []
   },
   "outputs": [],
   "source": [
    "assert len(mashr_models_db_files) == 49"
   ]
  },
  {
   "cell_type": "code",
   "execution_count": 37,
   "id": "d5a28a46",
   "metadata": {
    "papermill": {
     "duration": 1.581321,
     "end_time": "2021-05-01T02:06:18.608741",
     "exception": false,
     "start_time": "2021-05-01T02:06:17.027420",
     "status": "completed"
    },
    "tags": []
   },
   "outputs": [
    {
     "name": "stdout",
     "output_type": "stream",
     "text": [
      "Processing mashr_Skin_Not_Sun_Exposed_Suprapubic.db\n",
      "Processing mashr_Cells_EBV-transformed_lymphocytes.db\n",
      "Processing mashr_Brain_Frontal_Cortex_BA9.db\n",
      "Processing mashr_Kidney_Cortex.db\n",
      "Processing mashr_Brain_Substantia_nigra.db\n",
      "Processing mashr_Spleen.db\n",
      "Processing mashr_Colon_Transverse.db\n",
      "Processing mashr_Heart_Left_Ventricle.db\n",
      "Processing mashr_Lung.db\n",
      "Processing mashr_Muscle_Skeletal.db\n",
      "Processing mashr_Brain_Hypothalamus.db\n",
      "Processing mashr_Brain_Cortex.db\n",
      "Processing mashr_Brain_Amygdala.db\n",
      "Processing mashr_Esophagus_Mucosa.db\n",
      "Processing mashr_Adrenal_Gland.db\n",
      "Processing mashr_Uterus.db\n",
      "Processing mashr_Prostate.db\n",
      "Processing mashr_Whole_Blood.db\n",
      "Processing mashr_Pituitary.db\n",
      "Processing mashr_Esophagus_Gastroesophageal_Junction.db\n",
      "Processing mashr_Stomach.db\n",
      "Processing mashr_Heart_Atrial_Appendage.db\n",
      "Processing mashr_Brain_Cerebellum.db\n",
      "Processing mashr_Breast_Mammary_Tissue.db\n",
      "Processing mashr_Artery_Tibial.db\n",
      "Processing mashr_Artery_Aorta.db\n",
      "Processing mashr_Small_Intestine_Terminal_Ileum.db\n",
      "Processing mashr_Brain_Hippocampus.db\n",
      "Processing mashr_Testis.db\n",
      "Processing mashr_Brain_Putamen_basal_ganglia.db\n",
      "Processing mashr_Pancreas.db\n",
      "Processing mashr_Adipose_Subcutaneous.db\n",
      "Processing mashr_Brain_Cerebellar_Hemisphere.db\n",
      "Processing mashr_Colon_Sigmoid.db\n",
      "Processing mashr_Minor_Salivary_Gland.db\n",
      "Processing mashr_Cells_Cultured_fibroblasts.db\n",
      "Processing mashr_Brain_Nucleus_accumbens_basal_ganglia.db\n",
      "Processing mashr_Brain_Anterior_cingulate_cortex_BA24.db\n",
      "Processing mashr_Vagina.db\n",
      "Processing mashr_Ovary.db\n",
      "Processing mashr_Skin_Sun_Exposed_Lower_leg.db\n",
      "Processing mashr_Esophagus_Muscularis.db\n",
      "Processing mashr_Brain_Spinal_cord_cervical_c-1.db\n",
      "Processing mashr_Artery_Coronary.db\n",
      "Processing mashr_Thyroid.db\n",
      "Processing mashr_Brain_Caudate_basal_ganglia.db\n",
      "Processing mashr_Adipose_Visceral_Omentum.db\n",
      "Processing mashr_Nerve_Tibial.db\n",
      "Processing mashr_Liver.db\n"
     ]
    }
   ],
   "source": [
    "all_variants_ids = []\n",
    "\n",
    "for m in mashr_models_db_files:\n",
    "    print(f\"Processing {m.name}\")\n",
    "    tissue = m.name.split(\"mashr_\")[1].split(\".db\")[0]\n",
    "\n",
    "    with sqlite3.connect(m) as conn:\n",
    "        df = pd.read_sql(\"select gene, varID from weights\", conn)\n",
    "        df[\"gene\"] = df[\"gene\"].apply(lambda x: x.split(\".\")[0])\n",
    "        df = df.assign(tissue=tissue)\n",
    "\n",
    "        all_variants_ids.append(df)"
   ]
  },
  {
   "cell_type": "code",
   "execution_count": 38,
   "id": "986feda1",
   "metadata": {
    "papermill": {
     "duration": 0.169887,
     "end_time": "2021-05-01T02:06:18.809836",
     "exception": false,
     "start_time": "2021-05-01T02:06:18.639949",
     "status": "completed"
    },
    "tags": []
   },
   "outputs": [],
   "source": [
    "all_gene_snps = pd.concat(all_variants_ids, ignore_index=True)"
   ]
  },
  {
   "cell_type": "code",
   "execution_count": 39,
   "id": "cdbb12ef",
   "metadata": {
    "papermill": {
     "duration": 0.047036,
     "end_time": "2021-05-01T02:06:18.893702",
     "exception": false,
     "start_time": "2021-05-01T02:06:18.846666",
     "status": "completed"
    },
    "tags": []
   },
   "outputs": [
    {
     "data": {
      "text/plain": [
       "(1132714, 3)"
      ]
     },
     "execution_count": 39,
     "metadata": {},
     "output_type": "execute_result"
    }
   ],
   "source": [
    "all_gene_snps.shape"
   ]
  },
  {
   "cell_type": "code",
   "execution_count": 40,
   "id": "c5300203",
   "metadata": {
    "papermill": {
     "duration": 0.04134,
     "end_time": "2021-05-01T02:06:18.963529",
     "exception": false,
     "start_time": "2021-05-01T02:06:18.922189",
     "status": "completed"
    },
    "tags": []
   },
   "outputs": [
    {
     "data": {
      "text/html": [
       "<div>\n",
       "<style scoped>\n",
       "    .dataframe tbody tr th:only-of-type {\n",
       "        vertical-align: middle;\n",
       "    }\n",
       "\n",
       "    .dataframe tbody tr th {\n",
       "        vertical-align: top;\n",
       "    }\n",
       "\n",
       "    .dataframe thead th {\n",
       "        text-align: right;\n",
       "    }\n",
       "</style>\n",
       "<table border=\"1\" class=\"dataframe\">\n",
       "  <thead>\n",
       "    <tr style=\"text-align: right;\">\n",
       "      <th></th>\n",
       "      <th>gene</th>\n",
       "      <th>varID</th>\n",
       "      <th>tissue</th>\n",
       "    </tr>\n",
       "  </thead>\n",
       "  <tbody>\n",
       "    <tr>\n",
       "      <th>0</th>\n",
       "      <td>ENSG00000169583</td>\n",
       "      <td>chr9_136996001_G_A_b38</td>\n",
       "      <td>Skin_Not_Sun_Exposed_Suprapubic</td>\n",
       "    </tr>\n",
       "    <tr>\n",
       "      <th>1</th>\n",
       "      <td>ENSG00000107331</td>\n",
       "      <td>chr9_137029055_C_CA_b38</td>\n",
       "      <td>Skin_Not_Sun_Exposed_Suprapubic</td>\n",
       "    </tr>\n",
       "    <tr>\n",
       "      <th>2</th>\n",
       "      <td>ENSG00000107331</td>\n",
       "      <td>chr9_137029407_T_G_b38</td>\n",
       "      <td>Skin_Not_Sun_Exposed_Suprapubic</td>\n",
       "    </tr>\n",
       "    <tr>\n",
       "      <th>3</th>\n",
       "      <td>ENSG00000180549</td>\n",
       "      <td>chr9_137031950_T_C_b38</td>\n",
       "      <td>Skin_Not_Sun_Exposed_Suprapubic</td>\n",
       "    </tr>\n",
       "    <tr>\n",
       "      <th>4</th>\n",
       "      <td>ENSG00000180549</td>\n",
       "      <td>chr9_137032610_A_G_b38</td>\n",
       "      <td>Skin_Not_Sun_Exposed_Suprapubic</td>\n",
       "    </tr>\n",
       "  </tbody>\n",
       "</table>\n",
       "</div>"
      ],
      "text/plain": [
       "              gene                    varID                           tissue\n",
       "0  ENSG00000169583   chr9_136996001_G_A_b38  Skin_Not_Sun_Exposed_Suprapubic\n",
       "1  ENSG00000107331  chr9_137029055_C_CA_b38  Skin_Not_Sun_Exposed_Suprapubic\n",
       "2  ENSG00000107331   chr9_137029407_T_G_b38  Skin_Not_Sun_Exposed_Suprapubic\n",
       "3  ENSG00000180549   chr9_137031950_T_C_b38  Skin_Not_Sun_Exposed_Suprapubic\n",
       "4  ENSG00000180549   chr9_137032610_A_G_b38  Skin_Not_Sun_Exposed_Suprapubic"
      ]
     },
     "execution_count": 40,
     "metadata": {},
     "output_type": "execute_result"
    }
   ],
   "source": [
    "all_gene_snps.head()"
   ]
  },
  {
   "cell_type": "code",
   "execution_count": 41,
   "id": "e5a2d4be",
   "metadata": {
    "papermill": {
     "duration": 0.35692,
     "end_time": "2021-05-01T02:06:19.348961",
     "exception": false,
     "start_time": "2021-05-01T02:06:18.992041",
     "status": "completed"
    },
    "tags": []
   },
   "outputs": [
    {
     "data": {
      "text/plain": [
       "237405"
      ]
     },
     "metadata": {},
     "output_type": "display_data"
    }
   ],
   "source": [
    "all_snps_in_models = set(all_gene_snps[\"varID\"].unique())\n",
    "display(len(all_snps_in_models))"
   ]
  },
  {
   "cell_type": "markdown",
   "id": "06fe34e8-e851-41fd-8b96-b456747463a3",
   "metadata": {},
   "source": [
    "## Compute intersections with SNPs in models"
   ]
  },
  {
   "cell_type": "code",
   "execution_count": 140,
   "id": "abd8c2be-0969-45c8-9381-ae5f48c31fd5",
   "metadata": {},
   "outputs": [],
   "source": [
    "group_eqtls = {}"
   ]
  },
  {
   "cell_type": "code",
   "execution_count": 141,
   "id": "5d131fc2-4b4f-417d-8b2b-001e106b271c",
   "metadata": {},
   "outputs": [
    {
     "name": "stdout",
     "output_type": "stream",
     "text": [
      "MAGNETIC_IDL.TG: 236986\n",
      "IBD.EUR.Crohns_Disease: 236830\n",
      "EGG_BW3_EUR: 236234\n",
      "MAGNETIC_LDL.C: 237061\n",
      "ENIGMA_Intracraneal_Volume: 236214\n",
      "RA_OKADA_TRANS_ETHNIC: 236739\n",
      "MAGIC_ln_FastingInsulin: 236298\n",
      "SSGAC_Depressive_Symptoms: 236788\n",
      "MAGNETIC_HDL.C: 237062\n",
      "PGC_ADHD_EUR_2017: 236478\n",
      "IGAP_Alzheimer: 235908\n",
      "GIANT_HEIGHT: 235961\n",
      "IBD.EUR.Inflammatory_Bowel_Disease: 236629\n",
      "pgc.scz2: 236652\n",
      "Jones_et_al_2016_SleepDuration: 237066\n",
      "IBD.EUR.Ulcerative_Colitis: 236595\n",
      "MAGIC_FastingGlucose: 235953\n",
      "EAGLE_Eczema: 236686\n",
      "IMMUNOBASE_Systemic_lupus_erythematosus_hg19: 236481\n",
      "BCAC_ER_negative_BreastCancer_EUR: 236752\n",
      "CARDIoGRAM_C4D_CAD_ADDITIVE: 236542\n",
      "MAGNETIC_CH2.DB.ratio: 236971\n",
      "Astle_et_al_2016_Monocyte_count: 237112\n",
      "SSGAC_Education_Years_Pooled: 236707\n",
      "CNCR_Insomnia_all: 237105\n",
      "BCAC_Overall_BreastCancer_EUR: 236928\n",
      "GEFOS_Forearm: 236445\n",
      "BCAC_ER_positive_BreastCancer_EUR: 236983\n",
      "Jones_et_al_2016_Chronotype: 237060\n"
     ]
    }
   ],
   "source": [
    "for group_name, group_gwas_snps in group_variants.items():\n",
    "    # consider only phenotype that are not part of rapid nor astle groups\n",
    "    if group_name in (\"rapid\", \"astle\"):\n",
    "        continue\n",
    "\n",
    "    group_eqtls[group_name] = all_snps_in_models.intersection(group_gwas_snps)\n",
    "    print(f\"{group_name}: {len(group_eqtls[group_name])}\")"
   ]
  },
  {
   "cell_type": "code",
   "execution_count": 142,
   "id": "dd7a1d0c-931e-48ab-9e40-40dfebb2f938",
   "metadata": {},
   "outputs": [],
   "source": [
    "group_eqtl_intersections = np.eye(len(group_eqtls))\n",
    "group_names = list(group_eqtls.keys())\n",
    "\n",
    "for group1_idx in range(len(group_names) - 1):\n",
    "    group1_name = group_names[group1_idx]\n",
    "    group1_eqtls = group_eqtls[group1_name]\n",
    "    group1_size = len(group1_eqtls)\n",
    "\n",
    "    for group2_idx in range(group1_idx + 1, len(group_names)):\n",
    "        group2_name = group_names[group2_idx]\n",
    "        group2_eqtls = group_eqtls[group2_name]\n",
    "        group2_size = len(group2_eqtls)\n",
    "\n",
    "        max_size = max(group1_size, group2_size)\n",
    "\n",
    "        n_intersections = len(group1_eqtls.intersection(group2_eqtls))\n",
    "        group_eqtl_intersections[group1_idx, group2_idx] = n_intersections / max_size\n",
    "        group_eqtl_intersections[group2_idx, group1_idx] = n_intersections / max_size"
   ]
  },
  {
   "cell_type": "code",
   "execution_count": 143,
   "id": "6d451bc7-d53f-40c8-b273-f3b48b927600",
   "metadata": {},
   "outputs": [],
   "source": [
    "df = pd.DataFrame(\n",
    "    data=group_eqtl_intersections,\n",
    "    index=group_names,\n",
    "    columns=group_names,\n",
    ")"
   ]
  },
  {
   "cell_type": "code",
   "execution_count": 144,
   "id": "3d56b713-244d-4909-96a1-39071c1ba119",
   "metadata": {},
   "outputs": [
    {
     "data": {
      "text/plain": [
       "(29, 29)"
      ]
     },
     "execution_count": 144,
     "metadata": {},
     "output_type": "execute_result"
    }
   ],
   "source": [
    "df.shape"
   ]
  },
  {
   "cell_type": "code",
   "execution_count": 145,
   "id": "d935c92b-6a9d-4699-81dc-b7f0325b4205",
   "metadata": {},
   "outputs": [],
   "source": [
    "df_flat = get_upper_triag(df).stack().sort_index()"
   ]
  },
  {
   "cell_type": "code",
   "execution_count": 146,
   "id": "cb411bed-d575-4c47-88bc-1e50ab9d0321",
   "metadata": {},
   "outputs": [
    {
     "data": {
      "text/plain": [
       "Astle_et_al_2016_Monocyte_count  BCAC_ER_positive_BreastCancer_EUR    0.999051\n",
       "                                 BCAC_Overall_BreastCancer_EUR        0.998806\n",
       "                                 CNCR_Insomnia_all                    0.999578\n",
       "                                 GEFOS_Forearm                        0.996782\n",
       "                                 Jones_et_al_2016_Chronotype          0.999372\n",
       "                                                                        ...   \n",
       "pgc.scz2                         Jones_et_al_2016_Chronotype          0.997722\n",
       "                                 Jones_et_al_2016_SleepDuration       0.997731\n",
       "                                 MAGIC_FastingGlucose                 0.995069\n",
       "                                 MAGNETIC_CH2.DB.ratio                0.997772\n",
       "                                 SSGAC_Education_Years_Pooled         0.998120\n",
       "Length: 406, dtype: float64"
      ]
     },
     "execution_count": 146,
     "metadata": {},
     "output_type": "execute_result"
    }
   ],
   "source": [
    "df_flat"
   ]
  },
  {
   "cell_type": "code",
   "execution_count": 147,
   "id": "3793c8e6-84a5-45dd-a253-5ca0db4f894c",
   "metadata": {},
   "outputs": [
    {
     "data": {
      "text/plain": [
       "count    406.000000\n",
       "mean       0.997041\n",
       "std        0.001367\n",
       "min        0.994517\n",
       "25%        0.996001\n",
       "50%        0.997198\n",
       "75%        0.998054\n",
       "max        0.999996\n",
       "dtype: float64"
      ]
     },
     "metadata": {},
     "output_type": "display_data"
    }
   ],
   "source": [
    "df_stats = df_flat.describe()\n",
    "display(df_stats)\n",
    "assert df_stats[\"min\"] > 0.99"
   ]
  },
  {
   "cell_type": "code",
   "execution_count": 148,
   "id": "12591388-384b-4abb-b409-895d615eb650",
   "metadata": {},
   "outputs": [
    {
     "data": {
      "text/plain": [
       "IGAP_Alzheimer                   Astle_et_al_2016_Monocyte_count      0.994517\n",
       "                                 Jones_et_al_2016_Chronotype          0.994596\n",
       "                                 Jones_et_al_2016_SleepDuration       0.994605\n",
       "                                 CNCR_Insomnia_all                    0.994606\n",
       "                                 MAGNETIC_CH2.DB.ratio                0.994624\n",
       "                                                                        ...   \n",
       "Jones_et_al_2016_SleepDuration   Astle_et_al_2016_Monocyte_count      0.999405\n",
       "BCAC_Overall_BreastCancer_EUR    BCAC_ER_positive_BreastCancer_EUR    0.999481\n",
       "Astle_et_al_2016_Monocyte_count  CNCR_Insomnia_all                    0.999578\n",
       "Jones_et_al_2016_SleepDuration   Jones_et_al_2016_Chronotype          0.999966\n",
       "MAGNETIC_LDL.C                   MAGNETIC_HDL.C                       0.999996\n",
       "Length: 406, dtype: float64"
      ]
     },
     "execution_count": 148,
     "metadata": {},
     "output_type": "execute_result"
    }
   ],
   "source": [
    "df_flat.sort_values()"
   ]
  },
  {
   "cell_type": "markdown",
   "id": "337faf64-6eea-46b2-ba13-4e7ba3dd5615",
   "metadata": {},
   "source": [
    "# Clustering of traits"
   ]
  },
  {
   "cell_type": "code",
   "execution_count": 152,
   "id": "b12453c1-ee19-44b3-8445-c1f84ffd94e4",
   "metadata": {},
   "outputs": [],
   "source": [
    "# X_std = (df - df.min(axis=0)) / (df.max(axis=0) - df.min(axis=0))"
   ]
  },
  {
   "cell_type": "code",
   "execution_count": 153,
   "id": "4817a62f-3e82-440a-8389-a7845fb40a95",
   "metadata": {},
   "outputs": [
    {
     "data": {
      "image/png": "[encoded data removed]",
      "text/plain": [
       "<Figure size 432x288 with 1 Axes>"
      ]
     },
     "metadata": {
      "needs_background": "light"
     },
     "output_type": "display_data"
    }
   ],
   "source": [
    "# import numpy as np\n",
    "\n",
    "# from matplotlib import pyplot as plt\n",
    "# from scipy.cluster.hierarchy import dendrogram\n",
    "# from sklearn.cluster import AgglomerativeClustering\n",
    "\n",
    "\n",
    "# def plot_dendrogram(model, **kwargs):\n",
    "#     # Create linkage matrix and then plot the dendrogram\n",
    "\n",
    "#     # create the counts of samples under each node\n",
    "#     counts = np.zeros(model.children_.shape[0])\n",
    "#     n_samples = len(model.labels_)\n",
    "#     for i, merge in enumerate(model.children_):\n",
    "#         current_count = 0\n",
    "#         for child_idx in merge:\n",
    "#             if child_idx < n_samples:\n",
    "#                 current_count += 1  # leaf node\n",
    "#             else:\n",
    "#                 current_count += counts[child_idx - n_samples]\n",
    "#         counts[i] = current_count\n",
    "\n",
    "#     linkage_matrix = np.column_stack(\n",
    "#         [model.children_, model.distances_, counts]\n",
    "#     ).astype(float)\n",
    "\n",
    "#     # Plot the corresponding dendrogram\n",
    "#     dendrogram(linkage_matrix, **kwargs)\n",
    "\n",
    "\n",
    "# X = X_std\n",
    "\n",
    "# # setting distance_threshold=0 ensures we compute the full tree.\n",
    "# model = AgglomerativeClustering(distance_threshold=0, n_clusters=None, affinity='precomputed', linkage=\"complete\")\n",
    "\n",
    "# model = model.fit(X)\n",
    "# plt.title(\"Hierarchical Clustering Dendrogram\")\n",
    "# # plot the top three levels of the dendrogram\n",
    "# plot_dendrogram(model, truncate_mode=\"level\", p=3)\n",
    "# plt.xlabel(\"Number of points in node (or index of point if no parenthesis).\")\n",
    "# plt.show()"
   ]
  },
  {
   "cell_type": "code",
   "execution_count": 167,
   "id": "14c43b1d-bfdc-4393-8734-1bd9bf340491",
   "metadata": {},
   "outputs": [],
   "source": [
    "# model = AgglomerativeClustering(n_clusters=4, affinity='precomputed', linkage=\"complete\")\n",
    "# labels = model.fit_predict(X)"
   ]
  },
  {
   "cell_type": "code",
   "execution_count": 168,
   "id": "1bcb1fd8-d0ca-47dd-b534-45558077f1c9",
   "metadata": {},
   "outputs": [
    {
     "data": {
      "text/plain": [
       "array([0, 1, 2, 3])"
      ]
     },
     "execution_count": 168,
     "metadata": {},
     "output_type": "execute_result"
    }
   ],
   "source": [
    "# np.unique(labels)"
   ]
  },
  {
   "cell_type": "code",
   "execution_count": 173,
   "id": "5079ccc2-bc3b-4b89-822d-c77c891b3433",
   "metadata": {},
   "outputs": [
    {
     "data": {
      "text/plain": [
       "Index(['IBD.EUR.Crohns_Disease', 'CNCR_Insomnia_all',\n",
       "       'BCAC_ER_positive_BreastCancer_EUR'],\n",
       "      dtype='object')"
      ]
     },
     "execution_count": 173,
     "metadata": {},
     "output_type": "execute_result"
    }
   ],
   "source": [
    "# df.index[labels == 3]"
   ]
  },
  {
   "cell_type": "markdown",
   "id": "99c1a602-ca4f-4870-ad15-7cd93d75c628",
   "metadata": {},
   "source": [
    "# Conclusion"
   ]
  },
  {
   "cell_type": "markdown",
   "id": "c6399ad0-da59-4c65-9ba9-4af8aea329d6",
   "metadata": {},
   "source": [
    "We need to compute three (3) gene correlation matrices for three groups of phenotypes:\n",
    "\n",
    "* One for \"rapid\"\n",
    "* One for \"astle\"\n",
    "* One for the rest of the phenotypes\n",
    "\n",
    "All phenotypes in the first two (\"rapid\" and \"astle\") have exactly the same SNPs, so the correlation matrix will be accurate for all those phenotypes.\n",
    "\n",
    "For the third group, the correlation matrix will not be exactly accurate, but since they share more than 99% of the eQTLs, we assume it's enough."
   ]
  },
  {
   "cell_type": "code",
   "execution_count": null,
   "id": "8de186e2-1b1a-4b09-9d3d-045c82c2c444",
   "metadata": {},
   "outputs": [],
   "source": []
  }
 ],
 "metadata": {
  "jupytext": {
   "cell_metadata_filter": "all,-execution,-papermill,-trusted"
  },
  "kernelspec": {
   "display_name": "Python 3 (ipykernel)",
   "language": "python",
   "name": "python3"
  },
  "language_info": {
   "codemirror_mode": {
    "name": "ipython",
    "version": 3
   },
   "file_extension": ".py",
   "mimetype": "text/x-python",
   "name": "python",
   "nbconvert_exporter": "python",
   "pygments_lexer": "ipython3",
   "version": "3.8.13"
  }
 },
 "nbformat": 4,
 "nbformat_minor": 5
}
