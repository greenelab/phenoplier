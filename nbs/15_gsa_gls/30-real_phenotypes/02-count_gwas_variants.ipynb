{
 "cells": [
  {
   "cell_type": "markdown",
   "id": "49e037c0-adb8-4953-9912-e5fa908d68f5",
   "metadata": {},
   "source": [
    "# Description"
   ]
  },
  {
   "cell_type": "markdown",
   "id": "63cbc8a1-285d-4622-974d-7938f30b3fa3",
   "metadata": {},
   "source": [
    "It reads all GWASs in PhenomeXcan and counts how many variants are included in each one."
   ]
  },
  {
   "cell_type": "markdown",
   "id": "bee71e8a-45b9-4d48-9cb2-b6f962ee7fb6",
   "metadata": {},
   "source": [
    "# Modules"
   ]
  },
  {
   "cell_type": "code",
   "execution_count": 1,
   "id": "e8a8dfa1-45d6-4691-96db-97ae1a8a8cb5",
   "metadata": {},
   "outputs": [],
   "source": [
    "from pathlib import Path\n",
    "\n",
    "import pandas as pd\n",
    "\n",
    "import conf"
   ]
  },
  {
   "cell_type": "markdown",
   "id": "f993070d-7ef3-406d-bf4f-e94ebcbe7eda",
   "metadata": {},
   "source": [
    "# Settings"
   ]
  },
  {
   "cell_type": "code",
   "execution_count": 2,
   "id": "bd21926d-10ac-4be7-9f34-94b5c3778ba1",
   "metadata": {},
   "outputs": [
    {
     "data": {
      "text/plain": [
       "PosixPath('/opt/data/data/phenomexcan/gwas_parsing')"
      ]
     },
     "metadata": {},
     "output_type": "display_data"
    }
   ],
   "source": [
    "GWAS_PARSING_BASE_DIR = conf.PHENOMEXCAN[\"BASE_DIR\"] / \"gwas_parsing\"\n",
    "display(GWAS_PARSING_BASE_DIR)\n",
    "GWAS_PARSING_BASE_DIR.mkdir(exist_ok=True, parents=True)"
   ]
  },
  {
   "cell_type": "code",
   "execution_count": 3,
   "id": "3c74ddd4-5611-48f2-9a72-717892b7a61f",
   "metadata": {},
   "outputs": [
    {
     "data": {
      "text/plain": [
       "PosixPath('/opt/data/data/phenomexcan/gwas_parsing/gwas_parsing_n_lines')"
      ]
     },
     "metadata": {},
     "output_type": "display_data"
    }
   ],
   "source": [
    "GWAS_PARSING_N_LINES_DIR = GWAS_PARSING_BASE_DIR / \"gwas_parsing_n_lines\"\n",
    "display(GWAS_PARSING_N_LINES_DIR)\n",
    "GWAS_PARSING_N_LINES_DIR.mkdir(exist_ok=True, parents=True)"
   ]
  },
  {
   "cell_type": "code",
   "execution_count": 4,
   "id": "cb084977-b6ac-4e04-94d2-6fd110c45648",
   "metadata": {},
   "outputs": [
    {
     "data": {
      "text/plain": [
       "PosixPath('/opt/data/data/phenomexcan/gwas_parsing/full')"
      ]
     },
     "metadata": {},
     "output_type": "display_data"
    }
   ],
   "source": [
    "GWAS_PARSING_INPUT_DIR = GWAS_PARSING_BASE_DIR / \"full\"\n",
    "display(GWAS_PARSING_INPUT_DIR)\n",
    "assert GWAS_PARSING_INPUT_DIR.exists()"
   ]
  },
  {
   "cell_type": "markdown",
   "id": "fa97fddb-52e7-43b3-8774-6bb87cbb6c7e",
   "metadata": {},
   "source": [
    "# Read PhenomeXcan GWAS' number of variants"
   ]
  },
  {
   "cell_type": "code",
   "execution_count": 5,
   "id": "0218d78f-89f0-4137-a988-8a0b5dbaf20f",
   "metadata": {},
   "outputs": [],
   "source": [
    "%%bash -s \"$GWAS_PARSING_INPUT_DIR\" \"$GWAS_PARSING_N_LINES_DIR\"\n",
    "parallel -j3 zcat {} | wc -l > ${2}/{/.} ::: ${1}/*.txt.gz"
   ]
  },
  {
   "cell_type": "code",
   "execution_count": 6,
   "id": "27603e29-4aaa-4d86-b9cc-fb20f0afd3ed",
   "metadata": {},
   "outputs": [],
   "source": [
    "files = list(GWAS_PARSING_N_LINES_DIR.glob(\"*.txt\"))"
   ]
  },
  {
   "cell_type": "code",
   "execution_count": 7,
   "id": "fb10d11d-91d6-4af2-b3ac-13ef9736c2f7",
   "metadata": {},
   "outputs": [
    {
     "data": {
      "text/plain": [
       "4197"
      ]
     },
     "execution_count": 7,
     "metadata": {},
     "output_type": "execute_result"
    }
   ],
   "source": [
    "len(files)"
   ]
  },
  {
   "cell_type": "code",
   "execution_count": 8,
   "id": "cde6ec26-2009-4cab-98ae-330803ad3dc5",
   "metadata": {},
   "outputs": [],
   "source": [
    "# read number of lines per GWAS\n",
    "gwas_n_vars = {}\n",
    "\n",
    "for f in files:\n",
    "    with open(f) as fh:\n",
    "        gwas_n_vars[f.name.split(\".txt\")[0]] = int(fh.readlines()[0].strip())"
   ]
  },
  {
   "cell_type": "code",
   "execution_count": 9,
   "id": "d2309af1-9f3b-40fd-a1e3-02724ca8ac39",
   "metadata": {},
   "outputs": [],
   "source": [
    "df = pd.DataFrame.from_dict(gwas_n_vars, orient=\"index\").squeeze()"
   ]
  },
  {
   "cell_type": "code",
   "execution_count": 10,
   "id": "9b02fc77-c85a-4a8d-a53f-6790c7300a74",
   "metadata": {},
   "outputs": [
    {
     "data": {
      "text/plain": [
       "(4197,)"
      ]
     },
     "execution_count": 10,
     "metadata": {},
     "output_type": "execute_result"
    }
   ],
   "source": [
    "df.shape"
   ]
  },
  {
   "cell_type": "code",
   "execution_count": 11,
   "id": "04ebef2d-9666-46e1-9e97-98e157e030cd",
   "metadata": {},
   "outputs": [
    {
     "data": {
      "text/plain": [
       "M13_FOREIGNBODY    8496089\n",
       "22617_7112         8496089\n",
       "M13_ANKLEFOOT      8496089\n",
       "22601_81212774     8496089\n",
       "40001_J841         8496089\n",
       "Name: 0, dtype: int64"
      ]
     },
     "execution_count": 11,
     "metadata": {},
     "output_type": "execute_result"
    }
   ],
   "source": [
    "df.head()"
   ]
  },
  {
   "cell_type": "markdown",
   "id": "2f71bcd3-fade-4f25-b3a7-718e32382f5e",
   "metadata": {},
   "source": [
    "# Save"
   ]
  },
  {
   "cell_type": "code",
   "execution_count": 12,
   "id": "a99eaa0a-d550-4828-81f5-0a7d07a22d7d",
   "metadata": {},
   "outputs": [
    {
     "data": {
      "text/plain": [
       "PosixPath('/opt/data/data/phenomexcan/gwas_parsing/gwas_n_variants.pkl')"
      ]
     },
     "metadata": {},
     "output_type": "display_data"
    }
   ],
   "source": [
    "output_file = GWAS_PARSING_BASE_DIR / \"gwas_n_variants.pkl\"\n",
    "display(output_file)"
   ]
  },
  {
   "cell_type": "code",
   "execution_count": 13,
   "id": "ac334570-2b43-429e-b371-579c7025f176",
   "metadata": {},
   "outputs": [],
   "source": [
    "df.to_pickle(output_file)"
   ]
  },
  {
   "cell_type": "code",
   "execution_count": null,
   "id": "394195c4-d865-42c0-a518-c16a3206eeb9",
   "metadata": {},
   "outputs": [],
   "source": []
  }
 ],
 "metadata": {
  "jupytext": {
   "cell_metadata_filter": "all,-execution,-papermill,-trusted"
  },
  "kernelspec": {
   "display_name": "Python 3 (ipykernel)",
   "language": "python",
   "name": "python3"
  },
  "language_info": {
   "codemirror_mode": {
    "name": "ipython",
    "version": 3
   },
   "file_extension": ".py",
   "mimetype": "text/x-python",
   "name": "python",
   "nbconvert_exporter": "python",
   "pygments_lexer": "ipython3",
   "version": "3.8.13"
  }
 },
 "nbformat": 4,
 "nbformat_minor": 5
}
