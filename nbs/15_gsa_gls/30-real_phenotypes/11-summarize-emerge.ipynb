{
 "cells": [
  {
   "cell_type": "markdown",
   "id": "b7acf0c2",
   "metadata": {
    "papermill": {
     "duration": 0.038207,
     "end_time": "2022-02-24T05:32:03.755452",
     "exception": false,
     "start_time": "2022-02-24T05:32:03.717245",
     "status": "completed"
    },
    "tags": []
   },
   "source": [
    "# Description"
   ]
  },
  {
   "cell_type": "markdown",
   "id": "2653adfb",
   "metadata": {
    "papermill": {
     "duration": 0.009944,
     "end_time": "2022-02-24T05:32:03.780673",
     "exception": false,
     "start_time": "2022-02-24T05:32:03.770729",
     "status": "completed"
    },
    "tags": []
   },
   "source": [
    "It summarizes the GLS results on eMERGE."
   ]
  },
  {
   "cell_type": "markdown",
   "id": "fb645f46",
   "metadata": {
    "papermill": {
     "duration": 0.008401,
     "end_time": "2022-02-24T05:32:03.797668",
     "exception": false,
     "start_time": "2022-02-24T05:32:03.789267",
     "status": "completed"
    },
    "tags": []
   },
   "source": [
    "# Modules"
   ]
  },
  {
   "cell_type": "code",
   "execution_count": 1,
   "id": "7ce51c68",
   "metadata": {
    "papermill": {
     "duration": 0.861241,
     "end_time": "2022-02-24T05:32:04.667481",
     "exception": false,
     "start_time": "2022-02-24T05:32:03.806240",
     "status": "completed"
    },
    "tags": []
   },
   "outputs": [],
   "source": [
    "from pathlib import Path\n",
    "\n",
    "import numpy as np\n",
    "import pandas as pd\n",
    "from statsmodels.stats.multitest import multipletests\n",
    "import matplotlib.pyplot as plt\n",
    "import matplotlib as mpl\n",
    "import seaborn as sns\n",
    "\n",
    "import conf\n",
    "from phenoplier_plots import qqplot"
   ]
  },
  {
   "cell_type": "markdown",
   "id": "654985a3",
   "metadata": {
    "papermill": {
     "duration": 0.008701,
     "end_time": "2022-02-24T05:32:04.685435",
     "exception": false,
     "start_time": "2022-02-24T05:32:04.676734",
     "status": "completed"
    },
    "tags": []
   },
   "source": [
    "# Settings"
   ]
  },
  {
   "cell_type": "code",
   "execution_count": 2,
   "id": "d4e1bf58-d0ac-455a-97d8-1d892b4a38d6",
   "metadata": {},
   "outputs": [],
   "source": [
    "N_PHENOTYPES = 309\n",
    "N_LVS = 987"
   ]
  },
  {
   "cell_type": "code",
   "execution_count": 3,
   "id": "9ba4e01c",
   "metadata": {
    "papermill": {
     "duration": 0.016348,
     "end_time": "2022-02-24T05:32:04.710602",
     "exception": false,
     "start_time": "2022-02-24T05:32:04.694254",
     "status": "completed"
    },
    "tags": []
   },
   "outputs": [
    {
     "data": {
      "text/plain": [
       "PosixPath('/opt/data/results/gls')"
      ]
     },
     "metadata": {},
     "output_type": "display_data"
    },
    {
     "data": {
      "text/plain": [
       "'emerge/**/*.tsv.gz'"
      ]
     },
     "metadata": {},
     "output_type": "display_data"
    }
   ],
   "source": [
    "INPUT_DIR = conf.RESULTS[\"GLS\"]\n",
    "display(INPUT_DIR)\n",
    "assert INPUT_DIR.exists()\n",
    "\n",
    "INPUT_PATTERN = \"emerge/**/*.tsv.gz\"\n",
    "display(INPUT_PATTERN)"
   ]
  },
  {
   "cell_type": "code",
   "execution_count": 4,
   "id": "3f0ceee7-2e59-493d-845c-35d131159f4b",
   "metadata": {},
   "outputs": [],
   "source": [
    "PVALUE_COLUMN = \"pvalue\""
   ]
  },
  {
   "cell_type": "code",
   "execution_count": 5,
   "id": "9b6901c2-e3c5-4dfc-8ff3-b8fdeb12e3fd",
   "metadata": {},
   "outputs": [
    {
     "data": {
      "text/plain": [
       "PosixPath('/opt/data/results/gls')"
      ]
     },
     "metadata": {},
     "output_type": "display_data"
    }
   ],
   "source": [
    "OUTPUT_DIR = conf.RESULTS[\"GLS\"]\n",
    "display(OUTPUT_DIR)\n",
    "OUTPUT_DIR.mkdir(exist_ok=True, parents=True)"
   ]
  },
  {
   "cell_type": "markdown",
   "id": "5f2c6f72-9a30-4ced-bc9a-04b6b3b21384",
   "metadata": {},
   "source": [
    "# Load data"
   ]
  },
  {
   "cell_type": "markdown",
   "id": "1d14b0b8-7358-4c0a-934c-2298b0436f02",
   "metadata": {},
   "source": [
    "## Phenotype info"
   ]
  },
  {
   "cell_type": "code",
   "execution_count": 6,
   "id": "55a31713-f6d3-4639-a8a9-642e7d4e8bf7",
   "metadata": {},
   "outputs": [],
   "source": [
    "pheno_info = pd.read_csv(\n",
    "    conf.EMERGE[\"DESC_FILE_WITH_SAMPLE_SIZE\"],\n",
    "    sep=\"\\t\",\n",
    "    dtype={\"phecode\": str},\n",
    "    usecols=[\"phecode\", \"phenotype\", \"category\"],\n",
    ")"
   ]
  },
  {
   "cell_type": "code",
   "execution_count": 7,
   "id": "0cb2c235-1b72-498a-8d98-80950fc48faa",
   "metadata": {},
   "outputs": [
    {
     "data": {
      "text/plain": [
       "(309, 3)"
      ]
     },
     "execution_count": 7,
     "metadata": {},
     "output_type": "execute_result"
    }
   ],
   "source": [
    "pheno_info.shape"
   ]
  },
  {
   "cell_type": "code",
   "execution_count": 8,
   "id": "789d4d82-cd31-492a-b8c8-c47de3f27be4",
   "metadata": {},
   "outputs": [],
   "source": [
    "pheno_info = pheno_info.rename(\n",
    "    columns={\n",
    "        \"phecode\": \"short_code\",\n",
    "        \"phenotype\": \"phenotype_desc\",\n",
    "    }\n",
    ")"
   ]
  },
  {
   "cell_type": "code",
   "execution_count": 9,
   "id": "c49b15e3-0076-4e42-8eed-b583d9d8f7ff",
   "metadata": {},
   "outputs": [],
   "source": [
    "pheno_info[\"short_code\"] = pheno_info[\"short_code\"].apply(lambda x: f\"EUR_{x}\")"
   ]
  },
  {
   "cell_type": "code",
   "execution_count": 10,
   "id": "c286789f-6d0a-4162-bf8d-7bcf82d9089d",
   "metadata": {},
   "outputs": [
    {
     "data": {
      "text/html": [
       "<div>\n",
       "<style scoped>\n",
       "    .dataframe tbody tr th:only-of-type {\n",
       "        vertical-align: middle;\n",
       "    }\n",
       "\n",
       "    .dataframe tbody tr th {\n",
       "        vertical-align: top;\n",
       "    }\n",
       "\n",
       "    .dataframe thead th {\n",
       "        text-align: right;\n",
       "    }\n",
       "</style>\n",
       "<table border=\"1\" class=\"dataframe\">\n",
       "  <thead>\n",
       "    <tr style=\"text-align: right;\">\n",
       "      <th></th>\n",
       "      <th>short_code</th>\n",
       "      <th>phenotype_desc</th>\n",
       "      <th>category</th>\n",
       "    </tr>\n",
       "  </thead>\n",
       "  <tbody>\n",
       "    <tr>\n",
       "      <th>0</th>\n",
       "      <td>EUR_008</td>\n",
       "      <td>Intestinal infection</td>\n",
       "      <td>infectious diseases</td>\n",
       "    </tr>\n",
       "    <tr>\n",
       "      <th>1</th>\n",
       "      <td>EUR_008.5</td>\n",
       "      <td>Bacterial enteritis</td>\n",
       "      <td>infectious diseases</td>\n",
       "    </tr>\n",
       "    <tr>\n",
       "      <th>2</th>\n",
       "      <td>EUR_008.52</td>\n",
       "      <td>Intestinal infection due to C. difficile</td>\n",
       "      <td>infectious diseases</td>\n",
       "    </tr>\n",
       "    <tr>\n",
       "      <th>3</th>\n",
       "      <td>EUR_038</td>\n",
       "      <td>Septicemia</td>\n",
       "      <td>infectious diseases</td>\n",
       "    </tr>\n",
       "    <tr>\n",
       "      <th>4</th>\n",
       "      <td>EUR_038.3</td>\n",
       "      <td>Bacteremia</td>\n",
       "      <td>infectious diseases</td>\n",
       "    </tr>\n",
       "  </tbody>\n",
       "</table>\n",
       "</div>"
      ],
      "text/plain": [
       "   short_code                            phenotype_desc             category\n",
       "0     EUR_008                      Intestinal infection  infectious diseases\n",
       "1   EUR_008.5                       Bacterial enteritis  infectious diseases\n",
       "2  EUR_008.52  Intestinal infection due to C. difficile  infectious diseases\n",
       "3     EUR_038                                Septicemia  infectious diseases\n",
       "4   EUR_038.3                                Bacteremia  infectious diseases"
      ]
     },
     "execution_count": 10,
     "metadata": {},
     "output_type": "execute_result"
    }
   ],
   "source": [
    "pheno_info.head()"
   ]
  },
  {
   "cell_type": "code",
   "execution_count": 11,
   "id": "3c97a69a-a6fa-4868-a20e-88bdb4636641",
   "metadata": {},
   "outputs": [],
   "source": [
    "assert pheno_info[\"short_code\"].is_unique"
   ]
  },
  {
   "cell_type": "code",
   "execution_count": 12,
   "id": "aa15fe3b-cd3c-45c1-ad4e-29b5bc8aa5f9",
   "metadata": {},
   "outputs": [],
   "source": [
    "pheno_code_to_desc_map = pheno_info.set_index(\"short_code\")[\"phenotype_desc\"].to_dict()"
   ]
  },
  {
   "cell_type": "markdown",
   "id": "d8e6a40d-2049-4bd7-a5e4-77e45723da4f",
   "metadata": {},
   "source": [
    "## GLS results"
   ]
  },
  {
   "cell_type": "markdown",
   "id": "0b8c03b8-78d5-4cbe-b9f2-7c9be063c483",
   "metadata": {},
   "source": [
    "### Get files list"
   ]
  },
  {
   "cell_type": "code",
   "execution_count": 13,
   "id": "f920bc02-8297-4bd9-8601-665f079cbf91",
   "metadata": {},
   "outputs": [
    {
     "data": {
      "text/plain": [
       "[PosixPath('/opt/data/results/gls/emerge/gls-gtex_v8_mashr-sub_corr/gls_phenoplier-EUR_440.2.tsv.gz'),\n",
       " PosixPath('/opt/data/results/gls/emerge/gls-gtex_v8_mashr-sub_corr/gls_phenoplier-EUR_433.21.tsv.gz'),\n",
       " PosixPath('/opt/data/results/gls/emerge/gls-gtex_v8_mashr-sub_corr/gls_phenoplier-EUR_706.tsv.gz'),\n",
       " PosixPath('/opt/data/results/gls/emerge/gls-gtex_v8_mashr-sub_corr/gls_phenoplier-EUR_740.1.tsv.gz'),\n",
       " PosixPath('/opt/data/results/gls/emerge/gls-gtex_v8_mashr-sub_corr/gls_phenoplier-EUR_250.24.tsv.gz')]"
      ]
     },
     "metadata": {},
     "output_type": "display_data"
    }
   ],
   "source": [
    "INPUT_FILES = list(INPUT_DIR.glob(INPUT_PATTERN))\n",
    "display(INPUT_FILES[:5])"
   ]
  },
  {
   "cell_type": "code",
   "execution_count": 14,
   "id": "78294bb3-db99-45ae-8c98-44b74737b56d",
   "metadata": {},
   "outputs": [
    {
     "data": {
      "text/plain": [
       "309"
      ]
     },
     "metadata": {},
     "output_type": "display_data"
    }
   ],
   "source": [
    "_tmp = len(INPUT_FILES)\n",
    "display(_tmp)\n",
    "assert _tmp == N_PHENOTYPES"
   ]
  },
  {
   "cell_type": "markdown",
   "id": "b582e77d-0f1d-4659-a5fd-d963904931cb",
   "metadata": {},
   "source": [
    "### Read results"
   ]
  },
  {
   "cell_type": "code",
   "execution_count": 15,
   "id": "a082aeb1-c444-41f1-9f7e-d935c84cda8c",
   "metadata": {},
   "outputs": [
    {
     "data": {
      "text/plain": [
       "'EUR_440.2'"
      ]
     },
     "execution_count": 15,
     "metadata": {},
     "output_type": "execute_result"
    }
   ],
   "source": [
    "INPUT_FILES[0].name.split(\"gls_phenoplier-\")[1].split(\".tsv.gz\")[0]"
   ]
  },
  {
   "cell_type": "code",
   "execution_count": 16,
   "id": "18ebfb6c",
   "metadata": {
    "papermill": {
     "duration": 0.023945,
     "end_time": "2022-02-24T05:32:04.808813",
     "exception": false,
     "start_time": "2022-02-24T05:32:04.784868",
     "status": "completed"
    },
    "tags": []
   },
   "outputs": [],
   "source": [
    "dfs = [\n",
    "    pd.read_csv(f, sep=\"\\t\", usecols=[\"lv\", \"pvalue_onesided\"]).assign(\n",
    "        phenotype=f.name.split(\"gls_phenoplier-\")[1].split(\".tsv.gz\")[0]\n",
    "    )\n",
    "    for f in INPUT_FILES\n",
    "]"
   ]
  },
  {
   "cell_type": "code",
   "execution_count": 17,
   "id": "ac3b6041",
   "metadata": {
    "papermill": {
     "duration": 0.015781,
     "end_time": "2022-02-24T05:32:04.834694",
     "exception": false,
     "start_time": "2022-02-24T05:32:04.818913",
     "status": "completed"
    },
    "tags": []
   },
   "outputs": [
    {
     "data": {
      "text/plain": [
       "309"
      ]
     },
     "metadata": {},
     "output_type": "display_data"
    }
   ],
   "source": [
    "display(len(dfs))\n",
    "assert len(dfs) == N_PHENOTYPES"
   ]
  },
  {
   "cell_type": "code",
   "execution_count": 18,
   "id": "d15f7346",
   "metadata": {
    "papermill": {
     "duration": 0.038689,
     "end_time": "2022-02-24T05:32:04.884154",
     "exception": false,
     "start_time": "2022-02-24T05:32:04.845465",
     "status": "completed"
    },
    "tags": []
   },
   "outputs": [],
   "source": [
    "dfs = pd.concat(dfs, axis=0, ignore_index=True).rename(\n",
    "    columns={\"pvalue_onesided\": \"pvalue\"}\n",
    ")"
   ]
  },
  {
   "cell_type": "code",
   "execution_count": 19,
   "id": "7405b07c-b71a-4a8f-924b-f9ffc7a0b13a",
   "metadata": {},
   "outputs": [
    {
     "data": {
      "text/plain": [
       "(304983, 3)"
      ]
     },
     "metadata": {},
     "output_type": "display_data"
    }
   ],
   "source": [
    "display(dfs.shape)\n",
    "assert dfs.shape[0] == N_PHENOTYPES * N_LVS"
   ]
  },
  {
   "cell_type": "code",
   "execution_count": 20,
   "id": "921c9f6b-69e2-46ba-9dcd-bce387c6aabc",
   "metadata": {},
   "outputs": [],
   "source": [
    "# add phenotype description\n",
    "dfs = dfs.assign(\n",
    "    phenotype_desc=dfs[\"phenotype\"].apply(lambda x: pheno_code_to_desc_map[x])\n",
    ")\n",
    "dfs = dfs[[\"phenotype\", \"phenotype_desc\", \"lv\", \"pvalue\"]]"
   ]
  },
  {
   "cell_type": "code",
   "execution_count": 21,
   "id": "228787ad-0cbb-4f3b-b964-0bc148a1a305",
   "metadata": {},
   "outputs": [
    {
     "data": {
      "text/html": [
       "<div>\n",
       "<style scoped>\n",
       "    .dataframe tbody tr th:only-of-type {\n",
       "        vertical-align: middle;\n",
       "    }\n",
       "\n",
       "    .dataframe tbody tr th {\n",
       "        vertical-align: top;\n",
       "    }\n",
       "\n",
       "    .dataframe thead th {\n",
       "        text-align: right;\n",
       "    }\n",
       "</style>\n",
       "<table border=\"1\" class=\"dataframe\">\n",
       "  <thead>\n",
       "    <tr style=\"text-align: right;\">\n",
       "      <th></th>\n",
       "      <th>phenotype</th>\n",
       "      <th>phenotype_desc</th>\n",
       "      <th>lv</th>\n",
       "      <th>pvalue</th>\n",
       "    </tr>\n",
       "  </thead>\n",
       "  <tbody>\n",
       "    <tr>\n",
       "      <th>0</th>\n",
       "      <td>EUR_440.2</td>\n",
       "      <td>Atherosclerosis of the extremities</td>\n",
       "      <td>LV472</td>\n",
       "      <td>1.033637e-07</td>\n",
       "    </tr>\n",
       "    <tr>\n",
       "      <th>1</th>\n",
       "      <td>EUR_440.2</td>\n",
       "      <td>Atherosclerosis of the extremities</td>\n",
       "      <td>LV182</td>\n",
       "      <td>3.710244e-07</td>\n",
       "    </tr>\n",
       "    <tr>\n",
       "      <th>2</th>\n",
       "      <td>EUR_440.2</td>\n",
       "      <td>Atherosclerosis of the extremities</td>\n",
       "      <td>LV348</td>\n",
       "      <td>7.379936e-07</td>\n",
       "    </tr>\n",
       "    <tr>\n",
       "      <th>3</th>\n",
       "      <td>EUR_440.2</td>\n",
       "      <td>Atherosclerosis of the extremities</td>\n",
       "      <td>LV504</td>\n",
       "      <td>1.534424e-06</td>\n",
       "    </tr>\n",
       "    <tr>\n",
       "      <th>4</th>\n",
       "      <td>EUR_440.2</td>\n",
       "      <td>Atherosclerosis of the extremities</td>\n",
       "      <td>LV445</td>\n",
       "      <td>2.912525e-06</td>\n",
       "    </tr>\n",
       "  </tbody>\n",
       "</table>\n",
       "</div>"
      ],
      "text/plain": [
       "   phenotype                      phenotype_desc     lv        pvalue\n",
       "0  EUR_440.2  Atherosclerosis of the extremities  LV472  1.033637e-07\n",
       "1  EUR_440.2  Atherosclerosis of the extremities  LV182  3.710244e-07\n",
       "2  EUR_440.2  Atherosclerosis of the extremities  LV348  7.379936e-07\n",
       "3  EUR_440.2  Atherosclerosis of the extremities  LV504  1.534424e-06\n",
       "4  EUR_440.2  Atherosclerosis of the extremities  LV445  2.912525e-06"
      ]
     },
     "execution_count": 21,
     "metadata": {},
     "output_type": "execute_result"
    }
   ],
   "source": [
    "dfs.head()"
   ]
  },
  {
   "cell_type": "code",
   "execution_count": 22,
   "id": "97764d1b-af87-46a2-ab78-53df39b0dde3",
   "metadata": {},
   "outputs": [],
   "source": [
    "_tmp = dfs.groupby(\"phenotype\")[\"lv\"].nunique().unique()\n",
    "assert _tmp.shape[0] == 1\n",
    "assert _tmp[0] == N_LVS"
   ]
  },
  {
   "cell_type": "markdown",
   "id": "f5310838-2f3e-4f4d-b32a-904cefde6a6a",
   "metadata": {},
   "source": [
    "### FDR adjust"
   ]
  },
  {
   "cell_type": "code",
   "execution_count": 23,
   "id": "d7e8301f-3cbe-4fe9-973f-cd26f74c2164",
   "metadata": {},
   "outputs": [],
   "source": [
    "adj_pval = multipletests(dfs[PVALUE_COLUMN], alpha=0.05, method=\"fdr_bh\")\n",
    "dfs = dfs.assign(fdr=adj_pval[1])"
   ]
  },
  {
   "cell_type": "code",
   "execution_count": 24,
   "id": "5878bb72-b4b7-4c8a-9494-f5e9e191b638",
   "metadata": {},
   "outputs": [
    {
     "data": {
      "text/plain": [
       "(304983, 5)"
      ]
     },
     "execution_count": 24,
     "metadata": {},
     "output_type": "execute_result"
    }
   ],
   "source": [
    "dfs.shape"
   ]
  },
  {
   "cell_type": "code",
   "execution_count": 25,
   "id": "0623dadc-a934-4ae2-b514-8029fd8fbed2",
   "metadata": {},
   "outputs": [
    {
     "data": {
      "text/html": [
       "<div>\n",
       "<style scoped>\n",
       "    .dataframe tbody tr th:only-of-type {\n",
       "        vertical-align: middle;\n",
       "    }\n",
       "\n",
       "    .dataframe tbody tr th {\n",
       "        vertical-align: top;\n",
       "    }\n",
       "\n",
       "    .dataframe thead th {\n",
       "        text-align: right;\n",
       "    }\n",
       "</style>\n",
       "<table border=\"1\" class=\"dataframe\">\n",
       "  <thead>\n",
       "    <tr style=\"text-align: right;\">\n",
       "      <th></th>\n",
       "      <th>phenotype</th>\n",
       "      <th>phenotype_desc</th>\n",
       "      <th>lv</th>\n",
       "      <th>pvalue</th>\n",
       "      <th>fdr</th>\n",
       "    </tr>\n",
       "  </thead>\n",
       "  <tbody>\n",
       "    <tr>\n",
       "      <th>0</th>\n",
       "      <td>EUR_440.2</td>\n",
       "      <td>Atherosclerosis of the extremities</td>\n",
       "      <td>LV472</td>\n",
       "      <td>1.033637e-07</td>\n",
       "      <td>0.000658</td>\n",
       "    </tr>\n",
       "    <tr>\n",
       "      <th>1</th>\n",
       "      <td>EUR_440.2</td>\n",
       "      <td>Atherosclerosis of the extremities</td>\n",
       "      <td>LV182</td>\n",
       "      <td>3.710244e-07</td>\n",
       "      <td>0.001432</td>\n",
       "    </tr>\n",
       "    <tr>\n",
       "      <th>2</th>\n",
       "      <td>EUR_440.2</td>\n",
       "      <td>Atherosclerosis of the extremities</td>\n",
       "      <td>LV348</td>\n",
       "      <td>7.379936e-07</td>\n",
       "      <td>0.002558</td>\n",
       "    </tr>\n",
       "    <tr>\n",
       "      <th>3</th>\n",
       "      <td>EUR_440.2</td>\n",
       "      <td>Atherosclerosis of the extremities</td>\n",
       "      <td>LV504</td>\n",
       "      <td>1.534424e-06</td>\n",
       "      <td>0.004500</td>\n",
       "    </tr>\n",
       "    <tr>\n",
       "      <th>4</th>\n",
       "      <td>EUR_440.2</td>\n",
       "      <td>Atherosclerosis of the extremities</td>\n",
       "      <td>LV445</td>\n",
       "      <td>2.912525e-06</td>\n",
       "      <td>0.007402</td>\n",
       "    </tr>\n",
       "  </tbody>\n",
       "</table>\n",
       "</div>"
      ],
      "text/plain": [
       "   phenotype                      phenotype_desc     lv        pvalue  \\\n",
       "0  EUR_440.2  Atherosclerosis of the extremities  LV472  1.033637e-07   \n",
       "1  EUR_440.2  Atherosclerosis of the extremities  LV182  3.710244e-07   \n",
       "2  EUR_440.2  Atherosclerosis of the extremities  LV348  7.379936e-07   \n",
       "3  EUR_440.2  Atherosclerosis of the extremities  LV504  1.534424e-06   \n",
       "4  EUR_440.2  Atherosclerosis of the extremities  LV445  2.912525e-06   \n",
       "\n",
       "        fdr  \n",
       "0  0.000658  \n",
       "1  0.001432  \n",
       "2  0.002558  \n",
       "3  0.004500  \n",
       "4  0.007402  "
      ]
     },
     "execution_count": 25,
     "metadata": {},
     "output_type": "execute_result"
    }
   ],
   "source": [
    "dfs.head()"
   ]
  },
  {
   "cell_type": "markdown",
   "id": "ec45e443-0a39-46a7-85c7-540193a15f25",
   "metadata": {},
   "source": [
    "# QQ-plot"
   ]
  },
  {
   "cell_type": "code",
   "execution_count": 26,
   "id": "de7de0f0-493d-4426-aa14-a330f612407f",
   "metadata": {},
   "outputs": [
    {
     "data": {
      "image/png": "[encoded data removed]",
      "text/plain": [
       "<Figure size 576x576 with 1 Axes>"
      ]
     },
     "metadata": {},
     "output_type": "display_data"
    }
   ],
   "source": [
    "with sns.plotting_context(\"paper\", font_scale=1.8), mpl.rc_context(\n",
    "    {\"lines.markersize\": 3}\n",
    "):\n",
    "    fig, ax = qqplot(dfs[\"pvalue\"])\n",
    "    ax.set_title(f\"eMERGE - {N_PHENOTYPES} traits\")"
   ]
  },
  {
   "cell_type": "markdown",
   "id": "44f26913-0b71-44ba-a884-3a83d221c748",
   "metadata": {},
   "source": [
    "# Top hits"
   ]
  },
  {
   "cell_type": "code",
   "execution_count": 27,
   "id": "d4731278-0adc-47f1-ba18-556e37472026",
   "metadata": {},
   "outputs": [
    {
     "data": {
      "text/html": [
       "<div>\n",
       "<style scoped>\n",
       "    .dataframe tbody tr th:only-of-type {\n",
       "        vertical-align: middle;\n",
       "    }\n",
       "\n",
       "    .dataframe tbody tr th {\n",
       "        vertical-align: top;\n",
       "    }\n",
       "\n",
       "    .dataframe thead th {\n",
       "        text-align: right;\n",
       "    }\n",
       "</style>\n",
       "<table border=\"1\" class=\"dataframe\">\n",
       "  <thead>\n",
       "    <tr style=\"text-align: right;\">\n",
       "      <th></th>\n",
       "      <th>phenotype_desc</th>\n",
       "      <th>lv</th>\n",
       "      <th>pvalue</th>\n",
       "      <th>fdr</th>\n",
       "    </tr>\n",
       "  </thead>\n",
       "  <tbody>\n",
       "    <tr>\n",
       "      <th>10858</th>\n",
       "      <td>Coagulation defects</td>\n",
       "      <td>LV490</td>\n",
       "      <td>1.661877e-17</td>\n",
       "      <td>2.534221e-12</td>\n",
       "    </tr>\n",
       "    <tr>\n",
       "      <th>10857</th>\n",
       "      <td>Coagulation defects</td>\n",
       "      <td>LV149</td>\n",
       "      <td>1.035420e-17</td>\n",
       "      <td>2.534221e-12</td>\n",
       "    </tr>\n",
       "    <tr>\n",
       "      <th>10859</th>\n",
       "      <td>Coagulation defects</td>\n",
       "      <td>LV57</td>\n",
       "      <td>1.303465e-16</td>\n",
       "      <td>1.325116e-11</td>\n",
       "    </tr>\n",
       "    <tr>\n",
       "      <th>246750</th>\n",
       "      <td>Gout</td>\n",
       "      <td>LV770</td>\n",
       "      <td>7.002364e-16</td>\n",
       "      <td>5.021953e-11</td>\n",
       "    </tr>\n",
       "    <tr>\n",
       "      <th>10860</th>\n",
       "      <td>Coagulation defects</td>\n",
       "      <td>LV347</td>\n",
       "      <td>8.233169e-16</td>\n",
       "      <td>5.021953e-11</td>\n",
       "    </tr>\n",
       "    <tr>\n",
       "      <th>185556</th>\n",
       "      <td>Gout and other crystal arthropathies</td>\n",
       "      <td>LV770</td>\n",
       "      <td>6.647582e-15</td>\n",
       "      <td>3.378999e-10</td>\n",
       "    </tr>\n",
       "    <tr>\n",
       "      <th>83895</th>\n",
       "      <td>Type 2 diabetes</td>\n",
       "      <td>LV959</td>\n",
       "      <td>3.597225e-14</td>\n",
       "      <td>1.567275e-09</td>\n",
       "    </tr>\n",
       "    <tr>\n",
       "      <th>118440</th>\n",
       "      <td>Diabetes mellitus</td>\n",
       "      <td>LV959</td>\n",
       "      <td>1.070984e-13</td>\n",
       "      <td>4.082900e-09</td>\n",
       "    </tr>\n",
       "    <tr>\n",
       "      <th>92778</th>\n",
       "      <td>Hypercholesterolemia</td>\n",
       "      <td>LV246</td>\n",
       "      <td>1.297435e-13</td>\n",
       "      <td>4.396619e-09</td>\n",
       "    </tr>\n",
       "    <tr>\n",
       "      <th>175686</th>\n",
       "      <td>Other venous embolism and thrombosis</td>\n",
       "      <td>LV490</td>\n",
       "      <td>5.160790e-12</td>\n",
       "      <td>1.573953e-07</td>\n",
       "    </tr>\n",
       "    <tr>\n",
       "      <th>263529</th>\n",
       "      <td>Hyperlipidemia</td>\n",
       "      <td>LV246</td>\n",
       "      <td>1.385444e-11</td>\n",
       "      <td>3.570114e-07</td>\n",
       "    </tr>\n",
       "    <tr>\n",
       "      <th>179634</th>\n",
       "      <td>Degeneration of macula and posterior pole of retina</td>\n",
       "      <td>LV473</td>\n",
       "      <td>1.404713e-11</td>\n",
       "      <td>3.570114e-07</td>\n",
       "    </tr>\n",
       "    <tr>\n",
       "      <th>195426</th>\n",
       "      <td>Disorders of lipoid metabolism</td>\n",
       "      <td>LV246</td>\n",
       "      <td>1.613478e-11</td>\n",
       "      <td>3.785258e-07</td>\n",
       "    </tr>\n",
       "    <tr>\n",
       "      <th>10861</th>\n",
       "      <td>Coagulation defects</td>\n",
       "      <td>LV418</td>\n",
       "      <td>5.776146e-11</td>\n",
       "      <td>1.258304e-06</td>\n",
       "    </tr>\n",
       "    <tr>\n",
       "      <th>83896</th>\n",
       "      <td>Type 2 diabetes</td>\n",
       "      <td>LV199</td>\n",
       "      <td>1.149258e-10</td>\n",
       "      <td>2.336693e-06</td>\n",
       "    </tr>\n",
       "    <tr>\n",
       "      <th>18753</th>\n",
       "      <td>Atherosclerosis of native arteries of the extremities with intermittent claudication</td>\n",
       "      <td>LV504</td>\n",
       "      <td>1.369999e-10</td>\n",
       "      <td>2.611414e-06</td>\n",
       "    </tr>\n",
       "    <tr>\n",
       "      <th>118441</th>\n",
       "      <td>Diabetes mellitus</td>\n",
       "      <td>LV199</td>\n",
       "      <td>1.792772e-10</td>\n",
       "      <td>3.216265e-06</td>\n",
       "    </tr>\n",
       "    <tr>\n",
       "      <th>83897</th>\n",
       "      <td>Type 2 diabetes</td>\n",
       "      <td>LV877</td>\n",
       "      <td>2.140174e-10</td>\n",
       "      <td>3.626203e-06</td>\n",
       "    </tr>\n",
       "    <tr>\n",
       "      <th>118442</th>\n",
       "      <td>Diabetes mellitus</td>\n",
       "      <td>LV877</td>\n",
       "      <td>3.651482e-10</td>\n",
       "      <td>5.734073e-06</td>\n",
       "    </tr>\n",
       "    <tr>\n",
       "      <th>69090</th>\n",
       "      <td>Gouty arthropathy</td>\n",
       "      <td>LV770</td>\n",
       "      <td>3.760257e-10</td>\n",
       "      <td>5.734073e-06</td>\n",
       "    </tr>\n",
       "    <tr>\n",
       "      <th>179635</th>\n",
       "      <td>Degeneration of macula and posterior pole of retina</td>\n",
       "      <td>LV606</td>\n",
       "      <td>8.366353e-10</td>\n",
       "      <td>1.215045e-05</td>\n",
       "    </tr>\n",
       "    <tr>\n",
       "      <th>175687</th>\n",
       "      <td>Other venous embolism and thrombosis</td>\n",
       "      <td>LV57</td>\n",
       "      <td>1.097275e-09</td>\n",
       "      <td>1.521138e-05</td>\n",
       "    </tr>\n",
       "    <tr>\n",
       "      <th>61194</th>\n",
       "      <td>Deep vein thrombosis [DVT]</td>\n",
       "      <td>LV490</td>\n",
       "      <td>1.669419e-09</td>\n",
       "      <td>2.213672e-05</td>\n",
       "    </tr>\n",
       "    <tr>\n",
       "      <th>118443</th>\n",
       "      <td>Diabetes mellitus</td>\n",
       "      <td>LV814</td>\n",
       "      <td>2.120555e-09</td>\n",
       "      <td>2.694722e-05</td>\n",
       "    </tr>\n",
       "    <tr>\n",
       "      <th>118444</th>\n",
       "      <td>Diabetes mellitus</td>\n",
       "      <td>LV622</td>\n",
       "      <td>3.006115e-09</td>\n",
       "      <td>3.667255e-05</td>\n",
       "    </tr>\n",
       "    <tr>\n",
       "      <th>83898</th>\n",
       "      <td>Type 2 diabetes</td>\n",
       "      <td>LV622</td>\n",
       "      <td>3.411199e-09</td>\n",
       "      <td>4.001376e-05</td>\n",
       "    </tr>\n",
       "    <tr>\n",
       "      <th>83899</th>\n",
       "      <td>Type 2 diabetes</td>\n",
       "      <td>LV814</td>\n",
       "      <td>3.946258e-09</td>\n",
       "      <td>4.434027e-05</td>\n",
       "    </tr>\n",
       "    <tr>\n",
       "      <th>66129</th>\n",
       "      <td>Hypotension NOS</td>\n",
       "      <td>LV693</td>\n",
       "      <td>4.070809e-09</td>\n",
       "      <td>4.434027e-05</td>\n",
       "    </tr>\n",
       "    <tr>\n",
       "      <th>61195</th>\n",
       "      <td>Deep vein thrombosis [DVT]</td>\n",
       "      <td>LV57</td>\n",
       "      <td>4.246591e-09</td>\n",
       "      <td>4.465993e-05</td>\n",
       "    </tr>\n",
       "    <tr>\n",
       "      <th>246751</th>\n",
       "      <td>Gout</td>\n",
       "      <td>LV787</td>\n",
       "      <td>4.809780e-09</td>\n",
       "      <td>4.889671e-05</td>\n",
       "    </tr>\n",
       "    <tr>\n",
       "      <th>179636</th>\n",
       "      <td>Degeneration of macula and posterior pole of retina</td>\n",
       "      <td>LV18</td>\n",
       "      <td>5.598007e-09</td>\n",
       "      <td>5.507409e-05</td>\n",
       "    </tr>\n",
       "    <tr>\n",
       "      <th>254646</th>\n",
       "      <td>Memory loss</td>\n",
       "      <td>LV720</td>\n",
       "      <td>8.081572e-09</td>\n",
       "      <td>7.702319e-05</td>\n",
       "    </tr>\n",
       "    <tr>\n",
       "      <th>31584</th>\n",
       "      <td>Vitamin D deficiency</td>\n",
       "      <td>LV240</td>\n",
       "      <td>1.034669e-08</td>\n",
       "      <td>9.562321e-05</td>\n",
       "    </tr>\n",
       "    <tr>\n",
       "      <th>246752</th>\n",
       "      <td>Gout</td>\n",
       "      <td>LV27</td>\n",
       "      <td>1.193577e-08</td>\n",
       "      <td>1.070649e-04</td>\n",
       "    </tr>\n",
       "    <tr>\n",
       "      <th>254648</th>\n",
       "      <td>Memory loss</td>\n",
       "      <td>LV166</td>\n",
       "      <td>1.914552e-08</td>\n",
       "      <td>1.621961e-04</td>\n",
       "    </tr>\n",
       "    <tr>\n",
       "      <th>254647</th>\n",
       "      <td>Memory loss</td>\n",
       "      <td>LV285</td>\n",
       "      <td>1.884709e-08</td>\n",
       "      <td>1.621961e-04</td>\n",
       "    </tr>\n",
       "    <tr>\n",
       "      <th>83900</th>\n",
       "      <td>Type 2 diabetes</td>\n",
       "      <td>LV94</td>\n",
       "      <td>1.968821e-08</td>\n",
       "      <td>1.622856e-04</td>\n",
       "    </tr>\n",
       "    <tr>\n",
       "      <th>185557</th>\n",
       "      <td>Gout and other crystal arthropathies</td>\n",
       "      <td>LV787</td>\n",
       "      <td>2.209490e-08</td>\n",
       "      <td>1.773308e-04</td>\n",
       "    </tr>\n",
       "    <tr>\n",
       "      <th>185558</th>\n",
       "      <td>Gout and other crystal arthropathies</td>\n",
       "      <td>LV653</td>\n",
       "      <td>4.094520e-08</td>\n",
       "      <td>3.201946e-04</td>\n",
       "    </tr>\n",
       "    <tr>\n",
       "      <th>246753</th>\n",
       "      <td>Gout</td>\n",
       "      <td>LV727</td>\n",
       "      <td>4.377635e-08</td>\n",
       "      <td>3.337760e-04</td>\n",
       "    </tr>\n",
       "    <tr>\n",
       "      <th>185559</th>\n",
       "      <td>Gout and other crystal arthropathies</td>\n",
       "      <td>LV159</td>\n",
       "      <td>6.895491e-08</td>\n",
       "      <td>4.779563e-04</td>\n",
       "    </tr>\n",
       "    <tr>\n",
       "      <th>246755</th>\n",
       "      <td>Gout</td>\n",
       "      <td>LV159</td>\n",
       "      <td>6.872734e-08</td>\n",
       "      <td>4.779563e-04</td>\n",
       "    </tr>\n",
       "    <tr>\n",
       "      <th>78960</th>\n",
       "      <td>Disorders of refraction and accommodation; blindness and low vision</td>\n",
       "      <td>LV285</td>\n",
       "      <td>6.540218e-08</td>\n",
       "      <td>4.779563e-04</td>\n",
       "    </tr>\n",
       "    <tr>\n",
       "      <th>246754</th>\n",
       "      <td>Gout</td>\n",
       "      <td>LV752</td>\n",
       "      <td>6.867525e-08</td>\n",
       "      <td>4.779563e-04</td>\n",
       "    </tr>\n",
       "    <tr>\n",
       "      <th>118445</th>\n",
       "      <td>Diabetes mellitus</td>\n",
       "      <td>LV891</td>\n",
       "      <td>8.099156e-08</td>\n",
       "      <td>5.489122e-04</td>\n",
       "    </tr>\n",
       "    <tr>\n",
       "      <th>31585</th>\n",
       "      <td>Vitamin D deficiency</td>\n",
       "      <td>LV545</td>\n",
       "      <td>9.715779e-08</td>\n",
       "      <td>6.441625e-04</td>\n",
       "    </tr>\n",
       "    <tr>\n",
       "      <th>0</th>\n",
       "      <td>Atherosclerosis of the extremities</td>\n",
       "      <td>LV472</td>\n",
       "      <td>1.033637e-07</td>\n",
       "      <td>6.578871e-04</td>\n",
       "    </tr>\n",
       "    <tr>\n",
       "      <th>185560</th>\n",
       "      <td>Gout and other crystal arthropathies</td>\n",
       "      <td>LV965</td>\n",
       "      <td>1.035421e-07</td>\n",
       "      <td>6.578871e-04</td>\n",
       "    </tr>\n",
       "    <tr>\n",
       "      <th>246756</th>\n",
       "      <td>Gout</td>\n",
       "      <td>LV602</td>\n",
       "      <td>1.261378e-07</td>\n",
       "      <td>7.850997e-04</td>\n",
       "    </tr>\n",
       "    <tr>\n",
       "      <th>189504</th>\n",
       "      <td>Hearing loss</td>\n",
       "      <td>LV849</td>\n",
       "      <td>1.313725e-07</td>\n",
       "      <td>8.013274e-04</td>\n",
       "    </tr>\n",
       "  </tbody>\n",
       "</table>\n",
       "</div>"
      ],
      "text/plain": [
       "                                                                              phenotype_desc  \\\n",
       "10858                                                                    Coagulation defects   \n",
       "10857                                                                    Coagulation defects   \n",
       "10859                                                                    Coagulation defects   \n",
       "246750                                                                                  Gout   \n",
       "10860                                                                    Coagulation defects   \n",
       "185556                                                  Gout and other crystal arthropathies   \n",
       "83895                                                                        Type 2 diabetes   \n",
       "118440                                                                     Diabetes mellitus   \n",
       "92778                                                                   Hypercholesterolemia   \n",
       "175686                                                  Other venous embolism and thrombosis   \n",
       "263529                                                                        Hyperlipidemia   \n",
       "179634                                   Degeneration of macula and posterior pole of retina   \n",
       "195426                                                        Disorders of lipoid metabolism   \n",
       "10861                                                                    Coagulation defects   \n",
       "83896                                                                        Type 2 diabetes   \n",
       "18753   Atherosclerosis of native arteries of the extremities with intermittent claudication   \n",
       "118441                                                                     Diabetes mellitus   \n",
       "83897                                                                        Type 2 diabetes   \n",
       "118442                                                                     Diabetes mellitus   \n",
       "69090                                                                      Gouty arthropathy   \n",
       "179635                                   Degeneration of macula and posterior pole of retina   \n",
       "175687                                                  Other venous embolism and thrombosis   \n",
       "61194                                                             Deep vein thrombosis [DVT]   \n",
       "118443                                                                     Diabetes mellitus   \n",
       "118444                                                                     Diabetes mellitus   \n",
       "83898                                                                        Type 2 diabetes   \n",
       "83899                                                                        Type 2 diabetes   \n",
       "66129                                                                        Hypotension NOS   \n",
       "61195                                                             Deep vein thrombosis [DVT]   \n",
       "246751                                                                                  Gout   \n",
       "179636                                   Degeneration of macula and posterior pole of retina   \n",
       "254646                                                                           Memory loss   \n",
       "31584                                                                   Vitamin D deficiency   \n",
       "246752                                                                                  Gout   \n",
       "254648                                                                           Memory loss   \n",
       "254647                                                                           Memory loss   \n",
       "83900                                                                        Type 2 diabetes   \n",
       "185557                                                  Gout and other crystal arthropathies   \n",
       "185558                                                  Gout and other crystal arthropathies   \n",
       "246753                                                                                  Gout   \n",
       "185559                                                  Gout and other crystal arthropathies   \n",
       "246755                                                                                  Gout   \n",
       "78960                    Disorders of refraction and accommodation; blindness and low vision   \n",
       "246754                                                                                  Gout   \n",
       "118445                                                                     Diabetes mellitus   \n",
       "31585                                                                   Vitamin D deficiency   \n",
       "0                                                         Atherosclerosis of the extremities   \n",
       "185560                                                  Gout and other crystal arthropathies   \n",
       "246756                                                                                  Gout   \n",
       "189504                                                                          Hearing loss   \n",
       "\n",
       "           lv        pvalue           fdr  \n",
       "10858   LV490  1.661877e-17  2.534221e-12  \n",
       "10857   LV149  1.035420e-17  2.534221e-12  \n",
       "10859    LV57  1.303465e-16  1.325116e-11  \n",
       "246750  LV770  7.002364e-16  5.021953e-11  \n",
       "10860   LV347  8.233169e-16  5.021953e-11  \n",
       "185556  LV770  6.647582e-15  3.378999e-10  \n",
       "83895   LV959  3.597225e-14  1.567275e-09  \n",
       "118440  LV959  1.070984e-13  4.082900e-09  \n",
       "92778   LV246  1.297435e-13  4.396619e-09  \n",
       "175686  LV490  5.160790e-12  1.573953e-07  \n",
       "263529  LV246  1.385444e-11  3.570114e-07  \n",
       "179634  LV473  1.404713e-11  3.570114e-07  \n",
       "195426  LV246  1.613478e-11  3.785258e-07  \n",
       "10861   LV418  5.776146e-11  1.258304e-06  \n",
       "83896   LV199  1.149258e-10  2.336693e-06  \n",
       "18753   LV504  1.369999e-10  2.611414e-06  \n",
       "118441  LV199  1.792772e-10  3.216265e-06  \n",
       "83897   LV877  2.140174e-10  3.626203e-06  \n",
       "118442  LV877  3.651482e-10  5.734073e-06  \n",
       "69090   LV770  3.760257e-10  5.734073e-06  \n",
       "179635  LV606  8.366353e-10  1.215045e-05  \n",
       "175687   LV57  1.097275e-09  1.521138e-05  \n",
       "61194   LV490  1.669419e-09  2.213672e-05  \n",
       "118443  LV814  2.120555e-09  2.694722e-05  \n",
       "118444  LV622  3.006115e-09  3.667255e-05  \n",
       "83898   LV622  3.411199e-09  4.001376e-05  \n",
       "83899   LV814  3.946258e-09  4.434027e-05  \n",
       "66129   LV693  4.070809e-09  4.434027e-05  \n",
       "61195    LV57  4.246591e-09  4.465993e-05  \n",
       "246751  LV787  4.809780e-09  4.889671e-05  \n",
       "179636   LV18  5.598007e-09  5.507409e-05  \n",
       "254646  LV720  8.081572e-09  7.702319e-05  \n",
       "31584   LV240  1.034669e-08  9.562321e-05  \n",
       "246752   LV27  1.193577e-08  1.070649e-04  \n",
       "254648  LV166  1.914552e-08  1.621961e-04  \n",
       "254647  LV285  1.884709e-08  1.621961e-04  \n",
       "83900    LV94  1.968821e-08  1.622856e-04  \n",
       "185557  LV787  2.209490e-08  1.773308e-04  \n",
       "185558  LV653  4.094520e-08  3.201946e-04  \n",
       "246753  LV727  4.377635e-08  3.337760e-04  \n",
       "185559  LV159  6.895491e-08  4.779563e-04  \n",
       "246755  LV159  6.872734e-08  4.779563e-04  \n",
       "78960   LV285  6.540218e-08  4.779563e-04  \n",
       "246754  LV752  6.867525e-08  4.779563e-04  \n",
       "118445  LV891  8.099156e-08  5.489122e-04  \n",
       "31585   LV545  9.715779e-08  6.441625e-04  \n",
       "0       LV472  1.033637e-07  6.578871e-04  \n",
       "185560  LV965  1.035421e-07  6.578871e-04  \n",
       "246756  LV602  1.261378e-07  7.850997e-04  \n",
       "189504  LV849  1.313725e-07  8.013274e-04  "
      ]
     },
     "metadata": {},
     "output_type": "display_data"
    }
   ],
   "source": [
    "with pd.option_context(\"display.max_columns\", None, \"display.max_colwidth\", None):\n",
    "    _tmp = dfs.sort_values(\"fdr\").drop(columns=\"phenotype\")\n",
    "    _tmp = _tmp[_tmp[\"fdr\"] < 0.05]\n",
    "    display(_tmp.head(50))"
   ]
  },
  {
   "cell_type": "markdown",
   "id": "43daf9dd-7530-4e53-8fc0-305aa78b5be3",
   "metadata": {},
   "source": [
    "## LV246"
   ]
  },
  {
   "cell_type": "code",
   "execution_count": 28,
   "id": "d230ce21-91a8-4a15-93ef-f69c459150ec",
   "metadata": {},
   "outputs": [
    {
     "data": {
      "text/html": [
       "<div>\n",
       "<style scoped>\n",
       "    .dataframe tbody tr th:only-of-type {\n",
       "        vertical-align: middle;\n",
       "    }\n",
       "\n",
       "    .dataframe tbody tr th {\n",
       "        vertical-align: top;\n",
       "    }\n",
       "\n",
       "    .dataframe thead th {\n",
       "        text-align: right;\n",
       "    }\n",
       "</style>\n",
       "<table border=\"1\" class=\"dataframe\">\n",
       "  <thead>\n",
       "    <tr style=\"text-align: right;\">\n",
       "      <th></th>\n",
       "      <th>phenotype_desc</th>\n",
       "      <th>lv</th>\n",
       "      <th>pvalue</th>\n",
       "      <th>fdr</th>\n",
       "    </tr>\n",
       "  </thead>\n",
       "  <tbody>\n",
       "    <tr>\n",
       "      <th>92778</th>\n",
       "      <td>Hypercholesterolemia</td>\n",
       "      <td>LV246</td>\n",
       "      <td>1.297435e-13</td>\n",
       "      <td>4.396619e-09</td>\n",
       "    </tr>\n",
       "    <tr>\n",
       "      <th>263529</th>\n",
       "      <td>Hyperlipidemia</td>\n",
       "      <td>LV246</td>\n",
       "      <td>1.385444e-11</td>\n",
       "      <td>3.570114e-07</td>\n",
       "    </tr>\n",
       "    <tr>\n",
       "      <th>195426</th>\n",
       "      <td>Disorders of lipoid metabolism</td>\n",
       "      <td>LV246</td>\n",
       "      <td>1.613478e-11</td>\n",
       "      <td>3.785258e-07</td>\n",
       "    </tr>\n",
       "    <tr>\n",
       "      <th>254654</th>\n",
       "      <td>Memory loss</td>\n",
       "      <td>LV246</td>\n",
       "      <td>9.477824e-06</td>\n",
       "      <td>1.795786e-02</td>\n",
       "    </tr>\n",
       "  </tbody>\n",
       "</table>\n",
       "</div>"
      ],
      "text/plain": [
       "                        phenotype_desc     lv        pvalue           fdr\n",
       "92778             Hypercholesterolemia  LV246  1.297435e-13  4.396619e-09\n",
       "263529                  Hyperlipidemia  LV246  1.385444e-11  3.570114e-07\n",
       "195426  Disorders of lipoid metabolism  LV246  1.613478e-11  3.785258e-07\n",
       "254654                     Memory loss  LV246  9.477824e-06  1.795786e-02"
      ]
     },
     "metadata": {},
     "output_type": "display_data"
    }
   ],
   "source": [
    "with pd.option_context(\"display.max_columns\", None, \"display.max_colwidth\", None):\n",
    "    _tmp = dfs[dfs[\"lv\"] == \"LV246\"].sort_values(\"fdr\").drop(columns=\"phenotype\")\n",
    "    _tmp = _tmp[_tmp[\"fdr\"] < 0.05]\n",
    "    display(_tmp.head(50))"
   ]
  },
  {
   "cell_type": "markdown",
   "id": "4584fb22-976b-4994-bb78-9c81019058c3",
   "metadata": {},
   "source": [
    "# Optimize data types"
   ]
  },
  {
   "cell_type": "code",
   "execution_count": 29,
   "id": "39b4a3da-9372-492b-b239-fc2d1273ade4",
   "metadata": {},
   "outputs": [
    {
     "data": {
      "text/html": [
       "<div>\n",
       "<style scoped>\n",
       "    .dataframe tbody tr th:only-of-type {\n",
       "        vertical-align: middle;\n",
       "    }\n",
       "\n",
       "    .dataframe tbody tr th {\n",
       "        vertical-align: top;\n",
       "    }\n",
       "\n",
       "    .dataframe thead th {\n",
       "        text-align: right;\n",
       "    }\n",
       "</style>\n",
       "<table border=\"1\" class=\"dataframe\">\n",
       "  <thead>\n",
       "    <tr style=\"text-align: right;\">\n",
       "      <th></th>\n",
       "      <th>phenotype</th>\n",
       "      <th>phenotype_desc</th>\n",
       "      <th>lv</th>\n",
       "      <th>pvalue</th>\n",
       "      <th>fdr</th>\n",
       "    </tr>\n",
       "  </thead>\n",
       "  <tbody>\n",
       "    <tr>\n",
       "      <th>0</th>\n",
       "      <td>EUR_440.2</td>\n",
       "      <td>Atherosclerosis of the extremities</td>\n",
       "      <td>LV472</td>\n",
       "      <td>1.033637e-07</td>\n",
       "      <td>0.000658</td>\n",
       "    </tr>\n",
       "    <tr>\n",
       "      <th>1</th>\n",
       "      <td>EUR_440.2</td>\n",
       "      <td>Atherosclerosis of the extremities</td>\n",
       "      <td>LV182</td>\n",
       "      <td>3.710244e-07</td>\n",
       "      <td>0.001432</td>\n",
       "    </tr>\n",
       "    <tr>\n",
       "      <th>2</th>\n",
       "      <td>EUR_440.2</td>\n",
       "      <td>Atherosclerosis of the extremities</td>\n",
       "      <td>LV348</td>\n",
       "      <td>7.379936e-07</td>\n",
       "      <td>0.002558</td>\n",
       "    </tr>\n",
       "    <tr>\n",
       "      <th>3</th>\n",
       "      <td>EUR_440.2</td>\n",
       "      <td>Atherosclerosis of the extremities</td>\n",
       "      <td>LV504</td>\n",
       "      <td>1.534424e-06</td>\n",
       "      <td>0.004500</td>\n",
       "    </tr>\n",
       "    <tr>\n",
       "      <th>4</th>\n",
       "      <td>EUR_440.2</td>\n",
       "      <td>Atherosclerosis of the extremities</td>\n",
       "      <td>LV445</td>\n",
       "      <td>2.912525e-06</td>\n",
       "      <td>0.007402</td>\n",
       "    </tr>\n",
       "  </tbody>\n",
       "</table>\n",
       "</div>"
      ],
      "text/plain": [
       "   phenotype                      phenotype_desc     lv        pvalue  \\\n",
       "0  EUR_440.2  Atherosclerosis of the extremities  LV472  1.033637e-07   \n",
       "1  EUR_440.2  Atherosclerosis of the extremities  LV182  3.710244e-07   \n",
       "2  EUR_440.2  Atherosclerosis of the extremities  LV348  7.379936e-07   \n",
       "3  EUR_440.2  Atherosclerosis of the extremities  LV504  1.534424e-06   \n",
       "4  EUR_440.2  Atherosclerosis of the extremities  LV445  2.912525e-06   \n",
       "\n",
       "        fdr  \n",
       "0  0.000658  \n",
       "1  0.001432  \n",
       "2  0.002558  \n",
       "3  0.004500  \n",
       "4  0.007402  "
      ]
     },
     "execution_count": 29,
     "metadata": {},
     "output_type": "execute_result"
    }
   ],
   "source": [
    "dfs.head()"
   ]
  },
  {
   "cell_type": "code",
   "execution_count": 30,
   "id": "1fa4ab15-9fe9-467a-a365-66d2b591a455",
   "metadata": {},
   "outputs": [
    {
     "data": {
      "text/plain": [
       "Index                 128\n",
       "phenotype         2439864\n",
       "phenotype_desc    2439864\n",
       "lv                2439864\n",
       "pvalue            2439864\n",
       "fdr               2439864\n",
       "dtype: int64"
      ]
     },
     "execution_count": 30,
     "metadata": {},
     "output_type": "execute_result"
    }
   ],
   "source": [
    "dfs.memory_usage()"
   ]
  },
  {
   "cell_type": "code",
   "execution_count": 31,
   "id": "9e651ad8-6f66-4189-a07a-4967891600c4",
   "metadata": {},
   "outputs": [],
   "source": [
    "dfs[\"phenotype\"] = dfs[\"phenotype\"].astype(\"category\")\n",
    "dfs[\"phenotype_desc\"] = dfs[\"phenotype_desc\"].astype(\"category\")\n",
    "dfs[\"lv\"] = dfs[\"lv\"].astype(\"category\")"
   ]
  },
  {
   "cell_type": "code",
   "execution_count": 32,
   "id": "84001a8d-d406-470e-9746-9454602e8871",
   "metadata": {},
   "outputs": [
    {
     "data": {
      "text/html": [
       "<div>\n",
       "<style scoped>\n",
       "    .dataframe tbody tr th:only-of-type {\n",
       "        vertical-align: middle;\n",
       "    }\n",
       "\n",
       "    .dataframe tbody tr th {\n",
       "        vertical-align: top;\n",
       "    }\n",
       "\n",
       "    .dataframe thead th {\n",
       "        text-align: right;\n",
       "    }\n",
       "</style>\n",
       "<table border=\"1\" class=\"dataframe\">\n",
       "  <thead>\n",
       "    <tr style=\"text-align: right;\">\n",
       "      <th></th>\n",
       "      <th>phenotype</th>\n",
       "      <th>phenotype_desc</th>\n",
       "      <th>lv</th>\n",
       "      <th>pvalue</th>\n",
       "      <th>fdr</th>\n",
       "    </tr>\n",
       "  </thead>\n",
       "  <tbody>\n",
       "    <tr>\n",
       "      <th>0</th>\n",
       "      <td>EUR_440.2</td>\n",
       "      <td>Atherosclerosis of the extremities</td>\n",
       "      <td>LV472</td>\n",
       "      <td>1.033637e-07</td>\n",
       "      <td>0.000658</td>\n",
       "    </tr>\n",
       "    <tr>\n",
       "      <th>1</th>\n",
       "      <td>EUR_440.2</td>\n",
       "      <td>Atherosclerosis of the extremities</td>\n",
       "      <td>LV182</td>\n",
       "      <td>3.710244e-07</td>\n",
       "      <td>0.001432</td>\n",
       "    </tr>\n",
       "    <tr>\n",
       "      <th>2</th>\n",
       "      <td>EUR_440.2</td>\n",
       "      <td>Atherosclerosis of the extremities</td>\n",
       "      <td>LV348</td>\n",
       "      <td>7.379936e-07</td>\n",
       "      <td>0.002558</td>\n",
       "    </tr>\n",
       "    <tr>\n",
       "      <th>3</th>\n",
       "      <td>EUR_440.2</td>\n",
       "      <td>Atherosclerosis of the extremities</td>\n",
       "      <td>LV504</td>\n",
       "      <td>1.534424e-06</td>\n",
       "      <td>0.004500</td>\n",
       "    </tr>\n",
       "    <tr>\n",
       "      <th>4</th>\n",
       "      <td>EUR_440.2</td>\n",
       "      <td>Atherosclerosis of the extremities</td>\n",
       "      <td>LV445</td>\n",
       "      <td>2.912525e-06</td>\n",
       "      <td>0.007402</td>\n",
       "    </tr>\n",
       "  </tbody>\n",
       "</table>\n",
       "</div>"
      ],
      "text/plain": [
       "   phenotype                      phenotype_desc     lv        pvalue  \\\n",
       "0  EUR_440.2  Atherosclerosis of the extremities  LV472  1.033637e-07   \n",
       "1  EUR_440.2  Atherosclerosis of the extremities  LV182  3.710244e-07   \n",
       "2  EUR_440.2  Atherosclerosis of the extremities  LV348  7.379936e-07   \n",
       "3  EUR_440.2  Atherosclerosis of the extremities  LV504  1.534424e-06   \n",
       "4  EUR_440.2  Atherosclerosis of the extremities  LV445  2.912525e-06   \n",
       "\n",
       "        fdr  \n",
       "0  0.000658  \n",
       "1  0.001432  \n",
       "2  0.002558  \n",
       "3  0.004500  \n",
       "4  0.007402  "
      ]
     },
     "execution_count": 32,
     "metadata": {},
     "output_type": "execute_result"
    }
   ],
   "source": [
    "dfs.head()"
   ]
  },
  {
   "cell_type": "code",
   "execution_count": 33,
   "id": "bc9910a0-35fb-409c-828f-b283d3d0d6d6",
   "metadata": {},
   "outputs": [
    {
     "data": {
      "text/plain": [
       "Index                 128\n",
       "phenotype          622678\n",
       "phenotype_desc     622678\n",
       "lv                 658822\n",
       "pvalue            2439864\n",
       "fdr               2439864\n",
       "dtype: int64"
      ]
     },
     "execution_count": 33,
     "metadata": {},
     "output_type": "execute_result"
    }
   ],
   "source": [
    "dfs.memory_usage()"
   ]
  },
  {
   "cell_type": "markdown",
   "id": "3b38c985-e1e2-4f14-bc6b-ac23d0e8a87a",
   "metadata": {},
   "source": [
    "# Save"
   ]
  },
  {
   "cell_type": "code",
   "execution_count": 34,
   "id": "34f2e127-317c-45c3-99ce-c5f539057153",
   "metadata": {},
   "outputs": [
    {
     "data": {
      "text/plain": [
       "PosixPath('/opt/data/results/gls/gls-summary-emerge.pkl.gz')"
      ]
     },
     "metadata": {},
     "output_type": "display_data"
    }
   ],
   "source": [
    "output_file = OUTPUT_DIR / \"gls-summary-emerge.pkl.gz\"\n",
    "display(output_file)"
   ]
  },
  {
   "cell_type": "code",
   "execution_count": 35,
   "id": "0e32637a-d3fb-4833-93d3-7d680ee8bdbe",
   "metadata": {},
   "outputs": [],
   "source": [
    "dfs.to_pickle(output_file)"
   ]
  },
  {
   "cell_type": "code",
   "execution_count": null,
   "id": "9aff4c2e-cfc7-4313-b5b2-30e59ee5f12b",
   "metadata": {},
   "outputs": [],
   "source": []
  }
 ],
 "metadata": {
  "jupytext": {
   "cell_metadata_filter": "all,-execution,-papermill,-trusted",
   "formats": "ipynb,py//py:percent"
  },
  "kernelspec": {
   "display_name": "Python 3 (ipykernel)",
   "language": "python",
   "name": "python3"
  },
  "language_info": {
   "codemirror_mode": {
    "name": "ipython",
    "version": 3
   },
   "file_extension": ".py",
   "mimetype": "text/x-python",
   "name": "python",
   "nbconvert_exporter": "python",
   "pygments_lexer": "ipython3",
   "version": "3.8.13"
  },
  "papermill": {
   "default_parameters": {},
   "duration": 2.899223,
   "end_time": "2022-02-24T05:32:05.472242",
   "environment_variables": {},
   "exception": null,
   "input_path": "nbs/15_gsa_gls/26-gls-null_simulations-plots.ipynb",
   "output_path": "nbs/15_gsa_gls/26-gls-null_simulations-plots.run.ipynb",
   "parameters": {},
   "start_time": "2022-02-24T05:32:02.573019",
   "version": "2.2.2"
  },
  "toc-autonumbering": true
 },
 "nbformat": 4,
 "nbformat_minor": 5
}
