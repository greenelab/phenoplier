{
 "cells": [
  {
   "cell_type": "markdown",
   "id": "88e50759-56ef-4d6c-88b4-5daf5b2be438",
   "metadata": {},
   "source": [
    "# Description"
   ]
  },
  {
   "cell_type": "markdown",
   "id": "5ab0a512-dd22-406c-8cf4-9b5c6902618c",
   "metadata": {},
   "source": [
    "TODO"
   ]
  },
  {
   "cell_type": "markdown",
   "id": "82035864-e836-43c5-bf57-3d242a6b82fa",
   "metadata": {},
   "source": [
    "# Modules"
   ]
  },
  {
   "cell_type": "code",
   "execution_count": 1,
   "id": "9f0ffe4b-c8ce-4277-8cc4-5c949130e273",
   "metadata": {},
   "outputs": [
    {
     "name": "stderr",
     "output_type": "stream",
     "text": [
      "── \u001b[1mAttaching packages\u001b[22m ─────────────────────────────────────── tidyverse 1.3.1 ──\n",
      "\n",
      "\u001b[32m✔\u001b[39m \u001b[34mggplot2\u001b[39m 3.3.5     \u001b[32m✔\u001b[39m \u001b[34mpurrr  \u001b[39m 0.3.4\n",
      "\u001b[32m✔\u001b[39m \u001b[34mtibble \u001b[39m 3.1.6     \u001b[32m✔\u001b[39m \u001b[34mdplyr  \u001b[39m 1.0.8\n",
      "\u001b[32m✔\u001b[39m \u001b[34mtidyr  \u001b[39m 1.2.0     \u001b[32m✔\u001b[39m \u001b[34mstringr\u001b[39m 1.4.0\n",
      "\u001b[32m✔\u001b[39m \u001b[34mreadr  \u001b[39m 2.1.2     \u001b[32m✔\u001b[39m \u001b[34mforcats\u001b[39m 0.5.1\n",
      "\n",
      "── \u001b[1mConflicts\u001b[22m ────────────────────────────────────────── tidyverse_conflicts() ──\n",
      "\u001b[31m✖\u001b[39m \u001b[34mdplyr\u001b[39m::\u001b[32mfilter()\u001b[39m masks \u001b[34mstats\u001b[39m::filter()\n",
      "\u001b[31m✖\u001b[39m \u001b[34mdplyr\u001b[39m::\u001b[32mlag()\u001b[39m    masks \u001b[34mstats\u001b[39m::lag()\n",
      "\n"
     ]
    }
   ],
   "source": [
    "library(tidyverse)"
   ]
  },
  {
   "cell_type": "markdown",
   "id": "7a6fd2c6-985c-42a2-97c9-156ad913d8e9",
   "metadata": {},
   "source": [
    "# Paths"
   ]
  },
  {
   "cell_type": "code",
   "execution_count": 2,
   "id": "a397d4d7-6c2e-4bae-8148-e331f1a507cf",
   "metadata": {},
   "outputs": [],
   "source": [
    "A1000G_GENOTYPES_DIR <- Sys.getenv(\"PHENOPLIER_A1000G_GENOTYPES_DIR\")"
   ]
  },
  {
   "cell_type": "code",
   "execution_count": 3,
   "id": "9eeb7d67-5e3d-4df6-b734-7bed4b32eacf",
   "metadata": {},
   "outputs": [
    {
     "data": {
      "text/html": [
       "'/opt/data/data/1000g/genotypes'"
      ],
      "text/latex": [
       "'/opt/data/data/1000g/genotypes'"
      ],
      "text/markdown": [
       "'/opt/data/data/1000g/genotypes'"
      ],
      "text/plain": [
       "[1] \"/opt/data/data/1000g/genotypes\""
      ]
     },
     "metadata": {},
     "output_type": "display_data"
    }
   ],
   "source": [
    "A1000G_GENOTYPES_DIR"
   ]
  },
  {
   "cell_type": "code",
   "execution_count": 4,
   "id": "ce37e50c-993e-4f55-bedc-95a543cd94b0",
   "metadata": {},
   "outputs": [],
   "source": [
    "SUBSETS_DIR <- file.path(A1000G_GENOTYPES_DIR, \"subsets\")"
   ]
  },
  {
   "cell_type": "code",
   "execution_count": 5,
   "id": "c4042cca-3ad3-467e-bfa6-97dbaf48fdc8",
   "metadata": {},
   "outputs": [
    {
     "data": {
      "text/html": [
       "'/opt/data/data/1000g/genotypes/subsets'"
      ],
      "text/latex": [
       "'/opt/data/data/1000g/genotypes/subsets'"
      ],
      "text/markdown": [
       "'/opt/data/data/1000g/genotypes/subsets'"
      ],
      "text/plain": [
       "[1] \"/opt/data/data/1000g/genotypes/subsets\""
      ]
     },
     "metadata": {},
     "output_type": "display_data"
    }
   ],
   "source": [
    "SUBSETS_DIR"
   ]
  },
  {
   "cell_type": "markdown",
   "id": "513a1e33-ad0b-494f-8176-578b523000af",
   "metadata": {},
   "source": [
    "# Load data"
   ]
  },
  {
   "cell_type": "code",
   "execution_count": 6,
   "id": "3beed1d1-5f4d-4588-b9f1-95c99e4b991a",
   "metadata": {},
   "outputs": [
    {
     "name": "stderr",
     "output_type": "stream",
     "text": [
      "Warning message:\n",
      "“Missing column names filled in: 'X10' [10]”\n",
      "Warning message:\n",
      "“80855722 parsing failures.\n",
      "row col   expected    actual                                                      file\n",
      "  1  -- 10 columns 9 columns '/opt/data/data/1000g/genotypes/subsets/all_phase3.3.hwe'\n",
      "  2  -- 10 columns 9 columns '/opt/data/data/1000g/genotypes/subsets/all_phase3.3.hwe'\n",
      "  3  -- 10 columns 9 columns '/opt/data/data/1000g/genotypes/subsets/all_phase3.3.hwe'\n",
      "  4  -- 10 columns 9 columns '/opt/data/data/1000g/genotypes/subsets/all_phase3.3.hwe'\n",
      "  5  -- 10 columns 9 columns '/opt/data/data/1000g/genotypes/subsets/all_phase3.3.hwe'\n",
      "... ... .......... ......... .........................................................\n",
      "See problems(...) for more details.\n",
      "”\n"
     ]
    }
   ],
   "source": [
    "hwe <- as.data.frame(read_table(file.path(SUBSETS_DIR, \"all_phase3.3.hwe\"), col_types = cols_only(P = 'n')))"
   ]
  },
  {
   "cell_type": "code",
   "execution_count": 7,
   "id": "66ec44f1-b2b0-4c7e-8aad-81aaa6612b71",
   "metadata": {},
   "outputs": [
    {
     "data": {
      "text/html": [
       "<style>\n",
       ".list-inline {list-style: none; margin:0; padding: 0}\n",
       ".list-inline>li {display: inline-block}\n",
       ".list-inline>li:not(:last-child)::after {content: \"\\00b7\"; padding: 0 .5ex}\n",
       "</style>\n",
       "<ol class=list-inline><li>80855722</li><li>1</li></ol>\n"
      ],
      "text/latex": [
       "\\begin{enumerate*}\n",
       "\\item 80855722\n",
       "\\item 1\n",
       "\\end{enumerate*}\n"
      ],
      "text/markdown": [
       "1. 80855722\n",
       "2. 1\n",
       "\n",
       "\n"
      ],
      "text/plain": [
       "[1] 80855722        1"
      ]
     },
     "metadata": {},
     "output_type": "display_data"
    }
   ],
   "source": [
    "dim(hwe)"
   ]
  },
  {
   "cell_type": "code",
   "execution_count": 8,
   "id": "d92e3b57-390f-4a55-bfc4-c3bf08ff1af0",
   "metadata": {},
   "outputs": [
    {
     "data": {
      "text/html": [
       "<table class=\"dataframe\">\n",
       "<caption>A data.frame: 6 × 1</caption>\n",
       "<thead>\n",
       "\t<tr><th></th><th scope=col>P</th></tr>\n",
       "\t<tr><th></th><th scope=col>&lt;dbl&gt;</th></tr>\n",
       "</thead>\n",
       "<tbody>\n",
       "\t<tr><th scope=row>1</th><td> 5.056e-18</td></tr>\n",
       "\t<tr><th scope=row>2</th><td> 1.000e+00</td></tr>\n",
       "\t<tr><th scope=row>3</th><td>3.145e-180</td></tr>\n",
       "\t<tr><th scope=row>4</th><td> 1.000e+00</td></tr>\n",
       "\t<tr><th scope=row>5</th><td> 1.000e+00</td></tr>\n",
       "\t<tr><th scope=row>6</th><td> 1.000e+00</td></tr>\n",
       "</tbody>\n",
       "</table>\n"
      ],
      "text/latex": [
       "A data.frame: 6 × 1\n",
       "\\begin{tabular}{r|l}\n",
       "  & P\\\\\n",
       "  & <dbl>\\\\\n",
       "\\hline\n",
       "\t1 &  5.056e-18\\\\\n",
       "\t2 &  1.000e+00\\\\\n",
       "\t3 & 3.145e-180\\\\\n",
       "\t4 &  1.000e+00\\\\\n",
       "\t5 &  1.000e+00\\\\\n",
       "\t6 &  1.000e+00\\\\\n",
       "\\end{tabular}\n"
      ],
      "text/markdown": [
       "\n",
       "A data.frame: 6 × 1\n",
       "\n",
       "| <!--/--> | P &lt;dbl&gt; |\n",
       "|---|---|\n",
       "| 1 |  5.056e-18 |\n",
       "| 2 |  1.000e+00 |\n",
       "| 3 | 3.145e-180 |\n",
       "| 4 |  1.000e+00 |\n",
       "| 5 |  1.000e+00 |\n",
       "| 6 |  1.000e+00 |\n",
       "\n"
      ],
      "text/plain": [
       "  P         \n",
       "1  5.056e-18\n",
       "2  1.000e+00\n",
       "3 3.145e-180\n",
       "4  1.000e+00\n",
       "5  1.000e+00\n",
       "6  1.000e+00"
      ]
     },
     "metadata": {},
     "output_type": "display_data"
    }
   ],
   "source": [
    "head(hwe)"
   ]
  },
  {
   "cell_type": "markdown",
   "id": "1498fba5-fdd0-4768-b597-1814eb787538",
   "metadata": {},
   "source": [
    "# Histogram on all SNPs"
   ]
  },
  {
   "cell_type": "code",
   "execution_count": 9,
   "id": "dde72f4f-6a5e-4517-ba1e-76da10ee4666",
   "metadata": {},
   "outputs": [
    {
     "data": {
      "image/png": "[encoded data removed]",
      "text/plain": [
       "Plot with title “Histogram HWE”"
      ]
     },
     "metadata": {
      "image/png": {
       "height": 420,
       "width": 420
      }
     },
     "output_type": "display_data"
    }
   ],
   "source": [
    "hist(hwe[,1],main=\"Histogram HWE\")"
   ]
  },
  {
   "cell_type": "markdown",
   "id": "eebba50d-fdc8-4fe3-860a-2c0f8b21a285",
   "metadata": {},
   "source": [
    "# Histogram on strongly HWE deviating SNPs only"
   ]
  },
  {
   "cell_type": "code",
   "execution_count": 10,
   "id": "e9896456-6725-4bce-9626-61169be10e2a",
   "metadata": {},
   "outputs": [
    {
     "data": {
      "text/html": [
       "'[6,297,651 x 1]'"
      ],
      "text/latex": [
       "'{[}6,297,651 x 1{]}'"
      ],
      "text/markdown": [
       "'[6,297,651 x 1]'"
      ],
      "text/plain": [
       "[1] \"[6,297,651 x 1]\""
      ]
     },
     "metadata": {},
     "output_type": "display_data"
    }
   ],
   "source": [
    "hwe %>% filter(P < 0.01)  %>% dim_desc"
   ]
  },
  {
   "cell_type": "code",
   "execution_count": 11,
   "id": "76fcc0d4-9d66-4220-a2df-b160110995b5",
   "metadata": {},
   "outputs": [
    {
     "data": {
      "text/html": [
       "'[6,297,651 x 1]'"
      ],
      "text/latex": [
       "'{[}6,297,651 x 1{]}'"
      ],
      "text/markdown": [
       "'[6,297,651 x 1]'"
      ],
      "text/plain": [
       "[1] \"[6,297,651 x 1]\""
      ]
     },
     "metadata": {},
     "output_type": "display_data"
    }
   ],
   "source": [
    "hwe %>% filter(P < 1e-2)  %>% dim_desc"
   ]
  },
  {
   "cell_type": "code",
   "execution_count": 12,
   "id": "48a3114a-c6dd-4c8d-9223-1111d301f5d8",
   "metadata": {},
   "outputs": [
    {
     "data": {
      "text/html": [
       "'[3,276,017 x 1]'"
      ],
      "text/latex": [
       "'{[}3,276,017 x 1{]}'"
      ],
      "text/markdown": [
       "'[3,276,017 x 1]'"
      ],
      "text/plain": [
       "[1] \"[3,276,017 x 1]\""
      ]
     },
     "metadata": {},
     "output_type": "display_data"
    }
   ],
   "source": [
    "hwe %>% filter(P < 1e-4)  %>% dim_desc"
   ]
  },
  {
   "cell_type": "code",
   "execution_count": 13,
   "id": "595c470a-a7a8-4799-8c50-4f355e7038e1",
   "metadata": {},
   "outputs": [
    {
     "data": {
      "text/html": [
       "'[2,175,695 x 1]'"
      ],
      "text/latex": [
       "'{[}2,175,695 x 1{]}'"
      ],
      "text/markdown": [
       "'[2,175,695 x 1]'"
      ],
      "text/plain": [
       "[1] \"[2,175,695 x 1]\""
      ]
     },
     "metadata": {},
     "output_type": "display_data"
    }
   ],
   "source": [
    "hwe %>% filter(P < 1e-6)  %>% dim_desc"
   ]
  },
  {
   "cell_type": "code",
   "execution_count": 14,
   "id": "1c10970d-a14a-4fd7-b22c-7804412fb73e",
   "metadata": {},
   "outputs": [
    {
     "data": {
      "text/html": [
       "'[1,224,307 x 1]'"
      ],
      "text/latex": [
       "'{[}1,224,307 x 1{]}'"
      ],
      "text/markdown": [
       "'[1,224,307 x 1]'"
      ],
      "text/plain": [
       "[1] \"[1,224,307 x 1]\""
      ]
     },
     "metadata": {},
     "output_type": "display_data"
    }
   ],
   "source": [
    "hwe %>% filter(P < 1e-10)  %>% dim_desc"
   ]
  },
  {
   "cell_type": "code",
   "execution_count": 15,
   "id": "74f194ce-3c7c-46c7-a4fd-47566c023cd7",
   "metadata": {},
   "outputs": [
    {
     "data": {
      "text/html": [
       "'[734,364 x 1]'"
      ],
      "text/latex": [
       "'{[}734,364 x 1{]}'"
      ],
      "text/markdown": [
       "'[734,364 x 1]'"
      ],
      "text/plain": [
       "[1] \"[734,364 x 1]\""
      ]
     },
     "metadata": {},
     "output_type": "display_data"
    }
   ],
   "source": [
    "hwe %>% filter(P < 1e-15)  %>% dim_desc"
   ]
  },
  {
   "cell_type": "code",
   "execution_count": 16,
   "id": "5afb3420-4114-4bb4-b7e7-da91f5efa18d",
   "metadata": {},
   "outputs": [],
   "source": [
    "hwe_zoom <- hwe %>% filter(P < 1e-10)"
   ]
  },
  {
   "cell_type": "code",
   "execution_count": 17,
   "id": "21c715ea-96e3-4ebd-87b0-5382a91eb1b5",
   "metadata": {},
   "outputs": [
    {
     "data": {
      "image/png": "[encoded data removed]",
      "text/plain": [
       "Plot with title “Histogram HWE: strongly deviating SNPs only”"
      ]
     },
     "metadata": {
      "image/png": {
       "height": 420,
       "width": 420
      }
     },
     "output_type": "display_data"
    }
   ],
   "source": [
    "hist(hwe_zoom[,1],main=\"Histogram HWE: strongly deviating SNPs only\")"
   ]
  },
  {
   "cell_type": "code",
   "execution_count": null,
   "id": "74d10c63-d0a4-4c7b-95ce-89ab44dac856",
   "metadata": {},
   "outputs": [],
   "source": []
  }
 ],
 "metadata": {
  "jupytext": {
   "cell_metadata_filter": "all,-execution,-papermill,-trusted"
  },
  "kernelspec": {
   "display_name": "R",
   "language": "R",
   "name": "ir"
  },
  "language_info": {
   "codemirror_mode": "r",
   "file_extension": ".r",
   "mimetype": "text/x-r-source",
   "name": "R",
   "pygments_lexer": "r",
   "version": "3.6.3"
  }
 },
 "nbformat": 4,
 "nbformat_minor": 5
}
