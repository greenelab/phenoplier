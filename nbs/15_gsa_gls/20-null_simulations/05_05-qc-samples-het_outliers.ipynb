{
 "cells": [
  {
   "cell_type": "markdown",
   "id": "88e50759-56ef-4d6c-88b4-5daf5b2be438",
   "metadata": {},
   "source": [
    "# Description"
   ]
  },
  {
   "cell_type": "markdown",
   "id": "5ab0a512-dd22-406c-8cf4-9b5c6902618c",
   "metadata": {},
   "source": [
    "TODO"
   ]
  },
  {
   "cell_type": "markdown",
   "id": "82035864-e836-43c5-bf57-3d242a6b82fa",
   "metadata": {},
   "source": [
    "# Modules"
   ]
  },
  {
   "cell_type": "code",
   "execution_count": 1,
   "id": "9f0ffe4b-c8ce-4277-8cc4-5c949130e273",
   "metadata": {},
   "outputs": [
    {
     "name": "stderr",
     "output_type": "stream",
     "text": [
      "── \u001b[1mAttaching packages\u001b[22m ─────────────────────────────────────── tidyverse 1.3.1 ──\n",
      "\n",
      "\u001b[32m✔\u001b[39m \u001b[34mggplot2\u001b[39m 3.3.5     \u001b[32m✔\u001b[39m \u001b[34mpurrr  \u001b[39m 0.3.4\n",
      "\u001b[32m✔\u001b[39m \u001b[34mtibble \u001b[39m 3.1.6     \u001b[32m✔\u001b[39m \u001b[34mdplyr  \u001b[39m 1.0.8\n",
      "\u001b[32m✔\u001b[39m \u001b[34mtidyr  \u001b[39m 1.2.0     \u001b[32m✔\u001b[39m \u001b[34mstringr\u001b[39m 1.4.0\n",
      "\u001b[32m✔\u001b[39m \u001b[34mreadr  \u001b[39m 2.1.2     \u001b[32m✔\u001b[39m \u001b[34mforcats\u001b[39m 0.5.1\n",
      "\n",
      "── \u001b[1mConflicts\u001b[22m ────────────────────────────────────────── tidyverse_conflicts() ──\n",
      "\u001b[31m✖\u001b[39m \u001b[34mdplyr\u001b[39m::\u001b[32mfilter()\u001b[39m masks \u001b[34mstats\u001b[39m::filter()\n",
      "\u001b[31m✖\u001b[39m \u001b[34mdplyr\u001b[39m::\u001b[32mlag()\u001b[39m    masks \u001b[34mstats\u001b[39m::lag()\n",
      "\n"
     ]
    }
   ],
   "source": [
    "library(tidyverse)"
   ]
  },
  {
   "cell_type": "markdown",
   "id": "7a6fd2c6-985c-42a2-97c9-156ad913d8e9",
   "metadata": {},
   "source": [
    "# Paths"
   ]
  },
  {
   "cell_type": "code",
   "execution_count": 2,
   "id": "a397d4d7-6c2e-4bae-8148-e331f1a507cf",
   "metadata": {},
   "outputs": [],
   "source": [
    "A1000G_GENOTYPES_DIR <- Sys.getenv(\"PHENOPLIER_A1000G_GENOTYPES_DIR\")"
   ]
  },
  {
   "cell_type": "code",
   "execution_count": 3,
   "id": "9eeb7d67-5e3d-4df6-b734-7bed4b32eacf",
   "metadata": {},
   "outputs": [
    {
     "data": {
      "text/html": [
       "'/opt/data/data/1000g/genotypes'"
      ],
      "text/latex": [
       "'/opt/data/data/1000g/genotypes'"
      ],
      "text/markdown": [
       "'/opt/data/data/1000g/genotypes'"
      ],
      "text/plain": [
       "[1] \"/opt/data/data/1000g/genotypes\""
      ]
     },
     "metadata": {},
     "output_type": "display_data"
    }
   ],
   "source": [
    "A1000G_GENOTYPES_DIR"
   ]
  },
  {
   "cell_type": "code",
   "execution_count": 4,
   "id": "ce37e50c-993e-4f55-bedc-95a543cd94b0",
   "metadata": {},
   "outputs": [],
   "source": [
    "SUBSETS_DIR <- file.path(A1000G_GENOTYPES_DIR, \"subsets\")"
   ]
  },
  {
   "cell_type": "code",
   "execution_count": 5,
   "id": "c4042cca-3ad3-467e-bfa6-97dbaf48fdc8",
   "metadata": {},
   "outputs": [
    {
     "data": {
      "text/html": [
       "'/opt/data/data/1000g/genotypes/subsets'"
      ],
      "text/latex": [
       "'/opt/data/data/1000g/genotypes/subsets'"
      ],
      "text/markdown": [
       "'/opt/data/data/1000g/genotypes/subsets'"
      ],
      "text/plain": [
       "[1] \"/opt/data/data/1000g/genotypes/subsets\""
      ]
     },
     "metadata": {},
     "output_type": "display_data"
    }
   ],
   "source": [
    "SUBSETS_DIR"
   ]
  },
  {
   "cell_type": "markdown",
   "id": "513a1e33-ad0b-494f-8176-578b523000af",
   "metadata": {},
   "source": [
    "# Load data"
   ]
  },
  {
   "cell_type": "code",
   "execution_count": 6,
   "id": "3beed1d1-5f4d-4588-b9f1-95c99e4b991a",
   "metadata": {},
   "outputs": [],
   "source": [
    "het <- read.table(file.path(SUBSETS_DIR, \"all_phase3.4.indepSNP.R_check.het\"), head=TRUE)"
   ]
  },
  {
   "cell_type": "code",
   "execution_count": 7,
   "id": "9bd018fb-4828-4ecb-a09b-d35387cf9eec",
   "metadata": {},
   "outputs": [
    {
     "data": {
      "text/html": [
       "<style>\n",
       ".list-inline {list-style: none; margin:0; padding: 0}\n",
       ".list-inline>li {display: inline-block}\n",
       ".list-inline>li:not(:last-child)::after {content: \"\\00b7\"; padding: 0 .5ex}\n",
       "</style>\n",
       "<ol class=list-inline><li>1765</li><li>6</li></ol>\n"
      ],
      "text/latex": [
       "\\begin{enumerate*}\n",
       "\\item 1765\n",
       "\\item 6\n",
       "\\end{enumerate*}\n"
      ],
      "text/markdown": [
       "1. 1765\n",
       "2. 6\n",
       "\n",
       "\n"
      ],
      "text/plain": [
       "[1] 1765    6"
      ]
     },
     "metadata": {},
     "output_type": "display_data"
    }
   ],
   "source": [
    "dim(het)"
   ]
  },
  {
   "cell_type": "code",
   "execution_count": 8,
   "id": "5805bd12-56f4-49bd-9607-75726b906ba5",
   "metadata": {},
   "outputs": [
    {
     "data": {
      "text/html": [
       "<table class=\"dataframe\">\n",
       "<caption>A data.frame: 6 × 6</caption>\n",
       "<thead>\n",
       "\t<tr><th></th><th scope=col>FID</th><th scope=col>IID</th><th scope=col>O.HOM.</th><th scope=col>E.HOM.</th><th scope=col>N.NM.</th><th scope=col>F</th></tr>\n",
       "\t<tr><th></th><th scope=col>&lt;int&gt;</th><th scope=col>&lt;fct&gt;</th><th scope=col>&lt;int&gt;</th><th scope=col>&lt;dbl&gt;</th><th scope=col>&lt;int&gt;</th><th scope=col>&lt;dbl&gt;</th></tr>\n",
       "</thead>\n",
       "<tbody>\n",
       "\t<tr><th scope=row>1</th><td>0</td><td>HG00096</td><td>54304312</td><td>54130000</td><td>55041128</td><td>0.1890</td></tr>\n",
       "\t<tr><th scope=row>2</th><td>0</td><td>HG00101</td><td>54303647</td><td>54130000</td><td>55041128</td><td>0.1883</td></tr>\n",
       "\t<tr><th scope=row>3</th><td>0</td><td>HG00103</td><td>54310541</td><td>54130000</td><td>55041128</td><td>0.1959</td></tr>\n",
       "\t<tr><th scope=row>4</th><td>0</td><td>HG00105</td><td>54307769</td><td>54130000</td><td>55041128</td><td>0.1928</td></tr>\n",
       "\t<tr><th scope=row>5</th><td>0</td><td>HG00107</td><td>54311333</td><td>54130000</td><td>55041128</td><td>0.1967</td></tr>\n",
       "\t<tr><th scope=row>6</th><td>0</td><td>HG00108</td><td>54305610</td><td>54130000</td><td>55041128</td><td>0.1904</td></tr>\n",
       "</tbody>\n",
       "</table>\n"
      ],
      "text/latex": [
       "A data.frame: 6 × 6\n",
       "\\begin{tabular}{r|llllll}\n",
       "  & FID & IID & O.HOM. & E.HOM. & N.NM. & F\\\\\n",
       "  & <int> & <fct> & <int> & <dbl> & <int> & <dbl>\\\\\n",
       "\\hline\n",
       "\t1 & 0 & HG00096 & 54304312 & 54130000 & 55041128 & 0.1890\\\\\n",
       "\t2 & 0 & HG00101 & 54303647 & 54130000 & 55041128 & 0.1883\\\\\n",
       "\t3 & 0 & HG00103 & 54310541 & 54130000 & 55041128 & 0.1959\\\\\n",
       "\t4 & 0 & HG00105 & 54307769 & 54130000 & 55041128 & 0.1928\\\\\n",
       "\t5 & 0 & HG00107 & 54311333 & 54130000 & 55041128 & 0.1967\\\\\n",
       "\t6 & 0 & HG00108 & 54305610 & 54130000 & 55041128 & 0.1904\\\\\n",
       "\\end{tabular}\n"
      ],
      "text/markdown": [
       "\n",
       "A data.frame: 6 × 6\n",
       "\n",
       "| <!--/--> | FID &lt;int&gt; | IID &lt;fct&gt; | O.HOM. &lt;int&gt; | E.HOM. &lt;dbl&gt; | N.NM. &lt;int&gt; | F &lt;dbl&gt; |\n",
       "|---|---|---|---|---|---|---|\n",
       "| 1 | 0 | HG00096 | 54304312 | 54130000 | 55041128 | 0.1890 |\n",
       "| 2 | 0 | HG00101 | 54303647 | 54130000 | 55041128 | 0.1883 |\n",
       "| 3 | 0 | HG00103 | 54310541 | 54130000 | 55041128 | 0.1959 |\n",
       "| 4 | 0 | HG00105 | 54307769 | 54130000 | 55041128 | 0.1928 |\n",
       "| 5 | 0 | HG00107 | 54311333 | 54130000 | 55041128 | 0.1967 |\n",
       "| 6 | 0 | HG00108 | 54305610 | 54130000 | 55041128 | 0.1904 |\n",
       "\n"
      ],
      "text/plain": [
       "  FID IID     O.HOM.   E.HOM.   N.NM.    F     \n",
       "1 0   HG00096 54304312 54130000 55041128 0.1890\n",
       "2 0   HG00101 54303647 54130000 55041128 0.1883\n",
       "3 0   HG00103 54310541 54130000 55041128 0.1959\n",
       "4 0   HG00105 54307769 54130000 55041128 0.1928\n",
       "5 0   HG00107 54311333 54130000 55041128 0.1967\n",
       "6 0   HG00108 54305610 54130000 55041128 0.1904"
      ]
     },
     "metadata": {},
     "output_type": "display_data"
    }
   ],
   "source": [
    "head(het)"
   ]
  },
  {
   "cell_type": "code",
   "execution_count": 9,
   "id": "a423a982-6909-4e97-a76a-d77f2606cb81",
   "metadata": {},
   "outputs": [],
   "source": [
    "het$HET_RATE = (het$\"N.NM.\" - het$\"O.HOM.\")/het$\"N.NM.\""
   ]
  },
  {
   "cell_type": "code",
   "execution_count": 10,
   "id": "ded8a120-3e62-43c9-b795-0646261309a7",
   "metadata": {},
   "outputs": [
    {
     "data": {
      "text/html": [
       "<table class=\"dataframe\">\n",
       "<caption>A data.frame: 6 × 7</caption>\n",
       "<thead>\n",
       "\t<tr><th></th><th scope=col>FID</th><th scope=col>IID</th><th scope=col>O.HOM.</th><th scope=col>E.HOM.</th><th scope=col>N.NM.</th><th scope=col>F</th><th scope=col>HET_RATE</th></tr>\n",
       "\t<tr><th></th><th scope=col>&lt;int&gt;</th><th scope=col>&lt;fct&gt;</th><th scope=col>&lt;int&gt;</th><th scope=col>&lt;dbl&gt;</th><th scope=col>&lt;int&gt;</th><th scope=col>&lt;dbl&gt;</th><th scope=col>&lt;dbl&gt;</th></tr>\n",
       "</thead>\n",
       "<tbody>\n",
       "\t<tr><th scope=row>1</th><td>0</td><td>HG00096</td><td>54304312</td><td>54130000</td><td>55041128</td><td>0.1890</td><td>0.01338664</td></tr>\n",
       "\t<tr><th scope=row>2</th><td>0</td><td>HG00101</td><td>54303647</td><td>54130000</td><td>55041128</td><td>0.1883</td><td>0.01339873</td></tr>\n",
       "\t<tr><th scope=row>3</th><td>0</td><td>HG00103</td><td>54310541</td><td>54130000</td><td>55041128</td><td>0.1959</td><td>0.01327347</td></tr>\n",
       "\t<tr><th scope=row>4</th><td>0</td><td>HG00105</td><td>54307769</td><td>54130000</td><td>55041128</td><td>0.1928</td><td>0.01332384</td></tr>\n",
       "\t<tr><th scope=row>5</th><td>0</td><td>HG00107</td><td>54311333</td><td>54130000</td><td>55041128</td><td>0.1967</td><td>0.01325909</td></tr>\n",
       "\t<tr><th scope=row>6</th><td>0</td><td>HG00108</td><td>54305610</td><td>54130000</td><td>55041128</td><td>0.1904</td><td>0.01336306</td></tr>\n",
       "</tbody>\n",
       "</table>\n"
      ],
      "text/latex": [
       "A data.frame: 6 × 7\n",
       "\\begin{tabular}{r|lllllll}\n",
       "  & FID & IID & O.HOM. & E.HOM. & N.NM. & F & HET\\_RATE\\\\\n",
       "  & <int> & <fct> & <int> & <dbl> & <int> & <dbl> & <dbl>\\\\\n",
       "\\hline\n",
       "\t1 & 0 & HG00096 & 54304312 & 54130000 & 55041128 & 0.1890 & 0.01338664\\\\\n",
       "\t2 & 0 & HG00101 & 54303647 & 54130000 & 55041128 & 0.1883 & 0.01339873\\\\\n",
       "\t3 & 0 & HG00103 & 54310541 & 54130000 & 55041128 & 0.1959 & 0.01327347\\\\\n",
       "\t4 & 0 & HG00105 & 54307769 & 54130000 & 55041128 & 0.1928 & 0.01332384\\\\\n",
       "\t5 & 0 & HG00107 & 54311333 & 54130000 & 55041128 & 0.1967 & 0.01325909\\\\\n",
       "\t6 & 0 & HG00108 & 54305610 & 54130000 & 55041128 & 0.1904 & 0.01336306\\\\\n",
       "\\end{tabular}\n"
      ],
      "text/markdown": [
       "\n",
       "A data.frame: 6 × 7\n",
       "\n",
       "| <!--/--> | FID &lt;int&gt; | IID &lt;fct&gt; | O.HOM. &lt;int&gt; | E.HOM. &lt;dbl&gt; | N.NM. &lt;int&gt; | F &lt;dbl&gt; | HET_RATE &lt;dbl&gt; |\n",
       "|---|---|---|---|---|---|---|---|\n",
       "| 1 | 0 | HG00096 | 54304312 | 54130000 | 55041128 | 0.1890 | 0.01338664 |\n",
       "| 2 | 0 | HG00101 | 54303647 | 54130000 | 55041128 | 0.1883 | 0.01339873 |\n",
       "| 3 | 0 | HG00103 | 54310541 | 54130000 | 55041128 | 0.1959 | 0.01327347 |\n",
       "| 4 | 0 | HG00105 | 54307769 | 54130000 | 55041128 | 0.1928 | 0.01332384 |\n",
       "| 5 | 0 | HG00107 | 54311333 | 54130000 | 55041128 | 0.1967 | 0.01325909 |\n",
       "| 6 | 0 | HG00108 | 54305610 | 54130000 | 55041128 | 0.1904 | 0.01336306 |\n",
       "\n"
      ],
      "text/plain": [
       "  FID IID     O.HOM.   E.HOM.   N.NM.    F      HET_RATE  \n",
       "1 0   HG00096 54304312 54130000 55041128 0.1890 0.01338664\n",
       "2 0   HG00101 54303647 54130000 55041128 0.1883 0.01339873\n",
       "3 0   HG00103 54310541 54130000 55041128 0.1959 0.01327347\n",
       "4 0   HG00105 54307769 54130000 55041128 0.1928 0.01332384\n",
       "5 0   HG00107 54311333 54130000 55041128 0.1967 0.01325909\n",
       "6 0   HG00108 54305610 54130000 55041128 0.1904 0.01336306"
      ]
     },
     "metadata": {},
     "output_type": "display_data"
    }
   ],
   "source": [
    "head(het)"
   ]
  },
  {
   "cell_type": "code",
   "execution_count": 11,
   "id": "1678d6d4-9d6d-4616-8cb2-9638d56480c7",
   "metadata": {},
   "outputs": [
    {
     "data": {
      "text/html": [
       "<table class=\"dataframe\">\n",
       "<caption>A data.frame: 1 × 4</caption>\n",
       "<thead>\n",
       "\t<tr><th scope=col>mean</th><th scope=col>sd</th><th scope=col>max</th><th scope=col>min</th></tr>\n",
       "\t<tr><th scope=col>&lt;dbl&gt;</th><th scope=col>&lt;dbl&gt;</th><th scope=col>&lt;dbl&gt;</th><th scope=col>&lt;dbl&gt;</th></tr>\n",
       "</thead>\n",
       "<tbody>\n",
       "\t<tr><td>0.01576232</td><td>0.003276683</td><td>0.02087675</td><td>0.01064359</td></tr>\n",
       "</tbody>\n",
       "</table>\n"
      ],
      "text/latex": [
       "A data.frame: 1 × 4\n",
       "\\begin{tabular}{llll}\n",
       " mean & sd & max & min\\\\\n",
       " <dbl> & <dbl> & <dbl> & <dbl>\\\\\n",
       "\\hline\n",
       "\t 0.01576232 & 0.003276683 & 0.02087675 & 0.01064359\\\\\n",
       "\\end{tabular}\n"
      ],
      "text/markdown": [
       "\n",
       "A data.frame: 1 × 4\n",
       "\n",
       "| mean &lt;dbl&gt; | sd &lt;dbl&gt; | max &lt;dbl&gt; | min &lt;dbl&gt; |\n",
       "|---|---|---|---|\n",
       "| 0.01576232 | 0.003276683 | 0.02087675 | 0.01064359 |\n",
       "\n"
      ],
      "text/plain": [
       "  mean       sd          max        min       \n",
       "1 0.01576232 0.003276683 0.02087675 0.01064359"
      ]
     },
     "metadata": {},
     "output_type": "display_data"
    }
   ],
   "source": [
    "het %>% summarise(mean= mean(HET_RATE), sd= sd(HET_RATE), max = max(HET_RATE),min = min(HET_RATE))"
   ]
  },
  {
   "cell_type": "code",
   "execution_count": 12,
   "id": "d8871cd9-7f3d-4f4d-8556-3f0dbfc431d1",
   "metadata": {},
   "outputs": [],
   "source": [
    "het_fail = subset(het, (het$HET_RATE < mean(het$HET_RATE)-1.5*sd(het$HET_RATE)) | (het$HET_RATE > mean(het$HET_RATE)+1.5*sd(het$HET_RATE)));"
   ]
  },
  {
   "cell_type": "code",
   "execution_count": 13,
   "id": "6dea26ce-fd68-4f88-ac56-3c37c53aa409",
   "metadata": {},
   "outputs": [],
   "source": [
    "het_fail$HET_DST = (het_fail$HET_RATE-mean(het$HET_RATE))/sd(het$HET_RATE);"
   ]
  },
  {
   "cell_type": "code",
   "execution_count": 14,
   "id": "a80d6aa2-4655-4297-a53b-038212154a38",
   "metadata": {},
   "outputs": [
    {
     "data": {
      "text/html": [
       "<style>\n",
       ".list-inline {list-style: none; margin:0; padding: 0}\n",
       ".list-inline>li {display: inline-block}\n",
       ".list-inline>li:not(:last-child)::after {content: \"\\00b7\"; padding: 0 .5ex}\n",
       "</style>\n",
       "<ol class=list-inline><li>18</li><li>8</li></ol>\n"
      ],
      "text/latex": [
       "\\begin{enumerate*}\n",
       "\\item 18\n",
       "\\item 8\n",
       "\\end{enumerate*}\n"
      ],
      "text/markdown": [
       "1. 18\n",
       "2. 8\n",
       "\n",
       "\n"
      ],
      "text/plain": [
       "[1] 18  8"
      ]
     },
     "metadata": {},
     "output_type": "display_data"
    }
   ],
   "source": [
    "dim(het_fail)"
   ]
  },
  {
   "cell_type": "code",
   "execution_count": 15,
   "id": "c4804296-e563-4ed1-8f54-5cb416d2bfc7",
   "metadata": {},
   "outputs": [
    {
     "data": {
      "text/html": [
       "<table class=\"dataframe\">\n",
       "<caption>A data.frame: 6 × 8</caption>\n",
       "<thead>\n",
       "\t<tr><th></th><th scope=col>FID</th><th scope=col>IID</th><th scope=col>O.HOM.</th><th scope=col>E.HOM.</th><th scope=col>N.NM.</th><th scope=col>F</th><th scope=col>HET_RATE</th><th scope=col>HET_DST</th></tr>\n",
       "\t<tr><th></th><th scope=col>&lt;int&gt;</th><th scope=col>&lt;fct&gt;</th><th scope=col>&lt;int&gt;</th><th scope=col>&lt;dbl&gt;</th><th scope=col>&lt;int&gt;</th><th scope=col>&lt;dbl&gt;</th><th scope=col>&lt;dbl&gt;</th><th scope=col>&lt;dbl&gt;</th></tr>\n",
       "</thead>\n",
       "<tbody>\n",
       "\t<tr><th scope=row>378</th><td>0</td><td>HG01816</td><td>54445278</td><td>54130000</td><td>55041128</td><td> 0.3442</td><td>0.01082554</td><td>-1.506639</td></tr>\n",
       "\t<tr><th scope=row>412</th><td>0</td><td>HG01926</td><td>54451364</td><td>54130000</td><td>55041128</td><td> 0.3509</td><td>0.01071497</td><td>-1.540384</td></tr>\n",
       "\t<tr><th scope=row>425</th><td>0</td><td>HG01961</td><td>54455293</td><td>54130000</td><td>55041128</td><td> 0.3552</td><td>0.01064359</td><td>-1.562169</td></tr>\n",
       "\t<tr><th scope=row>515</th><td>0</td><td>HG02291</td><td>54445814</td><td>54130000</td><td>55041128</td><td> 0.3448</td><td>0.01081580</td><td>-1.509611</td></tr>\n",
       "\t<tr><th scope=row>779</th><td>0</td><td>HG03052</td><td>53892048</td><td>54130000</td><td>55041128</td><td>-0.2648</td><td>0.02087675</td><td> 1.560857</td></tr>\n",
       "\t<tr><th scope=row>788</th><td>0</td><td>HG03066</td><td>53901191</td><td>54130000</td><td>55041128</td><td>-0.2547</td><td>0.02071064</td><td> 1.510162</td></tr>\n",
       "</tbody>\n",
       "</table>\n"
      ],
      "text/latex": [
       "A data.frame: 6 × 8\n",
       "\\begin{tabular}{r|llllllll}\n",
       "  & FID & IID & O.HOM. & E.HOM. & N.NM. & F & HET\\_RATE & HET\\_DST\\\\\n",
       "  & <int> & <fct> & <int> & <dbl> & <int> & <dbl> & <dbl> & <dbl>\\\\\n",
       "\\hline\n",
       "\t378 & 0 & HG01816 & 54445278 & 54130000 & 55041128 &  0.3442 & 0.01082554 & -1.506639\\\\\n",
       "\t412 & 0 & HG01926 & 54451364 & 54130000 & 55041128 &  0.3509 & 0.01071497 & -1.540384\\\\\n",
       "\t425 & 0 & HG01961 & 54455293 & 54130000 & 55041128 &  0.3552 & 0.01064359 & -1.562169\\\\\n",
       "\t515 & 0 & HG02291 & 54445814 & 54130000 & 55041128 &  0.3448 & 0.01081580 & -1.509611\\\\\n",
       "\t779 & 0 & HG03052 & 53892048 & 54130000 & 55041128 & -0.2648 & 0.02087675 &  1.560857\\\\\n",
       "\t788 & 0 & HG03066 & 53901191 & 54130000 & 55041128 & -0.2547 & 0.02071064 &  1.510162\\\\\n",
       "\\end{tabular}\n"
      ],
      "text/markdown": [
       "\n",
       "A data.frame: 6 × 8\n",
       "\n",
       "| <!--/--> | FID &lt;int&gt; | IID &lt;fct&gt; | O.HOM. &lt;int&gt; | E.HOM. &lt;dbl&gt; | N.NM. &lt;int&gt; | F &lt;dbl&gt; | HET_RATE &lt;dbl&gt; | HET_DST &lt;dbl&gt; |\n",
       "|---|---|---|---|---|---|---|---|---|\n",
       "| 378 | 0 | HG01816 | 54445278 | 54130000 | 55041128 |  0.3442 | 0.01082554 | -1.506639 |\n",
       "| 412 | 0 | HG01926 | 54451364 | 54130000 | 55041128 |  0.3509 | 0.01071497 | -1.540384 |\n",
       "| 425 | 0 | HG01961 | 54455293 | 54130000 | 55041128 |  0.3552 | 0.01064359 | -1.562169 |\n",
       "| 515 | 0 | HG02291 | 54445814 | 54130000 | 55041128 |  0.3448 | 0.01081580 | -1.509611 |\n",
       "| 779 | 0 | HG03052 | 53892048 | 54130000 | 55041128 | -0.2648 | 0.02087675 |  1.560857 |\n",
       "| 788 | 0 | HG03066 | 53901191 | 54130000 | 55041128 | -0.2547 | 0.02071064 |  1.510162 |\n",
       "\n"
      ],
      "text/plain": [
       "    FID IID     O.HOM.   E.HOM.   N.NM.    F       HET_RATE   HET_DST  \n",
       "378 0   HG01816 54445278 54130000 55041128  0.3442 0.01082554 -1.506639\n",
       "412 0   HG01926 54451364 54130000 55041128  0.3509 0.01071497 -1.540384\n",
       "425 0   HG01961 54455293 54130000 55041128  0.3552 0.01064359 -1.562169\n",
       "515 0   HG02291 54445814 54130000 55041128  0.3448 0.01081580 -1.509611\n",
       "779 0   HG03052 53892048 54130000 55041128 -0.2648 0.02087675  1.560857\n",
       "788 0   HG03066 53901191 54130000 55041128 -0.2547 0.02071064  1.510162"
      ]
     },
     "metadata": {},
     "output_type": "display_data"
    }
   ],
   "source": [
    "head(het_fail)"
   ]
  },
  {
   "cell_type": "code",
   "execution_count": 16,
   "id": "2dd935c5-41a9-4a91-9648-a33cd8aa216d",
   "metadata": {},
   "outputs": [],
   "source": [
    "write.table(het_fail, file.path(SUBSETS_DIR, \"all_phase3.4.fail-het-qc.txt\"), row.names=FALSE)"
   ]
  },
  {
   "cell_type": "code",
   "execution_count": null,
   "id": "74d10c63-d0a4-4c7b-95ce-89ab44dac856",
   "metadata": {},
   "outputs": [],
   "source": []
  }
 ],
 "metadata": {
  "jupytext": {
   "cell_metadata_filter": "all,-execution,-papermill,-trusted"
  },
  "kernelspec": {
   "display_name": "R",
   "language": "R",
   "name": "ir"
  },
  "language_info": {
   "codemirror_mode": "r",
   "file_extension": ".r",
   "mimetype": "text/x-r-source",
   "name": "R",
   "pygments_lexer": "r",
   "version": "3.6.3"
  }
 },
 "nbformat": 4,
 "nbformat_minor": 5
}
