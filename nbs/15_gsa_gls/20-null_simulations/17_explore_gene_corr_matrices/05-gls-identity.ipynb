{
 "cells": [
  {
   "cell_type": "markdown",
   "id": "b7acf0c2",
   "metadata": {
    "papermill": {
     "duration": 0.038207,
     "end_time": "2022-02-24T05:32:03.755452",
     "exception": false,
     "start_time": "2022-02-24T05:32:03.717245",
     "status": "completed"
    },
    "tags": []
   },
   "source": [
    "# Description"
   ]
  },
  {
   "cell_type": "markdown",
   "id": "2653adfb",
   "metadata": {
    "papermill": {
     "duration": 0.009944,
     "end_time": "2022-02-24T05:32:03.780673",
     "exception": false,
     "start_time": "2022-02-24T05:32:03.770729",
     "status": "completed"
    },
    "tags": []
   },
   "source": [
    "TODO\n",
    "\n",
    "- rename this file to be 27-\n",
    "\n",
    "This file is actually the same as `05-gls-qqplot.ipynb` but in python; pick one of them."
   ]
  },
  {
   "cell_type": "markdown",
   "id": "fb645f46",
   "metadata": {
    "papermill": {
     "duration": 0.008401,
     "end_time": "2022-02-24T05:32:03.797668",
     "exception": false,
     "start_time": "2022-02-24T05:32:03.789267",
     "status": "completed"
    },
    "tags": []
   },
   "source": [
    "# Modules"
   ]
  },
  {
   "cell_type": "code",
   "execution_count": 1,
   "id": "7ce51c68",
   "metadata": {
    "papermill": {
     "duration": 0.861241,
     "end_time": "2022-02-24T05:32:04.667481",
     "exception": false,
     "start_time": "2022-02-24T05:32:03.806240",
     "status": "completed"
    },
    "tags": []
   },
   "outputs": [],
   "source": [
    "from pathlib import Path\n",
    "\n",
    "import numpy as np\n",
    "import pandas as pd\n",
    "from scipy import stats\n",
    "from statsmodels.graphics.gofplots import qqplot_2samples\n",
    "import matplotlib.pyplot as plt\n",
    "import matplotlib as mpl\n",
    "import seaborn as sns\n",
    "\n",
    "import conf"
   ]
  },
  {
   "cell_type": "markdown",
   "id": "654985a3",
   "metadata": {
    "papermill": {
     "duration": 0.008701,
     "end_time": "2022-02-24T05:32:04.685435",
     "exception": false,
     "start_time": "2022-02-24T05:32:04.676734",
     "status": "completed"
    },
    "tags": []
   },
   "source": [
    "# Settings"
   ]
  },
  {
   "cell_type": "code",
   "execution_count": 2,
   "id": "d4e1bf58-d0ac-455a-97d8-1d892b4a38d6",
   "metadata": {},
   "outputs": [],
   "source": [
    "N_PHENOTYPES = 100\n",
    "N_LVS = 987"
   ]
  },
  {
   "cell_type": "code",
   "execution_count": 3,
   "id": "9ba4e01c",
   "metadata": {
    "papermill": {
     "duration": 0.016348,
     "end_time": "2022-02-24T05:32:04.710602",
     "exception": false,
     "start_time": "2022-02-24T05:32:04.694254",
     "status": "completed"
    },
    "tags": []
   },
   "outputs": [
    {
     "data": {
      "text/plain": [
       "PosixPath('/opt/data/results/gls/null_sims/phenoplier')"
      ]
     },
     "metadata": {},
     "output_type": "display_data"
    }
   ],
   "source": [
    "# INPUT_DIR = conf.RESULTS[\"GLS_NULL_SIMS\"] / \"phenoplier\" / \"gls\"\n",
    "INPUT_DIR = (\n",
    "    conf.RESULTS[\"GLS_NULL_SIMS\"] / \"phenoplier\"  # / \"gls-gtex-mashr-mean_gene_expr\"\n",
    ")\n",
    "display(INPUT_DIR)"
   ]
  },
  {
   "cell_type": "markdown",
   "id": "4cb0512c",
   "metadata": {
    "papermill": {
     "duration": 0.010426,
     "end_time": "2022-02-24T05:32:04.905993",
     "exception": false,
     "start_time": "2022-02-24T05:32:04.895567",
     "status": "completed"
    },
    "tags": []
   },
   "source": [
    "# Functions"
   ]
  },
  {
   "cell_type": "code",
   "execution_count": 4,
   "id": "8f147e50",
   "metadata": {},
   "outputs": [],
   "source": [
    "def show_prop(data, frac=0.05):\n",
    "    _pvalue_lt_frac = data[data[\"pvalue\"] < frac]\n",
    "    #     display(_pvalue_lt_frac.head())\n",
    "    return _pvalue_lt_frac.shape[0] / data.shape[0]"
   ]
  },
  {
   "cell_type": "code",
   "execution_count": 5,
   "id": "247ac210-d958-47c5-8689-5d7bee1fc2c3",
   "metadata": {},
   "outputs": [],
   "source": [
    "def get_prop(pvalues, frac=0.05):\n",
    "    _pvalue_lt_frac = pvalues[pvalues < frac]\n",
    "    #     display(_pvalue_lt_frac.head())\n",
    "    return _pvalue_lt_frac.shape[0] / pvalues.shape[0]"
   ]
  },
  {
   "cell_type": "code",
   "execution_count": 6,
   "id": "21b228aa-038d-4d7f-886c-c46e98e20d15",
   "metadata": {},
   "outputs": [],
   "source": [
    "assert get_prop(np.array([0.20, 0.50]), 0.05) == 0.0\n",
    "assert get_prop(np.array([0.20, 0.50, 0.75, 0.10, 0.04]), 0.05) == 0.2"
   ]
  },
  {
   "cell_type": "code",
   "execution_count": 7,
   "id": "6d41d11a-acf1-4165-9436-a9eda22ba6bb",
   "metadata": {},
   "outputs": [],
   "source": [
    "assert get_prop(pd.Series(np.array([0.20, 0.50])), 0.05) == 0.0\n",
    "assert get_prop(pd.Series(np.array([0.20, 0.50, 0.75, 0.10, 0.04])), 0.05) == 0.2"
   ]
  },
  {
   "cell_type": "markdown",
   "id": "61c4fa5f",
   "metadata": {},
   "source": [
    "# Standard model (no correlation matrix/identity matrix)"
   ]
  },
  {
   "cell_type": "code",
   "execution_count": 8,
   "id": "628fdfdf-7858-4aee-96ce-cb74b5d505dd",
   "metadata": {},
   "outputs": [
    {
     "data": {
      "text/plain": [
       "PosixPath('/opt/data/results/gls/null_sims/phenoplier/gls-gtex-mashr-identity')"
      ]
     },
     "metadata": {},
     "output_type": "display_data"
    }
   ],
   "source": [
    "input_directory = INPUT_DIR / \"gls-gtex-mashr-identity\"\n",
    "display(input_directory)"
   ]
  },
  {
   "cell_type": "markdown",
   "id": "29a8e81c-fe49-44c2-880d-e2c4a5e305ba",
   "metadata": {},
   "source": [
    "## Get files list"
   ]
  },
  {
   "cell_type": "code",
   "execution_count": 9,
   "id": "f920bc02-8297-4bd9-8601-665f079cbf91",
   "metadata": {},
   "outputs": [
    {
     "data": {
      "text/plain": [
       "[PosixPath('/opt/data/results/gls/null_sims/phenoplier/gls-gtex-mashr-identity/random.pheno86-combined-gls_phenoplier.tsv.gz'),\n",
       " PosixPath('/opt/data/results/gls/null_sims/phenoplier/gls-gtex-mashr-identity/random.pheno53-combined-gls_phenoplier.tsv.gz'),\n",
       " PosixPath('/opt/data/results/gls/null_sims/phenoplier/gls-gtex-mashr-identity/random.pheno34-combined-gls_phenoplier.tsv.gz'),\n",
       " PosixPath('/opt/data/results/gls/null_sims/phenoplier/gls-gtex-mashr-identity/random.pheno93-combined-gls_phenoplier.tsv.gz'),\n",
       " PosixPath('/opt/data/results/gls/null_sims/phenoplier/gls-gtex-mashr-identity/random.pheno92-combined-gls_phenoplier.tsv.gz')]"
      ]
     },
     "metadata": {},
     "output_type": "display_data"
    }
   ],
   "source": [
    "INPUT_FILES = list(input_directory.glob(\"*.tsv.gz\"))\n",
    "display(INPUT_FILES[:5])"
   ]
  },
  {
   "cell_type": "markdown",
   "id": "5f2c6f72-9a30-4ced-bc9a-04b6b3b21384",
   "metadata": {},
   "source": [
    "## Load data"
   ]
  },
  {
   "cell_type": "code",
   "execution_count": 10,
   "id": "18ebfb6c",
   "metadata": {
    "papermill": {
     "duration": 0.023945,
     "end_time": "2022-02-24T05:32:04.808813",
     "exception": false,
     "start_time": "2022-02-24T05:32:04.784868",
     "status": "completed"
    },
    "tags": []
   },
   "outputs": [],
   "source": [
    "dfs = [\n",
    "    pd.read_csv(f, sep=\"\\t\").assign(phenotype=f.name.split(\"-\")[0]) for f in INPUT_FILES\n",
    "]"
   ]
  },
  {
   "cell_type": "code",
   "execution_count": 11,
   "id": "ac3b6041",
   "metadata": {
    "papermill": {
     "duration": 0.015781,
     "end_time": "2022-02-24T05:32:04.834694",
     "exception": false,
     "start_time": "2022-02-24T05:32:04.818913",
     "status": "completed"
    },
    "tags": []
   },
   "outputs": [
    {
     "data": {
      "text/plain": [
       "100"
      ]
     },
     "metadata": {},
     "output_type": "display_data"
    }
   ],
   "source": [
    "display(len(dfs))\n",
    "assert len(dfs) == N_PHENOTYPES"
   ]
  },
  {
   "cell_type": "code",
   "execution_count": 12,
   "id": "d15f7346",
   "metadata": {
    "papermill": {
     "duration": 0.038689,
     "end_time": "2022-02-24T05:32:04.884154",
     "exception": false,
     "start_time": "2022-02-24T05:32:04.845465",
     "status": "completed"
    },
    "tags": []
   },
   "outputs": [],
   "source": [
    "dfs = pd.concat(dfs, axis=0, ignore_index=True)"
   ]
  },
  {
   "cell_type": "code",
   "execution_count": 13,
   "id": "7405b07c-b71a-4a8f-924b-f9ffc7a0b13a",
   "metadata": {},
   "outputs": [
    {
     "data": {
      "text/plain": [
       "(98700, 4)"
      ]
     },
     "execution_count": 13,
     "metadata": {},
     "output_type": "execute_result"
    }
   ],
   "source": [
    "dfs.shape"
   ]
  },
  {
   "cell_type": "code",
   "execution_count": 14,
   "id": "228787ad-0cbb-4f3b-b964-0bc148a1a305",
   "metadata": {},
   "outputs": [
    {
     "data": {
      "text/html": [
       "<div>\n",
       "<style scoped>\n",
       "    .dataframe tbody tr th:only-of-type {\n",
       "        vertical-align: middle;\n",
       "    }\n",
       "\n",
       "    .dataframe tbody tr th {\n",
       "        vertical-align: top;\n",
       "    }\n",
       "\n",
       "    .dataframe thead th {\n",
       "        text-align: right;\n",
       "    }\n",
       "</style>\n",
       "<table border=\"1\" class=\"dataframe\">\n",
       "  <thead>\n",
       "    <tr style=\"text-align: right;\">\n",
       "      <th></th>\n",
       "      <th>lv</th>\n",
       "      <th>coef</th>\n",
       "      <th>pvalue</th>\n",
       "      <th>phenotype</th>\n",
       "    </tr>\n",
       "  </thead>\n",
       "  <tbody>\n",
       "    <tr>\n",
       "      <th>0</th>\n",
       "      <td>LV1</td>\n",
       "      <td>-0.006849</td>\n",
       "      <td>0.708715</td>\n",
       "      <td>random.pheno86</td>\n",
       "    </tr>\n",
       "    <tr>\n",
       "      <th>1</th>\n",
       "      <td>LV10</td>\n",
       "      <td>0.016397</td>\n",
       "      <td>0.094111</td>\n",
       "      <td>random.pheno86</td>\n",
       "    </tr>\n",
       "    <tr>\n",
       "      <th>2</th>\n",
       "      <td>LV100</td>\n",
       "      <td>0.011404</td>\n",
       "      <td>0.180058</td>\n",
       "      <td>random.pheno86</td>\n",
       "    </tr>\n",
       "    <tr>\n",
       "      <th>3</th>\n",
       "      <td>LV101</td>\n",
       "      <td>-0.005094</td>\n",
       "      <td>0.658657</td>\n",
       "      <td>random.pheno86</td>\n",
       "    </tr>\n",
       "    <tr>\n",
       "      <th>4</th>\n",
       "      <td>LV102</td>\n",
       "      <td>0.005578</td>\n",
       "      <td>0.327218</td>\n",
       "      <td>random.pheno86</td>\n",
       "    </tr>\n",
       "  </tbody>\n",
       "</table>\n",
       "</div>"
      ],
      "text/plain": [
       "      lv      coef    pvalue       phenotype\n",
       "0    LV1 -0.006849  0.708715  random.pheno86\n",
       "1   LV10  0.016397  0.094111  random.pheno86\n",
       "2  LV100  0.011404  0.180058  random.pheno86\n",
       "3  LV101 -0.005094  0.658657  random.pheno86\n",
       "4  LV102  0.005578  0.327218  random.pheno86"
      ]
     },
     "execution_count": 14,
     "metadata": {},
     "output_type": "execute_result"
    }
   ],
   "source": [
    "dfs.head()"
   ]
  },
  {
   "cell_type": "code",
   "execution_count": 15,
   "id": "97764d1b-af87-46a2-ab78-53df39b0dde3",
   "metadata": {},
   "outputs": [],
   "source": [
    "_tmp = dfs.groupby(\"phenotype\")[\"lv\"].nunique().unique()\n",
    "assert _tmp.shape[0] == 1\n",
    "assert _tmp[0] == N_LVS"
   ]
  },
  {
   "cell_type": "code",
   "execution_count": 16,
   "id": "3426beb7-84a6-4d3d-bdfd-36b4f8cf97bd",
   "metadata": {},
   "outputs": [
    {
     "data": {
      "text/plain": [
       "0.061357649442755825"
      ]
     },
     "execution_count": 16,
     "metadata": {},
     "output_type": "execute_result"
    }
   ],
   "source": [
    "show_prop(dfs)"
   ]
  },
  {
   "cell_type": "markdown",
   "id": "c1b22d64-a75f-4380-9c86-b869a1c97072",
   "metadata": {},
   "source": [
    "## Summary"
   ]
  },
  {
   "cell_type": "code",
   "execution_count": 17,
   "id": "5c799efd-77dc-4955-b5b8-263c65779946",
   "metadata": {},
   "outputs": [],
   "source": [
    "summary_list = []\n",
    "for lv, lv_data in dfs.groupby(\"lv\"):\n",
    "    assert lv_data.shape[0] == N_PHENOTYPES\n",
    "\n",
    "    summary_list.append(\n",
    "        {\n",
    "            \"lv\": lv,\n",
    "            \"1\": get_prop(lv_data[\"pvalue\"], 0.01),\n",
    "            \"5\": get_prop(lv_data[\"pvalue\"], 0.05),\n",
    "            \"10\": get_prop(lv_data[\"pvalue\"], 0.10),\n",
    "        }\n",
    "    )\n",
    "\n",
    "summary_df = pd.DataFrame(summary_list)\n",
    "assert summary_df.shape[0] == N_LVS"
   ]
  },
  {
   "cell_type": "code",
   "execution_count": 18,
   "id": "16a5c34a-0337-4f15-b1ff-4b1bb00997f7",
   "metadata": {},
   "outputs": [
    {
     "data": {
      "text/plain": [
       "(987, 4)"
      ]
     },
     "execution_count": 18,
     "metadata": {},
     "output_type": "execute_result"
    }
   ],
   "source": [
    "summary_df.shape"
   ]
  },
  {
   "cell_type": "code",
   "execution_count": 19,
   "id": "3e1acb4a-00bb-4cea-9b47-9446a9382afe",
   "metadata": {},
   "outputs": [
    {
     "data": {
      "text/html": [
       "<div>\n",
       "<style scoped>\n",
       "    .dataframe tbody tr th:only-of-type {\n",
       "        vertical-align: middle;\n",
       "    }\n",
       "\n",
       "    .dataframe tbody tr th {\n",
       "        vertical-align: top;\n",
       "    }\n",
       "\n",
       "    .dataframe thead th {\n",
       "        text-align: right;\n",
       "    }\n",
       "</style>\n",
       "<table border=\"1\" class=\"dataframe\">\n",
       "  <thead>\n",
       "    <tr style=\"text-align: right;\">\n",
       "      <th></th>\n",
       "      <th>lv</th>\n",
       "      <th>1</th>\n",
       "      <th>5</th>\n",
       "      <th>10</th>\n",
       "    </tr>\n",
       "  </thead>\n",
       "  <tbody>\n",
       "    <tr>\n",
       "      <th>0</th>\n",
       "      <td>LV1</td>\n",
       "      <td>0.00</td>\n",
       "      <td>0.06</td>\n",
       "      <td>0.08</td>\n",
       "    </tr>\n",
       "    <tr>\n",
       "      <th>1</th>\n",
       "      <td>LV10</td>\n",
       "      <td>0.00</td>\n",
       "      <td>0.03</td>\n",
       "      <td>0.06</td>\n",
       "    </tr>\n",
       "    <tr>\n",
       "      <th>2</th>\n",
       "      <td>LV100</td>\n",
       "      <td>0.02</td>\n",
       "      <td>0.03</td>\n",
       "      <td>0.07</td>\n",
       "    </tr>\n",
       "    <tr>\n",
       "      <th>3</th>\n",
       "      <td>LV101</td>\n",
       "      <td>0.01</td>\n",
       "      <td>0.05</td>\n",
       "      <td>0.09</td>\n",
       "    </tr>\n",
       "    <tr>\n",
       "      <th>4</th>\n",
       "      <td>LV102</td>\n",
       "      <td>0.01</td>\n",
       "      <td>0.04</td>\n",
       "      <td>0.09</td>\n",
       "    </tr>\n",
       "  </tbody>\n",
       "</table>\n",
       "</div>"
      ],
      "text/plain": [
       "      lv     1     5    10\n",
       "0    LV1  0.00  0.06  0.08\n",
       "1   LV10  0.00  0.03  0.06\n",
       "2  LV100  0.02  0.03  0.07\n",
       "3  LV101  0.01  0.05  0.09\n",
       "4  LV102  0.01  0.04  0.09"
      ]
     },
     "execution_count": 19,
     "metadata": {},
     "output_type": "execute_result"
    }
   ],
   "source": [
    "summary_df.head()"
   ]
  },
  {
   "cell_type": "code",
   "execution_count": 20,
   "id": "779c4db3-3ed2-413d-8bec-b19a28ce4949",
   "metadata": {},
   "outputs": [
    {
     "data": {
      "text/html": [
       "<div>\n",
       "<style scoped>\n",
       "    .dataframe tbody tr th:only-of-type {\n",
       "        vertical-align: middle;\n",
       "    }\n",
       "\n",
       "    .dataframe tbody tr th {\n",
       "        vertical-align: top;\n",
       "    }\n",
       "\n",
       "    .dataframe thead th {\n",
       "        text-align: right;\n",
       "    }\n",
       "</style>\n",
       "<table border=\"1\" class=\"dataframe\">\n",
       "  <thead>\n",
       "    <tr style=\"text-align: right;\">\n",
       "      <th></th>\n",
       "      <th>1</th>\n",
       "      <th>5</th>\n",
       "      <th>10</th>\n",
       "    </tr>\n",
       "  </thead>\n",
       "  <tbody>\n",
       "    <tr>\n",
       "      <th>count</th>\n",
       "      <td>987.000000</td>\n",
       "      <td>987.000000</td>\n",
       "      <td>987.000000</td>\n",
       "    </tr>\n",
       "    <tr>\n",
       "      <th>mean</th>\n",
       "      <td>0.016616</td>\n",
       "      <td>0.061358</td>\n",
       "      <td>0.110628</td>\n",
       "    </tr>\n",
       "    <tr>\n",
       "      <th>std</th>\n",
       "      <td>0.014246</td>\n",
       "      <td>0.027557</td>\n",
       "      <td>0.038420</td>\n",
       "    </tr>\n",
       "    <tr>\n",
       "      <th>min</th>\n",
       "      <td>0.000000</td>\n",
       "      <td>0.000000</td>\n",
       "      <td>0.020000</td>\n",
       "    </tr>\n",
       "    <tr>\n",
       "      <th>25%</th>\n",
       "      <td>0.010000</td>\n",
       "      <td>0.040000</td>\n",
       "      <td>0.080000</td>\n",
       "    </tr>\n",
       "    <tr>\n",
       "      <th>50%</th>\n",
       "      <td>0.010000</td>\n",
       "      <td>0.060000</td>\n",
       "      <td>0.110000</td>\n",
       "    </tr>\n",
       "    <tr>\n",
       "      <th>75%</th>\n",
       "      <td>0.020000</td>\n",
       "      <td>0.080000</td>\n",
       "      <td>0.140000</td>\n",
       "    </tr>\n",
       "    <tr>\n",
       "      <th>max</th>\n",
       "      <td>0.100000</td>\n",
       "      <td>0.160000</td>\n",
       "      <td>0.240000</td>\n",
       "    </tr>\n",
       "  </tbody>\n",
       "</table>\n",
       "</div>"
      ],
      "text/plain": [
       "                1           5          10\n",
       "count  987.000000  987.000000  987.000000\n",
       "mean     0.016616    0.061358    0.110628\n",
       "std      0.014246    0.027557    0.038420\n",
       "min      0.000000    0.000000    0.020000\n",
       "25%      0.010000    0.040000    0.080000\n",
       "50%      0.010000    0.060000    0.110000\n",
       "75%      0.020000    0.080000    0.140000\n",
       "max      0.100000    0.160000    0.240000"
      ]
     },
     "execution_count": 20,
     "metadata": {},
     "output_type": "execute_result"
    }
   ],
   "source": [
    "summary_df.describe()"
   ]
  },
  {
   "cell_type": "code",
   "execution_count": 21,
   "id": "4b22226f-edc7-4af5-8585-e2dbb6fcbe9e",
   "metadata": {},
   "outputs": [
    {
     "data": {
      "text/html": [
       "<div>\n",
       "<style scoped>\n",
       "    .dataframe tbody tr th:only-of-type {\n",
       "        vertical-align: middle;\n",
       "    }\n",
       "\n",
       "    .dataframe tbody tr th {\n",
       "        vertical-align: top;\n",
       "    }\n",
       "\n",
       "    .dataframe thead th {\n",
       "        text-align: right;\n",
       "    }\n",
       "</style>\n",
       "<table border=\"1\" class=\"dataframe\">\n",
       "  <thead>\n",
       "    <tr style=\"text-align: right;\">\n",
       "      <th></th>\n",
       "      <th>lv</th>\n",
       "      <th>1</th>\n",
       "      <th>5</th>\n",
       "      <th>10</th>\n",
       "    </tr>\n",
       "  </thead>\n",
       "  <tbody>\n",
       "    <tr>\n",
       "      <th>491</th>\n",
       "      <td>LV541</td>\n",
       "      <td>0.04</td>\n",
       "      <td>0.09</td>\n",
       "      <td>0.11</td>\n",
       "    </tr>\n",
       "    <tr>\n",
       "      <th>638</th>\n",
       "      <td>LV674</td>\n",
       "      <td>0.03</td>\n",
       "      <td>0.09</td>\n",
       "      <td>0.11</td>\n",
       "    </tr>\n",
       "    <tr>\n",
       "      <th>649</th>\n",
       "      <td>LV684</td>\n",
       "      <td>0.03</td>\n",
       "      <td>0.09</td>\n",
       "      <td>0.16</td>\n",
       "    </tr>\n",
       "    <tr>\n",
       "      <th>661</th>\n",
       "      <td>LV695</td>\n",
       "      <td>0.03</td>\n",
       "      <td>0.09</td>\n",
       "      <td>0.16</td>\n",
       "    </tr>\n",
       "    <tr>\n",
       "      <th>683</th>\n",
       "      <td>LV714</td>\n",
       "      <td>0.02</td>\n",
       "      <td>0.09</td>\n",
       "      <td>0.11</td>\n",
       "    </tr>\n",
       "    <tr>\n",
       "      <th>...</th>\n",
       "      <td>...</td>\n",
       "      <td>...</td>\n",
       "      <td>...</td>\n",
       "      <td>...</td>\n",
       "    </tr>\n",
       "    <tr>\n",
       "      <th>633</th>\n",
       "      <td>LV67</td>\n",
       "      <td>0.04</td>\n",
       "      <td>0.14</td>\n",
       "      <td>0.19</td>\n",
       "    </tr>\n",
       "    <tr>\n",
       "      <th>150</th>\n",
       "      <td>LV234</td>\n",
       "      <td>0.07</td>\n",
       "      <td>0.15</td>\n",
       "      <td>0.21</td>\n",
       "    </tr>\n",
       "    <tr>\n",
       "      <th>830</th>\n",
       "      <td>LV847</td>\n",
       "      <td>0.10</td>\n",
       "      <td>0.15</td>\n",
       "      <td>0.19</td>\n",
       "    </tr>\n",
       "    <tr>\n",
       "      <th>487</th>\n",
       "      <td>LV538</td>\n",
       "      <td>0.06</td>\n",
       "      <td>0.15</td>\n",
       "      <td>0.17</td>\n",
       "    </tr>\n",
       "    <tr>\n",
       "      <th>67</th>\n",
       "      <td>LV16</td>\n",
       "      <td>0.07</td>\n",
       "      <td>0.16</td>\n",
       "      <td>0.22</td>\n",
       "    </tr>\n",
       "  </tbody>\n",
       "</table>\n",
       "<p>189 rows × 4 columns</p>\n",
       "</div>"
      ],
      "text/plain": [
       "        lv     1     5    10\n",
       "491  LV541  0.04  0.09  0.11\n",
       "638  LV674  0.03  0.09  0.11\n",
       "649  LV684  0.03  0.09  0.16\n",
       "661  LV695  0.03  0.09  0.16\n",
       "683  LV714  0.02  0.09  0.11\n",
       "..     ...   ...   ...   ...\n",
       "633   LV67  0.04  0.14  0.19\n",
       "150  LV234  0.07  0.15  0.21\n",
       "830  LV847  0.10  0.15  0.19\n",
       "487  LV538  0.06  0.15  0.17\n",
       "67    LV16  0.07  0.16  0.22\n",
       "\n",
       "[189 rows x 4 columns]"
      ]
     },
     "execution_count": 21,
     "metadata": {},
     "output_type": "execute_result"
    }
   ],
   "source": [
    "summary_df[summary_df[\"5\"] > 0.08].sort_values(\"5\")"
   ]
  },
  {
   "cell_type": "markdown",
   "id": "30b3db3f-3b33-4bac-a3ea-d728e32d1e6a",
   "metadata": {},
   "source": [
    "## LV16"
   ]
  },
  {
   "cell_type": "code",
   "execution_count": 22,
   "id": "e1ff4bfa-280a-465a-ab83-1cc2bc42ff96",
   "metadata": {},
   "outputs": [],
   "source": [
    "# results = dfs[dfs[\"phenotype\"] == \"random.pheno100\"]  # .sample(n=100)\n",
    "results = dfs[dfs[\"lv\"] == \"LV16\"]  # .sample(n=100)"
   ]
  },
  {
   "cell_type": "code",
   "execution_count": 23,
   "id": "d3038212-51a0-437c-80ec-cc6b919f1e7f",
   "metadata": {},
   "outputs": [
    {
     "data": {
      "text/plain": [
       "(100, 4)"
      ]
     },
     "execution_count": 23,
     "metadata": {},
     "output_type": "execute_result"
    }
   ],
   "source": [
    "results.shape"
   ]
  },
  {
   "cell_type": "code",
   "execution_count": 24,
   "id": "2070d4d7-993a-443e-a164-b296c592fc7b",
   "metadata": {},
   "outputs": [
    {
     "data": {
      "text/html": [
       "<div>\n",
       "<style scoped>\n",
       "    .dataframe tbody tr th:only-of-type {\n",
       "        vertical-align: middle;\n",
       "    }\n",
       "\n",
       "    .dataframe tbody tr th {\n",
       "        vertical-align: top;\n",
       "    }\n",
       "\n",
       "    .dataframe thead th {\n",
       "        text-align: right;\n",
       "    }\n",
       "</style>\n",
       "<table border=\"1\" class=\"dataframe\">\n",
       "  <thead>\n",
       "    <tr style=\"text-align: right;\">\n",
       "      <th></th>\n",
       "      <th>lv</th>\n",
       "      <th>coef</th>\n",
       "      <th>pvalue</th>\n",
       "      <th>phenotype</th>\n",
       "    </tr>\n",
       "  </thead>\n",
       "  <tbody>\n",
       "    <tr>\n",
       "      <th>67</th>\n",
       "      <td>LV16</td>\n",
       "      <td>-0.009992</td>\n",
       "      <td>0.788682</td>\n",
       "      <td>random.pheno86</td>\n",
       "    </tr>\n",
       "    <tr>\n",
       "      <th>1054</th>\n",
       "      <td>LV16</td>\n",
       "      <td>-0.009689</td>\n",
       "      <td>0.781568</td>\n",
       "      <td>random.pheno53</td>\n",
       "    </tr>\n",
       "    <tr>\n",
       "      <th>2041</th>\n",
       "      <td>LV16</td>\n",
       "      <td>0.004283</td>\n",
       "      <td>0.365528</td>\n",
       "      <td>random.pheno34</td>\n",
       "    </tr>\n",
       "    <tr>\n",
       "      <th>3028</th>\n",
       "      <td>LV16</td>\n",
       "      <td>0.008214</td>\n",
       "      <td>0.254908</td>\n",
       "      <td>random.pheno93</td>\n",
       "    </tr>\n",
       "    <tr>\n",
       "      <th>4015</th>\n",
       "      <td>LV16</td>\n",
       "      <td>0.014759</td>\n",
       "      <td>0.118124</td>\n",
       "      <td>random.pheno92</td>\n",
       "    </tr>\n",
       "  </tbody>\n",
       "</table>\n",
       "</div>"
      ],
      "text/plain": [
       "        lv      coef    pvalue       phenotype\n",
       "67    LV16 -0.009992  0.788682  random.pheno86\n",
       "1054  LV16 -0.009689  0.781568  random.pheno53\n",
       "2041  LV16  0.004283  0.365528  random.pheno34\n",
       "3028  LV16  0.008214  0.254908  random.pheno93\n",
       "4015  LV16  0.014759  0.118124  random.pheno92"
      ]
     },
     "execution_count": 24,
     "metadata": {},
     "output_type": "execute_result"
    }
   ],
   "source": [
    "results.head()"
   ]
  },
  {
   "cell_type": "markdown",
   "id": "9b3dea75-6e92-4e12-87cd-0b15c86dce48",
   "metadata": {},
   "source": [
    "### Proportion pvalue < 0.05"
   ]
  },
  {
   "cell_type": "code",
   "execution_count": 25,
   "id": "b7717344-7de4-480e-9844-fe76c475987d",
   "metadata": {},
   "outputs": [
    {
     "data": {
      "text/plain": [
       "0.07"
      ]
     },
     "execution_count": 25,
     "metadata": {},
     "output_type": "execute_result"
    }
   ],
   "source": [
    "show_prop(results, 0.01)"
   ]
  },
  {
   "cell_type": "code",
   "execution_count": 26,
   "id": "b01b57ec-d4c4-4174-bef4-1aef9953c378",
   "metadata": {},
   "outputs": [
    {
     "data": {
      "text/plain": [
       "0.16"
      ]
     },
     "execution_count": 26,
     "metadata": {},
     "output_type": "execute_result"
    }
   ],
   "source": [
    "show_prop(results, 0.05)"
   ]
  },
  {
   "cell_type": "code",
   "execution_count": 27,
   "id": "37632ecd-3a8b-4385-bd62-409f76e04dfe",
   "metadata": {},
   "outputs": [
    {
     "data": {
      "text/plain": [
       "0.22"
      ]
     },
     "execution_count": 27,
     "metadata": {},
     "output_type": "execute_result"
    }
   ],
   "source": [
    "show_prop(results, 0.10)"
   ]
  },
  {
   "cell_type": "code",
   "execution_count": 28,
   "id": "252001e5-4415-47e9-be83-389a619de686",
   "metadata": {},
   "outputs": [
    {
     "data": {
      "text/plain": [
       "0.25"
      ]
     },
     "execution_count": 28,
     "metadata": {},
     "output_type": "execute_result"
    }
   ],
   "source": [
    "show_prop(results, 0.15)"
   ]
  },
  {
   "cell_type": "code",
   "execution_count": 29,
   "id": "e4668836-17bb-4253-8ef3-a637b26029f8",
   "metadata": {},
   "outputs": [
    {
     "data": {
      "text/plain": [
       "0.32"
      ]
     },
     "execution_count": 29,
     "metadata": {},
     "output_type": "execute_result"
    }
   ],
   "source": [
    "show_prop(results, 0.20)"
   ]
  },
  {
   "cell_type": "markdown",
   "id": "25966a90-ff90-4db2-a574-3f9433f49bbf",
   "metadata": {},
   "source": [
    "### QQplot"
   ]
  },
  {
   "cell_type": "code",
   "execution_count": 30,
   "id": "16ec4df4-45e7-4c4d-96dd-2e7313c7941a",
   "metadata": {
    "papermill": {
     "duration": 0.016445,
     "end_time": "2022-02-24T05:32:04.933024",
     "exception": false,
     "start_time": "2022-02-24T05:32:04.916579",
     "status": "completed"
    },
    "tags": []
   },
   "outputs": [],
   "source": [
    "data = results[\"pvalue\"].to_numpy()\n",
    "n = data.shape[0]\n",
    "uniform_data = np.array([i / (n + 1) for i in range(1, n + 1)])"
   ]
  },
  {
   "cell_type": "code",
   "execution_count": 31,
   "id": "7e87970f-0c86-454c-8458-7fec0c3f5ec8",
   "metadata": {
    "papermill": {
     "duration": 0.018047,
     "end_time": "2022-02-24T05:32:04.962092",
     "exception": false,
     "start_time": "2022-02-24T05:32:04.944045",
     "status": "completed"
    },
    "tags": []
   },
   "outputs": [
    {
     "data": {
      "text/plain": [
       "array([0.78868222, 0.78156835, 0.36552751, 0.2549084 , 0.1181244 ])"
      ]
     },
     "metadata": {},
     "output_type": "display_data"
    },
    {
     "data": {
      "text/plain": [
       "array([0.00990099, 0.01980198, 0.02970297, 0.03960396, 0.04950495])"
      ]
     },
     "metadata": {},
     "output_type": "display_data"
    }
   ],
   "source": [
    "display(data[:5])\n",
    "display(uniform_data[:5])"
   ]
  },
  {
   "cell_type": "code",
   "execution_count": 32,
   "id": "bbd74952-a68f-4f9d-905d-667a139c4fae",
   "metadata": {
    "papermill": {
     "duration": 0.142909,
     "end_time": "2022-02-24T05:32:05.117221",
     "exception": false,
     "start_time": "2022-02-24T05:32:04.974312",
     "status": "completed"
    },
    "tags": []
   },
   "outputs": [
    {
     "data": {
      "image/png": "[encoded data removed]",
      "text/plain": [
       "<Figure size 576x576 with 1 Axes>"
      ]
     },
     "metadata": {
      "needs_background": "light"
     },
     "output_type": "display_data"
    }
   ],
   "source": [
    "observed_data = -np.log10(data)\n",
    "expected_data = -np.log10(uniform_data)\n",
    "\n",
    "with sns.plotting_context(\"paper\", font_scale=1.8), mpl.rc_context(\n",
    "    {\"lines.markersize\": 3}\n",
    "):\n",
    "    fig, ax = plt.subplots(figsize=(8, 8))\n",
    "\n",
    "    fig = qqplot_2samples(expected_data, observed_data, line=\"45\", ax=ax)\n",
    "\n",
    "    ax.set_xlim(expected_data.min() - 0.05, expected_data.max() + 0.05)\n",
    "\n",
    "    ax.set_xlabel(\"$-\\log_{10}$(expected pvalue)\")\n",
    "    ax.set_ylabel(\"$-\\log_{10}$(observed pvalue)\")\n",
    "    ax.set_title(\"QQ-Plot - Null with MASHR models\")"
   ]
  },
  {
   "cell_type": "markdown",
   "id": "037a472b-9b40-4e0c-baaa-68502e5840ec",
   "metadata": {
    "tags": []
   },
   "source": [
    "## LV110"
   ]
  },
  {
   "cell_type": "code",
   "execution_count": 33,
   "id": "5724bcc0-79ec-420d-9105-6d60796ccdc5",
   "metadata": {},
   "outputs": [],
   "source": [
    "results = dfs[dfs[\"lv\"] == \"LV110\"]"
   ]
  },
  {
   "cell_type": "code",
   "execution_count": 34,
   "id": "f0a09cf0-850f-42fd-a102-9b160e16c255",
   "metadata": {},
   "outputs": [
    {
     "data": {
      "text/plain": [
       "(100, 4)"
      ]
     },
     "execution_count": 34,
     "metadata": {},
     "output_type": "execute_result"
    }
   ],
   "source": [
    "results.shape"
   ]
  },
  {
   "cell_type": "code",
   "execution_count": 35,
   "id": "084f90ae-77ba-4f5d-8dbc-8d79d1560dac",
   "metadata": {},
   "outputs": [
    {
     "data": {
      "text/html": [
       "<div>\n",
       "<style scoped>\n",
       "    .dataframe tbody tr th:only-of-type {\n",
       "        vertical-align: middle;\n",
       "    }\n",
       "\n",
       "    .dataframe tbody tr th {\n",
       "        vertical-align: top;\n",
       "    }\n",
       "\n",
       "    .dataframe thead th {\n",
       "        text-align: right;\n",
       "    }\n",
       "</style>\n",
       "<table border=\"1\" class=\"dataframe\">\n",
       "  <thead>\n",
       "    <tr style=\"text-align: right;\">\n",
       "      <th></th>\n",
       "      <th>lv</th>\n",
       "      <th>coef</th>\n",
       "      <th>pvalue</th>\n",
       "      <th>phenotype</th>\n",
       "    </tr>\n",
       "  </thead>\n",
       "  <tbody>\n",
       "    <tr>\n",
       "      <th>13</th>\n",
       "      <td>LV110</td>\n",
       "      <td>-0.007562</td>\n",
       "      <td>0.728030</td>\n",
       "      <td>random.pheno86</td>\n",
       "    </tr>\n",
       "    <tr>\n",
       "      <th>1000</th>\n",
       "      <td>LV110</td>\n",
       "      <td>0.015420</td>\n",
       "      <td>0.107962</td>\n",
       "      <td>random.pheno53</td>\n",
       "    </tr>\n",
       "    <tr>\n",
       "      <th>1987</th>\n",
       "      <td>LV110</td>\n",
       "      <td>-0.002432</td>\n",
       "      <td>0.577364</td>\n",
       "      <td>random.pheno34</td>\n",
       "    </tr>\n",
       "    <tr>\n",
       "      <th>2974</th>\n",
       "      <td>LV110</td>\n",
       "      <td>-0.017334</td>\n",
       "      <td>0.917899</td>\n",
       "      <td>random.pheno93</td>\n",
       "    </tr>\n",
       "    <tr>\n",
       "      <th>3961</th>\n",
       "      <td>LV110</td>\n",
       "      <td>-0.012974</td>\n",
       "      <td>0.851104</td>\n",
       "      <td>random.pheno92</td>\n",
       "    </tr>\n",
       "  </tbody>\n",
       "</table>\n",
       "</div>"
      ],
      "text/plain": [
       "         lv      coef    pvalue       phenotype\n",
       "13    LV110 -0.007562  0.728030  random.pheno86\n",
       "1000  LV110  0.015420  0.107962  random.pheno53\n",
       "1987  LV110 -0.002432  0.577364  random.pheno34\n",
       "2974  LV110 -0.017334  0.917899  random.pheno93\n",
       "3961  LV110 -0.012974  0.851104  random.pheno92"
      ]
     },
     "execution_count": 35,
     "metadata": {},
     "output_type": "execute_result"
    }
   ],
   "source": [
    "results.head()"
   ]
  },
  {
   "cell_type": "markdown",
   "id": "453c5a69-120e-41fb-a0ff-27b8c652a6cd",
   "metadata": {},
   "source": [
    "### Proportion pvalue < 0.05"
   ]
  },
  {
   "cell_type": "code",
   "execution_count": 36,
   "id": "2eebbee2-f435-43d7-b7bb-5d85b4c53991",
   "metadata": {},
   "outputs": [
    {
     "data": {
      "text/plain": [
       "0.06"
      ]
     },
     "execution_count": 36,
     "metadata": {},
     "output_type": "execute_result"
    }
   ],
   "source": [
    "show_prop(results, 0.01)"
   ]
  },
  {
   "cell_type": "code",
   "execution_count": 37,
   "id": "a70fda1a-cd30-44e7-a9e0-9a9223d5ab25",
   "metadata": {},
   "outputs": [
    {
     "data": {
      "text/plain": [
       "0.13"
      ]
     },
     "execution_count": 37,
     "metadata": {},
     "output_type": "execute_result"
    }
   ],
   "source": [
    "show_prop(results, 0.05)"
   ]
  },
  {
   "cell_type": "code",
   "execution_count": 38,
   "id": "ce38c7e8-8914-4a4b-b146-ff67f29d4938",
   "metadata": {},
   "outputs": [
    {
     "data": {
      "text/plain": [
       "0.17"
      ]
     },
     "execution_count": 38,
     "metadata": {},
     "output_type": "execute_result"
    }
   ],
   "source": [
    "show_prop(results, 0.10)"
   ]
  },
  {
   "cell_type": "code",
   "execution_count": 39,
   "id": "5e91fdcd-fe72-413d-ba71-c04b4697977b",
   "metadata": {},
   "outputs": [
    {
     "data": {
      "text/plain": [
       "0.18"
      ]
     },
     "execution_count": 39,
     "metadata": {},
     "output_type": "execute_result"
    }
   ],
   "source": [
    "show_prop(results, 0.15)"
   ]
  },
  {
   "cell_type": "code",
   "execution_count": 40,
   "id": "5ac71842-0669-462d-b57e-b757320473d7",
   "metadata": {},
   "outputs": [
    {
     "data": {
      "text/plain": [
       "0.22"
      ]
     },
     "execution_count": 40,
     "metadata": {},
     "output_type": "execute_result"
    }
   ],
   "source": [
    "show_prop(results, 0.20)"
   ]
  },
  {
   "cell_type": "markdown",
   "id": "93de4b9e-e9e1-4fb1-a8d1-523936157389",
   "metadata": {
    "tags": []
   },
   "source": [
    "## LV121"
   ]
  },
  {
   "cell_type": "code",
   "execution_count": 41,
   "id": "41f826a6-6694-49e9-a741-68ea11c1a0dc",
   "metadata": {},
   "outputs": [],
   "source": [
    "results = dfs[dfs[\"lv\"] == \"LV121\"]"
   ]
  },
  {
   "cell_type": "code",
   "execution_count": 42,
   "id": "820d3e46-ef46-4624-bb87-adcff326ed69",
   "metadata": {},
   "outputs": [
    {
     "data": {
      "text/plain": [
       "(100, 4)"
      ]
     },
     "execution_count": 42,
     "metadata": {},
     "output_type": "execute_result"
    }
   ],
   "source": [
    "results.shape"
   ]
  },
  {
   "cell_type": "code",
   "execution_count": 43,
   "id": "7dd09112-3dec-4d87-b6ef-504a5ba54e32",
   "metadata": {},
   "outputs": [
    {
     "data": {
      "text/html": [
       "<div>\n",
       "<style scoped>\n",
       "    .dataframe tbody tr th:only-of-type {\n",
       "        vertical-align: middle;\n",
       "    }\n",
       "\n",
       "    .dataframe tbody tr th {\n",
       "        vertical-align: top;\n",
       "    }\n",
       "\n",
       "    .dataframe thead th {\n",
       "        text-align: right;\n",
       "    }\n",
       "</style>\n",
       "<table border=\"1\" class=\"dataframe\">\n",
       "  <thead>\n",
       "    <tr style=\"text-align: right;\">\n",
       "      <th></th>\n",
       "      <th>lv</th>\n",
       "      <th>coef</th>\n",
       "      <th>pvalue</th>\n",
       "      <th>phenotype</th>\n",
       "    </tr>\n",
       "  </thead>\n",
       "  <tbody>\n",
       "    <tr>\n",
       "      <th>25</th>\n",
       "      <td>LV121</td>\n",
       "      <td>0.010020</td>\n",
       "      <td>0.210677</td>\n",
       "      <td>random.pheno86</td>\n",
       "    </tr>\n",
       "    <tr>\n",
       "      <th>1012</th>\n",
       "      <td>LV121</td>\n",
       "      <td>0.008118</td>\n",
       "      <td>0.257376</td>\n",
       "      <td>random.pheno53</td>\n",
       "    </tr>\n",
       "    <tr>\n",
       "      <th>1999</th>\n",
       "      <td>LV121</td>\n",
       "      <td>-0.001901</td>\n",
       "      <td>0.560619</td>\n",
       "      <td>random.pheno34</td>\n",
       "    </tr>\n",
       "    <tr>\n",
       "      <th>2986</th>\n",
       "      <td>LV121</td>\n",
       "      <td>0.000677</td>\n",
       "      <td>0.478351</td>\n",
       "      <td>random.pheno93</td>\n",
       "    </tr>\n",
       "    <tr>\n",
       "      <th>3973</th>\n",
       "      <td>LV121</td>\n",
       "      <td>0.023668</td>\n",
       "      <td>0.028746</td>\n",
       "      <td>random.pheno92</td>\n",
       "    </tr>\n",
       "  </tbody>\n",
       "</table>\n",
       "</div>"
      ],
      "text/plain": [
       "         lv      coef    pvalue       phenotype\n",
       "25    LV121  0.010020  0.210677  random.pheno86\n",
       "1012  LV121  0.008118  0.257376  random.pheno53\n",
       "1999  LV121 -0.001901  0.560619  random.pheno34\n",
       "2986  LV121  0.000677  0.478351  random.pheno93\n",
       "3973  LV121  0.023668  0.028746  random.pheno92"
      ]
     },
     "execution_count": 43,
     "metadata": {},
     "output_type": "execute_result"
    }
   ],
   "source": [
    "results.head()"
   ]
  },
  {
   "cell_type": "markdown",
   "id": "e3083366-ac2c-4beb-bfec-28de63405a6d",
   "metadata": {},
   "source": [
    "### Proportion pvalue < 0.05"
   ]
  },
  {
   "cell_type": "code",
   "execution_count": 44,
   "id": "f58a7e95-94eb-445e-9c14-a6b381924571",
   "metadata": {},
   "outputs": [
    {
     "data": {
      "text/plain": [
       "0.0"
      ]
     },
     "execution_count": 44,
     "metadata": {},
     "output_type": "execute_result"
    }
   ],
   "source": [
    "show_prop(results, 0.01)"
   ]
  },
  {
   "cell_type": "code",
   "execution_count": 45,
   "id": "3b612871-52ab-4080-a1f4-a89e08988a45",
   "metadata": {},
   "outputs": [
    {
     "data": {
      "text/plain": [
       "0.14"
      ]
     },
     "execution_count": 45,
     "metadata": {},
     "output_type": "execute_result"
    }
   ],
   "source": [
    "show_prop(results, 0.05)"
   ]
  },
  {
   "cell_type": "code",
   "execution_count": 46,
   "id": "f5075181-2357-477d-af41-e4ccb59f4043",
   "metadata": {},
   "outputs": [
    {
     "data": {
      "text/plain": [
       "0.17"
      ]
     },
     "execution_count": 46,
     "metadata": {},
     "output_type": "execute_result"
    }
   ],
   "source": [
    "show_prop(results, 0.10)"
   ]
  },
  {
   "cell_type": "code",
   "execution_count": 47,
   "id": "44fcdf77-4bce-4217-b024-346f85a1adcb",
   "metadata": {},
   "outputs": [
    {
     "data": {
      "text/plain": [
       "0.24"
      ]
     },
     "execution_count": 47,
     "metadata": {},
     "output_type": "execute_result"
    }
   ],
   "source": [
    "show_prop(results, 0.15)"
   ]
  },
  {
   "cell_type": "code",
   "execution_count": 48,
   "id": "f8abbbfd-ad10-48ad-91ba-67dcd8c88d6e",
   "metadata": {},
   "outputs": [
    {
     "data": {
      "text/plain": [
       "0.29"
      ]
     },
     "execution_count": 48,
     "metadata": {},
     "output_type": "execute_result"
    }
   ],
   "source": [
    "show_prop(results, 0.20)"
   ]
  },
  {
   "cell_type": "markdown",
   "id": "3248ea5f-0969-41d5-ac06-9bd79b168400",
   "metadata": {},
   "source": [
    "# SSM corr values only"
   ]
  },
  {
   "cell_type": "code",
   "execution_count": 33,
   "id": "d1a5a1bd-bd0b-4f99-967e-7153ed0aec4c",
   "metadata": {},
   "outputs": [
    {
     "data": {
      "text/plain": [
       "PosixPath('/opt/data/results/gls/null_sims/phenoplier/gls-gtex-mashr-ssm_corrs')"
      ]
     },
     "metadata": {},
     "output_type": "display_data"
    }
   ],
   "source": [
    "input_directory = INPUT_DIR / \"gls-gtex-mashr-ssm_corrs\"\n",
    "display(input_directory)"
   ]
  },
  {
   "cell_type": "markdown",
   "id": "da0da670-ec55-42a4-b6f7-844f97b9b29b",
   "metadata": {},
   "source": [
    "## Get files list"
   ]
  },
  {
   "cell_type": "code",
   "execution_count": 34,
   "id": "e5dd4044-e163-4d28-abc3-880430cc8bbb",
   "metadata": {},
   "outputs": [
    {
     "data": {
      "text/plain": [
       "[PosixPath('/opt/data/results/gls/null_sims/phenoplier/gls-gtex-mashr-ssm_corrs/random.pheno86-combined-gls_phenoplier.tsv.gz'),\n",
       " PosixPath('/opt/data/results/gls/null_sims/phenoplier/gls-gtex-mashr-ssm_corrs/random.pheno53-combined-gls_phenoplier.tsv.gz'),\n",
       " PosixPath('/opt/data/results/gls/null_sims/phenoplier/gls-gtex-mashr-ssm_corrs/random.pheno34-combined-gls_phenoplier.tsv.gz'),\n",
       " PosixPath('/opt/data/results/gls/null_sims/phenoplier/gls-gtex-mashr-ssm_corrs/random.pheno93-combined-gls_phenoplier.tsv.gz'),\n",
       " PosixPath('/opt/data/results/gls/null_sims/phenoplier/gls-gtex-mashr-ssm_corrs/random.pheno92-combined-gls_phenoplier.tsv.gz')]"
      ]
     },
     "metadata": {},
     "output_type": "display_data"
    }
   ],
   "source": [
    "INPUT_FILES = list(\n",
    "    f\n",
    "    for f in input_directory.glob(\"*.tsv.gz\")\n",
    "    if int(f.name.split(\"random.pheno\")[1].split(\"-\")[0]) < 100\n",
    ")\n",
    "display(INPUT_FILES[:5])"
   ]
  },
  {
   "cell_type": "markdown",
   "id": "88f3c0a4-e600-48d7-944f-02cdf8798f27",
   "metadata": {},
   "source": [
    "## Load data"
   ]
  },
  {
   "cell_type": "code",
   "execution_count": 35,
   "id": "88add5c9-7236-4ed1-8142-6aa3b588c820",
   "metadata": {
    "papermill": {
     "duration": 0.023945,
     "end_time": "2022-02-24T05:32:04.808813",
     "exception": false,
     "start_time": "2022-02-24T05:32:04.784868",
     "status": "completed"
    },
    "tags": []
   },
   "outputs": [],
   "source": [
    "dfs = [\n",
    "    pd.read_csv(f, sep=\"\\t\").assign(phenotype=f.name.split(\"-\")[0]) for f in INPUT_FILES\n",
    "]"
   ]
  },
  {
   "cell_type": "code",
   "execution_count": 36,
   "id": "40ff8e89-f880-437c-a10a-cb822415473b",
   "metadata": {
    "papermill": {
     "duration": 0.015781,
     "end_time": "2022-02-24T05:32:04.834694",
     "exception": false,
     "start_time": "2022-02-24T05:32:04.818913",
     "status": "completed"
    },
    "tags": []
   },
   "outputs": [
    {
     "data": {
      "text/plain": [
       "100"
      ]
     },
     "metadata": {},
     "output_type": "display_data"
    }
   ],
   "source": [
    "display(len(dfs))\n",
    "assert len(dfs) == N_PHENOTYPES"
   ]
  },
  {
   "cell_type": "code",
   "execution_count": 37,
   "id": "d9b4f3dc-dcc8-452e-94e3-12e2fd067ea0",
   "metadata": {
    "papermill": {
     "duration": 0.038689,
     "end_time": "2022-02-24T05:32:04.884154",
     "exception": false,
     "start_time": "2022-02-24T05:32:04.845465",
     "status": "completed"
    },
    "tags": []
   },
   "outputs": [],
   "source": [
    "dfs = pd.concat(dfs, axis=0, ignore_index=True)"
   ]
  },
  {
   "cell_type": "code",
   "execution_count": 38,
   "id": "e64fb2fd-8ca9-4c91-9fa0-0bfeafc1aa10",
   "metadata": {},
   "outputs": [
    {
     "data": {
      "text/plain": [
       "(98700, 4)"
      ]
     },
     "execution_count": 38,
     "metadata": {},
     "output_type": "execute_result"
    }
   ],
   "source": [
    "dfs.shape"
   ]
  },
  {
   "cell_type": "code",
   "execution_count": 39,
   "id": "6710d8a3-792d-4023-96dc-829271fb8656",
   "metadata": {},
   "outputs": [
    {
     "data": {
      "text/html": [
       "<div>\n",
       "<style scoped>\n",
       "    .dataframe tbody tr th:only-of-type {\n",
       "        vertical-align: middle;\n",
       "    }\n",
       "\n",
       "    .dataframe tbody tr th {\n",
       "        vertical-align: top;\n",
       "    }\n",
       "\n",
       "    .dataframe thead th {\n",
       "        text-align: right;\n",
       "    }\n",
       "</style>\n",
       "<table border=\"1\" class=\"dataframe\">\n",
       "  <thead>\n",
       "    <tr style=\"text-align: right;\">\n",
       "      <th></th>\n",
       "      <th>lv</th>\n",
       "      <th>coef</th>\n",
       "      <th>pvalue</th>\n",
       "      <th>phenotype</th>\n",
       "    </tr>\n",
       "  </thead>\n",
       "  <tbody>\n",
       "    <tr>\n",
       "      <th>0</th>\n",
       "      <td>LV1</td>\n",
       "      <td>-0.013093</td>\n",
       "      <td>0.858856</td>\n",
       "      <td>random.pheno86</td>\n",
       "    </tr>\n",
       "    <tr>\n",
       "      <th>1</th>\n",
       "      <td>LV10</td>\n",
       "      <td>0.011730</td>\n",
       "      <td>0.170973</td>\n",
       "      <td>random.pheno86</td>\n",
       "    </tr>\n",
       "    <tr>\n",
       "      <th>2</th>\n",
       "      <td>LV100</td>\n",
       "      <td>0.005009</td>\n",
       "      <td>0.341595</td>\n",
       "      <td>random.pheno86</td>\n",
       "    </tr>\n",
       "    <tr>\n",
       "      <th>3</th>\n",
       "      <td>LV101</td>\n",
       "      <td>-0.005143</td>\n",
       "      <td>0.662068</td>\n",
       "      <td>random.pheno86</td>\n",
       "    </tr>\n",
       "    <tr>\n",
       "      <th>4</th>\n",
       "      <td>LV102</td>\n",
       "      <td>0.006215</td>\n",
       "      <td>0.308932</td>\n",
       "      <td>random.pheno86</td>\n",
       "    </tr>\n",
       "  </tbody>\n",
       "</table>\n",
       "</div>"
      ],
      "text/plain": [
       "      lv      coef    pvalue       phenotype\n",
       "0    LV1 -0.013093  0.858856  random.pheno86\n",
       "1   LV10  0.011730  0.170973  random.pheno86\n",
       "2  LV100  0.005009  0.341595  random.pheno86\n",
       "3  LV101 -0.005143  0.662068  random.pheno86\n",
       "4  LV102  0.006215  0.308932  random.pheno86"
      ]
     },
     "execution_count": 39,
     "metadata": {},
     "output_type": "execute_result"
    }
   ],
   "source": [
    "dfs.head()"
   ]
  },
  {
   "cell_type": "code",
   "execution_count": 40,
   "id": "e0f3b1e9-ebce-42d1-bd08-7b7df346e3ef",
   "metadata": {},
   "outputs": [],
   "source": [
    "_tmp = dfs.groupby(\"phenotype\")[\"lv\"].nunique().unique()\n",
    "assert _tmp.shape[0] == 1\n",
    "assert _tmp[0] == N_LVS"
   ]
  },
  {
   "cell_type": "code",
   "execution_count": 41,
   "id": "2bb10560-3ab5-44bb-b5ef-4e0150492f6a",
   "metadata": {},
   "outputs": [
    {
     "data": {
      "text/plain": [
       "0.0680952380952381"
      ]
     },
     "execution_count": 41,
     "metadata": {},
     "output_type": "execute_result"
    }
   ],
   "source": [
    "show_prop(dfs)"
   ]
  },
  {
   "cell_type": "markdown",
   "id": "2c6230df-432a-4490-9122-c3f091450bbb",
   "metadata": {},
   "source": [
    "## Summary"
   ]
  },
  {
   "cell_type": "code",
   "execution_count": 42,
   "id": "df7fcf2f-0972-40b8-aff3-01ee794e4a21",
   "metadata": {},
   "outputs": [],
   "source": [
    "summary_list = []\n",
    "for lv, lv_data in dfs.groupby(\"lv\"):\n",
    "    assert lv_data.shape[0] == N_PHENOTYPES\n",
    "\n",
    "    summary_list.append(\n",
    "        {\n",
    "            \"lv\": lv,\n",
    "            \"1\": get_prop(lv_data[\"pvalue\"], 0.01),\n",
    "            \"5\": get_prop(lv_data[\"pvalue\"], 0.05),\n",
    "            \"10\": get_prop(lv_data[\"pvalue\"], 0.10),\n",
    "        }\n",
    "    )\n",
    "\n",
    "summary_df = pd.DataFrame(summary_list)\n",
    "assert summary_df.shape[0] == N_LVS"
   ]
  },
  {
   "cell_type": "code",
   "execution_count": 43,
   "id": "fe24b91a-acfd-43c6-a6cf-0cb996d942a1",
   "metadata": {},
   "outputs": [
    {
     "data": {
      "text/plain": [
       "(987, 4)"
      ]
     },
     "execution_count": 43,
     "metadata": {},
     "output_type": "execute_result"
    }
   ],
   "source": [
    "summary_df.shape"
   ]
  },
  {
   "cell_type": "code",
   "execution_count": 44,
   "id": "f4ea43bf-bc09-417a-9f4e-09ecc500706e",
   "metadata": {},
   "outputs": [
    {
     "data": {
      "text/html": [
       "<div>\n",
       "<style scoped>\n",
       "    .dataframe tbody tr th:only-of-type {\n",
       "        vertical-align: middle;\n",
       "    }\n",
       "\n",
       "    .dataframe tbody tr th {\n",
       "        vertical-align: top;\n",
       "    }\n",
       "\n",
       "    .dataframe thead th {\n",
       "        text-align: right;\n",
       "    }\n",
       "</style>\n",
       "<table border=\"1\" class=\"dataframe\">\n",
       "  <thead>\n",
       "    <tr style=\"text-align: right;\">\n",
       "      <th></th>\n",
       "      <th>lv</th>\n",
       "      <th>1</th>\n",
       "      <th>5</th>\n",
       "      <th>10</th>\n",
       "    </tr>\n",
       "  </thead>\n",
       "  <tbody>\n",
       "    <tr>\n",
       "      <th>0</th>\n",
       "      <td>LV1</td>\n",
       "      <td>0.01</td>\n",
       "      <td>0.09</td>\n",
       "      <td>0.11</td>\n",
       "    </tr>\n",
       "    <tr>\n",
       "      <th>1</th>\n",
       "      <td>LV10</td>\n",
       "      <td>0.02</td>\n",
       "      <td>0.02</td>\n",
       "      <td>0.07</td>\n",
       "    </tr>\n",
       "    <tr>\n",
       "      <th>2</th>\n",
       "      <td>LV100</td>\n",
       "      <td>0.02</td>\n",
       "      <td>0.04</td>\n",
       "      <td>0.07</td>\n",
       "    </tr>\n",
       "    <tr>\n",
       "      <th>3</th>\n",
       "      <td>LV101</td>\n",
       "      <td>0.01</td>\n",
       "      <td>0.04</td>\n",
       "      <td>0.10</td>\n",
       "    </tr>\n",
       "    <tr>\n",
       "      <th>4</th>\n",
       "      <td>LV102</td>\n",
       "      <td>0.01</td>\n",
       "      <td>0.04</td>\n",
       "      <td>0.08</td>\n",
       "    </tr>\n",
       "  </tbody>\n",
       "</table>\n",
       "</div>"
      ],
      "text/plain": [
       "      lv     1     5    10\n",
       "0    LV1  0.01  0.09  0.11\n",
       "1   LV10  0.02  0.02  0.07\n",
       "2  LV100  0.02  0.04  0.07\n",
       "3  LV101  0.01  0.04  0.10\n",
       "4  LV102  0.01  0.04  0.08"
      ]
     },
     "execution_count": 44,
     "metadata": {},
     "output_type": "execute_result"
    }
   ],
   "source": [
    "summary_df.head()"
   ]
  },
  {
   "cell_type": "code",
   "execution_count": 45,
   "id": "0e787b4d-d36b-4dca-9b8a-89318b518be4",
   "metadata": {},
   "outputs": [
    {
     "data": {
      "text/html": [
       "<div>\n",
       "<style scoped>\n",
       "    .dataframe tbody tr th:only-of-type {\n",
       "        vertical-align: middle;\n",
       "    }\n",
       "\n",
       "    .dataframe tbody tr th {\n",
       "        vertical-align: top;\n",
       "    }\n",
       "\n",
       "    .dataframe thead th {\n",
       "        text-align: right;\n",
       "    }\n",
       "</style>\n",
       "<table border=\"1\" class=\"dataframe\">\n",
       "  <thead>\n",
       "    <tr style=\"text-align: right;\">\n",
       "      <th></th>\n",
       "      <th>1</th>\n",
       "      <th>5</th>\n",
       "      <th>10</th>\n",
       "    </tr>\n",
       "  </thead>\n",
       "  <tbody>\n",
       "    <tr>\n",
       "      <th>count</th>\n",
       "      <td>987.000000</td>\n",
       "      <td>987.000000</td>\n",
       "      <td>987.000000</td>\n",
       "    </tr>\n",
       "    <tr>\n",
       "      <th>mean</th>\n",
       "      <td>0.019179</td>\n",
       "      <td>0.068095</td>\n",
       "      <td>0.117447</td>\n",
       "    </tr>\n",
       "    <tr>\n",
       "      <th>std</th>\n",
       "      <td>0.015268</td>\n",
       "      <td>0.029987</td>\n",
       "      <td>0.038661</td>\n",
       "    </tr>\n",
       "    <tr>\n",
       "      <th>min</th>\n",
       "      <td>0.000000</td>\n",
       "      <td>0.010000</td>\n",
       "      <td>0.020000</td>\n",
       "    </tr>\n",
       "    <tr>\n",
       "      <th>25%</th>\n",
       "      <td>0.010000</td>\n",
       "      <td>0.050000</td>\n",
       "      <td>0.090000</td>\n",
       "    </tr>\n",
       "    <tr>\n",
       "      <th>50%</th>\n",
       "      <td>0.020000</td>\n",
       "      <td>0.070000</td>\n",
       "      <td>0.120000</td>\n",
       "    </tr>\n",
       "    <tr>\n",
       "      <th>75%</th>\n",
       "      <td>0.030000</td>\n",
       "      <td>0.090000</td>\n",
       "      <td>0.140000</td>\n",
       "    </tr>\n",
       "    <tr>\n",
       "      <th>max</th>\n",
       "      <td>0.100000</td>\n",
       "      <td>0.180000</td>\n",
       "      <td>0.250000</td>\n",
       "    </tr>\n",
       "  </tbody>\n",
       "</table>\n",
       "</div>"
      ],
      "text/plain": [
       "                1           5          10\n",
       "count  987.000000  987.000000  987.000000\n",
       "mean     0.019179    0.068095    0.117447\n",
       "std      0.015268    0.029987    0.038661\n",
       "min      0.000000    0.010000    0.020000\n",
       "25%      0.010000    0.050000    0.090000\n",
       "50%      0.020000    0.070000    0.120000\n",
       "75%      0.030000    0.090000    0.140000\n",
       "max      0.100000    0.180000    0.250000"
      ]
     },
     "execution_count": 45,
     "metadata": {},
     "output_type": "execute_result"
    }
   ],
   "source": [
    "summary_df.describe()"
   ]
  },
  {
   "cell_type": "code",
   "execution_count": 46,
   "id": "76a04a75-6b70-4778-9788-3b54bdc96c69",
   "metadata": {},
   "outputs": [
    {
     "data": {
      "text/html": [
       "<div>\n",
       "<style scoped>\n",
       "    .dataframe tbody tr th:only-of-type {\n",
       "        vertical-align: middle;\n",
       "    }\n",
       "\n",
       "    .dataframe tbody tr th {\n",
       "        vertical-align: top;\n",
       "    }\n",
       "\n",
       "    .dataframe thead th {\n",
       "        text-align: right;\n",
       "    }\n",
       "</style>\n",
       "<table border=\"1\" class=\"dataframe\">\n",
       "  <thead>\n",
       "    <tr style=\"text-align: right;\">\n",
       "      <th></th>\n",
       "      <th>lv</th>\n",
       "      <th>1</th>\n",
       "      <th>5</th>\n",
       "      <th>10</th>\n",
       "    </tr>\n",
       "  </thead>\n",
       "  <tbody>\n",
       "    <tr>\n",
       "      <th>0</th>\n",
       "      <td>LV1</td>\n",
       "      <td>0.01</td>\n",
       "      <td>0.09</td>\n",
       "      <td>0.11</td>\n",
       "    </tr>\n",
       "    <tr>\n",
       "      <th>557</th>\n",
       "      <td>LV600</td>\n",
       "      <td>0.01</td>\n",
       "      <td>0.09</td>\n",
       "      <td>0.14</td>\n",
       "    </tr>\n",
       "    <tr>\n",
       "      <th>507</th>\n",
       "      <td>LV556</td>\n",
       "      <td>0.01</td>\n",
       "      <td>0.09</td>\n",
       "      <td>0.14</td>\n",
       "    </tr>\n",
       "    <tr>\n",
       "      <th>496</th>\n",
       "      <td>LV546</td>\n",
       "      <td>0.03</td>\n",
       "      <td>0.09</td>\n",
       "      <td>0.11</td>\n",
       "    </tr>\n",
       "    <tr>\n",
       "      <th>491</th>\n",
       "      <td>LV541</td>\n",
       "      <td>0.04</td>\n",
       "      <td>0.09</td>\n",
       "      <td>0.16</td>\n",
       "    </tr>\n",
       "    <tr>\n",
       "      <th>...</th>\n",
       "      <td>...</td>\n",
       "      <td>...</td>\n",
       "      <td>...</td>\n",
       "      <td>...</td>\n",
       "    </tr>\n",
       "    <tr>\n",
       "      <th>986</th>\n",
       "      <td>LV99</td>\n",
       "      <td>0.04</td>\n",
       "      <td>0.15</td>\n",
       "      <td>0.21</td>\n",
       "    </tr>\n",
       "    <tr>\n",
       "      <th>324</th>\n",
       "      <td>LV391</td>\n",
       "      <td>0.09</td>\n",
       "      <td>0.16</td>\n",
       "      <td>0.20</td>\n",
       "    </tr>\n",
       "    <tr>\n",
       "      <th>25</th>\n",
       "      <td>LV121</td>\n",
       "      <td>0.00</td>\n",
       "      <td>0.16</td>\n",
       "      <td>0.20</td>\n",
       "    </tr>\n",
       "    <tr>\n",
       "      <th>67</th>\n",
       "      <td>LV16</td>\n",
       "      <td>0.06</td>\n",
       "      <td>0.17</td>\n",
       "      <td>0.21</td>\n",
       "    </tr>\n",
       "    <tr>\n",
       "      <th>13</th>\n",
       "      <td>LV110</td>\n",
       "      <td>0.10</td>\n",
       "      <td>0.18</td>\n",
       "      <td>0.21</td>\n",
       "    </tr>\n",
       "  </tbody>\n",
       "</table>\n",
       "<p>259 rows × 4 columns</p>\n",
       "</div>"
      ],
      "text/plain": [
       "        lv     1     5    10\n",
       "0      LV1  0.01  0.09  0.11\n",
       "557  LV600  0.01  0.09  0.14\n",
       "507  LV556  0.01  0.09  0.14\n",
       "496  LV546  0.03  0.09  0.11\n",
       "491  LV541  0.04  0.09  0.16\n",
       "..     ...   ...   ...   ...\n",
       "986   LV99  0.04  0.15  0.21\n",
       "324  LV391  0.09  0.16  0.20\n",
       "25   LV121  0.00  0.16  0.20\n",
       "67    LV16  0.06  0.17  0.21\n",
       "13   LV110  0.10  0.18  0.21\n",
       "\n",
       "[259 rows x 4 columns]"
      ]
     },
     "execution_count": 46,
     "metadata": {},
     "output_type": "execute_result"
    }
   ],
   "source": [
    "summary_df[summary_df[\"5\"] > 0.08].sort_values(\"5\")"
   ]
  },
  {
   "cell_type": "markdown",
   "id": "c99a38e1-ff31-4956-9e44-5ef4d48d77db",
   "metadata": {},
   "source": [
    "## LV16"
   ]
  },
  {
   "cell_type": "code",
   "execution_count": 50,
   "id": "b8a8d071-ca9d-4b63-8727-a7e5de17bb6b",
   "metadata": {},
   "outputs": [
    {
     "data": {
      "text/html": [
       "<div>\n",
       "<style scoped>\n",
       "    .dataframe tbody tr th:only-of-type {\n",
       "        vertical-align: middle;\n",
       "    }\n",
       "\n",
       "    .dataframe tbody tr th {\n",
       "        vertical-align: top;\n",
       "    }\n",
       "\n",
       "    .dataframe thead th {\n",
       "        text-align: right;\n",
       "    }\n",
       "</style>\n",
       "<table border=\"1\" class=\"dataframe\">\n",
       "  <thead>\n",
       "    <tr style=\"text-align: right;\">\n",
       "      <th></th>\n",
       "      <th>lv</th>\n",
       "      <th>1</th>\n",
       "      <th>5</th>\n",
       "      <th>10</th>\n",
       "    </tr>\n",
       "  </thead>\n",
       "  <tbody>\n",
       "    <tr>\n",
       "      <th>67</th>\n",
       "      <td>LV16</td>\n",
       "      <td>0.06</td>\n",
       "      <td>0.17</td>\n",
       "      <td>0.21</td>\n",
       "    </tr>\n",
       "  </tbody>\n",
       "</table>\n",
       "</div>"
      ],
      "text/plain": [
       "      lv     1     5    10\n",
       "67  LV16  0.06  0.17  0.21"
      ]
     },
     "execution_count": 50,
     "metadata": {},
     "output_type": "execute_result"
    }
   ],
   "source": [
    "summary_df[summary_df[\"lv\"] == \"LV16\"]"
   ]
  },
  {
   "cell_type": "code",
   "execution_count": 23,
   "id": "3efe4dab-2e5c-4cd4-9504-04e6f6d0b608",
   "metadata": {},
   "outputs": [],
   "source": [
    "# results = dfs[dfs[\"phenotype\"] == \"random.pheno100\"]  # .sample(n=100)\n",
    "results = dfs[dfs[\"lv\"] == \"LV389\"]  # .sample(n=100)"
   ]
  },
  {
   "cell_type": "code",
   "execution_count": 24,
   "id": "8ee37dd8-1cfc-4177-baa4-f76e02ebffec",
   "metadata": {},
   "outputs": [
    {
     "data": {
      "text/plain": [
       "(200, 4)"
      ]
     },
     "execution_count": 24,
     "metadata": {},
     "output_type": "execute_result"
    }
   ],
   "source": [
    "results.shape"
   ]
  },
  {
   "cell_type": "code",
   "execution_count": 25,
   "id": "4440e5b3-6a6f-44f2-b2f0-497506a5a5d4",
   "metadata": {},
   "outputs": [
    {
     "data": {
      "text/html": [
       "<div>\n",
       "<style scoped>\n",
       "    .dataframe tbody tr th:only-of-type {\n",
       "        vertical-align: middle;\n",
       "    }\n",
       "\n",
       "    .dataframe tbody tr th {\n",
       "        vertical-align: top;\n",
       "    }\n",
       "\n",
       "    .dataframe thead th {\n",
       "        text-align: right;\n",
       "    }\n",
       "</style>\n",
       "<table border=\"1\" class=\"dataframe\">\n",
       "  <thead>\n",
       "    <tr style=\"text-align: right;\">\n",
       "      <th></th>\n",
       "      <th>lv</th>\n",
       "      <th>coef</th>\n",
       "      <th>pvalue</th>\n",
       "      <th>phenotype</th>\n",
       "    </tr>\n",
       "  </thead>\n",
       "  <tbody>\n",
       "    <tr>\n",
       "      <th>321</th>\n",
       "      <td>LV389</td>\n",
       "      <td>0.009703</td>\n",
       "      <td>0.219513</td>\n",
       "      <td>random.pheno86</td>\n",
       "    </tr>\n",
       "    <tr>\n",
       "      <th>1308</th>\n",
       "      <td>LV389</td>\n",
       "      <td>0.004813</td>\n",
       "      <td>0.351040</td>\n",
       "      <td>random.pheno53</td>\n",
       "    </tr>\n",
       "    <tr>\n",
       "      <th>2295</th>\n",
       "      <td>LV389</td>\n",
       "      <td>0.033391</td>\n",
       "      <td>0.003792</td>\n",
       "      <td>random.pheno34</td>\n",
       "    </tr>\n",
       "    <tr>\n",
       "      <th>3282</th>\n",
       "      <td>LV389</td>\n",
       "      <td>0.024447</td>\n",
       "      <td>0.025918</td>\n",
       "      <td>random.pheno177</td>\n",
       "    </tr>\n",
       "    <tr>\n",
       "      <th>4269</th>\n",
       "      <td>LV389</td>\n",
       "      <td>0.018315</td>\n",
       "      <td>0.071991</td>\n",
       "      <td>random.pheno93</td>\n",
       "    </tr>\n",
       "  </tbody>\n",
       "</table>\n",
       "</div>"
      ],
      "text/plain": [
       "         lv      coef    pvalue        phenotype\n",
       "321   LV389  0.009703  0.219513   random.pheno86\n",
       "1308  LV389  0.004813  0.351040   random.pheno53\n",
       "2295  LV389  0.033391  0.003792   random.pheno34\n",
       "3282  LV389  0.024447  0.025918  random.pheno177\n",
       "4269  LV389  0.018315  0.071991   random.pheno93"
      ]
     },
     "execution_count": 25,
     "metadata": {},
     "output_type": "execute_result"
    }
   ],
   "source": [
    "results.head()"
   ]
  },
  {
   "cell_type": "markdown",
   "id": "39566eda-b026-4a91-8e91-7a308a8f533b",
   "metadata": {},
   "source": [
    "### Proportion pvalue < 0.05"
   ]
  },
  {
   "cell_type": "code",
   "execution_count": 26,
   "id": "15665ff2-2247-4967-b083-eb3423d737d1",
   "metadata": {},
   "outputs": [
    {
     "data": {
      "text/plain": [
       "0.045"
      ]
     },
     "execution_count": 26,
     "metadata": {},
     "output_type": "execute_result"
    }
   ],
   "source": [
    "show_prop(results, 0.01)"
   ]
  },
  {
   "cell_type": "code",
   "execution_count": 27,
   "id": "96ee7113-2653-4821-8af8-621b5c964f8b",
   "metadata": {},
   "outputs": [
    {
     "data": {
      "text/plain": [
       "0.125"
      ]
     },
     "execution_count": 27,
     "metadata": {},
     "output_type": "execute_result"
    }
   ],
   "source": [
    "show_prop(results, 0.05)"
   ]
  },
  {
   "cell_type": "code",
   "execution_count": 28,
   "id": "51178ce7-c0ed-4e69-b4fd-9df527921213",
   "metadata": {},
   "outputs": [
    {
     "data": {
      "text/plain": [
       "0.17"
      ]
     },
     "execution_count": 28,
     "metadata": {},
     "output_type": "execute_result"
    }
   ],
   "source": [
    "show_prop(results, 0.10)"
   ]
  },
  {
   "cell_type": "code",
   "execution_count": 29,
   "id": "3c9cd0c2-7b28-417c-9fb8-725e9934da75",
   "metadata": {},
   "outputs": [
    {
     "data": {
      "text/plain": [
       "0.22"
      ]
     },
     "execution_count": 29,
     "metadata": {},
     "output_type": "execute_result"
    }
   ],
   "source": [
    "show_prop(results, 0.15)"
   ]
  },
  {
   "cell_type": "code",
   "execution_count": 30,
   "id": "568253f7-8b15-4d4e-9390-2bb16d421966",
   "metadata": {},
   "outputs": [
    {
     "data": {
      "text/plain": [
       "0.26"
      ]
     },
     "execution_count": 30,
     "metadata": {},
     "output_type": "execute_result"
    }
   ],
   "source": [
    "show_prop(results, 0.20)"
   ]
  },
  {
   "cell_type": "markdown",
   "id": "0db5d6ce-074b-4640-b7ce-fa9f7ba10570",
   "metadata": {},
   "source": [
    "### QQplot"
   ]
  },
  {
   "cell_type": "code",
   "execution_count": 31,
   "id": "dc903292-d948-433d-bb79-4913672e0b23",
   "metadata": {
    "papermill": {
     "duration": 0.016445,
     "end_time": "2022-02-24T05:32:04.933024",
     "exception": false,
     "start_time": "2022-02-24T05:32:04.916579",
     "status": "completed"
    },
    "tags": []
   },
   "outputs": [],
   "source": [
    "data = results[\"pvalue\"].to_numpy()\n",
    "n = data.shape[0]\n",
    "uniform_data = np.array([i / (n + 1) for i in range(1, n + 1)])"
   ]
  },
  {
   "cell_type": "code",
   "execution_count": 32,
   "id": "9bfe03d9-4514-49e8-b39b-57a3c4abd10c",
   "metadata": {
    "papermill": {
     "duration": 0.018047,
     "end_time": "2022-02-24T05:32:04.962092",
     "exception": false,
     "start_time": "2022-02-24T05:32:04.944045",
     "status": "completed"
    },
    "tags": []
   },
   "outputs": [
    {
     "data": {
      "text/plain": [
       "array([0.21951253, 0.35103972, 0.00379187, 0.02591801, 0.07199116])"
      ]
     },
     "metadata": {},
     "output_type": "display_data"
    },
    {
     "data": {
      "text/plain": [
       "array([0.00497512, 0.00995025, 0.01492537, 0.0199005 , 0.02487562])"
      ]
     },
     "metadata": {},
     "output_type": "display_data"
    }
   ],
   "source": [
    "display(data[:5])\n",
    "display(uniform_data[:5])"
   ]
  },
  {
   "cell_type": "code",
   "execution_count": 33,
   "id": "4c36eb0f-e3e1-4ede-ae31-3ccf33477401",
   "metadata": {
    "papermill": {
     "duration": 0.142909,
     "end_time": "2022-02-24T05:32:05.117221",
     "exception": false,
     "start_time": "2022-02-24T05:32:04.974312",
     "status": "completed"
    },
    "tags": []
   },
   "outputs": [
    {
     "data": {
      "image/png": "[encoded data removed]",
      "text/plain": [
       "<Figure size 576x576 with 1 Axes>"
      ]
     },
     "metadata": {
      "needs_background": "light"
     },
     "output_type": "display_data"
    }
   ],
   "source": [
    "observed_data = -np.log10(data)\n",
    "expected_data = -np.log10(uniform_data)\n",
    "\n",
    "with sns.plotting_context(\"paper\", font_scale=1.8), mpl.rc_context(\n",
    "    {\"lines.markersize\": 3}\n",
    "):\n",
    "    fig, ax = plt.subplots(figsize=(8, 8))\n",
    "\n",
    "    fig = qqplot_2samples(expected_data, observed_data, line=\"45\", ax=ax)\n",
    "\n",
    "    ax.set_xlim(expected_data.min() - 0.05, expected_data.max() + 0.05)\n",
    "\n",
    "    ax.set_xlabel(\"$-\\log_{10}$(expected pvalue)\")\n",
    "    ax.set_ylabel(\"$-\\log_{10}$(observed pvalue)\")\n",
    "    ax.set_title(\"QQ-Plot - Null with MASHR models\")"
   ]
  },
  {
   "cell_type": "markdown",
   "id": "a9cb44d0-b7e9-45f2-ab2e-739deed0ed12",
   "metadata": {},
   "source": [
    "# MAGMA-derived correaltions between two genes"
   ]
  },
  {
   "cell_type": "markdown",
   "id": "f43a5323-0004-4342-b399-ec67f86caf4f",
   "metadata": {},
   "source": [
    "# Mean correlation between principal components"
   ]
  },
  {
   "cell_type": "code",
   "execution_count": null,
   "id": "55a30c9d-cee7-4b53-b82d-b069c1e0b97f",
   "metadata": {},
   "outputs": [],
   "source": []
  },
  {
   "cell_type": "code",
   "execution_count": null,
   "id": "2711f39f-5b16-4445-93bb-bd1e689e46a7",
   "metadata": {},
   "outputs": [],
   "source": []
  },
  {
   "cell_type": "code",
   "execution_count": null,
   "id": "e46e8ee2-97a7-41ed-9907-8940e73512ec",
   "metadata": {},
   "outputs": [],
   "source": []
  },
  {
   "cell_type": "code",
   "execution_count": null,
   "id": "e2786196-5a23-447d-984e-3ca5ef699a6b",
   "metadata": {},
   "outputs": [],
   "source": []
  },
  {
   "cell_type": "code",
   "execution_count": null,
   "id": "6a0b72d6-9679-4126-8450-a429a882daf5",
   "metadata": {},
   "outputs": [],
   "source": []
  },
  {
   "cell_type": "code",
   "execution_count": null,
   "id": "b1558dc0-ccc9-465f-8ae0-cc82a608f112",
   "metadata": {},
   "outputs": [],
   "source": []
  },
  {
   "cell_type": "code",
   "execution_count": null,
   "id": "1ca19ea7-f2cb-4e11-ad05-fef7f83ee586",
   "metadata": {},
   "outputs": [],
   "source": []
  },
  {
   "cell_type": "code",
   "execution_count": null,
   "id": "1554858b-9171-4b28-831b-7e7b9e1e3e1b",
   "metadata": {},
   "outputs": [],
   "source": []
  },
  {
   "cell_type": "markdown",
   "id": "acf7d125-dfd4-44d3-820a-6e0521ce07b7",
   "metadata": {},
   "source": [
    "# See what's going on with LV704?"
   ]
  },
  {
   "cell_type": "code",
   "execution_count": 24,
   "id": "7fd5a48c-f886-44a7-a256-e1124c4845a9",
   "metadata": {},
   "outputs": [],
   "source": [
    "multiplier_z = pd.read_pickle(conf.MULTIPLIER[\"MODEL_Z_MATRIX_FILE\"])"
   ]
  },
  {
   "cell_type": "code",
   "execution_count": 25,
   "id": "64760ce6-b102-4563-bbb3-b2f225e0ddb5",
   "metadata": {},
   "outputs": [
    {
     "data": {
      "text/plain": [
       "(6750, 987)"
      ]
     },
     "execution_count": 25,
     "metadata": {},
     "output_type": "execute_result"
    }
   ],
   "source": [
    "multiplier_z.shape"
   ]
  },
  {
   "cell_type": "code",
   "execution_count": 26,
   "id": "819bbc93-bfd4-4873-8cfe-f3bdae1d9b97",
   "metadata": {},
   "outputs": [
    {
     "data": {
      "text/html": [
       "<div>\n",
       "<style scoped>\n",
       "    .dataframe tbody tr th:only-of-type {\n",
       "        vertical-align: middle;\n",
       "    }\n",
       "\n",
       "    .dataframe tbody tr th {\n",
       "        vertical-align: top;\n",
       "    }\n",
       "\n",
       "    .dataframe thead th {\n",
       "        text-align: right;\n",
       "    }\n",
       "</style>\n",
       "<table border=\"1\" class=\"dataframe\">\n",
       "  <thead>\n",
       "    <tr style=\"text-align: right;\">\n",
       "      <th></th>\n",
       "      <th>LV1</th>\n",
       "      <th>LV2</th>\n",
       "      <th>LV3</th>\n",
       "      <th>LV4</th>\n",
       "      <th>LV5</th>\n",
       "      <th>LV6</th>\n",
       "      <th>LV7</th>\n",
       "      <th>LV8</th>\n",
       "      <th>LV9</th>\n",
       "      <th>LV10</th>\n",
       "      <th>...</th>\n",
       "      <th>LV978</th>\n",
       "      <th>LV979</th>\n",
       "      <th>LV980</th>\n",
       "      <th>LV981</th>\n",
       "      <th>LV982</th>\n",
       "      <th>LV983</th>\n",
       "      <th>LV984</th>\n",
       "      <th>LV985</th>\n",
       "      <th>LV986</th>\n",
       "      <th>LV987</th>\n",
       "    </tr>\n",
       "  </thead>\n",
       "  <tbody>\n",
       "    <tr>\n",
       "      <th>GAS6</th>\n",
       "      <td>0.000000</td>\n",
       "      <td>0.0</td>\n",
       "      <td>0.039438</td>\n",
       "      <td>0.0</td>\n",
       "      <td>0.050476</td>\n",
       "      <td>0.000000</td>\n",
       "      <td>0.0</td>\n",
       "      <td>0.000000</td>\n",
       "      <td>0.590949</td>\n",
       "      <td>0.000000</td>\n",
       "      <td>...</td>\n",
       "      <td>0.050125</td>\n",
       "      <td>0.00000</td>\n",
       "      <td>0.033407</td>\n",
       "      <td>0.000000</td>\n",
       "      <td>0.000000</td>\n",
       "      <td>0.005963</td>\n",
       "      <td>0.347362</td>\n",
       "      <td>0.0</td>\n",
       "      <td>0.000000</td>\n",
       "      <td>0.000000</td>\n",
       "    </tr>\n",
       "    <tr>\n",
       "      <th>MMP14</th>\n",
       "      <td>0.000000</td>\n",
       "      <td>0.0</td>\n",
       "      <td>0.000000</td>\n",
       "      <td>0.0</td>\n",
       "      <td>0.070072</td>\n",
       "      <td>0.000000</td>\n",
       "      <td>0.0</td>\n",
       "      <td>0.004904</td>\n",
       "      <td>1.720179</td>\n",
       "      <td>2.423595</td>\n",
       "      <td>...</td>\n",
       "      <td>0.000000</td>\n",
       "      <td>0.00000</td>\n",
       "      <td>0.001007</td>\n",
       "      <td>0.000000</td>\n",
       "      <td>0.035747</td>\n",
       "      <td>0.000000</td>\n",
       "      <td>0.000000</td>\n",
       "      <td>0.0</td>\n",
       "      <td>0.014978</td>\n",
       "      <td>0.000000</td>\n",
       "    </tr>\n",
       "    <tr>\n",
       "      <th>DSP</th>\n",
       "      <td>0.000000</td>\n",
       "      <td>0.0</td>\n",
       "      <td>0.000000</td>\n",
       "      <td>0.0</td>\n",
       "      <td>0.000000</td>\n",
       "      <td>0.041697</td>\n",
       "      <td>0.0</td>\n",
       "      <td>0.005718</td>\n",
       "      <td>0.000000</td>\n",
       "      <td>0.000000</td>\n",
       "      <td>...</td>\n",
       "      <td>0.020853</td>\n",
       "      <td>0.00000</td>\n",
       "      <td>0.000000</td>\n",
       "      <td>0.000000</td>\n",
       "      <td>0.000000</td>\n",
       "      <td>0.005774</td>\n",
       "      <td>0.000000</td>\n",
       "      <td>0.0</td>\n",
       "      <td>0.000000</td>\n",
       "      <td>0.416405</td>\n",
       "    </tr>\n",
       "    <tr>\n",
       "      <th>MARCKSL1</th>\n",
       "      <td>0.305212</td>\n",
       "      <td>0.0</td>\n",
       "      <td>0.000000</td>\n",
       "      <td>0.0</td>\n",
       "      <td>0.000000</td>\n",
       "      <td>0.000000</td>\n",
       "      <td>0.0</td>\n",
       "      <td>0.000000</td>\n",
       "      <td>0.161843</td>\n",
       "      <td>0.149471</td>\n",
       "      <td>...</td>\n",
       "      <td>0.027134</td>\n",
       "      <td>0.05272</td>\n",
       "      <td>0.000000</td>\n",
       "      <td>0.030189</td>\n",
       "      <td>0.060884</td>\n",
       "      <td>0.000000</td>\n",
       "      <td>0.000000</td>\n",
       "      <td>0.0</td>\n",
       "      <td>0.000000</td>\n",
       "      <td>0.448480</td>\n",
       "    </tr>\n",
       "    <tr>\n",
       "      <th>SPARC</th>\n",
       "      <td>0.000000</td>\n",
       "      <td>0.0</td>\n",
       "      <td>0.000000</td>\n",
       "      <td>0.0</td>\n",
       "      <td>0.000000</td>\n",
       "      <td>0.000000</td>\n",
       "      <td>0.0</td>\n",
       "      <td>0.000000</td>\n",
       "      <td>0.000000</td>\n",
       "      <td>0.014014</td>\n",
       "      <td>...</td>\n",
       "      <td>0.000000</td>\n",
       "      <td>0.00000</td>\n",
       "      <td>0.000000</td>\n",
       "      <td>0.000000</td>\n",
       "      <td>0.000000</td>\n",
       "      <td>0.000000</td>\n",
       "      <td>0.067779</td>\n",
       "      <td>0.0</td>\n",
       "      <td>0.122417</td>\n",
       "      <td>0.062665</td>\n",
       "    </tr>\n",
       "  </tbody>\n",
       "</table>\n",
       "<p>5 rows × 987 columns</p>\n",
       "</div>"
      ],
      "text/plain": [
       "               LV1  LV2       LV3  LV4       LV5       LV6  LV7       LV8  \\\n",
       "GAS6      0.000000  0.0  0.039438  0.0  0.050476  0.000000  0.0  0.000000   \n",
       "MMP14     0.000000  0.0  0.000000  0.0  0.070072  0.000000  0.0  0.004904   \n",
       "DSP       0.000000  0.0  0.000000  0.0  0.000000  0.041697  0.0  0.005718   \n",
       "MARCKSL1  0.305212  0.0  0.000000  0.0  0.000000  0.000000  0.0  0.000000   \n",
       "SPARC     0.000000  0.0  0.000000  0.0  0.000000  0.000000  0.0  0.000000   \n",
       "\n",
       "               LV9      LV10  ...     LV978    LV979     LV980     LV981  \\\n",
       "GAS6      0.590949  0.000000  ...  0.050125  0.00000  0.033407  0.000000   \n",
       "MMP14     1.720179  2.423595  ...  0.000000  0.00000  0.001007  0.000000   \n",
       "DSP       0.000000  0.000000  ...  0.020853  0.00000  0.000000  0.000000   \n",
       "MARCKSL1  0.161843  0.149471  ...  0.027134  0.05272  0.000000  0.030189   \n",
       "SPARC     0.000000  0.014014  ...  0.000000  0.00000  0.000000  0.000000   \n",
       "\n",
       "             LV982     LV983     LV984  LV985     LV986     LV987  \n",
       "GAS6      0.000000  0.005963  0.347362    0.0  0.000000  0.000000  \n",
       "MMP14     0.035747  0.000000  0.000000    0.0  0.014978  0.000000  \n",
       "DSP       0.000000  0.005774  0.000000    0.0  0.000000  0.416405  \n",
       "MARCKSL1  0.060884  0.000000  0.000000    0.0  0.000000  0.448480  \n",
       "SPARC     0.000000  0.000000  0.067779    0.0  0.122417  0.062665  \n",
       "\n",
       "[5 rows x 987 columns]"
      ]
     },
     "execution_count": 26,
     "metadata": {},
     "output_type": "execute_result"
    }
   ],
   "source": [
    "multiplier_z.head()"
   ]
  },
  {
   "cell_type": "code",
   "execution_count": 27,
   "id": "b80b48d4-48ab-425a-a29c-dc43c017cf66",
   "metadata": {},
   "outputs": [
    {
     "data": {
      "text/plain": [
       "CDC25A      7.663420\n",
       "EIF3A       4.580440\n",
       "MAT2B       4.225408\n",
       "FGFR1OP     3.548053\n",
       "CEP63       3.547427\n",
       "RAB4A       2.459242\n",
       "DYNLRB1     1.964849\n",
       "TAF1B       1.498529\n",
       "VTI1A       1.481292\n",
       "DDX42       1.358032\n",
       "DNAJA2      1.332558\n",
       "NDUFS4      1.321993\n",
       "PSMD14      1.308596\n",
       "YWHAB       1.291895\n",
       "CHMP5       1.190785\n",
       "PTPN11      1.113178\n",
       "TMEM117     1.079425\n",
       "UGCG        1.036380\n",
       "SLC25A12    0.982376\n",
       "PRPF19      0.980791\n",
       "Name: LV704, dtype: float64"
      ]
     },
     "execution_count": 27,
     "metadata": {},
     "output_type": "execute_result"
    }
   ],
   "source": [
    "multiplier_z[\"LV704\"].sort_values(ascending=False).head(20)"
   ]
  },
  {
   "cell_type": "code",
   "execution_count": 28,
   "id": "36cff55d-95d9-4040-ab60-7dd1d041f3c2",
   "metadata": {},
   "outputs": [
    {
     "data": {
      "text/plain": [
       "POLD1      2.989508\n",
       "TRIM28     2.967235\n",
       "TOMM40     2.941369\n",
       "PKMYT1     2.810091\n",
       "CDT1       2.776054\n",
       "VARS       2.533207\n",
       "H2AFX      2.502205\n",
       "KHSRP      2.499231\n",
       "MCM2       2.493689\n",
       "TONSL      2.466507\n",
       "INCENP     2.422455\n",
       "CAD        2.372358\n",
       "U2AF2      2.367987\n",
       "MYBL2      2.349290\n",
       "SF3A2      2.246600\n",
       "NOC2L      2.237970\n",
       "MYBBP1A    2.220894\n",
       "HMGA1      2.203837\n",
       "POLRMT     2.179883\n",
       "E2F1       2.158240\n",
       "Name: LV1, dtype: float64"
      ]
     },
     "execution_count": 28,
     "metadata": {},
     "output_type": "execute_result"
    }
   ],
   "source": [
    "# LV1 is an example of a good \"LV\" with good type I error rates\n",
    "multiplier_z[\"LV1\"].sort_values(ascending=False).head(20)"
   ]
  },
  {
   "cell_type": "code",
   "execution_count": 35,
   "id": "5f1f7b31-01b7-4e9f-8621-33a9a1d7b358",
   "metadata": {
    "papermill": {
     "duration": 0.142909,
     "end_time": "2022-02-24T05:32:05.117221",
     "exception": false,
     "start_time": "2022-02-24T05:32:04.974312",
     "status": "completed"
    },
    "tags": []
   },
   "outputs": [
    {
     "data": {
      "image/png": "[encoded data removed]",
      "text/plain": [
       "<Figure size 576x576 with 1 Axes>"
      ]
     },
     "metadata": {
      "needs_background": "light"
     },
     "output_type": "display_data"
    }
   ],
   "source": [
    "lv_x = \"LV1\"\n",
    "lv_y = \"LV704\"\n",
    "\n",
    "observed_data = multiplier_z[lv_y].to_numpy()\n",
    "expected_data = multiplier_z[lv_x].to_numpy()\n",
    "\n",
    "with sns.plotting_context(\"paper\", font_scale=1.8), mpl.rc_context(\n",
    "    {\"lines.markersize\": 3}\n",
    "):\n",
    "    fig, ax = plt.subplots(figsize=(8, 8))\n",
    "\n",
    "    fig = qqplot_2samples(expected_data, observed_data, line=\"45\", ax=ax)\n",
    "\n",
    "    ax.set_xlim(expected_data.min() - 0.05, expected_data.max() + 0.05)\n",
    "\n",
    "    ax.set_xlabel(lv_x)\n",
    "    ax.set_ylabel(lv_y)\n",
    "    ax.set_title(\"QQ-Plot\")"
   ]
  },
  {
   "cell_type": "markdown",
   "id": "f30b6ae5-c6c3-42e5-b51a-3d54f7322a32",
   "metadata": {},
   "source": [
    "For LV704, most of the gene values are zero, and just a few have higher values.\n",
    "\n",
    "The same happens with LV100 (below)"
   ]
  },
  {
   "cell_type": "code",
   "execution_count": 36,
   "id": "cb1a4cd0-5673-4fbb-87e9-5803ef2f6ff5",
   "metadata": {
    "papermill": {
     "duration": 0.142909,
     "end_time": "2022-02-24T05:32:05.117221",
     "exception": false,
     "start_time": "2022-02-24T05:32:04.974312",
     "status": "completed"
    },
    "tags": []
   },
   "outputs": [
    {
     "data": {
      "image/png": "[encoded data removed]",
      "text/plain": [
       "<Figure size 576x576 with 1 Axes>"
      ]
     },
     "metadata": {
      "needs_background": "light"
     },
     "output_type": "display_data"
    }
   ],
   "source": [
    "# two good LVs\n",
    "lv_x = \"LV1\"\n",
    "lv_y = \"LV100\"\n",
    "\n",
    "observed_data = multiplier_z[lv_y].to_numpy()\n",
    "expected_data = multiplier_z[lv_x].to_numpy()\n",
    "\n",
    "with sns.plotting_context(\"paper\", font_scale=1.8), mpl.rc_context(\n",
    "    {\"lines.markersize\": 3}\n",
    "):\n",
    "    fig, ax = plt.subplots(figsize=(8, 8))\n",
    "\n",
    "    fig = qqplot_2samples(expected_data, observed_data, line=\"45\", ax=ax)\n",
    "\n",
    "    ax.set_xlim(expected_data.min() - 0.05, expected_data.max() + 0.05)\n",
    "\n",
    "    ax.set_xlabel(lv_x)\n",
    "    ax.set_ylabel(lv_y)\n",
    "    ax.set_title(\"QQ-Plot\")"
   ]
  },
  {
   "cell_type": "markdown",
   "id": "4e15154d-c1e5-46b3-8b0d-aec6b1f1c616",
   "metadata": {},
   "source": [
    "But LV100 has good type I error rates, compared with LV704. So what's the difference? **Maybe** the top genes in LV704 are more correlated than in LV100"
   ]
  },
  {
   "cell_type": "markdown",
   "id": "0e2772ed-dce6-4d7d-8563-898f7bff89e2",
   "metadata": {},
   "source": [
    "## Let's see the band of genes in these two LVs"
   ]
  },
  {
   "cell_type": "code",
   "execution_count": 48,
   "id": "5bf1be7e-cb1b-4923-b97a-0bb000234086",
   "metadata": {},
   "outputs": [],
   "source": [
    "from data.recount2 import LVAnalysis"
   ]
  },
  {
   "cell_type": "markdown",
   "id": "8d9e7748-2d65-4972-8c1a-c786185fb3a4",
   "metadata": {},
   "source": [
    "### LV704"
   ]
  },
  {
   "cell_type": "code",
   "execution_count": 49,
   "id": "b3dacc4f-0c2a-4aef-806b-518db4b7eb55",
   "metadata": {},
   "outputs": [],
   "source": [
    "lv704 = LVAnalysis(\"LV704\")"
   ]
  },
  {
   "cell_type": "code",
   "execution_count": 72,
   "id": "15737874-c00c-4473-add2-c65d90715194",
   "metadata": {},
   "outputs": [
    {
     "data": {
      "text/html": [
       "<div>\n",
       "<style scoped>\n",
       "    .dataframe tbody tr th:only-of-type {\n",
       "        vertical-align: middle;\n",
       "    }\n",
       "\n",
       "    .dataframe tbody tr th {\n",
       "        vertical-align: top;\n",
       "    }\n",
       "\n",
       "    .dataframe thead th {\n",
       "        text-align: right;\n",
       "    }\n",
       "</style>\n",
       "<table border=\"1\" class=\"dataframe\">\n",
       "  <thead>\n",
       "    <tr style=\"text-align: right;\">\n",
       "      <th></th>\n",
       "      <th>gene_name</th>\n",
       "      <th>LV704</th>\n",
       "      <th>gene_band</th>\n",
       "    </tr>\n",
       "  </thead>\n",
       "  <tbody>\n",
       "    <tr>\n",
       "      <th>0</th>\n",
       "      <td>CDC25A</td>\n",
       "      <td>7.663420</td>\n",
       "      <td>3p21.31</td>\n",
       "    </tr>\n",
       "    <tr>\n",
       "      <th>1</th>\n",
       "      <td>EIF3A</td>\n",
       "      <td>4.580440</td>\n",
       "      <td>10q26.11</td>\n",
       "    </tr>\n",
       "    <tr>\n",
       "      <th>2</th>\n",
       "      <td>MAT2B</td>\n",
       "      <td>4.225408</td>\n",
       "      <td>5q34</td>\n",
       "    </tr>\n",
       "    <tr>\n",
       "      <th>3</th>\n",
       "      <td>FGFR1OP</td>\n",
       "      <td>3.548053</td>\n",
       "      <td>6q27</td>\n",
       "    </tr>\n",
       "    <tr>\n",
       "      <th>4</th>\n",
       "      <td>CEP63</td>\n",
       "      <td>3.547427</td>\n",
       "      <td>3q22.2</td>\n",
       "    </tr>\n",
       "  </tbody>\n",
       "</table>\n",
       "</div>"
      ],
      "text/plain": [
       "  gene_name     LV704 gene_band\n",
       "0    CDC25A  7.663420   3p21.31\n",
       "1     EIF3A  4.580440  10q26.11\n",
       "2     MAT2B  4.225408      5q34\n",
       "3   FGFR1OP  3.548053      6q27\n",
       "4     CEP63  3.547427    3q22.2"
      ]
     },
     "execution_count": 72,
     "metadata": {},
     "output_type": "execute_result"
    }
   ],
   "source": [
    "lv704.lv_genes.head()"
   ]
  },
  {
   "cell_type": "code",
   "execution_count": 75,
   "id": "92f046a6-aabb-4f76-95a8-9ccc2641549e",
   "metadata": {},
   "outputs": [
    {
     "data": {
      "text/html": [
       "<div>\n",
       "<style scoped>\n",
       "    .dataframe tbody tr th:only-of-type {\n",
       "        vertical-align: middle;\n",
       "    }\n",
       "\n",
       "    .dataframe tbody tr th {\n",
       "        vertical-align: top;\n",
       "    }\n",
       "\n",
       "    .dataframe thead th {\n",
       "        text-align: right;\n",
       "    }\n",
       "</style>\n",
       "<table border=\"1\" class=\"dataframe\">\n",
       "  <thead>\n",
       "    <tr style=\"text-align: right;\">\n",
       "      <th></th>\n",
       "      <th>gene_name</th>\n",
       "      <th>LV704</th>\n",
       "    </tr>\n",
       "    <tr>\n",
       "      <th>gene_band</th>\n",
       "      <th></th>\n",
       "      <th></th>\n",
       "    </tr>\n",
       "  </thead>\n",
       "  <tbody>\n",
       "    <tr>\n",
       "      <th>4q22.1</th>\n",
       "      <td>2</td>\n",
       "      <td>2</td>\n",
       "    </tr>\n",
       "    <tr>\n",
       "      <th>11q13.1</th>\n",
       "      <td>2</td>\n",
       "      <td>2</td>\n",
       "    </tr>\n",
       "  </tbody>\n",
       "</table>\n",
       "</div>"
      ],
      "text/plain": [
       "           gene_name  LV704\n",
       "gene_band                  \n",
       "4q22.1             2      2\n",
       "11q13.1            2      2"
      ]
     },
     "metadata": {},
     "output_type": "display_data"
    }
   ],
   "source": [
    "_tmp = (\n",
    "    lv704.lv_genes.head(50)\n",
    "    .groupby(\"gene_band\")\n",
    "    .count()\n",
    "    .sort_values(\"gene_name\", ascending=False)\n",
    ")\n",
    "display(_tmp[_tmp[\"gene_name\"] > 1])"
   ]
  },
  {
   "cell_type": "markdown",
   "id": "9997be73-80d8-4ac2-8bed-e50e21821982",
   "metadata": {},
   "source": [
    "### LV1"
   ]
  },
  {
   "cell_type": "code",
   "execution_count": 68,
   "id": "2cca539a-a62e-435c-bc7d-8f7a8bcbc352",
   "metadata": {},
   "outputs": [],
   "source": [
    "lv1 = LVAnalysis(\"LV1\")"
   ]
  },
  {
   "cell_type": "code",
   "execution_count": 71,
   "id": "b00a2af7-8933-4b98-ac95-13ecb22205ba",
   "metadata": {},
   "outputs": [
    {
     "data": {
      "text/html": [
       "<div>\n",
       "<style scoped>\n",
       "    .dataframe tbody tr th:only-of-type {\n",
       "        vertical-align: middle;\n",
       "    }\n",
       "\n",
       "    .dataframe tbody tr th {\n",
       "        vertical-align: top;\n",
       "    }\n",
       "\n",
       "    .dataframe thead th {\n",
       "        text-align: right;\n",
       "    }\n",
       "</style>\n",
       "<table border=\"1\" class=\"dataframe\">\n",
       "  <thead>\n",
       "    <tr style=\"text-align: right;\">\n",
       "      <th></th>\n",
       "      <th>gene_name</th>\n",
       "      <th>LV1</th>\n",
       "      <th>gene_band</th>\n",
       "    </tr>\n",
       "  </thead>\n",
       "  <tbody>\n",
       "    <tr>\n",
       "      <th>0</th>\n",
       "      <td>POLD1</td>\n",
       "      <td>2.989508</td>\n",
       "      <td>19q13.33</td>\n",
       "    </tr>\n",
       "    <tr>\n",
       "      <th>1</th>\n",
       "      <td>TRIM28</td>\n",
       "      <td>2.967235</td>\n",
       "      <td>19q13.43</td>\n",
       "    </tr>\n",
       "    <tr>\n",
       "      <th>2</th>\n",
       "      <td>TOMM40</td>\n",
       "      <td>2.941369</td>\n",
       "      <td>19q13.32</td>\n",
       "    </tr>\n",
       "    <tr>\n",
       "      <th>3</th>\n",
       "      <td>PKMYT1</td>\n",
       "      <td>2.810091</td>\n",
       "      <td>16p13.3</td>\n",
       "    </tr>\n",
       "    <tr>\n",
       "      <th>4</th>\n",
       "      <td>CDT1</td>\n",
       "      <td>2.776054</td>\n",
       "      <td>16q24.3</td>\n",
       "    </tr>\n",
       "  </tbody>\n",
       "</table>\n",
       "</div>"
      ],
      "text/plain": [
       "  gene_name       LV1 gene_band\n",
       "0     POLD1  2.989508  19q13.33\n",
       "1    TRIM28  2.967235  19q13.43\n",
       "2    TOMM40  2.941369  19q13.32\n",
       "3    PKMYT1  2.810091   16p13.3\n",
       "4      CDT1  2.776054   16q24.3"
      ]
     },
     "execution_count": 71,
     "metadata": {},
     "output_type": "execute_result"
    }
   ],
   "source": [
    "lv1.lv_genes.head()"
   ]
  },
  {
   "cell_type": "code",
   "execution_count": 74,
   "id": "7ea09c0e-d806-4041-9bee-ec27d0ed8d20",
   "metadata": {},
   "outputs": [
    {
     "data": {
      "text/html": [
       "<div>\n",
       "<style scoped>\n",
       "    .dataframe tbody tr th:only-of-type {\n",
       "        vertical-align: middle;\n",
       "    }\n",
       "\n",
       "    .dataframe tbody tr th {\n",
       "        vertical-align: top;\n",
       "    }\n",
       "\n",
       "    .dataframe thead th {\n",
       "        text-align: right;\n",
       "    }\n",
       "</style>\n",
       "<table border=\"1\" class=\"dataframe\">\n",
       "  <thead>\n",
       "    <tr style=\"text-align: right;\">\n",
       "      <th></th>\n",
       "      <th>gene_name</th>\n",
       "      <th>LV1</th>\n",
       "    </tr>\n",
       "    <tr>\n",
       "      <th>gene_band</th>\n",
       "      <th></th>\n",
       "      <th></th>\n",
       "    </tr>\n",
       "  </thead>\n",
       "  <tbody>\n",
       "    <tr>\n",
       "      <th>19p13.3</th>\n",
       "      <td>7</td>\n",
       "      <td>7</td>\n",
       "    </tr>\n",
       "    <tr>\n",
       "      <th>11q13.1</th>\n",
       "      <td>3</td>\n",
       "      <td>3</td>\n",
       "    </tr>\n",
       "    <tr>\n",
       "      <th>16p13.3</th>\n",
       "      <td>2</td>\n",
       "      <td>2</td>\n",
       "    </tr>\n",
       "    <tr>\n",
       "      <th>1p36.33</th>\n",
       "      <td>2</td>\n",
       "      <td>2</td>\n",
       "    </tr>\n",
       "    <tr>\n",
       "      <th>19q13.42</th>\n",
       "      <td>2</td>\n",
       "      <td>2</td>\n",
       "    </tr>\n",
       "    <tr>\n",
       "      <th>8q24.3</th>\n",
       "      <td>2</td>\n",
       "      <td>2</td>\n",
       "    </tr>\n",
       "    <tr>\n",
       "      <th>20q11.22</th>\n",
       "      <td>2</td>\n",
       "      <td>2</td>\n",
       "    </tr>\n",
       "    <tr>\n",
       "      <th>17p13.2</th>\n",
       "      <td>2</td>\n",
       "      <td>2</td>\n",
       "    </tr>\n",
       "  </tbody>\n",
       "</table>\n",
       "</div>"
      ],
      "text/plain": [
       "           gene_name  LV1\n",
       "gene_band                \n",
       "19p13.3            7    7\n",
       "11q13.1            3    3\n",
       "16p13.3            2    2\n",
       "1p36.33            2    2\n",
       "19q13.42           2    2\n",
       "8q24.3             2    2\n",
       "20q11.22           2    2\n",
       "17p13.2            2    2"
      ]
     },
     "metadata": {},
     "output_type": "display_data"
    }
   ],
   "source": [
    "_tmp = (\n",
    "    lv1.lv_genes.head(50)\n",
    "    .groupby(\"gene_band\")\n",
    "    .count()\n",
    "    .sort_values(\"gene_name\", ascending=False)\n",
    ")\n",
    "display(_tmp[_tmp[\"gene_name\"] > 1])"
   ]
  },
  {
   "cell_type": "markdown",
   "id": "6129673b-9947-4ce4-9206-d436bf6f0dee",
   "metadata": {},
   "source": [
    "Hm, this is not what I expected.\n",
    "\n",
    "Let's see the QQ plot of LV704."
   ]
  },
  {
   "cell_type": "markdown",
   "id": "2c7c75a0-6d73-49e1-ba2c-96a5ef8ec05c",
   "metadata": {},
   "source": [
    "# QQ-plot of LV704"
   ]
  },
  {
   "cell_type": "code",
   "execution_count": 76,
   "id": "98851604-884b-4735-a8e5-75dc9d595476",
   "metadata": {},
   "outputs": [],
   "source": [
    "# results = dfs[dfs[\"phenotype\"] == \"random.pheno100\"]  # .sample(n=100)\n",
    "results = dfs[dfs[\"lv\"] == \"LV704\"]  # .sample(n=100)"
   ]
  },
  {
   "cell_type": "code",
   "execution_count": 77,
   "id": "6e17aacc-dbe4-47ae-bd58-473eaf2748bc",
   "metadata": {},
   "outputs": [
    {
     "data": {
      "text/plain": [
       "(400, 4)"
      ]
     },
     "execution_count": 77,
     "metadata": {},
     "output_type": "execute_result"
    }
   ],
   "source": [
    "results.shape"
   ]
  },
  {
   "cell_type": "code",
   "execution_count": 78,
   "id": "253733b9-0b2a-44d0-84c0-aaacaaffabd7",
   "metadata": {},
   "outputs": [
    {
     "data": {
      "text/html": [
       "<div>\n",
       "<style scoped>\n",
       "    .dataframe tbody tr th:only-of-type {\n",
       "        vertical-align: middle;\n",
       "    }\n",
       "\n",
       "    .dataframe tbody tr th {\n",
       "        vertical-align: top;\n",
       "    }\n",
       "\n",
       "    .dataframe thead th {\n",
       "        text-align: right;\n",
       "    }\n",
       "</style>\n",
       "<table border=\"1\" class=\"dataframe\">\n",
       "  <thead>\n",
       "    <tr style=\"text-align: right;\">\n",
       "      <th></th>\n",
       "      <th>lv</th>\n",
       "      <th>coef</th>\n",
       "      <th>pvalue</th>\n",
       "      <th>phenotype</th>\n",
       "    </tr>\n",
       "  </thead>\n",
       "  <tbody>\n",
       "    <tr>\n",
       "      <th>672</th>\n",
       "      <td>LV704</td>\n",
       "      <td>-0.011607</td>\n",
       "      <td>0.953018</td>\n",
       "      <td>random.pheno86</td>\n",
       "    </tr>\n",
       "    <tr>\n",
       "      <th>1659</th>\n",
       "      <td>LV704</td>\n",
       "      <td>0.023877</td>\n",
       "      <td>0.000289</td>\n",
       "      <td>random.pheno210</td>\n",
       "    </tr>\n",
       "    <tr>\n",
       "      <th>2646</th>\n",
       "      <td>LV704</td>\n",
       "      <td>0.010405</td>\n",
       "      <td>0.065512</td>\n",
       "      <td>random.pheno357</td>\n",
       "    </tr>\n",
       "    <tr>\n",
       "      <th>3633</th>\n",
       "      <td>LV704</td>\n",
       "      <td>-0.007327</td>\n",
       "      <td>0.853785</td>\n",
       "      <td>random.pheno53</td>\n",
       "    </tr>\n",
       "    <tr>\n",
       "      <th>4620</th>\n",
       "      <td>LV704</td>\n",
       "      <td>-0.029620</td>\n",
       "      <td>0.999991</td>\n",
       "      <td>random.pheno215</td>\n",
       "    </tr>\n",
       "  </tbody>\n",
       "</table>\n",
       "</div>"
      ],
      "text/plain": [
       "         lv      coef    pvalue        phenotype\n",
       "672   LV704 -0.011607  0.953018   random.pheno86\n",
       "1659  LV704  0.023877  0.000289  random.pheno210\n",
       "2646  LV704  0.010405  0.065512  random.pheno357\n",
       "3633  LV704 -0.007327  0.853785   random.pheno53\n",
       "4620  LV704 -0.029620  0.999991  random.pheno215"
      ]
     },
     "execution_count": 78,
     "metadata": {},
     "output_type": "execute_result"
    }
   ],
   "source": [
    "results.head()"
   ]
  },
  {
   "cell_type": "markdown",
   "id": "eb069e48",
   "metadata": {},
   "source": [
    "## Proportion pvalue < 0.05"
   ]
  },
  {
   "cell_type": "code",
   "execution_count": 79,
   "id": "8c43b455",
   "metadata": {},
   "outputs": [
    {
     "data": {
      "text/plain": [
       "0.225"
      ]
     },
     "execution_count": 79,
     "metadata": {},
     "output_type": "execute_result"
    }
   ],
   "source": [
    "show_prop(results, 0.01)"
   ]
  },
  {
   "cell_type": "code",
   "execution_count": 80,
   "id": "9067a4b8",
   "metadata": {},
   "outputs": [
    {
     "data": {
      "text/plain": [
       "0.285"
      ]
     },
     "execution_count": 80,
     "metadata": {},
     "output_type": "execute_result"
    }
   ],
   "source": [
    "show_prop(results, 0.05)"
   ]
  },
  {
   "cell_type": "code",
   "execution_count": 81,
   "id": "d9f016fc",
   "metadata": {},
   "outputs": [
    {
     "data": {
      "text/plain": [
       "0.33"
      ]
     },
     "execution_count": 81,
     "metadata": {},
     "output_type": "execute_result"
    }
   ],
   "source": [
    "show_prop(results, 0.10)"
   ]
  },
  {
   "cell_type": "code",
   "execution_count": 82,
   "id": "e9ac0311",
   "metadata": {},
   "outputs": [
    {
     "data": {
      "text/plain": [
       "0.345"
      ]
     },
     "execution_count": 82,
     "metadata": {},
     "output_type": "execute_result"
    }
   ],
   "source": [
    "show_prop(results, 0.15)"
   ]
  },
  {
   "cell_type": "code",
   "execution_count": 83,
   "id": "8cb9a368",
   "metadata": {},
   "outputs": [
    {
     "data": {
      "text/plain": [
       "0.3725"
      ]
     },
     "execution_count": 83,
     "metadata": {},
     "output_type": "execute_result"
    }
   ],
   "source": [
    "show_prop(results, 0.20)"
   ]
  },
  {
   "cell_type": "markdown",
   "id": "52a1c12a",
   "metadata": {},
   "source": [
    "## Plot"
   ]
  },
  {
   "cell_type": "code",
   "execution_count": 84,
   "id": "6d576fe4",
   "metadata": {
    "papermill": {
     "duration": 0.016445,
     "end_time": "2022-02-24T05:32:04.933024",
     "exception": false,
     "start_time": "2022-02-24T05:32:04.916579",
     "status": "completed"
    },
    "tags": []
   },
   "outputs": [],
   "source": [
    "data = results[\"pvalue\"].to_numpy()\n",
    "n = data.shape[0]\n",
    "uniform_data = np.array([i / (n + 1) for i in range(1, n + 1)])"
   ]
  },
  {
   "cell_type": "code",
   "execution_count": 85,
   "id": "e6662b13",
   "metadata": {
    "papermill": {
     "duration": 0.018047,
     "end_time": "2022-02-24T05:32:04.962092",
     "exception": false,
     "start_time": "2022-02-24T05:32:04.944045",
     "status": "completed"
    },
    "tags": []
   },
   "outputs": [
    {
     "data": {
      "text/plain": [
       "array([9.53017785e-01, 2.88909527e-04, 6.55117391e-02, 8.53784584e-01,\n",
       "       9.99990502e-01])"
      ]
     },
     "metadata": {},
     "output_type": "display_data"
    },
    {
     "data": {
      "text/plain": [
       "array([0.00249377, 0.00498753, 0.0074813 , 0.00997506, 0.01246883])"
      ]
     },
     "metadata": {},
     "output_type": "display_data"
    }
   ],
   "source": [
    "display(data[:5])\n",
    "display(uniform_data[:5])"
   ]
  },
  {
   "cell_type": "code",
   "execution_count": 86,
   "id": "3348179d",
   "metadata": {
    "papermill": {
     "duration": 0.142909,
     "end_time": "2022-02-24T05:32:05.117221",
     "exception": false,
     "start_time": "2022-02-24T05:32:04.974312",
     "status": "completed"
    },
    "tags": []
   },
   "outputs": [
    {
     "data": {
      "image/png": "[encoded data removed]",
      "text/plain": [
       "<Figure size 576x576 with 1 Axes>"
      ]
     },
     "metadata": {
      "needs_background": "light"
     },
     "output_type": "display_data"
    }
   ],
   "source": [
    "observed_data = -np.log10(data)\n",
    "expected_data = -np.log10(uniform_data)\n",
    "\n",
    "with sns.plotting_context(\"paper\", font_scale=1.8), mpl.rc_context(\n",
    "    {\"lines.markersize\": 3}\n",
    "):\n",
    "    fig, ax = plt.subplots(figsize=(8, 8))\n",
    "\n",
    "    fig = qqplot_2samples(expected_data, observed_data, line=\"45\", ax=ax)\n",
    "\n",
    "    ax.set_xlim(expected_data.min() - 0.05, expected_data.max() + 0.05)\n",
    "\n",
    "    ax.set_xlabel(\"$-\\log_{10}$(expected pvalue)\")\n",
    "    ax.set_ylabel(\"$-\\log_{10}$(observed pvalue)\")\n",
    "    ax.set_title(\"QQ-Plot - Null with MASHR models\")"
   ]
  },
  {
   "cell_type": "code",
   "execution_count": 308,
   "id": "e5935185",
   "metadata": {},
   "outputs": [
    {
     "data": {
      "text/html": [
       "<div>\n",
       "<style scoped>\n",
       "    .dataframe tbody tr th:only-of-type {\n",
       "        vertical-align: middle;\n",
       "    }\n",
       "\n",
       "    .dataframe tbody tr th {\n",
       "        vertical-align: top;\n",
       "    }\n",
       "\n",
       "    .dataframe thead th {\n",
       "        text-align: right;\n",
       "    }\n",
       "</style>\n",
       "<table border=\"1\" class=\"dataframe\">\n",
       "  <thead>\n",
       "    <tr style=\"text-align: right;\">\n",
       "      <th></th>\n",
       "      <th>lv</th>\n",
       "      <th>coef</th>\n",
       "      <th>pvalue</th>\n",
       "      <th>phenotype</th>\n",
       "    </tr>\n",
       "  </thead>\n",
       "  <tbody>\n",
       "    <tr>\n",
       "      <th>212877</th>\n",
       "      <td>LV704</td>\n",
       "      <td>0.074528</td>\n",
       "      <td>1.660890e-26</td>\n",
       "      <td>random.pheno255</td>\n",
       "    </tr>\n",
       "    <tr>\n",
       "      <th>159579</th>\n",
       "      <td>LV704</td>\n",
       "      <td>0.069029</td>\n",
       "      <td>5.124918e-23</td>\n",
       "      <td>random.pheno67</td>\n",
       "    </tr>\n",
       "    <tr>\n",
       "      <th>51009</th>\n",
       "      <td>LV704</td>\n",
       "      <td>0.063678</td>\n",
       "      <td>1.267764e-19</td>\n",
       "      <td>random.pheno359</td>\n",
       "    </tr>\n",
       "    <tr>\n",
       "      <th>139839</th>\n",
       "      <td>LV704</td>\n",
       "      <td>0.060420</td>\n",
       "      <td>3.962925e-18</td>\n",
       "      <td>random.pheno138</td>\n",
       "    </tr>\n",
       "    <tr>\n",
       "      <th>286902</th>\n",
       "      <td>LV704</td>\n",
       "      <td>0.057695</td>\n",
       "      <td>7.871688e-17</td>\n",
       "      <td>random.pheno276</td>\n",
       "    </tr>\n",
       "    <tr>\n",
       "      <th>35217</th>\n",
       "      <td>LV704</td>\n",
       "      <td>0.057301</td>\n",
       "      <td>1.100255e-16</td>\n",
       "      <td>random.pheno367</td>\n",
       "    </tr>\n",
       "    <tr>\n",
       "      <th>162540</th>\n",
       "      <td>LV704</td>\n",
       "      <td>0.054605</td>\n",
       "      <td>3.472202e-15</td>\n",
       "      <td>random.pheno307</td>\n",
       "    </tr>\n",
       "    <tr>\n",
       "      <th>118125</th>\n",
       "      <td>LV704</td>\n",
       "      <td>0.049593</td>\n",
       "      <td>4.748186e-13</td>\n",
       "      <td>random.pheno343</td>\n",
       "    </tr>\n",
       "    <tr>\n",
       "      <th>371784</th>\n",
       "      <td>LV704</td>\n",
       "      <td>0.047427</td>\n",
       "      <td>4.208621e-12</td>\n",
       "      <td>random.pheno97</td>\n",
       "    </tr>\n",
       "    <tr>\n",
       "      <th>87528</th>\n",
       "      <td>LV704</td>\n",
       "      <td>0.047151</td>\n",
       "      <td>7.768505e-12</td>\n",
       "      <td>random.pheno270</td>\n",
       "    </tr>\n",
       "    <tr>\n",
       "      <th>298746</th>\n",
       "      <td>LV704</td>\n",
       "      <td>0.044664</td>\n",
       "      <td>8.326762e-11</td>\n",
       "      <td>random.pheno66</td>\n",
       "    </tr>\n",
       "    <tr>\n",
       "      <th>71736</th>\n",
       "      <td>LV704</td>\n",
       "      <td>0.042867</td>\n",
       "      <td>3.901570e-10</td>\n",
       "      <td>random.pheno207</td>\n",
       "    </tr>\n",
       "    <tr>\n",
       "      <th>381654</th>\n",
       "      <td>LV704</td>\n",
       "      <td>0.042699</td>\n",
       "      <td>5.393621e-10</td>\n",
       "      <td>random.pheno26</td>\n",
       "    </tr>\n",
       "    <tr>\n",
       "      <th>89502</th>\n",
       "      <td>LV704</td>\n",
       "      <td>0.042964</td>\n",
       "      <td>7.191437e-10</td>\n",
       "      <td>random.pheno17</td>\n",
       "    </tr>\n",
       "    <tr>\n",
       "      <th>135891</th>\n",
       "      <td>LV704</td>\n",
       "      <td>0.041942</td>\n",
       "      <td>9.962828e-10</td>\n",
       "      <td>random.pheno231</td>\n",
       "    </tr>\n",
       "    <tr>\n",
       "      <th>297759</th>\n",
       "      <td>LV704</td>\n",
       "      <td>0.041568</td>\n",
       "      <td>1.215795e-09</td>\n",
       "      <td>random.pheno135</td>\n",
       "    </tr>\n",
       "    <tr>\n",
       "      <th>278019</th>\n",
       "      <td>LV704</td>\n",
       "      <td>0.040019</td>\n",
       "      <td>4.430229e-09</td>\n",
       "      <td>random.pheno262</td>\n",
       "    </tr>\n",
       "    <tr>\n",
       "      <th>264201</th>\n",
       "      <td>LV704</td>\n",
       "      <td>0.040297</td>\n",
       "      <td>4.767390e-09</td>\n",
       "      <td>random.pheno184</td>\n",
       "    </tr>\n",
       "    <tr>\n",
       "      <th>280980</th>\n",
       "      <td>LV704</td>\n",
       "      <td>0.039871</td>\n",
       "      <td>5.830877e-09</td>\n",
       "      <td>random.pheno196</td>\n",
       "    </tr>\n",
       "    <tr>\n",
       "      <th>263214</th>\n",
       "      <td>LV704</td>\n",
       "      <td>0.039267</td>\n",
       "      <td>8.420712e-09</td>\n",
       "      <td>random.pheno364</td>\n",
       "    </tr>\n",
       "    <tr>\n",
       "      <th>239526</th>\n",
       "      <td>LV704</td>\n",
       "      <td>0.039078</td>\n",
       "      <td>1.097193e-08</td>\n",
       "      <td>random.pheno33</td>\n",
       "    </tr>\n",
       "    <tr>\n",
       "      <th>383628</th>\n",
       "      <td>LV704</td>\n",
       "      <td>0.038743</td>\n",
       "      <td>1.266765e-08</td>\n",
       "      <td>random.pheno190</td>\n",
       "    </tr>\n",
       "    <tr>\n",
       "      <th>93450</th>\n",
       "      <td>LV704</td>\n",
       "      <td>0.038352</td>\n",
       "      <td>1.913754e-08</td>\n",
       "      <td>random.pheno11</td>\n",
       "    </tr>\n",
       "    <tr>\n",
       "      <th>305655</th>\n",
       "      <td>LV704</td>\n",
       "      <td>0.037803</td>\n",
       "      <td>2.300876e-08</td>\n",
       "      <td>random.pheno292</td>\n",
       "    </tr>\n",
       "    <tr>\n",
       "      <th>68775</th>\n",
       "      <td>LV704</td>\n",
       "      <td>0.037549</td>\n",
       "      <td>3.598638e-08</td>\n",
       "      <td>random.pheno349</td>\n",
       "    </tr>\n",
       "    <tr>\n",
       "      <th>174384</th>\n",
       "      <td>LV704</td>\n",
       "      <td>0.037654</td>\n",
       "      <td>4.286574e-08</td>\n",
       "      <td>random.pheno340</td>\n",
       "    </tr>\n",
       "    <tr>\n",
       "      <th>231630</th>\n",
       "      <td>LV704</td>\n",
       "      <td>0.036175</td>\n",
       "      <td>1.059897e-07</td>\n",
       "      <td>random.pheno230</td>\n",
       "    </tr>\n",
       "    <tr>\n",
       "      <th>318486</th>\n",
       "      <td>LV704</td>\n",
       "      <td>0.036192</td>\n",
       "      <td>1.364577e-07</td>\n",
       "      <td>random.pheno260</td>\n",
       "    </tr>\n",
       "    <tr>\n",
       "      <th>382641</th>\n",
       "      <td>LV704</td>\n",
       "      <td>0.034909</td>\n",
       "      <td>2.983480e-07</td>\n",
       "      <td>random.pheno127</td>\n",
       "    </tr>\n",
       "    <tr>\n",
       "      <th>131943</th>\n",
       "      <td>LV704</td>\n",
       "      <td>0.034214</td>\n",
       "      <td>4.003315e-07</td>\n",
       "      <td>random.pheno61</td>\n",
       "    </tr>\n",
       "    <tr>\n",
       "      <th>158592</th>\n",
       "      <td>LV704</td>\n",
       "      <td>0.032203</td>\n",
       "      <td>1.767111e-06</td>\n",
       "      <td>random.pheno295</td>\n",
       "    </tr>\n",
       "    <tr>\n",
       "      <th>31269</th>\n",
       "      <td>LV704</td>\n",
       "      <td>0.031377</td>\n",
       "      <td>2.772612e-06</td>\n",
       "      <td>random.pheno242</td>\n",
       "    </tr>\n",
       "    <tr>\n",
       "      <th>343161</th>\n",
       "      <td>LV704</td>\n",
       "      <td>0.030700</td>\n",
       "      <td>4.806050e-06</td>\n",
       "      <td>random.pheno287</td>\n",
       "    </tr>\n",
       "    <tr>\n",
       "      <th>104307</th>\n",
       "      <td>LV704</td>\n",
       "      <td>0.030231</td>\n",
       "      <td>6.409651e-06</td>\n",
       "      <td>random.pheno35</td>\n",
       "    </tr>\n",
       "    <tr>\n",
       "      <th>153657</th>\n",
       "      <td>LV704</td>\n",
       "      <td>0.030044</td>\n",
       "      <td>7.801544e-06</td>\n",
       "      <td>random.pheno397</td>\n",
       "    </tr>\n",
       "    <tr>\n",
       "      <th>100359</th>\n",
       "      <td>LV704</td>\n",
       "      <td>0.029795</td>\n",
       "      <td>8.920110e-06</td>\n",
       "      <td>random.pheno239</td>\n",
       "    </tr>\n",
       "    <tr>\n",
       "      <th>166488</th>\n",
       "      <td>LV704</td>\n",
       "      <td>0.029558</td>\n",
       "      <td>9.672972e-06</td>\n",
       "      <td>random.pheno365</td>\n",
       "    </tr>\n",
       "    <tr>\n",
       "      <th>142800</th>\n",
       "      <td>LV704</td>\n",
       "      <td>0.028455</td>\n",
       "      <td>2.468235e-05</td>\n",
       "      <td>random.pheno40</td>\n",
       "    </tr>\n",
       "    <tr>\n",
       "      <th>25347</th>\n",
       "      <td>LV704</td>\n",
       "      <td>0.027906</td>\n",
       "      <td>3.450794e-05</td>\n",
       "      <td>random.pheno83</td>\n",
       "    </tr>\n",
       "    <tr>\n",
       "      <th>273084</th>\n",
       "      <td>LV704</td>\n",
       "      <td>0.027393</td>\n",
       "      <td>3.464164e-05</td>\n",
       "      <td>random.pheno229</td>\n",
       "    </tr>\n",
       "    <tr>\n",
       "      <th>184254</th>\n",
       "      <td>LV704</td>\n",
       "      <td>0.027530</td>\n",
       "      <td>3.582475e-05</td>\n",
       "      <td>random.pheno94</td>\n",
       "    </tr>\n",
       "    <tr>\n",
       "      <th>365862</th>\n",
       "      <td>LV704</td>\n",
       "      <td>0.027368</td>\n",
       "      <td>3.834077e-05</td>\n",
       "      <td>random.pheno244</td>\n",
       "    </tr>\n",
       "    <tr>\n",
       "      <th>179319</th>\n",
       "      <td>LV704</td>\n",
       "      <td>0.027106</td>\n",
       "      <td>4.287957e-05</td>\n",
       "      <td>random.pheno6</td>\n",
       "    </tr>\n",
       "    <tr>\n",
       "      <th>269136</th>\n",
       "      <td>LV704</td>\n",
       "      <td>0.027093</td>\n",
       "      <td>4.441525e-05</td>\n",
       "      <td>random.pheno23</td>\n",
       "    </tr>\n",
       "    <tr>\n",
       "      <th>342174</th>\n",
       "      <td>LV704</td>\n",
       "      <td>0.026938</td>\n",
       "      <td>5.174907e-05</td>\n",
       "      <td>random.pheno18</td>\n",
       "    </tr>\n",
       "    <tr>\n",
       "      <th>221760</th>\n",
       "      <td>LV704</td>\n",
       "      <td>0.026788</td>\n",
       "      <td>5.628219e-05</td>\n",
       "      <td>random.pheno1</td>\n",
       "    </tr>\n",
       "    <tr>\n",
       "      <th>44100</th>\n",
       "      <td>LV704</td>\n",
       "      <td>0.026358</td>\n",
       "      <td>7.271088e-05</td>\n",
       "      <td>random.pheno360</td>\n",
       "    </tr>\n",
       "    <tr>\n",
       "      <th>121086</th>\n",
       "      <td>LV704</td>\n",
       "      <td>0.026511</td>\n",
       "      <td>7.525834e-05</td>\n",
       "      <td>random.pheno194</td>\n",
       "    </tr>\n",
       "    <tr>\n",
       "      <th>214851</th>\n",
       "      <td>LV704</td>\n",
       "      <td>0.026244</td>\n",
       "      <td>7.859078e-05</td>\n",
       "      <td>random.pheno189</td>\n",
       "    </tr>\n",
       "    <tr>\n",
       "      <th>258279</th>\n",
       "      <td>LV704</td>\n",
       "      <td>0.026094</td>\n",
       "      <td>8.621245e-05</td>\n",
       "      <td>random.pheno218</td>\n",
       "    </tr>\n",
       "  </tbody>\n",
       "</table>\n",
       "</div>"
      ],
      "text/plain": [
       "           lv      coef        pvalue        phenotype\n",
       "212877  LV704  0.074528  1.660890e-26  random.pheno255\n",
       "159579  LV704  0.069029  5.124918e-23   random.pheno67\n",
       "51009   LV704  0.063678  1.267764e-19  random.pheno359\n",
       "139839  LV704  0.060420  3.962925e-18  random.pheno138\n",
       "286902  LV704  0.057695  7.871688e-17  random.pheno276\n",
       "35217   LV704  0.057301  1.100255e-16  random.pheno367\n",
       "162540  LV704  0.054605  3.472202e-15  random.pheno307\n",
       "118125  LV704  0.049593  4.748186e-13  random.pheno343\n",
       "371784  LV704  0.047427  4.208621e-12   random.pheno97\n",
       "87528   LV704  0.047151  7.768505e-12  random.pheno270\n",
       "298746  LV704  0.044664  8.326762e-11   random.pheno66\n",
       "71736   LV704  0.042867  3.901570e-10  random.pheno207\n",
       "381654  LV704  0.042699  5.393621e-10   random.pheno26\n",
       "89502   LV704  0.042964  7.191437e-10   random.pheno17\n",
       "135891  LV704  0.041942  9.962828e-10  random.pheno231\n",
       "297759  LV704  0.041568  1.215795e-09  random.pheno135\n",
       "278019  LV704  0.040019  4.430229e-09  random.pheno262\n",
       "264201  LV704  0.040297  4.767390e-09  random.pheno184\n",
       "280980  LV704  0.039871  5.830877e-09  random.pheno196\n",
       "263214  LV704  0.039267  8.420712e-09  random.pheno364\n",
       "239526  LV704  0.039078  1.097193e-08   random.pheno33\n",
       "383628  LV704  0.038743  1.266765e-08  random.pheno190\n",
       "93450   LV704  0.038352  1.913754e-08   random.pheno11\n",
       "305655  LV704  0.037803  2.300876e-08  random.pheno292\n",
       "68775   LV704  0.037549  3.598638e-08  random.pheno349\n",
       "174384  LV704  0.037654  4.286574e-08  random.pheno340\n",
       "231630  LV704  0.036175  1.059897e-07  random.pheno230\n",
       "318486  LV704  0.036192  1.364577e-07  random.pheno260\n",
       "382641  LV704  0.034909  2.983480e-07  random.pheno127\n",
       "131943  LV704  0.034214  4.003315e-07   random.pheno61\n",
       "158592  LV704  0.032203  1.767111e-06  random.pheno295\n",
       "31269   LV704  0.031377  2.772612e-06  random.pheno242\n",
       "343161  LV704  0.030700  4.806050e-06  random.pheno287\n",
       "104307  LV704  0.030231  6.409651e-06   random.pheno35\n",
       "153657  LV704  0.030044  7.801544e-06  random.pheno397\n",
       "100359  LV704  0.029795  8.920110e-06  random.pheno239\n",
       "166488  LV704  0.029558  9.672972e-06  random.pheno365\n",
       "142800  LV704  0.028455  2.468235e-05   random.pheno40\n",
       "25347   LV704  0.027906  3.450794e-05   random.pheno83\n",
       "273084  LV704  0.027393  3.464164e-05  random.pheno229\n",
       "184254  LV704  0.027530  3.582475e-05   random.pheno94\n",
       "365862  LV704  0.027368  3.834077e-05  random.pheno244\n",
       "179319  LV704  0.027106  4.287957e-05    random.pheno6\n",
       "269136  LV704  0.027093  4.441525e-05   random.pheno23\n",
       "342174  LV704  0.026938  5.174907e-05   random.pheno18\n",
       "221760  LV704  0.026788  5.628219e-05    random.pheno1\n",
       "44100   LV704  0.026358  7.271088e-05  random.pheno360\n",
       "121086  LV704  0.026511  7.525834e-05  random.pheno194\n",
       "214851  LV704  0.026244  7.859078e-05  random.pheno189\n",
       "258279  LV704  0.026094  8.621245e-05  random.pheno218"
      ]
     },
     "execution_count": 308,
     "metadata": {},
     "output_type": "execute_result"
    }
   ],
   "source": [
    "results.sort_values(\"pvalue\").head(50)"
   ]
  },
  {
   "cell_type": "markdown",
   "id": "8f016699-1559-4613-9017-9ec9314b2809",
   "metadata": {},
   "source": [
    "# Load gene correlations"
   ]
  },
  {
   "cell_type": "code",
   "execution_count": 284,
   "id": "98258235-bc0a-41dd-bd3b-21ab0b00f112",
   "metadata": {},
   "outputs": [],
   "source": [
    "def get_upper_triag(similarity_matrix: pd.DataFrame, k: int = 1):\n",
    "    \"\"\"\n",
    "    It returns the upper triangular matrix of a dataframe representing a\n",
    "    similarity matrix between n elements.\n",
    "    Args:\n",
    "        similarity_matrix: a squared dataframe with a pairwise similarity\n",
    "          matrix. That means the matrix is equal to its transposed version.\n",
    "        k: argument given to numpy.triu function. It indicates the that the\n",
    "          elements of the k-th diagonal to be zeroed.\n",
    "    Returns:\n",
    "        A dataframe with non-selected elements as NaNs.\n",
    "    \"\"\"\n",
    "    mask = np.triu(np.ones(similarity_matrix.shape), k=k).astype(bool)\n",
    "    return similarity_matrix.where(mask)"
   ]
  },
  {
   "cell_type": "code",
   "execution_count": 285,
   "id": "d4ba9b4f-59ea-4c76-b25c-b981c292e307",
   "metadata": {},
   "outputs": [
    {
     "data": {
      "text/plain": [
       "PosixPath('/opt/data/data/tmp/gene_corrs')"
      ]
     },
     "metadata": {},
     "output_type": "display_data"
    }
   ],
   "source": [
    "OUT_GENE_CORRS_DIR = Path(conf.DATA_DIR, \"tmp\", \"gene_corrs\").resolve()\n",
    "display(OUT_GENE_CORRS_DIR)\n",
    "OUT_GENE_CORRS_DIR.mkdir(exist_ok=True, parents=True)"
   ]
  },
  {
   "cell_type": "code",
   "execution_count": 286,
   "id": "816cac84-d9ce-4b64-8915-ee21ce8d3121",
   "metadata": {},
   "outputs": [],
   "source": [
    "gene_corrs_file = (\n",
    "    conf.PHENOMEXCAN[\"LD_BLOCKS\"][\"GENE_CORRS_DIR\"]\n",
    "    / \"gtex_v8/mashr/multiplier_genes-pred_expression_corr_avg-mean-gene_symbols.pkl\"\n",
    ")"
   ]
  },
  {
   "cell_type": "code",
   "execution_count": 287,
   "id": "d36c6a9e-7e72-4446-bb9e-0bae2d98706c",
   "metadata": {},
   "outputs": [],
   "source": [
    "gene_corrs = pd.read_pickle(gene_corrs_file)"
   ]
  },
  {
   "cell_type": "code",
   "execution_count": 288,
   "id": "5d3ad33a-31ba-479c-9d5a-4931627aff0b",
   "metadata": {},
   "outputs": [
    {
     "data": {
      "text/plain": [
       "(6452, 6452)"
      ]
     },
     "execution_count": 288,
     "metadata": {},
     "output_type": "execute_result"
    }
   ],
   "source": [
    "gene_corrs.shape"
   ]
  },
  {
   "cell_type": "code",
   "execution_count": 289,
   "id": "80a15489-b0d1-4b95-800f-19f507095c74",
   "metadata": {},
   "outputs": [
    {
     "data": {
      "text/html": [
       "<div>\n",
       "<style scoped>\n",
       "    .dataframe tbody tr th:only-of-type {\n",
       "        vertical-align: middle;\n",
       "    }\n",
       "\n",
       "    .dataframe tbody tr th {\n",
       "        vertical-align: top;\n",
       "    }\n",
       "\n",
       "    .dataframe thead th {\n",
       "        text-align: right;\n",
       "    }\n",
       "</style>\n",
       "<table border=\"1\" class=\"dataframe\">\n",
       "  <thead>\n",
       "    <tr style=\"text-align: right;\">\n",
       "      <th>id</th>\n",
       "      <th>GAS6</th>\n",
       "      <th>MMP14</th>\n",
       "      <th>DSP</th>\n",
       "      <th>MARCKSL1</th>\n",
       "      <th>SPARC</th>\n",
       "      <th>CTSD</th>\n",
       "      <th>EPAS1</th>\n",
       "      <th>PALLD</th>\n",
       "      <th>PHC2</th>\n",
       "      <th>LGALS3BP</th>\n",
       "      <th>...</th>\n",
       "      <th>LDHB</th>\n",
       "      <th>LDHC</th>\n",
       "      <th>ACAP2</th>\n",
       "      <th>ACAP3</th>\n",
       "      <th>CFL2</th>\n",
       "      <th>CFL1</th>\n",
       "      <th>NFIB</th>\n",
       "      <th>PLEKHG6</th>\n",
       "      <th>GNGT2</th>\n",
       "      <th>SERPINH1</th>\n",
       "    </tr>\n",
       "    <tr>\n",
       "      <th>id</th>\n",
       "      <th></th>\n",
       "      <th></th>\n",
       "      <th></th>\n",
       "      <th></th>\n",
       "      <th></th>\n",
       "      <th></th>\n",
       "      <th></th>\n",
       "      <th></th>\n",
       "      <th></th>\n",
       "      <th></th>\n",
       "      <th></th>\n",
       "      <th></th>\n",
       "      <th></th>\n",
       "      <th></th>\n",
       "      <th></th>\n",
       "      <th></th>\n",
       "      <th></th>\n",
       "      <th></th>\n",
       "      <th></th>\n",
       "      <th></th>\n",
       "      <th></th>\n",
       "    </tr>\n",
       "  </thead>\n",
       "  <tbody>\n",
       "    <tr>\n",
       "      <th>GAS6</th>\n",
       "      <td>1.0</td>\n",
       "      <td>0.0</td>\n",
       "      <td>0.0</td>\n",
       "      <td>0.0</td>\n",
       "      <td>0.0</td>\n",
       "      <td>0.0</td>\n",
       "      <td>0.0</td>\n",
       "      <td>0.0</td>\n",
       "      <td>0.000000</td>\n",
       "      <td>0.0</td>\n",
       "      <td>...</td>\n",
       "      <td>0.0</td>\n",
       "      <td>0.0</td>\n",
       "      <td>0.0</td>\n",
       "      <td>0.000000</td>\n",
       "      <td>0.000000</td>\n",
       "      <td>0.0</td>\n",
       "      <td>0.0</td>\n",
       "      <td>0.0</td>\n",
       "      <td>0.0</td>\n",
       "      <td>0.0</td>\n",
       "    </tr>\n",
       "    <tr>\n",
       "      <th>MMP14</th>\n",
       "      <td>0.0</td>\n",
       "      <td>1.0</td>\n",
       "      <td>0.0</td>\n",
       "      <td>0.0</td>\n",
       "      <td>0.0</td>\n",
       "      <td>0.0</td>\n",
       "      <td>0.0</td>\n",
       "      <td>0.0</td>\n",
       "      <td>0.000000</td>\n",
       "      <td>0.0</td>\n",
       "      <td>...</td>\n",
       "      <td>0.0</td>\n",
       "      <td>0.0</td>\n",
       "      <td>0.0</td>\n",
       "      <td>0.000000</td>\n",
       "      <td>0.002833</td>\n",
       "      <td>0.0</td>\n",
       "      <td>0.0</td>\n",
       "      <td>0.0</td>\n",
       "      <td>0.0</td>\n",
       "      <td>0.0</td>\n",
       "    </tr>\n",
       "    <tr>\n",
       "      <th>DSP</th>\n",
       "      <td>0.0</td>\n",
       "      <td>0.0</td>\n",
       "      <td>1.0</td>\n",
       "      <td>0.0</td>\n",
       "      <td>0.0</td>\n",
       "      <td>0.0</td>\n",
       "      <td>0.0</td>\n",
       "      <td>0.0</td>\n",
       "      <td>0.000000</td>\n",
       "      <td>0.0</td>\n",
       "      <td>...</td>\n",
       "      <td>0.0</td>\n",
       "      <td>0.0</td>\n",
       "      <td>0.0</td>\n",
       "      <td>0.000000</td>\n",
       "      <td>0.000000</td>\n",
       "      <td>0.0</td>\n",
       "      <td>0.0</td>\n",
       "      <td>0.0</td>\n",
       "      <td>0.0</td>\n",
       "      <td>0.0</td>\n",
       "    </tr>\n",
       "    <tr>\n",
       "      <th>MARCKSL1</th>\n",
       "      <td>0.0</td>\n",
       "      <td>0.0</td>\n",
       "      <td>0.0</td>\n",
       "      <td>1.0</td>\n",
       "      <td>0.0</td>\n",
       "      <td>0.0</td>\n",
       "      <td>0.0</td>\n",
       "      <td>0.0</td>\n",
       "      <td>-0.003401</td>\n",
       "      <td>0.0</td>\n",
       "      <td>...</td>\n",
       "      <td>0.0</td>\n",
       "      <td>0.0</td>\n",
       "      <td>0.0</td>\n",
       "      <td>0.002546</td>\n",
       "      <td>0.000000</td>\n",
       "      <td>0.0</td>\n",
       "      <td>0.0</td>\n",
       "      <td>0.0</td>\n",
       "      <td>0.0</td>\n",
       "      <td>0.0</td>\n",
       "    </tr>\n",
       "    <tr>\n",
       "      <th>SPARC</th>\n",
       "      <td>0.0</td>\n",
       "      <td>0.0</td>\n",
       "      <td>0.0</td>\n",
       "      <td>0.0</td>\n",
       "      <td>1.0</td>\n",
       "      <td>0.0</td>\n",
       "      <td>0.0</td>\n",
       "      <td>0.0</td>\n",
       "      <td>0.000000</td>\n",
       "      <td>0.0</td>\n",
       "      <td>...</td>\n",
       "      <td>0.0</td>\n",
       "      <td>0.0</td>\n",
       "      <td>0.0</td>\n",
       "      <td>0.000000</td>\n",
       "      <td>0.000000</td>\n",
       "      <td>0.0</td>\n",
       "      <td>0.0</td>\n",
       "      <td>0.0</td>\n",
       "      <td>0.0</td>\n",
       "      <td>0.0</td>\n",
       "    </tr>\n",
       "  </tbody>\n",
       "</table>\n",
       "<p>5 rows × 6452 columns</p>\n",
       "</div>"
      ],
      "text/plain": [
       "id        GAS6  MMP14  DSP  MARCKSL1  SPARC  CTSD  EPAS1  PALLD      PHC2  \\\n",
       "id                                                                          \n",
       "GAS6       1.0    0.0  0.0       0.0    0.0   0.0    0.0    0.0  0.000000   \n",
       "MMP14      0.0    1.0  0.0       0.0    0.0   0.0    0.0    0.0  0.000000   \n",
       "DSP        0.0    0.0  1.0       0.0    0.0   0.0    0.0    0.0  0.000000   \n",
       "MARCKSL1   0.0    0.0  0.0       1.0    0.0   0.0    0.0    0.0 -0.003401   \n",
       "SPARC      0.0    0.0  0.0       0.0    1.0   0.0    0.0    0.0  0.000000   \n",
       "\n",
       "id        LGALS3BP  ...  LDHB  LDHC  ACAP2     ACAP3      CFL2  CFL1  NFIB  \\\n",
       "id                  ...                                                      \n",
       "GAS6           0.0  ...   0.0   0.0    0.0  0.000000  0.000000   0.0   0.0   \n",
       "MMP14          0.0  ...   0.0   0.0    0.0  0.000000  0.002833   0.0   0.0   \n",
       "DSP            0.0  ...   0.0   0.0    0.0  0.000000  0.000000   0.0   0.0   \n",
       "MARCKSL1       0.0  ...   0.0   0.0    0.0  0.002546  0.000000   0.0   0.0   \n",
       "SPARC          0.0  ...   0.0   0.0    0.0  0.000000  0.000000   0.0   0.0   \n",
       "\n",
       "id        PLEKHG6  GNGT2  SERPINH1  \n",
       "id                                  \n",
       "GAS6          0.0    0.0       0.0  \n",
       "MMP14         0.0    0.0       0.0  \n",
       "DSP           0.0    0.0       0.0  \n",
       "MARCKSL1      0.0    0.0       0.0  \n",
       "SPARC         0.0    0.0       0.0  \n",
       "\n",
       "[5 rows x 6452 columns]"
      ]
     },
     "execution_count": 289,
     "metadata": {},
     "output_type": "execute_result"
    }
   ],
   "source": [
    "gene_corrs.head()"
   ]
  },
  {
   "cell_type": "code",
   "execution_count": 290,
   "id": "65d0f808-8cd5-44f8-b4e5-e0f8875edf16",
   "metadata": {},
   "outputs": [
    {
     "data": {
      "text/plain": [
       "count                20810926.0\n",
       "mean     1.3497273130269605e-06\n",
       "std        0.004250836092978716\n",
       "min         -0.9172987341880798\n",
       "25%                         0.0\n",
       "50%                         0.0\n",
       "75%                         0.0\n",
       "max          0.8924158811569214\n",
       "dtype: object"
      ]
     },
     "execution_count": 290,
     "metadata": {},
     "output_type": "execute_result"
    }
   ],
   "source": [
    "get_upper_triag(gene_corrs).unstack().dropna().describe().apply(str)"
   ]
  },
  {
   "cell_type": "markdown",
   "id": "764aa01c-07f5-459e-be76-698d1f6cc58c",
   "metadata": {},
   "source": [
    "## Create positive only"
   ]
  },
  {
   "cell_type": "code",
   "execution_count": 291,
   "id": "ae59dde7-4c58-4b74-855b-84c5625fcc83",
   "metadata": {},
   "outputs": [],
   "source": [
    "gene_corrs_positive_only = OUT_GENE_CORRS_DIR / \"gene_corrs-positive_only.pkl\""
   ]
  },
  {
   "cell_type": "code",
   "execution_count": 292,
   "id": "95f2517d-1dc1-40d4-822c-5a30bfe47039",
   "metadata": {},
   "outputs": [
    {
     "data": {
      "text/plain": [
       "-0.91729873"
      ]
     },
     "execution_count": 292,
     "metadata": {},
     "output_type": "execute_result"
    }
   ],
   "source": [
    "gene_corrs.min().min()"
   ]
  },
  {
   "cell_type": "code",
   "execution_count": 293,
   "id": "7b7fcf10-a322-4877-afc6-74c64561bc00",
   "metadata": {},
   "outputs": [],
   "source": [
    "_tmp = gene_corrs.copy()\n",
    "_tmp[_tmp < 0] = 0.0"
   ]
  },
  {
   "cell_type": "code",
   "execution_count": 295,
   "id": "d5ac5822-8a61-4359-a915-1ae4968596e8",
   "metadata": {},
   "outputs": [
    {
     "data": {
      "text/plain": [
       "count               20810926.0\n",
       "mean     0.0002564224705565721\n",
       "std       0.003004679922014475\n",
       "min                        0.0\n",
       "25%                        0.0\n",
       "50%                        0.0\n",
       "75%                        0.0\n",
       "max         0.8924158811569214\n",
       "dtype: object"
      ]
     },
     "execution_count": 295,
     "metadata": {},
     "output_type": "execute_result"
    }
   ],
   "source": [
    "get_upper_triag(_tmp).unstack().dropna().describe().apply(str)"
   ]
  },
  {
   "cell_type": "code",
   "execution_count": 296,
   "id": "65e4af4b-5e89-466a-af61-7a5a4564264d",
   "metadata": {},
   "outputs": [],
   "source": [
    "_tmp.to_pickle(gene_corrs_positive_only)"
   ]
  },
  {
   "cell_type": "markdown",
   "id": "303dc593-aa98-41b3-896a-c6c9a7d92ff2",
   "metadata": {},
   "source": [
    "## Create r**2 matrix"
   ]
  },
  {
   "cell_type": "code",
   "execution_count": 297,
   "id": "4b04b76d-81d9-41c1-8bac-82a5d1f3d35d",
   "metadata": {},
   "outputs": [],
   "source": [
    "gene_corrs_r2 = OUT_GENE_CORRS_DIR / \"gene_corrs-r2.pkl\""
   ]
  },
  {
   "cell_type": "code",
   "execution_count": 298,
   "id": "82d5616d-1b14-4632-9f2c-7e40509f054b",
   "metadata": {},
   "outputs": [
    {
     "data": {
      "text/plain": [
       "-0.91729873"
      ]
     },
     "execution_count": 298,
     "metadata": {},
     "output_type": "execute_result"
    }
   ],
   "source": [
    "gene_corrs.min().min()"
   ]
  },
  {
   "cell_type": "code",
   "execution_count": 299,
   "id": "8f5fc036-a44b-4c44-b2fa-00571d69ff90",
   "metadata": {},
   "outputs": [],
   "source": [
    "_tmp = np.power(gene_corrs.copy(), 2)"
   ]
  },
  {
   "cell_type": "code",
   "execution_count": 300,
   "id": "1d8a4eee-9b6c-4b6d-bdcc-c9ba1e1f352f",
   "metadata": {},
   "outputs": [
    {
     "data": {
      "text/plain": [
       "0.0"
      ]
     },
     "execution_count": 300,
     "metadata": {},
     "output_type": "execute_result"
    }
   ],
   "source": [
    "_tmp.min().min()"
   ]
  },
  {
   "cell_type": "code",
   "execution_count": 301,
   "id": "3d20e7bc-1c26-461c-9ba2-65651b674311",
   "metadata": {},
   "outputs": [
    {
     "data": {
      "text/plain": [
       "count               20810926.0\n",
       "mean     1.806960062822327e-05\n",
       "std       0.001293065375648439\n",
       "min                        0.0\n",
       "25%                        0.0\n",
       "50%                        0.0\n",
       "75%                        0.0\n",
       "max         0.8414369821548462\n",
       "dtype: object"
      ]
     },
     "execution_count": 301,
     "metadata": {},
     "output_type": "execute_result"
    }
   ],
   "source": [
    "get_upper_triag(_tmp).unstack().dropna().describe().apply(str)"
   ]
  },
  {
   "cell_type": "code",
   "execution_count": 302,
   "id": "b55861bd-32bf-4a50-9c4c-ad2d4296cdcb",
   "metadata": {},
   "outputs": [],
   "source": [
    "_tmp.to_pickle(gene_corrs_r2)"
   ]
  },
  {
   "cell_type": "markdown",
   "id": "063f5809-7bb2-42ff-a2b3-94ba799c258b",
   "metadata": {},
   "source": [
    "## Create default gene correlations matrix"
   ]
  },
  {
   "cell_type": "code",
   "execution_count": 303,
   "id": "29889bc9-9392-4cff-987d-30372535c53a",
   "metadata": {},
   "outputs": [],
   "source": [
    "default_gene_corrs_file = OUT_GENE_CORRS_DIR / \"gene_corrs-default_identity_matrix.pkl\""
   ]
  },
  {
   "cell_type": "code",
   "execution_count": 304,
   "id": "fa15a1f2-8964-408e-a796-9590e2da211e",
   "metadata": {},
   "outputs": [],
   "source": [
    "gene_corrs_default = pd.DataFrame(\n",
    "    data=np.identity(gene_corrs.shape[0]),\n",
    "    index=gene_corrs.index.copy(),\n",
    "    columns=gene_corrs.columns.copy(),\n",
    ")"
   ]
  },
  {
   "cell_type": "code",
   "execution_count": 305,
   "id": "37beb359-c251-49b0-82ed-86bb158abb11",
   "metadata": {},
   "outputs": [
    {
     "data": {
      "text/plain": [
       "(6452, 6452)"
      ]
     },
     "execution_count": 305,
     "metadata": {},
     "output_type": "execute_result"
    }
   ],
   "source": [
    "gene_corrs_default.shape"
   ]
  },
  {
   "cell_type": "code",
   "execution_count": 306,
   "id": "6cf51698-aafe-4586-8fe1-630987d0fa8e",
   "metadata": {},
   "outputs": [
    {
     "data": {
      "text/html": [
       "<div>\n",
       "<style scoped>\n",
       "    .dataframe tbody tr th:only-of-type {\n",
       "        vertical-align: middle;\n",
       "    }\n",
       "\n",
       "    .dataframe tbody tr th {\n",
       "        vertical-align: top;\n",
       "    }\n",
       "\n",
       "    .dataframe thead th {\n",
       "        text-align: right;\n",
       "    }\n",
       "</style>\n",
       "<table border=\"1\" class=\"dataframe\">\n",
       "  <thead>\n",
       "    <tr style=\"text-align: right;\">\n",
       "      <th>id</th>\n",
       "      <th>GAS6</th>\n",
       "      <th>MMP14</th>\n",
       "      <th>DSP</th>\n",
       "      <th>MARCKSL1</th>\n",
       "      <th>SPARC</th>\n",
       "      <th>CTSD</th>\n",
       "      <th>EPAS1</th>\n",
       "      <th>PALLD</th>\n",
       "      <th>PHC2</th>\n",
       "      <th>LGALS3BP</th>\n",
       "      <th>...</th>\n",
       "      <th>LDHB</th>\n",
       "      <th>LDHC</th>\n",
       "      <th>ACAP2</th>\n",
       "      <th>ACAP3</th>\n",
       "      <th>CFL2</th>\n",
       "      <th>CFL1</th>\n",
       "      <th>NFIB</th>\n",
       "      <th>PLEKHG6</th>\n",
       "      <th>GNGT2</th>\n",
       "      <th>SERPINH1</th>\n",
       "    </tr>\n",
       "    <tr>\n",
       "      <th>id</th>\n",
       "      <th></th>\n",
       "      <th></th>\n",
       "      <th></th>\n",
       "      <th></th>\n",
       "      <th></th>\n",
       "      <th></th>\n",
       "      <th></th>\n",
       "      <th></th>\n",
       "      <th></th>\n",
       "      <th></th>\n",
       "      <th></th>\n",
       "      <th></th>\n",
       "      <th></th>\n",
       "      <th></th>\n",
       "      <th></th>\n",
       "      <th></th>\n",
       "      <th></th>\n",
       "      <th></th>\n",
       "      <th></th>\n",
       "      <th></th>\n",
       "      <th></th>\n",
       "    </tr>\n",
       "  </thead>\n",
       "  <tbody>\n",
       "    <tr>\n",
       "      <th>GAS6</th>\n",
       "      <td>1.0</td>\n",
       "      <td>0.0</td>\n",
       "      <td>0.0</td>\n",
       "      <td>0.0</td>\n",
       "      <td>0.0</td>\n",
       "      <td>0.0</td>\n",
       "      <td>0.0</td>\n",
       "      <td>0.0</td>\n",
       "      <td>0.0</td>\n",
       "      <td>0.0</td>\n",
       "      <td>...</td>\n",
       "      <td>0.0</td>\n",
       "      <td>0.0</td>\n",
       "      <td>0.0</td>\n",
       "      <td>0.0</td>\n",
       "      <td>0.0</td>\n",
       "      <td>0.0</td>\n",
       "      <td>0.0</td>\n",
       "      <td>0.0</td>\n",
       "      <td>0.0</td>\n",
       "      <td>0.0</td>\n",
       "    </tr>\n",
       "    <tr>\n",
       "      <th>MMP14</th>\n",
       "      <td>0.0</td>\n",
       "      <td>1.0</td>\n",
       "      <td>0.0</td>\n",
       "      <td>0.0</td>\n",
       "      <td>0.0</td>\n",
       "      <td>0.0</td>\n",
       "      <td>0.0</td>\n",
       "      <td>0.0</td>\n",
       "      <td>0.0</td>\n",
       "      <td>0.0</td>\n",
       "      <td>...</td>\n",
       "      <td>0.0</td>\n",
       "      <td>0.0</td>\n",
       "      <td>0.0</td>\n",
       "      <td>0.0</td>\n",
       "      <td>0.0</td>\n",
       "      <td>0.0</td>\n",
       "      <td>0.0</td>\n",
       "      <td>0.0</td>\n",
       "      <td>0.0</td>\n",
       "      <td>0.0</td>\n",
       "    </tr>\n",
       "    <tr>\n",
       "      <th>DSP</th>\n",
       "      <td>0.0</td>\n",
       "      <td>0.0</td>\n",
       "      <td>1.0</td>\n",
       "      <td>0.0</td>\n",
       "      <td>0.0</td>\n",
       "      <td>0.0</td>\n",
       "      <td>0.0</td>\n",
       "      <td>0.0</td>\n",
       "      <td>0.0</td>\n",
       "      <td>0.0</td>\n",
       "      <td>...</td>\n",
       "      <td>0.0</td>\n",
       "      <td>0.0</td>\n",
       "      <td>0.0</td>\n",
       "      <td>0.0</td>\n",
       "      <td>0.0</td>\n",
       "      <td>0.0</td>\n",
       "      <td>0.0</td>\n",
       "      <td>0.0</td>\n",
       "      <td>0.0</td>\n",
       "      <td>0.0</td>\n",
       "    </tr>\n",
       "    <tr>\n",
       "      <th>MARCKSL1</th>\n",
       "      <td>0.0</td>\n",
       "      <td>0.0</td>\n",
       "      <td>0.0</td>\n",
       "      <td>1.0</td>\n",
       "      <td>0.0</td>\n",
       "      <td>0.0</td>\n",
       "      <td>0.0</td>\n",
       "      <td>0.0</td>\n",
       "      <td>0.0</td>\n",
       "      <td>0.0</td>\n",
       "      <td>...</td>\n",
       "      <td>0.0</td>\n",
       "      <td>0.0</td>\n",
       "      <td>0.0</td>\n",
       "      <td>0.0</td>\n",
       "      <td>0.0</td>\n",
       "      <td>0.0</td>\n",
       "      <td>0.0</td>\n",
       "      <td>0.0</td>\n",
       "      <td>0.0</td>\n",
       "      <td>0.0</td>\n",
       "    </tr>\n",
       "    <tr>\n",
       "      <th>SPARC</th>\n",
       "      <td>0.0</td>\n",
       "      <td>0.0</td>\n",
       "      <td>0.0</td>\n",
       "      <td>0.0</td>\n",
       "      <td>1.0</td>\n",
       "      <td>0.0</td>\n",
       "      <td>0.0</td>\n",
       "      <td>0.0</td>\n",
       "      <td>0.0</td>\n",
       "      <td>0.0</td>\n",
       "      <td>...</td>\n",
       "      <td>0.0</td>\n",
       "      <td>0.0</td>\n",
       "      <td>0.0</td>\n",
       "      <td>0.0</td>\n",
       "      <td>0.0</td>\n",
       "      <td>0.0</td>\n",
       "      <td>0.0</td>\n",
       "      <td>0.0</td>\n",
       "      <td>0.0</td>\n",
       "      <td>0.0</td>\n",
       "    </tr>\n",
       "  </tbody>\n",
       "</table>\n",
       "<p>5 rows × 6452 columns</p>\n",
       "</div>"
      ],
      "text/plain": [
       "id        GAS6  MMP14  DSP  MARCKSL1  SPARC  CTSD  EPAS1  PALLD  PHC2  \\\n",
       "id                                                                      \n",
       "GAS6       1.0    0.0  0.0       0.0    0.0   0.0    0.0    0.0   0.0   \n",
       "MMP14      0.0    1.0  0.0       0.0    0.0   0.0    0.0    0.0   0.0   \n",
       "DSP        0.0    0.0  1.0       0.0    0.0   0.0    0.0    0.0   0.0   \n",
       "MARCKSL1   0.0    0.0  0.0       1.0    0.0   0.0    0.0    0.0   0.0   \n",
       "SPARC      0.0    0.0  0.0       0.0    1.0   0.0    0.0    0.0   0.0   \n",
       "\n",
       "id        LGALS3BP  ...  LDHB  LDHC  ACAP2  ACAP3  CFL2  CFL1  NFIB  PLEKHG6  \\\n",
       "id                  ...                                                        \n",
       "GAS6           0.0  ...   0.0   0.0    0.0    0.0   0.0   0.0   0.0      0.0   \n",
       "MMP14          0.0  ...   0.0   0.0    0.0    0.0   0.0   0.0   0.0      0.0   \n",
       "DSP            0.0  ...   0.0   0.0    0.0    0.0   0.0   0.0   0.0      0.0   \n",
       "MARCKSL1       0.0  ...   0.0   0.0    0.0    0.0   0.0   0.0   0.0      0.0   \n",
       "SPARC          0.0  ...   0.0   0.0    0.0    0.0   0.0   0.0   0.0      0.0   \n",
       "\n",
       "id        GNGT2  SERPINH1  \n",
       "id                         \n",
       "GAS6        0.0       0.0  \n",
       "MMP14       0.0       0.0  \n",
       "DSP         0.0       0.0  \n",
       "MARCKSL1    0.0       0.0  \n",
       "SPARC       0.0       0.0  \n",
       "\n",
       "[5 rows x 6452 columns]"
      ]
     },
     "execution_count": 306,
     "metadata": {},
     "output_type": "execute_result"
    }
   ],
   "source": [
    "gene_corrs_default.head()"
   ]
  },
  {
   "cell_type": "code",
   "execution_count": 307,
   "id": "9d926dc5-ab80-4736-b2d0-ee1c95685241",
   "metadata": {},
   "outputs": [],
   "source": [
    "gene_corrs_default.to_pickle(default_gene_corrs_file)"
   ]
  },
  {
   "cell_type": "markdown",
   "id": "816eec63-c419-4a47-94ad-d8a7439962b0",
   "metadata": {},
   "source": [
    "# Load random.pheno255"
   ]
  },
  {
   "cell_type": "code",
   "execution_count": 152,
   "id": "532829cd-2d79-43de-918d-7bea1db8aeb0",
   "metadata": {},
   "outputs": [],
   "source": [
    "# let's take a look at the MultiXcan results in random.pheno255\n",
    "random_pheno_255_mx = pd.read_csv(\n",
    "    conf.RESULTS[\"GLS_NULL_SIMS\"]\n",
    "    / \"twas\"\n",
    "    / \"smultixcan\"\n",
    "    / \"random.pheno255-gtex_v8-mashr-smultixcan.txt\",\n",
    "    sep=\"\\t\",\n",
    ")"
   ]
  },
  {
   "cell_type": "code",
   "execution_count": 153,
   "id": "02a90487-b079-4c68-b081-7cf1bf6d5a4a",
   "metadata": {},
   "outputs": [
    {
     "data": {
      "text/plain": [
       "(22317, 18)"
      ]
     },
     "execution_count": 153,
     "metadata": {},
     "output_type": "execute_result"
    }
   ],
   "source": [
    "random_pheno_255_mx.shape"
   ]
  },
  {
   "cell_type": "code",
   "execution_count": 154,
   "id": "7491ea43-4c18-46e8-a577-635545dcbbd1",
   "metadata": {},
   "outputs": [
    {
     "data": {
      "text/html": [
       "<div>\n",
       "<style scoped>\n",
       "    .dataframe tbody tr th:only-of-type {\n",
       "        vertical-align: middle;\n",
       "    }\n",
       "\n",
       "    .dataframe tbody tr th {\n",
       "        vertical-align: top;\n",
       "    }\n",
       "\n",
       "    .dataframe thead th {\n",
       "        text-align: right;\n",
       "    }\n",
       "</style>\n",
       "<table border=\"1\" class=\"dataframe\">\n",
       "  <thead>\n",
       "    <tr style=\"text-align: right;\">\n",
       "      <th></th>\n",
       "      <th>gene</th>\n",
       "      <th>gene_name</th>\n",
       "      <th>pvalue</th>\n",
       "      <th>n</th>\n",
       "      <th>n_indep</th>\n",
       "      <th>p_i_best</th>\n",
       "      <th>t_i_best</th>\n",
       "      <th>p_i_worst</th>\n",
       "      <th>t_i_worst</th>\n",
       "      <th>eigen_max</th>\n",
       "      <th>eigen_min</th>\n",
       "      <th>eigen_min_kept</th>\n",
       "      <th>z_min</th>\n",
       "      <th>z_max</th>\n",
       "      <th>z_mean</th>\n",
       "      <th>z_sd</th>\n",
       "      <th>tmi</th>\n",
       "      <th>status</th>\n",
       "    </tr>\n",
       "  </thead>\n",
       "  <tbody>\n",
       "    <tr>\n",
       "      <th>0</th>\n",
       "      <td>ENSG00000234634.1</td>\n",
       "      <td>LINC02093</td>\n",
       "      <td>0.000072</td>\n",
       "      <td>1.0</td>\n",
       "      <td>1.0</td>\n",
       "      <td>0.000072</td>\n",
       "      <td>Testis</td>\n",
       "      <td>0.000072</td>\n",
       "      <td>Testis</td>\n",
       "      <td>1.000000</td>\n",
       "      <td>1.000000e+00</td>\n",
       "      <td>1.000000</td>\n",
       "      <td>-3.969277</td>\n",
       "      <td>-3.969277</td>\n",
       "      <td>-3.969277</td>\n",
       "      <td>NaN</td>\n",
       "      <td>1.0</td>\n",
       "      <td>0</td>\n",
       "    </tr>\n",
       "    <tr>\n",
       "      <th>1</th>\n",
       "      <td>ENSG00000104164.10</td>\n",
       "      <td>BLOC1S6</td>\n",
       "      <td>0.000078</td>\n",
       "      <td>12.0</td>\n",
       "      <td>3.0</td>\n",
       "      <td>0.000004</td>\n",
       "      <td>Adipose_Subcutaneous</td>\n",
       "      <td>0.474198</td>\n",
       "      <td>Brain_Cerebellar_Hemisphere</td>\n",
       "      <td>7.220937</td>\n",
       "      <td>1.793227e-22</td>\n",
       "      <td>0.915740</td>\n",
       "      <td>-0.981515</td>\n",
       "      <td>4.617559</td>\n",
       "      <td>2.007790</td>\n",
       "      <td>2.003827</td>\n",
       "      <td>3.0</td>\n",
       "      <td>0</td>\n",
       "    </tr>\n",
       "    <tr>\n",
       "      <th>2</th>\n",
       "      <td>ENSG00000143786.7</td>\n",
       "      <td>CNIH3</td>\n",
       "      <td>0.000144</td>\n",
       "      <td>17.0</td>\n",
       "      <td>7.0</td>\n",
       "      <td>0.000224</td>\n",
       "      <td>Brain_Spinal_cord_cervical_c-1</td>\n",
       "      <td>0.761493</td>\n",
       "      <td>Artery_Aorta</td>\n",
       "      <td>5.752532</td>\n",
       "      <td>8.006265e-18</td>\n",
       "      <td>0.229252</td>\n",
       "      <td>-3.689795</td>\n",
       "      <td>1.195704</td>\n",
       "      <td>-0.533416</td>\n",
       "      <td>1.427478</td>\n",
       "      <td>7.0</td>\n",
       "      <td>0</td>\n",
       "    </tr>\n",
       "    <tr>\n",
       "      <th>3</th>\n",
       "      <td>ENSG00000171497.4</td>\n",
       "      <td>PPID</td>\n",
       "      <td>0.000144</td>\n",
       "      <td>49.0</td>\n",
       "      <td>3.0</td>\n",
       "      <td>0.000049</td>\n",
       "      <td>Brain_Cerebellar_Hemisphere</td>\n",
       "      <td>0.319721</td>\n",
       "      <td>Muscle_Skeletal</td>\n",
       "      <td>38.956526</td>\n",
       "      <td>1.516876e-15</td>\n",
       "      <td>1.491169</td>\n",
       "      <td>-4.058936</td>\n",
       "      <td>3.448436</td>\n",
       "      <td>-2.770213</td>\n",
       "      <td>1.679229</td>\n",
       "      <td>3.0</td>\n",
       "      <td>0</td>\n",
       "    </tr>\n",
       "    <tr>\n",
       "      <th>4</th>\n",
       "      <td>ENSG00000143748.17</td>\n",
       "      <td>NVL</td>\n",
       "      <td>0.000195</td>\n",
       "      <td>49.0</td>\n",
       "      <td>3.0</td>\n",
       "      <td>0.035088</td>\n",
       "      <td>Heart_Left_Ventricle</td>\n",
       "      <td>0.671017</td>\n",
       "      <td>Small_Intestine_Terminal_Ileum</td>\n",
       "      <td>34.472924</td>\n",
       "      <td>1.010101e-15</td>\n",
       "      <td>1.173867</td>\n",
       "      <td>-2.107341</td>\n",
       "      <td>1.450350</td>\n",
       "      <td>0.266461</td>\n",
       "      <td>0.885925</td>\n",
       "      <td>3.0</td>\n",
       "      <td>0</td>\n",
       "    </tr>\n",
       "  </tbody>\n",
       "</table>\n",
       "</div>"
      ],
      "text/plain": [
       "                 gene  gene_name    pvalue     n  n_indep  p_i_best  \\\n",
       "0   ENSG00000234634.1  LINC02093  0.000072   1.0      1.0  0.000072   \n",
       "1  ENSG00000104164.10    BLOC1S6  0.000078  12.0      3.0  0.000004   \n",
       "2   ENSG00000143786.7      CNIH3  0.000144  17.0      7.0  0.000224   \n",
       "3   ENSG00000171497.4       PPID  0.000144  49.0      3.0  0.000049   \n",
       "4  ENSG00000143748.17        NVL  0.000195  49.0      3.0  0.035088   \n",
       "\n",
       "                         t_i_best  p_i_worst                       t_i_worst  \\\n",
       "0                          Testis   0.000072                          Testis   \n",
       "1            Adipose_Subcutaneous   0.474198     Brain_Cerebellar_Hemisphere   \n",
       "2  Brain_Spinal_cord_cervical_c-1   0.761493                    Artery_Aorta   \n",
       "3     Brain_Cerebellar_Hemisphere   0.319721                 Muscle_Skeletal   \n",
       "4            Heart_Left_Ventricle   0.671017  Small_Intestine_Terminal_Ileum   \n",
       "\n",
       "   eigen_max     eigen_min  eigen_min_kept     z_min     z_max    z_mean  \\\n",
       "0   1.000000  1.000000e+00        1.000000 -3.969277 -3.969277 -3.969277   \n",
       "1   7.220937  1.793227e-22        0.915740 -0.981515  4.617559  2.007790   \n",
       "2   5.752532  8.006265e-18        0.229252 -3.689795  1.195704 -0.533416   \n",
       "3  38.956526  1.516876e-15        1.491169 -4.058936  3.448436 -2.770213   \n",
       "4  34.472924  1.010101e-15        1.173867 -2.107341  1.450350  0.266461   \n",
       "\n",
       "       z_sd  tmi  status  \n",
       "0       NaN  1.0       0  \n",
       "1  2.003827  3.0       0  \n",
       "2  1.427478  7.0       0  \n",
       "3  1.679229  3.0       0  \n",
       "4  0.885925  3.0       0  "
      ]
     },
     "execution_count": 154,
     "metadata": {},
     "output_type": "execute_result"
    }
   ],
   "source": [
    "random_pheno_255_mx.head()"
   ]
  },
  {
   "cell_type": "code",
   "execution_count": 155,
   "id": "82b2a3f7-c35f-4a3f-a6ab-1ba669a31d56",
   "metadata": {},
   "outputs": [],
   "source": [
    "data = random_pheno_255_mx[[\"gene_name\", \"pvalue\"]].set_index(\"gene_name\").squeeze()"
   ]
  },
  {
   "cell_type": "code",
   "execution_count": 156,
   "id": "42125612-46cf-4efb-83d0-d35e12172f75",
   "metadata": {},
   "outputs": [
    {
     "data": {
      "text/plain": [
       "(22317,)"
      ]
     },
     "execution_count": 156,
     "metadata": {},
     "output_type": "execute_result"
    }
   ],
   "source": [
    "data.shape"
   ]
  },
  {
   "cell_type": "code",
   "execution_count": 157,
   "id": "3d11e6b0-543b-4092-beb3-35bec9f53aba",
   "metadata": {},
   "outputs": [],
   "source": [
    "data = data.loc[~data.index.duplicated(keep=\"first\")]"
   ]
  },
  {
   "cell_type": "code",
   "execution_count": 158,
   "id": "f23bcdcb-6bff-46be-b79b-5c22674fea3a",
   "metadata": {},
   "outputs": [
    {
     "data": {
      "text/plain": [
       "(22311,)"
      ]
     },
     "execution_count": 158,
     "metadata": {},
     "output_type": "execute_result"
    }
   ],
   "source": [
    "data.shape"
   ]
  },
  {
   "cell_type": "code",
   "execution_count": 160,
   "id": "40e5cee0-2724-4d65-a3ca-2c67fc2aa74f",
   "metadata": {},
   "outputs": [],
   "source": [
    "data = data.dropna()"
   ]
  },
  {
   "cell_type": "code",
   "execution_count": 161,
   "id": "6047a9ef-6775-4d99-8a9c-ef8fb6e59af2",
   "metadata": {},
   "outputs": [
    {
     "data": {
      "text/plain": [
       "(22308,)"
      ]
     },
     "execution_count": 161,
     "metadata": {},
     "output_type": "execute_result"
    }
   ],
   "source": [
    "data.shape"
   ]
  },
  {
   "cell_type": "code",
   "execution_count": 162,
   "id": "cee1cebf-a35f-40db-8749-8d5e2df62dcb",
   "metadata": {},
   "outputs": [],
   "source": [
    "common_genes = data.index.intersection(multiplier_z.index).intersection(\n",
    "    gene_corrs.index\n",
    ")"
   ]
  },
  {
   "cell_type": "code",
   "execution_count": 163,
   "id": "efb546ff-e8d5-4535-b6f5-cb1d4dc3e6b0",
   "metadata": {},
   "outputs": [
    {
     "data": {
      "text/plain": [
       "6442"
      ]
     },
     "execution_count": 163,
     "metadata": {},
     "output_type": "execute_result"
    }
   ],
   "source": [
    "len(common_genes)"
   ]
  },
  {
   "cell_type": "code",
   "execution_count": 164,
   "id": "6e148a2a-cdde-41b0-a73f-f4ecc6d23b90",
   "metadata": {},
   "outputs": [],
   "source": [
    "y = data.loc[common_genes]"
   ]
  },
  {
   "cell_type": "code",
   "execution_count": 165,
   "id": "fc208afe-f72e-4b87-88fb-b0d53e58b0f6",
   "metadata": {},
   "outputs": [
    {
     "data": {
      "text/plain": [
       "(6442,)"
      ]
     },
     "execution_count": 165,
     "metadata": {},
     "output_type": "execute_result"
    }
   ],
   "source": [
    "y.shape"
   ]
  },
  {
   "cell_type": "code",
   "execution_count": 166,
   "id": "6f67578b-ef7f-404a-a4a1-8a1276fce196",
   "metadata": {},
   "outputs": [
    {
     "data": {
      "text/plain": [
       "PPID        0.000144\n",
       "ARHGAP25    0.000247\n",
       "MRPL2       0.000315\n",
       "RNF41       0.000697\n",
       "FHIT        0.000752\n",
       "              ...   \n",
       "DOCK2       0.999651\n",
       "NDUFB4      0.999706\n",
       "COL1A1      0.999817\n",
       "ARHGAP15    0.999964\n",
       "SOS1        0.999974\n",
       "Name: pvalue, Length: 6442, dtype: float64"
      ]
     },
     "execution_count": 166,
     "metadata": {},
     "output_type": "execute_result"
    }
   ],
   "source": [
    "y"
   ]
  },
  {
   "cell_type": "markdown",
   "id": "17ea364b-ddda-41b9-82b9-02a63db8cd22",
   "metadata": {},
   "source": [
    "QQ plot of MultiXcan results with genes only in MultiPLIER models..."
   ]
  },
  {
   "cell_type": "code",
   "execution_count": 167,
   "id": "bcab5285-31c3-4323-9e33-6d46b6d5002a",
   "metadata": {
    "papermill": {
     "duration": 0.016445,
     "end_time": "2022-02-24T05:32:04.933024",
     "exception": false,
     "start_time": "2022-02-24T05:32:04.916579",
     "status": "completed"
    },
    "tags": []
   },
   "outputs": [],
   "source": [
    "data = y.to_numpy()\n",
    "n = data.shape[0]\n",
    "uniform_data = np.array([i / (n + 1) for i in range(1, n + 1)])"
   ]
  },
  {
   "cell_type": "code",
   "execution_count": 168,
   "id": "f949293e-c04c-4b4f-9e33-848b852fda92",
   "metadata": {
    "papermill": {
     "duration": 0.018047,
     "end_time": "2022-02-24T05:32:04.962092",
     "exception": false,
     "start_time": "2022-02-24T05:32:04.944045",
     "status": "completed"
    },
    "tags": []
   },
   "outputs": [
    {
     "data": {
      "text/plain": [
       "array([0.00014413, 0.00024695, 0.00031485, 0.00069724, 0.00075189])"
      ]
     },
     "metadata": {},
     "output_type": "display_data"
    },
    {
     "data": {
      "text/plain": [
       "array([0.00015521, 0.00031041, 0.00046562, 0.00062083, 0.00077604])"
      ]
     },
     "metadata": {},
     "output_type": "display_data"
    }
   ],
   "source": [
    "display(data[:5])\n",
    "display(uniform_data[:5])"
   ]
  },
  {
   "cell_type": "code",
   "execution_count": 169,
   "id": "d61147a9-883c-4811-8f76-768f7de02cac",
   "metadata": {
    "papermill": {
     "duration": 0.142909,
     "end_time": "2022-02-24T05:32:05.117221",
     "exception": false,
     "start_time": "2022-02-24T05:32:04.974312",
     "status": "completed"
    },
    "tags": []
   },
   "outputs": [
    {
     "data": {
      "image/png": "[encoded data removed]",
      "text/plain": [
       "<Figure size 576x576 with 1 Axes>"
      ]
     },
     "metadata": {
      "needs_background": "light"
     },
     "output_type": "display_data"
    }
   ],
   "source": [
    "observed_data = -np.log10(data)\n",
    "expected_data = -np.log10(uniform_data)\n",
    "\n",
    "with sns.plotting_context(\"paper\", font_scale=1.8), mpl.rc_context(\n",
    "    {\"lines.markersize\": 3}\n",
    "):\n",
    "    fig, ax = plt.subplots(figsize=(8, 8))\n",
    "\n",
    "    fig = qqplot_2samples(expected_data, observed_data, line=\"45\", ax=ax)\n",
    "\n",
    "    ax.set_xlim(expected_data.min() - 0.05, expected_data.max() + 0.05)\n",
    "\n",
    "    ax.set_xlabel(\"$-\\log_{10}$(expected pvalue)\")\n",
    "    ax.set_ylabel(\"$-\\log_{10}$(observed pvalue)\")\n",
    "    ax.set_title(\"QQ-Plot - Null with MASHR models\")"
   ]
  },
  {
   "cell_type": "markdown",
   "id": "f7800859-0ee3-4818-90b2-f73bf6606dd6",
   "metadata": {},
   "source": [
    "Looks good"
   ]
  },
  {
   "cell_type": "code",
   "execution_count": 171,
   "id": "e7e46815-dca6-413f-85c1-11c3c2fa6825",
   "metadata": {},
   "outputs": [],
   "source": [
    "# convert p-values to z-scores\n",
    "y = pd.Series(data=np.abs(stats.norm.ppf(y / 2)), index=y.index.copy())"
   ]
  },
  {
   "cell_type": "code",
   "execution_count": 172,
   "id": "4e793026-61cc-4102-9e97-815b06806264",
   "metadata": {},
   "outputs": [
    {
     "data": {
      "text/plain": [
       "(6442,)"
      ]
     },
     "execution_count": 172,
     "metadata": {},
     "output_type": "execute_result"
    }
   ],
   "source": [
    "y.shape"
   ]
  },
  {
   "cell_type": "code",
   "execution_count": 174,
   "id": "88c5ff3b-56f8-4b51-8b6f-f1057f15f6fa",
   "metadata": {},
   "outputs": [
    {
     "data": {
      "text/plain": [
       "(6442,)"
      ]
     },
     "execution_count": 174,
     "metadata": {},
     "output_type": "execute_result"
    }
   ],
   "source": [
    "y.dropna().shape"
   ]
  },
  {
   "cell_type": "code",
   "execution_count": 173,
   "id": "16c685df-8b21-430b-b066-011e40e8fc7f",
   "metadata": {},
   "outputs": [
    {
     "data": {
      "text/plain": [
       "PPID        3.800963\n",
       "ARHGAP25    3.665405\n",
       "MRPL2       3.602765\n",
       "RNF41       3.390663\n",
       "FHIT        3.369925\n",
       "dtype: float64"
      ]
     },
     "execution_count": 173,
     "metadata": {},
     "output_type": "execute_result"
    }
   ],
   "source": [
    "y.head()"
   ]
  },
  {
   "cell_type": "code",
   "execution_count": 176,
   "id": "c669eb41-d5ef-41a5-8d6e-49cd23ca0f15",
   "metadata": {},
   "outputs": [
    {
     "data": {
      "text/plain": [
       "<seaborn.axisgrid.FacetGrid at 0x7f7ad4d881f0>"
      ]
     },
     "execution_count": 176,
     "metadata": {},
     "output_type": "execute_result"
    },
    {
     "data": {
      "image/png": "[encoded data removed]",
      "text/plain": [
       "<Figure size 360x360 with 1 Axes>"
      ]
     },
     "metadata": {
      "needs_background": "light"
     },
     "output_type": "display_data"
    }
   ],
   "source": [
    "sns.displot(x=multiplier_z.loc[common_genes, \"LV704\"], y=y.loc[common_genes])"
   ]
  },
  {
   "cell_type": "code",
   "execution_count": 183,
   "id": "7b52418c-9707-4b22-8a22-a2ce8b8a13e6",
   "metadata": {},
   "outputs": [
    {
     "data": {
      "text/plain": [
       "(0.039680632576232944, 0.0014451098599721187)"
      ]
     },
     "execution_count": 183,
     "metadata": {},
     "output_type": "execute_result"
    }
   ],
   "source": [
    "stats.pearsonr(multiplier_z.loc[common_genes, \"LV704\"], y)"
   ]
  },
  {
   "cell_type": "code",
   "execution_count": 177,
   "id": "975d7a13-98da-44a4-b2cd-7279cbf46d36",
   "metadata": {},
   "outputs": [
    {
     "data": {
      "text/plain": [
       "<seaborn.axisgrid.FacetGrid at 0x7f7acab04d30>"
      ]
     },
     "execution_count": 177,
     "metadata": {},
     "output_type": "execute_result"
    },
    {
     "data": {
      "image/png": "[encoded data removed]",
      "text/plain": [
       "<Figure size 360x360 with 1 Axes>"
      ]
     },
     "metadata": {
      "needs_background": "light"
     },
     "output_type": "display_data"
    }
   ],
   "source": [
    "sns.displot(x=multiplier_z.loc[common_genes, \"LV1\"], y=y.loc[common_genes])"
   ]
  },
  {
   "cell_type": "code",
   "execution_count": 184,
   "id": "73328fd4-4043-4ffe-9cc7-a9e2ab21237c",
   "metadata": {},
   "outputs": [
    {
     "data": {
      "text/plain": [
       "(0.018370336314210846, 0.1404063516038885)"
      ]
     },
     "execution_count": 184,
     "metadata": {},
     "output_type": "execute_result"
    }
   ],
   "source": [
    "stats.pearsonr(multiplier_z.loc[common_genes, \"LV1\"], y)"
   ]
  },
  {
   "cell_type": "code",
   "execution_count": 179,
   "id": "cdda5e00-9027-4e92-82ac-caa9ad6634ff",
   "metadata": {},
   "outputs": [
    {
     "data": {
      "text/plain": [
       "PPID        0.072310\n",
       "ARHGAP25    0.121708\n",
       "MRPL2       0.063188\n",
       "RNF41       0.000000\n",
       "FHIT        0.016550\n",
       "              ...   \n",
       "DOCK2       0.055976\n",
       "NDUFB4      0.003612\n",
       "COL1A1      0.043407\n",
       "ARHGAP15    0.000000\n",
       "SOS1        0.022320\n",
       "Name: LV704, Length: 6442, dtype: float64"
      ]
     },
     "execution_count": 179,
     "metadata": {},
     "output_type": "execute_result"
    }
   ],
   "source": [
    "multiplier_z.loc[common_genes, \"LV704\"]"
   ]
  },
  {
   "cell_type": "code",
   "execution_count": 189,
   "id": "7cedbdd8-0e67-437a-9919-a1877bd3b63d",
   "metadata": {},
   "outputs": [],
   "source": [
    "from gls import GLSPhenoplier"
   ]
  },
  {
   "cell_type": "code",
   "execution_count": 204,
   "id": "ef5b207d-9f6a-422f-9fb3-e9228fb000d6",
   "metadata": {},
   "outputs": [
    {
     "name": "stdout",
     "output_type": "stream",
     "text": [
      "                            GLS Regression Results                            \n",
      "==============================================================================\n",
      "Dep. Variable:              phenotype   R-squared:                       0.017\n",
      "Model:                            GLS   Adj. R-squared:                  0.017\n",
      "Method:                 Least Squares   F-statistic:                     113.1\n",
      "Date:                Mon, 13 Jun 2022   Prob (F-statistic):           3.32e-26\n",
      "Time:                        03:49:55   Log-Likelihood:                -9371.8\n",
      "No. Observations:                6442   AIC:                         1.875e+04\n",
      "Df Residuals:                    6440   BIC:                         1.876e+04\n",
      "Df Model:                           1                                         \n",
      "Covariance Type:            nonrobust                                         \n",
      "==============================================================================\n",
      "                 coef    std err          t      P>|t|      [0.025      0.975]\n",
      "------------------------------------------------------------------------------\n",
      "i              0.0040      0.013      0.316      0.752      -0.021       0.029\n",
      "lv             0.0745      0.007     10.637      0.000       0.061       0.088\n",
      "==============================================================================\n",
      "Omnibus:                     1669.551   Durbin-Watson:                   0.147\n",
      "Prob(Omnibus):                  0.000   Jarque-Bera (JB):             5987.697\n",
      "Skew:                           1.269   Prob(JB):                         0.00\n",
      "Kurtosis:                       6.983   Cond. No.                         1.80\n",
      "==============================================================================\n",
      "\n",
      "Notes:\n",
      "[1] Standard Errors assume that the covariance matrix of the errors is correctly specified.\n"
     ]
    }
   ],
   "source": [
    "model = GLSPhenoplier(\n",
    "    gene_corrs_file_path=gene_corrs_file,\n",
    ")\n",
    "\n",
    "model.fit_named(\"LV704\", y)\n",
    "res = model.results\n",
    "\n",
    "print(res.summary())"
   ]
  },
  {
   "cell_type": "code",
   "execution_count": 205,
   "id": "f4107a5f-7187-4ccb-8675-ecd04368fb15",
   "metadata": {},
   "outputs": [
    {
     "name": "stdout",
     "output_type": "stream",
     "text": [
      "                            GLS Regression Results                            \n",
      "==============================================================================\n",
      "Dep. Variable:              phenotype   R-squared:                       0.002\n",
      "Model:                            GLS   Adj. R-squared:                  0.001\n",
      "Method:                 Least Squares   F-statistic:                     10.16\n",
      "Date:                Mon, 13 Jun 2022   Prob (F-statistic):            0.00145\n",
      "Time:                        03:50:09   Log-Likelihood:                -9135.7\n",
      "No. Observations:                6442   AIC:                         1.828e+04\n",
      "Df Residuals:                    6440   BIC:                         1.829e+04\n",
      "Df Model:                           1                                         \n",
      "Covariance Type:            nonrobust                                         \n",
      "==============================================================================\n",
      "                 coef    std err          t      P>|t|      [0.025      0.975]\n",
      "------------------------------------------------------------------------------\n",
      "i           1.507e-17      0.012   1.21e-15      1.000      -0.024       0.024\n",
      "lv             0.0397      0.012      3.187      0.001       0.015       0.064\n",
      "==============================================================================\n",
      "Omnibus:                      936.763   Durbin-Watson:                   0.003\n",
      "Prob(Omnibus):                  0.000   Jarque-Bera (JB):             1415.526\n",
      "Skew:                           1.053   Prob(JB):                    4.19e-308\n",
      "Kurtosis:                       3.916   Cond. No.                         1.00\n",
      "==============================================================================\n",
      "\n",
      "Notes:\n",
      "[1] Standard Errors assume that the covariance matrix of the errors is correctly specified.\n"
     ]
    }
   ],
   "source": [
    "model = GLSPhenoplier(\n",
    "    gene_corrs_file_path=default_gene_corrs_file,\n",
    ")\n",
    "\n",
    "model.fit_named(\"LV704\", y)\n",
    "res = model.results\n",
    "\n",
    "print(res.summary())"
   ]
  },
  {
   "cell_type": "markdown",
   "id": "315d6921-18b9-404d-9eca-3855ece09549",
   "metadata": {},
   "source": [
    "**Conclusion**: If I compare the GLS model with a standard one (sigma is just the identity matrix), things do not seem to improve, actually it gets worse."
   ]
  },
  {
   "cell_type": "markdown",
   "id": "a53ac637-73cf-4651-8bbb-accc395e0c20",
   "metadata": {},
   "source": [
    "Try to"
   ]
  },
  {
   "cell_type": "markdown",
   "id": "39798e1a-7fee-43e0-ba77-c311dc3b3791",
   "metadata": {},
   "source": [
    "# Try with positive-only gene corr matrix"
   ]
  },
  {
   "cell_type": "code",
   "execution_count": 213,
   "id": "f19a19f2-33cb-46ff-9c1f-6272c032bdda",
   "metadata": {},
   "outputs": [
    {
     "name": "stdout",
     "output_type": "stream",
     "text": [
      "                            GLS Regression Results                            \n",
      "==============================================================================\n",
      "Dep. Variable:              phenotype   R-squared:                       0.002\n",
      "Model:                            GLS   Adj. R-squared:                  0.001\n",
      "Method:                 Least Squares   F-statistic:                     10.02\n",
      "Date:                Mon, 13 Jun 2022   Prob (F-statistic):            0.00156\n",
      "Time:                        13:02:22   Log-Likelihood:                -9059.6\n",
      "No. Observations:                6442   AIC:                         1.812e+04\n",
      "Df Residuals:                    6440   BIC:                         1.814e+04\n",
      "Df Model:                           1                                         \n",
      "Covariance Type:            nonrobust                                         \n",
      "==============================================================================\n",
      "                 coef    std err          t      P>|t|      [0.025      0.975]\n",
      "------------------------------------------------------------------------------\n",
      "i             -0.0008      0.018     -0.044      0.965      -0.036       0.035\n",
      "lv             0.0248      0.008      3.165      0.002       0.009       0.040\n",
      "==============================================================================\n",
      "Omnibus:                      571.921   Durbin-Watson:                   0.057\n",
      "Prob(Omnibus):                  0.000   Jarque-Bera (JB):              736.765\n",
      "Skew:                           0.785   Prob(JB):                    1.03e-160\n",
      "Kurtosis:                       3.530   Cond. No.                         2.32\n",
      "==============================================================================\n",
      "\n",
      "Notes:\n",
      "[1] Standard Errors assume that the covariance matrix of the errors is correctly specified.\n"
     ]
    }
   ],
   "source": [
    "model = GLSPhenoplier(\n",
    "    gene_corrs_file_path=gene_corrs_positive_only,\n",
    ")\n",
    "\n",
    "model.fit_named(\"LV704\", y)\n",
    "res = model.results\n",
    "\n",
    "print(res.summary())"
   ]
  },
  {
   "cell_type": "markdown",
   "id": "32bee8d3-668e-4fd9-bed5-3743804164c5",
   "metadata": {},
   "source": [
    "# Try with r2 gene corr matrix"
   ]
  },
  {
   "cell_type": "code",
   "execution_count": 226,
   "id": "c79aa4a2-a538-4b46-bf32-c3343aa96c70",
   "metadata": {},
   "outputs": [
    {
     "name": "stdout",
     "output_type": "stream",
     "text": [
      "                            GLS Regression Results                            \n",
      "==============================================================================\n",
      "Dep. Variable:              phenotype   R-squared:                       0.001\n",
      "Model:                            GLS   Adj. R-squared:                  0.000\n",
      "Method:                 Least Squares   F-statistic:                     3.309\n",
      "Date:                Mon, 13 Jun 2022   Prob (F-statistic):             0.0690\n",
      "Time:                        13:05:14   Log-Likelihood:                -9060.6\n",
      "No. Observations:                6442   AIC:                         1.813e+04\n",
      "Df Residuals:                    6440   BIC:                         1.814e+04\n",
      "Df Model:                           1                                         \n",
      "Covariance Type:            nonrobust                                         \n",
      "==============================================================================\n",
      "                 coef    std err          t      P>|t|      [0.025      0.975]\n",
      "------------------------------------------------------------------------------\n",
      "i             -0.0009      0.013     -0.072      0.943      -0.026       0.024\n",
      "lv             0.0156      0.009      1.819      0.069      -0.001       0.032\n",
      "==============================================================================\n",
      "Omnibus:                      856.638   Durbin-Watson:                   0.010\n",
      "Prob(Omnibus):                  0.000   Jarque-Bera (JB):             1245.884\n",
      "Skew:                           1.002   Prob(JB):                    2.88e-271\n",
      "Kurtosis:                       3.793   Cond. No.                         1.51\n",
      "==============================================================================\n",
      "\n",
      "Notes:\n",
      "[1] Standard Errors assume that the covariance matrix of the errors is correctly specified.\n"
     ]
    }
   ],
   "source": [
    "model = GLSPhenoplier(\n",
    "    gene_corrs_file_path=gene_corrs_r2,\n",
    ")\n",
    "\n",
    "model.fit_named(\"LV704\", y)\n",
    "res = model.results\n",
    "\n",
    "print(res.summary())"
   ]
  },
  {
   "cell_type": "code",
   "execution_count": null,
   "id": "05dd56eb-1ba5-4a45-a07b-4b25ae39dd1b",
   "metadata": {},
   "outputs": [],
   "source": []
  },
  {
   "cell_type": "code",
   "execution_count": 206,
   "id": "eb5b60d8-b224-407d-af32-a284cb5d4e63",
   "metadata": {},
   "outputs": [],
   "source": [
    "from entity import Gene"
   ]
  },
  {
   "cell_type": "code",
   "execution_count": 207,
   "id": "b9058583-f44f-4335-8fa9-a3be754d7bb7",
   "metadata": {},
   "outputs": [],
   "source": [
    "gene_objs = [Gene(name=g) for g in y.index]"
   ]
  },
  {
   "cell_type": "code",
   "execution_count": 208,
   "id": "c0b74b8f-78f2-439b-bb33-679ae77bc049",
   "metadata": {},
   "outputs": [
    {
     "data": {
      "text/plain": [
       "[<entity.Gene at 0x7f7aacccb8b0>,\n",
       " <entity.Gene at 0x7f7aacccb970>,\n",
       " <entity.Gene at 0x7f7aacccba00>,\n",
       " <entity.Gene at 0x7f7aacccba60>,\n",
       " <entity.Gene at 0x7f7aacccbaf0>,\n",
       " <entity.Gene at 0x7f7aacccbb50>,\n",
       " <entity.Gene at 0x7f7aacccbbe0>,\n",
       " <entity.Gene at 0x7f7aacccbc40>,\n",
       " <entity.Gene at 0x7f7aacccbcd0>,\n",
       " <entity.Gene at 0x7f7aacccbd30>]"
      ]
     },
     "execution_count": 208,
     "metadata": {},
     "output_type": "execute_result"
    }
   ],
   "source": [
    "gene_objs[0]"
   ]
  },
  {
   "cell_type": "code",
   "execution_count": null,
   "id": "dc2048a0-3b69-4bfd-a03b-54d4e5e29534",
   "metadata": {},
   "outputs": [],
   "source": []
  }
 ],
 "metadata": {
  "jupytext": {
   "cell_metadata_filter": "all,-execution,-papermill,-trusted",
   "formats": "ipynb,py//py:percent"
  },
  "kernelspec": {
   "display_name": "Python 3 (ipykernel)",
   "language": "python",
   "name": "python3"
  },
  "language_info": {
   "codemirror_mode": {
    "name": "ipython",
    "version": 3
   },
   "file_extension": ".py",
   "mimetype": "text/x-python",
   "name": "python",
   "nbconvert_exporter": "python",
   "pygments_lexer": "ipython3",
   "version": "3.8.13"
  },
  "papermill": {
   "default_parameters": {},
   "duration": 2.899223,
   "end_time": "2022-02-24T05:32:05.472242",
   "environment_variables": {},
   "exception": null,
   "input_path": "nbs/15_gsa_gls/26-gls-null_simulations-plots.ipynb",
   "output_path": "nbs/15_gsa_gls/26-gls-null_simulations-plots.run.ipynb",
   "parameters": {},
   "start_time": "2022-02-24T05:32:02.573019",
   "version": "2.2.2"
  },
  "toc-autonumbering": true
 },
 "nbformat": 4,
 "nbformat_minor": 5
}
