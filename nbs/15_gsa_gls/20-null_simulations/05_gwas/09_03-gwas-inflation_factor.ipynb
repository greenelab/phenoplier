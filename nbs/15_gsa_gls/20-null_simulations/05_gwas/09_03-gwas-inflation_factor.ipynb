{
 "cells": [
  {
   "cell_type": "markdown",
   "id": "0cfc647f-0ac4-43b1-b80b-1468c3223332",
   "metadata": {
    "papermill": {
     "duration": 0.011016,
     "end_time": "2022-04-29T16:41:08.968779",
     "exception": false,
     "start_time": "2022-04-29T16:41:08.957763",
     "status": "completed"
    },
    "tags": []
   },
   "source": [
    "# Description"
   ]
  },
  {
   "cell_type": "markdown",
   "id": "dd6ced0f-9243-46aa-a390-1868e1a24b39",
   "metadata": {
    "papermill": {
     "duration": 0.008559,
     "end_time": "2022-04-29T16:41:08.986586",
     "exception": false,
     "start_time": "2022-04-29T16:41:08.978027",
     "status": "completed"
    },
    "tags": []
   },
   "source": [
    "It runs PLINK2 on GWAS results to check that the genomic inflation factor is withint acceptable limits."
   ]
  },
  {
   "cell_type": "markdown",
   "id": "41d0fadb-850a-486a-822f-844e25e2df3c",
   "metadata": {
    "papermill": {
     "duration": 0.004828,
     "end_time": "2022-04-29T16:41:08.999214",
     "exception": false,
     "start_time": "2022-04-29T16:41:08.994386",
     "status": "completed"
    },
    "tags": []
   },
   "source": [
    "# Modules"
   ]
  },
  {
   "cell_type": "code",
   "execution_count": null,
   "id": "51c7f21f-6578-4fed-bab7-5b7ec93aee12",
   "metadata": {
    "papermill": {
     "duration": 0.052489,
     "end_time": "2022-04-29T16:41:09.055928",
     "exception": false,
     "start_time": "2022-04-29T16:41:09.003439",
     "status": "completed"
    },
    "tags": []
   },
   "outputs": [],
   "source": [
    "import re\n",
    "import subprocess\n",
    "from pathlib import Path\n",
    "import tempfile\n",
    "import shutil\n",
    "from concurrent.futures import ProcessPoolExecutor, as_completed\n",
    "\n",
    "import numpy as np\n",
    "import pandas as pd\n",
    "\n",
    "import conf\n",
    "from utils import chunker"
   ]
  },
  {
   "cell_type": "markdown",
   "id": "87debc89-f58c-4f2f-9dca-9fb2ea8c9240",
   "metadata": {
    "papermill": {
     "duration": 0.002118,
     "end_time": "2022-04-29T16:41:09.061152",
     "exception": false,
     "start_time": "2022-04-29T16:41:09.059034",
     "status": "completed"
    },
    "tags": []
   },
   "source": [
    "# Paths"
   ]
  },
  {
   "cell_type": "code",
   "execution_count": null,
   "id": "53e10c21-6544-4918-9bd4-4891a8215d93",
   "metadata": {
    "papermill": {
     "duration": 0.012635,
     "end_time": "2022-04-29T16:41:09.076031",
     "exception": false,
     "start_time": "2022-04-29T16:41:09.063396",
     "status": "completed"
    },
    "tags": []
   },
   "outputs": [],
   "source": [
    "GWAS_DIR = conf.RESULTS[\"GLS_NULL_SIMS\"] / \"gwas\"\n",
    "display(GWAS_DIR)"
   ]
  },
  {
   "cell_type": "code",
   "execution_count": null,
   "id": "9586ae85-09a5-4568-b41f-beeb19538bf3",
   "metadata": {
    "papermill": {
     "duration": 0.007764,
     "end_time": "2022-04-29T16:41:09.086282",
     "exception": false,
     "start_time": "2022-04-29T16:41:09.078518",
     "status": "completed"
    },
    "tags": []
   },
   "outputs": [],
   "source": [
    "PLINK2 = conf.PLINK[\"EXECUTABLE_VERSION_2\"]\n",
    "display(PLINK2)"
   ]
  },
  {
   "cell_type": "markdown",
   "id": "026381fc-1e42-48f6-a098-46861bda2bd8",
   "metadata": {
    "papermill": {
     "duration": 0.002387,
     "end_time": "2022-04-29T16:41:09.091244",
     "exception": false,
     "start_time": "2022-04-29T16:41:09.088857",
     "status": "completed"
    },
    "tags": []
   },
   "source": [
    "# GWAS results files"
   ]
  },
  {
   "cell_type": "code",
   "execution_count": null,
   "id": "d6517519-2bbd-49a4-8499-9a429935acfb",
   "metadata": {
    "papermill": {
     "duration": 0.010135,
     "end_time": "2022-04-29T16:41:09.103828",
     "exception": false,
     "start_time": "2022-04-29T16:41:09.093693",
     "status": "completed"
    },
    "tags": []
   },
   "outputs": [],
   "source": [
    "gwas_files = sorted(list(GWAS_DIR.glob(\"*.glm.linear\")))\n",
    "display(len(gwas_files))\n",
    "display(gwas_files[:10])"
   ]
  },
  {
   "cell_type": "markdown",
   "id": "ede5d5fc-3c7d-40c6-b21f-24624f503d88",
   "metadata": {
    "papermill": {
     "duration": 0.002517,
     "end_time": "2022-04-29T16:41:09.109108",
     "exception": false,
     "start_time": "2022-04-29T16:41:09.106591",
     "status": "completed"
    },
    "tags": []
   },
   "source": [
    "# Check inflation factor"
   ]
  },
  {
   "cell_type": "code",
   "execution_count": null,
   "id": "d808fd2b-e71f-493e-848a-8b2c64636fa0",
   "metadata": {
    "papermill": {
     "duration": 0.007761,
     "end_time": "2022-04-29T16:41:09.120402",
     "exception": false,
     "start_time": "2022-04-29T16:41:09.112641",
     "status": "completed"
    },
    "tags": []
   },
   "outputs": [],
   "source": [
    "PAT = re.compile(\n",
    "    r\"Genomic inflation est\\. lambda \\(based on median chisq\\) = (?P<inf_factor>[0-9\\.]+)\\.\"\n",
    ")"
   ]
  },
  {
   "cell_type": "code",
   "execution_count": null,
   "id": "7a89c1ab-d70c-4df6-8a37-d17dfe403375",
   "metadata": {
    "papermill": {
     "duration": 0.008074,
     "end_time": "2022-04-29T16:41:09.131267",
     "exception": false,
     "start_time": "2022-04-29T16:41:09.123193",
     "status": "completed"
    },
    "tags": []
   },
   "outputs": [],
   "source": [
    "# testing\n",
    "input_text = \"\"\"\n",
    "PLINK v2.00a3LM 64-bit Intel (26 Apr 2022)     www.cog-genomics.org/plink/2.0/\n",
    "(C) 2005-2022 Shaun Purcell, Christopher Chang   GNU General Public License v3\n",
    "Logging to plink2.log.\n",
    "Options in effect:\n",
    "  --adjust-file /opt/data/data/1000g/genotypes/gwas/random.pheno0.glm.linear test=ADD\n",
    "\n",
    "Start time: Fri Apr 29 16:12:24 2022\n",
    "64185 MiB RAM detected; reserving 32092 MiB for main workspace.\n",
    "Using up to 4 compute threads.\n",
    "--adjust: Genomic inflation est. lambda (based on median chisq) = 1.00316.\n",
    "--adjust-file values (5923554 tests) written to plink2.adjusted .\n",
    "End time: Fri Apr 29 16:12:33 2022\n",
    "\"\"\"\n",
    "\n",
    "m = PAT.search(input_text)\n",
    "assert m.group(\"inf_factor\") == \"1.00316\""
   ]
  },
  {
   "cell_type": "code",
   "execution_count": null,
   "id": "f12e2b07-712c-48e0-b51d-0c8923967ba8",
   "metadata": {
    "papermill": {
     "duration": 0.008484,
     "end_time": "2022-04-29T16:41:09.142649",
     "exception": false,
     "start_time": "2022-04-29T16:41:09.134165",
     "status": "completed"
    },
    "tags": []
   },
   "outputs": [],
   "source": [
    "# testing\n",
    "input_text = \"\"\"\n",
    "PLINK v2.00a3LM 64-bit Intel (26 Apr 2022)     www.cog-genomics.org/plink/2.0/\n",
    "(C) 2005-2022 Shaun Purcell, Christopher Chang   GNU General Public License v3\n",
    "Logging to plink2.log.\n",
    "Options in effect:\n",
    "  --adjust-file base/data/1000g/genotypes/gwas/random.pheno1.glm.linear test=ADD\n",
    "\n",
    "Start time: Fri Apr 29 12:19:51 2022\n",
    "64185 MiB RAM detected; reserving 32092 MiB for main workspace.\n",
    "Using up to 4 compute threads.\n",
    "--adjust: Genomic inflation est. lambda (based on median chisq) = 1.\n",
    "--adjust-file values (5923554 tests) written to plink2.adjusted .\n",
    "End time: Fri Apr 29 12:19:59 2022\n",
    "\"\"\"\n",
    "\n",
    "m = PAT.search(input_text)\n",
    "display(m.group(\"inf_factor\"))\n",
    "assert m.group(\"inf_factor\") == \"1\""
   ]
  },
  {
   "cell_type": "code",
   "execution_count": null,
   "id": "71014ff7-11cd-4167-a5af-c07256f7ff84",
   "metadata": {},
   "outputs": [],
   "source": [
    "def _compute_inflation_factor(gwas_files_group):\n",
    "    res = {}\n",
    "    for gwas_file in gwas_files_group:\n",
    "        output_dir = Path(tempfile.mkdtemp(prefix=\"plink-adjust-\"))\n",
    "        output_file = output_dir / \"outfile\"\n",
    "        result = subprocess.run(\n",
    "            [\n",
    "                PLINK2,\n",
    "                \"--adjust-file\",\n",
    "                str(gwas_file),\n",
    "                \"test=ADD\",\n",
    "                \"--out\",\n",
    "                str(output_file),\n",
    "            ],\n",
    "            stdout=subprocess.PIPE,\n",
    "        )\n",
    "\n",
    "        assert result.returncode == 0\n",
    "\n",
    "        result_output = result.stdout.decode(\"utf-8\")\n",
    "        inf_factor = float(PAT.search(result_output).group(\"inf_factor\"))\n",
    "        res[gwas_file.name] = inf_factor\n",
    "\n",
    "        # delete temporary folder\n",
    "        shutil.rmtree(output_dir)\n",
    "\n",
    "    return res"
   ]
  },
  {
   "cell_type": "code",
   "execution_count": null,
   "id": "d0c129a1-67f4-45c4-ac8b-7bd3bd8154d7",
   "metadata": {},
   "outputs": [],
   "source": [
    "# testing\n",
    "_gwas_file = gwas_files[0]\n",
    "display(_gwas_file)\n",
    "\n",
    "_tmp = _compute_inflation_factor([_gwas_file])\n",
    "assert _tmp is not None\n",
    "assert _gwas_file.name in _tmp\n",
    "display(_tmp)\n",
    "assert 1.005 >= _tmp[_gwas_file.name] >= 1.0"
   ]
  },
  {
   "cell_type": "code",
   "execution_count": null,
   "id": "b203ea4e-6930-4f7a-98ed-11830bd32f07",
   "metadata": {},
   "outputs": [],
   "source": [
    "gwas_files_chunks = list(chunker(gwas_files, 10))"
   ]
  },
  {
   "cell_type": "code",
   "execution_count": null,
   "id": "781867e0-8be1-48ba-a176-19d60449f4b1",
   "metadata": {},
   "outputs": [],
   "source": [
    "len(gwas_files_chunks)"
   ]
  },
  {
   "cell_type": "code",
   "execution_count": null,
   "id": "6290a832-c114-408f-ba86-934afdfae71b",
   "metadata": {},
   "outputs": [],
   "source": [
    "all_results = {}\n",
    "with ProcessPoolExecutor(max_workers=conf.GENERAL[\"N_JOBS\"]) as executor:\n",
    "    tasks = [\n",
    "        executor.submit(_compute_inflation_factor, chunk) for chunk in gwas_files_chunks\n",
    "    ]\n",
    "    for future in as_completed(tasks):\n",
    "        res = future.result()\n",
    "        all_results.update(res)"
   ]
  },
  {
   "cell_type": "code",
   "execution_count": null,
   "id": "4bd2773c-e8e2-4ba0-9d85-3d3bc1a8465b",
   "metadata": {},
   "outputs": [],
   "source": [
    "assert len(all_results) == len(gwas_files)"
   ]
  },
  {
   "cell_type": "markdown",
   "id": "1e6e8c3b-0f42-4af0-95c5-2522db481682",
   "metadata": {},
   "source": [
    "# Create dataframe"
   ]
  },
  {
   "cell_type": "code",
   "execution_count": null,
   "id": "e39ffd98-bcfd-4bc4-901d-1ed3837d092c",
   "metadata": {
    "papermill": {
     "duration": 981.453547,
     "end_time": "2022-04-29T16:57:30.599137",
     "exception": false,
     "start_time": "2022-04-29T16:41:09.145590",
     "status": "completed"
    },
    "tags": []
   },
   "outputs": [],
   "source": [
    "all_results_df = pd.Series(all_results, name=\"inflation_factor\")"
   ]
  },
  {
   "cell_type": "code",
   "execution_count": null,
   "id": "4220f35a-be09-4792-86f2-3dab78ec5478",
   "metadata": {},
   "outputs": [],
   "source": [
    "all_results_df.shape"
   ]
  },
  {
   "cell_type": "code",
   "execution_count": null,
   "id": "209dd76c-ae3c-4742-8f96-797ef569ec43",
   "metadata": {},
   "outputs": [],
   "source": [
    "all_results_df.head()"
   ]
  },
  {
   "cell_type": "markdown",
   "id": "ef8c1077-67b4-4a68-9856-17ebc6c6b2ae",
   "metadata": {},
   "source": [
    "# Checks"
   ]
  },
  {
   "cell_type": "code",
   "execution_count": null,
   "id": "bf2ce932-98c2-4aca-8198-2c07bab3ff6a",
   "metadata": {},
   "outputs": [],
   "source": [
    "all_results.describe()"
   ]
  },
  {
   "cell_type": "code",
   "execution_count": null,
   "id": "30b016e6-081f-40b1-9d60-426009d10191",
   "metadata": {},
   "outputs": [],
   "source": [
    "assert all_results.min() >= 1.0\n",
    "assert all_results.max() <= 1.015"
   ]
  },
  {
   "cell_type": "code",
   "execution_count": null,
   "id": "73b69a34-b900-4f66-9f5c-88317014121a",
   "metadata": {},
   "outputs": [],
   "source": []
  }
 ],
 "metadata": {
  "jupytext": {
   "cell_metadata_filter": "all,-execution,-papermill,-trusted"
  },
  "kernelspec": {
   "display_name": "Python 3 (ipykernel)",
   "language": "python",
   "name": "python3"
  },
  "language_info": {
   "codemirror_mode": {
    "name": "ipython",
    "version": 3
   },
   "file_extension": ".py",
   "mimetype": "text/x-python",
   "name": "python",
   "nbconvert_exporter": "python",
   "pygments_lexer": "ipython3",
   "version": "3.8.13"
  },
  "papermill": {
   "default_parameters": {},
   "duration": 983.33988,
   "end_time": "2022-04-29T16:57:30.864716",
   "environment_variables": {},
   "exception": null,
   "input_path": "nbs/15_gsa_gls/20-null_simulations/09_03-gwas-inflation_factor.ipynb",
   "output_path": "nbs/15_gsa_gls/20-null_simulations/09_03-gwas-inflation_factor.run.ipynb",
   "parameters": {},
   "start_time": "2022-04-29T16:41:07.524836",
   "version": "2.3.4"
  }
 },
 "nbformat": 4,
 "nbformat_minor": 5
}
