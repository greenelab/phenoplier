{
 "cells": [
  {
   "cell_type": "markdown",
   "id": "0cfc647f-0ac4-43b1-b80b-1468c3223332",
   "metadata": {
    "papermill": {
     "duration": 0.020068,
     "end_time": "2022-06-08T18:26:42.969790",
     "exception": false,
     "start_time": "2022-06-08T18:26:42.949722",
     "status": "completed"
    },
    "tags": []
   },
   "source": [
    "# Description"
   ]
  },
  {
   "cell_type": "markdown",
   "id": "dd6ced0f-9243-46aa-a390-1868e1a24b39",
   "metadata": {
    "papermill": {
     "duration": 0.009176,
     "end_time": "2022-06-08T18:26:42.996024",
     "exception": false,
     "start_time": "2022-06-08T18:26:42.986848",
     "status": "completed"
    },
    "tags": []
   },
   "source": [
    "It runs PLINK2 on GWAS results to check that the genomic inflation factor is withint acceptable limits."
   ]
  },
  {
   "cell_type": "markdown",
   "id": "41d0fadb-850a-486a-822f-844e25e2df3c",
   "metadata": {
    "papermill": {
     "duration": 0.005287,
     "end_time": "2022-06-08T18:26:43.007928",
     "exception": false,
     "start_time": "2022-06-08T18:26:43.002641",
     "status": "completed"
    },
    "tags": []
   },
   "source": [
    "# Modules"
   ]
  },
  {
   "cell_type": "code",
   "execution_count": 1,
   "id": "51c7f21f-6578-4fed-bab7-5b7ec93aee12",
   "metadata": {
    "execution": {
     "iopub.execute_input": "2022-06-08T18:26:43.018013Z",
     "iopub.status.busy": "2022-06-08T18:26:43.017755Z",
     "iopub.status.idle": "2022-06-08T18:26:43.271682Z",
     "shell.execute_reply": "2022-06-08T18:26:43.271063Z"
    },
    "papermill": {
     "duration": 0.260736,
     "end_time": "2022-06-08T18:26:43.273443",
     "exception": false,
     "start_time": "2022-06-08T18:26:43.012707",
     "status": "completed"
    },
    "tags": []
   },
   "outputs": [],
   "source": [
    "import re\n",
    "import subprocess\n",
    "from pathlib import Path\n",
    "import tempfile\n",
    "import shutil\n",
    "from concurrent.futures import ProcessPoolExecutor, as_completed\n",
    "\n",
    "import numpy as np\n",
    "import pandas as pd\n",
    "\n",
    "import conf\n",
    "from utils import chunker"
   ]
  },
  {
   "cell_type": "markdown",
   "id": "87debc89-f58c-4f2f-9dca-9fb2ea8c9240",
   "metadata": {
    "papermill": {
     "duration": 0.00405,
     "end_time": "2022-06-08T18:26:43.282031",
     "exception": false,
     "start_time": "2022-06-08T18:26:43.277981",
     "status": "completed"
    },
    "tags": []
   },
   "source": [
    "# Paths"
   ]
  },
  {
   "cell_type": "code",
   "execution_count": 2,
   "id": "53e10c21-6544-4918-9bd4-4891a8215d93",
   "metadata": {
    "execution": {
     "iopub.execute_input": "2022-06-08T18:26:43.292449Z",
     "iopub.status.busy": "2022-06-08T18:26:43.292239Z",
     "iopub.status.idle": "2022-06-08T18:26:43.300536Z",
     "shell.execute_reply": "2022-06-08T18:26:43.300053Z"
    },
    "papermill": {
     "duration": 0.015761,
     "end_time": "2022-06-08T18:26:43.302086",
     "exception": false,
     "start_time": "2022-06-08T18:26:43.286325",
     "status": "completed"
    },
    "tags": []
   },
   "outputs": [
    {
     "data": {
      "text/plain": [
       "PosixPath('/opt/data/results/gls/null_sims/gwas')"
      ]
     },
     "metadata": {},
     "output_type": "display_data"
    }
   ],
   "source": [
    "GWAS_DIR = conf.RESULTS[\"GLS_NULL_SIMS\"] / \"gwas\"\n",
    "display(GWAS_DIR)"
   ]
  },
  {
   "cell_type": "code",
   "execution_count": 3,
   "id": "9586ae85-09a5-4568-b41f-beeb19538bf3",
   "metadata": {
    "execution": {
     "iopub.execute_input": "2022-06-08T18:26:43.311989Z",
     "iopub.status.busy": "2022-06-08T18:26:43.311828Z",
     "iopub.status.idle": "2022-06-08T18:26:43.315226Z",
     "shell.execute_reply": "2022-06-08T18:26:43.314868Z"
    },
    "papermill": {
     "duration": 0.009988,
     "end_time": "2022-06-08T18:26:43.316666",
     "exception": false,
     "start_time": "2022-06-08T18:26:43.306678",
     "status": "completed"
    },
    "tags": []
   },
   "outputs": [
    {
     "data": {
      "text/plain": [
       "PosixPath('/opt/data/software/plink/plink2')"
      ]
     },
     "metadata": {},
     "output_type": "display_data"
    }
   ],
   "source": [
    "PLINK2 = conf.PLINK[\"EXECUTABLE_VERSION_2\"]\n",
    "display(PLINK2)"
   ]
  },
  {
   "cell_type": "markdown",
   "id": "026381fc-1e42-48f6-a098-46861bda2bd8",
   "metadata": {
    "papermill": {
     "duration": 0.004357,
     "end_time": "2022-06-08T18:26:43.325605",
     "exception": false,
     "start_time": "2022-06-08T18:26:43.321248",
     "status": "completed"
    },
    "tags": []
   },
   "source": [
    "# GWAS results files"
   ]
  },
  {
   "cell_type": "code",
   "execution_count": 4,
   "id": "d6517519-2bbd-49a4-8499-9a429935acfb",
   "metadata": {
    "execution": {
     "iopub.execute_input": "2022-06-08T18:26:43.335311Z",
     "iopub.status.busy": "2022-06-08T18:26:43.335116Z",
     "iopub.status.idle": "2022-06-08T18:26:43.349048Z",
     "shell.execute_reply": "2022-06-08T18:26:43.348401Z"
    },
    "papermill": {
     "duration": 0.020442,
     "end_time": "2022-06-08T18:26:43.350431",
     "exception": false,
     "start_time": "2022-06-08T18:26:43.329989",
     "status": "completed"
    },
    "tags": []
   },
   "outputs": [
    {
     "data": {
      "text/plain": [
       "10"
      ]
     },
     "metadata": {},
     "output_type": "display_data"
    },
    {
     "data": {
      "text/plain": [
       "[PosixPath('/opt/data/results/gls/null_sims/gwas/random.pheno0.glm.linear'),\n",
       " PosixPath('/opt/data/results/gls/null_sims/gwas/random.pheno1.glm.linear'),\n",
       " PosixPath('/opt/data/results/gls/null_sims/gwas/random.pheno10.glm.linear'),\n",
       " PosixPath('/opt/data/results/gls/null_sims/gwas/random.pheno100.glm.linear'),\n",
       " PosixPath('/opt/data/results/gls/null_sims/gwas/random.pheno101.glm.linear'),\n",
       " PosixPath('/opt/data/results/gls/null_sims/gwas/random.pheno102.glm.linear'),\n",
       " PosixPath('/opt/data/results/gls/null_sims/gwas/random.pheno103.glm.linear'),\n",
       " PosixPath('/opt/data/results/gls/null_sims/gwas/random.pheno104.glm.linear'),\n",
       " PosixPath('/opt/data/results/gls/null_sims/gwas/random.pheno105.glm.linear'),\n",
       " PosixPath('/opt/data/results/gls/null_sims/gwas/random.pheno106.glm.linear')]"
      ]
     },
     "metadata": {},
     "output_type": "display_data"
    }
   ],
   "source": [
    "gwas_files = sorted(list(GWAS_DIR.glob(\"*.glm.linear\")))\n",
    "display(len(gwas_files))\n",
    "display(gwas_files[:10])"
   ]
  },
  {
   "cell_type": "markdown",
   "id": "ede5d5fc-3c7d-40c6-b21f-24624f503d88",
   "metadata": {
    "papermill": {
     "duration": 0.0046,
     "end_time": "2022-06-08T18:26:43.359769",
     "exception": false,
     "start_time": "2022-06-08T18:26:43.355169",
     "status": "completed"
    },
    "tags": []
   },
   "source": [
    "# Check inflation factor"
   ]
  },
  {
   "cell_type": "code",
   "execution_count": 5,
   "id": "d808fd2b-e71f-493e-848a-8b2c64636fa0",
   "metadata": {
    "execution": {
     "iopub.execute_input": "2022-06-08T18:26:43.370154Z",
     "iopub.status.busy": "2022-06-08T18:26:43.369986Z",
     "iopub.status.idle": "2022-06-08T18:26:43.372953Z",
     "shell.execute_reply": "2022-06-08T18:26:43.372522Z"
    },
    "papermill": {
     "duration": 0.009861,
     "end_time": "2022-06-08T18:26:43.374240",
     "exception": false,
     "start_time": "2022-06-08T18:26:43.364379",
     "status": "completed"
    },
    "tags": []
   },
   "outputs": [],
   "source": [
    "PAT = re.compile(\n",
    "    r\"Genomic inflation est\\. lambda \\(based on median chisq\\) = (?P<inf_factor>[0-9\\.]+)\\.\"\n",
    ")"
   ]
  },
  {
   "cell_type": "code",
   "execution_count": 6,
   "id": "7a89c1ab-d70c-4df6-8a37-d17dfe403375",
   "metadata": {
    "execution": {
     "iopub.execute_input": "2022-06-08T18:26:43.384483Z",
     "iopub.status.busy": "2022-06-08T18:26:43.384318Z",
     "iopub.status.idle": "2022-06-08T18:26:43.388018Z",
     "shell.execute_reply": "2022-06-08T18:26:43.387577Z"
    },
    "papermill": {
     "duration": 0.0103,
     "end_time": "2022-06-08T18:26:43.389284",
     "exception": false,
     "start_time": "2022-06-08T18:26:43.378984",
     "status": "completed"
    },
    "tags": []
   },
   "outputs": [],
   "source": [
    "# testing\n",
    "input_text = \"\"\"\n",
    "PLINK v2.00a3LM 64-bit Intel (26 Apr 2022)     www.cog-genomics.org/plink/2.0/\n",
    "(C) 2005-2022 Shaun Purcell, Christopher Chang   GNU General Public License v3\n",
    "Logging to plink2.log.\n",
    "Options in effect:\n",
    "  --adjust-file /opt/data/data/1000g/genotypes/gwas/random.pheno0.glm.linear test=ADD\n",
    "\n",
    "Start time: Fri Apr 29 16:12:24 2022\n",
    "64185 MiB RAM detected; reserving 32092 MiB for main workspace.\n",
    "Using up to 4 compute threads.\n",
    "--adjust: Genomic inflation est. lambda (based on median chisq) = 1.00316.\n",
    "--adjust-file values (5923554 tests) written to plink2.adjusted .\n",
    "End time: Fri Apr 29 16:12:33 2022\n",
    "\"\"\"\n",
    "\n",
    "m = PAT.search(input_text)\n",
    "assert m.group(\"inf_factor\") == \"1.00316\""
   ]
  },
  {
   "cell_type": "code",
   "execution_count": 7,
   "id": "f12e2b07-712c-48e0-b51d-0c8923967ba8",
   "metadata": {
    "execution": {
     "iopub.execute_input": "2022-06-08T18:26:43.399614Z",
     "iopub.status.busy": "2022-06-08T18:26:43.399455Z",
     "iopub.status.idle": "2022-06-08T18:26:43.403623Z",
     "shell.execute_reply": "2022-06-08T18:26:43.403104Z"
    },
    "papermill": {
     "duration": 0.010984,
     "end_time": "2022-06-08T18:26:43.405046",
     "exception": false,
     "start_time": "2022-06-08T18:26:43.394062",
     "status": "completed"
    },
    "tags": []
   },
   "outputs": [
    {
     "data": {
      "text/plain": [
       "'1'"
      ]
     },
     "metadata": {},
     "output_type": "display_data"
    }
   ],
   "source": [
    "# testing\n",
    "input_text = \"\"\"\n",
    "PLINK v2.00a3LM 64-bit Intel (26 Apr 2022)     www.cog-genomics.org/plink/2.0/\n",
    "(C) 2005-2022 Shaun Purcell, Christopher Chang   GNU General Public License v3\n",
    "Logging to plink2.log.\n",
    "Options in effect:\n",
    "  --adjust-file base/data/1000g/genotypes/gwas/random.pheno1.glm.linear test=ADD\n",
    "\n",
    "Start time: Fri Apr 29 12:19:51 2022\n",
    "64185 MiB RAM detected; reserving 32092 MiB for main workspace.\n",
    "Using up to 4 compute threads.\n",
    "--adjust: Genomic inflation est. lambda (based on median chisq) = 1.\n",
    "--adjust-file values (5923554 tests) written to plink2.adjusted .\n",
    "End time: Fri Apr 29 12:19:59 2022\n",
    "\"\"\"\n",
    "\n",
    "m = PAT.search(input_text)\n",
    "display(m.group(\"inf_factor\"))\n",
    "assert m.group(\"inf_factor\") == \"1\""
   ]
  },
  {
   "cell_type": "code",
   "execution_count": 8,
   "id": "71014ff7-11cd-4167-a5af-c07256f7ff84",
   "metadata": {
    "execution": {
     "iopub.execute_input": "2022-06-08T18:26:43.415449Z",
     "iopub.status.busy": "2022-06-08T18:26:43.415283Z",
     "iopub.status.idle": "2022-06-08T18:26:43.419834Z",
     "shell.execute_reply": "2022-06-08T18:26:43.419438Z"
    },
    "papermill": {
     "duration": 0.011234,
     "end_time": "2022-06-08T18:26:43.421134",
     "exception": false,
     "start_time": "2022-06-08T18:26:43.409900",
     "status": "completed"
    },
    "tags": []
   },
   "outputs": [],
   "source": [
    "def _compute_inflation_factor(gwas_files_group):\n",
    "    res = {}\n",
    "    for gwas_file in gwas_files_group:\n",
    "        output_dir = Path(tempfile.mkdtemp(prefix=\"plink-adjust-\"))\n",
    "        output_file = output_dir / \"outfile\"\n",
    "        result = subprocess.run(\n",
    "            [\n",
    "                PLINK2,\n",
    "                \"--adjust-file\",\n",
    "                str(gwas_file),\n",
    "                \"test=ADD\",\n",
    "                \"--threads\",\n",
    "                str(conf.GENERAL[\"N_JOBS\"]),\n",
    "                \"--out\",\n",
    "                str(output_file),\n",
    "            ],\n",
    "            stdout=subprocess.PIPE,\n",
    "        )\n",
    "\n",
    "        assert result.returncode == 0\n",
    "\n",
    "        result_output = result.stdout.decode(\"utf-8\")\n",
    "        inf_factor = float(PAT.search(result_output).group(\"inf_factor\"))\n",
    "        res[gwas_file.name] = inf_factor\n",
    "\n",
    "        # delete temporary folder\n",
    "        shutil.rmtree(output_dir)\n",
    "\n",
    "    return res"
   ]
  },
  {
   "cell_type": "code",
   "execution_count": 9,
   "id": "d0c129a1-67f4-45c4-ac8b-7bd3bd8154d7",
   "metadata": {
    "execution": {
     "iopub.execute_input": "2022-06-08T18:26:43.431697Z",
     "iopub.status.busy": "2022-06-08T18:26:43.431501Z",
     "iopub.status.idle": "2022-06-08T18:26:51.568463Z",
     "shell.execute_reply": "2022-06-08T18:26:51.567866Z"
    },
    "papermill": {
     "duration": 8.144036,
     "end_time": "2022-06-08T18:26:51.570035",
     "exception": false,
     "start_time": "2022-06-08T18:26:43.425999",
     "status": "completed"
    },
    "tags": []
   },
   "outputs": [
    {
     "data": {
      "text/plain": [
       "PosixPath('/opt/data/results/gls/null_sims/gwas/random.pheno0.glm.linear')"
      ]
     },
     "metadata": {},
     "output_type": "display_data"
    },
    {
     "data": {
      "text/plain": [
       "{'random.pheno0.glm.linear': 1.00316}"
      ]
     },
     "metadata": {},
     "output_type": "display_data"
    }
   ],
   "source": [
    "# testing\n",
    "_gwas_file = gwas_files[0]\n",
    "display(_gwas_file)\n",
    "\n",
    "_tmp = _compute_inflation_factor([_gwas_file])\n",
    "assert _tmp is not None\n",
    "assert _gwas_file.name in _tmp\n",
    "display(_tmp)\n",
    "assert 1.005 >= _tmp[_gwas_file.name] >= 1.0"
   ]
  },
  {
   "cell_type": "code",
   "execution_count": 10,
   "id": "b203ea4e-6930-4f7a-98ed-11830bd32f07",
   "metadata": {
    "execution": {
     "iopub.execute_input": "2022-06-08T18:26:51.581776Z",
     "iopub.status.busy": "2022-06-08T18:26:51.581594Z",
     "iopub.status.idle": "2022-06-08T18:26:51.585291Z",
     "shell.execute_reply": "2022-06-08T18:26:51.584756Z"
    },
    "papermill": {
     "duration": 0.011188,
     "end_time": "2022-06-08T18:26:51.586698",
     "exception": false,
     "start_time": "2022-06-08T18:26:51.575510",
     "status": "completed"
    },
    "tags": []
   },
   "outputs": [],
   "source": [
    "gwas_files_chunks = list(\n",
    "    chunker(\n",
    "        gwas_files,\n",
    "        int(min(10, len(gwas_files) / conf.GENERAL[\"N_JOBS\"])),\n",
    "    )\n",
    ")"
   ]
  },
  {
   "cell_type": "code",
   "execution_count": 11,
   "id": "781867e0-8be1-48ba-a176-19d60449f4b1",
   "metadata": {
    "execution": {
     "iopub.execute_input": "2022-06-08T18:26:51.598101Z",
     "iopub.status.busy": "2022-06-08T18:26:51.597926Z",
     "iopub.status.idle": "2022-06-08T18:26:51.602043Z",
     "shell.execute_reply": "2022-06-08T18:26:51.601484Z"
    },
    "papermill": {
     "duration": 0.011362,
     "end_time": "2022-06-08T18:26:51.603442",
     "exception": false,
     "start_time": "2022-06-08T18:26:51.592080",
     "status": "completed"
    },
    "tags": []
   },
   "outputs": [
    {
     "data": {
      "text/plain": [
       "4"
      ]
     },
     "execution_count": 11,
     "metadata": {},
     "output_type": "execute_result"
    }
   ],
   "source": [
    "len(gwas_files_chunks)"
   ]
  },
  {
   "cell_type": "code",
   "execution_count": 12,
   "id": "6290a832-c114-408f-ba86-934afdfae71b",
   "metadata": {
    "execution": {
     "iopub.execute_input": "2022-06-08T18:26:51.614647Z",
     "iopub.status.busy": "2022-06-08T18:26:51.614453Z",
     "iopub.status.idle": "2022-06-08T18:27:25.440804Z",
     "shell.execute_reply": "2022-06-08T18:27:25.439978Z"
    },
    "papermill": {
     "duration": 33.833819,
     "end_time": "2022-06-08T18:27:25.442639",
     "exception": false,
     "start_time": "2022-06-08T18:26:51.608820",
     "status": "completed"
    },
    "tags": []
   },
   "outputs": [],
   "source": [
    "all_results = {}\n",
    "\n",
    "with ProcessPoolExecutor(max_workers=conf.GENERAL[\"N_JOBS\"]) as executor:\n",
    "    tasks = [\n",
    "        executor.submit(_compute_inflation_factor, chunk) for chunk in gwas_files_chunks\n",
    "    ]\n",
    "    for future in as_completed(tasks):\n",
    "        res = future.result()\n",
    "        all_results.update(res)"
   ]
  },
  {
   "cell_type": "code",
   "execution_count": 13,
   "id": "4bd2773c-e8e2-4ba0-9d85-3d3bc1a8465b",
   "metadata": {
    "execution": {
     "iopub.execute_input": "2022-06-08T18:27:25.455269Z",
     "iopub.status.busy": "2022-06-08T18:27:25.455076Z",
     "iopub.status.idle": "2022-06-08T18:27:25.458524Z",
     "shell.execute_reply": "2022-06-08T18:27:25.458064Z"
    },
    "papermill": {
     "duration": 0.01132,
     "end_time": "2022-06-08T18:27:25.459952",
     "exception": false,
     "start_time": "2022-06-08T18:27:25.448632",
     "status": "completed"
    },
    "tags": []
   },
   "outputs": [],
   "source": [
    "assert len(all_results) == len(gwas_files)"
   ]
  },
  {
   "cell_type": "markdown",
   "id": "1e6e8c3b-0f42-4af0-95c5-2522db481682",
   "metadata": {
    "papermill": {
     "duration": 0.005119,
     "end_time": "2022-06-08T18:27:25.470543",
     "exception": false,
     "start_time": "2022-06-08T18:27:25.465424",
     "status": "completed"
    },
    "tags": []
   },
   "source": [
    "# Create dataframe"
   ]
  },
  {
   "cell_type": "code",
   "execution_count": 14,
   "id": "e39ffd98-bcfd-4bc4-901d-1ed3837d092c",
   "metadata": {
    "execution": {
     "iopub.execute_input": "2022-06-08T18:27:25.481401Z",
     "iopub.status.busy": "2022-06-08T18:27:25.481229Z",
     "iopub.status.idle": "2022-06-08T18:27:25.485310Z",
     "shell.execute_reply": "2022-06-08T18:27:25.484823Z"
    },
    "papermill": {
     "duration": 0.010959,
     "end_time": "2022-06-08T18:27:25.486637",
     "exception": false,
     "start_time": "2022-06-08T18:27:25.475678",
     "status": "completed"
    },
    "tags": []
   },
   "outputs": [],
   "source": [
    "all_results_df = pd.Series(all_results, name=\"inflation_factor\").rename_axis(\n",
    "    \"phenotype_code\"\n",
    ")"
   ]
  },
  {
   "cell_type": "code",
   "execution_count": 15,
   "id": "4220f35a-be09-4792-86f2-3dab78ec5478",
   "metadata": {
    "execution": {
     "iopub.execute_input": "2022-06-08T18:27:25.497364Z",
     "iopub.status.busy": "2022-06-08T18:27:25.497173Z",
     "iopub.status.idle": "2022-06-08T18:27:25.501356Z",
     "shell.execute_reply": "2022-06-08T18:27:25.500701Z"
    },
    "papermill": {
     "duration": 0.011142,
     "end_time": "2022-06-08T18:27:25.502792",
     "exception": false,
     "start_time": "2022-06-08T18:27:25.491650",
     "status": "completed"
    },
    "tags": []
   },
   "outputs": [
    {
     "data": {
      "text/plain": [
       "(10,)"
      ]
     },
     "execution_count": 15,
     "metadata": {},
     "output_type": "execute_result"
    }
   ],
   "source": [
    "all_results_df.shape"
   ]
  },
  {
   "cell_type": "code",
   "execution_count": 16,
   "id": "209dd76c-ae3c-4742-8f96-797ef569ec43",
   "metadata": {
    "execution": {
     "iopub.execute_input": "2022-06-08T18:27:25.513708Z",
     "iopub.status.busy": "2022-06-08T18:27:25.513547Z",
     "iopub.status.idle": "2022-06-08T18:27:25.518341Z",
     "shell.execute_reply": "2022-06-08T18:27:25.517859Z"
    },
    "papermill": {
     "duration": 0.011809,
     "end_time": "2022-06-08T18:27:25.519736",
     "exception": false,
     "start_time": "2022-06-08T18:27:25.507927",
     "status": "completed"
    },
    "tags": []
   },
   "outputs": [
    {
     "data": {
      "text/plain": [
       "phenotype_code\n",
       "random.pheno0.glm.linear      1.00316\n",
       "random.pheno1.glm.linear      1.00000\n",
       "random.pheno10.glm.linear     1.00462\n",
       "random.pheno100.glm.linear    1.00398\n",
       "random.pheno101.glm.linear    1.00671\n",
       "Name: inflation_factor, dtype: float64"
      ]
     },
     "execution_count": 16,
     "metadata": {},
     "output_type": "execute_result"
    }
   ],
   "source": [
    "all_results_df.head()"
   ]
  },
  {
   "cell_type": "markdown",
   "id": "ef8c1077-67b4-4a68-9856-17ebc6c6b2ae",
   "metadata": {
    "papermill": {
     "duration": 0.005034,
     "end_time": "2022-06-08T18:27:25.530008",
     "exception": false,
     "start_time": "2022-06-08T18:27:25.524974",
     "status": "completed"
    },
    "tags": []
   },
   "source": [
    "# Checks"
   ]
  },
  {
   "cell_type": "code",
   "execution_count": 17,
   "id": "bf2ce932-98c2-4aca-8198-2c07bab3ff6a",
   "metadata": {
    "execution": {
     "iopub.execute_input": "2022-06-08T18:27:25.540931Z",
     "iopub.status.busy": "2022-06-08T18:27:25.540708Z",
     "iopub.status.idle": "2022-06-08T18:27:25.548422Z",
     "shell.execute_reply": "2022-06-08T18:27:25.547999Z"
    },
    "papermill": {
     "duration": 0.014628,
     "end_time": "2022-06-08T18:27:25.549699",
     "exception": false,
     "start_time": "2022-06-08T18:27:25.535071",
     "status": "completed"
    },
    "tags": []
   },
   "outputs": [
    {
     "data": {
      "text/plain": [
       "count    10.000000\n",
       "mean      1.002978\n",
       "std       0.003821\n",
       "min       1.000000\n",
       "25%       1.000000\n",
       "50%       1.001580\n",
       "75%       1.004460\n",
       "max       1.011310\n",
       "Name: inflation_factor, dtype: float64"
      ]
     },
     "execution_count": 17,
     "metadata": {},
     "output_type": "execute_result"
    }
   ],
   "source": [
    "all_results_df.describe()"
   ]
  },
  {
   "cell_type": "code",
   "execution_count": 18,
   "id": "30b016e6-081f-40b1-9d60-426009d10191",
   "metadata": {
    "execution": {
     "iopub.execute_input": "2022-06-08T18:27:25.561032Z",
     "iopub.status.busy": "2022-06-08T18:27:25.560869Z",
     "iopub.status.idle": "2022-06-08T18:27:25.563943Z",
     "shell.execute_reply": "2022-06-08T18:27:25.563547Z"
    },
    "papermill": {
     "duration": 0.010157,
     "end_time": "2022-06-08T18:27:25.565232",
     "exception": false,
     "start_time": "2022-06-08T18:27:25.555075",
     "status": "completed"
    },
    "tags": []
   },
   "outputs": [],
   "source": [
    "assert all_results_df.min() >= 1.0\n",
    "assert all_results_df.max() <= 1.04"
   ]
  },
  {
   "cell_type": "code",
   "execution_count": 19,
   "id": "46db0556-1e81-4330-9cbd-0b233aa49099",
   "metadata": {
    "execution": {
     "iopub.execute_input": "2022-06-08T18:27:25.576995Z",
     "iopub.status.busy": "2022-06-08T18:27:25.576498Z",
     "iopub.status.idle": "2022-06-08T18:27:25.581702Z",
     "shell.execute_reply": "2022-06-08T18:27:25.581265Z"
    },
    "papermill": {
     "duration": 0.012464,
     "end_time": "2022-06-08T18:27:25.583027",
     "exception": false,
     "start_time": "2022-06-08T18:27:25.570563",
     "status": "completed"
    },
    "tags": []
   },
   "outputs": [
    {
     "data": {
      "text/plain": [
       "phenotype_code\n",
       "random.pheno106.glm.linear    1.01131\n",
       "random.pheno101.glm.linear    1.00671\n",
       "random.pheno10.glm.linear     1.00462\n",
       "random.pheno100.glm.linear    1.00398\n",
       "random.pheno0.glm.linear      1.00316\n",
       "random.pheno105.glm.linear    1.00000\n",
       "random.pheno104.glm.linear    1.00000\n",
       "random.pheno103.glm.linear    1.00000\n",
       "random.pheno102.glm.linear    1.00000\n",
       "random.pheno1.glm.linear      1.00000\n",
       "Name: inflation_factor, dtype: float64"
      ]
     },
     "execution_count": 19,
     "metadata": {},
     "output_type": "execute_result"
    }
   ],
   "source": [
    "all_results_df.sort_values(ascending=False).head(20)"
   ]
  },
  {
   "cell_type": "markdown",
   "id": "36fdcb73-b263-43c5-a506-7fae28c0fe71",
   "metadata": {
    "papermill": {
     "duration": 0.005086,
     "end_time": "2022-06-08T18:27:25.593532",
     "exception": false,
     "start_time": "2022-06-08T18:27:25.588446",
     "status": "completed"
    },
    "tags": []
   },
   "source": [
    "# Save"
   ]
  },
  {
   "cell_type": "code",
   "execution_count": 20,
   "id": "73b69a34-b900-4f66-9f5c-88317014121a",
   "metadata": {
    "execution": {
     "iopub.execute_input": "2022-06-08T18:27:25.604852Z",
     "iopub.status.busy": "2022-06-08T18:27:25.604656Z",
     "iopub.status.idle": "2022-06-08T18:27:25.610132Z",
     "shell.execute_reply": "2022-06-08T18:27:25.609685Z"
    },
    "papermill": {
     "duration": 0.012678,
     "end_time": "2022-06-08T18:27:25.611504",
     "exception": false,
     "start_time": "2022-06-08T18:27:25.598826",
     "status": "completed"
    },
    "tags": []
   },
   "outputs": [],
   "source": [
    "all_results_df.to_csv(\n",
    "    conf.RESULTS[\"GLS_NULL_SIMS\"] / \"random_pheno-gwas-inflation_factors.tsv\", sep=\"\\t\"\n",
    ")"
   ]
  }
 ],
 "metadata": {
  "jupytext": {
   "cell_metadata_filter": "all,-execution,-papermill,-trusted"
  },
  "kernelspec": {
   "display_name": "Python 3 (ipykernel)",
   "language": "python",
   "name": "python3"
  },
  "language_info": {
   "codemirror_mode": {
    "name": "ipython",
    "version": 3
   },
   "file_extension": ".py",
   "mimetype": "text/x-python",
   "name": "python",
   "nbconvert_exporter": "python",
   "pygments_lexer": "ipython3",
   "version": "3.8.13"
  },
  "papermill": {
   "default_parameters": {},
   "duration": 44.10105,
   "end_time": "2022-06-08T18:27:25.835003",
   "environment_variables": {},
   "exception": null,
   "input_path": "nbs/15_gsa_gls/20-null_simulations/05_gwas/09_03-gwas-inflation_factor.ipynb",
   "output_path": "nbs/15_gsa_gls/20-null_simulations/05_gwas/09_03-gwas-inflation_factor.run.ipynb",
   "parameters": {},
   "start_time": "2022-06-08T18:26:41.733953",
   "version": "2.3.4"
  }
 },
 "nbformat": 4,
 "nbformat_minor": 5
}
