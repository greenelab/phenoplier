{
 "cells": [
  {
   "cell_type": "markdown",
   "id": "0cfc647f-0ac4-43b1-b80b-1468c3223332",
   "metadata": {
    "papermill": {
     "duration": 0.011016,
     "end_time": "2022-04-29T16:41:08.968779",
     "exception": false,
     "start_time": "2022-04-29T16:41:08.957763",
     "status": "completed"
    },
    "tags": []
   },
   "source": [
    "# Description"
   ]
  },
  {
   "cell_type": "markdown",
   "id": "dd6ced0f-9243-46aa-a390-1868e1a24b39",
   "metadata": {
    "papermill": {
     "duration": 0.008559,
     "end_time": "2022-04-29T16:41:08.986586",
     "exception": false,
     "start_time": "2022-04-29T16:41:08.978027",
     "status": "completed"
    },
    "tags": []
   },
   "source": [
    "It runs PLINK2 on GWAS results to check that the genomic inflation factor is withint acceptable limits."
   ]
  },
  {
   "cell_type": "markdown",
   "id": "41d0fadb-850a-486a-822f-844e25e2df3c",
   "metadata": {
    "papermill": {
     "duration": 0.004828,
     "end_time": "2022-04-29T16:41:08.999214",
     "exception": false,
     "start_time": "2022-04-29T16:41:08.994386",
     "status": "completed"
    },
    "tags": []
   },
   "source": [
    "# Modules"
   ]
  },
  {
   "cell_type": "code",
   "execution_count": 1,
   "id": "51c7f21f-6578-4fed-bab7-5b7ec93aee12",
   "metadata": {
    "papermill": {
     "duration": 0.052489,
     "end_time": "2022-04-29T16:41:09.055928",
     "exception": false,
     "start_time": "2022-04-29T16:41:09.003439",
     "status": "completed"
    },
    "tags": []
   },
   "outputs": [],
   "source": [
    "import re\n",
    "import subprocess\n",
    "\n",
    "import conf"
   ]
  },
  {
   "cell_type": "markdown",
   "id": "87debc89-f58c-4f2f-9dca-9fb2ea8c9240",
   "metadata": {
    "papermill": {
     "duration": 0.002118,
     "end_time": "2022-04-29T16:41:09.061152",
     "exception": false,
     "start_time": "2022-04-29T16:41:09.059034",
     "status": "completed"
    },
    "tags": []
   },
   "source": [
    "# Paths"
   ]
  },
  {
   "cell_type": "code",
   "execution_count": 2,
   "id": "53e10c21-6544-4918-9bd4-4891a8215d93",
   "metadata": {
    "papermill": {
     "duration": 0.012635,
     "end_time": "2022-04-29T16:41:09.076031",
     "exception": false,
     "start_time": "2022-04-29T16:41:09.063396",
     "status": "completed"
    },
    "tags": []
   },
   "outputs": [
    {
     "data": {
      "text/plain": [
       "PosixPath('/opt/data/results/gls/null_sims/gwas')"
      ]
     },
     "metadata": {},
     "output_type": "display_data"
    }
   ],
   "source": [
    "GWAS_DIR = conf.RESULTS[\"GLS_NULL_SIMS\"] / \"gwas\"\n",
    "display(GWAS_DIR)"
   ]
  },
  {
   "cell_type": "code",
   "execution_count": 3,
   "id": "9586ae85-09a5-4568-b41f-beeb19538bf3",
   "metadata": {
    "papermill": {
     "duration": 0.007764,
     "end_time": "2022-04-29T16:41:09.086282",
     "exception": false,
     "start_time": "2022-04-29T16:41:09.078518",
     "status": "completed"
    },
    "tags": []
   },
   "outputs": [
    {
     "data": {
      "text/plain": [
       "PosixPath('/opt/data/software/plink/plink2')"
      ]
     },
     "metadata": {},
     "output_type": "display_data"
    }
   ],
   "source": [
    "PLINK2 = conf.PLINK[\"EXECUTABLE_VERSION_2\"]\n",
    "display(PLINK2)"
   ]
  },
  {
   "cell_type": "markdown",
   "id": "026381fc-1e42-48f6-a098-46861bda2bd8",
   "metadata": {
    "papermill": {
     "duration": 0.002387,
     "end_time": "2022-04-29T16:41:09.091244",
     "exception": false,
     "start_time": "2022-04-29T16:41:09.088857",
     "status": "completed"
    },
    "tags": []
   },
   "source": [
    "# GWAS results files"
   ]
  },
  {
   "cell_type": "code",
   "execution_count": 4,
   "id": "d6517519-2bbd-49a4-8499-9a429935acfb",
   "metadata": {
    "papermill": {
     "duration": 0.010135,
     "end_time": "2022-04-29T16:41:09.103828",
     "exception": false,
     "start_time": "2022-04-29T16:41:09.093693",
     "status": "completed"
    },
    "tags": []
   },
   "outputs": [
    {
     "data": {
      "text/plain": [
       "100"
      ]
     },
     "metadata": {},
     "output_type": "display_data"
    },
    {
     "data": {
      "text/plain": [
       "[PosixPath('/opt/data/results/gls/null_sims/gwas/random.pheno0.glm.linear'),\n",
       " PosixPath('/opt/data/results/gls/null_sims/gwas/random.pheno1.glm.linear'),\n",
       " PosixPath('/opt/data/results/gls/null_sims/gwas/random.pheno10.glm.linear'),\n",
       " PosixPath('/opt/data/results/gls/null_sims/gwas/random.pheno11.glm.linear'),\n",
       " PosixPath('/opt/data/results/gls/null_sims/gwas/random.pheno12.glm.linear'),\n",
       " PosixPath('/opt/data/results/gls/null_sims/gwas/random.pheno13.glm.linear'),\n",
       " PosixPath('/opt/data/results/gls/null_sims/gwas/random.pheno14.glm.linear'),\n",
       " PosixPath('/opt/data/results/gls/null_sims/gwas/random.pheno15.glm.linear'),\n",
       " PosixPath('/opt/data/results/gls/null_sims/gwas/random.pheno16.glm.linear'),\n",
       " PosixPath('/opt/data/results/gls/null_sims/gwas/random.pheno17.glm.linear')]"
      ]
     },
     "metadata": {},
     "output_type": "display_data"
    }
   ],
   "source": [
    "gwas_files = sorted(list(GWAS_DIR.glob(\"*.glm.linear\")))\n",
    "display(len(gwas_files))\n",
    "display(gwas_files[:10])"
   ]
  },
  {
   "cell_type": "markdown",
   "id": "ede5d5fc-3c7d-40c6-b21f-24624f503d88",
   "metadata": {
    "papermill": {
     "duration": 0.002517,
     "end_time": "2022-04-29T16:41:09.109108",
     "exception": false,
     "start_time": "2022-04-29T16:41:09.106591",
     "status": "completed"
    },
    "tags": []
   },
   "source": [
    "# Check inflation factor"
   ]
  },
  {
   "cell_type": "code",
   "execution_count": 5,
   "id": "d808fd2b-e71f-493e-848a-8b2c64636fa0",
   "metadata": {
    "papermill": {
     "duration": 0.007761,
     "end_time": "2022-04-29T16:41:09.120402",
     "exception": false,
     "start_time": "2022-04-29T16:41:09.112641",
     "status": "completed"
    },
    "tags": []
   },
   "outputs": [],
   "source": [
    "PAT = re.compile(\n",
    "    r\"Genomic inflation est\\. lambda \\(based on median chisq\\) = (?P<inf_factor>[0-9\\.]+)\\.\"\n",
    ")"
   ]
  },
  {
   "cell_type": "code",
   "execution_count": 6,
   "id": "7a89c1ab-d70c-4df6-8a37-d17dfe403375",
   "metadata": {
    "papermill": {
     "duration": 0.008074,
     "end_time": "2022-04-29T16:41:09.131267",
     "exception": false,
     "start_time": "2022-04-29T16:41:09.123193",
     "status": "completed"
    },
    "tags": []
   },
   "outputs": [],
   "source": [
    "# testing\n",
    "input_text = \"\"\"\n",
    "PLINK v2.00a3LM 64-bit Intel (26 Apr 2022)     www.cog-genomics.org/plink/2.0/\n",
    "(C) 2005-2022 Shaun Purcell, Christopher Chang   GNU General Public License v3\n",
    "Logging to plink2.log.\n",
    "Options in effect:\n",
    "  --adjust-file /opt/data/data/1000g/genotypes/gwas/random.pheno0.glm.linear test=ADD\n",
    "\n",
    "Start time: Fri Apr 29 16:12:24 2022\n",
    "64185 MiB RAM detected; reserving 32092 MiB for main workspace.\n",
    "Using up to 4 compute threads.\n",
    "--adjust: Genomic inflation est. lambda (based on median chisq) = 1.00316.\n",
    "--adjust-file values (5923554 tests) written to plink2.adjusted .\n",
    "End time: Fri Apr 29 16:12:33 2022\n",
    "\"\"\"\n",
    "\n",
    "m = PAT.search(input_text)\n",
    "assert m.group(\"inf_factor\") == \"1.00316\""
   ]
  },
  {
   "cell_type": "code",
   "execution_count": 7,
   "id": "f12e2b07-712c-48e0-b51d-0c8923967ba8",
   "metadata": {
    "papermill": {
     "duration": 0.008484,
     "end_time": "2022-04-29T16:41:09.142649",
     "exception": false,
     "start_time": "2022-04-29T16:41:09.134165",
     "status": "completed"
    },
    "tags": []
   },
   "outputs": [
    {
     "data": {
      "text/plain": [
       "'1'"
      ]
     },
     "metadata": {},
     "output_type": "display_data"
    }
   ],
   "source": [
    "# testing\n",
    "input_text = \"\"\"\n",
    "PLINK v2.00a3LM 64-bit Intel (26 Apr 2022)     www.cog-genomics.org/plink/2.0/\n",
    "(C) 2005-2022 Shaun Purcell, Christopher Chang   GNU General Public License v3\n",
    "Logging to plink2.log.\n",
    "Options in effect:\n",
    "  --adjust-file base/data/1000g/genotypes/gwas/random.pheno1.glm.linear test=ADD\n",
    "\n",
    "Start time: Fri Apr 29 12:19:51 2022\n",
    "64185 MiB RAM detected; reserving 32092 MiB for main workspace.\n",
    "Using up to 4 compute threads.\n",
    "--adjust: Genomic inflation est. lambda (based on median chisq) = 1.\n",
    "--adjust-file values (5923554 tests) written to plink2.adjusted .\n",
    "End time: Fri Apr 29 12:19:59 2022\n",
    "\"\"\"\n",
    "\n",
    "m = PAT.search(input_text)\n",
    "display(m.group(\"inf_factor\"))\n",
    "assert m.group(\"inf_factor\") == \"1\""
   ]
  },
  {
   "cell_type": "code",
   "execution_count": 8,
   "id": "e39ffd98-bcfd-4bc4-901d-1ed3837d092c",
   "metadata": {
    "papermill": {
     "duration": 981.453547,
     "end_time": "2022-04-29T16:57:30.599137",
     "exception": false,
     "start_time": "2022-04-29T16:41:09.145590",
     "status": "completed"
    },
    "tags": []
   },
   "outputs": [
    {
     "data": {
      "text/plain": [
       "'random.pheno0.glm.linear: 1.00316'"
      ]
     },
     "metadata": {},
     "output_type": "display_data"
    },
    {
     "data": {
      "text/plain": [
       "'random.pheno1.glm.linear: 1.0'"
      ]
     },
     "metadata": {},
     "output_type": "display_data"
    },
    {
     "data": {
      "text/plain": [
       "'random.pheno10.glm.linear: 1.00462'"
      ]
     },
     "metadata": {},
     "output_type": "display_data"
    },
    {
     "data": {
      "text/plain": [
       "'random.pheno11.glm.linear: 1.0'"
      ]
     },
     "metadata": {},
     "output_type": "display_data"
    },
    {
     "data": {
      "text/plain": [
       "'random.pheno12.glm.linear: 1.0'"
      ]
     },
     "metadata": {},
     "output_type": "display_data"
    },
    {
     "data": {
      "text/plain": [
       "'random.pheno13.glm.linear: 1.0'"
      ]
     },
     "metadata": {},
     "output_type": "display_data"
    },
    {
     "data": {
      "text/plain": [
       "'random.pheno14.glm.linear: 1.0'"
      ]
     },
     "metadata": {},
     "output_type": "display_data"
    },
    {
     "data": {
      "text/plain": [
       "'random.pheno15.glm.linear: 1.0'"
      ]
     },
     "metadata": {},
     "output_type": "display_data"
    },
    {
     "data": {
      "text/plain": [
       "'random.pheno16.glm.linear: 1.00637'"
      ]
     },
     "metadata": {},
     "output_type": "display_data"
    },
    {
     "data": {
      "text/plain": [
       "'random.pheno17.glm.linear: 1.0'"
      ]
     },
     "metadata": {},
     "output_type": "display_data"
    },
    {
     "data": {
      "text/plain": [
       "'random.pheno18.glm.linear: 1.0'"
      ]
     },
     "metadata": {},
     "output_type": "display_data"
    },
    {
     "data": {
      "text/plain": [
       "'random.pheno19.glm.linear: 1.0'"
      ]
     },
     "metadata": {},
     "output_type": "display_data"
    },
    {
     "data": {
      "text/plain": [
       "'random.pheno2.glm.linear: 1.0'"
      ]
     },
     "metadata": {},
     "output_type": "display_data"
    },
    {
     "data": {
      "text/plain": [
       "'random.pheno20.glm.linear: 1.0'"
      ]
     },
     "metadata": {},
     "output_type": "display_data"
    },
    {
     "data": {
      "text/plain": [
       "'random.pheno21.glm.linear: 1.0'"
      ]
     },
     "metadata": {},
     "output_type": "display_data"
    },
    {
     "data": {
      "text/plain": [
       "'random.pheno22.glm.linear: 1.0'"
      ]
     },
     "metadata": {},
     "output_type": "display_data"
    },
    {
     "data": {
      "text/plain": [
       "'random.pheno23.glm.linear: 1.00324'"
      ]
     },
     "metadata": {},
     "output_type": "display_data"
    },
    {
     "data": {
      "text/plain": [
       "'random.pheno24.glm.linear: 1.0077'"
      ]
     },
     "metadata": {},
     "output_type": "display_data"
    },
    {
     "data": {
      "text/plain": [
       "'random.pheno25.glm.linear: 1.00197'"
      ]
     },
     "metadata": {},
     "output_type": "display_data"
    },
    {
     "data": {
      "text/plain": [
       "'random.pheno26.glm.linear: 1.00419'"
      ]
     },
     "metadata": {},
     "output_type": "display_data"
    },
    {
     "data": {
      "text/plain": [
       "'random.pheno27.glm.linear: 1.0'"
      ]
     },
     "metadata": {},
     "output_type": "display_data"
    },
    {
     "data": {
      "text/plain": [
       "'random.pheno28.glm.linear: 1.01284'"
      ]
     },
     "metadata": {},
     "output_type": "display_data"
    },
    {
     "data": {
      "text/plain": [
       "'random.pheno29.glm.linear: 1.0'"
      ]
     },
     "metadata": {},
     "output_type": "display_data"
    },
    {
     "data": {
      "text/plain": [
       "'random.pheno3.glm.linear: 1.00166'"
      ]
     },
     "metadata": {},
     "output_type": "display_data"
    },
    {
     "data": {
      "text/plain": [
       "'random.pheno30.glm.linear: 1.0'"
      ]
     },
     "metadata": {},
     "output_type": "display_data"
    },
    {
     "data": {
      "text/plain": [
       "'random.pheno31.glm.linear: 1.0'"
      ]
     },
     "metadata": {},
     "output_type": "display_data"
    },
    {
     "data": {
      "text/plain": [
       "'random.pheno32.glm.linear: 1.0'"
      ]
     },
     "metadata": {},
     "output_type": "display_data"
    },
    {
     "data": {
      "text/plain": [
       "'random.pheno33.glm.linear: 1.0'"
      ]
     },
     "metadata": {},
     "output_type": "display_data"
    },
    {
     "data": {
      "text/plain": [
       "'random.pheno34.glm.linear: 1.01079'"
      ]
     },
     "metadata": {},
     "output_type": "display_data"
    },
    {
     "data": {
      "text/plain": [
       "'random.pheno35.glm.linear: 1.0'"
      ]
     },
     "metadata": {},
     "output_type": "display_data"
    },
    {
     "data": {
      "text/plain": [
       "'random.pheno36.glm.linear: 1.0'"
      ]
     },
     "metadata": {},
     "output_type": "display_data"
    },
    {
     "data": {
      "text/plain": [
       "'random.pheno37.glm.linear: 1.0'"
      ]
     },
     "metadata": {},
     "output_type": "display_data"
    },
    {
     "data": {
      "text/plain": [
       "'random.pheno38.glm.linear: 1.00208'"
      ]
     },
     "metadata": {},
     "output_type": "display_data"
    },
    {
     "data": {
      "text/plain": [
       "'random.pheno39.glm.linear: 1.0'"
      ]
     },
     "metadata": {},
     "output_type": "display_data"
    },
    {
     "data": {
      "text/plain": [
       "'random.pheno4.glm.linear: 1.0'"
      ]
     },
     "metadata": {},
     "output_type": "display_data"
    },
    {
     "data": {
      "text/plain": [
       "'random.pheno40.glm.linear: 1.0'"
      ]
     },
     "metadata": {},
     "output_type": "display_data"
    },
    {
     "data": {
      "text/plain": [
       "'random.pheno41.glm.linear: 1.0'"
      ]
     },
     "metadata": {},
     "output_type": "display_data"
    },
    {
     "data": {
      "text/plain": [
       "'random.pheno42.glm.linear: 1.0'"
      ]
     },
     "metadata": {},
     "output_type": "display_data"
    },
    {
     "data": {
      "text/plain": [
       "'random.pheno43.glm.linear: 1.00748'"
      ]
     },
     "metadata": {},
     "output_type": "display_data"
    },
    {
     "data": {
      "text/plain": [
       "'random.pheno44.glm.linear: 1.0'"
      ]
     },
     "metadata": {},
     "output_type": "display_data"
    },
    {
     "data": {
      "text/plain": [
       "'random.pheno45.glm.linear: 1.0'"
      ]
     },
     "metadata": {},
     "output_type": "display_data"
    },
    {
     "data": {
      "text/plain": [
       "'random.pheno46.glm.linear: 1.0'"
      ]
     },
     "metadata": {},
     "output_type": "display_data"
    },
    {
     "data": {
      "text/plain": [
       "'random.pheno47.glm.linear: 1.0'"
      ]
     },
     "metadata": {},
     "output_type": "display_data"
    },
    {
     "data": {
      "text/plain": [
       "'random.pheno48.glm.linear: 1.00901'"
      ]
     },
     "metadata": {},
     "output_type": "display_data"
    },
    {
     "data": {
      "text/plain": [
       "'random.pheno49.glm.linear: 1.0'"
      ]
     },
     "metadata": {},
     "output_type": "display_data"
    },
    {
     "data": {
      "text/plain": [
       "'random.pheno5.glm.linear: 1.0'"
      ]
     },
     "metadata": {},
     "output_type": "display_data"
    },
    {
     "data": {
      "text/plain": [
       "'random.pheno50.glm.linear: 1.00157'"
      ]
     },
     "metadata": {},
     "output_type": "display_data"
    },
    {
     "data": {
      "text/plain": [
       "'random.pheno51.glm.linear: 1.0'"
      ]
     },
     "metadata": {},
     "output_type": "display_data"
    },
    {
     "data": {
      "text/plain": [
       "'random.pheno52.glm.linear: 1.0'"
      ]
     },
     "metadata": {},
     "output_type": "display_data"
    },
    {
     "data": {
      "text/plain": [
       "'random.pheno53.glm.linear: 1.0'"
      ]
     },
     "metadata": {},
     "output_type": "display_data"
    },
    {
     "data": {
      "text/plain": [
       "'random.pheno54.glm.linear: 1.0'"
      ]
     },
     "metadata": {},
     "output_type": "display_data"
    },
    {
     "data": {
      "text/plain": [
       "'random.pheno55.glm.linear: 1.0'"
      ]
     },
     "metadata": {},
     "output_type": "display_data"
    },
    {
     "data": {
      "text/plain": [
       "'random.pheno56.glm.linear: 1.0'"
      ]
     },
     "metadata": {},
     "output_type": "display_data"
    },
    {
     "data": {
      "text/plain": [
       "'random.pheno57.glm.linear: 1.00463'"
      ]
     },
     "metadata": {},
     "output_type": "display_data"
    },
    {
     "data": {
      "text/plain": [
       "'random.pheno58.glm.linear: 1.0'"
      ]
     },
     "metadata": {},
     "output_type": "display_data"
    },
    {
     "data": {
      "text/plain": [
       "'random.pheno59.glm.linear: 1.0'"
      ]
     },
     "metadata": {},
     "output_type": "display_data"
    },
    {
     "data": {
      "text/plain": [
       "'random.pheno6.glm.linear: 1.0'"
      ]
     },
     "metadata": {},
     "output_type": "display_data"
    },
    {
     "data": {
      "text/plain": [
       "'random.pheno60.glm.linear: 1.00598'"
      ]
     },
     "metadata": {},
     "output_type": "display_data"
    },
    {
     "data": {
      "text/plain": [
       "'random.pheno61.glm.linear: 1.0'"
      ]
     },
     "metadata": {},
     "output_type": "display_data"
    },
    {
     "data": {
      "text/plain": [
       "'random.pheno62.glm.linear: 1.0'"
      ]
     },
     "metadata": {},
     "output_type": "display_data"
    },
    {
     "data": {
      "text/plain": [
       "'random.pheno63.glm.linear: 1.0'"
      ]
     },
     "metadata": {},
     "output_type": "display_data"
    },
    {
     "data": {
      "text/plain": [
       "'random.pheno64.glm.linear: 1.00039'"
      ]
     },
     "metadata": {},
     "output_type": "display_data"
    },
    {
     "data": {
      "text/plain": [
       "'random.pheno65.glm.linear: 1.0'"
      ]
     },
     "metadata": {},
     "output_type": "display_data"
    },
    {
     "data": {
      "text/plain": [
       "'random.pheno66.glm.linear: 1.00608'"
      ]
     },
     "metadata": {},
     "output_type": "display_data"
    },
    {
     "data": {
      "text/plain": [
       "'random.pheno67.glm.linear: 1.00901'"
      ]
     },
     "metadata": {},
     "output_type": "display_data"
    },
    {
     "data": {
      "text/plain": [
       "'random.pheno68.glm.linear: 1.0'"
      ]
     },
     "metadata": {},
     "output_type": "display_data"
    },
    {
     "data": {
      "text/plain": [
       "'random.pheno69.glm.linear: 1.00101'"
      ]
     },
     "metadata": {},
     "output_type": "display_data"
    },
    {
     "data": {
      "text/plain": [
       "'random.pheno7.glm.linear: 1.0'"
      ]
     },
     "metadata": {},
     "output_type": "display_data"
    },
    {
     "data": {
      "text/plain": [
       "'random.pheno70.glm.linear: 1.0'"
      ]
     },
     "metadata": {},
     "output_type": "display_data"
    },
    {
     "data": {
      "text/plain": [
       "'random.pheno71.glm.linear: 1.0'"
      ]
     },
     "metadata": {},
     "output_type": "display_data"
    },
    {
     "data": {
      "text/plain": [
       "'random.pheno72.glm.linear: 1.0'"
      ]
     },
     "metadata": {},
     "output_type": "display_data"
    },
    {
     "data": {
      "text/plain": [
       "'random.pheno73.glm.linear: 1.0'"
      ]
     },
     "metadata": {},
     "output_type": "display_data"
    },
    {
     "data": {
      "text/plain": [
       "'random.pheno74.glm.linear: 1.01136'"
      ]
     },
     "metadata": {},
     "output_type": "display_data"
    },
    {
     "data": {
      "text/plain": [
       "'random.pheno75.glm.linear: 1.0'"
      ]
     },
     "metadata": {},
     "output_type": "display_data"
    },
    {
     "data": {
      "text/plain": [
       "'random.pheno76.glm.linear: 1.0'"
      ]
     },
     "metadata": {},
     "output_type": "display_data"
    },
    {
     "data": {
      "text/plain": [
       "'random.pheno77.glm.linear: 1.0'"
      ]
     },
     "metadata": {},
     "output_type": "display_data"
    },
    {
     "data": {
      "text/plain": [
       "'random.pheno78.glm.linear: 1.00039'"
      ]
     },
     "metadata": {},
     "output_type": "display_data"
    },
    {
     "data": {
      "text/plain": [
       "'random.pheno79.glm.linear: 1.0'"
      ]
     },
     "metadata": {},
     "output_type": "display_data"
    },
    {
     "data": {
      "text/plain": [
       "'random.pheno8.glm.linear: 1.0'"
      ]
     },
     "metadata": {},
     "output_type": "display_data"
    },
    {
     "data": {
      "text/plain": [
       "'random.pheno80.glm.linear: 1.0'"
      ]
     },
     "metadata": {},
     "output_type": "display_data"
    },
    {
     "data": {
      "text/plain": [
       "'random.pheno81.glm.linear: 1.00312'"
      ]
     },
     "metadata": {},
     "output_type": "display_data"
    },
    {
     "data": {
      "text/plain": [
       "'random.pheno82.glm.linear: 1.0'"
      ]
     },
     "metadata": {},
     "output_type": "display_data"
    },
    {
     "data": {
      "text/plain": [
       "'random.pheno83.glm.linear: 1.00706'"
      ]
     },
     "metadata": {},
     "output_type": "display_data"
    },
    {
     "data": {
      "text/plain": [
       "'random.pheno84.glm.linear: 1.00326'"
      ]
     },
     "metadata": {},
     "output_type": "display_data"
    },
    {
     "data": {
      "text/plain": [
       "'random.pheno85.glm.linear: 1.0'"
      ]
     },
     "metadata": {},
     "output_type": "display_data"
    },
    {
     "data": {
      "text/plain": [
       "'random.pheno86.glm.linear: 1.0'"
      ]
     },
     "metadata": {},
     "output_type": "display_data"
    },
    {
     "data": {
      "text/plain": [
       "'random.pheno87.glm.linear: 1.0'"
      ]
     },
     "metadata": {},
     "output_type": "display_data"
    },
    {
     "data": {
      "text/plain": [
       "'random.pheno88.glm.linear: 1.0'"
      ]
     },
     "metadata": {},
     "output_type": "display_data"
    },
    {
     "data": {
      "text/plain": [
       "'random.pheno89.glm.linear: 1.00584'"
      ]
     },
     "metadata": {},
     "output_type": "display_data"
    },
    {
     "data": {
      "text/plain": [
       "'random.pheno9.glm.linear: 1.0'"
      ]
     },
     "metadata": {},
     "output_type": "display_data"
    },
    {
     "data": {
      "text/plain": [
       "'random.pheno90.glm.linear: 1.0'"
      ]
     },
     "metadata": {},
     "output_type": "display_data"
    },
    {
     "data": {
      "text/plain": [
       "'random.pheno91.glm.linear: 1.0'"
      ]
     },
     "metadata": {},
     "output_type": "display_data"
    },
    {
     "data": {
      "text/plain": [
       "'random.pheno92.glm.linear: 1.0'"
      ]
     },
     "metadata": {},
     "output_type": "display_data"
    },
    {
     "data": {
      "text/plain": [
       "'random.pheno93.glm.linear: 1.0'"
      ]
     },
     "metadata": {},
     "output_type": "display_data"
    },
    {
     "data": {
      "text/plain": [
       "'random.pheno94.glm.linear: 1.00895'"
      ]
     },
     "metadata": {},
     "output_type": "display_data"
    },
    {
     "data": {
      "text/plain": [
       "'random.pheno95.glm.linear: 1.0'"
      ]
     },
     "metadata": {},
     "output_type": "display_data"
    },
    {
     "data": {
      "text/plain": [
       "'random.pheno96.glm.linear: 1.00345'"
      ]
     },
     "metadata": {},
     "output_type": "display_data"
    },
    {
     "data": {
      "text/plain": [
       "'random.pheno97.glm.linear: 1.01096'"
      ]
     },
     "metadata": {},
     "output_type": "display_data"
    },
    {
     "data": {
      "text/plain": [
       "'random.pheno98.glm.linear: 1.0129'"
      ]
     },
     "metadata": {},
     "output_type": "display_data"
    },
    {
     "data": {
      "text/plain": [
       "'random.pheno99.glm.linear: 1.00472'"
      ]
     },
     "metadata": {},
     "output_type": "display_data"
    }
   ],
   "source": [
    "for gwas_file in gwas_files:\n",
    "    result = subprocess.run(\n",
    "        [PLINK2, \"--adjust-file\", str(gwas_file), \"test=ADD\"], stdout=subprocess.PIPE\n",
    "    )\n",
    "\n",
    "    assert result.returncode == 0\n",
    "\n",
    "    result_output = result.stdout.decode(\"utf-8\")\n",
    "    inf_factor = float(PAT.search(result_output).group(\"inf_factor\"))\n",
    "    display(f\"{gwas_file.name}: {inf_factor}\")\n",
    "    assert 1.015 >= inf_factor >= 1.0"
   ]
  },
  {
   "cell_type": "code",
   "execution_count": null,
   "id": "aa0657ec-61c4-4a13-91c8-60a726fa649a",
   "metadata": {
    "papermill": {
     "duration": 0.01765,
     "end_time": "2022-04-29T16:57:30.628362",
     "exception": false,
     "start_time": "2022-04-29T16:57:30.610712",
     "status": "completed"
    },
    "tags": []
   },
   "outputs": [],
   "source": []
  }
 ],
 "metadata": {
  "jupytext": {
   "cell_metadata_filter": "all,-execution,-papermill,-trusted"
  },
  "kernelspec": {
   "display_name": "Python 3 (ipykernel)",
   "language": "python",
   "name": "python3"
  },
  "language_info": {
   "codemirror_mode": {
    "name": "ipython",
    "version": 3
   },
   "file_extension": ".py",
   "mimetype": "text/x-python",
   "name": "python",
   "nbconvert_exporter": "python",
   "pygments_lexer": "ipython3",
   "version": "3.8.13"
  },
  "papermill": {
   "default_parameters": {},
   "duration": 983.33988,
   "end_time": "2022-04-29T16:57:30.864716",
   "environment_variables": {},
   "exception": null,
   "input_path": "nbs/15_gsa_gls/20-null_simulations/09_03-gwas-inflation_factor.ipynb",
   "output_path": "nbs/15_gsa_gls/20-null_simulations/09_03-gwas-inflation_factor.run.ipynb",
   "parameters": {},
   "start_time": "2022-04-29T16:41:07.524836",
   "version": "2.3.4"
  }
 },
 "nbformat": 4,
 "nbformat_minor": 5
}
