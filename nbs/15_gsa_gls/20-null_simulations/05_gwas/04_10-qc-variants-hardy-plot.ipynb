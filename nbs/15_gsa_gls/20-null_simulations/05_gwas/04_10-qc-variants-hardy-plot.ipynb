{
 "cells": [
  {
   "cell_type": "markdown",
   "id": "88e50759-56ef-4d6c-88b4-5daf5b2be438",
   "metadata": {
    "papermill": {
     "duration": 0.003867,
     "end_time": "2022-04-28T06:11:36.056831",
     "exception": false,
     "start_time": "2022-04-28T06:11:36.052964",
     "status": "completed"
    },
    "tags": []
   },
   "source": [
    "# Description"
   ]
  },
  {
   "cell_type": "markdown",
   "id": "5ab0a512-dd22-406c-8cf4-9b5c6902618c",
   "metadata": {
    "papermill": {
     "duration": 0.003042,
     "end_time": "2022-04-28T06:11:36.063331",
     "exception": false,
     "start_time": "2022-04-28T06:11:36.060289",
     "status": "completed"
    },
    "tags": []
   },
   "source": [
    "It analyses the results of the Hardy-Weingberg equilibrium tests run previously."
   ]
  },
  {
   "cell_type": "markdown",
   "id": "82035864-e836-43c5-bf57-3d242a6b82fa",
   "metadata": {
    "papermill": {
     "duration": 0.003135,
     "end_time": "2022-04-28T06:11:36.069970",
     "exception": false,
     "start_time": "2022-04-28T06:11:36.066835",
     "status": "completed"
    },
    "tags": []
   },
   "source": [
    "# Modules"
   ]
  },
  {
   "cell_type": "code",
   "execution_count": 1,
   "id": "9f0ffe4b-c8ce-4277-8cc4-5c949130e273",
   "metadata": {
    "papermill": {
     "duration": 0.920961,
     "end_time": "2022-04-28T06:11:36.995308",
     "exception": false,
     "start_time": "2022-04-28T06:11:36.074347",
     "status": "completed"
    },
    "tags": []
   },
   "outputs": [
    {
     "name": "stderr",
     "output_type": "stream",
     "text": [
      "── \u001b[1mAttaching packages\u001b[22m ─────────────────────────────────────── tidyverse 1.3.1 ──\n",
      "\n",
      "\u001b[32m✔\u001b[39m \u001b[34mggplot2\u001b[39m 3.3.5     \u001b[32m✔\u001b[39m \u001b[34mpurrr  \u001b[39m 0.3.4\n",
      "\u001b[32m✔\u001b[39m \u001b[34mtibble \u001b[39m 3.1.6     \u001b[32m✔\u001b[39m \u001b[34mdplyr  \u001b[39m 1.0.8\n",
      "\u001b[32m✔\u001b[39m \u001b[34mtidyr  \u001b[39m 1.2.0     \u001b[32m✔\u001b[39m \u001b[34mstringr\u001b[39m 1.4.0\n",
      "\u001b[32m✔\u001b[39m \u001b[34mreadr  \u001b[39m 2.1.2     \u001b[32m✔\u001b[39m \u001b[34mforcats\u001b[39m 0.5.1\n",
      "\n",
      "── \u001b[1mConflicts\u001b[22m ────────────────────────────────────────── tidyverse_conflicts() ──\n",
      "\u001b[31m✖\u001b[39m \u001b[34mdplyr\u001b[39m::\u001b[32mfilter()\u001b[39m masks \u001b[34mstats\u001b[39m::filter()\n",
      "\u001b[31m✖\u001b[39m \u001b[34mdplyr\u001b[39m::\u001b[32mlag()\u001b[39m    masks \u001b[34mstats\u001b[39m::lag()\n",
      "\n"
     ]
    }
   ],
   "source": [
    "library(tidyverse)"
   ]
  },
  {
   "cell_type": "markdown",
   "id": "7a6fd2c6-985c-42a2-97c9-156ad913d8e9",
   "metadata": {
    "papermill": {
     "duration": 0.003505,
     "end_time": "2022-04-28T06:11:37.002552",
     "exception": false,
     "start_time": "2022-04-28T06:11:36.999047",
     "status": "completed"
    },
    "tags": []
   },
   "source": [
    "# Paths"
   ]
  },
  {
   "cell_type": "code",
   "execution_count": 2,
   "id": "a397d4d7-6c2e-4bae-8148-e331f1a507cf",
   "metadata": {
    "papermill": {
     "duration": 0.061376,
     "end_time": "2022-04-28T06:11:37.067416",
     "exception": false,
     "start_time": "2022-04-28T06:11:37.006040",
     "status": "completed"
    },
    "tags": []
   },
   "outputs": [],
   "source": [
    "A1000G_GENOTYPES_DIR <- Sys.getenv(\"PHENOPLIER_A1000G_GENOTYPES_DIR\")"
   ]
  },
  {
   "cell_type": "code",
   "execution_count": 3,
   "id": "9eeb7d67-5e3d-4df6-b734-7bed4b32eacf",
   "metadata": {
    "papermill": {
     "duration": 0.020091,
     "end_time": "2022-04-28T06:11:37.091719",
     "exception": false,
     "start_time": "2022-04-28T06:11:37.071628",
     "status": "completed"
    },
    "tags": []
   },
   "outputs": [
    {
     "data": {
      "text/html": [
       "'/opt/data/data/1000g/genotypes'"
      ],
      "text/latex": [
       "'/opt/data/data/1000g/genotypes'"
      ],
      "text/markdown": [
       "'/opt/data/data/1000g/genotypes'"
      ],
      "text/plain": [
       "[1] \"/opt/data/data/1000g/genotypes\""
      ]
     },
     "metadata": {},
     "output_type": "display_data"
    }
   ],
   "source": [
    "A1000G_GENOTYPES_DIR"
   ]
  },
  {
   "cell_type": "code",
   "execution_count": 4,
   "id": "ce37e50c-993e-4f55-bedc-95a543cd94b0",
   "metadata": {
    "papermill": {
     "duration": 0.014964,
     "end_time": "2022-04-28T06:11:37.110756",
     "exception": false,
     "start_time": "2022-04-28T06:11:37.095792",
     "status": "completed"
    },
    "tags": []
   },
   "outputs": [],
   "source": [
    "SUBSETS_DIR <- file.path(A1000G_GENOTYPES_DIR, \"subsets\")"
   ]
  },
  {
   "cell_type": "code",
   "execution_count": 5,
   "id": "c4042cca-3ad3-467e-bfa6-97dbaf48fdc8",
   "metadata": {
    "papermill": {
     "duration": 0.020394,
     "end_time": "2022-04-28T06:11:37.135119",
     "exception": false,
     "start_time": "2022-04-28T06:11:37.114725",
     "status": "completed"
    },
    "tags": []
   },
   "outputs": [
    {
     "data": {
      "text/html": [
       "'/opt/data/data/1000g/genotypes/subsets'"
      ],
      "text/latex": [
       "'/opt/data/data/1000g/genotypes/subsets'"
      ],
      "text/markdown": [
       "'/opt/data/data/1000g/genotypes/subsets'"
      ],
      "text/plain": [
       "[1] \"/opt/data/data/1000g/genotypes/subsets\""
      ]
     },
     "metadata": {},
     "output_type": "display_data"
    }
   ],
   "source": [
    "SUBSETS_DIR"
   ]
  },
  {
   "cell_type": "markdown",
   "id": "513a1e33-ad0b-494f-8176-578b523000af",
   "metadata": {
    "papermill": {
     "duration": 0.004145,
     "end_time": "2022-04-28T06:11:37.143754",
     "exception": false,
     "start_time": "2022-04-28T06:11:37.139609",
     "status": "completed"
    },
    "tags": []
   },
   "source": [
    "# Load data"
   ]
  },
  {
   "cell_type": "code",
   "execution_count": 6,
   "id": "3beed1d1-5f4d-4588-b9f1-95c99e4b991a",
   "metadata": {
    "papermill": {
     "duration": 194.616915,
     "end_time": "2022-04-28T06:14:51.764952",
     "exception": false,
     "start_time": "2022-04-28T06:11:37.148037",
     "status": "completed"
    },
    "tags": []
   },
   "outputs": [
    {
     "name": "stderr",
     "output_type": "stream",
     "text": [
      "Warning message:\n",
      "“Missing column names filled in: 'X10' [10]”\n",
      "Warning message:\n",
      "“14040497 parsing failures.\n",
      "row col   expected    actual                                                      file\n",
      "  1  -- 10 columns 9 columns '/opt/data/data/1000g/genotypes/subsets/all_phase3.3.hwe'\n",
      "  2  -- 10 columns 9 columns '/opt/data/data/1000g/genotypes/subsets/all_phase3.3.hwe'\n",
      "  3  -- 10 columns 9 columns '/opt/data/data/1000g/genotypes/subsets/all_phase3.3.hwe'\n",
      "  4  -- 10 columns 9 columns '/opt/data/data/1000g/genotypes/subsets/all_phase3.3.hwe'\n",
      "  5  -- 10 columns 9 columns '/opt/data/data/1000g/genotypes/subsets/all_phase3.3.hwe'\n",
      "... ... .......... ......... .........................................................\n",
      "See problems(...) for more details.\n",
      "”\n"
     ]
    }
   ],
   "source": [
    "hwe <- as.data.frame(read_table(file.path(SUBSETS_DIR, \"all_phase3.3.hwe\"), col_types = cols_only(P = \"n\")))"
   ]
  },
  {
   "cell_type": "code",
   "execution_count": 7,
   "id": "66ec44f1-b2b0-4c7e-8aad-81aaa6612b71",
   "metadata": {
    "papermill": {
     "duration": 0.017117,
     "end_time": "2022-04-28T06:14:51.786423",
     "exception": false,
     "start_time": "2022-04-28T06:14:51.769306",
     "status": "completed"
    },
    "tags": []
   },
   "outputs": [
    {
     "data": {
      "text/html": [
       "<style>\n",
       ".list-inline {list-style: none; margin:0; padding: 0}\n",
       ".list-inline>li {display: inline-block}\n",
       ".list-inline>li:not(:last-child)::after {content: \"\\00b7\"; padding: 0 .5ex}\n",
       "</style>\n",
       "<ol class=list-inline><li>14040497</li><li>1</li></ol>\n"
      ],
      "text/latex": [
       "\\begin{enumerate*}\n",
       "\\item 14040497\n",
       "\\item 1\n",
       "\\end{enumerate*}\n"
      ],
      "text/markdown": [
       "1. 14040497\n",
       "2. 1\n",
       "\n",
       "\n"
      ],
      "text/plain": [
       "[1] 14040497        1"
      ]
     },
     "metadata": {},
     "output_type": "display_data"
    }
   ],
   "source": [
    "dim(hwe)"
   ]
  },
  {
   "cell_type": "code",
   "execution_count": 8,
   "id": "d92e3b57-390f-4a55-bfc4-c3bf08ff1af0",
   "metadata": {
    "papermill": {
     "duration": 0.022009,
     "end_time": "2022-04-28T06:14:51.812692",
     "exception": false,
     "start_time": "2022-04-28T06:14:51.790683",
     "status": "completed"
    },
    "tags": []
   },
   "outputs": [
    {
     "data": {
      "text/html": [
       "<table class=\"dataframe\">\n",
       "<caption>A data.frame: 6 × 1</caption>\n",
       "<thead>\n",
       "\t<tr><th></th><th scope=col>P</th></tr>\n",
       "\t<tr><th></th><th scope=col>&lt;dbl&gt;</th></tr>\n",
       "</thead>\n",
       "<tbody>\n",
       "\t<tr><th scope=row>1</th><td> 4.243e-22</td></tr>\n",
       "\t<tr><th scope=row>2</th><td>2.849e-215</td></tr>\n",
       "\t<tr><th scope=row>3</th><td> 5.985e-01</td></tr>\n",
       "\t<tr><th scope=row>4</th><td> 5.985e-01</td></tr>\n",
       "\t<tr><th scope=row>5</th><td> 4.026e-01</td></tr>\n",
       "\t<tr><th scope=row>6</th><td> 3.400e-03</td></tr>\n",
       "</tbody>\n",
       "</table>\n"
      ],
      "text/latex": [
       "A data.frame: 6 × 1\n",
       "\\begin{tabular}{r|l}\n",
       "  & P\\\\\n",
       "  & <dbl>\\\\\n",
       "\\hline\n",
       "\t1 &  4.243e-22\\\\\n",
       "\t2 & 2.849e-215\\\\\n",
       "\t3 &  5.985e-01\\\\\n",
       "\t4 &  5.985e-01\\\\\n",
       "\t5 &  4.026e-01\\\\\n",
       "\t6 &  3.400e-03\\\\\n",
       "\\end{tabular}\n"
      ],
      "text/markdown": [
       "\n",
       "A data.frame: 6 × 1\n",
       "\n",
       "| <!--/--> | P &lt;dbl&gt; |\n",
       "|---|---|\n",
       "| 1 |  4.243e-22 |\n",
       "| 2 | 2.849e-215 |\n",
       "| 3 |  5.985e-01 |\n",
       "| 4 |  5.985e-01 |\n",
       "| 5 |  4.026e-01 |\n",
       "| 6 |  3.400e-03 |\n",
       "\n"
      ],
      "text/plain": [
       "  P         \n",
       "1  4.243e-22\n",
       "2 2.849e-215\n",
       "3  5.985e-01\n",
       "4  5.985e-01\n",
       "5  4.026e-01\n",
       "6  3.400e-03"
      ]
     },
     "metadata": {},
     "output_type": "display_data"
    }
   ],
   "source": [
    "head(hwe)"
   ]
  },
  {
   "cell_type": "markdown",
   "id": "1498fba5-fdd0-4768-b597-1814eb787538",
   "metadata": {
    "papermill": {
     "duration": 0.00402,
     "end_time": "2022-04-28T06:14:51.821073",
     "exception": false,
     "start_time": "2022-04-28T06:14:51.817053",
     "status": "completed"
    },
    "tags": []
   },
   "source": [
    "# Histogram on all SNPs"
   ]
  },
  {
   "cell_type": "code",
   "execution_count": 9,
   "id": "dde72f4f-6a5e-4517-ba1e-76da10ee4666",
   "metadata": {
    "papermill": {
     "duration": 3.593416,
     "end_time": "2022-04-28T06:14:55.418670",
     "exception": false,
     "start_time": "2022-04-28T06:14:51.825254",
     "status": "completed"
    },
    "tags": []
   },
   "outputs": [
    {
     "data": {
      "image/png": "[encoded data removed]",
      "text/plain": [
       "Plot with title “Histogram HWE”"
      ]
     },
     "metadata": {
      "image/png": {
       "height": 420,
       "width": 420
      }
     },
     "output_type": "display_data"
    }
   ],
   "source": [
    "hist(hwe[, 1], main = \"Histogram HWE\")"
   ]
  },
  {
   "cell_type": "markdown",
   "id": "eebba50d-fdc8-4fe3-860a-2c0f8b21a285",
   "metadata": {
    "papermill": {
     "duration": 0.004383,
     "end_time": "2022-04-28T06:14:55.427747",
     "exception": false,
     "start_time": "2022-04-28T06:14:55.423364",
     "status": "completed"
    },
    "tags": []
   },
   "source": [
    "# Histogram on strongly HWE deviating SNPs only"
   ]
  },
  {
   "cell_type": "code",
   "execution_count": 13,
   "id": "76fcc0d4-9d66-4220-a2df-b160110995b5",
   "metadata": {
    "papermill": {
     "duration": 1.613566,
     "end_time": "2022-04-28T06:14:58.519331",
     "exception": false,
     "start_time": "2022-04-28T06:14:56.905765",
     "status": "completed"
    },
    "tags": []
   },
   "outputs": [
    {
     "data": {
      "text/html": [
       "'[8,954,650 x 1]'"
      ],
      "text/latex": [
       "'{[}8,954,650 x 1{]}'"
      ],
      "text/markdown": [
       "'[8,954,650 x 1]'"
      ],
      "text/plain": [
       "[1] \"[8,954,650 x 1]\""
      ]
     },
     "metadata": {},
     "output_type": "display_data"
    }
   ],
   "source": [
    "hwe %>%\n",
    "  filter(P < 1e-1) %>%\n",
    "  dim_desc()"
   ]
  },
  {
   "cell_type": "code",
   "execution_count": 14,
   "id": "d643163e-af57-48c3-90a5-fd507f80ba14",
   "metadata": {
    "papermill": {
     "duration": 1.613566,
     "end_time": "2022-04-28T06:14:58.519331",
     "exception": false,
     "start_time": "2022-04-28T06:14:56.905765",
     "status": "completed"
    },
    "tags": []
   },
   "outputs": [
    {
     "data": {
      "text/html": [
       "'[6,220,797 x 1]'"
      ],
      "text/latex": [
       "'{[}6,220,797 x 1{]}'"
      ],
      "text/markdown": [
       "'[6,220,797 x 1]'"
      ],
      "text/plain": [
       "[1] \"[6,220,797 x 1]\""
      ]
     },
     "metadata": {},
     "output_type": "display_data"
    }
   ],
   "source": [
    "hwe %>%\n",
    "  filter(P < 1e-2) %>%\n",
    "  dim_desc()"
   ]
  },
  {
   "cell_type": "code",
   "execution_count": 15,
   "id": "48a3114a-c6dd-4c8d-9223-1111d301f5d8",
   "metadata": {
    "papermill": {
     "duration": 1.282262,
     "end_time": "2022-04-28T06:14:59.807645",
     "exception": false,
     "start_time": "2022-04-28T06:14:58.525383",
     "status": "completed"
    },
    "tags": []
   },
   "outputs": [
    {
     "data": {
      "text/html": [
       "'[3,577,592 x 1]'"
      ],
      "text/latex": [
       "'{[}3,577,592 x 1{]}'"
      ],
      "text/markdown": [
       "'[3,577,592 x 1]'"
      ],
      "text/plain": [
       "[1] \"[3,577,592 x 1]\""
      ]
     },
     "metadata": {},
     "output_type": "display_data"
    }
   ],
   "source": [
    "hwe %>%\n",
    "  filter(P < 1e-4) %>%\n",
    "  dim_desc()"
   ]
  },
  {
   "cell_type": "code",
   "execution_count": 16,
   "id": "595c470a-a7a8-4799-8c50-4f355e7038e1",
   "metadata": {
    "papermill": {
     "duration": 1.324166,
     "end_time": "2022-04-28T06:15:01.138128",
     "exception": false,
     "start_time": "2022-04-28T06:14:59.813962",
     "status": "completed"
    },
    "tags": []
   },
   "outputs": [
    {
     "data": {
      "text/html": [
       "'[2,408,980 x 1]'"
      ],
      "text/latex": [
       "'{[}2,408,980 x 1{]}'"
      ],
      "text/markdown": [
       "'[2,408,980 x 1]'"
      ],
      "text/plain": [
       "[1] \"[2,408,980 x 1]\""
      ]
     },
     "metadata": {},
     "output_type": "display_data"
    }
   ],
   "source": [
    "hwe %>%\n",
    "  filter(P < 1e-6) %>%\n",
    "  dim_desc()"
   ]
  },
  {
   "cell_type": "code",
   "execution_count": 17,
   "id": "1c10970d-a14a-4fd7-b22c-7804412fb73e",
   "metadata": {
    "papermill": {
     "duration": 1.462437,
     "end_time": "2022-04-28T06:15:02.607081",
     "exception": false,
     "start_time": "2022-04-28T06:15:01.144644",
     "status": "completed"
    },
    "tags": []
   },
   "outputs": [
    {
     "data": {
      "text/html": [
       "'[1,769,807 x 1]'"
      ],
      "text/latex": [
       "'{[}1,769,807 x 1{]}'"
      ],
      "text/markdown": [
       "'[1,769,807 x 1]'"
      ],
      "text/plain": [
       "[1] \"[1,769,807 x 1]\""
      ]
     },
     "metadata": {},
     "output_type": "display_data"
    }
   ],
   "source": [
    "hwe %>%\n",
    "  filter(P < 1e-8) %>%\n",
    "  dim_desc()"
   ]
  },
  {
   "cell_type": "code",
   "execution_count": 18,
   "id": "2d34ddda-3b56-4a2f-ae11-5103bbc578c5",
   "metadata": {
    "papermill": {
     "duration": 1.462437,
     "end_time": "2022-04-28T06:15:02.607081",
     "exception": false,
     "start_time": "2022-04-28T06:15:01.144644",
     "status": "completed"
    },
    "tags": []
   },
   "outputs": [
    {
     "data": {
      "text/html": [
       "'[1,370,090 x 1]'"
      ],
      "text/latex": [
       "'{[}1,370,090 x 1{]}'"
      ],
      "text/markdown": [
       "'[1,370,090 x 1]'"
      ],
      "text/plain": [
       "[1] \"[1,370,090 x 1]\""
      ]
     },
     "metadata": {},
     "output_type": "display_data"
    }
   ],
   "source": [
    "hwe %>%\n",
    "  filter(P < 1e-10) %>%\n",
    "  dim_desc()"
   ]
  },
  {
   "cell_type": "code",
   "execution_count": 19,
   "id": "74f194ce-3c7c-46c7-a4fd-47566c023cd7",
   "metadata": {
    "papermill": {
     "duration": 1.211551,
     "end_time": "2022-04-28T06:15:03.825759",
     "exception": false,
     "start_time": "2022-04-28T06:15:02.614208",
     "status": "completed"
    },
    "tags": []
   },
   "outputs": [
    {
     "data": {
      "text/html": [
       "'[829,486 x 1]'"
      ],
      "text/latex": [
       "'{[}829,486 x 1{]}'"
      ],
      "text/markdown": [
       "'[829,486 x 1]'"
      ],
      "text/plain": [
       "[1] \"[829,486 x 1]\""
      ]
     },
     "metadata": {},
     "output_type": "display_data"
    }
   ],
   "source": [
    "hwe %>%\n",
    "  filter(P < 1e-15) %>%\n",
    "  dim_desc()"
   ]
  },
  {
   "cell_type": "code",
   "execution_count": 24,
   "id": "5afb3420-4114-4bb4-b7e7-da91f5efa18d",
   "metadata": {
    "papermill": {
     "duration": 1.300177,
     "end_time": "2022-04-28T06:15:05.132534",
     "exception": false,
     "start_time": "2022-04-28T06:15:03.832357",
     "status": "completed"
    },
    "tags": []
   },
   "outputs": [],
   "source": [
    "hwe_zoom <- hwe %>% filter(P < 5e-6)"
   ]
  },
  {
   "cell_type": "code",
   "execution_count": 25,
   "id": "21c715ea-96e3-4ebd-87b0-5382a91eb1b5",
   "metadata": {
    "papermill": {
     "duration": 0.102073,
     "end_time": "2022-04-28T06:15:05.241430",
     "exception": false,
     "start_time": "2022-04-28T06:15:05.139357",
     "status": "completed"
    },
    "tags": []
   },
   "outputs": [
    {
     "data": {
      "image/png": "[encoded data removed]",
      "text/plain": [
       "Plot with title “Histogram HWE: strongly deviating SNPs only”"
      ]
     },
     "metadata": {
      "image/png": {
       "height": 420,
       "width": 420
      }
     },
     "output_type": "display_data"
    }
   ],
   "source": [
    "hist(hwe_zoom[, 1], main = \"Histogram HWE: strongly deviating SNPs only\")"
   ]
  },
  {
   "cell_type": "code",
   "execution_count": null,
   "id": "74d10c63-d0a4-4c7b-95ce-89ab44dac856",
   "metadata": {
    "papermill": {
     "duration": 0.005411,
     "end_time": "2022-04-28T06:15:05.252421",
     "exception": false,
     "start_time": "2022-04-28T06:15:05.247010",
     "status": "completed"
    },
    "tags": []
   },
   "outputs": [],
   "source": []
  }
 ],
 "metadata": {
  "jupytext": {
   "cell_metadata_filter": "all,-execution,-papermill,-trusted"
  },
  "kernelspec": {
   "display_name": "R",
   "language": "R",
   "name": "ir"
  },
  "language_info": {
   "codemirror_mode": "r",
   "file_extension": ".r",
   "mimetype": "text/x-r-source",
   "name": "R",
   "pygments_lexer": "r",
   "version": "3.6.3"
  },
  "papermill": {
   "default_parameters": {},
   "duration": 210.649192,
   "end_time": "2022-04-28T06:15:05.474610",
   "environment_variables": {},
   "exception": null,
   "input_path": "nbs/15_gsa_gls/20-null_simulations/04_10-qc-variants-hardy-plot.ipynb",
   "output_path": "nbs/15_gsa_gls/20-null_simulations/04_10-qc-variants-hardy-plot.run.ipynb",
   "parameters": {},
   "start_time": "2022-04-28T06:11:34.825418",
   "version": "2.3.4"
  }
 },
 "nbformat": 4,
 "nbformat_minor": 5
}
