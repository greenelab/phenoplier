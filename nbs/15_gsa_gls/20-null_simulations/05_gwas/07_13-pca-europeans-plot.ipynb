{
 "cells": [
  {
   "cell_type": "markdown",
   "id": "88e50759-56ef-4d6c-88b4-5daf5b2be438",
   "metadata": {
    "papermill": {
     "duration": 0.004099,
     "end_time": "2022-04-28T05:57:19.151858",
     "exception": false,
     "start_time": "2022-04-28T05:57:19.147759",
     "status": "completed"
    },
    "tags": []
   },
   "source": [
    "# Description"
   ]
  },
  {
   "cell_type": "markdown",
   "id": "5ab0a512-dd22-406c-8cf4-9b5c6902618c",
   "metadata": {
    "papermill": {
     "duration": 0.003443,
     "end_time": "2022-04-28T05:57:19.159228",
     "exception": false,
     "start_time": "2022-04-28T05:57:19.155785",
     "status": "completed"
    },
    "tags": []
   },
   "source": [
    "Read the missing info computed previously (by individual and variant) and plots some histograms."
   ]
  },
  {
   "cell_type": "markdown",
   "id": "82035864-e836-43c5-bf57-3d242a6b82fa",
   "metadata": {
    "papermill": {
     "duration": 0.004606,
     "end_time": "2022-04-28T05:57:19.167576",
     "exception": false,
     "start_time": "2022-04-28T05:57:19.162970",
     "status": "completed"
    },
    "tags": []
   },
   "source": [
    "# Modules"
   ]
  },
  {
   "cell_type": "code",
   "execution_count": 1,
   "id": "9f0ffe4b-c8ce-4277-8cc4-5c949130e273",
   "metadata": {
    "papermill": {
     "duration": 1.017295,
     "end_time": "2022-04-28T05:57:20.188582",
     "exception": false,
     "start_time": "2022-04-28T05:57:19.171287",
     "status": "completed"
    },
    "tags": []
   },
   "outputs": [
    {
     "name": "stderr",
     "output_type": "stream",
     "text": [
      "── \u001b[1mAttaching packages\u001b[22m ─────────────────────────────────────── tidyverse 1.3.1 ──\n",
      "\n",
      "\u001b[32m✔\u001b[39m \u001b[34mggplot2\u001b[39m 3.3.5     \u001b[32m✔\u001b[39m \u001b[34mpurrr  \u001b[39m 0.3.4\n",
      "\u001b[32m✔\u001b[39m \u001b[34mtibble \u001b[39m 3.1.6     \u001b[32m✔\u001b[39m \u001b[34mdplyr  \u001b[39m 1.0.8\n",
      "\u001b[32m✔\u001b[39m \u001b[34mtidyr  \u001b[39m 1.2.0     \u001b[32m✔\u001b[39m \u001b[34mstringr\u001b[39m 1.4.0\n",
      "\u001b[32m✔\u001b[39m \u001b[34mreadr  \u001b[39m 2.1.2     \u001b[32m✔\u001b[39m \u001b[34mforcats\u001b[39m 0.5.1\n",
      "\n",
      "── \u001b[1mConflicts\u001b[22m ────────────────────────────────────────── tidyverse_conflicts() ──\n",
      "\u001b[31m✖\u001b[39m \u001b[34mdplyr\u001b[39m::\u001b[32mfilter()\u001b[39m masks \u001b[34mstats\u001b[39m::filter()\n",
      "\u001b[31m✖\u001b[39m \u001b[34mdplyr\u001b[39m::\u001b[32mlag()\u001b[39m    masks \u001b[34mstats\u001b[39m::lag()\n",
      "\n"
     ]
    }
   ],
   "source": [
    "library(tidyverse)\n",
    "library(ggplot2)"
   ]
  },
  {
   "cell_type": "markdown",
   "id": "7a6fd2c6-985c-42a2-97c9-156ad913d8e9",
   "metadata": {
    "papermill": {
     "duration": 0.003836,
     "end_time": "2022-04-28T05:57:20.200604",
     "exception": false,
     "start_time": "2022-04-28T05:57:20.196768",
     "status": "completed"
    },
    "tags": []
   },
   "source": [
    "# Paths"
   ]
  },
  {
   "cell_type": "code",
   "execution_count": 2,
   "id": "a397d4d7-6c2e-4bae-8148-e331f1a507cf",
   "metadata": {
    "papermill": {
     "duration": 0.061572,
     "end_time": "2022-04-28T05:57:20.266079",
     "exception": false,
     "start_time": "2022-04-28T05:57:20.204507",
     "status": "completed"
    },
    "tags": []
   },
   "outputs": [],
   "source": [
    "A1000G_GENOTYPES_DIR <- Sys.getenv(\"PHENOPLIER_A1000G_GENOTYPES_DIR\")"
   ]
  },
  {
   "cell_type": "code",
   "execution_count": 3,
   "id": "9eeb7d67-5e3d-4df6-b734-7bed4b32eacf",
   "metadata": {
    "papermill": {
     "duration": 0.022812,
     "end_time": "2022-04-28T05:57:20.293314",
     "exception": false,
     "start_time": "2022-04-28T05:57:20.270502",
     "status": "completed"
    },
    "tags": []
   },
   "outputs": [
    {
     "data": {
      "text/html": [
       "'/opt/data/data/1000g/genotypes'"
      ],
      "text/latex": [
       "'/opt/data/data/1000g/genotypes'"
      ],
      "text/markdown": [
       "'/opt/data/data/1000g/genotypes'"
      ],
      "text/plain": [
       "[1] \"/opt/data/data/1000g/genotypes\""
      ]
     },
     "metadata": {},
     "output_type": "display_data"
    }
   ],
   "source": [
    "A1000G_GENOTYPES_DIR"
   ]
  },
  {
   "cell_type": "code",
   "execution_count": 4,
   "id": "ce37e50c-993e-4f55-bedc-95a543cd94b0",
   "metadata": {
    "papermill": {
     "duration": 0.015514,
     "end_time": "2022-04-28T05:57:20.313256",
     "exception": false,
     "start_time": "2022-04-28T05:57:20.297742",
     "status": "completed"
    },
    "tags": []
   },
   "outputs": [],
   "source": [
    "SUBSETS_DIR <- file.path(A1000G_GENOTYPES_DIR, \"subsets\")"
   ]
  },
  {
   "cell_type": "code",
   "execution_count": 5,
   "id": "c4042cca-3ad3-467e-bfa6-97dbaf48fdc8",
   "metadata": {
    "papermill": {
     "duration": 0.02065,
     "end_time": "2022-04-28T05:57:20.338463",
     "exception": false,
     "start_time": "2022-04-28T05:57:20.317813",
     "status": "completed"
    },
    "tags": []
   },
   "outputs": [
    {
     "data": {
      "text/html": [
       "'/opt/data/data/1000g/genotypes/subsets'"
      ],
      "text/latex": [
       "'/opt/data/data/1000g/genotypes/subsets'"
      ],
      "text/markdown": [
       "'/opt/data/data/1000g/genotypes/subsets'"
      ],
      "text/plain": [
       "[1] \"/opt/data/data/1000g/genotypes/subsets\""
      ]
     },
     "metadata": {},
     "output_type": "display_data"
    }
   ],
   "source": [
    "SUBSETS_DIR"
   ]
  },
  {
   "cell_type": "markdown",
   "id": "513a1e33-ad0b-494f-8176-578b523000af",
   "metadata": {
    "papermill": {
     "duration": 0.004256,
     "end_time": "2022-04-28T05:57:20.347259",
     "exception": false,
     "start_time": "2022-04-28T05:57:20.343003",
     "status": "completed"
    },
    "tags": []
   },
   "source": [
    "# Load data"
   ]
  },
  {
   "cell_type": "code",
   "execution_count": 6,
   "id": "3beed1d1-5f4d-4588-b9f1-95c99e4b991a",
   "metadata": {
    "papermill": {
     "duration": 0.161441,
     "end_time": "2022-04-28T05:57:20.513342",
     "exception": false,
     "start_time": "2022-04-28T05:57:20.351901",
     "status": "completed"
    },
    "tags": []
   },
   "outputs": [
    {
     "name": "stderr",
     "output_type": "stream",
     "text": [
      "\n",
      "\u001b[36m──\u001b[39m \u001b[1mColumn specification\u001b[22m \u001b[36m────────────────────────────────────────────────────────\u001b[39m\n",
      "cols(\n",
      "  .default = col_double(),\n",
      "  X2 = \u001b[31mcol_character()\u001b[39m\n",
      ")\n",
      "\u001b[36mℹ\u001b[39m Use `spec()` for the full column specifications.\n",
      "\n"
     ]
    }
   ],
   "source": [
    "data <- as.data.frame(read_table(file.path(SUBSETS_DIR, \"all_phase3.7.pca_covar.eigenvec\"), col_names=FALSE))"
   ]
  },
  {
   "cell_type": "code",
   "execution_count": 7,
   "id": "66ec44f1-b2b0-4c7e-8aad-81aaa6612b71",
   "metadata": {
    "papermill": {
     "duration": 0.086355,
     "end_time": "2022-04-28T05:57:20.604167",
     "exception": false,
     "start_time": "2022-04-28T05:57:20.517812",
     "status": "completed"
    },
    "tags": []
   },
   "outputs": [
    {
     "data": {
      "text/html": [
       "<style>\n",
       ".list-inline {list-style: none; margin:0; padding: 0}\n",
       ".list-inline>li {display: inline-block}\n",
       ".list-inline>li:not(:last-child)::after {content: \"\\00b7\"; padding: 0 .5ex}\n",
       "</style>\n",
       "<ol class=list-inline><li>312</li><li>22</li></ol>\n"
      ],
      "text/latex": [
       "\\begin{enumerate*}\n",
       "\\item 312\n",
       "\\item 22\n",
       "\\end{enumerate*}\n"
      ],
      "text/markdown": [
       "1. 312\n",
       "2. 22\n",
       "\n",
       "\n"
      ],
      "text/plain": [
       "[1] 312  22"
      ]
     },
     "metadata": {},
     "output_type": "display_data"
    }
   ],
   "source": [
    "dim(data)"
   ]
  },
  {
   "cell_type": "code",
   "execution_count": 8,
   "id": "c7b48b64-a98f-4c1e-b47f-858fac3a8510",
   "metadata": {},
   "outputs": [],
   "source": [
    "data <- rename(data, FID = X1, IID = X2, PC1 = X3, PC2 = X4)"
   ]
  },
  {
   "cell_type": "code",
   "execution_count": 9,
   "id": "d92e3b57-390f-4a55-bfc4-c3bf08ff1af0",
   "metadata": {
    "papermill": {
     "duration": 0.024733,
     "end_time": "2022-04-28T05:57:20.634090",
     "exception": false,
     "start_time": "2022-04-28T05:57:20.609357",
     "status": "completed"
    },
    "tags": []
   },
   "outputs": [
    {
     "data": {
      "text/html": [
       "<table class=\"dataframe\">\n",
       "<caption>A data.frame: 6 × 22</caption>\n",
       "<thead>\n",
       "\t<tr><th></th><th scope=col>FID</th><th scope=col>IID</th><th scope=col>PC1</th><th scope=col>PC2</th><th scope=col>X5</th><th scope=col>X6</th><th scope=col>X7</th><th scope=col>X8</th><th scope=col>X9</th><th scope=col>X10</th><th scope=col>⋯</th><th scope=col>X13</th><th scope=col>X14</th><th scope=col>X15</th><th scope=col>X16</th><th scope=col>X17</th><th scope=col>X18</th><th scope=col>X19</th><th scope=col>X20</th><th scope=col>X21</th><th scope=col>X22</th></tr>\n",
       "\t<tr><th></th><th scope=col>&lt;dbl&gt;</th><th scope=col>&lt;chr&gt;</th><th scope=col>&lt;dbl&gt;</th><th scope=col>&lt;dbl&gt;</th><th scope=col>&lt;dbl&gt;</th><th scope=col>&lt;dbl&gt;</th><th scope=col>&lt;dbl&gt;</th><th scope=col>&lt;dbl&gt;</th><th scope=col>&lt;dbl&gt;</th><th scope=col>&lt;dbl&gt;</th><th scope=col>⋯</th><th scope=col>&lt;dbl&gt;</th><th scope=col>&lt;dbl&gt;</th><th scope=col>&lt;dbl&gt;</th><th scope=col>&lt;dbl&gt;</th><th scope=col>&lt;dbl&gt;</th><th scope=col>&lt;dbl&gt;</th><th scope=col>&lt;dbl&gt;</th><th scope=col>&lt;dbl&gt;</th><th scope=col>&lt;dbl&gt;</th><th scope=col>&lt;dbl&gt;</th></tr>\n",
       "</thead>\n",
       "<tbody>\n",
       "\t<tr><th scope=row>1</th><td>0</td><td>HG00096</td><td>0.0614560</td><td>0.01412770</td><td>0.00840232</td><td> 0.00117606</td><td> 0.000689068</td><td>-0.00360215</td><td> 0.001754170</td><td> 0.001004370</td><td>⋯</td><td> 0.005540300</td><td> 0.004180410</td><td> 0.000847215</td><td>-0.00428639</td><td> 0.00685290</td><td>-0.003007320</td><td>-0.00880555</td><td> 0.00846327</td><td> 0.00529455</td><td> 0.00196501</td></tr>\n",
       "\t<tr><th scope=row>2</th><td>0</td><td>HG00100</td><td>0.0676293</td><td>0.00467426</td><td>0.00414875</td><td>-0.00283801</td><td> 0.002514460</td><td> 0.00450913</td><td>-0.014064200</td><td>-0.005245760</td><td>⋯</td><td>-0.004754940</td><td>-0.000662901</td><td> 0.000108460</td><td> 0.00682216</td><td>-0.00117878</td><td> 0.003645810</td><td>-0.00206181</td><td> 0.00811331</td><td>-0.00496643</td><td> 0.00963141</td></tr>\n",
       "\t<tr><th scope=row>3</th><td>0</td><td>HG00101</td><td>0.0692457</td><td>0.01996520</td><td>0.00292905</td><td>-0.00470042</td><td> 0.003615480</td><td>-0.00510890</td><td>-0.000283361</td><td>-0.002814280</td><td>⋯</td><td>-0.000249892</td><td> 0.004918910</td><td> 0.000239065</td><td>-0.00141699</td><td> 0.00275774</td><td> 0.005179090</td><td>-0.00137164</td><td> 0.00107512</td><td>-0.00737408</td><td>-0.00297522</td></tr>\n",
       "\t<tr><th scope=row>4</th><td>0</td><td>HG00102</td><td>0.0724429</td><td>0.01154570</td><td>0.01041680</td><td>-0.00547907</td><td>-0.006383790</td><td>-0.00586325</td><td>-0.000479326</td><td>-0.000350864</td><td>⋯</td><td> 0.001132350</td><td>-0.001169110</td><td> 0.001652250</td><td>-0.00116749</td><td>-0.00751735</td><td> 0.000826815</td><td>-0.00170627</td><td> 0.00726780</td><td> 0.00191206</td><td> 0.00523396</td></tr>\n",
       "\t<tr><th scope=row>5</th><td>0</td><td>HG00103</td><td>0.0590585</td><td>0.01416600</td><td>0.00371450</td><td>-0.00604347</td><td> 0.001325290</td><td>-0.00728176</td><td>-0.003229610</td><td> 0.003308670</td><td>⋯</td><td> 0.008921970</td><td> 0.003232420</td><td>-0.008711460</td><td> 0.00164721</td><td>-0.00354661</td><td>-0.002734630</td><td>-0.00726900</td><td>-0.00264712</td><td> 0.00649497</td><td>-0.00463381</td></tr>\n",
       "\t<tr><th scope=row>6</th><td>0</td><td>HG00105</td><td>0.0689181</td><td>0.02269580</td><td>0.00362533</td><td>-0.00852450</td><td>-0.001998920</td><td>-0.00921712</td><td> 0.000290739</td><td>-0.006170430</td><td>⋯</td><td> 0.004411320</td><td>-0.000822823</td><td>-0.003868600</td><td>-0.00262140</td><td> 0.00315874</td><td> 0.000425080</td><td>-0.00206712</td><td>-0.00759186</td><td>-0.00497082</td><td>-0.00277141</td></tr>\n",
       "</tbody>\n",
       "</table>\n"
      ],
      "text/latex": [
       "A data.frame: 6 × 22\n",
       "\\begin{tabular}{r|lllllllllllllllllllll}\n",
       "  & FID & IID & PC1 & PC2 & X5 & X6 & X7 & X8 & X9 & X10 & ⋯ & X13 & X14 & X15 & X16 & X17 & X18 & X19 & X20 & X21 & X22\\\\\n",
       "  & <dbl> & <chr> & <dbl> & <dbl> & <dbl> & <dbl> & <dbl> & <dbl> & <dbl> & <dbl> & ⋯ & <dbl> & <dbl> & <dbl> & <dbl> & <dbl> & <dbl> & <dbl> & <dbl> & <dbl> & <dbl>\\\\\n",
       "\\hline\n",
       "\t1 & 0 & HG00096 & 0.0614560 & 0.01412770 & 0.00840232 &  0.00117606 &  0.000689068 & -0.00360215 &  0.001754170 &  0.001004370 & ⋯ &  0.005540300 &  0.004180410 &  0.000847215 & -0.00428639 &  0.00685290 & -0.003007320 & -0.00880555 &  0.00846327 &  0.00529455 &  0.00196501\\\\\n",
       "\t2 & 0 & HG00100 & 0.0676293 & 0.00467426 & 0.00414875 & -0.00283801 &  0.002514460 &  0.00450913 & -0.014064200 & -0.005245760 & ⋯ & -0.004754940 & -0.000662901 &  0.000108460 &  0.00682216 & -0.00117878 &  0.003645810 & -0.00206181 &  0.00811331 & -0.00496643 &  0.00963141\\\\\n",
       "\t3 & 0 & HG00101 & 0.0692457 & 0.01996520 & 0.00292905 & -0.00470042 &  0.003615480 & -0.00510890 & -0.000283361 & -0.002814280 & ⋯ & -0.000249892 &  0.004918910 &  0.000239065 & -0.00141699 &  0.00275774 &  0.005179090 & -0.00137164 &  0.00107512 & -0.00737408 & -0.00297522\\\\\n",
       "\t4 & 0 & HG00102 & 0.0724429 & 0.01154570 & 0.01041680 & -0.00547907 & -0.006383790 & -0.00586325 & -0.000479326 & -0.000350864 & ⋯ &  0.001132350 & -0.001169110 &  0.001652250 & -0.00116749 & -0.00751735 &  0.000826815 & -0.00170627 &  0.00726780 &  0.00191206 &  0.00523396\\\\\n",
       "\t5 & 0 & HG00103 & 0.0590585 & 0.01416600 & 0.00371450 & -0.00604347 &  0.001325290 & -0.00728176 & -0.003229610 &  0.003308670 & ⋯ &  0.008921970 &  0.003232420 & -0.008711460 &  0.00164721 & -0.00354661 & -0.002734630 & -0.00726900 & -0.00264712 &  0.00649497 & -0.00463381\\\\\n",
       "\t6 & 0 & HG00105 & 0.0689181 & 0.02269580 & 0.00362533 & -0.00852450 & -0.001998920 & -0.00921712 &  0.000290739 & -0.006170430 & ⋯ &  0.004411320 & -0.000822823 & -0.003868600 & -0.00262140 &  0.00315874 &  0.000425080 & -0.00206712 & -0.00759186 & -0.00497082 & -0.00277141\\\\\n",
       "\\end{tabular}\n"
      ],
      "text/markdown": [
       "\n",
       "A data.frame: 6 × 22\n",
       "\n",
       "| <!--/--> | FID &lt;dbl&gt; | IID &lt;chr&gt; | PC1 &lt;dbl&gt; | PC2 &lt;dbl&gt; | X5 &lt;dbl&gt; | X6 &lt;dbl&gt; | X7 &lt;dbl&gt; | X8 &lt;dbl&gt; | X9 &lt;dbl&gt; | X10 &lt;dbl&gt; | ⋯ ⋯ | X13 &lt;dbl&gt; | X14 &lt;dbl&gt; | X15 &lt;dbl&gt; | X16 &lt;dbl&gt; | X17 &lt;dbl&gt; | X18 &lt;dbl&gt; | X19 &lt;dbl&gt; | X20 &lt;dbl&gt; | X21 &lt;dbl&gt; | X22 &lt;dbl&gt; |\n",
       "|---|---|---|---|---|---|---|---|---|---|---|---|---|---|---|---|---|---|---|---|---|---|\n",
       "| 1 | 0 | HG00096 | 0.0614560 | 0.01412770 | 0.00840232 |  0.00117606 |  0.000689068 | -0.00360215 |  0.001754170 |  0.001004370 | ⋯ |  0.005540300 |  0.004180410 |  0.000847215 | -0.00428639 |  0.00685290 | -0.003007320 | -0.00880555 |  0.00846327 |  0.00529455 |  0.00196501 |\n",
       "| 2 | 0 | HG00100 | 0.0676293 | 0.00467426 | 0.00414875 | -0.00283801 |  0.002514460 |  0.00450913 | -0.014064200 | -0.005245760 | ⋯ | -0.004754940 | -0.000662901 |  0.000108460 |  0.00682216 | -0.00117878 |  0.003645810 | -0.00206181 |  0.00811331 | -0.00496643 |  0.00963141 |\n",
       "| 3 | 0 | HG00101 | 0.0692457 | 0.01996520 | 0.00292905 | -0.00470042 |  0.003615480 | -0.00510890 | -0.000283361 | -0.002814280 | ⋯ | -0.000249892 |  0.004918910 |  0.000239065 | -0.00141699 |  0.00275774 |  0.005179090 | -0.00137164 |  0.00107512 | -0.00737408 | -0.00297522 |\n",
       "| 4 | 0 | HG00102 | 0.0724429 | 0.01154570 | 0.01041680 | -0.00547907 | -0.006383790 | -0.00586325 | -0.000479326 | -0.000350864 | ⋯ |  0.001132350 | -0.001169110 |  0.001652250 | -0.00116749 | -0.00751735 |  0.000826815 | -0.00170627 |  0.00726780 |  0.00191206 |  0.00523396 |\n",
       "| 5 | 0 | HG00103 | 0.0590585 | 0.01416600 | 0.00371450 | -0.00604347 |  0.001325290 | -0.00728176 | -0.003229610 |  0.003308670 | ⋯ |  0.008921970 |  0.003232420 | -0.008711460 |  0.00164721 | -0.00354661 | -0.002734630 | -0.00726900 | -0.00264712 |  0.00649497 | -0.00463381 |\n",
       "| 6 | 0 | HG00105 | 0.0689181 | 0.02269580 | 0.00362533 | -0.00852450 | -0.001998920 | -0.00921712 |  0.000290739 | -0.006170430 | ⋯ |  0.004411320 | -0.000822823 | -0.003868600 | -0.00262140 |  0.00315874 |  0.000425080 | -0.00206712 | -0.00759186 | -0.00497082 | -0.00277141 |\n",
       "\n"
      ],
      "text/plain": [
       "  FID IID     PC1       PC2        X5         X6          X7          \n",
       "1 0   HG00096 0.0614560 0.01412770 0.00840232  0.00117606  0.000689068\n",
       "2 0   HG00100 0.0676293 0.00467426 0.00414875 -0.00283801  0.002514460\n",
       "3 0   HG00101 0.0692457 0.01996520 0.00292905 -0.00470042  0.003615480\n",
       "4 0   HG00102 0.0724429 0.01154570 0.01041680 -0.00547907 -0.006383790\n",
       "5 0   HG00103 0.0590585 0.01416600 0.00371450 -0.00604347  0.001325290\n",
       "6 0   HG00105 0.0689181 0.02269580 0.00362533 -0.00852450 -0.001998920\n",
       "  X8          X9           X10          ⋯ X13          X14         \n",
       "1 -0.00360215  0.001754170  0.001004370 ⋯  0.005540300  0.004180410\n",
       "2  0.00450913 -0.014064200 -0.005245760 ⋯ -0.004754940 -0.000662901\n",
       "3 -0.00510890 -0.000283361 -0.002814280 ⋯ -0.000249892  0.004918910\n",
       "4 -0.00586325 -0.000479326 -0.000350864 ⋯  0.001132350 -0.001169110\n",
       "5 -0.00728176 -0.003229610  0.003308670 ⋯  0.008921970  0.003232420\n",
       "6 -0.00921712  0.000290739 -0.006170430 ⋯  0.004411320 -0.000822823\n",
       "  X15          X16         X17         X18          X19         X20        \n",
       "1  0.000847215 -0.00428639  0.00685290 -0.003007320 -0.00880555  0.00846327\n",
       "2  0.000108460  0.00682216 -0.00117878  0.003645810 -0.00206181  0.00811331\n",
       "3  0.000239065 -0.00141699  0.00275774  0.005179090 -0.00137164  0.00107512\n",
       "4  0.001652250 -0.00116749 -0.00751735  0.000826815 -0.00170627  0.00726780\n",
       "5 -0.008711460  0.00164721 -0.00354661 -0.002734630 -0.00726900 -0.00264712\n",
       "6 -0.003868600 -0.00262140  0.00315874  0.000425080 -0.00206712 -0.00759186\n",
       "  X21         X22        \n",
       "1  0.00529455  0.00196501\n",
       "2 -0.00496643  0.00963141\n",
       "3 -0.00737408 -0.00297522\n",
       "4  0.00191206  0.00523396\n",
       "5  0.00649497 -0.00463381\n",
       "6 -0.00497082 -0.00277141"
      ]
     },
     "metadata": {},
     "output_type": "display_data"
    }
   ],
   "source": [
    "head(data)"
   ]
  },
  {
   "cell_type": "markdown",
   "id": "aa03abeb-96ba-4706-99f3-da96ac480c38",
   "metadata": {
    "papermill": {
     "duration": 0.005004,
     "end_time": "2022-04-28T05:57:51.107068",
     "exception": false,
     "start_time": "2022-04-28T05:57:51.102064",
     "status": "completed"
    },
    "tags": []
   },
   "source": [
    "# Plot"
   ]
  },
  {
   "cell_type": "code",
   "execution_count": 10,
   "id": "98c54911-d0fd-4e0d-866b-5f102cf8a627",
   "metadata": {},
   "outputs": [
    {
     "data": {
      "image/png": "[encoded data removed]",
      "text/plain": [
       "plot without title"
      ]
     },
     "metadata": {
      "image/png": {
       "height": 720,
       "width": 720
      }
     },
     "output_type": "display_data"
    }
   ],
   "source": [
    "options(repr.plot.width=12, repr.plot.height=12)\n",
    "\n",
    "data %>%\n",
    "    ggplot(aes(x=PC1, y=PC2)) +\n",
    "    geom_point(size=2.5) +\n",
    "    theme(text = element_text(size = 25), legend.key.size = unit(1.5, 'cm'))"
   ]
  },
  {
   "cell_type": "code",
   "execution_count": null,
   "id": "58593c87-7f51-41ea-92c7-e10b2504535e",
   "metadata": {},
   "outputs": [],
   "source": []
  }
 ],
 "metadata": {
  "jupytext": {
   "cell_metadata_filter": "all,-execution,-papermill,-trusted"
  },
  "kernelspec": {
   "display_name": "R",
   "language": "R",
   "name": "ir"
  },
  "language_info": {
   "codemirror_mode": "r",
   "file_extension": ".r",
   "mimetype": "text/x-r-source",
   "name": "R",
   "pygments_lexer": "r",
   "version": "3.6.3"
  },
  "papermill": {
   "default_parameters": {},
   "duration": 41.498116,
   "end_time": "2022-04-28T05:57:59.440487",
   "environment_variables": {},
   "exception": null,
   "input_path": "nbs/15_gsa_gls/20-null_simulations/02_05-qc-missingness-plot.ipynb",
   "output_path": "nbs/15_gsa_gls/20-null_simulations/02_05-qc-missingness-plot.run.ipynb",
   "parameters": {},
   "start_time": "2022-04-28T05:57:17.942371",
   "version": "2.3.4"
  }
 },
 "nbformat": 4,
 "nbformat_minor": 5
}
