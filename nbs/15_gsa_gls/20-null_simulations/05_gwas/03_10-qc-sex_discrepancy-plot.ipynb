{
 "cells": [
  {
   "cell_type": "markdown",
   "id": "88e50759-56ef-4d6c-88b4-5daf5b2be438",
   "metadata": {
    "papermill": {
     "duration": 0.004099,
     "end_time": "2022-04-28T05:57:19.151858",
     "exception": false,
     "start_time": "2022-04-28T05:57:19.147759",
     "status": "completed"
    },
    "tags": []
   },
   "source": [
    "# Description"
   ]
  },
  {
   "cell_type": "markdown",
   "id": "5ab0a512-dd22-406c-8cf4-9b5c6902618c",
   "metadata": {
    "papermill": {
     "duration": 0.003443,
     "end_time": "2022-04-28T05:57:19.159228",
     "exception": false,
     "start_time": "2022-04-28T05:57:19.155785",
     "status": "completed"
    },
    "tags": []
   },
   "source": [
    "It reads outputs from sex discrepancy previosly computed, and plots the inbreeding coefficient (https://www.cog-genomics.org/plink/1.9/formats#sexcheck) for samples to know whether self-reported sex and imputed sex from X chromosome match."
   ]
  },
  {
   "cell_type": "markdown",
   "id": "82035864-e836-43c5-bf57-3d242a6b82fa",
   "metadata": {
    "papermill": {
     "duration": 0.004606,
     "end_time": "2022-04-28T05:57:19.167576",
     "exception": false,
     "start_time": "2022-04-28T05:57:19.162970",
     "status": "completed"
    },
    "tags": []
   },
   "source": [
    "# Modules"
   ]
  },
  {
   "cell_type": "code",
   "execution_count": 1,
   "id": "9f0ffe4b-c8ce-4277-8cc4-5c949130e273",
   "metadata": {
    "papermill": {
     "duration": 1.017295,
     "end_time": "2022-04-28T05:57:20.188582",
     "exception": false,
     "start_time": "2022-04-28T05:57:19.171287",
     "status": "completed"
    },
    "tags": []
   },
   "outputs": [
    {
     "name": "stderr",
     "output_type": "stream",
     "text": [
      "── \u001b[1mAttaching packages\u001b[22m ─────────────────────────────────────── tidyverse 1.3.1 ──\n",
      "\n",
      "\u001b[32m✔\u001b[39m \u001b[34mggplot2\u001b[39m 3.3.5     \u001b[32m✔\u001b[39m \u001b[34mpurrr  \u001b[39m 0.3.4\n",
      "\u001b[32m✔\u001b[39m \u001b[34mtibble \u001b[39m 3.1.6     \u001b[32m✔\u001b[39m \u001b[34mdplyr  \u001b[39m 1.0.8\n",
      "\u001b[32m✔\u001b[39m \u001b[34mtidyr  \u001b[39m 1.2.0     \u001b[32m✔\u001b[39m \u001b[34mstringr\u001b[39m 1.4.0\n",
      "\u001b[32m✔\u001b[39m \u001b[34mreadr  \u001b[39m 2.1.2     \u001b[32m✔\u001b[39m \u001b[34mforcats\u001b[39m 0.5.1\n",
      "\n",
      "── \u001b[1mConflicts\u001b[22m ────────────────────────────────────────── tidyverse_conflicts() ──\n",
      "\u001b[31m✖\u001b[39m \u001b[34mdplyr\u001b[39m::\u001b[32mfilter()\u001b[39m masks \u001b[34mstats\u001b[39m::filter()\n",
      "\u001b[31m✖\u001b[39m \u001b[34mdplyr\u001b[39m::\u001b[32mlag()\u001b[39m    masks \u001b[34mstats\u001b[39m::lag()\n",
      "\n"
     ]
    }
   ],
   "source": [
    "library(tidyverse)"
   ]
  },
  {
   "cell_type": "markdown",
   "id": "7a6fd2c6-985c-42a2-97c9-156ad913d8e9",
   "metadata": {
    "papermill": {
     "duration": 0.003836,
     "end_time": "2022-04-28T05:57:20.200604",
     "exception": false,
     "start_time": "2022-04-28T05:57:20.196768",
     "status": "completed"
    },
    "tags": []
   },
   "source": [
    "# Paths"
   ]
  },
  {
   "cell_type": "code",
   "execution_count": 2,
   "id": "a397d4d7-6c2e-4bae-8148-e331f1a507cf",
   "metadata": {
    "papermill": {
     "duration": 0.061572,
     "end_time": "2022-04-28T05:57:20.266079",
     "exception": false,
     "start_time": "2022-04-28T05:57:20.204507",
     "status": "completed"
    },
    "tags": []
   },
   "outputs": [],
   "source": [
    "A1000G_GENOTYPES_DIR <- Sys.getenv(\"PHENOPLIER_A1000G_GENOTYPES_DIR\")"
   ]
  },
  {
   "cell_type": "code",
   "execution_count": 3,
   "id": "9eeb7d67-5e3d-4df6-b734-7bed4b32eacf",
   "metadata": {
    "papermill": {
     "duration": 0.022812,
     "end_time": "2022-04-28T05:57:20.293314",
     "exception": false,
     "start_time": "2022-04-28T05:57:20.270502",
     "status": "completed"
    },
    "tags": []
   },
   "outputs": [
    {
     "data": {
      "text/html": [
       "'/opt/data/data/1000g/genotypes'"
      ],
      "text/latex": [
       "'/opt/data/data/1000g/genotypes'"
      ],
      "text/markdown": [
       "'/opt/data/data/1000g/genotypes'"
      ],
      "text/plain": [
       "[1] \"/opt/data/data/1000g/genotypes\""
      ]
     },
     "metadata": {},
     "output_type": "display_data"
    }
   ],
   "source": [
    "A1000G_GENOTYPES_DIR"
   ]
  },
  {
   "cell_type": "code",
   "execution_count": 4,
   "id": "ce37e50c-993e-4f55-bedc-95a543cd94b0",
   "metadata": {
    "papermill": {
     "duration": 0.015514,
     "end_time": "2022-04-28T05:57:20.313256",
     "exception": false,
     "start_time": "2022-04-28T05:57:20.297742",
     "status": "completed"
    },
    "tags": []
   },
   "outputs": [],
   "source": [
    "SUBSETS_DIR <- file.path(A1000G_GENOTYPES_DIR, \"subsets\")"
   ]
  },
  {
   "cell_type": "code",
   "execution_count": 5,
   "id": "c4042cca-3ad3-467e-bfa6-97dbaf48fdc8",
   "metadata": {
    "papermill": {
     "duration": 0.02065,
     "end_time": "2022-04-28T05:57:20.338463",
     "exception": false,
     "start_time": "2022-04-28T05:57:20.317813",
     "status": "completed"
    },
    "tags": []
   },
   "outputs": [
    {
     "data": {
      "text/html": [
       "'/opt/data/data/1000g/genotypes/subsets'"
      ],
      "text/latex": [
       "'/opt/data/data/1000g/genotypes/subsets'"
      ],
      "text/markdown": [
       "'/opt/data/data/1000g/genotypes/subsets'"
      ],
      "text/plain": [
       "[1] \"/opt/data/data/1000g/genotypes/subsets\""
      ]
     },
     "metadata": {},
     "output_type": "display_data"
    }
   ],
   "source": [
    "SUBSETS_DIR"
   ]
  },
  {
   "cell_type": "markdown",
   "id": "513a1e33-ad0b-494f-8176-578b523000af",
   "metadata": {
    "papermill": {
     "duration": 0.004256,
     "end_time": "2022-04-28T05:57:20.347259",
     "exception": false,
     "start_time": "2022-04-28T05:57:20.343003",
     "status": "completed"
    },
    "tags": []
   },
   "source": [
    "# Load data"
   ]
  },
  {
   "cell_type": "code",
   "execution_count": 6,
   "id": "621c002f-db24-47de-83f7-c859b19bec9a",
   "metadata": {},
   "outputs": [],
   "source": [
    "gender <- read.table(file.path(SUBSETS_DIR, \"all_phase3.1.split_x.sexcheck.sexcheck\"), header=T,as.is=T)"
   ]
  },
  {
   "cell_type": "code",
   "execution_count": 7,
   "id": "8cfbb608-820d-4fb8-8d15-411e66fbc232",
   "metadata": {},
   "outputs": [
    {
     "data": {
      "text/html": [
       "<style>\n",
       ".list-inline {list-style: none; margin:0; padding: 0}\n",
       ".list-inline>li {display: inline-block}\n",
       ".list-inline>li:not(:last-child)::after {content: \"\\00b7\"; padding: 0 .5ex}\n",
       "</style>\n",
       "<ol class=list-inline><li>2504</li><li>6</li></ol>\n"
      ],
      "text/latex": [
       "\\begin{enumerate*}\n",
       "\\item 2504\n",
       "\\item 6\n",
       "\\end{enumerate*}\n"
      ],
      "text/markdown": [
       "1. 2504\n",
       "2. 6\n",
       "\n",
       "\n"
      ],
      "text/plain": [
       "[1] 2504    6"
      ]
     },
     "metadata": {},
     "output_type": "display_data"
    }
   ],
   "source": [
    "dim(gender)"
   ]
  },
  {
   "cell_type": "code",
   "execution_count": 8,
   "id": "8c55ea0e-0cd3-4032-8ee0-ab3c96b55060",
   "metadata": {},
   "outputs": [
    {
     "data": {
      "text/html": [
       "<table class=\"dataframe\">\n",
       "<caption>A data.frame: 6 × 6</caption>\n",
       "<thead>\n",
       "\t<tr><th></th><th scope=col>FID</th><th scope=col>IID</th><th scope=col>PEDSEX</th><th scope=col>SNPSEX</th><th scope=col>STATUS</th><th scope=col>F</th></tr>\n",
       "\t<tr><th></th><th scope=col>&lt;int&gt;</th><th scope=col>&lt;chr&gt;</th><th scope=col>&lt;int&gt;</th><th scope=col>&lt;int&gt;</th><th scope=col>&lt;chr&gt;</th><th scope=col>&lt;dbl&gt;</th></tr>\n",
       "</thead>\n",
       "<tbody>\n",
       "\t<tr><th scope=row>1</th><td>0</td><td>HG00096</td><td>1</td><td>1</td><td>OK     </td><td>1.0000</td></tr>\n",
       "\t<tr><th scope=row>2</th><td>0</td><td>HG00097</td><td>2</td><td>0</td><td>PROBLEM</td><td>0.2480</td></tr>\n",
       "\t<tr><th scope=row>3</th><td>0</td><td>HG00099</td><td>2</td><td>0</td><td>PROBLEM</td><td>0.2294</td></tr>\n",
       "\t<tr><th scope=row>4</th><td>0</td><td>HG00100</td><td>2</td><td>2</td><td>OK     </td><td>0.1537</td></tr>\n",
       "\t<tr><th scope=row>5</th><td>0</td><td>HG00101</td><td>1</td><td>1</td><td>OK     </td><td>1.0000</td></tr>\n",
       "\t<tr><th scope=row>6</th><td>0</td><td>HG00102</td><td>2</td><td>2</td><td>OK     </td><td>0.1916</td></tr>\n",
       "</tbody>\n",
       "</table>\n"
      ],
      "text/latex": [
       "A data.frame: 6 × 6\n",
       "\\begin{tabular}{r|llllll}\n",
       "  & FID & IID & PEDSEX & SNPSEX & STATUS & F\\\\\n",
       "  & <int> & <chr> & <int> & <int> & <chr> & <dbl>\\\\\n",
       "\\hline\n",
       "\t1 & 0 & HG00096 & 1 & 1 & OK      & 1.0000\\\\\n",
       "\t2 & 0 & HG00097 & 2 & 0 & PROBLEM & 0.2480\\\\\n",
       "\t3 & 0 & HG00099 & 2 & 0 & PROBLEM & 0.2294\\\\\n",
       "\t4 & 0 & HG00100 & 2 & 2 & OK      & 0.1537\\\\\n",
       "\t5 & 0 & HG00101 & 1 & 1 & OK      & 1.0000\\\\\n",
       "\t6 & 0 & HG00102 & 2 & 2 & OK      & 0.1916\\\\\n",
       "\\end{tabular}\n"
      ],
      "text/markdown": [
       "\n",
       "A data.frame: 6 × 6\n",
       "\n",
       "| <!--/--> | FID &lt;int&gt; | IID &lt;chr&gt; | PEDSEX &lt;int&gt; | SNPSEX &lt;int&gt; | STATUS &lt;chr&gt; | F &lt;dbl&gt; |\n",
       "|---|---|---|---|---|---|---|\n",
       "| 1 | 0 | HG00096 | 1 | 1 | OK      | 1.0000 |\n",
       "| 2 | 0 | HG00097 | 2 | 0 | PROBLEM | 0.2480 |\n",
       "| 3 | 0 | HG00099 | 2 | 0 | PROBLEM | 0.2294 |\n",
       "| 4 | 0 | HG00100 | 2 | 2 | OK      | 0.1537 |\n",
       "| 5 | 0 | HG00101 | 1 | 1 | OK      | 1.0000 |\n",
       "| 6 | 0 | HG00102 | 2 | 2 | OK      | 0.1916 |\n",
       "\n"
      ],
      "text/plain": [
       "  FID IID     PEDSEX SNPSEX STATUS  F     \n",
       "1 0   HG00096 1      1      OK      1.0000\n",
       "2 0   HG00097 2      0      PROBLEM 0.2480\n",
       "3 0   HG00099 2      0      PROBLEM 0.2294\n",
       "4 0   HG00100 2      2      OK      0.1537\n",
       "5 0   HG00101 1      1      OK      1.0000\n",
       "6 0   HG00102 2      2      OK      0.1916"
      ]
     },
     "metadata": {},
     "output_type": "display_data"
    }
   ],
   "source": [
    "head(gender)"
   ]
  },
  {
   "cell_type": "markdown",
   "id": "38cf1313-4ea7-44cc-880c-3943aa2ccdd4",
   "metadata": {
    "papermill": {
     "duration": 0.005004,
     "end_time": "2022-04-28T05:57:51.107068",
     "exception": false,
     "start_time": "2022-04-28T05:57:51.102064",
     "status": "completed"
    },
    "tags": []
   },
   "source": [
    "# Histogram"
   ]
  },
  {
   "cell_type": "code",
   "execution_count": 9,
   "id": "bda5259c-75d8-43d9-b4ba-d0499af8a946",
   "metadata": {
    "papermill": {
     "duration": 0.14385,
     "end_time": "2022-04-28T05:57:51.256141",
     "exception": false,
     "start_time": "2022-04-28T05:57:51.112291",
     "status": "completed"
    },
    "tags": []
   },
   "outputs": [
    {
     "data": {
      "image/png": "[encoded data removed]",
      "text/plain": [
       "Plot with title “Gender”"
      ]
     },
     "metadata": {
      "image/png": {
       "height": 420,
       "width": 420
      }
     },
     "output_type": "display_data"
    }
   ],
   "source": [
    "hist(gender[,6],main=\"Gender\", xlab=\"F\")"
   ]
  },
  {
   "cell_type": "code",
   "execution_count": 10,
   "id": "11adb24f-30ec-4497-8017-8977b97ee48d",
   "metadata": {
    "papermill": {
     "duration": 0.033455,
     "end_time": "2022-04-28T05:57:51.299683",
     "exception": false,
     "start_time": "2022-04-28T05:57:51.266228",
     "status": "completed"
    },
    "tags": []
   },
   "outputs": [
    {
     "data": {
      "text/html": [
       "<table class=\"dataframe\">\n",
       "<caption>A data.frame: 1 × 4</caption>\n",
       "<thead>\n",
       "\t<tr><th scope=col>mean</th><th scope=col>sd</th><th scope=col>max</th><th scope=col>min</th></tr>\n",
       "\t<tr><th scope=col>&lt;dbl&gt;</th><th scope=col>&lt;dbl&gt;</th><th scope=col>&lt;dbl&gt;</th><th scope=col>&lt;dbl&gt;</th></tr>\n",
       "</thead>\n",
       "<tbody>\n",
       "\t<tr><td>0.5167192</td><td>0.5082851</td><td>1</td><td>-0.589</td></tr>\n",
       "</tbody>\n",
       "</table>\n"
      ],
      "text/latex": [
       "A data.frame: 1 × 4\n",
       "\\begin{tabular}{llll}\n",
       " mean & sd & max & min\\\\\n",
       " <dbl> & <dbl> & <dbl> & <dbl>\\\\\n",
       "\\hline\n",
       "\t 0.5167192 & 0.5082851 & 1 & -0.589\\\\\n",
       "\\end{tabular}\n"
      ],
      "text/markdown": [
       "\n",
       "A data.frame: 1 × 4\n",
       "\n",
       "| mean &lt;dbl&gt; | sd &lt;dbl&gt; | max &lt;dbl&gt; | min &lt;dbl&gt; |\n",
       "|---|---|---|---|\n",
       "| 0.5167192 | 0.5082851 | 1 | -0.589 |\n",
       "\n"
      ],
      "text/plain": [
       "  mean      sd        max min   \n",
       "1 0.5167192 0.5082851 1   -0.589"
      ]
     },
     "metadata": {},
     "output_type": "display_data"
    }
   ],
   "source": [
    "gender %>% summarise(mean = mean(F), sd = sd(F), max = max(F), min = min(F))"
   ]
  },
  {
   "cell_type": "code",
   "execution_count": 11,
   "id": "08d4e362-e879-46fc-9dca-7be94d5b17cc",
   "metadata": {
    "papermill": {
     "duration": 0.046496,
     "end_time": "2022-04-28T05:57:51.351783",
     "exception": false,
     "start_time": "2022-04-28T05:57:51.305287",
     "status": "completed"
    },
    "tags": []
   },
   "outputs": [
    {
     "data": {
      "text/html": [
       "'[807 x 6]'"
      ],
      "text/latex": [
       "'{[}807 x 6{]}'"
      ],
      "text/markdown": [
       "'[807 x 6]'"
      ],
      "text/plain": [
       "[1] \"[807 x 6]\""
      ]
     },
     "metadata": {},
     "output_type": "display_data"
    }
   ],
   "source": [
    "gender %>%\n",
    "  filter(F < 0.20) %>%\n",
    "  dim_desc()"
   ]
  },
  {
   "cell_type": "code",
   "execution_count": 12,
   "id": "71da4a98-b551-48cd-a8ce-cfe367291ad0",
   "metadata": {
    "papermill": {
     "duration": 0.046496,
     "end_time": "2022-04-28T05:57:51.351783",
     "exception": false,
     "start_time": "2022-04-28T05:57:51.305287",
     "status": "completed"
    },
    "tags": []
   },
   "outputs": [
    {
     "data": {
      "text/html": [
       "'[845 x 6]'"
      ],
      "text/latex": [
       "'{[}845 x 6{]}'"
      ],
      "text/markdown": [
       "'[845 x 6]'"
      ],
      "text/plain": [
       "[1] \"[845 x 6]\""
      ]
     },
     "metadata": {},
     "output_type": "display_data"
    }
   ],
   "source": [
    "gender %>%\n",
    "  filter(F < 0.21) %>%\n",
    "  dim_desc()"
   ]
  },
  {
   "cell_type": "code",
   "execution_count": 13,
   "id": "0a31234b-39b3-4496-8b7f-62789f524671",
   "metadata": {
    "papermill": {
     "duration": 0.046496,
     "end_time": "2022-04-28T05:57:51.351783",
     "exception": false,
     "start_time": "2022-04-28T05:57:51.305287",
     "status": "completed"
    },
    "tags": []
   },
   "outputs": [
    {
     "data": {
      "text/html": [
       "'[896 x 6]'"
      ],
      "text/latex": [
       "'{[}896 x 6{]}'"
      ],
      "text/markdown": [
       "'[896 x 6]'"
      ],
      "text/plain": [
       "[1] \"[896 x 6]\""
      ]
     },
     "metadata": {},
     "output_type": "display_data"
    }
   ],
   "source": [
    "gender %>%\n",
    "  filter(F < 0.22) %>%\n",
    "  dim_desc()"
   ]
  },
  {
   "cell_type": "code",
   "execution_count": 14,
   "id": "b28aba9c-86db-446c-8003-0790b18203f6",
   "metadata": {
    "papermill": {
     "duration": 0.046496,
     "end_time": "2022-04-28T05:57:51.351783",
     "exception": false,
     "start_time": "2022-04-28T05:57:51.305287",
     "status": "completed"
    },
    "tags": []
   },
   "outputs": [
    {
     "data": {
      "text/html": [
       "'[962 x 6]'"
      ],
      "text/latex": [
       "'{[}962 x 6{]}'"
      ],
      "text/markdown": [
       "'[962 x 6]'"
      ],
      "text/plain": [
       "[1] \"[962 x 6]\""
      ]
     },
     "metadata": {},
     "output_type": "display_data"
    }
   ],
   "source": [
    "gender %>%\n",
    "  filter(F < 0.23) %>%\n",
    "  dim_desc()"
   ]
  },
  {
   "cell_type": "code",
   "execution_count": 15,
   "id": "c6e2f896-4cd5-4470-bc69-e880de7b0265",
   "metadata": {
    "papermill": {
     "duration": 0.046496,
     "end_time": "2022-04-28T05:57:51.351783",
     "exception": false,
     "start_time": "2022-04-28T05:57:51.305287",
     "status": "completed"
    },
    "tags": []
   },
   "outputs": [
    {
     "data": {
      "text/html": [
       "'[1,003 x 6]'"
      ],
      "text/latex": [
       "'{[}1,003 x 6{]}'"
      ],
      "text/markdown": [
       "'[1,003 x 6]'"
      ],
      "text/plain": [
       "[1] \"[1,003 x 6]\""
      ]
     },
     "metadata": {},
     "output_type": "display_data"
    }
   ],
   "source": [
    "gender %>%\n",
    "  filter(F < 0.24) %>%\n",
    "  dim_desc()"
   ]
  },
  {
   "cell_type": "code",
   "execution_count": 16,
   "id": "2e88a210-1988-4d8b-b995-655f5d4211a3",
   "metadata": {
    "papermill": {
     "duration": 0.046496,
     "end_time": "2022-04-28T05:57:51.351783",
     "exception": false,
     "start_time": "2022-04-28T05:57:51.305287",
     "status": "completed"
    },
    "tags": []
   },
   "outputs": [
    {
     "data": {
      "text/html": [
       "'[1,062 x 6]'"
      ],
      "text/latex": [
       "'{[}1,062 x 6{]}'"
      ],
      "text/markdown": [
       "'[1,062 x 6]'"
      ],
      "text/plain": [
       "[1] \"[1,062 x 6]\""
      ]
     },
     "metadata": {},
     "output_type": "display_data"
    }
   ],
   "source": [
    "gender %>%\n",
    "  filter(F < 0.25) %>%\n",
    "  dim_desc()"
   ]
  },
  {
   "cell_type": "code",
   "execution_count": 17,
   "id": "7805931a-a6f1-43e2-894d-9533b2c348a4",
   "metadata": {
    "papermill": {
     "duration": 0.046496,
     "end_time": "2022-04-28T05:57:51.351783",
     "exception": false,
     "start_time": "2022-04-28T05:57:51.305287",
     "status": "completed"
    },
    "tags": []
   },
   "outputs": [
    {
     "data": {
      "text/html": [
       "'[1,233 x 6]'"
      ],
      "text/latex": [
       "'{[}1,233 x 6{]}'"
      ],
      "text/markdown": [
       "'[1,233 x 6]'"
      ],
      "text/plain": [
       "[1] \"[1,233 x 6]\""
      ]
     },
     "metadata": {},
     "output_type": "display_data"
    }
   ],
   "source": [
    "gender %>%\n",
    "  filter(F > 0.80) %>%\n",
    "  dim_desc()"
   ]
  },
  {
   "cell_type": "code",
   "execution_count": 18,
   "id": "9bc1197a-b0e0-4549-84db-a1b89592559b",
   "metadata": {
    "papermill": {
     "duration": 0.046496,
     "end_time": "2022-04-28T05:57:51.351783",
     "exception": false,
     "start_time": "2022-04-28T05:57:51.305287",
     "status": "completed"
    },
    "tags": []
   },
   "outputs": [
    {
     "data": {
      "text/html": [
       "'[464 x 6]'"
      ],
      "text/latex": [
       "'{[}464 x 6{]}'"
      ],
      "text/markdown": [
       "'[464 x 6]'"
      ],
      "text/plain": [
       "[1] \"[464 x 6]\""
      ]
     },
     "metadata": {},
     "output_type": "display_data"
    }
   ],
   "source": [
    "gender %>%\n",
    "  filter(STATUS == \"PROBLEM\") %>%\n",
    "  dim_desc()"
   ]
  },
  {
   "cell_type": "markdown",
   "id": "74228609-7c0c-4cf9-92cf-adcb8a297b5a",
   "metadata": {
    "papermill": {
     "duration": 0.006232,
     "end_time": "2022-04-28T05:57:59.210051",
     "exception": false,
     "start_time": "2022-04-28T05:57:59.203819",
     "status": "completed"
    },
    "tags": []
   },
   "source": [
    "In the next script (`03_15-qc-sex_discrepancy-remove.sh`) I choose a cutoff for `F` based on these analyses."
   ]
  },
  {
   "cell_type": "code",
   "execution_count": null,
   "id": "072c6db4-d57b-45b0-a63d-864c04d53923",
   "metadata": {},
   "outputs": [],
   "source": []
  }
 ],
 "metadata": {
  "jupytext": {
   "cell_metadata_filter": "all,-execution,-papermill,-trusted"
  },
  "kernelspec": {
   "display_name": "R",
   "language": "R",
   "name": "ir"
  },
  "language_info": {
   "codemirror_mode": "r",
   "file_extension": ".r",
   "mimetype": "text/x-r-source",
   "name": "R",
   "pygments_lexer": "r",
   "version": "3.6.3"
  },
  "papermill": {
   "default_parameters": {},
   "duration": 41.498116,
   "end_time": "2022-04-28T05:57:59.440487",
   "environment_variables": {},
   "exception": null,
   "input_path": "nbs/15_gsa_gls/20-null_simulations/02_05-qc-missingness-plot.ipynb",
   "output_path": "nbs/15_gsa_gls/20-null_simulations/02_05-qc-missingness-plot.run.ipynb",
   "parameters": {},
   "start_time": "2022-04-28T05:57:17.942371",
   "version": "2.3.4"
  }
 },
 "nbformat": 4,
 "nbformat_minor": 5
}
