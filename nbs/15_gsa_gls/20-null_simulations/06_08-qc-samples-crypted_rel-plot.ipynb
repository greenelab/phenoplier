{
 "cells": [
  {
   "cell_type": "markdown",
   "id": "88e50759-56ef-4d6c-88b4-5daf5b2be438",
   "metadata": {},
   "source": [
    "# Description"
   ]
  },
  {
   "cell_type": "markdown",
   "id": "5ab0a512-dd22-406c-8cf4-9b5c6902618c",
   "metadata": {},
   "source": [
    "TODO"
   ]
  },
  {
   "cell_type": "markdown",
   "id": "82035864-e836-43c5-bf57-3d242a6b82fa",
   "metadata": {},
   "source": [
    "# Modules"
   ]
  },
  {
   "cell_type": "code",
   "execution_count": 1,
   "id": "9f0ffe4b-c8ce-4277-8cc4-5c949130e273",
   "metadata": {},
   "outputs": [
    {
     "name": "stderr",
     "output_type": "stream",
     "text": [
      "── \u001b[1mAttaching packages\u001b[22m ─────────────────────────────────────── tidyverse 1.3.1 ──\n",
      "\n",
      "\u001b[32m✔\u001b[39m \u001b[34mggplot2\u001b[39m 3.3.5     \u001b[32m✔\u001b[39m \u001b[34mpurrr  \u001b[39m 0.3.4\n",
      "\u001b[32m✔\u001b[39m \u001b[34mtibble \u001b[39m 3.1.6     \u001b[32m✔\u001b[39m \u001b[34mdplyr  \u001b[39m 1.0.8\n",
      "\u001b[32m✔\u001b[39m \u001b[34mtidyr  \u001b[39m 1.2.0     \u001b[32m✔\u001b[39m \u001b[34mstringr\u001b[39m 1.4.0\n",
      "\u001b[32m✔\u001b[39m \u001b[34mreadr  \u001b[39m 2.1.2     \u001b[32m✔\u001b[39m \u001b[34mforcats\u001b[39m 0.5.1\n",
      "\n",
      "── \u001b[1mConflicts\u001b[22m ────────────────────────────────────────── tidyverse_conflicts() ──\n",
      "\u001b[31m✖\u001b[39m \u001b[34mdplyr\u001b[39m::\u001b[32mfilter()\u001b[39m masks \u001b[34mstats\u001b[39m::filter()\n",
      "\u001b[31m✖\u001b[39m \u001b[34mdplyr\u001b[39m::\u001b[32mlag()\u001b[39m    masks \u001b[34mstats\u001b[39m::lag()\n",
      "\n"
     ]
    }
   ],
   "source": [
    "library(tidyverse)"
   ]
  },
  {
   "cell_type": "markdown",
   "id": "7a6fd2c6-985c-42a2-97c9-156ad913d8e9",
   "metadata": {},
   "source": [
    "# Paths"
   ]
  },
  {
   "cell_type": "code",
   "execution_count": 2,
   "id": "a397d4d7-6c2e-4bae-8148-e331f1a507cf",
   "metadata": {},
   "outputs": [],
   "source": [
    "A1000G_GENOTYPES_DIR <- Sys.getenv(\"PHENOPLIER_A1000G_GENOTYPES_DIR\")"
   ]
  },
  {
   "cell_type": "code",
   "execution_count": 3,
   "id": "9eeb7d67-5e3d-4df6-b734-7bed4b32eacf",
   "metadata": {},
   "outputs": [
    {
     "data": {
      "text/html": [
       "'/opt/data/data/1000g/genotypes'"
      ],
      "text/latex": [
       "'/opt/data/data/1000g/genotypes'"
      ],
      "text/markdown": [
       "'/opt/data/data/1000g/genotypes'"
      ],
      "text/plain": [
       "[1] \"/opt/data/data/1000g/genotypes\""
      ]
     },
     "metadata": {},
     "output_type": "display_data"
    }
   ],
   "source": [
    "A1000G_GENOTYPES_DIR"
   ]
  },
  {
   "cell_type": "code",
   "execution_count": 4,
   "id": "ce37e50c-993e-4f55-bedc-95a543cd94b0",
   "metadata": {},
   "outputs": [],
   "source": [
    "SUBSETS_DIR <- file.path(A1000G_GENOTYPES_DIR, \"subsets\")"
   ]
  },
  {
   "cell_type": "code",
   "execution_count": 5,
   "id": "c4042cca-3ad3-467e-bfa6-97dbaf48fdc8",
   "metadata": {},
   "outputs": [
    {
     "data": {
      "text/html": [
       "'/opt/data/data/1000g/genotypes/subsets'"
      ],
      "text/latex": [
       "'/opt/data/data/1000g/genotypes/subsets'"
      ],
      "text/markdown": [
       "'/opt/data/data/1000g/genotypes/subsets'"
      ],
      "text/plain": [
       "[1] \"/opt/data/data/1000g/genotypes/subsets\""
      ]
     },
     "metadata": {},
     "output_type": "display_data"
    }
   ],
   "source": [
    "SUBSETS_DIR"
   ]
  },
  {
   "cell_type": "markdown",
   "id": "513a1e33-ad0b-494f-8176-578b523000af",
   "metadata": {},
   "source": [
    "# Load data"
   ]
  },
  {
   "cell_type": "code",
   "execution_count": 6,
   "id": "5112c8cc-e24a-4a9e-9541-6b5012d86c3a",
   "metadata": {},
   "outputs": [],
   "source": [
    "relatedness = read.table(file.path(SUBSETS_DIR, \"all_phase3.6.pihat_min0.2.genome\"), header=T)"
   ]
  },
  {
   "cell_type": "code",
   "execution_count": 7,
   "id": "ab156339-a0d0-401d-b7fd-f474bad99e7f",
   "metadata": {},
   "outputs": [
    {
     "data": {
      "text/html": [
       "<style>\n",
       ".list-inline {list-style: none; margin:0; padding: 0}\n",
       ".list-inline>li {display: inline-block}\n",
       ".list-inline>li:not(:last-child)::after {content: \"\\00b7\"; padding: 0 .5ex}\n",
       "</style>\n",
       "<ol class=list-inline><li>138091</li><li>14</li></ol>\n"
      ],
      "text/latex": [
       "\\begin{enumerate*}\n",
       "\\item 138091\n",
       "\\item 14\n",
       "\\end{enumerate*}\n"
      ],
      "text/markdown": [
       "1. 138091\n",
       "2. 14\n",
       "\n",
       "\n"
      ],
      "text/plain": [
       "[1] 138091     14"
      ]
     },
     "metadata": {},
     "output_type": "display_data"
    }
   ],
   "source": [
    "dim(relatedness)"
   ]
  },
  {
   "cell_type": "code",
   "execution_count": 8,
   "id": "854e5dff-4c3d-446a-b735-aa33b35241a4",
   "metadata": {},
   "outputs": [
    {
     "data": {
      "text/html": [
       "<table class=\"dataframe\">\n",
       "<caption>A data.frame: 6 × 14</caption>\n",
       "<thead>\n",
       "\t<tr><th></th><th scope=col>FID1</th><th scope=col>IID1</th><th scope=col>FID2</th><th scope=col>IID2</th><th scope=col>RT</th><th scope=col>EZ</th><th scope=col>Z0</th><th scope=col>Z1</th><th scope=col>Z2</th><th scope=col>PI_HAT</th><th scope=col>PHE</th><th scope=col>DST</th><th scope=col>PPC</th><th scope=col>RATIO</th></tr>\n",
       "\t<tr><th></th><th scope=col>&lt;int&gt;</th><th scope=col>&lt;fct&gt;</th><th scope=col>&lt;int&gt;</th><th scope=col>&lt;fct&gt;</th><th scope=col>&lt;fct&gt;</th><th scope=col>&lt;int&gt;</th><th scope=col>&lt;dbl&gt;</th><th scope=col>&lt;dbl&gt;</th><th scope=col>&lt;dbl&gt;</th><th scope=col>&lt;dbl&gt;</th><th scope=col>&lt;int&gt;</th><th scope=col>&lt;dbl&gt;</th><th scope=col>&lt;dbl&gt;</th><th scope=col>&lt;dbl&gt;</th></tr>\n",
       "</thead>\n",
       "<tbody>\n",
       "\t<tr><th scope=row>1</th><td>0</td><td>HG00096</td><td>0</td><td>HG00112</td><td>OT</td><td>0</td><td>0.8000</td><td>0</td><td>0.2000</td><td>0.2000</td><td>-1</td><td>0.914907</td><td>0.9723</td><td>2.1206</td></tr>\n",
       "\t<tr><th scope=row>2</th><td>0</td><td>HG00096</td><td>0</td><td>HG00114</td><td>OT</td><td>0</td><td>0.7969</td><td>0</td><td>0.2031</td><td>0.2031</td><td>-1</td><td>0.915012</td><td>0.9985</td><td>2.1907</td></tr>\n",
       "\t<tr><th scope=row>3</th><td>0</td><td>HG00096</td><td>0</td><td>HG00117</td><td>OT</td><td>0</td><td>0.7977</td><td>0</td><td>0.2023</td><td>0.2023</td><td>-1</td><td>0.914186</td><td>0.7807</td><td>2.0475</td></tr>\n",
       "\t<tr><th scope=row>4</th><td>0</td><td>HG00096</td><td>0</td><td>HG00267</td><td>OT</td><td>0</td><td>0.7993</td><td>0</td><td>0.2007</td><td>0.2007</td><td>-1</td><td>0.914671</td><td>0.9779</td><td>2.1267</td></tr>\n",
       "\t<tr><th scope=row>5</th><td>0</td><td>HG00096</td><td>0</td><td>HG00308</td><td>OT</td><td>0</td><td>0.7979</td><td>0</td><td>0.2021</td><td>0.2021</td><td>-1</td><td>0.914140</td><td>0.8760</td><td>2.0713</td></tr>\n",
       "\t<tr><th scope=row>6</th><td>0</td><td>HG00096</td><td>0</td><td>HG00351</td><td>OT</td><td>0</td><td>0.7971</td><td>0</td><td>0.2029</td><td>0.2029</td><td>-1</td><td>0.914466</td><td>0.8847</td><td>2.0742</td></tr>\n",
       "</tbody>\n",
       "</table>\n"
      ],
      "text/latex": [
       "A data.frame: 6 × 14\n",
       "\\begin{tabular}{r|llllllllllllll}\n",
       "  & FID1 & IID1 & FID2 & IID2 & RT & EZ & Z0 & Z1 & Z2 & PI\\_HAT & PHE & DST & PPC & RATIO\\\\\n",
       "  & <int> & <fct> & <int> & <fct> & <fct> & <int> & <dbl> & <dbl> & <dbl> & <dbl> & <int> & <dbl> & <dbl> & <dbl>\\\\\n",
       "\\hline\n",
       "\t1 & 0 & HG00096 & 0 & HG00112 & OT & 0 & 0.8000 & 0 & 0.2000 & 0.2000 & -1 & 0.914907 & 0.9723 & 2.1206\\\\\n",
       "\t2 & 0 & HG00096 & 0 & HG00114 & OT & 0 & 0.7969 & 0 & 0.2031 & 0.2031 & -1 & 0.915012 & 0.9985 & 2.1907\\\\\n",
       "\t3 & 0 & HG00096 & 0 & HG00117 & OT & 0 & 0.7977 & 0 & 0.2023 & 0.2023 & -1 & 0.914186 & 0.7807 & 2.0475\\\\\n",
       "\t4 & 0 & HG00096 & 0 & HG00267 & OT & 0 & 0.7993 & 0 & 0.2007 & 0.2007 & -1 & 0.914671 & 0.9779 & 2.1267\\\\\n",
       "\t5 & 0 & HG00096 & 0 & HG00308 & OT & 0 & 0.7979 & 0 & 0.2021 & 0.2021 & -1 & 0.914140 & 0.8760 & 2.0713\\\\\n",
       "\t6 & 0 & HG00096 & 0 & HG00351 & OT & 0 & 0.7971 & 0 & 0.2029 & 0.2029 & -1 & 0.914466 & 0.8847 & 2.0742\\\\\n",
       "\\end{tabular}\n"
      ],
      "text/markdown": [
       "\n",
       "A data.frame: 6 × 14\n",
       "\n",
       "| <!--/--> | FID1 &lt;int&gt; | IID1 &lt;fct&gt; | FID2 &lt;int&gt; | IID2 &lt;fct&gt; | RT &lt;fct&gt; | EZ &lt;int&gt; | Z0 &lt;dbl&gt; | Z1 &lt;dbl&gt; | Z2 &lt;dbl&gt; | PI_HAT &lt;dbl&gt; | PHE &lt;int&gt; | DST &lt;dbl&gt; | PPC &lt;dbl&gt; | RATIO &lt;dbl&gt; |\n",
       "|---|---|---|---|---|---|---|---|---|---|---|---|---|---|---|\n",
       "| 1 | 0 | HG00096 | 0 | HG00112 | OT | 0 | 0.8000 | 0 | 0.2000 | 0.2000 | -1 | 0.914907 | 0.9723 | 2.1206 |\n",
       "| 2 | 0 | HG00096 | 0 | HG00114 | OT | 0 | 0.7969 | 0 | 0.2031 | 0.2031 | -1 | 0.915012 | 0.9985 | 2.1907 |\n",
       "| 3 | 0 | HG00096 | 0 | HG00117 | OT | 0 | 0.7977 | 0 | 0.2023 | 0.2023 | -1 | 0.914186 | 0.7807 | 2.0475 |\n",
       "| 4 | 0 | HG00096 | 0 | HG00267 | OT | 0 | 0.7993 | 0 | 0.2007 | 0.2007 | -1 | 0.914671 | 0.9779 | 2.1267 |\n",
       "| 5 | 0 | HG00096 | 0 | HG00308 | OT | 0 | 0.7979 | 0 | 0.2021 | 0.2021 | -1 | 0.914140 | 0.8760 | 2.0713 |\n",
       "| 6 | 0 | HG00096 | 0 | HG00351 | OT | 0 | 0.7971 | 0 | 0.2029 | 0.2029 | -1 | 0.914466 | 0.8847 | 2.0742 |\n",
       "\n"
      ],
      "text/plain": [
       "  FID1 IID1    FID2 IID2    RT EZ Z0     Z1 Z2     PI_HAT PHE DST      PPC   \n",
       "1 0    HG00096 0    HG00112 OT 0  0.8000 0  0.2000 0.2000 -1  0.914907 0.9723\n",
       "2 0    HG00096 0    HG00114 OT 0  0.7969 0  0.2031 0.2031 -1  0.915012 0.9985\n",
       "3 0    HG00096 0    HG00117 OT 0  0.7977 0  0.2023 0.2023 -1  0.914186 0.7807\n",
       "4 0    HG00096 0    HG00267 OT 0  0.7993 0  0.2007 0.2007 -1  0.914671 0.9779\n",
       "5 0    HG00096 0    HG00308 OT 0  0.7979 0  0.2021 0.2021 -1  0.914140 0.8760\n",
       "6 0    HG00096 0    HG00351 OT 0  0.7971 0  0.2029 0.2029 -1  0.914466 0.8847\n",
       "  RATIO \n",
       "1 2.1206\n",
       "2 2.1907\n",
       "3 2.0475\n",
       "4 2.1267\n",
       "5 2.0713\n",
       "6 2.0742"
      ]
     },
     "metadata": {},
     "output_type": "display_data"
    }
   ],
   "source": [
    "head(relatedness)"
   ]
  },
  {
   "cell_type": "code",
   "execution_count": 9,
   "id": "10ce263a-ce16-411b-a1b5-53257d2af1a2",
   "metadata": {},
   "outputs": [
    {
     "data": {
      "text/html": [
       "'[138,045 x 14]'"
      ],
      "text/latex": [
       "'{[}138,045 x 14{]}'"
      ],
      "text/markdown": [
       "'[138,045 x 14]'"
      ],
      "text/plain": [
       "[1] \"[138,045 x 14]\""
      ]
     },
     "metadata": {},
     "output_type": "display_data"
    }
   ],
   "source": [
    "relatedness %>%  filter(PI_HAT > 0.20) %>% dim_desc"
   ]
  },
  {
   "cell_type": "code",
   "execution_count": 10,
   "id": "8988e81a-67a5-45cb-b121-29561854bdd8",
   "metadata": {},
   "outputs": [
    {
     "data": {
      "text/html": [
       "'[0 x 14]'"
      ],
      "text/latex": [
       "'{[}0 x 14{]}'"
      ],
      "text/markdown": [
       "'[0 x 14]'"
      ],
      "text/plain": [
       "[1] \"[0 x 14]\""
      ]
     },
     "metadata": {},
     "output_type": "display_data"
    }
   ],
   "source": [
    "relatedness %>%  filter(RT != \"OT\") %>% dim_desc"
   ]
  },
  {
   "cell_type": "markdown",
   "id": "acf65b37-aafb-4b29-b60b-f62d22d2d994",
   "metadata": {},
   "source": [
    "All are inferred as OT (other)."
   ]
  },
  {
   "cell_type": "code",
   "execution_count": 11,
   "id": "74d10c63-d0a4-4c7b-95ce-89ab44dac856",
   "metadata": {},
   "outputs": [
    {
     "data": {
      "text/html": [
       "<table class=\"dataframe\">\n",
       "<caption>A data.frame: 1 × 4</caption>\n",
       "<thead>\n",
       "\t<tr><th scope=col>mean</th><th scope=col>sd</th><th scope=col>max</th><th scope=col>min</th></tr>\n",
       "\t<tr><th scope=col>&lt;dbl&gt;</th><th scope=col>&lt;dbl&gt;</th><th scope=col>&lt;dbl&gt;</th><th scope=col>&lt;dbl&gt;</th></tr>\n",
       "</thead>\n",
       "<tbody>\n",
       "\t<tr><td>0.2460359</td><td>0.04046507</td><td>0.4017</td><td>0.2</td></tr>\n",
       "</tbody>\n",
       "</table>\n"
      ],
      "text/latex": [
       "A data.frame: 1 × 4\n",
       "\\begin{tabular}{llll}\n",
       " mean & sd & max & min\\\\\n",
       " <dbl> & <dbl> & <dbl> & <dbl>\\\\\n",
       "\\hline\n",
       "\t 0.2460359 & 0.04046507 & 0.4017 & 0.2\\\\\n",
       "\\end{tabular}\n"
      ],
      "text/markdown": [
       "\n",
       "A data.frame: 1 × 4\n",
       "\n",
       "| mean &lt;dbl&gt; | sd &lt;dbl&gt; | max &lt;dbl&gt; | min &lt;dbl&gt; |\n",
       "|---|---|---|---|\n",
       "| 0.2460359 | 0.04046507 | 0.4017 | 0.2 |\n",
       "\n"
      ],
      "text/plain": [
       "  mean      sd         max    min\n",
       "1 0.2460359 0.04046507 0.4017 0.2"
      ]
     },
     "metadata": {},
     "output_type": "display_data"
    }
   ],
   "source": [
    "relatedness %>% summarise(mean = mean(PI_HAT), sd = sd(PI_HAT), max = max(PI_HAT), min = min(PI_HAT))"
   ]
  },
  {
   "cell_type": "code",
   "execution_count": 12,
   "id": "70928700-1c09-401e-93d3-eb301c507d03",
   "metadata": {},
   "outputs": [
    {
     "name": "stderr",
     "output_type": "stream",
     "text": [
      "\n",
      "\u001b[36m──\u001b[39m \u001b[1mColumn specification\u001b[22m \u001b[36m────────────────────────────────────────────────────────\u001b[39m\n",
      "cols(\n",
      "  FID = \u001b[32mcol_double()\u001b[39m,\n",
      "  IID = \u001b[31mcol_character()\u001b[39m,\n",
      "  MISS_PHENO = \u001b[31mcol_character()\u001b[39m,\n",
      "  N_MISS = \u001b[32mcol_double()\u001b[39m,\n",
      "  N_GENO = \u001b[32mcol_double()\u001b[39m,\n",
      "  F_MISS = \u001b[32mcol_double()\u001b[39m\n",
      ")\n",
      "\n"
     ]
    }
   ],
   "source": [
    "indmiss <- as.data.frame(read_table(file.path(SUBSETS_DIR, \"all_phase3.missingness.imiss\")))"
   ]
  },
  {
   "cell_type": "code",
   "execution_count": 13,
   "id": "3f934f8c-5188-4678-b3dd-6afe6eed701e",
   "metadata": {},
   "outputs": [
    {
     "data": {
      "text/html": [
       "<style>\n",
       ".list-inline {list-style: none; margin:0; padding: 0}\n",
       ".list-inline>li {display: inline-block}\n",
       ".list-inline>li:not(:last-child)::after {content: \"\\00b7\"; padding: 0 .5ex}\n",
       "</style>\n",
       "<ol class=list-inline><li>2504</li><li>6</li></ol>\n"
      ],
      "text/latex": [
       "\\begin{enumerate*}\n",
       "\\item 2504\n",
       "\\item 6\n",
       "\\end{enumerate*}\n"
      ],
      "text/markdown": [
       "1. 2504\n",
       "2. 6\n",
       "\n",
       "\n"
      ],
      "text/plain": [
       "[1] 2504    6"
      ]
     },
     "metadata": {},
     "output_type": "display_data"
    }
   ],
   "source": [
    "dim(indmiss)"
   ]
  },
  {
   "cell_type": "code",
   "execution_count": 14,
   "id": "73fe0a84-eca7-4786-b959-a413b80e9eff",
   "metadata": {},
   "outputs": [
    {
     "data": {
      "text/html": [
       "<table class=\"dataframe\">\n",
       "<caption>A data.frame: 6 × 6</caption>\n",
       "<thead>\n",
       "\t<tr><th></th><th scope=col>FID</th><th scope=col>IID</th><th scope=col>MISS_PHENO</th><th scope=col>N_MISS</th><th scope=col>N_GENO</th><th scope=col>F_MISS</th></tr>\n",
       "\t<tr><th></th><th scope=col>&lt;dbl&gt;</th><th scope=col>&lt;chr&gt;</th><th scope=col>&lt;chr&gt;</th><th scope=col>&lt;dbl&gt;</th><th scope=col>&lt;dbl&gt;</th><th scope=col>&lt;dbl&gt;</th></tr>\n",
       "</thead>\n",
       "<tbody>\n",
       "\t<tr><th scope=row>1</th><td>0</td><td>HG00096</td><td>Y</td><td>114</td><td>84358431</td><td>1.351e-06</td></tr>\n",
       "\t<tr><th scope=row>2</th><td>0</td><td>HG00097</td><td>Y</td><td>  0</td><td>84296436</td><td>0.000e+00</td></tr>\n",
       "\t<tr><th scope=row>3</th><td>0</td><td>HG00099</td><td>Y</td><td>  0</td><td>84296436</td><td>0.000e+00</td></tr>\n",
       "\t<tr><th scope=row>4</th><td>0</td><td>HG00100</td><td>Y</td><td>  0</td><td>84296436</td><td>0.000e+00</td></tr>\n",
       "\t<tr><th scope=row>5</th><td>0</td><td>HG00101</td><td>Y</td><td> 83</td><td>84358431</td><td>9.839e-07</td></tr>\n",
       "\t<tr><th scope=row>6</th><td>0</td><td>HG00102</td><td>Y</td><td>  0</td><td>84296436</td><td>0.000e+00</td></tr>\n",
       "</tbody>\n",
       "</table>\n"
      ],
      "text/latex": [
       "A data.frame: 6 × 6\n",
       "\\begin{tabular}{r|llllll}\n",
       "  & FID & IID & MISS\\_PHENO & N\\_MISS & N\\_GENO & F\\_MISS\\\\\n",
       "  & <dbl> & <chr> & <chr> & <dbl> & <dbl> & <dbl>\\\\\n",
       "\\hline\n",
       "\t1 & 0 & HG00096 & Y & 114 & 84358431 & 1.351e-06\\\\\n",
       "\t2 & 0 & HG00097 & Y &   0 & 84296436 & 0.000e+00\\\\\n",
       "\t3 & 0 & HG00099 & Y &   0 & 84296436 & 0.000e+00\\\\\n",
       "\t4 & 0 & HG00100 & Y &   0 & 84296436 & 0.000e+00\\\\\n",
       "\t5 & 0 & HG00101 & Y &  83 & 84358431 & 9.839e-07\\\\\n",
       "\t6 & 0 & HG00102 & Y &   0 & 84296436 & 0.000e+00\\\\\n",
       "\\end{tabular}\n"
      ],
      "text/markdown": [
       "\n",
       "A data.frame: 6 × 6\n",
       "\n",
       "| <!--/--> | FID &lt;dbl&gt; | IID &lt;chr&gt; | MISS_PHENO &lt;chr&gt; | N_MISS &lt;dbl&gt; | N_GENO &lt;dbl&gt; | F_MISS &lt;dbl&gt; |\n",
       "|---|---|---|---|---|---|---|\n",
       "| 1 | 0 | HG00096 | Y | 114 | 84358431 | 1.351e-06 |\n",
       "| 2 | 0 | HG00097 | Y |   0 | 84296436 | 0.000e+00 |\n",
       "| 3 | 0 | HG00099 | Y |   0 | 84296436 | 0.000e+00 |\n",
       "| 4 | 0 | HG00100 | Y |   0 | 84296436 | 0.000e+00 |\n",
       "| 5 | 0 | HG00101 | Y |  83 | 84358431 | 9.839e-07 |\n",
       "| 6 | 0 | HG00102 | Y |   0 | 84296436 | 0.000e+00 |\n",
       "\n"
      ],
      "text/plain": [
       "  FID IID     MISS_PHENO N_MISS N_GENO   F_MISS   \n",
       "1 0   HG00096 Y          114    84358431 1.351e-06\n",
       "2 0   HG00097 Y            0    84296436 0.000e+00\n",
       "3 0   HG00099 Y            0    84296436 0.000e+00\n",
       "4 0   HG00100 Y            0    84296436 0.000e+00\n",
       "5 0   HG00101 Y           83    84358431 9.839e-07\n",
       "6 0   HG00102 Y            0    84296436 0.000e+00"
      ]
     },
     "metadata": {},
     "output_type": "display_data"
    }
   ],
   "source": [
    "head(indmiss)"
   ]
  },
  {
   "cell_type": "code",
   "execution_count": null,
   "id": "c0aac174-2df0-46f8-bd42-5d48ffc3aa97",
   "metadata": {},
   "outputs": [],
   "source": []
  }
 ],
 "metadata": {
  "jupytext": {
   "cell_metadata_filter": "all,-execution,-papermill,-trusted"
  },
  "kernelspec": {
   "display_name": "R",
   "language": "R",
   "name": "ir"
  },
  "language_info": {
   "codemirror_mode": "r",
   "file_extension": ".r",
   "mimetype": "text/x-r-source",
   "name": "R",
   "pygments_lexer": "r",
   "version": "3.6.3"
  }
 },
 "nbformat": 4,
 "nbformat_minor": 5
}
