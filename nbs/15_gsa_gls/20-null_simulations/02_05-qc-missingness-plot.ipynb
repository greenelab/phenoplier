{
 "cells": [
  {
   "cell_type": "markdown",
   "id": "88e50759-56ef-4d6c-88b4-5daf5b2be438",
   "metadata": {},
   "source": [
    "# Description"
   ]
  },
  {
   "cell_type": "markdown",
   "id": "5ab0a512-dd22-406c-8cf4-9b5c6902618c",
   "metadata": {},
   "source": [
    "Read the missing info computed previously (by individual and variant) and plots some histograms."
   ]
  },
  {
   "cell_type": "markdown",
   "id": "82035864-e836-43c5-bf57-3d242a6b82fa",
   "metadata": {},
   "source": [
    "# Modules"
   ]
  },
  {
   "cell_type": "code",
   "execution_count": 1,
   "id": "9f0ffe4b-c8ce-4277-8cc4-5c949130e273",
   "metadata": {},
   "outputs": [
    {
     "name": "stderr",
     "output_type": "stream",
     "text": [
      "── \u001b[1mAttaching packages\u001b[22m ─────────────────────────────────────── tidyverse 1.3.1 ──\n",
      "\n",
      "\u001b[32m✔\u001b[39m \u001b[34mggplot2\u001b[39m 3.3.5     \u001b[32m✔\u001b[39m \u001b[34mpurrr  \u001b[39m 0.3.4\n",
      "\u001b[32m✔\u001b[39m \u001b[34mtibble \u001b[39m 3.1.6     \u001b[32m✔\u001b[39m \u001b[34mdplyr  \u001b[39m 1.0.8\n",
      "\u001b[32m✔\u001b[39m \u001b[34mtidyr  \u001b[39m 1.2.0     \u001b[32m✔\u001b[39m \u001b[34mstringr\u001b[39m 1.4.0\n",
      "\u001b[32m✔\u001b[39m \u001b[34mreadr  \u001b[39m 2.1.2     \u001b[32m✔\u001b[39m \u001b[34mforcats\u001b[39m 0.5.1\n",
      "\n",
      "── \u001b[1mConflicts\u001b[22m ────────────────────────────────────────── tidyverse_conflicts() ──\n",
      "\u001b[31m✖\u001b[39m \u001b[34mdplyr\u001b[39m::\u001b[32mfilter()\u001b[39m masks \u001b[34mstats\u001b[39m::filter()\n",
      "\u001b[31m✖\u001b[39m \u001b[34mdplyr\u001b[39m::\u001b[32mlag()\u001b[39m    masks \u001b[34mstats\u001b[39m::lag()\n",
      "\n"
     ]
    }
   ],
   "source": [
    "library(tidyverse)"
   ]
  },
  {
   "cell_type": "markdown",
   "id": "7a6fd2c6-985c-42a2-97c9-156ad913d8e9",
   "metadata": {},
   "source": [
    "# Paths"
   ]
  },
  {
   "cell_type": "code",
   "execution_count": 2,
   "id": "a397d4d7-6c2e-4bae-8148-e331f1a507cf",
   "metadata": {},
   "outputs": [],
   "source": [
    "A1000G_GENOTYPES_DIR <- Sys.getenv(\"PHENOPLIER_A1000G_GENOTYPES_DIR\")"
   ]
  },
  {
   "cell_type": "code",
   "execution_count": 3,
   "id": "9eeb7d67-5e3d-4df6-b734-7bed4b32eacf",
   "metadata": {},
   "outputs": [
    {
     "data": {
      "text/html": [
       "'/opt/data/data/1000g/genotypes'"
      ],
      "text/latex": [
       "'/opt/data/data/1000g/genotypes'"
      ],
      "text/markdown": [
       "'/opt/data/data/1000g/genotypes'"
      ],
      "text/plain": [
       "[1] \"/opt/data/data/1000g/genotypes\""
      ]
     },
     "metadata": {},
     "output_type": "display_data"
    }
   ],
   "source": [
    "A1000G_GENOTYPES_DIR"
   ]
  },
  {
   "cell_type": "code",
   "execution_count": 4,
   "id": "ce37e50c-993e-4f55-bedc-95a543cd94b0",
   "metadata": {},
   "outputs": [],
   "source": [
    "SUBSETS_DIR <- file.path(A1000G_GENOTYPES_DIR, \"subsets\")"
   ]
  },
  {
   "cell_type": "code",
   "execution_count": 5,
   "id": "c4042cca-3ad3-467e-bfa6-97dbaf48fdc8",
   "metadata": {},
   "outputs": [
    {
     "data": {
      "text/html": [
       "'/opt/data/data/1000g/genotypes/subsets'"
      ],
      "text/latex": [
       "'/opt/data/data/1000g/genotypes/subsets'"
      ],
      "text/markdown": [
       "'/opt/data/data/1000g/genotypes/subsets'"
      ],
      "text/plain": [
       "[1] \"/opt/data/data/1000g/genotypes/subsets\""
      ]
     },
     "metadata": {},
     "output_type": "display_data"
    }
   ],
   "source": [
    "SUBSETS_DIR"
   ]
  },
  {
   "cell_type": "markdown",
   "id": "513a1e33-ad0b-494f-8176-578b523000af",
   "metadata": {},
   "source": [
    "# Load data"
   ]
  },
  {
   "cell_type": "code",
   "execution_count": 6,
   "id": "3beed1d1-5f4d-4588-b9f1-95c99e4b991a",
   "metadata": {},
   "outputs": [],
   "source": [
    "indmiss <- as.data.frame(read_table(file.path(SUBSETS_DIR, \"missingness.imiss\"), col_types = cols_only(F_MISS = 'n')))"
   ]
  },
  {
   "cell_type": "code",
   "execution_count": 7,
   "id": "66ec44f1-b2b0-4c7e-8aad-81aaa6612b71",
   "metadata": {},
   "outputs": [
    {
     "data": {
      "text/html": [
       "<style>\n",
       ".list-inline {list-style: none; margin:0; padding: 0}\n",
       ".list-inline>li {display: inline-block}\n",
       ".list-inline>li:not(:last-child)::after {content: \"\\00b7\"; padding: 0 .5ex}\n",
       "</style>\n",
       "<ol class=list-inline><li>2504</li><li>1</li></ol>\n"
      ],
      "text/latex": [
       "\\begin{enumerate*}\n",
       "\\item 2504\n",
       "\\item 1\n",
       "\\end{enumerate*}\n"
      ],
      "text/markdown": [
       "1. 2504\n",
       "2. 1\n",
       "\n",
       "\n"
      ],
      "text/plain": [
       "[1] 2504    1"
      ]
     },
     "metadata": {},
     "output_type": "display_data"
    }
   ],
   "source": [
    "dim(indmiss)"
   ]
  },
  {
   "cell_type": "code",
   "execution_count": 8,
   "id": "d92e3b57-390f-4a55-bfc4-c3bf08ff1af0",
   "metadata": {},
   "outputs": [
    {
     "data": {
      "text/html": [
       "<table class=\"dataframe\">\n",
       "<caption>A data.frame: 6 × 1</caption>\n",
       "<thead>\n",
       "\t<tr><th></th><th scope=col>F_MISS</th></tr>\n",
       "\t<tr><th></th><th scope=col>&lt;dbl&gt;</th></tr>\n",
       "</thead>\n",
       "<tbody>\n",
       "\t<tr><th scope=row>1</th><td>1.351e-06</td></tr>\n",
       "\t<tr><th scope=row>2</th><td>0.000e+00</td></tr>\n",
       "\t<tr><th scope=row>3</th><td>0.000e+00</td></tr>\n",
       "\t<tr><th scope=row>4</th><td>0.000e+00</td></tr>\n",
       "\t<tr><th scope=row>5</th><td>9.839e-07</td></tr>\n",
       "\t<tr><th scope=row>6</th><td>0.000e+00</td></tr>\n",
       "</tbody>\n",
       "</table>\n"
      ],
      "text/latex": [
       "A data.frame: 6 × 1\n",
       "\\begin{tabular}{r|l}\n",
       "  & F\\_MISS\\\\\n",
       "  & <dbl>\\\\\n",
       "\\hline\n",
       "\t1 & 1.351e-06\\\\\n",
       "\t2 & 0.000e+00\\\\\n",
       "\t3 & 0.000e+00\\\\\n",
       "\t4 & 0.000e+00\\\\\n",
       "\t5 & 9.839e-07\\\\\n",
       "\t6 & 0.000e+00\\\\\n",
       "\\end{tabular}\n"
      ],
      "text/markdown": [
       "\n",
       "A data.frame: 6 × 1\n",
       "\n",
       "| <!--/--> | F_MISS &lt;dbl&gt; |\n",
       "|---|---|\n",
       "| 1 | 1.351e-06 |\n",
       "| 2 | 0.000e+00 |\n",
       "| 3 | 0.000e+00 |\n",
       "| 4 | 0.000e+00 |\n",
       "| 5 | 9.839e-07 |\n",
       "| 6 | 0.000e+00 |\n",
       "\n"
      ],
      "text/plain": [
       "  F_MISS   \n",
       "1 1.351e-06\n",
       "2 0.000e+00\n",
       "3 0.000e+00\n",
       "4 0.000e+00\n",
       "5 9.839e-07\n",
       "6 0.000e+00"
      ]
     },
     "metadata": {},
     "output_type": "display_data"
    }
   ],
   "source": [
    "head(indmiss)"
   ]
  },
  {
   "cell_type": "code",
   "execution_count": 9,
   "id": "9b4101d8-9e6a-43f6-872d-67162ae78e42",
   "metadata": {},
   "outputs": [],
   "source": [
    "snpmiss <- as.data.frame(read_table(file.path(SUBSETS_DIR, \"missingness.lmiss\"), col_types = cols_only(F_MISS = 'n')))"
   ]
  },
  {
   "cell_type": "code",
   "execution_count": 10,
   "id": "dbb96275-a593-43aa-b673-807c4006d123",
   "metadata": {},
   "outputs": [
    {
     "data": {
      "text/html": [
       "<style>\n",
       ".list-inline {list-style: none; margin:0; padding: 0}\n",
       ".list-inline>li {display: inline-block}\n",
       ".list-inline>li:not(:last-child)::after {content: \"\\00b7\"; padding: 0 .5ex}\n",
       "</style>\n",
       "<ol class=list-inline><li>84358431</li><li>1</li></ol>\n"
      ],
      "text/latex": [
       "\\begin{enumerate*}\n",
       "\\item 84358431\n",
       "\\item 1\n",
       "\\end{enumerate*}\n"
      ],
      "text/markdown": [
       "1. 84358431\n",
       "2. 1\n",
       "\n",
       "\n"
      ],
      "text/plain": [
       "[1] 84358431        1"
      ]
     },
     "metadata": {},
     "output_type": "display_data"
    }
   ],
   "source": [
    "dim(snpmiss)"
   ]
  },
  {
   "cell_type": "code",
   "execution_count": 11,
   "id": "0b126e5b-b53c-4c40-a233-a521fd0e0722",
   "metadata": {},
   "outputs": [
    {
     "data": {
      "text/html": [
       "<table class=\"dataframe\">\n",
       "<caption>A data.frame: 6 × 1</caption>\n",
       "<thead>\n",
       "\t<tr><th></th><th scope=col>F_MISS</th></tr>\n",
       "\t<tr><th></th><th scope=col>&lt;dbl&gt;</th></tr>\n",
       "</thead>\n",
       "<tbody>\n",
       "\t<tr><th scope=row>1</th><td>0</td></tr>\n",
       "\t<tr><th scope=row>2</th><td>0</td></tr>\n",
       "\t<tr><th scope=row>3</th><td>0</td></tr>\n",
       "\t<tr><th scope=row>4</th><td>0</td></tr>\n",
       "\t<tr><th scope=row>5</th><td>0</td></tr>\n",
       "\t<tr><th scope=row>6</th><td>0</td></tr>\n",
       "</tbody>\n",
       "</table>\n"
      ],
      "text/latex": [
       "A data.frame: 6 × 1\n",
       "\\begin{tabular}{r|l}\n",
       "  & F\\_MISS\\\\\n",
       "  & <dbl>\\\\\n",
       "\\hline\n",
       "\t1 & 0\\\\\n",
       "\t2 & 0\\\\\n",
       "\t3 & 0\\\\\n",
       "\t4 & 0\\\\\n",
       "\t5 & 0\\\\\n",
       "\t6 & 0\\\\\n",
       "\\end{tabular}\n"
      ],
      "text/markdown": [
       "\n",
       "A data.frame: 6 × 1\n",
       "\n",
       "| <!--/--> | F_MISS &lt;dbl&gt; |\n",
       "|---|---|\n",
       "| 1 | 0 |\n",
       "| 2 | 0 |\n",
       "| 3 | 0 |\n",
       "| 4 | 0 |\n",
       "| 5 | 0 |\n",
       "| 6 | 0 |\n",
       "\n"
      ],
      "text/plain": [
       "  F_MISS\n",
       "1 0     \n",
       "2 0     \n",
       "3 0     \n",
       "4 0     \n",
       "5 0     \n",
       "6 0     "
      ]
     },
     "metadata": {},
     "output_type": "display_data"
    }
   ],
   "source": [
    "head(snpmiss)"
   ]
  },
  {
   "cell_type": "markdown",
   "id": "38cf1313-4ea7-44cc-880c-3943aa2ccdd4",
   "metadata": {},
   "source": [
    "# Individuals"
   ]
  },
  {
   "cell_type": "code",
   "execution_count": 12,
   "id": "bda5259c-75d8-43d9-b4ba-d0499af8a946",
   "metadata": {},
   "outputs": [
    {
     "data": {
      "image/png": "[encoded data removed]",
      "text/plain": [
       "Plot with title “Histogram individual missingness”"
      ]
     },
     "metadata": {
      "image/png": {
       "height": 420,
       "width": 420
      }
     },
     "output_type": "display_data"
    }
   ],
   "source": [
    "hist(indmiss[,1],main=\"Histogram individual missingness\")"
   ]
  },
  {
   "cell_type": "code",
   "execution_count": 13,
   "id": "11adb24f-30ec-4497-8017-8977b97ee48d",
   "metadata": {},
   "outputs": [
    {
     "data": {
      "text/html": [
       "<table class=\"dataframe\">\n",
       "<caption>A data.frame: 1 × 4</caption>\n",
       "<thead>\n",
       "\t<tr><th scope=col>mean</th><th scope=col>sd</th><th scope=col>max</th><th scope=col>min</th></tr>\n",
       "\t<tr><th scope=col>&lt;dbl&gt;</th><th scope=col>&lt;dbl&gt;</th><th scope=col>&lt;dbl&gt;</th><th scope=col>&lt;dbl&gt;</th></tr>\n",
       "</thead>\n",
       "<tbody>\n",
       "\t<tr><td>6.524444e-07</td><td>1.187993e-06</td><td>4.291e-05</td><td>0</td></tr>\n",
       "</tbody>\n",
       "</table>\n"
      ],
      "text/latex": [
       "A data.frame: 1 × 4\n",
       "\\begin{tabular}{llll}\n",
       " mean & sd & max & min\\\\\n",
       " <dbl> & <dbl> & <dbl> & <dbl>\\\\\n",
       "\\hline\n",
       "\t 6.524444e-07 & 1.187993e-06 & 4.291e-05 & 0\\\\\n",
       "\\end{tabular}\n"
      ],
      "text/markdown": [
       "\n",
       "A data.frame: 1 × 4\n",
       "\n",
       "| mean &lt;dbl&gt; | sd &lt;dbl&gt; | max &lt;dbl&gt; | min &lt;dbl&gt; |\n",
       "|---|---|---|---|\n",
       "| 6.524444e-07 | 1.187993e-06 | 4.291e-05 | 0 |\n",
       "\n"
      ],
      "text/plain": [
       "  mean         sd           max       min\n",
       "1 6.524444e-07 1.187993e-06 4.291e-05 0  "
      ]
     },
     "metadata": {},
     "output_type": "display_data"
    }
   ],
   "source": [
    "indmiss %>% summarise(mean= mean(F_MISS), sd= sd(F_MISS), max = max(F_MISS),min = min(F_MISS))"
   ]
  },
  {
   "cell_type": "code",
   "execution_count": 14,
   "id": "08d4e362-e879-46fc-9dca-7be94d5b17cc",
   "metadata": {},
   "outputs": [
    {
     "data": {
      "text/html": [
       "'[1,234 x 1]'"
      ],
      "text/latex": [
       "'{[}1,234 x 1{]}'"
      ],
      "text/markdown": [
       "'[1,234 x 1]'"
      ],
      "text/plain": [
       "[1] \"[1,234 x 1]\""
      ]
     },
     "metadata": {},
     "output_type": "display_data"
    }
   ],
   "source": [
    "indmiss %>% filter(F_MISS > 0) %>% dim_desc"
   ]
  },
  {
   "cell_type": "code",
   "execution_count": 15,
   "id": "b300a3c8-878c-409a-bd58-fb2696ba5b5f",
   "metadata": {},
   "outputs": [
    {
     "data": {
      "text/html": [
       "'[0 x 1]'"
      ],
      "text/latex": [
       "'{[}0 x 1{]}'"
      ],
      "text/markdown": [
       "'[0 x 1]'"
      ],
      "text/plain": [
       "[1] \"[0 x 1]\""
      ]
     },
     "metadata": {},
     "output_type": "display_data"
    }
   ],
   "source": [
    "indmiss %>% filter(F_MISS > 0.01) %>% dim_desc"
   ]
  },
  {
   "cell_type": "markdown",
   "id": "f2c8d725-d570-47b0-9156-5064a75d92c5",
   "metadata": {},
   "source": [
    "# Variants"
   ]
  },
  {
   "cell_type": "code",
   "execution_count": 16,
   "id": "b0e3950d-6d7f-414e-bef9-311fb24e05a3",
   "metadata": {},
   "outputs": [
    {
     "data": {
      "image/png": "[encoded data removed]",
      "text/plain": [
       "Plot with title “Histogram SNP missingness”"
      ]
     },
     "metadata": {
      "image/png": {
       "height": 420,
       "width": 420
      }
     },
     "output_type": "display_data"
    }
   ],
   "source": [
    "hist(snpmiss[,1],main=\"Histogram SNP missingness\")  "
   ]
  },
  {
   "cell_type": "code",
   "execution_count": 17,
   "id": "0f6a0e13-2717-4d46-a04d-8964c4e2a15d",
   "metadata": {},
   "outputs": [
    {
     "data": {
      "text/html": [
       "<table class=\"dataframe\">\n",
       "<caption>A data.frame: 1 × 4</caption>\n",
       "<thead>\n",
       "\t<tr><th scope=col>mean</th><th scope=col>sd</th><th scope=col>max</th><th scope=col>min</th></tr>\n",
       "\t<tr><th scope=col>&lt;dbl&gt;</th><th scope=col>&lt;dbl&gt;</th><th scope=col>&lt;dbl&gt;</th><th scope=col>&lt;dbl&gt;</th></tr>\n",
       "</thead>\n",
       "<tbody>\n",
       "\t<tr><td>1.307312e-06</td><td>0.0004305211</td><td>0.4104</td><td>0</td></tr>\n",
       "</tbody>\n",
       "</table>\n"
      ],
      "text/latex": [
       "A data.frame: 1 × 4\n",
       "\\begin{tabular}{llll}\n",
       " mean & sd & max & min\\\\\n",
       " <dbl> & <dbl> & <dbl> & <dbl>\\\\\n",
       "\\hline\n",
       "\t 1.307312e-06 & 0.0004305211 & 0.4104 & 0\\\\\n",
       "\\end{tabular}\n"
      ],
      "text/markdown": [
       "\n",
       "A data.frame: 1 × 4\n",
       "\n",
       "| mean &lt;dbl&gt; | sd &lt;dbl&gt; | max &lt;dbl&gt; | min &lt;dbl&gt; |\n",
       "|---|---|---|---|\n",
       "| 1.307312e-06 | 0.0004305211 | 0.4104 | 0 |\n",
       "\n"
      ],
      "text/plain": [
       "  mean         sd           max    min\n",
       "1 1.307312e-06 0.0004305211 0.4104 0  "
      ]
     },
     "metadata": {},
     "output_type": "display_data"
    }
   ],
   "source": [
    "snpmiss %>% summarise(mean= mean(F_MISS), sd= sd(F_MISS), max = max(F_MISS),min = min(F_MISS))"
   ]
  },
  {
   "cell_type": "code",
   "execution_count": 18,
   "id": "8f4a905f-c54c-484b-8f5d-efd7db7bb8b9",
   "metadata": {},
   "outputs": [
    {
     "data": {
      "text/html": [
       "'[5,799 x 1]'"
      ],
      "text/latex": [
       "'{[}5,799 x 1{]}'"
      ],
      "text/markdown": [
       "'[5,799 x 1]'"
      ],
      "text/plain": [
       "[1] \"[5,799 x 1]\""
      ]
     },
     "metadata": {},
     "output_type": "display_data"
    }
   ],
   "source": [
    "snpmiss %>% filter(F_MISS > 0) %>% dim_desc"
   ]
  },
  {
   "cell_type": "code",
   "execution_count": 19,
   "id": "3a91ccb0-570b-4cbc-bae0-479ab07220dd",
   "metadata": {},
   "outputs": [
    {
     "data": {
      "text/html": [
       "'[1,515 x 1]'"
      ],
      "text/latex": [
       "'{[}1,515 x 1{]}'"
      ],
      "text/markdown": [
       "'[1,515 x 1]'"
      ],
      "text/plain": [
       "[1] \"[1,515 x 1]\""
      ]
     },
     "metadata": {},
     "output_type": "display_data"
    }
   ],
   "source": [
    "snpmiss %>% filter(F_MISS > 0.01) %>% dim_desc"
   ]
  },
  {
   "cell_type": "markdown",
   "id": "f269f521-ac18-49b2-aa0f-32fb5e5cf14d",
   "metadata": {},
   "source": [
    "Only remove variants with missingness > 0.01"
   ]
  },
  {
   "cell_type": "code",
   "execution_count": null,
   "id": "cddcb3f4-a19d-42c7-87fb-e7e7036e023a",
   "metadata": {},
   "outputs": [],
   "source": []
  }
 ],
 "metadata": {
  "jupytext": {
   "cell_metadata_filter": "all,-execution,-papermill,-trusted"
  },
  "kernelspec": {
   "display_name": "R",
   "language": "R",
   "name": "ir"
  },
  "language_info": {
   "codemirror_mode": "r",
   "file_extension": ".r",
   "mimetype": "text/x-r-source",
   "name": "R",
   "pygments_lexer": "r",
   "version": "3.6.3"
  }
 },
 "nbformat": 4,
 "nbformat_minor": 5
}
