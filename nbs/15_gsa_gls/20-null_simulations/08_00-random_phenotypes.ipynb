{
 "cells": [
  {
   "cell_type": "markdown",
   "id": "8c9c94ba-c927-4a16-8337-93325ead8b06",
   "metadata": {},
   "source": [
    "# Description"
   ]
  },
  {
   "cell_type": "markdown",
   "id": "4438f830-7719-4116-9e55-ae9d37fabd7b",
   "metadata": {},
   "source": [
    "# Modules"
   ]
  },
  {
   "cell_type": "code",
   "execution_count": 1,
   "id": "51c7f21f-6578-4fed-bab7-5b7ec93aee12",
   "metadata": {},
   "outputs": [],
   "source": [
    "import pandas as pd\n",
    "import numpy as np\n",
    "\n",
    "import conf"
   ]
  },
  {
   "cell_type": "markdown",
   "id": "096f541e-3f8e-4257-be5f-514b6fd99546",
   "metadata": {},
   "source": [
    "# Settings"
   ]
  },
  {
   "cell_type": "code",
   "execution_count": 2,
   "id": "d36b30cd-57eb-4601-bab2-6a016134979d",
   "metadata": {},
   "outputs": [],
   "source": [
    "N_PHENOTYPES = 100"
   ]
  },
  {
   "cell_type": "markdown",
   "id": "546ca82e-749c-4573-996d-89d0463ef3ef",
   "metadata": {},
   "source": [
    "# Paths"
   ]
  },
  {
   "cell_type": "code",
   "execution_count": 3,
   "id": "33025d33-6f93-4d9a-bf36-edae2bed8213",
   "metadata": {},
   "outputs": [],
   "source": [
    "SUBSETS_DIR = conf.A1000G[\"GENOTYPES_DIR\"] / \"subsets\""
   ]
  },
  {
   "cell_type": "code",
   "execution_count": 4,
   "id": "593acfcd-8544-4e81-a0ad-ef44b05fca89",
   "metadata": {},
   "outputs": [],
   "source": [
    "SUBSET_FILE_PREFIX = \"all_phase3.8\""
   ]
  },
  {
   "cell_type": "markdown",
   "id": "5bc4ed7e-5d7f-4786-a7f1-32b1f16e3f3a",
   "metadata": {},
   "source": [
    "# Load data"
   ]
  },
  {
   "cell_type": "code",
   "execution_count": 5,
   "id": "cd802bed-e996-4d0e-b5b0-2098159c8f68",
   "metadata": {},
   "outputs": [
    {
     "data": {
      "text/plain": [
       "PosixPath('/opt/data/data/1000g/genotypes/subsets/all_phase3.8.fam')"
      ]
     },
     "metadata": {},
     "output_type": "display_data"
    }
   ],
   "source": [
    "input_filepath = SUBSETS_DIR / f\"{SUBSET_FILE_PREFIX}.fam\"\n",
    "display(input_filepath)\n",
    "\n",
    "data = pd.read_csv(input_filepath, sep=\"\\s+\", header=None)"
   ]
  },
  {
   "cell_type": "code",
   "execution_count": 6,
   "id": "c0d37ffb-630b-42c2-bffe-ed3606942a14",
   "metadata": {},
   "outputs": [
    {
     "data": {
      "text/plain": [
       "(312, 6)"
      ]
     },
     "execution_count": 6,
     "metadata": {},
     "output_type": "execute_result"
    }
   ],
   "source": [
    "data.shape"
   ]
  },
  {
   "cell_type": "code",
   "execution_count": 7,
   "id": "1d3ba839-d81c-423c-b978-9658241c2f34",
   "metadata": {},
   "outputs": [
    {
     "data": {
      "text/html": [
       "<div>\n",
       "<style scoped>\n",
       "    .dataframe tbody tr th:only-of-type {\n",
       "        vertical-align: middle;\n",
       "    }\n",
       "\n",
       "    .dataframe tbody tr th {\n",
       "        vertical-align: top;\n",
       "    }\n",
       "\n",
       "    .dataframe thead th {\n",
       "        text-align: right;\n",
       "    }\n",
       "</style>\n",
       "<table border=\"1\" class=\"dataframe\">\n",
       "  <thead>\n",
       "    <tr style=\"text-align: right;\">\n",
       "      <th></th>\n",
       "      <th>0</th>\n",
       "      <th>1</th>\n",
       "      <th>2</th>\n",
       "      <th>3</th>\n",
       "      <th>4</th>\n",
       "      <th>5</th>\n",
       "    </tr>\n",
       "  </thead>\n",
       "  <tbody>\n",
       "    <tr>\n",
       "      <th>0</th>\n",
       "      <td>0</td>\n",
       "      <td>HG00096</td>\n",
       "      <td>0</td>\n",
       "      <td>0</td>\n",
       "      <td>1</td>\n",
       "      <td>-9</td>\n",
       "    </tr>\n",
       "    <tr>\n",
       "      <th>1</th>\n",
       "      <td>0</td>\n",
       "      <td>HG00100</td>\n",
       "      <td>0</td>\n",
       "      <td>0</td>\n",
       "      <td>2</td>\n",
       "      <td>-9</td>\n",
       "    </tr>\n",
       "    <tr>\n",
       "      <th>2</th>\n",
       "      <td>0</td>\n",
       "      <td>HG00101</td>\n",
       "      <td>0</td>\n",
       "      <td>0</td>\n",
       "      <td>1</td>\n",
       "      <td>-9</td>\n",
       "    </tr>\n",
       "    <tr>\n",
       "      <th>3</th>\n",
       "      <td>0</td>\n",
       "      <td>HG00102</td>\n",
       "      <td>0</td>\n",
       "      <td>0</td>\n",
       "      <td>2</td>\n",
       "      <td>-9</td>\n",
       "    </tr>\n",
       "    <tr>\n",
       "      <th>4</th>\n",
       "      <td>0</td>\n",
       "      <td>HG00103</td>\n",
       "      <td>0</td>\n",
       "      <td>0</td>\n",
       "      <td>1</td>\n",
       "      <td>-9</td>\n",
       "    </tr>\n",
       "  </tbody>\n",
       "</table>\n",
       "</div>"
      ],
      "text/plain": [
       "   0        1  2  3  4  5\n",
       "0  0  HG00096  0  0  1 -9\n",
       "1  0  HG00100  0  0  2 -9\n",
       "2  0  HG00101  0  0  1 -9\n",
       "3  0  HG00102  0  0  2 -9\n",
       "4  0  HG00103  0  0  1 -9"
      ]
     },
     "execution_count": 7,
     "metadata": {},
     "output_type": "execute_result"
    }
   ],
   "source": [
    "data.head()"
   ]
  },
  {
   "cell_type": "code",
   "execution_count": 8,
   "id": "ca329878-f272-4d4c-8562-4e052ca3d6ff",
   "metadata": {},
   "outputs": [],
   "source": [
    "data = data.iloc[:, 0:2]"
   ]
  },
  {
   "cell_type": "code",
   "execution_count": 9,
   "id": "a3db3521-69da-4c36-93af-3f1140b72b88",
   "metadata": {},
   "outputs": [
    {
     "data": {
      "text/html": [
       "<div>\n",
       "<style scoped>\n",
       "    .dataframe tbody tr th:only-of-type {\n",
       "        vertical-align: middle;\n",
       "    }\n",
       "\n",
       "    .dataframe tbody tr th {\n",
       "        vertical-align: top;\n",
       "    }\n",
       "\n",
       "    .dataframe thead th {\n",
       "        text-align: right;\n",
       "    }\n",
       "</style>\n",
       "<table border=\"1\" class=\"dataframe\">\n",
       "  <thead>\n",
       "    <tr style=\"text-align: right;\">\n",
       "      <th></th>\n",
       "      <th>0</th>\n",
       "      <th>1</th>\n",
       "    </tr>\n",
       "  </thead>\n",
       "  <tbody>\n",
       "    <tr>\n",
       "      <th>0</th>\n",
       "      <td>0</td>\n",
       "      <td>HG00096</td>\n",
       "    </tr>\n",
       "    <tr>\n",
       "      <th>1</th>\n",
       "      <td>0</td>\n",
       "      <td>HG00100</td>\n",
       "    </tr>\n",
       "    <tr>\n",
       "      <th>2</th>\n",
       "      <td>0</td>\n",
       "      <td>HG00101</td>\n",
       "    </tr>\n",
       "    <tr>\n",
       "      <th>3</th>\n",
       "      <td>0</td>\n",
       "      <td>HG00102</td>\n",
       "    </tr>\n",
       "    <tr>\n",
       "      <th>4</th>\n",
       "      <td>0</td>\n",
       "      <td>HG00103</td>\n",
       "    </tr>\n",
       "  </tbody>\n",
       "</table>\n",
       "</div>"
      ],
      "text/plain": [
       "   0        1\n",
       "0  0  HG00096\n",
       "1  0  HG00100\n",
       "2  0  HG00101\n",
       "3  0  HG00102\n",
       "4  0  HG00103"
      ]
     },
     "execution_count": 9,
     "metadata": {},
     "output_type": "execute_result"
    }
   ],
   "source": [
    "data.head()"
   ]
  },
  {
   "cell_type": "code",
   "execution_count": 10,
   "id": "10185df5-7e82-4bbb-8723-d3b1a5a800f4",
   "metadata": {},
   "outputs": [],
   "source": [
    "data = data.rename(columns={0: \"FID\", 1: \"IID\"})"
   ]
  },
  {
   "cell_type": "code",
   "execution_count": 11,
   "id": "c85f41fc-460f-4958-9262-9eb43701cc11",
   "metadata": {},
   "outputs": [
    {
     "data": {
      "text/html": [
       "<div>\n",
       "<style scoped>\n",
       "    .dataframe tbody tr th:only-of-type {\n",
       "        vertical-align: middle;\n",
       "    }\n",
       "\n",
       "    .dataframe tbody tr th {\n",
       "        vertical-align: top;\n",
       "    }\n",
       "\n",
       "    .dataframe thead th {\n",
       "        text-align: right;\n",
       "    }\n",
       "</style>\n",
       "<table border=\"1\" class=\"dataframe\">\n",
       "  <thead>\n",
       "    <tr style=\"text-align: right;\">\n",
       "      <th></th>\n",
       "      <th>FID</th>\n",
       "      <th>IID</th>\n",
       "    </tr>\n",
       "  </thead>\n",
       "  <tbody>\n",
       "    <tr>\n",
       "      <th>0</th>\n",
       "      <td>0</td>\n",
       "      <td>HG00096</td>\n",
       "    </tr>\n",
       "    <tr>\n",
       "      <th>1</th>\n",
       "      <td>0</td>\n",
       "      <td>HG00100</td>\n",
       "    </tr>\n",
       "    <tr>\n",
       "      <th>2</th>\n",
       "      <td>0</td>\n",
       "      <td>HG00101</td>\n",
       "    </tr>\n",
       "    <tr>\n",
       "      <th>3</th>\n",
       "      <td>0</td>\n",
       "      <td>HG00102</td>\n",
       "    </tr>\n",
       "    <tr>\n",
       "      <th>4</th>\n",
       "      <td>0</td>\n",
       "      <td>HG00103</td>\n",
       "    </tr>\n",
       "  </tbody>\n",
       "</table>\n",
       "</div>"
      ],
      "text/plain": [
       "   FID      IID\n",
       "0    0  HG00096\n",
       "1    0  HG00100\n",
       "2    0  HG00101\n",
       "3    0  HG00102\n",
       "4    0  HG00103"
      ]
     },
     "execution_count": 11,
     "metadata": {},
     "output_type": "execute_result"
    }
   ],
   "source": [
    "data.head()"
   ]
  },
  {
   "cell_type": "code",
   "execution_count": 12,
   "id": "9833cef4-f4a6-411d-be2b-cc44b4aa88ba",
   "metadata": {},
   "outputs": [
    {
     "data": {
      "text/plain": [
       "312"
      ]
     },
     "metadata": {},
     "output_type": "display_data"
    }
   ],
   "source": [
    "n_samples = data.shape[0]\n",
    "display(n_samples)"
   ]
  },
  {
   "cell_type": "markdown",
   "id": "096dd003-f422-4e5c-a99a-ac9a0d7412a9",
   "metadata": {},
   "source": [
    "# Generate random phenotypes"
   ]
  },
  {
   "cell_type": "code",
   "execution_count": 13,
   "id": "038a2531-63b9-441f-81f5-bddb467b1a55",
   "metadata": {},
   "outputs": [],
   "source": [
    "rs = np.random.RandomState(0)\n",
    "random_phenos = {}\n",
    "for i in range(N_PHENOTYPES):\n",
    "    random_phenos[f\"pheno{i}\"] = rs.normal(size=n_samples)"
   ]
  },
  {
   "cell_type": "code",
   "execution_count": 14,
   "id": "190942db-d2de-4b68-97bc-25c2c789b9f7",
   "metadata": {},
   "outputs": [],
   "source": [
    "random_data = data.assign(**random_phenos)"
   ]
  },
  {
   "cell_type": "code",
   "execution_count": 15,
   "id": "dc2ae5b1-4f0d-43d9-b588-aa517cdaa08d",
   "metadata": {},
   "outputs": [
    {
     "data": {
      "text/plain": [
       "(312, 102)"
      ]
     },
     "execution_count": 15,
     "metadata": {},
     "output_type": "execute_result"
    }
   ],
   "source": [
    "random_data.shape"
   ]
  },
  {
   "cell_type": "code",
   "execution_count": 16,
   "id": "65f01b6f-1956-410e-9534-dbb89d004ad4",
   "metadata": {},
   "outputs": [
    {
     "data": {
      "text/html": [
       "<div>\n",
       "<style scoped>\n",
       "    .dataframe tbody tr th:only-of-type {\n",
       "        vertical-align: middle;\n",
       "    }\n",
       "\n",
       "    .dataframe tbody tr th {\n",
       "        vertical-align: top;\n",
       "    }\n",
       "\n",
       "    .dataframe thead th {\n",
       "        text-align: right;\n",
       "    }\n",
       "</style>\n",
       "<table border=\"1\" class=\"dataframe\">\n",
       "  <thead>\n",
       "    <tr style=\"text-align: right;\">\n",
       "      <th></th>\n",
       "      <th>FID</th>\n",
       "      <th>IID</th>\n",
       "      <th>pheno0</th>\n",
       "      <th>pheno1</th>\n",
       "      <th>pheno2</th>\n",
       "      <th>pheno3</th>\n",
       "      <th>pheno4</th>\n",
       "      <th>pheno5</th>\n",
       "      <th>pheno6</th>\n",
       "      <th>pheno7</th>\n",
       "      <th>...</th>\n",
       "      <th>pheno90</th>\n",
       "      <th>pheno91</th>\n",
       "      <th>pheno92</th>\n",
       "      <th>pheno93</th>\n",
       "      <th>pheno94</th>\n",
       "      <th>pheno95</th>\n",
       "      <th>pheno96</th>\n",
       "      <th>pheno97</th>\n",
       "      <th>pheno98</th>\n",
       "      <th>pheno99</th>\n",
       "    </tr>\n",
       "  </thead>\n",
       "  <tbody>\n",
       "    <tr>\n",
       "      <th>0</th>\n",
       "      <td>0</td>\n",
       "      <td>HG00096</td>\n",
       "      <td>1.764052</td>\n",
       "      <td>-1.126826</td>\n",
       "      <td>-0.375147</td>\n",
       "      <td>-1.006832</td>\n",
       "      <td>-0.291642</td>\n",
       "      <td>1.587762</td>\n",
       "      <td>-0.730874</td>\n",
       "      <td>-1.012457</td>\n",
       "      <td>...</td>\n",
       "      <td>-0.242948</td>\n",
       "      <td>0.461256</td>\n",
       "      <td>-1.450561</td>\n",
       "      <td>1.470860</td>\n",
       "      <td>-0.815530</td>\n",
       "      <td>0.991766</td>\n",
       "      <td>-1.552248</td>\n",
       "      <td>1.752155</td>\n",
       "      <td>-0.081803</td>\n",
       "      <td>-0.908184</td>\n",
       "    </tr>\n",
       "    <tr>\n",
       "      <th>1</th>\n",
       "      <td>0</td>\n",
       "      <td>HG00100</td>\n",
       "      <td>0.400157</td>\n",
       "      <td>-0.730678</td>\n",
       "      <td>-1.226196</td>\n",
       "      <td>1.681577</td>\n",
       "      <td>-1.741023</td>\n",
       "      <td>-0.643258</td>\n",
       "      <td>-1.641703</td>\n",
       "      <td>1.250570</td>\n",
       "      <td>...</td>\n",
       "      <td>0.010482</td>\n",
       "      <td>-1.158150</td>\n",
       "      <td>0.710360</td>\n",
       "      <td>-1.328706</td>\n",
       "      <td>-1.373909</td>\n",
       "      <td>0.478430</td>\n",
       "      <td>0.863075</td>\n",
       "      <td>0.739282</td>\n",
       "      <td>0.287118</td>\n",
       "      <td>-0.149202</td>\n",
       "    </tr>\n",
       "    <tr>\n",
       "      <th>2</th>\n",
       "      <td>0</td>\n",
       "      <td>HG00101</td>\n",
       "      <td>0.978738</td>\n",
       "      <td>-0.384880</td>\n",
       "      <td>0.183339</td>\n",
       "      <td>-0.792287</td>\n",
       "      <td>-0.780304</td>\n",
       "      <td>-1.133593</td>\n",
       "      <td>0.275667</td>\n",
       "      <td>-0.234538</td>\n",
       "      <td>...</td>\n",
       "      <td>0.988784</td>\n",
       "      <td>-0.637922</td>\n",
       "      <td>-1.255980</td>\n",
       "      <td>-1.875025</td>\n",
       "      <td>-2.384810</td>\n",
       "      <td>-0.529093</td>\n",
       "      <td>-0.361850</td>\n",
       "      <td>1.107525</td>\n",
       "      <td>1.850835</td>\n",
       "      <td>-1.710601</td>\n",
       "    </tr>\n",
       "    <tr>\n",
       "      <th>3</th>\n",
       "      <td>0</td>\n",
       "      <td>HG00102</td>\n",
       "      <td>2.240893</td>\n",
       "      <td>0.094352</td>\n",
       "      <td>1.670943</td>\n",
       "      <td>-0.531606</td>\n",
       "      <td>0.271113</td>\n",
       "      <td>0.996760</td>\n",
       "      <td>-0.708385</td>\n",
       "      <td>-0.863356</td>\n",
       "      <td>...</td>\n",
       "      <td>-0.523287</td>\n",
       "      <td>-0.523388</td>\n",
       "      <td>0.049111</td>\n",
       "      <td>-0.653856</td>\n",
       "      <td>-1.120972</td>\n",
       "      <td>-1.124456</td>\n",
       "      <td>-0.275997</td>\n",
       "      <td>-0.949599</td>\n",
       "      <td>-0.412174</td>\n",
       "      <td>-0.775918</td>\n",
       "    </tr>\n",
       "    <tr>\n",
       "      <th>4</th>\n",
       "      <td>0</td>\n",
       "      <td>HG00103</td>\n",
       "      <td>1.867558</td>\n",
       "      <td>-0.042171</td>\n",
       "      <td>-0.056133</td>\n",
       "      <td>0.365849</td>\n",
       "      <td>1.045023</td>\n",
       "      <td>-0.148766</td>\n",
       "      <td>-0.015779</td>\n",
       "      <td>-1.035606</td>\n",
       "      <td>...</td>\n",
       "      <td>-0.654061</td>\n",
       "      <td>0.245352</td>\n",
       "      <td>2.452137</td>\n",
       "      <td>-0.443658</td>\n",
       "      <td>-0.818241</td>\n",
       "      <td>0.340240</td>\n",
       "      <td>-0.849328</td>\n",
       "      <td>-0.297150</td>\n",
       "      <td>-0.369514</td>\n",
       "      <td>-0.499161</td>\n",
       "    </tr>\n",
       "  </tbody>\n",
       "</table>\n",
       "<p>5 rows × 102 columns</p>\n",
       "</div>"
      ],
      "text/plain": [
       "   FID      IID    pheno0    pheno1    pheno2    pheno3    pheno4    pheno5  \\\n",
       "0    0  HG00096  1.764052 -1.126826 -0.375147 -1.006832 -0.291642  1.587762   \n",
       "1    0  HG00100  0.400157 -0.730678 -1.226196  1.681577 -1.741023 -0.643258   \n",
       "2    0  HG00101  0.978738 -0.384880  0.183339 -0.792287 -0.780304 -1.133593   \n",
       "3    0  HG00102  2.240893  0.094352  1.670943 -0.531606  0.271113  0.996760   \n",
       "4    0  HG00103  1.867558 -0.042171 -0.056133  0.365849  1.045023 -0.148766   \n",
       "\n",
       "     pheno6    pheno7  ...   pheno90   pheno91   pheno92   pheno93   pheno94  \\\n",
       "0 -0.730874 -1.012457  ... -0.242948  0.461256 -1.450561  1.470860 -0.815530   \n",
       "1 -1.641703  1.250570  ...  0.010482 -1.158150  0.710360 -1.328706 -1.373909   \n",
       "2  0.275667 -0.234538  ...  0.988784 -0.637922 -1.255980 -1.875025 -2.384810   \n",
       "3 -0.708385 -0.863356  ... -0.523287 -0.523388  0.049111 -0.653856 -1.120972   \n",
       "4 -0.015779 -1.035606  ... -0.654061  0.245352  2.452137 -0.443658 -0.818241   \n",
       "\n",
       "    pheno95   pheno96   pheno97   pheno98   pheno99  \n",
       "0  0.991766 -1.552248  1.752155 -0.081803 -0.908184  \n",
       "1  0.478430  0.863075  0.739282  0.287118 -0.149202  \n",
       "2 -0.529093 -0.361850  1.107525  1.850835 -1.710601  \n",
       "3 -1.124456 -0.275997 -0.949599 -0.412174 -0.775918  \n",
       "4  0.340240 -0.849328 -0.297150 -0.369514 -0.499161  \n",
       "\n",
       "[5 rows x 102 columns]"
      ]
     },
     "execution_count": 16,
     "metadata": {},
     "output_type": "execute_result"
    }
   ],
   "source": [
    "random_data.head()"
   ]
  },
  {
   "cell_type": "code",
   "execution_count": 17,
   "id": "db3c159c-cf60-4f41-84a2-ae401a43b11a",
   "metadata": {},
   "outputs": [
    {
     "data": {
      "text/plain": [
       "PosixPath('/opt/data/data/1000g/genotypes/subsets/all_phase3.8.random_pheno.txt')"
      ]
     },
     "metadata": {},
     "output_type": "display_data"
    }
   ],
   "source": [
    "output_filename = SUBSETS_DIR / f\"{SUBSET_FILE_PREFIX}.random_pheno.txt\"\n",
    "display(output_filename)\n",
    "\n",
    "random_data.to_csv(\n",
    "    output_filename, sep=\" \", index=False, header=True, float_format=\"%.5f\"\n",
    ")"
   ]
  },
  {
   "cell_type": "code",
   "execution_count": null,
   "id": "393cbabe-4996-4bed-b413-ce790ed874bb",
   "metadata": {},
   "outputs": [],
   "source": []
  }
 ],
 "metadata": {
  "jupytext": {
   "cell_metadata_filter": "all,-execution,-papermill,-trusted"
  },
  "kernelspec": {
   "display_name": "Python 3 (ipykernel)",
   "language": "python",
   "name": "python3"
  },
  "language_info": {
   "codemirror_mode": {
    "name": "ipython",
    "version": 3
   },
   "file_extension": ".py",
   "mimetype": "text/x-python",
   "name": "python",
   "nbconvert_exporter": "python",
   "pygments_lexer": "ipython3",
   "version": "3.8.13"
  }
 },
 "nbformat": 4,
 "nbformat_minor": 5
}
