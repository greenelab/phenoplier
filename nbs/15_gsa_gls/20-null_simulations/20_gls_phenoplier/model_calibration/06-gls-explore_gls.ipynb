{
 "cells": [
  {
   "cell_type": "markdown",
   "id": "b7acf0c2",
   "metadata": {
    "papermill": {
     "duration": 0.038207,
     "end_time": "2022-02-24T05:32:03.755452",
     "exception": false,
     "start_time": "2022-02-24T05:32:03.717245",
     "status": "completed"
    },
    "tags": []
   },
   "source": [
    "# Description"
   ]
  },
  {
   "cell_type": "markdown",
   "id": "2653adfb",
   "metadata": {
    "papermill": {
     "duration": 0.009944,
     "end_time": "2022-02-24T05:32:03.780673",
     "exception": false,
     "start_time": "2022-02-24T05:32:03.770729",
     "status": "completed"
    },
    "tags": []
   },
   "source": [
    "Here I do the same as the previous notebook, but with the GLS model proposed in PhenoPLIER."
   ]
  },
  {
   "cell_type": "markdown",
   "id": "fb645f46",
   "metadata": {
    "papermill": {
     "duration": 0.008401,
     "end_time": "2022-02-24T05:32:03.797668",
     "exception": false,
     "start_time": "2022-02-24T05:32:03.789267",
     "status": "completed"
    },
    "tags": []
   },
   "source": [
    "# Modules"
   ]
  },
  {
   "cell_type": "code",
   "execution_count": 1,
   "id": "7ce51c68",
   "metadata": {
    "papermill": {
     "duration": 0.861241,
     "end_time": "2022-02-24T05:32:04.667481",
     "exception": false,
     "start_time": "2022-02-24T05:32:03.806240",
     "status": "completed"
    },
    "tags": []
   },
   "outputs": [],
   "source": [
    "from pathlib import Path\n",
    "\n",
    "import numpy as np\n",
    "import pandas as pd\n",
    "from scipy import stats\n",
    "from statsmodels.graphics.gofplots import qqplot_2samples\n",
    "import matplotlib.pyplot as plt\n",
    "import matplotlib as mpl\n",
    "import seaborn as sns\n",
    "\n",
    "import conf\n",
    "from data.recount2 import LVAnalysis\n",
    "from phenoplier_plots import qqplot"
   ]
  },
  {
   "cell_type": "markdown",
   "id": "654985a3",
   "metadata": {
    "papermill": {
     "duration": 0.008701,
     "end_time": "2022-02-24T05:32:04.685435",
     "exception": false,
     "start_time": "2022-02-24T05:32:04.676734",
     "status": "completed"
    },
    "tags": []
   },
   "source": [
    "# Settings"
   ]
  },
  {
   "cell_type": "code",
   "execution_count": 2,
   "id": "d4e1bf58-d0ac-455a-97d8-1d892b4a38d6",
   "metadata": {},
   "outputs": [],
   "source": [
    "N_PHENOTYPES = 1000\n",
    "N_LVS = 987"
   ]
  },
  {
   "cell_type": "code",
   "execution_count": 3,
   "id": "9ba4e01c",
   "metadata": {
    "papermill": {
     "duration": 0.016348,
     "end_time": "2022-02-24T05:32:04.710602",
     "exception": false,
     "start_time": "2022-02-24T05:32:04.694254",
     "status": "completed"
    },
    "tags": []
   },
   "outputs": [
    {
     "data": {
      "text/plain": [
       "PosixPath('/opt/data/results/gls/null_sims/phenoplier/1000g_eur/covars/_corrs_5mb/gls-gtex_v8_mashr-sub_corr')"
      ]
     },
     "metadata": {},
     "output_type": "display_data"
    }
   ],
   "source": [
    "INPUT_DIR = (\n",
    "    conf.RESULTS[\"GLS_NULL_SIMS\"]\n",
    "    / \"phenoplier\"\n",
    "    / \"1000g_eur\"\n",
    "    / \"covars\"\n",
    "    / \"_corrs_5mb\"\n",
    "    / \"gls-gtex_v8_mashr-sub_corr\"\n",
    ")\n",
    "display(INPUT_DIR)\n",
    "assert INPUT_DIR.exists()"
   ]
  },
  {
   "cell_type": "code",
   "execution_count": 4,
   "id": "3f0ceee7-2e59-493d-845c-35d131159f4b",
   "metadata": {},
   "outputs": [],
   "source": [
    "PVALUE_COLUMN = \"pvalue_onesided\""
   ]
  },
  {
   "cell_type": "markdown",
   "id": "029018ec-ed00-41fb-83b3-f0ae3e57a000",
   "metadata": {},
   "source": [
    "# Load MultiXcan genes present in results"
   ]
  },
  {
   "cell_type": "code",
   "execution_count": 5,
   "id": "35a6ced5-0526-469f-93e5-15952f1201e2",
   "metadata": {},
   "outputs": [],
   "source": [
    "_tmp = pd.read_csv(\n",
    "    conf.RESULTS[\"GLS_NULL_SIMS\"]\n",
    "    / \"twas\"\n",
    "    / \"smultixcan\"\n",
    "    / \"random.pheno0-gtex_v8-mashr-smultixcan.txt\",\n",
    "    sep=\"\\t\",\n",
    ")"
   ]
  },
  {
   "cell_type": "code",
   "execution_count": 6,
   "id": "14dd7cef-0d54-4410-9f94-ff0a808b5dda",
   "metadata": {},
   "outputs": [
    {
     "data": {
      "text/plain": [
       "(22317, 18)"
      ]
     },
     "execution_count": 6,
     "metadata": {},
     "output_type": "execute_result"
    }
   ],
   "source": [
    "_tmp.shape"
   ]
  },
  {
   "cell_type": "code",
   "execution_count": 7,
   "id": "e0c79c4b-459b-4ace-8284-14cd3ccbb130",
   "metadata": {},
   "outputs": [
    {
     "data": {
      "text/html": [
       "<div>\n",
       "<style scoped>\n",
       "    .dataframe tbody tr th:only-of-type {\n",
       "        vertical-align: middle;\n",
       "    }\n",
       "\n",
       "    .dataframe tbody tr th {\n",
       "        vertical-align: top;\n",
       "    }\n",
       "\n",
       "    .dataframe thead th {\n",
       "        text-align: right;\n",
       "    }\n",
       "</style>\n",
       "<table border=\"1\" class=\"dataframe\">\n",
       "  <thead>\n",
       "    <tr style=\"text-align: right;\">\n",
       "      <th></th>\n",
       "      <th>gene</th>\n",
       "      <th>gene_name</th>\n",
       "      <th>pvalue</th>\n",
       "      <th>n</th>\n",
       "      <th>n_indep</th>\n",
       "      <th>p_i_best</th>\n",
       "      <th>t_i_best</th>\n",
       "      <th>p_i_worst</th>\n",
       "      <th>t_i_worst</th>\n",
       "      <th>eigen_max</th>\n",
       "      <th>eigen_min</th>\n",
       "      <th>eigen_min_kept</th>\n",
       "      <th>z_min</th>\n",
       "      <th>z_max</th>\n",
       "      <th>z_mean</th>\n",
       "      <th>z_sd</th>\n",
       "      <th>tmi</th>\n",
       "      <th>status</th>\n",
       "    </tr>\n",
       "  </thead>\n",
       "  <tbody>\n",
       "    <tr>\n",
       "      <th>0</th>\n",
       "      <td>ENSG00000131941.7</td>\n",
       "      <td>RHPN2</td>\n",
       "      <td>0.000040</td>\n",
       "      <td>48.0</td>\n",
       "      <td>3.0</td>\n",
       "      <td>2.139470e-04</td>\n",
       "      <td>Artery_Tibial</td>\n",
       "      <td>0.990132</td>\n",
       "      <td>Brain_Nucleus_accumbens_basal_ganglia</td>\n",
       "      <td>36.556432</td>\n",
       "      <td>7.692089e-16</td>\n",
       "      <td>2.519701</td>\n",
       "      <td>-2.721185</td>\n",
       "      <td>3.701952</td>\n",
       "      <td>1.283152</td>\n",
       "      <td>1.825567</td>\n",
       "      <td>3.0</td>\n",
       "      <td>0</td>\n",
       "    </tr>\n",
       "    <tr>\n",
       "      <th>1</th>\n",
       "      <td>ENSG00000076650.6</td>\n",
       "      <td>GPATCH1</td>\n",
       "      <td>0.000078</td>\n",
       "      <td>40.0</td>\n",
       "      <td>3.0</td>\n",
       "      <td>4.534390e-04</td>\n",
       "      <td>Brain_Cerebellum</td>\n",
       "      <td>0.817384</td>\n",
       "      <td>Brain_Frontal_Cortex_BA9</td>\n",
       "      <td>29.990208</td>\n",
       "      <td>2.086487e-15</td>\n",
       "      <td>1.815203</td>\n",
       "      <td>-3.506853</td>\n",
       "      <td>2.383485</td>\n",
       "      <td>-2.016745</td>\n",
       "      <td>1.715495</td>\n",
       "      <td>3.0</td>\n",
       "      <td>0</td>\n",
       "    </tr>\n",
       "    <tr>\n",
       "      <th>2</th>\n",
       "      <td>ENSG00000100906.10</td>\n",
       "      <td>NFKBIA</td>\n",
       "      <td>0.000096</td>\n",
       "      <td>1.0</td>\n",
       "      <td>1.0</td>\n",
       "      <td>9.591208e-05</td>\n",
       "      <td>Brain_Frontal_Cortex_BA9</td>\n",
       "      <td>0.000096</td>\n",
       "      <td>Brain_Frontal_Cortex_BA9</td>\n",
       "      <td>1.000000</td>\n",
       "      <td>1.000000e+00</td>\n",
       "      <td>1.000000</td>\n",
       "      <td>-3.900707</td>\n",
       "      <td>-3.900707</td>\n",
       "      <td>-3.900707</td>\n",
       "      <td>NaN</td>\n",
       "      <td>1.0</td>\n",
       "      <td>0</td>\n",
       "    </tr>\n",
       "    <tr>\n",
       "      <th>3</th>\n",
       "      <td>ENSG00000136319.11</td>\n",
       "      <td>TTC5</td>\n",
       "      <td>0.000109</td>\n",
       "      <td>47.0</td>\n",
       "      <td>5.0</td>\n",
       "      <td>1.402826e-03</td>\n",
       "      <td>Brain_Hippocampus</td>\n",
       "      <td>0.961887</td>\n",
       "      <td>Colon_Sigmoid</td>\n",
       "      <td>21.272442</td>\n",
       "      <td>8.142339e-16</td>\n",
       "      <td>0.732606</td>\n",
       "      <td>-3.194069</td>\n",
       "      <td>1.397514</td>\n",
       "      <td>-0.916662</td>\n",
       "      <td>1.068989</td>\n",
       "      <td>5.0</td>\n",
       "      <td>0</td>\n",
       "    </tr>\n",
       "    <tr>\n",
       "      <th>4</th>\n",
       "      <td>ENSG00000152990.13</td>\n",
       "      <td>ADGRA3</td>\n",
       "      <td>0.000135</td>\n",
       "      <td>41.0</td>\n",
       "      <td>12.0</td>\n",
       "      <td>3.211289e-07</td>\n",
       "      <td>Heart_Atrial_Appendage</td>\n",
       "      <td>0.653657</td>\n",
       "      <td>Whole_Blood</td>\n",
       "      <td>12.988248</td>\n",
       "      <td>3.499412e-16</td>\n",
       "      <td>0.444682</td>\n",
       "      <td>-5.110605</td>\n",
       "      <td>3.599410</td>\n",
       "      <td>-0.464735</td>\n",
       "      <td>2.316607</td>\n",
       "      <td>12.0</td>\n",
       "      <td>0</td>\n",
       "    </tr>\n",
       "  </tbody>\n",
       "</table>\n",
       "</div>"
      ],
      "text/plain": [
       "                 gene gene_name    pvalue     n  n_indep      p_i_best  \\\n",
       "0   ENSG00000131941.7     RHPN2  0.000040  48.0      3.0  2.139470e-04   \n",
       "1   ENSG00000076650.6   GPATCH1  0.000078  40.0      3.0  4.534390e-04   \n",
       "2  ENSG00000100906.10    NFKBIA  0.000096   1.0      1.0  9.591208e-05   \n",
       "3  ENSG00000136319.11      TTC5  0.000109  47.0      5.0  1.402826e-03   \n",
       "4  ENSG00000152990.13    ADGRA3  0.000135  41.0     12.0  3.211289e-07   \n",
       "\n",
       "                   t_i_best  p_i_worst                              t_i_worst  \\\n",
       "0             Artery_Tibial   0.990132  Brain_Nucleus_accumbens_basal_ganglia   \n",
       "1          Brain_Cerebellum   0.817384               Brain_Frontal_Cortex_BA9   \n",
       "2  Brain_Frontal_Cortex_BA9   0.000096               Brain_Frontal_Cortex_BA9   \n",
       "3         Brain_Hippocampus   0.961887                          Colon_Sigmoid   \n",
       "4    Heart_Atrial_Appendage   0.653657                            Whole_Blood   \n",
       "\n",
       "   eigen_max     eigen_min  eigen_min_kept     z_min     z_max    z_mean  \\\n",
       "0  36.556432  7.692089e-16        2.519701 -2.721185  3.701952  1.283152   \n",
       "1  29.990208  2.086487e-15        1.815203 -3.506853  2.383485 -2.016745   \n",
       "2   1.000000  1.000000e+00        1.000000 -3.900707 -3.900707 -3.900707   \n",
       "3  21.272442  8.142339e-16        0.732606 -3.194069  1.397514 -0.916662   \n",
       "4  12.988248  3.499412e-16        0.444682 -5.110605  3.599410 -0.464735   \n",
       "\n",
       "       z_sd   tmi  status  \n",
       "0  1.825567   3.0       0  \n",
       "1  1.715495   3.0       0  \n",
       "2       NaN   1.0       0  \n",
       "3  1.068989   5.0       0  \n",
       "4  2.316607  12.0       0  "
      ]
     },
     "execution_count": 7,
     "metadata": {},
     "output_type": "execute_result"
    }
   ],
   "source": [
    "_tmp.head()"
   ]
  },
  {
   "cell_type": "code",
   "execution_count": 8,
   "id": "df4e8a97-854f-4355-ac4f-d007f4fe3eab",
   "metadata": {},
   "outputs": [
    {
     "data": {
      "text/plain": [
       "22311"
      ]
     },
     "metadata": {},
     "output_type": "display_data"
    },
    {
     "data": {
      "text/plain": [
       "['FAM92B',\n",
       " 'ZNF836',\n",
       " 'RP11-284F21.8',\n",
       " 'GJC3',\n",
       " 'GCC1',\n",
       " 'LINC00115',\n",
       " 'EHBP1L1',\n",
       " 'ST6GALNAC6',\n",
       " 'SYCP2L',\n",
       " 'LRRC61']"
      ]
     },
     "metadata": {},
     "output_type": "display_data"
    }
   ],
   "source": [
    "multixcan_genes = set(_tmp[\"gene_name\"])\n",
    "display(len(multixcan_genes))\n",
    "display(list(multixcan_genes)[:10])"
   ]
  },
  {
   "cell_type": "markdown",
   "id": "e9c7f7f2-2995-4feb-8b74-00946b986433",
   "metadata": {},
   "source": [
    "# Load MultiPLIER Z matrix"
   ]
  },
  {
   "cell_type": "code",
   "execution_count": 9,
   "id": "737539d5-27c1-4eca-afe7-a762799e9a06",
   "metadata": {},
   "outputs": [],
   "source": [
    "multiplier_z = pd.read_pickle(conf.MULTIPLIER[\"MODEL_Z_MATRIX_FILE\"])"
   ]
  },
  {
   "cell_type": "code",
   "execution_count": 10,
   "id": "85f795b4-ac82-4638-8859-17fb6a9065d0",
   "metadata": {},
   "outputs": [
    {
     "data": {
      "text/plain": [
       "(6750, 987)"
      ]
     },
     "execution_count": 10,
     "metadata": {},
     "output_type": "execute_result"
    }
   ],
   "source": [
    "multiplier_z.shape"
   ]
  },
  {
   "cell_type": "code",
   "execution_count": 11,
   "id": "833629ef-50a0-4f1a-8e80-3666f14e45f4",
   "metadata": {},
   "outputs": [],
   "source": [
    "# keep genes only present in MultiXcan\n",
    "multiplier_z = multiplier_z.loc[\n",
    "    sorted(multixcan_genes.intersection(multiplier_z.index))\n",
    "]"
   ]
  },
  {
   "cell_type": "code",
   "execution_count": 12,
   "id": "412acd59-1134-4ee7-8b73-2d4552946735",
   "metadata": {},
   "outputs": [
    {
     "data": {
      "text/plain": [
       "(6446, 987)"
      ]
     },
     "execution_count": 12,
     "metadata": {},
     "output_type": "execute_result"
    }
   ],
   "source": [
    "multiplier_z.shape"
   ]
  },
  {
   "cell_type": "code",
   "execution_count": 13,
   "id": "1d7ae2a5-f63d-415b-b509-0fc4ea278a40",
   "metadata": {},
   "outputs": [
    {
     "data": {
      "text/html": [
       "<div>\n",
       "<style scoped>\n",
       "    .dataframe tbody tr th:only-of-type {\n",
       "        vertical-align: middle;\n",
       "    }\n",
       "\n",
       "    .dataframe tbody tr th {\n",
       "        vertical-align: top;\n",
       "    }\n",
       "\n",
       "    .dataframe thead th {\n",
       "        text-align: right;\n",
       "    }\n",
       "</style>\n",
       "<table border=\"1\" class=\"dataframe\">\n",
       "  <thead>\n",
       "    <tr style=\"text-align: right;\">\n",
       "      <th></th>\n",
       "      <th>LV1</th>\n",
       "      <th>LV2</th>\n",
       "      <th>LV3</th>\n",
       "      <th>LV4</th>\n",
       "      <th>LV5</th>\n",
       "      <th>LV6</th>\n",
       "      <th>LV7</th>\n",
       "      <th>LV8</th>\n",
       "      <th>LV9</th>\n",
       "      <th>LV10</th>\n",
       "      <th>...</th>\n",
       "      <th>LV978</th>\n",
       "      <th>LV979</th>\n",
       "      <th>LV980</th>\n",
       "      <th>LV981</th>\n",
       "      <th>LV982</th>\n",
       "      <th>LV983</th>\n",
       "      <th>LV984</th>\n",
       "      <th>LV985</th>\n",
       "      <th>LV986</th>\n",
       "      <th>LV987</th>\n",
       "    </tr>\n",
       "  </thead>\n",
       "  <tbody>\n",
       "    <tr>\n",
       "      <th>A2M</th>\n",
       "      <td>0.000000</td>\n",
       "      <td>0.000000</td>\n",
       "      <td>0.000000</td>\n",
       "      <td>0.078428</td>\n",
       "      <td>0.0</td>\n",
       "      <td>0.00000</td>\n",
       "      <td>0.000000</td>\n",
       "      <td>0.046772</td>\n",
       "      <td>0.000000</td>\n",
       "      <td>0.011033</td>\n",
       "      <td>...</td>\n",
       "      <td>0.010910</td>\n",
       "      <td>0.000000</td>\n",
       "      <td>0.052869</td>\n",
       "      <td>0.012749</td>\n",
       "      <td>0.0</td>\n",
       "      <td>0.013982</td>\n",
       "      <td>0.152241</td>\n",
       "      <td>0.000000</td>\n",
       "      <td>0.000000</td>\n",
       "      <td>0.108884</td>\n",
       "    </tr>\n",
       "    <tr>\n",
       "      <th>AAAS</th>\n",
       "      <td>0.271162</td>\n",
       "      <td>0.000000</td>\n",
       "      <td>0.000000</td>\n",
       "      <td>0.000000</td>\n",
       "      <td>0.0</td>\n",
       "      <td>0.00000</td>\n",
       "      <td>0.000000</td>\n",
       "      <td>0.000000</td>\n",
       "      <td>1.513337</td>\n",
       "      <td>0.000000</td>\n",
       "      <td>...</td>\n",
       "      <td>0.000000</td>\n",
       "      <td>0.000000</td>\n",
       "      <td>0.000000</td>\n",
       "      <td>0.001385</td>\n",
       "      <td>0.0</td>\n",
       "      <td>0.000000</td>\n",
       "      <td>0.711896</td>\n",
       "      <td>0.030534</td>\n",
       "      <td>0.447105</td>\n",
       "      <td>0.424685</td>\n",
       "    </tr>\n",
       "    <tr>\n",
       "      <th>AANAT</th>\n",
       "      <td>0.005099</td>\n",
       "      <td>0.308497</td>\n",
       "      <td>0.028815</td>\n",
       "      <td>0.000000</td>\n",
       "      <td>0.0</td>\n",
       "      <td>0.00000</td>\n",
       "      <td>0.371725</td>\n",
       "      <td>0.000000</td>\n",
       "      <td>0.135238</td>\n",
       "      <td>0.000000</td>\n",
       "      <td>...</td>\n",
       "      <td>0.117163</td>\n",
       "      <td>0.018815</td>\n",
       "      <td>0.000000</td>\n",
       "      <td>0.193142</td>\n",
       "      <td>0.0</td>\n",
       "      <td>0.040401</td>\n",
       "      <td>0.180436</td>\n",
       "      <td>0.000000</td>\n",
       "      <td>0.000000</td>\n",
       "      <td>0.042064</td>\n",
       "    </tr>\n",
       "    <tr>\n",
       "      <th>AARS</th>\n",
       "      <td>0.512978</td>\n",
       "      <td>0.000000</td>\n",
       "      <td>0.451285</td>\n",
       "      <td>0.319568</td>\n",
       "      <td>0.0</td>\n",
       "      <td>0.00000</td>\n",
       "      <td>0.000000</td>\n",
       "      <td>0.000000</td>\n",
       "      <td>0.000000</td>\n",
       "      <td>0.000000</td>\n",
       "      <td>...</td>\n",
       "      <td>0.000000</td>\n",
       "      <td>0.000000</td>\n",
       "      <td>0.006208</td>\n",
       "      <td>0.021274</td>\n",
       "      <td>0.0</td>\n",
       "      <td>0.000000</td>\n",
       "      <td>0.062143</td>\n",
       "      <td>0.000000</td>\n",
       "      <td>0.000000</td>\n",
       "      <td>0.364892</td>\n",
       "    </tr>\n",
       "    <tr>\n",
       "      <th>AARS2</th>\n",
       "      <td>1.008157</td>\n",
       "      <td>0.000000</td>\n",
       "      <td>0.197424</td>\n",
       "      <td>0.024832</td>\n",
       "      <td>0.0</td>\n",
       "      <td>0.57081</td>\n",
       "      <td>0.000000</td>\n",
       "      <td>0.228675</td>\n",
       "      <td>0.000000</td>\n",
       "      <td>0.116243</td>\n",
       "      <td>...</td>\n",
       "      <td>0.000000</td>\n",
       "      <td>0.000000</td>\n",
       "      <td>0.153345</td>\n",
       "      <td>0.000000</td>\n",
       "      <td>0.0</td>\n",
       "      <td>0.000000</td>\n",
       "      <td>1.004578</td>\n",
       "      <td>0.014470</td>\n",
       "      <td>0.000000</td>\n",
       "      <td>0.000000</td>\n",
       "    </tr>\n",
       "  </tbody>\n",
       "</table>\n",
       "<p>5 rows × 987 columns</p>\n",
       "</div>"
      ],
      "text/plain": [
       "            LV1       LV2       LV3       LV4  LV5      LV6       LV7  \\\n",
       "A2M    0.000000  0.000000  0.000000  0.078428  0.0  0.00000  0.000000   \n",
       "AAAS   0.271162  0.000000  0.000000  0.000000  0.0  0.00000  0.000000   \n",
       "AANAT  0.005099  0.308497  0.028815  0.000000  0.0  0.00000  0.371725   \n",
       "AARS   0.512978  0.000000  0.451285  0.319568  0.0  0.00000  0.000000   \n",
       "AARS2  1.008157  0.000000  0.197424  0.024832  0.0  0.57081  0.000000   \n",
       "\n",
       "            LV8       LV9      LV10  ...     LV978     LV979     LV980  \\\n",
       "A2M    0.046772  0.000000  0.011033  ...  0.010910  0.000000  0.052869   \n",
       "AAAS   0.000000  1.513337  0.000000  ...  0.000000  0.000000  0.000000   \n",
       "AANAT  0.000000  0.135238  0.000000  ...  0.117163  0.018815  0.000000   \n",
       "AARS   0.000000  0.000000  0.000000  ...  0.000000  0.000000  0.006208   \n",
       "AARS2  0.228675  0.000000  0.116243  ...  0.000000  0.000000  0.153345   \n",
       "\n",
       "          LV981  LV982     LV983     LV984     LV985     LV986     LV987  \n",
       "A2M    0.012749    0.0  0.013982  0.152241  0.000000  0.000000  0.108884  \n",
       "AAAS   0.001385    0.0  0.000000  0.711896  0.030534  0.447105  0.424685  \n",
       "AANAT  0.193142    0.0  0.040401  0.180436  0.000000  0.000000  0.042064  \n",
       "AARS   0.021274    0.0  0.000000  0.062143  0.000000  0.000000  0.364892  \n",
       "AARS2  0.000000    0.0  0.000000  1.004578  0.014470  0.000000  0.000000  \n",
       "\n",
       "[5 rows x 987 columns]"
      ]
     },
     "execution_count": 13,
     "metadata": {},
     "output_type": "execute_result"
    }
   ],
   "source": [
    "multiplier_z.head()"
   ]
  },
  {
   "cell_type": "markdown",
   "id": "4cb0512c",
   "metadata": {
    "papermill": {
     "duration": 0.010426,
     "end_time": "2022-02-24T05:32:04.905993",
     "exception": false,
     "start_time": "2022-02-24T05:32:04.895567",
     "status": "completed"
    },
    "tags": []
   },
   "source": [
    "# Functions"
   ]
  },
  {
   "cell_type": "code",
   "execution_count": 14,
   "id": "8f147e50",
   "metadata": {},
   "outputs": [],
   "source": [
    "def show_prop(data, frac=0.05):\n",
    "    pvalues = data[PVALUE_COLUMN]\n",
    "    return get_prop(pvalues, frac=frac)"
   ]
  },
  {
   "cell_type": "code",
   "execution_count": 15,
   "id": "247ac210-d958-47c5-8689-5d7bee1fc2c3",
   "metadata": {},
   "outputs": [],
   "source": [
    "def get_prop(pvalues, frac=0.05):\n",
    "    _pvalue_lt_frac = pvalues[pvalues < frac]\n",
    "    return _pvalue_lt_frac.shape[0] / pvalues.shape[0]"
   ]
  },
  {
   "cell_type": "code",
   "execution_count": 16,
   "id": "21b228aa-038d-4d7f-886c-c46e98e20d15",
   "metadata": {},
   "outputs": [],
   "source": [
    "assert get_prop(np.array([0.20, 0.50]), 0.05) == 0.0\n",
    "assert get_prop(np.array([0.20, 0.50, 0.75, 0.10, 0.04]), 0.05) == 0.2"
   ]
  },
  {
   "cell_type": "code",
   "execution_count": 17,
   "id": "6d41d11a-acf1-4165-9436-a9eda22ba6bb",
   "metadata": {},
   "outputs": [],
   "source": [
    "assert get_prop(pd.Series(np.array([0.20, 0.50])), 0.05) == 0.0\n",
    "assert get_prop(pd.Series(np.array([0.20, 0.50, 0.75, 0.10, 0.04])), 0.05) == 0.2"
   ]
  },
  {
   "cell_type": "code",
   "execution_count": 18,
   "id": "e8b4450a-7bde-4571-ba3a-e600d8212a7d",
   "metadata": {},
   "outputs": [],
   "source": [
    "def get_lv_genes(lv_code):\n",
    "    lv_genes = multiplier_z[lv_code].sort_values(ascending=False)\n",
    "    lv_obj = LVAnalysis(lv_code)\n",
    "    return lv_obj.lv_genes.set_index(\"gene_name\").loc[lv_genes.index]"
   ]
  },
  {
   "cell_type": "markdown",
   "id": "29a8e81c-fe49-44c2-880d-e2c4a5e305ba",
   "metadata": {},
   "source": [
    "# Get files list"
   ]
  },
  {
   "cell_type": "code",
   "execution_count": 19,
   "id": "f920bc02-8297-4bd9-8601-665f079cbf91",
   "metadata": {},
   "outputs": [
    {
     "data": {
      "text/plain": [
       "[PosixPath('/opt/data/results/gls/null_sims/phenoplier/1000g_eur/covars/_corrs_5mb/gls-gtex_v8_mashr-sub_corr/random.pheno988-gls_phenoplier.tsv.gz'),\n",
       " PosixPath('/opt/data/results/gls/null_sims/phenoplier/1000g_eur/covars/_corrs_5mb/gls-gtex_v8_mashr-sub_corr/random.pheno589-gls_phenoplier.tsv.gz'),\n",
       " PosixPath('/opt/data/results/gls/null_sims/phenoplier/1000g_eur/covars/_corrs_5mb/gls-gtex_v8_mashr-sub_corr/random.pheno385-gls_phenoplier.tsv.gz'),\n",
       " PosixPath('/opt/data/results/gls/null_sims/phenoplier/1000g_eur/covars/_corrs_5mb/gls-gtex_v8_mashr-sub_corr/random.pheno5-gls_phenoplier.tsv.gz'),\n",
       " PosixPath('/opt/data/results/gls/null_sims/phenoplier/1000g_eur/covars/_corrs_5mb/gls-gtex_v8_mashr-sub_corr/random.pheno74-gls_phenoplier.tsv.gz')]"
      ]
     },
     "metadata": {},
     "output_type": "display_data"
    }
   ],
   "source": [
    "INPUT_FILES = list(INPUT_DIR.glob(\"*.tsv.gz\"))\n",
    "display(INPUT_FILES[:5])"
   ]
  },
  {
   "cell_type": "markdown",
   "id": "5f2c6f72-9a30-4ced-bc9a-04b6b3b21384",
   "metadata": {},
   "source": [
    "# Load data"
   ]
  },
  {
   "cell_type": "code",
   "execution_count": 20,
   "id": "18ebfb6c",
   "metadata": {
    "papermill": {
     "duration": 0.023945,
     "end_time": "2022-02-24T05:32:04.808813",
     "exception": false,
     "start_time": "2022-02-24T05:32:04.784868",
     "status": "completed"
    },
    "tags": []
   },
   "outputs": [],
   "source": [
    "dfs = [\n",
    "    pd.read_csv(f, sep=\"\\t\").assign(phenotype=f.name.split(\"-\")[0]) for f in INPUT_FILES\n",
    "]"
   ]
  },
  {
   "cell_type": "code",
   "execution_count": 21,
   "id": "ac3b6041",
   "metadata": {
    "papermill": {
     "duration": 0.015781,
     "end_time": "2022-02-24T05:32:04.834694",
     "exception": false,
     "start_time": "2022-02-24T05:32:04.818913",
     "status": "completed"
    },
    "tags": []
   },
   "outputs": [
    {
     "data": {
      "text/plain": [
       "1000"
      ]
     },
     "metadata": {},
     "output_type": "display_data"
    }
   ],
   "source": [
    "display(len(dfs))\n",
    "assert len(dfs) == N_PHENOTYPES"
   ]
  },
  {
   "cell_type": "code",
   "execution_count": 22,
   "id": "d15f7346",
   "metadata": {
    "papermill": {
     "duration": 0.038689,
     "end_time": "2022-02-24T05:32:04.884154",
     "exception": false,
     "start_time": "2022-02-24T05:32:04.845465",
     "status": "completed"
    },
    "tags": []
   },
   "outputs": [],
   "source": [
    "dfs = pd.concat(dfs, axis=0, ignore_index=True)"
   ]
  },
  {
   "cell_type": "code",
   "execution_count": 23,
   "id": "7405b07c-b71a-4a8f-924b-f9ffc7a0b13a",
   "metadata": {},
   "outputs": [
    {
     "data": {
      "text/plain": [
       "(987000, 7)"
      ]
     },
     "metadata": {},
     "output_type": "display_data"
    }
   ],
   "source": [
    "display(dfs.shape)\n",
    "assert dfs.shape[0] == N_PHENOTYPES * N_LVS"
   ]
  },
  {
   "cell_type": "code",
   "execution_count": 24,
   "id": "228787ad-0cbb-4f3b-b964-0bc148a1a305",
   "metadata": {},
   "outputs": [
    {
     "data": {
      "text/html": [
       "<div>\n",
       "<style scoped>\n",
       "    .dataframe tbody tr th:only-of-type {\n",
       "        vertical-align: middle;\n",
       "    }\n",
       "\n",
       "    .dataframe tbody tr th {\n",
       "        vertical-align: top;\n",
       "    }\n",
       "\n",
       "    .dataframe thead th {\n",
       "        text-align: right;\n",
       "    }\n",
       "</style>\n",
       "<table border=\"1\" class=\"dataframe\">\n",
       "  <thead>\n",
       "    <tr style=\"text-align: right;\">\n",
       "      <th></th>\n",
       "      <th>lv</th>\n",
       "      <th>beta</th>\n",
       "      <th>beta_se</th>\n",
       "      <th>t</th>\n",
       "      <th>pvalue_twosided</th>\n",
       "      <th>pvalue_onesided</th>\n",
       "      <th>phenotype</th>\n",
       "    </tr>\n",
       "  </thead>\n",
       "  <tbody>\n",
       "    <tr>\n",
       "      <th>0</th>\n",
       "      <td>LV136</td>\n",
       "      <td>0.395322</td>\n",
       "      <td>0.125894</td>\n",
       "      <td>3.140123</td>\n",
       "      <td>0.001696</td>\n",
       "      <td>0.000848</td>\n",
       "      <td>random.pheno988</td>\n",
       "    </tr>\n",
       "    <tr>\n",
       "      <th>1</th>\n",
       "      <td>LV175</td>\n",
       "      <td>0.331859</td>\n",
       "      <td>0.124790</td>\n",
       "      <td>2.659353</td>\n",
       "      <td>0.007849</td>\n",
       "      <td>0.003924</td>\n",
       "      <td>random.pheno988</td>\n",
       "    </tr>\n",
       "    <tr>\n",
       "      <th>2</th>\n",
       "      <td>LV116</td>\n",
       "      <td>0.337790</td>\n",
       "      <td>0.130191</td>\n",
       "      <td>2.594575</td>\n",
       "      <td>0.009492</td>\n",
       "      <td>0.004746</td>\n",
       "      <td>random.pheno988</td>\n",
       "    </tr>\n",
       "    <tr>\n",
       "      <th>3</th>\n",
       "      <td>LV585</td>\n",
       "      <td>0.323672</td>\n",
       "      <td>0.124886</td>\n",
       "      <td>2.591744</td>\n",
       "      <td>0.009571</td>\n",
       "      <td>0.004785</td>\n",
       "      <td>random.pheno988</td>\n",
       "    </tr>\n",
       "    <tr>\n",
       "      <th>4</th>\n",
       "      <td>LV816</td>\n",
       "      <td>0.322661</td>\n",
       "      <td>0.124720</td>\n",
       "      <td>2.587093</td>\n",
       "      <td>0.009701</td>\n",
       "      <td>0.004850</td>\n",
       "      <td>random.pheno988</td>\n",
       "    </tr>\n",
       "  </tbody>\n",
       "</table>\n",
       "</div>"
      ],
      "text/plain": [
       "      lv      beta   beta_se         t  pvalue_twosided  pvalue_onesided  \\\n",
       "0  LV136  0.395322  0.125894  3.140123         0.001696         0.000848   \n",
       "1  LV175  0.331859  0.124790  2.659353         0.007849         0.003924   \n",
       "2  LV116  0.337790  0.130191  2.594575         0.009492         0.004746   \n",
       "3  LV585  0.323672  0.124886  2.591744         0.009571         0.004785   \n",
       "4  LV816  0.322661  0.124720  2.587093         0.009701         0.004850   \n",
       "\n",
       "         phenotype  \n",
       "0  random.pheno988  \n",
       "1  random.pheno988  \n",
       "2  random.pheno988  \n",
       "3  random.pheno988  \n",
       "4  random.pheno988  "
      ]
     },
     "execution_count": 24,
     "metadata": {},
     "output_type": "execute_result"
    }
   ],
   "source": [
    "dfs.head()"
   ]
  },
  {
   "cell_type": "code",
   "execution_count": 25,
   "id": "97764d1b-af87-46a2-ab78-53df39b0dde3",
   "metadata": {},
   "outputs": [],
   "source": [
    "_tmp = dfs.groupby(\"phenotype\")[\"lv\"].nunique().unique()\n",
    "assert _tmp.shape[0] == 1\n",
    "assert _tmp[0] == N_LVS"
   ]
  },
  {
   "cell_type": "markdown",
   "id": "4c232891-42e5-4685-b015-6ae332164f58",
   "metadata": {},
   "source": [
    "# Mean type I error"
   ]
  },
  {
   "cell_type": "code",
   "execution_count": 26,
   "id": "3426beb7-84a6-4d3d-bdfd-36b4f8cf97bd",
   "metadata": {},
   "outputs": [
    {
     "data": {
      "text/plain": [
       "0.05578622087132725"
      ]
     },
     "metadata": {},
     "output_type": "display_data"
    }
   ],
   "source": [
    "_mt1e = show_prop(dfs)\n",
    "display(_mt1e)"
   ]
  },
  {
   "cell_type": "markdown",
   "id": "ec45e443-0a39-46a7-85c7-540193a15f25",
   "metadata": {},
   "source": [
    "# QQ-plot"
   ]
  },
  {
   "cell_type": "code",
   "execution_count": 27,
   "id": "de7de0f0-493d-4426-aa14-a330f612407f",
   "metadata": {},
   "outputs": [
    {
     "data": {
      "image/png": "[encoded data removed]",
      "text/plain": [
       "<Figure size 576x576 with 1 Axes>"
      ]
     },
     "metadata": {},
     "output_type": "display_data"
    }
   ],
   "source": [
    "with sns.plotting_context(\"paper\", font_scale=1.8), mpl.rc_context(\n",
    "    {\"lines.markersize\": 3}\n",
    "):\n",
    "    fig, ax = qqplot(dfs[PVALUE_COLUMN])\n",
    "    ax.set_title(\n",
    "        f\"GLS (PhenoPLIER's method)\\nMean type I error: {_mt1e:.3f}\\n{N_PHENOTYPES} random phenotypes\"\n",
    "    )"
   ]
  },
  {
   "cell_type": "markdown",
   "id": "6cbc20e3-9d56-441d-bbe2-a7119f9f5d83",
   "metadata": {},
   "source": [
    "# Summary of mean type I error per LV"
   ]
  },
  {
   "cell_type": "code",
   "execution_count": 28,
   "id": "5c799efd-77dc-4955-b5b8-263c65779946",
   "metadata": {},
   "outputs": [],
   "source": [
    "summary_list = []\n",
    "for lv, lv_data in dfs.groupby(\"lv\"):\n",
    "    assert lv_data.shape[0] == N_PHENOTYPES\n",
    "\n",
    "    summary_list.append(\n",
    "        {\n",
    "            \"lv\": lv,\n",
    "            \"1\": get_prop(lv_data[PVALUE_COLUMN], 0.01),\n",
    "            \"5\": get_prop(lv_data[PVALUE_COLUMN], 0.05),\n",
    "            \"10\": get_prop(lv_data[PVALUE_COLUMN], 0.10),\n",
    "        }\n",
    "    )\n",
    "\n",
    "summary_df = pd.DataFrame(summary_list)\n",
    "assert summary_df.shape[0] == N_LVS"
   ]
  },
  {
   "cell_type": "code",
   "execution_count": 29,
   "id": "16a5c34a-0337-4f15-b1ff-4b1bb00997f7",
   "metadata": {},
   "outputs": [
    {
     "data": {
      "text/plain": [
       "(987, 4)"
      ]
     },
     "execution_count": 29,
     "metadata": {},
     "output_type": "execute_result"
    }
   ],
   "source": [
    "summary_df.shape"
   ]
  },
  {
   "cell_type": "code",
   "execution_count": 30,
   "id": "3e1acb4a-00bb-4cea-9b47-9446a9382afe",
   "metadata": {},
   "outputs": [
    {
     "data": {
      "text/html": [
       "<div>\n",
       "<style scoped>\n",
       "    .dataframe tbody tr th:only-of-type {\n",
       "        vertical-align: middle;\n",
       "    }\n",
       "\n",
       "    .dataframe tbody tr th {\n",
       "        vertical-align: top;\n",
       "    }\n",
       "\n",
       "    .dataframe thead th {\n",
       "        text-align: right;\n",
       "    }\n",
       "</style>\n",
       "<table border=\"1\" class=\"dataframe\">\n",
       "  <thead>\n",
       "    <tr style=\"text-align: right;\">\n",
       "      <th></th>\n",
       "      <th>lv</th>\n",
       "      <th>1</th>\n",
       "      <th>5</th>\n",
       "      <th>10</th>\n",
       "    </tr>\n",
       "  </thead>\n",
       "  <tbody>\n",
       "    <tr>\n",
       "      <th>0</th>\n",
       "      <td>LV1</td>\n",
       "      <td>0.005</td>\n",
       "      <td>0.023</td>\n",
       "      <td>0.061</td>\n",
       "    </tr>\n",
       "    <tr>\n",
       "      <th>1</th>\n",
       "      <td>LV10</td>\n",
       "      <td>0.013</td>\n",
       "      <td>0.035</td>\n",
       "      <td>0.069</td>\n",
       "    </tr>\n",
       "    <tr>\n",
       "      <th>2</th>\n",
       "      <td>LV100</td>\n",
       "      <td>0.013</td>\n",
       "      <td>0.052</td>\n",
       "      <td>0.084</td>\n",
       "    </tr>\n",
       "    <tr>\n",
       "      <th>3</th>\n",
       "      <td>LV101</td>\n",
       "      <td>0.011</td>\n",
       "      <td>0.040</td>\n",
       "      <td>0.090</td>\n",
       "    </tr>\n",
       "    <tr>\n",
       "      <th>4</th>\n",
       "      <td>LV102</td>\n",
       "      <td>0.013</td>\n",
       "      <td>0.058</td>\n",
       "      <td>0.083</td>\n",
       "    </tr>\n",
       "  </tbody>\n",
       "</table>\n",
       "</div>"
      ],
      "text/plain": [
       "      lv      1      5     10\n",
       "0    LV1  0.005  0.023  0.061\n",
       "1   LV10  0.013  0.035  0.069\n",
       "2  LV100  0.013  0.052  0.084\n",
       "3  LV101  0.011  0.040  0.090\n",
       "4  LV102  0.013  0.058  0.083"
      ]
     },
     "execution_count": 30,
     "metadata": {},
     "output_type": "execute_result"
    }
   ],
   "source": [
    "summary_df.head()"
   ]
  },
  {
   "cell_type": "code",
   "execution_count": 31,
   "id": "779c4db3-3ed2-413d-8bec-b19a28ce4949",
   "metadata": {},
   "outputs": [
    {
     "data": {
      "text/html": [
       "<div>\n",
       "<style scoped>\n",
       "    .dataframe tbody tr th:only-of-type {\n",
       "        vertical-align: middle;\n",
       "    }\n",
       "\n",
       "    .dataframe tbody tr th {\n",
       "        vertical-align: top;\n",
       "    }\n",
       "\n",
       "    .dataframe thead th {\n",
       "        text-align: right;\n",
       "    }\n",
       "</style>\n",
       "<table border=\"1\" class=\"dataframe\">\n",
       "  <thead>\n",
       "    <tr style=\"text-align: right;\">\n",
       "      <th></th>\n",
       "      <th>1</th>\n",
       "      <th>5</th>\n",
       "      <th>10</th>\n",
       "    </tr>\n",
       "  </thead>\n",
       "  <tbody>\n",
       "    <tr>\n",
       "      <th>count</th>\n",
       "      <td>987.000000</td>\n",
       "      <td>987.000000</td>\n",
       "      <td>987.000000</td>\n",
       "    </tr>\n",
       "    <tr>\n",
       "      <th>mean</th>\n",
       "      <td>0.014775</td>\n",
       "      <td>0.055786</td>\n",
       "      <td>0.102652</td>\n",
       "    </tr>\n",
       "    <tr>\n",
       "      <th>std</th>\n",
       "      <td>0.005123</td>\n",
       "      <td>0.012673</td>\n",
       "      <td>0.018564</td>\n",
       "    </tr>\n",
       "    <tr>\n",
       "      <th>min</th>\n",
       "      <td>0.001000</td>\n",
       "      <td>0.016000</td>\n",
       "      <td>0.051000</td>\n",
       "    </tr>\n",
       "    <tr>\n",
       "      <th>25%</th>\n",
       "      <td>0.011000</td>\n",
       "      <td>0.047000</td>\n",
       "      <td>0.090000</td>\n",
       "    </tr>\n",
       "    <tr>\n",
       "      <th>50%</th>\n",
       "      <td>0.014000</td>\n",
       "      <td>0.056000</td>\n",
       "      <td>0.102000</td>\n",
       "    </tr>\n",
       "    <tr>\n",
       "      <th>75%</th>\n",
       "      <td>0.018000</td>\n",
       "      <td>0.063000</td>\n",
       "      <td>0.115000</td>\n",
       "    </tr>\n",
       "    <tr>\n",
       "      <th>max</th>\n",
       "      <td>0.035000</td>\n",
       "      <td>0.111000</td>\n",
       "      <td>0.176000</td>\n",
       "    </tr>\n",
       "  </tbody>\n",
       "</table>\n",
       "</div>"
      ],
      "text/plain": [
       "                1           5          10\n",
       "count  987.000000  987.000000  987.000000\n",
       "mean     0.014775    0.055786    0.102652\n",
       "std      0.005123    0.012673    0.018564\n",
       "min      0.001000    0.016000    0.051000\n",
       "25%      0.011000    0.047000    0.090000\n",
       "50%      0.014000    0.056000    0.102000\n",
       "75%      0.018000    0.063000    0.115000\n",
       "max      0.035000    0.111000    0.176000"
      ]
     },
     "execution_count": 31,
     "metadata": {},
     "output_type": "execute_result"
    }
   ],
   "source": [
    "summary_df.describe()"
   ]
  },
  {
   "cell_type": "markdown",
   "id": "43daf9dd-7530-4e53-8fc0-305aa78b5be3",
   "metadata": {},
   "source": [
    "## LVs with expected type I error"
   ]
  },
  {
   "cell_type": "code",
   "execution_count": 32,
   "id": "4b22226f-edc7-4af5-8585-e2dbb6fcbe9e",
   "metadata": {},
   "outputs": [
    {
     "data": {
      "text/plain": [
       "(89, 4)"
      ]
     },
     "metadata": {},
     "output_type": "display_data"
    },
    {
     "data": {
      "text/html": [
       "<div>\n",
       "<style scoped>\n",
       "    .dataframe tbody tr th:only-of-type {\n",
       "        vertical-align: middle;\n",
       "    }\n",
       "\n",
       "    .dataframe tbody tr th {\n",
       "        vertical-align: top;\n",
       "    }\n",
       "\n",
       "    .dataframe thead th {\n",
       "        text-align: right;\n",
       "    }\n",
       "</style>\n",
       "<table border=\"1\" class=\"dataframe\">\n",
       "  <thead>\n",
       "    <tr style=\"text-align: right;\">\n",
       "      <th></th>\n",
       "      <th>lv</th>\n",
       "      <th>1</th>\n",
       "      <th>5</th>\n",
       "      <th>10</th>\n",
       "    </tr>\n",
       "  </thead>\n",
       "  <tbody>\n",
       "    <tr>\n",
       "      <th>561</th>\n",
       "      <td>LV604</td>\n",
       "      <td>0.015</td>\n",
       "      <td>0.049</td>\n",
       "      <td>0.099</td>\n",
       "    </tr>\n",
       "    <tr>\n",
       "      <th>384</th>\n",
       "      <td>LV445</td>\n",
       "      <td>0.011</td>\n",
       "      <td>0.049</td>\n",
       "      <td>0.081</td>\n",
       "    </tr>\n",
       "    <tr>\n",
       "      <th>843</th>\n",
       "      <td>LV859</td>\n",
       "      <td>0.016</td>\n",
       "      <td>0.049</td>\n",
       "      <td>0.087</td>\n",
       "    </tr>\n",
       "    <tr>\n",
       "      <th>450</th>\n",
       "      <td>LV504</td>\n",
       "      <td>0.011</td>\n",
       "      <td>0.049</td>\n",
       "      <td>0.093</td>\n",
       "    </tr>\n",
       "    <tr>\n",
       "      <th>838</th>\n",
       "      <td>LV854</td>\n",
       "      <td>0.016</td>\n",
       "      <td>0.049</td>\n",
       "      <td>0.087</td>\n",
       "    </tr>\n",
       "    <tr>\n",
       "      <th>821</th>\n",
       "      <td>LV839</td>\n",
       "      <td>0.018</td>\n",
       "      <td>0.049</td>\n",
       "      <td>0.091</td>\n",
       "    </tr>\n",
       "    <tr>\n",
       "      <th>819</th>\n",
       "      <td>LV837</td>\n",
       "      <td>0.018</td>\n",
       "      <td>0.049</td>\n",
       "      <td>0.091</td>\n",
       "    </tr>\n",
       "    <tr>\n",
       "      <th>507</th>\n",
       "      <td>LV556</td>\n",
       "      <td>0.013</td>\n",
       "      <td>0.049</td>\n",
       "      <td>0.097</td>\n",
       "    </tr>\n",
       "    <tr>\n",
       "      <th>544</th>\n",
       "      <td>LV59</td>\n",
       "      <td>0.016</td>\n",
       "      <td>0.049</td>\n",
       "      <td>0.088</td>\n",
       "    </tr>\n",
       "    <tr>\n",
       "      <th>774</th>\n",
       "      <td>LV797</td>\n",
       "      <td>0.014</td>\n",
       "      <td>0.049</td>\n",
       "      <td>0.090</td>\n",
       "    </tr>\n",
       "    <tr>\n",
       "      <th>607</th>\n",
       "      <td>LV646</td>\n",
       "      <td>0.017</td>\n",
       "      <td>0.049</td>\n",
       "      <td>0.088</td>\n",
       "    </tr>\n",
       "    <tr>\n",
       "      <th>665</th>\n",
       "      <td>LV699</td>\n",
       "      <td>0.014</td>\n",
       "      <td>0.049</td>\n",
       "      <td>0.103</td>\n",
       "    </tr>\n",
       "    <tr>\n",
       "      <th>673</th>\n",
       "      <td>LV705</td>\n",
       "      <td>0.013</td>\n",
       "      <td>0.049</td>\n",
       "      <td>0.082</td>\n",
       "    </tr>\n",
       "    <tr>\n",
       "      <th>693</th>\n",
       "      <td>LV723</td>\n",
       "      <td>0.012</td>\n",
       "      <td>0.049</td>\n",
       "      <td>0.087</td>\n",
       "    </tr>\n",
       "    <tr>\n",
       "      <th>767</th>\n",
       "      <td>LV790</td>\n",
       "      <td>0.014</td>\n",
       "      <td>0.049</td>\n",
       "      <td>0.100</td>\n",
       "    </tr>\n",
       "    <tr>\n",
       "      <th>729</th>\n",
       "      <td>LV756</td>\n",
       "      <td>0.014</td>\n",
       "      <td>0.049</td>\n",
       "      <td>0.114</td>\n",
       "    </tr>\n",
       "    <tr>\n",
       "      <th>876</th>\n",
       "      <td>LV889</td>\n",
       "      <td>0.015</td>\n",
       "      <td>0.049</td>\n",
       "      <td>0.102</td>\n",
       "    </tr>\n",
       "    <tr>\n",
       "      <th>325</th>\n",
       "      <td>LV392</td>\n",
       "      <td>0.009</td>\n",
       "      <td>0.049</td>\n",
       "      <td>0.099</td>\n",
       "    </tr>\n",
       "    <tr>\n",
       "      <th>746</th>\n",
       "      <td>LV771</td>\n",
       "      <td>0.014</td>\n",
       "      <td>0.049</td>\n",
       "      <td>0.098</td>\n",
       "    </tr>\n",
       "    <tr>\n",
       "      <th>920</th>\n",
       "      <td>LV928</td>\n",
       "      <td>0.016</td>\n",
       "      <td>0.049</td>\n",
       "      <td>0.095</td>\n",
       "    </tr>\n",
       "  </tbody>\n",
       "</table>\n",
       "</div>"
      ],
      "text/plain": [
       "        lv      1      5     10\n",
       "561  LV604  0.015  0.049  0.099\n",
       "384  LV445  0.011  0.049  0.081\n",
       "843  LV859  0.016  0.049  0.087\n",
       "450  LV504  0.011  0.049  0.093\n",
       "838  LV854  0.016  0.049  0.087\n",
       "821  LV839  0.018  0.049  0.091\n",
       "819  LV837  0.018  0.049  0.091\n",
       "507  LV556  0.013  0.049  0.097\n",
       "544   LV59  0.016  0.049  0.088\n",
       "774  LV797  0.014  0.049  0.090\n",
       "607  LV646  0.017  0.049  0.088\n",
       "665  LV699  0.014  0.049  0.103\n",
       "673  LV705  0.013  0.049  0.082\n",
       "693  LV723  0.012  0.049  0.087\n",
       "767  LV790  0.014  0.049  0.100\n",
       "729  LV756  0.014  0.049  0.114\n",
       "876  LV889  0.015  0.049  0.102\n",
       "325  LV392  0.009  0.049  0.099\n",
       "746  LV771  0.014  0.049  0.098\n",
       "920  LV928  0.016  0.049  0.095"
      ]
     },
     "metadata": {},
     "output_type": "display_data"
    },
    {
     "data": {
      "text/html": [
       "<div>\n",
       "<style scoped>\n",
       "    .dataframe tbody tr th:only-of-type {\n",
       "        vertical-align: middle;\n",
       "    }\n",
       "\n",
       "    .dataframe tbody tr th {\n",
       "        vertical-align: top;\n",
       "    }\n",
       "\n",
       "    .dataframe thead th {\n",
       "        text-align: right;\n",
       "    }\n",
       "</style>\n",
       "<table border=\"1\" class=\"dataframe\">\n",
       "  <thead>\n",
       "    <tr style=\"text-align: right;\">\n",
       "      <th></th>\n",
       "      <th>lv</th>\n",
       "      <th>1</th>\n",
       "      <th>5</th>\n",
       "      <th>10</th>\n",
       "    </tr>\n",
       "  </thead>\n",
       "  <tbody>\n",
       "    <tr>\n",
       "      <th>62</th>\n",
       "      <td>LV155</td>\n",
       "      <td>0.009</td>\n",
       "      <td>0.051</td>\n",
       "      <td>0.089</td>\n",
       "    </tr>\n",
       "    <tr>\n",
       "      <th>90</th>\n",
       "      <td>LV180</td>\n",
       "      <td>0.018</td>\n",
       "      <td>0.051</td>\n",
       "      <td>0.112</td>\n",
       "    </tr>\n",
       "    <tr>\n",
       "      <th>128</th>\n",
       "      <td>LV214</td>\n",
       "      <td>0.010</td>\n",
       "      <td>0.051</td>\n",
       "      <td>0.105</td>\n",
       "    </tr>\n",
       "    <tr>\n",
       "      <th>191</th>\n",
       "      <td>LV271</td>\n",
       "      <td>0.013</td>\n",
       "      <td>0.051</td>\n",
       "      <td>0.107</td>\n",
       "    </tr>\n",
       "    <tr>\n",
       "      <th>212</th>\n",
       "      <td>LV290</td>\n",
       "      <td>0.018</td>\n",
       "      <td>0.051</td>\n",
       "      <td>0.099</td>\n",
       "    </tr>\n",
       "    <tr>\n",
       "      <th>300</th>\n",
       "      <td>LV37</td>\n",
       "      <td>0.012</td>\n",
       "      <td>0.051</td>\n",
       "      <td>0.097</td>\n",
       "    </tr>\n",
       "    <tr>\n",
       "      <th>324</th>\n",
       "      <td>LV391</td>\n",
       "      <td>0.013</td>\n",
       "      <td>0.051</td>\n",
       "      <td>0.097</td>\n",
       "    </tr>\n",
       "    <tr>\n",
       "      <th>722</th>\n",
       "      <td>LV75</td>\n",
       "      <td>0.014</td>\n",
       "      <td>0.051</td>\n",
       "      <td>0.114</td>\n",
       "    </tr>\n",
       "    <tr>\n",
       "      <th>356</th>\n",
       "      <td>LV42</td>\n",
       "      <td>0.009</td>\n",
       "      <td>0.051</td>\n",
       "      <td>0.104</td>\n",
       "    </tr>\n",
       "    <tr>\n",
       "      <th>414</th>\n",
       "      <td>LV472</td>\n",
       "      <td>0.015</td>\n",
       "      <td>0.051</td>\n",
       "      <td>0.095</td>\n",
       "    </tr>\n",
       "    <tr>\n",
       "      <th>438</th>\n",
       "      <td>LV494</td>\n",
       "      <td>0.012</td>\n",
       "      <td>0.051</td>\n",
       "      <td>0.096</td>\n",
       "    </tr>\n",
       "    <tr>\n",
       "      <th>458</th>\n",
       "      <td>LV511</td>\n",
       "      <td>0.019</td>\n",
       "      <td>0.051</td>\n",
       "      <td>0.088</td>\n",
       "    </tr>\n",
       "    <tr>\n",
       "      <th>463</th>\n",
       "      <td>LV516</td>\n",
       "      <td>0.012</td>\n",
       "      <td>0.051</td>\n",
       "      <td>0.090</td>\n",
       "    </tr>\n",
       "    <tr>\n",
       "      <th>477</th>\n",
       "      <td>LV529</td>\n",
       "      <td>0.017</td>\n",
       "      <td>0.051</td>\n",
       "      <td>0.090</td>\n",
       "    </tr>\n",
       "    <tr>\n",
       "      <th>524</th>\n",
       "      <td>LV571</td>\n",
       "      <td>0.014</td>\n",
       "      <td>0.051</td>\n",
       "      <td>0.087</td>\n",
       "    </tr>\n",
       "    <tr>\n",
       "      <th>968</th>\n",
       "      <td>LV971</td>\n",
       "      <td>0.015</td>\n",
       "      <td>0.051</td>\n",
       "      <td>0.103</td>\n",
       "    </tr>\n",
       "    <tr>\n",
       "      <th>585</th>\n",
       "      <td>LV626</td>\n",
       "      <td>0.011</td>\n",
       "      <td>0.051</td>\n",
       "      <td>0.086</td>\n",
       "    </tr>\n",
       "    <tr>\n",
       "      <th>695</th>\n",
       "      <td>LV725</td>\n",
       "      <td>0.017</td>\n",
       "      <td>0.051</td>\n",
       "      <td>0.098</td>\n",
       "    </tr>\n",
       "    <tr>\n",
       "      <th>383</th>\n",
       "      <td>LV444</td>\n",
       "      <td>0.020</td>\n",
       "      <td>0.051</td>\n",
       "      <td>0.089</td>\n",
       "    </tr>\n",
       "    <tr>\n",
       "      <th>981</th>\n",
       "      <td>LV983</td>\n",
       "      <td>0.008</td>\n",
       "      <td>0.051</td>\n",
       "      <td>0.103</td>\n",
       "    </tr>\n",
       "  </tbody>\n",
       "</table>\n",
       "</div>"
      ],
      "text/plain": [
       "        lv      1      5     10\n",
       "62   LV155  0.009  0.051  0.089\n",
       "90   LV180  0.018  0.051  0.112\n",
       "128  LV214  0.010  0.051  0.105\n",
       "191  LV271  0.013  0.051  0.107\n",
       "212  LV290  0.018  0.051  0.099\n",
       "300   LV37  0.012  0.051  0.097\n",
       "324  LV391  0.013  0.051  0.097\n",
       "722   LV75  0.014  0.051  0.114\n",
       "356   LV42  0.009  0.051  0.104\n",
       "414  LV472  0.015  0.051  0.095\n",
       "438  LV494  0.012  0.051  0.096\n",
       "458  LV511  0.019  0.051  0.088\n",
       "463  LV516  0.012  0.051  0.090\n",
       "477  LV529  0.017  0.051  0.090\n",
       "524  LV571  0.014  0.051  0.087\n",
       "968  LV971  0.015  0.051  0.103\n",
       "585  LV626  0.011  0.051  0.086\n",
       "695  LV725  0.017  0.051  0.098\n",
       "383  LV444  0.020  0.051  0.089\n",
       "981  LV983  0.008  0.051  0.103"
      ]
     },
     "metadata": {},
     "output_type": "display_data"
    }
   ],
   "source": [
    "lvs_expected_error = summary_df[summary_df[\"5\"].between(0.049, 0.051)]\n",
    "display(lvs_expected_error.shape)\n",
    "display(lvs_expected_error.sort_values(\"5\").head(20))\n",
    "display(lvs_expected_error.sort_values(\"5\").tail(20))"
   ]
  },
  {
   "cell_type": "markdown",
   "id": "9dcc030a-74be-4d04-b2b6-654a4443fbd9",
   "metadata": {},
   "source": [
    "## LVs with high type I error"
   ]
  },
  {
   "cell_type": "code",
   "execution_count": 33,
   "id": "31c5f1c6-10d7-4b2a-9429-b59e6ba3c594",
   "metadata": {},
   "outputs": [
    {
     "data": {
      "text/plain": [
       "(330, 4)"
      ]
     },
     "metadata": {},
     "output_type": "display_data"
    },
    {
     "data": {
      "text/html": [
       "<div>\n",
       "<style scoped>\n",
       "    .dataframe tbody tr th:only-of-type {\n",
       "        vertical-align: middle;\n",
       "    }\n",
       "\n",
       "    .dataframe tbody tr th {\n",
       "        vertical-align: top;\n",
       "    }\n",
       "\n",
       "    .dataframe thead th {\n",
       "        text-align: right;\n",
       "    }\n",
       "</style>\n",
       "<table border=\"1\" class=\"dataframe\">\n",
       "  <thead>\n",
       "    <tr style=\"text-align: right;\">\n",
       "      <th></th>\n",
       "      <th>lv</th>\n",
       "      <th>1</th>\n",
       "      <th>5</th>\n",
       "      <th>10</th>\n",
       "    </tr>\n",
       "  </thead>\n",
       "  <tbody>\n",
       "    <tr>\n",
       "      <th>310</th>\n",
       "      <td>LV379</td>\n",
       "      <td>0.024</td>\n",
       "      <td>0.083</td>\n",
       "      <td>0.125</td>\n",
       "    </tr>\n",
       "    <tr>\n",
       "      <th>369</th>\n",
       "      <td>LV431</td>\n",
       "      <td>0.022</td>\n",
       "      <td>0.084</td>\n",
       "      <td>0.137</td>\n",
       "    </tr>\n",
       "    <tr>\n",
       "      <th>253</th>\n",
       "      <td>LV327</td>\n",
       "      <td>0.026</td>\n",
       "      <td>0.085</td>\n",
       "      <td>0.132</td>\n",
       "    </tr>\n",
       "    <tr>\n",
       "      <th>672</th>\n",
       "      <td>LV704</td>\n",
       "      <td>0.018</td>\n",
       "      <td>0.085</td>\n",
       "      <td>0.149</td>\n",
       "    </tr>\n",
       "    <tr>\n",
       "      <th>341</th>\n",
       "      <td>LV406</td>\n",
       "      <td>0.019</td>\n",
       "      <td>0.086</td>\n",
       "      <td>0.133</td>\n",
       "    </tr>\n",
       "    <tr>\n",
       "      <th>752</th>\n",
       "      <td>LV777</td>\n",
       "      <td>0.021</td>\n",
       "      <td>0.086</td>\n",
       "      <td>0.156</td>\n",
       "    </tr>\n",
       "    <tr>\n",
       "      <th>151</th>\n",
       "      <td>LV235</td>\n",
       "      <td>0.029</td>\n",
       "      <td>0.087</td>\n",
       "      <td>0.138</td>\n",
       "    </tr>\n",
       "    <tr>\n",
       "      <th>946</th>\n",
       "      <td>LV951</td>\n",
       "      <td>0.025</td>\n",
       "      <td>0.088</td>\n",
       "      <td>0.157</td>\n",
       "    </tr>\n",
       "    <tr>\n",
       "      <th>975</th>\n",
       "      <td>LV978</td>\n",
       "      <td>0.022</td>\n",
       "      <td>0.088</td>\n",
       "      <td>0.148</td>\n",
       "    </tr>\n",
       "    <tr>\n",
       "      <th>892</th>\n",
       "      <td>LV902</td>\n",
       "      <td>0.028</td>\n",
       "      <td>0.088</td>\n",
       "      <td>0.138</td>\n",
       "    </tr>\n",
       "    <tr>\n",
       "      <th>417</th>\n",
       "      <td>LV475</td>\n",
       "      <td>0.024</td>\n",
       "      <td>0.088</td>\n",
       "      <td>0.145</td>\n",
       "    </tr>\n",
       "    <tr>\n",
       "      <th>694</th>\n",
       "      <td>LV724</td>\n",
       "      <td>0.029</td>\n",
       "      <td>0.089</td>\n",
       "      <td>0.144</td>\n",
       "    </tr>\n",
       "    <tr>\n",
       "      <th>632</th>\n",
       "      <td>LV669</td>\n",
       "      <td>0.023</td>\n",
       "      <td>0.090</td>\n",
       "      <td>0.151</td>\n",
       "    </tr>\n",
       "    <tr>\n",
       "      <th>929</th>\n",
       "      <td>LV936</td>\n",
       "      <td>0.020</td>\n",
       "      <td>0.090</td>\n",
       "      <td>0.137</td>\n",
       "    </tr>\n",
       "    <tr>\n",
       "      <th>720</th>\n",
       "      <td>LV748</td>\n",
       "      <td>0.023</td>\n",
       "      <td>0.090</td>\n",
       "      <td>0.136</td>\n",
       "    </tr>\n",
       "    <tr>\n",
       "      <th>707</th>\n",
       "      <td>LV736</td>\n",
       "      <td>0.022</td>\n",
       "      <td>0.091</td>\n",
       "      <td>0.141</td>\n",
       "    </tr>\n",
       "    <tr>\n",
       "      <th>501</th>\n",
       "      <td>LV550</td>\n",
       "      <td>0.030</td>\n",
       "      <td>0.093</td>\n",
       "      <td>0.150</td>\n",
       "    </tr>\n",
       "    <tr>\n",
       "      <th>542</th>\n",
       "      <td>LV588</td>\n",
       "      <td>0.017</td>\n",
       "      <td>0.095</td>\n",
       "      <td>0.155</td>\n",
       "    </tr>\n",
       "    <tr>\n",
       "      <th>796</th>\n",
       "      <td>LV816</td>\n",
       "      <td>0.033</td>\n",
       "      <td>0.103</td>\n",
       "      <td>0.155</td>\n",
       "    </tr>\n",
       "    <tr>\n",
       "      <th>905</th>\n",
       "      <td>LV914</td>\n",
       "      <td>0.035</td>\n",
       "      <td>0.111</td>\n",
       "      <td>0.176</td>\n",
       "    </tr>\n",
       "  </tbody>\n",
       "</table>\n",
       "</div>"
      ],
      "text/plain": [
       "        lv      1      5     10\n",
       "310  LV379  0.024  0.083  0.125\n",
       "369  LV431  0.022  0.084  0.137\n",
       "253  LV327  0.026  0.085  0.132\n",
       "672  LV704  0.018  0.085  0.149\n",
       "341  LV406  0.019  0.086  0.133\n",
       "752  LV777  0.021  0.086  0.156\n",
       "151  LV235  0.029  0.087  0.138\n",
       "946  LV951  0.025  0.088  0.157\n",
       "975  LV978  0.022  0.088  0.148\n",
       "892  LV902  0.028  0.088  0.138\n",
       "417  LV475  0.024  0.088  0.145\n",
       "694  LV724  0.029  0.089  0.144\n",
       "632  LV669  0.023  0.090  0.151\n",
       "929  LV936  0.020  0.090  0.137\n",
       "720  LV748  0.023  0.090  0.136\n",
       "707  LV736  0.022  0.091  0.141\n",
       "501  LV550  0.030  0.093  0.150\n",
       "542  LV588  0.017  0.095  0.155\n",
       "796  LV816  0.033  0.103  0.155\n",
       "905  LV914  0.035  0.111  0.176"
      ]
     },
     "metadata": {},
     "output_type": "display_data"
    }
   ],
   "source": [
    "lvs_high_error = summary_df[summary_df[\"5\"] > 0.06]\n",
    "display(lvs_high_error.shape)\n",
    "# display(lvs_high_error.sort_values(\"5\").head(20))\n",
    "display(lvs_high_error.sort_values(\"5\").tail(20))"
   ]
  },
  {
   "cell_type": "markdown",
   "id": "30b3db3f-3b33-4bac-a3ea-d728e32d1e6a",
   "metadata": {},
   "source": [
    "# Query specific LVs"
   ]
  },
  {
   "cell_type": "code",
   "execution_count": 34,
   "id": "55e1ec4c-99d6-40e7-b0fa-8805c47a514c",
   "metadata": {},
   "outputs": [
    {
     "data": {
      "text/html": [
       "<div>\n",
       "<style scoped>\n",
       "    .dataframe tbody tr th:only-of-type {\n",
       "        vertical-align: middle;\n",
       "    }\n",
       "\n",
       "    .dataframe tbody tr th {\n",
       "        vertical-align: top;\n",
       "    }\n",
       "\n",
       "    .dataframe thead th {\n",
       "        text-align: right;\n",
       "    }\n",
       "</style>\n",
       "<table border=\"1\" class=\"dataframe\">\n",
       "  <thead>\n",
       "    <tr style=\"text-align: right;\">\n",
       "      <th></th>\n",
       "      <th>lv</th>\n",
       "      <th>1</th>\n",
       "      <th>5</th>\n",
       "      <th>10</th>\n",
       "    </tr>\n",
       "  </thead>\n",
       "  <tbody>\n",
       "    <tr>\n",
       "      <th>163</th>\n",
       "      <td>LV246</td>\n",
       "      <td>0.018</td>\n",
       "      <td>0.061</td>\n",
       "      <td>0.099</td>\n",
       "    </tr>\n",
       "    <tr>\n",
       "      <th>560</th>\n",
       "      <td>LV603</td>\n",
       "      <td>0.015</td>\n",
       "      <td>0.054</td>\n",
       "      <td>0.101</td>\n",
       "    </tr>\n",
       "  </tbody>\n",
       "</table>\n",
       "</div>"
      ],
      "text/plain": [
       "        lv      1      5     10\n",
       "163  LV246  0.018  0.061  0.099\n",
       "560  LV603  0.015  0.054  0.101"
      ]
     },
     "execution_count": 34,
     "metadata": {},
     "output_type": "execute_result"
    }
   ],
   "source": [
    "summary_df[summary_df[\"lv\"].isin((\"LV246\", \"LV603\"))]"
   ]
  },
  {
   "cell_type": "markdown",
   "id": "dc9b5c55-00b8-4089-8926-1f9ff6901e0f",
   "metadata": {},
   "source": [
    "## LV246"
   ]
  },
  {
   "cell_type": "code",
   "execution_count": 35,
   "id": "3fe19845-1580-447c-8ca5-533292394def",
   "metadata": {},
   "outputs": [],
   "source": [
    "lv_code = \"LV246\""
   ]
  },
  {
   "cell_type": "code",
   "execution_count": 36,
   "id": "d972c064-fcba-4986-841b-adc1997419dc",
   "metadata": {},
   "outputs": [],
   "source": [
    "results = dfs[dfs[\"lv\"] == lv_code]"
   ]
  },
  {
   "cell_type": "code",
   "execution_count": 37,
   "id": "13983ff3-161d-4e9e-bb2e-2963d135e6d3",
   "metadata": {},
   "outputs": [
    {
     "data": {
      "text/plain": [
       "(1000, 7)"
      ]
     },
     "execution_count": 37,
     "metadata": {},
     "output_type": "execute_result"
    }
   ],
   "source": [
    "results.shape"
   ]
  },
  {
   "cell_type": "code",
   "execution_count": 38,
   "id": "5068431a-95c2-416a-8b2e-8d1b6a89a6c8",
   "metadata": {},
   "outputs": [
    {
     "data": {
      "text/html": [
       "<div>\n",
       "<style scoped>\n",
       "    .dataframe tbody tr th:only-of-type {\n",
       "        vertical-align: middle;\n",
       "    }\n",
       "\n",
       "    .dataframe tbody tr th {\n",
       "        vertical-align: top;\n",
       "    }\n",
       "\n",
       "    .dataframe thead th {\n",
       "        text-align: right;\n",
       "    }\n",
       "</style>\n",
       "<table border=\"1\" class=\"dataframe\">\n",
       "  <thead>\n",
       "    <tr style=\"text-align: right;\">\n",
       "      <th></th>\n",
       "      <th>lv</th>\n",
       "      <th>beta</th>\n",
       "      <th>beta_se</th>\n",
       "      <th>t</th>\n",
       "      <th>pvalue_twosided</th>\n",
       "      <th>pvalue_onesided</th>\n",
       "      <th>phenotype</th>\n",
       "    </tr>\n",
       "  </thead>\n",
       "  <tbody>\n",
       "    <tr>\n",
       "      <th>69</th>\n",
       "      <td>LV246</td>\n",
       "      <td>0.178002</td>\n",
       "      <td>0.125917</td>\n",
       "      <td>1.413648</td>\n",
       "      <td>0.157514</td>\n",
       "      <td>0.078757</td>\n",
       "      <td>random.pheno988</td>\n",
       "    </tr>\n",
       "    <tr>\n",
       "      <th>1440</th>\n",
       "      <td>LV246</td>\n",
       "      <td>-0.001120</td>\n",
       "      <td>0.126165</td>\n",
       "      <td>-0.008877</td>\n",
       "      <td>0.992917</td>\n",
       "      <td>0.503541</td>\n",
       "      <td>random.pheno589</td>\n",
       "    </tr>\n",
       "    <tr>\n",
       "      <th>2125</th>\n",
       "      <td>LV246</td>\n",
       "      <td>0.124476</td>\n",
       "      <td>0.126013</td>\n",
       "      <td>0.987807</td>\n",
       "      <td>0.323284</td>\n",
       "      <td>0.161642</td>\n",
       "      <td>random.pheno385</td>\n",
       "    </tr>\n",
       "    <tr>\n",
       "      <th>3127</th>\n",
       "      <td>LV246</td>\n",
       "      <td>0.116860</td>\n",
       "      <td>0.126023</td>\n",
       "      <td>0.927289</td>\n",
       "      <td>0.353812</td>\n",
       "      <td>0.176906</td>\n",
       "      <td>random.pheno5</td>\n",
       "    </tr>\n",
       "    <tr>\n",
       "      <th>4512</th>\n",
       "      <td>LV246</td>\n",
       "      <td>-0.032568</td>\n",
       "      <td>0.126154</td>\n",
       "      <td>-0.258162</td>\n",
       "      <td>0.796290</td>\n",
       "      <td>0.601855</td>\n",
       "      <td>random.pheno74</td>\n",
       "    </tr>\n",
       "  </tbody>\n",
       "</table>\n",
       "</div>"
      ],
      "text/plain": [
       "         lv      beta   beta_se         t  pvalue_twosided  pvalue_onesided  \\\n",
       "69    LV246  0.178002  0.125917  1.413648         0.157514         0.078757   \n",
       "1440  LV246 -0.001120  0.126165 -0.008877         0.992917         0.503541   \n",
       "2125  LV246  0.124476  0.126013  0.987807         0.323284         0.161642   \n",
       "3127  LV246  0.116860  0.126023  0.927289         0.353812         0.176906   \n",
       "4512  LV246 -0.032568  0.126154 -0.258162         0.796290         0.601855   \n",
       "\n",
       "            phenotype  \n",
       "69    random.pheno988  \n",
       "1440  random.pheno589  \n",
       "2125  random.pheno385  \n",
       "3127    random.pheno5  \n",
       "4512   random.pheno74  "
      ]
     },
     "execution_count": 38,
     "metadata": {},
     "output_type": "execute_result"
    }
   ],
   "source": [
    "results.head()"
   ]
  },
  {
   "cell_type": "markdown",
   "id": "739f2b4b-2422-4c6e-a563-1e239621cfcc",
   "metadata": {},
   "source": [
    "### Mean type I errors at different thresholds"
   ]
  },
  {
   "cell_type": "code",
   "execution_count": 39,
   "id": "b78ca897-9b1f-4bc0-801c-c180fd1bd8ad",
   "metadata": {},
   "outputs": [
    {
     "data": {
      "text/plain": [
       "0.018"
      ]
     },
     "execution_count": 39,
     "metadata": {},
     "output_type": "execute_result"
    }
   ],
   "source": [
    "show_prop(results, 0.01)"
   ]
  },
  {
   "cell_type": "code",
   "execution_count": 40,
   "id": "3be622f2-bba5-4613-b828-55d2641870ac",
   "metadata": {},
   "outputs": [
    {
     "data": {
      "text/plain": [
       "0.061"
      ]
     },
     "metadata": {},
     "output_type": "display_data"
    }
   ],
   "source": [
    "_mt1e = show_prop(results, 0.05)\n",
    "display(_mt1e)"
   ]
  },
  {
   "cell_type": "code",
   "execution_count": 41,
   "id": "15856adb-bf4b-407a-82e0-f12d44fdcd83",
   "metadata": {},
   "outputs": [
    {
     "data": {
      "text/plain": [
       "0.099"
      ]
     },
     "execution_count": 41,
     "metadata": {},
     "output_type": "execute_result"
    }
   ],
   "source": [
    "show_prop(results, 0.10)"
   ]
  },
  {
   "cell_type": "code",
   "execution_count": 42,
   "id": "a2f185bb-46f7-4781-a692-a35ba89bae60",
   "metadata": {},
   "outputs": [
    {
     "data": {
      "text/plain": [
       "0.153"
      ]
     },
     "execution_count": 42,
     "metadata": {},
     "output_type": "execute_result"
    }
   ],
   "source": [
    "show_prop(results, 0.15)"
   ]
  },
  {
   "cell_type": "code",
   "execution_count": 43,
   "id": "117d9936-f1ad-4190-8d9d-4422bbb9a474",
   "metadata": {},
   "outputs": [
    {
     "data": {
      "text/plain": [
       "0.205"
      ]
     },
     "execution_count": 43,
     "metadata": {},
     "output_type": "execute_result"
    }
   ],
   "source": [
    "show_prop(results, 0.20)"
   ]
  },
  {
   "cell_type": "markdown",
   "id": "62e39da2-9f47-45cc-b3d0-38b68cdd6789",
   "metadata": {},
   "source": [
    "### QQplot"
   ]
  },
  {
   "cell_type": "code",
   "execution_count": 44,
   "id": "cbf014f6-8c8f-42fe-aaea-8c978c8fccff",
   "metadata": {},
   "outputs": [
    {
     "data": {
      "image/png": "[encoded data removed]",
      "text/plain": [
       "<Figure size 576x576 with 1 Axes>"
      ]
     },
     "metadata": {},
     "output_type": "display_data"
    }
   ],
   "source": [
    "with sns.plotting_context(\"paper\", font_scale=1.8), mpl.rc_context(\n",
    "    {\"lines.markersize\": 3}\n",
    "):\n",
    "    fig, ax = qqplot(results[PVALUE_COLUMN])\n",
    "    ax.set_title(\n",
    "        f\"GLS model (PhenoPLIER) - {lv_code}\\nMean type I error: {_mt1e:.3f}\\n{results.shape[0]} random phenotypes\"\n",
    "    )"
   ]
  },
  {
   "cell_type": "markdown",
   "id": "5cf6fdd6-cb82-4fe3-beaa-5164528fbe09",
   "metadata": {},
   "source": [
    "# Comparison with OLS model"
   ]
  },
  {
   "cell_type": "markdown",
   "id": "efa897b5-437f-46e7-a9b2-f538ddd04ef6",
   "metadata": {},
   "source": [
    "## LVs with high mean type I error in OLS model"
   ]
  },
  {
   "cell_type": "markdown",
   "id": "6b3152c9-d6eb-4c8d-83ff-2593aace51d9",
   "metadata": {},
   "source": [
    "Here I compare the OLS's high mean type I error LVs with results from the GLS model."
   ]
  },
  {
   "cell_type": "markdown",
   "id": "791970b1-370d-413b-9bbc-ab854ac616e1",
   "metadata": {},
   "source": [
    "### LV234"
   ]
  },
  {
   "cell_type": "code",
   "execution_count": 45,
   "id": "861e6a8c-b891-4eb2-8878-f5505937f6aa",
   "metadata": {},
   "outputs": [],
   "source": [
    "lv_code = \"LV234\""
   ]
  },
  {
   "cell_type": "code",
   "execution_count": 46,
   "id": "ce659542-b79b-409e-9f02-5b9089510870",
   "metadata": {},
   "outputs": [],
   "source": [
    "results = dfs[dfs[\"lv\"] == lv_code]"
   ]
  },
  {
   "cell_type": "code",
   "execution_count": 47,
   "id": "e149155d-a169-4b37-ab1d-aa2c5ff00f38",
   "metadata": {},
   "outputs": [
    {
     "data": {
      "text/plain": [
       "(1000, 7)"
      ]
     },
     "execution_count": 47,
     "metadata": {},
     "output_type": "execute_result"
    }
   ],
   "source": [
    "results.shape"
   ]
  },
  {
   "cell_type": "code",
   "execution_count": 48,
   "id": "9b7db3d4-d922-4dbb-9a06-15a5432fb67b",
   "metadata": {},
   "outputs": [
    {
     "data": {
      "text/html": [
       "<div>\n",
       "<style scoped>\n",
       "    .dataframe tbody tr th:only-of-type {\n",
       "        vertical-align: middle;\n",
       "    }\n",
       "\n",
       "    .dataframe tbody tr th {\n",
       "        vertical-align: top;\n",
       "    }\n",
       "\n",
       "    .dataframe thead th {\n",
       "        text-align: right;\n",
       "    }\n",
       "</style>\n",
       "<table border=\"1\" class=\"dataframe\">\n",
       "  <thead>\n",
       "    <tr style=\"text-align: right;\">\n",
       "      <th></th>\n",
       "      <th>lv</th>\n",
       "      <th>beta</th>\n",
       "      <th>beta_se</th>\n",
       "      <th>t</th>\n",
       "      <th>pvalue_twosided</th>\n",
       "      <th>pvalue_onesided</th>\n",
       "      <th>phenotype</th>\n",
       "    </tr>\n",
       "  </thead>\n",
       "  <tbody>\n",
       "    <tr>\n",
       "      <th>517</th>\n",
       "      <td>LV234</td>\n",
       "      <td>-0.027060</td>\n",
       "      <td>0.143899</td>\n",
       "      <td>-0.188050</td>\n",
       "      <td>0.850843</td>\n",
       "      <td>0.574578</td>\n",
       "      <td>random.pheno988</td>\n",
       "    </tr>\n",
       "    <tr>\n",
       "      <th>1872</th>\n",
       "      <td>LV234</td>\n",
       "      <td>-0.180468</td>\n",
       "      <td>0.144297</td>\n",
       "      <td>-1.250666</td>\n",
       "      <td>0.211102</td>\n",
       "      <td>0.894449</td>\n",
       "      <td>random.pheno589</td>\n",
       "    </tr>\n",
       "    <tr>\n",
       "      <th>2911</th>\n",
       "      <td>LV234</td>\n",
       "      <td>-0.219704</td>\n",
       "      <td>0.143922</td>\n",
       "      <td>-1.526549</td>\n",
       "      <td>0.126922</td>\n",
       "      <td>0.936539</td>\n",
       "      <td>random.pheno385</td>\n",
       "    </tr>\n",
       "    <tr>\n",
       "      <th>3636</th>\n",
       "      <td>LV234</td>\n",
       "      <td>-0.069257</td>\n",
       "      <td>0.144032</td>\n",
       "      <td>-0.480849</td>\n",
       "      <td>0.630640</td>\n",
       "      <td>0.684680</td>\n",
       "      <td>random.pheno5</td>\n",
       "    </tr>\n",
       "    <tr>\n",
       "      <th>4381</th>\n",
       "      <td>LV234</td>\n",
       "      <td>0.012264</td>\n",
       "      <td>0.144100</td>\n",
       "      <td>0.085110</td>\n",
       "      <td>0.932176</td>\n",
       "      <td>0.466088</td>\n",
       "      <td>random.pheno74</td>\n",
       "    </tr>\n",
       "  </tbody>\n",
       "</table>\n",
       "</div>"
      ],
      "text/plain": [
       "         lv      beta   beta_se         t  pvalue_twosided  pvalue_onesided  \\\n",
       "517   LV234 -0.027060  0.143899 -0.188050         0.850843         0.574578   \n",
       "1872  LV234 -0.180468  0.144297 -1.250666         0.211102         0.894449   \n",
       "2911  LV234 -0.219704  0.143922 -1.526549         0.126922         0.936539   \n",
       "3636  LV234 -0.069257  0.144032 -0.480849         0.630640         0.684680   \n",
       "4381  LV234  0.012264  0.144100  0.085110         0.932176         0.466088   \n",
       "\n",
       "            phenotype  \n",
       "517   random.pheno988  \n",
       "1872  random.pheno589  \n",
       "2911  random.pheno385  \n",
       "3636    random.pheno5  \n",
       "4381   random.pheno74  "
      ]
     },
     "execution_count": 48,
     "metadata": {},
     "output_type": "execute_result"
    }
   ],
   "source": [
    "results.head()"
   ]
  },
  {
   "cell_type": "markdown",
   "id": "1a159b50-7023-442f-a16c-d38651118e1e",
   "metadata": {},
   "source": [
    "#### Mean type I errors at different thresholds"
   ]
  },
  {
   "cell_type": "code",
   "execution_count": 49,
   "id": "98615fff-336f-44e3-8de5-a82ec0b7a377",
   "metadata": {},
   "outputs": [
    {
     "data": {
      "text/plain": [
       "0.014"
      ]
     },
     "execution_count": 49,
     "metadata": {},
     "output_type": "execute_result"
    }
   ],
   "source": [
    "show_prop(results, 0.01)"
   ]
  },
  {
   "cell_type": "code",
   "execution_count": 50,
   "id": "bb28e493-8151-4aad-a7a1-f0728b24373d",
   "metadata": {},
   "outputs": [
    {
     "data": {
      "text/plain": [
       "0.053"
      ]
     },
     "metadata": {},
     "output_type": "display_data"
    }
   ],
   "source": [
    "_mt1e = show_prop(results, 0.05)\n",
    "display(_mt1e)"
   ]
  },
  {
   "cell_type": "code",
   "execution_count": 51,
   "id": "91515a72-d558-4f90-839d-0439b7bc8c51",
   "metadata": {},
   "outputs": [
    {
     "data": {
      "text/plain": [
       "0.09"
      ]
     },
     "execution_count": 51,
     "metadata": {},
     "output_type": "execute_result"
    }
   ],
   "source": [
    "show_prop(results, 0.10)"
   ]
  },
  {
   "cell_type": "code",
   "execution_count": 52,
   "id": "049459fd-5782-41ed-9fe7-36d30c016adc",
   "metadata": {},
   "outputs": [
    {
     "data": {
      "text/plain": [
       "0.119"
      ]
     },
     "execution_count": 52,
     "metadata": {},
     "output_type": "execute_result"
    }
   ],
   "source": [
    "show_prop(results, 0.15)"
   ]
  },
  {
   "cell_type": "code",
   "execution_count": 53,
   "id": "d0569d7e-91f1-43f8-82b7-54b927199724",
   "metadata": {},
   "outputs": [
    {
     "data": {
      "text/plain": [
       "0.16"
      ]
     },
     "execution_count": 53,
     "metadata": {},
     "output_type": "execute_result"
    }
   ],
   "source": [
    "show_prop(results, 0.20)"
   ]
  },
  {
   "cell_type": "markdown",
   "id": "11039773-1436-43a3-afed-3fa15845b503",
   "metadata": {},
   "source": [
    "#### QQplot"
   ]
  },
  {
   "cell_type": "code",
   "execution_count": 54,
   "id": "0bfbf172-fc72-4c72-819b-e873c8121e4c",
   "metadata": {},
   "outputs": [
    {
     "data": {
      "image/png": "[encoded data removed]",
      "text/plain": [
       "<Figure size 576x576 with 1 Axes>"
      ]
     },
     "metadata": {},
     "output_type": "display_data"
    }
   ],
   "source": [
    "with sns.plotting_context(\"paper\", font_scale=1.8), mpl.rc_context(\n",
    "    {\"lines.markersize\": 3}\n",
    "):\n",
    "    fig, ax = qqplot(results[PVALUE_COLUMN])\n",
    "    ax.set_title(\n",
    "        f\"GLS model (PhenoPLIER) - {lv_code}\\nMean type I error: {_mt1e:.3f}\\n{results.shape[0]} random phenotypes\"\n",
    "    )"
   ]
  },
  {
   "cell_type": "markdown",
   "id": "d241a244-c07b-4d5b-8fc9-3ee5895d34a4",
   "metadata": {},
   "source": [
    "#### Top genes in LV"
   ]
  },
  {
   "cell_type": "code",
   "execution_count": 55,
   "id": "9f564cfa-800d-4402-b160-65413d81538d",
   "metadata": {},
   "outputs": [
    {
     "data": {
      "text/html": [
       "<div>\n",
       "<style scoped>\n",
       "    .dataframe tbody tr th:only-of-type {\n",
       "        vertical-align: middle;\n",
       "    }\n",
       "\n",
       "    .dataframe tbody tr th {\n",
       "        vertical-align: top;\n",
       "    }\n",
       "\n",
       "    .dataframe thead th {\n",
       "        text-align: right;\n",
       "    }\n",
       "</style>\n",
       "<table border=\"1\" class=\"dataframe\">\n",
       "  <thead>\n",
       "    <tr style=\"text-align: right;\">\n",
       "      <th></th>\n",
       "      <th>LV234</th>\n",
       "      <th>gene_band</th>\n",
       "    </tr>\n",
       "  </thead>\n",
       "  <tbody>\n",
       "    <tr>\n",
       "      <th>HIST1H4E</th>\n",
       "      <td>7.379845</td>\n",
       "      <td>6p22.2</td>\n",
       "    </tr>\n",
       "    <tr>\n",
       "      <th>HIST1H3B</th>\n",
       "      <td>7.293635</td>\n",
       "      <td>6p22.2</td>\n",
       "    </tr>\n",
       "    <tr>\n",
       "      <th>HIST4H4</th>\n",
       "      <td>6.929394</td>\n",
       "      <td>12p12.3</td>\n",
       "    </tr>\n",
       "    <tr>\n",
       "      <th>HIST1H3H</th>\n",
       "      <td>6.863106</td>\n",
       "      <td>6p22.1</td>\n",
       "    </tr>\n",
       "    <tr>\n",
       "      <th>HIST1H3D</th>\n",
       "      <td>4.568047</td>\n",
       "      <td>6p22.2</td>\n",
       "    </tr>\n",
       "    <tr>\n",
       "      <th>HIST1H2BC</th>\n",
       "      <td>4.078396</td>\n",
       "      <td>6p22.2</td>\n",
       "    </tr>\n",
       "    <tr>\n",
       "      <th>HIST1H2AE</th>\n",
       "      <td>4.009782</td>\n",
       "      <td>6p22.2</td>\n",
       "    </tr>\n",
       "    <tr>\n",
       "      <th>HIST1H2BF</th>\n",
       "      <td>3.963254</td>\n",
       "      <td>6p22.2</td>\n",
       "    </tr>\n",
       "    <tr>\n",
       "      <th>HIST1H2BD</th>\n",
       "      <td>3.862981</td>\n",
       "      <td>6p22.2</td>\n",
       "    </tr>\n",
       "    <tr>\n",
       "      <th>HIST1H2BK</th>\n",
       "      <td>3.662444</td>\n",
       "      <td>6p22.1</td>\n",
       "    </tr>\n",
       "    <tr>\n",
       "      <th>HIST1H2BO</th>\n",
       "      <td>3.292643</td>\n",
       "      <td>6p22.1</td>\n",
       "    </tr>\n",
       "    <tr>\n",
       "      <th>HIST1H2BH</th>\n",
       "      <td>2.581818</td>\n",
       "      <td>6p22.2</td>\n",
       "    </tr>\n",
       "    <tr>\n",
       "      <th>HIST1H2AC</th>\n",
       "      <td>2.280831</td>\n",
       "      <td>6p22.2</td>\n",
       "    </tr>\n",
       "    <tr>\n",
       "      <th>HIST1H4I</th>\n",
       "      <td>2.063182</td>\n",
       "      <td>6p22.1</td>\n",
       "    </tr>\n",
       "    <tr>\n",
       "      <th>HIST1H2BE</th>\n",
       "      <td>1.912717</td>\n",
       "      <td>6p22.2</td>\n",
       "    </tr>\n",
       "    <tr>\n",
       "      <th>UBTF</th>\n",
       "      <td>1.748020</td>\n",
       "      <td>17q21.31</td>\n",
       "    </tr>\n",
       "    <tr>\n",
       "      <th>HIST1H4D</th>\n",
       "      <td>1.660015</td>\n",
       "      <td>6p22.2</td>\n",
       "    </tr>\n",
       "    <tr>\n",
       "      <th>MAPK3</th>\n",
       "      <td>1.655242</td>\n",
       "      <td>16p11.2</td>\n",
       "    </tr>\n",
       "    <tr>\n",
       "      <th>HIST1H3E</th>\n",
       "      <td>1.586624</td>\n",
       "      <td>6p22.2</td>\n",
       "    </tr>\n",
       "    <tr>\n",
       "      <th>H3F3A</th>\n",
       "      <td>1.558007</td>\n",
       "      <td>1q42.12</td>\n",
       "    </tr>\n",
       "    <tr>\n",
       "      <th>HIST1H2BJ</th>\n",
       "      <td>1.455017</td>\n",
       "      <td>6p22.1</td>\n",
       "    </tr>\n",
       "    <tr>\n",
       "      <th>HIST3H2BB</th>\n",
       "      <td>1.434026</td>\n",
       "      <td>1q42.13</td>\n",
       "    </tr>\n",
       "    <tr>\n",
       "      <th>H3F3B</th>\n",
       "      <td>1.431049</td>\n",
       "      <td>17q25.1</td>\n",
       "    </tr>\n",
       "    <tr>\n",
       "      <th>H2AFX</th>\n",
       "      <td>1.393936</td>\n",
       "      <td>11q23.3</td>\n",
       "    </tr>\n",
       "    <tr>\n",
       "      <th>H2AFZ</th>\n",
       "      <td>1.373988</td>\n",
       "      <td>4q23</td>\n",
       "    </tr>\n",
       "  </tbody>\n",
       "</table>\n",
       "</div>"
      ],
      "text/plain": [
       "              LV234 gene_band\n",
       "HIST1H4E   7.379845    6p22.2\n",
       "HIST1H3B   7.293635    6p22.2\n",
       "HIST4H4    6.929394   12p12.3\n",
       "HIST1H3H   6.863106    6p22.1\n",
       "HIST1H3D   4.568047    6p22.2\n",
       "HIST1H2BC  4.078396    6p22.2\n",
       "HIST1H2AE  4.009782    6p22.2\n",
       "HIST1H2BF  3.963254    6p22.2\n",
       "HIST1H2BD  3.862981    6p22.2\n",
       "HIST1H2BK  3.662444    6p22.1\n",
       "HIST1H2BO  3.292643    6p22.1\n",
       "HIST1H2BH  2.581818    6p22.2\n",
       "HIST1H2AC  2.280831    6p22.2\n",
       "HIST1H4I   2.063182    6p22.1\n",
       "HIST1H2BE  1.912717    6p22.2\n",
       "UBTF       1.748020  17q21.31\n",
       "HIST1H4D   1.660015    6p22.2\n",
       "MAPK3      1.655242   16p11.2\n",
       "HIST1H3E   1.586624    6p22.2\n",
       "H3F3A      1.558007   1q42.12\n",
       "HIST1H2BJ  1.455017    6p22.1\n",
       "HIST3H2BB  1.434026   1q42.13\n",
       "H3F3B      1.431049   17q25.1\n",
       "H2AFX      1.393936   11q23.3\n",
       "H2AFZ      1.373988      4q23"
      ]
     },
     "metadata": {},
     "output_type": "display_data"
    }
   ],
   "source": [
    "lv_genes = get_lv_genes(lv_code)\n",
    "display(lv_genes.head(25))"
   ]
  },
  {
   "cell_type": "code",
   "execution_count": 56,
   "id": "0f45e5f1-6aec-4afe-9a5c-16c695a298e8",
   "metadata": {},
   "outputs": [
    {
     "data": {
      "text/plain": [
       "6p22.2     17\n",
       "6p22.1      5\n",
       "7q11.23     3\n",
       "16p11.2     2\n",
       "15q23       2\n",
       "9q31.3      2\n",
       "12p12.3     1\n",
       "1q42.12     1\n",
       "18q11.2     1\n",
       "1q32.2      1\n",
       "Name: gene_band, dtype: int64"
      ]
     },
     "execution_count": 56,
     "metadata": {},
     "output_type": "execute_result"
    }
   ],
   "source": [
    "# see bands of top genes\n",
    "lv_genes.head(68)[\"gene_band\"].value_counts().head(10)"
   ]
  },
  {
   "cell_type": "markdown",
   "id": "3c610269-f16c-4b3e-9e8d-e11e69554214",
   "metadata": {},
   "source": [
    "### LV847"
   ]
  },
  {
   "cell_type": "code",
   "execution_count": 57,
   "id": "eb51399e-47de-44c5-84f5-70f0ca709204",
   "metadata": {},
   "outputs": [],
   "source": [
    "lv_code = \"LV847\""
   ]
  },
  {
   "cell_type": "code",
   "execution_count": 58,
   "id": "282b7e09-41c8-49a5-8b2c-a650ea4eaceb",
   "metadata": {},
   "outputs": [],
   "source": [
    "results = dfs[dfs[\"lv\"] == lv_code]"
   ]
  },
  {
   "cell_type": "code",
   "execution_count": 59,
   "id": "8f39bc48-43c1-47e3-956d-4abff3f72ce2",
   "metadata": {},
   "outputs": [
    {
     "data": {
      "text/plain": [
       "(1000, 7)"
      ]
     },
     "execution_count": 59,
     "metadata": {},
     "output_type": "execute_result"
    }
   ],
   "source": [
    "results.shape"
   ]
  },
  {
   "cell_type": "code",
   "execution_count": 60,
   "id": "36e55730-d3d4-47d2-9b7f-a88b19f4dee1",
   "metadata": {},
   "outputs": [
    {
     "data": {
      "text/html": [
       "<div>\n",
       "<style scoped>\n",
       "    .dataframe tbody tr th:only-of-type {\n",
       "        vertical-align: middle;\n",
       "    }\n",
       "\n",
       "    .dataframe tbody tr th {\n",
       "        vertical-align: top;\n",
       "    }\n",
       "\n",
       "    .dataframe thead th {\n",
       "        text-align: right;\n",
       "    }\n",
       "</style>\n",
       "<table border=\"1\" class=\"dataframe\">\n",
       "  <thead>\n",
       "    <tr style=\"text-align: right;\">\n",
       "      <th></th>\n",
       "      <th>lv</th>\n",
       "      <th>beta</th>\n",
       "      <th>beta_se</th>\n",
       "      <th>t</th>\n",
       "      <th>pvalue_twosided</th>\n",
       "      <th>pvalue_onesided</th>\n",
       "      <th>phenotype</th>\n",
       "    </tr>\n",
       "  </thead>\n",
       "  <tbody>\n",
       "    <tr>\n",
       "      <th>281</th>\n",
       "      <td>LV847</td>\n",
       "      <td>0.059926</td>\n",
       "      <td>0.141410</td>\n",
       "      <td>0.423774</td>\n",
       "      <td>0.671745</td>\n",
       "      <td>0.335872</td>\n",
       "      <td>random.pheno988</td>\n",
       "    </tr>\n",
       "    <tr>\n",
       "      <th>1531</th>\n",
       "      <td>LV847</td>\n",
       "      <td>-0.039309</td>\n",
       "      <td>0.141909</td>\n",
       "      <td>-0.276997</td>\n",
       "      <td>0.781791</td>\n",
       "      <td>0.609105</td>\n",
       "      <td>random.pheno589</td>\n",
       "    </tr>\n",
       "    <tr>\n",
       "      <th>2782</th>\n",
       "      <td>LV847</td>\n",
       "      <td>-0.127960</td>\n",
       "      <td>0.141503</td>\n",
       "      <td>-0.904293</td>\n",
       "      <td>0.365874</td>\n",
       "      <td>0.817063</td>\n",
       "      <td>random.pheno385</td>\n",
       "    </tr>\n",
       "    <tr>\n",
       "      <th>3419</th>\n",
       "      <td>LV847</td>\n",
       "      <td>0.011380</td>\n",
       "      <td>0.141580</td>\n",
       "      <td>0.080376</td>\n",
       "      <td>0.935941</td>\n",
       "      <td>0.467970</td>\n",
       "      <td>random.pheno5</td>\n",
       "    </tr>\n",
       "    <tr>\n",
       "      <th>4586</th>\n",
       "      <td>LV847</td>\n",
       "      <td>-0.061061</td>\n",
       "      <td>0.141656</td>\n",
       "      <td>-0.431054</td>\n",
       "      <td>0.666443</td>\n",
       "      <td>0.666778</td>\n",
       "      <td>random.pheno74</td>\n",
       "    </tr>\n",
       "  </tbody>\n",
       "</table>\n",
       "</div>"
      ],
      "text/plain": [
       "         lv      beta   beta_se         t  pvalue_twosided  pvalue_onesided  \\\n",
       "281   LV847  0.059926  0.141410  0.423774         0.671745         0.335872   \n",
       "1531  LV847 -0.039309  0.141909 -0.276997         0.781791         0.609105   \n",
       "2782  LV847 -0.127960  0.141503 -0.904293         0.365874         0.817063   \n",
       "3419  LV847  0.011380  0.141580  0.080376         0.935941         0.467970   \n",
       "4586  LV847 -0.061061  0.141656 -0.431054         0.666443         0.666778   \n",
       "\n",
       "            phenotype  \n",
       "281   random.pheno988  \n",
       "1531  random.pheno589  \n",
       "2782  random.pheno385  \n",
       "3419    random.pheno5  \n",
       "4586   random.pheno74  "
      ]
     },
     "execution_count": 60,
     "metadata": {},
     "output_type": "execute_result"
    }
   ],
   "source": [
    "results.head()"
   ]
  },
  {
   "cell_type": "markdown",
   "id": "218b336d-9357-4bc2-b81b-318601466b7b",
   "metadata": {},
   "source": [
    "#### Mean type I errors at different thresholds"
   ]
  },
  {
   "cell_type": "code",
   "execution_count": 61,
   "id": "566a4147-98dd-4dc7-a50b-8d9ae9f0f2dc",
   "metadata": {},
   "outputs": [
    {
     "data": {
      "text/plain": [
       "0.021"
      ]
     },
     "execution_count": 61,
     "metadata": {},
     "output_type": "execute_result"
    }
   ],
   "source": [
    "show_prop(results, 0.01)"
   ]
  },
  {
   "cell_type": "code",
   "execution_count": 62,
   "id": "9a26401d-5d9f-4a5b-9404-a995acf31fa9",
   "metadata": {},
   "outputs": [
    {
     "data": {
      "text/plain": [
       "0.066"
      ]
     },
     "metadata": {},
     "output_type": "display_data"
    }
   ],
   "source": [
    "_mt1e = show_prop(results, 0.05)\n",
    "display(_mt1e)"
   ]
  },
  {
   "cell_type": "code",
   "execution_count": 63,
   "id": "22b0b9fd-7b84-4e9c-abaf-ccdb93413165",
   "metadata": {},
   "outputs": [
    {
     "data": {
      "text/plain": [
       "0.125"
      ]
     },
     "execution_count": 63,
     "metadata": {},
     "output_type": "execute_result"
    }
   ],
   "source": [
    "show_prop(results, 0.10)"
   ]
  },
  {
   "cell_type": "code",
   "execution_count": 64,
   "id": "4e1299c0-a344-4d3b-9e85-0f8641bd5f05",
   "metadata": {},
   "outputs": [
    {
     "data": {
      "text/plain": [
       "0.19"
      ]
     },
     "execution_count": 64,
     "metadata": {},
     "output_type": "execute_result"
    }
   ],
   "source": [
    "show_prop(results, 0.15)"
   ]
  },
  {
   "cell_type": "code",
   "execution_count": 65,
   "id": "6e6a7323-cf20-469a-9b68-3e022545bb1e",
   "metadata": {},
   "outputs": [
    {
     "data": {
      "text/plain": [
       "0.236"
      ]
     },
     "execution_count": 65,
     "metadata": {},
     "output_type": "execute_result"
    }
   ],
   "source": [
    "show_prop(results, 0.20)"
   ]
  },
  {
   "cell_type": "markdown",
   "id": "189abecc-8690-4a28-b780-b73f981a980a",
   "metadata": {},
   "source": [
    "#### QQplot"
   ]
  },
  {
   "cell_type": "code",
   "execution_count": 66,
   "id": "d1cddd29-573d-48ab-bb14-1309a613083e",
   "metadata": {},
   "outputs": [
    {
     "data": {
      "image/png": "[encoded data removed]",
      "text/plain": [
       "<Figure size 576x576 with 1 Axes>"
      ]
     },
     "metadata": {},
     "output_type": "display_data"
    }
   ],
   "source": [
    "with sns.plotting_context(\"paper\", font_scale=1.8), mpl.rc_context(\n",
    "    {\"lines.markersize\": 3}\n",
    "):\n",
    "    fig, ax = qqplot(results[PVALUE_COLUMN])\n",
    "    ax.set_title(\n",
    "        f\"GLS model (PhenoPLIER) - {lv_code}\\nMean type I error: {_mt1e:.3f}\\n{results.shape[0]} random phenotypes\"\n",
    "    )"
   ]
  },
  {
   "cell_type": "markdown",
   "id": "dbcaad33-5b8f-4f2d-a28e-edb1504724e9",
   "metadata": {},
   "source": [
    "### LV45"
   ]
  },
  {
   "cell_type": "code",
   "execution_count": 67,
   "id": "d0b7fd18-4d4b-4917-9768-0f19a7c698d7",
   "metadata": {},
   "outputs": [],
   "source": [
    "lv_code = \"LV45\""
   ]
  },
  {
   "cell_type": "code",
   "execution_count": 68,
   "id": "e1ff4bfa-280a-465a-ab83-1cc2bc42ff96",
   "metadata": {},
   "outputs": [],
   "source": [
    "results = dfs[dfs[\"lv\"] == lv_code]"
   ]
  },
  {
   "cell_type": "code",
   "execution_count": 69,
   "id": "d3038212-51a0-437c-80ec-cc6b919f1e7f",
   "metadata": {},
   "outputs": [
    {
     "data": {
      "text/plain": [
       "(1000, 7)"
      ]
     },
     "execution_count": 69,
     "metadata": {},
     "output_type": "execute_result"
    }
   ],
   "source": [
    "results.shape"
   ]
  },
  {
   "cell_type": "code",
   "execution_count": 70,
   "id": "2070d4d7-993a-443e-a164-b296c592fc7b",
   "metadata": {},
   "outputs": [
    {
     "data": {
      "text/html": [
       "<div>\n",
       "<style scoped>\n",
       "    .dataframe tbody tr th:only-of-type {\n",
       "        vertical-align: middle;\n",
       "    }\n",
       "\n",
       "    .dataframe tbody tr th {\n",
       "        vertical-align: top;\n",
       "    }\n",
       "\n",
       "    .dataframe thead th {\n",
       "        text-align: right;\n",
       "    }\n",
       "</style>\n",
       "<table border=\"1\" class=\"dataframe\">\n",
       "  <thead>\n",
       "    <tr style=\"text-align: right;\">\n",
       "      <th></th>\n",
       "      <th>lv</th>\n",
       "      <th>beta</th>\n",
       "      <th>beta_se</th>\n",
       "      <th>t</th>\n",
       "      <th>pvalue_twosided</th>\n",
       "      <th>pvalue_onesided</th>\n",
       "      <th>phenotype</th>\n",
       "    </tr>\n",
       "  </thead>\n",
       "  <tbody>\n",
       "    <tr>\n",
       "      <th>941</th>\n",
       "      <td>LV45</td>\n",
       "      <td>-0.234276</td>\n",
       "      <td>0.141205</td>\n",
       "      <td>-1.659120</td>\n",
       "      <td>0.097140</td>\n",
       "      <td>0.951430</td>\n",
       "      <td>random.pheno988</td>\n",
       "    </tr>\n",
       "    <tr>\n",
       "      <th>1244</th>\n",
       "      <td>LV45</td>\n",
       "      <td>0.078323</td>\n",
       "      <td>0.141696</td>\n",
       "      <td>0.552755</td>\n",
       "      <td>0.580450</td>\n",
       "      <td>0.290225</td>\n",
       "      <td>random.pheno589</td>\n",
       "    </tr>\n",
       "    <tr>\n",
       "      <th>2167</th>\n",
       "      <td>LV45</td>\n",
       "      <td>0.120872</td>\n",
       "      <td>0.141316</td>\n",
       "      <td>0.855331</td>\n",
       "      <td>0.392400</td>\n",
       "      <td>0.196200</td>\n",
       "      <td>random.pheno385</td>\n",
       "    </tr>\n",
       "    <tr>\n",
       "      <th>3546</th>\n",
       "      <td>LV45</td>\n",
       "      <td>-0.036517</td>\n",
       "      <td>0.141363</td>\n",
       "      <td>-0.258317</td>\n",
       "      <td>0.796170</td>\n",
       "      <td>0.601915</td>\n",
       "      <td>random.pheno5</td>\n",
       "    </tr>\n",
       "    <tr>\n",
       "      <th>4425</th>\n",
       "      <td>LV45</td>\n",
       "      <td>-0.009052</td>\n",
       "      <td>0.141440</td>\n",
       "      <td>-0.064001</td>\n",
       "      <td>0.948971</td>\n",
       "      <td>0.525514</td>\n",
       "      <td>random.pheno74</td>\n",
       "    </tr>\n",
       "  </tbody>\n",
       "</table>\n",
       "</div>"
      ],
      "text/plain": [
       "        lv      beta   beta_se         t  pvalue_twosided  pvalue_onesided  \\\n",
       "941   LV45 -0.234276  0.141205 -1.659120         0.097140         0.951430   \n",
       "1244  LV45  0.078323  0.141696  0.552755         0.580450         0.290225   \n",
       "2167  LV45  0.120872  0.141316  0.855331         0.392400         0.196200   \n",
       "3546  LV45 -0.036517  0.141363 -0.258317         0.796170         0.601915   \n",
       "4425  LV45 -0.009052  0.141440 -0.064001         0.948971         0.525514   \n",
       "\n",
       "            phenotype  \n",
       "941   random.pheno988  \n",
       "1244  random.pheno589  \n",
       "2167  random.pheno385  \n",
       "3546    random.pheno5  \n",
       "4425   random.pheno74  "
      ]
     },
     "execution_count": 70,
     "metadata": {},
     "output_type": "execute_result"
    }
   ],
   "source": [
    "results.head()"
   ]
  },
  {
   "cell_type": "markdown",
   "id": "9b3dea75-6e92-4e12-87cd-0b15c86dce48",
   "metadata": {},
   "source": [
    "#### Mean type I errors at different thresholds"
   ]
  },
  {
   "cell_type": "code",
   "execution_count": 71,
   "id": "b7717344-7de4-480e-9844-fe76c475987d",
   "metadata": {},
   "outputs": [
    {
     "data": {
      "text/plain": [
       "0.012"
      ]
     },
     "execution_count": 71,
     "metadata": {},
     "output_type": "execute_result"
    }
   ],
   "source": [
    "show_prop(results, 0.01)"
   ]
  },
  {
   "cell_type": "code",
   "execution_count": 72,
   "id": "b01b57ec-d4c4-4174-bef4-1aef9953c378",
   "metadata": {},
   "outputs": [
    {
     "data": {
      "text/plain": [
       "0.069"
      ]
     },
     "metadata": {},
     "output_type": "display_data"
    }
   ],
   "source": [
    "_mt1e = show_prop(results, 0.05)\n",
    "display(_mt1e)"
   ]
  },
  {
   "cell_type": "code",
   "execution_count": 73,
   "id": "37632ecd-3a8b-4385-bd62-409f76e04dfe",
   "metadata": {},
   "outputs": [
    {
     "data": {
      "text/plain": [
       "0.131"
      ]
     },
     "execution_count": 73,
     "metadata": {},
     "output_type": "execute_result"
    }
   ],
   "source": [
    "show_prop(results, 0.10)"
   ]
  },
  {
   "cell_type": "code",
   "execution_count": 74,
   "id": "252001e5-4415-47e9-be83-389a619de686",
   "metadata": {},
   "outputs": [
    {
     "data": {
      "text/plain": [
       "0.184"
      ]
     },
     "execution_count": 74,
     "metadata": {},
     "output_type": "execute_result"
    }
   ],
   "source": [
    "show_prop(results, 0.15)"
   ]
  },
  {
   "cell_type": "code",
   "execution_count": 75,
   "id": "e4668836-17bb-4253-8ef3-a637b26029f8",
   "metadata": {},
   "outputs": [
    {
     "data": {
      "text/plain": [
       "0.23"
      ]
     },
     "execution_count": 75,
     "metadata": {},
     "output_type": "execute_result"
    }
   ],
   "source": [
    "show_prop(results, 0.20)"
   ]
  },
  {
   "cell_type": "markdown",
   "id": "25966a90-ff90-4db2-a574-3f9433f49bbf",
   "metadata": {},
   "source": [
    "#### QQplot"
   ]
  },
  {
   "cell_type": "code",
   "execution_count": 76,
   "id": "2d40d77b-0fb8-44a3-b203-6e245444cb68",
   "metadata": {},
   "outputs": [
    {
     "data": {
      "image/png": "[encoded data removed]",
      "text/plain": [
       "<Figure size 576x576 with 1 Axes>"
      ]
     },
     "metadata": {},
     "output_type": "display_data"
    }
   ],
   "source": [
    "with sns.plotting_context(\"paper\", font_scale=1.8), mpl.rc_context(\n",
    "    {\"lines.markersize\": 3}\n",
    "):\n",
    "    fig, ax = qqplot(results[PVALUE_COLUMN])\n",
    "    ax.set_title(\n",
    "        f\"GLS model (PhenoPLIER) - {lv_code}\\nMean type I error: {_mt1e:.3f}\\n{results.shape[0]} random phenotypes\"\n",
    "    )"
   ]
  },
  {
   "cell_type": "markdown",
   "id": "09b7c702-aab5-49ba-b40c-cb3d9b912bd2",
   "metadata": {},
   "source": [
    "### LV800"
   ]
  },
  {
   "cell_type": "code",
   "execution_count": 77,
   "id": "be728e80-b79d-4523-ad08-45ad0842cc4a",
   "metadata": {},
   "outputs": [],
   "source": [
    "lv_code = \"LV800\""
   ]
  },
  {
   "cell_type": "code",
   "execution_count": 78,
   "id": "dcc1d33a-cac3-4f20-80b5-d688cc3eaedc",
   "metadata": {},
   "outputs": [],
   "source": [
    "results = dfs[dfs[\"lv\"] == lv_code]"
   ]
  },
  {
   "cell_type": "code",
   "execution_count": 79,
   "id": "13f76ec8-c46b-4f24-b71a-ee60604f45a0",
   "metadata": {},
   "outputs": [
    {
     "data": {
      "text/plain": [
       "(1000, 7)"
      ]
     },
     "execution_count": 79,
     "metadata": {},
     "output_type": "execute_result"
    }
   ],
   "source": [
    "results.shape"
   ]
  },
  {
   "cell_type": "code",
   "execution_count": 80,
   "id": "e36343f6-0cd8-4c7e-a2b0-fd0a92e14dcf",
   "metadata": {},
   "outputs": [
    {
     "data": {
      "text/html": [
       "<div>\n",
       "<style scoped>\n",
       "    .dataframe tbody tr th:only-of-type {\n",
       "        vertical-align: middle;\n",
       "    }\n",
       "\n",
       "    .dataframe tbody tr th {\n",
       "        vertical-align: top;\n",
       "    }\n",
       "\n",
       "    .dataframe thead th {\n",
       "        text-align: right;\n",
       "    }\n",
       "</style>\n",
       "<table border=\"1\" class=\"dataframe\">\n",
       "  <thead>\n",
       "    <tr style=\"text-align: right;\">\n",
       "      <th></th>\n",
       "      <th>lv</th>\n",
       "      <th>beta</th>\n",
       "      <th>beta_se</th>\n",
       "      <th>t</th>\n",
       "      <th>pvalue_twosided</th>\n",
       "      <th>pvalue_onesided</th>\n",
       "      <th>phenotype</th>\n",
       "    </tr>\n",
       "  </thead>\n",
       "  <tbody>\n",
       "    <tr>\n",
       "      <th>96</th>\n",
       "      <td>LV800</td>\n",
       "      <td>0.185413</td>\n",
       "      <td>0.149104</td>\n",
       "      <td>1.243509</td>\n",
       "      <td>0.213726</td>\n",
       "      <td>0.106863</td>\n",
       "      <td>random.pheno988</td>\n",
       "    </tr>\n",
       "    <tr>\n",
       "      <th>1408</th>\n",
       "      <td>LV800</td>\n",
       "      <td>0.014917</td>\n",
       "      <td>0.149358</td>\n",
       "      <td>0.099875</td>\n",
       "      <td>0.920447</td>\n",
       "      <td>0.460223</td>\n",
       "      <td>random.pheno589</td>\n",
       "    </tr>\n",
       "    <tr>\n",
       "      <th>2801</th>\n",
       "      <td>LV800</td>\n",
       "      <td>-0.142208</td>\n",
       "      <td>0.149151</td>\n",
       "      <td>-0.953449</td>\n",
       "      <td>0.340398</td>\n",
       "      <td>0.829801</td>\n",
       "      <td>random.pheno385</td>\n",
       "    </tr>\n",
       "    <tr>\n",
       "      <th>3695</th>\n",
       "      <td>LV800</td>\n",
       "      <td>-0.094337</td>\n",
       "      <td>0.149155</td>\n",
       "      <td>-0.632475</td>\n",
       "      <td>0.527099</td>\n",
       "      <td>0.736451</td>\n",
       "      <td>random.pheno5</td>\n",
       "    </tr>\n",
       "    <tr>\n",
       "      <th>4373</th>\n",
       "      <td>LV800</td>\n",
       "      <td>0.016381</td>\n",
       "      <td>0.149319</td>\n",
       "      <td>0.109704</td>\n",
       "      <td>0.912648</td>\n",
       "      <td>0.456324</td>\n",
       "      <td>random.pheno74</td>\n",
       "    </tr>\n",
       "  </tbody>\n",
       "</table>\n",
       "</div>"
      ],
      "text/plain": [
       "         lv      beta   beta_se         t  pvalue_twosided  pvalue_onesided  \\\n",
       "96    LV800  0.185413  0.149104  1.243509         0.213726         0.106863   \n",
       "1408  LV800  0.014917  0.149358  0.099875         0.920447         0.460223   \n",
       "2801  LV800 -0.142208  0.149151 -0.953449         0.340398         0.829801   \n",
       "3695  LV800 -0.094337  0.149155 -0.632475         0.527099         0.736451   \n",
       "4373  LV800  0.016381  0.149319  0.109704         0.912648         0.456324   \n",
       "\n",
       "            phenotype  \n",
       "96    random.pheno988  \n",
       "1408  random.pheno589  \n",
       "2801  random.pheno385  \n",
       "3695    random.pheno5  \n",
       "4373   random.pheno74  "
      ]
     },
     "execution_count": 80,
     "metadata": {},
     "output_type": "execute_result"
    }
   ],
   "source": [
    "results.head()"
   ]
  },
  {
   "cell_type": "markdown",
   "id": "1c290830-eefa-4f8a-acb2-0136bf8fda34",
   "metadata": {},
   "source": [
    "#### Mean type I errors at different thresholds"
   ]
  },
  {
   "cell_type": "code",
   "execution_count": 81,
   "id": "3b9ab0d0-3598-40ad-88f6-a8ac62663327",
   "metadata": {},
   "outputs": [
    {
     "data": {
      "text/plain": [
       "0.023"
      ]
     },
     "execution_count": 81,
     "metadata": {},
     "output_type": "execute_result"
    }
   ],
   "source": [
    "show_prop(results, 0.01)"
   ]
  },
  {
   "cell_type": "code",
   "execution_count": 82,
   "id": "279d7a22-def7-46f8-8e9f-dbcb5ab28ac5",
   "metadata": {},
   "outputs": [
    {
     "data": {
      "text/plain": [
       "0.07"
      ]
     },
     "metadata": {},
     "output_type": "display_data"
    }
   ],
   "source": [
    "_mt1e = show_prop(results, 0.05)\n",
    "display(_mt1e)"
   ]
  },
  {
   "cell_type": "code",
   "execution_count": 83,
   "id": "13dcb4db-64b3-464c-87de-2c586b5e7db1",
   "metadata": {},
   "outputs": [
    {
     "data": {
      "text/plain": [
       "0.115"
      ]
     },
     "execution_count": 83,
     "metadata": {},
     "output_type": "execute_result"
    }
   ],
   "source": [
    "show_prop(results, 0.10)"
   ]
  },
  {
   "cell_type": "code",
   "execution_count": 84,
   "id": "431c3f4c-31fe-421e-ada3-5977d130b637",
   "metadata": {},
   "outputs": [
    {
     "data": {
      "text/plain": [
       "0.158"
      ]
     },
     "execution_count": 84,
     "metadata": {},
     "output_type": "execute_result"
    }
   ],
   "source": [
    "show_prop(results, 0.15)"
   ]
  },
  {
   "cell_type": "code",
   "execution_count": 85,
   "id": "a3b9acbb-e075-45f0-9837-9ca4b593a912",
   "metadata": {},
   "outputs": [
    {
     "data": {
      "text/plain": [
       "0.207"
      ]
     },
     "execution_count": 85,
     "metadata": {},
     "output_type": "execute_result"
    }
   ],
   "source": [
    "show_prop(results, 0.20)"
   ]
  },
  {
   "cell_type": "markdown",
   "id": "0190cad7-7008-4d4b-b868-f681f819959b",
   "metadata": {},
   "source": [
    "#### QQplot"
   ]
  },
  {
   "cell_type": "code",
   "execution_count": 86,
   "id": "2cd521a5-249c-4695-b694-a50df389fd21",
   "metadata": {},
   "outputs": [
    {
     "data": {
      "image/png": "[encoded data removed]",
      "text/plain": [
       "<Figure size 576x576 with 1 Axes>"
      ]
     },
     "metadata": {},
     "output_type": "display_data"
    }
   ],
   "source": [
    "with sns.plotting_context(\"paper\", font_scale=1.8), mpl.rc_context(\n",
    "    {\"lines.markersize\": 3}\n",
    "):\n",
    "    fig, ax = qqplot(results[PVALUE_COLUMN])\n",
    "    ax.set_title(\n",
    "        f\"GLS model (PhenoPLIER) - {lv_code}\\nMean type I error: {_mt1e:.3f}\\n{results.shape[0]} random phenotypes\"\n",
    "    )"
   ]
  },
  {
   "cell_type": "markdown",
   "id": "5255d9dc-dbe6-4190-b040-210af2db4f10",
   "metadata": {},
   "source": [
    "### LV914"
   ]
  },
  {
   "cell_type": "markdown",
   "id": "9089c855-207b-4185-a7b1-41b775c47cd4",
   "metadata": {},
   "source": [
    "This one is not corrected here, I analyze it below."
   ]
  },
  {
   "cell_type": "markdown",
   "id": "5a289581-af27-4359-b765-b76e5ba6b77d",
   "metadata": {},
   "source": [
    "### LV189"
   ]
  },
  {
   "cell_type": "code",
   "execution_count": 87,
   "id": "70f99ae2-c0da-4569-83c8-a270714eeb29",
   "metadata": {},
   "outputs": [],
   "source": [
    "lv_code = \"LV189\""
   ]
  },
  {
   "cell_type": "code",
   "execution_count": 88,
   "id": "f616891c-9664-4de8-8017-c5d52c75cf15",
   "metadata": {},
   "outputs": [],
   "source": [
    "results = dfs[dfs[\"lv\"] == lv_code]"
   ]
  },
  {
   "cell_type": "code",
   "execution_count": 89,
   "id": "f18dd59a-cf9f-4852-93da-50cf08f22014",
   "metadata": {},
   "outputs": [
    {
     "data": {
      "text/plain": [
       "(1000, 7)"
      ]
     },
     "execution_count": 89,
     "metadata": {},
     "output_type": "execute_result"
    }
   ],
   "source": [
    "results.shape"
   ]
  },
  {
   "cell_type": "code",
   "execution_count": 90,
   "id": "2d9cbf2c-b08c-4d46-91d6-cf012b5e4f59",
   "metadata": {},
   "outputs": [
    {
     "data": {
      "text/html": [
       "<div>\n",
       "<style scoped>\n",
       "    .dataframe tbody tr th:only-of-type {\n",
       "        vertical-align: middle;\n",
       "    }\n",
       "\n",
       "    .dataframe tbody tr th {\n",
       "        vertical-align: top;\n",
       "    }\n",
       "\n",
       "    .dataframe thead th {\n",
       "        text-align: right;\n",
       "    }\n",
       "</style>\n",
       "<table border=\"1\" class=\"dataframe\">\n",
       "  <thead>\n",
       "    <tr style=\"text-align: right;\">\n",
       "      <th></th>\n",
       "      <th>lv</th>\n",
       "      <th>beta</th>\n",
       "      <th>beta_se</th>\n",
       "      <th>t</th>\n",
       "      <th>pvalue_twosided</th>\n",
       "      <th>pvalue_onesided</th>\n",
       "      <th>phenotype</th>\n",
       "    </tr>\n",
       "  </thead>\n",
       "  <tbody>\n",
       "    <tr>\n",
       "      <th>930</th>\n",
       "      <td>LV189</td>\n",
       "      <td>-0.209546</td>\n",
       "      <td>0.135260</td>\n",
       "      <td>-1.549211</td>\n",
       "      <td>0.121380</td>\n",
       "      <td>0.939310</td>\n",
       "      <td>random.pheno988</td>\n",
       "    </tr>\n",
       "    <tr>\n",
       "      <th>1060</th>\n",
       "      <td>LV189</td>\n",
       "      <td>0.190038</td>\n",
       "      <td>0.135507</td>\n",
       "      <td>1.402420</td>\n",
       "      <td>0.160838</td>\n",
       "      <td>0.080419</td>\n",
       "      <td>random.pheno589</td>\n",
       "    </tr>\n",
       "    <tr>\n",
       "      <th>2301</th>\n",
       "      <td>LV189</td>\n",
       "      <td>0.050078</td>\n",
       "      <td>0.135301</td>\n",
       "      <td>0.370127</td>\n",
       "      <td>0.711300</td>\n",
       "      <td>0.355650</td>\n",
       "      <td>random.pheno385</td>\n",
       "    </tr>\n",
       "    <tr>\n",
       "      <th>3348</th>\n",
       "      <td>LV189</td>\n",
       "      <td>0.038358</td>\n",
       "      <td>0.135376</td>\n",
       "      <td>0.283346</td>\n",
       "      <td>0.776921</td>\n",
       "      <td>0.388460</td>\n",
       "      <td>random.pheno5</td>\n",
       "    </tr>\n",
       "    <tr>\n",
       "      <th>4364</th>\n",
       "      <td>LV189</td>\n",
       "      <td>0.016850</td>\n",
       "      <td>0.135361</td>\n",
       "      <td>0.124484</td>\n",
       "      <td>0.900936</td>\n",
       "      <td>0.450468</td>\n",
       "      <td>random.pheno74</td>\n",
       "    </tr>\n",
       "  </tbody>\n",
       "</table>\n",
       "</div>"
      ],
      "text/plain": [
       "         lv      beta   beta_se         t  pvalue_twosided  pvalue_onesided  \\\n",
       "930   LV189 -0.209546  0.135260 -1.549211         0.121380         0.939310   \n",
       "1060  LV189  0.190038  0.135507  1.402420         0.160838         0.080419   \n",
       "2301  LV189  0.050078  0.135301  0.370127         0.711300         0.355650   \n",
       "3348  LV189  0.038358  0.135376  0.283346         0.776921         0.388460   \n",
       "4364  LV189  0.016850  0.135361  0.124484         0.900936         0.450468   \n",
       "\n",
       "            phenotype  \n",
       "930   random.pheno988  \n",
       "1060  random.pheno589  \n",
       "2301  random.pheno385  \n",
       "3348    random.pheno5  \n",
       "4364   random.pheno74  "
      ]
     },
     "execution_count": 90,
     "metadata": {},
     "output_type": "execute_result"
    }
   ],
   "source": [
    "results.head()"
   ]
  },
  {
   "cell_type": "markdown",
   "id": "c08f6aa2-d333-4997-bdbb-df45ec6461c3",
   "metadata": {},
   "source": [
    "#### Mean type I errors at different thresholds"
   ]
  },
  {
   "cell_type": "code",
   "execution_count": 91,
   "id": "45170182-b3f8-41b8-8d4a-27e5357a1723",
   "metadata": {},
   "outputs": [
    {
     "data": {
      "text/plain": [
       "0.024"
      ]
     },
     "execution_count": 91,
     "metadata": {},
     "output_type": "execute_result"
    }
   ],
   "source": [
    "show_prop(results, 0.01)"
   ]
  },
  {
   "cell_type": "code",
   "execution_count": 92,
   "id": "15a320e5-76b4-462c-91f0-02b2d2a4c281",
   "metadata": {},
   "outputs": [
    {
     "data": {
      "text/plain": [
       "0.077"
      ]
     },
     "metadata": {},
     "output_type": "display_data"
    }
   ],
   "source": [
    "_mt1e = show_prop(results, 0.05)\n",
    "display(_mt1e)"
   ]
  },
  {
   "cell_type": "code",
   "execution_count": 93,
   "id": "8740d710-1e2d-447d-915d-1a2735a17021",
   "metadata": {},
   "outputs": [
    {
     "data": {
      "text/plain": [
       "0.131"
      ]
     },
     "execution_count": 93,
     "metadata": {},
     "output_type": "execute_result"
    }
   ],
   "source": [
    "show_prop(results, 0.10)"
   ]
  },
  {
   "cell_type": "code",
   "execution_count": 94,
   "id": "82681aa8-53c4-4c20-992d-4e29c78f9933",
   "metadata": {},
   "outputs": [
    {
     "data": {
      "text/plain": [
       "0.188"
      ]
     },
     "execution_count": 94,
     "metadata": {},
     "output_type": "execute_result"
    }
   ],
   "source": [
    "show_prop(results, 0.15)"
   ]
  },
  {
   "cell_type": "code",
   "execution_count": 95,
   "id": "730803db-f0bc-4044-ab4a-d73cc026f51b",
   "metadata": {},
   "outputs": [
    {
     "data": {
      "text/plain": [
       "0.233"
      ]
     },
     "execution_count": 95,
     "metadata": {},
     "output_type": "execute_result"
    }
   ],
   "source": [
    "show_prop(results, 0.20)"
   ]
  },
  {
   "cell_type": "markdown",
   "id": "e86c01b1-cda2-4905-aed1-9f5c659b0f9c",
   "metadata": {},
   "source": [
    "#### QQplot"
   ]
  },
  {
   "cell_type": "code",
   "execution_count": 96,
   "id": "8bf2f7d7-b272-41cf-8805-f5c72c811aab",
   "metadata": {},
   "outputs": [
    {
     "data": {
      "image/png": "[encoded data removed]",
      "text/plain": [
       "<Figure size 576x576 with 1 Axes>"
      ]
     },
     "metadata": {},
     "output_type": "display_data"
    }
   ],
   "source": [
    "with sns.plotting_context(\"paper\", font_scale=1.8), mpl.rc_context(\n",
    "    {\"lines.markersize\": 3}\n",
    "):\n",
    "    fig, ax = qqplot(results[PVALUE_COLUMN])\n",
    "    ax.set_title(\n",
    "        f\"GLS model (PhenoPLIER) - {lv_code}\\nMean type I error: {_mt1e:.3f}\\n{results.shape[0]} random phenotypes\"\n",
    "    )"
   ]
  },
  {
   "cell_type": "markdown",
   "id": "59a7fbe4-0dd7-4aa3-8853-8b52f6c488a2",
   "metadata": {},
   "source": [
    "## LVs with expected mean type I error"
   ]
  },
  {
   "cell_type": "markdown",
   "id": "4a52b497-cefa-4cf7-9638-23aeef11d1d1",
   "metadata": {},
   "source": [
    "Here I make sure the well calibrated LVs in the OLS model are still well calibrated here."
   ]
  },
  {
   "cell_type": "code",
   "execution_count": 97,
   "id": "ce2afb72-b7e6-460c-a1d4-f85e65086626",
   "metadata": {},
   "outputs": [
    {
     "data": {
      "text/html": [
       "<div>\n",
       "<style scoped>\n",
       "    .dataframe tbody tr th:only-of-type {\n",
       "        vertical-align: middle;\n",
       "    }\n",
       "\n",
       "    .dataframe tbody tr th {\n",
       "        vertical-align: top;\n",
       "    }\n",
       "\n",
       "    .dataframe thead th {\n",
       "        text-align: right;\n",
       "    }\n",
       "</style>\n",
       "<table border=\"1\" class=\"dataframe\">\n",
       "  <thead>\n",
       "    <tr style=\"text-align: right;\">\n",
       "      <th></th>\n",
       "      <th>lv</th>\n",
       "      <th>1</th>\n",
       "      <th>5</th>\n",
       "      <th>10</th>\n",
       "    </tr>\n",
       "  </thead>\n",
       "  <tbody>\n",
       "    <tr>\n",
       "      <th>561</th>\n",
       "      <td>LV604</td>\n",
       "      <td>0.015</td>\n",
       "      <td>0.049</td>\n",
       "      <td>0.099</td>\n",
       "    </tr>\n",
       "    <tr>\n",
       "      <th>384</th>\n",
       "      <td>LV445</td>\n",
       "      <td>0.011</td>\n",
       "      <td>0.049</td>\n",
       "      <td>0.081</td>\n",
       "    </tr>\n",
       "    <tr>\n",
       "      <th>843</th>\n",
       "      <td>LV859</td>\n",
       "      <td>0.016</td>\n",
       "      <td>0.049</td>\n",
       "      <td>0.087</td>\n",
       "    </tr>\n",
       "    <tr>\n",
       "      <th>450</th>\n",
       "      <td>LV504</td>\n",
       "      <td>0.011</td>\n",
       "      <td>0.049</td>\n",
       "      <td>0.093</td>\n",
       "    </tr>\n",
       "    <tr>\n",
       "      <th>838</th>\n",
       "      <td>LV854</td>\n",
       "      <td>0.016</td>\n",
       "      <td>0.049</td>\n",
       "      <td>0.087</td>\n",
       "    </tr>\n",
       "    <tr>\n",
       "      <th>821</th>\n",
       "      <td>LV839</td>\n",
       "      <td>0.018</td>\n",
       "      <td>0.049</td>\n",
       "      <td>0.091</td>\n",
       "    </tr>\n",
       "    <tr>\n",
       "      <th>819</th>\n",
       "      <td>LV837</td>\n",
       "      <td>0.018</td>\n",
       "      <td>0.049</td>\n",
       "      <td>0.091</td>\n",
       "    </tr>\n",
       "    <tr>\n",
       "      <th>507</th>\n",
       "      <td>LV556</td>\n",
       "      <td>0.013</td>\n",
       "      <td>0.049</td>\n",
       "      <td>0.097</td>\n",
       "    </tr>\n",
       "    <tr>\n",
       "      <th>544</th>\n",
       "      <td>LV59</td>\n",
       "      <td>0.016</td>\n",
       "      <td>0.049</td>\n",
       "      <td>0.088</td>\n",
       "    </tr>\n",
       "    <tr>\n",
       "      <th>774</th>\n",
       "      <td>LV797</td>\n",
       "      <td>0.014</td>\n",
       "      <td>0.049</td>\n",
       "      <td>0.090</td>\n",
       "    </tr>\n",
       "    <tr>\n",
       "      <th>607</th>\n",
       "      <td>LV646</td>\n",
       "      <td>0.017</td>\n",
       "      <td>0.049</td>\n",
       "      <td>0.088</td>\n",
       "    </tr>\n",
       "    <tr>\n",
       "      <th>665</th>\n",
       "      <td>LV699</td>\n",
       "      <td>0.014</td>\n",
       "      <td>0.049</td>\n",
       "      <td>0.103</td>\n",
       "    </tr>\n",
       "    <tr>\n",
       "      <th>673</th>\n",
       "      <td>LV705</td>\n",
       "      <td>0.013</td>\n",
       "      <td>0.049</td>\n",
       "      <td>0.082</td>\n",
       "    </tr>\n",
       "    <tr>\n",
       "      <th>693</th>\n",
       "      <td>LV723</td>\n",
       "      <td>0.012</td>\n",
       "      <td>0.049</td>\n",
       "      <td>0.087</td>\n",
       "    </tr>\n",
       "    <tr>\n",
       "      <th>767</th>\n",
       "      <td>LV790</td>\n",
       "      <td>0.014</td>\n",
       "      <td>0.049</td>\n",
       "      <td>0.100</td>\n",
       "    </tr>\n",
       "    <tr>\n",
       "      <th>729</th>\n",
       "      <td>LV756</td>\n",
       "      <td>0.014</td>\n",
       "      <td>0.049</td>\n",
       "      <td>0.114</td>\n",
       "    </tr>\n",
       "    <tr>\n",
       "      <th>876</th>\n",
       "      <td>LV889</td>\n",
       "      <td>0.015</td>\n",
       "      <td>0.049</td>\n",
       "      <td>0.102</td>\n",
       "    </tr>\n",
       "    <tr>\n",
       "      <th>325</th>\n",
       "      <td>LV392</td>\n",
       "      <td>0.009</td>\n",
       "      <td>0.049</td>\n",
       "      <td>0.099</td>\n",
       "    </tr>\n",
       "    <tr>\n",
       "      <th>746</th>\n",
       "      <td>LV771</td>\n",
       "      <td>0.014</td>\n",
       "      <td>0.049</td>\n",
       "      <td>0.098</td>\n",
       "    </tr>\n",
       "    <tr>\n",
       "      <th>920</th>\n",
       "      <td>LV928</td>\n",
       "      <td>0.016</td>\n",
       "      <td>0.049</td>\n",
       "      <td>0.095</td>\n",
       "    </tr>\n",
       "  </tbody>\n",
       "</table>\n",
       "</div>"
      ],
      "text/plain": [
       "        lv      1      5     10\n",
       "561  LV604  0.015  0.049  0.099\n",
       "384  LV445  0.011  0.049  0.081\n",
       "843  LV859  0.016  0.049  0.087\n",
       "450  LV504  0.011  0.049  0.093\n",
       "838  LV854  0.016  0.049  0.087\n",
       "821  LV839  0.018  0.049  0.091\n",
       "819  LV837  0.018  0.049  0.091\n",
       "507  LV556  0.013  0.049  0.097\n",
       "544   LV59  0.016  0.049  0.088\n",
       "774  LV797  0.014  0.049  0.090\n",
       "607  LV646  0.017  0.049  0.088\n",
       "665  LV699  0.014  0.049  0.103\n",
       "673  LV705  0.013  0.049  0.082\n",
       "693  LV723  0.012  0.049  0.087\n",
       "767  LV790  0.014  0.049  0.100\n",
       "729  LV756  0.014  0.049  0.114\n",
       "876  LV889  0.015  0.049  0.102\n",
       "325  LV392  0.009  0.049  0.099\n",
       "746  LV771  0.014  0.049  0.098\n",
       "920  LV928  0.016  0.049  0.095"
      ]
     },
     "metadata": {},
     "output_type": "display_data"
    }
   ],
   "source": [
    "display(lvs_expected_error.sort_values(\"5\").head(20))"
   ]
  },
  {
   "cell_type": "markdown",
   "id": "9dd51c52-09e1-4b42-a8b6-ebd2eb30ab17",
   "metadata": {},
   "source": [
    "Here I'm manually selecting from this list, since I want those that are well calibrated across different p-value thresholds."
   ]
  },
  {
   "cell_type": "markdown",
   "id": "28814b98-a72e-453f-b029-7ac950123ee6",
   "metadata": {},
   "source": [
    "### LV924"
   ]
  },
  {
   "cell_type": "code",
   "execution_count": 98,
   "id": "933ff234-5531-4372-bae7-21dbf9a6a7be",
   "metadata": {},
   "outputs": [],
   "source": [
    "lv_code = \"LV924\""
   ]
  },
  {
   "cell_type": "code",
   "execution_count": 99,
   "id": "8ee3b993-d3c8-48a3-98e5-f8cc4ec44a21",
   "metadata": {},
   "outputs": [],
   "source": [
    "results = dfs[dfs[\"lv\"] == lv_code]"
   ]
  },
  {
   "cell_type": "code",
   "execution_count": 100,
   "id": "700dfa79-fd9e-46f7-8162-4e7ee5f37c07",
   "metadata": {},
   "outputs": [
    {
     "data": {
      "text/plain": [
       "(1000, 7)"
      ]
     },
     "execution_count": 100,
     "metadata": {},
     "output_type": "execute_result"
    }
   ],
   "source": [
    "results.shape"
   ]
  },
  {
   "cell_type": "code",
   "execution_count": 101,
   "id": "69dfb800-0a94-40de-bdba-f99580e6ac97",
   "metadata": {},
   "outputs": [
    {
     "data": {
      "text/html": [
       "<div>\n",
       "<style scoped>\n",
       "    .dataframe tbody tr th:only-of-type {\n",
       "        vertical-align: middle;\n",
       "    }\n",
       "\n",
       "    .dataframe tbody tr th {\n",
       "        vertical-align: top;\n",
       "    }\n",
       "\n",
       "    .dataframe thead th {\n",
       "        text-align: right;\n",
       "    }\n",
       "</style>\n",
       "<table border=\"1\" class=\"dataframe\">\n",
       "  <thead>\n",
       "    <tr style=\"text-align: right;\">\n",
       "      <th></th>\n",
       "      <th>lv</th>\n",
       "      <th>beta</th>\n",
       "      <th>beta_se</th>\n",
       "      <th>t</th>\n",
       "      <th>pvalue_twosided</th>\n",
       "      <th>pvalue_onesided</th>\n",
       "      <th>phenotype</th>\n",
       "    </tr>\n",
       "  </thead>\n",
       "  <tbody>\n",
       "    <tr>\n",
       "      <th>519</th>\n",
       "      <td>LV924</td>\n",
       "      <td>-0.024441</td>\n",
       "      <td>0.125578</td>\n",
       "      <td>-0.194628</td>\n",
       "      <td>0.845690</td>\n",
       "      <td>0.577155</td>\n",
       "      <td>random.pheno988</td>\n",
       "    </tr>\n",
       "    <tr>\n",
       "      <th>1673</th>\n",
       "      <td>LV924</td>\n",
       "      <td>-0.080250</td>\n",
       "      <td>0.125793</td>\n",
       "      <td>-0.637951</td>\n",
       "      <td>0.523528</td>\n",
       "      <td>0.738236</td>\n",
       "      <td>random.pheno589</td>\n",
       "    </tr>\n",
       "    <tr>\n",
       "      <th>2507</th>\n",
       "      <td>LV924</td>\n",
       "      <td>-0.013435</td>\n",
       "      <td>0.125659</td>\n",
       "      <td>-0.106917</td>\n",
       "      <td>0.914858</td>\n",
       "      <td>0.542571</td>\n",
       "      <td>random.pheno385</td>\n",
       "    </tr>\n",
       "    <tr>\n",
       "      <th>3343</th>\n",
       "      <td>LV924</td>\n",
       "      <td>0.036890</td>\n",
       "      <td>0.125694</td>\n",
       "      <td>0.293494</td>\n",
       "      <td>0.769154</td>\n",
       "      <td>0.384577</td>\n",
       "      <td>random.pheno5</td>\n",
       "    </tr>\n",
       "    <tr>\n",
       "      <th>4927</th>\n",
       "      <td>LV924</td>\n",
       "      <td>-0.276493</td>\n",
       "      <td>0.125739</td>\n",
       "      <td>-2.198937</td>\n",
       "      <td>0.027918</td>\n",
       "      <td>0.986041</td>\n",
       "      <td>random.pheno74</td>\n",
       "    </tr>\n",
       "  </tbody>\n",
       "</table>\n",
       "</div>"
      ],
      "text/plain": [
       "         lv      beta   beta_se         t  pvalue_twosided  pvalue_onesided  \\\n",
       "519   LV924 -0.024441  0.125578 -0.194628         0.845690         0.577155   \n",
       "1673  LV924 -0.080250  0.125793 -0.637951         0.523528         0.738236   \n",
       "2507  LV924 -0.013435  0.125659 -0.106917         0.914858         0.542571   \n",
       "3343  LV924  0.036890  0.125694  0.293494         0.769154         0.384577   \n",
       "4927  LV924 -0.276493  0.125739 -2.198937         0.027918         0.986041   \n",
       "\n",
       "            phenotype  \n",
       "519   random.pheno988  \n",
       "1673  random.pheno589  \n",
       "2507  random.pheno385  \n",
       "3343    random.pheno5  \n",
       "4927   random.pheno74  "
      ]
     },
     "execution_count": 101,
     "metadata": {},
     "output_type": "execute_result"
    }
   ],
   "source": [
    "results.head()"
   ]
  },
  {
   "cell_type": "markdown",
   "id": "c76d79cb-07f1-4b79-a912-4efe4059fed6",
   "metadata": {},
   "source": [
    "#### Mean type I errors at different thresholds"
   ]
  },
  {
   "cell_type": "code",
   "execution_count": 102,
   "id": "225ea884-d878-436c-93cc-256c0d5ae901",
   "metadata": {},
   "outputs": [
    {
     "data": {
      "text/plain": [
       "0.009"
      ]
     },
     "execution_count": 102,
     "metadata": {},
     "output_type": "execute_result"
    }
   ],
   "source": [
    "show_prop(results, 0.01)"
   ]
  },
  {
   "cell_type": "code",
   "execution_count": 103,
   "id": "92d1c844-84f9-4015-ab48-73d2f6a767c5",
   "metadata": {},
   "outputs": [
    {
     "data": {
      "text/plain": [
       "0.044"
      ]
     },
     "metadata": {},
     "output_type": "display_data"
    }
   ],
   "source": [
    "_mt1e = show_prop(results, 0.05)\n",
    "display(_mt1e)"
   ]
  },
  {
   "cell_type": "code",
   "execution_count": 104,
   "id": "3151eee1-eb97-4369-8ae4-a10b250de970",
   "metadata": {},
   "outputs": [
    {
     "data": {
      "text/plain": [
       "0.093"
      ]
     },
     "execution_count": 104,
     "metadata": {},
     "output_type": "execute_result"
    }
   ],
   "source": [
    "show_prop(results, 0.10)"
   ]
  },
  {
   "cell_type": "code",
   "execution_count": 105,
   "id": "722f7d9f-9788-4589-814b-bd5c6dcf82bf",
   "metadata": {},
   "outputs": [
    {
     "data": {
      "text/plain": [
       "0.141"
      ]
     },
     "execution_count": 105,
     "metadata": {},
     "output_type": "execute_result"
    }
   ],
   "source": [
    "show_prop(results, 0.15)"
   ]
  },
  {
   "cell_type": "code",
   "execution_count": 106,
   "id": "e69b93c6-d246-4228-97a1-3c5783eb8d3d",
   "metadata": {},
   "outputs": [
    {
     "data": {
      "text/plain": [
       "0.177"
      ]
     },
     "execution_count": 106,
     "metadata": {},
     "output_type": "execute_result"
    }
   ],
   "source": [
    "show_prop(results, 0.20)"
   ]
  },
  {
   "cell_type": "markdown",
   "id": "e3bb9c47-46b1-4626-88c2-0442fdfa2a6a",
   "metadata": {},
   "source": [
    "#### QQplot"
   ]
  },
  {
   "cell_type": "code",
   "execution_count": 107,
   "id": "6c197eac-8928-45b7-8210-064bc1635399",
   "metadata": {},
   "outputs": [
    {
     "data": {
      "image/png": "[encoded data removed]",
      "text/plain": [
       "<Figure size 576x576 with 1 Axes>"
      ]
     },
     "metadata": {},
     "output_type": "display_data"
    }
   ],
   "source": [
    "with sns.plotting_context(\"paper\", font_scale=1.8), mpl.rc_context(\n",
    "    {\"lines.markersize\": 3}\n",
    "):\n",
    "    fig, ax = qqplot(results[PVALUE_COLUMN])\n",
    "    ax.set_title(\n",
    "        f\"GLS model (PhenoPLIER) - {lv_code}\\nMean type I error: {_mt1e:.3f}\\n{results.shape[0]} random phenotypes\"\n",
    "    )"
   ]
  },
  {
   "cell_type": "markdown",
   "id": "bc090578-b4ce-4761-ad41-2578dc65e10e",
   "metadata": {},
   "source": [
    "Hm, well calibrated in general, but with one small pvalue."
   ]
  },
  {
   "cell_type": "markdown",
   "id": "4ccc8640-ea0d-4368-bf76-b919e5d33409",
   "metadata": {},
   "source": [
    "### LV675"
   ]
  },
  {
   "cell_type": "code",
   "execution_count": 108,
   "id": "8a6316a3-dcde-4dcd-a09c-6f38cd47f7e8",
   "metadata": {},
   "outputs": [],
   "source": [
    "lv_code = \"LV675\""
   ]
  },
  {
   "cell_type": "code",
   "execution_count": 109,
   "id": "7ddac650-36ac-4f2f-8a27-95e6c1461647",
   "metadata": {},
   "outputs": [],
   "source": [
    "results = dfs[dfs[\"lv\"] == lv_code]"
   ]
  },
  {
   "cell_type": "code",
   "execution_count": 110,
   "id": "695743ec-cb80-4b3e-9a0d-4d4d594e7ed2",
   "metadata": {},
   "outputs": [
    {
     "data": {
      "text/plain": [
       "(1000, 7)"
      ]
     },
     "execution_count": 110,
     "metadata": {},
     "output_type": "execute_result"
    }
   ],
   "source": [
    "results.shape"
   ]
  },
  {
   "cell_type": "code",
   "execution_count": 111,
   "id": "1622bce0-94e7-45bf-8109-b7f6c9c12e42",
   "metadata": {},
   "outputs": [
    {
     "data": {
      "text/html": [
       "<div>\n",
       "<style scoped>\n",
       "    .dataframe tbody tr th:only-of-type {\n",
       "        vertical-align: middle;\n",
       "    }\n",
       "\n",
       "    .dataframe tbody tr th {\n",
       "        vertical-align: top;\n",
       "    }\n",
       "\n",
       "    .dataframe thead th {\n",
       "        text-align: right;\n",
       "    }\n",
       "</style>\n",
       "<table border=\"1\" class=\"dataframe\">\n",
       "  <thead>\n",
       "    <tr style=\"text-align: right;\">\n",
       "      <th></th>\n",
       "      <th>lv</th>\n",
       "      <th>beta</th>\n",
       "      <th>beta_se</th>\n",
       "      <th>t</th>\n",
       "      <th>pvalue_twosided</th>\n",
       "      <th>pvalue_onesided</th>\n",
       "      <th>phenotype</th>\n",
       "    </tr>\n",
       "  </thead>\n",
       "  <tbody>\n",
       "    <tr>\n",
       "      <th>928</th>\n",
       "      <td>LV675</td>\n",
       "      <td>-0.193104</td>\n",
       "      <td>0.125043</td>\n",
       "      <td>-1.544298</td>\n",
       "      <td>0.122565</td>\n",
       "      <td>0.938717</td>\n",
       "      <td>random.pheno988</td>\n",
       "    </tr>\n",
       "    <tr>\n",
       "      <th>1436</th>\n",
       "      <td>LV675</td>\n",
       "      <td>0.001455</td>\n",
       "      <td>0.125293</td>\n",
       "      <td>0.011611</td>\n",
       "      <td>0.990736</td>\n",
       "      <td>0.495368</td>\n",
       "      <td>random.pheno589</td>\n",
       "    </tr>\n",
       "    <tr>\n",
       "      <th>2171</th>\n",
       "      <td>LV675</td>\n",
       "      <td>0.103375</td>\n",
       "      <td>0.125144</td>\n",
       "      <td>0.826047</td>\n",
       "      <td>0.408808</td>\n",
       "      <td>0.204404</td>\n",
       "      <td>random.pheno385</td>\n",
       "    </tr>\n",
       "    <tr>\n",
       "      <th>3783</th>\n",
       "      <td>LV675</td>\n",
       "      <td>-0.111620</td>\n",
       "      <td>0.125150</td>\n",
       "      <td>-0.891892</td>\n",
       "      <td>0.372484</td>\n",
       "      <td>0.813758</td>\n",
       "      <td>random.pheno5</td>\n",
       "    </tr>\n",
       "    <tr>\n",
       "      <th>4342</th>\n",
       "      <td>LV675</td>\n",
       "      <td>0.020663</td>\n",
       "      <td>0.125272</td>\n",
       "      <td>0.164945</td>\n",
       "      <td>0.868993</td>\n",
       "      <td>0.434496</td>\n",
       "      <td>random.pheno74</td>\n",
       "    </tr>\n",
       "  </tbody>\n",
       "</table>\n",
       "</div>"
      ],
      "text/plain": [
       "         lv      beta   beta_se         t  pvalue_twosided  pvalue_onesided  \\\n",
       "928   LV675 -0.193104  0.125043 -1.544298         0.122565         0.938717   \n",
       "1436  LV675  0.001455  0.125293  0.011611         0.990736         0.495368   \n",
       "2171  LV675  0.103375  0.125144  0.826047         0.408808         0.204404   \n",
       "3783  LV675 -0.111620  0.125150 -0.891892         0.372484         0.813758   \n",
       "4342  LV675  0.020663  0.125272  0.164945         0.868993         0.434496   \n",
       "\n",
       "            phenotype  \n",
       "928   random.pheno988  \n",
       "1436  random.pheno589  \n",
       "2171  random.pheno385  \n",
       "3783    random.pheno5  \n",
       "4342   random.pheno74  "
      ]
     },
     "execution_count": 111,
     "metadata": {},
     "output_type": "execute_result"
    }
   ],
   "source": [
    "results.head()"
   ]
  },
  {
   "cell_type": "markdown",
   "id": "c63fc61a-a088-4bb8-bf67-f2444c4b33e7",
   "metadata": {},
   "source": [
    "#### Mean type I errors at different thresholds"
   ]
  },
  {
   "cell_type": "code",
   "execution_count": 112,
   "id": "112ad1e9-96bc-4ceb-a3c3-fc54101cf80f",
   "metadata": {},
   "outputs": [
    {
     "data": {
      "text/plain": [
       "0.011"
      ]
     },
     "execution_count": 112,
     "metadata": {},
     "output_type": "execute_result"
    }
   ],
   "source": [
    "show_prop(results, 0.01)"
   ]
  },
  {
   "cell_type": "code",
   "execution_count": 113,
   "id": "0b6975ec-97a5-4c81-91a4-ceacc4b7bc45",
   "metadata": {},
   "outputs": [
    {
     "data": {
      "text/plain": [
       "0.05"
      ]
     },
     "metadata": {},
     "output_type": "display_data"
    }
   ],
   "source": [
    "_mt1e = show_prop(results, 0.05)\n",
    "display(_mt1e)"
   ]
  },
  {
   "cell_type": "code",
   "execution_count": 114,
   "id": "30120730-d4d0-454a-97b6-88b7b34e4886",
   "metadata": {},
   "outputs": [
    {
     "data": {
      "text/plain": [
       "0.099"
      ]
     },
     "execution_count": 114,
     "metadata": {},
     "output_type": "execute_result"
    }
   ],
   "source": [
    "show_prop(results, 0.10)"
   ]
  },
  {
   "cell_type": "code",
   "execution_count": 115,
   "id": "9a143836-aeef-4ab5-ba45-fdb5d0bb8116",
   "metadata": {},
   "outputs": [
    {
     "data": {
      "text/plain": [
       "0.144"
      ]
     },
     "execution_count": 115,
     "metadata": {},
     "output_type": "execute_result"
    }
   ],
   "source": [
    "show_prop(results, 0.15)"
   ]
  },
  {
   "cell_type": "code",
   "execution_count": 116,
   "id": "362a1961-1636-4a0e-ab4b-b6f7a84c9eeb",
   "metadata": {},
   "outputs": [
    {
     "data": {
      "text/plain": [
       "0.197"
      ]
     },
     "execution_count": 116,
     "metadata": {},
     "output_type": "execute_result"
    }
   ],
   "source": [
    "show_prop(results, 0.20)"
   ]
  },
  {
   "cell_type": "markdown",
   "id": "073932a2-2306-4c44-8d1c-2ab137014c2d",
   "metadata": {},
   "source": [
    "#### QQplot"
   ]
  },
  {
   "cell_type": "code",
   "execution_count": 117,
   "id": "215b7c53-5e73-4a3a-8311-515cdbebbe6c",
   "metadata": {},
   "outputs": [
    {
     "data": {
      "image/png": "[encoded data removed]",
      "text/plain": [
       "<Figure size 576x576 with 1 Axes>"
      ]
     },
     "metadata": {},
     "output_type": "display_data"
    }
   ],
   "source": [
    "with sns.plotting_context(\"paper\", font_scale=1.8), mpl.rc_context(\n",
    "    {\"lines.markersize\": 3}\n",
    "):\n",
    "    fig, ax = qqplot(results[PVALUE_COLUMN])\n",
    "    ax.set_title(\n",
    "        f\"GLS model (PhenoPLIER) - {lv_code}\\nMean type I error: {_mt1e:.3f}\\n{results.shape[0]} random phenotypes\"\n",
    "    )"
   ]
  },
  {
   "cell_type": "markdown",
   "id": "e126e662-bcca-4b49-8d73-cddd4acf8157",
   "metadata": {},
   "source": [
    "### LV691"
   ]
  },
  {
   "cell_type": "code",
   "execution_count": 118,
   "id": "f1213f21-ce00-42e4-b77c-05f33ba3f079",
   "metadata": {},
   "outputs": [],
   "source": [
    "lv_code = \"LV691\""
   ]
  },
  {
   "cell_type": "code",
   "execution_count": 119,
   "id": "dc5c6871-76d3-48dd-8f11-e892101a4c62",
   "metadata": {},
   "outputs": [],
   "source": [
    "results = dfs[dfs[\"lv\"] == lv_code]"
   ]
  },
  {
   "cell_type": "code",
   "execution_count": 120,
   "id": "317fea64-1720-4be8-93c3-205a18b584b8",
   "metadata": {},
   "outputs": [
    {
     "data": {
      "text/plain": [
       "(1000, 7)"
      ]
     },
     "execution_count": 120,
     "metadata": {},
     "output_type": "execute_result"
    }
   ],
   "source": [
    "results.shape"
   ]
  },
  {
   "cell_type": "code",
   "execution_count": 121,
   "id": "c3dcb91b-cadf-407b-ac57-8c5aa9d333e5",
   "metadata": {},
   "outputs": [
    {
     "data": {
      "text/html": [
       "<div>\n",
       "<style scoped>\n",
       "    .dataframe tbody tr th:only-of-type {\n",
       "        vertical-align: middle;\n",
       "    }\n",
       "\n",
       "    .dataframe tbody tr th {\n",
       "        vertical-align: top;\n",
       "    }\n",
       "\n",
       "    .dataframe thead th {\n",
       "        text-align: right;\n",
       "    }\n",
       "</style>\n",
       "<table border=\"1\" class=\"dataframe\">\n",
       "  <thead>\n",
       "    <tr style=\"text-align: right;\">\n",
       "      <th></th>\n",
       "      <th>lv</th>\n",
       "      <th>beta</th>\n",
       "      <th>beta_se</th>\n",
       "      <th>t</th>\n",
       "      <th>pvalue_twosided</th>\n",
       "      <th>pvalue_onesided</th>\n",
       "      <th>phenotype</th>\n",
       "    </tr>\n",
       "  </thead>\n",
       "  <tbody>\n",
       "    <tr>\n",
       "      <th>95</th>\n",
       "      <td>LV691</td>\n",
       "      <td>0.155260</td>\n",
       "      <td>0.124764</td>\n",
       "      <td>1.244426</td>\n",
       "      <td>0.213388</td>\n",
       "      <td>0.106694</td>\n",
       "      <td>random.pheno988</td>\n",
       "    </tr>\n",
       "    <tr>\n",
       "      <th>1852</th>\n",
       "      <td>LV691</td>\n",
       "      <td>-0.145087</td>\n",
       "      <td>0.124994</td>\n",
       "      <td>-1.160754</td>\n",
       "      <td>0.245785</td>\n",
       "      <td>0.877107</td>\n",
       "      <td>random.pheno589</td>\n",
       "    </tr>\n",
       "    <tr>\n",
       "      <th>2318</th>\n",
       "      <td>LV691</td>\n",
       "      <td>0.040526</td>\n",
       "      <td>0.124863</td>\n",
       "      <td>0.324567</td>\n",
       "      <td>0.745520</td>\n",
       "      <td>0.372760</td>\n",
       "      <td>random.pheno385</td>\n",
       "    </tr>\n",
       "    <tr>\n",
       "      <th>3199</th>\n",
       "      <td>LV691</td>\n",
       "      <td>0.087870</td>\n",
       "      <td>0.124864</td>\n",
       "      <td>0.703722</td>\n",
       "      <td>0.481631</td>\n",
       "      <td>0.240816</td>\n",
       "      <td>random.pheno5</td>\n",
       "    </tr>\n",
       "    <tr>\n",
       "      <th>4123</th>\n",
       "      <td>LV691</td>\n",
       "      <td>0.114576</td>\n",
       "      <td>0.124983</td>\n",
       "      <td>0.916737</td>\n",
       "      <td>0.359315</td>\n",
       "      <td>0.179657</td>\n",
       "      <td>random.pheno74</td>\n",
       "    </tr>\n",
       "  </tbody>\n",
       "</table>\n",
       "</div>"
      ],
      "text/plain": [
       "         lv      beta   beta_se         t  pvalue_twosided  pvalue_onesided  \\\n",
       "95    LV691  0.155260  0.124764  1.244426         0.213388         0.106694   \n",
       "1852  LV691 -0.145087  0.124994 -1.160754         0.245785         0.877107   \n",
       "2318  LV691  0.040526  0.124863  0.324567         0.745520         0.372760   \n",
       "3199  LV691  0.087870  0.124864  0.703722         0.481631         0.240816   \n",
       "4123  LV691  0.114576  0.124983  0.916737         0.359315         0.179657   \n",
       "\n",
       "            phenotype  \n",
       "95    random.pheno988  \n",
       "1852  random.pheno589  \n",
       "2318  random.pheno385  \n",
       "3199    random.pheno5  \n",
       "4123   random.pheno74  "
      ]
     },
     "execution_count": 121,
     "metadata": {},
     "output_type": "execute_result"
    }
   ],
   "source": [
    "results.head()"
   ]
  },
  {
   "cell_type": "markdown",
   "id": "8d8d4df8-5efb-4205-bb82-91b4a71d0862",
   "metadata": {},
   "source": [
    "#### Mean type I errors at different thresholds"
   ]
  },
  {
   "cell_type": "code",
   "execution_count": 122,
   "id": "e8ae4a1c-9b09-4a82-b249-d751c029b59f",
   "metadata": {},
   "outputs": [
    {
     "data": {
      "text/plain": [
       "0.013"
      ]
     },
     "execution_count": 122,
     "metadata": {},
     "output_type": "execute_result"
    }
   ],
   "source": [
    "show_prop(results, 0.01)"
   ]
  },
  {
   "cell_type": "code",
   "execution_count": 123,
   "id": "74c2191b-d80b-459e-8fb0-92e0171f5dce",
   "metadata": {},
   "outputs": [
    {
     "data": {
      "text/plain": [
       "0.048"
      ]
     },
     "metadata": {},
     "output_type": "display_data"
    }
   ],
   "source": [
    "_mt1e = show_prop(results, 0.05)\n",
    "display(_mt1e)"
   ]
  },
  {
   "cell_type": "code",
   "execution_count": 124,
   "id": "78ed20a7-a63b-40c4-b36f-4f19b9e13bfe",
   "metadata": {},
   "outputs": [
    {
     "data": {
      "text/plain": [
       "0.099"
      ]
     },
     "execution_count": 124,
     "metadata": {},
     "output_type": "execute_result"
    }
   ],
   "source": [
    "show_prop(results, 0.10)"
   ]
  },
  {
   "cell_type": "code",
   "execution_count": 125,
   "id": "27b3a253-f5c9-497c-b220-7264a45476e7",
   "metadata": {},
   "outputs": [
    {
     "data": {
      "text/plain": [
       "0.157"
      ]
     },
     "execution_count": 125,
     "metadata": {},
     "output_type": "execute_result"
    }
   ],
   "source": [
    "show_prop(results, 0.15)"
   ]
  },
  {
   "cell_type": "code",
   "execution_count": 126,
   "id": "90505538-770a-48ae-abbc-1cd1ef757c56",
   "metadata": {},
   "outputs": [
    {
     "data": {
      "text/plain": [
       "0.2"
      ]
     },
     "execution_count": 126,
     "metadata": {},
     "output_type": "execute_result"
    }
   ],
   "source": [
    "show_prop(results, 0.20)"
   ]
  },
  {
   "cell_type": "markdown",
   "id": "e87ac89e-9505-402b-bd8d-b603fa6b7499",
   "metadata": {},
   "source": [
    "#### QQplot"
   ]
  },
  {
   "cell_type": "code",
   "execution_count": 127,
   "id": "016773f0-7bda-4f42-b342-9daebe7b39c3",
   "metadata": {},
   "outputs": [
    {
     "data": {
      "image/png": "[encoded data removed]",
      "text/plain": [
       "<Figure size 576x576 with 1 Axes>"
      ]
     },
     "metadata": {},
     "output_type": "display_data"
    }
   ],
   "source": [
    "with sns.plotting_context(\"paper\", font_scale=1.8), mpl.rc_context(\n",
    "    {\"lines.markersize\": 3}\n",
    "):\n",
    "    fig, ax = qqplot(results[PVALUE_COLUMN])\n",
    "    ax.set_title(\n",
    "        f\"GLS model (PhenoPLIER) - {lv_code}\\nMean type I error: {_mt1e:.3f}\\n{results.shape[0]} random phenotypes\"\n",
    "    )"
   ]
  },
  {
   "cell_type": "markdown",
   "id": "60cf60ab-7f95-4ae9-912a-0d3159310aa9",
   "metadata": {},
   "source": [
    "# GLS model - LVs with high mean type I error"
   ]
  },
  {
   "cell_type": "markdown",
   "id": "8387bb1f-4a27-4732-9daa-6f2c49e1874d",
   "metadata": {},
   "source": [
    "## LV914"
   ]
  },
  {
   "cell_type": "code",
   "execution_count": 128,
   "id": "f4f27c4f-950c-46f8-9bc4-ebbd75a22ef1",
   "metadata": {},
   "outputs": [],
   "source": [
    "lv_code = \"LV914\""
   ]
  },
  {
   "cell_type": "code",
   "execution_count": 129,
   "id": "441e3242-00f7-4ed7-9562-e0d3aeb05676",
   "metadata": {},
   "outputs": [],
   "source": [
    "results = dfs[dfs[\"lv\"] == lv_code]"
   ]
  },
  {
   "cell_type": "code",
   "execution_count": 130,
   "id": "30fe8c57-dc24-45f3-96f2-4e1230cb3ffe",
   "metadata": {},
   "outputs": [
    {
     "data": {
      "text/plain": [
       "(1000, 7)"
      ]
     },
     "execution_count": 130,
     "metadata": {},
     "output_type": "execute_result"
    }
   ],
   "source": [
    "results.shape"
   ]
  },
  {
   "cell_type": "code",
   "execution_count": 131,
   "id": "1a6e5ba9-328f-4ba8-9156-1e6009fa3a29",
   "metadata": {},
   "outputs": [
    {
     "data": {
      "text/html": [
       "<div>\n",
       "<style scoped>\n",
       "    .dataframe tbody tr th:only-of-type {\n",
       "        vertical-align: middle;\n",
       "    }\n",
       "\n",
       "    .dataframe tbody tr th {\n",
       "        vertical-align: top;\n",
       "    }\n",
       "\n",
       "    .dataframe thead th {\n",
       "        text-align: right;\n",
       "    }\n",
       "</style>\n",
       "<table border=\"1\" class=\"dataframe\">\n",
       "  <thead>\n",
       "    <tr style=\"text-align: right;\">\n",
       "      <th></th>\n",
       "      <th>lv</th>\n",
       "      <th>beta</th>\n",
       "      <th>beta_se</th>\n",
       "      <th>t</th>\n",
       "      <th>pvalue_twosided</th>\n",
       "      <th>pvalue_onesided</th>\n",
       "      <th>phenotype</th>\n",
       "    </tr>\n",
       "  </thead>\n",
       "  <tbody>\n",
       "    <tr>\n",
       "      <th>73</th>\n",
       "      <td>LV914</td>\n",
       "      <td>0.176873</td>\n",
       "      <td>0.126381</td>\n",
       "      <td>1.399524</td>\n",
       "      <td>0.161704</td>\n",
       "      <td>0.080852</td>\n",
       "      <td>random.pheno988</td>\n",
       "    </tr>\n",
       "    <tr>\n",
       "      <th>1523</th>\n",
       "      <td>LV914</td>\n",
       "      <td>-0.031575</td>\n",
       "      <td>0.126573</td>\n",
       "      <td>-0.249464</td>\n",
       "      <td>0.803010</td>\n",
       "      <td>0.598495</td>\n",
       "      <td>random.pheno589</td>\n",
       "    </tr>\n",
       "    <tr>\n",
       "      <th>2781</th>\n",
       "      <td>LV914</td>\n",
       "      <td>-0.114039</td>\n",
       "      <td>0.126520</td>\n",
       "      <td>-0.901347</td>\n",
       "      <td>0.367438</td>\n",
       "      <td>0.816281</td>\n",
       "      <td>random.pheno385</td>\n",
       "    </tr>\n",
       "    <tr>\n",
       "      <th>3403</th>\n",
       "      <td>LV914</td>\n",
       "      <td>0.015361</td>\n",
       "      <td>0.126448</td>\n",
       "      <td>0.121479</td>\n",
       "      <td>0.903316</td>\n",
       "      <td>0.451658</td>\n",
       "      <td>random.pheno5</td>\n",
       "    </tr>\n",
       "    <tr>\n",
       "      <th>4535</th>\n",
       "      <td>LV914</td>\n",
       "      <td>-0.039077</td>\n",
       "      <td>0.126561</td>\n",
       "      <td>-0.308758</td>\n",
       "      <td>0.757516</td>\n",
       "      <td>0.621242</td>\n",
       "      <td>random.pheno74</td>\n",
       "    </tr>\n",
       "  </tbody>\n",
       "</table>\n",
       "</div>"
      ],
      "text/plain": [
       "         lv      beta   beta_se         t  pvalue_twosided  pvalue_onesided  \\\n",
       "73    LV914  0.176873  0.126381  1.399524         0.161704         0.080852   \n",
       "1523  LV914 -0.031575  0.126573 -0.249464         0.803010         0.598495   \n",
       "2781  LV914 -0.114039  0.126520 -0.901347         0.367438         0.816281   \n",
       "3403  LV914  0.015361  0.126448  0.121479         0.903316         0.451658   \n",
       "4535  LV914 -0.039077  0.126561 -0.308758         0.757516         0.621242   \n",
       "\n",
       "            phenotype  \n",
       "73    random.pheno988  \n",
       "1523  random.pheno589  \n",
       "2781  random.pheno385  \n",
       "3403    random.pheno5  \n",
       "4535   random.pheno74  "
      ]
     },
     "execution_count": 131,
     "metadata": {},
     "output_type": "execute_result"
    }
   ],
   "source": [
    "results.head()"
   ]
  },
  {
   "cell_type": "markdown",
   "id": "45db3f2e-017a-4549-ac43-12c433c9be29",
   "metadata": {},
   "source": [
    "### Mean type I errors at different thresholds"
   ]
  },
  {
   "cell_type": "code",
   "execution_count": 132,
   "id": "d510a853-f4f4-42f4-bd81-19ffb64f1af2",
   "metadata": {},
   "outputs": [
    {
     "data": {
      "text/plain": [
       "0.035"
      ]
     },
     "execution_count": 132,
     "metadata": {},
     "output_type": "execute_result"
    }
   ],
   "source": [
    "show_prop(results, 0.01)"
   ]
  },
  {
   "cell_type": "code",
   "execution_count": 133,
   "id": "7d15c21b-7b9f-4911-81ef-a928d1c5fc9a",
   "metadata": {},
   "outputs": [
    {
     "data": {
      "text/plain": [
       "0.111"
      ]
     },
     "metadata": {},
     "output_type": "display_data"
    }
   ],
   "source": [
    "_mt1e = show_prop(results, 0.05)\n",
    "display(_mt1e)"
   ]
  },
  {
   "cell_type": "code",
   "execution_count": 134,
   "id": "93812073-0e89-4955-b560-6127b429f78b",
   "metadata": {},
   "outputs": [
    {
     "data": {
      "text/plain": [
       "0.176"
      ]
     },
     "execution_count": 134,
     "metadata": {},
     "output_type": "execute_result"
    }
   ],
   "source": [
    "show_prop(results, 0.10)"
   ]
  },
  {
   "cell_type": "code",
   "execution_count": 135,
   "id": "dc576a58-f93d-4f0a-914b-c99c6f3f1467",
   "metadata": {},
   "outputs": [
    {
     "data": {
      "text/plain": [
       "0.236"
      ]
     },
     "execution_count": 135,
     "metadata": {},
     "output_type": "execute_result"
    }
   ],
   "source": [
    "show_prop(results, 0.15)"
   ]
  },
  {
   "cell_type": "code",
   "execution_count": 136,
   "id": "ac4366df-03d2-4e97-a8f1-f2a59acd2394",
   "metadata": {},
   "outputs": [
    {
     "data": {
      "text/plain": [
       "0.298"
      ]
     },
     "execution_count": 136,
     "metadata": {},
     "output_type": "execute_result"
    }
   ],
   "source": [
    "show_prop(results, 0.20)"
   ]
  },
  {
   "cell_type": "markdown",
   "id": "66c4cd42-8f9f-4f02-b3e1-365ffaafeb5f",
   "metadata": {},
   "source": [
    "### QQplot"
   ]
  },
  {
   "cell_type": "code",
   "execution_count": 137,
   "id": "74bf806e-e314-4fd5-83ba-44f69c7a9cb2",
   "metadata": {},
   "outputs": [
    {
     "data": {
      "image/png": "[encoded data removed]",
      "text/plain": [
       "<Figure size 576x576 with 1 Axes>"
      ]
     },
     "metadata": {},
     "output_type": "display_data"
    }
   ],
   "source": [
    "with sns.plotting_context(\"paper\", font_scale=1.8), mpl.rc_context(\n",
    "    {\"lines.markersize\": 3}\n",
    "):\n",
    "    fig, ax = qqplot(results[PVALUE_COLUMN])\n",
    "    ax.set_title(\n",
    "        f\"GLS model (PhenoPLIER) - {lv_code}\\nMean type I error: {_mt1e:.3f}\\n{results.shape[0]} random phenotypes\"\n",
    "    )"
   ]
  },
  {
   "cell_type": "markdown",
   "id": "91a5f97f-8cf9-420d-87d9-b33614c958d3",
   "metadata": {},
   "source": [
    "### Top genes in LV"
   ]
  },
  {
   "cell_type": "code",
   "execution_count": 138,
   "id": "47695547-3c16-4570-b980-cfc125423912",
   "metadata": {},
   "outputs": [
    {
     "data": {
      "text/html": [
       "<div>\n",
       "<style scoped>\n",
       "    .dataframe tbody tr th:only-of-type {\n",
       "        vertical-align: middle;\n",
       "    }\n",
       "\n",
       "    .dataframe tbody tr th {\n",
       "        vertical-align: top;\n",
       "    }\n",
       "\n",
       "    .dataframe thead th {\n",
       "        text-align: right;\n",
       "    }\n",
       "</style>\n",
       "<table border=\"1\" class=\"dataframe\">\n",
       "  <thead>\n",
       "    <tr style=\"text-align: right;\">\n",
       "      <th></th>\n",
       "      <th>LV914</th>\n",
       "      <th>gene_band</th>\n",
       "    </tr>\n",
       "  </thead>\n",
       "  <tbody>\n",
       "    <tr>\n",
       "      <th>IL23A</th>\n",
       "      <td>6.258103</td>\n",
       "      <td>12q13.3</td>\n",
       "    </tr>\n",
       "    <tr>\n",
       "      <th>AKT2</th>\n",
       "      <td>5.248118</td>\n",
       "      <td>19q13.2</td>\n",
       "    </tr>\n",
       "    <tr>\n",
       "      <th>HOXA5</th>\n",
       "      <td>2.588375</td>\n",
       "      <td>7p15.2</td>\n",
       "    </tr>\n",
       "    <tr>\n",
       "      <th>LAMA2</th>\n",
       "      <td>2.255515</td>\n",
       "      <td>6q22.33</td>\n",
       "    </tr>\n",
       "    <tr>\n",
       "      <th>RNF8</th>\n",
       "      <td>1.722023</td>\n",
       "      <td>6p21.2</td>\n",
       "    </tr>\n",
       "    <tr>\n",
       "      <th>PAPOLG</th>\n",
       "      <td>1.398173</td>\n",
       "      <td>2p16.1</td>\n",
       "    </tr>\n",
       "    <tr>\n",
       "      <th>MBD4</th>\n",
       "      <td>1.376868</td>\n",
       "      <td>3q21.3</td>\n",
       "    </tr>\n",
       "    <tr>\n",
       "      <th>TBK1</th>\n",
       "      <td>1.328314</td>\n",
       "      <td>12q14.2</td>\n",
       "    </tr>\n",
       "    <tr>\n",
       "      <th>CBLB</th>\n",
       "      <td>1.305683</td>\n",
       "      <td>3q13.11</td>\n",
       "    </tr>\n",
       "    <tr>\n",
       "      <th>DOK1</th>\n",
       "      <td>1.219439</td>\n",
       "      <td>2p13.1</td>\n",
       "    </tr>\n",
       "    <tr>\n",
       "      <th>GRAP</th>\n",
       "      <td>1.195635</td>\n",
       "      <td>17p11.2</td>\n",
       "    </tr>\n",
       "    <tr>\n",
       "      <th>TPP2</th>\n",
       "      <td>1.141444</td>\n",
       "      <td>13q33.1</td>\n",
       "    </tr>\n",
       "    <tr>\n",
       "      <th>GMPPA</th>\n",
       "      <td>1.088283</td>\n",
       "      <td>2q35</td>\n",
       "    </tr>\n",
       "    <tr>\n",
       "      <th>TP53INP1</th>\n",
       "      <td>1.080143</td>\n",
       "      <td>8q22.1</td>\n",
       "    </tr>\n",
       "    <tr>\n",
       "      <th>ALG5</th>\n",
       "      <td>1.041571</td>\n",
       "      <td>13q13.3</td>\n",
       "    </tr>\n",
       "    <tr>\n",
       "      <th>TNFSF14</th>\n",
       "      <td>1.011087</td>\n",
       "      <td>19p13.3</td>\n",
       "    </tr>\n",
       "    <tr>\n",
       "      <th>POLB</th>\n",
       "      <td>0.979998</td>\n",
       "      <td>8p11.21</td>\n",
       "    </tr>\n",
       "    <tr>\n",
       "      <th>ERCC2</th>\n",
       "      <td>0.961572</td>\n",
       "      <td>19q13.32</td>\n",
       "    </tr>\n",
       "    <tr>\n",
       "      <th>IL23R</th>\n",
       "      <td>0.946890</td>\n",
       "      <td>1p31.3</td>\n",
       "    </tr>\n",
       "    <tr>\n",
       "      <th>SEPT1</th>\n",
       "      <td>0.894338</td>\n",
       "      <td>16p11.2</td>\n",
       "    </tr>\n",
       "    <tr>\n",
       "      <th>NR2C1</th>\n",
       "      <td>0.880502</td>\n",
       "      <td>12q22</td>\n",
       "    </tr>\n",
       "    <tr>\n",
       "      <th>BTRC</th>\n",
       "      <td>0.803060</td>\n",
       "      <td>10q24.32</td>\n",
       "    </tr>\n",
       "    <tr>\n",
       "      <th>ASB8</th>\n",
       "      <td>0.776126</td>\n",
       "      <td>12q13.11</td>\n",
       "    </tr>\n",
       "    <tr>\n",
       "      <th>RNF144B</th>\n",
       "      <td>0.769304</td>\n",
       "      <td>6p22.3</td>\n",
       "    </tr>\n",
       "    <tr>\n",
       "      <th>BCKDHA</th>\n",
       "      <td>0.730291</td>\n",
       "      <td>19q13.2</td>\n",
       "    </tr>\n",
       "  </tbody>\n",
       "</table>\n",
       "</div>"
      ],
      "text/plain": [
       "             LV914 gene_band\n",
       "IL23A     6.258103   12q13.3\n",
       "AKT2      5.248118   19q13.2\n",
       "HOXA5     2.588375    7p15.2\n",
       "LAMA2     2.255515   6q22.33\n",
       "RNF8      1.722023    6p21.2\n",
       "PAPOLG    1.398173    2p16.1\n",
       "MBD4      1.376868    3q21.3\n",
       "TBK1      1.328314   12q14.2\n",
       "CBLB      1.305683   3q13.11\n",
       "DOK1      1.219439    2p13.1\n",
       "GRAP      1.195635   17p11.2\n",
       "TPP2      1.141444   13q33.1\n",
       "GMPPA     1.088283      2q35\n",
       "TP53INP1  1.080143    8q22.1\n",
       "ALG5      1.041571   13q13.3\n",
       "TNFSF14   1.011087   19p13.3\n",
       "POLB      0.979998   8p11.21\n",
       "ERCC2     0.961572  19q13.32\n",
       "IL23R     0.946890    1p31.3\n",
       "SEPT1     0.894338   16p11.2\n",
       "NR2C1     0.880502     12q22\n",
       "BTRC      0.803060  10q24.32\n",
       "ASB8      0.776126  12q13.11\n",
       "RNF144B   0.769304    6p22.3\n",
       "BCKDHA    0.730291   19q13.2"
      ]
     },
     "metadata": {},
     "output_type": "display_data"
    }
   ],
   "source": [
    "lv_genes = get_lv_genes(lv_code)\n",
    "display(lv_genes.head(25))"
   ]
  },
  {
   "cell_type": "code",
   "execution_count": 139,
   "id": "0d861731-514a-42da-9eff-cd59f8dcf0aa",
   "metadata": {},
   "outputs": [
    {
     "data": {
      "text/plain": [
       "13q13.3     2\n",
       "7p15.2      2\n",
       "19q13.2     2\n",
       "3q25.33     1\n",
       "2q35        1\n",
       "19q13.33    1\n",
       "12q13.11    1\n",
       "19q13.32    1\n",
       "6p22.3      1\n",
       "8q13.3      1\n",
       "Name: gene_band, dtype: int64"
      ]
     },
     "execution_count": 139,
     "metadata": {},
     "output_type": "execute_result"
    }
   ],
   "source": [
    "# see bands of top genes\n",
    "lv_genes.head(68)[\"gene_band\"].value_counts().head(10)"
   ]
  },
  {
   "cell_type": "markdown",
   "id": "db09b38d-48be-4eab-88b6-b546b4ca2f14",
   "metadata": {},
   "source": [
    "## LV816"
   ]
  },
  {
   "cell_type": "code",
   "execution_count": 140,
   "id": "e398c786-54fb-46b9-8051-9a98a8d1651c",
   "metadata": {},
   "outputs": [],
   "source": [
    "lv_code = \"LV816\""
   ]
  },
  {
   "cell_type": "code",
   "execution_count": 141,
   "id": "ebf5a610-a540-49eb-a5a0-8627a86a1729",
   "metadata": {},
   "outputs": [],
   "source": [
    "results = dfs[dfs[\"lv\"] == lv_code]"
   ]
  },
  {
   "cell_type": "code",
   "execution_count": 142,
   "id": "02397f46-5c1e-4a37-ba58-7363dc96ccb4",
   "metadata": {},
   "outputs": [
    {
     "data": {
      "text/plain": [
       "(1000, 7)"
      ]
     },
     "execution_count": 142,
     "metadata": {},
     "output_type": "execute_result"
    }
   ],
   "source": [
    "results.shape"
   ]
  },
  {
   "cell_type": "code",
   "execution_count": 143,
   "id": "05e861e1-de19-48c8-94b6-40517f96a65c",
   "metadata": {},
   "outputs": [
    {
     "data": {
      "text/html": [
       "<div>\n",
       "<style scoped>\n",
       "    .dataframe tbody tr th:only-of-type {\n",
       "        vertical-align: middle;\n",
       "    }\n",
       "\n",
       "    .dataframe tbody tr th {\n",
       "        vertical-align: top;\n",
       "    }\n",
       "\n",
       "    .dataframe thead th {\n",
       "        text-align: right;\n",
       "    }\n",
       "</style>\n",
       "<table border=\"1\" class=\"dataframe\">\n",
       "  <thead>\n",
       "    <tr style=\"text-align: right;\">\n",
       "      <th></th>\n",
       "      <th>lv</th>\n",
       "      <th>beta</th>\n",
       "      <th>beta_se</th>\n",
       "      <th>t</th>\n",
       "      <th>pvalue_twosided</th>\n",
       "      <th>pvalue_onesided</th>\n",
       "      <th>phenotype</th>\n",
       "    </tr>\n",
       "  </thead>\n",
       "  <tbody>\n",
       "    <tr>\n",
       "      <th>4</th>\n",
       "      <td>LV816</td>\n",
       "      <td>0.322661</td>\n",
       "      <td>0.124720</td>\n",
       "      <td>2.587093</td>\n",
       "      <td>0.009701</td>\n",
       "      <td>0.004850</td>\n",
       "      <td>random.pheno988</td>\n",
       "    </tr>\n",
       "    <tr>\n",
       "      <th>1176</th>\n",
       "      <td>LV816</td>\n",
       "      <td>0.100374</td>\n",
       "      <td>0.125006</td>\n",
       "      <td>0.802954</td>\n",
       "      <td>0.422031</td>\n",
       "      <td>0.211016</td>\n",
       "      <td>random.pheno589</td>\n",
       "    </tr>\n",
       "    <tr>\n",
       "      <th>2703</th>\n",
       "      <td>LV816</td>\n",
       "      <td>-0.080575</td>\n",
       "      <td>0.124865</td>\n",
       "      <td>-0.645293</td>\n",
       "      <td>0.518760</td>\n",
       "      <td>0.740620</td>\n",
       "      <td>random.pheno385</td>\n",
       "    </tr>\n",
       "    <tr>\n",
       "      <th>3601</th>\n",
       "      <td>LV816</td>\n",
       "      <td>-0.046919</td>\n",
       "      <td>0.124873</td>\n",
       "      <td>-0.375733</td>\n",
       "      <td>0.707128</td>\n",
       "      <td>0.646436</td>\n",
       "      <td>random.pheno5</td>\n",
       "    </tr>\n",
       "    <tr>\n",
       "      <th>3997</th>\n",
       "      <td>LV816</td>\n",
       "      <td>0.203803</td>\n",
       "      <td>0.124971</td>\n",
       "      <td>1.630805</td>\n",
       "      <td>0.102980</td>\n",
       "      <td>0.051490</td>\n",
       "      <td>random.pheno74</td>\n",
       "    </tr>\n",
       "  </tbody>\n",
       "</table>\n",
       "</div>"
      ],
      "text/plain": [
       "         lv      beta   beta_se         t  pvalue_twosided  pvalue_onesided  \\\n",
       "4     LV816  0.322661  0.124720  2.587093         0.009701         0.004850   \n",
       "1176  LV816  0.100374  0.125006  0.802954         0.422031         0.211016   \n",
       "2703  LV816 -0.080575  0.124865 -0.645293         0.518760         0.740620   \n",
       "3601  LV816 -0.046919  0.124873 -0.375733         0.707128         0.646436   \n",
       "3997  LV816  0.203803  0.124971  1.630805         0.102980         0.051490   \n",
       "\n",
       "            phenotype  \n",
       "4     random.pheno988  \n",
       "1176  random.pheno589  \n",
       "2703  random.pheno385  \n",
       "3601    random.pheno5  \n",
       "3997   random.pheno74  "
      ]
     },
     "execution_count": 143,
     "metadata": {},
     "output_type": "execute_result"
    }
   ],
   "source": [
    "results.head()"
   ]
  },
  {
   "cell_type": "markdown",
   "id": "0edda788-bc6a-48c2-8cbf-b3b72b132f1e",
   "metadata": {},
   "source": [
    "### Mean type I errors at different thresholds"
   ]
  },
  {
   "cell_type": "code",
   "execution_count": 144,
   "id": "99f27d76-10b6-43d9-adaa-ff3971747800",
   "metadata": {},
   "outputs": [
    {
     "data": {
      "text/plain": [
       "0.033"
      ]
     },
     "execution_count": 144,
     "metadata": {},
     "output_type": "execute_result"
    }
   ],
   "source": [
    "show_prop(results, 0.01)"
   ]
  },
  {
   "cell_type": "code",
   "execution_count": 145,
   "id": "04816147-c626-4990-a810-18ab6a97eced",
   "metadata": {},
   "outputs": [
    {
     "data": {
      "text/plain": [
       "0.103"
      ]
     },
     "metadata": {},
     "output_type": "display_data"
    }
   ],
   "source": [
    "_mt1e = show_prop(results, 0.05)\n",
    "display(_mt1e)"
   ]
  },
  {
   "cell_type": "code",
   "execution_count": 146,
   "id": "f2d3176b-fe9a-4de6-9c1e-dddf71a4ae18",
   "metadata": {},
   "outputs": [
    {
     "data": {
      "text/plain": [
       "0.155"
      ]
     },
     "execution_count": 146,
     "metadata": {},
     "output_type": "execute_result"
    }
   ],
   "source": [
    "show_prop(results, 0.10)"
   ]
  },
  {
   "cell_type": "code",
   "execution_count": 147,
   "id": "9834fc09-6d6b-451c-8c88-eaff5104cd7c",
   "metadata": {},
   "outputs": [
    {
     "data": {
      "text/plain": [
       "0.222"
      ]
     },
     "execution_count": 147,
     "metadata": {},
     "output_type": "execute_result"
    }
   ],
   "source": [
    "show_prop(results, 0.15)"
   ]
  },
  {
   "cell_type": "code",
   "execution_count": 148,
   "id": "bdef1a93-99fe-487c-8d57-69d0833a3875",
   "metadata": {},
   "outputs": [
    {
     "data": {
      "text/plain": [
       "0.266"
      ]
     },
     "execution_count": 148,
     "metadata": {},
     "output_type": "execute_result"
    }
   ],
   "source": [
    "show_prop(results, 0.20)"
   ]
  },
  {
   "cell_type": "markdown",
   "id": "b3b08b6d-02d6-4d4f-9e25-f2d8bd65e0da",
   "metadata": {},
   "source": [
    "### QQplot"
   ]
  },
  {
   "cell_type": "code",
   "execution_count": 149,
   "id": "7f4df7bd-99aa-442b-8d24-6be6c8a7d8a1",
   "metadata": {},
   "outputs": [
    {
     "data": {
      "image/png": "[encoded data removed]",
      "text/plain": [
       "<Figure size 576x576 with 1 Axes>"
      ]
     },
     "metadata": {},
     "output_type": "display_data"
    }
   ],
   "source": [
    "with sns.plotting_context(\"paper\", font_scale=1.8), mpl.rc_context(\n",
    "    {\"lines.markersize\": 3}\n",
    "):\n",
    "    fig, ax = qqplot(results[PVALUE_COLUMN])\n",
    "    ax.set_title(\n",
    "        f\"GLS model (PhenoPLIER) - {lv_code}\\nMean type I error: {_mt1e:.3f}\\n{results.shape[0]} random phenotypes\"\n",
    "    )"
   ]
  },
  {
   "cell_type": "markdown",
   "id": "3b546f72-9806-4969-9ecb-971c35bb6499",
   "metadata": {},
   "source": [
    "### Top genes in LV"
   ]
  },
  {
   "cell_type": "code",
   "execution_count": 150,
   "id": "e2fa5a5a-5cba-4f0e-8e0c-106412ea3733",
   "metadata": {},
   "outputs": [
    {
     "data": {
      "text/html": [
       "<div>\n",
       "<style scoped>\n",
       "    .dataframe tbody tr th:only-of-type {\n",
       "        vertical-align: middle;\n",
       "    }\n",
       "\n",
       "    .dataframe tbody tr th {\n",
       "        vertical-align: top;\n",
       "    }\n",
       "\n",
       "    .dataframe thead th {\n",
       "        text-align: right;\n",
       "    }\n",
       "</style>\n",
       "<table border=\"1\" class=\"dataframe\">\n",
       "  <thead>\n",
       "    <tr style=\"text-align: right;\">\n",
       "      <th></th>\n",
       "      <th>LV816</th>\n",
       "      <th>gene_band</th>\n",
       "    </tr>\n",
       "  </thead>\n",
       "  <tbody>\n",
       "    <tr>\n",
       "      <th>ATP1B2</th>\n",
       "      <td>5.753339</td>\n",
       "      <td>17p13.1</td>\n",
       "    </tr>\n",
       "    <tr>\n",
       "      <th>PON2</th>\n",
       "      <td>4.335049</td>\n",
       "      <td>7q21.3</td>\n",
       "    </tr>\n",
       "    <tr>\n",
       "      <th>ALDOC</th>\n",
       "      <td>4.301768</td>\n",
       "      <td>17q11.2</td>\n",
       "    </tr>\n",
       "    <tr>\n",
       "      <th>GLUD1</th>\n",
       "      <td>3.721127</td>\n",
       "      <td>10q23.2</td>\n",
       "    </tr>\n",
       "    <tr>\n",
       "      <th>GJB6</th>\n",
       "      <td>3.628673</td>\n",
       "      <td>13q12.11</td>\n",
       "    </tr>\n",
       "    <tr>\n",
       "      <th>CLDN10</th>\n",
       "      <td>3.373320</td>\n",
       "      <td>13q32.1</td>\n",
       "    </tr>\n",
       "    <tr>\n",
       "      <th>SLC15A2</th>\n",
       "      <td>3.123544</td>\n",
       "      <td>3q13.33</td>\n",
       "    </tr>\n",
       "    <tr>\n",
       "      <th>GLUL</th>\n",
       "      <td>3.063349</td>\n",
       "      <td>1q25.3</td>\n",
       "    </tr>\n",
       "    <tr>\n",
       "      <th>SLC4A4</th>\n",
       "      <td>3.023711</td>\n",
       "      <td>4q13.3</td>\n",
       "    </tr>\n",
       "    <tr>\n",
       "      <th>SLC48A1</th>\n",
       "      <td>2.848704</td>\n",
       "      <td>12q13.11</td>\n",
       "    </tr>\n",
       "    <tr>\n",
       "      <th>CACNB2</th>\n",
       "      <td>2.644860</td>\n",
       "      <td>10p12.33</td>\n",
       "    </tr>\n",
       "    <tr>\n",
       "      <th>TPD52L1</th>\n",
       "      <td>2.606357</td>\n",
       "      <td>6q22.31</td>\n",
       "    </tr>\n",
       "    <tr>\n",
       "      <th>OMG</th>\n",
       "      <td>2.542227</td>\n",
       "      <td>17q11.2</td>\n",
       "    </tr>\n",
       "    <tr>\n",
       "      <th>MERTK</th>\n",
       "      <td>2.479026</td>\n",
       "      <td>2q13</td>\n",
       "    </tr>\n",
       "    <tr>\n",
       "      <th>DTNA</th>\n",
       "      <td>2.428400</td>\n",
       "      <td>18q12.1</td>\n",
       "    </tr>\n",
       "    <tr>\n",
       "      <th>GPM6A</th>\n",
       "      <td>2.407777</td>\n",
       "      <td>4q34.2</td>\n",
       "    </tr>\n",
       "    <tr>\n",
       "      <th>DST</th>\n",
       "      <td>2.366283</td>\n",
       "      <td>6p12.1</td>\n",
       "    </tr>\n",
       "    <tr>\n",
       "      <th>AHCYL1</th>\n",
       "      <td>2.205494</td>\n",
       "      <td>1p13.3</td>\n",
       "    </tr>\n",
       "    <tr>\n",
       "      <th>ADHFE1</th>\n",
       "      <td>2.166393</td>\n",
       "      <td>8q13.1</td>\n",
       "    </tr>\n",
       "    <tr>\n",
       "      <th>ADRB1</th>\n",
       "      <td>2.126957</td>\n",
       "      <td>10q25.3</td>\n",
       "    </tr>\n",
       "    <tr>\n",
       "      <th>KCNJ10</th>\n",
       "      <td>2.083411</td>\n",
       "      <td>1q23.2</td>\n",
       "    </tr>\n",
       "    <tr>\n",
       "      <th>ADORA2B</th>\n",
       "      <td>2.026548</td>\n",
       "      <td>17p12</td>\n",
       "    </tr>\n",
       "    <tr>\n",
       "      <th>SLC1A4</th>\n",
       "      <td>2.006970</td>\n",
       "      <td>2p14</td>\n",
       "    </tr>\n",
       "    <tr>\n",
       "      <th>KCNN3</th>\n",
       "      <td>2.003650</td>\n",
       "      <td>1q21.3</td>\n",
       "    </tr>\n",
       "    <tr>\n",
       "      <th>TNIK</th>\n",
       "      <td>1.993338</td>\n",
       "      <td>3q26.31</td>\n",
       "    </tr>\n",
       "  </tbody>\n",
       "</table>\n",
       "</div>"
      ],
      "text/plain": [
       "            LV816 gene_band\n",
       "ATP1B2   5.753339   17p13.1\n",
       "PON2     4.335049    7q21.3\n",
       "ALDOC    4.301768   17q11.2\n",
       "GLUD1    3.721127   10q23.2\n",
       "GJB6     3.628673  13q12.11\n",
       "CLDN10   3.373320   13q32.1\n",
       "SLC15A2  3.123544   3q13.33\n",
       "GLUL     3.063349    1q25.3\n",
       "SLC4A4   3.023711    4q13.3\n",
       "SLC48A1  2.848704  12q13.11\n",
       "CACNB2   2.644860  10p12.33\n",
       "TPD52L1  2.606357   6q22.31\n",
       "OMG      2.542227   17q11.2\n",
       "MERTK    2.479026      2q13\n",
       "DTNA     2.428400   18q12.1\n",
       "GPM6A    2.407777    4q34.2\n",
       "DST      2.366283    6p12.1\n",
       "AHCYL1   2.205494    1p13.3\n",
       "ADHFE1   2.166393    8q13.1\n",
       "ADRB1    2.126957   10q25.3\n",
       "KCNJ10   2.083411    1q23.2\n",
       "ADORA2B  2.026548     17p12\n",
       "SLC1A4   2.006970      2p14\n",
       "KCNN3    2.003650    1q21.3\n",
       "TNIK     1.993338   3q26.31"
      ]
     },
     "metadata": {},
     "output_type": "display_data"
    }
   ],
   "source": [
    "lv_genes = get_lv_genes(lv_code)\n",
    "display(lv_genes.head(25))"
   ]
  },
  {
   "cell_type": "code",
   "execution_count": 151,
   "id": "fc82aa0a-295a-4480-95f4-5f11075881a1",
   "metadata": {},
   "outputs": [
    {
     "data": {
      "text/plain": [
       "17q11.2     2\n",
       "17p13.1     2\n",
       "14q24.3     1\n",
       "11p15.4     1\n",
       "17p12       1\n",
       "11p15.1     1\n",
       "5q31.2      1\n",
       "14q32.33    1\n",
       "19q13.33    1\n",
       "8q13.1      1\n",
       "Name: gene_band, dtype: int64"
      ]
     },
     "execution_count": 151,
     "metadata": {},
     "output_type": "execute_result"
    }
   ],
   "source": [
    "# see bands of top genes\n",
    "lv_genes.head(68)[\"gene_band\"].value_counts().head(10)"
   ]
  },
  {
   "cell_type": "markdown",
   "id": "a563e097-0cd4-437f-9cce-85a0e6fe79f1",
   "metadata": {},
   "source": [
    "## LV588"
   ]
  },
  {
   "cell_type": "code",
   "execution_count": 152,
   "id": "8ba2409e-ca7b-443c-82cf-86a86d3561d7",
   "metadata": {},
   "outputs": [],
   "source": [
    "lv_code = \"LV588\""
   ]
  },
  {
   "cell_type": "code",
   "execution_count": 153,
   "id": "22de95be-48f6-4a04-a555-f96c73a2799a",
   "metadata": {},
   "outputs": [],
   "source": [
    "results = dfs[dfs[\"lv\"] == lv_code]"
   ]
  },
  {
   "cell_type": "code",
   "execution_count": 154,
   "id": "fe09f33b-3ee0-4bcb-a409-15217a7fa34a",
   "metadata": {},
   "outputs": [
    {
     "data": {
      "text/plain": [
       "(1000, 7)"
      ]
     },
     "execution_count": 154,
     "metadata": {},
     "output_type": "execute_result"
    }
   ],
   "source": [
    "results.shape"
   ]
  },
  {
   "cell_type": "code",
   "execution_count": 155,
   "id": "9ef2e49a-c18c-4686-91fe-d4822b0416b0",
   "metadata": {},
   "outputs": [
    {
     "data": {
      "text/html": [
       "<div>\n",
       "<style scoped>\n",
       "    .dataframe tbody tr th:only-of-type {\n",
       "        vertical-align: middle;\n",
       "    }\n",
       "\n",
       "    .dataframe tbody tr th {\n",
       "        vertical-align: top;\n",
       "    }\n",
       "\n",
       "    .dataframe thead th {\n",
       "        text-align: right;\n",
       "    }\n",
       "</style>\n",
       "<table border=\"1\" class=\"dataframe\">\n",
       "  <thead>\n",
       "    <tr style=\"text-align: right;\">\n",
       "      <th></th>\n",
       "      <th>lv</th>\n",
       "      <th>beta</th>\n",
       "      <th>beta_se</th>\n",
       "      <th>t</th>\n",
       "      <th>pvalue_twosided</th>\n",
       "      <th>pvalue_onesided</th>\n",
       "      <th>phenotype</th>\n",
       "    </tr>\n",
       "  </thead>\n",
       "  <tbody>\n",
       "    <tr>\n",
       "      <th>881</th>\n",
       "      <td>LV588</td>\n",
       "      <td>-0.157796</td>\n",
       "      <td>0.124794</td>\n",
       "      <td>-1.264446</td>\n",
       "      <td>0.206116</td>\n",
       "      <td>0.896942</td>\n",
       "      <td>random.pheno988</td>\n",
       "    </tr>\n",
       "    <tr>\n",
       "      <th>1057</th>\n",
       "      <td>LV588</td>\n",
       "      <td>0.180823</td>\n",
       "      <td>0.125016</td>\n",
       "      <td>1.446396</td>\n",
       "      <td>0.148115</td>\n",
       "      <td>0.074057</td>\n",
       "      <td>random.pheno589</td>\n",
       "    </tr>\n",
       "    <tr>\n",
       "      <th>2372</th>\n",
       "      <td>LV588</td>\n",
       "      <td>0.026020</td>\n",
       "      <td>0.124894</td>\n",
       "      <td>0.208334</td>\n",
       "      <td>0.834975</td>\n",
       "      <td>0.417487</td>\n",
       "      <td>random.pheno385</td>\n",
       "    </tr>\n",
       "    <tr>\n",
       "      <th>3926</th>\n",
       "      <td>LV588</td>\n",
       "      <td>-0.228049</td>\n",
       "      <td>0.124867</td>\n",
       "      <td>-1.826342</td>\n",
       "      <td>0.067845</td>\n",
       "      <td>0.966077</td>\n",
       "      <td>random.pheno5</td>\n",
       "    </tr>\n",
       "    <tr>\n",
       "      <th>4184</th>\n",
       "      <td>LV588</td>\n",
       "      <td>0.081962</td>\n",
       "      <td>0.125018</td>\n",
       "      <td>0.655603</td>\n",
       "      <td>0.512103</td>\n",
       "      <td>0.256051</td>\n",
       "      <td>random.pheno74</td>\n",
       "    </tr>\n",
       "  </tbody>\n",
       "</table>\n",
       "</div>"
      ],
      "text/plain": [
       "         lv      beta   beta_se         t  pvalue_twosided  pvalue_onesided  \\\n",
       "881   LV588 -0.157796  0.124794 -1.264446         0.206116         0.896942   \n",
       "1057  LV588  0.180823  0.125016  1.446396         0.148115         0.074057   \n",
       "2372  LV588  0.026020  0.124894  0.208334         0.834975         0.417487   \n",
       "3926  LV588 -0.228049  0.124867 -1.826342         0.067845         0.966077   \n",
       "4184  LV588  0.081962  0.125018  0.655603         0.512103         0.256051   \n",
       "\n",
       "            phenotype  \n",
       "881   random.pheno988  \n",
       "1057  random.pheno589  \n",
       "2372  random.pheno385  \n",
       "3926    random.pheno5  \n",
       "4184   random.pheno74  "
      ]
     },
     "execution_count": 155,
     "metadata": {},
     "output_type": "execute_result"
    }
   ],
   "source": [
    "results.head()"
   ]
  },
  {
   "cell_type": "markdown",
   "id": "639f9142-7ebc-45fa-8b98-09ebb02e00e1",
   "metadata": {},
   "source": [
    "### Mean type I errors at different thresholds"
   ]
  },
  {
   "cell_type": "code",
   "execution_count": 156,
   "id": "0c729afb-44fc-451b-8785-5bd47e6be8ef",
   "metadata": {},
   "outputs": [
    {
     "data": {
      "text/plain": [
       "0.017"
      ]
     },
     "execution_count": 156,
     "metadata": {},
     "output_type": "execute_result"
    }
   ],
   "source": [
    "show_prop(results, 0.01)"
   ]
  },
  {
   "cell_type": "code",
   "execution_count": 157,
   "id": "20d2212c-e522-491d-b76a-597ceaf11d01",
   "metadata": {},
   "outputs": [
    {
     "data": {
      "text/plain": [
       "0.095"
      ]
     },
     "metadata": {},
     "output_type": "display_data"
    }
   ],
   "source": [
    "_mt1e = show_prop(results, 0.05)\n",
    "display(_mt1e)"
   ]
  },
  {
   "cell_type": "code",
   "execution_count": 158,
   "id": "5b148425-b1ad-4365-9a39-5d71491abdbd",
   "metadata": {},
   "outputs": [
    {
     "data": {
      "text/plain": [
       "0.155"
      ]
     },
     "execution_count": 158,
     "metadata": {},
     "output_type": "execute_result"
    }
   ],
   "source": [
    "show_prop(results, 0.10)"
   ]
  },
  {
   "cell_type": "code",
   "execution_count": 159,
   "id": "59bfa368-91d3-43d1-950a-17a9d8886c8e",
   "metadata": {},
   "outputs": [
    {
     "data": {
      "text/plain": [
       "0.216"
      ]
     },
     "execution_count": 159,
     "metadata": {},
     "output_type": "execute_result"
    }
   ],
   "source": [
    "show_prop(results, 0.15)"
   ]
  },
  {
   "cell_type": "code",
   "execution_count": 160,
   "id": "88384a7f-d530-4e4f-8815-5234571a4491",
   "metadata": {},
   "outputs": [
    {
     "data": {
      "text/plain": [
       "0.275"
      ]
     },
     "execution_count": 160,
     "metadata": {},
     "output_type": "execute_result"
    }
   ],
   "source": [
    "show_prop(results, 0.20)"
   ]
  },
  {
   "cell_type": "markdown",
   "id": "29355cc1-e810-487a-ac8b-50f98787f5b9",
   "metadata": {},
   "source": [
    "### QQplot"
   ]
  },
  {
   "cell_type": "code",
   "execution_count": 161,
   "id": "137a644b-8b76-4d57-aaeb-a8914992bdd9",
   "metadata": {},
   "outputs": [
    {
     "data": {
      "image/png": "[encoded data removed]",
      "text/plain": [
       "<Figure size 576x576 with 1 Axes>"
      ]
     },
     "metadata": {},
     "output_type": "display_data"
    }
   ],
   "source": [
    "with sns.plotting_context(\"paper\", font_scale=1.8), mpl.rc_context(\n",
    "    {\"lines.markersize\": 3}\n",
    "):\n",
    "    fig, ax = qqplot(results[PVALUE_COLUMN])\n",
    "    ax.set_title(\n",
    "        f\"GLS model (PhenoPLIER) - {lv_code}\\nMean type I error: {_mt1e:.3f}\\n{results.shape[0]} random phenotypes\"\n",
    "    )"
   ]
  },
  {
   "cell_type": "markdown",
   "id": "40c541df-e69a-4f24-a198-7b3d5605794e",
   "metadata": {},
   "source": [
    "### Top genes in LV"
   ]
  },
  {
   "cell_type": "code",
   "execution_count": 162,
   "id": "21438fe3-bfd7-4b7d-a6c5-6fe6db6fbe2c",
   "metadata": {},
   "outputs": [
    {
     "data": {
      "text/html": [
       "<div>\n",
       "<style scoped>\n",
       "    .dataframe tbody tr th:only-of-type {\n",
       "        vertical-align: middle;\n",
       "    }\n",
       "\n",
       "    .dataframe tbody tr th {\n",
       "        vertical-align: top;\n",
       "    }\n",
       "\n",
       "    .dataframe thead th {\n",
       "        text-align: right;\n",
       "    }\n",
       "</style>\n",
       "<table border=\"1\" class=\"dataframe\">\n",
       "  <thead>\n",
       "    <tr style=\"text-align: right;\">\n",
       "      <th></th>\n",
       "      <th>LV588</th>\n",
       "      <th>gene_band</th>\n",
       "    </tr>\n",
       "  </thead>\n",
       "  <tbody>\n",
       "    <tr>\n",
       "      <th>ASB8</th>\n",
       "      <td>4.260123</td>\n",
       "      <td>12q13.11</td>\n",
       "    </tr>\n",
       "    <tr>\n",
       "      <th>PEX1</th>\n",
       "      <td>3.746568</td>\n",
       "      <td>7q21.2</td>\n",
       "    </tr>\n",
       "    <tr>\n",
       "      <th>BLOC1S3</th>\n",
       "      <td>3.451845</td>\n",
       "      <td>19q13.32</td>\n",
       "    </tr>\n",
       "    <tr>\n",
       "      <th>VLDLR</th>\n",
       "      <td>3.393852</td>\n",
       "      <td>9p24.2</td>\n",
       "    </tr>\n",
       "    <tr>\n",
       "      <th>ATP8A2</th>\n",
       "      <td>2.129880</td>\n",
       "      <td>13q12.13</td>\n",
       "    </tr>\n",
       "    <tr>\n",
       "      <th>SLC7A6</th>\n",
       "      <td>2.108679</td>\n",
       "      <td>16q22.1</td>\n",
       "    </tr>\n",
       "    <tr>\n",
       "      <th>MFN1</th>\n",
       "      <td>2.061924</td>\n",
       "      <td>3q26.33</td>\n",
       "    </tr>\n",
       "    <tr>\n",
       "      <th>ZMYM2</th>\n",
       "      <td>2.055472</td>\n",
       "      <td>13q12.11</td>\n",
       "    </tr>\n",
       "    <tr>\n",
       "      <th>DAAM1</th>\n",
       "      <td>1.960115</td>\n",
       "      <td>14q23.1</td>\n",
       "    </tr>\n",
       "    <tr>\n",
       "      <th>CES3</th>\n",
       "      <td>1.888471</td>\n",
       "      <td>16q22.1</td>\n",
       "    </tr>\n",
       "    <tr>\n",
       "      <th>CD200</th>\n",
       "      <td>1.856102</td>\n",
       "      <td>3q13.2</td>\n",
       "    </tr>\n",
       "    <tr>\n",
       "      <th>SUGT1</th>\n",
       "      <td>1.854940</td>\n",
       "      <td>13q14.3</td>\n",
       "    </tr>\n",
       "    <tr>\n",
       "      <th>CNTNAP2</th>\n",
       "      <td>1.827660</td>\n",
       "      <td>7q35</td>\n",
       "    </tr>\n",
       "    <tr>\n",
       "      <th>LONRF1</th>\n",
       "      <td>1.804946</td>\n",
       "      <td>8p23.1</td>\n",
       "    </tr>\n",
       "    <tr>\n",
       "      <th>BACH2</th>\n",
       "      <td>1.709520</td>\n",
       "      <td>6q15</td>\n",
       "    </tr>\n",
       "    <tr>\n",
       "      <th>MACROD2</th>\n",
       "      <td>1.679847</td>\n",
       "      <td>20p12.1</td>\n",
       "    </tr>\n",
       "    <tr>\n",
       "      <th>KIDINS220</th>\n",
       "      <td>1.599230</td>\n",
       "      <td>2p25.1</td>\n",
       "    </tr>\n",
       "    <tr>\n",
       "      <th>IGSF3</th>\n",
       "      <td>1.501988</td>\n",
       "      <td>1p13.1</td>\n",
       "    </tr>\n",
       "    <tr>\n",
       "      <th>RYBP</th>\n",
       "      <td>1.493022</td>\n",
       "      <td>3p13</td>\n",
       "    </tr>\n",
       "    <tr>\n",
       "      <th>ZNF606</th>\n",
       "      <td>1.401968</td>\n",
       "      <td>19q13.43</td>\n",
       "    </tr>\n",
       "    <tr>\n",
       "      <th>KIFAP3</th>\n",
       "      <td>1.239053</td>\n",
       "      <td>1q24.2</td>\n",
       "    </tr>\n",
       "    <tr>\n",
       "      <th>HACL1</th>\n",
       "      <td>1.221614</td>\n",
       "      <td>3p25.1</td>\n",
       "    </tr>\n",
       "    <tr>\n",
       "      <th>MBD5</th>\n",
       "      <td>1.196440</td>\n",
       "      <td>2q23.1</td>\n",
       "    </tr>\n",
       "    <tr>\n",
       "      <th>CHST15</th>\n",
       "      <td>1.184479</td>\n",
       "      <td>10q26.13</td>\n",
       "    </tr>\n",
       "    <tr>\n",
       "      <th>CCAR1</th>\n",
       "      <td>1.170604</td>\n",
       "      <td>10q21.3</td>\n",
       "    </tr>\n",
       "  </tbody>\n",
       "</table>\n",
       "</div>"
      ],
      "text/plain": [
       "              LV588 gene_band\n",
       "ASB8       4.260123  12q13.11\n",
       "PEX1       3.746568    7q21.2\n",
       "BLOC1S3    3.451845  19q13.32\n",
       "VLDLR      3.393852    9p24.2\n",
       "ATP8A2     2.129880  13q12.13\n",
       "SLC7A6     2.108679   16q22.1\n",
       "MFN1       2.061924   3q26.33\n",
       "ZMYM2      2.055472  13q12.11\n",
       "DAAM1      1.960115   14q23.1\n",
       "CES3       1.888471   16q22.1\n",
       "CD200      1.856102    3q13.2\n",
       "SUGT1      1.854940   13q14.3\n",
       "CNTNAP2    1.827660      7q35\n",
       "LONRF1     1.804946    8p23.1\n",
       "BACH2      1.709520      6q15\n",
       "MACROD2    1.679847   20p12.1\n",
       "KIDINS220  1.599230    2p25.1\n",
       "IGSF3      1.501988    1p13.1\n",
       "RYBP       1.493022      3p13\n",
       "ZNF606     1.401968  19q13.43\n",
       "KIFAP3     1.239053    1q24.2\n",
       "HACL1      1.221614    3p25.1\n",
       "MBD5       1.196440    2q23.1\n",
       "CHST15     1.184479  10q26.13\n",
       "CCAR1      1.170604   10q21.3"
      ]
     },
     "metadata": {},
     "output_type": "display_data"
    }
   ],
   "source": [
    "lv_genes = get_lv_genes(lv_code)\n",
    "display(lv_genes.head(25))"
   ]
  },
  {
   "cell_type": "code",
   "execution_count": 163,
   "id": "5a143a76-576b-46e6-a353-4cf3a0688e3a",
   "metadata": {},
   "outputs": [
    {
     "data": {
      "text/plain": [
       "8p23.1      2\n",
       "7q21.2      2\n",
       "10q26.13    2\n",
       "16q22.1     2\n",
       "4q21.1      2\n",
       "1p35.3      1\n",
       "11q21       1\n",
       "3q13.2      1\n",
       "1p31.1      1\n",
       "2q23.1      1\n",
       "Name: gene_band, dtype: int64"
      ]
     },
     "execution_count": 163,
     "metadata": {},
     "output_type": "execute_result"
    }
   ],
   "source": [
    "# see bands of top genes\n",
    "lv_genes.head(68)[\"gene_band\"].value_counts().head(10)"
   ]
  },
  {
   "cell_type": "markdown",
   "id": "1bfea597-3792-40a7-9094-77bcde732faf",
   "metadata": {},
   "source": [
    "# Conclusions"
   ]
  },
  {
   "cell_type": "markdown",
   "id": "3a3b76b3-2b7d-4401-9685-1cf09bbf22ef",
   "metadata": {},
   "source": [
    "The GLS model is definitely an improvement over the OLS model:\n",
    "\n",
    "* It corrects LVs with top genes from the same band, like LV234, LV847, LV45.\n",
    "* There is a small improvement on mean type I error (0.0584 vs 0.0557).\n",
    "\n",
    "However, it does not fix other problematic LVs, like LV914."
   ]
  },
  {
   "cell_type": "code",
   "execution_count": null,
   "id": "0e32637a-d3fb-4833-93d3-7d680ee8bdbe",
   "metadata": {},
   "outputs": [],
   "source": []
  }
 ],
 "metadata": {
  "jupytext": {
   "cell_metadata_filter": "all,-execution,-papermill,-trusted",
   "formats": "ipynb,py//py:percent"
  },
  "kernelspec": {
   "display_name": "Python 3 (ipykernel)",
   "language": "python",
   "name": "python3"
  },
  "language_info": {
   "codemirror_mode": {
    "name": "ipython",
    "version": 3
   },
   "file_extension": ".py",
   "mimetype": "text/x-python",
   "name": "python",
   "nbconvert_exporter": "python",
   "pygments_lexer": "ipython3",
   "version": "3.8.13"
  },
  "papermill": {
   "default_parameters": {},
   "duration": 2.899223,
   "end_time": "2022-02-24T05:32:05.472242",
   "environment_variables": {},
   "exception": null,
   "input_path": "nbs/15_gsa_gls/26-gls-null_simulations-plots.ipynb",
   "output_path": "nbs/15_gsa_gls/26-gls-null_simulations-plots.run.ipynb",
   "parameters": {},
   "start_time": "2022-02-24T05:32:02.573019",
   "version": "2.2.2"
  },
  "toc-autonumbering": true
 },
 "nbformat": 4,
 "nbformat_minor": 5
}
