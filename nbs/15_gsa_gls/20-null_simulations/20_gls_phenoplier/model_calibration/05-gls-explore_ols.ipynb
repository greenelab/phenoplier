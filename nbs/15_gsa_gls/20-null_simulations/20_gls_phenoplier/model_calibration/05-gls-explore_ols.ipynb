{
 "cells": [
  {
   "cell_type": "markdown",
   "id": "b7acf0c2",
   "metadata": {
    "papermill": {
     "duration": 0.038207,
     "end_time": "2022-02-24T05:32:03.755452",
     "exception": false,
     "start_time": "2022-02-24T05:32:03.717245",
     "status": "completed"
    },
    "tags": []
   },
   "source": [
    "# Description"
   ]
  },
  {
   "cell_type": "markdown",
   "id": "2653adfb",
   "metadata": {
    "papermill": {
     "duration": 0.009944,
     "end_time": "2022-02-24T05:32:03.780673",
     "exception": false,
     "start_time": "2022-02-24T05:32:03.770729",
     "status": "completed"
    },
    "tags": []
   },
   "source": [
    "The idea of this notebook is to explore the results of a simple OLS model (Ordinary Least Squares) to associate an LV (gene weights) with a trait (gene pvalues).\n",
    "Since predicted gene expression is correlated, especially among adjacent genes, a simple OLS model is expected to fail by having high type I errors in some LVs."
   ]
  },
  {
   "cell_type": "markdown",
   "id": "fb645f46",
   "metadata": {
    "papermill": {
     "duration": 0.008401,
     "end_time": "2022-02-24T05:32:03.797668",
     "exception": false,
     "start_time": "2022-02-24T05:32:03.789267",
     "status": "completed"
    },
    "tags": []
   },
   "source": [
    "# Modules"
   ]
  },
  {
   "cell_type": "code",
   "execution_count": 1,
   "id": "7ce51c68",
   "metadata": {
    "papermill": {
     "duration": 0.861241,
     "end_time": "2022-02-24T05:32:04.667481",
     "exception": false,
     "start_time": "2022-02-24T05:32:03.806240",
     "status": "completed"
    },
    "tags": []
   },
   "outputs": [],
   "source": [
    "from pathlib import Path\n",
    "\n",
    "import numpy as np\n",
    "import pandas as pd\n",
    "from scipy import stats\n",
    "from statsmodels.graphics.gofplots import qqplot_2samples\n",
    "import matplotlib.pyplot as plt\n",
    "import matplotlib as mpl\n",
    "import seaborn as sns\n",
    "\n",
    "import conf\n",
    "from data.recount2 import LVAnalysis"
   ]
  },
  {
   "cell_type": "markdown",
   "id": "654985a3",
   "metadata": {
    "papermill": {
     "duration": 0.008701,
     "end_time": "2022-02-24T05:32:04.685435",
     "exception": false,
     "start_time": "2022-02-24T05:32:04.676734",
     "status": "completed"
    },
    "tags": []
   },
   "source": [
    "# Settings"
   ]
  },
  {
   "cell_type": "code",
   "execution_count": 2,
   "id": "d4e1bf58-d0ac-455a-97d8-1d892b4a38d6",
   "metadata": {},
   "outputs": [],
   "source": [
    "N_PHENOTYPES = 1000\n",
    "N_LVS = 987"
   ]
  },
  {
   "cell_type": "code",
   "execution_count": 3,
   "id": "9ba4e01c",
   "metadata": {
    "papermill": {
     "duration": 0.016348,
     "end_time": "2022-02-24T05:32:04.710602",
     "exception": false,
     "start_time": "2022-02-24T05:32:04.694254",
     "status": "completed"
    },
    "tags": []
   },
   "outputs": [
    {
     "data": {
      "text/plain": [
       "PosixPath('/opt/data/results/gls/null_sims/phenoplier/1000g_eur/covars/_corrs_all/gls-debug_use_ols')"
      ]
     },
     "metadata": {},
     "output_type": "display_data"
    }
   ],
   "source": [
    "INPUT_DIR = (\n",
    "    conf.RESULTS[\"GLS_NULL_SIMS\"]\n",
    "    / \"phenoplier\"\n",
    "    / \"1000g_eur\"\n",
    "    / \"covars\"\n",
    "    / \"_corrs_all\"\n",
    "    / \"gls-debug_use_ols\"\n",
    ")\n",
    "display(INPUT_DIR)\n",
    "assert INPUT_DIR.exists()"
   ]
  },
  {
   "cell_type": "code",
   "execution_count": 4,
   "id": "3f0ceee7-2e59-493d-845c-35d131159f4b",
   "metadata": {},
   "outputs": [],
   "source": [
    "PVALUE_COLUMN = \"pvalue_onesided\""
   ]
  },
  {
   "cell_type": "markdown",
   "id": "029018ec-ed00-41fb-83b3-f0ae3e57a000",
   "metadata": {},
   "source": [
    "# Load MultiXcan genes present in results"
   ]
  },
  {
   "cell_type": "code",
   "execution_count": 5,
   "id": "35a6ced5-0526-469f-93e5-15952f1201e2",
   "metadata": {},
   "outputs": [],
   "source": [
    "_tmp = pd.read_csv(\n",
    "    conf.RESULTS[\"GLS_NULL_SIMS\"]\n",
    "    / \"twas\"\n",
    "    / \"smultixcan\"\n",
    "    / \"random.pheno0-gtex_v8-mashr-smultixcan.txt\",\n",
    "    sep=\"\\t\",\n",
    ")"
   ]
  },
  {
   "cell_type": "code",
   "execution_count": 6,
   "id": "14dd7cef-0d54-4410-9f94-ff0a808b5dda",
   "metadata": {},
   "outputs": [
    {
     "data": {
      "text/plain": [
       "(22317, 18)"
      ]
     },
     "execution_count": 6,
     "metadata": {},
     "output_type": "execute_result"
    }
   ],
   "source": [
    "_tmp.shape"
   ]
  },
  {
   "cell_type": "code",
   "execution_count": 7,
   "id": "e0c79c4b-459b-4ace-8284-14cd3ccbb130",
   "metadata": {},
   "outputs": [
    {
     "data": {
      "text/html": [
       "<div>\n",
       "<style scoped>\n",
       "    .dataframe tbody tr th:only-of-type {\n",
       "        vertical-align: middle;\n",
       "    }\n",
       "\n",
       "    .dataframe tbody tr th {\n",
       "        vertical-align: top;\n",
       "    }\n",
       "\n",
       "    .dataframe thead th {\n",
       "        text-align: right;\n",
       "    }\n",
       "</style>\n",
       "<table border=\"1\" class=\"dataframe\">\n",
       "  <thead>\n",
       "    <tr style=\"text-align: right;\">\n",
       "      <th></th>\n",
       "      <th>gene</th>\n",
       "      <th>gene_name</th>\n",
       "      <th>pvalue</th>\n",
       "      <th>n</th>\n",
       "      <th>n_indep</th>\n",
       "      <th>p_i_best</th>\n",
       "      <th>t_i_best</th>\n",
       "      <th>p_i_worst</th>\n",
       "      <th>t_i_worst</th>\n",
       "      <th>eigen_max</th>\n",
       "      <th>eigen_min</th>\n",
       "      <th>eigen_min_kept</th>\n",
       "      <th>z_min</th>\n",
       "      <th>z_max</th>\n",
       "      <th>z_mean</th>\n",
       "      <th>z_sd</th>\n",
       "      <th>tmi</th>\n",
       "      <th>status</th>\n",
       "    </tr>\n",
       "  </thead>\n",
       "  <tbody>\n",
       "    <tr>\n",
       "      <th>0</th>\n",
       "      <td>ENSG00000131941.7</td>\n",
       "      <td>RHPN2</td>\n",
       "      <td>0.000040</td>\n",
       "      <td>48.0</td>\n",
       "      <td>3.0</td>\n",
       "      <td>2.139470e-04</td>\n",
       "      <td>Artery_Tibial</td>\n",
       "      <td>0.990132</td>\n",
       "      <td>Brain_Nucleus_accumbens_basal_ganglia</td>\n",
       "      <td>36.556432</td>\n",
       "      <td>7.692089e-16</td>\n",
       "      <td>2.519701</td>\n",
       "      <td>-2.721185</td>\n",
       "      <td>3.701952</td>\n",
       "      <td>1.283152</td>\n",
       "      <td>1.825567</td>\n",
       "      <td>3.0</td>\n",
       "      <td>0</td>\n",
       "    </tr>\n",
       "    <tr>\n",
       "      <th>1</th>\n",
       "      <td>ENSG00000076650.6</td>\n",
       "      <td>GPATCH1</td>\n",
       "      <td>0.000078</td>\n",
       "      <td>40.0</td>\n",
       "      <td>3.0</td>\n",
       "      <td>4.534390e-04</td>\n",
       "      <td>Brain_Cerebellum</td>\n",
       "      <td>0.817384</td>\n",
       "      <td>Brain_Frontal_Cortex_BA9</td>\n",
       "      <td>29.990208</td>\n",
       "      <td>2.086487e-15</td>\n",
       "      <td>1.815203</td>\n",
       "      <td>-3.506853</td>\n",
       "      <td>2.383485</td>\n",
       "      <td>-2.016745</td>\n",
       "      <td>1.715495</td>\n",
       "      <td>3.0</td>\n",
       "      <td>0</td>\n",
       "    </tr>\n",
       "    <tr>\n",
       "      <th>2</th>\n",
       "      <td>ENSG00000100906.10</td>\n",
       "      <td>NFKBIA</td>\n",
       "      <td>0.000096</td>\n",
       "      <td>1.0</td>\n",
       "      <td>1.0</td>\n",
       "      <td>9.591208e-05</td>\n",
       "      <td>Brain_Frontal_Cortex_BA9</td>\n",
       "      <td>0.000096</td>\n",
       "      <td>Brain_Frontal_Cortex_BA9</td>\n",
       "      <td>1.000000</td>\n",
       "      <td>1.000000e+00</td>\n",
       "      <td>1.000000</td>\n",
       "      <td>-3.900707</td>\n",
       "      <td>-3.900707</td>\n",
       "      <td>-3.900707</td>\n",
       "      <td>NaN</td>\n",
       "      <td>1.0</td>\n",
       "      <td>0</td>\n",
       "    </tr>\n",
       "    <tr>\n",
       "      <th>3</th>\n",
       "      <td>ENSG00000136319.11</td>\n",
       "      <td>TTC5</td>\n",
       "      <td>0.000109</td>\n",
       "      <td>47.0</td>\n",
       "      <td>5.0</td>\n",
       "      <td>1.402826e-03</td>\n",
       "      <td>Brain_Hippocampus</td>\n",
       "      <td>0.961887</td>\n",
       "      <td>Colon_Sigmoid</td>\n",
       "      <td>21.272442</td>\n",
       "      <td>8.142339e-16</td>\n",
       "      <td>0.732606</td>\n",
       "      <td>-3.194069</td>\n",
       "      <td>1.397514</td>\n",
       "      <td>-0.916662</td>\n",
       "      <td>1.068989</td>\n",
       "      <td>5.0</td>\n",
       "      <td>0</td>\n",
       "    </tr>\n",
       "    <tr>\n",
       "      <th>4</th>\n",
       "      <td>ENSG00000152990.13</td>\n",
       "      <td>ADGRA3</td>\n",
       "      <td>0.000135</td>\n",
       "      <td>41.0</td>\n",
       "      <td>12.0</td>\n",
       "      <td>3.211289e-07</td>\n",
       "      <td>Heart_Atrial_Appendage</td>\n",
       "      <td>0.653657</td>\n",
       "      <td>Whole_Blood</td>\n",
       "      <td>12.988248</td>\n",
       "      <td>3.499412e-16</td>\n",
       "      <td>0.444682</td>\n",
       "      <td>-5.110605</td>\n",
       "      <td>3.599410</td>\n",
       "      <td>-0.464735</td>\n",
       "      <td>2.316607</td>\n",
       "      <td>12.0</td>\n",
       "      <td>0</td>\n",
       "    </tr>\n",
       "  </tbody>\n",
       "</table>\n",
       "</div>"
      ],
      "text/plain": [
       "                 gene gene_name    pvalue     n  n_indep      p_i_best  \\\n",
       "0   ENSG00000131941.7     RHPN2  0.000040  48.0      3.0  2.139470e-04   \n",
       "1   ENSG00000076650.6   GPATCH1  0.000078  40.0      3.0  4.534390e-04   \n",
       "2  ENSG00000100906.10    NFKBIA  0.000096   1.0      1.0  9.591208e-05   \n",
       "3  ENSG00000136319.11      TTC5  0.000109  47.0      5.0  1.402826e-03   \n",
       "4  ENSG00000152990.13    ADGRA3  0.000135  41.0     12.0  3.211289e-07   \n",
       "\n",
       "                   t_i_best  p_i_worst                              t_i_worst  \\\n",
       "0             Artery_Tibial   0.990132  Brain_Nucleus_accumbens_basal_ganglia   \n",
       "1          Brain_Cerebellum   0.817384               Brain_Frontal_Cortex_BA9   \n",
       "2  Brain_Frontal_Cortex_BA9   0.000096               Brain_Frontal_Cortex_BA9   \n",
       "3         Brain_Hippocampus   0.961887                          Colon_Sigmoid   \n",
       "4    Heart_Atrial_Appendage   0.653657                            Whole_Blood   \n",
       "\n",
       "   eigen_max     eigen_min  eigen_min_kept     z_min     z_max    z_mean  \\\n",
       "0  36.556432  7.692089e-16        2.519701 -2.721185  3.701952  1.283152   \n",
       "1  29.990208  2.086487e-15        1.815203 -3.506853  2.383485 -2.016745   \n",
       "2   1.000000  1.000000e+00        1.000000 -3.900707 -3.900707 -3.900707   \n",
       "3  21.272442  8.142339e-16        0.732606 -3.194069  1.397514 -0.916662   \n",
       "4  12.988248  3.499412e-16        0.444682 -5.110605  3.599410 -0.464735   \n",
       "\n",
       "       z_sd   tmi  status  \n",
       "0  1.825567   3.0       0  \n",
       "1  1.715495   3.0       0  \n",
       "2       NaN   1.0       0  \n",
       "3  1.068989   5.0       0  \n",
       "4  2.316607  12.0       0  "
      ]
     },
     "execution_count": 7,
     "metadata": {},
     "output_type": "execute_result"
    }
   ],
   "source": [
    "_tmp.head()"
   ]
  },
  {
   "cell_type": "code",
   "execution_count": 8,
   "id": "df4e8a97-854f-4355-ac4f-d007f4fe3eab",
   "metadata": {},
   "outputs": [
    {
     "data": {
      "text/plain": [
       "22311"
      ]
     },
     "metadata": {},
     "output_type": "display_data"
    },
    {
     "data": {
      "text/plain": [
       "['ARL6IP1',\n",
       " 'TRIM44',\n",
       " 'GTF2H4',\n",
       " 'ZNF426',\n",
       " 'PTBP2',\n",
       " 'PRRC1',\n",
       " 'C1orf167',\n",
       " 'RP11-534C12.1',\n",
       " 'RP11-85G21.3',\n",
       " 'SLC30A7']"
      ]
     },
     "metadata": {},
     "output_type": "display_data"
    }
   ],
   "source": [
    "multixcan_genes = set(_tmp[\"gene_name\"])\n",
    "display(len(multixcan_genes))\n",
    "display(list(multixcan_genes)[:10])"
   ]
  },
  {
   "cell_type": "markdown",
   "id": "e9c7f7f2-2995-4feb-8b74-00946b986433",
   "metadata": {},
   "source": [
    "# Load MultiPLIER Z matrix"
   ]
  },
  {
   "cell_type": "code",
   "execution_count": 9,
   "id": "737539d5-27c1-4eca-afe7-a762799e9a06",
   "metadata": {},
   "outputs": [],
   "source": [
    "multiplier_z = pd.read_pickle(conf.MULTIPLIER[\"MODEL_Z_MATRIX_FILE\"])"
   ]
  },
  {
   "cell_type": "code",
   "execution_count": 10,
   "id": "85f795b4-ac82-4638-8859-17fb6a9065d0",
   "metadata": {},
   "outputs": [
    {
     "data": {
      "text/plain": [
       "(6750, 987)"
      ]
     },
     "execution_count": 10,
     "metadata": {},
     "output_type": "execute_result"
    }
   ],
   "source": [
    "multiplier_z.shape"
   ]
  },
  {
   "cell_type": "code",
   "execution_count": 11,
   "id": "833629ef-50a0-4f1a-8e80-3666f14e45f4",
   "metadata": {},
   "outputs": [],
   "source": [
    "# keep genes only present in MultiXcan\n",
    "multiplier_z = multiplier_z.loc[\n",
    "    sorted(multixcan_genes.intersection(multiplier_z.index))\n",
    "]"
   ]
  },
  {
   "cell_type": "code",
   "execution_count": 12,
   "id": "412acd59-1134-4ee7-8b73-2d4552946735",
   "metadata": {},
   "outputs": [
    {
     "data": {
      "text/plain": [
       "(6446, 987)"
      ]
     },
     "execution_count": 12,
     "metadata": {},
     "output_type": "execute_result"
    }
   ],
   "source": [
    "multiplier_z.shape"
   ]
  },
  {
   "cell_type": "code",
   "execution_count": 13,
   "id": "1d7ae2a5-f63d-415b-b509-0fc4ea278a40",
   "metadata": {},
   "outputs": [
    {
     "data": {
      "text/html": [
       "<div>\n",
       "<style scoped>\n",
       "    .dataframe tbody tr th:only-of-type {\n",
       "        vertical-align: middle;\n",
       "    }\n",
       "\n",
       "    .dataframe tbody tr th {\n",
       "        vertical-align: top;\n",
       "    }\n",
       "\n",
       "    .dataframe thead th {\n",
       "        text-align: right;\n",
       "    }\n",
       "</style>\n",
       "<table border=\"1\" class=\"dataframe\">\n",
       "  <thead>\n",
       "    <tr style=\"text-align: right;\">\n",
       "      <th></th>\n",
       "      <th>LV1</th>\n",
       "      <th>LV2</th>\n",
       "      <th>LV3</th>\n",
       "      <th>LV4</th>\n",
       "      <th>LV5</th>\n",
       "      <th>LV6</th>\n",
       "      <th>LV7</th>\n",
       "      <th>LV8</th>\n",
       "      <th>LV9</th>\n",
       "      <th>LV10</th>\n",
       "      <th>...</th>\n",
       "      <th>LV978</th>\n",
       "      <th>LV979</th>\n",
       "      <th>LV980</th>\n",
       "      <th>LV981</th>\n",
       "      <th>LV982</th>\n",
       "      <th>LV983</th>\n",
       "      <th>LV984</th>\n",
       "      <th>LV985</th>\n",
       "      <th>LV986</th>\n",
       "      <th>LV987</th>\n",
       "    </tr>\n",
       "  </thead>\n",
       "  <tbody>\n",
       "    <tr>\n",
       "      <th>A2M</th>\n",
       "      <td>0.000000</td>\n",
       "      <td>0.000000</td>\n",
       "      <td>0.000000</td>\n",
       "      <td>0.078428</td>\n",
       "      <td>0.0</td>\n",
       "      <td>0.00000</td>\n",
       "      <td>0.000000</td>\n",
       "      <td>0.046772</td>\n",
       "      <td>0.000000</td>\n",
       "      <td>0.011033</td>\n",
       "      <td>...</td>\n",
       "      <td>0.010910</td>\n",
       "      <td>0.000000</td>\n",
       "      <td>0.052869</td>\n",
       "      <td>0.012749</td>\n",
       "      <td>0.0</td>\n",
       "      <td>0.013982</td>\n",
       "      <td>0.152241</td>\n",
       "      <td>0.000000</td>\n",
       "      <td>0.000000</td>\n",
       "      <td>0.108884</td>\n",
       "    </tr>\n",
       "    <tr>\n",
       "      <th>AAAS</th>\n",
       "      <td>0.271162</td>\n",
       "      <td>0.000000</td>\n",
       "      <td>0.000000</td>\n",
       "      <td>0.000000</td>\n",
       "      <td>0.0</td>\n",
       "      <td>0.00000</td>\n",
       "      <td>0.000000</td>\n",
       "      <td>0.000000</td>\n",
       "      <td>1.513337</td>\n",
       "      <td>0.000000</td>\n",
       "      <td>...</td>\n",
       "      <td>0.000000</td>\n",
       "      <td>0.000000</td>\n",
       "      <td>0.000000</td>\n",
       "      <td>0.001385</td>\n",
       "      <td>0.0</td>\n",
       "      <td>0.000000</td>\n",
       "      <td>0.711896</td>\n",
       "      <td>0.030534</td>\n",
       "      <td>0.447105</td>\n",
       "      <td>0.424685</td>\n",
       "    </tr>\n",
       "    <tr>\n",
       "      <th>AANAT</th>\n",
       "      <td>0.005099</td>\n",
       "      <td>0.308497</td>\n",
       "      <td>0.028815</td>\n",
       "      <td>0.000000</td>\n",
       "      <td>0.0</td>\n",
       "      <td>0.00000</td>\n",
       "      <td>0.371725</td>\n",
       "      <td>0.000000</td>\n",
       "      <td>0.135238</td>\n",
       "      <td>0.000000</td>\n",
       "      <td>...</td>\n",
       "      <td>0.117163</td>\n",
       "      <td>0.018815</td>\n",
       "      <td>0.000000</td>\n",
       "      <td>0.193142</td>\n",
       "      <td>0.0</td>\n",
       "      <td>0.040401</td>\n",
       "      <td>0.180436</td>\n",
       "      <td>0.000000</td>\n",
       "      <td>0.000000</td>\n",
       "      <td>0.042064</td>\n",
       "    </tr>\n",
       "    <tr>\n",
       "      <th>AARS</th>\n",
       "      <td>0.512978</td>\n",
       "      <td>0.000000</td>\n",
       "      <td>0.451285</td>\n",
       "      <td>0.319568</td>\n",
       "      <td>0.0</td>\n",
       "      <td>0.00000</td>\n",
       "      <td>0.000000</td>\n",
       "      <td>0.000000</td>\n",
       "      <td>0.000000</td>\n",
       "      <td>0.000000</td>\n",
       "      <td>...</td>\n",
       "      <td>0.000000</td>\n",
       "      <td>0.000000</td>\n",
       "      <td>0.006208</td>\n",
       "      <td>0.021274</td>\n",
       "      <td>0.0</td>\n",
       "      <td>0.000000</td>\n",
       "      <td>0.062143</td>\n",
       "      <td>0.000000</td>\n",
       "      <td>0.000000</td>\n",
       "      <td>0.364892</td>\n",
       "    </tr>\n",
       "    <tr>\n",
       "      <th>AARS2</th>\n",
       "      <td>1.008157</td>\n",
       "      <td>0.000000</td>\n",
       "      <td>0.197424</td>\n",
       "      <td>0.024832</td>\n",
       "      <td>0.0</td>\n",
       "      <td>0.57081</td>\n",
       "      <td>0.000000</td>\n",
       "      <td>0.228675</td>\n",
       "      <td>0.000000</td>\n",
       "      <td>0.116243</td>\n",
       "      <td>...</td>\n",
       "      <td>0.000000</td>\n",
       "      <td>0.000000</td>\n",
       "      <td>0.153345</td>\n",
       "      <td>0.000000</td>\n",
       "      <td>0.0</td>\n",
       "      <td>0.000000</td>\n",
       "      <td>1.004578</td>\n",
       "      <td>0.014470</td>\n",
       "      <td>0.000000</td>\n",
       "      <td>0.000000</td>\n",
       "    </tr>\n",
       "  </tbody>\n",
       "</table>\n",
       "<p>5 rows × 987 columns</p>\n",
       "</div>"
      ],
      "text/plain": [
       "            LV1       LV2       LV3       LV4  LV5      LV6       LV7  \\\n",
       "A2M    0.000000  0.000000  0.000000  0.078428  0.0  0.00000  0.000000   \n",
       "AAAS   0.271162  0.000000  0.000000  0.000000  0.0  0.00000  0.000000   \n",
       "AANAT  0.005099  0.308497  0.028815  0.000000  0.0  0.00000  0.371725   \n",
       "AARS   0.512978  0.000000  0.451285  0.319568  0.0  0.00000  0.000000   \n",
       "AARS2  1.008157  0.000000  0.197424  0.024832  0.0  0.57081  0.000000   \n",
       "\n",
       "            LV8       LV9      LV10  ...     LV978     LV979     LV980  \\\n",
       "A2M    0.046772  0.000000  0.011033  ...  0.010910  0.000000  0.052869   \n",
       "AAAS   0.000000  1.513337  0.000000  ...  0.000000  0.000000  0.000000   \n",
       "AANAT  0.000000  0.135238  0.000000  ...  0.117163  0.018815  0.000000   \n",
       "AARS   0.000000  0.000000  0.000000  ...  0.000000  0.000000  0.006208   \n",
       "AARS2  0.228675  0.000000  0.116243  ...  0.000000  0.000000  0.153345   \n",
       "\n",
       "          LV981  LV982     LV983     LV984     LV985     LV986     LV987  \n",
       "A2M    0.012749    0.0  0.013982  0.152241  0.000000  0.000000  0.108884  \n",
       "AAAS   0.001385    0.0  0.000000  0.711896  0.030534  0.447105  0.424685  \n",
       "AANAT  0.193142    0.0  0.040401  0.180436  0.000000  0.000000  0.042064  \n",
       "AARS   0.021274    0.0  0.000000  0.062143  0.000000  0.000000  0.364892  \n",
       "AARS2  0.000000    0.0  0.000000  1.004578  0.014470  0.000000  0.000000  \n",
       "\n",
       "[5 rows x 987 columns]"
      ]
     },
     "execution_count": 13,
     "metadata": {},
     "output_type": "execute_result"
    }
   ],
   "source": [
    "multiplier_z.head()"
   ]
  },
  {
   "cell_type": "markdown",
   "id": "4cb0512c",
   "metadata": {
    "papermill": {
     "duration": 0.010426,
     "end_time": "2022-02-24T05:32:04.905993",
     "exception": false,
     "start_time": "2022-02-24T05:32:04.895567",
     "status": "completed"
    },
    "tags": []
   },
   "source": [
    "# Functions"
   ]
  },
  {
   "cell_type": "code",
   "execution_count": 14,
   "id": "8f147e50",
   "metadata": {},
   "outputs": [],
   "source": [
    "def show_prop(data, frac=0.05):\n",
    "    pvalues = data[PVALUE_COLUMN]\n",
    "    return get_prop(pvalues, frac=frac)"
   ]
  },
  {
   "cell_type": "code",
   "execution_count": 15,
   "id": "247ac210-d958-47c5-8689-5d7bee1fc2c3",
   "metadata": {},
   "outputs": [],
   "source": [
    "def get_prop(pvalues, frac=0.05):\n",
    "    _pvalue_lt_frac = pvalues[pvalues < frac]\n",
    "    return _pvalue_lt_frac.shape[0] / pvalues.shape[0]"
   ]
  },
  {
   "cell_type": "code",
   "execution_count": 16,
   "id": "21b228aa-038d-4d7f-886c-c46e98e20d15",
   "metadata": {},
   "outputs": [],
   "source": [
    "assert get_prop(np.array([0.20, 0.50]), 0.05) == 0.0\n",
    "assert get_prop(np.array([0.20, 0.50, 0.75, 0.10, 0.04]), 0.05) == 0.2"
   ]
  },
  {
   "cell_type": "code",
   "execution_count": 17,
   "id": "6d41d11a-acf1-4165-9436-a9eda22ba6bb",
   "metadata": {},
   "outputs": [],
   "source": [
    "assert get_prop(pd.Series(np.array([0.20, 0.50])), 0.05) == 0.0\n",
    "assert get_prop(pd.Series(np.array([0.20, 0.50, 0.75, 0.10, 0.04])), 0.05) == 0.2"
   ]
  },
  {
   "cell_type": "code",
   "execution_count": 18,
   "id": "f9da2b93-e6e4-4d19-bb37-fcb15e03bb5d",
   "metadata": {},
   "outputs": [],
   "source": [
    "def qqplot_unif(results, check_n_lvs=True, other_results=None):\n",
    "    data = results[PVALUE_COLUMN].to_numpy()\n",
    "    n = data.shape[0]\n",
    "    observed_data = -np.log10(data)\n",
    "\n",
    "    observed_lvs = results[\"lv\"].unique()\n",
    "    n_observed_lvs = len(observed_lvs)\n",
    "    if check_n_lvs:\n",
    "        assert n_observed_lvs == 1\n",
    "        observed_lv = observed_lvs[0]\n",
    "    else:\n",
    "        observed_lv = f\"All LVs ({n_observed_lvs})\"\n",
    "\n",
    "    other_lv = \"\"\n",
    "    if other_results is not None:\n",
    "        other_data = other_results[PVALUE_COLUMN].to_numpy()\n",
    "        expected_data = -np.log10(other_data)\n",
    "\n",
    "        other_lv = other_results[\"lv\"].unique()\n",
    "        assert len(other_lv) == 1\n",
    "        other_lv = other_lv[0]\n",
    "    else:\n",
    "        uniform_data = np.array([i / (n + 1) for i in range(1, n + 1)])\n",
    "        expected_data = -np.log10(uniform_data)\n",
    "\n",
    "    with sns.plotting_context(\"paper\", font_scale=1.8), mpl.rc_context(\n",
    "        {\"lines.markersize\": 3}\n",
    "    ):\n",
    "        fig, ax = plt.subplots(figsize=(8, 8))\n",
    "\n",
    "        fig = qqplot_2samples(expected_data, observed_data, line=\"45\", ax=ax)\n",
    "\n",
    "        ax.set_xlim(expected_data.min() - 0.05, expected_data.max() + 0.05)\n",
    "\n",
    "        ax.set_xlabel(\"$-\\log_{10}$\" + f\"(expected pvalue) - {other_lv}\")\n",
    "        ax.set_ylabel(\"$-\\log_{10}$\" + f\"(observed pvalue) - {observed_lv}\")\n",
    "\n",
    "        # ax.set_title(\"OLS (baseline)\\nMean type I error: 5.5%\")\n",
    "        ax.set_title(\"OLS (baseline)\")"
   ]
  },
  {
   "cell_type": "code",
   "execution_count": 19,
   "id": "e8b4450a-7bde-4571-ba3a-e600d8212a7d",
   "metadata": {},
   "outputs": [],
   "source": [
    "def get_lv_genes(lv_code):\n",
    "    lv_genes = multiplier_z[lv_code].sort_values(ascending=False)\n",
    "    lv_obj = LVAnalysis(lv_code)\n",
    "    return lv_obj.lv_genes.set_index(\"gene_name\").loc[lv_genes.index]"
   ]
  },
  {
   "cell_type": "markdown",
   "id": "29a8e81c-fe49-44c2-880d-e2c4a5e305ba",
   "metadata": {},
   "source": [
    "# Get files list"
   ]
  },
  {
   "cell_type": "code",
   "execution_count": 20,
   "id": "f920bc02-8297-4bd9-8601-665f079cbf91",
   "metadata": {},
   "outputs": [
    {
     "data": {
      "text/plain": [
       "[PosixPath('/opt/data/results/gls/null_sims/phenoplier/1000g_eur/covars/_corrs_all/gls-debug_use_ols/random.pheno988-gls_phenoplier.tsv.gz'),\n",
       " PosixPath('/opt/data/results/gls/null_sims/phenoplier/1000g_eur/covars/_corrs_all/gls-debug_use_ols/random.pheno589-gls_phenoplier.tsv.gz'),\n",
       " PosixPath('/opt/data/results/gls/null_sims/phenoplier/1000g_eur/covars/_corrs_all/gls-debug_use_ols/random.pheno385-gls_phenoplier.tsv.gz'),\n",
       " PosixPath('/opt/data/results/gls/null_sims/phenoplier/1000g_eur/covars/_corrs_all/gls-debug_use_ols/random.pheno5-gls_phenoplier.tsv.gz'),\n",
       " PosixPath('/opt/data/results/gls/null_sims/phenoplier/1000g_eur/covars/_corrs_all/gls-debug_use_ols/random.pheno74-gls_phenoplier.tsv.gz')]"
      ]
     },
     "metadata": {},
     "output_type": "display_data"
    }
   ],
   "source": [
    "INPUT_FILES = list(INPUT_DIR.glob(\"*.tsv.gz\"))\n",
    "display(INPUT_FILES[:5])"
   ]
  },
  {
   "cell_type": "markdown",
   "id": "5f2c6f72-9a30-4ced-bc9a-04b6b3b21384",
   "metadata": {},
   "source": [
    "# Load data"
   ]
  },
  {
   "cell_type": "code",
   "execution_count": 21,
   "id": "18ebfb6c",
   "metadata": {
    "papermill": {
     "duration": 0.023945,
     "end_time": "2022-02-24T05:32:04.808813",
     "exception": false,
     "start_time": "2022-02-24T05:32:04.784868",
     "status": "completed"
    },
    "tags": []
   },
   "outputs": [],
   "source": [
    "dfs = [\n",
    "    pd.read_csv(f, sep=\"\\t\").assign(phenotype=f.name.split(\"-\")[0]) for f in INPUT_FILES\n",
    "]"
   ]
  },
  {
   "cell_type": "code",
   "execution_count": 22,
   "id": "ac3b6041",
   "metadata": {
    "papermill": {
     "duration": 0.015781,
     "end_time": "2022-02-24T05:32:04.834694",
     "exception": false,
     "start_time": "2022-02-24T05:32:04.818913",
     "status": "completed"
    },
    "tags": []
   },
   "outputs": [
    {
     "data": {
      "text/plain": [
       "1000"
      ]
     },
     "metadata": {},
     "output_type": "display_data"
    }
   ],
   "source": [
    "display(len(dfs))\n",
    "assert len(dfs) == N_PHENOTYPES"
   ]
  },
  {
   "cell_type": "code",
   "execution_count": 23,
   "id": "d15f7346",
   "metadata": {
    "papermill": {
     "duration": 0.038689,
     "end_time": "2022-02-24T05:32:04.884154",
     "exception": false,
     "start_time": "2022-02-24T05:32:04.845465",
     "status": "completed"
    },
    "tags": []
   },
   "outputs": [],
   "source": [
    "dfs = pd.concat(dfs, axis=0, ignore_index=True)"
   ]
  },
  {
   "cell_type": "code",
   "execution_count": 24,
   "id": "7405b07c-b71a-4a8f-924b-f9ffc7a0b13a",
   "metadata": {},
   "outputs": [
    {
     "data": {
      "text/plain": [
       "(987000, 7)"
      ]
     },
     "metadata": {},
     "output_type": "display_data"
    }
   ],
   "source": [
    "display(dfs.shape)\n",
    "assert dfs.shape[0] == N_PHENOTYPES * N_LVS"
   ]
  },
  {
   "cell_type": "code",
   "execution_count": 25,
   "id": "228787ad-0cbb-4f3b-b964-0bc148a1a305",
   "metadata": {},
   "outputs": [
    {
     "data": {
      "text/html": [
       "<div>\n",
       "<style scoped>\n",
       "    .dataframe tbody tr th:only-of-type {\n",
       "        vertical-align: middle;\n",
       "    }\n",
       "\n",
       "    .dataframe tbody tr th {\n",
       "        vertical-align: top;\n",
       "    }\n",
       "\n",
       "    .dataframe thead th {\n",
       "        text-align: right;\n",
       "    }\n",
       "</style>\n",
       "<table border=\"1\" class=\"dataframe\">\n",
       "  <thead>\n",
       "    <tr style=\"text-align: right;\">\n",
       "      <th></th>\n",
       "      <th>lv</th>\n",
       "      <th>beta</th>\n",
       "      <th>beta_se</th>\n",
       "      <th>t</th>\n",
       "      <th>pvalue_twosided</th>\n",
       "      <th>pvalue_onesided</th>\n",
       "      <th>phenotype</th>\n",
       "    </tr>\n",
       "  </thead>\n",
       "  <tbody>\n",
       "    <tr>\n",
       "      <th>0</th>\n",
       "      <td>LV136</td>\n",
       "      <td>0.392807</td>\n",
       "      <td>0.124928</td>\n",
       "      <td>3.144278</td>\n",
       "      <td>0.001673</td>\n",
       "      <td>0.000836</td>\n",
       "      <td>random.pheno988</td>\n",
       "    </tr>\n",
       "    <tr>\n",
       "      <th>1</th>\n",
       "      <td>LV175</td>\n",
       "      <td>0.331246</td>\n",
       "      <td>0.124558</td>\n",
       "      <td>2.659377</td>\n",
       "      <td>0.007848</td>\n",
       "      <td>0.003924</td>\n",
       "      <td>random.pheno988</td>\n",
       "    </tr>\n",
       "    <tr>\n",
       "      <th>2</th>\n",
       "      <td>LV825</td>\n",
       "      <td>0.327867</td>\n",
       "      <td>0.124531</td>\n",
       "      <td>2.632814</td>\n",
       "      <td>0.008488</td>\n",
       "      <td>0.004244</td>\n",
       "      <td>random.pheno988</td>\n",
       "    </tr>\n",
       "    <tr>\n",
       "      <th>3</th>\n",
       "      <td>LV585</td>\n",
       "      <td>0.324938</td>\n",
       "      <td>0.124498</td>\n",
       "      <td>2.609978</td>\n",
       "      <td>0.009076</td>\n",
       "      <td>0.004538</td>\n",
       "      <td>random.pheno988</td>\n",
       "    </tr>\n",
       "    <tr>\n",
       "      <th>4</th>\n",
       "      <td>LV816</td>\n",
       "      <td>0.322478</td>\n",
       "      <td>0.124649</td>\n",
       "      <td>2.587083</td>\n",
       "      <td>0.009701</td>\n",
       "      <td>0.004850</td>\n",
       "      <td>random.pheno988</td>\n",
       "    </tr>\n",
       "  </tbody>\n",
       "</table>\n",
       "</div>"
      ],
      "text/plain": [
       "      lv      beta   beta_se         t  pvalue_twosided  pvalue_onesided  \\\n",
       "0  LV136  0.392807  0.124928  3.144278         0.001673         0.000836   \n",
       "1  LV175  0.331246  0.124558  2.659377         0.007848         0.003924   \n",
       "2  LV825  0.327867  0.124531  2.632814         0.008488         0.004244   \n",
       "3  LV585  0.324938  0.124498  2.609978         0.009076         0.004538   \n",
       "4  LV816  0.322478  0.124649  2.587083         0.009701         0.004850   \n",
       "\n",
       "         phenotype  \n",
       "0  random.pheno988  \n",
       "1  random.pheno988  \n",
       "2  random.pheno988  \n",
       "3  random.pheno988  \n",
       "4  random.pheno988  "
      ]
     },
     "execution_count": 25,
     "metadata": {},
     "output_type": "execute_result"
    }
   ],
   "source": [
    "dfs.head()"
   ]
  },
  {
   "cell_type": "code",
   "execution_count": 26,
   "id": "97764d1b-af87-46a2-ab78-53df39b0dde3",
   "metadata": {},
   "outputs": [],
   "source": [
    "_tmp = dfs.groupby(\"phenotype\")[\"lv\"].nunique().unique()\n",
    "assert _tmp.shape[0] == 1\n",
    "assert _tmp[0] == N_LVS"
   ]
  },
  {
   "cell_type": "markdown",
   "id": "4c232891-42e5-4685-b015-6ae332164f58",
   "metadata": {},
   "source": [
    "# Mean type I error"
   ]
  },
  {
   "cell_type": "code",
   "execution_count": 27,
   "id": "3426beb7-84a6-4d3d-bdfd-36b4f8cf97bd",
   "metadata": {},
   "outputs": [
    {
     "data": {
      "text/plain": [
       "0.058432624113475176"
      ]
     },
     "execution_count": 27,
     "metadata": {},
     "output_type": "execute_result"
    }
   ],
   "source": [
    "show_prop(dfs)"
   ]
  },
  {
   "cell_type": "markdown",
   "id": "ec45e443-0a39-46a7-85c7-540193a15f25",
   "metadata": {},
   "source": [
    "# QQ-plot"
   ]
  },
  {
   "cell_type": "code",
   "execution_count": 28,
   "id": "de7de0f0-493d-4426-aa14-a330f612407f",
   "metadata": {},
   "outputs": [
    {
     "data": {
      "image/png": "[encoded data removed]",
      "text/plain": [
       "<Figure size 576x576 with 1 Axes>"
      ]
     },
     "metadata": {
      "needs_background": "light"
     },
     "output_type": "display_data"
    }
   ],
   "source": [
    "qqplot_unif(dfs, check_n_lvs=False)"
   ]
  },
  {
   "cell_type": "markdown",
   "id": "6cbc20e3-9d56-441d-bbe2-a7119f9f5d83",
   "metadata": {},
   "source": [
    "# Summary of mean type I error per LV"
   ]
  },
  {
   "cell_type": "code",
   "execution_count": 29,
   "id": "5c799efd-77dc-4955-b5b8-263c65779946",
   "metadata": {},
   "outputs": [],
   "source": [
    "summary_list = []\n",
    "for lv, lv_data in dfs.groupby(\"lv\"):\n",
    "    assert lv_data.shape[0] == N_PHENOTYPES\n",
    "\n",
    "    summary_list.append(\n",
    "        {\n",
    "            \"lv\": lv,\n",
    "            \"1\": get_prop(lv_data[PVALUE_COLUMN], 0.01),\n",
    "            \"5\": get_prop(lv_data[PVALUE_COLUMN], 0.05),\n",
    "            \"10\": get_prop(lv_data[PVALUE_COLUMN], 0.10),\n",
    "        }\n",
    "    )\n",
    "\n",
    "summary_df = pd.DataFrame(summary_list)\n",
    "assert summary_df.shape[0] == N_LVS"
   ]
  },
  {
   "cell_type": "code",
   "execution_count": 30,
   "id": "16a5c34a-0337-4f15-b1ff-4b1bb00997f7",
   "metadata": {},
   "outputs": [
    {
     "data": {
      "text/plain": [
       "(987, 4)"
      ]
     },
     "execution_count": 30,
     "metadata": {},
     "output_type": "execute_result"
    }
   ],
   "source": [
    "summary_df.shape"
   ]
  },
  {
   "cell_type": "code",
   "execution_count": 31,
   "id": "3e1acb4a-00bb-4cea-9b47-9446a9382afe",
   "metadata": {},
   "outputs": [
    {
     "data": {
      "text/html": [
       "<div>\n",
       "<style scoped>\n",
       "    .dataframe tbody tr th:only-of-type {\n",
       "        vertical-align: middle;\n",
       "    }\n",
       "\n",
       "    .dataframe tbody tr th {\n",
       "        vertical-align: top;\n",
       "    }\n",
       "\n",
       "    .dataframe thead th {\n",
       "        text-align: right;\n",
       "    }\n",
       "</style>\n",
       "<table border=\"1\" class=\"dataframe\">\n",
       "  <thead>\n",
       "    <tr style=\"text-align: right;\">\n",
       "      <th></th>\n",
       "      <th>lv</th>\n",
       "      <th>1</th>\n",
       "      <th>5</th>\n",
       "      <th>10</th>\n",
       "    </tr>\n",
       "  </thead>\n",
       "  <tbody>\n",
       "    <tr>\n",
       "      <th>0</th>\n",
       "      <td>LV1</td>\n",
       "      <td>0.007</td>\n",
       "      <td>0.025</td>\n",
       "      <td>0.067</td>\n",
       "    </tr>\n",
       "    <tr>\n",
       "      <th>1</th>\n",
       "      <td>LV10</td>\n",
       "      <td>0.012</td>\n",
       "      <td>0.041</td>\n",
       "      <td>0.079</td>\n",
       "    </tr>\n",
       "    <tr>\n",
       "      <th>2</th>\n",
       "      <td>LV100</td>\n",
       "      <td>0.016</td>\n",
       "      <td>0.051</td>\n",
       "      <td>0.083</td>\n",
       "    </tr>\n",
       "    <tr>\n",
       "      <th>3</th>\n",
       "      <td>LV101</td>\n",
       "      <td>0.018</td>\n",
       "      <td>0.040</td>\n",
       "      <td>0.094</td>\n",
       "    </tr>\n",
       "    <tr>\n",
       "      <th>4</th>\n",
       "      <td>LV102</td>\n",
       "      <td>0.013</td>\n",
       "      <td>0.057</td>\n",
       "      <td>0.083</td>\n",
       "    </tr>\n",
       "  </tbody>\n",
       "</table>\n",
       "</div>"
      ],
      "text/plain": [
       "      lv      1      5     10\n",
       "0    LV1  0.007  0.025  0.067\n",
       "1   LV10  0.012  0.041  0.079\n",
       "2  LV100  0.016  0.051  0.083\n",
       "3  LV101  0.018  0.040  0.094\n",
       "4  LV102  0.013  0.057  0.083"
      ]
     },
     "execution_count": 31,
     "metadata": {},
     "output_type": "execute_result"
    }
   ],
   "source": [
    "summary_df.head()"
   ]
  },
  {
   "cell_type": "code",
   "execution_count": 32,
   "id": "779c4db3-3ed2-413d-8bec-b19a28ce4949",
   "metadata": {},
   "outputs": [
    {
     "data": {
      "text/html": [
       "<div>\n",
       "<style scoped>\n",
       "    .dataframe tbody tr th:only-of-type {\n",
       "        vertical-align: middle;\n",
       "    }\n",
       "\n",
       "    .dataframe tbody tr th {\n",
       "        vertical-align: top;\n",
       "    }\n",
       "\n",
       "    .dataframe thead th {\n",
       "        text-align: right;\n",
       "    }\n",
       "</style>\n",
       "<table border=\"1\" class=\"dataframe\">\n",
       "  <thead>\n",
       "    <tr style=\"text-align: right;\">\n",
       "      <th></th>\n",
       "      <th>1</th>\n",
       "      <th>5</th>\n",
       "      <th>10</th>\n",
       "    </tr>\n",
       "  </thead>\n",
       "  <tbody>\n",
       "    <tr>\n",
       "      <th>count</th>\n",
       "      <td>987.000000</td>\n",
       "      <td>987.000000</td>\n",
       "      <td>987.000000</td>\n",
       "    </tr>\n",
       "    <tr>\n",
       "      <th>mean</th>\n",
       "      <td>0.016133</td>\n",
       "      <td>0.058433</td>\n",
       "      <td>0.105536</td>\n",
       "    </tr>\n",
       "    <tr>\n",
       "      <th>std</th>\n",
       "      <td>0.006577</td>\n",
       "      <td>0.014026</td>\n",
       "      <td>0.019694</td>\n",
       "    </tr>\n",
       "    <tr>\n",
       "      <th>min</th>\n",
       "      <td>0.001000</td>\n",
       "      <td>0.015000</td>\n",
       "      <td>0.053000</td>\n",
       "    </tr>\n",
       "    <tr>\n",
       "      <th>25%</th>\n",
       "      <td>0.012000</td>\n",
       "      <td>0.049000</td>\n",
       "      <td>0.092000</td>\n",
       "    </tr>\n",
       "    <tr>\n",
       "      <th>50%</th>\n",
       "      <td>0.016000</td>\n",
       "      <td>0.058000</td>\n",
       "      <td>0.104000</td>\n",
       "    </tr>\n",
       "    <tr>\n",
       "      <th>75%</th>\n",
       "      <td>0.019000</td>\n",
       "      <td>0.067000</td>\n",
       "      <td>0.118000</td>\n",
       "    </tr>\n",
       "    <tr>\n",
       "      <th>max</th>\n",
       "      <td>0.074000</td>\n",
       "      <td>0.131000</td>\n",
       "      <td>0.190000</td>\n",
       "    </tr>\n",
       "  </tbody>\n",
       "</table>\n",
       "</div>"
      ],
      "text/plain": [
       "                1           5          10\n",
       "count  987.000000  987.000000  987.000000\n",
       "mean     0.016133    0.058433    0.105536\n",
       "std      0.006577    0.014026    0.019694\n",
       "min      0.001000    0.015000    0.053000\n",
       "25%      0.012000    0.049000    0.092000\n",
       "50%      0.016000    0.058000    0.104000\n",
       "75%      0.019000    0.067000    0.118000\n",
       "max      0.074000    0.131000    0.190000"
      ]
     },
     "execution_count": 32,
     "metadata": {},
     "output_type": "execute_result"
    }
   ],
   "source": [
    "summary_df.describe()"
   ]
  },
  {
   "cell_type": "markdown",
   "id": "43daf9dd-7530-4e53-8fc0-305aa78b5be3",
   "metadata": {},
   "source": [
    "## LVs with expected type I error"
   ]
  },
  {
   "cell_type": "code",
   "execution_count": 33,
   "id": "4b22226f-edc7-4af5-8585-e2dbb6fcbe9e",
   "metadata": {},
   "outputs": [
    {
     "data": {
      "text/plain": [
       "(82, 4)"
      ]
     },
     "metadata": {},
     "output_type": "display_data"
    },
    {
     "data": {
      "text/html": [
       "<div>\n",
       "<style scoped>\n",
       "    .dataframe tbody tr th:only-of-type {\n",
       "        vertical-align: middle;\n",
       "    }\n",
       "\n",
       "    .dataframe tbody tr th {\n",
       "        vertical-align: top;\n",
       "    }\n",
       "\n",
       "    .dataframe thead th {\n",
       "        text-align: right;\n",
       "    }\n",
       "</style>\n",
       "<table border=\"1\" class=\"dataframe\">\n",
       "  <thead>\n",
       "    <tr style=\"text-align: right;\">\n",
       "      <th></th>\n",
       "      <th>lv</th>\n",
       "      <th>1</th>\n",
       "      <th>5</th>\n",
       "      <th>10</th>\n",
       "    </tr>\n",
       "  </thead>\n",
       "  <tbody>\n",
       "    <tr>\n",
       "      <th>934</th>\n",
       "      <td>LV940</td>\n",
       "      <td>0.014</td>\n",
       "      <td>0.049</td>\n",
       "      <td>0.086</td>\n",
       "    </tr>\n",
       "    <tr>\n",
       "      <th>578</th>\n",
       "      <td>LV62</td>\n",
       "      <td>0.015</td>\n",
       "      <td>0.049</td>\n",
       "      <td>0.089</td>\n",
       "    </tr>\n",
       "    <tr>\n",
       "      <th>753</th>\n",
       "      <td>LV778</td>\n",
       "      <td>0.010</td>\n",
       "      <td>0.049</td>\n",
       "      <td>0.096</td>\n",
       "    </tr>\n",
       "    <tr>\n",
       "      <th>746</th>\n",
       "      <td>LV771</td>\n",
       "      <td>0.015</td>\n",
       "      <td>0.049</td>\n",
       "      <td>0.098</td>\n",
       "    </tr>\n",
       "    <tr>\n",
       "      <th>386</th>\n",
       "      <td>LV447</td>\n",
       "      <td>0.008</td>\n",
       "      <td>0.049</td>\n",
       "      <td>0.090</td>\n",
       "    </tr>\n",
       "    <tr>\n",
       "      <th>395</th>\n",
       "      <td>LV455</td>\n",
       "      <td>0.016</td>\n",
       "      <td>0.049</td>\n",
       "      <td>0.098</td>\n",
       "    </tr>\n",
       "    <tr>\n",
       "      <th>398</th>\n",
       "      <td>LV458</td>\n",
       "      <td>0.011</td>\n",
       "      <td>0.049</td>\n",
       "      <td>0.085</td>\n",
       "    </tr>\n",
       "    <tr>\n",
       "      <th>257</th>\n",
       "      <td>LV330</td>\n",
       "      <td>0.010</td>\n",
       "      <td>0.049</td>\n",
       "      <td>0.096</td>\n",
       "    </tr>\n",
       "    <tr>\n",
       "      <th>407</th>\n",
       "      <td>LV466</td>\n",
       "      <td>0.012</td>\n",
       "      <td>0.049</td>\n",
       "      <td>0.094</td>\n",
       "    </tr>\n",
       "    <tr>\n",
       "      <th>702</th>\n",
       "      <td>LV731</td>\n",
       "      <td>0.006</td>\n",
       "      <td>0.049</td>\n",
       "      <td>0.081</td>\n",
       "    </tr>\n",
       "    <tr>\n",
       "      <th>693</th>\n",
       "      <td>LV723</td>\n",
       "      <td>0.010</td>\n",
       "      <td>0.049</td>\n",
       "      <td>0.091</td>\n",
       "    </tr>\n",
       "    <tr>\n",
       "      <th>680</th>\n",
       "      <td>LV711</td>\n",
       "      <td>0.015</td>\n",
       "      <td>0.049</td>\n",
       "      <td>0.085</td>\n",
       "    </tr>\n",
       "    <tr>\n",
       "      <th>677</th>\n",
       "      <td>LV709</td>\n",
       "      <td>0.020</td>\n",
       "      <td>0.049</td>\n",
       "      <td>0.103</td>\n",
       "    </tr>\n",
       "    <tr>\n",
       "      <th>657</th>\n",
       "      <td>LV691</td>\n",
       "      <td>0.013</td>\n",
       "      <td>0.049</td>\n",
       "      <td>0.098</td>\n",
       "    </tr>\n",
       "    <tr>\n",
       "      <th>639</th>\n",
       "      <td>LV675</td>\n",
       "      <td>0.011</td>\n",
       "      <td>0.049</td>\n",
       "      <td>0.100</td>\n",
       "    </tr>\n",
       "    <tr>\n",
       "      <th>411</th>\n",
       "      <td>LV47</td>\n",
       "      <td>0.015</td>\n",
       "      <td>0.049</td>\n",
       "      <td>0.082</td>\n",
       "    </tr>\n",
       "    <tr>\n",
       "      <th>254</th>\n",
       "      <td>LV328</td>\n",
       "      <td>0.012</td>\n",
       "      <td>0.049</td>\n",
       "      <td>0.087</td>\n",
       "    </tr>\n",
       "    <tr>\n",
       "      <th>764</th>\n",
       "      <td>LV788</td>\n",
       "      <td>0.012</td>\n",
       "      <td>0.049</td>\n",
       "      <td>0.083</td>\n",
       "    </tr>\n",
       "    <tr>\n",
       "      <th>73</th>\n",
       "      <td>LV165</td>\n",
       "      <td>0.011</td>\n",
       "      <td>0.049</td>\n",
       "      <td>0.084</td>\n",
       "    </tr>\n",
       "    <tr>\n",
       "      <th>916</th>\n",
       "      <td>LV924</td>\n",
       "      <td>0.009</td>\n",
       "      <td>0.049</td>\n",
       "      <td>0.096</td>\n",
       "    </tr>\n",
       "  </tbody>\n",
       "</table>\n",
       "</div>"
      ],
      "text/plain": [
       "        lv      1      5     10\n",
       "934  LV940  0.014  0.049  0.086\n",
       "578   LV62  0.015  0.049  0.089\n",
       "753  LV778  0.010  0.049  0.096\n",
       "746  LV771  0.015  0.049  0.098\n",
       "386  LV447  0.008  0.049  0.090\n",
       "395  LV455  0.016  0.049  0.098\n",
       "398  LV458  0.011  0.049  0.085\n",
       "257  LV330  0.010  0.049  0.096\n",
       "407  LV466  0.012  0.049  0.094\n",
       "702  LV731  0.006  0.049  0.081\n",
       "693  LV723  0.010  0.049  0.091\n",
       "680  LV711  0.015  0.049  0.085\n",
       "677  LV709  0.020  0.049  0.103\n",
       "657  LV691  0.013  0.049  0.098\n",
       "639  LV675  0.011  0.049  0.100\n",
       "411   LV47  0.015  0.049  0.082\n",
       "254  LV328  0.012  0.049  0.087\n",
       "764  LV788  0.012  0.049  0.083\n",
       "73   LV165  0.011  0.049  0.084\n",
       "916  LV924  0.009  0.049  0.096"
      ]
     },
     "metadata": {},
     "output_type": "display_data"
    },
    {
     "data": {
      "text/html": [
       "<div>\n",
       "<style scoped>\n",
       "    .dataframe tbody tr th:only-of-type {\n",
       "        vertical-align: middle;\n",
       "    }\n",
       "\n",
       "    .dataframe tbody tr th {\n",
       "        vertical-align: top;\n",
       "    }\n",
       "\n",
       "    .dataframe thead th {\n",
       "        text-align: right;\n",
       "    }\n",
       "</style>\n",
       "<table border=\"1\" class=\"dataframe\">\n",
       "  <thead>\n",
       "    <tr style=\"text-align: right;\">\n",
       "      <th></th>\n",
       "      <th>lv</th>\n",
       "      <th>1</th>\n",
       "      <th>5</th>\n",
       "      <th>10</th>\n",
       "    </tr>\n",
       "  </thead>\n",
       "  <tbody>\n",
       "    <tr>\n",
       "      <th>11</th>\n",
       "      <td>LV109</td>\n",
       "      <td>0.015</td>\n",
       "      <td>0.051</td>\n",
       "      <td>0.082</td>\n",
       "    </tr>\n",
       "    <tr>\n",
       "      <th>843</th>\n",
       "      <td>LV859</td>\n",
       "      <td>0.016</td>\n",
       "      <td>0.051</td>\n",
       "      <td>0.089</td>\n",
       "    </tr>\n",
       "    <tr>\n",
       "      <th>120</th>\n",
       "      <td>LV207</td>\n",
       "      <td>0.016</td>\n",
       "      <td>0.051</td>\n",
       "      <td>0.100</td>\n",
       "    </tr>\n",
       "    <tr>\n",
       "      <th>225</th>\n",
       "      <td>LV301</td>\n",
       "      <td>0.009</td>\n",
       "      <td>0.051</td>\n",
       "      <td>0.083</td>\n",
       "    </tr>\n",
       "    <tr>\n",
       "      <th>330</th>\n",
       "      <td>LV397</td>\n",
       "      <td>0.011</td>\n",
       "      <td>0.051</td>\n",
       "      <td>0.093</td>\n",
       "    </tr>\n",
       "    <tr>\n",
       "      <th>252</th>\n",
       "      <td>LV326</td>\n",
       "      <td>0.013</td>\n",
       "      <td>0.051</td>\n",
       "      <td>0.089</td>\n",
       "    </tr>\n",
       "    <tr>\n",
       "      <th>787</th>\n",
       "      <td>LV808</td>\n",
       "      <td>0.011</td>\n",
       "      <td>0.051</td>\n",
       "      <td>0.096</td>\n",
       "    </tr>\n",
       "    <tr>\n",
       "      <th>785</th>\n",
       "      <td>LV806</td>\n",
       "      <td>0.012</td>\n",
       "      <td>0.051</td>\n",
       "      <td>0.090</td>\n",
       "    </tr>\n",
       "    <tr>\n",
       "      <th>334</th>\n",
       "      <td>LV40</td>\n",
       "      <td>0.018</td>\n",
       "      <td>0.051</td>\n",
       "      <td>0.098</td>\n",
       "    </tr>\n",
       "    <tr>\n",
       "      <th>754</th>\n",
       "      <td>LV779</td>\n",
       "      <td>0.012</td>\n",
       "      <td>0.051</td>\n",
       "      <td>0.093</td>\n",
       "    </tr>\n",
       "    <tr>\n",
       "      <th>383</th>\n",
       "      <td>LV444</td>\n",
       "      <td>0.020</td>\n",
       "      <td>0.051</td>\n",
       "      <td>0.090</td>\n",
       "    </tr>\n",
       "    <tr>\n",
       "      <th>692</th>\n",
       "      <td>LV722</td>\n",
       "      <td>0.016</td>\n",
       "      <td>0.051</td>\n",
       "      <td>0.113</td>\n",
       "    </tr>\n",
       "    <tr>\n",
       "      <th>676</th>\n",
       "      <td>LV708</td>\n",
       "      <td>0.018</td>\n",
       "      <td>0.051</td>\n",
       "      <td>0.107</td>\n",
       "    </tr>\n",
       "    <tr>\n",
       "      <th>478</th>\n",
       "      <td>LV53</td>\n",
       "      <td>0.015</td>\n",
       "      <td>0.051</td>\n",
       "      <td>0.089</td>\n",
       "    </tr>\n",
       "    <tr>\n",
       "      <th>665</th>\n",
       "      <td>LV699</td>\n",
       "      <td>0.014</td>\n",
       "      <td>0.051</td>\n",
       "      <td>0.110</td>\n",
       "    </tr>\n",
       "    <tr>\n",
       "      <th>491</th>\n",
       "      <td>LV541</td>\n",
       "      <td>0.016</td>\n",
       "      <td>0.051</td>\n",
       "      <td>0.100</td>\n",
       "    </tr>\n",
       "    <tr>\n",
       "      <th>509</th>\n",
       "      <td>LV558</td>\n",
       "      <td>0.014</td>\n",
       "      <td>0.051</td>\n",
       "      <td>0.092</td>\n",
       "    </tr>\n",
       "    <tr>\n",
       "      <th>524</th>\n",
       "      <td>LV571</td>\n",
       "      <td>0.014</td>\n",
       "      <td>0.051</td>\n",
       "      <td>0.086</td>\n",
       "    </tr>\n",
       "    <tr>\n",
       "      <th>821</th>\n",
       "      <td>LV839</td>\n",
       "      <td>0.017</td>\n",
       "      <td>0.051</td>\n",
       "      <td>0.090</td>\n",
       "    </tr>\n",
       "    <tr>\n",
       "      <th>2</th>\n",
       "      <td>LV100</td>\n",
       "      <td>0.016</td>\n",
       "      <td>0.051</td>\n",
       "      <td>0.083</td>\n",
       "    </tr>\n",
       "  </tbody>\n",
       "</table>\n",
       "</div>"
      ],
      "text/plain": [
       "        lv      1      5     10\n",
       "11   LV109  0.015  0.051  0.082\n",
       "843  LV859  0.016  0.051  0.089\n",
       "120  LV207  0.016  0.051  0.100\n",
       "225  LV301  0.009  0.051  0.083\n",
       "330  LV397  0.011  0.051  0.093\n",
       "252  LV326  0.013  0.051  0.089\n",
       "787  LV808  0.011  0.051  0.096\n",
       "785  LV806  0.012  0.051  0.090\n",
       "334   LV40  0.018  0.051  0.098\n",
       "754  LV779  0.012  0.051  0.093\n",
       "383  LV444  0.020  0.051  0.090\n",
       "692  LV722  0.016  0.051  0.113\n",
       "676  LV708  0.018  0.051  0.107\n",
       "478   LV53  0.015  0.051  0.089\n",
       "665  LV699  0.014  0.051  0.110\n",
       "491  LV541  0.016  0.051  0.100\n",
       "509  LV558  0.014  0.051  0.092\n",
       "524  LV571  0.014  0.051  0.086\n",
       "821  LV839  0.017  0.051  0.090\n",
       "2    LV100  0.016  0.051  0.083"
      ]
     },
     "metadata": {},
     "output_type": "display_data"
    }
   ],
   "source": [
    "lvs_expected_error = summary_df[summary_df[\"5\"].between(0.049, 0.051)]\n",
    "display(lvs_expected_error.shape)\n",
    "display(lvs_expected_error.sort_values(\"5\").head(20))\n",
    "display(lvs_expected_error.sort_values(\"5\").tail(20))"
   ]
  },
  {
   "cell_type": "markdown",
   "id": "9dcc030a-74be-4d04-b2b6-654a4443fbd9",
   "metadata": {},
   "source": [
    "## LVs with high type I error"
   ]
  },
  {
   "cell_type": "code",
   "execution_count": 34,
   "id": "31c5f1c6-10d7-4b2a-9429-b59e6ba3c594",
   "metadata": {},
   "outputs": [
    {
     "data": {
      "text/plain": [
       "(411, 4)"
      ]
     },
     "metadata": {},
     "output_type": "display_data"
    },
    {
     "data": {
      "text/html": [
       "<div>\n",
       "<style scoped>\n",
       "    .dataframe tbody tr th:only-of-type {\n",
       "        vertical-align: middle;\n",
       "    }\n",
       "\n",
       "    .dataframe tbody tr th {\n",
       "        vertical-align: top;\n",
       "    }\n",
       "\n",
       "    .dataframe thead th {\n",
       "        text-align: right;\n",
       "    }\n",
       "</style>\n",
       "<table border=\"1\" class=\"dataframe\">\n",
       "  <thead>\n",
       "    <tr style=\"text-align: right;\">\n",
       "      <th></th>\n",
       "      <th>lv</th>\n",
       "      <th>1</th>\n",
       "      <th>5</th>\n",
       "      <th>10</th>\n",
       "    </tr>\n",
       "  </thead>\n",
       "  <tbody>\n",
       "    <tr>\n",
       "      <th>253</th>\n",
       "      <td>LV327</td>\n",
       "      <td>0.031</td>\n",
       "      <td>0.090</td>\n",
       "      <td>0.134</td>\n",
       "    </tr>\n",
       "    <tr>\n",
       "      <th>975</th>\n",
       "      <td>LV978</td>\n",
       "      <td>0.028</td>\n",
       "      <td>0.090</td>\n",
       "      <td>0.148</td>\n",
       "    </tr>\n",
       "    <tr>\n",
       "      <th>151</th>\n",
       "      <td>LV235</td>\n",
       "      <td>0.031</td>\n",
       "      <td>0.091</td>\n",
       "      <td>0.135</td>\n",
       "    </tr>\n",
       "    <tr>\n",
       "      <th>672</th>\n",
       "      <td>LV704</td>\n",
       "      <td>0.021</td>\n",
       "      <td>0.093</td>\n",
       "      <td>0.157</td>\n",
       "    </tr>\n",
       "    <tr>\n",
       "      <th>501</th>\n",
       "      <td>LV550</td>\n",
       "      <td>0.038</td>\n",
       "      <td>0.093</td>\n",
       "      <td>0.148</td>\n",
       "    </tr>\n",
       "    <tr>\n",
       "      <th>632</th>\n",
       "      <td>LV669</td>\n",
       "      <td>0.024</td>\n",
       "      <td>0.094</td>\n",
       "      <td>0.156</td>\n",
       "    </tr>\n",
       "    <tr>\n",
       "      <th>707</th>\n",
       "      <td>LV736</td>\n",
       "      <td>0.025</td>\n",
       "      <td>0.094</td>\n",
       "      <td>0.155</td>\n",
       "    </tr>\n",
       "    <tr>\n",
       "      <th>542</th>\n",
       "      <td>LV588</td>\n",
       "      <td>0.017</td>\n",
       "      <td>0.096</td>\n",
       "      <td>0.155</td>\n",
       "    </tr>\n",
       "    <tr>\n",
       "      <th>417</th>\n",
       "      <td>LV475</td>\n",
       "      <td>0.031</td>\n",
       "      <td>0.097</td>\n",
       "      <td>0.160</td>\n",
       "    </tr>\n",
       "    <tr>\n",
       "      <th>694</th>\n",
       "      <td>LV724</td>\n",
       "      <td>0.032</td>\n",
       "      <td>0.097</td>\n",
       "      <td>0.166</td>\n",
       "    </tr>\n",
       "    <tr>\n",
       "      <th>904</th>\n",
       "      <td>LV913</td>\n",
       "      <td>0.031</td>\n",
       "      <td>0.097</td>\n",
       "      <td>0.140</td>\n",
       "    </tr>\n",
       "    <tr>\n",
       "      <th>796</th>\n",
       "      <td>LV816</td>\n",
       "      <td>0.033</td>\n",
       "      <td>0.103</td>\n",
       "      <td>0.154</td>\n",
       "    </tr>\n",
       "    <tr>\n",
       "      <th>13</th>\n",
       "      <td>LV110</td>\n",
       "      <td>0.052</td>\n",
       "      <td>0.103</td>\n",
       "      <td>0.153</td>\n",
       "    </tr>\n",
       "    <tr>\n",
       "      <th>961</th>\n",
       "      <td>LV965</td>\n",
       "      <td>0.042</td>\n",
       "      <td>0.106</td>\n",
       "      <td>0.161</td>\n",
       "    </tr>\n",
       "    <tr>\n",
       "      <th>99</th>\n",
       "      <td>LV189</td>\n",
       "      <td>0.044</td>\n",
       "      <td>0.111</td>\n",
       "      <td>0.167</td>\n",
       "    </tr>\n",
       "    <tr>\n",
       "      <th>905</th>\n",
       "      <td>LV914</td>\n",
       "      <td>0.041</td>\n",
       "      <td>0.113</td>\n",
       "      <td>0.190</td>\n",
       "    </tr>\n",
       "    <tr>\n",
       "      <th>779</th>\n",
       "      <td>LV800</td>\n",
       "      <td>0.055</td>\n",
       "      <td>0.126</td>\n",
       "      <td>0.176</td>\n",
       "    </tr>\n",
       "    <tr>\n",
       "      <th>389</th>\n",
       "      <td>LV45</td>\n",
       "      <td>0.065</td>\n",
       "      <td>0.126</td>\n",
       "      <td>0.188</td>\n",
       "    </tr>\n",
       "    <tr>\n",
       "      <th>830</th>\n",
       "      <td>LV847</td>\n",
       "      <td>0.068</td>\n",
       "      <td>0.130</td>\n",
       "      <td>0.179</td>\n",
       "    </tr>\n",
       "    <tr>\n",
       "      <th>150</th>\n",
       "      <td>LV234</td>\n",
       "      <td>0.074</td>\n",
       "      <td>0.131</td>\n",
       "      <td>0.165</td>\n",
       "    </tr>\n",
       "  </tbody>\n",
       "</table>\n",
       "</div>"
      ],
      "text/plain": [
       "        lv      1      5     10\n",
       "253  LV327  0.031  0.090  0.134\n",
       "975  LV978  0.028  0.090  0.148\n",
       "151  LV235  0.031  0.091  0.135\n",
       "672  LV704  0.021  0.093  0.157\n",
       "501  LV550  0.038  0.093  0.148\n",
       "632  LV669  0.024  0.094  0.156\n",
       "707  LV736  0.025  0.094  0.155\n",
       "542  LV588  0.017  0.096  0.155\n",
       "417  LV475  0.031  0.097  0.160\n",
       "694  LV724  0.032  0.097  0.166\n",
       "904  LV913  0.031  0.097  0.140\n",
       "796  LV816  0.033  0.103  0.154\n",
       "13   LV110  0.052  0.103  0.153\n",
       "961  LV965  0.042  0.106  0.161\n",
       "99   LV189  0.044  0.111  0.167\n",
       "905  LV914  0.041  0.113  0.190\n",
       "779  LV800  0.055  0.126  0.176\n",
       "389   LV45  0.065  0.126  0.188\n",
       "830  LV847  0.068  0.130  0.179\n",
       "150  LV234  0.074  0.131  0.165"
      ]
     },
     "metadata": {},
     "output_type": "display_data"
    }
   ],
   "source": [
    "lvs_high_error = summary_df[summary_df[\"5\"] > 0.06]\n",
    "display(lvs_high_error.shape)\n",
    "# display(lvs_high_error.sort_values(\"5\").head(20))\n",
    "display(lvs_high_error.sort_values(\"5\").tail(20))"
   ]
  },
  {
   "cell_type": "markdown",
   "id": "36837b6d-b33b-486b-a8ac-ddba2f1bdda6",
   "metadata": {},
   "source": [
    "Many LVs have a mean type I error greater than expected.\n",
    "\n",
    "LV234, LV847 and LV45 are among the ones with the largest mean type I error (up to 0.131).\n",
    "\n",
    "Let's take a look at these."
   ]
  },
  {
   "cell_type": "markdown",
   "id": "30b3db3f-3b33-4bac-a3ea-d728e32d1e6a",
   "metadata": {},
   "source": [
    "# LVs with high mean type I error"
   ]
  },
  {
   "cell_type": "markdown",
   "id": "791970b1-370d-413b-9bbc-ab854ac616e1",
   "metadata": {},
   "source": [
    "## LV234"
   ]
  },
  {
   "cell_type": "code",
   "execution_count": 35,
   "id": "861e6a8c-b891-4eb2-8878-f5505937f6aa",
   "metadata": {},
   "outputs": [],
   "source": [
    "lv_code = \"LV234\""
   ]
  },
  {
   "cell_type": "code",
   "execution_count": 36,
   "id": "ce659542-b79b-409e-9f02-5b9089510870",
   "metadata": {},
   "outputs": [],
   "source": [
    "results = dfs[dfs[\"lv\"] == lv_code]"
   ]
  },
  {
   "cell_type": "code",
   "execution_count": 37,
   "id": "e149155d-a169-4b37-ab1d-aa2c5ff00f38",
   "metadata": {},
   "outputs": [
    {
     "data": {
      "text/plain": [
       "(1000, 7)"
      ]
     },
     "execution_count": 37,
     "metadata": {},
     "output_type": "execute_result"
    }
   ],
   "source": [
    "results.shape"
   ]
  },
  {
   "cell_type": "code",
   "execution_count": 38,
   "id": "9b7db3d4-d922-4dbb-9a06-15a5432fb67b",
   "metadata": {},
   "outputs": [
    {
     "data": {
      "text/html": [
       "<div>\n",
       "<style scoped>\n",
       "    .dataframe tbody tr th:only-of-type {\n",
       "        vertical-align: middle;\n",
       "    }\n",
       "\n",
       "    .dataframe tbody tr th {\n",
       "        vertical-align: top;\n",
       "    }\n",
       "\n",
       "    .dataframe thead th {\n",
       "        text-align: right;\n",
       "    }\n",
       "</style>\n",
       "<table border=\"1\" class=\"dataframe\">\n",
       "  <thead>\n",
       "    <tr style=\"text-align: right;\">\n",
       "      <th></th>\n",
       "      <th>lv</th>\n",
       "      <th>beta</th>\n",
       "      <th>beta_se</th>\n",
       "      <th>t</th>\n",
       "      <th>pvalue_twosided</th>\n",
       "      <th>pvalue_onesided</th>\n",
       "      <th>phenotype</th>\n",
       "    </tr>\n",
       "  </thead>\n",
       "  <tbody>\n",
       "    <tr>\n",
       "      <th>633</th>\n",
       "      <td>LV234</td>\n",
       "      <td>-0.055072</td>\n",
       "      <td>0.124777</td>\n",
       "      <td>-0.441365</td>\n",
       "      <td>0.658964</td>\n",
       "      <td>0.670518</td>\n",
       "      <td>random.pheno988</td>\n",
       "    </tr>\n",
       "    <tr>\n",
       "      <th>1801</th>\n",
       "      <td>LV234</td>\n",
       "      <td>-0.126632</td>\n",
       "      <td>0.124994</td>\n",
       "      <td>-1.013101</td>\n",
       "      <td>0.311050</td>\n",
       "      <td>0.844475</td>\n",
       "      <td>random.pheno589</td>\n",
       "    </tr>\n",
       "    <tr>\n",
       "      <th>2779</th>\n",
       "      <td>LV234</td>\n",
       "      <td>-0.110583</td>\n",
       "      <td>0.124856</td>\n",
       "      <td>-0.885683</td>\n",
       "      <td>0.375822</td>\n",
       "      <td>0.812089</td>\n",
       "      <td>random.pheno385</td>\n",
       "    </tr>\n",
       "    <tr>\n",
       "      <th>3535</th>\n",
       "      <td>LV234</td>\n",
       "      <td>-0.028683</td>\n",
       "      <td>0.124868</td>\n",
       "      <td>-0.229707</td>\n",
       "      <td>0.818327</td>\n",
       "      <td>0.590837</td>\n",
       "      <td>random.pheno5</td>\n",
       "    </tr>\n",
       "    <tr>\n",
       "      <th>4221</th>\n",
       "      <td>LV234</td>\n",
       "      <td>0.070714</td>\n",
       "      <td>0.124988</td>\n",
       "      <td>0.565771</td>\n",
       "      <td>0.571570</td>\n",
       "      <td>0.285785</td>\n",
       "      <td>random.pheno74</td>\n",
       "    </tr>\n",
       "  </tbody>\n",
       "</table>\n",
       "</div>"
      ],
      "text/plain": [
       "         lv      beta   beta_se         t  pvalue_twosided  pvalue_onesided  \\\n",
       "633   LV234 -0.055072  0.124777 -0.441365         0.658964         0.670518   \n",
       "1801  LV234 -0.126632  0.124994 -1.013101         0.311050         0.844475   \n",
       "2779  LV234 -0.110583  0.124856 -0.885683         0.375822         0.812089   \n",
       "3535  LV234 -0.028683  0.124868 -0.229707         0.818327         0.590837   \n",
       "4221  LV234  0.070714  0.124988  0.565771         0.571570         0.285785   \n",
       "\n",
       "            phenotype  \n",
       "633   random.pheno988  \n",
       "1801  random.pheno589  \n",
       "2779  random.pheno385  \n",
       "3535    random.pheno5  \n",
       "4221   random.pheno74  "
      ]
     },
     "execution_count": 38,
     "metadata": {},
     "output_type": "execute_result"
    }
   ],
   "source": [
    "results.head()"
   ]
  },
  {
   "cell_type": "markdown",
   "id": "1a159b50-7023-442f-a16c-d38651118e1e",
   "metadata": {},
   "source": [
    "### Mean type I errors at different thresholds"
   ]
  },
  {
   "cell_type": "code",
   "execution_count": 39,
   "id": "98615fff-336f-44e3-8de5-a82ec0b7a377",
   "metadata": {},
   "outputs": [
    {
     "data": {
      "text/plain": [
       "0.074"
      ]
     },
     "execution_count": 39,
     "metadata": {},
     "output_type": "execute_result"
    }
   ],
   "source": [
    "show_prop(results, 0.01)"
   ]
  },
  {
   "cell_type": "code",
   "execution_count": 40,
   "id": "bb28e493-8151-4aad-a7a1-f0728b24373d",
   "metadata": {},
   "outputs": [
    {
     "data": {
      "text/plain": [
       "0.131"
      ]
     },
     "execution_count": 40,
     "metadata": {},
     "output_type": "execute_result"
    }
   ],
   "source": [
    "show_prop(results, 0.05)"
   ]
  },
  {
   "cell_type": "code",
   "execution_count": 41,
   "id": "91515a72-d558-4f90-839d-0439b7bc8c51",
   "metadata": {},
   "outputs": [
    {
     "data": {
      "text/plain": [
       "0.165"
      ]
     },
     "execution_count": 41,
     "metadata": {},
     "output_type": "execute_result"
    }
   ],
   "source": [
    "show_prop(results, 0.10)"
   ]
  },
  {
   "cell_type": "code",
   "execution_count": 42,
   "id": "049459fd-5782-41ed-9fe7-36d30c016adc",
   "metadata": {},
   "outputs": [
    {
     "data": {
      "text/plain": [
       "0.201"
      ]
     },
     "execution_count": 42,
     "metadata": {},
     "output_type": "execute_result"
    }
   ],
   "source": [
    "show_prop(results, 0.15)"
   ]
  },
  {
   "cell_type": "code",
   "execution_count": 43,
   "id": "d0569d7e-91f1-43f8-82b7-54b927199724",
   "metadata": {},
   "outputs": [
    {
     "data": {
      "text/plain": [
       "0.236"
      ]
     },
     "execution_count": 43,
     "metadata": {},
     "output_type": "execute_result"
    }
   ],
   "source": [
    "show_prop(results, 0.20)"
   ]
  },
  {
   "cell_type": "markdown",
   "id": "11039773-1436-43a3-afed-3fa15845b503",
   "metadata": {},
   "source": [
    "### QQplot"
   ]
  },
  {
   "cell_type": "code",
   "execution_count": 44,
   "id": "0bfbf172-fc72-4c72-819b-e873c8121e4c",
   "metadata": {},
   "outputs": [
    {
     "data": {
      "image/png": "[encoded data removed]",
      "text/plain": [
       "<Figure size 576x576 with 1 Axes>"
      ]
     },
     "metadata": {
      "needs_background": "light"
     },
     "output_type": "display_data"
    }
   ],
   "source": [
    "qqplot_unif(results)"
   ]
  },
  {
   "cell_type": "markdown",
   "id": "2e05302f-2e91-4c24-80ee-68cbff0c4e48",
   "metadata": {},
   "source": [
    "### Top genes in LV"
   ]
  },
  {
   "cell_type": "code",
   "execution_count": 45,
   "id": "5647b054-cb48-49f4-8150-0fb3fc7228ab",
   "metadata": {},
   "outputs": [
    {
     "data": {
      "text/html": [
       "<div>\n",
       "<style scoped>\n",
       "    .dataframe tbody tr th:only-of-type {\n",
       "        vertical-align: middle;\n",
       "    }\n",
       "\n",
       "    .dataframe tbody tr th {\n",
       "        vertical-align: top;\n",
       "    }\n",
       "\n",
       "    .dataframe thead th {\n",
       "        text-align: right;\n",
       "    }\n",
       "</style>\n",
       "<table border=\"1\" class=\"dataframe\">\n",
       "  <thead>\n",
       "    <tr style=\"text-align: right;\">\n",
       "      <th></th>\n",
       "      <th>LV234</th>\n",
       "      <th>gene_band</th>\n",
       "    </tr>\n",
       "  </thead>\n",
       "  <tbody>\n",
       "    <tr>\n",
       "      <th>HIST1H4E</th>\n",
       "      <td>7.379845</td>\n",
       "      <td>6p22.2</td>\n",
       "    </tr>\n",
       "    <tr>\n",
       "      <th>HIST1H3B</th>\n",
       "      <td>7.293635</td>\n",
       "      <td>6p22.2</td>\n",
       "    </tr>\n",
       "    <tr>\n",
       "      <th>HIST4H4</th>\n",
       "      <td>6.929394</td>\n",
       "      <td>12p12.3</td>\n",
       "    </tr>\n",
       "    <tr>\n",
       "      <th>HIST1H3H</th>\n",
       "      <td>6.863106</td>\n",
       "      <td>6p22.1</td>\n",
       "    </tr>\n",
       "    <tr>\n",
       "      <th>HIST1H3D</th>\n",
       "      <td>4.568047</td>\n",
       "      <td>6p22.2</td>\n",
       "    </tr>\n",
       "    <tr>\n",
       "      <th>HIST1H2BC</th>\n",
       "      <td>4.078396</td>\n",
       "      <td>6p22.2</td>\n",
       "    </tr>\n",
       "    <tr>\n",
       "      <th>HIST1H2AE</th>\n",
       "      <td>4.009782</td>\n",
       "      <td>6p22.2</td>\n",
       "    </tr>\n",
       "    <tr>\n",
       "      <th>HIST1H2BF</th>\n",
       "      <td>3.963254</td>\n",
       "      <td>6p22.2</td>\n",
       "    </tr>\n",
       "    <tr>\n",
       "      <th>HIST1H2BD</th>\n",
       "      <td>3.862981</td>\n",
       "      <td>6p22.2</td>\n",
       "    </tr>\n",
       "    <tr>\n",
       "      <th>HIST1H2BK</th>\n",
       "      <td>3.662444</td>\n",
       "      <td>6p22.1</td>\n",
       "    </tr>\n",
       "    <tr>\n",
       "      <th>HIST1H2BO</th>\n",
       "      <td>3.292643</td>\n",
       "      <td>6p22.1</td>\n",
       "    </tr>\n",
       "    <tr>\n",
       "      <th>HIST1H2BH</th>\n",
       "      <td>2.581818</td>\n",
       "      <td>6p22.2</td>\n",
       "    </tr>\n",
       "    <tr>\n",
       "      <th>HIST1H2AC</th>\n",
       "      <td>2.280831</td>\n",
       "      <td>6p22.2</td>\n",
       "    </tr>\n",
       "    <tr>\n",
       "      <th>HIST1H4I</th>\n",
       "      <td>2.063182</td>\n",
       "      <td>6p22.1</td>\n",
       "    </tr>\n",
       "    <tr>\n",
       "      <th>HIST1H2BE</th>\n",
       "      <td>1.912717</td>\n",
       "      <td>6p22.2</td>\n",
       "    </tr>\n",
       "    <tr>\n",
       "      <th>UBTF</th>\n",
       "      <td>1.748020</td>\n",
       "      <td>17q21.31</td>\n",
       "    </tr>\n",
       "    <tr>\n",
       "      <th>HIST1H4D</th>\n",
       "      <td>1.660015</td>\n",
       "      <td>6p22.2</td>\n",
       "    </tr>\n",
       "    <tr>\n",
       "      <th>MAPK3</th>\n",
       "      <td>1.655242</td>\n",
       "      <td>16p11.2</td>\n",
       "    </tr>\n",
       "    <tr>\n",
       "      <th>HIST1H3E</th>\n",
       "      <td>1.586624</td>\n",
       "      <td>6p22.2</td>\n",
       "    </tr>\n",
       "    <tr>\n",
       "      <th>H3F3A</th>\n",
       "      <td>1.558007</td>\n",
       "      <td>1q42.12</td>\n",
       "    </tr>\n",
       "    <tr>\n",
       "      <th>HIST1H2BJ</th>\n",
       "      <td>1.455017</td>\n",
       "      <td>6p22.1</td>\n",
       "    </tr>\n",
       "    <tr>\n",
       "      <th>HIST3H2BB</th>\n",
       "      <td>1.434026</td>\n",
       "      <td>1q42.13</td>\n",
       "    </tr>\n",
       "    <tr>\n",
       "      <th>H3F3B</th>\n",
       "      <td>1.431049</td>\n",
       "      <td>17q25.1</td>\n",
       "    </tr>\n",
       "    <tr>\n",
       "      <th>H2AFX</th>\n",
       "      <td>1.393936</td>\n",
       "      <td>11q23.3</td>\n",
       "    </tr>\n",
       "    <tr>\n",
       "      <th>H2AFZ</th>\n",
       "      <td>1.373988</td>\n",
       "      <td>4q23</td>\n",
       "    </tr>\n",
       "  </tbody>\n",
       "</table>\n",
       "</div>"
      ],
      "text/plain": [
       "              LV234 gene_band\n",
       "HIST1H4E   7.379845    6p22.2\n",
       "HIST1H3B   7.293635    6p22.2\n",
       "HIST4H4    6.929394   12p12.3\n",
       "HIST1H3H   6.863106    6p22.1\n",
       "HIST1H3D   4.568047    6p22.2\n",
       "HIST1H2BC  4.078396    6p22.2\n",
       "HIST1H2AE  4.009782    6p22.2\n",
       "HIST1H2BF  3.963254    6p22.2\n",
       "HIST1H2BD  3.862981    6p22.2\n",
       "HIST1H2BK  3.662444    6p22.1\n",
       "HIST1H2BO  3.292643    6p22.1\n",
       "HIST1H2BH  2.581818    6p22.2\n",
       "HIST1H2AC  2.280831    6p22.2\n",
       "HIST1H4I   2.063182    6p22.1\n",
       "HIST1H2BE  1.912717    6p22.2\n",
       "UBTF       1.748020  17q21.31\n",
       "HIST1H4D   1.660015    6p22.2\n",
       "MAPK3      1.655242   16p11.2\n",
       "HIST1H3E   1.586624    6p22.2\n",
       "H3F3A      1.558007   1q42.12\n",
       "HIST1H2BJ  1.455017    6p22.1\n",
       "HIST3H2BB  1.434026   1q42.13\n",
       "H3F3B      1.431049   17q25.1\n",
       "H2AFX      1.393936   11q23.3\n",
       "H2AFZ      1.373988      4q23"
      ]
     },
     "metadata": {},
     "output_type": "display_data"
    }
   ],
   "source": [
    "lv_genes = get_lv_genes(lv_code)\n",
    "display(lv_genes.head(25))"
   ]
  },
  {
   "cell_type": "code",
   "execution_count": 46,
   "id": "90653ec1-7616-4b7e-b826-80f649750c0a",
   "metadata": {},
   "outputs": [
    {
     "data": {
      "text/plain": [
       "6p22.2      12\n",
       "6p22.1       5\n",
       "12p12.3      1\n",
       "17q21.31     1\n",
       "17q25.1      1\n",
       "1q42.12      1\n",
       "1q42.13      1\n",
       "11q23.3      1\n",
       "4q23         1\n",
       "16p11.2      1\n",
       "Name: gene_band, dtype: int64"
      ]
     },
     "execution_count": 46,
     "metadata": {},
     "output_type": "execute_result"
    }
   ],
   "source": [
    "# see bands of top genes\n",
    "lv_genes.head(25)[\"gene_band\"].value_counts().head(10)"
   ]
  },
  {
   "cell_type": "markdown",
   "id": "67dba25f-6e15-4725-a500-4bd94e817cc9",
   "metadata": {},
   "source": [
    "**Note**: top genes from the same band."
   ]
  },
  {
   "cell_type": "code",
   "execution_count": 47,
   "id": "1a14e60a-7da6-4a30-be7e-9a6860e9237e",
   "metadata": {},
   "outputs": [],
   "source": [
    "# take a look at all genes with non-zero weight\n",
    "lv_genes_nonzero_weight = lv_genes[lv_genes[lv_code] > 0]"
   ]
  },
  {
   "cell_type": "code",
   "execution_count": 48,
   "id": "6d91c06a-1790-44e4-8b57-16b1662db0a6",
   "metadata": {},
   "outputs": [
    {
     "data": {
      "text/plain": [
       "(1756, 2)"
      ]
     },
     "execution_count": 48,
     "metadata": {},
     "output_type": "execute_result"
    }
   ],
   "source": [
    "# how many genes have non-zero weight?\n",
    "lv_genes_nonzero_weight.shape"
   ]
  },
  {
   "cell_type": "code",
   "execution_count": 49,
   "id": "5b4d0d09-6211-4f60-bb44-85818633f5b0",
   "metadata": {},
   "outputs": [
    {
     "data": {
      "text/plain": [
       "19q13.2     22\n",
       "16p13.3     21\n",
       "3p21.31     21\n",
       "19p13.2     20\n",
       "19p13.3     17\n",
       "6p22.2      17\n",
       "17p13.1     16\n",
       "12q13.13    16\n",
       "17q25.3     14\n",
       "19q13.43    13\n",
       "Name: gene_band, dtype: int64"
      ]
     },
     "execution_count": 49,
     "metadata": {},
     "output_type": "execute_result"
    }
   ],
   "source": [
    "# how are bands distributed among zero weighted genes?\n",
    "lv_genes_nonzero_weight[\"gene_band\"].value_counts().head(10)"
   ]
  },
  {
   "cell_type": "code",
   "execution_count": 50,
   "id": "2c36e7d1-612e-40c2-b7f1-decda85d9f95",
   "metadata": {},
   "outputs": [
    {
     "data": {
      "image/png": "[encoded data removed]",
      "text/plain": [
       "<Figure size 1008x504 with 1 Axes>"
      ]
     },
     "metadata": {
      "needs_background": "light"
     },
     "output_type": "display_data"
    }
   ],
   "source": [
    "# distribution of amount of bands in LV\n",
    "g = sns.displot(lv_genes_nonzero_weight[\"gene_band\"].value_counts(), height=7, aspect=2)"
   ]
  },
  {
   "cell_type": "code",
   "execution_count": 51,
   "id": "a03ae564-55a5-4d4c-b838-9f7b7e083e24",
   "metadata": {},
   "outputs": [
    {
     "data": {
      "image/png": "[encoded data removed]",
      "text/plain": [
       "<Figure size 1008x504 with 1 Axes>"
      ]
     },
     "metadata": {
      "needs_background": "light"
     },
     "output_type": "display_data"
    }
   ],
   "source": [
    "# distribution of weights in LV\n",
    "g = sns.displot(lv_genes[lv_genes[lv_code] > 0][lv_code], height=7, aspect=2)"
   ]
  },
  {
   "cell_type": "markdown",
   "id": "3c610269-f16c-4b3e-9e8d-e11e69554214",
   "metadata": {},
   "source": [
    "## LV847"
   ]
  },
  {
   "cell_type": "code",
   "execution_count": 52,
   "id": "eb51399e-47de-44c5-84f5-70f0ca709204",
   "metadata": {},
   "outputs": [],
   "source": [
    "lv_code = \"LV847\""
   ]
  },
  {
   "cell_type": "code",
   "execution_count": 53,
   "id": "282b7e09-41c8-49a5-8b2c-a650ea4eaceb",
   "metadata": {},
   "outputs": [],
   "source": [
    "results = dfs[dfs[\"lv\"] == lv_code]"
   ]
  },
  {
   "cell_type": "code",
   "execution_count": 54,
   "id": "8f39bc48-43c1-47e3-956d-4abff3f72ce2",
   "metadata": {},
   "outputs": [
    {
     "data": {
      "text/plain": [
       "(1000, 7)"
      ]
     },
     "execution_count": 54,
     "metadata": {},
     "output_type": "execute_result"
    }
   ],
   "source": [
    "results.shape"
   ]
  },
  {
   "cell_type": "code",
   "execution_count": 55,
   "id": "36e55730-d3d4-47d2-9b7f-a88b19f4dee1",
   "metadata": {},
   "outputs": [
    {
     "data": {
      "text/html": [
       "<div>\n",
       "<style scoped>\n",
       "    .dataframe tbody tr th:only-of-type {\n",
       "        vertical-align: middle;\n",
       "    }\n",
       "\n",
       "    .dataframe tbody tr th {\n",
       "        vertical-align: top;\n",
       "    }\n",
       "\n",
       "    .dataframe thead th {\n",
       "        text-align: right;\n",
       "    }\n",
       "</style>\n",
       "<table border=\"1\" class=\"dataframe\">\n",
       "  <thead>\n",
       "    <tr style=\"text-align: right;\">\n",
       "      <th></th>\n",
       "      <th>lv</th>\n",
       "      <th>beta</th>\n",
       "      <th>beta_se</th>\n",
       "      <th>t</th>\n",
       "      <th>pvalue_twosided</th>\n",
       "      <th>pvalue_onesided</th>\n",
       "      <th>phenotype</th>\n",
       "    </tr>\n",
       "  </thead>\n",
       "  <tbody>\n",
       "    <tr>\n",
       "      <th>472</th>\n",
       "      <td>LV847</td>\n",
       "      <td>-0.010455</td>\n",
       "      <td>0.124795</td>\n",
       "      <td>-0.083778</td>\n",
       "      <td>0.933235</td>\n",
       "      <td>0.533382</td>\n",
       "      <td>random.pheno988</td>\n",
       "    </tr>\n",
       "    <tr>\n",
       "      <th>1470</th>\n",
       "      <td>LV847</td>\n",
       "      <td>-0.009900</td>\n",
       "      <td>0.125021</td>\n",
       "      <td>-0.079190</td>\n",
       "      <td>0.936884</td>\n",
       "      <td>0.531558</td>\n",
       "      <td>random.pheno589</td>\n",
       "    </tr>\n",
       "    <tr>\n",
       "      <th>2678</th>\n",
       "      <td>LV847</td>\n",
       "      <td>-0.072950</td>\n",
       "      <td>0.124877</td>\n",
       "      <td>-0.584174</td>\n",
       "      <td>0.559124</td>\n",
       "      <td>0.720438</td>\n",
       "      <td>random.pheno385</td>\n",
       "    </tr>\n",
       "    <tr>\n",
       "      <th>3408</th>\n",
       "      <td>LV847</td>\n",
       "      <td>0.011754</td>\n",
       "      <td>0.124885</td>\n",
       "      <td>0.094115</td>\n",
       "      <td>0.925020</td>\n",
       "      <td>0.462510</td>\n",
       "      <td>random.pheno5</td>\n",
       "    </tr>\n",
       "    <tr>\n",
       "      <th>4330</th>\n",
       "      <td>LV847</td>\n",
       "      <td>0.025660</td>\n",
       "      <td>0.125007</td>\n",
       "      <td>0.205269</td>\n",
       "      <td>0.837368</td>\n",
       "      <td>0.418684</td>\n",
       "      <td>random.pheno74</td>\n",
       "    </tr>\n",
       "  </tbody>\n",
       "</table>\n",
       "</div>"
      ],
      "text/plain": [
       "         lv      beta   beta_se         t  pvalue_twosided  pvalue_onesided  \\\n",
       "472   LV847 -0.010455  0.124795 -0.083778         0.933235         0.533382   \n",
       "1470  LV847 -0.009900  0.125021 -0.079190         0.936884         0.531558   \n",
       "2678  LV847 -0.072950  0.124877 -0.584174         0.559124         0.720438   \n",
       "3408  LV847  0.011754  0.124885  0.094115         0.925020         0.462510   \n",
       "4330  LV847  0.025660  0.125007  0.205269         0.837368         0.418684   \n",
       "\n",
       "            phenotype  \n",
       "472   random.pheno988  \n",
       "1470  random.pheno589  \n",
       "2678  random.pheno385  \n",
       "3408    random.pheno5  \n",
       "4330   random.pheno74  "
      ]
     },
     "execution_count": 55,
     "metadata": {},
     "output_type": "execute_result"
    }
   ],
   "source": [
    "results.head()"
   ]
  },
  {
   "cell_type": "markdown",
   "id": "218b336d-9357-4bc2-b81b-318601466b7b",
   "metadata": {},
   "source": [
    "### Mean type I errors at different thresholds"
   ]
  },
  {
   "cell_type": "code",
   "execution_count": 56,
   "id": "566a4147-98dd-4dc7-a50b-8d9ae9f0f2dc",
   "metadata": {},
   "outputs": [
    {
     "data": {
      "text/plain": [
       "0.068"
      ]
     },
     "execution_count": 56,
     "metadata": {},
     "output_type": "execute_result"
    }
   ],
   "source": [
    "show_prop(results, 0.01)"
   ]
  },
  {
   "cell_type": "code",
   "execution_count": 57,
   "id": "9a26401d-5d9f-4a5b-9404-a995acf31fa9",
   "metadata": {},
   "outputs": [
    {
     "data": {
      "text/plain": [
       "0.13"
      ]
     },
     "execution_count": 57,
     "metadata": {},
     "output_type": "execute_result"
    }
   ],
   "source": [
    "show_prop(results, 0.05)"
   ]
  },
  {
   "cell_type": "code",
   "execution_count": 58,
   "id": "22b0b9fd-7b84-4e9c-abaf-ccdb93413165",
   "metadata": {},
   "outputs": [
    {
     "data": {
      "text/plain": [
       "0.179"
      ]
     },
     "execution_count": 58,
     "metadata": {},
     "output_type": "execute_result"
    }
   ],
   "source": [
    "show_prop(results, 0.10)"
   ]
  },
  {
   "cell_type": "code",
   "execution_count": 59,
   "id": "4e1299c0-a344-4d3b-9e85-0f8641bd5f05",
   "metadata": {},
   "outputs": [
    {
     "data": {
      "text/plain": [
       "0.218"
      ]
     },
     "execution_count": 59,
     "metadata": {},
     "output_type": "execute_result"
    }
   ],
   "source": [
    "show_prop(results, 0.15)"
   ]
  },
  {
   "cell_type": "code",
   "execution_count": 60,
   "id": "6e6a7323-cf20-469a-9b68-3e022545bb1e",
   "metadata": {},
   "outputs": [
    {
     "data": {
      "text/plain": [
       "0.266"
      ]
     },
     "execution_count": 60,
     "metadata": {},
     "output_type": "execute_result"
    }
   ],
   "source": [
    "show_prop(results, 0.20)"
   ]
  },
  {
   "cell_type": "markdown",
   "id": "189abecc-8690-4a28-b780-b73f981a980a",
   "metadata": {},
   "source": [
    "### QQplot"
   ]
  },
  {
   "cell_type": "code",
   "execution_count": 61,
   "id": "d1cddd29-573d-48ab-bb14-1309a613083e",
   "metadata": {},
   "outputs": [
    {
     "data": {
      "image/png": "[encoded data removed]",
      "text/plain": [
       "<Figure size 576x576 with 1 Axes>"
      ]
     },
     "metadata": {
      "needs_background": "light"
     },
     "output_type": "display_data"
    }
   ],
   "source": [
    "qqplot_unif(results)"
   ]
  },
  {
   "cell_type": "markdown",
   "id": "153befc3-3c09-4984-8d5c-b15459c46cf7",
   "metadata": {},
   "source": [
    "### Top genes in LV"
   ]
  },
  {
   "cell_type": "code",
   "execution_count": 62,
   "id": "afed7ae4-e63c-489c-a584-8439c7f6658d",
   "metadata": {},
   "outputs": [
    {
     "data": {
      "text/html": [
       "<div>\n",
       "<style scoped>\n",
       "    .dataframe tbody tr th:only-of-type {\n",
       "        vertical-align: middle;\n",
       "    }\n",
       "\n",
       "    .dataframe tbody tr th {\n",
       "        vertical-align: top;\n",
       "    }\n",
       "\n",
       "    .dataframe thead th {\n",
       "        text-align: right;\n",
       "    }\n",
       "</style>\n",
       "<table border=\"1\" class=\"dataframe\">\n",
       "  <thead>\n",
       "    <tr style=\"text-align: right;\">\n",
       "      <th></th>\n",
       "      <th>LV847</th>\n",
       "      <th>gene_band</th>\n",
       "    </tr>\n",
       "  </thead>\n",
       "  <tbody>\n",
       "    <tr>\n",
       "      <th>HIST1H3D</th>\n",
       "      <td>6.805370</td>\n",
       "      <td>6p22.2</td>\n",
       "    </tr>\n",
       "    <tr>\n",
       "      <th>HIST1H3H</th>\n",
       "      <td>6.276783</td>\n",
       "      <td>6p22.1</td>\n",
       "    </tr>\n",
       "    <tr>\n",
       "      <th>HIST1H3B</th>\n",
       "      <td>6.099625</td>\n",
       "      <td>6p22.2</td>\n",
       "    </tr>\n",
       "    <tr>\n",
       "      <th>HIST1H4E</th>\n",
       "      <td>5.971181</td>\n",
       "      <td>6p22.2</td>\n",
       "    </tr>\n",
       "    <tr>\n",
       "      <th>HIST4H4</th>\n",
       "      <td>5.431832</td>\n",
       "      <td>12p12.3</td>\n",
       "    </tr>\n",
       "    <tr>\n",
       "      <th>HIST1H2BH</th>\n",
       "      <td>5.150647</td>\n",
       "      <td>6p22.2</td>\n",
       "    </tr>\n",
       "    <tr>\n",
       "      <th>HIST1H2AE</th>\n",
       "      <td>4.324334</td>\n",
       "      <td>6p22.2</td>\n",
       "    </tr>\n",
       "    <tr>\n",
       "      <th>HIST1H2BN</th>\n",
       "      <td>4.269944</td>\n",
       "      <td>6p22.1</td>\n",
       "    </tr>\n",
       "    <tr>\n",
       "      <th>HIST1H2BE</th>\n",
       "      <td>4.258760</td>\n",
       "      <td>6p22.2</td>\n",
       "    </tr>\n",
       "    <tr>\n",
       "      <th>HIST1H2AC</th>\n",
       "      <td>4.046811</td>\n",
       "      <td>6p22.2</td>\n",
       "    </tr>\n",
       "    <tr>\n",
       "      <th>HIST1H2BJ</th>\n",
       "      <td>3.487055</td>\n",
       "      <td>6p22.1</td>\n",
       "    </tr>\n",
       "    <tr>\n",
       "      <th>HIST1H2AD</th>\n",
       "      <td>2.924400</td>\n",
       "      <td>6p22.2</td>\n",
       "    </tr>\n",
       "    <tr>\n",
       "      <th>HIST1H2BG</th>\n",
       "      <td>2.792196</td>\n",
       "      <td>6p22.2</td>\n",
       "    </tr>\n",
       "    <tr>\n",
       "      <th>HIST1H2AG</th>\n",
       "      <td>2.789826</td>\n",
       "      <td>6p22.1</td>\n",
       "    </tr>\n",
       "    <tr>\n",
       "      <th>HIST1H4H</th>\n",
       "      <td>2.607986</td>\n",
       "      <td>6p22.2</td>\n",
       "    </tr>\n",
       "    <tr>\n",
       "      <th>HIST1H4D</th>\n",
       "      <td>2.574208</td>\n",
       "      <td>6p22.2</td>\n",
       "    </tr>\n",
       "    <tr>\n",
       "      <th>HIST1H3E</th>\n",
       "      <td>1.863616</td>\n",
       "      <td>6p22.2</td>\n",
       "    </tr>\n",
       "    <tr>\n",
       "      <th>HIST1H1E</th>\n",
       "      <td>1.478541</td>\n",
       "      <td>6p22.2</td>\n",
       "    </tr>\n",
       "    <tr>\n",
       "      <th>HIST3H2BB</th>\n",
       "      <td>1.445837</td>\n",
       "      <td>1q42.13</td>\n",
       "    </tr>\n",
       "    <tr>\n",
       "      <th>HIST1H1C</th>\n",
       "      <td>1.430494</td>\n",
       "      <td>6p22.2</td>\n",
       "    </tr>\n",
       "    <tr>\n",
       "      <th>HIST1H4I</th>\n",
       "      <td>1.415225</td>\n",
       "      <td>6p22.1</td>\n",
       "    </tr>\n",
       "    <tr>\n",
       "      <th>HIST3H2A</th>\n",
       "      <td>1.410849</td>\n",
       "      <td>1q42.13</td>\n",
       "    </tr>\n",
       "    <tr>\n",
       "      <th>HIST1H1D</th>\n",
       "      <td>1.204667</td>\n",
       "      <td>6p22.2</td>\n",
       "    </tr>\n",
       "    <tr>\n",
       "      <th>H3F3B</th>\n",
       "      <td>1.137358</td>\n",
       "      <td>17q25.1</td>\n",
       "    </tr>\n",
       "    <tr>\n",
       "      <th>H2AFX</th>\n",
       "      <td>1.117481</td>\n",
       "      <td>11q23.3</td>\n",
       "    </tr>\n",
       "  </tbody>\n",
       "</table>\n",
       "</div>"
      ],
      "text/plain": [
       "              LV847 gene_band\n",
       "HIST1H3D   6.805370    6p22.2\n",
       "HIST1H3H   6.276783    6p22.1\n",
       "HIST1H3B   6.099625    6p22.2\n",
       "HIST1H4E   5.971181    6p22.2\n",
       "HIST4H4    5.431832   12p12.3\n",
       "HIST1H2BH  5.150647    6p22.2\n",
       "HIST1H2AE  4.324334    6p22.2\n",
       "HIST1H2BN  4.269944    6p22.1\n",
       "HIST1H2BE  4.258760    6p22.2\n",
       "HIST1H2AC  4.046811    6p22.2\n",
       "HIST1H2BJ  3.487055    6p22.1\n",
       "HIST1H2AD  2.924400    6p22.2\n",
       "HIST1H2BG  2.792196    6p22.2\n",
       "HIST1H2AG  2.789826    6p22.1\n",
       "HIST1H4H   2.607986    6p22.2\n",
       "HIST1H4D   2.574208    6p22.2\n",
       "HIST1H3E   1.863616    6p22.2\n",
       "HIST1H1E   1.478541    6p22.2\n",
       "HIST3H2BB  1.445837   1q42.13\n",
       "HIST1H1C   1.430494    6p22.2\n",
       "HIST1H4I   1.415225    6p22.1\n",
       "HIST3H2A   1.410849   1q42.13\n",
       "HIST1H1D   1.204667    6p22.2\n",
       "H3F3B      1.137358   17q25.1\n",
       "H2AFX      1.117481   11q23.3"
      ]
     },
     "metadata": {},
     "output_type": "display_data"
    }
   ],
   "source": [
    "lv_genes = get_lv_genes(lv_code)\n",
    "display(lv_genes.head(25))"
   ]
  },
  {
   "cell_type": "code",
   "execution_count": 63,
   "id": "53795dbf-ecb2-4e0c-bb52-972e1ec721a3",
   "metadata": {},
   "outputs": [
    {
     "data": {
      "text/plain": [
       "6p22.2     15\n",
       "6p22.1      5\n",
       "1q42.13     2\n",
       "11q23.3     1\n",
       "17q25.1     1\n",
       "12p12.3     1\n",
       "17q23.2     0\n",
       "18q12.2     0\n",
       "18q12.1     0\n",
       "18q11.2     0\n",
       "Name: gene_band, dtype: int64"
      ]
     },
     "execution_count": 63,
     "metadata": {},
     "output_type": "execute_result"
    }
   ],
   "source": [
    "# see bands of top genes\n",
    "lv_genes.head(25)[\"gene_band\"].value_counts().head(10)"
   ]
  },
  {
   "cell_type": "markdown",
   "id": "4d320e1f-3747-4e6d-b411-60e42fa653bf",
   "metadata": {},
   "source": [
    "**Note**: same as LV234"
   ]
  },
  {
   "cell_type": "code",
   "execution_count": 64,
   "id": "92678126-f9e5-4b54-b4f2-8f1f32107f4c",
   "metadata": {},
   "outputs": [],
   "source": [
    "# take a look at all genes with non-zero weight\n",
    "lv_genes_nonzero_weight = lv_genes[lv_genes[lv_code] > 0]"
   ]
  },
  {
   "cell_type": "code",
   "execution_count": 65,
   "id": "58f6d647-1c29-403a-9f32-1785043755c1",
   "metadata": {},
   "outputs": [
    {
     "data": {
      "text/plain": [
       "(1434, 2)"
      ]
     },
     "execution_count": 65,
     "metadata": {},
     "output_type": "execute_result"
    }
   ],
   "source": [
    "# how many genes have non-zero weight?\n",
    "lv_genes_nonzero_weight.shape"
   ]
  },
  {
   "cell_type": "code",
   "execution_count": 66,
   "id": "64949787-e6a6-4b9c-9e8c-b024a5a6c405",
   "metadata": {},
   "outputs": [
    {
     "data": {
      "text/plain": [
       "19p13.2     20\n",
       "19p13.3     18\n",
       "2q35        16\n",
       "6p21.33     16\n",
       "19q13.42    16\n",
       "16p13.3     16\n",
       "6p22.2      15\n",
       "19q13.33    14\n",
       "3p21.31     14\n",
       "19q13.2     13\n",
       "Name: gene_band, dtype: int64"
      ]
     },
     "execution_count": 66,
     "metadata": {},
     "output_type": "execute_result"
    }
   ],
   "source": [
    "# how are bands distributed among zero weighted genes?\n",
    "lv_genes_nonzero_weight[\"gene_band\"].value_counts().head(10)"
   ]
  },
  {
   "cell_type": "code",
   "execution_count": 67,
   "id": "b486db14-6190-4d85-925f-823a6f4f20a3",
   "metadata": {},
   "outputs": [
    {
     "data": {
      "image/png": "[encoded data removed]",
      "text/plain": [
       "<Figure size 1008x504 with 1 Axes>"
      ]
     },
     "metadata": {
      "needs_background": "light"
     },
     "output_type": "display_data"
    }
   ],
   "source": [
    "# distribution of amount of bands in LV\n",
    "g = sns.displot(lv_genes_nonzero_weight[\"gene_band\"].value_counts(), height=7, aspect=2)"
   ]
  },
  {
   "cell_type": "code",
   "execution_count": 68,
   "id": "4021096e-a355-477c-b864-2326c2de38ee",
   "metadata": {},
   "outputs": [
    {
     "data": {
      "image/png": "[encoded data removed]",
      "text/plain": [
       "<Figure size 1008x504 with 1 Axes>"
      ]
     },
     "metadata": {
      "needs_background": "light"
     },
     "output_type": "display_data"
    }
   ],
   "source": [
    "# distribution of weights in LV\n",
    "g = sns.displot(lv_genes[lv_genes[lv_code] > 0][lv_code], height=7, aspect=2)"
   ]
  },
  {
   "cell_type": "markdown",
   "id": "dbcaad33-5b8f-4f2d-a28e-edb1504724e9",
   "metadata": {},
   "source": [
    "## LV45"
   ]
  },
  {
   "cell_type": "code",
   "execution_count": 69,
   "id": "d0b7fd18-4d4b-4917-9768-0f19a7c698d7",
   "metadata": {},
   "outputs": [],
   "source": [
    "lv_code = \"LV45\""
   ]
  },
  {
   "cell_type": "code",
   "execution_count": 70,
   "id": "e1ff4bfa-280a-465a-ab83-1cc2bc42ff96",
   "metadata": {},
   "outputs": [],
   "source": [
    "results = dfs[dfs[\"lv\"] == lv_code]"
   ]
  },
  {
   "cell_type": "code",
   "execution_count": 71,
   "id": "d3038212-51a0-437c-80ec-cc6b919f1e7f",
   "metadata": {},
   "outputs": [
    {
     "data": {
      "text/plain": [
       "(1000, 7)"
      ]
     },
     "execution_count": 71,
     "metadata": {},
     "output_type": "execute_result"
    }
   ],
   "source": [
    "results.shape"
   ]
  },
  {
   "cell_type": "code",
   "execution_count": 72,
   "id": "2070d4d7-993a-443e-a164-b296c592fc7b",
   "metadata": {},
   "outputs": [
    {
     "data": {
      "text/html": [
       "<div>\n",
       "<style scoped>\n",
       "    .dataframe tbody tr th:only-of-type {\n",
       "        vertical-align: middle;\n",
       "    }\n",
       "\n",
       "    .dataframe tbody tr th {\n",
       "        vertical-align: top;\n",
       "    }\n",
       "\n",
       "    .dataframe thead th {\n",
       "        text-align: right;\n",
       "    }\n",
       "</style>\n",
       "<table border=\"1\" class=\"dataframe\">\n",
       "  <thead>\n",
       "    <tr style=\"text-align: right;\">\n",
       "      <th></th>\n",
       "      <th>lv</th>\n",
       "      <th>beta</th>\n",
       "      <th>beta_se</th>\n",
       "      <th>t</th>\n",
       "      <th>pvalue_twosided</th>\n",
       "      <th>pvalue_onesided</th>\n",
       "      <th>phenotype</th>\n",
       "    </tr>\n",
       "  </thead>\n",
       "  <tbody>\n",
       "    <tr>\n",
       "      <th>930</th>\n",
       "      <td>LV45</td>\n",
       "      <td>-0.197629</td>\n",
       "      <td>0.124679</td>\n",
       "      <td>-1.585110</td>\n",
       "      <td>0.112991</td>\n",
       "      <td>0.943505</td>\n",
       "      <td>random.pheno988</td>\n",
       "    </tr>\n",
       "    <tr>\n",
       "      <th>1328</th>\n",
       "      <td>LV45</td>\n",
       "      <td>0.041218</td>\n",
       "      <td>0.124927</td>\n",
       "      <td>0.329933</td>\n",
       "      <td>0.741462</td>\n",
       "      <td>0.370731</td>\n",
       "      <td>random.pheno589</td>\n",
       "    </tr>\n",
       "    <tr>\n",
       "      <th>2193</th>\n",
       "      <td>LV45</td>\n",
       "      <td>0.091776</td>\n",
       "      <td>0.124783</td>\n",
       "      <td>0.735484</td>\n",
       "      <td>0.462072</td>\n",
       "      <td>0.231036</td>\n",
       "      <td>random.pheno385</td>\n",
       "    </tr>\n",
       "    <tr>\n",
       "      <th>3494</th>\n",
       "      <td>LV45</td>\n",
       "      <td>-0.017077</td>\n",
       "      <td>0.124792</td>\n",
       "      <td>-0.136841</td>\n",
       "      <td>0.891161</td>\n",
       "      <td>0.554420</td>\n",
       "      <td>random.pheno5</td>\n",
       "    </tr>\n",
       "    <tr>\n",
       "      <th>4381</th>\n",
       "      <td>LV45</td>\n",
       "      <td>0.010845</td>\n",
       "      <td>0.124915</td>\n",
       "      <td>0.086819</td>\n",
       "      <td>0.930818</td>\n",
       "      <td>0.465409</td>\n",
       "      <td>random.pheno74</td>\n",
       "    </tr>\n",
       "  </tbody>\n",
       "</table>\n",
       "</div>"
      ],
      "text/plain": [
       "        lv      beta   beta_se         t  pvalue_twosided  pvalue_onesided  \\\n",
       "930   LV45 -0.197629  0.124679 -1.585110         0.112991         0.943505   \n",
       "1328  LV45  0.041218  0.124927  0.329933         0.741462         0.370731   \n",
       "2193  LV45  0.091776  0.124783  0.735484         0.462072         0.231036   \n",
       "3494  LV45 -0.017077  0.124792 -0.136841         0.891161         0.554420   \n",
       "4381  LV45  0.010845  0.124915  0.086819         0.930818         0.465409   \n",
       "\n",
       "            phenotype  \n",
       "930   random.pheno988  \n",
       "1328  random.pheno589  \n",
       "2193  random.pheno385  \n",
       "3494    random.pheno5  \n",
       "4381   random.pheno74  "
      ]
     },
     "execution_count": 72,
     "metadata": {},
     "output_type": "execute_result"
    }
   ],
   "source": [
    "results.head()"
   ]
  },
  {
   "cell_type": "markdown",
   "id": "9b3dea75-6e92-4e12-87cd-0b15c86dce48",
   "metadata": {},
   "source": [
    "### Mean type I errors at different thresholds"
   ]
  },
  {
   "cell_type": "code",
   "execution_count": 73,
   "id": "b7717344-7de4-480e-9844-fe76c475987d",
   "metadata": {},
   "outputs": [
    {
     "data": {
      "text/plain": [
       "0.065"
      ]
     },
     "execution_count": 73,
     "metadata": {},
     "output_type": "execute_result"
    }
   ],
   "source": [
    "show_prop(results, 0.01)"
   ]
  },
  {
   "cell_type": "code",
   "execution_count": 74,
   "id": "b01b57ec-d4c4-4174-bef4-1aef9953c378",
   "metadata": {},
   "outputs": [
    {
     "data": {
      "text/plain": [
       "0.126"
      ]
     },
     "execution_count": 74,
     "metadata": {},
     "output_type": "execute_result"
    }
   ],
   "source": [
    "show_prop(results, 0.05)"
   ]
  },
  {
   "cell_type": "code",
   "execution_count": 75,
   "id": "37632ecd-3a8b-4385-bd62-409f76e04dfe",
   "metadata": {},
   "outputs": [
    {
     "data": {
      "text/plain": [
       "0.188"
      ]
     },
     "execution_count": 75,
     "metadata": {},
     "output_type": "execute_result"
    }
   ],
   "source": [
    "show_prop(results, 0.10)"
   ]
  },
  {
   "cell_type": "code",
   "execution_count": 76,
   "id": "252001e5-4415-47e9-be83-389a619de686",
   "metadata": {},
   "outputs": [
    {
     "data": {
      "text/plain": [
       "0.228"
      ]
     },
     "execution_count": 76,
     "metadata": {},
     "output_type": "execute_result"
    }
   ],
   "source": [
    "show_prop(results, 0.15)"
   ]
  },
  {
   "cell_type": "code",
   "execution_count": 77,
   "id": "e4668836-17bb-4253-8ef3-a637b26029f8",
   "metadata": {},
   "outputs": [
    {
     "data": {
      "text/plain": [
       "0.272"
      ]
     },
     "execution_count": 77,
     "metadata": {},
     "output_type": "execute_result"
    }
   ],
   "source": [
    "show_prop(results, 0.20)"
   ]
  },
  {
   "cell_type": "markdown",
   "id": "25966a90-ff90-4db2-a574-3f9433f49bbf",
   "metadata": {},
   "source": [
    "### QQplot"
   ]
  },
  {
   "cell_type": "code",
   "execution_count": 78,
   "id": "2d40d77b-0fb8-44a3-b203-6e245444cb68",
   "metadata": {},
   "outputs": [
    {
     "data": {
      "image/png": "[encoded data removed]",
      "text/plain": [
       "<Figure size 576x576 with 1 Axes>"
      ]
     },
     "metadata": {
      "needs_background": "light"
     },
     "output_type": "display_data"
    }
   ],
   "source": [
    "qqplot_unif(results)"
   ]
  },
  {
   "cell_type": "markdown",
   "id": "3248ea5f-0969-41d5-ac06-9bd79b168400",
   "metadata": {},
   "source": [
    "### Top genes in LV"
   ]
  },
  {
   "cell_type": "code",
   "execution_count": 79,
   "id": "be244412-cf77-4b40-aacb-aab3b76327fd",
   "metadata": {},
   "outputs": [
    {
     "data": {
      "text/html": [
       "<div>\n",
       "<style scoped>\n",
       "    .dataframe tbody tr th:only-of-type {\n",
       "        vertical-align: middle;\n",
       "    }\n",
       "\n",
       "    .dataframe tbody tr th {\n",
       "        vertical-align: top;\n",
       "    }\n",
       "\n",
       "    .dataframe thead th {\n",
       "        text-align: right;\n",
       "    }\n",
       "</style>\n",
       "<table border=\"1\" class=\"dataframe\">\n",
       "  <thead>\n",
       "    <tr style=\"text-align: right;\">\n",
       "      <th></th>\n",
       "      <th>LV45</th>\n",
       "      <th>gene_band</th>\n",
       "    </tr>\n",
       "  </thead>\n",
       "  <tbody>\n",
       "    <tr>\n",
       "      <th>HIST1H2BO</th>\n",
       "      <td>8.480948</td>\n",
       "      <td>6p22.1</td>\n",
       "    </tr>\n",
       "    <tr>\n",
       "      <th>HIST1H2BF</th>\n",
       "      <td>8.426226</td>\n",
       "      <td>6p22.2</td>\n",
       "    </tr>\n",
       "    <tr>\n",
       "      <th>HIST1H2BK</th>\n",
       "      <td>8.245903</td>\n",
       "      <td>6p22.1</td>\n",
       "    </tr>\n",
       "    <tr>\n",
       "      <th>HIST1H2BD</th>\n",
       "      <td>8.119013</td>\n",
       "      <td>6p22.2</td>\n",
       "    </tr>\n",
       "    <tr>\n",
       "      <th>HIST1H2BC</th>\n",
       "      <td>7.744137</td>\n",
       "      <td>6p22.2</td>\n",
       "    </tr>\n",
       "    <tr>\n",
       "      <th>HIST1H2AC</th>\n",
       "      <td>7.447932</td>\n",
       "      <td>6p22.2</td>\n",
       "    </tr>\n",
       "    <tr>\n",
       "      <th>HIST2H2BF</th>\n",
       "      <td>6.700409</td>\n",
       "      <td>1q21.2</td>\n",
       "    </tr>\n",
       "    <tr>\n",
       "      <th>HIST1H2AG</th>\n",
       "      <td>6.405812</td>\n",
       "      <td>6p22.1</td>\n",
       "    </tr>\n",
       "    <tr>\n",
       "      <th>HIST1H2BN</th>\n",
       "      <td>5.913649</td>\n",
       "      <td>6p22.1</td>\n",
       "    </tr>\n",
       "    <tr>\n",
       "      <th>HIST1H2AE</th>\n",
       "      <td>5.898213</td>\n",
       "      <td>6p22.2</td>\n",
       "    </tr>\n",
       "    <tr>\n",
       "      <th>HIST1H2BE</th>\n",
       "      <td>3.489655</td>\n",
       "      <td>6p22.2</td>\n",
       "    </tr>\n",
       "    <tr>\n",
       "      <th>HIST1H2BH</th>\n",
       "      <td>2.522366</td>\n",
       "      <td>6p22.2</td>\n",
       "    </tr>\n",
       "    <tr>\n",
       "      <th>HIST1H2BJ</th>\n",
       "      <td>2.467813</td>\n",
       "      <td>6p22.1</td>\n",
       "    </tr>\n",
       "    <tr>\n",
       "      <th>HIST1H2AD</th>\n",
       "      <td>2.403343</td>\n",
       "      <td>6p22.2</td>\n",
       "    </tr>\n",
       "    <tr>\n",
       "      <th>H2AFX</th>\n",
       "      <td>1.594301</td>\n",
       "      <td>11q23.3</td>\n",
       "    </tr>\n",
       "    <tr>\n",
       "      <th>HIST1H2BG</th>\n",
       "      <td>1.525977</td>\n",
       "      <td>6p22.2</td>\n",
       "    </tr>\n",
       "    <tr>\n",
       "      <th>HIST3H2BB</th>\n",
       "      <td>1.436435</td>\n",
       "      <td>1q42.13</td>\n",
       "    </tr>\n",
       "    <tr>\n",
       "      <th>HIST3H2A</th>\n",
       "      <td>1.268004</td>\n",
       "      <td>1q42.13</td>\n",
       "    </tr>\n",
       "    <tr>\n",
       "      <th>H2AFZ</th>\n",
       "      <td>1.221418</td>\n",
       "      <td>4q23</td>\n",
       "    </tr>\n",
       "    <tr>\n",
       "      <th>HIST1H4D</th>\n",
       "      <td>1.056777</td>\n",
       "      <td>6p22.2</td>\n",
       "    </tr>\n",
       "    <tr>\n",
       "      <th>HIST1H4I</th>\n",
       "      <td>0.865090</td>\n",
       "      <td>6p22.1</td>\n",
       "    </tr>\n",
       "    <tr>\n",
       "      <th>H3F3B</th>\n",
       "      <td>0.547770</td>\n",
       "      <td>17q25.1</td>\n",
       "    </tr>\n",
       "    <tr>\n",
       "      <th>H3F3A</th>\n",
       "      <td>0.540939</td>\n",
       "      <td>1q42.12</td>\n",
       "    </tr>\n",
       "    <tr>\n",
       "      <th>HIST1H3E</th>\n",
       "      <td>0.498899</td>\n",
       "      <td>6p22.2</td>\n",
       "    </tr>\n",
       "    <tr>\n",
       "      <th>ACTN4</th>\n",
       "      <td>0.406961</td>\n",
       "      <td>19q13.2</td>\n",
       "    </tr>\n",
       "  </tbody>\n",
       "</table>\n",
       "</div>"
      ],
      "text/plain": [
       "               LV45 gene_band\n",
       "HIST1H2BO  8.480948    6p22.1\n",
       "HIST1H2BF  8.426226    6p22.2\n",
       "HIST1H2BK  8.245903    6p22.1\n",
       "HIST1H2BD  8.119013    6p22.2\n",
       "HIST1H2BC  7.744137    6p22.2\n",
       "HIST1H2AC  7.447932    6p22.2\n",
       "HIST2H2BF  6.700409    1q21.2\n",
       "HIST1H2AG  6.405812    6p22.1\n",
       "HIST1H2BN  5.913649    6p22.1\n",
       "HIST1H2AE  5.898213    6p22.2\n",
       "HIST1H2BE  3.489655    6p22.2\n",
       "HIST1H2BH  2.522366    6p22.2\n",
       "HIST1H2BJ  2.467813    6p22.1\n",
       "HIST1H2AD  2.403343    6p22.2\n",
       "H2AFX      1.594301   11q23.3\n",
       "HIST1H2BG  1.525977    6p22.2\n",
       "HIST3H2BB  1.436435   1q42.13\n",
       "HIST3H2A   1.268004   1q42.13\n",
       "H2AFZ      1.221418      4q23\n",
       "HIST1H4D   1.056777    6p22.2\n",
       "HIST1H4I   0.865090    6p22.1\n",
       "H3F3B      0.547770   17q25.1\n",
       "H3F3A      0.540939   1q42.12\n",
       "HIST1H3E   0.498899    6p22.2\n",
       "ACTN4      0.406961   19q13.2"
      ]
     },
     "metadata": {},
     "output_type": "display_data"
    }
   ],
   "source": [
    "lv_genes = get_lv_genes(lv_code)\n",
    "display(lv_genes.head(25))"
   ]
  },
  {
   "cell_type": "code",
   "execution_count": 80,
   "id": "07e7c50f-6df2-4e32-8944-18be1132be86",
   "metadata": {},
   "outputs": [
    {
     "data": {
      "text/plain": [
       "6p22.2     11\n",
       "6p22.1      6\n",
       "1q42.13     2\n",
       "1q21.2      1\n",
       "11q23.3     1\n",
       "1q42.12     1\n",
       "17q25.1     1\n",
       "4q23        1\n",
       "19q13.2     1\n",
       "17q24.1     0\n",
       "Name: gene_band, dtype: int64"
      ]
     },
     "execution_count": 80,
     "metadata": {},
     "output_type": "execute_result"
    }
   ],
   "source": [
    "# see bands of top genes\n",
    "lv_genes.head(25)[\"gene_band\"].value_counts().head(10)"
   ]
  },
  {
   "cell_type": "markdown",
   "id": "dc07c402-3dec-4704-a99b-97dcaa610139",
   "metadata": {},
   "source": [
    "**Note**: same as LV234, very likely causing high type I errors."
   ]
  },
  {
   "cell_type": "code",
   "execution_count": 81,
   "id": "bf15f109-8a09-4b56-a122-a4ea3d02e4d5",
   "metadata": {},
   "outputs": [],
   "source": [
    "# take a look at all genes with non-zero weight\n",
    "lv_genes_nonzero_weight = lv_genes[lv_genes[lv_code] > 0]"
   ]
  },
  {
   "cell_type": "code",
   "execution_count": 82,
   "id": "c888764d-ca7d-4a67-a09b-c6f0a1946469",
   "metadata": {},
   "outputs": [
    {
     "data": {
      "text/plain": [
       "(376, 2)"
      ]
     },
     "execution_count": 82,
     "metadata": {},
     "output_type": "execute_result"
    }
   ],
   "source": [
    "# how many genes have non-zero weight?\n",
    "lv_genes_nonzero_weight.shape"
   ]
  },
  {
   "cell_type": "code",
   "execution_count": 83,
   "id": "b43e6b38-8c9d-4a66-a062-c331301f22d0",
   "metadata": {},
   "outputs": [
    {
     "data": {
      "text/plain": [
       "6p22.2     13\n",
       "19p13.3     8\n",
       "1q32.1      6\n",
       "6p22.1      6\n",
       "4q31.21     6\n",
       "17q12       5\n",
       "6p21.33     4\n",
       "3p21.31     4\n",
       "5q31.1      4\n",
       "1q23.3      4\n",
       "Name: gene_band, dtype: int64"
      ]
     },
     "execution_count": 83,
     "metadata": {},
     "output_type": "execute_result"
    }
   ],
   "source": [
    "# how are bands distributed among nonzero weighted genes?\n",
    "lv_genes_nonzero_weight[\"gene_band\"].value_counts().head(10)"
   ]
  },
  {
   "cell_type": "code",
   "execution_count": 84,
   "id": "ca422e67-41c8-49d5-9e15-d18f65a9af31",
   "metadata": {},
   "outputs": [
    {
     "data": {
      "image/png": "[encoded data removed]",
      "text/plain": [
       "<Figure size 1008x504 with 1 Axes>"
      ]
     },
     "metadata": {
      "needs_background": "light"
     },
     "output_type": "display_data"
    }
   ],
   "source": [
    "# distribution of amount of bands in LV\n",
    "g = sns.displot(lv_genes_nonzero_weight[\"gene_band\"].value_counts(), height=7, aspect=2)"
   ]
  },
  {
   "cell_type": "code",
   "execution_count": 85,
   "id": "7a4d783b-4b14-4537-b96e-9c45e6790a1a",
   "metadata": {},
   "outputs": [
    {
     "data": {
      "image/png": "[encoded data removed]",
      "text/plain": [
       "<Figure size 1008x504 with 1 Axes>"
      ]
     },
     "metadata": {
      "needs_background": "light"
     },
     "output_type": "display_data"
    }
   ],
   "source": [
    "# distribution of weights in LV\n",
    "g = sns.displot(lv_genes[lv_genes[lv_code] > 0][lv_code], height=7, aspect=2)"
   ]
  },
  {
   "cell_type": "markdown",
   "id": "09b7c702-aab5-49ba-b40c-cb3d9b912bd2",
   "metadata": {},
   "source": [
    "## LV800"
   ]
  },
  {
   "cell_type": "code",
   "execution_count": 86,
   "id": "be728e80-b79d-4523-ad08-45ad0842cc4a",
   "metadata": {},
   "outputs": [],
   "source": [
    "lv_code = \"LV800\""
   ]
  },
  {
   "cell_type": "code",
   "execution_count": 87,
   "id": "dcc1d33a-cac3-4f20-80b5-d688cc3eaedc",
   "metadata": {},
   "outputs": [],
   "source": [
    "results = dfs[dfs[\"lv\"] == lv_code]"
   ]
  },
  {
   "cell_type": "code",
   "execution_count": 88,
   "id": "13f76ec8-c46b-4f24-b71a-ee60604f45a0",
   "metadata": {},
   "outputs": [
    {
     "data": {
      "text/plain": [
       "(1000, 7)"
      ]
     },
     "execution_count": 88,
     "metadata": {},
     "output_type": "execute_result"
    }
   ],
   "source": [
    "results.shape"
   ]
  },
  {
   "cell_type": "code",
   "execution_count": 89,
   "id": "e36343f6-0cd8-4c7e-a2b0-fd0a92e14dcf",
   "metadata": {},
   "outputs": [
    {
     "data": {
      "text/html": [
       "<div>\n",
       "<style scoped>\n",
       "    .dataframe tbody tr th:only-of-type {\n",
       "        vertical-align: middle;\n",
       "    }\n",
       "\n",
       "    .dataframe tbody tr th {\n",
       "        vertical-align: top;\n",
       "    }\n",
       "\n",
       "    .dataframe thead th {\n",
       "        text-align: right;\n",
       "    }\n",
       "</style>\n",
       "<table border=\"1\" class=\"dataframe\">\n",
       "  <thead>\n",
       "    <tr style=\"text-align: right;\">\n",
       "      <th></th>\n",
       "      <th>lv</th>\n",
       "      <th>beta</th>\n",
       "      <th>beta_se</th>\n",
       "      <th>t</th>\n",
       "      <th>pvalue_twosided</th>\n",
       "      <th>pvalue_onesided</th>\n",
       "      <th>phenotype</th>\n",
       "    </tr>\n",
       "  </thead>\n",
       "  <tbody>\n",
       "    <tr>\n",
       "      <th>90</th>\n",
       "      <td>LV800</td>\n",
       "      <td>0.158726</td>\n",
       "      <td>0.124628</td>\n",
       "      <td>1.273599</td>\n",
       "      <td>0.202852</td>\n",
       "      <td>0.101426</td>\n",
       "      <td>random.pheno988</td>\n",
       "    </tr>\n",
       "    <tr>\n",
       "      <th>1347</th>\n",
       "      <td>LV800</td>\n",
       "      <td>0.033252</td>\n",
       "      <td>0.124868</td>\n",
       "      <td>0.266295</td>\n",
       "      <td>0.790021</td>\n",
       "      <td>0.395010</td>\n",
       "      <td>random.pheno589</td>\n",
       "    </tr>\n",
       "    <tr>\n",
       "      <th>2827</th>\n",
       "      <td>LV800</td>\n",
       "      <td>-0.132990</td>\n",
       "      <td>0.124717</td>\n",
       "      <td>-1.066333</td>\n",
       "      <td>0.286313</td>\n",
       "      <td>0.856843</td>\n",
       "      <td>random.pheno385</td>\n",
       "    </tr>\n",
       "    <tr>\n",
       "      <th>3852</th>\n",
       "      <td>LV800</td>\n",
       "      <td>-0.150564</td>\n",
       "      <td>0.124719</td>\n",
       "      <td>-1.207227</td>\n",
       "      <td>0.227389</td>\n",
       "      <td>0.886306</td>\n",
       "      <td>random.pheno5</td>\n",
       "    </tr>\n",
       "    <tr>\n",
       "      <th>4588</th>\n",
       "      <td>LV800</td>\n",
       "      <td>-0.055293</td>\n",
       "      <td>0.124853</td>\n",
       "      <td>-0.442866</td>\n",
       "      <td>0.657878</td>\n",
       "      <td>0.671061</td>\n",
       "      <td>random.pheno74</td>\n",
       "    </tr>\n",
       "  </tbody>\n",
       "</table>\n",
       "</div>"
      ],
      "text/plain": [
       "         lv      beta   beta_se         t  pvalue_twosided  pvalue_onesided  \\\n",
       "90    LV800  0.158726  0.124628  1.273599         0.202852         0.101426   \n",
       "1347  LV800  0.033252  0.124868  0.266295         0.790021         0.395010   \n",
       "2827  LV800 -0.132990  0.124717 -1.066333         0.286313         0.856843   \n",
       "3852  LV800 -0.150564  0.124719 -1.207227         0.227389         0.886306   \n",
       "4588  LV800 -0.055293  0.124853 -0.442866         0.657878         0.671061   \n",
       "\n",
       "            phenotype  \n",
       "90    random.pheno988  \n",
       "1347  random.pheno589  \n",
       "2827  random.pheno385  \n",
       "3852    random.pheno5  \n",
       "4588   random.pheno74  "
      ]
     },
     "execution_count": 89,
     "metadata": {},
     "output_type": "execute_result"
    }
   ],
   "source": [
    "results.head()"
   ]
  },
  {
   "cell_type": "markdown",
   "id": "1c290830-eefa-4f8a-acb2-0136bf8fda34",
   "metadata": {},
   "source": [
    "### Mean type I errors at different thresholds"
   ]
  },
  {
   "cell_type": "code",
   "execution_count": 90,
   "id": "3b9ab0d0-3598-40ad-88f6-a8ac62663327",
   "metadata": {},
   "outputs": [
    {
     "data": {
      "text/plain": [
       "0.055"
      ]
     },
     "execution_count": 90,
     "metadata": {},
     "output_type": "execute_result"
    }
   ],
   "source": [
    "show_prop(results, 0.01)"
   ]
  },
  {
   "cell_type": "code",
   "execution_count": 91,
   "id": "279d7a22-def7-46f8-8e9f-dbcb5ab28ac5",
   "metadata": {},
   "outputs": [
    {
     "data": {
      "text/plain": [
       "0.126"
      ]
     },
     "execution_count": 91,
     "metadata": {},
     "output_type": "execute_result"
    }
   ],
   "source": [
    "show_prop(results, 0.05)"
   ]
  },
  {
   "cell_type": "code",
   "execution_count": 92,
   "id": "13dcb4db-64b3-464c-87de-2c586b5e7db1",
   "metadata": {},
   "outputs": [
    {
     "data": {
      "text/plain": [
       "0.176"
      ]
     },
     "execution_count": 92,
     "metadata": {},
     "output_type": "execute_result"
    }
   ],
   "source": [
    "show_prop(results, 0.10)"
   ]
  },
  {
   "cell_type": "code",
   "execution_count": 93,
   "id": "431c3f4c-31fe-421e-ada3-5977d130b637",
   "metadata": {},
   "outputs": [
    {
     "data": {
      "text/plain": [
       "0.221"
      ]
     },
     "execution_count": 93,
     "metadata": {},
     "output_type": "execute_result"
    }
   ],
   "source": [
    "show_prop(results, 0.15)"
   ]
  },
  {
   "cell_type": "code",
   "execution_count": 94,
   "id": "a3b9acbb-e075-45f0-9837-9ca4b593a912",
   "metadata": {},
   "outputs": [
    {
     "data": {
      "text/plain": [
       "0.263"
      ]
     },
     "execution_count": 94,
     "metadata": {},
     "output_type": "execute_result"
    }
   ],
   "source": [
    "show_prop(results, 0.20)"
   ]
  },
  {
   "cell_type": "markdown",
   "id": "0190cad7-7008-4d4b-b868-f681f819959b",
   "metadata": {},
   "source": [
    "### QQplot"
   ]
  },
  {
   "cell_type": "code",
   "execution_count": 95,
   "id": "2cd521a5-249c-4695-b694-a50df389fd21",
   "metadata": {},
   "outputs": [
    {
     "data": {
      "image/png": "[encoded data removed]",
      "text/plain": [
       "<Figure size 576x576 with 1 Axes>"
      ]
     },
     "metadata": {
      "needs_background": "light"
     },
     "output_type": "display_data"
    }
   ],
   "source": [
    "qqplot_unif(results)"
   ]
  },
  {
   "cell_type": "markdown",
   "id": "b3e2e941-87b7-4097-a9b6-fa7e95957d4a",
   "metadata": {},
   "source": [
    "### Top genes in LV"
   ]
  },
  {
   "cell_type": "code",
   "execution_count": 96,
   "id": "664ebecf-3b54-48bd-873d-661e15fb484f",
   "metadata": {},
   "outputs": [
    {
     "data": {
      "text/html": [
       "<div>\n",
       "<style scoped>\n",
       "    .dataframe tbody tr th:only-of-type {\n",
       "        vertical-align: middle;\n",
       "    }\n",
       "\n",
       "    .dataframe tbody tr th {\n",
       "        vertical-align: top;\n",
       "    }\n",
       "\n",
       "    .dataframe thead th {\n",
       "        text-align: right;\n",
       "    }\n",
       "</style>\n",
       "<table border=\"1\" class=\"dataframe\">\n",
       "  <thead>\n",
       "    <tr style=\"text-align: right;\">\n",
       "      <th></th>\n",
       "      <th>LV800</th>\n",
       "      <th>gene_band</th>\n",
       "    </tr>\n",
       "  </thead>\n",
       "  <tbody>\n",
       "    <tr>\n",
       "      <th>ZNF20</th>\n",
       "      <td>1.980700</td>\n",
       "      <td>19p13.2</td>\n",
       "    </tr>\n",
       "    <tr>\n",
       "      <th>ZNF606</th>\n",
       "      <td>1.931659</td>\n",
       "      <td>19q13.43</td>\n",
       "    </tr>\n",
       "    <tr>\n",
       "      <th>ZNF551</th>\n",
       "      <td>1.832833</td>\n",
       "      <td>19q13.43</td>\n",
       "    </tr>\n",
       "    <tr>\n",
       "      <th>ZNF543</th>\n",
       "      <td>1.701683</td>\n",
       "      <td>19q13.43</td>\n",
       "    </tr>\n",
       "    <tr>\n",
       "      <th>ZNF14</th>\n",
       "      <td>1.640789</td>\n",
       "      <td>19p13.11</td>\n",
       "    </tr>\n",
       "    <tr>\n",
       "      <th>ZNF625</th>\n",
       "      <td>1.612766</td>\n",
       "      <td>19p13.2</td>\n",
       "    </tr>\n",
       "    <tr>\n",
       "      <th>ZNF234</th>\n",
       "      <td>1.608893</td>\n",
       "      <td>19q13.31</td>\n",
       "    </tr>\n",
       "    <tr>\n",
       "      <th>ZNF468</th>\n",
       "      <td>1.601126</td>\n",
       "      <td>19q13.41</td>\n",
       "    </tr>\n",
       "    <tr>\n",
       "      <th>ZFP28</th>\n",
       "      <td>1.591189</td>\n",
       "      <td>19q13.43</td>\n",
       "    </tr>\n",
       "    <tr>\n",
       "      <th>ZNF485</th>\n",
       "      <td>1.586159</td>\n",
       "      <td>10q11.21</td>\n",
       "    </tr>\n",
       "    <tr>\n",
       "      <th>ZNF227</th>\n",
       "      <td>1.574834</td>\n",
       "      <td>19q13.31</td>\n",
       "    </tr>\n",
       "    <tr>\n",
       "      <th>ZNF92</th>\n",
       "      <td>1.552011</td>\n",
       "      <td>7q11.21</td>\n",
       "    </tr>\n",
       "    <tr>\n",
       "      <th>ZNF567</th>\n",
       "      <td>1.542031</td>\n",
       "      <td>19q13.12</td>\n",
       "    </tr>\n",
       "    <tr>\n",
       "      <th>ZNF320</th>\n",
       "      <td>1.533357</td>\n",
       "      <td>19q13.41</td>\n",
       "    </tr>\n",
       "    <tr>\n",
       "      <th>ZNF180</th>\n",
       "      <td>1.513040</td>\n",
       "      <td>19q13.31</td>\n",
       "    </tr>\n",
       "    <tr>\n",
       "      <th>ZKSCAN4</th>\n",
       "      <td>1.506373</td>\n",
       "      <td>6p22.1</td>\n",
       "    </tr>\n",
       "    <tr>\n",
       "      <th>ZNF256</th>\n",
       "      <td>1.495805</td>\n",
       "      <td>19q13.43</td>\n",
       "    </tr>\n",
       "    <tr>\n",
       "      <th>ZNF649</th>\n",
       "      <td>1.482137</td>\n",
       "      <td>19q13.41</td>\n",
       "    </tr>\n",
       "    <tr>\n",
       "      <th>ZNF415</th>\n",
       "      <td>1.467602</td>\n",
       "      <td>19q13.42</td>\n",
       "    </tr>\n",
       "    <tr>\n",
       "      <th>ZNF43</th>\n",
       "      <td>1.465676</td>\n",
       "      <td>19p12</td>\n",
       "    </tr>\n",
       "    <tr>\n",
       "      <th>ZNF440</th>\n",
       "      <td>1.456848</td>\n",
       "      <td>19p13.2</td>\n",
       "    </tr>\n",
       "    <tr>\n",
       "      <th>ZNF442</th>\n",
       "      <td>1.449211</td>\n",
       "      <td>19p13.2</td>\n",
       "    </tr>\n",
       "    <tr>\n",
       "      <th>ZFP90</th>\n",
       "      <td>1.437828</td>\n",
       "      <td>16q22.1</td>\n",
       "    </tr>\n",
       "    <tr>\n",
       "      <th>ZNF140</th>\n",
       "      <td>1.429167</td>\n",
       "      <td>12q24.33</td>\n",
       "    </tr>\n",
       "    <tr>\n",
       "      <th>ZNF17</th>\n",
       "      <td>1.419074</td>\n",
       "      <td>19q13.43</td>\n",
       "    </tr>\n",
       "  </tbody>\n",
       "</table>\n",
       "</div>"
      ],
      "text/plain": [
       "            LV800 gene_band\n",
       "ZNF20    1.980700   19p13.2\n",
       "ZNF606   1.931659  19q13.43\n",
       "ZNF551   1.832833  19q13.43\n",
       "ZNF543   1.701683  19q13.43\n",
       "ZNF14    1.640789  19p13.11\n",
       "ZNF625   1.612766   19p13.2\n",
       "ZNF234   1.608893  19q13.31\n",
       "ZNF468   1.601126  19q13.41\n",
       "ZFP28    1.591189  19q13.43\n",
       "ZNF485   1.586159  10q11.21\n",
       "ZNF227   1.574834  19q13.31\n",
       "ZNF92    1.552011   7q11.21\n",
       "ZNF567   1.542031  19q13.12\n",
       "ZNF320   1.533357  19q13.41\n",
       "ZNF180   1.513040  19q13.31\n",
       "ZKSCAN4  1.506373    6p22.1\n",
       "ZNF256   1.495805  19q13.43\n",
       "ZNF649   1.482137  19q13.41\n",
       "ZNF415   1.467602  19q13.42\n",
       "ZNF43    1.465676     19p12\n",
       "ZNF440   1.456848   19p13.2\n",
       "ZNF442   1.449211   19p13.2\n",
       "ZFP90    1.437828   16q22.1\n",
       "ZNF140   1.429167  12q24.33\n",
       "ZNF17    1.419074  19q13.43"
      ]
     },
     "metadata": {},
     "output_type": "display_data"
    }
   ],
   "source": [
    "lv_genes = get_lv_genes(lv_code)\n",
    "display(lv_genes.head(25))"
   ]
  },
  {
   "cell_type": "markdown",
   "id": "842fcb0d-8b7a-4962-8320-cc35af93f5aa",
   "metadata": {},
   "source": [
    "**Note**: similar to the first LVs in that top genes are mostly from the same band, but here weights are way smaller."
   ]
  },
  {
   "cell_type": "code",
   "execution_count": 97,
   "id": "e8112d9b-5c1d-4ae9-9548-883272d2935c",
   "metadata": {},
   "outputs": [
    {
     "data": {
      "text/plain": [
       "19q13.43    6\n",
       "19p13.2     4\n",
       "19q13.31    3\n",
       "19q13.41    3\n",
       "10q11.21    1\n",
       "7q11.21     1\n",
       "19q13.12    1\n",
       "19p13.11    1\n",
       "19p12       1\n",
       "12q24.33    1\n",
       "Name: gene_band, dtype: int64"
      ]
     },
     "execution_count": 97,
     "metadata": {},
     "output_type": "execute_result"
    }
   ],
   "source": [
    "# see bands of top genes\n",
    "lv_genes.head(25)[\"gene_band\"].value_counts().head(10)"
   ]
  },
  {
   "cell_type": "markdown",
   "id": "a448db71-bdfb-4012-aea0-c9c123c9a123",
   "metadata": {},
   "source": [
    "**Note**: same as LV234."
   ]
  },
  {
   "cell_type": "code",
   "execution_count": 98,
   "id": "bee33c07-6c9f-4a2f-8b21-cff6c8a761a8",
   "metadata": {},
   "outputs": [],
   "source": [
    "# take a look at all genes with non-zero weight\n",
    "lv_genes_nonzero_weight = lv_genes[lv_genes[lv_code] > 0]"
   ]
  },
  {
   "cell_type": "code",
   "execution_count": 99,
   "id": "75311e33-7708-4471-8570-9638580e9505",
   "metadata": {},
   "outputs": [
    {
     "data": {
      "text/plain": [
       "(2038, 2)"
      ]
     },
     "execution_count": 99,
     "metadata": {},
     "output_type": "execute_result"
    }
   ],
   "source": [
    "# how many genes have non-zero weight?\n",
    "lv_genes_nonzero_weight.shape"
   ]
  },
  {
   "cell_type": "code",
   "execution_count": 100,
   "id": "5ca1f781-356a-42a4-8dde-94aa3f18d91a",
   "metadata": {},
   "outputs": [
    {
     "data": {
      "text/plain": [
       "19p13.2     37\n",
       "19q13.43    32\n",
       "19q13.2     27\n",
       "19p13.3     27\n",
       "16p13.3     22\n",
       "19q13.41    22\n",
       "19q13.12    21\n",
       "19p13.11    18\n",
       "11q13.1     17\n",
       "11q13.2     17\n",
       "Name: gene_band, dtype: int64"
      ]
     },
     "execution_count": 100,
     "metadata": {},
     "output_type": "execute_result"
    }
   ],
   "source": [
    "# how are bands distributed among zero weighted genes?\n",
    "lv_genes_nonzero_weight[\"gene_band\"].value_counts().head(10)"
   ]
  },
  {
   "cell_type": "code",
   "execution_count": 101,
   "id": "d734e3d9-cdfe-4bf1-9c5d-d22f16b6e948",
   "metadata": {},
   "outputs": [
    {
     "data": {
      "image/png": "[encoded data removed]",
      "text/plain": [
       "<Figure size 1008x504 with 1 Axes>"
      ]
     },
     "metadata": {
      "needs_background": "light"
     },
     "output_type": "display_data"
    }
   ],
   "source": [
    "# distribution of amount of bands in LV\n",
    "g = sns.displot(lv_genes_nonzero_weight[\"gene_band\"].value_counts(), height=7, aspect=2)"
   ]
  },
  {
   "cell_type": "code",
   "execution_count": 102,
   "id": "0c05a395-e492-4cf2-8eb3-36f5afc084d9",
   "metadata": {},
   "outputs": [
    {
     "data": {
      "image/png": "[encoded data removed]",
      "text/plain": [
       "<Figure size 1008x504 with 1 Axes>"
      ]
     },
     "metadata": {
      "needs_background": "light"
     },
     "output_type": "display_data"
    }
   ],
   "source": [
    "# distribution of weights in LV\n",
    "g = sns.displot(lv_genes[lv_genes[lv_code] > 0][lv_code], height=7, aspect=2)"
   ]
  },
  {
   "cell_type": "markdown",
   "id": "5255d9dc-dbe6-4190-b040-210af2db4f10",
   "metadata": {},
   "source": [
    "## LV914"
   ]
  },
  {
   "cell_type": "code",
   "execution_count": 103,
   "id": "597a5457-511e-4dd6-936e-69a05905f832",
   "metadata": {},
   "outputs": [],
   "source": [
    "lv_code = \"LV914\""
   ]
  },
  {
   "cell_type": "code",
   "execution_count": 104,
   "id": "8186250b-110b-4d36-9826-392b57ad98f8",
   "metadata": {},
   "outputs": [],
   "source": [
    "results = dfs[dfs[\"lv\"] == lv_code]"
   ]
  },
  {
   "cell_type": "code",
   "execution_count": 105,
   "id": "f43b64f5-4058-4530-8e47-9ec838038bcf",
   "metadata": {},
   "outputs": [
    {
     "data": {
      "text/plain": [
       "(1000, 7)"
      ]
     },
     "execution_count": 105,
     "metadata": {},
     "output_type": "execute_result"
    }
   ],
   "source": [
    "results.shape"
   ]
  },
  {
   "cell_type": "code",
   "execution_count": 106,
   "id": "177dbcd5-e609-484c-9663-f3384c2c45e5",
   "metadata": {},
   "outputs": [
    {
     "data": {
      "text/html": [
       "<div>\n",
       "<style scoped>\n",
       "    .dataframe tbody tr th:only-of-type {\n",
       "        vertical-align: middle;\n",
       "    }\n",
       "\n",
       "    .dataframe tbody tr th {\n",
       "        vertical-align: top;\n",
       "    }\n",
       "\n",
       "    .dataframe thead th {\n",
       "        text-align: right;\n",
       "    }\n",
       "</style>\n",
       "<table border=\"1\" class=\"dataframe\">\n",
       "  <thead>\n",
       "    <tr style=\"text-align: right;\">\n",
       "      <th></th>\n",
       "      <th>lv</th>\n",
       "      <th>beta</th>\n",
       "      <th>beta_se</th>\n",
       "      <th>t</th>\n",
       "      <th>pvalue_twosided</th>\n",
       "      <th>pvalue_onesided</th>\n",
       "      <th>phenotype</th>\n",
       "    </tr>\n",
       "  </thead>\n",
       "  <tbody>\n",
       "    <tr>\n",
       "      <th>65</th>\n",
       "      <td>LV914</td>\n",
       "      <td>0.183580</td>\n",
       "      <td>0.124554</td>\n",
       "      <td>1.473897</td>\n",
       "      <td>0.140558</td>\n",
       "      <td>0.070279</td>\n",
       "      <td>random.pheno988</td>\n",
       "    </tr>\n",
       "    <tr>\n",
       "      <th>1548</th>\n",
       "      <td>LV914</td>\n",
       "      <td>-0.036628</td>\n",
       "      <td>0.124799</td>\n",
       "      <td>-0.293494</td>\n",
       "      <td>0.769154</td>\n",
       "      <td>0.615423</td>\n",
       "      <td>random.pheno589</td>\n",
       "    </tr>\n",
       "    <tr>\n",
       "      <th>2762</th>\n",
       "      <td>LV914</td>\n",
       "      <td>-0.104254</td>\n",
       "      <td>0.124653</td>\n",
       "      <td>-0.836353</td>\n",
       "      <td>0.402988</td>\n",
       "      <td>0.798506</td>\n",
       "      <td>random.pheno385</td>\n",
       "    </tr>\n",
       "    <tr>\n",
       "      <th>3419</th>\n",
       "      <td>LV914</td>\n",
       "      <td>0.006727</td>\n",
       "      <td>0.124665</td>\n",
       "      <td>0.053963</td>\n",
       "      <td>0.956966</td>\n",
       "      <td>0.478483</td>\n",
       "      <td>random.pheno5</td>\n",
       "    </tr>\n",
       "    <tr>\n",
       "      <th>4576</th>\n",
       "      <td>LV914</td>\n",
       "      <td>-0.051106</td>\n",
       "      <td>0.124785</td>\n",
       "      <td>-0.409552</td>\n",
       "      <td>0.682148</td>\n",
       "      <td>0.658926</td>\n",
       "      <td>random.pheno74</td>\n",
       "    </tr>\n",
       "  </tbody>\n",
       "</table>\n",
       "</div>"
      ],
      "text/plain": [
       "         lv      beta   beta_se         t  pvalue_twosided  pvalue_onesided  \\\n",
       "65    LV914  0.183580  0.124554  1.473897         0.140558         0.070279   \n",
       "1548  LV914 -0.036628  0.124799 -0.293494         0.769154         0.615423   \n",
       "2762  LV914 -0.104254  0.124653 -0.836353         0.402988         0.798506   \n",
       "3419  LV914  0.006727  0.124665  0.053963         0.956966         0.478483   \n",
       "4576  LV914 -0.051106  0.124785 -0.409552         0.682148         0.658926   \n",
       "\n",
       "            phenotype  \n",
       "65    random.pheno988  \n",
       "1548  random.pheno589  \n",
       "2762  random.pheno385  \n",
       "3419    random.pheno5  \n",
       "4576   random.pheno74  "
      ]
     },
     "execution_count": 106,
     "metadata": {},
     "output_type": "execute_result"
    }
   ],
   "source": [
    "results.head()"
   ]
  },
  {
   "cell_type": "markdown",
   "id": "ac1bda3d-a3a3-4f9f-97c7-88a58eb58e54",
   "metadata": {},
   "source": [
    "### Mean type I errors at different thresholds"
   ]
  },
  {
   "cell_type": "code",
   "execution_count": 107,
   "id": "3085327e-2c7a-43ca-834e-f022bc952d52",
   "metadata": {},
   "outputs": [
    {
     "data": {
      "text/plain": [
       "0.041"
      ]
     },
     "execution_count": 107,
     "metadata": {},
     "output_type": "execute_result"
    }
   ],
   "source": [
    "show_prop(results, 0.01)"
   ]
  },
  {
   "cell_type": "code",
   "execution_count": 108,
   "id": "682f99d5-87c7-4ad0-9b52-c685beb8a224",
   "metadata": {},
   "outputs": [
    {
     "data": {
      "text/plain": [
       "0.113"
      ]
     },
     "execution_count": 108,
     "metadata": {},
     "output_type": "execute_result"
    }
   ],
   "source": [
    "show_prop(results, 0.05)"
   ]
  },
  {
   "cell_type": "code",
   "execution_count": 109,
   "id": "3ce64dbe-0b80-4b69-92f0-2798969034d6",
   "metadata": {},
   "outputs": [
    {
     "data": {
      "text/plain": [
       "0.19"
      ]
     },
     "execution_count": 109,
     "metadata": {},
     "output_type": "execute_result"
    }
   ],
   "source": [
    "show_prop(results, 0.10)"
   ]
  },
  {
   "cell_type": "code",
   "execution_count": 110,
   "id": "3d8500aa-af02-4f32-bc1e-c2507ba202eb",
   "metadata": {},
   "outputs": [
    {
     "data": {
      "text/plain": [
       "0.247"
      ]
     },
     "execution_count": 110,
     "metadata": {},
     "output_type": "execute_result"
    }
   ],
   "source": [
    "show_prop(results, 0.15)"
   ]
  },
  {
   "cell_type": "code",
   "execution_count": 111,
   "id": "3f22c2c6-ced5-4ea3-9945-921b4a11f2b6",
   "metadata": {},
   "outputs": [
    {
     "data": {
      "text/plain": [
       "0.3"
      ]
     },
     "execution_count": 111,
     "metadata": {},
     "output_type": "execute_result"
    }
   ],
   "source": [
    "show_prop(results, 0.20)"
   ]
  },
  {
   "cell_type": "markdown",
   "id": "a2c699de-c6e2-493f-a4f8-0e62321bbf09",
   "metadata": {},
   "source": [
    "### QQplot"
   ]
  },
  {
   "cell_type": "code",
   "execution_count": 112,
   "id": "d0efc9ff-b5c9-4d39-826e-e2859af4c3ed",
   "metadata": {},
   "outputs": [
    {
     "data": {
      "image/png": "[encoded data removed]",
      "text/plain": [
       "<Figure size 576x576 with 1 Axes>"
      ]
     },
     "metadata": {
      "needs_background": "light"
     },
     "output_type": "display_data"
    }
   ],
   "source": [
    "qqplot_unif(results)"
   ]
  },
  {
   "cell_type": "markdown",
   "id": "a94515d3-07ae-4468-8813-a1b43b0cfaac",
   "metadata": {},
   "source": [
    "### Top genes in LV"
   ]
  },
  {
   "cell_type": "code",
   "execution_count": 113,
   "id": "11e2ade5-c708-4b9b-99eb-ae069833be0f",
   "metadata": {},
   "outputs": [
    {
     "data": {
      "text/html": [
       "<div>\n",
       "<style scoped>\n",
       "    .dataframe tbody tr th:only-of-type {\n",
       "        vertical-align: middle;\n",
       "    }\n",
       "\n",
       "    .dataframe tbody tr th {\n",
       "        vertical-align: top;\n",
       "    }\n",
       "\n",
       "    .dataframe thead th {\n",
       "        text-align: right;\n",
       "    }\n",
       "</style>\n",
       "<table border=\"1\" class=\"dataframe\">\n",
       "  <thead>\n",
       "    <tr style=\"text-align: right;\">\n",
       "      <th></th>\n",
       "      <th>LV914</th>\n",
       "      <th>gene_band</th>\n",
       "    </tr>\n",
       "  </thead>\n",
       "  <tbody>\n",
       "    <tr>\n",
       "      <th>IL23A</th>\n",
       "      <td>6.258103</td>\n",
       "      <td>12q13.3</td>\n",
       "    </tr>\n",
       "    <tr>\n",
       "      <th>AKT2</th>\n",
       "      <td>5.248118</td>\n",
       "      <td>19q13.2</td>\n",
       "    </tr>\n",
       "    <tr>\n",
       "      <th>HOXA5</th>\n",
       "      <td>2.588375</td>\n",
       "      <td>7p15.2</td>\n",
       "    </tr>\n",
       "    <tr>\n",
       "      <th>LAMA2</th>\n",
       "      <td>2.255515</td>\n",
       "      <td>6q22.33</td>\n",
       "    </tr>\n",
       "    <tr>\n",
       "      <th>RNF8</th>\n",
       "      <td>1.722023</td>\n",
       "      <td>6p21.2</td>\n",
       "    </tr>\n",
       "    <tr>\n",
       "      <th>PAPOLG</th>\n",
       "      <td>1.398173</td>\n",
       "      <td>2p16.1</td>\n",
       "    </tr>\n",
       "    <tr>\n",
       "      <th>MBD4</th>\n",
       "      <td>1.376868</td>\n",
       "      <td>3q21.3</td>\n",
       "    </tr>\n",
       "    <tr>\n",
       "      <th>TBK1</th>\n",
       "      <td>1.328314</td>\n",
       "      <td>12q14.2</td>\n",
       "    </tr>\n",
       "    <tr>\n",
       "      <th>CBLB</th>\n",
       "      <td>1.305683</td>\n",
       "      <td>3q13.11</td>\n",
       "    </tr>\n",
       "    <tr>\n",
       "      <th>DOK1</th>\n",
       "      <td>1.219439</td>\n",
       "      <td>2p13.1</td>\n",
       "    </tr>\n",
       "    <tr>\n",
       "      <th>GRAP</th>\n",
       "      <td>1.195635</td>\n",
       "      <td>17p11.2</td>\n",
       "    </tr>\n",
       "    <tr>\n",
       "      <th>TPP2</th>\n",
       "      <td>1.141444</td>\n",
       "      <td>13q33.1</td>\n",
       "    </tr>\n",
       "    <tr>\n",
       "      <th>GMPPA</th>\n",
       "      <td>1.088283</td>\n",
       "      <td>2q35</td>\n",
       "    </tr>\n",
       "    <tr>\n",
       "      <th>TP53INP1</th>\n",
       "      <td>1.080143</td>\n",
       "      <td>8q22.1</td>\n",
       "    </tr>\n",
       "    <tr>\n",
       "      <th>ALG5</th>\n",
       "      <td>1.041571</td>\n",
       "      <td>13q13.3</td>\n",
       "    </tr>\n",
       "    <tr>\n",
       "      <th>TNFSF14</th>\n",
       "      <td>1.011087</td>\n",
       "      <td>19p13.3</td>\n",
       "    </tr>\n",
       "    <tr>\n",
       "      <th>POLB</th>\n",
       "      <td>0.979998</td>\n",
       "      <td>8p11.21</td>\n",
       "    </tr>\n",
       "    <tr>\n",
       "      <th>ERCC2</th>\n",
       "      <td>0.961572</td>\n",
       "      <td>19q13.32</td>\n",
       "    </tr>\n",
       "    <tr>\n",
       "      <th>IL23R</th>\n",
       "      <td>0.946890</td>\n",
       "      <td>1p31.3</td>\n",
       "    </tr>\n",
       "    <tr>\n",
       "      <th>SEPT1</th>\n",
       "      <td>0.894338</td>\n",
       "      <td>16p11.2</td>\n",
       "    </tr>\n",
       "    <tr>\n",
       "      <th>NR2C1</th>\n",
       "      <td>0.880502</td>\n",
       "      <td>12q22</td>\n",
       "    </tr>\n",
       "    <tr>\n",
       "      <th>BTRC</th>\n",
       "      <td>0.803060</td>\n",
       "      <td>10q24.32</td>\n",
       "    </tr>\n",
       "    <tr>\n",
       "      <th>ASB8</th>\n",
       "      <td>0.776126</td>\n",
       "      <td>12q13.11</td>\n",
       "    </tr>\n",
       "    <tr>\n",
       "      <th>RNF144B</th>\n",
       "      <td>0.769304</td>\n",
       "      <td>6p22.3</td>\n",
       "    </tr>\n",
       "    <tr>\n",
       "      <th>BCKDHA</th>\n",
       "      <td>0.730291</td>\n",
       "      <td>19q13.2</td>\n",
       "    </tr>\n",
       "  </tbody>\n",
       "</table>\n",
       "</div>"
      ],
      "text/plain": [
       "             LV914 gene_band\n",
       "IL23A     6.258103   12q13.3\n",
       "AKT2      5.248118   19q13.2\n",
       "HOXA5     2.588375    7p15.2\n",
       "LAMA2     2.255515   6q22.33\n",
       "RNF8      1.722023    6p21.2\n",
       "PAPOLG    1.398173    2p16.1\n",
       "MBD4      1.376868    3q21.3\n",
       "TBK1      1.328314   12q14.2\n",
       "CBLB      1.305683   3q13.11\n",
       "DOK1      1.219439    2p13.1\n",
       "GRAP      1.195635   17p11.2\n",
       "TPP2      1.141444   13q33.1\n",
       "GMPPA     1.088283      2q35\n",
       "TP53INP1  1.080143    8q22.1\n",
       "ALG5      1.041571   13q13.3\n",
       "TNFSF14   1.011087   19p13.3\n",
       "POLB      0.979998   8p11.21\n",
       "ERCC2     0.961572  19q13.32\n",
       "IL23R     0.946890    1p31.3\n",
       "SEPT1     0.894338   16p11.2\n",
       "NR2C1     0.880502     12q22\n",
       "BTRC      0.803060  10q24.32\n",
       "ASB8      0.776126  12q13.11\n",
       "RNF144B   0.769304    6p22.3\n",
       "BCKDHA    0.730291   19q13.2"
      ]
     },
     "metadata": {},
     "output_type": "display_data"
    }
   ],
   "source": [
    "lv_genes = get_lv_genes(lv_code)\n",
    "display(lv_genes.head(25))"
   ]
  },
  {
   "cell_type": "markdown",
   "id": "fe85eb94-2df5-4ca5-8c07-97ce5905ccc2",
   "metadata": {},
   "source": [
    "**Note**: Ok, first LV that does not have genes from the same band at the top, but results are still not calibrated."
   ]
  },
  {
   "cell_type": "code",
   "execution_count": 114,
   "id": "88ba9fc1-4c92-4e23-bdbc-96e1f0bb0304",
   "metadata": {},
   "outputs": [
    {
     "data": {
      "text/plain": [
       "19q13.2    2\n",
       "2p13.1     1\n",
       "6p21.2     1\n",
       "12q22      1\n",
       "6p22.3     1\n",
       "8q22.1     1\n",
       "8p11.21    1\n",
       "3q21.3     1\n",
       "2q35       1\n",
       "13q13.3    1\n",
       "Name: gene_band, dtype: int64"
      ]
     },
     "execution_count": 114,
     "metadata": {},
     "output_type": "execute_result"
    }
   ],
   "source": [
    "# see bands of top genes\n",
    "lv_genes.head(25)[\"gene_band\"].value_counts().head(10)"
   ]
  },
  {
   "cell_type": "code",
   "execution_count": 115,
   "id": "e24bf182-53a3-4925-85a8-059903b394c4",
   "metadata": {},
   "outputs": [],
   "source": [
    "# take a look at all genes with non-zero weight\n",
    "lv_genes_nonzero_weight = lv_genes[lv_genes[lv_code] > 0]"
   ]
  },
  {
   "cell_type": "code",
   "execution_count": 116,
   "id": "09f08877-5a27-4482-92a3-3a736b3d67cb",
   "metadata": {},
   "outputs": [
    {
     "data": {
      "text/plain": [
       "(2891, 2)"
      ]
     },
     "execution_count": 116,
     "metadata": {},
     "output_type": "execute_result"
    }
   ],
   "source": [
    "# how many genes have non-zero weight?\n",
    "lv_genes_nonzero_weight.shape"
   ]
  },
  {
   "cell_type": "code",
   "execution_count": 117,
   "id": "853544bb-cd63-4229-8f31-2bd2ccdc943e",
   "metadata": {},
   "outputs": [
    {
     "data": {
      "text/plain": [
       "19p13.3     34\n",
       "19q13.2     33\n",
       "19p13.2     31\n",
       "16p13.3     29\n",
       "19q13.33    28\n",
       "1q21.3      27\n",
       "3p21.31     26\n",
       "17p13.1     24\n",
       "19p13.11    24\n",
       "19q13.42    23\n",
       "Name: gene_band, dtype: int64"
      ]
     },
     "execution_count": 117,
     "metadata": {},
     "output_type": "execute_result"
    }
   ],
   "source": [
    "# how are bands distributed among zero weighted genes?\n",
    "lv_genes_nonzero_weight[\"gene_band\"].value_counts().head(10)"
   ]
  },
  {
   "cell_type": "code",
   "execution_count": 118,
   "id": "d80be096-8a39-4de1-b61a-5c2d1804f198",
   "metadata": {},
   "outputs": [
    {
     "data": {
      "image/png": "[encoded data removed]",
      "text/plain": [
       "<Figure size 1008x504 with 1 Axes>"
      ]
     },
     "metadata": {
      "needs_background": "light"
     },
     "output_type": "display_data"
    }
   ],
   "source": [
    "# distribution of amount of bands in LV\n",
    "g = sns.displot(lv_genes_nonzero_weight[\"gene_band\"].value_counts(), height=7, aspect=2)"
   ]
  },
  {
   "cell_type": "code",
   "execution_count": 119,
   "id": "39ec1bc0-724f-49f7-9226-7280ea271d80",
   "metadata": {},
   "outputs": [
    {
     "data": {
      "image/png": "[encoded data removed]",
      "text/plain": [
       "<Figure size 1008x504 with 1 Axes>"
      ]
     },
     "metadata": {
      "needs_background": "light"
     },
     "output_type": "display_data"
    }
   ],
   "source": [
    "# distribution of weights in LV\n",
    "g = sns.displot(lv_genes[lv_genes[lv_code] > 0][lv_code], height=7, aspect=2)"
   ]
  },
  {
   "cell_type": "markdown",
   "id": "5a289581-af27-4359-b765-b76e5ba6b77d",
   "metadata": {},
   "source": [
    "## LV189"
   ]
  },
  {
   "cell_type": "code",
   "execution_count": 120,
   "id": "70f99ae2-c0da-4569-83c8-a270714eeb29",
   "metadata": {},
   "outputs": [],
   "source": [
    "lv_code = \"LV189\""
   ]
  },
  {
   "cell_type": "code",
   "execution_count": 121,
   "id": "f616891c-9664-4de8-8017-c5d52c75cf15",
   "metadata": {},
   "outputs": [],
   "source": [
    "results = dfs[dfs[\"lv\"] == lv_code]"
   ]
  },
  {
   "cell_type": "code",
   "execution_count": 122,
   "id": "f18dd59a-cf9f-4852-93da-50cf08f22014",
   "metadata": {},
   "outputs": [
    {
     "data": {
      "text/plain": [
       "(1000, 7)"
      ]
     },
     "execution_count": 122,
     "metadata": {},
     "output_type": "execute_result"
    }
   ],
   "source": [
    "results.shape"
   ]
  },
  {
   "cell_type": "code",
   "execution_count": 123,
   "id": "2d9cbf2c-b08c-4d46-91d6-cf012b5e4f59",
   "metadata": {},
   "outputs": [
    {
     "data": {
      "text/html": [
       "<div>\n",
       "<style scoped>\n",
       "    .dataframe tbody tr th:only-of-type {\n",
       "        vertical-align: middle;\n",
       "    }\n",
       "\n",
       "    .dataframe tbody tr th {\n",
       "        vertical-align: top;\n",
       "    }\n",
       "\n",
       "    .dataframe thead th {\n",
       "        text-align: right;\n",
       "    }\n",
       "</style>\n",
       "<table border=\"1\" class=\"dataframe\">\n",
       "  <thead>\n",
       "    <tr style=\"text-align: right;\">\n",
       "      <th></th>\n",
       "      <th>lv</th>\n",
       "      <th>beta</th>\n",
       "      <th>beta_se</th>\n",
       "      <th>t</th>\n",
       "      <th>pvalue_twosided</th>\n",
       "      <th>pvalue_onesided</th>\n",
       "      <th>phenotype</th>\n",
       "    </tr>\n",
       "  </thead>\n",
       "  <tbody>\n",
       "    <tr>\n",
       "      <th>945</th>\n",
       "      <td>LV189</td>\n",
       "      <td>-0.221077</td>\n",
       "      <td>0.124508</td>\n",
       "      <td>-1.775607</td>\n",
       "      <td>0.075845</td>\n",
       "      <td>0.962078</td>\n",
       "      <td>random.pheno988</td>\n",
       "    </tr>\n",
       "    <tr>\n",
       "      <th>1152</th>\n",
       "      <td>LV189</td>\n",
       "      <td>0.115383</td>\n",
       "      <td>0.124755</td>\n",
       "      <td>0.924873</td>\n",
       "      <td>0.355067</td>\n",
       "      <td>0.177533</td>\n",
       "      <td>random.pheno589</td>\n",
       "    </tr>\n",
       "    <tr>\n",
       "      <th>2179</th>\n",
       "      <td>LV189</td>\n",
       "      <td>0.098422</td>\n",
       "      <td>0.124617</td>\n",
       "      <td>0.789796</td>\n",
       "      <td>0.429676</td>\n",
       "      <td>0.214838</td>\n",
       "      <td>random.pheno385</td>\n",
       "    </tr>\n",
       "    <tr>\n",
       "      <th>3520</th>\n",
       "      <td>LV189</td>\n",
       "      <td>-0.025108</td>\n",
       "      <td>0.124628</td>\n",
       "      <td>-0.201465</td>\n",
       "      <td>0.840341</td>\n",
       "      <td>0.579829</td>\n",
       "      <td>random.pheno5</td>\n",
       "    </tr>\n",
       "    <tr>\n",
       "      <th>4245</th>\n",
       "      <td>LV189</td>\n",
       "      <td>0.056064</td>\n",
       "      <td>0.124748</td>\n",
       "      <td>0.449415</td>\n",
       "      <td>0.653148</td>\n",
       "      <td>0.326574</td>\n",
       "      <td>random.pheno74</td>\n",
       "    </tr>\n",
       "  </tbody>\n",
       "</table>\n",
       "</div>"
      ],
      "text/plain": [
       "         lv      beta   beta_se         t  pvalue_twosided  pvalue_onesided  \\\n",
       "945   LV189 -0.221077  0.124508 -1.775607         0.075845         0.962078   \n",
       "1152  LV189  0.115383  0.124755  0.924873         0.355067         0.177533   \n",
       "2179  LV189  0.098422  0.124617  0.789796         0.429676         0.214838   \n",
       "3520  LV189 -0.025108  0.124628 -0.201465         0.840341         0.579829   \n",
       "4245  LV189  0.056064  0.124748  0.449415         0.653148         0.326574   \n",
       "\n",
       "            phenotype  \n",
       "945   random.pheno988  \n",
       "1152  random.pheno589  \n",
       "2179  random.pheno385  \n",
       "3520    random.pheno5  \n",
       "4245   random.pheno74  "
      ]
     },
     "execution_count": 123,
     "metadata": {},
     "output_type": "execute_result"
    }
   ],
   "source": [
    "results.head()"
   ]
  },
  {
   "cell_type": "markdown",
   "id": "c08f6aa2-d333-4997-bdbb-df45ec6461c3",
   "metadata": {},
   "source": [
    "### Mean type I errors at different thresholds"
   ]
  },
  {
   "cell_type": "code",
   "execution_count": 124,
   "id": "45170182-b3f8-41b8-8d4a-27e5357a1723",
   "metadata": {},
   "outputs": [
    {
     "data": {
      "text/plain": [
       "0.044"
      ]
     },
     "execution_count": 124,
     "metadata": {},
     "output_type": "execute_result"
    }
   ],
   "source": [
    "show_prop(results, 0.01)"
   ]
  },
  {
   "cell_type": "code",
   "execution_count": 125,
   "id": "15a320e5-76b4-462c-91f0-02b2d2a4c281",
   "metadata": {},
   "outputs": [
    {
     "data": {
      "text/plain": [
       "0.111"
      ]
     },
     "execution_count": 125,
     "metadata": {},
     "output_type": "execute_result"
    }
   ],
   "source": [
    "show_prop(results, 0.05)"
   ]
  },
  {
   "cell_type": "code",
   "execution_count": 126,
   "id": "8740d710-1e2d-447d-915d-1a2735a17021",
   "metadata": {},
   "outputs": [
    {
     "data": {
      "text/plain": [
       "0.167"
      ]
     },
     "execution_count": 126,
     "metadata": {},
     "output_type": "execute_result"
    }
   ],
   "source": [
    "show_prop(results, 0.10)"
   ]
  },
  {
   "cell_type": "code",
   "execution_count": 127,
   "id": "82681aa8-53c4-4c20-992d-4e29c78f9933",
   "metadata": {},
   "outputs": [
    {
     "data": {
      "text/plain": [
       "0.214"
      ]
     },
     "execution_count": 127,
     "metadata": {},
     "output_type": "execute_result"
    }
   ],
   "source": [
    "show_prop(results, 0.15)"
   ]
  },
  {
   "cell_type": "code",
   "execution_count": 128,
   "id": "730803db-f0bc-4044-ab4a-d73cc026f51b",
   "metadata": {},
   "outputs": [
    {
     "data": {
      "text/plain": [
       "0.263"
      ]
     },
     "execution_count": 128,
     "metadata": {},
     "output_type": "execute_result"
    }
   ],
   "source": [
    "show_prop(results, 0.20)"
   ]
  },
  {
   "cell_type": "markdown",
   "id": "e86c01b1-cda2-4905-aed1-9f5c659b0f9c",
   "metadata": {},
   "source": [
    "### QQplot"
   ]
  },
  {
   "cell_type": "code",
   "execution_count": 129,
   "id": "8bf2f7d7-b272-41cf-8805-f5c72c811aab",
   "metadata": {},
   "outputs": [
    {
     "data": {
      "image/png": "[encoded data removed]",
      "text/plain": [
       "<Figure size 576x576 with 1 Axes>"
      ]
     },
     "metadata": {
      "needs_background": "light"
     },
     "output_type": "display_data"
    }
   ],
   "source": [
    "qqplot_unif(results)"
   ]
  },
  {
   "cell_type": "markdown",
   "id": "51c58fe4-5606-4d14-8256-187124ee8716",
   "metadata": {},
   "source": [
    "### Top genes in LV"
   ]
  },
  {
   "cell_type": "code",
   "execution_count": 130,
   "id": "85d99895-3124-4eba-8d3a-e5e76d88890e",
   "metadata": {},
   "outputs": [
    {
     "data": {
      "text/html": [
       "<div>\n",
       "<style scoped>\n",
       "    .dataframe tbody tr th:only-of-type {\n",
       "        vertical-align: middle;\n",
       "    }\n",
       "\n",
       "    .dataframe tbody tr th {\n",
       "        vertical-align: top;\n",
       "    }\n",
       "\n",
       "    .dataframe thead th {\n",
       "        text-align: right;\n",
       "    }\n",
       "</style>\n",
       "<table border=\"1\" class=\"dataframe\">\n",
       "  <thead>\n",
       "    <tr style=\"text-align: right;\">\n",
       "      <th></th>\n",
       "      <th>LV189</th>\n",
       "      <th>gene_band</th>\n",
       "    </tr>\n",
       "  </thead>\n",
       "  <tbody>\n",
       "    <tr>\n",
       "      <th>TCN1</th>\n",
       "      <td>7.445036</td>\n",
       "      <td>11q12.1</td>\n",
       "    </tr>\n",
       "    <tr>\n",
       "      <th>ALDH3B2</th>\n",
       "      <td>4.980042</td>\n",
       "      <td>11q13.2</td>\n",
       "    </tr>\n",
       "    <tr>\n",
       "      <th>MED1</th>\n",
       "      <td>4.384997</td>\n",
       "      <td>17q12</td>\n",
       "    </tr>\n",
       "    <tr>\n",
       "      <th>PSMD3</th>\n",
       "      <td>4.113116</td>\n",
       "      <td>17q21.1</td>\n",
       "    </tr>\n",
       "    <tr>\n",
       "      <th>CDK12</th>\n",
       "      <td>2.875934</td>\n",
       "      <td>17q12</td>\n",
       "    </tr>\n",
       "    <tr>\n",
       "      <th>PIP4K2B</th>\n",
       "      <td>2.794035</td>\n",
       "      <td>17q12</td>\n",
       "    </tr>\n",
       "    <tr>\n",
       "      <th>ERBB2</th>\n",
       "      <td>2.676997</td>\n",
       "      <td>17q12</td>\n",
       "    </tr>\n",
       "    <tr>\n",
       "      <th>MED24</th>\n",
       "      <td>2.188042</td>\n",
       "      <td>17q21.1</td>\n",
       "    </tr>\n",
       "    <tr>\n",
       "      <th>PIGO</th>\n",
       "      <td>1.995728</td>\n",
       "      <td>9p13.3</td>\n",
       "    </tr>\n",
       "    <tr>\n",
       "      <th>ACACA</th>\n",
       "      <td>1.773115</td>\n",
       "      <td>17q12</td>\n",
       "    </tr>\n",
       "    <tr>\n",
       "      <th>ALOX15B</th>\n",
       "      <td>1.758234</td>\n",
       "      <td>17p13.1</td>\n",
       "    </tr>\n",
       "    <tr>\n",
       "      <th>UBE2Z</th>\n",
       "      <td>1.666309</td>\n",
       "      <td>17q21.32</td>\n",
       "    </tr>\n",
       "    <tr>\n",
       "      <th>CREB3L4</th>\n",
       "      <td>1.638563</td>\n",
       "      <td>1q21.3</td>\n",
       "    </tr>\n",
       "    <tr>\n",
       "      <th>ITCH</th>\n",
       "      <td>1.593795</td>\n",
       "      <td>20q11.22</td>\n",
       "    </tr>\n",
       "    <tr>\n",
       "      <th>ABCC5</th>\n",
       "      <td>1.586973</td>\n",
       "      <td>3q27.1</td>\n",
       "    </tr>\n",
       "    <tr>\n",
       "      <th>NCOA6</th>\n",
       "      <td>1.547092</td>\n",
       "      <td>20q11.22</td>\n",
       "    </tr>\n",
       "    <tr>\n",
       "      <th>MRPL45</th>\n",
       "      <td>1.539424</td>\n",
       "      <td>17q12</td>\n",
       "    </tr>\n",
       "    <tr>\n",
       "      <th>GSS</th>\n",
       "      <td>1.479625</td>\n",
       "      <td>20q11.22</td>\n",
       "    </tr>\n",
       "    <tr>\n",
       "      <th>CEP250</th>\n",
       "      <td>1.387174</td>\n",
       "      <td>20q11.22</td>\n",
       "    </tr>\n",
       "    <tr>\n",
       "      <th>ARFGEF2</th>\n",
       "      <td>1.342947</td>\n",
       "      <td>20q13.13</td>\n",
       "    </tr>\n",
       "    <tr>\n",
       "      <th>RAE1</th>\n",
       "      <td>1.327993</td>\n",
       "      <td>20q13.31</td>\n",
       "    </tr>\n",
       "    <tr>\n",
       "      <th>ATP8B1</th>\n",
       "      <td>1.320509</td>\n",
       "      <td>18q21.31</td>\n",
       "    </tr>\n",
       "    <tr>\n",
       "      <th>YWHAB</th>\n",
       "      <td>1.221576</td>\n",
       "      <td>20q13.12</td>\n",
       "    </tr>\n",
       "    <tr>\n",
       "      <th>COX11</th>\n",
       "      <td>1.206461</td>\n",
       "      <td>17q22</td>\n",
       "    </tr>\n",
       "    <tr>\n",
       "      <th>VAPB</th>\n",
       "      <td>1.204310</td>\n",
       "      <td>20q13.32</td>\n",
       "    </tr>\n",
       "  </tbody>\n",
       "</table>\n",
       "</div>"
      ],
      "text/plain": [
       "            LV189 gene_band\n",
       "TCN1     7.445036   11q12.1\n",
       "ALDH3B2  4.980042   11q13.2\n",
       "MED1     4.384997     17q12\n",
       "PSMD3    4.113116   17q21.1\n",
       "CDK12    2.875934     17q12\n",
       "PIP4K2B  2.794035     17q12\n",
       "ERBB2    2.676997     17q12\n",
       "MED24    2.188042   17q21.1\n",
       "PIGO     1.995728    9p13.3\n",
       "ACACA    1.773115     17q12\n",
       "ALOX15B  1.758234   17p13.1\n",
       "UBE2Z    1.666309  17q21.32\n",
       "CREB3L4  1.638563    1q21.3\n",
       "ITCH     1.593795  20q11.22\n",
       "ABCC5    1.586973    3q27.1\n",
       "NCOA6    1.547092  20q11.22\n",
       "MRPL45   1.539424     17q12\n",
       "GSS      1.479625  20q11.22\n",
       "CEP250   1.387174  20q11.22\n",
       "ARFGEF2  1.342947  20q13.13\n",
       "RAE1     1.327993  20q13.31\n",
       "ATP8B1   1.320509  18q21.31\n",
       "YWHAB    1.221576  20q13.12\n",
       "COX11    1.206461     17q22\n",
       "VAPB     1.204310  20q13.32"
      ]
     },
     "metadata": {},
     "output_type": "display_data"
    }
   ],
   "source": [
    "lv_genes = get_lv_genes(lv_code)\n",
    "display(lv_genes.head(25))"
   ]
  },
  {
   "cell_type": "code",
   "execution_count": 131,
   "id": "a807d7a6-cc70-4d57-ae0c-178614e5a1b1",
   "metadata": {},
   "outputs": [
    {
     "data": {
      "text/plain": [
       "17q12       6\n",
       "20q11.22    4\n",
       "17q21.1     2\n",
       "11q13.2     1\n",
       "20q13.32    1\n",
       "9p13.3      1\n",
       "18q21.31    1\n",
       "17p13.1     1\n",
       "3q27.1      1\n",
       "20q13.12    1\n",
       "Name: gene_band, dtype: int64"
      ]
     },
     "execution_count": 131,
     "metadata": {},
     "output_type": "execute_result"
    }
   ],
   "source": [
    "# see bands of top genes\n",
    "lv_genes.head(25)[\"gene_band\"].value_counts().head(10)"
   ]
  },
  {
   "cell_type": "code",
   "execution_count": 132,
   "id": "ddfc9979-30e7-4a7d-ba12-5030558be2d0",
   "metadata": {},
   "outputs": [],
   "source": [
    "# take a look at all genes with non-zero weight\n",
    "lv_genes_nonzero_weight = lv_genes[lv_genes[lv_code] > 0]"
   ]
  },
  {
   "cell_type": "code",
   "execution_count": 133,
   "id": "3b5d85de-19d4-43c5-83a0-785f25e68c5b",
   "metadata": {},
   "outputs": [
    {
     "data": {
      "text/plain": [
       "(2505, 2)"
      ]
     },
     "execution_count": 133,
     "metadata": {},
     "output_type": "execute_result"
    }
   ],
   "source": [
    "# how many genes have non-zero weight?\n",
    "lv_genes_nonzero_weight.shape"
   ]
  },
  {
   "cell_type": "code",
   "execution_count": 134,
   "id": "af19f8b5-d40f-4e1d-8ff3-aa56e9019617",
   "metadata": {},
   "outputs": [
    {
     "data": {
      "text/plain": [
       "16p13.3     35\n",
       "19p13.2     33\n",
       "11q13.1     31\n",
       "17q12       28\n",
       "19p13.3     26\n",
       "12q24.31    25\n",
       "19q13.2     25\n",
       "17q25.3     21\n",
       "16q22.1     20\n",
       "17q11.2     20\n",
       "Name: gene_band, dtype: int64"
      ]
     },
     "execution_count": 134,
     "metadata": {},
     "output_type": "execute_result"
    }
   ],
   "source": [
    "# how are bands distributed among zero weighted genes?\n",
    "lv_genes_nonzero_weight[\"gene_band\"].value_counts().head(10)"
   ]
  },
  {
   "cell_type": "code",
   "execution_count": 135,
   "id": "37430e11-8249-47f8-bf87-384071ef74d2",
   "metadata": {},
   "outputs": [
    {
     "data": {
      "image/png": "[encoded data removed]",
      "text/plain": [
       "<Figure size 1008x504 with 1 Axes>"
      ]
     },
     "metadata": {
      "needs_background": "light"
     },
     "output_type": "display_data"
    }
   ],
   "source": [
    "# distribution of amount of bands in LV\n",
    "g = sns.displot(lv_genes_nonzero_weight[\"gene_band\"].value_counts(), height=7, aspect=2)"
   ]
  },
  {
   "cell_type": "code",
   "execution_count": 136,
   "id": "0f30b732-5bd8-42ca-a5c1-7a675c921714",
   "metadata": {},
   "outputs": [
    {
     "data": {
      "image/png": "[encoded data removed]",
      "text/plain": [
       "<Figure size 1008x504 with 1 Axes>"
      ]
     },
     "metadata": {
      "needs_background": "light"
     },
     "output_type": "display_data"
    }
   ],
   "source": [
    "# distribution of weights in LV\n",
    "g = sns.displot(lv_genes[lv_genes[lv_code] > 0][lv_code], height=7, aspect=2)"
   ]
  },
  {
   "cell_type": "markdown",
   "id": "59a7fbe4-0dd7-4aa3-8853-8b52f6c488a2",
   "metadata": {},
   "source": [
    "# LVs with expected mean type I error"
   ]
  },
  {
   "cell_type": "code",
   "execution_count": 137,
   "id": "ce2afb72-b7e6-460c-a1d4-f85e65086626",
   "metadata": {},
   "outputs": [
    {
     "data": {
      "text/html": [
       "<div>\n",
       "<style scoped>\n",
       "    .dataframe tbody tr th:only-of-type {\n",
       "        vertical-align: middle;\n",
       "    }\n",
       "\n",
       "    .dataframe tbody tr th {\n",
       "        vertical-align: top;\n",
       "    }\n",
       "\n",
       "    .dataframe thead th {\n",
       "        text-align: right;\n",
       "    }\n",
       "</style>\n",
       "<table border=\"1\" class=\"dataframe\">\n",
       "  <thead>\n",
       "    <tr style=\"text-align: right;\">\n",
       "      <th></th>\n",
       "      <th>lv</th>\n",
       "      <th>1</th>\n",
       "      <th>5</th>\n",
       "      <th>10</th>\n",
       "    </tr>\n",
       "  </thead>\n",
       "  <tbody>\n",
       "    <tr>\n",
       "      <th>934</th>\n",
       "      <td>LV940</td>\n",
       "      <td>0.014</td>\n",
       "      <td>0.049</td>\n",
       "      <td>0.086</td>\n",
       "    </tr>\n",
       "    <tr>\n",
       "      <th>578</th>\n",
       "      <td>LV62</td>\n",
       "      <td>0.015</td>\n",
       "      <td>0.049</td>\n",
       "      <td>0.089</td>\n",
       "    </tr>\n",
       "    <tr>\n",
       "      <th>753</th>\n",
       "      <td>LV778</td>\n",
       "      <td>0.010</td>\n",
       "      <td>0.049</td>\n",
       "      <td>0.096</td>\n",
       "    </tr>\n",
       "    <tr>\n",
       "      <th>746</th>\n",
       "      <td>LV771</td>\n",
       "      <td>0.015</td>\n",
       "      <td>0.049</td>\n",
       "      <td>0.098</td>\n",
       "    </tr>\n",
       "    <tr>\n",
       "      <th>386</th>\n",
       "      <td>LV447</td>\n",
       "      <td>0.008</td>\n",
       "      <td>0.049</td>\n",
       "      <td>0.090</td>\n",
       "    </tr>\n",
       "    <tr>\n",
       "      <th>395</th>\n",
       "      <td>LV455</td>\n",
       "      <td>0.016</td>\n",
       "      <td>0.049</td>\n",
       "      <td>0.098</td>\n",
       "    </tr>\n",
       "    <tr>\n",
       "      <th>398</th>\n",
       "      <td>LV458</td>\n",
       "      <td>0.011</td>\n",
       "      <td>0.049</td>\n",
       "      <td>0.085</td>\n",
       "    </tr>\n",
       "    <tr>\n",
       "      <th>257</th>\n",
       "      <td>LV330</td>\n",
       "      <td>0.010</td>\n",
       "      <td>0.049</td>\n",
       "      <td>0.096</td>\n",
       "    </tr>\n",
       "    <tr>\n",
       "      <th>407</th>\n",
       "      <td>LV466</td>\n",
       "      <td>0.012</td>\n",
       "      <td>0.049</td>\n",
       "      <td>0.094</td>\n",
       "    </tr>\n",
       "    <tr>\n",
       "      <th>702</th>\n",
       "      <td>LV731</td>\n",
       "      <td>0.006</td>\n",
       "      <td>0.049</td>\n",
       "      <td>0.081</td>\n",
       "    </tr>\n",
       "    <tr>\n",
       "      <th>693</th>\n",
       "      <td>LV723</td>\n",
       "      <td>0.010</td>\n",
       "      <td>0.049</td>\n",
       "      <td>0.091</td>\n",
       "    </tr>\n",
       "    <tr>\n",
       "      <th>680</th>\n",
       "      <td>LV711</td>\n",
       "      <td>0.015</td>\n",
       "      <td>0.049</td>\n",
       "      <td>0.085</td>\n",
       "    </tr>\n",
       "    <tr>\n",
       "      <th>677</th>\n",
       "      <td>LV709</td>\n",
       "      <td>0.020</td>\n",
       "      <td>0.049</td>\n",
       "      <td>0.103</td>\n",
       "    </tr>\n",
       "    <tr>\n",
       "      <th>657</th>\n",
       "      <td>LV691</td>\n",
       "      <td>0.013</td>\n",
       "      <td>0.049</td>\n",
       "      <td>0.098</td>\n",
       "    </tr>\n",
       "    <tr>\n",
       "      <th>639</th>\n",
       "      <td>LV675</td>\n",
       "      <td>0.011</td>\n",
       "      <td>0.049</td>\n",
       "      <td>0.100</td>\n",
       "    </tr>\n",
       "    <tr>\n",
       "      <th>411</th>\n",
       "      <td>LV47</td>\n",
       "      <td>0.015</td>\n",
       "      <td>0.049</td>\n",
       "      <td>0.082</td>\n",
       "    </tr>\n",
       "    <tr>\n",
       "      <th>254</th>\n",
       "      <td>LV328</td>\n",
       "      <td>0.012</td>\n",
       "      <td>0.049</td>\n",
       "      <td>0.087</td>\n",
       "    </tr>\n",
       "    <tr>\n",
       "      <th>764</th>\n",
       "      <td>LV788</td>\n",
       "      <td>0.012</td>\n",
       "      <td>0.049</td>\n",
       "      <td>0.083</td>\n",
       "    </tr>\n",
       "    <tr>\n",
       "      <th>73</th>\n",
       "      <td>LV165</td>\n",
       "      <td>0.011</td>\n",
       "      <td>0.049</td>\n",
       "      <td>0.084</td>\n",
       "    </tr>\n",
       "    <tr>\n",
       "      <th>916</th>\n",
       "      <td>LV924</td>\n",
       "      <td>0.009</td>\n",
       "      <td>0.049</td>\n",
       "      <td>0.096</td>\n",
       "    </tr>\n",
       "  </tbody>\n",
       "</table>\n",
       "</div>"
      ],
      "text/plain": [
       "        lv      1      5     10\n",
       "934  LV940  0.014  0.049  0.086\n",
       "578   LV62  0.015  0.049  0.089\n",
       "753  LV778  0.010  0.049  0.096\n",
       "746  LV771  0.015  0.049  0.098\n",
       "386  LV447  0.008  0.049  0.090\n",
       "395  LV455  0.016  0.049  0.098\n",
       "398  LV458  0.011  0.049  0.085\n",
       "257  LV330  0.010  0.049  0.096\n",
       "407  LV466  0.012  0.049  0.094\n",
       "702  LV731  0.006  0.049  0.081\n",
       "693  LV723  0.010  0.049  0.091\n",
       "680  LV711  0.015  0.049  0.085\n",
       "677  LV709  0.020  0.049  0.103\n",
       "657  LV691  0.013  0.049  0.098\n",
       "639  LV675  0.011  0.049  0.100\n",
       "411   LV47  0.015  0.049  0.082\n",
       "254  LV328  0.012  0.049  0.087\n",
       "764  LV788  0.012  0.049  0.083\n",
       "73   LV165  0.011  0.049  0.084\n",
       "916  LV924  0.009  0.049  0.096"
      ]
     },
     "metadata": {},
     "output_type": "display_data"
    }
   ],
   "source": [
    "display(lvs_expected_error.sort_values(\"5\").head(20))"
   ]
  },
  {
   "cell_type": "markdown",
   "id": "9dd51c52-09e1-4b42-a8b6-ebd2eb30ab17",
   "metadata": {},
   "source": [
    "Here I'm manually selecting from this list, since I want those that are well calibrated across different p-value thresholds."
   ]
  },
  {
   "cell_type": "markdown",
   "id": "28814b98-a72e-453f-b029-7ac950123ee6",
   "metadata": {},
   "source": [
    "## LV924"
   ]
  },
  {
   "cell_type": "code",
   "execution_count": 138,
   "id": "933ff234-5531-4372-bae7-21dbf9a6a7be",
   "metadata": {},
   "outputs": [],
   "source": [
    "lv_code = \"LV924\""
   ]
  },
  {
   "cell_type": "code",
   "execution_count": 139,
   "id": "8ee3b993-d3c8-48a3-98e5-f8cc4ec44a21",
   "metadata": {},
   "outputs": [],
   "source": [
    "results = dfs[dfs[\"lv\"] == lv_code]"
   ]
  },
  {
   "cell_type": "code",
   "execution_count": 140,
   "id": "700dfa79-fd9e-46f7-8162-4e7ee5f37c07",
   "metadata": {},
   "outputs": [
    {
     "data": {
      "text/plain": [
       "(1000, 7)"
      ]
     },
     "execution_count": 140,
     "metadata": {},
     "output_type": "execute_result"
    }
   ],
   "source": [
    "results.shape"
   ]
  },
  {
   "cell_type": "code",
   "execution_count": 141,
   "id": "69dfb800-0a94-40de-bdba-f99580e6ac97",
   "metadata": {},
   "outputs": [
    {
     "data": {
      "text/html": [
       "<div>\n",
       "<style scoped>\n",
       "    .dataframe tbody tr th:only-of-type {\n",
       "        vertical-align: middle;\n",
       "    }\n",
       "\n",
       "    .dataframe tbody tr th {\n",
       "        vertical-align: top;\n",
       "    }\n",
       "\n",
       "    .dataframe thead th {\n",
       "        text-align: right;\n",
       "    }\n",
       "</style>\n",
       "<table border=\"1\" class=\"dataframe\">\n",
       "  <thead>\n",
       "    <tr style=\"text-align: right;\">\n",
       "      <th></th>\n",
       "      <th>lv</th>\n",
       "      <th>beta</th>\n",
       "      <th>beta_se</th>\n",
       "      <th>t</th>\n",
       "      <th>pvalue_twosided</th>\n",
       "      <th>pvalue_onesided</th>\n",
       "      <th>phenotype</th>\n",
       "    </tr>\n",
       "  </thead>\n",
       "  <tbody>\n",
       "    <tr>\n",
       "      <th>522</th>\n",
       "      <td>LV924</td>\n",
       "      <td>-0.024598</td>\n",
       "      <td>0.124579</td>\n",
       "      <td>-0.197446</td>\n",
       "      <td>0.843485</td>\n",
       "      <td>0.578258</td>\n",
       "      <td>random.pheno988</td>\n",
       "    </tr>\n",
       "    <tr>\n",
       "      <th>1692</th>\n",
       "      <td>LV924</td>\n",
       "      <td>-0.089025</td>\n",
       "      <td>0.124800</td>\n",
       "      <td>-0.713343</td>\n",
       "      <td>0.475659</td>\n",
       "      <td>0.762170</td>\n",
       "      <td>random.pheno589</td>\n",
       "    </tr>\n",
       "    <tr>\n",
       "      <th>2517</th>\n",
       "      <td>LV924</td>\n",
       "      <td>-0.018074</td>\n",
       "      <td>0.124664</td>\n",
       "      <td>-0.144982</td>\n",
       "      <td>0.884730</td>\n",
       "      <td>0.557635</td>\n",
       "      <td>random.pheno385</td>\n",
       "    </tr>\n",
       "    <tr>\n",
       "      <th>3306</th>\n",
       "      <td>LV924</td>\n",
       "      <td>0.046068</td>\n",
       "      <td>0.124668</td>\n",
       "      <td>0.369527</td>\n",
       "      <td>0.711747</td>\n",
       "      <td>0.355874</td>\n",
       "      <td>random.pheno5</td>\n",
       "    </tr>\n",
       "    <tr>\n",
       "      <th>4929</th>\n",
       "      <td>LV924</td>\n",
       "      <td>-0.270906</td>\n",
       "      <td>0.124746</td>\n",
       "      <td>-2.171668</td>\n",
       "      <td>0.029917</td>\n",
       "      <td>0.985041</td>\n",
       "      <td>random.pheno74</td>\n",
       "    </tr>\n",
       "  </tbody>\n",
       "</table>\n",
       "</div>"
      ],
      "text/plain": [
       "         lv      beta   beta_se         t  pvalue_twosided  pvalue_onesided  \\\n",
       "522   LV924 -0.024598  0.124579 -0.197446         0.843485         0.578258   \n",
       "1692  LV924 -0.089025  0.124800 -0.713343         0.475659         0.762170   \n",
       "2517  LV924 -0.018074  0.124664 -0.144982         0.884730         0.557635   \n",
       "3306  LV924  0.046068  0.124668  0.369527         0.711747         0.355874   \n",
       "4929  LV924 -0.270906  0.124746 -2.171668         0.029917         0.985041   \n",
       "\n",
       "            phenotype  \n",
       "522   random.pheno988  \n",
       "1692  random.pheno589  \n",
       "2517  random.pheno385  \n",
       "3306    random.pheno5  \n",
       "4929   random.pheno74  "
      ]
     },
     "execution_count": 141,
     "metadata": {},
     "output_type": "execute_result"
    }
   ],
   "source": [
    "results.head()"
   ]
  },
  {
   "cell_type": "markdown",
   "id": "c76d79cb-07f1-4b79-a912-4efe4059fed6",
   "metadata": {},
   "source": [
    "### Mean type I errors at different thresholds"
   ]
  },
  {
   "cell_type": "code",
   "execution_count": 142,
   "id": "225ea884-d878-436c-93cc-256c0d5ae901",
   "metadata": {},
   "outputs": [
    {
     "data": {
      "text/plain": [
       "0.009"
      ]
     },
     "execution_count": 142,
     "metadata": {},
     "output_type": "execute_result"
    }
   ],
   "source": [
    "show_prop(results, 0.01)"
   ]
  },
  {
   "cell_type": "code",
   "execution_count": 143,
   "id": "92d1c844-84f9-4015-ab48-73d2f6a767c5",
   "metadata": {},
   "outputs": [
    {
     "data": {
      "text/plain": [
       "0.049"
      ]
     },
     "execution_count": 143,
     "metadata": {},
     "output_type": "execute_result"
    }
   ],
   "source": [
    "show_prop(results, 0.05)"
   ]
  },
  {
   "cell_type": "code",
   "execution_count": 144,
   "id": "3151eee1-eb97-4369-8ae4-a10b250de970",
   "metadata": {},
   "outputs": [
    {
     "data": {
      "text/plain": [
       "0.096"
      ]
     },
     "execution_count": 144,
     "metadata": {},
     "output_type": "execute_result"
    }
   ],
   "source": [
    "show_prop(results, 0.10)"
   ]
  },
  {
   "cell_type": "code",
   "execution_count": 145,
   "id": "722f7d9f-9788-4589-814b-bd5c6dcf82bf",
   "metadata": {},
   "outputs": [
    {
     "data": {
      "text/plain": [
       "0.135"
      ]
     },
     "execution_count": 145,
     "metadata": {},
     "output_type": "execute_result"
    }
   ],
   "source": [
    "show_prop(results, 0.15)"
   ]
  },
  {
   "cell_type": "code",
   "execution_count": 146,
   "id": "e69b93c6-d246-4228-97a1-3c5783eb8d3d",
   "metadata": {},
   "outputs": [
    {
     "data": {
      "text/plain": [
       "0.178"
      ]
     },
     "execution_count": 146,
     "metadata": {},
     "output_type": "execute_result"
    }
   ],
   "source": [
    "show_prop(results, 0.20)"
   ]
  },
  {
   "cell_type": "markdown",
   "id": "e3bb9c47-46b1-4626-88c2-0442fdfa2a6a",
   "metadata": {},
   "source": [
    "### QQplot"
   ]
  },
  {
   "cell_type": "code",
   "execution_count": 147,
   "id": "6c197eac-8928-45b7-8210-064bc1635399",
   "metadata": {},
   "outputs": [
    {
     "data": {
      "image/png": "[encoded data removed]",
      "text/plain": [
       "<Figure size 576x576 with 1 Axes>"
      ]
     },
     "metadata": {
      "needs_background": "light"
     },
     "output_type": "display_data"
    }
   ],
   "source": [
    "qqplot_unif(results)"
   ]
  },
  {
   "cell_type": "markdown",
   "id": "bc090578-b4ce-4761-ad41-2578dc65e10e",
   "metadata": {},
   "source": [
    "Hm, well calibrated in general, but with one small pvalue."
   ]
  },
  {
   "cell_type": "markdown",
   "id": "44e3e1f7-872f-4611-bc52-67fbf74dad48",
   "metadata": {},
   "source": [
    "### Top genes in LV"
   ]
  },
  {
   "cell_type": "code",
   "execution_count": 148,
   "id": "a001ae42-c019-4b14-9a75-6b31faf0be65",
   "metadata": {},
   "outputs": [
    {
     "data": {
      "text/html": [
       "<div>\n",
       "<style scoped>\n",
       "    .dataframe tbody tr th:only-of-type {\n",
       "        vertical-align: middle;\n",
       "    }\n",
       "\n",
       "    .dataframe tbody tr th {\n",
       "        vertical-align: top;\n",
       "    }\n",
       "\n",
       "    .dataframe thead th {\n",
       "        text-align: right;\n",
       "    }\n",
       "</style>\n",
       "<table border=\"1\" class=\"dataframe\">\n",
       "  <thead>\n",
       "    <tr style=\"text-align: right;\">\n",
       "      <th></th>\n",
       "      <th>LV924</th>\n",
       "      <th>gene_band</th>\n",
       "    </tr>\n",
       "  </thead>\n",
       "  <tbody>\n",
       "    <tr>\n",
       "      <th>GALC</th>\n",
       "      <td>7.681284</td>\n",
       "      <td>14q31.3</td>\n",
       "    </tr>\n",
       "    <tr>\n",
       "      <th>NMNAT2</th>\n",
       "      <td>5.648588</td>\n",
       "      <td>1q25.3</td>\n",
       "    </tr>\n",
       "    <tr>\n",
       "      <th>RPL41</th>\n",
       "      <td>3.884772</td>\n",
       "      <td>12q13.2</td>\n",
       "    </tr>\n",
       "    <tr>\n",
       "      <th>UBA2</th>\n",
       "      <td>2.643791</td>\n",
       "      <td>19q13.11</td>\n",
       "    </tr>\n",
       "    <tr>\n",
       "      <th>ATP1B3</th>\n",
       "      <td>1.863783</td>\n",
       "      <td>3q23</td>\n",
       "    </tr>\n",
       "    <tr>\n",
       "      <th>FKBP14</th>\n",
       "      <td>1.573648</td>\n",
       "      <td>7p14.3</td>\n",
       "    </tr>\n",
       "    <tr>\n",
       "      <th>PAPOLB</th>\n",
       "      <td>1.234690</td>\n",
       "      <td>7p22.1</td>\n",
       "    </tr>\n",
       "    <tr>\n",
       "      <th>CEP192</th>\n",
       "      <td>1.164243</td>\n",
       "      <td>18p11.21</td>\n",
       "    </tr>\n",
       "    <tr>\n",
       "      <th>GAB2</th>\n",
       "      <td>1.092178</td>\n",
       "      <td>11q14.1</td>\n",
       "    </tr>\n",
       "    <tr>\n",
       "      <th>HRH4</th>\n",
       "      <td>1.016745</td>\n",
       "      <td>18q11.2</td>\n",
       "    </tr>\n",
       "    <tr>\n",
       "      <th>SMAD1</th>\n",
       "      <td>0.951993</td>\n",
       "      <td>4q31.21</td>\n",
       "    </tr>\n",
       "    <tr>\n",
       "      <th>OSBPL1A</th>\n",
       "      <td>0.950582</td>\n",
       "      <td>18q11.2</td>\n",
       "    </tr>\n",
       "    <tr>\n",
       "      <th>ALG10</th>\n",
       "      <td>0.942691</td>\n",
       "      <td>12p11.1</td>\n",
       "    </tr>\n",
       "    <tr>\n",
       "      <th>TMEM62</th>\n",
       "      <td>0.874833</td>\n",
       "      <td>15q15.2</td>\n",
       "    </tr>\n",
       "    <tr>\n",
       "      <th>DHX15</th>\n",
       "      <td>0.865967</td>\n",
       "      <td>4p15.2</td>\n",
       "    </tr>\n",
       "    <tr>\n",
       "      <th>CHRNA5</th>\n",
       "      <td>0.745103</td>\n",
       "      <td>15q25.1</td>\n",
       "    </tr>\n",
       "    <tr>\n",
       "      <th>PSPN</th>\n",
       "      <td>0.689418</td>\n",
       "      <td>19p13.3</td>\n",
       "    </tr>\n",
       "    <tr>\n",
       "      <th>KDM4C</th>\n",
       "      <td>0.642821</td>\n",
       "      <td>9p24.1</td>\n",
       "    </tr>\n",
       "    <tr>\n",
       "      <th>LDHC</th>\n",
       "      <td>0.637052</td>\n",
       "      <td>11p15.1</td>\n",
       "    </tr>\n",
       "    <tr>\n",
       "      <th>SLC4A5</th>\n",
       "      <td>0.548920</td>\n",
       "      <td>2p13.1</td>\n",
       "    </tr>\n",
       "    <tr>\n",
       "      <th>TNFRSF11A</th>\n",
       "      <td>0.517466</td>\n",
       "      <td>18q21.33</td>\n",
       "    </tr>\n",
       "    <tr>\n",
       "      <th>PRKACG</th>\n",
       "      <td>0.503776</td>\n",
       "      <td>9q21.11</td>\n",
       "    </tr>\n",
       "    <tr>\n",
       "      <th>KIRREL2</th>\n",
       "      <td>0.487651</td>\n",
       "      <td>19q13.12</td>\n",
       "    </tr>\n",
       "    <tr>\n",
       "      <th>CDC45</th>\n",
       "      <td>0.444469</td>\n",
       "      <td>22q11.21</td>\n",
       "    </tr>\n",
       "    <tr>\n",
       "      <th>EXOSC5</th>\n",
       "      <td>0.431429</td>\n",
       "      <td>19q13.2</td>\n",
       "    </tr>\n",
       "  </tbody>\n",
       "</table>\n",
       "</div>"
      ],
      "text/plain": [
       "              LV924 gene_band\n",
       "GALC       7.681284   14q31.3\n",
       "NMNAT2     5.648588    1q25.3\n",
       "RPL41      3.884772   12q13.2\n",
       "UBA2       2.643791  19q13.11\n",
       "ATP1B3     1.863783      3q23\n",
       "FKBP14     1.573648    7p14.3\n",
       "PAPOLB     1.234690    7p22.1\n",
       "CEP192     1.164243  18p11.21\n",
       "GAB2       1.092178   11q14.1\n",
       "HRH4       1.016745   18q11.2\n",
       "SMAD1      0.951993   4q31.21\n",
       "OSBPL1A    0.950582   18q11.2\n",
       "ALG10      0.942691   12p11.1\n",
       "TMEM62     0.874833   15q15.2\n",
       "DHX15      0.865967    4p15.2\n",
       "CHRNA5     0.745103   15q25.1\n",
       "PSPN       0.689418   19p13.3\n",
       "KDM4C      0.642821    9p24.1\n",
       "LDHC       0.637052   11p15.1\n",
       "SLC4A5     0.548920    2p13.1\n",
       "TNFRSF11A  0.517466  18q21.33\n",
       "PRKACG     0.503776   9q21.11\n",
       "KIRREL2    0.487651  19q13.12\n",
       "CDC45      0.444469  22q11.21\n",
       "EXOSC5     0.431429   19q13.2"
      ]
     },
     "metadata": {},
     "output_type": "display_data"
    }
   ],
   "source": [
    "lv_genes = get_lv_genes(lv_code)\n",
    "display(lv_genes.head(25))"
   ]
  },
  {
   "cell_type": "code",
   "execution_count": 149,
   "id": "82ef55bc-6f4c-4f77-a919-9908401acfc3",
   "metadata": {},
   "outputs": [
    {
     "data": {
      "text/plain": [
       "18q11.2     2\n",
       "15q15.2     1\n",
       "4q31.21     1\n",
       "9p24.1      1\n",
       "1q25.3      1\n",
       "4p15.2      1\n",
       "9q21.11     1\n",
       "18p11.21    1\n",
       "11p15.1     1\n",
       "11q14.1     1\n",
       "Name: gene_band, dtype: int64"
      ]
     },
     "execution_count": 149,
     "metadata": {},
     "output_type": "execute_result"
    }
   ],
   "source": [
    "# see bands of top genes\n",
    "lv_genes.head(25)[\"gene_band\"].value_counts().head(10)"
   ]
  },
  {
   "cell_type": "code",
   "execution_count": 150,
   "id": "6615abef-f1d7-45bf-9d6f-8631d2e93c21",
   "metadata": {},
   "outputs": [],
   "source": [
    "# take a look at all genes with non-zero weight\n",
    "lv_genes_nonzero_weight = lv_genes[lv_genes[lv_code] > 0]"
   ]
  },
  {
   "cell_type": "code",
   "execution_count": 151,
   "id": "d5754496-c12f-4396-9499-11f2c58d18a0",
   "metadata": {},
   "outputs": [
    {
     "data": {
      "text/plain": [
       "(2455, 2)"
      ]
     },
     "execution_count": 151,
     "metadata": {},
     "output_type": "execute_result"
    }
   ],
   "source": [
    "# how many genes have non-zero weight?\n",
    "lv_genes_nonzero_weight.shape"
   ]
  },
  {
   "cell_type": "code",
   "execution_count": 152,
   "id": "e65287c3-3363-4fd4-9ddf-64f9ca9c3715",
   "metadata": {},
   "outputs": [
    {
     "data": {
      "text/plain": [
       "16p13.3     39\n",
       "1q21.3      29\n",
       "19q13.2     26\n",
       "17p13.1     24\n",
       "19p13.3     24\n",
       "17q25.3     20\n",
       "3p21.31     20\n",
       "6p21.33     19\n",
       "19p13.2     19\n",
       "19q13.33    18\n",
       "Name: gene_band, dtype: int64"
      ]
     },
     "execution_count": 152,
     "metadata": {},
     "output_type": "execute_result"
    }
   ],
   "source": [
    "# how are bands distributed among zero weighted genes?\n",
    "lv_genes_nonzero_weight[\"gene_band\"].value_counts().head(10)"
   ]
  },
  {
   "cell_type": "markdown",
   "id": "47cdd6c5-3739-4757-b6bc-69ac0905c3e9",
   "metadata": {},
   "source": [
    "Similar to LV769."
   ]
  },
  {
   "cell_type": "code",
   "execution_count": 153,
   "id": "1ecd7883-3b69-4f97-bf46-5b3df1eff641",
   "metadata": {},
   "outputs": [
    {
     "data": {
      "image/png": "[encoded data removed]",
      "text/plain": [
       "<Figure size 1008x504 with 1 Axes>"
      ]
     },
     "metadata": {
      "needs_background": "light"
     },
     "output_type": "display_data"
    }
   ],
   "source": [
    "# distribution of amount of bands in LV\n",
    "g = sns.displot(lv_genes_nonzero_weight[\"gene_band\"].value_counts(), height=7, aspect=2)"
   ]
  },
  {
   "cell_type": "code",
   "execution_count": 154,
   "id": "98303943-ecb8-49f9-b802-988fe34e1924",
   "metadata": {},
   "outputs": [
    {
     "data": {
      "image/png": "[encoded data removed]",
      "text/plain": [
       "<Figure size 1008x504 with 1 Axes>"
      ]
     },
     "metadata": {
      "needs_background": "light"
     },
     "output_type": "display_data"
    }
   ],
   "source": [
    "# distribution of weights in LV\n",
    "g = sns.displot(lv_genes[lv_genes[lv_code] > 0][lv_code], height=7, aspect=2)"
   ]
  },
  {
   "cell_type": "markdown",
   "id": "4ccc8640-ea0d-4368-bf76-b919e5d33409",
   "metadata": {},
   "source": [
    "## LV675"
   ]
  },
  {
   "cell_type": "code",
   "execution_count": 155,
   "id": "8a6316a3-dcde-4dcd-a09c-6f38cd47f7e8",
   "metadata": {},
   "outputs": [],
   "source": [
    "lv_code = \"LV675\""
   ]
  },
  {
   "cell_type": "code",
   "execution_count": 156,
   "id": "7ddac650-36ac-4f2f-8a27-95e6c1461647",
   "metadata": {},
   "outputs": [],
   "source": [
    "results = dfs[dfs[\"lv\"] == lv_code]"
   ]
  },
  {
   "cell_type": "code",
   "execution_count": 157,
   "id": "695743ec-cb80-4b3e-9a0d-4d4d594e7ed2",
   "metadata": {},
   "outputs": [
    {
     "data": {
      "text/plain": [
       "(1000, 7)"
      ]
     },
     "execution_count": 157,
     "metadata": {},
     "output_type": "execute_result"
    }
   ],
   "source": [
    "results.shape"
   ]
  },
  {
   "cell_type": "code",
   "execution_count": 158,
   "id": "1622bce0-94e7-45bf-8109-b7f6c9c12e42",
   "metadata": {},
   "outputs": [
    {
     "data": {
      "text/html": [
       "<div>\n",
       "<style scoped>\n",
       "    .dataframe tbody tr th:only-of-type {\n",
       "        vertical-align: middle;\n",
       "    }\n",
       "\n",
       "    .dataframe tbody tr th {\n",
       "        vertical-align: top;\n",
       "    }\n",
       "\n",
       "    .dataframe thead th {\n",
       "        text-align: right;\n",
       "    }\n",
       "</style>\n",
       "<table border=\"1\" class=\"dataframe\">\n",
       "  <thead>\n",
       "    <tr style=\"text-align: right;\">\n",
       "      <th></th>\n",
       "      <th>lv</th>\n",
       "      <th>beta</th>\n",
       "      <th>beta_se</th>\n",
       "      <th>t</th>\n",
       "      <th>pvalue_twosided</th>\n",
       "      <th>pvalue_onesided</th>\n",
       "      <th>phenotype</th>\n",
       "    </tr>\n",
       "  </thead>\n",
       "  <tbody>\n",
       "    <tr>\n",
       "      <th>925</th>\n",
       "      <td>LV675</td>\n",
       "      <td>-0.193009</td>\n",
       "      <td>0.124676</td>\n",
       "      <td>-1.548087</td>\n",
       "      <td>0.121651</td>\n",
       "      <td>0.939175</td>\n",
       "      <td>random.pheno988</td>\n",
       "    </tr>\n",
       "    <tr>\n",
       "      <th>1441</th>\n",
       "      <td>LV675</td>\n",
       "      <td>-0.000207</td>\n",
       "      <td>0.124924</td>\n",
       "      <td>-0.001660</td>\n",
       "      <td>0.998675</td>\n",
       "      <td>0.500662</td>\n",
       "      <td>random.pheno589</td>\n",
       "    </tr>\n",
       "    <tr>\n",
       "      <th>2171</th>\n",
       "      <td>LV675</td>\n",
       "      <td>0.101580</td>\n",
       "      <td>0.124777</td>\n",
       "      <td>0.814092</td>\n",
       "      <td>0.415623</td>\n",
       "      <td>0.207811</td>\n",
       "      <td>random.pheno385</td>\n",
       "    </tr>\n",
       "    <tr>\n",
       "      <th>3781</th>\n",
       "      <td>LV675</td>\n",
       "      <td>-0.111110</td>\n",
       "      <td>0.124781</td>\n",
       "      <td>-0.890441</td>\n",
       "      <td>0.373262</td>\n",
       "      <td>0.813369</td>\n",
       "      <td>random.pheno5</td>\n",
       "    </tr>\n",
       "    <tr>\n",
       "      <th>4333</th>\n",
       "      <td>LV675</td>\n",
       "      <td>0.025379</td>\n",
       "      <td>0.124910</td>\n",
       "      <td>0.203178</td>\n",
       "      <td>0.839003</td>\n",
       "      <td>0.419501</td>\n",
       "      <td>random.pheno74</td>\n",
       "    </tr>\n",
       "  </tbody>\n",
       "</table>\n",
       "</div>"
      ],
      "text/plain": [
       "         lv      beta   beta_se         t  pvalue_twosided  pvalue_onesided  \\\n",
       "925   LV675 -0.193009  0.124676 -1.548087         0.121651         0.939175   \n",
       "1441  LV675 -0.000207  0.124924 -0.001660         0.998675         0.500662   \n",
       "2171  LV675  0.101580  0.124777  0.814092         0.415623         0.207811   \n",
       "3781  LV675 -0.111110  0.124781 -0.890441         0.373262         0.813369   \n",
       "4333  LV675  0.025379  0.124910  0.203178         0.839003         0.419501   \n",
       "\n",
       "            phenotype  \n",
       "925   random.pheno988  \n",
       "1441  random.pheno589  \n",
       "2171  random.pheno385  \n",
       "3781    random.pheno5  \n",
       "4333   random.pheno74  "
      ]
     },
     "execution_count": 158,
     "metadata": {},
     "output_type": "execute_result"
    }
   ],
   "source": [
    "results.head()"
   ]
  },
  {
   "cell_type": "markdown",
   "id": "c63fc61a-a088-4bb8-bf67-f2444c4b33e7",
   "metadata": {},
   "source": [
    "### Mean type I errors at different thresholds"
   ]
  },
  {
   "cell_type": "code",
   "execution_count": 159,
   "id": "112ad1e9-96bc-4ceb-a3c3-fc54101cf80f",
   "metadata": {},
   "outputs": [
    {
     "data": {
      "text/plain": [
       "0.011"
      ]
     },
     "execution_count": 159,
     "metadata": {},
     "output_type": "execute_result"
    }
   ],
   "source": [
    "show_prop(results, 0.01)"
   ]
  },
  {
   "cell_type": "code",
   "execution_count": 160,
   "id": "0b6975ec-97a5-4c81-91a4-ceacc4b7bc45",
   "metadata": {},
   "outputs": [
    {
     "data": {
      "text/plain": [
       "0.049"
      ]
     },
     "execution_count": 160,
     "metadata": {},
     "output_type": "execute_result"
    }
   ],
   "source": [
    "show_prop(results, 0.05)"
   ]
  },
  {
   "cell_type": "code",
   "execution_count": 161,
   "id": "30120730-d4d0-454a-97b6-88b7b34e4886",
   "metadata": {},
   "outputs": [
    {
     "data": {
      "text/plain": [
       "0.1"
      ]
     },
     "execution_count": 161,
     "metadata": {},
     "output_type": "execute_result"
    }
   ],
   "source": [
    "show_prop(results, 0.10)"
   ]
  },
  {
   "cell_type": "code",
   "execution_count": 162,
   "id": "9a143836-aeef-4ab5-ba45-fdb5d0bb8116",
   "metadata": {},
   "outputs": [
    {
     "data": {
      "text/plain": [
       "0.146"
      ]
     },
     "execution_count": 162,
     "metadata": {},
     "output_type": "execute_result"
    }
   ],
   "source": [
    "show_prop(results, 0.15)"
   ]
  },
  {
   "cell_type": "code",
   "execution_count": 163,
   "id": "362a1961-1636-4a0e-ab4b-b6f7a84c9eeb",
   "metadata": {},
   "outputs": [
    {
     "data": {
      "text/plain": [
       "0.199"
      ]
     },
     "execution_count": 163,
     "metadata": {},
     "output_type": "execute_result"
    }
   ],
   "source": [
    "show_prop(results, 0.20)"
   ]
  },
  {
   "cell_type": "markdown",
   "id": "073932a2-2306-4c44-8d1c-2ab137014c2d",
   "metadata": {},
   "source": [
    "### QQplot"
   ]
  },
  {
   "cell_type": "code",
   "execution_count": 164,
   "id": "215b7c53-5e73-4a3a-8311-515cdbebbe6c",
   "metadata": {},
   "outputs": [
    {
     "data": {
      "image/png": "[encoded data removed]",
      "text/plain": [
       "<Figure size 576x576 with 1 Axes>"
      ]
     },
     "metadata": {
      "needs_background": "light"
     },
     "output_type": "display_data"
    }
   ],
   "source": [
    "qqplot_unif(results)"
   ]
  },
  {
   "cell_type": "markdown",
   "id": "d65263d9-70d7-4765-a7a6-d0d2a57cde0e",
   "metadata": {},
   "source": [
    "Same as before, well calibrated, with one very small pvalue."
   ]
  },
  {
   "cell_type": "markdown",
   "id": "22f3e294-8319-466e-b3d8-d5b6984a46b3",
   "metadata": {},
   "source": [
    "### Top genes in LV"
   ]
  },
  {
   "cell_type": "code",
   "execution_count": 165,
   "id": "af1fd629-71d7-4d7b-abfd-7f0e95beb222",
   "metadata": {},
   "outputs": [
    {
     "data": {
      "text/html": [
       "<div>\n",
       "<style scoped>\n",
       "    .dataframe tbody tr th:only-of-type {\n",
       "        vertical-align: middle;\n",
       "    }\n",
       "\n",
       "    .dataframe tbody tr th {\n",
       "        vertical-align: top;\n",
       "    }\n",
       "\n",
       "    .dataframe thead th {\n",
       "        text-align: right;\n",
       "    }\n",
       "</style>\n",
       "<table border=\"1\" class=\"dataframe\">\n",
       "  <thead>\n",
       "    <tr style=\"text-align: right;\">\n",
       "      <th></th>\n",
       "      <th>LV675</th>\n",
       "      <th>gene_band</th>\n",
       "    </tr>\n",
       "  </thead>\n",
       "  <tbody>\n",
       "    <tr>\n",
       "      <th>CASS4</th>\n",
       "      <td>6.708751</td>\n",
       "      <td>20q13.31</td>\n",
       "    </tr>\n",
       "    <tr>\n",
       "      <th>PDE4B</th>\n",
       "      <td>5.987527</td>\n",
       "      <td>1p31.3</td>\n",
       "    </tr>\n",
       "    <tr>\n",
       "      <th>OSM</th>\n",
       "      <td>5.822618</td>\n",
       "      <td>22q12.2</td>\n",
       "    </tr>\n",
       "    <tr>\n",
       "      <th>SOCS3</th>\n",
       "      <td>5.453257</td>\n",
       "      <td>17q25.3</td>\n",
       "    </tr>\n",
       "    <tr>\n",
       "      <th>LCP2</th>\n",
       "      <td>3.100119</td>\n",
       "      <td>5q35.1</td>\n",
       "    </tr>\n",
       "    <tr>\n",
       "      <th>PLEK</th>\n",
       "      <td>3.085603</td>\n",
       "      <td>2p14</td>\n",
       "    </tr>\n",
       "    <tr>\n",
       "      <th>PROK2</th>\n",
       "      <td>2.669296</td>\n",
       "      <td>3p13</td>\n",
       "    </tr>\n",
       "    <tr>\n",
       "      <th>PPIF</th>\n",
       "      <td>2.579872</td>\n",
       "      <td>10q22.3</td>\n",
       "    </tr>\n",
       "    <tr>\n",
       "      <th>PTGS2</th>\n",
       "      <td>2.371748</td>\n",
       "      <td>1q31.1</td>\n",
       "    </tr>\n",
       "    <tr>\n",
       "      <th>TREM1</th>\n",
       "      <td>2.315952</td>\n",
       "      <td>6p21.1</td>\n",
       "    </tr>\n",
       "    <tr>\n",
       "      <th>G0S2</th>\n",
       "      <td>2.224201</td>\n",
       "      <td>1q32.2</td>\n",
       "    </tr>\n",
       "    <tr>\n",
       "      <th>EGR3</th>\n",
       "      <td>2.117560</td>\n",
       "      <td>8p21.3</td>\n",
       "    </tr>\n",
       "    <tr>\n",
       "      <th>NAMPT</th>\n",
       "      <td>2.103713</td>\n",
       "      <td>7q22.3</td>\n",
       "    </tr>\n",
       "    <tr>\n",
       "      <th>GPR65</th>\n",
       "      <td>1.962401</td>\n",
       "      <td>14q31.3</td>\n",
       "    </tr>\n",
       "    <tr>\n",
       "      <th>ICAM1</th>\n",
       "      <td>1.857476</td>\n",
       "      <td>19p13.2</td>\n",
       "    </tr>\n",
       "    <tr>\n",
       "      <th>CD55</th>\n",
       "      <td>1.822478</td>\n",
       "      <td>1q32.2</td>\n",
       "    </tr>\n",
       "    <tr>\n",
       "      <th>PELI1</th>\n",
       "      <td>1.756280</td>\n",
       "      <td>2p14</td>\n",
       "    </tr>\n",
       "    <tr>\n",
       "      <th>CISH</th>\n",
       "      <td>1.663014</td>\n",
       "      <td>3p21.2</td>\n",
       "    </tr>\n",
       "    <tr>\n",
       "      <th>TREML2</th>\n",
       "      <td>1.588418</td>\n",
       "      <td>6p21.1</td>\n",
       "    </tr>\n",
       "    <tr>\n",
       "      <th>AQP9</th>\n",
       "      <td>1.522985</td>\n",
       "      <td>15q21.3</td>\n",
       "    </tr>\n",
       "    <tr>\n",
       "      <th>C5AR1</th>\n",
       "      <td>1.518472</td>\n",
       "      <td>19q13.32</td>\n",
       "    </tr>\n",
       "    <tr>\n",
       "      <th>BTG2</th>\n",
       "      <td>1.497186</td>\n",
       "      <td>1q32.1</td>\n",
       "    </tr>\n",
       "    <tr>\n",
       "      <th>FCAR</th>\n",
       "      <td>1.497011</td>\n",
       "      <td>19q13.42</td>\n",
       "    </tr>\n",
       "    <tr>\n",
       "      <th>THBD</th>\n",
       "      <td>1.480292</td>\n",
       "      <td>20p11.21</td>\n",
       "    </tr>\n",
       "    <tr>\n",
       "      <th>TLR4</th>\n",
       "      <td>1.386619</td>\n",
       "      <td>9q33.1</td>\n",
       "    </tr>\n",
       "  </tbody>\n",
       "</table>\n",
       "</div>"
      ],
      "text/plain": [
       "           LV675 gene_band\n",
       "CASS4   6.708751  20q13.31\n",
       "PDE4B   5.987527    1p31.3\n",
       "OSM     5.822618   22q12.2\n",
       "SOCS3   5.453257   17q25.3\n",
       "LCP2    3.100119    5q35.1\n",
       "PLEK    3.085603      2p14\n",
       "PROK2   2.669296      3p13\n",
       "PPIF    2.579872   10q22.3\n",
       "PTGS2   2.371748    1q31.1\n",
       "TREM1   2.315952    6p21.1\n",
       "G0S2    2.224201    1q32.2\n",
       "EGR3    2.117560    8p21.3\n",
       "NAMPT   2.103713    7q22.3\n",
       "GPR65   1.962401   14q31.3\n",
       "ICAM1   1.857476   19p13.2\n",
       "CD55    1.822478    1q32.2\n",
       "PELI1   1.756280      2p14\n",
       "CISH    1.663014    3p21.2\n",
       "TREML2  1.588418    6p21.1\n",
       "AQP9    1.522985   15q21.3\n",
       "C5AR1   1.518472  19q13.32\n",
       "BTG2    1.497186    1q32.1\n",
       "FCAR    1.497011  19q13.42\n",
       "THBD    1.480292  20p11.21\n",
       "TLR4    1.386619    9q33.1"
      ]
     },
     "metadata": {},
     "output_type": "display_data"
    }
   ],
   "source": [
    "lv_genes = get_lv_genes(lv_code)\n",
    "display(lv_genes.head(25))"
   ]
  },
  {
   "cell_type": "code",
   "execution_count": 166,
   "id": "0e510fa1-c8a5-4107-a360-ee540040c6d3",
   "metadata": {},
   "outputs": [
    {
     "data": {
      "text/plain": [
       "1q32.2      2\n",
       "6p21.1      2\n",
       "2p14        2\n",
       "8p21.3      1\n",
       "5q35.1      1\n",
       "14q31.3     1\n",
       "1p31.3      1\n",
       "7q22.3      1\n",
       "20p11.21    1\n",
       "1q32.1      1\n",
       "Name: gene_band, dtype: int64"
      ]
     },
     "execution_count": 166,
     "metadata": {},
     "output_type": "execute_result"
    }
   ],
   "source": [
    "# see bands of top genes\n",
    "lv_genes.head(25)[\"gene_band\"].value_counts().head(10)"
   ]
  },
  {
   "cell_type": "code",
   "execution_count": 167,
   "id": "985aeccf-cf8c-49c6-8c77-7eb7ef33f2fb",
   "metadata": {},
   "outputs": [],
   "source": [
    "# take a look at all genes with non-zero weight\n",
    "lv_genes_nonzero_weight = lv_genes[lv_genes[lv_code] > 0]"
   ]
  },
  {
   "cell_type": "code",
   "execution_count": 168,
   "id": "64f530d0-9a55-4c3e-b972-52a63ef17e64",
   "metadata": {},
   "outputs": [
    {
     "data": {
      "text/plain": [
       "(2362, 2)"
      ]
     },
     "execution_count": 168,
     "metadata": {},
     "output_type": "execute_result"
    }
   ],
   "source": [
    "# how many genes have non-zero weight?\n",
    "lv_genes_nonzero_weight.shape"
   ]
  },
  {
   "cell_type": "markdown",
   "id": "ae2c6465-79c5-4533-8596-b0dccbf5518f",
   "metadata": {},
   "source": [
    "Similar to LV769 and LV412"
   ]
  },
  {
   "cell_type": "code",
   "execution_count": 169,
   "id": "db365a22-195c-479a-aff4-4abe5bdaf09c",
   "metadata": {},
   "outputs": [
    {
     "data": {
      "text/plain": [
       "19p13.3     30\n",
       "19q13.42    28\n",
       "19q13.2     26\n",
       "16p13.3     23\n",
       "17p13.1     23\n",
       "3p21.31     20\n",
       "17q25.3     20\n",
       "11q13.1     19\n",
       "19q13.33    18\n",
       "19p13.2     18\n",
       "Name: gene_band, dtype: int64"
      ]
     },
     "execution_count": 169,
     "metadata": {},
     "output_type": "execute_result"
    }
   ],
   "source": [
    "# how are bands distributed among zero weighted genes?\n",
    "lv_genes_nonzero_weight[\"gene_band\"].value_counts().head(10)"
   ]
  },
  {
   "cell_type": "code",
   "execution_count": 170,
   "id": "f96ae4c8-e303-4343-a443-fcde8dc76f68",
   "metadata": {},
   "outputs": [
    {
     "data": {
      "image/png": "[encoded data removed]",
      "text/plain": [
       "<Figure size 1008x504 with 1 Axes>"
      ]
     },
     "metadata": {
      "needs_background": "light"
     },
     "output_type": "display_data"
    }
   ],
   "source": [
    "# distribution of amount of bands in LV\n",
    "g = sns.displot(lv_genes_nonzero_weight[\"gene_band\"].value_counts(), height=7, aspect=2)"
   ]
  },
  {
   "cell_type": "markdown",
   "id": "588b8d5a-5d91-49e6-8ae5-9da4d5fab445",
   "metadata": {},
   "source": [
    "The distribution seems similar to LV412, but here we have smaller bands."
   ]
  },
  {
   "cell_type": "code",
   "execution_count": 171,
   "id": "9b3f8edc-6f9f-40f1-bb09-7b951bb8c456",
   "metadata": {},
   "outputs": [
    {
     "data": {
      "image/png": "[encoded data removed]",
      "text/plain": [
       "<Figure size 1008x504 with 1 Axes>"
      ]
     },
     "metadata": {
      "needs_background": "light"
     },
     "output_type": "display_data"
    }
   ],
   "source": [
    "# distribution of weights in LV\n",
    "g = sns.displot(lv_genes[lv_genes[lv_code] > 0][lv_code], height=7, aspect=2)"
   ]
  },
  {
   "cell_type": "markdown",
   "id": "e126e662-bcca-4b49-8d73-cddd4acf8157",
   "metadata": {},
   "source": [
    "## LV691"
   ]
  },
  {
   "cell_type": "code",
   "execution_count": 172,
   "id": "f1213f21-ce00-42e4-b77c-05f33ba3f079",
   "metadata": {},
   "outputs": [],
   "source": [
    "lv_code = \"LV691\""
   ]
  },
  {
   "cell_type": "code",
   "execution_count": 173,
   "id": "dc5c6871-76d3-48dd-8f11-e892101a4c62",
   "metadata": {},
   "outputs": [],
   "source": [
    "results = dfs[dfs[\"lv\"] == lv_code]"
   ]
  },
  {
   "cell_type": "code",
   "execution_count": 174,
   "id": "317fea64-1720-4be8-93c3-205a18b584b8",
   "metadata": {},
   "outputs": [
    {
     "data": {
      "text/plain": [
       "(1000, 7)"
      ]
     },
     "execution_count": 174,
     "metadata": {},
     "output_type": "execute_result"
    }
   ],
   "source": [
    "results.shape"
   ]
  },
  {
   "cell_type": "code",
   "execution_count": 175,
   "id": "c3dcb91b-cadf-407b-ac57-8c5aa9d333e5",
   "metadata": {},
   "outputs": [
    {
     "data": {
      "text/html": [
       "<div>\n",
       "<style scoped>\n",
       "    .dataframe tbody tr th:only-of-type {\n",
       "        vertical-align: middle;\n",
       "    }\n",
       "\n",
       "    .dataframe tbody tr th {\n",
       "        vertical-align: top;\n",
       "    }\n",
       "\n",
       "    .dataframe thead th {\n",
       "        text-align: right;\n",
       "    }\n",
       "</style>\n",
       "<table border=\"1\" class=\"dataframe\">\n",
       "  <thead>\n",
       "    <tr style=\"text-align: right;\">\n",
       "      <th></th>\n",
       "      <th>lv</th>\n",
       "      <th>beta</th>\n",
       "      <th>beta_se</th>\n",
       "      <th>t</th>\n",
       "      <th>pvalue_twosided</th>\n",
       "      <th>pvalue_onesided</th>\n",
       "      <th>phenotype</th>\n",
       "    </tr>\n",
       "  </thead>\n",
       "  <tbody>\n",
       "    <tr>\n",
       "      <th>96</th>\n",
       "      <td>LV691</td>\n",
       "      <td>0.155195</td>\n",
       "      <td>0.124585</td>\n",
       "      <td>1.245696</td>\n",
       "      <td>0.212922</td>\n",
       "      <td>0.106461</td>\n",
       "      <td>random.pheno988</td>\n",
       "    </tr>\n",
       "    <tr>\n",
       "      <th>1842</th>\n",
       "      <td>LV691</td>\n",
       "      <td>-0.143068</td>\n",
       "      <td>0.124813</td>\n",
       "      <td>-1.146263</td>\n",
       "      <td>0.251729</td>\n",
       "      <td>0.874136</td>\n",
       "      <td>random.pheno589</td>\n",
       "    </tr>\n",
       "    <tr>\n",
       "      <th>2312</th>\n",
       "      <td>LV691</td>\n",
       "      <td>0.042391</td>\n",
       "      <td>0.124684</td>\n",
       "      <td>0.339987</td>\n",
       "      <td>0.733878</td>\n",
       "      <td>0.366939</td>\n",
       "      <td>random.pheno385</td>\n",
       "    </tr>\n",
       "    <tr>\n",
       "      <th>3195</th>\n",
       "      <td>LV691</td>\n",
       "      <td>0.087114</td>\n",
       "      <td>0.124685</td>\n",
       "      <td>0.698675</td>\n",
       "      <td>0.484780</td>\n",
       "      <td>0.242390</td>\n",
       "      <td>random.pheno5</td>\n",
       "    </tr>\n",
       "    <tr>\n",
       "      <th>4121</th>\n",
       "      <td>LV691</td>\n",
       "      <td>0.117582</td>\n",
       "      <td>0.124803</td>\n",
       "      <td>0.942138</td>\n",
       "      <td>0.346158</td>\n",
       "      <td>0.173079</td>\n",
       "      <td>random.pheno74</td>\n",
       "    </tr>\n",
       "  </tbody>\n",
       "</table>\n",
       "</div>"
      ],
      "text/plain": [
       "         lv      beta   beta_se         t  pvalue_twosided  pvalue_onesided  \\\n",
       "96    LV691  0.155195  0.124585  1.245696         0.212922         0.106461   \n",
       "1842  LV691 -0.143068  0.124813 -1.146263         0.251729         0.874136   \n",
       "2312  LV691  0.042391  0.124684  0.339987         0.733878         0.366939   \n",
       "3195  LV691  0.087114  0.124685  0.698675         0.484780         0.242390   \n",
       "4121  LV691  0.117582  0.124803  0.942138         0.346158         0.173079   \n",
       "\n",
       "            phenotype  \n",
       "96    random.pheno988  \n",
       "1842  random.pheno589  \n",
       "2312  random.pheno385  \n",
       "3195    random.pheno5  \n",
       "4121   random.pheno74  "
      ]
     },
     "execution_count": 175,
     "metadata": {},
     "output_type": "execute_result"
    }
   ],
   "source": [
    "results.head()"
   ]
  },
  {
   "cell_type": "markdown",
   "id": "8d8d4df8-5efb-4205-bb82-91b4a71d0862",
   "metadata": {},
   "source": [
    "### Mean type I errors at different thresholds"
   ]
  },
  {
   "cell_type": "code",
   "execution_count": 176,
   "id": "e8ae4a1c-9b09-4a82-b249-d751c029b59f",
   "metadata": {},
   "outputs": [
    {
     "data": {
      "text/plain": [
       "0.013"
      ]
     },
     "execution_count": 176,
     "metadata": {},
     "output_type": "execute_result"
    }
   ],
   "source": [
    "show_prop(results, 0.01)"
   ]
  },
  {
   "cell_type": "code",
   "execution_count": 177,
   "id": "74c2191b-d80b-459e-8fb0-92e0171f5dce",
   "metadata": {},
   "outputs": [
    {
     "data": {
      "text/plain": [
       "0.049"
      ]
     },
     "execution_count": 177,
     "metadata": {},
     "output_type": "execute_result"
    }
   ],
   "source": [
    "show_prop(results, 0.05)"
   ]
  },
  {
   "cell_type": "code",
   "execution_count": 178,
   "id": "78ed20a7-a63b-40c4-b36f-4f19b9e13bfe",
   "metadata": {},
   "outputs": [
    {
     "data": {
      "text/plain": [
       "0.098"
      ]
     },
     "execution_count": 178,
     "metadata": {},
     "output_type": "execute_result"
    }
   ],
   "source": [
    "show_prop(results, 0.10)"
   ]
  },
  {
   "cell_type": "code",
   "execution_count": 179,
   "id": "27b3a253-f5c9-497c-b220-7264a45476e7",
   "metadata": {},
   "outputs": [
    {
     "data": {
      "text/plain": [
       "0.16"
      ]
     },
     "execution_count": 179,
     "metadata": {},
     "output_type": "execute_result"
    }
   ],
   "source": [
    "show_prop(results, 0.15)"
   ]
  },
  {
   "cell_type": "code",
   "execution_count": 180,
   "id": "90505538-770a-48ae-abbc-1cd1ef757c56",
   "metadata": {},
   "outputs": [
    {
     "data": {
      "text/plain": [
       "0.198"
      ]
     },
     "execution_count": 180,
     "metadata": {},
     "output_type": "execute_result"
    }
   ],
   "source": [
    "show_prop(results, 0.20)"
   ]
  },
  {
   "cell_type": "markdown",
   "id": "e87ac89e-9505-402b-bd8d-b603fa6b7499",
   "metadata": {},
   "source": [
    "### QQplot"
   ]
  },
  {
   "cell_type": "code",
   "execution_count": 181,
   "id": "016773f0-7bda-4f42-b342-9daebe7b39c3",
   "metadata": {},
   "outputs": [
    {
     "data": {
      "image/png": "[encoded data removed]",
      "text/plain": [
       "<Figure size 576x576 with 1 Axes>"
      ]
     },
     "metadata": {
      "needs_background": "light"
     },
     "output_type": "display_data"
    }
   ],
   "source": [
    "qqplot_unif(results)"
   ]
  },
  {
   "cell_type": "markdown",
   "id": "bcbc4cd1-f38d-4466-90b5-cd402fb2fb27",
   "metadata": {},
   "source": [
    "### Top genes in LV"
   ]
  },
  {
   "cell_type": "code",
   "execution_count": 182,
   "id": "d7def904-906f-4f59-99ee-8b05ec3fdb00",
   "metadata": {},
   "outputs": [
    {
     "data": {
      "text/html": [
       "<div>\n",
       "<style scoped>\n",
       "    .dataframe tbody tr th:only-of-type {\n",
       "        vertical-align: middle;\n",
       "    }\n",
       "\n",
       "    .dataframe tbody tr th {\n",
       "        vertical-align: top;\n",
       "    }\n",
       "\n",
       "    .dataframe thead th {\n",
       "        text-align: right;\n",
       "    }\n",
       "</style>\n",
       "<table border=\"1\" class=\"dataframe\">\n",
       "  <thead>\n",
       "    <tr style=\"text-align: right;\">\n",
       "      <th></th>\n",
       "      <th>LV691</th>\n",
       "      <th>gene_band</th>\n",
       "    </tr>\n",
       "  </thead>\n",
       "  <tbody>\n",
       "    <tr>\n",
       "      <th>SEPSECS</th>\n",
       "      <td>3.933431</td>\n",
       "      <td>4p15.2</td>\n",
       "    </tr>\n",
       "    <tr>\n",
       "      <th>DEPTOR</th>\n",
       "      <td>2.957233</td>\n",
       "      <td>8q24.12</td>\n",
       "    </tr>\n",
       "    <tr>\n",
       "      <th>TARS2</th>\n",
       "      <td>2.430542</td>\n",
       "      <td>1q21.2</td>\n",
       "    </tr>\n",
       "    <tr>\n",
       "      <th>AQR</th>\n",
       "      <td>2.370997</td>\n",
       "      <td>15q14</td>\n",
       "    </tr>\n",
       "    <tr>\n",
       "      <th>KLC4</th>\n",
       "      <td>2.108343</td>\n",
       "      <td>6p21.1</td>\n",
       "    </tr>\n",
       "    <tr>\n",
       "      <th>UNG</th>\n",
       "      <td>2.028480</td>\n",
       "      <td>12q24.11</td>\n",
       "    </tr>\n",
       "    <tr>\n",
       "      <th>COQ2</th>\n",
       "      <td>2.016418</td>\n",
       "      <td>4q21.23</td>\n",
       "    </tr>\n",
       "    <tr>\n",
       "      <th>NTAN1</th>\n",
       "      <td>1.956672</td>\n",
       "      <td>16p13.11</td>\n",
       "    </tr>\n",
       "    <tr>\n",
       "      <th>CD2</th>\n",
       "      <td>1.938323</td>\n",
       "      <td>1p13.1</td>\n",
       "    </tr>\n",
       "    <tr>\n",
       "      <th>TNFSF13B</th>\n",
       "      <td>1.789970</td>\n",
       "      <td>13q33.3</td>\n",
       "    </tr>\n",
       "    <tr>\n",
       "      <th>CENPP</th>\n",
       "      <td>1.575710</td>\n",
       "      <td>9q22.31</td>\n",
       "    </tr>\n",
       "    <tr>\n",
       "      <th>UBE2D4</th>\n",
       "      <td>1.359005</td>\n",
       "      <td>7p13</td>\n",
       "    </tr>\n",
       "    <tr>\n",
       "      <th>ADAL</th>\n",
       "      <td>1.334606</td>\n",
       "      <td>15q15.3</td>\n",
       "    </tr>\n",
       "    <tr>\n",
       "      <th>SLC25A11</th>\n",
       "      <td>1.291115</td>\n",
       "      <td>17p13.2</td>\n",
       "    </tr>\n",
       "    <tr>\n",
       "      <th>MAP2K1</th>\n",
       "      <td>1.283832</td>\n",
       "      <td>15q22.31</td>\n",
       "    </tr>\n",
       "    <tr>\n",
       "      <th>IL23R</th>\n",
       "      <td>1.264405</td>\n",
       "      <td>1p31.3</td>\n",
       "    </tr>\n",
       "    <tr>\n",
       "      <th>SDCCAG8</th>\n",
       "      <td>1.241751</td>\n",
       "      <td>1q43</td>\n",
       "    </tr>\n",
       "    <tr>\n",
       "      <th>NBN</th>\n",
       "      <td>1.223232</td>\n",
       "      <td>8q21.3</td>\n",
       "    </tr>\n",
       "    <tr>\n",
       "      <th>STK36</th>\n",
       "      <td>1.204291</td>\n",
       "      <td>2q35</td>\n",
       "    </tr>\n",
       "    <tr>\n",
       "      <th>DNM1L</th>\n",
       "      <td>1.150443</td>\n",
       "      <td>12p11.21</td>\n",
       "    </tr>\n",
       "    <tr>\n",
       "      <th>REST</th>\n",
       "      <td>1.117066</td>\n",
       "      <td>4q12</td>\n",
       "    </tr>\n",
       "    <tr>\n",
       "      <th>MRPL37</th>\n",
       "      <td>1.098209</td>\n",
       "      <td>1p32.3</td>\n",
       "    </tr>\n",
       "    <tr>\n",
       "      <th>SPINK2</th>\n",
       "      <td>1.080917</td>\n",
       "      <td>4q12</td>\n",
       "    </tr>\n",
       "    <tr>\n",
       "      <th>PIN1</th>\n",
       "      <td>1.053796</td>\n",
       "      <td>19p13.2</td>\n",
       "    </tr>\n",
       "    <tr>\n",
       "      <th>RPA1</th>\n",
       "      <td>1.046945</td>\n",
       "      <td>17p13.3</td>\n",
       "    </tr>\n",
       "  </tbody>\n",
       "</table>\n",
       "</div>"
      ],
      "text/plain": [
       "             LV691 gene_band\n",
       "SEPSECS   3.933431    4p15.2\n",
       "DEPTOR    2.957233   8q24.12\n",
       "TARS2     2.430542    1q21.2\n",
       "AQR       2.370997     15q14\n",
       "KLC4      2.108343    6p21.1\n",
       "UNG       2.028480  12q24.11\n",
       "COQ2      2.016418   4q21.23\n",
       "NTAN1     1.956672  16p13.11\n",
       "CD2       1.938323    1p13.1\n",
       "TNFSF13B  1.789970   13q33.3\n",
       "CENPP     1.575710   9q22.31\n",
       "UBE2D4    1.359005      7p13\n",
       "ADAL      1.334606   15q15.3\n",
       "SLC25A11  1.291115   17p13.2\n",
       "MAP2K1    1.283832  15q22.31\n",
       "IL23R     1.264405    1p31.3\n",
       "SDCCAG8   1.241751      1q43\n",
       "NBN       1.223232    8q21.3\n",
       "STK36     1.204291      2q35\n",
       "DNM1L     1.150443  12p11.21\n",
       "REST      1.117066      4q12\n",
       "MRPL37    1.098209    1p32.3\n",
       "SPINK2    1.080917      4q12\n",
       "PIN1      1.053796   19p13.2\n",
       "RPA1      1.046945   17p13.3"
      ]
     },
     "metadata": {},
     "output_type": "display_data"
    }
   ],
   "source": [
    "lv_genes = get_lv_genes(lv_code)\n",
    "display(lv_genes.head(25))"
   ]
  },
  {
   "cell_type": "code",
   "execution_count": 183,
   "id": "639d155e-94a5-4229-96a3-674ea59956cd",
   "metadata": {},
   "outputs": [
    {
     "data": {
      "text/plain": [
       "4q12       2\n",
       "7p13       1\n",
       "15q14      1\n",
       "1q21.2     1\n",
       "13q33.3    1\n",
       "6p21.1     1\n",
       "8q21.3     1\n",
       "4p15.2     1\n",
       "17p13.3    1\n",
       "17p13.2    1\n",
       "Name: gene_band, dtype: int64"
      ]
     },
     "execution_count": 183,
     "metadata": {},
     "output_type": "execute_result"
    }
   ],
   "source": [
    "# see bands of top genes\n",
    "lv_genes.head(25)[\"gene_band\"].value_counts().head(10)"
   ]
  },
  {
   "cell_type": "code",
   "execution_count": 184,
   "id": "db75ef59-da8c-4af3-953a-d7e0acc14745",
   "metadata": {},
   "outputs": [],
   "source": [
    "# take a look at all genes with non-zero weight\n",
    "lv_genes_nonzero_weight = lv_genes[lv_genes[lv_code] > 0]"
   ]
  },
  {
   "cell_type": "code",
   "execution_count": 185,
   "id": "26dcc7a5-2fef-4d2b-af9b-1f9949903212",
   "metadata": {},
   "outputs": [
    {
     "data": {
      "text/plain": [
       "(3138, 2)"
      ]
     },
     "execution_count": 185,
     "metadata": {},
     "output_type": "execute_result"
    }
   ],
   "source": [
    "# how many genes have non-zero weight?\n",
    "lv_genes_nonzero_weight.shape"
   ]
  },
  {
   "cell_type": "code",
   "execution_count": 186,
   "id": "018ea8fb-c658-4d92-8ce5-e151b5e26df8",
   "metadata": {},
   "outputs": [
    {
     "data": {
      "text/plain": [
       "19p13.3     40\n",
       "16p13.3     36\n",
       "19p13.2     32\n",
       "19q13.2     29\n",
       "19q13.33    24\n",
       "12q24.31    24\n",
       "3p21.31     24\n",
       "17p13.1     23\n",
       "1q21.3      22\n",
       "16p11.2     22\n",
       "Name: gene_band, dtype: int64"
      ]
     },
     "execution_count": 186,
     "metadata": {},
     "output_type": "execute_result"
    }
   ],
   "source": [
    "# how are bands distributed among zero weighted genes?\n",
    "lv_genes_nonzero_weight[\"gene_band\"].value_counts().head(10)"
   ]
  },
  {
   "cell_type": "code",
   "execution_count": 187,
   "id": "841b847d-62ad-4494-9d2d-f0928827ff93",
   "metadata": {},
   "outputs": [
    {
     "data": {
      "image/png": "[encoded data removed]",
      "text/plain": [
       "<Figure size 1008x504 with 1 Axes>"
      ]
     },
     "metadata": {
      "needs_background": "light"
     },
     "output_type": "display_data"
    }
   ],
   "source": [
    "# distribution of amount of bands in LV\n",
    "g = sns.displot(lv_genes_nonzero_weight[\"gene_band\"].value_counts(), height=7, aspect=2)"
   ]
  },
  {
   "cell_type": "code",
   "execution_count": 188,
   "id": "4a286d2e-da20-469b-aa94-7818067de719",
   "metadata": {},
   "outputs": [
    {
     "data": {
      "image/png": "[encoded data removed]",
      "text/plain": [
       "<Figure size 1008x504 with 1 Axes>"
      ]
     },
     "metadata": {
      "needs_background": "light"
     },
     "output_type": "display_data"
    }
   ],
   "source": [
    "# distribution of weights in LV\n",
    "g = sns.displot(lv_genes[lv_genes[lv_code] > 0][lv_code], height=7, aspect=2)"
   ]
  },
  {
   "cell_type": "markdown",
   "id": "1bfea597-3792-40a7-9094-77bcde732faf",
   "metadata": {},
   "source": [
    "# Conclusions"
   ]
  },
  {
   "cell_type": "markdown",
   "id": "3a3b76b3-2b7d-4401-9685-1cf09bbf22ef",
   "metadata": {},
   "source": [
    "Looks like not-well-calibrated LVs are mainly due to too many top genes from the same band.\n",
    "\n",
    "However, some LVs, like LV914, are not driven by top genes from the same band."
   ]
  },
  {
   "cell_type": "code",
   "execution_count": null,
   "id": "0e32637a-d3fb-4833-93d3-7d680ee8bdbe",
   "metadata": {},
   "outputs": [],
   "source": []
  }
 ],
 "metadata": {
  "jupytext": {
   "cell_metadata_filter": "all,-execution,-papermill,-trusted",
   "formats": "ipynb,py//py:percent"
  },
  "kernelspec": {
   "display_name": "Python 3 (ipykernel)",
   "language": "python",
   "name": "python3"
  },
  "language_info": {
   "codemirror_mode": {
    "name": "ipython",
    "version": 3
   },
   "file_extension": ".py",
   "mimetype": "text/x-python",
   "name": "python",
   "nbconvert_exporter": "python",
   "pygments_lexer": "ipython3",
   "version": "3.8.13"
  },
  "papermill": {
   "default_parameters": {},
   "duration": 2.899223,
   "end_time": "2022-02-24T05:32:05.472242",
   "environment_variables": {},
   "exception": null,
   "input_path": "nbs/15_gsa_gls/26-gls-null_simulations-plots.ipynb",
   "output_path": "nbs/15_gsa_gls/26-gls-null_simulations-plots.run.ipynb",
   "parameters": {},
   "start_time": "2022-02-24T05:32:02.573019",
   "version": "2.2.2"
  },
  "toc-autonumbering": true
 },
 "nbformat": 4,
 "nbformat_minor": 5
}
