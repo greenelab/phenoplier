{
 "cells": [
  {
   "cell_type": "markdown",
   "id": "b7acf0c2",
   "metadata": {
    "papermill": {
     "duration": 0.038207,
     "end_time": "2022-02-24T05:32:03.755452",
     "exception": false,
     "start_time": "2022-02-24T05:32:03.717245",
     "status": "completed"
    },
    "tags": []
   },
   "source": [
    "# Description"
   ]
  },
  {
   "cell_type": "markdown",
   "id": "2653adfb",
   "metadata": {
    "papermill": {
     "duration": 0.009944,
     "end_time": "2022-02-24T05:32:03.780673",
     "exception": false,
     "start_time": "2022-02-24T05:32:03.770729",
     "status": "completed"
    },
    "tags": []
   },
   "source": [
    "**FIXME: update**\n",
    "\n",
    "The idea of this notebook is to explore a simple OLS model (Ordinary Least Squares) to associate an LV (gene weights) with a trait (gene z-scores). Since predicted gene expression is correlated, especially among adjacent genes, a simple OLS model is expected to fail by having high type I errors."
   ]
  },
  {
   "cell_type": "markdown",
   "id": "fb645f46",
   "metadata": {
    "papermill": {
     "duration": 0.008401,
     "end_time": "2022-02-24T05:32:03.797668",
     "exception": false,
     "start_time": "2022-02-24T05:32:03.789267",
     "status": "completed"
    },
    "tags": []
   },
   "source": [
    "# Modules"
   ]
  },
  {
   "cell_type": "code",
   "execution_count": 1,
   "id": "7ce51c68",
   "metadata": {
    "papermill": {
     "duration": 0.861241,
     "end_time": "2022-02-24T05:32:04.667481",
     "exception": false,
     "start_time": "2022-02-24T05:32:03.806240",
     "status": "completed"
    },
    "tags": []
   },
   "outputs": [],
   "source": [
    "from pathlib import Path\n",
    "\n",
    "import numpy as np\n",
    "import pandas as pd\n",
    "from scipy import stats\n",
    "from statsmodels.graphics.gofplots import qqplot_2samples\n",
    "import matplotlib.pyplot as plt\n",
    "import matplotlib as mpl\n",
    "import seaborn as sns\n",
    "\n",
    "import conf\n",
    "from data.recount2 import LVAnalysis"
   ]
  },
  {
   "cell_type": "markdown",
   "id": "654985a3",
   "metadata": {
    "papermill": {
     "duration": 0.008701,
     "end_time": "2022-02-24T05:32:04.685435",
     "exception": false,
     "start_time": "2022-02-24T05:32:04.676734",
     "status": "completed"
    },
    "tags": []
   },
   "source": [
    "# Settings"
   ]
  },
  {
   "cell_type": "code",
   "execution_count": 2,
   "id": "d4e1bf58-d0ac-455a-97d8-1d892b4a38d6",
   "metadata": {},
   "outputs": [],
   "source": [
    "N_PHENOTYPES = 1000\n",
    "N_LVS = 987"
   ]
  },
  {
   "cell_type": "code",
   "execution_count": 3,
   "id": "9ba4e01c",
   "metadata": {
    "papermill": {
     "duration": 0.016348,
     "end_time": "2022-02-24T05:32:04.710602",
     "exception": false,
     "start_time": "2022-02-24T05:32:04.694254",
     "status": "completed"
    },
    "tags": []
   },
   "outputs": [
    {
     "data": {
      "text/plain": [
       "PosixPath('/opt/data/results/gls/null_sims/phenoplier/_with_covars/gene_density_and_log/gls-1000g_mashr-sub_corr')"
      ]
     },
     "metadata": {},
     "output_type": "display_data"
    }
   ],
   "source": [
    "INPUT_DIR = (\n",
    "    conf.RESULTS[\"GLS_NULL_SIMS\"]\n",
    "    / \"phenoplier\"\n",
    "    / \"_with_covars\"\n",
    "    / \"gene_density_and_log\"\n",
    "    / \"gls-1000g_mashr-sub_corr\"\n",
    ")\n",
    "display(INPUT_DIR)"
   ]
  },
  {
   "cell_type": "code",
   "execution_count": 4,
   "id": "3f0ceee7-2e59-493d-845c-35d131159f4b",
   "metadata": {},
   "outputs": [],
   "source": [
    "PVALUE_COLUMN = \"pvalue_onesided\""
   ]
  },
  {
   "cell_type": "markdown",
   "id": "4cb0512c",
   "metadata": {
    "papermill": {
     "duration": 0.010426,
     "end_time": "2022-02-24T05:32:04.905993",
     "exception": false,
     "start_time": "2022-02-24T05:32:04.895567",
     "status": "completed"
    },
    "tags": []
   },
   "source": [
    "# Functions"
   ]
  },
  {
   "cell_type": "code",
   "execution_count": 5,
   "id": "247ac210-d958-47c5-8689-5d7bee1fc2c3",
   "metadata": {},
   "outputs": [],
   "source": [
    "def get_prop(pvalues, frac=0.05):\n",
    "    _pvalue_lt_frac = pvalues[pvalues < frac]\n",
    "    return _pvalue_lt_frac.shape[0] / pvalues.shape[0]"
   ]
  },
  {
   "cell_type": "code",
   "execution_count": 6,
   "id": "8f147e50",
   "metadata": {},
   "outputs": [],
   "source": [
    "def show_prop(data, frac=0.05):\n",
    "    pvalues = data[PVALUE_COLUMN]\n",
    "    return get_prop(pvalues, frac=frac)"
   ]
  },
  {
   "cell_type": "code",
   "execution_count": 7,
   "id": "21b228aa-038d-4d7f-886c-c46e98e20d15",
   "metadata": {},
   "outputs": [],
   "source": [
    "assert get_prop(np.array([0.20, 0.50]), 0.05) == 0.0\n",
    "assert get_prop(np.array([0.20, 0.50, 0.75, 0.10, 0.04]), 0.05) == 0.2"
   ]
  },
  {
   "cell_type": "code",
   "execution_count": 8,
   "id": "6d41d11a-acf1-4165-9436-a9eda22ba6bb",
   "metadata": {},
   "outputs": [],
   "source": [
    "assert get_prop(pd.Series(np.array([0.20, 0.50])), 0.05) == 0.0\n",
    "assert get_prop(pd.Series(np.array([0.20, 0.50, 0.75, 0.10, 0.04])), 0.05) == 0.2"
   ]
  },
  {
   "cell_type": "code",
   "execution_count": 9,
   "id": "f9da2b93-e6e4-4d19-bb37-fcb15e03bb5d",
   "metadata": {},
   "outputs": [],
   "source": [
    "def qqplot_unif(results, check_n_lvs=True, other_results=None):\n",
    "    data = results[PVALUE_COLUMN].to_numpy()\n",
    "    n = data.shape[0]\n",
    "    observed_data = -np.log10(data)\n",
    "\n",
    "    observed_lvs = results[\"lv\"].unique()\n",
    "    n_observed_lvs = len(observed_lvs)\n",
    "    if check_n_lvs:\n",
    "        assert n_observed_lvs == 1\n",
    "        observed_lv = observed_lvs[0]\n",
    "    else:\n",
    "        observed_lv = f\"All LVs ({n_observed_lvs})\"\n",
    "\n",
    "    other_lv = \"\"\n",
    "    if other_results is not None:\n",
    "        other_data = other_results[PVALUE_COLUMN].to_numpy()\n",
    "        expected_data = -np.log10(other_data)\n",
    "\n",
    "        other_lv = other_results[\"lv\"].unique()\n",
    "        assert len(other_lv) == 1\n",
    "        other_lv = other_lv[0]\n",
    "    else:\n",
    "        uniform_data = np.array([i / (n + 1) for i in range(1, n + 1)])\n",
    "        expected_data = -np.log10(uniform_data)\n",
    "\n",
    "    with sns.plotting_context(\"paper\", font_scale=1.8), mpl.rc_context(\n",
    "        {\"lines.markersize\": 3}\n",
    "    ):\n",
    "        fig, ax = plt.subplots(figsize=(8, 8))\n",
    "\n",
    "        fig = qqplot_2samples(expected_data, observed_data, line=\"45\", ax=ax)\n",
    "\n",
    "        ax.set_xlim(expected_data.min() - 0.05, expected_data.max() + 0.05)\n",
    "\n",
    "        ax.set_xlabel(f\"$-\\log_{10}$(expected pvalue) - {other_lv}\")\n",
    "        ax.set_ylabel(f\"$-\\log_{10}$(observed pvalue) - {observed_lv}\")"
   ]
  },
  {
   "cell_type": "markdown",
   "id": "29a8e81c-fe49-44c2-880d-e2c4a5e305ba",
   "metadata": {},
   "source": [
    "# Get files list"
   ]
  },
  {
   "cell_type": "code",
   "execution_count": 10,
   "id": "f920bc02-8297-4bd9-8601-665f079cbf91",
   "metadata": {},
   "outputs": [
    {
     "data": {
      "text/plain": [
       "[PosixPath('/opt/data/results/gls/null_sims/phenoplier/_with_covars/gene_density_and_log/gls-1000g_mashr-sub_corr/random.pheno988-gls_phenoplier.tsv.gz'),\n",
       " PosixPath('/opt/data/results/gls/null_sims/phenoplier/_with_covars/gene_density_and_log/gls-1000g_mashr-sub_corr/random.pheno589-gls_phenoplier.tsv.gz'),\n",
       " PosixPath('/opt/data/results/gls/null_sims/phenoplier/_with_covars/gene_density_and_log/gls-1000g_mashr-sub_corr/random.pheno385-gls_phenoplier.tsv.gz'),\n",
       " PosixPath('/opt/data/results/gls/null_sims/phenoplier/_with_covars/gene_density_and_log/gls-1000g_mashr-sub_corr/random.pheno5-gls_phenoplier.tsv.gz'),\n",
       " PosixPath('/opt/data/results/gls/null_sims/phenoplier/_with_covars/gene_density_and_log/gls-1000g_mashr-sub_corr/random.pheno74-gls_phenoplier.tsv.gz')]"
      ]
     },
     "metadata": {},
     "output_type": "display_data"
    }
   ],
   "source": [
    "INPUT_FILES = list(INPUT_DIR.glob(\"*.tsv.gz\"))\n",
    "display(INPUT_FILES[:5])"
   ]
  },
  {
   "cell_type": "markdown",
   "id": "5f2c6f72-9a30-4ced-bc9a-04b6b3b21384",
   "metadata": {},
   "source": [
    "# Load data"
   ]
  },
  {
   "cell_type": "code",
   "execution_count": 11,
   "id": "18ebfb6c",
   "metadata": {
    "papermill": {
     "duration": 0.023945,
     "end_time": "2022-02-24T05:32:04.808813",
     "exception": false,
     "start_time": "2022-02-24T05:32:04.784868",
     "status": "completed"
    },
    "tags": []
   },
   "outputs": [],
   "source": [
    "dfs = [\n",
    "    pd.read_csv(f, sep=\"\\t\").assign(phenotype=f.name.split(\"-\")[0]) for f in INPUT_FILES\n",
    "]"
   ]
  },
  {
   "cell_type": "code",
   "execution_count": 12,
   "id": "ac3b6041",
   "metadata": {
    "papermill": {
     "duration": 0.015781,
     "end_time": "2022-02-24T05:32:04.834694",
     "exception": false,
     "start_time": "2022-02-24T05:32:04.818913",
     "status": "completed"
    },
    "tags": []
   },
   "outputs": [
    {
     "data": {
      "text/plain": [
       "1000"
      ]
     },
     "metadata": {},
     "output_type": "display_data"
    }
   ],
   "source": [
    "display(len(dfs))\n",
    "assert len(dfs) == N_PHENOTYPES"
   ]
  },
  {
   "cell_type": "code",
   "execution_count": 13,
   "id": "d15f7346",
   "metadata": {
    "papermill": {
     "duration": 0.038689,
     "end_time": "2022-02-24T05:32:04.884154",
     "exception": false,
     "start_time": "2022-02-24T05:32:04.845465",
     "status": "completed"
    },
    "tags": []
   },
   "outputs": [],
   "source": [
    "dfs = pd.concat(dfs, axis=0, ignore_index=True)"
   ]
  },
  {
   "cell_type": "code",
   "execution_count": 14,
   "id": "7405b07c-b71a-4a8f-924b-f9ffc7a0b13a",
   "metadata": {},
   "outputs": [
    {
     "data": {
      "text/plain": [
       "(987000, 7)"
      ]
     },
     "metadata": {},
     "output_type": "display_data"
    }
   ],
   "source": [
    "display(dfs.shape)\n",
    "assert dfs.shape[0] == N_PHENOTYPES * N_LVS"
   ]
  },
  {
   "cell_type": "code",
   "execution_count": 15,
   "id": "228787ad-0cbb-4f3b-b964-0bc148a1a305",
   "metadata": {},
   "outputs": [
    {
     "data": {
      "text/html": [
       "<div>\n",
       "<style scoped>\n",
       "    .dataframe tbody tr th:only-of-type {\n",
       "        vertical-align: middle;\n",
       "    }\n",
       "\n",
       "    .dataframe tbody tr th {\n",
       "        vertical-align: top;\n",
       "    }\n",
       "\n",
       "    .dataframe thead th {\n",
       "        text-align: right;\n",
       "    }\n",
       "</style>\n",
       "<table border=\"1\" class=\"dataframe\">\n",
       "  <thead>\n",
       "    <tr style=\"text-align: right;\">\n",
       "      <th></th>\n",
       "      <th>lv</th>\n",
       "      <th>beta</th>\n",
       "      <th>beta_se</th>\n",
       "      <th>t</th>\n",
       "      <th>pvalue_twosided</th>\n",
       "      <th>pvalue_onesided</th>\n",
       "      <th>phenotype</th>\n",
       "    </tr>\n",
       "  </thead>\n",
       "  <tbody>\n",
       "    <tr>\n",
       "      <th>0</th>\n",
       "      <td>LV1</td>\n",
       "      <td>-0.008623</td>\n",
       "      <td>0.009576</td>\n",
       "      <td>-0.900478</td>\n",
       "      <td>0.367900</td>\n",
       "      <td>0.816050</td>\n",
       "      <td>random.pheno988</td>\n",
       "    </tr>\n",
       "    <tr>\n",
       "      <th>1</th>\n",
       "      <td>LV2</td>\n",
       "      <td>0.027041</td>\n",
       "      <td>0.012462</td>\n",
       "      <td>2.169890</td>\n",
       "      <td>0.030052</td>\n",
       "      <td>0.015026</td>\n",
       "      <td>random.pheno988</td>\n",
       "    </tr>\n",
       "    <tr>\n",
       "      <th>2</th>\n",
       "      <td>LV3</td>\n",
       "      <td>-0.012285</td>\n",
       "      <td>0.012284</td>\n",
       "      <td>-1.000094</td>\n",
       "      <td>0.317303</td>\n",
       "      <td>0.841349</td>\n",
       "      <td>random.pheno988</td>\n",
       "    </tr>\n",
       "    <tr>\n",
       "      <th>3</th>\n",
       "      <td>LV4</td>\n",
       "      <td>-0.015225</td>\n",
       "      <td>0.011943</td>\n",
       "      <td>-1.274879</td>\n",
       "      <td>0.202398</td>\n",
       "      <td>0.898801</td>\n",
       "      <td>random.pheno988</td>\n",
       "    </tr>\n",
       "    <tr>\n",
       "      <th>4</th>\n",
       "      <td>LV5</td>\n",
       "      <td>0.005240</td>\n",
       "      <td>0.012754</td>\n",
       "      <td>0.410879</td>\n",
       "      <td>0.681175</td>\n",
       "      <td>0.340587</td>\n",
       "      <td>random.pheno988</td>\n",
       "    </tr>\n",
       "  </tbody>\n",
       "</table>\n",
       "</div>"
      ],
      "text/plain": [
       "    lv      beta   beta_se         t  pvalue_twosided  pvalue_onesided  \\\n",
       "0  LV1 -0.008623  0.009576 -0.900478         0.367900         0.816050   \n",
       "1  LV2  0.027041  0.012462  2.169890         0.030052         0.015026   \n",
       "2  LV3 -0.012285  0.012284 -1.000094         0.317303         0.841349   \n",
       "3  LV4 -0.015225  0.011943 -1.274879         0.202398         0.898801   \n",
       "4  LV5  0.005240  0.012754  0.410879         0.681175         0.340587   \n",
       "\n",
       "         phenotype  \n",
       "0  random.pheno988  \n",
       "1  random.pheno988  \n",
       "2  random.pheno988  \n",
       "3  random.pheno988  \n",
       "4  random.pheno988  "
      ]
     },
     "execution_count": 15,
     "metadata": {},
     "output_type": "execute_result"
    }
   ],
   "source": [
    "dfs.head()"
   ]
  },
  {
   "cell_type": "code",
   "execution_count": 16,
   "id": "97764d1b-af87-46a2-ab78-53df39b0dde3",
   "metadata": {},
   "outputs": [],
   "source": [
    "_tmp = dfs.groupby(\"phenotype\")[\"lv\"].nunique().unique()\n",
    "assert _tmp.shape[0] == 1\n",
    "assert _tmp[0] == N_LVS"
   ]
  },
  {
   "cell_type": "markdown",
   "id": "4c232891-42e5-4685-b015-6ae332164f58",
   "metadata": {},
   "source": [
    "# Mean type I error"
   ]
  },
  {
   "cell_type": "code",
   "execution_count": 17,
   "id": "3426beb7-84a6-4d3d-bdfd-36b4f8cf97bd",
   "metadata": {},
   "outputs": [
    {
     "data": {
      "text/plain": [
       "0.06432624113475177"
      ]
     },
     "execution_count": 17,
     "metadata": {},
     "output_type": "execute_result"
    }
   ],
   "source": [
    "get_prop(dfs[PVALUE_COLUMN], frac=0.05)"
   ]
  },
  {
   "cell_type": "markdown",
   "id": "0fecb450-d725-4e72-b6f3-8acbdb18757a",
   "metadata": {},
   "source": [
    "# QQ-plot"
   ]
  },
  {
   "cell_type": "code",
   "execution_count": 18,
   "id": "260f4350-a340-490f-b1c0-bf682c7a2de7",
   "metadata": {},
   "outputs": [
    {
     "data": {
      "image/png": "[encoded data removed]",
      "text/plain": [
       "<Figure size 576x576 with 1 Axes>"
      ]
     },
     "metadata": {
      "needs_background": "light"
     },
     "output_type": "display_data"
    }
   ],
   "source": [
    "qqplot_unif(dfs, check_n_lvs=False)"
   ]
  },
  {
   "cell_type": "markdown",
   "id": "c1b22d64-a75f-4380-9c86-b869a1c97072",
   "metadata": {},
   "source": [
    "# Summary of mean type I error per LV"
   ]
  },
  {
   "cell_type": "code",
   "execution_count": 19,
   "id": "5c799efd-77dc-4955-b5b8-263c65779946",
   "metadata": {},
   "outputs": [],
   "source": [
    "summary_list = []\n",
    "for lv, lv_data in dfs.groupby(\"lv\"):\n",
    "    assert lv_data.shape[0] == N_PHENOTYPES\n",
    "\n",
    "    summary_list.append(\n",
    "        {\n",
    "            \"lv\": lv,\n",
    "            \"1\": get_prop(lv_data[PVALUE_COLUMN], 0.01),\n",
    "            \"5\": get_prop(lv_data[PVALUE_COLUMN], 0.05),\n",
    "            \"10\": get_prop(lv_data[PVALUE_COLUMN], 0.10),\n",
    "        }\n",
    "    )\n",
    "\n",
    "summary_df = pd.DataFrame(summary_list)\n",
    "assert summary_df.shape[0] == N_LVS"
   ]
  },
  {
   "cell_type": "code",
   "execution_count": 20,
   "id": "16a5c34a-0337-4f15-b1ff-4b1bb00997f7",
   "metadata": {},
   "outputs": [
    {
     "data": {
      "text/plain": [
       "(987, 4)"
      ]
     },
     "execution_count": 20,
     "metadata": {},
     "output_type": "execute_result"
    }
   ],
   "source": [
    "summary_df.shape"
   ]
  },
  {
   "cell_type": "code",
   "execution_count": 21,
   "id": "3e1acb4a-00bb-4cea-9b47-9446a9382afe",
   "metadata": {},
   "outputs": [
    {
     "data": {
      "text/html": [
       "<div>\n",
       "<style scoped>\n",
       "    .dataframe tbody tr th:only-of-type {\n",
       "        vertical-align: middle;\n",
       "    }\n",
       "\n",
       "    .dataframe tbody tr th {\n",
       "        vertical-align: top;\n",
       "    }\n",
       "\n",
       "    .dataframe thead th {\n",
       "        text-align: right;\n",
       "    }\n",
       "</style>\n",
       "<table border=\"1\" class=\"dataframe\">\n",
       "  <thead>\n",
       "    <tr style=\"text-align: right;\">\n",
       "      <th></th>\n",
       "      <th>lv</th>\n",
       "      <th>1</th>\n",
       "      <th>5</th>\n",
       "      <th>10</th>\n",
       "    </tr>\n",
       "  </thead>\n",
       "  <tbody>\n",
       "    <tr>\n",
       "      <th>0</th>\n",
       "      <td>LV1</td>\n",
       "      <td>0.005</td>\n",
       "      <td>0.025</td>\n",
       "      <td>0.057</td>\n",
       "    </tr>\n",
       "    <tr>\n",
       "      <th>1</th>\n",
       "      <td>LV10</td>\n",
       "      <td>0.008</td>\n",
       "      <td>0.050</td>\n",
       "      <td>0.087</td>\n",
       "    </tr>\n",
       "    <tr>\n",
       "      <th>2</th>\n",
       "      <td>LV100</td>\n",
       "      <td>0.011</td>\n",
       "      <td>0.031</td>\n",
       "      <td>0.065</td>\n",
       "    </tr>\n",
       "    <tr>\n",
       "      <th>3</th>\n",
       "      <td>LV101</td>\n",
       "      <td>0.007</td>\n",
       "      <td>0.042</td>\n",
       "      <td>0.085</td>\n",
       "    </tr>\n",
       "    <tr>\n",
       "      <th>4</th>\n",
       "      <td>LV102</td>\n",
       "      <td>0.016</td>\n",
       "      <td>0.061</td>\n",
       "      <td>0.105</td>\n",
       "    </tr>\n",
       "  </tbody>\n",
       "</table>\n",
       "</div>"
      ],
      "text/plain": [
       "      lv      1      5     10\n",
       "0    LV1  0.005  0.025  0.057\n",
       "1   LV10  0.008  0.050  0.087\n",
       "2  LV100  0.011  0.031  0.065\n",
       "3  LV101  0.007  0.042  0.085\n",
       "4  LV102  0.016  0.061  0.105"
      ]
     },
     "execution_count": 21,
     "metadata": {},
     "output_type": "execute_result"
    }
   ],
   "source": [
    "summary_df.head()"
   ]
  },
  {
   "cell_type": "code",
   "execution_count": 22,
   "id": "779c4db3-3ed2-413d-8bec-b19a28ce4949",
   "metadata": {},
   "outputs": [
    {
     "data": {
      "text/html": [
       "<div>\n",
       "<style scoped>\n",
       "    .dataframe tbody tr th:only-of-type {\n",
       "        vertical-align: middle;\n",
       "    }\n",
       "\n",
       "    .dataframe tbody tr th {\n",
       "        vertical-align: top;\n",
       "    }\n",
       "\n",
       "    .dataframe thead th {\n",
       "        text-align: right;\n",
       "    }\n",
       "</style>\n",
       "<table border=\"1\" class=\"dataframe\">\n",
       "  <thead>\n",
       "    <tr style=\"text-align: right;\">\n",
       "      <th></th>\n",
       "      <th>1</th>\n",
       "      <th>5</th>\n",
       "      <th>10</th>\n",
       "    </tr>\n",
       "  </thead>\n",
       "  <tbody>\n",
       "    <tr>\n",
       "      <th>count</th>\n",
       "      <td>987.000000</td>\n",
       "      <td>987.000000</td>\n",
       "      <td>987.000000</td>\n",
       "    </tr>\n",
       "    <tr>\n",
       "      <th>mean</th>\n",
       "      <td>0.019139</td>\n",
       "      <td>0.064326</td>\n",
       "      <td>0.113728</td>\n",
       "    </tr>\n",
       "    <tr>\n",
       "      <th>std</th>\n",
       "      <td>0.017958</td>\n",
       "      <td>0.029753</td>\n",
       "      <td>0.038709</td>\n",
       "    </tr>\n",
       "    <tr>\n",
       "      <th>min</th>\n",
       "      <td>0.000000</td>\n",
       "      <td>0.006000</td>\n",
       "      <td>0.022000</td>\n",
       "    </tr>\n",
       "    <tr>\n",
       "      <th>25%</th>\n",
       "      <td>0.011000</td>\n",
       "      <td>0.048000</td>\n",
       "      <td>0.091000</td>\n",
       "    </tr>\n",
       "    <tr>\n",
       "      <th>50%</th>\n",
       "      <td>0.016000</td>\n",
       "      <td>0.060000</td>\n",
       "      <td>0.109000</td>\n",
       "    </tr>\n",
       "    <tr>\n",
       "      <th>75%</th>\n",
       "      <td>0.022000</td>\n",
       "      <td>0.073500</td>\n",
       "      <td>0.128500</td>\n",
       "    </tr>\n",
       "    <tr>\n",
       "      <th>max</th>\n",
       "      <td>0.244000</td>\n",
       "      <td>0.341000</td>\n",
       "      <td>0.402000</td>\n",
       "    </tr>\n",
       "  </tbody>\n",
       "</table>\n",
       "</div>"
      ],
      "text/plain": [
       "                1           5          10\n",
       "count  987.000000  987.000000  987.000000\n",
       "mean     0.019139    0.064326    0.113728\n",
       "std      0.017958    0.029753    0.038709\n",
       "min      0.000000    0.006000    0.022000\n",
       "25%      0.011000    0.048000    0.091000\n",
       "50%      0.016000    0.060000    0.109000\n",
       "75%      0.022000    0.073500    0.128500\n",
       "max      0.244000    0.341000    0.402000"
      ]
     },
     "execution_count": 22,
     "metadata": {},
     "output_type": "execute_result"
    }
   ],
   "source": [
    "summary_df.describe()"
   ]
  },
  {
   "cell_type": "markdown",
   "id": "43daf9dd-7530-4e53-8fc0-305aa78b5be3",
   "metadata": {},
   "source": [
    "## LVs with expected type I error"
   ]
  },
  {
   "cell_type": "code",
   "execution_count": 23,
   "id": "4b22226f-edc7-4af5-8585-e2dbb6fcbe9e",
   "metadata": {},
   "outputs": [
    {
     "data": {
      "text/plain": [
       "(62, 4)"
      ]
     },
     "metadata": {},
     "output_type": "display_data"
    },
    {
     "data": {
      "text/html": [
       "<div>\n",
       "<style scoped>\n",
       "    .dataframe tbody tr th:only-of-type {\n",
       "        vertical-align: middle;\n",
       "    }\n",
       "\n",
       "    .dataframe tbody tr th {\n",
       "        vertical-align: top;\n",
       "    }\n",
       "\n",
       "    .dataframe thead th {\n",
       "        text-align: right;\n",
       "    }\n",
       "</style>\n",
       "<table border=\"1\" class=\"dataframe\">\n",
       "  <thead>\n",
       "    <tr style=\"text-align: right;\">\n",
       "      <th></th>\n",
       "      <th>lv</th>\n",
       "      <th>1</th>\n",
       "      <th>5</th>\n",
       "      <th>10</th>\n",
       "    </tr>\n",
       "  </thead>\n",
       "  <tbody>\n",
       "    <tr>\n",
       "      <th>448</th>\n",
       "      <td>LV502</td>\n",
       "      <td>0.016</td>\n",
       "      <td>0.049</td>\n",
       "      <td>0.090</td>\n",
       "    </tr>\n",
       "    <tr>\n",
       "      <th>508</th>\n",
       "      <td>LV557</td>\n",
       "      <td>0.014</td>\n",
       "      <td>0.049</td>\n",
       "      <td>0.092</td>\n",
       "    </tr>\n",
       "    <tr>\n",
       "      <th>395</th>\n",
       "      <td>LV455</td>\n",
       "      <td>0.011</td>\n",
       "      <td>0.049</td>\n",
       "      <td>0.087</td>\n",
       "    </tr>\n",
       "    <tr>\n",
       "      <th>380</th>\n",
       "      <td>LV441</td>\n",
       "      <td>0.011</td>\n",
       "      <td>0.049</td>\n",
       "      <td>0.093</td>\n",
       "    </tr>\n",
       "    <tr>\n",
       "      <th>592</th>\n",
       "      <td>LV632</td>\n",
       "      <td>0.016</td>\n",
       "      <td>0.049</td>\n",
       "      <td>0.088</td>\n",
       "    </tr>\n",
       "    <tr>\n",
       "      <th>288</th>\n",
       "      <td>LV359</td>\n",
       "      <td>0.010</td>\n",
       "      <td>0.049</td>\n",
       "      <td>0.089</td>\n",
       "    </tr>\n",
       "    <tr>\n",
       "      <th>258</th>\n",
       "      <td>LV331</td>\n",
       "      <td>0.011</td>\n",
       "      <td>0.049</td>\n",
       "      <td>0.090</td>\n",
       "    </tr>\n",
       "    <tr>\n",
       "      <th>618</th>\n",
       "      <td>LV656</td>\n",
       "      <td>0.014</td>\n",
       "      <td>0.049</td>\n",
       "      <td>0.091</td>\n",
       "    </tr>\n",
       "    <tr>\n",
       "      <th>624</th>\n",
       "      <td>LV661</td>\n",
       "      <td>0.009</td>\n",
       "      <td>0.049</td>\n",
       "      <td>0.086</td>\n",
       "    </tr>\n",
       "    <tr>\n",
       "      <th>490</th>\n",
       "      <td>LV540</td>\n",
       "      <td>0.016</td>\n",
       "      <td>0.049</td>\n",
       "      <td>0.095</td>\n",
       "    </tr>\n",
       "    <tr>\n",
       "      <th>825</th>\n",
       "      <td>LV842</td>\n",
       "      <td>0.009</td>\n",
       "      <td>0.049</td>\n",
       "      <td>0.082</td>\n",
       "    </tr>\n",
       "    <tr>\n",
       "      <th>755</th>\n",
       "      <td>LV78</td>\n",
       "      <td>0.017</td>\n",
       "      <td>0.049</td>\n",
       "      <td>0.087</td>\n",
       "    </tr>\n",
       "    <tr>\n",
       "      <th>451</th>\n",
       "      <td>LV505</td>\n",
       "      <td>0.012</td>\n",
       "      <td>0.049</td>\n",
       "      <td>0.093</td>\n",
       "    </tr>\n",
       "    <tr>\n",
       "      <th>15</th>\n",
       "      <td>LV112</td>\n",
       "      <td>0.014</td>\n",
       "      <td>0.049</td>\n",
       "      <td>0.110</td>\n",
       "    </tr>\n",
       "    <tr>\n",
       "      <th>85</th>\n",
       "      <td>LV176</td>\n",
       "      <td>0.019</td>\n",
       "      <td>0.049</td>\n",
       "      <td>0.087</td>\n",
       "    </tr>\n",
       "    <tr>\n",
       "      <th>878</th>\n",
       "      <td>LV890</td>\n",
       "      <td>0.010</td>\n",
       "      <td>0.049</td>\n",
       "      <td>0.090</td>\n",
       "    </tr>\n",
       "    <tr>\n",
       "      <th>19</th>\n",
       "      <td>LV116</td>\n",
       "      <td>0.009</td>\n",
       "      <td>0.049</td>\n",
       "      <td>0.102</td>\n",
       "    </tr>\n",
       "    <tr>\n",
       "      <th>84</th>\n",
       "      <td>LV175</td>\n",
       "      <td>0.010</td>\n",
       "      <td>0.049</td>\n",
       "      <td>0.087</td>\n",
       "    </tr>\n",
       "    <tr>\n",
       "      <th>62</th>\n",
       "      <td>LV155</td>\n",
       "      <td>0.008</td>\n",
       "      <td>0.049</td>\n",
       "      <td>0.098</td>\n",
       "    </tr>\n",
       "    <tr>\n",
       "      <th>125</th>\n",
       "      <td>LV211</td>\n",
       "      <td>0.010</td>\n",
       "      <td>0.049</td>\n",
       "      <td>0.102</td>\n",
       "    </tr>\n",
       "  </tbody>\n",
       "</table>\n",
       "</div>"
      ],
      "text/plain": [
       "        lv      1      5     10\n",
       "448  LV502  0.016  0.049  0.090\n",
       "508  LV557  0.014  0.049  0.092\n",
       "395  LV455  0.011  0.049  0.087\n",
       "380  LV441  0.011  0.049  0.093\n",
       "592  LV632  0.016  0.049  0.088\n",
       "288  LV359  0.010  0.049  0.089\n",
       "258  LV331  0.011  0.049  0.090\n",
       "618  LV656  0.014  0.049  0.091\n",
       "624  LV661  0.009  0.049  0.086\n",
       "490  LV540  0.016  0.049  0.095\n",
       "825  LV842  0.009  0.049  0.082\n",
       "755   LV78  0.017  0.049  0.087\n",
       "451  LV505  0.012  0.049  0.093\n",
       "15   LV112  0.014  0.049  0.110\n",
       "85   LV176  0.019  0.049  0.087\n",
       "878  LV890  0.010  0.049  0.090\n",
       "19   LV116  0.009  0.049  0.102\n",
       "84   LV175  0.010  0.049  0.087\n",
       "62   LV155  0.008  0.049  0.098\n",
       "125  LV211  0.010  0.049  0.102"
      ]
     },
     "metadata": {},
     "output_type": "display_data"
    },
    {
     "data": {
      "text/html": [
       "<div>\n",
       "<style scoped>\n",
       "    .dataframe tbody tr th:only-of-type {\n",
       "        vertical-align: middle;\n",
       "    }\n",
       "\n",
       "    .dataframe tbody tr th {\n",
       "        vertical-align: top;\n",
       "    }\n",
       "\n",
       "    .dataframe thead th {\n",
       "        text-align: right;\n",
       "    }\n",
       "</style>\n",
       "<table border=\"1\" class=\"dataframe\">\n",
       "  <thead>\n",
       "    <tr style=\"text-align: right;\">\n",
       "      <th></th>\n",
       "      <th>lv</th>\n",
       "      <th>1</th>\n",
       "      <th>5</th>\n",
       "      <th>10</th>\n",
       "    </tr>\n",
       "  </thead>\n",
       "  <tbody>\n",
       "    <tr>\n",
       "      <th>407</th>\n",
       "      <td>LV466</td>\n",
       "      <td>0.012</td>\n",
       "      <td>0.050</td>\n",
       "      <td>0.095</td>\n",
       "    </tr>\n",
       "    <tr>\n",
       "      <th>348</th>\n",
       "      <td>LV412</td>\n",
       "      <td>0.010</td>\n",
       "      <td>0.050</td>\n",
       "      <td>0.096</td>\n",
       "    </tr>\n",
       "    <tr>\n",
       "      <th>128</th>\n",
       "      <td>LV214</td>\n",
       "      <td>0.013</td>\n",
       "      <td>0.051</td>\n",
       "      <td>0.102</td>\n",
       "    </tr>\n",
       "    <tr>\n",
       "      <th>857</th>\n",
       "      <td>LV871</td>\n",
       "      <td>0.011</td>\n",
       "      <td>0.051</td>\n",
       "      <td>0.101</td>\n",
       "    </tr>\n",
       "    <tr>\n",
       "      <th>892</th>\n",
       "      <td>LV902</td>\n",
       "      <td>0.013</td>\n",
       "      <td>0.051</td>\n",
       "      <td>0.102</td>\n",
       "    </tr>\n",
       "    <tr>\n",
       "      <th>49</th>\n",
       "      <td>LV143</td>\n",
       "      <td>0.019</td>\n",
       "      <td>0.051</td>\n",
       "      <td>0.093</td>\n",
       "    </tr>\n",
       "    <tr>\n",
       "      <th>91</th>\n",
       "      <td>LV181</td>\n",
       "      <td>0.011</td>\n",
       "      <td>0.051</td>\n",
       "      <td>0.092</td>\n",
       "    </tr>\n",
       "    <tr>\n",
       "      <th>940</th>\n",
       "      <td>LV946</td>\n",
       "      <td>0.016</td>\n",
       "      <td>0.051</td>\n",
       "      <td>0.089</td>\n",
       "    </tr>\n",
       "    <tr>\n",
       "      <th>139</th>\n",
       "      <td>LV224</td>\n",
       "      <td>0.020</td>\n",
       "      <td>0.051</td>\n",
       "      <td>0.096</td>\n",
       "    </tr>\n",
       "    <tr>\n",
       "      <th>699</th>\n",
       "      <td>LV729</td>\n",
       "      <td>0.013</td>\n",
       "      <td>0.051</td>\n",
       "      <td>0.115</td>\n",
       "    </tr>\n",
       "    <tr>\n",
       "      <th>144</th>\n",
       "      <td>LV229</td>\n",
       "      <td>0.014</td>\n",
       "      <td>0.051</td>\n",
       "      <td>0.097</td>\n",
       "    </tr>\n",
       "    <tr>\n",
       "      <th>457</th>\n",
       "      <td>LV510</td>\n",
       "      <td>0.017</td>\n",
       "      <td>0.051</td>\n",
       "      <td>0.088</td>\n",
       "    </tr>\n",
       "    <tr>\n",
       "      <th>627</th>\n",
       "      <td>LV664</td>\n",
       "      <td>0.015</td>\n",
       "      <td>0.051</td>\n",
       "      <td>0.091</td>\n",
       "    </tr>\n",
       "    <tr>\n",
       "      <th>183</th>\n",
       "      <td>LV264</td>\n",
       "      <td>0.015</td>\n",
       "      <td>0.051</td>\n",
       "      <td>0.094</td>\n",
       "    </tr>\n",
       "    <tr>\n",
       "      <th>345</th>\n",
       "      <td>LV41</td>\n",
       "      <td>0.016</td>\n",
       "      <td>0.051</td>\n",
       "      <td>0.082</td>\n",
       "    </tr>\n",
       "    <tr>\n",
       "      <th>551</th>\n",
       "      <td>LV596</td>\n",
       "      <td>0.014</td>\n",
       "      <td>0.051</td>\n",
       "      <td>0.089</td>\n",
       "    </tr>\n",
       "    <tr>\n",
       "      <th>524</th>\n",
       "      <td>LV571</td>\n",
       "      <td>0.011</td>\n",
       "      <td>0.051</td>\n",
       "      <td>0.093</td>\n",
       "    </tr>\n",
       "    <tr>\n",
       "      <th>435</th>\n",
       "      <td>LV491</td>\n",
       "      <td>0.014</td>\n",
       "      <td>0.051</td>\n",
       "      <td>0.096</td>\n",
       "    </tr>\n",
       "    <tr>\n",
       "      <th>797</th>\n",
       "      <td>LV817</td>\n",
       "      <td>0.011</td>\n",
       "      <td>0.051</td>\n",
       "      <td>0.094</td>\n",
       "    </tr>\n",
       "    <tr>\n",
       "      <th>969</th>\n",
       "      <td>LV972</td>\n",
       "      <td>0.014</td>\n",
       "      <td>0.051</td>\n",
       "      <td>0.091</td>\n",
       "    </tr>\n",
       "  </tbody>\n",
       "</table>\n",
       "</div>"
      ],
      "text/plain": [
       "        lv      1      5     10\n",
       "407  LV466  0.012  0.050  0.095\n",
       "348  LV412  0.010  0.050  0.096\n",
       "128  LV214  0.013  0.051  0.102\n",
       "857  LV871  0.011  0.051  0.101\n",
       "892  LV902  0.013  0.051  0.102\n",
       "49   LV143  0.019  0.051  0.093\n",
       "91   LV181  0.011  0.051  0.092\n",
       "940  LV946  0.016  0.051  0.089\n",
       "139  LV224  0.020  0.051  0.096\n",
       "699  LV729  0.013  0.051  0.115\n",
       "144  LV229  0.014  0.051  0.097\n",
       "457  LV510  0.017  0.051  0.088\n",
       "627  LV664  0.015  0.051  0.091\n",
       "183  LV264  0.015  0.051  0.094\n",
       "345   LV41  0.016  0.051  0.082\n",
       "551  LV596  0.014  0.051  0.089\n",
       "524  LV571  0.011  0.051  0.093\n",
       "435  LV491  0.014  0.051  0.096\n",
       "797  LV817  0.011  0.051  0.094\n",
       "969  LV972  0.014  0.051  0.091"
      ]
     },
     "metadata": {},
     "output_type": "display_data"
    }
   ],
   "source": [
    "lvs_expected_error = summary_df[summary_df[\"5\"].between(0.049, 0.051)]\n",
    "display(lvs_expected_error.shape)\n",
    "display(lvs_expected_error.sort_values(\"5\").head(20))\n",
    "display(lvs_expected_error.sort_values(\"5\").tail(20))"
   ]
  },
  {
   "cell_type": "markdown",
   "id": "9dcc030a-74be-4d04-b2b6-654a4443fbd9",
   "metadata": {},
   "source": [
    "## LVs with high type I error"
   ]
  },
  {
   "cell_type": "code",
   "execution_count": 24,
   "id": "31c5f1c6-10d7-4b2a-9429-b59e6ba3c594",
   "metadata": {},
   "outputs": [
    {
     "data": {
      "text/plain": [
       "(473, 4)"
      ]
     },
     "metadata": {},
     "output_type": "display_data"
    },
    {
     "data": {
      "text/html": [
       "<div>\n",
       "<style scoped>\n",
       "    .dataframe tbody tr th:only-of-type {\n",
       "        vertical-align: middle;\n",
       "    }\n",
       "\n",
       "    .dataframe tbody tr th {\n",
       "        vertical-align: top;\n",
       "    }\n",
       "\n",
       "    .dataframe thead th {\n",
       "        text-align: right;\n",
       "    }\n",
       "</style>\n",
       "<table border=\"1\" class=\"dataframe\">\n",
       "  <thead>\n",
       "    <tr style=\"text-align: right;\">\n",
       "      <th></th>\n",
       "      <th>lv</th>\n",
       "      <th>1</th>\n",
       "      <th>5</th>\n",
       "      <th>10</th>\n",
       "    </tr>\n",
       "  </thead>\n",
       "  <tbody>\n",
       "    <tr>\n",
       "      <th>423</th>\n",
       "      <td>LV480</td>\n",
       "      <td>0.072</td>\n",
       "      <td>0.154</td>\n",
       "      <td>0.217</td>\n",
       "    </tr>\n",
       "    <tr>\n",
       "      <th>129</th>\n",
       "      <td>LV215</td>\n",
       "      <td>0.075</td>\n",
       "      <td>0.165</td>\n",
       "      <td>0.224</td>\n",
       "    </tr>\n",
       "    <tr>\n",
       "      <th>613</th>\n",
       "      <td>LV651</td>\n",
       "      <td>0.046</td>\n",
       "      <td>0.166</td>\n",
       "      <td>0.261</td>\n",
       "    </tr>\n",
       "    <tr>\n",
       "      <th>153</th>\n",
       "      <td>LV237</td>\n",
       "      <td>0.085</td>\n",
       "      <td>0.173</td>\n",
       "      <td>0.240</td>\n",
       "    </tr>\n",
       "    <tr>\n",
       "      <th>349</th>\n",
       "      <td>LV413</td>\n",
       "      <td>0.107</td>\n",
       "      <td>0.177</td>\n",
       "      <td>0.231</td>\n",
       "    </tr>\n",
       "    <tr>\n",
       "      <th>255</th>\n",
       "      <td>LV329</td>\n",
       "      <td>0.136</td>\n",
       "      <td>0.183</td>\n",
       "      <td>0.211</td>\n",
       "    </tr>\n",
       "    <tr>\n",
       "      <th>965</th>\n",
       "      <td>LV969</td>\n",
       "      <td>0.104</td>\n",
       "      <td>0.186</td>\n",
       "      <td>0.263</td>\n",
       "    </tr>\n",
       "    <tr>\n",
       "      <th>682</th>\n",
       "      <td>LV713</td>\n",
       "      <td>0.103</td>\n",
       "      <td>0.188</td>\n",
       "      <td>0.249</td>\n",
       "    </tr>\n",
       "    <tr>\n",
       "      <th>549</th>\n",
       "      <td>LV594</td>\n",
       "      <td>0.119</td>\n",
       "      <td>0.192</td>\n",
       "      <td>0.242</td>\n",
       "    </tr>\n",
       "    <tr>\n",
       "      <th>401</th>\n",
       "      <td>LV460</td>\n",
       "      <td>0.111</td>\n",
       "      <td>0.192</td>\n",
       "      <td>0.252</td>\n",
       "    </tr>\n",
       "    <tr>\n",
       "      <th>906</th>\n",
       "      <td>LV915</td>\n",
       "      <td>0.107</td>\n",
       "      <td>0.202</td>\n",
       "      <td>0.273</td>\n",
       "    </tr>\n",
       "    <tr>\n",
       "      <th>416</th>\n",
       "      <td>LV474</td>\n",
       "      <td>0.168</td>\n",
       "      <td>0.209</td>\n",
       "      <td>0.235</td>\n",
       "    </tr>\n",
       "    <tr>\n",
       "      <th>297</th>\n",
       "      <td>LV367</td>\n",
       "      <td>0.136</td>\n",
       "      <td>0.210</td>\n",
       "      <td>0.289</td>\n",
       "    </tr>\n",
       "    <tr>\n",
       "      <th>863</th>\n",
       "      <td>LV877</td>\n",
       "      <td>0.132</td>\n",
       "      <td>0.210</td>\n",
       "      <td>0.267</td>\n",
       "    </tr>\n",
       "    <tr>\n",
       "      <th>242</th>\n",
       "      <td>LV317</td>\n",
       "      <td>0.141</td>\n",
       "      <td>0.219</td>\n",
       "      <td>0.289</td>\n",
       "    </tr>\n",
       "    <tr>\n",
       "      <th>113</th>\n",
       "      <td>LV200</td>\n",
       "      <td>0.131</td>\n",
       "      <td>0.220</td>\n",
       "      <td>0.289</td>\n",
       "    </tr>\n",
       "    <tr>\n",
       "      <th>718</th>\n",
       "      <td>LV746</td>\n",
       "      <td>0.114</td>\n",
       "      <td>0.220</td>\n",
       "      <td>0.275</td>\n",
       "    </tr>\n",
       "    <tr>\n",
       "      <th>815</th>\n",
       "      <td>LV833</td>\n",
       "      <td>0.131</td>\n",
       "      <td>0.232</td>\n",
       "      <td>0.291</td>\n",
       "    </tr>\n",
       "    <tr>\n",
       "      <th>866</th>\n",
       "      <td>LV88</td>\n",
       "      <td>0.121</td>\n",
       "      <td>0.237</td>\n",
       "      <td>0.309</td>\n",
       "    </tr>\n",
       "    <tr>\n",
       "      <th>832</th>\n",
       "      <td>LV849</td>\n",
       "      <td>0.244</td>\n",
       "      <td>0.341</td>\n",
       "      <td>0.402</td>\n",
       "    </tr>\n",
       "  </tbody>\n",
       "</table>\n",
       "</div>"
      ],
      "text/plain": [
       "        lv      1      5     10\n",
       "423  LV480  0.072  0.154  0.217\n",
       "129  LV215  0.075  0.165  0.224\n",
       "613  LV651  0.046  0.166  0.261\n",
       "153  LV237  0.085  0.173  0.240\n",
       "349  LV413  0.107  0.177  0.231\n",
       "255  LV329  0.136  0.183  0.211\n",
       "965  LV969  0.104  0.186  0.263\n",
       "682  LV713  0.103  0.188  0.249\n",
       "549  LV594  0.119  0.192  0.242\n",
       "401  LV460  0.111  0.192  0.252\n",
       "906  LV915  0.107  0.202  0.273\n",
       "416  LV474  0.168  0.209  0.235\n",
       "297  LV367  0.136  0.210  0.289\n",
       "863  LV877  0.132  0.210  0.267\n",
       "242  LV317  0.141  0.219  0.289\n",
       "113  LV200  0.131  0.220  0.289\n",
       "718  LV746  0.114  0.220  0.275\n",
       "815  LV833  0.131  0.232  0.291\n",
       "866   LV88  0.121  0.237  0.309\n",
       "832  LV849  0.244  0.341  0.402"
      ]
     },
     "metadata": {},
     "output_type": "display_data"
    }
   ],
   "source": [
    "lvs_high_error = summary_df[summary_df[\"5\"] > 0.06]\n",
    "display(lvs_high_error.shape)\n",
    "# display(lvs_high_error.sort_values(\"5\").head(20))\n",
    "display(lvs_high_error.sort_values(\"5\").tail(20))"
   ]
  },
  {
   "cell_type": "markdown",
   "id": "30b3db3f-3b33-4bac-a3ea-d728e32d1e6a",
   "metadata": {},
   "source": [
    "# LVs with high mean type I error"
   ]
  },
  {
   "cell_type": "code",
   "execution_count": 25,
   "id": "5a856848-111a-4271-b3b7-07cdb8a4f758",
   "metadata": {},
   "outputs": [],
   "source": [
    "lv_results_high = {}"
   ]
  },
  {
   "cell_type": "markdown",
   "id": "dbcaad33-5b8f-4f2d-a28e-edb1504724e9",
   "metadata": {},
   "source": [
    "## LV45"
   ]
  },
  {
   "cell_type": "code",
   "execution_count": 26,
   "id": "d0b7fd18-4d4b-4917-9768-0f19a7c698d7",
   "metadata": {},
   "outputs": [],
   "source": [
    "lv_code = \"LV45\""
   ]
  },
  {
   "cell_type": "code",
   "execution_count": 27,
   "id": "e1ff4bfa-280a-465a-ab83-1cc2bc42ff96",
   "metadata": {},
   "outputs": [],
   "source": [
    "results = dfs[dfs[\"lv\"] == lv_code]"
   ]
  },
  {
   "cell_type": "code",
   "execution_count": 28,
   "id": "d3038212-51a0-437c-80ec-cc6b919f1e7f",
   "metadata": {},
   "outputs": [
    {
     "data": {
      "text/plain": [
       "(1000, 7)"
      ]
     },
     "execution_count": 28,
     "metadata": {},
     "output_type": "execute_result"
    }
   ],
   "source": [
    "results.shape"
   ]
  },
  {
   "cell_type": "code",
   "execution_count": 29,
   "id": "2070d4d7-993a-443e-a164-b296c592fc7b",
   "metadata": {},
   "outputs": [
    {
     "data": {
      "text/html": [
       "<div>\n",
       "<style scoped>\n",
       "    .dataframe tbody tr th:only-of-type {\n",
       "        vertical-align: middle;\n",
       "    }\n",
       "\n",
       "    .dataframe tbody tr th {\n",
       "        vertical-align: top;\n",
       "    }\n",
       "\n",
       "    .dataframe thead th {\n",
       "        text-align: right;\n",
       "    }\n",
       "</style>\n",
       "<table border=\"1\" class=\"dataframe\">\n",
       "  <thead>\n",
       "    <tr style=\"text-align: right;\">\n",
       "      <th></th>\n",
       "      <th>lv</th>\n",
       "      <th>beta</th>\n",
       "      <th>beta_se</th>\n",
       "      <th>t</th>\n",
       "      <th>pvalue_twosided</th>\n",
       "      <th>pvalue_onesided</th>\n",
       "      <th>phenotype</th>\n",
       "    </tr>\n",
       "  </thead>\n",
       "  <tbody>\n",
       "    <tr>\n",
       "      <th>44</th>\n",
       "      <td>LV45</td>\n",
       "      <td>0.017358</td>\n",
       "      <td>0.010316</td>\n",
       "      <td>1.682603</td>\n",
       "      <td>0.092501</td>\n",
       "      <td>0.046250</td>\n",
       "      <td>random.pheno988</td>\n",
       "    </tr>\n",
       "    <tr>\n",
       "      <th>1031</th>\n",
       "      <td>LV45</td>\n",
       "      <td>0.010536</td>\n",
       "      <td>0.010319</td>\n",
       "      <td>1.020947</td>\n",
       "      <td>0.307318</td>\n",
       "      <td>0.153659</td>\n",
       "      <td>random.pheno589</td>\n",
       "    </tr>\n",
       "    <tr>\n",
       "      <th>2018</th>\n",
       "      <td>LV45</td>\n",
       "      <td>0.005023</td>\n",
       "      <td>0.010318</td>\n",
       "      <td>0.486842</td>\n",
       "      <td>0.626387</td>\n",
       "      <td>0.313194</td>\n",
       "      <td>random.pheno385</td>\n",
       "    </tr>\n",
       "    <tr>\n",
       "      <th>3005</th>\n",
       "      <td>LV45</td>\n",
       "      <td>0.006548</td>\n",
       "      <td>0.010307</td>\n",
       "      <td>0.635300</td>\n",
       "      <td>0.525255</td>\n",
       "      <td>0.262628</td>\n",
       "      <td>random.pheno5</td>\n",
       "    </tr>\n",
       "    <tr>\n",
       "      <th>3992</th>\n",
       "      <td>LV45</td>\n",
       "      <td>-0.016240</td>\n",
       "      <td>0.010305</td>\n",
       "      <td>-1.575915</td>\n",
       "      <td>0.115094</td>\n",
       "      <td>0.942453</td>\n",
       "      <td>random.pheno74</td>\n",
       "    </tr>\n",
       "  </tbody>\n",
       "</table>\n",
       "</div>"
      ],
      "text/plain": [
       "        lv      beta   beta_se         t  pvalue_twosided  pvalue_onesided  \\\n",
       "44    LV45  0.017358  0.010316  1.682603         0.092501         0.046250   \n",
       "1031  LV45  0.010536  0.010319  1.020947         0.307318         0.153659   \n",
       "2018  LV45  0.005023  0.010318  0.486842         0.626387         0.313194   \n",
       "3005  LV45  0.006548  0.010307  0.635300         0.525255         0.262628   \n",
       "3992  LV45 -0.016240  0.010305 -1.575915         0.115094         0.942453   \n",
       "\n",
       "            phenotype  \n",
       "44    random.pheno988  \n",
       "1031  random.pheno589  \n",
       "2018  random.pheno385  \n",
       "3005    random.pheno5  \n",
       "3992   random.pheno74  "
      ]
     },
     "execution_count": 29,
     "metadata": {},
     "output_type": "execute_result"
    }
   ],
   "source": [
    "results.head()"
   ]
  },
  {
   "cell_type": "code",
   "execution_count": 30,
   "id": "fb5f38ce-e561-4b97-a33c-06d9b4b89edf",
   "metadata": {},
   "outputs": [],
   "source": [
    "# save for future reference\n",
    "lv_results_high[lv_code] = results"
   ]
  },
  {
   "cell_type": "markdown",
   "id": "9b3dea75-6e92-4e12-87cd-0b15c86dce48",
   "metadata": {},
   "source": [
    "### Mean type I errors at different thresholds"
   ]
  },
  {
   "cell_type": "code",
   "execution_count": 31,
   "id": "b7717344-7de4-480e-9844-fe76c475987d",
   "metadata": {},
   "outputs": [
    {
     "data": {
      "text/plain": [
       "0.021"
      ]
     },
     "execution_count": 31,
     "metadata": {},
     "output_type": "execute_result"
    }
   ],
   "source": [
    "show_prop(results, 0.01)"
   ]
  },
  {
   "cell_type": "code",
   "execution_count": 32,
   "id": "b01b57ec-d4c4-4174-bef4-1aef9953c378",
   "metadata": {},
   "outputs": [
    {
     "data": {
      "text/plain": [
       "0.063"
      ]
     },
     "execution_count": 32,
     "metadata": {},
     "output_type": "execute_result"
    }
   ],
   "source": [
    "show_prop(results, 0.05)"
   ]
  },
  {
   "cell_type": "code",
   "execution_count": 33,
   "id": "37632ecd-3a8b-4385-bd62-409f76e04dfe",
   "metadata": {},
   "outputs": [
    {
     "data": {
      "text/plain": [
       "0.12"
      ]
     },
     "execution_count": 33,
     "metadata": {},
     "output_type": "execute_result"
    }
   ],
   "source": [
    "show_prop(results, 0.10)"
   ]
  },
  {
   "cell_type": "code",
   "execution_count": 34,
   "id": "252001e5-4415-47e9-be83-389a619de686",
   "metadata": {},
   "outputs": [
    {
     "data": {
      "text/plain": [
       "0.164"
      ]
     },
     "execution_count": 34,
     "metadata": {},
     "output_type": "execute_result"
    }
   ],
   "source": [
    "show_prop(results, 0.15)"
   ]
  },
  {
   "cell_type": "code",
   "execution_count": 35,
   "id": "e4668836-17bb-4253-8ef3-a637b26029f8",
   "metadata": {},
   "outputs": [
    {
     "data": {
      "text/plain": [
       "0.204"
      ]
     },
     "execution_count": 35,
     "metadata": {},
     "output_type": "execute_result"
    }
   ],
   "source": [
    "show_prop(results, 0.20)"
   ]
  },
  {
   "cell_type": "markdown",
   "id": "25966a90-ff90-4db2-a574-3f9433f49bbf",
   "metadata": {},
   "source": [
    "### QQplot"
   ]
  },
  {
   "cell_type": "code",
   "execution_count": 36,
   "id": "2d40d77b-0fb8-44a3-b203-6e245444cb68",
   "metadata": {},
   "outputs": [
    {
     "data": {
      "image/png": "[encoded data removed]",
      "text/plain": [
       "<Figure size 576x576 with 1 Axes>"
      ]
     },
     "metadata": {
      "needs_background": "light"
     },
     "output_type": "display_data"
    }
   ],
   "source": [
    "qqplot_unif(results)"
   ]
  },
  {
   "cell_type": "markdown",
   "id": "af51db69-b36d-429a-a59c-cd5bfc4cd38c",
   "metadata": {},
   "source": [
    "## LV234"
   ]
  },
  {
   "cell_type": "code",
   "execution_count": 37,
   "id": "861e6a8c-b891-4eb2-8878-f5505937f6aa",
   "metadata": {},
   "outputs": [],
   "source": [
    "lv_code = \"LV234\""
   ]
  },
  {
   "cell_type": "code",
   "execution_count": 38,
   "id": "ce659542-b79b-409e-9f02-5b9089510870",
   "metadata": {},
   "outputs": [],
   "source": [
    "results = dfs[dfs[\"lv\"] == lv_code]"
   ]
  },
  {
   "cell_type": "code",
   "execution_count": 39,
   "id": "e149155d-a169-4b37-ab1d-aa2c5ff00f38",
   "metadata": {},
   "outputs": [
    {
     "data": {
      "text/plain": [
       "(1000, 7)"
      ]
     },
     "execution_count": 39,
     "metadata": {},
     "output_type": "execute_result"
    }
   ],
   "source": [
    "results.shape"
   ]
  },
  {
   "cell_type": "code",
   "execution_count": 40,
   "id": "9b7db3d4-d922-4dbb-9a06-15a5432fb67b",
   "metadata": {},
   "outputs": [
    {
     "data": {
      "text/html": [
       "<div>\n",
       "<style scoped>\n",
       "    .dataframe tbody tr th:only-of-type {\n",
       "        vertical-align: middle;\n",
       "    }\n",
       "\n",
       "    .dataframe tbody tr th {\n",
       "        vertical-align: top;\n",
       "    }\n",
       "\n",
       "    .dataframe thead th {\n",
       "        text-align: right;\n",
       "    }\n",
       "</style>\n",
       "<table border=\"1\" class=\"dataframe\">\n",
       "  <thead>\n",
       "    <tr style=\"text-align: right;\">\n",
       "      <th></th>\n",
       "      <th>lv</th>\n",
       "      <th>beta</th>\n",
       "      <th>beta_se</th>\n",
       "      <th>t</th>\n",
       "      <th>pvalue_twosided</th>\n",
       "      <th>pvalue_onesided</th>\n",
       "      <th>phenotype</th>\n",
       "    </tr>\n",
       "  </thead>\n",
       "  <tbody>\n",
       "    <tr>\n",
       "      <th>233</th>\n",
       "      <td>LV234</td>\n",
       "      <td>0.020863</td>\n",
       "      <td>0.012353</td>\n",
       "      <td>1.688845</td>\n",
       "      <td>0.091298</td>\n",
       "      <td>0.045649</td>\n",
       "      <td>random.pheno988</td>\n",
       "    </tr>\n",
       "    <tr>\n",
       "      <th>1220</th>\n",
       "      <td>LV234</td>\n",
       "      <td>0.000766</td>\n",
       "      <td>0.012338</td>\n",
       "      <td>0.062107</td>\n",
       "      <td>0.950480</td>\n",
       "      <td>0.475240</td>\n",
       "      <td>random.pheno589</td>\n",
       "    </tr>\n",
       "    <tr>\n",
       "      <th>2207</th>\n",
       "      <td>LV234</td>\n",
       "      <td>-0.012137</td>\n",
       "      <td>0.012331</td>\n",
       "      <td>-0.984213</td>\n",
       "      <td>0.325048</td>\n",
       "      <td>0.837476</td>\n",
       "      <td>random.pheno385</td>\n",
       "    </tr>\n",
       "    <tr>\n",
       "      <th>3194</th>\n",
       "      <td>LV234</td>\n",
       "      <td>0.010070</td>\n",
       "      <td>0.012332</td>\n",
       "      <td>0.816599</td>\n",
       "      <td>0.414188</td>\n",
       "      <td>0.207094</td>\n",
       "      <td>random.pheno5</td>\n",
       "    </tr>\n",
       "    <tr>\n",
       "      <th>4181</th>\n",
       "      <td>LV234</td>\n",
       "      <td>0.002697</td>\n",
       "      <td>0.012361</td>\n",
       "      <td>0.218161</td>\n",
       "      <td>0.827311</td>\n",
       "      <td>0.413655</td>\n",
       "      <td>random.pheno74</td>\n",
       "    </tr>\n",
       "  </tbody>\n",
       "</table>\n",
       "</div>"
      ],
      "text/plain": [
       "         lv      beta   beta_se         t  pvalue_twosided  pvalue_onesided  \\\n",
       "233   LV234  0.020863  0.012353  1.688845         0.091298         0.045649   \n",
       "1220  LV234  0.000766  0.012338  0.062107         0.950480         0.475240   \n",
       "2207  LV234 -0.012137  0.012331 -0.984213         0.325048         0.837476   \n",
       "3194  LV234  0.010070  0.012332  0.816599         0.414188         0.207094   \n",
       "4181  LV234  0.002697  0.012361  0.218161         0.827311         0.413655   \n",
       "\n",
       "            phenotype  \n",
       "233   random.pheno988  \n",
       "1220  random.pheno589  \n",
       "2207  random.pheno385  \n",
       "3194    random.pheno5  \n",
       "4181   random.pheno74  "
      ]
     },
     "execution_count": 40,
     "metadata": {},
     "output_type": "execute_result"
    }
   ],
   "source": [
    "results.head()"
   ]
  },
  {
   "cell_type": "code",
   "execution_count": 41,
   "id": "750dbe9c-6ec8-4822-83ad-3d3360e76ca9",
   "metadata": {},
   "outputs": [],
   "source": [
    "# save for future reference\n",
    "lv_results_high[lv_code] = results"
   ]
  },
  {
   "cell_type": "markdown",
   "id": "643200c0-4e13-473a-951e-67aac166c85c",
   "metadata": {},
   "source": [
    "### Mean type I errors at different thresholds"
   ]
  },
  {
   "cell_type": "code",
   "execution_count": 42,
   "id": "98615fff-336f-44e3-8de5-a82ec0b7a377",
   "metadata": {},
   "outputs": [
    {
     "data": {
      "text/plain": [
       "0.018"
      ]
     },
     "execution_count": 42,
     "metadata": {},
     "output_type": "execute_result"
    }
   ],
   "source": [
    "show_prop(results, 0.01)"
   ]
  },
  {
   "cell_type": "code",
   "execution_count": 43,
   "id": "bb28e493-8151-4aad-a7a1-f0728b24373d",
   "metadata": {},
   "outputs": [
    {
     "data": {
      "text/plain": [
       "0.063"
      ]
     },
     "execution_count": 43,
     "metadata": {},
     "output_type": "execute_result"
    }
   ],
   "source": [
    "show_prop(results, 0.05)"
   ]
  },
  {
   "cell_type": "code",
   "execution_count": 44,
   "id": "91515a72-d558-4f90-839d-0439b7bc8c51",
   "metadata": {},
   "outputs": [
    {
     "data": {
      "text/plain": [
       "0.118"
      ]
     },
     "execution_count": 44,
     "metadata": {},
     "output_type": "execute_result"
    }
   ],
   "source": [
    "show_prop(results, 0.10)"
   ]
  },
  {
   "cell_type": "code",
   "execution_count": 45,
   "id": "049459fd-5782-41ed-9fe7-36d30c016adc",
   "metadata": {},
   "outputs": [
    {
     "data": {
      "text/plain": [
       "0.152"
      ]
     },
     "execution_count": 45,
     "metadata": {},
     "output_type": "execute_result"
    }
   ],
   "source": [
    "show_prop(results, 0.15)"
   ]
  },
  {
   "cell_type": "code",
   "execution_count": 46,
   "id": "d0569d7e-91f1-43f8-82b7-54b927199724",
   "metadata": {},
   "outputs": [
    {
     "data": {
      "text/plain": [
       "0.185"
      ]
     },
     "execution_count": 46,
     "metadata": {},
     "output_type": "execute_result"
    }
   ],
   "source": [
    "show_prop(results, 0.20)"
   ]
  },
  {
   "cell_type": "markdown",
   "id": "0edff314-f8ed-4725-a384-5e1f24a7dea2",
   "metadata": {},
   "source": [
    "### QQplot"
   ]
  },
  {
   "cell_type": "code",
   "execution_count": 47,
   "id": "0bfbf172-fc72-4c72-819b-e873c8121e4c",
   "metadata": {},
   "outputs": [
    {
     "data": {
      "image/png": "[encoded data removed]",
      "text/plain": [
       "<Figure size 576x576 with 1 Axes>"
      ]
     },
     "metadata": {
      "needs_background": "light"
     },
     "output_type": "display_data"
    }
   ],
   "source": [
    "qqplot_unif(results)"
   ]
  },
  {
   "cell_type": "markdown",
   "id": "ba96144f-f46e-4369-8c5d-fff2a34d3309",
   "metadata": {},
   "source": [
    "## LV847"
   ]
  },
  {
   "cell_type": "code",
   "execution_count": 48,
   "id": "eb51399e-47de-44c5-84f5-70f0ca709204",
   "metadata": {},
   "outputs": [],
   "source": [
    "lv_code = \"LV847\""
   ]
  },
  {
   "cell_type": "code",
   "execution_count": 49,
   "id": "282b7e09-41c8-49a5-8b2c-a650ea4eaceb",
   "metadata": {},
   "outputs": [],
   "source": [
    "results = dfs[dfs[\"lv\"] == lv_code]"
   ]
  },
  {
   "cell_type": "code",
   "execution_count": 50,
   "id": "8f39bc48-43c1-47e3-956d-4abff3f72ce2",
   "metadata": {},
   "outputs": [
    {
     "data": {
      "text/plain": [
       "(1000, 7)"
      ]
     },
     "execution_count": 50,
     "metadata": {},
     "output_type": "execute_result"
    }
   ],
   "source": [
    "results.shape"
   ]
  },
  {
   "cell_type": "code",
   "execution_count": 51,
   "id": "36e55730-d3d4-47d2-9b7f-a88b19f4dee1",
   "metadata": {},
   "outputs": [
    {
     "data": {
      "text/html": [
       "<div>\n",
       "<style scoped>\n",
       "    .dataframe tbody tr th:only-of-type {\n",
       "        vertical-align: middle;\n",
       "    }\n",
       "\n",
       "    .dataframe tbody tr th {\n",
       "        vertical-align: top;\n",
       "    }\n",
       "\n",
       "    .dataframe thead th {\n",
       "        text-align: right;\n",
       "    }\n",
       "</style>\n",
       "<table border=\"1\" class=\"dataframe\">\n",
       "  <thead>\n",
       "    <tr style=\"text-align: right;\">\n",
       "      <th></th>\n",
       "      <th>lv</th>\n",
       "      <th>beta</th>\n",
       "      <th>beta_se</th>\n",
       "      <th>t</th>\n",
       "      <th>pvalue_twosided</th>\n",
       "      <th>pvalue_onesided</th>\n",
       "      <th>phenotype</th>\n",
       "    </tr>\n",
       "  </thead>\n",
       "  <tbody>\n",
       "    <tr>\n",
       "      <th>846</th>\n",
       "      <td>LV847</td>\n",
       "      <td>0.010632</td>\n",
       "      <td>0.012898</td>\n",
       "      <td>0.824312</td>\n",
       "      <td>0.409793</td>\n",
       "      <td>0.204897</td>\n",
       "      <td>random.pheno988</td>\n",
       "    </tr>\n",
       "    <tr>\n",
       "      <th>1833</th>\n",
       "      <td>LV847</td>\n",
       "      <td>0.003698</td>\n",
       "      <td>0.012917</td>\n",
       "      <td>0.286287</td>\n",
       "      <td>0.774668</td>\n",
       "      <td>0.387334</td>\n",
       "      <td>random.pheno589</td>\n",
       "    </tr>\n",
       "    <tr>\n",
       "      <th>2820</th>\n",
       "      <td>LV847</td>\n",
       "      <td>-0.014287</td>\n",
       "      <td>0.012900</td>\n",
       "      <td>-1.107547</td>\n",
       "      <td>0.268099</td>\n",
       "      <td>0.865951</td>\n",
       "      <td>random.pheno385</td>\n",
       "    </tr>\n",
       "    <tr>\n",
       "      <th>3807</th>\n",
       "      <td>LV847</td>\n",
       "      <td>0.008309</td>\n",
       "      <td>0.012884</td>\n",
       "      <td>0.644926</td>\n",
       "      <td>0.518998</td>\n",
       "      <td>0.259499</td>\n",
       "      <td>random.pheno5</td>\n",
       "    </tr>\n",
       "    <tr>\n",
       "      <th>4794</th>\n",
       "      <td>LV847</td>\n",
       "      <td>0.007957</td>\n",
       "      <td>0.012939</td>\n",
       "      <td>0.614982</td>\n",
       "      <td>0.538589</td>\n",
       "      <td>0.269294</td>\n",
       "      <td>random.pheno74</td>\n",
       "    </tr>\n",
       "  </tbody>\n",
       "</table>\n",
       "</div>"
      ],
      "text/plain": [
       "         lv      beta   beta_se         t  pvalue_twosided  pvalue_onesided  \\\n",
       "846   LV847  0.010632  0.012898  0.824312         0.409793         0.204897   \n",
       "1833  LV847  0.003698  0.012917  0.286287         0.774668         0.387334   \n",
       "2820  LV847 -0.014287  0.012900 -1.107547         0.268099         0.865951   \n",
       "3807  LV847  0.008309  0.012884  0.644926         0.518998         0.259499   \n",
       "4794  LV847  0.007957  0.012939  0.614982         0.538589         0.269294   \n",
       "\n",
       "            phenotype  \n",
       "846   random.pheno988  \n",
       "1833  random.pheno589  \n",
       "2820  random.pheno385  \n",
       "3807    random.pheno5  \n",
       "4794   random.pheno74  "
      ]
     },
     "execution_count": 51,
     "metadata": {},
     "output_type": "execute_result"
    }
   ],
   "source": [
    "results.head()"
   ]
  },
  {
   "cell_type": "code",
   "execution_count": 52,
   "id": "707521ef-6ef3-4906-bf60-e592af51fa39",
   "metadata": {},
   "outputs": [],
   "source": [
    "# save for future reference\n",
    "lv_results_high[lv_code] = results"
   ]
  },
  {
   "cell_type": "markdown",
   "id": "41697306-11db-4362-a601-69627f53ce6d",
   "metadata": {},
   "source": [
    "### Mean type I errors at different thresholds"
   ]
  },
  {
   "cell_type": "code",
   "execution_count": 53,
   "id": "566a4147-98dd-4dc7-a50b-8d9ae9f0f2dc",
   "metadata": {},
   "outputs": [
    {
     "data": {
      "text/plain": [
       "0.024"
      ]
     },
     "execution_count": 53,
     "metadata": {},
     "output_type": "execute_result"
    }
   ],
   "source": [
    "show_prop(results, 0.01)"
   ]
  },
  {
   "cell_type": "code",
   "execution_count": 54,
   "id": "9a26401d-5d9f-4a5b-9404-a995acf31fa9",
   "metadata": {},
   "outputs": [
    {
     "data": {
      "text/plain": [
       "0.063"
      ]
     },
     "execution_count": 54,
     "metadata": {},
     "output_type": "execute_result"
    }
   ],
   "source": [
    "show_prop(results, 0.05)"
   ]
  },
  {
   "cell_type": "code",
   "execution_count": 55,
   "id": "22b0b9fd-7b84-4e9c-abaf-ccdb93413165",
   "metadata": {},
   "outputs": [
    {
     "data": {
      "text/plain": [
       "0.103"
      ]
     },
     "execution_count": 55,
     "metadata": {},
     "output_type": "execute_result"
    }
   ],
   "source": [
    "show_prop(results, 0.10)"
   ]
  },
  {
   "cell_type": "code",
   "execution_count": 56,
   "id": "4e1299c0-a344-4d3b-9e85-0f8641bd5f05",
   "metadata": {},
   "outputs": [
    {
     "data": {
      "text/plain": [
       "0.146"
      ]
     },
     "execution_count": 56,
     "metadata": {},
     "output_type": "execute_result"
    }
   ],
   "source": [
    "show_prop(results, 0.15)"
   ]
  },
  {
   "cell_type": "code",
   "execution_count": 57,
   "id": "6e6a7323-cf20-469a-9b68-3e022545bb1e",
   "metadata": {},
   "outputs": [
    {
     "data": {
      "text/plain": [
       "0.193"
      ]
     },
     "execution_count": 57,
     "metadata": {},
     "output_type": "execute_result"
    }
   ],
   "source": [
    "show_prop(results, 0.20)"
   ]
  },
  {
   "cell_type": "markdown",
   "id": "d96bda1d-0bb0-4d45-a33b-0cdeda3701ae",
   "metadata": {},
   "source": [
    "### QQplot"
   ]
  },
  {
   "cell_type": "code",
   "execution_count": 58,
   "id": "d1cddd29-573d-48ab-bb14-1309a613083e",
   "metadata": {},
   "outputs": [
    {
     "data": {
      "image/png": "[encoded data removed]",
      "text/plain": [
       "<Figure size 576x576 with 1 Axes>"
      ]
     },
     "metadata": {
      "needs_background": "light"
     },
     "output_type": "display_data"
    }
   ],
   "source": [
    "qqplot_unif(results)"
   ]
  },
  {
   "cell_type": "markdown",
   "id": "5255d9dc-dbe6-4190-b040-210af2db4f10",
   "metadata": {},
   "source": [
    "## LV110"
   ]
  },
  {
   "cell_type": "code",
   "execution_count": 59,
   "id": "597a5457-511e-4dd6-936e-69a05905f832",
   "metadata": {},
   "outputs": [],
   "source": [
    "lv_code = \"LV110\""
   ]
  },
  {
   "cell_type": "code",
   "execution_count": 60,
   "id": "8186250b-110b-4d36-9826-392b57ad98f8",
   "metadata": {},
   "outputs": [],
   "source": [
    "results = dfs[dfs[\"lv\"] == lv_code]"
   ]
  },
  {
   "cell_type": "code",
   "execution_count": 61,
   "id": "f43b64f5-4058-4530-8e47-9ec838038bcf",
   "metadata": {},
   "outputs": [
    {
     "data": {
      "text/plain": [
       "(1000, 7)"
      ]
     },
     "execution_count": 61,
     "metadata": {},
     "output_type": "execute_result"
    }
   ],
   "source": [
    "results.shape"
   ]
  },
  {
   "cell_type": "code",
   "execution_count": 62,
   "id": "177dbcd5-e609-484c-9663-f3384c2c45e5",
   "metadata": {},
   "outputs": [
    {
     "data": {
      "text/html": [
       "<div>\n",
       "<style scoped>\n",
       "    .dataframe tbody tr th:only-of-type {\n",
       "        vertical-align: middle;\n",
       "    }\n",
       "\n",
       "    .dataframe tbody tr th {\n",
       "        vertical-align: top;\n",
       "    }\n",
       "\n",
       "    .dataframe thead th {\n",
       "        text-align: right;\n",
       "    }\n",
       "</style>\n",
       "<table border=\"1\" class=\"dataframe\">\n",
       "  <thead>\n",
       "    <tr style=\"text-align: right;\">\n",
       "      <th></th>\n",
       "      <th>lv</th>\n",
       "      <th>beta</th>\n",
       "      <th>beta_se</th>\n",
       "      <th>t</th>\n",
       "      <th>pvalue_twosided</th>\n",
       "      <th>pvalue_onesided</th>\n",
       "      <th>phenotype</th>\n",
       "    </tr>\n",
       "  </thead>\n",
       "  <tbody>\n",
       "    <tr>\n",
       "      <th>109</th>\n",
       "      <td>LV110</td>\n",
       "      <td>-0.020268</td>\n",
       "      <td>0.013580</td>\n",
       "      <td>-1.492441</td>\n",
       "      <td>0.135633</td>\n",
       "      <td>0.932184</td>\n",
       "      <td>random.pheno988</td>\n",
       "    </tr>\n",
       "    <tr>\n",
       "      <th>1096</th>\n",
       "      <td>LV110</td>\n",
       "      <td>-0.007170</td>\n",
       "      <td>0.013586</td>\n",
       "      <td>-0.527766</td>\n",
       "      <td>0.597680</td>\n",
       "      <td>0.701160</td>\n",
       "      <td>random.pheno589</td>\n",
       "    </tr>\n",
       "    <tr>\n",
       "      <th>2083</th>\n",
       "      <td>LV110</td>\n",
       "      <td>-0.022621</td>\n",
       "      <td>0.013576</td>\n",
       "      <td>-1.666213</td>\n",
       "      <td>0.095720</td>\n",
       "      <td>0.952140</td>\n",
       "      <td>random.pheno385</td>\n",
       "    </tr>\n",
       "    <tr>\n",
       "      <th>3070</th>\n",
       "      <td>LV110</td>\n",
       "      <td>-0.010294</td>\n",
       "      <td>0.013536</td>\n",
       "      <td>-0.760471</td>\n",
       "      <td>0.447001</td>\n",
       "      <td>0.776500</td>\n",
       "      <td>random.pheno5</td>\n",
       "    </tr>\n",
       "    <tr>\n",
       "      <th>4057</th>\n",
       "      <td>LV110</td>\n",
       "      <td>-0.001068</td>\n",
       "      <td>0.013578</td>\n",
       "      <td>-0.078670</td>\n",
       "      <td>0.937297</td>\n",
       "      <td>0.531351</td>\n",
       "      <td>random.pheno74</td>\n",
       "    </tr>\n",
       "  </tbody>\n",
       "</table>\n",
       "</div>"
      ],
      "text/plain": [
       "         lv      beta   beta_se         t  pvalue_twosided  pvalue_onesided  \\\n",
       "109   LV110 -0.020268  0.013580 -1.492441         0.135633         0.932184   \n",
       "1096  LV110 -0.007170  0.013586 -0.527766         0.597680         0.701160   \n",
       "2083  LV110 -0.022621  0.013576 -1.666213         0.095720         0.952140   \n",
       "3070  LV110 -0.010294  0.013536 -0.760471         0.447001         0.776500   \n",
       "4057  LV110 -0.001068  0.013578 -0.078670         0.937297         0.531351   \n",
       "\n",
       "            phenotype  \n",
       "109   random.pheno988  \n",
       "1096  random.pheno589  \n",
       "2083  random.pheno385  \n",
       "3070    random.pheno5  \n",
       "4057   random.pheno74  "
      ]
     },
     "execution_count": 62,
     "metadata": {},
     "output_type": "execute_result"
    }
   ],
   "source": [
    "results.head()"
   ]
  },
  {
   "cell_type": "code",
   "execution_count": 63,
   "id": "b1a551dc-9c49-447d-91c6-ae83b016a5df",
   "metadata": {},
   "outputs": [],
   "source": [
    "# save for future reference\n",
    "lv_results_high[lv_code] = results"
   ]
  },
  {
   "cell_type": "markdown",
   "id": "ac1bda3d-a3a3-4f9f-97c7-88a58eb58e54",
   "metadata": {},
   "source": [
    "### Mean type I errors at different thresholds"
   ]
  },
  {
   "cell_type": "code",
   "execution_count": 64,
   "id": "3085327e-2c7a-43ca-834e-f022bc952d52",
   "metadata": {},
   "outputs": [
    {
     "data": {
      "text/plain": [
       "0.009"
      ]
     },
     "execution_count": 64,
     "metadata": {},
     "output_type": "execute_result"
    }
   ],
   "source": [
    "show_prop(results, 0.01)"
   ]
  },
  {
   "cell_type": "code",
   "execution_count": 65,
   "id": "682f99d5-87c7-4ad0-9b52-c685beb8a224",
   "metadata": {},
   "outputs": [
    {
     "data": {
      "text/plain": [
       "0.037"
      ]
     },
     "execution_count": 65,
     "metadata": {},
     "output_type": "execute_result"
    }
   ],
   "source": [
    "show_prop(results, 0.05)"
   ]
  },
  {
   "cell_type": "code",
   "execution_count": 66,
   "id": "3ce64dbe-0b80-4b69-92f0-2798969034d6",
   "metadata": {},
   "outputs": [
    {
     "data": {
      "text/plain": [
       "0.072"
      ]
     },
     "execution_count": 66,
     "metadata": {},
     "output_type": "execute_result"
    }
   ],
   "source": [
    "show_prop(results, 0.10)"
   ]
  },
  {
   "cell_type": "code",
   "execution_count": 67,
   "id": "3d8500aa-af02-4f32-bc1e-c2507ba202eb",
   "metadata": {},
   "outputs": [
    {
     "data": {
      "text/plain": [
       "0.117"
      ]
     },
     "execution_count": 67,
     "metadata": {},
     "output_type": "execute_result"
    }
   ],
   "source": [
    "show_prop(results, 0.15)"
   ]
  },
  {
   "cell_type": "code",
   "execution_count": 68,
   "id": "3f22c2c6-ced5-4ea3-9945-921b4a11f2b6",
   "metadata": {},
   "outputs": [
    {
     "data": {
      "text/plain": [
       "0.154"
      ]
     },
     "execution_count": 68,
     "metadata": {},
     "output_type": "execute_result"
    }
   ],
   "source": [
    "show_prop(results, 0.20)"
   ]
  },
  {
   "cell_type": "markdown",
   "id": "a2c699de-c6e2-493f-a4f8-0e62321bbf09",
   "metadata": {},
   "source": [
    "### QQplot"
   ]
  },
  {
   "cell_type": "code",
   "execution_count": 69,
   "id": "d0efc9ff-b5c9-4d39-826e-e2859af4c3ed",
   "metadata": {},
   "outputs": [
    {
     "data": {
      "image/png": "[encoded data removed]",
      "text/plain": [
       "<Figure size 576x576 with 1 Axes>"
      ]
     },
     "metadata": {
      "needs_background": "light"
     },
     "output_type": "display_data"
    }
   ],
   "source": [
    "qqplot_unif(results)"
   ]
  },
  {
   "cell_type": "markdown",
   "id": "5a289581-af27-4359-b765-b76e5ba6b77d",
   "metadata": {},
   "source": [
    "## LV769"
   ]
  },
  {
   "cell_type": "code",
   "execution_count": 70,
   "id": "70f99ae2-c0da-4569-83c8-a270714eeb29",
   "metadata": {},
   "outputs": [],
   "source": [
    "lv_code = \"LV769\""
   ]
  },
  {
   "cell_type": "code",
   "execution_count": 71,
   "id": "f616891c-9664-4de8-8017-c5d52c75cf15",
   "metadata": {},
   "outputs": [],
   "source": [
    "results = dfs[dfs[\"lv\"] == lv_code]"
   ]
  },
  {
   "cell_type": "code",
   "execution_count": 72,
   "id": "f18dd59a-cf9f-4852-93da-50cf08f22014",
   "metadata": {},
   "outputs": [
    {
     "data": {
      "text/plain": [
       "(1000, 7)"
      ]
     },
     "execution_count": 72,
     "metadata": {},
     "output_type": "execute_result"
    }
   ],
   "source": [
    "results.shape"
   ]
  },
  {
   "cell_type": "code",
   "execution_count": 73,
   "id": "2d9cbf2c-b08c-4d46-91d6-cf012b5e4f59",
   "metadata": {},
   "outputs": [
    {
     "data": {
      "text/html": [
       "<div>\n",
       "<style scoped>\n",
       "    .dataframe tbody tr th:only-of-type {\n",
       "        vertical-align: middle;\n",
       "    }\n",
       "\n",
       "    .dataframe tbody tr th {\n",
       "        vertical-align: top;\n",
       "    }\n",
       "\n",
       "    .dataframe thead th {\n",
       "        text-align: right;\n",
       "    }\n",
       "</style>\n",
       "<table border=\"1\" class=\"dataframe\">\n",
       "  <thead>\n",
       "    <tr style=\"text-align: right;\">\n",
       "      <th></th>\n",
       "      <th>lv</th>\n",
       "      <th>beta</th>\n",
       "      <th>beta_se</th>\n",
       "      <th>t</th>\n",
       "      <th>pvalue_twosided</th>\n",
       "      <th>pvalue_onesided</th>\n",
       "      <th>phenotype</th>\n",
       "    </tr>\n",
       "  </thead>\n",
       "  <tbody>\n",
       "    <tr>\n",
       "      <th>768</th>\n",
       "      <td>LV769</td>\n",
       "      <td>0.014929</td>\n",
       "      <td>0.011848</td>\n",
       "      <td>1.260015</td>\n",
       "      <td>0.207710</td>\n",
       "      <td>0.103855</td>\n",
       "      <td>random.pheno988</td>\n",
       "    </tr>\n",
       "    <tr>\n",
       "      <th>1755</th>\n",
       "      <td>LV769</td>\n",
       "      <td>0.002298</td>\n",
       "      <td>0.011810</td>\n",
       "      <td>0.194590</td>\n",
       "      <td>0.845720</td>\n",
       "      <td>0.422860</td>\n",
       "      <td>random.pheno589</td>\n",
       "    </tr>\n",
       "    <tr>\n",
       "      <th>2742</th>\n",
       "      <td>LV769</td>\n",
       "      <td>0.002286</td>\n",
       "      <td>0.011828</td>\n",
       "      <td>0.193240</td>\n",
       "      <td>0.846777</td>\n",
       "      <td>0.423389</td>\n",
       "      <td>random.pheno385</td>\n",
       "    </tr>\n",
       "    <tr>\n",
       "      <th>3729</th>\n",
       "      <td>LV769</td>\n",
       "      <td>-0.015100</td>\n",
       "      <td>0.011823</td>\n",
       "      <td>-1.277094</td>\n",
       "      <td>0.201615</td>\n",
       "      <td>0.899192</td>\n",
       "      <td>random.pheno5</td>\n",
       "    </tr>\n",
       "    <tr>\n",
       "      <th>4716</th>\n",
       "      <td>LV769</td>\n",
       "      <td>-0.019912</td>\n",
       "      <td>0.011849</td>\n",
       "      <td>-1.680559</td>\n",
       "      <td>0.092897</td>\n",
       "      <td>0.953551</td>\n",
       "      <td>random.pheno74</td>\n",
       "    </tr>\n",
       "  </tbody>\n",
       "</table>\n",
       "</div>"
      ],
      "text/plain": [
       "         lv      beta   beta_se         t  pvalue_twosided  pvalue_onesided  \\\n",
       "768   LV769  0.014929  0.011848  1.260015         0.207710         0.103855   \n",
       "1755  LV769  0.002298  0.011810  0.194590         0.845720         0.422860   \n",
       "2742  LV769  0.002286  0.011828  0.193240         0.846777         0.423389   \n",
       "3729  LV769 -0.015100  0.011823 -1.277094         0.201615         0.899192   \n",
       "4716  LV769 -0.019912  0.011849 -1.680559         0.092897         0.953551   \n",
       "\n",
       "            phenotype  \n",
       "768   random.pheno988  \n",
       "1755  random.pheno589  \n",
       "2742  random.pheno385  \n",
       "3729    random.pheno5  \n",
       "4716   random.pheno74  "
      ]
     },
     "execution_count": 73,
     "metadata": {},
     "output_type": "execute_result"
    }
   ],
   "source": [
    "results.head()"
   ]
  },
  {
   "cell_type": "code",
   "execution_count": 74,
   "id": "d1d774ca-835b-4aa8-bb56-40f973d6d0e8",
   "metadata": {},
   "outputs": [],
   "source": [
    "# save for future reference\n",
    "lv_results_high[lv_code] = results"
   ]
  },
  {
   "cell_type": "markdown",
   "id": "c08f6aa2-d333-4997-bdbb-df45ec6461c3",
   "metadata": {},
   "source": [
    "### Mean type I errors at different thresholds"
   ]
  },
  {
   "cell_type": "code",
   "execution_count": 75,
   "id": "45170182-b3f8-41b8-8d4a-27e5357a1723",
   "metadata": {},
   "outputs": [
    {
     "data": {
      "text/plain": [
       "0.05"
      ]
     },
     "execution_count": 75,
     "metadata": {},
     "output_type": "execute_result"
    }
   ],
   "source": [
    "show_prop(results, 0.01)"
   ]
  },
  {
   "cell_type": "code",
   "execution_count": 76,
   "id": "15a320e5-76b4-462c-91f0-02b2d2a4c281",
   "metadata": {},
   "outputs": [
    {
     "data": {
      "text/plain": [
       "0.141"
      ]
     },
     "execution_count": 76,
     "metadata": {},
     "output_type": "execute_result"
    }
   ],
   "source": [
    "show_prop(results, 0.05)"
   ]
  },
  {
   "cell_type": "code",
   "execution_count": 77,
   "id": "8740d710-1e2d-447d-915d-1a2735a17021",
   "metadata": {},
   "outputs": [
    {
     "data": {
      "text/plain": [
       "0.224"
      ]
     },
     "execution_count": 77,
     "metadata": {},
     "output_type": "execute_result"
    }
   ],
   "source": [
    "show_prop(results, 0.10)"
   ]
  },
  {
   "cell_type": "code",
   "execution_count": 78,
   "id": "82681aa8-53c4-4c20-992d-4e29c78f9933",
   "metadata": {},
   "outputs": [
    {
     "data": {
      "text/plain": [
       "0.291"
      ]
     },
     "execution_count": 78,
     "metadata": {},
     "output_type": "execute_result"
    }
   ],
   "source": [
    "show_prop(results, 0.15)"
   ]
  },
  {
   "cell_type": "code",
   "execution_count": 79,
   "id": "730803db-f0bc-4044-ab4a-d73cc026f51b",
   "metadata": {},
   "outputs": [
    {
     "data": {
      "text/plain": [
       "0.345"
      ]
     },
     "execution_count": 79,
     "metadata": {},
     "output_type": "execute_result"
    }
   ],
   "source": [
    "show_prop(results, 0.20)"
   ]
  },
  {
   "cell_type": "markdown",
   "id": "e86c01b1-cda2-4905-aed1-9f5c659b0f9c",
   "metadata": {},
   "source": [
    "### QQplot"
   ]
  },
  {
   "cell_type": "code",
   "execution_count": 80,
   "id": "8bf2f7d7-b272-41cf-8805-f5c72c811aab",
   "metadata": {},
   "outputs": [
    {
     "data": {
      "image/png": "[encoded data removed]",
      "text/plain": [
       "<Figure size 576x576 with 1 Axes>"
      ]
     },
     "metadata": {
      "needs_background": "light"
     },
     "output_type": "display_data"
    }
   ],
   "source": [
    "qqplot_unif(results)"
   ]
  },
  {
   "cell_type": "markdown",
   "id": "10f0d0f7-e1dd-4c84-bcea-48055be0d97b",
   "metadata": {},
   "source": [
    "## LV800"
   ]
  },
  {
   "cell_type": "code",
   "execution_count": 81,
   "id": "be728e80-b79d-4523-ad08-45ad0842cc4a",
   "metadata": {},
   "outputs": [],
   "source": [
    "lv_code = \"LV800\""
   ]
  },
  {
   "cell_type": "code",
   "execution_count": 82,
   "id": "dcc1d33a-cac3-4f20-80b5-d688cc3eaedc",
   "metadata": {},
   "outputs": [],
   "source": [
    "results = dfs[dfs[\"lv\"] == lv_code]"
   ]
  },
  {
   "cell_type": "code",
   "execution_count": 83,
   "id": "13f76ec8-c46b-4f24-b71a-ee60604f45a0",
   "metadata": {},
   "outputs": [
    {
     "data": {
      "text/plain": [
       "(1000, 7)"
      ]
     },
     "execution_count": 83,
     "metadata": {},
     "output_type": "execute_result"
    }
   ],
   "source": [
    "results.shape"
   ]
  },
  {
   "cell_type": "code",
   "execution_count": 84,
   "id": "e36343f6-0cd8-4c7e-a2b0-fd0a92e14dcf",
   "metadata": {},
   "outputs": [
    {
     "data": {
      "text/html": [
       "<div>\n",
       "<style scoped>\n",
       "    .dataframe tbody tr th:only-of-type {\n",
       "        vertical-align: middle;\n",
       "    }\n",
       "\n",
       "    .dataframe tbody tr th {\n",
       "        vertical-align: top;\n",
       "    }\n",
       "\n",
       "    .dataframe thead th {\n",
       "        text-align: right;\n",
       "    }\n",
       "</style>\n",
       "<table border=\"1\" class=\"dataframe\">\n",
       "  <thead>\n",
       "    <tr style=\"text-align: right;\">\n",
       "      <th></th>\n",
       "      <th>lv</th>\n",
       "      <th>beta</th>\n",
       "      <th>beta_se</th>\n",
       "      <th>t</th>\n",
       "      <th>pvalue_twosided</th>\n",
       "      <th>pvalue_onesided</th>\n",
       "      <th>phenotype</th>\n",
       "    </tr>\n",
       "  </thead>\n",
       "  <tbody>\n",
       "    <tr>\n",
       "      <th>799</th>\n",
       "      <td>LV800</td>\n",
       "      <td>0.006409</td>\n",
       "      <td>0.014082</td>\n",
       "      <td>0.455097</td>\n",
       "      <td>0.649055</td>\n",
       "      <td>0.324528</td>\n",
       "      <td>random.pheno988</td>\n",
       "    </tr>\n",
       "    <tr>\n",
       "      <th>1786</th>\n",
       "      <td>LV800</td>\n",
       "      <td>-0.007284</td>\n",
       "      <td>0.014080</td>\n",
       "      <td>-0.517336</td>\n",
       "      <td>0.604940</td>\n",
       "      <td>0.697530</td>\n",
       "      <td>random.pheno589</td>\n",
       "    </tr>\n",
       "    <tr>\n",
       "      <th>2773</th>\n",
       "      <td>LV800</td>\n",
       "      <td>-0.002957</td>\n",
       "      <td>0.014103</td>\n",
       "      <td>-0.209655</td>\n",
       "      <td>0.833944</td>\n",
       "      <td>0.583028</td>\n",
       "      <td>random.pheno385</td>\n",
       "    </tr>\n",
       "    <tr>\n",
       "      <th>3760</th>\n",
       "      <td>LV800</td>\n",
       "      <td>-0.023526</td>\n",
       "      <td>0.014111</td>\n",
       "      <td>-1.667231</td>\n",
       "      <td>0.095517</td>\n",
       "      <td>0.952241</td>\n",
       "      <td>random.pheno5</td>\n",
       "    </tr>\n",
       "    <tr>\n",
       "      <th>4747</th>\n",
       "      <td>LV800</td>\n",
       "      <td>-0.012543</td>\n",
       "      <td>0.014052</td>\n",
       "      <td>-0.892615</td>\n",
       "      <td>0.372097</td>\n",
       "      <td>0.813952</td>\n",
       "      <td>random.pheno74</td>\n",
       "    </tr>\n",
       "  </tbody>\n",
       "</table>\n",
       "</div>"
      ],
      "text/plain": [
       "         lv      beta   beta_se         t  pvalue_twosided  pvalue_onesided  \\\n",
       "799   LV800  0.006409  0.014082  0.455097         0.649055         0.324528   \n",
       "1786  LV800 -0.007284  0.014080 -0.517336         0.604940         0.697530   \n",
       "2773  LV800 -0.002957  0.014103 -0.209655         0.833944         0.583028   \n",
       "3760  LV800 -0.023526  0.014111 -1.667231         0.095517         0.952241   \n",
       "4747  LV800 -0.012543  0.014052 -0.892615         0.372097         0.813952   \n",
       "\n",
       "            phenotype  \n",
       "799   random.pheno988  \n",
       "1786  random.pheno589  \n",
       "2773  random.pheno385  \n",
       "3760    random.pheno5  \n",
       "4747   random.pheno74  "
      ]
     },
     "execution_count": 84,
     "metadata": {},
     "output_type": "execute_result"
    }
   ],
   "source": [
    "results.head()"
   ]
  },
  {
   "cell_type": "code",
   "execution_count": 85,
   "id": "214464b4-ea2d-4eb5-96ed-6a3045e408a3",
   "metadata": {},
   "outputs": [],
   "source": [
    "# save for future reference\n",
    "lv_results_high[lv_code] = results"
   ]
  },
  {
   "cell_type": "markdown",
   "id": "d79a4524-b6fc-4ecc-8c1d-e3b7ec5cc896",
   "metadata": {},
   "source": [
    "### Mean type I errors at different thresholds"
   ]
  },
  {
   "cell_type": "code",
   "execution_count": 86,
   "id": "3b9ab0d0-3598-40ad-88f6-a8ac62663327",
   "metadata": {},
   "outputs": [
    {
     "data": {
      "text/plain": [
       "0.008"
      ]
     },
     "execution_count": 86,
     "metadata": {},
     "output_type": "execute_result"
    }
   ],
   "source": [
    "show_prop(results, 0.01)"
   ]
  },
  {
   "cell_type": "code",
   "execution_count": 87,
   "id": "279d7a22-def7-46f8-8e9f-dbcb5ab28ac5",
   "metadata": {},
   "outputs": [
    {
     "data": {
      "text/plain": [
       "0.045"
      ]
     },
     "execution_count": 87,
     "metadata": {},
     "output_type": "execute_result"
    }
   ],
   "source": [
    "show_prop(results, 0.05)"
   ]
  },
  {
   "cell_type": "code",
   "execution_count": 88,
   "id": "13dcb4db-64b3-464c-87de-2c586b5e7db1",
   "metadata": {},
   "outputs": [
    {
     "data": {
      "text/plain": [
       "0.083"
      ]
     },
     "execution_count": 88,
     "metadata": {},
     "output_type": "execute_result"
    }
   ],
   "source": [
    "show_prop(results, 0.10)"
   ]
  },
  {
   "cell_type": "code",
   "execution_count": 89,
   "id": "431c3f4c-31fe-421e-ada3-5977d130b637",
   "metadata": {},
   "outputs": [
    {
     "data": {
      "text/plain": [
       "0.131"
      ]
     },
     "execution_count": 89,
     "metadata": {},
     "output_type": "execute_result"
    }
   ],
   "source": [
    "show_prop(results, 0.15)"
   ]
  },
  {
   "cell_type": "code",
   "execution_count": 90,
   "id": "a3b9acbb-e075-45f0-9837-9ca4b593a912",
   "metadata": {},
   "outputs": [
    {
     "data": {
      "text/plain": [
       "0.182"
      ]
     },
     "execution_count": 90,
     "metadata": {},
     "output_type": "execute_result"
    }
   ],
   "source": [
    "show_prop(results, 0.20)"
   ]
  },
  {
   "cell_type": "markdown",
   "id": "979ddd80-06bc-44f0-9d72-8f5cae3228bc",
   "metadata": {},
   "source": [
    "### QQplot"
   ]
  },
  {
   "cell_type": "code",
   "execution_count": 91,
   "id": "2cd521a5-249c-4695-b694-a50df389fd21",
   "metadata": {},
   "outputs": [
    {
     "data": {
      "image/png": "[encoded data removed]",
      "text/plain": [
       "<Figure size 576x576 with 1 Axes>"
      ]
     },
     "metadata": {
      "needs_background": "light"
     },
     "output_type": "display_data"
    }
   ],
   "source": [
    "qqplot_unif(results)"
   ]
  },
  {
   "cell_type": "markdown",
   "id": "59a7fbe4-0dd7-4aa3-8853-8b52f6c488a2",
   "metadata": {},
   "source": [
    "# LVs with expected mean type I error"
   ]
  },
  {
   "cell_type": "code",
   "execution_count": 92,
   "id": "ce2afb72-b7e6-460c-a1d4-f85e65086626",
   "metadata": {},
   "outputs": [
    {
     "data": {
      "text/html": [
       "<div>\n",
       "<style scoped>\n",
       "    .dataframe tbody tr th:only-of-type {\n",
       "        vertical-align: middle;\n",
       "    }\n",
       "\n",
       "    .dataframe tbody tr th {\n",
       "        vertical-align: top;\n",
       "    }\n",
       "\n",
       "    .dataframe thead th {\n",
       "        text-align: right;\n",
       "    }\n",
       "</style>\n",
       "<table border=\"1\" class=\"dataframe\">\n",
       "  <thead>\n",
       "    <tr style=\"text-align: right;\">\n",
       "      <th></th>\n",
       "      <th>lv</th>\n",
       "      <th>1</th>\n",
       "      <th>5</th>\n",
       "      <th>10</th>\n",
       "    </tr>\n",
       "  </thead>\n",
       "  <tbody>\n",
       "    <tr>\n",
       "      <th>448</th>\n",
       "      <td>LV502</td>\n",
       "      <td>0.016</td>\n",
       "      <td>0.049</td>\n",
       "      <td>0.090</td>\n",
       "    </tr>\n",
       "    <tr>\n",
       "      <th>508</th>\n",
       "      <td>LV557</td>\n",
       "      <td>0.014</td>\n",
       "      <td>0.049</td>\n",
       "      <td>0.092</td>\n",
       "    </tr>\n",
       "    <tr>\n",
       "      <th>395</th>\n",
       "      <td>LV455</td>\n",
       "      <td>0.011</td>\n",
       "      <td>0.049</td>\n",
       "      <td>0.087</td>\n",
       "    </tr>\n",
       "    <tr>\n",
       "      <th>380</th>\n",
       "      <td>LV441</td>\n",
       "      <td>0.011</td>\n",
       "      <td>0.049</td>\n",
       "      <td>0.093</td>\n",
       "    </tr>\n",
       "    <tr>\n",
       "      <th>592</th>\n",
       "      <td>LV632</td>\n",
       "      <td>0.016</td>\n",
       "      <td>0.049</td>\n",
       "      <td>0.088</td>\n",
       "    </tr>\n",
       "    <tr>\n",
       "      <th>288</th>\n",
       "      <td>LV359</td>\n",
       "      <td>0.010</td>\n",
       "      <td>0.049</td>\n",
       "      <td>0.089</td>\n",
       "    </tr>\n",
       "    <tr>\n",
       "      <th>258</th>\n",
       "      <td>LV331</td>\n",
       "      <td>0.011</td>\n",
       "      <td>0.049</td>\n",
       "      <td>0.090</td>\n",
       "    </tr>\n",
       "    <tr>\n",
       "      <th>618</th>\n",
       "      <td>LV656</td>\n",
       "      <td>0.014</td>\n",
       "      <td>0.049</td>\n",
       "      <td>0.091</td>\n",
       "    </tr>\n",
       "    <tr>\n",
       "      <th>624</th>\n",
       "      <td>LV661</td>\n",
       "      <td>0.009</td>\n",
       "      <td>0.049</td>\n",
       "      <td>0.086</td>\n",
       "    </tr>\n",
       "    <tr>\n",
       "      <th>490</th>\n",
       "      <td>LV540</td>\n",
       "      <td>0.016</td>\n",
       "      <td>0.049</td>\n",
       "      <td>0.095</td>\n",
       "    </tr>\n",
       "    <tr>\n",
       "      <th>825</th>\n",
       "      <td>LV842</td>\n",
       "      <td>0.009</td>\n",
       "      <td>0.049</td>\n",
       "      <td>0.082</td>\n",
       "    </tr>\n",
       "    <tr>\n",
       "      <th>755</th>\n",
       "      <td>LV78</td>\n",
       "      <td>0.017</td>\n",
       "      <td>0.049</td>\n",
       "      <td>0.087</td>\n",
       "    </tr>\n",
       "    <tr>\n",
       "      <th>451</th>\n",
       "      <td>LV505</td>\n",
       "      <td>0.012</td>\n",
       "      <td>0.049</td>\n",
       "      <td>0.093</td>\n",
       "    </tr>\n",
       "    <tr>\n",
       "      <th>15</th>\n",
       "      <td>LV112</td>\n",
       "      <td>0.014</td>\n",
       "      <td>0.049</td>\n",
       "      <td>0.110</td>\n",
       "    </tr>\n",
       "    <tr>\n",
       "      <th>85</th>\n",
       "      <td>LV176</td>\n",
       "      <td>0.019</td>\n",
       "      <td>0.049</td>\n",
       "      <td>0.087</td>\n",
       "    </tr>\n",
       "    <tr>\n",
       "      <th>878</th>\n",
       "      <td>LV890</td>\n",
       "      <td>0.010</td>\n",
       "      <td>0.049</td>\n",
       "      <td>0.090</td>\n",
       "    </tr>\n",
       "    <tr>\n",
       "      <th>19</th>\n",
       "      <td>LV116</td>\n",
       "      <td>0.009</td>\n",
       "      <td>0.049</td>\n",
       "      <td>0.102</td>\n",
       "    </tr>\n",
       "    <tr>\n",
       "      <th>84</th>\n",
       "      <td>LV175</td>\n",
       "      <td>0.010</td>\n",
       "      <td>0.049</td>\n",
       "      <td>0.087</td>\n",
       "    </tr>\n",
       "    <tr>\n",
       "      <th>62</th>\n",
       "      <td>LV155</td>\n",
       "      <td>0.008</td>\n",
       "      <td>0.049</td>\n",
       "      <td>0.098</td>\n",
       "    </tr>\n",
       "    <tr>\n",
       "      <th>125</th>\n",
       "      <td>LV211</td>\n",
       "      <td>0.010</td>\n",
       "      <td>0.049</td>\n",
       "      <td>0.102</td>\n",
       "    </tr>\n",
       "  </tbody>\n",
       "</table>\n",
       "</div>"
      ],
      "text/plain": [
       "        lv      1      5     10\n",
       "448  LV502  0.016  0.049  0.090\n",
       "508  LV557  0.014  0.049  0.092\n",
       "395  LV455  0.011  0.049  0.087\n",
       "380  LV441  0.011  0.049  0.093\n",
       "592  LV632  0.016  0.049  0.088\n",
       "288  LV359  0.010  0.049  0.089\n",
       "258  LV331  0.011  0.049  0.090\n",
       "618  LV656  0.014  0.049  0.091\n",
       "624  LV661  0.009  0.049  0.086\n",
       "490  LV540  0.016  0.049  0.095\n",
       "825  LV842  0.009  0.049  0.082\n",
       "755   LV78  0.017  0.049  0.087\n",
       "451  LV505  0.012  0.049  0.093\n",
       "15   LV112  0.014  0.049  0.110\n",
       "85   LV176  0.019  0.049  0.087\n",
       "878  LV890  0.010  0.049  0.090\n",
       "19   LV116  0.009  0.049  0.102\n",
       "84   LV175  0.010  0.049  0.087\n",
       "62   LV155  0.008  0.049  0.098\n",
       "125  LV211  0.010  0.049  0.102"
      ]
     },
     "metadata": {},
     "output_type": "display_data"
    }
   ],
   "source": [
    "display(lvs_expected_error.sort_values(\"5\").head(20))"
   ]
  },
  {
   "cell_type": "code",
   "execution_count": 93,
   "id": "b34d471f-056a-4bfe-be28-163c32e814c4",
   "metadata": {},
   "outputs": [],
   "source": [
    "lv_results_expected = {}"
   ]
  },
  {
   "cell_type": "markdown",
   "id": "28814b98-a72e-453f-b029-7ac950123ee6",
   "metadata": {},
   "source": [
    "## LV412"
   ]
  },
  {
   "cell_type": "code",
   "execution_count": 94,
   "id": "933ff234-5531-4372-bae7-21dbf9a6a7be",
   "metadata": {},
   "outputs": [],
   "source": [
    "lv_code = \"LV412\""
   ]
  },
  {
   "cell_type": "code",
   "execution_count": 95,
   "id": "8ee3b993-d3c8-48a3-98e5-f8cc4ec44a21",
   "metadata": {},
   "outputs": [],
   "source": [
    "results = dfs[dfs[\"lv\"] == lv_code]"
   ]
  },
  {
   "cell_type": "code",
   "execution_count": 96,
   "id": "700dfa79-fd9e-46f7-8162-4e7ee5f37c07",
   "metadata": {},
   "outputs": [
    {
     "data": {
      "text/plain": [
       "(1000, 7)"
      ]
     },
     "execution_count": 96,
     "metadata": {},
     "output_type": "execute_result"
    }
   ],
   "source": [
    "results.shape"
   ]
  },
  {
   "cell_type": "code",
   "execution_count": 97,
   "id": "69dfb800-0a94-40de-bdba-f99580e6ac97",
   "metadata": {},
   "outputs": [
    {
     "data": {
      "text/html": [
       "<div>\n",
       "<style scoped>\n",
       "    .dataframe tbody tr th:only-of-type {\n",
       "        vertical-align: middle;\n",
       "    }\n",
       "\n",
       "    .dataframe tbody tr th {\n",
       "        vertical-align: top;\n",
       "    }\n",
       "\n",
       "    .dataframe thead th {\n",
       "        text-align: right;\n",
       "    }\n",
       "</style>\n",
       "<table border=\"1\" class=\"dataframe\">\n",
       "  <thead>\n",
       "    <tr style=\"text-align: right;\">\n",
       "      <th></th>\n",
       "      <th>lv</th>\n",
       "      <th>beta</th>\n",
       "      <th>beta_se</th>\n",
       "      <th>t</th>\n",
       "      <th>pvalue_twosided</th>\n",
       "      <th>pvalue_onesided</th>\n",
       "      <th>phenotype</th>\n",
       "    </tr>\n",
       "  </thead>\n",
       "  <tbody>\n",
       "    <tr>\n",
       "      <th>411</th>\n",
       "      <td>LV412</td>\n",
       "      <td>0.001502</td>\n",
       "      <td>0.010534</td>\n",
       "      <td>0.142597</td>\n",
       "      <td>0.886613</td>\n",
       "      <td>0.443307</td>\n",
       "      <td>random.pheno988</td>\n",
       "    </tr>\n",
       "    <tr>\n",
       "      <th>1398</th>\n",
       "      <td>LV412</td>\n",
       "      <td>-0.003045</td>\n",
       "      <td>0.010487</td>\n",
       "      <td>-0.290373</td>\n",
       "      <td>0.771540</td>\n",
       "      <td>0.614230</td>\n",
       "      <td>random.pheno589</td>\n",
       "    </tr>\n",
       "    <tr>\n",
       "      <th>2385</th>\n",
       "      <td>LV412</td>\n",
       "      <td>0.002735</td>\n",
       "      <td>0.010481</td>\n",
       "      <td>0.260949</td>\n",
       "      <td>0.794140</td>\n",
       "      <td>0.397070</td>\n",
       "      <td>random.pheno385</td>\n",
       "    </tr>\n",
       "    <tr>\n",
       "      <th>3372</th>\n",
       "      <td>LV412</td>\n",
       "      <td>-0.004583</td>\n",
       "      <td>0.010542</td>\n",
       "      <td>-0.434728</td>\n",
       "      <td>0.663775</td>\n",
       "      <td>0.668113</td>\n",
       "      <td>random.pheno5</td>\n",
       "    </tr>\n",
       "    <tr>\n",
       "      <th>4359</th>\n",
       "      <td>LV412</td>\n",
       "      <td>0.016146</td>\n",
       "      <td>0.010488</td>\n",
       "      <td>1.539501</td>\n",
       "      <td>0.123731</td>\n",
       "      <td>0.061866</td>\n",
       "      <td>random.pheno74</td>\n",
       "    </tr>\n",
       "  </tbody>\n",
       "</table>\n",
       "</div>"
      ],
      "text/plain": [
       "         lv      beta   beta_se         t  pvalue_twosided  pvalue_onesided  \\\n",
       "411   LV412  0.001502  0.010534  0.142597         0.886613         0.443307   \n",
       "1398  LV412 -0.003045  0.010487 -0.290373         0.771540         0.614230   \n",
       "2385  LV412  0.002735  0.010481  0.260949         0.794140         0.397070   \n",
       "3372  LV412 -0.004583  0.010542 -0.434728         0.663775         0.668113   \n",
       "4359  LV412  0.016146  0.010488  1.539501         0.123731         0.061866   \n",
       "\n",
       "            phenotype  \n",
       "411   random.pheno988  \n",
       "1398  random.pheno589  \n",
       "2385  random.pheno385  \n",
       "3372    random.pheno5  \n",
       "4359   random.pheno74  "
      ]
     },
     "execution_count": 97,
     "metadata": {},
     "output_type": "execute_result"
    }
   ],
   "source": [
    "results.head()"
   ]
  },
  {
   "cell_type": "code",
   "execution_count": 98,
   "id": "ab20292d-5b55-450a-b7a0-a2fafac33f4e",
   "metadata": {},
   "outputs": [],
   "source": [
    "# save for future reference\n",
    "lv_results_expected[lv_code] = results"
   ]
  },
  {
   "cell_type": "markdown",
   "id": "c76d79cb-07f1-4b79-a912-4efe4059fed6",
   "metadata": {},
   "source": [
    "### Mean type I errors at different thresholds"
   ]
  },
  {
   "cell_type": "code",
   "execution_count": 99,
   "id": "225ea884-d878-436c-93cc-256c0d5ae901",
   "metadata": {},
   "outputs": [
    {
     "data": {
      "text/plain": [
       "0.01"
      ]
     },
     "execution_count": 99,
     "metadata": {},
     "output_type": "execute_result"
    }
   ],
   "source": [
    "show_prop(results, 0.01)"
   ]
  },
  {
   "cell_type": "code",
   "execution_count": 100,
   "id": "92d1c844-84f9-4015-ab48-73d2f6a767c5",
   "metadata": {},
   "outputs": [
    {
     "data": {
      "text/plain": [
       "0.05"
      ]
     },
     "execution_count": 100,
     "metadata": {},
     "output_type": "execute_result"
    }
   ],
   "source": [
    "show_prop(results, 0.05)"
   ]
  },
  {
   "cell_type": "code",
   "execution_count": 101,
   "id": "3151eee1-eb97-4369-8ae4-a10b250de970",
   "metadata": {},
   "outputs": [
    {
     "data": {
      "text/plain": [
       "0.096"
      ]
     },
     "execution_count": 101,
     "metadata": {},
     "output_type": "execute_result"
    }
   ],
   "source": [
    "show_prop(results, 0.10)"
   ]
  },
  {
   "cell_type": "code",
   "execution_count": 102,
   "id": "722f7d9f-9788-4589-814b-bd5c6dcf82bf",
   "metadata": {},
   "outputs": [
    {
     "data": {
      "text/plain": [
       "0.144"
      ]
     },
     "execution_count": 102,
     "metadata": {},
     "output_type": "execute_result"
    }
   ],
   "source": [
    "show_prop(results, 0.15)"
   ]
  },
  {
   "cell_type": "code",
   "execution_count": 103,
   "id": "e69b93c6-d246-4228-97a1-3c5783eb8d3d",
   "metadata": {},
   "outputs": [
    {
     "data": {
      "text/plain": [
       "0.18"
      ]
     },
     "execution_count": 103,
     "metadata": {},
     "output_type": "execute_result"
    }
   ],
   "source": [
    "show_prop(results, 0.20)"
   ]
  },
  {
   "cell_type": "markdown",
   "id": "e3bb9c47-46b1-4626-88c2-0442fdfa2a6a",
   "metadata": {},
   "source": [
    "### QQplot"
   ]
  },
  {
   "cell_type": "code",
   "execution_count": 104,
   "id": "6c197eac-8928-45b7-8210-064bc1635399",
   "metadata": {},
   "outputs": [
    {
     "data": {
      "image/png": "[encoded data removed]",
      "text/plain": [
       "<Figure size 576x576 with 1 Axes>"
      ]
     },
     "metadata": {
      "needs_background": "light"
     },
     "output_type": "display_data"
    }
   ],
   "source": [
    "qqplot_unif(results)"
   ]
  },
  {
   "cell_type": "markdown",
   "id": "4ccc8640-ea0d-4368-bf76-b919e5d33409",
   "metadata": {},
   "source": [
    "## LV57"
   ]
  },
  {
   "cell_type": "code",
   "execution_count": 105,
   "id": "8a6316a3-dcde-4dcd-a09c-6f38cd47f7e8",
   "metadata": {},
   "outputs": [],
   "source": [
    "lv_code = \"LV57\""
   ]
  },
  {
   "cell_type": "code",
   "execution_count": 106,
   "id": "7ddac650-36ac-4f2f-8a27-95e6c1461647",
   "metadata": {},
   "outputs": [],
   "source": [
    "results = dfs[dfs[\"lv\"] == lv_code]"
   ]
  },
  {
   "cell_type": "code",
   "execution_count": 107,
   "id": "695743ec-cb80-4b3e-9a0d-4d4d594e7ed2",
   "metadata": {},
   "outputs": [
    {
     "data": {
      "text/plain": [
       "(1000, 7)"
      ]
     },
     "execution_count": 107,
     "metadata": {},
     "output_type": "execute_result"
    }
   ],
   "source": [
    "results.shape"
   ]
  },
  {
   "cell_type": "code",
   "execution_count": 108,
   "id": "1622bce0-94e7-45bf-8109-b7f6c9c12e42",
   "metadata": {},
   "outputs": [
    {
     "data": {
      "text/html": [
       "<div>\n",
       "<style scoped>\n",
       "    .dataframe tbody tr th:only-of-type {\n",
       "        vertical-align: middle;\n",
       "    }\n",
       "\n",
       "    .dataframe tbody tr th {\n",
       "        vertical-align: top;\n",
       "    }\n",
       "\n",
       "    .dataframe thead th {\n",
       "        text-align: right;\n",
       "    }\n",
       "</style>\n",
       "<table border=\"1\" class=\"dataframe\">\n",
       "  <thead>\n",
       "    <tr style=\"text-align: right;\">\n",
       "      <th></th>\n",
       "      <th>lv</th>\n",
       "      <th>beta</th>\n",
       "      <th>beta_se</th>\n",
       "      <th>t</th>\n",
       "      <th>pvalue_twosided</th>\n",
       "      <th>pvalue_onesided</th>\n",
       "      <th>phenotype</th>\n",
       "    </tr>\n",
       "  </thead>\n",
       "  <tbody>\n",
       "    <tr>\n",
       "      <th>56</th>\n",
       "      <td>LV57</td>\n",
       "      <td>-0.019080</td>\n",
       "      <td>0.012377</td>\n",
       "      <td>-1.541544</td>\n",
       "      <td>0.123234</td>\n",
       "      <td>0.938383</td>\n",
       "      <td>random.pheno988</td>\n",
       "    </tr>\n",
       "    <tr>\n",
       "      <th>1043</th>\n",
       "      <td>LV57</td>\n",
       "      <td>0.017291</td>\n",
       "      <td>0.012380</td>\n",
       "      <td>1.396660</td>\n",
       "      <td>0.162564</td>\n",
       "      <td>0.081282</td>\n",
       "      <td>random.pheno589</td>\n",
       "    </tr>\n",
       "    <tr>\n",
       "      <th>2030</th>\n",
       "      <td>LV57</td>\n",
       "      <td>0.019107</td>\n",
       "      <td>0.012385</td>\n",
       "      <td>1.542655</td>\n",
       "      <td>0.122964</td>\n",
       "      <td>0.061482</td>\n",
       "      <td>random.pheno385</td>\n",
       "    </tr>\n",
       "    <tr>\n",
       "      <th>3017</th>\n",
       "      <td>LV57</td>\n",
       "      <td>0.001282</td>\n",
       "      <td>0.012370</td>\n",
       "      <td>0.103617</td>\n",
       "      <td>0.917477</td>\n",
       "      <td>0.458738</td>\n",
       "      <td>random.pheno5</td>\n",
       "    </tr>\n",
       "    <tr>\n",
       "      <th>4004</th>\n",
       "      <td>LV57</td>\n",
       "      <td>0.013517</td>\n",
       "      <td>0.012346</td>\n",
       "      <td>1.094831</td>\n",
       "      <td>0.273632</td>\n",
       "      <td>0.136816</td>\n",
       "      <td>random.pheno74</td>\n",
       "    </tr>\n",
       "  </tbody>\n",
       "</table>\n",
       "</div>"
      ],
      "text/plain": [
       "        lv      beta   beta_se         t  pvalue_twosided  pvalue_onesided  \\\n",
       "56    LV57 -0.019080  0.012377 -1.541544         0.123234         0.938383   \n",
       "1043  LV57  0.017291  0.012380  1.396660         0.162564         0.081282   \n",
       "2030  LV57  0.019107  0.012385  1.542655         0.122964         0.061482   \n",
       "3017  LV57  0.001282  0.012370  0.103617         0.917477         0.458738   \n",
       "4004  LV57  0.013517  0.012346  1.094831         0.273632         0.136816   \n",
       "\n",
       "            phenotype  \n",
       "56    random.pheno988  \n",
       "1043  random.pheno589  \n",
       "2030  random.pheno385  \n",
       "3017    random.pheno5  \n",
       "4004   random.pheno74  "
      ]
     },
     "execution_count": 108,
     "metadata": {},
     "output_type": "execute_result"
    }
   ],
   "source": [
    "results.head()"
   ]
  },
  {
   "cell_type": "code",
   "execution_count": 109,
   "id": "ddd4fb30-acec-4d04-ba2f-b7d57b56930e",
   "metadata": {},
   "outputs": [],
   "source": [
    "# save for future reference\n",
    "lv_results_expected[lv_code] = results"
   ]
  },
  {
   "cell_type": "markdown",
   "id": "c63fc61a-a088-4bb8-bf67-f2444c4b33e7",
   "metadata": {},
   "source": [
    "### Mean type I errors at different thresholds"
   ]
  },
  {
   "cell_type": "code",
   "execution_count": 110,
   "id": "112ad1e9-96bc-4ceb-a3c3-fc54101cf80f",
   "metadata": {},
   "outputs": [
    {
     "data": {
      "text/plain": [
       "0.009"
      ]
     },
     "execution_count": 110,
     "metadata": {},
     "output_type": "execute_result"
    }
   ],
   "source": [
    "show_prop(results, 0.01)"
   ]
  },
  {
   "cell_type": "code",
   "execution_count": 111,
   "id": "0b6975ec-97a5-4c81-91a4-ceacc4b7bc45",
   "metadata": {},
   "outputs": [
    {
     "data": {
      "text/plain": [
       "0.057"
      ]
     },
     "execution_count": 111,
     "metadata": {},
     "output_type": "execute_result"
    }
   ],
   "source": [
    "show_prop(results, 0.05)"
   ]
  },
  {
   "cell_type": "code",
   "execution_count": 112,
   "id": "30120730-d4d0-454a-97b6-88b7b34e4886",
   "metadata": {},
   "outputs": [
    {
     "data": {
      "text/plain": [
       "0.108"
      ]
     },
     "execution_count": 112,
     "metadata": {},
     "output_type": "execute_result"
    }
   ],
   "source": [
    "show_prop(results, 0.10)"
   ]
  },
  {
   "cell_type": "code",
   "execution_count": 113,
   "id": "9a143836-aeef-4ab5-ba45-fdb5d0bb8116",
   "metadata": {},
   "outputs": [
    {
     "data": {
      "text/plain": [
       "0.144"
      ]
     },
     "execution_count": 113,
     "metadata": {},
     "output_type": "execute_result"
    }
   ],
   "source": [
    "show_prop(results, 0.15)"
   ]
  },
  {
   "cell_type": "code",
   "execution_count": 114,
   "id": "362a1961-1636-4a0e-ab4b-b6f7a84c9eeb",
   "metadata": {},
   "outputs": [
    {
     "data": {
      "text/plain": [
       "0.184"
      ]
     },
     "execution_count": 114,
     "metadata": {},
     "output_type": "execute_result"
    }
   ],
   "source": [
    "show_prop(results, 0.20)"
   ]
  },
  {
   "cell_type": "markdown",
   "id": "073932a2-2306-4c44-8d1c-2ab137014c2d",
   "metadata": {},
   "source": [
    "### QQplot"
   ]
  },
  {
   "cell_type": "code",
   "execution_count": 115,
   "id": "215b7c53-5e73-4a3a-8311-515cdbebbe6c",
   "metadata": {},
   "outputs": [
    {
     "data": {
      "image/png": "[encoded data removed]",
      "text/plain": [
       "<Figure size 576x576 with 1 Axes>"
      ]
     },
     "metadata": {
      "needs_background": "light"
     },
     "output_type": "display_data"
    }
   ],
   "source": [
    "qqplot_unif(results)"
   ]
  },
  {
   "cell_type": "markdown",
   "id": "e126e662-bcca-4b49-8d73-cddd4acf8157",
   "metadata": {},
   "source": [
    "## LV647"
   ]
  },
  {
   "cell_type": "code",
   "execution_count": 116,
   "id": "f1213f21-ce00-42e4-b77c-05f33ba3f079",
   "metadata": {},
   "outputs": [],
   "source": [
    "lv_code = \"LV647\""
   ]
  },
  {
   "cell_type": "code",
   "execution_count": 117,
   "id": "dc5c6871-76d3-48dd-8f11-e892101a4c62",
   "metadata": {},
   "outputs": [],
   "source": [
    "results = dfs[dfs[\"lv\"] == lv_code]"
   ]
  },
  {
   "cell_type": "code",
   "execution_count": 118,
   "id": "317fea64-1720-4be8-93c3-205a18b584b8",
   "metadata": {},
   "outputs": [
    {
     "data": {
      "text/plain": [
       "(1000, 7)"
      ]
     },
     "execution_count": 118,
     "metadata": {},
     "output_type": "execute_result"
    }
   ],
   "source": [
    "results.shape"
   ]
  },
  {
   "cell_type": "code",
   "execution_count": 119,
   "id": "c3dcb91b-cadf-407b-ac57-8c5aa9d333e5",
   "metadata": {},
   "outputs": [
    {
     "data": {
      "text/html": [
       "<div>\n",
       "<style scoped>\n",
       "    .dataframe tbody tr th:only-of-type {\n",
       "        vertical-align: middle;\n",
       "    }\n",
       "\n",
       "    .dataframe tbody tr th {\n",
       "        vertical-align: top;\n",
       "    }\n",
       "\n",
       "    .dataframe thead th {\n",
       "        text-align: right;\n",
       "    }\n",
       "</style>\n",
       "<table border=\"1\" class=\"dataframe\">\n",
       "  <thead>\n",
       "    <tr style=\"text-align: right;\">\n",
       "      <th></th>\n",
       "      <th>lv</th>\n",
       "      <th>beta</th>\n",
       "      <th>beta_se</th>\n",
       "      <th>t</th>\n",
       "      <th>pvalue_twosided</th>\n",
       "      <th>pvalue_onesided</th>\n",
       "      <th>phenotype</th>\n",
       "    </tr>\n",
       "  </thead>\n",
       "  <tbody>\n",
       "    <tr>\n",
       "      <th>646</th>\n",
       "      <td>LV647</td>\n",
       "      <td>-0.007078</td>\n",
       "      <td>0.011494</td>\n",
       "      <td>-0.615801</td>\n",
       "      <td>0.538048</td>\n",
       "      <td>0.730976</td>\n",
       "      <td>random.pheno988</td>\n",
       "    </tr>\n",
       "    <tr>\n",
       "      <th>1633</th>\n",
       "      <td>LV647</td>\n",
       "      <td>0.013619</td>\n",
       "      <td>0.011493</td>\n",
       "      <td>1.184973</td>\n",
       "      <td>0.236072</td>\n",
       "      <td>0.118036</td>\n",
       "      <td>random.pheno589</td>\n",
       "    </tr>\n",
       "    <tr>\n",
       "      <th>2620</th>\n",
       "      <td>LV647</td>\n",
       "      <td>0.011118</td>\n",
       "      <td>0.011493</td>\n",
       "      <td>0.967351</td>\n",
       "      <td>0.333405</td>\n",
       "      <td>0.166702</td>\n",
       "      <td>random.pheno385</td>\n",
       "    </tr>\n",
       "    <tr>\n",
       "      <th>3607</th>\n",
       "      <td>LV647</td>\n",
       "      <td>0.001786</td>\n",
       "      <td>0.011493</td>\n",
       "      <td>0.155415</td>\n",
       "      <td>0.876499</td>\n",
       "      <td>0.438250</td>\n",
       "      <td>random.pheno5</td>\n",
       "    </tr>\n",
       "    <tr>\n",
       "      <th>4594</th>\n",
       "      <td>LV647</td>\n",
       "      <td>0.013637</td>\n",
       "      <td>0.011465</td>\n",
       "      <td>1.189398</td>\n",
       "      <td>0.234327</td>\n",
       "      <td>0.117164</td>\n",
       "      <td>random.pheno74</td>\n",
       "    </tr>\n",
       "  </tbody>\n",
       "</table>\n",
       "</div>"
      ],
      "text/plain": [
       "         lv      beta   beta_se         t  pvalue_twosided  pvalue_onesided  \\\n",
       "646   LV647 -0.007078  0.011494 -0.615801         0.538048         0.730976   \n",
       "1633  LV647  0.013619  0.011493  1.184973         0.236072         0.118036   \n",
       "2620  LV647  0.011118  0.011493  0.967351         0.333405         0.166702   \n",
       "3607  LV647  0.001786  0.011493  0.155415         0.876499         0.438250   \n",
       "4594  LV647  0.013637  0.011465  1.189398         0.234327         0.117164   \n",
       "\n",
       "            phenotype  \n",
       "646   random.pheno988  \n",
       "1633  random.pheno589  \n",
       "2620  random.pheno385  \n",
       "3607    random.pheno5  \n",
       "4594   random.pheno74  "
      ]
     },
     "execution_count": 119,
     "metadata": {},
     "output_type": "execute_result"
    }
   ],
   "source": [
    "results.head()"
   ]
  },
  {
   "cell_type": "code",
   "execution_count": 120,
   "id": "ed8719f7-31a5-4721-9e65-cfa8085d4c58",
   "metadata": {},
   "outputs": [],
   "source": [
    "# save for future reference\n",
    "lv_results_expected[lv_code] = results"
   ]
  },
  {
   "cell_type": "markdown",
   "id": "8d8d4df8-5efb-4205-bb82-91b4a71d0862",
   "metadata": {},
   "source": [
    "### Mean type I errors at different thresholds"
   ]
  },
  {
   "cell_type": "code",
   "execution_count": 121,
   "id": "e8ae4a1c-9b09-4a82-b249-d751c029b59f",
   "metadata": {},
   "outputs": [
    {
     "data": {
      "text/plain": [
       "0.023"
      ]
     },
     "execution_count": 121,
     "metadata": {},
     "output_type": "execute_result"
    }
   ],
   "source": [
    "show_prop(results, 0.01)"
   ]
  },
  {
   "cell_type": "code",
   "execution_count": 122,
   "id": "74c2191b-d80b-459e-8fb0-92e0171f5dce",
   "metadata": {},
   "outputs": [
    {
     "data": {
      "text/plain": [
       "0.066"
      ]
     },
     "execution_count": 122,
     "metadata": {},
     "output_type": "execute_result"
    }
   ],
   "source": [
    "show_prop(results, 0.05)"
   ]
  },
  {
   "cell_type": "code",
   "execution_count": 123,
   "id": "78ed20a7-a63b-40c4-b36f-4f19b9e13bfe",
   "metadata": {},
   "outputs": [
    {
     "data": {
      "text/plain": [
       "0.116"
      ]
     },
     "execution_count": 123,
     "metadata": {},
     "output_type": "execute_result"
    }
   ],
   "source": [
    "show_prop(results, 0.10)"
   ]
  },
  {
   "cell_type": "code",
   "execution_count": 124,
   "id": "27b3a253-f5c9-497c-b220-7264a45476e7",
   "metadata": {},
   "outputs": [
    {
     "data": {
      "text/plain": [
       "0.162"
      ]
     },
     "execution_count": 124,
     "metadata": {},
     "output_type": "execute_result"
    }
   ],
   "source": [
    "show_prop(results, 0.15)"
   ]
  },
  {
   "cell_type": "code",
   "execution_count": 125,
   "id": "90505538-770a-48ae-abbc-1cd1ef757c56",
   "metadata": {},
   "outputs": [
    {
     "data": {
      "text/plain": [
       "0.202"
      ]
     },
     "execution_count": 125,
     "metadata": {},
     "output_type": "execute_result"
    }
   ],
   "source": [
    "show_prop(results, 0.20)"
   ]
  },
  {
   "cell_type": "markdown",
   "id": "e87ac89e-9505-402b-bd8d-b603fa6b7499",
   "metadata": {},
   "source": [
    "### QQplot"
   ]
  },
  {
   "cell_type": "code",
   "execution_count": 126,
   "id": "016773f0-7bda-4f42-b342-9daebe7b39c3",
   "metadata": {},
   "outputs": [
    {
     "data": {
      "image/png": "[encoded data removed]",
      "text/plain": [
       "<Figure size 576x576 with 1 Axes>"
      ]
     },
     "metadata": {
      "needs_background": "light"
     },
     "output_type": "display_data"
    }
   ],
   "source": [
    "qqplot_unif(results)"
   ]
  },
  {
   "cell_type": "code",
   "execution_count": null,
   "id": "0e32637a-d3fb-4833-93d3-7d680ee8bdbe",
   "metadata": {},
   "outputs": [],
   "source": []
  }
 ],
 "metadata": {
  "jupytext": {
   "cell_metadata_filter": "all,-execution,-papermill,-trusted",
   "formats": "ipynb,py//py:percent"
  },
  "kernelspec": {
   "display_name": "Python 3 (ipykernel)",
   "language": "python",
   "name": "python3"
  },
  "language_info": {
   "codemirror_mode": {
    "name": "ipython",
    "version": 3
   },
   "file_extension": ".py",
   "mimetype": "text/x-python",
   "name": "python",
   "nbconvert_exporter": "python",
   "pygments_lexer": "ipython3",
   "version": "3.8.13"
  },
  "papermill": {
   "default_parameters": {},
   "duration": 2.899223,
   "end_time": "2022-02-24T05:32:05.472242",
   "environment_variables": {},
   "exception": null,
   "input_path": "nbs/15_gsa_gls/26-gls-null_simulations-plots.ipynb",
   "output_path": "nbs/15_gsa_gls/26-gls-null_simulations-plots.run.ipynb",
   "parameters": {},
   "start_time": "2022-02-24T05:32:02.573019",
   "version": "2.2.2"
  },
  "toc-autonumbering": true
 },
 "nbformat": 4,
 "nbformat_minor": 5
}
