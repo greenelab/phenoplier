{
 "cells": [
  {
   "cell_type": "markdown",
   "id": "b7acf0c2",
   "metadata": {
    "papermill": {
     "duration": 0.038207,
     "end_time": "2022-02-24T05:32:03.755452",
     "exception": false,
     "start_time": "2022-02-24T05:32:03.717245",
     "status": "completed"
    },
    "tags": []
   },
   "source": [
    "# Description"
   ]
  },
  {
   "cell_type": "markdown",
   "id": "2653adfb",
   "metadata": {
    "papermill": {
     "duration": 0.009944,
     "end_time": "2022-02-24T05:32:03.780673",
     "exception": false,
     "start_time": "2022-02-24T05:32:03.770729",
     "status": "completed"
    },
    "tags": []
   },
   "source": [
    "Here I do the same as the previous notebook, but with the GLS model proposed in PhenoPLIER using the full correlation matrix (instead of the one with genes within a distnace of 5mb only)."
   ]
  },
  {
   "cell_type": "markdown",
   "id": "fb645f46",
   "metadata": {
    "papermill": {
     "duration": 0.008401,
     "end_time": "2022-02-24T05:32:03.797668",
     "exception": false,
     "start_time": "2022-02-24T05:32:03.789267",
     "status": "completed"
    },
    "tags": []
   },
   "source": [
    "# Modules"
   ]
  },
  {
   "cell_type": "code",
   "execution_count": 1,
   "id": "7ce51c68",
   "metadata": {
    "papermill": {
     "duration": 0.861241,
     "end_time": "2022-02-24T05:32:04.667481",
     "exception": false,
     "start_time": "2022-02-24T05:32:03.806240",
     "status": "completed"
    },
    "tags": []
   },
   "outputs": [],
   "source": [
    "from pathlib import Path\n",
    "\n",
    "import numpy as np\n",
    "import pandas as pd\n",
    "from scipy import stats\n",
    "from statsmodels.graphics.gofplots import qqplot_2samples\n",
    "import matplotlib.pyplot as plt\n",
    "import matplotlib as mpl\n",
    "import seaborn as sns\n",
    "\n",
    "import conf\n",
    "from data.recount2 import LVAnalysis"
   ]
  },
  {
   "cell_type": "markdown",
   "id": "654985a3",
   "metadata": {
    "papermill": {
     "duration": 0.008701,
     "end_time": "2022-02-24T05:32:04.685435",
     "exception": false,
     "start_time": "2022-02-24T05:32:04.676734",
     "status": "completed"
    },
    "tags": []
   },
   "source": [
    "# Settings"
   ]
  },
  {
   "cell_type": "code",
   "execution_count": 2,
   "id": "d4e1bf58-d0ac-455a-97d8-1d892b4a38d6",
   "metadata": {},
   "outputs": [],
   "source": [
    "N_PHENOTYPES = 1000\n",
    "N_LVS = 987"
   ]
  },
  {
   "cell_type": "code",
   "execution_count": 3,
   "id": "9ba4e01c",
   "metadata": {
    "papermill": {
     "duration": 0.016348,
     "end_time": "2022-02-24T05:32:04.710602",
     "exception": false,
     "start_time": "2022-02-24T05:32:04.694254",
     "status": "completed"
    },
    "tags": []
   },
   "outputs": [
    {
     "data": {
      "text/plain": [
       "PosixPath('/opt/data/results/gls/null_sims/phenoplier/1000g_eur/covars/_corrs_all/gls-gtex_v8_mashr-sub_corr')"
      ]
     },
     "metadata": {},
     "output_type": "display_data"
    }
   ],
   "source": [
    "INPUT_DIR = (\n",
    "    conf.RESULTS[\"GLS_NULL_SIMS\"]\n",
    "    / \"phenoplier\"\n",
    "    / \"1000g_eur\"\n",
    "    / \"covars\"\n",
    "    / \"_corrs_all\"\n",
    "    / \"gls-gtex_v8_mashr-sub_corr\"\n",
    ")\n",
    "display(INPUT_DIR)\n",
    "assert INPUT_DIR.exists()"
   ]
  },
  {
   "cell_type": "code",
   "execution_count": 4,
   "id": "3f0ceee7-2e59-493d-845c-35d131159f4b",
   "metadata": {},
   "outputs": [],
   "source": [
    "PVALUE_COLUMN = \"pvalue_onesided\""
   ]
  },
  {
   "cell_type": "markdown",
   "id": "029018ec-ed00-41fb-83b3-f0ae3e57a000",
   "metadata": {},
   "source": [
    "# Load MultiXcan genes present in results"
   ]
  },
  {
   "cell_type": "code",
   "execution_count": 5,
   "id": "35a6ced5-0526-469f-93e5-15952f1201e2",
   "metadata": {},
   "outputs": [],
   "source": [
    "_tmp = pd.read_csv(\n",
    "    conf.RESULTS[\"GLS_NULL_SIMS\"]\n",
    "    / \"twas\"\n",
    "    / \"smultixcan\"\n",
    "    / \"random.pheno0-gtex_v8-mashr-smultixcan.txt\",\n",
    "    sep=\"\\t\",\n",
    ")"
   ]
  },
  {
   "cell_type": "code",
   "execution_count": 6,
   "id": "14dd7cef-0d54-4410-9f94-ff0a808b5dda",
   "metadata": {},
   "outputs": [
    {
     "data": {
      "text/plain": [
       "(22317, 18)"
      ]
     },
     "execution_count": 6,
     "metadata": {},
     "output_type": "execute_result"
    }
   ],
   "source": [
    "_tmp.shape"
   ]
  },
  {
   "cell_type": "code",
   "execution_count": 7,
   "id": "e0c79c4b-459b-4ace-8284-14cd3ccbb130",
   "metadata": {},
   "outputs": [
    {
     "data": {
      "text/html": [
       "<div>\n",
       "<style scoped>\n",
       "    .dataframe tbody tr th:only-of-type {\n",
       "        vertical-align: middle;\n",
       "    }\n",
       "\n",
       "    .dataframe tbody tr th {\n",
       "        vertical-align: top;\n",
       "    }\n",
       "\n",
       "    .dataframe thead th {\n",
       "        text-align: right;\n",
       "    }\n",
       "</style>\n",
       "<table border=\"1\" class=\"dataframe\">\n",
       "  <thead>\n",
       "    <tr style=\"text-align: right;\">\n",
       "      <th></th>\n",
       "      <th>gene</th>\n",
       "      <th>gene_name</th>\n",
       "      <th>pvalue</th>\n",
       "      <th>n</th>\n",
       "      <th>n_indep</th>\n",
       "      <th>p_i_best</th>\n",
       "      <th>t_i_best</th>\n",
       "      <th>p_i_worst</th>\n",
       "      <th>t_i_worst</th>\n",
       "      <th>eigen_max</th>\n",
       "      <th>eigen_min</th>\n",
       "      <th>eigen_min_kept</th>\n",
       "      <th>z_min</th>\n",
       "      <th>z_max</th>\n",
       "      <th>z_mean</th>\n",
       "      <th>z_sd</th>\n",
       "      <th>tmi</th>\n",
       "      <th>status</th>\n",
       "    </tr>\n",
       "  </thead>\n",
       "  <tbody>\n",
       "    <tr>\n",
       "      <th>0</th>\n",
       "      <td>ENSG00000131941.7</td>\n",
       "      <td>RHPN2</td>\n",
       "      <td>0.000040</td>\n",
       "      <td>48.0</td>\n",
       "      <td>3.0</td>\n",
       "      <td>2.139470e-04</td>\n",
       "      <td>Artery_Tibial</td>\n",
       "      <td>0.990132</td>\n",
       "      <td>Brain_Nucleus_accumbens_basal_ganglia</td>\n",
       "      <td>36.556432</td>\n",
       "      <td>7.692089e-16</td>\n",
       "      <td>2.519701</td>\n",
       "      <td>-2.721185</td>\n",
       "      <td>3.701952</td>\n",
       "      <td>1.283152</td>\n",
       "      <td>1.825567</td>\n",
       "      <td>3.0</td>\n",
       "      <td>0</td>\n",
       "    </tr>\n",
       "    <tr>\n",
       "      <th>1</th>\n",
       "      <td>ENSG00000076650.6</td>\n",
       "      <td>GPATCH1</td>\n",
       "      <td>0.000078</td>\n",
       "      <td>40.0</td>\n",
       "      <td>3.0</td>\n",
       "      <td>4.534390e-04</td>\n",
       "      <td>Brain_Cerebellum</td>\n",
       "      <td>0.817384</td>\n",
       "      <td>Brain_Frontal_Cortex_BA9</td>\n",
       "      <td>29.990208</td>\n",
       "      <td>2.086487e-15</td>\n",
       "      <td>1.815203</td>\n",
       "      <td>-3.506853</td>\n",
       "      <td>2.383485</td>\n",
       "      <td>-2.016745</td>\n",
       "      <td>1.715495</td>\n",
       "      <td>3.0</td>\n",
       "      <td>0</td>\n",
       "    </tr>\n",
       "    <tr>\n",
       "      <th>2</th>\n",
       "      <td>ENSG00000100906.10</td>\n",
       "      <td>NFKBIA</td>\n",
       "      <td>0.000096</td>\n",
       "      <td>1.0</td>\n",
       "      <td>1.0</td>\n",
       "      <td>9.591208e-05</td>\n",
       "      <td>Brain_Frontal_Cortex_BA9</td>\n",
       "      <td>0.000096</td>\n",
       "      <td>Brain_Frontal_Cortex_BA9</td>\n",
       "      <td>1.000000</td>\n",
       "      <td>1.000000e+00</td>\n",
       "      <td>1.000000</td>\n",
       "      <td>-3.900707</td>\n",
       "      <td>-3.900707</td>\n",
       "      <td>-3.900707</td>\n",
       "      <td>NaN</td>\n",
       "      <td>1.0</td>\n",
       "      <td>0</td>\n",
       "    </tr>\n",
       "    <tr>\n",
       "      <th>3</th>\n",
       "      <td>ENSG00000136319.11</td>\n",
       "      <td>TTC5</td>\n",
       "      <td>0.000109</td>\n",
       "      <td>47.0</td>\n",
       "      <td>5.0</td>\n",
       "      <td>1.402826e-03</td>\n",
       "      <td>Brain_Hippocampus</td>\n",
       "      <td>0.961887</td>\n",
       "      <td>Colon_Sigmoid</td>\n",
       "      <td>21.272442</td>\n",
       "      <td>8.142339e-16</td>\n",
       "      <td>0.732606</td>\n",
       "      <td>-3.194069</td>\n",
       "      <td>1.397514</td>\n",
       "      <td>-0.916662</td>\n",
       "      <td>1.068989</td>\n",
       "      <td>5.0</td>\n",
       "      <td>0</td>\n",
       "    </tr>\n",
       "    <tr>\n",
       "      <th>4</th>\n",
       "      <td>ENSG00000152990.13</td>\n",
       "      <td>ADGRA3</td>\n",
       "      <td>0.000135</td>\n",
       "      <td>41.0</td>\n",
       "      <td>12.0</td>\n",
       "      <td>3.211289e-07</td>\n",
       "      <td>Heart_Atrial_Appendage</td>\n",
       "      <td>0.653657</td>\n",
       "      <td>Whole_Blood</td>\n",
       "      <td>12.988248</td>\n",
       "      <td>3.499412e-16</td>\n",
       "      <td>0.444682</td>\n",
       "      <td>-5.110605</td>\n",
       "      <td>3.599410</td>\n",
       "      <td>-0.464735</td>\n",
       "      <td>2.316607</td>\n",
       "      <td>12.0</td>\n",
       "      <td>0</td>\n",
       "    </tr>\n",
       "  </tbody>\n",
       "</table>\n",
       "</div>"
      ],
      "text/plain": [
       "                 gene gene_name    pvalue     n  n_indep      p_i_best  \\\n",
       "0   ENSG00000131941.7     RHPN2  0.000040  48.0      3.0  2.139470e-04   \n",
       "1   ENSG00000076650.6   GPATCH1  0.000078  40.0      3.0  4.534390e-04   \n",
       "2  ENSG00000100906.10    NFKBIA  0.000096   1.0      1.0  9.591208e-05   \n",
       "3  ENSG00000136319.11      TTC5  0.000109  47.0      5.0  1.402826e-03   \n",
       "4  ENSG00000152990.13    ADGRA3  0.000135  41.0     12.0  3.211289e-07   \n",
       "\n",
       "                   t_i_best  p_i_worst                              t_i_worst  \\\n",
       "0             Artery_Tibial   0.990132  Brain_Nucleus_accumbens_basal_ganglia   \n",
       "1          Brain_Cerebellum   0.817384               Brain_Frontal_Cortex_BA9   \n",
       "2  Brain_Frontal_Cortex_BA9   0.000096               Brain_Frontal_Cortex_BA9   \n",
       "3         Brain_Hippocampus   0.961887                          Colon_Sigmoid   \n",
       "4    Heart_Atrial_Appendage   0.653657                            Whole_Blood   \n",
       "\n",
       "   eigen_max     eigen_min  eigen_min_kept     z_min     z_max    z_mean  \\\n",
       "0  36.556432  7.692089e-16        2.519701 -2.721185  3.701952  1.283152   \n",
       "1  29.990208  2.086487e-15        1.815203 -3.506853  2.383485 -2.016745   \n",
       "2   1.000000  1.000000e+00        1.000000 -3.900707 -3.900707 -3.900707   \n",
       "3  21.272442  8.142339e-16        0.732606 -3.194069  1.397514 -0.916662   \n",
       "4  12.988248  3.499412e-16        0.444682 -5.110605  3.599410 -0.464735   \n",
       "\n",
       "       z_sd   tmi  status  \n",
       "0  1.825567   3.0       0  \n",
       "1  1.715495   3.0       0  \n",
       "2       NaN   1.0       0  \n",
       "3  1.068989   5.0       0  \n",
       "4  2.316607  12.0       0  "
      ]
     },
     "execution_count": 7,
     "metadata": {},
     "output_type": "execute_result"
    }
   ],
   "source": [
    "_tmp.head()"
   ]
  },
  {
   "cell_type": "code",
   "execution_count": 8,
   "id": "df4e8a97-854f-4355-ac4f-d007f4fe3eab",
   "metadata": {},
   "outputs": [
    {
     "data": {
      "text/plain": [
       "22311"
      ]
     },
     "metadata": {},
     "output_type": "display_data"
    },
    {
     "data": {
      "text/plain": [
       "['SLC4A5',\n",
       " 'L1TD1',\n",
       " 'FEM1C',\n",
       " 'GSC2',\n",
       " 'SLC6A7',\n",
       " 'SEPSECS',\n",
       " 'CAPS',\n",
       " 'EXO1',\n",
       " 'NPAS4',\n",
       " 'DNPH1']"
      ]
     },
     "metadata": {},
     "output_type": "display_data"
    }
   ],
   "source": [
    "multixcan_genes = set(_tmp[\"gene_name\"])\n",
    "display(len(multixcan_genes))\n",
    "display(list(multixcan_genes)[:10])"
   ]
  },
  {
   "cell_type": "markdown",
   "id": "e9c7f7f2-2995-4feb-8b74-00946b986433",
   "metadata": {},
   "source": [
    "# Load MultiPLIER Z matrix"
   ]
  },
  {
   "cell_type": "code",
   "execution_count": 9,
   "id": "737539d5-27c1-4eca-afe7-a762799e9a06",
   "metadata": {},
   "outputs": [],
   "source": [
    "multiplier_z = pd.read_pickle(conf.MULTIPLIER[\"MODEL_Z_MATRIX_FILE\"])"
   ]
  },
  {
   "cell_type": "code",
   "execution_count": 10,
   "id": "85f795b4-ac82-4638-8859-17fb6a9065d0",
   "metadata": {},
   "outputs": [
    {
     "data": {
      "text/plain": [
       "(6750, 987)"
      ]
     },
     "execution_count": 10,
     "metadata": {},
     "output_type": "execute_result"
    }
   ],
   "source": [
    "multiplier_z.shape"
   ]
  },
  {
   "cell_type": "code",
   "execution_count": 11,
   "id": "833629ef-50a0-4f1a-8e80-3666f14e45f4",
   "metadata": {},
   "outputs": [],
   "source": [
    "# keep genes only present in MultiXcan\n",
    "multiplier_z = multiplier_z.loc[\n",
    "    sorted(multixcan_genes.intersection(multiplier_z.index))\n",
    "]"
   ]
  },
  {
   "cell_type": "code",
   "execution_count": 12,
   "id": "412acd59-1134-4ee7-8b73-2d4552946735",
   "metadata": {},
   "outputs": [
    {
     "data": {
      "text/plain": [
       "(6446, 987)"
      ]
     },
     "execution_count": 12,
     "metadata": {},
     "output_type": "execute_result"
    }
   ],
   "source": [
    "multiplier_z.shape"
   ]
  },
  {
   "cell_type": "code",
   "execution_count": 13,
   "id": "1d7ae2a5-f63d-415b-b509-0fc4ea278a40",
   "metadata": {},
   "outputs": [
    {
     "data": {
      "text/html": [
       "<div>\n",
       "<style scoped>\n",
       "    .dataframe tbody tr th:only-of-type {\n",
       "        vertical-align: middle;\n",
       "    }\n",
       "\n",
       "    .dataframe tbody tr th {\n",
       "        vertical-align: top;\n",
       "    }\n",
       "\n",
       "    .dataframe thead th {\n",
       "        text-align: right;\n",
       "    }\n",
       "</style>\n",
       "<table border=\"1\" class=\"dataframe\">\n",
       "  <thead>\n",
       "    <tr style=\"text-align: right;\">\n",
       "      <th></th>\n",
       "      <th>LV1</th>\n",
       "      <th>LV2</th>\n",
       "      <th>LV3</th>\n",
       "      <th>LV4</th>\n",
       "      <th>LV5</th>\n",
       "      <th>LV6</th>\n",
       "      <th>LV7</th>\n",
       "      <th>LV8</th>\n",
       "      <th>LV9</th>\n",
       "      <th>LV10</th>\n",
       "      <th>...</th>\n",
       "      <th>LV978</th>\n",
       "      <th>LV979</th>\n",
       "      <th>LV980</th>\n",
       "      <th>LV981</th>\n",
       "      <th>LV982</th>\n",
       "      <th>LV983</th>\n",
       "      <th>LV984</th>\n",
       "      <th>LV985</th>\n",
       "      <th>LV986</th>\n",
       "      <th>LV987</th>\n",
       "    </tr>\n",
       "  </thead>\n",
       "  <tbody>\n",
       "    <tr>\n",
       "      <th>A2M</th>\n",
       "      <td>0.000000</td>\n",
       "      <td>0.000000</td>\n",
       "      <td>0.000000</td>\n",
       "      <td>0.078428</td>\n",
       "      <td>0.0</td>\n",
       "      <td>0.00000</td>\n",
       "      <td>0.000000</td>\n",
       "      <td>0.046772</td>\n",
       "      <td>0.000000</td>\n",
       "      <td>0.011033</td>\n",
       "      <td>...</td>\n",
       "      <td>0.010910</td>\n",
       "      <td>0.000000</td>\n",
       "      <td>0.052869</td>\n",
       "      <td>0.012749</td>\n",
       "      <td>0.0</td>\n",
       "      <td>0.013982</td>\n",
       "      <td>0.152241</td>\n",
       "      <td>0.000000</td>\n",
       "      <td>0.000000</td>\n",
       "      <td>0.108884</td>\n",
       "    </tr>\n",
       "    <tr>\n",
       "      <th>AAAS</th>\n",
       "      <td>0.271162</td>\n",
       "      <td>0.000000</td>\n",
       "      <td>0.000000</td>\n",
       "      <td>0.000000</td>\n",
       "      <td>0.0</td>\n",
       "      <td>0.00000</td>\n",
       "      <td>0.000000</td>\n",
       "      <td>0.000000</td>\n",
       "      <td>1.513337</td>\n",
       "      <td>0.000000</td>\n",
       "      <td>...</td>\n",
       "      <td>0.000000</td>\n",
       "      <td>0.000000</td>\n",
       "      <td>0.000000</td>\n",
       "      <td>0.001385</td>\n",
       "      <td>0.0</td>\n",
       "      <td>0.000000</td>\n",
       "      <td>0.711896</td>\n",
       "      <td>0.030534</td>\n",
       "      <td>0.447105</td>\n",
       "      <td>0.424685</td>\n",
       "    </tr>\n",
       "    <tr>\n",
       "      <th>AANAT</th>\n",
       "      <td>0.005099</td>\n",
       "      <td>0.308497</td>\n",
       "      <td>0.028815</td>\n",
       "      <td>0.000000</td>\n",
       "      <td>0.0</td>\n",
       "      <td>0.00000</td>\n",
       "      <td>0.371725</td>\n",
       "      <td>0.000000</td>\n",
       "      <td>0.135238</td>\n",
       "      <td>0.000000</td>\n",
       "      <td>...</td>\n",
       "      <td>0.117163</td>\n",
       "      <td>0.018815</td>\n",
       "      <td>0.000000</td>\n",
       "      <td>0.193142</td>\n",
       "      <td>0.0</td>\n",
       "      <td>0.040401</td>\n",
       "      <td>0.180436</td>\n",
       "      <td>0.000000</td>\n",
       "      <td>0.000000</td>\n",
       "      <td>0.042064</td>\n",
       "    </tr>\n",
       "    <tr>\n",
       "      <th>AARS</th>\n",
       "      <td>0.512978</td>\n",
       "      <td>0.000000</td>\n",
       "      <td>0.451285</td>\n",
       "      <td>0.319568</td>\n",
       "      <td>0.0</td>\n",
       "      <td>0.00000</td>\n",
       "      <td>0.000000</td>\n",
       "      <td>0.000000</td>\n",
       "      <td>0.000000</td>\n",
       "      <td>0.000000</td>\n",
       "      <td>...</td>\n",
       "      <td>0.000000</td>\n",
       "      <td>0.000000</td>\n",
       "      <td>0.006208</td>\n",
       "      <td>0.021274</td>\n",
       "      <td>0.0</td>\n",
       "      <td>0.000000</td>\n",
       "      <td>0.062143</td>\n",
       "      <td>0.000000</td>\n",
       "      <td>0.000000</td>\n",
       "      <td>0.364892</td>\n",
       "    </tr>\n",
       "    <tr>\n",
       "      <th>AARS2</th>\n",
       "      <td>1.008157</td>\n",
       "      <td>0.000000</td>\n",
       "      <td>0.197424</td>\n",
       "      <td>0.024832</td>\n",
       "      <td>0.0</td>\n",
       "      <td>0.57081</td>\n",
       "      <td>0.000000</td>\n",
       "      <td>0.228675</td>\n",
       "      <td>0.000000</td>\n",
       "      <td>0.116243</td>\n",
       "      <td>...</td>\n",
       "      <td>0.000000</td>\n",
       "      <td>0.000000</td>\n",
       "      <td>0.153345</td>\n",
       "      <td>0.000000</td>\n",
       "      <td>0.0</td>\n",
       "      <td>0.000000</td>\n",
       "      <td>1.004578</td>\n",
       "      <td>0.014470</td>\n",
       "      <td>0.000000</td>\n",
       "      <td>0.000000</td>\n",
       "    </tr>\n",
       "  </tbody>\n",
       "</table>\n",
       "<p>5 rows × 987 columns</p>\n",
       "</div>"
      ],
      "text/plain": [
       "            LV1       LV2       LV3       LV4  LV5      LV6       LV7  \\\n",
       "A2M    0.000000  0.000000  0.000000  0.078428  0.0  0.00000  0.000000   \n",
       "AAAS   0.271162  0.000000  0.000000  0.000000  0.0  0.00000  0.000000   \n",
       "AANAT  0.005099  0.308497  0.028815  0.000000  0.0  0.00000  0.371725   \n",
       "AARS   0.512978  0.000000  0.451285  0.319568  0.0  0.00000  0.000000   \n",
       "AARS2  1.008157  0.000000  0.197424  0.024832  0.0  0.57081  0.000000   \n",
       "\n",
       "            LV8       LV9      LV10  ...     LV978     LV979     LV980  \\\n",
       "A2M    0.046772  0.000000  0.011033  ...  0.010910  0.000000  0.052869   \n",
       "AAAS   0.000000  1.513337  0.000000  ...  0.000000  0.000000  0.000000   \n",
       "AANAT  0.000000  0.135238  0.000000  ...  0.117163  0.018815  0.000000   \n",
       "AARS   0.000000  0.000000  0.000000  ...  0.000000  0.000000  0.006208   \n",
       "AARS2  0.228675  0.000000  0.116243  ...  0.000000  0.000000  0.153345   \n",
       "\n",
       "          LV981  LV982     LV983     LV984     LV985     LV986     LV987  \n",
       "A2M    0.012749    0.0  0.013982  0.152241  0.000000  0.000000  0.108884  \n",
       "AAAS   0.001385    0.0  0.000000  0.711896  0.030534  0.447105  0.424685  \n",
       "AANAT  0.193142    0.0  0.040401  0.180436  0.000000  0.000000  0.042064  \n",
       "AARS   0.021274    0.0  0.000000  0.062143  0.000000  0.000000  0.364892  \n",
       "AARS2  0.000000    0.0  0.000000  1.004578  0.014470  0.000000  0.000000  \n",
       "\n",
       "[5 rows x 987 columns]"
      ]
     },
     "execution_count": 13,
     "metadata": {},
     "output_type": "execute_result"
    }
   ],
   "source": [
    "multiplier_z.head()"
   ]
  },
  {
   "cell_type": "markdown",
   "id": "4cb0512c",
   "metadata": {
    "papermill": {
     "duration": 0.010426,
     "end_time": "2022-02-24T05:32:04.905993",
     "exception": false,
     "start_time": "2022-02-24T05:32:04.895567",
     "status": "completed"
    },
    "tags": []
   },
   "source": [
    "# Functions"
   ]
  },
  {
   "cell_type": "code",
   "execution_count": 14,
   "id": "8f147e50",
   "metadata": {},
   "outputs": [],
   "source": [
    "def show_prop(data, frac=0.05):\n",
    "    pvalues = data[PVALUE_COLUMN]\n",
    "    return get_prop(pvalues, frac=frac)"
   ]
  },
  {
   "cell_type": "code",
   "execution_count": 15,
   "id": "247ac210-d958-47c5-8689-5d7bee1fc2c3",
   "metadata": {},
   "outputs": [],
   "source": [
    "def get_prop(pvalues, frac=0.05):\n",
    "    _pvalue_lt_frac = pvalues[pvalues < frac]\n",
    "    return _pvalue_lt_frac.shape[0] / pvalues.shape[0]"
   ]
  },
  {
   "cell_type": "code",
   "execution_count": 16,
   "id": "21b228aa-038d-4d7f-886c-c46e98e20d15",
   "metadata": {},
   "outputs": [],
   "source": [
    "assert get_prop(np.array([0.20, 0.50]), 0.05) == 0.0\n",
    "assert get_prop(np.array([0.20, 0.50, 0.75, 0.10, 0.04]), 0.05) == 0.2"
   ]
  },
  {
   "cell_type": "code",
   "execution_count": 17,
   "id": "6d41d11a-acf1-4165-9436-a9eda22ba6bb",
   "metadata": {},
   "outputs": [],
   "source": [
    "assert get_prop(pd.Series(np.array([0.20, 0.50])), 0.05) == 0.0\n",
    "assert get_prop(pd.Series(np.array([0.20, 0.50, 0.75, 0.10, 0.04])), 0.05) == 0.2"
   ]
  },
  {
   "cell_type": "code",
   "execution_count": 18,
   "id": "f9da2b93-e6e4-4d19-bb37-fcb15e03bb5d",
   "metadata": {},
   "outputs": [],
   "source": [
    "def qqplot_unif(results, check_n_lvs=True, other_results=None):\n",
    "    data = results[PVALUE_COLUMN].to_numpy()\n",
    "    n = data.shape[0]\n",
    "    observed_data = -np.log10(data)\n",
    "\n",
    "    observed_lvs = results[\"lv\"].unique()\n",
    "    n_observed_lvs = len(observed_lvs)\n",
    "    if check_n_lvs:\n",
    "        assert n_observed_lvs == 1\n",
    "        observed_lv = observed_lvs[0]\n",
    "    else:\n",
    "        observed_lv = f\"All LVs ({n_observed_lvs})\"\n",
    "\n",
    "    other_lv = \"\"\n",
    "    if other_results is not None:\n",
    "        other_data = other_results[PVALUE_COLUMN].to_numpy()\n",
    "        expected_data = -np.log10(other_data)\n",
    "\n",
    "        other_lv = other_results[\"lv\"].unique()\n",
    "        assert len(other_lv) == 1\n",
    "        other_lv = other_lv[0]\n",
    "    else:\n",
    "        uniform_data = np.array([i / (n + 1) for i in range(1, n + 1)])\n",
    "        expected_data = -np.log10(uniform_data)\n",
    "\n",
    "    with sns.plotting_context(\"paper\", font_scale=1.8), mpl.rc_context(\n",
    "        {\"lines.markersize\": 3}\n",
    "    ):\n",
    "        fig, ax = plt.subplots(figsize=(8, 8))\n",
    "\n",
    "        fig = qqplot_2samples(expected_data, observed_data, line=\"45\", ax=ax)\n",
    "\n",
    "        ax.set_xlim(expected_data.min() - 0.05, expected_data.max() + 0.05)\n",
    "\n",
    "        ax.set_xlabel(\"$-\\log_{10}$\" + f\"(expected pvalue) - {other_lv}\")\n",
    "        ax.set_ylabel(\"$-\\log_{10}$\" + f\"(observed pvalue) - {observed_lv}\")\n",
    "\n",
    "        # ax.set_title(\"OLS (baseline)\\nMean type I error: 5.5%\")\n",
    "        ax.set_title(\"OLS (baseline)\")"
   ]
  },
  {
   "cell_type": "code",
   "execution_count": 19,
   "id": "e8b4450a-7bde-4571-ba3a-e600d8212a7d",
   "metadata": {},
   "outputs": [],
   "source": [
    "def get_lv_genes(lv_code):\n",
    "    lv_genes = multiplier_z[lv_code].sort_values(ascending=False)\n",
    "    lv_obj = LVAnalysis(lv_code)\n",
    "    return lv_obj.lv_genes.set_index(\"gene_name\").loc[lv_genes.index]"
   ]
  },
  {
   "cell_type": "markdown",
   "id": "29a8e81c-fe49-44c2-880d-e2c4a5e305ba",
   "metadata": {},
   "source": [
    "# Get files list"
   ]
  },
  {
   "cell_type": "code",
   "execution_count": 20,
   "id": "f920bc02-8297-4bd9-8601-665f079cbf91",
   "metadata": {},
   "outputs": [
    {
     "data": {
      "text/plain": [
       "[PosixPath('/opt/data/results/gls/null_sims/phenoplier/1000g_eur/covars/_corrs_all/gls-gtex_v8_mashr-sub_corr/random.pheno988-gls_phenoplier.tsv.gz'),\n",
       " PosixPath('/opt/data/results/gls/null_sims/phenoplier/1000g_eur/covars/_corrs_all/gls-gtex_v8_mashr-sub_corr/random.pheno589-gls_phenoplier.tsv.gz'),\n",
       " PosixPath('/opt/data/results/gls/null_sims/phenoplier/1000g_eur/covars/_corrs_all/gls-gtex_v8_mashr-sub_corr/random.pheno385-gls_phenoplier.tsv.gz'),\n",
       " PosixPath('/opt/data/results/gls/null_sims/phenoplier/1000g_eur/covars/_corrs_all/gls-gtex_v8_mashr-sub_corr/random.pheno5-gls_phenoplier.tsv.gz'),\n",
       " PosixPath('/opt/data/results/gls/null_sims/phenoplier/1000g_eur/covars/_corrs_all/gls-gtex_v8_mashr-sub_corr/random.pheno74-gls_phenoplier.tsv.gz')]"
      ]
     },
     "metadata": {},
     "output_type": "display_data"
    }
   ],
   "source": [
    "INPUT_FILES = list(INPUT_DIR.glob(\"*.tsv.gz\"))\n",
    "display(INPUT_FILES[:5])"
   ]
  },
  {
   "cell_type": "markdown",
   "id": "5f2c6f72-9a30-4ced-bc9a-04b6b3b21384",
   "metadata": {},
   "source": [
    "# Load data"
   ]
  },
  {
   "cell_type": "code",
   "execution_count": 21,
   "id": "18ebfb6c",
   "metadata": {
    "papermill": {
     "duration": 0.023945,
     "end_time": "2022-02-24T05:32:04.808813",
     "exception": false,
     "start_time": "2022-02-24T05:32:04.784868",
     "status": "completed"
    },
    "tags": []
   },
   "outputs": [],
   "source": [
    "dfs = [\n",
    "    pd.read_csv(f, sep=\"\\t\").assign(phenotype=f.name.split(\"-\")[0]) for f in INPUT_FILES\n",
    "]"
   ]
  },
  {
   "cell_type": "code",
   "execution_count": 22,
   "id": "ac3b6041",
   "metadata": {
    "papermill": {
     "duration": 0.015781,
     "end_time": "2022-02-24T05:32:04.834694",
     "exception": false,
     "start_time": "2022-02-24T05:32:04.818913",
     "status": "completed"
    },
    "tags": []
   },
   "outputs": [
    {
     "data": {
      "text/plain": [
       "1000"
      ]
     },
     "metadata": {},
     "output_type": "display_data"
    }
   ],
   "source": [
    "display(len(dfs))\n",
    "assert len(dfs) == N_PHENOTYPES"
   ]
  },
  {
   "cell_type": "code",
   "execution_count": 23,
   "id": "d15f7346",
   "metadata": {
    "papermill": {
     "duration": 0.038689,
     "end_time": "2022-02-24T05:32:04.884154",
     "exception": false,
     "start_time": "2022-02-24T05:32:04.845465",
     "status": "completed"
    },
    "tags": []
   },
   "outputs": [],
   "source": [
    "dfs = pd.concat(dfs, axis=0, ignore_index=True)"
   ]
  },
  {
   "cell_type": "code",
   "execution_count": 24,
   "id": "7405b07c-b71a-4a8f-924b-f9ffc7a0b13a",
   "metadata": {},
   "outputs": [
    {
     "data": {
      "text/plain": [
       "(987000, 7)"
      ]
     },
     "metadata": {},
     "output_type": "display_data"
    }
   ],
   "source": [
    "display(dfs.shape)\n",
    "assert dfs.shape[0] == N_PHENOTYPES * N_LVS"
   ]
  },
  {
   "cell_type": "code",
   "execution_count": 25,
   "id": "228787ad-0cbb-4f3b-b964-0bc148a1a305",
   "metadata": {},
   "outputs": [
    {
     "data": {
      "text/html": [
       "<div>\n",
       "<style scoped>\n",
       "    .dataframe tbody tr th:only-of-type {\n",
       "        vertical-align: middle;\n",
       "    }\n",
       "\n",
       "    .dataframe tbody tr th {\n",
       "        vertical-align: top;\n",
       "    }\n",
       "\n",
       "    .dataframe thead th {\n",
       "        text-align: right;\n",
       "    }\n",
       "</style>\n",
       "<table border=\"1\" class=\"dataframe\">\n",
       "  <thead>\n",
       "    <tr style=\"text-align: right;\">\n",
       "      <th></th>\n",
       "      <th>lv</th>\n",
       "      <th>beta</th>\n",
       "      <th>beta_se</th>\n",
       "      <th>t</th>\n",
       "      <th>pvalue_twosided</th>\n",
       "      <th>pvalue_onesided</th>\n",
       "      <th>phenotype</th>\n",
       "    </tr>\n",
       "  </thead>\n",
       "  <tbody>\n",
       "    <tr>\n",
       "      <th>0</th>\n",
       "      <td>LV136</td>\n",
       "      <td>0.393254</td>\n",
       "      <td>0.127056</td>\n",
       "      <td>3.095131</td>\n",
       "      <td>0.001976</td>\n",
       "      <td>0.000988</td>\n",
       "      <td>random.pheno988</td>\n",
       "    </tr>\n",
       "    <tr>\n",
       "      <th>1</th>\n",
       "      <td>LV175</td>\n",
       "      <td>0.330666</td>\n",
       "      <td>0.125839</td>\n",
       "      <td>2.627689</td>\n",
       "      <td>0.008617</td>\n",
       "      <td>0.004309</td>\n",
       "      <td>random.pheno988</td>\n",
       "    </tr>\n",
       "    <tr>\n",
       "      <th>2</th>\n",
       "      <td>LV816</td>\n",
       "      <td>0.327034</td>\n",
       "      <td>0.126016</td>\n",
       "      <td>2.595168</td>\n",
       "      <td>0.009476</td>\n",
       "      <td>0.004738</td>\n",
       "      <td>random.pheno988</td>\n",
       "    </tr>\n",
       "    <tr>\n",
       "      <th>3</th>\n",
       "      <td>LV585</td>\n",
       "      <td>0.324859</td>\n",
       "      <td>0.126181</td>\n",
       "      <td>2.574544</td>\n",
       "      <td>0.010059</td>\n",
       "      <td>0.005030</td>\n",
       "      <td>random.pheno988</td>\n",
       "    </tr>\n",
       "    <tr>\n",
       "      <th>4</th>\n",
       "      <td>LV116</td>\n",
       "      <td>0.336875</td>\n",
       "      <td>0.131120</td>\n",
       "      <td>2.569217</td>\n",
       "      <td>0.010215</td>\n",
       "      <td>0.005108</td>\n",
       "      <td>random.pheno988</td>\n",
       "    </tr>\n",
       "  </tbody>\n",
       "</table>\n",
       "</div>"
      ],
      "text/plain": [
       "      lv      beta   beta_se         t  pvalue_twosided  pvalue_onesided  \\\n",
       "0  LV136  0.393254  0.127056  3.095131         0.001976         0.000988   \n",
       "1  LV175  0.330666  0.125839  2.627689         0.008617         0.004309   \n",
       "2  LV816  0.327034  0.126016  2.595168         0.009476         0.004738   \n",
       "3  LV585  0.324859  0.126181  2.574544         0.010059         0.005030   \n",
       "4  LV116  0.336875  0.131120  2.569217         0.010215         0.005108   \n",
       "\n",
       "         phenotype  \n",
       "0  random.pheno988  \n",
       "1  random.pheno988  \n",
       "2  random.pheno988  \n",
       "3  random.pheno988  \n",
       "4  random.pheno988  "
      ]
     },
     "execution_count": 25,
     "metadata": {},
     "output_type": "execute_result"
    }
   ],
   "source": [
    "dfs.head()"
   ]
  },
  {
   "cell_type": "code",
   "execution_count": 26,
   "id": "97764d1b-af87-46a2-ab78-53df39b0dde3",
   "metadata": {},
   "outputs": [],
   "source": [
    "_tmp = dfs.groupby(\"phenotype\")[\"lv\"].nunique().unique()\n",
    "assert _tmp.shape[0] == 1\n",
    "assert _tmp[0] == N_LVS"
   ]
  },
  {
   "cell_type": "markdown",
   "id": "4c232891-42e5-4685-b015-6ae332164f58",
   "metadata": {},
   "source": [
    "# Mean type I error"
   ]
  },
  {
   "cell_type": "code",
   "execution_count": 27,
   "id": "3426beb7-84a6-4d3d-bdfd-36b4f8cf97bd",
   "metadata": {},
   "outputs": [
    {
     "data": {
      "text/plain": [
       "0.05445187436676798"
      ]
     },
     "execution_count": 27,
     "metadata": {},
     "output_type": "execute_result"
    }
   ],
   "source": [
    "show_prop(dfs)"
   ]
  },
  {
   "cell_type": "markdown",
   "id": "ec45e443-0a39-46a7-85c7-540193a15f25",
   "metadata": {},
   "source": [
    "# QQ-plot"
   ]
  },
  {
   "cell_type": "code",
   "execution_count": 28,
   "id": "de7de0f0-493d-4426-aa14-a330f612407f",
   "metadata": {},
   "outputs": [
    {
     "data": {
      "image/png": "[encoded data removed]",
      "text/plain": [
       "<Figure size 576x576 with 1 Axes>"
      ]
     },
     "metadata": {
      "needs_background": "light"
     },
     "output_type": "display_data"
    }
   ],
   "source": [
    "qqplot_unif(dfs, check_n_lvs=False)"
   ]
  },
  {
   "cell_type": "markdown",
   "id": "6cbc20e3-9d56-441d-bbe2-a7119f9f5d83",
   "metadata": {},
   "source": [
    "# Summary of mean type I error per LV"
   ]
  },
  {
   "cell_type": "code",
   "execution_count": 29,
   "id": "5c799efd-77dc-4955-b5b8-263c65779946",
   "metadata": {},
   "outputs": [],
   "source": [
    "summary_list = []\n",
    "for lv, lv_data in dfs.groupby(\"lv\"):\n",
    "    assert lv_data.shape[0] == N_PHENOTYPES\n",
    "\n",
    "    summary_list.append(\n",
    "        {\n",
    "            \"lv\": lv,\n",
    "            \"1\": get_prop(lv_data[PVALUE_COLUMN], 0.01),\n",
    "            \"5\": get_prop(lv_data[PVALUE_COLUMN], 0.05),\n",
    "            \"10\": get_prop(lv_data[PVALUE_COLUMN], 0.10),\n",
    "        }\n",
    "    )\n",
    "\n",
    "summary_df = pd.DataFrame(summary_list)\n",
    "assert summary_df.shape[0] == N_LVS"
   ]
  },
  {
   "cell_type": "code",
   "execution_count": 30,
   "id": "16a5c34a-0337-4f15-b1ff-4b1bb00997f7",
   "metadata": {},
   "outputs": [
    {
     "data": {
      "text/plain": [
       "(987, 4)"
      ]
     },
     "execution_count": 30,
     "metadata": {},
     "output_type": "execute_result"
    }
   ],
   "source": [
    "summary_df.shape"
   ]
  },
  {
   "cell_type": "code",
   "execution_count": 31,
   "id": "3e1acb4a-00bb-4cea-9b47-9446a9382afe",
   "metadata": {},
   "outputs": [
    {
     "data": {
      "text/html": [
       "<div>\n",
       "<style scoped>\n",
       "    .dataframe tbody tr th:only-of-type {\n",
       "        vertical-align: middle;\n",
       "    }\n",
       "\n",
       "    .dataframe tbody tr th {\n",
       "        vertical-align: top;\n",
       "    }\n",
       "\n",
       "    .dataframe thead th {\n",
       "        text-align: right;\n",
       "    }\n",
       "</style>\n",
       "<table border=\"1\" class=\"dataframe\">\n",
       "  <thead>\n",
       "    <tr style=\"text-align: right;\">\n",
       "      <th></th>\n",
       "      <th>lv</th>\n",
       "      <th>1</th>\n",
       "      <th>5</th>\n",
       "      <th>10</th>\n",
       "    </tr>\n",
       "  </thead>\n",
       "  <tbody>\n",
       "    <tr>\n",
       "      <th>0</th>\n",
       "      <td>LV1</td>\n",
       "      <td>0.005</td>\n",
       "      <td>0.021</td>\n",
       "      <td>0.057</td>\n",
       "    </tr>\n",
       "    <tr>\n",
       "      <th>1</th>\n",
       "      <td>LV10</td>\n",
       "      <td>0.012</td>\n",
       "      <td>0.034</td>\n",
       "      <td>0.068</td>\n",
       "    </tr>\n",
       "    <tr>\n",
       "      <th>2</th>\n",
       "      <td>LV100</td>\n",
       "      <td>0.014</td>\n",
       "      <td>0.051</td>\n",
       "      <td>0.084</td>\n",
       "    </tr>\n",
       "    <tr>\n",
       "      <th>3</th>\n",
       "      <td>LV101</td>\n",
       "      <td>0.011</td>\n",
       "      <td>0.039</td>\n",
       "      <td>0.090</td>\n",
       "    </tr>\n",
       "    <tr>\n",
       "      <th>4</th>\n",
       "      <td>LV102</td>\n",
       "      <td>0.013</td>\n",
       "      <td>0.055</td>\n",
       "      <td>0.080</td>\n",
       "    </tr>\n",
       "  </tbody>\n",
       "</table>\n",
       "</div>"
      ],
      "text/plain": [
       "      lv      1      5     10\n",
       "0    LV1  0.005  0.021  0.057\n",
       "1   LV10  0.012  0.034  0.068\n",
       "2  LV100  0.014  0.051  0.084\n",
       "3  LV101  0.011  0.039  0.090\n",
       "4  LV102  0.013  0.055  0.080"
      ]
     },
     "execution_count": 31,
     "metadata": {},
     "output_type": "execute_result"
    }
   ],
   "source": [
    "summary_df.head()"
   ]
  },
  {
   "cell_type": "code",
   "execution_count": 32,
   "id": "779c4db3-3ed2-413d-8bec-b19a28ce4949",
   "metadata": {},
   "outputs": [
    {
     "data": {
      "text/html": [
       "<div>\n",
       "<style scoped>\n",
       "    .dataframe tbody tr th:only-of-type {\n",
       "        vertical-align: middle;\n",
       "    }\n",
       "\n",
       "    .dataframe tbody tr th {\n",
       "        vertical-align: top;\n",
       "    }\n",
       "\n",
       "    .dataframe thead th {\n",
       "        text-align: right;\n",
       "    }\n",
       "</style>\n",
       "<table border=\"1\" class=\"dataframe\">\n",
       "  <thead>\n",
       "    <tr style=\"text-align: right;\">\n",
       "      <th></th>\n",
       "      <th>1</th>\n",
       "      <th>5</th>\n",
       "      <th>10</th>\n",
       "    </tr>\n",
       "  </thead>\n",
       "  <tbody>\n",
       "    <tr>\n",
       "      <th>count</th>\n",
       "      <td>987.000000</td>\n",
       "      <td>987.000000</td>\n",
       "      <td>987.000000</td>\n",
       "    </tr>\n",
       "    <tr>\n",
       "      <th>mean</th>\n",
       "      <td>0.014128</td>\n",
       "      <td>0.054452</td>\n",
       "      <td>0.100803</td>\n",
       "    </tr>\n",
       "    <tr>\n",
       "      <th>std</th>\n",
       "      <td>0.004983</td>\n",
       "      <td>0.012501</td>\n",
       "      <td>0.018391</td>\n",
       "    </tr>\n",
       "    <tr>\n",
       "      <th>min</th>\n",
       "      <td>0.001000</td>\n",
       "      <td>0.016000</td>\n",
       "      <td>0.049000</td>\n",
       "    </tr>\n",
       "    <tr>\n",
       "      <th>25%</th>\n",
       "      <td>0.011000</td>\n",
       "      <td>0.045500</td>\n",
       "      <td>0.088000</td>\n",
       "    </tr>\n",
       "    <tr>\n",
       "      <th>50%</th>\n",
       "      <td>0.014000</td>\n",
       "      <td>0.054000</td>\n",
       "      <td>0.100000</td>\n",
       "    </tr>\n",
       "    <tr>\n",
       "      <th>75%</th>\n",
       "      <td>0.018000</td>\n",
       "      <td>0.062000</td>\n",
       "      <td>0.113000</td>\n",
       "    </tr>\n",
       "    <tr>\n",
       "      <th>max</th>\n",
       "      <td>0.034000</td>\n",
       "      <td>0.105000</td>\n",
       "      <td>0.176000</td>\n",
       "    </tr>\n",
       "  </tbody>\n",
       "</table>\n",
       "</div>"
      ],
      "text/plain": [
       "                1           5          10\n",
       "count  987.000000  987.000000  987.000000\n",
       "mean     0.014128    0.054452    0.100803\n",
       "std      0.004983    0.012501    0.018391\n",
       "min      0.001000    0.016000    0.049000\n",
       "25%      0.011000    0.045500    0.088000\n",
       "50%      0.014000    0.054000    0.100000\n",
       "75%      0.018000    0.062000    0.113000\n",
       "max      0.034000    0.105000    0.176000"
      ]
     },
     "execution_count": 32,
     "metadata": {},
     "output_type": "execute_result"
    }
   ],
   "source": [
    "summary_df.describe()"
   ]
  },
  {
   "cell_type": "markdown",
   "id": "43daf9dd-7530-4e53-8fc0-305aa78b5be3",
   "metadata": {},
   "source": [
    "## LVs with expected type I error"
   ]
  },
  {
   "cell_type": "code",
   "execution_count": 33,
   "id": "4b22226f-edc7-4af5-8585-e2dbb6fcbe9e",
   "metadata": {},
   "outputs": [
    {
     "data": {
      "text/plain": [
       "(88, 4)"
      ]
     },
     "metadata": {},
     "output_type": "display_data"
    },
    {
     "data": {
      "text/html": [
       "<div>\n",
       "<style scoped>\n",
       "    .dataframe tbody tr th:only-of-type {\n",
       "        vertical-align: middle;\n",
       "    }\n",
       "\n",
       "    .dataframe tbody tr th {\n",
       "        vertical-align: top;\n",
       "    }\n",
       "\n",
       "    .dataframe thead th {\n",
       "        text-align: right;\n",
       "    }\n",
       "</style>\n",
       "<table border=\"1\" class=\"dataframe\">\n",
       "  <thead>\n",
       "    <tr style=\"text-align: right;\">\n",
       "      <th></th>\n",
       "      <th>lv</th>\n",
       "      <th>1</th>\n",
       "      <th>5</th>\n",
       "      <th>10</th>\n",
       "    </tr>\n",
       "  </thead>\n",
       "  <tbody>\n",
       "    <tr>\n",
       "      <th>334</th>\n",
       "      <td>LV40</td>\n",
       "      <td>0.018</td>\n",
       "      <td>0.049</td>\n",
       "      <td>0.097</td>\n",
       "    </tr>\n",
       "    <tr>\n",
       "      <th>828</th>\n",
       "      <td>LV845</td>\n",
       "      <td>0.012</td>\n",
       "      <td>0.049</td>\n",
       "      <td>0.093</td>\n",
       "    </tr>\n",
       "    <tr>\n",
       "      <th>431</th>\n",
       "      <td>LV488</td>\n",
       "      <td>0.012</td>\n",
       "      <td>0.049</td>\n",
       "      <td>0.099</td>\n",
       "    </tr>\n",
       "    <tr>\n",
       "      <th>767</th>\n",
       "      <td>LV790</td>\n",
       "      <td>0.013</td>\n",
       "      <td>0.049</td>\n",
       "      <td>0.099</td>\n",
       "    </tr>\n",
       "    <tr>\n",
       "      <th>324</th>\n",
       "      <td>LV391</td>\n",
       "      <td>0.013</td>\n",
       "      <td>0.049</td>\n",
       "      <td>0.096</td>\n",
       "    </tr>\n",
       "    <tr>\n",
       "      <th>838</th>\n",
       "      <td>LV854</td>\n",
       "      <td>0.016</td>\n",
       "      <td>0.049</td>\n",
       "      <td>0.086</td>\n",
       "    </tr>\n",
       "    <tr>\n",
       "      <th>843</th>\n",
       "      <td>LV859</td>\n",
       "      <td>0.013</td>\n",
       "      <td>0.049</td>\n",
       "      <td>0.086</td>\n",
       "    </tr>\n",
       "    <tr>\n",
       "      <th>760</th>\n",
       "      <td>LV784</td>\n",
       "      <td>0.011</td>\n",
       "      <td>0.049</td>\n",
       "      <td>0.082</td>\n",
       "    </tr>\n",
       "    <tr>\n",
       "      <th>754</th>\n",
       "      <td>LV779</td>\n",
       "      <td>0.011</td>\n",
       "      <td>0.049</td>\n",
       "      <td>0.091</td>\n",
       "    </tr>\n",
       "    <tr>\n",
       "      <th>251</th>\n",
       "      <td>LV325</td>\n",
       "      <td>0.015</td>\n",
       "      <td>0.049</td>\n",
       "      <td>0.095</td>\n",
       "    </tr>\n",
       "    <tr>\n",
       "      <th>460</th>\n",
       "      <td>LV513</td>\n",
       "      <td>0.008</td>\n",
       "      <td>0.049</td>\n",
       "      <td>0.099</td>\n",
       "    </tr>\n",
       "    <tr>\n",
       "      <th>876</th>\n",
       "      <td>LV889</td>\n",
       "      <td>0.014</td>\n",
       "      <td>0.049</td>\n",
       "      <td>0.102</td>\n",
       "    </tr>\n",
       "    <tr>\n",
       "      <th>880</th>\n",
       "      <td>LV892</td>\n",
       "      <td>0.013</td>\n",
       "      <td>0.049</td>\n",
       "      <td>0.102</td>\n",
       "    </tr>\n",
       "    <tr>\n",
       "      <th>507</th>\n",
       "      <td>LV556</td>\n",
       "      <td>0.012</td>\n",
       "      <td>0.049</td>\n",
       "      <td>0.094</td>\n",
       "    </tr>\n",
       "    <tr>\n",
       "      <th>899</th>\n",
       "      <td>LV909</td>\n",
       "      <td>0.014</td>\n",
       "      <td>0.049</td>\n",
       "      <td>0.112</td>\n",
       "    </tr>\n",
       "    <tr>\n",
       "      <th>148</th>\n",
       "      <td>LV232</td>\n",
       "      <td>0.007</td>\n",
       "      <td>0.049</td>\n",
       "      <td>0.093</td>\n",
       "    </tr>\n",
       "    <tr>\n",
       "      <th>654</th>\n",
       "      <td>LV689</td>\n",
       "      <td>0.008</td>\n",
       "      <td>0.049</td>\n",
       "      <td>0.094</td>\n",
       "    </tr>\n",
       "    <tr>\n",
       "      <th>16</th>\n",
       "      <td>LV113</td>\n",
       "      <td>0.007</td>\n",
       "      <td>0.049</td>\n",
       "      <td>0.093</td>\n",
       "    </tr>\n",
       "    <tr>\n",
       "      <th>607</th>\n",
       "      <td>LV646</td>\n",
       "      <td>0.015</td>\n",
       "      <td>0.049</td>\n",
       "      <td>0.087</td>\n",
       "    </tr>\n",
       "    <tr>\n",
       "      <th>560</th>\n",
       "      <td>LV603</td>\n",
       "      <td>0.014</td>\n",
       "      <td>0.049</td>\n",
       "      <td>0.098</td>\n",
       "    </tr>\n",
       "  </tbody>\n",
       "</table>\n",
       "</div>"
      ],
      "text/plain": [
       "        lv      1      5     10\n",
       "334   LV40  0.018  0.049  0.097\n",
       "828  LV845  0.012  0.049  0.093\n",
       "431  LV488  0.012  0.049  0.099\n",
       "767  LV790  0.013  0.049  0.099\n",
       "324  LV391  0.013  0.049  0.096\n",
       "838  LV854  0.016  0.049  0.086\n",
       "843  LV859  0.013  0.049  0.086\n",
       "760  LV784  0.011  0.049  0.082\n",
       "754  LV779  0.011  0.049  0.091\n",
       "251  LV325  0.015  0.049  0.095\n",
       "460  LV513  0.008  0.049  0.099\n",
       "876  LV889  0.014  0.049  0.102\n",
       "880  LV892  0.013  0.049  0.102\n",
       "507  LV556  0.012  0.049  0.094\n",
       "899  LV909  0.014  0.049  0.112\n",
       "148  LV232  0.007  0.049  0.093\n",
       "654  LV689  0.008  0.049  0.094\n",
       "16   LV113  0.007  0.049  0.093\n",
       "607  LV646  0.015  0.049  0.087\n",
       "560  LV603  0.014  0.049  0.098"
      ]
     },
     "metadata": {},
     "output_type": "display_data"
    },
    {
     "data": {
      "text/html": [
       "<div>\n",
       "<style scoped>\n",
       "    .dataframe tbody tr th:only-of-type {\n",
       "        vertical-align: middle;\n",
       "    }\n",
       "\n",
       "    .dataframe tbody tr th {\n",
       "        vertical-align: top;\n",
       "    }\n",
       "\n",
       "    .dataframe thead th {\n",
       "        text-align: right;\n",
       "    }\n",
       "</style>\n",
       "<table border=\"1\" class=\"dataframe\">\n",
       "  <thead>\n",
       "    <tr style=\"text-align: right;\">\n",
       "      <th></th>\n",
       "      <th>lv</th>\n",
       "      <th>1</th>\n",
       "      <th>5</th>\n",
       "      <th>10</th>\n",
       "    </tr>\n",
       "  </thead>\n",
       "  <tbody>\n",
       "    <tr>\n",
       "      <th>204</th>\n",
       "      <td>LV283</td>\n",
       "      <td>0.009</td>\n",
       "      <td>0.051</td>\n",
       "      <td>0.096</td>\n",
       "    </tr>\n",
       "    <tr>\n",
       "      <th>212</th>\n",
       "      <td>LV290</td>\n",
       "      <td>0.017</td>\n",
       "      <td>0.051</td>\n",
       "      <td>0.098</td>\n",
       "    </tr>\n",
       "    <tr>\n",
       "      <th>219</th>\n",
       "      <td>LV297</td>\n",
       "      <td>0.014</td>\n",
       "      <td>0.051</td>\n",
       "      <td>0.087</td>\n",
       "    </tr>\n",
       "    <tr>\n",
       "      <th>247</th>\n",
       "      <td>LV321</td>\n",
       "      <td>0.011</td>\n",
       "      <td>0.051</td>\n",
       "      <td>0.103</td>\n",
       "    </tr>\n",
       "    <tr>\n",
       "      <th>252</th>\n",
       "      <td>LV326</td>\n",
       "      <td>0.011</td>\n",
       "      <td>0.051</td>\n",
       "      <td>0.088</td>\n",
       "    </tr>\n",
       "    <tr>\n",
       "      <th>297</th>\n",
       "      <td>LV367</td>\n",
       "      <td>0.014</td>\n",
       "      <td>0.051</td>\n",
       "      <td>0.096</td>\n",
       "    </tr>\n",
       "    <tr>\n",
       "      <th>303</th>\n",
       "      <td>LV372</td>\n",
       "      <td>0.016</td>\n",
       "      <td>0.051</td>\n",
       "      <td>0.094</td>\n",
       "    </tr>\n",
       "    <tr>\n",
       "      <th>320</th>\n",
       "      <td>LV388</td>\n",
       "      <td>0.011</td>\n",
       "      <td>0.051</td>\n",
       "      <td>0.102</td>\n",
       "    </tr>\n",
       "    <tr>\n",
       "      <th>383</th>\n",
       "      <td>LV444</td>\n",
       "      <td>0.020</td>\n",
       "      <td>0.051</td>\n",
       "      <td>0.090</td>\n",
       "    </tr>\n",
       "    <tr>\n",
       "      <th>414</th>\n",
       "      <td>LV472</td>\n",
       "      <td>0.015</td>\n",
       "      <td>0.051</td>\n",
       "      <td>0.094</td>\n",
       "    </tr>\n",
       "    <tr>\n",
       "      <th>438</th>\n",
       "      <td>LV494</td>\n",
       "      <td>0.010</td>\n",
       "      <td>0.051</td>\n",
       "      <td>0.094</td>\n",
       "    </tr>\n",
       "    <tr>\n",
       "      <th>454</th>\n",
       "      <td>LV508</td>\n",
       "      <td>0.017</td>\n",
       "      <td>0.051</td>\n",
       "      <td>0.098</td>\n",
       "    </tr>\n",
       "    <tr>\n",
       "      <th>458</th>\n",
       "      <td>LV511</td>\n",
       "      <td>0.019</td>\n",
       "      <td>0.051</td>\n",
       "      <td>0.089</td>\n",
       "    </tr>\n",
       "    <tr>\n",
       "      <th>461</th>\n",
       "      <td>LV514</td>\n",
       "      <td>0.014</td>\n",
       "      <td>0.051</td>\n",
       "      <td>0.092</td>\n",
       "    </tr>\n",
       "    <tr>\n",
       "      <th>525</th>\n",
       "      <td>LV572</td>\n",
       "      <td>0.016</td>\n",
       "      <td>0.051</td>\n",
       "      <td>0.094</td>\n",
       "    </tr>\n",
       "    <tr>\n",
       "      <th>533</th>\n",
       "      <td>LV58</td>\n",
       "      <td>0.018</td>\n",
       "      <td>0.051</td>\n",
       "      <td>0.092</td>\n",
       "    </tr>\n",
       "    <tr>\n",
       "      <th>550</th>\n",
       "      <td>LV595</td>\n",
       "      <td>0.017</td>\n",
       "      <td>0.051</td>\n",
       "      <td>0.103</td>\n",
       "    </tr>\n",
       "    <tr>\n",
       "      <th>554</th>\n",
       "      <td>LV599</td>\n",
       "      <td>0.009</td>\n",
       "      <td>0.051</td>\n",
       "      <td>0.102</td>\n",
       "    </tr>\n",
       "    <tr>\n",
       "      <th>635</th>\n",
       "      <td>LV671</td>\n",
       "      <td>0.011</td>\n",
       "      <td>0.051</td>\n",
       "      <td>0.087</td>\n",
       "    </tr>\n",
       "    <tr>\n",
       "      <th>477</th>\n",
       "      <td>LV529</td>\n",
       "      <td>0.015</td>\n",
       "      <td>0.051</td>\n",
       "      <td>0.087</td>\n",
       "    </tr>\n",
       "  </tbody>\n",
       "</table>\n",
       "</div>"
      ],
      "text/plain": [
       "        lv      1      5     10\n",
       "204  LV283  0.009  0.051  0.096\n",
       "212  LV290  0.017  0.051  0.098\n",
       "219  LV297  0.014  0.051  0.087\n",
       "247  LV321  0.011  0.051  0.103\n",
       "252  LV326  0.011  0.051  0.088\n",
       "297  LV367  0.014  0.051  0.096\n",
       "303  LV372  0.016  0.051  0.094\n",
       "320  LV388  0.011  0.051  0.102\n",
       "383  LV444  0.020  0.051  0.090\n",
       "414  LV472  0.015  0.051  0.094\n",
       "438  LV494  0.010  0.051  0.094\n",
       "454  LV508  0.017  0.051  0.098\n",
       "458  LV511  0.019  0.051  0.089\n",
       "461  LV514  0.014  0.051  0.092\n",
       "525  LV572  0.016  0.051  0.094\n",
       "533   LV58  0.018  0.051  0.092\n",
       "550  LV595  0.017  0.051  0.103\n",
       "554  LV599  0.009  0.051  0.102\n",
       "635  LV671  0.011  0.051  0.087\n",
       "477  LV529  0.015  0.051  0.087"
      ]
     },
     "metadata": {},
     "output_type": "display_data"
    }
   ],
   "source": [
    "lvs_expected_error = summary_df[summary_df[\"5\"].between(0.049, 0.051)]\n",
    "display(lvs_expected_error.shape)\n",
    "display(lvs_expected_error.sort_values(\"5\").head(20))\n",
    "display(lvs_expected_error.sort_values(\"5\").tail(20))"
   ]
  },
  {
   "cell_type": "markdown",
   "id": "9dcc030a-74be-4d04-b2b6-654a4443fbd9",
   "metadata": {},
   "source": [
    "## LVs with high type I error"
   ]
  },
  {
   "cell_type": "code",
   "execution_count": 34,
   "id": "31c5f1c6-10d7-4b2a-9429-b59e6ba3c594",
   "metadata": {},
   "outputs": [
    {
     "data": {
      "text/plain": [
       "(289, 4)"
      ]
     },
     "metadata": {},
     "output_type": "display_data"
    },
    {
     "data": {
      "text/html": [
       "<div>\n",
       "<style scoped>\n",
       "    .dataframe tbody tr th:only-of-type {\n",
       "        vertical-align: middle;\n",
       "    }\n",
       "\n",
       "    .dataframe tbody tr th {\n",
       "        vertical-align: top;\n",
       "    }\n",
       "\n",
       "    .dataframe thead th {\n",
       "        text-align: right;\n",
       "    }\n",
       "</style>\n",
       "<table border=\"1\" class=\"dataframe\">\n",
       "  <thead>\n",
       "    <tr style=\"text-align: right;\">\n",
       "      <th></th>\n",
       "      <th>lv</th>\n",
       "      <th>1</th>\n",
       "      <th>5</th>\n",
       "      <th>10</th>\n",
       "    </tr>\n",
       "  </thead>\n",
       "  <tbody>\n",
       "    <tr>\n",
       "      <th>200</th>\n",
       "      <td>LV28</td>\n",
       "      <td>0.025</td>\n",
       "      <td>0.082</td>\n",
       "      <td>0.130</td>\n",
       "    </tr>\n",
       "    <tr>\n",
       "      <th>310</th>\n",
       "      <td>LV379</td>\n",
       "      <td>0.022</td>\n",
       "      <td>0.082</td>\n",
       "      <td>0.121</td>\n",
       "    </tr>\n",
       "    <tr>\n",
       "      <th>672</th>\n",
       "      <td>LV704</td>\n",
       "      <td>0.016</td>\n",
       "      <td>0.082</td>\n",
       "      <td>0.144</td>\n",
       "    </tr>\n",
       "    <tr>\n",
       "      <th>417</th>\n",
       "      <td>LV475</td>\n",
       "      <td>0.023</td>\n",
       "      <td>0.083</td>\n",
       "      <td>0.144</td>\n",
       "    </tr>\n",
       "    <tr>\n",
       "      <th>341</th>\n",
       "      <td>LV406</td>\n",
       "      <td>0.019</td>\n",
       "      <td>0.084</td>\n",
       "      <td>0.132</td>\n",
       "    </tr>\n",
       "    <tr>\n",
       "      <th>253</th>\n",
       "      <td>LV327</td>\n",
       "      <td>0.027</td>\n",
       "      <td>0.084</td>\n",
       "      <td>0.130</td>\n",
       "    </tr>\n",
       "    <tr>\n",
       "      <th>892</th>\n",
       "      <td>LV902</td>\n",
       "      <td>0.028</td>\n",
       "      <td>0.084</td>\n",
       "      <td>0.136</td>\n",
       "    </tr>\n",
       "    <tr>\n",
       "      <th>151</th>\n",
       "      <td>LV235</td>\n",
       "      <td>0.027</td>\n",
       "      <td>0.085</td>\n",
       "      <td>0.135</td>\n",
       "    </tr>\n",
       "    <tr>\n",
       "      <th>752</th>\n",
       "      <td>LV777</td>\n",
       "      <td>0.021</td>\n",
       "      <td>0.085</td>\n",
       "      <td>0.153</td>\n",
       "    </tr>\n",
       "    <tr>\n",
       "      <th>694</th>\n",
       "      <td>LV724</td>\n",
       "      <td>0.029</td>\n",
       "      <td>0.086</td>\n",
       "      <td>0.143</td>\n",
       "    </tr>\n",
       "    <tr>\n",
       "      <th>975</th>\n",
       "      <td>LV978</td>\n",
       "      <td>0.022</td>\n",
       "      <td>0.086</td>\n",
       "      <td>0.149</td>\n",
       "    </tr>\n",
       "    <tr>\n",
       "      <th>720</th>\n",
       "      <td>LV748</td>\n",
       "      <td>0.022</td>\n",
       "      <td>0.087</td>\n",
       "      <td>0.135</td>\n",
       "    </tr>\n",
       "    <tr>\n",
       "      <th>632</th>\n",
       "      <td>LV669</td>\n",
       "      <td>0.023</td>\n",
       "      <td>0.087</td>\n",
       "      <td>0.149</td>\n",
       "    </tr>\n",
       "    <tr>\n",
       "      <th>946</th>\n",
       "      <td>LV951</td>\n",
       "      <td>0.024</td>\n",
       "      <td>0.087</td>\n",
       "      <td>0.155</td>\n",
       "    </tr>\n",
       "    <tr>\n",
       "      <th>929</th>\n",
       "      <td>LV936</td>\n",
       "      <td>0.016</td>\n",
       "      <td>0.088</td>\n",
       "      <td>0.135</td>\n",
       "    </tr>\n",
       "    <tr>\n",
       "      <th>707</th>\n",
       "      <td>LV736</td>\n",
       "      <td>0.021</td>\n",
       "      <td>0.090</td>\n",
       "      <td>0.140</td>\n",
       "    </tr>\n",
       "    <tr>\n",
       "      <th>501</th>\n",
       "      <td>LV550</td>\n",
       "      <td>0.030</td>\n",
       "      <td>0.093</td>\n",
       "      <td>0.148</td>\n",
       "    </tr>\n",
       "    <tr>\n",
       "      <th>542</th>\n",
       "      <td>LV588</td>\n",
       "      <td>0.016</td>\n",
       "      <td>0.096</td>\n",
       "      <td>0.155</td>\n",
       "    </tr>\n",
       "    <tr>\n",
       "      <th>796</th>\n",
       "      <td>LV816</td>\n",
       "      <td>0.032</td>\n",
       "      <td>0.102</td>\n",
       "      <td>0.152</td>\n",
       "    </tr>\n",
       "    <tr>\n",
       "      <th>905</th>\n",
       "      <td>LV914</td>\n",
       "      <td>0.034</td>\n",
       "      <td>0.105</td>\n",
       "      <td>0.176</td>\n",
       "    </tr>\n",
       "  </tbody>\n",
       "</table>\n",
       "</div>"
      ],
      "text/plain": [
       "        lv      1      5     10\n",
       "200   LV28  0.025  0.082  0.130\n",
       "310  LV379  0.022  0.082  0.121\n",
       "672  LV704  0.016  0.082  0.144\n",
       "417  LV475  0.023  0.083  0.144\n",
       "341  LV406  0.019  0.084  0.132\n",
       "253  LV327  0.027  0.084  0.130\n",
       "892  LV902  0.028  0.084  0.136\n",
       "151  LV235  0.027  0.085  0.135\n",
       "752  LV777  0.021  0.085  0.153\n",
       "694  LV724  0.029  0.086  0.143\n",
       "975  LV978  0.022  0.086  0.149\n",
       "720  LV748  0.022  0.087  0.135\n",
       "632  LV669  0.023  0.087  0.149\n",
       "946  LV951  0.024  0.087  0.155\n",
       "929  LV936  0.016  0.088  0.135\n",
       "707  LV736  0.021  0.090  0.140\n",
       "501  LV550  0.030  0.093  0.148\n",
       "542  LV588  0.016  0.096  0.155\n",
       "796  LV816  0.032  0.102  0.152\n",
       "905  LV914  0.034  0.105  0.176"
      ]
     },
     "metadata": {},
     "output_type": "display_data"
    }
   ],
   "source": [
    "lvs_high_error = summary_df[summary_df[\"5\"] > 0.06]\n",
    "display(lvs_high_error.shape)\n",
    "# display(lvs_high_error.sort_values(\"5\").head(20))\n",
    "display(lvs_high_error.sort_values(\"5\").tail(20))"
   ]
  },
  {
   "cell_type": "markdown",
   "id": "30b3db3f-3b33-4bac-a3ea-d728e32d1e6a",
   "metadata": {},
   "source": [
    "# Comparison with OLS model"
   ]
  },
  {
   "cell_type": "markdown",
   "id": "efa897b5-437f-46e7-a9b2-f538ddd04ef6",
   "metadata": {},
   "source": [
    "## LVs with high mean type I error in OLS model"
   ]
  },
  {
   "cell_type": "markdown",
   "id": "6b3152c9-d6eb-4c8d-83ff-2593aace51d9",
   "metadata": {},
   "source": [
    "Here I compare the OLS's high mean type I error LVs with results from the GLS model."
   ]
  },
  {
   "cell_type": "markdown",
   "id": "791970b1-370d-413b-9bbc-ab854ac616e1",
   "metadata": {},
   "source": [
    "### LV234"
   ]
  },
  {
   "cell_type": "code",
   "execution_count": 35,
   "id": "861e6a8c-b891-4eb2-8878-f5505937f6aa",
   "metadata": {},
   "outputs": [],
   "source": [
    "lv_code = \"LV234\""
   ]
  },
  {
   "cell_type": "code",
   "execution_count": 36,
   "id": "ce659542-b79b-409e-9f02-5b9089510870",
   "metadata": {},
   "outputs": [],
   "source": [
    "results = dfs[dfs[\"lv\"] == lv_code]"
   ]
  },
  {
   "cell_type": "code",
   "execution_count": 37,
   "id": "e149155d-a169-4b37-ab1d-aa2c5ff00f38",
   "metadata": {},
   "outputs": [
    {
     "data": {
      "text/plain": [
       "(1000, 7)"
      ]
     },
     "execution_count": 37,
     "metadata": {},
     "output_type": "execute_result"
    }
   ],
   "source": [
    "results.shape"
   ]
  },
  {
   "cell_type": "code",
   "execution_count": 38,
   "id": "9b7db3d4-d922-4dbb-9a06-15a5432fb67b",
   "metadata": {},
   "outputs": [
    {
     "data": {
      "text/html": [
       "<div>\n",
       "<style scoped>\n",
       "    .dataframe tbody tr th:only-of-type {\n",
       "        vertical-align: middle;\n",
       "    }\n",
       "\n",
       "    .dataframe tbody tr th {\n",
       "        vertical-align: top;\n",
       "    }\n",
       "\n",
       "    .dataframe thead th {\n",
       "        text-align: right;\n",
       "    }\n",
       "</style>\n",
       "<table border=\"1\" class=\"dataframe\">\n",
       "  <thead>\n",
       "    <tr style=\"text-align: right;\">\n",
       "      <th></th>\n",
       "      <th>lv</th>\n",
       "      <th>beta</th>\n",
       "      <th>beta_se</th>\n",
       "      <th>t</th>\n",
       "      <th>pvalue_twosided</th>\n",
       "      <th>pvalue_onesided</th>\n",
       "      <th>phenotype</th>\n",
       "    </tr>\n",
       "  </thead>\n",
       "  <tbody>\n",
       "    <tr>\n",
       "      <th>516</th>\n",
       "      <td>LV234</td>\n",
       "      <td>-0.026556</td>\n",
       "      <td>0.144691</td>\n",
       "      <td>-0.183532</td>\n",
       "      <td>0.854386</td>\n",
       "      <td>0.572807</td>\n",
       "      <td>random.pheno988</td>\n",
       "    </tr>\n",
       "    <tr>\n",
       "      <th>1873</th>\n",
       "      <td>LV234</td>\n",
       "      <td>-0.179261</td>\n",
       "      <td>0.145092</td>\n",
       "      <td>-1.235500</td>\n",
       "      <td>0.216690</td>\n",
       "      <td>0.891655</td>\n",
       "      <td>random.pheno589</td>\n",
       "    </tr>\n",
       "    <tr>\n",
       "      <th>2911</th>\n",
       "      <td>LV234</td>\n",
       "      <td>-0.217875</td>\n",
       "      <td>0.144715</td>\n",
       "      <td>-1.505549</td>\n",
       "      <td>0.132232</td>\n",
       "      <td>0.933884</td>\n",
       "      <td>random.pheno385</td>\n",
       "    </tr>\n",
       "    <tr>\n",
       "      <th>3639</th>\n",
       "      <td>LV234</td>\n",
       "      <td>-0.069849</td>\n",
       "      <td>0.144824</td>\n",
       "      <td>-0.482301</td>\n",
       "      <td>0.629609</td>\n",
       "      <td>0.685196</td>\n",
       "      <td>random.pheno5</td>\n",
       "    </tr>\n",
       "    <tr>\n",
       "      <th>4378</th>\n",
       "      <td>LV234</td>\n",
       "      <td>0.014162</td>\n",
       "      <td>0.144892</td>\n",
       "      <td>0.097744</td>\n",
       "      <td>0.922139</td>\n",
       "      <td>0.461069</td>\n",
       "      <td>random.pheno74</td>\n",
       "    </tr>\n",
       "  </tbody>\n",
       "</table>\n",
       "</div>"
      ],
      "text/plain": [
       "         lv      beta   beta_se         t  pvalue_twosided  pvalue_onesided  \\\n",
       "516   LV234 -0.026556  0.144691 -0.183532         0.854386         0.572807   \n",
       "1873  LV234 -0.179261  0.145092 -1.235500         0.216690         0.891655   \n",
       "2911  LV234 -0.217875  0.144715 -1.505549         0.132232         0.933884   \n",
       "3639  LV234 -0.069849  0.144824 -0.482301         0.629609         0.685196   \n",
       "4378  LV234  0.014162  0.144892  0.097744         0.922139         0.461069   \n",
       "\n",
       "            phenotype  \n",
       "516   random.pheno988  \n",
       "1873  random.pheno589  \n",
       "2911  random.pheno385  \n",
       "3639    random.pheno5  \n",
       "4378   random.pheno74  "
      ]
     },
     "execution_count": 38,
     "metadata": {},
     "output_type": "execute_result"
    }
   ],
   "source": [
    "results.head()"
   ]
  },
  {
   "cell_type": "markdown",
   "id": "1a159b50-7023-442f-a16c-d38651118e1e",
   "metadata": {},
   "source": [
    "#### Mean type I errors at different thresholds"
   ]
  },
  {
   "cell_type": "code",
   "execution_count": 39,
   "id": "98615fff-336f-44e3-8de5-a82ec0b7a377",
   "metadata": {},
   "outputs": [
    {
     "data": {
      "text/plain": [
       "0.014"
      ]
     },
     "execution_count": 39,
     "metadata": {},
     "output_type": "execute_result"
    }
   ],
   "source": [
    "show_prop(results, 0.01)"
   ]
  },
  {
   "cell_type": "code",
   "execution_count": 40,
   "id": "bb28e493-8151-4aad-a7a1-f0728b24373d",
   "metadata": {},
   "outputs": [
    {
     "data": {
      "text/plain": [
       "0.053"
      ]
     },
     "execution_count": 40,
     "metadata": {},
     "output_type": "execute_result"
    }
   ],
   "source": [
    "show_prop(results, 0.05)"
   ]
  },
  {
   "cell_type": "code",
   "execution_count": 41,
   "id": "91515a72-d558-4f90-839d-0439b7bc8c51",
   "metadata": {},
   "outputs": [
    {
     "data": {
      "text/plain": [
       "0.089"
      ]
     },
     "execution_count": 41,
     "metadata": {},
     "output_type": "execute_result"
    }
   ],
   "source": [
    "show_prop(results, 0.10)"
   ]
  },
  {
   "cell_type": "code",
   "execution_count": 42,
   "id": "049459fd-5782-41ed-9fe7-36d30c016adc",
   "metadata": {},
   "outputs": [
    {
     "data": {
      "text/plain": [
       "0.116"
      ]
     },
     "execution_count": 42,
     "metadata": {},
     "output_type": "execute_result"
    }
   ],
   "source": [
    "show_prop(results, 0.15)"
   ]
  },
  {
   "cell_type": "code",
   "execution_count": 43,
   "id": "d0569d7e-91f1-43f8-82b7-54b927199724",
   "metadata": {},
   "outputs": [
    {
     "data": {
      "text/plain": [
       "0.159"
      ]
     },
     "execution_count": 43,
     "metadata": {},
     "output_type": "execute_result"
    }
   ],
   "source": [
    "show_prop(results, 0.20)"
   ]
  },
  {
   "cell_type": "markdown",
   "id": "11039773-1436-43a3-afed-3fa15845b503",
   "metadata": {},
   "source": [
    "#### QQplot"
   ]
  },
  {
   "cell_type": "code",
   "execution_count": 44,
   "id": "0bfbf172-fc72-4c72-819b-e873c8121e4c",
   "metadata": {},
   "outputs": [
    {
     "data": {
      "image/png": "[encoded data removed]",
      "text/plain": [
       "<Figure size 576x576 with 1 Axes>"
      ]
     },
     "metadata": {
      "needs_background": "light"
     },
     "output_type": "display_data"
    }
   ],
   "source": [
    "qqplot_unif(results)"
   ]
  },
  {
   "cell_type": "markdown",
   "id": "d241a244-c07b-4d5b-8fc9-3ee5895d34a4",
   "metadata": {},
   "source": [
    "#### Top genes in LV"
   ]
  },
  {
   "cell_type": "code",
   "execution_count": 45,
   "id": "9f564cfa-800d-4402-b160-65413d81538d",
   "metadata": {},
   "outputs": [
    {
     "data": {
      "text/html": [
       "<div>\n",
       "<style scoped>\n",
       "    .dataframe tbody tr th:only-of-type {\n",
       "        vertical-align: middle;\n",
       "    }\n",
       "\n",
       "    .dataframe tbody tr th {\n",
       "        vertical-align: top;\n",
       "    }\n",
       "\n",
       "    .dataframe thead th {\n",
       "        text-align: right;\n",
       "    }\n",
       "</style>\n",
       "<table border=\"1\" class=\"dataframe\">\n",
       "  <thead>\n",
       "    <tr style=\"text-align: right;\">\n",
       "      <th></th>\n",
       "      <th>LV234</th>\n",
       "      <th>gene_band</th>\n",
       "    </tr>\n",
       "  </thead>\n",
       "  <tbody>\n",
       "    <tr>\n",
       "      <th>HIST1H4E</th>\n",
       "      <td>7.379845</td>\n",
       "      <td>6p22.2</td>\n",
       "    </tr>\n",
       "    <tr>\n",
       "      <th>HIST1H3B</th>\n",
       "      <td>7.293635</td>\n",
       "      <td>6p22.2</td>\n",
       "    </tr>\n",
       "    <tr>\n",
       "      <th>HIST4H4</th>\n",
       "      <td>6.929394</td>\n",
       "      <td>12p12.3</td>\n",
       "    </tr>\n",
       "    <tr>\n",
       "      <th>HIST1H3H</th>\n",
       "      <td>6.863106</td>\n",
       "      <td>6p22.1</td>\n",
       "    </tr>\n",
       "    <tr>\n",
       "      <th>HIST1H3D</th>\n",
       "      <td>4.568047</td>\n",
       "      <td>6p22.2</td>\n",
       "    </tr>\n",
       "    <tr>\n",
       "      <th>HIST1H2BC</th>\n",
       "      <td>4.078396</td>\n",
       "      <td>6p22.2</td>\n",
       "    </tr>\n",
       "    <tr>\n",
       "      <th>HIST1H2AE</th>\n",
       "      <td>4.009782</td>\n",
       "      <td>6p22.2</td>\n",
       "    </tr>\n",
       "    <tr>\n",
       "      <th>HIST1H2BF</th>\n",
       "      <td>3.963254</td>\n",
       "      <td>6p22.2</td>\n",
       "    </tr>\n",
       "    <tr>\n",
       "      <th>HIST1H2BD</th>\n",
       "      <td>3.862981</td>\n",
       "      <td>6p22.2</td>\n",
       "    </tr>\n",
       "    <tr>\n",
       "      <th>HIST1H2BK</th>\n",
       "      <td>3.662444</td>\n",
       "      <td>6p22.1</td>\n",
       "    </tr>\n",
       "    <tr>\n",
       "      <th>HIST1H2BO</th>\n",
       "      <td>3.292643</td>\n",
       "      <td>6p22.1</td>\n",
       "    </tr>\n",
       "    <tr>\n",
       "      <th>HIST1H2BH</th>\n",
       "      <td>2.581818</td>\n",
       "      <td>6p22.2</td>\n",
       "    </tr>\n",
       "    <tr>\n",
       "      <th>HIST1H2AC</th>\n",
       "      <td>2.280831</td>\n",
       "      <td>6p22.2</td>\n",
       "    </tr>\n",
       "    <tr>\n",
       "      <th>HIST1H4I</th>\n",
       "      <td>2.063182</td>\n",
       "      <td>6p22.1</td>\n",
       "    </tr>\n",
       "    <tr>\n",
       "      <th>HIST1H2BE</th>\n",
       "      <td>1.912717</td>\n",
       "      <td>6p22.2</td>\n",
       "    </tr>\n",
       "    <tr>\n",
       "      <th>UBTF</th>\n",
       "      <td>1.748020</td>\n",
       "      <td>17q21.31</td>\n",
       "    </tr>\n",
       "    <tr>\n",
       "      <th>HIST1H4D</th>\n",
       "      <td>1.660015</td>\n",
       "      <td>6p22.2</td>\n",
       "    </tr>\n",
       "    <tr>\n",
       "      <th>MAPK3</th>\n",
       "      <td>1.655242</td>\n",
       "      <td>16p11.2</td>\n",
       "    </tr>\n",
       "    <tr>\n",
       "      <th>HIST1H3E</th>\n",
       "      <td>1.586624</td>\n",
       "      <td>6p22.2</td>\n",
       "    </tr>\n",
       "    <tr>\n",
       "      <th>H3F3A</th>\n",
       "      <td>1.558007</td>\n",
       "      <td>1q42.12</td>\n",
       "    </tr>\n",
       "    <tr>\n",
       "      <th>HIST1H2BJ</th>\n",
       "      <td>1.455017</td>\n",
       "      <td>6p22.1</td>\n",
       "    </tr>\n",
       "    <tr>\n",
       "      <th>HIST3H2BB</th>\n",
       "      <td>1.434026</td>\n",
       "      <td>1q42.13</td>\n",
       "    </tr>\n",
       "    <tr>\n",
       "      <th>H3F3B</th>\n",
       "      <td>1.431049</td>\n",
       "      <td>17q25.1</td>\n",
       "    </tr>\n",
       "    <tr>\n",
       "      <th>H2AFX</th>\n",
       "      <td>1.393936</td>\n",
       "      <td>11q23.3</td>\n",
       "    </tr>\n",
       "    <tr>\n",
       "      <th>H2AFZ</th>\n",
       "      <td>1.373988</td>\n",
       "      <td>4q23</td>\n",
       "    </tr>\n",
       "  </tbody>\n",
       "</table>\n",
       "</div>"
      ],
      "text/plain": [
       "              LV234 gene_band\n",
       "HIST1H4E   7.379845    6p22.2\n",
       "HIST1H3B   7.293635    6p22.2\n",
       "HIST4H4    6.929394   12p12.3\n",
       "HIST1H3H   6.863106    6p22.1\n",
       "HIST1H3D   4.568047    6p22.2\n",
       "HIST1H2BC  4.078396    6p22.2\n",
       "HIST1H2AE  4.009782    6p22.2\n",
       "HIST1H2BF  3.963254    6p22.2\n",
       "HIST1H2BD  3.862981    6p22.2\n",
       "HIST1H2BK  3.662444    6p22.1\n",
       "HIST1H2BO  3.292643    6p22.1\n",
       "HIST1H2BH  2.581818    6p22.2\n",
       "HIST1H2AC  2.280831    6p22.2\n",
       "HIST1H4I   2.063182    6p22.1\n",
       "HIST1H2BE  1.912717    6p22.2\n",
       "UBTF       1.748020  17q21.31\n",
       "HIST1H4D   1.660015    6p22.2\n",
       "MAPK3      1.655242   16p11.2\n",
       "HIST1H3E   1.586624    6p22.2\n",
       "H3F3A      1.558007   1q42.12\n",
       "HIST1H2BJ  1.455017    6p22.1\n",
       "HIST3H2BB  1.434026   1q42.13\n",
       "H3F3B      1.431049   17q25.1\n",
       "H2AFX      1.393936   11q23.3\n",
       "H2AFZ      1.373988      4q23"
      ]
     },
     "metadata": {},
     "output_type": "display_data"
    }
   ],
   "source": [
    "lv_genes = get_lv_genes(lv_code)\n",
    "display(lv_genes.head(25))"
   ]
  },
  {
   "cell_type": "code",
   "execution_count": 46,
   "id": "0f45e5f1-6aec-4afe-9a5c-16c695a298e8",
   "metadata": {},
   "outputs": [
    {
     "data": {
      "text/plain": [
       "6p22.2     17\n",
       "6p22.1      5\n",
       "7q11.23     3\n",
       "16p11.2     2\n",
       "15q23       2\n",
       "9q31.3      2\n",
       "12p12.3     1\n",
       "1q42.12     1\n",
       "18q11.2     1\n",
       "1q32.2      1\n",
       "Name: gene_band, dtype: int64"
      ]
     },
     "execution_count": 46,
     "metadata": {},
     "output_type": "execute_result"
    }
   ],
   "source": [
    "# see bands of top genes\n",
    "lv_genes.head(68)[\"gene_band\"].value_counts().head(10)"
   ]
  },
  {
   "cell_type": "markdown",
   "id": "3c610269-f16c-4b3e-9e8d-e11e69554214",
   "metadata": {},
   "source": [
    "### LV847"
   ]
  },
  {
   "cell_type": "code",
   "execution_count": 47,
   "id": "eb51399e-47de-44c5-84f5-70f0ca709204",
   "metadata": {},
   "outputs": [],
   "source": [
    "lv_code = \"LV847\""
   ]
  },
  {
   "cell_type": "code",
   "execution_count": 48,
   "id": "282b7e09-41c8-49a5-8b2c-a650ea4eaceb",
   "metadata": {},
   "outputs": [],
   "source": [
    "results = dfs[dfs[\"lv\"] == lv_code]"
   ]
  },
  {
   "cell_type": "code",
   "execution_count": 49,
   "id": "8f39bc48-43c1-47e3-956d-4abff3f72ce2",
   "metadata": {},
   "outputs": [
    {
     "data": {
      "text/plain": [
       "(1000, 7)"
      ]
     },
     "execution_count": 49,
     "metadata": {},
     "output_type": "execute_result"
    }
   ],
   "source": [
    "results.shape"
   ]
  },
  {
   "cell_type": "code",
   "execution_count": 50,
   "id": "36e55730-d3d4-47d2-9b7f-a88b19f4dee1",
   "metadata": {},
   "outputs": [
    {
     "data": {
      "text/html": [
       "<div>\n",
       "<style scoped>\n",
       "    .dataframe tbody tr th:only-of-type {\n",
       "        vertical-align: middle;\n",
       "    }\n",
       "\n",
       "    .dataframe tbody tr th {\n",
       "        vertical-align: top;\n",
       "    }\n",
       "\n",
       "    .dataframe thead th {\n",
       "        text-align: right;\n",
       "    }\n",
       "</style>\n",
       "<table border=\"1\" class=\"dataframe\">\n",
       "  <thead>\n",
       "    <tr style=\"text-align: right;\">\n",
       "      <th></th>\n",
       "      <th>lv</th>\n",
       "      <th>beta</th>\n",
       "      <th>beta_se</th>\n",
       "      <th>t</th>\n",
       "      <th>pvalue_twosided</th>\n",
       "      <th>pvalue_onesided</th>\n",
       "      <th>phenotype</th>\n",
       "    </tr>\n",
       "  </thead>\n",
       "  <tbody>\n",
       "    <tr>\n",
       "      <th>278</th>\n",
       "      <td>LV847</td>\n",
       "      <td>0.060957</td>\n",
       "      <td>0.141972</td>\n",
       "      <td>0.429359</td>\n",
       "      <td>0.667676</td>\n",
       "      <td>0.333838</td>\n",
       "      <td>random.pheno988</td>\n",
       "    </tr>\n",
       "    <tr>\n",
       "      <th>1546</th>\n",
       "      <td>LV847</td>\n",
       "      <td>-0.041420</td>\n",
       "      <td>0.142476</td>\n",
       "      <td>-0.290712</td>\n",
       "      <td>0.771281</td>\n",
       "      <td>0.614359</td>\n",
       "      <td>random.pheno589</td>\n",
       "    </tr>\n",
       "    <tr>\n",
       "      <th>2791</th>\n",
       "      <td>LV847</td>\n",
       "      <td>-0.131236</td>\n",
       "      <td>0.142065</td>\n",
       "      <td>-0.923773</td>\n",
       "      <td>0.355639</td>\n",
       "      <td>0.822180</td>\n",
       "      <td>random.pheno385</td>\n",
       "    </tr>\n",
       "    <tr>\n",
       "      <th>3417</th>\n",
       "      <td>LV847</td>\n",
       "      <td>0.012524</td>\n",
       "      <td>0.142142</td>\n",
       "      <td>0.088110</td>\n",
       "      <td>0.929792</td>\n",
       "      <td>0.464896</td>\n",
       "      <td>random.pheno5</td>\n",
       "    </tr>\n",
       "    <tr>\n",
       "      <th>4586</th>\n",
       "      <td>LV847</td>\n",
       "      <td>-0.061619</td>\n",
       "      <td>0.142218</td>\n",
       "      <td>-0.433268</td>\n",
       "      <td>0.664835</td>\n",
       "      <td>0.667583</td>\n",
       "      <td>random.pheno74</td>\n",
       "    </tr>\n",
       "  </tbody>\n",
       "</table>\n",
       "</div>"
      ],
      "text/plain": [
       "         lv      beta   beta_se         t  pvalue_twosided  pvalue_onesided  \\\n",
       "278   LV847  0.060957  0.141972  0.429359         0.667676         0.333838   \n",
       "1546  LV847 -0.041420  0.142476 -0.290712         0.771281         0.614359   \n",
       "2791  LV847 -0.131236  0.142065 -0.923773         0.355639         0.822180   \n",
       "3417  LV847  0.012524  0.142142  0.088110         0.929792         0.464896   \n",
       "4586  LV847 -0.061619  0.142218 -0.433268         0.664835         0.667583   \n",
       "\n",
       "            phenotype  \n",
       "278   random.pheno988  \n",
       "1546  random.pheno589  \n",
       "2791  random.pheno385  \n",
       "3417    random.pheno5  \n",
       "4586   random.pheno74  "
      ]
     },
     "execution_count": 50,
     "metadata": {},
     "output_type": "execute_result"
    }
   ],
   "source": [
    "results.head()"
   ]
  },
  {
   "cell_type": "markdown",
   "id": "218b336d-9357-4bc2-b81b-318601466b7b",
   "metadata": {},
   "source": [
    "#### Mean type I errors at different thresholds"
   ]
  },
  {
   "cell_type": "code",
   "execution_count": 51,
   "id": "566a4147-98dd-4dc7-a50b-8d9ae9f0f2dc",
   "metadata": {},
   "outputs": [
    {
     "data": {
      "text/plain": [
       "0.021"
      ]
     },
     "execution_count": 51,
     "metadata": {},
     "output_type": "execute_result"
    }
   ],
   "source": [
    "show_prop(results, 0.01)"
   ]
  },
  {
   "cell_type": "code",
   "execution_count": 52,
   "id": "9a26401d-5d9f-4a5b-9404-a995acf31fa9",
   "metadata": {},
   "outputs": [
    {
     "data": {
      "text/plain": [
       "0.065"
      ]
     },
     "execution_count": 52,
     "metadata": {},
     "output_type": "execute_result"
    }
   ],
   "source": [
    "show_prop(results, 0.05)"
   ]
  },
  {
   "cell_type": "code",
   "execution_count": 53,
   "id": "22b0b9fd-7b84-4e9c-abaf-ccdb93413165",
   "metadata": {},
   "outputs": [
    {
     "data": {
      "text/plain": [
       "0.123"
      ]
     },
     "execution_count": 53,
     "metadata": {},
     "output_type": "execute_result"
    }
   ],
   "source": [
    "show_prop(results, 0.10)"
   ]
  },
  {
   "cell_type": "code",
   "execution_count": 54,
   "id": "4e1299c0-a344-4d3b-9e85-0f8641bd5f05",
   "metadata": {},
   "outputs": [
    {
     "data": {
      "text/plain": [
       "0.189"
      ]
     },
     "execution_count": 54,
     "metadata": {},
     "output_type": "execute_result"
    }
   ],
   "source": [
    "show_prop(results, 0.15)"
   ]
  },
  {
   "cell_type": "code",
   "execution_count": 55,
   "id": "6e6a7323-cf20-469a-9b68-3e022545bb1e",
   "metadata": {},
   "outputs": [
    {
     "data": {
      "text/plain": [
       "0.231"
      ]
     },
     "execution_count": 55,
     "metadata": {},
     "output_type": "execute_result"
    }
   ],
   "source": [
    "show_prop(results, 0.20)"
   ]
  },
  {
   "cell_type": "markdown",
   "id": "189abecc-8690-4a28-b780-b73f981a980a",
   "metadata": {},
   "source": [
    "#### QQplot"
   ]
  },
  {
   "cell_type": "code",
   "execution_count": 56,
   "id": "d1cddd29-573d-48ab-bb14-1309a613083e",
   "metadata": {},
   "outputs": [
    {
     "data": {
      "image/png": "[encoded data removed]",
      "text/plain": [
       "<Figure size 576x576 with 1 Axes>"
      ]
     },
     "metadata": {
      "needs_background": "light"
     },
     "output_type": "display_data"
    }
   ],
   "source": [
    "qqplot_unif(results)"
   ]
  },
  {
   "cell_type": "markdown",
   "id": "dbcaad33-5b8f-4f2d-a28e-edb1504724e9",
   "metadata": {},
   "source": [
    "### LV45"
   ]
  },
  {
   "cell_type": "code",
   "execution_count": 57,
   "id": "d0b7fd18-4d4b-4917-9768-0f19a7c698d7",
   "metadata": {},
   "outputs": [],
   "source": [
    "lv_code = \"LV45\""
   ]
  },
  {
   "cell_type": "code",
   "execution_count": 58,
   "id": "e1ff4bfa-280a-465a-ab83-1cc2bc42ff96",
   "metadata": {},
   "outputs": [],
   "source": [
    "results = dfs[dfs[\"lv\"] == lv_code]"
   ]
  },
  {
   "cell_type": "code",
   "execution_count": 59,
   "id": "d3038212-51a0-437c-80ec-cc6b919f1e7f",
   "metadata": {},
   "outputs": [
    {
     "data": {
      "text/plain": [
       "(1000, 7)"
      ]
     },
     "execution_count": 59,
     "metadata": {},
     "output_type": "execute_result"
    }
   ],
   "source": [
    "results.shape"
   ]
  },
  {
   "cell_type": "code",
   "execution_count": 60,
   "id": "2070d4d7-993a-443e-a164-b296c592fc7b",
   "metadata": {},
   "outputs": [
    {
     "data": {
      "text/html": [
       "<div>\n",
       "<style scoped>\n",
       "    .dataframe tbody tr th:only-of-type {\n",
       "        vertical-align: middle;\n",
       "    }\n",
       "\n",
       "    .dataframe tbody tr th {\n",
       "        vertical-align: top;\n",
       "    }\n",
       "\n",
       "    .dataframe thead th {\n",
       "        text-align: right;\n",
       "    }\n",
       "</style>\n",
       "<table border=\"1\" class=\"dataframe\">\n",
       "  <thead>\n",
       "    <tr style=\"text-align: right;\">\n",
       "      <th></th>\n",
       "      <th>lv</th>\n",
       "      <th>beta</th>\n",
       "      <th>beta_se</th>\n",
       "      <th>t</th>\n",
       "      <th>pvalue_twosided</th>\n",
       "      <th>pvalue_onesided</th>\n",
       "      <th>phenotype</th>\n",
       "    </tr>\n",
       "  </thead>\n",
       "  <tbody>\n",
       "    <tr>\n",
       "      <th>943</th>\n",
       "      <td>LV45</td>\n",
       "      <td>-0.234949</td>\n",
       "      <td>0.141825</td>\n",
       "      <td>-1.656609</td>\n",
       "      <td>0.097647</td>\n",
       "      <td>0.951176</td>\n",
       "      <td>random.pheno988</td>\n",
       "    </tr>\n",
       "    <tr>\n",
       "      <th>1238</th>\n",
       "      <td>LV45</td>\n",
       "      <td>0.080735</td>\n",
       "      <td>0.142318</td>\n",
       "      <td>0.567282</td>\n",
       "      <td>0.570542</td>\n",
       "      <td>0.285271</td>\n",
       "      <td>random.pheno589</td>\n",
       "    </tr>\n",
       "    <tr>\n",
       "      <th>2167</th>\n",
       "      <td>LV45</td>\n",
       "      <td>0.119924</td>\n",
       "      <td>0.141938</td>\n",
       "      <td>0.844903</td>\n",
       "      <td>0.398196</td>\n",
       "      <td>0.199098</td>\n",
       "      <td>random.pheno385</td>\n",
       "    </tr>\n",
       "    <tr>\n",
       "      <th>3551</th>\n",
       "      <td>LV45</td>\n",
       "      <td>-0.038409</td>\n",
       "      <td>0.141983</td>\n",
       "      <td>-0.270516</td>\n",
       "      <td>0.786772</td>\n",
       "      <td>0.606614</td>\n",
       "      <td>random.pheno5</td>\n",
       "    </tr>\n",
       "    <tr>\n",
       "      <th>4424</th>\n",
       "      <td>LV45</td>\n",
       "      <td>-0.009205</td>\n",
       "      <td>0.142060</td>\n",
       "      <td>-0.064799</td>\n",
       "      <td>0.948336</td>\n",
       "      <td>0.525832</td>\n",
       "      <td>random.pheno74</td>\n",
       "    </tr>\n",
       "  </tbody>\n",
       "</table>\n",
       "</div>"
      ],
      "text/plain": [
       "        lv      beta   beta_se         t  pvalue_twosided  pvalue_onesided  \\\n",
       "943   LV45 -0.234949  0.141825 -1.656609         0.097647         0.951176   \n",
       "1238  LV45  0.080735  0.142318  0.567282         0.570542         0.285271   \n",
       "2167  LV45  0.119924  0.141938  0.844903         0.398196         0.199098   \n",
       "3551  LV45 -0.038409  0.141983 -0.270516         0.786772         0.606614   \n",
       "4424  LV45 -0.009205  0.142060 -0.064799         0.948336         0.525832   \n",
       "\n",
       "            phenotype  \n",
       "943   random.pheno988  \n",
       "1238  random.pheno589  \n",
       "2167  random.pheno385  \n",
       "3551    random.pheno5  \n",
       "4424   random.pheno74  "
      ]
     },
     "execution_count": 60,
     "metadata": {},
     "output_type": "execute_result"
    }
   ],
   "source": [
    "results.head()"
   ]
  },
  {
   "cell_type": "markdown",
   "id": "9b3dea75-6e92-4e12-87cd-0b15c86dce48",
   "metadata": {},
   "source": [
    "#### Mean type I errors at different thresholds"
   ]
  },
  {
   "cell_type": "code",
   "execution_count": 61,
   "id": "b7717344-7de4-480e-9844-fe76c475987d",
   "metadata": {},
   "outputs": [
    {
     "data": {
      "text/plain": [
       "0.012"
      ]
     },
     "execution_count": 61,
     "metadata": {},
     "output_type": "execute_result"
    }
   ],
   "source": [
    "show_prop(results, 0.01)"
   ]
  },
  {
   "cell_type": "code",
   "execution_count": 62,
   "id": "b01b57ec-d4c4-4174-bef4-1aef9953c378",
   "metadata": {},
   "outputs": [
    {
     "data": {
      "text/plain": [
       "0.068"
      ]
     },
     "execution_count": 62,
     "metadata": {},
     "output_type": "execute_result"
    }
   ],
   "source": [
    "show_prop(results, 0.05)"
   ]
  },
  {
   "cell_type": "code",
   "execution_count": 63,
   "id": "37632ecd-3a8b-4385-bd62-409f76e04dfe",
   "metadata": {},
   "outputs": [
    {
     "data": {
      "text/plain": [
       "0.132"
      ]
     },
     "execution_count": 63,
     "metadata": {},
     "output_type": "execute_result"
    }
   ],
   "source": [
    "show_prop(results, 0.10)"
   ]
  },
  {
   "cell_type": "code",
   "execution_count": 64,
   "id": "252001e5-4415-47e9-be83-389a619de686",
   "metadata": {},
   "outputs": [
    {
     "data": {
      "text/plain": [
       "0.183"
      ]
     },
     "execution_count": 64,
     "metadata": {},
     "output_type": "execute_result"
    }
   ],
   "source": [
    "show_prop(results, 0.15)"
   ]
  },
  {
   "cell_type": "code",
   "execution_count": 65,
   "id": "e4668836-17bb-4253-8ef3-a637b26029f8",
   "metadata": {},
   "outputs": [
    {
     "data": {
      "text/plain": [
       "0.228"
      ]
     },
     "execution_count": 65,
     "metadata": {},
     "output_type": "execute_result"
    }
   ],
   "source": [
    "show_prop(results, 0.20)"
   ]
  },
  {
   "cell_type": "markdown",
   "id": "25966a90-ff90-4db2-a574-3f9433f49bbf",
   "metadata": {},
   "source": [
    "#### QQplot"
   ]
  },
  {
   "cell_type": "code",
   "execution_count": 66,
   "id": "2d40d77b-0fb8-44a3-b203-6e245444cb68",
   "metadata": {},
   "outputs": [
    {
     "data": {
      "image/png": "[encoded data removed]",
      "text/plain": [
       "<Figure size 576x576 with 1 Axes>"
      ]
     },
     "metadata": {
      "needs_background": "light"
     },
     "output_type": "display_data"
    }
   ],
   "source": [
    "qqplot_unif(results)"
   ]
  },
  {
   "cell_type": "markdown",
   "id": "09b7c702-aab5-49ba-b40c-cb3d9b912bd2",
   "metadata": {},
   "source": [
    "### LV800"
   ]
  },
  {
   "cell_type": "code",
   "execution_count": 67,
   "id": "be728e80-b79d-4523-ad08-45ad0842cc4a",
   "metadata": {},
   "outputs": [],
   "source": [
    "lv_code = \"LV800\""
   ]
  },
  {
   "cell_type": "code",
   "execution_count": 68,
   "id": "dcc1d33a-cac3-4f20-80b5-d688cc3eaedc",
   "metadata": {},
   "outputs": [],
   "source": [
    "results = dfs[dfs[\"lv\"] == lv_code]"
   ]
  },
  {
   "cell_type": "code",
   "execution_count": 69,
   "id": "13f76ec8-c46b-4f24-b71a-ee60604f45a0",
   "metadata": {},
   "outputs": [
    {
     "data": {
      "text/plain": [
       "(1000, 7)"
      ]
     },
     "execution_count": 69,
     "metadata": {},
     "output_type": "execute_result"
    }
   ],
   "source": [
    "results.shape"
   ]
  },
  {
   "cell_type": "code",
   "execution_count": 70,
   "id": "e36343f6-0cd8-4c7e-a2b0-fd0a92e14dcf",
   "metadata": {},
   "outputs": [
    {
     "data": {
      "text/html": [
       "<div>\n",
       "<style scoped>\n",
       "    .dataframe tbody tr th:only-of-type {\n",
       "        vertical-align: middle;\n",
       "    }\n",
       "\n",
       "    .dataframe tbody tr th {\n",
       "        vertical-align: top;\n",
       "    }\n",
       "\n",
       "    .dataframe thead th {\n",
       "        text-align: right;\n",
       "    }\n",
       "</style>\n",
       "<table border=\"1\" class=\"dataframe\">\n",
       "  <thead>\n",
       "    <tr style=\"text-align: right;\">\n",
       "      <th></th>\n",
       "      <th>lv</th>\n",
       "      <th>beta</th>\n",
       "      <th>beta_se</th>\n",
       "      <th>t</th>\n",
       "      <th>pvalue_twosided</th>\n",
       "      <th>pvalue_onesided</th>\n",
       "      <th>phenotype</th>\n",
       "    </tr>\n",
       "  </thead>\n",
       "  <tbody>\n",
       "    <tr>\n",
       "      <th>99</th>\n",
       "      <td>LV800</td>\n",
       "      <td>0.187133</td>\n",
       "      <td>0.154027</td>\n",
       "      <td>1.214938</td>\n",
       "      <td>0.224434</td>\n",
       "      <td>0.112217</td>\n",
       "      <td>random.pheno988</td>\n",
       "    </tr>\n",
       "    <tr>\n",
       "      <th>1394</th>\n",
       "      <td>LV800</td>\n",
       "      <td>0.019546</td>\n",
       "      <td>0.154291</td>\n",
       "      <td>0.126680</td>\n",
       "      <td>0.899197</td>\n",
       "      <td>0.449599</td>\n",
       "      <td>random.pheno589</td>\n",
       "    </tr>\n",
       "    <tr>\n",
       "      <th>2784</th>\n",
       "      <td>LV800</td>\n",
       "      <td>-0.139643</td>\n",
       "      <td>0.154077</td>\n",
       "      <td>-0.906320</td>\n",
       "      <td>0.364800</td>\n",
       "      <td>0.817600</td>\n",
       "      <td>random.pheno385</td>\n",
       "    </tr>\n",
       "    <tr>\n",
       "      <th>3708</th>\n",
       "      <td>LV800</td>\n",
       "      <td>-0.102996</td>\n",
       "      <td>0.154082</td>\n",
       "      <td>-0.668450</td>\n",
       "      <td>0.503870</td>\n",
       "      <td>0.748065</td>\n",
       "      <td>random.pheno5</td>\n",
       "    </tr>\n",
       "    <tr>\n",
       "      <th>4325</th>\n",
       "      <td>LV800</td>\n",
       "      <td>0.032111</td>\n",
       "      <td>0.154249</td>\n",
       "      <td>0.208177</td>\n",
       "      <td>0.835097</td>\n",
       "      <td>0.417549</td>\n",
       "      <td>random.pheno74</td>\n",
       "    </tr>\n",
       "  </tbody>\n",
       "</table>\n",
       "</div>"
      ],
      "text/plain": [
       "         lv      beta   beta_se         t  pvalue_twosided  pvalue_onesided  \\\n",
       "99    LV800  0.187133  0.154027  1.214938         0.224434         0.112217   \n",
       "1394  LV800  0.019546  0.154291  0.126680         0.899197         0.449599   \n",
       "2784  LV800 -0.139643  0.154077 -0.906320         0.364800         0.817600   \n",
       "3708  LV800 -0.102996  0.154082 -0.668450         0.503870         0.748065   \n",
       "4325  LV800  0.032111  0.154249  0.208177         0.835097         0.417549   \n",
       "\n",
       "            phenotype  \n",
       "99    random.pheno988  \n",
       "1394  random.pheno589  \n",
       "2784  random.pheno385  \n",
       "3708    random.pheno5  \n",
       "4325   random.pheno74  "
      ]
     },
     "execution_count": 70,
     "metadata": {},
     "output_type": "execute_result"
    }
   ],
   "source": [
    "results.head()"
   ]
  },
  {
   "cell_type": "markdown",
   "id": "1c290830-eefa-4f8a-acb2-0136bf8fda34",
   "metadata": {},
   "source": [
    "#### Mean type I errors at different thresholds"
   ]
  },
  {
   "cell_type": "code",
   "execution_count": 71,
   "id": "3b9ab0d0-3598-40ad-88f6-a8ac62663327",
   "metadata": {},
   "outputs": [
    {
     "data": {
      "text/plain": [
       "0.022"
      ]
     },
     "execution_count": 71,
     "metadata": {},
     "output_type": "execute_result"
    }
   ],
   "source": [
    "show_prop(results, 0.01)"
   ]
  },
  {
   "cell_type": "code",
   "execution_count": 72,
   "id": "279d7a22-def7-46f8-8e9f-dbcb5ab28ac5",
   "metadata": {},
   "outputs": [
    {
     "data": {
      "text/plain": [
       "0.066"
      ]
     },
     "execution_count": 72,
     "metadata": {},
     "output_type": "execute_result"
    }
   ],
   "source": [
    "show_prop(results, 0.05)"
   ]
  },
  {
   "cell_type": "code",
   "execution_count": 73,
   "id": "13dcb4db-64b3-464c-87de-2c586b5e7db1",
   "metadata": {},
   "outputs": [
    {
     "data": {
      "text/plain": [
       "0.102"
      ]
     },
     "execution_count": 73,
     "metadata": {},
     "output_type": "execute_result"
    }
   ],
   "source": [
    "show_prop(results, 0.10)"
   ]
  },
  {
   "cell_type": "code",
   "execution_count": 74,
   "id": "431c3f4c-31fe-421e-ada3-5977d130b637",
   "metadata": {},
   "outputs": [
    {
     "data": {
      "text/plain": [
       "0.151"
      ]
     },
     "execution_count": 74,
     "metadata": {},
     "output_type": "execute_result"
    }
   ],
   "source": [
    "show_prop(results, 0.15)"
   ]
  },
  {
   "cell_type": "code",
   "execution_count": 75,
   "id": "a3b9acbb-e075-45f0-9837-9ca4b593a912",
   "metadata": {},
   "outputs": [
    {
     "data": {
      "text/plain": [
       "0.198"
      ]
     },
     "execution_count": 75,
     "metadata": {},
     "output_type": "execute_result"
    }
   ],
   "source": [
    "show_prop(results, 0.20)"
   ]
  },
  {
   "cell_type": "markdown",
   "id": "0190cad7-7008-4d4b-b868-f681f819959b",
   "metadata": {},
   "source": [
    "#### QQplot"
   ]
  },
  {
   "cell_type": "code",
   "execution_count": 76,
   "id": "2cd521a5-249c-4695-b694-a50df389fd21",
   "metadata": {},
   "outputs": [
    {
     "data": {
      "image/png": "[encoded data removed]",
      "text/plain": [
       "<Figure size 576x576 with 1 Axes>"
      ]
     },
     "metadata": {
      "needs_background": "light"
     },
     "output_type": "display_data"
    }
   ],
   "source": [
    "qqplot_unif(results)"
   ]
  },
  {
   "cell_type": "markdown",
   "id": "5255d9dc-dbe6-4190-b040-210af2db4f10",
   "metadata": {},
   "source": [
    "### LV914"
   ]
  },
  {
   "cell_type": "markdown",
   "id": "9089c855-207b-4185-a7b1-41b775c47cd4",
   "metadata": {},
   "source": [
    "This one is not corrected here, I analyze it below."
   ]
  },
  {
   "cell_type": "markdown",
   "id": "5a289581-af27-4359-b765-b76e5ba6b77d",
   "metadata": {},
   "source": [
    "### LV189"
   ]
  },
  {
   "cell_type": "code",
   "execution_count": 77,
   "id": "70f99ae2-c0da-4569-83c8-a270714eeb29",
   "metadata": {},
   "outputs": [],
   "source": [
    "lv_code = \"LV189\""
   ]
  },
  {
   "cell_type": "code",
   "execution_count": 78,
   "id": "f616891c-9664-4de8-8017-c5d52c75cf15",
   "metadata": {},
   "outputs": [],
   "source": [
    "results = dfs[dfs[\"lv\"] == lv_code]"
   ]
  },
  {
   "cell_type": "code",
   "execution_count": 79,
   "id": "f18dd59a-cf9f-4852-93da-50cf08f22014",
   "metadata": {},
   "outputs": [
    {
     "data": {
      "text/plain": [
       "(1000, 7)"
      ]
     },
     "execution_count": 79,
     "metadata": {},
     "output_type": "execute_result"
    }
   ],
   "source": [
    "results.shape"
   ]
  },
  {
   "cell_type": "code",
   "execution_count": 80,
   "id": "2d9cbf2c-b08c-4d46-91d6-cf012b5e4f59",
   "metadata": {},
   "outputs": [
    {
     "data": {
      "text/html": [
       "<div>\n",
       "<style scoped>\n",
       "    .dataframe tbody tr th:only-of-type {\n",
       "        vertical-align: middle;\n",
       "    }\n",
       "\n",
       "    .dataframe tbody tr th {\n",
       "        vertical-align: top;\n",
       "    }\n",
       "\n",
       "    .dataframe thead th {\n",
       "        text-align: right;\n",
       "    }\n",
       "</style>\n",
       "<table border=\"1\" class=\"dataframe\">\n",
       "  <thead>\n",
       "    <tr style=\"text-align: right;\">\n",
       "      <th></th>\n",
       "      <th>lv</th>\n",
       "      <th>beta</th>\n",
       "      <th>beta_se</th>\n",
       "      <th>t</th>\n",
       "      <th>pvalue_twosided</th>\n",
       "      <th>pvalue_onesided</th>\n",
       "      <th>phenotype</th>\n",
       "    </tr>\n",
       "  </thead>\n",
       "  <tbody>\n",
       "    <tr>\n",
       "      <th>929</th>\n",
       "      <td>LV189</td>\n",
       "      <td>-0.208970</td>\n",
       "      <td>0.136930</td>\n",
       "      <td>-1.526110</td>\n",
       "      <td>0.127032</td>\n",
       "      <td>0.936484</td>\n",
       "      <td>random.pheno988</td>\n",
       "    </tr>\n",
       "    <tr>\n",
       "      <th>1062</th>\n",
       "      <td>LV189</td>\n",
       "      <td>0.190048</td>\n",
       "      <td>0.137184</td>\n",
       "      <td>1.385352</td>\n",
       "      <td>0.165993</td>\n",
       "      <td>0.082996</td>\n",
       "      <td>random.pheno589</td>\n",
       "    </tr>\n",
       "    <tr>\n",
       "      <th>2297</th>\n",
       "      <td>LV189</td>\n",
       "      <td>0.051232</td>\n",
       "      <td>0.136974</td>\n",
       "      <td>0.374024</td>\n",
       "      <td>0.708399</td>\n",
       "      <td>0.354199</td>\n",
       "      <td>random.pheno385</td>\n",
       "    </tr>\n",
       "    <tr>\n",
       "      <th>3335</th>\n",
       "      <td>LV189</td>\n",
       "      <td>0.040874</td>\n",
       "      <td>0.137051</td>\n",
       "      <td>0.298238</td>\n",
       "      <td>0.765532</td>\n",
       "      <td>0.382766</td>\n",
       "      <td>random.pheno5</td>\n",
       "    </tr>\n",
       "    <tr>\n",
       "      <th>4377</th>\n",
       "      <td>LV189</td>\n",
       "      <td>0.013562</td>\n",
       "      <td>0.137036</td>\n",
       "      <td>0.098966</td>\n",
       "      <td>0.921169</td>\n",
       "      <td>0.460584</td>\n",
       "      <td>random.pheno74</td>\n",
       "    </tr>\n",
       "  </tbody>\n",
       "</table>\n",
       "</div>"
      ],
      "text/plain": [
       "         lv      beta   beta_se         t  pvalue_twosided  pvalue_onesided  \\\n",
       "929   LV189 -0.208970  0.136930 -1.526110         0.127032         0.936484   \n",
       "1062  LV189  0.190048  0.137184  1.385352         0.165993         0.082996   \n",
       "2297  LV189  0.051232  0.136974  0.374024         0.708399         0.354199   \n",
       "3335  LV189  0.040874  0.137051  0.298238         0.765532         0.382766   \n",
       "4377  LV189  0.013562  0.137036  0.098966         0.921169         0.460584   \n",
       "\n",
       "            phenotype  \n",
       "929   random.pheno988  \n",
       "1062  random.pheno589  \n",
       "2297  random.pheno385  \n",
       "3335    random.pheno5  \n",
       "4377   random.pheno74  "
      ]
     },
     "execution_count": 80,
     "metadata": {},
     "output_type": "execute_result"
    }
   ],
   "source": [
    "results.head()"
   ]
  },
  {
   "cell_type": "markdown",
   "id": "c08f6aa2-d333-4997-bdbb-df45ec6461c3",
   "metadata": {},
   "source": [
    "#### Mean type I errors at different thresholds"
   ]
  },
  {
   "cell_type": "code",
   "execution_count": 81,
   "id": "45170182-b3f8-41b8-8d4a-27e5357a1723",
   "metadata": {},
   "outputs": [
    {
     "data": {
      "text/plain": [
       "0.022"
      ]
     },
     "execution_count": 81,
     "metadata": {},
     "output_type": "execute_result"
    }
   ],
   "source": [
    "show_prop(results, 0.01)"
   ]
  },
  {
   "cell_type": "code",
   "execution_count": 82,
   "id": "15a320e5-76b4-462c-91f0-02b2d2a4c281",
   "metadata": {},
   "outputs": [
    {
     "data": {
      "text/plain": [
       "0.073"
      ]
     },
     "execution_count": 82,
     "metadata": {},
     "output_type": "execute_result"
    }
   ],
   "source": [
    "show_prop(results, 0.05)"
   ]
  },
  {
   "cell_type": "code",
   "execution_count": 83,
   "id": "8740d710-1e2d-447d-915d-1a2735a17021",
   "metadata": {},
   "outputs": [
    {
     "data": {
      "text/plain": [
       "0.127"
      ]
     },
     "execution_count": 83,
     "metadata": {},
     "output_type": "execute_result"
    }
   ],
   "source": [
    "show_prop(results, 0.10)"
   ]
  },
  {
   "cell_type": "code",
   "execution_count": 84,
   "id": "82681aa8-53c4-4c20-992d-4e29c78f9933",
   "metadata": {},
   "outputs": [
    {
     "data": {
      "text/plain": [
       "0.18"
      ]
     },
     "execution_count": 84,
     "metadata": {},
     "output_type": "execute_result"
    }
   ],
   "source": [
    "show_prop(results, 0.15)"
   ]
  },
  {
   "cell_type": "code",
   "execution_count": 85,
   "id": "730803db-f0bc-4044-ab4a-d73cc026f51b",
   "metadata": {},
   "outputs": [
    {
     "data": {
      "text/plain": [
       "0.23"
      ]
     },
     "execution_count": 85,
     "metadata": {},
     "output_type": "execute_result"
    }
   ],
   "source": [
    "show_prop(results, 0.20)"
   ]
  },
  {
   "cell_type": "markdown",
   "id": "e86c01b1-cda2-4905-aed1-9f5c659b0f9c",
   "metadata": {},
   "source": [
    "#### QQplot"
   ]
  },
  {
   "cell_type": "code",
   "execution_count": 86,
   "id": "8bf2f7d7-b272-41cf-8805-f5c72c811aab",
   "metadata": {},
   "outputs": [
    {
     "data": {
      "image/png": "[encoded data removed]",
      "text/plain": [
       "<Figure size 576x576 with 1 Axes>"
      ]
     },
     "metadata": {
      "needs_background": "light"
     },
     "output_type": "display_data"
    }
   ],
   "source": [
    "qqplot_unif(results)"
   ]
  },
  {
   "cell_type": "markdown",
   "id": "59a7fbe4-0dd7-4aa3-8853-8b52f6c488a2",
   "metadata": {},
   "source": [
    "## LVs with expected mean type I error"
   ]
  },
  {
   "cell_type": "markdown",
   "id": "4a52b497-cefa-4cf7-9638-23aeef11d1d1",
   "metadata": {},
   "source": [
    "Here I make sure the well calibrated LVs in the OLS model are still well calibrated here."
   ]
  },
  {
   "cell_type": "code",
   "execution_count": 87,
   "id": "ce2afb72-b7e6-460c-a1d4-f85e65086626",
   "metadata": {},
   "outputs": [
    {
     "data": {
      "text/html": [
       "<div>\n",
       "<style scoped>\n",
       "    .dataframe tbody tr th:only-of-type {\n",
       "        vertical-align: middle;\n",
       "    }\n",
       "\n",
       "    .dataframe tbody tr th {\n",
       "        vertical-align: top;\n",
       "    }\n",
       "\n",
       "    .dataframe thead th {\n",
       "        text-align: right;\n",
       "    }\n",
       "</style>\n",
       "<table border=\"1\" class=\"dataframe\">\n",
       "  <thead>\n",
       "    <tr style=\"text-align: right;\">\n",
       "      <th></th>\n",
       "      <th>lv</th>\n",
       "      <th>1</th>\n",
       "      <th>5</th>\n",
       "      <th>10</th>\n",
       "    </tr>\n",
       "  </thead>\n",
       "  <tbody>\n",
       "    <tr>\n",
       "      <th>334</th>\n",
       "      <td>LV40</td>\n",
       "      <td>0.018</td>\n",
       "      <td>0.049</td>\n",
       "      <td>0.097</td>\n",
       "    </tr>\n",
       "    <tr>\n",
       "      <th>828</th>\n",
       "      <td>LV845</td>\n",
       "      <td>0.012</td>\n",
       "      <td>0.049</td>\n",
       "      <td>0.093</td>\n",
       "    </tr>\n",
       "    <tr>\n",
       "      <th>431</th>\n",
       "      <td>LV488</td>\n",
       "      <td>0.012</td>\n",
       "      <td>0.049</td>\n",
       "      <td>0.099</td>\n",
       "    </tr>\n",
       "    <tr>\n",
       "      <th>767</th>\n",
       "      <td>LV790</td>\n",
       "      <td>0.013</td>\n",
       "      <td>0.049</td>\n",
       "      <td>0.099</td>\n",
       "    </tr>\n",
       "    <tr>\n",
       "      <th>324</th>\n",
       "      <td>LV391</td>\n",
       "      <td>0.013</td>\n",
       "      <td>0.049</td>\n",
       "      <td>0.096</td>\n",
       "    </tr>\n",
       "    <tr>\n",
       "      <th>838</th>\n",
       "      <td>LV854</td>\n",
       "      <td>0.016</td>\n",
       "      <td>0.049</td>\n",
       "      <td>0.086</td>\n",
       "    </tr>\n",
       "    <tr>\n",
       "      <th>843</th>\n",
       "      <td>LV859</td>\n",
       "      <td>0.013</td>\n",
       "      <td>0.049</td>\n",
       "      <td>0.086</td>\n",
       "    </tr>\n",
       "    <tr>\n",
       "      <th>760</th>\n",
       "      <td>LV784</td>\n",
       "      <td>0.011</td>\n",
       "      <td>0.049</td>\n",
       "      <td>0.082</td>\n",
       "    </tr>\n",
       "    <tr>\n",
       "      <th>754</th>\n",
       "      <td>LV779</td>\n",
       "      <td>0.011</td>\n",
       "      <td>0.049</td>\n",
       "      <td>0.091</td>\n",
       "    </tr>\n",
       "    <tr>\n",
       "      <th>251</th>\n",
       "      <td>LV325</td>\n",
       "      <td>0.015</td>\n",
       "      <td>0.049</td>\n",
       "      <td>0.095</td>\n",
       "    </tr>\n",
       "    <tr>\n",
       "      <th>460</th>\n",
       "      <td>LV513</td>\n",
       "      <td>0.008</td>\n",
       "      <td>0.049</td>\n",
       "      <td>0.099</td>\n",
       "    </tr>\n",
       "    <tr>\n",
       "      <th>876</th>\n",
       "      <td>LV889</td>\n",
       "      <td>0.014</td>\n",
       "      <td>0.049</td>\n",
       "      <td>0.102</td>\n",
       "    </tr>\n",
       "    <tr>\n",
       "      <th>880</th>\n",
       "      <td>LV892</td>\n",
       "      <td>0.013</td>\n",
       "      <td>0.049</td>\n",
       "      <td>0.102</td>\n",
       "    </tr>\n",
       "    <tr>\n",
       "      <th>507</th>\n",
       "      <td>LV556</td>\n",
       "      <td>0.012</td>\n",
       "      <td>0.049</td>\n",
       "      <td>0.094</td>\n",
       "    </tr>\n",
       "    <tr>\n",
       "      <th>899</th>\n",
       "      <td>LV909</td>\n",
       "      <td>0.014</td>\n",
       "      <td>0.049</td>\n",
       "      <td>0.112</td>\n",
       "    </tr>\n",
       "    <tr>\n",
       "      <th>148</th>\n",
       "      <td>LV232</td>\n",
       "      <td>0.007</td>\n",
       "      <td>0.049</td>\n",
       "      <td>0.093</td>\n",
       "    </tr>\n",
       "    <tr>\n",
       "      <th>654</th>\n",
       "      <td>LV689</td>\n",
       "      <td>0.008</td>\n",
       "      <td>0.049</td>\n",
       "      <td>0.094</td>\n",
       "    </tr>\n",
       "    <tr>\n",
       "      <th>16</th>\n",
       "      <td>LV113</td>\n",
       "      <td>0.007</td>\n",
       "      <td>0.049</td>\n",
       "      <td>0.093</td>\n",
       "    </tr>\n",
       "    <tr>\n",
       "      <th>607</th>\n",
       "      <td>LV646</td>\n",
       "      <td>0.015</td>\n",
       "      <td>0.049</td>\n",
       "      <td>0.087</td>\n",
       "    </tr>\n",
       "    <tr>\n",
       "      <th>560</th>\n",
       "      <td>LV603</td>\n",
       "      <td>0.014</td>\n",
       "      <td>0.049</td>\n",
       "      <td>0.098</td>\n",
       "    </tr>\n",
       "  </tbody>\n",
       "</table>\n",
       "</div>"
      ],
      "text/plain": [
       "        lv      1      5     10\n",
       "334   LV40  0.018  0.049  0.097\n",
       "828  LV845  0.012  0.049  0.093\n",
       "431  LV488  0.012  0.049  0.099\n",
       "767  LV790  0.013  0.049  0.099\n",
       "324  LV391  0.013  0.049  0.096\n",
       "838  LV854  0.016  0.049  0.086\n",
       "843  LV859  0.013  0.049  0.086\n",
       "760  LV784  0.011  0.049  0.082\n",
       "754  LV779  0.011  0.049  0.091\n",
       "251  LV325  0.015  0.049  0.095\n",
       "460  LV513  0.008  0.049  0.099\n",
       "876  LV889  0.014  0.049  0.102\n",
       "880  LV892  0.013  0.049  0.102\n",
       "507  LV556  0.012  0.049  0.094\n",
       "899  LV909  0.014  0.049  0.112\n",
       "148  LV232  0.007  0.049  0.093\n",
       "654  LV689  0.008  0.049  0.094\n",
       "16   LV113  0.007  0.049  0.093\n",
       "607  LV646  0.015  0.049  0.087\n",
       "560  LV603  0.014  0.049  0.098"
      ]
     },
     "metadata": {},
     "output_type": "display_data"
    }
   ],
   "source": [
    "display(lvs_expected_error.sort_values(\"5\").head(20))"
   ]
  },
  {
   "cell_type": "markdown",
   "id": "9dd51c52-09e1-4b42-a8b6-ebd2eb30ab17",
   "metadata": {},
   "source": [
    "Here I'm manually selecting from this list, since I want those that are well calibrated across different p-value thresholds."
   ]
  },
  {
   "cell_type": "markdown",
   "id": "28814b98-a72e-453f-b029-7ac950123ee6",
   "metadata": {},
   "source": [
    "### LV924"
   ]
  },
  {
   "cell_type": "code",
   "execution_count": 88,
   "id": "933ff234-5531-4372-bae7-21dbf9a6a7be",
   "metadata": {},
   "outputs": [],
   "source": [
    "lv_code = \"LV924\""
   ]
  },
  {
   "cell_type": "code",
   "execution_count": 89,
   "id": "8ee3b993-d3c8-48a3-98e5-f8cc4ec44a21",
   "metadata": {},
   "outputs": [],
   "source": [
    "results = dfs[dfs[\"lv\"] == lv_code]"
   ]
  },
  {
   "cell_type": "code",
   "execution_count": 90,
   "id": "700dfa79-fd9e-46f7-8162-4e7ee5f37c07",
   "metadata": {},
   "outputs": [
    {
     "data": {
      "text/plain": [
       "(1000, 7)"
      ]
     },
     "execution_count": 90,
     "metadata": {},
     "output_type": "execute_result"
    }
   ],
   "source": [
    "results.shape"
   ]
  },
  {
   "cell_type": "code",
   "execution_count": 91,
   "id": "69dfb800-0a94-40de-bdba-f99580e6ac97",
   "metadata": {},
   "outputs": [
    {
     "data": {
      "text/html": [
       "<div>\n",
       "<style scoped>\n",
       "    .dataframe tbody tr th:only-of-type {\n",
       "        vertical-align: middle;\n",
       "    }\n",
       "\n",
       "    .dataframe tbody tr th {\n",
       "        vertical-align: top;\n",
       "    }\n",
       "\n",
       "    .dataframe thead th {\n",
       "        text-align: right;\n",
       "    }\n",
       "</style>\n",
       "<table border=\"1\" class=\"dataframe\">\n",
       "  <thead>\n",
       "    <tr style=\"text-align: right;\">\n",
       "      <th></th>\n",
       "      <th>lv</th>\n",
       "      <th>beta</th>\n",
       "      <th>beta_se</th>\n",
       "      <th>t</th>\n",
       "      <th>pvalue_twosided</th>\n",
       "      <th>pvalue_onesided</th>\n",
       "      <th>phenotype</th>\n",
       "    </tr>\n",
       "  </thead>\n",
       "  <tbody>\n",
       "    <tr>\n",
       "      <th>520</th>\n",
       "      <td>LV924</td>\n",
       "      <td>-0.024983</td>\n",
       "      <td>0.126633</td>\n",
       "      <td>-0.197291</td>\n",
       "      <td>0.843606</td>\n",
       "      <td>0.578197</td>\n",
       "      <td>random.pheno988</td>\n",
       "    </tr>\n",
       "    <tr>\n",
       "      <th>1679</th>\n",
       "      <td>LV924</td>\n",
       "      <td>-0.082500</td>\n",
       "      <td>0.126848</td>\n",
       "      <td>-0.650384</td>\n",
       "      <td>0.515467</td>\n",
       "      <td>0.742266</td>\n",
       "      <td>random.pheno589</td>\n",
       "    </tr>\n",
       "    <tr>\n",
       "      <th>2502</th>\n",
       "      <td>LV924</td>\n",
       "      <td>-0.012369</td>\n",
       "      <td>0.126714</td>\n",
       "      <td>-0.097615</td>\n",
       "      <td>0.922241</td>\n",
       "      <td>0.538879</td>\n",
       "      <td>random.pheno385</td>\n",
       "    </tr>\n",
       "    <tr>\n",
       "      <th>3337</th>\n",
       "      <td>LV924</td>\n",
       "      <td>0.037117</td>\n",
       "      <td>0.126748</td>\n",
       "      <td>0.292840</td>\n",
       "      <td>0.769654</td>\n",
       "      <td>0.384827</td>\n",
       "      <td>random.pheno5</td>\n",
       "    </tr>\n",
       "    <tr>\n",
       "      <th>4928</th>\n",
       "      <td>LV924</td>\n",
       "      <td>-0.276650</td>\n",
       "      <td>0.126795</td>\n",
       "      <td>-2.181872</td>\n",
       "      <td>0.029155</td>\n",
       "      <td>0.985422</td>\n",
       "      <td>random.pheno74</td>\n",
       "    </tr>\n",
       "  </tbody>\n",
       "</table>\n",
       "</div>"
      ],
      "text/plain": [
       "         lv      beta   beta_se         t  pvalue_twosided  pvalue_onesided  \\\n",
       "520   LV924 -0.024983  0.126633 -0.197291         0.843606         0.578197   \n",
       "1679  LV924 -0.082500  0.126848 -0.650384         0.515467         0.742266   \n",
       "2502  LV924 -0.012369  0.126714 -0.097615         0.922241         0.538879   \n",
       "3337  LV924  0.037117  0.126748  0.292840         0.769654         0.384827   \n",
       "4928  LV924 -0.276650  0.126795 -2.181872         0.029155         0.985422   \n",
       "\n",
       "            phenotype  \n",
       "520   random.pheno988  \n",
       "1679  random.pheno589  \n",
       "2502  random.pheno385  \n",
       "3337    random.pheno5  \n",
       "4928   random.pheno74  "
      ]
     },
     "execution_count": 91,
     "metadata": {},
     "output_type": "execute_result"
    }
   ],
   "source": [
    "results.head()"
   ]
  },
  {
   "cell_type": "markdown",
   "id": "c76d79cb-07f1-4b79-a912-4efe4059fed6",
   "metadata": {},
   "source": [
    "#### Mean type I errors at different thresholds"
   ]
  },
  {
   "cell_type": "code",
   "execution_count": 92,
   "id": "225ea884-d878-436c-93cc-256c0d5ae901",
   "metadata": {},
   "outputs": [
    {
     "data": {
      "text/plain": [
       "0.009"
      ]
     },
     "execution_count": 92,
     "metadata": {},
     "output_type": "execute_result"
    }
   ],
   "source": [
    "show_prop(results, 0.01)"
   ]
  },
  {
   "cell_type": "code",
   "execution_count": 93,
   "id": "92d1c844-84f9-4015-ab48-73d2f6a767c5",
   "metadata": {},
   "outputs": [
    {
     "data": {
      "text/plain": [
       "0.043"
      ]
     },
     "execution_count": 93,
     "metadata": {},
     "output_type": "execute_result"
    }
   ],
   "source": [
    "show_prop(results, 0.05)"
   ]
  },
  {
   "cell_type": "code",
   "execution_count": 94,
   "id": "3151eee1-eb97-4369-8ae4-a10b250de970",
   "metadata": {},
   "outputs": [
    {
     "data": {
      "text/plain": [
       "0.092"
      ]
     },
     "execution_count": 94,
     "metadata": {},
     "output_type": "execute_result"
    }
   ],
   "source": [
    "show_prop(results, 0.10)"
   ]
  },
  {
   "cell_type": "code",
   "execution_count": 95,
   "id": "722f7d9f-9788-4589-814b-bd5c6dcf82bf",
   "metadata": {},
   "outputs": [
    {
     "data": {
      "text/plain": [
       "0.14"
      ]
     },
     "execution_count": 95,
     "metadata": {},
     "output_type": "execute_result"
    }
   ],
   "source": [
    "show_prop(results, 0.15)"
   ]
  },
  {
   "cell_type": "code",
   "execution_count": 96,
   "id": "e69b93c6-d246-4228-97a1-3c5783eb8d3d",
   "metadata": {},
   "outputs": [
    {
     "data": {
      "text/plain": [
       "0.177"
      ]
     },
     "execution_count": 96,
     "metadata": {},
     "output_type": "execute_result"
    }
   ],
   "source": [
    "show_prop(results, 0.20)"
   ]
  },
  {
   "cell_type": "markdown",
   "id": "e3bb9c47-46b1-4626-88c2-0442fdfa2a6a",
   "metadata": {},
   "source": [
    "#### QQplot"
   ]
  },
  {
   "cell_type": "code",
   "execution_count": 97,
   "id": "6c197eac-8928-45b7-8210-064bc1635399",
   "metadata": {},
   "outputs": [
    {
     "data": {
      "image/png": "[encoded data removed]",
      "text/plain": [
       "<Figure size 576x576 with 1 Axes>"
      ]
     },
     "metadata": {
      "needs_background": "light"
     },
     "output_type": "display_data"
    }
   ],
   "source": [
    "qqplot_unif(results)"
   ]
  },
  {
   "cell_type": "markdown",
   "id": "bc090578-b4ce-4761-ad41-2578dc65e10e",
   "metadata": {},
   "source": [
    "Hm, well calibrated in general, but with one small pvalue."
   ]
  },
  {
   "cell_type": "markdown",
   "id": "4ccc8640-ea0d-4368-bf76-b919e5d33409",
   "metadata": {},
   "source": [
    "### LV675"
   ]
  },
  {
   "cell_type": "code",
   "execution_count": 98,
   "id": "8a6316a3-dcde-4dcd-a09c-6f38cd47f7e8",
   "metadata": {},
   "outputs": [],
   "source": [
    "lv_code = \"LV675\""
   ]
  },
  {
   "cell_type": "code",
   "execution_count": 99,
   "id": "7ddac650-36ac-4f2f-8a27-95e6c1461647",
   "metadata": {},
   "outputs": [],
   "source": [
    "results = dfs[dfs[\"lv\"] == lv_code]"
   ]
  },
  {
   "cell_type": "code",
   "execution_count": 100,
   "id": "695743ec-cb80-4b3e-9a0d-4d4d594e7ed2",
   "metadata": {},
   "outputs": [
    {
     "data": {
      "text/plain": [
       "(1000, 7)"
      ]
     },
     "execution_count": 100,
     "metadata": {},
     "output_type": "execute_result"
    }
   ],
   "source": [
    "results.shape"
   ]
  },
  {
   "cell_type": "code",
   "execution_count": 101,
   "id": "1622bce0-94e7-45bf-8109-b7f6c9c12e42",
   "metadata": {},
   "outputs": [
    {
     "data": {
      "text/html": [
       "<div>\n",
       "<style scoped>\n",
       "    .dataframe tbody tr th:only-of-type {\n",
       "        vertical-align: middle;\n",
       "    }\n",
       "\n",
       "    .dataframe tbody tr th {\n",
       "        vertical-align: top;\n",
       "    }\n",
       "\n",
       "    .dataframe thead th {\n",
       "        text-align: right;\n",
       "    }\n",
       "</style>\n",
       "<table border=\"1\" class=\"dataframe\">\n",
       "  <thead>\n",
       "    <tr style=\"text-align: right;\">\n",
       "      <th></th>\n",
       "      <th>lv</th>\n",
       "      <th>beta</th>\n",
       "      <th>beta_se</th>\n",
       "      <th>t</th>\n",
       "      <th>pvalue_twosided</th>\n",
       "      <th>pvalue_onesided</th>\n",
       "      <th>phenotype</th>\n",
       "    </tr>\n",
       "  </thead>\n",
       "  <tbody>\n",
       "    <tr>\n",
       "      <th>928</th>\n",
       "      <td>LV675</td>\n",
       "      <td>-0.191674</td>\n",
       "      <td>0.126134</td>\n",
       "      <td>-1.519607</td>\n",
       "      <td>0.128659</td>\n",
       "      <td>0.935670</td>\n",
       "      <td>random.pheno988</td>\n",
       "    </tr>\n",
       "    <tr>\n",
       "      <th>1436</th>\n",
       "      <td>LV675</td>\n",
       "      <td>0.001291</td>\n",
       "      <td>0.126385</td>\n",
       "      <td>0.010213</td>\n",
       "      <td>0.991851</td>\n",
       "      <td>0.495926</td>\n",
       "      <td>random.pheno589</td>\n",
       "    </tr>\n",
       "    <tr>\n",
       "      <th>2165</th>\n",
       "      <td>LV675</td>\n",
       "      <td>0.107253</td>\n",
       "      <td>0.126235</td>\n",
       "      <td>0.849629</td>\n",
       "      <td>0.395563</td>\n",
       "      <td>0.197782</td>\n",
       "      <td>random.pheno385</td>\n",
       "    </tr>\n",
       "    <tr>\n",
       "      <th>3781</th>\n",
       "      <td>LV675</td>\n",
       "      <td>-0.111565</td>\n",
       "      <td>0.126241</td>\n",
       "      <td>-0.883745</td>\n",
       "      <td>0.376867</td>\n",
       "      <td>0.811567</td>\n",
       "      <td>random.pheno5</td>\n",
       "    </tr>\n",
       "    <tr>\n",
       "      <th>4348</th>\n",
       "      <td>LV675</td>\n",
       "      <td>0.019354</td>\n",
       "      <td>0.126364</td>\n",
       "      <td>0.153163</td>\n",
       "      <td>0.878275</td>\n",
       "      <td>0.439137</td>\n",
       "      <td>random.pheno74</td>\n",
       "    </tr>\n",
       "  </tbody>\n",
       "</table>\n",
       "</div>"
      ],
      "text/plain": [
       "         lv      beta   beta_se         t  pvalue_twosided  pvalue_onesided  \\\n",
       "928   LV675 -0.191674  0.126134 -1.519607         0.128659         0.935670   \n",
       "1436  LV675  0.001291  0.126385  0.010213         0.991851         0.495926   \n",
       "2165  LV675  0.107253  0.126235  0.849629         0.395563         0.197782   \n",
       "3781  LV675 -0.111565  0.126241 -0.883745         0.376867         0.811567   \n",
       "4348  LV675  0.019354  0.126364  0.153163         0.878275         0.439137   \n",
       "\n",
       "            phenotype  \n",
       "928   random.pheno988  \n",
       "1436  random.pheno589  \n",
       "2165  random.pheno385  \n",
       "3781    random.pheno5  \n",
       "4348   random.pheno74  "
      ]
     },
     "execution_count": 101,
     "metadata": {},
     "output_type": "execute_result"
    }
   ],
   "source": [
    "results.head()"
   ]
  },
  {
   "cell_type": "markdown",
   "id": "c63fc61a-a088-4bb8-bf67-f2444c4b33e7",
   "metadata": {},
   "source": [
    "#### Mean type I errors at different thresholds"
   ]
  },
  {
   "cell_type": "code",
   "execution_count": 102,
   "id": "112ad1e9-96bc-4ceb-a3c3-fc54101cf80f",
   "metadata": {},
   "outputs": [
    {
     "data": {
      "text/plain": [
       "0.01"
      ]
     },
     "execution_count": 102,
     "metadata": {},
     "output_type": "execute_result"
    }
   ],
   "source": [
    "show_prop(results, 0.01)"
   ]
  },
  {
   "cell_type": "code",
   "execution_count": 103,
   "id": "0b6975ec-97a5-4c81-91a4-ceacc4b7bc45",
   "metadata": {},
   "outputs": [
    {
     "data": {
      "text/plain": [
       "0.05"
      ]
     },
     "execution_count": 103,
     "metadata": {},
     "output_type": "execute_result"
    }
   ],
   "source": [
    "show_prop(results, 0.05)"
   ]
  },
  {
   "cell_type": "code",
   "execution_count": 104,
   "id": "30120730-d4d0-454a-97b6-88b7b34e4886",
   "metadata": {},
   "outputs": [
    {
     "data": {
      "text/plain": [
       "0.097"
      ]
     },
     "execution_count": 104,
     "metadata": {},
     "output_type": "execute_result"
    }
   ],
   "source": [
    "show_prop(results, 0.10)"
   ]
  },
  {
   "cell_type": "code",
   "execution_count": 105,
   "id": "9a143836-aeef-4ab5-ba45-fdb5d0bb8116",
   "metadata": {},
   "outputs": [
    {
     "data": {
      "text/plain": [
       "0.142"
      ]
     },
     "execution_count": 105,
     "metadata": {},
     "output_type": "execute_result"
    }
   ],
   "source": [
    "show_prop(results, 0.15)"
   ]
  },
  {
   "cell_type": "code",
   "execution_count": 106,
   "id": "362a1961-1636-4a0e-ab4b-b6f7a84c9eeb",
   "metadata": {},
   "outputs": [
    {
     "data": {
      "text/plain": [
       "0.196"
      ]
     },
     "execution_count": 106,
     "metadata": {},
     "output_type": "execute_result"
    }
   ],
   "source": [
    "show_prop(results, 0.20)"
   ]
  },
  {
   "cell_type": "markdown",
   "id": "073932a2-2306-4c44-8d1c-2ab137014c2d",
   "metadata": {},
   "source": [
    "#### QQplot"
   ]
  },
  {
   "cell_type": "code",
   "execution_count": 107,
   "id": "215b7c53-5e73-4a3a-8311-515cdbebbe6c",
   "metadata": {},
   "outputs": [
    {
     "data": {
      "image/png": "[encoded data removed]",
      "text/plain": [
       "<Figure size 576x576 with 1 Axes>"
      ]
     },
     "metadata": {
      "needs_background": "light"
     },
     "output_type": "display_data"
    }
   ],
   "source": [
    "qqplot_unif(results)"
   ]
  },
  {
   "cell_type": "markdown",
   "id": "e126e662-bcca-4b49-8d73-cddd4acf8157",
   "metadata": {},
   "source": [
    "### LV691"
   ]
  },
  {
   "cell_type": "code",
   "execution_count": 108,
   "id": "f1213f21-ce00-42e4-b77c-05f33ba3f079",
   "metadata": {},
   "outputs": [],
   "source": [
    "lv_code = \"LV691\""
   ]
  },
  {
   "cell_type": "code",
   "execution_count": 109,
   "id": "dc5c6871-76d3-48dd-8f11-e892101a4c62",
   "metadata": {},
   "outputs": [],
   "source": [
    "results = dfs[dfs[\"lv\"] == lv_code]"
   ]
  },
  {
   "cell_type": "code",
   "execution_count": 110,
   "id": "317fea64-1720-4be8-93c3-205a18b584b8",
   "metadata": {},
   "outputs": [
    {
     "data": {
      "text/plain": [
       "(1000, 7)"
      ]
     },
     "execution_count": 110,
     "metadata": {},
     "output_type": "execute_result"
    }
   ],
   "source": [
    "results.shape"
   ]
  },
  {
   "cell_type": "code",
   "execution_count": 111,
   "id": "c3dcb91b-cadf-407b-ac57-8c5aa9d333e5",
   "metadata": {},
   "outputs": [
    {
     "data": {
      "text/html": [
       "<div>\n",
       "<style scoped>\n",
       "    .dataframe tbody tr th:only-of-type {\n",
       "        vertical-align: middle;\n",
       "    }\n",
       "\n",
       "    .dataframe tbody tr th {\n",
       "        vertical-align: top;\n",
       "    }\n",
       "\n",
       "    .dataframe thead th {\n",
       "        text-align: right;\n",
       "    }\n",
       "</style>\n",
       "<table border=\"1\" class=\"dataframe\">\n",
       "  <thead>\n",
       "    <tr style=\"text-align: right;\">\n",
       "      <th></th>\n",
       "      <th>lv</th>\n",
       "      <th>beta</th>\n",
       "      <th>beta_se</th>\n",
       "      <th>t</th>\n",
       "      <th>pvalue_twosided</th>\n",
       "      <th>pvalue_onesided</th>\n",
       "      <th>phenotype</th>\n",
       "    </tr>\n",
       "  </thead>\n",
       "  <tbody>\n",
       "    <tr>\n",
       "      <th>104</th>\n",
       "      <td>LV691</td>\n",
       "      <td>0.150528</td>\n",
       "      <td>0.125778</td>\n",
       "      <td>1.196780</td>\n",
       "      <td>0.231436</td>\n",
       "      <td>0.115718</td>\n",
       "      <td>random.pheno988</td>\n",
       "    </tr>\n",
       "    <tr>\n",
       "      <th>1850</th>\n",
       "      <td>LV691</td>\n",
       "      <td>-0.144710</td>\n",
       "      <td>0.126008</td>\n",
       "      <td>-1.148421</td>\n",
       "      <td>0.250838</td>\n",
       "      <td>0.874581</td>\n",
       "      <td>random.pheno589</td>\n",
       "    </tr>\n",
       "    <tr>\n",
       "      <th>2316</th>\n",
       "      <td>LV691</td>\n",
       "      <td>0.040874</td>\n",
       "      <td>0.125878</td>\n",
       "      <td>0.324712</td>\n",
       "      <td>0.745410</td>\n",
       "      <td>0.372705</td>\n",
       "      <td>random.pheno385</td>\n",
       "    </tr>\n",
       "    <tr>\n",
       "      <th>3201</th>\n",
       "      <td>LV691</td>\n",
       "      <td>0.087899</td>\n",
       "      <td>0.125878</td>\n",
       "      <td>0.698286</td>\n",
       "      <td>0.485024</td>\n",
       "      <td>0.242512</td>\n",
       "      <td>random.pheno5</td>\n",
       "    </tr>\n",
       "    <tr>\n",
       "      <th>4128</th>\n",
       "      <td>LV691</td>\n",
       "      <td>0.112654</td>\n",
       "      <td>0.125995</td>\n",
       "      <td>0.894117</td>\n",
       "      <td>0.371293</td>\n",
       "      <td>0.185646</td>\n",
       "      <td>random.pheno74</td>\n",
       "    </tr>\n",
       "  </tbody>\n",
       "</table>\n",
       "</div>"
      ],
      "text/plain": [
       "         lv      beta   beta_se         t  pvalue_twosided  pvalue_onesided  \\\n",
       "104   LV691  0.150528  0.125778  1.196780         0.231436         0.115718   \n",
       "1850  LV691 -0.144710  0.126008 -1.148421         0.250838         0.874581   \n",
       "2316  LV691  0.040874  0.125878  0.324712         0.745410         0.372705   \n",
       "3201  LV691  0.087899  0.125878  0.698286         0.485024         0.242512   \n",
       "4128  LV691  0.112654  0.125995  0.894117         0.371293         0.185646   \n",
       "\n",
       "            phenotype  \n",
       "104   random.pheno988  \n",
       "1850  random.pheno589  \n",
       "2316  random.pheno385  \n",
       "3201    random.pheno5  \n",
       "4128   random.pheno74  "
      ]
     },
     "execution_count": 111,
     "metadata": {},
     "output_type": "execute_result"
    }
   ],
   "source": [
    "results.head()"
   ]
  },
  {
   "cell_type": "markdown",
   "id": "8d8d4df8-5efb-4205-bb82-91b4a71d0862",
   "metadata": {},
   "source": [
    "#### Mean type I errors at different thresholds"
   ]
  },
  {
   "cell_type": "code",
   "execution_count": 112,
   "id": "e8ae4a1c-9b09-4a82-b249-d751c029b59f",
   "metadata": {},
   "outputs": [
    {
     "data": {
      "text/plain": [
       "0.013"
      ]
     },
     "execution_count": 112,
     "metadata": {},
     "output_type": "execute_result"
    }
   ],
   "source": [
    "show_prop(results, 0.01)"
   ]
  },
  {
   "cell_type": "code",
   "execution_count": 113,
   "id": "74c2191b-d80b-459e-8fb0-92e0171f5dce",
   "metadata": {},
   "outputs": [
    {
     "data": {
      "text/plain": [
       "0.048"
      ]
     },
     "execution_count": 113,
     "metadata": {},
     "output_type": "execute_result"
    }
   ],
   "source": [
    "show_prop(results, 0.05)"
   ]
  },
  {
   "cell_type": "code",
   "execution_count": 114,
   "id": "78ed20a7-a63b-40c4-b36f-4f19b9e13bfe",
   "metadata": {},
   "outputs": [
    {
     "data": {
      "text/plain": [
       "0.096"
      ]
     },
     "execution_count": 114,
     "metadata": {},
     "output_type": "execute_result"
    }
   ],
   "source": [
    "show_prop(results, 0.10)"
   ]
  },
  {
   "cell_type": "code",
   "execution_count": 115,
   "id": "27b3a253-f5c9-497c-b220-7264a45476e7",
   "metadata": {},
   "outputs": [
    {
     "data": {
      "text/plain": [
       "0.157"
      ]
     },
     "execution_count": 115,
     "metadata": {},
     "output_type": "execute_result"
    }
   ],
   "source": [
    "show_prop(results, 0.15)"
   ]
  },
  {
   "cell_type": "code",
   "execution_count": 116,
   "id": "90505538-770a-48ae-abbc-1cd1ef757c56",
   "metadata": {},
   "outputs": [
    {
     "data": {
      "text/plain": [
       "0.197"
      ]
     },
     "execution_count": 116,
     "metadata": {},
     "output_type": "execute_result"
    }
   ],
   "source": [
    "show_prop(results, 0.20)"
   ]
  },
  {
   "cell_type": "markdown",
   "id": "e87ac89e-9505-402b-bd8d-b603fa6b7499",
   "metadata": {},
   "source": [
    "#### QQplot"
   ]
  },
  {
   "cell_type": "code",
   "execution_count": 117,
   "id": "016773f0-7bda-4f42-b342-9daebe7b39c3",
   "metadata": {},
   "outputs": [
    {
     "data": {
      "image/png": "[encoded data removed]",
      "text/plain": [
       "<Figure size 576x576 with 1 Axes>"
      ]
     },
     "metadata": {
      "needs_background": "light"
     },
     "output_type": "display_data"
    }
   ],
   "source": [
    "qqplot_unif(results)"
   ]
  },
  {
   "cell_type": "markdown",
   "id": "60cf60ab-7f95-4ae9-912a-0d3159310aa9",
   "metadata": {},
   "source": [
    "# GLS model - LVs with high mean type I error"
   ]
  },
  {
   "cell_type": "markdown",
   "id": "8387bb1f-4a27-4732-9daa-6f2c49e1874d",
   "metadata": {},
   "source": [
    "## LV914"
   ]
  },
  {
   "cell_type": "code",
   "execution_count": 118,
   "id": "f4f27c4f-950c-46f8-9bc4-ebbd75a22ef1",
   "metadata": {},
   "outputs": [],
   "source": [
    "lv_code = \"LV914\""
   ]
  },
  {
   "cell_type": "code",
   "execution_count": 119,
   "id": "441e3242-00f7-4ed7-9562-e0d3aeb05676",
   "metadata": {},
   "outputs": [],
   "source": [
    "results = dfs[dfs[\"lv\"] == lv_code]"
   ]
  },
  {
   "cell_type": "code",
   "execution_count": 120,
   "id": "30fe8c57-dc24-45f3-96f2-4e1230cb3ffe",
   "metadata": {},
   "outputs": [
    {
     "data": {
      "text/plain": [
       "(1000, 7)"
      ]
     },
     "execution_count": 120,
     "metadata": {},
     "output_type": "execute_result"
    }
   ],
   "source": [
    "results.shape"
   ]
  },
  {
   "cell_type": "code",
   "execution_count": 121,
   "id": "1a6e5ba9-328f-4ba8-9156-1e6009fa3a29",
   "metadata": {},
   "outputs": [
    {
     "data": {
      "text/html": [
       "<div>\n",
       "<style scoped>\n",
       "    .dataframe tbody tr th:only-of-type {\n",
       "        vertical-align: middle;\n",
       "    }\n",
       "\n",
       "    .dataframe tbody tr th {\n",
       "        vertical-align: top;\n",
       "    }\n",
       "\n",
       "    .dataframe thead th {\n",
       "        text-align: right;\n",
       "    }\n",
       "</style>\n",
       "<table border=\"1\" class=\"dataframe\">\n",
       "  <thead>\n",
       "    <tr style=\"text-align: right;\">\n",
       "      <th></th>\n",
       "      <th>lv</th>\n",
       "      <th>beta</th>\n",
       "      <th>beta_se</th>\n",
       "      <th>t</th>\n",
       "      <th>pvalue_twosided</th>\n",
       "      <th>pvalue_onesided</th>\n",
       "      <th>phenotype</th>\n",
       "    </tr>\n",
       "  </thead>\n",
       "  <tbody>\n",
       "    <tr>\n",
       "      <th>66</th>\n",
       "      <td>LV914</td>\n",
       "      <td>0.180871</td>\n",
       "      <td>0.127823</td>\n",
       "      <td>1.415010</td>\n",
       "      <td>0.157114</td>\n",
       "      <td>0.078557</td>\n",
       "      <td>random.pheno988</td>\n",
       "    </tr>\n",
       "    <tr>\n",
       "      <th>1518</th>\n",
       "      <td>LV914</td>\n",
       "      <td>-0.029696</td>\n",
       "      <td>0.128016</td>\n",
       "      <td>-0.231967</td>\n",
       "      <td>0.816571</td>\n",
       "      <td>0.591714</td>\n",
       "      <td>random.pheno589</td>\n",
       "    </tr>\n",
       "    <tr>\n",
       "      <th>2783</th>\n",
       "      <td>LV914</td>\n",
       "      <td>-0.114162</td>\n",
       "      <td>0.127962</td>\n",
       "      <td>-0.892153</td>\n",
       "      <td>0.372344</td>\n",
       "      <td>0.813828</td>\n",
       "      <td>random.pheno385</td>\n",
       "    </tr>\n",
       "    <tr>\n",
       "      <th>3400</th>\n",
       "      <td>LV914</td>\n",
       "      <td>0.016496</td>\n",
       "      <td>0.127889</td>\n",
       "      <td>0.128985</td>\n",
       "      <td>0.897374</td>\n",
       "      <td>0.448687</td>\n",
       "      <td>random.pheno5</td>\n",
       "    </tr>\n",
       "    <tr>\n",
       "      <th>4531</th>\n",
       "      <td>LV914</td>\n",
       "      <td>-0.038452</td>\n",
       "      <td>0.128005</td>\n",
       "      <td>-0.300396</td>\n",
       "      <td>0.763885</td>\n",
       "      <td>0.618058</td>\n",
       "      <td>random.pheno74</td>\n",
       "    </tr>\n",
       "  </tbody>\n",
       "</table>\n",
       "</div>"
      ],
      "text/plain": [
       "         lv      beta   beta_se         t  pvalue_twosided  pvalue_onesided  \\\n",
       "66    LV914  0.180871  0.127823  1.415010         0.157114         0.078557   \n",
       "1518  LV914 -0.029696  0.128016 -0.231967         0.816571         0.591714   \n",
       "2783  LV914 -0.114162  0.127962 -0.892153         0.372344         0.813828   \n",
       "3400  LV914  0.016496  0.127889  0.128985         0.897374         0.448687   \n",
       "4531  LV914 -0.038452  0.128005 -0.300396         0.763885         0.618058   \n",
       "\n",
       "            phenotype  \n",
       "66    random.pheno988  \n",
       "1518  random.pheno589  \n",
       "2783  random.pheno385  \n",
       "3400    random.pheno5  \n",
       "4531   random.pheno74  "
      ]
     },
     "execution_count": 121,
     "metadata": {},
     "output_type": "execute_result"
    }
   ],
   "source": [
    "results.head()"
   ]
  },
  {
   "cell_type": "markdown",
   "id": "45db3f2e-017a-4549-ac43-12c433c9be29",
   "metadata": {},
   "source": [
    "### Mean type I errors at different thresholds"
   ]
  },
  {
   "cell_type": "code",
   "execution_count": 122,
   "id": "d510a853-f4f4-42f4-bd81-19ffb64f1af2",
   "metadata": {},
   "outputs": [
    {
     "data": {
      "text/plain": [
       "0.034"
      ]
     },
     "execution_count": 122,
     "metadata": {},
     "output_type": "execute_result"
    }
   ],
   "source": [
    "show_prop(results, 0.01)"
   ]
  },
  {
   "cell_type": "code",
   "execution_count": 123,
   "id": "7d15c21b-7b9f-4911-81ef-a928d1c5fc9a",
   "metadata": {},
   "outputs": [
    {
     "data": {
      "text/plain": [
       "0.105"
      ]
     },
     "execution_count": 123,
     "metadata": {},
     "output_type": "execute_result"
    }
   ],
   "source": [
    "show_prop(results, 0.05)"
   ]
  },
  {
   "cell_type": "code",
   "execution_count": 124,
   "id": "93812073-0e89-4955-b560-6127b429f78b",
   "metadata": {},
   "outputs": [
    {
     "data": {
      "text/plain": [
       "0.176"
      ]
     },
     "execution_count": 124,
     "metadata": {},
     "output_type": "execute_result"
    }
   ],
   "source": [
    "show_prop(results, 0.10)"
   ]
  },
  {
   "cell_type": "code",
   "execution_count": 125,
   "id": "dc576a58-f93d-4f0a-914b-c99c6f3f1467",
   "metadata": {},
   "outputs": [
    {
     "data": {
      "text/plain": [
       "0.235"
      ]
     },
     "execution_count": 125,
     "metadata": {},
     "output_type": "execute_result"
    }
   ],
   "source": [
    "show_prop(results, 0.15)"
   ]
  },
  {
   "cell_type": "code",
   "execution_count": 126,
   "id": "ac4366df-03d2-4e97-a8f1-f2a59acd2394",
   "metadata": {},
   "outputs": [
    {
     "data": {
      "text/plain": [
       "0.292"
      ]
     },
     "execution_count": 126,
     "metadata": {},
     "output_type": "execute_result"
    }
   ],
   "source": [
    "show_prop(results, 0.20)"
   ]
  },
  {
   "cell_type": "markdown",
   "id": "66c4cd42-8f9f-4f02-b3e1-365ffaafeb5f",
   "metadata": {},
   "source": [
    "### QQplot"
   ]
  },
  {
   "cell_type": "code",
   "execution_count": 127,
   "id": "74bf806e-e314-4fd5-83ba-44f69c7a9cb2",
   "metadata": {},
   "outputs": [
    {
     "data": {
      "image/png": "[encoded data removed]",
      "text/plain": [
       "<Figure size 576x576 with 1 Axes>"
      ]
     },
     "metadata": {
      "needs_background": "light"
     },
     "output_type": "display_data"
    }
   ],
   "source": [
    "qqplot_unif(results)"
   ]
  },
  {
   "cell_type": "markdown",
   "id": "91a5f97f-8cf9-420d-87d9-b33614c958d3",
   "metadata": {},
   "source": [
    "### Top genes in LV"
   ]
  },
  {
   "cell_type": "code",
   "execution_count": 128,
   "id": "47695547-3c16-4570-b980-cfc125423912",
   "metadata": {},
   "outputs": [
    {
     "data": {
      "text/html": [
       "<div>\n",
       "<style scoped>\n",
       "    .dataframe tbody tr th:only-of-type {\n",
       "        vertical-align: middle;\n",
       "    }\n",
       "\n",
       "    .dataframe tbody tr th {\n",
       "        vertical-align: top;\n",
       "    }\n",
       "\n",
       "    .dataframe thead th {\n",
       "        text-align: right;\n",
       "    }\n",
       "</style>\n",
       "<table border=\"1\" class=\"dataframe\">\n",
       "  <thead>\n",
       "    <tr style=\"text-align: right;\">\n",
       "      <th></th>\n",
       "      <th>LV914</th>\n",
       "      <th>gene_band</th>\n",
       "    </tr>\n",
       "  </thead>\n",
       "  <tbody>\n",
       "    <tr>\n",
       "      <th>IL23A</th>\n",
       "      <td>6.258103</td>\n",
       "      <td>12q13.3</td>\n",
       "    </tr>\n",
       "    <tr>\n",
       "      <th>AKT2</th>\n",
       "      <td>5.248118</td>\n",
       "      <td>19q13.2</td>\n",
       "    </tr>\n",
       "    <tr>\n",
       "      <th>HOXA5</th>\n",
       "      <td>2.588375</td>\n",
       "      <td>7p15.2</td>\n",
       "    </tr>\n",
       "    <tr>\n",
       "      <th>LAMA2</th>\n",
       "      <td>2.255515</td>\n",
       "      <td>6q22.33</td>\n",
       "    </tr>\n",
       "    <tr>\n",
       "      <th>RNF8</th>\n",
       "      <td>1.722023</td>\n",
       "      <td>6p21.2</td>\n",
       "    </tr>\n",
       "    <tr>\n",
       "      <th>PAPOLG</th>\n",
       "      <td>1.398173</td>\n",
       "      <td>2p16.1</td>\n",
       "    </tr>\n",
       "    <tr>\n",
       "      <th>MBD4</th>\n",
       "      <td>1.376868</td>\n",
       "      <td>3q21.3</td>\n",
       "    </tr>\n",
       "    <tr>\n",
       "      <th>TBK1</th>\n",
       "      <td>1.328314</td>\n",
       "      <td>12q14.2</td>\n",
       "    </tr>\n",
       "    <tr>\n",
       "      <th>CBLB</th>\n",
       "      <td>1.305683</td>\n",
       "      <td>3q13.11</td>\n",
       "    </tr>\n",
       "    <tr>\n",
       "      <th>DOK1</th>\n",
       "      <td>1.219439</td>\n",
       "      <td>2p13.1</td>\n",
       "    </tr>\n",
       "    <tr>\n",
       "      <th>GRAP</th>\n",
       "      <td>1.195635</td>\n",
       "      <td>17p11.2</td>\n",
       "    </tr>\n",
       "    <tr>\n",
       "      <th>TPP2</th>\n",
       "      <td>1.141444</td>\n",
       "      <td>13q33.1</td>\n",
       "    </tr>\n",
       "    <tr>\n",
       "      <th>GMPPA</th>\n",
       "      <td>1.088283</td>\n",
       "      <td>2q35</td>\n",
       "    </tr>\n",
       "    <tr>\n",
       "      <th>TP53INP1</th>\n",
       "      <td>1.080143</td>\n",
       "      <td>8q22.1</td>\n",
       "    </tr>\n",
       "    <tr>\n",
       "      <th>ALG5</th>\n",
       "      <td>1.041571</td>\n",
       "      <td>13q13.3</td>\n",
       "    </tr>\n",
       "    <tr>\n",
       "      <th>TNFSF14</th>\n",
       "      <td>1.011087</td>\n",
       "      <td>19p13.3</td>\n",
       "    </tr>\n",
       "    <tr>\n",
       "      <th>POLB</th>\n",
       "      <td>0.979998</td>\n",
       "      <td>8p11.21</td>\n",
       "    </tr>\n",
       "    <tr>\n",
       "      <th>ERCC2</th>\n",
       "      <td>0.961572</td>\n",
       "      <td>19q13.32</td>\n",
       "    </tr>\n",
       "    <tr>\n",
       "      <th>IL23R</th>\n",
       "      <td>0.946890</td>\n",
       "      <td>1p31.3</td>\n",
       "    </tr>\n",
       "    <tr>\n",
       "      <th>SEPT1</th>\n",
       "      <td>0.894338</td>\n",
       "      <td>16p11.2</td>\n",
       "    </tr>\n",
       "    <tr>\n",
       "      <th>NR2C1</th>\n",
       "      <td>0.880502</td>\n",
       "      <td>12q22</td>\n",
       "    </tr>\n",
       "    <tr>\n",
       "      <th>BTRC</th>\n",
       "      <td>0.803060</td>\n",
       "      <td>10q24.32</td>\n",
       "    </tr>\n",
       "    <tr>\n",
       "      <th>ASB8</th>\n",
       "      <td>0.776126</td>\n",
       "      <td>12q13.11</td>\n",
       "    </tr>\n",
       "    <tr>\n",
       "      <th>RNF144B</th>\n",
       "      <td>0.769304</td>\n",
       "      <td>6p22.3</td>\n",
       "    </tr>\n",
       "    <tr>\n",
       "      <th>BCKDHA</th>\n",
       "      <td>0.730291</td>\n",
       "      <td>19q13.2</td>\n",
       "    </tr>\n",
       "  </tbody>\n",
       "</table>\n",
       "</div>"
      ],
      "text/plain": [
       "             LV914 gene_band\n",
       "IL23A     6.258103   12q13.3\n",
       "AKT2      5.248118   19q13.2\n",
       "HOXA5     2.588375    7p15.2\n",
       "LAMA2     2.255515   6q22.33\n",
       "RNF8      1.722023    6p21.2\n",
       "PAPOLG    1.398173    2p16.1\n",
       "MBD4      1.376868    3q21.3\n",
       "TBK1      1.328314   12q14.2\n",
       "CBLB      1.305683   3q13.11\n",
       "DOK1      1.219439    2p13.1\n",
       "GRAP      1.195635   17p11.2\n",
       "TPP2      1.141444   13q33.1\n",
       "GMPPA     1.088283      2q35\n",
       "TP53INP1  1.080143    8q22.1\n",
       "ALG5      1.041571   13q13.3\n",
       "TNFSF14   1.011087   19p13.3\n",
       "POLB      0.979998   8p11.21\n",
       "ERCC2     0.961572  19q13.32\n",
       "IL23R     0.946890    1p31.3\n",
       "SEPT1     0.894338   16p11.2\n",
       "NR2C1     0.880502     12q22\n",
       "BTRC      0.803060  10q24.32\n",
       "ASB8      0.776126  12q13.11\n",
       "RNF144B   0.769304    6p22.3\n",
       "BCKDHA    0.730291   19q13.2"
      ]
     },
     "metadata": {},
     "output_type": "display_data"
    }
   ],
   "source": [
    "lv_genes = get_lv_genes(lv_code)\n",
    "display(lv_genes.head(25))"
   ]
  },
  {
   "cell_type": "code",
   "execution_count": 129,
   "id": "0d861731-514a-42da-9eff-cd59f8dcf0aa",
   "metadata": {},
   "outputs": [
    {
     "data": {
      "text/plain": [
       "13q13.3     2\n",
       "7p15.2      2\n",
       "19q13.2     2\n",
       "3q25.33     1\n",
       "2q35        1\n",
       "19q13.33    1\n",
       "12q13.11    1\n",
       "19q13.32    1\n",
       "6p22.3      1\n",
       "8q13.3      1\n",
       "Name: gene_band, dtype: int64"
      ]
     },
     "execution_count": 129,
     "metadata": {},
     "output_type": "execute_result"
    }
   ],
   "source": [
    "# see bands of top genes\n",
    "lv_genes.head(68)[\"gene_band\"].value_counts().head(10)"
   ]
  },
  {
   "cell_type": "markdown",
   "id": "db09b38d-48be-4eab-88b6-b546b4ca2f14",
   "metadata": {},
   "source": [
    "## LV816"
   ]
  },
  {
   "cell_type": "code",
   "execution_count": 130,
   "id": "e398c786-54fb-46b9-8051-9a98a8d1651c",
   "metadata": {},
   "outputs": [],
   "source": [
    "lv_code = \"LV816\""
   ]
  },
  {
   "cell_type": "code",
   "execution_count": 131,
   "id": "ebf5a610-a540-49eb-a5a0-8627a86a1729",
   "metadata": {},
   "outputs": [],
   "source": [
    "results = dfs[dfs[\"lv\"] == lv_code]"
   ]
  },
  {
   "cell_type": "code",
   "execution_count": 132,
   "id": "02397f46-5c1e-4a37-ba58-7363dc96ccb4",
   "metadata": {},
   "outputs": [
    {
     "data": {
      "text/plain": [
       "(1000, 7)"
      ]
     },
     "execution_count": 132,
     "metadata": {},
     "output_type": "execute_result"
    }
   ],
   "source": [
    "results.shape"
   ]
  },
  {
   "cell_type": "code",
   "execution_count": 133,
   "id": "05e861e1-de19-48c8-94b6-40517f96a65c",
   "metadata": {},
   "outputs": [
    {
     "data": {
      "text/html": [
       "<div>\n",
       "<style scoped>\n",
       "    .dataframe tbody tr th:only-of-type {\n",
       "        vertical-align: middle;\n",
       "    }\n",
       "\n",
       "    .dataframe tbody tr th {\n",
       "        vertical-align: top;\n",
       "    }\n",
       "\n",
       "    .dataframe thead th {\n",
       "        text-align: right;\n",
       "    }\n",
       "</style>\n",
       "<table border=\"1\" class=\"dataframe\">\n",
       "  <thead>\n",
       "    <tr style=\"text-align: right;\">\n",
       "      <th></th>\n",
       "      <th>lv</th>\n",
       "      <th>beta</th>\n",
       "      <th>beta_se</th>\n",
       "      <th>t</th>\n",
       "      <th>pvalue_twosided</th>\n",
       "      <th>pvalue_onesided</th>\n",
       "      <th>phenotype</th>\n",
       "    </tr>\n",
       "  </thead>\n",
       "  <tbody>\n",
       "    <tr>\n",
       "      <th>2</th>\n",
       "      <td>LV816</td>\n",
       "      <td>0.327034</td>\n",
       "      <td>0.126016</td>\n",
       "      <td>2.595168</td>\n",
       "      <td>0.009476</td>\n",
       "      <td>0.004738</td>\n",
       "      <td>random.pheno988</td>\n",
       "    </tr>\n",
       "    <tr>\n",
       "      <th>1183</th>\n",
       "      <td>LV816</td>\n",
       "      <td>0.095954</td>\n",
       "      <td>0.126311</td>\n",
       "      <td>0.759664</td>\n",
       "      <td>0.447483</td>\n",
       "      <td>0.223742</td>\n",
       "      <td>random.pheno589</td>\n",
       "    </tr>\n",
       "    <tr>\n",
       "      <th>2705</th>\n",
       "      <td>LV816</td>\n",
       "      <td>-0.081603</td>\n",
       "      <td>0.126166</td>\n",
       "      <td>-0.646795</td>\n",
       "      <td>0.517788</td>\n",
       "      <td>0.741106</td>\n",
       "      <td>random.pheno385</td>\n",
       "    </tr>\n",
       "    <tr>\n",
       "      <th>3594</th>\n",
       "      <td>LV816</td>\n",
       "      <td>-0.046484</td>\n",
       "      <td>0.126172</td>\n",
       "      <td>-0.368418</td>\n",
       "      <td>0.712573</td>\n",
       "      <td>0.643713</td>\n",
       "      <td>random.pheno5</td>\n",
       "    </tr>\n",
       "    <tr>\n",
       "      <th>3998</th>\n",
       "      <td>LV816</td>\n",
       "      <td>0.201682</td>\n",
       "      <td>0.126273</td>\n",
       "      <td>1.597186</td>\n",
       "      <td>0.110273</td>\n",
       "      <td>0.055137</td>\n",
       "      <td>random.pheno74</td>\n",
       "    </tr>\n",
       "  </tbody>\n",
       "</table>\n",
       "</div>"
      ],
      "text/plain": [
       "         lv      beta   beta_se         t  pvalue_twosided  pvalue_onesided  \\\n",
       "2     LV816  0.327034  0.126016  2.595168         0.009476         0.004738   \n",
       "1183  LV816  0.095954  0.126311  0.759664         0.447483         0.223742   \n",
       "2705  LV816 -0.081603  0.126166 -0.646795         0.517788         0.741106   \n",
       "3594  LV816 -0.046484  0.126172 -0.368418         0.712573         0.643713   \n",
       "3998  LV816  0.201682  0.126273  1.597186         0.110273         0.055137   \n",
       "\n",
       "            phenotype  \n",
       "2     random.pheno988  \n",
       "1183  random.pheno589  \n",
       "2705  random.pheno385  \n",
       "3594    random.pheno5  \n",
       "3998   random.pheno74  "
      ]
     },
     "execution_count": 133,
     "metadata": {},
     "output_type": "execute_result"
    }
   ],
   "source": [
    "results.head()"
   ]
  },
  {
   "cell_type": "markdown",
   "id": "0edda788-bc6a-48c2-8cbf-b3b72b132f1e",
   "metadata": {},
   "source": [
    "### Mean type I errors at different thresholds"
   ]
  },
  {
   "cell_type": "code",
   "execution_count": 134,
   "id": "99f27d76-10b6-43d9-adaa-ff3971747800",
   "metadata": {},
   "outputs": [
    {
     "data": {
      "text/plain": [
       "0.032"
      ]
     },
     "execution_count": 134,
     "metadata": {},
     "output_type": "execute_result"
    }
   ],
   "source": [
    "show_prop(results, 0.01)"
   ]
  },
  {
   "cell_type": "code",
   "execution_count": 135,
   "id": "04816147-c626-4990-a810-18ab6a97eced",
   "metadata": {},
   "outputs": [
    {
     "data": {
      "text/plain": [
       "0.102"
      ]
     },
     "execution_count": 135,
     "metadata": {},
     "output_type": "execute_result"
    }
   ],
   "source": [
    "show_prop(results, 0.05)"
   ]
  },
  {
   "cell_type": "code",
   "execution_count": 136,
   "id": "f2d3176b-fe9a-4de6-9c1e-dddf71a4ae18",
   "metadata": {},
   "outputs": [
    {
     "data": {
      "text/plain": [
       "0.152"
      ]
     },
     "execution_count": 136,
     "metadata": {},
     "output_type": "execute_result"
    }
   ],
   "source": [
    "show_prop(results, 0.10)"
   ]
  },
  {
   "cell_type": "code",
   "execution_count": 137,
   "id": "9834fc09-6d6b-451c-8c88-eaff5104cd7c",
   "metadata": {},
   "outputs": [
    {
     "data": {
      "text/plain": [
       "0.218"
      ]
     },
     "execution_count": 137,
     "metadata": {},
     "output_type": "execute_result"
    }
   ],
   "source": [
    "show_prop(results, 0.15)"
   ]
  },
  {
   "cell_type": "code",
   "execution_count": 138,
   "id": "bdef1a93-99fe-487c-8d57-69d0833a3875",
   "metadata": {},
   "outputs": [
    {
     "data": {
      "text/plain": [
       "0.264"
      ]
     },
     "execution_count": 138,
     "metadata": {},
     "output_type": "execute_result"
    }
   ],
   "source": [
    "show_prop(results, 0.20)"
   ]
  },
  {
   "cell_type": "markdown",
   "id": "b3b08b6d-02d6-4d4f-9e25-f2d8bd65e0da",
   "metadata": {},
   "source": [
    "### QQplot"
   ]
  },
  {
   "cell_type": "code",
   "execution_count": 139,
   "id": "7f4df7bd-99aa-442b-8d24-6be6c8a7d8a1",
   "metadata": {},
   "outputs": [
    {
     "data": {
      "image/png": "[encoded data removed]",
      "text/plain": [
       "<Figure size 576x576 with 1 Axes>"
      ]
     },
     "metadata": {
      "needs_background": "light"
     },
     "output_type": "display_data"
    }
   ],
   "source": [
    "qqplot_unif(results)"
   ]
  },
  {
   "cell_type": "markdown",
   "id": "3b546f72-9806-4969-9ecb-971c35bb6499",
   "metadata": {},
   "source": [
    "### Top genes in LV"
   ]
  },
  {
   "cell_type": "code",
   "execution_count": 140,
   "id": "e2fa5a5a-5cba-4f0e-8e0c-106412ea3733",
   "metadata": {},
   "outputs": [
    {
     "data": {
      "text/html": [
       "<div>\n",
       "<style scoped>\n",
       "    .dataframe tbody tr th:only-of-type {\n",
       "        vertical-align: middle;\n",
       "    }\n",
       "\n",
       "    .dataframe tbody tr th {\n",
       "        vertical-align: top;\n",
       "    }\n",
       "\n",
       "    .dataframe thead th {\n",
       "        text-align: right;\n",
       "    }\n",
       "</style>\n",
       "<table border=\"1\" class=\"dataframe\">\n",
       "  <thead>\n",
       "    <tr style=\"text-align: right;\">\n",
       "      <th></th>\n",
       "      <th>LV816</th>\n",
       "      <th>gene_band</th>\n",
       "    </tr>\n",
       "  </thead>\n",
       "  <tbody>\n",
       "    <tr>\n",
       "      <th>ATP1B2</th>\n",
       "      <td>5.753339</td>\n",
       "      <td>17p13.1</td>\n",
       "    </tr>\n",
       "    <tr>\n",
       "      <th>PON2</th>\n",
       "      <td>4.335049</td>\n",
       "      <td>7q21.3</td>\n",
       "    </tr>\n",
       "    <tr>\n",
       "      <th>ALDOC</th>\n",
       "      <td>4.301768</td>\n",
       "      <td>17q11.2</td>\n",
       "    </tr>\n",
       "    <tr>\n",
       "      <th>GLUD1</th>\n",
       "      <td>3.721127</td>\n",
       "      <td>10q23.2</td>\n",
       "    </tr>\n",
       "    <tr>\n",
       "      <th>GJB6</th>\n",
       "      <td>3.628673</td>\n",
       "      <td>13q12.11</td>\n",
       "    </tr>\n",
       "    <tr>\n",
       "      <th>CLDN10</th>\n",
       "      <td>3.373320</td>\n",
       "      <td>13q32.1</td>\n",
       "    </tr>\n",
       "    <tr>\n",
       "      <th>SLC15A2</th>\n",
       "      <td>3.123544</td>\n",
       "      <td>3q13.33</td>\n",
       "    </tr>\n",
       "    <tr>\n",
       "      <th>GLUL</th>\n",
       "      <td>3.063349</td>\n",
       "      <td>1q25.3</td>\n",
       "    </tr>\n",
       "    <tr>\n",
       "      <th>SLC4A4</th>\n",
       "      <td>3.023711</td>\n",
       "      <td>4q13.3</td>\n",
       "    </tr>\n",
       "    <tr>\n",
       "      <th>SLC48A1</th>\n",
       "      <td>2.848704</td>\n",
       "      <td>12q13.11</td>\n",
       "    </tr>\n",
       "    <tr>\n",
       "      <th>CACNB2</th>\n",
       "      <td>2.644860</td>\n",
       "      <td>10p12.33</td>\n",
       "    </tr>\n",
       "    <tr>\n",
       "      <th>TPD52L1</th>\n",
       "      <td>2.606357</td>\n",
       "      <td>6q22.31</td>\n",
       "    </tr>\n",
       "    <tr>\n",
       "      <th>OMG</th>\n",
       "      <td>2.542227</td>\n",
       "      <td>17q11.2</td>\n",
       "    </tr>\n",
       "    <tr>\n",
       "      <th>MERTK</th>\n",
       "      <td>2.479026</td>\n",
       "      <td>2q13</td>\n",
       "    </tr>\n",
       "    <tr>\n",
       "      <th>DTNA</th>\n",
       "      <td>2.428400</td>\n",
       "      <td>18q12.1</td>\n",
       "    </tr>\n",
       "    <tr>\n",
       "      <th>GPM6A</th>\n",
       "      <td>2.407777</td>\n",
       "      <td>4q34.2</td>\n",
       "    </tr>\n",
       "    <tr>\n",
       "      <th>DST</th>\n",
       "      <td>2.366283</td>\n",
       "      <td>6p12.1</td>\n",
       "    </tr>\n",
       "    <tr>\n",
       "      <th>AHCYL1</th>\n",
       "      <td>2.205494</td>\n",
       "      <td>1p13.3</td>\n",
       "    </tr>\n",
       "    <tr>\n",
       "      <th>ADHFE1</th>\n",
       "      <td>2.166393</td>\n",
       "      <td>8q13.1</td>\n",
       "    </tr>\n",
       "    <tr>\n",
       "      <th>ADRB1</th>\n",
       "      <td>2.126957</td>\n",
       "      <td>10q25.3</td>\n",
       "    </tr>\n",
       "    <tr>\n",
       "      <th>KCNJ10</th>\n",
       "      <td>2.083411</td>\n",
       "      <td>1q23.2</td>\n",
       "    </tr>\n",
       "    <tr>\n",
       "      <th>ADORA2B</th>\n",
       "      <td>2.026548</td>\n",
       "      <td>17p12</td>\n",
       "    </tr>\n",
       "    <tr>\n",
       "      <th>SLC1A4</th>\n",
       "      <td>2.006970</td>\n",
       "      <td>2p14</td>\n",
       "    </tr>\n",
       "    <tr>\n",
       "      <th>KCNN3</th>\n",
       "      <td>2.003650</td>\n",
       "      <td>1q21.3</td>\n",
       "    </tr>\n",
       "    <tr>\n",
       "      <th>TNIK</th>\n",
       "      <td>1.993338</td>\n",
       "      <td>3q26.31</td>\n",
       "    </tr>\n",
       "  </tbody>\n",
       "</table>\n",
       "</div>"
      ],
      "text/plain": [
       "            LV816 gene_band\n",
       "ATP1B2   5.753339   17p13.1\n",
       "PON2     4.335049    7q21.3\n",
       "ALDOC    4.301768   17q11.2\n",
       "GLUD1    3.721127   10q23.2\n",
       "GJB6     3.628673  13q12.11\n",
       "CLDN10   3.373320   13q32.1\n",
       "SLC15A2  3.123544   3q13.33\n",
       "GLUL     3.063349    1q25.3\n",
       "SLC4A4   3.023711    4q13.3\n",
       "SLC48A1  2.848704  12q13.11\n",
       "CACNB2   2.644860  10p12.33\n",
       "TPD52L1  2.606357   6q22.31\n",
       "OMG      2.542227   17q11.2\n",
       "MERTK    2.479026      2q13\n",
       "DTNA     2.428400   18q12.1\n",
       "GPM6A    2.407777    4q34.2\n",
       "DST      2.366283    6p12.1\n",
       "AHCYL1   2.205494    1p13.3\n",
       "ADHFE1   2.166393    8q13.1\n",
       "ADRB1    2.126957   10q25.3\n",
       "KCNJ10   2.083411    1q23.2\n",
       "ADORA2B  2.026548     17p12\n",
       "SLC1A4   2.006970      2p14\n",
       "KCNN3    2.003650    1q21.3\n",
       "TNIK     1.993338   3q26.31"
      ]
     },
     "metadata": {},
     "output_type": "display_data"
    }
   ],
   "source": [
    "lv_genes = get_lv_genes(lv_code)\n",
    "display(lv_genes.head(25))"
   ]
  },
  {
   "cell_type": "code",
   "execution_count": 141,
   "id": "fc82aa0a-295a-4480-95f4-5f11075881a1",
   "metadata": {},
   "outputs": [
    {
     "data": {
      "text/plain": [
       "17q11.2     2\n",
       "17p13.1     2\n",
       "14q24.3     1\n",
       "11p15.4     1\n",
       "17p12       1\n",
       "11p15.1     1\n",
       "5q31.2      1\n",
       "14q32.33    1\n",
       "19q13.33    1\n",
       "8q13.1      1\n",
       "Name: gene_band, dtype: int64"
      ]
     },
     "execution_count": 141,
     "metadata": {},
     "output_type": "execute_result"
    }
   ],
   "source": [
    "# see bands of top genes\n",
    "lv_genes.head(68)[\"gene_band\"].value_counts().head(10)"
   ]
  },
  {
   "cell_type": "markdown",
   "id": "a563e097-0cd4-437f-9cce-85a0e6fe79f1",
   "metadata": {},
   "source": [
    "## LV588"
   ]
  },
  {
   "cell_type": "code",
   "execution_count": 142,
   "id": "8ba2409e-ca7b-443c-82cf-86a86d3561d7",
   "metadata": {},
   "outputs": [],
   "source": [
    "lv_code = \"LV588\""
   ]
  },
  {
   "cell_type": "code",
   "execution_count": 143,
   "id": "22de95be-48f6-4a04-a555-f96c73a2799a",
   "metadata": {},
   "outputs": [],
   "source": [
    "results = dfs[dfs[\"lv\"] == lv_code]"
   ]
  },
  {
   "cell_type": "code",
   "execution_count": 144,
   "id": "fe09f33b-3ee0-4bcb-a409-15217a7fa34a",
   "metadata": {},
   "outputs": [
    {
     "data": {
      "text/plain": [
       "(1000, 7)"
      ]
     },
     "execution_count": 144,
     "metadata": {},
     "output_type": "execute_result"
    }
   ],
   "source": [
    "results.shape"
   ]
  },
  {
   "cell_type": "code",
   "execution_count": 145,
   "id": "9ef2e49a-c18c-4686-91fe-d4822b0416b0",
   "metadata": {},
   "outputs": [
    {
     "data": {
      "text/html": [
       "<div>\n",
       "<style scoped>\n",
       "    .dataframe tbody tr th:only-of-type {\n",
       "        vertical-align: middle;\n",
       "    }\n",
       "\n",
       "    .dataframe tbody tr th {\n",
       "        vertical-align: top;\n",
       "    }\n",
       "\n",
       "    .dataframe thead th {\n",
       "        text-align: right;\n",
       "    }\n",
       "</style>\n",
       "<table border=\"1\" class=\"dataframe\">\n",
       "  <thead>\n",
       "    <tr style=\"text-align: right;\">\n",
       "      <th></th>\n",
       "      <th>lv</th>\n",
       "      <th>beta</th>\n",
       "      <th>beta_se</th>\n",
       "      <th>t</th>\n",
       "      <th>pvalue_twosided</th>\n",
       "      <th>pvalue_onesided</th>\n",
       "      <th>phenotype</th>\n",
       "    </tr>\n",
       "  </thead>\n",
       "  <tbody>\n",
       "    <tr>\n",
       "      <th>882</th>\n",
       "      <td>LV588</td>\n",
       "      <td>-0.160182</td>\n",
       "      <td>0.126061</td>\n",
       "      <td>-1.270670</td>\n",
       "      <td>0.203892</td>\n",
       "      <td>0.898054</td>\n",
       "      <td>random.pheno988</td>\n",
       "    </tr>\n",
       "    <tr>\n",
       "      <th>1056</th>\n",
       "      <td>LV588</td>\n",
       "      <td>0.182609</td>\n",
       "      <td>0.126284</td>\n",
       "      <td>1.446023</td>\n",
       "      <td>0.148219</td>\n",
       "      <td>0.074110</td>\n",
       "      <td>random.pheno589</td>\n",
       "    </tr>\n",
       "    <tr>\n",
       "      <th>2378</th>\n",
       "      <td>LV588</td>\n",
       "      <td>0.024301</td>\n",
       "      <td>0.126162</td>\n",
       "      <td>0.192616</td>\n",
       "      <td>0.847266</td>\n",
       "      <td>0.423633</td>\n",
       "      <td>random.pheno385</td>\n",
       "    </tr>\n",
       "    <tr>\n",
       "      <th>3927</th>\n",
       "      <td>LV588</td>\n",
       "      <td>-0.231263</td>\n",
       "      <td>0.126135</td>\n",
       "      <td>-1.833454</td>\n",
       "      <td>0.066781</td>\n",
       "      <td>0.966609</td>\n",
       "      <td>random.pheno5</td>\n",
       "    </tr>\n",
       "    <tr>\n",
       "      <th>4180</th>\n",
       "      <td>LV588</td>\n",
       "      <td>0.084238</td>\n",
       "      <td>0.126289</td>\n",
       "      <td>0.667027</td>\n",
       "      <td>0.504779</td>\n",
       "      <td>0.252389</td>\n",
       "      <td>random.pheno74</td>\n",
       "    </tr>\n",
       "  </tbody>\n",
       "</table>\n",
       "</div>"
      ],
      "text/plain": [
       "         lv      beta   beta_se         t  pvalue_twosided  pvalue_onesided  \\\n",
       "882   LV588 -0.160182  0.126061 -1.270670         0.203892         0.898054   \n",
       "1056  LV588  0.182609  0.126284  1.446023         0.148219         0.074110   \n",
       "2378  LV588  0.024301  0.126162  0.192616         0.847266         0.423633   \n",
       "3927  LV588 -0.231263  0.126135 -1.833454         0.066781         0.966609   \n",
       "4180  LV588  0.084238  0.126289  0.667027         0.504779         0.252389   \n",
       "\n",
       "            phenotype  \n",
       "882   random.pheno988  \n",
       "1056  random.pheno589  \n",
       "2378  random.pheno385  \n",
       "3927    random.pheno5  \n",
       "4180   random.pheno74  "
      ]
     },
     "execution_count": 145,
     "metadata": {},
     "output_type": "execute_result"
    }
   ],
   "source": [
    "results.head()"
   ]
  },
  {
   "cell_type": "markdown",
   "id": "639f9142-7ebc-45fa-8b98-09ebb02e00e1",
   "metadata": {},
   "source": [
    "### Mean type I errors at different thresholds"
   ]
  },
  {
   "cell_type": "code",
   "execution_count": 146,
   "id": "0c729afb-44fc-451b-8785-5bd47e6be8ef",
   "metadata": {},
   "outputs": [
    {
     "data": {
      "text/plain": [
       "0.016"
      ]
     },
     "execution_count": 146,
     "metadata": {},
     "output_type": "execute_result"
    }
   ],
   "source": [
    "show_prop(results, 0.01)"
   ]
  },
  {
   "cell_type": "code",
   "execution_count": 147,
   "id": "20d2212c-e522-491d-b76a-597ceaf11d01",
   "metadata": {},
   "outputs": [
    {
     "data": {
      "text/plain": [
       "0.096"
      ]
     },
     "execution_count": 147,
     "metadata": {},
     "output_type": "execute_result"
    }
   ],
   "source": [
    "show_prop(results, 0.05)"
   ]
  },
  {
   "cell_type": "code",
   "execution_count": 148,
   "id": "5b148425-b1ad-4365-9a39-5d71491abdbd",
   "metadata": {},
   "outputs": [
    {
     "data": {
      "text/plain": [
       "0.155"
      ]
     },
     "execution_count": 148,
     "metadata": {},
     "output_type": "execute_result"
    }
   ],
   "source": [
    "show_prop(results, 0.10)"
   ]
  },
  {
   "cell_type": "code",
   "execution_count": 149,
   "id": "59bfa368-91d3-43d1-950a-17a9d8886c8e",
   "metadata": {},
   "outputs": [
    {
     "data": {
      "text/plain": [
       "0.213"
      ]
     },
     "execution_count": 149,
     "metadata": {},
     "output_type": "execute_result"
    }
   ],
   "source": [
    "show_prop(results, 0.15)"
   ]
  },
  {
   "cell_type": "code",
   "execution_count": 150,
   "id": "88384a7f-d530-4e4f-8815-5234571a4491",
   "metadata": {},
   "outputs": [
    {
     "data": {
      "text/plain": [
       "0.273"
      ]
     },
     "execution_count": 150,
     "metadata": {},
     "output_type": "execute_result"
    }
   ],
   "source": [
    "show_prop(results, 0.20)"
   ]
  },
  {
   "cell_type": "markdown",
   "id": "29355cc1-e810-487a-ac8b-50f98787f5b9",
   "metadata": {},
   "source": [
    "### QQplot"
   ]
  },
  {
   "cell_type": "code",
   "execution_count": 151,
   "id": "137a644b-8b76-4d57-aaeb-a8914992bdd9",
   "metadata": {},
   "outputs": [
    {
     "data": {
      "image/png": "[encoded data removed]",
      "text/plain": [
       "<Figure size 576x576 with 1 Axes>"
      ]
     },
     "metadata": {
      "needs_background": "light"
     },
     "output_type": "display_data"
    }
   ],
   "source": [
    "qqplot_unif(results)"
   ]
  },
  {
   "cell_type": "markdown",
   "id": "40c541df-e69a-4f24-a198-7b3d5605794e",
   "metadata": {},
   "source": [
    "### Top genes in LV"
   ]
  },
  {
   "cell_type": "code",
   "execution_count": 152,
   "id": "21438fe3-bfd7-4b7d-a6c5-6fe6db6fbe2c",
   "metadata": {},
   "outputs": [
    {
     "data": {
      "text/html": [
       "<div>\n",
       "<style scoped>\n",
       "    .dataframe tbody tr th:only-of-type {\n",
       "        vertical-align: middle;\n",
       "    }\n",
       "\n",
       "    .dataframe tbody tr th {\n",
       "        vertical-align: top;\n",
       "    }\n",
       "\n",
       "    .dataframe thead th {\n",
       "        text-align: right;\n",
       "    }\n",
       "</style>\n",
       "<table border=\"1\" class=\"dataframe\">\n",
       "  <thead>\n",
       "    <tr style=\"text-align: right;\">\n",
       "      <th></th>\n",
       "      <th>LV588</th>\n",
       "      <th>gene_band</th>\n",
       "    </tr>\n",
       "  </thead>\n",
       "  <tbody>\n",
       "    <tr>\n",
       "      <th>ASB8</th>\n",
       "      <td>4.260123</td>\n",
       "      <td>12q13.11</td>\n",
       "    </tr>\n",
       "    <tr>\n",
       "      <th>PEX1</th>\n",
       "      <td>3.746568</td>\n",
       "      <td>7q21.2</td>\n",
       "    </tr>\n",
       "    <tr>\n",
       "      <th>BLOC1S3</th>\n",
       "      <td>3.451845</td>\n",
       "      <td>19q13.32</td>\n",
       "    </tr>\n",
       "    <tr>\n",
       "      <th>VLDLR</th>\n",
       "      <td>3.393852</td>\n",
       "      <td>9p24.2</td>\n",
       "    </tr>\n",
       "    <tr>\n",
       "      <th>ATP8A2</th>\n",
       "      <td>2.129880</td>\n",
       "      <td>13q12.13</td>\n",
       "    </tr>\n",
       "    <tr>\n",
       "      <th>SLC7A6</th>\n",
       "      <td>2.108679</td>\n",
       "      <td>16q22.1</td>\n",
       "    </tr>\n",
       "    <tr>\n",
       "      <th>MFN1</th>\n",
       "      <td>2.061924</td>\n",
       "      <td>3q26.33</td>\n",
       "    </tr>\n",
       "    <tr>\n",
       "      <th>ZMYM2</th>\n",
       "      <td>2.055472</td>\n",
       "      <td>13q12.11</td>\n",
       "    </tr>\n",
       "    <tr>\n",
       "      <th>DAAM1</th>\n",
       "      <td>1.960115</td>\n",
       "      <td>14q23.1</td>\n",
       "    </tr>\n",
       "    <tr>\n",
       "      <th>CES3</th>\n",
       "      <td>1.888471</td>\n",
       "      <td>16q22.1</td>\n",
       "    </tr>\n",
       "    <tr>\n",
       "      <th>CD200</th>\n",
       "      <td>1.856102</td>\n",
       "      <td>3q13.2</td>\n",
       "    </tr>\n",
       "    <tr>\n",
       "      <th>SUGT1</th>\n",
       "      <td>1.854940</td>\n",
       "      <td>13q14.3</td>\n",
       "    </tr>\n",
       "    <tr>\n",
       "      <th>CNTNAP2</th>\n",
       "      <td>1.827660</td>\n",
       "      <td>7q35</td>\n",
       "    </tr>\n",
       "    <tr>\n",
       "      <th>LONRF1</th>\n",
       "      <td>1.804946</td>\n",
       "      <td>8p23.1</td>\n",
       "    </tr>\n",
       "    <tr>\n",
       "      <th>BACH2</th>\n",
       "      <td>1.709520</td>\n",
       "      <td>6q15</td>\n",
       "    </tr>\n",
       "    <tr>\n",
       "      <th>MACROD2</th>\n",
       "      <td>1.679847</td>\n",
       "      <td>20p12.1</td>\n",
       "    </tr>\n",
       "    <tr>\n",
       "      <th>KIDINS220</th>\n",
       "      <td>1.599230</td>\n",
       "      <td>2p25.1</td>\n",
       "    </tr>\n",
       "    <tr>\n",
       "      <th>IGSF3</th>\n",
       "      <td>1.501988</td>\n",
       "      <td>1p13.1</td>\n",
       "    </tr>\n",
       "    <tr>\n",
       "      <th>RYBP</th>\n",
       "      <td>1.493022</td>\n",
       "      <td>3p13</td>\n",
       "    </tr>\n",
       "    <tr>\n",
       "      <th>ZNF606</th>\n",
       "      <td>1.401968</td>\n",
       "      <td>19q13.43</td>\n",
       "    </tr>\n",
       "    <tr>\n",
       "      <th>KIFAP3</th>\n",
       "      <td>1.239053</td>\n",
       "      <td>1q24.2</td>\n",
       "    </tr>\n",
       "    <tr>\n",
       "      <th>HACL1</th>\n",
       "      <td>1.221614</td>\n",
       "      <td>3p25.1</td>\n",
       "    </tr>\n",
       "    <tr>\n",
       "      <th>MBD5</th>\n",
       "      <td>1.196440</td>\n",
       "      <td>2q23.1</td>\n",
       "    </tr>\n",
       "    <tr>\n",
       "      <th>CHST15</th>\n",
       "      <td>1.184479</td>\n",
       "      <td>10q26.13</td>\n",
       "    </tr>\n",
       "    <tr>\n",
       "      <th>CCAR1</th>\n",
       "      <td>1.170604</td>\n",
       "      <td>10q21.3</td>\n",
       "    </tr>\n",
       "  </tbody>\n",
       "</table>\n",
       "</div>"
      ],
      "text/plain": [
       "              LV588 gene_band\n",
       "ASB8       4.260123  12q13.11\n",
       "PEX1       3.746568    7q21.2\n",
       "BLOC1S3    3.451845  19q13.32\n",
       "VLDLR      3.393852    9p24.2\n",
       "ATP8A2     2.129880  13q12.13\n",
       "SLC7A6     2.108679   16q22.1\n",
       "MFN1       2.061924   3q26.33\n",
       "ZMYM2      2.055472  13q12.11\n",
       "DAAM1      1.960115   14q23.1\n",
       "CES3       1.888471   16q22.1\n",
       "CD200      1.856102    3q13.2\n",
       "SUGT1      1.854940   13q14.3\n",
       "CNTNAP2    1.827660      7q35\n",
       "LONRF1     1.804946    8p23.1\n",
       "BACH2      1.709520      6q15\n",
       "MACROD2    1.679847   20p12.1\n",
       "KIDINS220  1.599230    2p25.1\n",
       "IGSF3      1.501988    1p13.1\n",
       "RYBP       1.493022      3p13\n",
       "ZNF606     1.401968  19q13.43\n",
       "KIFAP3     1.239053    1q24.2\n",
       "HACL1      1.221614    3p25.1\n",
       "MBD5       1.196440    2q23.1\n",
       "CHST15     1.184479  10q26.13\n",
       "CCAR1      1.170604   10q21.3"
      ]
     },
     "metadata": {},
     "output_type": "display_data"
    }
   ],
   "source": [
    "lv_genes = get_lv_genes(lv_code)\n",
    "display(lv_genes.head(25))"
   ]
  },
  {
   "cell_type": "code",
   "execution_count": 153,
   "id": "5a143a76-576b-46e6-a353-4cf3a0688e3a",
   "metadata": {},
   "outputs": [
    {
     "data": {
      "text/plain": [
       "8p23.1      2\n",
       "7q21.2      2\n",
       "10q26.13    2\n",
       "16q22.1     2\n",
       "4q21.1      2\n",
       "1p35.3      1\n",
       "11q21       1\n",
       "3q13.2      1\n",
       "1p31.1      1\n",
       "2q23.1      1\n",
       "Name: gene_band, dtype: int64"
      ]
     },
     "execution_count": 153,
     "metadata": {},
     "output_type": "execute_result"
    }
   ],
   "source": [
    "# see bands of top genes\n",
    "lv_genes.head(68)[\"gene_band\"].value_counts().head(10)"
   ]
  },
  {
   "cell_type": "markdown",
   "id": "1bfea597-3792-40a7-9094-77bcde732faf",
   "metadata": {},
   "source": [
    "# Conclusions"
   ]
  },
  {
   "cell_type": "markdown",
   "id": "3a3b76b3-2b7d-4401-9685-1cf09bbf22ef",
   "metadata": {},
   "source": [
    "When using the full correlation matrix (all gene-gene correlations in a chromosome), it improves a little bit the mean type I error over the 5mb distance correlation matrix (only across genes within 5mb of distance) from 0.0557 to 0.0544.\n",
    "\n",
    "However, this difference is very small and, importantely, using the full correlation matrix does not fix the problem with LVs like LV914."
   ]
  },
  {
   "cell_type": "code",
   "execution_count": null,
   "id": "0e32637a-d3fb-4833-93d3-7d680ee8bdbe",
   "metadata": {},
   "outputs": [],
   "source": []
  }
 ],
 "metadata": {
  "jupytext": {
   "cell_metadata_filter": "all,-execution,-papermill,-trusted",
   "formats": "ipynb,py//py:percent"
  },
  "kernelspec": {
   "display_name": "Python 3 (ipykernel)",
   "language": "python",
   "name": "python3"
  },
  "language_info": {
   "codemirror_mode": {
    "name": "ipython",
    "version": 3
   },
   "file_extension": ".py",
   "mimetype": "text/x-python",
   "name": "python",
   "nbconvert_exporter": "python",
   "pygments_lexer": "ipython3",
   "version": "3.8.13"
  },
  "papermill": {
   "default_parameters": {},
   "duration": 2.899223,
   "end_time": "2022-02-24T05:32:05.472242",
   "environment_variables": {},
   "exception": null,
   "input_path": "nbs/15_gsa_gls/26-gls-null_simulations-plots.ipynb",
   "output_path": "nbs/15_gsa_gls/26-gls-null_simulations-plots.run.ipynb",
   "parameters": {},
   "start_time": "2022-02-24T05:32:02.573019",
   "version": "2.2.2"
  },
  "toc-autonumbering": true
 },
 "nbformat": 4,
 "nbformat_minor": 5
}
