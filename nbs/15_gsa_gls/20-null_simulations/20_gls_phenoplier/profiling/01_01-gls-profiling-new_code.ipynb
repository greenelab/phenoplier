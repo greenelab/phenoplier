{
 "cells": [
  {
   "cell_type": "markdown",
   "id": "03d081e4-52aa-44fb-929f-a41a40462027",
   "metadata": {
    "papermill": {
     "duration": 0.038207,
     "end_time": "2022-02-24T05:32:03.755452",
     "exception": false,
     "start_time": "2022-02-24T05:32:03.717245",
     "status": "completed"
    },
    "tags": []
   },
   "source": [
    "# Description"
   ]
  },
  {
   "cell_type": "markdown",
   "id": "66274557-e01c-429c-a21d-8184da44d159",
   "metadata": {
    "papermill": {
     "duration": 0.009944,
     "end_time": "2022-02-24T05:32:03.780673",
     "exception": false,
     "start_time": "2022-02-24T05:32:03.770729",
     "status": "completed"
    },
    "tags": []
   },
   "source": [
    "It profiles some functions to compute the correlation between predicted gene expression. Each of these notebooks is supposed to be run in a particular changeset.\n",
    "\n",
    "**Before running this notebook**, make sure you are in this changeset:\n",
    "```bash\n",
    "# the changes tried to improve the performance of Gene.get_expression_correlation\n",
    "git co f24bf2a8b93c7202bb22c39b088f48680aa84bfa\n",
    "```"
   ]
  },
  {
   "cell_type": "code",
   "execution_count": 1,
   "id": "9153d2fe-20d7-4ac9-8163-65c8461bcac3",
   "metadata": {},
   "outputs": [],
   "source": [
    "%load_ext line_profiler"
   ]
  },
  {
   "cell_type": "markdown",
   "id": "fb645f46",
   "metadata": {
    "papermill": {
     "duration": 0.008401,
     "end_time": "2022-02-24T05:32:03.797668",
     "exception": false,
     "start_time": "2022-02-24T05:32:03.789267",
     "status": "completed"
    },
    "tags": []
   },
   "source": [
    "# Modules"
   ]
  },
  {
   "cell_type": "code",
   "execution_count": 2,
   "id": "7ce51c68",
   "metadata": {
    "papermill": {
     "duration": 0.861241,
     "end_time": "2022-02-24T05:32:04.667481",
     "exception": false,
     "start_time": "2022-02-24T05:32:03.806240",
     "status": "completed"
    },
    "tags": []
   },
   "outputs": [],
   "source": [
    "from entity import Gene"
   ]
  },
  {
   "cell_type": "markdown",
   "id": "74ea227c-6e63-4eb1-a7eb-45662d6c50ec",
   "metadata": {},
   "source": [
    "# Functions"
   ]
  },
  {
   "cell_type": "code",
   "execution_count": 3,
   "id": "a5fe6108-925b-4958-85b3-37199aed5b6b",
   "metadata": {},
   "outputs": [],
   "source": [
    "def compute_ssm_correlation(all_genes):\n",
    "    res = []\n",
    "    for g1_idx, g1 in enumerate(all_genes[:-1]):\n",
    "        for g2 in all_genes[g1_idx:]:\n",
    "            c = g1.get_ssm_correlation(\n",
    "                g2,\n",
    "                reference_panel=\"1000G\",\n",
    "                model_type=\"MASHR\",\n",
    "                use_within_distance=False,\n",
    "            )\n",
    "            res.append(c)\n",
    "    return res"
   ]
  },
  {
   "cell_type": "markdown",
   "id": "4986199c-0c0b-4ffe-880c-58bed9e4a9f3",
   "metadata": {},
   "source": [
    "# Test case"
   ]
  },
  {
   "cell_type": "code",
   "execution_count": 4,
   "id": "8b081b64-0f25-4cac-bf83-609d3b701e6e",
   "metadata": {},
   "outputs": [],
   "source": [
    "gene1 = Gene(ensembl_id=\"ENSG00000180596\")\n",
    "gene2 = Gene(ensembl_id=\"ENSG00000180573\")\n",
    "gene3 = Gene(ensembl_id=\"ENSG00000274641\")\n",
    "gene4 = Gene(ensembl_id=\"ENSG00000277224\")\n",
    "\n",
    "all_genes = [gene1, gene2, gene3, gene4]"
   ]
  },
  {
   "cell_type": "code",
   "execution_count": 5,
   "id": "fe2411df-f55d-412d-ab79-bd8874518efd",
   "metadata": {},
   "outputs": [],
   "source": [
    "assert len(set([g.chromosome for g in all_genes])) == 1"
   ]
  },
  {
   "cell_type": "markdown",
   "id": "bb1c4f50-2ab4-497d-993d-be62f7f748c9",
   "metadata": {},
   "source": [
    "# Run timeit"
   ]
  },
  {
   "cell_type": "code",
   "execution_count": 6,
   "id": "770e7df8-662b-418c-8272-09d0436475ab",
   "metadata": {},
   "outputs": [
    {
     "name": "stdout",
     "output_type": "stream",
     "text": [
      "1.41 s ± 8.15 ms per loop (mean ± std. dev. of 7 runs, 1 loop each)\n"
     ]
    }
   ],
   "source": [
    "%timeit compute_ssm_correlation(all_genes)"
   ]
  },
  {
   "cell_type": "markdown",
   "id": "03ee5cd4-4384-4469-b640-2e277089a829",
   "metadata": {},
   "source": [
    "# Profile"
   ]
  },
  {
   "cell_type": "code",
   "execution_count": 7,
   "id": "21d48b01-5dcd-4140-a4ed-984a3834e220",
   "metadata": {},
   "outputs": [
    {
     "name": "stdout",
     "output_type": "stream",
     "text": [
      " "
     ]
    },
    {
     "data": {
      "text/plain": [
       "         4031835 function calls (4027083 primitive calls) in 2.514 seconds\n",
       "\n",
       "   Ordered by: cumulative time\n",
       "   List reduced from 460 to 20 due to restriction <20>\n",
       "\n",
       "   ncalls  tottime  percall  cumtime  percall filename:lineno(function)\n",
       "        1    0.000    0.000    2.514    2.514 {built-in method builtins.exec}\n",
       "        1    0.000    0.000    2.514    2.514 <string>:1(<module>)\n",
       "        1    0.000    0.000    2.514    2.514 85958312.py:1(compute_ssm_correlation)\n",
       "        9    0.001    0.000    2.514    0.279 entity.py:1039(get_ssm_correlation)\n",
       "       27    0.061    0.002    2.494    0.092 entity.py:987(get_tissues_correlations)\n",
       "    64827    0.433    0.000    2.314    0.000 entity.py:898(get_expression_correlation)\n",
       "    29560    0.298    0.000    1.000    0.000 entity.py:771(_get_snps_cov)\n",
       "    88680    0.050    0.000    0.926    0.000 <__array_function__ internals>:2(ix_)\n",
       "92007/89784    0.048    0.000    0.901    0.000 {built-in method numpy.core._multiarray_umath.implement_array_function}\n",
       "    88680    0.261    0.000    0.821    0.000 index_tricks.py:34(ix_)\n",
       "    59120    0.092    0.000    0.402    0.000 base.py:743(to_numpy)\n",
       "178371/178227    0.043    0.000    0.289    0.000 _asarray.py:14(asarray)\n",
       "181134/180918    0.248    0.000    0.249    0.000 {built-in method numpy.array}\n",
       "   118564    0.089    0.000    0.218    0.000 numerictypes.py:360(issubdtype)\n",
       "    61523    0.049    0.000    0.123    0.000 common.py:1460(is_extension_array_dtype)\n",
       "   237128    0.078    0.000    0.118    0.000 numerictypes.py:286(issubclass_)\n",
       "    59147    0.085    0.000    0.112    0.000 base.py:1032(__iter__)\n",
       "    59498    0.026    0.000    0.088    0.000 series.py:427(dtype)\n",
       "       54    0.001    0.000    0.078    0.001 frame.py:4887(dropna)\n",
       "    59201    0.023    0.000    0.071    0.000 series.py:540(_values)"
      ]
     },
     "metadata": {},
     "output_type": "display_data"
    }
   ],
   "source": [
    "%prun -l 20 -s cumulative compute_ssm_correlation(all_genes)"
   ]
  },
  {
   "cell_type": "code",
   "execution_count": 8,
   "id": "7d41830e-5cdf-48d4-8035-6839dd97ae38",
   "metadata": {},
   "outputs": [
    {
     "name": "stdout",
     "output_type": "stream",
     "text": [
      " "
     ]
    },
    {
     "data": {
      "text/plain": [
       "         4031835 function calls (4027083 primitive calls) in 2.520 seconds\n",
       "\n",
       "   Ordered by: internal time\n",
       "   List reduced from 460 to 20 due to restriction <20>\n",
       "\n",
       "   ncalls  tottime  percall  cumtime  percall filename:lineno(function)\n",
       "    64827    0.433    0.000    2.320    0.000 entity.py:898(get_expression_correlation)\n",
       "    29560    0.304    0.000    1.003    0.000 entity.py:771(_get_snps_cov)\n",
       "    88680    0.261    0.000    0.819    0.000 index_tricks.py:34(ix_)\n",
       "181134/180918    0.248    0.000    0.249    0.000 {built-in method numpy.array}\n",
       "    59120    0.092    0.000    0.403    0.000 base.py:743(to_numpy)\n",
       "   118564    0.089    0.000    0.217    0.000 numerictypes.py:360(issubdtype)\n",
       "    59147    0.085    0.000    0.112    0.000 base.py:1032(__iter__)\n",
       "   237128    0.077    0.000    0.117    0.000 numerictypes.py:286(issubclass_)\n",
       "       27    0.061    0.002    2.500    0.093 entity.py:987(get_tissues_correlations)\n",
       "   422969    0.058    0.000    0.058    0.000 {built-in method builtins.issubclass}\n",
       "    59120    0.057    0.000    0.070    0.000 entity.py:831(_get_snps_with_genotypes)\n",
       "   118240    0.051    0.000    0.051    0.000 {method 'reshape' of 'numpy.ndarray' objects}\n",
       "    88680    0.049    0.000    0.923    0.000 <__array_function__ internals>:2(ix_)\n",
       "    61523    0.049    0.000    0.124    0.000 common.py:1460(is_extension_array_dtype)\n",
       "92007/89784    0.048    0.000    0.900    0.000 {built-in method numpy.core._multiarray_umath.implement_array_function}\n",
       "178371/178227    0.043    0.000    0.289    0.000 _asarray.py:14(asarray)\n",
       "    61604    0.043    0.000    0.061    0.000 base.py:413(find)\n",
       "   391836    0.043    0.000    0.046    0.000 {built-in method builtins.isinstance}\n",
       "    59498    0.036    0.000    0.063    0.000 managers.py:1611(dtype)\n",
       "274710/272739    0.031    0.000    0.032    0.000 {built-in method builtins.len}"
      ]
     },
     "metadata": {},
     "output_type": "display_data"
    }
   ],
   "source": [
    "%prun -l 20 -s time compute_ssm_correlation(all_genes)"
   ]
  },
  {
   "cell_type": "markdown",
   "id": "f21a3695-8e0a-456d-ad0b-172bf501e9d7",
   "metadata": {
    "tags": []
   },
   "source": [
    "# Profile by line"
   ]
  },
  {
   "cell_type": "markdown",
   "id": "34181958-5c6f-4392-8432-fae649c05a8d",
   "metadata": {},
   "source": [
    "## Function `get_expression_correlation`"
   ]
  },
  {
   "cell_type": "code",
   "execution_count": 9,
   "id": "63b66026-e494-4aaa-a05f-77b1ba6514b6",
   "metadata": {},
   "outputs": [
    {
     "data": {
      "text/plain": [
       "Timer unit: 1e-06 s\n",
       "\n",
       "Total time: 3.30807 s\n",
       "File: /opt/code/libs/entity.py\n",
       "Function: get_expression_correlation at line 898\n",
       "\n",
       "Line #      Hits         Time  Per Hit   % Time  Line Contents\n",
       "==============================================================\n",
       "   898                                               def get_expression_correlation(\n",
       "   899                                                   self,\n",
       "   900                                                   other_gene,\n",
       "   901                                                   tissue: str,\n",
       "   902                                                   other_tissue: str = None,\n",
       "   903                                                   reference_panel: str = \"GTEX_V8\",\n",
       "   904                                                   model_type: str = \"MASHR\",\n",
       "   905                                                   use_within_distance=True,\n",
       "   906                                               ):\n",
       "   907                                                   \"\"\"\n",
       "   908                                                   Given another Gene object and a tissue, it computes the correlation\n",
       "   909                                                   between their predicted expression.\n",
       "   910                                           \n",
       "   911                                                   Args:\n",
       "   912                                                       other_gene:\n",
       "   913                                                           Another Gene object.\n",
       "   914                                                       tissue:\n",
       "   915                                                           The tissue name that will be used for both genes, or this gene\n",
       "   916                                                           (self) if 'other_gene' is provided.\n",
       "   917                                                       other_tissue:\n",
       "   918                                                           The tissue name that will be used for 'other_gene'. In that\n",
       "   919                                                           case, 'tissue' is for this gene (self).\n",
       "   920                                                       reference_panel:\n",
       "   921                                                           A reference panel for the SNP covariance matrix. Either GTEX_V8 or 1000G.\n",
       "   922                                                       model_type:\n",
       "   923                                                           The prediction model type, such as \"MASHR\" or \"ELASTIC_NET\" (see conf.py).\n",
       "   924                                           \n",
       "   925                                                   Returns:\n",
       "   926                                                       A float with the correlation of the two genes' predicted expression.\n",
       "   927                                                       None if:\n",
       "   928                                                         * One if any of the genes have no predictors (SNPs) in the tissue.\n",
       "   929                                                         * TODO: what else?\n",
       "   930                                                   \"\"\"\n",
       "   931     64827      57350.0      0.9      1.7          if self.chromosome != other_gene.chromosome:\n",
       "   932                                                       return 0.0\n",
       "   933                                           \n",
       "   934     64827      29033.0      0.4      0.9          if use_within_distance and not self.within_distance(other_gene):\n",
       "   935                                                       return 0.0\n",
       "   936                                           \n",
       "   937     64827      29603.0      0.5      0.9          other_gene_tissue = tissue\n",
       "   938     64827      31084.0      0.5      0.9          if other_tissue is not None:\n",
       "   939     64827      28912.0      0.4      0.9              other_gene_tissue = other_tissue\n",
       "   940                                           \n",
       "   941     64827      56316.0      0.9      1.7          gene_w = self.get_prediction_weights(tissue, model_type, varid_as_index=True)\n",
       "   942     64827      30584.0      0.5      0.9          if gene_w is None:\n",
       "   943     19061       7820.0      0.4      0.2              return None\n",
       "   944                                                   # gene_w = gene_w.set_index(\"varID\")\n",
       "   945                                                   # if gene_w.abs().sum().sum() == 0.0:\n",
       "   946                                                   #     # some genes in the models have weight equal to zero (weird)\n",
       "   947                                                   #     return 0.0\n",
       "   948                                           \n",
       "   949     91532      54146.0      0.6      1.6          other_gene_w = other_gene.get_prediction_weights(\n",
       "   950     45766      20663.0      0.5      0.6              other_gene_tissue, model_type, varid_as_index=True\n",
       "   951                                                   )\n",
       "   952     45766      21968.0      0.5      0.7          if other_gene_w is None:\n",
       "   953     11810       5031.0      0.4      0.2              return None\n",
       "   954                                                   # other_gene_w = other_gene_w.set_index(\"varID\")\n",
       "   955                                                   # if other_gene_w.abs().sum().sum() == 0.0:\n",
       "   956                                                   #     return 0.0\n",
       "   957                                           \n",
       "   958                                                   # get genes' variances\n",
       "   959     67912      39296.0      0.6      1.2          gene_var = self.get_pred_expression_variance(\n",
       "   960     33956      16250.0      0.5      0.5              tissue, reference_panel, model_type\n",
       "   961                                                   )\n",
       "   962     33956      26163.0      0.8      0.8          if gene_var is None or gene_var == 0.0:\n",
       "   963      2300        962.0      0.4      0.0              return None\n",
       "   964                                           \n",
       "   965     63312      35495.0      0.6      1.1          other_gene_var = other_gene.get_pred_expression_variance(\n",
       "   966     31656      15205.0      0.5      0.5              other_gene_tissue, reference_panel, model_type\n",
       "   967                                                   )\n",
       "   968     31656      18907.0      0.6      0.6          if other_gene_var is None or other_gene_var == 0.0:\n",
       "   969      2096        957.0      0.5      0.0              return None\n",
       "   970                                           \n",
       "   971     59120    1352732.0     22.9     40.9          (snps_cov, (_, snps_pos_list1), (_, snps_pos_list2),) = self._get_snps_cov(\n",
       "   972     29560      23546.0      0.8      0.7              gene_w.index,\n",
       "   973     29560      18535.0      0.6      0.6              other_gene_w.index,\n",
       "   974     29560      13763.0      0.5      0.4              reference_panel=reference_panel,\n",
       "   975     29560      13651.0      0.5      0.4              model_type=model_type,\n",
       "   976                                                   )\n",
       "   977                                           \n",
       "   978                                                   # align weights with snps cov\n",
       "   979     29560     602662.0     20.4     18.2          gene_w = gene_w.to_numpy()[np.ix_(snps_pos_list1)]\n",
       "   980     29560     521336.0     17.6     15.8          other_gene_w = other_gene_w.to_numpy()[np.ix_(snps_pos_list2)]\n",
       "   981                                           \n",
       "   982                                                   # formula from the MultiXcan paper:\n",
       "   983                                                   #   https://doi.org/10.1371/journal.pgen.1007889\n",
       "   984     29560     236099.0      8.0      7.1          return (gene_w.T @ snps_cov @ other_gene_w) / np.sqrt(gene_var * other_gene_var)"
      ]
     },
     "metadata": {},
     "output_type": "display_data"
    }
   ],
   "source": [
    "%lprun -f Gene.get_expression_correlation compute_ssm_correlation(all_genes)"
   ]
  },
  {
   "cell_type": "markdown",
   "id": "b04fe7be-d2b9-4f0b-927c-6ace45d6bb37",
   "metadata": {},
   "source": [
    "## Function `_get_snps_cov`"
   ]
  },
  {
   "cell_type": "code",
   "execution_count": 10,
   "id": "807e3880-6806-46f8-9d03-d8177abe5183",
   "metadata": {},
   "outputs": [
    {
     "data": {
      "text/plain": [
       "Timer unit: 1e-06 s\n",
       "\n",
       "Total time: 1.61329 s\n",
       "File: /opt/code/libs/entity.py\n",
       "Function: _get_snps_cov at line 771\n",
       "\n",
       "Line #      Hits         Time  Per Hit   % Time  Line Contents\n",
       "==============================================================\n",
       "   771                                               @staticmethod\n",
       "   772                                               def _get_snps_cov(\n",
       "   773                                                   snps_ids_list1,\n",
       "   774                                                   snps_ids_list2=None,\n",
       "   775                                                   check=False,\n",
       "   776                                                   reference_panel=\"GTEX_V8\",\n",
       "   777                                                   model_type=\"MASHR\",\n",
       "   778                                               ):\n",
       "   779                                                   \"\"\"\n",
       "   780                                                   Given one or (optionally) two lists of SNPs IDs, it returns the\n",
       "   781                                                   covariance matrix for\n",
       "   782                                                   Args:\n",
       "   783                                                       snps_ids_list1:\n",
       "   784                                                           A list of SNPs IDs. When only this parameter is used, generally\n",
       "   785                                                           one wants to compute its predicted expression covariance.\n",
       "   786                                                       snps_ids_list2:\n",
       "   787                                                           (Optional) A second list of SNPs IDs. When this is used, it is\n",
       "   788                                                           generally the SNPs from a second gene.\n",
       "   789                                                       check:\n",
       "   790                                                           If should be checked that all SNPs are from the same chromosome.\n",
       "   791                                                       reference_panel:\n",
       "   792                                                           Reference panel used to compute SNP covariance matrix. Either GTEX_V8\n",
       "   793                                                           or 1000G.\n",
       "   794                                                       model_type:\n",
       "   795                                                           The prediction model type, such as \"MASHR\" or \"ELASTIC_NET\" (see conf.py).\n",
       "   796                                           \n",
       "   797                                                   Returns:\n",
       "   798                                                       Return a pandas dataframe with the SNPs specified in the arguments\n",
       "   799                                                       for which we have genotype data (otherwise we don't have its\n",
       "   800                                                       covariance).\n",
       "   801                                                   \"\"\"\n",
       "   802     29560     139354.0      4.7      8.6          snps_ids_list1 = list(snps_ids_list1)\n",
       "   803                                           \n",
       "   804     29560      28105.0      1.0      1.7          if len(snps_ids_list1) == 0:\n",
       "   805                                                       return None\n",
       "   806                                           \n",
       "   807     29560      22977.0      0.8      1.4          if snps_ids_list2 is None:\n",
       "   808                                                       snps_ids_list2 = snps_ids_list1\n",
       "   809                                                   else:\n",
       "   810     29560      94025.0      3.2      5.8              snps_ids_list2 = list(snps_ids_list2)\n",
       "   811     29560      21511.0      0.7      1.3              if len(snps_ids_list2) == 0:\n",
       "   812                                                           return None\n",
       "   813                                           \n",
       "   814     29560      23178.0      0.8      1.4          first_snp_id = snps_ids_list1[0]\n",
       "   815     29560      36348.0      1.2      2.3          snps_chr = first_snp_id.split(\"_\")[0]\n",
       "   816                                           \n",
       "   817     29560      21016.0      0.7      1.3          if check:\n",
       "   818                                                       # all snps must be from the same chromosome\n",
       "   819                                                       all_snps = pd.Series(list(set(snps_ids_list1 + snps_ids_list2)))\n",
       "   820                                                       all_snps_chr = all_snps.str.split(\"_\", expand=True)[0]\n",
       "   821                                                       if all_snps_chr.unique().shape[0] != 1:\n",
       "   822                                                           raise ValueError(\"Only snps from the same chromosome are supported\")\n",
       "   823                                           \n",
       "   824                                                   # read the entire covariance matrix for this chromosome\n",
       "   825     59120      56811.0      1.0      3.5          snps_cov, snps_cov_variants, snp_index_dict = Gene._read_snps_cov(\n",
       "   826     29560      22519.0      0.8      1.4              snps_chr, reference_panel, model_type\n",
       "   827                                                   )\n",
       "   828                                           \n",
       "   829                                                   # from the specified SNP lists, only keep those for which we have\n",
       "   830                                                   # genotypes\n",
       "   831     29560      26761.0      0.9      1.7          def _get_snps_with_genotypes(snps_list):\n",
       "   832                                                       snps_ids_with_genotype = []\n",
       "   833                                                       snps_pos_with_genotype = []\n",
       "   834                                           \n",
       "   835                                                       for v_idx, v in enumerate(snps_list):\n",
       "   836                                                           if v in snps_cov_variants:\n",
       "   837                                                               snps_ids_with_genotype.append(v)\n",
       "   838                                                               snps_pos_with_genotype.append(v_idx)\n",
       "   839                                           \n",
       "   840                                                       return snps_ids_with_genotype, snps_pos_with_genotype\n",
       "   841                                           \n",
       "   842     29560      90139.0      3.0      5.6          snps_ids_list1, snps_pos_list1 = _get_snps_with_genotypes(snps_ids_list1)\n",
       "   843     29560      73878.0      2.5      4.6          snps_ids_list2, snps_pos_list2 = _get_snps_with_genotypes(snps_ids_list2)\n",
       "   844                                           \n",
       "   845     59120     146065.0      2.5      9.1          snps_cov = snps_cov[\n",
       "   846     59120     604075.0     10.2     37.4              np.ix_(\n",
       "   847     29560      46546.0      1.6      2.9                  [snp_index_dict[v] for v in snps_ids_list1],\n",
       "   848     29560      38275.0      1.3      2.4                  [snp_index_dict[v] for v in snps_ids_list2],\n",
       "   849                                                       )\n",
       "   850                                                   ]\n",
       "   851                                           \n",
       "   852     29560      36212.0      1.2      2.2          if snps_cov.shape[0] == 0 or snps_cov.shape[1] == 0:\n",
       "   853                                                       return None\n",
       "   854                                           \n",
       "   855     29560      21422.0      0.7      1.3          return (\n",
       "   856     29560      20104.0      0.7      1.2              snps_cov,\n",
       "   857     29560      23258.0      0.8      1.4              (snps_ids_list1, snps_pos_list1),\n",
       "   858     29560      20710.0      0.7      1.3              (snps_ids_list2, snps_pos_list2),\n",
       "   859                                                   )"
      ]
     },
     "metadata": {},
     "output_type": "display_data"
    }
   ],
   "source": [
    "%lprun -f Gene._get_snps_cov compute_ssm_correlation(all_genes)"
   ]
  },
  {
   "cell_type": "code",
   "execution_count": null,
   "id": "8aa4981d-d6e7-4c42-b8a6-cf8da6902685",
   "metadata": {},
   "outputs": [],
   "source": []
  }
 ],
 "metadata": {
  "jupytext": {
   "cell_metadata_filter": "all,-execution,-papermill,-trusted",
   "formats": "ipynb,py//py:percent"
  },
  "kernelspec": {
   "display_name": "Python 3 (ipykernel)",
   "language": "python",
   "name": "python3"
  },
  "language_info": {
   "codemirror_mode": {
    "name": "ipython",
    "version": 3
   },
   "file_extension": ".py",
   "mimetype": "text/x-python",
   "name": "python",
   "nbconvert_exporter": "python",
   "pygments_lexer": "ipython3",
   "version": "3.8.13"
  },
  "papermill": {
   "default_parameters": {},
   "duration": 2.899223,
   "end_time": "2022-02-24T05:32:05.472242",
   "environment_variables": {},
   "exception": null,
   "input_path": "nbs/15_gsa_gls/26-gls-null_simulations-plots.ipynb",
   "output_path": "nbs/15_gsa_gls/26-gls-null_simulations-plots.run.ipynb",
   "parameters": {},
   "start_time": "2022-02-24T05:32:02.573019",
   "version": "2.2.2"
  },
  "toc-autonumbering": true
 },
 "nbformat": 4,
 "nbformat_minor": 5
}
