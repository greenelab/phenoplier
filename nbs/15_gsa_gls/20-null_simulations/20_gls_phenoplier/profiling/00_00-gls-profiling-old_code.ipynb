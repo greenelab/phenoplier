{
 "cells": [
  {
   "cell_type": "markdown",
   "id": "b7acf0c2",
   "metadata": {
    "papermill": {
     "duration": 0.038207,
     "end_time": "2022-02-24T05:32:03.755452",
     "exception": false,
     "start_time": "2022-02-24T05:32:03.717245",
     "status": "completed"
    },
    "tags": []
   },
   "source": [
    "# Description"
   ]
  },
  {
   "cell_type": "markdown",
   "id": "2653adfb",
   "metadata": {
    "papermill": {
     "duration": 0.009944,
     "end_time": "2022-02-24T05:32:03.780673",
     "exception": false,
     "start_time": "2022-02-24T05:32:03.770729",
     "status": "completed"
    },
    "tags": []
   },
   "source": [
    "It profiles some functions to compute the correlation between predicted gene expression. Each of these notebooks is supposed to be run in a particular changeset.\n",
    "\n",
    "**Before running this notebook**, make sure you are in this changeset:\n",
    "```bash\n",
    "git co 6149a6f90f41534d0979b434cd16d17cc28d2c5f\n",
    "```"
   ]
  },
  {
   "cell_type": "code",
   "execution_count": 1,
   "id": "9153d2fe-20d7-4ac9-8163-65c8461bcac3",
   "metadata": {},
   "outputs": [],
   "source": [
    "%load_ext line_profiler"
   ]
  },
  {
   "cell_type": "markdown",
   "id": "fb645f46",
   "metadata": {
    "papermill": {
     "duration": 0.008401,
     "end_time": "2022-02-24T05:32:03.797668",
     "exception": false,
     "start_time": "2022-02-24T05:32:03.789267",
     "status": "completed"
    },
    "tags": []
   },
   "source": [
    "# Modules"
   ]
  },
  {
   "cell_type": "code",
   "execution_count": 2,
   "id": "7ce51c68",
   "metadata": {
    "papermill": {
     "duration": 0.861241,
     "end_time": "2022-02-24T05:32:04.667481",
     "exception": false,
     "start_time": "2022-02-24T05:32:03.806240",
     "status": "completed"
    },
    "tags": []
   },
   "outputs": [],
   "source": [
    "from entity import Gene"
   ]
  },
  {
   "cell_type": "markdown",
   "id": "74ea227c-6e63-4eb1-a7eb-45662d6c50ec",
   "metadata": {},
   "source": [
    "# Functions"
   ]
  },
  {
   "cell_type": "code",
   "execution_count": 3,
   "id": "a5fe6108-925b-4958-85b3-37199aed5b6b",
   "metadata": {},
   "outputs": [],
   "source": [
    "def compute_ssm_correlation(all_genes):\n",
    "    res = []\n",
    "    for g1_idx, g1 in enumerate(all_genes[:-1]):\n",
    "        for g2 in all_genes[g1_idx:]:\n",
    "            c = g1.get_ssm_correlation(\n",
    "                g2,\n",
    "                reference_panel=\"1000G\",\n",
    "                model_type=\"MASHR\",\n",
    "                use_within_distance=False,\n",
    "            )\n",
    "            res.append(c)\n",
    "    return res"
   ]
  },
  {
   "cell_type": "markdown",
   "id": "4986199c-0c0b-4ffe-880c-58bed9e4a9f3",
   "metadata": {},
   "source": [
    "# Test case"
   ]
  },
  {
   "cell_type": "code",
   "execution_count": 4,
   "id": "8b081b64-0f25-4cac-bf83-609d3b701e6e",
   "metadata": {},
   "outputs": [],
   "source": [
    "gene1 = Gene(ensembl_id=\"ENSG00000180596\")\n",
    "gene2 = Gene(ensembl_id=\"ENSG00000180573\")\n",
    "gene3 = Gene(ensembl_id=\"ENSG00000274641\")\n",
    "gene4 = Gene(ensembl_id=\"ENSG00000277224\")\n",
    "\n",
    "all_genes = [gene1, gene2, gene3, gene4]"
   ]
  },
  {
   "cell_type": "code",
   "execution_count": 5,
   "id": "fe2411df-f55d-412d-ab79-bd8874518efd",
   "metadata": {},
   "outputs": [],
   "source": [
    "assert len(set([g.chromosome for g in all_genes])) == 1"
   ]
  },
  {
   "cell_type": "markdown",
   "id": "bb1c4f50-2ab4-497d-993d-be62f7f748c9",
   "metadata": {},
   "source": [
    "# Run timeit"
   ]
  },
  {
   "cell_type": "code",
   "execution_count": 6,
   "id": "770e7df8-662b-418c-8272-09d0436475ab",
   "metadata": {},
   "outputs": [
    {
     "name": "stdout",
     "output_type": "stream",
     "text": [
      "40.4 s ± 30.5 ms per loop (mean ± std. dev. of 7 runs, 1 loop each)\n"
     ]
    }
   ],
   "source": [
    "%timeit compute_ssm_correlation(all_genes)"
   ]
  },
  {
   "cell_type": "markdown",
   "id": "03ee5cd4-4384-4469-b640-2e277089a829",
   "metadata": {},
   "source": [
    "# Profile"
   ]
  },
  {
   "cell_type": "code",
   "execution_count": 7,
   "id": "21d48b01-5dcd-4140-a4ed-984a3834e220",
   "metadata": {},
   "outputs": [
    {
     "name": "stdout",
     "output_type": "stream",
     "text": [
      " "
     ]
    },
    {
     "data": {
      "text/plain": [
       "         106908919 function calls (105751327 primitive calls) in 68.422 seconds\n",
       "\n",
       "   Ordered by: cumulative time\n",
       "   List reduced from 507 to 20 due to restriction <20>\n",
       "\n",
       "   ncalls  tottime  percall  cumtime  percall filename:lineno(function)\n",
       "        1    0.000    0.000   68.422   68.422 {built-in method builtins.exec}\n",
       "        1    0.000    0.000   68.422   68.422 <string>:1(<module>)\n",
       "        1    0.000    0.000   68.422   68.422 511008798.py:1(compute_ssm_correlation)\n",
       "        9    0.001    0.000   68.422    7.602 entity.py:1018(get_ssm_correlation)\n",
       "       27    0.216    0.008   68.402    2.533 entity.py:966(get_tissues_correlations)\n",
       "    64827    1.652    0.000   68.068    0.001 entity.py:877(get_expression_correlation)\n",
       "    88734    0.216    0.000   48.663    0.001 indexing.py:864(__getitem__)\n",
       "    29560    9.317    0.000   41.885    0.001 entity.py:762(_get_snps_cov)\n",
       "    29560    0.154    0.000   31.837    0.001 indexing.py:1042(_getitem_tuple)\n",
       "    29560    0.082    0.000   30.350    0.001 indexing.py:986(_multi_take)\n",
       "   118240    0.610    0.000   26.337    0.000 indexing.py:1208(_get_listlike_indexer)\n",
       "    29560    0.063    0.000   21.598    0.001 indexing.py:1003(<dictcomp>)\n",
       "    59174    0.372    0.000   16.392    0.000 indexing.py:1078(_getitem_axis)\n",
       "    88680    0.650    0.000   15.817    0.000 generic.py:4504(_reindex_with_indexers)\n",
       "   574926    0.345    0.000   15.104    0.000 base.py:5562(ensure_index)\n",
       "236588/118294    2.820    0.000   14.660    0.000 base.py:293(__new__)\n",
       "   118294    0.383    0.000   13.942    0.000 managers.py:1247(reindex_indexer)\n",
       "   189800    0.830    0.000   12.450    0.000 base.py:2960(get_indexer)\n",
       "   118240    0.398    0.000   12.253    0.000 base.py:3294(reindex)\n",
       "    59120    0.160    0.000   12.117    0.000 indexing.py:1011(_getitem_iterable)"
      ]
     },
     "metadata": {},
     "output_type": "display_data"
    }
   ],
   "source": [
    "%prun -l 20 -s cumulative compute_ssm_correlation(all_genes)"
   ]
  },
  {
   "cell_type": "markdown",
   "id": "f21a3695-8e0a-456d-ad0b-172bf501e9d7",
   "metadata": {},
   "source": [
    "# Profile by line"
   ]
  },
  {
   "cell_type": "markdown",
   "id": "34181958-5c6f-4392-8432-fae649c05a8d",
   "metadata": {},
   "source": [
    "## Function `get_expression_correlation`"
   ]
  },
  {
   "cell_type": "code",
   "execution_count": 8,
   "id": "63b66026-e494-4aaa-a05f-77b1ba6514b6",
   "metadata": {},
   "outputs": [
    {
     "data": {
      "text/plain": [
       "Timer unit: 1e-06 s\n",
       "\n",
       "Total time: 82.5494 s\n",
       "File: /opt/code/libs/entity.py\n",
       "Function: get_expression_correlation at line 877\n",
       "\n",
       "Line #      Hits         Time  Per Hit   % Time  Line Contents\n",
       "==============================================================\n",
       "   877                                               def get_expression_correlation(\n",
       "   878                                                   self,\n",
       "   879                                                   other_gene,\n",
       "   880                                                   tissue: str,\n",
       "   881                                                   other_tissue: str = None,\n",
       "   882                                                   reference_panel: str = \"GTEX_V8\",\n",
       "   883                                                   model_type: str = \"MASHR\",\n",
       "   884                                                   use_within_distance=True,\n",
       "   885                                               ):\n",
       "   886                                                   \"\"\"\n",
       "   887                                                   Given another Gene object and a tissue, it computes the correlation\n",
       "   888                                                   between their predicted expression.\n",
       "   889                                           \n",
       "   890                                                   Args:\n",
       "   891                                                       other_gene:\n",
       "   892                                                           Another Gene object.\n",
       "   893                                                       tissue:\n",
       "   894                                                           The tissue name that will be used for both genes, or this gene\n",
       "   895                                                           (self) if 'other_gene' is provided.\n",
       "   896                                                       other_tissue:\n",
       "   897                                                           The tissue name that will be used for 'other_gene'. In that\n",
       "   898                                                           case, 'tissue' is for this gene (self).\n",
       "   899                                                       reference_panel:\n",
       "   900                                                           A reference panel for the SNP covariance matrix. Either GTEX_V8 or 1000G.\n",
       "   901                                                       model_type:\n",
       "   902                                                           The prediction model type, such as \"MASHR\" or \"ELASTIC_NET\" (see conf.py).\n",
       "   903                                           \n",
       "   904                                                   Returns:\n",
       "   905                                                       A float with the correlation of the two genes' predicted expression.\n",
       "   906                                                       None if:\n",
       "   907                                                         * One if any of the genes have no predictors (SNPs) in the tissue.\n",
       "   908                                                         * TODO: what else?\n",
       "   909                                                   \"\"\"\n",
       "   910     64827      82463.0      1.3      0.1          if self.chromosome != other_gene.chromosome:\n",
       "   911                                                       return 0.0\n",
       "   912                                           \n",
       "   913     64827      33332.0      0.5      0.0          if use_within_distance and not self.within_distance(other_gene):\n",
       "   914                                                       return 0.0\n",
       "   915                                           \n",
       "   916     64827      29184.0      0.5      0.0          other_gene_tissue = tissue\n",
       "   917     64827      30800.0      0.5      0.0          if other_tissue is not None:\n",
       "   918     64827      28128.0      0.4      0.0              other_gene_tissue = other_tissue\n",
       "   919                                           \n",
       "   920     64827      69231.0      1.1      0.1          gene_w = self.get_prediction_weights(tissue, model_type, varid_as_index=True)\n",
       "   921     64827      30518.0      0.5      0.0          if gene_w is None:\n",
       "   922     19061       7692.0      0.4      0.0              return None\n",
       "   923                                                   # gene_w = gene_w.set_index(\"varID\")\n",
       "   924                                                   # if gene_w.abs().sum().sum() == 0.0:\n",
       "   925                                                   #     # some genes in the models have weight equal to zero (weird)\n",
       "   926                                                   #     return 0.0\n",
       "   927                                           \n",
       "   928     91532      63335.0      0.7      0.1          other_gene_w = other_gene.get_prediction_weights(\n",
       "   929     45766      24430.0      0.5      0.0              other_gene_tissue, model_type, varid_as_index=True\n",
       "   930                                                   )\n",
       "   931     45766      23096.0      0.5      0.0          if other_gene_w is None:\n",
       "   932     11810       5021.0      0.4      0.0              return None\n",
       "   933                                                   # other_gene_w = other_gene_w.set_index(\"varID\")\n",
       "   934                                                   # if other_gene_w.abs().sum().sum() == 0.0:\n",
       "   935                                                   #     return 0.0\n",
       "   936                                           \n",
       "   937                                                   # get genes' variances\n",
       "   938     67912      45991.0      0.7      0.1          gene_var = self.get_pred_expression_variance(\n",
       "   939     33956      16696.0      0.5      0.0              tissue, reference_panel, model_type\n",
       "   940                                                   )\n",
       "   941     33956      34886.0      1.0      0.0          if gene_var is None or gene_var == 0.0:\n",
       "   942      2300        937.0      0.4      0.0              return None\n",
       "   943                                           \n",
       "   944     63312      38057.0      0.6      0.0          other_gene_var = other_gene.get_pred_expression_variance(\n",
       "   945     31656      14743.0      0.5      0.0              other_gene_tissue, reference_panel, model_type\n",
       "   946                                                   )\n",
       "   947     31656      18620.0      0.6      0.0          if other_gene_var is None or other_gene_var == 0.0:\n",
       "   948      2096        834.0      0.4      0.0              return None\n",
       "   949                                           \n",
       "   950     59120   51527647.0    871.6     62.4          snps_cov = self._get_snps_cov(\n",
       "   951     29560      23160.0      0.8      0.0              gene_w.index,\n",
       "   952     29560      22697.0      0.8      0.0              other_gene_w.index,\n",
       "   953     29560      13947.0      0.5      0.0              reference_panel=reference_panel,\n",
       "   954     29560      13155.0      0.4      0.0              model_type=model_type,\n",
       "   955                                                   )\n",
       "   956                                           \n",
       "   957                                                   # align weights with snps cov\n",
       "   958     29560   10320552.0    349.1     12.5          gene_w = gene_w.loc[snps_cov.index]\n",
       "   959     29560   10020557.0    339.0     12.1          other_gene_w = other_gene_w.loc[snps_cov.columns]\n",
       "   960                                           \n",
       "   961                                                   # formula from the MultiXcan paper:\n",
       "   962                                                   #   https://doi.org/10.1371/journal.pgen.1007889\n",
       "   963     29560   10009650.0    338.6     12.1          return (gene_w.T @ snps_cov @ other_gene_w) / np.sqrt(gene_var * other_gene_var)"
      ]
     },
     "metadata": {},
     "output_type": "display_data"
    }
   ],
   "source": [
    "%lprun -f Gene.get_expression_correlation compute_ssm_correlation(all_genes)"
   ]
  },
  {
   "cell_type": "markdown",
   "id": "b04fe7be-d2b9-4f0b-927c-6ace45d6bb37",
   "metadata": {},
   "source": [
    "## Function `_get_snps_cov`"
   ]
  },
  {
   "cell_type": "code",
   "execution_count": 9,
   "id": "807e3880-6806-46f8-9d03-d8177abe5183",
   "metadata": {},
   "outputs": [
    {
     "data": {
      "text/plain": [
       "Timer unit: 1e-06 s\n",
       "\n",
       "Total time: 51.2996 s\n",
       "File: /opt/code/libs/entity.py\n",
       "Function: _get_snps_cov at line 762\n",
       "\n",
       "Line #      Hits         Time  Per Hit   % Time  Line Contents\n",
       "==============================================================\n",
       "   762                                               @staticmethod\n",
       "   763                                               def _get_snps_cov(\n",
       "   764                                                   snps_ids_list1,\n",
       "   765                                                   snps_ids_list2=None,\n",
       "   766                                                   check=False,\n",
       "   767                                                   reference_panel=\"GTEX_V8\",\n",
       "   768                                                   model_type=\"MASHR\",\n",
       "   769                                               ):\n",
       "   770                                                   \"\"\"\n",
       "   771                                                   Given one or (optionally) two lists of SNPs IDs, it returns the\n",
       "   772                                                   covariance matrix for\n",
       "   773                                                   Args:\n",
       "   774                                                       snps_ids_list1:\n",
       "   775                                                           A list of SNPs IDs. When only this parameter is used, generally\n",
       "   776                                                           one wants to compute its predicted expression covariance.\n",
       "   777                                                       snps_ids_list2:\n",
       "   778                                                           (Optional) A second list of SNPs IDs. When this is used, it is\n",
       "   779                                                           generally the SNPs from a second gene.\n",
       "   780                                                       check:\n",
       "   781                                                           If should be checked that all SNPs are from the same chromosome.\n",
       "   782                                                       reference_panel:\n",
       "   783                                                           Reference panel used to compute SNP covariance matrix. Either GTEX_V8\n",
       "   784                                                           or 1000G.\n",
       "   785                                                       model_type:\n",
       "   786                                                           The prediction model type, such as \"MASHR\" or \"ELASTIC_NET\" (see conf.py).\n",
       "   787                                           \n",
       "   788                                                   Returns:\n",
       "   789                                                       Return a pandas dataframe with the SNPs specified in the arguments\n",
       "   790                                                       for which we have genotype data (otherwise we don't have its\n",
       "   791                                                       covariance).\n",
       "   792                                                   \"\"\"\n",
       "   793     29560     227635.0      7.7      0.4          snps_ids_list1 = list(snps_ids_list1)\n",
       "   794                                           \n",
       "   795     29560      33063.0      1.1      0.1          if len(snps_ids_list1) == 0:\n",
       "   796                                                       return None\n",
       "   797                                           \n",
       "   798     29560      20218.0      0.7      0.0          if snps_ids_list2 is None:\n",
       "   799                                                       snps_ids_list2 = snps_ids_list1\n",
       "   800                                                   else:\n",
       "   801     29560     103006.0      3.5      0.2              snps_ids_list2 = list(snps_ids_list2)\n",
       "   802     29560      18833.0      0.6      0.0              if len(snps_ids_list2) == 0:\n",
       "   803                                                           return None\n",
       "   804                                           \n",
       "   805     29560      19312.0      0.7      0.0          first_snp_id = snps_ids_list1[0]\n",
       "   806     29560      46045.0      1.6      0.1          snps_chr = first_snp_id.split(\"_\")[0]\n",
       "   807                                           \n",
       "   808     29560      17869.0      0.6      0.0          if check:\n",
       "   809                                                       # all snps must be from the same chromosome\n",
       "   810                                                       all_snps = pd.Series(list(set(snps_ids_list1 + snps_ids_list2)))\n",
       "   811                                                       all_snps_chr = all_snps.str.split(\"_\", expand=True)[0]\n",
       "   812                                                       if all_snps_chr.unique().shape[0] != 1:\n",
       "   813                                                           raise ValueError(\"Only snps from the same chromosome are supported\")\n",
       "   814                                           \n",
       "   815                                                   # read the entire covariance matrix for this chromosome\n",
       "   816     29560      37529.0      1.3      0.1          snps_cov = Gene._read_snps_cov(snps_chr, reference_panel, model_type)\n",
       "   817                                           \n",
       "   818                                                   # from the specified SNP lists, only keep those for which we have\n",
       "   819                                                   # genotypes\n",
       "   820     29560    9207136.0    311.5     17.9          variants_with_genotype = set(snps_cov.index)\n",
       "   821     29560      76358.0      2.6      0.1          snps_ids_list1 = [v for v in snps_ids_list1 if v in variants_with_genotype]\n",
       "   822     29560      42603.0      1.4      0.1          snps_ids_list2 = [v for v in snps_ids_list2 if v in variants_with_genotype]\n",
       "   823                                           \n",
       "   824     29560   41285505.0   1396.7     80.5          snps_cov = snps_cov.loc[snps_ids_list1, snps_ids_list2]\n",
       "   825                                           \n",
       "   826     29560     146358.0      5.0      0.3          if snps_cov.shape[0] == 0 or snps_cov.shape[1] == 0:\n",
       "   827                                                       return None\n",
       "   828                                           \n",
       "   829     29560      18157.0      0.6      0.0          return snps_cov"
      ]
     },
     "metadata": {},
     "output_type": "display_data"
    }
   ],
   "source": [
    "%lprun -f Gene._get_snps_cov compute_ssm_correlation(all_genes)"
   ]
  },
  {
   "cell_type": "code",
   "execution_count": null,
   "id": "8aa4981d-d6e7-4c42-b8a6-cf8da6902685",
   "metadata": {},
   "outputs": [],
   "source": []
  }
 ],
 "metadata": {
  "jupytext": {
   "cell_metadata_filter": "all,-execution,-papermill,-trusted",
   "formats": "ipynb,py//py:percent"
  },
  "kernelspec": {
   "display_name": "Python 3 (ipykernel)",
   "language": "python",
   "name": "python3"
  },
  "language_info": {
   "codemirror_mode": {
    "name": "ipython",
    "version": 3
   },
   "file_extension": ".py",
   "mimetype": "text/x-python",
   "name": "python",
   "nbconvert_exporter": "python",
   "pygments_lexer": "ipython3",
   "version": "3.8.13"
  },
  "papermill": {
   "default_parameters": {},
   "duration": 2.899223,
   "end_time": "2022-02-24T05:32:05.472242",
   "environment_variables": {},
   "exception": null,
   "input_path": "nbs/15_gsa_gls/26-gls-null_simulations-plots.ipynb",
   "output_path": "nbs/15_gsa_gls/26-gls-null_simulations-plots.run.ipynb",
   "parameters": {},
   "start_time": "2022-02-24T05:32:02.573019",
   "version": "2.2.2"
  },
  "toc-autonumbering": true
 },
 "nbformat": 4,
 "nbformat_minor": 5
}
