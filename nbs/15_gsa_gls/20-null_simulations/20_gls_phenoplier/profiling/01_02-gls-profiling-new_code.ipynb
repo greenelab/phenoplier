{
 "cells": [
  {
   "cell_type": "markdown",
   "id": "03d081e4-52aa-44fb-929f-a41a40462027",
   "metadata": {
    "papermill": {
     "duration": 0.038207,
     "end_time": "2022-02-24T05:32:03.755452",
     "exception": false,
     "start_time": "2022-02-24T05:32:03.717245",
     "status": "completed"
    },
    "tags": []
   },
   "source": [
    "# Description"
   ]
  },
  {
   "cell_type": "markdown",
   "id": "66274557-e01c-429c-a21d-8184da44d159",
   "metadata": {
    "papermill": {
     "duration": 0.009944,
     "end_time": "2022-02-24T05:32:03.780673",
     "exception": false,
     "start_time": "2022-02-24T05:32:03.770729",
     "status": "completed"
    },
    "tags": []
   },
   "source": [
    "It profiles some functions to compute the correlation between predicted gene expression. Each of these notebooks is supposed to be run in a particular changeset.\n",
    "\n",
    "**Before running this notebook**, make sure you are in this changeset:\n",
    "```bash\n",
    "# the changes tried to improve the performance by activating lru_cache for method Gene.get_tissues_correlations\n",
    "git co e6a706cc8102cbf83b0adf29485a72428a28b6c0\n",
    "```"
   ]
  },
  {
   "cell_type": "code",
   "execution_count": 1,
   "id": "9153d2fe-20d7-4ac9-8163-65c8461bcac3",
   "metadata": {},
   "outputs": [],
   "source": [
    "%load_ext line_profiler"
   ]
  },
  {
   "cell_type": "markdown",
   "id": "fb645f46",
   "metadata": {
    "papermill": {
     "duration": 0.008401,
     "end_time": "2022-02-24T05:32:03.797668",
     "exception": false,
     "start_time": "2022-02-24T05:32:03.789267",
     "status": "completed"
    },
    "tags": []
   },
   "source": [
    "# Modules"
   ]
  },
  {
   "cell_type": "code",
   "execution_count": 2,
   "id": "7ce51c68",
   "metadata": {
    "papermill": {
     "duration": 0.861241,
     "end_time": "2022-02-24T05:32:04.667481",
     "exception": false,
     "start_time": "2022-02-24T05:32:03.806240",
     "status": "completed"
    },
    "tags": []
   },
   "outputs": [],
   "source": [
    "from entity import Gene"
   ]
  },
  {
   "cell_type": "markdown",
   "id": "74ea227c-6e63-4eb1-a7eb-45662d6c50ec",
   "metadata": {},
   "source": [
    "# Functions"
   ]
  },
  {
   "cell_type": "code",
   "execution_count": 3,
   "id": "a5fe6108-925b-4958-85b3-37199aed5b6b",
   "metadata": {},
   "outputs": [],
   "source": [
    "def compute_ssm_correlation(all_genes):\n",
    "    res = []\n",
    "    for g1_idx, g1 in enumerate(all_genes[:-1]):\n",
    "        for g2 in all_genes[g1_idx:]:\n",
    "            c = g1.get_ssm_correlation(\n",
    "                g2,\n",
    "                reference_panel=\"1000G\",\n",
    "                model_type=\"MASHR\",\n",
    "                use_within_distance=False,\n",
    "            )\n",
    "            res.append(c)\n",
    "    return res"
   ]
  },
  {
   "cell_type": "markdown",
   "id": "4986199c-0c0b-4ffe-880c-58bed9e4a9f3",
   "metadata": {},
   "source": [
    "# Test case"
   ]
  },
  {
   "cell_type": "code",
   "execution_count": 4,
   "id": "8b081b64-0f25-4cac-bf83-609d3b701e6e",
   "metadata": {},
   "outputs": [],
   "source": [
    "gene1 = Gene(ensembl_id=\"ENSG00000180596\")\n",
    "gene2 = Gene(ensembl_id=\"ENSG00000180573\")\n",
    "gene3 = Gene(ensembl_id=\"ENSG00000274641\")\n",
    "gene4 = Gene(ensembl_id=\"ENSG00000277224\")\n",
    "\n",
    "all_genes = [gene1, gene2, gene3, gene4]"
   ]
  },
  {
   "cell_type": "code",
   "execution_count": 5,
   "id": "fe2411df-f55d-412d-ab79-bd8874518efd",
   "metadata": {},
   "outputs": [],
   "source": [
    "assert len(set([g.chromosome for g in all_genes])) == 1"
   ]
  },
  {
   "cell_type": "markdown",
   "id": "bb1c4f50-2ab4-497d-993d-be62f7f748c9",
   "metadata": {},
   "source": [
    "# Run timeit"
   ]
  },
  {
   "cell_type": "code",
   "execution_count": 6,
   "id": "770e7df8-662b-418c-8272-09d0436475ab",
   "metadata": {},
   "outputs": [
    {
     "name": "stdout",
     "output_type": "stream",
     "text": [
      "11.1 ms ± 112 µs per loop (mean ± std. dev. of 7 runs, 1 loop each)\n"
     ]
    }
   ],
   "source": [
    "%timeit compute_ssm_correlation(all_genes)"
   ]
  },
  {
   "cell_type": "markdown",
   "id": "03ee5cd4-4384-4469-b640-2e277089a829",
   "metadata": {},
   "source": [
    "# Profile"
   ]
  },
  {
   "cell_type": "code",
   "execution_count": 7,
   "id": "21d48b01-5dcd-4140-a4ed-984a3834e220",
   "metadata": {},
   "outputs": [
    {
     "name": "stdout",
     "output_type": "stream",
     "text": [
      " "
     ]
    },
    {
     "data": {
      "text/plain": [
       "         27139 function calls (26446 primitive calls) in 0.020 seconds\n",
       "\n",
       "   Ordered by: cumulative time\n",
       "   List reduced from 229 to 20 due to restriction <20>\n",
       "\n",
       "   ncalls  tottime  percall  cumtime  percall filename:lineno(function)\n",
       "        1    0.000    0.000    0.020    0.020 {built-in method builtins.exec}\n",
       "        1    0.000    0.000    0.020    0.020 <string>:1(<module>)\n",
       "        1    0.000    0.000    0.020    0.020 85958312.py:1(compute_ssm_correlation)\n",
       "        9    0.001    0.000    0.019    0.002 entity.py:1041(get_ssm_correlation)\n",
       "       27    0.000    0.000    0.009    0.000 frame.py:2809(T)\n",
       "       27    0.000    0.000    0.009    0.000 frame.py:2687(transpose)\n",
       "        9    0.000    0.000    0.007    0.001 frame.py:1221(__rmatmul__)\n",
       "       63    0.000    0.000    0.006    0.000 frame.py:441(__init__)\n",
       "       36    0.000    0.000    0.005    0.000 frame.py:1105(dot)\n",
       "       63    0.000    0.000    0.005    0.000 construction.py:143(init_ndarray)\n",
       "       27    0.000    0.000    0.005    0.000 generic.py:5352(dtypes)\n",
       "      108    0.000    0.000    0.004    0.000 {built-in method numpy.core._multiarray_umath.implement_array_function}\n",
       "       27    0.000    0.000    0.004    0.000 frame.py:1215(__matmul__)\n",
       "       18    0.000    0.000    0.004    0.000 <__array_function__ internals>:2(svd)\n",
       "       18    0.003    0.000    0.003    0.000 linalg.py:1483(svd)\n",
       "       63    0.000    0.000    0.003    0.000 managers.py:1660(create_block_manager_from_blocks)\n",
       "       27    0.000    0.000    0.003    0.000 series.py:201(__init__)\n",
       "       90    0.000    0.000    0.003    0.000 blocks.py:2723(make_block)\n",
       "       90    0.000    0.000    0.002    0.000 blocks.py:2677(get_block_type)\n",
       "       27    0.000    0.000    0.002    0.000 managers.py:263(get_dtypes)"
      ]
     },
     "metadata": {},
     "output_type": "display_data"
    }
   ],
   "source": [
    "%prun -l 20 -s cumulative compute_ssm_correlation(all_genes)"
   ]
  },
  {
   "cell_type": "code",
   "execution_count": 8,
   "id": "7d41830e-5cdf-48d4-8035-6839dd97ae38",
   "metadata": {},
   "outputs": [
    {
     "name": "stdout",
     "output_type": "stream",
     "text": [
      " "
     ]
    },
    {
     "data": {
      "text/plain": [
       "         27139 function calls (26446 primitive calls) in 0.020 seconds\n",
       "\n",
       "   Ordered by: internal time\n",
       "   List reduced from 229 to 20 due to restriction <20>\n",
       "\n",
       "   ncalls  tottime  percall  cumtime  percall filename:lineno(function)\n",
       "       18    0.003    0.000    0.004    0.000 linalg.py:1483(svd)\n",
       "     4851    0.001    0.000    0.002    0.000 {built-in method builtins.isinstance}\n",
       "        9    0.001    0.000    0.020    0.002 entity.py:1041(get_ssm_correlation)\n",
       "2313/1746    0.000    0.000    0.001    0.000 {built-in method builtins.len}\n",
       "  342/288    0.000    0.000    0.001    0.000 {built-in method numpy.array}\n",
       "     1737    0.000    0.000    0.001    0.000 generic.py:10(_check)\n",
       "2916/2898    0.000    0.000    0.001    0.000 {built-in method builtins.getattr}\n",
       "       27    0.000    0.000    0.009    0.000 frame.py:2687(transpose)\n",
       "       63    0.000    0.000    0.005    0.000 construction.py:143(init_ndarray)\n",
       "       90    0.000    0.000    0.002    0.000 blocks.py:2677(get_block_type)\n",
       "       99    0.000    0.000    0.001    0.000 managers.py:815(as_array)\n",
       "      351    0.000    0.000    0.001    0.000 common.py:1600(_is_dtype_type)\n",
       "      351    0.000    0.000    0.001    0.000 common.py:1460(is_extension_array_dtype)\n",
       "       27    0.000    0.000    0.001    0.000 algorithms.py:1640(take_nd)\n",
       "      378    0.000    0.000    0.000    0.000 base.py:413(find)\n",
       "       36    0.000    0.000    0.005    0.000 frame.py:1105(dot)\n",
       "      450    0.000    0.000    0.001    0.000 base.py:256(is_dtype)\n",
       "       63    0.000    0.000    0.006    0.000 frame.py:441(__init__)\n",
       "      108    0.000    0.000    0.005    0.000 {built-in method numpy.core._multiarray_umath.implement_array_function}\n",
       "       27    0.000    0.000    0.003    0.000 series.py:201(__init__)"
      ]
     },
     "metadata": {},
     "output_type": "display_data"
    }
   ],
   "source": [
    "%prun -l 20 -s time compute_ssm_correlation(all_genes)"
   ]
  },
  {
   "cell_type": "markdown",
   "id": "f21a3695-8e0a-456d-ad0b-172bf501e9d7",
   "metadata": {
    "tags": []
   },
   "source": [
    "# Conclusion"
   ]
  },
  {
   "cell_type": "markdown",
   "id": "a6757a89-b720-4850-9b39-12b168bb745c",
   "metadata": {},
   "source": [
    "Considering the time reported by `%%timeit`, the average speed to compute the SSM correlation between a pair of genes was:\n",
    " * without core improvement (`00_00-gls-profiling-old_code.ipynb`): `40.4 s ± 30.5 ms`\n",
    " * after core improvements (`01_01-gls-profiling-new_code.ipynb`): `1.41 s ± 8.15` (more than 28 times faster).\n",
    " * after activating lru_cache: `11.1 ms ± 112 µs` (3639 times faster than baseline and 127 than core improvements)."
   ]
  },
  {
   "cell_type": "code",
   "execution_count": null,
   "id": "429a9013-145b-46a0-bd21-d87ab0284bb5",
   "metadata": {},
   "outputs": [],
   "source": []
  }
 ],
 "metadata": {
  "jupytext": {
   "cell_metadata_filter": "all,-execution,-papermill,-trusted",
   "formats": "ipynb,py//py:percent"
  },
  "kernelspec": {
   "display_name": "Python 3 (ipykernel)",
   "language": "python",
   "name": "python3"
  },
  "language_info": {
   "codemirror_mode": {
    "name": "ipython",
    "version": 3
   },
   "file_extension": ".py",
   "mimetype": "text/x-python",
   "name": "python",
   "nbconvert_exporter": "python",
   "pygments_lexer": "ipython3",
   "version": "3.8.13"
  },
  "papermill": {
   "default_parameters": {},
   "duration": 2.899223,
   "end_time": "2022-02-24T05:32:05.472242",
   "environment_variables": {},
   "exception": null,
   "input_path": "nbs/15_gsa_gls/26-gls-null_simulations-plots.ipynb",
   "output_path": "nbs/15_gsa_gls/26-gls-null_simulations-plots.run.ipynb",
   "parameters": {},
   "start_time": "2022-02-24T05:32:02.573019",
   "version": "2.2.2"
  },
  "toc-autonumbering": true
 },
 "nbformat": 4,
 "nbformat_minor": 5
}
