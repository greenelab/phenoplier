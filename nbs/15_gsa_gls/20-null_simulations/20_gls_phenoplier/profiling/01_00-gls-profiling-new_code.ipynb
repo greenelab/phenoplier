{
 "cells": [
  {
   "cell_type": "markdown",
   "id": "03d081e4-52aa-44fb-929f-a41a40462027",
   "metadata": {
    "papermill": {
     "duration": 0.038207,
     "end_time": "2022-02-24T05:32:03.755452",
     "exception": false,
     "start_time": "2022-02-24T05:32:03.717245",
     "status": "completed"
    },
    "tags": []
   },
   "source": [
    "# Description"
   ]
  },
  {
   "cell_type": "markdown",
   "id": "66274557-e01c-429c-a21d-8184da44d159",
   "metadata": {
    "papermill": {
     "duration": 0.009944,
     "end_time": "2022-02-24T05:32:03.780673",
     "exception": false,
     "start_time": "2022-02-24T05:32:03.770729",
     "status": "completed"
    },
    "tags": []
   },
   "source": [
    "It profiles some functions to compute the correlation between predicted gene expression. Each of these notebooks is supposed to be run in a particular changeset.\n",
    "\n",
    "**Before running this notebook**, make sure you are in this changeset:\n",
    "```bash\n",
    "# the changes tried to improve the performance of Gene._get_snps_cov\n",
    "git co 4a60b950f0e75cd6c100181dfcd4ae3255f4765b\n",
    "```"
   ]
  },
  {
   "cell_type": "code",
   "execution_count": 1,
   "id": "9153d2fe-20d7-4ac9-8163-65c8461bcac3",
   "metadata": {},
   "outputs": [],
   "source": [
    "%load_ext line_profiler"
   ]
  },
  {
   "cell_type": "markdown",
   "id": "fb645f46",
   "metadata": {
    "papermill": {
     "duration": 0.008401,
     "end_time": "2022-02-24T05:32:03.797668",
     "exception": false,
     "start_time": "2022-02-24T05:32:03.789267",
     "status": "completed"
    },
    "tags": []
   },
   "source": [
    "# Modules"
   ]
  },
  {
   "cell_type": "code",
   "execution_count": 2,
   "id": "7ce51c68",
   "metadata": {
    "papermill": {
     "duration": 0.861241,
     "end_time": "2022-02-24T05:32:04.667481",
     "exception": false,
     "start_time": "2022-02-24T05:32:03.806240",
     "status": "completed"
    },
    "tags": []
   },
   "outputs": [],
   "source": [
    "from entity import Gene"
   ]
  },
  {
   "cell_type": "markdown",
   "id": "74ea227c-6e63-4eb1-a7eb-45662d6c50ec",
   "metadata": {},
   "source": [
    "# Functions"
   ]
  },
  {
   "cell_type": "code",
   "execution_count": 3,
   "id": "a5fe6108-925b-4958-85b3-37199aed5b6b",
   "metadata": {},
   "outputs": [],
   "source": [
    "def compute_ssm_correlation(all_genes):\n",
    "    res = []\n",
    "    for g1_idx, g1 in enumerate(all_genes[:-1]):\n",
    "        for g2 in all_genes[g1_idx:]:\n",
    "            c = g1.get_ssm_correlation(\n",
    "                g2,\n",
    "                reference_panel=\"1000G\",\n",
    "                model_type=\"MASHR\",\n",
    "                use_within_distance=False,\n",
    "            )\n",
    "            res.append(c)\n",
    "    return res"
   ]
  },
  {
   "cell_type": "markdown",
   "id": "4986199c-0c0b-4ffe-880c-58bed9e4a9f3",
   "metadata": {},
   "source": [
    "# Test case"
   ]
  },
  {
   "cell_type": "code",
   "execution_count": 4,
   "id": "8b081b64-0f25-4cac-bf83-609d3b701e6e",
   "metadata": {},
   "outputs": [],
   "source": [
    "gene1 = Gene(ensembl_id=\"ENSG00000180596\")\n",
    "gene2 = Gene(ensembl_id=\"ENSG00000180573\")\n",
    "gene3 = Gene(ensembl_id=\"ENSG00000274641\")\n",
    "gene4 = Gene(ensembl_id=\"ENSG00000277224\")\n",
    "\n",
    "all_genes = [gene1, gene2, gene3, gene4]"
   ]
  },
  {
   "cell_type": "code",
   "execution_count": 5,
   "id": "fe2411df-f55d-412d-ab79-bd8874518efd",
   "metadata": {},
   "outputs": [],
   "source": [
    "assert len(set([g.chromosome for g in all_genes])) == 1"
   ]
  },
  {
   "cell_type": "markdown",
   "id": "bb1c4f50-2ab4-497d-993d-be62f7f748c9",
   "metadata": {},
   "source": [
    "# Run timeit"
   ]
  },
  {
   "cell_type": "code",
   "execution_count": 6,
   "id": "770e7df8-662b-418c-8272-09d0436475ab",
   "metadata": {},
   "outputs": [
    {
     "name": "stdout",
     "output_type": "stream",
     "text": [
      "17.2 s ± 15.4 ms per loop (mean ± std. dev. of 7 runs, 1 loop each)\n"
     ]
    }
   ],
   "source": [
    "%timeit compute_ssm_correlation(all_genes)"
   ]
  },
  {
   "cell_type": "markdown",
   "id": "03ee5cd4-4384-4469-b640-2e277089a829",
   "metadata": {},
   "source": [
    "# Profile"
   ]
  },
  {
   "cell_type": "code",
   "execution_count": 7,
   "id": "21d48b01-5dcd-4140-a4ed-984a3834e220",
   "metadata": {},
   "outputs": [
    {
     "name": "stdout",
     "output_type": "stream",
     "text": [
      " "
     ]
    },
    {
     "data": {
      "text/plain": [
       "         68183719 function calls (67942487 primitive calls) in 34.418 seconds\n",
       "\n",
       "   Ordered by: cumulative time\n",
       "   List reduced from 500 to 20 due to restriction <20>\n",
       "\n",
       "   ncalls  tottime  percall  cumtime  percall filename:lineno(function)\n",
       "        1    0.000    0.000   34.418   34.418 {built-in method builtins.exec}\n",
       "        1    0.000    0.000   34.418   34.418 <string>:1(<module>)\n",
       "        1    0.000    0.000   34.418   34.418 85958312.py:1(compute_ssm_correlation)\n",
       "        9    0.001    0.000   34.418    3.824 entity.py:1037(get_ssm_correlation)\n",
       "       27    0.196    0.007   34.398    1.274 entity.py:985(get_tissues_correlations)\n",
       "    64827    0.547    0.000   34.084    0.001 entity.py:896(get_expression_correlation)\n",
       "    59174    0.109    0.000   31.253    0.001 indexing.py:864(__getitem__)\n",
       "    59174    0.346    0.000   31.114    0.001 indexing.py:1078(_getitem_axis)\n",
       "    59120    0.158    0.000   29.882    0.001 indexing.py:1011(_getitem_iterable)\n",
       "    59120    0.280    0.000   22.612    0.000 indexing.py:1208(_get_listlike_indexer)\n",
       "   190646    0.225    0.000   14.969    0.000 base.py:5562(ensure_index)\n",
       "236588/118294    2.751    0.000   14.679    0.000 base.py:293(__new__)\n",
       "    59120    0.308    0.000   11.071    0.000 base.py:3294(reindex)\n",
       "    71560    0.350    0.000    9.822    0.000 base.py:2960(get_indexer)\n",
       "    59120    0.083    0.000    9.570    0.000 base.py:4703(get_indexer_for)\n",
       "    59120    0.323    0.000    7.103    0.000 generic.py:4504(_reindex_with_indexers)\n",
       "    59174    0.145    0.000    5.869    0.000 managers.py:1247(reindex_indexer)\n",
       "    59147    0.250    0.000    5.547    0.000 managers.py:1309(_slice_take_blocks_ax0)\n",
       " 16114676    2.616    0.000    4.216    0.000 {built-in method builtins.isinstance}\n",
       "    59174    0.159    0.000    3.622    0.000 blocks.py:1238(take_nd)"
      ]
     },
     "metadata": {},
     "output_type": "display_data"
    }
   ],
   "source": [
    "%prun -l 20 -s cumulative compute_ssm_correlation(all_genes)"
   ]
  },
  {
   "cell_type": "code",
   "execution_count": 8,
   "id": "7d41830e-5cdf-48d4-8035-6839dd97ae38",
   "metadata": {},
   "outputs": [
    {
     "name": "stdout",
     "output_type": "stream",
     "text": [
      " "
     ]
    },
    {
     "data": {
      "text/plain": [
       "         68183719 function calls (67942487 primitive calls) in 34.335 seconds\n",
       "\n",
       "   Ordered by: internal time\n",
       "   List reduced from 500 to 20 due to restriction <20>\n",
       "\n",
       "   ncalls  tottime  percall  cumtime  percall filename:lineno(function)\n",
       "236588/118294    2.751    0.000   14.617    0.000 base.py:293(__new__)\n",
       " 16114676    2.586    0.000    4.185    0.000 {built-in method builtins.isinstance}\n",
       "962134/961918    1.213    0.000    1.215    0.000 {built-in method numpy.array}\n",
       "  5398467    1.187    0.000    1.598    0.000 generic.py:10(_check)\n",
       "   189854    1.088    0.000    1.526    0.000 {pandas._libs.lib.infer_dtype}\n",
       "  1184803    0.764    0.000    1.971    0.000 common.py:1460(is_extension_array_dtype)\n",
       "8367109/8367091    0.707    0.000    0.717    0.000 {built-in method builtins.getattr}\n",
       "  1184884    0.702    0.000    0.999    0.000 base.py:413(find)\n",
       "  1325050    0.654    0.000    2.739    0.000 base.py:256(is_dtype)\n",
       "  1256006    0.629    0.000    1.156    0.000 common.py:1600(_is_dtype_type)\n",
       "  4645369    0.578    0.000    0.578    0.000 {built-in method builtins.issubclass}\n",
       "   118321    0.571    0.000    2.181    0.000 cast.py:442(maybe_promote)\n",
       "   295708    0.566    0.000    1.434    0.000 common.py:218(asarray_tuplesafe)\n",
       "    64827    0.546    0.000   34.000    0.001 entity.py:896(get_expression_correlation)\n",
       "   308607    0.527    0.000    1.191    0.000 _dtype.py:321(_name_get)\n",
       "    71560    0.472    0.000    0.606    0.000 {method 'get_indexer' of 'pandas._libs.index.IndexEngine' objects}\n",
       "    29560    0.430    0.000    1.342    0.000 entity.py:771(_get_snps_cov)\n",
       "    61061    0.411    0.000    0.411    0.000 {method 'reduce' of 'numpy.ufunc' objects}\n",
       "    59120    0.363    0.000    0.994    0.000 indexing.py:1257(_validate_read_indexer)\n",
       "    71560    0.352    0.000    9.786    0.000 base.py:2960(get_indexer)"
      ]
     },
     "metadata": {},
     "output_type": "display_data"
    }
   ],
   "source": [
    "%prun -l 20 -s time compute_ssm_correlation(all_genes)"
   ]
  },
  {
   "cell_type": "markdown",
   "id": "f21a3695-8e0a-456d-ad0b-172bf501e9d7",
   "metadata": {
    "tags": []
   },
   "source": [
    "# Profile by line"
   ]
  },
  {
   "cell_type": "markdown",
   "id": "34181958-5c6f-4392-8432-fae649c05a8d",
   "metadata": {},
   "source": [
    "## Function `get_expression_correlation`"
   ]
  },
  {
   "cell_type": "code",
   "execution_count": 9,
   "id": "63b66026-e494-4aaa-a05f-77b1ba6514b6",
   "metadata": {},
   "outputs": [
    {
     "data": {
      "text/plain": [
       "Timer unit: 1e-06 s\n",
       "\n",
       "Total time: 43.857 s\n",
       "File: /opt/code/libs/entity.py\n",
       "Function: get_expression_correlation at line 896\n",
       "\n",
       "Line #      Hits         Time  Per Hit   % Time  Line Contents\n",
       "==============================================================\n",
       "   896                                               def get_expression_correlation(\n",
       "   897                                                   self,\n",
       "   898                                                   other_gene,\n",
       "   899                                                   tissue: str,\n",
       "   900                                                   other_tissue: str = None,\n",
       "   901                                                   reference_panel: str = \"GTEX_V8\",\n",
       "   902                                                   model_type: str = \"MASHR\",\n",
       "   903                                                   use_within_distance=True,\n",
       "   904                                               ):\n",
       "   905                                                   \"\"\"\n",
       "   906                                                   Given another Gene object and a tissue, it computes the correlation\n",
       "   907                                                   between their predicted expression.\n",
       "   908                                           \n",
       "   909                                                   Args:\n",
       "   910                                                       other_gene:\n",
       "   911                                                           Another Gene object.\n",
       "   912                                                       tissue:\n",
       "   913                                                           The tissue name that will be used for both genes, or this gene\n",
       "   914                                                           (self) if 'other_gene' is provided.\n",
       "   915                                                       other_tissue:\n",
       "   916                                                           The tissue name that will be used for 'other_gene'. In that\n",
       "   917                                                           case, 'tissue' is for this gene (self).\n",
       "   918                                                       reference_panel:\n",
       "   919                                                           A reference panel for the SNP covariance matrix. Either GTEX_V8 or 1000G.\n",
       "   920                                                       model_type:\n",
       "   921                                                           The prediction model type, such as \"MASHR\" or \"ELASTIC_NET\" (see conf.py).\n",
       "   922                                           \n",
       "   923                                                   Returns:\n",
       "   924                                                       A float with the correlation of the two genes' predicted expression.\n",
       "   925                                                       None if:\n",
       "   926                                                         * One if any of the genes have no predictors (SNPs) in the tissue.\n",
       "   927                                                         * TODO: what else?\n",
       "   928                                                   \"\"\"\n",
       "   929     64827      74620.0      1.2      0.2          if self.chromosome != other_gene.chromosome:\n",
       "   930                                                       return 0.0\n",
       "   931                                           \n",
       "   932     64827      32558.0      0.5      0.1          if use_within_distance and not self.within_distance(other_gene):\n",
       "   933                                                       return 0.0\n",
       "   934                                           \n",
       "   935     64827      29074.0      0.4      0.1          other_gene_tissue = tissue\n",
       "   936     64827      30405.0      0.5      0.1          if other_tissue is not None:\n",
       "   937     64827      28284.0      0.4      0.1              other_gene_tissue = other_tissue\n",
       "   938                                           \n",
       "   939     64827      68895.0      1.1      0.2          gene_w = self.get_prediction_weights(tissue, model_type, varid_as_index=True)\n",
       "   940     64827      30938.0      0.5      0.1          if gene_w is None:\n",
       "   941     19061       7521.0      0.4      0.0              return None\n",
       "   942                                                   # gene_w = gene_w.set_index(\"varID\")\n",
       "   943                                                   # if gene_w.abs().sum().sum() == 0.0:\n",
       "   944                                                   #     # some genes in the models have weight equal to zero (weird)\n",
       "   945                                                   #     return 0.0\n",
       "   946                                           \n",
       "   947     91532      59748.0      0.7      0.1          other_gene_w = other_gene.get_prediction_weights(\n",
       "   948     45766      21264.0      0.5      0.0              other_gene_tissue, model_type, varid_as_index=True\n",
       "   949                                                   )\n",
       "   950     45766      22657.0      0.5      0.1          if other_gene_w is None:\n",
       "   951     11810       4900.0      0.4      0.0              return None\n",
       "   952                                                   # other_gene_w = other_gene_w.set_index(\"varID\")\n",
       "   953                                                   # if other_gene_w.abs().sum().sum() == 0.0:\n",
       "   954                                                   #     return 0.0\n",
       "   955                                           \n",
       "   956                                                   # get genes' variances\n",
       "   957     67912      45881.0      0.7      0.1          gene_var = self.get_pred_expression_variance(\n",
       "   958     33956      16617.0      0.5      0.0              tissue, reference_panel, model_type\n",
       "   959                                                   )\n",
       "   960     33956      33401.0      1.0      0.1          if gene_var is None or gene_var == 0.0:\n",
       "   961      2300        977.0      0.4      0.0              return None\n",
       "   962                                           \n",
       "   963     63312      37873.0      0.6      0.1          other_gene_var = other_gene.get_pred_expression_variance(\n",
       "   964     31656      15527.0      0.5      0.0              other_gene_tissue, reference_panel, model_type\n",
       "   965                                                   )\n",
       "   966     31656      18673.0      0.6      0.0          if other_gene_var is None or other_gene_var == 0.0:\n",
       "   967      2096        885.0      0.4      0.0              return None\n",
       "   968                                           \n",
       "   969     59120    1667448.0     28.2      3.8          snps_cov, snps_ids_list1, snps_ids_list2 = self._get_snps_cov(\n",
       "   970     29560      26769.0      0.9      0.1              gene_w.index,\n",
       "   971     29560      20342.0      0.7      0.0              other_gene_w.index,\n",
       "   972     29560      13718.0      0.5      0.0              reference_panel=reference_panel,\n",
       "   973     29560      13635.0      0.5      0.0              model_type=model_type,\n",
       "   974                                                   )\n",
       "   975                                           \n",
       "   976                                                   # align weights with snps cov\n",
       "   977     29560   20152221.0    681.7     45.9          gene_w = gene_w.loc[snps_ids_list1]\n",
       "   978     29560   19915534.0    673.7     45.4          other_gene_w = other_gene_w.loc[snps_ids_list2]\n",
       "   979                                           \n",
       "   980                                                   # formula from the MultiXcan paper:\n",
       "   981                                                   #   https://doi.org/10.1371/journal.pgen.1007889\n",
       "   982     29560    1466628.0     49.6      3.3          return (gene_w.T @ snps_cov @ other_gene_w) / np.sqrt(gene_var * other_gene_var)"
      ]
     },
     "metadata": {},
     "output_type": "display_data"
    }
   ],
   "source": [
    "%lprun -f Gene.get_expression_correlation compute_ssm_correlation(all_genes)"
   ]
  },
  {
   "cell_type": "markdown",
   "id": "b04fe7be-d2b9-4f0b-927c-6ace45d6bb37",
   "metadata": {},
   "source": [
    "## Function `_get_snps_cov`"
   ]
  },
  {
   "cell_type": "code",
   "execution_count": 10,
   "id": "807e3880-6806-46f8-9d03-d8177abe5183",
   "metadata": {},
   "outputs": [
    {
     "data": {
      "text/plain": [
       "Timer unit: 1e-06 s\n",
       "\n",
       "Total time: 1.87564 s\n",
       "File: /opt/code/libs/entity.py\n",
       "Function: _get_snps_cov at line 771\n",
       "\n",
       "Line #      Hits         Time  Per Hit   % Time  Line Contents\n",
       "==============================================================\n",
       "   771                                               @staticmethod\n",
       "   772                                               def _get_snps_cov(\n",
       "   773                                                   snps_ids_list1,\n",
       "   774                                                   snps_ids_list2=None,\n",
       "   775                                                   check=False,\n",
       "   776                                                   reference_panel=\"GTEX_V8\",\n",
       "   777                                                   model_type=\"MASHR\",\n",
       "   778                                               ):\n",
       "   779                                                   \"\"\"\n",
       "   780                                                   Given one or (optionally) two lists of SNPs IDs, it returns the\n",
       "   781                                                   covariance matrix for\n",
       "   782                                                   Args:\n",
       "   783                                                       snps_ids_list1:\n",
       "   784                                                           A list of SNPs IDs. When only this parameter is used, generally\n",
       "   785                                                           one wants to compute its predicted expression covariance.\n",
       "   786                                                       snps_ids_list2:\n",
       "   787                                                           (Optional) A second list of SNPs IDs. When this is used, it is\n",
       "   788                                                           generally the SNPs from a second gene.\n",
       "   789                                                       check:\n",
       "   790                                                           If should be checked that all SNPs are from the same chromosome.\n",
       "   791                                                       reference_panel:\n",
       "   792                                                           Reference panel used to compute SNP covariance matrix. Either GTEX_V8\n",
       "   793                                                           or 1000G.\n",
       "   794                                                       model_type:\n",
       "   795                                                           The prediction model type, such as \"MASHR\" or \"ELASTIC_NET\" (see conf.py).\n",
       "   796                                           \n",
       "   797                                                   Returns:\n",
       "   798                                                       Return a pandas dataframe with the SNPs specified in the arguments\n",
       "   799                                                       for which we have genotype data (otherwise we don't have its\n",
       "   800                                                       covariance).\n",
       "   801                                                   \"\"\"\n",
       "   802     29560     194488.0      6.6     10.4          snps_ids_list1 = list(snps_ids_list1)\n",
       "   803                                           \n",
       "   804     29560      37297.0      1.3      2.0          if len(snps_ids_list1) == 0:\n",
       "   805                                                       return None, None, None\n",
       "   806                                           \n",
       "   807     29560      24888.0      0.8      1.3          if snps_ids_list2 is None:\n",
       "   808                                                       snps_ids_list2 = snps_ids_list1\n",
       "   809                                                   else:\n",
       "   810     29560     104309.0      3.5      5.6              snps_ids_list2 = list(snps_ids_list2)\n",
       "   811     29560      26667.0      0.9      1.4              if len(snps_ids_list2) == 0:\n",
       "   812                                                           return None, None, None\n",
       "   813                                           \n",
       "   814     29560      25811.0      0.9      1.4          first_snp_id = snps_ids_list1[0]\n",
       "   815     29560      46741.0      1.6      2.5          snps_chr = first_snp_id.split(\"_\")[0]\n",
       "   816                                           \n",
       "   817     29560      23395.0      0.8      1.2          if check:\n",
       "   818                                                       # all snps must be from the same chromosome\n",
       "   819                                                       all_snps = pd.Series(list(set(snps_ids_list1 + snps_ids_list2)))\n",
       "   820                                                       all_snps_chr = all_snps.str.split(\"_\", expand=True)[0]\n",
       "   821                                                       if all_snps_chr.unique().shape[0] != 1:\n",
       "   822                                                           raise ValueError(\"Only snps from the same chromosome are supported\")\n",
       "   823                                           \n",
       "   824                                                   # read the entire covariance matrix for this chromosome\n",
       "   825     59120      69385.0      1.2      3.7          snps_cov, snps_cov_variants, snp_index_dict = Gene._read_snps_cov(\n",
       "   826     29560      24857.0      0.8      1.3              snps_chr, reference_panel, model_type\n",
       "   827                                                   )\n",
       "   828                                           \n",
       "   829                                                   # from the specified SNP lists, only keep those for which we have\n",
       "   830                                                   # genotypes\n",
       "   831     29560      76473.0      2.6      4.1          snps_ids_list1 = [v for v in snps_ids_list1 if v in snps_cov_variants]\n",
       "   832     29560      46563.0      1.6      2.5          snps_ids_list2 = [v for v in snps_ids_list2 if v in snps_cov_variants]\n",
       "   833                                           \n",
       "   834     59120     222173.0      3.8     11.8          snps_cov = snps_cov[\n",
       "   835     59120     796940.0     13.5     42.5              np.ix_(\n",
       "   836     29560      48745.0      1.6      2.6                  [snp_index_dict[v] for v in snps_ids_list1],\n",
       "   837     29560      40124.0      1.4      2.1                  [snp_index_dict[v] for v in snps_ids_list2],\n",
       "   838                                                       )\n",
       "   839                                                   ]\n",
       "   840                                           \n",
       "   841     29560      41873.0      1.4      2.2          if snps_cov.shape[0] == 0 or snps_cov.shape[1] == 0:\n",
       "   842                                                       return None, None, None\n",
       "   843                                           \n",
       "   844     29560      24915.0      0.8      1.3          return snps_cov, snps_ids_list1, snps_ids_list2"
      ]
     },
     "metadata": {},
     "output_type": "display_data"
    }
   ],
   "source": [
    "%lprun -f Gene._get_snps_cov compute_ssm_correlation(all_genes)"
   ]
  },
  {
   "cell_type": "markdown",
   "id": "5e757d70-a17b-4a2f-969a-ab3b6b95023a",
   "metadata": {
    "tags": []
   },
   "source": [
    "# Profile by line - 2nd round"
   ]
  },
  {
   "cell_type": "markdown",
   "id": "e9f4b358-0d43-43c2-98de-c098e34d0bdd",
   "metadata": {},
   "source": [
    "## Function `get_tissues_correlations`"
   ]
  },
  {
   "cell_type": "code",
   "execution_count": 11,
   "id": "27ab5eb9-96e0-483b-8217-a3ec57168f92",
   "metadata": {},
   "outputs": [
    {
     "data": {
      "text/plain": [
       "Timer unit: 1e-06 s\n",
       "\n",
       "Total time: 44.5961 s\n",
       "File: /opt/code/libs/entity.py\n",
       "Function: get_tissues_correlations at line 985\n",
       "\n",
       "Line #      Hits         Time  Per Hit   % Time  Line Contents\n",
       "==============================================================\n",
       "   985                                               def get_tissues_correlations(\n",
       "   986                                                   self,\n",
       "   987                                                   other_gene,\n",
       "   988                                                   tissues: list = None,\n",
       "   989                                                   reference_panel: str = \"GTEX_V8\",\n",
       "   990                                                   model_type: str = \"MASHR\",\n",
       "   991                                                   use_within_distance=True,\n",
       "   992                                               ):\n",
       "   993                                                   \"\"\"\n",
       "   994                                                   It computes the correlation matrix for two genes across all tissues.\n",
       "   995                                           \n",
       "   996                                                   Args:\n",
       "   997                                                       tissues: TODO\n",
       "   998                                                   Returns:\n",
       "   999                                                       - tissue names are sorted using the `sorted` method\n",
       "  1000                                                   \"\"\"\n",
       "  1001        27         40.0      1.5      0.0          if tissues is None:\n",
       "  1002        81        200.0      2.5      0.0              tissues = conf.PHENOMEXCAN[\"PREDICTION_MODELS\"][\n",
       "  1003        27         27.0      1.0      0.0                  f\"{model_type}_TISSUES\"\n",
       "  1004        27         20.0      0.7      0.0              ].split(\" \")\n",
       "  1005        27        185.0      6.9      0.0          tissues = sorted(tissues)\n",
       "  1006        27         25.0      0.9      0.0          n_tissues = len(tissues)\n",
       "  1007                                           \n",
       "  1008        27        382.0     14.1      0.0          res = np.full((n_tissues, n_tissues), fill_value=np.nan)\n",
       "  1009                                           \n",
       "  1010      1350       1135.0      0.8      0.0          for t1_idx, t1 in enumerate(tissues):\n",
       "  1011     66150      56484.0      0.9      0.1              for t2_idx, t2 in enumerate(tissues):\n",
       "  1012    129654   44023446.0    339.5     98.7                  ec = self.get_expression_correlation(\n",
       "  1013     64827      45621.0      0.7      0.1                      other_gene=other_gene,\n",
       "  1014     64827      45786.0      0.7      0.1                      tissue=t1,\n",
       "  1015     64827      45403.0      0.7      0.1                      other_tissue=t2,\n",
       "  1016     64827      45218.0      0.7      0.1                      reference_panel=reference_panel,\n",
       "  1017     64827      45177.0      0.7      0.1                      model_type=model_type,\n",
       "  1018     64827      45000.0      0.7      0.1                      use_within_distance=use_within_distance,\n",
       "  1019                                                           )\n",
       "  1020                                                           # ec could be None; that means that there are no SNP preditors for one\n",
       "  1021                                                           # of the genes in the tissue\n",
       "  1022     64827      91629.0      1.4      0.2                  res[t1_idx, t2_idx] = ec\n",
       "  1023                                           \n",
       "  1024                                                   # Return a dataframe with tissues in rows and columns\n",
       "  1025        27      14665.0    543.1      0.0          df = pd.DataFrame(res, index=tissues.copy(), columns=tissues.copy())\n",
       "  1026                                           \n",
       "  1027                                                   # remove tissues for which we don't have snps predictors for any of the genes\n",
       "  1028        27      97621.0   3615.6      0.2          df = df.dropna(axis=0, how=\"all\").dropna(axis=1, how=\"all\")\n",
       "  1029                                           \n",
       "  1030                                                   # if the diagonal are all close to 1.0, then round it to 1.0\n",
       "  1031        27      37410.0   1385.6      0.1          if all([np.isclose(v, 1.0) for v in np.diag(df)]):\n",
       "  1032        21        601.0     28.6      0.0              np.fill_diagonal(df.values, 1.0)\n",
       "  1033                                           \n",
       "  1034        27         26.0      1.0      0.0          return df"
      ]
     },
     "metadata": {},
     "output_type": "display_data"
    }
   ],
   "source": [
    "%lprun -f Gene.get_tissues_correlations compute_ssm_correlation(all_genes)"
   ]
  },
  {
   "cell_type": "code",
   "execution_count": null,
   "id": "8aa4981d-d6e7-4c42-b8a6-cf8da6902685",
   "metadata": {},
   "outputs": [],
   "source": []
  }
 ],
 "metadata": {
  "jupytext": {
   "cell_metadata_filter": "all,-execution,-papermill,-trusted",
   "formats": "ipynb,py//py:percent"
  },
  "kernelspec": {
   "display_name": "Python 3 (ipykernel)",
   "language": "python",
   "name": "python3"
  },
  "language_info": {
   "codemirror_mode": {
    "name": "ipython",
    "version": 3
   },
   "file_extension": ".py",
   "mimetype": "text/x-python",
   "name": "python",
   "nbconvert_exporter": "python",
   "pygments_lexer": "ipython3",
   "version": "3.8.13"
  },
  "papermill": {
   "default_parameters": {},
   "duration": 2.899223,
   "end_time": "2022-02-24T05:32:05.472242",
   "environment_variables": {},
   "exception": null,
   "input_path": "nbs/15_gsa_gls/26-gls-null_simulations-plots.ipynb",
   "output_path": "nbs/15_gsa_gls/26-gls-null_simulations-plots.run.ipynb",
   "parameters": {},
   "start_time": "2022-02-24T05:32:02.573019",
   "version": "2.2.2"
  },
  "toc-autonumbering": true
 },
 "nbformat": 4,
 "nbformat_minor": 5
}
