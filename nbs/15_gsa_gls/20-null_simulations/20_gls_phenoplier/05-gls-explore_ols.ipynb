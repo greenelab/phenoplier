{
 "cells": [
  {
   "cell_type": "markdown",
   "id": "b7acf0c2",
   "metadata": {
    "papermill": {
     "duration": 0.038207,
     "end_time": "2022-02-24T05:32:03.755452",
     "exception": false,
     "start_time": "2022-02-24T05:32:03.717245",
     "status": "completed"
    },
    "tags": []
   },
   "source": [
    "# Description"
   ]
  },
  {
   "cell_type": "markdown",
   "id": "2653adfb",
   "metadata": {
    "papermill": {
     "duration": 0.009944,
     "end_time": "2022-02-24T05:32:03.780673",
     "exception": false,
     "start_time": "2022-02-24T05:32:03.770729",
     "status": "completed"
    },
    "tags": []
   },
   "source": [
    "The idea of this notebook is to explore a simple OLS model (Ordinary Least Squares) to associate an LV (gene weights) with a trait (gene z-scores). Since predicted gene expression is correlated, especially among adjacent genes, a simple OLS model is expected to fail by having high type I errors."
   ]
  },
  {
   "cell_type": "markdown",
   "id": "fb645f46",
   "metadata": {
    "papermill": {
     "duration": 0.008401,
     "end_time": "2022-02-24T05:32:03.797668",
     "exception": false,
     "start_time": "2022-02-24T05:32:03.789267",
     "status": "completed"
    },
    "tags": []
   },
   "source": [
    "# Modules"
   ]
  },
  {
   "cell_type": "code",
   "execution_count": 1,
   "id": "7ce51c68",
   "metadata": {
    "papermill": {
     "duration": 0.861241,
     "end_time": "2022-02-24T05:32:04.667481",
     "exception": false,
     "start_time": "2022-02-24T05:32:03.806240",
     "status": "completed"
    },
    "tags": []
   },
   "outputs": [],
   "source": [
    "from pathlib import Path\n",
    "\n",
    "import numpy as np\n",
    "import pandas as pd\n",
    "from scipy import stats\n",
    "from statsmodels.graphics.gofplots import qqplot_2samples\n",
    "import matplotlib.pyplot as plt\n",
    "import matplotlib as mpl\n",
    "import seaborn as sns\n",
    "\n",
    "import conf\n",
    "from data.recount2 import LVAnalysis"
   ]
  },
  {
   "cell_type": "markdown",
   "id": "654985a3",
   "metadata": {
    "papermill": {
     "duration": 0.008701,
     "end_time": "2022-02-24T05:32:04.685435",
     "exception": false,
     "start_time": "2022-02-24T05:32:04.676734",
     "status": "completed"
    },
    "tags": []
   },
   "source": [
    "# Settings"
   ]
  },
  {
   "cell_type": "code",
   "execution_count": 2,
   "id": "d4e1bf58-d0ac-455a-97d8-1d892b4a38d6",
   "metadata": {},
   "outputs": [],
   "source": [
    "N_PHENOTYPES = 1000\n",
    "N_LVS = 987"
   ]
  },
  {
   "cell_type": "code",
   "execution_count": 3,
   "id": "9ba4e01c",
   "metadata": {
    "papermill": {
     "duration": 0.016348,
     "end_time": "2022-02-24T05:32:04.710602",
     "exception": false,
     "start_time": "2022-02-24T05:32:04.694254",
     "status": "completed"
    },
    "tags": []
   },
   "outputs": [
    {
     "data": {
      "text/plain": [
       "PosixPath('/opt/data/results/gls/null_sims/phenoplier')"
      ]
     },
     "metadata": {},
     "output_type": "display_data"
    }
   ],
   "source": [
    "INPUT_DIR = conf.RESULTS[\"GLS_NULL_SIMS\"] / \"phenoplier\"\n",
    "display(INPUT_DIR)"
   ]
  },
  {
   "cell_type": "markdown",
   "id": "029018ec-ed00-41fb-83b3-f0ae3e57a000",
   "metadata": {},
   "source": [
    "# Load MultiXcan genes present in results"
   ]
  },
  {
   "cell_type": "code",
   "execution_count": 4,
   "id": "35a6ced5-0526-469f-93e5-15952f1201e2",
   "metadata": {},
   "outputs": [],
   "source": [
    "_tmp = pd.read_csv(conf.RESULTS[\"GLS_NULL_SIMS\"] / \"twas\" / \"smultixcan\" / \"random.pheno0-gtex_v8-mashr-smultixcan.txt\", sep=\"\\t\")"
   ]
  },
  {
   "cell_type": "code",
   "execution_count": 5,
   "id": "14dd7cef-0d54-4410-9f94-ff0a808b5dda",
   "metadata": {},
   "outputs": [
    {
     "data": {
      "text/plain": [
       "(22317, 18)"
      ]
     },
     "execution_count": 5,
     "metadata": {},
     "output_type": "execute_result"
    }
   ],
   "source": [
    "_tmp.shape"
   ]
  },
  {
   "cell_type": "code",
   "execution_count": 6,
   "id": "e0c79c4b-459b-4ace-8284-14cd3ccbb130",
   "metadata": {},
   "outputs": [
    {
     "data": {
      "text/html": [
       "<div>\n",
       "<style scoped>\n",
       "    .dataframe tbody tr th:only-of-type {\n",
       "        vertical-align: middle;\n",
       "    }\n",
       "\n",
       "    .dataframe tbody tr th {\n",
       "        vertical-align: top;\n",
       "    }\n",
       "\n",
       "    .dataframe thead th {\n",
       "        text-align: right;\n",
       "    }\n",
       "</style>\n",
       "<table border=\"1\" class=\"dataframe\">\n",
       "  <thead>\n",
       "    <tr style=\"text-align: right;\">\n",
       "      <th></th>\n",
       "      <th>gene</th>\n",
       "      <th>gene_name</th>\n",
       "      <th>pvalue</th>\n",
       "      <th>n</th>\n",
       "      <th>n_indep</th>\n",
       "      <th>p_i_best</th>\n",
       "      <th>t_i_best</th>\n",
       "      <th>p_i_worst</th>\n",
       "      <th>t_i_worst</th>\n",
       "      <th>eigen_max</th>\n",
       "      <th>eigen_min</th>\n",
       "      <th>eigen_min_kept</th>\n",
       "      <th>z_min</th>\n",
       "      <th>z_max</th>\n",
       "      <th>z_mean</th>\n",
       "      <th>z_sd</th>\n",
       "      <th>tmi</th>\n",
       "      <th>status</th>\n",
       "    </tr>\n",
       "  </thead>\n",
       "  <tbody>\n",
       "    <tr>\n",
       "      <th>0</th>\n",
       "      <td>ENSG00000131941.7</td>\n",
       "      <td>RHPN2</td>\n",
       "      <td>0.000040</td>\n",
       "      <td>48.0</td>\n",
       "      <td>3.0</td>\n",
       "      <td>2.139470e-04</td>\n",
       "      <td>Artery_Tibial</td>\n",
       "      <td>0.990132</td>\n",
       "      <td>Brain_Nucleus_accumbens_basal_ganglia</td>\n",
       "      <td>36.556432</td>\n",
       "      <td>7.692089e-16</td>\n",
       "      <td>2.519701</td>\n",
       "      <td>-2.721185</td>\n",
       "      <td>3.701952</td>\n",
       "      <td>1.283152</td>\n",
       "      <td>1.825567</td>\n",
       "      <td>3.0</td>\n",
       "      <td>0</td>\n",
       "    </tr>\n",
       "    <tr>\n",
       "      <th>1</th>\n",
       "      <td>ENSG00000076650.6</td>\n",
       "      <td>GPATCH1</td>\n",
       "      <td>0.000078</td>\n",
       "      <td>40.0</td>\n",
       "      <td>3.0</td>\n",
       "      <td>4.534390e-04</td>\n",
       "      <td>Brain_Cerebellum</td>\n",
       "      <td>0.817384</td>\n",
       "      <td>Brain_Frontal_Cortex_BA9</td>\n",
       "      <td>29.990208</td>\n",
       "      <td>2.086487e-15</td>\n",
       "      <td>1.815203</td>\n",
       "      <td>-3.506853</td>\n",
       "      <td>2.383485</td>\n",
       "      <td>-2.016745</td>\n",
       "      <td>1.715495</td>\n",
       "      <td>3.0</td>\n",
       "      <td>0</td>\n",
       "    </tr>\n",
       "    <tr>\n",
       "      <th>2</th>\n",
       "      <td>ENSG00000100906.10</td>\n",
       "      <td>NFKBIA</td>\n",
       "      <td>0.000096</td>\n",
       "      <td>1.0</td>\n",
       "      <td>1.0</td>\n",
       "      <td>9.591208e-05</td>\n",
       "      <td>Brain_Frontal_Cortex_BA9</td>\n",
       "      <td>0.000096</td>\n",
       "      <td>Brain_Frontal_Cortex_BA9</td>\n",
       "      <td>1.000000</td>\n",
       "      <td>1.000000e+00</td>\n",
       "      <td>1.000000</td>\n",
       "      <td>-3.900707</td>\n",
       "      <td>-3.900707</td>\n",
       "      <td>-3.900707</td>\n",
       "      <td>NaN</td>\n",
       "      <td>1.0</td>\n",
       "      <td>0</td>\n",
       "    </tr>\n",
       "    <tr>\n",
       "      <th>3</th>\n",
       "      <td>ENSG00000136319.11</td>\n",
       "      <td>TTC5</td>\n",
       "      <td>0.000109</td>\n",
       "      <td>47.0</td>\n",
       "      <td>5.0</td>\n",
       "      <td>1.402826e-03</td>\n",
       "      <td>Brain_Hippocampus</td>\n",
       "      <td>0.961887</td>\n",
       "      <td>Colon_Sigmoid</td>\n",
       "      <td>21.272442</td>\n",
       "      <td>8.142339e-16</td>\n",
       "      <td>0.732606</td>\n",
       "      <td>-3.194069</td>\n",
       "      <td>1.397514</td>\n",
       "      <td>-0.916662</td>\n",
       "      <td>1.068989</td>\n",
       "      <td>5.0</td>\n",
       "      <td>0</td>\n",
       "    </tr>\n",
       "    <tr>\n",
       "      <th>4</th>\n",
       "      <td>ENSG00000152990.13</td>\n",
       "      <td>ADGRA3</td>\n",
       "      <td>0.000135</td>\n",
       "      <td>41.0</td>\n",
       "      <td>12.0</td>\n",
       "      <td>3.211289e-07</td>\n",
       "      <td>Heart_Atrial_Appendage</td>\n",
       "      <td>0.653657</td>\n",
       "      <td>Whole_Blood</td>\n",
       "      <td>12.988248</td>\n",
       "      <td>3.499412e-16</td>\n",
       "      <td>0.444682</td>\n",
       "      <td>-5.110605</td>\n",
       "      <td>3.599410</td>\n",
       "      <td>-0.464735</td>\n",
       "      <td>2.316607</td>\n",
       "      <td>12.0</td>\n",
       "      <td>0</td>\n",
       "    </tr>\n",
       "  </tbody>\n",
       "</table>\n",
       "</div>"
      ],
      "text/plain": [
       "                 gene gene_name    pvalue     n  n_indep      p_i_best  \\\n",
       "0   ENSG00000131941.7     RHPN2  0.000040  48.0      3.0  2.139470e-04   \n",
       "1   ENSG00000076650.6   GPATCH1  0.000078  40.0      3.0  4.534390e-04   \n",
       "2  ENSG00000100906.10    NFKBIA  0.000096   1.0      1.0  9.591208e-05   \n",
       "3  ENSG00000136319.11      TTC5  0.000109  47.0      5.0  1.402826e-03   \n",
       "4  ENSG00000152990.13    ADGRA3  0.000135  41.0     12.0  3.211289e-07   \n",
       "\n",
       "                   t_i_best  p_i_worst                              t_i_worst  \\\n",
       "0             Artery_Tibial   0.990132  Brain_Nucleus_accumbens_basal_ganglia   \n",
       "1          Brain_Cerebellum   0.817384               Brain_Frontal_Cortex_BA9   \n",
       "2  Brain_Frontal_Cortex_BA9   0.000096               Brain_Frontal_Cortex_BA9   \n",
       "3         Brain_Hippocampus   0.961887                          Colon_Sigmoid   \n",
       "4    Heart_Atrial_Appendage   0.653657                            Whole_Blood   \n",
       "\n",
       "   eigen_max     eigen_min  eigen_min_kept     z_min     z_max    z_mean  \\\n",
       "0  36.556432  7.692089e-16        2.519701 -2.721185  3.701952  1.283152   \n",
       "1  29.990208  2.086487e-15        1.815203 -3.506853  2.383485 -2.016745   \n",
       "2   1.000000  1.000000e+00        1.000000 -3.900707 -3.900707 -3.900707   \n",
       "3  21.272442  8.142339e-16        0.732606 -3.194069  1.397514 -0.916662   \n",
       "4  12.988248  3.499412e-16        0.444682 -5.110605  3.599410 -0.464735   \n",
       "\n",
       "       z_sd   tmi  status  \n",
       "0  1.825567   3.0       0  \n",
       "1  1.715495   3.0       0  \n",
       "2       NaN   1.0       0  \n",
       "3  1.068989   5.0       0  \n",
       "4  2.316607  12.0       0  "
      ]
     },
     "execution_count": 6,
     "metadata": {},
     "output_type": "execute_result"
    }
   ],
   "source": [
    "_tmp.head()"
   ]
  },
  {
   "cell_type": "code",
   "execution_count": 7,
   "id": "df4e8a97-854f-4355-ac4f-d007f4fe3eab",
   "metadata": {},
   "outputs": [
    {
     "data": {
      "text/plain": [
       "22311"
      ]
     },
     "metadata": {},
     "output_type": "display_data"
    },
    {
     "data": {
      "text/plain": [
       "['COL4A3BP',\n",
       " 'HTR5A',\n",
       " 'PDCD6IP',\n",
       " 'CLN8',\n",
       " 'CTD-3193K9.11',\n",
       " 'PCDHB9',\n",
       " 'DEFB1',\n",
       " 'UBE2E3',\n",
       " 'RIF1',\n",
       " 'TSC22D1']"
      ]
     },
     "metadata": {},
     "output_type": "display_data"
    }
   ],
   "source": [
    "multixcan_genes = set(_tmp[\"gene_name\"])\n",
    "display(len(multixcan_genes))\n",
    "display(list(multixcan_genes)[:10])"
   ]
  },
  {
   "cell_type": "markdown",
   "id": "e9c7f7f2-2995-4feb-8b74-00946b986433",
   "metadata": {},
   "source": [
    "# Load MultiPLIER Z matrix"
   ]
  },
  {
   "cell_type": "code",
   "execution_count": 8,
   "id": "737539d5-27c1-4eca-afe7-a762799e9a06",
   "metadata": {},
   "outputs": [],
   "source": [
    "multiplier_z = pd.read_pickle(conf.MULTIPLIER[\"MODEL_Z_MATRIX_FILE\"])"
   ]
  },
  {
   "cell_type": "code",
   "execution_count": 9,
   "id": "85f795b4-ac82-4638-8859-17fb6a9065d0",
   "metadata": {},
   "outputs": [
    {
     "data": {
      "text/plain": [
       "(6750, 987)"
      ]
     },
     "execution_count": 9,
     "metadata": {},
     "output_type": "execute_result"
    }
   ],
   "source": [
    "multiplier_z.shape"
   ]
  },
  {
   "cell_type": "code",
   "execution_count": 10,
   "id": "833629ef-50a0-4f1a-8e80-3666f14e45f4",
   "metadata": {},
   "outputs": [],
   "source": [
    "# keep genes only present in MultiXcan\n",
    "multiplier_z = multiplier_z.loc[sorted(multixcan_genes.intersection(multiplier_z.index))]"
   ]
  },
  {
   "cell_type": "code",
   "execution_count": 11,
   "id": "412acd59-1134-4ee7-8b73-2d4552946735",
   "metadata": {},
   "outputs": [
    {
     "data": {
      "text/plain": [
       "(6446, 987)"
      ]
     },
     "execution_count": 11,
     "metadata": {},
     "output_type": "execute_result"
    }
   ],
   "source": [
    "multiplier_z.shape"
   ]
  },
  {
   "cell_type": "code",
   "execution_count": 12,
   "id": "1d7ae2a5-f63d-415b-b509-0fc4ea278a40",
   "metadata": {},
   "outputs": [
    {
     "data": {
      "text/html": [
       "<div>\n",
       "<style scoped>\n",
       "    .dataframe tbody tr th:only-of-type {\n",
       "        vertical-align: middle;\n",
       "    }\n",
       "\n",
       "    .dataframe tbody tr th {\n",
       "        vertical-align: top;\n",
       "    }\n",
       "\n",
       "    .dataframe thead th {\n",
       "        text-align: right;\n",
       "    }\n",
       "</style>\n",
       "<table border=\"1\" class=\"dataframe\">\n",
       "  <thead>\n",
       "    <tr style=\"text-align: right;\">\n",
       "      <th></th>\n",
       "      <th>LV1</th>\n",
       "      <th>LV2</th>\n",
       "      <th>LV3</th>\n",
       "      <th>LV4</th>\n",
       "      <th>LV5</th>\n",
       "      <th>LV6</th>\n",
       "      <th>LV7</th>\n",
       "      <th>LV8</th>\n",
       "      <th>LV9</th>\n",
       "      <th>LV10</th>\n",
       "      <th>...</th>\n",
       "      <th>LV978</th>\n",
       "      <th>LV979</th>\n",
       "      <th>LV980</th>\n",
       "      <th>LV981</th>\n",
       "      <th>LV982</th>\n",
       "      <th>LV983</th>\n",
       "      <th>LV984</th>\n",
       "      <th>LV985</th>\n",
       "      <th>LV986</th>\n",
       "      <th>LV987</th>\n",
       "    </tr>\n",
       "  </thead>\n",
       "  <tbody>\n",
       "    <tr>\n",
       "      <th>A2M</th>\n",
       "      <td>0.000000</td>\n",
       "      <td>0.000000</td>\n",
       "      <td>0.000000</td>\n",
       "      <td>0.078428</td>\n",
       "      <td>0.0</td>\n",
       "      <td>0.00000</td>\n",
       "      <td>0.000000</td>\n",
       "      <td>0.046772</td>\n",
       "      <td>0.000000</td>\n",
       "      <td>0.011033</td>\n",
       "      <td>...</td>\n",
       "      <td>0.010910</td>\n",
       "      <td>0.000000</td>\n",
       "      <td>0.052869</td>\n",
       "      <td>0.012749</td>\n",
       "      <td>0.0</td>\n",
       "      <td>0.013982</td>\n",
       "      <td>0.152241</td>\n",
       "      <td>0.000000</td>\n",
       "      <td>0.000000</td>\n",
       "      <td>0.108884</td>\n",
       "    </tr>\n",
       "    <tr>\n",
       "      <th>AAAS</th>\n",
       "      <td>0.271162</td>\n",
       "      <td>0.000000</td>\n",
       "      <td>0.000000</td>\n",
       "      <td>0.000000</td>\n",
       "      <td>0.0</td>\n",
       "      <td>0.00000</td>\n",
       "      <td>0.000000</td>\n",
       "      <td>0.000000</td>\n",
       "      <td>1.513337</td>\n",
       "      <td>0.000000</td>\n",
       "      <td>...</td>\n",
       "      <td>0.000000</td>\n",
       "      <td>0.000000</td>\n",
       "      <td>0.000000</td>\n",
       "      <td>0.001385</td>\n",
       "      <td>0.0</td>\n",
       "      <td>0.000000</td>\n",
       "      <td>0.711896</td>\n",
       "      <td>0.030534</td>\n",
       "      <td>0.447105</td>\n",
       "      <td>0.424685</td>\n",
       "    </tr>\n",
       "    <tr>\n",
       "      <th>AANAT</th>\n",
       "      <td>0.005099</td>\n",
       "      <td>0.308497</td>\n",
       "      <td>0.028815</td>\n",
       "      <td>0.000000</td>\n",
       "      <td>0.0</td>\n",
       "      <td>0.00000</td>\n",
       "      <td>0.371725</td>\n",
       "      <td>0.000000</td>\n",
       "      <td>0.135238</td>\n",
       "      <td>0.000000</td>\n",
       "      <td>...</td>\n",
       "      <td>0.117163</td>\n",
       "      <td>0.018815</td>\n",
       "      <td>0.000000</td>\n",
       "      <td>0.193142</td>\n",
       "      <td>0.0</td>\n",
       "      <td>0.040401</td>\n",
       "      <td>0.180436</td>\n",
       "      <td>0.000000</td>\n",
       "      <td>0.000000</td>\n",
       "      <td>0.042064</td>\n",
       "    </tr>\n",
       "    <tr>\n",
       "      <th>AARS</th>\n",
       "      <td>0.512978</td>\n",
       "      <td>0.000000</td>\n",
       "      <td>0.451285</td>\n",
       "      <td>0.319568</td>\n",
       "      <td>0.0</td>\n",
       "      <td>0.00000</td>\n",
       "      <td>0.000000</td>\n",
       "      <td>0.000000</td>\n",
       "      <td>0.000000</td>\n",
       "      <td>0.000000</td>\n",
       "      <td>...</td>\n",
       "      <td>0.000000</td>\n",
       "      <td>0.000000</td>\n",
       "      <td>0.006208</td>\n",
       "      <td>0.021274</td>\n",
       "      <td>0.0</td>\n",
       "      <td>0.000000</td>\n",
       "      <td>0.062143</td>\n",
       "      <td>0.000000</td>\n",
       "      <td>0.000000</td>\n",
       "      <td>0.364892</td>\n",
       "    </tr>\n",
       "    <tr>\n",
       "      <th>AARS2</th>\n",
       "      <td>1.008157</td>\n",
       "      <td>0.000000</td>\n",
       "      <td>0.197424</td>\n",
       "      <td>0.024832</td>\n",
       "      <td>0.0</td>\n",
       "      <td>0.57081</td>\n",
       "      <td>0.000000</td>\n",
       "      <td>0.228675</td>\n",
       "      <td>0.000000</td>\n",
       "      <td>0.116243</td>\n",
       "      <td>...</td>\n",
       "      <td>0.000000</td>\n",
       "      <td>0.000000</td>\n",
       "      <td>0.153345</td>\n",
       "      <td>0.000000</td>\n",
       "      <td>0.0</td>\n",
       "      <td>0.000000</td>\n",
       "      <td>1.004578</td>\n",
       "      <td>0.014470</td>\n",
       "      <td>0.000000</td>\n",
       "      <td>0.000000</td>\n",
       "    </tr>\n",
       "  </tbody>\n",
       "</table>\n",
       "<p>5 rows × 987 columns</p>\n",
       "</div>"
      ],
      "text/plain": [
       "            LV1       LV2       LV3       LV4  LV5      LV6       LV7  \\\n",
       "A2M    0.000000  0.000000  0.000000  0.078428  0.0  0.00000  0.000000   \n",
       "AAAS   0.271162  0.000000  0.000000  0.000000  0.0  0.00000  0.000000   \n",
       "AANAT  0.005099  0.308497  0.028815  0.000000  0.0  0.00000  0.371725   \n",
       "AARS   0.512978  0.000000  0.451285  0.319568  0.0  0.00000  0.000000   \n",
       "AARS2  1.008157  0.000000  0.197424  0.024832  0.0  0.57081  0.000000   \n",
       "\n",
       "            LV8       LV9      LV10  ...     LV978     LV979     LV980  \\\n",
       "A2M    0.046772  0.000000  0.011033  ...  0.010910  0.000000  0.052869   \n",
       "AAAS   0.000000  1.513337  0.000000  ...  0.000000  0.000000  0.000000   \n",
       "AANAT  0.000000  0.135238  0.000000  ...  0.117163  0.018815  0.000000   \n",
       "AARS   0.000000  0.000000  0.000000  ...  0.000000  0.000000  0.006208   \n",
       "AARS2  0.228675  0.000000  0.116243  ...  0.000000  0.000000  0.153345   \n",
       "\n",
       "          LV981  LV982     LV983     LV984     LV985     LV986     LV987  \n",
       "A2M    0.012749    0.0  0.013982  0.152241  0.000000  0.000000  0.108884  \n",
       "AAAS   0.001385    0.0  0.000000  0.711896  0.030534  0.447105  0.424685  \n",
       "AANAT  0.193142    0.0  0.040401  0.180436  0.000000  0.000000  0.042064  \n",
       "AARS   0.021274    0.0  0.000000  0.062143  0.000000  0.000000  0.364892  \n",
       "AARS2  0.000000    0.0  0.000000  1.004578  0.014470  0.000000  0.000000  \n",
       "\n",
       "[5 rows x 987 columns]"
      ]
     },
     "execution_count": 12,
     "metadata": {},
     "output_type": "execute_result"
    }
   ],
   "source": [
    "multiplier_z.head()"
   ]
  },
  {
   "cell_type": "markdown",
   "id": "4cb0512c",
   "metadata": {
    "papermill": {
     "duration": 0.010426,
     "end_time": "2022-02-24T05:32:04.905993",
     "exception": false,
     "start_time": "2022-02-24T05:32:04.895567",
     "status": "completed"
    },
    "tags": []
   },
   "source": [
    "# Functions"
   ]
  },
  {
   "cell_type": "code",
   "execution_count": 13,
   "id": "8f147e50",
   "metadata": {},
   "outputs": [],
   "source": [
    "def show_prop(data, frac=0.05):\n",
    "    _pvalue_lt_frac = data[data[\"pvalue\"] < frac]\n",
    "    return _pvalue_lt_frac.shape[0] / data.shape[0]"
   ]
  },
  {
   "cell_type": "code",
   "execution_count": 14,
   "id": "247ac210-d958-47c5-8689-5d7bee1fc2c3",
   "metadata": {},
   "outputs": [],
   "source": [
    "def get_prop(pvalues, frac=0.05):\n",
    "    _pvalue_lt_frac = pvalues[pvalues < frac]\n",
    "    return _pvalue_lt_frac.shape[0] / pvalues.shape[0]"
   ]
  },
  {
   "cell_type": "code",
   "execution_count": 15,
   "id": "21b228aa-038d-4d7f-886c-c46e98e20d15",
   "metadata": {},
   "outputs": [],
   "source": [
    "assert get_prop(np.array([0.20, 0.50]), 0.05) == 0.0\n",
    "assert get_prop(np.array([0.20, 0.50, 0.75, 0.10, 0.04]), 0.05) == 0.2"
   ]
  },
  {
   "cell_type": "code",
   "execution_count": 16,
   "id": "6d41d11a-acf1-4165-9436-a9eda22ba6bb",
   "metadata": {},
   "outputs": [],
   "source": [
    "assert get_prop(pd.Series(np.array([0.20, 0.50])), 0.05) == 0.0\n",
    "assert get_prop(pd.Series(np.array([0.20, 0.50, 0.75, 0.10, 0.04])), 0.05) == 0.2"
   ]
  },
  {
   "cell_type": "code",
   "execution_count": 17,
   "id": "f9da2b93-e6e4-4d19-bb37-fcb15e03bb5d",
   "metadata": {},
   "outputs": [],
   "source": [
    "def qqplot_unif(results):\n",
    "    data = results[\"pvalue\"].to_numpy()\n",
    "    n = data.shape[0]\n",
    "    uniform_data = np.array([i / (n + 1) for i in range(1, n + 1)])\n",
    "    \n",
    "    observed_data = -np.log10(data)\n",
    "    expected_data = -np.log10(uniform_data)\n",
    "\n",
    "    with sns.plotting_context(\"paper\", font_scale=1.8), mpl.rc_context(\n",
    "        {\"lines.markersize\": 3}\n",
    "    ):\n",
    "        fig, ax = plt.subplots(figsize=(8, 8))\n",
    "\n",
    "        fig = qqplot_2samples(expected_data, observed_data, line=\"45\", ax=ax)\n",
    "\n",
    "        ax.set_xlim(expected_data.min() - 0.05, expected_data.max() + 0.05)\n",
    "\n",
    "        ax.set_xlabel(\"$-\\log_{10}$(expected pvalue)\")\n",
    "        ax.set_ylabel(\"$-\\log_{10}$(observed pvalue)\")\n",
    "        ax.set_title(\"QQ-Plot - Null with MASHR models\")"
   ]
  },
  {
   "cell_type": "code",
   "execution_count": 18,
   "id": "e8b4450a-7bde-4571-ba3a-e600d8212a7d",
   "metadata": {},
   "outputs": [],
   "source": [
    "def get_lv_genes(lv_code):\n",
    "    lv_genes = multiplier_z[lv_code].sort_values(ascending=False)\n",
    "    lv_obj = LVAnalysis(lv_code)\n",
    "    return lv_obj.lv_genes.set_index(\"gene_name\").loc[lv_genes.index]"
   ]
  },
  {
   "cell_type": "markdown",
   "id": "61c4fa5f",
   "metadata": {},
   "source": [
    "# Set input directory"
   ]
  },
  {
   "cell_type": "code",
   "execution_count": 19,
   "id": "628fdfdf-7858-4aee-96ce-cb74b5d505dd",
   "metadata": {},
   "outputs": [
    {
     "data": {
      "text/plain": [
       "PosixPath('/opt/data/results/gls/null_sims/phenoplier/gls-debug_use_ols')"
      ]
     },
     "metadata": {},
     "output_type": "display_data"
    }
   ],
   "source": [
    "input_directory = INPUT_DIR / \"gls-debug_use_ols\"\n",
    "display(input_directory)"
   ]
  },
  {
   "cell_type": "markdown",
   "id": "29a8e81c-fe49-44c2-880d-e2c4a5e305ba",
   "metadata": {},
   "source": [
    "# Get files list"
   ]
  },
  {
   "cell_type": "code",
   "execution_count": 20,
   "id": "f920bc02-8297-4bd9-8601-665f079cbf91",
   "metadata": {},
   "outputs": [
    {
     "data": {
      "text/plain": [
       "[PosixPath('/opt/data/results/gls/null_sims/phenoplier/gls-debug_use_ols/random.pheno988-gls_phenoplier.tsv.gz'),\n",
       " PosixPath('/opt/data/results/gls/null_sims/phenoplier/gls-debug_use_ols/random.pheno589-gls_phenoplier.tsv.gz'),\n",
       " PosixPath('/opt/data/results/gls/null_sims/phenoplier/gls-debug_use_ols/random.pheno385-gls_phenoplier.tsv.gz'),\n",
       " PosixPath('/opt/data/results/gls/null_sims/phenoplier/gls-debug_use_ols/random.pheno5-gls_phenoplier.tsv.gz'),\n",
       " PosixPath('/opt/data/results/gls/null_sims/phenoplier/gls-debug_use_ols/random.pheno74-gls_phenoplier.tsv.gz')]"
      ]
     },
     "metadata": {},
     "output_type": "display_data"
    }
   ],
   "source": [
    "INPUT_FILES = list(input_directory.glob(\"*.tsv.gz\"))\n",
    "display(INPUT_FILES[:5])"
   ]
  },
  {
   "cell_type": "markdown",
   "id": "5f2c6f72-9a30-4ced-bc9a-04b6b3b21384",
   "metadata": {},
   "source": [
    "# Load data"
   ]
  },
  {
   "cell_type": "code",
   "execution_count": 21,
   "id": "18ebfb6c",
   "metadata": {
    "papermill": {
     "duration": 0.023945,
     "end_time": "2022-02-24T05:32:04.808813",
     "exception": false,
     "start_time": "2022-02-24T05:32:04.784868",
     "status": "completed"
    },
    "tags": []
   },
   "outputs": [],
   "source": [
    "dfs = [\n",
    "    pd.read_csv(f, sep=\"\\t\").assign(phenotype=f.name.split(\"-\")[0]) for f in INPUT_FILES\n",
    "]"
   ]
  },
  {
   "cell_type": "code",
   "execution_count": 22,
   "id": "ac3b6041",
   "metadata": {
    "papermill": {
     "duration": 0.015781,
     "end_time": "2022-02-24T05:32:04.834694",
     "exception": false,
     "start_time": "2022-02-24T05:32:04.818913",
     "status": "completed"
    },
    "tags": []
   },
   "outputs": [
    {
     "data": {
      "text/plain": [
       "1000"
      ]
     },
     "metadata": {},
     "output_type": "display_data"
    }
   ],
   "source": [
    "display(len(dfs))\n",
    "assert len(dfs) == N_PHENOTYPES"
   ]
  },
  {
   "cell_type": "code",
   "execution_count": 23,
   "id": "d15f7346",
   "metadata": {
    "papermill": {
     "duration": 0.038689,
     "end_time": "2022-02-24T05:32:04.884154",
     "exception": false,
     "start_time": "2022-02-24T05:32:04.845465",
     "status": "completed"
    },
    "tags": []
   },
   "outputs": [],
   "source": [
    "dfs = pd.concat(dfs, axis=0, ignore_index=True)"
   ]
  },
  {
   "cell_type": "code",
   "execution_count": 24,
   "id": "7405b07c-b71a-4a8f-924b-f9ffc7a0b13a",
   "metadata": {},
   "outputs": [
    {
     "data": {
      "text/plain": [
       "(987000, 4)"
      ]
     },
     "metadata": {},
     "output_type": "display_data"
    }
   ],
   "source": [
    "display(dfs.shape)\n",
    "assert dfs.shape[0] == N_PHENOTYPES * N_LVS"
   ]
  },
  {
   "cell_type": "code",
   "execution_count": 25,
   "id": "228787ad-0cbb-4f3b-b964-0bc148a1a305",
   "metadata": {},
   "outputs": [
    {
     "data": {
      "text/html": [
       "<div>\n",
       "<style scoped>\n",
       "    .dataframe tbody tr th:only-of-type {\n",
       "        vertical-align: middle;\n",
       "    }\n",
       "\n",
       "    .dataframe tbody tr th {\n",
       "        vertical-align: top;\n",
       "    }\n",
       "\n",
       "    .dataframe thead th {\n",
       "        text-align: right;\n",
       "    }\n",
       "</style>\n",
       "<table border=\"1\" class=\"dataframe\">\n",
       "  <thead>\n",
       "    <tr style=\"text-align: right;\">\n",
       "      <th></th>\n",
       "      <th>lv</th>\n",
       "      <th>coef</th>\n",
       "      <th>pvalue</th>\n",
       "      <th>phenotype</th>\n",
       "    </tr>\n",
       "  </thead>\n",
       "  <tbody>\n",
       "    <tr>\n",
       "      <th>0</th>\n",
       "      <td>LV1</td>\n",
       "      <td>0.007085</td>\n",
       "      <td>0.284804</td>\n",
       "      <td>random.pheno988</td>\n",
       "    </tr>\n",
       "    <tr>\n",
       "      <th>1</th>\n",
       "      <td>LV2</td>\n",
       "      <td>0.016905</td>\n",
       "      <td>0.087406</td>\n",
       "      <td>random.pheno988</td>\n",
       "    </tr>\n",
       "    <tr>\n",
       "      <th>2</th>\n",
       "      <td>LV3</td>\n",
       "      <td>-0.009680</td>\n",
       "      <td>0.781394</td>\n",
       "      <td>random.pheno988</td>\n",
       "    </tr>\n",
       "    <tr>\n",
       "      <th>3</th>\n",
       "      <td>LV4</td>\n",
       "      <td>-0.012916</td>\n",
       "      <td>0.850054</td>\n",
       "      <td>random.pheno988</td>\n",
       "    </tr>\n",
       "    <tr>\n",
       "      <th>4</th>\n",
       "      <td>LV5</td>\n",
       "      <td>0.002446</td>\n",
       "      <td>0.422179</td>\n",
       "      <td>random.pheno988</td>\n",
       "    </tr>\n",
       "  </tbody>\n",
       "</table>\n",
       "</div>"
      ],
      "text/plain": [
       "    lv      coef    pvalue        phenotype\n",
       "0  LV1  0.007085  0.284804  random.pheno988\n",
       "1  LV2  0.016905  0.087406  random.pheno988\n",
       "2  LV3 -0.009680  0.781394  random.pheno988\n",
       "3  LV4 -0.012916  0.850054  random.pheno988\n",
       "4  LV5  0.002446  0.422179  random.pheno988"
      ]
     },
     "execution_count": 25,
     "metadata": {},
     "output_type": "execute_result"
    }
   ],
   "source": [
    "dfs.head()"
   ]
  },
  {
   "cell_type": "code",
   "execution_count": 26,
   "id": "97764d1b-af87-46a2-ab78-53df39b0dde3",
   "metadata": {},
   "outputs": [],
   "source": [
    "_tmp = dfs.groupby(\"phenotype\")[\"lv\"].nunique().unique()\n",
    "assert _tmp.shape[0] == 1\n",
    "assert _tmp[0] == N_LVS"
   ]
  },
  {
   "cell_type": "markdown",
   "id": "4c232891-42e5-4685-b015-6ae332164f58",
   "metadata": {},
   "source": [
    "# Mean type I error"
   ]
  },
  {
   "cell_type": "code",
   "execution_count": 27,
   "id": "3426beb7-84a6-4d3d-bdfd-36b4f8cf97bd",
   "metadata": {},
   "outputs": [
    {
     "data": {
      "text/plain": [
       "0.060587639311043565"
      ]
     },
     "execution_count": 27,
     "metadata": {},
     "output_type": "execute_result"
    }
   ],
   "source": [
    "show_prop(dfs)"
   ]
  },
  {
   "cell_type": "markdown",
   "id": "04513389-4d0e-4a8e-b403-851aaeb1b688",
   "metadata": {},
   "source": [
    "It should be around 0.05. Let's check what happened at individual LVs."
   ]
  },
  {
   "cell_type": "markdown",
   "id": "c1b22d64-a75f-4380-9c86-b869a1c97072",
   "metadata": {},
   "source": [
    "# Summary of mean type I error per LV"
   ]
  },
  {
   "cell_type": "code",
   "execution_count": 28,
   "id": "5c799efd-77dc-4955-b5b8-263c65779946",
   "metadata": {},
   "outputs": [],
   "source": [
    "summary_list = []\n",
    "for lv, lv_data in dfs.groupby(\"lv\"):\n",
    "    assert lv_data.shape[0] == N_PHENOTYPES\n",
    "\n",
    "    summary_list.append(\n",
    "        {\n",
    "            \"lv\": lv,\n",
    "            \"1\": get_prop(lv_data[\"pvalue\"], 0.01),\n",
    "            \"5\": get_prop(lv_data[\"pvalue\"], 0.05),\n",
    "            \"10\": get_prop(lv_data[\"pvalue\"], 0.10),\n",
    "        }\n",
    "    )\n",
    "\n",
    "summary_df = pd.DataFrame(summary_list)\n",
    "assert summary_df.shape[0] == N_LVS"
   ]
  },
  {
   "cell_type": "code",
   "execution_count": 29,
   "id": "16a5c34a-0337-4f15-b1ff-4b1bb00997f7",
   "metadata": {},
   "outputs": [
    {
     "data": {
      "text/plain": [
       "(987, 4)"
      ]
     },
     "execution_count": 29,
     "metadata": {},
     "output_type": "execute_result"
    }
   ],
   "source": [
    "summary_df.shape"
   ]
  },
  {
   "cell_type": "code",
   "execution_count": 30,
   "id": "3e1acb4a-00bb-4cea-9b47-9446a9382afe",
   "metadata": {},
   "outputs": [
    {
     "data": {
      "text/html": [
       "<div>\n",
       "<style scoped>\n",
       "    .dataframe tbody tr th:only-of-type {\n",
       "        vertical-align: middle;\n",
       "    }\n",
       "\n",
       "    .dataframe tbody tr th {\n",
       "        vertical-align: top;\n",
       "    }\n",
       "\n",
       "    .dataframe thead th {\n",
       "        text-align: right;\n",
       "    }\n",
       "</style>\n",
       "<table border=\"1\" class=\"dataframe\">\n",
       "  <thead>\n",
       "    <tr style=\"text-align: right;\">\n",
       "      <th></th>\n",
       "      <th>lv</th>\n",
       "      <th>1</th>\n",
       "      <th>5</th>\n",
       "      <th>10</th>\n",
       "    </tr>\n",
       "  </thead>\n",
       "  <tbody>\n",
       "    <tr>\n",
       "      <th>0</th>\n",
       "      <td>LV1</td>\n",
       "      <td>0.005</td>\n",
       "      <td>0.036</td>\n",
       "      <td>0.064</td>\n",
       "    </tr>\n",
       "    <tr>\n",
       "      <th>1</th>\n",
       "      <td>LV10</td>\n",
       "      <td>0.013</td>\n",
       "      <td>0.050</td>\n",
       "      <td>0.084</td>\n",
       "    </tr>\n",
       "    <tr>\n",
       "      <th>2</th>\n",
       "      <td>LV100</td>\n",
       "      <td>0.018</td>\n",
       "      <td>0.052</td>\n",
       "      <td>0.098</td>\n",
       "    </tr>\n",
       "    <tr>\n",
       "      <th>3</th>\n",
       "      <td>LV101</td>\n",
       "      <td>0.018</td>\n",
       "      <td>0.051</td>\n",
       "      <td>0.096</td>\n",
       "    </tr>\n",
       "    <tr>\n",
       "      <th>4</th>\n",
       "      <td>LV102</td>\n",
       "      <td>0.011</td>\n",
       "      <td>0.056</td>\n",
       "      <td>0.100</td>\n",
       "    </tr>\n",
       "  </tbody>\n",
       "</table>\n",
       "</div>"
      ],
      "text/plain": [
       "      lv      1      5     10\n",
       "0    LV1  0.005  0.036  0.064\n",
       "1   LV10  0.013  0.050  0.084\n",
       "2  LV100  0.018  0.052  0.098\n",
       "3  LV101  0.018  0.051  0.096\n",
       "4  LV102  0.011  0.056  0.100"
      ]
     },
     "execution_count": 30,
     "metadata": {},
     "output_type": "execute_result"
    }
   ],
   "source": [
    "summary_df.head()"
   ]
  },
  {
   "cell_type": "code",
   "execution_count": 31,
   "id": "779c4db3-3ed2-413d-8bec-b19a28ce4949",
   "metadata": {},
   "outputs": [
    {
     "data": {
      "text/html": [
       "<div>\n",
       "<style scoped>\n",
       "    .dataframe tbody tr th:only-of-type {\n",
       "        vertical-align: middle;\n",
       "    }\n",
       "\n",
       "    .dataframe tbody tr th {\n",
       "        vertical-align: top;\n",
       "    }\n",
       "\n",
       "    .dataframe thead th {\n",
       "        text-align: right;\n",
       "    }\n",
       "</style>\n",
       "<table border=\"1\" class=\"dataframe\">\n",
       "  <thead>\n",
       "    <tr style=\"text-align: right;\">\n",
       "      <th></th>\n",
       "      <th>1</th>\n",
       "      <th>5</th>\n",
       "      <th>10</th>\n",
       "    </tr>\n",
       "  </thead>\n",
       "  <tbody>\n",
       "    <tr>\n",
       "      <th>count</th>\n",
       "      <td>987.000000</td>\n",
       "      <td>987.000000</td>\n",
       "      <td>987.000000</td>\n",
       "    </tr>\n",
       "    <tr>\n",
       "      <th>mean</th>\n",
       "      <td>0.016720</td>\n",
       "      <td>0.060588</td>\n",
       "      <td>0.108664</td>\n",
       "    </tr>\n",
       "    <tr>\n",
       "      <th>std</th>\n",
       "      <td>0.007981</td>\n",
       "      <td>0.015704</td>\n",
       "      <td>0.022071</td>\n",
       "    </tr>\n",
       "    <tr>\n",
       "      <th>min</th>\n",
       "      <td>0.002000</td>\n",
       "      <td>0.015000</td>\n",
       "      <td>0.032000</td>\n",
       "    </tr>\n",
       "    <tr>\n",
       "      <th>25%</th>\n",
       "      <td>0.012000</td>\n",
       "      <td>0.050000</td>\n",
       "      <td>0.095000</td>\n",
       "    </tr>\n",
       "    <tr>\n",
       "      <th>50%</th>\n",
       "      <td>0.016000</td>\n",
       "      <td>0.060000</td>\n",
       "      <td>0.108000</td>\n",
       "    </tr>\n",
       "    <tr>\n",
       "      <th>75%</th>\n",
       "      <td>0.020000</td>\n",
       "      <td>0.069000</td>\n",
       "      <td>0.122000</td>\n",
       "    </tr>\n",
       "    <tr>\n",
       "      <th>max</th>\n",
       "      <td>0.104000</td>\n",
       "      <td>0.158000</td>\n",
       "      <td>0.219000</td>\n",
       "    </tr>\n",
       "  </tbody>\n",
       "</table>\n",
       "</div>"
      ],
      "text/plain": [
       "                1           5          10\n",
       "count  987.000000  987.000000  987.000000\n",
       "mean     0.016720    0.060588    0.108664\n",
       "std      0.007981    0.015704    0.022071\n",
       "min      0.002000    0.015000    0.032000\n",
       "25%      0.012000    0.050000    0.095000\n",
       "50%      0.016000    0.060000    0.108000\n",
       "75%      0.020000    0.069000    0.122000\n",
       "max      0.104000    0.158000    0.219000"
      ]
     },
     "execution_count": 31,
     "metadata": {},
     "output_type": "execute_result"
    }
   ],
   "source": [
    "summary_df.describe()"
   ]
  },
  {
   "cell_type": "markdown",
   "id": "43daf9dd-7530-4e53-8fc0-305aa78b5be3",
   "metadata": {},
   "source": [
    "## LVs with expected type I error"
   ]
  },
  {
   "cell_type": "code",
   "execution_count": 96,
   "id": "4b22226f-edc7-4af5-8585-e2dbb6fcbe9e",
   "metadata": {},
   "outputs": [
    {
     "data": {
      "text/plain": [
       "(80, 4)"
      ]
     },
     "metadata": {},
     "output_type": "display_data"
    },
    {
     "data": {
      "text/html": [
       "<div>\n",
       "<style scoped>\n",
       "    .dataframe tbody tr th:only-of-type {\n",
       "        vertical-align: middle;\n",
       "    }\n",
       "\n",
       "    .dataframe tbody tr th {\n",
       "        vertical-align: top;\n",
       "    }\n",
       "\n",
       "    .dataframe thead th {\n",
       "        text-align: right;\n",
       "    }\n",
       "</style>\n",
       "<table border=\"1\" class=\"dataframe\">\n",
       "  <thead>\n",
       "    <tr style=\"text-align: right;\">\n",
       "      <th></th>\n",
       "      <th>lv</th>\n",
       "      <th>1</th>\n",
       "      <th>5</th>\n",
       "      <th>10</th>\n",
       "    </tr>\n",
       "  </thead>\n",
       "  <tbody>\n",
       "    <tr>\n",
       "      <th>519</th>\n",
       "      <td>LV567</td>\n",
       "      <td>0.016</td>\n",
       "      <td>0.049</td>\n",
       "      <td>0.097</td>\n",
       "    </tr>\n",
       "    <tr>\n",
       "      <th>523</th>\n",
       "      <td>LV570</td>\n",
       "      <td>0.016</td>\n",
       "      <td>0.049</td>\n",
       "      <td>0.084</td>\n",
       "    </tr>\n",
       "    <tr>\n",
       "      <th>693</th>\n",
       "      <td>LV723</td>\n",
       "      <td>0.013</td>\n",
       "      <td>0.049</td>\n",
       "      <td>0.107</td>\n",
       "    </tr>\n",
       "    <tr>\n",
       "      <th>348</th>\n",
       "      <td>LV412</td>\n",
       "      <td>0.009</td>\n",
       "      <td>0.049</td>\n",
       "      <td>0.100</td>\n",
       "    </tr>\n",
       "    <tr>\n",
       "      <th>664</th>\n",
       "      <td>LV698</td>\n",
       "      <td>0.008</td>\n",
       "      <td>0.049</td>\n",
       "      <td>0.092</td>\n",
       "    </tr>\n",
       "    <tr>\n",
       "      <th>379</th>\n",
       "      <td>LV440</td>\n",
       "      <td>0.008</td>\n",
       "      <td>0.049</td>\n",
       "      <td>0.092</td>\n",
       "    </tr>\n",
       "    <tr>\n",
       "      <th>388</th>\n",
       "      <td>LV449</td>\n",
       "      <td>0.014</td>\n",
       "      <td>0.049</td>\n",
       "      <td>0.093</td>\n",
       "    </tr>\n",
       "    <tr>\n",
       "      <th>640</th>\n",
       "      <td>LV676</td>\n",
       "      <td>0.012</td>\n",
       "      <td>0.049</td>\n",
       "      <td>0.094</td>\n",
       "    </tr>\n",
       "    <tr>\n",
       "      <th>624</th>\n",
       "      <td>LV661</td>\n",
       "      <td>0.010</td>\n",
       "      <td>0.049</td>\n",
       "      <td>0.112</td>\n",
       "    </tr>\n",
       "    <tr>\n",
       "      <th>609</th>\n",
       "      <td>LV648</td>\n",
       "      <td>0.007</td>\n",
       "      <td>0.049</td>\n",
       "      <td>0.087</td>\n",
       "    </tr>\n",
       "    <tr>\n",
       "      <th>608</th>\n",
       "      <td>LV647</td>\n",
       "      <td>0.009</td>\n",
       "      <td>0.049</td>\n",
       "      <td>0.084</td>\n",
       "    </tr>\n",
       "    <tr>\n",
       "      <th>590</th>\n",
       "      <td>LV630</td>\n",
       "      <td>0.012</td>\n",
       "      <td>0.049</td>\n",
       "      <td>0.082</td>\n",
       "    </tr>\n",
       "    <tr>\n",
       "      <th>462</th>\n",
       "      <td>LV515</td>\n",
       "      <td>0.017</td>\n",
       "      <td>0.049</td>\n",
       "      <td>0.097</td>\n",
       "    </tr>\n",
       "    <tr>\n",
       "      <th>470</th>\n",
       "      <td>LV522</td>\n",
       "      <td>0.017</td>\n",
       "      <td>0.049</td>\n",
       "      <td>0.092</td>\n",
       "    </tr>\n",
       "    <tr>\n",
       "      <th>530</th>\n",
       "      <td>LV577</td>\n",
       "      <td>0.016</td>\n",
       "      <td>0.049</td>\n",
       "      <td>0.098</td>\n",
       "    </tr>\n",
       "    <tr>\n",
       "      <th>522</th>\n",
       "      <td>LV57</td>\n",
       "      <td>0.012</td>\n",
       "      <td>0.049</td>\n",
       "      <td>0.093</td>\n",
       "    </tr>\n",
       "    <tr>\n",
       "      <th>762</th>\n",
       "      <td>LV786</td>\n",
       "      <td>0.006</td>\n",
       "      <td>0.049</td>\n",
       "      <td>0.100</td>\n",
       "    </tr>\n",
       "    <tr>\n",
       "      <th>783</th>\n",
       "      <td>LV804</td>\n",
       "      <td>0.012</td>\n",
       "      <td>0.049</td>\n",
       "      <td>0.086</td>\n",
       "    </tr>\n",
       "    <tr>\n",
       "      <th>298</th>\n",
       "      <td>LV368</td>\n",
       "      <td>0.007</td>\n",
       "      <td>0.049</td>\n",
       "      <td>0.099</td>\n",
       "    </tr>\n",
       "    <tr>\n",
       "      <th>881</th>\n",
       "      <td>LV893</td>\n",
       "      <td>0.016</td>\n",
       "      <td>0.049</td>\n",
       "      <td>0.105</td>\n",
       "    </tr>\n",
       "  </tbody>\n",
       "</table>\n",
       "</div>"
      ],
      "text/plain": [
       "        lv      1      5     10\n",
       "519  LV567  0.016  0.049  0.097\n",
       "523  LV570  0.016  0.049  0.084\n",
       "693  LV723  0.013  0.049  0.107\n",
       "348  LV412  0.009  0.049  0.100\n",
       "664  LV698  0.008  0.049  0.092\n",
       "379  LV440  0.008  0.049  0.092\n",
       "388  LV449  0.014  0.049  0.093\n",
       "640  LV676  0.012  0.049  0.094\n",
       "624  LV661  0.010  0.049  0.112\n",
       "609  LV648  0.007  0.049  0.087\n",
       "608  LV647  0.009  0.049  0.084\n",
       "590  LV630  0.012  0.049  0.082\n",
       "462  LV515  0.017  0.049  0.097\n",
       "470  LV522  0.017  0.049  0.092\n",
       "530  LV577  0.016  0.049  0.098\n",
       "522   LV57  0.012  0.049  0.093\n",
       "762  LV786  0.006  0.049  0.100\n",
       "783  LV804  0.012  0.049  0.086\n",
       "298  LV368  0.007  0.049  0.099\n",
       "881  LV893  0.016  0.049  0.105"
      ]
     },
     "metadata": {},
     "output_type": "display_data"
    },
    {
     "data": {
      "text/html": [
       "<div>\n",
       "<style scoped>\n",
       "    .dataframe tbody tr th:only-of-type {\n",
       "        vertical-align: middle;\n",
       "    }\n",
       "\n",
       "    .dataframe tbody tr th {\n",
       "        vertical-align: top;\n",
       "    }\n",
       "\n",
       "    .dataframe thead th {\n",
       "        text-align: right;\n",
       "    }\n",
       "</style>\n",
       "<table border=\"1\" class=\"dataframe\">\n",
       "  <thead>\n",
       "    <tr style=\"text-align: right;\">\n",
       "      <th></th>\n",
       "      <th>lv</th>\n",
       "      <th>1</th>\n",
       "      <th>5</th>\n",
       "      <th>10</th>\n",
       "    </tr>\n",
       "  </thead>\n",
       "  <tbody>\n",
       "    <tr>\n",
       "      <th>61</th>\n",
       "      <td>LV154</td>\n",
       "      <td>0.010</td>\n",
       "      <td>0.051</td>\n",
       "      <td>0.096</td>\n",
       "    </tr>\n",
       "    <tr>\n",
       "      <th>70</th>\n",
       "      <td>LV162</td>\n",
       "      <td>0.013</td>\n",
       "      <td>0.051</td>\n",
       "      <td>0.105</td>\n",
       "    </tr>\n",
       "    <tr>\n",
       "      <th>917</th>\n",
       "      <td>LV925</td>\n",
       "      <td>0.011</td>\n",
       "      <td>0.051</td>\n",
       "      <td>0.107</td>\n",
       "    </tr>\n",
       "    <tr>\n",
       "      <th>15</th>\n",
       "      <td>LV112</td>\n",
       "      <td>0.013</td>\n",
       "      <td>0.051</td>\n",
       "      <td>0.091</td>\n",
       "    </tr>\n",
       "    <tr>\n",
       "      <th>934</th>\n",
       "      <td>LV940</td>\n",
       "      <td>0.012</td>\n",
       "      <td>0.051</td>\n",
       "      <td>0.087</td>\n",
       "    </tr>\n",
       "    <tr>\n",
       "      <th>3</th>\n",
       "      <td>LV101</td>\n",
       "      <td>0.018</td>\n",
       "      <td>0.051</td>\n",
       "      <td>0.096</td>\n",
       "    </tr>\n",
       "    <tr>\n",
       "      <th>976</th>\n",
       "      <td>LV979</td>\n",
       "      <td>0.013</td>\n",
       "      <td>0.051</td>\n",
       "      <td>0.108</td>\n",
       "    </tr>\n",
       "    <tr>\n",
       "      <th>227</th>\n",
       "      <td>LV303</td>\n",
       "      <td>0.011</td>\n",
       "      <td>0.051</td>\n",
       "      <td>0.101</td>\n",
       "    </tr>\n",
       "    <tr>\n",
       "      <th>347</th>\n",
       "      <td>LV411</td>\n",
       "      <td>0.012</td>\n",
       "      <td>0.051</td>\n",
       "      <td>0.112</td>\n",
       "    </tr>\n",
       "    <tr>\n",
       "      <th>358</th>\n",
       "      <td>LV421</td>\n",
       "      <td>0.011</td>\n",
       "      <td>0.051</td>\n",
       "      <td>0.091</td>\n",
       "    </tr>\n",
       "    <tr>\n",
       "      <th>635</th>\n",
       "      <td>LV671</td>\n",
       "      <td>0.010</td>\n",
       "      <td>0.051</td>\n",
       "      <td>0.090</td>\n",
       "    </tr>\n",
       "    <tr>\n",
       "      <th>407</th>\n",
       "      <td>LV466</td>\n",
       "      <td>0.013</td>\n",
       "      <td>0.051</td>\n",
       "      <td>0.115</td>\n",
       "    </tr>\n",
       "    <tr>\n",
       "      <th>415</th>\n",
       "      <td>LV473</td>\n",
       "      <td>0.015</td>\n",
       "      <td>0.051</td>\n",
       "      <td>0.115</td>\n",
       "    </tr>\n",
       "    <tr>\n",
       "      <th>426</th>\n",
       "      <td>LV483</td>\n",
       "      <td>0.015</td>\n",
       "      <td>0.051</td>\n",
       "      <td>0.089</td>\n",
       "    </tr>\n",
       "    <tr>\n",
       "      <th>432</th>\n",
       "      <td>LV489</td>\n",
       "      <td>0.007</td>\n",
       "      <td>0.051</td>\n",
       "      <td>0.097</td>\n",
       "    </tr>\n",
       "    <tr>\n",
       "      <th>560</th>\n",
       "      <td>LV603</td>\n",
       "      <td>0.016</td>\n",
       "      <td>0.051</td>\n",
       "      <td>0.097</td>\n",
       "    </tr>\n",
       "    <tr>\n",
       "      <th>490</th>\n",
       "      <td>LV540</td>\n",
       "      <td>0.016</td>\n",
       "      <td>0.051</td>\n",
       "      <td>0.104</td>\n",
       "    </tr>\n",
       "    <tr>\n",
       "      <th>508</th>\n",
       "      <td>LV557</td>\n",
       "      <td>0.009</td>\n",
       "      <td>0.051</td>\n",
       "      <td>0.076</td>\n",
       "    </tr>\n",
       "    <tr>\n",
       "      <th>214</th>\n",
       "      <td>LV292</td>\n",
       "      <td>0.012</td>\n",
       "      <td>0.051</td>\n",
       "      <td>0.092</td>\n",
       "    </tr>\n",
       "    <tr>\n",
       "      <th>986</th>\n",
       "      <td>LV99</td>\n",
       "      <td>0.014</td>\n",
       "      <td>0.051</td>\n",
       "      <td>0.106</td>\n",
       "    </tr>\n",
       "  </tbody>\n",
       "</table>\n",
       "</div>"
      ],
      "text/plain": [
       "        lv      1      5     10\n",
       "61   LV154  0.010  0.051  0.096\n",
       "70   LV162  0.013  0.051  0.105\n",
       "917  LV925  0.011  0.051  0.107\n",
       "15   LV112  0.013  0.051  0.091\n",
       "934  LV940  0.012  0.051  0.087\n",
       "3    LV101  0.018  0.051  0.096\n",
       "976  LV979  0.013  0.051  0.108\n",
       "227  LV303  0.011  0.051  0.101\n",
       "347  LV411  0.012  0.051  0.112\n",
       "358  LV421  0.011  0.051  0.091\n",
       "635  LV671  0.010  0.051  0.090\n",
       "407  LV466  0.013  0.051  0.115\n",
       "415  LV473  0.015  0.051  0.115\n",
       "426  LV483  0.015  0.051  0.089\n",
       "432  LV489  0.007  0.051  0.097\n",
       "560  LV603  0.016  0.051  0.097\n",
       "490  LV540  0.016  0.051  0.104\n",
       "508  LV557  0.009  0.051  0.076\n",
       "214  LV292  0.012  0.051  0.092\n",
       "986   LV99  0.014  0.051  0.106"
      ]
     },
     "metadata": {},
     "output_type": "display_data"
    }
   ],
   "source": [
    "lvs_expected_error = summary_df[summary_df[\"5\"].between(0.049, 0.051)]\n",
    "display(lvs_expected_error.shape)\n",
    "display(lvs_expected_error.sort_values(\"5\").head(20))\n",
    "display(lvs_expected_error.sort_values(\"5\").tail(20))"
   ]
  },
  {
   "cell_type": "markdown",
   "id": "9dcc030a-74be-4d04-b2b6-654a4443fbd9",
   "metadata": {},
   "source": [
    "## LVs with high type I error"
   ]
  },
  {
   "cell_type": "code",
   "execution_count": 98,
   "id": "31c5f1c6-10d7-4b2a-9429-b59e6ba3c594",
   "metadata": {},
   "outputs": [
    {
     "data": {
      "text/plain": [
       "(460, 4)"
      ]
     },
     "metadata": {},
     "output_type": "display_data"
    },
    {
     "data": {
      "text/html": [
       "<div>\n",
       "<style scoped>\n",
       "    .dataframe tbody tr th:only-of-type {\n",
       "        vertical-align: middle;\n",
       "    }\n",
       "\n",
       "    .dataframe tbody tr th {\n",
       "        vertical-align: top;\n",
       "    }\n",
       "\n",
       "    .dataframe thead th {\n",
       "        text-align: right;\n",
       "    }\n",
       "</style>\n",
       "<table border=\"1\" class=\"dataframe\">\n",
       "  <thead>\n",
       "    <tr style=\"text-align: right;\">\n",
       "      <th></th>\n",
       "      <th>lv</th>\n",
       "      <th>1</th>\n",
       "      <th>5</th>\n",
       "      <th>10</th>\n",
       "    </tr>\n",
       "  </thead>\n",
       "  <tbody>\n",
       "    <tr>\n",
       "      <th>199</th>\n",
       "      <td>LV279</td>\n",
       "      <td>0.026</td>\n",
       "      <td>0.095</td>\n",
       "      <td>0.150</td>\n",
       "    </tr>\n",
       "    <tr>\n",
       "      <th>631</th>\n",
       "      <td>LV668</td>\n",
       "      <td>0.032</td>\n",
       "      <td>0.096</td>\n",
       "      <td>0.166</td>\n",
       "    </tr>\n",
       "    <tr>\n",
       "      <th>190</th>\n",
       "      <td>LV270</td>\n",
       "      <td>0.033</td>\n",
       "      <td>0.096</td>\n",
       "      <td>0.163</td>\n",
       "    </tr>\n",
       "    <tr>\n",
       "      <th>213</th>\n",
       "      <td>LV291</td>\n",
       "      <td>0.042</td>\n",
       "      <td>0.098</td>\n",
       "      <td>0.141</td>\n",
       "    </tr>\n",
       "    <tr>\n",
       "      <th>28</th>\n",
       "      <td>LV124</td>\n",
       "      <td>0.036</td>\n",
       "      <td>0.101</td>\n",
       "      <td>0.150</td>\n",
       "    </tr>\n",
       "    <tr>\n",
       "      <th>382</th>\n",
       "      <td>LV443</td>\n",
       "      <td>0.040</td>\n",
       "      <td>0.101</td>\n",
       "      <td>0.134</td>\n",
       "    </tr>\n",
       "    <tr>\n",
       "      <th>471</th>\n",
       "      <td>LV523</td>\n",
       "      <td>0.033</td>\n",
       "      <td>0.102</td>\n",
       "      <td>0.171</td>\n",
       "    </tr>\n",
       "    <tr>\n",
       "      <th>142</th>\n",
       "      <td>LV227</td>\n",
       "      <td>0.043</td>\n",
       "      <td>0.103</td>\n",
       "      <td>0.144</td>\n",
       "    </tr>\n",
       "    <tr>\n",
       "      <th>557</th>\n",
       "      <td>LV600</td>\n",
       "      <td>0.034</td>\n",
       "      <td>0.104</td>\n",
       "      <td>0.181</td>\n",
       "    </tr>\n",
       "    <tr>\n",
       "      <th>961</th>\n",
       "      <td>LV965</td>\n",
       "      <td>0.039</td>\n",
       "      <td>0.104</td>\n",
       "      <td>0.155</td>\n",
       "    </tr>\n",
       "    <tr>\n",
       "      <th>99</th>\n",
       "      <td>LV189</td>\n",
       "      <td>0.031</td>\n",
       "      <td>0.105</td>\n",
       "      <td>0.163</td>\n",
       "    </tr>\n",
       "    <tr>\n",
       "      <th>167</th>\n",
       "      <td>LV25</td>\n",
       "      <td>0.043</td>\n",
       "      <td>0.106</td>\n",
       "      <td>0.162</td>\n",
       "    </tr>\n",
       "    <tr>\n",
       "      <th>542</th>\n",
       "      <td>LV588</td>\n",
       "      <td>0.018</td>\n",
       "      <td>0.108</td>\n",
       "      <td>0.175</td>\n",
       "    </tr>\n",
       "    <tr>\n",
       "      <th>265</th>\n",
       "      <td>LV338</td>\n",
       "      <td>0.046</td>\n",
       "      <td>0.112</td>\n",
       "      <td>0.163</td>\n",
       "    </tr>\n",
       "    <tr>\n",
       "      <th>779</th>\n",
       "      <td>LV800</td>\n",
       "      <td>0.048</td>\n",
       "      <td>0.116</td>\n",
       "      <td>0.181</td>\n",
       "    </tr>\n",
       "    <tr>\n",
       "      <th>743</th>\n",
       "      <td>LV769</td>\n",
       "      <td>0.038</td>\n",
       "      <td>0.120</td>\n",
       "      <td>0.198</td>\n",
       "    </tr>\n",
       "    <tr>\n",
       "      <th>13</th>\n",
       "      <td>LV110</td>\n",
       "      <td>0.077</td>\n",
       "      <td>0.127</td>\n",
       "      <td>0.178</td>\n",
       "    </tr>\n",
       "    <tr>\n",
       "      <th>830</th>\n",
       "      <td>LV847</td>\n",
       "      <td>0.091</td>\n",
       "      <td>0.143</td>\n",
       "      <td>0.191</td>\n",
       "    </tr>\n",
       "    <tr>\n",
       "      <th>150</th>\n",
       "      <td>LV234</td>\n",
       "      <td>0.086</td>\n",
       "      <td>0.154</td>\n",
       "      <td>0.209</td>\n",
       "    </tr>\n",
       "    <tr>\n",
       "      <th>389</th>\n",
       "      <td>LV45</td>\n",
       "      <td>0.104</td>\n",
       "      <td>0.158</td>\n",
       "      <td>0.219</td>\n",
       "    </tr>\n",
       "  </tbody>\n",
       "</table>\n",
       "</div>"
      ],
      "text/plain": [
       "        lv      1      5     10\n",
       "199  LV279  0.026  0.095  0.150\n",
       "631  LV668  0.032  0.096  0.166\n",
       "190  LV270  0.033  0.096  0.163\n",
       "213  LV291  0.042  0.098  0.141\n",
       "28   LV124  0.036  0.101  0.150\n",
       "382  LV443  0.040  0.101  0.134\n",
       "471  LV523  0.033  0.102  0.171\n",
       "142  LV227  0.043  0.103  0.144\n",
       "557  LV600  0.034  0.104  0.181\n",
       "961  LV965  0.039  0.104  0.155\n",
       "99   LV189  0.031  0.105  0.163\n",
       "167   LV25  0.043  0.106  0.162\n",
       "542  LV588  0.018  0.108  0.175\n",
       "265  LV338  0.046  0.112  0.163\n",
       "779  LV800  0.048  0.116  0.181\n",
       "743  LV769  0.038  0.120  0.198\n",
       "13   LV110  0.077  0.127  0.178\n",
       "830  LV847  0.091  0.143  0.191\n",
       "150  LV234  0.086  0.154  0.209\n",
       "389   LV45  0.104  0.158  0.219"
      ]
     },
     "metadata": {},
     "output_type": "display_data"
    }
   ],
   "source": [
    "lvs_high_error = summary_df[summary_df[\"5\"] > 0.06]\n",
    "display(lvs_high_error.shape)\n",
    "# display(lvs_high_error.sort_values(\"5\").head(20))\n",
    "display(lvs_high_error.sort_values(\"5\").tail(20))"
   ]
  },
  {
   "cell_type": "markdown",
   "id": "36837b6d-b33b-486b-a8ac-ddba2f1bdda6",
   "metadata": {},
   "source": [
    "Many LVs have a mean type I error greater than expected.\n",
    "\n",
    "LV45 has the largest mean type I error (0.158). Let's take a look at these LVs with poor mean type I errors."
   ]
  },
  {
   "cell_type": "markdown",
   "id": "30b3db3f-3b33-4bac-a3ea-d728e32d1e6a",
   "metadata": {},
   "source": [
    "# LVs with high mean type I error"
   ]
  },
  {
   "cell_type": "markdown",
   "id": "dbcaad33-5b8f-4f2d-a28e-edb1504724e9",
   "metadata": {},
   "source": [
    "## LV45"
   ]
  },
  {
   "cell_type": "code",
   "execution_count": 33,
   "id": "d0b7fd18-4d4b-4917-9768-0f19a7c698d7",
   "metadata": {},
   "outputs": [],
   "source": [
    "lv_code = \"LV45\""
   ]
  },
  {
   "cell_type": "code",
   "execution_count": 34,
   "id": "e1ff4bfa-280a-465a-ab83-1cc2bc42ff96",
   "metadata": {},
   "outputs": [],
   "source": [
    "results = dfs[dfs[\"lv\"] == lv_code]"
   ]
  },
  {
   "cell_type": "code",
   "execution_count": 35,
   "id": "d3038212-51a0-437c-80ec-cc6b919f1e7f",
   "metadata": {},
   "outputs": [
    {
     "data": {
      "text/plain": [
       "(1000, 4)"
      ]
     },
     "execution_count": 35,
     "metadata": {},
     "output_type": "execute_result"
    }
   ],
   "source": [
    "results.shape"
   ]
  },
  {
   "cell_type": "code",
   "execution_count": 36,
   "id": "2070d4d7-993a-443e-a164-b296c592fc7b",
   "metadata": {},
   "outputs": [
    {
     "data": {
      "text/html": [
       "<div>\n",
       "<style scoped>\n",
       "    .dataframe tbody tr th:only-of-type {\n",
       "        vertical-align: middle;\n",
       "    }\n",
       "\n",
       "    .dataframe tbody tr th {\n",
       "        vertical-align: top;\n",
       "    }\n",
       "\n",
       "    .dataframe thead th {\n",
       "        text-align: right;\n",
       "    }\n",
       "</style>\n",
       "<table border=\"1\" class=\"dataframe\">\n",
       "  <thead>\n",
       "    <tr style=\"text-align: right;\">\n",
       "      <th></th>\n",
       "      <th>lv</th>\n",
       "      <th>coef</th>\n",
       "      <th>pvalue</th>\n",
       "      <th>phenotype</th>\n",
       "    </tr>\n",
       "  </thead>\n",
       "  <tbody>\n",
       "    <tr>\n",
       "      <th>44</th>\n",
       "      <td>LV45</td>\n",
       "      <td>0.005419</td>\n",
       "      <td>0.331794</td>\n",
       "      <td>random.pheno988</td>\n",
       "    </tr>\n",
       "    <tr>\n",
       "      <th>1031</th>\n",
       "      <td>LV45</td>\n",
       "      <td>0.001082</td>\n",
       "      <td>0.465395</td>\n",
       "      <td>random.pheno589</td>\n",
       "    </tr>\n",
       "    <tr>\n",
       "      <th>2018</th>\n",
       "      <td>LV45</td>\n",
       "      <td>0.000133</td>\n",
       "      <td>0.495730</td>\n",
       "      <td>random.pheno385</td>\n",
       "    </tr>\n",
       "    <tr>\n",
       "      <th>3005</th>\n",
       "      <td>LV45</td>\n",
       "      <td>0.007096</td>\n",
       "      <td>0.284506</td>\n",
       "      <td>random.pheno5</td>\n",
       "    </tr>\n",
       "    <tr>\n",
       "      <th>3992</th>\n",
       "      <td>LV45</td>\n",
       "      <td>-0.009028</td>\n",
       "      <td>0.765655</td>\n",
       "      <td>random.pheno74</td>\n",
       "    </tr>\n",
       "  </tbody>\n",
       "</table>\n",
       "</div>"
      ],
      "text/plain": [
       "        lv      coef    pvalue        phenotype\n",
       "44    LV45  0.005419  0.331794  random.pheno988\n",
       "1031  LV45  0.001082  0.465395  random.pheno589\n",
       "2018  LV45  0.000133  0.495730  random.pheno385\n",
       "3005  LV45  0.007096  0.284506    random.pheno5\n",
       "3992  LV45 -0.009028  0.765655   random.pheno74"
      ]
     },
     "execution_count": 36,
     "metadata": {},
     "output_type": "execute_result"
    }
   ],
   "source": [
    "results.head()"
   ]
  },
  {
   "cell_type": "markdown",
   "id": "9b3dea75-6e92-4e12-87cd-0b15c86dce48",
   "metadata": {},
   "source": [
    "### Mean type I errors at different thresholds"
   ]
  },
  {
   "cell_type": "code",
   "execution_count": 37,
   "id": "b7717344-7de4-480e-9844-fe76c475987d",
   "metadata": {},
   "outputs": [
    {
     "data": {
      "text/plain": [
       "0.104"
      ]
     },
     "execution_count": 37,
     "metadata": {},
     "output_type": "execute_result"
    }
   ],
   "source": [
    "show_prop(results, 0.01)"
   ]
  },
  {
   "cell_type": "code",
   "execution_count": 38,
   "id": "b01b57ec-d4c4-4174-bef4-1aef9953c378",
   "metadata": {},
   "outputs": [
    {
     "data": {
      "text/plain": [
       "0.158"
      ]
     },
     "execution_count": 38,
     "metadata": {},
     "output_type": "execute_result"
    }
   ],
   "source": [
    "show_prop(results, 0.05)"
   ]
  },
  {
   "cell_type": "code",
   "execution_count": 39,
   "id": "37632ecd-3a8b-4385-bd62-409f76e04dfe",
   "metadata": {},
   "outputs": [
    {
     "data": {
      "text/plain": [
       "0.219"
      ]
     },
     "execution_count": 39,
     "metadata": {},
     "output_type": "execute_result"
    }
   ],
   "source": [
    "show_prop(results, 0.10)"
   ]
  },
  {
   "cell_type": "code",
   "execution_count": 40,
   "id": "252001e5-4415-47e9-be83-389a619de686",
   "metadata": {},
   "outputs": [
    {
     "data": {
      "text/plain": [
       "0.266"
      ]
     },
     "execution_count": 40,
     "metadata": {},
     "output_type": "execute_result"
    }
   ],
   "source": [
    "show_prop(results, 0.15)"
   ]
  },
  {
   "cell_type": "code",
   "execution_count": 41,
   "id": "e4668836-17bb-4253-8ef3-a637b26029f8",
   "metadata": {},
   "outputs": [
    {
     "data": {
      "text/plain": [
       "0.292"
      ]
     },
     "execution_count": 41,
     "metadata": {},
     "output_type": "execute_result"
    }
   ],
   "source": [
    "show_prop(results, 0.20)"
   ]
  },
  {
   "cell_type": "markdown",
   "id": "25966a90-ff90-4db2-a574-3f9433f49bbf",
   "metadata": {},
   "source": [
    "### QQplot"
   ]
  },
  {
   "cell_type": "code",
   "execution_count": 42,
   "id": "2d40d77b-0fb8-44a3-b203-6e245444cb68",
   "metadata": {},
   "outputs": [
    {
     "data": {
      "image/png": "[encoded data removed]",
      "text/plain": [
       "<Figure size 576x576 with 1 Axes>"
      ]
     },
     "metadata": {
      "needs_background": "light"
     },
     "output_type": "display_data"
    }
   ],
   "source": [
    "qqplot_unif(results)"
   ]
  },
  {
   "cell_type": "markdown",
   "id": "3248ea5f-0969-41d5-ac06-9bd79b168400",
   "metadata": {},
   "source": [
    "### Why mean type I errors are so high?"
   ]
  },
  {
   "cell_type": "code",
   "execution_count": 43,
   "id": "be244412-cf77-4b40-aacb-aab3b76327fd",
   "metadata": {},
   "outputs": [
    {
     "data": {
      "text/html": [
       "<div>\n",
       "<style scoped>\n",
       "    .dataframe tbody tr th:only-of-type {\n",
       "        vertical-align: middle;\n",
       "    }\n",
       "\n",
       "    .dataframe tbody tr th {\n",
       "        vertical-align: top;\n",
       "    }\n",
       "\n",
       "    .dataframe thead th {\n",
       "        text-align: right;\n",
       "    }\n",
       "</style>\n",
       "<table border=\"1\" class=\"dataframe\">\n",
       "  <thead>\n",
       "    <tr style=\"text-align: right;\">\n",
       "      <th></th>\n",
       "      <th>LV45</th>\n",
       "      <th>gene_band</th>\n",
       "    </tr>\n",
       "  </thead>\n",
       "  <tbody>\n",
       "    <tr>\n",
       "      <th>HIST1H2BO</th>\n",
       "      <td>8.480948</td>\n",
       "      <td>6p22.1</td>\n",
       "    </tr>\n",
       "    <tr>\n",
       "      <th>HIST1H2BF</th>\n",
       "      <td>8.426226</td>\n",
       "      <td>6p22.2</td>\n",
       "    </tr>\n",
       "    <tr>\n",
       "      <th>HIST1H2BK</th>\n",
       "      <td>8.245903</td>\n",
       "      <td>6p22.1</td>\n",
       "    </tr>\n",
       "    <tr>\n",
       "      <th>HIST1H2BD</th>\n",
       "      <td>8.119013</td>\n",
       "      <td>6p22.2</td>\n",
       "    </tr>\n",
       "    <tr>\n",
       "      <th>HIST1H2BC</th>\n",
       "      <td>7.744137</td>\n",
       "      <td>6p22.2</td>\n",
       "    </tr>\n",
       "    <tr>\n",
       "      <th>HIST1H2AC</th>\n",
       "      <td>7.447932</td>\n",
       "      <td>6p22.2</td>\n",
       "    </tr>\n",
       "    <tr>\n",
       "      <th>HIST2H2BF</th>\n",
       "      <td>6.700409</td>\n",
       "      <td>1q21.2</td>\n",
       "    </tr>\n",
       "    <tr>\n",
       "      <th>HIST1H2AG</th>\n",
       "      <td>6.405812</td>\n",
       "      <td>6p22.1</td>\n",
       "    </tr>\n",
       "    <tr>\n",
       "      <th>HIST1H2BN</th>\n",
       "      <td>5.913649</td>\n",
       "      <td>6p22.1</td>\n",
       "    </tr>\n",
       "    <tr>\n",
       "      <th>HIST1H2AE</th>\n",
       "      <td>5.898213</td>\n",
       "      <td>6p22.2</td>\n",
       "    </tr>\n",
       "    <tr>\n",
       "      <th>HIST1H2BE</th>\n",
       "      <td>3.489655</td>\n",
       "      <td>6p22.2</td>\n",
       "    </tr>\n",
       "    <tr>\n",
       "      <th>HIST1H2BH</th>\n",
       "      <td>2.522366</td>\n",
       "      <td>6p22.2</td>\n",
       "    </tr>\n",
       "    <tr>\n",
       "      <th>HIST1H2BJ</th>\n",
       "      <td>2.467813</td>\n",
       "      <td>6p22.1</td>\n",
       "    </tr>\n",
       "    <tr>\n",
       "      <th>HIST1H2AD</th>\n",
       "      <td>2.403343</td>\n",
       "      <td>6p22.2</td>\n",
       "    </tr>\n",
       "    <tr>\n",
       "      <th>H2AFX</th>\n",
       "      <td>1.594301</td>\n",
       "      <td>11q23.3</td>\n",
       "    </tr>\n",
       "    <tr>\n",
       "      <th>HIST1H2BG</th>\n",
       "      <td>1.525977</td>\n",
       "      <td>6p22.2</td>\n",
       "    </tr>\n",
       "    <tr>\n",
       "      <th>HIST3H2BB</th>\n",
       "      <td>1.436435</td>\n",
       "      <td>1q42.13</td>\n",
       "    </tr>\n",
       "    <tr>\n",
       "      <th>HIST3H2A</th>\n",
       "      <td>1.268004</td>\n",
       "      <td>1q42.13</td>\n",
       "    </tr>\n",
       "    <tr>\n",
       "      <th>H2AFZ</th>\n",
       "      <td>1.221418</td>\n",
       "      <td>4q23</td>\n",
       "    </tr>\n",
       "    <tr>\n",
       "      <th>HIST1H4D</th>\n",
       "      <td>1.056777</td>\n",
       "      <td>6p22.2</td>\n",
       "    </tr>\n",
       "    <tr>\n",
       "      <th>HIST1H4I</th>\n",
       "      <td>0.865090</td>\n",
       "      <td>6p22.1</td>\n",
       "    </tr>\n",
       "    <tr>\n",
       "      <th>H3F3B</th>\n",
       "      <td>0.547770</td>\n",
       "      <td>17q25.1</td>\n",
       "    </tr>\n",
       "    <tr>\n",
       "      <th>H3F3A</th>\n",
       "      <td>0.540939</td>\n",
       "      <td>1q42.12</td>\n",
       "    </tr>\n",
       "    <tr>\n",
       "      <th>HIST1H3E</th>\n",
       "      <td>0.498899</td>\n",
       "      <td>6p22.2</td>\n",
       "    </tr>\n",
       "    <tr>\n",
       "      <th>ACTN4</th>\n",
       "      <td>0.406961</td>\n",
       "      <td>19q13.2</td>\n",
       "    </tr>\n",
       "  </tbody>\n",
       "</table>\n",
       "</div>"
      ],
      "text/plain": [
       "               LV45 gene_band\n",
       "HIST1H2BO  8.480948    6p22.1\n",
       "HIST1H2BF  8.426226    6p22.2\n",
       "HIST1H2BK  8.245903    6p22.1\n",
       "HIST1H2BD  8.119013    6p22.2\n",
       "HIST1H2BC  7.744137    6p22.2\n",
       "HIST1H2AC  7.447932    6p22.2\n",
       "HIST2H2BF  6.700409    1q21.2\n",
       "HIST1H2AG  6.405812    6p22.1\n",
       "HIST1H2BN  5.913649    6p22.1\n",
       "HIST1H2AE  5.898213    6p22.2\n",
       "HIST1H2BE  3.489655    6p22.2\n",
       "HIST1H2BH  2.522366    6p22.2\n",
       "HIST1H2BJ  2.467813    6p22.1\n",
       "HIST1H2AD  2.403343    6p22.2\n",
       "H2AFX      1.594301   11q23.3\n",
       "HIST1H2BG  1.525977    6p22.2\n",
       "HIST3H2BB  1.436435   1q42.13\n",
       "HIST3H2A   1.268004   1q42.13\n",
       "H2AFZ      1.221418      4q23\n",
       "HIST1H4D   1.056777    6p22.2\n",
       "HIST1H4I   0.865090    6p22.1\n",
       "H3F3B      0.547770   17q25.1\n",
       "H3F3A      0.540939   1q42.12\n",
       "HIST1H3E   0.498899    6p22.2\n",
       "ACTN4      0.406961   19q13.2"
      ]
     },
     "metadata": {},
     "output_type": "display_data"
    }
   ],
   "source": [
    "lv_genes = get_lv_genes(lv_code)\n",
    "display(lv_genes.head(25))"
   ]
  },
  {
   "cell_type": "code",
   "execution_count": 44,
   "id": "07e7c50f-6df2-4e32-8944-18be1132be86",
   "metadata": {},
   "outputs": [
    {
     "data": {
      "text/plain": [
       "6p22.2     11\n",
       "6p22.1      6\n",
       "1q42.13     2\n",
       "1q21.2      1\n",
       "11q23.3     1\n",
       "1q42.12     1\n",
       "17q25.1     1\n",
       "4q23        1\n",
       "19q13.2     1\n",
       "17q24.1     0\n",
       "Name: gene_band, dtype: int64"
      ]
     },
     "execution_count": 44,
     "metadata": {},
     "output_type": "execute_result"
    }
   ],
   "source": [
    "lv_genes.head(25)[\"gene_band\"].value_counts().head(10)"
   ]
  },
  {
   "cell_type": "markdown",
   "id": "be4bc7e7-8bd9-4cee-9c80-952d73a0f18a",
   "metadata": {},
   "source": [
    "Top genes in this LV are all from the same band, very likely causing high type I errors."
   ]
  },
  {
   "cell_type": "markdown",
   "id": "af51db69-b36d-429a-a59c-cd5bfc4cd38c",
   "metadata": {},
   "source": [
    "## LV234"
   ]
  },
  {
   "cell_type": "code",
   "execution_count": 45,
   "id": "861e6a8c-b891-4eb2-8878-f5505937f6aa",
   "metadata": {},
   "outputs": [],
   "source": [
    "lv_code = \"LV234\""
   ]
  },
  {
   "cell_type": "code",
   "execution_count": 46,
   "id": "ce659542-b79b-409e-9f02-5b9089510870",
   "metadata": {},
   "outputs": [],
   "source": [
    "results = dfs[dfs[\"lv\"] == lv_code]"
   ]
  },
  {
   "cell_type": "code",
   "execution_count": 47,
   "id": "e149155d-a169-4b37-ab1d-aa2c5ff00f38",
   "metadata": {},
   "outputs": [
    {
     "data": {
      "text/plain": [
       "(1000, 4)"
      ]
     },
     "execution_count": 47,
     "metadata": {},
     "output_type": "execute_result"
    }
   ],
   "source": [
    "results.shape"
   ]
  },
  {
   "cell_type": "code",
   "execution_count": 48,
   "id": "9b7db3d4-d922-4dbb-9a06-15a5432fb67b",
   "metadata": {},
   "outputs": [
    {
     "data": {
      "text/html": [
       "<div>\n",
       "<style scoped>\n",
       "    .dataframe tbody tr th:only-of-type {\n",
       "        vertical-align: middle;\n",
       "    }\n",
       "\n",
       "    .dataframe tbody tr th {\n",
       "        vertical-align: top;\n",
       "    }\n",
       "\n",
       "    .dataframe thead th {\n",
       "        text-align: right;\n",
       "    }\n",
       "</style>\n",
       "<table border=\"1\" class=\"dataframe\">\n",
       "  <thead>\n",
       "    <tr style=\"text-align: right;\">\n",
       "      <th></th>\n",
       "      <th>lv</th>\n",
       "      <th>coef</th>\n",
       "      <th>pvalue</th>\n",
       "      <th>phenotype</th>\n",
       "    </tr>\n",
       "  </thead>\n",
       "  <tbody>\n",
       "    <tr>\n",
       "      <th>233</th>\n",
       "      <td>LV234</td>\n",
       "      <td>0.004362</td>\n",
       "      <td>0.363127</td>\n",
       "      <td>random.pheno988</td>\n",
       "    </tr>\n",
       "    <tr>\n",
       "      <th>1220</th>\n",
       "      <td>LV234</td>\n",
       "      <td>-0.001422</td>\n",
       "      <td>0.545441</td>\n",
       "      <td>random.pheno589</td>\n",
       "    </tr>\n",
       "    <tr>\n",
       "      <th>2207</th>\n",
       "      <td>LV234</td>\n",
       "      <td>0.002184</td>\n",
       "      <td>0.430429</td>\n",
       "      <td>random.pheno385</td>\n",
       "    </tr>\n",
       "    <tr>\n",
       "      <th>3194</th>\n",
       "      <td>LV234</td>\n",
       "      <td>0.012870</td>\n",
       "      <td>0.150810</td>\n",
       "      <td>random.pheno5</td>\n",
       "    </tr>\n",
       "    <tr>\n",
       "      <th>4181</th>\n",
       "      <td>LV234</td>\n",
       "      <td>0.011771</td>\n",
       "      <td>0.172394</td>\n",
       "      <td>random.pheno74</td>\n",
       "    </tr>\n",
       "  </tbody>\n",
       "</table>\n",
       "</div>"
      ],
      "text/plain": [
       "         lv      coef    pvalue        phenotype\n",
       "233   LV234  0.004362  0.363127  random.pheno988\n",
       "1220  LV234 -0.001422  0.545441  random.pheno589\n",
       "2207  LV234  0.002184  0.430429  random.pheno385\n",
       "3194  LV234  0.012870  0.150810    random.pheno5\n",
       "4181  LV234  0.011771  0.172394   random.pheno74"
      ]
     },
     "execution_count": 48,
     "metadata": {},
     "output_type": "execute_result"
    }
   ],
   "source": [
    "results.head()"
   ]
  },
  {
   "cell_type": "markdown",
   "id": "643200c0-4e13-473a-951e-67aac166c85c",
   "metadata": {},
   "source": [
    "### Mean type I errors at different thresholds"
   ]
  },
  {
   "cell_type": "code",
   "execution_count": 49,
   "id": "98615fff-336f-44e3-8de5-a82ec0b7a377",
   "metadata": {},
   "outputs": [
    {
     "data": {
      "text/plain": [
       "0.086"
      ]
     },
     "execution_count": 49,
     "metadata": {},
     "output_type": "execute_result"
    }
   ],
   "source": [
    "show_prop(results, 0.01)"
   ]
  },
  {
   "cell_type": "code",
   "execution_count": 50,
   "id": "bb28e493-8151-4aad-a7a1-f0728b24373d",
   "metadata": {},
   "outputs": [
    {
     "data": {
      "text/plain": [
       "0.154"
      ]
     },
     "execution_count": 50,
     "metadata": {},
     "output_type": "execute_result"
    }
   ],
   "source": [
    "show_prop(results, 0.05)"
   ]
  },
  {
   "cell_type": "code",
   "execution_count": 51,
   "id": "91515a72-d558-4f90-839d-0439b7bc8c51",
   "metadata": {},
   "outputs": [
    {
     "data": {
      "text/plain": [
       "0.209"
      ]
     },
     "execution_count": 51,
     "metadata": {},
     "output_type": "execute_result"
    }
   ],
   "source": [
    "show_prop(results, 0.10)"
   ]
  },
  {
   "cell_type": "code",
   "execution_count": 52,
   "id": "049459fd-5782-41ed-9fe7-36d30c016adc",
   "metadata": {},
   "outputs": [
    {
     "data": {
      "text/plain": [
       "0.241"
      ]
     },
     "execution_count": 52,
     "metadata": {},
     "output_type": "execute_result"
    }
   ],
   "source": [
    "show_prop(results, 0.15)"
   ]
  },
  {
   "cell_type": "code",
   "execution_count": 53,
   "id": "d0569d7e-91f1-43f8-82b7-54b927199724",
   "metadata": {},
   "outputs": [
    {
     "data": {
      "text/plain": [
       "0.285"
      ]
     },
     "execution_count": 53,
     "metadata": {},
     "output_type": "execute_result"
    }
   ],
   "source": [
    "show_prop(results, 0.20)"
   ]
  },
  {
   "cell_type": "markdown",
   "id": "0edff314-f8ed-4725-a384-5e1f24a7dea2",
   "metadata": {},
   "source": [
    "### QQplot"
   ]
  },
  {
   "cell_type": "code",
   "execution_count": 54,
   "id": "0bfbf172-fc72-4c72-819b-e873c8121e4c",
   "metadata": {},
   "outputs": [
    {
     "data": {
      "image/png": "[encoded data removed]",
      "text/plain": [
       "<Figure size 576x576 with 1 Axes>"
      ]
     },
     "metadata": {
      "needs_background": "light"
     },
     "output_type": "display_data"
    }
   ],
   "source": [
    "qqplot_unif(results)"
   ]
  },
  {
   "cell_type": "markdown",
   "id": "969df629-6ab8-4f85-95e8-b844cb50f056",
   "metadata": {},
   "source": [
    "### Why mean type I errors are so high?"
   ]
  },
  {
   "cell_type": "code",
   "execution_count": 55,
   "id": "8828ed08-3adc-41a6-a3a6-a101dd22372b",
   "metadata": {},
   "outputs": [
    {
     "data": {
      "text/html": [
       "<div>\n",
       "<style scoped>\n",
       "    .dataframe tbody tr th:only-of-type {\n",
       "        vertical-align: middle;\n",
       "    }\n",
       "\n",
       "    .dataframe tbody tr th {\n",
       "        vertical-align: top;\n",
       "    }\n",
       "\n",
       "    .dataframe thead th {\n",
       "        text-align: right;\n",
       "    }\n",
       "</style>\n",
       "<table border=\"1\" class=\"dataframe\">\n",
       "  <thead>\n",
       "    <tr style=\"text-align: right;\">\n",
       "      <th></th>\n",
       "      <th>LV234</th>\n",
       "      <th>gene_band</th>\n",
       "    </tr>\n",
       "  </thead>\n",
       "  <tbody>\n",
       "    <tr>\n",
       "      <th>HIST1H4E</th>\n",
       "      <td>7.379845</td>\n",
       "      <td>6p22.2</td>\n",
       "    </tr>\n",
       "    <tr>\n",
       "      <th>HIST1H3B</th>\n",
       "      <td>7.293635</td>\n",
       "      <td>6p22.2</td>\n",
       "    </tr>\n",
       "    <tr>\n",
       "      <th>HIST4H4</th>\n",
       "      <td>6.929394</td>\n",
       "      <td>12p12.3</td>\n",
       "    </tr>\n",
       "    <tr>\n",
       "      <th>HIST1H3H</th>\n",
       "      <td>6.863106</td>\n",
       "      <td>6p22.1</td>\n",
       "    </tr>\n",
       "    <tr>\n",
       "      <th>HIST1H3D</th>\n",
       "      <td>4.568047</td>\n",
       "      <td>6p22.2</td>\n",
       "    </tr>\n",
       "    <tr>\n",
       "      <th>HIST1H2BC</th>\n",
       "      <td>4.078396</td>\n",
       "      <td>6p22.2</td>\n",
       "    </tr>\n",
       "    <tr>\n",
       "      <th>HIST1H2AE</th>\n",
       "      <td>4.009782</td>\n",
       "      <td>6p22.2</td>\n",
       "    </tr>\n",
       "    <tr>\n",
       "      <th>HIST1H2BF</th>\n",
       "      <td>3.963254</td>\n",
       "      <td>6p22.2</td>\n",
       "    </tr>\n",
       "    <tr>\n",
       "      <th>HIST1H2BD</th>\n",
       "      <td>3.862981</td>\n",
       "      <td>6p22.2</td>\n",
       "    </tr>\n",
       "    <tr>\n",
       "      <th>HIST1H2BK</th>\n",
       "      <td>3.662444</td>\n",
       "      <td>6p22.1</td>\n",
       "    </tr>\n",
       "    <tr>\n",
       "      <th>HIST1H2BO</th>\n",
       "      <td>3.292643</td>\n",
       "      <td>6p22.1</td>\n",
       "    </tr>\n",
       "    <tr>\n",
       "      <th>HIST1H2BH</th>\n",
       "      <td>2.581818</td>\n",
       "      <td>6p22.2</td>\n",
       "    </tr>\n",
       "    <tr>\n",
       "      <th>HIST1H2AC</th>\n",
       "      <td>2.280831</td>\n",
       "      <td>6p22.2</td>\n",
       "    </tr>\n",
       "    <tr>\n",
       "      <th>HIST1H4I</th>\n",
       "      <td>2.063182</td>\n",
       "      <td>6p22.1</td>\n",
       "    </tr>\n",
       "    <tr>\n",
       "      <th>HIST1H2BE</th>\n",
       "      <td>1.912717</td>\n",
       "      <td>6p22.2</td>\n",
       "    </tr>\n",
       "    <tr>\n",
       "      <th>UBTF</th>\n",
       "      <td>1.748020</td>\n",
       "      <td>17q21.31</td>\n",
       "    </tr>\n",
       "    <tr>\n",
       "      <th>HIST1H4D</th>\n",
       "      <td>1.660015</td>\n",
       "      <td>6p22.2</td>\n",
       "    </tr>\n",
       "    <tr>\n",
       "      <th>MAPK3</th>\n",
       "      <td>1.655242</td>\n",
       "      <td>16p11.2</td>\n",
       "    </tr>\n",
       "    <tr>\n",
       "      <th>HIST1H3E</th>\n",
       "      <td>1.586624</td>\n",
       "      <td>6p22.2</td>\n",
       "    </tr>\n",
       "    <tr>\n",
       "      <th>H3F3A</th>\n",
       "      <td>1.558007</td>\n",
       "      <td>1q42.12</td>\n",
       "    </tr>\n",
       "    <tr>\n",
       "      <th>HIST1H2BJ</th>\n",
       "      <td>1.455017</td>\n",
       "      <td>6p22.1</td>\n",
       "    </tr>\n",
       "    <tr>\n",
       "      <th>HIST3H2BB</th>\n",
       "      <td>1.434026</td>\n",
       "      <td>1q42.13</td>\n",
       "    </tr>\n",
       "    <tr>\n",
       "      <th>H3F3B</th>\n",
       "      <td>1.431049</td>\n",
       "      <td>17q25.1</td>\n",
       "    </tr>\n",
       "    <tr>\n",
       "      <th>H2AFX</th>\n",
       "      <td>1.393936</td>\n",
       "      <td>11q23.3</td>\n",
       "    </tr>\n",
       "    <tr>\n",
       "      <th>H2AFZ</th>\n",
       "      <td>1.373988</td>\n",
       "      <td>4q23</td>\n",
       "    </tr>\n",
       "  </tbody>\n",
       "</table>\n",
       "</div>"
      ],
      "text/plain": [
       "              LV234 gene_band\n",
       "HIST1H4E   7.379845    6p22.2\n",
       "HIST1H3B   7.293635    6p22.2\n",
       "HIST4H4    6.929394   12p12.3\n",
       "HIST1H3H   6.863106    6p22.1\n",
       "HIST1H3D   4.568047    6p22.2\n",
       "HIST1H2BC  4.078396    6p22.2\n",
       "HIST1H2AE  4.009782    6p22.2\n",
       "HIST1H2BF  3.963254    6p22.2\n",
       "HIST1H2BD  3.862981    6p22.2\n",
       "HIST1H2BK  3.662444    6p22.1\n",
       "HIST1H2BO  3.292643    6p22.1\n",
       "HIST1H2BH  2.581818    6p22.2\n",
       "HIST1H2AC  2.280831    6p22.2\n",
       "HIST1H4I   2.063182    6p22.1\n",
       "HIST1H2BE  1.912717    6p22.2\n",
       "UBTF       1.748020  17q21.31\n",
       "HIST1H4D   1.660015    6p22.2\n",
       "MAPK3      1.655242   16p11.2\n",
       "HIST1H3E   1.586624    6p22.2\n",
       "H3F3A      1.558007   1q42.12\n",
       "HIST1H2BJ  1.455017    6p22.1\n",
       "HIST3H2BB  1.434026   1q42.13\n",
       "H3F3B      1.431049   17q25.1\n",
       "H2AFX      1.393936   11q23.3\n",
       "H2AFZ      1.373988      4q23"
      ]
     },
     "metadata": {},
     "output_type": "display_data"
    }
   ],
   "source": [
    "lv_genes = get_lv_genes(lv_code)\n",
    "display(lv_genes.head(25))"
   ]
  },
  {
   "cell_type": "code",
   "execution_count": 56,
   "id": "166fb6c4-cbe3-4dfd-aa85-026b64df41f5",
   "metadata": {},
   "outputs": [
    {
     "data": {
      "text/plain": [
       "6p22.2      12\n",
       "6p22.1       5\n",
       "12p12.3      1\n",
       "17q21.31     1\n",
       "17q25.1      1\n",
       "1q42.12      1\n",
       "1q42.13      1\n",
       "11q23.3      1\n",
       "4q23         1\n",
       "16p11.2      1\n",
       "Name: gene_band, dtype: int64"
      ]
     },
     "execution_count": 56,
     "metadata": {},
     "output_type": "execute_result"
    }
   ],
   "source": [
    "lv_genes.head(25)[\"gene_band\"].value_counts().head(10)"
   ]
  },
  {
   "cell_type": "markdown",
   "id": "b1d3ec08-af9b-4665-951b-ea8c3ab50d44",
   "metadata": {},
   "source": [
    "Same as LV45"
   ]
  },
  {
   "cell_type": "markdown",
   "id": "ba96144f-f46e-4369-8c5d-fff2a34d3309",
   "metadata": {},
   "source": [
    "## LV847"
   ]
  },
  {
   "cell_type": "code",
   "execution_count": 57,
   "id": "eb51399e-47de-44c5-84f5-70f0ca709204",
   "metadata": {},
   "outputs": [],
   "source": [
    "lv_code = \"LV847\""
   ]
  },
  {
   "cell_type": "code",
   "execution_count": 58,
   "id": "282b7e09-41c8-49a5-8b2c-a650ea4eaceb",
   "metadata": {},
   "outputs": [],
   "source": [
    "results = dfs[dfs[\"lv\"] == lv_code]"
   ]
  },
  {
   "cell_type": "code",
   "execution_count": 59,
   "id": "8f39bc48-43c1-47e3-956d-4abff3f72ce2",
   "metadata": {},
   "outputs": [
    {
     "data": {
      "text/plain": [
       "(1000, 4)"
      ]
     },
     "execution_count": 59,
     "metadata": {},
     "output_type": "execute_result"
    }
   ],
   "source": [
    "results.shape"
   ]
  },
  {
   "cell_type": "code",
   "execution_count": 60,
   "id": "36e55730-d3d4-47d2-9b7f-a88b19f4dee1",
   "metadata": {},
   "outputs": [
    {
     "data": {
      "text/html": [
       "<div>\n",
       "<style scoped>\n",
       "    .dataframe tbody tr th:only-of-type {\n",
       "        vertical-align: middle;\n",
       "    }\n",
       "\n",
       "    .dataframe tbody tr th {\n",
       "        vertical-align: top;\n",
       "    }\n",
       "\n",
       "    .dataframe thead th {\n",
       "        text-align: right;\n",
       "    }\n",
       "</style>\n",
       "<table border=\"1\" class=\"dataframe\">\n",
       "  <thead>\n",
       "    <tr style=\"text-align: right;\">\n",
       "      <th></th>\n",
       "      <th>lv</th>\n",
       "      <th>coef</th>\n",
       "      <th>pvalue</th>\n",
       "      <th>phenotype</th>\n",
       "    </tr>\n",
       "  </thead>\n",
       "  <tbody>\n",
       "    <tr>\n",
       "      <th>846</th>\n",
       "      <td>LV847</td>\n",
       "      <td>-0.004228</td>\n",
       "      <td>0.632824</td>\n",
       "      <td>random.pheno988</td>\n",
       "    </tr>\n",
       "    <tr>\n",
       "      <th>1833</th>\n",
       "      <td>LV847</td>\n",
       "      <td>0.001357</td>\n",
       "      <td>0.456628</td>\n",
       "      <td>random.pheno589</td>\n",
       "    </tr>\n",
       "    <tr>\n",
       "      <th>2820</th>\n",
       "      <td>LV847</td>\n",
       "      <td>-0.003279</td>\n",
       "      <td>0.603777</td>\n",
       "      <td>random.pheno385</td>\n",
       "    </tr>\n",
       "    <tr>\n",
       "      <th>3807</th>\n",
       "      <td>LV847</td>\n",
       "      <td>0.008201</td>\n",
       "      <td>0.255203</td>\n",
       "      <td>random.pheno5</td>\n",
       "    </tr>\n",
       "    <tr>\n",
       "      <th>4794</th>\n",
       "      <td>LV847</td>\n",
       "      <td>0.014658</td>\n",
       "      <td>0.119692</td>\n",
       "      <td>random.pheno74</td>\n",
       "    </tr>\n",
       "  </tbody>\n",
       "</table>\n",
       "</div>"
      ],
      "text/plain": [
       "         lv      coef    pvalue        phenotype\n",
       "846   LV847 -0.004228  0.632824  random.pheno988\n",
       "1833  LV847  0.001357  0.456628  random.pheno589\n",
       "2820  LV847 -0.003279  0.603777  random.pheno385\n",
       "3807  LV847  0.008201  0.255203    random.pheno5\n",
       "4794  LV847  0.014658  0.119692   random.pheno74"
      ]
     },
     "execution_count": 60,
     "metadata": {},
     "output_type": "execute_result"
    }
   ],
   "source": [
    "results.head()"
   ]
  },
  {
   "cell_type": "markdown",
   "id": "41697306-11db-4362-a601-69627f53ce6d",
   "metadata": {},
   "source": [
    "### Mean type I errors at different thresholds"
   ]
  },
  {
   "cell_type": "code",
   "execution_count": 61,
   "id": "566a4147-98dd-4dc7-a50b-8d9ae9f0f2dc",
   "metadata": {},
   "outputs": [
    {
     "data": {
      "text/plain": [
       "0.091"
      ]
     },
     "execution_count": 61,
     "metadata": {},
     "output_type": "execute_result"
    }
   ],
   "source": [
    "show_prop(results, 0.01)"
   ]
  },
  {
   "cell_type": "code",
   "execution_count": 62,
   "id": "9a26401d-5d9f-4a5b-9404-a995acf31fa9",
   "metadata": {},
   "outputs": [
    {
     "data": {
      "text/plain": [
       "0.143"
      ]
     },
     "execution_count": 62,
     "metadata": {},
     "output_type": "execute_result"
    }
   ],
   "source": [
    "show_prop(results, 0.05)"
   ]
  },
  {
   "cell_type": "code",
   "execution_count": 63,
   "id": "22b0b9fd-7b84-4e9c-abaf-ccdb93413165",
   "metadata": {},
   "outputs": [
    {
     "data": {
      "text/plain": [
       "0.191"
      ]
     },
     "execution_count": 63,
     "metadata": {},
     "output_type": "execute_result"
    }
   ],
   "source": [
    "show_prop(results, 0.10)"
   ]
  },
  {
   "cell_type": "code",
   "execution_count": 64,
   "id": "4e1299c0-a344-4d3b-9e85-0f8641bd5f05",
   "metadata": {},
   "outputs": [
    {
     "data": {
      "text/plain": [
       "0.225"
      ]
     },
     "execution_count": 64,
     "metadata": {},
     "output_type": "execute_result"
    }
   ],
   "source": [
    "show_prop(results, 0.15)"
   ]
  },
  {
   "cell_type": "code",
   "execution_count": 65,
   "id": "6e6a7323-cf20-469a-9b68-3e022545bb1e",
   "metadata": {},
   "outputs": [
    {
     "data": {
      "text/plain": [
       "0.264"
      ]
     },
     "execution_count": 65,
     "metadata": {},
     "output_type": "execute_result"
    }
   ],
   "source": [
    "show_prop(results, 0.20)"
   ]
  },
  {
   "cell_type": "markdown",
   "id": "d96bda1d-0bb0-4d45-a33b-0cdeda3701ae",
   "metadata": {},
   "source": [
    "### QQplot"
   ]
  },
  {
   "cell_type": "code",
   "execution_count": 66,
   "id": "d1cddd29-573d-48ab-bb14-1309a613083e",
   "metadata": {},
   "outputs": [
    {
     "data": {
      "image/png": "[encoded data removed]",
      "text/plain": [
       "<Figure size 576x576 with 1 Axes>"
      ]
     },
     "metadata": {
      "needs_background": "light"
     },
     "output_type": "display_data"
    }
   ],
   "source": [
    "qqplot_unif(results)"
   ]
  },
  {
   "cell_type": "markdown",
   "id": "aafcd980-e7d6-473f-b07e-eb46b8bfba1e",
   "metadata": {},
   "source": [
    "### Why mean type I errors are so high?"
   ]
  },
  {
   "cell_type": "code",
   "execution_count": 67,
   "id": "b0ab26b0-e844-42a5-81fd-f1db4d7d8b85",
   "metadata": {},
   "outputs": [
    {
     "data": {
      "text/html": [
       "<div>\n",
       "<style scoped>\n",
       "    .dataframe tbody tr th:only-of-type {\n",
       "        vertical-align: middle;\n",
       "    }\n",
       "\n",
       "    .dataframe tbody tr th {\n",
       "        vertical-align: top;\n",
       "    }\n",
       "\n",
       "    .dataframe thead th {\n",
       "        text-align: right;\n",
       "    }\n",
       "</style>\n",
       "<table border=\"1\" class=\"dataframe\">\n",
       "  <thead>\n",
       "    <tr style=\"text-align: right;\">\n",
       "      <th></th>\n",
       "      <th>LV847</th>\n",
       "      <th>gene_band</th>\n",
       "    </tr>\n",
       "  </thead>\n",
       "  <tbody>\n",
       "    <tr>\n",
       "      <th>HIST1H3D</th>\n",
       "      <td>6.805370</td>\n",
       "      <td>6p22.2</td>\n",
       "    </tr>\n",
       "    <tr>\n",
       "      <th>HIST1H3H</th>\n",
       "      <td>6.276783</td>\n",
       "      <td>6p22.1</td>\n",
       "    </tr>\n",
       "    <tr>\n",
       "      <th>HIST1H3B</th>\n",
       "      <td>6.099625</td>\n",
       "      <td>6p22.2</td>\n",
       "    </tr>\n",
       "    <tr>\n",
       "      <th>HIST1H4E</th>\n",
       "      <td>5.971181</td>\n",
       "      <td>6p22.2</td>\n",
       "    </tr>\n",
       "    <tr>\n",
       "      <th>HIST4H4</th>\n",
       "      <td>5.431832</td>\n",
       "      <td>12p12.3</td>\n",
       "    </tr>\n",
       "    <tr>\n",
       "      <th>HIST1H2BH</th>\n",
       "      <td>5.150647</td>\n",
       "      <td>6p22.2</td>\n",
       "    </tr>\n",
       "    <tr>\n",
       "      <th>HIST1H2AE</th>\n",
       "      <td>4.324334</td>\n",
       "      <td>6p22.2</td>\n",
       "    </tr>\n",
       "    <tr>\n",
       "      <th>HIST1H2BN</th>\n",
       "      <td>4.269944</td>\n",
       "      <td>6p22.1</td>\n",
       "    </tr>\n",
       "    <tr>\n",
       "      <th>HIST1H2BE</th>\n",
       "      <td>4.258760</td>\n",
       "      <td>6p22.2</td>\n",
       "    </tr>\n",
       "    <tr>\n",
       "      <th>HIST1H2AC</th>\n",
       "      <td>4.046811</td>\n",
       "      <td>6p22.2</td>\n",
       "    </tr>\n",
       "    <tr>\n",
       "      <th>HIST1H2BJ</th>\n",
       "      <td>3.487055</td>\n",
       "      <td>6p22.1</td>\n",
       "    </tr>\n",
       "    <tr>\n",
       "      <th>HIST1H2AD</th>\n",
       "      <td>2.924400</td>\n",
       "      <td>6p22.2</td>\n",
       "    </tr>\n",
       "    <tr>\n",
       "      <th>HIST1H2BG</th>\n",
       "      <td>2.792196</td>\n",
       "      <td>6p22.2</td>\n",
       "    </tr>\n",
       "    <tr>\n",
       "      <th>HIST1H2AG</th>\n",
       "      <td>2.789826</td>\n",
       "      <td>6p22.1</td>\n",
       "    </tr>\n",
       "    <tr>\n",
       "      <th>HIST1H4H</th>\n",
       "      <td>2.607986</td>\n",
       "      <td>6p22.2</td>\n",
       "    </tr>\n",
       "    <tr>\n",
       "      <th>HIST1H4D</th>\n",
       "      <td>2.574208</td>\n",
       "      <td>6p22.2</td>\n",
       "    </tr>\n",
       "    <tr>\n",
       "      <th>HIST1H3E</th>\n",
       "      <td>1.863616</td>\n",
       "      <td>6p22.2</td>\n",
       "    </tr>\n",
       "    <tr>\n",
       "      <th>HIST1H1E</th>\n",
       "      <td>1.478541</td>\n",
       "      <td>6p22.2</td>\n",
       "    </tr>\n",
       "    <tr>\n",
       "      <th>HIST3H2BB</th>\n",
       "      <td>1.445837</td>\n",
       "      <td>1q42.13</td>\n",
       "    </tr>\n",
       "    <tr>\n",
       "      <th>HIST1H1C</th>\n",
       "      <td>1.430494</td>\n",
       "      <td>6p22.2</td>\n",
       "    </tr>\n",
       "    <tr>\n",
       "      <th>HIST1H4I</th>\n",
       "      <td>1.415225</td>\n",
       "      <td>6p22.1</td>\n",
       "    </tr>\n",
       "    <tr>\n",
       "      <th>HIST3H2A</th>\n",
       "      <td>1.410849</td>\n",
       "      <td>1q42.13</td>\n",
       "    </tr>\n",
       "    <tr>\n",
       "      <th>HIST1H1D</th>\n",
       "      <td>1.204667</td>\n",
       "      <td>6p22.2</td>\n",
       "    </tr>\n",
       "    <tr>\n",
       "      <th>H3F3B</th>\n",
       "      <td>1.137358</td>\n",
       "      <td>17q25.1</td>\n",
       "    </tr>\n",
       "    <tr>\n",
       "      <th>H2AFX</th>\n",
       "      <td>1.117481</td>\n",
       "      <td>11q23.3</td>\n",
       "    </tr>\n",
       "  </tbody>\n",
       "</table>\n",
       "</div>"
      ],
      "text/plain": [
       "              LV847 gene_band\n",
       "HIST1H3D   6.805370    6p22.2\n",
       "HIST1H3H   6.276783    6p22.1\n",
       "HIST1H3B   6.099625    6p22.2\n",
       "HIST1H4E   5.971181    6p22.2\n",
       "HIST4H4    5.431832   12p12.3\n",
       "HIST1H2BH  5.150647    6p22.2\n",
       "HIST1H2AE  4.324334    6p22.2\n",
       "HIST1H2BN  4.269944    6p22.1\n",
       "HIST1H2BE  4.258760    6p22.2\n",
       "HIST1H2AC  4.046811    6p22.2\n",
       "HIST1H2BJ  3.487055    6p22.1\n",
       "HIST1H2AD  2.924400    6p22.2\n",
       "HIST1H2BG  2.792196    6p22.2\n",
       "HIST1H2AG  2.789826    6p22.1\n",
       "HIST1H4H   2.607986    6p22.2\n",
       "HIST1H4D   2.574208    6p22.2\n",
       "HIST1H3E   1.863616    6p22.2\n",
       "HIST1H1E   1.478541    6p22.2\n",
       "HIST3H2BB  1.445837   1q42.13\n",
       "HIST1H1C   1.430494    6p22.2\n",
       "HIST1H4I   1.415225    6p22.1\n",
       "HIST3H2A   1.410849   1q42.13\n",
       "HIST1H1D   1.204667    6p22.2\n",
       "H3F3B      1.137358   17q25.1\n",
       "H2AFX      1.117481   11q23.3"
      ]
     },
     "metadata": {},
     "output_type": "display_data"
    }
   ],
   "source": [
    "lv_genes = get_lv_genes(lv_code)\n",
    "display(lv_genes.head(25))"
   ]
  },
  {
   "cell_type": "code",
   "execution_count": 68,
   "id": "5ba90a31-0c51-411a-9b91-a0fcdbfd8ac6",
   "metadata": {},
   "outputs": [
    {
     "data": {
      "text/plain": [
       "6p22.2     15\n",
       "6p22.1      5\n",
       "1q42.13     2\n",
       "11q23.3     1\n",
       "17q25.1     1\n",
       "12p12.3     1\n",
       "17q23.2     0\n",
       "18q12.2     0\n",
       "18q12.1     0\n",
       "18q11.2     0\n",
       "Name: gene_band, dtype: int64"
      ]
     },
     "execution_count": 68,
     "metadata": {},
     "output_type": "execute_result"
    }
   ],
   "source": [
    "lv_genes.head(25)[\"gene_band\"].value_counts().head(10)"
   ]
  },
  {
   "cell_type": "markdown",
   "id": "c3e2e994-c860-48db-90bf-90257735f9dc",
   "metadata": {},
   "source": [
    "Same as LV45"
   ]
  },
  {
   "cell_type": "markdown",
   "id": "5255d9dc-dbe6-4190-b040-210af2db4f10",
   "metadata": {},
   "source": [
    "## LV110"
   ]
  },
  {
   "cell_type": "code",
   "execution_count": 69,
   "id": "597a5457-511e-4dd6-936e-69a05905f832",
   "metadata": {},
   "outputs": [],
   "source": [
    "lv_code = \"LV110\""
   ]
  },
  {
   "cell_type": "code",
   "execution_count": 70,
   "id": "8186250b-110b-4d36-9826-392b57ad98f8",
   "metadata": {},
   "outputs": [],
   "source": [
    "results = dfs[dfs[\"lv\"] == lv_code]"
   ]
  },
  {
   "cell_type": "code",
   "execution_count": 71,
   "id": "f43b64f5-4058-4530-8e47-9ec838038bcf",
   "metadata": {},
   "outputs": [
    {
     "data": {
      "text/plain": [
       "(1000, 4)"
      ]
     },
     "execution_count": 71,
     "metadata": {},
     "output_type": "execute_result"
    }
   ],
   "source": [
    "results.shape"
   ]
  },
  {
   "cell_type": "code",
   "execution_count": 72,
   "id": "177dbcd5-e609-484c-9663-f3384c2c45e5",
   "metadata": {},
   "outputs": [
    {
     "data": {
      "text/html": [
       "<div>\n",
       "<style scoped>\n",
       "    .dataframe tbody tr th:only-of-type {\n",
       "        vertical-align: middle;\n",
       "    }\n",
       "\n",
       "    .dataframe tbody tr th {\n",
       "        vertical-align: top;\n",
       "    }\n",
       "\n",
       "    .dataframe thead th {\n",
       "        text-align: right;\n",
       "    }\n",
       "</style>\n",
       "<table border=\"1\" class=\"dataframe\">\n",
       "  <thead>\n",
       "    <tr style=\"text-align: right;\">\n",
       "      <th></th>\n",
       "      <th>lv</th>\n",
       "      <th>coef</th>\n",
       "      <th>pvalue</th>\n",
       "      <th>phenotype</th>\n",
       "    </tr>\n",
       "  </thead>\n",
       "  <tbody>\n",
       "    <tr>\n",
       "      <th>109</th>\n",
       "      <td>LV110</td>\n",
       "      <td>-0.024160</td>\n",
       "      <td>0.973768</td>\n",
       "      <td>random.pheno988</td>\n",
       "    </tr>\n",
       "    <tr>\n",
       "      <th>1096</th>\n",
       "      <td>LV110</td>\n",
       "      <td>0.000731</td>\n",
       "      <td>0.476604</td>\n",
       "      <td>random.pheno589</td>\n",
       "    </tr>\n",
       "    <tr>\n",
       "      <th>2083</th>\n",
       "      <td>LV110</td>\n",
       "      <td>-0.005028</td>\n",
       "      <td>0.656726</td>\n",
       "      <td>random.pheno385</td>\n",
       "    </tr>\n",
       "    <tr>\n",
       "      <th>3070</th>\n",
       "      <td>LV110</td>\n",
       "      <td>-0.005938</td>\n",
       "      <td>0.683164</td>\n",
       "      <td>random.pheno5</td>\n",
       "    </tr>\n",
       "    <tr>\n",
       "      <th>4057</th>\n",
       "      <td>LV110</td>\n",
       "      <td>0.009946</td>\n",
       "      <td>0.212348</td>\n",
       "      <td>random.pheno74</td>\n",
       "    </tr>\n",
       "  </tbody>\n",
       "</table>\n",
       "</div>"
      ],
      "text/plain": [
       "         lv      coef    pvalue        phenotype\n",
       "109   LV110 -0.024160  0.973768  random.pheno988\n",
       "1096  LV110  0.000731  0.476604  random.pheno589\n",
       "2083  LV110 -0.005028  0.656726  random.pheno385\n",
       "3070  LV110 -0.005938  0.683164    random.pheno5\n",
       "4057  LV110  0.009946  0.212348   random.pheno74"
      ]
     },
     "execution_count": 72,
     "metadata": {},
     "output_type": "execute_result"
    }
   ],
   "source": [
    "results.head()"
   ]
  },
  {
   "cell_type": "markdown",
   "id": "ac1bda3d-a3a3-4f9f-97c7-88a58eb58e54",
   "metadata": {},
   "source": [
    "### Mean type I errors at different thresholds"
   ]
  },
  {
   "cell_type": "code",
   "execution_count": 73,
   "id": "3085327e-2c7a-43ca-834e-f022bc952d52",
   "metadata": {},
   "outputs": [
    {
     "data": {
      "text/plain": [
       "0.077"
      ]
     },
     "execution_count": 73,
     "metadata": {},
     "output_type": "execute_result"
    }
   ],
   "source": [
    "show_prop(results, 0.01)"
   ]
  },
  {
   "cell_type": "code",
   "execution_count": 74,
   "id": "682f99d5-87c7-4ad0-9b52-c685beb8a224",
   "metadata": {},
   "outputs": [
    {
     "data": {
      "text/plain": [
       "0.127"
      ]
     },
     "execution_count": 74,
     "metadata": {},
     "output_type": "execute_result"
    }
   ],
   "source": [
    "show_prop(results, 0.05)"
   ]
  },
  {
   "cell_type": "code",
   "execution_count": 75,
   "id": "3ce64dbe-0b80-4b69-92f0-2798969034d6",
   "metadata": {},
   "outputs": [
    {
     "data": {
      "text/plain": [
       "0.178"
      ]
     },
     "execution_count": 75,
     "metadata": {},
     "output_type": "execute_result"
    }
   ],
   "source": [
    "show_prop(results, 0.10)"
   ]
  },
  {
   "cell_type": "code",
   "execution_count": 76,
   "id": "3d8500aa-af02-4f32-bc1e-c2507ba202eb",
   "metadata": {},
   "outputs": [
    {
     "data": {
      "text/plain": [
       "0.213"
      ]
     },
     "execution_count": 76,
     "metadata": {},
     "output_type": "execute_result"
    }
   ],
   "source": [
    "show_prop(results, 0.15)"
   ]
  },
  {
   "cell_type": "code",
   "execution_count": 77,
   "id": "3f22c2c6-ced5-4ea3-9945-921b4a11f2b6",
   "metadata": {},
   "outputs": [
    {
     "data": {
      "text/plain": [
       "0.249"
      ]
     },
     "execution_count": 77,
     "metadata": {},
     "output_type": "execute_result"
    }
   ],
   "source": [
    "show_prop(results, 0.20)"
   ]
  },
  {
   "cell_type": "markdown",
   "id": "a2c699de-c6e2-493f-a4f8-0e62321bbf09",
   "metadata": {},
   "source": [
    "### QQplot"
   ]
  },
  {
   "cell_type": "code",
   "execution_count": 78,
   "id": "d0efc9ff-b5c9-4d39-826e-e2859af4c3ed",
   "metadata": {},
   "outputs": [
    {
     "data": {
      "image/png": "[encoded data removed]",
      "text/plain": [
       "<Figure size 576x576 with 1 Axes>"
      ]
     },
     "metadata": {
      "needs_background": "light"
     },
     "output_type": "display_data"
    }
   ],
   "source": [
    "qqplot_unif(results)"
   ]
  },
  {
   "cell_type": "markdown",
   "id": "b374605a-40df-47f5-9188-4f1f3aca8025",
   "metadata": {},
   "source": [
    "### Why mean type I errors are so high?"
   ]
  },
  {
   "cell_type": "code",
   "execution_count": 79,
   "id": "a0a34b24-c706-4135-a155-855c6b4c95ed",
   "metadata": {},
   "outputs": [
    {
     "data": {
      "text/html": [
       "<div>\n",
       "<style scoped>\n",
       "    .dataframe tbody tr th:only-of-type {\n",
       "        vertical-align: middle;\n",
       "    }\n",
       "\n",
       "    .dataframe tbody tr th {\n",
       "        vertical-align: top;\n",
       "    }\n",
       "\n",
       "    .dataframe thead th {\n",
       "        text-align: right;\n",
       "    }\n",
       "</style>\n",
       "<table border=\"1\" class=\"dataframe\">\n",
       "  <thead>\n",
       "    <tr style=\"text-align: right;\">\n",
       "      <th></th>\n",
       "      <th>LV110</th>\n",
       "      <th>gene_band</th>\n",
       "    </tr>\n",
       "  </thead>\n",
       "  <tbody>\n",
       "    <tr>\n",
       "      <th>HIST1H4D</th>\n",
       "      <td>6.862617</td>\n",
       "      <td>6p22.2</td>\n",
       "    </tr>\n",
       "    <tr>\n",
       "      <th>HIST1H2AD</th>\n",
       "      <td>6.425544</td>\n",
       "      <td>6p22.2</td>\n",
       "    </tr>\n",
       "    <tr>\n",
       "      <th>HIST1H1E</th>\n",
       "      <td>6.329128</td>\n",
       "      <td>6p22.2</td>\n",
       "    </tr>\n",
       "    <tr>\n",
       "      <th>HIST1H1C</th>\n",
       "      <td>5.829177</td>\n",
       "      <td>6p22.2</td>\n",
       "    </tr>\n",
       "    <tr>\n",
       "      <th>HIST1H1D</th>\n",
       "      <td>5.497928</td>\n",
       "      <td>6p22.2</td>\n",
       "    </tr>\n",
       "    <tr>\n",
       "      <th>HIST1H2BJ</th>\n",
       "      <td>5.265400</td>\n",
       "      <td>6p22.1</td>\n",
       "    </tr>\n",
       "    <tr>\n",
       "      <th>HIST1H4I</th>\n",
       "      <td>4.974646</td>\n",
       "      <td>6p22.1</td>\n",
       "    </tr>\n",
       "    <tr>\n",
       "      <th>HIST1H2BG</th>\n",
       "      <td>4.786019</td>\n",
       "      <td>6p22.2</td>\n",
       "    </tr>\n",
       "    <tr>\n",
       "      <th>HIST1H4H</th>\n",
       "      <td>4.607877</td>\n",
       "      <td>6p22.2</td>\n",
       "    </tr>\n",
       "    <tr>\n",
       "      <th>HIST1H2BE</th>\n",
       "      <td>3.079962</td>\n",
       "      <td>6p22.2</td>\n",
       "    </tr>\n",
       "    <tr>\n",
       "      <th>TMC5</th>\n",
       "      <td>2.891850</td>\n",
       "      <td>16p12.3</td>\n",
       "    </tr>\n",
       "    <tr>\n",
       "      <th>HIST1H3E</th>\n",
       "      <td>2.630044</td>\n",
       "      <td>6p22.2</td>\n",
       "    </tr>\n",
       "    <tr>\n",
       "      <th>AMY2B</th>\n",
       "      <td>1.938398</td>\n",
       "      <td>1p21.1</td>\n",
       "    </tr>\n",
       "    <tr>\n",
       "      <th>H2AFX</th>\n",
       "      <td>1.857926</td>\n",
       "      <td>11q23.3</td>\n",
       "    </tr>\n",
       "    <tr>\n",
       "      <th>HIST1H3D</th>\n",
       "      <td>1.564853</td>\n",
       "      <td>6p22.2</td>\n",
       "    </tr>\n",
       "    <tr>\n",
       "      <th>HIST3H2A</th>\n",
       "      <td>1.139725</td>\n",
       "      <td>1q42.13</td>\n",
       "    </tr>\n",
       "    <tr>\n",
       "      <th>HIST1H2BO</th>\n",
       "      <td>1.133038</td>\n",
       "      <td>6p22.1</td>\n",
       "    </tr>\n",
       "    <tr>\n",
       "      <th>HIST1H2BD</th>\n",
       "      <td>1.109884</td>\n",
       "      <td>6p22.2</td>\n",
       "    </tr>\n",
       "    <tr>\n",
       "      <th>HIST1H2BC</th>\n",
       "      <td>1.104100</td>\n",
       "      <td>6p22.2</td>\n",
       "    </tr>\n",
       "    <tr>\n",
       "      <th>GPR15</th>\n",
       "      <td>1.037810</td>\n",
       "      <td>3q11.2</td>\n",
       "    </tr>\n",
       "    <tr>\n",
       "      <th>HIST3H2BB</th>\n",
       "      <td>1.014224</td>\n",
       "      <td>1q42.13</td>\n",
       "    </tr>\n",
       "    <tr>\n",
       "      <th>CD40</th>\n",
       "      <td>1.012397</td>\n",
       "      <td>20q13.12</td>\n",
       "    </tr>\n",
       "    <tr>\n",
       "      <th>CD74</th>\n",
       "      <td>0.969462</td>\n",
       "      <td>5q33.1</td>\n",
       "    </tr>\n",
       "    <tr>\n",
       "      <th>TLR9</th>\n",
       "      <td>0.966804</td>\n",
       "      <td>3p21.2</td>\n",
       "    </tr>\n",
       "    <tr>\n",
       "      <th>HIST1H2BK</th>\n",
       "      <td>0.945456</td>\n",
       "      <td>6p22.1</td>\n",
       "    </tr>\n",
       "  </tbody>\n",
       "</table>\n",
       "</div>"
      ],
      "text/plain": [
       "              LV110 gene_band\n",
       "HIST1H4D   6.862617    6p22.2\n",
       "HIST1H2AD  6.425544    6p22.2\n",
       "HIST1H1E   6.329128    6p22.2\n",
       "HIST1H1C   5.829177    6p22.2\n",
       "HIST1H1D   5.497928    6p22.2\n",
       "HIST1H2BJ  5.265400    6p22.1\n",
       "HIST1H4I   4.974646    6p22.1\n",
       "HIST1H2BG  4.786019    6p22.2\n",
       "HIST1H4H   4.607877    6p22.2\n",
       "HIST1H2BE  3.079962    6p22.2\n",
       "TMC5       2.891850   16p12.3\n",
       "HIST1H3E   2.630044    6p22.2\n",
       "AMY2B      1.938398    1p21.1\n",
       "H2AFX      1.857926   11q23.3\n",
       "HIST1H3D   1.564853    6p22.2\n",
       "HIST3H2A   1.139725   1q42.13\n",
       "HIST1H2BO  1.133038    6p22.1\n",
       "HIST1H2BD  1.109884    6p22.2\n",
       "HIST1H2BC  1.104100    6p22.2\n",
       "GPR15      1.037810    3q11.2\n",
       "HIST3H2BB  1.014224   1q42.13\n",
       "CD40       1.012397  20q13.12\n",
       "CD74       0.969462    5q33.1\n",
       "TLR9       0.966804    3p21.2\n",
       "HIST1H2BK  0.945456    6p22.1"
      ]
     },
     "metadata": {},
     "output_type": "display_data"
    }
   ],
   "source": [
    "lv_genes = get_lv_genes(lv_code)\n",
    "display(lv_genes.head(25))"
   ]
  },
  {
   "cell_type": "code",
   "execution_count": 80,
   "id": "18ba82aa-7b56-4e93-885c-71719ebf01d0",
   "metadata": {},
   "outputs": [
    {
     "data": {
      "text/plain": [
       "6p22.2      12\n",
       "6p22.1       4\n",
       "1q42.13      2\n",
       "16p12.3      1\n",
       "5q33.1       1\n",
       "20q13.12     1\n",
       "3p21.2       1\n",
       "1p21.1       1\n",
       "11q23.3      1\n",
       "3q11.2       1\n",
       "Name: gene_band, dtype: int64"
      ]
     },
     "execution_count": 80,
     "metadata": {},
     "output_type": "execute_result"
    }
   ],
   "source": [
    "lv_genes.head(25)[\"gene_band\"].value_counts().head(10)"
   ]
  },
  {
   "cell_type": "markdown",
   "id": "8c8fd2f3-ede4-4e7a-a31a-7a3c06178f63",
   "metadata": {},
   "source": [
    "Same as LV45"
   ]
  },
  {
   "cell_type": "markdown",
   "id": "5a289581-af27-4359-b765-b76e5ba6b77d",
   "metadata": {},
   "source": [
    "## LV769"
   ]
  },
  {
   "cell_type": "code",
   "execution_count": 198,
   "id": "70f99ae2-c0da-4569-83c8-a270714eeb29",
   "metadata": {},
   "outputs": [],
   "source": [
    "lv_code = \"LV769\""
   ]
  },
  {
   "cell_type": "code",
   "execution_count": 199,
   "id": "f616891c-9664-4de8-8017-c5d52c75cf15",
   "metadata": {},
   "outputs": [],
   "source": [
    "results = dfs[dfs[\"lv\"] == lv_code]"
   ]
  },
  {
   "cell_type": "code",
   "execution_count": 200,
   "id": "f18dd59a-cf9f-4852-93da-50cf08f22014",
   "metadata": {},
   "outputs": [
    {
     "data": {
      "text/plain": [
       "(1000, 4)"
      ]
     },
     "execution_count": 200,
     "metadata": {},
     "output_type": "execute_result"
    }
   ],
   "source": [
    "results.shape"
   ]
  },
  {
   "cell_type": "code",
   "execution_count": 201,
   "id": "2d9cbf2c-b08c-4d46-91d6-cf012b5e4f59",
   "metadata": {},
   "outputs": [
    {
     "data": {
      "text/html": [
       "<div>\n",
       "<style scoped>\n",
       "    .dataframe tbody tr th:only-of-type {\n",
       "        vertical-align: middle;\n",
       "    }\n",
       "\n",
       "    .dataframe tbody tr th {\n",
       "        vertical-align: top;\n",
       "    }\n",
       "\n",
       "    .dataframe thead th {\n",
       "        text-align: right;\n",
       "    }\n",
       "</style>\n",
       "<table border=\"1\" class=\"dataframe\">\n",
       "  <thead>\n",
       "    <tr style=\"text-align: right;\">\n",
       "      <th></th>\n",
       "      <th>lv</th>\n",
       "      <th>coef</th>\n",
       "      <th>pvalue</th>\n",
       "      <th>phenotype</th>\n",
       "    </tr>\n",
       "  </thead>\n",
       "  <tbody>\n",
       "    <tr>\n",
       "      <th>768</th>\n",
       "      <td>LV769</td>\n",
       "      <td>0.012389</td>\n",
       "      <td>0.160028</td>\n",
       "      <td>random.pheno988</td>\n",
       "    </tr>\n",
       "    <tr>\n",
       "      <th>1755</th>\n",
       "      <td>LV769</td>\n",
       "      <td>0.001512</td>\n",
       "      <td>0.451694</td>\n",
       "      <td>random.pheno589</td>\n",
       "    </tr>\n",
       "    <tr>\n",
       "      <th>2742</th>\n",
       "      <td>LV769</td>\n",
       "      <td>0.002059</td>\n",
       "      <td>0.434367</td>\n",
       "      <td>random.pheno385</td>\n",
       "    </tr>\n",
       "    <tr>\n",
       "      <th>3729</th>\n",
       "      <td>LV769</td>\n",
       "      <td>-0.021138</td>\n",
       "      <td>0.955120</td>\n",
       "      <td>random.pheno5</td>\n",
       "    </tr>\n",
       "    <tr>\n",
       "      <th>4716</th>\n",
       "      <td>LV769</td>\n",
       "      <td>-0.018998</td>\n",
       "      <td>0.936360</td>\n",
       "      <td>random.pheno74</td>\n",
       "    </tr>\n",
       "  </tbody>\n",
       "</table>\n",
       "</div>"
      ],
      "text/plain": [
       "         lv      coef    pvalue        phenotype\n",
       "768   LV769  0.012389  0.160028  random.pheno988\n",
       "1755  LV769  0.001512  0.451694  random.pheno589\n",
       "2742  LV769  0.002059  0.434367  random.pheno385\n",
       "3729  LV769 -0.021138  0.955120    random.pheno5\n",
       "4716  LV769 -0.018998  0.936360   random.pheno74"
      ]
     },
     "execution_count": 201,
     "metadata": {},
     "output_type": "execute_result"
    }
   ],
   "source": [
    "results.head()"
   ]
  },
  {
   "cell_type": "markdown",
   "id": "c08f6aa2-d333-4997-bdbb-df45ec6461c3",
   "metadata": {},
   "source": [
    "### Mean type I errors at different thresholds"
   ]
  },
  {
   "cell_type": "code",
   "execution_count": 202,
   "id": "45170182-b3f8-41b8-8d4a-27e5357a1723",
   "metadata": {},
   "outputs": [
    {
     "data": {
      "text/plain": [
       "0.038"
      ]
     },
     "execution_count": 202,
     "metadata": {},
     "output_type": "execute_result"
    }
   ],
   "source": [
    "show_prop(results, 0.01)"
   ]
  },
  {
   "cell_type": "code",
   "execution_count": 203,
   "id": "15a320e5-76b4-462c-91f0-02b2d2a4c281",
   "metadata": {},
   "outputs": [
    {
     "data": {
      "text/plain": [
       "0.12"
      ]
     },
     "execution_count": 203,
     "metadata": {},
     "output_type": "execute_result"
    }
   ],
   "source": [
    "show_prop(results, 0.05)"
   ]
  },
  {
   "cell_type": "code",
   "execution_count": 204,
   "id": "8740d710-1e2d-447d-915d-1a2735a17021",
   "metadata": {},
   "outputs": [
    {
     "data": {
      "text/plain": [
       "0.198"
      ]
     },
     "execution_count": 204,
     "metadata": {},
     "output_type": "execute_result"
    }
   ],
   "source": [
    "show_prop(results, 0.10)"
   ]
  },
  {
   "cell_type": "code",
   "execution_count": 205,
   "id": "82681aa8-53c4-4c20-992d-4e29c78f9933",
   "metadata": {},
   "outputs": [
    {
     "data": {
      "text/plain": [
       "0.25"
      ]
     },
     "execution_count": 205,
     "metadata": {},
     "output_type": "execute_result"
    }
   ],
   "source": [
    "show_prop(results, 0.15)"
   ]
  },
  {
   "cell_type": "code",
   "execution_count": 206,
   "id": "730803db-f0bc-4044-ab4a-d73cc026f51b",
   "metadata": {},
   "outputs": [
    {
     "data": {
      "text/plain": [
       "0.307"
      ]
     },
     "execution_count": 206,
     "metadata": {},
     "output_type": "execute_result"
    }
   ],
   "source": [
    "show_prop(results, 0.20)"
   ]
  },
  {
   "cell_type": "markdown",
   "id": "e86c01b1-cda2-4905-aed1-9f5c659b0f9c",
   "metadata": {},
   "source": [
    "### QQplot"
   ]
  },
  {
   "cell_type": "code",
   "execution_count": 207,
   "id": "8bf2f7d7-b272-41cf-8805-f5c72c811aab",
   "metadata": {},
   "outputs": [
    {
     "data": {
      "image/png": "[encoded data removed]",
      "text/plain": [
       "<Figure size 576x576 with 1 Axes>"
      ]
     },
     "metadata": {
      "needs_background": "light"
     },
     "output_type": "display_data"
    }
   ],
   "source": [
    "qqplot_unif(results)"
   ]
  },
  {
   "cell_type": "markdown",
   "id": "67b8996d-e66e-4d9d-b8f9-1c862bdb663d",
   "metadata": {},
   "source": [
    "### Why mean type I errors are so high?"
   ]
  },
  {
   "cell_type": "code",
   "execution_count": 208,
   "id": "a301faec-75c4-4375-a0eb-2857f33f6667",
   "metadata": {},
   "outputs": [
    {
     "data": {
      "text/html": [
       "<div>\n",
       "<style scoped>\n",
       "    .dataframe tbody tr th:only-of-type {\n",
       "        vertical-align: middle;\n",
       "    }\n",
       "\n",
       "    .dataframe tbody tr th {\n",
       "        vertical-align: top;\n",
       "    }\n",
       "\n",
       "    .dataframe thead th {\n",
       "        text-align: right;\n",
       "    }\n",
       "</style>\n",
       "<table border=\"1\" class=\"dataframe\">\n",
       "  <thead>\n",
       "    <tr style=\"text-align: right;\">\n",
       "      <th></th>\n",
       "      <th>LV769</th>\n",
       "      <th>gene_band</th>\n",
       "    </tr>\n",
       "  </thead>\n",
       "  <tbody>\n",
       "    <tr>\n",
       "      <th>RCHY1</th>\n",
       "      <td>4.709602</td>\n",
       "      <td>4q21.1</td>\n",
       "    </tr>\n",
       "    <tr>\n",
       "      <th>MICB</th>\n",
       "      <td>4.094715</td>\n",
       "      <td>6p21.33</td>\n",
       "    </tr>\n",
       "    <tr>\n",
       "      <th>FAM20B</th>\n",
       "      <td>2.025532</td>\n",
       "      <td>1q25.2</td>\n",
       "    </tr>\n",
       "    <tr>\n",
       "      <th>GLUD1</th>\n",
       "      <td>1.944526</td>\n",
       "      <td>10q23.2</td>\n",
       "    </tr>\n",
       "    <tr>\n",
       "      <th>SPHK2</th>\n",
       "      <td>1.873681</td>\n",
       "      <td>19q13.33</td>\n",
       "    </tr>\n",
       "    <tr>\n",
       "      <th>UBE2T</th>\n",
       "      <td>1.610870</td>\n",
       "      <td>1q32.1</td>\n",
       "    </tr>\n",
       "    <tr>\n",
       "      <th>SPDYA</th>\n",
       "      <td>1.517940</td>\n",
       "      <td>2p23.2</td>\n",
       "    </tr>\n",
       "    <tr>\n",
       "      <th>CYP26B1</th>\n",
       "      <td>1.394458</td>\n",
       "      <td>2p13.2</td>\n",
       "    </tr>\n",
       "    <tr>\n",
       "      <th>MREG</th>\n",
       "      <td>1.239710</td>\n",
       "      <td>2q35</td>\n",
       "    </tr>\n",
       "    <tr>\n",
       "      <th>ZNF584</th>\n",
       "      <td>1.126256</td>\n",
       "      <td>19q13.43</td>\n",
       "    </tr>\n",
       "    <tr>\n",
       "      <th>PRKAG2</th>\n",
       "      <td>1.036963</td>\n",
       "      <td>7q36.1</td>\n",
       "    </tr>\n",
       "    <tr>\n",
       "      <th>CXCL1</th>\n",
       "      <td>1.022290</td>\n",
       "      <td>4q13.3</td>\n",
       "    </tr>\n",
       "    <tr>\n",
       "      <th>POLE2</th>\n",
       "      <td>0.990470</td>\n",
       "      <td>14q21.3</td>\n",
       "    </tr>\n",
       "    <tr>\n",
       "      <th>ZNF282</th>\n",
       "      <td>0.972943</td>\n",
       "      <td>7q36.1</td>\n",
       "    </tr>\n",
       "    <tr>\n",
       "      <th>GNB3</th>\n",
       "      <td>0.964598</td>\n",
       "      <td>12p13.31</td>\n",
       "    </tr>\n",
       "    <tr>\n",
       "      <th>PEX2</th>\n",
       "      <td>0.922494</td>\n",
       "      <td>8q21.13</td>\n",
       "    </tr>\n",
       "    <tr>\n",
       "      <th>GTF2H5</th>\n",
       "      <td>0.919161</td>\n",
       "      <td>6q25.3</td>\n",
       "    </tr>\n",
       "    <tr>\n",
       "      <th>PSD3</th>\n",
       "      <td>0.918352</td>\n",
       "      <td>8p22</td>\n",
       "    </tr>\n",
       "    <tr>\n",
       "      <th>TBC1D8</th>\n",
       "      <td>0.907158</td>\n",
       "      <td>2q11.2</td>\n",
       "    </tr>\n",
       "    <tr>\n",
       "      <th>DDX46</th>\n",
       "      <td>0.899935</td>\n",
       "      <td>5q31.1</td>\n",
       "    </tr>\n",
       "    <tr>\n",
       "      <th>DECR1</th>\n",
       "      <td>0.894977</td>\n",
       "      <td>8q21.3</td>\n",
       "    </tr>\n",
       "    <tr>\n",
       "      <th>MAPK6</th>\n",
       "      <td>0.888203</td>\n",
       "      <td>15q21.2</td>\n",
       "    </tr>\n",
       "    <tr>\n",
       "      <th>ZCCHC7</th>\n",
       "      <td>0.821980</td>\n",
       "      <td>9p13.2</td>\n",
       "    </tr>\n",
       "    <tr>\n",
       "      <th>JAG2</th>\n",
       "      <td>0.741733</td>\n",
       "      <td>14q32.33</td>\n",
       "    </tr>\n",
       "    <tr>\n",
       "      <th>MICA</th>\n",
       "      <td>0.703970</td>\n",
       "      <td>6p21.33</td>\n",
       "    </tr>\n",
       "  </tbody>\n",
       "</table>\n",
       "</div>"
      ],
      "text/plain": [
       "            LV769 gene_band\n",
       "RCHY1    4.709602    4q21.1\n",
       "MICB     4.094715   6p21.33\n",
       "FAM20B   2.025532    1q25.2\n",
       "GLUD1    1.944526   10q23.2\n",
       "SPHK2    1.873681  19q13.33\n",
       "UBE2T    1.610870    1q32.1\n",
       "SPDYA    1.517940    2p23.2\n",
       "CYP26B1  1.394458    2p13.2\n",
       "MREG     1.239710      2q35\n",
       "ZNF584   1.126256  19q13.43\n",
       "PRKAG2   1.036963    7q36.1\n",
       "CXCL1    1.022290    4q13.3\n",
       "POLE2    0.990470   14q21.3\n",
       "ZNF282   0.972943    7q36.1\n",
       "GNB3     0.964598  12p13.31\n",
       "PEX2     0.922494   8q21.13\n",
       "GTF2H5   0.919161    6q25.3\n",
       "PSD3     0.918352      8p22\n",
       "TBC1D8   0.907158    2q11.2\n",
       "DDX46    0.899935    5q31.1\n",
       "DECR1    0.894977    8q21.3\n",
       "MAPK6    0.888203   15q21.2\n",
       "ZCCHC7   0.821980    9p13.2\n",
       "JAG2     0.741733  14q32.33\n",
       "MICA     0.703970   6p21.33"
      ]
     },
     "metadata": {},
     "output_type": "display_data"
    }
   ],
   "source": [
    "lv_genes = get_lv_genes(lv_code)\n",
    "display(lv_genes.head(25))"
   ]
  },
  {
   "cell_type": "markdown",
   "id": "822a7959-044f-4f08-8a0a-e41b7484aa9a",
   "metadata": {},
   "source": [
    "Ok, first LV that does not have genes from the same band at the top. What's going on here?"
   ]
  },
  {
   "cell_type": "code",
   "execution_count": 209,
   "id": "189fa373-a668-4738-b898-89229bba749f",
   "metadata": {},
   "outputs": [
    {
     "data": {
      "text/plain": [
       "6p21.33    2\n",
       "7q36.1     2\n",
       "4q13.3     1\n",
       "8q21.13    1\n",
       "9p13.2     1\n",
       "2p23.2     1\n",
       "5q31.1     1\n",
       "4q21.1     1\n",
       "2q11.2     1\n",
       "1q25.2     1\n",
       "Name: gene_band, dtype: int64"
      ]
     },
     "execution_count": 209,
     "metadata": {},
     "output_type": "execute_result"
    }
   ],
   "source": [
    "lv_genes.head(25)[\"gene_band\"].value_counts().head(10)"
   ]
  },
  {
   "cell_type": "markdown",
   "id": "2ba315cb-0c41-4754-afa7-f24936e94f98",
   "metadata": {},
   "source": [
    "There are same genes from the same band at the top, but not that many as the other LVs.\n",
    "**However**, top genes from chr 6 are here. Those might be highly correlated.\n",
    "\n",
    "What happens if I take a look at more top genes?"
   ]
  },
  {
   "cell_type": "code",
   "execution_count": 210,
   "id": "1ea2c097-5cce-40ec-b76c-e070433f88f0",
   "metadata": {},
   "outputs": [
    {
     "data": {
      "text/plain": [
       "7q36.1      2\n",
       "6p21.33     2\n",
       "5q31.1      2\n",
       "20q13.33    1\n",
       "8q21.13     1\n",
       "Name: gene_band, dtype: int64"
      ]
     },
     "execution_count": 210,
     "metadata": {},
     "output_type": "execute_result"
    }
   ],
   "source": [
    "lv_genes.head(50)[\"gene_band\"].value_counts().head(5)"
   ]
  },
  {
   "cell_type": "code",
   "execution_count": 211,
   "id": "078bfd6e-2af7-4091-938a-b4c53b4d97c9",
   "metadata": {},
   "outputs": [
    {
     "data": {
      "text/plain": [
       "5q31.1      3\n",
       "1p22.3      3\n",
       "4q13.3      2\n",
       "4p14        2\n",
       "4q21.1      2\n",
       "7q36.1      2\n",
       "11q13.2     2\n",
       "1q21.3      2\n",
       "8q21.3      2\n",
       "10q26.13    2\n",
       "6p21.33     2\n",
       "20q11.22    2\n",
       "4q25        1\n",
       "12q13.12    1\n",
       "14q21.3     1\n",
       "Name: gene_band, dtype: int64"
      ]
     },
     "execution_count": 211,
     "metadata": {},
     "output_type": "execute_result"
    }
   ],
   "source": [
    "lv_genes.head(100)[\"gene_band\"].value_counts().head(15)"
   ]
  },
  {
   "cell_type": "code",
   "execution_count": 212,
   "id": "b4d75365-b113-4b84-9536-eb7d98437c5d",
   "metadata": {},
   "outputs": [
    {
     "data": {
      "text/plain": [
       "1p22.3      3\n",
       "1q21.3      3\n",
       "5q31.1      3\n",
       "10q26.13    2\n",
       "1p36.11     2\n",
       "8p22        2\n",
       "8q21.3      2\n",
       "4p14        2\n",
       "2q35        2\n",
       "4q13.3      2\n",
       "4q21.1      2\n",
       "7q36.1      2\n",
       "11q13.2     2\n",
       "14q24.1     2\n",
       "17q12       2\n",
       "14q11.2     2\n",
       "20q11.22    2\n",
       "6p21.33     2\n",
       "12q24.33    2\n",
       "4p15.2      1\n",
       "Name: gene_band, dtype: int64"
      ]
     },
     "execution_count": 212,
     "metadata": {},
     "output_type": "execute_result"
    }
   ],
   "source": [
    "lv_genes.head(150)[\"gene_band\"].value_counts().head(20)"
   ]
  },
  {
   "cell_type": "code",
   "execution_count": 213,
   "id": "2ab60af4-7afc-4b57-a356-d14460277051",
   "metadata": {},
   "outputs": [
    {
     "data": {
      "text/plain": [
       "1q21.3      3\n",
       "1p22.3      3\n",
       "16q22.1     3\n",
       "12q24.33    3\n",
       "5q31.1      3\n",
       "10q26.13    2\n",
       "4q13.3      2\n",
       "19q13.2     2\n",
       "19p13.2     2\n",
       "8q22.3      2\n",
       "8q22.1      2\n",
       "8q21.3      2\n",
       "2q24.1      2\n",
       "4p14        2\n",
       "10q24.32    2\n",
       "14q24.1     2\n",
       "18q21.1     2\n",
       "3q26.31     2\n",
       "8p22        2\n",
       "2q35        2\n",
       "6q13        2\n",
       "7q31.2      2\n",
       "7q36.1      2\n",
       "11p15.4     2\n",
       "11q13.2     2\n",
       "4q21.1      2\n",
       "17q12       2\n",
       "1p36.11     2\n",
       "14q11.2     2\n",
       "20q11.22    2\n",
       "Name: gene_band, dtype: int64"
      ]
     },
     "execution_count": 213,
     "metadata": {},
     "output_type": "execute_result"
    }
   ],
   "source": [
    "lv_genes.head(200)[\"gene_band\"].value_counts().head(30)"
   ]
  },
  {
   "cell_type": "markdown",
   "id": "9b851f79-e48f-45da-88b1-c757a3271561",
   "metadata": {},
   "source": [
    "## Distribution of gene weights"
   ]
  },
  {
   "cell_type": "code",
   "execution_count": 214,
   "id": "97bd6df8-01ee-42db-85d8-78839c043b3e",
   "metadata": {},
   "outputs": [
    {
     "data": {
      "text/plain": [
       "count    6446.000000\n",
       "mean        0.031280\n",
       "std         0.122941\n",
       "min         0.000000\n",
       "25%         0.000000\n",
       "50%         0.000000\n",
       "75%         0.023323\n",
       "max         4.709602\n",
       "Name: LV769, dtype: float64"
      ]
     },
     "execution_count": 214,
     "metadata": {},
     "output_type": "execute_result"
    }
   ],
   "source": [
    "lv_genes[lv_code].describe()"
   ]
  },
  {
   "cell_type": "code",
   "execution_count": 215,
   "id": "ac30a1ee-00bb-4fce-a240-e58c7d00cf50",
   "metadata": {},
   "outputs": [
    {
     "data": {
      "text/plain": [
       "0.80    0.036859\n",
       "0.81    0.040913\n",
       "0.82    0.044273\n",
       "0.83    0.047017\n",
       "0.84    0.051144\n",
       "0.85    0.055721\n",
       "0.86    0.058959\n",
       "0.87    0.063310\n",
       "0.88    0.069273\n",
       "0.89    0.075060\n",
       "0.90    0.081388\n",
       "0.91    0.089863\n",
       "0.92    0.098529\n",
       "0.93    0.107157\n",
       "0.94    0.120829\n",
       "0.95    0.135075\n",
       "0.96    0.157527\n",
       "0.97    0.200097\n",
       "0.98    0.260205\n",
       "0.99    0.395757\n",
       "Name: LV769, dtype: float64"
      ]
     },
     "execution_count": 215,
     "metadata": {},
     "output_type": "execute_result"
    }
   ],
   "source": [
    "lv_genes[lv_code].quantile(np.arange(0.80, 1.0, 0.01))"
   ]
  },
  {
   "cell_type": "code",
   "execution_count": 216,
   "id": "01816b72-5aea-4ba7-864b-a3bea3679dd3",
   "metadata": {},
   "outputs": [
    {
     "data": {
      "text/plain": [
       "<seaborn.axisgrid.FacetGrid at 0x7fb4a0289f70>"
      ]
     },
     "execution_count": 216,
     "metadata": {},
     "output_type": "execute_result"
    },
    {
     "data": {
      "image/png": "[encoded data removed]",
      "text/plain": [
       "<Figure size 360x360 with 1 Axes>"
      ]
     },
     "metadata": {
      "needs_background": "light"
     },
     "output_type": "display_data"
    }
   ],
   "source": [
    "sns.displot(data=lv_genes, x=lv_code, kind=\"ecdf\")"
   ]
  },
  {
   "cell_type": "code",
   "execution_count": 217,
   "id": "f51899de-c0ed-474e-828c-0430fb4b819c",
   "metadata": {},
   "outputs": [
    {
     "data": {
      "text/plain": [
       "(-0.05, 0.5)"
      ]
     },
     "execution_count": 217,
     "metadata": {},
     "output_type": "execute_result"
    },
    {
     "data": {
      "image/png": "[encoded data removed]",
      "text/plain": [
       "<Figure size 360x360 with 1 Axes>"
      ]
     },
     "metadata": {
      "needs_background": "light"
     },
     "output_type": "display_data"
    }
   ],
   "source": [
    "g = sns.displot(data=lv_genes, x=lv_code, kind=\"ecdf\")\n",
    "g.ax.set_xlim((-0.05, 0.50))"
   ]
  },
  {
   "cell_type": "markdown",
   "id": "ae9f5d9b-7301-468e-a2dd-2e2753702d0a",
   "metadata": {},
   "source": [
    "How does band number patterns and distribution of weights in this LV compare with LVs with expected mean type I error?"
   ]
  },
  {
   "cell_type": "code",
   "execution_count": 218,
   "id": "d6941674-2bfe-4f85-8911-330f6bf90f35",
   "metadata": {},
   "outputs": [],
   "source": [
    "lv769_genes = lv_genes"
   ]
  },
  {
   "cell_type": "markdown",
   "id": "59a7fbe4-0dd7-4aa3-8853-8b52f6c488a2",
   "metadata": {},
   "source": [
    "# LVs with expected mean type I error"
   ]
  },
  {
   "cell_type": "code",
   "execution_count": 219,
   "id": "ce2afb72-b7e6-460c-a1d4-f85e65086626",
   "metadata": {},
   "outputs": [
    {
     "data": {
      "text/html": [
       "<div>\n",
       "<style scoped>\n",
       "    .dataframe tbody tr th:only-of-type {\n",
       "        vertical-align: middle;\n",
       "    }\n",
       "\n",
       "    .dataframe tbody tr th {\n",
       "        vertical-align: top;\n",
       "    }\n",
       "\n",
       "    .dataframe thead th {\n",
       "        text-align: right;\n",
       "    }\n",
       "</style>\n",
       "<table border=\"1\" class=\"dataframe\">\n",
       "  <thead>\n",
       "    <tr style=\"text-align: right;\">\n",
       "      <th></th>\n",
       "      <th>lv</th>\n",
       "      <th>1</th>\n",
       "      <th>5</th>\n",
       "      <th>10</th>\n",
       "    </tr>\n",
       "  </thead>\n",
       "  <tbody>\n",
       "    <tr>\n",
       "      <th>519</th>\n",
       "      <td>LV567</td>\n",
       "      <td>0.016</td>\n",
       "      <td>0.049</td>\n",
       "      <td>0.097</td>\n",
       "    </tr>\n",
       "    <tr>\n",
       "      <th>523</th>\n",
       "      <td>LV570</td>\n",
       "      <td>0.016</td>\n",
       "      <td>0.049</td>\n",
       "      <td>0.084</td>\n",
       "    </tr>\n",
       "    <tr>\n",
       "      <th>693</th>\n",
       "      <td>LV723</td>\n",
       "      <td>0.013</td>\n",
       "      <td>0.049</td>\n",
       "      <td>0.107</td>\n",
       "    </tr>\n",
       "    <tr>\n",
       "      <th>348</th>\n",
       "      <td>LV412</td>\n",
       "      <td>0.009</td>\n",
       "      <td>0.049</td>\n",
       "      <td>0.100</td>\n",
       "    </tr>\n",
       "    <tr>\n",
       "      <th>664</th>\n",
       "      <td>LV698</td>\n",
       "      <td>0.008</td>\n",
       "      <td>0.049</td>\n",
       "      <td>0.092</td>\n",
       "    </tr>\n",
       "    <tr>\n",
       "      <th>379</th>\n",
       "      <td>LV440</td>\n",
       "      <td>0.008</td>\n",
       "      <td>0.049</td>\n",
       "      <td>0.092</td>\n",
       "    </tr>\n",
       "    <tr>\n",
       "      <th>388</th>\n",
       "      <td>LV449</td>\n",
       "      <td>0.014</td>\n",
       "      <td>0.049</td>\n",
       "      <td>0.093</td>\n",
       "    </tr>\n",
       "    <tr>\n",
       "      <th>640</th>\n",
       "      <td>LV676</td>\n",
       "      <td>0.012</td>\n",
       "      <td>0.049</td>\n",
       "      <td>0.094</td>\n",
       "    </tr>\n",
       "    <tr>\n",
       "      <th>624</th>\n",
       "      <td>LV661</td>\n",
       "      <td>0.010</td>\n",
       "      <td>0.049</td>\n",
       "      <td>0.112</td>\n",
       "    </tr>\n",
       "    <tr>\n",
       "      <th>609</th>\n",
       "      <td>LV648</td>\n",
       "      <td>0.007</td>\n",
       "      <td>0.049</td>\n",
       "      <td>0.087</td>\n",
       "    </tr>\n",
       "    <tr>\n",
       "      <th>608</th>\n",
       "      <td>LV647</td>\n",
       "      <td>0.009</td>\n",
       "      <td>0.049</td>\n",
       "      <td>0.084</td>\n",
       "    </tr>\n",
       "    <tr>\n",
       "      <th>590</th>\n",
       "      <td>LV630</td>\n",
       "      <td>0.012</td>\n",
       "      <td>0.049</td>\n",
       "      <td>0.082</td>\n",
       "    </tr>\n",
       "    <tr>\n",
       "      <th>462</th>\n",
       "      <td>LV515</td>\n",
       "      <td>0.017</td>\n",
       "      <td>0.049</td>\n",
       "      <td>0.097</td>\n",
       "    </tr>\n",
       "    <tr>\n",
       "      <th>470</th>\n",
       "      <td>LV522</td>\n",
       "      <td>0.017</td>\n",
       "      <td>0.049</td>\n",
       "      <td>0.092</td>\n",
       "    </tr>\n",
       "    <tr>\n",
       "      <th>530</th>\n",
       "      <td>LV577</td>\n",
       "      <td>0.016</td>\n",
       "      <td>0.049</td>\n",
       "      <td>0.098</td>\n",
       "    </tr>\n",
       "    <tr>\n",
       "      <th>522</th>\n",
       "      <td>LV57</td>\n",
       "      <td>0.012</td>\n",
       "      <td>0.049</td>\n",
       "      <td>0.093</td>\n",
       "    </tr>\n",
       "    <tr>\n",
       "      <th>762</th>\n",
       "      <td>LV786</td>\n",
       "      <td>0.006</td>\n",
       "      <td>0.049</td>\n",
       "      <td>0.100</td>\n",
       "    </tr>\n",
       "    <tr>\n",
       "      <th>783</th>\n",
       "      <td>LV804</td>\n",
       "      <td>0.012</td>\n",
       "      <td>0.049</td>\n",
       "      <td>0.086</td>\n",
       "    </tr>\n",
       "    <tr>\n",
       "      <th>298</th>\n",
       "      <td>LV368</td>\n",
       "      <td>0.007</td>\n",
       "      <td>0.049</td>\n",
       "      <td>0.099</td>\n",
       "    </tr>\n",
       "    <tr>\n",
       "      <th>881</th>\n",
       "      <td>LV893</td>\n",
       "      <td>0.016</td>\n",
       "      <td>0.049</td>\n",
       "      <td>0.105</td>\n",
       "    </tr>\n",
       "  </tbody>\n",
       "</table>\n",
       "</div>"
      ],
      "text/plain": [
       "        lv      1      5     10\n",
       "519  LV567  0.016  0.049  0.097\n",
       "523  LV570  0.016  0.049  0.084\n",
       "693  LV723  0.013  0.049  0.107\n",
       "348  LV412  0.009  0.049  0.100\n",
       "664  LV698  0.008  0.049  0.092\n",
       "379  LV440  0.008  0.049  0.092\n",
       "388  LV449  0.014  0.049  0.093\n",
       "640  LV676  0.012  0.049  0.094\n",
       "624  LV661  0.010  0.049  0.112\n",
       "609  LV648  0.007  0.049  0.087\n",
       "608  LV647  0.009  0.049  0.084\n",
       "590  LV630  0.012  0.049  0.082\n",
       "462  LV515  0.017  0.049  0.097\n",
       "470  LV522  0.017  0.049  0.092\n",
       "530  LV577  0.016  0.049  0.098\n",
       "522   LV57  0.012  0.049  0.093\n",
       "762  LV786  0.006  0.049  0.100\n",
       "783  LV804  0.012  0.049  0.086\n",
       "298  LV368  0.007  0.049  0.099\n",
       "881  LV893  0.016  0.049  0.105"
      ]
     },
     "metadata": {},
     "output_type": "display_data"
    }
   ],
   "source": [
    "display(lvs_expected_error.sort_values(\"5\").head(20))"
   ]
  },
  {
   "cell_type": "markdown",
   "id": "28814b98-a72e-453f-b029-7ac950123ee6",
   "metadata": {},
   "source": [
    "## LV412"
   ]
  },
  {
   "cell_type": "code",
   "execution_count": 220,
   "id": "ad34c127-d54e-45cc-9a53-8e7beac257a7",
   "metadata": {},
   "outputs": [],
   "source": [
    "lv_code = \"LV412\""
   ]
  },
  {
   "cell_type": "code",
   "execution_count": 221,
   "id": "fc917f47-330b-4b11-9124-3de5c8c5bbbd",
   "metadata": {},
   "outputs": [],
   "source": [
    "results = dfs[dfs[\"lv\"] == lv_code]"
   ]
  },
  {
   "cell_type": "code",
   "execution_count": 222,
   "id": "edee73d5-64b9-4d3c-b761-32144c3225f3",
   "metadata": {},
   "outputs": [
    {
     "data": {
      "text/plain": [
       "(1000, 4)"
      ]
     },
     "execution_count": 222,
     "metadata": {},
     "output_type": "execute_result"
    }
   ],
   "source": [
    "results.shape"
   ]
  },
  {
   "cell_type": "code",
   "execution_count": 223,
   "id": "e5739b0f-ab84-42b7-9fd7-e2c191fb4b4c",
   "metadata": {},
   "outputs": [
    {
     "data": {
      "text/html": [
       "<div>\n",
       "<style scoped>\n",
       "    .dataframe tbody tr th:only-of-type {\n",
       "        vertical-align: middle;\n",
       "    }\n",
       "\n",
       "    .dataframe tbody tr th {\n",
       "        vertical-align: top;\n",
       "    }\n",
       "\n",
       "    .dataframe thead th {\n",
       "        text-align: right;\n",
       "    }\n",
       "</style>\n",
       "<table border=\"1\" class=\"dataframe\">\n",
       "  <thead>\n",
       "    <tr style=\"text-align: right;\">\n",
       "      <th></th>\n",
       "      <th>lv</th>\n",
       "      <th>coef</th>\n",
       "      <th>pvalue</th>\n",
       "      <th>phenotype</th>\n",
       "    </tr>\n",
       "  </thead>\n",
       "  <tbody>\n",
       "    <tr>\n",
       "      <th>411</th>\n",
       "      <td>LV412</td>\n",
       "      <td>-0.010372</td>\n",
       "      <td>0.797435</td>\n",
       "      <td>random.pheno988</td>\n",
       "    </tr>\n",
       "    <tr>\n",
       "      <th>1398</th>\n",
       "      <td>LV412</td>\n",
       "      <td>-0.015866</td>\n",
       "      <td>0.898571</td>\n",
       "      <td>random.pheno589</td>\n",
       "    </tr>\n",
       "    <tr>\n",
       "      <th>2385</th>\n",
       "      <td>LV412</td>\n",
       "      <td>0.019627</td>\n",
       "      <td>0.057581</td>\n",
       "      <td>random.pheno385</td>\n",
       "    </tr>\n",
       "    <tr>\n",
       "      <th>3372</th>\n",
       "      <td>LV412</td>\n",
       "      <td>0.009720</td>\n",
       "      <td>0.217653</td>\n",
       "      <td>random.pheno5</td>\n",
       "    </tr>\n",
       "    <tr>\n",
       "      <th>4359</th>\n",
       "      <td>LV412</td>\n",
       "      <td>0.010105</td>\n",
       "      <td>0.208680</td>\n",
       "      <td>random.pheno74</td>\n",
       "    </tr>\n",
       "  </tbody>\n",
       "</table>\n",
       "</div>"
      ],
      "text/plain": [
       "         lv      coef    pvalue        phenotype\n",
       "411   LV412 -0.010372  0.797435  random.pheno988\n",
       "1398  LV412 -0.015866  0.898571  random.pheno589\n",
       "2385  LV412  0.019627  0.057581  random.pheno385\n",
       "3372  LV412  0.009720  0.217653    random.pheno5\n",
       "4359  LV412  0.010105  0.208680   random.pheno74"
      ]
     },
     "execution_count": 223,
     "metadata": {},
     "output_type": "execute_result"
    }
   ],
   "source": [
    "results.head()"
   ]
  },
  {
   "cell_type": "markdown",
   "id": "25126c15-9ef3-408e-b98f-213cd23d5194",
   "metadata": {},
   "source": [
    "### Mean type I errors at different thresholds"
   ]
  },
  {
   "cell_type": "code",
   "execution_count": 224,
   "id": "b584fab8-71e5-46d3-b06d-c4611187f8ca",
   "metadata": {},
   "outputs": [
    {
     "data": {
      "text/plain": [
       "0.009"
      ]
     },
     "execution_count": 224,
     "metadata": {},
     "output_type": "execute_result"
    }
   ],
   "source": [
    "show_prop(results, 0.01)"
   ]
  },
  {
   "cell_type": "code",
   "execution_count": 225,
   "id": "d6961ab3-d15a-4009-8861-540b74b6fbc6",
   "metadata": {},
   "outputs": [
    {
     "data": {
      "text/plain": [
       "0.049"
      ]
     },
     "execution_count": 225,
     "metadata": {},
     "output_type": "execute_result"
    }
   ],
   "source": [
    "show_prop(results, 0.05)"
   ]
  },
  {
   "cell_type": "code",
   "execution_count": 226,
   "id": "cbddfb94-65e1-4b05-8968-2a610730613c",
   "metadata": {},
   "outputs": [
    {
     "data": {
      "text/plain": [
       "0.1"
      ]
     },
     "execution_count": 226,
     "metadata": {},
     "output_type": "execute_result"
    }
   ],
   "source": [
    "show_prop(results, 0.10)"
   ]
  },
  {
   "cell_type": "code",
   "execution_count": 227,
   "id": "f3b2d822-4518-4728-ae69-18b744413d46",
   "metadata": {},
   "outputs": [
    {
     "data": {
      "text/plain": [
       "0.141"
      ]
     },
     "execution_count": 227,
     "metadata": {},
     "output_type": "execute_result"
    }
   ],
   "source": [
    "show_prop(results, 0.15)"
   ]
  },
  {
   "cell_type": "code",
   "execution_count": 228,
   "id": "cb2fd89a-8cba-4e09-92ae-7b43f40bcb18",
   "metadata": {},
   "outputs": [
    {
     "data": {
      "text/plain": [
       "0.187"
      ]
     },
     "execution_count": 228,
     "metadata": {},
     "output_type": "execute_result"
    }
   ],
   "source": [
    "show_prop(results, 0.20)"
   ]
  },
  {
   "cell_type": "markdown",
   "id": "713f1dd2-0fb9-40fc-8903-e46a5e34489b",
   "metadata": {},
   "source": [
    "### QQplot"
   ]
  },
  {
   "cell_type": "code",
   "execution_count": 229,
   "id": "6cb76ccb-7b0f-428e-9aa4-dfe8a7e284b3",
   "metadata": {},
   "outputs": [
    {
     "data": {
      "image/png": "[encoded data removed]",
      "text/plain": [
       "<Figure size 576x576 with 1 Axes>"
      ]
     },
     "metadata": {
      "needs_background": "light"
     },
     "output_type": "display_data"
    }
   ],
   "source": [
    "qqplot_unif(results)"
   ]
  },
  {
   "cell_type": "markdown",
   "id": "1a8add30-2b07-47f9-bd52-9e8f05468c5d",
   "metadata": {},
   "source": [
    "### Why mean type I errors are expected?"
   ]
  },
  {
   "cell_type": "code",
   "execution_count": 233,
   "id": "3c4a3c84-ae62-4259-9cbb-005e77847eaf",
   "metadata": {},
   "outputs": [
    {
     "data": {
      "text/html": [
       "<div>\n",
       "<style scoped>\n",
       "    .dataframe tbody tr th:only-of-type {\n",
       "        vertical-align: middle;\n",
       "    }\n",
       "\n",
       "    .dataframe tbody tr th {\n",
       "        vertical-align: top;\n",
       "    }\n",
       "\n",
       "    .dataframe thead th {\n",
       "        text-align: right;\n",
       "    }\n",
       "</style>\n",
       "<table border=\"1\" class=\"dataframe\">\n",
       "  <thead>\n",
       "    <tr style=\"text-align: right;\">\n",
       "      <th></th>\n",
       "      <th>LV412</th>\n",
       "      <th>gene_band</th>\n",
       "    </tr>\n",
       "  </thead>\n",
       "  <tbody>\n",
       "    <tr>\n",
       "      <th>KCNH8</th>\n",
       "      <td>5.521022</td>\n",
       "      <td>3p24.3</td>\n",
       "    </tr>\n",
       "    <tr>\n",
       "      <th>ZNF135</th>\n",
       "      <td>3.878779</td>\n",
       "      <td>19q13.43</td>\n",
       "    </tr>\n",
       "    <tr>\n",
       "      <th>ZNF614</th>\n",
       "      <td>3.775552</td>\n",
       "      <td>19q13.41</td>\n",
       "    </tr>\n",
       "    <tr>\n",
       "      <th>ZNF606</th>\n",
       "      <td>2.929764</td>\n",
       "      <td>19q13.43</td>\n",
       "    </tr>\n",
       "    <tr>\n",
       "      <th>PANK1</th>\n",
       "      <td>2.749045</td>\n",
       "      <td>10q23.31</td>\n",
       "    </tr>\n",
       "    <tr>\n",
       "      <th>ABCB9</th>\n",
       "      <td>2.445773</td>\n",
       "      <td>12q24.31</td>\n",
       "    </tr>\n",
       "    <tr>\n",
       "      <th>ZNF443</th>\n",
       "      <td>2.197429</td>\n",
       "      <td>19p13.2</td>\n",
       "    </tr>\n",
       "    <tr>\n",
       "      <th>ZNF649</th>\n",
       "      <td>1.970191</td>\n",
       "      <td>19q13.41</td>\n",
       "    </tr>\n",
       "    <tr>\n",
       "      <th>SKIV2L</th>\n",
       "      <td>1.735204</td>\n",
       "      <td>6p21.33</td>\n",
       "    </tr>\n",
       "    <tr>\n",
       "      <th>CLCN3</th>\n",
       "      <td>1.721717</td>\n",
       "      <td>4q33</td>\n",
       "    </tr>\n",
       "    <tr>\n",
       "      <th>ZNF436</th>\n",
       "      <td>1.404181</td>\n",
       "      <td>1p36.12</td>\n",
       "    </tr>\n",
       "    <tr>\n",
       "      <th>ATF2</th>\n",
       "      <td>1.403580</td>\n",
       "      <td>2q31.1</td>\n",
       "    </tr>\n",
       "    <tr>\n",
       "      <th>PLD6</th>\n",
       "      <td>1.362308</td>\n",
       "      <td>17p11.2</td>\n",
       "    </tr>\n",
       "    <tr>\n",
       "      <th>ST8SIA1</th>\n",
       "      <td>1.282506</td>\n",
       "      <td>12p12.1</td>\n",
       "    </tr>\n",
       "    <tr>\n",
       "      <th>PRPF38A</th>\n",
       "      <td>1.134283</td>\n",
       "      <td>1p32.3</td>\n",
       "    </tr>\n",
       "    <tr>\n",
       "      <th>PUM1</th>\n",
       "      <td>1.133758</td>\n",
       "      <td>1p35.2</td>\n",
       "    </tr>\n",
       "    <tr>\n",
       "      <th>ZFYVE16</th>\n",
       "      <td>1.104458</td>\n",
       "      <td>5q14.1</td>\n",
       "    </tr>\n",
       "    <tr>\n",
       "      <th>FNTA</th>\n",
       "      <td>1.090228</td>\n",
       "      <td>8p11.21</td>\n",
       "    </tr>\n",
       "    <tr>\n",
       "      <th>ORC5</th>\n",
       "      <td>1.071627</td>\n",
       "      <td>7q22.2</td>\n",
       "    </tr>\n",
       "    <tr>\n",
       "      <th>TAF1A</th>\n",
       "      <td>1.069171</td>\n",
       "      <td>1q41</td>\n",
       "    </tr>\n",
       "    <tr>\n",
       "      <th>ZNF250</th>\n",
       "      <td>1.025677</td>\n",
       "      <td>8q24.3</td>\n",
       "    </tr>\n",
       "    <tr>\n",
       "      <th>MED1</th>\n",
       "      <td>1.019078</td>\n",
       "      <td>17q12</td>\n",
       "    </tr>\n",
       "    <tr>\n",
       "      <th>EML6</th>\n",
       "      <td>1.001503</td>\n",
       "      <td>2p16.1</td>\n",
       "    </tr>\n",
       "    <tr>\n",
       "      <th>PHACTR1</th>\n",
       "      <td>0.967340</td>\n",
       "      <td>6p24.1</td>\n",
       "    </tr>\n",
       "    <tr>\n",
       "      <th>ZNF570</th>\n",
       "      <td>0.952614</td>\n",
       "      <td>19q13.12</td>\n",
       "    </tr>\n",
       "  </tbody>\n",
       "</table>\n",
       "</div>"
      ],
      "text/plain": [
       "            LV412 gene_band\n",
       "KCNH8    5.521022    3p24.3\n",
       "ZNF135   3.878779  19q13.43\n",
       "ZNF614   3.775552  19q13.41\n",
       "ZNF606   2.929764  19q13.43\n",
       "PANK1    2.749045  10q23.31\n",
       "ABCB9    2.445773  12q24.31\n",
       "ZNF443   2.197429   19p13.2\n",
       "ZNF649   1.970191  19q13.41\n",
       "SKIV2L   1.735204   6p21.33\n",
       "CLCN3    1.721717      4q33\n",
       "ZNF436   1.404181   1p36.12\n",
       "ATF2     1.403580    2q31.1\n",
       "PLD6     1.362308   17p11.2\n",
       "ST8SIA1  1.282506   12p12.1\n",
       "PRPF38A  1.134283    1p32.3\n",
       "PUM1     1.133758    1p35.2\n",
       "ZFYVE16  1.104458    5q14.1\n",
       "FNTA     1.090228   8p11.21\n",
       "ORC5     1.071627    7q22.2\n",
       "TAF1A    1.069171      1q41\n",
       "ZNF250   1.025677    8q24.3\n",
       "MED1     1.019078     17q12\n",
       "EML6     1.001503    2p16.1\n",
       "PHACTR1  0.967340    6p24.1\n",
       "ZNF570   0.952614  19q13.12"
      ]
     },
     "metadata": {},
     "output_type": "display_data"
    }
   ],
   "source": [
    "lv_genes = get_lv_genes(lv_code)\n",
    "display(lv_genes.head(25))"
   ]
  },
  {
   "cell_type": "code",
   "execution_count": 234,
   "id": "f76edf99-8452-4eb9-854e-ec1a2fe797d5",
   "metadata": {},
   "outputs": [
    {
     "data": {
      "text/plain": [
       "19q13.41    2\n",
       "19q13.43    2\n",
       "1p36.12     1\n",
       "1q41        1\n",
       "8q24.3      1\n",
       "17p11.2     1\n",
       "17q12       1\n",
       "6p21.33     1\n",
       "2q31.1      1\n",
       "6p24.1      1\n",
       "Name: gene_band, dtype: int64"
      ]
     },
     "execution_count": 234,
     "metadata": {},
     "output_type": "execute_result"
    }
   ],
   "source": [
    "lv_genes.head(25)[\"gene_band\"].value_counts().head(10)"
   ]
  },
  {
   "cell_type": "markdown",
   "id": "5822f543-a379-4ef3-a36e-05d0e7961cf6",
   "metadata": {},
   "source": [
    "Not different than LV759 at the top 25 genes in terms of numbers of genes from the same band.\n",
    "**However**, we don't have genes from the same band in chr 6 here.\n",
    "\n",
    "Let's keep looking:"
   ]
  },
  {
   "cell_type": "code",
   "execution_count": 235,
   "id": "98c4d8b1-5b0b-4c04-9253-ac46c8a597b0",
   "metadata": {},
   "outputs": [
    {
     "data": {
      "text/plain": [
       "12q24.31    2\n",
       "19q13.43    2\n",
       "19q13.41    2\n",
       "8q24.3      1\n",
       "1q22        1\n",
       "Name: gene_band, dtype: int64"
      ]
     },
     "execution_count": 235,
     "metadata": {},
     "output_type": "execute_result"
    }
   ],
   "source": [
    "lv_genes.head(50)[\"gene_band\"].value_counts().head(5)"
   ]
  },
  {
   "cell_type": "markdown",
   "id": "0b2b291a-0c0d-4dcd-9c24-5d0bbe0fbf74",
   "metadata": {},
   "source": [
    "No difference with LV769"
   ]
  },
  {
   "cell_type": "code",
   "execution_count": 236,
   "id": "83d88832-eece-46d0-b186-f288eb9a72c6",
   "metadata": {},
   "outputs": [
    {
     "data": {
      "text/plain": [
       "19q13.41    3\n",
       "12q24.31    3\n",
       "19q13.12    3\n",
       "19q13.43    3\n",
       "2p25.1      2\n",
       "1q41        2\n",
       "14q24.2     2\n",
       "1q22        2\n",
       "16q22.1     2\n",
       "12q23.1     1\n",
       "13q14.2     1\n",
       "13q13.3     1\n",
       "3p21.31     1\n",
       "19p13.11    1\n",
       "1p35.2      1\n",
       "Name: gene_band, dtype: int64"
      ]
     },
     "execution_count": 236,
     "metadata": {},
     "output_type": "execute_result"
    }
   ],
   "source": [
    "lv_genes.head(100)[\"gene_band\"].value_counts().head(15)"
   ]
  },
  {
   "cell_type": "markdown",
   "id": "2d5bc980-6b18-44b3-8765-e81494a935b7",
   "metadata": {},
   "source": [
    "No big difference with LV769"
   ]
  },
  {
   "cell_type": "code",
   "execution_count": 237,
   "id": "1ec0e2da-c425-4972-9537-b8159b03f73c",
   "metadata": {},
   "outputs": [
    {
     "data": {
      "text/plain": [
       "16q22.1     4\n",
       "19q13.43    3\n",
       "19q13.41    3\n",
       "1q41        3\n",
       "19q13.12    3\n",
       "1q22        3\n",
       "12q24.31    3\n",
       "11q13.2     2\n",
       "19p13.2     2\n",
       "5q32        2\n",
       "15q14       2\n",
       "13q14.2     2\n",
       "6q21        2\n",
       "2p25.1      2\n",
       "6p21.1      2\n",
       "3p25.1      2\n",
       "11q23.1     2\n",
       "14q24.2     2\n",
       "7q11.21     1\n",
       "1p34.1      1\n",
       "Name: gene_band, dtype: int64"
      ]
     },
     "execution_count": 237,
     "metadata": {},
     "output_type": "execute_result"
    }
   ],
   "source": [
    "lv_genes.head(150)[\"gene_band\"].value_counts().head(20)"
   ]
  },
  {
   "cell_type": "markdown",
   "id": "f1a499fb-d9f9-4ca9-904c-6423232c8241",
   "metadata": {},
   "source": [
    "No big difference with LV769."
   ]
  },
  {
   "cell_type": "code",
   "execution_count": 238,
   "id": "26ebca34-83eb-4fa6-b698-d3ee14797fd3",
   "metadata": {},
   "outputs": [
    {
     "data": {
      "text/plain": [
       "16q22.1     4\n",
       "12q24.31    4\n",
       "19q13.41    3\n",
       "19p13.2     3\n",
       "1q41        3\n",
       "19q13.12    3\n",
       "19q13.43    3\n",
       "6q21        3\n",
       "1q22        3\n",
       "3p21.31     3\n",
       "1q21.3      2\n",
       "2q33.1      2\n",
       "5q32        2\n",
       "9p21.1      2\n",
       "7p22.1      2\n",
       "15q14       2\n",
       "11q13.2     2\n",
       "5q23.2      2\n",
       "13q14.2     2\n",
       "3p25.1      2\n",
       "6p21.1      2\n",
       "5q35.3      2\n",
       "21q22.3     2\n",
       "14q24.2     2\n",
       "2p25.1      2\n",
       "17q12       2\n",
       "2p16.1      2\n",
       "12q13.13    2\n",
       "1p13.2      2\n",
       "11q23.1     2\n",
       "Name: gene_band, dtype: int64"
      ]
     },
     "execution_count": 238,
     "metadata": {},
     "output_type": "execute_result"
    }
   ],
   "source": [
    "lv_genes.head(200)[\"gene_band\"].value_counts().head(30)"
   ]
  },
  {
   "cell_type": "markdown",
   "id": "1bf9bcb9-fb15-4cc6-8a40-a1b5c86ab0b8",
   "metadata": {},
   "source": [
    "Here there are even more regions repeated, although we are looking at the top 200 genes now."
   ]
  },
  {
   "cell_type": "markdown",
   "id": "f40cfba8-24e6-44f7-87d8-5120975ca0f7",
   "metadata": {},
   "source": [
    "## Distribution of gene weights"
   ]
  },
  {
   "cell_type": "code",
   "execution_count": 239,
   "id": "1036c94c-983d-44ee-9765-03110f518306",
   "metadata": {},
   "outputs": [
    {
     "data": {
      "text/plain": [
       "count    6446.000000\n",
       "mean        0.037322\n",
       "std         0.151258\n",
       "min         0.000000\n",
       "25%         0.000000\n",
       "50%         0.000000\n",
       "75%         0.030287\n",
       "max         5.521022\n",
       "Name: LV412, dtype: float64"
      ]
     },
     "execution_count": 239,
     "metadata": {},
     "output_type": "execute_result"
    }
   ],
   "source": [
    "lv_genes[lv_code].describe()"
   ]
  },
  {
   "cell_type": "code",
   "execution_count": 240,
   "id": "8ddd7c48-fadf-4cd7-84d5-7596e2bb8afc",
   "metadata": {},
   "outputs": [
    {
     "data": {
      "text/plain": [
       "0.80    0.043020\n",
       "0.81    0.045727\n",
       "0.82    0.049013\n",
       "0.83    0.052441\n",
       "0.84    0.056593\n",
       "0.85    0.061172\n",
       "0.86    0.065933\n",
       "0.87    0.072219\n",
       "0.88    0.077499\n",
       "0.89    0.083129\n",
       "0.90    0.090102\n",
       "0.91    0.099516\n",
       "0.92    0.110169\n",
       "0.93    0.122677\n",
       "0.94    0.138123\n",
       "0.95    0.156269\n",
       "0.96    0.184728\n",
       "0.97    0.225738\n",
       "0.98    0.293448\n",
       "0.99    0.432566\n",
       "Name: LV412, dtype: float64"
      ]
     },
     "execution_count": 240,
     "metadata": {},
     "output_type": "execute_result"
    }
   ],
   "source": [
    "lv_genes[lv_code].quantile(np.arange(0.80, 1.0, 0.01))"
   ]
  },
  {
   "cell_type": "code",
   "execution_count": 241,
   "id": "d77bc39a-c43a-4fce-82bb-67a0240945cc",
   "metadata": {},
   "outputs": [
    {
     "data": {
      "text/plain": [
       "<seaborn.axisgrid.FacetGrid at 0x7fb48268ceb0>"
      ]
     },
     "execution_count": 241,
     "metadata": {},
     "output_type": "execute_result"
    },
    {
     "data": {
      "image/png": "[encoded data removed]",
      "text/plain": [
       "<Figure size 360x360 with 1 Axes>"
      ]
     },
     "metadata": {
      "needs_background": "light"
     },
     "output_type": "display_data"
    }
   ],
   "source": [
    "sns.displot(data=lv_genes, x=lv_code, kind=\"ecdf\")"
   ]
  },
  {
   "cell_type": "code",
   "execution_count": 242,
   "id": "7471102b-e6de-4f10-9ef0-582db50dacaf",
   "metadata": {},
   "outputs": [
    {
     "data": {
      "text/plain": [
       "(-0.05, 0.5)"
      ]
     },
     "execution_count": 242,
     "metadata": {},
     "output_type": "execute_result"
    },
    {
     "data": {
      "image/png": "[encoded data removed]",
      "text/plain": [
       "<Figure size 360x360 with 1 Axes>"
      ]
     },
     "metadata": {
      "needs_background": "light"
     },
     "output_type": "display_data"
    }
   ],
   "source": [
    "g = sns.displot(data=lv_genes, x=lv_code, kind=\"ecdf\")\n",
    "g.ax.set_xlim((-0.05, 0.50))"
   ]
  },
  {
   "cell_type": "code",
   "execution_count": 250,
   "id": "2234b7d3-3c04-4ba4-893b-cc974d8ab97c",
   "metadata": {},
   "outputs": [
    {
     "name": "stderr",
     "output_type": "stream",
     "text": [
      "/opt/conda/envs/phenoplier/lib/python3.8/site-packages/seaborn/distributions.py:2211: UserWarning: `displot` is a figure-level function and does not accept the ax= paramter. You may wish to try kdeplot.\n",
      "  warnings.warn(msg, UserWarning)\n"
     ]
    },
    {
     "data": {
      "image/png": "[encoded data removed]",
      "text/plain": [
       "<Figure size 360x360 with 1 Axes>"
      ]
     },
     "metadata": {
      "needs_background": "light"
     },
     "output_type": "display_data"
    },
    {
     "data": {
      "image/png": "[encoded data removed]",
      "text/plain": [
       "<Figure size 360x360 with 1 Axes>"
      ]
     },
     "metadata": {
      "needs_background": "light"
     },
     "output_type": "display_data"
    }
   ],
   "source": [
    "g = sns.displot(x=lv_genes[lv_code], kind=\"kde\")\n",
    "g = sns.displot(x=lv769_genes[\"LV769\"], kind=\"kde\", ax=g.ax)\n",
    "# g.ax.set_xlim((-0.05, 0.50))\n",
    "# g.ax.set_ylim((-0.05, 0.50))"
   ]
  },
  {
   "cell_type": "code",
   "execution_count": 246,
   "id": "07ef7eaf-daab-423a-8996-f48132c953d4",
   "metadata": {},
   "outputs": [
    {
     "data": {
      "text/plain": [
       "(-0.05, 0.5)"
      ]
     },
     "execution_count": 246,
     "metadata": {},
     "output_type": "execute_result"
    },
    {
     "data": {
      "image/png": "[encoded data removed]",
      "text/plain": [
       "<Figure size 360x360 with 1 Axes>"
      ]
     },
     "metadata": {
      "needs_background": "light"
     },
     "output_type": "display_data"
    }
   ],
   "source": [
    "g = sns.displot(x=lv_genes[lv_code], y=lv769_genes[\"LV769\"], kind=\"kde\")\n",
    "g.ax.set_xlim((-0.05, 0.50))\n",
    "g.ax.set_ylim((-0.05, 0.50))"
   ]
  },
  {
   "cell_type": "markdown",
   "id": "dcc4afb6-0102-48ff-b88f-f6e8183bc815",
   "metadata": {},
   "source": [
    "DE ESTE GRAFICO parece que ambos LVs abarcan genes totalmente diferentes (los que tienen weight de cero en uno tienen weights altos en el otro)."
   ]
  },
  {
   "cell_type": "code",
   "execution_count": null,
   "id": "68e2c359-4a04-4b85-8547-e981da1a69c5",
   "metadata": {},
   "outputs": [],
   "source": [
    "POR CADA LV, CONTAR CUANTOS genes tienen weight cero\n",
    "\n",
    "LUEGO, armar un displot de los genes que tienen valores mayores a cero\n",
    "\n",
    "una hipotesis es que quizá LV769 (el que da mal) es sparce, y el otro (LV412) es mas dense (tiene valores positivos para mas genes)"
   ]
  }
 ],
 "metadata": {
  "jupytext": {
   "cell_metadata_filter": "all,-execution,-papermill,-trusted",
   "formats": "ipynb,py//py:percent"
  },
  "kernelspec": {
   "display_name": "Python 3 (ipykernel)",
   "language": "python",
   "name": "python3"
  },
  "language_info": {
   "codemirror_mode": {
    "name": "ipython",
    "version": 3
   },
   "file_extension": ".py",
   "mimetype": "text/x-python",
   "name": "python",
   "nbconvert_exporter": "python",
   "pygments_lexer": "ipython3",
   "version": "3.8.13"
  },
  "papermill": {
   "default_parameters": {},
   "duration": 2.899223,
   "end_time": "2022-02-24T05:32:05.472242",
   "environment_variables": {},
   "exception": null,
   "input_path": "nbs/15_gsa_gls/26-gls-null_simulations-plots.ipynb",
   "output_path": "nbs/15_gsa_gls/26-gls-null_simulations-plots.run.ipynb",
   "parameters": {},
   "start_time": "2022-02-24T05:32:02.573019",
   "version": "2.2.2"
  },
  "toc-autonumbering": true
 },
 "nbformat": 4,
 "nbformat_minor": 5
}
