{
 "cells": [
  {
   "cell_type": "markdown",
   "id": "b7acf0c2",
   "metadata": {
    "papermill": {
     "duration": 0.038207,
     "end_time": "2022-02-24T05:32:03.755452",
     "exception": false,
     "start_time": "2022-02-24T05:32:03.717245",
     "status": "completed"
    },
    "tags": []
   },
   "source": [
    "# Description"
   ]
  },
  {
   "cell_type": "markdown",
   "id": "2653adfb",
   "metadata": {
    "papermill": {
     "duration": 0.009944,
     "end_time": "2022-02-24T05:32:03.780673",
     "exception": false,
     "start_time": "2022-02-24T05:32:03.770729",
     "status": "completed"
    },
    "tags": []
   },
   "source": [
    "The idea of this notebook is to explore a simple OLS model (Ordinary Least Squares) to associate an LV (gene weights) with a trait (gene z-scores). Since predicted gene expression is correlated, especially among adjacent genes, a simple OLS model is expected to fail by having high type I errors."
   ]
  },
  {
   "cell_type": "markdown",
   "id": "fb645f46",
   "metadata": {
    "papermill": {
     "duration": 0.008401,
     "end_time": "2022-02-24T05:32:03.797668",
     "exception": false,
     "start_time": "2022-02-24T05:32:03.789267",
     "status": "completed"
    },
    "tags": []
   },
   "source": [
    "# Modules"
   ]
  },
  {
   "cell_type": "code",
   "execution_count": 1,
   "id": "7ce51c68",
   "metadata": {
    "papermill": {
     "duration": 0.861241,
     "end_time": "2022-02-24T05:32:04.667481",
     "exception": false,
     "start_time": "2022-02-24T05:32:03.806240",
     "status": "completed"
    },
    "tags": []
   },
   "outputs": [],
   "source": [
    "from pathlib import Path\n",
    "\n",
    "import numpy as np\n",
    "import pandas as pd\n",
    "from scipy import stats\n",
    "from statsmodels.graphics.gofplots import qqplot_2samples\n",
    "import matplotlib.pyplot as plt\n",
    "import matplotlib as mpl\n",
    "import seaborn as sns\n",
    "\n",
    "import conf\n",
    "from data.recount2 import LVAnalysis"
   ]
  },
  {
   "cell_type": "markdown",
   "id": "654985a3",
   "metadata": {
    "papermill": {
     "duration": 0.008701,
     "end_time": "2022-02-24T05:32:04.685435",
     "exception": false,
     "start_time": "2022-02-24T05:32:04.676734",
     "status": "completed"
    },
    "tags": []
   },
   "source": [
    "# Settings"
   ]
  },
  {
   "cell_type": "code",
   "execution_count": 2,
   "id": "d4e1bf58-d0ac-455a-97d8-1d892b4a38d6",
   "metadata": {},
   "outputs": [],
   "source": [
    "N_PHENOTYPES = 1000\n",
    "N_LVS = 987"
   ]
  },
  {
   "cell_type": "code",
   "execution_count": 3,
   "id": "9ba4e01c",
   "metadata": {
    "papermill": {
     "duration": 0.016348,
     "end_time": "2022-02-24T05:32:04.710602",
     "exception": false,
     "start_time": "2022-02-24T05:32:04.694254",
     "status": "completed"
    },
    "tags": []
   },
   "outputs": [
    {
     "data": {
      "text/plain": [
       "PosixPath('/opt/data/results/gls/null_sims/phenoplier')"
      ]
     },
     "metadata": {},
     "output_type": "display_data"
    }
   ],
   "source": [
    "INPUT_DIR = conf.RESULTS[\"GLS_NULL_SIMS\"] / \"phenoplier\"\n",
    "display(INPUT_DIR)"
   ]
  },
  {
   "cell_type": "markdown",
   "id": "029018ec-ed00-41fb-83b3-f0ae3e57a000",
   "metadata": {},
   "source": [
    "# Load MultiXcan genes present in results"
   ]
  },
  {
   "cell_type": "code",
   "execution_count": 4,
   "id": "35a6ced5-0526-469f-93e5-15952f1201e2",
   "metadata": {},
   "outputs": [],
   "source": [
    "_tmp = pd.read_csv(\n",
    "    conf.RESULTS[\"GLS_NULL_SIMS\"]\n",
    "    / \"twas\"\n",
    "    / \"smultixcan\"\n",
    "    / \"random.pheno0-gtex_v8-mashr-smultixcan.txt\",\n",
    "    sep=\"\\t\",\n",
    ")"
   ]
  },
  {
   "cell_type": "code",
   "execution_count": 5,
   "id": "14dd7cef-0d54-4410-9f94-ff0a808b5dda",
   "metadata": {},
   "outputs": [
    {
     "data": {
      "text/plain": [
       "(22317, 18)"
      ]
     },
     "execution_count": 5,
     "metadata": {},
     "output_type": "execute_result"
    }
   ],
   "source": [
    "_tmp.shape"
   ]
  },
  {
   "cell_type": "code",
   "execution_count": 6,
   "id": "e0c79c4b-459b-4ace-8284-14cd3ccbb130",
   "metadata": {},
   "outputs": [
    {
     "data": {
      "text/html": [
       "<div>\n",
       "<style scoped>\n",
       "    .dataframe tbody tr th:only-of-type {\n",
       "        vertical-align: middle;\n",
       "    }\n",
       "\n",
       "    .dataframe tbody tr th {\n",
       "        vertical-align: top;\n",
       "    }\n",
       "\n",
       "    .dataframe thead th {\n",
       "        text-align: right;\n",
       "    }\n",
       "</style>\n",
       "<table border=\"1\" class=\"dataframe\">\n",
       "  <thead>\n",
       "    <tr style=\"text-align: right;\">\n",
       "      <th></th>\n",
       "      <th>gene</th>\n",
       "      <th>gene_name</th>\n",
       "      <th>pvalue</th>\n",
       "      <th>n</th>\n",
       "      <th>n_indep</th>\n",
       "      <th>p_i_best</th>\n",
       "      <th>t_i_best</th>\n",
       "      <th>p_i_worst</th>\n",
       "      <th>t_i_worst</th>\n",
       "      <th>eigen_max</th>\n",
       "      <th>eigen_min</th>\n",
       "      <th>eigen_min_kept</th>\n",
       "      <th>z_min</th>\n",
       "      <th>z_max</th>\n",
       "      <th>z_mean</th>\n",
       "      <th>z_sd</th>\n",
       "      <th>tmi</th>\n",
       "      <th>status</th>\n",
       "    </tr>\n",
       "  </thead>\n",
       "  <tbody>\n",
       "    <tr>\n",
       "      <th>0</th>\n",
       "      <td>ENSG00000131941.7</td>\n",
       "      <td>RHPN2</td>\n",
       "      <td>0.000040</td>\n",
       "      <td>48.0</td>\n",
       "      <td>3.0</td>\n",
       "      <td>2.139470e-04</td>\n",
       "      <td>Artery_Tibial</td>\n",
       "      <td>0.990132</td>\n",
       "      <td>Brain_Nucleus_accumbens_basal_ganglia</td>\n",
       "      <td>36.556432</td>\n",
       "      <td>7.692089e-16</td>\n",
       "      <td>2.519701</td>\n",
       "      <td>-2.721185</td>\n",
       "      <td>3.701952</td>\n",
       "      <td>1.283152</td>\n",
       "      <td>1.825567</td>\n",
       "      <td>3.0</td>\n",
       "      <td>0</td>\n",
       "    </tr>\n",
       "    <tr>\n",
       "      <th>1</th>\n",
       "      <td>ENSG00000076650.6</td>\n",
       "      <td>GPATCH1</td>\n",
       "      <td>0.000078</td>\n",
       "      <td>40.0</td>\n",
       "      <td>3.0</td>\n",
       "      <td>4.534390e-04</td>\n",
       "      <td>Brain_Cerebellum</td>\n",
       "      <td>0.817384</td>\n",
       "      <td>Brain_Frontal_Cortex_BA9</td>\n",
       "      <td>29.990208</td>\n",
       "      <td>2.086487e-15</td>\n",
       "      <td>1.815203</td>\n",
       "      <td>-3.506853</td>\n",
       "      <td>2.383485</td>\n",
       "      <td>-2.016745</td>\n",
       "      <td>1.715495</td>\n",
       "      <td>3.0</td>\n",
       "      <td>0</td>\n",
       "    </tr>\n",
       "    <tr>\n",
       "      <th>2</th>\n",
       "      <td>ENSG00000100906.10</td>\n",
       "      <td>NFKBIA</td>\n",
       "      <td>0.000096</td>\n",
       "      <td>1.0</td>\n",
       "      <td>1.0</td>\n",
       "      <td>9.591208e-05</td>\n",
       "      <td>Brain_Frontal_Cortex_BA9</td>\n",
       "      <td>0.000096</td>\n",
       "      <td>Brain_Frontal_Cortex_BA9</td>\n",
       "      <td>1.000000</td>\n",
       "      <td>1.000000e+00</td>\n",
       "      <td>1.000000</td>\n",
       "      <td>-3.900707</td>\n",
       "      <td>-3.900707</td>\n",
       "      <td>-3.900707</td>\n",
       "      <td>NaN</td>\n",
       "      <td>1.0</td>\n",
       "      <td>0</td>\n",
       "    </tr>\n",
       "    <tr>\n",
       "      <th>3</th>\n",
       "      <td>ENSG00000136319.11</td>\n",
       "      <td>TTC5</td>\n",
       "      <td>0.000109</td>\n",
       "      <td>47.0</td>\n",
       "      <td>5.0</td>\n",
       "      <td>1.402826e-03</td>\n",
       "      <td>Brain_Hippocampus</td>\n",
       "      <td>0.961887</td>\n",
       "      <td>Colon_Sigmoid</td>\n",
       "      <td>21.272442</td>\n",
       "      <td>8.142339e-16</td>\n",
       "      <td>0.732606</td>\n",
       "      <td>-3.194069</td>\n",
       "      <td>1.397514</td>\n",
       "      <td>-0.916662</td>\n",
       "      <td>1.068989</td>\n",
       "      <td>5.0</td>\n",
       "      <td>0</td>\n",
       "    </tr>\n",
       "    <tr>\n",
       "      <th>4</th>\n",
       "      <td>ENSG00000152990.13</td>\n",
       "      <td>ADGRA3</td>\n",
       "      <td>0.000135</td>\n",
       "      <td>41.0</td>\n",
       "      <td>12.0</td>\n",
       "      <td>3.211289e-07</td>\n",
       "      <td>Heart_Atrial_Appendage</td>\n",
       "      <td>0.653657</td>\n",
       "      <td>Whole_Blood</td>\n",
       "      <td>12.988248</td>\n",
       "      <td>3.499412e-16</td>\n",
       "      <td>0.444682</td>\n",
       "      <td>-5.110605</td>\n",
       "      <td>3.599410</td>\n",
       "      <td>-0.464735</td>\n",
       "      <td>2.316607</td>\n",
       "      <td>12.0</td>\n",
       "      <td>0</td>\n",
       "    </tr>\n",
       "  </tbody>\n",
       "</table>\n",
       "</div>"
      ],
      "text/plain": [
       "                 gene gene_name    pvalue     n  n_indep      p_i_best  \\\n",
       "0   ENSG00000131941.7     RHPN2  0.000040  48.0      3.0  2.139470e-04   \n",
       "1   ENSG00000076650.6   GPATCH1  0.000078  40.0      3.0  4.534390e-04   \n",
       "2  ENSG00000100906.10    NFKBIA  0.000096   1.0      1.0  9.591208e-05   \n",
       "3  ENSG00000136319.11      TTC5  0.000109  47.0      5.0  1.402826e-03   \n",
       "4  ENSG00000152990.13    ADGRA3  0.000135  41.0     12.0  3.211289e-07   \n",
       "\n",
       "                   t_i_best  p_i_worst                              t_i_worst  \\\n",
       "0             Artery_Tibial   0.990132  Brain_Nucleus_accumbens_basal_ganglia   \n",
       "1          Brain_Cerebellum   0.817384               Brain_Frontal_Cortex_BA9   \n",
       "2  Brain_Frontal_Cortex_BA9   0.000096               Brain_Frontal_Cortex_BA9   \n",
       "3         Brain_Hippocampus   0.961887                          Colon_Sigmoid   \n",
       "4    Heart_Atrial_Appendage   0.653657                            Whole_Blood   \n",
       "\n",
       "   eigen_max     eigen_min  eigen_min_kept     z_min     z_max    z_mean  \\\n",
       "0  36.556432  7.692089e-16        2.519701 -2.721185  3.701952  1.283152   \n",
       "1  29.990208  2.086487e-15        1.815203 -3.506853  2.383485 -2.016745   \n",
       "2   1.000000  1.000000e+00        1.000000 -3.900707 -3.900707 -3.900707   \n",
       "3  21.272442  8.142339e-16        0.732606 -3.194069  1.397514 -0.916662   \n",
       "4  12.988248  3.499412e-16        0.444682 -5.110605  3.599410 -0.464735   \n",
       "\n",
       "       z_sd   tmi  status  \n",
       "0  1.825567   3.0       0  \n",
       "1  1.715495   3.0       0  \n",
       "2       NaN   1.0       0  \n",
       "3  1.068989   5.0       0  \n",
       "4  2.316607  12.0       0  "
      ]
     },
     "execution_count": 6,
     "metadata": {},
     "output_type": "execute_result"
    }
   ],
   "source": [
    "_tmp.head()"
   ]
  },
  {
   "cell_type": "code",
   "execution_count": 7,
   "id": "df4e8a97-854f-4355-ac4f-d007f4fe3eab",
   "metadata": {},
   "outputs": [
    {
     "data": {
      "text/plain": [
       "22311"
      ]
     },
     "metadata": {},
     "output_type": "display_data"
    },
    {
     "data": {
      "text/plain": [
       "['TRIM3',\n",
       " 'AUNIP',\n",
       " 'SH2D3A',\n",
       " 'CHIT1',\n",
       " 'HBD',\n",
       " 'HEATR5A',\n",
       " 'NBN',\n",
       " 'NCSTN',\n",
       " 'KCNK7',\n",
       " 'TMEM223']"
      ]
     },
     "metadata": {},
     "output_type": "display_data"
    }
   ],
   "source": [
    "multixcan_genes = set(_tmp[\"gene_name\"])\n",
    "display(len(multixcan_genes))\n",
    "display(list(multixcan_genes)[:10])"
   ]
  },
  {
   "cell_type": "markdown",
   "id": "e9c7f7f2-2995-4feb-8b74-00946b986433",
   "metadata": {},
   "source": [
    "# Load MultiPLIER Z matrix"
   ]
  },
  {
   "cell_type": "code",
   "execution_count": 8,
   "id": "737539d5-27c1-4eca-afe7-a762799e9a06",
   "metadata": {},
   "outputs": [],
   "source": [
    "multiplier_z = pd.read_pickle(conf.MULTIPLIER[\"MODEL_Z_MATRIX_FILE\"])"
   ]
  },
  {
   "cell_type": "code",
   "execution_count": 9,
   "id": "85f795b4-ac82-4638-8859-17fb6a9065d0",
   "metadata": {},
   "outputs": [
    {
     "data": {
      "text/plain": [
       "(6750, 987)"
      ]
     },
     "execution_count": 9,
     "metadata": {},
     "output_type": "execute_result"
    }
   ],
   "source": [
    "multiplier_z.shape"
   ]
  },
  {
   "cell_type": "code",
   "execution_count": 10,
   "id": "833629ef-50a0-4f1a-8e80-3666f14e45f4",
   "metadata": {},
   "outputs": [],
   "source": [
    "# keep genes only present in MultiXcan\n",
    "multiplier_z = multiplier_z.loc[\n",
    "    sorted(multixcan_genes.intersection(multiplier_z.index))\n",
    "]"
   ]
  },
  {
   "cell_type": "code",
   "execution_count": 11,
   "id": "412acd59-1134-4ee7-8b73-2d4552946735",
   "metadata": {},
   "outputs": [
    {
     "data": {
      "text/plain": [
       "(6446, 987)"
      ]
     },
     "execution_count": 11,
     "metadata": {},
     "output_type": "execute_result"
    }
   ],
   "source": [
    "multiplier_z.shape"
   ]
  },
  {
   "cell_type": "code",
   "execution_count": 12,
   "id": "1d7ae2a5-f63d-415b-b509-0fc4ea278a40",
   "metadata": {},
   "outputs": [
    {
     "data": {
      "text/html": [
       "<div>\n",
       "<style scoped>\n",
       "    .dataframe tbody tr th:only-of-type {\n",
       "        vertical-align: middle;\n",
       "    }\n",
       "\n",
       "    .dataframe tbody tr th {\n",
       "        vertical-align: top;\n",
       "    }\n",
       "\n",
       "    .dataframe thead th {\n",
       "        text-align: right;\n",
       "    }\n",
       "</style>\n",
       "<table border=\"1\" class=\"dataframe\">\n",
       "  <thead>\n",
       "    <tr style=\"text-align: right;\">\n",
       "      <th></th>\n",
       "      <th>LV1</th>\n",
       "      <th>LV2</th>\n",
       "      <th>LV3</th>\n",
       "      <th>LV4</th>\n",
       "      <th>LV5</th>\n",
       "      <th>LV6</th>\n",
       "      <th>LV7</th>\n",
       "      <th>LV8</th>\n",
       "      <th>LV9</th>\n",
       "      <th>LV10</th>\n",
       "      <th>...</th>\n",
       "      <th>LV978</th>\n",
       "      <th>LV979</th>\n",
       "      <th>LV980</th>\n",
       "      <th>LV981</th>\n",
       "      <th>LV982</th>\n",
       "      <th>LV983</th>\n",
       "      <th>LV984</th>\n",
       "      <th>LV985</th>\n",
       "      <th>LV986</th>\n",
       "      <th>LV987</th>\n",
       "    </tr>\n",
       "  </thead>\n",
       "  <tbody>\n",
       "    <tr>\n",
       "      <th>A2M</th>\n",
       "      <td>0.000000</td>\n",
       "      <td>0.000000</td>\n",
       "      <td>0.000000</td>\n",
       "      <td>0.078428</td>\n",
       "      <td>0.0</td>\n",
       "      <td>0.00000</td>\n",
       "      <td>0.000000</td>\n",
       "      <td>0.046772</td>\n",
       "      <td>0.000000</td>\n",
       "      <td>0.011033</td>\n",
       "      <td>...</td>\n",
       "      <td>0.010910</td>\n",
       "      <td>0.000000</td>\n",
       "      <td>0.052869</td>\n",
       "      <td>0.012749</td>\n",
       "      <td>0.0</td>\n",
       "      <td>0.013982</td>\n",
       "      <td>0.152241</td>\n",
       "      <td>0.000000</td>\n",
       "      <td>0.000000</td>\n",
       "      <td>0.108884</td>\n",
       "    </tr>\n",
       "    <tr>\n",
       "      <th>AAAS</th>\n",
       "      <td>0.271162</td>\n",
       "      <td>0.000000</td>\n",
       "      <td>0.000000</td>\n",
       "      <td>0.000000</td>\n",
       "      <td>0.0</td>\n",
       "      <td>0.00000</td>\n",
       "      <td>0.000000</td>\n",
       "      <td>0.000000</td>\n",
       "      <td>1.513337</td>\n",
       "      <td>0.000000</td>\n",
       "      <td>...</td>\n",
       "      <td>0.000000</td>\n",
       "      <td>0.000000</td>\n",
       "      <td>0.000000</td>\n",
       "      <td>0.001385</td>\n",
       "      <td>0.0</td>\n",
       "      <td>0.000000</td>\n",
       "      <td>0.711896</td>\n",
       "      <td>0.030534</td>\n",
       "      <td>0.447105</td>\n",
       "      <td>0.424685</td>\n",
       "    </tr>\n",
       "    <tr>\n",
       "      <th>AANAT</th>\n",
       "      <td>0.005099</td>\n",
       "      <td>0.308497</td>\n",
       "      <td>0.028815</td>\n",
       "      <td>0.000000</td>\n",
       "      <td>0.0</td>\n",
       "      <td>0.00000</td>\n",
       "      <td>0.371725</td>\n",
       "      <td>0.000000</td>\n",
       "      <td>0.135238</td>\n",
       "      <td>0.000000</td>\n",
       "      <td>...</td>\n",
       "      <td>0.117163</td>\n",
       "      <td>0.018815</td>\n",
       "      <td>0.000000</td>\n",
       "      <td>0.193142</td>\n",
       "      <td>0.0</td>\n",
       "      <td>0.040401</td>\n",
       "      <td>0.180436</td>\n",
       "      <td>0.000000</td>\n",
       "      <td>0.000000</td>\n",
       "      <td>0.042064</td>\n",
       "    </tr>\n",
       "    <tr>\n",
       "      <th>AARS</th>\n",
       "      <td>0.512978</td>\n",
       "      <td>0.000000</td>\n",
       "      <td>0.451285</td>\n",
       "      <td>0.319568</td>\n",
       "      <td>0.0</td>\n",
       "      <td>0.00000</td>\n",
       "      <td>0.000000</td>\n",
       "      <td>0.000000</td>\n",
       "      <td>0.000000</td>\n",
       "      <td>0.000000</td>\n",
       "      <td>...</td>\n",
       "      <td>0.000000</td>\n",
       "      <td>0.000000</td>\n",
       "      <td>0.006208</td>\n",
       "      <td>0.021274</td>\n",
       "      <td>0.0</td>\n",
       "      <td>0.000000</td>\n",
       "      <td>0.062143</td>\n",
       "      <td>0.000000</td>\n",
       "      <td>0.000000</td>\n",
       "      <td>0.364892</td>\n",
       "    </tr>\n",
       "    <tr>\n",
       "      <th>AARS2</th>\n",
       "      <td>1.008157</td>\n",
       "      <td>0.000000</td>\n",
       "      <td>0.197424</td>\n",
       "      <td>0.024832</td>\n",
       "      <td>0.0</td>\n",
       "      <td>0.57081</td>\n",
       "      <td>0.000000</td>\n",
       "      <td>0.228675</td>\n",
       "      <td>0.000000</td>\n",
       "      <td>0.116243</td>\n",
       "      <td>...</td>\n",
       "      <td>0.000000</td>\n",
       "      <td>0.000000</td>\n",
       "      <td>0.153345</td>\n",
       "      <td>0.000000</td>\n",
       "      <td>0.0</td>\n",
       "      <td>0.000000</td>\n",
       "      <td>1.004578</td>\n",
       "      <td>0.014470</td>\n",
       "      <td>0.000000</td>\n",
       "      <td>0.000000</td>\n",
       "    </tr>\n",
       "  </tbody>\n",
       "</table>\n",
       "<p>5 rows × 987 columns</p>\n",
       "</div>"
      ],
      "text/plain": [
       "            LV1       LV2       LV3       LV4  LV5      LV6       LV7  \\\n",
       "A2M    0.000000  0.000000  0.000000  0.078428  0.0  0.00000  0.000000   \n",
       "AAAS   0.271162  0.000000  0.000000  0.000000  0.0  0.00000  0.000000   \n",
       "AANAT  0.005099  0.308497  0.028815  0.000000  0.0  0.00000  0.371725   \n",
       "AARS   0.512978  0.000000  0.451285  0.319568  0.0  0.00000  0.000000   \n",
       "AARS2  1.008157  0.000000  0.197424  0.024832  0.0  0.57081  0.000000   \n",
       "\n",
       "            LV8       LV9      LV10  ...     LV978     LV979     LV980  \\\n",
       "A2M    0.046772  0.000000  0.011033  ...  0.010910  0.000000  0.052869   \n",
       "AAAS   0.000000  1.513337  0.000000  ...  0.000000  0.000000  0.000000   \n",
       "AANAT  0.000000  0.135238  0.000000  ...  0.117163  0.018815  0.000000   \n",
       "AARS   0.000000  0.000000  0.000000  ...  0.000000  0.000000  0.006208   \n",
       "AARS2  0.228675  0.000000  0.116243  ...  0.000000  0.000000  0.153345   \n",
       "\n",
       "          LV981  LV982     LV983     LV984     LV985     LV986     LV987  \n",
       "A2M    0.012749    0.0  0.013982  0.152241  0.000000  0.000000  0.108884  \n",
       "AAAS   0.001385    0.0  0.000000  0.711896  0.030534  0.447105  0.424685  \n",
       "AANAT  0.193142    0.0  0.040401  0.180436  0.000000  0.000000  0.042064  \n",
       "AARS   0.021274    0.0  0.000000  0.062143  0.000000  0.000000  0.364892  \n",
       "AARS2  0.000000    0.0  0.000000  1.004578  0.014470  0.000000  0.000000  \n",
       "\n",
       "[5 rows x 987 columns]"
      ]
     },
     "execution_count": 12,
     "metadata": {},
     "output_type": "execute_result"
    }
   ],
   "source": [
    "multiplier_z.head()"
   ]
  },
  {
   "cell_type": "markdown",
   "id": "4cb0512c",
   "metadata": {
    "papermill": {
     "duration": 0.010426,
     "end_time": "2022-02-24T05:32:04.905993",
     "exception": false,
     "start_time": "2022-02-24T05:32:04.895567",
     "status": "completed"
    },
    "tags": []
   },
   "source": [
    "# Functions"
   ]
  },
  {
   "cell_type": "code",
   "execution_count": 13,
   "id": "8f147e50",
   "metadata": {},
   "outputs": [],
   "source": [
    "def show_prop(data, frac=0.05):\n",
    "    _pvalue_lt_frac = data[data[\"pvalue\"] < frac]\n",
    "    return _pvalue_lt_frac.shape[0] / data.shape[0]"
   ]
  },
  {
   "cell_type": "code",
   "execution_count": 14,
   "id": "247ac210-d958-47c5-8689-5d7bee1fc2c3",
   "metadata": {},
   "outputs": [],
   "source": [
    "def get_prop(pvalues, frac=0.05):\n",
    "    _pvalue_lt_frac = pvalues[pvalues < frac]\n",
    "    return _pvalue_lt_frac.shape[0] / pvalues.shape[0]"
   ]
  },
  {
   "cell_type": "code",
   "execution_count": 15,
   "id": "21b228aa-038d-4d7f-886c-c46e98e20d15",
   "metadata": {},
   "outputs": [],
   "source": [
    "assert get_prop(np.array([0.20, 0.50]), 0.05) == 0.0\n",
    "assert get_prop(np.array([0.20, 0.50, 0.75, 0.10, 0.04]), 0.05) == 0.2"
   ]
  },
  {
   "cell_type": "code",
   "execution_count": 16,
   "id": "6d41d11a-acf1-4165-9436-a9eda22ba6bb",
   "metadata": {},
   "outputs": [],
   "source": [
    "assert get_prop(pd.Series(np.array([0.20, 0.50])), 0.05) == 0.0\n",
    "assert get_prop(pd.Series(np.array([0.20, 0.50, 0.75, 0.10, 0.04])), 0.05) == 0.2"
   ]
  },
  {
   "cell_type": "code",
   "execution_count": 17,
   "id": "f9da2b93-e6e4-4d19-bb37-fcb15e03bb5d",
   "metadata": {},
   "outputs": [],
   "source": [
    "def qqplot_unif(results, other_results=None):\n",
    "    data = results[\"pvalue\"].to_numpy()\n",
    "    n = data.shape[0]\n",
    "    observed_data = -np.log10(data)\n",
    "\n",
    "    observed_lv = results[\"lv\"].unique()\n",
    "    assert len(observed_lv) == 1\n",
    "    observed_lv = observed_lv[0]\n",
    "\n",
    "    other_lv = \"\"\n",
    "    if other_results is not None:\n",
    "        other_data = other_results[\"pvalue\"].to_numpy()\n",
    "        expected_data = -np.log10(other_data)\n",
    "\n",
    "        other_lv = other_results[\"lv\"].unique()\n",
    "        assert len(other_lv) == 1\n",
    "        other_lv = other_lv[0]\n",
    "    else:\n",
    "        uniform_data = np.array([i / (n + 1) for i in range(1, n + 1)])\n",
    "        expected_data = -np.log10(uniform_data)\n",
    "\n",
    "    with sns.plotting_context(\"paper\", font_scale=1.8), mpl.rc_context(\n",
    "        {\"lines.markersize\": 3}\n",
    "    ):\n",
    "        fig, ax = plt.subplots(figsize=(8, 8))\n",
    "\n",
    "        fig = qqplot_2samples(expected_data, observed_data, line=\"45\", ax=ax)\n",
    "\n",
    "        ax.set_xlim(expected_data.min() - 0.05, expected_data.max() + 0.05)\n",
    "\n",
    "        ax.set_xlabel(f\"$-\\log_{10}$(expected pvalue) - {other_lv}\")\n",
    "        ax.set_ylabel(f\"$-\\log_{10}$(observed pvalue) - {observed_lv}\")\n",
    "        # ax.set_title(\"QQ-Plot\")"
   ]
  },
  {
   "cell_type": "code",
   "execution_count": 18,
   "id": "e8b4450a-7bde-4571-ba3a-e600d8212a7d",
   "metadata": {},
   "outputs": [],
   "source": [
    "def get_lv_genes(lv_code):\n",
    "    lv_genes = multiplier_z[lv_code].sort_values(ascending=False)\n",
    "    lv_obj = LVAnalysis(lv_code)\n",
    "    return lv_obj.lv_genes.set_index(\"gene_name\").loc[lv_genes.index]"
   ]
  },
  {
   "cell_type": "markdown",
   "id": "61c4fa5f",
   "metadata": {},
   "source": [
    "# Set input directory"
   ]
  },
  {
   "cell_type": "code",
   "execution_count": 19,
   "id": "628fdfdf-7858-4aee-96ce-cb74b5d505dd",
   "metadata": {},
   "outputs": [
    {
     "data": {
      "text/plain": [
       "PosixPath('/opt/data/results/gls/null_sims/phenoplier/gls-debug_use_ols')"
      ]
     },
     "metadata": {},
     "output_type": "display_data"
    }
   ],
   "source": [
    "input_directory = INPUT_DIR / \"gls-debug_use_ols\"\n",
    "display(input_directory)"
   ]
  },
  {
   "cell_type": "markdown",
   "id": "29a8e81c-fe49-44c2-880d-e2c4a5e305ba",
   "metadata": {},
   "source": [
    "# Get files list"
   ]
  },
  {
   "cell_type": "code",
   "execution_count": 20,
   "id": "f920bc02-8297-4bd9-8601-665f079cbf91",
   "metadata": {},
   "outputs": [
    {
     "data": {
      "text/plain": [
       "[PosixPath('/opt/data/results/gls/null_sims/phenoplier/gls-debug_use_ols/random.pheno988-gls_phenoplier.tsv.gz'),\n",
       " PosixPath('/opt/data/results/gls/null_sims/phenoplier/gls-debug_use_ols/random.pheno589-gls_phenoplier.tsv.gz'),\n",
       " PosixPath('/opt/data/results/gls/null_sims/phenoplier/gls-debug_use_ols/random.pheno385-gls_phenoplier.tsv.gz'),\n",
       " PosixPath('/opt/data/results/gls/null_sims/phenoplier/gls-debug_use_ols/random.pheno5-gls_phenoplier.tsv.gz'),\n",
       " PosixPath('/opt/data/results/gls/null_sims/phenoplier/gls-debug_use_ols/random.pheno74-gls_phenoplier.tsv.gz')]"
      ]
     },
     "metadata": {},
     "output_type": "display_data"
    }
   ],
   "source": [
    "INPUT_FILES = list(input_directory.glob(\"*.tsv.gz\"))\n",
    "display(INPUT_FILES[:5])"
   ]
  },
  {
   "cell_type": "markdown",
   "id": "5f2c6f72-9a30-4ced-bc9a-04b6b3b21384",
   "metadata": {},
   "source": [
    "# Load data"
   ]
  },
  {
   "cell_type": "code",
   "execution_count": 21,
   "id": "18ebfb6c",
   "metadata": {
    "papermill": {
     "duration": 0.023945,
     "end_time": "2022-02-24T05:32:04.808813",
     "exception": false,
     "start_time": "2022-02-24T05:32:04.784868",
     "status": "completed"
    },
    "tags": []
   },
   "outputs": [],
   "source": [
    "dfs = [\n",
    "    pd.read_csv(f, sep=\"\\t\").assign(phenotype=f.name.split(\"-\")[0]) for f in INPUT_FILES\n",
    "]"
   ]
  },
  {
   "cell_type": "code",
   "execution_count": 22,
   "id": "ac3b6041",
   "metadata": {
    "papermill": {
     "duration": 0.015781,
     "end_time": "2022-02-24T05:32:04.834694",
     "exception": false,
     "start_time": "2022-02-24T05:32:04.818913",
     "status": "completed"
    },
    "tags": []
   },
   "outputs": [
    {
     "data": {
      "text/plain": [
       "1000"
      ]
     },
     "metadata": {},
     "output_type": "display_data"
    }
   ],
   "source": [
    "display(len(dfs))\n",
    "assert len(dfs) == N_PHENOTYPES"
   ]
  },
  {
   "cell_type": "code",
   "execution_count": 23,
   "id": "d15f7346",
   "metadata": {
    "papermill": {
     "duration": 0.038689,
     "end_time": "2022-02-24T05:32:04.884154",
     "exception": false,
     "start_time": "2022-02-24T05:32:04.845465",
     "status": "completed"
    },
    "tags": []
   },
   "outputs": [],
   "source": [
    "dfs = pd.concat(dfs, axis=0, ignore_index=True)"
   ]
  },
  {
   "cell_type": "code",
   "execution_count": 24,
   "id": "7405b07c-b71a-4a8f-924b-f9ffc7a0b13a",
   "metadata": {},
   "outputs": [
    {
     "data": {
      "text/plain": [
       "(987000, 4)"
      ]
     },
     "metadata": {},
     "output_type": "display_data"
    }
   ],
   "source": [
    "display(dfs.shape)\n",
    "assert dfs.shape[0] == N_PHENOTYPES * N_LVS"
   ]
  },
  {
   "cell_type": "code",
   "execution_count": 25,
   "id": "228787ad-0cbb-4f3b-b964-0bc148a1a305",
   "metadata": {},
   "outputs": [
    {
     "data": {
      "text/html": [
       "<div>\n",
       "<style scoped>\n",
       "    .dataframe tbody tr th:only-of-type {\n",
       "        vertical-align: middle;\n",
       "    }\n",
       "\n",
       "    .dataframe tbody tr th {\n",
       "        vertical-align: top;\n",
       "    }\n",
       "\n",
       "    .dataframe thead th {\n",
       "        text-align: right;\n",
       "    }\n",
       "</style>\n",
       "<table border=\"1\" class=\"dataframe\">\n",
       "  <thead>\n",
       "    <tr style=\"text-align: right;\">\n",
       "      <th></th>\n",
       "      <th>lv</th>\n",
       "      <th>coef</th>\n",
       "      <th>pvalue</th>\n",
       "      <th>phenotype</th>\n",
       "    </tr>\n",
       "  </thead>\n",
       "  <tbody>\n",
       "    <tr>\n",
       "      <th>0</th>\n",
       "      <td>LV1</td>\n",
       "      <td>0.007085</td>\n",
       "      <td>0.284804</td>\n",
       "      <td>random.pheno988</td>\n",
       "    </tr>\n",
       "    <tr>\n",
       "      <th>1</th>\n",
       "      <td>LV2</td>\n",
       "      <td>0.016905</td>\n",
       "      <td>0.087406</td>\n",
       "      <td>random.pheno988</td>\n",
       "    </tr>\n",
       "    <tr>\n",
       "      <th>2</th>\n",
       "      <td>LV3</td>\n",
       "      <td>-0.009680</td>\n",
       "      <td>0.781394</td>\n",
       "      <td>random.pheno988</td>\n",
       "    </tr>\n",
       "    <tr>\n",
       "      <th>3</th>\n",
       "      <td>LV4</td>\n",
       "      <td>-0.012916</td>\n",
       "      <td>0.850054</td>\n",
       "      <td>random.pheno988</td>\n",
       "    </tr>\n",
       "    <tr>\n",
       "      <th>4</th>\n",
       "      <td>LV5</td>\n",
       "      <td>0.002446</td>\n",
       "      <td>0.422179</td>\n",
       "      <td>random.pheno988</td>\n",
       "    </tr>\n",
       "  </tbody>\n",
       "</table>\n",
       "</div>"
      ],
      "text/plain": [
       "    lv      coef    pvalue        phenotype\n",
       "0  LV1  0.007085  0.284804  random.pheno988\n",
       "1  LV2  0.016905  0.087406  random.pheno988\n",
       "2  LV3 -0.009680  0.781394  random.pheno988\n",
       "3  LV4 -0.012916  0.850054  random.pheno988\n",
       "4  LV5  0.002446  0.422179  random.pheno988"
      ]
     },
     "execution_count": 25,
     "metadata": {},
     "output_type": "execute_result"
    }
   ],
   "source": [
    "dfs.head()"
   ]
  },
  {
   "cell_type": "code",
   "execution_count": 26,
   "id": "97764d1b-af87-46a2-ab78-53df39b0dde3",
   "metadata": {},
   "outputs": [],
   "source": [
    "_tmp = dfs.groupby(\"phenotype\")[\"lv\"].nunique().unique()\n",
    "assert _tmp.shape[0] == 1\n",
    "assert _tmp[0] == N_LVS"
   ]
  },
  {
   "cell_type": "markdown",
   "id": "4c232891-42e5-4685-b015-6ae332164f58",
   "metadata": {},
   "source": [
    "# Mean type I error"
   ]
  },
  {
   "cell_type": "code",
   "execution_count": 27,
   "id": "3426beb7-84a6-4d3d-bdfd-36b4f8cf97bd",
   "metadata": {},
   "outputs": [
    {
     "data": {
      "text/plain": [
       "0.060587639311043565"
      ]
     },
     "execution_count": 27,
     "metadata": {},
     "output_type": "execute_result"
    }
   ],
   "source": [
    "show_prop(dfs)"
   ]
  },
  {
   "cell_type": "markdown",
   "id": "04513389-4d0e-4a8e-b403-851aaeb1b688",
   "metadata": {},
   "source": [
    "It should be around 0.05. Let's check what happened at individual LVs."
   ]
  },
  {
   "cell_type": "markdown",
   "id": "c1b22d64-a75f-4380-9c86-b869a1c97072",
   "metadata": {},
   "source": [
    "# Summary of mean type I error per LV"
   ]
  },
  {
   "cell_type": "code",
   "execution_count": 28,
   "id": "5c799efd-77dc-4955-b5b8-263c65779946",
   "metadata": {},
   "outputs": [],
   "source": [
    "summary_list = []\n",
    "for lv, lv_data in dfs.groupby(\"lv\"):\n",
    "    assert lv_data.shape[0] == N_PHENOTYPES\n",
    "\n",
    "    summary_list.append(\n",
    "        {\n",
    "            \"lv\": lv,\n",
    "            \"1\": get_prop(lv_data[\"pvalue\"], 0.01),\n",
    "            \"5\": get_prop(lv_data[\"pvalue\"], 0.05),\n",
    "            \"10\": get_prop(lv_data[\"pvalue\"], 0.10),\n",
    "        }\n",
    "    )\n",
    "\n",
    "summary_df = pd.DataFrame(summary_list)\n",
    "assert summary_df.shape[0] == N_LVS"
   ]
  },
  {
   "cell_type": "code",
   "execution_count": 29,
   "id": "16a5c34a-0337-4f15-b1ff-4b1bb00997f7",
   "metadata": {},
   "outputs": [
    {
     "data": {
      "text/plain": [
       "(987, 4)"
      ]
     },
     "execution_count": 29,
     "metadata": {},
     "output_type": "execute_result"
    }
   ],
   "source": [
    "summary_df.shape"
   ]
  },
  {
   "cell_type": "code",
   "execution_count": 30,
   "id": "3e1acb4a-00bb-4cea-9b47-9446a9382afe",
   "metadata": {},
   "outputs": [
    {
     "data": {
      "text/html": [
       "<div>\n",
       "<style scoped>\n",
       "    .dataframe tbody tr th:only-of-type {\n",
       "        vertical-align: middle;\n",
       "    }\n",
       "\n",
       "    .dataframe tbody tr th {\n",
       "        vertical-align: top;\n",
       "    }\n",
       "\n",
       "    .dataframe thead th {\n",
       "        text-align: right;\n",
       "    }\n",
       "</style>\n",
       "<table border=\"1\" class=\"dataframe\">\n",
       "  <thead>\n",
       "    <tr style=\"text-align: right;\">\n",
       "      <th></th>\n",
       "      <th>lv</th>\n",
       "      <th>1</th>\n",
       "      <th>5</th>\n",
       "      <th>10</th>\n",
       "    </tr>\n",
       "  </thead>\n",
       "  <tbody>\n",
       "    <tr>\n",
       "      <th>0</th>\n",
       "      <td>LV1</td>\n",
       "      <td>0.005</td>\n",
       "      <td>0.036</td>\n",
       "      <td>0.064</td>\n",
       "    </tr>\n",
       "    <tr>\n",
       "      <th>1</th>\n",
       "      <td>LV10</td>\n",
       "      <td>0.013</td>\n",
       "      <td>0.050</td>\n",
       "      <td>0.084</td>\n",
       "    </tr>\n",
       "    <tr>\n",
       "      <th>2</th>\n",
       "      <td>LV100</td>\n",
       "      <td>0.018</td>\n",
       "      <td>0.052</td>\n",
       "      <td>0.098</td>\n",
       "    </tr>\n",
       "    <tr>\n",
       "      <th>3</th>\n",
       "      <td>LV101</td>\n",
       "      <td>0.018</td>\n",
       "      <td>0.051</td>\n",
       "      <td>0.096</td>\n",
       "    </tr>\n",
       "    <tr>\n",
       "      <th>4</th>\n",
       "      <td>LV102</td>\n",
       "      <td>0.011</td>\n",
       "      <td>0.056</td>\n",
       "      <td>0.100</td>\n",
       "    </tr>\n",
       "  </tbody>\n",
       "</table>\n",
       "</div>"
      ],
      "text/plain": [
       "      lv      1      5     10\n",
       "0    LV1  0.005  0.036  0.064\n",
       "1   LV10  0.013  0.050  0.084\n",
       "2  LV100  0.018  0.052  0.098\n",
       "3  LV101  0.018  0.051  0.096\n",
       "4  LV102  0.011  0.056  0.100"
      ]
     },
     "execution_count": 30,
     "metadata": {},
     "output_type": "execute_result"
    }
   ],
   "source": [
    "summary_df.head()"
   ]
  },
  {
   "cell_type": "code",
   "execution_count": 31,
   "id": "779c4db3-3ed2-413d-8bec-b19a28ce4949",
   "metadata": {},
   "outputs": [
    {
     "data": {
      "text/html": [
       "<div>\n",
       "<style scoped>\n",
       "    .dataframe tbody tr th:only-of-type {\n",
       "        vertical-align: middle;\n",
       "    }\n",
       "\n",
       "    .dataframe tbody tr th {\n",
       "        vertical-align: top;\n",
       "    }\n",
       "\n",
       "    .dataframe thead th {\n",
       "        text-align: right;\n",
       "    }\n",
       "</style>\n",
       "<table border=\"1\" class=\"dataframe\">\n",
       "  <thead>\n",
       "    <tr style=\"text-align: right;\">\n",
       "      <th></th>\n",
       "      <th>1</th>\n",
       "      <th>5</th>\n",
       "      <th>10</th>\n",
       "    </tr>\n",
       "  </thead>\n",
       "  <tbody>\n",
       "    <tr>\n",
       "      <th>count</th>\n",
       "      <td>987.000000</td>\n",
       "      <td>987.000000</td>\n",
       "      <td>987.000000</td>\n",
       "    </tr>\n",
       "    <tr>\n",
       "      <th>mean</th>\n",
       "      <td>0.016720</td>\n",
       "      <td>0.060588</td>\n",
       "      <td>0.108664</td>\n",
       "    </tr>\n",
       "    <tr>\n",
       "      <th>std</th>\n",
       "      <td>0.007981</td>\n",
       "      <td>0.015704</td>\n",
       "      <td>0.022071</td>\n",
       "    </tr>\n",
       "    <tr>\n",
       "      <th>min</th>\n",
       "      <td>0.002000</td>\n",
       "      <td>0.015000</td>\n",
       "      <td>0.032000</td>\n",
       "    </tr>\n",
       "    <tr>\n",
       "      <th>25%</th>\n",
       "      <td>0.012000</td>\n",
       "      <td>0.050000</td>\n",
       "      <td>0.095000</td>\n",
       "    </tr>\n",
       "    <tr>\n",
       "      <th>50%</th>\n",
       "      <td>0.016000</td>\n",
       "      <td>0.060000</td>\n",
       "      <td>0.108000</td>\n",
       "    </tr>\n",
       "    <tr>\n",
       "      <th>75%</th>\n",
       "      <td>0.020000</td>\n",
       "      <td>0.069000</td>\n",
       "      <td>0.122000</td>\n",
       "    </tr>\n",
       "    <tr>\n",
       "      <th>max</th>\n",
       "      <td>0.104000</td>\n",
       "      <td>0.158000</td>\n",
       "      <td>0.219000</td>\n",
       "    </tr>\n",
       "  </tbody>\n",
       "</table>\n",
       "</div>"
      ],
      "text/plain": [
       "                1           5          10\n",
       "count  987.000000  987.000000  987.000000\n",
       "mean     0.016720    0.060588    0.108664\n",
       "std      0.007981    0.015704    0.022071\n",
       "min      0.002000    0.015000    0.032000\n",
       "25%      0.012000    0.050000    0.095000\n",
       "50%      0.016000    0.060000    0.108000\n",
       "75%      0.020000    0.069000    0.122000\n",
       "max      0.104000    0.158000    0.219000"
      ]
     },
     "execution_count": 31,
     "metadata": {},
     "output_type": "execute_result"
    }
   ],
   "source": [
    "summary_df.describe()"
   ]
  },
  {
   "cell_type": "markdown",
   "id": "43daf9dd-7530-4e53-8fc0-305aa78b5be3",
   "metadata": {},
   "source": [
    "## LVs with expected type I error"
   ]
  },
  {
   "cell_type": "code",
   "execution_count": 32,
   "id": "4b22226f-edc7-4af5-8585-e2dbb6fcbe9e",
   "metadata": {},
   "outputs": [
    {
     "data": {
      "text/plain": [
       "(80, 4)"
      ]
     },
     "metadata": {},
     "output_type": "display_data"
    },
    {
     "data": {
      "text/html": [
       "<div>\n",
       "<style scoped>\n",
       "    .dataframe tbody tr th:only-of-type {\n",
       "        vertical-align: middle;\n",
       "    }\n",
       "\n",
       "    .dataframe tbody tr th {\n",
       "        vertical-align: top;\n",
       "    }\n",
       "\n",
       "    .dataframe thead th {\n",
       "        text-align: right;\n",
       "    }\n",
       "</style>\n",
       "<table border=\"1\" class=\"dataframe\">\n",
       "  <thead>\n",
       "    <tr style=\"text-align: right;\">\n",
       "      <th></th>\n",
       "      <th>lv</th>\n",
       "      <th>1</th>\n",
       "      <th>5</th>\n",
       "      <th>10</th>\n",
       "    </tr>\n",
       "  </thead>\n",
       "  <tbody>\n",
       "    <tr>\n",
       "      <th>519</th>\n",
       "      <td>LV567</td>\n",
       "      <td>0.016</td>\n",
       "      <td>0.049</td>\n",
       "      <td>0.097</td>\n",
       "    </tr>\n",
       "    <tr>\n",
       "      <th>523</th>\n",
       "      <td>LV570</td>\n",
       "      <td>0.016</td>\n",
       "      <td>0.049</td>\n",
       "      <td>0.084</td>\n",
       "    </tr>\n",
       "    <tr>\n",
       "      <th>693</th>\n",
       "      <td>LV723</td>\n",
       "      <td>0.013</td>\n",
       "      <td>0.049</td>\n",
       "      <td>0.107</td>\n",
       "    </tr>\n",
       "    <tr>\n",
       "      <th>348</th>\n",
       "      <td>LV412</td>\n",
       "      <td>0.009</td>\n",
       "      <td>0.049</td>\n",
       "      <td>0.100</td>\n",
       "    </tr>\n",
       "    <tr>\n",
       "      <th>664</th>\n",
       "      <td>LV698</td>\n",
       "      <td>0.008</td>\n",
       "      <td>0.049</td>\n",
       "      <td>0.092</td>\n",
       "    </tr>\n",
       "    <tr>\n",
       "      <th>379</th>\n",
       "      <td>LV440</td>\n",
       "      <td>0.008</td>\n",
       "      <td>0.049</td>\n",
       "      <td>0.092</td>\n",
       "    </tr>\n",
       "    <tr>\n",
       "      <th>388</th>\n",
       "      <td>LV449</td>\n",
       "      <td>0.014</td>\n",
       "      <td>0.049</td>\n",
       "      <td>0.093</td>\n",
       "    </tr>\n",
       "    <tr>\n",
       "      <th>640</th>\n",
       "      <td>LV676</td>\n",
       "      <td>0.012</td>\n",
       "      <td>0.049</td>\n",
       "      <td>0.094</td>\n",
       "    </tr>\n",
       "    <tr>\n",
       "      <th>624</th>\n",
       "      <td>LV661</td>\n",
       "      <td>0.010</td>\n",
       "      <td>0.049</td>\n",
       "      <td>0.112</td>\n",
       "    </tr>\n",
       "    <tr>\n",
       "      <th>609</th>\n",
       "      <td>LV648</td>\n",
       "      <td>0.007</td>\n",
       "      <td>0.049</td>\n",
       "      <td>0.087</td>\n",
       "    </tr>\n",
       "    <tr>\n",
       "      <th>608</th>\n",
       "      <td>LV647</td>\n",
       "      <td>0.009</td>\n",
       "      <td>0.049</td>\n",
       "      <td>0.084</td>\n",
       "    </tr>\n",
       "    <tr>\n",
       "      <th>590</th>\n",
       "      <td>LV630</td>\n",
       "      <td>0.012</td>\n",
       "      <td>0.049</td>\n",
       "      <td>0.082</td>\n",
       "    </tr>\n",
       "    <tr>\n",
       "      <th>462</th>\n",
       "      <td>LV515</td>\n",
       "      <td>0.017</td>\n",
       "      <td>0.049</td>\n",
       "      <td>0.097</td>\n",
       "    </tr>\n",
       "    <tr>\n",
       "      <th>470</th>\n",
       "      <td>LV522</td>\n",
       "      <td>0.017</td>\n",
       "      <td>0.049</td>\n",
       "      <td>0.092</td>\n",
       "    </tr>\n",
       "    <tr>\n",
       "      <th>530</th>\n",
       "      <td>LV577</td>\n",
       "      <td>0.016</td>\n",
       "      <td>0.049</td>\n",
       "      <td>0.098</td>\n",
       "    </tr>\n",
       "    <tr>\n",
       "      <th>522</th>\n",
       "      <td>LV57</td>\n",
       "      <td>0.012</td>\n",
       "      <td>0.049</td>\n",
       "      <td>0.093</td>\n",
       "    </tr>\n",
       "    <tr>\n",
       "      <th>762</th>\n",
       "      <td>LV786</td>\n",
       "      <td>0.006</td>\n",
       "      <td>0.049</td>\n",
       "      <td>0.100</td>\n",
       "    </tr>\n",
       "    <tr>\n",
       "      <th>783</th>\n",
       "      <td>LV804</td>\n",
       "      <td>0.012</td>\n",
       "      <td>0.049</td>\n",
       "      <td>0.086</td>\n",
       "    </tr>\n",
       "    <tr>\n",
       "      <th>298</th>\n",
       "      <td>LV368</td>\n",
       "      <td>0.007</td>\n",
       "      <td>0.049</td>\n",
       "      <td>0.099</td>\n",
       "    </tr>\n",
       "    <tr>\n",
       "      <th>881</th>\n",
       "      <td>LV893</td>\n",
       "      <td>0.016</td>\n",
       "      <td>0.049</td>\n",
       "      <td>0.105</td>\n",
       "    </tr>\n",
       "  </tbody>\n",
       "</table>\n",
       "</div>"
      ],
      "text/plain": [
       "        lv      1      5     10\n",
       "519  LV567  0.016  0.049  0.097\n",
       "523  LV570  0.016  0.049  0.084\n",
       "693  LV723  0.013  0.049  0.107\n",
       "348  LV412  0.009  0.049  0.100\n",
       "664  LV698  0.008  0.049  0.092\n",
       "379  LV440  0.008  0.049  0.092\n",
       "388  LV449  0.014  0.049  0.093\n",
       "640  LV676  0.012  0.049  0.094\n",
       "624  LV661  0.010  0.049  0.112\n",
       "609  LV648  0.007  0.049  0.087\n",
       "608  LV647  0.009  0.049  0.084\n",
       "590  LV630  0.012  0.049  0.082\n",
       "462  LV515  0.017  0.049  0.097\n",
       "470  LV522  0.017  0.049  0.092\n",
       "530  LV577  0.016  0.049  0.098\n",
       "522   LV57  0.012  0.049  0.093\n",
       "762  LV786  0.006  0.049  0.100\n",
       "783  LV804  0.012  0.049  0.086\n",
       "298  LV368  0.007  0.049  0.099\n",
       "881  LV893  0.016  0.049  0.105"
      ]
     },
     "metadata": {},
     "output_type": "display_data"
    },
    {
     "data": {
      "text/html": [
       "<div>\n",
       "<style scoped>\n",
       "    .dataframe tbody tr th:only-of-type {\n",
       "        vertical-align: middle;\n",
       "    }\n",
       "\n",
       "    .dataframe tbody tr th {\n",
       "        vertical-align: top;\n",
       "    }\n",
       "\n",
       "    .dataframe thead th {\n",
       "        text-align: right;\n",
       "    }\n",
       "</style>\n",
       "<table border=\"1\" class=\"dataframe\">\n",
       "  <thead>\n",
       "    <tr style=\"text-align: right;\">\n",
       "      <th></th>\n",
       "      <th>lv</th>\n",
       "      <th>1</th>\n",
       "      <th>5</th>\n",
       "      <th>10</th>\n",
       "    </tr>\n",
       "  </thead>\n",
       "  <tbody>\n",
       "    <tr>\n",
       "      <th>61</th>\n",
       "      <td>LV154</td>\n",
       "      <td>0.010</td>\n",
       "      <td>0.051</td>\n",
       "      <td>0.096</td>\n",
       "    </tr>\n",
       "    <tr>\n",
       "      <th>70</th>\n",
       "      <td>LV162</td>\n",
       "      <td>0.013</td>\n",
       "      <td>0.051</td>\n",
       "      <td>0.105</td>\n",
       "    </tr>\n",
       "    <tr>\n",
       "      <th>917</th>\n",
       "      <td>LV925</td>\n",
       "      <td>0.011</td>\n",
       "      <td>0.051</td>\n",
       "      <td>0.107</td>\n",
       "    </tr>\n",
       "    <tr>\n",
       "      <th>15</th>\n",
       "      <td>LV112</td>\n",
       "      <td>0.013</td>\n",
       "      <td>0.051</td>\n",
       "      <td>0.091</td>\n",
       "    </tr>\n",
       "    <tr>\n",
       "      <th>934</th>\n",
       "      <td>LV940</td>\n",
       "      <td>0.012</td>\n",
       "      <td>0.051</td>\n",
       "      <td>0.087</td>\n",
       "    </tr>\n",
       "    <tr>\n",
       "      <th>3</th>\n",
       "      <td>LV101</td>\n",
       "      <td>0.018</td>\n",
       "      <td>0.051</td>\n",
       "      <td>0.096</td>\n",
       "    </tr>\n",
       "    <tr>\n",
       "      <th>976</th>\n",
       "      <td>LV979</td>\n",
       "      <td>0.013</td>\n",
       "      <td>0.051</td>\n",
       "      <td>0.108</td>\n",
       "    </tr>\n",
       "    <tr>\n",
       "      <th>227</th>\n",
       "      <td>LV303</td>\n",
       "      <td>0.011</td>\n",
       "      <td>0.051</td>\n",
       "      <td>0.101</td>\n",
       "    </tr>\n",
       "    <tr>\n",
       "      <th>347</th>\n",
       "      <td>LV411</td>\n",
       "      <td>0.012</td>\n",
       "      <td>0.051</td>\n",
       "      <td>0.112</td>\n",
       "    </tr>\n",
       "    <tr>\n",
       "      <th>358</th>\n",
       "      <td>LV421</td>\n",
       "      <td>0.011</td>\n",
       "      <td>0.051</td>\n",
       "      <td>0.091</td>\n",
       "    </tr>\n",
       "    <tr>\n",
       "      <th>635</th>\n",
       "      <td>LV671</td>\n",
       "      <td>0.010</td>\n",
       "      <td>0.051</td>\n",
       "      <td>0.090</td>\n",
       "    </tr>\n",
       "    <tr>\n",
       "      <th>407</th>\n",
       "      <td>LV466</td>\n",
       "      <td>0.013</td>\n",
       "      <td>0.051</td>\n",
       "      <td>0.115</td>\n",
       "    </tr>\n",
       "    <tr>\n",
       "      <th>415</th>\n",
       "      <td>LV473</td>\n",
       "      <td>0.015</td>\n",
       "      <td>0.051</td>\n",
       "      <td>0.115</td>\n",
       "    </tr>\n",
       "    <tr>\n",
       "      <th>426</th>\n",
       "      <td>LV483</td>\n",
       "      <td>0.015</td>\n",
       "      <td>0.051</td>\n",
       "      <td>0.089</td>\n",
       "    </tr>\n",
       "    <tr>\n",
       "      <th>432</th>\n",
       "      <td>LV489</td>\n",
       "      <td>0.007</td>\n",
       "      <td>0.051</td>\n",
       "      <td>0.097</td>\n",
       "    </tr>\n",
       "    <tr>\n",
       "      <th>560</th>\n",
       "      <td>LV603</td>\n",
       "      <td>0.016</td>\n",
       "      <td>0.051</td>\n",
       "      <td>0.097</td>\n",
       "    </tr>\n",
       "    <tr>\n",
       "      <th>490</th>\n",
       "      <td>LV540</td>\n",
       "      <td>0.016</td>\n",
       "      <td>0.051</td>\n",
       "      <td>0.104</td>\n",
       "    </tr>\n",
       "    <tr>\n",
       "      <th>508</th>\n",
       "      <td>LV557</td>\n",
       "      <td>0.009</td>\n",
       "      <td>0.051</td>\n",
       "      <td>0.076</td>\n",
       "    </tr>\n",
       "    <tr>\n",
       "      <th>214</th>\n",
       "      <td>LV292</td>\n",
       "      <td>0.012</td>\n",
       "      <td>0.051</td>\n",
       "      <td>0.092</td>\n",
       "    </tr>\n",
       "    <tr>\n",
       "      <th>986</th>\n",
       "      <td>LV99</td>\n",
       "      <td>0.014</td>\n",
       "      <td>0.051</td>\n",
       "      <td>0.106</td>\n",
       "    </tr>\n",
       "  </tbody>\n",
       "</table>\n",
       "</div>"
      ],
      "text/plain": [
       "        lv      1      5     10\n",
       "61   LV154  0.010  0.051  0.096\n",
       "70   LV162  0.013  0.051  0.105\n",
       "917  LV925  0.011  0.051  0.107\n",
       "15   LV112  0.013  0.051  0.091\n",
       "934  LV940  0.012  0.051  0.087\n",
       "3    LV101  0.018  0.051  0.096\n",
       "976  LV979  0.013  0.051  0.108\n",
       "227  LV303  0.011  0.051  0.101\n",
       "347  LV411  0.012  0.051  0.112\n",
       "358  LV421  0.011  0.051  0.091\n",
       "635  LV671  0.010  0.051  0.090\n",
       "407  LV466  0.013  0.051  0.115\n",
       "415  LV473  0.015  0.051  0.115\n",
       "426  LV483  0.015  0.051  0.089\n",
       "432  LV489  0.007  0.051  0.097\n",
       "560  LV603  0.016  0.051  0.097\n",
       "490  LV540  0.016  0.051  0.104\n",
       "508  LV557  0.009  0.051  0.076\n",
       "214  LV292  0.012  0.051  0.092\n",
       "986   LV99  0.014  0.051  0.106"
      ]
     },
     "metadata": {},
     "output_type": "display_data"
    }
   ],
   "source": [
    "lvs_expected_error = summary_df[summary_df[\"5\"].between(0.049, 0.051)]\n",
    "display(lvs_expected_error.shape)\n",
    "display(lvs_expected_error.sort_values(\"5\").head(20))\n",
    "display(lvs_expected_error.sort_values(\"5\").tail(20))"
   ]
  },
  {
   "cell_type": "markdown",
   "id": "9dcc030a-74be-4d04-b2b6-654a4443fbd9",
   "metadata": {},
   "source": [
    "## LVs with high type I error"
   ]
  },
  {
   "cell_type": "code",
   "execution_count": 33,
   "id": "31c5f1c6-10d7-4b2a-9429-b59e6ba3c594",
   "metadata": {},
   "outputs": [
    {
     "data": {
      "text/plain": [
       "(460, 4)"
      ]
     },
     "metadata": {},
     "output_type": "display_data"
    },
    {
     "data": {
      "text/html": [
       "<div>\n",
       "<style scoped>\n",
       "    .dataframe tbody tr th:only-of-type {\n",
       "        vertical-align: middle;\n",
       "    }\n",
       "\n",
       "    .dataframe tbody tr th {\n",
       "        vertical-align: top;\n",
       "    }\n",
       "\n",
       "    .dataframe thead th {\n",
       "        text-align: right;\n",
       "    }\n",
       "</style>\n",
       "<table border=\"1\" class=\"dataframe\">\n",
       "  <thead>\n",
       "    <tr style=\"text-align: right;\">\n",
       "      <th></th>\n",
       "      <th>lv</th>\n",
       "      <th>1</th>\n",
       "      <th>5</th>\n",
       "      <th>10</th>\n",
       "    </tr>\n",
       "  </thead>\n",
       "  <tbody>\n",
       "    <tr>\n",
       "      <th>199</th>\n",
       "      <td>LV279</td>\n",
       "      <td>0.026</td>\n",
       "      <td>0.095</td>\n",
       "      <td>0.150</td>\n",
       "    </tr>\n",
       "    <tr>\n",
       "      <th>631</th>\n",
       "      <td>LV668</td>\n",
       "      <td>0.032</td>\n",
       "      <td>0.096</td>\n",
       "      <td>0.166</td>\n",
       "    </tr>\n",
       "    <tr>\n",
       "      <th>190</th>\n",
       "      <td>LV270</td>\n",
       "      <td>0.033</td>\n",
       "      <td>0.096</td>\n",
       "      <td>0.163</td>\n",
       "    </tr>\n",
       "    <tr>\n",
       "      <th>213</th>\n",
       "      <td>LV291</td>\n",
       "      <td>0.042</td>\n",
       "      <td>0.098</td>\n",
       "      <td>0.141</td>\n",
       "    </tr>\n",
       "    <tr>\n",
       "      <th>28</th>\n",
       "      <td>LV124</td>\n",
       "      <td>0.036</td>\n",
       "      <td>0.101</td>\n",
       "      <td>0.150</td>\n",
       "    </tr>\n",
       "    <tr>\n",
       "      <th>382</th>\n",
       "      <td>LV443</td>\n",
       "      <td>0.040</td>\n",
       "      <td>0.101</td>\n",
       "      <td>0.134</td>\n",
       "    </tr>\n",
       "    <tr>\n",
       "      <th>471</th>\n",
       "      <td>LV523</td>\n",
       "      <td>0.033</td>\n",
       "      <td>0.102</td>\n",
       "      <td>0.171</td>\n",
       "    </tr>\n",
       "    <tr>\n",
       "      <th>142</th>\n",
       "      <td>LV227</td>\n",
       "      <td>0.043</td>\n",
       "      <td>0.103</td>\n",
       "      <td>0.144</td>\n",
       "    </tr>\n",
       "    <tr>\n",
       "      <th>557</th>\n",
       "      <td>LV600</td>\n",
       "      <td>0.034</td>\n",
       "      <td>0.104</td>\n",
       "      <td>0.181</td>\n",
       "    </tr>\n",
       "    <tr>\n",
       "      <th>961</th>\n",
       "      <td>LV965</td>\n",
       "      <td>0.039</td>\n",
       "      <td>0.104</td>\n",
       "      <td>0.155</td>\n",
       "    </tr>\n",
       "    <tr>\n",
       "      <th>99</th>\n",
       "      <td>LV189</td>\n",
       "      <td>0.031</td>\n",
       "      <td>0.105</td>\n",
       "      <td>0.163</td>\n",
       "    </tr>\n",
       "    <tr>\n",
       "      <th>167</th>\n",
       "      <td>LV25</td>\n",
       "      <td>0.043</td>\n",
       "      <td>0.106</td>\n",
       "      <td>0.162</td>\n",
       "    </tr>\n",
       "    <tr>\n",
       "      <th>542</th>\n",
       "      <td>LV588</td>\n",
       "      <td>0.018</td>\n",
       "      <td>0.108</td>\n",
       "      <td>0.175</td>\n",
       "    </tr>\n",
       "    <tr>\n",
       "      <th>265</th>\n",
       "      <td>LV338</td>\n",
       "      <td>0.046</td>\n",
       "      <td>0.112</td>\n",
       "      <td>0.163</td>\n",
       "    </tr>\n",
       "    <tr>\n",
       "      <th>779</th>\n",
       "      <td>LV800</td>\n",
       "      <td>0.048</td>\n",
       "      <td>0.116</td>\n",
       "      <td>0.181</td>\n",
       "    </tr>\n",
       "    <tr>\n",
       "      <th>743</th>\n",
       "      <td>LV769</td>\n",
       "      <td>0.038</td>\n",
       "      <td>0.120</td>\n",
       "      <td>0.198</td>\n",
       "    </tr>\n",
       "    <tr>\n",
       "      <th>13</th>\n",
       "      <td>LV110</td>\n",
       "      <td>0.077</td>\n",
       "      <td>0.127</td>\n",
       "      <td>0.178</td>\n",
       "    </tr>\n",
       "    <tr>\n",
       "      <th>830</th>\n",
       "      <td>LV847</td>\n",
       "      <td>0.091</td>\n",
       "      <td>0.143</td>\n",
       "      <td>0.191</td>\n",
       "    </tr>\n",
       "    <tr>\n",
       "      <th>150</th>\n",
       "      <td>LV234</td>\n",
       "      <td>0.086</td>\n",
       "      <td>0.154</td>\n",
       "      <td>0.209</td>\n",
       "    </tr>\n",
       "    <tr>\n",
       "      <th>389</th>\n",
       "      <td>LV45</td>\n",
       "      <td>0.104</td>\n",
       "      <td>0.158</td>\n",
       "      <td>0.219</td>\n",
       "    </tr>\n",
       "  </tbody>\n",
       "</table>\n",
       "</div>"
      ],
      "text/plain": [
       "        lv      1      5     10\n",
       "199  LV279  0.026  0.095  0.150\n",
       "631  LV668  0.032  0.096  0.166\n",
       "190  LV270  0.033  0.096  0.163\n",
       "213  LV291  0.042  0.098  0.141\n",
       "28   LV124  0.036  0.101  0.150\n",
       "382  LV443  0.040  0.101  0.134\n",
       "471  LV523  0.033  0.102  0.171\n",
       "142  LV227  0.043  0.103  0.144\n",
       "557  LV600  0.034  0.104  0.181\n",
       "961  LV965  0.039  0.104  0.155\n",
       "99   LV189  0.031  0.105  0.163\n",
       "167   LV25  0.043  0.106  0.162\n",
       "542  LV588  0.018  0.108  0.175\n",
       "265  LV338  0.046  0.112  0.163\n",
       "779  LV800  0.048  0.116  0.181\n",
       "743  LV769  0.038  0.120  0.198\n",
       "13   LV110  0.077  0.127  0.178\n",
       "830  LV847  0.091  0.143  0.191\n",
       "150  LV234  0.086  0.154  0.209\n",
       "389   LV45  0.104  0.158  0.219"
      ]
     },
     "metadata": {},
     "output_type": "display_data"
    }
   ],
   "source": [
    "lvs_high_error = summary_df[summary_df[\"5\"] > 0.06]\n",
    "display(lvs_high_error.shape)\n",
    "# display(lvs_high_error.sort_values(\"5\").head(20))\n",
    "display(lvs_high_error.sort_values(\"5\").tail(20))"
   ]
  },
  {
   "cell_type": "markdown",
   "id": "36837b6d-b33b-486b-a8ac-ddba2f1bdda6",
   "metadata": {},
   "source": [
    "Many LVs have a mean type I error greater than expected.\n",
    "\n",
    "LV45 has the largest mean type I error (0.158). Let's take a look at these LVs with poor mean type I errors."
   ]
  },
  {
   "cell_type": "markdown",
   "id": "30b3db3f-3b33-4bac-a3ea-d728e32d1e6a",
   "metadata": {},
   "source": [
    "# LVs with high mean type I error"
   ]
  },
  {
   "cell_type": "code",
   "execution_count": 34,
   "id": "5a856848-111a-4271-b3b7-07cdb8a4f758",
   "metadata": {},
   "outputs": [],
   "source": [
    "lv_results_high = {}"
   ]
  },
  {
   "cell_type": "markdown",
   "id": "dbcaad33-5b8f-4f2d-a28e-edb1504724e9",
   "metadata": {},
   "source": [
    "## LV45"
   ]
  },
  {
   "cell_type": "code",
   "execution_count": 35,
   "id": "d0b7fd18-4d4b-4917-9768-0f19a7c698d7",
   "metadata": {},
   "outputs": [],
   "source": [
    "lv_code = \"LV45\""
   ]
  },
  {
   "cell_type": "code",
   "execution_count": 36,
   "id": "e1ff4bfa-280a-465a-ab83-1cc2bc42ff96",
   "metadata": {},
   "outputs": [],
   "source": [
    "results = dfs[dfs[\"lv\"] == lv_code]"
   ]
  },
  {
   "cell_type": "code",
   "execution_count": 37,
   "id": "d3038212-51a0-437c-80ec-cc6b919f1e7f",
   "metadata": {},
   "outputs": [
    {
     "data": {
      "text/plain": [
       "(1000, 4)"
      ]
     },
     "execution_count": 37,
     "metadata": {},
     "output_type": "execute_result"
    }
   ],
   "source": [
    "results.shape"
   ]
  },
  {
   "cell_type": "code",
   "execution_count": 38,
   "id": "2070d4d7-993a-443e-a164-b296c592fc7b",
   "metadata": {},
   "outputs": [
    {
     "data": {
      "text/html": [
       "<div>\n",
       "<style scoped>\n",
       "    .dataframe tbody tr th:only-of-type {\n",
       "        vertical-align: middle;\n",
       "    }\n",
       "\n",
       "    .dataframe tbody tr th {\n",
       "        vertical-align: top;\n",
       "    }\n",
       "\n",
       "    .dataframe thead th {\n",
       "        text-align: right;\n",
       "    }\n",
       "</style>\n",
       "<table border=\"1\" class=\"dataframe\">\n",
       "  <thead>\n",
       "    <tr style=\"text-align: right;\">\n",
       "      <th></th>\n",
       "      <th>lv</th>\n",
       "      <th>coef</th>\n",
       "      <th>pvalue</th>\n",
       "      <th>phenotype</th>\n",
       "    </tr>\n",
       "  </thead>\n",
       "  <tbody>\n",
       "    <tr>\n",
       "      <th>44</th>\n",
       "      <td>LV45</td>\n",
       "      <td>0.005419</td>\n",
       "      <td>0.331794</td>\n",
       "      <td>random.pheno988</td>\n",
       "    </tr>\n",
       "    <tr>\n",
       "      <th>1031</th>\n",
       "      <td>LV45</td>\n",
       "      <td>0.001082</td>\n",
       "      <td>0.465395</td>\n",
       "      <td>random.pheno589</td>\n",
       "    </tr>\n",
       "    <tr>\n",
       "      <th>2018</th>\n",
       "      <td>LV45</td>\n",
       "      <td>0.000133</td>\n",
       "      <td>0.495730</td>\n",
       "      <td>random.pheno385</td>\n",
       "    </tr>\n",
       "    <tr>\n",
       "      <th>3005</th>\n",
       "      <td>LV45</td>\n",
       "      <td>0.007096</td>\n",
       "      <td>0.284506</td>\n",
       "      <td>random.pheno5</td>\n",
       "    </tr>\n",
       "    <tr>\n",
       "      <th>3992</th>\n",
       "      <td>LV45</td>\n",
       "      <td>-0.009028</td>\n",
       "      <td>0.765655</td>\n",
       "      <td>random.pheno74</td>\n",
       "    </tr>\n",
       "  </tbody>\n",
       "</table>\n",
       "</div>"
      ],
      "text/plain": [
       "        lv      coef    pvalue        phenotype\n",
       "44    LV45  0.005419  0.331794  random.pheno988\n",
       "1031  LV45  0.001082  0.465395  random.pheno589\n",
       "2018  LV45  0.000133  0.495730  random.pheno385\n",
       "3005  LV45  0.007096  0.284506    random.pheno5\n",
       "3992  LV45 -0.009028  0.765655   random.pheno74"
      ]
     },
     "execution_count": 38,
     "metadata": {},
     "output_type": "execute_result"
    }
   ],
   "source": [
    "results.head()"
   ]
  },
  {
   "cell_type": "code",
   "execution_count": 39,
   "id": "fb5f38ce-e561-4b97-a33c-06d9b4b89edf",
   "metadata": {},
   "outputs": [],
   "source": [
    "# save for future reference\n",
    "lv_results_high[lv_code] = results"
   ]
  },
  {
   "cell_type": "markdown",
   "id": "9b3dea75-6e92-4e12-87cd-0b15c86dce48",
   "metadata": {},
   "source": [
    "### Mean type I errors at different thresholds"
   ]
  },
  {
   "cell_type": "code",
   "execution_count": 40,
   "id": "b7717344-7de4-480e-9844-fe76c475987d",
   "metadata": {},
   "outputs": [
    {
     "data": {
      "text/plain": [
       "0.104"
      ]
     },
     "execution_count": 40,
     "metadata": {},
     "output_type": "execute_result"
    }
   ],
   "source": [
    "show_prop(results, 0.01)"
   ]
  },
  {
   "cell_type": "code",
   "execution_count": 41,
   "id": "b01b57ec-d4c4-4174-bef4-1aef9953c378",
   "metadata": {},
   "outputs": [
    {
     "data": {
      "text/plain": [
       "0.158"
      ]
     },
     "execution_count": 41,
     "metadata": {},
     "output_type": "execute_result"
    }
   ],
   "source": [
    "show_prop(results, 0.05)"
   ]
  },
  {
   "cell_type": "code",
   "execution_count": 42,
   "id": "37632ecd-3a8b-4385-bd62-409f76e04dfe",
   "metadata": {},
   "outputs": [
    {
     "data": {
      "text/plain": [
       "0.219"
      ]
     },
     "execution_count": 42,
     "metadata": {},
     "output_type": "execute_result"
    }
   ],
   "source": [
    "show_prop(results, 0.10)"
   ]
  },
  {
   "cell_type": "code",
   "execution_count": 43,
   "id": "252001e5-4415-47e9-be83-389a619de686",
   "metadata": {},
   "outputs": [
    {
     "data": {
      "text/plain": [
       "0.266"
      ]
     },
     "execution_count": 43,
     "metadata": {},
     "output_type": "execute_result"
    }
   ],
   "source": [
    "show_prop(results, 0.15)"
   ]
  },
  {
   "cell_type": "code",
   "execution_count": 44,
   "id": "e4668836-17bb-4253-8ef3-a637b26029f8",
   "metadata": {},
   "outputs": [
    {
     "data": {
      "text/plain": [
       "0.292"
      ]
     },
     "execution_count": 44,
     "metadata": {},
     "output_type": "execute_result"
    }
   ],
   "source": [
    "show_prop(results, 0.20)"
   ]
  },
  {
   "cell_type": "markdown",
   "id": "25966a90-ff90-4db2-a574-3f9433f49bbf",
   "metadata": {},
   "source": [
    "### QQplot"
   ]
  },
  {
   "cell_type": "code",
   "execution_count": 45,
   "id": "2d40d77b-0fb8-44a3-b203-6e245444cb68",
   "metadata": {},
   "outputs": [
    {
     "data": {
      "image/png": "[encoded data removed]",
      "text/plain": [
       "<Figure size 576x576 with 1 Axes>"
      ]
     },
     "metadata": {
      "needs_background": "light"
     },
     "output_type": "display_data"
    }
   ],
   "source": [
    "qqplot_unif(results)"
   ]
  },
  {
   "cell_type": "markdown",
   "id": "3248ea5f-0969-41d5-ac06-9bd79b168400",
   "metadata": {},
   "source": [
    "### Top genes in LV"
   ]
  },
  {
   "cell_type": "code",
   "execution_count": 46,
   "id": "be244412-cf77-4b40-aacb-aab3b76327fd",
   "metadata": {},
   "outputs": [
    {
     "data": {
      "text/html": [
       "<div>\n",
       "<style scoped>\n",
       "    .dataframe tbody tr th:only-of-type {\n",
       "        vertical-align: middle;\n",
       "    }\n",
       "\n",
       "    .dataframe tbody tr th {\n",
       "        vertical-align: top;\n",
       "    }\n",
       "\n",
       "    .dataframe thead th {\n",
       "        text-align: right;\n",
       "    }\n",
       "</style>\n",
       "<table border=\"1\" class=\"dataframe\">\n",
       "  <thead>\n",
       "    <tr style=\"text-align: right;\">\n",
       "      <th></th>\n",
       "      <th>LV45</th>\n",
       "      <th>gene_band</th>\n",
       "    </tr>\n",
       "  </thead>\n",
       "  <tbody>\n",
       "    <tr>\n",
       "      <th>HIST1H2BO</th>\n",
       "      <td>8.480948</td>\n",
       "      <td>6p22.1</td>\n",
       "    </tr>\n",
       "    <tr>\n",
       "      <th>HIST1H2BF</th>\n",
       "      <td>8.426226</td>\n",
       "      <td>6p22.2</td>\n",
       "    </tr>\n",
       "    <tr>\n",
       "      <th>HIST1H2BK</th>\n",
       "      <td>8.245903</td>\n",
       "      <td>6p22.1</td>\n",
       "    </tr>\n",
       "    <tr>\n",
       "      <th>HIST1H2BD</th>\n",
       "      <td>8.119013</td>\n",
       "      <td>6p22.2</td>\n",
       "    </tr>\n",
       "    <tr>\n",
       "      <th>HIST1H2BC</th>\n",
       "      <td>7.744137</td>\n",
       "      <td>6p22.2</td>\n",
       "    </tr>\n",
       "    <tr>\n",
       "      <th>HIST1H2AC</th>\n",
       "      <td>7.447932</td>\n",
       "      <td>6p22.2</td>\n",
       "    </tr>\n",
       "    <tr>\n",
       "      <th>HIST2H2BF</th>\n",
       "      <td>6.700409</td>\n",
       "      <td>1q21.2</td>\n",
       "    </tr>\n",
       "    <tr>\n",
       "      <th>HIST1H2AG</th>\n",
       "      <td>6.405812</td>\n",
       "      <td>6p22.1</td>\n",
       "    </tr>\n",
       "    <tr>\n",
       "      <th>HIST1H2BN</th>\n",
       "      <td>5.913649</td>\n",
       "      <td>6p22.1</td>\n",
       "    </tr>\n",
       "    <tr>\n",
       "      <th>HIST1H2AE</th>\n",
       "      <td>5.898213</td>\n",
       "      <td>6p22.2</td>\n",
       "    </tr>\n",
       "    <tr>\n",
       "      <th>HIST1H2BE</th>\n",
       "      <td>3.489655</td>\n",
       "      <td>6p22.2</td>\n",
       "    </tr>\n",
       "    <tr>\n",
       "      <th>HIST1H2BH</th>\n",
       "      <td>2.522366</td>\n",
       "      <td>6p22.2</td>\n",
       "    </tr>\n",
       "    <tr>\n",
       "      <th>HIST1H2BJ</th>\n",
       "      <td>2.467813</td>\n",
       "      <td>6p22.1</td>\n",
       "    </tr>\n",
       "    <tr>\n",
       "      <th>HIST1H2AD</th>\n",
       "      <td>2.403343</td>\n",
       "      <td>6p22.2</td>\n",
       "    </tr>\n",
       "    <tr>\n",
       "      <th>H2AFX</th>\n",
       "      <td>1.594301</td>\n",
       "      <td>11q23.3</td>\n",
       "    </tr>\n",
       "    <tr>\n",
       "      <th>HIST1H2BG</th>\n",
       "      <td>1.525977</td>\n",
       "      <td>6p22.2</td>\n",
       "    </tr>\n",
       "    <tr>\n",
       "      <th>HIST3H2BB</th>\n",
       "      <td>1.436435</td>\n",
       "      <td>1q42.13</td>\n",
       "    </tr>\n",
       "    <tr>\n",
       "      <th>HIST3H2A</th>\n",
       "      <td>1.268004</td>\n",
       "      <td>1q42.13</td>\n",
       "    </tr>\n",
       "    <tr>\n",
       "      <th>H2AFZ</th>\n",
       "      <td>1.221418</td>\n",
       "      <td>4q23</td>\n",
       "    </tr>\n",
       "    <tr>\n",
       "      <th>HIST1H4D</th>\n",
       "      <td>1.056777</td>\n",
       "      <td>6p22.2</td>\n",
       "    </tr>\n",
       "    <tr>\n",
       "      <th>HIST1H4I</th>\n",
       "      <td>0.865090</td>\n",
       "      <td>6p22.1</td>\n",
       "    </tr>\n",
       "    <tr>\n",
       "      <th>H3F3B</th>\n",
       "      <td>0.547770</td>\n",
       "      <td>17q25.1</td>\n",
       "    </tr>\n",
       "    <tr>\n",
       "      <th>H3F3A</th>\n",
       "      <td>0.540939</td>\n",
       "      <td>1q42.12</td>\n",
       "    </tr>\n",
       "    <tr>\n",
       "      <th>HIST1H3E</th>\n",
       "      <td>0.498899</td>\n",
       "      <td>6p22.2</td>\n",
       "    </tr>\n",
       "    <tr>\n",
       "      <th>ACTN4</th>\n",
       "      <td>0.406961</td>\n",
       "      <td>19q13.2</td>\n",
       "    </tr>\n",
       "  </tbody>\n",
       "</table>\n",
       "</div>"
      ],
      "text/plain": [
       "               LV45 gene_band\n",
       "HIST1H2BO  8.480948    6p22.1\n",
       "HIST1H2BF  8.426226    6p22.2\n",
       "HIST1H2BK  8.245903    6p22.1\n",
       "HIST1H2BD  8.119013    6p22.2\n",
       "HIST1H2BC  7.744137    6p22.2\n",
       "HIST1H2AC  7.447932    6p22.2\n",
       "HIST2H2BF  6.700409    1q21.2\n",
       "HIST1H2AG  6.405812    6p22.1\n",
       "HIST1H2BN  5.913649    6p22.1\n",
       "HIST1H2AE  5.898213    6p22.2\n",
       "HIST1H2BE  3.489655    6p22.2\n",
       "HIST1H2BH  2.522366    6p22.2\n",
       "HIST1H2BJ  2.467813    6p22.1\n",
       "HIST1H2AD  2.403343    6p22.2\n",
       "H2AFX      1.594301   11q23.3\n",
       "HIST1H2BG  1.525977    6p22.2\n",
       "HIST3H2BB  1.436435   1q42.13\n",
       "HIST3H2A   1.268004   1q42.13\n",
       "H2AFZ      1.221418      4q23\n",
       "HIST1H4D   1.056777    6p22.2\n",
       "HIST1H4I   0.865090    6p22.1\n",
       "H3F3B      0.547770   17q25.1\n",
       "H3F3A      0.540939   1q42.12\n",
       "HIST1H3E   0.498899    6p22.2\n",
       "ACTN4      0.406961   19q13.2"
      ]
     },
     "metadata": {},
     "output_type": "display_data"
    }
   ],
   "source": [
    "lv_genes = get_lv_genes(lv_code)\n",
    "display(lv_genes.head(25))"
   ]
  },
  {
   "cell_type": "code",
   "execution_count": 47,
   "id": "07e7c50f-6df2-4e32-8944-18be1132be86",
   "metadata": {},
   "outputs": [
    {
     "data": {
      "text/plain": [
       "6p22.2     11\n",
       "6p22.1      6\n",
       "1q42.13     2\n",
       "1q21.2      1\n",
       "11q23.3     1\n",
       "1q42.12     1\n",
       "17q25.1     1\n",
       "4q23        1\n",
       "19q13.2     1\n",
       "17q24.1     0\n",
       "Name: gene_band, dtype: int64"
      ]
     },
     "execution_count": 47,
     "metadata": {},
     "output_type": "execute_result"
    }
   ],
   "source": [
    "# see bands of top genes\n",
    "lv_genes.head(25)[\"gene_band\"].value_counts().head(10)"
   ]
  },
  {
   "cell_type": "markdown",
   "id": "dc07c402-3dec-4704-a99b-97dcaa610139",
   "metadata": {},
   "source": [
    "**Note**: Top genes in this LV are all from the same band, very likely causing high type I errors."
   ]
  },
  {
   "cell_type": "code",
   "execution_count": 48,
   "id": "bf15f109-8a09-4b56-a122-a4ea3d02e4d5",
   "metadata": {},
   "outputs": [],
   "source": [
    "# take a look at all genes with non-zero weight\n",
    "lv_genes_nonzero_weight = lv_genes[lv_genes[lv_code] > 0]"
   ]
  },
  {
   "cell_type": "code",
   "execution_count": 49,
   "id": "c888764d-ca7d-4a67-a09b-c6f0a1946469",
   "metadata": {},
   "outputs": [
    {
     "data": {
      "text/plain": [
       "(376, 2)"
      ]
     },
     "execution_count": 49,
     "metadata": {},
     "output_type": "execute_result"
    }
   ],
   "source": [
    "# how many genes have non-zero weight?\n",
    "lv_genes_nonzero_weight.shape"
   ]
  },
  {
   "cell_type": "code",
   "execution_count": 50,
   "id": "b43e6b38-8c9d-4a66-a062-c331301f22d0",
   "metadata": {},
   "outputs": [
    {
     "data": {
      "text/plain": [
       "6p22.2     13\n",
       "19p13.3     8\n",
       "1q32.1      6\n",
       "6p22.1      6\n",
       "4q31.21     6\n",
       "17q12       5\n",
       "6p21.33     4\n",
       "3p21.31     4\n",
       "5q31.1      4\n",
       "1q23.3      4\n",
       "Name: gene_band, dtype: int64"
      ]
     },
     "execution_count": 50,
     "metadata": {},
     "output_type": "execute_result"
    }
   ],
   "source": [
    "# how are bands distributed among zero weighted genes?\n",
    "lv_genes_nonzero_weight[\"gene_band\"].value_counts().head(10)"
   ]
  },
  {
   "cell_type": "code",
   "execution_count": 51,
   "id": "ca422e67-41c8-49d5-9e15-d18f65a9af31",
   "metadata": {},
   "outputs": [
    {
     "data": {
      "image/png": "[encoded data removed]",
      "text/plain": [
       "<Figure size 1008x504 with 1 Axes>"
      ]
     },
     "metadata": {
      "needs_background": "light"
     },
     "output_type": "display_data"
    }
   ],
   "source": [
    "# distribution of amount of bands in LV\n",
    "g = sns.displot(lv_genes_nonzero_weight[\"gene_band\"].value_counts(), height=7, aspect=2)"
   ]
  },
  {
   "cell_type": "code",
   "execution_count": 52,
   "id": "7a4d783b-4b14-4537-b96e-9c45e6790a1a",
   "metadata": {},
   "outputs": [
    {
     "data": {
      "image/png": "[encoded data removed]",
      "text/plain": [
       "<Figure size 1008x504 with 1 Axes>"
      ]
     },
     "metadata": {
      "needs_background": "light"
     },
     "output_type": "display_data"
    }
   ],
   "source": [
    "# distribution of weights in LV\n",
    "g = sns.displot(lv_genes[lv_genes[lv_code] > 0][lv_code], height=7, aspect=2)"
   ]
  },
  {
   "cell_type": "markdown",
   "id": "98978358-4637-4573-9c96-e07afb55fe62",
   "metadata": {},
   "source": [
    "### Bottom genes in LV"
   ]
  },
  {
   "cell_type": "code",
   "execution_count": 53,
   "id": "7d405ea7-79a4-4c71-b268-e4d5737434ee",
   "metadata": {},
   "outputs": [],
   "source": [
    "lv_genes_zero_weight = lv_genes[lv_genes[lv_code] <= 0]"
   ]
  },
  {
   "cell_type": "code",
   "execution_count": 54,
   "id": "4ab4f0a7-f4a0-453e-b1df-a1e866217575",
   "metadata": {},
   "outputs": [
    {
     "data": {
      "text/plain": [
       "(6070, 2)"
      ]
     },
     "execution_count": 54,
     "metadata": {},
     "output_type": "execute_result"
    }
   ],
   "source": [
    "# how many genes have zero weight\n",
    "lv_genes_zero_weight.shape"
   ]
  },
  {
   "cell_type": "code",
   "execution_count": 55,
   "id": "f17249b3-327a-463c-9e63-edf598ef1f14",
   "metadata": {},
   "outputs": [
    {
     "data": {
      "text/plain": [
       "19p13.3     76\n",
       "16p13.3     69\n",
       "19p13.2     66\n",
       "19q13.2     57\n",
       "3p21.31     52\n",
       "19q13.33    46\n",
       "17p13.1     44\n",
       "1q21.3      43\n",
       "17q25.3     42\n",
       "19q13.42    41\n",
       "16q22.1     41\n",
       "7q22.1      40\n",
       "11q13.1     40\n",
       "19p13.11    40\n",
       "6p21.1      37\n",
       "12q24.31    37\n",
       "19q13.43    36\n",
       "12p13.31    35\n",
       "16p11.2     33\n",
       "12q13.13    33\n",
       "Name: gene_band, dtype: int64"
      ]
     },
     "execution_count": 55,
     "metadata": {},
     "output_type": "execute_result"
    }
   ],
   "source": [
    "# how are bands distributed among zero weighted genes?\n",
    "lv_genes_zero_weight[\"gene_band\"].value_counts().head(20)"
   ]
  },
  {
   "cell_type": "code",
   "execution_count": 56,
   "id": "b772973b-8228-49c7-9621-f36feee47794",
   "metadata": {},
   "outputs": [
    {
     "data": {
      "image/png": "[encoded data removed]",
      "text/plain": [
       "<Figure size 1008x504 with 1 Axes>"
      ]
     },
     "metadata": {
      "needs_background": "light"
     },
     "output_type": "display_data"
    }
   ],
   "source": [
    "g = sns.displot(lv_genes_zero_weight[\"gene_band\"].value_counts(), height=7, aspect=2)"
   ]
  },
  {
   "cell_type": "markdown",
   "id": "af51db69-b36d-429a-a59c-cd5bfc4cd38c",
   "metadata": {},
   "source": [
    "## LV234"
   ]
  },
  {
   "cell_type": "code",
   "execution_count": 57,
   "id": "861e6a8c-b891-4eb2-8878-f5505937f6aa",
   "metadata": {},
   "outputs": [],
   "source": [
    "lv_code = \"LV234\""
   ]
  },
  {
   "cell_type": "code",
   "execution_count": 58,
   "id": "ce659542-b79b-409e-9f02-5b9089510870",
   "metadata": {},
   "outputs": [],
   "source": [
    "results = dfs[dfs[\"lv\"] == lv_code]"
   ]
  },
  {
   "cell_type": "code",
   "execution_count": 59,
   "id": "e149155d-a169-4b37-ab1d-aa2c5ff00f38",
   "metadata": {},
   "outputs": [
    {
     "data": {
      "text/plain": [
       "(1000, 4)"
      ]
     },
     "execution_count": 59,
     "metadata": {},
     "output_type": "execute_result"
    }
   ],
   "source": [
    "results.shape"
   ]
  },
  {
   "cell_type": "code",
   "execution_count": 60,
   "id": "9b7db3d4-d922-4dbb-9a06-15a5432fb67b",
   "metadata": {},
   "outputs": [
    {
     "data": {
      "text/html": [
       "<div>\n",
       "<style scoped>\n",
       "    .dataframe tbody tr th:only-of-type {\n",
       "        vertical-align: middle;\n",
       "    }\n",
       "\n",
       "    .dataframe tbody tr th {\n",
       "        vertical-align: top;\n",
       "    }\n",
       "\n",
       "    .dataframe thead th {\n",
       "        text-align: right;\n",
       "    }\n",
       "</style>\n",
       "<table border=\"1\" class=\"dataframe\">\n",
       "  <thead>\n",
       "    <tr style=\"text-align: right;\">\n",
       "      <th></th>\n",
       "      <th>lv</th>\n",
       "      <th>coef</th>\n",
       "      <th>pvalue</th>\n",
       "      <th>phenotype</th>\n",
       "    </tr>\n",
       "  </thead>\n",
       "  <tbody>\n",
       "    <tr>\n",
       "      <th>233</th>\n",
       "      <td>LV234</td>\n",
       "      <td>0.004362</td>\n",
       "      <td>0.363127</td>\n",
       "      <td>random.pheno988</td>\n",
       "    </tr>\n",
       "    <tr>\n",
       "      <th>1220</th>\n",
       "      <td>LV234</td>\n",
       "      <td>-0.001422</td>\n",
       "      <td>0.545441</td>\n",
       "      <td>random.pheno589</td>\n",
       "    </tr>\n",
       "    <tr>\n",
       "      <th>2207</th>\n",
       "      <td>LV234</td>\n",
       "      <td>0.002184</td>\n",
       "      <td>0.430429</td>\n",
       "      <td>random.pheno385</td>\n",
       "    </tr>\n",
       "    <tr>\n",
       "      <th>3194</th>\n",
       "      <td>LV234</td>\n",
       "      <td>0.012870</td>\n",
       "      <td>0.150810</td>\n",
       "      <td>random.pheno5</td>\n",
       "    </tr>\n",
       "    <tr>\n",
       "      <th>4181</th>\n",
       "      <td>LV234</td>\n",
       "      <td>0.011771</td>\n",
       "      <td>0.172394</td>\n",
       "      <td>random.pheno74</td>\n",
       "    </tr>\n",
       "  </tbody>\n",
       "</table>\n",
       "</div>"
      ],
      "text/plain": [
       "         lv      coef    pvalue        phenotype\n",
       "233   LV234  0.004362  0.363127  random.pheno988\n",
       "1220  LV234 -0.001422  0.545441  random.pheno589\n",
       "2207  LV234  0.002184  0.430429  random.pheno385\n",
       "3194  LV234  0.012870  0.150810    random.pheno5\n",
       "4181  LV234  0.011771  0.172394   random.pheno74"
      ]
     },
     "execution_count": 60,
     "metadata": {},
     "output_type": "execute_result"
    }
   ],
   "source": [
    "results.head()"
   ]
  },
  {
   "cell_type": "code",
   "execution_count": 61,
   "id": "750dbe9c-6ec8-4822-83ad-3d3360e76ca9",
   "metadata": {},
   "outputs": [],
   "source": [
    "# save for future reference\n",
    "lv_results_high[lv_code] = results"
   ]
  },
  {
   "cell_type": "markdown",
   "id": "643200c0-4e13-473a-951e-67aac166c85c",
   "metadata": {},
   "source": [
    "### Mean type I errors at different thresholds"
   ]
  },
  {
   "cell_type": "code",
   "execution_count": 62,
   "id": "98615fff-336f-44e3-8de5-a82ec0b7a377",
   "metadata": {},
   "outputs": [
    {
     "data": {
      "text/plain": [
       "0.086"
      ]
     },
     "execution_count": 62,
     "metadata": {},
     "output_type": "execute_result"
    }
   ],
   "source": [
    "show_prop(results, 0.01)"
   ]
  },
  {
   "cell_type": "code",
   "execution_count": 63,
   "id": "bb28e493-8151-4aad-a7a1-f0728b24373d",
   "metadata": {},
   "outputs": [
    {
     "data": {
      "text/plain": [
       "0.154"
      ]
     },
     "execution_count": 63,
     "metadata": {},
     "output_type": "execute_result"
    }
   ],
   "source": [
    "show_prop(results, 0.05)"
   ]
  },
  {
   "cell_type": "code",
   "execution_count": 64,
   "id": "91515a72-d558-4f90-839d-0439b7bc8c51",
   "metadata": {},
   "outputs": [
    {
     "data": {
      "text/plain": [
       "0.209"
      ]
     },
     "execution_count": 64,
     "metadata": {},
     "output_type": "execute_result"
    }
   ],
   "source": [
    "show_prop(results, 0.10)"
   ]
  },
  {
   "cell_type": "code",
   "execution_count": 65,
   "id": "049459fd-5782-41ed-9fe7-36d30c016adc",
   "metadata": {},
   "outputs": [
    {
     "data": {
      "text/plain": [
       "0.241"
      ]
     },
     "execution_count": 65,
     "metadata": {},
     "output_type": "execute_result"
    }
   ],
   "source": [
    "show_prop(results, 0.15)"
   ]
  },
  {
   "cell_type": "code",
   "execution_count": 66,
   "id": "d0569d7e-91f1-43f8-82b7-54b927199724",
   "metadata": {},
   "outputs": [
    {
     "data": {
      "text/plain": [
       "0.285"
      ]
     },
     "execution_count": 66,
     "metadata": {},
     "output_type": "execute_result"
    }
   ],
   "source": [
    "show_prop(results, 0.20)"
   ]
  },
  {
   "cell_type": "markdown",
   "id": "0edff314-f8ed-4725-a384-5e1f24a7dea2",
   "metadata": {},
   "source": [
    "### QQplot"
   ]
  },
  {
   "cell_type": "code",
   "execution_count": 67,
   "id": "0bfbf172-fc72-4c72-819b-e873c8121e4c",
   "metadata": {},
   "outputs": [
    {
     "data": {
      "image/png": "[encoded data removed]",
      "text/plain": [
       "<Figure size 576x576 with 1 Axes>"
      ]
     },
     "metadata": {
      "needs_background": "light"
     },
     "output_type": "display_data"
    }
   ],
   "source": [
    "qqplot_unif(results)"
   ]
  },
  {
   "cell_type": "markdown",
   "id": "5085f955-e7e9-4668-8ebb-4cf639cfc6ec",
   "metadata": {},
   "source": [
    "### Top genes in LV"
   ]
  },
  {
   "cell_type": "code",
   "execution_count": 68,
   "id": "5647b054-cb48-49f4-8150-0fb3fc7228ab",
   "metadata": {},
   "outputs": [
    {
     "data": {
      "text/html": [
       "<div>\n",
       "<style scoped>\n",
       "    .dataframe tbody tr th:only-of-type {\n",
       "        vertical-align: middle;\n",
       "    }\n",
       "\n",
       "    .dataframe tbody tr th {\n",
       "        vertical-align: top;\n",
       "    }\n",
       "\n",
       "    .dataframe thead th {\n",
       "        text-align: right;\n",
       "    }\n",
       "</style>\n",
       "<table border=\"1\" class=\"dataframe\">\n",
       "  <thead>\n",
       "    <tr style=\"text-align: right;\">\n",
       "      <th></th>\n",
       "      <th>LV234</th>\n",
       "      <th>gene_band</th>\n",
       "    </tr>\n",
       "  </thead>\n",
       "  <tbody>\n",
       "    <tr>\n",
       "      <th>HIST1H4E</th>\n",
       "      <td>7.379845</td>\n",
       "      <td>6p22.2</td>\n",
       "    </tr>\n",
       "    <tr>\n",
       "      <th>HIST1H3B</th>\n",
       "      <td>7.293635</td>\n",
       "      <td>6p22.2</td>\n",
       "    </tr>\n",
       "    <tr>\n",
       "      <th>HIST4H4</th>\n",
       "      <td>6.929394</td>\n",
       "      <td>12p12.3</td>\n",
       "    </tr>\n",
       "    <tr>\n",
       "      <th>HIST1H3H</th>\n",
       "      <td>6.863106</td>\n",
       "      <td>6p22.1</td>\n",
       "    </tr>\n",
       "    <tr>\n",
       "      <th>HIST1H3D</th>\n",
       "      <td>4.568047</td>\n",
       "      <td>6p22.2</td>\n",
       "    </tr>\n",
       "    <tr>\n",
       "      <th>HIST1H2BC</th>\n",
       "      <td>4.078396</td>\n",
       "      <td>6p22.2</td>\n",
       "    </tr>\n",
       "    <tr>\n",
       "      <th>HIST1H2AE</th>\n",
       "      <td>4.009782</td>\n",
       "      <td>6p22.2</td>\n",
       "    </tr>\n",
       "    <tr>\n",
       "      <th>HIST1H2BF</th>\n",
       "      <td>3.963254</td>\n",
       "      <td>6p22.2</td>\n",
       "    </tr>\n",
       "    <tr>\n",
       "      <th>HIST1H2BD</th>\n",
       "      <td>3.862981</td>\n",
       "      <td>6p22.2</td>\n",
       "    </tr>\n",
       "    <tr>\n",
       "      <th>HIST1H2BK</th>\n",
       "      <td>3.662444</td>\n",
       "      <td>6p22.1</td>\n",
       "    </tr>\n",
       "    <tr>\n",
       "      <th>HIST1H2BO</th>\n",
       "      <td>3.292643</td>\n",
       "      <td>6p22.1</td>\n",
       "    </tr>\n",
       "    <tr>\n",
       "      <th>HIST1H2BH</th>\n",
       "      <td>2.581818</td>\n",
       "      <td>6p22.2</td>\n",
       "    </tr>\n",
       "    <tr>\n",
       "      <th>HIST1H2AC</th>\n",
       "      <td>2.280831</td>\n",
       "      <td>6p22.2</td>\n",
       "    </tr>\n",
       "    <tr>\n",
       "      <th>HIST1H4I</th>\n",
       "      <td>2.063182</td>\n",
       "      <td>6p22.1</td>\n",
       "    </tr>\n",
       "    <tr>\n",
       "      <th>HIST1H2BE</th>\n",
       "      <td>1.912717</td>\n",
       "      <td>6p22.2</td>\n",
       "    </tr>\n",
       "    <tr>\n",
       "      <th>UBTF</th>\n",
       "      <td>1.748020</td>\n",
       "      <td>17q21.31</td>\n",
       "    </tr>\n",
       "    <tr>\n",
       "      <th>HIST1H4D</th>\n",
       "      <td>1.660015</td>\n",
       "      <td>6p22.2</td>\n",
       "    </tr>\n",
       "    <tr>\n",
       "      <th>MAPK3</th>\n",
       "      <td>1.655242</td>\n",
       "      <td>16p11.2</td>\n",
       "    </tr>\n",
       "    <tr>\n",
       "      <th>HIST1H3E</th>\n",
       "      <td>1.586624</td>\n",
       "      <td>6p22.2</td>\n",
       "    </tr>\n",
       "    <tr>\n",
       "      <th>H3F3A</th>\n",
       "      <td>1.558007</td>\n",
       "      <td>1q42.12</td>\n",
       "    </tr>\n",
       "    <tr>\n",
       "      <th>HIST1H2BJ</th>\n",
       "      <td>1.455017</td>\n",
       "      <td>6p22.1</td>\n",
       "    </tr>\n",
       "    <tr>\n",
       "      <th>HIST3H2BB</th>\n",
       "      <td>1.434026</td>\n",
       "      <td>1q42.13</td>\n",
       "    </tr>\n",
       "    <tr>\n",
       "      <th>H3F3B</th>\n",
       "      <td>1.431049</td>\n",
       "      <td>17q25.1</td>\n",
       "    </tr>\n",
       "    <tr>\n",
       "      <th>H2AFX</th>\n",
       "      <td>1.393936</td>\n",
       "      <td>11q23.3</td>\n",
       "    </tr>\n",
       "    <tr>\n",
       "      <th>H2AFZ</th>\n",
       "      <td>1.373988</td>\n",
       "      <td>4q23</td>\n",
       "    </tr>\n",
       "  </tbody>\n",
       "</table>\n",
       "</div>"
      ],
      "text/plain": [
       "              LV234 gene_band\n",
       "HIST1H4E   7.379845    6p22.2\n",
       "HIST1H3B   7.293635    6p22.2\n",
       "HIST4H4    6.929394   12p12.3\n",
       "HIST1H3H   6.863106    6p22.1\n",
       "HIST1H3D   4.568047    6p22.2\n",
       "HIST1H2BC  4.078396    6p22.2\n",
       "HIST1H2AE  4.009782    6p22.2\n",
       "HIST1H2BF  3.963254    6p22.2\n",
       "HIST1H2BD  3.862981    6p22.2\n",
       "HIST1H2BK  3.662444    6p22.1\n",
       "HIST1H2BO  3.292643    6p22.1\n",
       "HIST1H2BH  2.581818    6p22.2\n",
       "HIST1H2AC  2.280831    6p22.2\n",
       "HIST1H4I   2.063182    6p22.1\n",
       "HIST1H2BE  1.912717    6p22.2\n",
       "UBTF       1.748020  17q21.31\n",
       "HIST1H4D   1.660015    6p22.2\n",
       "MAPK3      1.655242   16p11.2\n",
       "HIST1H3E   1.586624    6p22.2\n",
       "H3F3A      1.558007   1q42.12\n",
       "HIST1H2BJ  1.455017    6p22.1\n",
       "HIST3H2BB  1.434026   1q42.13\n",
       "H3F3B      1.431049   17q25.1\n",
       "H2AFX      1.393936   11q23.3\n",
       "H2AFZ      1.373988      4q23"
      ]
     },
     "metadata": {},
     "output_type": "display_data"
    }
   ],
   "source": [
    "lv_genes = get_lv_genes(lv_code)\n",
    "display(lv_genes.head(25))"
   ]
  },
  {
   "cell_type": "code",
   "execution_count": 69,
   "id": "90653ec1-7616-4b7e-b826-80f649750c0a",
   "metadata": {},
   "outputs": [
    {
     "data": {
      "text/plain": [
       "6p22.2      12\n",
       "6p22.1       5\n",
       "12p12.3      1\n",
       "17q21.31     1\n",
       "17q25.1      1\n",
       "1q42.12      1\n",
       "1q42.13      1\n",
       "11q23.3      1\n",
       "4q23         1\n",
       "16p11.2      1\n",
       "Name: gene_band, dtype: int64"
      ]
     },
     "execution_count": 69,
     "metadata": {},
     "output_type": "execute_result"
    }
   ],
   "source": [
    "# see bands of top genes\n",
    "lv_genes.head(25)[\"gene_band\"].value_counts().head(10)"
   ]
  },
  {
   "cell_type": "markdown",
   "id": "cca4cf94-438b-44ce-b48c-d6a00a3bcd92",
   "metadata": {},
   "source": [
    "**Note**: same as LV45"
   ]
  },
  {
   "cell_type": "code",
   "execution_count": 70,
   "id": "1a14e60a-7da6-4a30-be7e-9a6860e9237e",
   "metadata": {},
   "outputs": [],
   "source": [
    "# take a look at all genes with non-zero weight\n",
    "lv_genes_nonzero_weight = lv_genes[lv_genes[lv_code] > 0]"
   ]
  },
  {
   "cell_type": "code",
   "execution_count": 71,
   "id": "6d91c06a-1790-44e4-8b57-16b1662db0a6",
   "metadata": {},
   "outputs": [
    {
     "data": {
      "text/plain": [
       "(1756, 2)"
      ]
     },
     "execution_count": 71,
     "metadata": {},
     "output_type": "execute_result"
    }
   ],
   "source": [
    "# how many genes have non-zero weight?\n",
    "lv_genes_nonzero_weight.shape"
   ]
  },
  {
   "cell_type": "code",
   "execution_count": 72,
   "id": "5b4d0d09-6211-4f60-bb44-85818633f5b0",
   "metadata": {},
   "outputs": [
    {
     "data": {
      "text/plain": [
       "19q13.2     22\n",
       "16p13.3     21\n",
       "3p21.31     21\n",
       "19p13.2     20\n",
       "19p13.3     17\n",
       "6p22.2      17\n",
       "17p13.1     16\n",
       "12q13.13    16\n",
       "17q25.3     14\n",
       "19q13.43    13\n",
       "Name: gene_band, dtype: int64"
      ]
     },
     "execution_count": 72,
     "metadata": {},
     "output_type": "execute_result"
    }
   ],
   "source": [
    "# how are bands distributed among zero weighted genes?\n",
    "lv_genes_nonzero_weight[\"gene_band\"].value_counts().head(10)"
   ]
  },
  {
   "cell_type": "code",
   "execution_count": 73,
   "id": "2c36e7d1-612e-40c2-b7f1-decda85d9f95",
   "metadata": {},
   "outputs": [
    {
     "data": {
      "image/png": "[encoded data removed]",
      "text/plain": [
       "<Figure size 1008x504 with 1 Axes>"
      ]
     },
     "metadata": {
      "needs_background": "light"
     },
     "output_type": "display_data"
    }
   ],
   "source": [
    "# distribution of amount of bands in LV\n",
    "g = sns.displot(lv_genes_nonzero_weight[\"gene_band\"].value_counts(), height=7, aspect=2)"
   ]
  },
  {
   "cell_type": "code",
   "execution_count": 74,
   "id": "a03ae564-55a5-4d4c-b838-9f7b7e083e24",
   "metadata": {},
   "outputs": [
    {
     "data": {
      "image/png": "[encoded data removed]",
      "text/plain": [
       "<Figure size 1008x504 with 1 Axes>"
      ]
     },
     "metadata": {
      "needs_background": "light"
     },
     "output_type": "display_data"
    }
   ],
   "source": [
    "# distribution of weights in LV\n",
    "g = sns.displot(lv_genes[lv_genes[lv_code] > 0][lv_code], height=7, aspect=2)"
   ]
  },
  {
   "cell_type": "markdown",
   "id": "a2b12a9c-6d5b-4f78-9090-84a11f5c0b4c",
   "metadata": {},
   "source": [
    "### Bottom genes in LV"
   ]
  },
  {
   "cell_type": "code",
   "execution_count": 75,
   "id": "bdda0678-5f7a-4a2a-bbe4-c91f8f662657",
   "metadata": {},
   "outputs": [],
   "source": [
    "lv_genes_zero_weight = lv_genes[lv_genes[lv_code] <= 0]"
   ]
  },
  {
   "cell_type": "code",
   "execution_count": 76,
   "id": "a77845d0-d617-47d7-8e62-1f50aa1a4595",
   "metadata": {},
   "outputs": [
    {
     "data": {
      "text/plain": [
       "(4690, 2)"
      ]
     },
     "execution_count": 76,
     "metadata": {},
     "output_type": "execute_result"
    }
   ],
   "source": [
    "# how many genes have zero weight\n",
    "lv_genes_zero_weight.shape"
   ]
  },
  {
   "cell_type": "code",
   "execution_count": 77,
   "id": "e6118a7e-ff61-4065-89a7-db3ce260cf7c",
   "metadata": {},
   "outputs": [
    {
     "data": {
      "text/plain": [
       "19p13.3     67\n",
       "16p13.3     49\n",
       "19p13.2     48\n",
       "19q13.2     38\n",
       "19q13.33    35\n",
       "3p21.31     35\n",
       "16q22.1     33\n",
       "19q13.42    32\n",
       "6p21.1      32\n",
       "11q13.1     31\n",
       "17q25.3     31\n",
       "1q21.3      31\n",
       "17p13.1     30\n",
       "12q24.31    29\n",
       "7q22.1      29\n",
       "19p13.11    28\n",
       "14q11.2     27\n",
       "2q35        27\n",
       "21q22.3     27\n",
       "12p13.31    26\n",
       "Name: gene_band, dtype: int64"
      ]
     },
     "execution_count": 77,
     "metadata": {},
     "output_type": "execute_result"
    }
   ],
   "source": [
    "# how are bands distributed among zero weighted genes?\n",
    "lv_genes_zero_weight[\"gene_band\"].value_counts().head(20)"
   ]
  },
  {
   "cell_type": "code",
   "execution_count": 78,
   "id": "51664e5e-fbe1-4b43-99b2-fed1fe0df144",
   "metadata": {},
   "outputs": [
    {
     "data": {
      "image/png": "[encoded data removed]",
      "text/plain": [
       "<Figure size 1008x504 with 1 Axes>"
      ]
     },
     "metadata": {
      "needs_background": "light"
     },
     "output_type": "display_data"
    }
   ],
   "source": [
    "g = sns.displot(lv_genes_zero_weight[\"gene_band\"].value_counts(), height=7, aspect=2)"
   ]
  },
  {
   "cell_type": "markdown",
   "id": "ba96144f-f46e-4369-8c5d-fff2a34d3309",
   "metadata": {},
   "source": [
    "## LV847"
   ]
  },
  {
   "cell_type": "code",
   "execution_count": 79,
   "id": "eb51399e-47de-44c5-84f5-70f0ca709204",
   "metadata": {},
   "outputs": [],
   "source": [
    "lv_code = \"LV847\""
   ]
  },
  {
   "cell_type": "code",
   "execution_count": 80,
   "id": "282b7e09-41c8-49a5-8b2c-a650ea4eaceb",
   "metadata": {},
   "outputs": [],
   "source": [
    "results = dfs[dfs[\"lv\"] == lv_code]"
   ]
  },
  {
   "cell_type": "code",
   "execution_count": 81,
   "id": "8f39bc48-43c1-47e3-956d-4abff3f72ce2",
   "metadata": {},
   "outputs": [
    {
     "data": {
      "text/plain": [
       "(1000, 4)"
      ]
     },
     "execution_count": 81,
     "metadata": {},
     "output_type": "execute_result"
    }
   ],
   "source": [
    "results.shape"
   ]
  },
  {
   "cell_type": "code",
   "execution_count": 82,
   "id": "36e55730-d3d4-47d2-9b7f-a88b19f4dee1",
   "metadata": {},
   "outputs": [
    {
     "data": {
      "text/html": [
       "<div>\n",
       "<style scoped>\n",
       "    .dataframe tbody tr th:only-of-type {\n",
       "        vertical-align: middle;\n",
       "    }\n",
       "\n",
       "    .dataframe tbody tr th {\n",
       "        vertical-align: top;\n",
       "    }\n",
       "\n",
       "    .dataframe thead th {\n",
       "        text-align: right;\n",
       "    }\n",
       "</style>\n",
       "<table border=\"1\" class=\"dataframe\">\n",
       "  <thead>\n",
       "    <tr style=\"text-align: right;\">\n",
       "      <th></th>\n",
       "      <th>lv</th>\n",
       "      <th>coef</th>\n",
       "      <th>pvalue</th>\n",
       "      <th>phenotype</th>\n",
       "    </tr>\n",
       "  </thead>\n",
       "  <tbody>\n",
       "    <tr>\n",
       "      <th>846</th>\n",
       "      <td>LV847</td>\n",
       "      <td>-0.004228</td>\n",
       "      <td>0.632824</td>\n",
       "      <td>random.pheno988</td>\n",
       "    </tr>\n",
       "    <tr>\n",
       "      <th>1833</th>\n",
       "      <td>LV847</td>\n",
       "      <td>0.001357</td>\n",
       "      <td>0.456628</td>\n",
       "      <td>random.pheno589</td>\n",
       "    </tr>\n",
       "    <tr>\n",
       "      <th>2820</th>\n",
       "      <td>LV847</td>\n",
       "      <td>-0.003279</td>\n",
       "      <td>0.603777</td>\n",
       "      <td>random.pheno385</td>\n",
       "    </tr>\n",
       "    <tr>\n",
       "      <th>3807</th>\n",
       "      <td>LV847</td>\n",
       "      <td>0.008201</td>\n",
       "      <td>0.255203</td>\n",
       "      <td>random.pheno5</td>\n",
       "    </tr>\n",
       "    <tr>\n",
       "      <th>4794</th>\n",
       "      <td>LV847</td>\n",
       "      <td>0.014658</td>\n",
       "      <td>0.119692</td>\n",
       "      <td>random.pheno74</td>\n",
       "    </tr>\n",
       "  </tbody>\n",
       "</table>\n",
       "</div>"
      ],
      "text/plain": [
       "         lv      coef    pvalue        phenotype\n",
       "846   LV847 -0.004228  0.632824  random.pheno988\n",
       "1833  LV847  0.001357  0.456628  random.pheno589\n",
       "2820  LV847 -0.003279  0.603777  random.pheno385\n",
       "3807  LV847  0.008201  0.255203    random.pheno5\n",
       "4794  LV847  0.014658  0.119692   random.pheno74"
      ]
     },
     "execution_count": 82,
     "metadata": {},
     "output_type": "execute_result"
    }
   ],
   "source": [
    "results.head()"
   ]
  },
  {
   "cell_type": "code",
   "execution_count": 83,
   "id": "707521ef-6ef3-4906-bf60-e592af51fa39",
   "metadata": {},
   "outputs": [],
   "source": [
    "# save for future reference\n",
    "lv_results_high[lv_code] = results"
   ]
  },
  {
   "cell_type": "markdown",
   "id": "41697306-11db-4362-a601-69627f53ce6d",
   "metadata": {},
   "source": [
    "### Mean type I errors at different thresholds"
   ]
  },
  {
   "cell_type": "code",
   "execution_count": 84,
   "id": "566a4147-98dd-4dc7-a50b-8d9ae9f0f2dc",
   "metadata": {},
   "outputs": [
    {
     "data": {
      "text/plain": [
       "0.091"
      ]
     },
     "execution_count": 84,
     "metadata": {},
     "output_type": "execute_result"
    }
   ],
   "source": [
    "show_prop(results, 0.01)"
   ]
  },
  {
   "cell_type": "code",
   "execution_count": 85,
   "id": "9a26401d-5d9f-4a5b-9404-a995acf31fa9",
   "metadata": {},
   "outputs": [
    {
     "data": {
      "text/plain": [
       "0.143"
      ]
     },
     "execution_count": 85,
     "metadata": {},
     "output_type": "execute_result"
    }
   ],
   "source": [
    "show_prop(results, 0.05)"
   ]
  },
  {
   "cell_type": "code",
   "execution_count": 86,
   "id": "22b0b9fd-7b84-4e9c-abaf-ccdb93413165",
   "metadata": {},
   "outputs": [
    {
     "data": {
      "text/plain": [
       "0.191"
      ]
     },
     "execution_count": 86,
     "metadata": {},
     "output_type": "execute_result"
    }
   ],
   "source": [
    "show_prop(results, 0.10)"
   ]
  },
  {
   "cell_type": "code",
   "execution_count": 87,
   "id": "4e1299c0-a344-4d3b-9e85-0f8641bd5f05",
   "metadata": {},
   "outputs": [
    {
     "data": {
      "text/plain": [
       "0.225"
      ]
     },
     "execution_count": 87,
     "metadata": {},
     "output_type": "execute_result"
    }
   ],
   "source": [
    "show_prop(results, 0.15)"
   ]
  },
  {
   "cell_type": "code",
   "execution_count": 88,
   "id": "6e6a7323-cf20-469a-9b68-3e022545bb1e",
   "metadata": {},
   "outputs": [
    {
     "data": {
      "text/plain": [
       "0.264"
      ]
     },
     "execution_count": 88,
     "metadata": {},
     "output_type": "execute_result"
    }
   ],
   "source": [
    "show_prop(results, 0.20)"
   ]
  },
  {
   "cell_type": "markdown",
   "id": "d96bda1d-0bb0-4d45-a33b-0cdeda3701ae",
   "metadata": {},
   "source": [
    "### QQplot"
   ]
  },
  {
   "cell_type": "code",
   "execution_count": 89,
   "id": "d1cddd29-573d-48ab-bb14-1309a613083e",
   "metadata": {},
   "outputs": [
    {
     "data": {
      "image/png": "[encoded data removed]",
      "text/plain": [
       "<Figure size 576x576 with 1 Axes>"
      ]
     },
     "metadata": {
      "needs_background": "light"
     },
     "output_type": "display_data"
    }
   ],
   "source": [
    "qqplot_unif(results)"
   ]
  },
  {
   "cell_type": "markdown",
   "id": "c55e6050-595c-4d95-8ce1-0764d19d02ac",
   "metadata": {},
   "source": [
    "### Top genes in LV"
   ]
  },
  {
   "cell_type": "code",
   "execution_count": 90,
   "id": "afed7ae4-e63c-489c-a584-8439c7f6658d",
   "metadata": {},
   "outputs": [
    {
     "data": {
      "text/html": [
       "<div>\n",
       "<style scoped>\n",
       "    .dataframe tbody tr th:only-of-type {\n",
       "        vertical-align: middle;\n",
       "    }\n",
       "\n",
       "    .dataframe tbody tr th {\n",
       "        vertical-align: top;\n",
       "    }\n",
       "\n",
       "    .dataframe thead th {\n",
       "        text-align: right;\n",
       "    }\n",
       "</style>\n",
       "<table border=\"1\" class=\"dataframe\">\n",
       "  <thead>\n",
       "    <tr style=\"text-align: right;\">\n",
       "      <th></th>\n",
       "      <th>LV847</th>\n",
       "      <th>gene_band</th>\n",
       "    </tr>\n",
       "  </thead>\n",
       "  <tbody>\n",
       "    <tr>\n",
       "      <th>HIST1H3D</th>\n",
       "      <td>6.805370</td>\n",
       "      <td>6p22.2</td>\n",
       "    </tr>\n",
       "    <tr>\n",
       "      <th>HIST1H3H</th>\n",
       "      <td>6.276783</td>\n",
       "      <td>6p22.1</td>\n",
       "    </tr>\n",
       "    <tr>\n",
       "      <th>HIST1H3B</th>\n",
       "      <td>6.099625</td>\n",
       "      <td>6p22.2</td>\n",
       "    </tr>\n",
       "    <tr>\n",
       "      <th>HIST1H4E</th>\n",
       "      <td>5.971181</td>\n",
       "      <td>6p22.2</td>\n",
       "    </tr>\n",
       "    <tr>\n",
       "      <th>HIST4H4</th>\n",
       "      <td>5.431832</td>\n",
       "      <td>12p12.3</td>\n",
       "    </tr>\n",
       "    <tr>\n",
       "      <th>HIST1H2BH</th>\n",
       "      <td>5.150647</td>\n",
       "      <td>6p22.2</td>\n",
       "    </tr>\n",
       "    <tr>\n",
       "      <th>HIST1H2AE</th>\n",
       "      <td>4.324334</td>\n",
       "      <td>6p22.2</td>\n",
       "    </tr>\n",
       "    <tr>\n",
       "      <th>HIST1H2BN</th>\n",
       "      <td>4.269944</td>\n",
       "      <td>6p22.1</td>\n",
       "    </tr>\n",
       "    <tr>\n",
       "      <th>HIST1H2BE</th>\n",
       "      <td>4.258760</td>\n",
       "      <td>6p22.2</td>\n",
       "    </tr>\n",
       "    <tr>\n",
       "      <th>HIST1H2AC</th>\n",
       "      <td>4.046811</td>\n",
       "      <td>6p22.2</td>\n",
       "    </tr>\n",
       "    <tr>\n",
       "      <th>HIST1H2BJ</th>\n",
       "      <td>3.487055</td>\n",
       "      <td>6p22.1</td>\n",
       "    </tr>\n",
       "    <tr>\n",
       "      <th>HIST1H2AD</th>\n",
       "      <td>2.924400</td>\n",
       "      <td>6p22.2</td>\n",
       "    </tr>\n",
       "    <tr>\n",
       "      <th>HIST1H2BG</th>\n",
       "      <td>2.792196</td>\n",
       "      <td>6p22.2</td>\n",
       "    </tr>\n",
       "    <tr>\n",
       "      <th>HIST1H2AG</th>\n",
       "      <td>2.789826</td>\n",
       "      <td>6p22.1</td>\n",
       "    </tr>\n",
       "    <tr>\n",
       "      <th>HIST1H4H</th>\n",
       "      <td>2.607986</td>\n",
       "      <td>6p22.2</td>\n",
       "    </tr>\n",
       "    <tr>\n",
       "      <th>HIST1H4D</th>\n",
       "      <td>2.574208</td>\n",
       "      <td>6p22.2</td>\n",
       "    </tr>\n",
       "    <tr>\n",
       "      <th>HIST1H3E</th>\n",
       "      <td>1.863616</td>\n",
       "      <td>6p22.2</td>\n",
       "    </tr>\n",
       "    <tr>\n",
       "      <th>HIST1H1E</th>\n",
       "      <td>1.478541</td>\n",
       "      <td>6p22.2</td>\n",
       "    </tr>\n",
       "    <tr>\n",
       "      <th>HIST3H2BB</th>\n",
       "      <td>1.445837</td>\n",
       "      <td>1q42.13</td>\n",
       "    </tr>\n",
       "    <tr>\n",
       "      <th>HIST1H1C</th>\n",
       "      <td>1.430494</td>\n",
       "      <td>6p22.2</td>\n",
       "    </tr>\n",
       "    <tr>\n",
       "      <th>HIST1H4I</th>\n",
       "      <td>1.415225</td>\n",
       "      <td>6p22.1</td>\n",
       "    </tr>\n",
       "    <tr>\n",
       "      <th>HIST3H2A</th>\n",
       "      <td>1.410849</td>\n",
       "      <td>1q42.13</td>\n",
       "    </tr>\n",
       "    <tr>\n",
       "      <th>HIST1H1D</th>\n",
       "      <td>1.204667</td>\n",
       "      <td>6p22.2</td>\n",
       "    </tr>\n",
       "    <tr>\n",
       "      <th>H3F3B</th>\n",
       "      <td>1.137358</td>\n",
       "      <td>17q25.1</td>\n",
       "    </tr>\n",
       "    <tr>\n",
       "      <th>H2AFX</th>\n",
       "      <td>1.117481</td>\n",
       "      <td>11q23.3</td>\n",
       "    </tr>\n",
       "  </tbody>\n",
       "</table>\n",
       "</div>"
      ],
      "text/plain": [
       "              LV847 gene_band\n",
       "HIST1H3D   6.805370    6p22.2\n",
       "HIST1H3H   6.276783    6p22.1\n",
       "HIST1H3B   6.099625    6p22.2\n",
       "HIST1H4E   5.971181    6p22.2\n",
       "HIST4H4    5.431832   12p12.3\n",
       "HIST1H2BH  5.150647    6p22.2\n",
       "HIST1H2AE  4.324334    6p22.2\n",
       "HIST1H2BN  4.269944    6p22.1\n",
       "HIST1H2BE  4.258760    6p22.2\n",
       "HIST1H2AC  4.046811    6p22.2\n",
       "HIST1H2BJ  3.487055    6p22.1\n",
       "HIST1H2AD  2.924400    6p22.2\n",
       "HIST1H2BG  2.792196    6p22.2\n",
       "HIST1H2AG  2.789826    6p22.1\n",
       "HIST1H4H   2.607986    6p22.2\n",
       "HIST1H4D   2.574208    6p22.2\n",
       "HIST1H3E   1.863616    6p22.2\n",
       "HIST1H1E   1.478541    6p22.2\n",
       "HIST3H2BB  1.445837   1q42.13\n",
       "HIST1H1C   1.430494    6p22.2\n",
       "HIST1H4I   1.415225    6p22.1\n",
       "HIST3H2A   1.410849   1q42.13\n",
       "HIST1H1D   1.204667    6p22.2\n",
       "H3F3B      1.137358   17q25.1\n",
       "H2AFX      1.117481   11q23.3"
      ]
     },
     "metadata": {},
     "output_type": "display_data"
    }
   ],
   "source": [
    "lv_genes = get_lv_genes(lv_code)\n",
    "display(lv_genes.head(25))"
   ]
  },
  {
   "cell_type": "code",
   "execution_count": 91,
   "id": "53795dbf-ecb2-4e0c-bb52-972e1ec721a3",
   "metadata": {},
   "outputs": [
    {
     "data": {
      "text/plain": [
       "6p22.2     15\n",
       "6p22.1      5\n",
       "1q42.13     2\n",
       "11q23.3     1\n",
       "17q25.1     1\n",
       "12p12.3     1\n",
       "17q23.2     0\n",
       "18q12.2     0\n",
       "18q12.1     0\n",
       "18q11.2     0\n",
       "Name: gene_band, dtype: int64"
      ]
     },
     "execution_count": 91,
     "metadata": {},
     "output_type": "execute_result"
    }
   ],
   "source": [
    "# see bands of top genes\n",
    "lv_genes.head(25)[\"gene_band\"].value_counts().head(10)"
   ]
  },
  {
   "cell_type": "markdown",
   "id": "3f8aaa7b-009b-4533-98b6-8143de641bd9",
   "metadata": {},
   "source": [
    "**Note**: same as LV45"
   ]
  },
  {
   "cell_type": "code",
   "execution_count": 92,
   "id": "92678126-f9e5-4b54-b4f2-8f1f32107f4c",
   "metadata": {},
   "outputs": [],
   "source": [
    "# take a look at all genes with non-zero weight\n",
    "lv_genes_nonzero_weight = lv_genes[lv_genes[lv_code] > 0]"
   ]
  },
  {
   "cell_type": "code",
   "execution_count": 93,
   "id": "58f6d647-1c29-403a-9f32-1785043755c1",
   "metadata": {},
   "outputs": [
    {
     "data": {
      "text/plain": [
       "(1434, 2)"
      ]
     },
     "execution_count": 93,
     "metadata": {},
     "output_type": "execute_result"
    }
   ],
   "source": [
    "# how many genes have non-zero weight?\n",
    "lv_genes_nonzero_weight.shape"
   ]
  },
  {
   "cell_type": "code",
   "execution_count": 94,
   "id": "64949787-e6a6-4b9c-9e8c-b024a5a6c405",
   "metadata": {},
   "outputs": [
    {
     "data": {
      "text/plain": [
       "19p13.2     20\n",
       "19p13.3     18\n",
       "2q35        16\n",
       "6p21.33     16\n",
       "19q13.42    16\n",
       "16p13.3     16\n",
       "6p22.2      15\n",
       "19q13.33    14\n",
       "3p21.31     14\n",
       "19q13.2     13\n",
       "Name: gene_band, dtype: int64"
      ]
     },
     "execution_count": 94,
     "metadata": {},
     "output_type": "execute_result"
    }
   ],
   "source": [
    "# how are bands distributed among zero weighted genes?\n",
    "lv_genes_nonzero_weight[\"gene_band\"].value_counts().head(10)"
   ]
  },
  {
   "cell_type": "code",
   "execution_count": 95,
   "id": "b486db14-6190-4d85-925f-823a6f4f20a3",
   "metadata": {},
   "outputs": [
    {
     "data": {
      "image/png": "[encoded data removed]",
      "text/plain": [
       "<Figure size 1008x504 with 1 Axes>"
      ]
     },
     "metadata": {
      "needs_background": "light"
     },
     "output_type": "display_data"
    }
   ],
   "source": [
    "# distribution of amount of bands in LV\n",
    "g = sns.displot(lv_genes_nonzero_weight[\"gene_band\"].value_counts(), height=7, aspect=2)"
   ]
  },
  {
   "cell_type": "code",
   "execution_count": 96,
   "id": "4021096e-a355-477c-b864-2326c2de38ee",
   "metadata": {},
   "outputs": [
    {
     "data": {
      "image/png": "[encoded data removed]",
      "text/plain": [
       "<Figure size 1008x504 with 1 Axes>"
      ]
     },
     "metadata": {
      "needs_background": "light"
     },
     "output_type": "display_data"
    }
   ],
   "source": [
    "# distribution of weights in LV\n",
    "g = sns.displot(lv_genes[lv_genes[lv_code] > 0][lv_code], height=7, aspect=2)"
   ]
  },
  {
   "cell_type": "markdown",
   "id": "073c7295-e521-4379-bcf8-06808edb96ab",
   "metadata": {},
   "source": [
    "### Bottom genes in LV"
   ]
  },
  {
   "cell_type": "code",
   "execution_count": 97,
   "id": "c2207d99-1244-4828-bed1-f160e5ed5cfb",
   "metadata": {},
   "outputs": [],
   "source": [
    "lv_genes_zero_weight = lv_genes[lv_genes[lv_code] <= 0]"
   ]
  },
  {
   "cell_type": "code",
   "execution_count": 98,
   "id": "898b0119-1c7e-4a6f-bb42-7937038630a7",
   "metadata": {},
   "outputs": [
    {
     "data": {
      "text/plain": [
       "(5012, 2)"
      ]
     },
     "execution_count": 98,
     "metadata": {},
     "output_type": "execute_result"
    }
   ],
   "source": [
    "# how many genes have zero weight\n",
    "lv_genes_zero_weight.shape"
   ]
  },
  {
   "cell_type": "code",
   "execution_count": 99,
   "id": "c089cdd0-216b-47fb-9d7d-c8f3457527d5",
   "metadata": {},
   "outputs": [
    {
     "data": {
      "text/plain": [
       "19p13.3     66\n",
       "16p13.3     54\n",
       "19p13.2     48\n",
       "19q13.2     47\n",
       "3p21.31     42\n",
       "16q22.1     40\n",
       "17q25.3     38\n",
       "1q21.3      37\n",
       "17p13.1     37\n",
       "19p13.11    36\n",
       "11q13.1     35\n",
       "19q13.33    34\n",
       "7q22.1      33\n",
       "1q32.1      31\n",
       "12q24.31    30\n",
       "16p11.2     29\n",
       "19q13.43    29\n",
       "14q11.2     29\n",
       "12p13.31    28\n",
       "12q13.13    28\n",
       "Name: gene_band, dtype: int64"
      ]
     },
     "execution_count": 99,
     "metadata": {},
     "output_type": "execute_result"
    }
   ],
   "source": [
    "# how are bands distributed among zero weighted genes?\n",
    "lv_genes_zero_weight[\"gene_band\"].value_counts().head(20)"
   ]
  },
  {
   "cell_type": "code",
   "execution_count": 100,
   "id": "288f7d7f-3ddb-4f29-920d-4b34b41f8106",
   "metadata": {},
   "outputs": [
    {
     "data": {
      "image/png": "[encoded data removed]",
      "text/plain": [
       "<Figure size 1008x504 with 1 Axes>"
      ]
     },
     "metadata": {
      "needs_background": "light"
     },
     "output_type": "display_data"
    }
   ],
   "source": [
    "g = sns.displot(lv_genes_zero_weight[\"gene_band\"].value_counts(), height=7, aspect=2)"
   ]
  },
  {
   "cell_type": "markdown",
   "id": "5255d9dc-dbe6-4190-b040-210af2db4f10",
   "metadata": {},
   "source": [
    "## LV110"
   ]
  },
  {
   "cell_type": "code",
   "execution_count": 101,
   "id": "597a5457-511e-4dd6-936e-69a05905f832",
   "metadata": {},
   "outputs": [],
   "source": [
    "lv_code = \"LV110\""
   ]
  },
  {
   "cell_type": "code",
   "execution_count": 102,
   "id": "8186250b-110b-4d36-9826-392b57ad98f8",
   "metadata": {},
   "outputs": [],
   "source": [
    "results = dfs[dfs[\"lv\"] == lv_code]"
   ]
  },
  {
   "cell_type": "code",
   "execution_count": 103,
   "id": "f43b64f5-4058-4530-8e47-9ec838038bcf",
   "metadata": {},
   "outputs": [
    {
     "data": {
      "text/plain": [
       "(1000, 4)"
      ]
     },
     "execution_count": 103,
     "metadata": {},
     "output_type": "execute_result"
    }
   ],
   "source": [
    "results.shape"
   ]
  },
  {
   "cell_type": "code",
   "execution_count": 104,
   "id": "177dbcd5-e609-484c-9663-f3384c2c45e5",
   "metadata": {},
   "outputs": [
    {
     "data": {
      "text/html": [
       "<div>\n",
       "<style scoped>\n",
       "    .dataframe tbody tr th:only-of-type {\n",
       "        vertical-align: middle;\n",
       "    }\n",
       "\n",
       "    .dataframe tbody tr th {\n",
       "        vertical-align: top;\n",
       "    }\n",
       "\n",
       "    .dataframe thead th {\n",
       "        text-align: right;\n",
       "    }\n",
       "</style>\n",
       "<table border=\"1\" class=\"dataframe\">\n",
       "  <thead>\n",
       "    <tr style=\"text-align: right;\">\n",
       "      <th></th>\n",
       "      <th>lv</th>\n",
       "      <th>coef</th>\n",
       "      <th>pvalue</th>\n",
       "      <th>phenotype</th>\n",
       "    </tr>\n",
       "  </thead>\n",
       "  <tbody>\n",
       "    <tr>\n",
       "      <th>109</th>\n",
       "      <td>LV110</td>\n",
       "      <td>-0.024160</td>\n",
       "      <td>0.973768</td>\n",
       "      <td>random.pheno988</td>\n",
       "    </tr>\n",
       "    <tr>\n",
       "      <th>1096</th>\n",
       "      <td>LV110</td>\n",
       "      <td>0.000731</td>\n",
       "      <td>0.476604</td>\n",
       "      <td>random.pheno589</td>\n",
       "    </tr>\n",
       "    <tr>\n",
       "      <th>2083</th>\n",
       "      <td>LV110</td>\n",
       "      <td>-0.005028</td>\n",
       "      <td>0.656726</td>\n",
       "      <td>random.pheno385</td>\n",
       "    </tr>\n",
       "    <tr>\n",
       "      <th>3070</th>\n",
       "      <td>LV110</td>\n",
       "      <td>-0.005938</td>\n",
       "      <td>0.683164</td>\n",
       "      <td>random.pheno5</td>\n",
       "    </tr>\n",
       "    <tr>\n",
       "      <th>4057</th>\n",
       "      <td>LV110</td>\n",
       "      <td>0.009946</td>\n",
       "      <td>0.212348</td>\n",
       "      <td>random.pheno74</td>\n",
       "    </tr>\n",
       "  </tbody>\n",
       "</table>\n",
       "</div>"
      ],
      "text/plain": [
       "         lv      coef    pvalue        phenotype\n",
       "109   LV110 -0.024160  0.973768  random.pheno988\n",
       "1096  LV110  0.000731  0.476604  random.pheno589\n",
       "2083  LV110 -0.005028  0.656726  random.pheno385\n",
       "3070  LV110 -0.005938  0.683164    random.pheno5\n",
       "4057  LV110  0.009946  0.212348   random.pheno74"
      ]
     },
     "execution_count": 104,
     "metadata": {},
     "output_type": "execute_result"
    }
   ],
   "source": [
    "results.head()"
   ]
  },
  {
   "cell_type": "code",
   "execution_count": 105,
   "id": "b1a551dc-9c49-447d-91c6-ae83b016a5df",
   "metadata": {},
   "outputs": [],
   "source": [
    "# save for future reference\n",
    "lv_results_high[lv_code] = results"
   ]
  },
  {
   "cell_type": "markdown",
   "id": "ac1bda3d-a3a3-4f9f-97c7-88a58eb58e54",
   "metadata": {},
   "source": [
    "### Mean type I errors at different thresholds"
   ]
  },
  {
   "cell_type": "code",
   "execution_count": 106,
   "id": "3085327e-2c7a-43ca-834e-f022bc952d52",
   "metadata": {},
   "outputs": [
    {
     "data": {
      "text/plain": [
       "0.077"
      ]
     },
     "execution_count": 106,
     "metadata": {},
     "output_type": "execute_result"
    }
   ],
   "source": [
    "show_prop(results, 0.01)"
   ]
  },
  {
   "cell_type": "code",
   "execution_count": 107,
   "id": "682f99d5-87c7-4ad0-9b52-c685beb8a224",
   "metadata": {},
   "outputs": [
    {
     "data": {
      "text/plain": [
       "0.127"
      ]
     },
     "execution_count": 107,
     "metadata": {},
     "output_type": "execute_result"
    }
   ],
   "source": [
    "show_prop(results, 0.05)"
   ]
  },
  {
   "cell_type": "code",
   "execution_count": 108,
   "id": "3ce64dbe-0b80-4b69-92f0-2798969034d6",
   "metadata": {},
   "outputs": [
    {
     "data": {
      "text/plain": [
       "0.178"
      ]
     },
     "execution_count": 108,
     "metadata": {},
     "output_type": "execute_result"
    }
   ],
   "source": [
    "show_prop(results, 0.10)"
   ]
  },
  {
   "cell_type": "code",
   "execution_count": 109,
   "id": "3d8500aa-af02-4f32-bc1e-c2507ba202eb",
   "metadata": {},
   "outputs": [
    {
     "data": {
      "text/plain": [
       "0.213"
      ]
     },
     "execution_count": 109,
     "metadata": {},
     "output_type": "execute_result"
    }
   ],
   "source": [
    "show_prop(results, 0.15)"
   ]
  },
  {
   "cell_type": "code",
   "execution_count": 110,
   "id": "3f22c2c6-ced5-4ea3-9945-921b4a11f2b6",
   "metadata": {},
   "outputs": [
    {
     "data": {
      "text/plain": [
       "0.249"
      ]
     },
     "execution_count": 110,
     "metadata": {},
     "output_type": "execute_result"
    }
   ],
   "source": [
    "show_prop(results, 0.20)"
   ]
  },
  {
   "cell_type": "markdown",
   "id": "a2c699de-c6e2-493f-a4f8-0e62321bbf09",
   "metadata": {},
   "source": [
    "### QQplot"
   ]
  },
  {
   "cell_type": "code",
   "execution_count": 111,
   "id": "d0efc9ff-b5c9-4d39-826e-e2859af4c3ed",
   "metadata": {},
   "outputs": [
    {
     "data": {
      "image/png": "[encoded data removed]",
      "text/plain": [
       "<Figure size 576x576 with 1 Axes>"
      ]
     },
     "metadata": {
      "needs_background": "light"
     },
     "output_type": "display_data"
    }
   ],
   "source": [
    "qqplot_unif(results)"
   ]
  },
  {
   "cell_type": "markdown",
   "id": "a94515d3-07ae-4468-8813-a1b43b0cfaac",
   "metadata": {},
   "source": [
    "### Top genes in LV"
   ]
  },
  {
   "cell_type": "code",
   "execution_count": 112,
   "id": "11e2ade5-c708-4b9b-99eb-ae069833be0f",
   "metadata": {},
   "outputs": [
    {
     "data": {
      "text/html": [
       "<div>\n",
       "<style scoped>\n",
       "    .dataframe tbody tr th:only-of-type {\n",
       "        vertical-align: middle;\n",
       "    }\n",
       "\n",
       "    .dataframe tbody tr th {\n",
       "        vertical-align: top;\n",
       "    }\n",
       "\n",
       "    .dataframe thead th {\n",
       "        text-align: right;\n",
       "    }\n",
       "</style>\n",
       "<table border=\"1\" class=\"dataframe\">\n",
       "  <thead>\n",
       "    <tr style=\"text-align: right;\">\n",
       "      <th></th>\n",
       "      <th>LV110</th>\n",
       "      <th>gene_band</th>\n",
       "    </tr>\n",
       "  </thead>\n",
       "  <tbody>\n",
       "    <tr>\n",
       "      <th>HIST1H4D</th>\n",
       "      <td>6.862617</td>\n",
       "      <td>6p22.2</td>\n",
       "    </tr>\n",
       "    <tr>\n",
       "      <th>HIST1H2AD</th>\n",
       "      <td>6.425544</td>\n",
       "      <td>6p22.2</td>\n",
       "    </tr>\n",
       "    <tr>\n",
       "      <th>HIST1H1E</th>\n",
       "      <td>6.329128</td>\n",
       "      <td>6p22.2</td>\n",
       "    </tr>\n",
       "    <tr>\n",
       "      <th>HIST1H1C</th>\n",
       "      <td>5.829177</td>\n",
       "      <td>6p22.2</td>\n",
       "    </tr>\n",
       "    <tr>\n",
       "      <th>HIST1H1D</th>\n",
       "      <td>5.497928</td>\n",
       "      <td>6p22.2</td>\n",
       "    </tr>\n",
       "    <tr>\n",
       "      <th>HIST1H2BJ</th>\n",
       "      <td>5.265400</td>\n",
       "      <td>6p22.1</td>\n",
       "    </tr>\n",
       "    <tr>\n",
       "      <th>HIST1H4I</th>\n",
       "      <td>4.974646</td>\n",
       "      <td>6p22.1</td>\n",
       "    </tr>\n",
       "    <tr>\n",
       "      <th>HIST1H2BG</th>\n",
       "      <td>4.786019</td>\n",
       "      <td>6p22.2</td>\n",
       "    </tr>\n",
       "    <tr>\n",
       "      <th>HIST1H4H</th>\n",
       "      <td>4.607877</td>\n",
       "      <td>6p22.2</td>\n",
       "    </tr>\n",
       "    <tr>\n",
       "      <th>HIST1H2BE</th>\n",
       "      <td>3.079962</td>\n",
       "      <td>6p22.2</td>\n",
       "    </tr>\n",
       "    <tr>\n",
       "      <th>TMC5</th>\n",
       "      <td>2.891850</td>\n",
       "      <td>16p12.3</td>\n",
       "    </tr>\n",
       "    <tr>\n",
       "      <th>HIST1H3E</th>\n",
       "      <td>2.630044</td>\n",
       "      <td>6p22.2</td>\n",
       "    </tr>\n",
       "    <tr>\n",
       "      <th>AMY2B</th>\n",
       "      <td>1.938398</td>\n",
       "      <td>1p21.1</td>\n",
       "    </tr>\n",
       "    <tr>\n",
       "      <th>H2AFX</th>\n",
       "      <td>1.857926</td>\n",
       "      <td>11q23.3</td>\n",
       "    </tr>\n",
       "    <tr>\n",
       "      <th>HIST1H3D</th>\n",
       "      <td>1.564853</td>\n",
       "      <td>6p22.2</td>\n",
       "    </tr>\n",
       "    <tr>\n",
       "      <th>HIST3H2A</th>\n",
       "      <td>1.139725</td>\n",
       "      <td>1q42.13</td>\n",
       "    </tr>\n",
       "    <tr>\n",
       "      <th>HIST1H2BO</th>\n",
       "      <td>1.133038</td>\n",
       "      <td>6p22.1</td>\n",
       "    </tr>\n",
       "    <tr>\n",
       "      <th>HIST1H2BD</th>\n",
       "      <td>1.109884</td>\n",
       "      <td>6p22.2</td>\n",
       "    </tr>\n",
       "    <tr>\n",
       "      <th>HIST1H2BC</th>\n",
       "      <td>1.104100</td>\n",
       "      <td>6p22.2</td>\n",
       "    </tr>\n",
       "    <tr>\n",
       "      <th>GPR15</th>\n",
       "      <td>1.037810</td>\n",
       "      <td>3q11.2</td>\n",
       "    </tr>\n",
       "    <tr>\n",
       "      <th>HIST3H2BB</th>\n",
       "      <td>1.014224</td>\n",
       "      <td>1q42.13</td>\n",
       "    </tr>\n",
       "    <tr>\n",
       "      <th>CD40</th>\n",
       "      <td>1.012397</td>\n",
       "      <td>20q13.12</td>\n",
       "    </tr>\n",
       "    <tr>\n",
       "      <th>CD74</th>\n",
       "      <td>0.969462</td>\n",
       "      <td>5q33.1</td>\n",
       "    </tr>\n",
       "    <tr>\n",
       "      <th>TLR9</th>\n",
       "      <td>0.966804</td>\n",
       "      <td>3p21.2</td>\n",
       "    </tr>\n",
       "    <tr>\n",
       "      <th>HIST1H2BK</th>\n",
       "      <td>0.945456</td>\n",
       "      <td>6p22.1</td>\n",
       "    </tr>\n",
       "  </tbody>\n",
       "</table>\n",
       "</div>"
      ],
      "text/plain": [
       "              LV110 gene_band\n",
       "HIST1H4D   6.862617    6p22.2\n",
       "HIST1H2AD  6.425544    6p22.2\n",
       "HIST1H1E   6.329128    6p22.2\n",
       "HIST1H1C   5.829177    6p22.2\n",
       "HIST1H1D   5.497928    6p22.2\n",
       "HIST1H2BJ  5.265400    6p22.1\n",
       "HIST1H4I   4.974646    6p22.1\n",
       "HIST1H2BG  4.786019    6p22.2\n",
       "HIST1H4H   4.607877    6p22.2\n",
       "HIST1H2BE  3.079962    6p22.2\n",
       "TMC5       2.891850   16p12.3\n",
       "HIST1H3E   2.630044    6p22.2\n",
       "AMY2B      1.938398    1p21.1\n",
       "H2AFX      1.857926   11q23.3\n",
       "HIST1H3D   1.564853    6p22.2\n",
       "HIST3H2A   1.139725   1q42.13\n",
       "HIST1H2BO  1.133038    6p22.1\n",
       "HIST1H2BD  1.109884    6p22.2\n",
       "HIST1H2BC  1.104100    6p22.2\n",
       "GPR15      1.037810    3q11.2\n",
       "HIST3H2BB  1.014224   1q42.13\n",
       "CD40       1.012397  20q13.12\n",
       "CD74       0.969462    5q33.1\n",
       "TLR9       0.966804    3p21.2\n",
       "HIST1H2BK  0.945456    6p22.1"
      ]
     },
     "metadata": {},
     "output_type": "display_data"
    }
   ],
   "source": [
    "lv_genes = get_lv_genes(lv_code)\n",
    "display(lv_genes.head(25))"
   ]
  },
  {
   "cell_type": "code",
   "execution_count": 113,
   "id": "88ba9fc1-4c92-4e23-bdbc-96e1f0bb0304",
   "metadata": {},
   "outputs": [
    {
     "data": {
      "text/plain": [
       "6p22.2      12\n",
       "6p22.1       4\n",
       "1q42.13      2\n",
       "16p12.3      1\n",
       "5q33.1       1\n",
       "20q13.12     1\n",
       "3p21.2       1\n",
       "1p21.1       1\n",
       "11q23.3      1\n",
       "3q11.2       1\n",
       "Name: gene_band, dtype: int64"
      ]
     },
     "execution_count": 113,
     "metadata": {},
     "output_type": "execute_result"
    }
   ],
   "source": [
    "# see bands of top genes\n",
    "lv_genes.head(25)[\"gene_band\"].value_counts().head(10)"
   ]
  },
  {
   "cell_type": "markdown",
   "id": "149773c5-0c55-4c9d-ae9e-0af58f30c519",
   "metadata": {},
   "source": [
    "Top genes in this LV are all from the same band, very likely causing high type I errors."
   ]
  },
  {
   "cell_type": "code",
   "execution_count": 114,
   "id": "e24bf182-53a3-4925-85a8-059903b394c4",
   "metadata": {},
   "outputs": [],
   "source": [
    "# take a look at all genes with non-zero weight\n",
    "lv_genes_nonzero_weight = lv_genes[lv_genes[lv_code] > 0]"
   ]
  },
  {
   "cell_type": "code",
   "execution_count": 115,
   "id": "09f08877-5a27-4482-92a3-3a736b3d67cb",
   "metadata": {},
   "outputs": [
    {
     "data": {
      "text/plain": [
       "(1854, 2)"
      ]
     },
     "execution_count": 115,
     "metadata": {},
     "output_type": "execute_result"
    }
   ],
   "source": [
    "# how many genes have non-zero weight?\n",
    "lv_genes_nonzero_weight.shape"
   ]
  },
  {
   "cell_type": "code",
   "execution_count": 116,
   "id": "853544bb-cd63-4229-8f31-2bd2ccdc943e",
   "metadata": {},
   "outputs": [
    {
     "data": {
      "text/plain": [
       "19p13.3     30\n",
       "19p13.2     28\n",
       "16p13.3     27\n",
       "11q13.1     23\n",
       "19q13.33    22\n",
       "19p13.11    18\n",
       "19q13.42    18\n",
       "3p21.31     17\n",
       "19q13.2     16\n",
       "16p11.2     15\n",
       "Name: gene_band, dtype: int64"
      ]
     },
     "execution_count": 116,
     "metadata": {},
     "output_type": "execute_result"
    }
   ],
   "source": [
    "# how are bands distributed among zero weighted genes?\n",
    "lv_genes_nonzero_weight[\"gene_band\"].value_counts().head(10)"
   ]
  },
  {
   "cell_type": "code",
   "execution_count": 117,
   "id": "d80be096-8a39-4de1-b61a-5c2d1804f198",
   "metadata": {},
   "outputs": [
    {
     "data": {
      "image/png": "[encoded data removed]",
      "text/plain": [
       "<Figure size 1008x504 with 1 Axes>"
      ]
     },
     "metadata": {
      "needs_background": "light"
     },
     "output_type": "display_data"
    }
   ],
   "source": [
    "# distribution of amount of bands in LV\n",
    "g = sns.displot(lv_genes_nonzero_weight[\"gene_band\"].value_counts(), height=7, aspect=2)"
   ]
  },
  {
   "cell_type": "code",
   "execution_count": 118,
   "id": "39ec1bc0-724f-49f7-9226-7280ea271d80",
   "metadata": {},
   "outputs": [
    {
     "data": {
      "image/png": "[encoded data removed]",
      "text/plain": [
       "<Figure size 1008x504 with 1 Axes>"
      ]
     },
     "metadata": {
      "needs_background": "light"
     },
     "output_type": "display_data"
    }
   ],
   "source": [
    "# distribution of weights in LV\n",
    "g = sns.displot(lv_genes[lv_genes[lv_code] > 0][lv_code], height=7, aspect=2)"
   ]
  },
  {
   "cell_type": "markdown",
   "id": "49625ccb-33da-4cf3-81db-3097c6e6aab8",
   "metadata": {},
   "source": [
    "### Bottom genes in LV"
   ]
  },
  {
   "cell_type": "code",
   "execution_count": 119,
   "id": "dcd44684-d3b4-41c4-945f-560e9f2c8c5a",
   "metadata": {},
   "outputs": [],
   "source": [
    "lv_genes_zero_weight = lv_genes[lv_genes[lv_code] <= 0]"
   ]
  },
  {
   "cell_type": "code",
   "execution_count": 120,
   "id": "efd59dbc-e446-4ccc-98e0-74bfa4b31c54",
   "metadata": {},
   "outputs": [
    {
     "data": {
      "text/plain": [
       "(4592, 2)"
      ]
     },
     "execution_count": 120,
     "metadata": {},
     "output_type": "execute_result"
    }
   ],
   "source": [
    "# how many genes have zero weight\n",
    "lv_genes_zero_weight.shape"
   ]
  },
  {
   "cell_type": "code",
   "execution_count": 121,
   "id": "09cd3447-e892-4885-8ef8-04e500771bfe",
   "metadata": {},
   "outputs": [
    {
     "data": {
      "text/plain": [
       "19p13.3     54\n",
       "19q13.2     44\n",
       "16p13.3     43\n",
       "19p13.2     40\n",
       "1q21.3      39\n",
       "3p21.31     39\n",
       "16q22.1     33\n",
       "17p13.1     33\n",
       "17q25.3     32\n",
       "12q24.31    31\n",
       "7q22.1      31\n",
       "14q11.2     31\n",
       "1q32.1      30\n",
       "17q12       28\n",
       "17q11.2     28\n",
       "12q13.13    27\n",
       "6p21.1      26\n",
       "19q13.33    26\n",
       "19q13.42    25\n",
       "11q23.3     24\n",
       "Name: gene_band, dtype: int64"
      ]
     },
     "execution_count": 121,
     "metadata": {},
     "output_type": "execute_result"
    }
   ],
   "source": [
    "# how are bands distributed among zero weighted genes?\n",
    "lv_genes_zero_weight[\"gene_band\"].value_counts().head(20)"
   ]
  },
  {
   "cell_type": "code",
   "execution_count": 122,
   "id": "6f0077d8-fed4-4b9a-b6e3-0fe80fb68708",
   "metadata": {},
   "outputs": [
    {
     "data": {
      "image/png": "[encoded data removed]",
      "text/plain": [
       "<Figure size 1008x504 with 1 Axes>"
      ]
     },
     "metadata": {
      "needs_background": "light"
     },
     "output_type": "display_data"
    }
   ],
   "source": [
    "g = sns.displot(lv_genes_zero_weight[\"gene_band\"].value_counts(), height=7, aspect=2)"
   ]
  },
  {
   "cell_type": "markdown",
   "id": "5a289581-af27-4359-b765-b76e5ba6b77d",
   "metadata": {},
   "source": [
    "## LV769"
   ]
  },
  {
   "cell_type": "code",
   "execution_count": 123,
   "id": "70f99ae2-c0da-4569-83c8-a270714eeb29",
   "metadata": {},
   "outputs": [],
   "source": [
    "lv_code = \"LV769\""
   ]
  },
  {
   "cell_type": "code",
   "execution_count": 124,
   "id": "f616891c-9664-4de8-8017-c5d52c75cf15",
   "metadata": {},
   "outputs": [],
   "source": [
    "results = dfs[dfs[\"lv\"] == lv_code]"
   ]
  },
  {
   "cell_type": "code",
   "execution_count": 125,
   "id": "f18dd59a-cf9f-4852-93da-50cf08f22014",
   "metadata": {},
   "outputs": [
    {
     "data": {
      "text/plain": [
       "(1000, 4)"
      ]
     },
     "execution_count": 125,
     "metadata": {},
     "output_type": "execute_result"
    }
   ],
   "source": [
    "results.shape"
   ]
  },
  {
   "cell_type": "code",
   "execution_count": 126,
   "id": "2d9cbf2c-b08c-4d46-91d6-cf012b5e4f59",
   "metadata": {},
   "outputs": [
    {
     "data": {
      "text/html": [
       "<div>\n",
       "<style scoped>\n",
       "    .dataframe tbody tr th:only-of-type {\n",
       "        vertical-align: middle;\n",
       "    }\n",
       "\n",
       "    .dataframe tbody tr th {\n",
       "        vertical-align: top;\n",
       "    }\n",
       "\n",
       "    .dataframe thead th {\n",
       "        text-align: right;\n",
       "    }\n",
       "</style>\n",
       "<table border=\"1\" class=\"dataframe\">\n",
       "  <thead>\n",
       "    <tr style=\"text-align: right;\">\n",
       "      <th></th>\n",
       "      <th>lv</th>\n",
       "      <th>coef</th>\n",
       "      <th>pvalue</th>\n",
       "      <th>phenotype</th>\n",
       "    </tr>\n",
       "  </thead>\n",
       "  <tbody>\n",
       "    <tr>\n",
       "      <th>768</th>\n",
       "      <td>LV769</td>\n",
       "      <td>0.012389</td>\n",
       "      <td>0.160028</td>\n",
       "      <td>random.pheno988</td>\n",
       "    </tr>\n",
       "    <tr>\n",
       "      <th>1755</th>\n",
       "      <td>LV769</td>\n",
       "      <td>0.001512</td>\n",
       "      <td>0.451694</td>\n",
       "      <td>random.pheno589</td>\n",
       "    </tr>\n",
       "    <tr>\n",
       "      <th>2742</th>\n",
       "      <td>LV769</td>\n",
       "      <td>0.002059</td>\n",
       "      <td>0.434367</td>\n",
       "      <td>random.pheno385</td>\n",
       "    </tr>\n",
       "    <tr>\n",
       "      <th>3729</th>\n",
       "      <td>LV769</td>\n",
       "      <td>-0.021138</td>\n",
       "      <td>0.955120</td>\n",
       "      <td>random.pheno5</td>\n",
       "    </tr>\n",
       "    <tr>\n",
       "      <th>4716</th>\n",
       "      <td>LV769</td>\n",
       "      <td>-0.018998</td>\n",
       "      <td>0.936360</td>\n",
       "      <td>random.pheno74</td>\n",
       "    </tr>\n",
       "  </tbody>\n",
       "</table>\n",
       "</div>"
      ],
      "text/plain": [
       "         lv      coef    pvalue        phenotype\n",
       "768   LV769  0.012389  0.160028  random.pheno988\n",
       "1755  LV769  0.001512  0.451694  random.pheno589\n",
       "2742  LV769  0.002059  0.434367  random.pheno385\n",
       "3729  LV769 -0.021138  0.955120    random.pheno5\n",
       "4716  LV769 -0.018998  0.936360   random.pheno74"
      ]
     },
     "execution_count": 126,
     "metadata": {},
     "output_type": "execute_result"
    }
   ],
   "source": [
    "results.head()"
   ]
  },
  {
   "cell_type": "code",
   "execution_count": 127,
   "id": "d1d774ca-835b-4aa8-bb56-40f973d6d0e8",
   "metadata": {},
   "outputs": [],
   "source": [
    "# save for future reference\n",
    "lv_results_high[lv_code] = results"
   ]
  },
  {
   "cell_type": "markdown",
   "id": "c08f6aa2-d333-4997-bdbb-df45ec6461c3",
   "metadata": {},
   "source": [
    "### Mean type I errors at different thresholds"
   ]
  },
  {
   "cell_type": "code",
   "execution_count": 128,
   "id": "45170182-b3f8-41b8-8d4a-27e5357a1723",
   "metadata": {},
   "outputs": [
    {
     "data": {
      "text/plain": [
       "0.038"
      ]
     },
     "execution_count": 128,
     "metadata": {},
     "output_type": "execute_result"
    }
   ],
   "source": [
    "show_prop(results, 0.01)"
   ]
  },
  {
   "cell_type": "code",
   "execution_count": 129,
   "id": "15a320e5-76b4-462c-91f0-02b2d2a4c281",
   "metadata": {},
   "outputs": [
    {
     "data": {
      "text/plain": [
       "0.12"
      ]
     },
     "execution_count": 129,
     "metadata": {},
     "output_type": "execute_result"
    }
   ],
   "source": [
    "show_prop(results, 0.05)"
   ]
  },
  {
   "cell_type": "code",
   "execution_count": 130,
   "id": "8740d710-1e2d-447d-915d-1a2735a17021",
   "metadata": {},
   "outputs": [
    {
     "data": {
      "text/plain": [
       "0.198"
      ]
     },
     "execution_count": 130,
     "metadata": {},
     "output_type": "execute_result"
    }
   ],
   "source": [
    "show_prop(results, 0.10)"
   ]
  },
  {
   "cell_type": "code",
   "execution_count": 131,
   "id": "82681aa8-53c4-4c20-992d-4e29c78f9933",
   "metadata": {},
   "outputs": [
    {
     "data": {
      "text/plain": [
       "0.25"
      ]
     },
     "execution_count": 131,
     "metadata": {},
     "output_type": "execute_result"
    }
   ],
   "source": [
    "show_prop(results, 0.15)"
   ]
  },
  {
   "cell_type": "code",
   "execution_count": 132,
   "id": "730803db-f0bc-4044-ab4a-d73cc026f51b",
   "metadata": {},
   "outputs": [
    {
     "data": {
      "text/plain": [
       "0.307"
      ]
     },
     "execution_count": 132,
     "metadata": {},
     "output_type": "execute_result"
    }
   ],
   "source": [
    "show_prop(results, 0.20)"
   ]
  },
  {
   "cell_type": "markdown",
   "id": "e86c01b1-cda2-4905-aed1-9f5c659b0f9c",
   "metadata": {},
   "source": [
    "### QQplot"
   ]
  },
  {
   "cell_type": "code",
   "execution_count": 133,
   "id": "8bf2f7d7-b272-41cf-8805-f5c72c811aab",
   "metadata": {},
   "outputs": [
    {
     "data": {
      "image/png": "[encoded data removed]",
      "text/plain": [
       "<Figure size 576x576 with 1 Axes>"
      ]
     },
     "metadata": {
      "needs_background": "light"
     },
     "output_type": "display_data"
    }
   ],
   "source": [
    "qqplot_unif(results)"
   ]
  },
  {
   "cell_type": "markdown",
   "id": "a064d277-41a2-4249-b382-7404c83470f9",
   "metadata": {},
   "source": [
    "The QQplot here is not the same as the LVs before. In previous LVs, there are very small pvalues, likely because of the genes from the same region at the top of the LV.\n",
    "\n",
    "Here p-values are consistently smaller than expected, but there are no very small p-values."
   ]
  },
  {
   "cell_type": "markdown",
   "id": "51c58fe4-5606-4d14-8256-187124ee8716",
   "metadata": {},
   "source": [
    "### Top genes in LV"
   ]
  },
  {
   "cell_type": "code",
   "execution_count": 134,
   "id": "85d99895-3124-4eba-8d3a-e5e76d88890e",
   "metadata": {},
   "outputs": [
    {
     "data": {
      "text/html": [
       "<div>\n",
       "<style scoped>\n",
       "    .dataframe tbody tr th:only-of-type {\n",
       "        vertical-align: middle;\n",
       "    }\n",
       "\n",
       "    .dataframe tbody tr th {\n",
       "        vertical-align: top;\n",
       "    }\n",
       "\n",
       "    .dataframe thead th {\n",
       "        text-align: right;\n",
       "    }\n",
       "</style>\n",
       "<table border=\"1\" class=\"dataframe\">\n",
       "  <thead>\n",
       "    <tr style=\"text-align: right;\">\n",
       "      <th></th>\n",
       "      <th>LV769</th>\n",
       "      <th>gene_band</th>\n",
       "    </tr>\n",
       "  </thead>\n",
       "  <tbody>\n",
       "    <tr>\n",
       "      <th>RCHY1</th>\n",
       "      <td>4.709602</td>\n",
       "      <td>4q21.1</td>\n",
       "    </tr>\n",
       "    <tr>\n",
       "      <th>MICB</th>\n",
       "      <td>4.094715</td>\n",
       "      <td>6p21.33</td>\n",
       "    </tr>\n",
       "    <tr>\n",
       "      <th>FAM20B</th>\n",
       "      <td>2.025532</td>\n",
       "      <td>1q25.2</td>\n",
       "    </tr>\n",
       "    <tr>\n",
       "      <th>GLUD1</th>\n",
       "      <td>1.944526</td>\n",
       "      <td>10q23.2</td>\n",
       "    </tr>\n",
       "    <tr>\n",
       "      <th>SPHK2</th>\n",
       "      <td>1.873681</td>\n",
       "      <td>19q13.33</td>\n",
       "    </tr>\n",
       "    <tr>\n",
       "      <th>UBE2T</th>\n",
       "      <td>1.610870</td>\n",
       "      <td>1q32.1</td>\n",
       "    </tr>\n",
       "    <tr>\n",
       "      <th>SPDYA</th>\n",
       "      <td>1.517940</td>\n",
       "      <td>2p23.2</td>\n",
       "    </tr>\n",
       "    <tr>\n",
       "      <th>CYP26B1</th>\n",
       "      <td>1.394458</td>\n",
       "      <td>2p13.2</td>\n",
       "    </tr>\n",
       "    <tr>\n",
       "      <th>MREG</th>\n",
       "      <td>1.239710</td>\n",
       "      <td>2q35</td>\n",
       "    </tr>\n",
       "    <tr>\n",
       "      <th>ZNF584</th>\n",
       "      <td>1.126256</td>\n",
       "      <td>19q13.43</td>\n",
       "    </tr>\n",
       "    <tr>\n",
       "      <th>PRKAG2</th>\n",
       "      <td>1.036963</td>\n",
       "      <td>7q36.1</td>\n",
       "    </tr>\n",
       "    <tr>\n",
       "      <th>CXCL1</th>\n",
       "      <td>1.022290</td>\n",
       "      <td>4q13.3</td>\n",
       "    </tr>\n",
       "    <tr>\n",
       "      <th>POLE2</th>\n",
       "      <td>0.990470</td>\n",
       "      <td>14q21.3</td>\n",
       "    </tr>\n",
       "    <tr>\n",
       "      <th>ZNF282</th>\n",
       "      <td>0.972943</td>\n",
       "      <td>7q36.1</td>\n",
       "    </tr>\n",
       "    <tr>\n",
       "      <th>GNB3</th>\n",
       "      <td>0.964598</td>\n",
       "      <td>12p13.31</td>\n",
       "    </tr>\n",
       "    <tr>\n",
       "      <th>PEX2</th>\n",
       "      <td>0.922494</td>\n",
       "      <td>8q21.13</td>\n",
       "    </tr>\n",
       "    <tr>\n",
       "      <th>GTF2H5</th>\n",
       "      <td>0.919161</td>\n",
       "      <td>6q25.3</td>\n",
       "    </tr>\n",
       "    <tr>\n",
       "      <th>PSD3</th>\n",
       "      <td>0.918352</td>\n",
       "      <td>8p22</td>\n",
       "    </tr>\n",
       "    <tr>\n",
       "      <th>TBC1D8</th>\n",
       "      <td>0.907158</td>\n",
       "      <td>2q11.2</td>\n",
       "    </tr>\n",
       "    <tr>\n",
       "      <th>DDX46</th>\n",
       "      <td>0.899935</td>\n",
       "      <td>5q31.1</td>\n",
       "    </tr>\n",
       "    <tr>\n",
       "      <th>DECR1</th>\n",
       "      <td>0.894977</td>\n",
       "      <td>8q21.3</td>\n",
       "    </tr>\n",
       "    <tr>\n",
       "      <th>MAPK6</th>\n",
       "      <td>0.888203</td>\n",
       "      <td>15q21.2</td>\n",
       "    </tr>\n",
       "    <tr>\n",
       "      <th>ZCCHC7</th>\n",
       "      <td>0.821980</td>\n",
       "      <td>9p13.2</td>\n",
       "    </tr>\n",
       "    <tr>\n",
       "      <th>JAG2</th>\n",
       "      <td>0.741733</td>\n",
       "      <td>14q32.33</td>\n",
       "    </tr>\n",
       "    <tr>\n",
       "      <th>MICA</th>\n",
       "      <td>0.703970</td>\n",
       "      <td>6p21.33</td>\n",
       "    </tr>\n",
       "  </tbody>\n",
       "</table>\n",
       "</div>"
      ],
      "text/plain": [
       "            LV769 gene_band\n",
       "RCHY1    4.709602    4q21.1\n",
       "MICB     4.094715   6p21.33\n",
       "FAM20B   2.025532    1q25.2\n",
       "GLUD1    1.944526   10q23.2\n",
       "SPHK2    1.873681  19q13.33\n",
       "UBE2T    1.610870    1q32.1\n",
       "SPDYA    1.517940    2p23.2\n",
       "CYP26B1  1.394458    2p13.2\n",
       "MREG     1.239710      2q35\n",
       "ZNF584   1.126256  19q13.43\n",
       "PRKAG2   1.036963    7q36.1\n",
       "CXCL1    1.022290    4q13.3\n",
       "POLE2    0.990470   14q21.3\n",
       "ZNF282   0.972943    7q36.1\n",
       "GNB3     0.964598  12p13.31\n",
       "PEX2     0.922494   8q21.13\n",
       "GTF2H5   0.919161    6q25.3\n",
       "PSD3     0.918352      8p22\n",
       "TBC1D8   0.907158    2q11.2\n",
       "DDX46    0.899935    5q31.1\n",
       "DECR1    0.894977    8q21.3\n",
       "MAPK6    0.888203   15q21.2\n",
       "ZCCHC7   0.821980    9p13.2\n",
       "JAG2     0.741733  14q32.33\n",
       "MICA     0.703970   6p21.33"
      ]
     },
     "metadata": {},
     "output_type": "display_data"
    }
   ],
   "source": [
    "lv_genes = get_lv_genes(lv_code)\n",
    "display(lv_genes.head(25))"
   ]
  },
  {
   "cell_type": "markdown",
   "id": "ee94c8e2-244e-4b19-adf5-aee95a718d0a",
   "metadata": {},
   "source": [
    "Ok, first LV that does not have genes from the same band at the top. What's going on here?"
   ]
  },
  {
   "cell_type": "code",
   "execution_count": 135,
   "id": "a807d7a6-cc70-4d57-ae0c-178614e5a1b1",
   "metadata": {},
   "outputs": [
    {
     "data": {
      "text/plain": [
       "6p21.33    2\n",
       "7q36.1     2\n",
       "4q13.3     1\n",
       "8q21.13    1\n",
       "9p13.2     1\n",
       "2p23.2     1\n",
       "5q31.1     1\n",
       "4q21.1     1\n",
       "2q11.2     1\n",
       "1q25.2     1\n",
       "Name: gene_band, dtype: int64"
      ]
     },
     "execution_count": 135,
     "metadata": {},
     "output_type": "execute_result"
    }
   ],
   "source": [
    "# see bands of top genes\n",
    "lv_genes.head(25)[\"gene_band\"].value_counts().head(10)"
   ]
  },
  {
   "cell_type": "markdown",
   "id": "abc9ea0c-bd4f-435f-a920-ec288db98fc6",
   "metadata": {},
   "source": [
    "There are same genes from the same band at the top, but not that many as the other LVs.\n",
    "**However**, top genes from chr 6 are here. Those might be highly correlated."
   ]
  },
  {
   "cell_type": "code",
   "execution_count": 136,
   "id": "ddfc9979-30e7-4a7d-ba12-5030558be2d0",
   "metadata": {},
   "outputs": [],
   "source": [
    "# take a look at all genes with non-zero weight\n",
    "lv_genes_nonzero_weight = lv_genes[lv_genes[lv_code] > 0]"
   ]
  },
  {
   "cell_type": "code",
   "execution_count": 137,
   "id": "3b5d85de-19d4-43c5-83a0-785f25e68c5b",
   "metadata": {},
   "outputs": [
    {
     "data": {
      "text/plain": [
       "(2457, 2)"
      ]
     },
     "execution_count": 137,
     "metadata": {},
     "output_type": "execute_result"
    }
   ],
   "source": [
    "# how many genes have non-zero weight?\n",
    "lv_genes_nonzero_weight.shape"
   ]
  },
  {
   "cell_type": "code",
   "execution_count": 138,
   "id": "af19f8b5-d40f-4e1d-8ff3-aa56e9019617",
   "metadata": {},
   "outputs": [
    {
     "data": {
      "text/plain": [
       "19q13.2     32\n",
       "19p13.3     28\n",
       "16p13.3     25\n",
       "19p13.2     25\n",
       "1q21.3      24\n",
       "19q13.33    23\n",
       "11q13.1     20\n",
       "3p21.31     20\n",
       "11q13.2     19\n",
       "19q13.42    19\n",
       "Name: gene_band, dtype: int64"
      ]
     },
     "execution_count": 138,
     "metadata": {},
     "output_type": "execute_result"
    }
   ],
   "source": [
    "# how are bands distributed among zero weighted genes?\n",
    "lv_genes_nonzero_weight[\"gene_band\"].value_counts().head(10)"
   ]
  },
  {
   "cell_type": "code",
   "execution_count": 139,
   "id": "37430e11-8249-47f8-bf87-384071ef74d2",
   "metadata": {},
   "outputs": [
    {
     "data": {
      "image/png": "[encoded data removed]",
      "text/plain": [
       "<Figure size 1008x504 with 1 Axes>"
      ]
     },
     "metadata": {
      "needs_background": "light"
     },
     "output_type": "display_data"
    }
   ],
   "source": [
    "# distribution of amount of bands in LV\n",
    "g = sns.displot(lv_genes_nonzero_weight[\"gene_band\"].value_counts(), height=7, aspect=2)"
   ]
  },
  {
   "cell_type": "code",
   "execution_count": 140,
   "id": "0f30b732-5bd8-42ca-a5c1-7a675c921714",
   "metadata": {},
   "outputs": [
    {
     "data": {
      "image/png": "[encoded data removed]",
      "text/plain": [
       "<Figure size 1008x504 with 1 Axes>"
      ]
     },
     "metadata": {
      "needs_background": "light"
     },
     "output_type": "display_data"
    }
   ],
   "source": [
    "# distribution of weights in LV\n",
    "g = sns.displot(lv_genes[lv_genes[lv_code] > 0][lv_code], height=7, aspect=2)"
   ]
  },
  {
   "cell_type": "markdown",
   "id": "2dfa28fc-e4ff-46c3-acd5-d72dc0ef0b98",
   "metadata": {},
   "source": [
    "### Bottom genes in LV"
   ]
  },
  {
   "cell_type": "code",
   "execution_count": 141,
   "id": "25de978b-15b3-4767-ac51-114429d0b30f",
   "metadata": {},
   "outputs": [],
   "source": [
    "lv_genes_zero_weight = lv_genes[lv_genes[lv_code] <= 0]"
   ]
  },
  {
   "cell_type": "code",
   "execution_count": 142,
   "id": "c1632f85-bd75-4a10-8983-217e39503dff",
   "metadata": {},
   "outputs": [
    {
     "data": {
      "text/plain": [
       "(3989, 2)"
      ]
     },
     "execution_count": 142,
     "metadata": {},
     "output_type": "execute_result"
    }
   ],
   "source": [
    "# how many genes have zero weight\n",
    "lv_genes_zero_weight.shape"
   ]
  },
  {
   "cell_type": "code",
   "execution_count": 143,
   "id": "89e723ff-118b-4d70-96e5-6aa4754e405d",
   "metadata": {},
   "outputs": [
    {
     "data": {
      "text/plain": [
       "19p13.3     56\n",
       "16p13.3     45\n",
       "19p13.2     43\n",
       "3p21.31     36\n",
       "7q22.1      33\n",
       "17q25.3     32\n",
       "16q22.1     28\n",
       "19q13.2     28\n",
       "17p13.1     27\n",
       "6p21.1      27\n",
       "19p13.11    25\n",
       "14q11.2     25\n",
       "12q24.31    25\n",
       "19q13.33    25\n",
       "12p13.31    25\n",
       "11q13.1     24\n",
       "19q13.42    24\n",
       "17q12       24\n",
       "19q13.43    23\n",
       "17q11.2     23\n",
       "Name: gene_band, dtype: int64"
      ]
     },
     "execution_count": 143,
     "metadata": {},
     "output_type": "execute_result"
    }
   ],
   "source": [
    "# how are bands distributed among zero weighted genes?\n",
    "lv_genes_zero_weight[\"gene_band\"].value_counts().head(20)"
   ]
  },
  {
   "cell_type": "code",
   "execution_count": 144,
   "id": "a1dfcf74-89cd-46da-893f-cd1f5ae6fe2c",
   "metadata": {},
   "outputs": [
    {
     "data": {
      "image/png": "[encoded data removed]",
      "text/plain": [
       "<Figure size 1008x504 with 1 Axes>"
      ]
     },
     "metadata": {
      "needs_background": "light"
     },
     "output_type": "display_data"
    }
   ],
   "source": [
    "g = sns.displot(lv_genes_zero_weight[\"gene_band\"].value_counts(), height=7, aspect=2)"
   ]
  },
  {
   "cell_type": "code",
   "execution_count": 145,
   "id": "420c07f4-59f1-424e-a853-02d65e83f1ce",
   "metadata": {},
   "outputs": [
    {
     "data": {
      "image/png": "[encoded data removed]",
      "text/plain": [
       "<Figure size 432x288 with 1 Axes>"
      ]
     },
     "metadata": {
      "needs_background": "light"
     },
     "output_type": "display_data"
    }
   ],
   "source": [
    "# compare band sizes distribution from top and bottom genes\n",
    "fig = sns.kdeplot(\n",
    "    lv_genes_nonzero_weight[\"gene_band\"].value_counts(), shade=True, color=\"r\"\n",
    ")\n",
    "fig = sns.kdeplot(\n",
    "    lv_genes_zero_weight[\"gene_band\"].value_counts(), shade=True, color=\"b\"\n",
    ")\n",
    "plt.show()"
   ]
  },
  {
   "cell_type": "markdown",
   "id": "10f0d0f7-e1dd-4c84-bcea-48055be0d97b",
   "metadata": {},
   "source": [
    "## LV800"
   ]
  },
  {
   "cell_type": "code",
   "execution_count": 146,
   "id": "be728e80-b79d-4523-ad08-45ad0842cc4a",
   "metadata": {},
   "outputs": [],
   "source": [
    "lv_code = \"LV800\""
   ]
  },
  {
   "cell_type": "code",
   "execution_count": 147,
   "id": "dcc1d33a-cac3-4f20-80b5-d688cc3eaedc",
   "metadata": {},
   "outputs": [],
   "source": [
    "results = dfs[dfs[\"lv\"] == lv_code]"
   ]
  },
  {
   "cell_type": "code",
   "execution_count": 148,
   "id": "13f76ec8-c46b-4f24-b71a-ee60604f45a0",
   "metadata": {},
   "outputs": [
    {
     "data": {
      "text/plain": [
       "(1000, 4)"
      ]
     },
     "execution_count": 148,
     "metadata": {},
     "output_type": "execute_result"
    }
   ],
   "source": [
    "results.shape"
   ]
  },
  {
   "cell_type": "code",
   "execution_count": 149,
   "id": "e36343f6-0cd8-4c7e-a2b0-fd0a92e14dcf",
   "metadata": {},
   "outputs": [
    {
     "data": {
      "text/html": [
       "<div>\n",
       "<style scoped>\n",
       "    .dataframe tbody tr th:only-of-type {\n",
       "        vertical-align: middle;\n",
       "    }\n",
       "\n",
       "    .dataframe tbody tr th {\n",
       "        vertical-align: top;\n",
       "    }\n",
       "\n",
       "    .dataframe thead th {\n",
       "        text-align: right;\n",
       "    }\n",
       "</style>\n",
       "<table border=\"1\" class=\"dataframe\">\n",
       "  <thead>\n",
       "    <tr style=\"text-align: right;\">\n",
       "      <th></th>\n",
       "      <th>lv</th>\n",
       "      <th>coef</th>\n",
       "      <th>pvalue</th>\n",
       "      <th>phenotype</th>\n",
       "    </tr>\n",
       "  </thead>\n",
       "  <tbody>\n",
       "    <tr>\n",
       "      <th>799</th>\n",
       "      <td>LV800</td>\n",
       "      <td>0.011483</td>\n",
       "      <td>0.178353</td>\n",
       "      <td>random.pheno988</td>\n",
       "    </tr>\n",
       "    <tr>\n",
       "      <th>1786</th>\n",
       "      <td>LV800</td>\n",
       "      <td>0.003140</td>\n",
       "      <td>0.400517</td>\n",
       "      <td>random.pheno589</td>\n",
       "    </tr>\n",
       "    <tr>\n",
       "      <th>2773</th>\n",
       "      <td>LV800</td>\n",
       "      <td>-0.010199</td>\n",
       "      <td>0.793478</td>\n",
       "      <td>random.pheno385</td>\n",
       "    </tr>\n",
       "    <tr>\n",
       "      <th>3760</th>\n",
       "      <td>LV800</td>\n",
       "      <td>-0.021727</td>\n",
       "      <td>0.959422</td>\n",
       "      <td>random.pheno5</td>\n",
       "    </tr>\n",
       "    <tr>\n",
       "      <th>4747</th>\n",
       "      <td>LV800</td>\n",
       "      <td>-0.009028</td>\n",
       "      <td>0.765641</td>\n",
       "      <td>random.pheno74</td>\n",
       "    </tr>\n",
       "  </tbody>\n",
       "</table>\n",
       "</div>"
      ],
      "text/plain": [
       "         lv      coef    pvalue        phenotype\n",
       "799   LV800  0.011483  0.178353  random.pheno988\n",
       "1786  LV800  0.003140  0.400517  random.pheno589\n",
       "2773  LV800 -0.010199  0.793478  random.pheno385\n",
       "3760  LV800 -0.021727  0.959422    random.pheno5\n",
       "4747  LV800 -0.009028  0.765641   random.pheno74"
      ]
     },
     "execution_count": 149,
     "metadata": {},
     "output_type": "execute_result"
    }
   ],
   "source": [
    "results.head()"
   ]
  },
  {
   "cell_type": "code",
   "execution_count": 150,
   "id": "214464b4-ea2d-4eb5-96ed-6a3045e408a3",
   "metadata": {},
   "outputs": [],
   "source": [
    "# save for future reference\n",
    "lv_results_high[lv_code] = results"
   ]
  },
  {
   "cell_type": "markdown",
   "id": "d79a4524-b6fc-4ecc-8c1d-e3b7ec5cc896",
   "metadata": {},
   "source": [
    "### Mean type I errors at different thresholds"
   ]
  },
  {
   "cell_type": "code",
   "execution_count": 151,
   "id": "3b9ab0d0-3598-40ad-88f6-a8ac62663327",
   "metadata": {},
   "outputs": [
    {
     "data": {
      "text/plain": [
       "0.048"
      ]
     },
     "execution_count": 151,
     "metadata": {},
     "output_type": "execute_result"
    }
   ],
   "source": [
    "show_prop(results, 0.01)"
   ]
  },
  {
   "cell_type": "code",
   "execution_count": 152,
   "id": "279d7a22-def7-46f8-8e9f-dbcb5ab28ac5",
   "metadata": {},
   "outputs": [
    {
     "data": {
      "text/plain": [
       "0.116"
      ]
     },
     "execution_count": 152,
     "metadata": {},
     "output_type": "execute_result"
    }
   ],
   "source": [
    "show_prop(results, 0.05)"
   ]
  },
  {
   "cell_type": "code",
   "execution_count": 153,
   "id": "13dcb4db-64b3-464c-87de-2c586b5e7db1",
   "metadata": {},
   "outputs": [
    {
     "data": {
      "text/plain": [
       "0.181"
      ]
     },
     "execution_count": 153,
     "metadata": {},
     "output_type": "execute_result"
    }
   ],
   "source": [
    "show_prop(results, 0.10)"
   ]
  },
  {
   "cell_type": "code",
   "execution_count": 154,
   "id": "431c3f4c-31fe-421e-ada3-5977d130b637",
   "metadata": {},
   "outputs": [
    {
     "data": {
      "text/plain": [
       "0.216"
      ]
     },
     "execution_count": 154,
     "metadata": {},
     "output_type": "execute_result"
    }
   ],
   "source": [
    "show_prop(results, 0.15)"
   ]
  },
  {
   "cell_type": "code",
   "execution_count": 155,
   "id": "a3b9acbb-e075-45f0-9837-9ca4b593a912",
   "metadata": {},
   "outputs": [
    {
     "data": {
      "text/plain": [
       "0.268"
      ]
     },
     "execution_count": 155,
     "metadata": {},
     "output_type": "execute_result"
    }
   ],
   "source": [
    "show_prop(results, 0.20)"
   ]
  },
  {
   "cell_type": "markdown",
   "id": "979ddd80-06bc-44f0-9d72-8f5cae3228bc",
   "metadata": {},
   "source": [
    "### QQplot"
   ]
  },
  {
   "cell_type": "code",
   "execution_count": 156,
   "id": "2cd521a5-249c-4695-b694-a50df389fd21",
   "metadata": {},
   "outputs": [
    {
     "data": {
      "image/png": "[encoded data removed]",
      "text/plain": [
       "<Figure size 576x576 with 1 Axes>"
      ]
     },
     "metadata": {
      "needs_background": "light"
     },
     "output_type": "display_data"
    }
   ],
   "source": [
    "qqplot_unif(results)"
   ]
  },
  {
   "cell_type": "markdown",
   "id": "04cec783-4e87-400b-b5b8-686678b29608",
   "metadata": {},
   "source": [
    "**Note**: looks similar to LV769. This one has smaller minimum p-values."
   ]
  },
  {
   "cell_type": "markdown",
   "id": "9a10c289-cb30-414e-9808-1c610628f371",
   "metadata": {},
   "source": [
    "### Top genes in LV"
   ]
  },
  {
   "cell_type": "code",
   "execution_count": 157,
   "id": "664ebecf-3b54-48bd-873d-661e15fb484f",
   "metadata": {},
   "outputs": [
    {
     "data": {
      "text/html": [
       "<div>\n",
       "<style scoped>\n",
       "    .dataframe tbody tr th:only-of-type {\n",
       "        vertical-align: middle;\n",
       "    }\n",
       "\n",
       "    .dataframe tbody tr th {\n",
       "        vertical-align: top;\n",
       "    }\n",
       "\n",
       "    .dataframe thead th {\n",
       "        text-align: right;\n",
       "    }\n",
       "</style>\n",
       "<table border=\"1\" class=\"dataframe\">\n",
       "  <thead>\n",
       "    <tr style=\"text-align: right;\">\n",
       "      <th></th>\n",
       "      <th>LV800</th>\n",
       "      <th>gene_band</th>\n",
       "    </tr>\n",
       "  </thead>\n",
       "  <tbody>\n",
       "    <tr>\n",
       "      <th>ZNF20</th>\n",
       "      <td>1.980700</td>\n",
       "      <td>19p13.2</td>\n",
       "    </tr>\n",
       "    <tr>\n",
       "      <th>ZNF606</th>\n",
       "      <td>1.931659</td>\n",
       "      <td>19q13.43</td>\n",
       "    </tr>\n",
       "    <tr>\n",
       "      <th>ZNF551</th>\n",
       "      <td>1.832833</td>\n",
       "      <td>19q13.43</td>\n",
       "    </tr>\n",
       "    <tr>\n",
       "      <th>ZNF543</th>\n",
       "      <td>1.701683</td>\n",
       "      <td>19q13.43</td>\n",
       "    </tr>\n",
       "    <tr>\n",
       "      <th>ZNF14</th>\n",
       "      <td>1.640789</td>\n",
       "      <td>19p13.11</td>\n",
       "    </tr>\n",
       "    <tr>\n",
       "      <th>ZNF625</th>\n",
       "      <td>1.612766</td>\n",
       "      <td>19p13.2</td>\n",
       "    </tr>\n",
       "    <tr>\n",
       "      <th>ZNF234</th>\n",
       "      <td>1.608893</td>\n",
       "      <td>19q13.31</td>\n",
       "    </tr>\n",
       "    <tr>\n",
       "      <th>ZNF468</th>\n",
       "      <td>1.601126</td>\n",
       "      <td>19q13.41</td>\n",
       "    </tr>\n",
       "    <tr>\n",
       "      <th>ZFP28</th>\n",
       "      <td>1.591189</td>\n",
       "      <td>19q13.43</td>\n",
       "    </tr>\n",
       "    <tr>\n",
       "      <th>ZNF485</th>\n",
       "      <td>1.586159</td>\n",
       "      <td>10q11.21</td>\n",
       "    </tr>\n",
       "    <tr>\n",
       "      <th>ZNF227</th>\n",
       "      <td>1.574834</td>\n",
       "      <td>19q13.31</td>\n",
       "    </tr>\n",
       "    <tr>\n",
       "      <th>ZNF92</th>\n",
       "      <td>1.552011</td>\n",
       "      <td>7q11.21</td>\n",
       "    </tr>\n",
       "    <tr>\n",
       "      <th>ZNF567</th>\n",
       "      <td>1.542031</td>\n",
       "      <td>19q13.12</td>\n",
       "    </tr>\n",
       "    <tr>\n",
       "      <th>ZNF320</th>\n",
       "      <td>1.533357</td>\n",
       "      <td>19q13.41</td>\n",
       "    </tr>\n",
       "    <tr>\n",
       "      <th>ZNF180</th>\n",
       "      <td>1.513040</td>\n",
       "      <td>19q13.31</td>\n",
       "    </tr>\n",
       "    <tr>\n",
       "      <th>ZKSCAN4</th>\n",
       "      <td>1.506373</td>\n",
       "      <td>6p22.1</td>\n",
       "    </tr>\n",
       "    <tr>\n",
       "      <th>ZNF256</th>\n",
       "      <td>1.495805</td>\n",
       "      <td>19q13.43</td>\n",
       "    </tr>\n",
       "    <tr>\n",
       "      <th>ZNF649</th>\n",
       "      <td>1.482137</td>\n",
       "      <td>19q13.41</td>\n",
       "    </tr>\n",
       "    <tr>\n",
       "      <th>ZNF415</th>\n",
       "      <td>1.467602</td>\n",
       "      <td>19q13.42</td>\n",
       "    </tr>\n",
       "    <tr>\n",
       "      <th>ZNF43</th>\n",
       "      <td>1.465676</td>\n",
       "      <td>19p12</td>\n",
       "    </tr>\n",
       "    <tr>\n",
       "      <th>ZNF440</th>\n",
       "      <td>1.456848</td>\n",
       "      <td>19p13.2</td>\n",
       "    </tr>\n",
       "    <tr>\n",
       "      <th>ZNF442</th>\n",
       "      <td>1.449211</td>\n",
       "      <td>19p13.2</td>\n",
       "    </tr>\n",
       "    <tr>\n",
       "      <th>ZFP90</th>\n",
       "      <td>1.437828</td>\n",
       "      <td>16q22.1</td>\n",
       "    </tr>\n",
       "    <tr>\n",
       "      <th>ZNF140</th>\n",
       "      <td>1.429167</td>\n",
       "      <td>12q24.33</td>\n",
       "    </tr>\n",
       "    <tr>\n",
       "      <th>ZNF17</th>\n",
       "      <td>1.419074</td>\n",
       "      <td>19q13.43</td>\n",
       "    </tr>\n",
       "  </tbody>\n",
       "</table>\n",
       "</div>"
      ],
      "text/plain": [
       "            LV800 gene_band\n",
       "ZNF20    1.980700   19p13.2\n",
       "ZNF606   1.931659  19q13.43\n",
       "ZNF551   1.832833  19q13.43\n",
       "ZNF543   1.701683  19q13.43\n",
       "ZNF14    1.640789  19p13.11\n",
       "ZNF625   1.612766   19p13.2\n",
       "ZNF234   1.608893  19q13.31\n",
       "ZNF468   1.601126  19q13.41\n",
       "ZFP28    1.591189  19q13.43\n",
       "ZNF485   1.586159  10q11.21\n",
       "ZNF227   1.574834  19q13.31\n",
       "ZNF92    1.552011   7q11.21\n",
       "ZNF567   1.542031  19q13.12\n",
       "ZNF320   1.533357  19q13.41\n",
       "ZNF180   1.513040  19q13.31\n",
       "ZKSCAN4  1.506373    6p22.1\n",
       "ZNF256   1.495805  19q13.43\n",
       "ZNF649   1.482137  19q13.41\n",
       "ZNF415   1.467602  19q13.42\n",
       "ZNF43    1.465676     19p12\n",
       "ZNF440   1.456848   19p13.2\n",
       "ZNF442   1.449211   19p13.2\n",
       "ZFP90    1.437828   16q22.1\n",
       "ZNF140   1.429167  12q24.33\n",
       "ZNF17    1.419074  19q13.43"
      ]
     },
     "metadata": {},
     "output_type": "display_data"
    }
   ],
   "source": [
    "lv_genes = get_lv_genes(lv_code)\n",
    "display(lv_genes.head(25))"
   ]
  },
  {
   "cell_type": "markdown",
   "id": "77527e8e-339c-479c-b24f-2881b394f541",
   "metadata": {},
   "source": [
    "**Note**: similar to the first LVs in that top genes are mostly from the same band, but here weights are way smaller."
   ]
  },
  {
   "cell_type": "code",
   "execution_count": 158,
   "id": "e8112d9b-5c1d-4ae9-9548-883272d2935c",
   "metadata": {},
   "outputs": [
    {
     "data": {
      "text/plain": [
       "19q13.43    6\n",
       "19p13.2     4\n",
       "19q13.31    3\n",
       "19q13.41    3\n",
       "10q11.21    1\n",
       "7q11.21     1\n",
       "19q13.12    1\n",
       "19p13.11    1\n",
       "19p12       1\n",
       "12q24.33    1\n",
       "Name: gene_band, dtype: int64"
      ]
     },
     "execution_count": 158,
     "metadata": {},
     "output_type": "execute_result"
    }
   ],
   "source": [
    "# see bands of top genes\n",
    "lv_genes.head(25)[\"gene_band\"].value_counts().head(10)"
   ]
  },
  {
   "cell_type": "markdown",
   "id": "9664a026-98dc-4b84-9bb9-3e0e9968f686",
   "metadata": {},
   "source": [
    "There are same genes from the same band at the top, but not that many as the other LVs.\n",
    "**However**, top genes from chr 6 are here. Those might be highly correlated."
   ]
  },
  {
   "cell_type": "code",
   "execution_count": 159,
   "id": "bee33c07-6c9f-4a2f-8b21-cff6c8a761a8",
   "metadata": {},
   "outputs": [],
   "source": [
    "# take a look at all genes with non-zero weight\n",
    "lv_genes_nonzero_weight = lv_genes[lv_genes[lv_code] > 0]"
   ]
  },
  {
   "cell_type": "code",
   "execution_count": 160,
   "id": "75311e33-7708-4471-8570-9638580e9505",
   "metadata": {},
   "outputs": [
    {
     "data": {
      "text/plain": [
       "(2038, 2)"
      ]
     },
     "execution_count": 160,
     "metadata": {},
     "output_type": "execute_result"
    }
   ],
   "source": [
    "# how many genes have non-zero weight?\n",
    "lv_genes_nonzero_weight.shape"
   ]
  },
  {
   "cell_type": "code",
   "execution_count": 161,
   "id": "5ca1f781-356a-42a4-8dde-94aa3f18d91a",
   "metadata": {},
   "outputs": [
    {
     "data": {
      "text/plain": [
       "19p13.2     37\n",
       "19q13.43    32\n",
       "19q13.2     27\n",
       "19p13.3     27\n",
       "16p13.3     22\n",
       "19q13.41    22\n",
       "19q13.12    21\n",
       "19p13.11    18\n",
       "11q13.1     17\n",
       "11q13.2     17\n",
       "Name: gene_band, dtype: int64"
      ]
     },
     "execution_count": 161,
     "metadata": {},
     "output_type": "execute_result"
    }
   ],
   "source": [
    "# how are bands distributed among zero weighted genes?\n",
    "lv_genes_nonzero_weight[\"gene_band\"].value_counts().head(10)"
   ]
  },
  {
   "cell_type": "code",
   "execution_count": 162,
   "id": "d734e3d9-cdfe-4bf1-9c5d-d22f16b6e948",
   "metadata": {},
   "outputs": [
    {
     "data": {
      "image/png": "[encoded data removed]",
      "text/plain": [
       "<Figure size 1008x504 with 1 Axes>"
      ]
     },
     "metadata": {
      "needs_background": "light"
     },
     "output_type": "display_data"
    }
   ],
   "source": [
    "# distribution of amount of bands in LV\n",
    "g = sns.displot(lv_genes_nonzero_weight[\"gene_band\"].value_counts(), height=7, aspect=2)"
   ]
  },
  {
   "cell_type": "code",
   "execution_count": 163,
   "id": "0c05a395-e492-4cf2-8eb3-36f5afc084d9",
   "metadata": {},
   "outputs": [
    {
     "data": {
      "image/png": "[encoded data removed]",
      "text/plain": [
       "<Figure size 1008x504 with 1 Axes>"
      ]
     },
     "metadata": {
      "needs_background": "light"
     },
     "output_type": "display_data"
    }
   ],
   "source": [
    "# distribution of weights in LV\n",
    "g = sns.displot(lv_genes[lv_genes[lv_code] > 0][lv_code], height=7, aspect=2)"
   ]
  },
  {
   "cell_type": "markdown",
   "id": "12ce17b8-e6e0-48df-82dd-70507b7b779c",
   "metadata": {},
   "source": [
    "**TODO**"
   ]
  },
  {
   "cell_type": "markdown",
   "id": "195c181b-3dce-402f-aa9b-4a888fa071da",
   "metadata": {},
   "source": [
    "### Bottom genes in LV"
   ]
  },
  {
   "cell_type": "code",
   "execution_count": 164,
   "id": "5dbcd211-8b51-4b5b-ae69-4fc154366a3b",
   "metadata": {},
   "outputs": [],
   "source": [
    "lv_genes_zero_weight = lv_genes[lv_genes[lv_code] <= 0]"
   ]
  },
  {
   "cell_type": "code",
   "execution_count": 165,
   "id": "f68ab1ff-987f-4091-b176-88b802e39c38",
   "metadata": {},
   "outputs": [
    {
     "data": {
      "text/plain": [
       "(4408, 2)"
      ]
     },
     "execution_count": 165,
     "metadata": {},
     "output_type": "execute_result"
    }
   ],
   "source": [
    "# how many genes have zero weight\n",
    "lv_genes_zero_weight.shape"
   ]
  },
  {
   "cell_type": "code",
   "execution_count": 166,
   "id": "620c71b4-ddba-40a7-922f-8b91debd2c40",
   "metadata": {},
   "outputs": [
    {
     "data": {
      "text/plain": [
       "19p13.3     57\n",
       "16p13.3     48\n",
       "3p21.31     40\n",
       "17q25.3     39\n",
       "1q21.3      36\n",
       "19q13.2     33\n",
       "17p13.1     31\n",
       "19p13.2     31\n",
       "19q13.33    31\n",
       "16q22.1     29\n",
       "12q24.31    29\n",
       "12p13.31    28\n",
       "7q22.1      28\n",
       "16p11.2     28\n",
       "11q13.1     27\n",
       "19q13.42    27\n",
       "17q25.1     27\n",
       "14q11.2     26\n",
       "1q32.1      25\n",
       "11p15.4     25\n",
       "Name: gene_band, dtype: int64"
      ]
     },
     "execution_count": 166,
     "metadata": {},
     "output_type": "execute_result"
    }
   ],
   "source": [
    "# how are bands distributed among zero weighted genes?\n",
    "lv_genes_zero_weight[\"gene_band\"].value_counts().head(20)"
   ]
  },
  {
   "cell_type": "code",
   "execution_count": 167,
   "id": "a396d29d-249e-44ca-8f40-785a9edaad60",
   "metadata": {},
   "outputs": [
    {
     "data": {
      "image/png": "[encoded data removed]",
      "text/plain": [
       "<Figure size 1008x504 with 1 Axes>"
      ]
     },
     "metadata": {
      "needs_background": "light"
     },
     "output_type": "display_data"
    }
   ],
   "source": [
    "g = sns.displot(lv_genes_zero_weight[\"gene_band\"].value_counts(), height=7, aspect=2)"
   ]
  },
  {
   "cell_type": "code",
   "execution_count": 168,
   "id": "29690562-ea29-4b1e-831f-27ef62e48d0f",
   "metadata": {},
   "outputs": [
    {
     "data": {
      "image/png": "[encoded data removed]",
      "text/plain": [
       "<Figure size 432x288 with 1 Axes>"
      ]
     },
     "metadata": {
      "needs_background": "light"
     },
     "output_type": "display_data"
    }
   ],
   "source": [
    "# compare band sizes distribution from top and bottom genes\n",
    "fig = sns.kdeplot(\n",
    "    lv_genes_nonzero_weight[\"gene_band\"].value_counts(), shade=True, color=\"r\"\n",
    ")\n",
    "fig = sns.kdeplot(\n",
    "    lv_genes_zero_weight[\"gene_band\"].value_counts(), shade=True, color=\"b\"\n",
    ")\n",
    "plt.show()"
   ]
  },
  {
   "cell_type": "markdown",
   "id": "7b80385c-e222-4f60-a166-a899aaf1b34b",
   "metadata": {},
   "source": [
    "## Notes"
   ]
  },
  {
   "cell_type": "markdown",
   "id": "22539057-6bee-43de-adb5-239f4e44991f",
   "metadata": {},
   "source": [
    "There are LVs with high mean type I errors that have different properties:\n",
    "\n",
    "1. LVs like LV45-LV110 (the first ones) have:\n",
    "    1. Smaller minimum p-values (qqplots deviate late and quickly), with -log(p) around 10 or 20.\n",
    "    1. High gene weights (around 6 to 9)...\n",
    "    1. Genes from the same band at the top.\n",
    "    1. Relatively fewer genes with non-zero (> 0) weights, from ~400 to ~1600.\n",
    "    1. Cytobands usually have 1 or 2 genes with non-zero weight, but there are some with many genes.\n",
    "        * LV45 has a single band with 13 genes, and all the rest have 8 or less...\n",
    "        * ... whereas the rest of these LVs have many bands with many genes (this could explain why LV45 is the worst).\n",
    "\n",
    "1. LVs like LV769 have:\n",
    "    1. Larger p-values (qqplots deviate early) with -log10(p) around 4\n",
    "    1. Lower gene weights (around 2 to 4).\n",
    "    1. Genes at the top are not from the same band.\n",
    "    1. Larger number of genes with non-zero (> 0) weights, more than 2400.\n",
    "    1. Same pattern regarding cybands.\n",
    "\n",
    "1. LVs like LV800 are mixed between the other two:\n",
    "    1. QQ plots show early deviation but also smaller minimum pvalues.\n",
    "    1. Lower gene weights (less than 2)\n",
    "    1. Gene weights are a bit more uniform in LV800, with more genes having similar weights around 0.75 or 1.00.\n",
    "    1. Genes at the top are from the same band.\n",
    "    1. Same pattern regarding cybands.\n",
    "\n",
    "Besides the ratio of genes with non-zero weights and zero, I didn't find any distinction **among genes with zero weight**."
   ]
  },
  {
   "cell_type": "markdown",
   "id": "59a7fbe4-0dd7-4aa3-8853-8b52f6c488a2",
   "metadata": {},
   "source": [
    "# LVs with expected mean type I error"
   ]
  },
  {
   "cell_type": "code",
   "execution_count": 169,
   "id": "ce2afb72-b7e6-460c-a1d4-f85e65086626",
   "metadata": {},
   "outputs": [
    {
     "data": {
      "text/html": [
       "<div>\n",
       "<style scoped>\n",
       "    .dataframe tbody tr th:only-of-type {\n",
       "        vertical-align: middle;\n",
       "    }\n",
       "\n",
       "    .dataframe tbody tr th {\n",
       "        vertical-align: top;\n",
       "    }\n",
       "\n",
       "    .dataframe thead th {\n",
       "        text-align: right;\n",
       "    }\n",
       "</style>\n",
       "<table border=\"1\" class=\"dataframe\">\n",
       "  <thead>\n",
       "    <tr style=\"text-align: right;\">\n",
       "      <th></th>\n",
       "      <th>lv</th>\n",
       "      <th>1</th>\n",
       "      <th>5</th>\n",
       "      <th>10</th>\n",
       "    </tr>\n",
       "  </thead>\n",
       "  <tbody>\n",
       "    <tr>\n",
       "      <th>519</th>\n",
       "      <td>LV567</td>\n",
       "      <td>0.016</td>\n",
       "      <td>0.049</td>\n",
       "      <td>0.097</td>\n",
       "    </tr>\n",
       "    <tr>\n",
       "      <th>523</th>\n",
       "      <td>LV570</td>\n",
       "      <td>0.016</td>\n",
       "      <td>0.049</td>\n",
       "      <td>0.084</td>\n",
       "    </tr>\n",
       "    <tr>\n",
       "      <th>693</th>\n",
       "      <td>LV723</td>\n",
       "      <td>0.013</td>\n",
       "      <td>0.049</td>\n",
       "      <td>0.107</td>\n",
       "    </tr>\n",
       "    <tr>\n",
       "      <th>348</th>\n",
       "      <td>LV412</td>\n",
       "      <td>0.009</td>\n",
       "      <td>0.049</td>\n",
       "      <td>0.100</td>\n",
       "    </tr>\n",
       "    <tr>\n",
       "      <th>664</th>\n",
       "      <td>LV698</td>\n",
       "      <td>0.008</td>\n",
       "      <td>0.049</td>\n",
       "      <td>0.092</td>\n",
       "    </tr>\n",
       "    <tr>\n",
       "      <th>379</th>\n",
       "      <td>LV440</td>\n",
       "      <td>0.008</td>\n",
       "      <td>0.049</td>\n",
       "      <td>0.092</td>\n",
       "    </tr>\n",
       "    <tr>\n",
       "      <th>388</th>\n",
       "      <td>LV449</td>\n",
       "      <td>0.014</td>\n",
       "      <td>0.049</td>\n",
       "      <td>0.093</td>\n",
       "    </tr>\n",
       "    <tr>\n",
       "      <th>640</th>\n",
       "      <td>LV676</td>\n",
       "      <td>0.012</td>\n",
       "      <td>0.049</td>\n",
       "      <td>0.094</td>\n",
       "    </tr>\n",
       "    <tr>\n",
       "      <th>624</th>\n",
       "      <td>LV661</td>\n",
       "      <td>0.010</td>\n",
       "      <td>0.049</td>\n",
       "      <td>0.112</td>\n",
       "    </tr>\n",
       "    <tr>\n",
       "      <th>609</th>\n",
       "      <td>LV648</td>\n",
       "      <td>0.007</td>\n",
       "      <td>0.049</td>\n",
       "      <td>0.087</td>\n",
       "    </tr>\n",
       "    <tr>\n",
       "      <th>608</th>\n",
       "      <td>LV647</td>\n",
       "      <td>0.009</td>\n",
       "      <td>0.049</td>\n",
       "      <td>0.084</td>\n",
       "    </tr>\n",
       "    <tr>\n",
       "      <th>590</th>\n",
       "      <td>LV630</td>\n",
       "      <td>0.012</td>\n",
       "      <td>0.049</td>\n",
       "      <td>0.082</td>\n",
       "    </tr>\n",
       "    <tr>\n",
       "      <th>462</th>\n",
       "      <td>LV515</td>\n",
       "      <td>0.017</td>\n",
       "      <td>0.049</td>\n",
       "      <td>0.097</td>\n",
       "    </tr>\n",
       "    <tr>\n",
       "      <th>470</th>\n",
       "      <td>LV522</td>\n",
       "      <td>0.017</td>\n",
       "      <td>0.049</td>\n",
       "      <td>0.092</td>\n",
       "    </tr>\n",
       "    <tr>\n",
       "      <th>530</th>\n",
       "      <td>LV577</td>\n",
       "      <td>0.016</td>\n",
       "      <td>0.049</td>\n",
       "      <td>0.098</td>\n",
       "    </tr>\n",
       "    <tr>\n",
       "      <th>522</th>\n",
       "      <td>LV57</td>\n",
       "      <td>0.012</td>\n",
       "      <td>0.049</td>\n",
       "      <td>0.093</td>\n",
       "    </tr>\n",
       "    <tr>\n",
       "      <th>762</th>\n",
       "      <td>LV786</td>\n",
       "      <td>0.006</td>\n",
       "      <td>0.049</td>\n",
       "      <td>0.100</td>\n",
       "    </tr>\n",
       "    <tr>\n",
       "      <th>783</th>\n",
       "      <td>LV804</td>\n",
       "      <td>0.012</td>\n",
       "      <td>0.049</td>\n",
       "      <td>0.086</td>\n",
       "    </tr>\n",
       "    <tr>\n",
       "      <th>298</th>\n",
       "      <td>LV368</td>\n",
       "      <td>0.007</td>\n",
       "      <td>0.049</td>\n",
       "      <td>0.099</td>\n",
       "    </tr>\n",
       "    <tr>\n",
       "      <th>881</th>\n",
       "      <td>LV893</td>\n",
       "      <td>0.016</td>\n",
       "      <td>0.049</td>\n",
       "      <td>0.105</td>\n",
       "    </tr>\n",
       "  </tbody>\n",
       "</table>\n",
       "</div>"
      ],
      "text/plain": [
       "        lv      1      5     10\n",
       "519  LV567  0.016  0.049  0.097\n",
       "523  LV570  0.016  0.049  0.084\n",
       "693  LV723  0.013  0.049  0.107\n",
       "348  LV412  0.009  0.049  0.100\n",
       "664  LV698  0.008  0.049  0.092\n",
       "379  LV440  0.008  0.049  0.092\n",
       "388  LV449  0.014  0.049  0.093\n",
       "640  LV676  0.012  0.049  0.094\n",
       "624  LV661  0.010  0.049  0.112\n",
       "609  LV648  0.007  0.049  0.087\n",
       "608  LV647  0.009  0.049  0.084\n",
       "590  LV630  0.012  0.049  0.082\n",
       "462  LV515  0.017  0.049  0.097\n",
       "470  LV522  0.017  0.049  0.092\n",
       "530  LV577  0.016  0.049  0.098\n",
       "522   LV57  0.012  0.049  0.093\n",
       "762  LV786  0.006  0.049  0.100\n",
       "783  LV804  0.012  0.049  0.086\n",
       "298  LV368  0.007  0.049  0.099\n",
       "881  LV893  0.016  0.049  0.105"
      ]
     },
     "metadata": {},
     "output_type": "display_data"
    }
   ],
   "source": [
    "display(lvs_expected_error.sort_values(\"5\").head(20))"
   ]
  },
  {
   "cell_type": "markdown",
   "id": "9dd51c52-09e1-4b42-a8b6-ebd2eb30ab17",
   "metadata": {},
   "source": [
    "Here I'm manually selecting from this list, since I want those that are well calibrated across different p-value thresholds."
   ]
  },
  {
   "cell_type": "code",
   "execution_count": 170,
   "id": "b34d471f-056a-4bfe-be28-163c32e814c4",
   "metadata": {},
   "outputs": [],
   "source": [
    "lv_results_expected = {}"
   ]
  },
  {
   "cell_type": "markdown",
   "id": "28814b98-a72e-453f-b029-7ac950123ee6",
   "metadata": {},
   "source": [
    "## LV412"
   ]
  },
  {
   "cell_type": "code",
   "execution_count": 171,
   "id": "933ff234-5531-4372-bae7-21dbf9a6a7be",
   "metadata": {},
   "outputs": [],
   "source": [
    "lv_code = \"LV412\""
   ]
  },
  {
   "cell_type": "code",
   "execution_count": 172,
   "id": "8ee3b993-d3c8-48a3-98e5-f8cc4ec44a21",
   "metadata": {},
   "outputs": [],
   "source": [
    "results = dfs[dfs[\"lv\"] == lv_code]"
   ]
  },
  {
   "cell_type": "code",
   "execution_count": 173,
   "id": "700dfa79-fd9e-46f7-8162-4e7ee5f37c07",
   "metadata": {},
   "outputs": [
    {
     "data": {
      "text/plain": [
       "(1000, 4)"
      ]
     },
     "execution_count": 173,
     "metadata": {},
     "output_type": "execute_result"
    }
   ],
   "source": [
    "results.shape"
   ]
  },
  {
   "cell_type": "code",
   "execution_count": 174,
   "id": "69dfb800-0a94-40de-bdba-f99580e6ac97",
   "metadata": {},
   "outputs": [
    {
     "data": {
      "text/html": [
       "<div>\n",
       "<style scoped>\n",
       "    .dataframe tbody tr th:only-of-type {\n",
       "        vertical-align: middle;\n",
       "    }\n",
       "\n",
       "    .dataframe tbody tr th {\n",
       "        vertical-align: top;\n",
       "    }\n",
       "\n",
       "    .dataframe thead th {\n",
       "        text-align: right;\n",
       "    }\n",
       "</style>\n",
       "<table border=\"1\" class=\"dataframe\">\n",
       "  <thead>\n",
       "    <tr style=\"text-align: right;\">\n",
       "      <th></th>\n",
       "      <th>lv</th>\n",
       "      <th>coef</th>\n",
       "      <th>pvalue</th>\n",
       "      <th>phenotype</th>\n",
       "    </tr>\n",
       "  </thead>\n",
       "  <tbody>\n",
       "    <tr>\n",
       "      <th>411</th>\n",
       "      <td>LV412</td>\n",
       "      <td>-0.010372</td>\n",
       "      <td>0.797435</td>\n",
       "      <td>random.pheno988</td>\n",
       "    </tr>\n",
       "    <tr>\n",
       "      <th>1398</th>\n",
       "      <td>LV412</td>\n",
       "      <td>-0.015866</td>\n",
       "      <td>0.898571</td>\n",
       "      <td>random.pheno589</td>\n",
       "    </tr>\n",
       "    <tr>\n",
       "      <th>2385</th>\n",
       "      <td>LV412</td>\n",
       "      <td>0.019627</td>\n",
       "      <td>0.057581</td>\n",
       "      <td>random.pheno385</td>\n",
       "    </tr>\n",
       "    <tr>\n",
       "      <th>3372</th>\n",
       "      <td>LV412</td>\n",
       "      <td>0.009720</td>\n",
       "      <td>0.217653</td>\n",
       "      <td>random.pheno5</td>\n",
       "    </tr>\n",
       "    <tr>\n",
       "      <th>4359</th>\n",
       "      <td>LV412</td>\n",
       "      <td>0.010105</td>\n",
       "      <td>0.208680</td>\n",
       "      <td>random.pheno74</td>\n",
       "    </tr>\n",
       "  </tbody>\n",
       "</table>\n",
       "</div>"
      ],
      "text/plain": [
       "         lv      coef    pvalue        phenotype\n",
       "411   LV412 -0.010372  0.797435  random.pheno988\n",
       "1398  LV412 -0.015866  0.898571  random.pheno589\n",
       "2385  LV412  0.019627  0.057581  random.pheno385\n",
       "3372  LV412  0.009720  0.217653    random.pheno5\n",
       "4359  LV412  0.010105  0.208680   random.pheno74"
      ]
     },
     "execution_count": 174,
     "metadata": {},
     "output_type": "execute_result"
    }
   ],
   "source": [
    "results.head()"
   ]
  },
  {
   "cell_type": "code",
   "execution_count": 175,
   "id": "ab20292d-5b55-450a-b7a0-a2fafac33f4e",
   "metadata": {},
   "outputs": [],
   "source": [
    "# save for future reference\n",
    "lv_results_expected[lv_code] = results"
   ]
  },
  {
   "cell_type": "markdown",
   "id": "c76d79cb-07f1-4b79-a912-4efe4059fed6",
   "metadata": {},
   "source": [
    "### Mean type I errors at different thresholds"
   ]
  },
  {
   "cell_type": "code",
   "execution_count": 176,
   "id": "225ea884-d878-436c-93cc-256c0d5ae901",
   "metadata": {},
   "outputs": [
    {
     "data": {
      "text/plain": [
       "0.009"
      ]
     },
     "execution_count": 176,
     "metadata": {},
     "output_type": "execute_result"
    }
   ],
   "source": [
    "show_prop(results, 0.01)"
   ]
  },
  {
   "cell_type": "code",
   "execution_count": 177,
   "id": "92d1c844-84f9-4015-ab48-73d2f6a767c5",
   "metadata": {},
   "outputs": [
    {
     "data": {
      "text/plain": [
       "0.049"
      ]
     },
     "execution_count": 177,
     "metadata": {},
     "output_type": "execute_result"
    }
   ],
   "source": [
    "show_prop(results, 0.05)"
   ]
  },
  {
   "cell_type": "code",
   "execution_count": 178,
   "id": "3151eee1-eb97-4369-8ae4-a10b250de970",
   "metadata": {},
   "outputs": [
    {
     "data": {
      "text/plain": [
       "0.1"
      ]
     },
     "execution_count": 178,
     "metadata": {},
     "output_type": "execute_result"
    }
   ],
   "source": [
    "show_prop(results, 0.10)"
   ]
  },
  {
   "cell_type": "code",
   "execution_count": 179,
   "id": "722f7d9f-9788-4589-814b-bd5c6dcf82bf",
   "metadata": {},
   "outputs": [
    {
     "data": {
      "text/plain": [
       "0.141"
      ]
     },
     "execution_count": 179,
     "metadata": {},
     "output_type": "execute_result"
    }
   ],
   "source": [
    "show_prop(results, 0.15)"
   ]
  },
  {
   "cell_type": "code",
   "execution_count": 180,
   "id": "e69b93c6-d246-4228-97a1-3c5783eb8d3d",
   "metadata": {},
   "outputs": [
    {
     "data": {
      "text/plain": [
       "0.187"
      ]
     },
     "execution_count": 180,
     "metadata": {},
     "output_type": "execute_result"
    }
   ],
   "source": [
    "show_prop(results, 0.20)"
   ]
  },
  {
   "cell_type": "markdown",
   "id": "e3bb9c47-46b1-4626-88c2-0442fdfa2a6a",
   "metadata": {},
   "source": [
    "### QQplot"
   ]
  },
  {
   "cell_type": "code",
   "execution_count": 181,
   "id": "6c197eac-8928-45b7-8210-064bc1635399",
   "metadata": {},
   "outputs": [
    {
     "data": {
      "image/png": "[encoded data removed]",
      "text/plain": [
       "<Figure size 576x576 with 1 Axes>"
      ]
     },
     "metadata": {
      "needs_background": "light"
     },
     "output_type": "display_data"
    }
   ],
   "source": [
    "qqplot_unif(results)"
   ]
  },
  {
   "cell_type": "markdown",
   "id": "bc090578-b4ce-4761-ad41-2578dc65e10e",
   "metadata": {},
   "source": [
    "**Note**"
   ]
  },
  {
   "cell_type": "markdown",
   "id": "44e3e1f7-872f-4611-bc52-67fbf74dad48",
   "metadata": {},
   "source": [
    "### Top genes in LV"
   ]
  },
  {
   "cell_type": "code",
   "execution_count": 182,
   "id": "a001ae42-c019-4b14-9a75-6b31faf0be65",
   "metadata": {},
   "outputs": [
    {
     "data": {
      "text/html": [
       "<div>\n",
       "<style scoped>\n",
       "    .dataframe tbody tr th:only-of-type {\n",
       "        vertical-align: middle;\n",
       "    }\n",
       "\n",
       "    .dataframe tbody tr th {\n",
       "        vertical-align: top;\n",
       "    }\n",
       "\n",
       "    .dataframe thead th {\n",
       "        text-align: right;\n",
       "    }\n",
       "</style>\n",
       "<table border=\"1\" class=\"dataframe\">\n",
       "  <thead>\n",
       "    <tr style=\"text-align: right;\">\n",
       "      <th></th>\n",
       "      <th>LV412</th>\n",
       "      <th>gene_band</th>\n",
       "    </tr>\n",
       "  </thead>\n",
       "  <tbody>\n",
       "    <tr>\n",
       "      <th>KCNH8</th>\n",
       "      <td>5.521022</td>\n",
       "      <td>3p24.3</td>\n",
       "    </tr>\n",
       "    <tr>\n",
       "      <th>ZNF135</th>\n",
       "      <td>3.878779</td>\n",
       "      <td>19q13.43</td>\n",
       "    </tr>\n",
       "    <tr>\n",
       "      <th>ZNF614</th>\n",
       "      <td>3.775552</td>\n",
       "      <td>19q13.41</td>\n",
       "    </tr>\n",
       "    <tr>\n",
       "      <th>ZNF606</th>\n",
       "      <td>2.929764</td>\n",
       "      <td>19q13.43</td>\n",
       "    </tr>\n",
       "    <tr>\n",
       "      <th>PANK1</th>\n",
       "      <td>2.749045</td>\n",
       "      <td>10q23.31</td>\n",
       "    </tr>\n",
       "    <tr>\n",
       "      <th>ABCB9</th>\n",
       "      <td>2.445773</td>\n",
       "      <td>12q24.31</td>\n",
       "    </tr>\n",
       "    <tr>\n",
       "      <th>ZNF443</th>\n",
       "      <td>2.197429</td>\n",
       "      <td>19p13.2</td>\n",
       "    </tr>\n",
       "    <tr>\n",
       "      <th>ZNF649</th>\n",
       "      <td>1.970191</td>\n",
       "      <td>19q13.41</td>\n",
       "    </tr>\n",
       "    <tr>\n",
       "      <th>SKIV2L</th>\n",
       "      <td>1.735204</td>\n",
       "      <td>6p21.33</td>\n",
       "    </tr>\n",
       "    <tr>\n",
       "      <th>CLCN3</th>\n",
       "      <td>1.721717</td>\n",
       "      <td>4q33</td>\n",
       "    </tr>\n",
       "    <tr>\n",
       "      <th>ZNF436</th>\n",
       "      <td>1.404181</td>\n",
       "      <td>1p36.12</td>\n",
       "    </tr>\n",
       "    <tr>\n",
       "      <th>ATF2</th>\n",
       "      <td>1.403580</td>\n",
       "      <td>2q31.1</td>\n",
       "    </tr>\n",
       "    <tr>\n",
       "      <th>PLD6</th>\n",
       "      <td>1.362308</td>\n",
       "      <td>17p11.2</td>\n",
       "    </tr>\n",
       "    <tr>\n",
       "      <th>ST8SIA1</th>\n",
       "      <td>1.282506</td>\n",
       "      <td>12p12.1</td>\n",
       "    </tr>\n",
       "    <tr>\n",
       "      <th>PRPF38A</th>\n",
       "      <td>1.134283</td>\n",
       "      <td>1p32.3</td>\n",
       "    </tr>\n",
       "    <tr>\n",
       "      <th>PUM1</th>\n",
       "      <td>1.133758</td>\n",
       "      <td>1p35.2</td>\n",
       "    </tr>\n",
       "    <tr>\n",
       "      <th>ZFYVE16</th>\n",
       "      <td>1.104458</td>\n",
       "      <td>5q14.1</td>\n",
       "    </tr>\n",
       "    <tr>\n",
       "      <th>FNTA</th>\n",
       "      <td>1.090228</td>\n",
       "      <td>8p11.21</td>\n",
       "    </tr>\n",
       "    <tr>\n",
       "      <th>ORC5</th>\n",
       "      <td>1.071627</td>\n",
       "      <td>7q22.2</td>\n",
       "    </tr>\n",
       "    <tr>\n",
       "      <th>TAF1A</th>\n",
       "      <td>1.069171</td>\n",
       "      <td>1q41</td>\n",
       "    </tr>\n",
       "    <tr>\n",
       "      <th>ZNF250</th>\n",
       "      <td>1.025677</td>\n",
       "      <td>8q24.3</td>\n",
       "    </tr>\n",
       "    <tr>\n",
       "      <th>MED1</th>\n",
       "      <td>1.019078</td>\n",
       "      <td>17q12</td>\n",
       "    </tr>\n",
       "    <tr>\n",
       "      <th>EML6</th>\n",
       "      <td>1.001503</td>\n",
       "      <td>2p16.1</td>\n",
       "    </tr>\n",
       "    <tr>\n",
       "      <th>PHACTR1</th>\n",
       "      <td>0.967340</td>\n",
       "      <td>6p24.1</td>\n",
       "    </tr>\n",
       "    <tr>\n",
       "      <th>ZNF570</th>\n",
       "      <td>0.952614</td>\n",
       "      <td>19q13.12</td>\n",
       "    </tr>\n",
       "  </tbody>\n",
       "</table>\n",
       "</div>"
      ],
      "text/plain": [
       "            LV412 gene_band\n",
       "KCNH8    5.521022    3p24.3\n",
       "ZNF135   3.878779  19q13.43\n",
       "ZNF614   3.775552  19q13.41\n",
       "ZNF606   2.929764  19q13.43\n",
       "PANK1    2.749045  10q23.31\n",
       "ABCB9    2.445773  12q24.31\n",
       "ZNF443   2.197429   19p13.2\n",
       "ZNF649   1.970191  19q13.41\n",
       "SKIV2L   1.735204   6p21.33\n",
       "CLCN3    1.721717      4q33\n",
       "ZNF436   1.404181   1p36.12\n",
       "ATF2     1.403580    2q31.1\n",
       "PLD6     1.362308   17p11.2\n",
       "ST8SIA1  1.282506   12p12.1\n",
       "PRPF38A  1.134283    1p32.3\n",
       "PUM1     1.133758    1p35.2\n",
       "ZFYVE16  1.104458    5q14.1\n",
       "FNTA     1.090228   8p11.21\n",
       "ORC5     1.071627    7q22.2\n",
       "TAF1A    1.069171      1q41\n",
       "ZNF250   1.025677    8q24.3\n",
       "MED1     1.019078     17q12\n",
       "EML6     1.001503    2p16.1\n",
       "PHACTR1  0.967340    6p24.1\n",
       "ZNF570   0.952614  19q13.12"
      ]
     },
     "metadata": {},
     "output_type": "display_data"
    }
   ],
   "source": [
    "lv_genes = get_lv_genes(lv_code)\n",
    "display(lv_genes.head(25))"
   ]
  },
  {
   "cell_type": "markdown",
   "id": "ecbbc4f8-2a55-4837-a041-4cff81e31cd2",
   "metadata": {},
   "source": [
    "**Note**: hm, there are some genes from the same bands at the top here."
   ]
  },
  {
   "cell_type": "code",
   "execution_count": 183,
   "id": "82ef55bc-6f4c-4f77-a919-9908401acfc3",
   "metadata": {},
   "outputs": [
    {
     "data": {
      "text/plain": [
       "19q13.41    2\n",
       "19q13.43    2\n",
       "1p36.12     1\n",
       "1q41        1\n",
       "8q24.3      1\n",
       "17p11.2     1\n",
       "17q12       1\n",
       "6p21.33     1\n",
       "2q31.1      1\n",
       "6p24.1      1\n",
       "Name: gene_band, dtype: int64"
      ]
     },
     "execution_count": 183,
     "metadata": {},
     "output_type": "execute_result"
    }
   ],
   "source": [
    "# see bands of top genes\n",
    "lv_genes.head(25)[\"gene_band\"].value_counts().head(10)"
   ]
  },
  {
   "cell_type": "markdown",
   "id": "c0ab2c5d-9656-4c43-a682-8ca1bd3e7204",
   "metadata": {},
   "source": [
    "There are same genes from the same band at the top, but not that many as the other LVs.\n",
    "\n",
    "This pattern is more similar to LV769, but this one has expected mean type I errors. Why?"
   ]
  },
  {
   "cell_type": "code",
   "execution_count": 184,
   "id": "6615abef-f1d7-45bf-9d6f-8631d2e93c21",
   "metadata": {},
   "outputs": [],
   "source": [
    "# take a look at all genes with non-zero weight\n",
    "lv_genes_nonzero_weight = lv_genes[lv_genes[lv_code] > 0]"
   ]
  },
  {
   "cell_type": "code",
   "execution_count": 185,
   "id": "d5754496-c12f-4396-9499-11f2c58d18a0",
   "metadata": {},
   "outputs": [
    {
     "data": {
      "text/plain": [
       "(2805, 2)"
      ]
     },
     "execution_count": 185,
     "metadata": {},
     "output_type": "execute_result"
    }
   ],
   "source": [
    "# how many genes have non-zero weight?\n",
    "lv_genes_nonzero_weight.shape"
   ]
  },
  {
   "cell_type": "markdown",
   "id": "94900d95-0829-4cf0-ab8a-ab654d50d52c",
   "metadata": {},
   "source": [
    "Similar to LV769."
   ]
  },
  {
   "cell_type": "code",
   "execution_count": 186,
   "id": "e65287c3-3363-4fd4-9ddf-64f9ca9c3715",
   "metadata": {},
   "outputs": [
    {
     "data": {
      "text/plain": [
       "19p13.3     44\n",
       "19p13.2     33\n",
       "3p21.31     28\n",
       "16p13.3     25\n",
       "19q13.2     23\n",
       "12p13.31    21\n",
       "17p13.1     20\n",
       "16q22.1     20\n",
       "6p21.1      20\n",
       "12q24.31    19\n",
       "Name: gene_band, dtype: int64"
      ]
     },
     "execution_count": 186,
     "metadata": {},
     "output_type": "execute_result"
    }
   ],
   "source": [
    "# how are bands distributed among zero weighted genes?\n",
    "lv_genes_nonzero_weight[\"gene_band\"].value_counts().head(10)"
   ]
  },
  {
   "cell_type": "markdown",
   "id": "47cdd6c5-3739-4757-b6bc-69ac0905c3e9",
   "metadata": {},
   "source": [
    "Similar to LV769."
   ]
  },
  {
   "cell_type": "code",
   "execution_count": 187,
   "id": "1ecd7883-3b69-4f97-bf46-5b3df1eff641",
   "metadata": {},
   "outputs": [
    {
     "data": {
      "image/png": "[encoded data removed]",
      "text/plain": [
       "<Figure size 1008x504 with 1 Axes>"
      ]
     },
     "metadata": {
      "needs_background": "light"
     },
     "output_type": "display_data"
    }
   ],
   "source": [
    "# distribution of amount of bands in LV\n",
    "g = sns.displot(lv_genes_nonzero_weight[\"gene_band\"].value_counts(), height=7, aspect=2)"
   ]
  },
  {
   "cell_type": "markdown",
   "id": "aaa3a5b0-9620-4abc-a95d-8fa8fb0e2d11",
   "metadata": {},
   "source": [
    "Similar to LV769."
   ]
  },
  {
   "cell_type": "code",
   "execution_count": 188,
   "id": "98303943-ecb8-49f9-b802-988fe34e1924",
   "metadata": {},
   "outputs": [
    {
     "data": {
      "image/png": "[encoded data removed]",
      "text/plain": [
       "<Figure size 1008x504 with 1 Axes>"
      ]
     },
     "metadata": {
      "needs_background": "light"
     },
     "output_type": "display_data"
    }
   ],
   "source": [
    "# distribution of weights in LV\n",
    "g = sns.displot(lv_genes[lv_genes[lv_code] > 0][lv_code], height=7, aspect=2)"
   ]
  },
  {
   "cell_type": "markdown",
   "id": "a92f2e16-41fd-4e2d-9742-dae1097aca83",
   "metadata": {},
   "source": [
    "Similar to LV769."
   ]
  },
  {
   "cell_type": "markdown",
   "id": "47ab0b8f-33fe-43e4-a600-5c7026030585",
   "metadata": {},
   "source": [
    "### Bottom genes in LV"
   ]
  },
  {
   "cell_type": "code",
   "execution_count": 189,
   "id": "2b0b0959-8253-4626-9781-c0acff2ebd19",
   "metadata": {},
   "outputs": [],
   "source": [
    "lv_genes_zero_weight = lv_genes[lv_genes[lv_code] <= 0]"
   ]
  },
  {
   "cell_type": "code",
   "execution_count": 190,
   "id": "49c712e0-51f3-48aa-938a-c3d340b56777",
   "metadata": {},
   "outputs": [
    {
     "data": {
      "text/plain": [
       "(3641, 2)"
      ]
     },
     "execution_count": 190,
     "metadata": {},
     "output_type": "execute_result"
    }
   ],
   "source": [
    "# how many genes have zero weight\n",
    "lv_genes_zero_weight.shape"
   ]
  },
  {
   "cell_type": "markdown",
   "id": "73e62e15-3f0e-4cfc-85c9-4b3659b890ba",
   "metadata": {},
   "source": [
    "Similar to LV769."
   ]
  },
  {
   "cell_type": "code",
   "execution_count": 191,
   "id": "fe6d02c6-4aa4-4c8e-970e-c83f62fa411b",
   "metadata": {},
   "outputs": [
    {
     "data": {
      "text/plain": [
       "16p13.3     45\n",
       "19p13.3     40\n",
       "19q13.2     37\n",
       "19p13.2     35\n",
       "17q25.3     34\n",
       "19q13.42    30\n",
       "19q13.33    30\n",
       "7q22.1      29\n",
       "11q13.1     28\n",
       "3p21.31     28\n",
       "16p11.2     27\n",
       "17p13.1     26\n",
       "16q22.1     24\n",
       "1q21.3      24\n",
       "19p13.11    23\n",
       "19q13.43    22\n",
       "11p15.4     22\n",
       "8q24.3      21\n",
       "12q13.13    21\n",
       "6p21.33     19\n",
       "Name: gene_band, dtype: int64"
      ]
     },
     "execution_count": 191,
     "metadata": {},
     "output_type": "execute_result"
    }
   ],
   "source": [
    "# how are bands distributed among zero weighted genes?\n",
    "lv_genes_zero_weight[\"gene_band\"].value_counts().head(20)"
   ]
  },
  {
   "cell_type": "markdown",
   "id": "48869a87-eba0-4fdc-a6b9-b7a3584d9ef4",
   "metadata": {},
   "source": [
    "Similar to LV769."
   ]
  },
  {
   "cell_type": "code",
   "execution_count": 192,
   "id": "526dea46-812d-488a-b792-9663c76815df",
   "metadata": {},
   "outputs": [
    {
     "data": {
      "image/png": "[encoded data removed]",
      "text/plain": [
       "<Figure size 1008x504 with 1 Axes>"
      ]
     },
     "metadata": {
      "needs_background": "light"
     },
     "output_type": "display_data"
    }
   ],
   "source": [
    "g = sns.displot(lv_genes_zero_weight[\"gene_band\"].value_counts(), height=7, aspect=2)"
   ]
  },
  {
   "cell_type": "markdown",
   "id": "d7363690-6d57-4b08-98e3-5a99ce8c8483",
   "metadata": {},
   "source": [
    "Hm, this is not exactly the same as LV769. Here the distribution of band sizes among genes with zero weight is similar to that with genes with non-zero weights.\n",
    "\n",
    "So maybe that imbalance is what makes an LV to have high mean type I errors."
   ]
  },
  {
   "cell_type": "code",
   "execution_count": 193,
   "id": "503354da-f9d9-48c0-9500-5747292c054f",
   "metadata": {},
   "outputs": [
    {
     "data": {
      "image/png": "[encoded data removed]",
      "text/plain": [
       "<Figure size 432x288 with 1 Axes>"
      ]
     },
     "metadata": {
      "needs_background": "light"
     },
     "output_type": "display_data"
    }
   ],
   "source": [
    "# compare band sizes distribution from top and bottom genes\n",
    "fig = sns.kdeplot(\n",
    "    lv_genes_nonzero_weight[\"gene_band\"].value_counts(), shade=True, color=\"r\"\n",
    ")\n",
    "fig = sns.kdeplot(\n",
    "    lv_genes_zero_weight[\"gene_band\"].value_counts(), shade=True, color=\"b\"\n",
    ")\n",
    "plt.show()"
   ]
  },
  {
   "cell_type": "markdown",
   "id": "0ca72243-1acc-47c6-8073-2b4f5d7f3771",
   "metadata": {},
   "source": [
    "Yep, the distributions are more similar in this LV than those in LV769 or LV800."
   ]
  },
  {
   "cell_type": "markdown",
   "id": "4ccc8640-ea0d-4368-bf76-b919e5d33409",
   "metadata": {},
   "source": [
    "## LV57"
   ]
  },
  {
   "cell_type": "code",
   "execution_count": 194,
   "id": "8a6316a3-dcde-4dcd-a09c-6f38cd47f7e8",
   "metadata": {},
   "outputs": [],
   "source": [
    "lv_code = \"LV57\""
   ]
  },
  {
   "cell_type": "code",
   "execution_count": 195,
   "id": "7ddac650-36ac-4f2f-8a27-95e6c1461647",
   "metadata": {},
   "outputs": [],
   "source": [
    "results = dfs[dfs[\"lv\"] == lv_code]"
   ]
  },
  {
   "cell_type": "code",
   "execution_count": 196,
   "id": "695743ec-cb80-4b3e-9a0d-4d4d594e7ed2",
   "metadata": {},
   "outputs": [
    {
     "data": {
      "text/plain": [
       "(1000, 4)"
      ]
     },
     "execution_count": 196,
     "metadata": {},
     "output_type": "execute_result"
    }
   ],
   "source": [
    "results.shape"
   ]
  },
  {
   "cell_type": "code",
   "execution_count": 197,
   "id": "1622bce0-94e7-45bf-8109-b7f6c9c12e42",
   "metadata": {},
   "outputs": [
    {
     "data": {
      "text/html": [
       "<div>\n",
       "<style scoped>\n",
       "    .dataframe tbody tr th:only-of-type {\n",
       "        vertical-align: middle;\n",
       "    }\n",
       "\n",
       "    .dataframe tbody tr th {\n",
       "        vertical-align: top;\n",
       "    }\n",
       "\n",
       "    .dataframe thead th {\n",
       "        text-align: right;\n",
       "    }\n",
       "</style>\n",
       "<table border=\"1\" class=\"dataframe\">\n",
       "  <thead>\n",
       "    <tr style=\"text-align: right;\">\n",
       "      <th></th>\n",
       "      <th>lv</th>\n",
       "      <th>coef</th>\n",
       "      <th>pvalue</th>\n",
       "      <th>phenotype</th>\n",
       "    </tr>\n",
       "  </thead>\n",
       "  <tbody>\n",
       "    <tr>\n",
       "      <th>56</th>\n",
       "      <td>LV57</td>\n",
       "      <td>-0.019936</td>\n",
       "      <td>0.945226</td>\n",
       "      <td>random.pheno988</td>\n",
       "    </tr>\n",
       "    <tr>\n",
       "      <th>1043</th>\n",
       "      <td>LV57</td>\n",
       "      <td>0.023756</td>\n",
       "      <td>0.028268</td>\n",
       "      <td>random.pheno589</td>\n",
       "    </tr>\n",
       "    <tr>\n",
       "      <th>2030</th>\n",
       "      <td>LV57</td>\n",
       "      <td>0.015346</td>\n",
       "      <td>0.109023</td>\n",
       "      <td>random.pheno385</td>\n",
       "    </tr>\n",
       "    <tr>\n",
       "      <th>3017</th>\n",
       "      <td>LV57</td>\n",
       "      <td>-0.003606</td>\n",
       "      <td>0.613875</td>\n",
       "      <td>random.pheno5</td>\n",
       "    </tr>\n",
       "    <tr>\n",
       "      <th>4004</th>\n",
       "      <td>LV57</td>\n",
       "      <td>0.014074</td>\n",
       "      <td>0.129313</td>\n",
       "      <td>random.pheno74</td>\n",
       "    </tr>\n",
       "  </tbody>\n",
       "</table>\n",
       "</div>"
      ],
      "text/plain": [
       "        lv      coef    pvalue        phenotype\n",
       "56    LV57 -0.019936  0.945226  random.pheno988\n",
       "1043  LV57  0.023756  0.028268  random.pheno589\n",
       "2030  LV57  0.015346  0.109023  random.pheno385\n",
       "3017  LV57 -0.003606  0.613875    random.pheno5\n",
       "4004  LV57  0.014074  0.129313   random.pheno74"
      ]
     },
     "execution_count": 197,
     "metadata": {},
     "output_type": "execute_result"
    }
   ],
   "source": [
    "results.head()"
   ]
  },
  {
   "cell_type": "code",
   "execution_count": 198,
   "id": "ddd4fb30-acec-4d04-ba2f-b7d57b56930e",
   "metadata": {},
   "outputs": [],
   "source": [
    "# save for future reference\n",
    "lv_results_expected[lv_code] = results"
   ]
  },
  {
   "cell_type": "markdown",
   "id": "c63fc61a-a088-4bb8-bf67-f2444c4b33e7",
   "metadata": {},
   "source": [
    "### Mean type I errors at different thresholds"
   ]
  },
  {
   "cell_type": "code",
   "execution_count": 199,
   "id": "112ad1e9-96bc-4ceb-a3c3-fc54101cf80f",
   "metadata": {},
   "outputs": [
    {
     "data": {
      "text/plain": [
       "0.012"
      ]
     },
     "execution_count": 199,
     "metadata": {},
     "output_type": "execute_result"
    }
   ],
   "source": [
    "show_prop(results, 0.01)"
   ]
  },
  {
   "cell_type": "code",
   "execution_count": 200,
   "id": "0b6975ec-97a5-4c81-91a4-ceacc4b7bc45",
   "metadata": {},
   "outputs": [
    {
     "data": {
      "text/plain": [
       "0.049"
      ]
     },
     "execution_count": 200,
     "metadata": {},
     "output_type": "execute_result"
    }
   ],
   "source": [
    "show_prop(results, 0.05)"
   ]
  },
  {
   "cell_type": "code",
   "execution_count": 201,
   "id": "30120730-d4d0-454a-97b6-88b7b34e4886",
   "metadata": {},
   "outputs": [
    {
     "data": {
      "text/plain": [
       "0.093"
      ]
     },
     "execution_count": 201,
     "metadata": {},
     "output_type": "execute_result"
    }
   ],
   "source": [
    "show_prop(results, 0.10)"
   ]
  },
  {
   "cell_type": "code",
   "execution_count": 202,
   "id": "9a143836-aeef-4ab5-ba45-fdb5d0bb8116",
   "metadata": {},
   "outputs": [
    {
     "data": {
      "text/plain": [
       "0.137"
      ]
     },
     "execution_count": 202,
     "metadata": {},
     "output_type": "execute_result"
    }
   ],
   "source": [
    "show_prop(results, 0.15)"
   ]
  },
  {
   "cell_type": "code",
   "execution_count": 203,
   "id": "362a1961-1636-4a0e-ab4b-b6f7a84c9eeb",
   "metadata": {},
   "outputs": [
    {
     "data": {
      "text/plain": [
       "0.186"
      ]
     },
     "execution_count": 203,
     "metadata": {},
     "output_type": "execute_result"
    }
   ],
   "source": [
    "show_prop(results, 0.20)"
   ]
  },
  {
   "cell_type": "markdown",
   "id": "073932a2-2306-4c44-8d1c-2ab137014c2d",
   "metadata": {},
   "source": [
    "### QQplot"
   ]
  },
  {
   "cell_type": "code",
   "execution_count": 204,
   "id": "215b7c53-5e73-4a3a-8311-515cdbebbe6c",
   "metadata": {},
   "outputs": [
    {
     "data": {
      "image/png": "[encoded data removed]",
      "text/plain": [
       "<Figure size 576x576 with 1 Axes>"
      ]
     },
     "metadata": {
      "needs_background": "light"
     },
     "output_type": "display_data"
    }
   ],
   "source": [
    "qqplot_unif(results)"
   ]
  },
  {
   "cell_type": "markdown",
   "id": "d65263d9-70d7-4765-a7a6-d0d2a57cde0e",
   "metadata": {},
   "source": [
    "**Note**"
   ]
  },
  {
   "cell_type": "markdown",
   "id": "22f3e294-8319-466e-b3d8-d5b6984a46b3",
   "metadata": {},
   "source": [
    "### Top genes in LV"
   ]
  },
  {
   "cell_type": "code",
   "execution_count": 205,
   "id": "af1fd629-71d7-4d7b-abfd-7f0e95beb222",
   "metadata": {},
   "outputs": [
    {
     "data": {
      "text/html": [
       "<div>\n",
       "<style scoped>\n",
       "    .dataframe tbody tr th:only-of-type {\n",
       "        vertical-align: middle;\n",
       "    }\n",
       "\n",
       "    .dataframe tbody tr th {\n",
       "        vertical-align: top;\n",
       "    }\n",
       "\n",
       "    .dataframe thead th {\n",
       "        text-align: right;\n",
       "    }\n",
       "</style>\n",
       "<table border=\"1\" class=\"dataframe\">\n",
       "  <thead>\n",
       "    <tr style=\"text-align: right;\">\n",
       "      <th></th>\n",
       "      <th>LV57</th>\n",
       "      <th>gene_band</th>\n",
       "    </tr>\n",
       "  </thead>\n",
       "  <tbody>\n",
       "    <tr>\n",
       "      <th>CTLA4</th>\n",
       "      <td>7.918721</td>\n",
       "      <td>2q33.2</td>\n",
       "    </tr>\n",
       "    <tr>\n",
       "      <th>IL10</th>\n",
       "      <td>6.930030</td>\n",
       "      <td>1q32.1</td>\n",
       "    </tr>\n",
       "    <tr>\n",
       "      <th>IL9</th>\n",
       "      <td>6.734138</td>\n",
       "      <td>5q31.1</td>\n",
       "    </tr>\n",
       "    <tr>\n",
       "      <th>TNFSF8</th>\n",
       "      <td>5.758800</td>\n",
       "      <td>9q33.1</td>\n",
       "    </tr>\n",
       "    <tr>\n",
       "      <th>ZBED2</th>\n",
       "      <td>5.054312</td>\n",
       "      <td>3q13.13</td>\n",
       "    </tr>\n",
       "    <tr>\n",
       "      <th>TNF</th>\n",
       "      <td>4.788832</td>\n",
       "      <td>6p21.33</td>\n",
       "    </tr>\n",
       "    <tr>\n",
       "      <th>IL2RA</th>\n",
       "      <td>4.617858</td>\n",
       "      <td>10p15.1</td>\n",
       "    </tr>\n",
       "    <tr>\n",
       "      <th>IL4</th>\n",
       "      <td>4.128203</td>\n",
       "      <td>5q31.1</td>\n",
       "    </tr>\n",
       "    <tr>\n",
       "      <th>IL12RB2</th>\n",
       "      <td>3.817266</td>\n",
       "      <td>1p31.3</td>\n",
       "    </tr>\n",
       "    <tr>\n",
       "      <th>ICOS</th>\n",
       "      <td>3.656751</td>\n",
       "      <td>2q33.2</td>\n",
       "    </tr>\n",
       "    <tr>\n",
       "      <th>GZMB</th>\n",
       "      <td>3.583041</td>\n",
       "      <td>14q12</td>\n",
       "    </tr>\n",
       "    <tr>\n",
       "      <th>CCL4</th>\n",
       "      <td>3.262302</td>\n",
       "      <td>17q12</td>\n",
       "    </tr>\n",
       "    <tr>\n",
       "      <th>IRF4</th>\n",
       "      <td>2.884281</td>\n",
       "      <td>6p25.3</td>\n",
       "    </tr>\n",
       "    <tr>\n",
       "      <th>AIM2</th>\n",
       "      <td>2.869143</td>\n",
       "      <td>1q23.2</td>\n",
       "    </tr>\n",
       "    <tr>\n",
       "      <th>TBX21</th>\n",
       "      <td>2.667303</td>\n",
       "      <td>17q21.32</td>\n",
       "    </tr>\n",
       "    <tr>\n",
       "      <th>SLAMF1</th>\n",
       "      <td>2.529303</td>\n",
       "      <td>1q23.3</td>\n",
       "    </tr>\n",
       "    <tr>\n",
       "      <th>LTA</th>\n",
       "      <td>2.383875</td>\n",
       "      <td>6p21.33</td>\n",
       "    </tr>\n",
       "    <tr>\n",
       "      <th>CD28</th>\n",
       "      <td>2.242564</td>\n",
       "      <td>2q33.2</td>\n",
       "    </tr>\n",
       "    <tr>\n",
       "      <th>TNFSF14</th>\n",
       "      <td>2.092897</td>\n",
       "      <td>19p13.3</td>\n",
       "    </tr>\n",
       "    <tr>\n",
       "      <th>CCL3</th>\n",
       "      <td>1.918082</td>\n",
       "      <td>17q12</td>\n",
       "    </tr>\n",
       "    <tr>\n",
       "      <th>LIF</th>\n",
       "      <td>1.916327</td>\n",
       "      <td>22q12.2</td>\n",
       "    </tr>\n",
       "    <tr>\n",
       "      <th>FASLG</th>\n",
       "      <td>1.883298</td>\n",
       "      <td>1q24.3</td>\n",
       "    </tr>\n",
       "    <tr>\n",
       "      <th>GPR171</th>\n",
       "      <td>1.860826</td>\n",
       "      <td>3q25.1</td>\n",
       "    </tr>\n",
       "    <tr>\n",
       "      <th>MDFIC</th>\n",
       "      <td>1.804387</td>\n",
       "      <td>7q31.1</td>\n",
       "    </tr>\n",
       "    <tr>\n",
       "      <th>TNFRSF9</th>\n",
       "      <td>1.789256</td>\n",
       "      <td>1p36.23</td>\n",
       "    </tr>\n",
       "  </tbody>\n",
       "</table>\n",
       "</div>"
      ],
      "text/plain": [
       "             LV57 gene_band\n",
       "CTLA4    7.918721    2q33.2\n",
       "IL10     6.930030    1q32.1\n",
       "IL9      6.734138    5q31.1\n",
       "TNFSF8   5.758800    9q33.1\n",
       "ZBED2    5.054312   3q13.13\n",
       "TNF      4.788832   6p21.33\n",
       "IL2RA    4.617858   10p15.1\n",
       "IL4      4.128203    5q31.1\n",
       "IL12RB2  3.817266    1p31.3\n",
       "ICOS     3.656751    2q33.2\n",
       "GZMB     3.583041     14q12\n",
       "CCL4     3.262302     17q12\n",
       "IRF4     2.884281    6p25.3\n",
       "AIM2     2.869143    1q23.2\n",
       "TBX21    2.667303  17q21.32\n",
       "SLAMF1   2.529303    1q23.3\n",
       "LTA      2.383875   6p21.33\n",
       "CD28     2.242564    2q33.2\n",
       "TNFSF14  2.092897   19p13.3\n",
       "CCL3     1.918082     17q12\n",
       "LIF      1.916327   22q12.2\n",
       "FASLG    1.883298    1q24.3\n",
       "GPR171   1.860826    3q25.1\n",
       "MDFIC    1.804387    7q31.1\n",
       "TNFRSF9  1.789256   1p36.23"
      ]
     },
     "metadata": {},
     "output_type": "display_data"
    }
   ],
   "source": [
    "lv_genes = get_lv_genes(lv_code)\n",
    "display(lv_genes.head(25))"
   ]
  },
  {
   "cell_type": "code",
   "execution_count": 206,
   "id": "0e510fa1-c8a5-4107-a360-ee540040c6d3",
   "metadata": {},
   "outputs": [
    {
     "data": {
      "text/plain": [
       "2q33.2      3\n",
       "6p21.33     2\n",
       "17q12       2\n",
       "5q31.1      2\n",
       "7q31.1      1\n",
       "14q12       1\n",
       "1q23.2      1\n",
       "17q21.32    1\n",
       "1q24.3      1\n",
       "1p36.23     1\n",
       "Name: gene_band, dtype: int64"
      ]
     },
     "execution_count": 206,
     "metadata": {},
     "output_type": "execute_result"
    }
   ],
   "source": [
    "# see bands of top genes\n",
    "lv_genes.head(25)[\"gene_band\"].value_counts().head(10)"
   ]
  },
  {
   "cell_type": "code",
   "execution_count": 207,
   "id": "985aeccf-cf8c-49c6-8c77-7eb7ef33f2fb",
   "metadata": {},
   "outputs": [],
   "source": [
    "# take a look at all genes with non-zero weight\n",
    "lv_genes_nonzero_weight = lv_genes[lv_genes[lv_code] > 0]"
   ]
  },
  {
   "cell_type": "code",
   "execution_count": 208,
   "id": "64f530d0-9a55-4c3e-b972-52a63ef17e64",
   "metadata": {},
   "outputs": [
    {
     "data": {
      "text/plain": [
       "(2037, 2)"
      ]
     },
     "execution_count": 208,
     "metadata": {},
     "output_type": "execute_result"
    }
   ],
   "source": [
    "# how many genes have non-zero weight?\n",
    "lv_genes_nonzero_weight.shape"
   ]
  },
  {
   "cell_type": "markdown",
   "id": "ae2c6465-79c5-4533-8596-b0dccbf5518f",
   "metadata": {},
   "source": [
    "Similar to LV769 and LV412"
   ]
  },
  {
   "cell_type": "code",
   "execution_count": 209,
   "id": "db365a22-195c-479a-aff4-4abe5bdaf09c",
   "metadata": {},
   "outputs": [
    {
     "data": {
      "text/plain": [
       "12p13.31    19\n",
       "16p13.3     19\n",
       "17q12       18\n",
       "1q32.1      17\n",
       "11q23.3     17\n",
       "19p13.3     17\n",
       "19q13.2     17\n",
       "17p13.1     15\n",
       "19p13.2     15\n",
       "16q22.1     15\n",
       "Name: gene_band, dtype: int64"
      ]
     },
     "execution_count": 209,
     "metadata": {},
     "output_type": "execute_result"
    }
   ],
   "source": [
    "# how are bands distributed among zero weighted genes?\n",
    "lv_genes_nonzero_weight[\"gene_band\"].value_counts().head(10)"
   ]
  },
  {
   "cell_type": "code",
   "execution_count": 210,
   "id": "f96ae4c8-e303-4343-a443-fcde8dc76f68",
   "metadata": {},
   "outputs": [
    {
     "data": {
      "image/png": "[encoded data removed]",
      "text/plain": [
       "<Figure size 1008x504 with 1 Axes>"
      ]
     },
     "metadata": {
      "needs_background": "light"
     },
     "output_type": "display_data"
    }
   ],
   "source": [
    "# distribution of amount of bands in LV\n",
    "g = sns.displot(lv_genes_nonzero_weight[\"gene_band\"].value_counts(), height=7, aspect=2)"
   ]
  },
  {
   "cell_type": "markdown",
   "id": "588b8d5a-5d91-49e6-8ae5-9da4d5fab445",
   "metadata": {},
   "source": [
    "The distribution seems similar to LV412, but here we have smaller bands."
   ]
  },
  {
   "cell_type": "code",
   "execution_count": 211,
   "id": "9b3f8edc-6f9f-40f1-bb09-7b951bb8c456",
   "metadata": {},
   "outputs": [
    {
     "data": {
      "image/png": "[encoded data removed]",
      "text/plain": [
       "<Figure size 1008x504 with 1 Axes>"
      ]
     },
     "metadata": {
      "needs_background": "light"
     },
     "output_type": "display_data"
    }
   ],
   "source": [
    "# distribution of weights in LV\n",
    "g = sns.displot(lv_genes[lv_genes[lv_code] > 0][lv_code], height=7, aspect=2)"
   ]
  },
  {
   "cell_type": "markdown",
   "id": "746ccbf8-39d1-4859-9594-b9286deaf283",
   "metadata": {},
   "source": [
    "Similar to LV412."
   ]
  },
  {
   "cell_type": "markdown",
   "id": "3548dc93-edb7-408d-a1ae-9dc9bd398430",
   "metadata": {},
   "source": [
    "### Bottom genes in LV"
   ]
  },
  {
   "cell_type": "code",
   "execution_count": 212,
   "id": "ef1e6b2f-7285-43b6-9a3a-14c5fc7e7915",
   "metadata": {},
   "outputs": [],
   "source": [
    "lv_genes_zero_weight = lv_genes[lv_genes[lv_code] <= 0]"
   ]
  },
  {
   "cell_type": "code",
   "execution_count": 213,
   "id": "be03ceaa-8a42-49aa-b0ab-026497a6642b",
   "metadata": {},
   "outputs": [
    {
     "data": {
      "text/plain": [
       "(4409, 2)"
      ]
     },
     "execution_count": 213,
     "metadata": {},
     "output_type": "execute_result"
    }
   ],
   "source": [
    "# how many genes have zero weight\n",
    "lv_genes_zero_weight.shape"
   ]
  },
  {
   "cell_type": "markdown",
   "id": "2a978eb4-664f-446e-8aff-ebf5f897a766",
   "metadata": {},
   "source": [
    "Compared with LV412, we have more zero weight genes here."
   ]
  },
  {
   "cell_type": "code",
   "execution_count": 214,
   "id": "d4c11b85-06b1-4cd9-b827-0adc04676826",
   "metadata": {},
   "outputs": [
    {
     "data": {
      "text/plain": [
       "19p13.3     67\n",
       "19p13.2     53\n",
       "16p13.3     51\n",
       "3p21.31     44\n",
       "19q13.2     43\n",
       "7q22.1      35\n",
       "11q13.1     35\n",
       "17q25.3     34\n",
       "19q13.33    34\n",
       "19p13.11    31\n",
       "1q21.3      31\n",
       "17p13.1     31\n",
       "19q13.42    30\n",
       "16q22.1     29\n",
       "12q13.13    28\n",
       "16p11.2     27\n",
       "19q13.43    27\n",
       "12q24.31    26\n",
       "8q24.3      25\n",
       "6p21.1      25\n",
       "Name: gene_band, dtype: int64"
      ]
     },
     "execution_count": 214,
     "metadata": {},
     "output_type": "execute_result"
    }
   ],
   "source": [
    "# how are bands distributed among zero weighted genes?\n",
    "lv_genes_zero_weight[\"gene_band\"].value_counts().head(20)"
   ]
  },
  {
   "cell_type": "markdown",
   "id": "726a90af-bade-4f7b-b4f2-cc0abe782912",
   "metadata": {},
   "source": [
    "Similar to LV769."
   ]
  },
  {
   "cell_type": "code",
   "execution_count": 215,
   "id": "35b23142-560f-46fc-a86a-afa8bbac67dd",
   "metadata": {},
   "outputs": [
    {
     "data": {
      "image/png": "[encoded data removed]",
      "text/plain": [
       "<Figure size 1008x504 with 1 Axes>"
      ]
     },
     "metadata": {
      "needs_background": "light"
     },
     "output_type": "display_data"
    }
   ],
   "source": [
    "g = sns.displot(lv_genes_zero_weight[\"gene_band\"].value_counts(), height=7, aspect=2)"
   ]
  },
  {
   "cell_type": "code",
   "execution_count": 216,
   "id": "339783b3-b610-4acf-a3d0-f54f971113a7",
   "metadata": {},
   "outputs": [
    {
     "data": {
      "image/png": "[encoded data removed]",
      "text/plain": [
       "<Figure size 432x288 with 1 Axes>"
      ]
     },
     "metadata": {
      "needs_background": "light"
     },
     "output_type": "display_data"
    }
   ],
   "source": [
    "# compare band sizes distribution from top and bottom genes\n",
    "fig = sns.kdeplot(\n",
    "    lv_genes_nonzero_weight[\"gene_band\"].value_counts(), shade=True, color=\"r\"\n",
    ")\n",
    "fig = sns.kdeplot(\n",
    "    lv_genes_zero_weight[\"gene_band\"].value_counts(), shade=True, color=\"b\"\n",
    ")\n",
    "plt.show()"
   ]
  },
  {
   "cell_type": "markdown",
   "id": "46bf7ccc-6804-4e62-ae0f-cfab82336bf5",
   "metadata": {},
   "source": [
    "Here the distribution do differ, this is more similar to LV769."
   ]
  },
  {
   "cell_type": "markdown",
   "id": "e126e662-bcca-4b49-8d73-cddd4acf8157",
   "metadata": {},
   "source": [
    "## LV647"
   ]
  },
  {
   "cell_type": "code",
   "execution_count": 217,
   "id": "f1213f21-ce00-42e4-b77c-05f33ba3f079",
   "metadata": {},
   "outputs": [],
   "source": [
    "lv_code = \"LV647\""
   ]
  },
  {
   "cell_type": "code",
   "execution_count": 218,
   "id": "dc5c6871-76d3-48dd-8f11-e892101a4c62",
   "metadata": {},
   "outputs": [],
   "source": [
    "results = dfs[dfs[\"lv\"] == lv_code]"
   ]
  },
  {
   "cell_type": "code",
   "execution_count": 219,
   "id": "317fea64-1720-4be8-93c3-205a18b584b8",
   "metadata": {},
   "outputs": [
    {
     "data": {
      "text/plain": [
       "(1000, 4)"
      ]
     },
     "execution_count": 219,
     "metadata": {},
     "output_type": "execute_result"
    }
   ],
   "source": [
    "results.shape"
   ]
  },
  {
   "cell_type": "code",
   "execution_count": 220,
   "id": "c3dcb91b-cadf-407b-ac57-8c5aa9d333e5",
   "metadata": {},
   "outputs": [
    {
     "data": {
      "text/html": [
       "<div>\n",
       "<style scoped>\n",
       "    .dataframe tbody tr th:only-of-type {\n",
       "        vertical-align: middle;\n",
       "    }\n",
       "\n",
       "    .dataframe tbody tr th {\n",
       "        vertical-align: top;\n",
       "    }\n",
       "\n",
       "    .dataframe thead th {\n",
       "        text-align: right;\n",
       "    }\n",
       "</style>\n",
       "<table border=\"1\" class=\"dataframe\">\n",
       "  <thead>\n",
       "    <tr style=\"text-align: right;\">\n",
       "      <th></th>\n",
       "      <th>lv</th>\n",
       "      <th>coef</th>\n",
       "      <th>pvalue</th>\n",
       "      <th>phenotype</th>\n",
       "    </tr>\n",
       "  </thead>\n",
       "  <tbody>\n",
       "    <tr>\n",
       "      <th>646</th>\n",
       "      <td>LV647</td>\n",
       "      <td>-0.008481</td>\n",
       "      <td>0.751976</td>\n",
       "      <td>random.pheno988</td>\n",
       "    </tr>\n",
       "    <tr>\n",
       "      <th>1633</th>\n",
       "      <td>LV647</td>\n",
       "      <td>0.000189</td>\n",
       "      <td>0.493950</td>\n",
       "      <td>random.pheno589</td>\n",
       "    </tr>\n",
       "    <tr>\n",
       "      <th>2620</th>\n",
       "      <td>LV647</td>\n",
       "      <td>-0.000832</td>\n",
       "      <td>0.526609</td>\n",
       "      <td>random.pheno385</td>\n",
       "    </tr>\n",
       "    <tr>\n",
       "      <th>3607</th>\n",
       "      <td>LV647</td>\n",
       "      <td>0.004082</td>\n",
       "      <td>0.371609</td>\n",
       "      <td>random.pheno5</td>\n",
       "    </tr>\n",
       "    <tr>\n",
       "      <th>4594</th>\n",
       "      <td>LV647</td>\n",
       "      <td>0.004244</td>\n",
       "      <td>0.366698</td>\n",
       "      <td>random.pheno74</td>\n",
       "    </tr>\n",
       "  </tbody>\n",
       "</table>\n",
       "</div>"
      ],
      "text/plain": [
       "         lv      coef    pvalue        phenotype\n",
       "646   LV647 -0.008481  0.751976  random.pheno988\n",
       "1633  LV647  0.000189  0.493950  random.pheno589\n",
       "2620  LV647 -0.000832  0.526609  random.pheno385\n",
       "3607  LV647  0.004082  0.371609    random.pheno5\n",
       "4594  LV647  0.004244  0.366698   random.pheno74"
      ]
     },
     "execution_count": 220,
     "metadata": {},
     "output_type": "execute_result"
    }
   ],
   "source": [
    "results.head()"
   ]
  },
  {
   "cell_type": "code",
   "execution_count": 221,
   "id": "ed8719f7-31a5-4721-9e65-cfa8085d4c58",
   "metadata": {},
   "outputs": [],
   "source": [
    "# save for future reference\n",
    "lv_results_expected[lv_code] = results"
   ]
  },
  {
   "cell_type": "markdown",
   "id": "8d8d4df8-5efb-4205-bb82-91b4a71d0862",
   "metadata": {},
   "source": [
    "### Mean type I errors at different thresholds"
   ]
  },
  {
   "cell_type": "code",
   "execution_count": 222,
   "id": "e8ae4a1c-9b09-4a82-b249-d751c029b59f",
   "metadata": {},
   "outputs": [
    {
     "data": {
      "text/plain": [
       "0.009"
      ]
     },
     "execution_count": 222,
     "metadata": {},
     "output_type": "execute_result"
    }
   ],
   "source": [
    "show_prop(results, 0.01)"
   ]
  },
  {
   "cell_type": "code",
   "execution_count": 223,
   "id": "74c2191b-d80b-459e-8fb0-92e0171f5dce",
   "metadata": {},
   "outputs": [
    {
     "data": {
      "text/plain": [
       "0.049"
      ]
     },
     "execution_count": 223,
     "metadata": {},
     "output_type": "execute_result"
    }
   ],
   "source": [
    "show_prop(results, 0.05)"
   ]
  },
  {
   "cell_type": "code",
   "execution_count": 224,
   "id": "78ed20a7-a63b-40c4-b36f-4f19b9e13bfe",
   "metadata": {},
   "outputs": [
    {
     "data": {
      "text/plain": [
       "0.084"
      ]
     },
     "execution_count": 224,
     "metadata": {},
     "output_type": "execute_result"
    }
   ],
   "source": [
    "show_prop(results, 0.10)"
   ]
  },
  {
   "cell_type": "code",
   "execution_count": 225,
   "id": "27b3a253-f5c9-497c-b220-7264a45476e7",
   "metadata": {},
   "outputs": [
    {
     "data": {
      "text/plain": [
       "0.135"
      ]
     },
     "execution_count": 225,
     "metadata": {},
     "output_type": "execute_result"
    }
   ],
   "source": [
    "show_prop(results, 0.15)"
   ]
  },
  {
   "cell_type": "code",
   "execution_count": 226,
   "id": "90505538-770a-48ae-abbc-1cd1ef757c56",
   "metadata": {},
   "outputs": [
    {
     "data": {
      "text/plain": [
       "0.169"
      ]
     },
     "execution_count": 226,
     "metadata": {},
     "output_type": "execute_result"
    }
   ],
   "source": [
    "show_prop(results, 0.20)"
   ]
  },
  {
   "cell_type": "markdown",
   "id": "e87ac89e-9505-402b-bd8d-b603fa6b7499",
   "metadata": {},
   "source": [
    "### QQplot"
   ]
  },
  {
   "cell_type": "code",
   "execution_count": 227,
   "id": "016773f0-7bda-4f42-b342-9daebe7b39c3",
   "metadata": {},
   "outputs": [
    {
     "data": {
      "image/png": "[encoded data removed]",
      "text/plain": [
       "<Figure size 576x576 with 1 Axes>"
      ]
     },
     "metadata": {
      "needs_background": "light"
     },
     "output_type": "display_data"
    }
   ],
   "source": [
    "qqplot_unif(results)"
   ]
  },
  {
   "cell_type": "markdown",
   "id": "3bae5dfd-5a1a-4429-88c7-6741ae1b3e4f",
   "metadata": {},
   "source": [
    "**Note**"
   ]
  },
  {
   "cell_type": "markdown",
   "id": "bcbc4cd1-f38d-4466-90b5-cd402fb2fb27",
   "metadata": {},
   "source": [
    "### Top genes in LV"
   ]
  },
  {
   "cell_type": "code",
   "execution_count": 228,
   "id": "d7def904-906f-4f59-99ee-8b05ec3fdb00",
   "metadata": {},
   "outputs": [
    {
     "data": {
      "text/html": [
       "<div>\n",
       "<style scoped>\n",
       "    .dataframe tbody tr th:only-of-type {\n",
       "        vertical-align: middle;\n",
       "    }\n",
       "\n",
       "    .dataframe tbody tr th {\n",
       "        vertical-align: top;\n",
       "    }\n",
       "\n",
       "    .dataframe thead th {\n",
       "        text-align: right;\n",
       "    }\n",
       "</style>\n",
       "<table border=\"1\" class=\"dataframe\">\n",
       "  <thead>\n",
       "    <tr style=\"text-align: right;\">\n",
       "      <th></th>\n",
       "      <th>LV647</th>\n",
       "      <th>gene_band</th>\n",
       "    </tr>\n",
       "  </thead>\n",
       "  <tbody>\n",
       "    <tr>\n",
       "      <th>SLC44A1</th>\n",
       "      <td>6.254881</td>\n",
       "      <td>9q31.1</td>\n",
       "    </tr>\n",
       "    <tr>\n",
       "      <th>UGT8</th>\n",
       "      <td>5.892475</td>\n",
       "      <td>4q26</td>\n",
       "    </tr>\n",
       "    <tr>\n",
       "      <th>PIP4K2A</th>\n",
       "      <td>4.575140</td>\n",
       "      <td>10p12.2</td>\n",
       "    </tr>\n",
       "    <tr>\n",
       "      <th>CPOX</th>\n",
       "      <td>4.054438</td>\n",
       "      <td>3q11.2</td>\n",
       "    </tr>\n",
       "    <tr>\n",
       "      <th>ENPP2</th>\n",
       "      <td>3.832605</td>\n",
       "      <td>8q24.12</td>\n",
       "    </tr>\n",
       "    <tr>\n",
       "      <th>SLC12A2</th>\n",
       "      <td>3.772377</td>\n",
       "      <td>5q23.3</td>\n",
       "    </tr>\n",
       "    <tr>\n",
       "      <th>QDPR</th>\n",
       "      <td>2.989358</td>\n",
       "      <td>4p15.32</td>\n",
       "    </tr>\n",
       "    <tr>\n",
       "      <th>OMG</th>\n",
       "      <td>2.888629</td>\n",
       "      <td>17q11.2</td>\n",
       "    </tr>\n",
       "    <tr>\n",
       "      <th>ZFYVE16</th>\n",
       "      <td>2.505029</td>\n",
       "      <td>5q14.1</td>\n",
       "    </tr>\n",
       "    <tr>\n",
       "      <th>GNAI1</th>\n",
       "      <td>2.373341</td>\n",
       "      <td>7q21.11</td>\n",
       "    </tr>\n",
       "    <tr>\n",
       "      <th>DPYSL2</th>\n",
       "      <td>2.340173</td>\n",
       "      <td>8p21.2</td>\n",
       "    </tr>\n",
       "    <tr>\n",
       "      <th>P2RX7</th>\n",
       "      <td>2.151436</td>\n",
       "      <td>12q24.31</td>\n",
       "    </tr>\n",
       "    <tr>\n",
       "      <th>CFL2</th>\n",
       "      <td>2.139699</td>\n",
       "      <td>14q13.1</td>\n",
       "    </tr>\n",
       "    <tr>\n",
       "      <th>CHRM5</th>\n",
       "      <td>2.054893</td>\n",
       "      <td>15q14</td>\n",
       "    </tr>\n",
       "    <tr>\n",
       "      <th>RASGRP3</th>\n",
       "      <td>1.953384</td>\n",
       "      <td>2p22.3</td>\n",
       "    </tr>\n",
       "    <tr>\n",
       "      <th>RDX</th>\n",
       "      <td>1.911240</td>\n",
       "      <td>11q22.3</td>\n",
       "    </tr>\n",
       "    <tr>\n",
       "      <th>KCNH8</th>\n",
       "      <td>1.910038</td>\n",
       "      <td>3p24.3</td>\n",
       "    </tr>\n",
       "    <tr>\n",
       "      <th>LIMCH1</th>\n",
       "      <td>1.871110</td>\n",
       "      <td>4p13</td>\n",
       "    </tr>\n",
       "    <tr>\n",
       "      <th>KCNMB4</th>\n",
       "      <td>1.846566</td>\n",
       "      <td>12q15</td>\n",
       "    </tr>\n",
       "    <tr>\n",
       "      <th>FUT8</th>\n",
       "      <td>1.825834</td>\n",
       "      <td>14q23.3</td>\n",
       "    </tr>\n",
       "    <tr>\n",
       "      <th>PCDH9</th>\n",
       "      <td>1.788218</td>\n",
       "      <td>13q21.32</td>\n",
       "    </tr>\n",
       "    <tr>\n",
       "      <th>ANLN</th>\n",
       "      <td>1.747443</td>\n",
       "      <td>7p14.2</td>\n",
       "    </tr>\n",
       "    <tr>\n",
       "      <th>RHOU</th>\n",
       "      <td>1.694286</td>\n",
       "      <td>1q42.13</td>\n",
       "    </tr>\n",
       "    <tr>\n",
       "      <th>SLC31A2</th>\n",
       "      <td>1.652204</td>\n",
       "      <td>9q32</td>\n",
       "    </tr>\n",
       "    <tr>\n",
       "      <th>CALM2</th>\n",
       "      <td>1.651495</td>\n",
       "      <td>2p21</td>\n",
       "    </tr>\n",
       "  </tbody>\n",
       "</table>\n",
       "</div>"
      ],
      "text/plain": [
       "            LV647 gene_band\n",
       "SLC44A1  6.254881    9q31.1\n",
       "UGT8     5.892475      4q26\n",
       "PIP4K2A  4.575140   10p12.2\n",
       "CPOX     4.054438    3q11.2\n",
       "ENPP2    3.832605   8q24.12\n",
       "SLC12A2  3.772377    5q23.3\n",
       "QDPR     2.989358   4p15.32\n",
       "OMG      2.888629   17q11.2\n",
       "ZFYVE16  2.505029    5q14.1\n",
       "GNAI1    2.373341   7q21.11\n",
       "DPYSL2   2.340173    8p21.2\n",
       "P2RX7    2.151436  12q24.31\n",
       "CFL2     2.139699   14q13.1\n",
       "CHRM5    2.054893     15q14\n",
       "RASGRP3  1.953384    2p22.3\n",
       "RDX      1.911240   11q22.3\n",
       "KCNH8    1.910038    3p24.3\n",
       "LIMCH1   1.871110      4p13\n",
       "KCNMB4   1.846566     12q15\n",
       "FUT8     1.825834   14q23.3\n",
       "PCDH9    1.788218  13q21.32\n",
       "ANLN     1.747443    7p14.2\n",
       "RHOU     1.694286   1q42.13\n",
       "SLC31A2  1.652204      9q32\n",
       "CALM2    1.651495      2p21"
      ]
     },
     "metadata": {},
     "output_type": "display_data"
    }
   ],
   "source": [
    "lv_genes = get_lv_genes(lv_code)\n",
    "display(lv_genes.head(25))"
   ]
  },
  {
   "cell_type": "code",
   "execution_count": 229,
   "id": "639d155e-94a5-4229-96a3-674ea59956cd",
   "metadata": {},
   "outputs": [
    {
     "data": {
      "text/plain": [
       "11q22.3     1\n",
       "3q11.2      1\n",
       "4p15.32     1\n",
       "5q23.3      1\n",
       "2p22.3      1\n",
       "1q42.13     1\n",
       "2p21        1\n",
       "8p21.2      1\n",
       "13q21.32    1\n",
       "14q23.3     1\n",
       "Name: gene_band, dtype: int64"
      ]
     },
     "execution_count": 229,
     "metadata": {},
     "output_type": "execute_result"
    }
   ],
   "source": [
    "# see bands of top genes\n",
    "lv_genes.head(25)[\"gene_band\"].value_counts().head(10)"
   ]
  },
  {
   "cell_type": "code",
   "execution_count": 230,
   "id": "db75ef59-da8c-4af3-953a-d7e0acc14745",
   "metadata": {},
   "outputs": [],
   "source": [
    "# take a look at all genes with non-zero weight\n",
    "lv_genes_nonzero_weight = lv_genes[lv_genes[lv_code] > 0]"
   ]
  },
  {
   "cell_type": "code",
   "execution_count": 231,
   "id": "26dcc7a5-2fef-4d2b-af9b-1f9949903212",
   "metadata": {},
   "outputs": [
    {
     "data": {
      "text/plain": [
       "(2531, 2)"
      ]
     },
     "execution_count": 231,
     "metadata": {},
     "output_type": "execute_result"
    }
   ],
   "source": [
    "# how many genes have non-zero weight?\n",
    "lv_genes_nonzero_weight.shape"
   ]
  },
  {
   "cell_type": "markdown",
   "id": "73b8a03d-5781-4991-93bf-be2a5fe496bb",
   "metadata": {},
   "source": [
    "Similar to LV412"
   ]
  },
  {
   "cell_type": "code",
   "execution_count": 232,
   "id": "018ea8fb-c658-4d92-8ce5-e151b5e26df8",
   "metadata": {},
   "outputs": [
    {
     "data": {
      "text/plain": [
       "19p13.3     33\n",
       "16p13.3     24\n",
       "3p21.31     23\n",
       "19p13.2     21\n",
       "17q25.3     20\n",
       "7q22.1      19\n",
       "17q11.2     18\n",
       "16q22.1     18\n",
       "19q13.12    18\n",
       "19q13.2     17\n",
       "Name: gene_band, dtype: int64"
      ]
     },
     "execution_count": 232,
     "metadata": {},
     "output_type": "execute_result"
    }
   ],
   "source": [
    "# how are bands distributed among zero weighted genes?\n",
    "lv_genes_nonzero_weight[\"gene_band\"].value_counts().head(10)"
   ]
  },
  {
   "cell_type": "code",
   "execution_count": 233,
   "id": "841b847d-62ad-4494-9d2d-f0928827ff93",
   "metadata": {},
   "outputs": [
    {
     "data": {
      "image/png": "[encoded data removed]",
      "text/plain": [
       "<Figure size 1008x504 with 1 Axes>"
      ]
     },
     "metadata": {
      "needs_background": "light"
     },
     "output_type": "display_data"
    }
   ],
   "source": [
    "# distribution of amount of bands in LV\n",
    "g = sns.displot(lv_genes_nonzero_weight[\"gene_band\"].value_counts(), height=7, aspect=2)"
   ]
  },
  {
   "cell_type": "markdown",
   "id": "c1ae78f2-ff98-4e24-9c3a-ca9b267382bf",
   "metadata": {},
   "source": [
    "Similar to LV412"
   ]
  },
  {
   "cell_type": "code",
   "execution_count": 234,
   "id": "4a286d2e-da20-469b-aa94-7818067de719",
   "metadata": {},
   "outputs": [
    {
     "data": {
      "image/png": "[encoded data removed]",
      "text/plain": [
       "<Figure size 1008x504 with 1 Axes>"
      ]
     },
     "metadata": {
      "needs_background": "light"
     },
     "output_type": "display_data"
    }
   ],
   "source": [
    "# distribution of weights in LV\n",
    "g = sns.displot(lv_genes[lv_genes[lv_code] > 0][lv_code], height=7, aspect=2)"
   ]
  },
  {
   "cell_type": "markdown",
   "id": "ccf53a44-6407-4825-90af-c13a98fb9f6a",
   "metadata": {},
   "source": [
    "More similar to LV57."
   ]
  },
  {
   "cell_type": "markdown",
   "id": "12224af8-09dc-4705-9729-ecb0e3991c99",
   "metadata": {},
   "source": [
    "### Bottom genes in LV"
   ]
  },
  {
   "cell_type": "code",
   "execution_count": 235,
   "id": "8d055601-e113-484b-a994-afcb29a37350",
   "metadata": {},
   "outputs": [],
   "source": [
    "lv_genes_zero_weight = lv_genes[lv_genes[lv_code] <= 0]"
   ]
  },
  {
   "cell_type": "code",
   "execution_count": 236,
   "id": "b95bf127-5eb3-4fec-b56e-1a960617267e",
   "metadata": {},
   "outputs": [
    {
     "data": {
      "text/plain": [
       "(3915, 2)"
      ]
     },
     "execution_count": 236,
     "metadata": {},
     "output_type": "execute_result"
    }
   ],
   "source": [
    "# how many genes have zero weight\n",
    "lv_genes_zero_weight.shape"
   ]
  },
  {
   "cell_type": "markdown",
   "id": "2bc6a9ff-5737-48e4-8bf8-5d4068dccae2",
   "metadata": {},
   "source": [
    "Compared with LV412, we have more zero weight genes here."
   ]
  },
  {
   "cell_type": "code",
   "execution_count": 237,
   "id": "021c7d71-ab1a-446e-9efd-5c2accd3bfa3",
   "metadata": {},
   "outputs": [
    {
     "data": {
      "text/plain": [
       "19p13.3     51\n",
       "19p13.2     47\n",
       "16p13.3     46\n",
       "19q13.2     43\n",
       "17p13.1     36\n",
       "19q13.33    34\n",
       "3p21.31     33\n",
       "19q13.42    29\n",
       "14q11.2     28\n",
       "11q13.1     28\n",
       "1q21.3      28\n",
       "16p11.2     26\n",
       "16q22.1     26\n",
       "19p13.11    26\n",
       "12p13.31    26\n",
       "17q25.3     25\n",
       "11q13.2     25\n",
       "12q13.13    24\n",
       "19q13.43    23\n",
       "1q23.3      23\n",
       "Name: gene_band, dtype: int64"
      ]
     },
     "execution_count": 237,
     "metadata": {},
     "output_type": "execute_result"
    }
   ],
   "source": [
    "# how are bands distributed among zero weighted genes?\n",
    "lv_genes_zero_weight[\"gene_band\"].value_counts().head(20)"
   ]
  },
  {
   "cell_type": "code",
   "execution_count": 238,
   "id": "a31f0ad6-f17e-40ba-ab0b-b51e0200369f",
   "metadata": {},
   "outputs": [
    {
     "data": {
      "image/png": "[encoded data removed]",
      "text/plain": [
       "<Figure size 1008x504 with 1 Axes>"
      ]
     },
     "metadata": {
      "needs_background": "light"
     },
     "output_type": "display_data"
    }
   ],
   "source": [
    "g = sns.displot(lv_genes_zero_weight[\"gene_band\"].value_counts(), height=7, aspect=2)"
   ]
  },
  {
   "cell_type": "code",
   "execution_count": 239,
   "id": "2a39fd8a-cf3b-48c5-839c-b16dbd39d8e1",
   "metadata": {},
   "outputs": [
    {
     "data": {
      "image/png": "[encoded data removed]",
      "text/plain": [
       "<Figure size 432x288 with 1 Axes>"
      ]
     },
     "metadata": {
      "needs_background": "light"
     },
     "output_type": "display_data"
    }
   ],
   "source": [
    "# compare band sizes distribution from top and bottom genes\n",
    "fig = sns.kdeplot(\n",
    "    lv_genes_nonzero_weight[\"gene_band\"].value_counts(), shade=True, color=\"r\"\n",
    ")\n",
    "fig = sns.kdeplot(\n",
    "    lv_genes_zero_weight[\"gene_band\"].value_counts(), shade=True, color=\"b\"\n",
    ")\n",
    "plt.show()"
   ]
  },
  {
   "cell_type": "markdown",
   "id": "e22c98fc-8294-487d-8c51-7c3c6c9e6548",
   "metadata": {},
   "source": [
    "The distributions of band sizes between zero and non-zero weighted genes in this LV are similar."
   ]
  },
  {
   "cell_type": "markdown",
   "id": "1bfea597-3792-40a7-9094-77bcde732faf",
   "metadata": {},
   "source": [
    "# Conclusions"
   ]
  },
  {
   "cell_type": "markdown",
   "id": "3a3b76b3-2b7d-4401-9685-1cf09bbf22ef",
   "metadata": {},
   "source": [
    "Looks like not-well-calibrated LVs are due to either:\n",
    "* Too many top genes from the same band.\n",
    "* Or not matched distributions of band sizes between zero and non-zero weighted genes.\n",
    "* Too many large bands among the top genes."
   ]
  },
  {
   "cell_type": "code",
   "execution_count": null,
   "id": "0e32637a-d3fb-4833-93d3-7d680ee8bdbe",
   "metadata": {},
   "outputs": [],
   "source": []
  }
 ],
 "metadata": {
  "jupytext": {
   "cell_metadata_filter": "all,-execution,-papermill,-trusted",
   "formats": "ipynb,py//py:percent"
  },
  "kernelspec": {
   "display_name": "Python 3 (ipykernel)",
   "language": "python",
   "name": "python3"
  },
  "language_info": {
   "codemirror_mode": {
    "name": "ipython",
    "version": 3
   },
   "file_extension": ".py",
   "mimetype": "text/x-python",
   "name": "python",
   "nbconvert_exporter": "python",
   "pygments_lexer": "ipython3",
   "version": "3.8.13"
  },
  "papermill": {
   "default_parameters": {},
   "duration": 2.899223,
   "end_time": "2022-02-24T05:32:05.472242",
   "environment_variables": {},
   "exception": null,
   "input_path": "nbs/15_gsa_gls/26-gls-null_simulations-plots.ipynb",
   "output_path": "nbs/15_gsa_gls/26-gls-null_simulations-plots.run.ipynb",
   "parameters": {},
   "start_time": "2022-02-24T05:32:02.573019",
   "version": "2.2.2"
  },
  "toc-autonumbering": true
 },
 "nbformat": 4,
 "nbformat_minor": 5
}
