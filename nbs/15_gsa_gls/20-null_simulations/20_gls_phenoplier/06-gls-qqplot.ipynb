{
 "cells": [
  {
   "cell_type": "markdown",
   "id": "b7acf0c2",
   "metadata": {
    "papermill": {
     "duration": 0.038207,
     "end_time": "2022-02-24T05:32:03.755452",
     "exception": false,
     "start_time": "2022-02-24T05:32:03.717245",
     "status": "completed"
    },
    "tags": []
   },
   "source": [
    "# Description"
   ]
  },
  {
   "cell_type": "markdown",
   "id": "2653adfb",
   "metadata": {
    "papermill": {
     "duration": 0.009944,
     "end_time": "2022-02-24T05:32:03.780673",
     "exception": false,
     "start_time": "2022-02-24T05:32:03.770729",
     "status": "completed"
    },
    "tags": []
   },
   "source": [
    "TODO\n",
    "\n",
    "- rename this file to be 27-\n",
    "\n",
    "This file is actually the same as `05-gls-qqplot.ipynb` but in python; pick one of them."
   ]
  },
  {
   "cell_type": "markdown",
   "id": "fb645f46",
   "metadata": {
    "papermill": {
     "duration": 0.008401,
     "end_time": "2022-02-24T05:32:03.797668",
     "exception": false,
     "start_time": "2022-02-24T05:32:03.789267",
     "status": "completed"
    },
    "tags": []
   },
   "source": [
    "# Modules"
   ]
  },
  {
   "cell_type": "code",
   "execution_count": 1,
   "id": "7ce51c68",
   "metadata": {
    "papermill": {
     "duration": 0.861241,
     "end_time": "2022-02-24T05:32:04.667481",
     "exception": false,
     "start_time": "2022-02-24T05:32:03.806240",
     "status": "completed"
    },
    "tags": []
   },
   "outputs": [],
   "source": [
    "from pathlib import Path\n",
    "\n",
    "import numpy as np\n",
    "import pandas as pd\n",
    "from statsmodels.graphics.gofplots import qqplot_2samples\n",
    "import matplotlib.pyplot as plt\n",
    "import matplotlib as mpl\n",
    "import seaborn as sns\n",
    "\n",
    "import conf"
   ]
  },
  {
   "cell_type": "markdown",
   "id": "654985a3",
   "metadata": {
    "papermill": {
     "duration": 0.008701,
     "end_time": "2022-02-24T05:32:04.685435",
     "exception": false,
     "start_time": "2022-02-24T05:32:04.676734",
     "status": "completed"
    },
    "tags": []
   },
   "source": [
    "# Settings"
   ]
  },
  {
   "cell_type": "code",
   "execution_count": 2,
   "id": "9ba4e01c",
   "metadata": {
    "papermill": {
     "duration": 0.016348,
     "end_time": "2022-02-24T05:32:04.710602",
     "exception": false,
     "start_time": "2022-02-24T05:32:04.694254",
     "status": "completed"
    },
    "tags": []
   },
   "outputs": [
    {
     "data": {
      "text/plain": [
       "PosixPath('/opt/data/results/gls/null_sims/phenoplier/gls-gtex-mashr-mean_gene_expr')"
      ]
     },
     "metadata": {},
     "output_type": "display_data"
    }
   ],
   "source": [
    "# INPUT_DIR = conf.RESULTS[\"GLS_NULL_SIMS\"] / \"phenoplier\" / \"gls\"\n",
    "INPUT_DIR = (\n",
    "    conf.RESULTS[\"GLS_NULL_SIMS\"] / \"phenoplier\" / \"gls-gtex-mashr-mean_gene_expr\"\n",
    ")\n",
    "display(INPUT_DIR)"
   ]
  },
  {
   "cell_type": "markdown",
   "id": "4cb0512c",
   "metadata": {
    "papermill": {
     "duration": 0.010426,
     "end_time": "2022-02-24T05:32:04.905993",
     "exception": false,
     "start_time": "2022-02-24T05:32:04.895567",
     "status": "completed"
    },
    "tags": []
   },
   "source": [
    "# Functions"
   ]
  },
  {
   "cell_type": "code",
   "execution_count": 3,
   "id": "8f147e50",
   "metadata": {},
   "outputs": [],
   "source": [
    "def show_prop(data, frac=0.05):\n",
    "    _pvalue_lt_frac = data[data[\"pvalue\"] < frac]\n",
    "    #     display(_pvalue_lt_frac.head())\n",
    "    return _pvalue_lt_frac.shape[0] / data.shape[0]"
   ]
  },
  {
   "cell_type": "code",
   "execution_count": 4,
   "id": "247ac210-d958-47c5-8689-5d7bee1fc2c3",
   "metadata": {},
   "outputs": [],
   "source": [
    "def get_prop(pvalues, frac=0.05):\n",
    "    _pvalue_lt_frac = pvalues[pvalues < frac]\n",
    "    #     display(_pvalue_lt_frac.head())\n",
    "    return _pvalue_lt_frac.shape[0] / pvalues.shape[0]"
   ]
  },
  {
   "cell_type": "code",
   "execution_count": 5,
   "id": "21b228aa-038d-4d7f-886c-c46e98e20d15",
   "metadata": {},
   "outputs": [],
   "source": [
    "assert get_prop(np.array([0.20, 0.50]), 0.05) == 0.0\n",
    "assert get_prop(np.array([0.20, 0.50, 0.75, 0.10, 0.04]), 0.05) == 0.2"
   ]
  },
  {
   "cell_type": "code",
   "execution_count": 6,
   "id": "6d41d11a-acf1-4165-9436-a9eda22ba6bb",
   "metadata": {},
   "outputs": [],
   "source": [
    "assert get_prop(pd.Series(np.array([0.20, 0.50])), 0.05) == 0.0\n",
    "assert get_prop(pd.Series(np.array([0.20, 0.50, 0.75, 0.10, 0.04])), 0.05) == 0.2"
   ]
  },
  {
   "cell_type": "markdown",
   "id": "61c4fa5f",
   "metadata": {},
   "source": [
    "# Get files list"
   ]
  },
  {
   "cell_type": "code",
   "execution_count": 7,
   "id": "f920bc02-8297-4bd9-8601-665f079cbf91",
   "metadata": {},
   "outputs": [
    {
     "data": {
      "text/plain": [
       "[PosixPath('/opt/data/results/gls/null_sims/phenoplier/gls-gtex-mashr-mean_gene_expr/random.pheno86-combined-gls_phenoplier.tsv.gz'),\n",
       " PosixPath('/opt/data/results/gls/null_sims/phenoplier/gls-gtex-mashr-mean_gene_expr/random.pheno53-combined-gls_phenoplier.tsv.gz'),\n",
       " PosixPath('/opt/data/results/gls/null_sims/phenoplier/gls-gtex-mashr-mean_gene_expr/random.pheno34-combined-gls_phenoplier.tsv.gz'),\n",
       " PosixPath('/opt/data/results/gls/null_sims/phenoplier/gls-gtex-mashr-mean_gene_expr/random.pheno93-combined-gls_phenoplier.tsv.gz'),\n",
       " PosixPath('/opt/data/results/gls/null_sims/phenoplier/gls-gtex-mashr-mean_gene_expr/random.pheno92-combined-gls_phenoplier.tsv.gz')]"
      ]
     },
     "metadata": {},
     "output_type": "display_data"
    }
   ],
   "source": [
    "INPUT_FILES = list(INPUT_DIR.glob(\"*.tsv.gz\"))\n",
    "display(INPUT_FILES[:5])"
   ]
  },
  {
   "cell_type": "markdown",
   "id": "5f2c6f72-9a30-4ced-bc9a-04b6b3b21384",
   "metadata": {},
   "source": [
    "# Load data"
   ]
  },
  {
   "cell_type": "code",
   "execution_count": 8,
   "id": "18ebfb6c",
   "metadata": {
    "papermill": {
     "duration": 0.023945,
     "end_time": "2022-02-24T05:32:04.808813",
     "exception": false,
     "start_time": "2022-02-24T05:32:04.784868",
     "status": "completed"
    },
    "tags": []
   },
   "outputs": [],
   "source": [
    "dfs = [\n",
    "    pd.read_csv(f, sep=\"\\t\").assign(phenotype=f.name.split(\"-\")[0]) for f in INPUT_FILES\n",
    "]"
   ]
  },
  {
   "cell_type": "code",
   "execution_count": 9,
   "id": "ac3b6041",
   "metadata": {
    "papermill": {
     "duration": 0.015781,
     "end_time": "2022-02-24T05:32:04.834694",
     "exception": false,
     "start_time": "2022-02-24T05:32:04.818913",
     "status": "completed"
    },
    "tags": []
   },
   "outputs": [
    {
     "data": {
      "text/plain": [
       "100"
      ]
     },
     "execution_count": 9,
     "metadata": {},
     "output_type": "execute_result"
    }
   ],
   "source": [
    "len(dfs)"
   ]
  },
  {
   "cell_type": "code",
   "execution_count": 10,
   "id": "d15f7346",
   "metadata": {
    "papermill": {
     "duration": 0.038689,
     "end_time": "2022-02-24T05:32:04.884154",
     "exception": false,
     "start_time": "2022-02-24T05:32:04.845465",
     "status": "completed"
    },
    "tags": []
   },
   "outputs": [],
   "source": [
    "dfs = pd.concat(dfs, axis=0, ignore_index=True)"
   ]
  },
  {
   "cell_type": "code",
   "execution_count": 11,
   "id": "7405b07c-b71a-4a8f-924b-f9ffc7a0b13a",
   "metadata": {},
   "outputs": [
    {
     "data": {
      "text/plain": [
       "(98700, 4)"
      ]
     },
     "execution_count": 11,
     "metadata": {},
     "output_type": "execute_result"
    }
   ],
   "source": [
    "dfs.shape"
   ]
  },
  {
   "cell_type": "code",
   "execution_count": 12,
   "id": "228787ad-0cbb-4f3b-b964-0bc148a1a305",
   "metadata": {},
   "outputs": [
    {
     "data": {
      "text/html": [
       "<div>\n",
       "<style scoped>\n",
       "    .dataframe tbody tr th:only-of-type {\n",
       "        vertical-align: middle;\n",
       "    }\n",
       "\n",
       "    .dataframe tbody tr th {\n",
       "        vertical-align: top;\n",
       "    }\n",
       "\n",
       "    .dataframe thead th {\n",
       "        text-align: right;\n",
       "    }\n",
       "</style>\n",
       "<table border=\"1\" class=\"dataframe\">\n",
       "  <thead>\n",
       "    <tr style=\"text-align: right;\">\n",
       "      <th></th>\n",
       "      <th>lv</th>\n",
       "      <th>coef</th>\n",
       "      <th>pvalue</th>\n",
       "      <th>phenotype</th>\n",
       "    </tr>\n",
       "  </thead>\n",
       "  <tbody>\n",
       "    <tr>\n",
       "      <th>0</th>\n",
       "      <td>LV1</td>\n",
       "      <td>-0.013724</td>\n",
       "      <td>0.867403</td>\n",
       "      <td>random.pheno86</td>\n",
       "    </tr>\n",
       "    <tr>\n",
       "      <th>1</th>\n",
       "      <td>LV10</td>\n",
       "      <td>0.008047</td>\n",
       "      <td>0.258738</td>\n",
       "      <td>random.pheno86</td>\n",
       "    </tr>\n",
       "    <tr>\n",
       "      <th>2</th>\n",
       "      <td>LV100</td>\n",
       "      <td>-0.000451</td>\n",
       "      <td>0.514894</td>\n",
       "      <td>random.pheno86</td>\n",
       "    </tr>\n",
       "    <tr>\n",
       "      <th>3</th>\n",
       "      <td>LV101</td>\n",
       "      <td>0.000329</td>\n",
       "      <td>0.489294</td>\n",
       "      <td>random.pheno86</td>\n",
       "    </tr>\n",
       "    <tr>\n",
       "      <th>4</th>\n",
       "      <td>LV102</td>\n",
       "      <td>0.003352</td>\n",
       "      <td>0.395549</td>\n",
       "      <td>random.pheno86</td>\n",
       "    </tr>\n",
       "  </tbody>\n",
       "</table>\n",
       "</div>"
      ],
      "text/plain": [
       "      lv      coef    pvalue       phenotype\n",
       "0    LV1 -0.013724  0.867403  random.pheno86\n",
       "1   LV10  0.008047  0.258738  random.pheno86\n",
       "2  LV100 -0.000451  0.514894  random.pheno86\n",
       "3  LV101  0.000329  0.489294  random.pheno86\n",
       "4  LV102  0.003352  0.395549  random.pheno86"
      ]
     },
     "execution_count": 12,
     "metadata": {},
     "output_type": "execute_result"
    }
   ],
   "source": [
    "dfs.head()"
   ]
  },
  {
   "cell_type": "markdown",
   "id": "c1b22d64-a75f-4380-9c86-b869a1c97072",
   "metadata": {},
   "source": [
    "# Summary"
   ]
  },
  {
   "cell_type": "code",
   "execution_count": 13,
   "id": "5c799efd-77dc-4955-b5b8-263c65779946",
   "metadata": {},
   "outputs": [],
   "source": [
    "summary_list = []\n",
    "for lv, lv_data in dfs.groupby(\"lv\"):\n",
    "    assert lv_data.shape[0] == 100\n",
    "\n",
    "    summary_list.append(\n",
    "        {\n",
    "            \"lv\": lv,\n",
    "            \"1\": get_prop(lv_data[\"pvalue\"], 0.01),\n",
    "            \"5\": get_prop(lv_data[\"pvalue\"], 0.05),\n",
    "            \"10\": get_prop(lv_data[\"pvalue\"], 0.10),\n",
    "        }\n",
    "    )\n",
    "\n",
    "summary_df = pd.DataFrame(summary_list)"
   ]
  },
  {
   "cell_type": "code",
   "execution_count": 14,
   "id": "16a5c34a-0337-4f15-b1ff-4b1bb00997f7",
   "metadata": {},
   "outputs": [
    {
     "data": {
      "text/plain": [
       "(987, 4)"
      ]
     },
     "execution_count": 14,
     "metadata": {},
     "output_type": "execute_result"
    }
   ],
   "source": [
    "summary_df.shape"
   ]
  },
  {
   "cell_type": "code",
   "execution_count": 15,
   "id": "3e1acb4a-00bb-4cea-9b47-9446a9382afe",
   "metadata": {},
   "outputs": [
    {
     "data": {
      "text/html": [
       "<div>\n",
       "<style scoped>\n",
       "    .dataframe tbody tr th:only-of-type {\n",
       "        vertical-align: middle;\n",
       "    }\n",
       "\n",
       "    .dataframe tbody tr th {\n",
       "        vertical-align: top;\n",
       "    }\n",
       "\n",
       "    .dataframe thead th {\n",
       "        text-align: right;\n",
       "    }\n",
       "</style>\n",
       "<table border=\"1\" class=\"dataframe\">\n",
       "  <thead>\n",
       "    <tr style=\"text-align: right;\">\n",
       "      <th></th>\n",
       "      <th>lv</th>\n",
       "      <th>1</th>\n",
       "      <th>5</th>\n",
       "      <th>10</th>\n",
       "    </tr>\n",
       "  </thead>\n",
       "  <tbody>\n",
       "    <tr>\n",
       "      <th>0</th>\n",
       "      <td>LV1</td>\n",
       "      <td>0.02</td>\n",
       "      <td>0.06</td>\n",
       "      <td>0.08</td>\n",
       "    </tr>\n",
       "    <tr>\n",
       "      <th>1</th>\n",
       "      <td>LV10</td>\n",
       "      <td>0.01</td>\n",
       "      <td>0.05</td>\n",
       "      <td>0.06</td>\n",
       "    </tr>\n",
       "    <tr>\n",
       "      <th>2</th>\n",
       "      <td>LV100</td>\n",
       "      <td>0.01</td>\n",
       "      <td>0.01</td>\n",
       "      <td>0.05</td>\n",
       "    </tr>\n",
       "    <tr>\n",
       "      <th>3</th>\n",
       "      <td>LV101</td>\n",
       "      <td>0.01</td>\n",
       "      <td>0.04</td>\n",
       "      <td>0.08</td>\n",
       "    </tr>\n",
       "    <tr>\n",
       "      <th>4</th>\n",
       "      <td>LV102</td>\n",
       "      <td>0.01</td>\n",
       "      <td>0.04</td>\n",
       "      <td>0.09</td>\n",
       "    </tr>\n",
       "  </tbody>\n",
       "</table>\n",
       "</div>"
      ],
      "text/plain": [
       "      lv     1     5    10\n",
       "0    LV1  0.02  0.06  0.08\n",
       "1   LV10  0.01  0.05  0.06\n",
       "2  LV100  0.01  0.01  0.05\n",
       "3  LV101  0.01  0.04  0.08\n",
       "4  LV102  0.01  0.04  0.09"
      ]
     },
     "execution_count": 15,
     "metadata": {},
     "output_type": "execute_result"
    }
   ],
   "source": [
    "summary_df.head()"
   ]
  },
  {
   "cell_type": "code",
   "execution_count": 16,
   "id": "779c4db3-3ed2-413d-8bec-b19a28ce4949",
   "metadata": {},
   "outputs": [
    {
     "data": {
      "text/html": [
       "<div>\n",
       "<style scoped>\n",
       "    .dataframe tbody tr th:only-of-type {\n",
       "        vertical-align: middle;\n",
       "    }\n",
       "\n",
       "    .dataframe tbody tr th {\n",
       "        vertical-align: top;\n",
       "    }\n",
       "\n",
       "    .dataframe thead th {\n",
       "        text-align: right;\n",
       "    }\n",
       "</style>\n",
       "<table border=\"1\" class=\"dataframe\">\n",
       "  <thead>\n",
       "    <tr style=\"text-align: right;\">\n",
       "      <th></th>\n",
       "      <th>1</th>\n",
       "      <th>5</th>\n",
       "      <th>10</th>\n",
       "    </tr>\n",
       "  </thead>\n",
       "  <tbody>\n",
       "    <tr>\n",
       "      <th>count</th>\n",
       "      <td>987.000000</td>\n",
       "      <td>987.000000</td>\n",
       "      <td>987.000000</td>\n",
       "    </tr>\n",
       "    <tr>\n",
       "      <th>mean</th>\n",
       "      <td>0.024215</td>\n",
       "      <td>0.073688</td>\n",
       "      <td>0.124316</td>\n",
       "    </tr>\n",
       "    <tr>\n",
       "      <th>std</th>\n",
       "      <td>0.025490</td>\n",
       "      <td>0.038080</td>\n",
       "      <td>0.045626</td>\n",
       "    </tr>\n",
       "    <tr>\n",
       "      <th>min</th>\n",
       "      <td>0.000000</td>\n",
       "      <td>0.000000</td>\n",
       "      <td>0.020000</td>\n",
       "    </tr>\n",
       "    <tr>\n",
       "      <th>25%</th>\n",
       "      <td>0.010000</td>\n",
       "      <td>0.050000</td>\n",
       "      <td>0.090000</td>\n",
       "    </tr>\n",
       "    <tr>\n",
       "      <th>50%</th>\n",
       "      <td>0.020000</td>\n",
       "      <td>0.070000</td>\n",
       "      <td>0.120000</td>\n",
       "    </tr>\n",
       "    <tr>\n",
       "      <th>75%</th>\n",
       "      <td>0.030000</td>\n",
       "      <td>0.090000</td>\n",
       "      <td>0.150000</td>\n",
       "    </tr>\n",
       "    <tr>\n",
       "      <th>max</th>\n",
       "      <td>0.280000</td>\n",
       "      <td>0.300000</td>\n",
       "      <td>0.310000</td>\n",
       "    </tr>\n",
       "  </tbody>\n",
       "</table>\n",
       "</div>"
      ],
      "text/plain": [
       "                1           5          10\n",
       "count  987.000000  987.000000  987.000000\n",
       "mean     0.024215    0.073688    0.124316\n",
       "std      0.025490    0.038080    0.045626\n",
       "min      0.000000    0.000000    0.020000\n",
       "25%      0.010000    0.050000    0.090000\n",
       "50%      0.020000    0.070000    0.120000\n",
       "75%      0.030000    0.090000    0.150000\n",
       "max      0.280000    0.300000    0.310000"
      ]
     },
     "execution_count": 16,
     "metadata": {},
     "output_type": "execute_result"
    }
   ],
   "source": [
    "summary_df.describe()"
   ]
  },
  {
   "cell_type": "code",
   "execution_count": 17,
   "id": "4b22226f-edc7-4af5-8585-e2dbb6fcbe9e",
   "metadata": {},
   "outputs": [
    {
     "data": {
      "text/html": [
       "<div>\n",
       "<style scoped>\n",
       "    .dataframe tbody tr th:only-of-type {\n",
       "        vertical-align: middle;\n",
       "    }\n",
       "\n",
       "    .dataframe tbody tr th {\n",
       "        vertical-align: top;\n",
       "    }\n",
       "\n",
       "    .dataframe thead th {\n",
       "        text-align: right;\n",
       "    }\n",
       "</style>\n",
       "<table border=\"1\" class=\"dataframe\">\n",
       "  <thead>\n",
       "    <tr style=\"text-align: right;\">\n",
       "      <th></th>\n",
       "      <th>lv</th>\n",
       "      <th>1</th>\n",
       "      <th>5</th>\n",
       "      <th>10</th>\n",
       "    </tr>\n",
       "  </thead>\n",
       "  <tbody>\n",
       "    <tr>\n",
       "      <th>0</th>\n",
       "      <td>LV1</td>\n",
       "      <td>0.02</td>\n",
       "      <td>0.06</td>\n",
       "      <td>0.08</td>\n",
       "    </tr>\n",
       "    <tr>\n",
       "      <th>1</th>\n",
       "      <td>LV10</td>\n",
       "      <td>0.01</td>\n",
       "      <td>0.05</td>\n",
       "      <td>0.06</td>\n",
       "    </tr>\n",
       "    <tr>\n",
       "      <th>2</th>\n",
       "      <td>LV100</td>\n",
       "      <td>0.01</td>\n",
       "      <td>0.01</td>\n",
       "      <td>0.05</td>\n",
       "    </tr>\n",
       "    <tr>\n",
       "      <th>3</th>\n",
       "      <td>LV101</td>\n",
       "      <td>0.01</td>\n",
       "      <td>0.04</td>\n",
       "      <td>0.08</td>\n",
       "    </tr>\n",
       "    <tr>\n",
       "      <th>4</th>\n",
       "      <td>LV102</td>\n",
       "      <td>0.01</td>\n",
       "      <td>0.04</td>\n",
       "      <td>0.09</td>\n",
       "    </tr>\n",
       "    <tr>\n",
       "      <th>...</th>\n",
       "      <td>...</td>\n",
       "      <td>...</td>\n",
       "      <td>...</td>\n",
       "      <td>...</td>\n",
       "    </tr>\n",
       "    <tr>\n",
       "      <th>971</th>\n",
       "      <td>LV974</td>\n",
       "      <td>0.00</td>\n",
       "      <td>0.02</td>\n",
       "      <td>0.06</td>\n",
       "    </tr>\n",
       "    <tr>\n",
       "      <th>974</th>\n",
       "      <td>LV977</td>\n",
       "      <td>0.02</td>\n",
       "      <td>0.03</td>\n",
       "      <td>0.07</td>\n",
       "    </tr>\n",
       "    <tr>\n",
       "      <th>976</th>\n",
       "      <td>LV979</td>\n",
       "      <td>0.00</td>\n",
       "      <td>0.07</td>\n",
       "      <td>0.11</td>\n",
       "    </tr>\n",
       "    <tr>\n",
       "      <th>979</th>\n",
       "      <td>LV981</td>\n",
       "      <td>0.02</td>\n",
       "      <td>0.06</td>\n",
       "      <td>0.09</td>\n",
       "    </tr>\n",
       "    <tr>\n",
       "      <th>983</th>\n",
       "      <td>LV985</td>\n",
       "      <td>0.02</td>\n",
       "      <td>0.06</td>\n",
       "      <td>0.14</td>\n",
       "    </tr>\n",
       "  </tbody>\n",
       "</table>\n",
       "<p>587 rows × 4 columns</p>\n",
       "</div>"
      ],
      "text/plain": [
       "        lv     1     5    10\n",
       "0      LV1  0.02  0.06  0.08\n",
       "1     LV10  0.01  0.05  0.06\n",
       "2    LV100  0.01  0.01  0.05\n",
       "3    LV101  0.01  0.04  0.08\n",
       "4    LV102  0.01  0.04  0.09\n",
       "..     ...   ...   ...   ...\n",
       "971  LV974  0.00  0.02  0.06\n",
       "974  LV977  0.02  0.03  0.07\n",
       "976  LV979  0.00  0.07  0.11\n",
       "979  LV981  0.02  0.06  0.09\n",
       "983  LV985  0.02  0.06  0.14\n",
       "\n",
       "[587 rows x 4 columns]"
      ]
     },
     "execution_count": 17,
     "metadata": {},
     "output_type": "execute_result"
    }
   ],
   "source": [
    "summary_df[summary_df[\"5\"] < 0.08]"
   ]
  },
  {
   "cell_type": "code",
   "execution_count": 24,
   "id": "e19fe183-c7f3-41bd-aed6-578189647515",
   "metadata": {},
   "outputs": [
    {
     "data": {
      "text/html": [
       "<div>\n",
       "<style scoped>\n",
       "    .dataframe tbody tr th:only-of-type {\n",
       "        vertical-align: middle;\n",
       "    }\n",
       "\n",
       "    .dataframe tbody tr th {\n",
       "        vertical-align: top;\n",
       "    }\n",
       "\n",
       "    .dataframe thead th {\n",
       "        text-align: right;\n",
       "    }\n",
       "</style>\n",
       "<table border=\"1\" class=\"dataframe\">\n",
       "  <thead>\n",
       "    <tr style=\"text-align: right;\">\n",
       "      <th></th>\n",
       "      <th>lv</th>\n",
       "      <th>1</th>\n",
       "      <th>5</th>\n",
       "      <th>10</th>\n",
       "    </tr>\n",
       "  </thead>\n",
       "  <tbody>\n",
       "    <tr>\n",
       "      <th>672</th>\n",
       "      <td>LV704</td>\n",
       "      <td>0.28</td>\n",
       "      <td>0.3</td>\n",
       "      <td>0.31</td>\n",
       "    </tr>\n",
       "  </tbody>\n",
       "</table>\n",
       "</div>"
      ],
      "text/plain": [
       "        lv     1    5    10\n",
       "672  LV704  0.28  0.3  0.31"
      ]
     },
     "execution_count": 24,
     "metadata": {},
     "output_type": "execute_result"
    }
   ],
   "source": [
    "summary_df[summary_df[\"5\"] == 0.30]"
   ]
  },
  {
   "cell_type": "code",
   "execution_count": 20,
   "id": "9a2b1577-e241-4826-a9f1-87cf2636afbb",
   "metadata": {},
   "outputs": [
    {
     "data": {
      "text/html": [
       "<div>\n",
       "<style scoped>\n",
       "    .dataframe tbody tr th:only-of-type {\n",
       "        vertical-align: middle;\n",
       "    }\n",
       "\n",
       "    .dataframe tbody tr th {\n",
       "        vertical-align: top;\n",
       "    }\n",
       "\n",
       "    .dataframe thead th {\n",
       "        text-align: right;\n",
       "    }\n",
       "</style>\n",
       "<table border=\"1\" class=\"dataframe\">\n",
       "  <thead>\n",
       "    <tr style=\"text-align: right;\">\n",
       "      <th></th>\n",
       "      <th>lv</th>\n",
       "      <th>coef</th>\n",
       "      <th>pvalue</th>\n",
       "      <th>phenotype</th>\n",
       "    </tr>\n",
       "  </thead>\n",
       "  <tbody>\n",
       "    <tr>\n",
       "      <th>41139</th>\n",
       "      <td>LV704</td>\n",
       "      <td>0.068824</td>\n",
       "      <td>6.829856e-23</td>\n",
       "      <td>random.pheno67</td>\n",
       "    </tr>\n",
       "    <tr>\n",
       "      <th>95424</th>\n",
       "      <td>LV704</td>\n",
       "      <td>0.047134</td>\n",
       "      <td>5.576159e-12</td>\n",
       "      <td>random.pheno97</td>\n",
       "    </tr>\n",
       "    <tr>\n",
       "      <th>80619</th>\n",
       "      <td>LV704</td>\n",
       "      <td>0.044411</td>\n",
       "      <td>1.058591e-10</td>\n",
       "      <td>random.pheno66</td>\n",
       "    </tr>\n",
       "    <tr>\n",
       "      <th>96411</th>\n",
       "      <td>LV704</td>\n",
       "      <td>0.042393</td>\n",
       "      <td>7.049010e-10</td>\n",
       "      <td>random.pheno26</td>\n",
       "    </tr>\n",
       "    <tr>\n",
       "      <th>29295</th>\n",
       "      <td>LV704</td>\n",
       "      <td>0.042629</td>\n",
       "      <td>9.625478e-10</td>\n",
       "      <td>random.pheno17</td>\n",
       "    </tr>\n",
       "    <tr>\n",
       "      <th>63840</th>\n",
       "      <td>LV704</td>\n",
       "      <td>0.038764</td>\n",
       "      <td>1.414768e-08</td>\n",
       "      <td>random.pheno33</td>\n",
       "    </tr>\n",
       "    <tr>\n",
       "      <th>30282</th>\n",
       "      <td>LV704</td>\n",
       "      <td>0.038028</td>\n",
       "      <td>2.480572e-08</td>\n",
       "      <td>random.pheno11</td>\n",
       "    </tr>\n",
       "    <tr>\n",
       "      <th>37191</th>\n",
       "      <td>LV704</td>\n",
       "      <td>0.033932</td>\n",
       "      <td>4.906007e-07</td>\n",
       "      <td>random.pheno61</td>\n",
       "    </tr>\n",
       "    <tr>\n",
       "      <th>33243</th>\n",
       "      <td>LV704</td>\n",
       "      <td>0.029926</td>\n",
       "      <td>7.806813e-06</td>\n",
       "      <td>random.pheno35</td>\n",
       "    </tr>\n",
       "    <tr>\n",
       "      <th>38178</th>\n",
       "      <td>LV704</td>\n",
       "      <td>0.028144</td>\n",
       "      <td>2.969542e-05</td>\n",
       "      <td>random.pheno40</td>\n",
       "    </tr>\n",
       "    <tr>\n",
       "      <th>47061</th>\n",
       "      <td>LV704</td>\n",
       "      <td>0.027265</td>\n",
       "      <td>4.201338e-05</td>\n",
       "      <td>random.pheno94</td>\n",
       "    </tr>\n",
       "    <tr>\n",
       "      <th>10542</th>\n",
       "      <td>LV704</td>\n",
       "      <td>0.027552</td>\n",
       "      <td>4.243373e-05</td>\n",
       "      <td>random.pheno83</td>\n",
       "    </tr>\n",
       "    <tr>\n",
       "      <th>45087</th>\n",
       "      <td>LV704</td>\n",
       "      <td>0.026787</td>\n",
       "      <td>5.196361e-05</td>\n",
       "      <td>random.pheno6</td>\n",
       "    </tr>\n",
       "    <tr>\n",
       "      <th>71736</th>\n",
       "      <td>LV704</td>\n",
       "      <td>0.026792</td>\n",
       "      <td>5.311484e-05</td>\n",
       "      <td>random.pheno23</td>\n",
       "    </tr>\n",
       "    <tr>\n",
       "      <th>91476</th>\n",
       "      <td>LV704</td>\n",
       "      <td>0.026618</td>\n",
       "      <td>6.242195e-05</td>\n",
       "      <td>random.pheno18</td>\n",
       "    </tr>\n",
       "    <tr>\n",
       "      <th>55944</th>\n",
       "      <td>LV704</td>\n",
       "      <td>0.026504</td>\n",
       "      <td>6.635628e-05</td>\n",
       "      <td>random.pheno1</td>\n",
       "    </tr>\n",
       "    <tr>\n",
       "      <th>94437</th>\n",
       "      <td>LV704</td>\n",
       "      <td>0.025802</td>\n",
       "      <td>1.135835e-04</td>\n",
       "      <td>random.pheno48</td>\n",
       "    </tr>\n",
       "    <tr>\n",
       "      <th>89502</th>\n",
       "      <td>LV704</td>\n",
       "      <td>0.023662</td>\n",
       "      <td>2.952021e-04</td>\n",
       "      <td>random.pheno63</td>\n",
       "    </tr>\n",
       "    <tr>\n",
       "      <th>7581</th>\n",
       "      <td>LV704</td>\n",
       "      <td>0.023710</td>\n",
       "      <td>3.523569e-04</td>\n",
       "      <td>random.pheno0</td>\n",
       "    </tr>\n",
       "    <tr>\n",
       "      <th>20412</th>\n",
       "      <td>LV704</td>\n",
       "      <td>0.023590</td>\n",
       "      <td>3.544371e-04</td>\n",
       "      <td>random.pheno50</td>\n",
       "    </tr>\n",
       "    <tr>\n",
       "      <th>62853</th>\n",
       "      <td>LV704</td>\n",
       "      <td>0.023201</td>\n",
       "      <td>4.100561e-04</td>\n",
       "      <td>random.pheno30</td>\n",
       "    </tr>\n",
       "    <tr>\n",
       "      <th>76671</th>\n",
       "      <td>LV704</td>\n",
       "      <td>0.021771</td>\n",
       "      <td>8.501287e-04</td>\n",
       "      <td>random.pheno99</td>\n",
       "    </tr>\n",
       "    <tr>\n",
       "      <th>74697</th>\n",
       "      <td>LV704</td>\n",
       "      <td>0.020410</td>\n",
       "      <td>1.678836e-03</td>\n",
       "      <td>random.pheno5</td>\n",
       "    </tr>\n",
       "    <tr>\n",
       "      <th>8568</th>\n",
       "      <td>LV704</td>\n",
       "      <td>0.018315</td>\n",
       "      <td>4.262101e-03</td>\n",
       "      <td>random.pheno16</td>\n",
       "    </tr>\n",
       "    <tr>\n",
       "      <th>73710</th>\n",
       "      <td>LV704</td>\n",
       "      <td>0.018070</td>\n",
       "      <td>4.851866e-03</td>\n",
       "      <td>random.pheno7</td>\n",
       "    </tr>\n",
       "    <tr>\n",
       "      <th>46074</th>\n",
       "      <td>LV704</td>\n",
       "      <td>0.017038</td>\n",
       "      <td>7.086151e-03</td>\n",
       "      <td>random.pheno25</td>\n",
       "    </tr>\n",
       "    <tr>\n",
       "      <th>19425</th>\n",
       "      <td>LV704</td>\n",
       "      <td>0.016995</td>\n",
       "      <td>7.315842e-03</td>\n",
       "      <td>random.pheno74</td>\n",
       "    </tr>\n",
       "    <tr>\n",
       "      <th>25347</th>\n",
       "      <td>LV704</td>\n",
       "      <td>0.016385</td>\n",
       "      <td>9.269074e-03</td>\n",
       "      <td>random.pheno4</td>\n",
       "    </tr>\n",
       "    <tr>\n",
       "      <th>28308</th>\n",
       "      <td>LV704</td>\n",
       "      <td>0.015326</td>\n",
       "      <td>1.294952e-02</td>\n",
       "      <td>random.pheno37</td>\n",
       "    </tr>\n",
       "    <tr>\n",
       "      <th>86541</th>\n",
       "      <td>LV704</td>\n",
       "      <td>0.015438</td>\n",
       "      <td>1.321589e-02</td>\n",
       "      <td>random.pheno28</td>\n",
       "    </tr>\n",
       "    <tr>\n",
       "      <th>69762</th>\n",
       "      <td>LV704</td>\n",
       "      <td>0.009225</td>\n",
       "      <td>9.336612e-02</td>\n",
       "      <td>random.pheno98</td>\n",
       "    </tr>\n",
       "    <tr>\n",
       "      <th>44100</th>\n",
       "      <td>LV704</td>\n",
       "      <td>0.006756</td>\n",
       "      <td>1.656708e-01</td>\n",
       "      <td>random.pheno32</td>\n",
       "    </tr>\n",
       "    <tr>\n",
       "      <th>78645</th>\n",
       "      <td>LV704</td>\n",
       "      <td>0.006638</td>\n",
       "      <td>1.696714e-01</td>\n",
       "      <td>random.pheno73</td>\n",
       "    </tr>\n",
       "    <tr>\n",
       "      <th>83580</th>\n",
       "      <td>LV704</td>\n",
       "      <td>0.005614</td>\n",
       "      <td>2.075445e-01</td>\n",
       "      <td>random.pheno62</td>\n",
       "    </tr>\n",
       "    <tr>\n",
       "      <th>68775</th>\n",
       "      <td>LV704</td>\n",
       "      <td>0.005032</td>\n",
       "      <td>2.344046e-01</td>\n",
       "      <td>random.pheno15</td>\n",
       "    </tr>\n",
       "    <tr>\n",
       "      <th>27321</th>\n",
       "      <td>LV704</td>\n",
       "      <td>0.004899</td>\n",
       "      <td>2.402315e-01</td>\n",
       "      <td>random.pheno64</td>\n",
       "    </tr>\n",
       "    <tr>\n",
       "      <th>53970</th>\n",
       "      <td>LV704</td>\n",
       "      <td>0.004847</td>\n",
       "      <td>2.406841e-01</td>\n",
       "      <td>random.pheno36</td>\n",
       "    </tr>\n",
       "    <tr>\n",
       "      <th>11529</th>\n",
       "      <td>LV704</td>\n",
       "      <td>0.004612</td>\n",
       "      <td>2.535798e-01</td>\n",
       "      <td>random.pheno22</td>\n",
       "    </tr>\n",
       "    <tr>\n",
       "      <th>32256</th>\n",
       "      <td>LV704</td>\n",
       "      <td>0.004292</td>\n",
       "      <td>2.675844e-01</td>\n",
       "      <td>random.pheno44</td>\n",
       "    </tr>\n",
       "    <tr>\n",
       "      <th>52983</th>\n",
       "      <td>LV704</td>\n",
       "      <td>0.004186</td>\n",
       "      <td>2.735390e-01</td>\n",
       "      <td>random.pheno19</td>\n",
       "    </tr>\n",
       "  </tbody>\n",
       "</table>\n",
       "</div>"
      ],
      "text/plain": [
       "          lv      coef        pvalue       phenotype\n",
       "41139  LV704  0.068824  6.829856e-23  random.pheno67\n",
       "95424  LV704  0.047134  5.576159e-12  random.pheno97\n",
       "80619  LV704  0.044411  1.058591e-10  random.pheno66\n",
       "96411  LV704  0.042393  7.049010e-10  random.pheno26\n",
       "29295  LV704  0.042629  9.625478e-10  random.pheno17\n",
       "63840  LV704  0.038764  1.414768e-08  random.pheno33\n",
       "30282  LV704  0.038028  2.480572e-08  random.pheno11\n",
       "37191  LV704  0.033932  4.906007e-07  random.pheno61\n",
       "33243  LV704  0.029926  7.806813e-06  random.pheno35\n",
       "38178  LV704  0.028144  2.969542e-05  random.pheno40\n",
       "47061  LV704  0.027265  4.201338e-05  random.pheno94\n",
       "10542  LV704  0.027552  4.243373e-05  random.pheno83\n",
       "45087  LV704  0.026787  5.196361e-05   random.pheno6\n",
       "71736  LV704  0.026792  5.311484e-05  random.pheno23\n",
       "91476  LV704  0.026618  6.242195e-05  random.pheno18\n",
       "55944  LV704  0.026504  6.635628e-05   random.pheno1\n",
       "94437  LV704  0.025802  1.135835e-04  random.pheno48\n",
       "89502  LV704  0.023662  2.952021e-04  random.pheno63\n",
       "7581   LV704  0.023710  3.523569e-04   random.pheno0\n",
       "20412  LV704  0.023590  3.544371e-04  random.pheno50\n",
       "62853  LV704  0.023201  4.100561e-04  random.pheno30\n",
       "76671  LV704  0.021771  8.501287e-04  random.pheno99\n",
       "74697  LV704  0.020410  1.678836e-03   random.pheno5\n",
       "8568   LV704  0.018315  4.262101e-03  random.pheno16\n",
       "73710  LV704  0.018070  4.851866e-03   random.pheno7\n",
       "46074  LV704  0.017038  7.086151e-03  random.pheno25\n",
       "19425  LV704  0.016995  7.315842e-03  random.pheno74\n",
       "25347  LV704  0.016385  9.269074e-03   random.pheno4\n",
       "28308  LV704  0.015326  1.294952e-02  random.pheno37\n",
       "86541  LV704  0.015438  1.321589e-02  random.pheno28\n",
       "69762  LV704  0.009225  9.336612e-02  random.pheno98\n",
       "44100  LV704  0.006756  1.656708e-01  random.pheno32\n",
       "78645  LV704  0.006638  1.696714e-01  random.pheno73\n",
       "83580  LV704  0.005614  2.075445e-01  random.pheno62\n",
       "68775  LV704  0.005032  2.344046e-01  random.pheno15\n",
       "27321  LV704  0.004899  2.402315e-01  random.pheno64\n",
       "53970  LV704  0.004847  2.406841e-01  random.pheno36\n",
       "11529  LV704  0.004612  2.535798e-01  random.pheno22\n",
       "32256  LV704  0.004292  2.675844e-01  random.pheno44\n",
       "52983  LV704  0.004186  2.735390e-01  random.pheno19"
      ]
     },
     "execution_count": 20,
     "metadata": {},
     "output_type": "execute_result"
    }
   ],
   "source": [
    "dfs[dfs[\"lv\"] == \"LV704\"].sort_values(\"pvalue\").head(40)"
   ]
  },
  {
   "cell_type": "code",
   "execution_count": 21,
   "id": "b67a60e7-af8a-4856-8e87-3caa997509b1",
   "metadata": {},
   "outputs": [
    {
     "data": {
      "text/html": [
       "<div>\n",
       "<style scoped>\n",
       "    .dataframe tbody tr th:only-of-type {\n",
       "        vertical-align: middle;\n",
       "    }\n",
       "\n",
       "    .dataframe tbody tr th {\n",
       "        vertical-align: top;\n",
       "    }\n",
       "\n",
       "    .dataframe thead th {\n",
       "        text-align: right;\n",
       "    }\n",
       "</style>\n",
       "<table border=\"1\" class=\"dataframe\">\n",
       "  <thead>\n",
       "    <tr style=\"text-align: right;\">\n",
       "      <th></th>\n",
       "      <th>1</th>\n",
       "      <th>5</th>\n",
       "      <th>10</th>\n",
       "    </tr>\n",
       "  </thead>\n",
       "  <tbody>\n",
       "    <tr>\n",
       "      <th>0.01</th>\n",
       "      <td>0.00</td>\n",
       "      <td>0.01</td>\n",
       "      <td>0.04</td>\n",
       "    </tr>\n",
       "    <tr>\n",
       "      <th>0.05</th>\n",
       "      <td>0.00</td>\n",
       "      <td>0.03</td>\n",
       "      <td>0.06</td>\n",
       "    </tr>\n",
       "    <tr>\n",
       "      <th>0.10</th>\n",
       "      <td>0.00</td>\n",
       "      <td>0.03</td>\n",
       "      <td>0.07</td>\n",
       "    </tr>\n",
       "    <tr>\n",
       "      <th>0.15</th>\n",
       "      <td>0.01</td>\n",
       "      <td>0.04</td>\n",
       "      <td>0.08</td>\n",
       "    </tr>\n",
       "    <tr>\n",
       "      <th>0.20</th>\n",
       "      <td>0.01</td>\n",
       "      <td>0.04</td>\n",
       "      <td>0.09</td>\n",
       "    </tr>\n",
       "    <tr>\n",
       "      <th>0.25</th>\n",
       "      <td>0.01</td>\n",
       "      <td>0.05</td>\n",
       "      <td>0.09</td>\n",
       "    </tr>\n",
       "    <tr>\n",
       "      <th>0.50</th>\n",
       "      <td>0.02</td>\n",
       "      <td>0.07</td>\n",
       "      <td>0.12</td>\n",
       "    </tr>\n",
       "    <tr>\n",
       "      <th>0.75</th>\n",
       "      <td>0.03</td>\n",
       "      <td>0.09</td>\n",
       "      <td>0.15</td>\n",
       "    </tr>\n",
       "    <tr>\n",
       "      <th>0.80</th>\n",
       "      <td>0.04</td>\n",
       "      <td>0.10</td>\n",
       "      <td>0.16</td>\n",
       "    </tr>\n",
       "    <tr>\n",
       "      <th>0.85</th>\n",
       "      <td>0.04</td>\n",
       "      <td>0.11</td>\n",
       "      <td>0.17</td>\n",
       "    </tr>\n",
       "    <tr>\n",
       "      <th>0.90</th>\n",
       "      <td>0.05</td>\n",
       "      <td>0.12</td>\n",
       "      <td>0.18</td>\n",
       "    </tr>\n",
       "    <tr>\n",
       "      <th>0.95</th>\n",
       "      <td>0.06</td>\n",
       "      <td>0.14</td>\n",
       "      <td>0.20</td>\n",
       "    </tr>\n",
       "  </tbody>\n",
       "</table>\n",
       "</div>"
      ],
      "text/plain": [
       "         1     5    10\n",
       "0.01  0.00  0.01  0.04\n",
       "0.05  0.00  0.03  0.06\n",
       "0.10  0.00  0.03  0.07\n",
       "0.15  0.01  0.04  0.08\n",
       "0.20  0.01  0.04  0.09\n",
       "0.25  0.01  0.05  0.09\n",
       "0.50  0.02  0.07  0.12\n",
       "0.75  0.03  0.09  0.15\n",
       "0.80  0.04  0.10  0.16\n",
       "0.85  0.04  0.11  0.17\n",
       "0.90  0.05  0.12  0.18\n",
       "0.95  0.06  0.14  0.20"
      ]
     },
     "execution_count": 21,
     "metadata": {},
     "output_type": "execute_result"
    }
   ],
   "source": [
    "summary_df[summary_df[\"lv\"] != \"LV704\"].quantile(\n",
    "    [0.01, 0.05, 0.10, 0.15, 0.20, 0.25, 0.50, 0.75, 0.80, 0.85, 0.90, 0.95]\n",
    ")"
   ]
  },
  {
   "cell_type": "markdown",
   "id": "acf7d125-dfd4-44d3-820a-6e0521ce07b7",
   "metadata": {},
   "source": [
    "# Some QQ-plots"
   ]
  },
  {
   "cell_type": "code",
   "execution_count": 25,
   "id": "98851604-884b-4735-a8e5-75dc9d595476",
   "metadata": {},
   "outputs": [],
   "source": [
    "results = dfs[dfs[\"phenotype\"] == \"random.pheno6\"]  # .sample(n=100)"
   ]
  },
  {
   "cell_type": "code",
   "execution_count": 26,
   "id": "6e17aacc-dbe4-47ae-bd58-473eaf2748bc",
   "metadata": {},
   "outputs": [
    {
     "data": {
      "text/plain": [
       "(987, 4)"
      ]
     },
     "execution_count": 26,
     "metadata": {},
     "output_type": "execute_result"
    }
   ],
   "source": [
    "results.shape"
   ]
  },
  {
   "cell_type": "code",
   "execution_count": 27,
   "id": "253733b9-0b2a-44d0-84c0-aaacaaffabd7",
   "metadata": {},
   "outputs": [
    {
     "data": {
      "text/html": [
       "<div>\n",
       "<style scoped>\n",
       "    .dataframe tbody tr th:only-of-type {\n",
       "        vertical-align: middle;\n",
       "    }\n",
       "\n",
       "    .dataframe tbody tr th {\n",
       "        vertical-align: top;\n",
       "    }\n",
       "\n",
       "    .dataframe thead th {\n",
       "        text-align: right;\n",
       "    }\n",
       "</style>\n",
       "<table border=\"1\" class=\"dataframe\">\n",
       "  <thead>\n",
       "    <tr style=\"text-align: right;\">\n",
       "      <th></th>\n",
       "      <th>lv</th>\n",
       "      <th>coef</th>\n",
       "      <th>pvalue</th>\n",
       "      <th>phenotype</th>\n",
       "    </tr>\n",
       "  </thead>\n",
       "  <tbody>\n",
       "    <tr>\n",
       "      <th>44415</th>\n",
       "      <td>LV1</td>\n",
       "      <td>-0.021236</td>\n",
       "      <td>0.958203</td>\n",
       "      <td>random.pheno6</td>\n",
       "    </tr>\n",
       "    <tr>\n",
       "      <th>44416</th>\n",
       "      <td>LV10</td>\n",
       "      <td>-0.013010</td>\n",
       "      <td>0.853159</td>\n",
       "      <td>random.pheno6</td>\n",
       "    </tr>\n",
       "    <tr>\n",
       "      <th>44417</th>\n",
       "      <td>LV100</td>\n",
       "      <td>0.011044</td>\n",
       "      <td>0.179302</td>\n",
       "      <td>random.pheno6</td>\n",
       "    </tr>\n",
       "    <tr>\n",
       "      <th>44418</th>\n",
       "      <td>LV101</td>\n",
       "      <td>0.011410</td>\n",
       "      <td>0.175325</td>\n",
       "      <td>random.pheno6</td>\n",
       "    </tr>\n",
       "    <tr>\n",
       "      <th>44419</th>\n",
       "      <td>LV102</td>\n",
       "      <td>-0.005985</td>\n",
       "      <td>0.682449</td>\n",
       "      <td>random.pheno6</td>\n",
       "    </tr>\n",
       "  </tbody>\n",
       "</table>\n",
       "</div>"
      ],
      "text/plain": [
       "          lv      coef    pvalue      phenotype\n",
       "44415    LV1 -0.021236  0.958203  random.pheno6\n",
       "44416   LV10 -0.013010  0.853159  random.pheno6\n",
       "44417  LV100  0.011044  0.179302  random.pheno6\n",
       "44418  LV101  0.011410  0.175325  random.pheno6\n",
       "44419  LV102 -0.005985  0.682449  random.pheno6"
      ]
     },
     "execution_count": 27,
     "metadata": {},
     "output_type": "execute_result"
    }
   ],
   "source": [
    "results.head()"
   ]
  },
  {
   "cell_type": "markdown",
   "id": "eb069e48",
   "metadata": {},
   "source": [
    "## Proportion pvalue < 0.05"
   ]
  },
  {
   "cell_type": "code",
   "execution_count": 28,
   "id": "8c43b455",
   "metadata": {},
   "outputs": [
    {
     "data": {
      "text/plain": [
       "0.02330293819655522"
      ]
     },
     "execution_count": 28,
     "metadata": {},
     "output_type": "execute_result"
    }
   ],
   "source": [
    "show_prop(results, 0.01)"
   ]
  },
  {
   "cell_type": "code",
   "execution_count": 29,
   "id": "9067a4b8",
   "metadata": {},
   "outputs": [
    {
     "data": {
      "text/plain": [
       "0.0800405268490375"
      ]
     },
     "execution_count": 29,
     "metadata": {},
     "output_type": "execute_result"
    }
   ],
   "source": [
    "show_prop(results, 0.05)"
   ]
  },
  {
   "cell_type": "code",
   "execution_count": 30,
   "id": "d9f016fc",
   "metadata": {},
   "outputs": [
    {
     "data": {
      "text/plain": [
       "0.13779128672745694"
      ]
     },
     "execution_count": 30,
     "metadata": {},
     "output_type": "execute_result"
    }
   ],
   "source": [
    "show_prop(results, 0.10)"
   ]
  },
  {
   "cell_type": "code",
   "execution_count": 31,
   "id": "e9ac0311",
   "metadata": {},
   "outputs": [
    {
     "data": {
      "text/plain": [
       "0.182370820668693"
      ]
     },
     "execution_count": 31,
     "metadata": {},
     "output_type": "execute_result"
    }
   ],
   "source": [
    "show_prop(results, 0.15)"
   ]
  },
  {
   "cell_type": "code",
   "execution_count": 32,
   "id": "8cb9a368",
   "metadata": {},
   "outputs": [
    {
     "data": {
      "text/plain": [
       "0.23100303951367782"
      ]
     },
     "execution_count": 32,
     "metadata": {},
     "output_type": "execute_result"
    }
   ],
   "source": [
    "show_prop(results, 0.20)"
   ]
  },
  {
   "cell_type": "markdown",
   "id": "52a1c12a",
   "metadata": {},
   "source": [
    "## Plot"
   ]
  },
  {
   "cell_type": "code",
   "execution_count": 33,
   "id": "6d576fe4",
   "metadata": {
    "papermill": {
     "duration": 0.016445,
     "end_time": "2022-02-24T05:32:04.933024",
     "exception": false,
     "start_time": "2022-02-24T05:32:04.916579",
     "status": "completed"
    },
    "tags": []
   },
   "outputs": [],
   "source": [
    "data = results[\"pvalue\"].to_numpy()\n",
    "n = data.shape[0]\n",
    "uniform_data = np.array([i / (n + 1) for i in range(1, n + 1)])"
   ]
  },
  {
   "cell_type": "code",
   "execution_count": 34,
   "id": "e6662b13",
   "metadata": {
    "papermill": {
     "duration": 0.018047,
     "end_time": "2022-02-24T05:32:04.962092",
     "exception": false,
     "start_time": "2022-02-24T05:32:04.944045",
     "status": "completed"
    },
    "tags": []
   },
   "outputs": [
    {
     "data": {
      "text/plain": [
       "array([0.95820286, 0.85315886, 0.17930217, 0.17532543, 0.68244878])"
      ]
     },
     "metadata": {},
     "output_type": "display_data"
    },
    {
     "data": {
      "text/plain": [
       "array([0.00101215, 0.00202429, 0.00303644, 0.00404858, 0.00506073])"
      ]
     },
     "metadata": {},
     "output_type": "display_data"
    }
   ],
   "source": [
    "display(data[:5])\n",
    "display(uniform_data[:5])"
   ]
  },
  {
   "cell_type": "code",
   "execution_count": 35,
   "id": "3348179d",
   "metadata": {
    "papermill": {
     "duration": 0.142909,
     "end_time": "2022-02-24T05:32:05.117221",
     "exception": false,
     "start_time": "2022-02-24T05:32:04.974312",
     "status": "completed"
    },
    "tags": []
   },
   "outputs": [
    {
     "data": {
      "image/png": "[encoded data removed]",
      "text/plain": [
       "<Figure size 576x576 with 1 Axes>"
      ]
     },
     "metadata": {
      "needs_background": "light"
     },
     "output_type": "display_data"
    }
   ],
   "source": [
    "observed_data = -np.log10(data)\n",
    "expected_data = -np.log10(uniform_data)\n",
    "\n",
    "with sns.plotting_context(\"paper\", font_scale=1.8), mpl.rc_context(\n",
    "    {\"lines.markersize\": 3}\n",
    "):\n",
    "    fig, ax = plt.subplots(figsize=(8, 8))\n",
    "\n",
    "    fig = qqplot_2samples(expected_data, observed_data, line=\"45\", ax=ax)\n",
    "\n",
    "    ax.set_xlim(expected_data.min() - 0.05, expected_data.max() + 0.05)\n",
    "\n",
    "    ax.set_xlabel(\"$-\\log_{10}$(expected pvalue)\")\n",
    "    ax.set_ylabel(\"$-\\log_{10}$(observed pvalue)\")\n",
    "    ax.set_title(\"QQ-Plot - Null with MASHR models\")"
   ]
  },
  {
   "cell_type": "code",
   "execution_count": null,
   "id": "e5935185",
   "metadata": {},
   "outputs": [],
   "source": []
  }
 ],
 "metadata": {
  "jupytext": {
   "cell_metadata_filter": "all,-execution,-papermill,-trusted",
   "formats": "ipynb,py//py:percent"
  },
  "kernelspec": {
   "display_name": "Python 3 (ipykernel)",
   "language": "python",
   "name": "python3"
  },
  "language_info": {
   "codemirror_mode": {
    "name": "ipython",
    "version": 3
   },
   "file_extension": ".py",
   "mimetype": "text/x-python",
   "name": "python",
   "nbconvert_exporter": "python",
   "pygments_lexer": "ipython3",
   "version": "3.8.13"
  },
  "papermill": {
   "default_parameters": {},
   "duration": 2.899223,
   "end_time": "2022-02-24T05:32:05.472242",
   "environment_variables": {},
   "exception": null,
   "input_path": "nbs/15_gsa_gls/26-gls-null_simulations-plots.ipynb",
   "output_path": "nbs/15_gsa_gls/26-gls-null_simulations-plots.run.ipynb",
   "parameters": {},
   "start_time": "2022-02-24T05:32:02.573019",
   "version": "2.2.2"
  }
 },
 "nbformat": 4,
 "nbformat_minor": 5
}
