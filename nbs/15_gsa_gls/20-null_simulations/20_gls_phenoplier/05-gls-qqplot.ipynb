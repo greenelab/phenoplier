{
 "cells": [
  {
   "cell_type": "markdown",
   "id": "8943b47b-26b2-4677-b69a-4a82a0913569",
   "metadata": {
    "papermill": {
     "duration": 0.008993,
     "end_time": "2022-05-06T18:06:54.375945",
     "exception": false,
     "start_time": "2022-05-06T18:06:54.366952",
     "status": "completed"
    },
    "tags": []
   },
   "source": [
    "# Description"
   ]
  },
  {
   "cell_type": "markdown",
   "id": "4a526bcc-e43b-49c2-99d8-afdf01fdf044",
   "metadata": {
    "papermill": {
     "duration": 0.006337,
     "end_time": "2022-05-06T18:06:54.387604",
     "exception": false,
     "start_time": "2022-05-06T18:06:54.381267",
     "status": "completed"
    },
    "tags": []
   },
   "source": [
    "It takes GLSPhenoplier results on a random phenotype and verifies that the QQ-plots look fine (without inflation)."
   ]
  },
  {
   "cell_type": "markdown",
   "id": "c91719ea-48d3-477d-a3a3-863b2650c1dc",
   "metadata": {
    "papermill": {
     "duration": 0.00628,
     "end_time": "2022-05-06T18:06:54.400083",
     "exception": false,
     "start_time": "2022-05-06T18:06:54.393803",
     "status": "completed"
    },
    "tags": []
   },
   "source": [
    "# Modules"
   ]
  },
  {
   "cell_type": "code",
   "execution_count": 1,
   "id": "9f0ffe4b-c8ce-4277-8cc4-5c949130e273",
   "metadata": {
    "papermill": {
     "duration": 0.806813,
     "end_time": "2022-05-06T18:06:55.212983",
     "exception": false,
     "start_time": "2022-05-06T18:06:54.406170",
     "status": "completed"
    },
    "tags": []
   },
   "outputs": [
    {
     "name": "stderr",
     "output_type": "stream",
     "text": [
      "── \u001b[1mAttaching packages\u001b[22m ─────────────────────────────────────── tidyverse 1.3.1 ──\n",
      "\n",
      "\u001b[32m✔\u001b[39m \u001b[34mggplot2\u001b[39m 3.3.6     \u001b[32m✔\u001b[39m \u001b[34mpurrr  \u001b[39m 0.3.4\n",
      "\u001b[32m✔\u001b[39m \u001b[34mtibble \u001b[39m 3.1.7     \u001b[32m✔\u001b[39m \u001b[34mdplyr  \u001b[39m 1.0.9\n",
      "\u001b[32m✔\u001b[39m \u001b[34mtidyr  \u001b[39m 1.2.0     \u001b[32m✔\u001b[39m \u001b[34mstringr\u001b[39m 1.4.0\n",
      "\u001b[32m✔\u001b[39m \u001b[34mreadr  \u001b[39m 2.1.2     \u001b[32m✔\u001b[39m \u001b[34mforcats\u001b[39m 0.5.1\n",
      "\n",
      "── \u001b[1mConflicts\u001b[22m ────────────────────────────────────────── tidyverse_conflicts() ──\n",
      "\u001b[31m✖\u001b[39m \u001b[34mdplyr\u001b[39m::\u001b[32mfilter()\u001b[39m masks \u001b[34mstats\u001b[39m::filter()\n",
      "\u001b[31m✖\u001b[39m \u001b[34mdplyr\u001b[39m::\u001b[32mlag()\u001b[39m    masks \u001b[34mstats\u001b[39m::lag()\n",
      "\n"
     ]
    }
   ],
   "source": [
    "library(tidyverse)"
   ]
  },
  {
   "cell_type": "code",
   "execution_count": 2,
   "id": "820c8290-25d5-446b-9f33-7e13e962bb7d",
   "metadata": {
    "papermill": {
     "duration": 0.097507,
     "end_time": "2022-05-06T18:06:55.317225",
     "exception": false,
     "start_time": "2022-05-06T18:06:55.219718",
     "status": "completed"
    },
    "tags": []
   },
   "outputs": [
    {
     "name": "stderr",
     "output_type": "stream",
     "text": [
      "\n",
      "\n",
      "For example usage please run: vignette('qqman')\n",
      "\n",
      "\n",
      "\n",
      "Citation appreciated but not required:\n",
      "\n",
      "Turner, (2018). qqman: an R package for visualizing GWAS results using Q-Q and manhattan plots. Journal of Open Source Software, 3(25), 731, https://doi.org/10.21105/joss.00731.\n",
      "\n",
      "\n",
      "\n"
     ]
    }
   ],
   "source": [
    "library(qqman)"
   ]
  },
  {
   "cell_type": "markdown",
   "id": "bc9c7d76-6758-4189-bbc8-a36d1dcc967d",
   "metadata": {
    "papermill": {
     "duration": 0.006608,
     "end_time": "2022-05-06T18:06:55.330850",
     "exception": false,
     "start_time": "2022-05-06T18:06:55.324242",
     "status": "completed"
    },
    "tags": []
   },
   "source": [
    "# Paths"
   ]
  },
  {
   "cell_type": "code",
   "execution_count": 3,
   "id": "27efc190-a0f0-4334-9573-45fbd4fc387c",
   "metadata": {
    "papermill": {
     "duration": 0.021956,
     "end_time": "2022-05-06T18:06:55.359373",
     "exception": false,
     "start_time": "2022-05-06T18:06:55.337417",
     "status": "completed"
    },
    "tags": []
   },
   "outputs": [],
   "source": [
    "GLS_NULL_SIMS_DIR <- Sys.getenv(\"PHENOPLIER_RESULTS_GLS_NULL_SIMS\")"
   ]
  },
  {
   "cell_type": "code",
   "execution_count": 4,
   "id": "ba2ad481-2574-4a3d-9582-9e6b65215f71",
   "metadata": {
    "papermill": {
     "duration": 0.022502,
     "end_time": "2022-05-06T18:06:55.390018",
     "exception": false,
     "start_time": "2022-05-06T18:06:55.367516",
     "status": "completed"
    },
    "tags": []
   },
   "outputs": [
    {
     "data": {
      "text/html": [
       "'/opt/data/results/gls/null_sims'"
      ],
      "text/latex": [
       "'/opt/data/results/gls/null\\_sims'"
      ],
      "text/markdown": [
       "'/opt/data/results/gls/null_sims'"
      ],
      "text/plain": [
       "[1] \"/opt/data/results/gls/null_sims\""
      ]
     },
     "metadata": {},
     "output_type": "display_data"
    }
   ],
   "source": [
    "GLS_NULL_SIMS_DIR"
   ]
  },
  {
   "cell_type": "code",
   "execution_count": 7,
   "id": "c0a7faf5-d213-4af7-a7f7-668fd6e999b5",
   "metadata": {
    "papermill": {
     "duration": 0.020172,
     "end_time": "2022-05-06T18:06:55.417571",
     "exception": false,
     "start_time": "2022-05-06T18:06:55.397399",
     "status": "completed"
    },
    "tags": []
   },
   "outputs": [],
   "source": [
    "# PHENOPLIER_GLS_DIR <- file.path(GLS_NULL_SIMS_DIR, \"phenoplier\", \"gls-1000g-mashr-mean_gene_expr\")\n",
    "PHENOPLIER_GLS_DIR <- file.path(GLS_NULL_SIMS_DIR, \"phenoplier\", \"gls-gtex-mashr-mean_gene_expr\")"
   ]
  },
  {
   "cell_type": "code",
   "execution_count": 8,
   "id": "846c98c3-ea79-444d-99f5-351bf12f1d06",
   "metadata": {
    "papermill": {
     "duration": 0.024536,
     "end_time": "2022-05-06T18:06:55.449262",
     "exception": false,
     "start_time": "2022-05-06T18:06:55.424726",
     "status": "completed"
    },
    "tags": []
   },
   "outputs": [
    {
     "data": {
      "text/html": [
       "'/opt/data/results/gls/null_sims/phenoplier/gls-gtex-mashr-mean_gene_expr'"
      ],
      "text/latex": [
       "'/opt/data/results/gls/null\\_sims/phenoplier/gls-gtex-mashr-mean\\_gene\\_expr'"
      ],
      "text/markdown": [
       "'/opt/data/results/gls/null_sims/phenoplier/gls-gtex-mashr-mean_gene_expr'"
      ],
      "text/plain": [
       "[1] \"/opt/data/results/gls/null_sims/phenoplier/gls-gtex-mashr-mean_gene_expr\""
      ]
     },
     "metadata": {},
     "output_type": "display_data"
    }
   ],
   "source": [
    "PHENOPLIER_GLS_DIR"
   ]
  },
  {
   "cell_type": "markdown",
   "id": "88659713-9a94-48fb-8381-dcd0c44e9a79",
   "metadata": {
    "papermill": {
     "duration": 0.006266,
     "end_time": "2022-05-06T18:06:55.514583",
     "exception": false,
     "start_time": "2022-05-06T18:06:55.508317",
     "status": "completed"
    },
    "tags": []
   },
   "source": [
    "# Random pheno 1"
   ]
  },
  {
   "cell_type": "markdown",
   "id": "563088b8-c07d-4494-8c41-4f2c909f4d81",
   "metadata": {
    "papermill": {
     "duration": 0.006266,
     "end_time": "2022-05-06T18:06:55.514583",
     "exception": false,
     "start_time": "2022-05-06T18:06:55.508317",
     "status": "completed"
    },
    "tags": []
   },
   "source": [
    "Random phenotype 1 has inflation factor of 1"
   ]
  },
  {
   "cell_type": "markdown",
   "id": "63524bcb-d873-4670-9cae-caf3545f5309",
   "metadata": {
    "papermill": {
     "duration": 0.005611,
     "end_time": "2022-05-06T18:06:55.538994",
     "exception": false,
     "start_time": "2022-05-06T18:06:55.533383",
     "status": "completed"
    },
    "tags": []
   },
   "source": [
    "## Load data"
   ]
  },
  {
   "cell_type": "code",
   "execution_count": 10,
   "id": "3beed1d1-5f4d-4588-b9f1-95c99e4b991a",
   "metadata": {
    "papermill": {
     "duration": 0.323839,
     "end_time": "2022-05-06T18:06:55.868928",
     "exception": false,
     "start_time": "2022-05-06T18:06:55.545089",
     "status": "completed"
    },
    "tags": []
   },
   "outputs": [
    {
     "name": "stderr",
     "output_type": "stream",
     "text": [
      "\u001b[1mRows: \u001b[22m\u001b[34m987\u001b[39m \u001b[1mColumns: \u001b[22m\u001b[34m3\u001b[39m\n",
      "\u001b[36m──\u001b[39m \u001b[1mColumn specification\u001b[22m \u001b[36m────────────────────────────────────────────────────────\u001b[39m\n",
      "\u001b[1mDelimiter:\u001b[22m \"\\t\"\n",
      "\u001b[31mchr\u001b[39m (1): lv\n",
      "\u001b[32mdbl\u001b[39m (2): coef, pvalue\n",
      "\n",
      "\u001b[36mℹ\u001b[39m Use `spec()` to retrieve the full column specification for this data.\n",
      "\u001b[36mℹ\u001b[39m Specify the column types or set `show_col_types = FALSE` to quiet this message.\n"
     ]
    }
   ],
   "source": [
    "glsph <- as.data.frame(read_tsv(file.path(PHENOPLIER_GLS_DIR, \"random.pheno1-combined-gls_phenoplier.tsv.gz\")))"
   ]
  },
  {
   "cell_type": "code",
   "execution_count": 11,
   "id": "66ec44f1-b2b0-4c7e-8aad-81aaa6612b71",
   "metadata": {
    "papermill": {
     "duration": 0.022427,
     "end_time": "2022-05-06T18:06:55.898647",
     "exception": false,
     "start_time": "2022-05-06T18:06:55.876220",
     "status": "completed"
    },
    "tags": []
   },
   "outputs": [
    {
     "data": {
      "text/html": [
       "<style>\n",
       ".list-inline {list-style: none; margin:0; padding: 0}\n",
       ".list-inline>li {display: inline-block}\n",
       ".list-inline>li:not(:last-child)::after {content: \"\\00b7\"; padding: 0 .5ex}\n",
       "</style>\n",
       "<ol class=list-inline><li>987</li><li>3</li></ol>\n"
      ],
      "text/latex": [
       "\\begin{enumerate*}\n",
       "\\item 987\n",
       "\\item 3\n",
       "\\end{enumerate*}\n"
      ],
      "text/markdown": [
       "1. 987\n",
       "2. 3\n",
       "\n",
       "\n"
      ],
      "text/plain": [
       "[1] 987   3"
      ]
     },
     "metadata": {},
     "output_type": "display_data"
    }
   ],
   "source": [
    "dim(glsph)"
   ]
  },
  {
   "cell_type": "code",
   "execution_count": 12,
   "id": "d92e3b57-390f-4a55-bfc4-c3bf08ff1af0",
   "metadata": {
    "papermill": {
     "duration": 0.033488,
     "end_time": "2022-05-06T18:06:55.939138",
     "exception": false,
     "start_time": "2022-05-06T18:06:55.905650",
     "status": "completed"
    },
    "tags": []
   },
   "outputs": [
    {
     "data": {
      "text/html": [
       "<table class=\"dataframe\">\n",
       "<caption>A data.frame: 6 × 3</caption>\n",
       "<thead>\n",
       "\t<tr><th></th><th scope=col>lv</th><th scope=col>coef</th><th scope=col>pvalue</th></tr>\n",
       "\t<tr><th></th><th scope=col>&lt;chr&gt;</th><th scope=col>&lt;dbl&gt;</th><th scope=col>&lt;dbl&gt;</th></tr>\n",
       "</thead>\n",
       "<tbody>\n",
       "\t<tr><th scope=row>1</th><td>LV1  </td><td> 0.0089210785</td><td>0.23477675</td></tr>\n",
       "\t<tr><th scope=row>2</th><td>LV10 </td><td> 0.0233421023</td><td>0.03040317</td></tr>\n",
       "\t<tr><th scope=row>3</th><td>LV100</td><td> 0.0052834016</td><td>0.33104711</td></tr>\n",
       "\t<tr><th scope=row>4</th><td>LV101</td><td>-0.0129167825</td><td>0.85346002</td></tr>\n",
       "\t<tr><th scope=row>5</th><td>LV102</td><td>-0.0004173415</td><td>0.51313509</td></tr>\n",
       "\t<tr><th scope=row>6</th><td>LV103</td><td>-0.0100957739</td><td>0.78688943</td></tr>\n",
       "</tbody>\n",
       "</table>\n"
      ],
      "text/latex": [
       "A data.frame: 6 × 3\n",
       "\\begin{tabular}{r|lll}\n",
       "  & lv & coef & pvalue\\\\\n",
       "  & <chr> & <dbl> & <dbl>\\\\\n",
       "\\hline\n",
       "\t1 & LV1   &  0.0089210785 & 0.23477675\\\\\n",
       "\t2 & LV10  &  0.0233421023 & 0.03040317\\\\\n",
       "\t3 & LV100 &  0.0052834016 & 0.33104711\\\\\n",
       "\t4 & LV101 & -0.0129167825 & 0.85346002\\\\\n",
       "\t5 & LV102 & -0.0004173415 & 0.51313509\\\\\n",
       "\t6 & LV103 & -0.0100957739 & 0.78688943\\\\\n",
       "\\end{tabular}\n"
      ],
      "text/markdown": [
       "\n",
       "A data.frame: 6 × 3\n",
       "\n",
       "| <!--/--> | lv &lt;chr&gt; | coef &lt;dbl&gt; | pvalue &lt;dbl&gt; |\n",
       "|---|---|---|---|\n",
       "| 1 | LV1   |  0.0089210785 | 0.23477675 |\n",
       "| 2 | LV10  |  0.0233421023 | 0.03040317 |\n",
       "| 3 | LV100 |  0.0052834016 | 0.33104711 |\n",
       "| 4 | LV101 | -0.0129167825 | 0.85346002 |\n",
       "| 5 | LV102 | -0.0004173415 | 0.51313509 |\n",
       "| 6 | LV103 | -0.0100957739 | 0.78688943 |\n",
       "\n"
      ],
      "text/plain": [
       "  lv    coef          pvalue    \n",
       "1 LV1    0.0089210785 0.23477675\n",
       "2 LV10   0.0233421023 0.03040317\n",
       "3 LV100  0.0052834016 0.33104711\n",
       "4 LV101 -0.0129167825 0.85346002\n",
       "5 LV102 -0.0004173415 0.51313509\n",
       "6 LV103 -0.0100957739 0.78688943"
      ]
     },
     "metadata": {},
     "output_type": "display_data"
    }
   ],
   "source": [
    "head(glsph)"
   ]
  },
  {
   "cell_type": "code",
   "execution_count": 13,
   "id": "292dec5f-9820-4b4c-976c-226dae7c45c3",
   "metadata": {
    "papermill": {
     "duration": 0.033488,
     "end_time": "2022-05-06T18:06:55.939138",
     "exception": false,
     "start_time": "2022-05-06T18:06:55.905650",
     "status": "completed"
    },
    "tags": []
   },
   "outputs": [
    {
     "data": {
      "text/html": [
       "'[65 x 3]'"
      ],
      "text/latex": [
       "'{[}65 x 3{]}'"
      ],
      "text/markdown": [
       "'[65 x 3]'"
      ],
      "text/plain": [
       "[1] \"[65 x 3]\""
      ]
     },
     "metadata": {},
     "output_type": "display_data"
    }
   ],
   "source": [
    "glsph %>%\n",
    "  filter(pvalue <= 0.05) %>%\n",
    "  dim_desc()"
   ]
  },
  {
   "cell_type": "markdown",
   "id": "3e576b71-c4a9-4dbb-a46d-375957ab6e6f",
   "metadata": {
    "papermill": {
     "duration": 0.006466,
     "end_time": "2022-05-06T18:06:55.952432",
     "exception": false,
     "start_time": "2022-05-06T18:06:55.945966",
     "status": "completed"
    },
    "tags": []
   },
   "source": [
    "## QQ-plot"
   ]
  },
  {
   "cell_type": "code",
   "execution_count": 14,
   "id": "aeef8821-518f-40c0-b486-b0c16490220a",
   "metadata": {
    "papermill": {
     "duration": 0.410911,
     "end_time": "2022-05-06T18:06:56.370000",
     "exception": false,
     "start_time": "2022-05-06T18:06:55.959089",
     "status": "completed"
    },
    "tags": []
   },
   "outputs": [
    {
     "data": {
      "image/png": "[encoded data removed]",
      "text/plain": [
       "Plot with title “Q-Q plot of GLS PhenoPLIER p-values”"
      ]
     },
     "metadata": {
      "image/png": {
       "height": 600,
       "width": 600
      }
     },
     "output_type": "display_data"
    }
   ],
   "source": [
    "options(repr.plot.width = 10, repr.plot.height = 10)\n",
    "\n",
    "qq(glsph$pvalue, main = \"Q-Q plot of GLS PhenoPLIER p-values\")"
   ]
  },
  {
   "cell_type": "markdown",
   "id": "5868d46a-c323-4e96-a699-79c2e09026c0",
   "metadata": {
    "papermill": {
     "duration": 0.008384,
     "end_time": "2022-05-06T18:06:57.294956",
     "exception": false,
     "start_time": "2022-05-06T18:06:57.286572",
     "status": "completed"
    },
    "tags": []
   },
   "source": [
    "# Random pheno 28"
   ]
  },
  {
   "cell_type": "markdown",
   "id": "686475c0-4087-4508-aecc-f89beca6de84",
   "metadata": {
    "papermill": {
     "duration": 0.008505,
     "end_time": "2022-05-06T18:06:57.312077",
     "exception": false,
     "start_time": "2022-05-06T18:06:57.303572",
     "status": "completed"
    },
    "tags": []
   },
   "source": [
    "Random phenotype 28 has the largest inflation factor in the original GWAS summary stats (although within the acceptable limits)."
   ]
  },
  {
   "cell_type": "markdown",
   "id": "b523b1a8-41dd-4460-97a4-d568fdd85748",
   "metadata": {
    "papermill": {
     "duration": 0.005611,
     "end_time": "2022-05-06T18:06:55.538994",
     "exception": false,
     "start_time": "2022-05-06T18:06:55.533383",
     "status": "completed"
    },
    "tags": []
   },
   "source": [
    "## Load data"
   ]
  },
  {
   "cell_type": "code",
   "execution_count": 15,
   "id": "50f07e4d-2a11-4c67-86bb-22c284ea5001",
   "metadata": {
    "papermill": {
     "duration": 0.323839,
     "end_time": "2022-05-06T18:06:55.868928",
     "exception": false,
     "start_time": "2022-05-06T18:06:55.545089",
     "status": "completed"
    },
    "tags": []
   },
   "outputs": [
    {
     "name": "stderr",
     "output_type": "stream",
     "text": [
      "\u001b[1mRows: \u001b[22m\u001b[34m987\u001b[39m \u001b[1mColumns: \u001b[22m\u001b[34m3\u001b[39m\n",
      "\u001b[36m──\u001b[39m \u001b[1mColumn specification\u001b[22m \u001b[36m────────────────────────────────────────────────────────\u001b[39m\n",
      "\u001b[1mDelimiter:\u001b[22m \"\\t\"\n",
      "\u001b[31mchr\u001b[39m (1): lv\n",
      "\u001b[32mdbl\u001b[39m (2): coef, pvalue\n",
      "\n",
      "\u001b[36mℹ\u001b[39m Use `spec()` to retrieve the full column specification for this data.\n",
      "\u001b[36mℹ\u001b[39m Specify the column types or set `show_col_types = FALSE` to quiet this message.\n"
     ]
    }
   ],
   "source": [
    "glsph <- as.data.frame(read_tsv(file.path(PHENOPLIER_GLS_DIR, \"random.pheno28-combined-gls_phenoplier.tsv.gz\")))"
   ]
  },
  {
   "cell_type": "code",
   "execution_count": 16,
   "id": "1683eb36-aaf0-45ed-8e88-d244a616bef4",
   "metadata": {
    "papermill": {
     "duration": 0.022427,
     "end_time": "2022-05-06T18:06:55.898647",
     "exception": false,
     "start_time": "2022-05-06T18:06:55.876220",
     "status": "completed"
    },
    "tags": []
   },
   "outputs": [
    {
     "data": {
      "text/html": [
       "<style>\n",
       ".list-inline {list-style: none; margin:0; padding: 0}\n",
       ".list-inline>li {display: inline-block}\n",
       ".list-inline>li:not(:last-child)::after {content: \"\\00b7\"; padding: 0 .5ex}\n",
       "</style>\n",
       "<ol class=list-inline><li>987</li><li>3</li></ol>\n"
      ],
      "text/latex": [
       "\\begin{enumerate*}\n",
       "\\item 987\n",
       "\\item 3\n",
       "\\end{enumerate*}\n"
      ],
      "text/markdown": [
       "1. 987\n",
       "2. 3\n",
       "\n",
       "\n"
      ],
      "text/plain": [
       "[1] 987   3"
      ]
     },
     "metadata": {},
     "output_type": "display_data"
    }
   ],
   "source": [
    "dim(glsph)"
   ]
  },
  {
   "cell_type": "code",
   "execution_count": 17,
   "id": "1bd50866-7ab5-4183-8ede-bcac3f313934",
   "metadata": {
    "papermill": {
     "duration": 0.033488,
     "end_time": "2022-05-06T18:06:55.939138",
     "exception": false,
     "start_time": "2022-05-06T18:06:55.905650",
     "status": "completed"
    },
    "tags": []
   },
   "outputs": [
    {
     "data": {
      "text/html": [
       "<table class=\"dataframe\">\n",
       "<caption>A data.frame: 6 × 3</caption>\n",
       "<thead>\n",
       "\t<tr><th></th><th scope=col>lv</th><th scope=col>coef</th><th scope=col>pvalue</th></tr>\n",
       "\t<tr><th></th><th scope=col>&lt;chr&gt;</th><th scope=col>&lt;dbl&gt;</th><th scope=col>&lt;dbl&gt;</th></tr>\n",
       "</thead>\n",
       "<tbody>\n",
       "\t<tr><th scope=row>1</th><td>LV1  </td><td>-0.002936406</td><td>0.59385757</td></tr>\n",
       "\t<tr><th scope=row>2</th><td>LV10 </td><td> 0.004429651</td><td>0.36132672</td></tr>\n",
       "\t<tr><th scope=row>3</th><td>LV100</td><td>-0.020072637</td><td>0.95119767</td></tr>\n",
       "\t<tr><th scope=row>4</th><td>LV101</td><td> 0.026503528</td><td>0.01567852</td></tr>\n",
       "\t<tr><th scope=row>5</th><td>LV102</td><td>-0.001826357</td><td>0.55715905</td></tr>\n",
       "\t<tr><th scope=row>6</th><td>LV103</td><td>-0.007857683</td><td>0.73165187</td></tr>\n",
       "</tbody>\n",
       "</table>\n"
      ],
      "text/latex": [
       "A data.frame: 6 × 3\n",
       "\\begin{tabular}{r|lll}\n",
       "  & lv & coef & pvalue\\\\\n",
       "  & <chr> & <dbl> & <dbl>\\\\\n",
       "\\hline\n",
       "\t1 & LV1   & -0.002936406 & 0.59385757\\\\\n",
       "\t2 & LV10  &  0.004429651 & 0.36132672\\\\\n",
       "\t3 & LV100 & -0.020072637 & 0.95119767\\\\\n",
       "\t4 & LV101 &  0.026503528 & 0.01567852\\\\\n",
       "\t5 & LV102 & -0.001826357 & 0.55715905\\\\\n",
       "\t6 & LV103 & -0.007857683 & 0.73165187\\\\\n",
       "\\end{tabular}\n"
      ],
      "text/markdown": [
       "\n",
       "A data.frame: 6 × 3\n",
       "\n",
       "| <!--/--> | lv &lt;chr&gt; | coef &lt;dbl&gt; | pvalue &lt;dbl&gt; |\n",
       "|---|---|---|---|\n",
       "| 1 | LV1   | -0.002936406 | 0.59385757 |\n",
       "| 2 | LV10  |  0.004429651 | 0.36132672 |\n",
       "| 3 | LV100 | -0.020072637 | 0.95119767 |\n",
       "| 4 | LV101 |  0.026503528 | 0.01567852 |\n",
       "| 5 | LV102 | -0.001826357 | 0.55715905 |\n",
       "| 6 | LV103 | -0.007857683 | 0.73165187 |\n",
       "\n"
      ],
      "text/plain": [
       "  lv    coef         pvalue    \n",
       "1 LV1   -0.002936406 0.59385757\n",
       "2 LV10   0.004429651 0.36132672\n",
       "3 LV100 -0.020072637 0.95119767\n",
       "4 LV101  0.026503528 0.01567852\n",
       "5 LV102 -0.001826357 0.55715905\n",
       "6 LV103 -0.007857683 0.73165187"
      ]
     },
     "metadata": {},
     "output_type": "display_data"
    }
   ],
   "source": [
    "head(glsph)"
   ]
  },
  {
   "cell_type": "code",
   "execution_count": 18,
   "id": "b53b92d3-42e0-4e85-afca-a753697e127f",
   "metadata": {
    "papermill": {
     "duration": 0.033488,
     "end_time": "2022-05-06T18:06:55.939138",
     "exception": false,
     "start_time": "2022-05-06T18:06:55.905650",
     "status": "completed"
    },
    "tags": []
   },
   "outputs": [
    {
     "data": {
      "text/html": [
       "'[71 x 3]'"
      ],
      "text/latex": [
       "'{[}71 x 3{]}'"
      ],
      "text/markdown": [
       "'[71 x 3]'"
      ],
      "text/plain": [
       "[1] \"[71 x 3]\""
      ]
     },
     "metadata": {},
     "output_type": "display_data"
    }
   ],
   "source": [
    "glsph %>%\n",
    "  filter(pvalue <= 0.05) %>%\n",
    "  dim_desc()"
   ]
  },
  {
   "cell_type": "markdown",
   "id": "a9914351-74f4-48e1-aa73-7ea32b0e9056",
   "metadata": {
    "papermill": {
     "duration": 0.006466,
     "end_time": "2022-05-06T18:06:55.952432",
     "exception": false,
     "start_time": "2022-05-06T18:06:55.945966",
     "status": "completed"
    },
    "tags": []
   },
   "source": [
    "## QQ-plot"
   ]
  },
  {
   "cell_type": "code",
   "execution_count": 19,
   "id": "92e81fbb-57aa-4896-90aa-c317a2721bc3",
   "metadata": {
    "papermill": {
     "duration": 0.410911,
     "end_time": "2022-05-06T18:06:56.370000",
     "exception": false,
     "start_time": "2022-05-06T18:06:55.959089",
     "status": "completed"
    },
    "tags": []
   },
   "outputs": [
    {
     "data": {
      "image/png": "[encoded data removed]",
      "text/plain": [
       "Plot with title “Q-Q plot of GLS PhenoPLIER p-values”"
      ]
     },
     "metadata": {
      "image/png": {
       "height": 600,
       "width": 600
      }
     },
     "output_type": "display_data"
    }
   ],
   "source": [
    "options(repr.plot.width = 10, repr.plot.height = 10)\n",
    "\n",
    "qq(glsph$pvalue, main = \"Q-Q plot of GLS PhenoPLIER p-values\")"
   ]
  },
  {
   "cell_type": "code",
   "execution_count": null,
   "id": "8dd5b850-f19c-43a3-a4be-4c11fd047f68",
   "metadata": {
    "papermill": {
     "duration": 0.011125,
     "end_time": "2022-05-06T18:06:58.908403",
     "exception": false,
     "start_time": "2022-05-06T18:06:58.897278",
     "status": "completed"
    },
    "tags": []
   },
   "outputs": [],
   "source": []
  }
 ],
 "metadata": {
  "jupytext": {
   "cell_metadata_filter": "all,-execution,-papermill,-trusted"
  },
  "kernelspec": {
   "display_name": "R",
   "language": "R",
   "name": "ir"
  },
  "language_info": {
   "codemirror_mode": "r",
   "file_extension": ".r",
   "mimetype": "text/x-r-source",
   "name": "R",
   "pygments_lexer": "r",
   "version": "3.6.3"
  },
  "papermill": {
   "default_parameters": {},
   "duration": 5.988468,
   "end_time": "2022-05-06T18:06:59.039850",
   "environment_variables": {},
   "exception": null,
   "input_path": "nbs/15_gsa_gls/20-null_simulations/15_spredixcan/15-twas-qqplot.ipynb",
   "output_path": "nbs/15_gsa_gls/20-null_simulations/15_spredixcan/15-twas-qqplot.run.ipynb",
   "parameters": {},
   "start_time": "2022-05-06T18:06:53.051382",
   "version": "2.3.4"
  },
  "toc-autonumbering": true
 },
 "nbformat": 4,
 "nbformat_minor": 5
}
