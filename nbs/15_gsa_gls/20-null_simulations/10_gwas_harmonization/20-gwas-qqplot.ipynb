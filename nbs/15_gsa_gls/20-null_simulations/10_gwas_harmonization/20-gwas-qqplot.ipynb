{
 "cells": [
  {
   "cell_type": "markdown",
   "id": "8943b47b-26b2-4677-b69a-4a82a0913569",
   "metadata": {
    "papermill": {
     "duration": 0.025847,
     "end_time": "2022-05-05T19:38:04.556438",
     "exception": false,
     "start_time": "2022-05-05T19:38:04.530591",
     "status": "completed"
    },
    "tags": []
   },
   "source": [
    "# Description"
   ]
  },
  {
   "cell_type": "markdown",
   "id": "4a526bcc-e43b-49c2-99d8-afdf01fdf044",
   "metadata": {
    "papermill": {
     "duration": 0.007964,
     "end_time": "2022-05-05T19:38:04.578836",
     "exception": false,
     "start_time": "2022-05-05T19:38:04.570872",
     "status": "completed"
    },
    "tags": []
   },
   "source": [
    "It takes a GWAS that was imputed and postprocessed (using the PrediXcan scripts here https://github.com/hakyimlab/summary-gwas-imputation) on a random phenotype and verifies that the Manhattan and QQ-plots look fine (without inflation)."
   ]
  },
  {
   "cell_type": "markdown",
   "id": "c91719ea-48d3-477d-a3a3-863b2650c1dc",
   "metadata": {
    "papermill": {
     "duration": 0.005275,
     "end_time": "2022-05-05T19:38:04.590405",
     "exception": false,
     "start_time": "2022-05-05T19:38:04.585130",
     "status": "completed"
    },
    "tags": []
   },
   "source": [
    "# Modules"
   ]
  },
  {
   "cell_type": "code",
   "execution_count": null,
   "id": "9f0ffe4b-c8ce-4277-8cc4-5c949130e273",
   "metadata": {
    "papermill": {
     "duration": 0.885747,
     "end_time": "2022-05-05T19:38:05.481101",
     "exception": false,
     "start_time": "2022-05-05T19:38:04.595354",
     "status": "completed"
    },
    "tags": []
   },
   "outputs": [],
   "source": [
    "library(tidyverse)"
   ]
  },
  {
   "cell_type": "code",
   "execution_count": null,
   "id": "820c8290-25d5-446b-9f33-7e13e962bb7d",
   "metadata": {
    "papermill": {
     "duration": 0.102585,
     "end_time": "2022-05-05T19:38:05.590426",
     "exception": false,
     "start_time": "2022-05-05T19:38:05.487841",
     "status": "completed"
    },
    "tags": []
   },
   "outputs": [],
   "source": [
    "library(qqman)"
   ]
  },
  {
   "cell_type": "markdown",
   "id": "bc9c7d76-6758-4189-bbc8-a36d1dcc967d",
   "metadata": {
    "papermill": {
     "duration": 0.006416,
     "end_time": "2022-05-05T19:38:05.603600",
     "exception": false,
     "start_time": "2022-05-05T19:38:05.597184",
     "status": "completed"
    },
    "tags": []
   },
   "source": [
    "# Paths"
   ]
  },
  {
   "cell_type": "code",
   "execution_count": null,
   "id": "27efc190-a0f0-4334-9573-45fbd4fc387c",
   "metadata": {
    "papermill": {
     "duration": 0.021413,
     "end_time": "2022-05-05T19:38:05.631370",
     "exception": false,
     "start_time": "2022-05-05T19:38:05.609957",
     "status": "completed"
    },
    "tags": []
   },
   "outputs": [],
   "source": [
    "GLS_NULL_SIMS_DIR <- Sys.getenv(\"PHENOPLIER_RESULTS_GLS_NULL_SIMS\")"
   ]
  },
  {
   "cell_type": "code",
   "execution_count": null,
   "id": "ba2ad481-2574-4a3d-9582-9e6b65215f71",
   "metadata": {
    "papermill": {
     "duration": 0.021984,
     "end_time": "2022-05-05T19:38:05.660133",
     "exception": false,
     "start_time": "2022-05-05T19:38:05.638149",
     "status": "completed"
    },
    "tags": []
   },
   "outputs": [],
   "source": [
    "GLS_NULL_SIMS_DIR"
   ]
  },
  {
   "cell_type": "code",
   "execution_count": null,
   "id": "c0a7faf5-d213-4af7-a7f7-668fd6e999b5",
   "metadata": {
    "papermill": {
     "duration": 0.017297,
     "end_time": "2022-05-05T19:38:05.683880",
     "exception": false,
     "start_time": "2022-05-05T19:38:05.666583",
     "status": "completed"
    },
    "tags": []
   },
   "outputs": [],
   "source": [
    "GWAS_DIR <- file.path(GLS_NULL_SIMS_DIR, \"final_imputed_gwas\")"
   ]
  },
  {
   "cell_type": "code",
   "execution_count": null,
   "id": "846c98c3-ea79-444d-99f5-351bf12f1d06",
   "metadata": {
    "papermill": {
     "duration": 0.02358,
     "end_time": "2022-05-05T19:38:05.713558",
     "exception": false,
     "start_time": "2022-05-05T19:38:05.689978",
     "status": "completed"
    },
    "tags": []
   },
   "outputs": [],
   "source": [
    "GWAS_DIR"
   ]
  },
  {
   "cell_type": "markdown",
   "id": "88659713-9a94-48fb-8381-dcd0c44e9a79",
   "metadata": {
    "papermill": {
     "duration": 0.006647,
     "end_time": "2022-05-05T19:38:05.727249",
     "exception": false,
     "start_time": "2022-05-05T19:38:05.720602",
     "status": "completed"
    },
    "tags": []
   },
   "source": [
    "# Random pheno 0"
   ]
  },
  {
   "cell_type": "markdown",
   "id": "0ad173bb-e817-4f95-b79e-52a08cfcd2fe",
   "metadata": {
    "papermill": {
     "duration": 0.006623,
     "end_time": "2022-05-05T19:38:05.740730",
     "exception": false,
     "start_time": "2022-05-05T19:38:05.734107",
     "status": "completed"
    },
    "tags": []
   },
   "source": [
    "## Load data"
   ]
  },
  {
   "cell_type": "code",
   "execution_count": null,
   "id": "3beed1d1-5f4d-4588-b9f1-95c99e4b991a",
   "metadata": {
    "papermill": {
     "duration": 71.292921,
     "end_time": "2022-05-05T19:39:17.039848",
     "exception": false,
     "start_time": "2022-05-05T19:38:05.746927",
     "status": "completed"
    },
    "tags": []
   },
   "outputs": [],
   "source": [
    "gwas <- as.data.frame(read_table(file.path(GWAS_DIR, \"random.pheno0.glm-imputed.txt.gz\")))"
   ]
  },
  {
   "cell_type": "code",
   "execution_count": null,
   "id": "66ec44f1-b2b0-4c7e-8aad-81aaa6612b71",
   "metadata": {
    "papermill": {
     "duration": 0.022811,
     "end_time": "2022-05-05T19:39:17.070691",
     "exception": false,
     "start_time": "2022-05-05T19:39:17.047880",
     "status": "completed"
    },
    "tags": []
   },
   "outputs": [],
   "source": [
    "dim(gwas)"
   ]
  },
  {
   "cell_type": "code",
   "execution_count": null,
   "id": "d92e3b57-390f-4a55-bfc4-c3bf08ff1af0",
   "metadata": {
    "papermill": {
     "duration": 0.030382,
     "end_time": "2022-05-05T19:39:17.108447",
     "exception": false,
     "start_time": "2022-05-05T19:39:17.078065",
     "status": "completed"
    },
    "tags": []
   },
   "outputs": [],
   "source": [
    "head(gwas)"
   ]
  },
  {
   "cell_type": "markdown",
   "id": "ce115991-81f5-48b7-add5-fad6752fd8eb",
   "metadata": {
    "papermill": {
     "duration": 0.007384,
     "end_time": "2022-05-05T19:39:17.176263",
     "exception": false,
     "start_time": "2022-05-05T19:39:17.168879",
     "status": "completed"
    },
    "tags": []
   },
   "source": [
    "### Extract chromosome"
   ]
  },
  {
   "cell_type": "code",
   "execution_count": null,
   "id": "5ca0fedc-13f4-4c4c-88cc-b507f505c80d",
   "metadata": {
    "papermill": {
     "duration": 0.162218,
     "end_time": "2022-05-05T19:39:17.345642",
     "exception": false,
     "start_time": "2022-05-05T19:39:17.183424",
     "status": "completed"
    },
    "tags": []
   },
   "outputs": [],
   "source": [
    "unique(gwas$chromosome)"
   ]
  },
  {
   "cell_type": "code",
   "execution_count": null,
   "id": "ce7f553d-0116-4d42-a4a8-ed8a97b96ea9",
   "metadata": {
    "papermill": {
     "duration": 3.462537,
     "end_time": "2022-05-05T19:39:20.814858",
     "exception": false,
     "start_time": "2022-05-05T19:39:17.352321",
     "status": "completed"
    },
    "tags": []
   },
   "outputs": [],
   "source": [
    "gwas$chrom <- gsub(\"chr([0-9]+)\", \"\\\\1\", gwas$chromosome)\n",
    "gwas <- transform(gwas, chrom = as.numeric(chrom))"
   ]
  },
  {
   "cell_type": "code",
   "execution_count": null,
   "id": "271549f9-ce2b-4890-b9c0-ca9267c416ec",
   "metadata": {
    "papermill": {
     "duration": 0.228037,
     "end_time": "2022-05-05T19:39:21.050110",
     "exception": false,
     "start_time": "2022-05-05T19:39:20.822073",
     "status": "completed"
    },
    "tags": []
   },
   "outputs": [],
   "source": [
    "unique(gwas$chrom)"
   ]
  },
  {
   "cell_type": "markdown",
   "id": "91fead2f-9fd8-49b1-a842-bf3727677a91",
   "metadata": {
    "papermill": {
     "duration": 0.007087,
     "end_time": "2022-05-05T19:39:21.064316",
     "exception": false,
     "start_time": "2022-05-05T19:39:21.057229",
     "status": "completed"
    },
    "tags": []
   },
   "source": [
    "## Manhattan plot"
   ]
  },
  {
   "cell_type": "code",
   "execution_count": null,
   "id": "f113f4ef-d582-4c59-a1e3-7d4ecb7d857a",
   "metadata": {
    "papermill": {
     "duration": 186.739456,
     "end_time": "2022-05-05T19:42:27.810739",
     "exception": false,
     "start_time": "2022-05-05T19:39:21.071283",
     "status": "completed"
    },
    "tags": []
   },
   "outputs": [],
   "source": [
    "options(repr.plot.width = 20, repr.plot.height = 10)\n",
    "\n",
    "manhattan(\n",
    "  gwas,\n",
    "  chr = \"chrom\",\n",
    "  bp = \"position\",\n",
    "  p = \"pvalue\",\n",
    "  snp = \"variant_id\",\n",
    "  main = \"Manhattan plot\",\n",
    "  suggestiveline = F,\n",
    "  genomewideline = -log10(5e-08),\n",
    "  cex = 0.6,\n",
    "  cex.axis = 0.9,\n",
    "  ylim = c(0, 10),\n",
    ")"
   ]
  },
  {
   "cell_type": "markdown",
   "id": "3e576b71-c4a9-4dbb-a46d-375957ab6e6f",
   "metadata": {
    "papermill": {
     "duration": 0.013008,
     "end_time": "2022-05-05T19:42:27.836609",
     "exception": false,
     "start_time": "2022-05-05T19:42:27.823601",
     "status": "completed"
    },
    "tags": []
   },
   "source": [
    "## QQ-plot"
   ]
  },
  {
   "cell_type": "code",
   "execution_count": null,
   "id": "aeef8821-518f-40c0-b486-b0c16490220a",
   "metadata": {
    "papermill": {
     "duration": 188.822547,
     "end_time": "2022-05-05T19:45:36.672463",
     "exception": false,
     "start_time": "2022-05-05T19:42:27.849916",
     "status": "completed"
    },
    "tags": []
   },
   "outputs": [],
   "source": [
    "options(repr.plot.width = 10, repr.plot.height = 10)\n",
    "\n",
    "qq(gwas$pvalue, main = \"Q-Q plot of GWAS p-values\")"
   ]
  },
  {
   "cell_type": "markdown",
   "id": "5868d46a-c323-4e96-a699-79c2e09026c0",
   "metadata": {
    "papermill": {
     "duration": 0.013454,
     "end_time": "2022-05-05T19:45:36.700980",
     "exception": false,
     "start_time": "2022-05-05T19:45:36.687526",
     "status": "completed"
    },
    "tags": []
   },
   "source": [
    "# Random pheno 373"
   ]
  },
  {
   "cell_type": "markdown",
   "id": "aba9f291-389e-42d2-a32b-97360d814e3b",
   "metadata": {
    "papermill": {
     "duration": 0.012517,
     "end_time": "2022-05-05T19:45:36.751879",
     "exception": false,
     "start_time": "2022-05-05T19:45:36.739362",
     "status": "completed"
    },
    "tags": []
   },
   "source": [
    "## Load data"
   ]
  },
  {
   "cell_type": "code",
   "execution_count": null,
   "id": "f8a6abaa-f0eb-4081-b09d-5068422ec6e4",
   "metadata": {
    "papermill": {
     "duration": 53.746534,
     "end_time": "2022-05-05T19:46:30.510916",
     "exception": false,
     "start_time": "2022-05-05T19:45:36.764382",
     "status": "completed"
    },
    "tags": []
   },
   "outputs": [],
   "source": [
    "gwas <- as.data.frame(read_table(file.path(GWAS_DIR, \"random.pheno373.glm-imputed.txt.gz\")))"
   ]
  },
  {
   "cell_type": "code",
   "execution_count": null,
   "id": "03fe81b6-9a9e-4b40-83a4-ccaafe2bf5cb",
   "metadata": {
    "papermill": {
     "duration": 0.027819,
     "end_time": "2022-05-05T19:46:30.554847",
     "exception": false,
     "start_time": "2022-05-05T19:46:30.527028",
     "status": "completed"
    },
    "tags": []
   },
   "outputs": [],
   "source": [
    "dim(gwas)"
   ]
  },
  {
   "cell_type": "code",
   "execution_count": null,
   "id": "2093e5ac-b98f-434d-9241-01ab6b3b30ad",
   "metadata": {
    "papermill": {
     "duration": 0.032571,
     "end_time": "2022-05-05T19:46:30.601472",
     "exception": false,
     "start_time": "2022-05-05T19:46:30.568901",
     "status": "completed"
    },
    "tags": []
   },
   "outputs": [],
   "source": [
    "head(gwas)"
   ]
  },
  {
   "cell_type": "markdown",
   "id": "cdac2c3b-8959-4e89-ba3e-7771523c5964",
   "metadata": {
    "papermill": {
     "duration": 0.013051,
     "end_time": "2022-05-05T19:46:30.699236",
     "exception": false,
     "start_time": "2022-05-05T19:46:30.686185",
     "status": "completed"
    },
    "tags": []
   },
   "source": [
    "### Extract chromosome"
   ]
  },
  {
   "cell_type": "code",
   "execution_count": null,
   "id": "1ea7b1fd-0cb0-4585-8a79-f69fa92a6f37",
   "metadata": {
    "papermill": {
     "duration": 0.135205,
     "end_time": "2022-05-05T19:46:30.847580",
     "exception": false,
     "start_time": "2022-05-05T19:46:30.712375",
     "status": "completed"
    },
    "tags": []
   },
   "outputs": [],
   "source": [
    "unique(gwas$chromosome)"
   ]
  },
  {
   "cell_type": "code",
   "execution_count": null,
   "id": "c04236dc-3639-4ae4-9235-a5b1dc51a7c7",
   "metadata": {
    "papermill": {
     "duration": 3.059715,
     "end_time": "2022-05-05T19:46:33.920661",
     "exception": false,
     "start_time": "2022-05-05T19:46:30.860946",
     "status": "completed"
    },
    "tags": []
   },
   "outputs": [],
   "source": [
    "gwas$chrom <- gsub(\"chr([0-9]+)\", \"\\\\1\", gwas$chromosome)\n",
    "gwas <- transform(gwas, chrom = as.numeric(chrom))"
   ]
  },
  {
   "cell_type": "code",
   "execution_count": null,
   "id": "57dad7e9-f5ef-484b-a6d1-d128ef49c6ec",
   "metadata": {
    "papermill": {
     "duration": 0.19753,
     "end_time": "2022-05-05T19:46:34.132217",
     "exception": false,
     "start_time": "2022-05-05T19:46:33.934687",
     "status": "completed"
    },
    "tags": []
   },
   "outputs": [],
   "source": [
    "unique(gwas$chrom)"
   ]
  },
  {
   "cell_type": "markdown",
   "id": "27da67fc-ec95-403b-b42f-06358d725f4f",
   "metadata": {
    "papermill": {
     "duration": 0.013194,
     "end_time": "2022-05-05T19:46:34.158952",
     "exception": false,
     "start_time": "2022-05-05T19:46:34.145758",
     "status": "completed"
    },
    "tags": []
   },
   "source": [
    "## Manhattan plot"
   ]
  },
  {
   "cell_type": "code",
   "execution_count": null,
   "id": "dacbc182-1cc0-4f5f-bae5-546203fc5633",
   "metadata": {
    "papermill": {
     "duration": 161.143014,
     "end_time": "2022-05-05T19:49:15.315428",
     "exception": false,
     "start_time": "2022-05-05T19:46:34.172414",
     "status": "completed"
    },
    "tags": []
   },
   "outputs": [],
   "source": [
    "options(repr.plot.width = 20, repr.plot.height = 10)\n",
    "\n",
    "manhattan(\n",
    "  gwas,\n",
    "  chr = \"chrom\",\n",
    "  bp = \"position\",\n",
    "  p = \"pvalue\",\n",
    "  snp = \"variant_id\",\n",
    "  main = \"Manhattan plot\",\n",
    "  suggestiveline = F,\n",
    "  genomewideline = -log10(5e-08),\n",
    "  cex = 0.6,\n",
    "  cex.axis = 0.9,\n",
    "  ylim = c(0, 10),\n",
    ")"
   ]
  },
  {
   "cell_type": "markdown",
   "id": "79f09aff-dd9b-4240-b2e2-46d730655f92",
   "metadata": {
    "papermill": {
     "duration": 0.019078,
     "end_time": "2022-05-05T19:49:15.354161",
     "exception": false,
     "start_time": "2022-05-05T19:49:15.335083",
     "status": "completed"
    },
    "tags": []
   },
   "source": [
    "## QQ-plot"
   ]
  },
  {
   "cell_type": "code",
   "execution_count": null,
   "id": "84122ac6-fba6-45fd-a41c-6a542c9f99fa",
   "metadata": {
    "papermill": {
     "duration": 171.876683,
     "end_time": "2022-05-05T19:52:07.250155",
     "exception": false,
     "start_time": "2022-05-05T19:49:15.373472",
     "status": "completed"
    },
    "tags": []
   },
   "outputs": [],
   "source": [
    "options(repr.plot.width = 10, repr.plot.height = 10)\n",
    "\n",
    "qq(gwas$pvalue, main = \"Q-Q plot of GWAS p-values\")"
   ]
  },
  {
   "cell_type": "markdown",
   "id": "4f19c593-c4a3-4fe0-b55b-d474a7a5ebd4",
   "metadata": {
    "papermill": {
     "duration": 0.013454,
     "end_time": "2022-05-05T19:45:36.700980",
     "exception": false,
     "start_time": "2022-05-05T19:45:36.687526",
     "status": "completed"
    },
    "tags": []
   },
   "source": [
    "# Random pheno 622"
   ]
  },
  {
   "cell_type": "markdown",
   "id": "91fdd682-8fc4-4f98-a732-4f13cb763026",
   "metadata": {
    "papermill": {
     "duration": 0.012517,
     "end_time": "2022-05-05T19:45:36.751879",
     "exception": false,
     "start_time": "2022-05-05T19:45:36.739362",
     "status": "completed"
    },
    "tags": []
   },
   "source": [
    "## Load data"
   ]
  },
  {
   "cell_type": "code",
   "execution_count": null,
   "id": "f70b059f-7a2a-4b1f-a1dd-08e0394cb6a6",
   "metadata": {
    "papermill": {
     "duration": 53.746534,
     "end_time": "2022-05-05T19:46:30.510916",
     "exception": false,
     "start_time": "2022-05-05T19:45:36.764382",
     "status": "completed"
    },
    "tags": []
   },
   "outputs": [],
   "source": [
    "gwas <- as.data.frame(read_table(file.path(GWAS_DIR, \"random.pheno622.glm-imputed.txt.gz\")))"
   ]
  },
  {
   "cell_type": "code",
   "execution_count": null,
   "id": "f9909e9c-25dd-4998-bb8b-9d870e695083",
   "metadata": {
    "papermill": {
     "duration": 0.027819,
     "end_time": "2022-05-05T19:46:30.554847",
     "exception": false,
     "start_time": "2022-05-05T19:46:30.527028",
     "status": "completed"
    },
    "tags": []
   },
   "outputs": [],
   "source": [
    "dim(gwas)"
   ]
  },
  {
   "cell_type": "code",
   "execution_count": null,
   "id": "a90e0b1f-60cd-4455-9f49-2668f4c61cac",
   "metadata": {
    "papermill": {
     "duration": 0.032571,
     "end_time": "2022-05-05T19:46:30.601472",
     "exception": false,
     "start_time": "2022-05-05T19:46:30.568901",
     "status": "completed"
    },
    "tags": []
   },
   "outputs": [],
   "source": [
    "head(gwas)"
   ]
  },
  {
   "cell_type": "markdown",
   "id": "7d207a14-ccd2-4a91-b3e1-1dfeaf5c3e1e",
   "metadata": {
    "papermill": {
     "duration": 0.013051,
     "end_time": "2022-05-05T19:46:30.699236",
     "exception": false,
     "start_time": "2022-05-05T19:46:30.686185",
     "status": "completed"
    },
    "tags": []
   },
   "source": [
    "### Extract chromosome"
   ]
  },
  {
   "cell_type": "code",
   "execution_count": null,
   "id": "0e2f60e1-2164-41c5-8444-c1901903f7c7",
   "metadata": {
    "papermill": {
     "duration": 0.135205,
     "end_time": "2022-05-05T19:46:30.847580",
     "exception": false,
     "start_time": "2022-05-05T19:46:30.712375",
     "status": "completed"
    },
    "tags": []
   },
   "outputs": [],
   "source": [
    "unique(gwas$chromosome)"
   ]
  },
  {
   "cell_type": "code",
   "execution_count": null,
   "id": "2f3ca0c8-f4e4-4837-bf30-3f2a11e715d1",
   "metadata": {
    "papermill": {
     "duration": 3.059715,
     "end_time": "2022-05-05T19:46:33.920661",
     "exception": false,
     "start_time": "2022-05-05T19:46:30.860946",
     "status": "completed"
    },
    "tags": []
   },
   "outputs": [],
   "source": [
    "gwas$chrom <- gsub(\"chr([0-9]+)\", \"\\\\1\", gwas$chromosome)\n",
    "gwas <- transform(gwas, chrom = as.numeric(chrom))"
   ]
  },
  {
   "cell_type": "code",
   "execution_count": null,
   "id": "3ac9b747-f63f-46ea-825c-2c7333ed47fb",
   "metadata": {
    "papermill": {
     "duration": 0.19753,
     "end_time": "2022-05-05T19:46:34.132217",
     "exception": false,
     "start_time": "2022-05-05T19:46:33.934687",
     "status": "completed"
    },
    "tags": []
   },
   "outputs": [],
   "source": [
    "unique(gwas$chrom)"
   ]
  },
  {
   "cell_type": "markdown",
   "id": "812312f4-6576-4f86-8bc5-db94e94b6070",
   "metadata": {
    "papermill": {
     "duration": 0.013194,
     "end_time": "2022-05-05T19:46:34.158952",
     "exception": false,
     "start_time": "2022-05-05T19:46:34.145758",
     "status": "completed"
    },
    "tags": []
   },
   "source": [
    "## Manhattan plot"
   ]
  },
  {
   "cell_type": "code",
   "execution_count": null,
   "id": "ab68fb2d-9053-42fb-b305-3021bd4b4043",
   "metadata": {
    "papermill": {
     "duration": 161.143014,
     "end_time": "2022-05-05T19:49:15.315428",
     "exception": false,
     "start_time": "2022-05-05T19:46:34.172414",
     "status": "completed"
    },
    "tags": []
   },
   "outputs": [],
   "source": [
    "options(repr.plot.width = 20, repr.plot.height = 10)\n",
    "\n",
    "manhattan(\n",
    "  gwas,\n",
    "  chr = \"chrom\",\n",
    "  bp = \"position\",\n",
    "  p = \"pvalue\",\n",
    "  snp = \"variant_id\",\n",
    "  main = \"Manhattan plot\",\n",
    "  suggestiveline = F,\n",
    "  genomewideline = -log10(5e-08),\n",
    "  cex = 0.6,\n",
    "  cex.axis = 0.9,\n",
    "  ylim = c(0, 10),\n",
    ")"
   ]
  },
  {
   "cell_type": "markdown",
   "id": "190e5862-71a3-43ec-be36-be617e0f224f",
   "metadata": {
    "papermill": {
     "duration": 0.019078,
     "end_time": "2022-05-05T19:49:15.354161",
     "exception": false,
     "start_time": "2022-05-05T19:49:15.335083",
     "status": "completed"
    },
    "tags": []
   },
   "source": [
    "## QQ-plot"
   ]
  },
  {
   "cell_type": "code",
   "execution_count": null,
   "id": "dcf6dd1f-c2d7-4db0-b65a-a95b6e96b5c4",
   "metadata": {
    "papermill": {
     "duration": 171.876683,
     "end_time": "2022-05-05T19:52:07.250155",
     "exception": false,
     "start_time": "2022-05-05T19:49:15.373472",
     "status": "completed"
    },
    "tags": []
   },
   "outputs": [],
   "source": [
    "options(repr.plot.width = 10, repr.plot.height = 10)\n",
    "\n",
    "qq(gwas$pvalue, main = \"Q-Q plot of GWAS p-values\")"
   ]
  },
  {
   "cell_type": "markdown",
   "id": "6ac2c73f-002b-4e2f-a193-8dfceebeaf56",
   "metadata": {
    "papermill": {
     "duration": 0.013454,
     "end_time": "2022-05-05T19:45:36.700980",
     "exception": false,
     "start_time": "2022-05-05T19:45:36.687526",
     "status": "completed"
    },
    "tags": []
   },
   "source": [
    "# Random pheno 825"
   ]
  },
  {
   "cell_type": "markdown",
   "id": "3707828e-826a-4988-a217-30bed7b26a6e",
   "metadata": {
    "papermill": {
     "duration": 0.012517,
     "end_time": "2022-05-05T19:45:36.751879",
     "exception": false,
     "start_time": "2022-05-05T19:45:36.739362",
     "status": "completed"
    },
    "tags": []
   },
   "source": [
    "## Load data"
   ]
  },
  {
   "cell_type": "code",
   "execution_count": null,
   "id": "aa05836f-93fc-4a0b-9a3a-9f43b258da22",
   "metadata": {
    "papermill": {
     "duration": 53.746534,
     "end_time": "2022-05-05T19:46:30.510916",
     "exception": false,
     "start_time": "2022-05-05T19:45:36.764382",
     "status": "completed"
    },
    "tags": []
   },
   "outputs": [],
   "source": [
    "gwas <- as.data.frame(read_table(file.path(GWAS_DIR, \"random.pheno825.glm-imputed.txt.gz\")))"
   ]
  },
  {
   "cell_type": "code",
   "execution_count": null,
   "id": "36660b28-805a-4e10-950c-b26574c5ccd8",
   "metadata": {
    "papermill": {
     "duration": 0.027819,
     "end_time": "2022-05-05T19:46:30.554847",
     "exception": false,
     "start_time": "2022-05-05T19:46:30.527028",
     "status": "completed"
    },
    "tags": []
   },
   "outputs": [],
   "source": [
    "dim(gwas)"
   ]
  },
  {
   "cell_type": "code",
   "execution_count": null,
   "id": "3853316a-d114-41e2-9a7c-9b7555d35d33",
   "metadata": {
    "papermill": {
     "duration": 0.032571,
     "end_time": "2022-05-05T19:46:30.601472",
     "exception": false,
     "start_time": "2022-05-05T19:46:30.568901",
     "status": "completed"
    },
    "tags": []
   },
   "outputs": [],
   "source": [
    "head(gwas)"
   ]
  },
  {
   "cell_type": "markdown",
   "id": "e72d8a12-9f3d-47b4-9835-41a74bf27fa1",
   "metadata": {
    "papermill": {
     "duration": 0.013051,
     "end_time": "2022-05-05T19:46:30.699236",
     "exception": false,
     "start_time": "2022-05-05T19:46:30.686185",
     "status": "completed"
    },
    "tags": []
   },
   "source": [
    "### Extract chromosome"
   ]
  },
  {
   "cell_type": "code",
   "execution_count": null,
   "id": "99ed2569-7f1d-46c1-b672-e7b9ce8c69fb",
   "metadata": {
    "papermill": {
     "duration": 0.135205,
     "end_time": "2022-05-05T19:46:30.847580",
     "exception": false,
     "start_time": "2022-05-05T19:46:30.712375",
     "status": "completed"
    },
    "tags": []
   },
   "outputs": [],
   "source": [
    "unique(gwas$chromosome)"
   ]
  },
  {
   "cell_type": "code",
   "execution_count": null,
   "id": "6191bf48-6209-42e9-bbe3-abb41420d3df",
   "metadata": {
    "papermill": {
     "duration": 3.059715,
     "end_time": "2022-05-05T19:46:33.920661",
     "exception": false,
     "start_time": "2022-05-05T19:46:30.860946",
     "status": "completed"
    },
    "tags": []
   },
   "outputs": [],
   "source": [
    "gwas$chrom <- gsub(\"chr([0-9]+)\", \"\\\\1\", gwas$chromosome)\n",
    "gwas <- transform(gwas, chrom = as.numeric(chrom))"
   ]
  },
  {
   "cell_type": "code",
   "execution_count": null,
   "id": "92ffd434-a2cb-4c44-ae9e-d1cf45d1f156",
   "metadata": {
    "papermill": {
     "duration": 0.19753,
     "end_time": "2022-05-05T19:46:34.132217",
     "exception": false,
     "start_time": "2022-05-05T19:46:33.934687",
     "status": "completed"
    },
    "tags": []
   },
   "outputs": [],
   "source": [
    "unique(gwas$chrom)"
   ]
  },
  {
   "cell_type": "markdown",
   "id": "7b5870aa-760b-4a0b-a2ee-d71e4028d8cb",
   "metadata": {
    "papermill": {
     "duration": 0.013194,
     "end_time": "2022-05-05T19:46:34.158952",
     "exception": false,
     "start_time": "2022-05-05T19:46:34.145758",
     "status": "completed"
    },
    "tags": []
   },
   "source": [
    "## Manhattan plot"
   ]
  },
  {
   "cell_type": "code",
   "execution_count": null,
   "id": "208f06bd-2d2a-4cd3-bc04-93fd5b5ff2ff",
   "metadata": {
    "papermill": {
     "duration": 161.143014,
     "end_time": "2022-05-05T19:49:15.315428",
     "exception": false,
     "start_time": "2022-05-05T19:46:34.172414",
     "status": "completed"
    },
    "tags": []
   },
   "outputs": [],
   "source": [
    "options(repr.plot.width = 20, repr.plot.height = 10)\n",
    "\n",
    "manhattan(\n",
    "  gwas,\n",
    "  chr = \"chrom\",\n",
    "  bp = \"position\",\n",
    "  p = \"pvalue\",\n",
    "  snp = \"variant_id\",\n",
    "  main = \"Manhattan plot\",\n",
    "  suggestiveline = F,\n",
    "  genomewideline = -log10(5e-08),\n",
    "  cex = 0.6,\n",
    "  cex.axis = 0.9,\n",
    "  ylim = c(0, 10),\n",
    ")"
   ]
  },
  {
   "cell_type": "markdown",
   "id": "f619b8ed-d988-4668-9118-6b72e9f7f892",
   "metadata": {
    "papermill": {
     "duration": 0.019078,
     "end_time": "2022-05-05T19:49:15.354161",
     "exception": false,
     "start_time": "2022-05-05T19:49:15.335083",
     "status": "completed"
    },
    "tags": []
   },
   "source": [
    "## QQ-plot"
   ]
  },
  {
   "cell_type": "code",
   "execution_count": null,
   "id": "5b1945ad-fc3e-48fd-99a0-94144129abce",
   "metadata": {
    "papermill": {
     "duration": 171.876683,
     "end_time": "2022-05-05T19:52:07.250155",
     "exception": false,
     "start_time": "2022-05-05T19:49:15.373472",
     "status": "completed"
    },
    "tags": []
   },
   "outputs": [],
   "source": [
    "options(repr.plot.width = 10, repr.plot.height = 10)\n",
    "\n",
    "qq(gwas$pvalue, main = \"Q-Q plot of GWAS p-values\")"
   ]
  },
  {
   "cell_type": "markdown",
   "id": "c021d291-58cd-443e-b908-fe7707267e49",
   "metadata": {
    "papermill": {
     "duration": 0.013454,
     "end_time": "2022-05-05T19:45:36.700980",
     "exception": false,
     "start_time": "2022-05-05T19:45:36.687526",
     "status": "completed"
    },
    "tags": []
   },
   "source": [
    "# Random pheno 135"
   ]
  },
  {
   "cell_type": "markdown",
   "id": "e8fadfad-4d7d-43c4-b9b4-b8b56fea871f",
   "metadata": {
    "papermill": {
     "duration": 0.012517,
     "end_time": "2022-05-05T19:45:36.751879",
     "exception": false,
     "start_time": "2022-05-05T19:45:36.739362",
     "status": "completed"
    },
    "tags": []
   },
   "source": [
    "## Load data"
   ]
  },
  {
   "cell_type": "code",
   "execution_count": null,
   "id": "c438fbf6-af38-4cf1-ad37-961d421afd88",
   "metadata": {
    "papermill": {
     "duration": 53.746534,
     "end_time": "2022-05-05T19:46:30.510916",
     "exception": false,
     "start_time": "2022-05-05T19:45:36.764382",
     "status": "completed"
    },
    "tags": []
   },
   "outputs": [],
   "source": [
    "gwas <- as.data.frame(read_table(file.path(GWAS_DIR, \"random.pheno135.glm-imputed.txt.gz\")))"
   ]
  },
  {
   "cell_type": "code",
   "execution_count": null,
   "id": "fbf44b08-9220-438e-a23d-04ea60c80e7b",
   "metadata": {
    "papermill": {
     "duration": 0.027819,
     "end_time": "2022-05-05T19:46:30.554847",
     "exception": false,
     "start_time": "2022-05-05T19:46:30.527028",
     "status": "completed"
    },
    "tags": []
   },
   "outputs": [],
   "source": [
    "dim(gwas)"
   ]
  },
  {
   "cell_type": "code",
   "execution_count": null,
   "id": "9b7db2ee-d309-466e-9c64-b0fbf39d0d16",
   "metadata": {
    "papermill": {
     "duration": 0.032571,
     "end_time": "2022-05-05T19:46:30.601472",
     "exception": false,
     "start_time": "2022-05-05T19:46:30.568901",
     "status": "completed"
    },
    "tags": []
   },
   "outputs": [],
   "source": [
    "head(gwas)"
   ]
  },
  {
   "cell_type": "markdown",
   "id": "ba01e82f-c89d-4fa2-87be-99822f0a28f3",
   "metadata": {
    "papermill": {
     "duration": 0.013051,
     "end_time": "2022-05-05T19:46:30.699236",
     "exception": false,
     "start_time": "2022-05-05T19:46:30.686185",
     "status": "completed"
    },
    "tags": []
   },
   "source": [
    "### Extract chromosome"
   ]
  },
  {
   "cell_type": "code",
   "execution_count": null,
   "id": "3b639cb2-f179-4732-9e88-89aa86693320",
   "metadata": {
    "papermill": {
     "duration": 0.135205,
     "end_time": "2022-05-05T19:46:30.847580",
     "exception": false,
     "start_time": "2022-05-05T19:46:30.712375",
     "status": "completed"
    },
    "tags": []
   },
   "outputs": [],
   "source": [
    "unique(gwas$chromosome)"
   ]
  },
  {
   "cell_type": "code",
   "execution_count": null,
   "id": "b628d923-2a1c-4c83-9105-be1040d9d213",
   "metadata": {
    "papermill": {
     "duration": 3.059715,
     "end_time": "2022-05-05T19:46:33.920661",
     "exception": false,
     "start_time": "2022-05-05T19:46:30.860946",
     "status": "completed"
    },
    "tags": []
   },
   "outputs": [],
   "source": [
    "gwas$chrom <- gsub(\"chr([0-9]+)\", \"\\\\1\", gwas$chromosome)\n",
    "gwas <- transform(gwas, chrom = as.numeric(chrom))"
   ]
  },
  {
   "cell_type": "code",
   "execution_count": null,
   "id": "37db3d15-8221-483b-9883-4040e8369b22",
   "metadata": {
    "papermill": {
     "duration": 0.19753,
     "end_time": "2022-05-05T19:46:34.132217",
     "exception": false,
     "start_time": "2022-05-05T19:46:33.934687",
     "status": "completed"
    },
    "tags": []
   },
   "outputs": [],
   "source": [
    "unique(gwas$chrom)"
   ]
  },
  {
   "cell_type": "markdown",
   "id": "b120a612-3f80-4928-9305-94bbd4398aaa",
   "metadata": {
    "papermill": {
     "duration": 0.013194,
     "end_time": "2022-05-05T19:46:34.158952",
     "exception": false,
     "start_time": "2022-05-05T19:46:34.145758",
     "status": "completed"
    },
    "tags": []
   },
   "source": [
    "## Manhattan plot"
   ]
  },
  {
   "cell_type": "code",
   "execution_count": null,
   "id": "1562e81a-83d7-4e31-a755-98c68cd1bf16",
   "metadata": {
    "papermill": {
     "duration": 161.143014,
     "end_time": "2022-05-05T19:49:15.315428",
     "exception": false,
     "start_time": "2022-05-05T19:46:34.172414",
     "status": "completed"
    },
    "tags": []
   },
   "outputs": [],
   "source": [
    "options(repr.plot.width = 20, repr.plot.height = 10)\n",
    "\n",
    "manhattan(\n",
    "  gwas,\n",
    "  chr = \"chrom\",\n",
    "  bp = \"position\",\n",
    "  p = \"pvalue\",\n",
    "  snp = \"variant_id\",\n",
    "  main = \"Manhattan plot\",\n",
    "  suggestiveline = F,\n",
    "  genomewideline = -log10(5e-08),\n",
    "  cex = 0.6,\n",
    "  cex.axis = 0.9,\n",
    "  ylim = c(0, 10),\n",
    ")"
   ]
  },
  {
   "cell_type": "markdown",
   "id": "009ae85a-62f8-4176-acb9-b43c376675e2",
   "metadata": {
    "papermill": {
     "duration": 0.019078,
     "end_time": "2022-05-05T19:49:15.354161",
     "exception": false,
     "start_time": "2022-05-05T19:49:15.335083",
     "status": "completed"
    },
    "tags": []
   },
   "source": [
    "## QQ-plot"
   ]
  },
  {
   "cell_type": "code",
   "execution_count": null,
   "id": "c4c355ed-6bf0-49c9-acd2-5c9726477e33",
   "metadata": {
    "papermill": {
     "duration": 171.876683,
     "end_time": "2022-05-05T19:52:07.250155",
     "exception": false,
     "start_time": "2022-05-05T19:49:15.373472",
     "status": "completed"
    },
    "tags": []
   },
   "outputs": [],
   "source": [
    "options(repr.plot.width = 10, repr.plot.height = 10)\n",
    "\n",
    "qq(gwas$pvalue, main = \"Q-Q plot of GWAS p-values\")"
   ]
  },
  {
   "cell_type": "markdown",
   "id": "9c69acd4-7a9b-4d90-ac5a-dd3b9c98a45f",
   "metadata": {
    "papermill": {
     "duration": 0.013454,
     "end_time": "2022-05-05T19:45:36.700980",
     "exception": false,
     "start_time": "2022-05-05T19:45:36.687526",
     "status": "completed"
    },
    "tags": []
   },
   "source": [
    "# Random pheno 412"
   ]
  },
  {
   "cell_type": "markdown",
   "id": "bcc9cfdc-9b41-4351-b398-b0674d32214c",
   "metadata": {
    "papermill": {
     "duration": 0.012517,
     "end_time": "2022-05-05T19:45:36.751879",
     "exception": false,
     "start_time": "2022-05-05T19:45:36.739362",
     "status": "completed"
    },
    "tags": []
   },
   "source": [
    "## Load data"
   ]
  },
  {
   "cell_type": "code",
   "execution_count": null,
   "id": "7f8ddc2c-b35c-4398-9f1d-5d63e3e90db6",
   "metadata": {
    "papermill": {
     "duration": 53.746534,
     "end_time": "2022-05-05T19:46:30.510916",
     "exception": false,
     "start_time": "2022-05-05T19:45:36.764382",
     "status": "completed"
    },
    "tags": []
   },
   "outputs": [],
   "source": [
    "gwas <- as.data.frame(read_table(file.path(GWAS_DIR, \"random.pheno412.glm-imputed.txt.gz\")))"
   ]
  },
  {
   "cell_type": "code",
   "execution_count": null,
   "id": "03229cd5-6feb-4904-b1a0-f6548cfc9705",
   "metadata": {
    "papermill": {
     "duration": 0.027819,
     "end_time": "2022-05-05T19:46:30.554847",
     "exception": false,
     "start_time": "2022-05-05T19:46:30.527028",
     "status": "completed"
    },
    "tags": []
   },
   "outputs": [],
   "source": [
    "dim(gwas)"
   ]
  },
  {
   "cell_type": "code",
   "execution_count": null,
   "id": "9106aead-5951-4b2e-902a-5f03d475c946",
   "metadata": {
    "papermill": {
     "duration": 0.032571,
     "end_time": "2022-05-05T19:46:30.601472",
     "exception": false,
     "start_time": "2022-05-05T19:46:30.568901",
     "status": "completed"
    },
    "tags": []
   },
   "outputs": [],
   "source": [
    "head(gwas)"
   ]
  },
  {
   "cell_type": "markdown",
   "id": "29406179-c86e-4958-9344-fbebb70512b3",
   "metadata": {
    "papermill": {
     "duration": 0.013051,
     "end_time": "2022-05-05T19:46:30.699236",
     "exception": false,
     "start_time": "2022-05-05T19:46:30.686185",
     "status": "completed"
    },
    "tags": []
   },
   "source": [
    "### Extract chromosome"
   ]
  },
  {
   "cell_type": "code",
   "execution_count": null,
   "id": "71203f43-812d-46ab-b958-7c61a672a954",
   "metadata": {
    "papermill": {
     "duration": 0.135205,
     "end_time": "2022-05-05T19:46:30.847580",
     "exception": false,
     "start_time": "2022-05-05T19:46:30.712375",
     "status": "completed"
    },
    "tags": []
   },
   "outputs": [],
   "source": [
    "unique(gwas$chromosome)"
   ]
  },
  {
   "cell_type": "code",
   "execution_count": null,
   "id": "437d42f4-f573-43cf-aee4-a367c15a1244",
   "metadata": {
    "papermill": {
     "duration": 3.059715,
     "end_time": "2022-05-05T19:46:33.920661",
     "exception": false,
     "start_time": "2022-05-05T19:46:30.860946",
     "status": "completed"
    },
    "tags": []
   },
   "outputs": [],
   "source": [
    "gwas$chrom <- gsub(\"chr([0-9]+)\", \"\\\\1\", gwas$chromosome)\n",
    "gwas <- transform(gwas, chrom = as.numeric(chrom))"
   ]
  },
  {
   "cell_type": "code",
   "execution_count": null,
   "id": "a80835aa-f077-4102-849f-bc21e5f91548",
   "metadata": {
    "papermill": {
     "duration": 0.19753,
     "end_time": "2022-05-05T19:46:34.132217",
     "exception": false,
     "start_time": "2022-05-05T19:46:33.934687",
     "status": "completed"
    },
    "tags": []
   },
   "outputs": [],
   "source": [
    "unique(gwas$chrom)"
   ]
  },
  {
   "cell_type": "markdown",
   "id": "28ecfa99-e7b1-47e2-99dc-abdd8de84f5a",
   "metadata": {
    "papermill": {
     "duration": 0.013194,
     "end_time": "2022-05-05T19:46:34.158952",
     "exception": false,
     "start_time": "2022-05-05T19:46:34.145758",
     "status": "completed"
    },
    "tags": []
   },
   "source": [
    "## Manhattan plot"
   ]
  },
  {
   "cell_type": "code",
   "execution_count": null,
   "id": "579d7869-210b-4caa-bdea-4e045d59dd11",
   "metadata": {
    "papermill": {
     "duration": 161.143014,
     "end_time": "2022-05-05T19:49:15.315428",
     "exception": false,
     "start_time": "2022-05-05T19:46:34.172414",
     "status": "completed"
    },
    "tags": []
   },
   "outputs": [],
   "source": [
    "options(repr.plot.width = 20, repr.plot.height = 10)\n",
    "\n",
    "manhattan(\n",
    "  gwas,\n",
    "  chr = \"chrom\",\n",
    "  bp = \"position\",\n",
    "  p = \"pvalue\",\n",
    "  snp = \"variant_id\",\n",
    "  main = \"Manhattan plot\",\n",
    "  suggestiveline = F,\n",
    "  genomewideline = -log10(5e-08),\n",
    "  cex = 0.6,\n",
    "  cex.axis = 0.9,\n",
    "  ylim = c(0, 10),\n",
    ")"
   ]
  },
  {
   "cell_type": "markdown",
   "id": "9a2cb94b-cad5-40e8-bce7-a92b61e52641",
   "metadata": {
    "papermill": {
     "duration": 0.019078,
     "end_time": "2022-05-05T19:49:15.354161",
     "exception": false,
     "start_time": "2022-05-05T19:49:15.335083",
     "status": "completed"
    },
    "tags": []
   },
   "source": [
    "## QQ-plot"
   ]
  },
  {
   "cell_type": "code",
   "execution_count": null,
   "id": "7bbe0b14-617a-4cf5-b020-f70a9cf33805",
   "metadata": {
    "papermill": {
     "duration": 171.876683,
     "end_time": "2022-05-05T19:52:07.250155",
     "exception": false,
     "start_time": "2022-05-05T19:49:15.373472",
     "status": "completed"
    },
    "tags": []
   },
   "outputs": [],
   "source": [
    "options(repr.plot.width = 10, repr.plot.height = 10)\n",
    "\n",
    "qq(gwas$pvalue, main = \"Q-Q plot of GWAS p-values\")"
   ]
  },
  {
   "cell_type": "code",
   "execution_count": null,
   "id": "8dd5b850-f19c-43a3-a4be-4c11fd047f68",
   "metadata": {
    "papermill": {
     "duration": 0.020166,
     "end_time": "2022-05-05T19:52:07.291569",
     "exception": false,
     "start_time": "2022-05-05T19:52:07.271403",
     "status": "completed"
    },
    "tags": []
   },
   "outputs": [],
   "source": []
  }
 ],
 "metadata": {
  "jupytext": {
   "cell_metadata_filter": "all,-execution,-papermill,-trusted"
  },
  "kernelspec": {
   "display_name": "R",
   "language": "R",
   "name": "ir"
  },
  "language_info": {
   "codemirror_mode": "r",
   "file_extension": ".r",
   "mimetype": "text/x-r-source",
   "name": "R",
   "pygments_lexer": "r",
   "version": "3.6.3"
  },
  "papermill": {
   "default_parameters": {},
   "duration": 844.371561,
   "end_time": "2022-05-05T19:52:07.789290",
   "environment_variables": {},
   "exception": null,
   "input_path": "nbs/15_gsa_gls/20-null_simulations/10_gwas_harmonization/15-gwas-qqplot.ipynb",
   "output_path": "nbs/15_gsa_gls/20-null_simulations/10_gwas_harmonization/15-gwas-qqplot.run.ipynb",
   "parameters": {},
   "start_time": "2022-05-05T19:38:03.417729",
   "version": "2.3.4"
  },
  "toc-autonumbering": true
 },
 "nbformat": 4,
 "nbformat_minor": 5
}
