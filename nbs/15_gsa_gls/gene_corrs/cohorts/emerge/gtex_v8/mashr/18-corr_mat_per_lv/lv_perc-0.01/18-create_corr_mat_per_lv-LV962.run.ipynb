{
 "cells": [
  {
   "cell_type": "markdown",
   "id": "b5e951b9",
   "metadata": {
    "tags": [
     "papermill-error-cell-tag"
    ]
   },
   "source": [
    "<span style=\"color:red; font-family:Helvetica Neue, Helvetica, Arial, sans-serif; font-size:2em;\">An Exception was encountered at '<a href=\"#papermill-error-cell\">In [32]</a>'.</span>"
   ]
  },
  {
   "cell_type": "markdown",
   "id": "5ef66977",
   "metadata": {
    "papermill": {
     "duration": 0.01565,
     "end_time": "2022-08-31T13:39:39.221822",
     "exception": false,
     "start_time": "2022-08-31T13:39:39.206172",
     "status": "completed"
    },
    "tags": []
   },
   "source": [
    "# Description"
   ]
  },
  {
   "cell_type": "markdown",
   "id": "658d4f7c",
   "metadata": {
    "papermill": {
     "duration": 0.011815,
     "end_time": "2022-08-31T13:39:39.246894",
     "exception": false,
     "start_time": "2022-08-31T13:39:39.235079",
     "status": "completed"
    },
    "tags": []
   },
   "source": [
    "**TODO UPDATE**\n",
    "\n",
    "(Please, take a look at the README.md file in this directory for instructions on how to run this notebook)\n",
    "\n",
    "This notebook reads all gene correlations across all chromosomes and computes a single correlation matrix by assembling a big correlation matrix with all genes."
   ]
  },
  {
   "cell_type": "markdown",
   "id": "60fa4530",
   "metadata": {
    "papermill": {
     "duration": 0.011022,
     "end_time": "2022-08-31T13:39:39.270028",
     "exception": false,
     "start_time": "2022-08-31T13:39:39.259006",
     "status": "completed"
    },
    "tags": []
   },
   "source": [
    "# Modules"
   ]
  },
  {
   "cell_type": "code",
   "execution_count": 1,
   "id": "d70b0833",
   "metadata": {
    "execution": {
     "iopub.execute_input": "2022-08-31T13:39:39.294014Z",
     "iopub.status.busy": "2022-08-31T13:39:39.293594Z",
     "iopub.status.idle": "2022-08-31T13:39:39.319414Z",
     "shell.execute_reply": "2022-08-31T13:39:39.318623Z"
    },
    "papermill": {
     "duration": 0.041244,
     "end_time": "2022-08-31T13:39:39.322144",
     "exception": false,
     "start_time": "2022-08-31T13:39:39.280900",
     "status": "completed"
    },
    "tags": []
   },
   "outputs": [],
   "source": [
    "%load_ext autoreload\n",
    "%autoreload 2"
   ]
  },
  {
   "cell_type": "code",
   "execution_count": 2,
   "id": "6b2f9ca0",
   "metadata": {
    "execution": {
     "iopub.execute_input": "2022-08-31T13:39:39.344799Z",
     "iopub.status.busy": "2022-08-31T13:39:39.344480Z",
     "iopub.status.idle": "2022-08-31T13:39:41.081782Z",
     "shell.execute_reply": "2022-08-31T13:39:41.081178Z"
    },
    "papermill": {
     "duration": 1.750809,
     "end_time": "2022-08-31T13:39:41.083935",
     "exception": false,
     "start_time": "2022-08-31T13:39:39.333126",
     "status": "completed"
    },
    "tags": []
   },
   "outputs": [],
   "source": [
    "from pathlib import Path\n",
    "from concurrent.futures import ProcessPoolExecutor, as_completed\n",
    "\n",
    "import numpy as np\n",
    "from scipy.spatial.distance import squareform\n",
    "from scipy import sparse\n",
    "import pandas as pd\n",
    "from tqdm import tqdm\n",
    "\n",
    "import conf\n",
    "from utils import chunker\n",
    "from entity import Gene\n",
    "from gls import GLSPhenoplier"
   ]
  },
  {
   "cell_type": "markdown",
   "id": "5b96e797",
   "metadata": {
    "papermill": {
     "duration": 0.008054,
     "end_time": "2022-08-31T13:39:41.100503",
     "exception": false,
     "start_time": "2022-08-31T13:39:41.092449",
     "status": "completed"
    },
    "tags": []
   },
   "source": [
    "# Settings"
   ]
  },
  {
   "cell_type": "code",
   "execution_count": 3,
   "id": "4fc1b6a0",
   "metadata": {
    "execution": {
     "iopub.execute_input": "2022-08-31T13:39:41.117777Z",
     "iopub.status.busy": "2022-08-31T13:39:41.117573Z",
     "iopub.status.idle": "2022-08-31T13:39:41.141612Z",
     "shell.execute_reply": "2022-08-31T13:39:41.141030Z"
    },
    "papermill": {
     "duration": 0.035244,
     "end_time": "2022-08-31T13:39:41.143706",
     "exception": false,
     "start_time": "2022-08-31T13:39:41.108462",
     "status": "completed"
    },
    "tags": [
     "parameters"
    ]
   },
   "outputs": [],
   "source": [
    "# a cohort name (it could be something like UK_BIOBANK, etc)\n",
    "COHORT_NAME = None\n",
    "\n",
    "# reference panel such as 1000G or GTEX_V8\n",
    "REFERENCE_PANEL = None\n",
    "\n",
    "# predictions models such as MASHR or ELASTIC_NET\n",
    "EQTL_MODEL = None\n",
    "\n",
    "LV_CODE = None\n",
    "\n",
    "# A number from 0.0 to 1.0 indicating the top percentile of the genes in the LV to keep.\n",
    "# A value of 0.01 would take the top 1% of the genes in the LV.\n",
    "# If zero or None, then all nonzero weighted genes in the LV will be kept.\n",
    "LV_PERCENTILE = None"
   ]
  },
  {
   "cell_type": "code",
   "execution_count": 4,
   "id": "ce3bd233",
   "metadata": {
    "execution": {
     "iopub.execute_input": "2022-08-31T13:39:41.161587Z",
     "iopub.status.busy": "2022-08-31T13:39:41.161383Z",
     "iopub.status.idle": "2022-08-31T13:39:41.184937Z",
     "shell.execute_reply": "2022-08-31T13:39:41.184353Z"
    },
    "papermill": {
     "duration": 0.034824,
     "end_time": "2022-08-31T13:39:41.187028",
     "exception": false,
     "start_time": "2022-08-31T13:39:41.152204",
     "status": "completed"
    },
    "tags": [
     "injected-parameters"
    ]
   },
   "outputs": [],
   "source": [
    "# Parameters\n",
    "COHORT_NAME = \"emerge\"\n",
    "REFERENCE_PANEL = \"GTEX_V8\"\n",
    "EQTL_MODEL = \"MASHR\"\n",
    "LV_CODE = \"LV962\"\n",
    "LV_PERCENTILE = \"0.01\"\n"
   ]
  },
  {
   "cell_type": "code",
   "execution_count": 5,
   "id": "1dbaa2d1-b4d2-4247-bbdc-84f9a08fe15a",
   "metadata": {
    "execution": {
     "iopub.execute_input": "2022-08-31T13:39:41.204626Z",
     "iopub.status.busy": "2022-08-31T13:39:41.204419Z",
     "iopub.status.idle": "2022-08-31T13:39:41.228359Z",
     "shell.execute_reply": "2022-08-31T13:39:41.227755Z"
    },
    "papermill": {
     "duration": 0.035439,
     "end_time": "2022-08-31T13:39:41.230474",
     "exception": false,
     "start_time": "2022-08-31T13:39:41.195035",
     "status": "completed"
    },
    "tags": []
   },
   "outputs": [],
   "source": [
    "N_JOBS = 1"
   ]
  },
  {
   "cell_type": "code",
   "execution_count": 6,
   "id": "10c1d77a-c024-4d52-8888-7806944731ff",
   "metadata": {
    "execution": {
     "iopub.execute_input": "2022-08-31T13:39:41.250404Z",
     "iopub.status.busy": "2022-08-31T13:39:41.250199Z",
     "iopub.status.idle": "2022-08-31T13:39:41.282569Z",
     "shell.execute_reply": "2022-08-31T13:39:41.281953Z"
    },
    "papermill": {
     "duration": 0.044469,
     "end_time": "2022-08-31T13:39:41.284517",
     "exception": false,
     "start_time": "2022-08-31T13:39:41.240048",
     "status": "completed"
    },
    "tags": []
   },
   "outputs": [
    {
     "data": {
      "text/plain": [
       "'Cohort name: emerge'"
      ]
     },
     "metadata": {},
     "output_type": "display_data"
    }
   ],
   "source": [
    "assert COHORT_NAME is not None and len(COHORT_NAME) > 0, \"A cohort name must be given\"\n",
    "\n",
    "COHORT_NAME = COHORT_NAME.lower()\n",
    "display(f\"Cohort name: {COHORT_NAME}\")"
   ]
  },
  {
   "cell_type": "code",
   "execution_count": 7,
   "id": "2d74d598-860b-4994-a8ab-495c6ea1d93d",
   "metadata": {
    "execution": {
     "iopub.execute_input": "2022-08-31T13:39:41.302000Z",
     "iopub.status.busy": "2022-08-31T13:39:41.301789Z",
     "iopub.status.idle": "2022-08-31T13:39:41.327774Z",
     "shell.execute_reply": "2022-08-31T13:39:41.327180Z"
    },
    "papermill": {
     "duration": 0.038855,
     "end_time": "2022-08-31T13:39:41.331699",
     "exception": false,
     "start_time": "2022-08-31T13:39:41.292844",
     "status": "completed"
    },
    "tags": []
   },
   "outputs": [
    {
     "data": {
      "text/plain": [
       "'Reference panel: GTEX_V8'"
      ]
     },
     "metadata": {},
     "output_type": "display_data"
    }
   ],
   "source": [
    "assert (\n",
    "    REFERENCE_PANEL is not None and len(REFERENCE_PANEL) > 0\n",
    "), \"A reference panel must be given\"\n",
    "\n",
    "display(f\"Reference panel: {REFERENCE_PANEL}\")"
   ]
  },
  {
   "cell_type": "code",
   "execution_count": 8,
   "id": "23fccc89-f877-46a0-86c9-caa7b2cd71e2",
   "metadata": {
    "execution": {
     "iopub.execute_input": "2022-08-31T13:39:41.351294Z",
     "iopub.status.busy": "2022-08-31T13:39:41.350924Z",
     "iopub.status.idle": "2022-08-31T13:39:41.384458Z",
     "shell.execute_reply": "2022-08-31T13:39:41.383799Z"
    },
    "papermill": {
     "duration": 0.046198,
     "end_time": "2022-08-31T13:39:41.386441",
     "exception": false,
     "start_time": "2022-08-31T13:39:41.340243",
     "status": "completed"
    },
    "tags": []
   },
   "outputs": [
    {
     "data": {
      "text/plain": [
       "'eQTL model: MASHR / mashr_'"
      ]
     },
     "metadata": {},
     "output_type": "display_data"
    }
   ],
   "source": [
    "assert (\n",
    "    EQTL_MODEL is not None and len(EQTL_MODEL) > 0\n",
    "), \"A prediction/eQTL model must be given\"\n",
    "\n",
    "EQTL_MODEL_FILES_PREFIX = conf.PHENOMEXCAN[\"PREDICTION_MODELS\"][f\"{EQTL_MODEL}_PREFIX\"]\n",
    "display(f\"eQTL model: {EQTL_MODEL} / {EQTL_MODEL_FILES_PREFIX}\")"
   ]
  },
  {
   "cell_type": "code",
   "execution_count": 9,
   "id": "3ceaa707-94f2-4c3b-9e0d-87a5e8259ab2",
   "metadata": {
    "execution": {
     "iopub.execute_input": "2022-08-31T13:39:41.454353Z",
     "iopub.status.busy": "2022-08-31T13:39:41.454143Z",
     "iopub.status.idle": "2022-08-31T13:39:41.479899Z",
     "shell.execute_reply": "2022-08-31T13:39:41.479317Z"
    },
    "papermill": {
     "duration": 0.037084,
     "end_time": "2022-08-31T13:39:41.481771",
     "exception": false,
     "start_time": "2022-08-31T13:39:41.444687",
     "status": "completed"
    },
    "tags": []
   },
   "outputs": [
    {
     "data": {
      "text/plain": [
       "'LV code: LV962'"
      ]
     },
     "metadata": {},
     "output_type": "display_data"
    }
   ],
   "source": [
    "assert LV_CODE is not None and len(LV_CODE) > 0, \"An LV code must be given\"\n",
    "\n",
    "display(f\"LV code: {LV_CODE}\")"
   ]
  },
  {
   "cell_type": "code",
   "execution_count": 10,
   "id": "9cf97d20-389b-4919-acff-a1e2e1c5a707",
   "metadata": {
    "execution": {
     "iopub.execute_input": "2022-08-31T13:39:41.499770Z",
     "iopub.status.busy": "2022-08-31T13:39:41.499562Z",
     "iopub.status.idle": "2022-08-31T13:39:41.525820Z",
     "shell.execute_reply": "2022-08-31T13:39:41.525236Z"
    },
    "papermill": {
     "duration": 0.037372,
     "end_time": "2022-08-31T13:39:41.527728",
     "exception": false,
     "start_time": "2022-08-31T13:39:41.490356",
     "status": "completed"
    },
    "tags": []
   },
   "outputs": [
    {
     "data": {
      "text/plain": [
       "'LV percentile: 0.01'"
      ]
     },
     "metadata": {},
     "output_type": "display_data"
    }
   ],
   "source": [
    "if LV_PERCENTILE is not None:\n",
    "    LV_PERCENTILE = float(LV_PERCENTILE)\n",
    "\n",
    "display(f\"LV percentile: {LV_PERCENTILE}\")"
   ]
  },
  {
   "cell_type": "code",
   "execution_count": 11,
   "id": "b3320631-6bf0-4878-85d4-9a81497c0b3c",
   "metadata": {
    "execution": {
     "iopub.execute_input": "2022-08-31T13:39:41.547802Z",
     "iopub.status.busy": "2022-08-31T13:39:41.547596Z",
     "iopub.status.idle": "2022-08-31T13:39:41.574566Z",
     "shell.execute_reply": "2022-08-31T13:39:41.573958Z"
    },
    "papermill": {
     "duration": 0.039131,
     "end_time": "2022-08-31T13:39:41.576488",
     "exception": false,
     "start_time": "2022-08-31T13:39:41.537357",
     "status": "completed"
    },
    "tags": []
   },
   "outputs": [
    {
     "data": {
      "text/plain": [
       "'Using output dir base: /project/ritchie20/projects/phenoplier/base/results/gls/gene_corrs/cohorts/emerge/gtex_v8/mashr'"
      ]
     },
     "metadata": {},
     "output_type": "display_data"
    }
   ],
   "source": [
    "OUTPUT_DIR_BASE = (\n",
    "    conf.RESULTS[\"GLS\"]\n",
    "    / \"gene_corrs\"\n",
    "    / \"cohorts\"\n",
    "    / COHORT_NAME.lower()\n",
    "    / REFERENCE_PANEL.lower()\n",
    "    / EQTL_MODEL.lower()\n",
    ")\n",
    "OUTPUT_DIR_BASE.mkdir(parents=True, exist_ok=True)\n",
    "\n",
    "display(f\"Using output dir base: {OUTPUT_DIR_BASE}\")"
   ]
  },
  {
   "cell_type": "markdown",
   "id": "99ccb166",
   "metadata": {
    "papermill": {
     "duration": 0.008966,
     "end_time": "2022-08-31T13:39:41.594546",
     "exception": false,
     "start_time": "2022-08-31T13:39:41.585580",
     "status": "completed"
    },
    "tags": []
   },
   "source": [
    "# Load data"
   ]
  },
  {
   "cell_type": "markdown",
   "id": "d5262187-494c-4399-8b71-cbbc3e20a9df",
   "metadata": {
    "papermill": {
     "duration": 0.008912,
     "end_time": "2022-08-31T13:39:41.612399",
     "exception": false,
     "start_time": "2022-08-31T13:39:41.603487",
     "status": "completed"
    },
    "tags": []
   },
   "source": [
    "## Gene correlations"
   ]
  },
  {
   "cell_type": "code",
   "execution_count": 12,
   "id": "2f174f95-2be3-4b63-95fb-451413ad361d",
   "metadata": {
    "execution": {
     "iopub.execute_input": "2022-08-31T13:39:41.632430Z",
     "iopub.status.busy": "2022-08-31T13:39:41.632223Z",
     "iopub.status.idle": "2022-08-31T13:39:41.666231Z",
     "shell.execute_reply": "2022-08-31T13:39:41.665631Z"
    },
    "papermill": {
     "duration": 0.046875,
     "end_time": "2022-08-31T13:39:41.668102",
     "exception": false,
     "start_time": "2022-08-31T13:39:41.621227",
     "status": "completed"
    },
    "tags": []
   },
   "outputs": [
    {
     "data": {
      "text/plain": [
       "[PosixPath('/project/ritchie20/projects/phenoplier/base/results/gls/gene_corrs/cohorts/emerge/gtex_v8/mashr/gene_corrs-symbols.pkl'),\n",
       " PosixPath('/project/ritchie20/projects/phenoplier/base/results/gls/gene_corrs/cohorts/emerge/gtex_v8/mashr/gene_corrs-symbols-within_distance_10mb.pkl'),\n",
       " PosixPath('/project/ritchie20/projects/phenoplier/base/results/gls/gene_corrs/cohorts/emerge/gtex_v8/mashr/gene_corrs-symbols-within_distance_5mb.pkl'),\n",
       " PosixPath('/project/ritchie20/projects/phenoplier/base/results/gls/gene_corrs/cohorts/emerge/gtex_v8/mashr/gene_corrs-symbols-within_distance_2mb.pkl')]"
      ]
     },
     "metadata": {},
     "output_type": "display_data"
    }
   ],
   "source": [
    "input_files = list(OUTPUT_DIR_BASE.glob(\"gene_corrs-symbols*.pkl\"))\n",
    "display(input_files)\n",
    "assert len(input_files) > 0, \"No input correlation files\""
   ]
  },
  {
   "cell_type": "code",
   "execution_count": 13,
   "id": "e6838c80-57e3-4a7a-8ee1-ed5948645508",
   "metadata": {
    "execution": {
     "iopub.execute_input": "2022-08-31T13:39:41.686545Z",
     "iopub.status.busy": "2022-08-31T13:39:41.686339Z",
     "iopub.status.idle": "2022-08-31T13:39:42.230768Z",
     "shell.execute_reply": "2022-08-31T13:39:42.230168Z"
    },
    "papermill": {
     "duration": 0.556372,
     "end_time": "2022-08-31T13:39:42.232867",
     "exception": false,
     "start_time": "2022-08-31T13:39:41.676495",
     "status": "completed"
    },
    "tags": []
   },
   "outputs": [],
   "source": [
    "# load correlation matrix\n",
    "gene_corrs_dict = {f.name: pd.read_pickle(f) for f in input_files}"
   ]
  },
  {
   "cell_type": "code",
   "execution_count": 14,
   "id": "b9db5c98-a8aa-4e31-b25d-2b9ee16a2182",
   "metadata": {
    "execution": {
     "iopub.execute_input": "2022-08-31T13:39:42.252047Z",
     "iopub.status.busy": "2022-08-31T13:39:42.251826Z",
     "iopub.status.idle": "2022-08-31T13:39:42.275108Z",
     "shell.execute_reply": "2022-08-31T13:39:42.274495Z"
    },
    "papermill": {
     "duration": 0.035139,
     "end_time": "2022-08-31T13:39:42.276948",
     "exception": false,
     "start_time": "2022-08-31T13:39:42.241809",
     "status": "completed"
    },
    "tags": []
   },
   "outputs": [],
   "source": [
    "orig_corr_name = \"gene_corrs-symbols.pkl\""
   ]
  },
  {
   "cell_type": "code",
   "execution_count": 15,
   "id": "981b0c08-4217-4d0b-b0f7-57c8cf015055",
   "metadata": {
    "execution": {
     "iopub.execute_input": "2022-08-31T13:39:42.295766Z",
     "iopub.status.busy": "2022-08-31T13:39:42.295558Z",
     "iopub.status.idle": "2022-08-31T13:39:42.321637Z",
     "shell.execute_reply": "2022-08-31T13:39:42.321059Z"
    },
    "papermill": {
     "duration": 0.037581,
     "end_time": "2022-08-31T13:39:42.323483",
     "exception": false,
     "start_time": "2022-08-31T13:39:42.285902",
     "status": "completed"
    },
    "tags": []
   },
   "outputs": [
    {
     "data": {
      "text/plain": [
       "(6425, 6425)"
      ]
     },
     "execution_count": 15,
     "metadata": {},
     "output_type": "execute_result"
    }
   ],
   "source": [
    "gene_corrs_dict[orig_corr_name].shape"
   ]
  },
  {
   "cell_type": "code",
   "execution_count": 16,
   "id": "49fb8383-23fc-40d7-adf6-70f5770ee37f",
   "metadata": {
    "execution": {
     "iopub.execute_input": "2022-08-31T13:39:42.341938Z",
     "iopub.status.busy": "2022-08-31T13:39:42.341733Z",
     "iopub.status.idle": "2022-08-31T13:39:42.389548Z",
     "shell.execute_reply": "2022-08-31T13:39:42.388942Z"
    },
    "papermill": {
     "duration": 0.059348,
     "end_time": "2022-08-31T13:39:42.391420",
     "exception": false,
     "start_time": "2022-08-31T13:39:42.332072",
     "status": "completed"
    },
    "tags": []
   },
   "outputs": [
    {
     "data": {
      "text/html": [
       "<div>\n",
       "<style scoped>\n",
       "    .dataframe tbody tr th:only-of-type {\n",
       "        vertical-align: middle;\n",
       "    }\n",
       "\n",
       "    .dataframe tbody tr th {\n",
       "        vertical-align: top;\n",
       "    }\n",
       "\n",
       "    .dataframe thead th {\n",
       "        text-align: right;\n",
       "    }\n",
       "</style>\n",
       "<table border=\"1\" class=\"dataframe\">\n",
       "  <thead>\n",
       "    <tr style=\"text-align: right;\">\n",
       "      <th></th>\n",
       "      <th>NOC2L</th>\n",
       "      <th>HES4</th>\n",
       "      <th>ISG15</th>\n",
       "      <th>AGRN</th>\n",
       "      <th>TNFRSF18</th>\n",
       "      <th>TNFRSF4</th>\n",
       "      <th>B3GALT6</th>\n",
       "      <th>UBE2J2</th>\n",
       "      <th>ACAP3</th>\n",
       "      <th>TAS1R3</th>\n",
       "      <th>...</th>\n",
       "      <th>PLXNB2</th>\n",
       "      <th>ADM2</th>\n",
       "      <th>MIOX</th>\n",
       "      <th>SCO2</th>\n",
       "      <th>TYMP</th>\n",
       "      <th>CPT1B</th>\n",
       "      <th>CHKB</th>\n",
       "      <th>MAPK8IP2</th>\n",
       "      <th>ARSA</th>\n",
       "      <th>SHANK3</th>\n",
       "    </tr>\n",
       "  </thead>\n",
       "  <tbody>\n",
       "    <tr>\n",
       "      <th>NOC2L</th>\n",
       "      <td>1.000000</td>\n",
       "      <td>0.120590</td>\n",
       "      <td>0.177063</td>\n",
       "      <td>0.085746</td>\n",
       "      <td>0.006792</td>\n",
       "      <td>0.007685</td>\n",
       "      <td>0.004673</td>\n",
       "      <td>0.010734</td>\n",
       "      <td>0.011200</td>\n",
       "      <td>0.007529</td>\n",
       "      <td>...</td>\n",
       "      <td>0.0</td>\n",
       "      <td>0.0</td>\n",
       "      <td>0.0</td>\n",
       "      <td>0.0</td>\n",
       "      <td>0.0</td>\n",
       "      <td>0.0</td>\n",
       "      <td>0.0</td>\n",
       "      <td>0.0</td>\n",
       "      <td>0.0</td>\n",
       "      <td>0.0</td>\n",
       "    </tr>\n",
       "    <tr>\n",
       "      <th>HES4</th>\n",
       "      <td>0.120590</td>\n",
       "      <td>1.000000</td>\n",
       "      <td>0.672060</td>\n",
       "      <td>0.391127</td>\n",
       "      <td>0.011695</td>\n",
       "      <td>0.009275</td>\n",
       "      <td>0.005970</td>\n",
       "      <td>0.007385</td>\n",
       "      <td>0.002641</td>\n",
       "      <td>0.004767</td>\n",
       "      <td>...</td>\n",
       "      <td>0.0</td>\n",
       "      <td>0.0</td>\n",
       "      <td>0.0</td>\n",
       "      <td>0.0</td>\n",
       "      <td>0.0</td>\n",
       "      <td>0.0</td>\n",
       "      <td>0.0</td>\n",
       "      <td>0.0</td>\n",
       "      <td>0.0</td>\n",
       "      <td>0.0</td>\n",
       "    </tr>\n",
       "    <tr>\n",
       "      <th>ISG15</th>\n",
       "      <td>0.177063</td>\n",
       "      <td>0.672060</td>\n",
       "      <td>1.000000</td>\n",
       "      <td>0.424696</td>\n",
       "      <td>0.013929</td>\n",
       "      <td>0.013311</td>\n",
       "      <td>0.008466</td>\n",
       "      <td>0.010608</td>\n",
       "      <td>0.006689</td>\n",
       "      <td>0.011659</td>\n",
       "      <td>...</td>\n",
       "      <td>0.0</td>\n",
       "      <td>0.0</td>\n",
       "      <td>0.0</td>\n",
       "      <td>0.0</td>\n",
       "      <td>0.0</td>\n",
       "      <td>0.0</td>\n",
       "      <td>0.0</td>\n",
       "      <td>0.0</td>\n",
       "      <td>0.0</td>\n",
       "      <td>0.0</td>\n",
       "    </tr>\n",
       "    <tr>\n",
       "      <th>AGRN</th>\n",
       "      <td>0.085746</td>\n",
       "      <td>0.391127</td>\n",
       "      <td>0.424696</td>\n",
       "      <td>1.000000</td>\n",
       "      <td>0.005309</td>\n",
       "      <td>0.011848</td>\n",
       "      <td>0.002161</td>\n",
       "      <td>0.002535</td>\n",
       "      <td>0.005359</td>\n",
       "      <td>0.007012</td>\n",
       "      <td>...</td>\n",
       "      <td>0.0</td>\n",
       "      <td>0.0</td>\n",
       "      <td>0.0</td>\n",
       "      <td>0.0</td>\n",
       "      <td>0.0</td>\n",
       "      <td>0.0</td>\n",
       "      <td>0.0</td>\n",
       "      <td>0.0</td>\n",
       "      <td>0.0</td>\n",
       "      <td>0.0</td>\n",
       "    </tr>\n",
       "    <tr>\n",
       "      <th>TNFRSF18</th>\n",
       "      <td>0.006792</td>\n",
       "      <td>0.011695</td>\n",
       "      <td>0.013929</td>\n",
       "      <td>0.005309</td>\n",
       "      <td>1.000000</td>\n",
       "      <td>0.338085</td>\n",
       "      <td>0.550817</td>\n",
       "      <td>0.154394</td>\n",
       "      <td>0.193627</td>\n",
       "      <td>0.101004</td>\n",
       "      <td>...</td>\n",
       "      <td>0.0</td>\n",
       "      <td>0.0</td>\n",
       "      <td>0.0</td>\n",
       "      <td>0.0</td>\n",
       "      <td>0.0</td>\n",
       "      <td>0.0</td>\n",
       "      <td>0.0</td>\n",
       "      <td>0.0</td>\n",
       "      <td>0.0</td>\n",
       "      <td>0.0</td>\n",
       "    </tr>\n",
       "  </tbody>\n",
       "</table>\n",
       "<p>5 rows × 6425 columns</p>\n",
       "</div>"
      ],
      "text/plain": [
       "             NOC2L      HES4     ISG15      AGRN  TNFRSF18   TNFRSF4  \\\n",
       "NOC2L     1.000000  0.120590  0.177063  0.085746  0.006792  0.007685   \n",
       "HES4      0.120590  1.000000  0.672060  0.391127  0.011695  0.009275   \n",
       "ISG15     0.177063  0.672060  1.000000  0.424696  0.013929  0.013311   \n",
       "AGRN      0.085746  0.391127  0.424696  1.000000  0.005309  0.011848   \n",
       "TNFRSF18  0.006792  0.011695  0.013929  0.005309  1.000000  0.338085   \n",
       "\n",
       "           B3GALT6    UBE2J2     ACAP3    TAS1R3  ...  PLXNB2  ADM2  MIOX  \\\n",
       "NOC2L     0.004673  0.010734  0.011200  0.007529  ...     0.0   0.0   0.0   \n",
       "HES4      0.005970  0.007385  0.002641  0.004767  ...     0.0   0.0   0.0   \n",
       "ISG15     0.008466  0.010608  0.006689  0.011659  ...     0.0   0.0   0.0   \n",
       "AGRN      0.002161  0.002535  0.005359  0.007012  ...     0.0   0.0   0.0   \n",
       "TNFRSF18  0.550817  0.154394  0.193627  0.101004  ...     0.0   0.0   0.0   \n",
       "\n",
       "          SCO2  TYMP  CPT1B  CHKB  MAPK8IP2  ARSA  SHANK3  \n",
       "NOC2L      0.0   0.0    0.0   0.0       0.0   0.0     0.0  \n",
       "HES4       0.0   0.0    0.0   0.0       0.0   0.0     0.0  \n",
       "ISG15      0.0   0.0    0.0   0.0       0.0   0.0     0.0  \n",
       "AGRN       0.0   0.0    0.0   0.0       0.0   0.0     0.0  \n",
       "TNFRSF18   0.0   0.0    0.0   0.0       0.0   0.0     0.0  \n",
       "\n",
       "[5 rows x 6425 columns]"
      ]
     },
     "execution_count": 16,
     "metadata": {},
     "output_type": "execute_result"
    }
   ],
   "source": [
    "gene_corrs_dict[orig_corr_name].head()"
   ]
  },
  {
   "cell_type": "code",
   "execution_count": 17,
   "id": "4fb66ba4-9fd3-4dc5-9538-eadd5e9f81c7",
   "metadata": {
    "execution": {
     "iopub.execute_input": "2022-08-31T13:39:42.410057Z",
     "iopub.status.busy": "2022-08-31T13:39:42.409842Z",
     "iopub.status.idle": "2022-08-31T13:39:42.435027Z",
     "shell.execute_reply": "2022-08-31T13:39:42.434429Z"
    },
    "papermill": {
     "duration": 0.037137,
     "end_time": "2022-08-31T13:39:42.437133",
     "exception": false,
     "start_time": "2022-08-31T13:39:42.399996",
     "status": "completed"
    },
    "tags": []
   },
   "outputs": [],
   "source": [
    "current_index = gene_corrs_dict[orig_corr_name].index\n",
    "assert all(\n",
    "    [current_index.equals(gc.index) for k, gc in gene_corrs_dict.items()]\n",
    "), \"Correlation matrices are not compatible\""
   ]
  },
  {
   "cell_type": "markdown",
   "id": "46ae0b3e",
   "metadata": {
    "papermill": {
     "duration": 0.008318,
     "end_time": "2022-08-31T13:39:42.454310",
     "exception": false,
     "start_time": "2022-08-31T13:39:42.445992",
     "status": "completed"
    },
    "tags": []
   },
   "source": [
    "## MultiPLIER Z"
   ]
  },
  {
   "cell_type": "code",
   "execution_count": 18,
   "id": "d38d9749",
   "metadata": {
    "execution": {
     "iopub.execute_input": "2022-08-31T13:39:42.473728Z",
     "iopub.status.busy": "2022-08-31T13:39:42.473520Z",
     "iopub.status.idle": "2022-08-31T13:39:42.522023Z",
     "shell.execute_reply": "2022-08-31T13:39:42.521421Z"
    },
    "papermill": {
     "duration": 0.060405,
     "end_time": "2022-08-31T13:39:42.524138",
     "exception": false,
     "start_time": "2022-08-31T13:39:42.463733",
     "status": "completed"
    },
    "tags": []
   },
   "outputs": [],
   "source": [
    "multiplier_z = pd.read_pickle(conf.MULTIPLIER[\"MODEL_Z_MATRIX_FILE\"])"
   ]
  },
  {
   "cell_type": "code",
   "execution_count": 19,
   "id": "67e93797",
   "metadata": {
    "execution": {
     "iopub.execute_input": "2022-08-31T13:39:42.543395Z",
     "iopub.status.busy": "2022-08-31T13:39:42.543186Z",
     "iopub.status.idle": "2022-08-31T13:39:42.568929Z",
     "shell.execute_reply": "2022-08-31T13:39:42.568340Z"
    },
    "papermill": {
     "duration": 0.037586,
     "end_time": "2022-08-31T13:39:42.570824",
     "exception": false,
     "start_time": "2022-08-31T13:39:42.533238",
     "status": "completed"
    },
    "tags": []
   },
   "outputs": [
    {
     "data": {
      "text/plain": [
       "(6750, 987)"
      ]
     },
     "execution_count": 19,
     "metadata": {},
     "output_type": "execute_result"
    }
   ],
   "source": [
    "multiplier_z.shape"
   ]
  },
  {
   "cell_type": "code",
   "execution_count": 20,
   "id": "e1ba1ead",
   "metadata": {
    "execution": {
     "iopub.execute_input": "2022-08-31T13:39:42.590649Z",
     "iopub.status.busy": "2022-08-31T13:39:42.590442Z",
     "iopub.status.idle": "2022-08-31T13:39:42.633194Z",
     "shell.execute_reply": "2022-08-31T13:39:42.632591Z"
    },
    "papermill": {
     "duration": 0.055003,
     "end_time": "2022-08-31T13:39:42.635065",
     "exception": false,
     "start_time": "2022-08-31T13:39:42.580062",
     "status": "completed"
    },
    "tags": []
   },
   "outputs": [
    {
     "data": {
      "text/html": [
       "<div>\n",
       "<style scoped>\n",
       "    .dataframe tbody tr th:only-of-type {\n",
       "        vertical-align: middle;\n",
       "    }\n",
       "\n",
       "    .dataframe tbody tr th {\n",
       "        vertical-align: top;\n",
       "    }\n",
       "\n",
       "    .dataframe thead th {\n",
       "        text-align: right;\n",
       "    }\n",
       "</style>\n",
       "<table border=\"1\" class=\"dataframe\">\n",
       "  <thead>\n",
       "    <tr style=\"text-align: right;\">\n",
       "      <th></th>\n",
       "      <th>LV1</th>\n",
       "      <th>LV2</th>\n",
       "      <th>LV3</th>\n",
       "      <th>LV4</th>\n",
       "      <th>LV5</th>\n",
       "      <th>LV6</th>\n",
       "      <th>LV7</th>\n",
       "      <th>LV8</th>\n",
       "      <th>LV9</th>\n",
       "      <th>LV10</th>\n",
       "      <th>...</th>\n",
       "      <th>LV978</th>\n",
       "      <th>LV979</th>\n",
       "      <th>LV980</th>\n",
       "      <th>LV981</th>\n",
       "      <th>LV982</th>\n",
       "      <th>LV983</th>\n",
       "      <th>LV984</th>\n",
       "      <th>LV985</th>\n",
       "      <th>LV986</th>\n",
       "      <th>LV987</th>\n",
       "    </tr>\n",
       "  </thead>\n",
       "  <tbody>\n",
       "    <tr>\n",
       "      <th>GAS6</th>\n",
       "      <td>0.000000</td>\n",
       "      <td>0.0</td>\n",
       "      <td>0.039438</td>\n",
       "      <td>0.0</td>\n",
       "      <td>0.050476</td>\n",
       "      <td>0.000000</td>\n",
       "      <td>0.0</td>\n",
       "      <td>0.000000</td>\n",
       "      <td>0.590949</td>\n",
       "      <td>0.000000</td>\n",
       "      <td>...</td>\n",
       "      <td>0.050125</td>\n",
       "      <td>0.00000</td>\n",
       "      <td>0.033407</td>\n",
       "      <td>0.000000</td>\n",
       "      <td>0.000000</td>\n",
       "      <td>0.005963</td>\n",
       "      <td>0.347362</td>\n",
       "      <td>0.0</td>\n",
       "      <td>0.000000</td>\n",
       "      <td>0.000000</td>\n",
       "    </tr>\n",
       "    <tr>\n",
       "      <th>MMP14</th>\n",
       "      <td>0.000000</td>\n",
       "      <td>0.0</td>\n",
       "      <td>0.000000</td>\n",
       "      <td>0.0</td>\n",
       "      <td>0.070072</td>\n",
       "      <td>0.000000</td>\n",
       "      <td>0.0</td>\n",
       "      <td>0.004904</td>\n",
       "      <td>1.720179</td>\n",
       "      <td>2.423595</td>\n",
       "      <td>...</td>\n",
       "      <td>0.000000</td>\n",
       "      <td>0.00000</td>\n",
       "      <td>0.001007</td>\n",
       "      <td>0.000000</td>\n",
       "      <td>0.035747</td>\n",
       "      <td>0.000000</td>\n",
       "      <td>0.000000</td>\n",
       "      <td>0.0</td>\n",
       "      <td>0.014978</td>\n",
       "      <td>0.000000</td>\n",
       "    </tr>\n",
       "    <tr>\n",
       "      <th>DSP</th>\n",
       "      <td>0.000000</td>\n",
       "      <td>0.0</td>\n",
       "      <td>0.000000</td>\n",
       "      <td>0.0</td>\n",
       "      <td>0.000000</td>\n",
       "      <td>0.041697</td>\n",
       "      <td>0.0</td>\n",
       "      <td>0.005718</td>\n",
       "      <td>0.000000</td>\n",
       "      <td>0.000000</td>\n",
       "      <td>...</td>\n",
       "      <td>0.020853</td>\n",
       "      <td>0.00000</td>\n",
       "      <td>0.000000</td>\n",
       "      <td>0.000000</td>\n",
       "      <td>0.000000</td>\n",
       "      <td>0.005774</td>\n",
       "      <td>0.000000</td>\n",
       "      <td>0.0</td>\n",
       "      <td>0.000000</td>\n",
       "      <td>0.416405</td>\n",
       "    </tr>\n",
       "    <tr>\n",
       "      <th>MARCKSL1</th>\n",
       "      <td>0.305212</td>\n",
       "      <td>0.0</td>\n",
       "      <td>0.000000</td>\n",
       "      <td>0.0</td>\n",
       "      <td>0.000000</td>\n",
       "      <td>0.000000</td>\n",
       "      <td>0.0</td>\n",
       "      <td>0.000000</td>\n",
       "      <td>0.161843</td>\n",
       "      <td>0.149471</td>\n",
       "      <td>...</td>\n",
       "      <td>0.027134</td>\n",
       "      <td>0.05272</td>\n",
       "      <td>0.000000</td>\n",
       "      <td>0.030189</td>\n",
       "      <td>0.060884</td>\n",
       "      <td>0.000000</td>\n",
       "      <td>0.000000</td>\n",
       "      <td>0.0</td>\n",
       "      <td>0.000000</td>\n",
       "      <td>0.448480</td>\n",
       "    </tr>\n",
       "    <tr>\n",
       "      <th>SPARC</th>\n",
       "      <td>0.000000</td>\n",
       "      <td>0.0</td>\n",
       "      <td>0.000000</td>\n",
       "      <td>0.0</td>\n",
       "      <td>0.000000</td>\n",
       "      <td>0.000000</td>\n",
       "      <td>0.0</td>\n",
       "      <td>0.000000</td>\n",
       "      <td>0.000000</td>\n",
       "      <td>0.014014</td>\n",
       "      <td>...</td>\n",
       "      <td>0.000000</td>\n",
       "      <td>0.00000</td>\n",
       "      <td>0.000000</td>\n",
       "      <td>0.000000</td>\n",
       "      <td>0.000000</td>\n",
       "      <td>0.000000</td>\n",
       "      <td>0.067779</td>\n",
       "      <td>0.0</td>\n",
       "      <td>0.122417</td>\n",
       "      <td>0.062665</td>\n",
       "    </tr>\n",
       "  </tbody>\n",
       "</table>\n",
       "<p>5 rows × 987 columns</p>\n",
       "</div>"
      ],
      "text/plain": [
       "               LV1  LV2       LV3  LV4       LV5       LV6  LV7       LV8  \\\n",
       "GAS6      0.000000  0.0  0.039438  0.0  0.050476  0.000000  0.0  0.000000   \n",
       "MMP14     0.000000  0.0  0.000000  0.0  0.070072  0.000000  0.0  0.004904   \n",
       "DSP       0.000000  0.0  0.000000  0.0  0.000000  0.041697  0.0  0.005718   \n",
       "MARCKSL1  0.305212  0.0  0.000000  0.0  0.000000  0.000000  0.0  0.000000   \n",
       "SPARC     0.000000  0.0  0.000000  0.0  0.000000  0.000000  0.0  0.000000   \n",
       "\n",
       "               LV9      LV10  ...     LV978    LV979     LV980     LV981  \\\n",
       "GAS6      0.590949  0.000000  ...  0.050125  0.00000  0.033407  0.000000   \n",
       "MMP14     1.720179  2.423595  ...  0.000000  0.00000  0.001007  0.000000   \n",
       "DSP       0.000000  0.000000  ...  0.020853  0.00000  0.000000  0.000000   \n",
       "MARCKSL1  0.161843  0.149471  ...  0.027134  0.05272  0.000000  0.030189   \n",
       "SPARC     0.000000  0.014014  ...  0.000000  0.00000  0.000000  0.000000   \n",
       "\n",
       "             LV982     LV983     LV984  LV985     LV986     LV987  \n",
       "GAS6      0.000000  0.005963  0.347362    0.0  0.000000  0.000000  \n",
       "MMP14     0.035747  0.000000  0.000000    0.0  0.014978  0.000000  \n",
       "DSP       0.000000  0.005774  0.000000    0.0  0.000000  0.416405  \n",
       "MARCKSL1  0.060884  0.000000  0.000000    0.0  0.000000  0.448480  \n",
       "SPARC     0.000000  0.000000  0.067779    0.0  0.122417  0.062665  \n",
       "\n",
       "[5 rows x 987 columns]"
      ]
     },
     "execution_count": 20,
     "metadata": {},
     "output_type": "execute_result"
    }
   ],
   "source": [
    "multiplier_z.head()"
   ]
  },
  {
   "cell_type": "markdown",
   "id": "f4d4f177",
   "metadata": {
    "papermill": {
     "duration": 0.009077,
     "end_time": "2022-08-31T13:39:42.653679",
     "exception": false,
     "start_time": "2022-08-31T13:39:42.644602",
     "status": "completed"
    },
    "tags": []
   },
   "source": [
    "# Compute inverse correlation matrix for each LV"
   ]
  },
  {
   "cell_type": "code",
   "execution_count": 21,
   "id": "6f604dfc-91b4-4e2e-b848-6099fed0b44e",
   "metadata": {
    "execution": {
     "iopub.execute_input": "2022-08-31T13:39:42.674520Z",
     "iopub.status.busy": "2022-08-31T13:39:42.674314Z",
     "iopub.status.idle": "2022-08-31T13:39:42.697780Z",
     "shell.execute_reply": "2022-08-31T13:39:42.697185Z"
    },
    "papermill": {
     "duration": 0.036846,
     "end_time": "2022-08-31T13:39:42.699923",
     "exception": false,
     "start_time": "2022-08-31T13:39:42.663077",
     "status": "completed"
    },
    "tags": []
   },
   "outputs": [],
   "source": [
    "def exists_df(output_dir, base_filename):\n",
    "    full_filepath = output_dir / (base_filename + \".npz\")\n",
    "\n",
    "    return full_filepath.exists()"
   ]
  },
  {
   "cell_type": "code",
   "execution_count": 22,
   "id": "f5bd311e-e0f0-424e-8384-763f4bf7e21c",
   "metadata": {
    "execution": {
     "iopub.execute_input": "2022-08-31T13:39:42.720301Z",
     "iopub.status.busy": "2022-08-31T13:39:42.720096Z",
     "iopub.status.idle": "2022-08-31T13:39:42.744332Z",
     "shell.execute_reply": "2022-08-31T13:39:42.743727Z"
    },
    "papermill": {
     "duration": 0.037259,
     "end_time": "2022-08-31T13:39:42.746468",
     "exception": false,
     "start_time": "2022-08-31T13:39:42.709209",
     "status": "completed"
    },
    "tags": []
   },
   "outputs": [],
   "source": [
    "def store_df(output_dir, nparray, base_filename):\n",
    "    if base_filename in (\"metadata\", \"gene_names\"):\n",
    "        np.savez_compressed(output_dir / (base_filename + \".npz\"), data=nparray)\n",
    "    else:\n",
    "        sparse.save_npz(\n",
    "            output_dir / (base_filename + \".npz\"),\n",
    "            sparse.csc_matrix(nparray),\n",
    "            compressed=False,\n",
    "        )"
   ]
  },
  {
   "cell_type": "code",
   "execution_count": 23,
   "id": "3f6edd17-2654-4957-a592-361f74ec96df",
   "metadata": {
    "execution": {
     "iopub.execute_input": "2022-08-31T13:39:42.767095Z",
     "iopub.status.busy": "2022-08-31T13:39:42.766880Z",
     "iopub.status.idle": "2022-08-31T13:39:42.790361Z",
     "shell.execute_reply": "2022-08-31T13:39:42.789768Z"
    },
    "papermill": {
     "duration": 0.036341,
     "end_time": "2022-08-31T13:39:42.792462",
     "exception": false,
     "start_time": "2022-08-31T13:39:42.756121",
     "status": "completed"
    },
    "tags": []
   },
   "outputs": [],
   "source": [
    "def get_output_dir(gene_corr_filename):\n",
    "    path = OUTPUT_DIR_BASE / gene_corr_filename\n",
    "    assert path.exists()\n",
    "    return path.with_suffix(\".per_lv\")"
   ]
  },
  {
   "cell_type": "code",
   "execution_count": 24,
   "id": "39bf4643",
   "metadata": {
    "execution": {
     "iopub.execute_input": "2022-08-31T13:39:42.813018Z",
     "iopub.status.busy": "2022-08-31T13:39:42.812805Z",
     "iopub.status.idle": "2022-08-31T13:39:42.840461Z",
     "shell.execute_reply": "2022-08-31T13:39:42.839868Z"
    },
    "papermill": {
     "duration": 0.04035,
     "end_time": "2022-08-31T13:39:42.842570",
     "exception": false,
     "start_time": "2022-08-31T13:39:42.802220",
     "status": "completed"
    },
    "tags": []
   },
   "outputs": [],
   "source": [
    "def compute_chol_inv(lv_codes):\n",
    "    for gene_corr_filename, gene_corrs in gene_corrs_dict.items():\n",
    "        output_dir = get_output_dir(gene_corr_filename)\n",
    "        output_dir.mkdir(parents=True, exist_ok=True)\n",
    "        display(f\"Output dir: {str(output_dir)}\")\n",
    "\n",
    "        # save LV chol inverse\n",
    "        for lv_code in lv_codes:\n",
    "            lv_data = multiplier_z[lv_code]\n",
    "\n",
    "            corr_mat_sub = GLSPhenoplier.get_sub_mat(gene_corrs, lv_data, LV_PERCENTILE)\n",
    "            store_df(output_dir, corr_mat_sub.to_numpy(), f\"{lv_code}_corr_mat\")\n",
    "\n",
    "            chol_mat = np.linalg.cholesky(corr_mat_sub)\n",
    "            chol_inv = np.linalg.inv(chol_mat)\n",
    "\n",
    "            store_df(output_dir, chol_inv, lv_code)\n",
    "\n",
    "        # save metadata\n",
    "        if not exists_df(output_dir, \"metadata\"):\n",
    "            metadata = np.array([REFERENCE_PANEL, EQTL_MODEL])\n",
    "            store_df(output_dir, metadata, \"metadata\")\n",
    "        else:\n",
    "            display(\"Metadata file already exists\")\n",
    "\n",
    "        # save gene names\n",
    "        if not exists_df(output_dir, \"gene_names\"):\n",
    "            gene_names = np.array(gene_corrs.index.tolist())\n",
    "            store_df(output_dir, gene_names, \"gene_names\")\n",
    "        else:\n",
    "            display(\"Gene names file already exists\")"
   ]
  },
  {
   "cell_type": "code",
   "execution_count": 25,
   "id": "e605c772-15c3-43e0-850b-1bc81bef2dcc",
   "metadata": {
    "execution": {
     "iopub.execute_input": "2022-08-31T13:39:42.865286Z",
     "iopub.status.busy": "2022-08-31T13:39:42.865078Z",
     "iopub.status.idle": "2022-08-31T13:39:42.888313Z",
     "shell.execute_reply": "2022-08-31T13:39:42.887714Z"
    },
    "papermill": {
     "duration": 0.036699,
     "end_time": "2022-08-31T13:39:42.890492",
     "exception": false,
     "start_time": "2022-08-31T13:39:42.853793",
     "status": "completed"
    },
    "tags": []
   },
   "outputs": [],
   "source": [
    "# divide LVs in chunks for parallel processing\n",
    "# lvs_chunks = list(chunker(list(multiplier_z.columns), 50))\n",
    "lvs_chunks = [[LV_CODE]]"
   ]
  },
  {
   "cell_type": "code",
   "execution_count": 26,
   "id": "e2511bd6-73c2-4f92-9fb4-ee6ad5a2923f",
   "metadata": {
    "execution": {
     "iopub.execute_input": "2022-08-31T13:39:42.911077Z",
     "iopub.status.busy": "2022-08-31T13:39:42.910860Z",
     "iopub.status.idle": "2022-08-31T13:41:13.921064Z",
     "shell.execute_reply": "2022-08-31T13:41:13.920398Z"
    },
    "papermill": {
     "duration": 91.022586,
     "end_time": "2022-08-31T13:41:13.922802",
     "exception": false,
     "start_time": "2022-08-31T13:39:42.900216",
     "status": "completed"
    },
    "tags": []
   },
   "outputs": [
    {
     "name": "stderr",
     "output_type": "stream",
     "text": [
      "\r",
      "  0%|                                                                         | 0/1 [00:00<?, ?it/s]"
     ]
    },
    {
     "name": "stderr",
     "output_type": "stream",
     "text": [
      "[2022-08-31 09:39:43,039 - numexpr.utils] INFO: Note: NumExpr detected 28 cores but \"NUMEXPR_MAX_THREADS\" not set, so enforcing safe limit of 8.\n"
     ]
    },
    {
     "data": {
      "text/plain": [
       "'Metadata file already exists'"
      ]
     },
     "metadata": {},
     "output_type": "display_data"
    },
    {
     "data": {
      "text/plain": [
       "'Gene names file already exists'"
      ]
     },
     "metadata": {},
     "output_type": "display_data"
    },
    {
     "data": {
      "text/plain": [
       "'Output dir: /project/ritchie20/projects/phenoplier/base/results/gls/gene_corrs/cohorts/emerge/gtex_v8/mashr/gene_corrs-symbols-within_distance_10mb.per_lv'"
      ]
     },
     "metadata": {},
     "output_type": "display_data"
    },
    {
     "data": {
      "text/plain": [
       "'Metadata file already exists'"
      ]
     },
     "metadata": {},
     "output_type": "display_data"
    },
    {
     "data": {
      "text/plain": [
       "'Gene names file already exists'"
      ]
     },
     "metadata": {},
     "output_type": "display_data"
    },
    {
     "data": {
      "text/plain": [
       "'Output dir: /project/ritchie20/projects/phenoplier/base/results/gls/gene_corrs/cohorts/emerge/gtex_v8/mashr/gene_corrs-symbols-within_distance_5mb.per_lv'"
      ]
     },
     "metadata": {},
     "output_type": "display_data"
    },
    {
     "data": {
      "text/plain": [
       "'Metadata file already exists'"
      ]
     },
     "metadata": {},
     "output_type": "display_data"
    },
    {
     "data": {
      "text/plain": [
       "'Gene names file already exists'"
      ]
     },
     "metadata": {},
     "output_type": "display_data"
    },
    {
     "data": {
      "text/plain": [
       "'Output dir: /project/ritchie20/projects/phenoplier/base/results/gls/gene_corrs/cohorts/emerge/gtex_v8/mashr/gene_corrs-symbols-within_distance_2mb.per_lv'"
      ]
     },
     "metadata": {},
     "output_type": "display_data"
    },
    {
     "data": {
      "text/plain": [
       "'Metadata file already exists'"
      ]
     },
     "metadata": {},
     "output_type": "display_data"
    },
    {
     "data": {
      "text/plain": [
       "'Gene names file already exists'"
      ]
     },
     "metadata": {},
     "output_type": "display_data"
    },
    {
     "name": "stderr",
     "output_type": "stream",
     "text": [
      "\r",
      "100%|█████████████████████████████████████████████████████████████████| 1/1 [01:30<00:00, 90.97s/it]"
     ]
    },
    {
     "name": "stderr",
     "output_type": "stream",
     "text": [
      "\r",
      "100%|█████████████████████████████████████████████████████████████████| 1/1 [01:30<00:00, 90.97s/it]"
     ]
    },
    {
     "name": "stderr",
     "output_type": "stream",
     "text": [
      "\n"
     ]
    }
   ],
   "source": [
    "with ProcessPoolExecutor(max_workers=N_JOBS) as executor, tqdm(\n",
    "    total=len(lvs_chunks), ncols=100\n",
    ") as pbar:\n",
    "    tasks = [executor.submit(compute_chol_inv, chunk) for chunk in lvs_chunks]\n",
    "    for future in as_completed(tasks):\n",
    "        res = future.result()\n",
    "        pbar.update(1)"
   ]
  },
  {
   "cell_type": "markdown",
   "id": "1169db4b-9af2-4d3c-a27a-198d7730fa67",
   "metadata": {
    "papermill": {
     "duration": 0.010122,
     "end_time": "2022-08-31T13:41:13.944312",
     "exception": false,
     "start_time": "2022-08-31T13:41:13.934190",
     "status": "completed"
    },
    "tags": []
   },
   "source": [
    "## Some checks"
   ]
  },
  {
   "cell_type": "code",
   "execution_count": 27,
   "id": "02e6758b-9e64-4829-bc64-ca0b08221d13",
   "metadata": {
    "execution": {
     "iopub.execute_input": "2022-08-31T13:41:13.965953Z",
     "iopub.status.busy": "2022-08-31T13:41:13.965739Z",
     "iopub.status.idle": "2022-08-31T13:41:13.991161Z",
     "shell.execute_reply": "2022-08-31T13:41:13.990588Z"
    },
    "papermill": {
     "duration": 0.038616,
     "end_time": "2022-08-31T13:41:13.993040",
     "exception": false,
     "start_time": "2022-08-31T13:41:13.954424",
     "status": "completed"
    },
    "tags": []
   },
   "outputs": [],
   "source": [
    "def load_df(output_dir, base_filename):\n",
    "    full_filepath = output_dir / (base_filename + \".npz\")\n",
    "\n",
    "    if base_filename in (\"metadata\", \"gene_names\"):\n",
    "        return np.load(full_filepath)[\"data\"]\n",
    "    else:\n",
    "        return sparse.load_npz(full_filepath).toarray()"
   ]
  },
  {
   "cell_type": "code",
   "execution_count": 28,
   "id": "38cf09b7",
   "metadata": {
    "execution": {
     "iopub.execute_input": "2022-08-31T13:41:14.015050Z",
     "iopub.status.busy": "2022-08-31T13:41:14.014839Z",
     "iopub.status.idle": "2022-08-31T13:41:14.039777Z",
     "shell.execute_reply": "2022-08-31T13:41:14.039215Z"
    },
    "papermill": {
     "duration": 0.038114,
     "end_time": "2022-08-31T13:41:14.041756",
     "exception": false,
     "start_time": "2022-08-31T13:41:14.003642",
     "status": "completed"
    },
    "tags": []
   },
   "outputs": [],
   "source": [
    "_genes = load_df(get_output_dir(orig_corr_name), \"gene_names\")"
   ]
  },
  {
   "cell_type": "code",
   "execution_count": 29,
   "id": "407e202b-5d10-47c5-b751-0d7b79fc32b7",
   "metadata": {
    "execution": {
     "iopub.execute_input": "2022-08-31T13:41:14.064240Z",
     "iopub.status.busy": "2022-08-31T13:41:14.064046Z",
     "iopub.status.idle": "2022-08-31T13:41:14.088366Z",
     "shell.execute_reply": "2022-08-31T13:41:14.087822Z"
    },
    "papermill": {
     "duration": 0.037416,
     "end_time": "2022-08-31T13:41:14.089990",
     "exception": false,
     "start_time": "2022-08-31T13:41:14.052574",
     "status": "completed"
    },
    "tags": []
   },
   "outputs": [
    {
     "data": {
      "text/plain": [
       "6425"
      ]
     },
     "metadata": {},
     "output_type": "display_data"
    }
   ],
   "source": [
    "display(len(_genes))\n",
    "assert len(_genes) == gene_corrs_dict[orig_corr_name].index.shape[0]"
   ]
  },
  {
   "cell_type": "code",
   "execution_count": 30,
   "id": "e66abf5b-ba1b-4f16-96a6-a48e9e7035cc",
   "metadata": {
    "execution": {
     "iopub.execute_input": "2022-08-31T13:41:14.112446Z",
     "iopub.status.busy": "2022-08-31T13:41:14.112254Z",
     "iopub.status.idle": "2022-08-31T13:41:14.135207Z",
     "shell.execute_reply": "2022-08-31T13:41:14.134640Z"
    },
    "papermill": {
     "duration": 0.036291,
     "end_time": "2022-08-31T13:41:14.137016",
     "exception": false,
     "start_time": "2022-08-31T13:41:14.100725",
     "status": "completed"
    },
    "tags": []
   },
   "outputs": [],
   "source": [
    "_metadata = load_df(get_output_dir(orig_corr_name), \"metadata\")"
   ]
  },
  {
   "cell_type": "code",
   "execution_count": 31,
   "id": "c4a58892-1b3f-414e-b5c3-da63a0f0e387",
   "metadata": {
    "execution": {
     "iopub.execute_input": "2022-08-31T13:41:14.160078Z",
     "iopub.status.busy": "2022-08-31T13:41:14.159877Z",
     "iopub.status.idle": "2022-08-31T13:41:14.184468Z",
     "shell.execute_reply": "2022-08-31T13:41:14.183915Z"
    },
    "papermill": {
     "duration": 0.037687,
     "end_time": "2022-08-31T13:41:14.186135",
     "exception": false,
     "start_time": "2022-08-31T13:41:14.148448",
     "status": "completed"
    },
    "tags": []
   },
   "outputs": [
    {
     "data": {
      "text/plain": [
       "array(['GTEX_V8', 'MASHR'], dtype='<U7')"
      ]
     },
     "metadata": {},
     "output_type": "display_data"
    }
   ],
   "source": [
    "display(_metadata)\n",
    "assert _metadata[0] == REFERENCE_PANEL\n",
    "assert _metadata[1] == EQTL_MODEL"
   ]
  },
  {
   "cell_type": "markdown",
   "id": "5c2d7e97",
   "metadata": {
    "tags": [
     "papermill-error-cell-tag"
    ]
   },
   "source": [
    "<span id=\"papermill-error-cell\" style=\"color:red; font-family:Helvetica Neue, Helvetica, Arial, sans-serif; font-size:2em;\">Execution using papermill encountered an exception here and stopped:</span>"
   ]
  },
  {
   "cell_type": "code",
   "execution_count": 32,
   "id": "e488e3a4-000d-498b-a489-5a4b98ab32b7",
   "metadata": {
    "execution": {
     "iopub.execute_input": "2022-08-31T13:41:14.210080Z",
     "iopub.status.busy": "2022-08-31T13:41:14.209855Z",
     "iopub.status.idle": "2022-08-31T13:41:16.712448Z",
     "shell.execute_reply": "2022-08-31T13:41:16.710931Z"
    },
    "papermill": {
     "duration": 2.51599,
     "end_time": "2022-08-31T13:41:16.713672",
     "exception": true,
     "start_time": "2022-08-31T13:41:14.197682",
     "status": "failed"
    },
    "tags": []
   },
   "outputs": [
    {
     "data": {
      "text/plain": [
       "array([[1., 0., 0., ..., 0., 0., 0.],\n",
       "       [0., 1., 0., ..., 0., 0., 0.],\n",
       "       [0., 0., 1., ..., 0., 0., 0.],\n",
       "       ...,\n",
       "       [0., 0., 0., ..., 1., 0., 0.],\n",
       "       [0., 0., 0., ..., 0., 1., 0.],\n",
       "       [0., 0., 0., ..., 0., 0., 1.]])"
      ]
     },
     "metadata": {},
     "output_type": "display_data"
    },
    {
     "data": {
      "text/plain": [
       "array([[1., 0., 0., ..., 0., 0., 0.],\n",
       "       [0., 1., 0., ..., 0., 0., 0.],\n",
       "       [0., 0., 1., ..., 0., 0., 0.],\n",
       "       ...,\n",
       "       [0., 0., 0., ..., 1., 0., 0.],\n",
       "       [0., 0., 0., ..., 0., 1., 0.],\n",
       "       [0., 0., 0., ..., 0., 0., 1.]])"
      ]
     },
     "metadata": {},
     "output_type": "display_data"
    },
    {
     "data": {
      "text/plain": [
       "array([[1., 0., 0., ..., 0., 0., 0.],\n",
       "       [0., 1., 0., ..., 0., 0., 0.],\n",
       "       [0., 0., 1., ..., 0., 0., 0.],\n",
       "       ...,\n",
       "       [0., 0., 0., ..., 1., 0., 0.],\n",
       "       [0., 0., 0., ..., 0., 1., 0.],\n",
       "       [0., 0., 0., ..., 0., 0., 1.]])"
      ]
     },
     "metadata": {},
     "output_type": "display_data"
    },
    {
     "data": {
      "text/plain": [
       "array([[1., 0., 0., ..., 0., 0., 0.],\n",
       "       [0., 1., 0., ..., 0., 0., 0.],\n",
       "       [0., 0., 1., ..., 0., 0., 0.],\n",
       "       ...,\n",
       "       [0., 0., 0., ..., 1., 0., 0.],\n",
       "       [0., 0., 0., ..., 0., 1., 0.],\n",
       "       [0., 0., 0., ..., 0., 0., 1.]])"
      ]
     },
     "metadata": {},
     "output_type": "display_data"
    },
    {
     "ename": "AssertionError",
     "evalue": "",
     "output_type": "error",
     "traceback": [
      "\u001b[0;31m---------------------------------------------------------------------------\u001b[0m",
      "\u001b[0;31mAssertionError\u001b[0m                            Traceback (most recent call last)",
      "Input \u001b[0;32mIn [32]\u001b[0m, in \u001b[0;36m<cell line: 4>\u001b[0;34m()\u001b[0m\n\u001b[1;32m     10\u001b[0m \u001b[38;5;28;01mif\u001b[39;00m lv_prev \u001b[38;5;129;01mis\u001b[39;00m \u001b[38;5;129;01mnot\u001b[39;00m \u001b[38;5;28;01mNone\u001b[39;00m:\n\u001b[1;32m     11\u001b[0m     \u001b[38;5;28;01massert\u001b[39;00m lv_data\u001b[38;5;241m.\u001b[39mshape \u001b[38;5;241m==\u001b[39m lv_prev\u001b[38;5;241m.\u001b[39mshape\n\u001b[0;32m---> 12\u001b[0m     \u001b[38;5;28;01massert\u001b[39;00m \u001b[38;5;129;01mnot\u001b[39;00m np\u001b[38;5;241m.\u001b[39mallclose(lv_data, lv_prev)\n\u001b[1;32m     14\u001b[0m lv_prev \u001b[38;5;241m=\u001b[39m lv_data\n",
      "\u001b[0;31mAssertionError\u001b[0m: "
     ]
    }
   ],
   "source": [
    "all_lvs_inv = {}\n",
    "lv_prev = None\n",
    "\n",
    "for gene_corr_filename, _ in gene_corrs_dict.items():\n",
    "    output_dir = get_output_dir(gene_corr_filename)\n",
    "\n",
    "    lv_data = load_df(output_dir, LV_CODE)\n",
    "    display(lv_data)\n",
    "\n",
    "    if lv_prev is not None:\n",
    "        assert lv_data.shape == lv_prev.shape\n",
    "        assert not np.allclose(lv_data, lv_prev)\n",
    "\n",
    "    lv_prev = lv_data"
   ]
  },
  {
   "cell_type": "code",
   "execution_count": null,
   "id": "f02e1ec2-095a-4041-987a-bda1a33a9897",
   "metadata": {
    "papermill": {
     "duration": null,
     "end_time": null,
     "exception": null,
     "start_time": null,
     "status": "pending"
    },
    "tags": []
   },
   "outputs": [],
   "source": []
  }
 ],
 "metadata": {
  "jupytext": {
   "cell_metadata_filter": "all,-execution,-papermill,-trusted",
   "formats": "ipynb,py//py:percent"
  },
  "kernelspec": {
   "display_name": "Python 3 (ipykernel)",
   "language": "python",
   "name": "python3"
  },
  "language_info": {
   "codemirror_mode": {
    "name": "ipython",
    "version": 3
   },
   "file_extension": ".py",
   "mimetype": "text/x-python",
   "name": "python",
   "nbconvert_exporter": "python",
   "pygments_lexer": "ipython3",
   "version": "3.8.13"
  },
  "papermill": {
   "default_parameters": {},
   "duration": 100.350883,
   "end_time": "2022-08-31T13:41:17.153637",
   "environment_variables": {},
   "exception": true,
   "input_path": "nbs/15_gsa_gls/18-create_corr_mat_per_lv.ipynb",
   "output_path": "nbs/15_gsa_gls/gene_corrs/cohorts/emerge/gtex_v8/mashr/18-corr_mat_per_lv/lv_perc-0.01/18-create_corr_mat_per_lv-LV962.run.ipynb",
   "parameters": {
    "COHORT_NAME": "emerge",
    "EQTL_MODEL": "MASHR",
    "LV_CODE": "LV962",
    "LV_PERCENTILE": "0.01",
    "REFERENCE_PANEL": "GTEX_V8"
   },
   "start_time": "2022-08-31T13:39:36.802754",
   "version": "2.2.2"
  }
 },
 "nbformat": 4,
 "nbformat_minor": 5
}