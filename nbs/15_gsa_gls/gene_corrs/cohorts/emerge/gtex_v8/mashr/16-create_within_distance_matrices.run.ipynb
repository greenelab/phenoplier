{
 "cells": [
  {
   "cell_type": "markdown",
   "id": "5ef66977",
   "metadata": {
    "papermill": {
     "duration": 0.017076,
     "end_time": "2022-08-31T13:13:02.485009",
     "exception": false,
     "start_time": "2022-08-31T13:13:02.467933",
     "status": "completed"
    },
    "tags": []
   },
   "source": [
    "# Description"
   ]
  },
  {
   "cell_type": "markdown",
   "id": "658d4f7c",
   "metadata": {
    "papermill": {
     "duration": 0.010613,
     "end_time": "2022-08-31T13:13:02.506651",
     "exception": false,
     "start_time": "2022-08-31T13:13:02.496038",
     "status": "completed"
    },
    "tags": []
   },
   "source": [
    "(Please, take a look at the README.md file in this directory for instructions on how to run this notebook)\n",
    "\n",
    "This notebook reads the correlation matrix generated and creates new matrices with different \"within distances\" across genes.\n",
    "For example, it generates a new correlation matrix with only genes within a distance of 10mb."
   ]
  },
  {
   "cell_type": "markdown",
   "id": "60fa4530",
   "metadata": {
    "papermill": {
     "duration": 0.009263,
     "end_time": "2022-08-31T13:13:02.526047",
     "exception": false,
     "start_time": "2022-08-31T13:13:02.516784",
     "status": "completed"
    },
    "tags": []
   },
   "source": [
    "# Modules"
   ]
  },
  {
   "cell_type": "code",
   "execution_count": 1,
   "id": "d70b0833",
   "metadata": {
    "execution": {
     "iopub.execute_input": "2022-08-31T13:13:02.547581Z",
     "iopub.status.busy": "2022-08-31T13:13:02.547080Z",
     "iopub.status.idle": "2022-08-31T13:13:02.607805Z",
     "shell.execute_reply": "2022-08-31T13:13:02.606825Z"
    },
    "papermill": {
     "duration": 0.07555,
     "end_time": "2022-08-31T13:13:02.611385",
     "exception": false,
     "start_time": "2022-08-31T13:13:02.535835",
     "status": "completed"
    },
    "tags": []
   },
   "outputs": [],
   "source": [
    "%load_ext autoreload\n",
    "%autoreload 2"
   ]
  },
  {
   "cell_type": "code",
   "execution_count": 2,
   "id": "6b2f9ca0",
   "metadata": {
    "execution": {
     "iopub.execute_input": "2022-08-31T13:13:02.632062Z",
     "iopub.status.busy": "2022-08-31T13:13:02.631690Z",
     "iopub.status.idle": "2022-08-31T13:13:05.903992Z",
     "shell.execute_reply": "2022-08-31T13:13:05.903080Z"
    },
    "papermill": {
     "duration": 3.28553,
     "end_time": "2022-08-31T13:13:05.906618",
     "exception": false,
     "start_time": "2022-08-31T13:13:02.621088",
     "status": "completed"
    },
    "tags": []
   },
   "outputs": [],
   "source": [
    "import pickle\n",
    "\n",
    "import numpy as np\n",
    "from scipy.spatial.distance import squareform\n",
    "import pandas as pd\n",
    "import matplotlib.pyplot as plt\n",
    "import seaborn as sns\n",
    "\n",
    "import conf\n",
    "from entity import Gene\n",
    "from correlations import (\n",
    "    check_pos_def,\n",
    "    compare_matrices,\n",
    "    correct_corr_mat,\n",
    "    adjust_non_pos_def,\n",
    ")"
   ]
  },
  {
   "cell_type": "markdown",
   "id": "5b96e797",
   "metadata": {
    "papermill": {
     "duration": 0.006012,
     "end_time": "2022-08-31T13:13:05.920075",
     "exception": false,
     "start_time": "2022-08-31T13:13:05.914063",
     "status": "completed"
    },
    "tags": []
   },
   "source": [
    "# Settings"
   ]
  },
  {
   "cell_type": "code",
   "execution_count": 3,
   "id": "4fc1b6a0",
   "metadata": {
    "execution": {
     "iopub.execute_input": "2022-08-31T13:13:05.933780Z",
     "iopub.status.busy": "2022-08-31T13:13:05.933512Z",
     "iopub.status.idle": "2022-08-31T13:13:06.052166Z",
     "shell.execute_reply": "2022-08-31T13:13:06.051196Z"
    },
    "papermill": {
     "duration": 0.129428,
     "end_time": "2022-08-31T13:13:06.055541",
     "exception": false,
     "start_time": "2022-08-31T13:13:05.926113",
     "status": "completed"
    },
    "tags": [
     "parameters"
    ]
   },
   "outputs": [],
   "source": [
    "# a cohort name (it could be something like UK_BIOBANK, etc)\n",
    "COHORT_NAME = None\n",
    "\n",
    "# reference panel such as 1000G or GTEX_V8\n",
    "REFERENCE_PANEL = None\n",
    "\n",
    "# predictions models such as MASHR or ELASTIC_NET\n",
    "EQTL_MODEL = None\n",
    "\n",
    "# a list with different distances to generate\n",
    "DISTANCES = [10, 5, 2]"
   ]
  },
  {
   "cell_type": "code",
   "execution_count": 4,
   "id": "4458e710",
   "metadata": {
    "execution": {
     "iopub.execute_input": "2022-08-31T13:13:06.076679Z",
     "iopub.status.busy": "2022-08-31T13:13:06.076294Z",
     "iopub.status.idle": "2022-08-31T13:13:06.116040Z",
     "shell.execute_reply": "2022-08-31T13:13:06.115203Z"
    },
    "papermill": {
     "duration": 0.053918,
     "end_time": "2022-08-31T13:13:06.118969",
     "exception": false,
     "start_time": "2022-08-31T13:13:06.065051",
     "status": "completed"
    },
    "tags": [
     "injected-parameters"
    ]
   },
   "outputs": [],
   "source": [
    "# Parameters\n",
    "COHORT_NAME = \"emerge\"\n",
    "REFERENCE_PANEL = \"GTEX_V8\"\n",
    "EQTL_MODEL = \"MASHR\"\n"
   ]
  },
  {
   "cell_type": "code",
   "execution_count": 5,
   "id": "6dba5c90-40a4-4a62-899e-1711ab4e40bb",
   "metadata": {
    "execution": {
     "iopub.execute_input": "2022-08-31T13:13:06.151739Z",
     "iopub.status.busy": "2022-08-31T13:13:06.151405Z",
     "iopub.status.idle": "2022-08-31T13:13:06.193613Z",
     "shell.execute_reply": "2022-08-31T13:13:06.192897Z"
    },
    "papermill": {
     "duration": 0.063452,
     "end_time": "2022-08-31T13:13:06.195861",
     "exception": false,
     "start_time": "2022-08-31T13:13:06.132409",
     "status": "completed"
    },
    "tags": []
   },
   "outputs": [
    {
     "data": {
      "text/plain": [
       "'Cohort name: emerge'"
      ]
     },
     "metadata": {},
     "output_type": "display_data"
    }
   ],
   "source": [
    "assert COHORT_NAME is not None and len(COHORT_NAME) > 0, \"A cohort name must be given\"\n",
    "\n",
    "COHORT_NAME = COHORT_NAME.lower()\n",
    "display(f\"Cohort name: {COHORT_NAME}\")"
   ]
  },
  {
   "cell_type": "code",
   "execution_count": 6,
   "id": "90be4359-19db-4c2d-a3ca-202674476164",
   "metadata": {
    "execution": {
     "iopub.execute_input": "2022-08-31T13:13:06.213674Z",
     "iopub.status.busy": "2022-08-31T13:13:06.213391Z",
     "iopub.status.idle": "2022-08-31T13:13:06.245932Z",
     "shell.execute_reply": "2022-08-31T13:13:06.245108Z"
    },
    "papermill": {
     "duration": 0.043692,
     "end_time": "2022-08-31T13:13:06.247963",
     "exception": false,
     "start_time": "2022-08-31T13:13:06.204271",
     "status": "completed"
    },
    "tags": []
   },
   "outputs": [
    {
     "data": {
      "text/plain": [
       "'Reference panel: GTEX_V8'"
      ]
     },
     "metadata": {},
     "output_type": "display_data"
    }
   ],
   "source": [
    "assert (\n",
    "    REFERENCE_PANEL is not None and len(REFERENCE_PANEL) > 0\n",
    "), \"A reference panel must be given\"\n",
    "\n",
    "display(f\"Reference panel: {REFERENCE_PANEL}\")"
   ]
  },
  {
   "cell_type": "code",
   "execution_count": 7,
   "id": "d959f3f4-8f7b-4313-b3b1-37606e7250bf",
   "metadata": {
    "execution": {
     "iopub.execute_input": "2022-08-31T13:13:06.264410Z",
     "iopub.status.busy": "2022-08-31T13:13:06.264125Z",
     "iopub.status.idle": "2022-08-31T13:13:06.293267Z",
     "shell.execute_reply": "2022-08-31T13:13:06.292649Z"
    },
    "papermill": {
     "duration": 0.039393,
     "end_time": "2022-08-31T13:13:06.295129",
     "exception": false,
     "start_time": "2022-08-31T13:13:06.255736",
     "status": "completed"
    },
    "tags": []
   },
   "outputs": [
    {
     "data": {
      "text/plain": [
       "'eQTL model: MASHR)'"
      ]
     },
     "metadata": {},
     "output_type": "display_data"
    }
   ],
   "source": [
    "assert (\n",
    "    EQTL_MODEL is not None and len(EQTL_MODEL) > 0\n",
    "), \"A prediction/eQTL model must be given\"\n",
    "\n",
    "display(f\"eQTL model: {EQTL_MODEL})\")"
   ]
  },
  {
   "cell_type": "code",
   "execution_count": 8,
   "id": "ac0c0705-90e4-42f8-8298-a457c7e778ff",
   "metadata": {
    "execution": {
     "iopub.execute_input": "2022-08-31T13:13:06.312805Z",
     "iopub.status.busy": "2022-08-31T13:13:06.312549Z",
     "iopub.status.idle": "2022-08-31T13:13:06.341911Z",
     "shell.execute_reply": "2022-08-31T13:13:06.341334Z"
    },
    "papermill": {
     "duration": 0.040444,
     "end_time": "2022-08-31T13:13:06.343753",
     "exception": false,
     "start_time": "2022-08-31T13:13:06.303309",
     "status": "completed"
    },
    "tags": []
   },
   "outputs": [
    {
     "data": {
      "text/plain": [
       "'Using output dir base: /project/ritchie20/projects/phenoplier/base/results/gls/gene_corrs/cohorts/emerge/gtex_v8/mashr'"
      ]
     },
     "metadata": {},
     "output_type": "display_data"
    }
   ],
   "source": [
    "OUTPUT_DIR_BASE = (\n",
    "    conf.RESULTS[\"GLS\"]\n",
    "    / \"gene_corrs\"\n",
    "    / \"cohorts\"\n",
    "    / COHORT_NAME\n",
    "    / REFERENCE_PANEL.lower()\n",
    "    / EQTL_MODEL.lower()\n",
    ")\n",
    "assert OUTPUT_DIR_BASE.exists()\n",
    "\n",
    "display(f\"Using output dir base: {OUTPUT_DIR_BASE}\")"
   ]
  },
  {
   "cell_type": "markdown",
   "id": "99ccb166",
   "metadata": {
    "papermill": {
     "duration": 0.006601,
     "end_time": "2022-08-31T13:13:06.357810",
     "exception": false,
     "start_time": "2022-08-31T13:13:06.351209",
     "status": "completed"
    },
    "tags": []
   },
   "source": [
    "# Load data"
   ]
  },
  {
   "cell_type": "markdown",
   "id": "028bdd42",
   "metadata": {
    "papermill": {
     "duration": 0.00719,
     "end_time": "2022-08-31T13:13:06.372917",
     "exception": false,
     "start_time": "2022-08-31T13:13:06.365727",
     "status": "completed"
    },
    "tags": []
   },
   "source": [
    "## Gene correlations"
   ]
  },
  {
   "cell_type": "code",
   "execution_count": 9,
   "id": "04624465",
   "metadata": {
    "execution": {
     "iopub.execute_input": "2022-08-31T13:13:06.388303Z",
     "iopub.status.busy": "2022-08-31T13:13:06.388060Z",
     "iopub.status.idle": "2022-08-31T13:13:06.725723Z",
     "shell.execute_reply": "2022-08-31T13:13:06.724932Z"
    },
    "papermill": {
     "duration": 0.348436,
     "end_time": "2022-08-31T13:13:06.728276",
     "exception": false,
     "start_time": "2022-08-31T13:13:06.379840",
     "status": "completed"
    },
    "tags": []
   },
   "outputs": [],
   "source": [
    "gene_corrs = pd.read_pickle(OUTPUT_DIR_BASE / \"gene_corrs-symbols.pkl\")"
   ]
  },
  {
   "cell_type": "code",
   "execution_count": 10,
   "id": "be5869e7-d0e4-4b8f-8c6d-a1c6a9419fe2",
   "metadata": {
    "execution": {
     "iopub.execute_input": "2022-08-31T13:13:06.745930Z",
     "iopub.status.busy": "2022-08-31T13:13:06.745645Z",
     "iopub.status.idle": "2022-08-31T13:13:06.800654Z",
     "shell.execute_reply": "2022-08-31T13:13:06.799741Z"
    },
    "papermill": {
     "duration": 0.066727,
     "end_time": "2022-08-31T13:13:06.803354",
     "exception": false,
     "start_time": "2022-08-31T13:13:06.736627",
     "status": "completed"
    },
    "tags": []
   },
   "outputs": [
    {
     "data": {
      "text/plain": [
       "(6425, 6425)"
      ]
     },
     "execution_count": 10,
     "metadata": {},
     "output_type": "execute_result"
    }
   ],
   "source": [
    "gene_corrs.shape"
   ]
  },
  {
   "cell_type": "code",
   "execution_count": 11,
   "id": "8a47b0fc-fdf2-45e8-baa9-b203a2b0e74b",
   "metadata": {
    "execution": {
     "iopub.execute_input": "2022-08-31T13:13:06.826246Z",
     "iopub.status.busy": "2022-08-31T13:13:06.825900Z",
     "iopub.status.idle": "2022-08-31T13:13:06.887714Z",
     "shell.execute_reply": "2022-08-31T13:13:06.887066Z"
    },
    "papermill": {
     "duration": 0.075817,
     "end_time": "2022-08-31T13:13:06.889749",
     "exception": false,
     "start_time": "2022-08-31T13:13:06.813932",
     "status": "completed"
    },
    "tags": []
   },
   "outputs": [
    {
     "data": {
      "text/html": [
       "<div>\n",
       "<style scoped>\n",
       "    .dataframe tbody tr th:only-of-type {\n",
       "        vertical-align: middle;\n",
       "    }\n",
       "\n",
       "    .dataframe tbody tr th {\n",
       "        vertical-align: top;\n",
       "    }\n",
       "\n",
       "    .dataframe thead th {\n",
       "        text-align: right;\n",
       "    }\n",
       "</style>\n",
       "<table border=\"1\" class=\"dataframe\">\n",
       "  <thead>\n",
       "    <tr style=\"text-align: right;\">\n",
       "      <th></th>\n",
       "      <th>NOC2L</th>\n",
       "      <th>HES4</th>\n",
       "      <th>ISG15</th>\n",
       "      <th>AGRN</th>\n",
       "      <th>TNFRSF18</th>\n",
       "      <th>TNFRSF4</th>\n",
       "      <th>B3GALT6</th>\n",
       "      <th>UBE2J2</th>\n",
       "      <th>ACAP3</th>\n",
       "      <th>TAS1R3</th>\n",
       "      <th>...</th>\n",
       "      <th>PLXNB2</th>\n",
       "      <th>ADM2</th>\n",
       "      <th>MIOX</th>\n",
       "      <th>SCO2</th>\n",
       "      <th>TYMP</th>\n",
       "      <th>CPT1B</th>\n",
       "      <th>CHKB</th>\n",
       "      <th>MAPK8IP2</th>\n",
       "      <th>ARSA</th>\n",
       "      <th>SHANK3</th>\n",
       "    </tr>\n",
       "  </thead>\n",
       "  <tbody>\n",
       "    <tr>\n",
       "      <th>NOC2L</th>\n",
       "      <td>1.000000</td>\n",
       "      <td>0.120590</td>\n",
       "      <td>0.177063</td>\n",
       "      <td>0.085746</td>\n",
       "      <td>0.006792</td>\n",
       "      <td>0.007685</td>\n",
       "      <td>0.004673</td>\n",
       "      <td>0.010734</td>\n",
       "      <td>0.011200</td>\n",
       "      <td>0.007529</td>\n",
       "      <td>...</td>\n",
       "      <td>0.0</td>\n",
       "      <td>0.0</td>\n",
       "      <td>0.0</td>\n",
       "      <td>0.0</td>\n",
       "      <td>0.0</td>\n",
       "      <td>0.0</td>\n",
       "      <td>0.0</td>\n",
       "      <td>0.0</td>\n",
       "      <td>0.0</td>\n",
       "      <td>0.0</td>\n",
       "    </tr>\n",
       "    <tr>\n",
       "      <th>HES4</th>\n",
       "      <td>0.120590</td>\n",
       "      <td>1.000000</td>\n",
       "      <td>0.672060</td>\n",
       "      <td>0.391127</td>\n",
       "      <td>0.011695</td>\n",
       "      <td>0.009275</td>\n",
       "      <td>0.005970</td>\n",
       "      <td>0.007385</td>\n",
       "      <td>0.002641</td>\n",
       "      <td>0.004767</td>\n",
       "      <td>...</td>\n",
       "      <td>0.0</td>\n",
       "      <td>0.0</td>\n",
       "      <td>0.0</td>\n",
       "      <td>0.0</td>\n",
       "      <td>0.0</td>\n",
       "      <td>0.0</td>\n",
       "      <td>0.0</td>\n",
       "      <td>0.0</td>\n",
       "      <td>0.0</td>\n",
       "      <td>0.0</td>\n",
       "    </tr>\n",
       "    <tr>\n",
       "      <th>ISG15</th>\n",
       "      <td>0.177063</td>\n",
       "      <td>0.672060</td>\n",
       "      <td>1.000000</td>\n",
       "      <td>0.424696</td>\n",
       "      <td>0.013929</td>\n",
       "      <td>0.013311</td>\n",
       "      <td>0.008466</td>\n",
       "      <td>0.010608</td>\n",
       "      <td>0.006689</td>\n",
       "      <td>0.011659</td>\n",
       "      <td>...</td>\n",
       "      <td>0.0</td>\n",
       "      <td>0.0</td>\n",
       "      <td>0.0</td>\n",
       "      <td>0.0</td>\n",
       "      <td>0.0</td>\n",
       "      <td>0.0</td>\n",
       "      <td>0.0</td>\n",
       "      <td>0.0</td>\n",
       "      <td>0.0</td>\n",
       "      <td>0.0</td>\n",
       "    </tr>\n",
       "    <tr>\n",
       "      <th>AGRN</th>\n",
       "      <td>0.085746</td>\n",
       "      <td>0.391127</td>\n",
       "      <td>0.424696</td>\n",
       "      <td>1.000000</td>\n",
       "      <td>0.005309</td>\n",
       "      <td>0.011848</td>\n",
       "      <td>0.002161</td>\n",
       "      <td>0.002535</td>\n",
       "      <td>0.005359</td>\n",
       "      <td>0.007012</td>\n",
       "      <td>...</td>\n",
       "      <td>0.0</td>\n",
       "      <td>0.0</td>\n",
       "      <td>0.0</td>\n",
       "      <td>0.0</td>\n",
       "      <td>0.0</td>\n",
       "      <td>0.0</td>\n",
       "      <td>0.0</td>\n",
       "      <td>0.0</td>\n",
       "      <td>0.0</td>\n",
       "      <td>0.0</td>\n",
       "    </tr>\n",
       "    <tr>\n",
       "      <th>TNFRSF18</th>\n",
       "      <td>0.006792</td>\n",
       "      <td>0.011695</td>\n",
       "      <td>0.013929</td>\n",
       "      <td>0.005309</td>\n",
       "      <td>1.000000</td>\n",
       "      <td>0.338085</td>\n",
       "      <td>0.550817</td>\n",
       "      <td>0.154394</td>\n",
       "      <td>0.193627</td>\n",
       "      <td>0.101004</td>\n",
       "      <td>...</td>\n",
       "      <td>0.0</td>\n",
       "      <td>0.0</td>\n",
       "      <td>0.0</td>\n",
       "      <td>0.0</td>\n",
       "      <td>0.0</td>\n",
       "      <td>0.0</td>\n",
       "      <td>0.0</td>\n",
       "      <td>0.0</td>\n",
       "      <td>0.0</td>\n",
       "      <td>0.0</td>\n",
       "    </tr>\n",
       "  </tbody>\n",
       "</table>\n",
       "<p>5 rows × 6425 columns</p>\n",
       "</div>"
      ],
      "text/plain": [
       "             NOC2L      HES4     ISG15      AGRN  TNFRSF18   TNFRSF4  \\\n",
       "NOC2L     1.000000  0.120590  0.177063  0.085746  0.006792  0.007685   \n",
       "HES4      0.120590  1.000000  0.672060  0.391127  0.011695  0.009275   \n",
       "ISG15     0.177063  0.672060  1.000000  0.424696  0.013929  0.013311   \n",
       "AGRN      0.085746  0.391127  0.424696  1.000000  0.005309  0.011848   \n",
       "TNFRSF18  0.006792  0.011695  0.013929  0.005309  1.000000  0.338085   \n",
       "\n",
       "           B3GALT6    UBE2J2     ACAP3    TAS1R3  ...  PLXNB2  ADM2  MIOX  \\\n",
       "NOC2L     0.004673  0.010734  0.011200  0.007529  ...     0.0   0.0   0.0   \n",
       "HES4      0.005970  0.007385  0.002641  0.004767  ...     0.0   0.0   0.0   \n",
       "ISG15     0.008466  0.010608  0.006689  0.011659  ...     0.0   0.0   0.0   \n",
       "AGRN      0.002161  0.002535  0.005359  0.007012  ...     0.0   0.0   0.0   \n",
       "TNFRSF18  0.550817  0.154394  0.193627  0.101004  ...     0.0   0.0   0.0   \n",
       "\n",
       "          SCO2  TYMP  CPT1B  CHKB  MAPK8IP2  ARSA  SHANK3  \n",
       "NOC2L      0.0   0.0    0.0   0.0       0.0   0.0     0.0  \n",
       "HES4       0.0   0.0    0.0   0.0       0.0   0.0     0.0  \n",
       "ISG15      0.0   0.0    0.0   0.0       0.0   0.0     0.0  \n",
       "AGRN       0.0   0.0    0.0   0.0       0.0   0.0     0.0  \n",
       "TNFRSF18   0.0   0.0    0.0   0.0       0.0   0.0     0.0  \n",
       "\n",
       "[5 rows x 6425 columns]"
      ]
     },
     "execution_count": 11,
     "metadata": {},
     "output_type": "execute_result"
    }
   ],
   "source": [
    "gene_corrs.head()"
   ]
  },
  {
   "cell_type": "code",
   "execution_count": 12,
   "id": "16c50875-d781-4681-b683-5b74f639258c",
   "metadata": {
    "execution": {
     "iopub.execute_input": "2022-08-31T13:13:06.941136Z",
     "iopub.status.busy": "2022-08-31T13:13:06.940659Z",
     "iopub.status.idle": "2022-08-31T13:13:07.311961Z",
     "shell.execute_reply": "2022-08-31T13:13:07.311454Z"
    },
    "papermill": {
     "duration": 0.390443,
     "end_time": "2022-08-31T13:13:07.313430",
     "exception": false,
     "start_time": "2022-08-31T13:13:06.922987",
     "status": "completed"
    },
    "tags": []
   },
   "outputs": [
    {
     "data": {
      "text/plain": [
       "'Number of genes with correlations with other genes: 6425'"
      ]
     },
     "metadata": {},
     "output_type": "display_data"
    }
   ],
   "source": [
    "genes_corrs_sum = gene_corrs.sum()\n",
    "n_genes_included = genes_corrs_sum[genes_corrs_sum > 1.0].shape[0]\n",
    "display(f\"Number of genes with correlations with other genes: {n_genes_included}\")"
   ]
  },
  {
   "cell_type": "code",
   "execution_count": 13,
   "id": "02484bfa-bae0-404b-9f3b-a82f1fc3f227",
   "metadata": {
    "execution": {
     "iopub.execute_input": "2022-08-31T13:13:07.357527Z",
     "iopub.status.busy": "2022-08-31T13:13:07.357318Z",
     "iopub.status.idle": "2022-08-31T13:13:07.622690Z",
     "shell.execute_reply": "2022-08-31T13:13:07.622208Z"
    },
    "papermill": {
     "duration": 0.287489,
     "end_time": "2022-08-31T13:13:07.624114",
     "exception": false,
     "start_time": "2022-08-31T13:13:07.336625",
     "status": "completed"
    },
    "tags": []
   },
   "outputs": [
    {
     "data": {
      "text/plain": [
       "'Number of nonzero cells: 2339707'"
      ]
     },
     "metadata": {},
     "output_type": "display_data"
    }
   ],
   "source": [
    "genes_corrs_nonzero_sum = (gene_corrs > 0.0).astype(int).sum().sum()\n",
    "display(f\"Number of nonzero cells: {genes_corrs_nonzero_sum}\")"
   ]
  },
  {
   "cell_type": "markdown",
   "id": "99d01a88-2f71-41eb-a423-a17378bbb174",
   "metadata": {
    "papermill": {
     "duration": 0.007547,
     "end_time": "2022-08-31T13:13:07.638899",
     "exception": false,
     "start_time": "2022-08-31T13:13:07.631352",
     "status": "completed"
    },
    "tags": []
   },
   "source": [
    "## Get gene objects"
   ]
  },
  {
   "cell_type": "code",
   "execution_count": 14,
   "id": "6a5e95f0-eeab-4716-8982-b1dbbd8763d8",
   "metadata": {
    "execution": {
     "iopub.execute_input": "2022-08-31T13:13:07.652847Z",
     "iopub.status.busy": "2022-08-31T13:13:07.652652Z",
     "iopub.status.idle": "2022-08-31T13:13:07.721601Z",
     "shell.execute_reply": "2022-08-31T13:13:07.720786Z"
    },
    "papermill": {
     "duration": 0.078649,
     "end_time": "2022-08-31T13:13:07.724136",
     "exception": false,
     "start_time": "2022-08-31T13:13:07.645487",
     "status": "completed"
    },
    "tags": []
   },
   "outputs": [],
   "source": [
    "gene_objs = [Gene(name=gene_name) for gene_name in gene_corrs.index]"
   ]
  },
  {
   "cell_type": "code",
   "execution_count": 15,
   "id": "81ca7c6e-69c4-48c4-b44f-ec9a2b8bb527",
   "metadata": {
    "execution": {
     "iopub.execute_input": "2022-08-31T13:13:07.746936Z",
     "iopub.status.busy": "2022-08-31T13:13:07.746631Z",
     "iopub.status.idle": "2022-08-31T13:13:07.784082Z",
     "shell.execute_reply": "2022-08-31T13:13:07.783352Z"
    },
    "papermill": {
     "duration": 0.051833,
     "end_time": "2022-08-31T13:13:07.786318",
     "exception": false,
     "start_time": "2022-08-31T13:13:07.734485",
     "status": "completed"
    },
    "tags": []
   },
   "outputs": [
    {
     "data": {
      "text/plain": [
       "6425"
      ]
     },
     "metadata": {},
     "output_type": "display_data"
    }
   ],
   "source": [
    "display(len(gene_objs))"
   ]
  },
  {
   "cell_type": "markdown",
   "id": "0bc01310-5d9c-4355-8064-b67c5a22311c",
   "metadata": {
    "papermill": {
     "duration": 0.018704,
     "end_time": "2022-08-31T13:13:07.822488",
     "exception": false,
     "start_time": "2022-08-31T13:13:07.803784",
     "status": "completed"
    },
    "tags": []
   },
   "source": [
    "# Subset full correlation matrix using difference \"within distances\" across genes"
   ]
  },
  {
   "cell_type": "code",
   "execution_count": 16,
   "id": "85db0d88-7bd5-4cfd-a9b2-6dc07353ecff",
   "metadata": {
    "execution": {
     "iopub.execute_input": "2022-08-31T13:13:07.894326Z",
     "iopub.status.busy": "2022-08-31T13:13:07.893949Z",
     "iopub.status.idle": "2022-08-31T13:19:34.230489Z",
     "shell.execute_reply": "2022-08-31T13:19:34.229047Z"
    },
    "papermill": {
     "duration": 386.352045,
     "end_time": "2022-08-31T13:19:34.233793",
     "exception": false,
     "start_time": "2022-08-31T13:13:07.881748",
     "status": "completed"
    },
    "tags": []
   },
   "outputs": [
    {
     "name": "stdout",
     "output_type": "stream",
     "text": [
      "Using within distance: 5.0\n"
     ]
    },
    {
     "data": {
      "text/html": [
       "<div>\n",
       "<style scoped>\n",
       "    .dataframe tbody tr th:only-of-type {\n",
       "        vertical-align: middle;\n",
       "    }\n",
       "\n",
       "    .dataframe tbody tr th {\n",
       "        vertical-align: top;\n",
       "    }\n",
       "\n",
       "    .dataframe thead th {\n",
       "        text-align: right;\n",
       "    }\n",
       "</style>\n",
       "<table border=\"1\" class=\"dataframe\">\n",
       "  <thead>\n",
       "    <tr style=\"text-align: right;\">\n",
       "      <th></th>\n",
       "      <th>NOC2L</th>\n",
       "      <th>HES4</th>\n",
       "      <th>ISG15</th>\n",
       "      <th>AGRN</th>\n",
       "      <th>TNFRSF18</th>\n",
       "      <th>TNFRSF4</th>\n",
       "      <th>B3GALT6</th>\n",
       "      <th>UBE2J2</th>\n",
       "      <th>ACAP3</th>\n",
       "      <th>TAS1R3</th>\n",
       "      <th>...</th>\n",
       "      <th>PLXNB2</th>\n",
       "      <th>ADM2</th>\n",
       "      <th>MIOX</th>\n",
       "      <th>SCO2</th>\n",
       "      <th>TYMP</th>\n",
       "      <th>CPT1B</th>\n",
       "      <th>CHKB</th>\n",
       "      <th>MAPK8IP2</th>\n",
       "      <th>ARSA</th>\n",
       "      <th>SHANK3</th>\n",
       "    </tr>\n",
       "  </thead>\n",
       "  <tbody>\n",
       "    <tr>\n",
       "      <th>NOC2L</th>\n",
       "      <td>1.000000</td>\n",
       "      <td>0.120590</td>\n",
       "      <td>0.177063</td>\n",
       "      <td>0.085746</td>\n",
       "      <td>0.006792</td>\n",
       "      <td>0.007685</td>\n",
       "      <td>0.004673</td>\n",
       "      <td>0.010734</td>\n",
       "      <td>0.011200</td>\n",
       "      <td>0.007529</td>\n",
       "      <td>...</td>\n",
       "      <td>0.000000</td>\n",
       "      <td>0.000000</td>\n",
       "      <td>0.000000</td>\n",
       "      <td>0.000000</td>\n",
       "      <td>0.000000</td>\n",
       "      <td>0.000000</td>\n",
       "      <td>0.000000</td>\n",
       "      <td>0.000000</td>\n",
       "      <td>0.000000</td>\n",
       "      <td>0.000000</td>\n",
       "    </tr>\n",
       "    <tr>\n",
       "      <th>HES4</th>\n",
       "      <td>0.120590</td>\n",
       "      <td>1.000000</td>\n",
       "      <td>0.672060</td>\n",
       "      <td>0.391127</td>\n",
       "      <td>0.011695</td>\n",
       "      <td>0.009275</td>\n",
       "      <td>0.005970</td>\n",
       "      <td>0.007385</td>\n",
       "      <td>0.002641</td>\n",
       "      <td>0.004767</td>\n",
       "      <td>...</td>\n",
       "      <td>0.000000</td>\n",
       "      <td>0.000000</td>\n",
       "      <td>0.000000</td>\n",
       "      <td>0.000000</td>\n",
       "      <td>0.000000</td>\n",
       "      <td>0.000000</td>\n",
       "      <td>0.000000</td>\n",
       "      <td>0.000000</td>\n",
       "      <td>0.000000</td>\n",
       "      <td>0.000000</td>\n",
       "    </tr>\n",
       "    <tr>\n",
       "      <th>ISG15</th>\n",
       "      <td>0.177063</td>\n",
       "      <td>0.672060</td>\n",
       "      <td>1.000000</td>\n",
       "      <td>0.424696</td>\n",
       "      <td>0.013929</td>\n",
       "      <td>0.013311</td>\n",
       "      <td>0.008466</td>\n",
       "      <td>0.010608</td>\n",
       "      <td>0.006689</td>\n",
       "      <td>0.011659</td>\n",
       "      <td>...</td>\n",
       "      <td>0.000000</td>\n",
       "      <td>0.000000</td>\n",
       "      <td>0.000000</td>\n",
       "      <td>0.000000</td>\n",
       "      <td>0.000000</td>\n",
       "      <td>0.000000</td>\n",
       "      <td>0.000000</td>\n",
       "      <td>0.000000</td>\n",
       "      <td>0.000000</td>\n",
       "      <td>0.000000</td>\n",
       "    </tr>\n",
       "    <tr>\n",
       "      <th>AGRN</th>\n",
       "      <td>0.085746</td>\n",
       "      <td>0.391127</td>\n",
       "      <td>0.424696</td>\n",
       "      <td>1.000000</td>\n",
       "      <td>0.005309</td>\n",
       "      <td>0.011848</td>\n",
       "      <td>0.002161</td>\n",
       "      <td>0.002535</td>\n",
       "      <td>0.005359</td>\n",
       "      <td>0.007012</td>\n",
       "      <td>...</td>\n",
       "      <td>0.000000</td>\n",
       "      <td>0.000000</td>\n",
       "      <td>0.000000</td>\n",
       "      <td>0.000000</td>\n",
       "      <td>0.000000</td>\n",
       "      <td>0.000000</td>\n",
       "      <td>0.000000</td>\n",
       "      <td>0.000000</td>\n",
       "      <td>0.000000</td>\n",
       "      <td>0.000000</td>\n",
       "    </tr>\n",
       "    <tr>\n",
       "      <th>TNFRSF18</th>\n",
       "      <td>0.006792</td>\n",
       "      <td>0.011695</td>\n",
       "      <td>0.013929</td>\n",
       "      <td>0.005309</td>\n",
       "      <td>1.000000</td>\n",
       "      <td>0.338085</td>\n",
       "      <td>0.550817</td>\n",
       "      <td>0.154394</td>\n",
       "      <td>0.193627</td>\n",
       "      <td>0.101004</td>\n",
       "      <td>...</td>\n",
       "      <td>0.000000</td>\n",
       "      <td>0.000000</td>\n",
       "      <td>0.000000</td>\n",
       "      <td>0.000000</td>\n",
       "      <td>0.000000</td>\n",
       "      <td>0.000000</td>\n",
       "      <td>0.000000</td>\n",
       "      <td>0.000000</td>\n",
       "      <td>0.000000</td>\n",
       "      <td>0.000000</td>\n",
       "    </tr>\n",
       "    <tr>\n",
       "      <th>...</th>\n",
       "      <td>...</td>\n",
       "      <td>...</td>\n",
       "      <td>...</td>\n",
       "      <td>...</td>\n",
       "      <td>...</td>\n",
       "      <td>...</td>\n",
       "      <td>...</td>\n",
       "      <td>...</td>\n",
       "      <td>...</td>\n",
       "      <td>...</td>\n",
       "      <td>...</td>\n",
       "      <td>...</td>\n",
       "      <td>...</td>\n",
       "      <td>...</td>\n",
       "      <td>...</td>\n",
       "      <td>...</td>\n",
       "      <td>...</td>\n",
       "      <td>...</td>\n",
       "      <td>...</td>\n",
       "      <td>...</td>\n",
       "      <td>...</td>\n",
       "    </tr>\n",
       "    <tr>\n",
       "      <th>CPT1B</th>\n",
       "      <td>0.000000</td>\n",
       "      <td>0.000000</td>\n",
       "      <td>0.000000</td>\n",
       "      <td>0.000000</td>\n",
       "      <td>0.000000</td>\n",
       "      <td>0.000000</td>\n",
       "      <td>0.000000</td>\n",
       "      <td>0.000000</td>\n",
       "      <td>0.000000</td>\n",
       "      <td>0.000000</td>\n",
       "      <td>...</td>\n",
       "      <td>0.018598</td>\n",
       "      <td>0.067904</td>\n",
       "      <td>0.013164</td>\n",
       "      <td>0.255355</td>\n",
       "      <td>0.219886</td>\n",
       "      <td>1.000000</td>\n",
       "      <td>0.728282</td>\n",
       "      <td>0.180608</td>\n",
       "      <td>0.037057</td>\n",
       "      <td>0.008848</td>\n",
       "    </tr>\n",
       "    <tr>\n",
       "      <th>CHKB</th>\n",
       "      <td>0.000000</td>\n",
       "      <td>0.000000</td>\n",
       "      <td>0.000000</td>\n",
       "      <td>0.000000</td>\n",
       "      <td>0.000000</td>\n",
       "      <td>0.000000</td>\n",
       "      <td>0.000000</td>\n",
       "      <td>0.000000</td>\n",
       "      <td>0.000000</td>\n",
       "      <td>0.000000</td>\n",
       "      <td>...</td>\n",
       "      <td>0.030619</td>\n",
       "      <td>0.063087</td>\n",
       "      <td>0.013264</td>\n",
       "      <td>0.200121</td>\n",
       "      <td>0.200630</td>\n",
       "      <td>0.728282</td>\n",
       "      <td>1.000000</td>\n",
       "      <td>0.245883</td>\n",
       "      <td>0.040220</td>\n",
       "      <td>0.016923</td>\n",
       "    </tr>\n",
       "    <tr>\n",
       "      <th>MAPK8IP2</th>\n",
       "      <td>0.000000</td>\n",
       "      <td>0.000000</td>\n",
       "      <td>0.000000</td>\n",
       "      <td>0.000000</td>\n",
       "      <td>0.000000</td>\n",
       "      <td>0.000000</td>\n",
       "      <td>0.000000</td>\n",
       "      <td>0.000000</td>\n",
       "      <td>0.000000</td>\n",
       "      <td>0.000000</td>\n",
       "      <td>...</td>\n",
       "      <td>0.044210</td>\n",
       "      <td>0.100652</td>\n",
       "      <td>0.066327</td>\n",
       "      <td>0.051949</td>\n",
       "      <td>0.122998</td>\n",
       "      <td>0.180608</td>\n",
       "      <td>0.245883</td>\n",
       "      <td>1.000000</td>\n",
       "      <td>0.205749</td>\n",
       "      <td>0.020812</td>\n",
       "    </tr>\n",
       "    <tr>\n",
       "      <th>ARSA</th>\n",
       "      <td>0.000000</td>\n",
       "      <td>0.000000</td>\n",
       "      <td>0.000000</td>\n",
       "      <td>0.000000</td>\n",
       "      <td>0.000000</td>\n",
       "      <td>0.000000</td>\n",
       "      <td>0.000000</td>\n",
       "      <td>0.000000</td>\n",
       "      <td>0.000000</td>\n",
       "      <td>0.000000</td>\n",
       "      <td>...</td>\n",
       "      <td>0.012038</td>\n",
       "      <td>0.032331</td>\n",
       "      <td>0.021297</td>\n",
       "      <td>0.028119</td>\n",
       "      <td>0.037341</td>\n",
       "      <td>0.037057</td>\n",
       "      <td>0.040220</td>\n",
       "      <td>0.205749</td>\n",
       "      <td>1.000000</td>\n",
       "      <td>0.013044</td>\n",
       "    </tr>\n",
       "    <tr>\n",
       "      <th>SHANK3</th>\n",
       "      <td>0.000000</td>\n",
       "      <td>0.000000</td>\n",
       "      <td>0.000000</td>\n",
       "      <td>0.000000</td>\n",
       "      <td>0.000000</td>\n",
       "      <td>0.000000</td>\n",
       "      <td>0.000000</td>\n",
       "      <td>0.000000</td>\n",
       "      <td>0.000000</td>\n",
       "      <td>0.000000</td>\n",
       "      <td>...</td>\n",
       "      <td>0.009329</td>\n",
       "      <td>0.009770</td>\n",
       "      <td>0.002724</td>\n",
       "      <td>0.002172</td>\n",
       "      <td>0.001211</td>\n",
       "      <td>0.008848</td>\n",
       "      <td>0.016923</td>\n",
       "      <td>0.020812</td>\n",
       "      <td>0.013044</td>\n",
       "      <td>1.000000</td>\n",
       "    </tr>\n",
       "  </tbody>\n",
       "</table>\n",
       "<p>6425 rows × 6425 columns</p>\n",
       "</div>"
      ],
      "text/plain": [
       "             NOC2L      HES4     ISG15      AGRN  TNFRSF18   TNFRSF4  \\\n",
       "NOC2L     1.000000  0.120590  0.177063  0.085746  0.006792  0.007685   \n",
       "HES4      0.120590  1.000000  0.672060  0.391127  0.011695  0.009275   \n",
       "ISG15     0.177063  0.672060  1.000000  0.424696  0.013929  0.013311   \n",
       "AGRN      0.085746  0.391127  0.424696  1.000000  0.005309  0.011848   \n",
       "TNFRSF18  0.006792  0.011695  0.013929  0.005309  1.000000  0.338085   \n",
       "...            ...       ...       ...       ...       ...       ...   \n",
       "CPT1B     0.000000  0.000000  0.000000  0.000000  0.000000  0.000000   \n",
       "CHKB      0.000000  0.000000  0.000000  0.000000  0.000000  0.000000   \n",
       "MAPK8IP2  0.000000  0.000000  0.000000  0.000000  0.000000  0.000000   \n",
       "ARSA      0.000000  0.000000  0.000000  0.000000  0.000000  0.000000   \n",
       "SHANK3    0.000000  0.000000  0.000000  0.000000  0.000000  0.000000   \n",
       "\n",
       "           B3GALT6    UBE2J2     ACAP3    TAS1R3  ...    PLXNB2      ADM2  \\\n",
       "NOC2L     0.004673  0.010734  0.011200  0.007529  ...  0.000000  0.000000   \n",
       "HES4      0.005970  0.007385  0.002641  0.004767  ...  0.000000  0.000000   \n",
       "ISG15     0.008466  0.010608  0.006689  0.011659  ...  0.000000  0.000000   \n",
       "AGRN      0.002161  0.002535  0.005359  0.007012  ...  0.000000  0.000000   \n",
       "TNFRSF18  0.550817  0.154394  0.193627  0.101004  ...  0.000000  0.000000   \n",
       "...            ...       ...       ...       ...  ...       ...       ...   \n",
       "CPT1B     0.000000  0.000000  0.000000  0.000000  ...  0.018598  0.067904   \n",
       "CHKB      0.000000  0.000000  0.000000  0.000000  ...  0.030619  0.063087   \n",
       "MAPK8IP2  0.000000  0.000000  0.000000  0.000000  ...  0.044210  0.100652   \n",
       "ARSA      0.000000  0.000000  0.000000  0.000000  ...  0.012038  0.032331   \n",
       "SHANK3    0.000000  0.000000  0.000000  0.000000  ...  0.009329  0.009770   \n",
       "\n",
       "              MIOX      SCO2      TYMP     CPT1B      CHKB  MAPK8IP2  \\\n",
       "NOC2L     0.000000  0.000000  0.000000  0.000000  0.000000  0.000000   \n",
       "HES4      0.000000  0.000000  0.000000  0.000000  0.000000  0.000000   \n",
       "ISG15     0.000000  0.000000  0.000000  0.000000  0.000000  0.000000   \n",
       "AGRN      0.000000  0.000000  0.000000  0.000000  0.000000  0.000000   \n",
       "TNFRSF18  0.000000  0.000000  0.000000  0.000000  0.000000  0.000000   \n",
       "...            ...       ...       ...       ...       ...       ...   \n",
       "CPT1B     0.013164  0.255355  0.219886  1.000000  0.728282  0.180608   \n",
       "CHKB      0.013264  0.200121  0.200630  0.728282  1.000000  0.245883   \n",
       "MAPK8IP2  0.066327  0.051949  0.122998  0.180608  0.245883  1.000000   \n",
       "ARSA      0.021297  0.028119  0.037341  0.037057  0.040220  0.205749   \n",
       "SHANK3    0.002724  0.002172  0.001211  0.008848  0.016923  0.020812   \n",
       "\n",
       "              ARSA    SHANK3  \n",
       "NOC2L     0.000000  0.000000  \n",
       "HES4      0.000000  0.000000  \n",
       "ISG15     0.000000  0.000000  \n",
       "AGRN      0.000000  0.000000  \n",
       "TNFRSF18  0.000000  0.000000  \n",
       "...            ...       ...  \n",
       "CPT1B     0.037057  0.008848  \n",
       "CHKB      0.040220  0.016923  \n",
       "MAPK8IP2  0.205749  0.020812  \n",
       "ARSA      1.000000  0.013044  \n",
       "SHANK3    0.013044  1.000000  \n",
       "\n",
       "[6425 rows x 6425 columns]"
      ]
     },
     "metadata": {},
     "output_type": "display_data"
    },
    {
     "data": {
      "text/plain": [
       "'Number of negative eigenvalues: 1'"
      ]
     },
     "metadata": {},
     "output_type": "display_data"
    },
    {
     "data": {
      "text/plain": [
       "'Negative eigenvalues:\\n[-5.13870883e-16]'"
      ]
     },
     "metadata": {},
     "output_type": "display_data"
    },
    {
     "name": "stdout",
     "output_type": "stream",
     "text": [
      "Works! (statsmodels.GLS)\n",
      "Works!\n",
      "all good.\n"
     ]
    },
    {
     "data": {
      "text/plain": [
       "'Number of genes with correlations with other genes: 6425'"
      ]
     },
     "metadata": {},
     "output_type": "display_data"
    },
    {
     "data": {
      "text/plain": [
       "'Number of nonzero cells: 444179'"
      ]
     },
     "metadata": {},
     "output_type": "display_data"
    },
    {
     "data": {
      "text/plain": [
       "count               20637100.0\n",
       "mean     0.0001915197864625672\n",
       "std       0.006921896451277073\n",
       "min                        0.0\n",
       "25%                        0.0\n",
       "50%                        0.0\n",
       "75%                        0.0\n",
       "max         1.0000000000000009\n",
       "dtype: object"
      ]
     },
     "metadata": {},
     "output_type": "display_data"
    },
    {
     "data": {
      "text/plain": [
       "PosixPath('/project/ritchie20/projects/phenoplier/base/results/gls/gene_corrs/cohorts/emerge/gtex_v8/mashr/gene_corrs-symbols-within_distance_10mb.pkl')"
      ]
     },
     "metadata": {},
     "output_type": "display_data"
    },
    {
     "name": "stdout",
     "output_type": "stream",
     "text": [
      "\n",
      "\n",
      "Using within distance: 2.5\n"
     ]
    },
    {
     "data": {
      "text/html": [
       "<div>\n",
       "<style scoped>\n",
       "    .dataframe tbody tr th:only-of-type {\n",
       "        vertical-align: middle;\n",
       "    }\n",
       "\n",
       "    .dataframe tbody tr th {\n",
       "        vertical-align: top;\n",
       "    }\n",
       "\n",
       "    .dataframe thead th {\n",
       "        text-align: right;\n",
       "    }\n",
       "</style>\n",
       "<table border=\"1\" class=\"dataframe\">\n",
       "  <thead>\n",
       "    <tr style=\"text-align: right;\">\n",
       "      <th></th>\n",
       "      <th>NOC2L</th>\n",
       "      <th>HES4</th>\n",
       "      <th>ISG15</th>\n",
       "      <th>AGRN</th>\n",
       "      <th>TNFRSF18</th>\n",
       "      <th>TNFRSF4</th>\n",
       "      <th>B3GALT6</th>\n",
       "      <th>UBE2J2</th>\n",
       "      <th>ACAP3</th>\n",
       "      <th>TAS1R3</th>\n",
       "      <th>...</th>\n",
       "      <th>PLXNB2</th>\n",
       "      <th>ADM2</th>\n",
       "      <th>MIOX</th>\n",
       "      <th>SCO2</th>\n",
       "      <th>TYMP</th>\n",
       "      <th>CPT1B</th>\n",
       "      <th>CHKB</th>\n",
       "      <th>MAPK8IP2</th>\n",
       "      <th>ARSA</th>\n",
       "      <th>SHANK3</th>\n",
       "    </tr>\n",
       "  </thead>\n",
       "  <tbody>\n",
       "    <tr>\n",
       "      <th>NOC2L</th>\n",
       "      <td>1.000000</td>\n",
       "      <td>0.120590</td>\n",
       "      <td>0.177063</td>\n",
       "      <td>0.085746</td>\n",
       "      <td>0.006792</td>\n",
       "      <td>0.007685</td>\n",
       "      <td>0.004673</td>\n",
       "      <td>0.010734</td>\n",
       "      <td>0.011200</td>\n",
       "      <td>0.007529</td>\n",
       "      <td>...</td>\n",
       "      <td>0.000000</td>\n",
       "      <td>0.000000</td>\n",
       "      <td>0.000000</td>\n",
       "      <td>0.000000</td>\n",
       "      <td>0.000000</td>\n",
       "      <td>0.000000</td>\n",
       "      <td>0.000000</td>\n",
       "      <td>0.000000</td>\n",
       "      <td>0.000000</td>\n",
       "      <td>0.000000</td>\n",
       "    </tr>\n",
       "    <tr>\n",
       "      <th>HES4</th>\n",
       "      <td>0.120590</td>\n",
       "      <td>1.000000</td>\n",
       "      <td>0.672060</td>\n",
       "      <td>0.391127</td>\n",
       "      <td>0.011695</td>\n",
       "      <td>0.009275</td>\n",
       "      <td>0.005970</td>\n",
       "      <td>0.007385</td>\n",
       "      <td>0.002641</td>\n",
       "      <td>0.004767</td>\n",
       "      <td>...</td>\n",
       "      <td>0.000000</td>\n",
       "      <td>0.000000</td>\n",
       "      <td>0.000000</td>\n",
       "      <td>0.000000</td>\n",
       "      <td>0.000000</td>\n",
       "      <td>0.000000</td>\n",
       "      <td>0.000000</td>\n",
       "      <td>0.000000</td>\n",
       "      <td>0.000000</td>\n",
       "      <td>0.000000</td>\n",
       "    </tr>\n",
       "    <tr>\n",
       "      <th>ISG15</th>\n",
       "      <td>0.177063</td>\n",
       "      <td>0.672060</td>\n",
       "      <td>1.000000</td>\n",
       "      <td>0.424696</td>\n",
       "      <td>0.013929</td>\n",
       "      <td>0.013311</td>\n",
       "      <td>0.008466</td>\n",
       "      <td>0.010608</td>\n",
       "      <td>0.006689</td>\n",
       "      <td>0.011659</td>\n",
       "      <td>...</td>\n",
       "      <td>0.000000</td>\n",
       "      <td>0.000000</td>\n",
       "      <td>0.000000</td>\n",
       "      <td>0.000000</td>\n",
       "      <td>0.000000</td>\n",
       "      <td>0.000000</td>\n",
       "      <td>0.000000</td>\n",
       "      <td>0.000000</td>\n",
       "      <td>0.000000</td>\n",
       "      <td>0.000000</td>\n",
       "    </tr>\n",
       "    <tr>\n",
       "      <th>AGRN</th>\n",
       "      <td>0.085746</td>\n",
       "      <td>0.391127</td>\n",
       "      <td>0.424696</td>\n",
       "      <td>1.000000</td>\n",
       "      <td>0.005309</td>\n",
       "      <td>0.011848</td>\n",
       "      <td>0.002161</td>\n",
       "      <td>0.002535</td>\n",
       "      <td>0.005359</td>\n",
       "      <td>0.007012</td>\n",
       "      <td>...</td>\n",
       "      <td>0.000000</td>\n",
       "      <td>0.000000</td>\n",
       "      <td>0.000000</td>\n",
       "      <td>0.000000</td>\n",
       "      <td>0.000000</td>\n",
       "      <td>0.000000</td>\n",
       "      <td>0.000000</td>\n",
       "      <td>0.000000</td>\n",
       "      <td>0.000000</td>\n",
       "      <td>0.000000</td>\n",
       "    </tr>\n",
       "    <tr>\n",
       "      <th>TNFRSF18</th>\n",
       "      <td>0.006792</td>\n",
       "      <td>0.011695</td>\n",
       "      <td>0.013929</td>\n",
       "      <td>0.005309</td>\n",
       "      <td>1.000000</td>\n",
       "      <td>0.338085</td>\n",
       "      <td>0.550817</td>\n",
       "      <td>0.154394</td>\n",
       "      <td>0.193627</td>\n",
       "      <td>0.101004</td>\n",
       "      <td>...</td>\n",
       "      <td>0.000000</td>\n",
       "      <td>0.000000</td>\n",
       "      <td>0.000000</td>\n",
       "      <td>0.000000</td>\n",
       "      <td>0.000000</td>\n",
       "      <td>0.000000</td>\n",
       "      <td>0.000000</td>\n",
       "      <td>0.000000</td>\n",
       "      <td>0.000000</td>\n",
       "      <td>0.000000</td>\n",
       "    </tr>\n",
       "    <tr>\n",
       "      <th>...</th>\n",
       "      <td>...</td>\n",
       "      <td>...</td>\n",
       "      <td>...</td>\n",
       "      <td>...</td>\n",
       "      <td>...</td>\n",
       "      <td>...</td>\n",
       "      <td>...</td>\n",
       "      <td>...</td>\n",
       "      <td>...</td>\n",
       "      <td>...</td>\n",
       "      <td>...</td>\n",
       "      <td>...</td>\n",
       "      <td>...</td>\n",
       "      <td>...</td>\n",
       "      <td>...</td>\n",
       "      <td>...</td>\n",
       "      <td>...</td>\n",
       "      <td>...</td>\n",
       "      <td>...</td>\n",
       "      <td>...</td>\n",
       "      <td>...</td>\n",
       "    </tr>\n",
       "    <tr>\n",
       "      <th>CPT1B</th>\n",
       "      <td>0.000000</td>\n",
       "      <td>0.000000</td>\n",
       "      <td>0.000000</td>\n",
       "      <td>0.000000</td>\n",
       "      <td>0.000000</td>\n",
       "      <td>0.000000</td>\n",
       "      <td>0.000000</td>\n",
       "      <td>0.000000</td>\n",
       "      <td>0.000000</td>\n",
       "      <td>0.000000</td>\n",
       "      <td>...</td>\n",
       "      <td>0.018598</td>\n",
       "      <td>0.067904</td>\n",
       "      <td>0.013164</td>\n",
       "      <td>0.255355</td>\n",
       "      <td>0.219886</td>\n",
       "      <td>1.000000</td>\n",
       "      <td>0.728282</td>\n",
       "      <td>0.180608</td>\n",
       "      <td>0.037057</td>\n",
       "      <td>0.008848</td>\n",
       "    </tr>\n",
       "    <tr>\n",
       "      <th>CHKB</th>\n",
       "      <td>0.000000</td>\n",
       "      <td>0.000000</td>\n",
       "      <td>0.000000</td>\n",
       "      <td>0.000000</td>\n",
       "      <td>0.000000</td>\n",
       "      <td>0.000000</td>\n",
       "      <td>0.000000</td>\n",
       "      <td>0.000000</td>\n",
       "      <td>0.000000</td>\n",
       "      <td>0.000000</td>\n",
       "      <td>...</td>\n",
       "      <td>0.030619</td>\n",
       "      <td>0.063087</td>\n",
       "      <td>0.013264</td>\n",
       "      <td>0.200121</td>\n",
       "      <td>0.200630</td>\n",
       "      <td>0.728282</td>\n",
       "      <td>1.000000</td>\n",
       "      <td>0.245883</td>\n",
       "      <td>0.040220</td>\n",
       "      <td>0.016923</td>\n",
       "    </tr>\n",
       "    <tr>\n",
       "      <th>MAPK8IP2</th>\n",
       "      <td>0.000000</td>\n",
       "      <td>0.000000</td>\n",
       "      <td>0.000000</td>\n",
       "      <td>0.000000</td>\n",
       "      <td>0.000000</td>\n",
       "      <td>0.000000</td>\n",
       "      <td>0.000000</td>\n",
       "      <td>0.000000</td>\n",
       "      <td>0.000000</td>\n",
       "      <td>0.000000</td>\n",
       "      <td>...</td>\n",
       "      <td>0.044210</td>\n",
       "      <td>0.100652</td>\n",
       "      <td>0.066327</td>\n",
       "      <td>0.051949</td>\n",
       "      <td>0.122998</td>\n",
       "      <td>0.180608</td>\n",
       "      <td>0.245883</td>\n",
       "      <td>1.000000</td>\n",
       "      <td>0.205749</td>\n",
       "      <td>0.020812</td>\n",
       "    </tr>\n",
       "    <tr>\n",
       "      <th>ARSA</th>\n",
       "      <td>0.000000</td>\n",
       "      <td>0.000000</td>\n",
       "      <td>0.000000</td>\n",
       "      <td>0.000000</td>\n",
       "      <td>0.000000</td>\n",
       "      <td>0.000000</td>\n",
       "      <td>0.000000</td>\n",
       "      <td>0.000000</td>\n",
       "      <td>0.000000</td>\n",
       "      <td>0.000000</td>\n",
       "      <td>...</td>\n",
       "      <td>0.012038</td>\n",
       "      <td>0.032331</td>\n",
       "      <td>0.021297</td>\n",
       "      <td>0.028119</td>\n",
       "      <td>0.037341</td>\n",
       "      <td>0.037057</td>\n",
       "      <td>0.040220</td>\n",
       "      <td>0.205749</td>\n",
       "      <td>1.000000</td>\n",
       "      <td>0.013044</td>\n",
       "    </tr>\n",
       "    <tr>\n",
       "      <th>SHANK3</th>\n",
       "      <td>0.000000</td>\n",
       "      <td>0.000000</td>\n",
       "      <td>0.000000</td>\n",
       "      <td>0.000000</td>\n",
       "      <td>0.000000</td>\n",
       "      <td>0.000000</td>\n",
       "      <td>0.000000</td>\n",
       "      <td>0.000000</td>\n",
       "      <td>0.000000</td>\n",
       "      <td>0.000000</td>\n",
       "      <td>...</td>\n",
       "      <td>0.009329</td>\n",
       "      <td>0.009770</td>\n",
       "      <td>0.002724</td>\n",
       "      <td>0.002172</td>\n",
       "      <td>0.001211</td>\n",
       "      <td>0.008848</td>\n",
       "      <td>0.016923</td>\n",
       "      <td>0.020812</td>\n",
       "      <td>0.013044</td>\n",
       "      <td>1.000000</td>\n",
       "    </tr>\n",
       "  </tbody>\n",
       "</table>\n",
       "<p>6425 rows × 6425 columns</p>\n",
       "</div>"
      ],
      "text/plain": [
       "             NOC2L      HES4     ISG15      AGRN  TNFRSF18   TNFRSF4  \\\n",
       "NOC2L     1.000000  0.120590  0.177063  0.085746  0.006792  0.007685   \n",
       "HES4      0.120590  1.000000  0.672060  0.391127  0.011695  0.009275   \n",
       "ISG15     0.177063  0.672060  1.000000  0.424696  0.013929  0.013311   \n",
       "AGRN      0.085746  0.391127  0.424696  1.000000  0.005309  0.011848   \n",
       "TNFRSF18  0.006792  0.011695  0.013929  0.005309  1.000000  0.338085   \n",
       "...            ...       ...       ...       ...       ...       ...   \n",
       "CPT1B     0.000000  0.000000  0.000000  0.000000  0.000000  0.000000   \n",
       "CHKB      0.000000  0.000000  0.000000  0.000000  0.000000  0.000000   \n",
       "MAPK8IP2  0.000000  0.000000  0.000000  0.000000  0.000000  0.000000   \n",
       "ARSA      0.000000  0.000000  0.000000  0.000000  0.000000  0.000000   \n",
       "SHANK3    0.000000  0.000000  0.000000  0.000000  0.000000  0.000000   \n",
       "\n",
       "           B3GALT6    UBE2J2     ACAP3    TAS1R3  ...    PLXNB2      ADM2  \\\n",
       "NOC2L     0.004673  0.010734  0.011200  0.007529  ...  0.000000  0.000000   \n",
       "HES4      0.005970  0.007385  0.002641  0.004767  ...  0.000000  0.000000   \n",
       "ISG15     0.008466  0.010608  0.006689  0.011659  ...  0.000000  0.000000   \n",
       "AGRN      0.002161  0.002535  0.005359  0.007012  ...  0.000000  0.000000   \n",
       "TNFRSF18  0.550817  0.154394  0.193627  0.101004  ...  0.000000  0.000000   \n",
       "...            ...       ...       ...       ...  ...       ...       ...   \n",
       "CPT1B     0.000000  0.000000  0.000000  0.000000  ...  0.018598  0.067904   \n",
       "CHKB      0.000000  0.000000  0.000000  0.000000  ...  0.030619  0.063087   \n",
       "MAPK8IP2  0.000000  0.000000  0.000000  0.000000  ...  0.044210  0.100652   \n",
       "ARSA      0.000000  0.000000  0.000000  0.000000  ...  0.012038  0.032331   \n",
       "SHANK3    0.000000  0.000000  0.000000  0.000000  ...  0.009329  0.009770   \n",
       "\n",
       "              MIOX      SCO2      TYMP     CPT1B      CHKB  MAPK8IP2  \\\n",
       "NOC2L     0.000000  0.000000  0.000000  0.000000  0.000000  0.000000   \n",
       "HES4      0.000000  0.000000  0.000000  0.000000  0.000000  0.000000   \n",
       "ISG15     0.000000  0.000000  0.000000  0.000000  0.000000  0.000000   \n",
       "AGRN      0.000000  0.000000  0.000000  0.000000  0.000000  0.000000   \n",
       "TNFRSF18  0.000000  0.000000  0.000000  0.000000  0.000000  0.000000   \n",
       "...            ...       ...       ...       ...       ...       ...   \n",
       "CPT1B     0.013164  0.255355  0.219886  1.000000  0.728282  0.180608   \n",
       "CHKB      0.013264  0.200121  0.200630  0.728282  1.000000  0.245883   \n",
       "MAPK8IP2  0.066327  0.051949  0.122998  0.180608  0.245883  1.000000   \n",
       "ARSA      0.021297  0.028119  0.037341  0.037057  0.040220  0.205749   \n",
       "SHANK3    0.002724  0.002172  0.001211  0.008848  0.016923  0.020812   \n",
       "\n",
       "              ARSA    SHANK3  \n",
       "NOC2L     0.000000  0.000000  \n",
       "HES4      0.000000  0.000000  \n",
       "ISG15     0.000000  0.000000  \n",
       "AGRN      0.000000  0.000000  \n",
       "TNFRSF18  0.000000  0.000000  \n",
       "...            ...       ...  \n",
       "CPT1B     0.037057  0.008848  \n",
       "CHKB      0.040220  0.016923  \n",
       "MAPK8IP2  0.205749  0.020812  \n",
       "ARSA      1.000000  0.013044  \n",
       "SHANK3    0.013044  1.000000  \n",
       "\n",
       "[6425 rows x 6425 columns]"
      ]
     },
     "metadata": {},
     "output_type": "display_data"
    },
    {
     "data": {
      "text/plain": [
       "'Number of negative eigenvalues: 0'"
      ]
     },
     "metadata": {},
     "output_type": "display_data"
    },
    {
     "data": {
      "text/plain": [
       "'Negative eigenvalues:\\n[]'"
      ]
     },
     "metadata": {},
     "output_type": "display_data"
    },
    {
     "name": "stdout",
     "output_type": "stream",
     "text": [
      "Works! (statsmodels.GLS)\n",
      "Works!\n",
      "all good.\n"
     ]
    },
    {
     "data": {
      "text/plain": [
       "'Number of genes with correlations with other genes: 6424'"
      ]
     },
     "metadata": {},
     "output_type": "display_data"
    },
    {
     "data": {
      "text/plain": [
       "'Number of nonzero cells: 261545'"
      ]
     },
     "metadata": {},
     "output_type": "display_data"
    },
    {
     "data": {
      "text/plain": [
       "count               20637100.0\n",
       "mean     0.0001658625262430867\n",
       "std       0.006908584089720696\n",
       "min                        0.0\n",
       "25%                        0.0\n",
       "50%                        0.0\n",
       "75%                        0.0\n",
       "max         1.0000000000000009\n",
       "dtype: object"
      ]
     },
     "metadata": {},
     "output_type": "display_data"
    },
    {
     "data": {
      "text/plain": [
       "PosixPath('/project/ritchie20/projects/phenoplier/base/results/gls/gene_corrs/cohorts/emerge/gtex_v8/mashr/gene_corrs-symbols-within_distance_5mb.pkl')"
      ]
     },
     "metadata": {},
     "output_type": "display_data"
    },
    {
     "name": "stdout",
     "output_type": "stream",
     "text": [
      "\n",
      "\n",
      "Using within distance: 1.0\n"
     ]
    },
    {
     "data": {
      "text/html": [
       "<div>\n",
       "<style scoped>\n",
       "    .dataframe tbody tr th:only-of-type {\n",
       "        vertical-align: middle;\n",
       "    }\n",
       "\n",
       "    .dataframe tbody tr th {\n",
       "        vertical-align: top;\n",
       "    }\n",
       "\n",
       "    .dataframe thead th {\n",
       "        text-align: right;\n",
       "    }\n",
       "</style>\n",
       "<table border=\"1\" class=\"dataframe\">\n",
       "  <thead>\n",
       "    <tr style=\"text-align: right;\">\n",
       "      <th></th>\n",
       "      <th>NOC2L</th>\n",
       "      <th>HES4</th>\n",
       "      <th>ISG15</th>\n",
       "      <th>AGRN</th>\n",
       "      <th>TNFRSF18</th>\n",
       "      <th>TNFRSF4</th>\n",
       "      <th>B3GALT6</th>\n",
       "      <th>UBE2J2</th>\n",
       "      <th>ACAP3</th>\n",
       "      <th>TAS1R3</th>\n",
       "      <th>...</th>\n",
       "      <th>PLXNB2</th>\n",
       "      <th>ADM2</th>\n",
       "      <th>MIOX</th>\n",
       "      <th>SCO2</th>\n",
       "      <th>TYMP</th>\n",
       "      <th>CPT1B</th>\n",
       "      <th>CHKB</th>\n",
       "      <th>MAPK8IP2</th>\n",
       "      <th>ARSA</th>\n",
       "      <th>SHANK3</th>\n",
       "    </tr>\n",
       "  </thead>\n",
       "  <tbody>\n",
       "    <tr>\n",
       "      <th>NOC2L</th>\n",
       "      <td>1.000000</td>\n",
       "      <td>0.120590</td>\n",
       "      <td>0.177063</td>\n",
       "      <td>0.085746</td>\n",
       "      <td>0.006792</td>\n",
       "      <td>0.007685</td>\n",
       "      <td>0.004673</td>\n",
       "      <td>0.010734</td>\n",
       "      <td>0.011200</td>\n",
       "      <td>0.007529</td>\n",
       "      <td>...</td>\n",
       "      <td>0.000000</td>\n",
       "      <td>0.000000</td>\n",
       "      <td>0.000000</td>\n",
       "      <td>0.000000</td>\n",
       "      <td>0.000000</td>\n",
       "      <td>0.000000</td>\n",
       "      <td>0.000000</td>\n",
       "      <td>0.000000</td>\n",
       "      <td>0.000000</td>\n",
       "      <td>0.000000</td>\n",
       "    </tr>\n",
       "    <tr>\n",
       "      <th>HES4</th>\n",
       "      <td>0.120590</td>\n",
       "      <td>1.000000</td>\n",
       "      <td>0.672060</td>\n",
       "      <td>0.391127</td>\n",
       "      <td>0.011695</td>\n",
       "      <td>0.009275</td>\n",
       "      <td>0.005970</td>\n",
       "      <td>0.007385</td>\n",
       "      <td>0.002641</td>\n",
       "      <td>0.004767</td>\n",
       "      <td>...</td>\n",
       "      <td>0.000000</td>\n",
       "      <td>0.000000</td>\n",
       "      <td>0.000000</td>\n",
       "      <td>0.000000</td>\n",
       "      <td>0.000000</td>\n",
       "      <td>0.000000</td>\n",
       "      <td>0.000000</td>\n",
       "      <td>0.000000</td>\n",
       "      <td>0.000000</td>\n",
       "      <td>0.000000</td>\n",
       "    </tr>\n",
       "    <tr>\n",
       "      <th>ISG15</th>\n",
       "      <td>0.177063</td>\n",
       "      <td>0.672060</td>\n",
       "      <td>1.000000</td>\n",
       "      <td>0.424696</td>\n",
       "      <td>0.013929</td>\n",
       "      <td>0.013311</td>\n",
       "      <td>0.008466</td>\n",
       "      <td>0.010608</td>\n",
       "      <td>0.006689</td>\n",
       "      <td>0.011659</td>\n",
       "      <td>...</td>\n",
       "      <td>0.000000</td>\n",
       "      <td>0.000000</td>\n",
       "      <td>0.000000</td>\n",
       "      <td>0.000000</td>\n",
       "      <td>0.000000</td>\n",
       "      <td>0.000000</td>\n",
       "      <td>0.000000</td>\n",
       "      <td>0.000000</td>\n",
       "      <td>0.000000</td>\n",
       "      <td>0.000000</td>\n",
       "    </tr>\n",
       "    <tr>\n",
       "      <th>AGRN</th>\n",
       "      <td>0.085746</td>\n",
       "      <td>0.391127</td>\n",
       "      <td>0.424696</td>\n",
       "      <td>1.000000</td>\n",
       "      <td>0.005309</td>\n",
       "      <td>0.011848</td>\n",
       "      <td>0.002161</td>\n",
       "      <td>0.002535</td>\n",
       "      <td>0.005359</td>\n",
       "      <td>0.007012</td>\n",
       "      <td>...</td>\n",
       "      <td>0.000000</td>\n",
       "      <td>0.000000</td>\n",
       "      <td>0.000000</td>\n",
       "      <td>0.000000</td>\n",
       "      <td>0.000000</td>\n",
       "      <td>0.000000</td>\n",
       "      <td>0.000000</td>\n",
       "      <td>0.000000</td>\n",
       "      <td>0.000000</td>\n",
       "      <td>0.000000</td>\n",
       "    </tr>\n",
       "    <tr>\n",
       "      <th>TNFRSF18</th>\n",
       "      <td>0.006792</td>\n",
       "      <td>0.011695</td>\n",
       "      <td>0.013929</td>\n",
       "      <td>0.005309</td>\n",
       "      <td>1.000000</td>\n",
       "      <td>0.338085</td>\n",
       "      <td>0.550817</td>\n",
       "      <td>0.154394</td>\n",
       "      <td>0.193627</td>\n",
       "      <td>0.101004</td>\n",
       "      <td>...</td>\n",
       "      <td>0.000000</td>\n",
       "      <td>0.000000</td>\n",
       "      <td>0.000000</td>\n",
       "      <td>0.000000</td>\n",
       "      <td>0.000000</td>\n",
       "      <td>0.000000</td>\n",
       "      <td>0.000000</td>\n",
       "      <td>0.000000</td>\n",
       "      <td>0.000000</td>\n",
       "      <td>0.000000</td>\n",
       "    </tr>\n",
       "    <tr>\n",
       "      <th>...</th>\n",
       "      <td>...</td>\n",
       "      <td>...</td>\n",
       "      <td>...</td>\n",
       "      <td>...</td>\n",
       "      <td>...</td>\n",
       "      <td>...</td>\n",
       "      <td>...</td>\n",
       "      <td>...</td>\n",
       "      <td>...</td>\n",
       "      <td>...</td>\n",
       "      <td>...</td>\n",
       "      <td>...</td>\n",
       "      <td>...</td>\n",
       "      <td>...</td>\n",
       "      <td>...</td>\n",
       "      <td>...</td>\n",
       "      <td>...</td>\n",
       "      <td>...</td>\n",
       "      <td>...</td>\n",
       "      <td>...</td>\n",
       "      <td>...</td>\n",
       "    </tr>\n",
       "    <tr>\n",
       "      <th>CPT1B</th>\n",
       "      <td>0.000000</td>\n",
       "      <td>0.000000</td>\n",
       "      <td>0.000000</td>\n",
       "      <td>0.000000</td>\n",
       "      <td>0.000000</td>\n",
       "      <td>0.000000</td>\n",
       "      <td>0.000000</td>\n",
       "      <td>0.000000</td>\n",
       "      <td>0.000000</td>\n",
       "      <td>0.000000</td>\n",
       "      <td>...</td>\n",
       "      <td>0.018598</td>\n",
       "      <td>0.067904</td>\n",
       "      <td>0.013164</td>\n",
       "      <td>0.255355</td>\n",
       "      <td>0.219886</td>\n",
       "      <td>1.000000</td>\n",
       "      <td>0.728282</td>\n",
       "      <td>0.180608</td>\n",
       "      <td>0.037057</td>\n",
       "      <td>0.008848</td>\n",
       "    </tr>\n",
       "    <tr>\n",
       "      <th>CHKB</th>\n",
       "      <td>0.000000</td>\n",
       "      <td>0.000000</td>\n",
       "      <td>0.000000</td>\n",
       "      <td>0.000000</td>\n",
       "      <td>0.000000</td>\n",
       "      <td>0.000000</td>\n",
       "      <td>0.000000</td>\n",
       "      <td>0.000000</td>\n",
       "      <td>0.000000</td>\n",
       "      <td>0.000000</td>\n",
       "      <td>...</td>\n",
       "      <td>0.030619</td>\n",
       "      <td>0.063087</td>\n",
       "      <td>0.013264</td>\n",
       "      <td>0.200121</td>\n",
       "      <td>0.200630</td>\n",
       "      <td>0.728282</td>\n",
       "      <td>1.000000</td>\n",
       "      <td>0.245883</td>\n",
       "      <td>0.040220</td>\n",
       "      <td>0.016923</td>\n",
       "    </tr>\n",
       "    <tr>\n",
       "      <th>MAPK8IP2</th>\n",
       "      <td>0.000000</td>\n",
       "      <td>0.000000</td>\n",
       "      <td>0.000000</td>\n",
       "      <td>0.000000</td>\n",
       "      <td>0.000000</td>\n",
       "      <td>0.000000</td>\n",
       "      <td>0.000000</td>\n",
       "      <td>0.000000</td>\n",
       "      <td>0.000000</td>\n",
       "      <td>0.000000</td>\n",
       "      <td>...</td>\n",
       "      <td>0.044210</td>\n",
       "      <td>0.100652</td>\n",
       "      <td>0.066327</td>\n",
       "      <td>0.051949</td>\n",
       "      <td>0.122998</td>\n",
       "      <td>0.180608</td>\n",
       "      <td>0.245883</td>\n",
       "      <td>1.000000</td>\n",
       "      <td>0.205749</td>\n",
       "      <td>0.020812</td>\n",
       "    </tr>\n",
       "    <tr>\n",
       "      <th>ARSA</th>\n",
       "      <td>0.000000</td>\n",
       "      <td>0.000000</td>\n",
       "      <td>0.000000</td>\n",
       "      <td>0.000000</td>\n",
       "      <td>0.000000</td>\n",
       "      <td>0.000000</td>\n",
       "      <td>0.000000</td>\n",
       "      <td>0.000000</td>\n",
       "      <td>0.000000</td>\n",
       "      <td>0.000000</td>\n",
       "      <td>...</td>\n",
       "      <td>0.012038</td>\n",
       "      <td>0.032331</td>\n",
       "      <td>0.021297</td>\n",
       "      <td>0.028119</td>\n",
       "      <td>0.037341</td>\n",
       "      <td>0.037057</td>\n",
       "      <td>0.040220</td>\n",
       "      <td>0.205749</td>\n",
       "      <td>1.000000</td>\n",
       "      <td>0.013044</td>\n",
       "    </tr>\n",
       "    <tr>\n",
       "      <th>SHANK3</th>\n",
       "      <td>0.000000</td>\n",
       "      <td>0.000000</td>\n",
       "      <td>0.000000</td>\n",
       "      <td>0.000000</td>\n",
       "      <td>0.000000</td>\n",
       "      <td>0.000000</td>\n",
       "      <td>0.000000</td>\n",
       "      <td>0.000000</td>\n",
       "      <td>0.000000</td>\n",
       "      <td>0.000000</td>\n",
       "      <td>...</td>\n",
       "      <td>0.009329</td>\n",
       "      <td>0.009770</td>\n",
       "      <td>0.002724</td>\n",
       "      <td>0.002172</td>\n",
       "      <td>0.001211</td>\n",
       "      <td>0.008848</td>\n",
       "      <td>0.016923</td>\n",
       "      <td>0.020812</td>\n",
       "      <td>0.013044</td>\n",
       "      <td>1.000000</td>\n",
       "    </tr>\n",
       "  </tbody>\n",
       "</table>\n",
       "<p>6425 rows × 6425 columns</p>\n",
       "</div>"
      ],
      "text/plain": [
       "             NOC2L      HES4     ISG15      AGRN  TNFRSF18   TNFRSF4  \\\n",
       "NOC2L     1.000000  0.120590  0.177063  0.085746  0.006792  0.007685   \n",
       "HES4      0.120590  1.000000  0.672060  0.391127  0.011695  0.009275   \n",
       "ISG15     0.177063  0.672060  1.000000  0.424696  0.013929  0.013311   \n",
       "AGRN      0.085746  0.391127  0.424696  1.000000  0.005309  0.011848   \n",
       "TNFRSF18  0.006792  0.011695  0.013929  0.005309  1.000000  0.338085   \n",
       "...            ...       ...       ...       ...       ...       ...   \n",
       "CPT1B     0.000000  0.000000  0.000000  0.000000  0.000000  0.000000   \n",
       "CHKB      0.000000  0.000000  0.000000  0.000000  0.000000  0.000000   \n",
       "MAPK8IP2  0.000000  0.000000  0.000000  0.000000  0.000000  0.000000   \n",
       "ARSA      0.000000  0.000000  0.000000  0.000000  0.000000  0.000000   \n",
       "SHANK3    0.000000  0.000000  0.000000  0.000000  0.000000  0.000000   \n",
       "\n",
       "           B3GALT6    UBE2J2     ACAP3    TAS1R3  ...    PLXNB2      ADM2  \\\n",
       "NOC2L     0.004673  0.010734  0.011200  0.007529  ...  0.000000  0.000000   \n",
       "HES4      0.005970  0.007385  0.002641  0.004767  ...  0.000000  0.000000   \n",
       "ISG15     0.008466  0.010608  0.006689  0.011659  ...  0.000000  0.000000   \n",
       "AGRN      0.002161  0.002535  0.005359  0.007012  ...  0.000000  0.000000   \n",
       "TNFRSF18  0.550817  0.154394  0.193627  0.101004  ...  0.000000  0.000000   \n",
       "...            ...       ...       ...       ...  ...       ...       ...   \n",
       "CPT1B     0.000000  0.000000  0.000000  0.000000  ...  0.018598  0.067904   \n",
       "CHKB      0.000000  0.000000  0.000000  0.000000  ...  0.030619  0.063087   \n",
       "MAPK8IP2  0.000000  0.000000  0.000000  0.000000  ...  0.044210  0.100652   \n",
       "ARSA      0.000000  0.000000  0.000000  0.000000  ...  0.012038  0.032331   \n",
       "SHANK3    0.000000  0.000000  0.000000  0.000000  ...  0.009329  0.009770   \n",
       "\n",
       "              MIOX      SCO2      TYMP     CPT1B      CHKB  MAPK8IP2  \\\n",
       "NOC2L     0.000000  0.000000  0.000000  0.000000  0.000000  0.000000   \n",
       "HES4      0.000000  0.000000  0.000000  0.000000  0.000000  0.000000   \n",
       "ISG15     0.000000  0.000000  0.000000  0.000000  0.000000  0.000000   \n",
       "AGRN      0.000000  0.000000  0.000000  0.000000  0.000000  0.000000   \n",
       "TNFRSF18  0.000000  0.000000  0.000000  0.000000  0.000000  0.000000   \n",
       "...            ...       ...       ...       ...       ...       ...   \n",
       "CPT1B     0.013164  0.255355  0.219886  1.000000  0.728282  0.180608   \n",
       "CHKB      0.013264  0.200121  0.200630  0.728282  1.000000  0.245883   \n",
       "MAPK8IP2  0.066327  0.051949  0.122998  0.180608  0.245883  1.000000   \n",
       "ARSA      0.021297  0.028119  0.037341  0.037057  0.040220  0.205749   \n",
       "SHANK3    0.002724  0.002172  0.001211  0.008848  0.016923  0.020812   \n",
       "\n",
       "              ARSA    SHANK3  \n",
       "NOC2L     0.000000  0.000000  \n",
       "HES4      0.000000  0.000000  \n",
       "ISG15     0.000000  0.000000  \n",
       "AGRN      0.000000  0.000000  \n",
       "TNFRSF18  0.000000  0.000000  \n",
       "...            ...       ...  \n",
       "CPT1B     0.037057  0.008848  \n",
       "CHKB      0.040220  0.016923  \n",
       "MAPK8IP2  0.205749  0.020812  \n",
       "ARSA      1.000000  0.013044  \n",
       "SHANK3    0.013044  1.000000  \n",
       "\n",
       "[6425 rows x 6425 columns]"
      ]
     },
     "metadata": {},
     "output_type": "display_data"
    },
    {
     "data": {
      "text/plain": [
       "'Number of negative eigenvalues: 0'"
      ]
     },
     "metadata": {},
     "output_type": "display_data"
    },
    {
     "data": {
      "text/plain": [
       "'Negative eigenvalues:\\n[]'"
      ]
     },
     "metadata": {},
     "output_type": "display_data"
    },
    {
     "name": "stdout",
     "output_type": "stream",
     "text": [
      "Works! (statsmodels.GLS)\n",
      "Works!\n",
      "all good.\n"
     ]
    },
    {
     "data": {
      "text/plain": [
       "'Number of genes with correlations with other genes: 6408'"
      ]
     },
     "metadata": {},
     "output_type": "display_data"
    },
    {
     "data": {
      "text/plain": [
       "'Number of nonzero cells: 130497'"
      ]
     },
     "metadata": {},
     "output_type": "display_data"
    },
    {
     "data": {
      "text/plain": [
       "count                20637100.0\n",
       "mean     0.00014621780520781988\n",
       "std        0.006893305657478448\n",
       "min                         0.0\n",
       "25%                         0.0\n",
       "50%                         0.0\n",
       "75%                         0.0\n",
       "max          1.0000000000000009\n",
       "dtype: object"
      ]
     },
     "metadata": {},
     "output_type": "display_data"
    },
    {
     "data": {
      "text/plain": [
       "PosixPath('/project/ritchie20/projects/phenoplier/base/results/gls/gene_corrs/cohorts/emerge/gtex_v8/mashr/gene_corrs-symbols-within_distance_2mb.pkl')"
      ]
     },
     "metadata": {},
     "output_type": "display_data"
    },
    {
     "name": "stdout",
     "output_type": "stream",
     "text": [
      "\n",
      "\n"
     ]
    }
   ],
   "source": [
    "for full_distance in DISTANCES:\n",
    "    distance = full_distance / 2.0\n",
    "    print(f\"Using within distance: {distance}\", flush=True)\n",
    "\n",
    "    # compute a boolean within distance matrix using the given distance\n",
    "    genes_within_distance = np.eye(len(gene_objs)).astype(bool)\n",
    "    for g0_idx in range(len(gene_objs) - 1):\n",
    "        g0_obj = gene_objs[g0_idx]\n",
    "\n",
    "        for g1_idx in range(g0_idx + 1, len(gene_objs)):\n",
    "            g1_obj = gene_objs[g1_idx]\n",
    "\n",
    "            g0_g1_wd = g0_obj.within_distance(g1_obj, distance * 1e6)\n",
    "\n",
    "            genes_within_distance[g0_idx, g1_idx] = g0_g1_wd\n",
    "            genes_within_distance[g1_idx, g0_idx] = g0_g1_wd\n",
    "\n",
    "    genes_within_distance = pd.DataFrame(\n",
    "        genes_within_distance,\n",
    "        index=gene_corrs.index.copy(),\n",
    "        columns=gene_corrs.columns.copy(),\n",
    "    )\n",
    "\n",
    "    # subset full correlation matrix\n",
    "    gene_corrs_within_distance = gene_corrs[genes_within_distance].fillna(0.0)\n",
    "    assert not gene_corrs_within_distance.equals(gene_corrs)\n",
    "    assert not np.allclose(gene_corrs_within_distance.to_numpy(), gene_corrs.to_numpy())\n",
    "    display(gene_corrs_within_distance)\n",
    "\n",
    "    # check if the new matrix is positive definite\n",
    "    is_pos_def = check_pos_def(gene_corrs_within_distance)\n",
    "\n",
    "    if is_pos_def:\n",
    "        print(\"all good.\", flush=True, end=\"\\n\")\n",
    "    else:\n",
    "        print(\"not positive definite, fixing... \", flush=True, end=\"\")\n",
    "        corr_data_adjusted = adjust_non_pos_def(gene_corrs_within_distance)\n",
    "\n",
    "        is_pos_def = check_pos_def(corr_data_adjusted)\n",
    "        assert is_pos_def, \"Could not adjust gene correlation matrix\"\n",
    "\n",
    "        print(\"fixed! comparing...\", flush=True, end=\"\\n\")\n",
    "        compare_matrices(gene_corrs_within_distance, corr_data_adjusted)\n",
    "\n",
    "        # save\n",
    "        gene_corrs_within_distance = corr_data_adjusted\n",
    "\n",
    "    # checks\n",
    "    assert not gene_corrs_within_distance.isna().any(None)\n",
    "    assert not np.isinf(gene_corrs_within_distance.to_numpy()).any()\n",
    "    assert not np.iscomplex(gene_corrs_within_distance.to_numpy()).any()\n",
    "\n",
    "    # show stats\n",
    "    genes_corrs_sum = gene_corrs_within_distance.sum()\n",
    "    n_genes_included = genes_corrs_sum[genes_corrs_sum > 1.0].shape[0]\n",
    "    display(f\"Number of genes with correlations with other genes: {n_genes_included}\")\n",
    "\n",
    "    genes_corrs_nonzero_sum = (gene_corrs_within_distance > 0.0).astype(int).sum().sum()\n",
    "    display(f\"Number of nonzero cells: {genes_corrs_nonzero_sum}\")\n",
    "\n",
    "    corr_matrix_flat = gene_corrs_within_distance.mask(\n",
    "        np.triu(np.ones(gene_corrs_within_distance.shape)).astype(bool)\n",
    "    ).stack()\n",
    "    display(corr_matrix_flat.describe().apply(str))\n",
    "\n",
    "    # save file\n",
    "    output_filepath = (\n",
    "        OUTPUT_DIR_BASE\n",
    "        / f\"gene_corrs-symbols-within_distance_{int(full_distance)}mb.pkl\"\n",
    "    )\n",
    "    display(output_filepath)\n",
    "\n",
    "    gene_corrs_within_distance.to_pickle(output_filepath)\n",
    "\n",
    "    print(\"\\n\")"
   ]
  },
  {
   "cell_type": "code",
   "execution_count": null,
   "id": "38cf09b7",
   "metadata": {
    "papermill": {
     "duration": 0.015087,
     "end_time": "2022-08-31T13:19:34.265067",
     "exception": false,
     "start_time": "2022-08-31T13:19:34.249980",
     "status": "completed"
    },
    "tags": []
   },
   "outputs": [],
   "source": []
  }
 ],
 "metadata": {
  "jupytext": {
   "cell_metadata_filter": "all,-execution,-papermill,-trusted",
   "formats": "ipynb,py//py:percent"
  },
  "kernelspec": {
   "display_name": "Python 3 (ipykernel)",
   "language": "python",
   "name": "python3"
  },
  "language_info": {
   "codemirror_mode": {
    "name": "ipython",
    "version": 3
   },
   "file_extension": ".py",
   "mimetype": "text/x-python",
   "name": "python",
   "nbconvert_exporter": "python",
   "pygments_lexer": "ipython3",
   "version": "3.8.13"
  },
  "papermill": {
   "default_parameters": {},
   "duration": 394.846224,
   "end_time": "2022-08-31T13:19:34.711690",
   "environment_variables": {},
   "exception": null,
   "input_path": "nbs/15_gsa_gls/16-create_within_distance_matrices.ipynb",
   "output_path": "nbs/15_gsa_gls/gene_corrs/cohorts/emerge/gtex_v8/mashr/16-create_within_distance_matrices.run.ipynb",
   "parameters": {
    "COHORT_NAME": "emerge",
    "EQTL_MODEL": "MASHR",
    "REFERENCE_PANEL": "GTEX_V8"
   },
   "start_time": "2022-08-31T13:12:59.865466",
   "version": "2.2.2"
  }
 },
 "nbformat": 4,
 "nbformat_minor": 5
}
