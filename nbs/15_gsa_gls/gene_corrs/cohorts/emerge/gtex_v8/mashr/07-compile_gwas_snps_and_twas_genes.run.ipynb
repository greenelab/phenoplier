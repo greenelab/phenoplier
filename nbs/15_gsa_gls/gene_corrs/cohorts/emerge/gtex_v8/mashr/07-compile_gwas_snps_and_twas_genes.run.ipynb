{
 "cells": [
  {
   "cell_type": "markdown",
   "id": "7a6632fb",
   "metadata": {
    "papermill": {
     "duration": 0.047385,
     "end_time": "2022-08-30T16:43:25.939596",
     "exception": false,
     "start_time": "2022-08-30T16:43:25.892211",
     "status": "completed"
    },
    "tags": []
   },
   "source": [
    "# Description"
   ]
  },
  {
   "cell_type": "markdown",
   "id": "7097c346",
   "metadata": {
    "papermill": {
     "duration": 0.018543,
     "end_time": "2022-08-30T16:43:25.977199",
     "exception": false,
     "start_time": "2022-08-30T16:43:25.958656",
     "status": "completed"
    },
    "tags": []
   },
   "source": [
    "(Please, take a look at the README.md file in this directory for instructions on how to run this notebook)\n",
    "\n",
    "This notebook compiles information about the GWAS and TWAS for a particular cohort. For example, the set of GWAS variants, variance of predicted expression of genes, etc.\n",
    "\n",
    "It has specicfic parameters for papermill (see under `Settings` below).\n",
    "\n",
    "This notebook is not directly run. See README.md."
   ]
  },
  {
   "cell_type": "markdown",
   "id": "c61d8427",
   "metadata": {
    "papermill": {
     "duration": 0.018711,
     "end_time": "2022-08-30T16:43:26.014605",
     "exception": false,
     "start_time": "2022-08-30T16:43:25.995894",
     "status": "completed"
    },
    "tags": []
   },
   "source": [
    "# Modules"
   ]
  },
  {
   "cell_type": "code",
   "execution_count": 1,
   "id": "bbc0234f",
   "metadata": {
    "execution": {
     "iopub.execute_input": "2022-08-30T16:43:26.053535Z",
     "iopub.status.busy": "2022-08-30T16:43:26.053270Z",
     "iopub.status.idle": "2022-08-30T16:43:26.094024Z",
     "shell.execute_reply": "2022-08-30T16:43:26.093505Z"
    },
    "papermill": {
     "duration": 0.062262,
     "end_time": "2022-08-30T16:43:26.095705",
     "exception": false,
     "start_time": "2022-08-30T16:43:26.033443",
     "status": "completed"
    },
    "tags": []
   },
   "outputs": [],
   "source": [
    "%load_ext autoreload\n",
    "%autoreload 2"
   ]
  },
  {
   "cell_type": "code",
   "execution_count": 2,
   "id": "1d5f5a59",
   "metadata": {
    "execution": {
     "iopub.execute_input": "2022-08-30T16:43:26.134668Z",
     "iopub.status.busy": "2022-08-30T16:43:26.134480Z",
     "iopub.status.idle": "2022-08-30T16:43:27.383556Z",
     "shell.execute_reply": "2022-08-30T16:43:27.382749Z"
    },
    "papermill": {
     "duration": 1.270581,
     "end_time": "2022-08-30T16:43:27.385711",
     "exception": false,
     "start_time": "2022-08-30T16:43:26.115130",
     "status": "completed"
    },
    "tags": []
   },
   "outputs": [],
   "source": [
    "from pathlib import Path\n",
    "import pickle\n",
    "\n",
    "import numpy as np\n",
    "import pandas as pd\n",
    "\n",
    "import conf\n",
    "from entity import Gene"
   ]
  },
  {
   "cell_type": "markdown",
   "id": "1eac24b5",
   "metadata": {
    "papermill": {
     "duration": 0.019533,
     "end_time": "2022-08-30T16:43:27.425814",
     "exception": false,
     "start_time": "2022-08-30T16:43:27.406281",
     "status": "completed"
    },
    "tags": []
   },
   "source": [
    "# Settings"
   ]
  },
  {
   "cell_type": "code",
   "execution_count": 3,
   "id": "ca4560ba",
   "metadata": {
    "execution": {
     "iopub.execute_input": "2022-08-30T16:43:27.466390Z",
     "iopub.status.busy": "2022-08-30T16:43:27.466165Z",
     "iopub.status.idle": "2022-08-30T16:43:27.562361Z",
     "shell.execute_reply": "2022-08-30T16:43:27.561853Z"
    },
    "papermill": {
     "duration": 0.118513,
     "end_time": "2022-08-30T16:43:27.564012",
     "exception": false,
     "start_time": "2022-08-30T16:43:27.445499",
     "status": "completed"
    },
    "tags": [
     "parameters"
    ]
   },
   "outputs": [],
   "source": [
    "# a cohort name (it could be something like UK_BIOBANK, etc)\n",
    "COHORT_NAME = None\n",
    "\n",
    "# reference panel such as 1000G or GTEX_V8\n",
    "REFERENCE_PANEL = None\n",
    "\n",
    "# predictions models such as MASHR or ELASTIC_NET\n",
    "EQTL_MODEL = None\n",
    "\n",
    "# a string with a path pointing to an imputed GWAS\n",
    "GWAS_FILE = None\n",
    "\n",
    "# a string with a path pointing where S-PrediXcan results (tissue-specific are located\n",
    "SPREDIXCAN_FOLDER = None\n",
    "\n",
    "# an f-string with one placeholder {tissue}\n",
    "SPREDIXCAN_FILE_PATTERN = None\n",
    "\n",
    "# a string with a path pointing to an S-MultiXcan result\n",
    "SMULTIXCAN_FILE = None"
   ]
  },
  {
   "cell_type": "code",
   "execution_count": 4,
   "id": "65c095fa",
   "metadata": {
    "execution": {
     "iopub.execute_input": "2022-08-30T16:43:27.604148Z",
     "iopub.status.busy": "2022-08-30T16:43:27.603931Z",
     "iopub.status.idle": "2022-08-30T16:43:27.619083Z",
     "shell.execute_reply": "2022-08-30T16:43:27.618559Z"
    },
    "papermill": {
     "duration": 0.036864,
     "end_time": "2022-08-30T16:43:27.620665",
     "exception": false,
     "start_time": "2022-08-30T16:43:27.583801",
     "status": "completed"
    },
    "tags": [
     "injected-parameters"
    ]
   },
   "outputs": [],
   "source": [
    "# Parameters\n",
    "COHORT_NAME = \"emerge\"\n",
    "REFERENCE_PANEL = \"GTEX_V8\"\n",
    "EQTL_MODEL = \"MASHR\"\n",
    "GWAS_FILE = \"/project/ritchie20/projects/phenoplier/base/data/emerge/gwas/EUR_411.3_imputed.txt.gz\"\n",
    "SPREDIXCAN_FOLDER = (\n",
    "    \"/project/ritchie20/projects/phenoplier/base/data/emerge/spredixcan/EUR_411.3/\"\n",
    ")\n",
    "SPREDIXCAN_FILE_PATTERN = \"eMERGE_III_spredixcan_mashr_eqtl_EUR_411.3_{tissue}.csv\"\n",
    "SMULTIXCAN_FILE = \"/project/ritchie20/projects/phenoplier/base/data/emerge/smultixcan/eMERGE_III_smultixcan_mashr_eqtl_EUR_411.3.txt\"\n"
   ]
  },
  {
   "cell_type": "code",
   "execution_count": 5,
   "id": "8fe24bef",
   "metadata": {
    "execution": {
     "iopub.execute_input": "2022-08-30T16:43:27.660208Z",
     "iopub.status.busy": "2022-08-30T16:43:27.659975Z",
     "iopub.status.idle": "2022-08-30T16:43:27.682397Z",
     "shell.execute_reply": "2022-08-30T16:43:27.681887Z"
    },
    "papermill": {
     "duration": 0.043636,
     "end_time": "2022-08-30T16:43:27.683902",
     "exception": false,
     "start_time": "2022-08-30T16:43:27.640266",
     "status": "completed"
    },
    "tags": []
   },
   "outputs": [
    {
     "data": {
      "text/plain": [
       "'Cohort name: emerge'"
      ]
     },
     "metadata": {},
     "output_type": "display_data"
    }
   ],
   "source": [
    "assert COHORT_NAME is not None and len(COHORT_NAME) > 0, \"A cohort name must be given\"\n",
    "\n",
    "COHORT_NAME = COHORT_NAME.lower()\n",
    "display(f\"Cohort name: {COHORT_NAME}\")"
   ]
  },
  {
   "cell_type": "code",
   "execution_count": 6,
   "id": "f53ba19b-0f93-4fa2-a047-63b375939d1a",
   "metadata": {
    "execution": {
     "iopub.execute_input": "2022-08-30T16:43:27.723138Z",
     "iopub.status.busy": "2022-08-30T16:43:27.722900Z",
     "iopub.status.idle": "2022-08-30T16:43:27.739571Z",
     "shell.execute_reply": "2022-08-30T16:43:27.739088Z"
    },
    "papermill": {
     "duration": 0.038025,
     "end_time": "2022-08-30T16:43:27.741094",
     "exception": false,
     "start_time": "2022-08-30T16:43:27.703069",
     "status": "completed"
    },
    "tags": []
   },
   "outputs": [
    {
     "data": {
      "text/plain": [
       "'Reference panel: GTEX_V8'"
      ]
     },
     "metadata": {},
     "output_type": "display_data"
    }
   ],
   "source": [
    "assert (\n",
    "    REFERENCE_PANEL is not None and len(REFERENCE_PANEL) > 0\n",
    "), \"A reference panel must be given\"\n",
    "\n",
    "display(f\"Reference panel: {REFERENCE_PANEL}\")"
   ]
  },
  {
   "cell_type": "code",
   "execution_count": 7,
   "id": "7a970044-2d34-4e5b-a850-eff44079afe8",
   "metadata": {
    "execution": {
     "iopub.execute_input": "2022-08-30T16:43:27.781464Z",
     "iopub.status.busy": "2022-08-30T16:43:27.781272Z",
     "iopub.status.idle": "2022-08-30T16:43:27.797665Z",
     "shell.execute_reply": "2022-08-30T16:43:27.797184Z"
    },
    "papermill": {
     "duration": 0.038043,
     "end_time": "2022-08-30T16:43:27.799179",
     "exception": false,
     "start_time": "2022-08-30T16:43:27.761136",
     "status": "completed"
    },
    "tags": []
   },
   "outputs": [
    {
     "data": {
      "text/plain": [
       "'GWAS file path: /project/ritchie20/projects/phenoplier/base/data/emerge/gwas/EUR_411.3_imputed.txt.gz'"
      ]
     },
     "metadata": {},
     "output_type": "display_data"
    }
   ],
   "source": [
    "assert GWAS_FILE is not None and len(GWAS_FILE) > 0, \"A GWAS file path must be given\"\n",
    "GWAS_FILE = Path(GWAS_FILE).resolve()\n",
    "assert GWAS_FILE.exists(), \"GWAS file does not exist\"\n",
    "\n",
    "display(f\"GWAS file path: {str(GWAS_FILE)}\")"
   ]
  },
  {
   "cell_type": "code",
   "execution_count": 8,
   "id": "552a7f63-a18c-4d3e-bb6a-94f99b431291",
   "metadata": {
    "execution": {
     "iopub.execute_input": "2022-08-30T16:43:27.839169Z",
     "iopub.status.busy": "2022-08-30T16:43:27.838956Z",
     "iopub.status.idle": "2022-08-30T16:43:27.855188Z",
     "shell.execute_reply": "2022-08-30T16:43:27.854658Z"
    },
    "papermill": {
     "duration": 0.037868,
     "end_time": "2022-08-30T16:43:27.856646",
     "exception": false,
     "start_time": "2022-08-30T16:43:27.818778",
     "status": "completed"
    },
    "tags": []
   },
   "outputs": [
    {
     "data": {
      "text/plain": [
       "'S-PrediXcan folder path: /project/ritchie20/projects/phenoplier/base/data/emerge/spredixcan/EUR_411.3'"
      ]
     },
     "metadata": {},
     "output_type": "display_data"
    }
   ],
   "source": [
    "assert (\n",
    "    SPREDIXCAN_FOLDER is not None and len(SPREDIXCAN_FOLDER) > 0\n",
    "), \"An S-PrediXcan folder path must be given\"\n",
    "SPREDIXCAN_FOLDER = Path(SPREDIXCAN_FOLDER).resolve()\n",
    "assert SPREDIXCAN_FOLDER.exists(), \"S-PrediXcan folder does not exist\"\n",
    "\n",
    "display(f\"S-PrediXcan folder path: {str(SPREDIXCAN_FOLDER)}\")"
   ]
  },
  {
   "cell_type": "code",
   "execution_count": 9,
   "id": "6e2000dc-f1dc-4db8-93d5-9a7209a2e121",
   "metadata": {
    "execution": {
     "iopub.execute_input": "2022-08-30T16:43:27.896509Z",
     "iopub.status.busy": "2022-08-30T16:43:27.896317Z",
     "iopub.status.idle": "2022-08-30T16:43:27.911907Z",
     "shell.execute_reply": "2022-08-30T16:43:27.911397Z"
    },
    "papermill": {
     "duration": 0.037361,
     "end_time": "2022-08-30T16:43:27.913407",
     "exception": false,
     "start_time": "2022-08-30T16:43:27.876046",
     "status": "completed"
    },
    "tags": []
   },
   "outputs": [
    {
     "data": {
      "text/plain": [
       "'S-PrediXcan file template: eMERGE_III_spredixcan_mashr_eqtl_EUR_411.3_{tissue}.csv'"
      ]
     },
     "metadata": {},
     "output_type": "display_data"
    }
   ],
   "source": [
    "assert (\n",
    "    SPREDIXCAN_FILE_PATTERN is not None and len(SPREDIXCAN_FILE_PATTERN) > 0\n",
    "), \"An S-PrediXcan file pattern must be given\"\n",
    "assert (\n",
    "    \"{tissue}\" in SPREDIXCAN_FILE_PATTERN\n",
    "), \"S-PrediXcan file pattern must have a '{tissue}' placeholder\"\n",
    "\n",
    "display(f\"S-PrediXcan file template: {SPREDIXCAN_FILE_PATTERN}\")"
   ]
  },
  {
   "cell_type": "code",
   "execution_count": 10,
   "id": "f5a5aa9d-c6f3-4fb5-9351-37382b6e67bc",
   "metadata": {
    "execution": {
     "iopub.execute_input": "2022-08-30T16:43:27.953152Z",
     "iopub.status.busy": "2022-08-30T16:43:27.952940Z",
     "iopub.status.idle": "2022-08-30T16:43:27.969350Z",
     "shell.execute_reply": "2022-08-30T16:43:27.968847Z"
    },
    "papermill": {
     "duration": 0.038204,
     "end_time": "2022-08-30T16:43:27.970841",
     "exception": false,
     "start_time": "2022-08-30T16:43:27.932637",
     "status": "completed"
    },
    "tags": []
   },
   "outputs": [
    {
     "data": {
      "text/plain": [
       "'S-MultiXcan file path: /project/ritchie20/projects/phenoplier/base/data/emerge/smultixcan/eMERGE_III_smultixcan_mashr_eqtl_EUR_411.3.txt'"
      ]
     },
     "metadata": {},
     "output_type": "display_data"
    }
   ],
   "source": [
    "assert (\n",
    "    SMULTIXCAN_FILE is not None and len(SMULTIXCAN_FILE) > 0\n",
    "), \"An S-MultiXcan result file path must be given\"\n",
    "SMULTIXCAN_FILE = Path(SMULTIXCAN_FILE).resolve()\n",
    "assert SMULTIXCAN_FILE.exists(), \"S-MultiXcan result file does not exist\"\n",
    "\n",
    "display(f\"S-MultiXcan file path: {str(SMULTIXCAN_FILE)}\")"
   ]
  },
  {
   "cell_type": "code",
   "execution_count": 11,
   "id": "0723dc2f-34d1-407c-a55b-d6d13c55d63d",
   "metadata": {
    "execution": {
     "iopub.execute_input": "2022-08-30T16:43:28.012484Z",
     "iopub.status.busy": "2022-08-30T16:43:28.012293Z",
     "iopub.status.idle": "2022-08-30T16:43:28.027572Z",
     "shell.execute_reply": "2022-08-30T16:43:28.027092Z"
    },
    "papermill": {
     "duration": 0.037253,
     "end_time": "2022-08-30T16:43:28.029084",
     "exception": false,
     "start_time": "2022-08-30T16:43:27.991831",
     "status": "completed"
    },
    "tags": []
   },
   "outputs": [
    {
     "data": {
      "text/plain": [
       "'eQTL model: MASHR'"
      ]
     },
     "metadata": {},
     "output_type": "display_data"
    }
   ],
   "source": [
    "assert (\n",
    "    EQTL_MODEL is not None and len(EQTL_MODEL) > 0\n",
    "), \"A prediction/eQTL model must be given\"\n",
    "\n",
    "display(f\"eQTL model: {EQTL_MODEL}\")"
   ]
  },
  {
   "cell_type": "code",
   "execution_count": 12,
   "id": "396392dc-0340-4540-9b02-e182b833f909",
   "metadata": {
    "execution": {
     "iopub.execute_input": "2022-08-30T16:43:28.070397Z",
     "iopub.status.busy": "2022-08-30T16:43:28.070204Z",
     "iopub.status.idle": "2022-08-30T16:43:28.087869Z",
     "shell.execute_reply": "2022-08-30T16:43:28.087362Z"
    },
    "papermill": {
     "duration": 0.04011,
     "end_time": "2022-08-30T16:43:28.089374",
     "exception": false,
     "start_time": "2022-08-30T16:43:28.049264",
     "status": "completed"
    },
    "tags": []
   },
   "outputs": [
    {
     "data": {
      "text/plain": [
       "'Using output dir base: /project/ritchie20/projects/phenoplier/base/results/gls/gene_corrs/cohorts/emerge/gtex_v8/mashr'"
      ]
     },
     "metadata": {},
     "output_type": "display_data"
    }
   ],
   "source": [
    "OUTPUT_DIR_BASE = (\n",
    "    conf.RESULTS[\"GLS\"]\n",
    "    / \"gene_corrs\"\n",
    "    / \"cohorts\"\n",
    "    / COHORT_NAME\n",
    "    / REFERENCE_PANEL.lower()\n",
    "    / EQTL_MODEL.lower()\n",
    ")\n",
    "\n",
    "OUTPUT_DIR_BASE.mkdir(parents=True, exist_ok=True)\n",
    "\n",
    "display(f\"Using output dir base: {OUTPUT_DIR_BASE}\")"
   ]
  },
  {
   "cell_type": "markdown",
   "id": "b6ebb422-8204-494b-8c72-360a71ce9863",
   "metadata": {
    "papermill": {
     "duration": 0.020403,
     "end_time": "2022-08-30T16:43:28.130283",
     "exception": false,
     "start_time": "2022-08-30T16:43:28.109880",
     "status": "completed"
    },
    "tags": []
   },
   "source": [
    "# Load MultiPLIER Z genes"
   ]
  },
  {
   "cell_type": "code",
   "execution_count": 13,
   "id": "c48ef527",
   "metadata": {
    "execution": {
     "iopub.execute_input": "2022-08-30T16:43:28.171820Z",
     "iopub.status.busy": "2022-08-30T16:43:28.171599Z",
     "iopub.status.idle": "2022-08-30T16:43:28.239817Z",
     "shell.execute_reply": "2022-08-30T16:43:28.239204Z"
    },
    "papermill": {
     "duration": 0.091078,
     "end_time": "2022-08-30T16:43:28.241828",
     "exception": false,
     "start_time": "2022-08-30T16:43:28.150750",
     "status": "completed"
    },
    "tags": []
   },
   "outputs": [],
   "source": [
    "multiplier_z_genes = pd.read_pickle(\n",
    "    conf.MULTIPLIER[\"MODEL_Z_MATRIX_FILE\"]\n",
    ").index.tolist()"
   ]
  },
  {
   "cell_type": "code",
   "execution_count": 14,
   "id": "0a4ecbd9",
   "metadata": {
    "execution": {
     "iopub.execute_input": "2022-08-30T16:43:28.285390Z",
     "iopub.status.busy": "2022-08-30T16:43:28.285179Z",
     "iopub.status.idle": "2022-08-30T16:43:28.303971Z",
     "shell.execute_reply": "2022-08-30T16:43:28.303446Z"
    },
    "papermill": {
     "duration": 0.041844,
     "end_time": "2022-08-30T16:43:28.305497",
     "exception": false,
     "start_time": "2022-08-30T16:43:28.263653",
     "status": "completed"
    },
    "tags": []
   },
   "outputs": [
    {
     "data": {
      "text/plain": [
       "6750"
      ]
     },
     "execution_count": 14,
     "metadata": {},
     "output_type": "execute_result"
    }
   ],
   "source": [
    "len(multiplier_z_genes)"
   ]
  },
  {
   "cell_type": "code",
   "execution_count": 15,
   "id": "a18ce359-0759-4260-ae6f-053e8c0041b7",
   "metadata": {
    "execution": {
     "iopub.execute_input": "2022-08-30T16:43:28.347396Z",
     "iopub.status.busy": "2022-08-30T16:43:28.347193Z",
     "iopub.status.idle": "2022-08-30T16:43:28.361675Z",
     "shell.execute_reply": "2022-08-30T16:43:28.361168Z"
    },
    "papermill": {
     "duration": 0.037179,
     "end_time": "2022-08-30T16:43:28.363325",
     "exception": false,
     "start_time": "2022-08-30T16:43:28.326146",
     "status": "completed"
    },
    "tags": []
   },
   "outputs": [],
   "source": [
    "assert len(multiplier_z_genes) == len(set(multiplier_z_genes))"
   ]
  },
  {
   "cell_type": "code",
   "execution_count": 16,
   "id": "115e8864",
   "metadata": {
    "execution": {
     "iopub.execute_input": "2022-08-30T16:43:28.405664Z",
     "iopub.status.busy": "2022-08-30T16:43:28.405461Z",
     "iopub.status.idle": "2022-08-30T16:43:28.421142Z",
     "shell.execute_reply": "2022-08-30T16:43:28.420629Z"
    },
    "papermill": {
     "duration": 0.038612,
     "end_time": "2022-08-30T16:43:28.422666",
     "exception": false,
     "start_time": "2022-08-30T16:43:28.384054",
     "status": "completed"
    },
    "tags": []
   },
   "outputs": [
    {
     "data": {
      "text/plain": [
       "['GAS6', 'MMP14', 'DSP', 'MARCKSL1', 'SPARC']"
      ]
     },
     "execution_count": 16,
     "metadata": {},
     "output_type": "execute_result"
    }
   ],
   "source": [
    "multiplier_z_genes[:5]"
   ]
  },
  {
   "cell_type": "markdown",
   "id": "7bed0ce0-e7c7-4300-9a61-5412450b1904",
   "metadata": {
    "papermill": {
     "duration": 0.020259,
     "end_time": "2022-08-30T16:43:28.464200",
     "exception": false,
     "start_time": "2022-08-30T16:43:28.443941",
     "status": "completed"
    },
    "tags": []
   },
   "source": [
    "# GWAS"
   ]
  },
  {
   "cell_type": "code",
   "execution_count": 17,
   "id": "331e5691-c014-43e4-b94c-060c64d329df",
   "metadata": {
    "execution": {
     "iopub.execute_input": "2022-08-30T16:43:28.506643Z",
     "iopub.status.busy": "2022-08-30T16:43:28.506439Z",
     "iopub.status.idle": "2022-08-30T16:43:28.529698Z",
     "shell.execute_reply": "2022-08-30T16:43:28.529170Z"
    },
    "papermill": {
     "duration": 0.046635,
     "end_time": "2022-08-30T16:43:28.531421",
     "exception": false,
     "start_time": "2022-08-30T16:43:28.484786",
     "status": "completed"
    },
    "tags": []
   },
   "outputs": [],
   "source": [
    "gwas_file_columns = pd.read_csv(GWAS_FILE, sep=\"\\t\", nrows=2).columns\n",
    "assert (\n",
    "    \"panel_variant_id\" in gwas_file_columns\n",
    "), \"GWAS file must be final imputed one with column 'panel_variant_id'\"\n",
    "# FIXME: add other needed columns here"
   ]
  },
  {
   "cell_type": "code",
   "execution_count": 18,
   "id": "8d419629-8f4d-4c83-bed3-cfc071a58090",
   "metadata": {
    "execution": {
     "iopub.execute_input": "2022-08-30T16:43:28.575224Z",
     "iopub.status.busy": "2022-08-30T16:43:28.575005Z",
     "iopub.status.idle": "2022-08-30T16:43:42.499055Z",
     "shell.execute_reply": "2022-08-30T16:43:42.498200Z"
    },
    "papermill": {
     "duration": 13.948332,
     "end_time": "2022-08-30T16:43:42.501121",
     "exception": false,
     "start_time": "2022-08-30T16:43:28.552789",
     "status": "completed"
    },
    "tags": []
   },
   "outputs": [],
   "source": [
    "gwas_data = pd.read_csv(\n",
    "    GWAS_FILE,\n",
    "    sep=\"\\t\",\n",
    "    usecols=[\"panel_variant_id\", \"pvalue\", \"zscore\"],\n",
    ")"
   ]
  },
  {
   "cell_type": "code",
   "execution_count": 19,
   "id": "3f4e814e-6b41-407e-9099-86795eec6ed9",
   "metadata": {
    "execution": {
     "iopub.execute_input": "2022-08-30T16:43:42.543839Z",
     "iopub.status.busy": "2022-08-30T16:43:42.543617Z",
     "iopub.status.idle": "2022-08-30T16:43:42.737664Z",
     "shell.execute_reply": "2022-08-30T16:43:42.737066Z"
    },
    "papermill": {
     "duration": 0.21723,
     "end_time": "2022-08-30T16:43:42.739179",
     "exception": false,
     "start_time": "2022-08-30T16:43:42.521949",
     "status": "completed"
    },
    "tags": []
   },
   "outputs": [
    {
     "data": {
      "text/plain": [
       "(8376512, 3)"
      ]
     },
     "execution_count": 19,
     "metadata": {},
     "output_type": "execute_result"
    }
   ],
   "source": [
    "gwas_data.shape"
   ]
  },
  {
   "cell_type": "code",
   "execution_count": 20,
   "id": "b4a906e9-c80a-47fc-9d73-5adb046f8b76",
   "metadata": {
    "execution": {
     "iopub.execute_input": "2022-08-30T16:43:42.781796Z",
     "iopub.status.busy": "2022-08-30T16:43:42.781580Z",
     "iopub.status.idle": "2022-08-30T16:43:42.802525Z",
     "shell.execute_reply": "2022-08-30T16:43:42.802035Z"
    },
    "papermill": {
     "duration": 0.043757,
     "end_time": "2022-08-30T16:43:42.803998",
     "exception": false,
     "start_time": "2022-08-30T16:43:42.760241",
     "status": "completed"
    },
    "tags": []
   },
   "outputs": [
    {
     "data": {
      "text/html": [
       "<div>\n",
       "<style scoped>\n",
       "    .dataframe tbody tr th:only-of-type {\n",
       "        vertical-align: middle;\n",
       "    }\n",
       "\n",
       "    .dataframe tbody tr th {\n",
       "        vertical-align: top;\n",
       "    }\n",
       "\n",
       "    .dataframe thead th {\n",
       "        text-align: right;\n",
       "    }\n",
       "</style>\n",
       "<table border=\"1\" class=\"dataframe\">\n",
       "  <thead>\n",
       "    <tr style=\"text-align: right;\">\n",
       "      <th></th>\n",
       "      <th>panel_variant_id</th>\n",
       "      <th>zscore</th>\n",
       "      <th>pvalue</th>\n",
       "    </tr>\n",
       "  </thead>\n",
       "  <tbody>\n",
       "    <tr>\n",
       "      <th>0</th>\n",
       "      <td>chr1_54490_G_A_b38</td>\n",
       "      <td>-0.719998</td>\n",
       "      <td>0.471526</td>\n",
       "    </tr>\n",
       "    <tr>\n",
       "      <th>1</th>\n",
       "      <td>chr1_87021_T_C_b38</td>\n",
       "      <td>-1.194425</td>\n",
       "      <td>0.232312</td>\n",
       "    </tr>\n",
       "    <tr>\n",
       "      <th>2</th>\n",
       "      <td>chr1_263722_C_G_b38</td>\n",
       "      <td>0.207573</td>\n",
       "      <td>0.835562</td>\n",
       "    </tr>\n",
       "    <tr>\n",
       "      <th>3</th>\n",
       "      <td>chr1_594402_C_T_b38</td>\n",
       "      <td>-0.375183</td>\n",
       "      <td>0.707524</td>\n",
       "    </tr>\n",
       "    <tr>\n",
       "      <th>4</th>\n",
       "      <td>chr1_630555_C_T_b38</td>\n",
       "      <td>-0.371214</td>\n",
       "      <td>0.710478</td>\n",
       "    </tr>\n",
       "  </tbody>\n",
       "</table>\n",
       "</div>"
      ],
      "text/plain": [
       "      panel_variant_id    zscore    pvalue\n",
       "0   chr1_54490_G_A_b38 -0.719998  0.471526\n",
       "1   chr1_87021_T_C_b38 -1.194425  0.232312\n",
       "2  chr1_263722_C_G_b38  0.207573  0.835562\n",
       "3  chr1_594402_C_T_b38 -0.375183  0.707524\n",
       "4  chr1_630555_C_T_b38 -0.371214  0.710478"
      ]
     },
     "execution_count": 20,
     "metadata": {},
     "output_type": "execute_result"
    }
   ],
   "source": [
    "gwas_data.head()"
   ]
  },
  {
   "cell_type": "code",
   "execution_count": 21,
   "id": "033c24fb-9c60-4ffd-929e-b0e6089820ae",
   "metadata": {
    "execution": {
     "iopub.execute_input": "2022-08-30T16:43:42.845252Z",
     "iopub.status.busy": "2022-08-30T16:43:42.845058Z",
     "iopub.status.idle": "2022-08-30T16:43:43.602294Z",
     "shell.execute_reply": "2022-08-30T16:43:43.601538Z"
    },
    "papermill": {
     "duration": 0.780087,
     "end_time": "2022-08-30T16:43:43.603982",
     "exception": false,
     "start_time": "2022-08-30T16:43:42.823895",
     "status": "completed"
    },
    "tags": []
   },
   "outputs": [
    {
     "data": {
      "text/plain": [
       "(8376512, 3)"
      ]
     },
     "execution_count": 21,
     "metadata": {},
     "output_type": "execute_result"
    }
   ],
   "source": [
    "gwas_data.dropna().shape"
   ]
  },
  {
   "cell_type": "code",
   "execution_count": 22,
   "id": "28232ce5-0afd-464e-9be3-64c3a68c2b25",
   "metadata": {
    "execution": {
     "iopub.execute_input": "2022-08-30T16:43:43.645782Z",
     "iopub.status.busy": "2022-08-30T16:43:43.645574Z",
     "iopub.status.idle": "2022-08-30T16:43:44.284041Z",
     "shell.execute_reply": "2022-08-30T16:43:44.283457Z"
    },
    "papermill": {
     "duration": 0.661071,
     "end_time": "2022-08-30T16:43:44.285989",
     "exception": false,
     "start_time": "2022-08-30T16:43:43.624918",
     "status": "completed"
    },
    "tags": []
   },
   "outputs": [],
   "source": [
    "# remove SNPs with no results\n",
    "gwas_data = gwas_data.dropna()"
   ]
  },
  {
   "cell_type": "code",
   "execution_count": 23,
   "id": "d9a6c31f-eedd-43e5-b762-5a9663be1b77",
   "metadata": {
    "execution": {
     "iopub.execute_input": "2022-08-30T16:43:44.329105Z",
     "iopub.status.busy": "2022-08-30T16:43:44.328858Z",
     "iopub.status.idle": "2022-08-30T16:43:44.345440Z",
     "shell.execute_reply": "2022-08-30T16:43:44.344962Z"
    },
    "papermill": {
     "duration": 0.039359,
     "end_time": "2022-08-30T16:43:44.346871",
     "exception": false,
     "start_time": "2022-08-30T16:43:44.307512",
     "status": "completed"
    },
    "tags": []
   },
   "outputs": [
    {
     "data": {
      "text/plain": [
       "(8376512, 3)"
      ]
     },
     "execution_count": 23,
     "metadata": {},
     "output_type": "execute_result"
    }
   ],
   "source": [
    "gwas_data.shape"
   ]
  },
  {
   "cell_type": "markdown",
   "id": "8da344de-2aa5-48a9-98ec-e8c3397ae7e6",
   "metadata": {
    "papermill": {
     "duration": 0.019904,
     "end_time": "2022-08-30T16:43:44.386791",
     "exception": false,
     "start_time": "2022-08-30T16:43:44.366887",
     "status": "completed"
    },
    "tags": []
   },
   "source": [
    "## Save GWAS variants"
   ]
  },
  {
   "cell_type": "code",
   "execution_count": 24,
   "id": "ac11fb33-ea3c-4d5c-a90b-0ceebdac43d3",
   "metadata": {
    "execution": {
     "iopub.execute_input": "2022-08-30T16:43:44.429368Z",
     "iopub.status.busy": "2022-08-30T16:43:44.429176Z",
     "iopub.status.idle": "2022-08-30T16:43:44.447867Z",
     "shell.execute_reply": "2022-08-30T16:43:44.447267Z"
    },
    "papermill": {
     "duration": 0.041671,
     "end_time": "2022-08-30T16:43:44.449361",
     "exception": false,
     "start_time": "2022-08-30T16:43:44.407690",
     "status": "completed"
    },
    "tags": []
   },
   "outputs": [
    {
     "data": {
      "text/html": [
       "<div>\n",
       "<style scoped>\n",
       "    .dataframe tbody tr th:only-of-type {\n",
       "        vertical-align: middle;\n",
       "    }\n",
       "\n",
       "    .dataframe tbody tr th {\n",
       "        vertical-align: top;\n",
       "    }\n",
       "\n",
       "    .dataframe thead th {\n",
       "        text-align: right;\n",
       "    }\n",
       "</style>\n",
       "<table border=\"1\" class=\"dataframe\">\n",
       "  <thead>\n",
       "    <tr style=\"text-align: right;\">\n",
       "      <th></th>\n",
       "      <th>panel_variant_id</th>\n",
       "      <th>zscore</th>\n",
       "      <th>pvalue</th>\n",
       "    </tr>\n",
       "  </thead>\n",
       "  <tbody>\n",
       "    <tr>\n",
       "      <th>0</th>\n",
       "      <td>chr1_54490_G_A_b38</td>\n",
       "      <td>-0.719998</td>\n",
       "      <td>0.471526</td>\n",
       "    </tr>\n",
       "    <tr>\n",
       "      <th>1</th>\n",
       "      <td>chr1_87021_T_C_b38</td>\n",
       "      <td>-1.194425</td>\n",
       "      <td>0.232312</td>\n",
       "    </tr>\n",
       "    <tr>\n",
       "      <th>2</th>\n",
       "      <td>chr1_263722_C_G_b38</td>\n",
       "      <td>0.207573</td>\n",
       "      <td>0.835562</td>\n",
       "    </tr>\n",
       "    <tr>\n",
       "      <th>3</th>\n",
       "      <td>chr1_594402_C_T_b38</td>\n",
       "      <td>-0.375183</td>\n",
       "      <td>0.707524</td>\n",
       "    </tr>\n",
       "    <tr>\n",
       "      <th>4</th>\n",
       "      <td>chr1_630555_C_T_b38</td>\n",
       "      <td>-0.371214</td>\n",
       "      <td>0.710478</td>\n",
       "    </tr>\n",
       "  </tbody>\n",
       "</table>\n",
       "</div>"
      ],
      "text/plain": [
       "      panel_variant_id    zscore    pvalue\n",
       "0   chr1_54490_G_A_b38 -0.719998  0.471526\n",
       "1   chr1_87021_T_C_b38 -1.194425  0.232312\n",
       "2  chr1_263722_C_G_b38  0.207573  0.835562\n",
       "3  chr1_594402_C_T_b38 -0.375183  0.707524\n",
       "4  chr1_630555_C_T_b38 -0.371214  0.710478"
      ]
     },
     "execution_count": 24,
     "metadata": {},
     "output_type": "execute_result"
    }
   ],
   "source": [
    "gwas_data.head()"
   ]
  },
  {
   "cell_type": "code",
   "execution_count": 25,
   "id": "5f34bb3d-761a-4860-a179-77ea5f5784ad",
   "metadata": {
    "execution": {
     "iopub.execute_input": "2022-08-30T16:43:44.491874Z",
     "iopub.status.busy": "2022-08-30T16:43:44.491674Z",
     "iopub.status.idle": "2022-08-30T16:43:48.284404Z",
     "shell.execute_reply": "2022-08-30T16:43:48.283724Z"
    },
    "papermill": {
     "duration": 3.815761,
     "end_time": "2022-08-30T16:43:48.286143",
     "exception": false,
     "start_time": "2022-08-30T16:43:44.470382",
     "status": "completed"
    },
    "tags": []
   },
   "outputs": [
    {
     "data": {
      "text/plain": [
       "False"
      ]
     },
     "execution_count": 25,
     "metadata": {},
     "output_type": "execute_result"
    }
   ],
   "source": [
    "# in eMERGE, some values here are repeated\n",
    "gwas_data[\"panel_variant_id\"].is_unique"
   ]
  },
  {
   "cell_type": "code",
   "execution_count": 26,
   "id": "d4f23b2f-01a3-4a45-a2b6-31b245b5778e",
   "metadata": {
    "execution": {
     "iopub.execute_input": "2022-08-30T16:43:48.329615Z",
     "iopub.status.busy": "2022-08-30T16:43:48.329406Z",
     "iopub.status.idle": "2022-08-30T16:43:50.668274Z",
     "shell.execute_reply": "2022-08-30T16:43:50.667725Z"
    },
    "papermill": {
     "duration": 2.361884,
     "end_time": "2022-08-30T16:43:50.669835",
     "exception": false,
     "start_time": "2022-08-30T16:43:48.307951",
     "status": "completed"
    },
    "tags": []
   },
   "outputs": [
    {
     "data": {
      "text/plain": [
       "['chr12_80716377_A_C_b38',\n",
       " 'chr3_169761064_T_G_b38',\n",
       " 'chr3_69336196_C_T_b38',\n",
       " 'chr20_57717967_G_A_b38',\n",
       " 'chr9_1221840_T_C_b38']"
      ]
     },
     "execution_count": 26,
     "metadata": {},
     "output_type": "execute_result"
    }
   ],
   "source": [
    "gwas_variants_ids_set = frozenset(gwas_data[\"panel_variant_id\"])\n",
    "list(gwas_variants_ids_set)[:5]"
   ]
  },
  {
   "cell_type": "code",
   "execution_count": 27,
   "id": "b4a441df-07d7-48dc-be36-cdb3f92be651",
   "metadata": {
    "execution": {
     "iopub.execute_input": "2022-08-30T16:43:50.714408Z",
     "iopub.status.busy": "2022-08-30T16:43:50.714201Z",
     "iopub.status.idle": "2022-08-30T16:43:53.739914Z",
     "shell.execute_reply": "2022-08-30T16:43:53.739222Z"
    },
    "papermill": {
     "duration": 3.050401,
     "end_time": "2022-08-30T16:43:53.741719",
     "exception": false,
     "start_time": "2022-08-30T16:43:50.691318",
     "status": "completed"
    },
    "tags": []
   },
   "outputs": [],
   "source": [
    "with open(OUTPUT_DIR_BASE / \"gwas_variant_ids.pkl\", \"wb\") as handle:\n",
    "    pickle.dump(gwas_variants_ids_set, handle, protocol=pickle.HIGHEST_PROTOCOL)"
   ]
  },
  {
   "cell_type": "markdown",
   "id": "abcc4b3d",
   "metadata": {
    "papermill": {
     "duration": 0.020394,
     "end_time": "2022-08-30T16:43:53.785577",
     "exception": false,
     "start_time": "2022-08-30T16:43:53.765183",
     "status": "completed"
    },
    "tags": []
   },
   "source": [
    "# TWAS"
   ]
  },
  {
   "cell_type": "markdown",
   "id": "2fbc7358-0563-4fc6-bc47-a0fbcc5cdfd4",
   "metadata": {
    "papermill": {
     "duration": 0.020905,
     "end_time": "2022-08-30T16:43:53.827252",
     "exception": false,
     "start_time": "2022-08-30T16:43:53.806347",
     "status": "completed"
    },
    "tags": []
   },
   "source": [
    "## Available tissues for eQTL model"
   ]
  },
  {
   "cell_type": "code",
   "execution_count": 28,
   "id": "f32c0a84-030a-436b-b597-852b6150d2ac",
   "metadata": {
    "execution": {
     "iopub.execute_input": "2022-08-30T16:43:53.870486Z",
     "iopub.status.busy": "2022-08-30T16:43:53.870284Z",
     "iopub.status.idle": "2022-08-30T16:43:53.892972Z",
     "shell.execute_reply": "2022-08-30T16:43:53.892294Z"
    },
    "papermill": {
     "duration": 0.046503,
     "end_time": "2022-08-30T16:43:53.894557",
     "exception": false,
     "start_time": "2022-08-30T16:43:53.848054",
     "status": "completed"
    },
    "tags": []
   },
   "outputs": [],
   "source": [
    "prediction_model_tissues = conf.PHENOMEXCAN[\"PREDICTION_MODELS\"][\n",
    "    f\"{EQTL_MODEL}_TISSUES\"\n",
    "].split(\" \")"
   ]
  },
  {
   "cell_type": "code",
   "execution_count": 29,
   "id": "0e760d0e-f23d-4590-abfb-811a43f7c237",
   "metadata": {
    "execution": {
     "iopub.execute_input": "2022-08-30T16:43:53.945709Z",
     "iopub.status.busy": "2022-08-30T16:43:53.945518Z",
     "iopub.status.idle": "2022-08-30T16:43:53.961841Z",
     "shell.execute_reply": "2022-08-30T16:43:53.961324Z"
    },
    "papermill": {
     "duration": 0.048456,
     "end_time": "2022-08-30T16:43:53.963383",
     "exception": false,
     "start_time": "2022-08-30T16:43:53.914927",
     "status": "completed"
    },
    "tags": []
   },
   "outputs": [
    {
     "data": {
      "text/plain": [
       "49"
      ]
     },
     "execution_count": 29,
     "metadata": {},
     "output_type": "execute_result"
    }
   ],
   "source": [
    "len(prediction_model_tissues)"
   ]
  },
  {
   "cell_type": "code",
   "execution_count": 30,
   "id": "fa4d942c-cd67-4b31-9491-585c887c0ee3",
   "metadata": {
    "execution": {
     "iopub.execute_input": "2022-08-30T16:43:54.006421Z",
     "iopub.status.busy": "2022-08-30T16:43:54.006226Z",
     "iopub.status.idle": "2022-08-30T16:43:54.022441Z",
     "shell.execute_reply": "2022-08-30T16:43:54.021803Z"
    },
    "papermill": {
     "duration": 0.039265,
     "end_time": "2022-08-30T16:43:54.024018",
     "exception": false,
     "start_time": "2022-08-30T16:43:53.984753",
     "status": "completed"
    },
    "tags": []
   },
   "outputs": [
    {
     "data": {
      "text/plain": [
       "['Whole_Blood',\n",
       " 'Brain_Hypothalamus',\n",
       " 'Brain_Amygdala',\n",
       " 'Brain_Nucleus_accumbens_basal_ganglia',\n",
       " 'Artery_Coronary']"
      ]
     },
     "execution_count": 30,
     "metadata": {},
     "output_type": "execute_result"
    }
   ],
   "source": [
    "prediction_model_tissues[:5]"
   ]
  },
  {
   "cell_type": "markdown",
   "id": "fab4814d-757c-4247-b5e4-891bc4863db7",
   "metadata": {
    "papermill": {
     "duration": 0.020811,
     "end_time": "2022-08-30T16:43:54.065828",
     "exception": false,
     "start_time": "2022-08-30T16:43:54.045017",
     "status": "completed"
    },
    "tags": []
   },
   "source": [
    "## S-MultiXcan results"
   ]
  },
  {
   "cell_type": "code",
   "execution_count": 31,
   "id": "2b73c11e-9aa2-410e-84b4-a70be34d02e4",
   "metadata": {
    "execution": {
     "iopub.execute_input": "2022-08-30T16:43:54.109524Z",
     "iopub.status.busy": "2022-08-30T16:43:54.109331Z",
     "iopub.status.idle": "2022-08-30T16:43:54.564055Z",
     "shell.execute_reply": "2022-08-30T16:43:54.563431Z"
    },
    "papermill": {
     "duration": 0.478758,
     "end_time": "2022-08-30T16:43:54.566128",
     "exception": false,
     "start_time": "2022-08-30T16:43:54.087370",
     "status": "completed"
    },
    "tags": []
   },
   "outputs": [],
   "source": [
    "smultixcan_results = pd.read_csv(\n",
    "    SMULTIXCAN_FILE, sep=\"\\t\", usecols=[\"gene\", \"gene_name\", \"pvalue\", \"n\", \"n_indep\"]\n",
    ")"
   ]
  },
  {
   "cell_type": "code",
   "execution_count": 32,
   "id": "8b5abebd-baab-4188-9e3d-655ebbe32401",
   "metadata": {
    "execution": {
     "iopub.execute_input": "2022-08-30T16:43:54.611477Z",
     "iopub.status.busy": "2022-08-30T16:43:54.611276Z",
     "iopub.status.idle": "2022-08-30T16:43:54.731971Z",
     "shell.execute_reply": "2022-08-30T16:43:54.731441Z"
    },
    "papermill": {
     "duration": 0.14461,
     "end_time": "2022-08-30T16:43:54.733531",
     "exception": false,
     "start_time": "2022-08-30T16:43:54.588921",
     "status": "completed"
    },
    "tags": []
   },
   "outputs": [
    {
     "data": {
      "text/plain": [
       "(22197, 5)"
      ]
     },
     "execution_count": 32,
     "metadata": {},
     "output_type": "execute_result"
    }
   ],
   "source": [
    "smultixcan_results.shape"
   ]
  },
  {
   "cell_type": "code",
   "execution_count": 33,
   "id": "c65e233f-9ef6-4883-9386-7abf1d6d1cbd",
   "metadata": {
    "execution": {
     "iopub.execute_input": "2022-08-30T16:43:54.777493Z",
     "iopub.status.busy": "2022-08-30T16:43:54.777301Z",
     "iopub.status.idle": "2022-08-30T16:43:54.794719Z",
     "shell.execute_reply": "2022-08-30T16:43:54.794239Z"
    },
    "papermill": {
     "duration": 0.04109,
     "end_time": "2022-08-30T16:43:54.796352",
     "exception": false,
     "start_time": "2022-08-30T16:43:54.755262",
     "status": "completed"
    },
    "tags": []
   },
   "outputs": [],
   "source": [
    "smultixcan_results = smultixcan_results.dropna()"
   ]
  },
  {
   "cell_type": "code",
   "execution_count": 34,
   "id": "57d2d311-4a42-4725-9e37-b124ed13ad33",
   "metadata": {
    "execution": {
     "iopub.execute_input": "2022-08-30T16:43:54.839746Z",
     "iopub.status.busy": "2022-08-30T16:43:54.839554Z",
     "iopub.status.idle": "2022-08-30T16:43:54.855179Z",
     "shell.execute_reply": "2022-08-30T16:43:54.854643Z"
    },
    "papermill": {
     "duration": 0.038729,
     "end_time": "2022-08-30T16:43:54.856647",
     "exception": false,
     "start_time": "2022-08-30T16:43:54.817918",
     "status": "completed"
    },
    "tags": []
   },
   "outputs": [
    {
     "data": {
      "text/plain": [
       "(22193, 5)"
      ]
     },
     "execution_count": 34,
     "metadata": {},
     "output_type": "execute_result"
    }
   ],
   "source": [
    "smultixcan_results.shape"
   ]
  },
  {
   "cell_type": "code",
   "execution_count": 35,
   "id": "a36b5b59-f4b6-45bf-b241-ffc9671b357f",
   "metadata": {
    "execution": {
     "iopub.execute_input": "2022-08-30T16:43:54.900681Z",
     "iopub.status.busy": "2022-08-30T16:43:54.900488Z",
     "iopub.status.idle": "2022-08-30T16:43:54.921787Z",
     "shell.execute_reply": "2022-08-30T16:43:54.921289Z"
    },
    "papermill": {
     "duration": 0.044954,
     "end_time": "2022-08-30T16:43:54.923400",
     "exception": false,
     "start_time": "2022-08-30T16:43:54.878446",
     "status": "completed"
    },
    "tags": []
   },
   "outputs": [],
   "source": [
    "smultixcan_results = smultixcan_results.assign(\n",
    "    gene_id=smultixcan_results[\"gene\"].apply(lambda g: g.split(\".\")[0])\n",
    ")"
   ]
  },
  {
   "cell_type": "code",
   "execution_count": 36,
   "id": "c49f62a9-a01a-44af-87da-47d195b0ef7e",
   "metadata": {
    "execution": {
     "iopub.execute_input": "2022-08-30T16:43:54.966378Z",
     "iopub.status.busy": "2022-08-30T16:43:54.966186Z",
     "iopub.status.idle": "2022-08-30T16:43:54.987098Z",
     "shell.execute_reply": "2022-08-30T16:43:54.986566Z"
    },
    "papermill": {
     "duration": 0.043999,
     "end_time": "2022-08-30T16:43:54.988565",
     "exception": false,
     "start_time": "2022-08-30T16:43:54.944566",
     "status": "completed"
    },
    "tags": []
   },
   "outputs": [
    {
     "data": {
      "text/html": [
       "<div>\n",
       "<style scoped>\n",
       "    .dataframe tbody tr th:only-of-type {\n",
       "        vertical-align: middle;\n",
       "    }\n",
       "\n",
       "    .dataframe tbody tr th {\n",
       "        vertical-align: top;\n",
       "    }\n",
       "\n",
       "    .dataframe thead th {\n",
       "        text-align: right;\n",
       "    }\n",
       "</style>\n",
       "<table border=\"1\" class=\"dataframe\">\n",
       "  <thead>\n",
       "    <tr style=\"text-align: right;\">\n",
       "      <th></th>\n",
       "      <th>gene</th>\n",
       "      <th>gene_name</th>\n",
       "      <th>pvalue</th>\n",
       "      <th>n</th>\n",
       "      <th>n_indep</th>\n",
       "      <th>gene_id</th>\n",
       "    </tr>\n",
       "  </thead>\n",
       "  <tbody>\n",
       "    <tr>\n",
       "      <th>0</th>\n",
       "      <td>ENSG00000198670.11</td>\n",
       "      <td>LPA</td>\n",
       "      <td>7.680689e-10</td>\n",
       "      <td>9.0</td>\n",
       "      <td>6.0</td>\n",
       "      <td>ENSG00000198670</td>\n",
       "    </tr>\n",
       "    <tr>\n",
       "      <th>1</th>\n",
       "      <td>ENSG00000111845.4</td>\n",
       "      <td>PAK1IP1</td>\n",
       "      <td>1.332263e-05</td>\n",
       "      <td>29.0</td>\n",
       "      <td>3.0</td>\n",
       "      <td>ENSG00000111845</td>\n",
       "    </tr>\n",
       "    <tr>\n",
       "      <th>2</th>\n",
       "      <td>ENSG00000141569.10</td>\n",
       "      <td>TRIM65</td>\n",
       "      <td>2.200177e-05</td>\n",
       "      <td>48.0</td>\n",
       "      <td>4.0</td>\n",
       "      <td>ENSG00000141569</td>\n",
       "    </tr>\n",
       "    <tr>\n",
       "      <th>3</th>\n",
       "      <td>ENSG00000147883.10</td>\n",
       "      <td>CDKN2B</td>\n",
       "      <td>2.787706e-05</td>\n",
       "      <td>29.0</td>\n",
       "      <td>3.0</td>\n",
       "      <td>ENSG00000147883</td>\n",
       "    </tr>\n",
       "    <tr>\n",
       "      <th>4</th>\n",
       "      <td>ENSG00000106333.12</td>\n",
       "      <td>PCOLCE</td>\n",
       "      <td>3.141458e-05</td>\n",
       "      <td>44.0</td>\n",
       "      <td>3.0</td>\n",
       "      <td>ENSG00000106333</td>\n",
       "    </tr>\n",
       "  </tbody>\n",
       "</table>\n",
       "</div>"
      ],
      "text/plain": [
       "                 gene gene_name        pvalue     n  n_indep          gene_id\n",
       "0  ENSG00000198670.11       LPA  7.680689e-10   9.0      6.0  ENSG00000198670\n",
       "1   ENSG00000111845.4   PAK1IP1  1.332263e-05  29.0      3.0  ENSG00000111845\n",
       "2  ENSG00000141569.10    TRIM65  2.200177e-05  48.0      4.0  ENSG00000141569\n",
       "3  ENSG00000147883.10    CDKN2B  2.787706e-05  29.0      3.0  ENSG00000147883\n",
       "4  ENSG00000106333.12    PCOLCE  3.141458e-05  44.0      3.0  ENSG00000106333"
      ]
     },
     "execution_count": 36,
     "metadata": {},
     "output_type": "execute_result"
    }
   ],
   "source": [
    "smultixcan_results.head()"
   ]
  },
  {
   "cell_type": "code",
   "execution_count": 37,
   "id": "9c4c023c-86d6-4c4b-8d57-c2b6b93aaf84",
   "metadata": {
    "execution": {
     "iopub.execute_input": "2022-08-30T16:43:55.033251Z",
     "iopub.status.busy": "2022-08-30T16:43:55.033032Z",
     "iopub.status.idle": "2022-08-30T16:43:55.049116Z",
     "shell.execute_reply": "2022-08-30T16:43:55.048584Z"
    },
    "papermill": {
     "duration": 0.03988,
     "end_time": "2022-08-30T16:43:55.050689",
     "exception": false,
     "start_time": "2022-08-30T16:43:55.010809",
     "status": "completed"
    },
    "tags": []
   },
   "outputs": [],
   "source": [
    "assert smultixcan_results[\"gene_id\"].is_unique"
   ]
  },
  {
   "cell_type": "markdown",
   "id": "1f9939f1-4200-40d9-a8bf-8e4fd68bee48",
   "metadata": {
    "papermill": {
     "duration": 0.022722,
     "end_time": "2022-08-30T16:43:55.095163",
     "exception": false,
     "start_time": "2022-08-30T16:43:55.072441",
     "status": "completed"
    },
    "tags": []
   },
   "source": [
    "### Get common genes with MultiPLIER"
   ]
  },
  {
   "cell_type": "code",
   "execution_count": 38,
   "id": "c820e6cf-6350-45af-b49a-0abd94f570ff",
   "metadata": {
    "execution": {
     "iopub.execute_input": "2022-08-30T16:43:55.140692Z",
     "iopub.status.busy": "2022-08-30T16:43:55.140492Z",
     "iopub.status.idle": "2022-08-30T16:43:55.158999Z",
     "shell.execute_reply": "2022-08-30T16:43:55.158458Z"
    },
    "papermill": {
     "duration": 0.043054,
     "end_time": "2022-08-30T16:43:55.160655",
     "exception": false,
     "start_time": "2022-08-30T16:43:55.117601",
     "status": "completed"
    },
    "tags": []
   },
   "outputs": [],
   "source": [
    "common_genes = set(multiplier_z_genes).intersection(\n",
    "    set(smultixcan_results[\"gene_name\"])\n",
    ")"
   ]
  },
  {
   "cell_type": "code",
   "execution_count": 39,
   "id": "0a7328f9-96c7-4ac6-a9a6-ae4fa121a4cd",
   "metadata": {
    "execution": {
     "iopub.execute_input": "2022-08-30T16:43:55.205192Z",
     "iopub.status.busy": "2022-08-30T16:43:55.204959Z",
     "iopub.status.idle": "2022-08-30T16:43:55.220159Z",
     "shell.execute_reply": "2022-08-30T16:43:55.219604Z"
    },
    "papermill": {
     "duration": 0.0388,
     "end_time": "2022-08-30T16:43:55.221631",
     "exception": false,
     "start_time": "2022-08-30T16:43:55.182831",
     "status": "completed"
    },
    "tags": []
   },
   "outputs": [
    {
     "data": {
      "text/plain": [
       "6427"
      ]
     },
     "execution_count": 39,
     "metadata": {},
     "output_type": "execute_result"
    }
   ],
   "source": [
    "len(common_genes)"
   ]
  },
  {
   "cell_type": "code",
   "execution_count": 40,
   "id": "5b08d362-44c8-4db2-9258-670e2e2a9cc0",
   "metadata": {
    "execution": {
     "iopub.execute_input": "2022-08-30T16:43:55.285125Z",
     "iopub.status.busy": "2022-08-30T16:43:55.284840Z",
     "iopub.status.idle": "2022-08-30T16:43:55.304425Z",
     "shell.execute_reply": "2022-08-30T16:43:55.303899Z"
    },
    "papermill": {
     "duration": 0.062376,
     "end_time": "2022-08-30T16:43:55.305926",
     "exception": false,
     "start_time": "2022-08-30T16:43:55.243550",
     "status": "completed"
    },
    "tags": []
   },
   "outputs": [
    {
     "data": {
      "text/plain": [
       "['A2M', 'AAAS', 'AANAT', 'AARS', 'AARS2']"
      ]
     },
     "execution_count": 40,
     "metadata": {},
     "output_type": "execute_result"
    }
   ],
   "source": [
    "sorted(list(common_genes))[:5]"
   ]
  },
  {
   "cell_type": "markdown",
   "id": "7f51338b-8a75-42c3-a7e5-a0961cefb663",
   "metadata": {
    "papermill": {
     "duration": 0.021691,
     "end_time": "2022-08-30T16:43:55.350186",
     "exception": false,
     "start_time": "2022-08-30T16:43:55.328495",
     "status": "completed"
    },
    "tags": []
   },
   "source": [
    "## Genes info"
   ]
  },
  {
   "cell_type": "code",
   "execution_count": 41,
   "id": "bb932812",
   "metadata": {
    "execution": {
     "iopub.execute_input": "2022-08-30T16:43:55.397165Z",
     "iopub.status.busy": "2022-08-30T16:43:55.396950Z",
     "iopub.status.idle": "2022-08-30T16:43:55.810804Z",
     "shell.execute_reply": "2022-08-30T16:43:55.810203Z"
    },
    "papermill": {
     "duration": 0.437899,
     "end_time": "2022-08-30T16:43:55.812401",
     "exception": false,
     "start_time": "2022-08-30T16:43:55.374502",
     "status": "completed"
    },
    "tags": []
   },
   "outputs": [],
   "source": [
    "multiplier_gene_obj = {\n",
    "    gene_name: Gene(name=gene_name)\n",
    "    for gene_name in common_genes\n",
    "    if gene_name in Gene.GENE_NAME_TO_ID_MAP\n",
    "}"
   ]
  },
  {
   "cell_type": "code",
   "execution_count": 42,
   "id": "cb9d7a45-2b7d-4d10-80dc-212a625b5ae7",
   "metadata": {
    "execution": {
     "iopub.execute_input": "2022-08-30T16:43:55.857790Z",
     "iopub.status.busy": "2022-08-30T16:43:55.857583Z",
     "iopub.status.idle": "2022-08-30T16:43:55.872503Z",
     "shell.execute_reply": "2022-08-30T16:43:55.872002Z"
    },
    "papermill": {
     "duration": 0.038876,
     "end_time": "2022-08-30T16:43:55.874051",
     "exception": false,
     "start_time": "2022-08-30T16:43:55.835175",
     "status": "completed"
    },
    "tags": []
   },
   "outputs": [],
   "source": [
    "# delete common_genes, from now on, genes_info should be used for common genes\n",
    "del common_genes"
   ]
  },
  {
   "cell_type": "code",
   "execution_count": 43,
   "id": "39533214",
   "metadata": {
    "execution": {
     "iopub.execute_input": "2022-08-30T16:43:55.918843Z",
     "iopub.status.busy": "2022-08-30T16:43:55.918641Z",
     "iopub.status.idle": "2022-08-30T16:43:55.933433Z",
     "shell.execute_reply": "2022-08-30T16:43:55.932796Z"
    },
    "papermill": {
     "duration": 0.03881,
     "end_time": "2022-08-30T16:43:55.934969",
     "exception": false,
     "start_time": "2022-08-30T16:43:55.896159",
     "status": "completed"
    },
    "tags": []
   },
   "outputs": [
    {
     "data": {
      "text/plain": [
       "6427"
      ]
     },
     "execution_count": 43,
     "metadata": {},
     "output_type": "execute_result"
    }
   ],
   "source": [
    "len(multiplier_gene_obj)"
   ]
  },
  {
   "cell_type": "code",
   "execution_count": 44,
   "id": "9a5d0b84",
   "metadata": {
    "execution": {
     "iopub.execute_input": "2022-08-30T16:43:55.978976Z",
     "iopub.status.busy": "2022-08-30T16:43:55.978750Z",
     "iopub.status.idle": "2022-08-30T16:43:55.991892Z",
     "shell.execute_reply": "2022-08-30T16:43:55.991406Z"
    },
    "papermill": {
     "duration": 0.037084,
     "end_time": "2022-08-30T16:43:55.993413",
     "exception": false,
     "start_time": "2022-08-30T16:43:55.956329",
     "status": "completed"
    },
    "tags": []
   },
   "outputs": [],
   "source": [
    "assert multiplier_gene_obj[\"GAS6\"].ensembl_id == \"ENSG00000183087\""
   ]
  },
  {
   "cell_type": "code",
   "execution_count": 45,
   "id": "e3ffabc7",
   "metadata": {
    "execution": {
     "iopub.execute_input": "2022-08-30T16:43:56.038065Z",
     "iopub.status.busy": "2022-08-30T16:43:56.037862Z",
     "iopub.status.idle": "2022-08-30T16:43:59.070069Z",
     "shell.execute_reply": "2022-08-30T16:43:59.069563Z"
    },
    "papermill": {
     "duration": 3.056253,
     "end_time": "2022-08-30T16:43:59.071653",
     "exception": false,
     "start_time": "2022-08-30T16:43:56.015400",
     "status": "completed"
    },
    "tags": []
   },
   "outputs": [],
   "source": [
    "_gene_obj = list(multiplier_gene_obj.values())\n",
    "\n",
    "genes_info = pd.DataFrame(\n",
    "    {\n",
    "        \"name\": [g.name for g in _gene_obj],\n",
    "        \"id\": [g.ensembl_id for g in _gene_obj],\n",
    "        \"chr\": [g.chromosome for g in _gene_obj],\n",
    "        \"band\": [g.band for g in _gene_obj],\n",
    "        \"start_position\": [g.get_attribute(\"start_position\") for g in _gene_obj],\n",
    "        \"end_position\": [g.get_attribute(\"end_position\") for g in _gene_obj],\n",
    "    }\n",
    ")"
   ]
  },
  {
   "cell_type": "code",
   "execution_count": 46,
   "id": "00475e72-1cfc-485f-8b4e-1d9cce695f58",
   "metadata": {
    "execution": {
     "iopub.execute_input": "2022-08-30T16:43:59.115708Z",
     "iopub.status.busy": "2022-08-30T16:43:59.115513Z",
     "iopub.status.idle": "2022-08-30T16:43:59.626557Z",
     "shell.execute_reply": "2022-08-30T16:43:59.625893Z"
    },
    "papermill": {
     "duration": 0.534966,
     "end_time": "2022-08-30T16:43:59.628444",
     "exception": false,
     "start_time": "2022-08-30T16:43:59.093478",
     "status": "completed"
    },
    "tags": []
   },
   "outputs": [],
   "source": [
    "genes_info = genes_info.assign(\n",
    "    gene_length=genes_info.apply(\n",
    "        lambda x: x[\"end_position\"] - x[\"start_position\"], axis=1\n",
    "    )\n",
    ")"
   ]
  },
  {
   "cell_type": "code",
   "execution_count": 47,
   "id": "3af1a166-08a0-4333-bc09-b8bc762aa7ef",
   "metadata": {
    "execution": {
     "iopub.execute_input": "2022-08-30T16:43:59.673743Z",
     "iopub.status.busy": "2022-08-30T16:43:59.673546Z",
     "iopub.status.idle": "2022-08-30T16:43:59.690403Z",
     "shell.execute_reply": "2022-08-30T16:43:59.689922Z"
    },
    "papermill": {
     "duration": 0.040738,
     "end_time": "2022-08-30T16:43:59.691834",
     "exception": false,
     "start_time": "2022-08-30T16:43:59.651096",
     "status": "completed"
    },
    "tags": []
   },
   "outputs": [
    {
     "data": {
      "text/plain": [
       "name               object\n",
       "id                 object\n",
       "chr                object\n",
       "band               object\n",
       "start_position    float64\n",
       "end_position      float64\n",
       "gene_length       float64\n",
       "dtype: object"
      ]
     },
     "execution_count": 47,
     "metadata": {},
     "output_type": "execute_result"
    }
   ],
   "source": [
    "genes_info.dtypes"
   ]
  },
  {
   "cell_type": "code",
   "execution_count": 48,
   "id": "08a23f6f-87f6-4072-88c8-010b90a411cd",
   "metadata": {
    "execution": {
     "iopub.execute_input": "2022-08-30T16:43:59.735585Z",
     "iopub.status.busy": "2022-08-30T16:43:59.735391Z",
     "iopub.status.idle": "2022-08-30T16:43:59.756936Z",
     "shell.execute_reply": "2022-08-30T16:43:59.756444Z"
    },
    "papermill": {
     "duration": 0.045232,
     "end_time": "2022-08-30T16:43:59.758356",
     "exception": false,
     "start_time": "2022-08-30T16:43:59.713124",
     "status": "completed"
    },
    "tags": []
   },
   "outputs": [
    {
     "data": {
      "text/html": [
       "<div>\n",
       "<style scoped>\n",
       "    .dataframe tbody tr th:only-of-type {\n",
       "        vertical-align: middle;\n",
       "    }\n",
       "\n",
       "    .dataframe tbody tr th {\n",
       "        vertical-align: top;\n",
       "    }\n",
       "\n",
       "    .dataframe thead th {\n",
       "        text-align: right;\n",
       "    }\n",
       "</style>\n",
       "<table border=\"1\" class=\"dataframe\">\n",
       "  <thead>\n",
       "    <tr style=\"text-align: right;\">\n",
       "      <th></th>\n",
       "      <th>name</th>\n",
       "      <th>id</th>\n",
       "      <th>chr</th>\n",
       "      <th>band</th>\n",
       "      <th>start_position</th>\n",
       "      <th>end_position</th>\n",
       "      <th>gene_length</th>\n",
       "    </tr>\n",
       "  </thead>\n",
       "  <tbody>\n",
       "    <tr>\n",
       "      <th>1867</th>\n",
       "      <td>TMEM133</td>\n",
       "      <td>ENSG00000170647</td>\n",
       "      <td>None</td>\n",
       "      <td>None</td>\n",
       "      <td>NaN</td>\n",
       "      <td>NaN</td>\n",
       "      <td>NaN</td>\n",
       "    </tr>\n",
       "    <tr>\n",
       "      <th>4926</th>\n",
       "      <td>TBCE</td>\n",
       "      <td>ENSG00000116957</td>\n",
       "      <td>None</td>\n",
       "      <td>None</td>\n",
       "      <td>NaN</td>\n",
       "      <td>NaN</td>\n",
       "      <td>NaN</td>\n",
       "    </tr>\n",
       "  </tbody>\n",
       "</table>\n",
       "</div>"
      ],
      "text/plain": [
       "         name               id   chr  band  start_position  end_position  \\\n",
       "1867  TMEM133  ENSG00000170647  None  None             NaN           NaN   \n",
       "4926     TBCE  ENSG00000116957  None  None             NaN           NaN   \n",
       "\n",
       "      gene_length  \n",
       "1867          NaN  \n",
       "4926          NaN  "
      ]
     },
     "metadata": {},
     "output_type": "display_data"
    }
   ],
   "source": [
    "_tmp = genes_info[genes_info.isna().any(axis=1)]\n",
    "display(_tmp)\n",
    "assert _tmp.shape[0] < 5"
   ]
  },
  {
   "cell_type": "code",
   "execution_count": 49,
   "id": "87c010f0-8ad9-4bf0-b12d-02f37a93853a",
   "metadata": {
    "execution": {
     "iopub.execute_input": "2022-08-30T16:43:59.802865Z",
     "iopub.status.busy": "2022-08-30T16:43:59.802664Z",
     "iopub.status.idle": "2022-08-30T16:43:59.818082Z",
     "shell.execute_reply": "2022-08-30T16:43:59.817595Z"
    },
    "papermill": {
     "duration": 0.039293,
     "end_time": "2022-08-30T16:43:59.819618",
     "exception": false,
     "start_time": "2022-08-30T16:43:59.780325",
     "status": "completed"
    },
    "tags": []
   },
   "outputs": [],
   "source": [
    "genes_info = genes_info.dropna()"
   ]
  },
  {
   "cell_type": "code",
   "execution_count": 50,
   "id": "61833f43-3a92-47e9-bca3-e05b6673c7d9",
   "metadata": {
    "execution": {
     "iopub.execute_input": "2022-08-30T16:43:59.864573Z",
     "iopub.status.busy": "2022-08-30T16:43:59.864379Z",
     "iopub.status.idle": "2022-08-30T16:44:00.562213Z",
     "shell.execute_reply": "2022-08-30T16:44:00.561722Z"
    },
    "papermill": {
     "duration": 0.722178,
     "end_time": "2022-08-30T16:44:00.563770",
     "exception": false,
     "start_time": "2022-08-30T16:43:59.841592",
     "status": "completed"
    },
    "tags": []
   },
   "outputs": [],
   "source": [
    "genes_info[\"chr\"] = genes_info[\"chr\"].apply(pd.to_numeric, downcast=\"integer\")\n",
    "genes_info[\"start_position\"] = genes_info[\"start_position\"].astype(int)\n",
    "genes_info[\"end_position\"] = genes_info[\"end_position\"].astype(int)\n",
    "genes_info[\"gene_length\"] = genes_info[\"gene_length\"].astype(int)"
   ]
  },
  {
   "cell_type": "code",
   "execution_count": 51,
   "id": "e4b9ae23-3edb-41a4-97aa-80cc7db6d393",
   "metadata": {
    "execution": {
     "iopub.execute_input": "2022-08-30T16:44:00.609854Z",
     "iopub.status.busy": "2022-08-30T16:44:00.609651Z",
     "iopub.status.idle": "2022-08-30T16:44:00.625035Z",
     "shell.execute_reply": "2022-08-30T16:44:00.624547Z"
    },
    "papermill": {
     "duration": 0.040072,
     "end_time": "2022-08-30T16:44:00.626462",
     "exception": false,
     "start_time": "2022-08-30T16:44:00.586390",
     "status": "completed"
    },
    "tags": []
   },
   "outputs": [
    {
     "data": {
      "text/plain": [
       "name              object\n",
       "id                object\n",
       "chr                int64\n",
       "band              object\n",
       "start_position     int64\n",
       "end_position       int64\n",
       "gene_length        int64\n",
       "dtype: object"
      ]
     },
     "execution_count": 51,
     "metadata": {},
     "output_type": "execute_result"
    }
   ],
   "source": [
    "genes_info.dtypes"
   ]
  },
  {
   "cell_type": "code",
   "execution_count": 52,
   "id": "09d6320a-b1c4-4200-a23e-184bc4be69c7",
   "metadata": {
    "execution": {
     "iopub.execute_input": "2022-08-30T16:44:00.671886Z",
     "iopub.status.busy": "2022-08-30T16:44:00.671665Z",
     "iopub.status.idle": "2022-08-30T16:44:00.686030Z",
     "shell.execute_reply": "2022-08-30T16:44:00.685542Z"
    },
    "papermill": {
     "duration": 0.039204,
     "end_time": "2022-08-30T16:44:00.687638",
     "exception": false,
     "start_time": "2022-08-30T16:44:00.648434",
     "status": "completed"
    },
    "tags": []
   },
   "outputs": [],
   "source": [
    "assert genes_info[\"name\"].is_unique"
   ]
  },
  {
   "cell_type": "code",
   "execution_count": 53,
   "id": "009d11e4-f8cb-4a81-823d-c7f10b906d3b",
   "metadata": {
    "execution": {
     "iopub.execute_input": "2022-08-30T16:44:00.735327Z",
     "iopub.status.busy": "2022-08-30T16:44:00.735133Z",
     "iopub.status.idle": "2022-08-30T16:44:00.749503Z",
     "shell.execute_reply": "2022-08-30T16:44:00.749023Z"
    },
    "papermill": {
     "duration": 0.039581,
     "end_time": "2022-08-30T16:44:00.751119",
     "exception": false,
     "start_time": "2022-08-30T16:44:00.711538",
     "status": "completed"
    },
    "tags": []
   },
   "outputs": [],
   "source": [
    "assert genes_info[\"id\"].is_unique"
   ]
  },
  {
   "cell_type": "code",
   "execution_count": 54,
   "id": "e23519b8",
   "metadata": {
    "execution": {
     "iopub.execute_input": "2022-08-30T16:44:00.796243Z",
     "iopub.status.busy": "2022-08-30T16:44:00.796034Z",
     "iopub.status.idle": "2022-08-30T16:44:00.810701Z",
     "shell.execute_reply": "2022-08-30T16:44:00.810226Z"
    },
    "papermill": {
     "duration": 0.039056,
     "end_time": "2022-08-30T16:44:00.812121",
     "exception": false,
     "start_time": "2022-08-30T16:44:00.773065",
     "status": "completed"
    },
    "tags": []
   },
   "outputs": [
    {
     "data": {
      "text/plain": [
       "(6425, 7)"
      ]
     },
     "execution_count": 54,
     "metadata": {},
     "output_type": "execute_result"
    }
   ],
   "source": [
    "genes_info.shape"
   ]
  },
  {
   "cell_type": "code",
   "execution_count": 55,
   "id": "0d71881c",
   "metadata": {
    "execution": {
     "iopub.execute_input": "2022-08-30T16:44:00.857399Z",
     "iopub.status.busy": "2022-08-30T16:44:00.857205Z",
     "iopub.status.idle": "2022-08-30T16:44:00.876099Z",
     "shell.execute_reply": "2022-08-30T16:44:00.875608Z"
    },
    "papermill": {
     "duration": 0.04333,
     "end_time": "2022-08-30T16:44:00.877520",
     "exception": false,
     "start_time": "2022-08-30T16:44:00.834190",
     "status": "completed"
    },
    "tags": []
   },
   "outputs": [
    {
     "data": {
      "text/html": [
       "<div>\n",
       "<style scoped>\n",
       "    .dataframe tbody tr th:only-of-type {\n",
       "        vertical-align: middle;\n",
       "    }\n",
       "\n",
       "    .dataframe tbody tr th {\n",
       "        vertical-align: top;\n",
       "    }\n",
       "\n",
       "    .dataframe thead th {\n",
       "        text-align: right;\n",
       "    }\n",
       "</style>\n",
       "<table border=\"1\" class=\"dataframe\">\n",
       "  <thead>\n",
       "    <tr style=\"text-align: right;\">\n",
       "      <th></th>\n",
       "      <th>name</th>\n",
       "      <th>id</th>\n",
       "      <th>chr</th>\n",
       "      <th>band</th>\n",
       "      <th>start_position</th>\n",
       "      <th>end_position</th>\n",
       "      <th>gene_length</th>\n",
       "    </tr>\n",
       "  </thead>\n",
       "  <tbody>\n",
       "    <tr>\n",
       "      <th>0</th>\n",
       "      <td>ADAMTS14</td>\n",
       "      <td>ENSG00000138316</td>\n",
       "      <td>10</td>\n",
       "      <td>10q22.1</td>\n",
       "      <td>70672506</td>\n",
       "      <td>70762441</td>\n",
       "      <td>89935</td>\n",
       "    </tr>\n",
       "    <tr>\n",
       "      <th>1</th>\n",
       "      <td>TXN</td>\n",
       "      <td>ENSG00000136810</td>\n",
       "      <td>9</td>\n",
       "      <td>9q31.3</td>\n",
       "      <td>110243810</td>\n",
       "      <td>110256507</td>\n",
       "      <td>12697</td>\n",
       "    </tr>\n",
       "    <tr>\n",
       "      <th>2</th>\n",
       "      <td>RMI1</td>\n",
       "      <td>ENSG00000178966</td>\n",
       "      <td>9</td>\n",
       "      <td>9q21.32</td>\n",
       "      <td>83980711</td>\n",
       "      <td>84004074</td>\n",
       "      <td>23363</td>\n",
       "    </tr>\n",
       "    <tr>\n",
       "      <th>3</th>\n",
       "      <td>DHX58</td>\n",
       "      <td>ENSG00000108771</td>\n",
       "      <td>17</td>\n",
       "      <td>17q21.2</td>\n",
       "      <td>42101404</td>\n",
       "      <td>42112714</td>\n",
       "      <td>11310</td>\n",
       "    </tr>\n",
       "    <tr>\n",
       "      <th>4</th>\n",
       "      <td>XRCC4</td>\n",
       "      <td>ENSG00000152422</td>\n",
       "      <td>5</td>\n",
       "      <td>5q14.2</td>\n",
       "      <td>83077498</td>\n",
       "      <td>83353787</td>\n",
       "      <td>276289</td>\n",
       "    </tr>\n",
       "  </tbody>\n",
       "</table>\n",
       "</div>"
      ],
      "text/plain": [
       "       name               id  chr     band  start_position  end_position  \\\n",
       "0  ADAMTS14  ENSG00000138316   10  10q22.1        70672506      70762441   \n",
       "1       TXN  ENSG00000136810    9   9q31.3       110243810     110256507   \n",
       "2      RMI1  ENSG00000178966    9  9q21.32        83980711      84004074   \n",
       "3     DHX58  ENSG00000108771   17  17q21.2        42101404      42112714   \n",
       "4     XRCC4  ENSG00000152422    5   5q14.2        83077498      83353787   \n",
       "\n",
       "   gene_length  \n",
       "0        89935  \n",
       "1        12697  \n",
       "2        23363  \n",
       "3        11310  \n",
       "4       276289  "
      ]
     },
     "execution_count": 55,
     "metadata": {},
     "output_type": "execute_result"
    }
   ],
   "source": [
    "genes_info.head()"
   ]
  },
  {
   "cell_type": "code",
   "execution_count": 56,
   "id": "eb968287-d9cf-40f6-a93e-6b322b844404",
   "metadata": {
    "execution": {
     "iopub.execute_input": "2022-08-30T16:44:00.922796Z",
     "iopub.status.busy": "2022-08-30T16:44:00.922593Z",
     "iopub.status.idle": "2022-08-30T16:44:00.946059Z",
     "shell.execute_reply": "2022-08-30T16:44:00.945571Z"
    },
    "papermill": {
     "duration": 0.048339,
     "end_time": "2022-08-30T16:44:00.947477",
     "exception": false,
     "start_time": "2022-08-30T16:44:00.899138",
     "status": "completed"
    },
    "tags": []
   },
   "outputs": [
    {
     "data": {
      "text/html": [
       "<div>\n",
       "<style scoped>\n",
       "    .dataframe tbody tr th:only-of-type {\n",
       "        vertical-align: middle;\n",
       "    }\n",
       "\n",
       "    .dataframe tbody tr th {\n",
       "        vertical-align: top;\n",
       "    }\n",
       "\n",
       "    .dataframe thead th {\n",
       "        text-align: right;\n",
       "    }\n",
       "</style>\n",
       "<table border=\"1\" class=\"dataframe\">\n",
       "  <thead>\n",
       "    <tr style=\"text-align: right;\">\n",
       "      <th></th>\n",
       "      <th>name</th>\n",
       "      <th>id</th>\n",
       "      <th>chr</th>\n",
       "      <th>band</th>\n",
       "      <th>start_position</th>\n",
       "      <th>end_position</th>\n",
       "      <th>gene_length</th>\n",
       "    </tr>\n",
       "  </thead>\n",
       "  <tbody>\n",
       "    <tr>\n",
       "      <th>4858</th>\n",
       "      <td>KCNJ10</td>\n",
       "      <td>ENSG00000177807</td>\n",
       "      <td>1</td>\n",
       "      <td>1q23.2</td>\n",
       "      <td>159998651</td>\n",
       "      <td>160070483</td>\n",
       "      <td>71832</td>\n",
       "    </tr>\n",
       "    <tr>\n",
       "      <th>5493</th>\n",
       "      <td>RPS27</td>\n",
       "      <td>ENSG00000177954</td>\n",
       "      <td>1</td>\n",
       "      <td>1q21.3</td>\n",
       "      <td>153990755</td>\n",
       "      <td>153992155</td>\n",
       "      <td>1400</td>\n",
       "    </tr>\n",
       "    <tr>\n",
       "      <th>5488</th>\n",
       "      <td>PGM1</td>\n",
       "      <td>ENSG00000079739</td>\n",
       "      <td>1</td>\n",
       "      <td>1p31.3</td>\n",
       "      <td>63593411</td>\n",
       "      <td>63660245</td>\n",
       "      <td>66834</td>\n",
       "    </tr>\n",
       "    <tr>\n",
       "      <th>5486</th>\n",
       "      <td>CDK11B</td>\n",
       "      <td>ENSG00000248333</td>\n",
       "      <td>1</td>\n",
       "      <td>1p36.33</td>\n",
       "      <td>1635227</td>\n",
       "      <td>1659012</td>\n",
       "      <td>23785</td>\n",
       "    </tr>\n",
       "    <tr>\n",
       "      <th>2769</th>\n",
       "      <td>CYB5R1</td>\n",
       "      <td>ENSG00000159348</td>\n",
       "      <td>1</td>\n",
       "      <td>1q32.1</td>\n",
       "      <td>202961873</td>\n",
       "      <td>202967275</td>\n",
       "      <td>5402</td>\n",
       "    </tr>\n",
       "    <tr>\n",
       "      <th>...</th>\n",
       "      <td>...</td>\n",
       "      <td>...</td>\n",
       "      <td>...</td>\n",
       "      <td>...</td>\n",
       "      <td>...</td>\n",
       "      <td>...</td>\n",
       "      <td>...</td>\n",
       "    </tr>\n",
       "    <tr>\n",
       "      <th>4659</th>\n",
       "      <td>PLXNB2</td>\n",
       "      <td>ENSG00000196576</td>\n",
       "      <td>22</td>\n",
       "      <td>22q13.33</td>\n",
       "      <td>50274979</td>\n",
       "      <td>50307646</td>\n",
       "      <td>32667</td>\n",
       "    </tr>\n",
       "    <tr>\n",
       "      <th>1127</th>\n",
       "      <td>HSCB</td>\n",
       "      <td>ENSG00000100209</td>\n",
       "      <td>22</td>\n",
       "      <td>22q12.1</td>\n",
       "      <td>28742039</td>\n",
       "      <td>28757515</td>\n",
       "      <td>15476</td>\n",
       "    </tr>\n",
       "    <tr>\n",
       "      <th>5364</th>\n",
       "      <td>SYN3</td>\n",
       "      <td>ENSG00000185666</td>\n",
       "      <td>22</td>\n",
       "      <td>22q12.3</td>\n",
       "      <td>32512552</td>\n",
       "      <td>33058372</td>\n",
       "      <td>545820</td>\n",
       "    </tr>\n",
       "    <tr>\n",
       "      <th>2266</th>\n",
       "      <td>CLDN5</td>\n",
       "      <td>ENSG00000184113</td>\n",
       "      <td>22</td>\n",
       "      <td>22q11.21</td>\n",
       "      <td>19523024</td>\n",
       "      <td>19527545</td>\n",
       "      <td>4521</td>\n",
       "    </tr>\n",
       "    <tr>\n",
       "      <th>4678</th>\n",
       "      <td>SNAP29</td>\n",
       "      <td>ENSG00000099940</td>\n",
       "      <td>22</td>\n",
       "      <td>22q11.21</td>\n",
       "      <td>20859007</td>\n",
       "      <td>20891214</td>\n",
       "      <td>32207</td>\n",
       "    </tr>\n",
       "  </tbody>\n",
       "</table>\n",
       "<p>6425 rows × 7 columns</p>\n",
       "</div>"
      ],
      "text/plain": [
       "        name               id  chr      band  start_position  end_position  \\\n",
       "4858  KCNJ10  ENSG00000177807    1    1q23.2       159998651     160070483   \n",
       "5493   RPS27  ENSG00000177954    1    1q21.3       153990755     153992155   \n",
       "5488    PGM1  ENSG00000079739    1    1p31.3        63593411      63660245   \n",
       "5486  CDK11B  ENSG00000248333    1   1p36.33         1635227       1659012   \n",
       "2769  CYB5R1  ENSG00000159348    1    1q32.1       202961873     202967275   \n",
       "...      ...              ...  ...       ...             ...           ...   \n",
       "4659  PLXNB2  ENSG00000196576   22  22q13.33        50274979      50307646   \n",
       "1127    HSCB  ENSG00000100209   22   22q12.1        28742039      28757515   \n",
       "5364    SYN3  ENSG00000185666   22   22q12.3        32512552      33058372   \n",
       "2266   CLDN5  ENSG00000184113   22  22q11.21        19523024      19527545   \n",
       "4678  SNAP29  ENSG00000099940   22  22q11.21        20859007      20891214   \n",
       "\n",
       "      gene_length  \n",
       "4858        71832  \n",
       "5493         1400  \n",
       "5488        66834  \n",
       "5486        23785  \n",
       "2769         5402  \n",
       "...           ...  \n",
       "4659        32667  \n",
       "1127        15476  \n",
       "5364       545820  \n",
       "2266         4521  \n",
       "4678        32207  \n",
       "\n",
       "[6425 rows x 7 columns]"
      ]
     },
     "execution_count": 56,
     "metadata": {},
     "output_type": "execute_result"
    }
   ],
   "source": [
    "genes_info.sort_values(\"chr\")"
   ]
  },
  {
   "cell_type": "markdown",
   "id": "7282b84d-f4f3-4e8c-9dd8-6319505ed4b5",
   "metadata": {
    "papermill": {
     "duration": 0.022559,
     "end_time": "2022-08-30T16:44:00.992688",
     "exception": false,
     "start_time": "2022-08-30T16:44:00.970129",
     "status": "completed"
    },
    "tags": []
   },
   "source": [
    "### Save"
   ]
  },
  {
   "cell_type": "code",
   "execution_count": 57,
   "id": "32cf6566-03bb-4a85-81e1-da46fc9f37ad",
   "metadata": {
    "execution": {
     "iopub.execute_input": "2022-08-30T16:44:01.039168Z",
     "iopub.status.busy": "2022-08-30T16:44:01.038955Z",
     "iopub.status.idle": "2022-08-30T16:44:01.137079Z",
     "shell.execute_reply": "2022-08-30T16:44:01.136552Z"
    },
    "papermill": {
     "duration": 0.123317,
     "end_time": "2022-08-30T16:44:01.138651",
     "exception": false,
     "start_time": "2022-08-30T16:44:01.015334",
     "status": "completed"
    },
    "tags": []
   },
   "outputs": [],
   "source": [
    "genes_info.to_pickle(OUTPUT_DIR_BASE / \"genes_info.pkl\")"
   ]
  },
  {
   "cell_type": "markdown",
   "id": "5b9f384a-5a91-4a8d-9007-cfe43f2d86f8",
   "metadata": {
    "papermill": {
     "duration": 0.023297,
     "end_time": "2022-08-30T16:44:01.185869",
     "exception": false,
     "start_time": "2022-08-30T16:44:01.162572",
     "status": "completed"
    },
    "tags": []
   },
   "source": [
    "## S-PrediXcan results"
   ]
  },
  {
   "cell_type": "markdown",
   "id": "fc0a2a4c-960c-4a0a-9b23-b66c3d5d6e07",
   "metadata": {
    "papermill": {
     "duration": 0.023037,
     "end_time": "2022-08-30T16:44:01.232468",
     "exception": false,
     "start_time": "2022-08-30T16:44:01.209431",
     "status": "completed"
    },
    "tags": []
   },
   "source": [
    "### Load results across all tissues"
   ]
  },
  {
   "cell_type": "code",
   "execution_count": 58,
   "id": "0b4867d7-a608-4b08-9d77-1782be3a0c94",
   "metadata": {
    "execution": {
     "iopub.execute_input": "2022-08-30T16:44:01.280281Z",
     "iopub.status.busy": "2022-08-30T16:44:01.280090Z",
     "iopub.status.idle": "2022-08-30T16:44:01.293993Z",
     "shell.execute_reply": "2022-08-30T16:44:01.293476Z"
    },
    "papermill": {
     "duration": 0.039936,
     "end_time": "2022-08-30T16:44:01.295578",
     "exception": false,
     "start_time": "2022-08-30T16:44:01.255642",
     "status": "completed"
    },
    "tags": []
   },
   "outputs": [],
   "source": [
    "spredixcan_result_files = {\n",
    "    t: SPREDIXCAN_FOLDER / SPREDIXCAN_FILE_PATTERN.format(tissue=t)\n",
    "    for t in prediction_model_tissues\n",
    "}"
   ]
  },
  {
   "cell_type": "code",
   "execution_count": 59,
   "id": "0ce270dd-46ac-4eaa-9d86-2b201d67d82f",
   "metadata": {
    "execution": {
     "iopub.execute_input": "2022-08-30T16:44:01.343270Z",
     "iopub.status.busy": "2022-08-30T16:44:01.343078Z",
     "iopub.status.idle": "2022-08-30T16:44:01.358569Z",
     "shell.execute_reply": "2022-08-30T16:44:01.358087Z"
    },
    "papermill": {
     "duration": 0.041153,
     "end_time": "2022-08-30T16:44:01.360083",
     "exception": false,
     "start_time": "2022-08-30T16:44:01.318930",
     "status": "completed"
    },
    "tags": []
   },
   "outputs": [
    {
     "data": {
      "text/plain": [
       "[PosixPath('/project/ritchie20/projects/phenoplier/base/data/emerge/spredixcan/EUR_411.3/eMERGE_III_spredixcan_mashr_eqtl_EUR_411.3_Whole_Blood.csv'),\n",
       " PosixPath('/project/ritchie20/projects/phenoplier/base/data/emerge/spredixcan/EUR_411.3/eMERGE_III_spredixcan_mashr_eqtl_EUR_411.3_Brain_Hypothalamus.csv'),\n",
       " PosixPath('/project/ritchie20/projects/phenoplier/base/data/emerge/spredixcan/EUR_411.3/eMERGE_III_spredixcan_mashr_eqtl_EUR_411.3_Brain_Amygdala.csv'),\n",
       " PosixPath('/project/ritchie20/projects/phenoplier/base/data/emerge/spredixcan/EUR_411.3/eMERGE_III_spredixcan_mashr_eqtl_EUR_411.3_Brain_Nucleus_accumbens_basal_ganglia.csv'),\n",
       " PosixPath('/project/ritchie20/projects/phenoplier/base/data/emerge/spredixcan/EUR_411.3/eMERGE_III_spredixcan_mashr_eqtl_EUR_411.3_Artery_Coronary.csv')]"
      ]
     },
     "metadata": {},
     "output_type": "display_data"
    }
   ],
   "source": [
    "assert len(spredixcan_result_files) == len(prediction_model_tissues)\n",
    "display(list(spredixcan_result_files.values())[:5])"
   ]
  },
  {
   "cell_type": "code",
   "execution_count": 60,
   "id": "aa140259-303e-4912-b2bf-e7adce662f88",
   "metadata": {
    "execution": {
     "iopub.execute_input": "2022-08-30T16:44:01.410088Z",
     "iopub.status.busy": "2022-08-30T16:44:01.409870Z",
     "iopub.status.idle": "2022-08-30T16:44:01.456834Z",
     "shell.execute_reply": "2022-08-30T16:44:01.456308Z"
    },
    "papermill": {
     "duration": 0.07422,
     "end_time": "2022-08-30T16:44:01.458379",
     "exception": false,
     "start_time": "2022-08-30T16:44:01.384159",
     "status": "completed"
    },
    "tags": []
   },
   "outputs": [
    {
     "data": {
      "text/html": [
       "<div>\n",
       "<style scoped>\n",
       "    .dataframe tbody tr th:only-of-type {\n",
       "        vertical-align: middle;\n",
       "    }\n",
       "\n",
       "    .dataframe tbody tr th {\n",
       "        vertical-align: top;\n",
       "    }\n",
       "\n",
       "    .dataframe thead th {\n",
       "        text-align: right;\n",
       "    }\n",
       "</style>\n",
       "<table border=\"1\" class=\"dataframe\">\n",
       "  <thead>\n",
       "    <tr style=\"text-align: right;\">\n",
       "      <th></th>\n",
       "      <th>gene</th>\n",
       "      <th>gene_name</th>\n",
       "      <th>zscore</th>\n",
       "      <th>effect_size</th>\n",
       "      <th>pvalue</th>\n",
       "      <th>var_g</th>\n",
       "      <th>pred_perf_r2</th>\n",
       "      <th>pred_perf_pval</th>\n",
       "      <th>pred_perf_qval</th>\n",
       "      <th>n_snps_used</th>\n",
       "      <th>n_snps_in_cov</th>\n",
       "      <th>n_snps_in_model</th>\n",
       "      <th>best_gwas_p</th>\n",
       "      <th>largest_weight</th>\n",
       "    </tr>\n",
       "  </thead>\n",
       "  <tbody>\n",
       "    <tr>\n",
       "      <th>0</th>\n",
       "      <td>ENSG00000204381.11</td>\n",
       "      <td>LAYN</td>\n",
       "      <td>-3.982912</td>\n",
       "      <td>NaN</td>\n",
       "      <td>0.000068</td>\n",
       "      <td>0.004661</td>\n",
       "      <td>NaN</td>\n",
       "      <td>NaN</td>\n",
       "      <td>NaN</td>\n",
       "      <td>1</td>\n",
       "      <td>1</td>\n",
       "      <td>1</td>\n",
       "      <td>0.000068</td>\n",
       "      <td>0.099104</td>\n",
       "    </tr>\n",
       "    <tr>\n",
       "      <th>1</th>\n",
       "      <td>ENSG00000105329.9</td>\n",
       "      <td>TGFB1</td>\n",
       "      <td>-3.946805</td>\n",
       "      <td>NaN</td>\n",
       "      <td>0.000079</td>\n",
       "      <td>0.000148</td>\n",
       "      <td>NaN</td>\n",
       "      <td>NaN</td>\n",
       "      <td>NaN</td>\n",
       "      <td>1</td>\n",
       "      <td>1</td>\n",
       "      <td>1</td>\n",
       "      <td>0.000079</td>\n",
       "      <td>0.018139</td>\n",
       "    </tr>\n",
       "    <tr>\n",
       "      <th>2</th>\n",
       "      <td>ENSG00000078804.12</td>\n",
       "      <td>TP53INP2</td>\n",
       "      <td>-3.890546</td>\n",
       "      <td>NaN</td>\n",
       "      <td>0.000100</td>\n",
       "      <td>0.000554</td>\n",
       "      <td>NaN</td>\n",
       "      <td>NaN</td>\n",
       "      <td>NaN</td>\n",
       "      <td>1</td>\n",
       "      <td>1</td>\n",
       "      <td>1</td>\n",
       "      <td>0.000100</td>\n",
       "      <td>0.034818</td>\n",
       "    </tr>\n",
       "    <tr>\n",
       "      <th>3</th>\n",
       "      <td>ENSG00000204261.8</td>\n",
       "      <td>PSMB8-AS1</td>\n",
       "      <td>3.752330</td>\n",
       "      <td>NaN</td>\n",
       "      <td>0.000175</td>\n",
       "      <td>0.006429</td>\n",
       "      <td>NaN</td>\n",
       "      <td>NaN</td>\n",
       "      <td>NaN</td>\n",
       "      <td>2</td>\n",
       "      <td>2</td>\n",
       "      <td>2</td>\n",
       "      <td>0.000100</td>\n",
       "      <td>0.260087</td>\n",
       "    </tr>\n",
       "    <tr>\n",
       "      <th>4</th>\n",
       "      <td>ENSG00000019995.6</td>\n",
       "      <td>ZRANB1</td>\n",
       "      <td>-3.723783</td>\n",
       "      <td>NaN</td>\n",
       "      <td>0.000196</td>\n",
       "      <td>0.000020</td>\n",
       "      <td>NaN</td>\n",
       "      <td>NaN</td>\n",
       "      <td>NaN</td>\n",
       "      <td>1</td>\n",
       "      <td>1</td>\n",
       "      <td>1</td>\n",
       "      <td>0.000196</td>\n",
       "      <td>0.009755</td>\n",
       "    </tr>\n",
       "  </tbody>\n",
       "</table>\n",
       "</div>"
      ],
      "text/plain": [
       "                 gene  gene_name    zscore  effect_size    pvalue     var_g  \\\n",
       "0  ENSG00000204381.11       LAYN -3.982912          NaN  0.000068  0.004661   \n",
       "1   ENSG00000105329.9      TGFB1 -3.946805          NaN  0.000079  0.000148   \n",
       "2  ENSG00000078804.12   TP53INP2 -3.890546          NaN  0.000100  0.000554   \n",
       "3   ENSG00000204261.8  PSMB8-AS1  3.752330          NaN  0.000175  0.006429   \n",
       "4   ENSG00000019995.6     ZRANB1 -3.723783          NaN  0.000196  0.000020   \n",
       "\n",
       "   pred_perf_r2  pred_perf_pval  pred_perf_qval  n_snps_used  n_snps_in_cov  \\\n",
       "0           NaN             NaN             NaN            1              1   \n",
       "1           NaN             NaN             NaN            1              1   \n",
       "2           NaN             NaN             NaN            1              1   \n",
       "3           NaN             NaN             NaN            2              2   \n",
       "4           NaN             NaN             NaN            1              1   \n",
       "\n",
       "   n_snps_in_model  best_gwas_p  largest_weight  \n",
       "0                1     0.000068        0.099104  \n",
       "1                1     0.000079        0.018139  \n",
       "2                1     0.000100        0.034818  \n",
       "3                2     0.000100        0.260087  \n",
       "4                1     0.000196        0.009755  "
      ]
     },
     "execution_count": 60,
     "metadata": {},
     "output_type": "execute_result"
    }
   ],
   "source": [
    "# look at the structure of one result\n",
    "pd.read_csv(spredixcan_result_files[\"Whole_Blood\"]).head()"
   ]
  },
  {
   "cell_type": "code",
   "execution_count": 61,
   "id": "4381b9ff-6ab5-47f1-89d1-560f88fdf07f",
   "metadata": {
    "execution": {
     "iopub.execute_input": "2022-08-30T16:44:01.508538Z",
     "iopub.status.busy": "2022-08-30T16:44:01.508329Z",
     "iopub.status.idle": "2022-08-30T16:44:01.529898Z",
     "shell.execute_reply": "2022-08-30T16:44:01.529382Z"
    },
    "papermill": {
     "duration": 0.048631,
     "end_time": "2022-08-30T16:44:01.531530",
     "exception": false,
     "start_time": "2022-08-30T16:44:01.482899",
     "status": "completed"
    },
    "tags": []
   },
   "outputs": [],
   "source": [
    "assert all(f.exists() for f in spredixcan_result_files.values())"
   ]
  },
  {
   "cell_type": "code",
   "execution_count": 62,
   "id": "d477157f-51e9-4c7c-b826-7ab5f4fdf3e3",
   "metadata": {
    "execution": {
     "iopub.execute_input": "2022-08-30T16:44:01.581600Z",
     "iopub.status.busy": "2022-08-30T16:44:01.581395Z",
     "iopub.status.idle": "2022-08-30T16:44:02.605756Z",
     "shell.execute_reply": "2022-08-30T16:44:02.605169Z"
    },
    "papermill": {
     "duration": 1.051608,
     "end_time": "2022-08-30T16:44:02.607678",
     "exception": false,
     "start_time": "2022-08-30T16:44:01.556070",
     "status": "completed"
    },
    "tags": []
   },
   "outputs": [],
   "source": [
    "spredixcan_dfs = [\n",
    "    pd.read_csv(\n",
    "        f,\n",
    "        usecols=[\n",
    "            \"gene\",\n",
    "            \"zscore\",\n",
    "            \"pvalue\",\n",
    "            \"n_snps_used\",\n",
    "            \"n_snps_in_model\",\n",
    "        ],\n",
    "    )\n",
    "    .dropna(subset=[\"gene\", \"zscore\", \"pvalue\"])\n",
    "    .assign(tissue=t)\n",
    "    for t, f in spredixcan_result_files.items()\n",
    "]"
   ]
  },
  {
   "cell_type": "code",
   "execution_count": 63,
   "id": "9730bd37-b769-411f-bb6b-bb658d1ff88c",
   "metadata": {
    "execution": {
     "iopub.execute_input": "2022-08-30T16:44:02.658902Z",
     "iopub.status.busy": "2022-08-30T16:44:02.658682Z",
     "iopub.status.idle": "2022-08-30T16:44:02.674311Z",
     "shell.execute_reply": "2022-08-30T16:44:02.673795Z"
    },
    "papermill": {
     "duration": 0.042813,
     "end_time": "2022-08-30T16:44:02.675954",
     "exception": false,
     "start_time": "2022-08-30T16:44:02.633141",
     "status": "completed"
    },
    "tags": []
   },
   "outputs": [],
   "source": [
    "assert len(spredixcan_dfs) == len(prediction_model_tissues)"
   ]
  },
  {
   "cell_type": "code",
   "execution_count": 64,
   "id": "bcd73f53-1283-4ff6-bbb5-25fb71f5cb72",
   "metadata": {
    "execution": {
     "iopub.execute_input": "2022-08-30T16:44:02.725866Z",
     "iopub.status.busy": "2022-08-30T16:44:02.725655Z",
     "iopub.status.idle": "2022-08-30T16:44:02.857747Z",
     "shell.execute_reply": "2022-08-30T16:44:02.857142Z"
    },
    "papermill": {
     "duration": 0.159465,
     "end_time": "2022-08-30T16:44:02.859766",
     "exception": false,
     "start_time": "2022-08-30T16:44:02.700301",
     "status": "completed"
    },
    "tags": []
   },
   "outputs": [],
   "source": [
    "spredixcan_dfs = pd.concat(spredixcan_dfs)"
   ]
  },
  {
   "cell_type": "code",
   "execution_count": 65,
   "id": "ae99c7b5-14fc-4b39-a6b2-40fc703acd0a",
   "metadata": {
    "execution": {
     "iopub.execute_input": "2022-08-30T16:44:02.910957Z",
     "iopub.status.busy": "2022-08-30T16:44:02.910718Z",
     "iopub.status.idle": "2022-08-30T16:44:02.971348Z",
     "shell.execute_reply": "2022-08-30T16:44:02.970837Z"
    },
    "papermill": {
     "duration": 0.087957,
     "end_time": "2022-08-30T16:44:02.973002",
     "exception": false,
     "start_time": "2022-08-30T16:44:02.885045",
     "status": "completed"
    },
    "tags": []
   },
   "outputs": [],
   "source": [
    "assert spredixcan_dfs[\"tissue\"].unique().shape[0] == len(prediction_model_tissues)"
   ]
  },
  {
   "cell_type": "code",
   "execution_count": 66,
   "id": "b7223a23-e40f-4cd3-8988-72033f8739bd",
   "metadata": {
    "execution": {
     "iopub.execute_input": "2022-08-30T16:44:03.023241Z",
     "iopub.status.busy": "2022-08-30T16:44:03.023013Z",
     "iopub.status.idle": "2022-08-30T16:44:03.038373Z",
     "shell.execute_reply": "2022-08-30T16:44:03.037846Z"
    },
    "papermill": {
     "duration": 0.042595,
     "end_time": "2022-08-30T16:44:03.039869",
     "exception": false,
     "start_time": "2022-08-30T16:44:02.997274",
     "status": "completed"
    },
    "tags": []
   },
   "outputs": [
    {
     "data": {
      "text/plain": [
       "(650048, 6)"
      ]
     },
     "execution_count": 66,
     "metadata": {},
     "output_type": "execute_result"
    }
   ],
   "source": [
    "spredixcan_dfs.shape"
   ]
  },
  {
   "cell_type": "code",
   "execution_count": 67,
   "id": "4987073a-3b70-4162-93fb-beeb351ebfe0",
   "metadata": {
    "execution": {
     "iopub.execute_input": "2022-08-30T16:44:03.089290Z",
     "iopub.status.busy": "2022-08-30T16:44:03.089097Z",
     "iopub.status.idle": "2022-08-30T16:44:03.313245Z",
     "shell.execute_reply": "2022-08-30T16:44:03.312653Z"
    },
    "papermill": {
     "duration": 0.251063,
     "end_time": "2022-08-30T16:44:03.315156",
     "exception": false,
     "start_time": "2022-08-30T16:44:03.064093",
     "status": "completed"
    },
    "tags": []
   },
   "outputs": [],
   "source": [
    "spredixcan_dfs = spredixcan_dfs.assign(\n",
    "    gene_id=spredixcan_dfs[\"gene\"].apply(lambda g: g.split(\".\")[0])\n",
    ")"
   ]
  },
  {
   "cell_type": "code",
   "execution_count": 68,
   "id": "6b47d026-01c0-4f7c-a90e-f0baa13235f4",
   "metadata": {
    "execution": {
     "iopub.execute_input": "2022-08-30T16:44:03.364214Z",
     "iopub.status.busy": "2022-08-30T16:44:03.363993Z",
     "iopub.status.idle": "2022-08-30T16:44:03.385899Z",
     "shell.execute_reply": "2022-08-30T16:44:03.385407Z"
    },
    "papermill": {
     "duration": 0.048045,
     "end_time": "2022-08-30T16:44:03.387375",
     "exception": false,
     "start_time": "2022-08-30T16:44:03.339330",
     "status": "completed"
    },
    "tags": []
   },
   "outputs": [
    {
     "data": {
      "text/html": [
       "<div>\n",
       "<style scoped>\n",
       "    .dataframe tbody tr th:only-of-type {\n",
       "        vertical-align: middle;\n",
       "    }\n",
       "\n",
       "    .dataframe tbody tr th {\n",
       "        vertical-align: top;\n",
       "    }\n",
       "\n",
       "    .dataframe thead th {\n",
       "        text-align: right;\n",
       "    }\n",
       "</style>\n",
       "<table border=\"1\" class=\"dataframe\">\n",
       "  <thead>\n",
       "    <tr style=\"text-align: right;\">\n",
       "      <th></th>\n",
       "      <th>gene</th>\n",
       "      <th>zscore</th>\n",
       "      <th>pvalue</th>\n",
       "      <th>n_snps_used</th>\n",
       "      <th>n_snps_in_model</th>\n",
       "      <th>tissue</th>\n",
       "      <th>gene_id</th>\n",
       "    </tr>\n",
       "  </thead>\n",
       "  <tbody>\n",
       "    <tr>\n",
       "      <th>0</th>\n",
       "      <td>ENSG00000204381.11</td>\n",
       "      <td>-3.982912</td>\n",
       "      <td>0.000068</td>\n",
       "      <td>1</td>\n",
       "      <td>1</td>\n",
       "      <td>Whole_Blood</td>\n",
       "      <td>ENSG00000204381</td>\n",
       "    </tr>\n",
       "    <tr>\n",
       "      <th>1</th>\n",
       "      <td>ENSG00000105329.9</td>\n",
       "      <td>-3.946805</td>\n",
       "      <td>0.000079</td>\n",
       "      <td>1</td>\n",
       "      <td>1</td>\n",
       "      <td>Whole_Blood</td>\n",
       "      <td>ENSG00000105329</td>\n",
       "    </tr>\n",
       "    <tr>\n",
       "      <th>2</th>\n",
       "      <td>ENSG00000078804.12</td>\n",
       "      <td>-3.890546</td>\n",
       "      <td>0.000100</td>\n",
       "      <td>1</td>\n",
       "      <td>1</td>\n",
       "      <td>Whole_Blood</td>\n",
       "      <td>ENSG00000078804</td>\n",
       "    </tr>\n",
       "    <tr>\n",
       "      <th>3</th>\n",
       "      <td>ENSG00000204261.8</td>\n",
       "      <td>3.752330</td>\n",
       "      <td>0.000175</td>\n",
       "      <td>2</td>\n",
       "      <td>2</td>\n",
       "      <td>Whole_Blood</td>\n",
       "      <td>ENSG00000204261</td>\n",
       "    </tr>\n",
       "    <tr>\n",
       "      <th>4</th>\n",
       "      <td>ENSG00000019995.6</td>\n",
       "      <td>-3.723783</td>\n",
       "      <td>0.000196</td>\n",
       "      <td>1</td>\n",
       "      <td>1</td>\n",
       "      <td>Whole_Blood</td>\n",
       "      <td>ENSG00000019995</td>\n",
       "    </tr>\n",
       "  </tbody>\n",
       "</table>\n",
       "</div>"
      ],
      "text/plain": [
       "                 gene    zscore    pvalue  n_snps_used  n_snps_in_model  \\\n",
       "0  ENSG00000204381.11 -3.982912  0.000068            1                1   \n",
       "1   ENSG00000105329.9 -3.946805  0.000079            1                1   \n",
       "2  ENSG00000078804.12 -3.890546  0.000100            1                1   \n",
       "3   ENSG00000204261.8  3.752330  0.000175            2                2   \n",
       "4   ENSG00000019995.6 -3.723783  0.000196            1                1   \n",
       "\n",
       "        tissue          gene_id  \n",
       "0  Whole_Blood  ENSG00000204381  \n",
       "1  Whole_Blood  ENSG00000105329  \n",
       "2  Whole_Blood  ENSG00000078804  \n",
       "3  Whole_Blood  ENSG00000204261  \n",
       "4  Whole_Blood  ENSG00000019995  "
      ]
     },
     "execution_count": 68,
     "metadata": {},
     "output_type": "execute_result"
    }
   ],
   "source": [
    "spredixcan_dfs.head()"
   ]
  },
  {
   "cell_type": "code",
   "execution_count": 69,
   "id": "d5dbdb2e-b7eb-4665-9fd4-9ce714d6af0c",
   "metadata": {
    "execution": {
     "iopub.execute_input": "2022-08-30T16:44:03.436732Z",
     "iopub.status.busy": "2022-08-30T16:44:03.436539Z",
     "iopub.status.idle": "2022-08-30T16:44:03.577857Z",
     "shell.execute_reply": "2022-08-30T16:44:03.577271Z"
    },
    "papermill": {
     "duration": 0.168069,
     "end_time": "2022-08-30T16:44:03.579775",
     "exception": false,
     "start_time": "2022-08-30T16:44:03.411706",
     "status": "completed"
    },
    "tags": []
   },
   "outputs": [],
   "source": [
    "# leave only common genes\n",
    "spredixcan_dfs = spredixcan_dfs[spredixcan_dfs[\"gene_id\"].isin(set(genes_info[\"id\"]))]"
   ]
  },
  {
   "cell_type": "code",
   "execution_count": 70,
   "id": "8d34f99a-6b43-47aa-bb07-dfc67e169538",
   "metadata": {
    "execution": {
     "iopub.execute_input": "2022-08-30T16:44:03.632086Z",
     "iopub.status.busy": "2022-08-30T16:44:03.631886Z",
     "iopub.status.idle": "2022-08-30T16:44:03.648946Z",
     "shell.execute_reply": "2022-08-30T16:44:03.648455Z"
    },
    "papermill": {
     "duration": 0.044079,
     "end_time": "2022-08-30T16:44:03.650431",
     "exception": false,
     "start_time": "2022-08-30T16:44:03.606352",
     "status": "completed"
    },
    "tags": []
   },
   "outputs": [
    {
     "data": {
      "text/plain": [
       "(233000, 7)"
      ]
     },
     "execution_count": 70,
     "metadata": {},
     "output_type": "execute_result"
    }
   ],
   "source": [
    "spredixcan_dfs.shape"
   ]
  },
  {
   "cell_type": "markdown",
   "id": "5ecfd141-ecb8-47cf-905e-25cc1b4d3f9d",
   "metadata": {
    "papermill": {
     "duration": 0.023495,
     "end_time": "2022-08-30T16:44:03.697249",
     "exception": false,
     "start_time": "2022-08-30T16:44:03.673754",
     "status": "completed"
    },
    "tags": []
   },
   "source": [
    "### Count number of tissues available per gene"
   ]
  },
  {
   "cell_type": "code",
   "execution_count": 71,
   "id": "86fe37e1-a303-4221-a12e-3a54a04dd510",
   "metadata": {
    "execution": {
     "iopub.execute_input": "2022-08-30T16:44:03.745659Z",
     "iopub.status.busy": "2022-08-30T16:44:03.745467Z",
     "iopub.status.idle": "2022-08-30T16:44:03.821316Z",
     "shell.execute_reply": "2022-08-30T16:44:03.820711Z"
    },
    "papermill": {
     "duration": 0.10219,
     "end_time": "2022-08-30T16:44:03.823214",
     "exception": false,
     "start_time": "2022-08-30T16:44:03.721024",
     "status": "completed"
    },
    "tags": []
   },
   "outputs": [],
   "source": [
    "spredixcan_genes_n_models = spredixcan_dfs.groupby(\"gene_id\")[\"tissue\"].nunique()"
   ]
  },
  {
   "cell_type": "code",
   "execution_count": 72,
   "id": "31416d48-1e4d-463f-9a5c-34d29803c3f8",
   "metadata": {
    "execution": {
     "iopub.execute_input": "2022-08-30T16:44:03.872438Z",
     "iopub.status.busy": "2022-08-30T16:44:03.872239Z",
     "iopub.status.idle": "2022-08-30T16:44:03.890478Z",
     "shell.execute_reply": "2022-08-30T16:44:03.890000Z"
    },
    "papermill": {
     "duration": 0.044439,
     "end_time": "2022-08-30T16:44:03.891930",
     "exception": false,
     "start_time": "2022-08-30T16:44:03.847491",
     "status": "completed"
    },
    "tags": []
   },
   "outputs": [
    {
     "data": {
      "text/plain": [
       "gene_id\n",
       "ENSG00000000419     2\n",
       "ENSG00000000938    26\n",
       "ENSG00000000971    34\n",
       "ENSG00000001084    32\n",
       "ENSG00000001167    40\n",
       "                   ..\n",
       "ENSG00000278540    36\n",
       "ENSG00000278828     4\n",
       "ENSG00000278845    49\n",
       "ENSG00000281005    49\n",
       "ENSG00000282608    36\n",
       "Name: tissue, Length: 6425, dtype: int64"
      ]
     },
     "execution_count": 72,
     "metadata": {},
     "output_type": "execute_result"
    }
   ],
   "source": [
    "spredixcan_genes_n_models"
   ]
  },
  {
   "cell_type": "code",
   "execution_count": 73,
   "id": "d737ad4f-f821-4546-9a3e-6703fe264b49",
   "metadata": {
    "execution": {
     "iopub.execute_input": "2022-08-30T16:44:03.941065Z",
     "iopub.status.busy": "2022-08-30T16:44:03.940873Z",
     "iopub.status.idle": "2022-08-30T16:44:03.969436Z",
     "shell.execute_reply": "2022-08-30T16:44:03.968947Z"
    },
    "papermill": {
     "duration": 0.055378,
     "end_time": "2022-08-30T16:44:03.970992",
     "exception": false,
     "start_time": "2022-08-30T16:44:03.915614",
     "status": "completed"
    },
    "tags": []
   },
   "outputs": [],
   "source": [
    "# testing that in S-MultiXcan I get the same number of tissues per gene\n",
    "_tmp_smultixcan_results_n_models = (\n",
    "    smultixcan_results.set_index(\"gene_id\")[\"n\"].astype(int).rename(\"tissue\")\n",
    ")\n",
    "\n",
    "_cg = _tmp_smultixcan_results_n_models.index.intersection(\n",
    "    spredixcan_genes_n_models.index\n",
    ")\n",
    "_tmp_smultixcan_results_n_models = _tmp_smultixcan_results_n_models.loc[_cg]\n",
    "_spredixcan = spredixcan_genes_n_models.loc[_cg]\n",
    "\n",
    "assert _spredixcan.shape[0] == _tmp_smultixcan_results_n_models.shape[0]\n",
    "assert _spredixcan.equals(_tmp_smultixcan_results_n_models.loc[_spredixcan.index])"
   ]
  },
  {
   "cell_type": "markdown",
   "id": "904d7d30-9c2d-4c3e-b674-3f081954fe8b",
   "metadata": {
    "papermill": {
     "duration": 0.024324,
     "end_time": "2022-08-30T16:44:04.019483",
     "exception": false,
     "start_time": "2022-08-30T16:44:03.995159",
     "status": "completed"
    },
    "tags": []
   },
   "source": [
    "### Get tissues available per gene"
   ]
  },
  {
   "cell_type": "code",
   "execution_count": 74,
   "id": "cf014e81-4b4e-4c46-9265-67718b3ab08e",
   "metadata": {
    "execution": {
     "iopub.execute_input": "2022-08-30T16:44:04.069580Z",
     "iopub.status.busy": "2022-08-30T16:44:04.069389Z",
     "iopub.status.idle": "2022-08-30T16:44:04.251069Z",
     "shell.execute_reply": "2022-08-30T16:44:04.250493Z"
    },
    "papermill": {
     "duration": 0.208853,
     "end_time": "2022-08-30T16:44:04.252996",
     "exception": false,
     "start_time": "2022-08-30T16:44:04.044143",
     "status": "completed"
    },
    "tags": []
   },
   "outputs": [],
   "source": [
    "spredixcan_genes_models = spredixcan_dfs.groupby(\"gene_id\")[\"tissue\"].apply(\n",
    "    lambda x: frozenset(x.tolist())\n",
    ")"
   ]
  },
  {
   "cell_type": "code",
   "execution_count": 75,
   "id": "5df09d7f-39c9-408f-9fef-5189e8ca1c87",
   "metadata": {
    "execution": {
     "iopub.execute_input": "2022-08-30T16:44:04.302354Z",
     "iopub.status.busy": "2022-08-30T16:44:04.302152Z",
     "iopub.status.idle": "2022-08-30T16:44:04.322486Z",
     "shell.execute_reply": "2022-08-30T16:44:04.322000Z"
    },
    "papermill": {
     "duration": 0.046324,
     "end_time": "2022-08-30T16:44:04.323923",
     "exception": false,
     "start_time": "2022-08-30T16:44:04.277599",
     "status": "completed"
    },
    "tags": []
   },
   "outputs": [
    {
     "data": {
      "text/plain": [
       "gene_id\n",
       "ENSG00000000419         (Brain_Hypothalamus, Brain_Substantia_nigra)\n",
       "ENSG00000000938    (Cells_EBV-transformed_lymphocytes, Brain_Ante...\n",
       "ENSG00000000971    (Artery_Coronary, Brain_Anterior_cingulate_cor...\n",
       "ENSG00000001084    (Artery_Coronary, Cells_EBV-transformed_lympho...\n",
       "ENSG00000001167    (Artery_Coronary, Brain_Anterior_cingulate_cor...\n",
       "                                         ...                        \n",
       "ENSG00000278540    (Cells_EBV-transformed_lymphocytes, Brain_Ante...\n",
       "ENSG00000278828    (Adipose_Visceral_Omentum, Artery_Coronary, Es...\n",
       "ENSG00000278845    (Artery_Coronary, Cells_EBV-transformed_lympho...\n",
       "ENSG00000281005    (Artery_Coronary, Cells_EBV-transformed_lympho...\n",
       "ENSG00000282608    (Artery_Coronary, Brain_Anterior_cingulate_cor...\n",
       "Name: tissue, Length: 6425, dtype: object"
      ]
     },
     "execution_count": 75,
     "metadata": {},
     "output_type": "execute_result"
    }
   ],
   "source": [
    "spredixcan_genes_models"
   ]
  },
  {
   "cell_type": "code",
   "execution_count": 76,
   "id": "97c46886-5a48-4813-b890-1dcdb09ec09d",
   "metadata": {
    "execution": {
     "iopub.execute_input": "2022-08-30T16:44:04.373499Z",
     "iopub.status.busy": "2022-08-30T16:44:04.373309Z",
     "iopub.status.idle": "2022-08-30T16:44:04.386434Z",
     "shell.execute_reply": "2022-08-30T16:44:04.385928Z"
    },
    "papermill": {
     "duration": 0.03991,
     "end_time": "2022-08-30T16:44:04.388022",
     "exception": false,
     "start_time": "2022-08-30T16:44:04.348112",
     "status": "completed"
    },
    "tags": []
   },
   "outputs": [],
   "source": [
    "assert spredixcan_genes_n_models.shape[0] == spredixcan_genes_models.shape[0]"
   ]
  },
  {
   "cell_type": "code",
   "execution_count": 77,
   "id": "abc13913-a681-4297-a0e6-dde62f43c36f",
   "metadata": {
    "execution": {
     "iopub.execute_input": "2022-08-30T16:44:04.437544Z",
     "iopub.status.busy": "2022-08-30T16:44:04.437353Z",
     "iopub.status.idle": "2022-08-30T16:44:04.450986Z",
     "shell.execute_reply": "2022-08-30T16:44:04.450474Z"
    },
    "papermill": {
     "duration": 0.040333,
     "end_time": "2022-08-30T16:44:04.452540",
     "exception": false,
     "start_time": "2022-08-30T16:44:04.412207",
     "status": "completed"
    },
    "tags": []
   },
   "outputs": [],
   "source": [
    "assert spredixcan_genes_n_models.index.equals(spredixcan_genes_models.index)"
   ]
  },
  {
   "cell_type": "code",
   "execution_count": 78,
   "id": "995a02e7-b836-471b-b438-17c8c46e4fde",
   "metadata": {
    "execution": {
     "iopub.execute_input": "2022-08-30T16:44:04.502008Z",
     "iopub.status.busy": "2022-08-30T16:44:04.501808Z",
     "iopub.status.idle": "2022-08-30T16:44:04.516644Z",
     "shell.execute_reply": "2022-08-30T16:44:04.516160Z"
    },
    "papermill": {
     "duration": 0.040908,
     "end_time": "2022-08-30T16:44:04.518171",
     "exception": false,
     "start_time": "2022-08-30T16:44:04.477263",
     "status": "completed"
    },
    "tags": []
   },
   "outputs": [],
   "source": [
    "assert (spredixcan_genes_models.apply(len) <= len(prediction_model_tissues)).all()"
   ]
  },
  {
   "cell_type": "code",
   "execution_count": 79,
   "id": "0c1d0c68-1a06-480c-b6d6-d3c4fdf0f5aa",
   "metadata": {
    "execution": {
     "iopub.execute_input": "2022-08-30T16:44:04.568623Z",
     "iopub.status.busy": "2022-08-30T16:44:04.568432Z",
     "iopub.status.idle": "2022-08-30T16:44:04.587023Z",
     "shell.execute_reply": "2022-08-30T16:44:04.586502Z"
    },
    "papermill": {
     "duration": 0.045684,
     "end_time": "2022-08-30T16:44:04.588480",
     "exception": false,
     "start_time": "2022-08-30T16:44:04.542796",
     "status": "completed"
    },
    "tags": []
   },
   "outputs": [
    {
     "data": {
      "text/plain": [
       "count    6425.000000\n",
       "mean       36.264591\n",
       "std        12.946690\n",
       "min         1.000000\n",
       "25%        29.000000\n",
       "50%        41.000000\n",
       "75%        47.000000\n",
       "max        49.000000\n",
       "Name: tissue, dtype: float64"
      ]
     },
     "execution_count": 79,
     "metadata": {},
     "output_type": "execute_result"
    }
   ],
   "source": [
    "spredixcan_genes_models.apply(len).describe()"
   ]
  },
  {
   "cell_type": "code",
   "execution_count": 80,
   "id": "991b9441-6bb5-4b72-9285-5fd579875e40",
   "metadata": {
    "execution": {
     "iopub.execute_input": "2022-08-30T16:44:04.637347Z",
     "iopub.status.busy": "2022-08-30T16:44:04.637155Z",
     "iopub.status.idle": "2022-08-30T16:44:04.653232Z",
     "shell.execute_reply": "2022-08-30T16:44:04.652704Z"
    },
    "papermill": {
     "duration": 0.042647,
     "end_time": "2022-08-30T16:44:04.654759",
     "exception": false,
     "start_time": "2022-08-30T16:44:04.612112",
     "status": "completed"
    },
    "tags": []
   },
   "outputs": [],
   "source": [
    "# testing\n",
    "assert (\n",
    "    spredixcan_genes_models.loc[spredixcan_genes_n_models.index]\n",
    "    .apply(len)\n",
    "    .equals(spredixcan_genes_n_models)\n",
    ")"
   ]
  },
  {
   "cell_type": "markdown",
   "id": "3042b22d-9d88-4e21-b112-ab23cf8d24ea",
   "metadata": {
    "papermill": {
     "duration": 0.024657,
     "end_time": "2022-08-30T16:44:04.703578",
     "exception": false,
     "start_time": "2022-08-30T16:44:04.678921",
     "status": "completed"
    },
    "tags": []
   },
   "source": [
    "### Add gene name and set index"
   ]
  },
  {
   "cell_type": "code",
   "execution_count": 81,
   "id": "3b7b0e76-7aca-44bf-beff-5f1c1b6193ee",
   "metadata": {
    "execution": {
     "iopub.execute_input": "2022-08-30T16:44:04.753410Z",
     "iopub.status.busy": "2022-08-30T16:44:04.753219Z",
     "iopub.status.idle": "2022-08-30T16:44:04.767214Z",
     "shell.execute_reply": "2022-08-30T16:44:04.766729Z"
    },
    "papermill": {
     "duration": 0.040414,
     "end_time": "2022-08-30T16:44:04.768796",
     "exception": false,
     "start_time": "2022-08-30T16:44:04.728382",
     "status": "completed"
    },
    "tags": []
   },
   "outputs": [],
   "source": [
    "spredixcan_genes_models = spredixcan_genes_models.to_frame().reset_index()"
   ]
  },
  {
   "cell_type": "code",
   "execution_count": 82,
   "id": "ffab4b61-c2d4-4bcc-a147-23a4bf30f715",
   "metadata": {
    "execution": {
     "iopub.execute_input": "2022-08-30T16:44:04.817995Z",
     "iopub.status.busy": "2022-08-30T16:44:04.817804Z",
     "iopub.status.idle": "2022-08-30T16:44:04.836711Z",
     "shell.execute_reply": "2022-08-30T16:44:04.836231Z"
    },
    "papermill": {
     "duration": 0.0454,
     "end_time": "2022-08-30T16:44:04.838145",
     "exception": false,
     "start_time": "2022-08-30T16:44:04.792745",
     "status": "completed"
    },
    "tags": []
   },
   "outputs": [
    {
     "data": {
      "text/html": [
       "<div>\n",
       "<style scoped>\n",
       "    .dataframe tbody tr th:only-of-type {\n",
       "        vertical-align: middle;\n",
       "    }\n",
       "\n",
       "    .dataframe tbody tr th {\n",
       "        vertical-align: top;\n",
       "    }\n",
       "\n",
       "    .dataframe thead th {\n",
       "        text-align: right;\n",
       "    }\n",
       "</style>\n",
       "<table border=\"1\" class=\"dataframe\">\n",
       "  <thead>\n",
       "    <tr style=\"text-align: right;\">\n",
       "      <th></th>\n",
       "      <th>gene_id</th>\n",
       "      <th>tissue</th>\n",
       "    </tr>\n",
       "  </thead>\n",
       "  <tbody>\n",
       "    <tr>\n",
       "      <th>0</th>\n",
       "      <td>ENSG00000000419</td>\n",
       "      <td>(Brain_Hypothalamus, Brain_Substantia_nigra)</td>\n",
       "    </tr>\n",
       "    <tr>\n",
       "      <th>1</th>\n",
       "      <td>ENSG00000000938</td>\n",
       "      <td>(Cells_EBV-transformed_lymphocytes, Brain_Ante...</td>\n",
       "    </tr>\n",
       "    <tr>\n",
       "      <th>2</th>\n",
       "      <td>ENSG00000000971</td>\n",
       "      <td>(Artery_Coronary, Brain_Anterior_cingulate_cor...</td>\n",
       "    </tr>\n",
       "    <tr>\n",
       "      <th>3</th>\n",
       "      <td>ENSG00000001084</td>\n",
       "      <td>(Artery_Coronary, Cells_EBV-transformed_lympho...</td>\n",
       "    </tr>\n",
       "    <tr>\n",
       "      <th>4</th>\n",
       "      <td>ENSG00000001167</td>\n",
       "      <td>(Artery_Coronary, Brain_Anterior_cingulate_cor...</td>\n",
       "    </tr>\n",
       "  </tbody>\n",
       "</table>\n",
       "</div>"
      ],
      "text/plain": [
       "           gene_id                                             tissue\n",
       "0  ENSG00000000419       (Brain_Hypothalamus, Brain_Substantia_nigra)\n",
       "1  ENSG00000000938  (Cells_EBV-transformed_lymphocytes, Brain_Ante...\n",
       "2  ENSG00000000971  (Artery_Coronary, Brain_Anterior_cingulate_cor...\n",
       "3  ENSG00000001084  (Artery_Coronary, Cells_EBV-transformed_lympho...\n",
       "4  ENSG00000001167  (Artery_Coronary, Brain_Anterior_cingulate_cor..."
      ]
     },
     "execution_count": 82,
     "metadata": {},
     "output_type": "execute_result"
    }
   ],
   "source": [
    "spredixcan_genes_models.head()"
   ]
  },
  {
   "cell_type": "code",
   "execution_count": 83,
   "id": "e1cb2fe5-969f-4526-bca7-a3b8919b3509",
   "metadata": {
    "execution": {
     "iopub.execute_input": "2022-08-30T16:44:04.888145Z",
     "iopub.status.busy": "2022-08-30T16:44:04.887929Z",
     "iopub.status.idle": "2022-08-30T16:44:04.905477Z",
     "shell.execute_reply": "2022-08-30T16:44:04.904978Z"
    },
    "papermill": {
     "duration": 0.04467,
     "end_time": "2022-08-30T16:44:04.907118",
     "exception": false,
     "start_time": "2022-08-30T16:44:04.862448",
     "status": "completed"
    },
    "tags": []
   },
   "outputs": [],
   "source": [
    "spredixcan_genes_models = spredixcan_genes_models.assign(\n",
    "    gene_name=spredixcan_genes_models[\"gene_id\"].apply(\n",
    "        lambda g: Gene.GENE_ID_TO_NAME_MAP[g]\n",
    "    )\n",
    ")"
   ]
  },
  {
   "cell_type": "code",
   "execution_count": 84,
   "id": "ff078ce5-3f18-442e-a593-3326436c758e",
   "metadata": {
    "execution": {
     "iopub.execute_input": "2022-08-30T16:44:04.959094Z",
     "iopub.status.busy": "2022-08-30T16:44:04.958878Z",
     "iopub.status.idle": "2022-08-30T16:44:04.973755Z",
     "shell.execute_reply": "2022-08-30T16:44:04.973276Z"
    },
    "papermill": {
     "duration": 0.04287,
     "end_time": "2022-08-30T16:44:04.975382",
     "exception": false,
     "start_time": "2022-08-30T16:44:04.932512",
     "status": "completed"
    },
    "tags": []
   },
   "outputs": [],
   "source": [
    "spredixcan_genes_models = spredixcan_genes_models[[\"gene_id\", \"gene_name\", \"tissue\"]]"
   ]
  },
  {
   "cell_type": "code",
   "execution_count": 85,
   "id": "a65c8bf2-5ecd-4f80-a857-11f8a0c019c4",
   "metadata": {
    "execution": {
     "iopub.execute_input": "2022-08-30T16:44:05.026401Z",
     "iopub.status.busy": "2022-08-30T16:44:05.026209Z",
     "iopub.status.idle": "2022-08-30T16:44:05.040601Z",
     "shell.execute_reply": "2022-08-30T16:44:05.040121Z"
    },
    "papermill": {
     "duration": 0.042235,
     "end_time": "2022-08-30T16:44:05.042228",
     "exception": false,
     "start_time": "2022-08-30T16:44:04.999993",
     "status": "completed"
    },
    "tags": []
   },
   "outputs": [],
   "source": [
    "spredixcan_genes_models = spredixcan_genes_models.set_index(\"gene_id\")"
   ]
  },
  {
   "cell_type": "code",
   "execution_count": 86,
   "id": "af6b40b9-fc58-47a1-a1b5-4404034b008b",
   "metadata": {
    "execution": {
     "iopub.execute_input": "2022-08-30T16:44:05.093405Z",
     "iopub.status.busy": "2022-08-30T16:44:05.093214Z",
     "iopub.status.idle": "2022-08-30T16:44:05.113017Z",
     "shell.execute_reply": "2022-08-30T16:44:05.112500Z"
    },
    "papermill": {
     "duration": 0.047217,
     "end_time": "2022-08-30T16:44:05.114516",
     "exception": false,
     "start_time": "2022-08-30T16:44:05.067299",
     "status": "completed"
    },
    "tags": []
   },
   "outputs": [
    {
     "data": {
      "text/html": [
       "<div>\n",
       "<style scoped>\n",
       "    .dataframe tbody tr th:only-of-type {\n",
       "        vertical-align: middle;\n",
       "    }\n",
       "\n",
       "    .dataframe tbody tr th {\n",
       "        vertical-align: top;\n",
       "    }\n",
       "\n",
       "    .dataframe thead th {\n",
       "        text-align: right;\n",
       "    }\n",
       "</style>\n",
       "<table border=\"1\" class=\"dataframe\">\n",
       "  <thead>\n",
       "    <tr style=\"text-align: right;\">\n",
       "      <th></th>\n",
       "      <th>gene_name</th>\n",
       "      <th>tissue</th>\n",
       "    </tr>\n",
       "    <tr>\n",
       "      <th>gene_id</th>\n",
       "      <th></th>\n",
       "      <th></th>\n",
       "    </tr>\n",
       "  </thead>\n",
       "  <tbody>\n",
       "    <tr>\n",
       "      <th>ENSG00000000419</th>\n",
       "      <td>DPM1</td>\n",
       "      <td>(Brain_Hypothalamus, Brain_Substantia_nigra)</td>\n",
       "    </tr>\n",
       "    <tr>\n",
       "      <th>ENSG00000000938</th>\n",
       "      <td>FGR</td>\n",
       "      <td>(Cells_EBV-transformed_lymphocytes, Brain_Ante...</td>\n",
       "    </tr>\n",
       "    <tr>\n",
       "      <th>ENSG00000000971</th>\n",
       "      <td>CFH</td>\n",
       "      <td>(Artery_Coronary, Brain_Anterior_cingulate_cor...</td>\n",
       "    </tr>\n",
       "    <tr>\n",
       "      <th>ENSG00000001084</th>\n",
       "      <td>GCLC</td>\n",
       "      <td>(Artery_Coronary, Cells_EBV-transformed_lympho...</td>\n",
       "    </tr>\n",
       "    <tr>\n",
       "      <th>ENSG00000001167</th>\n",
       "      <td>NFYA</td>\n",
       "      <td>(Artery_Coronary, Brain_Anterior_cingulate_cor...</td>\n",
       "    </tr>\n",
       "  </tbody>\n",
       "</table>\n",
       "</div>"
      ],
      "text/plain": [
       "                gene_name                                             tissue\n",
       "gene_id                                                                     \n",
       "ENSG00000000419      DPM1       (Brain_Hypothalamus, Brain_Substantia_nigra)\n",
       "ENSG00000000938       FGR  (Cells_EBV-transformed_lymphocytes, Brain_Ante...\n",
       "ENSG00000000971       CFH  (Artery_Coronary, Brain_Anterior_cingulate_cor...\n",
       "ENSG00000001084      GCLC  (Artery_Coronary, Cells_EBV-transformed_lympho...\n",
       "ENSG00000001167      NFYA  (Artery_Coronary, Brain_Anterior_cingulate_cor..."
      ]
     },
     "execution_count": 86,
     "metadata": {},
     "output_type": "execute_result"
    }
   ],
   "source": [
    "spredixcan_genes_models.head()"
   ]
  },
  {
   "cell_type": "markdown",
   "id": "d1e67be9-9094-4a07-b89d-3a0815d503e6",
   "metadata": {
    "papermill": {
     "duration": 0.02467,
     "end_time": "2022-08-30T16:44:05.164868",
     "exception": false,
     "start_time": "2022-08-30T16:44:05.140198",
     "status": "completed"
    },
    "tags": []
   },
   "source": [
    "### Add number of tissues"
   ]
  },
  {
   "cell_type": "code",
   "execution_count": 87,
   "id": "b2702bdb-b3bc-48e6-9c3e-855924d9e74b",
   "metadata": {
    "execution": {
     "iopub.execute_input": "2022-08-30T16:44:05.215011Z",
     "iopub.status.busy": "2022-08-30T16:44:05.214788Z",
     "iopub.status.idle": "2022-08-30T16:44:05.230318Z",
     "shell.execute_reply": "2022-08-30T16:44:05.229839Z"
    },
    "papermill": {
     "duration": 0.04237,
     "end_time": "2022-08-30T16:44:05.231861",
     "exception": false,
     "start_time": "2022-08-30T16:44:05.189491",
     "status": "completed"
    },
    "tags": []
   },
   "outputs": [],
   "source": [
    "spredixcan_genes_models = spredixcan_genes_models.assign(\n",
    "    n_tissues=spredixcan_genes_models[\"tissue\"].apply(len)\n",
    ")"
   ]
  },
  {
   "cell_type": "code",
   "execution_count": 88,
   "id": "4a5eb4b8-5e11-45a3-a991-0515bd83fc03",
   "metadata": {
    "execution": {
     "iopub.execute_input": "2022-08-30T16:44:05.283032Z",
     "iopub.status.busy": "2022-08-30T16:44:05.282826Z",
     "iopub.status.idle": "2022-08-30T16:44:05.303347Z",
     "shell.execute_reply": "2022-08-30T16:44:05.302838Z"
    },
    "papermill": {
     "duration": 0.047818,
     "end_time": "2022-08-30T16:44:05.304841",
     "exception": false,
     "start_time": "2022-08-30T16:44:05.257023",
     "status": "completed"
    },
    "tags": []
   },
   "outputs": [
    {
     "data": {
      "text/html": [
       "<div>\n",
       "<style scoped>\n",
       "    .dataframe tbody tr th:only-of-type {\n",
       "        vertical-align: middle;\n",
       "    }\n",
       "\n",
       "    .dataframe tbody tr th {\n",
       "        vertical-align: top;\n",
       "    }\n",
       "\n",
       "    .dataframe thead th {\n",
       "        text-align: right;\n",
       "    }\n",
       "</style>\n",
       "<table border=\"1\" class=\"dataframe\">\n",
       "  <thead>\n",
       "    <tr style=\"text-align: right;\">\n",
       "      <th></th>\n",
       "      <th>gene_name</th>\n",
       "      <th>tissue</th>\n",
       "      <th>n_tissues</th>\n",
       "    </tr>\n",
       "    <tr>\n",
       "      <th>gene_id</th>\n",
       "      <th></th>\n",
       "      <th></th>\n",
       "      <th></th>\n",
       "    </tr>\n",
       "  </thead>\n",
       "  <tbody>\n",
       "    <tr>\n",
       "      <th>ENSG00000000419</th>\n",
       "      <td>DPM1</td>\n",
       "      <td>(Brain_Hypothalamus, Brain_Substantia_nigra)</td>\n",
       "      <td>2</td>\n",
       "    </tr>\n",
       "    <tr>\n",
       "      <th>ENSG00000000938</th>\n",
       "      <td>FGR</td>\n",
       "      <td>(Cells_EBV-transformed_lymphocytes, Brain_Ante...</td>\n",
       "      <td>26</td>\n",
       "    </tr>\n",
       "    <tr>\n",
       "      <th>ENSG00000000971</th>\n",
       "      <td>CFH</td>\n",
       "      <td>(Artery_Coronary, Brain_Anterior_cingulate_cor...</td>\n",
       "      <td>34</td>\n",
       "    </tr>\n",
       "    <tr>\n",
       "      <th>ENSG00000001084</th>\n",
       "      <td>GCLC</td>\n",
       "      <td>(Artery_Coronary, Cells_EBV-transformed_lympho...</td>\n",
       "      <td>32</td>\n",
       "    </tr>\n",
       "    <tr>\n",
       "      <th>ENSG00000001167</th>\n",
       "      <td>NFYA</td>\n",
       "      <td>(Artery_Coronary, Brain_Anterior_cingulate_cor...</td>\n",
       "      <td>40</td>\n",
       "    </tr>\n",
       "  </tbody>\n",
       "</table>\n",
       "</div>"
      ],
      "text/plain": [
       "                gene_name                                             tissue  \\\n",
       "gene_id                                                                        \n",
       "ENSG00000000419      DPM1       (Brain_Hypothalamus, Brain_Substantia_nigra)   \n",
       "ENSG00000000938       FGR  (Cells_EBV-transformed_lymphocytes, Brain_Ante...   \n",
       "ENSG00000000971       CFH  (Artery_Coronary, Brain_Anterior_cingulate_cor...   \n",
       "ENSG00000001084      GCLC  (Artery_Coronary, Cells_EBV-transformed_lympho...   \n",
       "ENSG00000001167      NFYA  (Artery_Coronary, Brain_Anterior_cingulate_cor...   \n",
       "\n",
       "                 n_tissues  \n",
       "gene_id                     \n",
       "ENSG00000000419          2  \n",
       "ENSG00000000938         26  \n",
       "ENSG00000000971         34  \n",
       "ENSG00000001084         32  \n",
       "ENSG00000001167         40  "
      ]
     },
     "execution_count": 88,
     "metadata": {},
     "output_type": "execute_result"
    }
   ],
   "source": [
    "spredixcan_genes_models.head()"
   ]
  },
  {
   "cell_type": "markdown",
   "id": "2abce820-1cb4-4a58-9dc5-b3e37d3ff037",
   "metadata": {
    "papermill": {
     "duration": 0.025687,
     "end_time": "2022-08-30T16:44:05.356010",
     "exception": false,
     "start_time": "2022-08-30T16:44:05.330323",
     "status": "completed"
    },
    "tags": []
   },
   "source": [
    "### Save"
   ]
  },
  {
   "cell_type": "markdown",
   "id": "28462e2a-da49-44c4-ae71-b3830a2b108f",
   "metadata": {
    "papermill": {
     "duration": 0.025789,
     "end_time": "2022-08-30T16:44:05.407988",
     "exception": false,
     "start_time": "2022-08-30T16:44:05.382199",
     "status": "completed"
    },
    "tags": []
   },
   "source": [
    "Here I quickly save these results to a file, given that the next steps (covariates) are slow to compute."
   ]
  },
  {
   "cell_type": "code",
   "execution_count": 89,
   "id": "9cfb687d-5ab2-4e85-9944-f5c685de8046",
   "metadata": {
    "execution": {
     "iopub.execute_input": "2022-08-30T16:44:05.459940Z",
     "iopub.status.busy": "2022-08-30T16:44:05.459716Z",
     "iopub.status.idle": "2022-08-30T16:44:05.474425Z",
     "shell.execute_reply": "2022-08-30T16:44:05.473920Z"
    },
    "papermill": {
     "duration": 0.042511,
     "end_time": "2022-08-30T16:44:05.476031",
     "exception": false,
     "start_time": "2022-08-30T16:44:05.433520",
     "status": "completed"
    },
    "tags": []
   },
   "outputs": [],
   "source": [
    "# this is important, other scripts depend on gene_name to be unique\n",
    "assert spredixcan_genes_models[\"gene_name\"].is_unique"
   ]
  },
  {
   "cell_type": "code",
   "execution_count": 90,
   "id": "b2d9bd26-afaa-4aff-a707-3109e13af9bb",
   "metadata": {
    "execution": {
     "iopub.execute_input": "2022-08-30T16:44:05.528620Z",
     "iopub.status.busy": "2022-08-30T16:44:05.528428Z",
     "iopub.status.idle": "2022-08-30T16:44:05.542918Z",
     "shell.execute_reply": "2022-08-30T16:44:05.542413Z"
    },
    "papermill": {
     "duration": 0.042784,
     "end_time": "2022-08-30T16:44:05.544506",
     "exception": false,
     "start_time": "2022-08-30T16:44:05.501722",
     "status": "completed"
    },
    "tags": []
   },
   "outputs": [],
   "source": [
    "assert not spredixcan_genes_models.isna().any(None)"
   ]
  },
  {
   "cell_type": "code",
   "execution_count": 91,
   "id": "074b103c-2960-4299-a3ac-fa37ab6f2784",
   "metadata": {
    "execution": {
     "iopub.execute_input": "2022-08-30T16:44:05.597430Z",
     "iopub.status.busy": "2022-08-30T16:44:05.597238Z",
     "iopub.status.idle": "2022-08-30T16:44:05.629136Z",
     "shell.execute_reply": "2022-08-30T16:44:05.628573Z"
    },
    "papermill": {
     "duration": 0.060136,
     "end_time": "2022-08-30T16:44:05.630880",
     "exception": false,
     "start_time": "2022-08-30T16:44:05.570744",
     "status": "completed"
    },
    "tags": []
   },
   "outputs": [],
   "source": [
    "spredixcan_genes_models.to_pickle(OUTPUT_DIR_BASE / \"gene_tissues.pkl\")"
   ]
  },
  {
   "cell_type": "markdown",
   "id": "ae18f693-4da8-48ae-85b6-8194abcca684",
   "metadata": {
    "papermill": {
     "duration": 0.025337,
     "end_time": "2022-08-30T16:44:05.683119",
     "exception": false,
     "start_time": "2022-08-30T16:44:05.657782",
     "status": "completed"
    },
    "tags": []
   },
   "source": [
    "## Add covariates based on S-PrediXcan results"
   ]
  },
  {
   "cell_type": "markdown",
   "id": "bed7a46c-4906-40b9-9dd8-0bfb584e6d2a",
   "metadata": {
    "papermill": {
     "duration": 0.025405,
     "end_time": "2022-08-30T16:44:05.734301",
     "exception": false,
     "start_time": "2022-08-30T16:44:05.708896",
     "status": "completed"
    },
    "tags": []
   },
   "source": [
    "This extend the previous file with more columns"
   ]
  },
  {
   "cell_type": "markdown",
   "id": "850c554f-2ace-40a3-a33a-477246bb07c7",
   "metadata": {
    "papermill": {
     "duration": 0.053681,
     "end_time": "2022-08-30T16:44:05.813570",
     "exception": false,
     "start_time": "2022-08-30T16:44:05.759889",
     "status": "completed"
    },
    "tags": []
   },
   "source": [
    "### Get gene's objects"
   ]
  },
  {
   "cell_type": "code",
   "execution_count": 92,
   "id": "dfd93711-5c91-4cb6-8561-f366e270b6b1",
   "metadata": {
    "execution": {
     "iopub.execute_input": "2022-08-30T16:44:05.866708Z",
     "iopub.status.busy": "2022-08-30T16:44:05.866466Z",
     "iopub.status.idle": "2022-08-30T16:44:05.890018Z",
     "shell.execute_reply": "2022-08-30T16:44:05.889514Z"
    },
    "papermill": {
     "duration": 0.051943,
     "end_time": "2022-08-30T16:44:05.891581",
     "exception": false,
     "start_time": "2022-08-30T16:44:05.839638",
     "status": "completed"
    },
    "tags": []
   },
   "outputs": [],
   "source": [
    "spredixcan_gene_obj = {\n",
    "    gene_id: Gene(ensembl_id=gene_id) for gene_id in spredixcan_genes_models.index\n",
    "}"
   ]
  },
  {
   "cell_type": "code",
   "execution_count": 93,
   "id": "59efbedc-0b5d-4d0b-bd82-95e74c0ba793",
   "metadata": {
    "execution": {
     "iopub.execute_input": "2022-08-30T16:44:05.942944Z",
     "iopub.status.busy": "2022-08-30T16:44:05.942742Z",
     "iopub.status.idle": "2022-08-30T16:44:05.957956Z",
     "shell.execute_reply": "2022-08-30T16:44:05.957466Z"
    },
    "papermill": {
     "duration": 0.042433,
     "end_time": "2022-08-30T16:44:05.959383",
     "exception": false,
     "start_time": "2022-08-30T16:44:05.916950",
     "status": "completed"
    },
    "tags": []
   },
   "outputs": [
    {
     "data": {
      "text/plain": [
       "6425"
      ]
     },
     "execution_count": 93,
     "metadata": {},
     "output_type": "execute_result"
    }
   ],
   "source": [
    "len(spredixcan_gene_obj)"
   ]
  },
  {
   "cell_type": "markdown",
   "id": "27ac1828-755a-424a-b416-6aef1f0c2e45",
   "metadata": {
    "papermill": {
     "duration": 0.025126,
     "end_time": "2022-08-30T16:44:06.009502",
     "exception": false,
     "start_time": "2022-08-30T16:44:05.984376",
     "status": "completed"
    },
    "tags": []
   },
   "source": [
    "### Add genes' variance captured by principal components"
   ]
  },
  {
   "cell_type": "code",
   "execution_count": 94,
   "id": "893b3418-054c-44d2-9ce0-7fa590aef00e",
   "metadata": {
    "execution": {
     "iopub.execute_input": "2022-08-30T16:44:06.062158Z",
     "iopub.status.busy": "2022-08-30T16:44:06.061921Z",
     "iopub.status.idle": "2022-08-30T16:44:06.076331Z",
     "shell.execute_reply": "2022-08-30T16:44:06.075822Z"
    },
    "papermill": {
     "duration": 0.042653,
     "end_time": "2022-08-30T16:44:06.077953",
     "exception": false,
     "start_time": "2022-08-30T16:44:06.035300",
     "status": "completed"
    },
    "tags": []
   },
   "outputs": [],
   "source": [
    "def _get_gene_pc_variance(gene_row):\n",
    "    gene_id = gene_row.name\n",
    "    gene_tissues = gene_row[\"tissue\"]\n",
    "    gene_obj = spredixcan_gene_obj[gene_id]\n",
    "\n",
    "    u, s, vt = gene_obj.get_tissues_correlations_svd(\n",
    "        tissues=gene_tissues,\n",
    "        snps_subset=gwas_variants_ids_set,\n",
    "        reference_panel=REFERENCE_PANEL,\n",
    "        model_type=EQTL_MODEL,\n",
    "        # use_covariance_matrix=True,\n",
    "    )\n",
    "\n",
    "    return s"
   ]
  },
  {
   "cell_type": "code",
   "execution_count": 95,
   "id": "083afa33-cea0-40d3-af20-94a1307a6607",
   "metadata": {
    "execution": {
     "iopub.execute_input": "2022-08-30T16:44:06.131188Z",
     "iopub.status.busy": "2022-08-30T16:44:06.130976Z",
     "iopub.status.idle": "2022-08-30T16:44:14.818613Z",
     "shell.execute_reply": "2022-08-30T16:44:14.818064Z"
    },
    "papermill": {
     "duration": 8.716406,
     "end_time": "2022-08-30T16:44:14.820367",
     "exception": false,
     "start_time": "2022-08-30T16:44:06.103961",
     "status": "completed"
    },
    "tags": []
   },
   "outputs": [
    {
     "data": {
      "text/plain": [
       "array([35.14301823,  3.87568728,  2.3091285 ,  1.90683623,  1.27573165])"
      ]
     },
     "execution_count": 95,
     "metadata": {},
     "output_type": "execute_result"
    }
   ],
   "source": [
    "_tmp = spredixcan_genes_models.loc[\"ENSG00000188976\"]\n",
    "_get_gene_pc_variance(_tmp)"
   ]
  },
  {
   "cell_type": "code",
   "execution_count": 96,
   "id": "80f7720d-79c9-4183-bb7e-b1480f31ed87",
   "metadata": {
    "execution": {
     "iopub.execute_input": "2022-08-30T16:44:14.876724Z",
     "iopub.status.busy": "2022-08-30T16:44:14.876509Z",
     "iopub.status.idle": "2022-08-30T18:11:09.260339Z",
     "shell.execute_reply": "2022-08-30T18:11:09.259599Z"
    },
    "papermill": {
     "duration": 5214.413894,
     "end_time": "2022-08-30T18:11:09.262360",
     "exception": false,
     "start_time": "2022-08-30T16:44:14.848466",
     "status": "completed"
    },
    "tags": []
   },
   "outputs": [],
   "source": [
    "spredixcan_genes_tissues_pc_variance = spredixcan_genes_models.apply(\n",
    "    _get_gene_pc_variance, axis=1\n",
    ")"
   ]
  },
  {
   "cell_type": "code",
   "execution_count": 97,
   "id": "621302a1-1407-4400-9282-e37798bb18b3",
   "metadata": {
    "execution": {
     "iopub.execute_input": "2022-08-30T18:11:09.318664Z",
     "iopub.status.busy": "2022-08-30T18:11:09.318459Z",
     "iopub.status.idle": "2022-08-30T18:11:09.543066Z",
     "shell.execute_reply": "2022-08-30T18:11:09.542584Z"
    },
    "papermill": {
     "duration": 0.253625,
     "end_time": "2022-08-30T18:11:09.544537",
     "exception": false,
     "start_time": "2022-08-30T18:11:09.290912",
     "status": "completed"
    },
    "tags": []
   },
   "outputs": [
    {
     "data": {
      "text/plain": [
       "gene_id\n",
       "ENSG00000000419             [1.0442398458252409, 0.9557601541747592]\n",
       "ENSG00000000938    [19.95824749956773, 3.075997027819333, 2.08578...\n",
       "ENSG00000000971    [21.56076992568329, 7.31017098704547, 1.837780...\n",
       "ENSG00000001084    [21.291939080546527, 4.699418748743192, 2.2489...\n",
       "ENSG00000001167              [37.33566029549769, 1.3914019604538372]\n",
       "                                         ...                        \n",
       "ENSG00000278540    [30.239540272954734, 3.044832646579891, 1.6793...\n",
       "ENSG00000278828              [3.062182335109643, 0.9378176648903567]\n",
       "ENSG00000278845              [45.687454510139084, 2.226801954648235]\n",
       "ENSG00000281005                                 [48.301707397855715]\n",
       "ENSG00000282608    [22.6535140812371, 6.245520030604538, 2.555945...\n",
       "Length: 6425, dtype: object"
      ]
     },
     "execution_count": 97,
     "metadata": {},
     "output_type": "execute_result"
    }
   ],
   "source": [
    "spredixcan_genes_tissues_pc_variance"
   ]
  },
  {
   "cell_type": "code",
   "execution_count": 98,
   "id": "9ac9e0fb-e0cc-4fea-ad01-2e76d40afb3c",
   "metadata": {
    "execution": {
     "iopub.execute_input": "2022-08-30T18:11:09.596588Z",
     "iopub.status.busy": "2022-08-30T18:11:09.596397Z",
     "iopub.status.idle": "2022-08-30T18:11:09.609862Z",
     "shell.execute_reply": "2022-08-30T18:11:09.609364Z"
    },
    "papermill": {
     "duration": 0.041605,
     "end_time": "2022-08-30T18:11:09.611405",
     "exception": false,
     "start_time": "2022-08-30T18:11:09.569800",
     "status": "completed"
    },
    "tags": []
   },
   "outputs": [],
   "source": [
    "# # testing\n",
    "# assert spredixcan_genes_tissues_pc_variance.loc[\n",
    "#     \"ENSG00000188976\"\n",
    "# ].sum() == pytest.approx(44.01605629086847)\n",
    "# # this is using the covariance:\n",
    "# # assert spredixcan_genes_tissues_pc_variance.loc[\"ENSG00000188976\"].sum() == pytest.approx(1.1492946006449425)"
   ]
  },
  {
   "cell_type": "code",
   "execution_count": 99,
   "id": "700ed8c8-16e3-4f44-80ff-a4355349ac26",
   "metadata": {
    "execution": {
     "iopub.execute_input": "2022-08-30T18:11:09.663912Z",
     "iopub.status.busy": "2022-08-30T18:11:09.663714Z",
     "iopub.status.idle": "2022-08-30T18:11:09.679179Z",
     "shell.execute_reply": "2022-08-30T18:11:09.678695Z"
    },
    "papermill": {
     "duration": 0.043453,
     "end_time": "2022-08-30T18:11:09.680699",
     "exception": false,
     "start_time": "2022-08-30T18:11:09.637246",
     "status": "completed"
    },
    "tags": []
   },
   "outputs": [],
   "source": [
    "# add to spredixcan_genes_models\n",
    "spredixcan_genes_models = spredixcan_genes_models.join(\n",
    "    spredixcan_genes_tissues_pc_variance.rename(\"tissues_pc_variances\")\n",
    ")"
   ]
  },
  {
   "cell_type": "code",
   "execution_count": 100,
   "id": "597f7dff-2425-490d-84d6-537f8bd0f147",
   "metadata": {
    "execution": {
     "iopub.execute_input": "2022-08-30T18:11:09.753123Z",
     "iopub.status.busy": "2022-08-30T18:11:09.752882Z",
     "iopub.status.idle": "2022-08-30T18:11:09.769977Z",
     "shell.execute_reply": "2022-08-30T18:11:09.769466Z"
    },
    "papermill": {
     "duration": 0.065278,
     "end_time": "2022-08-30T18:11:09.771427",
     "exception": false,
     "start_time": "2022-08-30T18:11:09.706149",
     "status": "completed"
    },
    "tags": []
   },
   "outputs": [
    {
     "data": {
      "text/plain": [
       "(6425, 4)"
      ]
     },
     "execution_count": 100,
     "metadata": {},
     "output_type": "execute_result"
    }
   ],
   "source": [
    "spredixcan_genes_models.shape"
   ]
  },
  {
   "cell_type": "code",
   "execution_count": 101,
   "id": "41bdb249-f7e3-4b07-a534-2c3e46db72dc",
   "metadata": {
    "execution": {
     "iopub.execute_input": "2022-08-30T18:11:09.824325Z",
     "iopub.status.busy": "2022-08-30T18:11:09.824134Z",
     "iopub.status.idle": "2022-08-30T18:11:09.846613Z",
     "shell.execute_reply": "2022-08-30T18:11:09.846139Z"
    },
    "papermill": {
     "duration": 0.051095,
     "end_time": "2022-08-30T18:11:09.848118",
     "exception": false,
     "start_time": "2022-08-30T18:11:09.797023",
     "status": "completed"
    },
    "tags": []
   },
   "outputs": [
    {
     "data": {
      "text/html": [
       "<div>\n",
       "<style scoped>\n",
       "    .dataframe tbody tr th:only-of-type {\n",
       "        vertical-align: middle;\n",
       "    }\n",
       "\n",
       "    .dataframe tbody tr th {\n",
       "        vertical-align: top;\n",
       "    }\n",
       "\n",
       "    .dataframe thead th {\n",
       "        text-align: right;\n",
       "    }\n",
       "</style>\n",
       "<table border=\"1\" class=\"dataframe\">\n",
       "  <thead>\n",
       "    <tr style=\"text-align: right;\">\n",
       "      <th></th>\n",
       "      <th>gene_name</th>\n",
       "      <th>tissue</th>\n",
       "      <th>n_tissues</th>\n",
       "      <th>tissues_pc_variances</th>\n",
       "    </tr>\n",
       "    <tr>\n",
       "      <th>gene_id</th>\n",
       "      <th></th>\n",
       "      <th></th>\n",
       "      <th></th>\n",
       "      <th></th>\n",
       "    </tr>\n",
       "  </thead>\n",
       "  <tbody>\n",
       "    <tr>\n",
       "      <th>ENSG00000000419</th>\n",
       "      <td>DPM1</td>\n",
       "      <td>(Brain_Hypothalamus, Brain_Substantia_nigra)</td>\n",
       "      <td>2</td>\n",
       "      <td>[1.0442398458252409, 0.9557601541747592]</td>\n",
       "    </tr>\n",
       "    <tr>\n",
       "      <th>ENSG00000000938</th>\n",
       "      <td>FGR</td>\n",
       "      <td>(Cells_EBV-transformed_lymphocytes, Brain_Ante...</td>\n",
       "      <td>26</td>\n",
       "      <td>[19.95824749956773, 3.075997027819333, 2.08578...</td>\n",
       "    </tr>\n",
       "    <tr>\n",
       "      <th>ENSG00000000971</th>\n",
       "      <td>CFH</td>\n",
       "      <td>(Artery_Coronary, Brain_Anterior_cingulate_cor...</td>\n",
       "      <td>34</td>\n",
       "      <td>[21.56076992568329, 7.31017098704547, 1.837780...</td>\n",
       "    </tr>\n",
       "    <tr>\n",
       "      <th>ENSG00000001084</th>\n",
       "      <td>GCLC</td>\n",
       "      <td>(Artery_Coronary, Cells_EBV-transformed_lympho...</td>\n",
       "      <td>32</td>\n",
       "      <td>[21.291939080546527, 4.699418748743192, 2.2489...</td>\n",
       "    </tr>\n",
       "    <tr>\n",
       "      <th>ENSG00000001167</th>\n",
       "      <td>NFYA</td>\n",
       "      <td>(Artery_Coronary, Brain_Anterior_cingulate_cor...</td>\n",
       "      <td>40</td>\n",
       "      <td>[37.33566029549769, 1.3914019604538372]</td>\n",
       "    </tr>\n",
       "  </tbody>\n",
       "</table>\n",
       "</div>"
      ],
      "text/plain": [
       "                gene_name                                             tissue  \\\n",
       "gene_id                                                                        \n",
       "ENSG00000000419      DPM1       (Brain_Hypothalamus, Brain_Substantia_nigra)   \n",
       "ENSG00000000938       FGR  (Cells_EBV-transformed_lymphocytes, Brain_Ante...   \n",
       "ENSG00000000971       CFH  (Artery_Coronary, Brain_Anterior_cingulate_cor...   \n",
       "ENSG00000001084      GCLC  (Artery_Coronary, Cells_EBV-transformed_lympho...   \n",
       "ENSG00000001167      NFYA  (Artery_Coronary, Brain_Anterior_cingulate_cor...   \n",
       "\n",
       "                 n_tissues                               tissues_pc_variances  \n",
       "gene_id                                                                        \n",
       "ENSG00000000419          2           [1.0442398458252409, 0.9557601541747592]  \n",
       "ENSG00000000938         26  [19.95824749956773, 3.075997027819333, 2.08578...  \n",
       "ENSG00000000971         34  [21.56076992568329, 7.31017098704547, 1.837780...  \n",
       "ENSG00000001084         32  [21.291939080546527, 4.699418748743192, 2.2489...  \n",
       "ENSG00000001167         40            [37.33566029549769, 1.3914019604538372]  "
      ]
     },
     "execution_count": 101,
     "metadata": {},
     "output_type": "execute_result"
    }
   ],
   "source": [
    "spredixcan_genes_models.head()"
   ]
  },
  {
   "cell_type": "markdown",
   "id": "ef1c76d7-485b-4e8a-932e-fd01382d5520",
   "metadata": {
    "papermill": {
     "duration": 0.026362,
     "end_time": "2022-08-30T18:11:09.900603",
     "exception": false,
     "start_time": "2022-08-30T18:11:09.874241",
     "status": "completed"
    },
    "tags": []
   },
   "source": [
    "### Add gene variance per tissue"
   ]
  },
  {
   "cell_type": "code",
   "execution_count": 102,
   "id": "530f7941-6ad7-4a29-b9e4-a006949282e0",
   "metadata": {
    "execution": {
     "iopub.execute_input": "2022-08-30T18:11:09.954548Z",
     "iopub.status.busy": "2022-08-30T18:11:09.954357Z",
     "iopub.status.idle": "2022-08-30T18:11:09.969473Z",
     "shell.execute_reply": "2022-08-30T18:11:09.968982Z"
    },
    "papermill": {
     "duration": 0.044255,
     "end_time": "2022-08-30T18:11:09.971089",
     "exception": false,
     "start_time": "2022-08-30T18:11:09.926834",
     "status": "completed"
    },
    "tags": []
   },
   "outputs": [],
   "source": [
    "def _get_gene_variances(gene_row):\n",
    "    gene_id = gene_row.name\n",
    "    gene_tissues = gene_row[\"tissue\"]\n",
    "\n",
    "    tissue_variances = {}\n",
    "    gene_obj = spredixcan_gene_obj[gene_id]\n",
    "\n",
    "    for tissue in gene_tissues:\n",
    "        tissue_var = gene_obj.get_pred_expression_variance(\n",
    "            tissue=tissue,\n",
    "            reference_panel=REFERENCE_PANEL,\n",
    "            model_type=EQTL_MODEL,\n",
    "            snps_subset=gwas_variants_ids_set,\n",
    "        )\n",
    "\n",
    "        if tissue_var is not None:\n",
    "            tissue_variances[tissue] = tissue_var\n",
    "\n",
    "    return tissue_variances"
   ]
  },
  {
   "cell_type": "code",
   "execution_count": 103,
   "id": "01eb9e6a-4505-44e6-9e6e-9788e257f319",
   "metadata": {
    "execution": {
     "iopub.execute_input": "2022-08-30T18:11:10.026245Z",
     "iopub.status.busy": "2022-08-30T18:11:10.026030Z",
     "iopub.status.idle": "2022-08-30T18:11:10.336997Z",
     "shell.execute_reply": "2022-08-30T18:11:10.336468Z"
    },
    "papermill": {
     "duration": 0.341018,
     "end_time": "2022-08-30T18:11:10.338517",
     "exception": false,
     "start_time": "2022-08-30T18:11:09.997499",
     "status": "completed"
    },
    "tags": []
   },
   "outputs": [
    {
     "data": {
      "text/plain": [
       "{'Brain_Hypothalamus': 0.013162153504206677,\n",
       " 'Brain_Substantia_nigra': 0.0004867380334260178}"
      ]
     },
     "execution_count": 103,
     "metadata": {},
     "output_type": "execute_result"
    }
   ],
   "source": [
    "_tmp = spredixcan_genes_models.loc[\"ENSG00000000419\"]\n",
    "_get_gene_variances(_tmp)"
   ]
  },
  {
   "cell_type": "code",
   "execution_count": 104,
   "id": "447061ec-4847-4911-a1d6-8b86d15e4aac",
   "metadata": {
    "execution": {
     "iopub.execute_input": "2022-08-30T18:11:10.392900Z",
     "iopub.status.busy": "2022-08-30T18:11:10.392695Z",
     "iopub.status.idle": "2022-08-30T19:11:09.048936Z",
     "shell.execute_reply": "2022-08-30T19:11:09.048132Z"
    },
    "papermill": {
     "duration": 3598.685644,
     "end_time": "2022-08-30T19:11:09.051719",
     "exception": false,
     "start_time": "2022-08-30T18:11:10.366075",
     "status": "completed"
    },
    "tags": []
   },
   "outputs": [],
   "source": [
    "spredixcan_genes_tissues_variance = spredixcan_genes_models.apply(\n",
    "    _get_gene_variances, axis=1\n",
    ")"
   ]
  },
  {
   "cell_type": "code",
   "execution_count": 105,
   "id": "816cbdd2-d667-4eaa-bbf7-335550854ee8",
   "metadata": {
    "execution": {
     "iopub.execute_input": "2022-08-30T19:11:09.109033Z",
     "iopub.status.busy": "2022-08-30T19:11:09.108820Z",
     "iopub.status.idle": "2022-08-30T19:11:15.977017Z",
     "shell.execute_reply": "2022-08-30T19:11:15.976411Z"
    },
    "papermill": {
     "duration": 6.896747,
     "end_time": "2022-08-30T19:11:15.978498",
     "exception": false,
     "start_time": "2022-08-30T19:11:09.081751",
     "status": "completed"
    },
    "tags": []
   },
   "outputs": [
    {
     "data": {
      "text/plain": [
       "gene_id\n",
       "ENSG00000000419    {'Brain_Hypothalamus': 0.013162153504206677, '...\n",
       "ENSG00000000938    {'Cells_EBV-transformed_lymphocytes': 0.003438...\n",
       "ENSG00000000971    {'Artery_Coronary': 0.01500190292420916, 'Brai...\n",
       "ENSG00000001084    {'Artery_Coronary': 1.0731972238129593e-06, 'C...\n",
       "ENSG00000001167    {'Artery_Coronary': 0.028499385645099656, 'Bra...\n",
       "                                         ...                        \n",
       "ENSG00000278540    {'Cells_EBV-transformed_lymphocytes': 0.002975...\n",
       "ENSG00000278828    {'Adipose_Visceral_Omentum': 0.000128291681544...\n",
       "ENSG00000278845    {'Artery_Coronary': 0.01586217381279905, 'Cell...\n",
       "ENSG00000281005    {'Artery_Coronary': 0.03502243595131216, 'Cell...\n",
       "ENSG00000282608    {'Artery_Coronary': 0.00400244285687972, 'Brai...\n",
       "Length: 6425, dtype: object"
      ]
     },
     "execution_count": 105,
     "metadata": {},
     "output_type": "execute_result"
    }
   ],
   "source": [
    "spredixcan_genes_tissues_variance"
   ]
  },
  {
   "cell_type": "code",
   "execution_count": 106,
   "id": "68c65eb6-15c0-494d-992f-93bc84268a59",
   "metadata": {
    "execution": {
     "iopub.execute_input": "2022-08-30T19:11:16.032577Z",
     "iopub.status.busy": "2022-08-30T19:11:16.032382Z",
     "iopub.status.idle": "2022-08-30T19:11:16.046555Z",
     "shell.execute_reply": "2022-08-30T19:11:16.046059Z"
    },
    "papermill": {
     "duration": 0.043097,
     "end_time": "2022-08-30T19:11:16.048114",
     "exception": false,
     "start_time": "2022-08-30T19:11:16.005017",
     "status": "completed"
    },
    "tags": []
   },
   "outputs": [],
   "source": [
    "# # testing\n",
    "# _gene_id = \"ENSG00000188976\"\n",
    "# x = spredixcan_genes_tissues_variance.loc[_gene_id]\n",
    "# # expected value obtained by sum of PCA eigenvalues on this gene's predicted expression\n",
    "# assert np.sum(list(x.values())) == pytest.approx(1.2326202607409493)"
   ]
  },
  {
   "cell_type": "code",
   "execution_count": 107,
   "id": "1996453a-fdfc-44e9-bbdf-b83e3b3b1aee",
   "metadata": {
    "execution": {
     "iopub.execute_input": "2022-08-30T19:11:16.100787Z",
     "iopub.status.busy": "2022-08-30T19:11:16.100591Z",
     "iopub.status.idle": "2022-08-30T19:11:16.115617Z",
     "shell.execute_reply": "2022-08-30T19:11:16.115140Z"
    },
    "papermill": {
     "duration": 0.042935,
     "end_time": "2022-08-30T19:11:16.117039",
     "exception": false,
     "start_time": "2022-08-30T19:11:16.074104",
     "status": "completed"
    },
    "tags": []
   },
   "outputs": [
    {
     "data": {
      "text/plain": [
       "{'Brain_Hypothalamus': 0.013162153504206677,\n",
       " 'Brain_Substantia_nigra': 0.0004867380334260178}"
      ]
     },
     "execution_count": 107,
     "metadata": {},
     "output_type": "execute_result"
    }
   ],
   "source": [
    "# testing\n",
    "spredixcan_genes_tissues_variance.loc[\"ENSG00000000419\"]"
   ]
  },
  {
   "cell_type": "code",
   "execution_count": 108,
   "id": "62572b31-7e49-4ed0-ac1b-42552f3e264f",
   "metadata": {
    "execution": {
     "iopub.execute_input": "2022-08-30T19:11:16.170678Z",
     "iopub.status.busy": "2022-08-30T19:11:16.170486Z",
     "iopub.status.idle": "2022-08-30T19:11:16.184403Z",
     "shell.execute_reply": "2022-08-30T19:11:16.183903Z"
    },
    "papermill": {
     "duration": 0.04311,
     "end_time": "2022-08-30T19:11:16.186009",
     "exception": false,
     "start_time": "2022-08-30T19:11:16.142899",
     "status": "completed"
    },
    "tags": []
   },
   "outputs": [],
   "source": [
    "# FIXME: maybe add more tests, these differt from GTEX V8\n",
    "# # testing\n",
    "# # here values were obtained from S-PrediXcan results, where the reference panel is GTEX V8, not 1000G, so just approximations)\n",
    "# _gene_id = \"ENSG00000000419\"\n",
    "# assert spredixcan_genes_tissues_variance.loc[_gene_id][\"Brain_Substantia_nigra\"] == pytest.approx(0.0004266255268163448)\n",
    "# assert spredixcan_genes_tissues_variance.loc[_gene_id][\"Brain_Hypothalamus\"] == pytest.approx(0.011235877515236132)"
   ]
  },
  {
   "cell_type": "code",
   "execution_count": 109,
   "id": "88e42a97-801b-43a4-a829-4eaac03360b8",
   "metadata": {
    "execution": {
     "iopub.execute_input": "2022-08-30T19:11:16.241227Z",
     "iopub.status.busy": "2022-08-30T19:11:16.241013Z",
     "iopub.status.idle": "2022-08-30T19:11:16.257598Z",
     "shell.execute_reply": "2022-08-30T19:11:16.257096Z"
    },
    "papermill": {
     "duration": 0.046858,
     "end_time": "2022-08-30T19:11:16.259275",
     "exception": false,
     "start_time": "2022-08-30T19:11:16.212417",
     "status": "completed"
    },
    "tags": []
   },
   "outputs": [],
   "source": [
    "# add to spredixcan_genes_models\n",
    "spredixcan_genes_models = spredixcan_genes_models.join(\n",
    "    spredixcan_genes_tissues_variance.rename(\"tissues_variances\")\n",
    ")"
   ]
  },
  {
   "cell_type": "code",
   "execution_count": 110,
   "id": "cb177ca4-fdcb-432f-a102-9c6bd6bd7fa0",
   "metadata": {
    "execution": {
     "iopub.execute_input": "2022-08-30T19:11:16.316056Z",
     "iopub.status.busy": "2022-08-30T19:11:16.315854Z",
     "iopub.status.idle": "2022-08-30T19:11:16.331486Z",
     "shell.execute_reply": "2022-08-30T19:11:16.330989Z"
    },
    "papermill": {
     "duration": 0.045659,
     "end_time": "2022-08-30T19:11:16.332966",
     "exception": false,
     "start_time": "2022-08-30T19:11:16.287307",
     "status": "completed"
    },
    "tags": []
   },
   "outputs": [
    {
     "data": {
      "text/plain": [
       "(6425, 5)"
      ]
     },
     "execution_count": 110,
     "metadata": {},
     "output_type": "execute_result"
    }
   ],
   "source": [
    "spredixcan_genes_models.shape"
   ]
  },
  {
   "cell_type": "code",
   "execution_count": 111,
   "id": "ccabe1fa-20ae-4893-bf12-9a3359b213b8",
   "metadata": {
    "execution": {
     "iopub.execute_input": "2022-08-30T19:11:16.388544Z",
     "iopub.status.busy": "2022-08-30T19:11:16.388346Z",
     "iopub.status.idle": "2022-08-30T19:11:16.415566Z",
     "shell.execute_reply": "2022-08-30T19:11:16.415052Z"
    },
    "papermill": {
     "duration": 0.057493,
     "end_time": "2022-08-30T19:11:16.417125",
     "exception": false,
     "start_time": "2022-08-30T19:11:16.359632",
     "status": "completed"
    },
    "tags": []
   },
   "outputs": [
    {
     "data": {
      "text/html": [
       "<div>\n",
       "<style scoped>\n",
       "    .dataframe tbody tr th:only-of-type {\n",
       "        vertical-align: middle;\n",
       "    }\n",
       "\n",
       "    .dataframe tbody tr th {\n",
       "        vertical-align: top;\n",
       "    }\n",
       "\n",
       "    .dataframe thead th {\n",
       "        text-align: right;\n",
       "    }\n",
       "</style>\n",
       "<table border=\"1\" class=\"dataframe\">\n",
       "  <thead>\n",
       "    <tr style=\"text-align: right;\">\n",
       "      <th></th>\n",
       "      <th>gene_name</th>\n",
       "      <th>tissue</th>\n",
       "      <th>n_tissues</th>\n",
       "      <th>tissues_pc_variances</th>\n",
       "      <th>tissues_variances</th>\n",
       "    </tr>\n",
       "    <tr>\n",
       "      <th>gene_id</th>\n",
       "      <th></th>\n",
       "      <th></th>\n",
       "      <th></th>\n",
       "      <th></th>\n",
       "      <th></th>\n",
       "    </tr>\n",
       "  </thead>\n",
       "  <tbody>\n",
       "    <tr>\n",
       "      <th>ENSG00000000419</th>\n",
       "      <td>DPM1</td>\n",
       "      <td>(Brain_Hypothalamus, Brain_Substantia_nigra)</td>\n",
       "      <td>2</td>\n",
       "      <td>[1.0442398458252409, 0.9557601541747592]</td>\n",
       "      <td>{'Brain_Hypothalamus': 0.013162153504206677, '...</td>\n",
       "    </tr>\n",
       "    <tr>\n",
       "      <th>ENSG00000000938</th>\n",
       "      <td>FGR</td>\n",
       "      <td>(Cells_EBV-transformed_lymphocytes, Brain_Ante...</td>\n",
       "      <td>26</td>\n",
       "      <td>[19.95824749956773, 3.075997027819333, 2.08578...</td>\n",
       "      <td>{'Cells_EBV-transformed_lymphocytes': 0.003438...</td>\n",
       "    </tr>\n",
       "    <tr>\n",
       "      <th>ENSG00000000971</th>\n",
       "      <td>CFH</td>\n",
       "      <td>(Artery_Coronary, Brain_Anterior_cingulate_cor...</td>\n",
       "      <td>34</td>\n",
       "      <td>[21.56076992568329, 7.31017098704547, 1.837780...</td>\n",
       "      <td>{'Artery_Coronary': 0.01500190292420916, 'Brai...</td>\n",
       "    </tr>\n",
       "    <tr>\n",
       "      <th>ENSG00000001084</th>\n",
       "      <td>GCLC</td>\n",
       "      <td>(Artery_Coronary, Cells_EBV-transformed_lympho...</td>\n",
       "      <td>32</td>\n",
       "      <td>[21.291939080546527, 4.699418748743192, 2.2489...</td>\n",
       "      <td>{'Artery_Coronary': 1.0731972238129593e-06, 'C...</td>\n",
       "    </tr>\n",
       "    <tr>\n",
       "      <th>ENSG00000001167</th>\n",
       "      <td>NFYA</td>\n",
       "      <td>(Artery_Coronary, Brain_Anterior_cingulate_cor...</td>\n",
       "      <td>40</td>\n",
       "      <td>[37.33566029549769, 1.3914019604538372]</td>\n",
       "      <td>{'Artery_Coronary': 0.028499385645099656, 'Bra...</td>\n",
       "    </tr>\n",
       "  </tbody>\n",
       "</table>\n",
       "</div>"
      ],
      "text/plain": [
       "                gene_name                                             tissue  \\\n",
       "gene_id                                                                        \n",
       "ENSG00000000419      DPM1       (Brain_Hypothalamus, Brain_Substantia_nigra)   \n",
       "ENSG00000000938       FGR  (Cells_EBV-transformed_lymphocytes, Brain_Ante...   \n",
       "ENSG00000000971       CFH  (Artery_Coronary, Brain_Anterior_cingulate_cor...   \n",
       "ENSG00000001084      GCLC  (Artery_Coronary, Cells_EBV-transformed_lympho...   \n",
       "ENSG00000001167      NFYA  (Artery_Coronary, Brain_Anterior_cingulate_cor...   \n",
       "\n",
       "                 n_tissues                               tissues_pc_variances  \\\n",
       "gene_id                                                                         \n",
       "ENSG00000000419          2           [1.0442398458252409, 0.9557601541747592]   \n",
       "ENSG00000000938         26  [19.95824749956773, 3.075997027819333, 2.08578...   \n",
       "ENSG00000000971         34  [21.56076992568329, 7.31017098704547, 1.837780...   \n",
       "ENSG00000001084         32  [21.291939080546527, 4.699418748743192, 2.2489...   \n",
       "ENSG00000001167         40            [37.33566029549769, 1.3914019604538372]   \n",
       "\n",
       "                                                 tissues_variances  \n",
       "gene_id                                                             \n",
       "ENSG00000000419  {'Brain_Hypothalamus': 0.013162153504206677, '...  \n",
       "ENSG00000000938  {'Cells_EBV-transformed_lymphocytes': 0.003438...  \n",
       "ENSG00000000971  {'Artery_Coronary': 0.01500190292420916, 'Brai...  \n",
       "ENSG00000001084  {'Artery_Coronary': 1.0731972238129593e-06, 'C...  \n",
       "ENSG00000001167  {'Artery_Coronary': 0.028499385645099656, 'Bra...  "
      ]
     },
     "execution_count": 111,
     "metadata": {},
     "output_type": "execute_result"
    }
   ],
   "source": [
    "spredixcan_genes_models.head()"
   ]
  },
  {
   "cell_type": "markdown",
   "id": "ab6ff41a-0949-4eea-abef-7dc4f0b373fc",
   "metadata": {
    "papermill": {
     "duration": 0.028548,
     "end_time": "2022-08-30T19:11:16.473597",
     "exception": false,
     "start_time": "2022-08-30T19:11:16.445049",
     "status": "completed"
    },
    "tags": []
   },
   "source": [
    "### Count number of SNPs predictors used across tissue models"
   ]
  },
  {
   "cell_type": "code",
   "execution_count": 112,
   "id": "c8f6cc6f-5812-45c9-b775-6f2193f8a360",
   "metadata": {
    "execution": {
     "iopub.execute_input": "2022-08-30T19:11:16.530552Z",
     "iopub.status.busy": "2022-08-30T19:11:16.530352Z",
     "iopub.status.idle": "2022-08-30T19:11:16.577246Z",
     "shell.execute_reply": "2022-08-30T19:11:16.576630Z"
    },
    "papermill": {
     "duration": 0.077659,
     "end_time": "2022-08-30T19:11:16.579058",
     "exception": false,
     "start_time": "2022-08-30T19:11:16.501399",
     "status": "completed"
    },
    "tags": []
   },
   "outputs": [],
   "source": [
    "spredixcan_genes_sum_of_n_snps_used = (\n",
    "    spredixcan_dfs.groupby(\"gene_id\")[\"n_snps_used\"].sum().rename(\"n_snps_used_sum\")\n",
    ")"
   ]
  },
  {
   "cell_type": "code",
   "execution_count": 113,
   "id": "7255df64-7b9f-4504-a4fa-1f2a9aa56ec0",
   "metadata": {
    "execution": {
     "iopub.execute_input": "2022-08-30T19:11:16.637648Z",
     "iopub.status.busy": "2022-08-30T19:11:16.637441Z",
     "iopub.status.idle": "2022-08-30T19:11:16.657266Z",
     "shell.execute_reply": "2022-08-30T19:11:16.656717Z"
    },
    "papermill": {
     "duration": 0.050482,
     "end_time": "2022-08-30T19:11:16.658801",
     "exception": false,
     "start_time": "2022-08-30T19:11:16.608319",
     "status": "completed"
    },
    "tags": []
   },
   "outputs": [
    {
     "data": {
      "text/plain": [
       "gene_id\n",
       "ENSG00000000419     2\n",
       "ENSG00000000938    28\n",
       "ENSG00000000971    44\n",
       "ENSG00000001084    46\n",
       "ENSG00000001167    47\n",
       "                   ..\n",
       "ENSG00000278540    44\n",
       "ENSG00000278828     5\n",
       "ENSG00000278845    89\n",
       "ENSG00000281005    81\n",
       "ENSG00000282608    40\n",
       "Name: n_snps_used_sum, Length: 6425, dtype: int64"
      ]
     },
     "execution_count": 113,
     "metadata": {},
     "output_type": "execute_result"
    }
   ],
   "source": [
    "spredixcan_genes_sum_of_n_snps_used"
   ]
  },
  {
   "cell_type": "code",
   "execution_count": 114,
   "id": "44bc1222-b334-4ce2-8997-494d0e584cf9",
   "metadata": {
    "execution": {
     "iopub.execute_input": "2022-08-30T19:11:16.714333Z",
     "iopub.status.busy": "2022-08-30T19:11:16.714143Z",
     "iopub.status.idle": "2022-08-30T19:11:16.729741Z",
     "shell.execute_reply": "2022-08-30T19:11:16.729266Z"
    },
    "papermill": {
     "duration": 0.044697,
     "end_time": "2022-08-30T19:11:16.731262",
     "exception": false,
     "start_time": "2022-08-30T19:11:16.686565",
     "status": "completed"
    },
    "tags": []
   },
   "outputs": [],
   "source": [
    "# add sum of snps used to spredixcan_genes_models\n",
    "spredixcan_genes_models = spredixcan_genes_models.join(\n",
    "    spredixcan_genes_sum_of_n_snps_used\n",
    ")"
   ]
  },
  {
   "cell_type": "code",
   "execution_count": 115,
   "id": "5e5e6d7f-b970-4f21-9322-b76bc22afd71",
   "metadata": {
    "execution": {
     "iopub.execute_input": "2022-08-30T19:11:16.785316Z",
     "iopub.status.busy": "2022-08-30T19:11:16.785123Z",
     "iopub.status.idle": "2022-08-30T19:11:16.800586Z",
     "shell.execute_reply": "2022-08-30T19:11:16.800110Z"
    },
    "papermill": {
     "duration": 0.044381,
     "end_time": "2022-08-30T19:11:16.802086",
     "exception": false,
     "start_time": "2022-08-30T19:11:16.757705",
     "status": "completed"
    },
    "tags": []
   },
   "outputs": [
    {
     "data": {
      "text/plain": [
       "(6425, 6)"
      ]
     },
     "execution_count": 115,
     "metadata": {},
     "output_type": "execute_result"
    }
   ],
   "source": [
    "spredixcan_genes_models.shape"
   ]
  },
  {
   "cell_type": "code",
   "execution_count": 116,
   "id": "22c096c2-213a-4001-8454-1633997d404f",
   "metadata": {
    "execution": {
     "iopub.execute_input": "2022-08-30T19:11:16.857850Z",
     "iopub.status.busy": "2022-08-30T19:11:16.857622Z",
     "iopub.status.idle": "2022-08-30T19:11:16.885036Z",
     "shell.execute_reply": "2022-08-30T19:11:16.884505Z"
    },
    "papermill": {
     "duration": 0.057004,
     "end_time": "2022-08-30T19:11:16.886557",
     "exception": false,
     "start_time": "2022-08-30T19:11:16.829553",
     "status": "completed"
    },
    "tags": []
   },
   "outputs": [
    {
     "data": {
      "text/html": [
       "<div>\n",
       "<style scoped>\n",
       "    .dataframe tbody tr th:only-of-type {\n",
       "        vertical-align: middle;\n",
       "    }\n",
       "\n",
       "    .dataframe tbody tr th {\n",
       "        vertical-align: top;\n",
       "    }\n",
       "\n",
       "    .dataframe thead th {\n",
       "        text-align: right;\n",
       "    }\n",
       "</style>\n",
       "<table border=\"1\" class=\"dataframe\">\n",
       "  <thead>\n",
       "    <tr style=\"text-align: right;\">\n",
       "      <th></th>\n",
       "      <th>gene_name</th>\n",
       "      <th>tissue</th>\n",
       "      <th>n_tissues</th>\n",
       "      <th>tissues_pc_variances</th>\n",
       "      <th>tissues_variances</th>\n",
       "      <th>n_snps_used_sum</th>\n",
       "    </tr>\n",
       "    <tr>\n",
       "      <th>gene_id</th>\n",
       "      <th></th>\n",
       "      <th></th>\n",
       "      <th></th>\n",
       "      <th></th>\n",
       "      <th></th>\n",
       "      <th></th>\n",
       "    </tr>\n",
       "  </thead>\n",
       "  <tbody>\n",
       "    <tr>\n",
       "      <th>ENSG00000000419</th>\n",
       "      <td>DPM1</td>\n",
       "      <td>(Brain_Hypothalamus, Brain_Substantia_nigra)</td>\n",
       "      <td>2</td>\n",
       "      <td>[1.0442398458252409, 0.9557601541747592]</td>\n",
       "      <td>{'Brain_Hypothalamus': 0.013162153504206677, '...</td>\n",
       "      <td>2</td>\n",
       "    </tr>\n",
       "    <tr>\n",
       "      <th>ENSG00000000938</th>\n",
       "      <td>FGR</td>\n",
       "      <td>(Cells_EBV-transformed_lymphocytes, Brain_Ante...</td>\n",
       "      <td>26</td>\n",
       "      <td>[19.95824749956773, 3.075997027819333, 2.08578...</td>\n",
       "      <td>{'Cells_EBV-transformed_lymphocytes': 0.003438...</td>\n",
       "      <td>28</td>\n",
       "    </tr>\n",
       "    <tr>\n",
       "      <th>ENSG00000000971</th>\n",
       "      <td>CFH</td>\n",
       "      <td>(Artery_Coronary, Brain_Anterior_cingulate_cor...</td>\n",
       "      <td>34</td>\n",
       "      <td>[21.56076992568329, 7.31017098704547, 1.837780...</td>\n",
       "      <td>{'Artery_Coronary': 0.01500190292420916, 'Brai...</td>\n",
       "      <td>44</td>\n",
       "    </tr>\n",
       "    <tr>\n",
       "      <th>ENSG00000001084</th>\n",
       "      <td>GCLC</td>\n",
       "      <td>(Artery_Coronary, Cells_EBV-transformed_lympho...</td>\n",
       "      <td>32</td>\n",
       "      <td>[21.291939080546527, 4.699418748743192, 2.2489...</td>\n",
       "      <td>{'Artery_Coronary': 1.0731972238129593e-06, 'C...</td>\n",
       "      <td>46</td>\n",
       "    </tr>\n",
       "    <tr>\n",
       "      <th>ENSG00000001167</th>\n",
       "      <td>NFYA</td>\n",
       "      <td>(Artery_Coronary, Brain_Anterior_cingulate_cor...</td>\n",
       "      <td>40</td>\n",
       "      <td>[37.33566029549769, 1.3914019604538372]</td>\n",
       "      <td>{'Artery_Coronary': 0.028499385645099656, 'Bra...</td>\n",
       "      <td>47</td>\n",
       "    </tr>\n",
       "  </tbody>\n",
       "</table>\n",
       "</div>"
      ],
      "text/plain": [
       "                gene_name                                             tissue  \\\n",
       "gene_id                                                                        \n",
       "ENSG00000000419      DPM1       (Brain_Hypothalamus, Brain_Substantia_nigra)   \n",
       "ENSG00000000938       FGR  (Cells_EBV-transformed_lymphocytes, Brain_Ante...   \n",
       "ENSG00000000971       CFH  (Artery_Coronary, Brain_Anterior_cingulate_cor...   \n",
       "ENSG00000001084      GCLC  (Artery_Coronary, Cells_EBV-transformed_lympho...   \n",
       "ENSG00000001167      NFYA  (Artery_Coronary, Brain_Anterior_cingulate_cor...   \n",
       "\n",
       "                 n_tissues                               tissues_pc_variances  \\\n",
       "gene_id                                                                         \n",
       "ENSG00000000419          2           [1.0442398458252409, 0.9557601541747592]   \n",
       "ENSG00000000938         26  [19.95824749956773, 3.075997027819333, 2.08578...   \n",
       "ENSG00000000971         34  [21.56076992568329, 7.31017098704547, 1.837780...   \n",
       "ENSG00000001084         32  [21.291939080546527, 4.699418748743192, 2.2489...   \n",
       "ENSG00000001167         40            [37.33566029549769, 1.3914019604538372]   \n",
       "\n",
       "                                                 tissues_variances  \\\n",
       "gene_id                                                              \n",
       "ENSG00000000419  {'Brain_Hypothalamus': 0.013162153504206677, '...   \n",
       "ENSG00000000938  {'Cells_EBV-transformed_lymphocytes': 0.003438...   \n",
       "ENSG00000000971  {'Artery_Coronary': 0.01500190292420916, 'Brai...   \n",
       "ENSG00000001084  {'Artery_Coronary': 1.0731972238129593e-06, 'C...   \n",
       "ENSG00000001167  {'Artery_Coronary': 0.028499385645099656, 'Bra...   \n",
       "\n",
       "                 n_snps_used_sum  \n",
       "gene_id                           \n",
       "ENSG00000000419                2  \n",
       "ENSG00000000938               28  \n",
       "ENSG00000000971               44  \n",
       "ENSG00000001084               46  \n",
       "ENSG00000001167               47  "
      ]
     },
     "execution_count": 116,
     "metadata": {},
     "output_type": "execute_result"
    }
   ],
   "source": [
    "spredixcan_genes_models.head()"
   ]
  },
  {
   "cell_type": "markdown",
   "id": "f4692315-d7be-465e-b756-f6d76fec949e",
   "metadata": {
    "papermill": {
     "duration": 0.02866,
     "end_time": "2022-08-30T19:11:16.945349",
     "exception": false,
     "start_time": "2022-08-30T19:11:16.916689",
     "status": "completed"
    },
    "tags": []
   },
   "source": [
    "### Count number of SNPs predictors in models across tissue models"
   ]
  },
  {
   "cell_type": "code",
   "execution_count": 117,
   "id": "08eed385-36eb-4e42-b28e-51333f9cfcd3",
   "metadata": {
    "execution": {
     "iopub.execute_input": "2022-08-30T19:11:17.003667Z",
     "iopub.status.busy": "2022-08-30T19:11:17.003463Z",
     "iopub.status.idle": "2022-08-30T19:11:17.049095Z",
     "shell.execute_reply": "2022-08-30T19:11:17.048491Z"
    },
    "papermill": {
     "duration": 0.076978,
     "end_time": "2022-08-30T19:11:17.050861",
     "exception": false,
     "start_time": "2022-08-30T19:11:16.973883",
     "status": "completed"
    },
    "tags": []
   },
   "outputs": [],
   "source": [
    "spredixcan_genes_sum_of_n_snps_in_model = (\n",
    "    spredixcan_dfs.groupby(\"gene_id\")[\"n_snps_in_model\"]\n",
    "    .sum()\n",
    "    .rename(\"n_snps_in_model_sum\")\n",
    ")"
   ]
  },
  {
   "cell_type": "code",
   "execution_count": 118,
   "id": "10431f5c-1f56-4664-a09f-53c608bec631",
   "metadata": {
    "execution": {
     "iopub.execute_input": "2022-08-30T19:11:17.109744Z",
     "iopub.status.busy": "2022-08-30T19:11:17.109533Z",
     "iopub.status.idle": "2022-08-30T19:11:17.129218Z",
     "shell.execute_reply": "2022-08-30T19:11:17.128668Z"
    },
    "papermill": {
     "duration": 0.050392,
     "end_time": "2022-08-30T19:11:17.130734",
     "exception": false,
     "start_time": "2022-08-30T19:11:17.080342",
     "status": "completed"
    },
    "tags": []
   },
   "outputs": [
    {
     "data": {
      "text/plain": [
       "gene_id\n",
       "ENSG00000000419     2\n",
       "ENSG00000000938    30\n",
       "ENSG00000000971    44\n",
       "ENSG00000001084    46\n",
       "ENSG00000001167    48\n",
       "                   ..\n",
       "ENSG00000278540    44\n",
       "ENSG00000278828     5\n",
       "ENSG00000278845    91\n",
       "ENSG00000281005    81\n",
       "ENSG00000282608    40\n",
       "Name: n_snps_in_model_sum, Length: 6425, dtype: int64"
      ]
     },
     "execution_count": 118,
     "metadata": {},
     "output_type": "execute_result"
    }
   ],
   "source": [
    "spredixcan_genes_sum_of_n_snps_in_model"
   ]
  },
  {
   "cell_type": "code",
   "execution_count": 119,
   "id": "d13e1d65-0dcb-4a94-aba8-bcdcd09d17c3",
   "metadata": {
    "execution": {
     "iopub.execute_input": "2022-08-30T19:11:17.189213Z",
     "iopub.status.busy": "2022-08-30T19:11:17.188996Z",
     "iopub.status.idle": "2022-08-30T19:11:17.205544Z",
     "shell.execute_reply": "2022-08-30T19:11:17.205026Z"
    },
    "papermill": {
     "duration": 0.047614,
     "end_time": "2022-08-30T19:11:17.207214",
     "exception": false,
     "start_time": "2022-08-30T19:11:17.159600",
     "status": "completed"
    },
    "tags": []
   },
   "outputs": [],
   "source": [
    "# add sum of snps in model to spredixcan_genes_models\n",
    "spredixcan_genes_models = spredixcan_genes_models.join(\n",
    "    spredixcan_genes_sum_of_n_snps_in_model\n",
    ")"
   ]
  },
  {
   "cell_type": "code",
   "execution_count": 120,
   "id": "0d3973d8-5da2-4c9d-b406-2525f615035c",
   "metadata": {
    "execution": {
     "iopub.execute_input": "2022-08-30T19:11:17.265356Z",
     "iopub.status.busy": "2022-08-30T19:11:17.265164Z",
     "iopub.status.idle": "2022-08-30T19:11:17.280829Z",
     "shell.execute_reply": "2022-08-30T19:11:17.280324Z"
    },
    "papermill": {
     "duration": 0.046507,
     "end_time": "2022-08-30T19:11:17.282313",
     "exception": false,
     "start_time": "2022-08-30T19:11:17.235806",
     "status": "completed"
    },
    "tags": []
   },
   "outputs": [
    {
     "data": {
      "text/plain": [
       "(6425, 7)"
      ]
     },
     "execution_count": 120,
     "metadata": {},
     "output_type": "execute_result"
    }
   ],
   "source": [
    "spredixcan_genes_models.shape"
   ]
  },
  {
   "cell_type": "code",
   "execution_count": 121,
   "id": "76c27f05-c5c6-4ed9-9363-fcba871a3572",
   "metadata": {
    "execution": {
     "iopub.execute_input": "2022-08-30T19:11:17.338620Z",
     "iopub.status.busy": "2022-08-30T19:11:17.338429Z",
     "iopub.status.idle": "2022-08-30T19:11:17.365329Z",
     "shell.execute_reply": "2022-08-30T19:11:17.364825Z"
    },
    "papermill": {
     "duration": 0.056807,
     "end_time": "2022-08-30T19:11:17.366803",
     "exception": false,
     "start_time": "2022-08-30T19:11:17.309996",
     "status": "completed"
    },
    "tags": []
   },
   "outputs": [
    {
     "data": {
      "text/html": [
       "<div>\n",
       "<style scoped>\n",
       "    .dataframe tbody tr th:only-of-type {\n",
       "        vertical-align: middle;\n",
       "    }\n",
       "\n",
       "    .dataframe tbody tr th {\n",
       "        vertical-align: top;\n",
       "    }\n",
       "\n",
       "    .dataframe thead th {\n",
       "        text-align: right;\n",
       "    }\n",
       "</style>\n",
       "<table border=\"1\" class=\"dataframe\">\n",
       "  <thead>\n",
       "    <tr style=\"text-align: right;\">\n",
       "      <th></th>\n",
       "      <th>gene_name</th>\n",
       "      <th>tissue</th>\n",
       "      <th>n_tissues</th>\n",
       "      <th>tissues_pc_variances</th>\n",
       "      <th>tissues_variances</th>\n",
       "      <th>n_snps_used_sum</th>\n",
       "      <th>n_snps_in_model_sum</th>\n",
       "    </tr>\n",
       "    <tr>\n",
       "      <th>gene_id</th>\n",
       "      <th></th>\n",
       "      <th></th>\n",
       "      <th></th>\n",
       "      <th></th>\n",
       "      <th></th>\n",
       "      <th></th>\n",
       "      <th></th>\n",
       "    </tr>\n",
       "  </thead>\n",
       "  <tbody>\n",
       "    <tr>\n",
       "      <th>ENSG00000000419</th>\n",
       "      <td>DPM1</td>\n",
       "      <td>(Brain_Hypothalamus, Brain_Substantia_nigra)</td>\n",
       "      <td>2</td>\n",
       "      <td>[1.0442398458252409, 0.9557601541747592]</td>\n",
       "      <td>{'Brain_Hypothalamus': 0.013162153504206677, '...</td>\n",
       "      <td>2</td>\n",
       "      <td>2</td>\n",
       "    </tr>\n",
       "    <tr>\n",
       "      <th>ENSG00000000938</th>\n",
       "      <td>FGR</td>\n",
       "      <td>(Cells_EBV-transformed_lymphocytes, Brain_Ante...</td>\n",
       "      <td>26</td>\n",
       "      <td>[19.95824749956773, 3.075997027819333, 2.08578...</td>\n",
       "      <td>{'Cells_EBV-transformed_lymphocytes': 0.003438...</td>\n",
       "      <td>28</td>\n",
       "      <td>30</td>\n",
       "    </tr>\n",
       "    <tr>\n",
       "      <th>ENSG00000000971</th>\n",
       "      <td>CFH</td>\n",
       "      <td>(Artery_Coronary, Brain_Anterior_cingulate_cor...</td>\n",
       "      <td>34</td>\n",
       "      <td>[21.56076992568329, 7.31017098704547, 1.837780...</td>\n",
       "      <td>{'Artery_Coronary': 0.01500190292420916, 'Brai...</td>\n",
       "      <td>44</td>\n",
       "      <td>44</td>\n",
       "    </tr>\n",
       "    <tr>\n",
       "      <th>ENSG00000001084</th>\n",
       "      <td>GCLC</td>\n",
       "      <td>(Artery_Coronary, Cells_EBV-transformed_lympho...</td>\n",
       "      <td>32</td>\n",
       "      <td>[21.291939080546527, 4.699418748743192, 2.2489...</td>\n",
       "      <td>{'Artery_Coronary': 1.0731972238129593e-06, 'C...</td>\n",
       "      <td>46</td>\n",
       "      <td>46</td>\n",
       "    </tr>\n",
       "    <tr>\n",
       "      <th>ENSG00000001167</th>\n",
       "      <td>NFYA</td>\n",
       "      <td>(Artery_Coronary, Brain_Anterior_cingulate_cor...</td>\n",
       "      <td>40</td>\n",
       "      <td>[37.33566029549769, 1.3914019604538372]</td>\n",
       "      <td>{'Artery_Coronary': 0.028499385645099656, 'Bra...</td>\n",
       "      <td>47</td>\n",
       "      <td>48</td>\n",
       "    </tr>\n",
       "  </tbody>\n",
       "</table>\n",
       "</div>"
      ],
      "text/plain": [
       "                gene_name                                             tissue  \\\n",
       "gene_id                                                                        \n",
       "ENSG00000000419      DPM1       (Brain_Hypothalamus, Brain_Substantia_nigra)   \n",
       "ENSG00000000938       FGR  (Cells_EBV-transformed_lymphocytes, Brain_Ante...   \n",
       "ENSG00000000971       CFH  (Artery_Coronary, Brain_Anterior_cingulate_cor...   \n",
       "ENSG00000001084      GCLC  (Artery_Coronary, Cells_EBV-transformed_lympho...   \n",
       "ENSG00000001167      NFYA  (Artery_Coronary, Brain_Anterior_cingulate_cor...   \n",
       "\n",
       "                 n_tissues                               tissues_pc_variances  \\\n",
       "gene_id                                                                         \n",
       "ENSG00000000419          2           [1.0442398458252409, 0.9557601541747592]   \n",
       "ENSG00000000938         26  [19.95824749956773, 3.075997027819333, 2.08578...   \n",
       "ENSG00000000971         34  [21.56076992568329, 7.31017098704547, 1.837780...   \n",
       "ENSG00000001084         32  [21.291939080546527, 4.699418748743192, 2.2489...   \n",
       "ENSG00000001167         40            [37.33566029549769, 1.3914019604538372]   \n",
       "\n",
       "                                                 tissues_variances  \\\n",
       "gene_id                                                              \n",
       "ENSG00000000419  {'Brain_Hypothalamus': 0.013162153504206677, '...   \n",
       "ENSG00000000938  {'Cells_EBV-transformed_lymphocytes': 0.003438...   \n",
       "ENSG00000000971  {'Artery_Coronary': 0.01500190292420916, 'Brai...   \n",
       "ENSG00000001084  {'Artery_Coronary': 1.0731972238129593e-06, 'C...   \n",
       "ENSG00000001167  {'Artery_Coronary': 0.028499385645099656, 'Bra...   \n",
       "\n",
       "                 n_snps_used_sum  n_snps_in_model_sum  \n",
       "gene_id                                                \n",
       "ENSG00000000419                2                    2  \n",
       "ENSG00000000938               28                   30  \n",
       "ENSG00000000971               44                   44  \n",
       "ENSG00000001084               46                   46  \n",
       "ENSG00000001167               47                   48  "
      ]
     },
     "execution_count": 121,
     "metadata": {},
     "output_type": "execute_result"
    }
   ],
   "source": [
    "spredixcan_genes_models.head()"
   ]
  },
  {
   "cell_type": "markdown",
   "id": "e9f61a50-a5b5-4c85-9dec-3ceaaf65c61d",
   "metadata": {
    "papermill": {
     "duration": 0.028093,
     "end_time": "2022-08-30T19:11:17.422735",
     "exception": false,
     "start_time": "2022-08-30T19:11:17.394642",
     "status": "completed"
    },
    "tags": []
   },
   "source": [
    "### Summarize prediction models for each gene"
   ]
  },
  {
   "cell_type": "code",
   "execution_count": 122,
   "id": "4f44928f-b401-4abb-ac00-3b15b2746504",
   "metadata": {
    "execution": {
     "iopub.execute_input": "2022-08-30T19:11:17.479687Z",
     "iopub.status.busy": "2022-08-30T19:11:17.479496Z",
     "iopub.status.idle": "2022-08-30T19:11:17.495900Z",
     "shell.execute_reply": "2022-08-30T19:11:17.495397Z"
    },
    "papermill": {
     "duration": 0.046958,
     "end_time": "2022-08-30T19:11:17.497477",
     "exception": false,
     "start_time": "2022-08-30T19:11:17.450519",
     "status": "completed"
    },
    "tags": []
   },
   "outputs": [],
   "source": [
    "def _summarize_gene_models(gene_id):\n",
    "    \"\"\"\n",
    "    For a given gene ID, it returns a dataframe with predictor SNPs in rows and tissues in columns, where\n",
    "    values are the weights of SNPs in those tissues.\n",
    "    It can contain NaNs.\n",
    "    \"\"\"\n",
    "    gene_obj = spredixcan_gene_obj[gene_id]\n",
    "    gene_tissues = spredixcan_genes_models.loc[gene_id, \"tissue\"]\n",
    "\n",
    "    gene_models = {}\n",
    "    gene_unique_snps = set()\n",
    "    for t in gene_tissues:\n",
    "        gene_model = gene_obj.get_prediction_weights(tissue=t, model_type=EQTL_MODEL)\n",
    "        gene_models[t] = gene_model\n",
    "\n",
    "        gene_unique_snps.update(set(gene_model.index))\n",
    "\n",
    "    df = pd.DataFrame(\n",
    "        data=np.nan, index=list(gene_unique_snps), columns=list(gene_tissues)\n",
    "    )\n",
    "\n",
    "    for t in df.columns:\n",
    "        for snp in df.index:\n",
    "            gene_model = gene_models[t]\n",
    "\n",
    "            if snp in gene_model.index:\n",
    "                df.loc[snp, t] = gene_model.loc[snp]\n",
    "\n",
    "    return df"
   ]
  },
  {
   "cell_type": "code",
   "execution_count": 123,
   "id": "71bb0b5a-fe44-4076-91df-d8077ff85c71",
   "metadata": {
    "execution": {
     "iopub.execute_input": "2022-08-30T19:11:17.554621Z",
     "iopub.status.busy": "2022-08-30T19:11:17.554432Z",
     "iopub.status.idle": "2022-08-30T19:11:17.576005Z",
     "shell.execute_reply": "2022-08-30T19:11:17.575308Z"
    },
    "papermill": {
     "duration": 0.051908,
     "end_time": "2022-08-30T19:11:17.577569",
     "exception": false,
     "start_time": "2022-08-30T19:11:17.525661",
     "status": "completed"
    },
    "tags": []
   },
   "outputs": [
    {
     "data": {
      "text/plain": [
       "varID\n",
       "chr20_50862947_C_T_b38    0.431375\n",
       "Name: weight, dtype: float64"
      ]
     },
     "execution_count": 123,
     "metadata": {},
     "output_type": "execute_result"
    }
   ],
   "source": [
    "# testing\n",
    "spredixcan_gene_obj[\"ENSG00000000419\"].get_prediction_weights(\n",
    "    tissue=\"Brain_Hypothalamus\", model_type=EQTL_MODEL\n",
    ")"
   ]
  },
  {
   "cell_type": "code",
   "execution_count": 124,
   "id": "ad18b2d9-f585-445b-a809-bd694d417a8a",
   "metadata": {
    "execution": {
     "iopub.execute_input": "2022-08-30T19:11:17.636552Z",
     "iopub.status.busy": "2022-08-30T19:11:17.636361Z",
     "iopub.status.idle": "2022-08-30T19:11:17.656519Z",
     "shell.execute_reply": "2022-08-30T19:11:17.656018Z"
    },
    "papermill": {
     "duration": 0.052923,
     "end_time": "2022-08-30T19:11:17.657936",
     "exception": false,
     "start_time": "2022-08-30T19:11:17.605013",
     "status": "completed"
    },
    "tags": []
   },
   "outputs": [
    {
     "data": {
      "text/plain": [
       "varID\n",
       "chr20_50957480_C_T_b38   -0.146796\n",
       "Name: weight, dtype: float64"
      ]
     },
     "execution_count": 124,
     "metadata": {},
     "output_type": "execute_result"
    }
   ],
   "source": [
    "spredixcan_gene_obj[\"ENSG00000000419\"].get_prediction_weights(\n",
    "    tissue=\"Brain_Substantia_nigra\", model_type=EQTL_MODEL\n",
    ")"
   ]
  },
  {
   "cell_type": "code",
   "execution_count": 125,
   "id": "82ef5dec-283c-44ee-a118-b28d87a5b298",
   "metadata": {
    "execution": {
     "iopub.execute_input": "2022-08-30T19:11:17.713948Z",
     "iopub.status.busy": "2022-08-30T19:11:17.713721Z",
     "iopub.status.idle": "2022-08-30T19:11:17.727076Z",
     "shell.execute_reply": "2022-08-30T19:11:17.726590Z"
    },
    "papermill": {
     "duration": 0.043132,
     "end_time": "2022-08-30T19:11:17.728583",
     "exception": false,
     "start_time": "2022-08-30T19:11:17.685451",
     "status": "completed"
    },
    "tags": []
   },
   "outputs": [],
   "source": [
    "# # testing\n",
    "# _gene_id = \"ENSG00000000419\"\n",
    "\n",
    "# _gene_model = _summarize_gene_models(_gene_id)\n",
    "# assert (\n",
    "#     _gene_model.loc[\"chr20_50862947_C_T_b38\", \"Brain_Hypothalamus\"].round(5) == 0.43138\n",
    "# )\n",
    "# assert pd.isnull(_gene_model.loc[\"chr20_50957480_C_T_b38\", \"Brain_Hypothalamus\"])\n",
    "\n",
    "# assert pd.isnull(_gene_model.loc[\"chr20_50862947_C_T_b38\", \"Brain_Substantia_nigra\"])\n",
    "# assert (\n",
    "#     _gene_model.loc[\"chr20_50957480_C_T_b38\", \"Brain_Substantia_nigra\"].round(5)\n",
    "#     == -0.1468\n",
    "# )"
   ]
  },
  {
   "cell_type": "code",
   "execution_count": 126,
   "id": "134a7533-69e8-4858-8763-1fd45cbdec77",
   "metadata": {
    "execution": {
     "iopub.execute_input": "2022-08-30T19:11:17.785022Z",
     "iopub.status.busy": "2022-08-30T19:11:17.784832Z",
     "iopub.status.idle": "2022-08-30T19:27:57.264780Z",
     "shell.execute_reply": "2022-08-30T19:27:57.263982Z"
    },
    "papermill": {
     "duration": 999.511328,
     "end_time": "2022-08-30T19:27:57.266836",
     "exception": false,
     "start_time": "2022-08-30T19:11:17.755508",
     "status": "completed"
    },
    "tags": []
   },
   "outputs": [],
   "source": [
    "gene_models = {}\n",
    "\n",
    "for gene_id in spredixcan_genes_models.index:\n",
    "    gene_models[gene_id] = _summarize_gene_models(gene_id)"
   ]
  },
  {
   "cell_type": "code",
   "execution_count": 127,
   "id": "97117dc0-0476-4e7b-98cb-6738dbb28c8a",
   "metadata": {
    "execution": {
     "iopub.execute_input": "2022-08-30T19:27:57.359623Z",
     "iopub.status.busy": "2022-08-30T19:27:57.359356Z",
     "iopub.status.idle": "2022-08-30T19:27:57.542377Z",
     "shell.execute_reply": "2022-08-30T19:27:57.541840Z"
    },
    "papermill": {
     "duration": 0.213401,
     "end_time": "2022-08-30T19:27:57.543993",
     "exception": false,
     "start_time": "2022-08-30T19:27:57.330592",
     "status": "completed"
    },
    "tags": []
   },
   "outputs": [],
   "source": [
    "# # testing\n",
    "# _gene_id = \"ENSG00000000419\"\n",
    "\n",
    "# _gene_model = gene_models[_gene_id]\n",
    "# assert (\n",
    "#     _gene_model.loc[\"chr20_50862947_C_T_b38\", \"Brain_Hypothalamus\"].round(5) == 0.43138\n",
    "# )\n",
    "# assert pd.isnull(_gene_model.loc[\"chr20_50957480_C_T_b38\", \"Brain_Hypothalamus\"])\n",
    "\n",
    "# assert pd.isnull(_gene_model.loc[\"chr20_50862947_C_T_b38\", \"Brain_Substantia_nigra\"])\n",
    "# assert (\n",
    "#     _gene_model.loc[\"chr20_50957480_C_T_b38\", \"Brain_Substantia_nigra\"].round(5)\n",
    "#     == -0.1468\n",
    "# )"
   ]
  },
  {
   "cell_type": "code",
   "execution_count": 128,
   "id": "806cd4a5-51b1-4ed3-8aa3-4970c128ccff",
   "metadata": {
    "execution": {
     "iopub.execute_input": "2022-08-30T19:27:57.602487Z",
     "iopub.status.busy": "2022-08-30T19:27:57.602287Z",
     "iopub.status.idle": "2022-08-30T19:28:00.437027Z",
     "shell.execute_reply": "2022-08-30T19:28:00.436416Z"
    },
    "papermill": {
     "duration": 2.866012,
     "end_time": "2022-08-30T19:28:00.439012",
     "exception": false,
     "start_time": "2022-08-30T19:27:57.573000",
     "status": "completed"
    },
    "tags": []
   },
   "outputs": [],
   "source": [
    "# save\n",
    "import gzip\n",
    "\n",
    "with gzip.GzipFile(OUTPUT_DIR_BASE / \"gene_tissues_models.pkl.gz\", \"w\") as f:\n",
    "    pickle.dump(gene_models, f)"
   ]
  },
  {
   "cell_type": "code",
   "execution_count": 129,
   "id": "a12a9597-dd0a-40a0-9a42-f288af22e0d2",
   "metadata": {
    "execution": {
     "iopub.execute_input": "2022-08-30T19:28:00.499893Z",
     "iopub.status.busy": "2022-08-30T19:28:00.499675Z",
     "iopub.status.idle": "2022-08-30T19:28:02.305644Z",
     "shell.execute_reply": "2022-08-30T19:28:02.304810Z"
    },
    "papermill": {
     "duration": 1.83819,
     "end_time": "2022-08-30T19:28:02.307560",
     "exception": false,
     "start_time": "2022-08-30T19:28:00.469370",
     "status": "completed"
    },
    "tags": []
   },
   "outputs": [],
   "source": [
    "# testing saved file\n",
    "with gzip.GzipFile(OUTPUT_DIR_BASE / \"gene_tissues_models.pkl.gz\", \"r\") as f:\n",
    "    _tmp = pickle.load(f)"
   ]
  },
  {
   "cell_type": "code",
   "execution_count": 130,
   "id": "a90a8f83-75db-4f73-8f1a-7e0563ba3685",
   "metadata": {
    "execution": {
     "iopub.execute_input": "2022-08-30T19:28:02.366734Z",
     "iopub.status.busy": "2022-08-30T19:28:02.366530Z",
     "iopub.status.idle": "2022-08-30T19:28:02.382397Z",
     "shell.execute_reply": "2022-08-30T19:28:02.381926Z"
    },
    "papermill": {
     "duration": 0.047017,
     "end_time": "2022-08-30T19:28:02.383929",
     "exception": false,
     "start_time": "2022-08-30T19:28:02.336912",
     "status": "completed"
    },
    "tags": []
   },
   "outputs": [],
   "source": [
    "assert len(gene_models) == len(_tmp)\n",
    "assert gene_models[\"ENSG00000000419\"].equals(_tmp[\"ENSG00000000419\"])"
   ]
  },
  {
   "cell_type": "markdown",
   "id": "a147f3a8-4efd-457b-9581-00cbfacd4b3d",
   "metadata": {
    "papermill": {
     "duration": 0.028154,
     "end_time": "2022-08-30T19:28:02.440130",
     "exception": false,
     "start_time": "2022-08-30T19:28:02.411976",
     "status": "completed"
    },
    "tags": []
   },
   "source": [
    "### Count number of _unique_ SNPs predictors used and available across tissue models"
   ]
  },
  {
   "cell_type": "code",
   "execution_count": 131,
   "id": "38d5bc57-3c25-4abe-93bd-09bbe200f2ef",
   "metadata": {
    "execution": {
     "iopub.execute_input": "2022-08-30T19:28:02.499942Z",
     "iopub.status.busy": "2022-08-30T19:28:02.499713Z",
     "iopub.status.idle": "2022-08-30T19:28:02.515361Z",
     "shell.execute_reply": "2022-08-30T19:28:02.514846Z"
    },
    "papermill": {
     "duration": 0.046882,
     "end_time": "2022-08-30T19:28:02.517012",
     "exception": false,
     "start_time": "2022-08-30T19:28:02.470130",
     "status": "completed"
    },
    "tags": []
   },
   "outputs": [],
   "source": [
    "def _count_unique_snps(gene_id):\n",
    "    \"\"\"\n",
    "    For a gene_id, it counts unique SNPs in all models and their intersection with GWAS SNPs (therefore, used by S-PrediXcan).\n",
    "    \"\"\"\n",
    "    gene_tissues = spredixcan_genes_models.loc[gene_id, \"tissue\"]\n",
    "\n",
    "    gene_unique_snps = set()\n",
    "    for t in gene_tissues:\n",
    "        t_snps = set(gene_models[gene_id].index)\n",
    "        gene_unique_snps.update(t_snps)\n",
    "\n",
    "    gene_unique_snps_in_gwas = gwas_variants_ids_set.intersection(gene_unique_snps)\n",
    "\n",
    "    return pd.Series(\n",
    "        {\n",
    "            \"unique_n_snps_in_model\": len(gene_unique_snps),\n",
    "            \"unique_n_snps_used\": len(gene_unique_snps_in_gwas),\n",
    "        }\n",
    "    )"
   ]
  },
  {
   "cell_type": "code",
   "execution_count": 132,
   "id": "059c6e02-67e2-4376-a3e5-b815070779c9",
   "metadata": {
    "execution": {
     "iopub.execute_input": "2022-08-30T19:28:02.576518Z",
     "iopub.status.busy": "2022-08-30T19:28:02.576314Z",
     "iopub.status.idle": "2022-08-30T19:28:02.605281Z",
     "shell.execute_reply": "2022-08-30T19:28:02.604771Z"
    },
    "papermill": {
     "duration": 0.060373,
     "end_time": "2022-08-30T19:28:02.606797",
     "exception": false,
     "start_time": "2022-08-30T19:28:02.546424",
     "status": "completed"
    },
    "tags": []
   },
   "outputs": [
    {
     "data": {
      "text/html": [
       "<div>\n",
       "<style scoped>\n",
       "    .dataframe tbody tr th:only-of-type {\n",
       "        vertical-align: middle;\n",
       "    }\n",
       "\n",
       "    .dataframe tbody tr th {\n",
       "        vertical-align: top;\n",
       "    }\n",
       "\n",
       "    .dataframe thead th {\n",
       "        text-align: right;\n",
       "    }\n",
       "</style>\n",
       "<table border=\"1\" class=\"dataframe\">\n",
       "  <thead>\n",
       "    <tr style=\"text-align: right;\">\n",
       "      <th></th>\n",
       "      <th>gene_name</th>\n",
       "      <th>tissue</th>\n",
       "      <th>n_tissues</th>\n",
       "      <th>tissues_pc_variances</th>\n",
       "      <th>tissues_variances</th>\n",
       "      <th>n_snps_used_sum</th>\n",
       "      <th>n_snps_in_model_sum</th>\n",
       "    </tr>\n",
       "    <tr>\n",
       "      <th>gene_id</th>\n",
       "      <th></th>\n",
       "      <th></th>\n",
       "      <th></th>\n",
       "      <th></th>\n",
       "      <th></th>\n",
       "      <th></th>\n",
       "      <th></th>\n",
       "    </tr>\n",
       "  </thead>\n",
       "  <tbody>\n",
       "    <tr>\n",
       "      <th>ENSG00000000419</th>\n",
       "      <td>DPM1</td>\n",
       "      <td>(Brain_Hypothalamus, Brain_Substantia_nigra)</td>\n",
       "      <td>2</td>\n",
       "      <td>[1.0442398458252409, 0.9557601541747592]</td>\n",
       "      <td>{'Brain_Hypothalamus': 0.013162153504206677, '...</td>\n",
       "      <td>2</td>\n",
       "      <td>2</td>\n",
       "    </tr>\n",
       "    <tr>\n",
       "      <th>ENSG00000010256</th>\n",
       "      <td>UQCRC1</td>\n",
       "      <td>(Thyroid, Whole_Blood)</td>\n",
       "      <td>2</td>\n",
       "      <td>[1.1048350039574655, 0.8951649960425345]</td>\n",
       "      <td>{'Thyroid': 0.0008025245652862433, 'Whole_Bloo...</td>\n",
       "      <td>2</td>\n",
       "      <td>2</td>\n",
       "    </tr>\n",
       "    <tr>\n",
       "      <th>ENSG00000017427</th>\n",
       "      <td>IGF1</td>\n",
       "      <td>(Brain_Amygdala, Testis)</td>\n",
       "      <td>2</td>\n",
       "      <td>[1.0389319526404415, 0.9610680473595585]</td>\n",
       "      <td>{'Brain_Amygdala': 0.02059332044751194, 'Testi...</td>\n",
       "      <td>2</td>\n",
       "      <td>2</td>\n",
       "    </tr>\n",
       "    <tr>\n",
       "      <th>ENSG00000043093</th>\n",
       "      <td>DCUN1D1</td>\n",
       "      <td>(Esophagus_Gastroesophageal_Junction, Esophagu...</td>\n",
       "      <td>2</td>\n",
       "      <td>[1.4951653523020276, 0.5048346476979725]</td>\n",
       "      <td>{'Esophagus_Gastroesophageal_Junction': 0.0002...</td>\n",
       "      <td>2</td>\n",
       "      <td>2</td>\n",
       "    </tr>\n",
       "    <tr>\n",
       "      <th>ENSG00000081377</th>\n",
       "      <td>CDC14B</td>\n",
       "      <td>(Muscle_Skeletal, Brain_Nucleus_accumbens_basa...</td>\n",
       "      <td>2</td>\n",
       "      <td>[1.1285007973441137, 0.8714992026558863]</td>\n",
       "      <td>{'Muscle_Skeletal': 0.0076846621297156385, 'Br...</td>\n",
       "      <td>2</td>\n",
       "      <td>2</td>\n",
       "    </tr>\n",
       "  </tbody>\n",
       "</table>\n",
       "</div>"
      ],
      "text/plain": [
       "                gene_name                                             tissue  \\\n",
       "gene_id                                                                        \n",
       "ENSG00000000419      DPM1       (Brain_Hypothalamus, Brain_Substantia_nigra)   \n",
       "ENSG00000010256    UQCRC1                             (Thyroid, Whole_Blood)   \n",
       "ENSG00000017427      IGF1                           (Brain_Amygdala, Testis)   \n",
       "ENSG00000043093   DCUN1D1  (Esophagus_Gastroesophageal_Junction, Esophagu...   \n",
       "ENSG00000081377    CDC14B  (Muscle_Skeletal, Brain_Nucleus_accumbens_basa...   \n",
       "\n",
       "                 n_tissues                      tissues_pc_variances  \\\n",
       "gene_id                                                                \n",
       "ENSG00000000419          2  [1.0442398458252409, 0.9557601541747592]   \n",
       "ENSG00000010256          2  [1.1048350039574655, 0.8951649960425345]   \n",
       "ENSG00000017427          2  [1.0389319526404415, 0.9610680473595585]   \n",
       "ENSG00000043093          2  [1.4951653523020276, 0.5048346476979725]   \n",
       "ENSG00000081377          2  [1.1285007973441137, 0.8714992026558863]   \n",
       "\n",
       "                                                 tissues_variances  \\\n",
       "gene_id                                                              \n",
       "ENSG00000000419  {'Brain_Hypothalamus': 0.013162153504206677, '...   \n",
       "ENSG00000010256  {'Thyroid': 0.0008025245652862433, 'Whole_Bloo...   \n",
       "ENSG00000017427  {'Brain_Amygdala': 0.02059332044751194, 'Testi...   \n",
       "ENSG00000043093  {'Esophagus_Gastroesophageal_Junction': 0.0002...   \n",
       "ENSG00000081377  {'Muscle_Skeletal': 0.0076846621297156385, 'Br...   \n",
       "\n",
       "                 n_snps_used_sum  n_snps_in_model_sum  \n",
       "gene_id                                                \n",
       "ENSG00000000419                2                    2  \n",
       "ENSG00000010256                2                    2  \n",
       "ENSG00000017427                2                    2  \n",
       "ENSG00000043093                2                    2  \n",
       "ENSG00000081377                2                    2  "
      ]
     },
     "execution_count": 132,
     "metadata": {},
     "output_type": "execute_result"
    }
   ],
   "source": [
    "# testing\n",
    "spredixcan_genes_models[spredixcan_genes_models[\"n_snps_used_sum\"] == 2].head()"
   ]
  },
  {
   "cell_type": "code",
   "execution_count": 133,
   "id": "4f8a444c-c3e2-4688-a50b-08481d41f614",
   "metadata": {
    "execution": {
     "iopub.execute_input": "2022-08-30T19:28:02.666687Z",
     "iopub.status.busy": "2022-08-30T19:28:02.666483Z",
     "iopub.status.idle": "2022-08-30T19:28:02.685820Z",
     "shell.execute_reply": "2022-08-30T19:28:02.685304Z"
    },
    "papermill": {
     "duration": 0.050843,
     "end_time": "2022-08-30T19:28:02.687334",
     "exception": false,
     "start_time": "2022-08-30T19:28:02.636491",
     "status": "completed"
    },
    "tags": []
   },
   "outputs": [
    {
     "data": {
      "text/plain": [
       "varID\n",
       "chr20_50862947_C_T_b38    0.431375\n",
       "Name: weight, dtype: float64"
      ]
     },
     "metadata": {},
     "output_type": "display_data"
    },
    {
     "data": {
      "text/plain": [
       "varID\n",
       "chr20_50957480_C_T_b38   -0.146796\n",
       "Name: weight, dtype: float64"
      ]
     },
     "metadata": {},
     "output_type": "display_data"
    }
   ],
   "source": [
    "# case with two snps, not repeated across tissues\n",
    "_gene_id = \"ENSG00000000419\"\n",
    "display(\n",
    "    spredixcan_gene_obj[_gene_id].get_prediction_weights(\n",
    "        tissue=\"Brain_Hypothalamus\", model_type=EQTL_MODEL\n",
    "    )\n",
    ")\n",
    "display(\n",
    "    spredixcan_gene_obj[_gene_id].get_prediction_weights(\n",
    "        tissue=\"Brain_Substantia_nigra\", model_type=EQTL_MODEL\n",
    "    )\n",
    ")"
   ]
  },
  {
   "cell_type": "code",
   "execution_count": 134,
   "id": "f835cf57-eea6-4468-aaf2-d85c8164d177",
   "metadata": {
    "execution": {
     "iopub.execute_input": "2022-08-30T19:28:02.748162Z",
     "iopub.status.busy": "2022-08-30T19:28:02.747958Z",
     "iopub.status.idle": "2022-08-30T19:28:02.761937Z",
     "shell.execute_reply": "2022-08-30T19:28:02.761420Z"
    },
    "papermill": {
     "duration": 0.046629,
     "end_time": "2022-08-30T19:28:02.763554",
     "exception": false,
     "start_time": "2022-08-30T19:28:02.716925",
     "status": "completed"
    },
    "tags": []
   },
   "outputs": [],
   "source": [
    "# _tmp = _count_unique_snps(_gene_id)\n",
    "# assert _tmp.shape[0] == 2\n",
    "# assert _tmp[\"unique_n_snps_in_model\"] == 2\n",
    "# assert _tmp[\"unique_n_snps_used\"] == 2"
   ]
  },
  {
   "cell_type": "code",
   "execution_count": 135,
   "id": "520837f6-5cdd-4958-aa98-00cd1ebab484",
   "metadata": {
    "execution": {
     "iopub.execute_input": "2022-08-30T19:28:02.824268Z",
     "iopub.status.busy": "2022-08-30T19:28:02.824064Z",
     "iopub.status.idle": "2022-08-30T19:28:05.339823Z",
     "shell.execute_reply": "2022-08-30T19:28:05.339255Z"
    },
    "papermill": {
     "duration": 2.548493,
     "end_time": "2022-08-30T19:28:05.341666",
     "exception": false,
     "start_time": "2022-08-30T19:28:02.793173",
     "status": "completed"
    },
    "tags": []
   },
   "outputs": [],
   "source": [
    "# get unique snps for all genes\n",
    "spredixcan_genes_unique_n_snps = spredixcan_genes_models.groupby(\"gene_id\").apply(\n",
    "    lambda x: _count_unique_snps(x.name)\n",
    ")"
   ]
  },
  {
   "cell_type": "code",
   "execution_count": 136,
   "id": "72633373-73d7-4796-b915-06fcb18feca0",
   "metadata": {
    "execution": {
     "iopub.execute_input": "2022-08-30T19:28:05.400605Z",
     "iopub.status.busy": "2022-08-30T19:28:05.400406Z",
     "iopub.status.idle": "2022-08-30T19:28:05.419645Z",
     "shell.execute_reply": "2022-08-30T19:28:05.419170Z"
    },
    "papermill": {
     "duration": 0.04926,
     "end_time": "2022-08-30T19:28:05.421068",
     "exception": false,
     "start_time": "2022-08-30T19:28:05.371808",
     "status": "completed"
    },
    "tags": []
   },
   "outputs": [
    {
     "data": {
      "text/html": [
       "<div>\n",
       "<style scoped>\n",
       "    .dataframe tbody tr th:only-of-type {\n",
       "        vertical-align: middle;\n",
       "    }\n",
       "\n",
       "    .dataframe tbody tr th {\n",
       "        vertical-align: top;\n",
       "    }\n",
       "\n",
       "    .dataframe thead th {\n",
       "        text-align: right;\n",
       "    }\n",
       "</style>\n",
       "<table border=\"1\" class=\"dataframe\">\n",
       "  <thead>\n",
       "    <tr style=\"text-align: right;\">\n",
       "      <th></th>\n",
       "      <th>unique_n_snps_in_model</th>\n",
       "      <th>unique_n_snps_used</th>\n",
       "    </tr>\n",
       "    <tr>\n",
       "      <th>gene_id</th>\n",
       "      <th></th>\n",
       "      <th></th>\n",
       "    </tr>\n",
       "  </thead>\n",
       "  <tbody>\n",
       "    <tr>\n",
       "      <th>ENSG00000000419</th>\n",
       "      <td>2</td>\n",
       "      <td>2</td>\n",
       "    </tr>\n",
       "    <tr>\n",
       "      <th>ENSG00000000938</th>\n",
       "      <td>5</td>\n",
       "      <td>4</td>\n",
       "    </tr>\n",
       "    <tr>\n",
       "      <th>ENSG00000000971</th>\n",
       "      <td>12</td>\n",
       "      <td>12</td>\n",
       "    </tr>\n",
       "    <tr>\n",
       "      <th>ENSG00000001084</th>\n",
       "      <td>23</td>\n",
       "      <td>23</td>\n",
       "    </tr>\n",
       "    <tr>\n",
       "      <th>ENSG00000001167</th>\n",
       "      <td>14</td>\n",
       "      <td>13</td>\n",
       "    </tr>\n",
       "  </tbody>\n",
       "</table>\n",
       "</div>"
      ],
      "text/plain": [
       "                 unique_n_snps_in_model  unique_n_snps_used\n",
       "gene_id                                                    \n",
       "ENSG00000000419                       2                   2\n",
       "ENSG00000000938                       5                   4\n",
       "ENSG00000000971                      12                  12\n",
       "ENSG00000001084                      23                  23\n",
       "ENSG00000001167                      14                  13"
      ]
     },
     "execution_count": 136,
     "metadata": {},
     "output_type": "execute_result"
    }
   ],
   "source": [
    "spredixcan_genes_unique_n_snps.head()"
   ]
  },
  {
   "cell_type": "code",
   "execution_count": 137,
   "id": "3d2b6676-2168-44b8-8d02-d29b934ba2ec",
   "metadata": {
    "execution": {
     "iopub.execute_input": "2022-08-30T19:28:05.478515Z",
     "iopub.status.busy": "2022-08-30T19:28:05.478324Z",
     "iopub.status.idle": "2022-08-30T19:28:05.492270Z",
     "shell.execute_reply": "2022-08-30T19:28:05.491792Z"
    },
    "papermill": {
     "duration": 0.044549,
     "end_time": "2022-08-30T19:28:05.493798",
     "exception": false,
     "start_time": "2022-08-30T19:28:05.449249",
     "status": "completed"
    },
    "tags": []
   },
   "outputs": [],
   "source": [
    "assert (\n",
    "    spredixcan_genes_unique_n_snps[\"unique_n_snps_in_model\"]\n",
    "    >= spredixcan_genes_unique_n_snps[\"unique_n_snps_used\"]\n",
    ").all()"
   ]
  },
  {
   "cell_type": "code",
   "execution_count": 138,
   "id": "6accf2fe-93fe-4f7c-86ff-5f0ea3d17e11",
   "metadata": {
    "execution": {
     "iopub.execute_input": "2022-08-30T19:28:05.551486Z",
     "iopub.status.busy": "2022-08-30T19:28:05.551296Z",
     "iopub.status.idle": "2022-08-30T19:28:05.568131Z",
     "shell.execute_reply": "2022-08-30T19:28:05.567651Z"
    },
    "papermill": {
     "duration": 0.047747,
     "end_time": "2022-08-30T19:28:05.569652",
     "exception": false,
     "start_time": "2022-08-30T19:28:05.521905",
     "status": "completed"
    },
    "tags": []
   },
   "outputs": [],
   "source": [
    "# add unique snps to spredixcan_genes_models\n",
    "spredixcan_genes_models = spredixcan_genes_models.join(spredixcan_genes_unique_n_snps)"
   ]
  },
  {
   "cell_type": "code",
   "execution_count": 139,
   "id": "25a28358-843b-4421-9d8f-8edc41f016e3",
   "metadata": {
    "execution": {
     "iopub.execute_input": "2022-08-30T19:28:05.627053Z",
     "iopub.status.busy": "2022-08-30T19:28:05.626854Z",
     "iopub.status.idle": "2022-08-30T19:28:05.642416Z",
     "shell.execute_reply": "2022-08-30T19:28:05.641916Z"
    },
    "papermill": {
     "duration": 0.04609,
     "end_time": "2022-08-30T19:28:05.643907",
     "exception": false,
     "start_time": "2022-08-30T19:28:05.597817",
     "status": "completed"
    },
    "tags": []
   },
   "outputs": [
    {
     "data": {
      "text/plain": [
       "(6425, 9)"
      ]
     },
     "execution_count": 139,
     "metadata": {},
     "output_type": "execute_result"
    }
   ],
   "source": [
    "spredixcan_genes_models.shape"
   ]
  },
  {
   "cell_type": "code",
   "execution_count": 140,
   "id": "ae4f0cd6-a823-4f55-82cf-1a78f0392acf",
   "metadata": {
    "execution": {
     "iopub.execute_input": "2022-08-30T19:28:05.704202Z",
     "iopub.status.busy": "2022-08-30T19:28:05.703973Z",
     "iopub.status.idle": "2022-08-30T19:28:05.730951Z",
     "shell.execute_reply": "2022-08-30T19:28:05.730464Z"
    },
    "papermill": {
     "duration": 0.05932,
     "end_time": "2022-08-30T19:28:05.732362",
     "exception": false,
     "start_time": "2022-08-30T19:28:05.673042",
     "status": "completed"
    },
    "tags": []
   },
   "outputs": [
    {
     "data": {
      "text/html": [
       "<div>\n",
       "<style scoped>\n",
       "    .dataframe tbody tr th:only-of-type {\n",
       "        vertical-align: middle;\n",
       "    }\n",
       "\n",
       "    .dataframe tbody tr th {\n",
       "        vertical-align: top;\n",
       "    }\n",
       "\n",
       "    .dataframe thead th {\n",
       "        text-align: right;\n",
       "    }\n",
       "</style>\n",
       "<table border=\"1\" class=\"dataframe\">\n",
       "  <thead>\n",
       "    <tr style=\"text-align: right;\">\n",
       "      <th></th>\n",
       "      <th>gene_name</th>\n",
       "      <th>tissue</th>\n",
       "      <th>n_tissues</th>\n",
       "      <th>tissues_pc_variances</th>\n",
       "      <th>tissues_variances</th>\n",
       "      <th>n_snps_used_sum</th>\n",
       "      <th>n_snps_in_model_sum</th>\n",
       "      <th>unique_n_snps_in_model</th>\n",
       "      <th>unique_n_snps_used</th>\n",
       "    </tr>\n",
       "    <tr>\n",
       "      <th>gene_id</th>\n",
       "      <th></th>\n",
       "      <th></th>\n",
       "      <th></th>\n",
       "      <th></th>\n",
       "      <th></th>\n",
       "      <th></th>\n",
       "      <th></th>\n",
       "      <th></th>\n",
       "      <th></th>\n",
       "    </tr>\n",
       "  </thead>\n",
       "  <tbody>\n",
       "    <tr>\n",
       "      <th>ENSG00000000419</th>\n",
       "      <td>DPM1</td>\n",
       "      <td>(Brain_Hypothalamus, Brain_Substantia_nigra)</td>\n",
       "      <td>2</td>\n",
       "      <td>[1.0442398458252409, 0.9557601541747592]</td>\n",
       "      <td>{'Brain_Hypothalamus': 0.013162153504206677, '...</td>\n",
       "      <td>2</td>\n",
       "      <td>2</td>\n",
       "      <td>2</td>\n",
       "      <td>2</td>\n",
       "    </tr>\n",
       "    <tr>\n",
       "      <th>ENSG00000000938</th>\n",
       "      <td>FGR</td>\n",
       "      <td>(Cells_EBV-transformed_lymphocytes, Brain_Ante...</td>\n",
       "      <td>26</td>\n",
       "      <td>[19.95824749956773, 3.075997027819333, 2.08578...</td>\n",
       "      <td>{'Cells_EBV-transformed_lymphocytes': 0.003438...</td>\n",
       "      <td>28</td>\n",
       "      <td>30</td>\n",
       "      <td>5</td>\n",
       "      <td>4</td>\n",
       "    </tr>\n",
       "    <tr>\n",
       "      <th>ENSG00000000971</th>\n",
       "      <td>CFH</td>\n",
       "      <td>(Artery_Coronary, Brain_Anterior_cingulate_cor...</td>\n",
       "      <td>34</td>\n",
       "      <td>[21.56076992568329, 7.31017098704547, 1.837780...</td>\n",
       "      <td>{'Artery_Coronary': 0.01500190292420916, 'Brai...</td>\n",
       "      <td>44</td>\n",
       "      <td>44</td>\n",
       "      <td>12</td>\n",
       "      <td>12</td>\n",
       "    </tr>\n",
       "    <tr>\n",
       "      <th>ENSG00000001084</th>\n",
       "      <td>GCLC</td>\n",
       "      <td>(Artery_Coronary, Cells_EBV-transformed_lympho...</td>\n",
       "      <td>32</td>\n",
       "      <td>[21.291939080546527, 4.699418748743192, 2.2489...</td>\n",
       "      <td>{'Artery_Coronary': 1.0731972238129593e-06, 'C...</td>\n",
       "      <td>46</td>\n",
       "      <td>46</td>\n",
       "      <td>23</td>\n",
       "      <td>23</td>\n",
       "    </tr>\n",
       "    <tr>\n",
       "      <th>ENSG00000001167</th>\n",
       "      <td>NFYA</td>\n",
       "      <td>(Artery_Coronary, Brain_Anterior_cingulate_cor...</td>\n",
       "      <td>40</td>\n",
       "      <td>[37.33566029549769, 1.3914019604538372]</td>\n",
       "      <td>{'Artery_Coronary': 0.028499385645099656, 'Bra...</td>\n",
       "      <td>47</td>\n",
       "      <td>48</td>\n",
       "      <td>14</td>\n",
       "      <td>13</td>\n",
       "    </tr>\n",
       "  </tbody>\n",
       "</table>\n",
       "</div>"
      ],
      "text/plain": [
       "                gene_name                                             tissue  \\\n",
       "gene_id                                                                        \n",
       "ENSG00000000419      DPM1       (Brain_Hypothalamus, Brain_Substantia_nigra)   \n",
       "ENSG00000000938       FGR  (Cells_EBV-transformed_lymphocytes, Brain_Ante...   \n",
       "ENSG00000000971       CFH  (Artery_Coronary, Brain_Anterior_cingulate_cor...   \n",
       "ENSG00000001084      GCLC  (Artery_Coronary, Cells_EBV-transformed_lympho...   \n",
       "ENSG00000001167      NFYA  (Artery_Coronary, Brain_Anterior_cingulate_cor...   \n",
       "\n",
       "                 n_tissues                               tissues_pc_variances  \\\n",
       "gene_id                                                                         \n",
       "ENSG00000000419          2           [1.0442398458252409, 0.9557601541747592]   \n",
       "ENSG00000000938         26  [19.95824749956773, 3.075997027819333, 2.08578...   \n",
       "ENSG00000000971         34  [21.56076992568329, 7.31017098704547, 1.837780...   \n",
       "ENSG00000001084         32  [21.291939080546527, 4.699418748743192, 2.2489...   \n",
       "ENSG00000001167         40            [37.33566029549769, 1.3914019604538372]   \n",
       "\n",
       "                                                 tissues_variances  \\\n",
       "gene_id                                                              \n",
       "ENSG00000000419  {'Brain_Hypothalamus': 0.013162153504206677, '...   \n",
       "ENSG00000000938  {'Cells_EBV-transformed_lymphocytes': 0.003438...   \n",
       "ENSG00000000971  {'Artery_Coronary': 0.01500190292420916, 'Brai...   \n",
       "ENSG00000001084  {'Artery_Coronary': 1.0731972238129593e-06, 'C...   \n",
       "ENSG00000001167  {'Artery_Coronary': 0.028499385645099656, 'Bra...   \n",
       "\n",
       "                 n_snps_used_sum  n_snps_in_model_sum  unique_n_snps_in_model  \\\n",
       "gene_id                                                                         \n",
       "ENSG00000000419                2                    2                       2   \n",
       "ENSG00000000938               28                   30                       5   \n",
       "ENSG00000000971               44                   44                      12   \n",
       "ENSG00000001084               46                   46                      23   \n",
       "ENSG00000001167               47                   48                      14   \n",
       "\n",
       "                 unique_n_snps_used  \n",
       "gene_id                              \n",
       "ENSG00000000419                   2  \n",
       "ENSG00000000938                   4  \n",
       "ENSG00000000971                  12  \n",
       "ENSG00000001084                  23  \n",
       "ENSG00000001167                  13  "
      ]
     },
     "execution_count": 140,
     "metadata": {},
     "output_type": "execute_result"
    }
   ],
   "source": [
    "spredixcan_genes_models.head()"
   ]
  },
  {
   "cell_type": "markdown",
   "id": "d6947d45-ea78-4c6b-bf71-f7413d1687e3",
   "metadata": {
    "papermill": {
     "duration": 0.028459,
     "end_time": "2022-08-30T19:28:05.789006",
     "exception": false,
     "start_time": "2022-08-30T19:28:05.760547",
     "status": "completed"
    },
    "tags": []
   },
   "source": [
    "### Save"
   ]
  },
  {
   "cell_type": "code",
   "execution_count": 141,
   "id": "ebc3a430-7bd5-4099-8b01-aa77e704e3e7",
   "metadata": {
    "execution": {
     "iopub.execute_input": "2022-08-30T19:28:05.849148Z",
     "iopub.status.busy": "2022-08-30T19:28:05.848942Z",
     "iopub.status.idle": "2022-08-30T19:28:05.864581Z",
     "shell.execute_reply": "2022-08-30T19:28:05.864087Z"
    },
    "papermill": {
     "duration": 0.047897,
     "end_time": "2022-08-30T19:28:05.866262",
     "exception": false,
     "start_time": "2022-08-30T19:28:05.818365",
     "status": "completed"
    },
    "tags": []
   },
   "outputs": [],
   "source": [
    "# this is important, other scripts depend on gene_name to be unique\n",
    "assert spredixcan_genes_models[\"gene_name\"].is_unique"
   ]
  },
  {
   "cell_type": "code",
   "execution_count": 142,
   "id": "e2db5302-3051-4492-97e1-e759d2fb512f",
   "metadata": {
    "execution": {
     "iopub.execute_input": "2022-08-30T19:28:05.928153Z",
     "iopub.status.busy": "2022-08-30T19:28:05.927935Z",
     "iopub.status.idle": "2022-08-30T19:28:05.943985Z",
     "shell.execute_reply": "2022-08-30T19:28:05.943458Z"
    },
    "papermill": {
     "duration": 0.049146,
     "end_time": "2022-08-30T19:28:05.945625",
     "exception": false,
     "start_time": "2022-08-30T19:28:05.896479",
     "status": "completed"
    },
    "tags": []
   },
   "outputs": [],
   "source": [
    "assert not spredixcan_genes_models.isna().any(None)"
   ]
  },
  {
   "cell_type": "code",
   "execution_count": 143,
   "id": "10e19441-8390-4eb1-8da4-24752597bb54",
   "metadata": {
    "execution": {
     "iopub.execute_input": "2022-08-30T19:28:06.007478Z",
     "iopub.status.busy": "2022-08-30T19:28:06.007280Z",
     "iopub.status.idle": "2022-08-30T19:28:06.721445Z",
     "shell.execute_reply": "2022-08-30T19:28:06.720666Z"
    },
    "papermill": {
     "duration": 0.747412,
     "end_time": "2022-08-30T19:28:06.723398",
     "exception": false,
     "start_time": "2022-08-30T19:28:05.975986",
     "status": "completed"
    },
    "tags": []
   },
   "outputs": [],
   "source": [
    "spredixcan_genes_models.to_pickle(OUTPUT_DIR_BASE / \"gene_tissues.pkl\")"
   ]
  },
  {
   "cell_type": "code",
   "execution_count": null,
   "id": "b25e3ead",
   "metadata": {
    "papermill": {
     "duration": 0.028196,
     "end_time": "2022-08-30T19:28:06.781814",
     "exception": false,
     "start_time": "2022-08-30T19:28:06.753618",
     "status": "completed"
    },
    "tags": []
   },
   "outputs": [],
   "source": []
  }
 ],
 "metadata": {
  "jupytext": {
   "cell_metadata_filter": "all,-execution,-papermill,-trusted",
   "formats": "ipynb,py//py:percent"
  },
  "kernelspec": {
   "display_name": "Python 3 (ipykernel)",
   "language": "python",
   "name": "python3"
  },
  "language_info": {
   "codemirror_mode": {
    "name": "ipython",
    "version": 3
   },
   "file_extension": ".py",
   "mimetype": "text/x-python",
   "name": "python",
   "nbconvert_exporter": "python",
   "pygments_lexer": "ipython3",
   "version": "3.8.13"
  },
  "papermill": {
   "default_parameters": {},
   "duration": 9885.705079,
   "end_time": "2022-08-30T19:28:09.435121",
   "environment_variables": {},
   "exception": null,
   "input_path": "nbs/15_gsa_gls/07-compile_gwas_snps_and_twas_genes.ipynb",
   "output_path": "nbs/15_gsa_gls/gene_corrs/cohorts/emerge/gtex_v8/mashr/07-compile_gwas_snps_and_twas_genes.run.ipynb",
   "parameters": {
    "COHORT_NAME": "emerge",
    "EQTL_MODEL": "MASHR",
    "GWAS_FILE": "/project/ritchie20/projects/phenoplier/base/data/emerge/gwas/EUR_411.3_imputed.txt.gz",
    "REFERENCE_PANEL": "GTEX_V8",
    "SMULTIXCAN_FILE": "/project/ritchie20/projects/phenoplier/base/data/emerge/smultixcan/eMERGE_III_smultixcan_mashr_eqtl_EUR_411.3.txt",
    "SPREDIXCAN_FILE_PATTERN": "eMERGE_III_spredixcan_mashr_eqtl_EUR_411.3_{tissue}.csv",
    "SPREDIXCAN_FOLDER": "/project/ritchie20/projects/phenoplier/base/data/emerge/spredixcan/EUR_411.3/"
   },
   "start_time": "2022-08-30T16:43:23.730042",
   "version": "2.2.2"
  },
  "toc-autonumbering": true
 },
 "nbformat": 4,
 "nbformat_minor": 5
}
