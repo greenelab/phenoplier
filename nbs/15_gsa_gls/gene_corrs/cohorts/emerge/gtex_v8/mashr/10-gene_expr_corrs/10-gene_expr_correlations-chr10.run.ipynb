{
 "cells": [
  {
   "cell_type": "markdown",
   "id": "7a6632fb",
   "metadata": {
    "papermill": {
     "duration": 0.020266,
     "end_time": "2022-08-30T16:51:35.916162",
     "exception": false,
     "start_time": "2022-08-30T16:51:35.895896",
     "status": "completed"
    },
    "tags": []
   },
   "source": [
    "# Description"
   ]
  },
  {
   "cell_type": "markdown",
   "id": "7097c346",
   "metadata": {
    "papermill": {
     "duration": 0.016005,
     "end_time": "2022-08-30T16:51:35.949284",
     "exception": false,
     "start_time": "2022-08-30T16:51:35.933279",
     "status": "completed"
    },
    "tags": []
   },
   "source": [
    "(Please, take a look at the README.md file in this directory for instructions on how to run this notebook)\n",
    "\n",
    "This notebook computes predicted expression correlations between all genes in the MultiPLIER models.\n",
    "\n",
    "It also has a parameter set for papermill to run on a single chromosome to run in parallel (see under `Settings` below).\n",
    "\n",
    "This notebook is not directly run. See README.md."
   ]
  },
  {
   "cell_type": "markdown",
   "id": "c61d8427",
   "metadata": {
    "papermill": {
     "duration": 0.014939,
     "end_time": "2022-08-30T16:51:35.980280",
     "exception": false,
     "start_time": "2022-08-30T16:51:35.965341",
     "status": "completed"
    },
    "tags": []
   },
   "source": [
    "# Modules"
   ]
  },
  {
   "cell_type": "code",
   "execution_count": 1,
   "id": "bbc0234f",
   "metadata": {
    "execution": {
     "iopub.execute_input": "2022-08-30T16:51:36.010584Z",
     "iopub.status.busy": "2022-08-30T16:51:36.010207Z",
     "iopub.status.idle": "2022-08-30T16:51:36.040360Z",
     "shell.execute_reply": "2022-08-30T16:51:36.039546Z"
    },
    "papermill": {
     "duration": 0.048283,
     "end_time": "2022-08-30T16:51:36.042917",
     "exception": false,
     "start_time": "2022-08-30T16:51:35.994634",
     "status": "completed"
    },
    "tags": []
   },
   "outputs": [],
   "source": [
    "%load_ext autoreload\n",
    "%autoreload 2"
   ]
  },
  {
   "cell_type": "code",
   "execution_count": 2,
   "id": "1d5f5a59",
   "metadata": {
    "execution": {
     "iopub.execute_input": "2022-08-30T16:51:36.069879Z",
     "iopub.status.busy": "2022-08-30T16:51:36.069588Z",
     "iopub.status.idle": "2022-08-30T16:51:39.510678Z",
     "shell.execute_reply": "2022-08-30T16:51:39.510125Z"
    },
    "papermill": {
     "duration": 3.457062,
     "end_time": "2022-08-30T16:51:39.512561",
     "exception": false,
     "start_time": "2022-08-30T16:51:36.055499",
     "status": "completed"
    },
    "tags": []
   },
   "outputs": [],
   "source": [
    "from random import sample, seed\n",
    "import warnings\n",
    "from pathlib import Path\n",
    "import pickle\n",
    "import traceback\n",
    "\n",
    "import numpy as np\n",
    "from scipy.spatial.distance import squareform\n",
    "import pandas as pd\n",
    "from tqdm import tqdm\n",
    "import matplotlib.pyplot as plt\n",
    "import seaborn as sns\n",
    "\n",
    "import conf\n",
    "from entity import Gene"
   ]
  },
  {
   "cell_type": "markdown",
   "id": "1eac24b5",
   "metadata": {
    "papermill": {
     "duration": 0.03919,
     "end_time": "2022-08-30T16:51:39.561257",
     "exception": false,
     "start_time": "2022-08-30T16:51:39.522067",
     "status": "completed"
    },
    "tags": []
   },
   "source": [
    "# Settings"
   ]
  },
  {
   "cell_type": "code",
   "execution_count": 3,
   "id": "ca4560ba",
   "metadata": {
    "execution": {
     "iopub.execute_input": "2022-08-30T16:51:39.581892Z",
     "iopub.status.busy": "2022-08-30T16:51:39.581649Z",
     "iopub.status.idle": "2022-08-30T16:51:39.601389Z",
     "shell.execute_reply": "2022-08-30T16:51:39.600814Z"
    },
    "papermill": {
     "duration": 0.032385,
     "end_time": "2022-08-30T16:51:39.602767",
     "exception": false,
     "start_time": "2022-08-30T16:51:39.570382",
     "status": "completed"
    },
    "tags": [
     "parameters"
    ]
   },
   "outputs": [],
   "source": [
    "# a cohort name (it could be something like UK_BIOBANK, etc)\n",
    "COHORT_NAME = None\n",
    "\n",
    "# reference panel such as 1000G or GTEX_V8\n",
    "REFERENCE_PANEL = None\n",
    "\n",
    "# predictions models such as MASHR or ELASTIC_NET\n",
    "EQTL_MODEL = None\n",
    "\n",
    "# this is the default value used in S-MultiXcan to select the\n",
    "# top principal components of the expression correlation matrix\n",
    "SMULTIXCAN_CONDITION_NUMBER = 30\n",
    "\n",
    "# specifies a single chromosome value\n",
    "CHROMOSOME = None\n",
    "\n",
    "# If True, computes the correlation between closeby genes only;\n",
    "# otherwise, it computes correlations for all genes in a chromosome\n",
    "COMPUTE_CORRELATIONS_WITHIN_DISTANCE = False\n",
    "\n",
    "# if True, then it will continue if a gene pair correlation fails,\n",
    "# printing the warning/error for debugging. If False, any warning/error\n",
    "# will be thrown\n",
    "DEBUG_MODE = False"
   ]
  },
  {
   "cell_type": "code",
   "execution_count": 4,
   "id": "43645246",
   "metadata": {
    "execution": {
     "iopub.execute_input": "2022-08-30T16:51:39.619951Z",
     "iopub.status.busy": "2022-08-30T16:51:39.619779Z",
     "iopub.status.idle": "2022-08-30T16:51:39.637483Z",
     "shell.execute_reply": "2022-08-30T16:51:39.637107Z"
    },
    "papermill": {
     "duration": 0.028136,
     "end_time": "2022-08-30T16:51:39.638813",
     "exception": false,
     "start_time": "2022-08-30T16:51:39.610677",
     "status": "completed"
    },
    "tags": [
     "injected-parameters"
    ]
   },
   "outputs": [],
   "source": [
    "# Parameters\n",
    "COHORT_NAME = \"emerge\"\n",
    "REFERENCE_PANEL = \"GTEX_V8\"\n",
    "EQTL_MODEL = \"MASHR\"\n",
    "CHROMOSOME = 10\n"
   ]
  },
  {
   "cell_type": "code",
   "execution_count": 5,
   "id": "3190631f-27fc-480f-b18e-571d580425a5",
   "metadata": {
    "execution": {
     "iopub.execute_input": "2022-08-30T16:51:39.655967Z",
     "iopub.status.busy": "2022-08-30T16:51:39.655796Z",
     "iopub.status.idle": "2022-08-30T16:51:39.675671Z",
     "shell.execute_reply": "2022-08-30T16:51:39.674971Z"
    },
    "papermill": {
     "duration": 0.029884,
     "end_time": "2022-08-30T16:51:39.676996",
     "exception": false,
     "start_time": "2022-08-30T16:51:39.647112",
     "status": "completed"
    },
    "tags": []
   },
   "outputs": [
    {
     "data": {
      "text/plain": [
       "'Cohort name: emerge'"
      ]
     },
     "metadata": {},
     "output_type": "display_data"
    }
   ],
   "source": [
    "assert COHORT_NAME is not None and len(COHORT_NAME) > 0, \"A cohort name must be given\"\n",
    "\n",
    "COHORT_NAME = COHORT_NAME.lower()\n",
    "display(f\"Cohort name: {COHORT_NAME}\")"
   ]
  },
  {
   "cell_type": "code",
   "execution_count": 6,
   "id": "f53ba19b-0f93-4fa2-a047-63b375939d1a",
   "metadata": {
    "execution": {
     "iopub.execute_input": "2022-08-30T16:51:39.696675Z",
     "iopub.status.busy": "2022-08-30T16:51:39.696498Z",
     "iopub.status.idle": "2022-08-30T16:51:39.714484Z",
     "shell.execute_reply": "2022-08-30T16:51:39.713848Z"
    },
    "papermill": {
     "duration": 0.030744,
     "end_time": "2022-08-30T16:51:39.715800",
     "exception": false,
     "start_time": "2022-08-30T16:51:39.685056",
     "status": "completed"
    },
    "tags": []
   },
   "outputs": [
    {
     "data": {
      "text/plain": [
       "'Reference panel: GTEX_V8'"
      ]
     },
     "metadata": {},
     "output_type": "display_data"
    }
   ],
   "source": [
    "assert (\n",
    "    REFERENCE_PANEL is not None and len(REFERENCE_PANEL) > 0\n",
    "), \"A reference panel must be given\"\n",
    "\n",
    "display(f\"Reference panel: {REFERENCE_PANEL}\")"
   ]
  },
  {
   "cell_type": "code",
   "execution_count": 7,
   "id": "e024d130-c139-429a-9c6e-ccf149e297b0",
   "metadata": {
    "execution": {
     "iopub.execute_input": "2022-08-30T16:51:39.732969Z",
     "iopub.status.busy": "2022-08-30T16:51:39.732806Z",
     "iopub.status.idle": "2022-08-30T16:51:39.750527Z",
     "shell.execute_reply": "2022-08-30T16:51:39.749993Z"
    },
    "papermill": {
     "duration": 0.027893,
     "end_time": "2022-08-30T16:51:39.751811",
     "exception": false,
     "start_time": "2022-08-30T16:51:39.723918",
     "status": "completed"
    },
    "tags": []
   },
   "outputs": [
    {
     "data": {
      "text/plain": [
       "'eQTL model: MASHR) / mashr_'"
      ]
     },
     "metadata": {},
     "output_type": "display_data"
    }
   ],
   "source": [
    "assert (\n",
    "    EQTL_MODEL is not None and len(EQTL_MODEL) > 0\n",
    "), \"A prediction/eQTL model must be given\"\n",
    "\n",
    "EQTL_MODEL_FILES_PREFIX = conf.PHENOMEXCAN[\"PREDICTION_MODELS\"][f\"{EQTL_MODEL}_PREFIX\"]\n",
    "display(f\"eQTL model: {EQTL_MODEL}) / {EQTL_MODEL_FILES_PREFIX}\")"
   ]
  },
  {
   "cell_type": "code",
   "execution_count": 8,
   "id": "552a7f63-a18c-4d3e-bb6a-94f99b431291",
   "metadata": {
    "execution": {
     "iopub.execute_input": "2022-08-30T16:51:39.771061Z",
     "iopub.status.busy": "2022-08-30T16:51:39.770899Z",
     "iopub.status.idle": "2022-08-30T16:51:39.788139Z",
     "shell.execute_reply": "2022-08-30T16:51:39.787696Z"
    },
    "papermill": {
     "duration": 0.028574,
     "end_time": "2022-08-30T16:51:39.789411",
     "exception": false,
     "start_time": "2022-08-30T16:51:39.760837",
     "status": "completed"
    },
    "tags": []
   },
   "outputs": [
    {
     "data": {
      "text/plain": [
       "'S-MultiXcan condition number: 30'"
      ]
     },
     "metadata": {},
     "output_type": "display_data"
    }
   ],
   "source": [
    "assert (\n",
    "    SMULTIXCAN_CONDITION_NUMBER is not None and SMULTIXCAN_CONDITION_NUMBER > 0\n",
    "), \"The S-MultiXcan condition number (positive integer) must be given\"\n",
    "\n",
    "display(f\"S-MultiXcan condition number: {SMULTIXCAN_CONDITION_NUMBER}\")"
   ]
  },
  {
   "cell_type": "code",
   "execution_count": 9,
   "id": "f34a336f-548e-4afe-8955-90eaea4f42c6",
   "metadata": {
    "execution": {
     "iopub.execute_input": "2022-08-30T16:51:39.805757Z",
     "iopub.status.busy": "2022-08-30T16:51:39.805599Z",
     "iopub.status.idle": "2022-08-30T16:51:39.822719Z",
     "shell.execute_reply": "2022-08-30T16:51:39.822096Z"
    },
    "papermill": {
     "duration": 0.026957,
     "end_time": "2022-08-30T16:51:39.823995",
     "exception": false,
     "start_time": "2022-08-30T16:51:39.797038",
     "status": "completed"
    },
    "tags": []
   },
   "outputs": [
    {
     "data": {
      "text/plain": [
       "'Working on chromosome 10'"
      ]
     },
     "metadata": {},
     "output_type": "display_data"
    }
   ],
   "source": [
    "assert CHROMOSOME is not None and (\n",
    "    1 <= CHROMOSOME <= 22\n",
    "), \"You have to select one chromosome (format: number between 1 and 22)\"\n",
    "\n",
    "# CHROMOSOME = str(CHROMOSOME)\n",
    "display(f\"Working on chromosome {CHROMOSOME}\")"
   ]
  },
  {
   "cell_type": "code",
   "execution_count": 10,
   "id": "ab8e96e8-06b5-4363-9dcd-dc4d78cc27f7",
   "metadata": {
    "execution": {
     "iopub.execute_input": "2022-08-30T16:51:39.843909Z",
     "iopub.status.busy": "2022-08-30T16:51:39.843746Z",
     "iopub.status.idle": "2022-08-30T16:51:39.861527Z",
     "shell.execute_reply": "2022-08-30T16:51:39.860908Z"
    },
    "papermill": {
     "duration": 0.029572,
     "end_time": "2022-08-30T16:51:39.862829",
     "exception": false,
     "start_time": "2022-08-30T16:51:39.833257",
     "status": "completed"
    },
    "tags": []
   },
   "outputs": [
    {
     "data": {
      "text/plain": [
       "'Compute correlation within distance False'"
      ]
     },
     "metadata": {},
     "output_type": "display_data"
    }
   ],
   "source": [
    "display(f\"Compute correlation within distance {COMPUTE_CORRELATIONS_WITHIN_DISTANCE}\")"
   ]
  },
  {
   "cell_type": "code",
   "execution_count": 11,
   "id": "396392dc-0340-4540-9b02-e182b833f909",
   "metadata": {
    "execution": {
     "iopub.execute_input": "2022-08-30T16:51:39.880267Z",
     "iopub.status.busy": "2022-08-30T16:51:39.880085Z",
     "iopub.status.idle": "2022-08-30T16:51:39.901716Z",
     "shell.execute_reply": "2022-08-30T16:51:39.901066Z"
    },
    "papermill": {
     "duration": 0.031901,
     "end_time": "2022-08-30T16:51:39.903054",
     "exception": false,
     "start_time": "2022-08-30T16:51:39.871153",
     "status": "completed"
    },
    "tags": []
   },
   "outputs": [
    {
     "data": {
      "text/plain": [
       "'Using output dir base: /project/ritchie20/projects/phenoplier/base/results/gls/gene_corrs/cohorts/emerge/gtex_v8/mashr'"
      ]
     },
     "metadata": {},
     "output_type": "display_data"
    }
   ],
   "source": [
    "OUTPUT_DIR_BASE = (\n",
    "    conf.RESULTS[\"GLS\"]\n",
    "    / \"gene_corrs\"\n",
    "    / \"cohorts\"\n",
    "    / COHORT_NAME\n",
    "    / REFERENCE_PANEL.lower()\n",
    "    / EQTL_MODEL.lower()\n",
    ")\n",
    "OUTPUT_DIR_BASE.mkdir(parents=True, exist_ok=True)\n",
    "\n",
    "display(f\"Using output dir base: {OUTPUT_DIR_BASE}\")"
   ]
  },
  {
   "cell_type": "markdown",
   "id": "d2ba085e",
   "metadata": {
    "papermill": {
     "duration": 0.008274,
     "end_time": "2022-08-30T16:51:39.920739",
     "exception": false,
     "start_time": "2022-08-30T16:51:39.912465",
     "status": "completed"
    },
    "tags": []
   },
   "source": [
    "# Load data"
   ]
  },
  {
   "cell_type": "markdown",
   "id": "7dcb8db7",
   "metadata": {
    "papermill": {
     "duration": 0.009111,
     "end_time": "2022-08-30T16:51:39.938689",
     "exception": false,
     "start_time": "2022-08-30T16:51:39.929578",
     "status": "completed"
    },
    "tags": []
   },
   "source": [
    "## GWAS variants"
   ]
  },
  {
   "cell_type": "code",
   "execution_count": 12,
   "id": "29434c4e-8cd3-4b9b-82e4-b5a251d9dd19",
   "metadata": {
    "execution": {
     "iopub.execute_input": "2022-08-30T16:51:39.957306Z",
     "iopub.status.busy": "2022-08-30T16:51:39.957138Z",
     "iopub.status.idle": "2022-08-30T16:51:42.493587Z",
     "shell.execute_reply": "2022-08-30T16:51:42.492799Z"
    },
    "papermill": {
     "duration": 2.548271,
     "end_time": "2022-08-30T16:51:42.495564",
     "exception": false,
     "start_time": "2022-08-30T16:51:39.947293",
     "status": "completed"
    },
    "tags": []
   },
   "outputs": [],
   "source": [
    "with open(OUTPUT_DIR_BASE / \"gwas_variant_ids.pkl\", \"rb\") as handle:\n",
    "    gwas_variants_ids_set = pickle.load(handle)"
   ]
  },
  {
   "cell_type": "code",
   "execution_count": 13,
   "id": "b9d9dec2-4a76-4bf9-bde2-e24c95acb8a0",
   "metadata": {
    "execution": {
     "iopub.execute_input": "2022-08-30T16:51:42.522555Z",
     "iopub.status.busy": "2022-08-30T16:51:42.522352Z",
     "iopub.status.idle": "2022-08-30T16:51:42.545058Z",
     "shell.execute_reply": "2022-08-30T16:51:42.544674Z"
    },
    "papermill": {
     "duration": 0.037563,
     "end_time": "2022-08-30T16:51:42.546259",
     "exception": false,
     "start_time": "2022-08-30T16:51:42.508696",
     "status": "completed"
    },
    "tags": []
   },
   "outputs": [
    {
     "data": {
      "text/plain": [
       "8376508"
      ]
     },
     "execution_count": 13,
     "metadata": {},
     "output_type": "execute_result"
    }
   ],
   "source": [
    "len(gwas_variants_ids_set)"
   ]
  },
  {
   "cell_type": "code",
   "execution_count": 14,
   "id": "4235b06a-6034-4ee4-a0a3-2ae35d122418",
   "metadata": {
    "execution": {
     "iopub.execute_input": "2022-08-30T16:51:42.568952Z",
     "iopub.status.busy": "2022-08-30T16:51:42.568783Z",
     "iopub.status.idle": "2022-08-30T16:51:43.054030Z",
     "shell.execute_reply": "2022-08-30T16:51:43.053554Z"
    },
    "papermill": {
     "duration": 0.499105,
     "end_time": "2022-08-30T16:51:43.055396",
     "exception": false,
     "start_time": "2022-08-30T16:51:42.556291",
     "status": "completed"
    },
    "tags": []
   },
   "outputs": [
    {
     "data": {
      "text/plain": [
       "['chr3_174140903_T_C_b38',\n",
       " 'chr6_14577828_TC_T_b38',\n",
       " 'chr3_173135216_T_C_b38',\n",
       " 'chr3_59858296_G_A_b38',\n",
       " 'chr14_70065110_A_G_b38']"
      ]
     },
     "execution_count": 14,
     "metadata": {},
     "output_type": "execute_result"
    }
   ],
   "source": [
    "list(gwas_variants_ids_set)[:5]"
   ]
  },
  {
   "cell_type": "markdown",
   "id": "07866999-2305-41f9-a144-e69c9122c212",
   "metadata": {
    "papermill": {
     "duration": 0.010662,
     "end_time": "2022-08-30T16:51:43.076870",
     "exception": false,
     "start_time": "2022-08-30T16:51:43.066208",
     "status": "completed"
    },
    "tags": []
   },
   "source": [
    "## S-PrediXcan tissue models"
   ]
  },
  {
   "cell_type": "code",
   "execution_count": 15,
   "id": "780611d9-77c8-405f-90a4-f271f7b09397",
   "metadata": {
    "execution": {
     "iopub.execute_input": "2022-08-30T16:51:43.097318Z",
     "iopub.status.busy": "2022-08-30T16:51:43.097127Z",
     "iopub.status.idle": "2022-08-30T16:51:43.901313Z",
     "shell.execute_reply": "2022-08-30T16:51:43.900694Z"
    },
    "papermill": {
     "duration": 0.816613,
     "end_time": "2022-08-30T16:51:43.903009",
     "exception": false,
     "start_time": "2022-08-30T16:51:43.086396",
     "status": "completed"
    },
    "tags": []
   },
   "outputs": [],
   "source": [
    "spredixcan_genes_models = pd.read_pickle(OUTPUT_DIR_BASE / \"gene_tissues.pkl\")"
   ]
  },
  {
   "cell_type": "code",
   "execution_count": 16,
   "id": "726dd1f6-9557-4225-91fa-b3b879ea96e1",
   "metadata": {
    "execution": {
     "iopub.execute_input": "2022-08-30T16:51:43.949327Z",
     "iopub.status.busy": "2022-08-30T16:51:43.949034Z",
     "iopub.status.idle": "2022-08-30T16:51:43.977089Z",
     "shell.execute_reply": "2022-08-30T16:51:43.976454Z"
    },
    "papermill": {
     "duration": 0.054181,
     "end_time": "2022-08-30T16:51:43.978811",
     "exception": false,
     "start_time": "2022-08-30T16:51:43.924630",
     "status": "completed"
    },
    "tags": []
   },
   "outputs": [
    {
     "data": {
      "text/plain": [
       "(6425, 3)"
      ]
     },
     "execution_count": 16,
     "metadata": {},
     "output_type": "execute_result"
    }
   ],
   "source": [
    "spredixcan_genes_models.shape"
   ]
  },
  {
   "cell_type": "code",
   "execution_count": 17,
   "id": "944a1b48-222c-4eb0-b252-b9de2cbca215",
   "metadata": {
    "execution": {
     "iopub.execute_input": "2022-08-30T16:51:44.015996Z",
     "iopub.status.busy": "2022-08-30T16:51:44.015748Z",
     "iopub.status.idle": "2022-08-30T16:51:44.061279Z",
     "shell.execute_reply": "2022-08-30T16:51:44.060465Z"
    },
    "papermill": {
     "duration": 0.066031,
     "end_time": "2022-08-30T16:51:44.063141",
     "exception": false,
     "start_time": "2022-08-30T16:51:43.997110",
     "status": "completed"
    },
    "tags": []
   },
   "outputs": [
    {
     "data": {
      "text/html": [
       "<div>\n",
       "<style scoped>\n",
       "    .dataframe tbody tr th:only-of-type {\n",
       "        vertical-align: middle;\n",
       "    }\n",
       "\n",
       "    .dataframe tbody tr th {\n",
       "        vertical-align: top;\n",
       "    }\n",
       "\n",
       "    .dataframe thead th {\n",
       "        text-align: right;\n",
       "    }\n",
       "</style>\n",
       "<table border=\"1\" class=\"dataframe\">\n",
       "  <thead>\n",
       "    <tr style=\"text-align: right;\">\n",
       "      <th></th>\n",
       "      <th>gene_name</th>\n",
       "      <th>tissue</th>\n",
       "      <th>n_tissues</th>\n",
       "    </tr>\n",
       "    <tr>\n",
       "      <th>gene_id</th>\n",
       "      <th></th>\n",
       "      <th></th>\n",
       "      <th></th>\n",
       "    </tr>\n",
       "  </thead>\n",
       "  <tbody>\n",
       "    <tr>\n",
       "      <th>ENSG00000000419</th>\n",
       "      <td>DPM1</td>\n",
       "      <td>(Brain_Substantia_nigra, Brain_Hypothalamus)</td>\n",
       "      <td>2</td>\n",
       "    </tr>\n",
       "    <tr>\n",
       "      <th>ENSG00000000938</th>\n",
       "      <td>FGR</td>\n",
       "      <td>(Whole_Blood, Pituitary, Thyroid, Breast_Mamma...</td>\n",
       "      <td>26</td>\n",
       "    </tr>\n",
       "    <tr>\n",
       "      <th>ENSG00000000971</th>\n",
       "      <td>CFH</td>\n",
       "      <td>(Uterus, Skin_Sun_Exposed_Lower_leg, Esophagus...</td>\n",
       "      <td>34</td>\n",
       "    </tr>\n",
       "    <tr>\n",
       "      <th>ENSG00000001084</th>\n",
       "      <td>GCLC</td>\n",
       "      <td>(Skin_Sun_Exposed_Lower_leg, Lung, Adipose_Sub...</td>\n",
       "      <td>32</td>\n",
       "    </tr>\n",
       "    <tr>\n",
       "      <th>ENSG00000001167</th>\n",
       "      <td>NFYA</td>\n",
       "      <td>(Brain_Hypothalamus, Skin_Sun_Exposed_Lower_le...</td>\n",
       "      <td>40</td>\n",
       "    </tr>\n",
       "  </tbody>\n",
       "</table>\n",
       "</div>"
      ],
      "text/plain": [
       "                gene_name                                             tissue  \\\n",
       "gene_id                                                                        \n",
       "ENSG00000000419      DPM1       (Brain_Substantia_nigra, Brain_Hypothalamus)   \n",
       "ENSG00000000938       FGR  (Whole_Blood, Pituitary, Thyroid, Breast_Mamma...   \n",
       "ENSG00000000971       CFH  (Uterus, Skin_Sun_Exposed_Lower_leg, Esophagus...   \n",
       "ENSG00000001084      GCLC  (Skin_Sun_Exposed_Lower_leg, Lung, Adipose_Sub...   \n",
       "ENSG00000001167      NFYA  (Brain_Hypothalamus, Skin_Sun_Exposed_Lower_le...   \n",
       "\n",
       "                 n_tissues  \n",
       "gene_id                     \n",
       "ENSG00000000419          2  \n",
       "ENSG00000000938         26  \n",
       "ENSG00000000971         34  \n",
       "ENSG00000001084         32  \n",
       "ENSG00000001167         40  "
      ]
     },
     "execution_count": 17,
     "metadata": {},
     "output_type": "execute_result"
    }
   ],
   "source": [
    "spredixcan_genes_models.head()"
   ]
  },
  {
   "cell_type": "code",
   "execution_count": 18,
   "id": "d1c11bb1-be0b-4f40-b360-633d6827109f",
   "metadata": {
    "execution": {
     "iopub.execute_input": "2022-08-30T16:51:44.093408Z",
     "iopub.status.busy": "2022-08-30T16:51:44.093157Z",
     "iopub.status.idle": "2022-08-30T16:51:44.118144Z",
     "shell.execute_reply": "2022-08-30T16:51:44.117582Z"
    },
    "papermill": {
     "duration": 0.044023,
     "end_time": "2022-08-30T16:51:44.119966",
     "exception": false,
     "start_time": "2022-08-30T16:51:44.075943",
     "status": "completed"
    },
    "tags": []
   },
   "outputs": [],
   "source": [
    "assert spredixcan_genes_models.index.is_unique"
   ]
  },
  {
   "cell_type": "markdown",
   "id": "a5b5092c-a13e-47c4-a92a-480fcc08f3ae",
   "metadata": {
    "papermill": {
     "duration": 0.014337,
     "end_time": "2022-08-30T16:51:44.149038",
     "exception": false,
     "start_time": "2022-08-30T16:51:44.134701",
     "status": "completed"
    },
    "tags": []
   },
   "source": [
    "## Gene info"
   ]
  },
  {
   "cell_type": "code",
   "execution_count": 19,
   "id": "7d6bb224-88e9-4358-ac10-43a41d92cdad",
   "metadata": {
    "execution": {
     "iopub.execute_input": "2022-08-30T16:51:44.186101Z",
     "iopub.status.busy": "2022-08-30T16:51:44.185848Z",
     "iopub.status.idle": "2022-08-30T16:51:44.223299Z",
     "shell.execute_reply": "2022-08-30T16:51:44.222627Z"
    },
    "papermill": {
     "duration": 0.060172,
     "end_time": "2022-08-30T16:51:44.225239",
     "exception": false,
     "start_time": "2022-08-30T16:51:44.165067",
     "status": "completed"
    },
    "tags": []
   },
   "outputs": [],
   "source": [
    "genes_info = pd.read_pickle(OUTPUT_DIR_BASE / \"genes_info.pkl\")"
   ]
  },
  {
   "cell_type": "code",
   "execution_count": 20,
   "id": "9e32abfa-546d-483e-8c18-d526e9e05903",
   "metadata": {
    "execution": {
     "iopub.execute_input": "2022-08-30T16:51:44.261257Z",
     "iopub.status.busy": "2022-08-30T16:51:44.260997Z",
     "iopub.status.idle": "2022-08-30T16:51:44.288399Z",
     "shell.execute_reply": "2022-08-30T16:51:44.287600Z"
    },
    "papermill": {
     "duration": 0.049643,
     "end_time": "2022-08-30T16:51:44.290311",
     "exception": false,
     "start_time": "2022-08-30T16:51:44.240668",
     "status": "completed"
    },
    "tags": []
   },
   "outputs": [
    {
     "data": {
      "text/plain": [
       "(6425, 7)"
      ]
     },
     "execution_count": 20,
     "metadata": {},
     "output_type": "execute_result"
    }
   ],
   "source": [
    "genes_info.shape"
   ]
  },
  {
   "cell_type": "code",
   "execution_count": 21,
   "id": "d16c3e92-85ec-468a-9a56-e25a9774a1cb",
   "metadata": {
    "execution": {
     "iopub.execute_input": "2022-08-30T16:51:44.333452Z",
     "iopub.status.busy": "2022-08-30T16:51:44.333209Z",
     "iopub.status.idle": "2022-08-30T16:51:44.363526Z",
     "shell.execute_reply": "2022-08-30T16:51:44.362826Z"
    },
    "papermill": {
     "duration": 0.050076,
     "end_time": "2022-08-30T16:51:44.365140",
     "exception": false,
     "start_time": "2022-08-30T16:51:44.315064",
     "status": "completed"
    },
    "tags": []
   },
   "outputs": [
    {
     "data": {
      "text/html": [
       "<div>\n",
       "<style scoped>\n",
       "    .dataframe tbody tr th:only-of-type {\n",
       "        vertical-align: middle;\n",
       "    }\n",
       "\n",
       "    .dataframe tbody tr th {\n",
       "        vertical-align: top;\n",
       "    }\n",
       "\n",
       "    .dataframe thead th {\n",
       "        text-align: right;\n",
       "    }\n",
       "</style>\n",
       "<table border=\"1\" class=\"dataframe\">\n",
       "  <thead>\n",
       "    <tr style=\"text-align: right;\">\n",
       "      <th></th>\n",
       "      <th>name</th>\n",
       "      <th>id</th>\n",
       "      <th>chr</th>\n",
       "      <th>band</th>\n",
       "      <th>start_position</th>\n",
       "      <th>end_position</th>\n",
       "      <th>gene_length</th>\n",
       "    </tr>\n",
       "  </thead>\n",
       "  <tbody>\n",
       "    <tr>\n",
       "      <th>0</th>\n",
       "      <td>ADAMTS14</td>\n",
       "      <td>ENSG00000138316</td>\n",
       "      <td>10</td>\n",
       "      <td>10q22.1</td>\n",
       "      <td>70672506</td>\n",
       "      <td>70762441</td>\n",
       "      <td>89935</td>\n",
       "    </tr>\n",
       "    <tr>\n",
       "      <th>1</th>\n",
       "      <td>TXN</td>\n",
       "      <td>ENSG00000136810</td>\n",
       "      <td>9</td>\n",
       "      <td>9q31.3</td>\n",
       "      <td>110243810</td>\n",
       "      <td>110256507</td>\n",
       "      <td>12697</td>\n",
       "    </tr>\n",
       "    <tr>\n",
       "      <th>2</th>\n",
       "      <td>RMI1</td>\n",
       "      <td>ENSG00000178966</td>\n",
       "      <td>9</td>\n",
       "      <td>9q21.32</td>\n",
       "      <td>83980711</td>\n",
       "      <td>84004074</td>\n",
       "      <td>23363</td>\n",
       "    </tr>\n",
       "    <tr>\n",
       "      <th>3</th>\n",
       "      <td>DHX58</td>\n",
       "      <td>ENSG00000108771</td>\n",
       "      <td>17</td>\n",
       "      <td>17q21.2</td>\n",
       "      <td>42101404</td>\n",
       "      <td>42112714</td>\n",
       "      <td>11310</td>\n",
       "    </tr>\n",
       "    <tr>\n",
       "      <th>4</th>\n",
       "      <td>XRCC4</td>\n",
       "      <td>ENSG00000152422</td>\n",
       "      <td>5</td>\n",
       "      <td>5q14.2</td>\n",
       "      <td>83077498</td>\n",
       "      <td>83353787</td>\n",
       "      <td>276289</td>\n",
       "    </tr>\n",
       "  </tbody>\n",
       "</table>\n",
       "</div>"
      ],
      "text/plain": [
       "       name               id  chr     band  start_position  end_position  \\\n",
       "0  ADAMTS14  ENSG00000138316   10  10q22.1        70672506      70762441   \n",
       "1       TXN  ENSG00000136810    9   9q31.3       110243810     110256507   \n",
       "2      RMI1  ENSG00000178966    9  9q21.32        83980711      84004074   \n",
       "3     DHX58  ENSG00000108771   17  17q21.2        42101404      42112714   \n",
       "4     XRCC4  ENSG00000152422    5   5q14.2        83077498      83353787   \n",
       "\n",
       "   gene_length  \n",
       "0        89935  \n",
       "1        12697  \n",
       "2        23363  \n",
       "3        11310  \n",
       "4       276289  "
      ]
     },
     "execution_count": 21,
     "metadata": {},
     "output_type": "execute_result"
    }
   ],
   "source": [
    "genes_info.head()"
   ]
  },
  {
   "cell_type": "markdown",
   "id": "d3843e06",
   "metadata": {
    "papermill": {
     "duration": 0.015027,
     "end_time": "2022-08-30T16:51:44.399091",
     "exception": false,
     "start_time": "2022-08-30T16:51:44.384064",
     "status": "completed"
    },
    "tags": []
   },
   "source": [
    "# Compute correlations"
   ]
  },
  {
   "cell_type": "code",
   "execution_count": 22,
   "id": "cb859c15-d1f3-4006-a74c-2b83c0db9611",
   "metadata": {
    "execution": {
     "iopub.execute_input": "2022-08-30T16:51:44.437796Z",
     "iopub.status.busy": "2022-08-30T16:51:44.437438Z",
     "iopub.status.idle": "2022-08-30T16:51:44.476633Z",
     "shell.execute_reply": "2022-08-30T16:51:44.475731Z"
    },
    "papermill": {
     "duration": 0.063295,
     "end_time": "2022-08-30T16:51:44.479091",
     "exception": false,
     "start_time": "2022-08-30T16:51:44.415796",
     "status": "completed"
    },
    "tags": []
   },
   "outputs": [
    {
     "data": {
      "text/plain": [
       "PosixPath('/project/ritchie20/projects/phenoplier/base/results/gls/gene_corrs/cohorts/emerge/gtex_v8/mashr/by_chr/gene_corrs-chr10.pkl')"
      ]
     },
     "metadata": {},
     "output_type": "display_data"
    }
   ],
   "source": [
    "output_dir = OUTPUT_DIR_BASE / \"by_chr\"\n",
    "output_dir.mkdir(exist_ok=True, parents=True)\n",
    "output_file = output_dir / f\"gene_corrs-chr{CHROMOSOME}.pkl\"\n",
    "display(output_file)"
   ]
  },
  {
   "cell_type": "code",
   "execution_count": 23,
   "id": "aa674fe4-6794-4eed-98fa-32b39d1d4ace",
   "metadata": {
    "execution": {
     "iopub.execute_input": "2022-08-30T16:51:44.521253Z",
     "iopub.status.busy": "2022-08-30T16:51:44.520941Z",
     "iopub.status.idle": "2022-08-30T16:51:44.550780Z",
     "shell.execute_reply": "2022-08-30T16:51:44.549908Z"
    },
    "papermill": {
     "duration": 0.053721,
     "end_time": "2022-08-30T16:51:44.553046",
     "exception": false,
     "start_time": "2022-08-30T16:51:44.499325",
     "status": "completed"
    },
    "tags": []
   },
   "outputs": [],
   "source": [
    "warnings.filterwarnings(\"error\")"
   ]
  },
  {
   "cell_type": "code",
   "execution_count": 24,
   "id": "44d5450b-3baf-43f1-9e2e-4b06f1a785f8",
   "metadata": {
    "execution": {
     "iopub.execute_input": "2022-08-30T16:51:44.586930Z",
     "iopub.status.busy": "2022-08-30T16:51:44.586647Z",
     "iopub.status.idle": "2022-08-30T16:51:44.614476Z",
     "shell.execute_reply": "2022-08-30T16:51:44.613872Z"
    },
    "papermill": {
     "duration": 0.04656,
     "end_time": "2022-08-30T16:51:44.616556",
     "exception": false,
     "start_time": "2022-08-30T16:51:44.569996",
     "status": "completed"
    },
    "tags": []
   },
   "outputs": [],
   "source": [
    "# standard checks\n",
    "all_chrs = genes_info[\"chr\"].dropna().unique()\n",
    "assert all_chrs.shape[0] == 22\n",
    "\n",
    "# select chromosome given by the user\n",
    "assert CHROMOSOME in all_chrs"
   ]
  },
  {
   "cell_type": "code",
   "execution_count": 25,
   "id": "2d7c043c-92a7-4d35-991b-fa69ac1e0268",
   "metadata": {
    "execution": {
     "iopub.execute_input": "2022-08-30T16:51:44.648046Z",
     "iopub.status.busy": "2022-08-30T16:51:44.647808Z",
     "iopub.status.idle": "2022-08-30T16:51:44.704088Z",
     "shell.execute_reply": "2022-08-30T16:51:44.703247Z"
    },
    "papermill": {
     "duration": 0.076358,
     "end_time": "2022-08-30T16:51:44.706752",
     "exception": false,
     "start_time": "2022-08-30T16:51:44.630394",
     "status": "completed"
    },
    "tags": []
   },
   "outputs": [
    {
     "name": "stdout",
     "output_type": "stream",
     "text": [
      "Number of genes in chromosome: 242\n"
     ]
    }
   ],
   "source": [
    "# run only on the chromosome specified\n",
    "all_chrs = [CHROMOSOME]\n",
    "genes_chr = genes_info[genes_info[\"chr\"] == CHROMOSOME]\n",
    "\n",
    "# For testing purposes\n",
    "# genes_chr = genes_chr.sample(n=20)\n",
    "\n",
    "print(f\"Number of genes in chromosome: {genes_chr.shape[0]}\", flush=True)"
   ]
  },
  {
   "cell_type": "code",
   "execution_count": 26,
   "id": "916015d8-2979-46d3-a9b9-1cf5a0932c6a",
   "metadata": {
    "execution": {
     "iopub.execute_input": "2022-08-30T16:51:44.748076Z",
     "iopub.status.busy": "2022-08-30T16:51:44.747761Z",
     "iopub.status.idle": "2022-08-30T16:51:44.778111Z",
     "shell.execute_reply": "2022-08-30T16:51:44.777264Z"
    },
    "papermill": {
     "duration": 0.054531,
     "end_time": "2022-08-30T16:51:44.780432",
     "exception": false,
     "start_time": "2022-08-30T16:51:44.725901",
     "status": "completed"
    },
    "tags": []
   },
   "outputs": [],
   "source": [
    "# sort genes by starting position to make visualizations better later\n",
    "genes_chr = genes_chr.sort_values(\"start_position\")"
   ]
  },
  {
   "cell_type": "code",
   "execution_count": 27,
   "id": "a38aa74a-8ad3-47f6-8ef9-56be0e011774",
   "metadata": {
    "execution": {
     "iopub.execute_input": "2022-08-30T16:51:44.816310Z",
     "iopub.status.busy": "2022-08-30T16:51:44.816038Z",
     "iopub.status.idle": "2022-08-30T16:51:44.842164Z",
     "shell.execute_reply": "2022-08-30T16:51:44.841405Z"
    },
    "papermill": {
     "duration": 0.044822,
     "end_time": "2022-08-30T16:51:44.844152",
     "exception": false,
     "start_time": "2022-08-30T16:51:44.799330",
     "status": "completed"
    },
    "tags": []
   },
   "outputs": [],
   "source": [
    "gene_chr_objs = [Gene(ensembl_id=gene_id) for gene_id in genes_chr[\"id\"]]"
   ]
  },
  {
   "cell_type": "code",
   "execution_count": 28,
   "id": "570f974f-13c3-42b6-ad3a-ce99ca885c1a",
   "metadata": {
    "execution": {
     "iopub.execute_input": "2022-08-30T16:51:44.876835Z",
     "iopub.status.busy": "2022-08-30T16:51:44.876588Z",
     "iopub.status.idle": "2022-08-30T16:51:44.903000Z",
     "shell.execute_reply": "2022-08-30T16:51:44.902204Z"
    },
    "papermill": {
     "duration": 0.044256,
     "end_time": "2022-08-30T16:51:44.904907",
     "exception": false,
     "start_time": "2022-08-30T16:51:44.860651",
     "status": "completed"
    },
    "tags": []
   },
   "outputs": [
    {
     "name": "stdout",
     "output_type": "stream",
     "text": [
      "Number of gene combinations: 29403\n"
     ]
    }
   ],
   "source": [
    "n = len(gene_chr_objs)\n",
    "# diagonal elements + upper triangular matrix\n",
    "n_comb = n + int(n * (n - 1) / 2.0)\n",
    "print(f\"Number of gene combinations: {n_comb}\", flush=True)"
   ]
  },
  {
   "cell_type": "code",
   "execution_count": 29,
   "id": "cdbb90a1",
   "metadata": {
    "execution": {
     "iopub.execute_input": "2022-08-30T16:51:44.937196Z",
     "iopub.status.busy": "2022-08-30T16:51:44.936947Z",
     "iopub.status.idle": "2022-08-30T17:21:35.071998Z",
     "shell.execute_reply": "2022-08-30T17:21:35.070380Z"
    },
    "papermill": {
     "duration": 1790.15684,
     "end_time": "2022-08-30T17:21:35.076246",
     "exception": false,
     "start_time": "2022-08-30T16:51:44.919406",
     "status": "completed"
    },
    "tags": []
   },
   "outputs": [
    {
     "name": "stderr",
     "output_type": "stream",
     "text": [
      "ENSG00000130649 / ENSG00000130649: 100%|██████████████████████| 29403/29403 [29:49<00:00, 16.43it/s]\n"
     ]
    },
    {
     "data": {
      "text/plain": [
       "PosixPath('/project/ritchie20/projects/phenoplier/base/results/gls/gene_corrs/cohorts/emerge/gtex_v8/mashr/by_chr/gene_corrs-chr10.pkl')"
      ]
     },
     "metadata": {},
     "output_type": "display_data"
    }
   ],
   "source": [
    "gene_corrs = []\n",
    "gene_corrs_data = np.full(\n",
    "    (n, n),\n",
    "    np.nan,\n",
    "    dtype=np.float64,\n",
    ")\n",
    "\n",
    "i = 0\n",
    "with tqdm(ncols=100, total=n_comb) as pbar:\n",
    "    for gene1_idx in range(0, len(gene_chr_objs)):\n",
    "        gene1_obj = gene_chr_objs[gene1_idx]\n",
    "        gene1_tissues = spredixcan_genes_models.loc[gene1_obj.ensembl_id, \"tissue\"]\n",
    "\n",
    "        for gene2_idx in range(gene1_idx, len(gene_chr_objs)):\n",
    "            gene2_obj = gene_chr_objs[gene2_idx]\n",
    "            gene2_tissues = spredixcan_genes_models.loc[gene2_obj.ensembl_id, \"tissue\"]\n",
    "\n",
    "            pbar.set_description(f\"{gene1_obj.ensembl_id} / {gene2_obj.ensembl_id}\")\n",
    "\n",
    "            try:\n",
    "                r = gene1_obj.get_ssm_correlation(\n",
    "                    other_gene=gene2_obj,\n",
    "                    tissues=gene1_tissues,\n",
    "                    other_tissues=gene2_tissues,\n",
    "                    snps_subset=gwas_variants_ids_set,\n",
    "                    condition_number=SMULTIXCAN_CONDITION_NUMBER,\n",
    "                    reference_panel=REFERENCE_PANEL,\n",
    "                    model_type=EQTL_MODEL,\n",
    "                    use_within_distance=COMPUTE_CORRELATIONS_WITHIN_DISTANCE,\n",
    "                )\n",
    "\n",
    "                if r is None:\n",
    "                    # if r is None, it's very likely because:\n",
    "                    #  * one of the genes has no prediction models\n",
    "                    #  * all the SNPs predictors for the gene are not present in the reference\n",
    "                    #    panel\n",
    "\n",
    "                    r = 0.0\n",
    "\n",
    "                gene_corrs.append(r)\n",
    "\n",
    "                gene_corrs_data[gene1_idx, gene2_idx] = r\n",
    "                gene_corrs_data[gene2_idx, gene1_idx] = r\n",
    "            except Warning as e:\n",
    "                if not DEBUG_MODE:\n",
    "                    raise e\n",
    "\n",
    "                print(\n",
    "                    f\"RuntimeWarning for genes {gene1_obj.ensembl_id} and {gene2_obj.ensembl_id}\",\n",
    "                    flush=True,\n",
    "                )\n",
    "                print(traceback.format_exc(), flush=True)\n",
    "\n",
    "                gene_corrs.append(np.nan)\n",
    "            except Exception as e:\n",
    "                if not DEBUG_MODE:\n",
    "                    raise e\n",
    "\n",
    "                print(\n",
    "                    f\"Exception for genes {gene1_obj.ensembl_id} and {gene2_obj.ensembl_id}\",\n",
    "                    flush=True,\n",
    "                )\n",
    "                print(traceback.format_exc(), flush=True)\n",
    "\n",
    "                gene_corrs.append(np.nan)\n",
    "\n",
    "            pbar.update(1)\n",
    "\n",
    "# create a pandas series\n",
    "gene_corrs_flat = pd.Series(gene_corrs)\n",
    "\n",
    "# save\n",
    "# FIXME: consider saving only the condenced matrix here. See here for\n",
    "# more details: https://github.com/greenelab/phenoplier/pull/38#discussion_r634600813\n",
    "# gene_corrs_data = squareform(np.array(gene_corrs, dtype=np.float64))\n",
    "# np.fill_diagonal(gene_corrs_data, 1.0)\n",
    "\n",
    "gene_chr_ids = [g.ensembl_id for g in gene_chr_objs]\n",
    "gene_corrs_df = pd.DataFrame(\n",
    "    data=gene_corrs_data,\n",
    "    index=gene_chr_ids,\n",
    "    columns=gene_chr_ids,\n",
    ")\n",
    "\n",
    "output_dir.mkdir(exist_ok=True, parents=True)\n",
    "display(output_file)\n",
    "\n",
    "gene_corrs_df.to_pickle(output_file)"
   ]
  },
  {
   "cell_type": "markdown",
   "id": "faa67b51-5373-470f-aa72-2ded53fa6dfe",
   "metadata": {
    "papermill": {
     "duration": 1.438663,
     "end_time": "2022-08-30T17:21:38.045063",
     "exception": false,
     "start_time": "2022-08-30T17:21:36.606400",
     "status": "completed"
    },
    "tags": []
   },
   "source": [
    "# Testing"
   ]
  },
  {
   "cell_type": "code",
   "execution_count": 30,
   "id": "14f7d046-4b55-4896-a56b-990127bcc388",
   "metadata": {
    "execution": {
     "iopub.execute_input": "2022-08-30T17:21:40.859462Z",
     "iopub.status.busy": "2022-08-30T17:21:40.859218Z",
     "iopub.status.idle": "2022-08-30T17:21:41.172919Z",
     "shell.execute_reply": "2022-08-30T17:21:41.171773Z"
    },
    "papermill": {
     "duration": 1.753129,
     "end_time": "2022-08-30T17:21:41.176524",
     "exception": false,
     "start_time": "2022-08-30T17:21:39.423395",
     "status": "completed"
    },
    "tags": []
   },
   "outputs": [
    {
     "data": {
      "text/plain": [
       "(242, 242)"
      ]
     },
     "execution_count": 30,
     "metadata": {},
     "output_type": "execute_result"
    }
   ],
   "source": [
    "gene_corrs_df.shape"
   ]
  },
  {
   "cell_type": "code",
   "execution_count": 31,
   "id": "c7d15414-3297-4537-a7c6-7588c0baeb75",
   "metadata": {
    "execution": {
     "iopub.execute_input": "2022-08-30T17:21:44.082784Z",
     "iopub.status.busy": "2022-08-30T17:21:44.082549Z",
     "iopub.status.idle": "2022-08-30T17:21:44.113310Z",
     "shell.execute_reply": "2022-08-30T17:21:44.112914Z"
    },
    "papermill": {
     "duration": 1.460487,
     "end_time": "2022-08-30T17:21:44.114536",
     "exception": false,
     "start_time": "2022-08-30T17:21:42.654049",
     "status": "completed"
    },
    "tags": []
   },
   "outputs": [
    {
     "data": {
      "text/html": [
       "<div>\n",
       "<style scoped>\n",
       "    .dataframe tbody tr th:only-of-type {\n",
       "        vertical-align: middle;\n",
       "    }\n",
       "\n",
       "    .dataframe tbody tr th {\n",
       "        vertical-align: top;\n",
       "    }\n",
       "\n",
       "    .dataframe thead th {\n",
       "        text-align: right;\n",
       "    }\n",
       "</style>\n",
       "<table border=\"1\" class=\"dataframe\">\n",
       "  <thead>\n",
       "    <tr style=\"text-align: right;\">\n",
       "      <th></th>\n",
       "      <th>ENSG00000261456</th>\n",
       "      <th>ENSG00000148377</th>\n",
       "      <th>ENSG00000067064</th>\n",
       "      <th>ENSG00000067057</th>\n",
       "      <th>ENSG00000067082</th>\n",
       "      <th>ENSG00000187134</th>\n",
       "      <th>ENSG00000151632</th>\n",
       "      <th>ENSG00000196139</th>\n",
       "      <th>ENSG00000173848</th>\n",
       "      <th>ENSG00000196372</th>\n",
       "      <th>...</th>\n",
       "      <th>ENSG00000148773</th>\n",
       "      <th>ENSG00000170430</th>\n",
       "      <th>ENSG00000175470</th>\n",
       "      <th>ENSG00000176171</th>\n",
       "      <th>ENSG00000151640</th>\n",
       "      <th>ENSG00000068383</th>\n",
       "      <th>ENSG00000130640</th>\n",
       "      <th>ENSG00000127884</th>\n",
       "      <th>ENSG00000148832</th>\n",
       "      <th>ENSG00000130649</th>\n",
       "    </tr>\n",
       "  </thead>\n",
       "  <tbody>\n",
       "    <tr>\n",
       "      <th>ENSG00000261456</th>\n",
       "      <td>1.000000</td>\n",
       "      <td>0.003790</td>\n",
       "      <td>0.012337</td>\n",
       "      <td>0.007815</td>\n",
       "      <td>0.005915</td>\n",
       "      <td>0.007852</td>\n",
       "      <td>0.010083</td>\n",
       "      <td>0.011510</td>\n",
       "      <td>0.011865</td>\n",
       "      <td>0.015398</td>\n",
       "      <td>...</td>\n",
       "      <td>0.005145</td>\n",
       "      <td>0.005479</td>\n",
       "      <td>0.007768</td>\n",
       "      <td>0.006734</td>\n",
       "      <td>0.008490</td>\n",
       "      <td>0.006958</td>\n",
       "      <td>0.008215</td>\n",
       "      <td>0.003880</td>\n",
       "      <td>0.005341</td>\n",
       "      <td>0.005365</td>\n",
       "    </tr>\n",
       "    <tr>\n",
       "      <th>ENSG00000148377</th>\n",
       "      <td>0.003790</td>\n",
       "      <td>1.000000</td>\n",
       "      <td>0.084105</td>\n",
       "      <td>0.004528</td>\n",
       "      <td>0.003054</td>\n",
       "      <td>0.006786</td>\n",
       "      <td>0.005735</td>\n",
       "      <td>0.001551</td>\n",
       "      <td>0.000925</td>\n",
       "      <td>0.000890</td>\n",
       "      <td>...</td>\n",
       "      <td>0.004963</td>\n",
       "      <td>0.003932</td>\n",
       "      <td>0.002180</td>\n",
       "      <td>0.002357</td>\n",
       "      <td>0.005198</td>\n",
       "      <td>0.003080</td>\n",
       "      <td>0.000634</td>\n",
       "      <td>0.000971</td>\n",
       "      <td>0.000899</td>\n",
       "      <td>0.003436</td>\n",
       "    </tr>\n",
       "    <tr>\n",
       "      <th>ENSG00000067064</th>\n",
       "      <td>0.012337</td>\n",
       "      <td>0.084105</td>\n",
       "      <td>1.000000</td>\n",
       "      <td>0.014470</td>\n",
       "      <td>0.010029</td>\n",
       "      <td>0.010480</td>\n",
       "      <td>0.008932</td>\n",
       "      <td>0.007868</td>\n",
       "      <td>0.006230</td>\n",
       "      <td>0.009131</td>\n",
       "      <td>...</td>\n",
       "      <td>0.010357</td>\n",
       "      <td>0.002676</td>\n",
       "      <td>0.004672</td>\n",
       "      <td>0.005963</td>\n",
       "      <td>0.004388</td>\n",
       "      <td>0.008257</td>\n",
       "      <td>0.013420</td>\n",
       "      <td>0.005779</td>\n",
       "      <td>0.008882</td>\n",
       "      <td>0.005899</td>\n",
       "    </tr>\n",
       "    <tr>\n",
       "      <th>ENSG00000067057</th>\n",
       "      <td>0.007815</td>\n",
       "      <td>0.004528</td>\n",
       "      <td>0.014470</td>\n",
       "      <td>1.000000</td>\n",
       "      <td>0.010449</td>\n",
       "      <td>0.012528</td>\n",
       "      <td>0.017848</td>\n",
       "      <td>0.015077</td>\n",
       "      <td>0.011976</td>\n",
       "      <td>0.015208</td>\n",
       "      <td>...</td>\n",
       "      <td>0.012882</td>\n",
       "      <td>0.007954</td>\n",
       "      <td>0.007694</td>\n",
       "      <td>0.013454</td>\n",
       "      <td>0.006633</td>\n",
       "      <td>0.017375</td>\n",
       "      <td>0.012677</td>\n",
       "      <td>0.008571</td>\n",
       "      <td>0.012765</td>\n",
       "      <td>0.010577</td>\n",
       "    </tr>\n",
       "    <tr>\n",
       "      <th>ENSG00000067082</th>\n",
       "      <td>0.005915</td>\n",
       "      <td>0.003054</td>\n",
       "      <td>0.010029</td>\n",
       "      <td>0.010449</td>\n",
       "      <td>1.000000</td>\n",
       "      <td>0.005393</td>\n",
       "      <td>0.012874</td>\n",
       "      <td>0.010219</td>\n",
       "      <td>0.007214</td>\n",
       "      <td>0.011455</td>\n",
       "      <td>...</td>\n",
       "      <td>0.007006</td>\n",
       "      <td>0.005376</td>\n",
       "      <td>0.005936</td>\n",
       "      <td>0.007581</td>\n",
       "      <td>0.006784</td>\n",
       "      <td>0.008806</td>\n",
       "      <td>0.007240</td>\n",
       "      <td>0.005152</td>\n",
       "      <td>0.006803</td>\n",
       "      <td>0.007594</td>\n",
       "    </tr>\n",
       "  </tbody>\n",
       "</table>\n",
       "<p>5 rows × 242 columns</p>\n",
       "</div>"
      ],
      "text/plain": [
       "                 ENSG00000261456  ENSG00000148377  ENSG00000067064  \\\n",
       "ENSG00000261456         1.000000         0.003790         0.012337   \n",
       "ENSG00000148377         0.003790         1.000000         0.084105   \n",
       "ENSG00000067064         0.012337         0.084105         1.000000   \n",
       "ENSG00000067057         0.007815         0.004528         0.014470   \n",
       "ENSG00000067082         0.005915         0.003054         0.010029   \n",
       "\n",
       "                 ENSG00000067057  ENSG00000067082  ENSG00000187134  \\\n",
       "ENSG00000261456         0.007815         0.005915         0.007852   \n",
       "ENSG00000148377         0.004528         0.003054         0.006786   \n",
       "ENSG00000067064         0.014470         0.010029         0.010480   \n",
       "ENSG00000067057         1.000000         0.010449         0.012528   \n",
       "ENSG00000067082         0.010449         1.000000         0.005393   \n",
       "\n",
       "                 ENSG00000151632  ENSG00000196139  ENSG00000173848  \\\n",
       "ENSG00000261456         0.010083         0.011510         0.011865   \n",
       "ENSG00000148377         0.005735         0.001551         0.000925   \n",
       "ENSG00000067064         0.008932         0.007868         0.006230   \n",
       "ENSG00000067057         0.017848         0.015077         0.011976   \n",
       "ENSG00000067082         0.012874         0.010219         0.007214   \n",
       "\n",
       "                 ENSG00000196372  ...  ENSG00000148773  ENSG00000170430  \\\n",
       "ENSG00000261456         0.015398  ...         0.005145         0.005479   \n",
       "ENSG00000148377         0.000890  ...         0.004963         0.003932   \n",
       "ENSG00000067064         0.009131  ...         0.010357         0.002676   \n",
       "ENSG00000067057         0.015208  ...         0.012882         0.007954   \n",
       "ENSG00000067082         0.011455  ...         0.007006         0.005376   \n",
       "\n",
       "                 ENSG00000175470  ENSG00000176171  ENSG00000151640  \\\n",
       "ENSG00000261456         0.007768         0.006734         0.008490   \n",
       "ENSG00000148377         0.002180         0.002357         0.005198   \n",
       "ENSG00000067064         0.004672         0.005963         0.004388   \n",
       "ENSG00000067057         0.007694         0.013454         0.006633   \n",
       "ENSG00000067082         0.005936         0.007581         0.006784   \n",
       "\n",
       "                 ENSG00000068383  ENSG00000130640  ENSG00000127884  \\\n",
       "ENSG00000261456         0.006958         0.008215         0.003880   \n",
       "ENSG00000148377         0.003080         0.000634         0.000971   \n",
       "ENSG00000067064         0.008257         0.013420         0.005779   \n",
       "ENSG00000067057         0.017375         0.012677         0.008571   \n",
       "ENSG00000067082         0.008806         0.007240         0.005152   \n",
       "\n",
       "                 ENSG00000148832  ENSG00000130649  \n",
       "ENSG00000261456         0.005341         0.005365  \n",
       "ENSG00000148377         0.000899         0.003436  \n",
       "ENSG00000067064         0.008882         0.005899  \n",
       "ENSG00000067057         0.012765         0.010577  \n",
       "ENSG00000067082         0.006803         0.007594  \n",
       "\n",
       "[5 rows x 242 columns]"
      ]
     },
     "execution_count": 31,
     "metadata": {},
     "output_type": "execute_result"
    }
   ],
   "source": [
    "gene_corrs_df.head()"
   ]
  },
  {
   "cell_type": "markdown",
   "id": "dad6603f-01c6-41fb-a6f6-241051207dd8",
   "metadata": {
    "papermill": {
     "duration": 1.431807,
     "end_time": "2022-08-30T17:21:46.988443",
     "exception": false,
     "start_time": "2022-08-30T17:21:45.556636",
     "status": "completed"
    },
    "tags": []
   },
   "source": [
    "## Standard checks and stats"
   ]
  },
  {
   "cell_type": "code",
   "execution_count": 32,
   "id": "286686af-1b7b-4440-8453-6bdcbd8de19c",
   "metadata": {
    "execution": {
     "iopub.execute_input": "2022-08-30T17:21:49.751692Z",
     "iopub.status.busy": "2022-08-30T17:21:49.751455Z",
     "iopub.status.idle": "2022-08-30T17:21:49.772315Z",
     "shell.execute_reply": "2022-08-30T17:21:49.771915Z"
    },
    "papermill": {
     "duration": 1.40244,
     "end_time": "2022-08-30T17:21:49.773666",
     "exception": false,
     "start_time": "2022-08-30T17:21:48.371226",
     "status": "completed"
    },
    "tags": []
   },
   "outputs": [],
   "source": [
    "assert not gene_corrs_df.isna().any().any()"
   ]
  },
  {
   "cell_type": "code",
   "execution_count": 33,
   "id": "00583efc-7068-4270-ad1e-4a418e91db96",
   "metadata": {
    "execution": {
     "iopub.execute_input": "2022-08-30T17:21:52.638735Z",
     "iopub.status.busy": "2022-08-30T17:21:52.638499Z",
     "iopub.status.idle": "2022-08-30T17:21:52.659580Z",
     "shell.execute_reply": "2022-08-30T17:21:52.659198Z"
    },
    "papermill": {
     "duration": 1.460244,
     "end_time": "2022-08-30T17:21:52.660766",
     "exception": false,
     "start_time": "2022-08-30T17:21:51.200522",
     "status": "completed"
    },
    "tags": []
   },
   "outputs": [
    {
     "data": {
      "text/plain": [
       "3.016476512982381e-08"
      ]
     },
     "metadata": {},
     "output_type": "display_data"
    }
   ],
   "source": [
    "_min_val = gene_corrs_df.min().min()\n",
    "display(_min_val)\n",
    "assert _min_val >= -0.05"
   ]
  },
  {
   "cell_type": "code",
   "execution_count": 34,
   "id": "d04fb2cf-1050-475b-b855-f5f7cc04092b",
   "metadata": {
    "execution": {
     "iopub.execute_input": "2022-08-30T17:21:55.480268Z",
     "iopub.status.busy": "2022-08-30T17:21:55.480026Z",
     "iopub.status.idle": "2022-08-30T17:21:55.506059Z",
     "shell.execute_reply": "2022-08-30T17:21:55.505678Z"
    },
    "papermill": {
     "duration": 1.467733,
     "end_time": "2022-08-30T17:21:55.507259",
     "exception": false,
     "start_time": "2022-08-30T17:21:54.039526",
     "status": "completed"
    },
    "tags": []
   },
   "outputs": [
    {
     "data": {
      "text/plain": [
       "1.0000000000000024"
      ]
     },
     "metadata": {},
     "output_type": "display_data"
    }
   ],
   "source": [
    "_max_val = gene_corrs_df.max().max()  # this captures the diagonal\n",
    "display(_max_val)\n",
    "assert _max_val <= 1.05"
   ]
  },
  {
   "cell_type": "code",
   "execution_count": 35,
   "id": "96d02c44-1fba-47be-8a93-8f2608420b9c",
   "metadata": {
    "execution": {
     "iopub.execute_input": "2022-08-30T17:21:58.272769Z",
     "iopub.status.busy": "2022-08-30T17:21:58.272536Z",
     "iopub.status.idle": "2022-08-30T17:21:58.290513Z",
     "shell.execute_reply": "2022-08-30T17:21:58.290111Z"
    },
    "papermill": {
     "duration": 1.401796,
     "end_time": "2022-08-30T17:21:58.291846",
     "exception": false,
     "start_time": "2022-08-30T17:21:56.890050",
     "status": "completed"
    },
    "tags": []
   },
   "outputs": [],
   "source": [
    "# check upper triangular values\n",
    "# assert len(gene_corrs) == int(genes_chr.shape[0] * (genes_chr.shape[0] - 1) / 2)"
   ]
  },
  {
   "cell_type": "code",
   "execution_count": 36,
   "id": "fe283586-c348-40e0-8841-f6d97bfb021c",
   "metadata": {
    "execution": {
     "iopub.execute_input": "2022-08-30T17:22:01.160483Z",
     "iopub.status.busy": "2022-08-30T17:22:01.160242Z",
     "iopub.status.idle": "2022-08-30T17:22:01.183630Z",
     "shell.execute_reply": "2022-08-30T17:22:01.183237Z"
    },
    "papermill": {
     "duration": 1.464212,
     "end_time": "2022-08-30T17:22:01.184858",
     "exception": false,
     "start_time": "2022-08-30T17:21:59.720646",
     "status": "completed"
    },
    "tags": []
   },
   "outputs": [
    {
     "data": {
      "text/plain": [
       "count    2.940300e+04\n",
       "mean     1.681473e-02\n",
       "std      9.415306e-02\n",
       "min      3.016477e-08\n",
       "25%      4.296806e-03\n",
       "50%      6.465110e-03\n",
       "75%      8.939680e-03\n",
       "max      1.000000e+00\n",
       "dtype: float64"
      ]
     },
     "execution_count": 36,
     "metadata": {},
     "output_type": "execute_result"
    }
   ],
   "source": [
    "gene_corrs_flat.describe()"
   ]
  },
  {
   "cell_type": "code",
   "execution_count": 37,
   "id": "b3815678-0f93-4b35-897b-a9d047a2aa78",
   "metadata": {
    "execution": {
     "iopub.execute_input": "2022-08-30T17:22:04.029478Z",
     "iopub.status.busy": "2022-08-30T17:22:04.029244Z",
     "iopub.status.idle": "2022-08-30T17:22:04.053016Z",
     "shell.execute_reply": "2022-08-30T17:22:04.052482Z"
    },
    "papermill": {
     "duration": 1.469328,
     "end_time": "2022-08-30T17:22:04.054364",
     "exception": false,
     "start_time": "2022-08-30T17:22:02.585036",
     "status": "completed"
    },
    "tags": []
   },
   "outputs": [
    {
     "data": {
      "text/plain": [
       "0.00    3.016477e-08\n",
       "0.05    1.717638e-03\n",
       "0.10    2.583984e-03\n",
       "0.15    3.253083e-03\n",
       "0.20    3.819480e-03\n",
       "0.25    4.296806e-03\n",
       "0.30    4.745630e-03\n",
       "0.35    5.209869e-03\n",
       "0.40    5.632123e-03\n",
       "0.45    6.057648e-03\n",
       "0.50    6.465110e-03\n",
       "0.55    6.906635e-03\n",
       "0.60    7.375830e-03\n",
       "0.65    7.850783e-03\n",
       "0.70    8.353191e-03\n",
       "0.75    8.939680e-03\n",
       "0.80    9.611499e-03\n",
       "0.85    1.044977e-02\n",
       "0.90    1.159249e-02\n",
       "0.95    1.361196e-02\n",
       "dtype: float64"
      ]
     },
     "metadata": {},
     "output_type": "display_data"
    }
   ],
   "source": [
    "gene_corrs_quantiles = gene_corrs_flat.quantile(np.arange(0, 1, 0.05))\n",
    "display(gene_corrs_quantiles)"
   ]
  },
  {
   "cell_type": "markdown",
   "id": "87134509-b145-4a10-8bc9-b7e914c2b0fa",
   "metadata": {
    "papermill": {
     "duration": 1.378724,
     "end_time": "2022-08-30T17:22:06.825049",
     "exception": false,
     "start_time": "2022-08-30T17:22:05.446325",
     "status": "completed"
    },
    "tags": []
   },
   "source": [
    "## Positive definiteness"
   ]
  },
  {
   "cell_type": "code",
   "execution_count": 38,
   "id": "07d9a9a1-a4f7-48aa-b916-6d42a8cc6186",
   "metadata": {
    "execution": {
     "iopub.execute_input": "2022-08-30T17:22:09.719836Z",
     "iopub.status.busy": "2022-08-30T17:22:09.719602Z",
     "iopub.status.idle": "2022-08-30T17:22:09.753218Z",
     "shell.execute_reply": "2022-08-30T17:22:09.752750Z"
    },
    "papermill": {
     "duration": 1.469656,
     "end_time": "2022-08-30T17:22:09.754443",
     "exception": false,
     "start_time": "2022-08-30T17:22:08.284787",
     "status": "completed"
    },
    "tags": []
   },
   "outputs": [
    {
     "data": {
      "text/plain": [
       "0"
      ]
     },
     "metadata": {},
     "output_type": "display_data"
    },
    {
     "data": {
      "text/plain": [
       "array([], dtype=float64)"
      ]
     },
     "metadata": {},
     "output_type": "display_data"
    }
   ],
   "source": [
    "# print negative eigenvalues\n",
    "eigs = np.linalg.eigvals(gene_corrs_df.to_numpy())\n",
    "display(len(eigs[eigs < 0]))\n",
    "display(eigs[eigs < 0])"
   ]
  },
  {
   "cell_type": "code",
   "execution_count": 39,
   "id": "6e218436-c3c5-4028-8c94-a4fa6260efce",
   "metadata": {
    "execution": {
     "iopub.execute_input": "2022-08-30T17:22:12.576196Z",
     "iopub.status.busy": "2022-08-30T17:22:12.575947Z",
     "iopub.status.idle": "2022-08-30T17:22:12.601089Z",
     "shell.execute_reply": "2022-08-30T17:22:12.600630Z"
    },
    "papermill": {
     "duration": 1.465655,
     "end_time": "2022-08-30T17:22:12.602318",
     "exception": false,
     "start_time": "2022-08-30T17:22:11.136663",
     "status": "completed"
    },
    "tags": []
   },
   "outputs": [
    {
     "name": "stdout",
     "output_type": "stream",
     "text": [
      "Works!\n"
     ]
    }
   ],
   "source": [
    "try:\n",
    "    chol_mat = np.linalg.cholesky(gene_corrs_df.to_numpy())\n",
    "    cov_inv = np.linalg.inv(chol_mat)\n",
    "    print(\"Works!\")\n",
    "except Exception as e:\n",
    "    print(f\"Cholesky decomposition failed: {str(e)}\")"
   ]
  },
  {
   "cell_type": "code",
   "execution_count": 40,
   "id": "dd8827fb-faf9-4c7c-9454-015e94752706",
   "metadata": {
    "execution": {
     "iopub.execute_input": "2022-08-30T17:22:15.354708Z",
     "iopub.status.busy": "2022-08-30T17:22:15.354475Z",
     "iopub.status.idle": "2022-08-30T17:22:15.378036Z",
     "shell.execute_reply": "2022-08-30T17:22:15.377358Z"
    },
    "papermill": {
     "duration": 1.399504,
     "end_time": "2022-08-30T17:22:15.379243",
     "exception": false,
     "start_time": "2022-08-30T17:22:13.979739",
     "status": "completed"
    },
    "tags": []
   },
   "outputs": [
    {
     "name": "stdout",
     "output_type": "stream",
     "text": [
      "Works!\n"
     ]
    }
   ],
   "source": [
    "try:\n",
    "    # decomposition used by statsmodels.GLS\n",
    "    cholsigmainv = np.linalg.cholesky(np.linalg.inv(gene_corrs_df.to_numpy())).T\n",
    "    print(\"Works!\")\n",
    "except Exception as e:\n",
    "    print(f\"Cholesky decomposition failed (statsmodels.GLS): {str(e)}\")"
   ]
  },
  {
   "cell_type": "markdown",
   "id": "8e60a080-edb2-4e9c-b2ef-22961693200c",
   "metadata": {
    "papermill": {
     "duration": 1.435057,
     "end_time": "2022-08-30T17:22:18.231483",
     "exception": false,
     "start_time": "2022-08-30T17:22:16.796426",
     "status": "completed"
    },
    "tags": []
   },
   "source": [
    "## Plot: distribution"
   ]
  },
  {
   "cell_type": "code",
   "execution_count": 41,
   "id": "8301126b-a7d4-4744-9c7d-f0f86eb6f54c",
   "metadata": {
    "execution": {
     "iopub.execute_input": "2022-08-30T17:22:20.996394Z",
     "iopub.status.busy": "2022-08-30T17:22:20.996155Z",
     "iopub.status.idle": "2022-08-30T17:22:25.996344Z",
     "shell.execute_reply": "2022-08-30T17:22:25.995847Z"
    },
    "papermill": {
     "duration": 6.393058,
     "end_time": "2022-08-30T17:22:25.997875",
     "exception": false,
     "start_time": "2022-08-30T17:22:19.604817",
     "status": "completed"
    },
    "tags": []
   },
   "outputs": [
    {
     "data": {
      "image/png": "[encoded data removed]",
      "text/plain": [
       "<Figure size 504x504 with 1 Axes>"
      ]
     },
     "metadata": {
      "needs_background": "light"
     },
     "output_type": "display_data"
    }
   ],
   "source": [
    "with sns.plotting_context(\"paper\", font_scale=1.5):\n",
    "    g = sns.displot(gene_corrs_flat, kde=True, height=7)\n",
    "    g.ax.set_title(\n",
    "        f\"Distribution of gene correlation values in chromosome {CHROMOSOME}\"\n",
    "    )"
   ]
  },
  {
   "cell_type": "markdown",
   "id": "cbd52bca-d878-4a2f-b684-5c83aa3038d4",
   "metadata": {
    "papermill": {
     "duration": 1.375912,
     "end_time": "2022-08-30T17:22:28.808099",
     "exception": false,
     "start_time": "2022-08-30T17:22:27.432187",
     "status": "completed"
    },
    "tags": []
   },
   "source": [
    "## Plot: heatmap"
   ]
  },
  {
   "cell_type": "code",
   "execution_count": 42,
   "id": "d03fe63a-c7b2-4fb9-a53c-db362ce843c9",
   "metadata": {
    "execution": {
     "iopub.execute_input": "2022-08-30T17:22:31.656715Z",
     "iopub.status.busy": "2022-08-30T17:22:31.656471Z",
     "iopub.status.idle": "2022-08-30T17:22:31.820715Z",
     "shell.execute_reply": "2022-08-30T17:22:31.819654Z"
    },
    "papermill": {
     "duration": 1.59134,
     "end_time": "2022-08-30T17:22:31.823968",
     "exception": false,
     "start_time": "2022-08-30T17:22:30.232628",
     "status": "completed"
    },
    "tags": []
   },
   "outputs": [
    {
     "data": {
      "text/plain": [
       "'0.0 / 0.05'"
      ]
     },
     "metadata": {},
     "output_type": "display_data"
    }
   ],
   "source": [
    "vmin_val = min(0.00, gene_corrs_quantiles[0.10])\n",
    "vmax_val = max(0.05, gene_corrs_quantiles[0.90])\n",
    "display(f\"{vmin_val} / {vmax_val}\")"
   ]
  },
  {
   "cell_type": "code",
   "execution_count": 43,
   "id": "dc41b70b-5bcc-4d9e-9f33-a22c4a94dab5",
   "metadata": {
    "execution": {
     "iopub.execute_input": "2022-08-30T17:22:34.732126Z",
     "iopub.status.busy": "2022-08-30T17:22:34.731883Z",
     "iopub.status.idle": "2022-08-30T17:22:34.927550Z",
     "shell.execute_reply": "2022-08-30T17:22:34.926911Z"
    },
    "papermill": {
     "duration": 1.576607,
     "end_time": "2022-08-30T17:22:34.928997",
     "exception": false,
     "start_time": "2022-08-30T17:22:33.352390",
     "status": "completed"
    },
    "tags": []
   },
   "outputs": [
    {
     "data": {
      "text/plain": [
       "Text(0.5, 1.0, 'Gene correlations in chromosome 10')"
      ]
     },
     "execution_count": 43,
     "metadata": {},
     "output_type": "execute_result"
    },
    {
     "data": {
      "image/png": "[encoded data removed]",
      "text/plain": [
       "<Figure size 720x720 with 2 Axes>"
      ]
     },
     "metadata": {
      "needs_background": "light"
     },
     "output_type": "display_data"
    }
   ],
   "source": [
    "f, ax = plt.subplots(figsize=(10, 10))\n",
    "sns.heatmap(\n",
    "    gene_corrs_df,\n",
    "    xticklabels=False,\n",
    "    yticklabels=False,\n",
    "    square=True,\n",
    "    vmin=vmin_val,\n",
    "    vmax=vmax_val,\n",
    "    cmap=\"rocket_r\",\n",
    "    ax=ax,\n",
    ")\n",
    "ax.set_title(f\"Gene correlations in chromosome {CHROMOSOME}\")"
   ]
  },
  {
   "cell_type": "code",
   "execution_count": null,
   "id": "b25e3ead",
   "metadata": {
    "papermill": {
     "duration": 1.426568,
     "end_time": "2022-08-30T17:22:37.741688",
     "exception": false,
     "start_time": "2022-08-30T17:22:36.315120",
     "status": "completed"
    },
    "tags": []
   },
   "outputs": [],
   "source": []
  }
 ],
 "metadata": {
  "jupytext": {
   "cell_metadata_filter": "all,-execution,-papermill,-trusted",
   "formats": "ipynb,py//py:percent"
  },
  "kernelspec": {
   "display_name": "Python 3 (ipykernel)",
   "language": "python",
   "name": "python3"
  },
  "language_info": {
   "codemirror_mode": {
    "name": "ipython",
    "version": 3
   },
   "file_extension": ".py",
   "mimetype": "text/x-python",
   "name": "python",
   "nbconvert_exporter": "python",
   "pygments_lexer": "ipython3",
   "version": "3.8.13"
  },
  "papermill": {
   "default_parameters": {},
   "duration": 1869.190158,
   "end_time": "2022-08-30T17:22:42.357406",
   "environment_variables": {},
   "exception": null,
   "input_path": "nbs/15_gsa_gls/10-gene_expr_correlations.ipynb",
   "output_path": "nbs/15_gsa_gls/gene_corrs/cohorts/emerge/gtex_v8/mashr/10-gene_expr_corrs/10-gene_expr_correlations-chr10.run.ipynb",
   "parameters": {
    "CHROMOSOME": 10,
    "COHORT_NAME": "emerge",
    "EQTL_MODEL": "MASHR",
    "REFERENCE_PANEL": "GTEX_V8"
   },
   "start_time": "2022-08-30T16:51:33.167248",
   "version": "2.2.2"
  }
 },
 "nbformat": 4,
 "nbformat_minor": 5
}
