{
 "cells": [
  {
   "cell_type": "markdown",
   "id": "7a6632fb",
   "metadata": {
    "papermill": {
     "duration": 0.018199,
     "end_time": "2022-08-30T16:51:35.201566",
     "exception": false,
     "start_time": "2022-08-30T16:51:35.183367",
     "status": "completed"
    },
    "tags": []
   },
   "source": [
    "# Description"
   ]
  },
  {
   "cell_type": "markdown",
   "id": "7097c346",
   "metadata": {
    "papermill": {
     "duration": 0.014138,
     "end_time": "2022-08-30T16:51:35.231018",
     "exception": false,
     "start_time": "2022-08-30T16:51:35.216880",
     "status": "completed"
    },
    "tags": []
   },
   "source": [
    "(Please, take a look at the README.md file in this directory for instructions on how to run this notebook)\n",
    "\n",
    "This notebook computes predicted expression correlations between all genes in the MultiPLIER models.\n",
    "\n",
    "It also has a parameter set for papermill to run on a single chromosome to run in parallel (see under `Settings` below).\n",
    "\n",
    "This notebook is not directly run. See README.md."
   ]
  },
  {
   "cell_type": "markdown",
   "id": "c61d8427",
   "metadata": {
    "papermill": {
     "duration": 0.013134,
     "end_time": "2022-08-30T16:51:35.258361",
     "exception": false,
     "start_time": "2022-08-30T16:51:35.245227",
     "status": "completed"
    },
    "tags": []
   },
   "source": [
    "# Modules"
   ]
  },
  {
   "cell_type": "code",
   "execution_count": 1,
   "id": "bbc0234f",
   "metadata": {
    "execution": {
     "iopub.execute_input": "2022-08-30T16:51:35.285522Z",
     "iopub.status.busy": "2022-08-30T16:51:35.285175Z",
     "iopub.status.idle": "2022-08-30T16:51:35.309582Z",
     "shell.execute_reply": "2022-08-30T16:51:35.308884Z"
    },
    "papermill": {
     "duration": 0.041056,
     "end_time": "2022-08-30T16:51:35.311998",
     "exception": false,
     "start_time": "2022-08-30T16:51:35.270942",
     "status": "completed"
    },
    "tags": []
   },
   "outputs": [],
   "source": [
    "%load_ext autoreload\n",
    "%autoreload 2"
   ]
  },
  {
   "cell_type": "code",
   "execution_count": 2,
   "id": "1d5f5a59",
   "metadata": {
    "execution": {
     "iopub.execute_input": "2022-08-30T16:51:35.335101Z",
     "iopub.status.busy": "2022-08-30T16:51:35.334835Z",
     "iopub.status.idle": "2022-08-30T16:51:37.491730Z",
     "shell.execute_reply": "2022-08-30T16:51:37.491137Z"
    },
    "papermill": {
     "duration": 2.170603,
     "end_time": "2022-08-30T16:51:37.493692",
     "exception": false,
     "start_time": "2022-08-30T16:51:35.323089",
     "status": "completed"
    },
    "tags": []
   },
   "outputs": [],
   "source": [
    "from random import sample, seed\n",
    "import warnings\n",
    "from pathlib import Path\n",
    "import pickle\n",
    "import traceback\n",
    "\n",
    "import numpy as np\n",
    "from scipy.spatial.distance import squareform\n",
    "import pandas as pd\n",
    "from tqdm import tqdm\n",
    "import matplotlib.pyplot as plt\n",
    "import seaborn as sns\n",
    "\n",
    "import conf\n",
    "from entity import Gene"
   ]
  },
  {
   "cell_type": "markdown",
   "id": "1eac24b5",
   "metadata": {
    "papermill": {
     "duration": 0.033108,
     "end_time": "2022-08-30T16:51:37.538339",
     "exception": false,
     "start_time": "2022-08-30T16:51:37.505231",
     "status": "completed"
    },
    "tags": []
   },
   "source": [
    "# Settings"
   ]
  },
  {
   "cell_type": "code",
   "execution_count": 3,
   "id": "ca4560ba",
   "metadata": {
    "execution": {
     "iopub.execute_input": "2022-08-30T16:51:37.559899Z",
     "iopub.status.busy": "2022-08-30T16:51:37.559637Z",
     "iopub.status.idle": "2022-08-30T16:51:37.578625Z",
     "shell.execute_reply": "2022-08-30T16:51:37.577911Z"
    },
    "papermill": {
     "duration": 0.031844,
     "end_time": "2022-08-30T16:51:37.580253",
     "exception": false,
     "start_time": "2022-08-30T16:51:37.548409",
     "status": "completed"
    },
    "tags": [
     "parameters"
    ]
   },
   "outputs": [],
   "source": [
    "# a cohort name (it could be something like UK_BIOBANK, etc)\n",
    "COHORT_NAME = None\n",
    "\n",
    "# reference panel such as 1000G or GTEX_V8\n",
    "REFERENCE_PANEL = None\n",
    "\n",
    "# predictions models such as MASHR or ELASTIC_NET\n",
    "EQTL_MODEL = None\n",
    "\n",
    "# this is the default value used in S-MultiXcan to select the\n",
    "# top principal components of the expression correlation matrix\n",
    "SMULTIXCAN_CONDITION_NUMBER = 30\n",
    "\n",
    "# specifies a single chromosome value\n",
    "CHROMOSOME = None\n",
    "\n",
    "# If True, computes the correlation between closeby genes only;\n",
    "# otherwise, it computes correlations for all genes in a chromosome\n",
    "COMPUTE_CORRELATIONS_WITHIN_DISTANCE = False\n",
    "\n",
    "# if True, then it will continue if a gene pair correlation fails,\n",
    "# printing the warning/error for debugging. If False, any warning/error\n",
    "# will be thrown\n",
    "DEBUG_MODE = False"
   ]
  },
  {
   "cell_type": "code",
   "execution_count": 4,
   "id": "8edf7ab8",
   "metadata": {
    "execution": {
     "iopub.execute_input": "2022-08-30T16:51:37.600992Z",
     "iopub.status.busy": "2022-08-30T16:51:37.600797Z",
     "iopub.status.idle": "2022-08-30T16:51:37.616841Z",
     "shell.execute_reply": "2022-08-30T16:51:37.616174Z"
    },
    "papermill": {
     "duration": 0.028353,
     "end_time": "2022-08-30T16:51:37.618435",
     "exception": false,
     "start_time": "2022-08-30T16:51:37.590082",
     "status": "completed"
    },
    "tags": [
     "injected-parameters"
    ]
   },
   "outputs": [],
   "source": [
    "# Parameters\n",
    "COHORT_NAME = \"emerge\"\n",
    "REFERENCE_PANEL = \"GTEX_V8\"\n",
    "EQTL_MODEL = \"MASHR\"\n",
    "CHROMOSOME = 21\n"
   ]
  },
  {
   "cell_type": "code",
   "execution_count": 5,
   "id": "3190631f-27fc-480f-b18e-571d580425a5",
   "metadata": {
    "execution": {
     "iopub.execute_input": "2022-08-30T16:51:37.644668Z",
     "iopub.status.busy": "2022-08-30T16:51:37.644460Z",
     "iopub.status.idle": "2022-08-30T16:51:37.663378Z",
     "shell.execute_reply": "2022-08-30T16:51:37.662896Z"
    },
    "papermill": {
     "duration": 0.03217,
     "end_time": "2022-08-30T16:51:37.664825",
     "exception": false,
     "start_time": "2022-08-30T16:51:37.632655",
     "status": "completed"
    },
    "tags": []
   },
   "outputs": [
    {
     "data": {
      "text/plain": [
       "'Cohort name: emerge'"
      ]
     },
     "metadata": {},
     "output_type": "display_data"
    }
   ],
   "source": [
    "assert COHORT_NAME is not None and len(COHORT_NAME) > 0, \"A cohort name must be given\"\n",
    "\n",
    "COHORT_NAME = COHORT_NAME.lower()\n",
    "display(f\"Cohort name: {COHORT_NAME}\")"
   ]
  },
  {
   "cell_type": "code",
   "execution_count": 6,
   "id": "f53ba19b-0f93-4fa2-a047-63b375939d1a",
   "metadata": {
    "execution": {
     "iopub.execute_input": "2022-08-30T16:51:37.689750Z",
     "iopub.status.busy": "2022-08-30T16:51:37.689557Z",
     "iopub.status.idle": "2022-08-30T16:51:37.707440Z",
     "shell.execute_reply": "2022-08-30T16:51:37.706694Z"
    },
    "papermill": {
     "duration": 0.032528,
     "end_time": "2022-08-30T16:51:37.709065",
     "exception": false,
     "start_time": "2022-08-30T16:51:37.676537",
     "status": "completed"
    },
    "tags": []
   },
   "outputs": [
    {
     "data": {
      "text/plain": [
       "'Reference panel: GTEX_V8'"
      ]
     },
     "metadata": {},
     "output_type": "display_data"
    }
   ],
   "source": [
    "assert (\n",
    "    REFERENCE_PANEL is not None and len(REFERENCE_PANEL) > 0\n",
    "), \"A reference panel must be given\"\n",
    "\n",
    "display(f\"Reference panel: {REFERENCE_PANEL}\")"
   ]
  },
  {
   "cell_type": "code",
   "execution_count": 7,
   "id": "e024d130-c139-429a-9c6e-ccf149e297b0",
   "metadata": {
    "execution": {
     "iopub.execute_input": "2022-08-30T16:51:37.727620Z",
     "iopub.status.busy": "2022-08-30T16:51:37.727397Z",
     "iopub.status.idle": "2022-08-30T16:51:37.744661Z",
     "shell.execute_reply": "2022-08-30T16:51:37.744172Z"
    },
    "papermill": {
     "duration": 0.028235,
     "end_time": "2022-08-30T16:51:37.746089",
     "exception": false,
     "start_time": "2022-08-30T16:51:37.717854",
     "status": "completed"
    },
    "tags": []
   },
   "outputs": [
    {
     "data": {
      "text/plain": [
       "'eQTL model: MASHR) / mashr_'"
      ]
     },
     "metadata": {},
     "output_type": "display_data"
    }
   ],
   "source": [
    "assert (\n",
    "    EQTL_MODEL is not None and len(EQTL_MODEL) > 0\n",
    "), \"A prediction/eQTL model must be given\"\n",
    "\n",
    "EQTL_MODEL_FILES_PREFIX = conf.PHENOMEXCAN[\"PREDICTION_MODELS\"][f\"{EQTL_MODEL}_PREFIX\"]\n",
    "display(f\"eQTL model: {EQTL_MODEL}) / {EQTL_MODEL_FILES_PREFIX}\")"
   ]
  },
  {
   "cell_type": "code",
   "execution_count": 8,
   "id": "552a7f63-a18c-4d3e-bb6a-94f99b431291",
   "metadata": {
    "execution": {
     "iopub.execute_input": "2022-08-30T16:51:37.765338Z",
     "iopub.status.busy": "2022-08-30T16:51:37.765144Z",
     "iopub.status.idle": "2022-08-30T16:51:37.782269Z",
     "shell.execute_reply": "2022-08-30T16:51:37.781685Z"
    },
    "papermill": {
     "duration": 0.028625,
     "end_time": "2022-08-30T16:51:37.783803",
     "exception": false,
     "start_time": "2022-08-30T16:51:37.755178",
     "status": "completed"
    },
    "tags": []
   },
   "outputs": [
    {
     "data": {
      "text/plain": [
       "'S-MultiXcan condition number: 30'"
      ]
     },
     "metadata": {},
     "output_type": "display_data"
    }
   ],
   "source": [
    "assert (\n",
    "    SMULTIXCAN_CONDITION_NUMBER is not None and SMULTIXCAN_CONDITION_NUMBER > 0\n",
    "), \"The S-MultiXcan condition number (positive integer) must be given\"\n",
    "\n",
    "display(f\"S-MultiXcan condition number: {SMULTIXCAN_CONDITION_NUMBER}\")"
   ]
  },
  {
   "cell_type": "code",
   "execution_count": 9,
   "id": "f34a336f-548e-4afe-8955-90eaea4f42c6",
   "metadata": {
    "execution": {
     "iopub.execute_input": "2022-08-30T16:51:37.804365Z",
     "iopub.status.busy": "2022-08-30T16:51:37.804173Z",
     "iopub.status.idle": "2022-08-30T16:51:37.821252Z",
     "shell.execute_reply": "2022-08-30T16:51:37.820768Z"
    },
    "papermill": {
     "duration": 0.029749,
     "end_time": "2022-08-30T16:51:37.822789",
     "exception": false,
     "start_time": "2022-08-30T16:51:37.793040",
     "status": "completed"
    },
    "tags": []
   },
   "outputs": [
    {
     "data": {
      "text/plain": [
       "'Working on chromosome 21'"
      ]
     },
     "metadata": {},
     "output_type": "display_data"
    }
   ],
   "source": [
    "assert CHROMOSOME is not None and (\n",
    "    1 <= CHROMOSOME <= 22\n",
    "), \"You have to select one chromosome (format: number between 1 and 22)\"\n",
    "\n",
    "# CHROMOSOME = str(CHROMOSOME)\n",
    "display(f\"Working on chromosome {CHROMOSOME}\")"
   ]
  },
  {
   "cell_type": "code",
   "execution_count": 10,
   "id": "ab8e96e8-06b5-4363-9dcd-dc4d78cc27f7",
   "metadata": {
    "execution": {
     "iopub.execute_input": "2022-08-30T16:51:37.842311Z",
     "iopub.status.busy": "2022-08-30T16:51:37.842119Z",
     "iopub.status.idle": "2022-08-30T16:51:37.858960Z",
     "shell.execute_reply": "2022-08-30T16:51:37.858454Z"
    },
    "papermill": {
     "duration": 0.028505,
     "end_time": "2022-08-30T16:51:37.860394",
     "exception": false,
     "start_time": "2022-08-30T16:51:37.831889",
     "status": "completed"
    },
    "tags": []
   },
   "outputs": [
    {
     "data": {
      "text/plain": [
       "'Compute correlation within distance False'"
      ]
     },
     "metadata": {},
     "output_type": "display_data"
    }
   ],
   "source": [
    "display(f\"Compute correlation within distance {COMPUTE_CORRELATIONS_WITHIN_DISTANCE}\")"
   ]
  },
  {
   "cell_type": "code",
   "execution_count": 11,
   "id": "396392dc-0340-4540-9b02-e182b833f909",
   "metadata": {
    "execution": {
     "iopub.execute_input": "2022-08-30T16:51:37.879626Z",
     "iopub.status.busy": "2022-08-30T16:51:37.879424Z",
     "iopub.status.idle": "2022-08-30T16:51:37.899092Z",
     "shell.execute_reply": "2022-08-30T16:51:37.898463Z"
    },
    "papermill": {
     "duration": 0.031053,
     "end_time": "2022-08-30T16:51:37.900684",
     "exception": false,
     "start_time": "2022-08-30T16:51:37.869631",
     "status": "completed"
    },
    "tags": []
   },
   "outputs": [
    {
     "data": {
      "text/plain": [
       "'Using output dir base: /project/ritchie20/projects/phenoplier/base/results/gls/gene_corrs/cohorts/emerge/gtex_v8/mashr'"
      ]
     },
     "metadata": {},
     "output_type": "display_data"
    }
   ],
   "source": [
    "OUTPUT_DIR_BASE = (\n",
    "    conf.RESULTS[\"GLS\"]\n",
    "    / \"gene_corrs\"\n",
    "    / \"cohorts\"\n",
    "    / COHORT_NAME\n",
    "    / REFERENCE_PANEL.lower()\n",
    "    / EQTL_MODEL.lower()\n",
    ")\n",
    "OUTPUT_DIR_BASE.mkdir(parents=True, exist_ok=True)\n",
    "\n",
    "display(f\"Using output dir base: {OUTPUT_DIR_BASE}\")"
   ]
  },
  {
   "cell_type": "markdown",
   "id": "d2ba085e",
   "metadata": {
    "papermill": {
     "duration": 0.009667,
     "end_time": "2022-08-30T16:51:37.920200",
     "exception": false,
     "start_time": "2022-08-30T16:51:37.910533",
     "status": "completed"
    },
    "tags": []
   },
   "source": [
    "# Load data"
   ]
  },
  {
   "cell_type": "markdown",
   "id": "7dcb8db7",
   "metadata": {
    "papermill": {
     "duration": 0.009192,
     "end_time": "2022-08-30T16:51:37.938854",
     "exception": false,
     "start_time": "2022-08-30T16:51:37.929662",
     "status": "completed"
    },
    "tags": []
   },
   "source": [
    "## GWAS variants"
   ]
  },
  {
   "cell_type": "code",
   "execution_count": 12,
   "id": "29434c4e-8cd3-4b9b-82e4-b5a251d9dd19",
   "metadata": {
    "execution": {
     "iopub.execute_input": "2022-08-30T16:51:37.958625Z",
     "iopub.status.busy": "2022-08-30T16:51:37.958430Z",
     "iopub.status.idle": "2022-08-30T16:51:40.360105Z",
     "shell.execute_reply": "2022-08-30T16:51:40.359317Z"
    },
    "papermill": {
     "duration": 2.413591,
     "end_time": "2022-08-30T16:51:40.362122",
     "exception": false,
     "start_time": "2022-08-30T16:51:37.948531",
     "status": "completed"
    },
    "tags": []
   },
   "outputs": [],
   "source": [
    "with open(OUTPUT_DIR_BASE / \"gwas_variant_ids.pkl\", \"rb\") as handle:\n",
    "    gwas_variants_ids_set = pickle.load(handle)"
   ]
  },
  {
   "cell_type": "code",
   "execution_count": 13,
   "id": "b9d9dec2-4a76-4bf9-bde2-e24c95acb8a0",
   "metadata": {
    "execution": {
     "iopub.execute_input": "2022-08-30T16:51:40.440305Z",
     "iopub.status.busy": "2022-08-30T16:51:40.439906Z",
     "iopub.status.idle": "2022-08-30T16:51:40.475398Z",
     "shell.execute_reply": "2022-08-30T16:51:40.474500Z"
    },
    "papermill": {
     "duration": 0.079131,
     "end_time": "2022-08-30T16:51:40.477916",
     "exception": false,
     "start_time": "2022-08-30T16:51:40.398785",
     "status": "completed"
    },
    "tags": []
   },
   "outputs": [
    {
     "data": {
      "text/plain": [
       "8376508"
      ]
     },
     "execution_count": 13,
     "metadata": {},
     "output_type": "execute_result"
    }
   ],
   "source": [
    "len(gwas_variants_ids_set)"
   ]
  },
  {
   "cell_type": "code",
   "execution_count": 14,
   "id": "4235b06a-6034-4ee4-a0a3-2ae35d122418",
   "metadata": {
    "execution": {
     "iopub.execute_input": "2022-08-30T16:51:40.564624Z",
     "iopub.status.busy": "2022-08-30T16:51:40.564219Z",
     "iopub.status.idle": "2022-08-30T16:51:41.166934Z",
     "shell.execute_reply": "2022-08-30T16:51:41.166189Z"
    },
    "papermill": {
     "duration": 0.65296,
     "end_time": "2022-08-30T16:51:41.168805",
     "exception": false,
     "start_time": "2022-08-30T16:51:40.515845",
     "status": "completed"
    },
    "tags": []
   },
   "outputs": [
    {
     "data": {
      "text/plain": [
       "['chr4_56352538_C_T_b38',\n",
       " 'chr13_97496175_G_A_b38',\n",
       " 'chr6_75622429_T_C_b38',\n",
       " 'chr3_60794328_G_T_b38',\n",
       " 'chr3_21000835_T_A_b38']"
      ]
     },
     "execution_count": 14,
     "metadata": {},
     "output_type": "execute_result"
    }
   ],
   "source": [
    "list(gwas_variants_ids_set)[:5]"
   ]
  },
  {
   "cell_type": "markdown",
   "id": "07866999-2305-41f9-a144-e69c9122c212",
   "metadata": {
    "papermill": {
     "duration": 0.009506,
     "end_time": "2022-08-30T16:51:41.189692",
     "exception": false,
     "start_time": "2022-08-30T16:51:41.180186",
     "status": "completed"
    },
    "tags": []
   },
   "source": [
    "## S-PrediXcan tissue models"
   ]
  },
  {
   "cell_type": "code",
   "execution_count": 15,
   "id": "780611d9-77c8-405f-90a4-f271f7b09397",
   "metadata": {
    "execution": {
     "iopub.execute_input": "2022-08-30T16:51:41.209721Z",
     "iopub.status.busy": "2022-08-30T16:51:41.209514Z",
     "iopub.status.idle": "2022-08-30T16:51:42.038610Z",
     "shell.execute_reply": "2022-08-30T16:51:42.038007Z"
    },
    "papermill": {
     "duration": 0.841455,
     "end_time": "2022-08-30T16:51:42.040536",
     "exception": false,
     "start_time": "2022-08-30T16:51:41.199081",
     "status": "completed"
    },
    "tags": []
   },
   "outputs": [],
   "source": [
    "spredixcan_genes_models = pd.read_pickle(OUTPUT_DIR_BASE / \"gene_tissues.pkl\")"
   ]
  },
  {
   "cell_type": "code",
   "execution_count": 16,
   "id": "726dd1f6-9557-4225-91fa-b3b879ea96e1",
   "metadata": {
    "execution": {
     "iopub.execute_input": "2022-08-30T16:51:42.095060Z",
     "iopub.status.busy": "2022-08-30T16:51:42.094791Z",
     "iopub.status.idle": "2022-08-30T16:51:42.449627Z",
     "shell.execute_reply": "2022-08-30T16:51:42.448529Z"
    },
    "papermill": {
     "duration": 0.383734,
     "end_time": "2022-08-30T16:51:42.452797",
     "exception": false,
     "start_time": "2022-08-30T16:51:42.069063",
     "status": "completed"
    },
    "tags": []
   },
   "outputs": [
    {
     "data": {
      "text/plain": [
       "(6425, 3)"
      ]
     },
     "execution_count": 16,
     "metadata": {},
     "output_type": "execute_result"
    }
   ],
   "source": [
    "spredixcan_genes_models.shape"
   ]
  },
  {
   "cell_type": "code",
   "execution_count": 17,
   "id": "944a1b48-222c-4eb0-b252-b9de2cbca215",
   "metadata": {
    "execution": {
     "iopub.execute_input": "2022-08-30T16:51:42.500158Z",
     "iopub.status.busy": "2022-08-30T16:51:42.499786Z",
     "iopub.status.idle": "2022-08-30T16:51:42.561482Z",
     "shell.execute_reply": "2022-08-30T16:51:42.560676Z"
    },
    "papermill": {
     "duration": 0.087684,
     "end_time": "2022-08-30T16:51:42.563869",
     "exception": false,
     "start_time": "2022-08-30T16:51:42.476185",
     "status": "completed"
    },
    "tags": []
   },
   "outputs": [
    {
     "data": {
      "text/html": [
       "<div>\n",
       "<style scoped>\n",
       "    .dataframe tbody tr th:only-of-type {\n",
       "        vertical-align: middle;\n",
       "    }\n",
       "\n",
       "    .dataframe tbody tr th {\n",
       "        vertical-align: top;\n",
       "    }\n",
       "\n",
       "    .dataframe thead th {\n",
       "        text-align: right;\n",
       "    }\n",
       "</style>\n",
       "<table border=\"1\" class=\"dataframe\">\n",
       "  <thead>\n",
       "    <tr style=\"text-align: right;\">\n",
       "      <th></th>\n",
       "      <th>gene_name</th>\n",
       "      <th>tissue</th>\n",
       "      <th>n_tissues</th>\n",
       "    </tr>\n",
       "    <tr>\n",
       "      <th>gene_id</th>\n",
       "      <th></th>\n",
       "      <th></th>\n",
       "      <th></th>\n",
       "    </tr>\n",
       "  </thead>\n",
       "  <tbody>\n",
       "    <tr>\n",
       "      <th>ENSG00000000419</th>\n",
       "      <td>DPM1</td>\n",
       "      <td>(Brain_Substantia_nigra, Brain_Hypothalamus)</td>\n",
       "      <td>2</td>\n",
       "    </tr>\n",
       "    <tr>\n",
       "      <th>ENSG00000000938</th>\n",
       "      <td>FGR</td>\n",
       "      <td>(Prostate, Nerve_Tibial, Colon_Sigmoid, Brain_...</td>\n",
       "      <td>26</td>\n",
       "    </tr>\n",
       "    <tr>\n",
       "      <th>ENSG00000000971</th>\n",
       "      <td>CFH</td>\n",
       "      <td>(Colon_Sigmoid, Nerve_Tibial, Brain_Cortex, Ut...</td>\n",
       "      <td>34</td>\n",
       "    </tr>\n",
       "    <tr>\n",
       "      <th>ENSG00000001084</th>\n",
       "      <td>GCLC</td>\n",
       "      <td>(Nerve_Tibial, Brain_Cortex, Adipose_Subcutane...</td>\n",
       "      <td>32</td>\n",
       "    </tr>\n",
       "    <tr>\n",
       "      <th>ENSG00000001167</th>\n",
       "      <td>NFYA</td>\n",
       "      <td>(Prostate, Nerve_Tibial, Colon_Sigmoid, Brain_...</td>\n",
       "      <td>40</td>\n",
       "    </tr>\n",
       "  </tbody>\n",
       "</table>\n",
       "</div>"
      ],
      "text/plain": [
       "                gene_name                                             tissue  \\\n",
       "gene_id                                                                        \n",
       "ENSG00000000419      DPM1       (Brain_Substantia_nigra, Brain_Hypothalamus)   \n",
       "ENSG00000000938       FGR  (Prostate, Nerve_Tibial, Colon_Sigmoid, Brain_...   \n",
       "ENSG00000000971       CFH  (Colon_Sigmoid, Nerve_Tibial, Brain_Cortex, Ut...   \n",
       "ENSG00000001084      GCLC  (Nerve_Tibial, Brain_Cortex, Adipose_Subcutane...   \n",
       "ENSG00000001167      NFYA  (Prostate, Nerve_Tibial, Colon_Sigmoid, Brain_...   \n",
       "\n",
       "                 n_tissues  \n",
       "gene_id                     \n",
       "ENSG00000000419          2  \n",
       "ENSG00000000938         26  \n",
       "ENSG00000000971         34  \n",
       "ENSG00000001084         32  \n",
       "ENSG00000001167         40  "
      ]
     },
     "execution_count": 17,
     "metadata": {},
     "output_type": "execute_result"
    }
   ],
   "source": [
    "spredixcan_genes_models.head()"
   ]
  },
  {
   "cell_type": "code",
   "execution_count": 18,
   "id": "d1c11bb1-be0b-4f40-b360-633d6827109f",
   "metadata": {
    "execution": {
     "iopub.execute_input": "2022-08-30T16:51:42.597169Z",
     "iopub.status.busy": "2022-08-30T16:51:42.596876Z",
     "iopub.status.idle": "2022-08-30T16:51:42.639921Z",
     "shell.execute_reply": "2022-08-30T16:51:42.639126Z"
    },
    "papermill": {
     "duration": 0.06149,
     "end_time": "2022-08-30T16:51:42.642496",
     "exception": false,
     "start_time": "2022-08-30T16:51:42.581006",
     "status": "completed"
    },
    "tags": []
   },
   "outputs": [],
   "source": [
    "assert spredixcan_genes_models.index.is_unique"
   ]
  },
  {
   "cell_type": "markdown",
   "id": "a5b5092c-a13e-47c4-a92a-480fcc08f3ae",
   "metadata": {
    "papermill": {
     "duration": 0.015153,
     "end_time": "2022-08-30T16:51:42.673064",
     "exception": false,
     "start_time": "2022-08-30T16:51:42.657911",
     "status": "completed"
    },
    "tags": []
   },
   "source": [
    "## Gene info"
   ]
  },
  {
   "cell_type": "code",
   "execution_count": 19,
   "id": "7d6bb224-88e9-4358-ac10-43a41d92cdad",
   "metadata": {
    "execution": {
     "iopub.execute_input": "2022-08-30T16:51:42.707223Z",
     "iopub.status.busy": "2022-08-30T16:51:42.706942Z",
     "iopub.status.idle": "2022-08-30T16:51:42.764051Z",
     "shell.execute_reply": "2022-08-30T16:51:42.763105Z"
    },
    "papermill": {
     "duration": 0.076855,
     "end_time": "2022-08-30T16:51:42.766790",
     "exception": false,
     "start_time": "2022-08-30T16:51:42.689935",
     "status": "completed"
    },
    "tags": []
   },
   "outputs": [],
   "source": [
    "genes_info = pd.read_pickle(OUTPUT_DIR_BASE / \"genes_info.pkl\")"
   ]
  },
  {
   "cell_type": "code",
   "execution_count": 20,
   "id": "9e32abfa-546d-483e-8c18-d526e9e05903",
   "metadata": {
    "execution": {
     "iopub.execute_input": "2022-08-30T16:51:42.801052Z",
     "iopub.status.busy": "2022-08-30T16:51:42.800745Z",
     "iopub.status.idle": "2022-08-30T16:51:42.846973Z",
     "shell.execute_reply": "2022-08-30T16:51:42.846132Z"
    },
    "papermill": {
     "duration": 0.066975,
     "end_time": "2022-08-30T16:51:42.849503",
     "exception": false,
     "start_time": "2022-08-30T16:51:42.782528",
     "status": "completed"
    },
    "tags": []
   },
   "outputs": [
    {
     "data": {
      "text/plain": [
       "(6425, 7)"
      ]
     },
     "execution_count": 20,
     "metadata": {},
     "output_type": "execute_result"
    }
   ],
   "source": [
    "genes_info.shape"
   ]
  },
  {
   "cell_type": "code",
   "execution_count": 21,
   "id": "d16c3e92-85ec-468a-9a56-e25a9774a1cb",
   "metadata": {
    "execution": {
     "iopub.execute_input": "2022-08-30T16:51:42.882003Z",
     "iopub.status.busy": "2022-08-30T16:51:42.881709Z",
     "iopub.status.idle": "2022-08-30T16:51:42.919775Z",
     "shell.execute_reply": "2022-08-30T16:51:42.919068Z"
    },
    "papermill": {
     "duration": 0.056907,
     "end_time": "2022-08-30T16:51:42.921891",
     "exception": false,
     "start_time": "2022-08-30T16:51:42.864984",
     "status": "completed"
    },
    "tags": []
   },
   "outputs": [
    {
     "data": {
      "text/html": [
       "<div>\n",
       "<style scoped>\n",
       "    .dataframe tbody tr th:only-of-type {\n",
       "        vertical-align: middle;\n",
       "    }\n",
       "\n",
       "    .dataframe tbody tr th {\n",
       "        vertical-align: top;\n",
       "    }\n",
       "\n",
       "    .dataframe thead th {\n",
       "        text-align: right;\n",
       "    }\n",
       "</style>\n",
       "<table border=\"1\" class=\"dataframe\">\n",
       "  <thead>\n",
       "    <tr style=\"text-align: right;\">\n",
       "      <th></th>\n",
       "      <th>name</th>\n",
       "      <th>id</th>\n",
       "      <th>chr</th>\n",
       "      <th>band</th>\n",
       "      <th>start_position</th>\n",
       "      <th>end_position</th>\n",
       "      <th>gene_length</th>\n",
       "    </tr>\n",
       "  </thead>\n",
       "  <tbody>\n",
       "    <tr>\n",
       "      <th>0</th>\n",
       "      <td>ADAMTS14</td>\n",
       "      <td>ENSG00000138316</td>\n",
       "      <td>10</td>\n",
       "      <td>10q22.1</td>\n",
       "      <td>70672506</td>\n",
       "      <td>70762441</td>\n",
       "      <td>89935</td>\n",
       "    </tr>\n",
       "    <tr>\n",
       "      <th>1</th>\n",
       "      <td>TXN</td>\n",
       "      <td>ENSG00000136810</td>\n",
       "      <td>9</td>\n",
       "      <td>9q31.3</td>\n",
       "      <td>110243810</td>\n",
       "      <td>110256507</td>\n",
       "      <td>12697</td>\n",
       "    </tr>\n",
       "    <tr>\n",
       "      <th>2</th>\n",
       "      <td>RMI1</td>\n",
       "      <td>ENSG00000178966</td>\n",
       "      <td>9</td>\n",
       "      <td>9q21.32</td>\n",
       "      <td>83980711</td>\n",
       "      <td>84004074</td>\n",
       "      <td>23363</td>\n",
       "    </tr>\n",
       "    <tr>\n",
       "      <th>3</th>\n",
       "      <td>DHX58</td>\n",
       "      <td>ENSG00000108771</td>\n",
       "      <td>17</td>\n",
       "      <td>17q21.2</td>\n",
       "      <td>42101404</td>\n",
       "      <td>42112714</td>\n",
       "      <td>11310</td>\n",
       "    </tr>\n",
       "    <tr>\n",
       "      <th>4</th>\n",
       "      <td>XRCC4</td>\n",
       "      <td>ENSG00000152422</td>\n",
       "      <td>5</td>\n",
       "      <td>5q14.2</td>\n",
       "      <td>83077498</td>\n",
       "      <td>83353787</td>\n",
       "      <td>276289</td>\n",
       "    </tr>\n",
       "  </tbody>\n",
       "</table>\n",
       "</div>"
      ],
      "text/plain": [
       "       name               id  chr     band  start_position  end_position  \\\n",
       "0  ADAMTS14  ENSG00000138316   10  10q22.1        70672506      70762441   \n",
       "1       TXN  ENSG00000136810    9   9q31.3       110243810     110256507   \n",
       "2      RMI1  ENSG00000178966    9  9q21.32        83980711      84004074   \n",
       "3     DHX58  ENSG00000108771   17  17q21.2        42101404      42112714   \n",
       "4     XRCC4  ENSG00000152422    5   5q14.2        83077498      83353787   \n",
       "\n",
       "   gene_length  \n",
       "0        89935  \n",
       "1        12697  \n",
       "2        23363  \n",
       "3        11310  \n",
       "4       276289  "
      ]
     },
     "execution_count": 21,
     "metadata": {},
     "output_type": "execute_result"
    }
   ],
   "source": [
    "genes_info.head()"
   ]
  },
  {
   "cell_type": "markdown",
   "id": "d3843e06",
   "metadata": {
    "papermill": {
     "duration": 0.014154,
     "end_time": "2022-08-30T16:51:42.950098",
     "exception": false,
     "start_time": "2022-08-30T16:51:42.935944",
     "status": "completed"
    },
    "tags": []
   },
   "source": [
    "# Compute correlations"
   ]
  },
  {
   "cell_type": "code",
   "execution_count": 22,
   "id": "cb859c15-d1f3-4006-a74c-2b83c0db9611",
   "metadata": {
    "execution": {
     "iopub.execute_input": "2022-08-30T16:51:42.982066Z",
     "iopub.status.busy": "2022-08-30T16:51:42.981806Z",
     "iopub.status.idle": "2022-08-30T16:51:43.006703Z",
     "shell.execute_reply": "2022-08-30T16:51:43.006070Z"
    },
    "papermill": {
     "duration": 0.043499,
     "end_time": "2022-08-30T16:51:43.008589",
     "exception": false,
     "start_time": "2022-08-30T16:51:42.965090",
     "status": "completed"
    },
    "tags": []
   },
   "outputs": [
    {
     "data": {
      "text/plain": [
       "PosixPath('/project/ritchie20/projects/phenoplier/base/results/gls/gene_corrs/cohorts/emerge/gtex_v8/mashr/by_chr/gene_corrs-chr21.pkl')"
      ]
     },
     "metadata": {},
     "output_type": "display_data"
    }
   ],
   "source": [
    "output_dir = OUTPUT_DIR_BASE / \"by_chr\"\n",
    "output_dir.mkdir(exist_ok=True, parents=True)\n",
    "output_file = output_dir / f\"gene_corrs-chr{CHROMOSOME}.pkl\"\n",
    "display(output_file)"
   ]
  },
  {
   "cell_type": "code",
   "execution_count": 23,
   "id": "aa674fe4-6794-4eed-98fa-32b39d1d4ace",
   "metadata": {
    "execution": {
     "iopub.execute_input": "2022-08-30T16:51:43.037356Z",
     "iopub.status.busy": "2022-08-30T16:51:43.037163Z",
     "iopub.status.idle": "2022-08-30T16:51:43.067014Z",
     "shell.execute_reply": "2022-08-30T16:51:43.066456Z"
    },
    "papermill": {
     "duration": 0.046398,
     "end_time": "2022-08-30T16:51:43.068561",
     "exception": false,
     "start_time": "2022-08-30T16:51:43.022163",
     "status": "completed"
    },
    "tags": []
   },
   "outputs": [],
   "source": [
    "warnings.filterwarnings(\"error\")"
   ]
  },
  {
   "cell_type": "code",
   "execution_count": 24,
   "id": "44d5450b-3baf-43f1-9e2e-4b06f1a785f8",
   "metadata": {
    "execution": {
     "iopub.execute_input": "2022-08-30T16:51:43.090845Z",
     "iopub.status.busy": "2022-08-30T16:51:43.090633Z",
     "iopub.status.idle": "2022-08-30T16:51:43.112570Z",
     "shell.execute_reply": "2022-08-30T16:51:43.112080Z"
    },
    "papermill": {
     "duration": 0.034519,
     "end_time": "2022-08-30T16:51:43.114115",
     "exception": false,
     "start_time": "2022-08-30T16:51:43.079596",
     "status": "completed"
    },
    "tags": []
   },
   "outputs": [],
   "source": [
    "# standard checks\n",
    "all_chrs = genes_info[\"chr\"].dropna().unique()\n",
    "assert all_chrs.shape[0] == 22\n",
    "\n",
    "# select chromosome given by the user\n",
    "assert CHROMOSOME in all_chrs"
   ]
  },
  {
   "cell_type": "code",
   "execution_count": 25,
   "id": "2d7c043c-92a7-4d35-991b-fa69ac1e0268",
   "metadata": {
    "execution": {
     "iopub.execute_input": "2022-08-30T16:51:43.138698Z",
     "iopub.status.busy": "2022-08-30T16:51:43.138491Z",
     "iopub.status.idle": "2022-08-30T16:51:43.185250Z",
     "shell.execute_reply": "2022-08-30T16:51:43.184510Z"
    },
    "papermill": {
     "duration": 0.060515,
     "end_time": "2022-08-30T16:51:43.186913",
     "exception": false,
     "start_time": "2022-08-30T16:51:43.126398",
     "status": "completed"
    },
    "tags": []
   },
   "outputs": [
    {
     "name": "stdout",
     "output_type": "stream",
     "text": [
      "Number of genes in chromosome: 62\n"
     ]
    }
   ],
   "source": [
    "# run only on the chromosome specified\n",
    "all_chrs = [CHROMOSOME]\n",
    "genes_chr = genes_info[genes_info[\"chr\"] == CHROMOSOME]\n",
    "\n",
    "# For testing purposes\n",
    "# genes_chr = genes_chr.sample(n=20)\n",
    "\n",
    "print(f\"Number of genes in chromosome: {genes_chr.shape[0]}\", flush=True)"
   ]
  },
  {
   "cell_type": "code",
   "execution_count": 26,
   "id": "916015d8-2979-46d3-a9b9-1cf5a0932c6a",
   "metadata": {
    "execution": {
     "iopub.execute_input": "2022-08-30T16:51:43.211016Z",
     "iopub.status.busy": "2022-08-30T16:51:43.210822Z",
     "iopub.status.idle": "2022-08-30T16:51:43.230303Z",
     "shell.execute_reply": "2022-08-30T16:51:43.229810Z"
    },
    "papermill": {
     "duration": 0.034279,
     "end_time": "2022-08-30T16:51:43.231855",
     "exception": false,
     "start_time": "2022-08-30T16:51:43.197576",
     "status": "completed"
    },
    "tags": []
   },
   "outputs": [],
   "source": [
    "# sort genes by starting position to make visualizations better later\n",
    "genes_chr = genes_chr.sort_values(\"start_position\")"
   ]
  },
  {
   "cell_type": "code",
   "execution_count": 27,
   "id": "a38aa74a-8ad3-47f6-8ef9-56be0e011774",
   "metadata": {
    "execution": {
     "iopub.execute_input": "2022-08-30T16:51:43.256565Z",
     "iopub.status.busy": "2022-08-30T16:51:43.256345Z",
     "iopub.status.idle": "2022-08-30T16:51:43.272568Z",
     "shell.execute_reply": "2022-08-30T16:51:43.271916Z"
    },
    "papermill": {
     "duration": 0.030893,
     "end_time": "2022-08-30T16:51:43.274109",
     "exception": false,
     "start_time": "2022-08-30T16:51:43.243216",
     "status": "completed"
    },
    "tags": []
   },
   "outputs": [],
   "source": [
    "gene_chr_objs = [Gene(ensembl_id=gene_id) for gene_id in genes_chr[\"id\"]]"
   ]
  },
  {
   "cell_type": "code",
   "execution_count": 28,
   "id": "570f974f-13c3-42b6-ad3a-ce99ca885c1a",
   "metadata": {
    "execution": {
     "iopub.execute_input": "2022-08-30T16:51:43.299422Z",
     "iopub.status.busy": "2022-08-30T16:51:43.299222Z",
     "iopub.status.idle": "2022-08-30T16:51:43.316256Z",
     "shell.execute_reply": "2022-08-30T16:51:43.315618Z"
    },
    "papermill": {
     "duration": 0.031682,
     "end_time": "2022-08-30T16:51:43.317979",
     "exception": false,
     "start_time": "2022-08-30T16:51:43.286297",
     "status": "completed"
    },
    "tags": []
   },
   "outputs": [
    {
     "name": "stdout",
     "output_type": "stream",
     "text": [
      "Number of gene combinations: 1953\n"
     ]
    }
   ],
   "source": [
    "n = len(gene_chr_objs)\n",
    "# diagonal elements + upper triangular matrix\n",
    "n_comb = n + int(n * (n - 1) / 2.0)\n",
    "print(f\"Number of gene combinations: {n_comb}\", flush=True)"
   ]
  },
  {
   "cell_type": "code",
   "execution_count": 29,
   "id": "cdbb90a1",
   "metadata": {
    "execution": {
     "iopub.execute_input": "2022-08-30T16:51:43.342549Z",
     "iopub.status.busy": "2022-08-30T16:51:43.342347Z",
     "iopub.status.idle": "2022-08-30T16:55:16.917554Z",
     "shell.execute_reply": "2022-08-30T16:55:16.916855Z"
    },
    "papermill": {
     "duration": 213.589112,
     "end_time": "2022-08-30T16:55:16.919386",
     "exception": false,
     "start_time": "2022-08-30T16:51:43.330274",
     "status": "completed"
    },
    "tags": []
   },
   "outputs": [
    {
     "name": "stderr",
     "output_type": "stream",
     "text": [
      "ENSG00000160307 / ENSG00000160307: 100%|████████████████████████| 1953/1953 [03:33<00:00,  9.15it/s]\n"
     ]
    },
    {
     "data": {
      "text/plain": [
       "PosixPath('/project/ritchie20/projects/phenoplier/base/results/gls/gene_corrs/cohorts/emerge/gtex_v8/mashr/by_chr/gene_corrs-chr21.pkl')"
      ]
     },
     "metadata": {},
     "output_type": "display_data"
    }
   ],
   "source": [
    "gene_corrs = []\n",
    "gene_corrs_data = np.full(\n",
    "    (n, n),\n",
    "    np.nan,\n",
    "    dtype=np.float64,\n",
    ")\n",
    "\n",
    "i = 0\n",
    "with tqdm(ncols=100, total=n_comb) as pbar:\n",
    "    for gene1_idx in range(0, len(gene_chr_objs)):\n",
    "        gene1_obj = gene_chr_objs[gene1_idx]\n",
    "        gene1_tissues = spredixcan_genes_models.loc[gene1_obj.ensembl_id, \"tissue\"]\n",
    "\n",
    "        for gene2_idx in range(gene1_idx, len(gene_chr_objs)):\n",
    "            gene2_obj = gene_chr_objs[gene2_idx]\n",
    "            gene2_tissues = spredixcan_genes_models.loc[gene2_obj.ensembl_id, \"tissue\"]\n",
    "\n",
    "            pbar.set_description(f\"{gene1_obj.ensembl_id} / {gene2_obj.ensembl_id}\")\n",
    "\n",
    "            try:\n",
    "                r = gene1_obj.get_ssm_correlation(\n",
    "                    other_gene=gene2_obj,\n",
    "                    tissues=gene1_tissues,\n",
    "                    other_tissues=gene2_tissues,\n",
    "                    snps_subset=gwas_variants_ids_set,\n",
    "                    condition_number=SMULTIXCAN_CONDITION_NUMBER,\n",
    "                    reference_panel=REFERENCE_PANEL,\n",
    "                    model_type=EQTL_MODEL,\n",
    "                    use_within_distance=COMPUTE_CORRELATIONS_WITHIN_DISTANCE,\n",
    "                )\n",
    "\n",
    "                if r is None:\n",
    "                    # if r is None, it's very likely because:\n",
    "                    #  * one of the genes has no prediction models\n",
    "                    #  * all the SNPs predictors for the gene are not present in the reference\n",
    "                    #    panel\n",
    "\n",
    "                    r = 0.0\n",
    "\n",
    "                gene_corrs.append(r)\n",
    "\n",
    "                gene_corrs_data[gene1_idx, gene2_idx] = r\n",
    "                gene_corrs_data[gene2_idx, gene1_idx] = r\n",
    "            except Warning as e:\n",
    "                if not DEBUG_MODE:\n",
    "                    raise e\n",
    "\n",
    "                print(\n",
    "                    f\"RuntimeWarning for genes {gene1_obj.ensembl_id} and {gene2_obj.ensembl_id}\",\n",
    "                    flush=True,\n",
    "                )\n",
    "                print(traceback.format_exc(), flush=True)\n",
    "\n",
    "                gene_corrs.append(np.nan)\n",
    "            except Exception as e:\n",
    "                if not DEBUG_MODE:\n",
    "                    raise e\n",
    "\n",
    "                print(\n",
    "                    f\"Exception for genes {gene1_obj.ensembl_id} and {gene2_obj.ensembl_id}\",\n",
    "                    flush=True,\n",
    "                )\n",
    "                print(traceback.format_exc(), flush=True)\n",
    "\n",
    "                gene_corrs.append(np.nan)\n",
    "\n",
    "            pbar.update(1)\n",
    "\n",
    "# create a pandas series\n",
    "gene_corrs_flat = pd.Series(gene_corrs)\n",
    "\n",
    "# save\n",
    "# FIXME: consider saving only the condenced matrix here. See here for\n",
    "# more details: https://github.com/greenelab/phenoplier/pull/38#discussion_r634600813\n",
    "# gene_corrs_data = squareform(np.array(gene_corrs, dtype=np.float64))\n",
    "# np.fill_diagonal(gene_corrs_data, 1.0)\n",
    "\n",
    "gene_chr_ids = [g.ensembl_id for g in gene_chr_objs]\n",
    "gene_corrs_df = pd.DataFrame(\n",
    "    data=gene_corrs_data,\n",
    "    index=gene_chr_ids,\n",
    "    columns=gene_chr_ids,\n",
    ")\n",
    "\n",
    "output_dir.mkdir(exist_ok=True, parents=True)\n",
    "display(output_file)\n",
    "\n",
    "gene_corrs_df.to_pickle(output_file)"
   ]
  },
  {
   "cell_type": "markdown",
   "id": "faa67b51-5373-470f-aa72-2ded53fa6dfe",
   "metadata": {
    "papermill": {
     "duration": 0.152701,
     "end_time": "2022-08-30T16:55:17.197820",
     "exception": false,
     "start_time": "2022-08-30T16:55:17.045119",
     "status": "completed"
    },
    "tags": []
   },
   "source": [
    "# Testing"
   ]
  },
  {
   "cell_type": "code",
   "execution_count": 30,
   "id": "14f7d046-4b55-4896-a56b-990127bcc388",
   "metadata": {
    "execution": {
     "iopub.execute_input": "2022-08-30T16:55:17.445183Z",
     "iopub.status.busy": "2022-08-30T16:55:17.444911Z",
     "iopub.status.idle": "2022-08-30T16:55:17.719379Z",
     "shell.execute_reply": "2022-08-30T16:55:17.718365Z"
    },
    "papermill": {
     "duration": 0.401436,
     "end_time": "2022-08-30T16:55:17.722165",
     "exception": false,
     "start_time": "2022-08-30T16:55:17.320729",
     "status": "completed"
    },
    "tags": []
   },
   "outputs": [
    {
     "data": {
      "text/plain": [
       "(62, 62)"
      ]
     },
     "execution_count": 30,
     "metadata": {},
     "output_type": "execute_result"
    }
   ],
   "source": [
    "gene_corrs_df.shape"
   ]
  },
  {
   "cell_type": "code",
   "execution_count": 31,
   "id": "c7d15414-3297-4537-a7c6-7588c0baeb75",
   "metadata": {
    "execution": {
     "iopub.execute_input": "2022-08-30T16:55:18.019058Z",
     "iopub.status.busy": "2022-08-30T16:55:18.018865Z",
     "iopub.status.idle": "2022-08-30T16:55:18.050006Z",
     "shell.execute_reply": "2022-08-30T16:55:18.049519Z"
    },
    "papermill": {
     "duration": 0.160165,
     "end_time": "2022-08-30T16:55:18.051439",
     "exception": false,
     "start_time": "2022-08-30T16:55:17.891274",
     "status": "completed"
    },
    "tags": []
   },
   "outputs": [
    {
     "data": {
      "text/html": [
       "<div>\n",
       "<style scoped>\n",
       "    .dataframe tbody tr th:only-of-type {\n",
       "        vertical-align: middle;\n",
       "    }\n",
       "\n",
       "    .dataframe tbody tr th {\n",
       "        vertical-align: top;\n",
       "    }\n",
       "\n",
       "    .dataframe thead th {\n",
       "        text-align: right;\n",
       "    }\n",
       "</style>\n",
       "<table border=\"1\" class=\"dataframe\">\n",
       "  <thead>\n",
       "    <tr style=\"text-align: right;\">\n",
       "      <th></th>\n",
       "      <th>ENSG00000155307</th>\n",
       "      <th>ENSG00000180530</th>\n",
       "      <th>ENSG00000154719</th>\n",
       "      <th>ENSG00000154721</th>\n",
       "      <th>ENSG00000154723</th>\n",
       "      <th>ENSG00000142192</th>\n",
       "      <th>ENSG00000154734</th>\n",
       "      <th>ENSG00000156261</th>\n",
       "      <th>ENSG00000171189</th>\n",
       "      <th>ENSG00000156299</th>\n",
       "      <th>...</th>\n",
       "      <th>ENSG00000160255</th>\n",
       "      <th>ENSG00000197381</th>\n",
       "      <th>ENSG00000182871</th>\n",
       "      <th>ENSG00000173638</th>\n",
       "      <th>ENSG00000142156</th>\n",
       "      <th>ENSG00000142173</th>\n",
       "      <th>ENSG00000160282</th>\n",
       "      <th>ENSG00000160285</th>\n",
       "      <th>ENSG00000160299</th>\n",
       "      <th>ENSG00000160307</th>\n",
       "    </tr>\n",
       "  </thead>\n",
       "  <tbody>\n",
       "    <tr>\n",
       "      <th>ENSG00000155307</th>\n",
       "      <td>1.000000</td>\n",
       "      <td>0.005178</td>\n",
       "      <td>0.004880</td>\n",
       "      <td>0.003141</td>\n",
       "      <td>0.005415</td>\n",
       "      <td>0.005186</td>\n",
       "      <td>0.003721</td>\n",
       "      <td>0.002872</td>\n",
       "      <td>0.006022</td>\n",
       "      <td>0.005140</td>\n",
       "      <td>...</td>\n",
       "      <td>0.013646</td>\n",
       "      <td>0.009796</td>\n",
       "      <td>0.008705</td>\n",
       "      <td>0.012405</td>\n",
       "      <td>0.009493</td>\n",
       "      <td>0.009552</td>\n",
       "      <td>0.008362</td>\n",
       "      <td>0.006249</td>\n",
       "      <td>0.008688</td>\n",
       "      <td>0.008517</td>\n",
       "    </tr>\n",
       "    <tr>\n",
       "      <th>ENSG00000180530</th>\n",
       "      <td>0.005178</td>\n",
       "      <td>1.000000</td>\n",
       "      <td>0.004544</td>\n",
       "      <td>0.006682</td>\n",
       "      <td>0.008033</td>\n",
       "      <td>0.008056</td>\n",
       "      <td>0.008561</td>\n",
       "      <td>0.002112</td>\n",
       "      <td>0.004616</td>\n",
       "      <td>0.009805</td>\n",
       "      <td>...</td>\n",
       "      <td>0.008660</td>\n",
       "      <td>0.011084</td>\n",
       "      <td>0.013323</td>\n",
       "      <td>0.014953</td>\n",
       "      <td>0.012049</td>\n",
       "      <td>0.010289</td>\n",
       "      <td>0.005715</td>\n",
       "      <td>0.006857</td>\n",
       "      <td>0.006533</td>\n",
       "      <td>0.008145</td>\n",
       "    </tr>\n",
       "    <tr>\n",
       "      <th>ENSG00000154719</th>\n",
       "      <td>0.004880</td>\n",
       "      <td>0.004544</td>\n",
       "      <td>1.000000</td>\n",
       "      <td>0.423625</td>\n",
       "      <td>0.151819</td>\n",
       "      <td>0.013556</td>\n",
       "      <td>0.006876</td>\n",
       "      <td>0.003509</td>\n",
       "      <td>0.000581</td>\n",
       "      <td>0.012442</td>\n",
       "      <td>...</td>\n",
       "      <td>0.006062</td>\n",
       "      <td>0.011233</td>\n",
       "      <td>0.008865</td>\n",
       "      <td>0.011899</td>\n",
       "      <td>0.008213</td>\n",
       "      <td>0.012071</td>\n",
       "      <td>0.004726</td>\n",
       "      <td>0.007143</td>\n",
       "      <td>0.006077</td>\n",
       "      <td>0.006459</td>\n",
       "    </tr>\n",
       "    <tr>\n",
       "      <th>ENSG00000154721</th>\n",
       "      <td>0.003141</td>\n",
       "      <td>0.006682</td>\n",
       "      <td>0.423625</td>\n",
       "      <td>1.000000</td>\n",
       "      <td>0.347390</td>\n",
       "      <td>0.012909</td>\n",
       "      <td>0.006788</td>\n",
       "      <td>0.003180</td>\n",
       "      <td>0.001469</td>\n",
       "      <td>0.008599</td>\n",
       "      <td>...</td>\n",
       "      <td>0.008081</td>\n",
       "      <td>0.007519</td>\n",
       "      <td>0.008121</td>\n",
       "      <td>0.009511</td>\n",
       "      <td>0.011769</td>\n",
       "      <td>0.013917</td>\n",
       "      <td>0.004619</td>\n",
       "      <td>0.004425</td>\n",
       "      <td>0.006521</td>\n",
       "      <td>0.006946</td>\n",
       "    </tr>\n",
       "    <tr>\n",
       "      <th>ENSG00000154723</th>\n",
       "      <td>0.005415</td>\n",
       "      <td>0.008033</td>\n",
       "      <td>0.151819</td>\n",
       "      <td>0.347390</td>\n",
       "      <td>1.000000</td>\n",
       "      <td>0.028369</td>\n",
       "      <td>0.005127</td>\n",
       "      <td>0.002333</td>\n",
       "      <td>0.002249</td>\n",
       "      <td>0.012492</td>\n",
       "      <td>...</td>\n",
       "      <td>0.010031</td>\n",
       "      <td>0.011980</td>\n",
       "      <td>0.011224</td>\n",
       "      <td>0.010536</td>\n",
       "      <td>0.011250</td>\n",
       "      <td>0.010151</td>\n",
       "      <td>0.006915</td>\n",
       "      <td>0.004478</td>\n",
       "      <td>0.009942</td>\n",
       "      <td>0.004872</td>\n",
       "    </tr>\n",
       "  </tbody>\n",
       "</table>\n",
       "<p>5 rows × 62 columns</p>\n",
       "</div>"
      ],
      "text/plain": [
       "                 ENSG00000155307  ENSG00000180530  ENSG00000154719  \\\n",
       "ENSG00000155307         1.000000         0.005178         0.004880   \n",
       "ENSG00000180530         0.005178         1.000000         0.004544   \n",
       "ENSG00000154719         0.004880         0.004544         1.000000   \n",
       "ENSG00000154721         0.003141         0.006682         0.423625   \n",
       "ENSG00000154723         0.005415         0.008033         0.151819   \n",
       "\n",
       "                 ENSG00000154721  ENSG00000154723  ENSG00000142192  \\\n",
       "ENSG00000155307         0.003141         0.005415         0.005186   \n",
       "ENSG00000180530         0.006682         0.008033         0.008056   \n",
       "ENSG00000154719         0.423625         0.151819         0.013556   \n",
       "ENSG00000154721         1.000000         0.347390         0.012909   \n",
       "ENSG00000154723         0.347390         1.000000         0.028369   \n",
       "\n",
       "                 ENSG00000154734  ENSG00000156261  ENSG00000171189  \\\n",
       "ENSG00000155307         0.003721         0.002872         0.006022   \n",
       "ENSG00000180530         0.008561         0.002112         0.004616   \n",
       "ENSG00000154719         0.006876         0.003509         0.000581   \n",
       "ENSG00000154721         0.006788         0.003180         0.001469   \n",
       "ENSG00000154723         0.005127         0.002333         0.002249   \n",
       "\n",
       "                 ENSG00000156299  ...  ENSG00000160255  ENSG00000197381  \\\n",
       "ENSG00000155307         0.005140  ...         0.013646         0.009796   \n",
       "ENSG00000180530         0.009805  ...         0.008660         0.011084   \n",
       "ENSG00000154719         0.012442  ...         0.006062         0.011233   \n",
       "ENSG00000154721         0.008599  ...         0.008081         0.007519   \n",
       "ENSG00000154723         0.012492  ...         0.010031         0.011980   \n",
       "\n",
       "                 ENSG00000182871  ENSG00000173638  ENSG00000142156  \\\n",
       "ENSG00000155307         0.008705         0.012405         0.009493   \n",
       "ENSG00000180530         0.013323         0.014953         0.012049   \n",
       "ENSG00000154719         0.008865         0.011899         0.008213   \n",
       "ENSG00000154721         0.008121         0.009511         0.011769   \n",
       "ENSG00000154723         0.011224         0.010536         0.011250   \n",
       "\n",
       "                 ENSG00000142173  ENSG00000160282  ENSG00000160285  \\\n",
       "ENSG00000155307         0.009552         0.008362         0.006249   \n",
       "ENSG00000180530         0.010289         0.005715         0.006857   \n",
       "ENSG00000154719         0.012071         0.004726         0.007143   \n",
       "ENSG00000154721         0.013917         0.004619         0.004425   \n",
       "ENSG00000154723         0.010151         0.006915         0.004478   \n",
       "\n",
       "                 ENSG00000160299  ENSG00000160307  \n",
       "ENSG00000155307         0.008688         0.008517  \n",
       "ENSG00000180530         0.006533         0.008145  \n",
       "ENSG00000154719         0.006077         0.006459  \n",
       "ENSG00000154721         0.006521         0.006946  \n",
       "ENSG00000154723         0.009942         0.004872  \n",
       "\n",
       "[5 rows x 62 columns]"
      ]
     },
     "execution_count": 31,
     "metadata": {},
     "output_type": "execute_result"
    }
   ],
   "source": [
    "gene_corrs_df.head()"
   ]
  },
  {
   "cell_type": "markdown",
   "id": "dad6603f-01c6-41fb-a6f6-241051207dd8",
   "metadata": {
    "papermill": {
     "duration": 0.125379,
     "end_time": "2022-08-30T16:55:18.298862",
     "exception": false,
     "start_time": "2022-08-30T16:55:18.173483",
     "status": "completed"
    },
    "tags": []
   },
   "source": [
    "## Standard checks and stats"
   ]
  },
  {
   "cell_type": "code",
   "execution_count": 32,
   "id": "286686af-1b7b-4440-8453-6bdcbd8de19c",
   "metadata": {
    "execution": {
     "iopub.execute_input": "2022-08-30T16:55:18.568672Z",
     "iopub.status.busy": "2022-08-30T16:55:18.568387Z",
     "iopub.status.idle": "2022-08-30T16:55:18.587912Z",
     "shell.execute_reply": "2022-08-30T16:55:18.587354Z"
    },
    "papermill": {
     "duration": 0.14569,
     "end_time": "2022-08-30T16:55:18.589533",
     "exception": false,
     "start_time": "2022-08-30T16:55:18.443843",
     "status": "completed"
    },
    "tags": []
   },
   "outputs": [],
   "source": [
    "assert not gene_corrs_df.isna().any().any()"
   ]
  },
  {
   "cell_type": "code",
   "execution_count": 33,
   "id": "00583efc-7068-4270-ad1e-4a418e91db96",
   "metadata": {
    "execution": {
     "iopub.execute_input": "2022-08-30T16:55:18.835933Z",
     "iopub.status.busy": "2022-08-30T16:55:18.835707Z",
     "iopub.status.idle": "2022-08-30T16:55:18.854294Z",
     "shell.execute_reply": "2022-08-30T16:55:18.853813Z"
    },
    "papermill": {
     "duration": 0.143133,
     "end_time": "2022-08-30T16:55:18.855722",
     "exception": false,
     "start_time": "2022-08-30T16:55:18.712589",
     "status": "completed"
    },
    "tags": []
   },
   "outputs": [
    {
     "data": {
      "text/plain": [
       "0.0005813800282471693"
      ]
     },
     "metadata": {},
     "output_type": "display_data"
    }
   ],
   "source": [
    "_min_val = gene_corrs_df.min().min()\n",
    "display(_min_val)\n",
    "assert _min_val >= -0.05"
   ]
  },
  {
   "cell_type": "code",
   "execution_count": 34,
   "id": "d04fb2cf-1050-475b-b855-f5f7cc04092b",
   "metadata": {
    "execution": {
     "iopub.execute_input": "2022-08-30T16:55:19.103546Z",
     "iopub.status.busy": "2022-08-30T16:55:19.103310Z",
     "iopub.status.idle": "2022-08-30T16:55:19.121959Z",
     "shell.execute_reply": "2022-08-30T16:55:19.121454Z"
    },
    "papermill": {
     "duration": 0.146853,
     "end_time": "2022-08-30T16:55:19.123548",
     "exception": false,
     "start_time": "2022-08-30T16:55:18.976695",
     "status": "completed"
    },
    "tags": []
   },
   "outputs": [
    {
     "data": {
      "text/plain": [
       "1.0000000000000018"
      ]
     },
     "metadata": {},
     "output_type": "display_data"
    }
   ],
   "source": [
    "_max_val = gene_corrs_df.max().max()  # this captures the diagonal\n",
    "display(_max_val)\n",
    "assert _max_val <= 1.05"
   ]
  },
  {
   "cell_type": "code",
   "execution_count": 35,
   "id": "96d02c44-1fba-47be-8a93-8f2608420b9c",
   "metadata": {
    "execution": {
     "iopub.execute_input": "2022-08-30T16:55:19.368500Z",
     "iopub.status.busy": "2022-08-30T16:55:19.368277Z",
     "iopub.status.idle": "2022-08-30T16:55:19.384519Z",
     "shell.execute_reply": "2022-08-30T16:55:19.384032Z"
    },
    "papermill": {
     "duration": 0.139787,
     "end_time": "2022-08-30T16:55:19.386037",
     "exception": false,
     "start_time": "2022-08-30T16:55:19.246250",
     "status": "completed"
    },
    "tags": []
   },
   "outputs": [],
   "source": [
    "# check upper triangular values\n",
    "# assert len(gene_corrs) == int(genes_chr.shape[0] * (genes_chr.shape[0] - 1) / 2)"
   ]
  },
  {
   "cell_type": "code",
   "execution_count": 36,
   "id": "fe283586-c348-40e0-8841-f6d97bfb021c",
   "metadata": {
    "execution": {
     "iopub.execute_input": "2022-08-30T16:55:19.627027Z",
     "iopub.status.busy": "2022-08-30T16:55:19.626834Z",
     "iopub.status.idle": "2022-08-30T16:55:19.647642Z",
     "shell.execute_reply": "2022-08-30T16:55:19.647130Z"
    },
    "papermill": {
     "duration": 0.144077,
     "end_time": "2022-08-30T16:55:19.649121",
     "exception": false,
     "start_time": "2022-08-30T16:55:19.505044",
     "status": "completed"
    },
    "tags": []
   },
   "outputs": [
    {
     "data": {
      "text/plain": [
       "count    1953.000000\n",
       "mean        0.045092\n",
       "std         0.177289\n",
       "min         0.000581\n",
       "25%         0.005869\n",
       "50%         0.007986\n",
       "75%         0.010841\n",
       "max         1.000000\n",
       "dtype: float64"
      ]
     },
     "execution_count": 36,
     "metadata": {},
     "output_type": "execute_result"
    }
   ],
   "source": [
    "gene_corrs_flat.describe()"
   ]
  },
  {
   "cell_type": "code",
   "execution_count": 37,
   "id": "b3815678-0f93-4b35-897b-a9d047a2aa78",
   "metadata": {
    "execution": {
     "iopub.execute_input": "2022-08-30T16:55:19.920177Z",
     "iopub.status.busy": "2022-08-30T16:55:19.919925Z",
     "iopub.status.idle": "2022-08-30T16:55:19.942476Z",
     "shell.execute_reply": "2022-08-30T16:55:19.941961Z"
    },
    "papermill": {
     "duration": 0.154318,
     "end_time": "2022-08-30T16:55:19.943932",
     "exception": false,
     "start_time": "2022-08-30T16:55:19.789614",
     "status": "completed"
    },
    "tags": []
   },
   "outputs": [
    {
     "data": {
      "text/plain": [
       "0.00    0.000581\n",
       "0.05    0.003267\n",
       "0.10    0.004207\n",
       "0.15    0.004807\n",
       "0.20    0.005317\n",
       "0.25    0.005869\n",
       "0.30    0.006362\n",
       "0.35    0.006739\n",
       "0.40    0.007206\n",
       "0.45    0.007545\n",
       "0.50    0.007986\n",
       "0.55    0.008373\n",
       "0.60    0.008783\n",
       "0.65    0.009325\n",
       "0.70    0.010028\n",
       "0.75    0.010841\n",
       "0.80    0.011731\n",
       "0.85    0.013049\n",
       "0.90    0.015344\n",
       "0.95    0.106192\n",
       "dtype: float64"
      ]
     },
     "metadata": {},
     "output_type": "display_data"
    }
   ],
   "source": [
    "gene_corrs_quantiles = gene_corrs_flat.quantile(np.arange(0, 1, 0.05))\n",
    "display(gene_corrs_quantiles)"
   ]
  },
  {
   "cell_type": "markdown",
   "id": "87134509-b145-4a10-8bc9-b7e914c2b0fa",
   "metadata": {
    "papermill": {
     "duration": 0.121389,
     "end_time": "2022-08-30T16:55:20.185517",
     "exception": false,
     "start_time": "2022-08-30T16:55:20.064128",
     "status": "completed"
    },
    "tags": []
   },
   "source": [
    "## Positive definiteness"
   ]
  },
  {
   "cell_type": "code",
   "execution_count": 38,
   "id": "07d9a9a1-a4f7-48aa-b916-6d42a8cc6186",
   "metadata": {
    "execution": {
     "iopub.execute_input": "2022-08-30T16:55:20.431875Z",
     "iopub.status.busy": "2022-08-30T16:55:20.431662Z",
     "iopub.status.idle": "2022-08-30T16:55:20.452492Z",
     "shell.execute_reply": "2022-08-30T16:55:20.451980Z"
    },
    "papermill": {
     "duration": 0.146498,
     "end_time": "2022-08-30T16:55:20.453987",
     "exception": false,
     "start_time": "2022-08-30T16:55:20.307489",
     "status": "completed"
    },
    "tags": []
   },
   "outputs": [
    {
     "data": {
      "text/plain": [
       "0"
      ]
     },
     "metadata": {},
     "output_type": "display_data"
    },
    {
     "data": {
      "text/plain": [
       "array([], dtype=float64)"
      ]
     },
     "metadata": {},
     "output_type": "display_data"
    }
   ],
   "source": [
    "# print negative eigenvalues\n",
    "eigs = np.linalg.eigvals(gene_corrs_df.to_numpy())\n",
    "display(len(eigs[eigs < 0]))\n",
    "display(eigs[eigs < 0])"
   ]
  },
  {
   "cell_type": "code",
   "execution_count": 39,
   "id": "6e218436-c3c5-4028-8c94-a4fa6260efce",
   "metadata": {
    "execution": {
     "iopub.execute_input": "2022-08-30T16:55:20.697259Z",
     "iopub.status.busy": "2022-08-30T16:55:20.697056Z",
     "iopub.status.idle": "2022-08-30T16:55:20.716389Z",
     "shell.execute_reply": "2022-08-30T16:55:20.715877Z"
    },
    "papermill": {
     "duration": 0.143273,
     "end_time": "2022-08-30T16:55:20.717953",
     "exception": false,
     "start_time": "2022-08-30T16:55:20.574680",
     "status": "completed"
    },
    "tags": []
   },
   "outputs": [
    {
     "name": "stdout",
     "output_type": "stream",
     "text": [
      "Works!\n"
     ]
    }
   ],
   "source": [
    "try:\n",
    "    chol_mat = np.linalg.cholesky(gene_corrs_df.to_numpy())\n",
    "    cov_inv = np.linalg.inv(chol_mat)\n",
    "    print(\"Works!\")\n",
    "except Exception as e:\n",
    "    print(f\"Cholesky decomposition failed: {str(e)}\")"
   ]
  },
  {
   "cell_type": "code",
   "execution_count": 40,
   "id": "dd8827fb-faf9-4c7c-9454-015e94752706",
   "metadata": {
    "execution": {
     "iopub.execute_input": "2022-08-30T16:55:20.987552Z",
     "iopub.status.busy": "2022-08-30T16:55:20.987274Z",
     "iopub.status.idle": "2022-08-30T16:55:21.008107Z",
     "shell.execute_reply": "2022-08-30T16:55:21.007573Z"
    },
    "papermill": {
     "duration": 0.145781,
     "end_time": "2022-08-30T16:55:21.009625",
     "exception": false,
     "start_time": "2022-08-30T16:55:20.863844",
     "status": "completed"
    },
    "tags": []
   },
   "outputs": [
    {
     "name": "stdout",
     "output_type": "stream",
     "text": [
      "Works!\n"
     ]
    }
   ],
   "source": [
    "try:\n",
    "    # decomposition used by statsmodels.GLS\n",
    "    cholsigmainv = np.linalg.cholesky(np.linalg.inv(gene_corrs_df.to_numpy())).T\n",
    "    print(\"Works!\")\n",
    "except Exception as e:\n",
    "    print(f\"Cholesky decomposition failed (statsmodels.GLS): {str(e)}\")"
   ]
  },
  {
   "cell_type": "markdown",
   "id": "8e60a080-edb2-4e9c-b2ef-22961693200c",
   "metadata": {
    "papermill": {
     "duration": 0.120844,
     "end_time": "2022-08-30T16:55:21.254738",
     "exception": false,
     "start_time": "2022-08-30T16:55:21.133894",
     "status": "completed"
    },
    "tags": []
   },
   "source": [
    "## Plot: distribution"
   ]
  },
  {
   "cell_type": "code",
   "execution_count": 41,
   "id": "8301126b-a7d4-4744-9c7d-f0f86eb6f54c",
   "metadata": {
    "execution": {
     "iopub.execute_input": "2022-08-30T16:55:21.507065Z",
     "iopub.status.busy": "2022-08-30T16:55:21.506867Z",
     "iopub.status.idle": "2022-08-30T16:55:25.083094Z",
     "shell.execute_reply": "2022-08-30T16:55:25.082352Z"
    },
    "papermill": {
     "duration": 3.704391,
     "end_time": "2022-08-30T16:55:25.085094",
     "exception": false,
     "start_time": "2022-08-30T16:55:21.380703",
     "status": "completed"
    },
    "tags": []
   },
   "outputs": [
    {
     "data": {
      "image/png": "[encoded data removed]",
      "text/plain": [
       "<Figure size 504x504 with 1 Axes>"
      ]
     },
     "metadata": {
      "needs_background": "light"
     },
     "output_type": "display_data"
    }
   ],
   "source": [
    "with sns.plotting_context(\"paper\", font_scale=1.5):\n",
    "    g = sns.displot(gene_corrs_flat, kde=True, height=7)\n",
    "    g.ax.set_title(\n",
    "        f\"Distribution of gene correlation values in chromosome {CHROMOSOME}\"\n",
    "    )"
   ]
  },
  {
   "cell_type": "markdown",
   "id": "cbd52bca-d878-4a2f-b684-5c83aa3038d4",
   "metadata": {
    "papermill": {
     "duration": 0.141484,
     "end_time": "2022-08-30T16:55:25.360089",
     "exception": false,
     "start_time": "2022-08-30T16:55:25.218605",
     "status": "completed"
    },
    "tags": []
   },
   "source": [
    "## Plot: heatmap"
   ]
  },
  {
   "cell_type": "code",
   "execution_count": 42,
   "id": "d03fe63a-c7b2-4fb9-a53c-db362ce843c9",
   "metadata": {
    "execution": {
     "iopub.execute_input": "2022-08-30T16:55:25.606408Z",
     "iopub.status.busy": "2022-08-30T16:55:25.606148Z",
     "iopub.status.idle": "2022-08-30T16:55:25.633525Z",
     "shell.execute_reply": "2022-08-30T16:55:25.633010Z"
    },
    "papermill": {
     "duration": 0.15425,
     "end_time": "2022-08-30T16:55:25.635126",
     "exception": false,
     "start_time": "2022-08-30T16:55:25.480876",
     "status": "completed"
    },
    "tags": []
   },
   "outputs": [
    {
     "data": {
      "text/plain": [
       "'0.0 / 0.05'"
      ]
     },
     "metadata": {},
     "output_type": "display_data"
    }
   ],
   "source": [
    "vmin_val = min(0.00, gene_corrs_quantiles[0.10])\n",
    "vmax_val = max(0.05, gene_corrs_quantiles[0.90])\n",
    "display(f\"{vmin_val} / {vmax_val}\")"
   ]
  },
  {
   "cell_type": "code",
   "execution_count": 43,
   "id": "dc41b70b-5bcc-4d9e-9f33-a22c4a94dab5",
   "metadata": {
    "execution": {
     "iopub.execute_input": "2022-08-30T16:55:25.878098Z",
     "iopub.status.busy": "2022-08-30T16:55:25.877904Z",
     "iopub.status.idle": "2022-08-30T16:55:26.016308Z",
     "shell.execute_reply": "2022-08-30T16:55:26.015818Z"
    },
    "papermill": {
     "duration": 0.261286,
     "end_time": "2022-08-30T16:55:26.017903",
     "exception": false,
     "start_time": "2022-08-30T16:55:25.756617",
     "status": "completed"
    },
    "tags": []
   },
   "outputs": [
    {
     "data": {
      "text/plain": [
       "Text(0.5, 1.0, 'Gene correlations in chromosome 21')"
      ]
     },
     "execution_count": 43,
     "metadata": {},
     "output_type": "execute_result"
    },
    {
     "data": {
      "image/png": "[encoded data removed]",
      "text/plain": [
       "<Figure size 720x720 with 2 Axes>"
      ]
     },
     "metadata": {
      "needs_background": "light"
     },
     "output_type": "display_data"
    }
   ],
   "source": [
    "f, ax = plt.subplots(figsize=(10, 10))\n",
    "sns.heatmap(\n",
    "    gene_corrs_df,\n",
    "    xticklabels=False,\n",
    "    yticklabels=False,\n",
    "    square=True,\n",
    "    vmin=vmin_val,\n",
    "    vmax=vmax_val,\n",
    "    cmap=\"rocket_r\",\n",
    "    ax=ax,\n",
    ")\n",
    "ax.set_title(f\"Gene correlations in chromosome {CHROMOSOME}\")"
   ]
  },
  {
   "cell_type": "code",
   "execution_count": null,
   "id": "b25e3ead",
   "metadata": {
    "papermill": {
     "duration": 0.126247,
     "end_time": "2022-08-30T16:55:26.267547",
     "exception": false,
     "start_time": "2022-08-30T16:55:26.141300",
     "status": "completed"
    },
    "tags": []
   },
   "outputs": [],
   "source": []
  }
 ],
 "metadata": {
  "jupytext": {
   "cell_metadata_filter": "all,-execution,-papermill,-trusted",
   "formats": "ipynb,py//py:percent"
  },
  "kernelspec": {
   "display_name": "Python 3 (ipykernel)",
   "language": "python",
   "name": "python3"
  },
  "language_info": {
   "codemirror_mode": {
    "name": "ipython",
    "version": 3
   },
   "file_extension": ".py",
   "mimetype": "text/x-python",
   "name": "python",
   "nbconvert_exporter": "python",
   "pygments_lexer": "ipython3",
   "version": "3.8.13"
  },
  "papermill": {
   "default_parameters": {},
   "duration": 236.608735,
   "end_time": "2022-08-30T16:55:29.581575",
   "environment_variables": {},
   "exception": null,
   "input_path": "nbs/15_gsa_gls/10-gene_expr_correlations.ipynb",
   "output_path": "nbs/15_gsa_gls/gene_corrs/cohorts/emerge/gtex_v8/mashr/10-gene_expr_corrs/10-gene_expr_correlations-chr21.run.ipynb",
   "parameters": {
    "CHROMOSOME": 21,
    "COHORT_NAME": "emerge",
    "EQTL_MODEL": "MASHR",
    "REFERENCE_PANEL": "GTEX_V8"
   },
   "start_time": "2022-08-30T16:51:32.972840",
   "version": "2.2.2"
  }
 },
 "nbformat": 4,
 "nbformat_minor": 5
}
