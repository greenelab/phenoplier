{
 "cells": [
  {
   "cell_type": "markdown",
   "id": "7a6632fb",
   "metadata": {
    "papermill": {
     "duration": 0.020454,
     "end_time": "2022-08-30T16:51:35.936702",
     "exception": false,
     "start_time": "2022-08-30T16:51:35.916248",
     "status": "completed"
    },
    "tags": []
   },
   "source": [
    "# Description"
   ]
  },
  {
   "cell_type": "markdown",
   "id": "7097c346",
   "metadata": {
    "papermill": {
     "duration": 0.015487,
     "end_time": "2022-08-30T16:51:35.969067",
     "exception": false,
     "start_time": "2022-08-30T16:51:35.953580",
     "status": "completed"
    },
    "tags": []
   },
   "source": [
    "(Please, take a look at the README.md file in this directory for instructions on how to run this notebook)\n",
    "\n",
    "This notebook computes predicted expression correlations between all genes in the MultiPLIER models.\n",
    "\n",
    "It also has a parameter set for papermill to run on a single chromosome to run in parallel (see under `Settings` below).\n",
    "\n",
    "This notebook is not directly run. See README.md."
   ]
  },
  {
   "cell_type": "markdown",
   "id": "c61d8427",
   "metadata": {
    "papermill": {
     "duration": 0.01487,
     "end_time": "2022-08-30T16:51:35.999628",
     "exception": false,
     "start_time": "2022-08-30T16:51:35.984758",
     "status": "completed"
    },
    "tags": []
   },
   "source": [
    "# Modules"
   ]
  },
  {
   "cell_type": "code",
   "execution_count": 1,
   "id": "bbc0234f",
   "metadata": {
    "execution": {
     "iopub.execute_input": "2022-08-30T16:51:36.030509Z",
     "iopub.status.busy": "2022-08-30T16:51:36.030138Z",
     "iopub.status.idle": "2022-08-30T16:51:36.060596Z",
     "shell.execute_reply": "2022-08-30T16:51:36.059716Z"
    },
    "papermill": {
     "duration": 0.048419,
     "end_time": "2022-08-30T16:51:36.063310",
     "exception": false,
     "start_time": "2022-08-30T16:51:36.014891",
     "status": "completed"
    },
    "tags": []
   },
   "outputs": [],
   "source": [
    "%load_ext autoreload\n",
    "%autoreload 2"
   ]
  },
  {
   "cell_type": "code",
   "execution_count": 2,
   "id": "1d5f5a59",
   "metadata": {
    "execution": {
     "iopub.execute_input": "2022-08-30T16:51:36.090586Z",
     "iopub.status.busy": "2022-08-30T16:51:36.090283Z",
     "iopub.status.idle": "2022-08-30T16:51:39.730107Z",
     "shell.execute_reply": "2022-08-30T16:51:39.729585Z"
    },
    "papermill": {
     "duration": 3.655969,
     "end_time": "2022-08-30T16:51:39.731982",
     "exception": false,
     "start_time": "2022-08-30T16:51:36.076013",
     "status": "completed"
    },
    "tags": []
   },
   "outputs": [],
   "source": [
    "from random import sample, seed\n",
    "import warnings\n",
    "from pathlib import Path\n",
    "import pickle\n",
    "import traceback\n",
    "\n",
    "import numpy as np\n",
    "from scipy.spatial.distance import squareform\n",
    "import pandas as pd\n",
    "from tqdm import tqdm\n",
    "import matplotlib.pyplot as plt\n",
    "import seaborn as sns\n",
    "\n",
    "import conf\n",
    "from entity import Gene"
   ]
  },
  {
   "cell_type": "markdown",
   "id": "1eac24b5",
   "metadata": {
    "papermill": {
     "duration": 0.039468,
     "end_time": "2022-08-30T16:51:39.780406",
     "exception": false,
     "start_time": "2022-08-30T16:51:39.740938",
     "status": "completed"
    },
    "tags": []
   },
   "source": [
    "# Settings"
   ]
  },
  {
   "cell_type": "code",
   "execution_count": 3,
   "id": "ca4560ba",
   "metadata": {
    "execution": {
     "iopub.execute_input": "2022-08-30T16:51:39.797383Z",
     "iopub.status.busy": "2022-08-30T16:51:39.797145Z",
     "iopub.status.idle": "2022-08-30T16:51:39.816118Z",
     "shell.execute_reply": "2022-08-30T16:51:39.815558Z"
    },
    "papermill": {
     "duration": 0.029257,
     "end_time": "2022-08-30T16:51:39.817451",
     "exception": false,
     "start_time": "2022-08-30T16:51:39.788194",
     "status": "completed"
    },
    "tags": [
     "parameters"
    ]
   },
   "outputs": [],
   "source": [
    "# a cohort name (it could be something like UK_BIOBANK, etc)\n",
    "COHORT_NAME = None\n",
    "\n",
    "# reference panel such as 1000G or GTEX_V8\n",
    "REFERENCE_PANEL = None\n",
    "\n",
    "# predictions models such as MASHR or ELASTIC_NET\n",
    "EQTL_MODEL = None\n",
    "\n",
    "# this is the default value used in S-MultiXcan to select the\n",
    "# top principal components of the expression correlation matrix\n",
    "SMULTIXCAN_CONDITION_NUMBER = 30\n",
    "\n",
    "# specifies a single chromosome value\n",
    "CHROMOSOME = None\n",
    "\n",
    "# If True, computes the correlation between closeby genes only;\n",
    "# otherwise, it computes correlations for all genes in a chromosome\n",
    "COMPUTE_CORRELATIONS_WITHIN_DISTANCE = False\n",
    "\n",
    "# if True, then it will continue if a gene pair correlation fails,\n",
    "# printing the warning/error for debugging. If False, any warning/error\n",
    "# will be thrown\n",
    "DEBUG_MODE = False"
   ]
  },
  {
   "cell_type": "code",
   "execution_count": 4,
   "id": "8a1848dc",
   "metadata": {
    "execution": {
     "iopub.execute_input": "2022-08-30T16:51:39.834559Z",
     "iopub.status.busy": "2022-08-30T16:51:39.834391Z",
     "iopub.status.idle": "2022-08-30T16:51:39.851210Z",
     "shell.execute_reply": "2022-08-30T16:51:39.850738Z"
    },
    "papermill": {
     "duration": 0.027162,
     "end_time": "2022-08-30T16:51:39.852490",
     "exception": false,
     "start_time": "2022-08-30T16:51:39.825328",
     "status": "completed"
    },
    "tags": [
     "injected-parameters"
    ]
   },
   "outputs": [],
   "source": [
    "# Parameters\n",
    "COHORT_NAME = \"emerge\"\n",
    "REFERENCE_PANEL = \"GTEX_V8\"\n",
    "EQTL_MODEL = \"MASHR\"\n",
    "CHROMOSOME = 4\n"
   ]
  },
  {
   "cell_type": "code",
   "execution_count": 5,
   "id": "3190631f-27fc-480f-b18e-571d580425a5",
   "metadata": {
    "execution": {
     "iopub.execute_input": "2022-08-30T16:51:39.869245Z",
     "iopub.status.busy": "2022-08-30T16:51:39.869077Z",
     "iopub.status.idle": "2022-08-30T16:51:39.888110Z",
     "shell.execute_reply": "2022-08-30T16:51:39.887526Z"
    },
    "papermill": {
     "duration": 0.028836,
     "end_time": "2022-08-30T16:51:39.889296",
     "exception": false,
     "start_time": "2022-08-30T16:51:39.860460",
     "status": "completed"
    },
    "tags": []
   },
   "outputs": [
    {
     "data": {
      "text/plain": [
       "'Cohort name: emerge'"
      ]
     },
     "metadata": {},
     "output_type": "display_data"
    }
   ],
   "source": [
    "assert COHORT_NAME is not None and len(COHORT_NAME) > 0, \"A cohort name must be given\"\n",
    "\n",
    "COHORT_NAME = COHORT_NAME.lower()\n",
    "display(f\"Cohort name: {COHORT_NAME}\")"
   ]
  },
  {
   "cell_type": "code",
   "execution_count": 6,
   "id": "f53ba19b-0f93-4fa2-a047-63b375939d1a",
   "metadata": {
    "execution": {
     "iopub.execute_input": "2022-08-30T16:51:39.907220Z",
     "iopub.status.busy": "2022-08-30T16:51:39.907056Z",
     "iopub.status.idle": "2022-08-30T16:51:39.924037Z",
     "shell.execute_reply": "2022-08-30T16:51:39.923643Z"
    },
    "papermill": {
     "duration": 0.027377,
     "end_time": "2022-08-30T16:51:39.925187",
     "exception": false,
     "start_time": "2022-08-30T16:51:39.897810",
     "status": "completed"
    },
    "tags": []
   },
   "outputs": [
    {
     "data": {
      "text/plain": [
       "'Reference panel: GTEX_V8'"
      ]
     },
     "metadata": {},
     "output_type": "display_data"
    }
   ],
   "source": [
    "assert (\n",
    "    REFERENCE_PANEL is not None and len(REFERENCE_PANEL) > 0\n",
    "), \"A reference panel must be given\"\n",
    "\n",
    "display(f\"Reference panel: {REFERENCE_PANEL}\")"
   ]
  },
  {
   "cell_type": "code",
   "execution_count": 7,
   "id": "e024d130-c139-429a-9c6e-ccf149e297b0",
   "metadata": {
    "execution": {
     "iopub.execute_input": "2022-08-30T16:51:39.941204Z",
     "iopub.status.busy": "2022-08-30T16:51:39.941040Z",
     "iopub.status.idle": "2022-08-30T16:51:39.958203Z",
     "shell.execute_reply": "2022-08-30T16:51:39.957572Z"
    },
    "papermill": {
     "duration": 0.026731,
     "end_time": "2022-08-30T16:51:39.959468",
     "exception": false,
     "start_time": "2022-08-30T16:51:39.932737",
     "status": "completed"
    },
    "tags": []
   },
   "outputs": [
    {
     "data": {
      "text/plain": [
       "'eQTL model: MASHR) / mashr_'"
      ]
     },
     "metadata": {},
     "output_type": "display_data"
    }
   ],
   "source": [
    "assert (\n",
    "    EQTL_MODEL is not None and len(EQTL_MODEL) > 0\n",
    "), \"A prediction/eQTL model must be given\"\n",
    "\n",
    "EQTL_MODEL_FILES_PREFIX = conf.PHENOMEXCAN[\"PREDICTION_MODELS\"][f\"{EQTL_MODEL}_PREFIX\"]\n",
    "display(f\"eQTL model: {EQTL_MODEL}) / {EQTL_MODEL_FILES_PREFIX}\")"
   ]
  },
  {
   "cell_type": "code",
   "execution_count": 8,
   "id": "552a7f63-a18c-4d3e-bb6a-94f99b431291",
   "metadata": {
    "execution": {
     "iopub.execute_input": "2022-08-30T16:51:39.980725Z",
     "iopub.status.busy": "2022-08-30T16:51:39.980555Z",
     "iopub.status.idle": "2022-08-30T16:51:39.997440Z",
     "shell.execute_reply": "2022-08-30T16:51:39.997061Z"
    },
    "papermill": {
     "duration": 0.028965,
     "end_time": "2022-08-30T16:51:39.998581",
     "exception": false,
     "start_time": "2022-08-30T16:51:39.969616",
     "status": "completed"
    },
    "tags": []
   },
   "outputs": [
    {
     "data": {
      "text/plain": [
       "'S-MultiXcan condition number: 30'"
      ]
     },
     "metadata": {},
     "output_type": "display_data"
    }
   ],
   "source": [
    "assert (\n",
    "    SMULTIXCAN_CONDITION_NUMBER is not None and SMULTIXCAN_CONDITION_NUMBER > 0\n",
    "), \"The S-MultiXcan condition number (positive integer) must be given\"\n",
    "\n",
    "display(f\"S-MultiXcan condition number: {SMULTIXCAN_CONDITION_NUMBER}\")"
   ]
  },
  {
   "cell_type": "code",
   "execution_count": 9,
   "id": "f34a336f-548e-4afe-8955-90eaea4f42c6",
   "metadata": {
    "execution": {
     "iopub.execute_input": "2022-08-30T16:51:40.017935Z",
     "iopub.status.busy": "2022-08-30T16:51:40.017773Z",
     "iopub.status.idle": "2022-08-30T16:51:40.035188Z",
     "shell.execute_reply": "2022-08-30T16:51:40.034574Z"
    },
    "papermill": {
     "duration": 0.02843,
     "end_time": "2022-08-30T16:51:40.036488",
     "exception": false,
     "start_time": "2022-08-30T16:51:40.008058",
     "status": "completed"
    },
    "tags": []
   },
   "outputs": [
    {
     "data": {
      "text/plain": [
       "'Working on chromosome 4'"
      ]
     },
     "metadata": {},
     "output_type": "display_data"
    }
   ],
   "source": [
    "assert CHROMOSOME is not None and (\n",
    "    1 <= CHROMOSOME <= 22\n",
    "), \"You have to select one chromosome (format: number between 1 and 22)\"\n",
    "\n",
    "# CHROMOSOME = str(CHROMOSOME)\n",
    "display(f\"Working on chromosome {CHROMOSOME}\")"
   ]
  },
  {
   "cell_type": "code",
   "execution_count": 10,
   "id": "ab8e96e8-06b5-4363-9dcd-dc4d78cc27f7",
   "metadata": {
    "execution": {
     "iopub.execute_input": "2022-08-30T16:51:40.064651Z",
     "iopub.status.busy": "2022-08-30T16:51:40.064477Z",
     "iopub.status.idle": "2022-08-30T16:51:40.081972Z",
     "shell.execute_reply": "2022-08-30T16:51:40.081303Z"
    },
    "papermill": {
     "duration": 0.031988,
     "end_time": "2022-08-30T16:51:40.083301",
     "exception": false,
     "start_time": "2022-08-30T16:51:40.051313",
     "status": "completed"
    },
    "tags": []
   },
   "outputs": [
    {
     "data": {
      "text/plain": [
       "'Compute correlation within distance False'"
      ]
     },
     "metadata": {},
     "output_type": "display_data"
    }
   ],
   "source": [
    "display(f\"Compute correlation within distance {COMPUTE_CORRELATIONS_WITHIN_DISTANCE}\")"
   ]
  },
  {
   "cell_type": "code",
   "execution_count": 11,
   "id": "396392dc-0340-4540-9b02-e182b833f909",
   "metadata": {
    "execution": {
     "iopub.execute_input": "2022-08-30T16:51:40.107647Z",
     "iopub.status.busy": "2022-08-30T16:51:40.107467Z",
     "iopub.status.idle": "2022-08-30T16:51:40.138802Z",
     "shell.execute_reply": "2022-08-30T16:51:40.138078Z"
    },
    "papermill": {
     "duration": 0.045866,
     "end_time": "2022-08-30T16:51:40.140690",
     "exception": false,
     "start_time": "2022-08-30T16:51:40.094824",
     "status": "completed"
    },
    "tags": []
   },
   "outputs": [
    {
     "data": {
      "text/plain": [
       "'Using output dir base: /project/ritchie20/projects/phenoplier/base/results/gls/gene_corrs/cohorts/emerge/gtex_v8/mashr'"
      ]
     },
     "metadata": {},
     "output_type": "display_data"
    }
   ],
   "source": [
    "OUTPUT_DIR_BASE = (\n",
    "    conf.RESULTS[\"GLS\"]\n",
    "    / \"gene_corrs\"\n",
    "    / \"cohorts\"\n",
    "    / COHORT_NAME\n",
    "    / REFERENCE_PANEL.lower()\n",
    "    / EQTL_MODEL.lower()\n",
    ")\n",
    "OUTPUT_DIR_BASE.mkdir(parents=True, exist_ok=True)\n",
    "\n",
    "display(f\"Using output dir base: {OUTPUT_DIR_BASE}\")"
   ]
  },
  {
   "cell_type": "markdown",
   "id": "d2ba085e",
   "metadata": {
    "papermill": {
     "duration": 0.013923,
     "end_time": "2022-08-30T16:51:40.166512",
     "exception": false,
     "start_time": "2022-08-30T16:51:40.152589",
     "status": "completed"
    },
    "tags": []
   },
   "source": [
    "# Load data"
   ]
  },
  {
   "cell_type": "markdown",
   "id": "7dcb8db7",
   "metadata": {
    "papermill": {
     "duration": 0.025811,
     "end_time": "2022-08-30T16:51:40.211025",
     "exception": false,
     "start_time": "2022-08-30T16:51:40.185214",
     "status": "completed"
    },
    "tags": []
   },
   "source": [
    "## GWAS variants"
   ]
  },
  {
   "cell_type": "code",
   "execution_count": 12,
   "id": "29434c4e-8cd3-4b9b-82e4-b5a251d9dd19",
   "metadata": {
    "execution": {
     "iopub.execute_input": "2022-08-30T16:51:40.254161Z",
     "iopub.status.busy": "2022-08-30T16:51:40.253880Z",
     "iopub.status.idle": "2022-08-30T16:51:42.868821Z",
     "shell.execute_reply": "2022-08-30T16:51:42.868076Z"
    },
    "papermill": {
     "duration": 2.637761,
     "end_time": "2022-08-30T16:51:42.870689",
     "exception": false,
     "start_time": "2022-08-30T16:51:40.232928",
     "status": "completed"
    },
    "tags": []
   },
   "outputs": [],
   "source": [
    "with open(OUTPUT_DIR_BASE / \"gwas_variant_ids.pkl\", \"rb\") as handle:\n",
    "    gwas_variants_ids_set = pickle.load(handle)"
   ]
  },
  {
   "cell_type": "code",
   "execution_count": 13,
   "id": "b9d9dec2-4a76-4bf9-bde2-e24c95acb8a0",
   "metadata": {
    "execution": {
     "iopub.execute_input": "2022-08-30T16:51:42.891061Z",
     "iopub.status.busy": "2022-08-30T16:51:42.890859Z",
     "iopub.status.idle": "2022-08-30T16:51:42.912024Z",
     "shell.execute_reply": "2022-08-30T16:51:42.911628Z"
    },
    "papermill": {
     "duration": 0.03286,
     "end_time": "2022-08-30T16:51:42.913177",
     "exception": false,
     "start_time": "2022-08-30T16:51:42.880317",
     "status": "completed"
    },
    "tags": []
   },
   "outputs": [
    {
     "data": {
      "text/plain": [
       "8376508"
      ]
     },
     "execution_count": 13,
     "metadata": {},
     "output_type": "execute_result"
    }
   ],
   "source": [
    "len(gwas_variants_ids_set)"
   ]
  },
  {
   "cell_type": "code",
   "execution_count": 14,
   "id": "4235b06a-6034-4ee4-a0a3-2ae35d122418",
   "metadata": {
    "execution": {
     "iopub.execute_input": "2022-08-30T16:51:42.932211Z",
     "iopub.status.busy": "2022-08-30T16:51:42.932053Z",
     "iopub.status.idle": "2022-08-30T16:51:43.421800Z",
     "shell.execute_reply": "2022-08-30T16:51:43.421135Z"
    },
    "papermill": {
     "duration": 0.500721,
     "end_time": "2022-08-30T16:51:43.423261",
     "exception": false,
     "start_time": "2022-08-30T16:51:42.922540",
     "status": "completed"
    },
    "tags": []
   },
   "outputs": [
    {
     "data": {
      "text/plain": [
       "['chr1_151790858_C_T_b38',\n",
       " 'chr3_11080547_T_C_b38',\n",
       " 'chr14_26547538_T_C_b38',\n",
       " 'chr14_77122685_G_A_b38',\n",
       " 'chr1_94291972_G_A_b38']"
      ]
     },
     "execution_count": 14,
     "metadata": {},
     "output_type": "execute_result"
    }
   ],
   "source": [
    "list(gwas_variants_ids_set)[:5]"
   ]
  },
  {
   "cell_type": "markdown",
   "id": "07866999-2305-41f9-a144-e69c9122c212",
   "metadata": {
    "papermill": {
     "duration": 0.008765,
     "end_time": "2022-08-30T16:51:43.442727",
     "exception": false,
     "start_time": "2022-08-30T16:51:43.433962",
     "status": "completed"
    },
    "tags": []
   },
   "source": [
    "## S-PrediXcan tissue models"
   ]
  },
  {
   "cell_type": "code",
   "execution_count": 15,
   "id": "780611d9-77c8-405f-90a4-f271f7b09397",
   "metadata": {
    "execution": {
     "iopub.execute_input": "2022-08-30T16:51:43.462150Z",
     "iopub.status.busy": "2022-08-30T16:51:43.461967Z",
     "iopub.status.idle": "2022-08-30T16:51:44.262160Z",
     "shell.execute_reply": "2022-08-30T16:51:44.261563Z"
    },
    "papermill": {
     "duration": 0.812083,
     "end_time": "2022-08-30T16:51:44.263827",
     "exception": false,
     "start_time": "2022-08-30T16:51:43.451744",
     "status": "completed"
    },
    "tags": []
   },
   "outputs": [],
   "source": [
    "spredixcan_genes_models = pd.read_pickle(OUTPUT_DIR_BASE / \"gene_tissues.pkl\")"
   ]
  },
  {
   "cell_type": "code",
   "execution_count": 16,
   "id": "726dd1f6-9557-4225-91fa-b3b879ea96e1",
   "metadata": {
    "execution": {
     "iopub.execute_input": "2022-08-30T16:51:44.295636Z",
     "iopub.status.busy": "2022-08-30T16:51:44.295436Z",
     "iopub.status.idle": "2022-08-30T16:51:44.314661Z",
     "shell.execute_reply": "2022-08-30T16:51:44.314275Z"
    },
    "papermill": {
     "duration": 0.037848,
     "end_time": "2022-08-30T16:51:44.315854",
     "exception": false,
     "start_time": "2022-08-30T16:51:44.278006",
     "status": "completed"
    },
    "tags": []
   },
   "outputs": [
    {
     "data": {
      "text/plain": [
       "(6425, 3)"
      ]
     },
     "execution_count": 16,
     "metadata": {},
     "output_type": "execute_result"
    }
   ],
   "source": [
    "spredixcan_genes_models.shape"
   ]
  },
  {
   "cell_type": "code",
   "execution_count": 17,
   "id": "944a1b48-222c-4eb0-b252-b9de2cbca215",
   "metadata": {
    "execution": {
     "iopub.execute_input": "2022-08-30T16:51:44.341507Z",
     "iopub.status.busy": "2022-08-30T16:51:44.341337Z",
     "iopub.status.idle": "2022-08-30T16:51:44.370680Z",
     "shell.execute_reply": "2022-08-30T16:51:44.370097Z"
    },
    "papermill": {
     "duration": 0.04159,
     "end_time": "2022-08-30T16:51:44.371990",
     "exception": false,
     "start_time": "2022-08-30T16:51:44.330400",
     "status": "completed"
    },
    "tags": []
   },
   "outputs": [
    {
     "data": {
      "text/html": [
       "<div>\n",
       "<style scoped>\n",
       "    .dataframe tbody tr th:only-of-type {\n",
       "        vertical-align: middle;\n",
       "    }\n",
       "\n",
       "    .dataframe tbody tr th {\n",
       "        vertical-align: top;\n",
       "    }\n",
       "\n",
       "    .dataframe thead th {\n",
       "        text-align: right;\n",
       "    }\n",
       "</style>\n",
       "<table border=\"1\" class=\"dataframe\">\n",
       "  <thead>\n",
       "    <tr style=\"text-align: right;\">\n",
       "      <th></th>\n",
       "      <th>gene_name</th>\n",
       "      <th>tissue</th>\n",
       "      <th>n_tissues</th>\n",
       "    </tr>\n",
       "    <tr>\n",
       "      <th>gene_id</th>\n",
       "      <th></th>\n",
       "      <th></th>\n",
       "      <th></th>\n",
       "    </tr>\n",
       "  </thead>\n",
       "  <tbody>\n",
       "    <tr>\n",
       "      <th>ENSG00000000419</th>\n",
       "      <td>DPM1</td>\n",
       "      <td>(Brain_Substantia_nigra, Brain_Hypothalamus)</td>\n",
       "      <td>2</td>\n",
       "    </tr>\n",
       "    <tr>\n",
       "      <th>ENSG00000000938</th>\n",
       "      <td>FGR</td>\n",
       "      <td>(Brain_Hippocampus, Muscle_Skeletal, Breast_Ma...</td>\n",
       "      <td>26</td>\n",
       "    </tr>\n",
       "    <tr>\n",
       "      <th>ENSG00000000971</th>\n",
       "      <td>CFH</td>\n",
       "      <td>(Brain_Hippocampus, Artery_Coronary, Breast_Ma...</td>\n",
       "      <td>34</td>\n",
       "    </tr>\n",
       "    <tr>\n",
       "      <th>ENSG00000001084</th>\n",
       "      <td>GCLC</td>\n",
       "      <td>(Brain_Hippocampus, Artery_Coronary, Muscle_Sk...</td>\n",
       "      <td>32</td>\n",
       "    </tr>\n",
       "    <tr>\n",
       "      <th>ENSG00000001167</th>\n",
       "      <td>NFYA</td>\n",
       "      <td>(Brain_Hippocampus, Artery_Coronary, Muscle_Sk...</td>\n",
       "      <td>40</td>\n",
       "    </tr>\n",
       "  </tbody>\n",
       "</table>\n",
       "</div>"
      ],
      "text/plain": [
       "                gene_name                                             tissue  \\\n",
       "gene_id                                                                        \n",
       "ENSG00000000419      DPM1       (Brain_Substantia_nigra, Brain_Hypothalamus)   \n",
       "ENSG00000000938       FGR  (Brain_Hippocampus, Muscle_Skeletal, Breast_Ma...   \n",
       "ENSG00000000971       CFH  (Brain_Hippocampus, Artery_Coronary, Breast_Ma...   \n",
       "ENSG00000001084      GCLC  (Brain_Hippocampus, Artery_Coronary, Muscle_Sk...   \n",
       "ENSG00000001167      NFYA  (Brain_Hippocampus, Artery_Coronary, Muscle_Sk...   \n",
       "\n",
       "                 n_tissues  \n",
       "gene_id                     \n",
       "ENSG00000000419          2  \n",
       "ENSG00000000938         26  \n",
       "ENSG00000000971         34  \n",
       "ENSG00000001084         32  \n",
       "ENSG00000001167         40  "
      ]
     },
     "execution_count": 17,
     "metadata": {},
     "output_type": "execute_result"
    }
   ],
   "source": [
    "spredixcan_genes_models.head()"
   ]
  },
  {
   "cell_type": "code",
   "execution_count": 18,
   "id": "d1c11bb1-be0b-4f40-b360-633d6827109f",
   "metadata": {
    "execution": {
     "iopub.execute_input": "2022-08-30T16:51:44.400091Z",
     "iopub.status.busy": "2022-08-30T16:51:44.399920Z",
     "iopub.status.idle": "2022-08-30T16:51:44.417670Z",
     "shell.execute_reply": "2022-08-30T16:51:44.417131Z"
    },
    "papermill": {
     "duration": 0.031249,
     "end_time": "2022-08-30T16:51:44.419039",
     "exception": false,
     "start_time": "2022-08-30T16:51:44.387790",
     "status": "completed"
    },
    "tags": []
   },
   "outputs": [],
   "source": [
    "assert spredixcan_genes_models.index.is_unique"
   ]
  },
  {
   "cell_type": "markdown",
   "id": "a5b5092c-a13e-47c4-a92a-480fcc08f3ae",
   "metadata": {
    "papermill": {
     "duration": 0.014243,
     "end_time": "2022-08-30T16:51:44.448892",
     "exception": false,
     "start_time": "2022-08-30T16:51:44.434649",
     "status": "completed"
    },
    "tags": []
   },
   "source": [
    "## Gene info"
   ]
  },
  {
   "cell_type": "code",
   "execution_count": 19,
   "id": "7d6bb224-88e9-4358-ac10-43a41d92cdad",
   "metadata": {
    "execution": {
     "iopub.execute_input": "2022-08-30T16:51:44.478582Z",
     "iopub.status.busy": "2022-08-30T16:51:44.478387Z",
     "iopub.status.idle": "2022-08-30T16:51:44.506186Z",
     "shell.execute_reply": "2022-08-30T16:51:44.505594Z"
    },
    "papermill": {
     "duration": 0.043168,
     "end_time": "2022-08-30T16:51:44.507716",
     "exception": false,
     "start_time": "2022-08-30T16:51:44.464548",
     "status": "completed"
    },
    "tags": []
   },
   "outputs": [],
   "source": [
    "genes_info = pd.read_pickle(OUTPUT_DIR_BASE / \"genes_info.pkl\")"
   ]
  },
  {
   "cell_type": "code",
   "execution_count": 20,
   "id": "9e32abfa-546d-483e-8c18-d526e9e05903",
   "metadata": {
    "execution": {
     "iopub.execute_input": "2022-08-30T16:51:44.533912Z",
     "iopub.status.busy": "2022-08-30T16:51:44.533718Z",
     "iopub.status.idle": "2022-08-30T16:51:44.553639Z",
     "shell.execute_reply": "2022-08-30T16:51:44.553202Z"
    },
    "papermill": {
     "duration": 0.033825,
     "end_time": "2022-08-30T16:51:44.555010",
     "exception": false,
     "start_time": "2022-08-30T16:51:44.521185",
     "status": "completed"
    },
    "tags": []
   },
   "outputs": [
    {
     "data": {
      "text/plain": [
       "(6425, 7)"
      ]
     },
     "execution_count": 20,
     "metadata": {},
     "output_type": "execute_result"
    }
   ],
   "source": [
    "genes_info.shape"
   ]
  },
  {
   "cell_type": "code",
   "execution_count": 21,
   "id": "d16c3e92-85ec-468a-9a56-e25a9774a1cb",
   "metadata": {
    "execution": {
     "iopub.execute_input": "2022-08-30T16:51:44.581710Z",
     "iopub.status.busy": "2022-08-30T16:51:44.581515Z",
     "iopub.status.idle": "2022-08-30T16:51:44.605200Z",
     "shell.execute_reply": "2022-08-30T16:51:44.604563Z"
    },
    "papermill": {
     "duration": 0.039454,
     "end_time": "2022-08-30T16:51:44.606651",
     "exception": false,
     "start_time": "2022-08-30T16:51:44.567197",
     "status": "completed"
    },
    "tags": []
   },
   "outputs": [
    {
     "data": {
      "text/html": [
       "<div>\n",
       "<style scoped>\n",
       "    .dataframe tbody tr th:only-of-type {\n",
       "        vertical-align: middle;\n",
       "    }\n",
       "\n",
       "    .dataframe tbody tr th {\n",
       "        vertical-align: top;\n",
       "    }\n",
       "\n",
       "    .dataframe thead th {\n",
       "        text-align: right;\n",
       "    }\n",
       "</style>\n",
       "<table border=\"1\" class=\"dataframe\">\n",
       "  <thead>\n",
       "    <tr style=\"text-align: right;\">\n",
       "      <th></th>\n",
       "      <th>name</th>\n",
       "      <th>id</th>\n",
       "      <th>chr</th>\n",
       "      <th>band</th>\n",
       "      <th>start_position</th>\n",
       "      <th>end_position</th>\n",
       "      <th>gene_length</th>\n",
       "    </tr>\n",
       "  </thead>\n",
       "  <tbody>\n",
       "    <tr>\n",
       "      <th>0</th>\n",
       "      <td>ADAMTS14</td>\n",
       "      <td>ENSG00000138316</td>\n",
       "      <td>10</td>\n",
       "      <td>10q22.1</td>\n",
       "      <td>70672506</td>\n",
       "      <td>70762441</td>\n",
       "      <td>89935</td>\n",
       "    </tr>\n",
       "    <tr>\n",
       "      <th>1</th>\n",
       "      <td>TXN</td>\n",
       "      <td>ENSG00000136810</td>\n",
       "      <td>9</td>\n",
       "      <td>9q31.3</td>\n",
       "      <td>110243810</td>\n",
       "      <td>110256507</td>\n",
       "      <td>12697</td>\n",
       "    </tr>\n",
       "    <tr>\n",
       "      <th>2</th>\n",
       "      <td>RMI1</td>\n",
       "      <td>ENSG00000178966</td>\n",
       "      <td>9</td>\n",
       "      <td>9q21.32</td>\n",
       "      <td>83980711</td>\n",
       "      <td>84004074</td>\n",
       "      <td>23363</td>\n",
       "    </tr>\n",
       "    <tr>\n",
       "      <th>3</th>\n",
       "      <td>DHX58</td>\n",
       "      <td>ENSG00000108771</td>\n",
       "      <td>17</td>\n",
       "      <td>17q21.2</td>\n",
       "      <td>42101404</td>\n",
       "      <td>42112714</td>\n",
       "      <td>11310</td>\n",
       "    </tr>\n",
       "    <tr>\n",
       "      <th>4</th>\n",
       "      <td>XRCC4</td>\n",
       "      <td>ENSG00000152422</td>\n",
       "      <td>5</td>\n",
       "      <td>5q14.2</td>\n",
       "      <td>83077498</td>\n",
       "      <td>83353787</td>\n",
       "      <td>276289</td>\n",
       "    </tr>\n",
       "  </tbody>\n",
       "</table>\n",
       "</div>"
      ],
      "text/plain": [
       "       name               id  chr     band  start_position  end_position  \\\n",
       "0  ADAMTS14  ENSG00000138316   10  10q22.1        70672506      70762441   \n",
       "1       TXN  ENSG00000136810    9   9q31.3       110243810     110256507   \n",
       "2      RMI1  ENSG00000178966    9  9q21.32        83980711      84004074   \n",
       "3     DHX58  ENSG00000108771   17  17q21.2        42101404      42112714   \n",
       "4     XRCC4  ENSG00000152422    5   5q14.2        83077498      83353787   \n",
       "\n",
       "   gene_length  \n",
       "0        89935  \n",
       "1        12697  \n",
       "2        23363  \n",
       "3        11310  \n",
       "4       276289  "
      ]
     },
     "execution_count": 21,
     "metadata": {},
     "output_type": "execute_result"
    }
   ],
   "source": [
    "genes_info.head()"
   ]
  },
  {
   "cell_type": "markdown",
   "id": "d3843e06",
   "metadata": {
    "papermill": {
     "duration": 0.010811,
     "end_time": "2022-08-30T16:51:44.631851",
     "exception": false,
     "start_time": "2022-08-30T16:51:44.621040",
     "status": "completed"
    },
    "tags": []
   },
   "source": [
    "# Compute correlations"
   ]
  },
  {
   "cell_type": "code",
   "execution_count": 22,
   "id": "cb859c15-d1f3-4006-a74c-2b83c0db9611",
   "metadata": {
    "execution": {
     "iopub.execute_input": "2022-08-30T16:51:44.659067Z",
     "iopub.status.busy": "2022-08-30T16:51:44.658878Z",
     "iopub.status.idle": "2022-08-30T16:51:44.680354Z",
     "shell.execute_reply": "2022-08-30T16:51:44.679793Z"
    },
    "papermill": {
     "duration": 0.035301,
     "end_time": "2022-08-30T16:51:44.681849",
     "exception": false,
     "start_time": "2022-08-30T16:51:44.646548",
     "status": "completed"
    },
    "tags": []
   },
   "outputs": [
    {
     "data": {
      "text/plain": [
       "PosixPath('/project/ritchie20/projects/phenoplier/base/results/gls/gene_corrs/cohorts/emerge/gtex_v8/mashr/by_chr/gene_corrs-chr4.pkl')"
      ]
     },
     "metadata": {},
     "output_type": "display_data"
    }
   ],
   "source": [
    "output_dir = OUTPUT_DIR_BASE / \"by_chr\"\n",
    "output_dir.mkdir(exist_ok=True, parents=True)\n",
    "output_file = output_dir / f\"gene_corrs-chr{CHROMOSOME}.pkl\"\n",
    "display(output_file)"
   ]
  },
  {
   "cell_type": "code",
   "execution_count": 23,
   "id": "aa674fe4-6794-4eed-98fa-32b39d1d4ace",
   "metadata": {
    "execution": {
     "iopub.execute_input": "2022-08-30T16:51:44.709090Z",
     "iopub.status.busy": "2022-08-30T16:51:44.708893Z",
     "iopub.status.idle": "2022-08-30T16:51:44.727590Z",
     "shell.execute_reply": "2022-08-30T16:51:44.727012Z"
    },
    "papermill": {
     "duration": 0.033973,
     "end_time": "2022-08-30T16:51:44.729114",
     "exception": false,
     "start_time": "2022-08-30T16:51:44.695141",
     "status": "completed"
    },
    "tags": []
   },
   "outputs": [],
   "source": [
    "warnings.filterwarnings(\"error\")"
   ]
  },
  {
   "cell_type": "code",
   "execution_count": 24,
   "id": "44d5450b-3baf-43f1-9e2e-4b06f1a785f8",
   "metadata": {
    "execution": {
     "iopub.execute_input": "2022-08-30T16:51:44.755461Z",
     "iopub.status.busy": "2022-08-30T16:51:44.755268Z",
     "iopub.status.idle": "2022-08-30T16:51:44.774187Z",
     "shell.execute_reply": "2022-08-30T16:51:44.773737Z"
    },
    "papermill": {
     "duration": 0.032216,
     "end_time": "2022-08-30T16:51:44.775673",
     "exception": false,
     "start_time": "2022-08-30T16:51:44.743457",
     "status": "completed"
    },
    "tags": []
   },
   "outputs": [],
   "source": [
    "# standard checks\n",
    "all_chrs = genes_info[\"chr\"].dropna().unique()\n",
    "assert all_chrs.shape[0] == 22\n",
    "\n",
    "# select chromosome given by the user\n",
    "assert CHROMOSOME in all_chrs"
   ]
  },
  {
   "cell_type": "code",
   "execution_count": 25,
   "id": "2d7c043c-92a7-4d35-991b-fa69ac1e0268",
   "metadata": {
    "execution": {
     "iopub.execute_input": "2022-08-30T16:51:44.801931Z",
     "iopub.status.busy": "2022-08-30T16:51:44.801746Z",
     "iopub.status.idle": "2022-08-30T16:51:44.861767Z",
     "shell.execute_reply": "2022-08-30T16:51:44.860914Z"
    },
    "papermill": {
     "duration": 0.07774,
     "end_time": "2022-08-30T16:51:44.864380",
     "exception": false,
     "start_time": "2022-08-30T16:51:44.786640",
     "status": "completed"
    },
    "tags": []
   },
   "outputs": [
    {
     "name": "stdout",
     "output_type": "stream",
     "text": [
      "Number of genes in chromosome: 244\n"
     ]
    }
   ],
   "source": [
    "# run only on the chromosome specified\n",
    "all_chrs = [CHROMOSOME]\n",
    "genes_chr = genes_info[genes_info[\"chr\"] == CHROMOSOME]\n",
    "\n",
    "# For testing purposes\n",
    "# genes_chr = genes_chr.sample(n=20)\n",
    "\n",
    "print(f\"Number of genes in chromosome: {genes_chr.shape[0]}\", flush=True)"
   ]
  },
  {
   "cell_type": "code",
   "execution_count": 26,
   "id": "916015d8-2979-46d3-a9b9-1cf5a0932c6a",
   "metadata": {
    "execution": {
     "iopub.execute_input": "2022-08-30T16:51:44.904816Z",
     "iopub.status.busy": "2022-08-30T16:51:44.904507Z",
     "iopub.status.idle": "2022-08-30T16:51:44.933154Z",
     "shell.execute_reply": "2022-08-30T16:51:44.932370Z"
    },
    "papermill": {
     "duration": 0.05081,
     "end_time": "2022-08-30T16:51:44.935314",
     "exception": false,
     "start_time": "2022-08-30T16:51:44.884504",
     "status": "completed"
    },
    "tags": []
   },
   "outputs": [],
   "source": [
    "# sort genes by starting position to make visualizations better later\n",
    "genes_chr = genes_chr.sort_values(\"start_position\")"
   ]
  },
  {
   "cell_type": "code",
   "execution_count": 27,
   "id": "a38aa74a-8ad3-47f6-8ef9-56be0e011774",
   "metadata": {
    "execution": {
     "iopub.execute_input": "2022-08-30T16:51:44.972014Z",
     "iopub.status.busy": "2022-08-30T16:51:44.971746Z",
     "iopub.status.idle": "2022-08-30T16:51:44.997953Z",
     "shell.execute_reply": "2022-08-30T16:51:44.997171Z"
    },
    "papermill": {
     "duration": 0.046151,
     "end_time": "2022-08-30T16:51:44.999936",
     "exception": false,
     "start_time": "2022-08-30T16:51:44.953785",
     "status": "completed"
    },
    "tags": []
   },
   "outputs": [],
   "source": [
    "gene_chr_objs = [Gene(ensembl_id=gene_id) for gene_id in genes_chr[\"id\"]]"
   ]
  },
  {
   "cell_type": "code",
   "execution_count": 28,
   "id": "570f974f-13c3-42b6-ad3a-ce99ca885c1a",
   "metadata": {
    "execution": {
     "iopub.execute_input": "2022-08-30T16:51:45.036214Z",
     "iopub.status.busy": "2022-08-30T16:51:45.035969Z",
     "iopub.status.idle": "2022-08-30T16:51:45.062335Z",
     "shell.execute_reply": "2022-08-30T16:51:45.061550Z"
    },
    "papermill": {
     "duration": 0.046777,
     "end_time": "2022-08-30T16:51:45.064227",
     "exception": false,
     "start_time": "2022-08-30T16:51:45.017450",
     "status": "completed"
    },
    "tags": []
   },
   "outputs": [
    {
     "name": "stdout",
     "output_type": "stream",
     "text": [
      "Number of gene combinations: 29890\n"
     ]
    }
   ],
   "source": [
    "n = len(gene_chr_objs)\n",
    "# diagonal elements + upper triangular matrix\n",
    "n_comb = n + int(n * (n - 1) / 2.0)\n",
    "print(f\"Number of gene combinations: {n_comb}\", flush=True)"
   ]
  },
  {
   "cell_type": "code",
   "execution_count": 29,
   "id": "cdbb90a1",
   "metadata": {
    "execution": {
     "iopub.execute_input": "2022-08-30T16:51:45.097618Z",
     "iopub.status.busy": "2022-08-30T16:51:45.097363Z",
     "iopub.status.idle": "2022-08-30T17:19:20.233310Z",
     "shell.execute_reply": "2022-08-30T17:19:20.231823Z"
    },
    "papermill": {
     "duration": 1655.157052,
     "end_time": "2022-08-30T17:19:20.237223",
     "exception": false,
     "start_time": "2022-08-30T16:51:45.080171",
     "status": "completed"
    },
    "tags": []
   },
   "outputs": [
    {
     "name": "stderr",
     "output_type": "stream",
     "text": [
      "ENSG00000109536 / ENSG00000109536: 100%|██████████████████████| 29890/29890 [27:34<00:00, 18.06it/s]\n"
     ]
    },
    {
     "data": {
      "text/plain": [
       "PosixPath('/project/ritchie20/projects/phenoplier/base/results/gls/gene_corrs/cohorts/emerge/gtex_v8/mashr/by_chr/gene_corrs-chr4.pkl')"
      ]
     },
     "metadata": {},
     "output_type": "display_data"
    }
   ],
   "source": [
    "gene_corrs = []\n",
    "gene_corrs_data = np.full(\n",
    "    (n, n),\n",
    "    np.nan,\n",
    "    dtype=np.float64,\n",
    ")\n",
    "\n",
    "i = 0\n",
    "with tqdm(ncols=100, total=n_comb) as pbar:\n",
    "    for gene1_idx in range(0, len(gene_chr_objs)):\n",
    "        gene1_obj = gene_chr_objs[gene1_idx]\n",
    "        gene1_tissues = spredixcan_genes_models.loc[gene1_obj.ensembl_id, \"tissue\"]\n",
    "\n",
    "        for gene2_idx in range(gene1_idx, len(gene_chr_objs)):\n",
    "            gene2_obj = gene_chr_objs[gene2_idx]\n",
    "            gene2_tissues = spredixcan_genes_models.loc[gene2_obj.ensembl_id, \"tissue\"]\n",
    "\n",
    "            pbar.set_description(f\"{gene1_obj.ensembl_id} / {gene2_obj.ensembl_id}\")\n",
    "\n",
    "            try:\n",
    "                r = gene1_obj.get_ssm_correlation(\n",
    "                    other_gene=gene2_obj,\n",
    "                    tissues=gene1_tissues,\n",
    "                    other_tissues=gene2_tissues,\n",
    "                    snps_subset=gwas_variants_ids_set,\n",
    "                    condition_number=SMULTIXCAN_CONDITION_NUMBER,\n",
    "                    reference_panel=REFERENCE_PANEL,\n",
    "                    model_type=EQTL_MODEL,\n",
    "                    use_within_distance=COMPUTE_CORRELATIONS_WITHIN_DISTANCE,\n",
    "                )\n",
    "\n",
    "                if r is None:\n",
    "                    # if r is None, it's very likely because:\n",
    "                    #  * one of the genes has no prediction models\n",
    "                    #  * all the SNPs predictors for the gene are not present in the reference\n",
    "                    #    panel\n",
    "\n",
    "                    r = 0.0\n",
    "\n",
    "                gene_corrs.append(r)\n",
    "\n",
    "                gene_corrs_data[gene1_idx, gene2_idx] = r\n",
    "                gene_corrs_data[gene2_idx, gene1_idx] = r\n",
    "            except Warning as e:\n",
    "                if not DEBUG_MODE:\n",
    "                    raise e\n",
    "\n",
    "                print(\n",
    "                    f\"RuntimeWarning for genes {gene1_obj.ensembl_id} and {gene2_obj.ensembl_id}\",\n",
    "                    flush=True,\n",
    "                )\n",
    "                print(traceback.format_exc(), flush=True)\n",
    "\n",
    "                gene_corrs.append(np.nan)\n",
    "            except Exception as e:\n",
    "                if not DEBUG_MODE:\n",
    "                    raise e\n",
    "\n",
    "                print(\n",
    "                    f\"Exception for genes {gene1_obj.ensembl_id} and {gene2_obj.ensembl_id}\",\n",
    "                    flush=True,\n",
    "                )\n",
    "                print(traceback.format_exc(), flush=True)\n",
    "\n",
    "                gene_corrs.append(np.nan)\n",
    "\n",
    "            pbar.update(1)\n",
    "\n",
    "# create a pandas series\n",
    "gene_corrs_flat = pd.Series(gene_corrs)\n",
    "\n",
    "# save\n",
    "# FIXME: consider saving only the condenced matrix here. See here for\n",
    "# more details: https://github.com/greenelab/phenoplier/pull/38#discussion_r634600813\n",
    "# gene_corrs_data = squareform(np.array(gene_corrs, dtype=np.float64))\n",
    "# np.fill_diagonal(gene_corrs_data, 1.0)\n",
    "\n",
    "gene_chr_ids = [g.ensembl_id for g in gene_chr_objs]\n",
    "gene_corrs_df = pd.DataFrame(\n",
    "    data=gene_corrs_data,\n",
    "    index=gene_chr_ids,\n",
    "    columns=gene_chr_ids,\n",
    ")\n",
    "\n",
    "output_dir.mkdir(exist_ok=True, parents=True)\n",
    "display(output_file)\n",
    "\n",
    "gene_corrs_df.to_pickle(output_file)"
   ]
  },
  {
   "cell_type": "markdown",
   "id": "faa67b51-5373-470f-aa72-2ded53fa6dfe",
   "metadata": {
    "papermill": {
     "duration": 1.395214,
     "end_time": "2022-08-30T17:19:23.070811",
     "exception": false,
     "start_time": "2022-08-30T17:19:21.675597",
     "status": "completed"
    },
    "tags": []
   },
   "source": [
    "# Testing"
   ]
  },
  {
   "cell_type": "code",
   "execution_count": 30,
   "id": "14f7d046-4b55-4896-a56b-990127bcc388",
   "metadata": {
    "execution": {
     "iopub.execute_input": "2022-08-30T17:19:25.789736Z",
     "iopub.status.busy": "2022-08-30T17:19:25.789488Z",
     "iopub.status.idle": "2022-08-30T17:19:26.095283Z",
     "shell.execute_reply": "2022-08-30T17:19:26.094088Z"
    },
    "papermill": {
     "duration": 1.693727,
     "end_time": "2022-08-30T17:19:26.098842",
     "exception": false,
     "start_time": "2022-08-30T17:19:24.405115",
     "status": "completed"
    },
    "tags": []
   },
   "outputs": [
    {
     "data": {
      "text/plain": [
       "(244, 244)"
      ]
     },
     "execution_count": 30,
     "metadata": {},
     "output_type": "execute_result"
    }
   ],
   "source": [
    "gene_corrs_df.shape"
   ]
  },
  {
   "cell_type": "code",
   "execution_count": 31,
   "id": "c7d15414-3297-4537-a7c6-7588c0baeb75",
   "metadata": {
    "execution": {
     "iopub.execute_input": "2022-08-30T17:19:28.944477Z",
     "iopub.status.busy": "2022-08-30T17:19:28.944237Z",
     "iopub.status.idle": "2022-08-30T17:19:28.980645Z",
     "shell.execute_reply": "2022-08-30T17:19:28.980253Z"
    },
    "papermill": {
     "duration": 1.383699,
     "end_time": "2022-08-30T17:19:28.981876",
     "exception": false,
     "start_time": "2022-08-30T17:19:27.598177",
     "status": "completed"
    },
    "tags": []
   },
   "outputs": [
    {
     "data": {
      "text/html": [
       "<div>\n",
       "<style scoped>\n",
       "    .dataframe tbody tr th:only-of-type {\n",
       "        vertical-align: middle;\n",
       "    }\n",
       "\n",
       "    .dataframe tbody tr th {\n",
       "        vertical-align: top;\n",
       "    }\n",
       "\n",
       "    .dataframe thead th {\n",
       "        text-align: right;\n",
       "    }\n",
       "</style>\n",
       "<table border=\"1\" class=\"dataframe\">\n",
       "  <thead>\n",
       "    <tr style=\"text-align: right;\">\n",
       "      <th></th>\n",
       "      <th>ENSG00000272602</th>\n",
       "      <th>ENSG00000131127</th>\n",
       "      <th>ENSG00000174227</th>\n",
       "      <th>ENSG00000133256</th>\n",
       "      <th>ENSG00000169020</th>\n",
       "      <th>ENSG00000215375</th>\n",
       "      <th>ENSG00000169026</th>\n",
       "      <th>ENSG00000178950</th>\n",
       "      <th>ENSG00000145214</th>\n",
       "      <th>ENSG00000145217</th>\n",
       "      <th>...</th>\n",
       "      <th>ENSG00000109674</th>\n",
       "      <th>ENSG00000038002</th>\n",
       "      <th>ENSG00000129187</th>\n",
       "      <th>ENSG00000168310</th>\n",
       "      <th>ENSG00000164305</th>\n",
       "      <th>ENSG00000151726</th>\n",
       "      <th>ENSG00000151729</th>\n",
       "      <th>ENSG00000164342</th>\n",
       "      <th>ENSG00000164344</th>\n",
       "      <th>ENSG00000109536</th>\n",
       "    </tr>\n",
       "  </thead>\n",
       "  <tbody>\n",
       "    <tr>\n",
       "      <th>ENSG00000272602</th>\n",
       "      <td>1.000000</td>\n",
       "      <td>0.055217</td>\n",
       "      <td>0.168507</td>\n",
       "      <td>0.099181</td>\n",
       "      <td>0.096555</td>\n",
       "      <td>0.053408</td>\n",
       "      <td>0.062934</td>\n",
       "      <td>0.013476</td>\n",
       "      <td>0.005832</td>\n",
       "      <td>0.011316</td>\n",
       "      <td>...</td>\n",
       "      <td>0.010453</td>\n",
       "      <td>0.005149</td>\n",
       "      <td>0.010104</td>\n",
       "      <td>0.011093</td>\n",
       "      <td>0.008498</td>\n",
       "      <td>0.005795</td>\n",
       "      <td>0.009951</td>\n",
       "      <td>0.006716</td>\n",
       "      <td>0.005504</td>\n",
       "      <td>0.007268</td>\n",
       "    </tr>\n",
       "    <tr>\n",
       "      <th>ENSG00000131127</th>\n",
       "      <td>0.055217</td>\n",
       "      <td>1.000000</td>\n",
       "      <td>0.263330</td>\n",
       "      <td>0.071177</td>\n",
       "      <td>0.036538</td>\n",
       "      <td>0.042838</td>\n",
       "      <td>0.041653</td>\n",
       "      <td>0.005919</td>\n",
       "      <td>0.007459</td>\n",
       "      <td>0.003676</td>\n",
       "      <td>...</td>\n",
       "      <td>0.006922</td>\n",
       "      <td>0.004238</td>\n",
       "      <td>0.004431</td>\n",
       "      <td>0.010204</td>\n",
       "      <td>0.003890</td>\n",
       "      <td>0.008139</td>\n",
       "      <td>0.007795</td>\n",
       "      <td>0.007423</td>\n",
       "      <td>0.002115</td>\n",
       "      <td>0.002690</td>\n",
       "    </tr>\n",
       "    <tr>\n",
       "      <th>ENSG00000174227</th>\n",
       "      <td>0.168507</td>\n",
       "      <td>0.263330</td>\n",
       "      <td>1.000000</td>\n",
       "      <td>0.317910</td>\n",
       "      <td>0.158097</td>\n",
       "      <td>0.080815</td>\n",
       "      <td>0.102323</td>\n",
       "      <td>0.008731</td>\n",
       "      <td>0.005551</td>\n",
       "      <td>0.010585</td>\n",
       "      <td>...</td>\n",
       "      <td>0.006857</td>\n",
       "      <td>0.002611</td>\n",
       "      <td>0.011521</td>\n",
       "      <td>0.006669</td>\n",
       "      <td>0.005326</td>\n",
       "      <td>0.006427</td>\n",
       "      <td>0.006670</td>\n",
       "      <td>0.006830</td>\n",
       "      <td>0.006222</td>\n",
       "      <td>0.002279</td>\n",
       "    </tr>\n",
       "    <tr>\n",
       "      <th>ENSG00000133256</th>\n",
       "      <td>0.099181</td>\n",
       "      <td>0.071177</td>\n",
       "      <td>0.317910</td>\n",
       "      <td>1.000000</td>\n",
       "      <td>0.261069</td>\n",
       "      <td>0.252946</td>\n",
       "      <td>0.249455</td>\n",
       "      <td>0.015181</td>\n",
       "      <td>0.011593</td>\n",
       "      <td>0.007305</td>\n",
       "      <td>...</td>\n",
       "      <td>0.011084</td>\n",
       "      <td>0.005703</td>\n",
       "      <td>0.009555</td>\n",
       "      <td>0.007413</td>\n",
       "      <td>0.005696</td>\n",
       "      <td>0.005566</td>\n",
       "      <td>0.007196</td>\n",
       "      <td>0.009132</td>\n",
       "      <td>0.004878</td>\n",
       "      <td>0.006999</td>\n",
       "    </tr>\n",
       "    <tr>\n",
       "      <th>ENSG00000169020</th>\n",
       "      <td>0.096555</td>\n",
       "      <td>0.036538</td>\n",
       "      <td>0.158097</td>\n",
       "      <td>0.261069</td>\n",
       "      <td>1.000000</td>\n",
       "      <td>0.176526</td>\n",
       "      <td>0.220749</td>\n",
       "      <td>0.006267</td>\n",
       "      <td>0.004457</td>\n",
       "      <td>0.001231</td>\n",
       "      <td>...</td>\n",
       "      <td>0.001814</td>\n",
       "      <td>0.000699</td>\n",
       "      <td>0.004611</td>\n",
       "      <td>0.003805</td>\n",
       "      <td>0.000369</td>\n",
       "      <td>0.003265</td>\n",
       "      <td>0.002594</td>\n",
       "      <td>0.001526</td>\n",
       "      <td>0.000904</td>\n",
       "      <td>0.002050</td>\n",
       "    </tr>\n",
       "  </tbody>\n",
       "</table>\n",
       "<p>5 rows × 244 columns</p>\n",
       "</div>"
      ],
      "text/plain": [
       "                 ENSG00000272602  ENSG00000131127  ENSG00000174227  \\\n",
       "ENSG00000272602         1.000000         0.055217         0.168507   \n",
       "ENSG00000131127         0.055217         1.000000         0.263330   \n",
       "ENSG00000174227         0.168507         0.263330         1.000000   \n",
       "ENSG00000133256         0.099181         0.071177         0.317910   \n",
       "ENSG00000169020         0.096555         0.036538         0.158097   \n",
       "\n",
       "                 ENSG00000133256  ENSG00000169020  ENSG00000215375  \\\n",
       "ENSG00000272602         0.099181         0.096555         0.053408   \n",
       "ENSG00000131127         0.071177         0.036538         0.042838   \n",
       "ENSG00000174227         0.317910         0.158097         0.080815   \n",
       "ENSG00000133256         1.000000         0.261069         0.252946   \n",
       "ENSG00000169020         0.261069         1.000000         0.176526   \n",
       "\n",
       "                 ENSG00000169026  ENSG00000178950  ENSG00000145214  \\\n",
       "ENSG00000272602         0.062934         0.013476         0.005832   \n",
       "ENSG00000131127         0.041653         0.005919         0.007459   \n",
       "ENSG00000174227         0.102323         0.008731         0.005551   \n",
       "ENSG00000133256         0.249455         0.015181         0.011593   \n",
       "ENSG00000169020         0.220749         0.006267         0.004457   \n",
       "\n",
       "                 ENSG00000145217  ...  ENSG00000109674  ENSG00000038002  \\\n",
       "ENSG00000272602         0.011316  ...         0.010453         0.005149   \n",
       "ENSG00000131127         0.003676  ...         0.006922         0.004238   \n",
       "ENSG00000174227         0.010585  ...         0.006857         0.002611   \n",
       "ENSG00000133256         0.007305  ...         0.011084         0.005703   \n",
       "ENSG00000169020         0.001231  ...         0.001814         0.000699   \n",
       "\n",
       "                 ENSG00000129187  ENSG00000168310  ENSG00000164305  \\\n",
       "ENSG00000272602         0.010104         0.011093         0.008498   \n",
       "ENSG00000131127         0.004431         0.010204         0.003890   \n",
       "ENSG00000174227         0.011521         0.006669         0.005326   \n",
       "ENSG00000133256         0.009555         0.007413         0.005696   \n",
       "ENSG00000169020         0.004611         0.003805         0.000369   \n",
       "\n",
       "                 ENSG00000151726  ENSG00000151729  ENSG00000164342  \\\n",
       "ENSG00000272602         0.005795         0.009951         0.006716   \n",
       "ENSG00000131127         0.008139         0.007795         0.007423   \n",
       "ENSG00000174227         0.006427         0.006670         0.006830   \n",
       "ENSG00000133256         0.005566         0.007196         0.009132   \n",
       "ENSG00000169020         0.003265         0.002594         0.001526   \n",
       "\n",
       "                 ENSG00000164344  ENSG00000109536  \n",
       "ENSG00000272602         0.005504         0.007268  \n",
       "ENSG00000131127         0.002115         0.002690  \n",
       "ENSG00000174227         0.006222         0.002279  \n",
       "ENSG00000133256         0.004878         0.006999  \n",
       "ENSG00000169020         0.000904         0.002050  \n",
       "\n",
       "[5 rows x 244 columns]"
      ]
     },
     "execution_count": 31,
     "metadata": {},
     "output_type": "execute_result"
    }
   ],
   "source": [
    "gene_corrs_df.head()"
   ]
  },
  {
   "cell_type": "markdown",
   "id": "dad6603f-01c6-41fb-a6f6-241051207dd8",
   "metadata": {
    "papermill": {
     "duration": 1.389346,
     "end_time": "2022-08-30T17:19:31.719294",
     "exception": false,
     "start_time": "2022-08-30T17:19:30.329948",
     "status": "completed"
    },
    "tags": []
   },
   "source": [
    "## Standard checks and stats"
   ]
  },
  {
   "cell_type": "code",
   "execution_count": 32,
   "id": "286686af-1b7b-4440-8453-6bdcbd8de19c",
   "metadata": {
    "execution": {
     "iopub.execute_input": "2022-08-30T17:19:34.456077Z",
     "iopub.status.busy": "2022-08-30T17:19:34.455835Z",
     "iopub.status.idle": "2022-08-30T17:19:34.476583Z",
     "shell.execute_reply": "2022-08-30T17:19:34.476083Z"
    },
    "papermill": {
     "duration": 1.370013,
     "end_time": "2022-08-30T17:19:34.477976",
     "exception": false,
     "start_time": "2022-08-30T17:19:33.107963",
     "status": "completed"
    },
    "tags": []
   },
   "outputs": [],
   "source": [
    "assert not gene_corrs_df.isna().any().any()"
   ]
  },
  {
   "cell_type": "code",
   "execution_count": 33,
   "id": "00583efc-7068-4270-ad1e-4a418e91db96",
   "metadata": {
    "execution": {
     "iopub.execute_input": "2022-08-30T17:19:37.213212Z",
     "iopub.status.busy": "2022-08-30T17:19:37.212969Z",
     "iopub.status.idle": "2022-08-30T17:19:37.234405Z",
     "shell.execute_reply": "2022-08-30T17:19:37.234021Z"
    },
    "papermill": {
     "duration": 1.368234,
     "end_time": "2022-08-30T17:19:37.235597",
     "exception": false,
     "start_time": "2022-08-30T17:19:35.867363",
     "status": "completed"
    },
    "tags": []
   },
   "outputs": [
    {
     "data": {
      "text/plain": [
       "4.9979674285017875e-09"
      ]
     },
     "metadata": {},
     "output_type": "display_data"
    }
   ],
   "source": [
    "_min_val = gene_corrs_df.min().min()\n",
    "display(_min_val)\n",
    "assert _min_val >= -0.05"
   ]
  },
  {
   "cell_type": "code",
   "execution_count": 34,
   "id": "d04fb2cf-1050-475b-b855-f5f7cc04092b",
   "metadata": {
    "execution": {
     "iopub.execute_input": "2022-08-30T17:19:39.983441Z",
     "iopub.status.busy": "2022-08-30T17:19:39.983198Z",
     "iopub.status.idle": "2022-08-30T17:19:40.005908Z",
     "shell.execute_reply": "2022-08-30T17:19:40.005287Z"
    },
    "papermill": {
     "duration": 1.428035,
     "end_time": "2022-08-30T17:19:40.007265",
     "exception": false,
     "start_time": "2022-08-30T17:19:38.579230",
     "status": "completed"
    },
    "tags": []
   },
   "outputs": [
    {
     "data": {
      "text/plain": [
       "1.000000000000003"
      ]
     },
     "metadata": {},
     "output_type": "display_data"
    }
   ],
   "source": [
    "_max_val = gene_corrs_df.max().max()  # this captures the diagonal\n",
    "display(_max_val)\n",
    "assert _max_val <= 1.05"
   ]
  },
  {
   "cell_type": "code",
   "execution_count": 35,
   "id": "96d02c44-1fba-47be-8a93-8f2608420b9c",
   "metadata": {
    "execution": {
     "iopub.execute_input": "2022-08-30T17:19:42.749215Z",
     "iopub.status.busy": "2022-08-30T17:19:42.748973Z",
     "iopub.status.idle": "2022-08-30T17:19:42.771471Z",
     "shell.execute_reply": "2022-08-30T17:19:42.770931Z"
    },
    "papermill": {
     "duration": 1.359438,
     "end_time": "2022-08-30T17:19:42.772885",
     "exception": false,
     "start_time": "2022-08-30T17:19:41.413447",
     "status": "completed"
    },
    "tags": []
   },
   "outputs": [],
   "source": [
    "# check upper triangular values\n",
    "# assert len(gene_corrs) == int(genes_chr.shape[0] * (genes_chr.shape[0] - 1) / 2)"
   ]
  },
  {
   "cell_type": "code",
   "execution_count": 36,
   "id": "fe283586-c348-40e0-8841-f6d97bfb021c",
   "metadata": {
    "execution": {
     "iopub.execute_input": "2022-08-30T17:19:45.510453Z",
     "iopub.status.busy": "2022-08-30T17:19:45.510214Z",
     "iopub.status.idle": "2022-08-30T17:19:45.533703Z",
     "shell.execute_reply": "2022-08-30T17:19:45.533274Z"
    },
    "papermill": {
     "duration": 1.363464,
     "end_time": "2022-08-30T17:19:45.535037",
     "exception": false,
     "start_time": "2022-08-30T17:19:44.171573",
     "status": "completed"
    },
    "tags": []
   },
   "outputs": [
    {
     "data": {
      "text/plain": [
       "count    2.989000e+04\n",
       "mean     1.538064e-02\n",
       "std      9.207269e-02\n",
       "min      4.997967e-09\n",
       "25%      3.694497e-03\n",
       "50%      5.721287e-03\n",
       "75%      8.026356e-03\n",
       "max      1.000000e+00\n",
       "dtype: float64"
      ]
     },
     "execution_count": 36,
     "metadata": {},
     "output_type": "execute_result"
    }
   ],
   "source": [
    "gene_corrs_flat.describe()"
   ]
  },
  {
   "cell_type": "code",
   "execution_count": 37,
   "id": "b3815678-0f93-4b35-897b-a9d047a2aa78",
   "metadata": {
    "execution": {
     "iopub.execute_input": "2022-08-30T17:19:48.283397Z",
     "iopub.status.busy": "2022-08-30T17:19:48.283163Z",
     "iopub.status.idle": "2022-08-30T17:19:48.306679Z",
     "shell.execute_reply": "2022-08-30T17:19:48.306134Z"
    },
    "papermill": {
     "duration": 1.415975,
     "end_time": "2022-08-30T17:19:48.308008",
     "exception": false,
     "start_time": "2022-08-30T17:19:46.892033",
     "status": "completed"
    },
    "tags": []
   },
   "outputs": [
    {
     "data": {
      "text/plain": [
       "0.00    4.997967e-09\n",
       "0.05    1.392520e-03\n",
       "0.10    2.119270e-03\n",
       "0.15    2.723385e-03\n",
       "0.20    3.227647e-03\n",
       "0.25    3.694497e-03\n",
       "0.30    4.124405e-03\n",
       "0.35    4.540692e-03\n",
       "0.40    4.936903e-03\n",
       "0.45    5.324943e-03\n",
       "0.50    5.721287e-03\n",
       "0.55    6.127492e-03\n",
       "0.60    6.558033e-03\n",
       "0.65    6.987373e-03\n",
       "0.70    7.480479e-03\n",
       "0.75    8.026356e-03\n",
       "0.80    8.659940e-03\n",
       "0.85    9.409148e-03\n",
       "0.90    1.049960e-02\n",
       "0.95    1.225823e-02\n",
       "dtype: float64"
      ]
     },
     "metadata": {},
     "output_type": "display_data"
    }
   ],
   "source": [
    "gene_corrs_quantiles = gene_corrs_flat.quantile(np.arange(0, 1, 0.05))\n",
    "display(gene_corrs_quantiles)"
   ]
  },
  {
   "cell_type": "markdown",
   "id": "87134509-b145-4a10-8bc9-b7e914c2b0fa",
   "metadata": {
    "papermill": {
     "duration": 1.365193,
     "end_time": "2022-08-30T17:19:51.079433",
     "exception": false,
     "start_time": "2022-08-30T17:19:49.714240",
     "status": "completed"
    },
    "tags": []
   },
   "source": [
    "## Positive definiteness"
   ]
  },
  {
   "cell_type": "code",
   "execution_count": 38,
   "id": "07d9a9a1-a4f7-48aa-b916-6d42a8cc6186",
   "metadata": {
    "execution": {
     "iopub.execute_input": "2022-08-30T17:19:53.806195Z",
     "iopub.status.busy": "2022-08-30T17:19:53.805959Z",
     "iopub.status.idle": "2022-08-30T17:19:53.838950Z",
     "shell.execute_reply": "2022-08-30T17:19:53.838489Z"
    },
    "papermill": {
     "duration": 1.368193,
     "end_time": "2022-08-30T17:19:53.840134",
     "exception": false,
     "start_time": "2022-08-30T17:19:52.471941",
     "status": "completed"
    },
    "tags": []
   },
   "outputs": [
    {
     "data": {
      "text/plain": [
       "0"
      ]
     },
     "metadata": {},
     "output_type": "display_data"
    },
    {
     "data": {
      "text/plain": [
       "array([], dtype=float64)"
      ]
     },
     "metadata": {},
     "output_type": "display_data"
    }
   ],
   "source": [
    "# print negative eigenvalues\n",
    "eigs = np.linalg.eigvals(gene_corrs_df.to_numpy())\n",
    "display(len(eigs[eigs < 0]))\n",
    "display(eigs[eigs < 0])"
   ]
  },
  {
   "cell_type": "code",
   "execution_count": 39,
   "id": "6e218436-c3c5-4028-8c94-a4fa6260efce",
   "metadata": {
    "execution": {
     "iopub.execute_input": "2022-08-30T17:19:56.568084Z",
     "iopub.status.busy": "2022-08-30T17:19:56.567843Z",
     "iopub.status.idle": "2022-08-30T17:19:56.592173Z",
     "shell.execute_reply": "2022-08-30T17:19:56.591775Z"
    },
    "papermill": {
     "duration": 1.415463,
     "end_time": "2022-08-30T17:19:56.593375",
     "exception": false,
     "start_time": "2022-08-30T17:19:55.177912",
     "status": "completed"
    },
    "tags": []
   },
   "outputs": [
    {
     "name": "stdout",
     "output_type": "stream",
     "text": [
      "Works!\n"
     ]
    }
   ],
   "source": [
    "try:\n",
    "    chol_mat = np.linalg.cholesky(gene_corrs_df.to_numpy())\n",
    "    cov_inv = np.linalg.inv(chol_mat)\n",
    "    print(\"Works!\")\n",
    "except Exception as e:\n",
    "    print(f\"Cholesky decomposition failed: {str(e)}\")"
   ]
  },
  {
   "cell_type": "code",
   "execution_count": 40,
   "id": "dd8827fb-faf9-4c7c-9454-015e94752706",
   "metadata": {
    "execution": {
     "iopub.execute_input": "2022-08-30T17:19:59.321820Z",
     "iopub.status.busy": "2022-08-30T17:19:59.321572Z",
     "iopub.status.idle": "2022-08-30T17:19:59.344459Z",
     "shell.execute_reply": "2022-08-30T17:19:59.343867Z"
    },
    "papermill": {
     "duration": 1.36067,
     "end_time": "2022-08-30T17:19:59.345777",
     "exception": false,
     "start_time": "2022-08-30T17:19:57.985107",
     "status": "completed"
    },
    "tags": []
   },
   "outputs": [
    {
     "name": "stdout",
     "output_type": "stream",
     "text": [
      "Works!\n"
     ]
    }
   ],
   "source": [
    "try:\n",
    "    # decomposition used by statsmodels.GLS\n",
    "    cholsigmainv = np.linalg.cholesky(np.linalg.inv(gene_corrs_df.to_numpy())).T\n",
    "    print(\"Works!\")\n",
    "except Exception as e:\n",
    "    print(f\"Cholesky decomposition failed (statsmodels.GLS): {str(e)}\")"
   ]
  },
  {
   "cell_type": "markdown",
   "id": "8e60a080-edb2-4e9c-b2ef-22961693200c",
   "metadata": {
    "papermill": {
     "duration": 1.342459,
     "end_time": "2022-08-30T17:20:02.081278",
     "exception": false,
     "start_time": "2022-08-30T17:20:00.738819",
     "status": "completed"
    },
    "tags": []
   },
   "source": [
    "## Plot: distribution"
   ]
  },
  {
   "cell_type": "code",
   "execution_count": 41,
   "id": "8301126b-a7d4-4744-9c7d-f0f86eb6f54c",
   "metadata": {
    "execution": {
     "iopub.execute_input": "2022-08-30T17:20:04.811196Z",
     "iopub.status.busy": "2022-08-30T17:20:04.810956Z",
     "iopub.status.idle": "2022-08-30T17:20:11.703291Z",
     "shell.execute_reply": "2022-08-30T17:20:11.702814Z"
    },
    "papermill": {
     "duration": 8.28368,
     "end_time": "2022-08-30T17:20:11.704796",
     "exception": false,
     "start_time": "2022-08-30T17:20:03.421116",
     "status": "completed"
    },
    "tags": []
   },
   "outputs": [
    {
     "data": {
      "image/png": "[encoded data removed]",
      "text/plain": [
       "<Figure size 504x504 with 1 Axes>"
      ]
     },
     "metadata": {
      "needs_background": "light"
     },
     "output_type": "display_data"
    }
   ],
   "source": [
    "with sns.plotting_context(\"paper\", font_scale=1.5):\n",
    "    g = sns.displot(gene_corrs_flat, kde=True, height=7)\n",
    "    g.ax.set_title(\n",
    "        f\"Distribution of gene correlation values in chromosome {CHROMOSOME}\"\n",
    "    )"
   ]
  },
  {
   "cell_type": "markdown",
   "id": "cbd52bca-d878-4a2f-b684-5c83aa3038d4",
   "metadata": {
    "papermill": {
     "duration": 1.34229,
     "end_time": "2022-08-30T17:20:14.445361",
     "exception": false,
     "start_time": "2022-08-30T17:20:13.103071",
     "status": "completed"
    },
    "tags": []
   },
   "source": [
    "## Plot: heatmap"
   ]
  },
  {
   "cell_type": "code",
   "execution_count": 42,
   "id": "d03fe63a-c7b2-4fb9-a53c-db362ce843c9",
   "metadata": {
    "execution": {
     "iopub.execute_input": "2022-08-30T17:20:17.182659Z",
     "iopub.status.busy": "2022-08-30T17:20:17.182410Z",
     "iopub.status.idle": "2022-08-30T17:20:17.358394Z",
     "shell.execute_reply": "2022-08-30T17:20:17.357255Z"
    },
    "papermill": {
     "duration": 1.522927,
     "end_time": "2022-08-30T17:20:17.361939",
     "exception": false,
     "start_time": "2022-08-30T17:20:15.839012",
     "status": "completed"
    },
    "tags": []
   },
   "outputs": [
    {
     "data": {
      "text/plain": [
       "'0.0 / 0.05'"
      ]
     },
     "metadata": {},
     "output_type": "display_data"
    }
   ],
   "source": [
    "vmin_val = min(0.00, gene_corrs_quantiles[0.10])\n",
    "vmax_val = max(0.05, gene_corrs_quantiles[0.90])\n",
    "display(f\"{vmin_val} / {vmax_val}\")"
   ]
  },
  {
   "cell_type": "code",
   "execution_count": 43,
   "id": "dc41b70b-5bcc-4d9e-9f33-a22c4a94dab5",
   "metadata": {
    "execution": {
     "iopub.execute_input": "2022-08-30T17:20:20.180514Z",
     "iopub.status.busy": "2022-08-30T17:20:20.180274Z",
     "iopub.status.idle": "2022-08-30T17:20:20.377570Z",
     "shell.execute_reply": "2022-08-30T17:20:20.376899Z"
    },
    "papermill": {
     "duration": 1.587814,
     "end_time": "2022-08-30T17:20:20.378973",
     "exception": false,
     "start_time": "2022-08-30T17:20:18.791159",
     "status": "completed"
    },
    "tags": []
   },
   "outputs": [
    {
     "data": {
      "text/plain": [
       "Text(0.5, 1.0, 'Gene correlations in chromosome 4')"
      ]
     },
     "execution_count": 43,
     "metadata": {},
     "output_type": "execute_result"
    },
    {
     "data": {
      "image/png": "[encoded data removed]",
      "text/plain": [
       "<Figure size 720x720 with 2 Axes>"
      ]
     },
     "metadata": {
      "needs_background": "light"
     },
     "output_type": "display_data"
    }
   ],
   "source": [
    "f, ax = plt.subplots(figsize=(10, 10))\n",
    "sns.heatmap(\n",
    "    gene_corrs_df,\n",
    "    xticklabels=False,\n",
    "    yticklabels=False,\n",
    "    square=True,\n",
    "    vmin=vmin_val,\n",
    "    vmax=vmax_val,\n",
    "    cmap=\"rocket_r\",\n",
    "    ax=ax,\n",
    ")\n",
    "ax.set_title(f\"Gene correlations in chromosome {CHROMOSOME}\")"
   ]
  },
  {
   "cell_type": "code",
   "execution_count": null,
   "id": "b25e3ead",
   "metadata": {
    "papermill": {
     "duration": 1.340547,
     "end_time": "2022-08-30T17:20:23.111086",
     "exception": false,
     "start_time": "2022-08-30T17:20:21.770539",
     "status": "completed"
    },
    "tags": []
   },
   "outputs": [],
   "source": []
  }
 ],
 "metadata": {
  "jupytext": {
   "cell_metadata_filter": "all,-execution,-papermill,-trusted",
   "formats": "ipynb,py//py:percent"
  },
  "kernelspec": {
   "display_name": "Python 3 (ipykernel)",
   "language": "python",
   "name": "python3"
  },
  "language_info": {
   "codemirror_mode": {
    "name": "ipython",
    "version": 3
   },
   "file_extension": ".py",
   "mimetype": "text/x-python",
   "name": "python",
   "nbconvert_exporter": "python",
   "pygments_lexer": "ipython3",
   "version": "3.8.13"
  },
  "papermill": {
   "default_parameters": {},
   "duration": 1734.784554,
   "end_time": "2022-08-30T17:20:28.003966",
   "environment_variables": {},
   "exception": null,
   "input_path": "nbs/15_gsa_gls/10-gene_expr_correlations.ipynb",
   "output_path": "nbs/15_gsa_gls/gene_corrs/cohorts/emerge/gtex_v8/mashr/10-gene_expr_corrs/10-gene_expr_correlations-chr4.run.ipynb",
   "parameters": {
    "CHROMOSOME": 4,
    "COHORT_NAME": "emerge",
    "EQTL_MODEL": "MASHR",
    "REFERENCE_PANEL": "GTEX_V8"
   },
   "start_time": "2022-08-30T16:51:33.219412",
   "version": "2.2.2"
  }
 },
 "nbformat": 4,
 "nbformat_minor": 5
}
