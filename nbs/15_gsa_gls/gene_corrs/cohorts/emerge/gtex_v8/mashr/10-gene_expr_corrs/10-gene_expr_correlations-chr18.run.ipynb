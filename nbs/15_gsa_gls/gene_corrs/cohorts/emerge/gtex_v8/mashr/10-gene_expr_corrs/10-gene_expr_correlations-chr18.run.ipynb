{
 "cells": [
  {
   "cell_type": "markdown",
   "id": "7a6632fb",
   "metadata": {
    "papermill": {
     "duration": 0.020798,
     "end_time": "2022-08-30T16:51:36.592038",
     "exception": false,
     "start_time": "2022-08-30T16:51:36.571240",
     "status": "completed"
    },
    "tags": []
   },
   "source": [
    "# Description"
   ]
  },
  {
   "cell_type": "markdown",
   "id": "7097c346",
   "metadata": {
    "papermill": {
     "duration": 0.015779,
     "end_time": "2022-08-30T16:51:36.625384",
     "exception": false,
     "start_time": "2022-08-30T16:51:36.609605",
     "status": "completed"
    },
    "tags": []
   },
   "source": [
    "(Please, take a look at the README.md file in this directory for instructions on how to run this notebook)\n",
    "\n",
    "This notebook computes predicted expression correlations between all genes in the MultiPLIER models.\n",
    "\n",
    "It also has a parameter set for papermill to run on a single chromosome to run in parallel (see under `Settings` below).\n",
    "\n",
    "This notebook is not directly run. See README.md."
   ]
  },
  {
   "cell_type": "markdown",
   "id": "c61d8427",
   "metadata": {
    "papermill": {
     "duration": 0.015067,
     "end_time": "2022-08-30T16:51:36.655453",
     "exception": false,
     "start_time": "2022-08-30T16:51:36.640386",
     "status": "completed"
    },
    "tags": []
   },
   "source": [
    "# Modules"
   ]
  },
  {
   "cell_type": "code",
   "execution_count": 1,
   "id": "bbc0234f",
   "metadata": {
    "execution": {
     "iopub.execute_input": "2022-08-30T16:51:36.688110Z",
     "iopub.status.busy": "2022-08-30T16:51:36.687712Z",
     "iopub.status.idle": "2022-08-30T16:51:36.718906Z",
     "shell.execute_reply": "2022-08-30T16:51:36.718061Z"
    },
    "papermill": {
     "duration": 0.050328,
     "end_time": "2022-08-30T16:51:36.721797",
     "exception": false,
     "start_time": "2022-08-30T16:51:36.671469",
     "status": "completed"
    },
    "tags": []
   },
   "outputs": [],
   "source": [
    "%load_ext autoreload\n",
    "%autoreload 2"
   ]
  },
  {
   "cell_type": "code",
   "execution_count": 2,
   "id": "1d5f5a59",
   "metadata": {
    "execution": {
     "iopub.execute_input": "2022-08-30T16:51:36.750344Z",
     "iopub.status.busy": "2022-08-30T16:51:36.750022Z",
     "iopub.status.idle": "2022-08-30T16:51:41.134558Z",
     "shell.execute_reply": "2022-08-30T16:51:41.133948Z"
    },
    "papermill": {
     "duration": 4.400733,
     "end_time": "2022-08-30T16:51:41.136667",
     "exception": false,
     "start_time": "2022-08-30T16:51:36.735934",
     "status": "completed"
    },
    "tags": []
   },
   "outputs": [],
   "source": [
    "from random import sample, seed\n",
    "import warnings\n",
    "from pathlib import Path\n",
    "import pickle\n",
    "import traceback\n",
    "\n",
    "import numpy as np\n",
    "from scipy.spatial.distance import squareform\n",
    "import pandas as pd\n",
    "from tqdm import tqdm\n",
    "import matplotlib.pyplot as plt\n",
    "import seaborn as sns\n",
    "\n",
    "import conf\n",
    "from entity import Gene"
   ]
  },
  {
   "cell_type": "markdown",
   "id": "1eac24b5",
   "metadata": {
    "papermill": {
     "duration": 0.042415,
     "end_time": "2022-08-30T16:51:41.188898",
     "exception": false,
     "start_time": "2022-08-30T16:51:41.146483",
     "status": "completed"
    },
    "tags": []
   },
   "source": [
    "# Settings"
   ]
  },
  {
   "cell_type": "code",
   "execution_count": 3,
   "id": "ca4560ba",
   "metadata": {
    "execution": {
     "iopub.execute_input": "2022-08-30T16:51:41.207493Z",
     "iopub.status.busy": "2022-08-30T16:51:41.207226Z",
     "iopub.status.idle": "2022-08-30T16:51:41.228105Z",
     "shell.execute_reply": "2022-08-30T16:51:41.227488Z"
    },
    "papermill": {
     "duration": 0.032343,
     "end_time": "2022-08-30T16:51:41.229602",
     "exception": false,
     "start_time": "2022-08-30T16:51:41.197259",
     "status": "completed"
    },
    "tags": [
     "parameters"
    ]
   },
   "outputs": [],
   "source": [
    "# a cohort name (it could be something like UK_BIOBANK, etc)\n",
    "COHORT_NAME = None\n",
    "\n",
    "# reference panel such as 1000G or GTEX_V8\n",
    "REFERENCE_PANEL = None\n",
    "\n",
    "# predictions models such as MASHR or ELASTIC_NET\n",
    "EQTL_MODEL = None\n",
    "\n",
    "# this is the default value used in S-MultiXcan to select the\n",
    "# top principal components of the expression correlation matrix\n",
    "SMULTIXCAN_CONDITION_NUMBER = 30\n",
    "\n",
    "# specifies a single chromosome value\n",
    "CHROMOSOME = None\n",
    "\n",
    "# If True, computes the correlation between closeby genes only;\n",
    "# otherwise, it computes correlations for all genes in a chromosome\n",
    "COMPUTE_CORRELATIONS_WITHIN_DISTANCE = False\n",
    "\n",
    "# if True, then it will continue if a gene pair correlation fails,\n",
    "# printing the warning/error for debugging. If False, any warning/error\n",
    "# will be thrown\n",
    "DEBUG_MODE = False"
   ]
  },
  {
   "cell_type": "code",
   "execution_count": 4,
   "id": "1abcbeab",
   "metadata": {
    "execution": {
     "iopub.execute_input": "2022-08-30T16:51:41.248338Z",
     "iopub.status.busy": "2022-08-30T16:51:41.248134Z",
     "iopub.status.idle": "2022-08-30T16:51:41.267133Z",
     "shell.execute_reply": "2022-08-30T16:51:41.266421Z"
    },
    "papermill": {
     "duration": 0.030098,
     "end_time": "2022-08-30T16:51:41.268615",
     "exception": false,
     "start_time": "2022-08-30T16:51:41.238517",
     "status": "completed"
    },
    "tags": [
     "injected-parameters"
    ]
   },
   "outputs": [],
   "source": [
    "# Parameters\n",
    "COHORT_NAME = \"emerge\"\n",
    "REFERENCE_PANEL = \"GTEX_V8\"\n",
    "EQTL_MODEL = \"MASHR\"\n",
    "CHROMOSOME = 18\n"
   ]
  },
  {
   "cell_type": "code",
   "execution_count": 5,
   "id": "3190631f-27fc-480f-b18e-571d580425a5",
   "metadata": {
    "execution": {
     "iopub.execute_input": "2022-08-30T16:51:41.286265Z",
     "iopub.status.busy": "2022-08-30T16:51:41.286078Z",
     "iopub.status.idle": "2022-08-30T16:51:41.307105Z",
     "shell.execute_reply": "2022-08-30T16:51:41.306512Z"
    },
    "papermill": {
     "duration": 0.031314,
     "end_time": "2022-08-30T16:51:41.308414",
     "exception": false,
     "start_time": "2022-08-30T16:51:41.277100",
     "status": "completed"
    },
    "tags": []
   },
   "outputs": [
    {
     "data": {
      "text/plain": [
       "'Cohort name: emerge'"
      ]
     },
     "metadata": {},
     "output_type": "display_data"
    }
   ],
   "source": [
    "assert COHORT_NAME is not None and len(COHORT_NAME) > 0, \"A cohort name must be given\"\n",
    "\n",
    "COHORT_NAME = COHORT_NAME.lower()\n",
    "display(f\"Cohort name: {COHORT_NAME}\")"
   ]
  },
  {
   "cell_type": "code",
   "execution_count": 6,
   "id": "f53ba19b-0f93-4fa2-a047-63b375939d1a",
   "metadata": {
    "execution": {
     "iopub.execute_input": "2022-08-30T16:51:41.326791Z",
     "iopub.status.busy": "2022-08-30T16:51:41.326610Z",
     "iopub.status.idle": "2022-08-30T16:51:41.345114Z",
     "shell.execute_reply": "2022-08-30T16:51:41.344586Z"
    },
    "papermill": {
     "duration": 0.029154,
     "end_time": "2022-08-30T16:51:41.346514",
     "exception": false,
     "start_time": "2022-08-30T16:51:41.317360",
     "status": "completed"
    },
    "tags": []
   },
   "outputs": [
    {
     "data": {
      "text/plain": [
       "'Reference panel: GTEX_V8'"
      ]
     },
     "metadata": {},
     "output_type": "display_data"
    }
   ],
   "source": [
    "assert (\n",
    "    REFERENCE_PANEL is not None and len(REFERENCE_PANEL) > 0\n",
    "), \"A reference panel must be given\"\n",
    "\n",
    "display(f\"Reference panel: {REFERENCE_PANEL}\")"
   ]
  },
  {
   "cell_type": "code",
   "execution_count": 7,
   "id": "e024d130-c139-429a-9c6e-ccf149e297b0",
   "metadata": {
    "execution": {
     "iopub.execute_input": "2022-08-30T16:51:41.364697Z",
     "iopub.status.busy": "2022-08-30T16:51:41.364517Z",
     "iopub.status.idle": "2022-08-30T16:51:41.383131Z",
     "shell.execute_reply": "2022-08-30T16:51:41.382464Z"
    },
    "papermill": {
     "duration": 0.029359,
     "end_time": "2022-08-30T16:51:41.384528",
     "exception": false,
     "start_time": "2022-08-30T16:51:41.355169",
     "status": "completed"
    },
    "tags": []
   },
   "outputs": [
    {
     "data": {
      "text/plain": [
       "'eQTL model: MASHR) / mashr_'"
      ]
     },
     "metadata": {},
     "output_type": "display_data"
    }
   ],
   "source": [
    "assert (\n",
    "    EQTL_MODEL is not None and len(EQTL_MODEL) > 0\n",
    "), \"A prediction/eQTL model must be given\"\n",
    "\n",
    "EQTL_MODEL_FILES_PREFIX = conf.PHENOMEXCAN[\"PREDICTION_MODELS\"][f\"{EQTL_MODEL}_PREFIX\"]\n",
    "display(f\"eQTL model: {EQTL_MODEL}) / {EQTL_MODEL_FILES_PREFIX}\")"
   ]
  },
  {
   "cell_type": "code",
   "execution_count": 8,
   "id": "552a7f63-a18c-4d3e-bb6a-94f99b431291",
   "metadata": {
    "execution": {
     "iopub.execute_input": "2022-08-30T16:51:41.404003Z",
     "iopub.status.busy": "2022-08-30T16:51:41.403829Z",
     "iopub.status.idle": "2022-08-30T16:51:41.421658Z",
     "shell.execute_reply": "2022-08-30T16:51:41.421137Z"
    },
    "papermill": {
     "duration": 0.029916,
     "end_time": "2022-08-30T16:51:41.423010",
     "exception": false,
     "start_time": "2022-08-30T16:51:41.393094",
     "status": "completed"
    },
    "tags": []
   },
   "outputs": [
    {
     "data": {
      "text/plain": [
       "'S-MultiXcan condition number: 30'"
      ]
     },
     "metadata": {},
     "output_type": "display_data"
    }
   ],
   "source": [
    "assert (\n",
    "    SMULTIXCAN_CONDITION_NUMBER is not None and SMULTIXCAN_CONDITION_NUMBER > 0\n",
    "), \"The S-MultiXcan condition number (positive integer) must be given\"\n",
    "\n",
    "display(f\"S-MultiXcan condition number: {SMULTIXCAN_CONDITION_NUMBER}\")"
   ]
  },
  {
   "cell_type": "code",
   "execution_count": 9,
   "id": "f34a336f-548e-4afe-8955-90eaea4f42c6",
   "metadata": {
    "execution": {
     "iopub.execute_input": "2022-08-30T16:51:41.445289Z",
     "iopub.status.busy": "2022-08-30T16:51:41.445118Z",
     "iopub.status.idle": "2022-08-30T16:51:41.462581Z",
     "shell.execute_reply": "2022-08-30T16:51:41.462104Z"
    },
    "papermill": {
     "duration": 0.030175,
     "end_time": "2022-08-30T16:51:41.463911",
     "exception": false,
     "start_time": "2022-08-30T16:51:41.433736",
     "status": "completed"
    },
    "tags": []
   },
   "outputs": [
    {
     "data": {
      "text/plain": [
       "'Working on chromosome 18'"
      ]
     },
     "metadata": {},
     "output_type": "display_data"
    }
   ],
   "source": [
    "assert CHROMOSOME is not None and (\n",
    "    1 <= CHROMOSOME <= 22\n",
    "), \"You have to select one chromosome (format: number between 1 and 22)\"\n",
    "\n",
    "# CHROMOSOME = str(CHROMOSOME)\n",
    "display(f\"Working on chromosome {CHROMOSOME}\")"
   ]
  },
  {
   "cell_type": "code",
   "execution_count": 10,
   "id": "ab8e96e8-06b5-4363-9dcd-dc4d78cc27f7",
   "metadata": {
    "execution": {
     "iopub.execute_input": "2022-08-30T16:51:41.484112Z",
     "iopub.status.busy": "2022-08-30T16:51:41.483943Z",
     "iopub.status.idle": "2022-08-30T16:51:41.501463Z",
     "shell.execute_reply": "2022-08-30T16:51:41.500906Z"
    },
    "papermill": {
     "duration": 0.028184,
     "end_time": "2022-08-30T16:51:41.502811",
     "exception": false,
     "start_time": "2022-08-30T16:51:41.474627",
     "status": "completed"
    },
    "tags": []
   },
   "outputs": [
    {
     "data": {
      "text/plain": [
       "'Compute correlation within distance False'"
      ]
     },
     "metadata": {},
     "output_type": "display_data"
    }
   ],
   "source": [
    "display(f\"Compute correlation within distance {COMPUTE_CORRELATIONS_WITHIN_DISTANCE}\")"
   ]
  },
  {
   "cell_type": "code",
   "execution_count": 11,
   "id": "396392dc-0340-4540-9b02-e182b833f909",
   "metadata": {
    "execution": {
     "iopub.execute_input": "2022-08-30T16:51:41.522026Z",
     "iopub.status.busy": "2022-08-30T16:51:41.521855Z",
     "iopub.status.idle": "2022-08-30T16:51:41.543389Z",
     "shell.execute_reply": "2022-08-30T16:51:41.543004Z"
    },
    "papermill": {
     "duration": 0.031983,
     "end_time": "2022-08-30T16:51:41.544634",
     "exception": false,
     "start_time": "2022-08-30T16:51:41.512651",
     "status": "completed"
    },
    "tags": []
   },
   "outputs": [
    {
     "data": {
      "text/plain": [
       "'Using output dir base: /project/ritchie20/projects/phenoplier/base/results/gls/gene_corrs/cohorts/emerge/gtex_v8/mashr'"
      ]
     },
     "metadata": {},
     "output_type": "display_data"
    }
   ],
   "source": [
    "OUTPUT_DIR_BASE = (\n",
    "    conf.RESULTS[\"GLS\"]\n",
    "    / \"gene_corrs\"\n",
    "    / \"cohorts\"\n",
    "    / COHORT_NAME\n",
    "    / REFERENCE_PANEL.lower()\n",
    "    / EQTL_MODEL.lower()\n",
    ")\n",
    "OUTPUT_DIR_BASE.mkdir(parents=True, exist_ok=True)\n",
    "\n",
    "display(f\"Using output dir base: {OUTPUT_DIR_BASE}\")"
   ]
  },
  {
   "cell_type": "markdown",
   "id": "d2ba085e",
   "metadata": {
    "papermill": {
     "duration": 0.009698,
     "end_time": "2022-08-30T16:51:41.562917",
     "exception": false,
     "start_time": "2022-08-30T16:51:41.553219",
     "status": "completed"
    },
    "tags": []
   },
   "source": [
    "# Load data"
   ]
  },
  {
   "cell_type": "markdown",
   "id": "7dcb8db7",
   "metadata": {
    "papermill": {
     "duration": 0.009039,
     "end_time": "2022-08-30T16:51:41.584832",
     "exception": false,
     "start_time": "2022-08-30T16:51:41.575793",
     "status": "completed"
    },
    "tags": []
   },
   "source": [
    "## GWAS variants"
   ]
  },
  {
   "cell_type": "code",
   "execution_count": 12,
   "id": "29434c4e-8cd3-4b9b-82e4-b5a251d9dd19",
   "metadata": {
    "execution": {
     "iopub.execute_input": "2022-08-30T16:51:41.604560Z",
     "iopub.status.busy": "2022-08-30T16:51:41.604381Z",
     "iopub.status.idle": "2022-08-30T16:51:44.092755Z",
     "shell.execute_reply": "2022-08-30T16:51:44.092000Z"
    },
    "papermill": {
     "duration": 2.500941,
     "end_time": "2022-08-30T16:51:44.094657",
     "exception": false,
     "start_time": "2022-08-30T16:51:41.593716",
     "status": "completed"
    },
    "tags": []
   },
   "outputs": [],
   "source": [
    "with open(OUTPUT_DIR_BASE / \"gwas_variant_ids.pkl\", \"rb\") as handle:\n",
    "    gwas_variants_ids_set = pickle.load(handle)"
   ]
  },
  {
   "cell_type": "code",
   "execution_count": 13,
   "id": "b9d9dec2-4a76-4bf9-bde2-e24c95acb8a0",
   "metadata": {
    "execution": {
     "iopub.execute_input": "2022-08-30T16:51:44.124351Z",
     "iopub.status.busy": "2022-08-30T16:51:44.124118Z",
     "iopub.status.idle": "2022-08-30T16:51:44.148151Z",
     "shell.execute_reply": "2022-08-30T16:51:44.147744Z"
    },
    "papermill": {
     "duration": 0.040152,
     "end_time": "2022-08-30T16:51:44.149451",
     "exception": false,
     "start_time": "2022-08-30T16:51:44.109299",
     "status": "completed"
    },
    "tags": []
   },
   "outputs": [
    {
     "data": {
      "text/plain": [
       "8376508"
      ]
     },
     "execution_count": 13,
     "metadata": {},
     "output_type": "execute_result"
    }
   ],
   "source": [
    "len(gwas_variants_ids_set)"
   ]
  },
  {
   "cell_type": "code",
   "execution_count": 14,
   "id": "4235b06a-6034-4ee4-a0a3-2ae35d122418",
   "metadata": {
    "execution": {
     "iopub.execute_input": "2022-08-30T16:51:44.181045Z",
     "iopub.status.busy": "2022-08-30T16:51:44.180860Z",
     "iopub.status.idle": "2022-08-30T16:51:44.672695Z",
     "shell.execute_reply": "2022-08-30T16:51:44.672048Z"
    },
    "papermill": {
     "duration": 0.511446,
     "end_time": "2022-08-30T16:51:44.674145",
     "exception": false,
     "start_time": "2022-08-30T16:51:44.162699",
     "status": "completed"
    },
    "tags": []
   },
   "outputs": [
    {
     "data": {
      "text/plain": [
       "['chr11_96809615_A_G_b38',\n",
       " 'chr4_131629427_G_A_b38',\n",
       " 'chr20_20455680_C_T_b38',\n",
       " 'chr8_25407481_G_A_b38',\n",
       " 'chr2_238002021_T_C_b38']"
      ]
     },
     "execution_count": 14,
     "metadata": {},
     "output_type": "execute_result"
    }
   ],
   "source": [
    "list(gwas_variants_ids_set)[:5]"
   ]
  },
  {
   "cell_type": "markdown",
   "id": "07866999-2305-41f9-a144-e69c9122c212",
   "metadata": {
    "papermill": {
     "duration": 0.012118,
     "end_time": "2022-08-30T16:51:44.696379",
     "exception": false,
     "start_time": "2022-08-30T16:51:44.684261",
     "status": "completed"
    },
    "tags": []
   },
   "source": [
    "## S-PrediXcan tissue models"
   ]
  },
  {
   "cell_type": "code",
   "execution_count": 15,
   "id": "780611d9-77c8-405f-90a4-f271f7b09397",
   "metadata": {
    "execution": {
     "iopub.execute_input": "2022-08-30T16:51:44.718098Z",
     "iopub.status.busy": "2022-08-30T16:51:44.717917Z",
     "iopub.status.idle": "2022-08-30T16:51:45.530505Z",
     "shell.execute_reply": "2022-08-30T16:51:45.529899Z"
    },
    "papermill": {
     "duration": 0.825988,
     "end_time": "2022-08-30T16:51:45.532192",
     "exception": false,
     "start_time": "2022-08-30T16:51:44.706204",
     "status": "completed"
    },
    "tags": []
   },
   "outputs": [],
   "source": [
    "spredixcan_genes_models = pd.read_pickle(OUTPUT_DIR_BASE / \"gene_tissues.pkl\")"
   ]
  },
  {
   "cell_type": "code",
   "execution_count": 16,
   "id": "726dd1f6-9557-4225-91fa-b3b879ea96e1",
   "metadata": {
    "execution": {
     "iopub.execute_input": "2022-08-30T16:51:45.570425Z",
     "iopub.status.busy": "2022-08-30T16:51:45.570195Z",
     "iopub.status.idle": "2022-08-30T16:51:45.592408Z",
     "shell.execute_reply": "2022-08-30T16:51:45.591955Z"
    },
    "papermill": {
     "duration": 0.0447,
     "end_time": "2022-08-30T16:51:45.593796",
     "exception": false,
     "start_time": "2022-08-30T16:51:45.549096",
     "status": "completed"
    },
    "tags": []
   },
   "outputs": [
    {
     "data": {
      "text/plain": [
       "(6425, 3)"
      ]
     },
     "execution_count": 16,
     "metadata": {},
     "output_type": "execute_result"
    }
   ],
   "source": [
    "spredixcan_genes_models.shape"
   ]
  },
  {
   "cell_type": "code",
   "execution_count": 17,
   "id": "944a1b48-222c-4eb0-b252-b9de2cbca215",
   "metadata": {
    "execution": {
     "iopub.execute_input": "2022-08-30T16:51:45.636242Z",
     "iopub.status.busy": "2022-08-30T16:51:45.636028Z",
     "iopub.status.idle": "2022-08-30T16:51:45.672442Z",
     "shell.execute_reply": "2022-08-30T16:51:45.671667Z"
    },
    "papermill": {
     "duration": 0.061664,
     "end_time": "2022-08-30T16:51:45.674176",
     "exception": false,
     "start_time": "2022-08-30T16:51:45.612512",
     "status": "completed"
    },
    "tags": []
   },
   "outputs": [
    {
     "data": {
      "text/html": [
       "<div>\n",
       "<style scoped>\n",
       "    .dataframe tbody tr th:only-of-type {\n",
       "        vertical-align: middle;\n",
       "    }\n",
       "\n",
       "    .dataframe tbody tr th {\n",
       "        vertical-align: top;\n",
       "    }\n",
       "\n",
       "    .dataframe thead th {\n",
       "        text-align: right;\n",
       "    }\n",
       "</style>\n",
       "<table border=\"1\" class=\"dataframe\">\n",
       "  <thead>\n",
       "    <tr style=\"text-align: right;\">\n",
       "      <th></th>\n",
       "      <th>gene_name</th>\n",
       "      <th>tissue</th>\n",
       "      <th>n_tissues</th>\n",
       "    </tr>\n",
       "    <tr>\n",
       "      <th>gene_id</th>\n",
       "      <th></th>\n",
       "      <th></th>\n",
       "      <th></th>\n",
       "    </tr>\n",
       "  </thead>\n",
       "  <tbody>\n",
       "    <tr>\n",
       "      <th>ENSG00000000419</th>\n",
       "      <td>DPM1</td>\n",
       "      <td>(Brain_Hypothalamus, Brain_Substantia_nigra)</td>\n",
       "      <td>2</td>\n",
       "    </tr>\n",
       "    <tr>\n",
       "      <th>ENSG00000000938</th>\n",
       "      <td>FGR</td>\n",
       "      <td>(Brain_Hippocampus, Prostate, Brain_Hypothalam...</td>\n",
       "      <td>26</td>\n",
       "    </tr>\n",
       "    <tr>\n",
       "      <th>ENSG00000000971</th>\n",
       "      <td>CFH</td>\n",
       "      <td>(Brain_Hippocampus, Artery_Aorta, Brain_Cerebe...</td>\n",
       "      <td>34</td>\n",
       "    </tr>\n",
       "    <tr>\n",
       "      <th>ENSG00000001084</th>\n",
       "      <td>GCLC</td>\n",
       "      <td>(Brain_Hippocampus, Artery_Aorta, Brain_Cerebe...</td>\n",
       "      <td>32</td>\n",
       "    </tr>\n",
       "    <tr>\n",
       "      <th>ENSG00000001167</th>\n",
       "      <td>NFYA</td>\n",
       "      <td>(Brain_Hippocampus, Prostate, Brain_Hypothalam...</td>\n",
       "      <td>40</td>\n",
       "    </tr>\n",
       "  </tbody>\n",
       "</table>\n",
       "</div>"
      ],
      "text/plain": [
       "                gene_name                                             tissue  \\\n",
       "gene_id                                                                        \n",
       "ENSG00000000419      DPM1       (Brain_Hypothalamus, Brain_Substantia_nigra)   \n",
       "ENSG00000000938       FGR  (Brain_Hippocampus, Prostate, Brain_Hypothalam...   \n",
       "ENSG00000000971       CFH  (Brain_Hippocampus, Artery_Aorta, Brain_Cerebe...   \n",
       "ENSG00000001084      GCLC  (Brain_Hippocampus, Artery_Aorta, Brain_Cerebe...   \n",
       "ENSG00000001167      NFYA  (Brain_Hippocampus, Prostate, Brain_Hypothalam...   \n",
       "\n",
       "                 n_tissues  \n",
       "gene_id                     \n",
       "ENSG00000000419          2  \n",
       "ENSG00000000938         26  \n",
       "ENSG00000000971         34  \n",
       "ENSG00000001084         32  \n",
       "ENSG00000001167         40  "
      ]
     },
     "execution_count": 17,
     "metadata": {},
     "output_type": "execute_result"
    }
   ],
   "source": [
    "spredixcan_genes_models.head()"
   ]
  },
  {
   "cell_type": "code",
   "execution_count": 18,
   "id": "d1c11bb1-be0b-4f40-b360-633d6827109f",
   "metadata": {
    "execution": {
     "iopub.execute_input": "2022-08-30T16:51:45.709923Z",
     "iopub.status.busy": "2022-08-30T16:51:45.709697Z",
     "iopub.status.idle": "2022-08-30T16:51:45.733461Z",
     "shell.execute_reply": "2022-08-30T16:51:45.732696Z"
    },
    "papermill": {
     "duration": 0.04334,
     "end_time": "2022-08-30T16:51:45.735296",
     "exception": false,
     "start_time": "2022-08-30T16:51:45.691956",
     "status": "completed"
    },
    "tags": []
   },
   "outputs": [],
   "source": [
    "assert spredixcan_genes_models.index.is_unique"
   ]
  },
  {
   "cell_type": "markdown",
   "id": "a5b5092c-a13e-47c4-a92a-480fcc08f3ae",
   "metadata": {
    "papermill": {
     "duration": 0.026006,
     "end_time": "2022-08-30T16:51:45.784421",
     "exception": false,
     "start_time": "2022-08-30T16:51:45.758415",
     "status": "completed"
    },
    "tags": []
   },
   "source": [
    "## Gene info"
   ]
  },
  {
   "cell_type": "code",
   "execution_count": 19,
   "id": "7d6bb224-88e9-4358-ac10-43a41d92cdad",
   "metadata": {
    "execution": {
     "iopub.execute_input": "2022-08-30T16:51:45.847986Z",
     "iopub.status.busy": "2022-08-30T16:51:45.847501Z",
     "iopub.status.idle": "2022-08-30T16:51:45.916255Z",
     "shell.execute_reply": "2022-08-30T16:51:45.915262Z"
    },
    "papermill": {
     "duration": 0.108955,
     "end_time": "2022-08-30T16:51:45.919374",
     "exception": false,
     "start_time": "2022-08-30T16:51:45.810419",
     "status": "completed"
    },
    "tags": []
   },
   "outputs": [],
   "source": [
    "genes_info = pd.read_pickle(OUTPUT_DIR_BASE / \"genes_info.pkl\")"
   ]
  },
  {
   "cell_type": "code",
   "execution_count": 20,
   "id": "9e32abfa-546d-483e-8c18-d526e9e05903",
   "metadata": {
    "execution": {
     "iopub.execute_input": "2022-08-30T16:51:45.975879Z",
     "iopub.status.busy": "2022-08-30T16:51:45.975493Z",
     "iopub.status.idle": "2022-08-30T16:51:46.013285Z",
     "shell.execute_reply": "2022-08-30T16:51:46.012353Z"
    },
    "papermill": {
     "duration": 0.070534,
     "end_time": "2022-08-30T16:51:46.015641",
     "exception": false,
     "start_time": "2022-08-30T16:51:45.945107",
     "status": "completed"
    },
    "tags": []
   },
   "outputs": [
    {
     "data": {
      "text/plain": [
       "(6425, 7)"
      ]
     },
     "execution_count": 20,
     "metadata": {},
     "output_type": "execute_result"
    }
   ],
   "source": [
    "genes_info.shape"
   ]
  },
  {
   "cell_type": "code",
   "execution_count": 21,
   "id": "d16c3e92-85ec-468a-9a56-e25a9774a1cb",
   "metadata": {
    "execution": {
     "iopub.execute_input": "2022-08-30T16:51:46.073499Z",
     "iopub.status.busy": "2022-08-30T16:51:46.073101Z",
     "iopub.status.idle": "2022-08-30T16:51:46.117706Z",
     "shell.execute_reply": "2022-08-30T16:51:46.116845Z"
    },
    "papermill": {
     "duration": 0.078743,
     "end_time": "2022-08-30T16:51:46.120050",
     "exception": false,
     "start_time": "2022-08-30T16:51:46.041307",
     "status": "completed"
    },
    "tags": []
   },
   "outputs": [
    {
     "data": {
      "text/html": [
       "<div>\n",
       "<style scoped>\n",
       "    .dataframe tbody tr th:only-of-type {\n",
       "        vertical-align: middle;\n",
       "    }\n",
       "\n",
       "    .dataframe tbody tr th {\n",
       "        vertical-align: top;\n",
       "    }\n",
       "\n",
       "    .dataframe thead th {\n",
       "        text-align: right;\n",
       "    }\n",
       "</style>\n",
       "<table border=\"1\" class=\"dataframe\">\n",
       "  <thead>\n",
       "    <tr style=\"text-align: right;\">\n",
       "      <th></th>\n",
       "      <th>name</th>\n",
       "      <th>id</th>\n",
       "      <th>chr</th>\n",
       "      <th>band</th>\n",
       "      <th>start_position</th>\n",
       "      <th>end_position</th>\n",
       "      <th>gene_length</th>\n",
       "    </tr>\n",
       "  </thead>\n",
       "  <tbody>\n",
       "    <tr>\n",
       "      <th>0</th>\n",
       "      <td>ADAMTS14</td>\n",
       "      <td>ENSG00000138316</td>\n",
       "      <td>10</td>\n",
       "      <td>10q22.1</td>\n",
       "      <td>70672506</td>\n",
       "      <td>70762441</td>\n",
       "      <td>89935</td>\n",
       "    </tr>\n",
       "    <tr>\n",
       "      <th>1</th>\n",
       "      <td>TXN</td>\n",
       "      <td>ENSG00000136810</td>\n",
       "      <td>9</td>\n",
       "      <td>9q31.3</td>\n",
       "      <td>110243810</td>\n",
       "      <td>110256507</td>\n",
       "      <td>12697</td>\n",
       "    </tr>\n",
       "    <tr>\n",
       "      <th>2</th>\n",
       "      <td>RMI1</td>\n",
       "      <td>ENSG00000178966</td>\n",
       "      <td>9</td>\n",
       "      <td>9q21.32</td>\n",
       "      <td>83980711</td>\n",
       "      <td>84004074</td>\n",
       "      <td>23363</td>\n",
       "    </tr>\n",
       "    <tr>\n",
       "      <th>3</th>\n",
       "      <td>DHX58</td>\n",
       "      <td>ENSG00000108771</td>\n",
       "      <td>17</td>\n",
       "      <td>17q21.2</td>\n",
       "      <td>42101404</td>\n",
       "      <td>42112714</td>\n",
       "      <td>11310</td>\n",
       "    </tr>\n",
       "    <tr>\n",
       "      <th>4</th>\n",
       "      <td>XRCC4</td>\n",
       "      <td>ENSG00000152422</td>\n",
       "      <td>5</td>\n",
       "      <td>5q14.2</td>\n",
       "      <td>83077498</td>\n",
       "      <td>83353787</td>\n",
       "      <td>276289</td>\n",
       "    </tr>\n",
       "  </tbody>\n",
       "</table>\n",
       "</div>"
      ],
      "text/plain": [
       "       name               id  chr     band  start_position  end_position  \\\n",
       "0  ADAMTS14  ENSG00000138316   10  10q22.1        70672506      70762441   \n",
       "1       TXN  ENSG00000136810    9   9q31.3       110243810     110256507   \n",
       "2      RMI1  ENSG00000178966    9  9q21.32        83980711      84004074   \n",
       "3     DHX58  ENSG00000108771   17  17q21.2        42101404      42112714   \n",
       "4     XRCC4  ENSG00000152422    5   5q14.2        83077498      83353787   \n",
       "\n",
       "   gene_length  \n",
       "0        89935  \n",
       "1        12697  \n",
       "2        23363  \n",
       "3        11310  \n",
       "4       276289  "
      ]
     },
     "execution_count": 21,
     "metadata": {},
     "output_type": "execute_result"
    }
   ],
   "source": [
    "genes_info.head()"
   ]
  },
  {
   "cell_type": "markdown",
   "id": "d3843e06",
   "metadata": {
    "papermill": {
     "duration": 0.026617,
     "end_time": "2022-08-30T16:51:46.173874",
     "exception": false,
     "start_time": "2022-08-30T16:51:46.147257",
     "status": "completed"
    },
    "tags": []
   },
   "source": [
    "# Compute correlations"
   ]
  },
  {
   "cell_type": "code",
   "execution_count": 22,
   "id": "cb859c15-d1f3-4006-a74c-2b83c0db9611",
   "metadata": {
    "execution": {
     "iopub.execute_input": "2022-08-30T16:51:46.246298Z",
     "iopub.status.busy": "2022-08-30T16:51:46.245768Z",
     "iopub.status.idle": "2022-08-30T16:51:46.294807Z",
     "shell.execute_reply": "2022-08-30T16:51:46.293809Z"
    },
    "papermill": {
     "duration": 0.091557,
     "end_time": "2022-08-30T16:51:46.297625",
     "exception": false,
     "start_time": "2022-08-30T16:51:46.206068",
     "status": "completed"
    },
    "tags": []
   },
   "outputs": [
    {
     "data": {
      "text/plain": [
       "PosixPath('/project/ritchie20/projects/phenoplier/base/results/gls/gene_corrs/cohorts/emerge/gtex_v8/mashr/by_chr/gene_corrs-chr18.pkl')"
      ]
     },
     "metadata": {},
     "output_type": "display_data"
    }
   ],
   "source": [
    "output_dir = OUTPUT_DIR_BASE / \"by_chr\"\n",
    "output_dir.mkdir(exist_ok=True, parents=True)\n",
    "output_file = output_dir / f\"gene_corrs-chr{CHROMOSOME}.pkl\"\n",
    "display(output_file)"
   ]
  },
  {
   "cell_type": "code",
   "execution_count": 23,
   "id": "aa674fe4-6794-4eed-98fa-32b39d1d4ace",
   "metadata": {
    "execution": {
     "iopub.execute_input": "2022-08-30T16:51:46.351768Z",
     "iopub.status.busy": "2022-08-30T16:51:46.351383Z",
     "iopub.status.idle": "2022-08-30T16:51:46.386294Z",
     "shell.execute_reply": "2022-08-30T16:51:46.385439Z"
    },
    "papermill": {
     "duration": 0.065198,
     "end_time": "2022-08-30T16:51:46.388983",
     "exception": false,
     "start_time": "2022-08-30T16:51:46.323785",
     "status": "completed"
    },
    "tags": []
   },
   "outputs": [],
   "source": [
    "warnings.filterwarnings(\"error\")"
   ]
  },
  {
   "cell_type": "code",
   "execution_count": 24,
   "id": "44d5450b-3baf-43f1-9e2e-4b06f1a785f8",
   "metadata": {
    "execution": {
     "iopub.execute_input": "2022-08-30T16:51:46.441351Z",
     "iopub.status.busy": "2022-08-30T16:51:46.440952Z",
     "iopub.status.idle": "2022-08-30T16:51:46.476240Z",
     "shell.execute_reply": "2022-08-30T16:51:46.475449Z"
    },
    "papermill": {
     "duration": 0.065088,
     "end_time": "2022-08-30T16:51:46.478800",
     "exception": false,
     "start_time": "2022-08-30T16:51:46.413712",
     "status": "completed"
    },
    "tags": []
   },
   "outputs": [],
   "source": [
    "# standard checks\n",
    "all_chrs = genes_info[\"chr\"].dropna().unique()\n",
    "assert all_chrs.shape[0] == 22\n",
    "\n",
    "# select chromosome given by the user\n",
    "assert CHROMOSOME in all_chrs"
   ]
  },
  {
   "cell_type": "code",
   "execution_count": 25,
   "id": "2d7c043c-92a7-4d35-991b-fa69ac1e0268",
   "metadata": {
    "execution": {
     "iopub.execute_input": "2022-08-30T16:51:46.522940Z",
     "iopub.status.busy": "2022-08-30T16:51:46.522622Z",
     "iopub.status.idle": "2022-08-30T16:51:46.618752Z",
     "shell.execute_reply": "2022-08-30T16:51:46.617598Z"
    },
    "papermill": {
     "duration": 0.122924,
     "end_time": "2022-08-30T16:51:46.622368",
     "exception": false,
     "start_time": "2022-08-30T16:51:46.499444",
     "status": "completed"
    },
    "tags": []
   },
   "outputs": [
    {
     "name": "stdout",
     "output_type": "stream",
     "text": [
      "Number of genes in chromosome: 96\n"
     ]
    }
   ],
   "source": [
    "# run only on the chromosome specified\n",
    "all_chrs = [CHROMOSOME]\n",
    "genes_chr = genes_info[genes_info[\"chr\"] == CHROMOSOME]\n",
    "\n",
    "# For testing purposes\n",
    "# genes_chr = genes_chr.sample(n=20)\n",
    "\n",
    "print(f\"Number of genes in chromosome: {genes_chr.shape[0]}\", flush=True)"
   ]
  },
  {
   "cell_type": "code",
   "execution_count": 26,
   "id": "916015d8-2979-46d3-a9b9-1cf5a0932c6a",
   "metadata": {
    "execution": {
     "iopub.execute_input": "2022-08-30T16:51:46.674539Z",
     "iopub.status.busy": "2022-08-30T16:51:46.674131Z",
     "iopub.status.idle": "2022-08-30T16:51:46.763565Z",
     "shell.execute_reply": "2022-08-30T16:51:46.762479Z"
    },
    "papermill": {
     "duration": 0.117397,
     "end_time": "2022-08-30T16:51:46.767151",
     "exception": false,
     "start_time": "2022-08-30T16:51:46.649754",
     "status": "completed"
    },
    "tags": []
   },
   "outputs": [],
   "source": [
    "# sort genes by starting position to make visualizations better later\n",
    "genes_chr = genes_chr.sort_values(\"start_position\")"
   ]
  },
  {
   "cell_type": "code",
   "execution_count": 27,
   "id": "a38aa74a-8ad3-47f6-8ef9-56be0e011774",
   "metadata": {
    "execution": {
     "iopub.execute_input": "2022-08-30T16:51:46.824077Z",
     "iopub.status.busy": "2022-08-30T16:51:46.823666Z",
     "iopub.status.idle": "2022-08-30T16:51:46.923912Z",
     "shell.execute_reply": "2022-08-30T16:51:46.922836Z"
    },
    "papermill": {
     "duration": 0.133516,
     "end_time": "2022-08-30T16:51:46.927498",
     "exception": false,
     "start_time": "2022-08-30T16:51:46.793982",
     "status": "completed"
    },
    "tags": []
   },
   "outputs": [],
   "source": [
    "gene_chr_objs = [Gene(ensembl_id=gene_id) for gene_id in genes_chr[\"id\"]]"
   ]
  },
  {
   "cell_type": "code",
   "execution_count": 28,
   "id": "570f974f-13c3-42b6-ad3a-ce99ca885c1a",
   "metadata": {
    "execution": {
     "iopub.execute_input": "2022-08-30T16:51:46.982978Z",
     "iopub.status.busy": "2022-08-30T16:51:46.982587Z",
     "iopub.status.idle": "2022-08-30T16:51:47.020616Z",
     "shell.execute_reply": "2022-08-30T16:51:47.019728Z"
    },
    "papermill": {
     "duration": 0.067587,
     "end_time": "2022-08-30T16:51:47.023101",
     "exception": false,
     "start_time": "2022-08-30T16:51:46.955514",
     "status": "completed"
    },
    "tags": []
   },
   "outputs": [
    {
     "name": "stdout",
     "output_type": "stream",
     "text": [
      "Number of gene combinations: 4656\n"
     ]
    }
   ],
   "source": [
    "n = len(gene_chr_objs)\n",
    "# diagonal elements + upper triangular matrix\n",
    "n_comb = n + int(n * (n - 1) / 2.0)\n",
    "print(f\"Number of gene combinations: {n_comb}\", flush=True)"
   ]
  },
  {
   "cell_type": "code",
   "execution_count": 29,
   "id": "cdbb90a1",
   "metadata": {
    "execution": {
     "iopub.execute_input": "2022-08-30T16:51:47.070467Z",
     "iopub.status.busy": "2022-08-30T16:51:47.070136Z",
     "iopub.status.idle": "2022-08-30T16:57:20.795247Z",
     "shell.execute_reply": "2022-08-30T16:57:20.794679Z"
    },
    "papermill": {
     "duration": 333.750999,
     "end_time": "2022-08-30T16:57:20.796811",
     "exception": false,
     "start_time": "2022-08-30T16:51:47.045812",
     "status": "completed"
    },
    "tags": []
   },
   "outputs": [
    {
     "name": "stderr",
     "output_type": "stream",
     "text": [
      "ENSG00000178184 / ENSG00000178184: 100%|████████████████████████| 4656/4656 [05:33<00:00, 13.96it/s]\n"
     ]
    },
    {
     "data": {
      "text/plain": [
       "PosixPath('/project/ritchie20/projects/phenoplier/base/results/gls/gene_corrs/cohorts/emerge/gtex_v8/mashr/by_chr/gene_corrs-chr18.pkl')"
      ]
     },
     "metadata": {},
     "output_type": "display_data"
    }
   ],
   "source": [
    "gene_corrs = []\n",
    "gene_corrs_data = np.full(\n",
    "    (n, n),\n",
    "    np.nan,\n",
    "    dtype=np.float64,\n",
    ")\n",
    "\n",
    "i = 0\n",
    "with tqdm(ncols=100, total=n_comb) as pbar:\n",
    "    for gene1_idx in range(0, len(gene_chr_objs)):\n",
    "        gene1_obj = gene_chr_objs[gene1_idx]\n",
    "        gene1_tissues = spredixcan_genes_models.loc[gene1_obj.ensembl_id, \"tissue\"]\n",
    "\n",
    "        for gene2_idx in range(gene1_idx, len(gene_chr_objs)):\n",
    "            gene2_obj = gene_chr_objs[gene2_idx]\n",
    "            gene2_tissues = spredixcan_genes_models.loc[gene2_obj.ensembl_id, \"tissue\"]\n",
    "\n",
    "            pbar.set_description(f\"{gene1_obj.ensembl_id} / {gene2_obj.ensembl_id}\")\n",
    "\n",
    "            try:\n",
    "                r = gene1_obj.get_ssm_correlation(\n",
    "                    other_gene=gene2_obj,\n",
    "                    tissues=gene1_tissues,\n",
    "                    other_tissues=gene2_tissues,\n",
    "                    snps_subset=gwas_variants_ids_set,\n",
    "                    condition_number=SMULTIXCAN_CONDITION_NUMBER,\n",
    "                    reference_panel=REFERENCE_PANEL,\n",
    "                    model_type=EQTL_MODEL,\n",
    "                    use_within_distance=COMPUTE_CORRELATIONS_WITHIN_DISTANCE,\n",
    "                )\n",
    "\n",
    "                if r is None:\n",
    "                    # if r is None, it's very likely because:\n",
    "                    #  * one of the genes has no prediction models\n",
    "                    #  * all the SNPs predictors for the gene are not present in the reference\n",
    "                    #    panel\n",
    "\n",
    "                    r = 0.0\n",
    "\n",
    "                gene_corrs.append(r)\n",
    "\n",
    "                gene_corrs_data[gene1_idx, gene2_idx] = r\n",
    "                gene_corrs_data[gene2_idx, gene1_idx] = r\n",
    "            except Warning as e:\n",
    "                if not DEBUG_MODE:\n",
    "                    raise e\n",
    "\n",
    "                print(\n",
    "                    f\"RuntimeWarning for genes {gene1_obj.ensembl_id} and {gene2_obj.ensembl_id}\",\n",
    "                    flush=True,\n",
    "                )\n",
    "                print(traceback.format_exc(), flush=True)\n",
    "\n",
    "                gene_corrs.append(np.nan)\n",
    "            except Exception as e:\n",
    "                if not DEBUG_MODE:\n",
    "                    raise e\n",
    "\n",
    "                print(\n",
    "                    f\"Exception for genes {gene1_obj.ensembl_id} and {gene2_obj.ensembl_id}\",\n",
    "                    flush=True,\n",
    "                )\n",
    "                print(traceback.format_exc(), flush=True)\n",
    "\n",
    "                gene_corrs.append(np.nan)\n",
    "\n",
    "            pbar.update(1)\n",
    "\n",
    "# create a pandas series\n",
    "gene_corrs_flat = pd.Series(gene_corrs)\n",
    "\n",
    "# save\n",
    "# FIXME: consider saving only the condenced matrix here. See here for\n",
    "# more details: https://github.com/greenelab/phenoplier/pull/38#discussion_r634600813\n",
    "# gene_corrs_data = squareform(np.array(gene_corrs, dtype=np.float64))\n",
    "# np.fill_diagonal(gene_corrs_data, 1.0)\n",
    "\n",
    "gene_chr_ids = [g.ensembl_id for g in gene_chr_objs]\n",
    "gene_corrs_df = pd.DataFrame(\n",
    "    data=gene_corrs_data,\n",
    "    index=gene_chr_ids,\n",
    "    columns=gene_chr_ids,\n",
    ")\n",
    "\n",
    "output_dir.mkdir(exist_ok=True, parents=True)\n",
    "display(output_file)\n",
    "\n",
    "gene_corrs_df.to_pickle(output_file)"
   ]
  },
  {
   "cell_type": "markdown",
   "id": "faa67b51-5373-470f-aa72-2ded53fa6dfe",
   "metadata": {
    "papermill": {
     "duration": 0.218432,
     "end_time": "2022-08-30T16:57:21.269874",
     "exception": false,
     "start_time": "2022-08-30T16:57:21.051442",
     "status": "completed"
    },
    "tags": []
   },
   "source": [
    "# Testing"
   ]
  },
  {
   "cell_type": "code",
   "execution_count": 30,
   "id": "14f7d046-4b55-4896-a56b-990127bcc388",
   "metadata": {
    "execution": {
     "iopub.execute_input": "2022-08-30T16:57:21.707015Z",
     "iopub.status.busy": "2022-08-30T16:57:21.706761Z",
     "iopub.status.idle": "2022-08-30T16:57:22.032249Z",
     "shell.execute_reply": "2022-08-30T16:57:22.031109Z"
    },
    "papermill": {
     "duration": 0.551521,
     "end_time": "2022-08-30T16:57:22.035863",
     "exception": false,
     "start_time": "2022-08-30T16:57:21.484342",
     "status": "completed"
    },
    "tags": []
   },
   "outputs": [
    {
     "data": {
      "text/plain": [
       "(96, 96)"
      ]
     },
     "execution_count": 30,
     "metadata": {},
     "output_type": "execute_result"
    }
   ],
   "source": [
    "gene_corrs_df.shape"
   ]
  },
  {
   "cell_type": "code",
   "execution_count": 31,
   "id": "c7d15414-3297-4537-a7c6-7588c0baeb75",
   "metadata": {
    "execution": {
     "iopub.execute_input": "2022-08-30T16:57:22.590967Z",
     "iopub.status.busy": "2022-08-30T16:57:22.590726Z",
     "iopub.status.idle": "2022-08-30T16:57:22.621687Z",
     "shell.execute_reply": "2022-08-30T16:57:22.621059Z"
    },
    "papermill": {
     "duration": 0.24856,
     "end_time": "2022-08-30T16:57:22.622928",
     "exception": false,
     "start_time": "2022-08-30T16:57:22.374368",
     "status": "completed"
    },
    "tags": []
   },
   "outputs": [
    {
     "data": {
      "text/html": [
       "<div>\n",
       "<style scoped>\n",
       "    .dataframe tbody tr th:only-of-type {\n",
       "        vertical-align: middle;\n",
       "    }\n",
       "\n",
       "    .dataframe tbody tr th {\n",
       "        vertical-align: top;\n",
       "    }\n",
       "\n",
       "    .dataframe thead th {\n",
       "        text-align: right;\n",
       "    }\n",
       "</style>\n",
       "<table border=\"1\" class=\"dataframe\">\n",
       "  <thead>\n",
       "    <tr style=\"text-align: right;\">\n",
       "      <th></th>\n",
       "      <th>ENSG00000079134</th>\n",
       "      <th>ENSG00000158270</th>\n",
       "      <th>ENSG00000176890</th>\n",
       "      <th>ENSG00000176105</th>\n",
       "      <th>ENSG00000080986</th>\n",
       "      <th>ENSG00000132205</th>\n",
       "      <th>ENSG00000101577</th>\n",
       "      <th>ENSG00000101608</th>\n",
       "      <th>ENSG00000118680</th>\n",
       "      <th>ENSG00000177426</th>\n",
       "      <th>...</th>\n",
       "      <th>ENSG00000166347</th>\n",
       "      <th>ENSG00000133313</th>\n",
       "      <th>ENSG00000166573</th>\n",
       "      <th>ENSG00000166377</th>\n",
       "      <th>ENSG00000131196</th>\n",
       "      <th>ENSG00000060069</th>\n",
       "      <th>ENSG00000178342</th>\n",
       "      <th>ENSG00000122490</th>\n",
       "      <th>ENSG00000141759</th>\n",
       "      <th>ENSG00000178184</th>\n",
       "    </tr>\n",
       "  </thead>\n",
       "  <tbody>\n",
       "    <tr>\n",
       "      <th>ENSG00000079134</th>\n",
       "      <td>1.000000</td>\n",
       "      <td>0.029305</td>\n",
       "      <td>0.013882</td>\n",
       "      <td>0.005950</td>\n",
       "      <td>0.005183</td>\n",
       "      <td>0.012554</td>\n",
       "      <td>0.009022</td>\n",
       "      <td>0.009353</td>\n",
       "      <td>0.007307</td>\n",
       "      <td>0.010012</td>\n",
       "      <td>...</td>\n",
       "      <td>0.008518</td>\n",
       "      <td>0.007024</td>\n",
       "      <td>0.007683</td>\n",
       "      <td>0.010245</td>\n",
       "      <td>0.013719</td>\n",
       "      <td>0.005111</td>\n",
       "      <td>0.010722</td>\n",
       "      <td>0.017232</td>\n",
       "      <td>0.009852</td>\n",
       "      <td>0.006702</td>\n",
       "    </tr>\n",
       "    <tr>\n",
       "      <th>ENSG00000158270</th>\n",
       "      <td>0.029305</td>\n",
       "      <td>1.000000</td>\n",
       "      <td>0.019775</td>\n",
       "      <td>0.012679</td>\n",
       "      <td>0.009545</td>\n",
       "      <td>0.014871</td>\n",
       "      <td>0.015845</td>\n",
       "      <td>0.010495</td>\n",
       "      <td>0.009077</td>\n",
       "      <td>0.013425</td>\n",
       "      <td>...</td>\n",
       "      <td>0.010892</td>\n",
       "      <td>0.007354</td>\n",
       "      <td>0.009267</td>\n",
       "      <td>0.012360</td>\n",
       "      <td>0.010510</td>\n",
       "      <td>0.008293</td>\n",
       "      <td>0.011205</td>\n",
       "      <td>0.014837</td>\n",
       "      <td>0.013887</td>\n",
       "      <td>0.014117</td>\n",
       "    </tr>\n",
       "    <tr>\n",
       "      <th>ENSG00000176890</th>\n",
       "      <td>0.013882</td>\n",
       "      <td>0.019775</td>\n",
       "      <td>1.000000</td>\n",
       "      <td>0.146938</td>\n",
       "      <td>0.013808</td>\n",
       "      <td>0.013879</td>\n",
       "      <td>0.012297</td>\n",
       "      <td>0.009375</td>\n",
       "      <td>0.009894</td>\n",
       "      <td>0.009753</td>\n",
       "      <td>...</td>\n",
       "      <td>0.008816</td>\n",
       "      <td>0.008208</td>\n",
       "      <td>0.009717</td>\n",
       "      <td>0.006060</td>\n",
       "      <td>0.012296</td>\n",
       "      <td>0.009868</td>\n",
       "      <td>0.012526</td>\n",
       "      <td>0.015533</td>\n",
       "      <td>0.015101</td>\n",
       "      <td>0.010861</td>\n",
       "    </tr>\n",
       "    <tr>\n",
       "      <th>ENSG00000176105</th>\n",
       "      <td>0.005950</td>\n",
       "      <td>0.012679</td>\n",
       "      <td>0.146938</td>\n",
       "      <td>1.000000</td>\n",
       "      <td>0.006168</td>\n",
       "      <td>0.004893</td>\n",
       "      <td>0.007289</td>\n",
       "      <td>0.005115</td>\n",
       "      <td>0.001838</td>\n",
       "      <td>0.009098</td>\n",
       "      <td>...</td>\n",
       "      <td>0.004153</td>\n",
       "      <td>0.006190</td>\n",
       "      <td>0.005225</td>\n",
       "      <td>0.006308</td>\n",
       "      <td>0.006861</td>\n",
       "      <td>0.009834</td>\n",
       "      <td>0.009986</td>\n",
       "      <td>0.007860</td>\n",
       "      <td>0.004642</td>\n",
       "      <td>0.005926</td>\n",
       "    </tr>\n",
       "    <tr>\n",
       "      <th>ENSG00000080986</th>\n",
       "      <td>0.005183</td>\n",
       "      <td>0.009545</td>\n",
       "      <td>0.013808</td>\n",
       "      <td>0.006168</td>\n",
       "      <td>1.000000</td>\n",
       "      <td>0.013972</td>\n",
       "      <td>0.015237</td>\n",
       "      <td>0.005943</td>\n",
       "      <td>0.007946</td>\n",
       "      <td>0.004584</td>\n",
       "      <td>...</td>\n",
       "      <td>0.006171</td>\n",
       "      <td>0.005314</td>\n",
       "      <td>0.010306</td>\n",
       "      <td>0.004825</td>\n",
       "      <td>0.007880</td>\n",
       "      <td>0.006147</td>\n",
       "      <td>0.009669</td>\n",
       "      <td>0.008701</td>\n",
       "      <td>0.005907</td>\n",
       "      <td>0.003833</td>\n",
       "    </tr>\n",
       "  </tbody>\n",
       "</table>\n",
       "<p>5 rows × 96 columns</p>\n",
       "</div>"
      ],
      "text/plain": [
       "                 ENSG00000079134  ENSG00000158270  ENSG00000176890  \\\n",
       "ENSG00000079134         1.000000         0.029305         0.013882   \n",
       "ENSG00000158270         0.029305         1.000000         0.019775   \n",
       "ENSG00000176890         0.013882         0.019775         1.000000   \n",
       "ENSG00000176105         0.005950         0.012679         0.146938   \n",
       "ENSG00000080986         0.005183         0.009545         0.013808   \n",
       "\n",
       "                 ENSG00000176105  ENSG00000080986  ENSG00000132205  \\\n",
       "ENSG00000079134         0.005950         0.005183         0.012554   \n",
       "ENSG00000158270         0.012679         0.009545         0.014871   \n",
       "ENSG00000176890         0.146938         0.013808         0.013879   \n",
       "ENSG00000176105         1.000000         0.006168         0.004893   \n",
       "ENSG00000080986         0.006168         1.000000         0.013972   \n",
       "\n",
       "                 ENSG00000101577  ENSG00000101608  ENSG00000118680  \\\n",
       "ENSG00000079134         0.009022         0.009353         0.007307   \n",
       "ENSG00000158270         0.015845         0.010495         0.009077   \n",
       "ENSG00000176890         0.012297         0.009375         0.009894   \n",
       "ENSG00000176105         0.007289         0.005115         0.001838   \n",
       "ENSG00000080986         0.015237         0.005943         0.007946   \n",
       "\n",
       "                 ENSG00000177426  ...  ENSG00000166347  ENSG00000133313  \\\n",
       "ENSG00000079134         0.010012  ...         0.008518         0.007024   \n",
       "ENSG00000158270         0.013425  ...         0.010892         0.007354   \n",
       "ENSG00000176890         0.009753  ...         0.008816         0.008208   \n",
       "ENSG00000176105         0.009098  ...         0.004153         0.006190   \n",
       "ENSG00000080986         0.004584  ...         0.006171         0.005314   \n",
       "\n",
       "                 ENSG00000166573  ENSG00000166377  ENSG00000131196  \\\n",
       "ENSG00000079134         0.007683         0.010245         0.013719   \n",
       "ENSG00000158270         0.009267         0.012360         0.010510   \n",
       "ENSG00000176890         0.009717         0.006060         0.012296   \n",
       "ENSG00000176105         0.005225         0.006308         0.006861   \n",
       "ENSG00000080986         0.010306         0.004825         0.007880   \n",
       "\n",
       "                 ENSG00000060069  ENSG00000178342  ENSG00000122490  \\\n",
       "ENSG00000079134         0.005111         0.010722         0.017232   \n",
       "ENSG00000158270         0.008293         0.011205         0.014837   \n",
       "ENSG00000176890         0.009868         0.012526         0.015533   \n",
       "ENSG00000176105         0.009834         0.009986         0.007860   \n",
       "ENSG00000080986         0.006147         0.009669         0.008701   \n",
       "\n",
       "                 ENSG00000141759  ENSG00000178184  \n",
       "ENSG00000079134         0.009852         0.006702  \n",
       "ENSG00000158270         0.013887         0.014117  \n",
       "ENSG00000176890         0.015101         0.010861  \n",
       "ENSG00000176105         0.004642         0.005926  \n",
       "ENSG00000080986         0.005907         0.003833  \n",
       "\n",
       "[5 rows x 96 columns]"
      ]
     },
     "execution_count": 31,
     "metadata": {},
     "output_type": "execute_result"
    }
   ],
   "source": [
    "gene_corrs_df.head()"
   ]
  },
  {
   "cell_type": "markdown",
   "id": "dad6603f-01c6-41fb-a6f6-241051207dd8",
   "metadata": {
    "papermill": {
     "duration": 0.245051,
     "end_time": "2022-08-30T16:57:23.088036",
     "exception": false,
     "start_time": "2022-08-30T16:57:22.842985",
     "status": "completed"
    },
    "tags": []
   },
   "source": [
    "## Standard checks and stats"
   ]
  },
  {
   "cell_type": "code",
   "execution_count": 32,
   "id": "286686af-1b7b-4440-8453-6bdcbd8de19c",
   "metadata": {
    "execution": {
     "iopub.execute_input": "2022-08-30T16:57:23.522430Z",
     "iopub.status.busy": "2022-08-30T16:57:23.522180Z",
     "iopub.status.idle": "2022-08-30T16:57:23.541372Z",
     "shell.execute_reply": "2022-08-30T16:57:23.540851Z"
    },
    "papermill": {
     "duration": 0.241763,
     "end_time": "2022-08-30T16:57:23.542820",
     "exception": false,
     "start_time": "2022-08-30T16:57:23.301057",
     "status": "completed"
    },
    "tags": []
   },
   "outputs": [],
   "source": [
    "assert not gene_corrs_df.isna().any().any()"
   ]
  },
  {
   "cell_type": "code",
   "execution_count": 33,
   "id": "00583efc-7068-4270-ad1e-4a418e91db96",
   "metadata": {
    "execution": {
     "iopub.execute_input": "2022-08-30T16:57:24.011669Z",
     "iopub.status.busy": "2022-08-30T16:57:24.011427Z",
     "iopub.status.idle": "2022-08-30T16:57:24.032529Z",
     "shell.execute_reply": "2022-08-30T16:57:24.031889Z"
    },
    "papermill": {
     "duration": 0.234724,
     "end_time": "2022-08-30T16:57:24.033857",
     "exception": false,
     "start_time": "2022-08-30T16:57:23.799133",
     "status": "completed"
    },
    "tags": []
   },
   "outputs": [
    {
     "data": {
      "text/plain": [
       "6.961089756410932e-07"
      ]
     },
     "metadata": {},
     "output_type": "display_data"
    }
   ],
   "source": [
    "_min_val = gene_corrs_df.min().min()\n",
    "display(_min_val)\n",
    "assert _min_val >= -0.05"
   ]
  },
  {
   "cell_type": "code",
   "execution_count": 34,
   "id": "d04fb2cf-1050-475b-b855-f5f7cc04092b",
   "metadata": {
    "execution": {
     "iopub.execute_input": "2022-08-30T16:57:24.464223Z",
     "iopub.status.busy": "2022-08-30T16:57:24.463982Z",
     "iopub.status.idle": "2022-08-30T16:57:24.484531Z",
     "shell.execute_reply": "2022-08-30T16:57:24.484119Z"
    },
    "papermill": {
     "duration": 0.237622,
     "end_time": "2022-08-30T16:57:24.485736",
     "exception": false,
     "start_time": "2022-08-30T16:57:24.248114",
     "status": "completed"
    },
    "tags": []
   },
   "outputs": [
    {
     "data": {
      "text/plain": [
       "1.0000000000000022"
      ]
     },
     "metadata": {},
     "output_type": "display_data"
    }
   ],
   "source": [
    "_max_val = gene_corrs_df.max().max()  # this captures the diagonal\n",
    "display(_max_val)\n",
    "assert _max_val <= 1.05"
   ]
  },
  {
   "cell_type": "code",
   "execution_count": 35,
   "id": "96d02c44-1fba-47be-8a93-8f2608420b9c",
   "metadata": {
    "execution": {
     "iopub.execute_input": "2022-08-30T16:57:24.943640Z",
     "iopub.status.busy": "2022-08-30T16:57:24.943399Z",
     "iopub.status.idle": "2022-08-30T16:57:24.961734Z",
     "shell.execute_reply": "2022-08-30T16:57:24.961069Z"
    },
    "papermill": {
     "duration": 0.233203,
     "end_time": "2022-08-30T16:57:24.963080",
     "exception": false,
     "start_time": "2022-08-30T16:57:24.729877",
     "status": "completed"
    },
    "tags": []
   },
   "outputs": [],
   "source": [
    "# check upper triangular values\n",
    "# assert len(gene_corrs) == int(genes_chr.shape[0] * (genes_chr.shape[0] - 1) / 2)"
   ]
  },
  {
   "cell_type": "code",
   "execution_count": 36,
   "id": "fe283586-c348-40e0-8841-f6d97bfb021c",
   "metadata": {
    "execution": {
     "iopub.execute_input": "2022-08-30T16:57:25.419834Z",
     "iopub.status.busy": "2022-08-30T16:57:25.419591Z",
     "iopub.status.idle": "2022-08-30T16:57:25.442250Z",
     "shell.execute_reply": "2022-08-30T16:57:25.441690Z"
    },
    "papermill": {
     "duration": 0.267928,
     "end_time": "2022-08-30T16:57:25.443617",
     "exception": false,
     "start_time": "2022-08-30T16:57:25.175689",
     "status": "completed"
    },
    "tags": []
   },
   "outputs": [
    {
     "data": {
      "text/plain": [
       "count    4.656000e+03\n",
       "mean     2.947340e-02\n",
       "std      1.425089e-01\n",
       "min      6.961090e-07\n",
       "25%      5.031804e-03\n",
       "50%      7.186723e-03\n",
       "75%      9.688060e-03\n",
       "max      1.000000e+00\n",
       "dtype: float64"
      ]
     },
     "execution_count": 36,
     "metadata": {},
     "output_type": "execute_result"
    }
   ],
   "source": [
    "gene_corrs_flat.describe()"
   ]
  },
  {
   "cell_type": "code",
   "execution_count": 37,
   "id": "b3815678-0f93-4b35-897b-a9d047a2aa78",
   "metadata": {
    "execution": {
     "iopub.execute_input": "2022-08-30T16:57:25.880441Z",
     "iopub.status.busy": "2022-08-30T16:57:25.880191Z",
     "iopub.status.idle": "2022-08-30T16:57:25.902572Z",
     "shell.execute_reply": "2022-08-30T16:57:25.901948Z"
    },
    "papermill": {
     "duration": 0.242406,
     "end_time": "2022-08-30T16:57:25.903928",
     "exception": false,
     "start_time": "2022-08-30T16:57:25.661522",
     "status": "completed"
    },
    "tags": []
   },
   "outputs": [
    {
     "data": {
      "text/plain": [
       "0.00    6.961090e-07\n",
       "0.05    2.361868e-03\n",
       "0.10    3.356535e-03\n",
       "0.15    3.983602e-03\n",
       "0.20    4.567049e-03\n",
       "0.25    5.031804e-03\n",
       "0.30    5.432673e-03\n",
       "0.35    5.885578e-03\n",
       "0.40    6.300370e-03\n",
       "0.45    6.759232e-03\n",
       "0.50    7.186723e-03\n",
       "0.55    7.631314e-03\n",
       "0.60    8.089425e-03\n",
       "0.65    8.529654e-03\n",
       "0.70    9.040468e-03\n",
       "0.75    9.688060e-03\n",
       "0.80    1.033939e-02\n",
       "0.85    1.118389e-02\n",
       "0.90    1.241663e-02\n",
       "0.95    1.486296e-02\n",
       "dtype: float64"
      ]
     },
     "metadata": {},
     "output_type": "display_data"
    }
   ],
   "source": [
    "gene_corrs_quantiles = gene_corrs_flat.quantile(np.arange(0, 1, 0.05))\n",
    "display(gene_corrs_quantiles)"
   ]
  },
  {
   "cell_type": "markdown",
   "id": "87134509-b145-4a10-8bc9-b7e914c2b0fa",
   "metadata": {
    "papermill": {
     "duration": 0.245895,
     "end_time": "2022-08-30T16:57:26.367697",
     "exception": false,
     "start_time": "2022-08-30T16:57:26.121802",
     "status": "completed"
    },
    "tags": []
   },
   "source": [
    "## Positive definiteness"
   ]
  },
  {
   "cell_type": "code",
   "execution_count": 38,
   "id": "07d9a9a1-a4f7-48aa-b916-6d42a8cc6186",
   "metadata": {
    "execution": {
     "iopub.execute_input": "2022-08-30T16:57:26.796675Z",
     "iopub.status.busy": "2022-08-30T16:57:26.796433Z",
     "iopub.status.idle": "2022-08-30T16:57:26.825323Z",
     "shell.execute_reply": "2022-08-30T16:57:26.824813Z"
    },
    "papermill": {
     "duration": 0.243729,
     "end_time": "2022-08-30T16:57:26.826579",
     "exception": false,
     "start_time": "2022-08-30T16:57:26.582850",
     "status": "completed"
    },
    "tags": []
   },
   "outputs": [
    {
     "data": {
      "text/plain": [
       "0"
      ]
     },
     "metadata": {},
     "output_type": "display_data"
    },
    {
     "data": {
      "text/plain": [
       "array([], dtype=float64)"
      ]
     },
     "metadata": {},
     "output_type": "display_data"
    }
   ],
   "source": [
    "# print negative eigenvalues\n",
    "eigs = np.linalg.eigvals(gene_corrs_df.to_numpy())\n",
    "display(len(eigs[eigs < 0]))\n",
    "display(eigs[eigs < 0])"
   ]
  },
  {
   "cell_type": "code",
   "execution_count": 39,
   "id": "6e218436-c3c5-4028-8c94-a4fa6260efce",
   "metadata": {
    "execution": {
     "iopub.execute_input": "2022-08-30T16:57:27.284029Z",
     "iopub.status.busy": "2022-08-30T16:57:27.283789Z",
     "iopub.status.idle": "2022-08-30T16:57:27.304044Z",
     "shell.execute_reply": "2022-08-30T16:57:27.303547Z"
    },
    "papermill": {
     "duration": 0.233741,
     "end_time": "2022-08-30T16:57:27.305247",
     "exception": false,
     "start_time": "2022-08-30T16:57:27.071506",
     "status": "completed"
    },
    "tags": []
   },
   "outputs": [
    {
     "name": "stdout",
     "output_type": "stream",
     "text": [
      "Works!\n"
     ]
    }
   ],
   "source": [
    "try:\n",
    "    chol_mat = np.linalg.cholesky(gene_corrs_df.to_numpy())\n",
    "    cov_inv = np.linalg.inv(chol_mat)\n",
    "    print(\"Works!\")\n",
    "except Exception as e:\n",
    "    print(f\"Cholesky decomposition failed: {str(e)}\")"
   ]
  },
  {
   "cell_type": "code",
   "execution_count": 40,
   "id": "dd8827fb-faf9-4c7c-9454-015e94752706",
   "metadata": {
    "execution": {
     "iopub.execute_input": "2022-08-30T16:57:27.765740Z",
     "iopub.status.busy": "2022-08-30T16:57:27.765494Z",
     "iopub.status.idle": "2022-08-30T16:57:27.786256Z",
     "shell.execute_reply": "2022-08-30T16:57:27.785719Z"
    },
    "papermill": {
     "duration": 0.26804,
     "end_time": "2022-08-30T16:57:27.787494",
     "exception": false,
     "start_time": "2022-08-30T16:57:27.519454",
     "status": "completed"
    },
    "tags": []
   },
   "outputs": [
    {
     "name": "stdout",
     "output_type": "stream",
     "text": [
      "Works!\n"
     ]
    }
   ],
   "source": [
    "try:\n",
    "    # decomposition used by statsmodels.GLS\n",
    "    cholsigmainv = np.linalg.cholesky(np.linalg.inv(gene_corrs_df.to_numpy())).T\n",
    "    print(\"Works!\")\n",
    "except Exception as e:\n",
    "    print(f\"Cholesky decomposition failed (statsmodels.GLS): {str(e)}\")"
   ]
  },
  {
   "cell_type": "markdown",
   "id": "8e60a080-edb2-4e9c-b2ef-22961693200c",
   "metadata": {
    "papermill": {
     "duration": 0.214234,
     "end_time": "2022-08-30T16:57:28.214696",
     "exception": false,
     "start_time": "2022-08-30T16:57:28.000462",
     "status": "completed"
    },
    "tags": []
   },
   "source": [
    "## Plot: distribution"
   ]
  },
  {
   "cell_type": "code",
   "execution_count": 41,
   "id": "8301126b-a7d4-4744-9c7d-f0f86eb6f54c",
   "metadata": {
    "execution": {
     "iopub.execute_input": "2022-08-30T16:57:28.671133Z",
     "iopub.status.busy": "2022-08-30T16:57:28.670883Z",
     "iopub.status.idle": "2022-08-30T16:57:32.489888Z",
     "shell.execute_reply": "2022-08-30T16:57:32.489197Z"
    },
    "papermill": {
     "duration": 4.064118,
     "end_time": "2022-08-30T16:57:32.491412",
     "exception": false,
     "start_time": "2022-08-30T16:57:28.427294",
     "status": "completed"
    },
    "tags": []
   },
   "outputs": [
    {
     "data": {
      "image/png": "[encoded data removed]",
      "text/plain": [
       "<Figure size 504x504 with 1 Axes>"
      ]
     },
     "metadata": {
      "needs_background": "light"
     },
     "output_type": "display_data"
    }
   ],
   "source": [
    "with sns.plotting_context(\"paper\", font_scale=1.5):\n",
    "    g = sns.displot(gene_corrs_flat, kde=True, height=7)\n",
    "    g.ax.set_title(\n",
    "        f\"Distribution of gene correlation values in chromosome {CHROMOSOME}\"\n",
    "    )"
   ]
  },
  {
   "cell_type": "markdown",
   "id": "cbd52bca-d878-4a2f-b684-5c83aa3038d4",
   "metadata": {
    "papermill": {
     "duration": 0.213836,
     "end_time": "2022-08-30T16:57:32.926031",
     "exception": false,
     "start_time": "2022-08-30T16:57:32.712195",
     "status": "completed"
    },
    "tags": []
   },
   "source": [
    "## Plot: heatmap"
   ]
  },
  {
   "cell_type": "code",
   "execution_count": 42,
   "id": "d03fe63a-c7b2-4fb9-a53c-db362ce843c9",
   "metadata": {
    "execution": {
     "iopub.execute_input": "2022-08-30T16:57:33.397123Z",
     "iopub.status.busy": "2022-08-30T16:57:33.396871Z",
     "iopub.status.idle": "2022-08-30T16:57:33.418654Z",
     "shell.execute_reply": "2022-08-30T16:57:33.417991Z"
    },
    "papermill": {
     "duration": 0.248065,
     "end_time": "2022-08-30T16:57:33.420003",
     "exception": false,
     "start_time": "2022-08-30T16:57:33.171938",
     "status": "completed"
    },
    "tags": []
   },
   "outputs": [
    {
     "data": {
      "text/plain": [
       "'0.0 / 0.05'"
      ]
     },
     "metadata": {},
     "output_type": "display_data"
    }
   ],
   "source": [
    "vmin_val = min(0.00, gene_corrs_quantiles[0.10])\n",
    "vmax_val = max(0.05, gene_corrs_quantiles[0.90])\n",
    "display(f\"{vmin_val} / {vmax_val}\")"
   ]
  },
  {
   "cell_type": "code",
   "execution_count": 43,
   "id": "dc41b70b-5bcc-4d9e-9f33-a22c4a94dab5",
   "metadata": {
    "execution": {
     "iopub.execute_input": "2022-08-30T16:57:33.879950Z",
     "iopub.status.busy": "2022-08-30T16:57:33.879701Z",
     "iopub.status.idle": "2022-08-30T16:57:34.010403Z",
     "shell.execute_reply": "2022-08-30T16:57:34.009906Z"
    },
    "papermill": {
     "duration": 0.377616,
     "end_time": "2022-08-30T16:57:34.011628",
     "exception": false,
     "start_time": "2022-08-30T16:57:33.634012",
     "status": "completed"
    },
    "tags": []
   },
   "outputs": [
    {
     "data": {
      "text/plain": [
       "Text(0.5, 1.0, 'Gene correlations in chromosome 18')"
      ]
     },
     "execution_count": 43,
     "metadata": {},
     "output_type": "execute_result"
    },
    {
     "data": {
      "image/png": "[encoded data removed]",
      "text/plain": [
       "<Figure size 720x720 with 2 Axes>"
      ]
     },
     "metadata": {
      "needs_background": "light"
     },
     "output_type": "display_data"
    }
   ],
   "source": [
    "f, ax = plt.subplots(figsize=(10, 10))\n",
    "sns.heatmap(\n",
    "    gene_corrs_df,\n",
    "    xticklabels=False,\n",
    "    yticklabels=False,\n",
    "    square=True,\n",
    "    vmin=vmin_val,\n",
    "    vmax=vmax_val,\n",
    "    cmap=\"rocket_r\",\n",
    "    ax=ax,\n",
    ")\n",
    "ax.set_title(f\"Gene correlations in chromosome {CHROMOSOME}\")"
   ]
  },
  {
   "cell_type": "code",
   "execution_count": null,
   "id": "b25e3ead",
   "metadata": {
    "papermill": {
     "duration": 0.214792,
     "end_time": "2022-08-30T16:57:34.442853",
     "exception": false,
     "start_time": "2022-08-30T16:57:34.228061",
     "status": "completed"
    },
    "tags": []
   },
   "outputs": [],
   "source": []
  }
 ],
 "metadata": {
  "jupytext": {
   "cell_metadata_filter": "all,-execution,-papermill,-trusted",
   "formats": "ipynb,py//py:percent"
  },
  "kernelspec": {
   "display_name": "Python 3 (ipykernel)",
   "language": "python",
   "name": "python3"
  },
  "language_info": {
   "codemirror_mode": {
    "name": "ipython",
    "version": 3
   },
   "file_extension": ".py",
   "mimetype": "text/x-python",
   "name": "python",
   "nbconvert_exporter": "python",
   "pygments_lexer": "ipython3",
   "version": "3.8.13"
  },
  "papermill": {
   "default_parameters": {},
   "duration": 364.175968,
   "end_time": "2022-08-30T16:57:37.983912",
   "environment_variables": {},
   "exception": null,
   "input_path": "nbs/15_gsa_gls/10-gene_expr_correlations.ipynb",
   "output_path": "nbs/15_gsa_gls/gene_corrs/cohorts/emerge/gtex_v8/mashr/10-gene_expr_corrs/10-gene_expr_correlations-chr18.run.ipynb",
   "parameters": {
    "CHROMOSOME": 18,
    "COHORT_NAME": "emerge",
    "EQTL_MODEL": "MASHR",
    "REFERENCE_PANEL": "GTEX_V8"
   },
   "start_time": "2022-08-30T16:51:33.807944",
   "version": "2.2.2"
  }
 },
 "nbformat": 4,
 "nbformat_minor": 5
}
