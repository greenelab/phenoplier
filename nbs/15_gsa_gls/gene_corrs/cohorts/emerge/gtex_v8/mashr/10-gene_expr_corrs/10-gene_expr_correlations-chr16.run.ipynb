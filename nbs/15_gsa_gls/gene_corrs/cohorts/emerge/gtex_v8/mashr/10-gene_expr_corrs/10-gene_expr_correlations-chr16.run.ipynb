{
 "cells": [
  {
   "cell_type": "markdown",
   "id": "7a6632fb",
   "metadata": {
    "papermill": {
     "duration": 0.023099,
     "end_time": "2022-08-30T16:51:35.641426",
     "exception": false,
     "start_time": "2022-08-30T16:51:35.618327",
     "status": "completed"
    },
    "tags": []
   },
   "source": [
    "# Description"
   ]
  },
  {
   "cell_type": "markdown",
   "id": "7097c346",
   "metadata": {
    "papermill": {
     "duration": 0.017326,
     "end_time": "2022-08-30T16:51:35.676935",
     "exception": false,
     "start_time": "2022-08-30T16:51:35.659609",
     "status": "completed"
    },
    "tags": []
   },
   "source": [
    "(Please, take a look at the README.md file in this directory for instructions on how to run this notebook)\n",
    "\n",
    "This notebook computes predicted expression correlations between all genes in the MultiPLIER models.\n",
    "\n",
    "It also has a parameter set for papermill to run on a single chromosome to run in parallel (see under `Settings` below).\n",
    "\n",
    "This notebook is not directly run. See README.md."
   ]
  },
  {
   "cell_type": "markdown",
   "id": "c61d8427",
   "metadata": {
    "papermill": {
     "duration": 0.016058,
     "end_time": "2022-08-30T16:51:35.709405",
     "exception": false,
     "start_time": "2022-08-30T16:51:35.693347",
     "status": "completed"
    },
    "tags": []
   },
   "source": [
    "# Modules"
   ]
  },
  {
   "cell_type": "code",
   "execution_count": 1,
   "id": "bbc0234f",
   "metadata": {
    "execution": {
     "iopub.execute_input": "2022-08-30T16:51:35.742233Z",
     "iopub.status.busy": "2022-08-30T16:51:35.741822Z",
     "iopub.status.idle": "2022-08-30T16:51:35.773129Z",
     "shell.execute_reply": "2022-08-30T16:51:35.772278Z"
    },
    "papermill": {
     "duration": 0.050703,
     "end_time": "2022-08-30T16:51:35.775897",
     "exception": false,
     "start_time": "2022-08-30T16:51:35.725194",
     "status": "completed"
    },
    "tags": []
   },
   "outputs": [],
   "source": [
    "%load_ext autoreload\n",
    "%autoreload 2"
   ]
  },
  {
   "cell_type": "code",
   "execution_count": 2,
   "id": "1d5f5a59",
   "metadata": {
    "execution": {
     "iopub.execute_input": "2022-08-30T16:51:35.803337Z",
     "iopub.status.busy": "2022-08-30T16:51:35.803020Z",
     "iopub.status.idle": "2022-08-30T16:51:38.608495Z",
     "shell.execute_reply": "2022-08-30T16:51:38.607885Z"
    },
    "papermill": {
     "duration": 2.821762,
     "end_time": "2022-08-30T16:51:38.610472",
     "exception": false,
     "start_time": "2022-08-30T16:51:35.788710",
     "status": "completed"
    },
    "tags": []
   },
   "outputs": [],
   "source": [
    "from random import sample, seed\n",
    "import warnings\n",
    "from pathlib import Path\n",
    "import pickle\n",
    "import traceback\n",
    "\n",
    "import numpy as np\n",
    "from scipy.spatial.distance import squareform\n",
    "import pandas as pd\n",
    "from tqdm import tqdm\n",
    "import matplotlib.pyplot as plt\n",
    "import seaborn as sns\n",
    "\n",
    "import conf\n",
    "from entity import Gene"
   ]
  },
  {
   "cell_type": "markdown",
   "id": "1eac24b5",
   "metadata": {
    "papermill": {
     "duration": 0.060721,
     "end_time": "2022-08-30T16:51:38.685585",
     "exception": false,
     "start_time": "2022-08-30T16:51:38.624864",
     "status": "completed"
    },
    "tags": []
   },
   "source": [
    "# Settings"
   ]
  },
  {
   "cell_type": "code",
   "execution_count": 3,
   "id": "ca4560ba",
   "metadata": {
    "execution": {
     "iopub.execute_input": "2022-08-30T16:51:38.721079Z",
     "iopub.status.busy": "2022-08-30T16:51:38.720771Z",
     "iopub.status.idle": "2022-08-30T16:51:38.746161Z",
     "shell.execute_reply": "2022-08-30T16:51:38.745360Z"
    },
    "papermill": {
     "duration": 0.045613,
     "end_time": "2022-08-30T16:51:38.747954",
     "exception": false,
     "start_time": "2022-08-30T16:51:38.702341",
     "status": "completed"
    },
    "tags": [
     "parameters"
    ]
   },
   "outputs": [],
   "source": [
    "# a cohort name (it could be something like UK_BIOBANK, etc)\n",
    "COHORT_NAME = None\n",
    "\n",
    "# reference panel such as 1000G or GTEX_V8\n",
    "REFERENCE_PANEL = None\n",
    "\n",
    "# predictions models such as MASHR or ELASTIC_NET\n",
    "EQTL_MODEL = None\n",
    "\n",
    "# this is the default value used in S-MultiXcan to select the\n",
    "# top principal components of the expression correlation matrix\n",
    "SMULTIXCAN_CONDITION_NUMBER = 30\n",
    "\n",
    "# specifies a single chromosome value\n",
    "CHROMOSOME = None\n",
    "\n",
    "# If True, computes the correlation between closeby genes only;\n",
    "# otherwise, it computes correlations for all genes in a chromosome\n",
    "COMPUTE_CORRELATIONS_WITHIN_DISTANCE = False\n",
    "\n",
    "# if True, then it will continue if a gene pair correlation fails,\n",
    "# printing the warning/error for debugging. If False, any warning/error\n",
    "# will be thrown\n",
    "DEBUG_MODE = False"
   ]
  },
  {
   "cell_type": "code",
   "execution_count": 4,
   "id": "0dd133e4",
   "metadata": {
    "execution": {
     "iopub.execute_input": "2022-08-30T16:51:38.794981Z",
     "iopub.status.busy": "2022-08-30T16:51:38.794673Z",
     "iopub.status.idle": "2022-08-30T16:51:38.822406Z",
     "shell.execute_reply": "2022-08-30T16:51:38.821616Z"
    },
    "papermill": {
     "duration": 0.052761,
     "end_time": "2022-08-30T16:51:38.824449",
     "exception": false,
     "start_time": "2022-08-30T16:51:38.771688",
     "status": "completed"
    },
    "tags": [
     "injected-parameters"
    ]
   },
   "outputs": [],
   "source": [
    "# Parameters\n",
    "COHORT_NAME = \"emerge\"\n",
    "REFERENCE_PANEL = \"GTEX_V8\"\n",
    "EQTL_MODEL = \"MASHR\"\n",
    "CHROMOSOME = 16\n"
   ]
  },
  {
   "cell_type": "code",
   "execution_count": 5,
   "id": "3190631f-27fc-480f-b18e-571d580425a5",
   "metadata": {
    "execution": {
     "iopub.execute_input": "2022-08-30T16:51:38.881984Z",
     "iopub.status.busy": "2022-08-30T16:51:38.881615Z",
     "iopub.status.idle": "2022-08-30T16:51:38.921578Z",
     "shell.execute_reply": "2022-08-30T16:51:38.920718Z"
    },
    "papermill": {
     "duration": 0.073678,
     "end_time": "2022-08-30T16:51:38.923963",
     "exception": false,
     "start_time": "2022-08-30T16:51:38.850285",
     "status": "completed"
    },
    "tags": []
   },
   "outputs": [
    {
     "data": {
      "text/plain": [
       "'Cohort name: emerge'"
      ]
     },
     "metadata": {},
     "output_type": "display_data"
    }
   ],
   "source": [
    "assert COHORT_NAME is not None and len(COHORT_NAME) > 0, \"A cohort name must be given\"\n",
    "\n",
    "COHORT_NAME = COHORT_NAME.lower()\n",
    "display(f\"Cohort name: {COHORT_NAME}\")"
   ]
  },
  {
   "cell_type": "code",
   "execution_count": 6,
   "id": "f53ba19b-0f93-4fa2-a047-63b375939d1a",
   "metadata": {
    "execution": {
     "iopub.execute_input": "2022-08-30T16:51:38.997760Z",
     "iopub.status.busy": "2022-08-30T16:51:38.997285Z",
     "iopub.status.idle": "2022-08-30T16:51:39.039691Z",
     "shell.execute_reply": "2022-08-30T16:51:39.038689Z"
    },
    "papermill": {
     "duration": 0.078594,
     "end_time": "2022-08-30T16:51:39.042360",
     "exception": false,
     "start_time": "2022-08-30T16:51:38.963766",
     "status": "completed"
    },
    "tags": []
   },
   "outputs": [
    {
     "data": {
      "text/plain": [
       "'Reference panel: GTEX_V8'"
      ]
     },
     "metadata": {},
     "output_type": "display_data"
    }
   ],
   "source": [
    "assert (\n",
    "    REFERENCE_PANEL is not None and len(REFERENCE_PANEL) > 0\n",
    "), \"A reference panel must be given\"\n",
    "\n",
    "display(f\"Reference panel: {REFERENCE_PANEL}\")"
   ]
  },
  {
   "cell_type": "code",
   "execution_count": 7,
   "id": "e024d130-c139-429a-9c6e-ccf149e297b0",
   "metadata": {
    "execution": {
     "iopub.execute_input": "2022-08-30T16:51:39.116035Z",
     "iopub.status.busy": "2022-08-30T16:51:39.115495Z",
     "iopub.status.idle": "2022-08-30T16:51:39.162872Z",
     "shell.execute_reply": "2022-08-30T16:51:39.161879Z"
    },
    "papermill": {
     "duration": 0.087824,
     "end_time": "2022-08-30T16:51:39.165743",
     "exception": false,
     "start_time": "2022-08-30T16:51:39.077919",
     "status": "completed"
    },
    "tags": []
   },
   "outputs": [
    {
     "data": {
      "text/plain": [
       "'eQTL model: MASHR) / mashr_'"
      ]
     },
     "metadata": {},
     "output_type": "display_data"
    }
   ],
   "source": [
    "assert (\n",
    "    EQTL_MODEL is not None and len(EQTL_MODEL) > 0\n",
    "), \"A prediction/eQTL model must be given\"\n",
    "\n",
    "EQTL_MODEL_FILES_PREFIX = conf.PHENOMEXCAN[\"PREDICTION_MODELS\"][f\"{EQTL_MODEL}_PREFIX\"]\n",
    "display(f\"eQTL model: {EQTL_MODEL}) / {EQTL_MODEL_FILES_PREFIX}\")"
   ]
  },
  {
   "cell_type": "code",
   "execution_count": 8,
   "id": "552a7f63-a18c-4d3e-bb6a-94f99b431291",
   "metadata": {
    "execution": {
     "iopub.execute_input": "2022-08-30T16:51:39.215073Z",
     "iopub.status.busy": "2022-08-30T16:51:39.214708Z",
     "iopub.status.idle": "2022-08-30T16:51:39.250820Z",
     "shell.execute_reply": "2022-08-30T16:51:39.249971Z"
    },
    "papermill": {
     "duration": 0.065323,
     "end_time": "2022-08-30T16:51:39.253190",
     "exception": false,
     "start_time": "2022-08-30T16:51:39.187867",
     "status": "completed"
    },
    "tags": []
   },
   "outputs": [
    {
     "data": {
      "text/plain": [
       "'S-MultiXcan condition number: 30'"
      ]
     },
     "metadata": {},
     "output_type": "display_data"
    }
   ],
   "source": [
    "assert (\n",
    "    SMULTIXCAN_CONDITION_NUMBER is not None and SMULTIXCAN_CONDITION_NUMBER > 0\n",
    "), \"The S-MultiXcan condition number (positive integer) must be given\"\n",
    "\n",
    "display(f\"S-MultiXcan condition number: {SMULTIXCAN_CONDITION_NUMBER}\")"
   ]
  },
  {
   "cell_type": "code",
   "execution_count": 9,
   "id": "f34a336f-548e-4afe-8955-90eaea4f42c6",
   "metadata": {
    "execution": {
     "iopub.execute_input": "2022-08-30T16:51:39.289024Z",
     "iopub.status.busy": "2022-08-30T16:51:39.288700Z",
     "iopub.status.idle": "2022-08-30T16:51:39.321432Z",
     "shell.execute_reply": "2022-08-30T16:51:39.320650Z"
    },
    "papermill": {
     "duration": 0.04997,
     "end_time": "2022-08-30T16:51:39.323567",
     "exception": false,
     "start_time": "2022-08-30T16:51:39.273597",
     "status": "completed"
    },
    "tags": []
   },
   "outputs": [
    {
     "data": {
      "text/plain": [
       "'Working on chromosome 16'"
      ]
     },
     "metadata": {},
     "output_type": "display_data"
    }
   ],
   "source": [
    "assert CHROMOSOME is not None and (\n",
    "    1 <= CHROMOSOME <= 22\n",
    "), \"You have to select one chromosome (format: number between 1 and 22)\"\n",
    "\n",
    "# CHROMOSOME = str(CHROMOSOME)\n",
    "display(f\"Working on chromosome {CHROMOSOME}\")"
   ]
  },
  {
   "cell_type": "code",
   "execution_count": 10,
   "id": "ab8e96e8-06b5-4363-9dcd-dc4d78cc27f7",
   "metadata": {
    "execution": {
     "iopub.execute_input": "2022-08-30T16:51:39.351687Z",
     "iopub.status.busy": "2022-08-30T16:51:39.351385Z",
     "iopub.status.idle": "2022-08-30T16:51:39.380011Z",
     "shell.execute_reply": "2022-08-30T16:51:39.379309Z"
    },
    "papermill": {
     "duration": 0.044521,
     "end_time": "2022-08-30T16:51:39.381950",
     "exception": false,
     "start_time": "2022-08-30T16:51:39.337429",
     "status": "completed"
    },
    "tags": []
   },
   "outputs": [
    {
     "data": {
      "text/plain": [
       "'Compute correlation within distance False'"
      ]
     },
     "metadata": {},
     "output_type": "display_data"
    }
   ],
   "source": [
    "display(f\"Compute correlation within distance {COMPUTE_CORRELATIONS_WITHIN_DISTANCE}\")"
   ]
  },
  {
   "cell_type": "code",
   "execution_count": 11,
   "id": "396392dc-0340-4540-9b02-e182b833f909",
   "metadata": {
    "execution": {
     "iopub.execute_input": "2022-08-30T16:51:39.409072Z",
     "iopub.status.busy": "2022-08-30T16:51:39.408817Z",
     "iopub.status.idle": "2022-08-30T16:51:39.437808Z",
     "shell.execute_reply": "2022-08-30T16:51:39.437169Z"
    },
    "papermill": {
     "duration": 0.043833,
     "end_time": "2022-08-30T16:51:39.439589",
     "exception": false,
     "start_time": "2022-08-30T16:51:39.395756",
     "status": "completed"
    },
    "tags": []
   },
   "outputs": [
    {
     "data": {
      "text/plain": [
       "'Using output dir base: /project/ritchie20/projects/phenoplier/base/results/gls/gene_corrs/cohorts/emerge/gtex_v8/mashr'"
      ]
     },
     "metadata": {},
     "output_type": "display_data"
    }
   ],
   "source": [
    "OUTPUT_DIR_BASE = (\n",
    "    conf.RESULTS[\"GLS\"]\n",
    "    / \"gene_corrs\"\n",
    "    / \"cohorts\"\n",
    "    / COHORT_NAME\n",
    "    / REFERENCE_PANEL.lower()\n",
    "    / EQTL_MODEL.lower()\n",
    ")\n",
    "OUTPUT_DIR_BASE.mkdir(parents=True, exist_ok=True)\n",
    "\n",
    "display(f\"Using output dir base: {OUTPUT_DIR_BASE}\")"
   ]
  },
  {
   "cell_type": "markdown",
   "id": "d2ba085e",
   "metadata": {
    "papermill": {
     "duration": 0.011247,
     "end_time": "2022-08-30T16:51:39.463653",
     "exception": false,
     "start_time": "2022-08-30T16:51:39.452406",
     "status": "completed"
    },
    "tags": []
   },
   "source": [
    "# Load data"
   ]
  },
  {
   "cell_type": "markdown",
   "id": "7dcb8db7",
   "metadata": {
    "papermill": {
     "duration": 0.010941,
     "end_time": "2022-08-30T16:51:39.485840",
     "exception": false,
     "start_time": "2022-08-30T16:51:39.474899",
     "status": "completed"
    },
    "tags": []
   },
   "source": [
    "## GWAS variants"
   ]
  },
  {
   "cell_type": "code",
   "execution_count": 12,
   "id": "29434c4e-8cd3-4b9b-82e4-b5a251d9dd19",
   "metadata": {
    "execution": {
     "iopub.execute_input": "2022-08-30T16:51:39.510791Z",
     "iopub.status.busy": "2022-08-30T16:51:39.510554Z",
     "iopub.status.idle": "2022-08-30T16:51:42.086645Z",
     "shell.execute_reply": "2022-08-30T16:51:42.085737Z"
    },
    "papermill": {
     "duration": 2.592013,
     "end_time": "2022-08-30T16:51:42.088568",
     "exception": false,
     "start_time": "2022-08-30T16:51:39.496555",
     "status": "completed"
    },
    "tags": []
   },
   "outputs": [],
   "source": [
    "with open(OUTPUT_DIR_BASE / \"gwas_variant_ids.pkl\", \"rb\") as handle:\n",
    "    gwas_variants_ids_set = pickle.load(handle)"
   ]
  },
  {
   "cell_type": "code",
   "execution_count": 13,
   "id": "b9d9dec2-4a76-4bf9-bde2-e24c95acb8a0",
   "metadata": {
    "execution": {
     "iopub.execute_input": "2022-08-30T16:51:42.132282Z",
     "iopub.status.busy": "2022-08-30T16:51:42.132059Z",
     "iopub.status.idle": "2022-08-30T16:51:42.155696Z",
     "shell.execute_reply": "2022-08-30T16:51:42.155281Z"
    },
    "papermill": {
     "duration": 0.04749,
     "end_time": "2022-08-30T16:51:42.156952",
     "exception": false,
     "start_time": "2022-08-30T16:51:42.109462",
     "status": "completed"
    },
    "tags": []
   },
   "outputs": [
    {
     "data": {
      "text/plain": [
       "8376508"
      ]
     },
     "execution_count": 13,
     "metadata": {},
     "output_type": "execute_result"
    }
   ],
   "source": [
    "len(gwas_variants_ids_set)"
   ]
  },
  {
   "cell_type": "code",
   "execution_count": 14,
   "id": "4235b06a-6034-4ee4-a0a3-2ae35d122418",
   "metadata": {
    "execution": {
     "iopub.execute_input": "2022-08-30T16:51:42.198850Z",
     "iopub.status.busy": "2022-08-30T16:51:42.198625Z",
     "iopub.status.idle": "2022-08-30T16:51:42.707368Z",
     "shell.execute_reply": "2022-08-30T16:51:42.706873Z"
    },
    "papermill": {
     "duration": 0.534458,
     "end_time": "2022-08-30T16:51:42.708747",
     "exception": false,
     "start_time": "2022-08-30T16:51:42.174289",
     "status": "completed"
    },
    "tags": []
   },
   "outputs": [
    {
     "data": {
      "text/plain": [
       "['chr3_162728316_A_C_b38',\n",
       " 'chr1_205628193_G_A_b38',\n",
       " 'chr8_35755531_A_G_b38',\n",
       " 'chr19_35088903_C_T_b38',\n",
       " 'chr17_52778489_G_A_b38']"
      ]
     },
     "execution_count": 14,
     "metadata": {},
     "output_type": "execute_result"
    }
   ],
   "source": [
    "list(gwas_variants_ids_set)[:5]"
   ]
  },
  {
   "cell_type": "markdown",
   "id": "07866999-2305-41f9-a144-e69c9122c212",
   "metadata": {
    "papermill": {
     "duration": 0.009976,
     "end_time": "2022-08-30T16:51:42.727814",
     "exception": false,
     "start_time": "2022-08-30T16:51:42.717838",
     "status": "completed"
    },
    "tags": []
   },
   "source": [
    "## S-PrediXcan tissue models"
   ]
  },
  {
   "cell_type": "code",
   "execution_count": 15,
   "id": "780611d9-77c8-405f-90a4-f271f7b09397",
   "metadata": {
    "execution": {
     "iopub.execute_input": "2022-08-30T16:51:42.748870Z",
     "iopub.status.busy": "2022-08-30T16:51:42.748678Z",
     "iopub.status.idle": "2022-08-30T16:51:43.598974Z",
     "shell.execute_reply": "2022-08-30T16:51:43.598471Z"
    },
    "papermill": {
     "duration": 0.862873,
     "end_time": "2022-08-30T16:51:43.600693",
     "exception": false,
     "start_time": "2022-08-30T16:51:42.737820",
     "status": "completed"
    },
    "tags": []
   },
   "outputs": [],
   "source": [
    "spredixcan_genes_models = pd.read_pickle(OUTPUT_DIR_BASE / \"gene_tissues.pkl\")"
   ]
  },
  {
   "cell_type": "code",
   "execution_count": 16,
   "id": "726dd1f6-9557-4225-91fa-b3b879ea96e1",
   "metadata": {
    "execution": {
     "iopub.execute_input": "2022-08-30T16:51:43.627589Z",
     "iopub.status.busy": "2022-08-30T16:51:43.627370Z",
     "iopub.status.idle": "2022-08-30T16:51:43.647082Z",
     "shell.execute_reply": "2022-08-30T16:51:43.646549Z"
    },
    "papermill": {
     "duration": 0.035013,
     "end_time": "2022-08-30T16:51:43.648420",
     "exception": false,
     "start_time": "2022-08-30T16:51:43.613407",
     "status": "completed"
    },
    "tags": []
   },
   "outputs": [
    {
     "data": {
      "text/plain": [
       "(6425, 3)"
      ]
     },
     "execution_count": 16,
     "metadata": {},
     "output_type": "execute_result"
    }
   ],
   "source": [
    "spredixcan_genes_models.shape"
   ]
  },
  {
   "cell_type": "code",
   "execution_count": 17,
   "id": "944a1b48-222c-4eb0-b252-b9de2cbca215",
   "metadata": {
    "execution": {
     "iopub.execute_input": "2022-08-30T16:51:43.674277Z",
     "iopub.status.busy": "2022-08-30T16:51:43.674093Z",
     "iopub.status.idle": "2022-08-30T16:51:43.703128Z",
     "shell.execute_reply": "2022-08-30T16:51:43.702755Z"
    },
    "papermill": {
     "duration": 0.044291,
     "end_time": "2022-08-30T16:51:43.704336",
     "exception": false,
     "start_time": "2022-08-30T16:51:43.660045",
     "status": "completed"
    },
    "tags": []
   },
   "outputs": [
    {
     "data": {
      "text/html": [
       "<div>\n",
       "<style scoped>\n",
       "    .dataframe tbody tr th:only-of-type {\n",
       "        vertical-align: middle;\n",
       "    }\n",
       "\n",
       "    .dataframe tbody tr th {\n",
       "        vertical-align: top;\n",
       "    }\n",
       "\n",
       "    .dataframe thead th {\n",
       "        text-align: right;\n",
       "    }\n",
       "</style>\n",
       "<table border=\"1\" class=\"dataframe\">\n",
       "  <thead>\n",
       "    <tr style=\"text-align: right;\">\n",
       "      <th></th>\n",
       "      <th>gene_name</th>\n",
       "      <th>tissue</th>\n",
       "      <th>n_tissues</th>\n",
       "    </tr>\n",
       "    <tr>\n",
       "      <th>gene_id</th>\n",
       "      <th></th>\n",
       "      <th></th>\n",
       "      <th></th>\n",
       "    </tr>\n",
       "  </thead>\n",
       "  <tbody>\n",
       "    <tr>\n",
       "      <th>ENSG00000000419</th>\n",
       "      <td>DPM1</td>\n",
       "      <td>(Brain_Substantia_nigra, Brain_Hypothalamus)</td>\n",
       "      <td>2</td>\n",
       "    </tr>\n",
       "    <tr>\n",
       "      <th>ENSG00000000938</th>\n",
       "      <td>FGR</td>\n",
       "      <td>(Liver, Brain_Hippocampus, Brain_Cortex, Esoph...</td>\n",
       "      <td>26</td>\n",
       "    </tr>\n",
       "    <tr>\n",
       "      <th>ENSG00000000971</th>\n",
       "      <td>CFH</td>\n",
       "      <td>(Cells_Cultured_fibroblasts, Brain_Hippocampus...</td>\n",
       "      <td>34</td>\n",
       "    </tr>\n",
       "    <tr>\n",
       "      <th>ENSG00000001084</th>\n",
       "      <td>GCLC</td>\n",
       "      <td>(Cells_Cultured_fibroblasts, Pancreas, Brain_H...</td>\n",
       "      <td>32</td>\n",
       "    </tr>\n",
       "    <tr>\n",
       "      <th>ENSG00000001167</th>\n",
       "      <td>NFYA</td>\n",
       "      <td>(Cells_Cultured_fibroblasts, Brain_Hippocampus...</td>\n",
       "      <td>40</td>\n",
       "    </tr>\n",
       "  </tbody>\n",
       "</table>\n",
       "</div>"
      ],
      "text/plain": [
       "                gene_name                                             tissue  \\\n",
       "gene_id                                                                        \n",
       "ENSG00000000419      DPM1       (Brain_Substantia_nigra, Brain_Hypothalamus)   \n",
       "ENSG00000000938       FGR  (Liver, Brain_Hippocampus, Brain_Cortex, Esoph...   \n",
       "ENSG00000000971       CFH  (Cells_Cultured_fibroblasts, Brain_Hippocampus...   \n",
       "ENSG00000001084      GCLC  (Cells_Cultured_fibroblasts, Pancreas, Brain_H...   \n",
       "ENSG00000001167      NFYA  (Cells_Cultured_fibroblasts, Brain_Hippocampus...   \n",
       "\n",
       "                 n_tissues  \n",
       "gene_id                     \n",
       "ENSG00000000419          2  \n",
       "ENSG00000000938         26  \n",
       "ENSG00000000971         34  \n",
       "ENSG00000001084         32  \n",
       "ENSG00000001167         40  "
      ]
     },
     "execution_count": 17,
     "metadata": {},
     "output_type": "execute_result"
    }
   ],
   "source": [
    "spredixcan_genes_models.head()"
   ]
  },
  {
   "cell_type": "code",
   "execution_count": 18,
   "id": "d1c11bb1-be0b-4f40-b360-633d6827109f",
   "metadata": {
    "execution": {
     "iopub.execute_input": "2022-08-30T16:51:43.731846Z",
     "iopub.status.busy": "2022-08-30T16:51:43.731664Z",
     "iopub.status.idle": "2022-08-30T16:51:43.748237Z",
     "shell.execute_reply": "2022-08-30T16:51:43.747721Z"
    },
    "papermill": {
     "duration": 0.034447,
     "end_time": "2022-08-30T16:51:43.749530",
     "exception": false,
     "start_time": "2022-08-30T16:51:43.715083",
     "status": "completed"
    },
    "tags": []
   },
   "outputs": [],
   "source": [
    "assert spredixcan_genes_models.index.is_unique"
   ]
  },
  {
   "cell_type": "markdown",
   "id": "a5b5092c-a13e-47c4-a92a-480fcc08f3ae",
   "metadata": {
    "papermill": {
     "duration": 0.016054,
     "end_time": "2022-08-30T16:51:43.778359",
     "exception": false,
     "start_time": "2022-08-30T16:51:43.762305",
     "status": "completed"
    },
    "tags": []
   },
   "source": [
    "## Gene info"
   ]
  },
  {
   "cell_type": "code",
   "execution_count": 19,
   "id": "7d6bb224-88e9-4358-ac10-43a41d92cdad",
   "metadata": {
    "execution": {
     "iopub.execute_input": "2022-08-30T16:51:43.809812Z",
     "iopub.status.busy": "2022-08-30T16:51:43.809622Z",
     "iopub.status.idle": "2022-08-30T16:51:43.853280Z",
     "shell.execute_reply": "2022-08-30T16:51:43.852734Z"
    },
    "papermill": {
     "duration": 0.05797,
     "end_time": "2022-08-30T16:51:43.854787",
     "exception": false,
     "start_time": "2022-08-30T16:51:43.796817",
     "status": "completed"
    },
    "tags": []
   },
   "outputs": [],
   "source": [
    "genes_info = pd.read_pickle(OUTPUT_DIR_BASE / \"genes_info.pkl\")"
   ]
  },
  {
   "cell_type": "code",
   "execution_count": 20,
   "id": "9e32abfa-546d-483e-8c18-d526e9e05903",
   "metadata": {
    "execution": {
     "iopub.execute_input": "2022-08-30T16:51:43.917780Z",
     "iopub.status.busy": "2022-08-30T16:51:43.917415Z",
     "iopub.status.idle": "2022-08-30T16:51:43.951679Z",
     "shell.execute_reply": "2022-08-30T16:51:43.950834Z"
    },
    "papermill": {
     "duration": 0.068902,
     "end_time": "2022-08-30T16:51:43.953935",
     "exception": false,
     "start_time": "2022-08-30T16:51:43.885033",
     "status": "completed"
    },
    "tags": []
   },
   "outputs": [
    {
     "data": {
      "text/plain": [
       "(6425, 7)"
      ]
     },
     "execution_count": 20,
     "metadata": {},
     "output_type": "execute_result"
    }
   ],
   "source": [
    "genes_info.shape"
   ]
  },
  {
   "cell_type": "code",
   "execution_count": 21,
   "id": "d16c3e92-85ec-468a-9a56-e25a9774a1cb",
   "metadata": {
    "execution": {
     "iopub.execute_input": "2022-08-30T16:51:44.000229Z",
     "iopub.status.busy": "2022-08-30T16:51:43.999916Z",
     "iopub.status.idle": "2022-08-30T16:51:44.036011Z",
     "shell.execute_reply": "2022-08-30T16:51:44.035176Z"
    },
    "papermill": {
     "duration": 0.061549,
     "end_time": "2022-08-30T16:51:44.037957",
     "exception": false,
     "start_time": "2022-08-30T16:51:43.976408",
     "status": "completed"
    },
    "tags": []
   },
   "outputs": [
    {
     "data": {
      "text/html": [
       "<div>\n",
       "<style scoped>\n",
       "    .dataframe tbody tr th:only-of-type {\n",
       "        vertical-align: middle;\n",
       "    }\n",
       "\n",
       "    .dataframe tbody tr th {\n",
       "        vertical-align: top;\n",
       "    }\n",
       "\n",
       "    .dataframe thead th {\n",
       "        text-align: right;\n",
       "    }\n",
       "</style>\n",
       "<table border=\"1\" class=\"dataframe\">\n",
       "  <thead>\n",
       "    <tr style=\"text-align: right;\">\n",
       "      <th></th>\n",
       "      <th>name</th>\n",
       "      <th>id</th>\n",
       "      <th>chr</th>\n",
       "      <th>band</th>\n",
       "      <th>start_position</th>\n",
       "      <th>end_position</th>\n",
       "      <th>gene_length</th>\n",
       "    </tr>\n",
       "  </thead>\n",
       "  <tbody>\n",
       "    <tr>\n",
       "      <th>0</th>\n",
       "      <td>ADAMTS14</td>\n",
       "      <td>ENSG00000138316</td>\n",
       "      <td>10</td>\n",
       "      <td>10q22.1</td>\n",
       "      <td>70672506</td>\n",
       "      <td>70762441</td>\n",
       "      <td>89935</td>\n",
       "    </tr>\n",
       "    <tr>\n",
       "      <th>1</th>\n",
       "      <td>TXN</td>\n",
       "      <td>ENSG00000136810</td>\n",
       "      <td>9</td>\n",
       "      <td>9q31.3</td>\n",
       "      <td>110243810</td>\n",
       "      <td>110256507</td>\n",
       "      <td>12697</td>\n",
       "    </tr>\n",
       "    <tr>\n",
       "      <th>2</th>\n",
       "      <td>RMI1</td>\n",
       "      <td>ENSG00000178966</td>\n",
       "      <td>9</td>\n",
       "      <td>9q21.32</td>\n",
       "      <td>83980711</td>\n",
       "      <td>84004074</td>\n",
       "      <td>23363</td>\n",
       "    </tr>\n",
       "    <tr>\n",
       "      <th>3</th>\n",
       "      <td>DHX58</td>\n",
       "      <td>ENSG00000108771</td>\n",
       "      <td>17</td>\n",
       "      <td>17q21.2</td>\n",
       "      <td>42101404</td>\n",
       "      <td>42112714</td>\n",
       "      <td>11310</td>\n",
       "    </tr>\n",
       "    <tr>\n",
       "      <th>4</th>\n",
       "      <td>XRCC4</td>\n",
       "      <td>ENSG00000152422</td>\n",
       "      <td>5</td>\n",
       "      <td>5q14.2</td>\n",
       "      <td>83077498</td>\n",
       "      <td>83353787</td>\n",
       "      <td>276289</td>\n",
       "    </tr>\n",
       "  </tbody>\n",
       "</table>\n",
       "</div>"
      ],
      "text/plain": [
       "       name               id  chr     band  start_position  end_position  \\\n",
       "0  ADAMTS14  ENSG00000138316   10  10q22.1        70672506      70762441   \n",
       "1       TXN  ENSG00000136810    9   9q31.3       110243810     110256507   \n",
       "2      RMI1  ENSG00000178966    9  9q21.32        83980711      84004074   \n",
       "3     DHX58  ENSG00000108771   17  17q21.2        42101404      42112714   \n",
       "4     XRCC4  ENSG00000152422    5   5q14.2        83077498      83353787   \n",
       "\n",
       "   gene_length  \n",
       "0        89935  \n",
       "1        12697  \n",
       "2        23363  \n",
       "3        11310  \n",
       "4       276289  "
      ]
     },
     "execution_count": 21,
     "metadata": {},
     "output_type": "execute_result"
    }
   ],
   "source": [
    "genes_info.head()"
   ]
  },
  {
   "cell_type": "markdown",
   "id": "d3843e06",
   "metadata": {
    "papermill": {
     "duration": 0.01665,
     "end_time": "2022-08-30T16:51:44.074949",
     "exception": false,
     "start_time": "2022-08-30T16:51:44.058299",
     "status": "completed"
    },
    "tags": []
   },
   "source": [
    "# Compute correlations"
   ]
  },
  {
   "cell_type": "code",
   "execution_count": 22,
   "id": "cb859c15-d1f3-4006-a74c-2b83c0db9611",
   "metadata": {
    "execution": {
     "iopub.execute_input": "2022-08-30T16:51:44.110496Z",
     "iopub.status.busy": "2022-08-30T16:51:44.110229Z",
     "iopub.status.idle": "2022-08-30T16:51:44.138478Z",
     "shell.execute_reply": "2022-08-30T16:51:44.137897Z"
    },
    "papermill": {
     "duration": 0.04919,
     "end_time": "2022-08-30T16:51:44.140255",
     "exception": false,
     "start_time": "2022-08-30T16:51:44.091065",
     "status": "completed"
    },
    "tags": []
   },
   "outputs": [
    {
     "data": {
      "text/plain": [
       "PosixPath('/project/ritchie20/projects/phenoplier/base/results/gls/gene_corrs/cohorts/emerge/gtex_v8/mashr/by_chr/gene_corrs-chr16.pkl')"
      ]
     },
     "metadata": {},
     "output_type": "display_data"
    }
   ],
   "source": [
    "output_dir = OUTPUT_DIR_BASE / \"by_chr\"\n",
    "output_dir.mkdir(exist_ok=True, parents=True)\n",
    "output_file = output_dir / f\"gene_corrs-chr{CHROMOSOME}.pkl\"\n",
    "display(output_file)"
   ]
  },
  {
   "cell_type": "code",
   "execution_count": 23,
   "id": "aa674fe4-6794-4eed-98fa-32b39d1d4ace",
   "metadata": {
    "execution": {
     "iopub.execute_input": "2022-08-30T16:51:44.170020Z",
     "iopub.status.busy": "2022-08-30T16:51:44.169780Z",
     "iopub.status.idle": "2022-08-30T16:51:44.192152Z",
     "shell.execute_reply": "2022-08-30T16:51:44.191430Z"
    },
    "papermill": {
     "duration": 0.039476,
     "end_time": "2022-08-30T16:51:44.193948",
     "exception": false,
     "start_time": "2022-08-30T16:51:44.154472",
     "status": "completed"
    },
    "tags": []
   },
   "outputs": [],
   "source": [
    "warnings.filterwarnings(\"error\")"
   ]
  },
  {
   "cell_type": "code",
   "execution_count": 24,
   "id": "44d5450b-3baf-43f1-9e2e-4b06f1a785f8",
   "metadata": {
    "execution": {
     "iopub.execute_input": "2022-08-30T16:51:44.228871Z",
     "iopub.status.busy": "2022-08-30T16:51:44.228633Z",
     "iopub.status.idle": "2022-08-30T16:51:44.251332Z",
     "shell.execute_reply": "2022-08-30T16:51:44.250817Z"
    },
    "papermill": {
     "duration": 0.042264,
     "end_time": "2022-08-30T16:51:44.253124",
     "exception": false,
     "start_time": "2022-08-30T16:51:44.210860",
     "status": "completed"
    },
    "tags": []
   },
   "outputs": [],
   "source": [
    "# standard checks\n",
    "all_chrs = genes_info[\"chr\"].dropna().unique()\n",
    "assert all_chrs.shape[0] == 22\n",
    "\n",
    "# select chromosome given by the user\n",
    "assert CHROMOSOME in all_chrs"
   ]
  },
  {
   "cell_type": "code",
   "execution_count": 25,
   "id": "2d7c043c-92a7-4d35-991b-fa69ac1e0268",
   "metadata": {
    "execution": {
     "iopub.execute_input": "2022-08-30T16:51:44.287486Z",
     "iopub.status.busy": "2022-08-30T16:51:44.287247Z",
     "iopub.status.idle": "2022-08-30T16:51:44.363471Z",
     "shell.execute_reply": "2022-08-30T16:51:44.362416Z"
    },
    "papermill": {
     "duration": 0.09705,
     "end_time": "2022-08-30T16:51:44.366599",
     "exception": false,
     "start_time": "2022-08-30T16:51:44.269549",
     "status": "completed"
    },
    "tags": []
   },
   "outputs": [
    {
     "name": "stdout",
     "output_type": "stream",
     "text": [
      "Number of genes in chromosome: 274\n"
     ]
    }
   ],
   "source": [
    "# run only on the chromosome specified\n",
    "all_chrs = [CHROMOSOME]\n",
    "genes_chr = genes_info[genes_info[\"chr\"] == CHROMOSOME]\n",
    "\n",
    "# For testing purposes\n",
    "# genes_chr = genes_chr.sample(n=20)\n",
    "\n",
    "print(f\"Number of genes in chromosome: {genes_chr.shape[0]}\", flush=True)"
   ]
  },
  {
   "cell_type": "code",
   "execution_count": 26,
   "id": "916015d8-2979-46d3-a9b9-1cf5a0932c6a",
   "metadata": {
    "execution": {
     "iopub.execute_input": "2022-08-30T16:51:44.415334Z",
     "iopub.status.busy": "2022-08-30T16:51:44.414974Z",
     "iopub.status.idle": "2022-08-30T16:51:44.447155Z",
     "shell.execute_reply": "2022-08-30T16:51:44.446322Z"
    },
    "papermill": {
     "duration": 0.058696,
     "end_time": "2022-08-30T16:51:44.449515",
     "exception": false,
     "start_time": "2022-08-30T16:51:44.390819",
     "status": "completed"
    },
    "tags": []
   },
   "outputs": [],
   "source": [
    "# sort genes by starting position to make visualizations better later\n",
    "genes_chr = genes_chr.sort_values(\"start_position\")"
   ]
  },
  {
   "cell_type": "code",
   "execution_count": 27,
   "id": "a38aa74a-8ad3-47f6-8ef9-56be0e011774",
   "metadata": {
    "execution": {
     "iopub.execute_input": "2022-08-30T16:51:44.490857Z",
     "iopub.status.busy": "2022-08-30T16:51:44.490558Z",
     "iopub.status.idle": "2022-08-30T16:51:44.519430Z",
     "shell.execute_reply": "2022-08-30T16:51:44.518806Z"
    },
    "papermill": {
     "duration": 0.051058,
     "end_time": "2022-08-30T16:51:44.521563",
     "exception": false,
     "start_time": "2022-08-30T16:51:44.470505",
     "status": "completed"
    },
    "tags": []
   },
   "outputs": [],
   "source": [
    "gene_chr_objs = [Gene(ensembl_id=gene_id) for gene_id in genes_chr[\"id\"]]"
   ]
  },
  {
   "cell_type": "code",
   "execution_count": 28,
   "id": "570f974f-13c3-42b6-ad3a-ce99ca885c1a",
   "metadata": {
    "execution": {
     "iopub.execute_input": "2022-08-30T16:51:44.554481Z",
     "iopub.status.busy": "2022-08-30T16:51:44.554228Z",
     "iopub.status.idle": "2022-08-30T16:51:44.579954Z",
     "shell.execute_reply": "2022-08-30T16:51:44.579228Z"
    },
    "papermill": {
     "duration": 0.043632,
     "end_time": "2022-08-30T16:51:44.581835",
     "exception": false,
     "start_time": "2022-08-30T16:51:44.538203",
     "status": "completed"
    },
    "tags": []
   },
   "outputs": [
    {
     "name": "stdout",
     "output_type": "stream",
     "text": [
      "Number of gene combinations: 37675\n"
     ]
    }
   ],
   "source": [
    "n = len(gene_chr_objs)\n",
    "# diagonal elements + upper triangular matrix\n",
    "n_comb = n + int(n * (n - 1) / 2.0)\n",
    "print(f\"Number of gene combinations: {n_comb}\", flush=True)"
   ]
  },
  {
   "cell_type": "code",
   "execution_count": 29,
   "id": "cdbb90a1",
   "metadata": {
    "execution": {
     "iopub.execute_input": "2022-08-30T16:51:44.612910Z",
     "iopub.status.busy": "2022-08-30T16:51:44.612671Z",
     "iopub.status.idle": "2022-08-30T17:29:20.101653Z",
     "shell.execute_reply": "2022-08-30T17:29:20.100728Z"
    },
    "papermill": {
     "duration": 2255.505458,
     "end_time": "2022-08-30T17:29:20.104030",
     "exception": false,
     "start_time": "2022-08-30T16:51:44.598572",
     "status": "completed"
    },
    "tags": []
   },
   "outputs": [
    {
     "name": "stderr",
     "output_type": "stream",
     "text": [
      "ENSG00000258947 / ENSG00000258947: 100%|██████████████████████| 37675/37675 [37:35<00:00, 16.70it/s]\n"
     ]
    },
    {
     "data": {
      "text/plain": [
       "PosixPath('/project/ritchie20/projects/phenoplier/base/results/gls/gene_corrs/cohorts/emerge/gtex_v8/mashr/by_chr/gene_corrs-chr16.pkl')"
      ]
     },
     "metadata": {},
     "output_type": "display_data"
    }
   ],
   "source": [
    "gene_corrs = []\n",
    "gene_corrs_data = np.full(\n",
    "    (n, n),\n",
    "    np.nan,\n",
    "    dtype=np.float64,\n",
    ")\n",
    "\n",
    "i = 0\n",
    "with tqdm(ncols=100, total=n_comb) as pbar:\n",
    "    for gene1_idx in range(0, len(gene_chr_objs)):\n",
    "        gene1_obj = gene_chr_objs[gene1_idx]\n",
    "        gene1_tissues = spredixcan_genes_models.loc[gene1_obj.ensembl_id, \"tissue\"]\n",
    "\n",
    "        for gene2_idx in range(gene1_idx, len(gene_chr_objs)):\n",
    "            gene2_obj = gene_chr_objs[gene2_idx]\n",
    "            gene2_tissues = spredixcan_genes_models.loc[gene2_obj.ensembl_id, \"tissue\"]\n",
    "\n",
    "            pbar.set_description(f\"{gene1_obj.ensembl_id} / {gene2_obj.ensembl_id}\")\n",
    "\n",
    "            try:\n",
    "                r = gene1_obj.get_ssm_correlation(\n",
    "                    other_gene=gene2_obj,\n",
    "                    tissues=gene1_tissues,\n",
    "                    other_tissues=gene2_tissues,\n",
    "                    snps_subset=gwas_variants_ids_set,\n",
    "                    condition_number=SMULTIXCAN_CONDITION_NUMBER,\n",
    "                    reference_panel=REFERENCE_PANEL,\n",
    "                    model_type=EQTL_MODEL,\n",
    "                    use_within_distance=COMPUTE_CORRELATIONS_WITHIN_DISTANCE,\n",
    "                )\n",
    "\n",
    "                if r is None:\n",
    "                    # if r is None, it's very likely because:\n",
    "                    #  * one of the genes has no prediction models\n",
    "                    #  * all the SNPs predictors for the gene are not present in the reference\n",
    "                    #    panel\n",
    "\n",
    "                    r = 0.0\n",
    "\n",
    "                gene_corrs.append(r)\n",
    "\n",
    "                gene_corrs_data[gene1_idx, gene2_idx] = r\n",
    "                gene_corrs_data[gene2_idx, gene1_idx] = r\n",
    "            except Warning as e:\n",
    "                if not DEBUG_MODE:\n",
    "                    raise e\n",
    "\n",
    "                print(\n",
    "                    f\"RuntimeWarning for genes {gene1_obj.ensembl_id} and {gene2_obj.ensembl_id}\",\n",
    "                    flush=True,\n",
    "                )\n",
    "                print(traceback.format_exc(), flush=True)\n",
    "\n",
    "                gene_corrs.append(np.nan)\n",
    "            except Exception as e:\n",
    "                if not DEBUG_MODE:\n",
    "                    raise e\n",
    "\n",
    "                print(\n",
    "                    f\"Exception for genes {gene1_obj.ensembl_id} and {gene2_obj.ensembl_id}\",\n",
    "                    flush=True,\n",
    "                )\n",
    "                print(traceback.format_exc(), flush=True)\n",
    "\n",
    "                gene_corrs.append(np.nan)\n",
    "\n",
    "            pbar.update(1)\n",
    "\n",
    "# create a pandas series\n",
    "gene_corrs_flat = pd.Series(gene_corrs)\n",
    "\n",
    "# save\n",
    "# FIXME: consider saving only the condenced matrix here. See here for\n",
    "# more details: https://github.com/greenelab/phenoplier/pull/38#discussion_r634600813\n",
    "# gene_corrs_data = squareform(np.array(gene_corrs, dtype=np.float64))\n",
    "# np.fill_diagonal(gene_corrs_data, 1.0)\n",
    "\n",
    "gene_chr_ids = [g.ensembl_id for g in gene_chr_objs]\n",
    "gene_corrs_df = pd.DataFrame(\n",
    "    data=gene_corrs_data,\n",
    "    index=gene_chr_ids,\n",
    "    columns=gene_chr_ids,\n",
    ")\n",
    "\n",
    "output_dir.mkdir(exist_ok=True, parents=True)\n",
    "display(output_file)\n",
    "\n",
    "gene_corrs_df.to_pickle(output_file)"
   ]
  },
  {
   "cell_type": "markdown",
   "id": "faa67b51-5373-470f-aa72-2ded53fa6dfe",
   "metadata": {
    "papermill": {
     "duration": 1.765049,
     "end_time": "2022-08-30T17:29:23.781582",
     "exception": false,
     "start_time": "2022-08-30T17:29:22.016533",
     "status": "completed"
    },
    "tags": []
   },
   "source": [
    "# Testing"
   ]
  },
  {
   "cell_type": "code",
   "execution_count": 30,
   "id": "14f7d046-4b55-4896-a56b-990127bcc388",
   "metadata": {
    "execution": {
     "iopub.execute_input": "2022-08-30T17:29:27.436320Z",
     "iopub.status.busy": "2022-08-30T17:29:27.436044Z",
     "iopub.status.idle": "2022-08-30T17:29:27.684049Z",
     "shell.execute_reply": "2022-08-30T17:29:27.683169Z"
    },
    "papermill": {
     "duration": 2.072675,
     "end_time": "2022-08-30T17:29:27.686778",
     "exception": false,
     "start_time": "2022-08-30T17:29:25.614103",
     "status": "completed"
    },
    "tags": []
   },
   "outputs": [
    {
     "data": {
      "text/plain": [
       "(274, 274)"
      ]
     },
     "execution_count": 30,
     "metadata": {},
     "output_type": "execute_result"
    }
   ],
   "source": [
    "gene_corrs_df.shape"
   ]
  },
  {
   "cell_type": "code",
   "execution_count": 31,
   "id": "c7d15414-3297-4537-a7c6-7588c0baeb75",
   "metadata": {
    "execution": {
     "iopub.execute_input": "2022-08-30T17:29:31.446785Z",
     "iopub.status.busy": "2022-08-30T17:29:31.446525Z",
     "iopub.status.idle": "2022-08-30T17:29:31.478674Z",
     "shell.execute_reply": "2022-08-30T17:29:31.478114Z"
    },
    "papermill": {
     "duration": 1.851419,
     "end_time": "2022-08-30T17:29:31.479983",
     "exception": false,
     "start_time": "2022-08-30T17:29:29.628564",
     "status": "completed"
    },
    "tags": []
   },
   "outputs": [
    {
     "data": {
      "text/html": [
       "<div>\n",
       "<style scoped>\n",
       "    .dataframe tbody tr th:only-of-type {\n",
       "        vertical-align: middle;\n",
       "    }\n",
       "\n",
       "    .dataframe tbody tr th {\n",
       "        vertical-align: top;\n",
       "    }\n",
       "\n",
       "    .dataframe thead th {\n",
       "        text-align: right;\n",
       "    }\n",
       "</style>\n",
       "<table border=\"1\" class=\"dataframe\">\n",
       "  <thead>\n",
       "    <tr style=\"text-align: right;\">\n",
       "      <th></th>\n",
       "      <th>ENSG00000161980</th>\n",
       "      <th>ENSG00000103152</th>\n",
       "      <th>ENSG00000206172</th>\n",
       "      <th>ENSG00000086506</th>\n",
       "      <th>ENSG00000076344</th>\n",
       "      <th>ENSG00000103126</th>\n",
       "      <th>ENSG00000086504</th>\n",
       "      <th>ENSG00000103202</th>\n",
       "      <th>ENSG00000242612</th>\n",
       "      <th>ENSG00000090565</th>\n",
       "      <th>...</th>\n",
       "      <th>ENSG00000051523</th>\n",
       "      <th>ENSG00000167508</th>\n",
       "      <th>ENSG00000167513</th>\n",
       "      <th>ENSG00000198931</th>\n",
       "      <th>ENSG00000141012</th>\n",
       "      <th>ENSG00000129993</th>\n",
       "      <th>ENSG00000167526</th>\n",
       "      <th>ENSG00000187741</th>\n",
       "      <th>ENSG00000258839</th>\n",
       "      <th>ENSG00000258947</th>\n",
       "    </tr>\n",
       "  </thead>\n",
       "  <tbody>\n",
       "    <tr>\n",
       "      <th>ENSG00000161980</th>\n",
       "      <td>1.000000</td>\n",
       "      <td>0.312555</td>\n",
       "      <td>0.008425</td>\n",
       "      <td>0.032054</td>\n",
       "      <td>0.013127</td>\n",
       "      <td>0.016392</td>\n",
       "      <td>0.010935</td>\n",
       "      <td>0.013421</td>\n",
       "      <td>0.017843</td>\n",
       "      <td>0.013448</td>\n",
       "      <td>...</td>\n",
       "      <td>0.006475</td>\n",
       "      <td>0.003400</td>\n",
       "      <td>0.001707</td>\n",
       "      <td>0.001380</td>\n",
       "      <td>0.004310</td>\n",
       "      <td>0.004509</td>\n",
       "      <td>0.002774</td>\n",
       "      <td>0.004118</td>\n",
       "      <td>0.015535</td>\n",
       "      <td>0.012611</td>\n",
       "    </tr>\n",
       "    <tr>\n",
       "      <th>ENSG00000103152</th>\n",
       "      <td>0.312555</td>\n",
       "      <td>1.000000</td>\n",
       "      <td>0.034726</td>\n",
       "      <td>0.120375</td>\n",
       "      <td>0.061692</td>\n",
       "      <td>0.029572</td>\n",
       "      <td>0.025706</td>\n",
       "      <td>0.010704</td>\n",
       "      <td>0.008710</td>\n",
       "      <td>0.009701</td>\n",
       "      <td>...</td>\n",
       "      <td>0.006321</td>\n",
       "      <td>0.009560</td>\n",
       "      <td>0.005738</td>\n",
       "      <td>0.004186</td>\n",
       "      <td>0.008883</td>\n",
       "      <td>0.007481</td>\n",
       "      <td>0.008886</td>\n",
       "      <td>0.003155</td>\n",
       "      <td>0.007365</td>\n",
       "      <td>0.016500</td>\n",
       "    </tr>\n",
       "    <tr>\n",
       "      <th>ENSG00000206172</th>\n",
       "      <td>0.008425</td>\n",
       "      <td>0.034726</td>\n",
       "      <td>1.000000</td>\n",
       "      <td>0.059261</td>\n",
       "      <td>0.062245</td>\n",
       "      <td>0.025327</td>\n",
       "      <td>0.103654</td>\n",
       "      <td>0.014437</td>\n",
       "      <td>0.013527</td>\n",
       "      <td>0.011204</td>\n",
       "      <td>...</td>\n",
       "      <td>0.005227</td>\n",
       "      <td>0.006670</td>\n",
       "      <td>0.004734</td>\n",
       "      <td>0.003728</td>\n",
       "      <td>0.002320</td>\n",
       "      <td>0.002297</td>\n",
       "      <td>0.000407</td>\n",
       "      <td>0.001616</td>\n",
       "      <td>0.000899</td>\n",
       "      <td>0.005550</td>\n",
       "    </tr>\n",
       "    <tr>\n",
       "      <th>ENSG00000086506</th>\n",
       "      <td>0.032054</td>\n",
       "      <td>0.120375</td>\n",
       "      <td>0.059261</td>\n",
       "      <td>1.000000</td>\n",
       "      <td>0.169380</td>\n",
       "      <td>0.092479</td>\n",
       "      <td>0.080608</td>\n",
       "      <td>0.014114</td>\n",
       "      <td>0.017748</td>\n",
       "      <td>0.022424</td>\n",
       "      <td>...</td>\n",
       "      <td>0.006776</td>\n",
       "      <td>0.009811</td>\n",
       "      <td>0.004304</td>\n",
       "      <td>0.002996</td>\n",
       "      <td>0.004215</td>\n",
       "      <td>0.004665</td>\n",
       "      <td>0.005203</td>\n",
       "      <td>0.003655</td>\n",
       "      <td>0.003960</td>\n",
       "      <td>0.009180</td>\n",
       "    </tr>\n",
       "    <tr>\n",
       "      <th>ENSG00000076344</th>\n",
       "      <td>0.013127</td>\n",
       "      <td>0.061692</td>\n",
       "      <td>0.062245</td>\n",
       "      <td>0.169380</td>\n",
       "      <td>1.000000</td>\n",
       "      <td>0.133766</td>\n",
       "      <td>0.121072</td>\n",
       "      <td>0.064562</td>\n",
       "      <td>0.023406</td>\n",
       "      <td>0.024921</td>\n",
       "      <td>...</td>\n",
       "      <td>0.001836</td>\n",
       "      <td>0.005022</td>\n",
       "      <td>0.005254</td>\n",
       "      <td>0.003078</td>\n",
       "      <td>0.005146</td>\n",
       "      <td>0.007558</td>\n",
       "      <td>0.001843</td>\n",
       "      <td>0.004544</td>\n",
       "      <td>0.003748</td>\n",
       "      <td>0.005991</td>\n",
       "    </tr>\n",
       "  </tbody>\n",
       "</table>\n",
       "<p>5 rows × 274 columns</p>\n",
       "</div>"
      ],
      "text/plain": [
       "                 ENSG00000161980  ENSG00000103152  ENSG00000206172  \\\n",
       "ENSG00000161980         1.000000         0.312555         0.008425   \n",
       "ENSG00000103152         0.312555         1.000000         0.034726   \n",
       "ENSG00000206172         0.008425         0.034726         1.000000   \n",
       "ENSG00000086506         0.032054         0.120375         0.059261   \n",
       "ENSG00000076344         0.013127         0.061692         0.062245   \n",
       "\n",
       "                 ENSG00000086506  ENSG00000076344  ENSG00000103126  \\\n",
       "ENSG00000161980         0.032054         0.013127         0.016392   \n",
       "ENSG00000103152         0.120375         0.061692         0.029572   \n",
       "ENSG00000206172         0.059261         0.062245         0.025327   \n",
       "ENSG00000086506         1.000000         0.169380         0.092479   \n",
       "ENSG00000076344         0.169380         1.000000         0.133766   \n",
       "\n",
       "                 ENSG00000086504  ENSG00000103202  ENSG00000242612  \\\n",
       "ENSG00000161980         0.010935         0.013421         0.017843   \n",
       "ENSG00000103152         0.025706         0.010704         0.008710   \n",
       "ENSG00000206172         0.103654         0.014437         0.013527   \n",
       "ENSG00000086506         0.080608         0.014114         0.017748   \n",
       "ENSG00000076344         0.121072         0.064562         0.023406   \n",
       "\n",
       "                 ENSG00000090565  ...  ENSG00000051523  ENSG00000167508  \\\n",
       "ENSG00000161980         0.013448  ...         0.006475         0.003400   \n",
       "ENSG00000103152         0.009701  ...         0.006321         0.009560   \n",
       "ENSG00000206172         0.011204  ...         0.005227         0.006670   \n",
       "ENSG00000086506         0.022424  ...         0.006776         0.009811   \n",
       "ENSG00000076344         0.024921  ...         0.001836         0.005022   \n",
       "\n",
       "                 ENSG00000167513  ENSG00000198931  ENSG00000141012  \\\n",
       "ENSG00000161980         0.001707         0.001380         0.004310   \n",
       "ENSG00000103152         0.005738         0.004186         0.008883   \n",
       "ENSG00000206172         0.004734         0.003728         0.002320   \n",
       "ENSG00000086506         0.004304         0.002996         0.004215   \n",
       "ENSG00000076344         0.005254         0.003078         0.005146   \n",
       "\n",
       "                 ENSG00000129993  ENSG00000167526  ENSG00000187741  \\\n",
       "ENSG00000161980         0.004509         0.002774         0.004118   \n",
       "ENSG00000103152         0.007481         0.008886         0.003155   \n",
       "ENSG00000206172         0.002297         0.000407         0.001616   \n",
       "ENSG00000086506         0.004665         0.005203         0.003655   \n",
       "ENSG00000076344         0.007558         0.001843         0.004544   \n",
       "\n",
       "                 ENSG00000258839  ENSG00000258947  \n",
       "ENSG00000161980         0.015535         0.012611  \n",
       "ENSG00000103152         0.007365         0.016500  \n",
       "ENSG00000206172         0.000899         0.005550  \n",
       "ENSG00000086506         0.003960         0.009180  \n",
       "ENSG00000076344         0.003748         0.005991  \n",
       "\n",
       "[5 rows x 274 columns]"
      ]
     },
     "execution_count": 31,
     "metadata": {},
     "output_type": "execute_result"
    }
   ],
   "source": [
    "gene_corrs_df.head()"
   ]
  },
  {
   "cell_type": "markdown",
   "id": "dad6603f-01c6-41fb-a6f6-241051207dd8",
   "metadata": {
    "papermill": {
     "duration": 1.812616,
     "end_time": "2022-08-30T17:29:35.156343",
     "exception": false,
     "start_time": "2022-08-30T17:29:33.343727",
     "status": "completed"
    },
    "tags": []
   },
   "source": [
    "## Standard checks and stats"
   ]
  },
  {
   "cell_type": "code",
   "execution_count": 32,
   "id": "286686af-1b7b-4440-8453-6bdcbd8de19c",
   "metadata": {
    "execution": {
     "iopub.execute_input": "2022-08-30T17:29:38.810232Z",
     "iopub.status.busy": "2022-08-30T17:29:38.809970Z",
     "iopub.status.idle": "2022-08-30T17:29:38.830900Z",
     "shell.execute_reply": "2022-08-30T17:29:38.830476Z"
    },
    "papermill": {
     "duration": 1.868096,
     "end_time": "2022-08-30T17:29:38.832363",
     "exception": false,
     "start_time": "2022-08-30T17:29:36.964267",
     "status": "completed"
    },
    "tags": []
   },
   "outputs": [],
   "source": [
    "assert not gene_corrs_df.isna().any().any()"
   ]
  },
  {
   "cell_type": "code",
   "execution_count": 33,
   "id": "00583efc-7068-4270-ad1e-4a418e91db96",
   "metadata": {
    "execution": {
     "iopub.execute_input": "2022-08-30T17:29:42.570869Z",
     "iopub.status.busy": "2022-08-30T17:29:42.570609Z",
     "iopub.status.idle": "2022-08-30T17:29:42.597579Z",
     "shell.execute_reply": "2022-08-30T17:29:42.597108Z"
    },
    "papermill": {
     "duration": 1.884655,
     "end_time": "2022-08-30T17:29:42.599070",
     "exception": false,
     "start_time": "2022-08-30T17:29:40.714415",
     "status": "completed"
    },
    "tags": []
   },
   "outputs": [
    {
     "data": {
      "text/plain": [
       "1.5042425667066205e-06"
      ]
     },
     "metadata": {},
     "output_type": "display_data"
    }
   ],
   "source": [
    "_min_val = gene_corrs_df.min().min()\n",
    "display(_min_val)\n",
    "assert _min_val >= -0.05"
   ]
  },
  {
   "cell_type": "code",
   "execution_count": 34,
   "id": "d04fb2cf-1050-475b-b855-f5f7cc04092b",
   "metadata": {
    "execution": {
     "iopub.execute_input": "2022-08-30T17:29:46.180873Z",
     "iopub.status.busy": "2022-08-30T17:29:46.180610Z",
     "iopub.status.idle": "2022-08-30T17:29:46.203636Z",
     "shell.execute_reply": "2022-08-30T17:29:46.203084Z"
    },
    "papermill": {
     "duration": 1.849118,
     "end_time": "2022-08-30T17:29:46.205086",
     "exception": false,
     "start_time": "2022-08-30T17:29:44.355968",
     "status": "completed"
    },
    "tags": []
   },
   "outputs": [
    {
     "data": {
      "text/plain": [
       "1.0000000000000022"
      ]
     },
     "metadata": {},
     "output_type": "display_data"
    }
   ],
   "source": [
    "_max_val = gene_corrs_df.max().max()  # this captures the diagonal\n",
    "display(_max_val)\n",
    "assert _max_val <= 1.05"
   ]
  },
  {
   "cell_type": "code",
   "execution_count": 35,
   "id": "96d02c44-1fba-47be-8a93-8f2608420b9c",
   "metadata": {
    "execution": {
     "iopub.execute_input": "2022-08-30T17:29:49.910631Z",
     "iopub.status.busy": "2022-08-30T17:29:49.910346Z",
     "iopub.status.idle": "2022-08-30T17:29:49.930578Z",
     "shell.execute_reply": "2022-08-30T17:29:49.930123Z"
    },
    "papermill": {
     "duration": 1.861999,
     "end_time": "2022-08-30T17:29:49.932087",
     "exception": false,
     "start_time": "2022-08-30T17:29:48.070088",
     "status": "completed"
    },
    "tags": []
   },
   "outputs": [],
   "source": [
    "# check upper triangular values\n",
    "# assert len(gene_corrs) == int(genes_chr.shape[0] * (genes_chr.shape[0] - 1) / 2)"
   ]
  },
  {
   "cell_type": "code",
   "execution_count": 36,
   "id": "fe283586-c348-40e0-8841-f6d97bfb021c",
   "metadata": {
    "execution": {
     "iopub.execute_input": "2022-08-30T17:29:53.667512Z",
     "iopub.status.busy": "2022-08-30T17:29:53.667238Z",
     "iopub.status.idle": "2022-08-30T17:29:53.695522Z",
     "shell.execute_reply": "2022-08-30T17:29:53.694898Z"
    },
    "papermill": {
     "duration": 1.905511,
     "end_time": "2022-08-30T17:29:53.696982",
     "exception": false,
     "start_time": "2022-08-30T17:29:51.791471",
     "status": "completed"
    },
    "tags": []
   },
   "outputs": [
    {
     "data": {
      "text/plain": [
       "count    37675.000000\n",
       "mean         0.018460\n",
       "std          0.096360\n",
       "min          0.000002\n",
       "25%          0.003409\n",
       "50%          0.005384\n",
       "75%          0.007753\n",
       "max          1.000000\n",
       "dtype: float64"
      ]
     },
     "execution_count": 36,
     "metadata": {},
     "output_type": "execute_result"
    }
   ],
   "source": [
    "gene_corrs_flat.describe()"
   ]
  },
  {
   "cell_type": "code",
   "execution_count": 37,
   "id": "b3815678-0f93-4b35-897b-a9d047a2aa78",
   "metadata": {
    "execution": {
     "iopub.execute_input": "2022-08-30T17:29:57.277597Z",
     "iopub.status.busy": "2022-08-30T17:29:57.277333Z",
     "iopub.status.idle": "2022-08-30T17:29:57.300645Z",
     "shell.execute_reply": "2022-08-30T17:29:57.300227Z"
    },
    "papermill": {
     "duration": 1.7668,
     "end_time": "2022-08-30T17:29:57.301887",
     "exception": false,
     "start_time": "2022-08-30T17:29:55.535087",
     "status": "completed"
    },
    "tags": []
   },
   "outputs": [
    {
     "data": {
      "text/plain": [
       "0.00    0.000002\n",
       "0.05    0.001240\n",
       "0.10    0.001955\n",
       "0.15    0.002499\n",
       "0.20    0.002979\n",
       "0.25    0.003409\n",
       "0.30    0.003818\n",
       "0.35    0.004222\n",
       "0.40    0.004604\n",
       "0.45    0.004996\n",
       "0.50    0.005384\n",
       "0.55    0.005787\n",
       "0.60    0.006210\n",
       "0.65    0.006686\n",
       "0.70    0.007193\n",
       "0.75    0.007753\n",
       "0.80    0.008448\n",
       "0.85    0.009325\n",
       "0.90    0.010684\n",
       "0.95    0.014222\n",
       "dtype: float64"
      ]
     },
     "metadata": {},
     "output_type": "display_data"
    }
   ],
   "source": [
    "gene_corrs_quantiles = gene_corrs_flat.quantile(np.arange(0, 1, 0.05))\n",
    "display(gene_corrs_quantiles)"
   ]
  },
  {
   "cell_type": "markdown",
   "id": "87134509-b145-4a10-8bc9-b7e914c2b0fa",
   "metadata": {
    "papermill": {
     "duration": 1.798946,
     "end_time": "2022-08-30T17:30:00.910768",
     "exception": false,
     "start_time": "2022-08-30T17:29:59.111822",
     "status": "completed"
    },
    "tags": []
   },
   "source": [
    "## Positive definiteness"
   ]
  },
  {
   "cell_type": "code",
   "execution_count": 38,
   "id": "07d9a9a1-a4f7-48aa-b916-6d42a8cc6186",
   "metadata": {
    "execution": {
     "iopub.execute_input": "2022-08-30T17:30:04.559722Z",
     "iopub.status.busy": "2022-08-30T17:30:04.559449Z",
     "iopub.status.idle": "2022-08-30T17:30:04.599965Z",
     "shell.execute_reply": "2022-08-30T17:30:04.599546Z"
    },
    "papermill": {
     "duration": 1.876785,
     "end_time": "2022-08-30T17:30:04.601234",
     "exception": false,
     "start_time": "2022-08-30T17:30:02.724449",
     "status": "completed"
    },
    "tags": []
   },
   "outputs": [
    {
     "data": {
      "text/plain": [
       "0"
      ]
     },
     "metadata": {},
     "output_type": "display_data"
    },
    {
     "data": {
      "text/plain": [
       "array([], dtype=float64)"
      ]
     },
     "metadata": {},
     "output_type": "display_data"
    }
   ],
   "source": [
    "# print negative eigenvalues\n",
    "eigs = np.linalg.eigvals(gene_corrs_df.to_numpy())\n",
    "display(len(eigs[eigs < 0]))\n",
    "display(eigs[eigs < 0])"
   ]
  },
  {
   "cell_type": "code",
   "execution_count": 39,
   "id": "6e218436-c3c5-4028-8c94-a4fa6260efce",
   "metadata": {
    "execution": {
     "iopub.execute_input": "2022-08-30T17:30:08.242714Z",
     "iopub.status.busy": "2022-08-30T17:30:08.242438Z",
     "iopub.status.idle": "2022-08-30T17:30:08.274015Z",
     "shell.execute_reply": "2022-08-30T17:30:08.273559Z"
    },
    "papermill": {
     "duration": 1.861798,
     "end_time": "2022-08-30T17:30:08.275400",
     "exception": false,
     "start_time": "2022-08-30T17:30:06.413602",
     "status": "completed"
    },
    "tags": []
   },
   "outputs": [
    {
     "name": "stdout",
     "output_type": "stream",
     "text": [
      "Works!\n"
     ]
    }
   ],
   "source": [
    "try:\n",
    "    chol_mat = np.linalg.cholesky(gene_corrs_df.to_numpy())\n",
    "    cov_inv = np.linalg.inv(chol_mat)\n",
    "    print(\"Works!\")\n",
    "except Exception as e:\n",
    "    print(f\"Cholesky decomposition failed: {str(e)}\")"
   ]
  },
  {
   "cell_type": "code",
   "execution_count": 40,
   "id": "dd8827fb-faf9-4c7c-9454-015e94752706",
   "metadata": {
    "execution": {
     "iopub.execute_input": "2022-08-30T17:30:11.922826Z",
     "iopub.status.busy": "2022-08-30T17:30:11.922560Z",
     "iopub.status.idle": "2022-08-30T17:30:11.946775Z",
     "shell.execute_reply": "2022-08-30T17:30:11.946302Z"
    },
    "papermill": {
     "duration": 1.866941,
     "end_time": "2022-08-30T17:30:11.948211",
     "exception": false,
     "start_time": "2022-08-30T17:30:10.081270",
     "status": "completed"
    },
    "tags": []
   },
   "outputs": [
    {
     "name": "stdout",
     "output_type": "stream",
     "text": [
      "Works!\n"
     ]
    }
   ],
   "source": [
    "try:\n",
    "    # decomposition used by statsmodels.GLS\n",
    "    cholsigmainv = np.linalg.cholesky(np.linalg.inv(gene_corrs_df.to_numpy())).T\n",
    "    print(\"Works!\")\n",
    "except Exception as e:\n",
    "    print(f\"Cholesky decomposition failed (statsmodels.GLS): {str(e)}\")"
   ]
  },
  {
   "cell_type": "markdown",
   "id": "8e60a080-edb2-4e9c-b2ef-22961693200c",
   "metadata": {
    "papermill": {
     "duration": 1.803477,
     "end_time": "2022-08-30T17:30:15.611566",
     "exception": false,
     "start_time": "2022-08-30T17:30:13.808089",
     "status": "completed"
    },
    "tags": []
   },
   "source": [
    "## Plot: distribution"
   ]
  },
  {
   "cell_type": "code",
   "execution_count": 41,
   "id": "8301126b-a7d4-4744-9c7d-f0f86eb6f54c",
   "metadata": {
    "execution": {
     "iopub.execute_input": "2022-08-30T17:30:19.267333Z",
     "iopub.status.busy": "2022-08-30T17:30:19.267039Z",
     "iopub.status.idle": "2022-08-30T17:30:27.025873Z",
     "shell.execute_reply": "2022-08-30T17:30:27.025364Z"
    },
    "papermill": {
     "duration": 9.610465,
     "end_time": "2022-08-30T17:30:27.027491",
     "exception": false,
     "start_time": "2022-08-30T17:30:17.417026",
     "status": "completed"
    },
    "tags": []
   },
   "outputs": [
    {
     "data": {
      "image/png": "[encoded data removed]",
      "text/plain": [
       "<Figure size 504x504 with 1 Axes>"
      ]
     },
     "metadata": {
      "needs_background": "light"
     },
     "output_type": "display_data"
    }
   ],
   "source": [
    "with sns.plotting_context(\"paper\", font_scale=1.5):\n",
    "    g = sns.displot(gene_corrs_flat, kde=True, height=7)\n",
    "    g.ax.set_title(\n",
    "        f\"Distribution of gene correlation values in chromosome {CHROMOSOME}\"\n",
    "    )"
   ]
  },
  {
   "cell_type": "markdown",
   "id": "cbd52bca-d878-4a2f-b684-5c83aa3038d4",
   "metadata": {
    "papermill": {
     "duration": 1.811351,
     "end_time": "2022-08-30T17:30:30.660844",
     "exception": false,
     "start_time": "2022-08-30T17:30:28.849493",
     "status": "completed"
    },
    "tags": []
   },
   "source": [
    "## Plot: heatmap"
   ]
  },
  {
   "cell_type": "code",
   "execution_count": 42,
   "id": "d03fe63a-c7b2-4fb9-a53c-db362ce843c9",
   "metadata": {
    "execution": {
     "iopub.execute_input": "2022-08-30T17:30:34.291908Z",
     "iopub.status.busy": "2022-08-30T17:30:34.291651Z",
     "iopub.status.idle": "2022-08-30T17:30:34.430103Z",
     "shell.execute_reply": "2022-08-30T17:30:34.429274Z"
    },
    "papermill": {
     "duration": 1.968653,
     "end_time": "2022-08-30T17:30:34.432733",
     "exception": false,
     "start_time": "2022-08-30T17:30:32.464080",
     "status": "completed"
    },
    "tags": []
   },
   "outputs": [
    {
     "data": {
      "text/plain": [
       "'0.0 / 0.05'"
      ]
     },
     "metadata": {},
     "output_type": "display_data"
    }
   ],
   "source": [
    "vmin_val = min(0.00, gene_corrs_quantiles[0.10])\n",
    "vmax_val = max(0.05, gene_corrs_quantiles[0.90])\n",
    "display(f\"{vmin_val} / {vmax_val}\")"
   ]
  },
  {
   "cell_type": "code",
   "execution_count": 43,
   "id": "dc41b70b-5bcc-4d9e-9f33-a22c4a94dab5",
   "metadata": {
    "execution": {
     "iopub.execute_input": "2022-08-30T17:30:38.182358Z",
     "iopub.status.busy": "2022-08-30T17:30:38.182082Z",
     "iopub.status.idle": "2022-08-30T17:30:38.412360Z",
     "shell.execute_reply": "2022-08-30T17:30:38.411908Z"
    },
    "papermill": {
     "duration": 2.070704,
     "end_time": "2022-08-30T17:30:38.413866",
     "exception": false,
     "start_time": "2022-08-30T17:30:36.343162",
     "status": "completed"
    },
    "tags": []
   },
   "outputs": [
    {
     "data": {
      "text/plain": [
       "Text(0.5, 1.0, 'Gene correlations in chromosome 16')"
      ]
     },
     "execution_count": 43,
     "metadata": {},
     "output_type": "execute_result"
    },
    {
     "data": {
      "image/png": "[encoded data removed]",
      "text/plain": [
       "<Figure size 720x720 with 2 Axes>"
      ]
     },
     "metadata": {
      "needs_background": "light"
     },
     "output_type": "display_data"
    }
   ],
   "source": [
    "f, ax = plt.subplots(figsize=(10, 10))\n",
    "sns.heatmap(\n",
    "    gene_corrs_df,\n",
    "    xticklabels=False,\n",
    "    yticklabels=False,\n",
    "    square=True,\n",
    "    vmin=vmin_val,\n",
    "    vmax=vmax_val,\n",
    "    cmap=\"rocket_r\",\n",
    "    ax=ax,\n",
    ")\n",
    "ax.set_title(f\"Gene correlations in chromosome {CHROMOSOME}\")"
   ]
  },
  {
   "cell_type": "code",
   "execution_count": null,
   "id": "b25e3ead",
   "metadata": {
    "papermill": {
     "duration": 1.841565,
     "end_time": "2022-08-30T17:30:42.002089",
     "exception": false,
     "start_time": "2022-08-30T17:30:40.160524",
     "status": "completed"
    },
    "tags": []
   },
   "outputs": [],
   "source": []
  }
 ],
 "metadata": {
  "jupytext": {
   "cell_metadata_filter": "all,-execution,-papermill,-trusted",
   "formats": "ipynb,py//py:percent"
  },
  "kernelspec": {
   "display_name": "Python 3 (ipykernel)",
   "language": "python",
   "name": "python3"
  },
  "language_info": {
   "codemirror_mode": {
    "name": "ipython",
    "version": 3
   },
   "file_extension": ".py",
   "mimetype": "text/x-python",
   "name": "python",
   "nbconvert_exporter": "python",
   "pygments_lexer": "ipython3",
   "version": "3.8.13"
  },
  "papermill": {
   "default_parameters": {},
   "duration": 2353.645565,
   "end_time": "2022-08-30T17:30:46.739943",
   "environment_variables": {},
   "exception": null,
   "input_path": "nbs/15_gsa_gls/10-gene_expr_correlations.ipynb",
   "output_path": "nbs/15_gsa_gls/gene_corrs/cohorts/emerge/gtex_v8/mashr/10-gene_expr_corrs/10-gene_expr_correlations-chr16.run.ipynb",
   "parameters": {
    "CHROMOSOME": 16,
    "COHORT_NAME": "emerge",
    "EQTL_MODEL": "MASHR",
    "REFERENCE_PANEL": "GTEX_V8"
   },
   "start_time": "2022-08-30T16:51:33.094378",
   "version": "2.2.2"
  }
 },
 "nbformat": 4,
 "nbformat_minor": 5
}
