{
 "cells": [
  {
   "cell_type": "markdown",
   "id": "7a6632fb",
   "metadata": {
    "papermill": {
     "duration": 0.019395,
     "end_time": "2022-08-30T16:51:35.487603",
     "exception": false,
     "start_time": "2022-08-30T16:51:35.468208",
     "status": "completed"
    },
    "tags": []
   },
   "source": [
    "# Description"
   ]
  },
  {
   "cell_type": "markdown",
   "id": "7097c346",
   "metadata": {
    "papermill": {
     "duration": 0.014788,
     "end_time": "2022-08-30T16:51:35.518580",
     "exception": false,
     "start_time": "2022-08-30T16:51:35.503792",
     "status": "completed"
    },
    "tags": []
   },
   "source": [
    "(Please, take a look at the README.md file in this directory for instructions on how to run this notebook)\n",
    "\n",
    "This notebook computes predicted expression correlations between all genes in the MultiPLIER models.\n",
    "\n",
    "It also has a parameter set for papermill to run on a single chromosome to run in parallel (see under `Settings` below).\n",
    "\n",
    "This notebook is not directly run. See README.md."
   ]
  },
  {
   "cell_type": "markdown",
   "id": "c61d8427",
   "metadata": {
    "papermill": {
     "duration": 0.013827,
     "end_time": "2022-08-30T16:51:35.546301",
     "exception": false,
     "start_time": "2022-08-30T16:51:35.532474",
     "status": "completed"
    },
    "tags": []
   },
   "source": [
    "# Modules"
   ]
  },
  {
   "cell_type": "code",
   "execution_count": 1,
   "id": "bbc0234f",
   "metadata": {
    "execution": {
     "iopub.execute_input": "2022-08-30T16:51:35.574988Z",
     "iopub.status.busy": "2022-08-30T16:51:35.574612Z",
     "iopub.status.idle": "2022-08-30T16:51:35.602157Z",
     "shell.execute_reply": "2022-08-30T16:51:35.601363Z"
    },
    "papermill": {
     "duration": 0.045174,
     "end_time": "2022-08-30T16:51:35.604918",
     "exception": false,
     "start_time": "2022-08-30T16:51:35.559744",
     "status": "completed"
    },
    "tags": []
   },
   "outputs": [],
   "source": [
    "%load_ext autoreload\n",
    "%autoreload 2"
   ]
  },
  {
   "cell_type": "code",
   "execution_count": 2,
   "id": "1d5f5a59",
   "metadata": {
    "execution": {
     "iopub.execute_input": "2022-08-30T16:51:35.630816Z",
     "iopub.status.busy": "2022-08-30T16:51:35.630517Z",
     "iopub.status.idle": "2022-08-30T16:51:38.174655Z",
     "shell.execute_reply": "2022-08-30T16:51:38.173907Z"
    },
    "papermill": {
     "duration": 2.55926,
     "end_time": "2022-08-30T16:51:38.176579",
     "exception": false,
     "start_time": "2022-08-30T16:51:35.617319",
     "status": "completed"
    },
    "tags": []
   },
   "outputs": [],
   "source": [
    "from random import sample, seed\n",
    "import warnings\n",
    "from pathlib import Path\n",
    "import pickle\n",
    "import traceback\n",
    "\n",
    "import numpy as np\n",
    "from scipy.spatial.distance import squareform\n",
    "import pandas as pd\n",
    "from tqdm import tqdm\n",
    "import matplotlib.pyplot as plt\n",
    "import seaborn as sns\n",
    "\n",
    "import conf\n",
    "from entity import Gene"
   ]
  },
  {
   "cell_type": "markdown",
   "id": "1eac24b5",
   "metadata": {
    "papermill": {
     "duration": 0.032628,
     "end_time": "2022-08-30T16:51:38.221697",
     "exception": false,
     "start_time": "2022-08-30T16:51:38.189069",
     "status": "completed"
    },
    "tags": []
   },
   "source": [
    "# Settings"
   ]
  },
  {
   "cell_type": "code",
   "execution_count": 3,
   "id": "ca4560ba",
   "metadata": {
    "execution": {
     "iopub.execute_input": "2022-08-30T16:51:38.239776Z",
     "iopub.status.busy": "2022-08-30T16:51:38.239501Z",
     "iopub.status.idle": "2022-08-30T16:51:38.258351Z",
     "shell.execute_reply": "2022-08-30T16:51:38.257693Z"
    },
    "papermill": {
     "duration": 0.029936,
     "end_time": "2022-08-30T16:51:38.259905",
     "exception": false,
     "start_time": "2022-08-30T16:51:38.229969",
     "status": "completed"
    },
    "tags": [
     "parameters"
    ]
   },
   "outputs": [],
   "source": [
    "# a cohort name (it could be something like UK_BIOBANK, etc)\n",
    "COHORT_NAME = None\n",
    "\n",
    "# reference panel such as 1000G or GTEX_V8\n",
    "REFERENCE_PANEL = None\n",
    "\n",
    "# predictions models such as MASHR or ELASTIC_NET\n",
    "EQTL_MODEL = None\n",
    "\n",
    "# this is the default value used in S-MultiXcan to select the\n",
    "# top principal components of the expression correlation matrix\n",
    "SMULTIXCAN_CONDITION_NUMBER = 30\n",
    "\n",
    "# specifies a single chromosome value\n",
    "CHROMOSOME = None\n",
    "\n",
    "# If True, computes the correlation between closeby genes only;\n",
    "# otherwise, it computes correlations for all genes in a chromosome\n",
    "COMPUTE_CORRELATIONS_WITHIN_DISTANCE = False\n",
    "\n",
    "# if True, then it will continue if a gene pair correlation fails,\n",
    "# printing the warning/error for debugging. If False, any warning/error\n",
    "# will be thrown\n",
    "DEBUG_MODE = False"
   ]
  },
  {
   "cell_type": "code",
   "execution_count": 4,
   "id": "ce607941",
   "metadata": {
    "execution": {
     "iopub.execute_input": "2022-08-30T16:51:38.278812Z",
     "iopub.status.busy": "2022-08-30T16:51:38.278619Z",
     "iopub.status.idle": "2022-08-30T16:51:38.294809Z",
     "shell.execute_reply": "2022-08-30T16:51:38.294078Z"
    },
    "papermill": {
     "duration": 0.026524,
     "end_time": "2022-08-30T16:51:38.296347",
     "exception": false,
     "start_time": "2022-08-30T16:51:38.269823",
     "status": "completed"
    },
    "tags": [
     "injected-parameters"
    ]
   },
   "outputs": [],
   "source": [
    "# Parameters\n",
    "COHORT_NAME = \"emerge\"\n",
    "REFERENCE_PANEL = \"GTEX_V8\"\n",
    "EQTL_MODEL = \"MASHR\"\n",
    "CHROMOSOME = 9\n"
   ]
  },
  {
   "cell_type": "code",
   "execution_count": 5,
   "id": "3190631f-27fc-480f-b18e-571d580425a5",
   "metadata": {
    "execution": {
     "iopub.execute_input": "2022-08-30T16:51:38.315427Z",
     "iopub.status.busy": "2022-08-30T16:51:38.315235Z",
     "iopub.status.idle": "2022-08-30T16:51:38.334412Z",
     "shell.execute_reply": "2022-08-30T16:51:38.333808Z"
    },
    "papermill": {
     "duration": 0.030379,
     "end_time": "2022-08-30T16:51:38.335862",
     "exception": false,
     "start_time": "2022-08-30T16:51:38.305483",
     "status": "completed"
    },
    "tags": []
   },
   "outputs": [
    {
     "data": {
      "text/plain": [
       "'Cohort name: emerge'"
      ]
     },
     "metadata": {},
     "output_type": "display_data"
    }
   ],
   "source": [
    "assert COHORT_NAME is not None and len(COHORT_NAME) > 0, \"A cohort name must be given\"\n",
    "\n",
    "COHORT_NAME = COHORT_NAME.lower()\n",
    "display(f\"Cohort name: {COHORT_NAME}\")"
   ]
  },
  {
   "cell_type": "code",
   "execution_count": 6,
   "id": "f53ba19b-0f93-4fa2-a047-63b375939d1a",
   "metadata": {
    "execution": {
     "iopub.execute_input": "2022-08-30T16:51:38.356580Z",
     "iopub.status.busy": "2022-08-30T16:51:38.356382Z",
     "iopub.status.idle": "2022-08-30T16:51:38.373948Z",
     "shell.execute_reply": "2022-08-30T16:51:38.373188Z"
    },
    "papermill": {
     "duration": 0.02934,
     "end_time": "2022-08-30T16:51:38.375477",
     "exception": false,
     "start_time": "2022-08-30T16:51:38.346137",
     "status": "completed"
    },
    "tags": []
   },
   "outputs": [
    {
     "data": {
      "text/plain": [
       "'Reference panel: GTEX_V8'"
      ]
     },
     "metadata": {},
     "output_type": "display_data"
    }
   ],
   "source": [
    "assert (\n",
    "    REFERENCE_PANEL is not None and len(REFERENCE_PANEL) > 0\n",
    "), \"A reference panel must be given\"\n",
    "\n",
    "display(f\"Reference panel: {REFERENCE_PANEL}\")"
   ]
  },
  {
   "cell_type": "code",
   "execution_count": 7,
   "id": "e024d130-c139-429a-9c6e-ccf149e297b0",
   "metadata": {
    "execution": {
     "iopub.execute_input": "2022-08-30T16:51:38.405639Z",
     "iopub.status.busy": "2022-08-30T16:51:38.405436Z",
     "iopub.status.idle": "2022-08-30T16:51:38.423205Z",
     "shell.execute_reply": "2022-08-30T16:51:38.422599Z"
    },
    "papermill": {
     "duration": 0.038327,
     "end_time": "2022-08-30T16:51:38.424743",
     "exception": false,
     "start_time": "2022-08-30T16:51:38.386416",
     "status": "completed"
    },
    "tags": []
   },
   "outputs": [
    {
     "data": {
      "text/plain": [
       "'eQTL model: MASHR) / mashr_'"
      ]
     },
     "metadata": {},
     "output_type": "display_data"
    }
   ],
   "source": [
    "assert (\n",
    "    EQTL_MODEL is not None and len(EQTL_MODEL) > 0\n",
    "), \"A prediction/eQTL model must be given\"\n",
    "\n",
    "EQTL_MODEL_FILES_PREFIX = conf.PHENOMEXCAN[\"PREDICTION_MODELS\"][f\"{EQTL_MODEL}_PREFIX\"]\n",
    "display(f\"eQTL model: {EQTL_MODEL}) / {EQTL_MODEL_FILES_PREFIX}\")"
   ]
  },
  {
   "cell_type": "code",
   "execution_count": 8,
   "id": "552a7f63-a18c-4d3e-bb6a-94f99b431291",
   "metadata": {
    "execution": {
     "iopub.execute_input": "2022-08-30T16:51:38.444658Z",
     "iopub.status.busy": "2022-08-30T16:51:38.444444Z",
     "iopub.status.idle": "2022-08-30T16:51:38.461850Z",
     "shell.execute_reply": "2022-08-30T16:51:38.461242Z"
    },
    "papermill": {
     "duration": 0.028789,
     "end_time": "2022-08-30T16:51:38.463385",
     "exception": false,
     "start_time": "2022-08-30T16:51:38.434596",
     "status": "completed"
    },
    "tags": []
   },
   "outputs": [
    {
     "data": {
      "text/plain": [
       "'S-MultiXcan condition number: 30'"
      ]
     },
     "metadata": {},
     "output_type": "display_data"
    }
   ],
   "source": [
    "assert (\n",
    "    SMULTIXCAN_CONDITION_NUMBER is not None and SMULTIXCAN_CONDITION_NUMBER > 0\n",
    "), \"The S-MultiXcan condition number (positive integer) must be given\"\n",
    "\n",
    "display(f\"S-MultiXcan condition number: {SMULTIXCAN_CONDITION_NUMBER}\")"
   ]
  },
  {
   "cell_type": "code",
   "execution_count": 9,
   "id": "f34a336f-548e-4afe-8955-90eaea4f42c6",
   "metadata": {
    "execution": {
     "iopub.execute_input": "2022-08-30T16:51:38.487997Z",
     "iopub.status.busy": "2022-08-30T16:51:38.487792Z",
     "iopub.status.idle": "2022-08-30T16:51:38.505163Z",
     "shell.execute_reply": "2022-08-30T16:51:38.504651Z"
    },
    "papermill": {
     "duration": 0.029927,
     "end_time": "2022-08-30T16:51:38.506598",
     "exception": false,
     "start_time": "2022-08-30T16:51:38.476671",
     "status": "completed"
    },
    "tags": []
   },
   "outputs": [
    {
     "data": {
      "text/plain": [
       "'Working on chromosome 9'"
      ]
     },
     "metadata": {},
     "output_type": "display_data"
    }
   ],
   "source": [
    "assert CHROMOSOME is not None and (\n",
    "    1 <= CHROMOSOME <= 22\n",
    "), \"You have to select one chromosome (format: number between 1 and 22)\"\n",
    "\n",
    "# CHROMOSOME = str(CHROMOSOME)\n",
    "display(f\"Working on chromosome {CHROMOSOME}\")"
   ]
  },
  {
   "cell_type": "code",
   "execution_count": 10,
   "id": "ab8e96e8-06b5-4363-9dcd-dc4d78cc27f7",
   "metadata": {
    "execution": {
     "iopub.execute_input": "2022-08-30T16:51:38.533997Z",
     "iopub.status.busy": "2022-08-30T16:51:38.533792Z",
     "iopub.status.idle": "2022-08-30T16:51:38.551278Z",
     "shell.execute_reply": "2022-08-30T16:51:38.550640Z"
    },
    "papermill": {
     "duration": 0.034153,
     "end_time": "2022-08-30T16:51:38.552823",
     "exception": false,
     "start_time": "2022-08-30T16:51:38.518670",
     "status": "completed"
    },
    "tags": []
   },
   "outputs": [
    {
     "data": {
      "text/plain": [
       "'Compute correlation within distance False'"
      ]
     },
     "metadata": {},
     "output_type": "display_data"
    }
   ],
   "source": [
    "display(f\"Compute correlation within distance {COMPUTE_CORRELATIONS_WITHIN_DISTANCE}\")"
   ]
  },
  {
   "cell_type": "code",
   "execution_count": 11,
   "id": "396392dc-0340-4540-9b02-e182b833f909",
   "metadata": {
    "execution": {
     "iopub.execute_input": "2022-08-30T16:51:38.582062Z",
     "iopub.status.busy": "2022-08-30T16:51:38.581857Z",
     "iopub.status.idle": "2022-08-30T16:51:38.618148Z",
     "shell.execute_reply": "2022-08-30T16:51:38.617463Z"
    },
    "papermill": {
     "duration": 0.050354,
     "end_time": "2022-08-30T16:51:38.620030",
     "exception": false,
     "start_time": "2022-08-30T16:51:38.569676",
     "status": "completed"
    },
    "tags": []
   },
   "outputs": [
    {
     "data": {
      "text/plain": [
       "'Using output dir base: /project/ritchie20/projects/phenoplier/base/results/gls/gene_corrs/cohorts/emerge/gtex_v8/mashr'"
      ]
     },
     "metadata": {},
     "output_type": "display_data"
    }
   ],
   "source": [
    "OUTPUT_DIR_BASE = (\n",
    "    conf.RESULTS[\"GLS\"]\n",
    "    / \"gene_corrs\"\n",
    "    / \"cohorts\"\n",
    "    / COHORT_NAME\n",
    "    / REFERENCE_PANEL.lower()\n",
    "    / EQTL_MODEL.lower()\n",
    ")\n",
    "OUTPUT_DIR_BASE.mkdir(parents=True, exist_ok=True)\n",
    "\n",
    "display(f\"Using output dir base: {OUTPUT_DIR_BASE}\")"
   ]
  },
  {
   "cell_type": "markdown",
   "id": "d2ba085e",
   "metadata": {
    "papermill": {
     "duration": 0.013268,
     "end_time": "2022-08-30T16:51:38.647422",
     "exception": false,
     "start_time": "2022-08-30T16:51:38.634154",
     "status": "completed"
    },
    "tags": []
   },
   "source": [
    "# Load data"
   ]
  },
  {
   "cell_type": "markdown",
   "id": "7dcb8db7",
   "metadata": {
    "papermill": {
     "duration": 0.025235,
     "end_time": "2022-08-30T16:51:38.696427",
     "exception": false,
     "start_time": "2022-08-30T16:51:38.671192",
     "status": "completed"
    },
    "tags": []
   },
   "source": [
    "## GWAS variants"
   ]
  },
  {
   "cell_type": "code",
   "execution_count": 12,
   "id": "29434c4e-8cd3-4b9b-82e4-b5a251d9dd19",
   "metadata": {
    "execution": {
     "iopub.execute_input": "2022-08-30T16:51:38.763170Z",
     "iopub.status.busy": "2022-08-30T16:51:38.762748Z",
     "iopub.status.idle": "2022-08-30T16:51:41.100509Z",
     "shell.execute_reply": "2022-08-30T16:51:41.099937Z"
    },
    "papermill": {
     "duration": 2.383428,
     "end_time": "2022-08-30T16:51:41.102395",
     "exception": false,
     "start_time": "2022-08-30T16:51:38.718967",
     "status": "completed"
    },
    "tags": []
   },
   "outputs": [],
   "source": [
    "with open(OUTPUT_DIR_BASE / \"gwas_variant_ids.pkl\", \"rb\") as handle:\n",
    "    gwas_variants_ids_set = pickle.load(handle)"
   ]
  },
  {
   "cell_type": "code",
   "execution_count": 13,
   "id": "b9d9dec2-4a76-4bf9-bde2-e24c95acb8a0",
   "metadata": {
    "execution": {
     "iopub.execute_input": "2022-08-30T16:51:41.131430Z",
     "iopub.status.busy": "2022-08-30T16:51:41.131231Z",
     "iopub.status.idle": "2022-08-30T16:51:41.150883Z",
     "shell.execute_reply": "2022-08-30T16:51:41.150273Z"
    },
    "papermill": {
     "duration": 0.031158,
     "end_time": "2022-08-30T16:51:41.152307",
     "exception": false,
     "start_time": "2022-08-30T16:51:41.121149",
     "status": "completed"
    },
    "tags": []
   },
   "outputs": [
    {
     "data": {
      "text/plain": [
       "8376508"
      ]
     },
     "execution_count": 13,
     "metadata": {},
     "output_type": "execute_result"
    }
   ],
   "source": [
    "len(gwas_variants_ids_set)"
   ]
  },
  {
   "cell_type": "code",
   "execution_count": 14,
   "id": "4235b06a-6034-4ee4-a0a3-2ae35d122418",
   "metadata": {
    "execution": {
     "iopub.execute_input": "2022-08-30T16:51:41.175008Z",
     "iopub.status.busy": "2022-08-30T16:51:41.174816Z",
     "iopub.status.idle": "2022-08-30T16:51:41.771280Z",
     "shell.execute_reply": "2022-08-30T16:51:41.770500Z"
    },
    "papermill": {
     "duration": 0.610412,
     "end_time": "2022-08-30T16:51:41.772998",
     "exception": false,
     "start_time": "2022-08-30T16:51:41.162586",
     "status": "completed"
    },
    "tags": []
   },
   "outputs": [
    {
     "data": {
      "text/plain": [
       "['chr17_51955407_C_G_b38',\n",
       " 'chr4_87056558_G_A_b38',\n",
       " 'chr12_32602919_T_A_b38',\n",
       " 'chr4_111489199_A_G_b38',\n",
       " 'chr8_23250893_A_G_b38']"
      ]
     },
     "execution_count": 14,
     "metadata": {},
     "output_type": "execute_result"
    }
   ],
   "source": [
    "list(gwas_variants_ids_set)[:5]"
   ]
  },
  {
   "cell_type": "markdown",
   "id": "07866999-2305-41f9-a144-e69c9122c212",
   "metadata": {
    "papermill": {
     "duration": 0.012621,
     "end_time": "2022-08-30T16:51:41.804339",
     "exception": false,
     "start_time": "2022-08-30T16:51:41.791718",
     "status": "completed"
    },
    "tags": []
   },
   "source": [
    "## S-PrediXcan tissue models"
   ]
  },
  {
   "cell_type": "code",
   "execution_count": 15,
   "id": "780611d9-77c8-405f-90a4-f271f7b09397",
   "metadata": {
    "execution": {
     "iopub.execute_input": "2022-08-30T16:51:41.829915Z",
     "iopub.status.busy": "2022-08-30T16:51:41.829693Z",
     "iopub.status.idle": "2022-08-30T16:51:42.770241Z",
     "shell.execute_reply": "2022-08-30T16:51:42.769680Z"
    },
    "papermill": {
     "duration": 0.954084,
     "end_time": "2022-08-30T16:51:42.772157",
     "exception": false,
     "start_time": "2022-08-30T16:51:41.818073",
     "status": "completed"
    },
    "tags": []
   },
   "outputs": [],
   "source": [
    "spredixcan_genes_models = pd.read_pickle(OUTPUT_DIR_BASE / \"gene_tissues.pkl\")"
   ]
  },
  {
   "cell_type": "code",
   "execution_count": 16,
   "id": "726dd1f6-9557-4225-91fa-b3b879ea96e1",
   "metadata": {
    "execution": {
     "iopub.execute_input": "2022-08-30T16:51:42.792779Z",
     "iopub.status.busy": "2022-08-30T16:51:42.792554Z",
     "iopub.status.idle": "2022-08-30T16:51:42.812252Z",
     "shell.execute_reply": "2022-08-30T16:51:42.811554Z"
    },
    "papermill": {
     "duration": 0.031689,
     "end_time": "2022-08-30T16:51:42.813790",
     "exception": false,
     "start_time": "2022-08-30T16:51:42.782101",
     "status": "completed"
    },
    "tags": []
   },
   "outputs": [
    {
     "data": {
      "text/plain": [
       "(6425, 3)"
      ]
     },
     "execution_count": 16,
     "metadata": {},
     "output_type": "execute_result"
    }
   ],
   "source": [
    "spredixcan_genes_models.shape"
   ]
  },
  {
   "cell_type": "code",
   "execution_count": 17,
   "id": "944a1b48-222c-4eb0-b252-b9de2cbca215",
   "metadata": {
    "execution": {
     "iopub.execute_input": "2022-08-30T16:51:42.836244Z",
     "iopub.status.busy": "2022-08-30T16:51:42.836053Z",
     "iopub.status.idle": "2022-08-30T16:51:42.861477Z",
     "shell.execute_reply": "2022-08-30T16:51:42.860988Z"
    },
    "papermill": {
     "duration": 0.040018,
     "end_time": "2022-08-30T16:51:42.862947",
     "exception": false,
     "start_time": "2022-08-30T16:51:42.822929",
     "status": "completed"
    },
    "tags": []
   },
   "outputs": [
    {
     "data": {
      "text/html": [
       "<div>\n",
       "<style scoped>\n",
       "    .dataframe tbody tr th:only-of-type {\n",
       "        vertical-align: middle;\n",
       "    }\n",
       "\n",
       "    .dataframe tbody tr th {\n",
       "        vertical-align: top;\n",
       "    }\n",
       "\n",
       "    .dataframe thead th {\n",
       "        text-align: right;\n",
       "    }\n",
       "</style>\n",
       "<table border=\"1\" class=\"dataframe\">\n",
       "  <thead>\n",
       "    <tr style=\"text-align: right;\">\n",
       "      <th></th>\n",
       "      <th>gene_name</th>\n",
       "      <th>tissue</th>\n",
       "      <th>n_tissues</th>\n",
       "    </tr>\n",
       "    <tr>\n",
       "      <th>gene_id</th>\n",
       "      <th></th>\n",
       "      <th></th>\n",
       "      <th></th>\n",
       "    </tr>\n",
       "  </thead>\n",
       "  <tbody>\n",
       "    <tr>\n",
       "      <th>ENSG00000000419</th>\n",
       "      <td>DPM1</td>\n",
       "      <td>(Brain_Substantia_nigra, Brain_Hypothalamus)</td>\n",
       "      <td>2</td>\n",
       "    </tr>\n",
       "    <tr>\n",
       "      <th>ENSG00000000938</th>\n",
       "      <td>FGR</td>\n",
       "      <td>(Nerve_Tibial, Brain_Frontal_Cortex_BA9, Esoph...</td>\n",
       "      <td>26</td>\n",
       "    </tr>\n",
       "    <tr>\n",
       "      <th>ENSG00000000971</th>\n",
       "      <td>CFH</td>\n",
       "      <td>(Nerve_Tibial, Brain_Frontal_Cortex_BA9, Heart...</td>\n",
       "      <td>34</td>\n",
       "    </tr>\n",
       "    <tr>\n",
       "      <th>ENSG00000001084</th>\n",
       "      <td>GCLC</td>\n",
       "      <td>(Nerve_Tibial, Brain_Frontal_Cortex_BA9, Heart...</td>\n",
       "      <td>32</td>\n",
       "    </tr>\n",
       "    <tr>\n",
       "      <th>ENSG00000001167</th>\n",
       "      <td>NFYA</td>\n",
       "      <td>(Nerve_Tibial, Esophagus_Mucosa, Heart_Left_Ve...</td>\n",
       "      <td>40</td>\n",
       "    </tr>\n",
       "  </tbody>\n",
       "</table>\n",
       "</div>"
      ],
      "text/plain": [
       "                gene_name                                             tissue  \\\n",
       "gene_id                                                                        \n",
       "ENSG00000000419      DPM1       (Brain_Substantia_nigra, Brain_Hypothalamus)   \n",
       "ENSG00000000938       FGR  (Nerve_Tibial, Brain_Frontal_Cortex_BA9, Esoph...   \n",
       "ENSG00000000971       CFH  (Nerve_Tibial, Brain_Frontal_Cortex_BA9, Heart...   \n",
       "ENSG00000001084      GCLC  (Nerve_Tibial, Brain_Frontal_Cortex_BA9, Heart...   \n",
       "ENSG00000001167      NFYA  (Nerve_Tibial, Esophagus_Mucosa, Heart_Left_Ve...   \n",
       "\n",
       "                 n_tissues  \n",
       "gene_id                     \n",
       "ENSG00000000419          2  \n",
       "ENSG00000000938         26  \n",
       "ENSG00000000971         34  \n",
       "ENSG00000001084         32  \n",
       "ENSG00000001167         40  "
      ]
     },
     "execution_count": 17,
     "metadata": {},
     "output_type": "execute_result"
    }
   ],
   "source": [
    "spredixcan_genes_models.head()"
   ]
  },
  {
   "cell_type": "code",
   "execution_count": 18,
   "id": "d1c11bb1-be0b-4f40-b360-633d6827109f",
   "metadata": {
    "execution": {
     "iopub.execute_input": "2022-08-30T16:51:42.886085Z",
     "iopub.status.busy": "2022-08-30T16:51:42.885893Z",
     "iopub.status.idle": "2022-08-30T16:51:42.902165Z",
     "shell.execute_reply": "2022-08-30T16:51:42.901683Z"
    },
    "papermill": {
     "duration": 0.030249,
     "end_time": "2022-08-30T16:51:42.903704",
     "exception": false,
     "start_time": "2022-08-30T16:51:42.873455",
     "status": "completed"
    },
    "tags": []
   },
   "outputs": [],
   "source": [
    "assert spredixcan_genes_models.index.is_unique"
   ]
  },
  {
   "cell_type": "markdown",
   "id": "a5b5092c-a13e-47c4-a92a-480fcc08f3ae",
   "metadata": {
    "papermill": {
     "duration": 0.009478,
     "end_time": "2022-08-30T16:51:42.925112",
     "exception": false,
     "start_time": "2022-08-30T16:51:42.915634",
     "status": "completed"
    },
    "tags": []
   },
   "source": [
    "## Gene info"
   ]
  },
  {
   "cell_type": "code",
   "execution_count": 19,
   "id": "7d6bb224-88e9-4358-ac10-43a41d92cdad",
   "metadata": {
    "execution": {
     "iopub.execute_input": "2022-08-30T16:51:42.944935Z",
     "iopub.status.busy": "2022-08-30T16:51:42.944741Z",
     "iopub.status.idle": "2022-08-30T16:51:42.968128Z",
     "shell.execute_reply": "2022-08-30T16:51:42.967537Z"
    },
    "papermill": {
     "duration": 0.035231,
     "end_time": "2022-08-30T16:51:42.969690",
     "exception": false,
     "start_time": "2022-08-30T16:51:42.934459",
     "status": "completed"
    },
    "tags": []
   },
   "outputs": [],
   "source": [
    "genes_info = pd.read_pickle(OUTPUT_DIR_BASE / \"genes_info.pkl\")"
   ]
  },
  {
   "cell_type": "code",
   "execution_count": 20,
   "id": "9e32abfa-546d-483e-8c18-d526e9e05903",
   "metadata": {
    "execution": {
     "iopub.execute_input": "2022-08-30T16:51:42.993156Z",
     "iopub.status.busy": "2022-08-30T16:51:42.992964Z",
     "iopub.status.idle": "2022-08-30T16:51:43.010651Z",
     "shell.execute_reply": "2022-08-30T16:51:43.009892Z"
    },
    "papermill": {
     "duration": 0.030494,
     "end_time": "2022-08-30T16:51:43.012170",
     "exception": false,
     "start_time": "2022-08-30T16:51:42.981676",
     "status": "completed"
    },
    "tags": []
   },
   "outputs": [
    {
     "data": {
      "text/plain": [
       "(6425, 7)"
      ]
     },
     "execution_count": 20,
     "metadata": {},
     "output_type": "execute_result"
    }
   ],
   "source": [
    "genes_info.shape"
   ]
  },
  {
   "cell_type": "code",
   "execution_count": 21,
   "id": "d16c3e92-85ec-468a-9a56-e25a9774a1cb",
   "metadata": {
    "execution": {
     "iopub.execute_input": "2022-08-30T16:51:43.035328Z",
     "iopub.status.busy": "2022-08-30T16:51:43.035135Z",
     "iopub.status.idle": "2022-08-30T16:51:43.056856Z",
     "shell.execute_reply": "2022-08-30T16:51:43.056192Z"
    },
    "papermill": {
     "duration": 0.035743,
     "end_time": "2022-08-30T16:51:43.058392",
     "exception": false,
     "start_time": "2022-08-30T16:51:43.022649",
     "status": "completed"
    },
    "tags": []
   },
   "outputs": [
    {
     "data": {
      "text/html": [
       "<div>\n",
       "<style scoped>\n",
       "    .dataframe tbody tr th:only-of-type {\n",
       "        vertical-align: middle;\n",
       "    }\n",
       "\n",
       "    .dataframe tbody tr th {\n",
       "        vertical-align: top;\n",
       "    }\n",
       "\n",
       "    .dataframe thead th {\n",
       "        text-align: right;\n",
       "    }\n",
       "</style>\n",
       "<table border=\"1\" class=\"dataframe\">\n",
       "  <thead>\n",
       "    <tr style=\"text-align: right;\">\n",
       "      <th></th>\n",
       "      <th>name</th>\n",
       "      <th>id</th>\n",
       "      <th>chr</th>\n",
       "      <th>band</th>\n",
       "      <th>start_position</th>\n",
       "      <th>end_position</th>\n",
       "      <th>gene_length</th>\n",
       "    </tr>\n",
       "  </thead>\n",
       "  <tbody>\n",
       "    <tr>\n",
       "      <th>0</th>\n",
       "      <td>ADAMTS14</td>\n",
       "      <td>ENSG00000138316</td>\n",
       "      <td>10</td>\n",
       "      <td>10q22.1</td>\n",
       "      <td>70672506</td>\n",
       "      <td>70762441</td>\n",
       "      <td>89935</td>\n",
       "    </tr>\n",
       "    <tr>\n",
       "      <th>1</th>\n",
       "      <td>TXN</td>\n",
       "      <td>ENSG00000136810</td>\n",
       "      <td>9</td>\n",
       "      <td>9q31.3</td>\n",
       "      <td>110243810</td>\n",
       "      <td>110256507</td>\n",
       "      <td>12697</td>\n",
       "    </tr>\n",
       "    <tr>\n",
       "      <th>2</th>\n",
       "      <td>RMI1</td>\n",
       "      <td>ENSG00000178966</td>\n",
       "      <td>9</td>\n",
       "      <td>9q21.32</td>\n",
       "      <td>83980711</td>\n",
       "      <td>84004074</td>\n",
       "      <td>23363</td>\n",
       "    </tr>\n",
       "    <tr>\n",
       "      <th>3</th>\n",
       "      <td>DHX58</td>\n",
       "      <td>ENSG00000108771</td>\n",
       "      <td>17</td>\n",
       "      <td>17q21.2</td>\n",
       "      <td>42101404</td>\n",
       "      <td>42112714</td>\n",
       "      <td>11310</td>\n",
       "    </tr>\n",
       "    <tr>\n",
       "      <th>4</th>\n",
       "      <td>XRCC4</td>\n",
       "      <td>ENSG00000152422</td>\n",
       "      <td>5</td>\n",
       "      <td>5q14.2</td>\n",
       "      <td>83077498</td>\n",
       "      <td>83353787</td>\n",
       "      <td>276289</td>\n",
       "    </tr>\n",
       "  </tbody>\n",
       "</table>\n",
       "</div>"
      ],
      "text/plain": [
       "       name               id  chr     band  start_position  end_position  \\\n",
       "0  ADAMTS14  ENSG00000138316   10  10q22.1        70672506      70762441   \n",
       "1       TXN  ENSG00000136810    9   9q31.3       110243810     110256507   \n",
       "2      RMI1  ENSG00000178966    9  9q21.32        83980711      84004074   \n",
       "3     DHX58  ENSG00000108771   17  17q21.2        42101404      42112714   \n",
       "4     XRCC4  ENSG00000152422    5   5q14.2        83077498      83353787   \n",
       "\n",
       "   gene_length  \n",
       "0        89935  \n",
       "1        12697  \n",
       "2        23363  \n",
       "3        11310  \n",
       "4       276289  "
      ]
     },
     "execution_count": 21,
     "metadata": {},
     "output_type": "execute_result"
    }
   ],
   "source": [
    "genes_info.head()"
   ]
  },
  {
   "cell_type": "markdown",
   "id": "d3843e06",
   "metadata": {
    "papermill": {
     "duration": 0.01027,
     "end_time": "2022-08-30T16:51:43.078592",
     "exception": false,
     "start_time": "2022-08-30T16:51:43.068322",
     "status": "completed"
    },
    "tags": []
   },
   "source": [
    "# Compute correlations"
   ]
  },
  {
   "cell_type": "code",
   "execution_count": 22,
   "id": "cb859c15-d1f3-4006-a74c-2b83c0db9611",
   "metadata": {
    "execution": {
     "iopub.execute_input": "2022-08-30T16:51:43.099477Z",
     "iopub.status.busy": "2022-08-30T16:51:43.099285Z",
     "iopub.status.idle": "2022-08-30T16:51:43.117709Z",
     "shell.execute_reply": "2022-08-30T16:51:43.117083Z"
    },
    "papermill": {
     "duration": 0.030584,
     "end_time": "2022-08-30T16:51:43.119252",
     "exception": false,
     "start_time": "2022-08-30T16:51:43.088668",
     "status": "completed"
    },
    "tags": []
   },
   "outputs": [
    {
     "data": {
      "text/plain": [
       "PosixPath('/project/ritchie20/projects/phenoplier/base/results/gls/gene_corrs/cohorts/emerge/gtex_v8/mashr/by_chr/gene_corrs-chr9.pkl')"
      ]
     },
     "metadata": {},
     "output_type": "display_data"
    }
   ],
   "source": [
    "output_dir = OUTPUT_DIR_BASE / \"by_chr\"\n",
    "output_dir.mkdir(exist_ok=True, parents=True)\n",
    "output_file = output_dir / f\"gene_corrs-chr{CHROMOSOME}.pkl\"\n",
    "display(output_file)"
   ]
  },
  {
   "cell_type": "code",
   "execution_count": 23,
   "id": "aa674fe4-6794-4eed-98fa-32b39d1d4ace",
   "metadata": {
    "execution": {
     "iopub.execute_input": "2022-08-30T16:51:43.142743Z",
     "iopub.status.busy": "2022-08-30T16:51:43.142525Z",
     "iopub.status.idle": "2022-08-30T16:51:43.158155Z",
     "shell.execute_reply": "2022-08-30T16:51:43.157545Z"
    },
    "papermill": {
     "duration": 0.02864,
     "end_time": "2022-08-30T16:51:43.159681",
     "exception": false,
     "start_time": "2022-08-30T16:51:43.131041",
     "status": "completed"
    },
    "tags": []
   },
   "outputs": [],
   "source": [
    "warnings.filterwarnings(\"error\")"
   ]
  },
  {
   "cell_type": "code",
   "execution_count": 24,
   "id": "44d5450b-3baf-43f1-9e2e-4b06f1a785f8",
   "metadata": {
    "execution": {
     "iopub.execute_input": "2022-08-30T16:51:43.185356Z",
     "iopub.status.busy": "2022-08-30T16:51:43.185166Z",
     "iopub.status.idle": "2022-08-30T16:51:43.201489Z",
     "shell.execute_reply": "2022-08-30T16:51:43.200890Z"
    },
    "papermill": {
     "duration": 0.02972,
     "end_time": "2022-08-30T16:51:43.203061",
     "exception": false,
     "start_time": "2022-08-30T16:51:43.173341",
     "status": "completed"
    },
    "tags": []
   },
   "outputs": [],
   "source": [
    "# standard checks\n",
    "all_chrs = genes_info[\"chr\"].dropna().unique()\n",
    "assert all_chrs.shape[0] == 22\n",
    "\n",
    "# select chromosome given by the user\n",
    "assert CHROMOSOME in all_chrs"
   ]
  },
  {
   "cell_type": "code",
   "execution_count": 25,
   "id": "2d7c043c-92a7-4d35-991b-fa69ac1e0268",
   "metadata": {
    "execution": {
     "iopub.execute_input": "2022-08-30T16:51:43.226310Z",
     "iopub.status.busy": "2022-08-30T16:51:43.226119Z",
     "iopub.status.idle": "2022-08-30T16:51:43.264291Z",
     "shell.execute_reply": "2022-08-30T16:51:43.263796Z"
    },
    "papermill": {
     "duration": 0.05172,
     "end_time": "2022-08-30T16:51:43.265877",
     "exception": false,
     "start_time": "2022-08-30T16:51:43.214157",
     "status": "completed"
    },
    "tags": []
   },
   "outputs": [
    {
     "name": "stdout",
     "output_type": "stream",
     "text": [
      "Number of genes in chromosome: 244\n"
     ]
    }
   ],
   "source": [
    "# run only on the chromosome specified\n",
    "all_chrs = [CHROMOSOME]\n",
    "genes_chr = genes_info[genes_info[\"chr\"] == CHROMOSOME]\n",
    "\n",
    "# For testing purposes\n",
    "# genes_chr = genes_chr.sample(n=20)\n",
    "\n",
    "print(f\"Number of genes in chromosome: {genes_chr.shape[0]}\", flush=True)"
   ]
  },
  {
   "cell_type": "code",
   "execution_count": 26,
   "id": "916015d8-2979-46d3-a9b9-1cf5a0932c6a",
   "metadata": {
    "execution": {
     "iopub.execute_input": "2022-08-30T16:51:43.288838Z",
     "iopub.status.busy": "2022-08-30T16:51:43.288635Z",
     "iopub.status.idle": "2022-08-30T16:51:43.304781Z",
     "shell.execute_reply": "2022-08-30T16:51:43.304276Z"
    },
    "papermill": {
     "duration": 0.029535,
     "end_time": "2022-08-30T16:51:43.306319",
     "exception": false,
     "start_time": "2022-08-30T16:51:43.276784",
     "status": "completed"
    },
    "tags": []
   },
   "outputs": [],
   "source": [
    "# sort genes by starting position to make visualizations better later\n",
    "genes_chr = genes_chr.sort_values(\"start_position\")"
   ]
  },
  {
   "cell_type": "code",
   "execution_count": 27,
   "id": "a38aa74a-8ad3-47f6-8ef9-56be0e011774",
   "metadata": {
    "execution": {
     "iopub.execute_input": "2022-08-30T16:51:43.329765Z",
     "iopub.status.busy": "2022-08-30T16:51:43.329572Z",
     "iopub.status.idle": "2022-08-30T16:51:43.345782Z",
     "shell.execute_reply": "2022-08-30T16:51:43.345280Z"
    },
    "papermill": {
     "duration": 0.030388,
     "end_time": "2022-08-30T16:51:43.347495",
     "exception": false,
     "start_time": "2022-08-30T16:51:43.317107",
     "status": "completed"
    },
    "tags": []
   },
   "outputs": [],
   "source": [
    "gene_chr_objs = [Gene(ensembl_id=gene_id) for gene_id in genes_chr[\"id\"]]"
   ]
  },
  {
   "cell_type": "code",
   "execution_count": 28,
   "id": "570f974f-13c3-42b6-ad3a-ce99ca885c1a",
   "metadata": {
    "execution": {
     "iopub.execute_input": "2022-08-30T16:51:43.369360Z",
     "iopub.status.busy": "2022-08-30T16:51:43.369168Z",
     "iopub.status.idle": "2022-08-30T16:51:43.386461Z",
     "shell.execute_reply": "2022-08-30T16:51:43.385914Z"
    },
    "papermill": {
     "duration": 0.030659,
     "end_time": "2022-08-30T16:51:43.388002",
     "exception": false,
     "start_time": "2022-08-30T16:51:43.357343",
     "status": "completed"
    },
    "tags": []
   },
   "outputs": [
    {
     "name": "stdout",
     "output_type": "stream",
     "text": [
      "Number of gene combinations: 29890\n"
     ]
    }
   ],
   "source": [
    "n = len(gene_chr_objs)\n",
    "# diagonal elements + upper triangular matrix\n",
    "n_comb = n + int(n * (n - 1) / 2.0)\n",
    "print(f\"Number of gene combinations: {n_comb}\", flush=True)"
   ]
  },
  {
   "cell_type": "code",
   "execution_count": 29,
   "id": "cdbb90a1",
   "metadata": {
    "execution": {
     "iopub.execute_input": "2022-08-30T16:51:43.410699Z",
     "iopub.status.busy": "2022-08-30T16:51:43.410485Z",
     "iopub.status.idle": "2022-08-30T17:35:57.071907Z",
     "shell.execute_reply": "2022-08-30T17:35:57.071174Z"
    },
    "papermill": {
     "duration": 2653.674484,
     "end_time": "2022-08-30T17:35:57.073609",
     "exception": false,
     "start_time": "2022-08-30T16:51:43.399125",
     "status": "completed"
    },
    "tags": []
   },
   "outputs": [
    {
     "name": "stderr",
     "output_type": "stream",
     "text": [
      "ENSG00000181090 / ENSG00000181090: 100%|██████████████████████| 29890/29890 [44:13<00:00, 11.26it/s]\n"
     ]
    },
    {
     "data": {
      "text/plain": [
       "PosixPath('/project/ritchie20/projects/phenoplier/base/results/gls/gene_corrs/cohorts/emerge/gtex_v8/mashr/by_chr/gene_corrs-chr9.pkl')"
      ]
     },
     "metadata": {},
     "output_type": "display_data"
    }
   ],
   "source": [
    "gene_corrs = []\n",
    "gene_corrs_data = np.full(\n",
    "    (n, n),\n",
    "    np.nan,\n",
    "    dtype=np.float64,\n",
    ")\n",
    "\n",
    "i = 0\n",
    "with tqdm(ncols=100, total=n_comb) as pbar:\n",
    "    for gene1_idx in range(0, len(gene_chr_objs)):\n",
    "        gene1_obj = gene_chr_objs[gene1_idx]\n",
    "        gene1_tissues = spredixcan_genes_models.loc[gene1_obj.ensembl_id, \"tissue\"]\n",
    "\n",
    "        for gene2_idx in range(gene1_idx, len(gene_chr_objs)):\n",
    "            gene2_obj = gene_chr_objs[gene2_idx]\n",
    "            gene2_tissues = spredixcan_genes_models.loc[gene2_obj.ensembl_id, \"tissue\"]\n",
    "\n",
    "            pbar.set_description(f\"{gene1_obj.ensembl_id} / {gene2_obj.ensembl_id}\")\n",
    "\n",
    "            try:\n",
    "                r = gene1_obj.get_ssm_correlation(\n",
    "                    other_gene=gene2_obj,\n",
    "                    tissues=gene1_tissues,\n",
    "                    other_tissues=gene2_tissues,\n",
    "                    snps_subset=gwas_variants_ids_set,\n",
    "                    condition_number=SMULTIXCAN_CONDITION_NUMBER,\n",
    "                    reference_panel=REFERENCE_PANEL,\n",
    "                    model_type=EQTL_MODEL,\n",
    "                    use_within_distance=COMPUTE_CORRELATIONS_WITHIN_DISTANCE,\n",
    "                )\n",
    "\n",
    "                if r is None:\n",
    "                    # if r is None, it's very likely because:\n",
    "                    #  * one of the genes has no prediction models\n",
    "                    #  * all the SNPs predictors for the gene are not present in the reference\n",
    "                    #    panel\n",
    "\n",
    "                    r = 0.0\n",
    "\n",
    "                gene_corrs.append(r)\n",
    "\n",
    "                gene_corrs_data[gene1_idx, gene2_idx] = r\n",
    "                gene_corrs_data[gene2_idx, gene1_idx] = r\n",
    "            except Warning as e:\n",
    "                if not DEBUG_MODE:\n",
    "                    raise e\n",
    "\n",
    "                print(\n",
    "                    f\"RuntimeWarning for genes {gene1_obj.ensembl_id} and {gene2_obj.ensembl_id}\",\n",
    "                    flush=True,\n",
    "                )\n",
    "                print(traceback.format_exc(), flush=True)\n",
    "\n",
    "                gene_corrs.append(np.nan)\n",
    "            except Exception as e:\n",
    "                if not DEBUG_MODE:\n",
    "                    raise e\n",
    "\n",
    "                print(\n",
    "                    f\"Exception for genes {gene1_obj.ensembl_id} and {gene2_obj.ensembl_id}\",\n",
    "                    flush=True,\n",
    "                )\n",
    "                print(traceback.format_exc(), flush=True)\n",
    "\n",
    "                gene_corrs.append(np.nan)\n",
    "\n",
    "            pbar.update(1)\n",
    "\n",
    "# create a pandas series\n",
    "gene_corrs_flat = pd.Series(gene_corrs)\n",
    "\n",
    "# save\n",
    "# FIXME: consider saving only the condenced matrix here. See here for\n",
    "# more details: https://github.com/greenelab/phenoplier/pull/38#discussion_r634600813\n",
    "# gene_corrs_data = squareform(np.array(gene_corrs, dtype=np.float64))\n",
    "# np.fill_diagonal(gene_corrs_data, 1.0)\n",
    "\n",
    "gene_chr_ids = [g.ensembl_id for g in gene_chr_objs]\n",
    "gene_corrs_df = pd.DataFrame(\n",
    "    data=gene_corrs_data,\n",
    "    index=gene_chr_ids,\n",
    "    columns=gene_chr_ids,\n",
    ")\n",
    "\n",
    "output_dir.mkdir(exist_ok=True, parents=True)\n",
    "display(output_file)\n",
    "\n",
    "gene_corrs_df.to_pickle(output_file)"
   ]
  },
  {
   "cell_type": "markdown",
   "id": "faa67b51-5373-470f-aa72-2ded53fa6dfe",
   "metadata": {
    "papermill": {
     "duration": 1.705066,
     "end_time": "2022-08-30T17:36:00.559249",
     "exception": false,
     "start_time": "2022-08-30T17:35:58.854183",
     "status": "completed"
    },
    "tags": []
   },
   "source": [
    "# Testing"
   ]
  },
  {
   "cell_type": "code",
   "execution_count": 30,
   "id": "14f7d046-4b55-4896-a56b-990127bcc388",
   "metadata": {
    "execution": {
     "iopub.execute_input": "2022-08-30T17:36:04.020339Z",
     "iopub.status.busy": "2022-08-30T17:36:04.020075Z",
     "iopub.status.idle": "2022-08-30T17:36:04.314481Z",
     "shell.execute_reply": "2022-08-30T17:36:04.313423Z"
    },
    "papermill": {
     "duration": 2.04377,
     "end_time": "2022-08-30T17:36:04.317698",
     "exception": false,
     "start_time": "2022-08-30T17:36:02.273928",
     "status": "completed"
    },
    "tags": []
   },
   "outputs": [
    {
     "data": {
      "text/plain": [
       "(244, 244)"
      ]
     },
     "execution_count": 30,
     "metadata": {},
     "output_type": "execute_result"
    }
   ],
   "source": [
    "gene_corrs_df.shape"
   ]
  },
  {
   "cell_type": "code",
   "execution_count": 31,
   "id": "c7d15414-3297-4537-a7c6-7588c0baeb75",
   "metadata": {
    "execution": {
     "iopub.execute_input": "2022-08-30T17:36:07.925629Z",
     "iopub.status.busy": "2022-08-30T17:36:07.925354Z",
     "iopub.status.idle": "2022-08-30T17:36:07.959974Z",
     "shell.execute_reply": "2022-08-30T17:36:07.959475Z"
    },
    "papermill": {
     "duration": 1.830267,
     "end_time": "2022-08-30T17:36:07.961405",
     "exception": false,
     "start_time": "2022-08-30T17:36:06.131138",
     "status": "completed"
    },
    "tags": []
   },
   "outputs": [
    {
     "data": {
      "text/html": [
       "<div>\n",
       "<style scoped>\n",
       "    .dataframe tbody tr th:only-of-type {\n",
       "        vertical-align: middle;\n",
       "    }\n",
       "\n",
       "    .dataframe tbody tr th {\n",
       "        vertical-align: top;\n",
       "    }\n",
       "\n",
       "    .dataframe thead th {\n",
       "        text-align: right;\n",
       "    }\n",
       "</style>\n",
       "<table border=\"1\" class=\"dataframe\">\n",
       "  <thead>\n",
       "    <tr style=\"text-align: right;\">\n",
       "      <th></th>\n",
       "      <th>ENSG00000107099</th>\n",
       "      <th>ENSG00000080503</th>\n",
       "      <th>ENSG00000147852</th>\n",
       "      <th>ENSG00000107249</th>\n",
       "      <th>ENSG00000147853</th>\n",
       "      <th>ENSG00000096968</th>\n",
       "      <th>ENSG00000107014</th>\n",
       "      <th>ENSG00000120217</th>\n",
       "      <th>ENSG00000197646</th>\n",
       "      <th>ENSG00000178445</th>\n",
       "      <th>...</th>\n",
       "      <th>ENSG00000107317</th>\n",
       "      <th>ENSG00000169583</th>\n",
       "      <th>ENSG00000107331</th>\n",
       "      <th>ENSG00000054179</th>\n",
       "      <th>ENSG00000177239</th>\n",
       "      <th>ENSG00000176248</th>\n",
       "      <th>ENSG00000176101</th>\n",
       "      <th>ENSG00000188747</th>\n",
       "      <th>ENSG00000182154</th>\n",
       "      <th>ENSG00000181090</th>\n",
       "    </tr>\n",
       "  </thead>\n",
       "  <tbody>\n",
       "    <tr>\n",
       "      <th>ENSG00000107099</th>\n",
       "      <td>1.000000</td>\n",
       "      <td>0.004888</td>\n",
       "      <td>0.014346</td>\n",
       "      <td>0.011179</td>\n",
       "      <td>0.008516</td>\n",
       "      <td>0.010086</td>\n",
       "      <td>0.007350</td>\n",
       "      <td>0.010925</td>\n",
       "      <td>0.003667</td>\n",
       "      <td>0.007955</td>\n",
       "      <td>...</td>\n",
       "      <td>0.006178</td>\n",
       "      <td>0.004963</td>\n",
       "      <td>0.006625</td>\n",
       "      <td>0.010763</td>\n",
       "      <td>0.007247</td>\n",
       "      <td>0.006464</td>\n",
       "      <td>0.005777</td>\n",
       "      <td>0.012972</td>\n",
       "      <td>0.002313</td>\n",
       "      <td>0.003386</td>\n",
       "    </tr>\n",
       "    <tr>\n",
       "      <th>ENSG00000080503</th>\n",
       "      <td>0.004888</td>\n",
       "      <td>1.000000</td>\n",
       "      <td>0.013387</td>\n",
       "      <td>0.009019</td>\n",
       "      <td>0.008423</td>\n",
       "      <td>0.010715</td>\n",
       "      <td>0.006403</td>\n",
       "      <td>0.009085</td>\n",
       "      <td>0.005355</td>\n",
       "      <td>0.011907</td>\n",
       "      <td>...</td>\n",
       "      <td>0.007584</td>\n",
       "      <td>0.010396</td>\n",
       "      <td>0.007528</td>\n",
       "      <td>0.010023</td>\n",
       "      <td>0.007058</td>\n",
       "      <td>0.008733</td>\n",
       "      <td>0.008615</td>\n",
       "      <td>0.007522</td>\n",
       "      <td>0.004690</td>\n",
       "      <td>0.007634</td>\n",
       "    </tr>\n",
       "    <tr>\n",
       "      <th>ENSG00000147852</th>\n",
       "      <td>0.014346</td>\n",
       "      <td>0.013387</td>\n",
       "      <td>1.000000</td>\n",
       "      <td>0.013510</td>\n",
       "      <td>0.014940</td>\n",
       "      <td>0.019684</td>\n",
       "      <td>0.015293</td>\n",
       "      <td>0.019233</td>\n",
       "      <td>0.009658</td>\n",
       "      <td>0.014789</td>\n",
       "      <td>...</td>\n",
       "      <td>0.013755</td>\n",
       "      <td>0.014284</td>\n",
       "      <td>0.012455</td>\n",
       "      <td>0.021487</td>\n",
       "      <td>0.016526</td>\n",
       "      <td>0.011880</td>\n",
       "      <td>0.004817</td>\n",
       "      <td>0.012046</td>\n",
       "      <td>0.008420</td>\n",
       "      <td>0.012126</td>\n",
       "    </tr>\n",
       "    <tr>\n",
       "      <th>ENSG00000107249</th>\n",
       "      <td>0.011179</td>\n",
       "      <td>0.009019</td>\n",
       "      <td>0.013510</td>\n",
       "      <td>1.000000</td>\n",
       "      <td>0.013043</td>\n",
       "      <td>0.012821</td>\n",
       "      <td>0.009166</td>\n",
       "      <td>0.012765</td>\n",
       "      <td>0.004407</td>\n",
       "      <td>0.010986</td>\n",
       "      <td>...</td>\n",
       "      <td>0.011557</td>\n",
       "      <td>0.009929</td>\n",
       "      <td>0.008257</td>\n",
       "      <td>0.011060</td>\n",
       "      <td>0.011360</td>\n",
       "      <td>0.009262</td>\n",
       "      <td>0.004310</td>\n",
       "      <td>0.012206</td>\n",
       "      <td>0.004476</td>\n",
       "      <td>0.006118</td>\n",
       "    </tr>\n",
       "    <tr>\n",
       "      <th>ENSG00000147853</th>\n",
       "      <td>0.008516</td>\n",
       "      <td>0.008423</td>\n",
       "      <td>0.014940</td>\n",
       "      <td>0.013043</td>\n",
       "      <td>1.000000</td>\n",
       "      <td>0.035341</td>\n",
       "      <td>0.010092</td>\n",
       "      <td>0.014017</td>\n",
       "      <td>0.008673</td>\n",
       "      <td>0.014867</td>\n",
       "      <td>...</td>\n",
       "      <td>0.009733</td>\n",
       "      <td>0.010215</td>\n",
       "      <td>0.008240</td>\n",
       "      <td>0.006939</td>\n",
       "      <td>0.005548</td>\n",
       "      <td>0.004861</td>\n",
       "      <td>0.001863</td>\n",
       "      <td>0.006116</td>\n",
       "      <td>0.007484</td>\n",
       "      <td>0.007050</td>\n",
       "    </tr>\n",
       "  </tbody>\n",
       "</table>\n",
       "<p>5 rows × 244 columns</p>\n",
       "</div>"
      ],
      "text/plain": [
       "                 ENSG00000107099  ENSG00000080503  ENSG00000147852  \\\n",
       "ENSG00000107099         1.000000         0.004888         0.014346   \n",
       "ENSG00000080503         0.004888         1.000000         0.013387   \n",
       "ENSG00000147852         0.014346         0.013387         1.000000   \n",
       "ENSG00000107249         0.011179         0.009019         0.013510   \n",
       "ENSG00000147853         0.008516         0.008423         0.014940   \n",
       "\n",
       "                 ENSG00000107249  ENSG00000147853  ENSG00000096968  \\\n",
       "ENSG00000107099         0.011179         0.008516         0.010086   \n",
       "ENSG00000080503         0.009019         0.008423         0.010715   \n",
       "ENSG00000147852         0.013510         0.014940         0.019684   \n",
       "ENSG00000107249         1.000000         0.013043         0.012821   \n",
       "ENSG00000147853         0.013043         1.000000         0.035341   \n",
       "\n",
       "                 ENSG00000107014  ENSG00000120217  ENSG00000197646  \\\n",
       "ENSG00000107099         0.007350         0.010925         0.003667   \n",
       "ENSG00000080503         0.006403         0.009085         0.005355   \n",
       "ENSG00000147852         0.015293         0.019233         0.009658   \n",
       "ENSG00000107249         0.009166         0.012765         0.004407   \n",
       "ENSG00000147853         0.010092         0.014017         0.008673   \n",
       "\n",
       "                 ENSG00000178445  ...  ENSG00000107317  ENSG00000169583  \\\n",
       "ENSG00000107099         0.007955  ...         0.006178         0.004963   \n",
       "ENSG00000080503         0.011907  ...         0.007584         0.010396   \n",
       "ENSG00000147852         0.014789  ...         0.013755         0.014284   \n",
       "ENSG00000107249         0.010986  ...         0.011557         0.009929   \n",
       "ENSG00000147853         0.014867  ...         0.009733         0.010215   \n",
       "\n",
       "                 ENSG00000107331  ENSG00000054179  ENSG00000177239  \\\n",
       "ENSG00000107099         0.006625         0.010763         0.007247   \n",
       "ENSG00000080503         0.007528         0.010023         0.007058   \n",
       "ENSG00000147852         0.012455         0.021487         0.016526   \n",
       "ENSG00000107249         0.008257         0.011060         0.011360   \n",
       "ENSG00000147853         0.008240         0.006939         0.005548   \n",
       "\n",
       "                 ENSG00000176248  ENSG00000176101  ENSG00000188747  \\\n",
       "ENSG00000107099         0.006464         0.005777         0.012972   \n",
       "ENSG00000080503         0.008733         0.008615         0.007522   \n",
       "ENSG00000147852         0.011880         0.004817         0.012046   \n",
       "ENSG00000107249         0.009262         0.004310         0.012206   \n",
       "ENSG00000147853         0.004861         0.001863         0.006116   \n",
       "\n",
       "                 ENSG00000182154  ENSG00000181090  \n",
       "ENSG00000107099         0.002313         0.003386  \n",
       "ENSG00000080503         0.004690         0.007634  \n",
       "ENSG00000147852         0.008420         0.012126  \n",
       "ENSG00000107249         0.004476         0.006118  \n",
       "ENSG00000147853         0.007484         0.007050  \n",
       "\n",
       "[5 rows x 244 columns]"
      ]
     },
     "execution_count": 31,
     "metadata": {},
     "output_type": "execute_result"
    }
   ],
   "source": [
    "gene_corrs_df.head()"
   ]
  },
  {
   "cell_type": "markdown",
   "id": "dad6603f-01c6-41fb-a6f6-241051207dd8",
   "metadata": {
    "papermill": {
     "duration": 1.702395,
     "end_time": "2022-08-30T17:36:11.367424",
     "exception": false,
     "start_time": "2022-08-30T17:36:09.665029",
     "status": "completed"
    },
    "tags": []
   },
   "source": [
    "## Standard checks and stats"
   ]
  },
  {
   "cell_type": "code",
   "execution_count": 32,
   "id": "286686af-1b7b-4440-8453-6bdcbd8de19c",
   "metadata": {
    "execution": {
     "iopub.execute_input": "2022-08-30T17:36:14.893615Z",
     "iopub.status.busy": "2022-08-30T17:36:14.893352Z",
     "iopub.status.idle": "2022-08-30T17:36:14.913838Z",
     "shell.execute_reply": "2022-08-30T17:36:14.913122Z"
    },
    "papermill": {
     "duration": 1.79286,
     "end_time": "2022-08-30T17:36:14.915379",
     "exception": false,
     "start_time": "2022-08-30T17:36:13.122519",
     "status": "completed"
    },
    "tags": []
   },
   "outputs": [],
   "source": [
    "assert not gene_corrs_df.isna().any().any()"
   ]
  },
  {
   "cell_type": "code",
   "execution_count": 33,
   "id": "00583efc-7068-4270-ad1e-4a418e91db96",
   "metadata": {
    "execution": {
     "iopub.execute_input": "2022-08-30T17:36:18.435156Z",
     "iopub.status.busy": "2022-08-30T17:36:18.434905Z",
     "iopub.status.idle": "2022-08-30T17:36:18.464106Z",
     "shell.execute_reply": "2022-08-30T17:36:18.463618Z"
    },
    "papermill": {
     "duration": 1.79377,
     "end_time": "2022-08-30T17:36:18.465534",
     "exception": false,
     "start_time": "2022-08-30T17:36:16.671764",
     "status": "completed"
    },
    "tags": []
   },
   "outputs": [
    {
     "data": {
      "text/plain": [
       "1.1199333351450828e-07"
      ]
     },
     "metadata": {},
     "output_type": "display_data"
    }
   ],
   "source": [
    "_min_val = gene_corrs_df.min().min()\n",
    "display(_min_val)\n",
    "assert _min_val >= -0.05"
   ]
  },
  {
   "cell_type": "code",
   "execution_count": 34,
   "id": "d04fb2cf-1050-475b-b855-f5f7cc04092b",
   "metadata": {
    "execution": {
     "iopub.execute_input": "2022-08-30T17:36:21.928109Z",
     "iopub.status.busy": "2022-08-30T17:36:21.927855Z",
     "iopub.status.idle": "2022-08-30T17:36:21.948907Z",
     "shell.execute_reply": "2022-08-30T17:36:21.948411Z"
    },
    "papermill": {
     "duration": 1.780682,
     "end_time": "2022-08-30T17:36:21.950338",
     "exception": false,
     "start_time": "2022-08-30T17:36:20.169656",
     "status": "completed"
    },
    "tags": []
   },
   "outputs": [
    {
     "data": {
      "text/plain": [
       "1.000000000000003"
      ]
     },
     "metadata": {},
     "output_type": "display_data"
    }
   ],
   "source": [
    "_max_val = gene_corrs_df.max().max()  # this captures the diagonal\n",
    "display(_max_val)\n",
    "assert _max_val <= 1.05"
   ]
  },
  {
   "cell_type": "code",
   "execution_count": 35,
   "id": "96d02c44-1fba-47be-8a93-8f2608420b9c",
   "metadata": {
    "execution": {
     "iopub.execute_input": "2022-08-30T17:36:25.363826Z",
     "iopub.status.busy": "2022-08-30T17:36:25.363569Z",
     "iopub.status.idle": "2022-08-30T17:36:25.381306Z",
     "shell.execute_reply": "2022-08-30T17:36:25.380818Z"
    },
    "papermill": {
     "duration": 1.722693,
     "end_time": "2022-08-30T17:36:25.382842",
     "exception": false,
     "start_time": "2022-08-30T17:36:23.660149",
     "status": "completed"
    },
    "tags": []
   },
   "outputs": [],
   "source": [
    "# check upper triangular values\n",
    "# assert len(gene_corrs) == int(genes_chr.shape[0] * (genes_chr.shape[0] - 1) / 2)"
   ]
  },
  {
   "cell_type": "code",
   "execution_count": 36,
   "id": "fe283586-c348-40e0-8841-f6d97bfb021c",
   "metadata": {
    "execution": {
     "iopub.execute_input": "2022-08-30T17:36:28.882454Z",
     "iopub.status.busy": "2022-08-30T17:36:28.882200Z",
     "iopub.status.idle": "2022-08-30T17:36:29.061233Z",
     "shell.execute_reply": "2022-08-30T17:36:29.060167Z"
    },
    "papermill": {
     "duration": 1.927382,
     "end_time": "2022-08-30T17:36:29.064409",
     "exception": false,
     "start_time": "2022-08-30T17:36:27.137027",
     "status": "completed"
    },
    "tags": []
   },
   "outputs": [
    {
     "data": {
      "text/plain": [
       "count    2.989000e+04\n",
       "mean     1.651950e-02\n",
       "std      9.349242e-02\n",
       "min      1.119933e-07\n",
       "25%      3.847348e-03\n",
       "50%      5.983306e-03\n",
       "75%      8.429791e-03\n",
       "max      1.000000e+00\n",
       "dtype: float64"
      ]
     },
     "execution_count": 36,
     "metadata": {},
     "output_type": "execute_result"
    }
   ],
   "source": [
    "gene_corrs_flat.describe()"
   ]
  },
  {
   "cell_type": "code",
   "execution_count": 37,
   "id": "b3815678-0f93-4b35-897b-a9d047a2aa78",
   "metadata": {
    "execution": {
     "iopub.execute_input": "2022-08-30T17:36:32.586703Z",
     "iopub.status.busy": "2022-08-30T17:36:32.586442Z",
     "iopub.status.idle": "2022-08-30T17:36:32.609432Z",
     "shell.execute_reply": "2022-08-30T17:36:32.608942Z"
    },
    "papermill": {
     "duration": 1.735057,
     "end_time": "2022-08-30T17:36:32.610877",
     "exception": false,
     "start_time": "2022-08-30T17:36:30.875820",
     "status": "completed"
    },
    "tags": []
   },
   "outputs": [
    {
     "data": {
      "text/plain": [
       "0.00    1.119933e-07\n",
       "0.05    1.490254e-03\n",
       "0.10    2.242787e-03\n",
       "0.15    2.850211e-03\n",
       "0.20    3.367480e-03\n",
       "0.25    3.847348e-03\n",
       "0.30    4.298095e-03\n",
       "0.35    4.717163e-03\n",
       "0.40    5.143296e-03\n",
       "0.45    5.563741e-03\n",
       "0.50    5.983306e-03\n",
       "0.55    6.403224e-03\n",
       "0.60    6.836606e-03\n",
       "0.65    7.307866e-03\n",
       "0.70    7.837709e-03\n",
       "0.75    8.429791e-03\n",
       "0.80    9.107295e-03\n",
       "0.85    9.920158e-03\n",
       "0.90    1.100457e-02\n",
       "0.95    1.311832e-02\n",
       "dtype: float64"
      ]
     },
     "metadata": {},
     "output_type": "display_data"
    }
   ],
   "source": [
    "gene_corrs_quantiles = gene_corrs_flat.quantile(np.arange(0, 1, 0.05))\n",
    "display(gene_corrs_quantiles)"
   ]
  },
  {
   "cell_type": "markdown",
   "id": "87134509-b145-4a10-8bc9-b7e914c2b0fa",
   "metadata": {
    "papermill": {
     "duration": 1.701182,
     "end_time": "2022-08-30T17:36:36.072299",
     "exception": false,
     "start_time": "2022-08-30T17:36:34.371117",
     "status": "completed"
    },
    "tags": []
   },
   "source": [
    "## Positive definiteness"
   ]
  },
  {
   "cell_type": "code",
   "execution_count": 38,
   "id": "07d9a9a1-a4f7-48aa-b916-6d42a8cc6186",
   "metadata": {
    "execution": {
     "iopub.execute_input": "2022-08-30T17:36:39.528813Z",
     "iopub.status.busy": "2022-08-30T17:36:39.528549Z",
     "iopub.status.idle": "2022-08-30T17:36:39.570757Z",
     "shell.execute_reply": "2022-08-30T17:36:39.570257Z"
    },
    "papermill": {
     "duration": 1.789825,
     "end_time": "2022-08-30T17:36:39.572193",
     "exception": false,
     "start_time": "2022-08-30T17:36:37.782368",
     "status": "completed"
    },
    "tags": []
   },
   "outputs": [
    {
     "data": {
      "text/plain": [
       "0"
      ]
     },
     "metadata": {},
     "output_type": "display_data"
    },
    {
     "data": {
      "text/plain": [
       "array([], dtype=float64)"
      ]
     },
     "metadata": {},
     "output_type": "display_data"
    }
   ],
   "source": [
    "# print negative eigenvalues\n",
    "eigs = np.linalg.eigvals(gene_corrs_df.to_numpy())\n",
    "display(len(eigs[eigs < 0]))\n",
    "display(eigs[eigs < 0])"
   ]
  },
  {
   "cell_type": "code",
   "execution_count": 39,
   "id": "6e218436-c3c5-4028-8c94-a4fa6260efce",
   "metadata": {
    "execution": {
     "iopub.execute_input": "2022-08-30T17:36:43.062367Z",
     "iopub.status.busy": "2022-08-30T17:36:43.062113Z",
     "iopub.status.idle": "2022-08-30T17:36:43.092047Z",
     "shell.execute_reply": "2022-08-30T17:36:43.091545Z"
    },
    "papermill": {
     "duration": 1.777486,
     "end_time": "2022-08-30T17:36:43.093482",
     "exception": false,
     "start_time": "2022-08-30T17:36:41.315996",
     "status": "completed"
    },
    "tags": []
   },
   "outputs": [
    {
     "name": "stdout",
     "output_type": "stream",
     "text": [
      "Works!\n"
     ]
    }
   ],
   "source": [
    "try:\n",
    "    chol_mat = np.linalg.cholesky(gene_corrs_df.to_numpy())\n",
    "    cov_inv = np.linalg.inv(chol_mat)\n",
    "    print(\"Works!\")\n",
    "except Exception as e:\n",
    "    print(f\"Cholesky decomposition failed: {str(e)}\")"
   ]
  },
  {
   "cell_type": "code",
   "execution_count": 40,
   "id": "dd8827fb-faf9-4c7c-9454-015e94752706",
   "metadata": {
    "execution": {
     "iopub.execute_input": "2022-08-30T17:36:46.504990Z",
     "iopub.status.busy": "2022-08-30T17:36:46.504736Z",
     "iopub.status.idle": "2022-08-30T17:36:46.528336Z",
     "shell.execute_reply": "2022-08-30T17:36:46.527839Z"
    },
    "papermill": {
     "duration": 1.733,
     "end_time": "2022-08-30T17:36:46.529782",
     "exception": false,
     "start_time": "2022-08-30T17:36:44.796782",
     "status": "completed"
    },
    "tags": []
   },
   "outputs": [
    {
     "name": "stdout",
     "output_type": "stream",
     "text": [
      "Works!\n"
     ]
    }
   ],
   "source": [
    "try:\n",
    "    # decomposition used by statsmodels.GLS\n",
    "    cholsigmainv = np.linalg.cholesky(np.linalg.inv(gene_corrs_df.to_numpy())).T\n",
    "    print(\"Works!\")\n",
    "except Exception as e:\n",
    "    print(f\"Cholesky decomposition failed (statsmodels.GLS): {str(e)}\")"
   ]
  },
  {
   "cell_type": "markdown",
   "id": "8e60a080-edb2-4e9c-b2ef-22961693200c",
   "metadata": {
    "papermill": {
     "duration": 1.743983,
     "end_time": "2022-08-30T17:36:50.012400",
     "exception": false,
     "start_time": "2022-08-30T17:36:48.268417",
     "status": "completed"
    },
    "tags": []
   },
   "source": [
    "## Plot: distribution"
   ]
  },
  {
   "cell_type": "code",
   "execution_count": 41,
   "id": "8301126b-a7d4-4744-9c7d-f0f86eb6f54c",
   "metadata": {
    "execution": {
     "iopub.execute_input": "2022-08-30T17:36:53.534311Z",
     "iopub.status.busy": "2022-08-30T17:36:53.534058Z",
     "iopub.status.idle": "2022-08-30T17:37:00.473462Z",
     "shell.execute_reply": "2022-08-30T17:37:00.472805Z"
    },
    "papermill": {
     "duration": 8.700992,
     "end_time": "2022-08-30T17:37:00.475076",
     "exception": false,
     "start_time": "2022-08-30T17:36:51.774084",
     "status": "completed"
    },
    "tags": []
   },
   "outputs": [
    {
     "data": {
      "image/png": "[encoded data removed]",
      "text/plain": [
       "<Figure size 504x504 with 1 Axes>"
      ]
     },
     "metadata": {
      "needs_background": "light"
     },
     "output_type": "display_data"
    }
   ],
   "source": [
    "with sns.plotting_context(\"paper\", font_scale=1.5):\n",
    "    g = sns.displot(gene_corrs_flat, kde=True, height=7)\n",
    "    g.ax.set_title(\n",
    "        f\"Distribution of gene correlation values in chromosome {CHROMOSOME}\"\n",
    "    )"
   ]
  },
  {
   "cell_type": "markdown",
   "id": "cbd52bca-d878-4a2f-b684-5c83aa3038d4",
   "metadata": {
    "papermill": {
     "duration": 1.762294,
     "end_time": "2022-08-30T17:37:03.934604",
     "exception": false,
     "start_time": "2022-08-30T17:37:02.172310",
     "status": "completed"
    },
    "tags": []
   },
   "source": [
    "## Plot: heatmap"
   ]
  },
  {
   "cell_type": "code",
   "execution_count": 42,
   "id": "d03fe63a-c7b2-4fb9-a53c-db362ce843c9",
   "metadata": {
    "execution": {
     "iopub.execute_input": "2022-08-30T17:37:07.346876Z",
     "iopub.status.busy": "2022-08-30T17:37:07.346619Z",
     "iopub.status.idle": "2022-08-30T17:37:07.395709Z",
     "shell.execute_reply": "2022-08-30T17:37:07.395214Z"
    },
    "papermill": {
     "duration": 1.756726,
     "end_time": "2022-08-30T17:37:07.397137",
     "exception": false,
     "start_time": "2022-08-30T17:37:05.640411",
     "status": "completed"
    },
    "tags": []
   },
   "outputs": [
    {
     "data": {
      "text/plain": [
       "'0.0 / 0.05'"
      ]
     },
     "metadata": {},
     "output_type": "display_data"
    }
   ],
   "source": [
    "vmin_val = min(0.00, gene_corrs_quantiles[0.10])\n",
    "vmax_val = max(0.05, gene_corrs_quantiles[0.90])\n",
    "display(f\"{vmin_val} / {vmax_val}\")"
   ]
  },
  {
   "cell_type": "code",
   "execution_count": 43,
   "id": "dc41b70b-5bcc-4d9e-9f33-a22c4a94dab5",
   "metadata": {
    "execution": {
     "iopub.execute_input": "2022-08-30T17:37:10.886277Z",
     "iopub.status.busy": "2022-08-30T17:37:10.886024Z",
     "iopub.status.idle": "2022-08-30T17:37:11.114096Z",
     "shell.execute_reply": "2022-08-30T17:37:11.113309Z"
    },
    "papermill": {
     "duration": 1.96828,
     "end_time": "2022-08-30T17:37:11.115672",
     "exception": false,
     "start_time": "2022-08-30T17:37:09.147392",
     "status": "completed"
    },
    "tags": []
   },
   "outputs": [
    {
     "data": {
      "text/plain": [
       "Text(0.5, 1.0, 'Gene correlations in chromosome 9')"
      ]
     },
     "execution_count": 43,
     "metadata": {},
     "output_type": "execute_result"
    },
    {
     "data": {
      "image/png": "[encoded data removed]",
      "text/plain": [
       "<Figure size 720x720 with 2 Axes>"
      ]
     },
     "metadata": {
      "needs_background": "light"
     },
     "output_type": "display_data"
    }
   ],
   "source": [
    "f, ax = plt.subplots(figsize=(10, 10))\n",
    "sns.heatmap(\n",
    "    gene_corrs_df,\n",
    "    xticklabels=False,\n",
    "    yticklabels=False,\n",
    "    square=True,\n",
    "    vmin=vmin_val,\n",
    "    vmax=vmax_val,\n",
    "    cmap=\"rocket_r\",\n",
    "    ax=ax,\n",
    ")\n",
    "ax.set_title(f\"Gene correlations in chromosome {CHROMOSOME}\")"
   ]
  },
  {
   "cell_type": "code",
   "execution_count": null,
   "id": "b25e3ead",
   "metadata": {
    "papermill": {
     "duration": 1.730939,
     "end_time": "2022-08-30T17:37:14.606372",
     "exception": false,
     "start_time": "2022-08-30T17:37:12.875433",
     "status": "completed"
    },
    "tags": []
   },
   "outputs": [],
   "source": []
  }
 ],
 "metadata": {
  "jupytext": {
   "cell_metadata_filter": "all,-execution,-papermill,-trusted",
   "formats": "ipynb,py//py:percent"
  },
  "kernelspec": {
   "display_name": "Python 3 (ipykernel)",
   "language": "python",
   "name": "python3"
  },
  "language_info": {
   "codemirror_mode": {
    "name": "ipython",
    "version": 3
   },
   "file_extension": ".py",
   "mimetype": "text/x-python",
   "name": "python",
   "nbconvert_exporter": "python",
   "pygments_lexer": "ipython3",
   "version": "3.8.13"
  },
  "papermill": {
   "default_parameters": {},
   "duration": 2746.156216,
   "end_time": "2022-08-30T17:37:19.108341",
   "environment_variables": {},
   "exception": null,
   "input_path": "nbs/15_gsa_gls/10-gene_expr_correlations.ipynb",
   "output_path": "nbs/15_gsa_gls/gene_corrs/cohorts/emerge/gtex_v8/mashr/10-gene_expr_corrs/10-gene_expr_correlations-chr9.run.ipynb",
   "parameters": {
    "CHROMOSOME": 9,
    "COHORT_NAME": "emerge",
    "EQTL_MODEL": "MASHR",
    "REFERENCE_PANEL": "GTEX_V8"
   },
   "start_time": "2022-08-30T16:51:32.952125",
   "version": "2.2.2"
  }
 },
 "nbformat": 4,
 "nbformat_minor": 5
}
