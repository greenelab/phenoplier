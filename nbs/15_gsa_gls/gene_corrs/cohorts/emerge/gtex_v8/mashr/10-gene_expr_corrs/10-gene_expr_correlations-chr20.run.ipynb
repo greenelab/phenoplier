{
 "cells": [
  {
   "cell_type": "markdown",
   "id": "7a6632fb",
   "metadata": {
    "papermill": {
     "duration": 0.020075,
     "end_time": "2022-08-30T16:51:36.087465",
     "exception": false,
     "start_time": "2022-08-30T16:51:36.067390",
     "status": "completed"
    },
    "tags": []
   },
   "source": [
    "# Description"
   ]
  },
  {
   "cell_type": "markdown",
   "id": "7097c346",
   "metadata": {
    "papermill": {
     "duration": 0.016027,
     "end_time": "2022-08-30T16:51:36.121210",
     "exception": false,
     "start_time": "2022-08-30T16:51:36.105183",
     "status": "completed"
    },
    "tags": []
   },
   "source": [
    "(Please, take a look at the README.md file in this directory for instructions on how to run this notebook)\n",
    "\n",
    "This notebook computes predicted expression correlations between all genes in the MultiPLIER models.\n",
    "\n",
    "It also has a parameter set for papermill to run on a single chromosome to run in parallel (see under `Settings` below).\n",
    "\n",
    "This notebook is not directly run. See README.md."
   ]
  },
  {
   "cell_type": "markdown",
   "id": "c61d8427",
   "metadata": {
    "papermill": {
     "duration": 0.01458,
     "end_time": "2022-08-30T16:51:36.151016",
     "exception": false,
     "start_time": "2022-08-30T16:51:36.136436",
     "status": "completed"
    },
    "tags": []
   },
   "source": [
    "# Modules"
   ]
  },
  {
   "cell_type": "code",
   "execution_count": 1,
   "id": "bbc0234f",
   "metadata": {
    "execution": {
     "iopub.execute_input": "2022-08-30T16:51:36.180105Z",
     "iopub.status.busy": "2022-08-30T16:51:36.179729Z",
     "iopub.status.idle": "2022-08-30T16:51:36.268119Z",
     "shell.execute_reply": "2022-08-30T16:51:36.267006Z"
    },
    "papermill": {
     "duration": 0.106898,
     "end_time": "2022-08-30T16:51:36.271684",
     "exception": false,
     "start_time": "2022-08-30T16:51:36.164786",
     "status": "completed"
    },
    "tags": []
   },
   "outputs": [],
   "source": [
    "%load_ext autoreload\n",
    "%autoreload 2"
   ]
  },
  {
   "cell_type": "code",
   "execution_count": 2,
   "id": "1d5f5a59",
   "metadata": {
    "execution": {
     "iopub.execute_input": "2022-08-30T16:51:36.304780Z",
     "iopub.status.busy": "2022-08-30T16:51:36.304421Z",
     "iopub.status.idle": "2022-08-30T16:51:39.987466Z",
     "shell.execute_reply": "2022-08-30T16:51:39.986235Z"
    },
    "papermill": {
     "duration": 3.703458,
     "end_time": "2022-08-30T16:51:39.991222",
     "exception": false,
     "start_time": "2022-08-30T16:51:36.287764",
     "status": "completed"
    },
    "tags": []
   },
   "outputs": [],
   "source": [
    "from random import sample, seed\n",
    "import warnings\n",
    "from pathlib import Path\n",
    "import pickle\n",
    "import traceback\n",
    "\n",
    "import numpy as np\n",
    "from scipy.spatial.distance import squareform\n",
    "import pandas as pd\n",
    "from tqdm import tqdm\n",
    "import matplotlib.pyplot as plt\n",
    "import seaborn as sns\n",
    "\n",
    "import conf\n",
    "from entity import Gene"
   ]
  },
  {
   "cell_type": "markdown",
   "id": "1eac24b5",
   "metadata": {
    "papermill": {
     "duration": 0.055751,
     "end_time": "2022-08-30T16:51:40.065712",
     "exception": false,
     "start_time": "2022-08-30T16:51:40.009961",
     "status": "completed"
    },
    "tags": []
   },
   "source": [
    "# Settings"
   ]
  },
  {
   "cell_type": "code",
   "execution_count": 3,
   "id": "ca4560ba",
   "metadata": {
    "execution": {
     "iopub.execute_input": "2022-08-30T16:51:40.099252Z",
     "iopub.status.busy": "2022-08-30T16:51:40.098913Z",
     "iopub.status.idle": "2022-08-30T16:51:41.263938Z",
     "shell.execute_reply": "2022-08-30T16:51:41.262781Z"
    },
    "papermill": {
     "duration": 1.183949,
     "end_time": "2022-08-30T16:51:41.267586",
     "exception": false,
     "start_time": "2022-08-30T16:51:40.083637",
     "status": "completed"
    },
    "tags": [
     "parameters"
    ]
   },
   "outputs": [],
   "source": [
    "# a cohort name (it could be something like UK_BIOBANK, etc)\n",
    "COHORT_NAME = None\n",
    "\n",
    "# reference panel such as 1000G or GTEX_V8\n",
    "REFERENCE_PANEL = None\n",
    "\n",
    "# predictions models such as MASHR or ELASTIC_NET\n",
    "EQTL_MODEL = None\n",
    "\n",
    "# this is the default value used in S-MultiXcan to select the\n",
    "# top principal components of the expression correlation matrix\n",
    "SMULTIXCAN_CONDITION_NUMBER = 30\n",
    "\n",
    "# specifies a single chromosome value\n",
    "CHROMOSOME = None\n",
    "\n",
    "# If True, computes the correlation between closeby genes only;\n",
    "# otherwise, it computes correlations for all genes in a chromosome\n",
    "COMPUTE_CORRELATIONS_WITHIN_DISTANCE = False\n",
    "\n",
    "# if True, then it will continue if a gene pair correlation fails,\n",
    "# printing the warning/error for debugging. If False, any warning/error\n",
    "# will be thrown\n",
    "DEBUG_MODE = False"
   ]
  },
  {
   "cell_type": "code",
   "execution_count": 4,
   "id": "1dce6781",
   "metadata": {
    "execution": {
     "iopub.execute_input": "2022-08-30T16:51:41.301147Z",
     "iopub.status.busy": "2022-08-30T16:51:41.300766Z",
     "iopub.status.idle": "2022-08-30T16:51:41.333981Z",
     "shell.execute_reply": "2022-08-30T16:51:41.333055Z"
    },
    "papermill": {
     "duration": 0.052954,
     "end_time": "2022-08-30T16:51:41.336647",
     "exception": false,
     "start_time": "2022-08-30T16:51:41.283693",
     "status": "completed"
    },
    "tags": [
     "injected-parameters"
    ]
   },
   "outputs": [],
   "source": [
    "# Parameters\n",
    "COHORT_NAME = \"emerge\"\n",
    "REFERENCE_PANEL = \"GTEX_V8\"\n",
    "EQTL_MODEL = \"MASHR\"\n",
    "CHROMOSOME = 20\n"
   ]
  },
  {
   "cell_type": "code",
   "execution_count": 5,
   "id": "3190631f-27fc-480f-b18e-571d580425a5",
   "metadata": {
    "execution": {
     "iopub.execute_input": "2022-08-30T16:51:41.364349Z",
     "iopub.status.busy": "2022-08-30T16:51:41.364037Z",
     "iopub.status.idle": "2022-08-30T16:51:41.395467Z",
     "shell.execute_reply": "2022-08-30T16:51:41.394632Z"
    },
    "papermill": {
     "duration": 0.048022,
     "end_time": "2022-08-30T16:51:41.397550",
     "exception": false,
     "start_time": "2022-08-30T16:51:41.349528",
     "status": "completed"
    },
    "tags": []
   },
   "outputs": [
    {
     "data": {
      "text/plain": [
       "'Cohort name: emerge'"
      ]
     },
     "metadata": {},
     "output_type": "display_data"
    }
   ],
   "source": [
    "assert COHORT_NAME is not None and len(COHORT_NAME) > 0, \"A cohort name must be given\"\n",
    "\n",
    "COHORT_NAME = COHORT_NAME.lower()\n",
    "display(f\"Cohort name: {COHORT_NAME}\")"
   ]
  },
  {
   "cell_type": "code",
   "execution_count": 6,
   "id": "f53ba19b-0f93-4fa2-a047-63b375939d1a",
   "metadata": {
    "execution": {
     "iopub.execute_input": "2022-08-30T16:51:41.433484Z",
     "iopub.status.busy": "2022-08-30T16:51:41.433206Z",
     "iopub.status.idle": "2022-08-30T16:51:41.476941Z",
     "shell.execute_reply": "2022-08-30T16:51:41.476034Z"
    },
    "papermill": {
     "duration": 0.061911,
     "end_time": "2022-08-30T16:51:41.479493",
     "exception": false,
     "start_time": "2022-08-30T16:51:41.417582",
     "status": "completed"
    },
    "tags": []
   },
   "outputs": [
    {
     "data": {
      "text/plain": [
       "'Reference panel: GTEX_V8'"
      ]
     },
     "metadata": {},
     "output_type": "display_data"
    }
   ],
   "source": [
    "assert (\n",
    "    REFERENCE_PANEL is not None and len(REFERENCE_PANEL) > 0\n",
    "), \"A reference panel must be given\"\n",
    "\n",
    "display(f\"Reference panel: {REFERENCE_PANEL}\")"
   ]
  },
  {
   "cell_type": "code",
   "execution_count": 7,
   "id": "e024d130-c139-429a-9c6e-ccf149e297b0",
   "metadata": {
    "execution": {
     "iopub.execute_input": "2022-08-30T16:51:41.511057Z",
     "iopub.status.busy": "2022-08-30T16:51:41.510745Z",
     "iopub.status.idle": "2022-08-30T16:51:41.543830Z",
     "shell.execute_reply": "2022-08-30T16:51:41.542978Z"
    },
    "papermill": {
     "duration": 0.05186,
     "end_time": "2022-08-30T16:51:41.546077",
     "exception": false,
     "start_time": "2022-08-30T16:51:41.494217",
     "status": "completed"
    },
    "tags": []
   },
   "outputs": [
    {
     "data": {
      "text/plain": [
       "'eQTL model: MASHR) / mashr_'"
      ]
     },
     "metadata": {},
     "output_type": "display_data"
    }
   ],
   "source": [
    "assert (\n",
    "    EQTL_MODEL is not None and len(EQTL_MODEL) > 0\n",
    "), \"A prediction/eQTL model must be given\"\n",
    "\n",
    "EQTL_MODEL_FILES_PREFIX = conf.PHENOMEXCAN[\"PREDICTION_MODELS\"][f\"{EQTL_MODEL}_PREFIX\"]\n",
    "display(f\"eQTL model: {EQTL_MODEL}) / {EQTL_MODEL_FILES_PREFIX}\")"
   ]
  },
  {
   "cell_type": "code",
   "execution_count": 8,
   "id": "552a7f63-a18c-4d3e-bb6a-94f99b431291",
   "metadata": {
    "execution": {
     "iopub.execute_input": "2022-08-30T16:51:41.577409Z",
     "iopub.status.busy": "2022-08-30T16:51:41.577112Z",
     "iopub.status.idle": "2022-08-30T16:51:41.603367Z",
     "shell.execute_reply": "2022-08-30T16:51:41.602508Z"
    },
    "papermill": {
     "duration": 0.045309,
     "end_time": "2022-08-30T16:51:41.605582",
     "exception": false,
     "start_time": "2022-08-30T16:51:41.560273",
     "status": "completed"
    },
    "tags": []
   },
   "outputs": [
    {
     "data": {
      "text/plain": [
       "'S-MultiXcan condition number: 30'"
      ]
     },
     "metadata": {},
     "output_type": "display_data"
    }
   ],
   "source": [
    "assert (\n",
    "    SMULTIXCAN_CONDITION_NUMBER is not None and SMULTIXCAN_CONDITION_NUMBER > 0\n",
    "), \"The S-MultiXcan condition number (positive integer) must be given\"\n",
    "\n",
    "display(f\"S-MultiXcan condition number: {SMULTIXCAN_CONDITION_NUMBER}\")"
   ]
  },
  {
   "cell_type": "code",
   "execution_count": 9,
   "id": "f34a336f-548e-4afe-8955-90eaea4f42c6",
   "metadata": {
    "execution": {
     "iopub.execute_input": "2022-08-30T16:51:41.631357Z",
     "iopub.status.busy": "2022-08-30T16:51:41.631091Z",
     "iopub.status.idle": "2022-08-30T16:51:41.654868Z",
     "shell.execute_reply": "2022-08-30T16:51:41.654166Z"
    },
    "papermill": {
     "duration": 0.039549,
     "end_time": "2022-08-30T16:51:41.656792",
     "exception": false,
     "start_time": "2022-08-30T16:51:41.617243",
     "status": "completed"
    },
    "tags": []
   },
   "outputs": [
    {
     "data": {
      "text/plain": [
       "'Working on chromosome 20'"
      ]
     },
     "metadata": {},
     "output_type": "display_data"
    }
   ],
   "source": [
    "assert CHROMOSOME is not None and (\n",
    "    1 <= CHROMOSOME <= 22\n",
    "), \"You have to select one chromosome (format: number between 1 and 22)\"\n",
    "\n",
    "# CHROMOSOME = str(CHROMOSOME)\n",
    "display(f\"Working on chromosome {CHROMOSOME}\")"
   ]
  },
  {
   "cell_type": "code",
   "execution_count": 10,
   "id": "ab8e96e8-06b5-4363-9dcd-dc4d78cc27f7",
   "metadata": {
    "execution": {
     "iopub.execute_input": "2022-08-30T16:51:41.690029Z",
     "iopub.status.busy": "2022-08-30T16:51:41.689783Z",
     "iopub.status.idle": "2022-08-30T16:51:41.712001Z",
     "shell.execute_reply": "2022-08-30T16:51:41.711397Z"
    },
    "papermill": {
     "duration": 0.037988,
     "end_time": "2022-08-30T16:51:41.713807",
     "exception": false,
     "start_time": "2022-08-30T16:51:41.675819",
     "status": "completed"
    },
    "tags": []
   },
   "outputs": [
    {
     "data": {
      "text/plain": [
       "'Compute correlation within distance False'"
      ]
     },
     "metadata": {},
     "output_type": "display_data"
    }
   ],
   "source": [
    "display(f\"Compute correlation within distance {COMPUTE_CORRELATIONS_WITHIN_DISTANCE}\")"
   ]
  },
  {
   "cell_type": "code",
   "execution_count": 11,
   "id": "396392dc-0340-4540-9b02-e182b833f909",
   "metadata": {
    "execution": {
     "iopub.execute_input": "2022-08-30T16:51:41.739217Z",
     "iopub.status.busy": "2022-08-30T16:51:41.739014Z",
     "iopub.status.idle": "2022-08-30T16:51:41.761282Z",
     "shell.execute_reply": "2022-08-30T16:51:41.760796Z"
    },
    "papermill": {
     "duration": 0.034775,
     "end_time": "2022-08-30T16:51:41.762688",
     "exception": false,
     "start_time": "2022-08-30T16:51:41.727913",
     "status": "completed"
    },
    "tags": []
   },
   "outputs": [
    {
     "data": {
      "text/plain": [
       "'Using output dir base: /project/ritchie20/projects/phenoplier/base/results/gls/gene_corrs/cohorts/emerge/gtex_v8/mashr'"
      ]
     },
     "metadata": {},
     "output_type": "display_data"
    }
   ],
   "source": [
    "OUTPUT_DIR_BASE = (\n",
    "    conf.RESULTS[\"GLS\"]\n",
    "    / \"gene_corrs\"\n",
    "    / \"cohorts\"\n",
    "    / COHORT_NAME\n",
    "    / REFERENCE_PANEL.lower()\n",
    "    / EQTL_MODEL.lower()\n",
    ")\n",
    "OUTPUT_DIR_BASE.mkdir(parents=True, exist_ok=True)\n",
    "\n",
    "display(f\"Using output dir base: {OUTPUT_DIR_BASE}\")"
   ]
  },
  {
   "cell_type": "markdown",
   "id": "d2ba085e",
   "metadata": {
    "papermill": {
     "duration": 0.01643,
     "end_time": "2022-08-30T16:51:41.791994",
     "exception": false,
     "start_time": "2022-08-30T16:51:41.775564",
     "status": "completed"
    },
    "tags": []
   },
   "source": [
    "# Load data"
   ]
  },
  {
   "cell_type": "markdown",
   "id": "7dcb8db7",
   "metadata": {
    "papermill": {
     "duration": 0.012169,
     "end_time": "2022-08-30T16:51:41.816229",
     "exception": false,
     "start_time": "2022-08-30T16:51:41.804060",
     "status": "completed"
    },
    "tags": []
   },
   "source": [
    "## GWAS variants"
   ]
  },
  {
   "cell_type": "code",
   "execution_count": 12,
   "id": "29434c4e-8cd3-4b9b-82e4-b5a251d9dd19",
   "metadata": {
    "execution": {
     "iopub.execute_input": "2022-08-30T16:51:41.851849Z",
     "iopub.status.busy": "2022-08-30T16:51:41.851585Z",
     "iopub.status.idle": "2022-08-30T16:51:44.264492Z",
     "shell.execute_reply": "2022-08-30T16:51:44.263676Z"
    },
    "papermill": {
     "duration": 2.440187,
     "end_time": "2022-08-30T16:51:44.266504",
     "exception": false,
     "start_time": "2022-08-30T16:51:41.826317",
     "status": "completed"
    },
    "tags": []
   },
   "outputs": [],
   "source": [
    "with open(OUTPUT_DIR_BASE / \"gwas_variant_ids.pkl\", \"rb\") as handle:\n",
    "    gwas_variants_ids_set = pickle.load(handle)"
   ]
  },
  {
   "cell_type": "code",
   "execution_count": 13,
   "id": "b9d9dec2-4a76-4bf9-bde2-e24c95acb8a0",
   "metadata": {
    "execution": {
     "iopub.execute_input": "2022-08-30T16:51:44.295946Z",
     "iopub.status.busy": "2022-08-30T16:51:44.295741Z",
     "iopub.status.idle": "2022-08-30T16:51:44.617615Z",
     "shell.execute_reply": "2022-08-30T16:51:44.616478Z"
    },
    "papermill": {
     "duration": 0.341465,
     "end_time": "2022-08-30T16:51:44.620957",
     "exception": false,
     "start_time": "2022-08-30T16:51:44.279492",
     "status": "completed"
    },
    "tags": []
   },
   "outputs": [
    {
     "data": {
      "text/plain": [
       "8376508"
      ]
     },
     "execution_count": 13,
     "metadata": {},
     "output_type": "execute_result"
    }
   ],
   "source": [
    "len(gwas_variants_ids_set)"
   ]
  },
  {
   "cell_type": "code",
   "execution_count": 14,
   "id": "4235b06a-6034-4ee4-a0a3-2ae35d122418",
   "metadata": {
    "execution": {
     "iopub.execute_input": "2022-08-30T16:51:44.664810Z",
     "iopub.status.busy": "2022-08-30T16:51:44.664465Z",
     "iopub.status.idle": "2022-08-30T16:51:45.299191Z",
     "shell.execute_reply": "2022-08-30T16:51:45.298505Z"
    },
    "papermill": {
     "duration": 0.656042,
     "end_time": "2022-08-30T16:51:45.300713",
     "exception": false,
     "start_time": "2022-08-30T16:51:44.644671",
     "status": "completed"
    },
    "tags": []
   },
   "outputs": [
    {
     "data": {
      "text/plain": [
       "['chr1_180928433_C_T_b38',\n",
       " 'chr11_26794696_T_C_b38',\n",
       " 'chr8_130177234_C_A_b38',\n",
       " 'chr2_239507801_C_T_b38',\n",
       " 'chr1_198628022_A_T_b38']"
      ]
     },
     "execution_count": 14,
     "metadata": {},
     "output_type": "execute_result"
    }
   ],
   "source": [
    "list(gwas_variants_ids_set)[:5]"
   ]
  },
  {
   "cell_type": "markdown",
   "id": "07866999-2305-41f9-a144-e69c9122c212",
   "metadata": {
    "papermill": {
     "duration": 0.015629,
     "end_time": "2022-08-30T16:51:45.327743",
     "exception": false,
     "start_time": "2022-08-30T16:51:45.312114",
     "status": "completed"
    },
    "tags": []
   },
   "source": [
    "## S-PrediXcan tissue models"
   ]
  },
  {
   "cell_type": "code",
   "execution_count": 15,
   "id": "780611d9-77c8-405f-90a4-f271f7b09397",
   "metadata": {
    "execution": {
     "iopub.execute_input": "2022-08-30T16:51:45.354653Z",
     "iopub.status.busy": "2022-08-30T16:51:45.354457Z",
     "iopub.status.idle": "2022-08-30T16:51:46.186876Z",
     "shell.execute_reply": "2022-08-30T16:51:46.186303Z"
    },
    "papermill": {
     "duration": 0.849495,
     "end_time": "2022-08-30T16:51:46.188763",
     "exception": false,
     "start_time": "2022-08-30T16:51:45.339268",
     "status": "completed"
    },
    "tags": []
   },
   "outputs": [],
   "source": [
    "spredixcan_genes_models = pd.read_pickle(OUTPUT_DIR_BASE / \"gene_tissues.pkl\")"
   ]
  },
  {
   "cell_type": "code",
   "execution_count": 16,
   "id": "726dd1f6-9557-4225-91fa-b3b879ea96e1",
   "metadata": {
    "execution": {
     "iopub.execute_input": "2022-08-30T16:51:46.231676Z",
     "iopub.status.busy": "2022-08-30T16:51:46.231478Z",
     "iopub.status.idle": "2022-08-30T16:51:46.887001Z",
     "shell.execute_reply": "2022-08-30T16:51:46.885935Z"
    },
    "papermill": {
     "duration": 0.682211,
     "end_time": "2022-08-30T16:51:46.890141",
     "exception": false,
     "start_time": "2022-08-30T16:51:46.207930",
     "status": "completed"
    },
    "tags": []
   },
   "outputs": [
    {
     "data": {
      "text/plain": [
       "(6425, 3)"
      ]
     },
     "execution_count": 16,
     "metadata": {},
     "output_type": "execute_result"
    }
   ],
   "source": [
    "spredixcan_genes_models.shape"
   ]
  },
  {
   "cell_type": "code",
   "execution_count": 17,
   "id": "944a1b48-222c-4eb0-b252-b9de2cbca215",
   "metadata": {
    "execution": {
     "iopub.execute_input": "2022-08-30T16:51:46.941263Z",
     "iopub.status.busy": "2022-08-30T16:51:46.940909Z",
     "iopub.status.idle": "2022-08-30T16:51:48.573799Z",
     "shell.execute_reply": "2022-08-30T16:51:48.572755Z"
    },
    "papermill": {
     "duration": 1.661541,
     "end_time": "2022-08-30T16:51:48.576573",
     "exception": false,
     "start_time": "2022-08-30T16:51:46.915032",
     "status": "completed"
    },
    "tags": []
   },
   "outputs": [
    {
     "data": {
      "text/html": [
       "<div>\n",
       "<style scoped>\n",
       "    .dataframe tbody tr th:only-of-type {\n",
       "        vertical-align: middle;\n",
       "    }\n",
       "\n",
       "    .dataframe tbody tr th {\n",
       "        vertical-align: top;\n",
       "    }\n",
       "\n",
       "    .dataframe thead th {\n",
       "        text-align: right;\n",
       "    }\n",
       "</style>\n",
       "<table border=\"1\" class=\"dataframe\">\n",
       "  <thead>\n",
       "    <tr style=\"text-align: right;\">\n",
       "      <th></th>\n",
       "      <th>gene_name</th>\n",
       "      <th>tissue</th>\n",
       "      <th>n_tissues</th>\n",
       "    </tr>\n",
       "    <tr>\n",
       "      <th>gene_id</th>\n",
       "      <th></th>\n",
       "      <th></th>\n",
       "      <th></th>\n",
       "    </tr>\n",
       "  </thead>\n",
       "  <tbody>\n",
       "    <tr>\n",
       "      <th>ENSG00000000419</th>\n",
       "      <td>DPM1</td>\n",
       "      <td>(Brain_Substantia_nigra, Brain_Hypothalamus)</td>\n",
       "      <td>2</td>\n",
       "    </tr>\n",
       "    <tr>\n",
       "      <th>ENSG00000000938</th>\n",
       "      <td>FGR</td>\n",
       "      <td>(Esophagus_Mucosa, Artery_Aorta, Brain_Cortex,...</td>\n",
       "      <td>26</td>\n",
       "    </tr>\n",
       "    <tr>\n",
       "      <th>ENSG00000000971</th>\n",
       "      <td>CFH</td>\n",
       "      <td>(Brain_Substantia_nigra, Artery_Aorta, Brain_C...</td>\n",
       "      <td>34</td>\n",
       "    </tr>\n",
       "    <tr>\n",
       "      <th>ENSG00000001084</th>\n",
       "      <td>GCLC</td>\n",
       "      <td>(Brain_Substantia_nigra, Artery_Aorta, Spleen,...</td>\n",
       "      <td>32</td>\n",
       "    </tr>\n",
       "    <tr>\n",
       "      <th>ENSG00000001167</th>\n",
       "      <td>NFYA</td>\n",
       "      <td>(Esophagus_Mucosa, Minor_Salivary_Gland, Arter...</td>\n",
       "      <td>40</td>\n",
       "    </tr>\n",
       "  </tbody>\n",
       "</table>\n",
       "</div>"
      ],
      "text/plain": [
       "                gene_name                                             tissue  \\\n",
       "gene_id                                                                        \n",
       "ENSG00000000419      DPM1       (Brain_Substantia_nigra, Brain_Hypothalamus)   \n",
       "ENSG00000000938       FGR  (Esophagus_Mucosa, Artery_Aorta, Brain_Cortex,...   \n",
       "ENSG00000000971       CFH  (Brain_Substantia_nigra, Artery_Aorta, Brain_C...   \n",
       "ENSG00000001084      GCLC  (Brain_Substantia_nigra, Artery_Aorta, Spleen,...   \n",
       "ENSG00000001167      NFYA  (Esophagus_Mucosa, Minor_Salivary_Gland, Arter...   \n",
       "\n",
       "                 n_tissues  \n",
       "gene_id                     \n",
       "ENSG00000000419          2  \n",
       "ENSG00000000938         26  \n",
       "ENSG00000000971         34  \n",
       "ENSG00000001084         32  \n",
       "ENSG00000001167         40  "
      ]
     },
     "execution_count": 17,
     "metadata": {},
     "output_type": "execute_result"
    }
   ],
   "source": [
    "spredixcan_genes_models.head()"
   ]
  },
  {
   "cell_type": "code",
   "execution_count": 18,
   "id": "d1c11bb1-be0b-4f40-b360-633d6827109f",
   "metadata": {
    "execution": {
     "iopub.execute_input": "2022-08-30T16:51:48.631222Z",
     "iopub.status.busy": "2022-08-30T16:51:48.630864Z",
     "iopub.status.idle": "2022-08-30T16:51:48.659135Z",
     "shell.execute_reply": "2022-08-30T16:51:48.658344Z"
    },
    "papermill": {
     "duration": 0.060313,
     "end_time": "2022-08-30T16:51:48.661564",
     "exception": false,
     "start_time": "2022-08-30T16:51:48.601251",
     "status": "completed"
    },
    "tags": []
   },
   "outputs": [],
   "source": [
    "assert spredixcan_genes_models.index.is_unique"
   ]
  },
  {
   "cell_type": "markdown",
   "id": "a5b5092c-a13e-47c4-a92a-480fcc08f3ae",
   "metadata": {
    "papermill": {
     "duration": 0.021826,
     "end_time": "2022-08-30T16:51:48.708200",
     "exception": false,
     "start_time": "2022-08-30T16:51:48.686374",
     "status": "completed"
    },
    "tags": []
   },
   "source": [
    "## Gene info"
   ]
  },
  {
   "cell_type": "code",
   "execution_count": 19,
   "id": "7d6bb224-88e9-4358-ac10-43a41d92cdad",
   "metadata": {
    "execution": {
     "iopub.execute_input": "2022-08-30T16:51:48.758346Z",
     "iopub.status.busy": "2022-08-30T16:51:48.758059Z",
     "iopub.status.idle": "2022-08-30T16:51:48.794989Z",
     "shell.execute_reply": "2022-08-30T16:51:48.794173Z"
    },
    "papermill": {
     "duration": 0.065454,
     "end_time": "2022-08-30T16:51:48.797136",
     "exception": false,
     "start_time": "2022-08-30T16:51:48.731682",
     "status": "completed"
    },
    "tags": []
   },
   "outputs": [],
   "source": [
    "genes_info = pd.read_pickle(OUTPUT_DIR_BASE / \"genes_info.pkl\")"
   ]
  },
  {
   "cell_type": "code",
   "execution_count": 20,
   "id": "9e32abfa-546d-483e-8c18-d526e9e05903",
   "metadata": {
    "execution": {
     "iopub.execute_input": "2022-08-30T16:51:48.848074Z",
     "iopub.status.busy": "2022-08-30T16:51:48.847727Z",
     "iopub.status.idle": "2022-08-30T16:51:48.878476Z",
     "shell.execute_reply": "2022-08-30T16:51:48.877615Z"
    },
    "papermill": {
     "duration": 0.058454,
     "end_time": "2022-08-30T16:51:48.880832",
     "exception": false,
     "start_time": "2022-08-30T16:51:48.822378",
     "status": "completed"
    },
    "tags": []
   },
   "outputs": [
    {
     "data": {
      "text/plain": [
       "(6425, 7)"
      ]
     },
     "execution_count": 20,
     "metadata": {},
     "output_type": "execute_result"
    }
   ],
   "source": [
    "genes_info.shape"
   ]
  },
  {
   "cell_type": "code",
   "execution_count": 21,
   "id": "d16c3e92-85ec-468a-9a56-e25a9774a1cb",
   "metadata": {
    "execution": {
     "iopub.execute_input": "2022-08-30T16:51:48.940097Z",
     "iopub.status.busy": "2022-08-30T16:51:48.939669Z",
     "iopub.status.idle": "2022-08-30T16:51:48.982623Z",
     "shell.execute_reply": "2022-08-30T16:51:48.981639Z"
    },
    "papermill": {
     "duration": 0.075968,
     "end_time": "2022-08-30T16:51:48.985106",
     "exception": false,
     "start_time": "2022-08-30T16:51:48.909138",
     "status": "completed"
    },
    "tags": []
   },
   "outputs": [
    {
     "data": {
      "text/html": [
       "<div>\n",
       "<style scoped>\n",
       "    .dataframe tbody tr th:only-of-type {\n",
       "        vertical-align: middle;\n",
       "    }\n",
       "\n",
       "    .dataframe tbody tr th {\n",
       "        vertical-align: top;\n",
       "    }\n",
       "\n",
       "    .dataframe thead th {\n",
       "        text-align: right;\n",
       "    }\n",
       "</style>\n",
       "<table border=\"1\" class=\"dataframe\">\n",
       "  <thead>\n",
       "    <tr style=\"text-align: right;\">\n",
       "      <th></th>\n",
       "      <th>name</th>\n",
       "      <th>id</th>\n",
       "      <th>chr</th>\n",
       "      <th>band</th>\n",
       "      <th>start_position</th>\n",
       "      <th>end_position</th>\n",
       "      <th>gene_length</th>\n",
       "    </tr>\n",
       "  </thead>\n",
       "  <tbody>\n",
       "    <tr>\n",
       "      <th>0</th>\n",
       "      <td>ADAMTS14</td>\n",
       "      <td>ENSG00000138316</td>\n",
       "      <td>10</td>\n",
       "      <td>10q22.1</td>\n",
       "      <td>70672506</td>\n",
       "      <td>70762441</td>\n",
       "      <td>89935</td>\n",
       "    </tr>\n",
       "    <tr>\n",
       "      <th>1</th>\n",
       "      <td>TXN</td>\n",
       "      <td>ENSG00000136810</td>\n",
       "      <td>9</td>\n",
       "      <td>9q31.3</td>\n",
       "      <td>110243810</td>\n",
       "      <td>110256507</td>\n",
       "      <td>12697</td>\n",
       "    </tr>\n",
       "    <tr>\n",
       "      <th>2</th>\n",
       "      <td>RMI1</td>\n",
       "      <td>ENSG00000178966</td>\n",
       "      <td>9</td>\n",
       "      <td>9q21.32</td>\n",
       "      <td>83980711</td>\n",
       "      <td>84004074</td>\n",
       "      <td>23363</td>\n",
       "    </tr>\n",
       "    <tr>\n",
       "      <th>3</th>\n",
       "      <td>DHX58</td>\n",
       "      <td>ENSG00000108771</td>\n",
       "      <td>17</td>\n",
       "      <td>17q21.2</td>\n",
       "      <td>42101404</td>\n",
       "      <td>42112714</td>\n",
       "      <td>11310</td>\n",
       "    </tr>\n",
       "    <tr>\n",
       "      <th>4</th>\n",
       "      <td>XRCC4</td>\n",
       "      <td>ENSG00000152422</td>\n",
       "      <td>5</td>\n",
       "      <td>5q14.2</td>\n",
       "      <td>83077498</td>\n",
       "      <td>83353787</td>\n",
       "      <td>276289</td>\n",
       "    </tr>\n",
       "  </tbody>\n",
       "</table>\n",
       "</div>"
      ],
      "text/plain": [
       "       name               id  chr     band  start_position  end_position  \\\n",
       "0  ADAMTS14  ENSG00000138316   10  10q22.1        70672506      70762441   \n",
       "1       TXN  ENSG00000136810    9   9q31.3       110243810     110256507   \n",
       "2      RMI1  ENSG00000178966    9  9q21.32        83980711      84004074   \n",
       "3     DHX58  ENSG00000108771   17  17q21.2        42101404      42112714   \n",
       "4     XRCC4  ENSG00000152422    5   5q14.2        83077498      83353787   \n",
       "\n",
       "   gene_length  \n",
       "0        89935  \n",
       "1        12697  \n",
       "2        23363  \n",
       "3        11310  \n",
       "4       276289  "
      ]
     },
     "execution_count": 21,
     "metadata": {},
     "output_type": "execute_result"
    }
   ],
   "source": [
    "genes_info.head()"
   ]
  },
  {
   "cell_type": "markdown",
   "id": "d3843e06",
   "metadata": {
    "papermill": {
     "duration": 0.030076,
     "end_time": "2022-08-30T16:51:49.046867",
     "exception": false,
     "start_time": "2022-08-30T16:51:49.016791",
     "status": "completed"
    },
    "tags": []
   },
   "source": [
    "# Compute correlations"
   ]
  },
  {
   "cell_type": "code",
   "execution_count": 22,
   "id": "cb859c15-d1f3-4006-a74c-2b83c0db9611",
   "metadata": {
    "execution": {
     "iopub.execute_input": "2022-08-30T16:51:49.101417Z",
     "iopub.status.busy": "2022-08-30T16:51:49.101071Z",
     "iopub.status.idle": "2022-08-30T16:51:49.133702Z",
     "shell.execute_reply": "2022-08-30T16:51:49.132900Z"
    },
    "papermill": {
     "duration": 0.061956,
     "end_time": "2022-08-30T16:51:49.135949",
     "exception": false,
     "start_time": "2022-08-30T16:51:49.073993",
     "status": "completed"
    },
    "tags": []
   },
   "outputs": [
    {
     "data": {
      "text/plain": [
       "PosixPath('/project/ritchie20/projects/phenoplier/base/results/gls/gene_corrs/cohorts/emerge/gtex_v8/mashr/by_chr/gene_corrs-chr20.pkl')"
      ]
     },
     "metadata": {},
     "output_type": "display_data"
    }
   ],
   "source": [
    "output_dir = OUTPUT_DIR_BASE / \"by_chr\"\n",
    "output_dir.mkdir(exist_ok=True, parents=True)\n",
    "output_file = output_dir / f\"gene_corrs-chr{CHROMOSOME}.pkl\"\n",
    "display(output_file)"
   ]
  },
  {
   "cell_type": "code",
   "execution_count": 23,
   "id": "aa674fe4-6794-4eed-98fa-32b39d1d4ace",
   "metadata": {
    "execution": {
     "iopub.execute_input": "2022-08-30T16:51:49.190267Z",
     "iopub.status.busy": "2022-08-30T16:51:49.189868Z",
     "iopub.status.idle": "2022-08-30T16:51:49.220018Z",
     "shell.execute_reply": "2022-08-30T16:51:49.219107Z"
    },
    "papermill": {
     "duration": 0.062327,
     "end_time": "2022-08-30T16:51:49.222674",
     "exception": false,
     "start_time": "2022-08-30T16:51:49.160347",
     "status": "completed"
    },
    "tags": []
   },
   "outputs": [],
   "source": [
    "warnings.filterwarnings(\"error\")"
   ]
  },
  {
   "cell_type": "code",
   "execution_count": 24,
   "id": "44d5450b-3baf-43f1-9e2e-4b06f1a785f8",
   "metadata": {
    "execution": {
     "iopub.execute_input": "2022-08-30T16:51:49.276321Z",
     "iopub.status.busy": "2022-08-30T16:51:49.275961Z",
     "iopub.status.idle": "2022-08-30T16:51:49.305244Z",
     "shell.execute_reply": "2022-08-30T16:51:49.304310Z"
    },
    "papermill": {
     "duration": 0.060587,
     "end_time": "2022-08-30T16:51:49.307894",
     "exception": false,
     "start_time": "2022-08-30T16:51:49.247307",
     "status": "completed"
    },
    "tags": []
   },
   "outputs": [],
   "source": [
    "# standard checks\n",
    "all_chrs = genes_info[\"chr\"].dropna().unique()\n",
    "assert all_chrs.shape[0] == 22\n",
    "\n",
    "# select chromosome given by the user\n",
    "assert CHROMOSOME in all_chrs"
   ]
  },
  {
   "cell_type": "code",
   "execution_count": 25,
   "id": "2d7c043c-92a7-4d35-991b-fa69ac1e0268",
   "metadata": {
    "execution": {
     "iopub.execute_input": "2022-08-30T16:51:49.360117Z",
     "iopub.status.busy": "2022-08-30T16:51:49.359794Z",
     "iopub.status.idle": "2022-08-30T16:51:49.477337Z",
     "shell.execute_reply": "2022-08-30T16:51:49.476295Z"
    },
    "papermill": {
     "duration": 0.148393,
     "end_time": "2022-08-30T16:51:49.480292",
     "exception": false,
     "start_time": "2022-08-30T16:51:49.331899",
     "status": "completed"
    },
    "tags": []
   },
   "outputs": [
    {
     "name": "stdout",
     "output_type": "stream",
     "text": [
      "Number of genes in chromosome: 187\n"
     ]
    }
   ],
   "source": [
    "# run only on the chromosome specified\n",
    "all_chrs = [CHROMOSOME]\n",
    "genes_chr = genes_info[genes_info[\"chr\"] == CHROMOSOME]\n",
    "\n",
    "# For testing purposes\n",
    "# genes_chr = genes_chr.sample(n=20)\n",
    "\n",
    "print(f\"Number of genes in chromosome: {genes_chr.shape[0]}\", flush=True)"
   ]
  },
  {
   "cell_type": "code",
   "execution_count": 26,
   "id": "916015d8-2979-46d3-a9b9-1cf5a0932c6a",
   "metadata": {
    "execution": {
     "iopub.execute_input": "2022-08-30T16:51:49.538250Z",
     "iopub.status.busy": "2022-08-30T16:51:49.537872Z",
     "iopub.status.idle": "2022-08-30T16:51:49.567687Z",
     "shell.execute_reply": "2022-08-30T16:51:49.566800Z"
    },
    "papermill": {
     "duration": 0.063157,
     "end_time": "2022-08-30T16:51:49.570351",
     "exception": false,
     "start_time": "2022-08-30T16:51:49.507194",
     "status": "completed"
    },
    "tags": []
   },
   "outputs": [],
   "source": [
    "# sort genes by starting position to make visualizations better later\n",
    "genes_chr = genes_chr.sort_values(\"start_position\")"
   ]
  },
  {
   "cell_type": "code",
   "execution_count": 27,
   "id": "a38aa74a-8ad3-47f6-8ef9-56be0e011774",
   "metadata": {
    "execution": {
     "iopub.execute_input": "2022-08-30T16:51:49.623011Z",
     "iopub.status.busy": "2022-08-30T16:51:49.622700Z",
     "iopub.status.idle": "2022-08-30T16:51:49.646942Z",
     "shell.execute_reply": "2022-08-30T16:51:49.646077Z"
    },
    "papermill": {
     "duration": 0.056402,
     "end_time": "2022-08-30T16:51:49.649068",
     "exception": false,
     "start_time": "2022-08-30T16:51:49.592666",
     "status": "completed"
    },
    "tags": []
   },
   "outputs": [],
   "source": [
    "gene_chr_objs = [Gene(ensembl_id=gene_id) for gene_id in genes_chr[\"id\"]]"
   ]
  },
  {
   "cell_type": "code",
   "execution_count": 28,
   "id": "570f974f-13c3-42b6-ad3a-ce99ca885c1a",
   "metadata": {
    "execution": {
     "iopub.execute_input": "2022-08-30T16:51:49.698865Z",
     "iopub.status.busy": "2022-08-30T16:51:49.698568Z",
     "iopub.status.idle": "2022-08-30T16:51:49.725054Z",
     "shell.execute_reply": "2022-08-30T16:51:49.724216Z"
    },
    "papermill": {
     "duration": 0.057736,
     "end_time": "2022-08-30T16:51:49.727289",
     "exception": false,
     "start_time": "2022-08-30T16:51:49.669553",
     "status": "completed"
    },
    "tags": []
   },
   "outputs": [
    {
     "name": "stdout",
     "output_type": "stream",
     "text": [
      "Number of gene combinations: 17578\n"
     ]
    }
   ],
   "source": [
    "n = len(gene_chr_objs)\n",
    "# diagonal elements + upper triangular matrix\n",
    "n_comb = n + int(n * (n - 1) / 2.0)\n",
    "print(f\"Number of gene combinations: {n_comb}\", flush=True)"
   ]
  },
  {
   "cell_type": "code",
   "execution_count": 29,
   "id": "cdbb90a1",
   "metadata": {
    "execution": {
     "iopub.execute_input": "2022-08-30T16:51:49.788807Z",
     "iopub.status.busy": "2022-08-30T16:51:49.788459Z",
     "iopub.status.idle": "2022-08-30T17:15:35.423568Z",
     "shell.execute_reply": "2022-08-30T17:15:35.422679Z"
    },
    "papermill": {
     "duration": 1425.66673,
     "end_time": "2022-08-30T17:15:35.425888",
     "exception": false,
     "start_time": "2022-08-30T16:51:49.759158",
     "status": "completed"
    },
    "tags": []
   },
   "outputs": [
    {
     "name": "stderr",
     "output_type": "stream",
     "text": [
      "ENSG00000125510 / ENSG00000125510: 100%|██████████████████████| 17578/17578 [23:45<00:00, 12.33it/s]\n"
     ]
    },
    {
     "data": {
      "text/plain": [
       "PosixPath('/project/ritchie20/projects/phenoplier/base/results/gls/gene_corrs/cohorts/emerge/gtex_v8/mashr/by_chr/gene_corrs-chr20.pkl')"
      ]
     },
     "metadata": {},
     "output_type": "display_data"
    }
   ],
   "source": [
    "gene_corrs = []\n",
    "gene_corrs_data = np.full(\n",
    "    (n, n),\n",
    "    np.nan,\n",
    "    dtype=np.float64,\n",
    ")\n",
    "\n",
    "i = 0\n",
    "with tqdm(ncols=100, total=n_comb) as pbar:\n",
    "    for gene1_idx in range(0, len(gene_chr_objs)):\n",
    "        gene1_obj = gene_chr_objs[gene1_idx]\n",
    "        gene1_tissues = spredixcan_genes_models.loc[gene1_obj.ensembl_id, \"tissue\"]\n",
    "\n",
    "        for gene2_idx in range(gene1_idx, len(gene_chr_objs)):\n",
    "            gene2_obj = gene_chr_objs[gene2_idx]\n",
    "            gene2_tissues = spredixcan_genes_models.loc[gene2_obj.ensembl_id, \"tissue\"]\n",
    "\n",
    "            pbar.set_description(f\"{gene1_obj.ensembl_id} / {gene2_obj.ensembl_id}\")\n",
    "\n",
    "            try:\n",
    "                r = gene1_obj.get_ssm_correlation(\n",
    "                    other_gene=gene2_obj,\n",
    "                    tissues=gene1_tissues,\n",
    "                    other_tissues=gene2_tissues,\n",
    "                    snps_subset=gwas_variants_ids_set,\n",
    "                    condition_number=SMULTIXCAN_CONDITION_NUMBER,\n",
    "                    reference_panel=REFERENCE_PANEL,\n",
    "                    model_type=EQTL_MODEL,\n",
    "                    use_within_distance=COMPUTE_CORRELATIONS_WITHIN_DISTANCE,\n",
    "                )\n",
    "\n",
    "                if r is None:\n",
    "                    # if r is None, it's very likely because:\n",
    "                    #  * one of the genes has no prediction models\n",
    "                    #  * all the SNPs predictors for the gene are not present in the reference\n",
    "                    #    panel\n",
    "\n",
    "                    r = 0.0\n",
    "\n",
    "                gene_corrs.append(r)\n",
    "\n",
    "                gene_corrs_data[gene1_idx, gene2_idx] = r\n",
    "                gene_corrs_data[gene2_idx, gene1_idx] = r\n",
    "            except Warning as e:\n",
    "                if not DEBUG_MODE:\n",
    "                    raise e\n",
    "\n",
    "                print(\n",
    "                    f\"RuntimeWarning for genes {gene1_obj.ensembl_id} and {gene2_obj.ensembl_id}\",\n",
    "                    flush=True,\n",
    "                )\n",
    "                print(traceback.format_exc(), flush=True)\n",
    "\n",
    "                gene_corrs.append(np.nan)\n",
    "            except Exception as e:\n",
    "                if not DEBUG_MODE:\n",
    "                    raise e\n",
    "\n",
    "                print(\n",
    "                    f\"Exception for genes {gene1_obj.ensembl_id} and {gene2_obj.ensembl_id}\",\n",
    "                    flush=True,\n",
    "                )\n",
    "                print(traceback.format_exc(), flush=True)\n",
    "\n",
    "                gene_corrs.append(np.nan)\n",
    "\n",
    "            pbar.update(1)\n",
    "\n",
    "# create a pandas series\n",
    "gene_corrs_flat = pd.Series(gene_corrs)\n",
    "\n",
    "# save\n",
    "# FIXME: consider saving only the condenced matrix here. See here for\n",
    "# more details: https://github.com/greenelab/phenoplier/pull/38#discussion_r634600813\n",
    "# gene_corrs_data = squareform(np.array(gene_corrs, dtype=np.float64))\n",
    "# np.fill_diagonal(gene_corrs_data, 1.0)\n",
    "\n",
    "gene_chr_ids = [g.ensembl_id for g in gene_chr_objs]\n",
    "gene_corrs_df = pd.DataFrame(\n",
    "    data=gene_corrs_data,\n",
    "    index=gene_chr_ids,\n",
    "    columns=gene_chr_ids,\n",
    ")\n",
    "\n",
    "output_dir.mkdir(exist_ok=True, parents=True)\n",
    "display(output_file)\n",
    "\n",
    "gene_corrs_df.to_pickle(output_file)"
   ]
  },
  {
   "cell_type": "markdown",
   "id": "faa67b51-5373-470f-aa72-2ded53fa6dfe",
   "metadata": {
    "papermill": {
     "duration": 0.999522,
     "end_time": "2022-08-30T17:15:37.434447",
     "exception": false,
     "start_time": "2022-08-30T17:15:36.434925",
     "status": "completed"
    },
    "tags": []
   },
   "source": [
    "# Testing"
   ]
  },
  {
   "cell_type": "code",
   "execution_count": 30,
   "id": "14f7d046-4b55-4896-a56b-990127bcc388",
   "metadata": {
    "execution": {
     "iopub.execute_input": "2022-08-30T17:15:39.435756Z",
     "iopub.status.busy": "2022-08-30T17:15:39.435496Z",
     "iopub.status.idle": "2022-08-30T17:15:39.687216Z",
     "shell.execute_reply": "2022-08-30T17:15:39.686239Z"
    },
    "papermill": {
     "duration": 1.255441,
     "end_time": "2022-08-30T17:15:39.690103",
     "exception": false,
     "start_time": "2022-08-30T17:15:38.434662",
     "status": "completed"
    },
    "tags": []
   },
   "outputs": [
    {
     "data": {
      "text/plain": [
       "(187, 187)"
      ]
     },
     "execution_count": 30,
     "metadata": {},
     "output_type": "execute_result"
    }
   ],
   "source": [
    "gene_corrs_df.shape"
   ]
  },
  {
   "cell_type": "code",
   "execution_count": 31,
   "id": "c7d15414-3297-4537-a7c6-7588c0baeb75",
   "metadata": {
    "execution": {
     "iopub.execute_input": "2022-08-30T17:15:41.730346Z",
     "iopub.status.busy": "2022-08-30T17:15:41.730095Z",
     "iopub.status.idle": "2022-08-30T17:15:41.771514Z",
     "shell.execute_reply": "2022-08-30T17:15:41.770800Z"
    },
    "papermill": {
     "duration": 1.045705,
     "end_time": "2022-08-30T17:15:41.772920",
     "exception": false,
     "start_time": "2022-08-30T17:15:40.727215",
     "status": "completed"
    },
    "tags": []
   },
   "outputs": [
    {
     "data": {
      "text/html": [
       "<div>\n",
       "<style scoped>\n",
       "    .dataframe tbody tr th:only-of-type {\n",
       "        vertical-align: middle;\n",
       "    }\n",
       "\n",
       "    .dataframe tbody tr th {\n",
       "        vertical-align: top;\n",
       "    }\n",
       "\n",
       "    .dataframe thead th {\n",
       "        text-align: right;\n",
       "    }\n",
       "</style>\n",
       "<table border=\"1\" class=\"dataframe\">\n",
       "  <thead>\n",
       "    <tr style=\"text-align: right;\">\n",
       "      <th></th>\n",
       "      <th>ENSG00000101255</th>\n",
       "      <th>ENSG00000125826</th>\n",
       "      <th>ENSG00000101266</th>\n",
       "      <th>ENSG00000101280</th>\n",
       "      <th>ENSG00000125818</th>\n",
       "      <th>ENSG00000101298</th>\n",
       "      <th>ENSG00000088832</th>\n",
       "      <th>ENSG00000101307</th>\n",
       "      <th>ENSG00000089012</th>\n",
       "      <th>ENSG00000198053</th>\n",
       "      <th>...</th>\n",
       "      <th>ENSG00000092758</th>\n",
       "      <th>ENSG00000101191</th>\n",
       "      <th>ENSG00000101199</th>\n",
       "      <th>ENSG00000243509</th>\n",
       "      <th>ENSG00000203896</th>\n",
       "      <th>ENSG00000101152</th>\n",
       "      <th>ENSG00000198276</th>\n",
       "      <th>ENSG00000101161</th>\n",
       "      <th>ENSG00000171700</th>\n",
       "      <th>ENSG00000125510</th>\n",
       "    </tr>\n",
       "  </thead>\n",
       "  <tbody>\n",
       "    <tr>\n",
       "      <th>ENSG00000101255</th>\n",
       "      <td>1.000000</td>\n",
       "      <td>0.060890</td>\n",
       "      <td>0.017767</td>\n",
       "      <td>0.006848</td>\n",
       "      <td>0.001665</td>\n",
       "      <td>0.008264</td>\n",
       "      <td>0.004312</td>\n",
       "      <td>0.001363</td>\n",
       "      <td>0.003985</td>\n",
       "      <td>0.006856</td>\n",
       "      <td>...</td>\n",
       "      <td>0.007685</td>\n",
       "      <td>0.007489</td>\n",
       "      <td>0.003880</td>\n",
       "      <td>0.003637</td>\n",
       "      <td>0.004460</td>\n",
       "      <td>0.004138</td>\n",
       "      <td>0.004843</td>\n",
       "      <td>0.003976</td>\n",
       "      <td>0.006384</td>\n",
       "      <td>0.006945</td>\n",
       "    </tr>\n",
       "    <tr>\n",
       "      <th>ENSG00000125826</th>\n",
       "      <td>0.060890</td>\n",
       "      <td>1.000000</td>\n",
       "      <td>0.059804</td>\n",
       "      <td>0.009671</td>\n",
       "      <td>0.001098</td>\n",
       "      <td>0.008286</td>\n",
       "      <td>0.008844</td>\n",
       "      <td>0.005670</td>\n",
       "      <td>0.004607</td>\n",
       "      <td>0.007537</td>\n",
       "      <td>...</td>\n",
       "      <td>0.015588</td>\n",
       "      <td>0.007082</td>\n",
       "      <td>0.002354</td>\n",
       "      <td>0.008969</td>\n",
       "      <td>0.011099</td>\n",
       "      <td>0.005297</td>\n",
       "      <td>0.010397</td>\n",
       "      <td>0.005662</td>\n",
       "      <td>0.004526</td>\n",
       "      <td>0.006186</td>\n",
       "    </tr>\n",
       "    <tr>\n",
       "      <th>ENSG00000101266</th>\n",
       "      <td>0.017767</td>\n",
       "      <td>0.059804</td>\n",
       "      <td>1.000000</td>\n",
       "      <td>0.013558</td>\n",
       "      <td>0.007299</td>\n",
       "      <td>0.008606</td>\n",
       "      <td>0.004531</td>\n",
       "      <td>0.003558</td>\n",
       "      <td>0.006842</td>\n",
       "      <td>0.009198</td>\n",
       "      <td>...</td>\n",
       "      <td>0.009533</td>\n",
       "      <td>0.012282</td>\n",
       "      <td>0.005785</td>\n",
       "      <td>0.010686</td>\n",
       "      <td>0.005084</td>\n",
       "      <td>0.005603</td>\n",
       "      <td>0.007585</td>\n",
       "      <td>0.004325</td>\n",
       "      <td>0.002549</td>\n",
       "      <td>0.005166</td>\n",
       "    </tr>\n",
       "    <tr>\n",
       "      <th>ENSG00000101280</th>\n",
       "      <td>0.006848</td>\n",
       "      <td>0.009671</td>\n",
       "      <td>0.013558</td>\n",
       "      <td>1.000000</td>\n",
       "      <td>0.002424</td>\n",
       "      <td>0.013497</td>\n",
       "      <td>0.010529</td>\n",
       "      <td>0.006470</td>\n",
       "      <td>0.007434</td>\n",
       "      <td>0.009474</td>\n",
       "      <td>...</td>\n",
       "      <td>0.011182</td>\n",
       "      <td>0.007228</td>\n",
       "      <td>0.008981</td>\n",
       "      <td>0.013101</td>\n",
       "      <td>0.006206</td>\n",
       "      <td>0.003421</td>\n",
       "      <td>0.010968</td>\n",
       "      <td>0.009737</td>\n",
       "      <td>0.003310</td>\n",
       "      <td>0.003093</td>\n",
       "    </tr>\n",
       "    <tr>\n",
       "      <th>ENSG00000125818</th>\n",
       "      <td>0.001665</td>\n",
       "      <td>0.001098</td>\n",
       "      <td>0.007299</td>\n",
       "      <td>0.002424</td>\n",
       "      <td>1.000000</td>\n",
       "      <td>0.009390</td>\n",
       "      <td>0.014527</td>\n",
       "      <td>0.000604</td>\n",
       "      <td>0.005739</td>\n",
       "      <td>0.003763</td>\n",
       "      <td>...</td>\n",
       "      <td>0.008812</td>\n",
       "      <td>0.003683</td>\n",
       "      <td>0.000838</td>\n",
       "      <td>0.007084</td>\n",
       "      <td>0.002838</td>\n",
       "      <td>0.002040</td>\n",
       "      <td>0.003925</td>\n",
       "      <td>0.004865</td>\n",
       "      <td>0.000403</td>\n",
       "      <td>0.000381</td>\n",
       "    </tr>\n",
       "  </tbody>\n",
       "</table>\n",
       "<p>5 rows × 187 columns</p>\n",
       "</div>"
      ],
      "text/plain": [
       "                 ENSG00000101255  ENSG00000125826  ENSG00000101266  \\\n",
       "ENSG00000101255         1.000000         0.060890         0.017767   \n",
       "ENSG00000125826         0.060890         1.000000         0.059804   \n",
       "ENSG00000101266         0.017767         0.059804         1.000000   \n",
       "ENSG00000101280         0.006848         0.009671         0.013558   \n",
       "ENSG00000125818         0.001665         0.001098         0.007299   \n",
       "\n",
       "                 ENSG00000101280  ENSG00000125818  ENSG00000101298  \\\n",
       "ENSG00000101255         0.006848         0.001665         0.008264   \n",
       "ENSG00000125826         0.009671         0.001098         0.008286   \n",
       "ENSG00000101266         0.013558         0.007299         0.008606   \n",
       "ENSG00000101280         1.000000         0.002424         0.013497   \n",
       "ENSG00000125818         0.002424         1.000000         0.009390   \n",
       "\n",
       "                 ENSG00000088832  ENSG00000101307  ENSG00000089012  \\\n",
       "ENSG00000101255         0.004312         0.001363         0.003985   \n",
       "ENSG00000125826         0.008844         0.005670         0.004607   \n",
       "ENSG00000101266         0.004531         0.003558         0.006842   \n",
       "ENSG00000101280         0.010529         0.006470         0.007434   \n",
       "ENSG00000125818         0.014527         0.000604         0.005739   \n",
       "\n",
       "                 ENSG00000198053  ...  ENSG00000092758  ENSG00000101191  \\\n",
       "ENSG00000101255         0.006856  ...         0.007685         0.007489   \n",
       "ENSG00000125826         0.007537  ...         0.015588         0.007082   \n",
       "ENSG00000101266         0.009198  ...         0.009533         0.012282   \n",
       "ENSG00000101280         0.009474  ...         0.011182         0.007228   \n",
       "ENSG00000125818         0.003763  ...         0.008812         0.003683   \n",
       "\n",
       "                 ENSG00000101199  ENSG00000243509  ENSG00000203896  \\\n",
       "ENSG00000101255         0.003880         0.003637         0.004460   \n",
       "ENSG00000125826         0.002354         0.008969         0.011099   \n",
       "ENSG00000101266         0.005785         0.010686         0.005084   \n",
       "ENSG00000101280         0.008981         0.013101         0.006206   \n",
       "ENSG00000125818         0.000838         0.007084         0.002838   \n",
       "\n",
       "                 ENSG00000101152  ENSG00000198276  ENSG00000101161  \\\n",
       "ENSG00000101255         0.004138         0.004843         0.003976   \n",
       "ENSG00000125826         0.005297         0.010397         0.005662   \n",
       "ENSG00000101266         0.005603         0.007585         0.004325   \n",
       "ENSG00000101280         0.003421         0.010968         0.009737   \n",
       "ENSG00000125818         0.002040         0.003925         0.004865   \n",
       "\n",
       "                 ENSG00000171700  ENSG00000125510  \n",
       "ENSG00000101255         0.006384         0.006945  \n",
       "ENSG00000125826         0.004526         0.006186  \n",
       "ENSG00000101266         0.002549         0.005166  \n",
       "ENSG00000101280         0.003310         0.003093  \n",
       "ENSG00000125818         0.000403         0.000381  \n",
       "\n",
       "[5 rows x 187 columns]"
      ]
     },
     "execution_count": 31,
     "metadata": {},
     "output_type": "execute_result"
    }
   ],
   "source": [
    "gene_corrs_df.head()"
   ]
  },
  {
   "cell_type": "markdown",
   "id": "dad6603f-01c6-41fb-a6f6-241051207dd8",
   "metadata": {
    "papermill": {
     "duration": 0.999474,
     "end_time": "2022-08-30T17:15:43.763231",
     "exception": false,
     "start_time": "2022-08-30T17:15:42.763757",
     "status": "completed"
    },
    "tags": []
   },
   "source": [
    "## Standard checks and stats"
   ]
  },
  {
   "cell_type": "code",
   "execution_count": 32,
   "id": "286686af-1b7b-4440-8453-6bdcbd8de19c",
   "metadata": {
    "execution": {
     "iopub.execute_input": "2022-08-30T17:15:45.749951Z",
     "iopub.status.busy": "2022-08-30T17:15:45.749698Z",
     "iopub.status.idle": "2022-08-30T17:15:45.769488Z",
     "shell.execute_reply": "2022-08-30T17:15:45.769002Z"
    },
    "papermill": {
     "duration": 1.015747,
     "end_time": "2022-08-30T17:15:45.771002",
     "exception": false,
     "start_time": "2022-08-30T17:15:44.755255",
     "status": "completed"
    },
    "tags": []
   },
   "outputs": [],
   "source": [
    "assert not gene_corrs_df.isna().any().any()"
   ]
  },
  {
   "cell_type": "code",
   "execution_count": 33,
   "id": "00583efc-7068-4270-ad1e-4a418e91db96",
   "metadata": {
    "execution": {
     "iopub.execute_input": "2022-08-30T17:15:47.758561Z",
     "iopub.status.busy": "2022-08-30T17:15:47.758311Z",
     "iopub.status.idle": "2022-08-30T17:15:47.779855Z",
     "shell.execute_reply": "2022-08-30T17:15:47.779341Z"
    },
    "papermill": {
     "duration": 1.015375,
     "end_time": "2022-08-30T17:15:47.781364",
     "exception": false,
     "start_time": "2022-08-30T17:15:46.765989",
     "status": "completed"
    },
    "tags": []
   },
   "outputs": [
    {
     "data": {
      "text/plain": [
       "5.052582228595896e-07"
      ]
     },
     "metadata": {},
     "output_type": "display_data"
    }
   ],
   "source": [
    "_min_val = gene_corrs_df.min().min()\n",
    "display(_min_val)\n",
    "assert _min_val >= -0.05"
   ]
  },
  {
   "cell_type": "code",
   "execution_count": 34,
   "id": "d04fb2cf-1050-475b-b855-f5f7cc04092b",
   "metadata": {
    "execution": {
     "iopub.execute_input": "2022-08-30T17:15:49.773362Z",
     "iopub.status.busy": "2022-08-30T17:15:49.773103Z",
     "iopub.status.idle": "2022-08-30T17:15:49.793965Z",
     "shell.execute_reply": "2022-08-30T17:15:49.793268Z"
    },
    "papermill": {
     "duration": 1.022276,
     "end_time": "2022-08-30T17:15:49.795486",
     "exception": false,
     "start_time": "2022-08-30T17:15:48.773210",
     "status": "completed"
    },
    "tags": []
   },
   "outputs": [
    {
     "data": {
      "text/plain": [
       "1.0000000000000024"
      ]
     },
     "metadata": {},
     "output_type": "display_data"
    }
   ],
   "source": [
    "_max_val = gene_corrs_df.max().max()  # this captures the diagonal\n",
    "display(_max_val)\n",
    "assert _max_val <= 1.05"
   ]
  },
  {
   "cell_type": "code",
   "execution_count": 35,
   "id": "96d02c44-1fba-47be-8a93-8f2608420b9c",
   "metadata": {
    "execution": {
     "iopub.execute_input": "2022-08-30T17:15:51.783209Z",
     "iopub.status.busy": "2022-08-30T17:15:51.782933Z",
     "iopub.status.idle": "2022-08-30T17:15:51.807671Z",
     "shell.execute_reply": "2022-08-30T17:15:51.807189Z"
    },
    "papermill": {
     "duration": 1.02208,
     "end_time": "2022-08-30T17:15:51.809190",
     "exception": false,
     "start_time": "2022-08-30T17:15:50.787110",
     "status": "completed"
    },
    "tags": []
   },
   "outputs": [],
   "source": [
    "# check upper triangular values\n",
    "# assert len(gene_corrs) == int(genes_chr.shape[0] * (genes_chr.shape[0] - 1) / 2)"
   ]
  },
  {
   "cell_type": "code",
   "execution_count": 36,
   "id": "fe283586-c348-40e0-8841-f6d97bfb021c",
   "metadata": {
    "execution": {
     "iopub.execute_input": "2022-08-30T17:15:53.811848Z",
     "iopub.status.busy": "2022-08-30T17:15:53.811598Z",
     "iopub.status.idle": "2022-08-30T17:15:53.839463Z",
     "shell.execute_reply": "2022-08-30T17:15:53.838969Z"
    },
    "papermill": {
     "duration": 1.034606,
     "end_time": "2022-08-30T17:15:53.840874",
     "exception": false,
     "start_time": "2022-08-30T17:15:52.806268",
     "status": "completed"
    },
    "tags": []
   },
   "outputs": [
    {
     "data": {
      "text/plain": [
       "count    1.757800e+04\n",
       "mean     2.100237e-02\n",
       "std      1.090072e-01\n",
       "min      5.052582e-07\n",
       "25%      3.915566e-03\n",
       "50%      6.110033e-03\n",
       "75%      8.731487e-03\n",
       "max      1.000000e+00\n",
       "dtype: float64"
      ]
     },
     "execution_count": 36,
     "metadata": {},
     "output_type": "execute_result"
    }
   ],
   "source": [
    "gene_corrs_flat.describe()"
   ]
  },
  {
   "cell_type": "code",
   "execution_count": 37,
   "id": "b3815678-0f93-4b35-897b-a9d047a2aa78",
   "metadata": {
    "execution": {
     "iopub.execute_input": "2022-08-30T17:15:55.823492Z",
     "iopub.status.busy": "2022-08-30T17:15:55.823239Z",
     "iopub.status.idle": "2022-08-30T17:15:55.845213Z",
     "shell.execute_reply": "2022-08-30T17:15:55.844597Z"
    },
    "papermill": {
     "duration": 1.013059,
     "end_time": "2022-08-30T17:15:55.846729",
     "exception": false,
     "start_time": "2022-08-30T17:15:54.833670",
     "status": "completed"
    },
    "tags": []
   },
   "outputs": [
    {
     "data": {
      "text/plain": [
       "0.00    5.052582e-07\n",
       "0.05    1.590528e-03\n",
       "0.10    2.383376e-03\n",
       "0.15    2.976863e-03\n",
       "0.20    3.453684e-03\n",
       "0.25    3.915566e-03\n",
       "0.30    4.358264e-03\n",
       "0.35    4.790201e-03\n",
       "0.40    5.253962e-03\n",
       "0.45    5.691673e-03\n",
       "0.50    6.110033e-03\n",
       "0.55    6.539469e-03\n",
       "0.60    7.057638e-03\n",
       "0.65    7.558987e-03\n",
       "0.70    8.112829e-03\n",
       "0.75    8.731487e-03\n",
       "0.80    9.455147e-03\n",
       "0.85    1.037149e-02\n",
       "0.90    1.170464e-02\n",
       "0.95    1.490796e-02\n",
       "dtype: float64"
      ]
     },
     "metadata": {},
     "output_type": "display_data"
    }
   ],
   "source": [
    "gene_corrs_quantiles = gene_corrs_flat.quantile(np.arange(0, 1, 0.05))\n",
    "display(gene_corrs_quantiles)"
   ]
  },
  {
   "cell_type": "markdown",
   "id": "87134509-b145-4a10-8bc9-b7e914c2b0fa",
   "metadata": {
    "papermill": {
     "duration": 0.992742,
     "end_time": "2022-08-30T17:15:57.832570",
     "exception": false,
     "start_time": "2022-08-30T17:15:56.839828",
     "status": "completed"
    },
    "tags": []
   },
   "source": [
    "## Positive definiteness"
   ]
  },
  {
   "cell_type": "code",
   "execution_count": 38,
   "id": "07d9a9a1-a4f7-48aa-b916-6d42a8cc6186",
   "metadata": {
    "execution": {
     "iopub.execute_input": "2022-08-30T17:15:59.856778Z",
     "iopub.status.busy": "2022-08-30T17:15:59.856526Z",
     "iopub.status.idle": "2022-08-30T17:15:59.887930Z",
     "shell.execute_reply": "2022-08-30T17:15:59.887189Z"
    },
    "papermill": {
     "duration": 1.055351,
     "end_time": "2022-08-30T17:15:59.889367",
     "exception": false,
     "start_time": "2022-08-30T17:15:58.834016",
     "status": "completed"
    },
    "tags": []
   },
   "outputs": [
    {
     "data": {
      "text/plain": [
       "0"
      ]
     },
     "metadata": {},
     "output_type": "display_data"
    },
    {
     "data": {
      "text/plain": [
       "array([], dtype=float64)"
      ]
     },
     "metadata": {},
     "output_type": "display_data"
    }
   ],
   "source": [
    "# print negative eigenvalues\n",
    "eigs = np.linalg.eigvals(gene_corrs_df.to_numpy())\n",
    "display(len(eigs[eigs < 0]))\n",
    "display(eigs[eigs < 0])"
   ]
  },
  {
   "cell_type": "code",
   "execution_count": 39,
   "id": "6e218436-c3c5-4028-8c94-a4fa6260efce",
   "metadata": {
    "execution": {
     "iopub.execute_input": "2022-08-30T17:16:01.864311Z",
     "iopub.status.busy": "2022-08-30T17:16:01.864051Z",
     "iopub.status.idle": "2022-08-30T17:16:01.886903Z",
     "shell.execute_reply": "2022-08-30T17:16:01.886261Z"
    },
    "papermill": {
     "duration": 1.013007,
     "end_time": "2022-08-30T17:16:01.888433",
     "exception": false,
     "start_time": "2022-08-30T17:16:00.875426",
     "status": "completed"
    },
    "tags": []
   },
   "outputs": [
    {
     "name": "stdout",
     "output_type": "stream",
     "text": [
      "Works!\n"
     ]
    }
   ],
   "source": [
    "try:\n",
    "    chol_mat = np.linalg.cholesky(gene_corrs_df.to_numpy())\n",
    "    cov_inv = np.linalg.inv(chol_mat)\n",
    "    print(\"Works!\")\n",
    "except Exception as e:\n",
    "    print(f\"Cholesky decomposition failed: {str(e)}\")"
   ]
  },
  {
   "cell_type": "code",
   "execution_count": 40,
   "id": "dd8827fb-faf9-4c7c-9454-015e94752706",
   "metadata": {
    "execution": {
     "iopub.execute_input": "2022-08-30T17:16:03.883348Z",
     "iopub.status.busy": "2022-08-30T17:16:03.883095Z",
     "iopub.status.idle": "2022-08-30T17:16:04.156477Z",
     "shell.execute_reply": "2022-08-30T17:16:04.155332Z"
    },
    "papermill": {
     "duration": 1.276408,
     "end_time": "2022-08-30T17:16:04.159655",
     "exception": false,
     "start_time": "2022-08-30T17:16:02.883247",
     "status": "completed"
    },
    "tags": []
   },
   "outputs": [
    {
     "name": "stdout",
     "output_type": "stream",
     "text": [
      "Works!\n"
     ]
    }
   ],
   "source": [
    "try:\n",
    "    # decomposition used by statsmodels.GLS\n",
    "    cholsigmainv = np.linalg.cholesky(np.linalg.inv(gene_corrs_df.to_numpy())).T\n",
    "    print(\"Works!\")\n",
    "except Exception as e:\n",
    "    print(f\"Cholesky decomposition failed (statsmodels.GLS): {str(e)}\")"
   ]
  },
  {
   "cell_type": "markdown",
   "id": "8e60a080-edb2-4e9c-b2ef-22961693200c",
   "metadata": {
    "papermill": {
     "duration": 0.992968,
     "end_time": "2022-08-30T17:16:06.206038",
     "exception": false,
     "start_time": "2022-08-30T17:16:05.213070",
     "status": "completed"
    },
    "tags": []
   },
   "source": [
    "## Plot: distribution"
   ]
  },
  {
   "cell_type": "code",
   "execution_count": 41,
   "id": "8301126b-a7d4-4744-9c7d-f0f86eb6f54c",
   "metadata": {
    "execution": {
     "iopub.execute_input": "2022-08-30T17:16:08.192062Z",
     "iopub.status.busy": "2022-08-30T17:16:08.191811Z",
     "iopub.status.idle": "2022-08-30T17:16:14.875006Z",
     "shell.execute_reply": "2022-08-30T17:16:14.874334Z"
    },
    "papermill": {
     "duration": 7.6757,
     "end_time": "2022-08-30T17:16:14.877016",
     "exception": false,
     "start_time": "2022-08-30T17:16:07.201316",
     "status": "completed"
    },
    "tags": []
   },
   "outputs": [
    {
     "data": {
      "image/png": "[encoded data removed]",
      "text/plain": [
       "<Figure size 504x504 with 1 Axes>"
      ]
     },
     "metadata": {
      "needs_background": "light"
     },
     "output_type": "display_data"
    }
   ],
   "source": [
    "with sns.plotting_context(\"paper\", font_scale=1.5):\n",
    "    g = sns.displot(gene_corrs_flat, kde=True, height=7)\n",
    "    g.ax.set_title(\n",
    "        f\"Distribution of gene correlation values in chromosome {CHROMOSOME}\"\n",
    "    )"
   ]
  },
  {
   "cell_type": "markdown",
   "id": "cbd52bca-d878-4a2f-b684-5c83aa3038d4",
   "metadata": {
    "papermill": {
     "duration": 0.999994,
     "end_time": "2022-08-30T17:16:16.882132",
     "exception": false,
     "start_time": "2022-08-30T17:16:15.882138",
     "status": "completed"
    },
    "tags": []
   },
   "source": [
    "## Plot: heatmap"
   ]
  },
  {
   "cell_type": "code",
   "execution_count": 42,
   "id": "d03fe63a-c7b2-4fb9-a53c-db362ce843c9",
   "metadata": {
    "execution": {
     "iopub.execute_input": "2022-08-30T17:16:18.861519Z",
     "iopub.status.busy": "2022-08-30T17:16:18.861261Z",
     "iopub.status.idle": "2022-08-30T17:16:18.920667Z",
     "shell.execute_reply": "2022-08-30T17:16:18.920180Z"
    },
    "papermill": {
     "duration": 1.050842,
     "end_time": "2022-08-30T17:16:18.922091",
     "exception": false,
     "start_time": "2022-08-30T17:16:17.871249",
     "status": "completed"
    },
    "tags": []
   },
   "outputs": [
    {
     "data": {
      "text/plain": [
       "'0.0 / 0.05'"
      ]
     },
     "metadata": {},
     "output_type": "display_data"
    }
   ],
   "source": [
    "vmin_val = min(0.00, gene_corrs_quantiles[0.10])\n",
    "vmax_val = max(0.05, gene_corrs_quantiles[0.90])\n",
    "display(f\"{vmin_val} / {vmax_val}\")"
   ]
  },
  {
   "cell_type": "code",
   "execution_count": 43,
   "id": "dc41b70b-5bcc-4d9e-9f33-a22c4a94dab5",
   "metadata": {
    "execution": {
     "iopub.execute_input": "2022-08-30T17:16:20.907513Z",
     "iopub.status.busy": "2022-08-30T17:16:20.907242Z",
     "iopub.status.idle": "2022-08-30T17:16:21.092863Z",
     "shell.execute_reply": "2022-08-30T17:16:21.092105Z"
    },
    "papermill": {
     "duration": 1.180556,
     "end_time": "2022-08-30T17:16:21.094410",
     "exception": false,
     "start_time": "2022-08-30T17:16:19.913854",
     "status": "completed"
    },
    "tags": []
   },
   "outputs": [
    {
     "data": {
      "text/plain": [
       "Text(0.5, 1.0, 'Gene correlations in chromosome 20')"
      ]
     },
     "execution_count": 43,
     "metadata": {},
     "output_type": "execute_result"
    },
    {
     "data": {
      "image/png": "[encoded data removed]",
      "text/plain": [
       "<Figure size 720x720 with 2 Axes>"
      ]
     },
     "metadata": {
      "needs_background": "light"
     },
     "output_type": "display_data"
    }
   ],
   "source": [
    "f, ax = plt.subplots(figsize=(10, 10))\n",
    "sns.heatmap(\n",
    "    gene_corrs_df,\n",
    "    xticklabels=False,\n",
    "    yticklabels=False,\n",
    "    square=True,\n",
    "    vmin=vmin_val,\n",
    "    vmax=vmax_val,\n",
    "    cmap=\"rocket_r\",\n",
    "    ax=ax,\n",
    ")\n",
    "ax.set_title(f\"Gene correlations in chromosome {CHROMOSOME}\")"
   ]
  },
  {
   "cell_type": "code",
   "execution_count": null,
   "id": "b25e3ead",
   "metadata": {
    "papermill": {
     "duration": 1.002926,
     "end_time": "2022-08-30T17:16:23.096406",
     "exception": false,
     "start_time": "2022-08-30T17:16:22.093480",
     "status": "completed"
    },
    "tags": []
   },
   "outputs": [],
   "source": []
  }
 ],
 "metadata": {
  "jupytext": {
   "cell_metadata_filter": "all,-execution,-papermill,-trusted",
   "formats": "ipynb,py//py:percent"
  },
  "kernelspec": {
   "display_name": "Python 3 (ipykernel)",
   "language": "python",
   "name": "python3"
  },
  "language_info": {
   "codemirror_mode": {
    "name": "ipython",
    "version": 3
   },
   "file_extension": ".py",
   "mimetype": "text/x-python",
   "name": "python",
   "nbconvert_exporter": "python",
   "pygments_lexer": "ipython3",
   "version": "3.8.13"
  },
  "papermill": {
   "default_parameters": {},
   "duration": 1493.624712,
   "end_time": "2022-08-30T17:16:27.076854",
   "environment_variables": {},
   "exception": null,
   "input_path": "nbs/15_gsa_gls/10-gene_expr_correlations.ipynb",
   "output_path": "nbs/15_gsa_gls/gene_corrs/cohorts/emerge/gtex_v8/mashr/10-gene_expr_corrs/10-gene_expr_correlations-chr20.run.ipynb",
   "parameters": {
    "CHROMOSOME": 20,
    "COHORT_NAME": "emerge",
    "EQTL_MODEL": "MASHR",
    "REFERENCE_PANEL": "GTEX_V8"
   },
   "start_time": "2022-08-30T16:51:33.452142",
   "version": "2.2.2"
  }
 },
 "nbformat": 4,
 "nbformat_minor": 5
}
