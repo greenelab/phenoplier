{
 "cells": [
  {
   "cell_type": "markdown",
   "id": "7a6632fb",
   "metadata": {
    "papermill": {
     "duration": 0.019552,
     "end_time": "2022-08-30T16:51:35.485595",
     "exception": false,
     "start_time": "2022-08-30T16:51:35.466043",
     "status": "completed"
    },
    "tags": []
   },
   "source": [
    "# Description"
   ]
  },
  {
   "cell_type": "markdown",
   "id": "7097c346",
   "metadata": {
    "papermill": {
     "duration": 0.014732,
     "end_time": "2022-08-30T16:51:35.516831",
     "exception": false,
     "start_time": "2022-08-30T16:51:35.502099",
     "status": "completed"
    },
    "tags": []
   },
   "source": [
    "(Please, take a look at the README.md file in this directory for instructions on how to run this notebook)\n",
    "\n",
    "This notebook computes predicted expression correlations between all genes in the MultiPLIER models.\n",
    "\n",
    "It also has a parameter set for papermill to run on a single chromosome to run in parallel (see under `Settings` below).\n",
    "\n",
    "This notebook is not directly run. See README.md."
   ]
  },
  {
   "cell_type": "markdown",
   "id": "c61d8427",
   "metadata": {
    "papermill": {
     "duration": 0.014423,
     "end_time": "2022-08-30T16:51:35.545613",
     "exception": false,
     "start_time": "2022-08-30T16:51:35.531190",
     "status": "completed"
    },
    "tags": []
   },
   "source": [
    "# Modules"
   ]
  },
  {
   "cell_type": "code",
   "execution_count": 1,
   "id": "bbc0234f",
   "metadata": {
    "execution": {
     "iopub.execute_input": "2022-08-30T16:51:35.574392Z",
     "iopub.status.busy": "2022-08-30T16:51:35.574042Z",
     "iopub.status.idle": "2022-08-30T16:51:35.600697Z",
     "shell.execute_reply": "2022-08-30T16:51:35.599954Z"
    },
    "papermill": {
     "duration": 0.044007,
     "end_time": "2022-08-30T16:51:35.603301",
     "exception": false,
     "start_time": "2022-08-30T16:51:35.559294",
     "status": "completed"
    },
    "tags": []
   },
   "outputs": [],
   "source": [
    "%load_ext autoreload\n",
    "%autoreload 2"
   ]
  },
  {
   "cell_type": "code",
   "execution_count": 2,
   "id": "1d5f5a59",
   "metadata": {
    "execution": {
     "iopub.execute_input": "2022-08-30T16:51:35.629086Z",
     "iopub.status.busy": "2022-08-30T16:51:35.628786Z",
     "iopub.status.idle": "2022-08-30T16:51:38.112153Z",
     "shell.execute_reply": "2022-08-30T16:51:38.111494Z"
    },
    "papermill": {
     "duration": 2.498453,
     "end_time": "2022-08-30T16:51:38.114089",
     "exception": false,
     "start_time": "2022-08-30T16:51:35.615636",
     "status": "completed"
    },
    "tags": []
   },
   "outputs": [],
   "source": [
    "from random import sample, seed\n",
    "import warnings\n",
    "from pathlib import Path\n",
    "import pickle\n",
    "import traceback\n",
    "\n",
    "import numpy as np\n",
    "from scipy.spatial.distance import squareform\n",
    "import pandas as pd\n",
    "from tqdm import tqdm\n",
    "import matplotlib.pyplot as plt\n",
    "import seaborn as sns\n",
    "\n",
    "import conf\n",
    "from entity import Gene"
   ]
  },
  {
   "cell_type": "markdown",
   "id": "1eac24b5",
   "metadata": {
    "papermill": {
     "duration": 0.032678,
     "end_time": "2022-08-30T16:51:38.157347",
     "exception": false,
     "start_time": "2022-08-30T16:51:38.124669",
     "status": "completed"
    },
    "tags": []
   },
   "source": [
    "# Settings"
   ]
  },
  {
   "cell_type": "code",
   "execution_count": 3,
   "id": "ca4560ba",
   "metadata": {
    "execution": {
     "iopub.execute_input": "2022-08-30T16:51:38.175866Z",
     "iopub.status.busy": "2022-08-30T16:51:38.175626Z",
     "iopub.status.idle": "2022-08-30T16:51:38.194448Z",
     "shell.execute_reply": "2022-08-30T16:51:38.193953Z"
    },
    "papermill": {
     "duration": 0.029979,
     "end_time": "2022-08-30T16:51:38.195983",
     "exception": false,
     "start_time": "2022-08-30T16:51:38.166004",
     "status": "completed"
    },
    "tags": [
     "parameters"
    ]
   },
   "outputs": [],
   "source": [
    "# a cohort name (it could be something like UK_BIOBANK, etc)\n",
    "COHORT_NAME = None\n",
    "\n",
    "# reference panel such as 1000G or GTEX_V8\n",
    "REFERENCE_PANEL = None\n",
    "\n",
    "# predictions models such as MASHR or ELASTIC_NET\n",
    "EQTL_MODEL = None\n",
    "\n",
    "# this is the default value used in S-MultiXcan to select the\n",
    "# top principal components of the expression correlation matrix\n",
    "SMULTIXCAN_CONDITION_NUMBER = 30\n",
    "\n",
    "# specifies a single chromosome value\n",
    "CHROMOSOME = None\n",
    "\n",
    "# If True, computes the correlation between closeby genes only;\n",
    "# otherwise, it computes correlations for all genes in a chromosome\n",
    "COMPUTE_CORRELATIONS_WITHIN_DISTANCE = False\n",
    "\n",
    "# if True, then it will continue if a gene pair correlation fails,\n",
    "# printing the warning/error for debugging. If False, any warning/error\n",
    "# will be thrown\n",
    "DEBUG_MODE = False"
   ]
  },
  {
   "cell_type": "code",
   "execution_count": 4,
   "id": "d9e86a64",
   "metadata": {
    "execution": {
     "iopub.execute_input": "2022-08-30T16:51:38.213500Z",
     "iopub.status.busy": "2022-08-30T16:51:38.213308Z",
     "iopub.status.idle": "2022-08-30T16:51:38.229361Z",
     "shell.execute_reply": "2022-08-30T16:51:38.228878Z"
    },
    "papermill": {
     "duration": 0.026418,
     "end_time": "2022-08-30T16:51:38.230882",
     "exception": false,
     "start_time": "2022-08-30T16:51:38.204464",
     "status": "completed"
    },
    "tags": [
     "injected-parameters"
    ]
   },
   "outputs": [],
   "source": [
    "# Parameters\n",
    "COHORT_NAME = \"emerge\"\n",
    "REFERENCE_PANEL = \"GTEX_V8\"\n",
    "EQTL_MODEL = \"MASHR\"\n",
    "CHROMOSOME = 13\n"
   ]
  },
  {
   "cell_type": "code",
   "execution_count": 5,
   "id": "3190631f-27fc-480f-b18e-571d580425a5",
   "metadata": {
    "execution": {
     "iopub.execute_input": "2022-08-30T16:51:38.248498Z",
     "iopub.status.busy": "2022-08-30T16:51:38.248308Z",
     "iopub.status.idle": "2022-08-30T16:51:38.267598Z",
     "shell.execute_reply": "2022-08-30T16:51:38.266983Z"
    },
    "papermill": {
     "duration": 0.029998,
     "end_time": "2022-08-30T16:51:38.269023",
     "exception": false,
     "start_time": "2022-08-30T16:51:38.239025",
     "status": "completed"
    },
    "tags": []
   },
   "outputs": [
    {
     "data": {
      "text/plain": [
       "'Cohort name: emerge'"
      ]
     },
     "metadata": {},
     "output_type": "display_data"
    }
   ],
   "source": [
    "assert COHORT_NAME is not None and len(COHORT_NAME) > 0, \"A cohort name must be given\"\n",
    "\n",
    "COHORT_NAME = COHORT_NAME.lower()\n",
    "display(f\"Cohort name: {COHORT_NAME}\")"
   ]
  },
  {
   "cell_type": "code",
   "execution_count": 6,
   "id": "f53ba19b-0f93-4fa2-a047-63b375939d1a",
   "metadata": {
    "execution": {
     "iopub.execute_input": "2022-08-30T16:51:38.286962Z",
     "iopub.status.busy": "2022-08-30T16:51:38.286766Z",
     "iopub.status.idle": "2022-08-30T16:51:38.304200Z",
     "shell.execute_reply": "2022-08-30T16:51:38.303706Z"
    },
    "papermill": {
     "duration": 0.028256,
     "end_time": "2022-08-30T16:51:38.305608",
     "exception": false,
     "start_time": "2022-08-30T16:51:38.277352",
     "status": "completed"
    },
    "tags": []
   },
   "outputs": [
    {
     "data": {
      "text/plain": [
       "'Reference panel: GTEX_V8'"
      ]
     },
     "metadata": {},
     "output_type": "display_data"
    }
   ],
   "source": [
    "assert (\n",
    "    REFERENCE_PANEL is not None and len(REFERENCE_PANEL) > 0\n",
    "), \"A reference panel must be given\"\n",
    "\n",
    "display(f\"Reference panel: {REFERENCE_PANEL}\")"
   ]
  },
  {
   "cell_type": "code",
   "execution_count": 7,
   "id": "e024d130-c139-429a-9c6e-ccf149e297b0",
   "metadata": {
    "execution": {
     "iopub.execute_input": "2022-08-30T16:51:38.326038Z",
     "iopub.status.busy": "2022-08-30T16:51:38.325836Z",
     "iopub.status.idle": "2022-08-30T16:51:38.343637Z",
     "shell.execute_reply": "2022-08-30T16:51:38.343155Z"
    },
    "papermill": {
     "duration": 0.030527,
     "end_time": "2022-08-30T16:51:38.345058",
     "exception": false,
     "start_time": "2022-08-30T16:51:38.314531",
     "status": "completed"
    },
    "tags": []
   },
   "outputs": [
    {
     "data": {
      "text/plain": [
       "'eQTL model: MASHR) / mashr_'"
      ]
     },
     "metadata": {},
     "output_type": "display_data"
    }
   ],
   "source": [
    "assert (\n",
    "    EQTL_MODEL is not None and len(EQTL_MODEL) > 0\n",
    "), \"A prediction/eQTL model must be given\"\n",
    "\n",
    "EQTL_MODEL_FILES_PREFIX = conf.PHENOMEXCAN[\"PREDICTION_MODELS\"][f\"{EQTL_MODEL}_PREFIX\"]\n",
    "display(f\"eQTL model: {EQTL_MODEL}) / {EQTL_MODEL_FILES_PREFIX}\")"
   ]
  },
  {
   "cell_type": "code",
   "execution_count": 8,
   "id": "552a7f63-a18c-4d3e-bb6a-94f99b431291",
   "metadata": {
    "execution": {
     "iopub.execute_input": "2022-08-30T16:51:38.365164Z",
     "iopub.status.busy": "2022-08-30T16:51:38.364973Z",
     "iopub.status.idle": "2022-08-30T16:51:38.382266Z",
     "shell.execute_reply": "2022-08-30T16:51:38.381775Z"
    },
    "papermill": {
     "duration": 0.028294,
     "end_time": "2022-08-30T16:51:38.383668",
     "exception": false,
     "start_time": "2022-08-30T16:51:38.355374",
     "status": "completed"
    },
    "tags": []
   },
   "outputs": [
    {
     "data": {
      "text/plain": [
       "'S-MultiXcan condition number: 30'"
      ]
     },
     "metadata": {},
     "output_type": "display_data"
    }
   ],
   "source": [
    "assert (\n",
    "    SMULTIXCAN_CONDITION_NUMBER is not None and SMULTIXCAN_CONDITION_NUMBER > 0\n",
    "), \"The S-MultiXcan condition number (positive integer) must be given\"\n",
    "\n",
    "display(f\"S-MultiXcan condition number: {SMULTIXCAN_CONDITION_NUMBER}\")"
   ]
  },
  {
   "cell_type": "code",
   "execution_count": 9,
   "id": "f34a336f-548e-4afe-8955-90eaea4f42c6",
   "metadata": {
    "execution": {
     "iopub.execute_input": "2022-08-30T16:51:38.413310Z",
     "iopub.status.busy": "2022-08-30T16:51:38.413121Z",
     "iopub.status.idle": "2022-08-30T16:51:38.430624Z",
     "shell.execute_reply": "2022-08-30T16:51:38.429989Z"
    },
    "papermill": {
     "duration": 0.032034,
     "end_time": "2022-08-30T16:51:38.432146",
     "exception": false,
     "start_time": "2022-08-30T16:51:38.400112",
     "status": "completed"
    },
    "tags": []
   },
   "outputs": [
    {
     "data": {
      "text/plain": [
       "'Working on chromosome 13'"
      ]
     },
     "metadata": {},
     "output_type": "display_data"
    }
   ],
   "source": [
    "assert CHROMOSOME is not None and (\n",
    "    1 <= CHROMOSOME <= 22\n",
    "), \"You have to select one chromosome (format: number between 1 and 22)\"\n",
    "\n",
    "# CHROMOSOME = str(CHROMOSOME)\n",
    "display(f\"Working on chromosome {CHROMOSOME}\")"
   ]
  },
  {
   "cell_type": "code",
   "execution_count": 10,
   "id": "ab8e96e8-06b5-4363-9dcd-dc4d78cc27f7",
   "metadata": {
    "execution": {
     "iopub.execute_input": "2022-08-30T16:51:38.452561Z",
     "iopub.status.busy": "2022-08-30T16:51:38.452371Z",
     "iopub.status.idle": "2022-08-30T16:51:38.469606Z",
     "shell.execute_reply": "2022-08-30T16:51:38.469020Z"
    },
    "papermill": {
     "duration": 0.029696,
     "end_time": "2022-08-30T16:51:38.471125",
     "exception": false,
     "start_time": "2022-08-30T16:51:38.441429",
     "status": "completed"
    },
    "tags": []
   },
   "outputs": [
    {
     "data": {
      "text/plain": [
       "'Compute correlation within distance False'"
      ]
     },
     "metadata": {},
     "output_type": "display_data"
    }
   ],
   "source": [
    "display(f\"Compute correlation within distance {COMPUTE_CORRELATIONS_WITHIN_DISTANCE}\")"
   ]
  },
  {
   "cell_type": "code",
   "execution_count": 11,
   "id": "396392dc-0340-4540-9b02-e182b833f909",
   "metadata": {
    "execution": {
     "iopub.execute_input": "2022-08-30T16:51:38.492293Z",
     "iopub.status.busy": "2022-08-30T16:51:38.492102Z",
     "iopub.status.idle": "2022-08-30T16:51:38.511557Z",
     "shell.execute_reply": "2022-08-30T16:51:38.511074Z"
    },
    "papermill": {
     "duration": 0.03034,
     "end_time": "2022-08-30T16:51:38.512973",
     "exception": false,
     "start_time": "2022-08-30T16:51:38.482633",
     "status": "completed"
    },
    "tags": []
   },
   "outputs": [
    {
     "data": {
      "text/plain": [
       "'Using output dir base: /project/ritchie20/projects/phenoplier/base/results/gls/gene_corrs/cohorts/emerge/gtex_v8/mashr'"
      ]
     },
     "metadata": {},
     "output_type": "display_data"
    }
   ],
   "source": [
    "OUTPUT_DIR_BASE = (\n",
    "    conf.RESULTS[\"GLS\"]\n",
    "    / \"gene_corrs\"\n",
    "    / \"cohorts\"\n",
    "    / COHORT_NAME\n",
    "    / REFERENCE_PANEL.lower()\n",
    "    / EQTL_MODEL.lower()\n",
    ")\n",
    "OUTPUT_DIR_BASE.mkdir(parents=True, exist_ok=True)\n",
    "\n",
    "display(f\"Using output dir base: {OUTPUT_DIR_BASE}\")"
   ]
  },
  {
   "cell_type": "markdown",
   "id": "d2ba085e",
   "metadata": {
    "papermill": {
     "duration": 0.02021,
     "end_time": "2022-08-30T16:51:38.546770",
     "exception": false,
     "start_time": "2022-08-30T16:51:38.526560",
     "status": "completed"
    },
    "tags": []
   },
   "source": [
    "# Load data"
   ]
  },
  {
   "cell_type": "markdown",
   "id": "7dcb8db7",
   "metadata": {
    "papermill": {
     "duration": 0.011395,
     "end_time": "2022-08-30T16:51:38.576145",
     "exception": false,
     "start_time": "2022-08-30T16:51:38.564750",
     "status": "completed"
    },
    "tags": []
   },
   "source": [
    "## GWAS variants"
   ]
  },
  {
   "cell_type": "code",
   "execution_count": 12,
   "id": "29434c4e-8cd3-4b9b-82e4-b5a251d9dd19",
   "metadata": {
    "execution": {
     "iopub.execute_input": "2022-08-30T16:51:38.611791Z",
     "iopub.status.busy": "2022-08-30T16:51:38.611602Z",
     "iopub.status.idle": "2022-08-30T16:51:40.978613Z",
     "shell.execute_reply": "2022-08-30T16:51:40.977997Z"
    },
    "papermill": {
     "duration": 2.389037,
     "end_time": "2022-08-30T16:51:40.980511",
     "exception": false,
     "start_time": "2022-08-30T16:51:38.591474",
     "status": "completed"
    },
    "tags": []
   },
   "outputs": [],
   "source": [
    "with open(OUTPUT_DIR_BASE / \"gwas_variant_ids.pkl\", \"rb\") as handle:\n",
    "    gwas_variants_ids_set = pickle.load(handle)"
   ]
  },
  {
   "cell_type": "code",
   "execution_count": 13,
   "id": "b9d9dec2-4a76-4bf9-bde2-e24c95acb8a0",
   "metadata": {
    "execution": {
     "iopub.execute_input": "2022-08-30T16:51:41.029910Z",
     "iopub.status.busy": "2022-08-30T16:51:41.029655Z",
     "iopub.status.idle": "2022-08-30T16:51:41.052052Z",
     "shell.execute_reply": "2022-08-30T16:51:41.051371Z"
    },
    "papermill": {
     "duration": 0.046926,
     "end_time": "2022-08-30T16:51:41.053466",
     "exception": false,
     "start_time": "2022-08-30T16:51:41.006540",
     "status": "completed"
    },
    "tags": []
   },
   "outputs": [
    {
     "data": {
      "text/plain": [
       "8376508"
      ]
     },
     "execution_count": 13,
     "metadata": {},
     "output_type": "execute_result"
    }
   ],
   "source": [
    "len(gwas_variants_ids_set)"
   ]
  },
  {
   "cell_type": "code",
   "execution_count": 14,
   "id": "4235b06a-6034-4ee4-a0a3-2ae35d122418",
   "metadata": {
    "execution": {
     "iopub.execute_input": "2022-08-30T16:51:41.097117Z",
     "iopub.status.busy": "2022-08-30T16:51:41.096927Z",
     "iopub.status.idle": "2022-08-30T16:51:41.685854Z",
     "shell.execute_reply": "2022-08-30T16:51:41.684961Z"
    },
    "papermill": {
     "duration": 0.615083,
     "end_time": "2022-08-30T16:51:41.687566",
     "exception": false,
     "start_time": "2022-08-30T16:51:41.072483",
     "status": "completed"
    },
    "tags": []
   },
   "outputs": [
    {
     "data": {
      "text/plain": [
       "['chr1_13693910_T_C_b38',\n",
       " 'chr8_60666655_C_T_b38',\n",
       " 'chr5_169956354_A_G_b38',\n",
       " 'chr11_928843_C_T_b38',\n",
       " 'chr4_90698770_G_A_b38']"
      ]
     },
     "execution_count": 14,
     "metadata": {},
     "output_type": "execute_result"
    }
   ],
   "source": [
    "list(gwas_variants_ids_set)[:5]"
   ]
  },
  {
   "cell_type": "markdown",
   "id": "07866999-2305-41f9-a144-e69c9122c212",
   "metadata": {
    "papermill": {
     "duration": 0.015558,
     "end_time": "2022-08-30T16:51:41.713457",
     "exception": false,
     "start_time": "2022-08-30T16:51:41.697899",
     "status": "completed"
    },
    "tags": []
   },
   "source": [
    "## S-PrediXcan tissue models"
   ]
  },
  {
   "cell_type": "code",
   "execution_count": 15,
   "id": "780611d9-77c8-405f-90a4-f271f7b09397",
   "metadata": {
    "execution": {
     "iopub.execute_input": "2022-08-30T16:51:41.739679Z",
     "iopub.status.busy": "2022-08-30T16:51:41.739476Z",
     "iopub.status.idle": "2022-08-30T16:51:42.583416Z",
     "shell.execute_reply": "2022-08-30T16:51:42.582793Z"
    },
    "papermill": {
     "duration": 0.857918,
     "end_time": "2022-08-30T16:51:42.585290",
     "exception": false,
     "start_time": "2022-08-30T16:51:41.727372",
     "status": "completed"
    },
    "tags": []
   },
   "outputs": [],
   "source": [
    "spredixcan_genes_models = pd.read_pickle(OUTPUT_DIR_BASE / \"gene_tissues.pkl\")"
   ]
  },
  {
   "cell_type": "code",
   "execution_count": 16,
   "id": "726dd1f6-9557-4225-91fa-b3b879ea96e1",
   "metadata": {
    "execution": {
     "iopub.execute_input": "2022-08-30T16:51:42.604726Z",
     "iopub.status.busy": "2022-08-30T16:51:42.604529Z",
     "iopub.status.idle": "2022-08-30T16:51:42.760769Z",
     "shell.execute_reply": "2022-08-30T16:51:42.759621Z"
    },
    "papermill": {
     "duration": 0.169391,
     "end_time": "2022-08-30T16:51:42.764140",
     "exception": false,
     "start_time": "2022-08-30T16:51:42.594749",
     "status": "completed"
    },
    "tags": []
   },
   "outputs": [
    {
     "data": {
      "text/plain": [
       "(6425, 3)"
      ]
     },
     "execution_count": 16,
     "metadata": {},
     "output_type": "execute_result"
    }
   ],
   "source": [
    "spredixcan_genes_models.shape"
   ]
  },
  {
   "cell_type": "code",
   "execution_count": 17,
   "id": "944a1b48-222c-4eb0-b252-b9de2cbca215",
   "metadata": {
    "execution": {
     "iopub.execute_input": "2022-08-30T16:51:42.804055Z",
     "iopub.status.busy": "2022-08-30T16:51:42.803681Z",
     "iopub.status.idle": "2022-08-30T16:51:42.871962Z",
     "shell.execute_reply": "2022-08-30T16:51:42.870969Z"
    },
    "papermill": {
     "duration": 0.091828,
     "end_time": "2022-08-30T16:51:42.874710",
     "exception": false,
     "start_time": "2022-08-30T16:51:42.782882",
     "status": "completed"
    },
    "tags": []
   },
   "outputs": [
    {
     "data": {
      "text/html": [
       "<div>\n",
       "<style scoped>\n",
       "    .dataframe tbody tr th:only-of-type {\n",
       "        vertical-align: middle;\n",
       "    }\n",
       "\n",
       "    .dataframe tbody tr th {\n",
       "        vertical-align: top;\n",
       "    }\n",
       "\n",
       "    .dataframe thead th {\n",
       "        text-align: right;\n",
       "    }\n",
       "</style>\n",
       "<table border=\"1\" class=\"dataframe\">\n",
       "  <thead>\n",
       "    <tr style=\"text-align: right;\">\n",
       "      <th></th>\n",
       "      <th>gene_name</th>\n",
       "      <th>tissue</th>\n",
       "      <th>n_tissues</th>\n",
       "    </tr>\n",
       "    <tr>\n",
       "      <th>gene_id</th>\n",
       "      <th></th>\n",
       "      <th></th>\n",
       "      <th></th>\n",
       "    </tr>\n",
       "  </thead>\n",
       "  <tbody>\n",
       "    <tr>\n",
       "      <th>ENSG00000000419</th>\n",
       "      <td>DPM1</td>\n",
       "      <td>(Brain_Substantia_nigra, Brain_Hypothalamus)</td>\n",
       "      <td>2</td>\n",
       "    </tr>\n",
       "    <tr>\n",
       "      <th>ENSG00000000938</th>\n",
       "      <td>FGR</td>\n",
       "      <td>(Pituitary, Prostate, Muscle_Skeletal, Brain_N...</td>\n",
       "      <td>26</td>\n",
       "    </tr>\n",
       "    <tr>\n",
       "      <th>ENSG00000000971</th>\n",
       "      <td>CFH</td>\n",
       "      <td>(Pituitary, Artery_Tibial, Artery_Coronary, Co...</td>\n",
       "      <td>34</td>\n",
       "    </tr>\n",
       "    <tr>\n",
       "      <th>ENSG00000001084</th>\n",
       "      <td>GCLC</td>\n",
       "      <td>(Pituitary, Muscle_Skeletal, Brain_Nucleus_acc...</td>\n",
       "      <td>32</td>\n",
       "    </tr>\n",
       "    <tr>\n",
       "      <th>ENSG00000001167</th>\n",
       "      <td>NFYA</td>\n",
       "      <td>(Prostate, Muscle_Skeletal, Brain_Nucleus_accu...</td>\n",
       "      <td>40</td>\n",
       "    </tr>\n",
       "  </tbody>\n",
       "</table>\n",
       "</div>"
      ],
      "text/plain": [
       "                gene_name                                             tissue  \\\n",
       "gene_id                                                                        \n",
       "ENSG00000000419      DPM1       (Brain_Substantia_nigra, Brain_Hypothalamus)   \n",
       "ENSG00000000938       FGR  (Pituitary, Prostate, Muscle_Skeletal, Brain_N...   \n",
       "ENSG00000000971       CFH  (Pituitary, Artery_Tibial, Artery_Coronary, Co...   \n",
       "ENSG00000001084      GCLC  (Pituitary, Muscle_Skeletal, Brain_Nucleus_acc...   \n",
       "ENSG00000001167      NFYA  (Prostate, Muscle_Skeletal, Brain_Nucleus_accu...   \n",
       "\n",
       "                 n_tissues  \n",
       "gene_id                     \n",
       "ENSG00000000419          2  \n",
       "ENSG00000000938         26  \n",
       "ENSG00000000971         34  \n",
       "ENSG00000001084         32  \n",
       "ENSG00000001167         40  "
      ]
     },
     "execution_count": 17,
     "metadata": {},
     "output_type": "execute_result"
    }
   ],
   "source": [
    "spredixcan_genes_models.head()"
   ]
  },
  {
   "cell_type": "code",
   "execution_count": 18,
   "id": "d1c11bb1-be0b-4f40-b360-633d6827109f",
   "metadata": {
    "execution": {
     "iopub.execute_input": "2022-08-30T16:51:42.912427Z",
     "iopub.status.busy": "2022-08-30T16:51:42.912110Z",
     "iopub.status.idle": "2022-08-30T16:51:42.945235Z",
     "shell.execute_reply": "2022-08-30T16:51:42.944427Z"
    },
    "papermill": {
     "duration": 0.054412,
     "end_time": "2022-08-30T16:51:42.947634",
     "exception": false,
     "start_time": "2022-08-30T16:51:42.893222",
     "status": "completed"
    },
    "tags": []
   },
   "outputs": [],
   "source": [
    "assert spredixcan_genes_models.index.is_unique"
   ]
  },
  {
   "cell_type": "markdown",
   "id": "a5b5092c-a13e-47c4-a92a-480fcc08f3ae",
   "metadata": {
    "papermill": {
     "duration": 0.01657,
     "end_time": "2022-08-30T16:51:42.980792",
     "exception": false,
     "start_time": "2022-08-30T16:51:42.964222",
     "status": "completed"
    },
    "tags": []
   },
   "source": [
    "## Gene info"
   ]
  },
  {
   "cell_type": "code",
   "execution_count": 19,
   "id": "7d6bb224-88e9-4358-ac10-43a41d92cdad",
   "metadata": {
    "execution": {
     "iopub.execute_input": "2022-08-30T16:51:43.008998Z",
     "iopub.status.busy": "2022-08-30T16:51:43.008721Z",
     "iopub.status.idle": "2022-08-30T16:51:43.041745Z",
     "shell.execute_reply": "2022-08-30T16:51:43.040923Z"
    },
    "papermill": {
     "duration": 0.049585,
     "end_time": "2022-08-30T16:51:43.043806",
     "exception": false,
     "start_time": "2022-08-30T16:51:42.994221",
     "status": "completed"
    },
    "tags": []
   },
   "outputs": [],
   "source": [
    "genes_info = pd.read_pickle(OUTPUT_DIR_BASE / \"genes_info.pkl\")"
   ]
  },
  {
   "cell_type": "code",
   "execution_count": 20,
   "id": "9e32abfa-546d-483e-8c18-d526e9e05903",
   "metadata": {
    "execution": {
     "iopub.execute_input": "2022-08-30T16:51:43.073121Z",
     "iopub.status.busy": "2022-08-30T16:51:43.072860Z",
     "iopub.status.idle": "2022-08-30T16:51:43.097187Z",
     "shell.execute_reply": "2022-08-30T16:51:43.096476Z"
    },
    "papermill": {
     "duration": 0.039194,
     "end_time": "2022-08-30T16:51:43.098972",
     "exception": false,
     "start_time": "2022-08-30T16:51:43.059778",
     "status": "completed"
    },
    "tags": []
   },
   "outputs": [
    {
     "data": {
      "text/plain": [
       "(6425, 7)"
      ]
     },
     "execution_count": 20,
     "metadata": {},
     "output_type": "execute_result"
    }
   ],
   "source": [
    "genes_info.shape"
   ]
  },
  {
   "cell_type": "code",
   "execution_count": 21,
   "id": "d16c3e92-85ec-468a-9a56-e25a9774a1cb",
   "metadata": {
    "execution": {
     "iopub.execute_input": "2022-08-30T16:51:43.129200Z",
     "iopub.status.busy": "2022-08-30T16:51:43.128960Z",
     "iopub.status.idle": "2022-08-30T16:51:43.156858Z",
     "shell.execute_reply": "2022-08-30T16:51:43.156152Z"
    },
    "papermill": {
     "duration": 0.045431,
     "end_time": "2022-08-30T16:51:43.158375",
     "exception": false,
     "start_time": "2022-08-30T16:51:43.112944",
     "status": "completed"
    },
    "tags": []
   },
   "outputs": [
    {
     "data": {
      "text/html": [
       "<div>\n",
       "<style scoped>\n",
       "    .dataframe tbody tr th:only-of-type {\n",
       "        vertical-align: middle;\n",
       "    }\n",
       "\n",
       "    .dataframe tbody tr th {\n",
       "        vertical-align: top;\n",
       "    }\n",
       "\n",
       "    .dataframe thead th {\n",
       "        text-align: right;\n",
       "    }\n",
       "</style>\n",
       "<table border=\"1\" class=\"dataframe\">\n",
       "  <thead>\n",
       "    <tr style=\"text-align: right;\">\n",
       "      <th></th>\n",
       "      <th>name</th>\n",
       "      <th>id</th>\n",
       "      <th>chr</th>\n",
       "      <th>band</th>\n",
       "      <th>start_position</th>\n",
       "      <th>end_position</th>\n",
       "      <th>gene_length</th>\n",
       "    </tr>\n",
       "  </thead>\n",
       "  <tbody>\n",
       "    <tr>\n",
       "      <th>0</th>\n",
       "      <td>ADAMTS14</td>\n",
       "      <td>ENSG00000138316</td>\n",
       "      <td>10</td>\n",
       "      <td>10q22.1</td>\n",
       "      <td>70672506</td>\n",
       "      <td>70762441</td>\n",
       "      <td>89935</td>\n",
       "    </tr>\n",
       "    <tr>\n",
       "      <th>1</th>\n",
       "      <td>TXN</td>\n",
       "      <td>ENSG00000136810</td>\n",
       "      <td>9</td>\n",
       "      <td>9q31.3</td>\n",
       "      <td>110243810</td>\n",
       "      <td>110256507</td>\n",
       "      <td>12697</td>\n",
       "    </tr>\n",
       "    <tr>\n",
       "      <th>2</th>\n",
       "      <td>RMI1</td>\n",
       "      <td>ENSG00000178966</td>\n",
       "      <td>9</td>\n",
       "      <td>9q21.32</td>\n",
       "      <td>83980711</td>\n",
       "      <td>84004074</td>\n",
       "      <td>23363</td>\n",
       "    </tr>\n",
       "    <tr>\n",
       "      <th>3</th>\n",
       "      <td>DHX58</td>\n",
       "      <td>ENSG00000108771</td>\n",
       "      <td>17</td>\n",
       "      <td>17q21.2</td>\n",
       "      <td>42101404</td>\n",
       "      <td>42112714</td>\n",
       "      <td>11310</td>\n",
       "    </tr>\n",
       "    <tr>\n",
       "      <th>4</th>\n",
       "      <td>XRCC4</td>\n",
       "      <td>ENSG00000152422</td>\n",
       "      <td>5</td>\n",
       "      <td>5q14.2</td>\n",
       "      <td>83077498</td>\n",
       "      <td>83353787</td>\n",
       "      <td>276289</td>\n",
       "    </tr>\n",
       "  </tbody>\n",
       "</table>\n",
       "</div>"
      ],
      "text/plain": [
       "       name               id  chr     band  start_position  end_position  \\\n",
       "0  ADAMTS14  ENSG00000138316   10  10q22.1        70672506      70762441   \n",
       "1       TXN  ENSG00000136810    9   9q31.3       110243810     110256507   \n",
       "2      RMI1  ENSG00000178966    9  9q21.32        83980711      84004074   \n",
       "3     DHX58  ENSG00000108771   17  17q21.2        42101404      42112714   \n",
       "4     XRCC4  ENSG00000152422    5   5q14.2        83077498      83353787   \n",
       "\n",
       "   gene_length  \n",
       "0        89935  \n",
       "1        12697  \n",
       "2        23363  \n",
       "3        11310  \n",
       "4       276289  "
      ]
     },
     "execution_count": 21,
     "metadata": {},
     "output_type": "execute_result"
    }
   ],
   "source": [
    "genes_info.head()"
   ]
  },
  {
   "cell_type": "markdown",
   "id": "d3843e06",
   "metadata": {
    "papermill": {
     "duration": 0.010975,
     "end_time": "2022-08-30T16:51:43.183865",
     "exception": false,
     "start_time": "2022-08-30T16:51:43.172890",
     "status": "completed"
    },
    "tags": []
   },
   "source": [
    "# Compute correlations"
   ]
  },
  {
   "cell_type": "code",
   "execution_count": 22,
   "id": "cb859c15-d1f3-4006-a74c-2b83c0db9611",
   "metadata": {
    "execution": {
     "iopub.execute_input": "2022-08-30T16:51:43.207023Z",
     "iopub.status.busy": "2022-08-30T16:51:43.206823Z",
     "iopub.status.idle": "2022-08-30T16:51:43.235177Z",
     "shell.execute_reply": "2022-08-30T16:51:43.234618Z"
    },
    "papermill": {
     "duration": 0.042729,
     "end_time": "2022-08-30T16:51:43.236702",
     "exception": false,
     "start_time": "2022-08-30T16:51:43.193973",
     "status": "completed"
    },
    "tags": []
   },
   "outputs": [
    {
     "data": {
      "text/plain": [
       "PosixPath('/project/ritchie20/projects/phenoplier/base/results/gls/gene_corrs/cohorts/emerge/gtex_v8/mashr/by_chr/gene_corrs-chr13.pkl')"
      ]
     },
     "metadata": {},
     "output_type": "display_data"
    }
   ],
   "source": [
    "output_dir = OUTPUT_DIR_BASE / \"by_chr\"\n",
    "output_dir.mkdir(exist_ok=True, parents=True)\n",
    "output_file = output_dir / f\"gene_corrs-chr{CHROMOSOME}.pkl\"\n",
    "display(output_file)"
   ]
  },
  {
   "cell_type": "code",
   "execution_count": 23,
   "id": "aa674fe4-6794-4eed-98fa-32b39d1d4ace",
   "metadata": {
    "execution": {
     "iopub.execute_input": "2022-08-30T16:51:43.260004Z",
     "iopub.status.busy": "2022-08-30T16:51:43.259804Z",
     "iopub.status.idle": "2022-08-30T16:51:43.282346Z",
     "shell.execute_reply": "2022-08-30T16:51:43.281602Z"
    },
    "papermill": {
     "duration": 0.03541,
     "end_time": "2022-08-30T16:51:43.283851",
     "exception": false,
     "start_time": "2022-08-30T16:51:43.248441",
     "status": "completed"
    },
    "tags": []
   },
   "outputs": [],
   "source": [
    "warnings.filterwarnings(\"error\")"
   ]
  },
  {
   "cell_type": "code",
   "execution_count": 24,
   "id": "44d5450b-3baf-43f1-9e2e-4b06f1a785f8",
   "metadata": {
    "execution": {
     "iopub.execute_input": "2022-08-30T16:51:43.306292Z",
     "iopub.status.busy": "2022-08-30T16:51:43.306103Z",
     "iopub.status.idle": "2022-08-30T16:51:43.327053Z",
     "shell.execute_reply": "2022-08-30T16:51:43.326363Z"
    },
    "papermill": {
     "duration": 0.034681,
     "end_time": "2022-08-30T16:51:43.328556",
     "exception": false,
     "start_time": "2022-08-30T16:51:43.293875",
     "status": "completed"
    },
    "tags": []
   },
   "outputs": [],
   "source": [
    "# standard checks\n",
    "all_chrs = genes_info[\"chr\"].dropna().unique()\n",
    "assert all_chrs.shape[0] == 22\n",
    "\n",
    "# select chromosome given by the user\n",
    "assert CHROMOSOME in all_chrs"
   ]
  },
  {
   "cell_type": "code",
   "execution_count": 25,
   "id": "2d7c043c-92a7-4d35-991b-fa69ac1e0268",
   "metadata": {
    "execution": {
     "iopub.execute_input": "2022-08-30T16:51:43.350115Z",
     "iopub.status.busy": "2022-08-30T16:51:43.349925Z",
     "iopub.status.idle": "2022-08-30T16:51:43.388082Z",
     "shell.execute_reply": "2022-08-30T16:51:43.387309Z"
    },
    "papermill": {
     "duration": 0.050704,
     "end_time": "2022-08-30T16:51:43.389651",
     "exception": false,
     "start_time": "2022-08-30T16:51:43.338947",
     "status": "completed"
    },
    "tags": []
   },
   "outputs": [
    {
     "name": "stdout",
     "output_type": "stream",
     "text": [
      "Number of genes in chromosome: 118\n"
     ]
    }
   ],
   "source": [
    "# run only on the chromosome specified\n",
    "all_chrs = [CHROMOSOME]\n",
    "genes_chr = genes_info[genes_info[\"chr\"] == CHROMOSOME]\n",
    "\n",
    "# For testing purposes\n",
    "# genes_chr = genes_chr.sample(n=20)\n",
    "\n",
    "print(f\"Number of genes in chromosome: {genes_chr.shape[0]}\", flush=True)"
   ]
  },
  {
   "cell_type": "code",
   "execution_count": 26,
   "id": "916015d8-2979-46d3-a9b9-1cf5a0932c6a",
   "metadata": {
    "execution": {
     "iopub.execute_input": "2022-08-30T16:51:43.412251Z",
     "iopub.status.busy": "2022-08-30T16:51:43.412059Z",
     "iopub.status.idle": "2022-08-30T16:51:43.439790Z",
     "shell.execute_reply": "2022-08-30T16:51:43.439127Z"
    },
    "papermill": {
     "duration": 0.040799,
     "end_time": "2022-08-30T16:51:43.441315",
     "exception": false,
     "start_time": "2022-08-30T16:51:43.400516",
     "status": "completed"
    },
    "tags": []
   },
   "outputs": [],
   "source": [
    "# sort genes by starting position to make visualizations better later\n",
    "genes_chr = genes_chr.sort_values(\"start_position\")"
   ]
  },
  {
   "cell_type": "code",
   "execution_count": 27,
   "id": "a38aa74a-8ad3-47f6-8ef9-56be0e011774",
   "metadata": {
    "execution": {
     "iopub.execute_input": "2022-08-30T16:51:43.466760Z",
     "iopub.status.busy": "2022-08-30T16:51:43.466571Z",
     "iopub.status.idle": "2022-08-30T16:51:43.485857Z",
     "shell.execute_reply": "2022-08-30T16:51:43.485087Z"
    },
    "papermill": {
     "duration": 0.034601,
     "end_time": "2022-08-30T16:51:43.487378",
     "exception": false,
     "start_time": "2022-08-30T16:51:43.452777",
     "status": "completed"
    },
    "tags": []
   },
   "outputs": [],
   "source": [
    "gene_chr_objs = [Gene(ensembl_id=gene_id) for gene_id in genes_chr[\"id\"]]"
   ]
  },
  {
   "cell_type": "code",
   "execution_count": 28,
   "id": "570f974f-13c3-42b6-ad3a-ce99ca885c1a",
   "metadata": {
    "execution": {
     "iopub.execute_input": "2022-08-30T16:51:43.512637Z",
     "iopub.status.busy": "2022-08-30T16:51:43.512447Z",
     "iopub.status.idle": "2022-08-30T16:51:43.529930Z",
     "shell.execute_reply": "2022-08-30T16:51:43.529176Z"
    },
    "papermill": {
     "duration": 0.032679,
     "end_time": "2022-08-30T16:51:43.531433",
     "exception": false,
     "start_time": "2022-08-30T16:51:43.498754",
     "status": "completed"
    },
    "tags": []
   },
   "outputs": [
    {
     "name": "stdout",
     "output_type": "stream",
     "text": [
      "Number of gene combinations: 7021\n"
     ]
    }
   ],
   "source": [
    "n = len(gene_chr_objs)\n",
    "# diagonal elements + upper triangular matrix\n",
    "n_comb = n + int(n * (n - 1) / 2.0)\n",
    "print(f\"Number of gene combinations: {n_comb}\", flush=True)"
   ]
  },
  {
   "cell_type": "code",
   "execution_count": 29,
   "id": "cdbb90a1",
   "metadata": {
    "execution": {
     "iopub.execute_input": "2022-08-30T16:51:43.556155Z",
     "iopub.status.busy": "2022-08-30T16:51:43.555964Z",
     "iopub.status.idle": "2022-08-30T17:00:45.627256Z",
     "shell.execute_reply": "2022-08-30T17:00:45.626241Z"
    },
    "papermill": {
     "duration": 542.085647,
     "end_time": "2022-08-30T17:00:45.629676",
     "exception": false,
     "start_time": "2022-08-30T16:51:43.544029",
     "status": "completed"
    },
    "tags": []
   },
   "outputs": [
    {
     "name": "stderr",
     "output_type": "stream",
     "text": [
      "ENSG00000169062 / ENSG00000169062: 100%|████████████████████████| 7021/7021 [09:01<00:00, 12.95it/s]\n"
     ]
    },
    {
     "data": {
      "text/plain": [
       "PosixPath('/project/ritchie20/projects/phenoplier/base/results/gls/gene_corrs/cohorts/emerge/gtex_v8/mashr/by_chr/gene_corrs-chr13.pkl')"
      ]
     },
     "metadata": {},
     "output_type": "display_data"
    }
   ],
   "source": [
    "gene_corrs = []\n",
    "gene_corrs_data = np.full(\n",
    "    (n, n),\n",
    "    np.nan,\n",
    "    dtype=np.float64,\n",
    ")\n",
    "\n",
    "i = 0\n",
    "with tqdm(ncols=100, total=n_comb) as pbar:\n",
    "    for gene1_idx in range(0, len(gene_chr_objs)):\n",
    "        gene1_obj = gene_chr_objs[gene1_idx]\n",
    "        gene1_tissues = spredixcan_genes_models.loc[gene1_obj.ensembl_id, \"tissue\"]\n",
    "\n",
    "        for gene2_idx in range(gene1_idx, len(gene_chr_objs)):\n",
    "            gene2_obj = gene_chr_objs[gene2_idx]\n",
    "            gene2_tissues = spredixcan_genes_models.loc[gene2_obj.ensembl_id, \"tissue\"]\n",
    "\n",
    "            pbar.set_description(f\"{gene1_obj.ensembl_id} / {gene2_obj.ensembl_id}\")\n",
    "\n",
    "            try:\n",
    "                r = gene1_obj.get_ssm_correlation(\n",
    "                    other_gene=gene2_obj,\n",
    "                    tissues=gene1_tissues,\n",
    "                    other_tissues=gene2_tissues,\n",
    "                    snps_subset=gwas_variants_ids_set,\n",
    "                    condition_number=SMULTIXCAN_CONDITION_NUMBER,\n",
    "                    reference_panel=REFERENCE_PANEL,\n",
    "                    model_type=EQTL_MODEL,\n",
    "                    use_within_distance=COMPUTE_CORRELATIONS_WITHIN_DISTANCE,\n",
    "                )\n",
    "\n",
    "                if r is None:\n",
    "                    # if r is None, it's very likely because:\n",
    "                    #  * one of the genes has no prediction models\n",
    "                    #  * all the SNPs predictors for the gene are not present in the reference\n",
    "                    #    panel\n",
    "\n",
    "                    r = 0.0\n",
    "\n",
    "                gene_corrs.append(r)\n",
    "\n",
    "                gene_corrs_data[gene1_idx, gene2_idx] = r\n",
    "                gene_corrs_data[gene2_idx, gene1_idx] = r\n",
    "            except Warning as e:\n",
    "                if not DEBUG_MODE:\n",
    "                    raise e\n",
    "\n",
    "                print(\n",
    "                    f\"RuntimeWarning for genes {gene1_obj.ensembl_id} and {gene2_obj.ensembl_id}\",\n",
    "                    flush=True,\n",
    "                )\n",
    "                print(traceback.format_exc(), flush=True)\n",
    "\n",
    "                gene_corrs.append(np.nan)\n",
    "            except Exception as e:\n",
    "                if not DEBUG_MODE:\n",
    "                    raise e\n",
    "\n",
    "                print(\n",
    "                    f\"Exception for genes {gene1_obj.ensembl_id} and {gene2_obj.ensembl_id}\",\n",
    "                    flush=True,\n",
    "                )\n",
    "                print(traceback.format_exc(), flush=True)\n",
    "\n",
    "                gene_corrs.append(np.nan)\n",
    "\n",
    "            pbar.update(1)\n",
    "\n",
    "# create a pandas series\n",
    "gene_corrs_flat = pd.Series(gene_corrs)\n",
    "\n",
    "# save\n",
    "# FIXME: consider saving only the condenced matrix here. See here for\n",
    "# more details: https://github.com/greenelab/phenoplier/pull/38#discussion_r634600813\n",
    "# gene_corrs_data = squareform(np.array(gene_corrs, dtype=np.float64))\n",
    "# np.fill_diagonal(gene_corrs_data, 1.0)\n",
    "\n",
    "gene_chr_ids = [g.ensembl_id for g in gene_chr_objs]\n",
    "gene_corrs_df = pd.DataFrame(\n",
    "    data=gene_corrs_data,\n",
    "    index=gene_chr_ids,\n",
    "    columns=gene_chr_ids,\n",
    ")\n",
    "\n",
    "output_dir.mkdir(exist_ok=True, parents=True)\n",
    "display(output_file)\n",
    "\n",
    "gene_corrs_df.to_pickle(output_file)"
   ]
  },
  {
   "cell_type": "markdown",
   "id": "faa67b51-5373-470f-aa72-2ded53fa6dfe",
   "metadata": {
    "papermill": {
     "duration": 0.404055,
     "end_time": "2022-08-30T17:00:46.462226",
     "exception": false,
     "start_time": "2022-08-30T17:00:46.058171",
     "status": "completed"
    },
    "tags": []
   },
   "source": [
    "# Testing"
   ]
  },
  {
   "cell_type": "code",
   "execution_count": 30,
   "id": "14f7d046-4b55-4896-a56b-990127bcc388",
   "metadata": {
    "execution": {
     "iopub.execute_input": "2022-08-30T17:00:47.266638Z",
     "iopub.status.busy": "2022-08-30T17:00:47.266362Z",
     "iopub.status.idle": "2022-08-30T17:00:47.476035Z",
     "shell.execute_reply": "2022-08-30T17:00:47.475505Z"
    },
    "papermill": {
     "duration": 0.588256,
     "end_time": "2022-08-30T17:00:47.477543",
     "exception": false,
     "start_time": "2022-08-30T17:00:46.889287",
     "status": "completed"
    },
    "tags": []
   },
   "outputs": [
    {
     "data": {
      "text/plain": [
       "(118, 118)"
      ]
     },
     "execution_count": 30,
     "metadata": {},
     "output_type": "execute_result"
    }
   ],
   "source": [
    "gene_corrs_df.shape"
   ]
  },
  {
   "cell_type": "code",
   "execution_count": 31,
   "id": "c7d15414-3297-4537-a7c6-7588c0baeb75",
   "metadata": {
    "execution": {
     "iopub.execute_input": "2022-08-30T17:00:48.283661Z",
     "iopub.status.busy": "2022-08-30T17:00:48.283407Z",
     "iopub.status.idle": "2022-08-30T17:00:48.318603Z",
     "shell.execute_reply": "2022-08-30T17:00:48.318097Z"
    },
    "papermill": {
     "duration": 0.421641,
     "end_time": "2022-08-30T17:00:48.320094",
     "exception": false,
     "start_time": "2022-08-30T17:00:47.898453",
     "status": "completed"
    },
    "tags": []
   },
   "outputs": [
    {
     "data": {
      "text/html": [
       "<div>\n",
       "<style scoped>\n",
       "    .dataframe tbody tr th:only-of-type {\n",
       "        vertical-align: middle;\n",
       "    }\n",
       "\n",
       "    .dataframe tbody tr th {\n",
       "        vertical-align: top;\n",
       "    }\n",
       "\n",
       "    .dataframe thead th {\n",
       "        text-align: right;\n",
       "    }\n",
       "</style>\n",
       "<table border=\"1\" class=\"dataframe\">\n",
       "  <thead>\n",
       "    <tr style=\"text-align: right;\">\n",
       "      <th></th>\n",
       "      <th>ENSG00000121741</th>\n",
       "      <th>ENSG00000121743</th>\n",
       "      <th>ENSG00000121742</th>\n",
       "      <th>ENSG00000032742</th>\n",
       "      <th>ENSG00000150457</th>\n",
       "      <th>ENSG00000150459</th>\n",
       "      <th>ENSG00000102678</th>\n",
       "      <th>ENSG00000127863</th>\n",
       "      <th>ENSG00000228741</th>\n",
       "      <th>ENSG00000102699</th>\n",
       "      <th>...</th>\n",
       "      <th>ENSG00000126217</th>\n",
       "      <th>ENSG00000057593</th>\n",
       "      <th>ENSG00000126231</th>\n",
       "      <th>ENSG00000139842</th>\n",
       "      <th>ENSG00000185896</th>\n",
       "      <th>ENSG00000198176</th>\n",
       "      <th>ENSG00000183087</th>\n",
       "      <th>ENSG00000185989</th>\n",
       "      <th>ENSG00000130177</th>\n",
       "      <th>ENSG00000169062</th>\n",
       "    </tr>\n",
       "  </thead>\n",
       "  <tbody>\n",
       "    <tr>\n",
       "      <th>ENSG00000121741</th>\n",
       "      <td>1.000000</td>\n",
       "      <td>0.012097</td>\n",
       "      <td>0.011184</td>\n",
       "      <td>0.002933</td>\n",
       "      <td>0.002772</td>\n",
       "      <td>0.004460</td>\n",
       "      <td>0.004328</td>\n",
       "      <td>0.008426</td>\n",
       "      <td>0.008153</td>\n",
       "      <td>0.005306</td>\n",
       "      <td>...</td>\n",
       "      <td>0.001558</td>\n",
       "      <td>0.002226</td>\n",
       "      <td>0.003528</td>\n",
       "      <td>0.002507</td>\n",
       "      <td>0.003500</td>\n",
       "      <td>0.005325</td>\n",
       "      <td>0.006440</td>\n",
       "      <td>0.004620</td>\n",
       "      <td>0.002246</td>\n",
       "      <td>0.001718</td>\n",
       "    </tr>\n",
       "    <tr>\n",
       "      <th>ENSG00000121743</th>\n",
       "      <td>0.012097</td>\n",
       "      <td>1.000000</td>\n",
       "      <td>0.028466</td>\n",
       "      <td>0.009301</td>\n",
       "      <td>0.013014</td>\n",
       "      <td>0.006442</td>\n",
       "      <td>0.003147</td>\n",
       "      <td>0.008373</td>\n",
       "      <td>0.006775</td>\n",
       "      <td>0.006577</td>\n",
       "      <td>...</td>\n",
       "      <td>0.013337</td>\n",
       "      <td>0.005226</td>\n",
       "      <td>0.007905</td>\n",
       "      <td>0.005313</td>\n",
       "      <td>0.007575</td>\n",
       "      <td>0.009804</td>\n",
       "      <td>0.011763</td>\n",
       "      <td>0.008235</td>\n",
       "      <td>0.006551</td>\n",
       "      <td>0.005224</td>\n",
       "    </tr>\n",
       "    <tr>\n",
       "      <th>ENSG00000121742</th>\n",
       "      <td>0.011184</td>\n",
       "      <td>0.028466</td>\n",
       "      <td>1.000000</td>\n",
       "      <td>0.010330</td>\n",
       "      <td>0.005040</td>\n",
       "      <td>0.008485</td>\n",
       "      <td>0.006706</td>\n",
       "      <td>0.012004</td>\n",
       "      <td>0.009493</td>\n",
       "      <td>0.004909</td>\n",
       "      <td>...</td>\n",
       "      <td>0.009196</td>\n",
       "      <td>0.003706</td>\n",
       "      <td>0.009071</td>\n",
       "      <td>0.009058</td>\n",
       "      <td>0.007736</td>\n",
       "      <td>0.007234</td>\n",
       "      <td>0.008900</td>\n",
       "      <td>0.010159</td>\n",
       "      <td>0.002674</td>\n",
       "      <td>0.002869</td>\n",
       "    </tr>\n",
       "    <tr>\n",
       "      <th>ENSG00000032742</th>\n",
       "      <td>0.002933</td>\n",
       "      <td>0.009301</td>\n",
       "      <td>0.010330</td>\n",
       "      <td>1.000000</td>\n",
       "      <td>0.017363</td>\n",
       "      <td>0.008018</td>\n",
       "      <td>0.005442</td>\n",
       "      <td>0.007502</td>\n",
       "      <td>0.008291</td>\n",
       "      <td>0.006997</td>\n",
       "      <td>...</td>\n",
       "      <td>0.010002</td>\n",
       "      <td>0.005603</td>\n",
       "      <td>0.006365</td>\n",
       "      <td>0.006029</td>\n",
       "      <td>0.005750</td>\n",
       "      <td>0.004671</td>\n",
       "      <td>0.007468</td>\n",
       "      <td>0.005137</td>\n",
       "      <td>0.005675</td>\n",
       "      <td>0.008820</td>\n",
       "    </tr>\n",
       "    <tr>\n",
       "      <th>ENSG00000150457</th>\n",
       "      <td>0.002772</td>\n",
       "      <td>0.013014</td>\n",
       "      <td>0.005040</td>\n",
       "      <td>0.017363</td>\n",
       "      <td>1.000000</td>\n",
       "      <td>0.005581</td>\n",
       "      <td>0.009922</td>\n",
       "      <td>0.014383</td>\n",
       "      <td>0.005669</td>\n",
       "      <td>0.005084</td>\n",
       "      <td>...</td>\n",
       "      <td>0.009203</td>\n",
       "      <td>0.006008</td>\n",
       "      <td>0.006272</td>\n",
       "      <td>0.004725</td>\n",
       "      <td>0.005297</td>\n",
       "      <td>0.006113</td>\n",
       "      <td>0.009606</td>\n",
       "      <td>0.004257</td>\n",
       "      <td>0.001172</td>\n",
       "      <td>0.002335</td>\n",
       "    </tr>\n",
       "  </tbody>\n",
       "</table>\n",
       "<p>5 rows × 118 columns</p>\n",
       "</div>"
      ],
      "text/plain": [
       "                 ENSG00000121741  ENSG00000121743  ENSG00000121742  \\\n",
       "ENSG00000121741         1.000000         0.012097         0.011184   \n",
       "ENSG00000121743         0.012097         1.000000         0.028466   \n",
       "ENSG00000121742         0.011184         0.028466         1.000000   \n",
       "ENSG00000032742         0.002933         0.009301         0.010330   \n",
       "ENSG00000150457         0.002772         0.013014         0.005040   \n",
       "\n",
       "                 ENSG00000032742  ENSG00000150457  ENSG00000150459  \\\n",
       "ENSG00000121741         0.002933         0.002772         0.004460   \n",
       "ENSG00000121743         0.009301         0.013014         0.006442   \n",
       "ENSG00000121742         0.010330         0.005040         0.008485   \n",
       "ENSG00000032742         1.000000         0.017363         0.008018   \n",
       "ENSG00000150457         0.017363         1.000000         0.005581   \n",
       "\n",
       "                 ENSG00000102678  ENSG00000127863  ENSG00000228741  \\\n",
       "ENSG00000121741         0.004328         0.008426         0.008153   \n",
       "ENSG00000121743         0.003147         0.008373         0.006775   \n",
       "ENSG00000121742         0.006706         0.012004         0.009493   \n",
       "ENSG00000032742         0.005442         0.007502         0.008291   \n",
       "ENSG00000150457         0.009922         0.014383         0.005669   \n",
       "\n",
       "                 ENSG00000102699  ...  ENSG00000126217  ENSG00000057593  \\\n",
       "ENSG00000121741         0.005306  ...         0.001558         0.002226   \n",
       "ENSG00000121743         0.006577  ...         0.013337         0.005226   \n",
       "ENSG00000121742         0.004909  ...         0.009196         0.003706   \n",
       "ENSG00000032742         0.006997  ...         0.010002         0.005603   \n",
       "ENSG00000150457         0.005084  ...         0.009203         0.006008   \n",
       "\n",
       "                 ENSG00000126231  ENSG00000139842  ENSG00000185896  \\\n",
       "ENSG00000121741         0.003528         0.002507         0.003500   \n",
       "ENSG00000121743         0.007905         0.005313         0.007575   \n",
       "ENSG00000121742         0.009071         0.009058         0.007736   \n",
       "ENSG00000032742         0.006365         0.006029         0.005750   \n",
       "ENSG00000150457         0.006272         0.004725         0.005297   \n",
       "\n",
       "                 ENSG00000198176  ENSG00000183087  ENSG00000185989  \\\n",
       "ENSG00000121741         0.005325         0.006440         0.004620   \n",
       "ENSG00000121743         0.009804         0.011763         0.008235   \n",
       "ENSG00000121742         0.007234         0.008900         0.010159   \n",
       "ENSG00000032742         0.004671         0.007468         0.005137   \n",
       "ENSG00000150457         0.006113         0.009606         0.004257   \n",
       "\n",
       "                 ENSG00000130177  ENSG00000169062  \n",
       "ENSG00000121741         0.002246         0.001718  \n",
       "ENSG00000121743         0.006551         0.005224  \n",
       "ENSG00000121742         0.002674         0.002869  \n",
       "ENSG00000032742         0.005675         0.008820  \n",
       "ENSG00000150457         0.001172         0.002335  \n",
       "\n",
       "[5 rows x 118 columns]"
      ]
     },
     "execution_count": 31,
     "metadata": {},
     "output_type": "execute_result"
    }
   ],
   "source": [
    "gene_corrs_df.head()"
   ]
  },
  {
   "cell_type": "markdown",
   "id": "dad6603f-01c6-41fb-a6f6-241051207dd8",
   "metadata": {
    "papermill": {
     "duration": 0.380534,
     "end_time": "2022-08-30T17:00:49.102600",
     "exception": false,
     "start_time": "2022-08-30T17:00:48.722066",
     "status": "completed"
    },
    "tags": []
   },
   "source": [
    "## Standard checks and stats"
   ]
  },
  {
   "cell_type": "code",
   "execution_count": 32,
   "id": "286686af-1b7b-4440-8453-6bdcbd8de19c",
   "metadata": {
    "execution": {
     "iopub.execute_input": "2022-08-30T17:00:49.897098Z",
     "iopub.status.busy": "2022-08-30T17:00:49.896811Z",
     "iopub.status.idle": "2022-08-30T17:00:49.916977Z",
     "shell.execute_reply": "2022-08-30T17:00:49.916459Z"
    },
    "papermill": {
     "duration": 0.430149,
     "end_time": "2022-08-30T17:00:49.918563",
     "exception": false,
     "start_time": "2022-08-30T17:00:49.488414",
     "status": "completed"
    },
    "tags": []
   },
   "outputs": [],
   "source": [
    "assert not gene_corrs_df.isna().any().any()"
   ]
  },
  {
   "cell_type": "code",
   "execution_count": 33,
   "id": "00583efc-7068-4270-ad1e-4a418e91db96",
   "metadata": {
    "execution": {
     "iopub.execute_input": "2022-08-30T17:00:50.727767Z",
     "iopub.status.busy": "2022-08-30T17:00:50.727504Z",
     "iopub.status.idle": "2022-08-30T17:00:50.750738Z",
     "shell.execute_reply": "2022-08-30T17:00:50.749990Z"
    },
    "papermill": {
     "duration": 0.447431,
     "end_time": "2022-08-30T17:00:50.752396",
     "exception": false,
     "start_time": "2022-08-30T17:00:50.304965",
     "status": "completed"
    },
    "tags": []
   },
   "outputs": [
    {
     "data": {
      "text/plain": [
       "2.699395436490203e-05"
      ]
     },
     "metadata": {},
     "output_type": "display_data"
    }
   ],
   "source": [
    "_min_val = gene_corrs_df.min().min()\n",
    "display(_min_val)\n",
    "assert _min_val >= -0.05"
   ]
  },
  {
   "cell_type": "code",
   "execution_count": 34,
   "id": "d04fb2cf-1050-475b-b855-f5f7cc04092b",
   "metadata": {
    "execution": {
     "iopub.execute_input": "2022-08-30T17:00:51.563502Z",
     "iopub.status.busy": "2022-08-30T17:00:51.563247Z",
     "iopub.status.idle": "2022-08-30T17:00:51.585498Z",
     "shell.execute_reply": "2022-08-30T17:00:51.584794Z"
    },
    "papermill": {
     "duration": 0.449431,
     "end_time": "2022-08-30T17:00:51.587085",
     "exception": false,
     "start_time": "2022-08-30T17:00:51.137654",
     "status": "completed"
    },
    "tags": []
   },
   "outputs": [
    {
     "data": {
      "text/plain": [
       "1.0000000000000027"
      ]
     },
     "metadata": {},
     "output_type": "display_data"
    }
   ],
   "source": [
    "_max_val = gene_corrs_df.max().max()  # this captures the diagonal\n",
    "display(_max_val)\n",
    "assert _max_val <= 1.05"
   ]
  },
  {
   "cell_type": "code",
   "execution_count": 35,
   "id": "96d02c44-1fba-47be-8a93-8f2608420b9c",
   "metadata": {
    "execution": {
     "iopub.execute_input": "2022-08-30T17:00:52.382286Z",
     "iopub.status.busy": "2022-08-30T17:00:52.382007Z",
     "iopub.status.idle": "2022-08-30T17:00:52.407780Z",
     "shell.execute_reply": "2022-08-30T17:00:52.407265Z"
    },
    "papermill": {
     "duration": 0.434082,
     "end_time": "2022-08-30T17:00:52.409458",
     "exception": false,
     "start_time": "2022-08-30T17:00:51.975376",
     "status": "completed"
    },
    "tags": []
   },
   "outputs": [],
   "source": [
    "# check upper triangular values\n",
    "# assert len(gene_corrs) == int(genes_chr.shape[0] * (genes_chr.shape[0] - 1) / 2)"
   ]
  },
  {
   "cell_type": "code",
   "execution_count": 36,
   "id": "fe283586-c348-40e0-8841-f6d97bfb021c",
   "metadata": {
    "execution": {
     "iopub.execute_input": "2022-08-30T17:00:53.163395Z",
     "iopub.status.busy": "2022-08-30T17:00:53.163127Z",
     "iopub.status.idle": "2022-08-30T17:00:53.187127Z",
     "shell.execute_reply": "2022-08-30T17:00:53.186588Z"
    },
    "papermill": {
     "duration": 0.405056,
     "end_time": "2022-08-30T17:00:53.188615",
     "exception": false,
     "start_time": "2022-08-30T17:00:52.783559",
     "status": "completed"
    },
    "tags": []
   },
   "outputs": [
    {
     "data": {
      "text/plain": [
       "count    7021.000000\n",
       "mean        0.026611\n",
       "std         0.132500\n",
       "min         0.000027\n",
       "25%         0.004530\n",
       "50%         0.006594\n",
       "75%         0.009079\n",
       "max         1.000000\n",
       "dtype: float64"
      ]
     },
     "execution_count": 36,
     "metadata": {},
     "output_type": "execute_result"
    }
   ],
   "source": [
    "gene_corrs_flat.describe()"
   ]
  },
  {
   "cell_type": "code",
   "execution_count": 37,
   "id": "b3815678-0f93-4b35-897b-a9d047a2aa78",
   "metadata": {
    "execution": {
     "iopub.execute_input": "2022-08-30T17:00:53.997852Z",
     "iopub.status.busy": "2022-08-30T17:00:53.997584Z",
     "iopub.status.idle": "2022-08-30T17:00:54.022813Z",
     "shell.execute_reply": "2022-08-30T17:00:54.022210Z"
    },
    "papermill": {
     "duration": 0.42844,
     "end_time": "2022-08-30T17:00:54.024380",
     "exception": false,
     "start_time": "2022-08-30T17:00:53.595940",
     "status": "completed"
    },
    "tags": []
   },
   "outputs": [
    {
     "data": {
      "text/plain": [
       "0.00    0.000027\n",
       "0.05    0.002122\n",
       "0.10    0.002953\n",
       "0.15    0.003544\n",
       "0.20    0.004063\n",
       "0.25    0.004530\n",
       "0.30    0.004986\n",
       "0.35    0.005390\n",
       "0.40    0.005786\n",
       "0.45    0.006183\n",
       "0.50    0.006594\n",
       "0.55    0.007029\n",
       "0.60    0.007463\n",
       "0.65    0.007901\n",
       "0.70    0.008445\n",
       "0.75    0.009079\n",
       "0.80    0.009728\n",
       "0.85    0.010482\n",
       "0.90    0.011793\n",
       "0.95    0.014026\n",
       "dtype: float64"
      ]
     },
     "metadata": {},
     "output_type": "display_data"
    }
   ],
   "source": [
    "gene_corrs_quantiles = gene_corrs_flat.quantile(np.arange(0, 1, 0.05))\n",
    "display(gene_corrs_quantiles)"
   ]
  },
  {
   "cell_type": "markdown",
   "id": "87134509-b145-4a10-8bc9-b7e914c2b0fa",
   "metadata": {
    "papermill": {
     "duration": 0.399918,
     "end_time": "2022-08-30T17:00:54.815585",
     "exception": false,
     "start_time": "2022-08-30T17:00:54.415667",
     "status": "completed"
    },
    "tags": []
   },
   "source": [
    "## Positive definiteness"
   ]
  },
  {
   "cell_type": "code",
   "execution_count": 38,
   "id": "07d9a9a1-a4f7-48aa-b916-6d42a8cc6186",
   "metadata": {
    "execution": {
     "iopub.execute_input": "2022-08-30T17:00:55.621414Z",
     "iopub.status.busy": "2022-08-30T17:00:55.621145Z",
     "iopub.status.idle": "2022-08-30T17:00:55.647912Z",
     "shell.execute_reply": "2022-08-30T17:00:55.647383Z"
    },
    "papermill": {
     "duration": 0.427513,
     "end_time": "2022-08-30T17:00:55.649438",
     "exception": false,
     "start_time": "2022-08-30T17:00:55.221925",
     "status": "completed"
    },
    "tags": []
   },
   "outputs": [
    {
     "data": {
      "text/plain": [
       "0"
      ]
     },
     "metadata": {},
     "output_type": "display_data"
    },
    {
     "data": {
      "text/plain": [
       "array([], dtype=float64)"
      ]
     },
     "metadata": {},
     "output_type": "display_data"
    }
   ],
   "source": [
    "# print negative eigenvalues\n",
    "eigs = np.linalg.eigvals(gene_corrs_df.to_numpy())\n",
    "display(len(eigs[eigs < 0]))\n",
    "display(eigs[eigs < 0])"
   ]
  },
  {
   "cell_type": "code",
   "execution_count": 39,
   "id": "6e218436-c3c5-4028-8c94-a4fa6260efce",
   "metadata": {
    "execution": {
     "iopub.execute_input": "2022-08-30T17:00:56.468338Z",
     "iopub.status.busy": "2022-08-30T17:00:56.468072Z",
     "iopub.status.idle": "2022-08-30T17:00:56.491147Z",
     "shell.execute_reply": "2022-08-30T17:00:56.490420Z"
    },
    "papermill": {
     "duration": 0.419117,
     "end_time": "2022-08-30T17:00:56.492663",
     "exception": false,
     "start_time": "2022-08-30T17:00:56.073546",
     "status": "completed"
    },
    "tags": []
   },
   "outputs": [
    {
     "name": "stdout",
     "output_type": "stream",
     "text": [
      "Works!\n"
     ]
    }
   ],
   "source": [
    "try:\n",
    "    chol_mat = np.linalg.cholesky(gene_corrs_df.to_numpy())\n",
    "    cov_inv = np.linalg.inv(chol_mat)\n",
    "    print(\"Works!\")\n",
    "except Exception as e:\n",
    "    print(f\"Cholesky decomposition failed: {str(e)}\")"
   ]
  },
  {
   "cell_type": "code",
   "execution_count": 40,
   "id": "dd8827fb-faf9-4c7c-9454-015e94752706",
   "metadata": {
    "execution": {
     "iopub.execute_input": "2022-08-30T17:00:57.298926Z",
     "iopub.status.busy": "2022-08-30T17:00:57.298642Z",
     "iopub.status.idle": "2022-08-30T17:00:57.321243Z",
     "shell.execute_reply": "2022-08-30T17:00:57.320681Z"
    },
    "papermill": {
     "duration": 0.405392,
     "end_time": "2022-08-30T17:00:57.322759",
     "exception": false,
     "start_time": "2022-08-30T17:00:56.917367",
     "status": "completed"
    },
    "tags": []
   },
   "outputs": [
    {
     "name": "stdout",
     "output_type": "stream",
     "text": [
      "Works!\n"
     ]
    }
   ],
   "source": [
    "try:\n",
    "    # decomposition used by statsmodels.GLS\n",
    "    cholsigmainv = np.linalg.cholesky(np.linalg.inv(gene_corrs_df.to_numpy())).T\n",
    "    print(\"Works!\")\n",
    "except Exception as e:\n",
    "    print(f\"Cholesky decomposition failed (statsmodels.GLS): {str(e)}\")"
   ]
  },
  {
   "cell_type": "markdown",
   "id": "8e60a080-edb2-4e9c-b2ef-22961693200c",
   "metadata": {
    "papermill": {
     "duration": 0.420554,
     "end_time": "2022-08-30T17:00:58.126226",
     "exception": false,
     "start_time": "2022-08-30T17:00:57.705672",
     "status": "completed"
    },
    "tags": []
   },
   "source": [
    "## Plot: distribution"
   ]
  },
  {
   "cell_type": "code",
   "execution_count": 41,
   "id": "8301126b-a7d4-4744-9c7d-f0f86eb6f54c",
   "metadata": {
    "execution": {
     "iopub.execute_input": "2022-08-30T17:00:58.920183Z",
     "iopub.status.busy": "2022-08-30T17:00:58.919900Z",
     "iopub.status.idle": "2022-08-30T17:01:04.116834Z",
     "shell.execute_reply": "2022-08-30T17:01:04.116260Z"
    },
    "papermill": {
     "duration": 5.606994,
     "end_time": "2022-08-30T17:01:04.118338",
     "exception": false,
     "start_time": "2022-08-30T17:00:58.511344",
     "status": "completed"
    },
    "tags": []
   },
   "outputs": [
    {
     "data": {
      "image/png": "[encoded data removed]",
      "text/plain": [
       "<Figure size 504x504 with 1 Axes>"
      ]
     },
     "metadata": {
      "needs_background": "light"
     },
     "output_type": "display_data"
    }
   ],
   "source": [
    "with sns.plotting_context(\"paper\", font_scale=1.5):\n",
    "    g = sns.displot(gene_corrs_flat, kde=True, height=7)\n",
    "    g.ax.set_title(\n",
    "        f\"Distribution of gene correlation values in chromosome {CHROMOSOME}\"\n",
    "    )"
   ]
  },
  {
   "cell_type": "markdown",
   "id": "cbd52bca-d878-4a2f-b684-5c83aa3038d4",
   "metadata": {
    "papermill": {
     "duration": 0.425366,
     "end_time": "2022-08-30T17:01:04.913334",
     "exception": false,
     "start_time": "2022-08-30T17:01:04.487968",
     "status": "completed"
    },
    "tags": []
   },
   "source": [
    "## Plot: heatmap"
   ]
  },
  {
   "cell_type": "code",
   "execution_count": 42,
   "id": "d03fe63a-c7b2-4fb9-a53c-db362ce843c9",
   "metadata": {
    "execution": {
     "iopub.execute_input": "2022-08-30T17:01:05.720165Z",
     "iopub.status.busy": "2022-08-30T17:01:05.719894Z",
     "iopub.status.idle": "2022-08-30T17:01:05.756153Z",
     "shell.execute_reply": "2022-08-30T17:01:05.755606Z"
    },
    "papermill": {
     "duration": 0.462003,
     "end_time": "2022-08-30T17:01:05.757778",
     "exception": false,
     "start_time": "2022-08-30T17:01:05.295775",
     "status": "completed"
    },
    "tags": []
   },
   "outputs": [
    {
     "data": {
      "text/plain": [
       "'0.0 / 0.05'"
      ]
     },
     "metadata": {},
     "output_type": "display_data"
    }
   ],
   "source": [
    "vmin_val = min(0.00, gene_corrs_quantiles[0.10])\n",
    "vmax_val = max(0.05, gene_corrs_quantiles[0.90])\n",
    "display(f\"{vmin_val} / {vmax_val}\")"
   ]
  },
  {
   "cell_type": "code",
   "execution_count": 43,
   "id": "dc41b70b-5bcc-4d9e-9f33-a22c4a94dab5",
   "metadata": {
    "execution": {
     "iopub.execute_input": "2022-08-30T17:01:06.535095Z",
     "iopub.status.busy": "2022-08-30T17:01:06.534809Z",
     "iopub.status.idle": "2022-08-30T17:01:06.711783Z",
     "shell.execute_reply": "2022-08-30T17:01:06.711279Z"
    },
    "papermill": {
     "duration": 0.560226,
     "end_time": "2022-08-30T17:01:06.713424",
     "exception": false,
     "start_time": "2022-08-30T17:01:06.153198",
     "status": "completed"
    },
    "tags": []
   },
   "outputs": [
    {
     "data": {
      "text/plain": [
       "Text(0.5, 1.0, 'Gene correlations in chromosome 13')"
      ]
     },
     "execution_count": 43,
     "metadata": {},
     "output_type": "execute_result"
    },
    {
     "data": {
      "image/png": "[encoded data removed]",
      "text/plain": [
       "<Figure size 720x720 with 2 Axes>"
      ]
     },
     "metadata": {
      "needs_background": "light"
     },
     "output_type": "display_data"
    }
   ],
   "source": [
    "f, ax = plt.subplots(figsize=(10, 10))\n",
    "sns.heatmap(\n",
    "    gene_corrs_df,\n",
    "    xticklabels=False,\n",
    "    yticklabels=False,\n",
    "    square=True,\n",
    "    vmin=vmin_val,\n",
    "    vmax=vmax_val,\n",
    "    cmap=\"rocket_r\",\n",
    "    ax=ax,\n",
    ")\n",
    "ax.set_title(f\"Gene correlations in chromosome {CHROMOSOME}\")"
   ]
  },
  {
   "cell_type": "code",
   "execution_count": null,
   "id": "b25e3ead",
   "metadata": {
    "papermill": {
     "duration": 0.392629,
     "end_time": "2022-08-30T17:01:07.513775",
     "exception": false,
     "start_time": "2022-08-30T17:01:07.121146",
     "status": "completed"
    },
    "tags": []
   },
   "outputs": [],
   "source": []
  }
 ],
 "metadata": {
  "jupytext": {
   "cell_metadata_filter": "all,-execution,-papermill,-trusted",
   "formats": "ipynb,py//py:percent"
  },
  "kernelspec": {
   "display_name": "Python 3 (ipykernel)",
   "language": "python",
   "name": "python3"
  },
  "language_info": {
   "codemirror_mode": {
    "name": "ipython",
    "version": 3
   },
   "file_extension": ".py",
   "mimetype": "text/x-python",
   "name": "python",
   "nbconvert_exporter": "python",
   "pygments_lexer": "ipython3",
   "version": "3.8.13"
  },
  "papermill": {
   "default_parameters": {},
   "duration": 578.425154,
   "end_time": "2022-08-30T17:01:11.426071",
   "environment_variables": {},
   "exception": null,
   "input_path": "nbs/15_gsa_gls/10-gene_expr_correlations.ipynb",
   "output_path": "nbs/15_gsa_gls/gene_corrs/cohorts/emerge/gtex_v8/mashr/10-gene_expr_corrs/10-gene_expr_correlations-chr13.run.ipynb",
   "parameters": {
    "CHROMOSOME": 13,
    "COHORT_NAME": "emerge",
    "EQTL_MODEL": "MASHR",
    "REFERENCE_PANEL": "GTEX_V8"
   },
   "start_time": "2022-08-30T16:51:33.000917",
   "version": "2.2.2"
  }
 },
 "nbformat": 4,
 "nbformat_minor": 5
}
