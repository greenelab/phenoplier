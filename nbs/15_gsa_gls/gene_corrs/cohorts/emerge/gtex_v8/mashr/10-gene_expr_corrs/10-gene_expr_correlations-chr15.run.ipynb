{
 "cells": [
  {
   "cell_type": "markdown",
   "id": "7a6632fb",
   "metadata": {
    "papermill": {
     "duration": 0.020372,
     "end_time": "2022-08-30T16:51:35.308962",
     "exception": false,
     "start_time": "2022-08-30T16:51:35.288590",
     "status": "completed"
    },
    "tags": []
   },
   "source": [
    "# Description"
   ]
  },
  {
   "cell_type": "markdown",
   "id": "7097c346",
   "metadata": {
    "papermill": {
     "duration": 0.015282,
     "end_time": "2022-08-30T16:51:35.340827",
     "exception": false,
     "start_time": "2022-08-30T16:51:35.325545",
     "status": "completed"
    },
    "tags": []
   },
   "source": [
    "(Please, take a look at the README.md file in this directory for instructions on how to run this notebook)\n",
    "\n",
    "This notebook computes predicted expression correlations between all genes in the MultiPLIER models.\n",
    "\n",
    "It also has a parameter set for papermill to run on a single chromosome to run in parallel (see under `Settings` below).\n",
    "\n",
    "This notebook is not directly run. See README.md."
   ]
  },
  {
   "cell_type": "markdown",
   "id": "c61d8427",
   "metadata": {
    "papermill": {
     "duration": 0.014663,
     "end_time": "2022-08-30T16:51:35.370245",
     "exception": false,
     "start_time": "2022-08-30T16:51:35.355582",
     "status": "completed"
    },
    "tags": []
   },
   "source": [
    "# Modules"
   ]
  },
  {
   "cell_type": "code",
   "execution_count": 1,
   "id": "bbc0234f",
   "metadata": {
    "execution": {
     "iopub.execute_input": "2022-08-30T16:51:35.399191Z",
     "iopub.status.busy": "2022-08-30T16:51:35.398821Z",
     "iopub.status.idle": "2022-08-30T16:51:35.424024Z",
     "shell.execute_reply": "2022-08-30T16:51:35.423279Z"
    },
    "papermill": {
     "duration": 0.042188,
     "end_time": "2022-08-30T16:51:35.426463",
     "exception": false,
     "start_time": "2022-08-30T16:51:35.384275",
     "status": "completed"
    },
    "tags": []
   },
   "outputs": [],
   "source": [
    "%load_ext autoreload\n",
    "%autoreload 2"
   ]
  },
  {
   "cell_type": "code",
   "execution_count": 2,
   "id": "1d5f5a59",
   "metadata": {
    "execution": {
     "iopub.execute_input": "2022-08-30T16:51:35.450907Z",
     "iopub.status.busy": "2022-08-30T16:51:35.450642Z",
     "iopub.status.idle": "2022-08-30T16:51:37.909748Z",
     "shell.execute_reply": "2022-08-30T16:51:37.909151Z"
    },
    "papermill": {
     "duration": 2.473571,
     "end_time": "2022-08-30T16:51:37.911690",
     "exception": false,
     "start_time": "2022-08-30T16:51:35.438119",
     "status": "completed"
    },
    "tags": []
   },
   "outputs": [],
   "source": [
    "from random import sample, seed\n",
    "import warnings\n",
    "from pathlib import Path\n",
    "import pickle\n",
    "import traceback\n",
    "\n",
    "import numpy as np\n",
    "from scipy.spatial.distance import squareform\n",
    "import pandas as pd\n",
    "from tqdm import tqdm\n",
    "import matplotlib.pyplot as plt\n",
    "import seaborn as sns\n",
    "\n",
    "import conf\n",
    "from entity import Gene"
   ]
  },
  {
   "cell_type": "markdown",
   "id": "1eac24b5",
   "metadata": {
    "papermill": {
     "duration": 0.033599,
     "end_time": "2022-08-30T16:51:37.955291",
     "exception": false,
     "start_time": "2022-08-30T16:51:37.921692",
     "status": "completed"
    },
    "tags": []
   },
   "source": [
    "# Settings"
   ]
  },
  {
   "cell_type": "code",
   "execution_count": 3,
   "id": "ca4560ba",
   "metadata": {
    "execution": {
     "iopub.execute_input": "2022-08-30T16:51:37.973145Z",
     "iopub.status.busy": "2022-08-30T16:51:37.972889Z",
     "iopub.status.idle": "2022-08-30T16:51:37.991274Z",
     "shell.execute_reply": "2022-08-30T16:51:37.990674Z"
    },
    "papermill": {
     "duration": 0.029414,
     "end_time": "2022-08-30T16:51:37.992840",
     "exception": false,
     "start_time": "2022-08-30T16:51:37.963426",
     "status": "completed"
    },
    "tags": [
     "parameters"
    ]
   },
   "outputs": [],
   "source": [
    "# a cohort name (it could be something like UK_BIOBANK, etc)\n",
    "COHORT_NAME = None\n",
    "\n",
    "# reference panel such as 1000G or GTEX_V8\n",
    "REFERENCE_PANEL = None\n",
    "\n",
    "# predictions models such as MASHR or ELASTIC_NET\n",
    "EQTL_MODEL = None\n",
    "\n",
    "# this is the default value used in S-MultiXcan to select the\n",
    "# top principal components of the expression correlation matrix\n",
    "SMULTIXCAN_CONDITION_NUMBER = 30\n",
    "\n",
    "# specifies a single chromosome value\n",
    "CHROMOSOME = None\n",
    "\n",
    "# If True, computes the correlation between closeby genes only;\n",
    "# otherwise, it computes correlations for all genes in a chromosome\n",
    "COMPUTE_CORRELATIONS_WITHIN_DISTANCE = False\n",
    "\n",
    "# if True, then it will continue if a gene pair correlation fails,\n",
    "# printing the warning/error for debugging. If False, any warning/error\n",
    "# will be thrown\n",
    "DEBUG_MODE = False"
   ]
  },
  {
   "cell_type": "code",
   "execution_count": 4,
   "id": "4c077dd7",
   "metadata": {
    "execution": {
     "iopub.execute_input": "2022-08-30T16:51:38.011826Z",
     "iopub.status.busy": "2022-08-30T16:51:38.011633Z",
     "iopub.status.idle": "2022-08-30T16:51:38.026975Z",
     "shell.execute_reply": "2022-08-30T16:51:38.026275Z"
    },
    "papermill": {
     "duration": 0.027053,
     "end_time": "2022-08-30T16:51:38.028510",
     "exception": false,
     "start_time": "2022-08-30T16:51:38.001457",
     "status": "completed"
    },
    "tags": [
     "injected-parameters"
    ]
   },
   "outputs": [],
   "source": [
    "# Parameters\n",
    "COHORT_NAME = \"emerge\"\n",
    "REFERENCE_PANEL = \"GTEX_V8\"\n",
    "EQTL_MODEL = \"MASHR\"\n",
    "CHROMOSOME = 15\n"
   ]
  },
  {
   "cell_type": "code",
   "execution_count": 5,
   "id": "3190631f-27fc-480f-b18e-571d580425a5",
   "metadata": {
    "execution": {
     "iopub.execute_input": "2022-08-30T16:51:38.048197Z",
     "iopub.status.busy": "2022-08-30T16:51:38.048005Z",
     "iopub.status.idle": "2022-08-30T16:51:38.066517Z",
     "shell.execute_reply": "2022-08-30T16:51:38.066020Z"
    },
    "papermill": {
     "duration": 0.030837,
     "end_time": "2022-08-30T16:51:38.067972",
     "exception": false,
     "start_time": "2022-08-30T16:51:38.037135",
     "status": "completed"
    },
    "tags": []
   },
   "outputs": [
    {
     "data": {
      "text/plain": [
       "'Cohort name: emerge'"
      ]
     },
     "metadata": {},
     "output_type": "display_data"
    }
   ],
   "source": [
    "assert COHORT_NAME is not None and len(COHORT_NAME) > 0, \"A cohort name must be given\"\n",
    "\n",
    "COHORT_NAME = COHORT_NAME.lower()\n",
    "display(f\"Cohort name: {COHORT_NAME}\")"
   ]
  },
  {
   "cell_type": "code",
   "execution_count": 6,
   "id": "f53ba19b-0f93-4fa2-a047-63b375939d1a",
   "metadata": {
    "execution": {
     "iopub.execute_input": "2022-08-30T16:51:38.085974Z",
     "iopub.status.busy": "2022-08-30T16:51:38.085773Z",
     "iopub.status.idle": "2022-08-30T16:51:38.102685Z",
     "shell.execute_reply": "2022-08-30T16:51:38.102073Z"
    },
    "papermill": {
     "duration": 0.027321,
     "end_time": "2022-08-30T16:51:38.104237",
     "exception": false,
     "start_time": "2022-08-30T16:51:38.076916",
     "status": "completed"
    },
    "tags": []
   },
   "outputs": [
    {
     "data": {
      "text/plain": [
       "'Reference panel: GTEX_V8'"
      ]
     },
     "metadata": {},
     "output_type": "display_data"
    }
   ],
   "source": [
    "assert (\n",
    "    REFERENCE_PANEL is not None and len(REFERENCE_PANEL) > 0\n",
    "), \"A reference panel must be given\"\n",
    "\n",
    "display(f\"Reference panel: {REFERENCE_PANEL}\")"
   ]
  },
  {
   "cell_type": "code",
   "execution_count": 7,
   "id": "e024d130-c139-429a-9c6e-ccf149e297b0",
   "metadata": {
    "execution": {
     "iopub.execute_input": "2022-08-30T16:51:38.126177Z",
     "iopub.status.busy": "2022-08-30T16:51:38.125985Z",
     "iopub.status.idle": "2022-08-30T16:51:38.143110Z",
     "shell.execute_reply": "2022-08-30T16:51:38.142348Z"
    },
    "papermill": {
     "duration": 0.028937,
     "end_time": "2022-08-30T16:51:38.144643",
     "exception": false,
     "start_time": "2022-08-30T16:51:38.115706",
     "status": "completed"
    },
    "tags": []
   },
   "outputs": [
    {
     "data": {
      "text/plain": [
       "'eQTL model: MASHR) / mashr_'"
      ]
     },
     "metadata": {},
     "output_type": "display_data"
    }
   ],
   "source": [
    "assert (\n",
    "    EQTL_MODEL is not None and len(EQTL_MODEL) > 0\n",
    "), \"A prediction/eQTL model must be given\"\n",
    "\n",
    "EQTL_MODEL_FILES_PREFIX = conf.PHENOMEXCAN[\"PREDICTION_MODELS\"][f\"{EQTL_MODEL}_PREFIX\"]\n",
    "display(f\"eQTL model: {EQTL_MODEL}) / {EQTL_MODEL_FILES_PREFIX}\")"
   ]
  },
  {
   "cell_type": "code",
   "execution_count": 8,
   "id": "552a7f63-a18c-4d3e-bb6a-94f99b431291",
   "metadata": {
    "execution": {
     "iopub.execute_input": "2022-08-30T16:51:38.164480Z",
     "iopub.status.busy": "2022-08-30T16:51:38.164289Z",
     "iopub.status.idle": "2022-08-30T16:51:38.181283Z",
     "shell.execute_reply": "2022-08-30T16:51:38.180544Z"
    },
    "papermill": {
     "duration": 0.029071,
     "end_time": "2022-08-30T16:51:38.182819",
     "exception": false,
     "start_time": "2022-08-30T16:51:38.153748",
     "status": "completed"
    },
    "tags": []
   },
   "outputs": [
    {
     "data": {
      "text/plain": [
       "'S-MultiXcan condition number: 30'"
      ]
     },
     "metadata": {},
     "output_type": "display_data"
    }
   ],
   "source": [
    "assert (\n",
    "    SMULTIXCAN_CONDITION_NUMBER is not None and SMULTIXCAN_CONDITION_NUMBER > 0\n",
    "), \"The S-MultiXcan condition number (positive integer) must be given\"\n",
    "\n",
    "display(f\"S-MultiXcan condition number: {SMULTIXCAN_CONDITION_NUMBER}\")"
   ]
  },
  {
   "cell_type": "code",
   "execution_count": 9,
   "id": "f34a336f-548e-4afe-8955-90eaea4f42c6",
   "metadata": {
    "execution": {
     "iopub.execute_input": "2022-08-30T16:51:38.204146Z",
     "iopub.status.busy": "2022-08-30T16:51:38.203953Z",
     "iopub.status.idle": "2022-08-30T16:51:38.220781Z",
     "shell.execute_reply": "2022-08-30T16:51:38.220284Z"
    },
    "papermill": {
     "duration": 0.028907,
     "end_time": "2022-08-30T16:51:38.222222",
     "exception": false,
     "start_time": "2022-08-30T16:51:38.193315",
     "status": "completed"
    },
    "tags": []
   },
   "outputs": [
    {
     "data": {
      "text/plain": [
       "'Working on chromosome 15'"
      ]
     },
     "metadata": {},
     "output_type": "display_data"
    }
   ],
   "source": [
    "assert CHROMOSOME is not None and (\n",
    "    1 <= CHROMOSOME <= 22\n",
    "), \"You have to select one chromosome (format: number between 1 and 22)\"\n",
    "\n",
    "# CHROMOSOME = str(CHROMOSOME)\n",
    "display(f\"Working on chromosome {CHROMOSOME}\")"
   ]
  },
  {
   "cell_type": "code",
   "execution_count": 10,
   "id": "ab8e96e8-06b5-4363-9dcd-dc4d78cc27f7",
   "metadata": {
    "execution": {
     "iopub.execute_input": "2022-08-30T16:51:38.241450Z",
     "iopub.status.busy": "2022-08-30T16:51:38.241258Z",
     "iopub.status.idle": "2022-08-30T16:51:38.257956Z",
     "shell.execute_reply": "2022-08-30T16:51:38.257446Z"
    },
    "papermill": {
     "duration": 0.027945,
     "end_time": "2022-08-30T16:51:38.259391",
     "exception": false,
     "start_time": "2022-08-30T16:51:38.231446",
     "status": "completed"
    },
    "tags": []
   },
   "outputs": [
    {
     "data": {
      "text/plain": [
       "'Compute correlation within distance False'"
      ]
     },
     "metadata": {},
     "output_type": "display_data"
    }
   ],
   "source": [
    "display(f\"Compute correlation within distance {COMPUTE_CORRELATIONS_WITHIN_DISTANCE}\")"
   ]
  },
  {
   "cell_type": "code",
   "execution_count": 11,
   "id": "396392dc-0340-4540-9b02-e182b833f909",
   "metadata": {
    "execution": {
     "iopub.execute_input": "2022-08-30T16:51:38.279552Z",
     "iopub.status.busy": "2022-08-30T16:51:38.279353Z",
     "iopub.status.idle": "2022-08-30T16:51:38.299547Z",
     "shell.execute_reply": "2022-08-30T16:51:38.298689Z"
    },
    "papermill": {
     "duration": 0.031547,
     "end_time": "2022-08-30T16:51:38.301094",
     "exception": false,
     "start_time": "2022-08-30T16:51:38.269547",
     "status": "completed"
    },
    "tags": []
   },
   "outputs": [
    {
     "data": {
      "text/plain": [
       "'Using output dir base: /project/ritchie20/projects/phenoplier/base/results/gls/gene_corrs/cohorts/emerge/gtex_v8/mashr'"
      ]
     },
     "metadata": {},
     "output_type": "display_data"
    }
   ],
   "source": [
    "OUTPUT_DIR_BASE = (\n",
    "    conf.RESULTS[\"GLS\"]\n",
    "    / \"gene_corrs\"\n",
    "    / \"cohorts\"\n",
    "    / COHORT_NAME\n",
    "    / REFERENCE_PANEL.lower()\n",
    "    / EQTL_MODEL.lower()\n",
    ")\n",
    "OUTPUT_DIR_BASE.mkdir(parents=True, exist_ok=True)\n",
    "\n",
    "display(f\"Using output dir base: {OUTPUT_DIR_BASE}\")"
   ]
  },
  {
   "cell_type": "markdown",
   "id": "d2ba085e",
   "metadata": {
    "papermill": {
     "duration": 0.009691,
     "end_time": "2022-08-30T16:51:38.320975",
     "exception": false,
     "start_time": "2022-08-30T16:51:38.311284",
     "status": "completed"
    },
    "tags": []
   },
   "source": [
    "# Load data"
   ]
  },
  {
   "cell_type": "markdown",
   "id": "7dcb8db7",
   "metadata": {
    "papermill": {
     "duration": 0.011385,
     "end_time": "2022-08-30T16:51:38.344159",
     "exception": false,
     "start_time": "2022-08-30T16:51:38.332774",
     "status": "completed"
    },
    "tags": []
   },
   "source": [
    "## GWAS variants"
   ]
  },
  {
   "cell_type": "code",
   "execution_count": 12,
   "id": "29434c4e-8cd3-4b9b-82e4-b5a251d9dd19",
   "metadata": {
    "execution": {
     "iopub.execute_input": "2022-08-30T16:51:38.365087Z",
     "iopub.status.busy": "2022-08-30T16:51:38.364884Z",
     "iopub.status.idle": "2022-08-30T16:51:40.623786Z",
     "shell.execute_reply": "2022-08-30T16:51:40.623094Z"
    },
    "papermill": {
     "duration": 2.271013,
     "end_time": "2022-08-30T16:51:40.625702",
     "exception": false,
     "start_time": "2022-08-30T16:51:38.354689",
     "status": "completed"
    },
    "tags": []
   },
   "outputs": [],
   "source": [
    "with open(OUTPUT_DIR_BASE / \"gwas_variant_ids.pkl\", \"rb\") as handle:\n",
    "    gwas_variants_ids_set = pickle.load(handle)"
   ]
  },
  {
   "cell_type": "code",
   "execution_count": 13,
   "id": "b9d9dec2-4a76-4bf9-bde2-e24c95acb8a0",
   "metadata": {
    "execution": {
     "iopub.execute_input": "2022-08-30T16:51:40.711788Z",
     "iopub.status.busy": "2022-08-30T16:51:40.711384Z",
     "iopub.status.idle": "2022-08-30T16:51:40.746026Z",
     "shell.execute_reply": "2022-08-30T16:51:40.745063Z"
    },
    "papermill": {
     "duration": 0.086631,
     "end_time": "2022-08-30T16:51:40.748582",
     "exception": false,
     "start_time": "2022-08-30T16:51:40.661951",
     "status": "completed"
    },
    "tags": []
   },
   "outputs": [
    {
     "data": {
      "text/plain": [
       "8376508"
      ]
     },
     "execution_count": 13,
     "metadata": {},
     "output_type": "execute_result"
    }
   ],
   "source": [
    "len(gwas_variants_ids_set)"
   ]
  },
  {
   "cell_type": "code",
   "execution_count": 14,
   "id": "4235b06a-6034-4ee4-a0a3-2ae35d122418",
   "metadata": {
    "execution": {
     "iopub.execute_input": "2022-08-30T16:51:40.839630Z",
     "iopub.status.busy": "2022-08-30T16:51:40.839201Z",
     "iopub.status.idle": "2022-08-30T16:51:41.461661Z",
     "shell.execute_reply": "2022-08-30T16:51:41.460910Z"
    },
    "papermill": {
     "duration": 0.678225,
     "end_time": "2022-08-30T16:51:41.463396",
     "exception": false,
     "start_time": "2022-08-30T16:51:40.785171",
     "status": "completed"
    },
    "tags": []
   },
   "outputs": [
    {
     "data": {
      "text/plain": [
       "['chr14_42388907_A_G_b38',\n",
       " 'chr1_2956343_C_T_b38',\n",
       " 'chr4_43525453_G_A_b38',\n",
       " 'chr10_66052896_A_T_b38',\n",
       " 'chr3_50988834_G_T_b38']"
      ]
     },
     "execution_count": 14,
     "metadata": {},
     "output_type": "execute_result"
    }
   ],
   "source": [
    "list(gwas_variants_ids_set)[:5]"
   ]
  },
  {
   "cell_type": "markdown",
   "id": "07866999-2305-41f9-a144-e69c9122c212",
   "metadata": {
    "papermill": {
     "duration": 0.009309,
     "end_time": "2022-08-30T16:51:41.485825",
     "exception": false,
     "start_time": "2022-08-30T16:51:41.476516",
     "status": "completed"
    },
    "tags": []
   },
   "source": [
    "## S-PrediXcan tissue models"
   ]
  },
  {
   "cell_type": "code",
   "execution_count": 15,
   "id": "780611d9-77c8-405f-90a4-f271f7b09397",
   "metadata": {
    "execution": {
     "iopub.execute_input": "2022-08-30T16:51:41.510772Z",
     "iopub.status.busy": "2022-08-30T16:51:41.510566Z",
     "iopub.status.idle": "2022-08-30T16:51:42.439952Z",
     "shell.execute_reply": "2022-08-30T16:51:42.439350Z"
    },
    "papermill": {
     "duration": 0.94497,
     "end_time": "2022-08-30T16:51:42.441839",
     "exception": false,
     "start_time": "2022-08-30T16:51:41.496869",
     "status": "completed"
    },
    "tags": []
   },
   "outputs": [],
   "source": [
    "spredixcan_genes_models = pd.read_pickle(OUTPUT_DIR_BASE / \"gene_tissues.pkl\")"
   ]
  },
  {
   "cell_type": "code",
   "execution_count": 16,
   "id": "726dd1f6-9557-4225-91fa-b3b879ea96e1",
   "metadata": {
    "execution": {
     "iopub.execute_input": "2022-08-30T16:51:42.482114Z",
     "iopub.status.busy": "2022-08-30T16:51:42.481907Z",
     "iopub.status.idle": "2022-08-30T16:51:42.500870Z",
     "shell.execute_reply": "2022-08-30T16:51:42.500172Z"
    },
    "papermill": {
     "duration": 0.033792,
     "end_time": "2022-08-30T16:51:42.502417",
     "exception": false,
     "start_time": "2022-08-30T16:51:42.468625",
     "status": "completed"
    },
    "tags": []
   },
   "outputs": [
    {
     "data": {
      "text/plain": [
       "(6425, 3)"
      ]
     },
     "execution_count": 16,
     "metadata": {},
     "output_type": "execute_result"
    }
   ],
   "source": [
    "spredixcan_genes_models.shape"
   ]
  },
  {
   "cell_type": "code",
   "execution_count": 17,
   "id": "944a1b48-222c-4eb0-b252-b9de2cbca215",
   "metadata": {
    "execution": {
     "iopub.execute_input": "2022-08-30T16:51:42.532298Z",
     "iopub.status.busy": "2022-08-30T16:51:42.532105Z",
     "iopub.status.idle": "2022-08-30T16:51:42.558135Z",
     "shell.execute_reply": "2022-08-30T16:51:42.557624Z"
    },
    "papermill": {
     "duration": 0.041632,
     "end_time": "2022-08-30T16:51:42.559577",
     "exception": false,
     "start_time": "2022-08-30T16:51:42.517945",
     "status": "completed"
    },
    "tags": []
   },
   "outputs": [
    {
     "data": {
      "text/html": [
       "<div>\n",
       "<style scoped>\n",
       "    .dataframe tbody tr th:only-of-type {\n",
       "        vertical-align: middle;\n",
       "    }\n",
       "\n",
       "    .dataframe tbody tr th {\n",
       "        vertical-align: top;\n",
       "    }\n",
       "\n",
       "    .dataframe thead th {\n",
       "        text-align: right;\n",
       "    }\n",
       "</style>\n",
       "<table border=\"1\" class=\"dataframe\">\n",
       "  <thead>\n",
       "    <tr style=\"text-align: right;\">\n",
       "      <th></th>\n",
       "      <th>gene_name</th>\n",
       "      <th>tissue</th>\n",
       "      <th>n_tissues</th>\n",
       "    </tr>\n",
       "    <tr>\n",
       "      <th>gene_id</th>\n",
       "      <th></th>\n",
       "      <th></th>\n",
       "      <th></th>\n",
       "    </tr>\n",
       "  </thead>\n",
       "  <tbody>\n",
       "    <tr>\n",
       "      <th>ENSG00000000419</th>\n",
       "      <td>DPM1</td>\n",
       "      <td>(Brain_Substantia_nigra, Brain_Hypothalamus)</td>\n",
       "      <td>2</td>\n",
       "    </tr>\n",
       "    <tr>\n",
       "      <th>ENSG00000000938</th>\n",
       "      <td>FGR</td>\n",
       "      <td>(Brain_Cerebellum, Colon_Sigmoid, Brain_Hippoc...</td>\n",
       "      <td>26</td>\n",
       "    </tr>\n",
       "    <tr>\n",
       "      <th>ENSG00000000971</th>\n",
       "      <td>CFH</td>\n",
       "      <td>(Brain_Cerebellum, Heart_Atrial_Appendage, Ski...</td>\n",
       "      <td>34</td>\n",
       "    </tr>\n",
       "    <tr>\n",
       "      <th>ENSG00000001084</th>\n",
       "      <td>GCLC</td>\n",
       "      <td>(Brain_Cerebellum, Heart_Atrial_Appendage, Bra...</td>\n",
       "      <td>32</td>\n",
       "    </tr>\n",
       "    <tr>\n",
       "      <th>ENSG00000001167</th>\n",
       "      <td>NFYA</td>\n",
       "      <td>(Brain_Cerebellum, Heart_Atrial_Appendage, Ski...</td>\n",
       "      <td>40</td>\n",
       "    </tr>\n",
       "  </tbody>\n",
       "</table>\n",
       "</div>"
      ],
      "text/plain": [
       "                gene_name                                             tissue  \\\n",
       "gene_id                                                                        \n",
       "ENSG00000000419      DPM1       (Brain_Substantia_nigra, Brain_Hypothalamus)   \n",
       "ENSG00000000938       FGR  (Brain_Cerebellum, Colon_Sigmoid, Brain_Hippoc...   \n",
       "ENSG00000000971       CFH  (Brain_Cerebellum, Heart_Atrial_Appendage, Ski...   \n",
       "ENSG00000001084      GCLC  (Brain_Cerebellum, Heart_Atrial_Appendage, Bra...   \n",
       "ENSG00000001167      NFYA  (Brain_Cerebellum, Heart_Atrial_Appendage, Ski...   \n",
       "\n",
       "                 n_tissues  \n",
       "gene_id                     \n",
       "ENSG00000000419          2  \n",
       "ENSG00000000938         26  \n",
       "ENSG00000000971         34  \n",
       "ENSG00000001084         32  \n",
       "ENSG00000001167         40  "
      ]
     },
     "execution_count": 17,
     "metadata": {},
     "output_type": "execute_result"
    }
   ],
   "source": [
    "spredixcan_genes_models.head()"
   ]
  },
  {
   "cell_type": "code",
   "execution_count": 18,
   "id": "d1c11bb1-be0b-4f40-b360-633d6827109f",
   "metadata": {
    "execution": {
     "iopub.execute_input": "2022-08-30T16:51:42.585419Z",
     "iopub.status.busy": "2022-08-30T16:51:42.585225Z",
     "iopub.status.idle": "2022-08-30T16:51:42.601086Z",
     "shell.execute_reply": "2022-08-30T16:51:42.600524Z"
    },
    "papermill": {
     "duration": 0.03033,
     "end_time": "2022-08-30T16:51:42.602614",
     "exception": false,
     "start_time": "2022-08-30T16:51:42.572284",
     "status": "completed"
    },
    "tags": []
   },
   "outputs": [],
   "source": [
    "assert spredixcan_genes_models.index.is_unique"
   ]
  },
  {
   "cell_type": "markdown",
   "id": "a5b5092c-a13e-47c4-a92a-480fcc08f3ae",
   "metadata": {
    "papermill": {
     "duration": 0.011593,
     "end_time": "2022-08-30T16:51:42.624044",
     "exception": false,
     "start_time": "2022-08-30T16:51:42.612451",
     "status": "completed"
    },
    "tags": []
   },
   "source": [
    "## Gene info"
   ]
  },
  {
   "cell_type": "code",
   "execution_count": 19,
   "id": "7d6bb224-88e9-4358-ac10-43a41d92cdad",
   "metadata": {
    "execution": {
     "iopub.execute_input": "2022-08-30T16:51:42.650753Z",
     "iopub.status.busy": "2022-08-30T16:51:42.650560Z",
     "iopub.status.idle": "2022-08-30T16:51:42.670726Z",
     "shell.execute_reply": "2022-08-30T16:51:42.670117Z"
    },
    "papermill": {
     "duration": 0.035297,
     "end_time": "2022-08-30T16:51:42.672282",
     "exception": false,
     "start_time": "2022-08-30T16:51:42.636985",
     "status": "completed"
    },
    "tags": []
   },
   "outputs": [],
   "source": [
    "genes_info = pd.read_pickle(OUTPUT_DIR_BASE / \"genes_info.pkl\")"
   ]
  },
  {
   "cell_type": "code",
   "execution_count": 20,
   "id": "9e32abfa-546d-483e-8c18-d526e9e05903",
   "metadata": {
    "execution": {
     "iopub.execute_input": "2022-08-30T16:51:42.694698Z",
     "iopub.status.busy": "2022-08-30T16:51:42.694505Z",
     "iopub.status.idle": "2022-08-30T16:51:42.711147Z",
     "shell.execute_reply": "2022-08-30T16:51:42.710495Z"
    },
    "papermill": {
     "duration": 0.030582,
     "end_time": "2022-08-30T16:51:42.712578",
     "exception": false,
     "start_time": "2022-08-30T16:51:42.681996",
     "status": "completed"
    },
    "tags": []
   },
   "outputs": [
    {
     "data": {
      "text/plain": [
       "(6425, 7)"
      ]
     },
     "execution_count": 20,
     "metadata": {},
     "output_type": "execute_result"
    }
   ],
   "source": [
    "genes_info.shape"
   ]
  },
  {
   "cell_type": "code",
   "execution_count": 21,
   "id": "d16c3e92-85ec-468a-9a56-e25a9774a1cb",
   "metadata": {
    "execution": {
     "iopub.execute_input": "2022-08-30T16:51:42.736394Z",
     "iopub.status.busy": "2022-08-30T16:51:42.736201Z",
     "iopub.status.idle": "2022-08-30T16:51:42.757292Z",
     "shell.execute_reply": "2022-08-30T16:51:42.756609Z"
    },
    "papermill": {
     "duration": 0.036182,
     "end_time": "2022-08-30T16:51:42.758833",
     "exception": false,
     "start_time": "2022-08-30T16:51:42.722651",
     "status": "completed"
    },
    "tags": []
   },
   "outputs": [
    {
     "data": {
      "text/html": [
       "<div>\n",
       "<style scoped>\n",
       "    .dataframe tbody tr th:only-of-type {\n",
       "        vertical-align: middle;\n",
       "    }\n",
       "\n",
       "    .dataframe tbody tr th {\n",
       "        vertical-align: top;\n",
       "    }\n",
       "\n",
       "    .dataframe thead th {\n",
       "        text-align: right;\n",
       "    }\n",
       "</style>\n",
       "<table border=\"1\" class=\"dataframe\">\n",
       "  <thead>\n",
       "    <tr style=\"text-align: right;\">\n",
       "      <th></th>\n",
       "      <th>name</th>\n",
       "      <th>id</th>\n",
       "      <th>chr</th>\n",
       "      <th>band</th>\n",
       "      <th>start_position</th>\n",
       "      <th>end_position</th>\n",
       "      <th>gene_length</th>\n",
       "    </tr>\n",
       "  </thead>\n",
       "  <tbody>\n",
       "    <tr>\n",
       "      <th>0</th>\n",
       "      <td>ADAMTS14</td>\n",
       "      <td>ENSG00000138316</td>\n",
       "      <td>10</td>\n",
       "      <td>10q22.1</td>\n",
       "      <td>70672506</td>\n",
       "      <td>70762441</td>\n",
       "      <td>89935</td>\n",
       "    </tr>\n",
       "    <tr>\n",
       "      <th>1</th>\n",
       "      <td>TXN</td>\n",
       "      <td>ENSG00000136810</td>\n",
       "      <td>9</td>\n",
       "      <td>9q31.3</td>\n",
       "      <td>110243810</td>\n",
       "      <td>110256507</td>\n",
       "      <td>12697</td>\n",
       "    </tr>\n",
       "    <tr>\n",
       "      <th>2</th>\n",
       "      <td>RMI1</td>\n",
       "      <td>ENSG00000178966</td>\n",
       "      <td>9</td>\n",
       "      <td>9q21.32</td>\n",
       "      <td>83980711</td>\n",
       "      <td>84004074</td>\n",
       "      <td>23363</td>\n",
       "    </tr>\n",
       "    <tr>\n",
       "      <th>3</th>\n",
       "      <td>DHX58</td>\n",
       "      <td>ENSG00000108771</td>\n",
       "      <td>17</td>\n",
       "      <td>17q21.2</td>\n",
       "      <td>42101404</td>\n",
       "      <td>42112714</td>\n",
       "      <td>11310</td>\n",
       "    </tr>\n",
       "    <tr>\n",
       "      <th>4</th>\n",
       "      <td>XRCC4</td>\n",
       "      <td>ENSG00000152422</td>\n",
       "      <td>5</td>\n",
       "      <td>5q14.2</td>\n",
       "      <td>83077498</td>\n",
       "      <td>83353787</td>\n",
       "      <td>276289</td>\n",
       "    </tr>\n",
       "  </tbody>\n",
       "</table>\n",
       "</div>"
      ],
      "text/plain": [
       "       name               id  chr     band  start_position  end_position  \\\n",
       "0  ADAMTS14  ENSG00000138316   10  10q22.1        70672506      70762441   \n",
       "1       TXN  ENSG00000136810    9   9q31.3       110243810     110256507   \n",
       "2      RMI1  ENSG00000178966    9  9q21.32        83980711      84004074   \n",
       "3     DHX58  ENSG00000108771   17  17q21.2        42101404      42112714   \n",
       "4     XRCC4  ENSG00000152422    5   5q14.2        83077498      83353787   \n",
       "\n",
       "   gene_length  \n",
       "0        89935  \n",
       "1        12697  \n",
       "2        23363  \n",
       "3        11310  \n",
       "4       276289  "
      ]
     },
     "execution_count": 21,
     "metadata": {},
     "output_type": "execute_result"
    }
   ],
   "source": [
    "genes_info.head()"
   ]
  },
  {
   "cell_type": "markdown",
   "id": "d3843e06",
   "metadata": {
    "papermill": {
     "duration": 0.011447,
     "end_time": "2022-08-30T16:51:42.781049",
     "exception": false,
     "start_time": "2022-08-30T16:51:42.769602",
     "status": "completed"
    },
    "tags": []
   },
   "source": [
    "# Compute correlations"
   ]
  },
  {
   "cell_type": "code",
   "execution_count": 22,
   "id": "cb859c15-d1f3-4006-a74c-2b83c0db9611",
   "metadata": {
    "execution": {
     "iopub.execute_input": "2022-08-30T16:51:42.803892Z",
     "iopub.status.busy": "2022-08-30T16:51:42.803700Z",
     "iopub.status.idle": "2022-08-30T16:51:42.821392Z",
     "shell.execute_reply": "2022-08-30T16:51:42.820857Z"
    },
    "papermill": {
     "duration": 0.031237,
     "end_time": "2022-08-30T16:51:42.822822",
     "exception": false,
     "start_time": "2022-08-30T16:51:42.791585",
     "status": "completed"
    },
    "tags": []
   },
   "outputs": [
    {
     "data": {
      "text/plain": [
       "PosixPath('/project/ritchie20/projects/phenoplier/base/results/gls/gene_corrs/cohorts/emerge/gtex_v8/mashr/by_chr/gene_corrs-chr15.pkl')"
      ]
     },
     "metadata": {},
     "output_type": "display_data"
    }
   ],
   "source": [
    "output_dir = OUTPUT_DIR_BASE / \"by_chr\"\n",
    "output_dir.mkdir(exist_ok=True, parents=True)\n",
    "output_file = output_dir / f\"gene_corrs-chr{CHROMOSOME}.pkl\"\n",
    "display(output_file)"
   ]
  },
  {
   "cell_type": "code",
   "execution_count": 23,
   "id": "aa674fe4-6794-4eed-98fa-32b39d1d4ace",
   "metadata": {
    "execution": {
     "iopub.execute_input": "2022-08-30T16:51:42.847876Z",
     "iopub.status.busy": "2022-08-30T16:51:42.847684Z",
     "iopub.status.idle": "2022-08-30T16:51:42.862801Z",
     "shell.execute_reply": "2022-08-30T16:51:42.862167Z"
    },
    "papermill": {
     "duration": 0.028058,
     "end_time": "2022-08-30T16:51:42.864334",
     "exception": false,
     "start_time": "2022-08-30T16:51:42.836276",
     "status": "completed"
    },
    "tags": []
   },
   "outputs": [],
   "source": [
    "warnings.filterwarnings(\"error\")"
   ]
  },
  {
   "cell_type": "code",
   "execution_count": 24,
   "id": "44d5450b-3baf-43f1-9e2e-4b06f1a785f8",
   "metadata": {
    "execution": {
     "iopub.execute_input": "2022-08-30T16:51:42.889101Z",
     "iopub.status.busy": "2022-08-30T16:51:42.888900Z",
     "iopub.status.idle": "2022-08-30T16:51:42.904824Z",
     "shell.execute_reply": "2022-08-30T16:51:42.904063Z"
    },
    "papermill": {
     "duration": 0.031106,
     "end_time": "2022-08-30T16:51:42.906372",
     "exception": false,
     "start_time": "2022-08-30T16:51:42.875266",
     "status": "completed"
    },
    "tags": []
   },
   "outputs": [],
   "source": [
    "# standard checks\n",
    "all_chrs = genes_info[\"chr\"].dropna().unique()\n",
    "assert all_chrs.shape[0] == 22\n",
    "\n",
    "# select chromosome given by the user\n",
    "assert CHROMOSOME in all_chrs"
   ]
  },
  {
   "cell_type": "code",
   "execution_count": 25,
   "id": "2d7c043c-92a7-4d35-991b-fa69ac1e0268",
   "metadata": {
    "execution": {
     "iopub.execute_input": "2022-08-30T16:51:42.929148Z",
     "iopub.status.busy": "2022-08-30T16:51:42.928947Z",
     "iopub.status.idle": "2022-08-30T16:51:42.958978Z",
     "shell.execute_reply": "2022-08-30T16:51:42.958429Z"
    },
    "papermill": {
     "duration": 0.042489,
     "end_time": "2022-08-30T16:51:42.960622",
     "exception": false,
     "start_time": "2022-08-30T16:51:42.918133",
     "status": "completed"
    },
    "tags": []
   },
   "outputs": [
    {
     "name": "stdout",
     "output_type": "stream",
     "text": [
      "Number of genes in chromosome: 185\n"
     ]
    }
   ],
   "source": [
    "# run only on the chromosome specified\n",
    "all_chrs = [CHROMOSOME]\n",
    "genes_chr = genes_info[genes_info[\"chr\"] == CHROMOSOME]\n",
    "\n",
    "# For testing purposes\n",
    "# genes_chr = genes_chr.sample(n=20)\n",
    "\n",
    "print(f\"Number of genes in chromosome: {genes_chr.shape[0]}\", flush=True)"
   ]
  },
  {
   "cell_type": "code",
   "execution_count": 26,
   "id": "916015d8-2979-46d3-a9b9-1cf5a0932c6a",
   "metadata": {
    "execution": {
     "iopub.execute_input": "2022-08-30T16:51:42.987270Z",
     "iopub.status.busy": "2022-08-30T16:51:42.987078Z",
     "iopub.status.idle": "2022-08-30T16:51:43.002741Z",
     "shell.execute_reply": "2022-08-30T16:51:43.001962Z"
    },
    "papermill": {
     "duration": 0.03084,
     "end_time": "2022-08-30T16:51:43.004291",
     "exception": false,
     "start_time": "2022-08-30T16:51:42.973451",
     "status": "completed"
    },
    "tags": []
   },
   "outputs": [],
   "source": [
    "# sort genes by starting position to make visualizations better later\n",
    "genes_chr = genes_chr.sort_values(\"start_position\")"
   ]
  },
  {
   "cell_type": "code",
   "execution_count": 27,
   "id": "a38aa74a-8ad3-47f6-8ef9-56be0e011774",
   "metadata": {
    "execution": {
     "iopub.execute_input": "2022-08-30T16:51:43.027955Z",
     "iopub.status.busy": "2022-08-30T16:51:43.027755Z",
     "iopub.status.idle": "2022-08-30T16:51:43.043457Z",
     "shell.execute_reply": "2022-08-30T16:51:43.042794Z"
    },
    "papermill": {
     "duration": 0.029108,
     "end_time": "2022-08-30T16:51:43.045002",
     "exception": false,
     "start_time": "2022-08-30T16:51:43.015894",
     "status": "completed"
    },
    "tags": []
   },
   "outputs": [],
   "source": [
    "gene_chr_objs = [Gene(ensembl_id=gene_id) for gene_id in genes_chr[\"id\"]]"
   ]
  },
  {
   "cell_type": "code",
   "execution_count": 28,
   "id": "570f974f-13c3-42b6-ad3a-ce99ca885c1a",
   "metadata": {
    "execution": {
     "iopub.execute_input": "2022-08-30T16:51:43.070714Z",
     "iopub.status.busy": "2022-08-30T16:51:43.070522Z",
     "iopub.status.idle": "2022-08-30T16:51:43.087291Z",
     "shell.execute_reply": "2022-08-30T16:51:43.086627Z"
    },
    "papermill": {
     "duration": 0.030094,
     "end_time": "2022-08-30T16:51:43.088829",
     "exception": false,
     "start_time": "2022-08-30T16:51:43.058735",
     "status": "completed"
    },
    "tags": []
   },
   "outputs": [
    {
     "name": "stdout",
     "output_type": "stream",
     "text": [
      "Number of gene combinations: 17205\n"
     ]
    }
   ],
   "source": [
    "n = len(gene_chr_objs)\n",
    "# diagonal elements + upper triangular matrix\n",
    "n_comb = n + int(n * (n - 1) / 2.0)\n",
    "print(f\"Number of gene combinations: {n_comb}\", flush=True)"
   ]
  },
  {
   "cell_type": "code",
   "execution_count": 29,
   "id": "cdbb90a1",
   "metadata": {
    "execution": {
     "iopub.execute_input": "2022-08-30T16:51:43.113538Z",
     "iopub.status.busy": "2022-08-30T16:51:43.113345Z",
     "iopub.status.idle": "2022-08-30T17:16:47.068388Z",
     "shell.execute_reply": "2022-08-30T17:16:47.067517Z"
    },
    "papermill": {
     "duration": 1503.97127,
     "end_time": "2022-08-30T17:16:47.070980",
     "exception": false,
     "start_time": "2022-08-30T16:51:43.099710",
     "status": "completed"
    },
    "tags": []
   },
   "outputs": [
    {
     "name": "stderr",
     "output_type": "stream",
     "text": [
      "ENSG00000185418 / ENSG00000185418: 100%|██████████████████████| 17205/17205 [25:03<00:00, 11.44it/s]\n"
     ]
    },
    {
     "data": {
      "text/plain": [
       "PosixPath('/project/ritchie20/projects/phenoplier/base/results/gls/gene_corrs/cohorts/emerge/gtex_v8/mashr/by_chr/gene_corrs-chr15.pkl')"
      ]
     },
     "metadata": {},
     "output_type": "display_data"
    }
   ],
   "source": [
    "gene_corrs = []\n",
    "gene_corrs_data = np.full(\n",
    "    (n, n),\n",
    "    np.nan,\n",
    "    dtype=np.float64,\n",
    ")\n",
    "\n",
    "i = 0\n",
    "with tqdm(ncols=100, total=n_comb) as pbar:\n",
    "    for gene1_idx in range(0, len(gene_chr_objs)):\n",
    "        gene1_obj = gene_chr_objs[gene1_idx]\n",
    "        gene1_tissues = spredixcan_genes_models.loc[gene1_obj.ensembl_id, \"tissue\"]\n",
    "\n",
    "        for gene2_idx in range(gene1_idx, len(gene_chr_objs)):\n",
    "            gene2_obj = gene_chr_objs[gene2_idx]\n",
    "            gene2_tissues = spredixcan_genes_models.loc[gene2_obj.ensembl_id, \"tissue\"]\n",
    "\n",
    "            pbar.set_description(f\"{gene1_obj.ensembl_id} / {gene2_obj.ensembl_id}\")\n",
    "\n",
    "            try:\n",
    "                r = gene1_obj.get_ssm_correlation(\n",
    "                    other_gene=gene2_obj,\n",
    "                    tissues=gene1_tissues,\n",
    "                    other_tissues=gene2_tissues,\n",
    "                    snps_subset=gwas_variants_ids_set,\n",
    "                    condition_number=SMULTIXCAN_CONDITION_NUMBER,\n",
    "                    reference_panel=REFERENCE_PANEL,\n",
    "                    model_type=EQTL_MODEL,\n",
    "                    use_within_distance=COMPUTE_CORRELATIONS_WITHIN_DISTANCE,\n",
    "                )\n",
    "\n",
    "                if r is None:\n",
    "                    # if r is None, it's very likely because:\n",
    "                    #  * one of the genes has no prediction models\n",
    "                    #  * all the SNPs predictors for the gene are not present in the reference\n",
    "                    #    panel\n",
    "\n",
    "                    r = 0.0\n",
    "\n",
    "                gene_corrs.append(r)\n",
    "\n",
    "                gene_corrs_data[gene1_idx, gene2_idx] = r\n",
    "                gene_corrs_data[gene2_idx, gene1_idx] = r\n",
    "            except Warning as e:\n",
    "                if not DEBUG_MODE:\n",
    "                    raise e\n",
    "\n",
    "                print(\n",
    "                    f\"RuntimeWarning for genes {gene1_obj.ensembl_id} and {gene2_obj.ensembl_id}\",\n",
    "                    flush=True,\n",
    "                )\n",
    "                print(traceback.format_exc(), flush=True)\n",
    "\n",
    "                gene_corrs.append(np.nan)\n",
    "            except Exception as e:\n",
    "                if not DEBUG_MODE:\n",
    "                    raise e\n",
    "\n",
    "                print(\n",
    "                    f\"Exception for genes {gene1_obj.ensembl_id} and {gene2_obj.ensembl_id}\",\n",
    "                    flush=True,\n",
    "                )\n",
    "                print(traceback.format_exc(), flush=True)\n",
    "\n",
    "                gene_corrs.append(np.nan)\n",
    "\n",
    "            pbar.update(1)\n",
    "\n",
    "# create a pandas series\n",
    "gene_corrs_flat = pd.Series(gene_corrs)\n",
    "\n",
    "# save\n",
    "# FIXME: consider saving only the condenced matrix here. See here for\n",
    "# more details: https://github.com/greenelab/phenoplier/pull/38#discussion_r634600813\n",
    "# gene_corrs_data = squareform(np.array(gene_corrs, dtype=np.float64))\n",
    "# np.fill_diagonal(gene_corrs_data, 1.0)\n",
    "\n",
    "gene_chr_ids = [g.ensembl_id for g in gene_chr_objs]\n",
    "gene_corrs_df = pd.DataFrame(\n",
    "    data=gene_corrs_data,\n",
    "    index=gene_chr_ids,\n",
    "    columns=gene_chr_ids,\n",
    ")\n",
    "\n",
    "output_dir.mkdir(exist_ok=True, parents=True)\n",
    "display(output_file)\n",
    "\n",
    "gene_corrs_df.to_pickle(output_file)"
   ]
  },
  {
   "cell_type": "markdown",
   "id": "faa67b51-5373-470f-aa72-2ded53fa6dfe",
   "metadata": {
    "papermill": {
     "duration": 0.977324,
     "end_time": "2022-08-30T17:16:49.084309",
     "exception": false,
     "start_time": "2022-08-30T17:16:48.106985",
     "status": "completed"
    },
    "tags": []
   },
   "source": [
    "# Testing"
   ]
  },
  {
   "cell_type": "code",
   "execution_count": 30,
   "id": "14f7d046-4b55-4896-a56b-990127bcc388",
   "metadata": {
    "execution": {
     "iopub.execute_input": "2022-08-30T17:16:51.036897Z",
     "iopub.status.busy": "2022-08-30T17:16:51.036640Z",
     "iopub.status.idle": "2022-08-30T17:16:51.260306Z",
     "shell.execute_reply": "2022-08-30T17:16:51.259400Z"
    },
    "papermill": {
     "duration": 1.206381,
     "end_time": "2022-08-30T17:16:51.262603",
     "exception": false,
     "start_time": "2022-08-30T17:16:50.056222",
     "status": "completed"
    },
    "tags": []
   },
   "outputs": [
    {
     "data": {
      "text/plain": [
       "(185, 185)"
      ]
     },
     "execution_count": 30,
     "metadata": {},
     "output_type": "execute_result"
    }
   ],
   "source": [
    "gene_corrs_df.shape"
   ]
  },
  {
   "cell_type": "code",
   "execution_count": 31,
   "id": "c7d15414-3297-4537-a7c6-7588c0baeb75",
   "metadata": {
    "execution": {
     "iopub.execute_input": "2022-08-30T17:16:53.248815Z",
     "iopub.status.busy": "2022-08-30T17:16:53.248563Z",
     "iopub.status.idle": "2022-08-30T17:16:53.287502Z",
     "shell.execute_reply": "2022-08-30T17:16:53.287005Z"
    },
    "papermill": {
     "duration": 1.021071,
     "end_time": "2022-08-30T17:16:53.288940",
     "exception": false,
     "start_time": "2022-08-30T17:16:52.267869",
     "status": "completed"
    },
    "tags": []
   },
   "outputs": [
    {
     "data": {
      "text/html": [
       "<div>\n",
       "<style scoped>\n",
       "    .dataframe tbody tr th:only-of-type {\n",
       "        vertical-align: middle;\n",
       "    }\n",
       "\n",
       "    .dataframe tbody tr th {\n",
       "        vertical-align: top;\n",
       "    }\n",
       "\n",
       "    .dataframe thead th {\n",
       "        text-align: right;\n",
       "    }\n",
       "</style>\n",
       "<table border=\"1\" class=\"dataframe\">\n",
       "  <thead>\n",
       "    <tr style=\"text-align: right;\">\n",
       "      <th></th>\n",
       "      <th>ENSG00000182636</th>\n",
       "      <th>ENSG00000273173</th>\n",
       "      <th>ENSG00000114062</th>\n",
       "      <th>ENSG00000206190</th>\n",
       "      <th>ENSG00000128731</th>\n",
       "      <th>ENSG00000034053</th>\n",
       "      <th>ENSG00000198690</th>\n",
       "      <th>ENSG00000166912</th>\n",
       "      <th>ENSG00000198826</th>\n",
       "      <th>ENSG00000166922</th>\n",
       "      <th>...</th>\n",
       "      <th>ENSG00000182175</th>\n",
       "      <th>ENSG00000140450</th>\n",
       "      <th>ENSG00000140443</th>\n",
       "      <th>ENSG00000068305</th>\n",
       "      <th>ENSG00000183475</th>\n",
       "      <th>ENSG00000184254</th>\n",
       "      <th>ENSG00000131873</th>\n",
       "      <th>ENSG00000131876</th>\n",
       "      <th>ENSG00000140479</th>\n",
       "      <th>ENSG00000185418</th>\n",
       "    </tr>\n",
       "  </thead>\n",
       "  <tbody>\n",
       "    <tr>\n",
       "      <th>ENSG00000182636</th>\n",
       "      <td>1.000000</td>\n",
       "      <td>0.006669</td>\n",
       "      <td>0.002515</td>\n",
       "      <td>0.006556</td>\n",
       "      <td>0.002706</td>\n",
       "      <td>0.007035</td>\n",
       "      <td>0.004190</td>\n",
       "      <td>0.002648</td>\n",
       "      <td>0.005120</td>\n",
       "      <td>0.009274</td>\n",
       "      <td>...</td>\n",
       "      <td>0.007120</td>\n",
       "      <td>0.003028</td>\n",
       "      <td>0.010384</td>\n",
       "      <td>0.005916</td>\n",
       "      <td>0.003896</td>\n",
       "      <td>0.008928</td>\n",
       "      <td>0.006864</td>\n",
       "      <td>0.001696</td>\n",
       "      <td>0.009626</td>\n",
       "      <td>0.006375</td>\n",
       "    </tr>\n",
       "    <tr>\n",
       "      <th>ENSG00000273173</th>\n",
       "      <td>0.006669</td>\n",
       "      <td>1.000000</td>\n",
       "      <td>0.003555</td>\n",
       "      <td>0.010707</td>\n",
       "      <td>0.001674</td>\n",
       "      <td>0.005661</td>\n",
       "      <td>0.008288</td>\n",
       "      <td>0.001972</td>\n",
       "      <td>0.001644</td>\n",
       "      <td>0.006915</td>\n",
       "      <td>...</td>\n",
       "      <td>0.006183</td>\n",
       "      <td>0.001526</td>\n",
       "      <td>0.005175</td>\n",
       "      <td>0.004713</td>\n",
       "      <td>0.004148</td>\n",
       "      <td>0.006153</td>\n",
       "      <td>0.004745</td>\n",
       "      <td>0.001569</td>\n",
       "      <td>0.012111</td>\n",
       "      <td>0.005871</td>\n",
       "    </tr>\n",
       "    <tr>\n",
       "      <th>ENSG00000114062</th>\n",
       "      <td>0.002515</td>\n",
       "      <td>0.003555</td>\n",
       "      <td>1.000000</td>\n",
       "      <td>0.006857</td>\n",
       "      <td>0.001057</td>\n",
       "      <td>0.002283</td>\n",
       "      <td>0.005018</td>\n",
       "      <td>0.005493</td>\n",
       "      <td>0.002994</td>\n",
       "      <td>0.006079</td>\n",
       "      <td>...</td>\n",
       "      <td>0.001941</td>\n",
       "      <td>0.003827</td>\n",
       "      <td>0.008193</td>\n",
       "      <td>0.007731</td>\n",
       "      <td>0.001945</td>\n",
       "      <td>0.007949</td>\n",
       "      <td>0.006237</td>\n",
       "      <td>0.001975</td>\n",
       "      <td>0.007276</td>\n",
       "      <td>0.005428</td>\n",
       "    </tr>\n",
       "    <tr>\n",
       "      <th>ENSG00000206190</th>\n",
       "      <td>0.006556</td>\n",
       "      <td>0.010707</td>\n",
       "      <td>0.006857</td>\n",
       "      <td>1.000000</td>\n",
       "      <td>0.005711</td>\n",
       "      <td>0.011061</td>\n",
       "      <td>0.017196</td>\n",
       "      <td>0.013212</td>\n",
       "      <td>0.004814</td>\n",
       "      <td>0.015289</td>\n",
       "      <td>...</td>\n",
       "      <td>0.013507</td>\n",
       "      <td>0.003785</td>\n",
       "      <td>0.013669</td>\n",
       "      <td>0.012124</td>\n",
       "      <td>0.007972</td>\n",
       "      <td>0.015150</td>\n",
       "      <td>0.010666</td>\n",
       "      <td>0.007159</td>\n",
       "      <td>0.018746</td>\n",
       "      <td>0.012144</td>\n",
       "    </tr>\n",
       "    <tr>\n",
       "      <th>ENSG00000128731</th>\n",
       "      <td>0.002706</td>\n",
       "      <td>0.001674</td>\n",
       "      <td>0.001057</td>\n",
       "      <td>0.005711</td>\n",
       "      <td>1.000000</td>\n",
       "      <td>0.008331</td>\n",
       "      <td>0.004361</td>\n",
       "      <td>0.002145</td>\n",
       "      <td>0.002852</td>\n",
       "      <td>0.004420</td>\n",
       "      <td>...</td>\n",
       "      <td>0.004977</td>\n",
       "      <td>0.002309</td>\n",
       "      <td>0.004026</td>\n",
       "      <td>0.003108</td>\n",
       "      <td>0.001865</td>\n",
       "      <td>0.003722</td>\n",
       "      <td>0.001436</td>\n",
       "      <td>0.001799</td>\n",
       "      <td>0.004940</td>\n",
       "      <td>0.002270</td>\n",
       "    </tr>\n",
       "  </tbody>\n",
       "</table>\n",
       "<p>5 rows × 185 columns</p>\n",
       "</div>"
      ],
      "text/plain": [
       "                 ENSG00000182636  ENSG00000273173  ENSG00000114062  \\\n",
       "ENSG00000182636         1.000000         0.006669         0.002515   \n",
       "ENSG00000273173         0.006669         1.000000         0.003555   \n",
       "ENSG00000114062         0.002515         0.003555         1.000000   \n",
       "ENSG00000206190         0.006556         0.010707         0.006857   \n",
       "ENSG00000128731         0.002706         0.001674         0.001057   \n",
       "\n",
       "                 ENSG00000206190  ENSG00000128731  ENSG00000034053  \\\n",
       "ENSG00000182636         0.006556         0.002706         0.007035   \n",
       "ENSG00000273173         0.010707         0.001674         0.005661   \n",
       "ENSG00000114062         0.006857         0.001057         0.002283   \n",
       "ENSG00000206190         1.000000         0.005711         0.011061   \n",
       "ENSG00000128731         0.005711         1.000000         0.008331   \n",
       "\n",
       "                 ENSG00000198690  ENSG00000166912  ENSG00000198826  \\\n",
       "ENSG00000182636         0.004190         0.002648         0.005120   \n",
       "ENSG00000273173         0.008288         0.001972         0.001644   \n",
       "ENSG00000114062         0.005018         0.005493         0.002994   \n",
       "ENSG00000206190         0.017196         0.013212         0.004814   \n",
       "ENSG00000128731         0.004361         0.002145         0.002852   \n",
       "\n",
       "                 ENSG00000166922  ...  ENSG00000182175  ENSG00000140450  \\\n",
       "ENSG00000182636         0.009274  ...         0.007120         0.003028   \n",
       "ENSG00000273173         0.006915  ...         0.006183         0.001526   \n",
       "ENSG00000114062         0.006079  ...         0.001941         0.003827   \n",
       "ENSG00000206190         0.015289  ...         0.013507         0.003785   \n",
       "ENSG00000128731         0.004420  ...         0.004977         0.002309   \n",
       "\n",
       "                 ENSG00000140443  ENSG00000068305  ENSG00000183475  \\\n",
       "ENSG00000182636         0.010384         0.005916         0.003896   \n",
       "ENSG00000273173         0.005175         0.004713         0.004148   \n",
       "ENSG00000114062         0.008193         0.007731         0.001945   \n",
       "ENSG00000206190         0.013669         0.012124         0.007972   \n",
       "ENSG00000128731         0.004026         0.003108         0.001865   \n",
       "\n",
       "                 ENSG00000184254  ENSG00000131873  ENSG00000131876  \\\n",
       "ENSG00000182636         0.008928         0.006864         0.001696   \n",
       "ENSG00000273173         0.006153         0.004745         0.001569   \n",
       "ENSG00000114062         0.007949         0.006237         0.001975   \n",
       "ENSG00000206190         0.015150         0.010666         0.007159   \n",
       "ENSG00000128731         0.003722         0.001436         0.001799   \n",
       "\n",
       "                 ENSG00000140479  ENSG00000185418  \n",
       "ENSG00000182636         0.009626         0.006375  \n",
       "ENSG00000273173         0.012111         0.005871  \n",
       "ENSG00000114062         0.007276         0.005428  \n",
       "ENSG00000206190         0.018746         0.012144  \n",
       "ENSG00000128731         0.004940         0.002270  \n",
       "\n",
       "[5 rows x 185 columns]"
      ]
     },
     "execution_count": 31,
     "metadata": {},
     "output_type": "execute_result"
    }
   ],
   "source": [
    "gene_corrs_df.head()"
   ]
  },
  {
   "cell_type": "markdown",
   "id": "dad6603f-01c6-41fb-a6f6-241051207dd8",
   "metadata": {
    "papermill": {
     "duration": 0.980173,
     "end_time": "2022-08-30T17:16:55.245220",
     "exception": false,
     "start_time": "2022-08-30T17:16:54.265047",
     "status": "completed"
    },
    "tags": []
   },
   "source": [
    "## Standard checks and stats"
   ]
  },
  {
   "cell_type": "code",
   "execution_count": 32,
   "id": "286686af-1b7b-4440-8453-6bdcbd8de19c",
   "metadata": {
    "execution": {
     "iopub.execute_input": "2022-08-30T17:16:57.209695Z",
     "iopub.status.busy": "2022-08-30T17:16:57.209441Z",
     "iopub.status.idle": "2022-08-30T17:16:57.228030Z",
     "shell.execute_reply": "2022-08-30T17:16:57.227398Z"
    },
    "papermill": {
     "duration": 1.003093,
     "end_time": "2022-08-30T17:16:57.229558",
     "exception": false,
     "start_time": "2022-08-30T17:16:56.226465",
     "status": "completed"
    },
    "tags": []
   },
   "outputs": [],
   "source": [
    "assert not gene_corrs_df.isna().any().any()"
   ]
  },
  {
   "cell_type": "code",
   "execution_count": 33,
   "id": "00583efc-7068-4270-ad1e-4a418e91db96",
   "metadata": {
    "execution": {
     "iopub.execute_input": "2022-08-30T17:16:59.216051Z",
     "iopub.status.busy": "2022-08-30T17:16:59.215791Z",
     "iopub.status.idle": "2022-08-30T17:16:59.238280Z",
     "shell.execute_reply": "2022-08-30T17:16:59.237499Z"
    },
    "papermill": {
     "duration": 1.002177,
     "end_time": "2022-08-30T17:16:59.239831",
     "exception": false,
     "start_time": "2022-08-30T17:16:58.237654",
     "status": "completed"
    },
    "tags": []
   },
   "outputs": [
    {
     "data": {
      "text/plain": [
       "2.969098467658243e-06"
      ]
     },
     "metadata": {},
     "output_type": "display_data"
    }
   ],
   "source": [
    "_min_val = gene_corrs_df.min().min()\n",
    "display(_min_val)\n",
    "assert _min_val >= -0.05"
   ]
  },
  {
   "cell_type": "code",
   "execution_count": 34,
   "id": "d04fb2cf-1050-475b-b855-f5f7cc04092b",
   "metadata": {
    "execution": {
     "iopub.execute_input": "2022-08-30T17:17:01.200130Z",
     "iopub.status.busy": "2022-08-30T17:17:01.199866Z",
     "iopub.status.idle": "2022-08-30T17:17:01.220446Z",
     "shell.execute_reply": "2022-08-30T17:17:01.219940Z"
    },
    "papermill": {
     "duration": 1.007324,
     "end_time": "2022-08-30T17:17:01.221985",
     "exception": false,
     "start_time": "2022-08-30T17:17:00.214661",
     "status": "completed"
    },
    "tags": []
   },
   "outputs": [
    {
     "data": {
      "text/plain": [
       "1.0000000000000029"
      ]
     },
     "metadata": {},
     "output_type": "display_data"
    }
   ],
   "source": [
    "_max_val = gene_corrs_df.max().max()  # this captures the diagonal\n",
    "display(_max_val)\n",
    "assert _max_val <= 1.05"
   ]
  },
  {
   "cell_type": "code",
   "execution_count": 35,
   "id": "96d02c44-1fba-47be-8a93-8f2608420b9c",
   "metadata": {
    "execution": {
     "iopub.execute_input": "2022-08-30T17:17:03.210456Z",
     "iopub.status.busy": "2022-08-30T17:17:03.210188Z",
     "iopub.status.idle": "2022-08-30T17:17:03.228156Z",
     "shell.execute_reply": "2022-08-30T17:17:03.227651Z"
    },
    "papermill": {
     "duration": 1.027158,
     "end_time": "2022-08-30T17:17:03.229694",
     "exception": false,
     "start_time": "2022-08-30T17:17:02.202536",
     "status": "completed"
    },
    "tags": []
   },
   "outputs": [],
   "source": [
    "# check upper triangular values\n",
    "# assert len(gene_corrs) == int(genes_chr.shape[0] * (genes_chr.shape[0] - 1) / 2)"
   ]
  },
  {
   "cell_type": "code",
   "execution_count": 36,
   "id": "fe283586-c348-40e0-8841-f6d97bfb021c",
   "metadata": {
    "execution": {
     "iopub.execute_input": "2022-08-30T17:17:05.182306Z",
     "iopub.status.busy": "2022-08-30T17:17:05.182052Z",
     "iopub.status.idle": "2022-08-30T17:17:05.205554Z",
     "shell.execute_reply": "2022-08-30T17:17:05.204800Z"
    },
    "papermill": {
     "duration": 1.003549,
     "end_time": "2022-08-30T17:17:05.207106",
     "exception": false,
     "start_time": "2022-08-30T17:17:04.203557",
     "status": "completed"
    },
    "tags": []
   },
   "outputs": [
    {
     "data": {
      "text/plain": [
       "count    17205.000000\n",
       "mean         0.020643\n",
       "std          0.109050\n",
       "min          0.000003\n",
       "25%          0.003835\n",
       "50%          0.005830\n",
       "75%          0.008327\n",
       "max          1.000000\n",
       "dtype: float64"
      ]
     },
     "execution_count": 36,
     "metadata": {},
     "output_type": "execute_result"
    }
   ],
   "source": [
    "gene_corrs_flat.describe()"
   ]
  },
  {
   "cell_type": "code",
   "execution_count": 37,
   "id": "b3815678-0f93-4b35-897b-a9d047a2aa78",
   "metadata": {
    "execution": {
     "iopub.execute_input": "2022-08-30T17:17:07.194015Z",
     "iopub.status.busy": "2022-08-30T17:17:07.193757Z",
     "iopub.status.idle": "2022-08-30T17:17:07.221064Z",
     "shell.execute_reply": "2022-08-30T17:17:07.220545Z"
    },
    "papermill": {
     "duration": 1.045571,
     "end_time": "2022-08-30T17:17:07.222520",
     "exception": false,
     "start_time": "2022-08-30T17:17:06.176949",
     "status": "completed"
    },
    "tags": []
   },
   "outputs": [
    {
     "data": {
      "text/plain": [
       "0.00    0.000003\n",
       "0.05    0.001569\n",
       "0.10    0.002300\n",
       "0.15    0.002869\n",
       "0.20    0.003375\n",
       "0.25    0.003835\n",
       "0.30    0.004251\n",
       "0.35    0.004653\n",
       "0.40    0.005050\n",
       "0.45    0.005432\n",
       "0.50    0.005830\n",
       "0.55    0.006253\n",
       "0.60    0.006723\n",
       "0.65    0.007212\n",
       "0.70    0.007751\n",
       "0.75    0.008327\n",
       "0.80    0.008974\n",
       "0.85    0.009874\n",
       "0.90    0.011148\n",
       "0.95    0.013745\n",
       "dtype: float64"
      ]
     },
     "metadata": {},
     "output_type": "display_data"
    }
   ],
   "source": [
    "gene_corrs_quantiles = gene_corrs_flat.quantile(np.arange(0, 1, 0.05))\n",
    "display(gene_corrs_quantiles)"
   ]
  },
  {
   "cell_type": "markdown",
   "id": "87134509-b145-4a10-8bc9-b7e914c2b0fa",
   "metadata": {
    "papermill": {
     "duration": 0.983329,
     "end_time": "2022-08-30T17:17:09.189666",
     "exception": false,
     "start_time": "2022-08-30T17:17:08.206337",
     "status": "completed"
    },
    "tags": []
   },
   "source": [
    "## Positive definiteness"
   ]
  },
  {
   "cell_type": "code",
   "execution_count": 38,
   "id": "07d9a9a1-a4f7-48aa-b916-6d42a8cc6186",
   "metadata": {
    "execution": {
     "iopub.execute_input": "2022-08-30T17:17:11.152441Z",
     "iopub.status.busy": "2022-08-30T17:17:11.152190Z",
     "iopub.status.idle": "2022-08-30T17:17:11.182114Z",
     "shell.execute_reply": "2022-08-30T17:17:11.181609Z"
    },
    "papermill": {
     "duration": 1.017512,
     "end_time": "2022-08-30T17:17:11.183552",
     "exception": false,
     "start_time": "2022-08-30T17:17:10.166040",
     "status": "completed"
    },
    "tags": []
   },
   "outputs": [
    {
     "data": {
      "text/plain": [
       "0"
      ]
     },
     "metadata": {},
     "output_type": "display_data"
    },
    {
     "data": {
      "text/plain": [
       "array([], dtype=float64)"
      ]
     },
     "metadata": {},
     "output_type": "display_data"
    }
   ],
   "source": [
    "# print negative eigenvalues\n",
    "eigs = np.linalg.eigvals(gene_corrs_df.to_numpy())\n",
    "display(len(eigs[eigs < 0]))\n",
    "display(eigs[eigs < 0])"
   ]
  },
  {
   "cell_type": "code",
   "execution_count": 39,
   "id": "6e218436-c3c5-4028-8c94-a4fa6260efce",
   "metadata": {
    "execution": {
     "iopub.execute_input": "2022-08-30T17:17:13.132834Z",
     "iopub.status.busy": "2022-08-30T17:17:13.132584Z",
     "iopub.status.idle": "2022-08-30T17:17:13.155876Z",
     "shell.execute_reply": "2022-08-30T17:17:13.155367Z"
    },
    "papermill": {
     "duration": 0.999375,
     "end_time": "2022-08-30T17:17:13.157328",
     "exception": false,
     "start_time": "2022-08-30T17:17:12.157953",
     "status": "completed"
    },
    "tags": []
   },
   "outputs": [
    {
     "name": "stdout",
     "output_type": "stream",
     "text": [
      "Works!\n"
     ]
    }
   ],
   "source": [
    "try:\n",
    "    chol_mat = np.linalg.cholesky(gene_corrs_df.to_numpy())\n",
    "    cov_inv = np.linalg.inv(chol_mat)\n",
    "    print(\"Works!\")\n",
    "except Exception as e:\n",
    "    print(f\"Cholesky decomposition failed: {str(e)}\")"
   ]
  },
  {
   "cell_type": "code",
   "execution_count": 40,
   "id": "dd8827fb-faf9-4c7c-9454-015e94752706",
   "metadata": {
    "execution": {
     "iopub.execute_input": "2022-08-30T17:17:15.100854Z",
     "iopub.status.busy": "2022-08-30T17:17:15.100603Z",
     "iopub.status.idle": "2022-08-30T17:17:15.122213Z",
     "shell.execute_reply": "2022-08-30T17:17:15.121677Z"
    },
    "papermill": {
     "duration": 0.996573,
     "end_time": "2022-08-30T17:17:15.123651",
     "exception": false,
     "start_time": "2022-08-30T17:17:14.127078",
     "status": "completed"
    },
    "tags": []
   },
   "outputs": [
    {
     "name": "stdout",
     "output_type": "stream",
     "text": [
      "Works!\n"
     ]
    }
   ],
   "source": [
    "try:\n",
    "    # decomposition used by statsmodels.GLS\n",
    "    cholsigmainv = np.linalg.cholesky(np.linalg.inv(gene_corrs_df.to_numpy())).T\n",
    "    print(\"Works!\")\n",
    "except Exception as e:\n",
    "    print(f\"Cholesky decomposition failed (statsmodels.GLS): {str(e)}\")"
   ]
  },
  {
   "cell_type": "markdown",
   "id": "8e60a080-edb2-4e9c-b2ef-22961693200c",
   "metadata": {
    "papermill": {
     "duration": 0.982001,
     "end_time": "2022-08-30T17:17:17.119445",
     "exception": false,
     "start_time": "2022-08-30T17:17:16.137444",
     "status": "completed"
    },
    "tags": []
   },
   "source": [
    "## Plot: distribution"
   ]
  },
  {
   "cell_type": "code",
   "execution_count": 41,
   "id": "8301126b-a7d4-4744-9c7d-f0f86eb6f54c",
   "metadata": {
    "execution": {
     "iopub.execute_input": "2022-08-30T17:17:19.084522Z",
     "iopub.status.busy": "2022-08-30T17:17:19.084269Z",
     "iopub.status.idle": "2022-08-30T17:17:26.616081Z",
     "shell.execute_reply": "2022-08-30T17:17:26.615535Z"
    },
    "papermill": {
     "duration": 8.504362,
     "end_time": "2022-08-30T17:17:26.617703",
     "exception": false,
     "start_time": "2022-08-30T17:17:18.113341",
     "status": "completed"
    },
    "tags": []
   },
   "outputs": [
    {
     "data": {
      "image/png": "[encoded data removed]",
      "text/plain": [
       "<Figure size 504x504 with 1 Axes>"
      ]
     },
     "metadata": {
      "needs_background": "light"
     },
     "output_type": "display_data"
    }
   ],
   "source": [
    "with sns.plotting_context(\"paper\", font_scale=1.5):\n",
    "    g = sns.displot(gene_corrs_flat, kde=True, height=7)\n",
    "    g.ax.set_title(\n",
    "        f\"Distribution of gene correlation values in chromosome {CHROMOSOME}\"\n",
    "    )"
   ]
  },
  {
   "cell_type": "markdown",
   "id": "cbd52bca-d878-4a2f-b684-5c83aa3038d4",
   "metadata": {
    "papermill": {
     "duration": 0.972382,
     "end_time": "2022-08-30T17:17:28.563837",
     "exception": false,
     "start_time": "2022-08-30T17:17:27.591455",
     "status": "completed"
    },
    "tags": []
   },
   "source": [
    "## Plot: heatmap"
   ]
  },
  {
   "cell_type": "code",
   "execution_count": 42,
   "id": "d03fe63a-c7b2-4fb9-a53c-db362ce843c9",
   "metadata": {
    "execution": {
     "iopub.execute_input": "2022-08-30T17:17:30.505321Z",
     "iopub.status.busy": "2022-08-30T17:17:30.505064Z",
     "iopub.status.idle": "2022-08-30T17:17:30.528681Z",
     "shell.execute_reply": "2022-08-30T17:17:30.528166Z"
    },
    "papermill": {
     "duration": 0.995245,
     "end_time": "2022-08-30T17:17:30.530138",
     "exception": false,
     "start_time": "2022-08-30T17:17:29.534893",
     "status": "completed"
    },
    "tags": []
   },
   "outputs": [
    {
     "data": {
      "text/plain": [
       "'0.0 / 0.05'"
      ]
     },
     "metadata": {},
     "output_type": "display_data"
    }
   ],
   "source": [
    "vmin_val = min(0.00, gene_corrs_quantiles[0.10])\n",
    "vmax_val = max(0.05, gene_corrs_quantiles[0.90])\n",
    "display(f\"{vmin_val} / {vmax_val}\")"
   ]
  },
  {
   "cell_type": "code",
   "execution_count": 43,
   "id": "dc41b70b-5bcc-4d9e-9f33-a22c4a94dab5",
   "metadata": {
    "execution": {
     "iopub.execute_input": "2022-08-30T17:17:32.522515Z",
     "iopub.status.busy": "2022-08-30T17:17:32.522260Z",
     "iopub.status.idle": "2022-08-30T17:17:32.719756Z",
     "shell.execute_reply": "2022-08-30T17:17:32.719011Z"
    },
    "papermill": {
     "duration": 1.215892,
     "end_time": "2022-08-30T17:17:32.721365",
     "exception": false,
     "start_time": "2022-08-30T17:17:31.505473",
     "status": "completed"
    },
    "tags": []
   },
   "outputs": [
    {
     "data": {
      "text/plain": [
       "Text(0.5, 1.0, 'Gene correlations in chromosome 15')"
      ]
     },
     "execution_count": 43,
     "metadata": {},
     "output_type": "execute_result"
    },
    {
     "data": {
      "image/png": "[encoded data removed]",
      "text/plain": [
       "<Figure size 720x720 with 2 Axes>"
      ]
     },
     "metadata": {
      "needs_background": "light"
     },
     "output_type": "display_data"
    }
   ],
   "source": [
    "f, ax = plt.subplots(figsize=(10, 10))\n",
    "sns.heatmap(\n",
    "    gene_corrs_df,\n",
    "    xticklabels=False,\n",
    "    yticklabels=False,\n",
    "    square=True,\n",
    "    vmin=vmin_val,\n",
    "    vmax=vmax_val,\n",
    "    cmap=\"rocket_r\",\n",
    "    ax=ax,\n",
    ")\n",
    "ax.set_title(f\"Gene correlations in chromosome {CHROMOSOME}\")"
   ]
  },
  {
   "cell_type": "code",
   "execution_count": null,
   "id": "b25e3ead",
   "metadata": {
    "papermill": {
     "duration": 0.981539,
     "end_time": "2022-08-30T17:17:34.687274",
     "exception": false,
     "start_time": "2022-08-30T17:17:33.705735",
     "status": "completed"
    },
    "tags": []
   },
   "outputs": [],
   "source": []
  }
 ],
 "metadata": {
  "jupytext": {
   "cell_metadata_filter": "all,-execution,-papermill,-trusted",
   "formats": "ipynb,py//py:percent"
  },
  "kernelspec": {
   "display_name": "Python 3 (ipykernel)",
   "language": "python",
   "name": "python3"
  },
  "language_info": {
   "codemirror_mode": {
    "name": "ipython",
    "version": 3
   },
   "file_extension": ".py",
   "mimetype": "text/x-python",
   "name": "python",
   "nbconvert_exporter": "python",
   "pygments_lexer": "ipython3",
   "version": "3.8.13"
  },
  "papermill": {
   "default_parameters": {},
   "duration": 1565.873341,
   "end_time": "2022-08-30T17:17:38.777854",
   "environment_variables": {},
   "exception": null,
   "input_path": "nbs/15_gsa_gls/10-gene_expr_correlations.ipynb",
   "output_path": "nbs/15_gsa_gls/gene_corrs/cohorts/emerge/gtex_v8/mashr/10-gene_expr_corrs/10-gene_expr_correlations-chr15.run.ipynb",
   "parameters": {
    "CHROMOSOME": 15,
    "COHORT_NAME": "emerge",
    "EQTL_MODEL": "MASHR",
    "REFERENCE_PANEL": "GTEX_V8"
   },
   "start_time": "2022-08-30T16:51:32.904513",
   "version": "2.2.2"
  }
 },
 "nbformat": 4,
 "nbformat_minor": 5
}
