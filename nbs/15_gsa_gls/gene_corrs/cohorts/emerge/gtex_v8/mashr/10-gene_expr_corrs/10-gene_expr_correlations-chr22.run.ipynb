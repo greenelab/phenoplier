{
 "cells": [
  {
   "cell_type": "markdown",
   "id": "7a6632fb",
   "metadata": {
    "papermill": {
     "duration": 0.020244,
     "end_time": "2022-08-30T16:51:35.399379",
     "exception": false,
     "start_time": "2022-08-30T16:51:35.379135",
     "status": "completed"
    },
    "tags": []
   },
   "source": [
    "# Description"
   ]
  },
  {
   "cell_type": "markdown",
   "id": "7097c346",
   "metadata": {
    "papermill": {
     "duration": 0.014745,
     "end_time": "2022-08-30T16:51:35.430780",
     "exception": false,
     "start_time": "2022-08-30T16:51:35.416035",
     "status": "completed"
    },
    "tags": []
   },
   "source": [
    "(Please, take a look at the README.md file in this directory for instructions on how to run this notebook)\n",
    "\n",
    "This notebook computes predicted expression correlations between all genes in the MultiPLIER models.\n",
    "\n",
    "It also has a parameter set for papermill to run on a single chromosome to run in parallel (see under `Settings` below).\n",
    "\n",
    "This notebook is not directly run. See README.md."
   ]
  },
  {
   "cell_type": "markdown",
   "id": "c61d8427",
   "metadata": {
    "papermill": {
     "duration": 0.013312,
     "end_time": "2022-08-30T16:51:35.458290",
     "exception": false,
     "start_time": "2022-08-30T16:51:35.444978",
     "status": "completed"
    },
    "tags": []
   },
   "source": [
    "# Modules"
   ]
  },
  {
   "cell_type": "code",
   "execution_count": 1,
   "id": "bbc0234f",
   "metadata": {
    "execution": {
     "iopub.execute_input": "2022-08-30T16:51:35.486229Z",
     "iopub.status.busy": "2022-08-30T16:51:35.485876Z",
     "iopub.status.idle": "2022-08-30T16:51:35.511604Z",
     "shell.execute_reply": "2022-08-30T16:51:35.510827Z"
    },
    "papermill": {
     "duration": 0.042985,
     "end_time": "2022-08-30T16:51:35.514108",
     "exception": false,
     "start_time": "2022-08-30T16:51:35.471123",
     "status": "completed"
    },
    "tags": []
   },
   "outputs": [],
   "source": [
    "%load_ext autoreload\n",
    "%autoreload 2"
   ]
  },
  {
   "cell_type": "code",
   "execution_count": 2,
   "id": "1d5f5a59",
   "metadata": {
    "execution": {
     "iopub.execute_input": "2022-08-30T16:51:35.539368Z",
     "iopub.status.busy": "2022-08-30T16:51:35.539098Z",
     "iopub.status.idle": "2022-08-30T16:51:37.835527Z",
     "shell.execute_reply": "2022-08-30T16:51:37.834918Z"
    },
    "papermill": {
     "duration": 2.311262,
     "end_time": "2022-08-30T16:51:37.837517",
     "exception": false,
     "start_time": "2022-08-30T16:51:35.526255",
     "status": "completed"
    },
    "tags": []
   },
   "outputs": [],
   "source": [
    "from random import sample, seed\n",
    "import warnings\n",
    "from pathlib import Path\n",
    "import pickle\n",
    "import traceback\n",
    "\n",
    "import numpy as np\n",
    "from scipy.spatial.distance import squareform\n",
    "import pandas as pd\n",
    "from tqdm import tqdm\n",
    "import matplotlib.pyplot as plt\n",
    "import seaborn as sns\n",
    "\n",
    "import conf\n",
    "from entity import Gene"
   ]
  },
  {
   "cell_type": "markdown",
   "id": "1eac24b5",
   "metadata": {
    "papermill": {
     "duration": 0.033454,
     "end_time": "2022-08-30T16:51:37.880353",
     "exception": false,
     "start_time": "2022-08-30T16:51:37.846899",
     "status": "completed"
    },
    "tags": []
   },
   "source": [
    "# Settings"
   ]
  },
  {
   "cell_type": "code",
   "execution_count": 3,
   "id": "ca4560ba",
   "metadata": {
    "execution": {
     "iopub.execute_input": "2022-08-30T16:51:37.899447Z",
     "iopub.status.busy": "2022-08-30T16:51:37.899209Z",
     "iopub.status.idle": "2022-08-30T16:51:37.917783Z",
     "shell.execute_reply": "2022-08-30T16:51:37.917308Z"
    },
    "papermill": {
     "duration": 0.029996,
     "end_time": "2022-08-30T16:51:37.919312",
     "exception": false,
     "start_time": "2022-08-30T16:51:37.889316",
     "status": "completed"
    },
    "tags": [
     "parameters"
    ]
   },
   "outputs": [],
   "source": [
    "# a cohort name (it could be something like UK_BIOBANK, etc)\n",
    "COHORT_NAME = None\n",
    "\n",
    "# reference panel such as 1000G or GTEX_V8\n",
    "REFERENCE_PANEL = None\n",
    "\n",
    "# predictions models such as MASHR or ELASTIC_NET\n",
    "EQTL_MODEL = None\n",
    "\n",
    "# this is the default value used in S-MultiXcan to select the\n",
    "# top principal components of the expression correlation matrix\n",
    "SMULTIXCAN_CONDITION_NUMBER = 30\n",
    "\n",
    "# specifies a single chromosome value\n",
    "CHROMOSOME = None\n",
    "\n",
    "# If True, computes the correlation between closeby genes only;\n",
    "# otherwise, it computes correlations for all genes in a chromosome\n",
    "COMPUTE_CORRELATIONS_WITHIN_DISTANCE = False\n",
    "\n",
    "# if True, then it will continue if a gene pair correlation fails,\n",
    "# printing the warning/error for debugging. If False, any warning/error\n",
    "# will be thrown\n",
    "DEBUG_MODE = False"
   ]
  },
  {
   "cell_type": "code",
   "execution_count": 4,
   "id": "6ba4a2f0",
   "metadata": {
    "execution": {
     "iopub.execute_input": "2022-08-30T16:51:37.938128Z",
     "iopub.status.busy": "2022-08-30T16:51:37.937938Z",
     "iopub.status.idle": "2022-08-30T16:51:37.953619Z",
     "shell.execute_reply": "2022-08-30T16:51:37.952999Z"
    },
    "papermill": {
     "duration": 0.026481,
     "end_time": "2022-08-30T16:51:37.955131",
     "exception": false,
     "start_time": "2022-08-30T16:51:37.928650",
     "status": "completed"
    },
    "tags": [
     "injected-parameters"
    ]
   },
   "outputs": [],
   "source": [
    "# Parameters\n",
    "COHORT_NAME = \"emerge\"\n",
    "REFERENCE_PANEL = \"GTEX_V8\"\n",
    "EQTL_MODEL = \"MASHR\"\n",
    "CHROMOSOME = 22\n"
   ]
  },
  {
   "cell_type": "code",
   "execution_count": 5,
   "id": "3190631f-27fc-480f-b18e-571d580425a5",
   "metadata": {
    "execution": {
     "iopub.execute_input": "2022-08-30T16:51:37.972785Z",
     "iopub.status.busy": "2022-08-30T16:51:37.972596Z",
     "iopub.status.idle": "2022-08-30T16:51:37.992595Z",
     "shell.execute_reply": "2022-08-30T16:51:37.992005Z"
    },
    "papermill": {
     "duration": 0.030706,
     "end_time": "2022-08-30T16:51:37.994055",
     "exception": false,
     "start_time": "2022-08-30T16:51:37.963349",
     "status": "completed"
    },
    "tags": []
   },
   "outputs": [
    {
     "data": {
      "text/plain": [
       "'Cohort name: emerge'"
      ]
     },
     "metadata": {},
     "output_type": "display_data"
    }
   ],
   "source": [
    "assert COHORT_NAME is not None and len(COHORT_NAME) > 0, \"A cohort name must be given\"\n",
    "\n",
    "COHORT_NAME = COHORT_NAME.lower()\n",
    "display(f\"Cohort name: {COHORT_NAME}\")"
   ]
  },
  {
   "cell_type": "code",
   "execution_count": 6,
   "id": "f53ba19b-0f93-4fa2-a047-63b375939d1a",
   "metadata": {
    "execution": {
     "iopub.execute_input": "2022-08-30T16:51:38.014248Z",
     "iopub.status.busy": "2022-08-30T16:51:38.014036Z",
     "iopub.status.idle": "2022-08-30T16:51:38.031559Z",
     "shell.execute_reply": "2022-08-30T16:51:38.030933Z"
    },
    "papermill": {
     "duration": 0.030178,
     "end_time": "2022-08-30T16:51:38.033154",
     "exception": false,
     "start_time": "2022-08-30T16:51:38.002976",
     "status": "completed"
    },
    "tags": []
   },
   "outputs": [
    {
     "data": {
      "text/plain": [
       "'Reference panel: GTEX_V8'"
      ]
     },
     "metadata": {},
     "output_type": "display_data"
    }
   ],
   "source": [
    "assert (\n",
    "    REFERENCE_PANEL is not None and len(REFERENCE_PANEL) > 0\n",
    "), \"A reference panel must be given\"\n",
    "\n",
    "display(f\"Reference panel: {REFERENCE_PANEL}\")"
   ]
  },
  {
   "cell_type": "code",
   "execution_count": 7,
   "id": "e024d130-c139-429a-9c6e-ccf149e297b0",
   "metadata": {
    "execution": {
     "iopub.execute_input": "2022-08-30T16:51:38.054289Z",
     "iopub.status.busy": "2022-08-30T16:51:38.054099Z",
     "iopub.status.idle": "2022-08-30T16:51:38.071692Z",
     "shell.execute_reply": "2022-08-30T16:51:38.071031Z"
    },
    "papermill": {
     "duration": 0.030058,
     "end_time": "2022-08-30T16:51:38.073203",
     "exception": false,
     "start_time": "2022-08-30T16:51:38.043145",
     "status": "completed"
    },
    "tags": []
   },
   "outputs": [
    {
     "data": {
      "text/plain": [
       "'eQTL model: MASHR) / mashr_'"
      ]
     },
     "metadata": {},
     "output_type": "display_data"
    }
   ],
   "source": [
    "assert (\n",
    "    EQTL_MODEL is not None and len(EQTL_MODEL) > 0\n",
    "), \"A prediction/eQTL model must be given\"\n",
    "\n",
    "EQTL_MODEL_FILES_PREFIX = conf.PHENOMEXCAN[\"PREDICTION_MODELS\"][f\"{EQTL_MODEL}_PREFIX\"]\n",
    "display(f\"eQTL model: {EQTL_MODEL}) / {EQTL_MODEL_FILES_PREFIX}\")"
   ]
  },
  {
   "cell_type": "code",
   "execution_count": 8,
   "id": "552a7f63-a18c-4d3e-bb6a-94f99b431291",
   "metadata": {
    "execution": {
     "iopub.execute_input": "2022-08-30T16:51:38.091677Z",
     "iopub.status.busy": "2022-08-30T16:51:38.091490Z",
     "iopub.status.idle": "2022-08-30T16:51:38.108918Z",
     "shell.execute_reply": "2022-08-30T16:51:38.108203Z"
    },
    "papermill": {
     "duration": 0.02878,
     "end_time": "2022-08-30T16:51:38.110419",
     "exception": false,
     "start_time": "2022-08-30T16:51:38.081639",
     "status": "completed"
    },
    "tags": []
   },
   "outputs": [
    {
     "data": {
      "text/plain": [
       "'S-MultiXcan condition number: 30'"
      ]
     },
     "metadata": {},
     "output_type": "display_data"
    }
   ],
   "source": [
    "assert (\n",
    "    SMULTIXCAN_CONDITION_NUMBER is not None and SMULTIXCAN_CONDITION_NUMBER > 0\n",
    "), \"The S-MultiXcan condition number (positive integer) must be given\"\n",
    "\n",
    "display(f\"S-MultiXcan condition number: {SMULTIXCAN_CONDITION_NUMBER}\")"
   ]
  },
  {
   "cell_type": "code",
   "execution_count": 9,
   "id": "f34a336f-548e-4afe-8955-90eaea4f42c6",
   "metadata": {
    "execution": {
     "iopub.execute_input": "2022-08-30T16:51:38.131978Z",
     "iopub.status.busy": "2022-08-30T16:51:38.131760Z",
     "iopub.status.idle": "2022-08-30T16:51:38.149701Z",
     "shell.execute_reply": "2022-08-30T16:51:38.149037Z"
    },
    "papermill": {
     "duration": 0.030896,
     "end_time": "2022-08-30T16:51:38.151350",
     "exception": false,
     "start_time": "2022-08-30T16:51:38.120454",
     "status": "completed"
    },
    "tags": []
   },
   "outputs": [
    {
     "data": {
      "text/plain": [
       "'Working on chromosome 22'"
      ]
     },
     "metadata": {},
     "output_type": "display_data"
    }
   ],
   "source": [
    "assert CHROMOSOME is not None and (\n",
    "    1 <= CHROMOSOME <= 22\n",
    "), \"You have to select one chromosome (format: number between 1 and 22)\"\n",
    "\n",
    "# CHROMOSOME = str(CHROMOSOME)\n",
    "display(f\"Working on chromosome {CHROMOSOME}\")"
   ]
  },
  {
   "cell_type": "code",
   "execution_count": 10,
   "id": "ab8e96e8-06b5-4363-9dcd-dc4d78cc27f7",
   "metadata": {
    "execution": {
     "iopub.execute_input": "2022-08-30T16:51:38.171647Z",
     "iopub.status.busy": "2022-08-30T16:51:38.171459Z",
     "iopub.status.idle": "2022-08-30T16:51:38.188684Z",
     "shell.execute_reply": "2022-08-30T16:51:38.188071Z"
    },
    "papermill": {
     "duration": 0.028718,
     "end_time": "2022-08-30T16:51:38.190196",
     "exception": false,
     "start_time": "2022-08-30T16:51:38.161478",
     "status": "completed"
    },
    "tags": []
   },
   "outputs": [
    {
     "data": {
      "text/plain": [
       "'Compute correlation within distance False'"
      ]
     },
     "metadata": {},
     "output_type": "display_data"
    }
   ],
   "source": [
    "display(f\"Compute correlation within distance {COMPUTE_CORRELATIONS_WITHIN_DISTANCE}\")"
   ]
  },
  {
   "cell_type": "code",
   "execution_count": 11,
   "id": "396392dc-0340-4540-9b02-e182b833f909",
   "metadata": {
    "execution": {
     "iopub.execute_input": "2022-08-30T16:51:38.209729Z",
     "iopub.status.busy": "2022-08-30T16:51:38.209531Z",
     "iopub.status.idle": "2022-08-30T16:51:38.229879Z",
     "shell.execute_reply": "2022-08-30T16:51:38.229382Z"
    },
    "papermill": {
     "duration": 0.031706,
     "end_time": "2022-08-30T16:51:38.231384",
     "exception": false,
     "start_time": "2022-08-30T16:51:38.199678",
     "status": "completed"
    },
    "tags": []
   },
   "outputs": [
    {
     "data": {
      "text/plain": [
       "'Using output dir base: /project/ritchie20/projects/phenoplier/base/results/gls/gene_corrs/cohorts/emerge/gtex_v8/mashr'"
      ]
     },
     "metadata": {},
     "output_type": "display_data"
    }
   ],
   "source": [
    "OUTPUT_DIR_BASE = (\n",
    "    conf.RESULTS[\"GLS\"]\n",
    "    / \"gene_corrs\"\n",
    "    / \"cohorts\"\n",
    "    / COHORT_NAME\n",
    "    / REFERENCE_PANEL.lower()\n",
    "    / EQTL_MODEL.lower()\n",
    ")\n",
    "OUTPUT_DIR_BASE.mkdir(parents=True, exist_ok=True)\n",
    "\n",
    "display(f\"Using output dir base: {OUTPUT_DIR_BASE}\")"
   ]
  },
  {
   "cell_type": "markdown",
   "id": "d2ba085e",
   "metadata": {
    "papermill": {
     "duration": 0.009005,
     "end_time": "2022-08-30T16:51:38.249871",
     "exception": false,
     "start_time": "2022-08-30T16:51:38.240866",
     "status": "completed"
    },
    "tags": []
   },
   "source": [
    "# Load data"
   ]
  },
  {
   "cell_type": "markdown",
   "id": "7dcb8db7",
   "metadata": {
    "papermill": {
     "duration": 0.01078,
     "end_time": "2022-08-30T16:51:38.270493",
     "exception": false,
     "start_time": "2022-08-30T16:51:38.259713",
     "status": "completed"
    },
    "tags": []
   },
   "source": [
    "## GWAS variants"
   ]
  },
  {
   "cell_type": "code",
   "execution_count": 12,
   "id": "29434c4e-8cd3-4b9b-82e4-b5a251d9dd19",
   "metadata": {
    "execution": {
     "iopub.execute_input": "2022-08-30T16:51:38.289764Z",
     "iopub.status.busy": "2022-08-30T16:51:38.289576Z",
     "iopub.status.idle": "2022-08-30T16:51:40.669638Z",
     "shell.execute_reply": "2022-08-30T16:51:40.669008Z"
    },
    "papermill": {
     "duration": 2.39205,
     "end_time": "2022-08-30T16:51:40.671567",
     "exception": false,
     "start_time": "2022-08-30T16:51:38.279517",
     "status": "completed"
    },
    "tags": []
   },
   "outputs": [],
   "source": [
    "with open(OUTPUT_DIR_BASE / \"gwas_variant_ids.pkl\", \"rb\") as handle:\n",
    "    gwas_variants_ids_set = pickle.load(handle)"
   ]
  },
  {
   "cell_type": "code",
   "execution_count": 13,
   "id": "b9d9dec2-4a76-4bf9-bde2-e24c95acb8a0",
   "metadata": {
    "execution": {
     "iopub.execute_input": "2022-08-30T16:51:40.755557Z",
     "iopub.status.busy": "2022-08-30T16:51:40.755139Z",
     "iopub.status.idle": "2022-08-30T16:51:40.792983Z",
     "shell.execute_reply": "2022-08-30T16:51:40.792103Z"
    },
    "papermill": {
     "duration": 0.083951,
     "end_time": "2022-08-30T16:51:40.795581",
     "exception": false,
     "start_time": "2022-08-30T16:51:40.711630",
     "status": "completed"
    },
    "tags": []
   },
   "outputs": [
    {
     "data": {
      "text/plain": [
       "8376508"
      ]
     },
     "execution_count": 13,
     "metadata": {},
     "output_type": "execute_result"
    }
   ],
   "source": [
    "len(gwas_variants_ids_set)"
   ]
  },
  {
   "cell_type": "code",
   "execution_count": 14,
   "id": "4235b06a-6034-4ee4-a0a3-2ae35d122418",
   "metadata": {
    "execution": {
     "iopub.execute_input": "2022-08-30T16:51:40.881353Z",
     "iopub.status.busy": "2022-08-30T16:51:40.880914Z",
     "iopub.status.idle": "2022-08-30T16:51:41.520695Z",
     "shell.execute_reply": "2022-08-30T16:51:41.519965Z"
    },
    "papermill": {
     "duration": 0.683007,
     "end_time": "2022-08-30T16:51:41.522405",
     "exception": false,
     "start_time": "2022-08-30T16:51:40.839398",
     "status": "completed"
    },
    "tags": []
   },
   "outputs": [
    {
     "data": {
      "text/plain": [
       "['chr5_136978112_T_G_b38',\n",
       " 'chr4_158524245_C_T_b38',\n",
       " 'chr5_171686875_G_A_b38',\n",
       " 'chr6_112652525_A_G_b38',\n",
       " 'chr11_57382168_C_T_b38']"
      ]
     },
     "execution_count": 14,
     "metadata": {},
     "output_type": "execute_result"
    }
   ],
   "source": [
    "list(gwas_variants_ids_set)[:5]"
   ]
  },
  {
   "cell_type": "markdown",
   "id": "07866999-2305-41f9-a144-e69c9122c212",
   "metadata": {
    "papermill": {
     "duration": 0.010383,
     "end_time": "2022-08-30T16:51:41.544324",
     "exception": false,
     "start_time": "2022-08-30T16:51:41.533941",
     "status": "completed"
    },
    "tags": []
   },
   "source": [
    "## S-PrediXcan tissue models"
   ]
  },
  {
   "cell_type": "code",
   "execution_count": 15,
   "id": "780611d9-77c8-405f-90a4-f271f7b09397",
   "metadata": {
    "execution": {
     "iopub.execute_input": "2022-08-30T16:51:41.566152Z",
     "iopub.status.busy": "2022-08-30T16:51:41.565948Z",
     "iopub.status.idle": "2022-08-30T16:51:42.399624Z",
     "shell.execute_reply": "2022-08-30T16:51:42.399023Z"
    },
    "papermill": {
     "duration": 0.847535,
     "end_time": "2022-08-30T16:51:42.401546",
     "exception": false,
     "start_time": "2022-08-30T16:51:41.554011",
     "status": "completed"
    },
    "tags": []
   },
   "outputs": [],
   "source": [
    "spredixcan_genes_models = pd.read_pickle(OUTPUT_DIR_BASE / \"gene_tissues.pkl\")"
   ]
  },
  {
   "cell_type": "code",
   "execution_count": 16,
   "id": "726dd1f6-9557-4225-91fa-b3b879ea96e1",
   "metadata": {
    "execution": {
     "iopub.execute_input": "2022-08-30T16:51:42.426638Z",
     "iopub.status.busy": "2022-08-30T16:51:42.426441Z",
     "iopub.status.idle": "2022-08-30T16:51:42.445992Z",
     "shell.execute_reply": "2022-08-30T16:51:42.445433Z"
    },
    "papermill": {
     "duration": 0.032905,
     "end_time": "2022-08-30T16:51:42.447414",
     "exception": false,
     "start_time": "2022-08-30T16:51:42.414509",
     "status": "completed"
    },
    "tags": []
   },
   "outputs": [
    {
     "data": {
      "text/plain": [
       "(6425, 3)"
      ]
     },
     "execution_count": 16,
     "metadata": {},
     "output_type": "execute_result"
    }
   ],
   "source": [
    "spredixcan_genes_models.shape"
   ]
  },
  {
   "cell_type": "code",
   "execution_count": 17,
   "id": "944a1b48-222c-4eb0-b252-b9de2cbca215",
   "metadata": {
    "execution": {
     "iopub.execute_input": "2022-08-30T16:51:42.479632Z",
     "iopub.status.busy": "2022-08-30T16:51:42.479443Z",
     "iopub.status.idle": "2022-08-30T16:51:42.508688Z",
     "shell.execute_reply": "2022-08-30T16:51:42.508160Z"
    },
    "papermill": {
     "duration": 0.043628,
     "end_time": "2022-08-30T16:51:42.510224",
     "exception": false,
     "start_time": "2022-08-30T16:51:42.466596",
     "status": "completed"
    },
    "tags": []
   },
   "outputs": [
    {
     "data": {
      "text/html": [
       "<div>\n",
       "<style scoped>\n",
       "    .dataframe tbody tr th:only-of-type {\n",
       "        vertical-align: middle;\n",
       "    }\n",
       "\n",
       "    .dataframe tbody tr th {\n",
       "        vertical-align: top;\n",
       "    }\n",
       "\n",
       "    .dataframe thead th {\n",
       "        text-align: right;\n",
       "    }\n",
       "</style>\n",
       "<table border=\"1\" class=\"dataframe\">\n",
       "  <thead>\n",
       "    <tr style=\"text-align: right;\">\n",
       "      <th></th>\n",
       "      <th>gene_name</th>\n",
       "      <th>tissue</th>\n",
       "      <th>n_tissues</th>\n",
       "    </tr>\n",
       "    <tr>\n",
       "      <th>gene_id</th>\n",
       "      <th></th>\n",
       "      <th></th>\n",
       "      <th></th>\n",
       "    </tr>\n",
       "  </thead>\n",
       "  <tbody>\n",
       "    <tr>\n",
       "      <th>ENSG00000000419</th>\n",
       "      <td>DPM1</td>\n",
       "      <td>(Brain_Substantia_nigra, Brain_Hypothalamus)</td>\n",
       "      <td>2</td>\n",
       "    </tr>\n",
       "    <tr>\n",
       "      <th>ENSG00000000938</th>\n",
       "      <td>FGR</td>\n",
       "      <td>(Muscle_Skeletal, Brain_Anterior_cingulate_cor...</td>\n",
       "      <td>26</td>\n",
       "    </tr>\n",
       "    <tr>\n",
       "      <th>ENSG00000000971</th>\n",
       "      <td>CFH</td>\n",
       "      <td>(Brain_Substantia_nigra, Cells_Cultured_fibrob...</td>\n",
       "      <td>34</td>\n",
       "    </tr>\n",
       "    <tr>\n",
       "      <th>ENSG00000001084</th>\n",
       "      <td>GCLC</td>\n",
       "      <td>(Muscle_Skeletal, Brain_Substantia_nigra, Cell...</td>\n",
       "      <td>32</td>\n",
       "    </tr>\n",
       "    <tr>\n",
       "      <th>ENSG00000001167</th>\n",
       "      <td>NFYA</td>\n",
       "      <td>(Muscle_Skeletal, Cells_Cultured_fibroblasts, ...</td>\n",
       "      <td>40</td>\n",
       "    </tr>\n",
       "  </tbody>\n",
       "</table>\n",
       "</div>"
      ],
      "text/plain": [
       "                gene_name                                             tissue  \\\n",
       "gene_id                                                                        \n",
       "ENSG00000000419      DPM1       (Brain_Substantia_nigra, Brain_Hypothalamus)   \n",
       "ENSG00000000938       FGR  (Muscle_Skeletal, Brain_Anterior_cingulate_cor...   \n",
       "ENSG00000000971       CFH  (Brain_Substantia_nigra, Cells_Cultured_fibrob...   \n",
       "ENSG00000001084      GCLC  (Muscle_Skeletal, Brain_Substantia_nigra, Cell...   \n",
       "ENSG00000001167      NFYA  (Muscle_Skeletal, Cells_Cultured_fibroblasts, ...   \n",
       "\n",
       "                 n_tissues  \n",
       "gene_id                     \n",
       "ENSG00000000419          2  \n",
       "ENSG00000000938         26  \n",
       "ENSG00000000971         34  \n",
       "ENSG00000001084         32  \n",
       "ENSG00000001167         40  "
      ]
     },
     "execution_count": 17,
     "metadata": {},
     "output_type": "execute_result"
    }
   ],
   "source": [
    "spredixcan_genes_models.head()"
   ]
  },
  {
   "cell_type": "code",
   "execution_count": 18,
   "id": "d1c11bb1-be0b-4f40-b360-633d6827109f",
   "metadata": {
    "execution": {
     "iopub.execute_input": "2022-08-30T16:51:42.536399Z",
     "iopub.status.busy": "2022-08-30T16:51:42.536211Z",
     "iopub.status.idle": "2022-08-30T16:51:42.552592Z",
     "shell.execute_reply": "2022-08-30T16:51:42.551957Z"
    },
    "papermill": {
     "duration": 0.030089,
     "end_time": "2022-08-30T16:51:42.554106",
     "exception": false,
     "start_time": "2022-08-30T16:51:42.524017",
     "status": "completed"
    },
    "tags": []
   },
   "outputs": [],
   "source": [
    "assert spredixcan_genes_models.index.is_unique"
   ]
  },
  {
   "cell_type": "markdown",
   "id": "a5b5092c-a13e-47c4-a92a-480fcc08f3ae",
   "metadata": {
    "papermill": {
     "duration": 0.01199,
     "end_time": "2022-08-30T16:51:42.580229",
     "exception": false,
     "start_time": "2022-08-30T16:51:42.568239",
     "status": "completed"
    },
    "tags": []
   },
   "source": [
    "## Gene info"
   ]
  },
  {
   "cell_type": "code",
   "execution_count": 19,
   "id": "7d6bb224-88e9-4358-ac10-43a41d92cdad",
   "metadata": {
    "execution": {
     "iopub.execute_input": "2022-08-30T16:51:42.600786Z",
     "iopub.status.busy": "2022-08-30T16:51:42.600598Z",
     "iopub.status.idle": "2022-08-30T16:51:42.622749Z",
     "shell.execute_reply": "2022-08-30T16:51:42.622268Z"
    },
    "papermill": {
     "duration": 0.033996,
     "end_time": "2022-08-30T16:51:42.624396",
     "exception": false,
     "start_time": "2022-08-30T16:51:42.590400",
     "status": "completed"
    },
    "tags": []
   },
   "outputs": [],
   "source": [
    "genes_info = pd.read_pickle(OUTPUT_DIR_BASE / \"genes_info.pkl\")"
   ]
  },
  {
   "cell_type": "code",
   "execution_count": 20,
   "id": "9e32abfa-546d-483e-8c18-d526e9e05903",
   "metadata": {
    "execution": {
     "iopub.execute_input": "2022-08-30T16:51:42.649792Z",
     "iopub.status.busy": "2022-08-30T16:51:42.649601Z",
     "iopub.status.idle": "2022-08-30T16:51:42.667460Z",
     "shell.execute_reply": "2022-08-30T16:51:42.666964Z"
    },
    "papermill": {
     "duration": 0.031725,
     "end_time": "2022-08-30T16:51:42.668925",
     "exception": false,
     "start_time": "2022-08-30T16:51:42.637200",
     "status": "completed"
    },
    "tags": []
   },
   "outputs": [
    {
     "data": {
      "text/plain": [
       "(6425, 7)"
      ]
     },
     "execution_count": 20,
     "metadata": {},
     "output_type": "execute_result"
    }
   ],
   "source": [
    "genes_info.shape"
   ]
  },
  {
   "cell_type": "code",
   "execution_count": 21,
   "id": "d16c3e92-85ec-468a-9a56-e25a9774a1cb",
   "metadata": {
    "execution": {
     "iopub.execute_input": "2022-08-30T16:51:42.691661Z",
     "iopub.status.busy": "2022-08-30T16:51:42.691471Z",
     "iopub.status.idle": "2022-08-30T16:51:42.713321Z",
     "shell.execute_reply": "2022-08-30T16:51:42.712698Z"
    },
    "papermill": {
     "duration": 0.035373,
     "end_time": "2022-08-30T16:51:42.714721",
     "exception": false,
     "start_time": "2022-08-30T16:51:42.679348",
     "status": "completed"
    },
    "tags": []
   },
   "outputs": [
    {
     "data": {
      "text/html": [
       "<div>\n",
       "<style scoped>\n",
       "    .dataframe tbody tr th:only-of-type {\n",
       "        vertical-align: middle;\n",
       "    }\n",
       "\n",
       "    .dataframe tbody tr th {\n",
       "        vertical-align: top;\n",
       "    }\n",
       "\n",
       "    .dataframe thead th {\n",
       "        text-align: right;\n",
       "    }\n",
       "</style>\n",
       "<table border=\"1\" class=\"dataframe\">\n",
       "  <thead>\n",
       "    <tr style=\"text-align: right;\">\n",
       "      <th></th>\n",
       "      <th>name</th>\n",
       "      <th>id</th>\n",
       "      <th>chr</th>\n",
       "      <th>band</th>\n",
       "      <th>start_position</th>\n",
       "      <th>end_position</th>\n",
       "      <th>gene_length</th>\n",
       "    </tr>\n",
       "  </thead>\n",
       "  <tbody>\n",
       "    <tr>\n",
       "      <th>0</th>\n",
       "      <td>ADAMTS14</td>\n",
       "      <td>ENSG00000138316</td>\n",
       "      <td>10</td>\n",
       "      <td>10q22.1</td>\n",
       "      <td>70672506</td>\n",
       "      <td>70762441</td>\n",
       "      <td>89935</td>\n",
       "    </tr>\n",
       "    <tr>\n",
       "      <th>1</th>\n",
       "      <td>TXN</td>\n",
       "      <td>ENSG00000136810</td>\n",
       "      <td>9</td>\n",
       "      <td>9q31.3</td>\n",
       "      <td>110243810</td>\n",
       "      <td>110256507</td>\n",
       "      <td>12697</td>\n",
       "    </tr>\n",
       "    <tr>\n",
       "      <th>2</th>\n",
       "      <td>RMI1</td>\n",
       "      <td>ENSG00000178966</td>\n",
       "      <td>9</td>\n",
       "      <td>9q21.32</td>\n",
       "      <td>83980711</td>\n",
       "      <td>84004074</td>\n",
       "      <td>23363</td>\n",
       "    </tr>\n",
       "    <tr>\n",
       "      <th>3</th>\n",
       "      <td>DHX58</td>\n",
       "      <td>ENSG00000108771</td>\n",
       "      <td>17</td>\n",
       "      <td>17q21.2</td>\n",
       "      <td>42101404</td>\n",
       "      <td>42112714</td>\n",
       "      <td>11310</td>\n",
       "    </tr>\n",
       "    <tr>\n",
       "      <th>4</th>\n",
       "      <td>XRCC4</td>\n",
       "      <td>ENSG00000152422</td>\n",
       "      <td>5</td>\n",
       "      <td>5q14.2</td>\n",
       "      <td>83077498</td>\n",
       "      <td>83353787</td>\n",
       "      <td>276289</td>\n",
       "    </tr>\n",
       "  </tbody>\n",
       "</table>\n",
       "</div>"
      ],
      "text/plain": [
       "       name               id  chr     band  start_position  end_position  \\\n",
       "0  ADAMTS14  ENSG00000138316   10  10q22.1        70672506      70762441   \n",
       "1       TXN  ENSG00000136810    9   9q31.3       110243810     110256507   \n",
       "2      RMI1  ENSG00000178966    9  9q21.32        83980711      84004074   \n",
       "3     DHX58  ENSG00000108771   17  17q21.2        42101404      42112714   \n",
       "4     XRCC4  ENSG00000152422    5   5q14.2        83077498      83353787   \n",
       "\n",
       "   gene_length  \n",
       "0        89935  \n",
       "1        12697  \n",
       "2        23363  \n",
       "3        11310  \n",
       "4       276289  "
      ]
     },
     "execution_count": 21,
     "metadata": {},
     "output_type": "execute_result"
    }
   ],
   "source": [
    "genes_info.head()"
   ]
  },
  {
   "cell_type": "markdown",
   "id": "d3843e06",
   "metadata": {
    "papermill": {
     "duration": 0.011534,
     "end_time": "2022-08-30T16:51:42.737768",
     "exception": false,
     "start_time": "2022-08-30T16:51:42.726234",
     "status": "completed"
    },
    "tags": []
   },
   "source": [
    "# Compute correlations"
   ]
  },
  {
   "cell_type": "code",
   "execution_count": 22,
   "id": "cb859c15-d1f3-4006-a74c-2b83c0db9611",
   "metadata": {
    "execution": {
     "iopub.execute_input": "2022-08-30T16:51:42.761007Z",
     "iopub.status.busy": "2022-08-30T16:51:42.760788Z",
     "iopub.status.idle": "2022-08-30T16:51:42.780097Z",
     "shell.execute_reply": "2022-08-30T16:51:42.779596Z"
    },
    "papermill": {
     "duration": 0.03338,
     "end_time": "2022-08-30T16:51:42.781516",
     "exception": false,
     "start_time": "2022-08-30T16:51:42.748136",
     "status": "completed"
    },
    "tags": []
   },
   "outputs": [
    {
     "data": {
      "text/plain": [
       "PosixPath('/project/ritchie20/projects/phenoplier/base/results/gls/gene_corrs/cohorts/emerge/gtex_v8/mashr/by_chr/gene_corrs-chr22.pkl')"
      ]
     },
     "metadata": {},
     "output_type": "display_data"
    }
   ],
   "source": [
    "output_dir = OUTPUT_DIR_BASE / \"by_chr\"\n",
    "output_dir.mkdir(exist_ok=True, parents=True)\n",
    "output_file = output_dir / f\"gene_corrs-chr{CHROMOSOME}.pkl\"\n",
    "display(output_file)"
   ]
  },
  {
   "cell_type": "code",
   "execution_count": 23,
   "id": "aa674fe4-6794-4eed-98fa-32b39d1d4ace",
   "metadata": {
    "execution": {
     "iopub.execute_input": "2022-08-30T16:51:42.803562Z",
     "iopub.status.busy": "2022-08-30T16:51:42.803372Z",
     "iopub.status.idle": "2022-08-30T16:51:42.819473Z",
     "shell.execute_reply": "2022-08-30T16:51:42.818848Z"
    },
    "papermill": {
     "duration": 0.029404,
     "end_time": "2022-08-30T16:51:42.820983",
     "exception": false,
     "start_time": "2022-08-30T16:51:42.791579",
     "status": "completed"
    },
    "tags": []
   },
   "outputs": [],
   "source": [
    "warnings.filterwarnings(\"error\")"
   ]
  },
  {
   "cell_type": "code",
   "execution_count": 24,
   "id": "44d5450b-3baf-43f1-9e2e-4b06f1a785f8",
   "metadata": {
    "execution": {
     "iopub.execute_input": "2022-08-30T16:51:42.845058Z",
     "iopub.status.busy": "2022-08-30T16:51:42.844820Z",
     "iopub.status.idle": "2022-08-30T16:51:42.861304Z",
     "shell.execute_reply": "2022-08-30T16:51:42.860569Z"
    },
    "papermill": {
     "duration": 0.02923,
     "end_time": "2022-08-30T16:51:42.862806",
     "exception": false,
     "start_time": "2022-08-30T16:51:42.833576",
     "status": "completed"
    },
    "tags": []
   },
   "outputs": [],
   "source": [
    "# standard checks\n",
    "all_chrs = genes_info[\"chr\"].dropna().unique()\n",
    "assert all_chrs.shape[0] == 22\n",
    "\n",
    "# select chromosome given by the user\n",
    "assert CHROMOSOME in all_chrs"
   ]
  },
  {
   "cell_type": "code",
   "execution_count": 25,
   "id": "2d7c043c-92a7-4d35-991b-fa69ac1e0268",
   "metadata": {
    "execution": {
     "iopub.execute_input": "2022-08-30T16:51:42.885726Z",
     "iopub.status.busy": "2022-08-30T16:51:42.885536Z",
     "iopub.status.idle": "2022-08-30T16:51:42.925722Z",
     "shell.execute_reply": "2022-08-30T16:51:42.925219Z"
    },
    "papermill": {
     "duration": 0.054463,
     "end_time": "2022-08-30T16:51:42.927391",
     "exception": false,
     "start_time": "2022-08-30T16:51:42.872928",
     "status": "completed"
    },
    "tags": []
   },
   "outputs": [
    {
     "name": "stdout",
     "output_type": "stream",
     "text": [
      "Number of genes in chromosome: 170\n"
     ]
    }
   ],
   "source": [
    "# run only on the chromosome specified\n",
    "all_chrs = [CHROMOSOME]\n",
    "genes_chr = genes_info[genes_info[\"chr\"] == CHROMOSOME]\n",
    "\n",
    "# For testing purposes\n",
    "# genes_chr = genes_chr.sample(n=20)\n",
    "\n",
    "print(f\"Number of genes in chromosome: {genes_chr.shape[0]}\", flush=True)"
   ]
  },
  {
   "cell_type": "code",
   "execution_count": 26,
   "id": "916015d8-2979-46d3-a9b9-1cf5a0932c6a",
   "metadata": {
    "execution": {
     "iopub.execute_input": "2022-08-30T16:51:42.949969Z",
     "iopub.status.busy": "2022-08-30T16:51:42.949772Z",
     "iopub.status.idle": "2022-08-30T16:51:42.965681Z",
     "shell.execute_reply": "2022-08-30T16:51:42.965201Z"
    },
    "papermill": {
     "duration": 0.029217,
     "end_time": "2022-08-30T16:51:42.967202",
     "exception": false,
     "start_time": "2022-08-30T16:51:42.937985",
     "status": "completed"
    },
    "tags": []
   },
   "outputs": [],
   "source": [
    "# sort genes by starting position to make visualizations better later\n",
    "genes_chr = genes_chr.sort_values(\"start_position\")"
   ]
  },
  {
   "cell_type": "code",
   "execution_count": 27,
   "id": "a38aa74a-8ad3-47f6-8ef9-56be0e011774",
   "metadata": {
    "execution": {
     "iopub.execute_input": "2022-08-30T16:51:42.991972Z",
     "iopub.status.busy": "2022-08-30T16:51:42.991774Z",
     "iopub.status.idle": "2022-08-30T16:51:43.008326Z",
     "shell.execute_reply": "2022-08-30T16:51:43.007739Z"
    },
    "papermill": {
     "duration": 0.030219,
     "end_time": "2022-08-30T16:51:43.009863",
     "exception": false,
     "start_time": "2022-08-30T16:51:42.979644",
     "status": "completed"
    },
    "tags": []
   },
   "outputs": [],
   "source": [
    "gene_chr_objs = [Gene(ensembl_id=gene_id) for gene_id in genes_chr[\"id\"]]"
   ]
  },
  {
   "cell_type": "code",
   "execution_count": 28,
   "id": "570f974f-13c3-42b6-ad3a-ce99ca885c1a",
   "metadata": {
    "execution": {
     "iopub.execute_input": "2022-08-30T16:51:43.035318Z",
     "iopub.status.busy": "2022-08-30T16:51:43.035092Z",
     "iopub.status.idle": "2022-08-30T16:51:43.052489Z",
     "shell.execute_reply": "2022-08-30T16:51:43.051873Z"
    },
    "papermill": {
     "duration": 0.032213,
     "end_time": "2022-08-30T16:51:43.054004",
     "exception": false,
     "start_time": "2022-08-30T16:51:43.021791",
     "status": "completed"
    },
    "tags": []
   },
   "outputs": [
    {
     "name": "stdout",
     "output_type": "stream",
     "text": [
      "Number of gene combinations: 14535\n"
     ]
    }
   ],
   "source": [
    "n = len(gene_chr_objs)\n",
    "# diagonal elements + upper triangular matrix\n",
    "n_comb = n + int(n * (n - 1) / 2.0)\n",
    "print(f\"Number of gene combinations: {n_comb}\", flush=True)"
   ]
  },
  {
   "cell_type": "code",
   "execution_count": 29,
   "id": "cdbb90a1",
   "metadata": {
    "execution": {
     "iopub.execute_input": "2022-08-30T16:51:43.078200Z",
     "iopub.status.busy": "2022-08-30T16:51:43.077986Z",
     "iopub.status.idle": "2022-08-30T17:12:33.759752Z",
     "shell.execute_reply": "2022-08-30T17:12:33.759048Z"
    },
    "papermill": {
     "duration": 1250.695831,
     "end_time": "2022-08-30T17:12:33.761518",
     "exception": false,
     "start_time": "2022-08-30T16:51:43.065687",
     "status": "completed"
    },
    "tags": []
   },
   "outputs": [
    {
     "name": "stderr",
     "output_type": "stream",
     "text": [
      "ENSG00000251322 / ENSG00000251322: 100%|██████████████████████| 14535/14535 [20:50<00:00, 11.62it/s]\n"
     ]
    },
    {
     "data": {
      "text/plain": [
       "PosixPath('/project/ritchie20/projects/phenoplier/base/results/gls/gene_corrs/cohorts/emerge/gtex_v8/mashr/by_chr/gene_corrs-chr22.pkl')"
      ]
     },
     "metadata": {},
     "output_type": "display_data"
    }
   ],
   "source": [
    "gene_corrs = []\n",
    "gene_corrs_data = np.full(\n",
    "    (n, n),\n",
    "    np.nan,\n",
    "    dtype=np.float64,\n",
    ")\n",
    "\n",
    "i = 0\n",
    "with tqdm(ncols=100, total=n_comb) as pbar:\n",
    "    for gene1_idx in range(0, len(gene_chr_objs)):\n",
    "        gene1_obj = gene_chr_objs[gene1_idx]\n",
    "        gene1_tissues = spredixcan_genes_models.loc[gene1_obj.ensembl_id, \"tissue\"]\n",
    "\n",
    "        for gene2_idx in range(gene1_idx, len(gene_chr_objs)):\n",
    "            gene2_obj = gene_chr_objs[gene2_idx]\n",
    "            gene2_tissues = spredixcan_genes_models.loc[gene2_obj.ensembl_id, \"tissue\"]\n",
    "\n",
    "            pbar.set_description(f\"{gene1_obj.ensembl_id} / {gene2_obj.ensembl_id}\")\n",
    "\n",
    "            try:\n",
    "                r = gene1_obj.get_ssm_correlation(\n",
    "                    other_gene=gene2_obj,\n",
    "                    tissues=gene1_tissues,\n",
    "                    other_tissues=gene2_tissues,\n",
    "                    snps_subset=gwas_variants_ids_set,\n",
    "                    condition_number=SMULTIXCAN_CONDITION_NUMBER,\n",
    "                    reference_panel=REFERENCE_PANEL,\n",
    "                    model_type=EQTL_MODEL,\n",
    "                    use_within_distance=COMPUTE_CORRELATIONS_WITHIN_DISTANCE,\n",
    "                )\n",
    "\n",
    "                if r is None:\n",
    "                    # if r is None, it's very likely because:\n",
    "                    #  * one of the genes has no prediction models\n",
    "                    #  * all the SNPs predictors for the gene are not present in the reference\n",
    "                    #    panel\n",
    "\n",
    "                    r = 0.0\n",
    "\n",
    "                gene_corrs.append(r)\n",
    "\n",
    "                gene_corrs_data[gene1_idx, gene2_idx] = r\n",
    "                gene_corrs_data[gene2_idx, gene1_idx] = r\n",
    "            except Warning as e:\n",
    "                if not DEBUG_MODE:\n",
    "                    raise e\n",
    "\n",
    "                print(\n",
    "                    f\"RuntimeWarning for genes {gene1_obj.ensembl_id} and {gene2_obj.ensembl_id}\",\n",
    "                    flush=True,\n",
    "                )\n",
    "                print(traceback.format_exc(), flush=True)\n",
    "\n",
    "                gene_corrs.append(np.nan)\n",
    "            except Exception as e:\n",
    "                if not DEBUG_MODE:\n",
    "                    raise e\n",
    "\n",
    "                print(\n",
    "                    f\"Exception for genes {gene1_obj.ensembl_id} and {gene2_obj.ensembl_id}\",\n",
    "                    flush=True,\n",
    "                )\n",
    "                print(traceback.format_exc(), flush=True)\n",
    "\n",
    "                gene_corrs.append(np.nan)\n",
    "\n",
    "            pbar.update(1)\n",
    "\n",
    "# create a pandas series\n",
    "gene_corrs_flat = pd.Series(gene_corrs)\n",
    "\n",
    "# save\n",
    "# FIXME: consider saving only the condenced matrix here. See here for\n",
    "# more details: https://github.com/greenelab/phenoplier/pull/38#discussion_r634600813\n",
    "# gene_corrs_data = squareform(np.array(gene_corrs, dtype=np.float64))\n",
    "# np.fill_diagonal(gene_corrs_data, 1.0)\n",
    "\n",
    "gene_chr_ids = [g.ensembl_id for g in gene_chr_objs]\n",
    "gene_corrs_df = pd.DataFrame(\n",
    "    data=gene_corrs_data,\n",
    "    index=gene_chr_ids,\n",
    "    columns=gene_chr_ids,\n",
    ")\n",
    "\n",
    "output_dir.mkdir(exist_ok=True, parents=True)\n",
    "display(output_file)\n",
    "\n",
    "gene_corrs_df.to_pickle(output_file)"
   ]
  },
  {
   "cell_type": "markdown",
   "id": "faa67b51-5373-470f-aa72-2ded53fa6dfe",
   "metadata": {
    "papermill": {
     "duration": 0.837895,
     "end_time": "2022-08-30T17:12:35.440649",
     "exception": false,
     "start_time": "2022-08-30T17:12:34.602754",
     "status": "completed"
    },
    "tags": []
   },
   "source": [
    "# Testing"
   ]
  },
  {
   "cell_type": "code",
   "execution_count": 30,
   "id": "14f7d046-4b55-4896-a56b-990127bcc388",
   "metadata": {
    "execution": {
     "iopub.execute_input": "2022-08-30T17:12:37.135624Z",
     "iopub.status.busy": "2022-08-30T17:12:37.135359Z",
     "iopub.status.idle": "2022-08-30T17:12:37.354814Z",
     "shell.execute_reply": "2022-08-30T17:12:37.354321Z"
    },
    "papermill": {
     "duration": 1.08741,
     "end_time": "2022-08-30T17:12:37.356447",
     "exception": false,
     "start_time": "2022-08-30T17:12:36.269037",
     "status": "completed"
    },
    "tags": []
   },
   "outputs": [
    {
     "data": {
      "text/plain": [
       "(170, 170)"
      ]
     },
     "execution_count": 30,
     "metadata": {},
     "output_type": "execute_result"
    }
   ],
   "source": [
    "gene_corrs_df.shape"
   ]
  },
  {
   "cell_type": "code",
   "execution_count": 31,
   "id": "c7d15414-3297-4537-a7c6-7588c0baeb75",
   "metadata": {
    "execution": {
     "iopub.execute_input": "2022-08-30T17:12:39.027274Z",
     "iopub.status.busy": "2022-08-30T17:12:39.027013Z",
     "iopub.status.idle": "2022-08-30T17:12:39.061203Z",
     "shell.execute_reply": "2022-08-30T17:12:39.060513Z"
    },
    "papermill": {
     "duration": 0.867409,
     "end_time": "2022-08-30T17:12:39.062615",
     "exception": false,
     "start_time": "2022-08-30T17:12:38.195206",
     "status": "completed"
    },
    "tags": []
   },
   "outputs": [
    {
     "data": {
      "text/html": [
       "<div>\n",
       "<style scoped>\n",
       "    .dataframe tbody tr th:only-of-type {\n",
       "        vertical-align: middle;\n",
       "    }\n",
       "\n",
       "    .dataframe tbody tr th {\n",
       "        vertical-align: top;\n",
       "    }\n",
       "\n",
       "    .dataframe thead th {\n",
       "        text-align: right;\n",
       "    }\n",
       "</style>\n",
       "<table border=\"1\" class=\"dataframe\">\n",
       "  <thead>\n",
       "    <tr style=\"text-align: right;\">\n",
       "      <th></th>\n",
       "      <th>ENSG00000177663</th>\n",
       "      <th>ENSG00000131100</th>\n",
       "      <th>ENSG00000099968</th>\n",
       "      <th>ENSG00000015475</th>\n",
       "      <th>ENSG00000243156</th>\n",
       "      <th>ENSG00000215193</th>\n",
       "      <th>ENSG00000183785</th>\n",
       "      <th>ENSG00000184979</th>\n",
       "      <th>ENSG00000100033</th>\n",
       "      <th>ENSG00000100075</th>\n",
       "      <th>...</th>\n",
       "      <th>ENSG00000196576</th>\n",
       "      <th>ENSG00000128165</th>\n",
       "      <th>ENSG00000100253</th>\n",
       "      <th>ENSG00000130489</th>\n",
       "      <th>ENSG00000025708</th>\n",
       "      <th>ENSG00000205560</th>\n",
       "      <th>ENSG00000100288</th>\n",
       "      <th>ENSG00000008735</th>\n",
       "      <th>ENSG00000100299</th>\n",
       "      <th>ENSG00000251322</th>\n",
       "    </tr>\n",
       "  </thead>\n",
       "  <tbody>\n",
       "    <tr>\n",
       "      <th>ENSG00000177663</th>\n",
       "      <td>1.000000</td>\n",
       "      <td>0.003606</td>\n",
       "      <td>0.007264</td>\n",
       "      <td>0.009078</td>\n",
       "      <td>0.008304</td>\n",
       "      <td>0.011507</td>\n",
       "      <td>0.010916</td>\n",
       "      <td>0.007187</td>\n",
       "      <td>0.006864</td>\n",
       "      <td>0.003228</td>\n",
       "      <td>...</td>\n",
       "      <td>0.009074</td>\n",
       "      <td>0.009573</td>\n",
       "      <td>0.006581</td>\n",
       "      <td>0.003193</td>\n",
       "      <td>0.003537</td>\n",
       "      <td>0.007490</td>\n",
       "      <td>0.005658</td>\n",
       "      <td>0.008544</td>\n",
       "      <td>0.004788</td>\n",
       "      <td>0.002868</td>\n",
       "    </tr>\n",
       "    <tr>\n",
       "      <th>ENSG00000131100</th>\n",
       "      <td>0.003606</td>\n",
       "      <td>1.000000</td>\n",
       "      <td>0.542060</td>\n",
       "      <td>0.258362</td>\n",
       "      <td>0.008517</td>\n",
       "      <td>0.003627</td>\n",
       "      <td>0.005205</td>\n",
       "      <td>0.003596</td>\n",
       "      <td>0.008233</td>\n",
       "      <td>0.005908</td>\n",
       "      <td>...</td>\n",
       "      <td>0.008277</td>\n",
       "      <td>0.007869</td>\n",
       "      <td>0.011249</td>\n",
       "      <td>0.004228</td>\n",
       "      <td>0.006194</td>\n",
       "      <td>0.004357</td>\n",
       "      <td>0.003490</td>\n",
       "      <td>0.005618</td>\n",
       "      <td>0.002902</td>\n",
       "      <td>0.001054</td>\n",
       "    </tr>\n",
       "    <tr>\n",
       "      <th>ENSG00000099968</th>\n",
       "      <td>0.007264</td>\n",
       "      <td>0.542060</td>\n",
       "      <td>1.000000</td>\n",
       "      <td>0.393204</td>\n",
       "      <td>0.017352</td>\n",
       "      <td>0.006770</td>\n",
       "      <td>0.010656</td>\n",
       "      <td>0.006111</td>\n",
       "      <td>0.011148</td>\n",
       "      <td>0.008450</td>\n",
       "      <td>...</td>\n",
       "      <td>0.012225</td>\n",
       "      <td>0.009133</td>\n",
       "      <td>0.010688</td>\n",
       "      <td>0.006931</td>\n",
       "      <td>0.006994</td>\n",
       "      <td>0.006061</td>\n",
       "      <td>0.006840</td>\n",
       "      <td>0.007914</td>\n",
       "      <td>0.006822</td>\n",
       "      <td>0.006200</td>\n",
       "    </tr>\n",
       "    <tr>\n",
       "      <th>ENSG00000015475</th>\n",
       "      <td>0.009078</td>\n",
       "      <td>0.258362</td>\n",
       "      <td>0.393204</td>\n",
       "      <td>1.000000</td>\n",
       "      <td>0.023707</td>\n",
       "      <td>0.013641</td>\n",
       "      <td>0.012742</td>\n",
       "      <td>0.009202</td>\n",
       "      <td>0.012669</td>\n",
       "      <td>0.003952</td>\n",
       "      <td>...</td>\n",
       "      <td>0.012598</td>\n",
       "      <td>0.012137</td>\n",
       "      <td>0.012556</td>\n",
       "      <td>0.006271</td>\n",
       "      <td>0.007573</td>\n",
       "      <td>0.005518</td>\n",
       "      <td>0.007376</td>\n",
       "      <td>0.012388</td>\n",
       "      <td>0.007987</td>\n",
       "      <td>0.007268</td>\n",
       "    </tr>\n",
       "    <tr>\n",
       "      <th>ENSG00000243156</th>\n",
       "      <td>0.008304</td>\n",
       "      <td>0.008517</td>\n",
       "      <td>0.017352</td>\n",
       "      <td>0.023707</td>\n",
       "      <td>1.000000</td>\n",
       "      <td>0.041902</td>\n",
       "      <td>0.025743</td>\n",
       "      <td>0.021465</td>\n",
       "      <td>0.012505</td>\n",
       "      <td>0.004385</td>\n",
       "      <td>...</td>\n",
       "      <td>0.017565</td>\n",
       "      <td>0.017028</td>\n",
       "      <td>0.008356</td>\n",
       "      <td>0.006808</td>\n",
       "      <td>0.010769</td>\n",
       "      <td>0.009518</td>\n",
       "      <td>0.011146</td>\n",
       "      <td>0.011820</td>\n",
       "      <td>0.005771</td>\n",
       "      <td>0.008866</td>\n",
       "    </tr>\n",
       "  </tbody>\n",
       "</table>\n",
       "<p>5 rows × 170 columns</p>\n",
       "</div>"
      ],
      "text/plain": [
       "                 ENSG00000177663  ENSG00000131100  ENSG00000099968  \\\n",
       "ENSG00000177663         1.000000         0.003606         0.007264   \n",
       "ENSG00000131100         0.003606         1.000000         0.542060   \n",
       "ENSG00000099968         0.007264         0.542060         1.000000   \n",
       "ENSG00000015475         0.009078         0.258362         0.393204   \n",
       "ENSG00000243156         0.008304         0.008517         0.017352   \n",
       "\n",
       "                 ENSG00000015475  ENSG00000243156  ENSG00000215193  \\\n",
       "ENSG00000177663         0.009078         0.008304         0.011507   \n",
       "ENSG00000131100         0.258362         0.008517         0.003627   \n",
       "ENSG00000099968         0.393204         0.017352         0.006770   \n",
       "ENSG00000015475         1.000000         0.023707         0.013641   \n",
       "ENSG00000243156         0.023707         1.000000         0.041902   \n",
       "\n",
       "                 ENSG00000183785  ENSG00000184979  ENSG00000100033  \\\n",
       "ENSG00000177663         0.010916         0.007187         0.006864   \n",
       "ENSG00000131100         0.005205         0.003596         0.008233   \n",
       "ENSG00000099968         0.010656         0.006111         0.011148   \n",
       "ENSG00000015475         0.012742         0.009202         0.012669   \n",
       "ENSG00000243156         0.025743         0.021465         0.012505   \n",
       "\n",
       "                 ENSG00000100075  ...  ENSG00000196576  ENSG00000128165  \\\n",
       "ENSG00000177663         0.003228  ...         0.009074         0.009573   \n",
       "ENSG00000131100         0.005908  ...         0.008277         0.007869   \n",
       "ENSG00000099968         0.008450  ...         0.012225         0.009133   \n",
       "ENSG00000015475         0.003952  ...         0.012598         0.012137   \n",
       "ENSG00000243156         0.004385  ...         0.017565         0.017028   \n",
       "\n",
       "                 ENSG00000100253  ENSG00000130489  ENSG00000025708  \\\n",
       "ENSG00000177663         0.006581         0.003193         0.003537   \n",
       "ENSG00000131100         0.011249         0.004228         0.006194   \n",
       "ENSG00000099968         0.010688         0.006931         0.006994   \n",
       "ENSG00000015475         0.012556         0.006271         0.007573   \n",
       "ENSG00000243156         0.008356         0.006808         0.010769   \n",
       "\n",
       "                 ENSG00000205560  ENSG00000100288  ENSG00000008735  \\\n",
       "ENSG00000177663         0.007490         0.005658         0.008544   \n",
       "ENSG00000131100         0.004357         0.003490         0.005618   \n",
       "ENSG00000099968         0.006061         0.006840         0.007914   \n",
       "ENSG00000015475         0.005518         0.007376         0.012388   \n",
       "ENSG00000243156         0.009518         0.011146         0.011820   \n",
       "\n",
       "                 ENSG00000100299  ENSG00000251322  \n",
       "ENSG00000177663         0.004788         0.002868  \n",
       "ENSG00000131100         0.002902         0.001054  \n",
       "ENSG00000099968         0.006822         0.006200  \n",
       "ENSG00000015475         0.007987         0.007268  \n",
       "ENSG00000243156         0.005771         0.008866  \n",
       "\n",
       "[5 rows x 170 columns]"
      ]
     },
     "execution_count": 31,
     "metadata": {},
     "output_type": "execute_result"
    }
   ],
   "source": [
    "gene_corrs_df.head()"
   ]
  },
  {
   "cell_type": "markdown",
   "id": "dad6603f-01c6-41fb-a6f6-241051207dd8",
   "metadata": {
    "papermill": {
     "duration": 0.835068,
     "end_time": "2022-08-30T17:12:40.733467",
     "exception": false,
     "start_time": "2022-08-30T17:12:39.898399",
     "status": "completed"
    },
    "tags": []
   },
   "source": [
    "## Standard checks and stats"
   ]
  },
  {
   "cell_type": "code",
   "execution_count": 32,
   "id": "286686af-1b7b-4440-8453-6bdcbd8de19c",
   "metadata": {
    "execution": {
     "iopub.execute_input": "2022-08-30T17:12:42.422870Z",
     "iopub.status.busy": "2022-08-30T17:12:42.422605Z",
     "iopub.status.idle": "2022-08-30T17:12:42.445868Z",
     "shell.execute_reply": "2022-08-30T17:12:42.445385Z"
    },
    "papermill": {
     "duration": 0.878264,
     "end_time": "2022-08-30T17:12:42.447428",
     "exception": false,
     "start_time": "2022-08-30T17:12:41.569164",
     "status": "completed"
    },
    "tags": []
   },
   "outputs": [],
   "source": [
    "assert not gene_corrs_df.isna().any().any()"
   ]
  },
  {
   "cell_type": "code",
   "execution_count": 33,
   "id": "00583efc-7068-4270-ad1e-4a418e91db96",
   "metadata": {
    "execution": {
     "iopub.execute_input": "2022-08-30T17:12:44.127202Z",
     "iopub.status.busy": "2022-08-30T17:12:44.126921Z",
     "iopub.status.idle": "2022-08-30T17:12:44.150138Z",
     "shell.execute_reply": "2022-08-30T17:12:44.149436Z"
    },
    "papermill": {
     "duration": 0.869084,
     "end_time": "2022-08-30T17:12:44.151704",
     "exception": false,
     "start_time": "2022-08-30T17:12:43.282620",
     "status": "completed"
    },
    "tags": []
   },
   "outputs": [
    {
     "data": {
      "text/plain": [
       "1.7872532327777693e-07"
      ]
     },
     "metadata": {},
     "output_type": "display_data"
    }
   ],
   "source": [
    "_min_val = gene_corrs_df.min().min()\n",
    "display(_min_val)\n",
    "assert _min_val >= -0.05"
   ]
  },
  {
   "cell_type": "code",
   "execution_count": 34,
   "id": "d04fb2cf-1050-475b-b855-f5f7cc04092b",
   "metadata": {
    "execution": {
     "iopub.execute_input": "2022-08-30T17:12:45.821781Z",
     "iopub.status.busy": "2022-08-30T17:12:45.821523Z",
     "iopub.status.idle": "2022-08-30T17:12:45.843148Z",
     "shell.execute_reply": "2022-08-30T17:12:45.842664Z"
    },
    "papermill": {
     "duration": 0.862594,
     "end_time": "2022-08-30T17:12:45.844557",
     "exception": false,
     "start_time": "2022-08-30T17:12:44.981963",
     "status": "completed"
    },
    "tags": []
   },
   "outputs": [
    {
     "data": {
      "text/plain": [
       "1.0000000000000027"
      ]
     },
     "metadata": {},
     "output_type": "display_data"
    }
   ],
   "source": [
    "_max_val = gene_corrs_df.max().max()  # this captures the diagonal\n",
    "display(_max_val)\n",
    "assert _max_val <= 1.05"
   ]
  },
  {
   "cell_type": "code",
   "execution_count": 35,
   "id": "96d02c44-1fba-47be-8a93-8f2608420b9c",
   "metadata": {
    "execution": {
     "iopub.execute_input": "2022-08-30T17:12:47.514036Z",
     "iopub.status.busy": "2022-08-30T17:12:47.513768Z",
     "iopub.status.idle": "2022-08-30T17:12:47.531719Z",
     "shell.execute_reply": "2022-08-30T17:12:47.531241Z"
    },
    "papermill": {
     "duration": 0.857602,
     "end_time": "2022-08-30T17:12:47.533235",
     "exception": false,
     "start_time": "2022-08-30T17:12:46.675633",
     "status": "completed"
    },
    "tags": []
   },
   "outputs": [],
   "source": [
    "# check upper triangular values\n",
    "# assert len(gene_corrs) == int(genes_chr.shape[0] * (genes_chr.shape[0] - 1) / 2)"
   ]
  },
  {
   "cell_type": "code",
   "execution_count": 36,
   "id": "fe283586-c348-40e0-8841-f6d97bfb021c",
   "metadata": {
    "execution": {
     "iopub.execute_input": "2022-08-30T17:12:49.218014Z",
     "iopub.status.busy": "2022-08-30T17:12:49.217751Z",
     "iopub.status.idle": "2022-08-30T17:12:49.241809Z",
     "shell.execute_reply": "2022-08-30T17:12:49.241301Z"
    },
    "papermill": {
     "duration": 0.872065,
     "end_time": "2022-08-30T17:12:49.243460",
     "exception": false,
     "start_time": "2022-08-30T17:12:48.371395",
     "status": "completed"
    },
    "tags": []
   },
   "outputs": [
    {
     "data": {
      "text/plain": [
       "count    1.453500e+04\n",
       "mean     2.269921e-02\n",
       "std      1.135697e-01\n",
       "min      1.787253e-07\n",
       "25%      3.957371e-03\n",
       "50%      6.036948e-03\n",
       "75%      8.491391e-03\n",
       "max      1.000000e+00\n",
       "dtype: float64"
      ]
     },
     "execution_count": 36,
     "metadata": {},
     "output_type": "execute_result"
    }
   ],
   "source": [
    "gene_corrs_flat.describe()"
   ]
  },
  {
   "cell_type": "code",
   "execution_count": 37,
   "id": "b3815678-0f93-4b35-897b-a9d047a2aa78",
   "metadata": {
    "execution": {
     "iopub.execute_input": "2022-08-30T17:12:50.879928Z",
     "iopub.status.busy": "2022-08-30T17:12:50.879658Z",
     "iopub.status.idle": "2022-08-30T17:12:50.902875Z",
     "shell.execute_reply": "2022-08-30T17:12:50.902358Z"
    },
    "papermill": {
     "duration": 0.826739,
     "end_time": "2022-08-30T17:12:50.904283",
     "exception": false,
     "start_time": "2022-08-30T17:12:50.077544",
     "status": "completed"
    },
    "tags": []
   },
   "outputs": [
    {
     "data": {
      "text/plain": [
       "0.00    1.787253e-07\n",
       "0.05    1.612479e-03\n",
       "0.10    2.364964e-03\n",
       "0.15    2.985846e-03\n",
       "0.20    3.496818e-03\n",
       "0.25    3.957371e-03\n",
       "0.30    4.379528e-03\n",
       "0.35    4.785028e-03\n",
       "0.40    5.207563e-03\n",
       "0.45    5.617804e-03\n",
       "0.50    6.036948e-03\n",
       "0.55    6.449214e-03\n",
       "0.60    6.892439e-03\n",
       "0.65    7.376293e-03\n",
       "0.70    7.891293e-03\n",
       "0.75    8.491391e-03\n",
       "0.80    9.177364e-03\n",
       "0.85    1.006904e-02\n",
       "0.90    1.141200e-02\n",
       "0.95    1.551034e-02\n",
       "dtype: float64"
      ]
     },
     "metadata": {},
     "output_type": "display_data"
    }
   ],
   "source": [
    "gene_corrs_quantiles = gene_corrs_flat.quantile(np.arange(0, 1, 0.05))\n",
    "display(gene_corrs_quantiles)"
   ]
  },
  {
   "cell_type": "markdown",
   "id": "87134509-b145-4a10-8bc9-b7e914c2b0fa",
   "metadata": {
    "papermill": {
     "duration": 0.835222,
     "end_time": "2022-08-30T17:12:52.566040",
     "exception": false,
     "start_time": "2022-08-30T17:12:51.730818",
     "status": "completed"
    },
    "tags": []
   },
   "source": [
    "## Positive definiteness"
   ]
  },
  {
   "cell_type": "code",
   "execution_count": 38,
   "id": "07d9a9a1-a4f7-48aa-b916-6d42a8cc6186",
   "metadata": {
    "execution": {
     "iopub.execute_input": "2022-08-30T17:12:54.237298Z",
     "iopub.status.busy": "2022-08-30T17:12:54.237029Z",
     "iopub.status.idle": "2022-08-30T17:12:54.267270Z",
     "shell.execute_reply": "2022-08-30T17:12:54.266756Z"
    },
    "papermill": {
     "duration": 0.868927,
     "end_time": "2022-08-30T17:12:54.268774",
     "exception": false,
     "start_time": "2022-08-30T17:12:53.399847",
     "status": "completed"
    },
    "tags": []
   },
   "outputs": [
    {
     "data": {
      "text/plain": [
       "0"
      ]
     },
     "metadata": {},
     "output_type": "display_data"
    },
    {
     "data": {
      "text/plain": [
       "array([], dtype=float64)"
      ]
     },
     "metadata": {},
     "output_type": "display_data"
    }
   ],
   "source": [
    "# print negative eigenvalues\n",
    "eigs = np.linalg.eigvals(gene_corrs_df.to_numpy())\n",
    "display(len(eigs[eigs < 0]))\n",
    "display(eigs[eigs < 0])"
   ]
  },
  {
   "cell_type": "code",
   "execution_count": 39,
   "id": "6e218436-c3c5-4028-8c94-a4fa6260efce",
   "metadata": {
    "execution": {
     "iopub.execute_input": "2022-08-30T17:12:55.943543Z",
     "iopub.status.busy": "2022-08-30T17:12:55.943289Z",
     "iopub.status.idle": "2022-08-30T17:12:55.969094Z",
     "shell.execute_reply": "2022-08-30T17:12:55.968563Z"
    },
    "papermill": {
     "duration": 0.863099,
     "end_time": "2022-08-30T17:12:55.970566",
     "exception": false,
     "start_time": "2022-08-30T17:12:55.107467",
     "status": "completed"
    },
    "tags": []
   },
   "outputs": [
    {
     "name": "stdout",
     "output_type": "stream",
     "text": [
      "Works!\n"
     ]
    }
   ],
   "source": [
    "try:\n",
    "    chol_mat = np.linalg.cholesky(gene_corrs_df.to_numpy())\n",
    "    cov_inv = np.linalg.inv(chol_mat)\n",
    "    print(\"Works!\")\n",
    "except Exception as e:\n",
    "    print(f\"Cholesky decomposition failed: {str(e)}\")"
   ]
  },
  {
   "cell_type": "code",
   "execution_count": 40,
   "id": "dd8827fb-faf9-4c7c-9454-015e94752706",
   "metadata": {
    "execution": {
     "iopub.execute_input": "2022-08-30T17:12:57.651889Z",
     "iopub.status.busy": "2022-08-30T17:12:57.651627Z",
     "iopub.status.idle": "2022-08-30T17:12:57.674355Z",
     "shell.execute_reply": "2022-08-30T17:12:57.673796Z"
    },
    "papermill": {
     "duration": 0.869598,
     "end_time": "2022-08-30T17:12:57.675816",
     "exception": false,
     "start_time": "2022-08-30T17:12:56.806218",
     "status": "completed"
    },
    "tags": []
   },
   "outputs": [
    {
     "name": "stdout",
     "output_type": "stream",
     "text": [
      "Works!\n"
     ]
    }
   ],
   "source": [
    "try:\n",
    "    # decomposition used by statsmodels.GLS\n",
    "    cholsigmainv = np.linalg.cholesky(np.linalg.inv(gene_corrs_df.to_numpy())).T\n",
    "    print(\"Works!\")\n",
    "except Exception as e:\n",
    "    print(f\"Cholesky decomposition failed (statsmodels.GLS): {str(e)}\")"
   ]
  },
  {
   "cell_type": "markdown",
   "id": "8e60a080-edb2-4e9c-b2ef-22961693200c",
   "metadata": {
    "papermill": {
     "duration": 0.835124,
     "end_time": "2022-08-30T17:12:59.348208",
     "exception": false,
     "start_time": "2022-08-30T17:12:58.513084",
     "status": "completed"
    },
    "tags": []
   },
   "source": [
    "## Plot: distribution"
   ]
  },
  {
   "cell_type": "code",
   "execution_count": 41,
   "id": "8301126b-a7d4-4744-9c7d-f0f86eb6f54c",
   "metadata": {
    "execution": {
     "iopub.execute_input": "2022-08-30T17:13:01.021968Z",
     "iopub.status.busy": "2022-08-30T17:13:01.021704Z",
     "iopub.status.idle": "2022-08-30T17:13:06.142802Z",
     "shell.execute_reply": "2022-08-30T17:13:06.142273Z"
    },
    "papermill": {
     "duration": 5.959399,
     "end_time": "2022-08-30T17:13:06.144426",
     "exception": false,
     "start_time": "2022-08-30T17:13:00.185027",
     "status": "completed"
    },
    "tags": []
   },
   "outputs": [
    {
     "data": {
      "image/png": "[encoded data removed]",
      "text/plain": [
       "<Figure size 504x504 with 1 Axes>"
      ]
     },
     "metadata": {
      "needs_background": "light"
     },
     "output_type": "display_data"
    }
   ],
   "source": [
    "with sns.plotting_context(\"paper\", font_scale=1.5):\n",
    "    g = sns.displot(gene_corrs_flat, kde=True, height=7)\n",
    "    g.ax.set_title(\n",
    "        f\"Distribution of gene correlation values in chromosome {CHROMOSOME}\"\n",
    "    )"
   ]
  },
  {
   "cell_type": "markdown",
   "id": "cbd52bca-d878-4a2f-b684-5c83aa3038d4",
   "metadata": {
    "papermill": {
     "duration": 0.841006,
     "end_time": "2022-08-30T17:13:07.821596",
     "exception": false,
     "start_time": "2022-08-30T17:13:06.980590",
     "status": "completed"
    },
    "tags": []
   },
   "source": [
    "## Plot: heatmap"
   ]
  },
  {
   "cell_type": "code",
   "execution_count": 42,
   "id": "d03fe63a-c7b2-4fb9-a53c-db362ce843c9",
   "metadata": {
    "execution": {
     "iopub.execute_input": "2022-08-30T17:13:09.492357Z",
     "iopub.status.busy": "2022-08-30T17:13:09.492093Z",
     "iopub.status.idle": "2022-08-30T17:13:09.520102Z",
     "shell.execute_reply": "2022-08-30T17:13:09.519618Z"
    },
    "papermill": {
     "duration": 0.861621,
     "end_time": "2022-08-30T17:13:09.521514",
     "exception": false,
     "start_time": "2022-08-30T17:13:08.659893",
     "status": "completed"
    },
    "tags": []
   },
   "outputs": [
    {
     "data": {
      "text/plain": [
       "'0.0 / 0.05'"
      ]
     },
     "metadata": {},
     "output_type": "display_data"
    }
   ],
   "source": [
    "vmin_val = min(0.00, gene_corrs_quantiles[0.10])\n",
    "vmax_val = max(0.05, gene_corrs_quantiles[0.90])\n",
    "display(f\"{vmin_val} / {vmax_val}\")"
   ]
  },
  {
   "cell_type": "code",
   "execution_count": 43,
   "id": "dc41b70b-5bcc-4d9e-9f33-a22c4a94dab5",
   "metadata": {
    "execution": {
     "iopub.execute_input": "2022-08-30T17:13:11.227284Z",
     "iopub.status.busy": "2022-08-30T17:13:11.227000Z",
     "iopub.status.idle": "2022-08-30T17:13:11.411829Z",
     "shell.execute_reply": "2022-08-30T17:13:11.411069Z"
    },
    "papermill": {
     "duration": 1.048201,
     "end_time": "2022-08-30T17:13:11.413500",
     "exception": false,
     "start_time": "2022-08-30T17:13:10.365299",
     "status": "completed"
    },
    "tags": []
   },
   "outputs": [
    {
     "data": {
      "text/plain": [
       "Text(0.5, 1.0, 'Gene correlations in chromosome 22')"
      ]
     },
     "execution_count": 43,
     "metadata": {},
     "output_type": "execute_result"
    },
    {
     "data": {
      "image/png": "[encoded data removed]",
      "text/plain": [
       "<Figure size 720x720 with 2 Axes>"
      ]
     },
     "metadata": {
      "needs_background": "light"
     },
     "output_type": "display_data"
    }
   ],
   "source": [
    "f, ax = plt.subplots(figsize=(10, 10))\n",
    "sns.heatmap(\n",
    "    gene_corrs_df,\n",
    "    xticklabels=False,\n",
    "    yticklabels=False,\n",
    "    square=True,\n",
    "    vmin=vmin_val,\n",
    "    vmax=vmax_val,\n",
    "    cmap=\"rocket_r\",\n",
    "    ax=ax,\n",
    ")\n",
    "ax.set_title(f\"Gene correlations in chromosome {CHROMOSOME}\")"
   ]
  },
  {
   "cell_type": "code",
   "execution_count": null,
   "id": "b25e3ead",
   "metadata": {
    "papermill": {
     "duration": 0.802365,
     "end_time": "2022-08-30T17:13:13.060310",
     "exception": false,
     "start_time": "2022-08-30T17:13:12.257945",
     "status": "completed"
    },
    "tags": []
   },
   "outputs": [],
   "source": []
  }
 ],
 "metadata": {
  "jupytext": {
   "cell_metadata_filter": "all,-execution,-papermill,-trusted",
   "formats": "ipynb,py//py:percent"
  },
  "kernelspec": {
   "display_name": "Python 3 (ipykernel)",
   "language": "python",
   "name": "python3"
  },
  "language_info": {
   "codemirror_mode": {
    "name": "ipython",
    "version": 3
   },
   "file_extension": ".py",
   "mimetype": "text/x-python",
   "name": "python",
   "nbconvert_exporter": "python",
   "pygments_lexer": "ipython3",
   "version": "3.8.13"
  },
  "papermill": {
   "default_parameters": {},
   "duration": 1303.981991,
   "end_time": "2022-08-30T17:13:16.925095",
   "environment_variables": {},
   "exception": null,
   "input_path": "nbs/15_gsa_gls/10-gene_expr_correlations.ipynb",
   "output_path": "nbs/15_gsa_gls/gene_corrs/cohorts/emerge/gtex_v8/mashr/10-gene_expr_corrs/10-gene_expr_correlations-chr22.run.ipynb",
   "parameters": {
    "CHROMOSOME": 22,
    "COHORT_NAME": "emerge",
    "EQTL_MODEL": "MASHR",
    "REFERENCE_PANEL": "GTEX_V8"
   },
   "start_time": "2022-08-30T16:51:32.943104",
   "version": "2.2.2"
  }
 },
 "nbformat": 4,
 "nbformat_minor": 5
}
