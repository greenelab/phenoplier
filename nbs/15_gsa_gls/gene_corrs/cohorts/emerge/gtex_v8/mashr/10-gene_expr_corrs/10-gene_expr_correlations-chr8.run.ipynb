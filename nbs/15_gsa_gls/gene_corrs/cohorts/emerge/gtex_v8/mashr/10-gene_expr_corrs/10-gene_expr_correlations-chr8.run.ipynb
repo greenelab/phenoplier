{
 "cells": [
  {
   "cell_type": "markdown",
   "id": "7a6632fb",
   "metadata": {
    "papermill": {
     "duration": 0.021647,
     "end_time": "2022-08-30T16:51:36.557104",
     "exception": false,
     "start_time": "2022-08-30T16:51:36.535457",
     "status": "completed"
    },
    "tags": []
   },
   "source": [
    "# Description"
   ]
  },
  {
   "cell_type": "markdown",
   "id": "7097c346",
   "metadata": {
    "papermill": {
     "duration": 0.016025,
     "end_time": "2022-08-30T16:51:36.591382",
     "exception": false,
     "start_time": "2022-08-30T16:51:36.575357",
     "status": "completed"
    },
    "tags": []
   },
   "source": [
    "(Please, take a look at the README.md file in this directory for instructions on how to run this notebook)\n",
    "\n",
    "This notebook computes predicted expression correlations between all genes in the MultiPLIER models.\n",
    "\n",
    "It also has a parameter set for papermill to run on a single chromosome to run in parallel (see under `Settings` below).\n",
    "\n",
    "This notebook is not directly run. See README.md."
   ]
  },
  {
   "cell_type": "markdown",
   "id": "c61d8427",
   "metadata": {
    "papermill": {
     "duration": 0.014771,
     "end_time": "2022-08-30T16:51:36.621605",
     "exception": false,
     "start_time": "2022-08-30T16:51:36.606834",
     "status": "completed"
    },
    "tags": []
   },
   "source": [
    "# Modules"
   ]
  },
  {
   "cell_type": "code",
   "execution_count": 1,
   "id": "bbc0234f",
   "metadata": {
    "execution": {
     "iopub.execute_input": "2022-08-30T16:51:36.652943Z",
     "iopub.status.busy": "2022-08-30T16:51:36.652527Z",
     "iopub.status.idle": "2022-08-30T16:51:36.683770Z",
     "shell.execute_reply": "2022-08-30T16:51:36.682946Z"
    },
    "papermill": {
     "duration": 0.049968,
     "end_time": "2022-08-30T16:51:36.686654",
     "exception": false,
     "start_time": "2022-08-30T16:51:36.636686",
     "status": "completed"
    },
    "tags": []
   },
   "outputs": [],
   "source": [
    "%load_ext autoreload\n",
    "%autoreload 2"
   ]
  },
  {
   "cell_type": "code",
   "execution_count": 2,
   "id": "1d5f5a59",
   "metadata": {
    "execution": {
     "iopub.execute_input": "2022-08-30T16:51:36.715293Z",
     "iopub.status.busy": "2022-08-30T16:51:36.714981Z",
     "iopub.status.idle": "2022-08-30T16:51:40.301755Z",
     "shell.execute_reply": "2022-08-30T16:51:40.301200Z"
    },
    "papermill": {
     "duration": 3.603271,
     "end_time": "2022-08-30T16:51:40.303768",
     "exception": false,
     "start_time": "2022-08-30T16:51:36.700497",
     "status": "completed"
    },
    "tags": []
   },
   "outputs": [],
   "source": [
    "from random import sample, seed\n",
    "import warnings\n",
    "from pathlib import Path\n",
    "import pickle\n",
    "import traceback\n",
    "\n",
    "import numpy as np\n",
    "from scipy.spatial.distance import squareform\n",
    "import pandas as pd\n",
    "from tqdm import tqdm\n",
    "import matplotlib.pyplot as plt\n",
    "import seaborn as sns\n",
    "\n",
    "import conf\n",
    "from entity import Gene"
   ]
  },
  {
   "cell_type": "markdown",
   "id": "1eac24b5",
   "metadata": {
    "papermill": {
     "duration": 0.070154,
     "end_time": "2022-08-30T16:51:40.400546",
     "exception": false,
     "start_time": "2022-08-30T16:51:40.330392",
     "status": "completed"
    },
    "tags": []
   },
   "source": [
    "# Settings"
   ]
  },
  {
   "cell_type": "code",
   "execution_count": 3,
   "id": "ca4560ba",
   "metadata": {
    "execution": {
     "iopub.execute_input": "2022-08-30T16:51:40.483843Z",
     "iopub.status.busy": "2022-08-30T16:51:40.483228Z",
     "iopub.status.idle": "2022-08-30T16:51:40.528992Z",
     "shell.execute_reply": "2022-08-30T16:51:40.527980Z"
    },
    "papermill": {
     "duration": 0.093851,
     "end_time": "2022-08-30T16:51:40.532119",
     "exception": false,
     "start_time": "2022-08-30T16:51:40.438268",
     "status": "completed"
    },
    "tags": [
     "parameters"
    ]
   },
   "outputs": [],
   "source": [
    "# a cohort name (it could be something like UK_BIOBANK, etc)\n",
    "COHORT_NAME = None\n",
    "\n",
    "# reference panel such as 1000G or GTEX_V8\n",
    "REFERENCE_PANEL = None\n",
    "\n",
    "# predictions models such as MASHR or ELASTIC_NET\n",
    "EQTL_MODEL = None\n",
    "\n",
    "# this is the default value used in S-MultiXcan to select the\n",
    "# top principal components of the expression correlation matrix\n",
    "SMULTIXCAN_CONDITION_NUMBER = 30\n",
    "\n",
    "# specifies a single chromosome value\n",
    "CHROMOSOME = None\n",
    "\n",
    "# If True, computes the correlation between closeby genes only;\n",
    "# otherwise, it computes correlations for all genes in a chromosome\n",
    "COMPUTE_CORRELATIONS_WITHIN_DISTANCE = False\n",
    "\n",
    "# if True, then it will continue if a gene pair correlation fails,\n",
    "# printing the warning/error for debugging. If False, any warning/error\n",
    "# will be thrown\n",
    "DEBUG_MODE = False"
   ]
  },
  {
   "cell_type": "code",
   "execution_count": 4,
   "id": "77ded08a",
   "metadata": {
    "execution": {
     "iopub.execute_input": "2022-08-30T16:51:40.604870Z",
     "iopub.status.busy": "2022-08-30T16:51:40.604355Z",
     "iopub.status.idle": "2022-08-30T16:51:40.644020Z",
     "shell.execute_reply": "2022-08-30T16:51:40.643043Z"
    },
    "papermill": {
     "duration": 0.079585,
     "end_time": "2022-08-30T16:51:40.646903",
     "exception": false,
     "start_time": "2022-08-30T16:51:40.567318",
     "status": "completed"
    },
    "tags": [
     "injected-parameters"
    ]
   },
   "outputs": [],
   "source": [
    "# Parameters\n",
    "COHORT_NAME = \"emerge\"\n",
    "REFERENCE_PANEL = \"GTEX_V8\"\n",
    "EQTL_MODEL = \"MASHR\"\n",
    "CHROMOSOME = 8\n"
   ]
  },
  {
   "cell_type": "code",
   "execution_count": 5,
   "id": "3190631f-27fc-480f-b18e-571d580425a5",
   "metadata": {
    "execution": {
     "iopub.execute_input": "2022-08-30T16:51:40.731439Z",
     "iopub.status.busy": "2022-08-30T16:51:40.730907Z",
     "iopub.status.idle": "2022-08-30T16:51:40.779056Z",
     "shell.execute_reply": "2022-08-30T16:51:40.778126Z"
    },
    "papermill": {
     "duration": 0.091294,
     "end_time": "2022-08-30T16:51:40.781701",
     "exception": false,
     "start_time": "2022-08-30T16:51:40.690407",
     "status": "completed"
    },
    "tags": []
   },
   "outputs": [
    {
     "data": {
      "text/plain": [
       "'Cohort name: emerge'"
      ]
     },
     "metadata": {},
     "output_type": "display_data"
    }
   ],
   "source": [
    "assert COHORT_NAME is not None and len(COHORT_NAME) > 0, \"A cohort name must be given\"\n",
    "\n",
    "COHORT_NAME = COHORT_NAME.lower()\n",
    "display(f\"Cohort name: {COHORT_NAME}\")"
   ]
  },
  {
   "cell_type": "code",
   "execution_count": 6,
   "id": "f53ba19b-0f93-4fa2-a047-63b375939d1a",
   "metadata": {
    "execution": {
     "iopub.execute_input": "2022-08-30T16:51:40.877710Z",
     "iopub.status.busy": "2022-08-30T16:51:40.877209Z",
     "iopub.status.idle": "2022-08-30T16:51:40.921222Z",
     "shell.execute_reply": "2022-08-30T16:51:40.920314Z"
    },
    "papermill": {
     "duration": 0.101104,
     "end_time": "2022-08-30T16:51:40.923870",
     "exception": false,
     "start_time": "2022-08-30T16:51:40.822766",
     "status": "completed"
    },
    "tags": []
   },
   "outputs": [
    {
     "data": {
      "text/plain": [
       "'Reference panel: GTEX_V8'"
      ]
     },
     "metadata": {},
     "output_type": "display_data"
    }
   ],
   "source": [
    "assert (\n",
    "    REFERENCE_PANEL is not None and len(REFERENCE_PANEL) > 0\n",
    "), \"A reference panel must be given\"\n",
    "\n",
    "display(f\"Reference panel: {REFERENCE_PANEL}\")"
   ]
  },
  {
   "cell_type": "code",
   "execution_count": 7,
   "id": "e024d130-c139-429a-9c6e-ccf149e297b0",
   "metadata": {
    "execution": {
     "iopub.execute_input": "2022-08-30T16:51:40.991816Z",
     "iopub.status.busy": "2022-08-30T16:51:40.991269Z",
     "iopub.status.idle": "2022-08-30T16:51:41.038114Z",
     "shell.execute_reply": "2022-08-30T16:51:41.037076Z"
    },
    "papermill": {
     "duration": 0.088156,
     "end_time": "2022-08-30T16:51:41.040943",
     "exception": false,
     "start_time": "2022-08-30T16:51:40.952787",
     "status": "completed"
    },
    "tags": []
   },
   "outputs": [
    {
     "data": {
      "text/plain": [
       "'eQTL model: MASHR) / mashr_'"
      ]
     },
     "metadata": {},
     "output_type": "display_data"
    }
   ],
   "source": [
    "assert (\n",
    "    EQTL_MODEL is not None and len(EQTL_MODEL) > 0\n",
    "), \"A prediction/eQTL model must be given\"\n",
    "\n",
    "EQTL_MODEL_FILES_PREFIX = conf.PHENOMEXCAN[\"PREDICTION_MODELS\"][f\"{EQTL_MODEL}_PREFIX\"]\n",
    "display(f\"eQTL model: {EQTL_MODEL}) / {EQTL_MODEL_FILES_PREFIX}\")"
   ]
  },
  {
   "cell_type": "code",
   "execution_count": 8,
   "id": "552a7f63-a18c-4d3e-bb6a-94f99b431291",
   "metadata": {
    "execution": {
     "iopub.execute_input": "2022-08-30T16:51:41.090058Z",
     "iopub.status.busy": "2022-08-30T16:51:41.089679Z",
     "iopub.status.idle": "2022-08-30T16:51:41.127247Z",
     "shell.execute_reply": "2022-08-30T16:51:41.126327Z"
    },
    "papermill": {
     "duration": 0.065672,
     "end_time": "2022-08-30T16:51:41.129573",
     "exception": false,
     "start_time": "2022-08-30T16:51:41.063901",
     "status": "completed"
    },
    "tags": []
   },
   "outputs": [
    {
     "data": {
      "text/plain": [
       "'S-MultiXcan condition number: 30'"
      ]
     },
     "metadata": {},
     "output_type": "display_data"
    }
   ],
   "source": [
    "assert (\n",
    "    SMULTIXCAN_CONDITION_NUMBER is not None and SMULTIXCAN_CONDITION_NUMBER > 0\n",
    "), \"The S-MultiXcan condition number (positive integer) must be given\"\n",
    "\n",
    "display(f\"S-MultiXcan condition number: {SMULTIXCAN_CONDITION_NUMBER}\")"
   ]
  },
  {
   "cell_type": "code",
   "execution_count": 9,
   "id": "f34a336f-548e-4afe-8955-90eaea4f42c6",
   "metadata": {
    "execution": {
     "iopub.execute_input": "2022-08-30T16:51:41.159136Z",
     "iopub.status.busy": "2022-08-30T16:51:41.158823Z",
     "iopub.status.idle": "2022-08-30T16:51:41.190288Z",
     "shell.execute_reply": "2022-08-30T16:51:41.189435Z"
    },
    "papermill": {
     "duration": 0.049253,
     "end_time": "2022-08-30T16:51:41.192455",
     "exception": false,
     "start_time": "2022-08-30T16:51:41.143202",
     "status": "completed"
    },
    "tags": []
   },
   "outputs": [
    {
     "data": {
      "text/plain": [
       "'Working on chromosome 8'"
      ]
     },
     "metadata": {},
     "output_type": "display_data"
    }
   ],
   "source": [
    "assert CHROMOSOME is not None and (\n",
    "    1 <= CHROMOSOME <= 22\n",
    "), \"You have to select one chromosome (format: number between 1 and 22)\"\n",
    "\n",
    "# CHROMOSOME = str(CHROMOSOME)\n",
    "display(f\"Working on chromosome {CHROMOSOME}\")"
   ]
  },
  {
   "cell_type": "code",
   "execution_count": 10,
   "id": "ab8e96e8-06b5-4363-9dcd-dc4d78cc27f7",
   "metadata": {
    "execution": {
     "iopub.execute_input": "2022-08-30T16:51:41.218289Z",
     "iopub.status.busy": "2022-08-30T16:51:41.218020Z",
     "iopub.status.idle": "2022-08-30T16:51:41.245413Z",
     "shell.execute_reply": "2022-08-30T16:51:41.244780Z"
    },
    "papermill": {
     "duration": 0.042448,
     "end_time": "2022-08-30T16:51:41.247241",
     "exception": false,
     "start_time": "2022-08-30T16:51:41.204793",
     "status": "completed"
    },
    "tags": []
   },
   "outputs": [
    {
     "data": {
      "text/plain": [
       "'Compute correlation within distance False'"
      ]
     },
     "metadata": {},
     "output_type": "display_data"
    }
   ],
   "source": [
    "display(f\"Compute correlation within distance {COMPUTE_CORRELATIONS_WITHIN_DISTANCE}\")"
   ]
  },
  {
   "cell_type": "code",
   "execution_count": 11,
   "id": "396392dc-0340-4540-9b02-e182b833f909",
   "metadata": {
    "execution": {
     "iopub.execute_input": "2022-08-30T16:51:41.271521Z",
     "iopub.status.busy": "2022-08-30T16:51:41.271267Z",
     "iopub.status.idle": "2022-08-30T16:51:41.299242Z",
     "shell.execute_reply": "2022-08-30T16:51:41.298593Z"
    },
    "papermill": {
     "duration": 0.042212,
     "end_time": "2022-08-30T16:51:41.300993",
     "exception": false,
     "start_time": "2022-08-30T16:51:41.258781",
     "status": "completed"
    },
    "tags": []
   },
   "outputs": [
    {
     "data": {
      "text/plain": [
       "'Using output dir base: /project/ritchie20/projects/phenoplier/base/results/gls/gene_corrs/cohorts/emerge/gtex_v8/mashr'"
      ]
     },
     "metadata": {},
     "output_type": "display_data"
    }
   ],
   "source": [
    "OUTPUT_DIR_BASE = (\n",
    "    conf.RESULTS[\"GLS\"]\n",
    "    / \"gene_corrs\"\n",
    "    / \"cohorts\"\n",
    "    / COHORT_NAME\n",
    "    / REFERENCE_PANEL.lower()\n",
    "    / EQTL_MODEL.lower()\n",
    ")\n",
    "OUTPUT_DIR_BASE.mkdir(parents=True, exist_ok=True)\n",
    "\n",
    "display(f\"Using output dir base: {OUTPUT_DIR_BASE}\")"
   ]
  },
  {
   "cell_type": "markdown",
   "id": "d2ba085e",
   "metadata": {
    "papermill": {
     "duration": 0.010971,
     "end_time": "2022-08-30T16:51:41.323120",
     "exception": false,
     "start_time": "2022-08-30T16:51:41.312149",
     "status": "completed"
    },
    "tags": []
   },
   "source": [
    "# Load data"
   ]
  },
  {
   "cell_type": "markdown",
   "id": "7dcb8db7",
   "metadata": {
    "papermill": {
     "duration": 0.011012,
     "end_time": "2022-08-30T16:51:41.345692",
     "exception": false,
     "start_time": "2022-08-30T16:51:41.334680",
     "status": "completed"
    },
    "tags": []
   },
   "source": [
    "## GWAS variants"
   ]
  },
  {
   "cell_type": "code",
   "execution_count": 12,
   "id": "29434c4e-8cd3-4b9b-82e4-b5a251d9dd19",
   "metadata": {
    "execution": {
     "iopub.execute_input": "2022-08-30T16:51:41.371072Z",
     "iopub.status.busy": "2022-08-30T16:51:41.370833Z",
     "iopub.status.idle": "2022-08-30T16:51:43.858140Z",
     "shell.execute_reply": "2022-08-30T16:51:43.857323Z"
    },
    "papermill": {
     "duration": 2.502668,
     "end_time": "2022-08-30T16:51:43.860015",
     "exception": false,
     "start_time": "2022-08-30T16:51:41.357347",
     "status": "completed"
    },
    "tags": []
   },
   "outputs": [],
   "source": [
    "with open(OUTPUT_DIR_BASE / \"gwas_variant_ids.pkl\", \"rb\") as handle:\n",
    "    gwas_variants_ids_set = pickle.load(handle)"
   ]
  },
  {
   "cell_type": "code",
   "execution_count": 13,
   "id": "b9d9dec2-4a76-4bf9-bde2-e24c95acb8a0",
   "metadata": {
    "execution": {
     "iopub.execute_input": "2022-08-30T16:51:43.919441Z",
     "iopub.status.busy": "2022-08-30T16:51:43.919056Z",
     "iopub.status.idle": "2022-08-30T16:51:43.961677Z",
     "shell.execute_reply": "2022-08-30T16:51:43.960759Z"
    },
    "papermill": {
     "duration": 0.079961,
     "end_time": "2022-08-30T16:51:43.963901",
     "exception": false,
     "start_time": "2022-08-30T16:51:43.883940",
     "status": "completed"
    },
    "tags": []
   },
   "outputs": [
    {
     "data": {
      "text/plain": [
       "8376508"
      ]
     },
     "execution_count": 13,
     "metadata": {},
     "output_type": "execute_result"
    }
   ],
   "source": [
    "len(gwas_variants_ids_set)"
   ]
  },
  {
   "cell_type": "code",
   "execution_count": 14,
   "id": "4235b06a-6034-4ee4-a0a3-2ae35d122418",
   "metadata": {
    "execution": {
     "iopub.execute_input": "2022-08-30T16:51:44.007315Z",
     "iopub.status.busy": "2022-08-30T16:51:44.006989Z",
     "iopub.status.idle": "2022-08-30T16:51:44.518757Z",
     "shell.execute_reply": "2022-08-30T16:51:44.518139Z"
    },
    "papermill": {
     "duration": 0.536777,
     "end_time": "2022-08-30T16:51:44.520097",
     "exception": false,
     "start_time": "2022-08-30T16:51:43.983320",
     "status": "completed"
    },
    "tags": []
   },
   "outputs": [
    {
     "data": {
      "text/plain": [
       "['chr21_40184487_A_G_b38',\n",
       " 'chr3_188034177_T_A_b38',\n",
       " 'chr4_162280948_T_TC_b38',\n",
       " 'chr13_32154011_A_G_b38',\n",
       " 'chr4_80304129_A_G_b38']"
      ]
     },
     "execution_count": 14,
     "metadata": {},
     "output_type": "execute_result"
    }
   ],
   "source": [
    "list(gwas_variants_ids_set)[:5]"
   ]
  },
  {
   "cell_type": "markdown",
   "id": "07866999-2305-41f9-a144-e69c9122c212",
   "metadata": {
    "papermill": {
     "duration": 0.010601,
     "end_time": "2022-08-30T16:51:44.539663",
     "exception": false,
     "start_time": "2022-08-30T16:51:44.529062",
     "status": "completed"
    },
    "tags": []
   },
   "source": [
    "## S-PrediXcan tissue models"
   ]
  },
  {
   "cell_type": "code",
   "execution_count": 15,
   "id": "780611d9-77c8-405f-90a4-f271f7b09397",
   "metadata": {
    "execution": {
     "iopub.execute_input": "2022-08-30T16:51:44.564677Z",
     "iopub.status.busy": "2022-08-30T16:51:44.564476Z",
     "iopub.status.idle": "2022-08-30T16:51:45.371234Z",
     "shell.execute_reply": "2022-08-30T16:51:45.370687Z"
    },
    "papermill": {
     "duration": 0.821612,
     "end_time": "2022-08-30T16:51:45.372934",
     "exception": false,
     "start_time": "2022-08-30T16:51:44.551322",
     "status": "completed"
    },
    "tags": []
   },
   "outputs": [],
   "source": [
    "spredixcan_genes_models = pd.read_pickle(OUTPUT_DIR_BASE / \"gene_tissues.pkl\")"
   ]
  },
  {
   "cell_type": "code",
   "execution_count": 16,
   "id": "726dd1f6-9557-4225-91fa-b3b879ea96e1",
   "metadata": {
    "execution": {
     "iopub.execute_input": "2022-08-30T16:51:45.396669Z",
     "iopub.status.busy": "2022-08-30T16:51:45.396463Z",
     "iopub.status.idle": "2022-08-30T16:51:45.415839Z",
     "shell.execute_reply": "2022-08-30T16:51:45.415333Z"
    },
    "papermill": {
     "duration": 0.032902,
     "end_time": "2022-08-30T16:51:45.417161",
     "exception": false,
     "start_time": "2022-08-30T16:51:45.384259",
     "status": "completed"
    },
    "tags": []
   },
   "outputs": [
    {
     "data": {
      "text/plain": [
       "(6425, 3)"
      ]
     },
     "execution_count": 16,
     "metadata": {},
     "output_type": "execute_result"
    }
   ],
   "source": [
    "spredixcan_genes_models.shape"
   ]
  },
  {
   "cell_type": "code",
   "execution_count": 17,
   "id": "944a1b48-222c-4eb0-b252-b9de2cbca215",
   "metadata": {
    "execution": {
     "iopub.execute_input": "2022-08-30T16:51:45.451001Z",
     "iopub.status.busy": "2022-08-30T16:51:45.450819Z",
     "iopub.status.idle": "2022-08-30T16:51:45.481651Z",
     "shell.execute_reply": "2022-08-30T16:51:45.481092Z"
    },
    "papermill": {
     "duration": 0.051427,
     "end_time": "2022-08-30T16:51:45.482931",
     "exception": false,
     "start_time": "2022-08-30T16:51:45.431504",
     "status": "completed"
    },
    "tags": []
   },
   "outputs": [
    {
     "data": {
      "text/html": [
       "<div>\n",
       "<style scoped>\n",
       "    .dataframe tbody tr th:only-of-type {\n",
       "        vertical-align: middle;\n",
       "    }\n",
       "\n",
       "    .dataframe tbody tr th {\n",
       "        vertical-align: top;\n",
       "    }\n",
       "\n",
       "    .dataframe thead th {\n",
       "        text-align: right;\n",
       "    }\n",
       "</style>\n",
       "<table border=\"1\" class=\"dataframe\">\n",
       "  <thead>\n",
       "    <tr style=\"text-align: right;\">\n",
       "      <th></th>\n",
       "      <th>gene_name</th>\n",
       "      <th>tissue</th>\n",
       "      <th>n_tissues</th>\n",
       "    </tr>\n",
       "    <tr>\n",
       "      <th>gene_id</th>\n",
       "      <th></th>\n",
       "      <th></th>\n",
       "      <th></th>\n",
       "    </tr>\n",
       "  </thead>\n",
       "  <tbody>\n",
       "    <tr>\n",
       "      <th>ENSG00000000419</th>\n",
       "      <td>DPM1</td>\n",
       "      <td>(Brain_Hypothalamus, Brain_Substantia_nigra)</td>\n",
       "      <td>2</td>\n",
       "    </tr>\n",
       "    <tr>\n",
       "      <th>ENSG00000000938</th>\n",
       "      <td>FGR</td>\n",
       "      <td>(Liver, Nerve_Tibial, Esophagus_Gastroesophage...</td>\n",
       "      <td>26</td>\n",
       "    </tr>\n",
       "    <tr>\n",
       "      <th>ENSG00000000971</th>\n",
       "      <td>CFH</td>\n",
       "      <td>(Esophagus_Muscularis, Brain_Putamen_basal_gan...</td>\n",
       "      <td>34</td>\n",
       "    </tr>\n",
       "    <tr>\n",
       "      <th>ENSG00000001084</th>\n",
       "      <td>GCLC</td>\n",
       "      <td>(Brain_Putamen_basal_ganglia, Pancreas, Adrena...</td>\n",
       "      <td>32</td>\n",
       "    </tr>\n",
       "    <tr>\n",
       "      <th>ENSG00000001167</th>\n",
       "      <td>NFYA</td>\n",
       "      <td>(Esophagus_Muscularis, Brain_Putamen_basal_gan...</td>\n",
       "      <td>40</td>\n",
       "    </tr>\n",
       "  </tbody>\n",
       "</table>\n",
       "</div>"
      ],
      "text/plain": [
       "                gene_name                                             tissue  \\\n",
       "gene_id                                                                        \n",
       "ENSG00000000419      DPM1       (Brain_Hypothalamus, Brain_Substantia_nigra)   \n",
       "ENSG00000000938       FGR  (Liver, Nerve_Tibial, Esophagus_Gastroesophage...   \n",
       "ENSG00000000971       CFH  (Esophagus_Muscularis, Brain_Putamen_basal_gan...   \n",
       "ENSG00000001084      GCLC  (Brain_Putamen_basal_ganglia, Pancreas, Adrena...   \n",
       "ENSG00000001167      NFYA  (Esophagus_Muscularis, Brain_Putamen_basal_gan...   \n",
       "\n",
       "                 n_tissues  \n",
       "gene_id                     \n",
       "ENSG00000000419          2  \n",
       "ENSG00000000938         26  \n",
       "ENSG00000000971         34  \n",
       "ENSG00000001084         32  \n",
       "ENSG00000001167         40  "
      ]
     },
     "execution_count": 17,
     "metadata": {},
     "output_type": "execute_result"
    }
   ],
   "source": [
    "spredixcan_genes_models.head()"
   ]
  },
  {
   "cell_type": "code",
   "execution_count": 18,
   "id": "d1c11bb1-be0b-4f40-b360-633d6827109f",
   "metadata": {
    "execution": {
     "iopub.execute_input": "2022-08-30T16:51:45.525717Z",
     "iopub.status.busy": "2022-08-30T16:51:45.525399Z",
     "iopub.status.idle": "2022-08-30T16:51:45.555072Z",
     "shell.execute_reply": "2022-08-30T16:51:45.554284Z"
    },
    "papermill": {
     "duration": 0.057536,
     "end_time": "2022-08-30T16:51:45.557250",
     "exception": false,
     "start_time": "2022-08-30T16:51:45.499714",
     "status": "completed"
    },
    "tags": []
   },
   "outputs": [],
   "source": [
    "assert spredixcan_genes_models.index.is_unique"
   ]
  },
  {
   "cell_type": "markdown",
   "id": "a5b5092c-a13e-47c4-a92a-480fcc08f3ae",
   "metadata": {
    "papermill": {
     "duration": 0.023271,
     "end_time": "2022-08-30T16:51:45.608756",
     "exception": false,
     "start_time": "2022-08-30T16:51:45.585485",
     "status": "completed"
    },
    "tags": []
   },
   "source": [
    "## Gene info"
   ]
  },
  {
   "cell_type": "code",
   "execution_count": 19,
   "id": "7d6bb224-88e9-4358-ac10-43a41d92cdad",
   "metadata": {
    "execution": {
     "iopub.execute_input": "2022-08-30T16:51:45.657679Z",
     "iopub.status.busy": "2022-08-30T16:51:45.657307Z",
     "iopub.status.idle": "2022-08-30T16:51:45.703027Z",
     "shell.execute_reply": "2022-08-30T16:51:45.702244Z"
    },
    "papermill": {
     "duration": 0.070393,
     "end_time": "2022-08-30T16:51:45.705592",
     "exception": false,
     "start_time": "2022-08-30T16:51:45.635199",
     "status": "completed"
    },
    "tags": []
   },
   "outputs": [],
   "source": [
    "genes_info = pd.read_pickle(OUTPUT_DIR_BASE / \"genes_info.pkl\")"
   ]
  },
  {
   "cell_type": "code",
   "execution_count": 20,
   "id": "9e32abfa-546d-483e-8c18-d526e9e05903",
   "metadata": {
    "execution": {
     "iopub.execute_input": "2022-08-30T16:51:45.749244Z",
     "iopub.status.busy": "2022-08-30T16:51:45.748938Z",
     "iopub.status.idle": "2022-08-30T16:51:45.780561Z",
     "shell.execute_reply": "2022-08-30T16:51:45.779901Z"
    },
    "papermill": {
     "duration": 0.05663,
     "end_time": "2022-08-30T16:51:45.782667",
     "exception": false,
     "start_time": "2022-08-30T16:51:45.726037",
     "status": "completed"
    },
    "tags": []
   },
   "outputs": [
    {
     "data": {
      "text/plain": [
       "(6425, 7)"
      ]
     },
     "execution_count": 20,
     "metadata": {},
     "output_type": "execute_result"
    }
   ],
   "source": [
    "genes_info.shape"
   ]
  },
  {
   "cell_type": "code",
   "execution_count": 21,
   "id": "d16c3e92-85ec-468a-9a56-e25a9774a1cb",
   "metadata": {
    "execution": {
     "iopub.execute_input": "2022-08-30T16:51:45.838972Z",
     "iopub.status.busy": "2022-08-30T16:51:45.838599Z",
     "iopub.status.idle": "2022-08-30T16:51:45.879968Z",
     "shell.execute_reply": "2022-08-30T16:51:45.879147Z"
    },
    "papermill": {
     "duration": 0.078189,
     "end_time": "2022-08-30T16:51:45.882172",
     "exception": false,
     "start_time": "2022-08-30T16:51:45.803983",
     "status": "completed"
    },
    "tags": []
   },
   "outputs": [
    {
     "data": {
      "text/html": [
       "<div>\n",
       "<style scoped>\n",
       "    .dataframe tbody tr th:only-of-type {\n",
       "        vertical-align: middle;\n",
       "    }\n",
       "\n",
       "    .dataframe tbody tr th {\n",
       "        vertical-align: top;\n",
       "    }\n",
       "\n",
       "    .dataframe thead th {\n",
       "        text-align: right;\n",
       "    }\n",
       "</style>\n",
       "<table border=\"1\" class=\"dataframe\">\n",
       "  <thead>\n",
       "    <tr style=\"text-align: right;\">\n",
       "      <th></th>\n",
       "      <th>name</th>\n",
       "      <th>id</th>\n",
       "      <th>chr</th>\n",
       "      <th>band</th>\n",
       "      <th>start_position</th>\n",
       "      <th>end_position</th>\n",
       "      <th>gene_length</th>\n",
       "    </tr>\n",
       "  </thead>\n",
       "  <tbody>\n",
       "    <tr>\n",
       "      <th>0</th>\n",
       "      <td>ADAMTS14</td>\n",
       "      <td>ENSG00000138316</td>\n",
       "      <td>10</td>\n",
       "      <td>10q22.1</td>\n",
       "      <td>70672506</td>\n",
       "      <td>70762441</td>\n",
       "      <td>89935</td>\n",
       "    </tr>\n",
       "    <tr>\n",
       "      <th>1</th>\n",
       "      <td>TXN</td>\n",
       "      <td>ENSG00000136810</td>\n",
       "      <td>9</td>\n",
       "      <td>9q31.3</td>\n",
       "      <td>110243810</td>\n",
       "      <td>110256507</td>\n",
       "      <td>12697</td>\n",
       "    </tr>\n",
       "    <tr>\n",
       "      <th>2</th>\n",
       "      <td>RMI1</td>\n",
       "      <td>ENSG00000178966</td>\n",
       "      <td>9</td>\n",
       "      <td>9q21.32</td>\n",
       "      <td>83980711</td>\n",
       "      <td>84004074</td>\n",
       "      <td>23363</td>\n",
       "    </tr>\n",
       "    <tr>\n",
       "      <th>3</th>\n",
       "      <td>DHX58</td>\n",
       "      <td>ENSG00000108771</td>\n",
       "      <td>17</td>\n",
       "      <td>17q21.2</td>\n",
       "      <td>42101404</td>\n",
       "      <td>42112714</td>\n",
       "      <td>11310</td>\n",
       "    </tr>\n",
       "    <tr>\n",
       "      <th>4</th>\n",
       "      <td>XRCC4</td>\n",
       "      <td>ENSG00000152422</td>\n",
       "      <td>5</td>\n",
       "      <td>5q14.2</td>\n",
       "      <td>83077498</td>\n",
       "      <td>83353787</td>\n",
       "      <td>276289</td>\n",
       "    </tr>\n",
       "  </tbody>\n",
       "</table>\n",
       "</div>"
      ],
      "text/plain": [
       "       name               id  chr     band  start_position  end_position  \\\n",
       "0  ADAMTS14  ENSG00000138316   10  10q22.1        70672506      70762441   \n",
       "1       TXN  ENSG00000136810    9   9q31.3       110243810     110256507   \n",
       "2      RMI1  ENSG00000178966    9  9q21.32        83980711      84004074   \n",
       "3     DHX58  ENSG00000108771   17  17q21.2        42101404      42112714   \n",
       "4     XRCC4  ENSG00000152422    5   5q14.2        83077498      83353787   \n",
       "\n",
       "   gene_length  \n",
       "0        89935  \n",
       "1        12697  \n",
       "2        23363  \n",
       "3        11310  \n",
       "4       276289  "
      ]
     },
     "execution_count": 21,
     "metadata": {},
     "output_type": "execute_result"
    }
   ],
   "source": [
    "genes_info.head()"
   ]
  },
  {
   "cell_type": "markdown",
   "id": "d3843e06",
   "metadata": {
    "papermill": {
     "duration": 0.026793,
     "end_time": "2022-08-30T16:51:45.938952",
     "exception": false,
     "start_time": "2022-08-30T16:51:45.912159",
     "status": "completed"
    },
    "tags": []
   },
   "source": [
    "# Compute correlations"
   ]
  },
  {
   "cell_type": "code",
   "execution_count": 22,
   "id": "cb859c15-d1f3-4006-a74c-2b83c0db9611",
   "metadata": {
    "execution": {
     "iopub.execute_input": "2022-08-30T16:51:46.003037Z",
     "iopub.status.busy": "2022-08-30T16:51:46.002538Z",
     "iopub.status.idle": "2022-08-30T16:51:46.053314Z",
     "shell.execute_reply": "2022-08-30T16:51:46.052281Z"
    },
    "papermill": {
     "duration": 0.090007,
     "end_time": "2022-08-30T16:51:46.056114",
     "exception": false,
     "start_time": "2022-08-30T16:51:45.966107",
     "status": "completed"
    },
    "tags": []
   },
   "outputs": [
    {
     "data": {
      "text/plain": [
       "PosixPath('/project/ritchie20/projects/phenoplier/base/results/gls/gene_corrs/cohorts/emerge/gtex_v8/mashr/by_chr/gene_corrs-chr8.pkl')"
      ]
     },
     "metadata": {},
     "output_type": "display_data"
    }
   ],
   "source": [
    "output_dir = OUTPUT_DIR_BASE / \"by_chr\"\n",
    "output_dir.mkdir(exist_ok=True, parents=True)\n",
    "output_file = output_dir / f\"gene_corrs-chr{CHROMOSOME}.pkl\"\n",
    "display(output_file)"
   ]
  },
  {
   "cell_type": "code",
   "execution_count": 23,
   "id": "aa674fe4-6794-4eed-98fa-32b39d1d4ace",
   "metadata": {
    "execution": {
     "iopub.execute_input": "2022-08-30T16:51:46.126513Z",
     "iopub.status.busy": "2022-08-30T16:51:46.126065Z",
     "iopub.status.idle": "2022-08-30T16:51:46.164327Z",
     "shell.execute_reply": "2022-08-30T16:51:46.163445Z"
    },
    "papermill": {
     "duration": 0.074637,
     "end_time": "2022-08-30T16:51:46.167205",
     "exception": false,
     "start_time": "2022-08-30T16:51:46.092568",
     "status": "completed"
    },
    "tags": []
   },
   "outputs": [],
   "source": [
    "warnings.filterwarnings(\"error\")"
   ]
  },
  {
   "cell_type": "code",
   "execution_count": 24,
   "id": "44d5450b-3baf-43f1-9e2e-4b06f1a785f8",
   "metadata": {
    "execution": {
     "iopub.execute_input": "2022-08-30T16:51:46.219452Z",
     "iopub.status.busy": "2022-08-30T16:51:46.219112Z",
     "iopub.status.idle": "2022-08-30T16:51:46.251193Z",
     "shell.execute_reply": "2022-08-30T16:51:46.250317Z"
    },
    "papermill": {
     "duration": 0.060142,
     "end_time": "2022-08-30T16:51:46.253590",
     "exception": false,
     "start_time": "2022-08-30T16:51:46.193448",
     "status": "completed"
    },
    "tags": []
   },
   "outputs": [],
   "source": [
    "# standard checks\n",
    "all_chrs = genes_info[\"chr\"].dropna().unique()\n",
    "assert all_chrs.shape[0] == 22\n",
    "\n",
    "# select chromosome given by the user\n",
    "assert CHROMOSOME in all_chrs"
   ]
  },
  {
   "cell_type": "code",
   "execution_count": 25,
   "id": "2d7c043c-92a7-4d35-991b-fa69ac1e0268",
   "metadata": {
    "execution": {
     "iopub.execute_input": "2022-08-30T16:51:46.301281Z",
     "iopub.status.busy": "2022-08-30T16:51:46.300995Z",
     "iopub.status.idle": "2022-08-30T16:51:46.411445Z",
     "shell.execute_reply": "2022-08-30T16:51:46.410241Z"
    },
    "papermill": {
     "duration": 0.138573,
     "end_time": "2022-08-30T16:51:46.415558",
     "exception": false,
     "start_time": "2022-08-30T16:51:46.276985",
     "status": "completed"
    },
    "tags": []
   },
   "outputs": [
    {
     "name": "stdout",
     "output_type": "stream",
     "text": [
      "Number of genes in chromosome: 221\n"
     ]
    }
   ],
   "source": [
    "# run only on the chromosome specified\n",
    "all_chrs = [CHROMOSOME]\n",
    "genes_chr = genes_info[genes_info[\"chr\"] == CHROMOSOME]\n",
    "\n",
    "# For testing purposes\n",
    "# genes_chr = genes_chr.sample(n=20)\n",
    "\n",
    "print(f\"Number of genes in chromosome: {genes_chr.shape[0]}\", flush=True)"
   ]
  },
  {
   "cell_type": "code",
   "execution_count": 26,
   "id": "916015d8-2979-46d3-a9b9-1cf5a0932c6a",
   "metadata": {
    "execution": {
     "iopub.execute_input": "2022-08-30T16:51:46.472823Z",
     "iopub.status.busy": "2022-08-30T16:51:46.472323Z",
     "iopub.status.idle": "2022-08-30T16:51:46.517774Z",
     "shell.execute_reply": "2022-08-30T16:51:46.516817Z"
    },
    "papermill": {
     "duration": 0.077261,
     "end_time": "2022-08-30T16:51:46.520665",
     "exception": false,
     "start_time": "2022-08-30T16:51:46.443404",
     "status": "completed"
    },
    "tags": []
   },
   "outputs": [],
   "source": [
    "# sort genes by starting position to make visualizations better later\n",
    "genes_chr = genes_chr.sort_values(\"start_position\")"
   ]
  },
  {
   "cell_type": "code",
   "execution_count": 27,
   "id": "a38aa74a-8ad3-47f6-8ef9-56be0e011774",
   "metadata": {
    "execution": {
     "iopub.execute_input": "2022-08-30T16:51:46.566151Z",
     "iopub.status.busy": "2022-08-30T16:51:46.565828Z",
     "iopub.status.idle": "2022-08-30T16:51:46.597508Z",
     "shell.execute_reply": "2022-08-30T16:51:46.596763Z"
    },
    "papermill": {
     "duration": 0.058296,
     "end_time": "2022-08-30T16:51:46.599929",
     "exception": false,
     "start_time": "2022-08-30T16:51:46.541633",
     "status": "completed"
    },
    "tags": []
   },
   "outputs": [],
   "source": [
    "gene_chr_objs = [Gene(ensembl_id=gene_id) for gene_id in genes_chr[\"id\"]]"
   ]
  },
  {
   "cell_type": "code",
   "execution_count": 28,
   "id": "570f974f-13c3-42b6-ad3a-ce99ca885c1a",
   "metadata": {
    "execution": {
     "iopub.execute_input": "2022-08-30T16:51:46.642700Z",
     "iopub.status.busy": "2022-08-30T16:51:46.642400Z",
     "iopub.status.idle": "2022-08-30T16:51:46.672461Z",
     "shell.execute_reply": "2022-08-30T16:51:46.671661Z"
    },
    "papermill": {
     "duration": 0.05455,
     "end_time": "2022-08-30T16:51:46.674642",
     "exception": false,
     "start_time": "2022-08-30T16:51:46.620092",
     "status": "completed"
    },
    "tags": []
   },
   "outputs": [
    {
     "name": "stdout",
     "output_type": "stream",
     "text": [
      "Number of gene combinations: 24531\n"
     ]
    }
   ],
   "source": [
    "n = len(gene_chr_objs)\n",
    "# diagonal elements + upper triangular matrix\n",
    "n_comb = n + int(n * (n - 1) / 2.0)\n",
    "print(f\"Number of gene combinations: {n_comb}\", flush=True)"
   ]
  },
  {
   "cell_type": "code",
   "execution_count": 29,
   "id": "cdbb90a1",
   "metadata": {
    "execution": {
     "iopub.execute_input": "2022-08-30T16:51:46.715733Z",
     "iopub.status.busy": "2022-08-30T16:51:46.715458Z",
     "iopub.status.idle": "2022-08-30T17:14:08.482122Z",
     "shell.execute_reply": "2022-08-30T17:14:08.480488Z"
    },
    "papermill": {
     "duration": 1341.794844,
     "end_time": "2022-08-30T17:14:08.486413",
     "exception": false,
     "start_time": "2022-08-30T16:51:46.691569",
     "status": "completed"
    },
    "tags": []
   },
   "outputs": [
    {
     "name": "stderr",
     "output_type": "stream",
     "text": [
      "ENSG00000196150 / ENSG00000196150: 100%|██████████████████████| 24531/24531 [22:21<00:00, 18.29it/s]\n"
     ]
    },
    {
     "data": {
      "text/plain": [
       "PosixPath('/project/ritchie20/projects/phenoplier/base/results/gls/gene_corrs/cohorts/emerge/gtex_v8/mashr/by_chr/gene_corrs-chr8.pkl')"
      ]
     },
     "metadata": {},
     "output_type": "display_data"
    }
   ],
   "source": [
    "gene_corrs = []\n",
    "gene_corrs_data = np.full(\n",
    "    (n, n),\n",
    "    np.nan,\n",
    "    dtype=np.float64,\n",
    ")\n",
    "\n",
    "i = 0\n",
    "with tqdm(ncols=100, total=n_comb) as pbar:\n",
    "    for gene1_idx in range(0, len(gene_chr_objs)):\n",
    "        gene1_obj = gene_chr_objs[gene1_idx]\n",
    "        gene1_tissues = spredixcan_genes_models.loc[gene1_obj.ensembl_id, \"tissue\"]\n",
    "\n",
    "        for gene2_idx in range(gene1_idx, len(gene_chr_objs)):\n",
    "            gene2_obj = gene_chr_objs[gene2_idx]\n",
    "            gene2_tissues = spredixcan_genes_models.loc[gene2_obj.ensembl_id, \"tissue\"]\n",
    "\n",
    "            pbar.set_description(f\"{gene1_obj.ensembl_id} / {gene2_obj.ensembl_id}\")\n",
    "\n",
    "            try:\n",
    "                r = gene1_obj.get_ssm_correlation(\n",
    "                    other_gene=gene2_obj,\n",
    "                    tissues=gene1_tissues,\n",
    "                    other_tissues=gene2_tissues,\n",
    "                    snps_subset=gwas_variants_ids_set,\n",
    "                    condition_number=SMULTIXCAN_CONDITION_NUMBER,\n",
    "                    reference_panel=REFERENCE_PANEL,\n",
    "                    model_type=EQTL_MODEL,\n",
    "                    use_within_distance=COMPUTE_CORRELATIONS_WITHIN_DISTANCE,\n",
    "                )\n",
    "\n",
    "                if r is None:\n",
    "                    # if r is None, it's very likely because:\n",
    "                    #  * one of the genes has no prediction models\n",
    "                    #  * all the SNPs predictors for the gene are not present in the reference\n",
    "                    #    panel\n",
    "\n",
    "                    r = 0.0\n",
    "\n",
    "                gene_corrs.append(r)\n",
    "\n",
    "                gene_corrs_data[gene1_idx, gene2_idx] = r\n",
    "                gene_corrs_data[gene2_idx, gene1_idx] = r\n",
    "            except Warning as e:\n",
    "                if not DEBUG_MODE:\n",
    "                    raise e\n",
    "\n",
    "                print(\n",
    "                    f\"RuntimeWarning for genes {gene1_obj.ensembl_id} and {gene2_obj.ensembl_id}\",\n",
    "                    flush=True,\n",
    "                )\n",
    "                print(traceback.format_exc(), flush=True)\n",
    "\n",
    "                gene_corrs.append(np.nan)\n",
    "            except Exception as e:\n",
    "                if not DEBUG_MODE:\n",
    "                    raise e\n",
    "\n",
    "                print(\n",
    "                    f\"Exception for genes {gene1_obj.ensembl_id} and {gene2_obj.ensembl_id}\",\n",
    "                    flush=True,\n",
    "                )\n",
    "                print(traceback.format_exc(), flush=True)\n",
    "\n",
    "                gene_corrs.append(np.nan)\n",
    "\n",
    "            pbar.update(1)\n",
    "\n",
    "# create a pandas series\n",
    "gene_corrs_flat = pd.Series(gene_corrs)\n",
    "\n",
    "# save\n",
    "# FIXME: consider saving only the condenced matrix here. See here for\n",
    "# more details: https://github.com/greenelab/phenoplier/pull/38#discussion_r634600813\n",
    "# gene_corrs_data = squareform(np.array(gene_corrs, dtype=np.float64))\n",
    "# np.fill_diagonal(gene_corrs_data, 1.0)\n",
    "\n",
    "gene_chr_ids = [g.ensembl_id for g in gene_chr_objs]\n",
    "gene_corrs_df = pd.DataFrame(\n",
    "    data=gene_corrs_data,\n",
    "    index=gene_chr_ids,\n",
    "    columns=gene_chr_ids,\n",
    ")\n",
    "\n",
    "output_dir.mkdir(exist_ok=True, parents=True)\n",
    "display(output_file)\n",
    "\n",
    "gene_corrs_df.to_pickle(output_file)"
   ]
  },
  {
   "cell_type": "markdown",
   "id": "faa67b51-5373-470f-aa72-2ded53fa6dfe",
   "metadata": {
    "papermill": {
     "duration": 1.126306,
     "end_time": "2022-08-30T17:14:10.875558",
     "exception": false,
     "start_time": "2022-08-30T17:14:09.749252",
     "status": "completed"
    },
    "tags": []
   },
   "source": [
    "# Testing"
   ]
  },
  {
   "cell_type": "code",
   "execution_count": 30,
   "id": "14f7d046-4b55-4896-a56b-990127bcc388",
   "metadata": {
    "execution": {
     "iopub.execute_input": "2022-08-30T17:14:13.160950Z",
     "iopub.status.busy": "2022-08-30T17:14:13.160705Z",
     "iopub.status.idle": "2022-08-30T17:14:13.468348Z",
     "shell.execute_reply": "2022-08-30T17:14:13.467146Z"
    },
    "papermill": {
     "duration": 1.473893,
     "end_time": "2022-08-30T17:14:13.472230",
     "exception": false,
     "start_time": "2022-08-30T17:14:11.998337",
     "status": "completed"
    },
    "tags": []
   },
   "outputs": [
    {
     "data": {
      "text/plain": [
       "(221, 221)"
      ]
     },
     "execution_count": 30,
     "metadata": {},
     "output_type": "execute_result"
    }
   ],
   "source": [
    "gene_corrs_df.shape"
   ]
  },
  {
   "cell_type": "code",
   "execution_count": 31,
   "id": "c7d15414-3297-4537-a7c6-7588c0baeb75",
   "metadata": {
    "execution": {
     "iopub.execute_input": "2022-08-30T17:14:15.796266Z",
     "iopub.status.busy": "2022-08-30T17:14:15.796029Z",
     "iopub.status.idle": "2022-08-30T17:14:15.831914Z",
     "shell.execute_reply": "2022-08-30T17:14:15.831515Z"
    },
    "papermill": {
     "duration": 1.153686,
     "end_time": "2022-08-30T17:14:15.833191",
     "exception": false,
     "start_time": "2022-08-30T17:14:14.679505",
     "status": "completed"
    },
    "tags": []
   },
   "outputs": [
    {
     "data": {
      "text/html": [
       "<div>\n",
       "<style scoped>\n",
       "    .dataframe tbody tr th:only-of-type {\n",
       "        vertical-align: middle;\n",
       "    }\n",
       "\n",
       "    .dataframe tbody tr th {\n",
       "        vertical-align: top;\n",
       "    }\n",
       "\n",
       "    .dataframe thead th {\n",
       "        text-align: right;\n",
       "    }\n",
       "</style>\n",
       "<table border=\"1\" class=\"dataframe\">\n",
       "  <thead>\n",
       "    <tr style=\"text-align: right;\">\n",
       "      <th></th>\n",
       "      <th>ENSG00000172748</th>\n",
       "      <th>ENSG00000182372</th>\n",
       "      <th>ENSG00000104728</th>\n",
       "      <th>ENSG00000036448</th>\n",
       "      <th>ENSG00000091879</th>\n",
       "      <th>ENSG00000155189</th>\n",
       "      <th>ENSG00000164821</th>\n",
       "      <th>ENSG00000253958</th>\n",
       "      <th>ENSG00000147324</th>\n",
       "      <th>ENSG00000173281</th>\n",
       "      <th>...</th>\n",
       "      <th>ENSG00000071894</th>\n",
       "      <th>ENSG00000147804</th>\n",
       "      <th>ENSG00000160948</th>\n",
       "      <th>ENSG00000160949</th>\n",
       "      <th>ENSG00000187954</th>\n",
       "      <th>ENSG00000160972</th>\n",
       "      <th>ENSG00000167701</th>\n",
       "      <th>ENSG00000161016</th>\n",
       "      <th>ENSG00000197363</th>\n",
       "      <th>ENSG00000196150</th>\n",
       "    </tr>\n",
       "  </thead>\n",
       "  <tbody>\n",
       "    <tr>\n",
       "      <th>ENSG00000172748</th>\n",
       "      <td>1.000000</td>\n",
       "      <td>0.008203</td>\n",
       "      <td>0.012982</td>\n",
       "      <td>0.011130</td>\n",
       "      <td>0.008627</td>\n",
       "      <td>0.009669</td>\n",
       "      <td>0.008393</td>\n",
       "      <td>0.005256</td>\n",
       "      <td>0.011801</td>\n",
       "      <td>0.009020</td>\n",
       "      <td>...</td>\n",
       "      <td>0.001993</td>\n",
       "      <td>0.006521</td>\n",
       "      <td>0.004225</td>\n",
       "      <td>0.006686</td>\n",
       "      <td>0.004219</td>\n",
       "      <td>0.006528</td>\n",
       "      <td>0.004982</td>\n",
       "      <td>0.003141</td>\n",
       "      <td>0.005853</td>\n",
       "      <td>0.004734</td>\n",
       "    </tr>\n",
       "    <tr>\n",
       "      <th>ENSG00000182372</th>\n",
       "      <td>0.008203</td>\n",
       "      <td>1.000000</td>\n",
       "      <td>0.183324</td>\n",
       "      <td>0.008967</td>\n",
       "      <td>0.007909</td>\n",
       "      <td>0.006291</td>\n",
       "      <td>0.007841</td>\n",
       "      <td>0.004634</td>\n",
       "      <td>0.007929</td>\n",
       "      <td>0.008676</td>\n",
       "      <td>...</td>\n",
       "      <td>0.001879</td>\n",
       "      <td>0.005246</td>\n",
       "      <td>0.000381</td>\n",
       "      <td>0.003761</td>\n",
       "      <td>0.003516</td>\n",
       "      <td>0.008463</td>\n",
       "      <td>0.003099</td>\n",
       "      <td>0.000870</td>\n",
       "      <td>0.004974</td>\n",
       "      <td>0.004808</td>\n",
       "    </tr>\n",
       "    <tr>\n",
       "      <th>ENSG00000104728</th>\n",
       "      <td>0.012982</td>\n",
       "      <td>0.183324</td>\n",
       "      <td>1.000000</td>\n",
       "      <td>0.043351</td>\n",
       "      <td>0.015483</td>\n",
       "      <td>0.016861</td>\n",
       "      <td>0.014452</td>\n",
       "      <td>0.007382</td>\n",
       "      <td>0.013822</td>\n",
       "      <td>0.013567</td>\n",
       "      <td>...</td>\n",
       "      <td>0.006525</td>\n",
       "      <td>0.013146</td>\n",
       "      <td>0.007281</td>\n",
       "      <td>0.008260</td>\n",
       "      <td>0.012604</td>\n",
       "      <td>0.010881</td>\n",
       "      <td>0.011625</td>\n",
       "      <td>0.003821</td>\n",
       "      <td>0.010292</td>\n",
       "      <td>0.010636</td>\n",
       "    </tr>\n",
       "    <tr>\n",
       "      <th>ENSG00000036448</th>\n",
       "      <td>0.011130</td>\n",
       "      <td>0.008967</td>\n",
       "      <td>0.043351</td>\n",
       "      <td>1.000000</td>\n",
       "      <td>0.007939</td>\n",
       "      <td>0.011187</td>\n",
       "      <td>0.008793</td>\n",
       "      <td>0.007897</td>\n",
       "      <td>0.009727</td>\n",
       "      <td>0.005983</td>\n",
       "      <td>...</td>\n",
       "      <td>0.005521</td>\n",
       "      <td>0.007367</td>\n",
       "      <td>0.004077</td>\n",
       "      <td>0.003985</td>\n",
       "      <td>0.004584</td>\n",
       "      <td>0.008044</td>\n",
       "      <td>0.006827</td>\n",
       "      <td>0.002073</td>\n",
       "      <td>0.004038</td>\n",
       "      <td>0.007131</td>\n",
       "    </tr>\n",
       "    <tr>\n",
       "      <th>ENSG00000091879</th>\n",
       "      <td>0.008627</td>\n",
       "      <td>0.007909</td>\n",
       "      <td>0.015483</td>\n",
       "      <td>0.007939</td>\n",
       "      <td>1.000000</td>\n",
       "      <td>0.098748</td>\n",
       "      <td>0.032149</td>\n",
       "      <td>0.005413</td>\n",
       "      <td>0.011595</td>\n",
       "      <td>0.006861</td>\n",
       "      <td>...</td>\n",
       "      <td>0.004385</td>\n",
       "      <td>0.005745</td>\n",
       "      <td>0.003638</td>\n",
       "      <td>0.002783</td>\n",
       "      <td>0.004476</td>\n",
       "      <td>0.006157</td>\n",
       "      <td>0.007570</td>\n",
       "      <td>0.000583</td>\n",
       "      <td>0.001599</td>\n",
       "      <td>0.002434</td>\n",
       "    </tr>\n",
       "  </tbody>\n",
       "</table>\n",
       "<p>5 rows × 221 columns</p>\n",
       "</div>"
      ],
      "text/plain": [
       "                 ENSG00000172748  ENSG00000182372  ENSG00000104728  \\\n",
       "ENSG00000172748         1.000000         0.008203         0.012982   \n",
       "ENSG00000182372         0.008203         1.000000         0.183324   \n",
       "ENSG00000104728         0.012982         0.183324         1.000000   \n",
       "ENSG00000036448         0.011130         0.008967         0.043351   \n",
       "ENSG00000091879         0.008627         0.007909         0.015483   \n",
       "\n",
       "                 ENSG00000036448  ENSG00000091879  ENSG00000155189  \\\n",
       "ENSG00000172748         0.011130         0.008627         0.009669   \n",
       "ENSG00000182372         0.008967         0.007909         0.006291   \n",
       "ENSG00000104728         0.043351         0.015483         0.016861   \n",
       "ENSG00000036448         1.000000         0.007939         0.011187   \n",
       "ENSG00000091879         0.007939         1.000000         0.098748   \n",
       "\n",
       "                 ENSG00000164821  ENSG00000253958  ENSG00000147324  \\\n",
       "ENSG00000172748         0.008393         0.005256         0.011801   \n",
       "ENSG00000182372         0.007841         0.004634         0.007929   \n",
       "ENSG00000104728         0.014452         0.007382         0.013822   \n",
       "ENSG00000036448         0.008793         0.007897         0.009727   \n",
       "ENSG00000091879         0.032149         0.005413         0.011595   \n",
       "\n",
       "                 ENSG00000173281  ...  ENSG00000071894  ENSG00000147804  \\\n",
       "ENSG00000172748         0.009020  ...         0.001993         0.006521   \n",
       "ENSG00000182372         0.008676  ...         0.001879         0.005246   \n",
       "ENSG00000104728         0.013567  ...         0.006525         0.013146   \n",
       "ENSG00000036448         0.005983  ...         0.005521         0.007367   \n",
       "ENSG00000091879         0.006861  ...         0.004385         0.005745   \n",
       "\n",
       "                 ENSG00000160948  ENSG00000160949  ENSG00000187954  \\\n",
       "ENSG00000172748         0.004225         0.006686         0.004219   \n",
       "ENSG00000182372         0.000381         0.003761         0.003516   \n",
       "ENSG00000104728         0.007281         0.008260         0.012604   \n",
       "ENSG00000036448         0.004077         0.003985         0.004584   \n",
       "ENSG00000091879         0.003638         0.002783         0.004476   \n",
       "\n",
       "                 ENSG00000160972  ENSG00000167701  ENSG00000161016  \\\n",
       "ENSG00000172748         0.006528         0.004982         0.003141   \n",
       "ENSG00000182372         0.008463         0.003099         0.000870   \n",
       "ENSG00000104728         0.010881         0.011625         0.003821   \n",
       "ENSG00000036448         0.008044         0.006827         0.002073   \n",
       "ENSG00000091879         0.006157         0.007570         0.000583   \n",
       "\n",
       "                 ENSG00000197363  ENSG00000196150  \n",
       "ENSG00000172748         0.005853         0.004734  \n",
       "ENSG00000182372         0.004974         0.004808  \n",
       "ENSG00000104728         0.010292         0.010636  \n",
       "ENSG00000036448         0.004038         0.007131  \n",
       "ENSG00000091879         0.001599         0.002434  \n",
       "\n",
       "[5 rows x 221 columns]"
      ]
     },
     "execution_count": 31,
     "metadata": {},
     "output_type": "execute_result"
    }
   ],
   "source": [
    "gene_corrs_df.head()"
   ]
  },
  {
   "cell_type": "markdown",
   "id": "dad6603f-01c6-41fb-a6f6-241051207dd8",
   "metadata": {
    "papermill": {
     "duration": 1.159563,
     "end_time": "2022-08-30T17:14:18.146592",
     "exception": false,
     "start_time": "2022-08-30T17:14:16.987029",
     "status": "completed"
    },
    "tags": []
   },
   "source": [
    "## Standard checks and stats"
   ]
  },
  {
   "cell_type": "code",
   "execution_count": 32,
   "id": "286686af-1b7b-4440-8453-6bdcbd8de19c",
   "metadata": {
    "execution": {
     "iopub.execute_input": "2022-08-30T17:14:20.378492Z",
     "iopub.status.busy": "2022-08-30T17:14:20.378254Z",
     "iopub.status.idle": "2022-08-30T17:14:20.398571Z",
     "shell.execute_reply": "2022-08-30T17:14:20.398045Z"
    },
    "papermill": {
     "duration": 1.138764,
     "end_time": "2022-08-30T17:14:20.399929",
     "exception": false,
     "start_time": "2022-08-30T17:14:19.261165",
     "status": "completed"
    },
    "tags": []
   },
   "outputs": [],
   "source": [
    "assert not gene_corrs_df.isna().any().any()"
   ]
  },
  {
   "cell_type": "code",
   "execution_count": 33,
   "id": "00583efc-7068-4270-ad1e-4a418e91db96",
   "metadata": {
    "execution": {
     "iopub.execute_input": "2022-08-30T17:14:22.665380Z",
     "iopub.status.busy": "2022-08-30T17:14:22.665142Z",
     "iopub.status.idle": "2022-08-30T17:14:22.685993Z",
     "shell.execute_reply": "2022-08-30T17:14:22.685607Z"
    },
    "papermill": {
     "duration": 1.175358,
     "end_time": "2022-08-30T17:14:22.687188",
     "exception": false,
     "start_time": "2022-08-30T17:14:21.511830",
     "status": "completed"
    },
    "tags": []
   },
   "outputs": [
    {
     "data": {
      "text/plain": [
       "1.5288509741727093e-06"
      ]
     },
     "metadata": {},
     "output_type": "display_data"
    }
   ],
   "source": [
    "_min_val = gene_corrs_df.min().min()\n",
    "display(_min_val)\n",
    "assert _min_val >= -0.05"
   ]
  },
  {
   "cell_type": "code",
   "execution_count": 34,
   "id": "d04fb2cf-1050-475b-b855-f5f7cc04092b",
   "metadata": {
    "execution": {
     "iopub.execute_input": "2022-08-30T17:14:24.947725Z",
     "iopub.status.busy": "2022-08-30T17:14:24.947466Z",
     "iopub.status.idle": "2022-08-30T17:14:24.968311Z",
     "shell.execute_reply": "2022-08-30T17:14:24.967682Z"
    },
    "papermill": {
     "duration": 1.176166,
     "end_time": "2022-08-30T17:14:24.969643",
     "exception": false,
     "start_time": "2022-08-30T17:14:23.793477",
     "status": "completed"
    },
    "tags": []
   },
   "outputs": [
    {
     "data": {
      "text/plain": [
       "1.0000000000000036"
      ]
     },
     "metadata": {},
     "output_type": "display_data"
    }
   ],
   "source": [
    "_max_val = gene_corrs_df.max().max()  # this captures the diagonal\n",
    "display(_max_val)\n",
    "assert _max_val <= 1.05"
   ]
  },
  {
   "cell_type": "code",
   "execution_count": 35,
   "id": "96d02c44-1fba-47be-8a93-8f2608420b9c",
   "metadata": {
    "execution": {
     "iopub.execute_input": "2022-08-30T17:14:27.241722Z",
     "iopub.status.busy": "2022-08-30T17:14:27.241477Z",
     "iopub.status.idle": "2022-08-30T17:14:27.259416Z",
     "shell.execute_reply": "2022-08-30T17:14:27.258743Z"
    },
    "papermill": {
     "duration": 1.182674,
     "end_time": "2022-08-30T17:14:27.260726",
     "exception": false,
     "start_time": "2022-08-30T17:14:26.078052",
     "status": "completed"
    },
    "tags": []
   },
   "outputs": [],
   "source": [
    "# check upper triangular values\n",
    "# assert len(gene_corrs) == int(genes_chr.shape[0] * (genes_chr.shape[0] - 1) / 2)"
   ]
  },
  {
   "cell_type": "code",
   "execution_count": 36,
   "id": "fe283586-c348-40e0-8841-f6d97bfb021c",
   "metadata": {
    "execution": {
     "iopub.execute_input": "2022-08-30T17:14:29.488847Z",
     "iopub.status.busy": "2022-08-30T17:14:29.488586Z",
     "iopub.status.idle": "2022-08-30T17:14:29.516024Z",
     "shell.execute_reply": "2022-08-30T17:14:29.515635Z"
    },
    "papermill": {
     "duration": 1.142707,
     "end_time": "2022-08-30T17:14:29.517254",
     "exception": false,
     "start_time": "2022-08-30T17:14:28.374547",
     "status": "completed"
    },
    "tags": []
   },
   "outputs": [
    {
     "data": {
      "text/plain": [
       "count    24531.000000\n",
       "mean         0.017003\n",
       "std          0.096526\n",
       "min          0.000002\n",
       "25%          0.004095\n",
       "50%          0.006180\n",
       "75%          0.008552\n",
       "max          1.000000\n",
       "dtype: float64"
      ]
     },
     "execution_count": 36,
     "metadata": {},
     "output_type": "execute_result"
    }
   ],
   "source": [
    "gene_corrs_flat.describe()"
   ]
  },
  {
   "cell_type": "code",
   "execution_count": 37,
   "id": "b3815678-0f93-4b35-897b-a9d047a2aa78",
   "metadata": {
    "execution": {
     "iopub.execute_input": "2022-08-30T17:14:31.791976Z",
     "iopub.status.busy": "2022-08-30T17:14:31.791738Z",
     "iopub.status.idle": "2022-08-30T17:14:31.813919Z",
     "shell.execute_reply": "2022-08-30T17:14:31.813521Z"
    },
    "papermill": {
     "duration": 1.178906,
     "end_time": "2022-08-30T17:14:31.815158",
     "exception": false,
     "start_time": "2022-08-30T17:14:30.636252",
     "status": "completed"
    },
    "tags": []
   },
   "outputs": [
    {
     "data": {
      "text/plain": [
       "0.00    0.000002\n",
       "0.05    0.001608\n",
       "0.10    0.002458\n",
       "0.15    0.003054\n",
       "0.20    0.003614\n",
       "0.25    0.004095\n",
       "0.30    0.004536\n",
       "0.35    0.004966\n",
       "0.40    0.005360\n",
       "0.45    0.005771\n",
       "0.50    0.006180\n",
       "0.55    0.006599\n",
       "0.60    0.007032\n",
       "0.65    0.007498\n",
       "0.70    0.007998\n",
       "0.75    0.008552\n",
       "0.80    0.009201\n",
       "0.85    0.010032\n",
       "0.90    0.011164\n",
       "0.95    0.013275\n",
       "dtype: float64"
      ]
     },
     "metadata": {},
     "output_type": "display_data"
    }
   ],
   "source": [
    "gene_corrs_quantiles = gene_corrs_flat.quantile(np.arange(0, 1, 0.05))\n",
    "display(gene_corrs_quantiles)"
   ]
  },
  {
   "cell_type": "markdown",
   "id": "87134509-b145-4a10-8bc9-b7e914c2b0fa",
   "metadata": {
    "papermill": {
     "duration": 1.156333,
     "end_time": "2022-08-30T17:14:34.091457",
     "exception": false,
     "start_time": "2022-08-30T17:14:32.935124",
     "status": "completed"
    },
    "tags": []
   },
   "source": [
    "## Positive definiteness"
   ]
  },
  {
   "cell_type": "code",
   "execution_count": 38,
   "id": "07d9a9a1-a4f7-48aa-b916-6d42a8cc6186",
   "metadata": {
    "execution": {
     "iopub.execute_input": "2022-08-30T17:14:36.363849Z",
     "iopub.status.busy": "2022-08-30T17:14:36.363598Z",
     "iopub.status.idle": "2022-08-30T17:14:36.394684Z",
     "shell.execute_reply": "2022-08-30T17:14:36.394300Z"
    },
    "papermill": {
     "duration": 1.188897,
     "end_time": "2022-08-30T17:14:36.395874",
     "exception": false,
     "start_time": "2022-08-30T17:14:35.206977",
     "status": "completed"
    },
    "tags": []
   },
   "outputs": [
    {
     "data": {
      "text/plain": [
       "0"
      ]
     },
     "metadata": {},
     "output_type": "display_data"
    },
    {
     "data": {
      "text/plain": [
       "array([], dtype=float64)"
      ]
     },
     "metadata": {},
     "output_type": "display_data"
    }
   ],
   "source": [
    "# print negative eigenvalues\n",
    "eigs = np.linalg.eigvals(gene_corrs_df.to_numpy())\n",
    "display(len(eigs[eigs < 0]))\n",
    "display(eigs[eigs < 0])"
   ]
  },
  {
   "cell_type": "code",
   "execution_count": 39,
   "id": "6e218436-c3c5-4028-8c94-a4fa6260efce",
   "metadata": {
    "execution": {
     "iopub.execute_input": "2022-08-30T17:14:38.624806Z",
     "iopub.status.busy": "2022-08-30T17:14:38.624556Z",
     "iopub.status.idle": "2022-08-30T17:14:38.656496Z",
     "shell.execute_reply": "2022-08-30T17:14:38.656006Z"
    },
    "papermill": {
     "duration": 1.150683,
     "end_time": "2022-08-30T17:14:38.657837",
     "exception": false,
     "start_time": "2022-08-30T17:14:37.507154",
     "status": "completed"
    },
    "tags": []
   },
   "outputs": [
    {
     "name": "stdout",
     "output_type": "stream",
     "text": [
      "Works!\n"
     ]
    }
   ],
   "source": [
    "try:\n",
    "    chol_mat = np.linalg.cholesky(gene_corrs_df.to_numpy())\n",
    "    cov_inv = np.linalg.inv(chol_mat)\n",
    "    print(\"Works!\")\n",
    "except Exception as e:\n",
    "    print(f\"Cholesky decomposition failed: {str(e)}\")"
   ]
  },
  {
   "cell_type": "code",
   "execution_count": 40,
   "id": "dd8827fb-faf9-4c7c-9454-015e94752706",
   "metadata": {
    "execution": {
     "iopub.execute_input": "2022-08-30T17:14:40.915146Z",
     "iopub.status.busy": "2022-08-30T17:14:40.914907Z",
     "iopub.status.idle": "2022-08-30T17:14:40.936472Z",
     "shell.execute_reply": "2022-08-30T17:14:40.936083Z"
    },
    "papermill": {
     "duration": 1.175277,
     "end_time": "2022-08-30T17:14:40.937689",
     "exception": false,
     "start_time": "2022-08-30T17:14:39.762412",
     "status": "completed"
    },
    "tags": []
   },
   "outputs": [
    {
     "name": "stdout",
     "output_type": "stream",
     "text": [
      "Works!\n"
     ]
    }
   ],
   "source": [
    "try:\n",
    "    # decomposition used by statsmodels.GLS\n",
    "    cholsigmainv = np.linalg.cholesky(np.linalg.inv(gene_corrs_df.to_numpy())).T\n",
    "    print(\"Works!\")\n",
    "except Exception as e:\n",
    "    print(f\"Cholesky decomposition failed (statsmodels.GLS): {str(e)}\")"
   ]
  },
  {
   "cell_type": "markdown",
   "id": "8e60a080-edb2-4e9c-b2ef-22961693200c",
   "metadata": {
    "papermill": {
     "duration": 1.152876,
     "end_time": "2022-08-30T17:14:43.198849",
     "exception": false,
     "start_time": "2022-08-30T17:14:42.045973",
     "status": "completed"
    },
    "tags": []
   },
   "source": [
    "## Plot: distribution"
   ]
  },
  {
   "cell_type": "code",
   "execution_count": 41,
   "id": "8301126b-a7d4-4744-9c7d-f0f86eb6f54c",
   "metadata": {
    "execution": {
     "iopub.execute_input": "2022-08-30T17:14:45.465174Z",
     "iopub.status.busy": "2022-08-30T17:14:45.464935Z",
     "iopub.status.idle": "2022-08-30T17:14:51.721982Z",
     "shell.execute_reply": "2022-08-30T17:14:51.721509Z"
    },
    "papermill": {
     "duration": 7.415703,
     "end_time": "2022-08-30T17:14:51.723481",
     "exception": false,
     "start_time": "2022-08-30T17:14:44.307778",
     "status": "completed"
    },
    "tags": []
   },
   "outputs": [
    {
     "data": {
      "image/png": "[encoded data removed]",
      "text/plain": [
       "<Figure size 504x504 with 1 Axes>"
      ]
     },
     "metadata": {
      "needs_background": "light"
     },
     "output_type": "display_data"
    }
   ],
   "source": [
    "with sns.plotting_context(\"paper\", font_scale=1.5):\n",
    "    g = sns.displot(gene_corrs_flat, kde=True, height=7)\n",
    "    g.ax.set_title(\n",
    "        f\"Distribution of gene correlation values in chromosome {CHROMOSOME}\"\n",
    "    )"
   ]
  },
  {
   "cell_type": "markdown",
   "id": "cbd52bca-d878-4a2f-b684-5c83aa3038d4",
   "metadata": {
    "papermill": {
     "duration": 1.109654,
     "end_time": "2022-08-30T17:14:53.944052",
     "exception": false,
     "start_time": "2022-08-30T17:14:52.834398",
     "status": "completed"
    },
    "tags": []
   },
   "source": [
    "## Plot: heatmap"
   ]
  },
  {
   "cell_type": "code",
   "execution_count": 42,
   "id": "d03fe63a-c7b2-4fb9-a53c-db362ce843c9",
   "metadata": {
    "execution": {
     "iopub.execute_input": "2022-08-30T17:14:56.200581Z",
     "iopub.status.busy": "2022-08-30T17:14:56.200344Z",
     "iopub.status.idle": "2022-08-30T17:14:56.225103Z",
     "shell.execute_reply": "2022-08-30T17:14:56.224716Z"
    },
    "papermill": {
     "duration": 1.179863,
     "end_time": "2022-08-30T17:14:56.226309",
     "exception": false,
     "start_time": "2022-08-30T17:14:55.046446",
     "status": "completed"
    },
    "tags": []
   },
   "outputs": [
    {
     "data": {
      "text/plain": [
       "'0.0 / 0.05'"
      ]
     },
     "metadata": {},
     "output_type": "display_data"
    }
   ],
   "source": [
    "vmin_val = min(0.00, gene_corrs_quantiles[0.10])\n",
    "vmax_val = max(0.05, gene_corrs_quantiles[0.90])\n",
    "display(f\"{vmin_val} / {vmax_val}\")"
   ]
  },
  {
   "cell_type": "code",
   "execution_count": 43,
   "id": "dc41b70b-5bcc-4d9e-9f33-a22c4a94dab5",
   "metadata": {
    "execution": {
     "iopub.execute_input": "2022-08-30T17:14:58.490131Z",
     "iopub.status.busy": "2022-08-30T17:14:58.489889Z",
     "iopub.status.idle": "2022-08-30T17:14:59.244382Z",
     "shell.execute_reply": "2022-08-30T17:14:59.243673Z"
    },
    "papermill": {
     "duration": 1.91175,
     "end_time": "2022-08-30T17:14:59.245830",
     "exception": false,
     "start_time": "2022-08-30T17:14:57.334080",
     "status": "completed"
    },
    "tags": []
   },
   "outputs": [
    {
     "data": {
      "text/plain": [
       "Text(0.5, 1.0, 'Gene correlations in chromosome 8')"
      ]
     },
     "execution_count": 43,
     "metadata": {},
     "output_type": "execute_result"
    },
    {
     "data": {
      "image/png": "[encoded data removed]",
      "text/plain": [
       "<Figure size 720x720 with 2 Axes>"
      ]
     },
     "metadata": {
      "needs_background": "light"
     },
     "output_type": "display_data"
    }
   ],
   "source": [
    "f, ax = plt.subplots(figsize=(10, 10))\n",
    "sns.heatmap(\n",
    "    gene_corrs_df,\n",
    "    xticklabels=False,\n",
    "    yticklabels=False,\n",
    "    square=True,\n",
    "    vmin=vmin_val,\n",
    "    vmax=vmax_val,\n",
    "    cmap=\"rocket_r\",\n",
    "    ax=ax,\n",
    ")\n",
    "ax.set_title(f\"Gene correlations in chromosome {CHROMOSOME}\")"
   ]
  },
  {
   "cell_type": "code",
   "execution_count": null,
   "id": "b25e3ead",
   "metadata": {
    "papermill": {
     "duration": 1.15191,
     "end_time": "2022-08-30T17:15:01.513964",
     "exception": false,
     "start_time": "2022-08-30T17:15:00.362054",
     "status": "completed"
    },
    "tags": []
   },
   "outputs": [],
   "source": []
  }
 ],
 "metadata": {
  "jupytext": {
   "cell_metadata_filter": "all,-execution,-papermill,-trusted",
   "formats": "ipynb,py//py:percent"
  },
  "kernelspec": {
   "display_name": "Python 3 (ipykernel)",
   "language": "python",
   "name": "python3"
  },
  "language_info": {
   "codemirror_mode": {
    "name": "ipython",
    "version": 3
   },
   "file_extension": ".py",
   "mimetype": "text/x-python",
   "name": "python",
   "nbconvert_exporter": "python",
   "pygments_lexer": "ipython3",
   "version": "3.8.13"
  },
  "papermill": {
   "default_parameters": {},
   "duration": 1411.901848,
   "end_time": "2022-08-30T17:15:05.679450",
   "environment_variables": {},
   "exception": null,
   "input_path": "nbs/15_gsa_gls/10-gene_expr_correlations.ipynb",
   "output_path": "nbs/15_gsa_gls/gene_corrs/cohorts/emerge/gtex_v8/mashr/10-gene_expr_corrs/10-gene_expr_correlations-chr8.run.ipynb",
   "parameters": {
    "CHROMOSOME": 8,
    "COHORT_NAME": "emerge",
    "EQTL_MODEL": "MASHR",
    "REFERENCE_PANEL": "GTEX_V8"
   },
   "start_time": "2022-08-30T16:51:33.777602",
   "version": "2.2.2"
  }
 },
 "nbformat": 4,
 "nbformat_minor": 5
}
