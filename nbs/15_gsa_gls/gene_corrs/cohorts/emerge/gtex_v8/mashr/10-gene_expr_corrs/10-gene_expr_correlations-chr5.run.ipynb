{
 "cells": [
  {
   "cell_type": "markdown",
   "id": "7a6632fb",
   "metadata": {
    "papermill": {
     "duration": 0.022111,
     "end_time": "2022-08-30T16:51:35.922278",
     "exception": false,
     "start_time": "2022-08-30T16:51:35.900167",
     "status": "completed"
    },
    "tags": []
   },
   "source": [
    "# Description"
   ]
  },
  {
   "cell_type": "markdown",
   "id": "7097c346",
   "metadata": {
    "papermill": {
     "duration": 0.017045,
     "end_time": "2022-08-30T16:51:35.957473",
     "exception": false,
     "start_time": "2022-08-30T16:51:35.940428",
     "status": "completed"
    },
    "tags": []
   },
   "source": [
    "(Please, take a look at the README.md file in this directory for instructions on how to run this notebook)\n",
    "\n",
    "This notebook computes predicted expression correlations between all genes in the MultiPLIER models.\n",
    "\n",
    "It also has a parameter set for papermill to run on a single chromosome to run in parallel (see under `Settings` below).\n",
    "\n",
    "This notebook is not directly run. See README.md."
   ]
  },
  {
   "cell_type": "markdown",
   "id": "c61d8427",
   "metadata": {
    "papermill": {
     "duration": 0.016525,
     "end_time": "2022-08-30T16:51:35.990488",
     "exception": false,
     "start_time": "2022-08-30T16:51:35.973963",
     "status": "completed"
    },
    "tags": []
   },
   "source": [
    "# Modules"
   ]
  },
  {
   "cell_type": "code",
   "execution_count": 1,
   "id": "bbc0234f",
   "metadata": {
    "execution": {
     "iopub.execute_input": "2022-08-30T16:51:36.022953Z",
     "iopub.status.busy": "2022-08-30T16:51:36.022530Z",
     "iopub.status.idle": "2022-08-30T16:51:36.055109Z",
     "shell.execute_reply": "2022-08-30T16:51:36.054340Z"
    },
    "papermill": {
     "duration": 0.052303,
     "end_time": "2022-08-30T16:51:36.057990",
     "exception": false,
     "start_time": "2022-08-30T16:51:36.005687",
     "status": "completed"
    },
    "tags": []
   },
   "outputs": [],
   "source": [
    "%load_ext autoreload\n",
    "%autoreload 2"
   ]
  },
  {
   "cell_type": "code",
   "execution_count": 2,
   "id": "1d5f5a59",
   "metadata": {
    "execution": {
     "iopub.execute_input": "2022-08-30T16:51:36.085722Z",
     "iopub.status.busy": "2022-08-30T16:51:36.085406Z",
     "iopub.status.idle": "2022-08-30T16:51:39.735746Z",
     "shell.execute_reply": "2022-08-30T16:51:39.735176Z"
    },
    "papermill": {
     "duration": 3.666456,
     "end_time": "2022-08-30T16:51:39.737707",
     "exception": false,
     "start_time": "2022-08-30T16:51:36.071251",
     "status": "completed"
    },
    "tags": []
   },
   "outputs": [],
   "source": [
    "from random import sample, seed\n",
    "import warnings\n",
    "from pathlib import Path\n",
    "import pickle\n",
    "import traceback\n",
    "\n",
    "import numpy as np\n",
    "from scipy.spatial.distance import squareform\n",
    "import pandas as pd\n",
    "from tqdm import tqdm\n",
    "import matplotlib.pyplot as plt\n",
    "import seaborn as sns\n",
    "\n",
    "import conf\n",
    "from entity import Gene"
   ]
  },
  {
   "cell_type": "markdown",
   "id": "1eac24b5",
   "metadata": {
    "papermill": {
     "duration": 0.040837,
     "end_time": "2022-08-30T16:51:39.787633",
     "exception": false,
     "start_time": "2022-08-30T16:51:39.746796",
     "status": "completed"
    },
    "tags": []
   },
   "source": [
    "# Settings"
   ]
  },
  {
   "cell_type": "code",
   "execution_count": 3,
   "id": "ca4560ba",
   "metadata": {
    "execution": {
     "iopub.execute_input": "2022-08-30T16:51:39.805841Z",
     "iopub.status.busy": "2022-08-30T16:51:39.805601Z",
     "iopub.status.idle": "2022-08-30T16:51:39.824748Z",
     "shell.execute_reply": "2022-08-30T16:51:39.824093Z"
    },
    "papermill": {
     "duration": 0.029893,
     "end_time": "2022-08-30T16:51:39.826087",
     "exception": false,
     "start_time": "2022-08-30T16:51:39.796194",
     "status": "completed"
    },
    "tags": [
     "parameters"
    ]
   },
   "outputs": [],
   "source": [
    "# a cohort name (it could be something like UK_BIOBANK, etc)\n",
    "COHORT_NAME = None\n",
    "\n",
    "# reference panel such as 1000G or GTEX_V8\n",
    "REFERENCE_PANEL = None\n",
    "\n",
    "# predictions models such as MASHR or ELASTIC_NET\n",
    "EQTL_MODEL = None\n",
    "\n",
    "# this is the default value used in S-MultiXcan to select the\n",
    "# top principal components of the expression correlation matrix\n",
    "SMULTIXCAN_CONDITION_NUMBER = 30\n",
    "\n",
    "# specifies a single chromosome value\n",
    "CHROMOSOME = None\n",
    "\n",
    "# If True, computes the correlation between closeby genes only;\n",
    "# otherwise, it computes correlations for all genes in a chromosome\n",
    "COMPUTE_CORRELATIONS_WITHIN_DISTANCE = False\n",
    "\n",
    "# if True, then it will continue if a gene pair correlation fails,\n",
    "# printing the warning/error for debugging. If False, any warning/error\n",
    "# will be thrown\n",
    "DEBUG_MODE = False"
   ]
  },
  {
   "cell_type": "code",
   "execution_count": 4,
   "id": "ce366aa7",
   "metadata": {
    "execution": {
     "iopub.execute_input": "2022-08-30T16:51:39.844277Z",
     "iopub.status.busy": "2022-08-30T16:51:39.844101Z",
     "iopub.status.idle": "2022-08-30T16:51:39.861656Z",
     "shell.execute_reply": "2022-08-30T16:51:39.861006Z"
    },
    "papermill": {
     "duration": 0.028607,
     "end_time": "2022-08-30T16:51:39.862984",
     "exception": false,
     "start_time": "2022-08-30T16:51:39.834377",
     "status": "completed"
    },
    "tags": [
     "injected-parameters"
    ]
   },
   "outputs": [],
   "source": [
    "# Parameters\n",
    "COHORT_NAME = \"emerge\"\n",
    "REFERENCE_PANEL = \"GTEX_V8\"\n",
    "EQTL_MODEL = \"MASHR\"\n",
    "CHROMOSOME = 5\n"
   ]
  },
  {
   "cell_type": "code",
   "execution_count": 5,
   "id": "3190631f-27fc-480f-b18e-571d580425a5",
   "metadata": {
    "execution": {
     "iopub.execute_input": "2022-08-30T16:51:39.879866Z",
     "iopub.status.busy": "2022-08-30T16:51:39.879694Z",
     "iopub.status.idle": "2022-08-30T16:51:39.899098Z",
     "shell.execute_reply": "2022-08-30T16:51:39.898672Z"
    },
    "papermill": {
     "duration": 0.029534,
     "end_time": "2022-08-30T16:51:39.900297",
     "exception": false,
     "start_time": "2022-08-30T16:51:39.870763",
     "status": "completed"
    },
    "tags": []
   },
   "outputs": [
    {
     "data": {
      "text/plain": [
       "'Cohort name: emerge'"
      ]
     },
     "metadata": {},
     "output_type": "display_data"
    }
   ],
   "source": [
    "assert COHORT_NAME is not None and len(COHORT_NAME) > 0, \"A cohort name must be given\"\n",
    "\n",
    "COHORT_NAME = COHORT_NAME.lower()\n",
    "display(f\"Cohort name: {COHORT_NAME}\")"
   ]
  },
  {
   "cell_type": "code",
   "execution_count": 6,
   "id": "f53ba19b-0f93-4fa2-a047-63b375939d1a",
   "metadata": {
    "execution": {
     "iopub.execute_input": "2022-08-30T16:51:39.918243Z",
     "iopub.status.busy": "2022-08-30T16:51:39.918075Z",
     "iopub.status.idle": "2022-08-30T16:51:39.935530Z",
     "shell.execute_reply": "2022-08-30T16:51:39.935030Z"
    },
    "papermill": {
     "duration": 0.027579,
     "end_time": "2022-08-30T16:51:39.936848",
     "exception": false,
     "start_time": "2022-08-30T16:51:39.909269",
     "status": "completed"
    },
    "tags": []
   },
   "outputs": [
    {
     "data": {
      "text/plain": [
       "'Reference panel: GTEX_V8'"
      ]
     },
     "metadata": {},
     "output_type": "display_data"
    }
   ],
   "source": [
    "assert (\n",
    "    REFERENCE_PANEL is not None and len(REFERENCE_PANEL) > 0\n",
    "), \"A reference panel must be given\"\n",
    "\n",
    "display(f\"Reference panel: {REFERENCE_PANEL}\")"
   ]
  },
  {
   "cell_type": "code",
   "execution_count": 7,
   "id": "e024d130-c139-429a-9c6e-ccf149e297b0",
   "metadata": {
    "execution": {
     "iopub.execute_input": "2022-08-30T16:51:39.953720Z",
     "iopub.status.busy": "2022-08-30T16:51:39.953552Z",
     "iopub.status.idle": "2022-08-30T16:51:39.971221Z",
     "shell.execute_reply": "2022-08-30T16:51:39.970815Z"
    },
    "papermill": {
     "duration": 0.027626,
     "end_time": "2022-08-30T16:51:39.972426",
     "exception": false,
     "start_time": "2022-08-30T16:51:39.944800",
     "status": "completed"
    },
    "tags": []
   },
   "outputs": [
    {
     "data": {
      "text/plain": [
       "'eQTL model: MASHR) / mashr_'"
      ]
     },
     "metadata": {},
     "output_type": "display_data"
    }
   ],
   "source": [
    "assert (\n",
    "    EQTL_MODEL is not None and len(EQTL_MODEL) > 0\n",
    "), \"A prediction/eQTL model must be given\"\n",
    "\n",
    "EQTL_MODEL_FILES_PREFIX = conf.PHENOMEXCAN[\"PREDICTION_MODELS\"][f\"{EQTL_MODEL}_PREFIX\"]\n",
    "display(f\"eQTL model: {EQTL_MODEL}) / {EQTL_MODEL_FILES_PREFIX}\")"
   ]
  },
  {
   "cell_type": "code",
   "execution_count": 8,
   "id": "552a7f63-a18c-4d3e-bb6a-94f99b431291",
   "metadata": {
    "execution": {
     "iopub.execute_input": "2022-08-30T16:51:40.001348Z",
     "iopub.status.busy": "2022-08-30T16:51:40.001181Z",
     "iopub.status.idle": "2022-08-30T16:51:40.018700Z",
     "shell.execute_reply": "2022-08-30T16:51:40.018159Z"
    },
    "papermill": {
     "duration": 0.036954,
     "end_time": "2022-08-30T16:51:40.020008",
     "exception": false,
     "start_time": "2022-08-30T16:51:39.983054",
     "status": "completed"
    },
    "tags": []
   },
   "outputs": [
    {
     "data": {
      "text/plain": [
       "'S-MultiXcan condition number: 30'"
      ]
     },
     "metadata": {},
     "output_type": "display_data"
    }
   ],
   "source": [
    "assert (\n",
    "    SMULTIXCAN_CONDITION_NUMBER is not None and SMULTIXCAN_CONDITION_NUMBER > 0\n",
    "), \"The S-MultiXcan condition number (positive integer) must be given\"\n",
    "\n",
    "display(f\"S-MultiXcan condition number: {SMULTIXCAN_CONDITION_NUMBER}\")"
   ]
  },
  {
   "cell_type": "code",
   "execution_count": 9,
   "id": "f34a336f-548e-4afe-8955-90eaea4f42c6",
   "metadata": {
    "execution": {
     "iopub.execute_input": "2022-08-30T16:51:40.049680Z",
     "iopub.status.busy": "2022-08-30T16:51:40.049507Z",
     "iopub.status.idle": "2022-08-30T16:51:40.067387Z",
     "shell.execute_reply": "2022-08-30T16:51:40.066970Z"
    },
    "papermill": {
     "duration": 0.035984,
     "end_time": "2022-08-30T16:51:40.068656",
     "exception": false,
     "start_time": "2022-08-30T16:51:40.032672",
     "status": "completed"
    },
    "tags": []
   },
   "outputs": [
    {
     "data": {
      "text/plain": [
       "'Working on chromosome 5'"
      ]
     },
     "metadata": {},
     "output_type": "display_data"
    }
   ],
   "source": [
    "assert CHROMOSOME is not None and (\n",
    "    1 <= CHROMOSOME <= 22\n",
    "), \"You have to select one chromosome (format: number between 1 and 22)\"\n",
    "\n",
    "# CHROMOSOME = str(CHROMOSOME)\n",
    "display(f\"Working on chromosome {CHROMOSOME}\")"
   ]
  },
  {
   "cell_type": "code",
   "execution_count": 10,
   "id": "ab8e96e8-06b5-4363-9dcd-dc4d78cc27f7",
   "metadata": {
    "execution": {
     "iopub.execute_input": "2022-08-30T16:51:40.094946Z",
     "iopub.status.busy": "2022-08-30T16:51:40.094779Z",
     "iopub.status.idle": "2022-08-30T16:51:40.112315Z",
     "shell.execute_reply": "2022-08-30T16:51:40.111745Z"
    },
    "papermill": {
     "duration": 0.030928,
     "end_time": "2022-08-30T16:51:40.113637",
     "exception": false,
     "start_time": "2022-08-30T16:51:40.082709",
     "status": "completed"
    },
    "tags": []
   },
   "outputs": [
    {
     "data": {
      "text/plain": [
       "'Compute correlation within distance False'"
      ]
     },
     "metadata": {},
     "output_type": "display_data"
    }
   ],
   "source": [
    "display(f\"Compute correlation within distance {COMPUTE_CORRELATIONS_WITHIN_DISTANCE}\")"
   ]
  },
  {
   "cell_type": "code",
   "execution_count": 11,
   "id": "396392dc-0340-4540-9b02-e182b833f909",
   "metadata": {
    "execution": {
     "iopub.execute_input": "2022-08-30T16:51:40.141453Z",
     "iopub.status.busy": "2022-08-30T16:51:40.141284Z",
     "iopub.status.idle": "2022-08-30T16:51:40.162252Z",
     "shell.execute_reply": "2022-08-30T16:51:40.161698Z"
    },
    "papermill": {
     "duration": 0.034618,
     "end_time": "2022-08-30T16:51:40.163606",
     "exception": false,
     "start_time": "2022-08-30T16:51:40.128988",
     "status": "completed"
    },
    "tags": []
   },
   "outputs": [
    {
     "data": {
      "text/plain": [
       "'Using output dir base: /project/ritchie20/projects/phenoplier/base/results/gls/gene_corrs/cohorts/emerge/gtex_v8/mashr'"
      ]
     },
     "metadata": {},
     "output_type": "display_data"
    }
   ],
   "source": [
    "OUTPUT_DIR_BASE = (\n",
    "    conf.RESULTS[\"GLS\"]\n",
    "    / \"gene_corrs\"\n",
    "    / \"cohorts\"\n",
    "    / COHORT_NAME\n",
    "    / REFERENCE_PANEL.lower()\n",
    "    / EQTL_MODEL.lower()\n",
    ")\n",
    "OUTPUT_DIR_BASE.mkdir(parents=True, exist_ok=True)\n",
    "\n",
    "display(f\"Using output dir base: {OUTPUT_DIR_BASE}\")"
   ]
  },
  {
   "cell_type": "markdown",
   "id": "d2ba085e",
   "metadata": {
    "papermill": {
     "duration": 0.021481,
     "end_time": "2022-08-30T16:51:40.203838",
     "exception": false,
     "start_time": "2022-08-30T16:51:40.182357",
     "status": "completed"
    },
    "tags": []
   },
   "source": [
    "# Load data"
   ]
  },
  {
   "cell_type": "markdown",
   "id": "7dcb8db7",
   "metadata": {
    "papermill": {
     "duration": 0.020994,
     "end_time": "2022-08-30T16:51:40.244403",
     "exception": false,
     "start_time": "2022-08-30T16:51:40.223409",
     "status": "completed"
    },
    "tags": []
   },
   "source": [
    "## GWAS variants"
   ]
  },
  {
   "cell_type": "code",
   "execution_count": 12,
   "id": "29434c4e-8cd3-4b9b-82e4-b5a251d9dd19",
   "metadata": {
    "execution": {
     "iopub.execute_input": "2022-08-30T16:51:40.311653Z",
     "iopub.status.busy": "2022-08-30T16:51:40.311158Z",
     "iopub.status.idle": "2022-08-30T16:51:42.944093Z",
     "shell.execute_reply": "2022-08-30T16:51:42.943329Z"
    },
    "papermill": {
     "duration": 2.667233,
     "end_time": "2022-08-30T16:51:42.945977",
     "exception": false,
     "start_time": "2022-08-30T16:51:40.278744",
     "status": "completed"
    },
    "tags": []
   },
   "outputs": [],
   "source": [
    "with open(OUTPUT_DIR_BASE / \"gwas_variant_ids.pkl\", \"rb\") as handle:\n",
    "    gwas_variants_ids_set = pickle.load(handle)"
   ]
  },
  {
   "cell_type": "code",
   "execution_count": 13,
   "id": "b9d9dec2-4a76-4bf9-bde2-e24c95acb8a0",
   "metadata": {
    "execution": {
     "iopub.execute_input": "2022-08-30T16:51:42.966015Z",
     "iopub.status.busy": "2022-08-30T16:51:42.965812Z",
     "iopub.status.idle": "2022-08-30T16:51:42.987684Z",
     "shell.execute_reply": "2022-08-30T16:51:42.987211Z"
    },
    "papermill": {
     "duration": 0.034353,
     "end_time": "2022-08-30T16:51:42.988853",
     "exception": false,
     "start_time": "2022-08-30T16:51:42.954500",
     "status": "completed"
    },
    "tags": []
   },
   "outputs": [
    {
     "data": {
      "text/plain": [
       "8376508"
      ]
     },
     "execution_count": 13,
     "metadata": {},
     "output_type": "execute_result"
    }
   ],
   "source": [
    "len(gwas_variants_ids_set)"
   ]
  },
  {
   "cell_type": "code",
   "execution_count": 14,
   "id": "4235b06a-6034-4ee4-a0a3-2ae35d122418",
   "metadata": {
    "execution": {
     "iopub.execute_input": "2022-08-30T16:51:43.007344Z",
     "iopub.status.busy": "2022-08-30T16:51:43.007185Z",
     "iopub.status.idle": "2022-08-30T16:51:43.496271Z",
     "shell.execute_reply": "2022-08-30T16:51:43.495748Z"
    },
    "papermill": {
     "duration": 0.499573,
     "end_time": "2022-08-30T16:51:43.497607",
     "exception": false,
     "start_time": "2022-08-30T16:51:42.998034",
     "status": "completed"
    },
    "tags": []
   },
   "outputs": [
    {
     "data": {
      "text/plain": [
       "['chr2_15233286_G_A_b38',\n",
       " 'chr18_73857770_G_A_b38',\n",
       " 'chr10_21265077_C_G_b38',\n",
       " 'chr15_31015464_G_A_b38',\n",
       " 'chr9_24380772_C_A_b38']"
      ]
     },
     "execution_count": 14,
     "metadata": {},
     "output_type": "execute_result"
    }
   ],
   "source": [
    "list(gwas_variants_ids_set)[:5]"
   ]
  },
  {
   "cell_type": "markdown",
   "id": "07866999-2305-41f9-a144-e69c9122c212",
   "metadata": {
    "papermill": {
     "duration": 0.010034,
     "end_time": "2022-08-30T16:51:43.518613",
     "exception": false,
     "start_time": "2022-08-30T16:51:43.508579",
     "status": "completed"
    },
    "tags": []
   },
   "source": [
    "## S-PrediXcan tissue models"
   ]
  },
  {
   "cell_type": "code",
   "execution_count": 15,
   "id": "780611d9-77c8-405f-90a4-f271f7b09397",
   "metadata": {
    "execution": {
     "iopub.execute_input": "2022-08-30T16:51:43.542814Z",
     "iopub.status.busy": "2022-08-30T16:51:43.542626Z",
     "iopub.status.idle": "2022-08-30T16:51:44.344284Z",
     "shell.execute_reply": "2022-08-30T16:51:44.343671Z"
    },
    "papermill": {
     "duration": 0.815793,
     "end_time": "2022-08-30T16:51:44.345979",
     "exception": false,
     "start_time": "2022-08-30T16:51:43.530186",
     "status": "completed"
    },
    "tags": []
   },
   "outputs": [],
   "source": [
    "spredixcan_genes_models = pd.read_pickle(OUTPUT_DIR_BASE / \"gene_tissues.pkl\")"
   ]
  },
  {
   "cell_type": "code",
   "execution_count": 16,
   "id": "726dd1f6-9557-4225-91fa-b3b879ea96e1",
   "metadata": {
    "execution": {
     "iopub.execute_input": "2022-08-30T16:51:44.377483Z",
     "iopub.status.busy": "2022-08-30T16:51:44.377293Z",
     "iopub.status.idle": "2022-08-30T16:51:44.396548Z",
     "shell.execute_reply": "2022-08-30T16:51:44.396005Z"
    },
    "papermill": {
     "duration": 0.037776,
     "end_time": "2022-08-30T16:51:44.397835",
     "exception": false,
     "start_time": "2022-08-30T16:51:44.360059",
     "status": "completed"
    },
    "tags": []
   },
   "outputs": [
    {
     "data": {
      "text/plain": [
       "(6425, 3)"
      ]
     },
     "execution_count": 16,
     "metadata": {},
     "output_type": "execute_result"
    }
   ],
   "source": [
    "spredixcan_genes_models.shape"
   ]
  },
  {
   "cell_type": "code",
   "execution_count": 17,
   "id": "944a1b48-222c-4eb0-b252-b9de2cbca215",
   "metadata": {
    "execution": {
     "iopub.execute_input": "2022-08-30T16:51:44.430717Z",
     "iopub.status.busy": "2022-08-30T16:51:44.430513Z",
     "iopub.status.idle": "2022-08-30T16:51:44.466538Z",
     "shell.execute_reply": "2022-08-30T16:51:44.465941Z"
    },
    "papermill": {
     "duration": 0.056763,
     "end_time": "2022-08-30T16:51:44.467935",
     "exception": false,
     "start_time": "2022-08-30T16:51:44.411172",
     "status": "completed"
    },
    "tags": []
   },
   "outputs": [
    {
     "data": {
      "text/html": [
       "<div>\n",
       "<style scoped>\n",
       "    .dataframe tbody tr th:only-of-type {\n",
       "        vertical-align: middle;\n",
       "    }\n",
       "\n",
       "    .dataframe tbody tr th {\n",
       "        vertical-align: top;\n",
       "    }\n",
       "\n",
       "    .dataframe thead th {\n",
       "        text-align: right;\n",
       "    }\n",
       "</style>\n",
       "<table border=\"1\" class=\"dataframe\">\n",
       "  <thead>\n",
       "    <tr style=\"text-align: right;\">\n",
       "      <th></th>\n",
       "      <th>gene_name</th>\n",
       "      <th>tissue</th>\n",
       "      <th>n_tissues</th>\n",
       "    </tr>\n",
       "    <tr>\n",
       "      <th>gene_id</th>\n",
       "      <th></th>\n",
       "      <th></th>\n",
       "      <th></th>\n",
       "    </tr>\n",
       "  </thead>\n",
       "  <tbody>\n",
       "    <tr>\n",
       "      <th>ENSG00000000419</th>\n",
       "      <td>DPM1</td>\n",
       "      <td>(Brain_Hypothalamus, Brain_Substantia_nigra)</td>\n",
       "      <td>2</td>\n",
       "    </tr>\n",
       "    <tr>\n",
       "      <th>ENSG00000000938</th>\n",
       "      <td>FGR</td>\n",
       "      <td>(Breast_Mammary_Tissue, Brain_Cerebellum, Pros...</td>\n",
       "      <td>26</td>\n",
       "    </tr>\n",
       "    <tr>\n",
       "      <th>ENSG00000000971</th>\n",
       "      <td>CFH</td>\n",
       "      <td>(Breast_Mammary_Tissue, Brain_Cerebellum, Kidn...</td>\n",
       "      <td>34</td>\n",
       "    </tr>\n",
       "    <tr>\n",
       "      <th>ENSG00000001084</th>\n",
       "      <td>GCLC</td>\n",
       "      <td>(Brain_Cerebellum, Brain_Putamen_basal_ganglia...</td>\n",
       "      <td>32</td>\n",
       "    </tr>\n",
       "    <tr>\n",
       "      <th>ENSG00000001167</th>\n",
       "      <td>NFYA</td>\n",
       "      <td>(Breast_Mammary_Tissue, Brain_Cerebellum, Pros...</td>\n",
       "      <td>40</td>\n",
       "    </tr>\n",
       "  </tbody>\n",
       "</table>\n",
       "</div>"
      ],
      "text/plain": [
       "                gene_name                                             tissue  \\\n",
       "gene_id                                                                        \n",
       "ENSG00000000419      DPM1       (Brain_Hypothalamus, Brain_Substantia_nigra)   \n",
       "ENSG00000000938       FGR  (Breast_Mammary_Tissue, Brain_Cerebellum, Pros...   \n",
       "ENSG00000000971       CFH  (Breast_Mammary_Tissue, Brain_Cerebellum, Kidn...   \n",
       "ENSG00000001084      GCLC  (Brain_Cerebellum, Brain_Putamen_basal_ganglia...   \n",
       "ENSG00000001167      NFYA  (Breast_Mammary_Tissue, Brain_Cerebellum, Pros...   \n",
       "\n",
       "                 n_tissues  \n",
       "gene_id                     \n",
       "ENSG00000000419          2  \n",
       "ENSG00000000938         26  \n",
       "ENSG00000000971         34  \n",
       "ENSG00000001084         32  \n",
       "ENSG00000001167         40  "
      ]
     },
     "execution_count": 17,
     "metadata": {},
     "output_type": "execute_result"
    }
   ],
   "source": [
    "spredixcan_genes_models.head()"
   ]
  },
  {
   "cell_type": "code",
   "execution_count": 18,
   "id": "d1c11bb1-be0b-4f40-b360-633d6827109f",
   "metadata": {
    "execution": {
     "iopub.execute_input": "2022-08-30T16:51:44.496931Z",
     "iopub.status.busy": "2022-08-30T16:51:44.496730Z",
     "iopub.status.idle": "2022-08-30T16:51:44.517120Z",
     "shell.execute_reply": "2022-08-30T16:51:44.516480Z"
    },
    "papermill": {
     "duration": 0.03899,
     "end_time": "2022-08-30T16:51:44.518727",
     "exception": false,
     "start_time": "2022-08-30T16:51:44.479737",
     "status": "completed"
    },
    "tags": []
   },
   "outputs": [],
   "source": [
    "assert spredixcan_genes_models.index.is_unique"
   ]
  },
  {
   "cell_type": "markdown",
   "id": "a5b5092c-a13e-47c4-a92a-480fcc08f3ae",
   "metadata": {
    "papermill": {
     "duration": 0.011319,
     "end_time": "2022-08-30T16:51:44.541822",
     "exception": false,
     "start_time": "2022-08-30T16:51:44.530503",
     "status": "completed"
    },
    "tags": []
   },
   "source": [
    "## Gene info"
   ]
  },
  {
   "cell_type": "code",
   "execution_count": 19,
   "id": "7d6bb224-88e9-4358-ac10-43a41d92cdad",
   "metadata": {
    "execution": {
     "iopub.execute_input": "2022-08-30T16:51:44.568075Z",
     "iopub.status.busy": "2022-08-30T16:51:44.567872Z",
     "iopub.status.idle": "2022-08-30T16:51:44.598426Z",
     "shell.execute_reply": "2022-08-30T16:51:44.597680Z"
    },
    "papermill": {
     "duration": 0.046384,
     "end_time": "2022-08-30T16:51:44.600124",
     "exception": false,
     "start_time": "2022-08-30T16:51:44.553740",
     "status": "completed"
    },
    "tags": []
   },
   "outputs": [],
   "source": [
    "genes_info = pd.read_pickle(OUTPUT_DIR_BASE / \"genes_info.pkl\")"
   ]
  },
  {
   "cell_type": "code",
   "execution_count": 20,
   "id": "9e32abfa-546d-483e-8c18-d526e9e05903",
   "metadata": {
    "execution": {
     "iopub.execute_input": "2022-08-30T16:51:44.626400Z",
     "iopub.status.busy": "2022-08-30T16:51:44.626188Z",
     "iopub.status.idle": "2022-08-30T16:51:44.648241Z",
     "shell.execute_reply": "2022-08-30T16:51:44.647634Z"
    },
    "papermill": {
     "duration": 0.038777,
     "end_time": "2022-08-30T16:51:44.649717",
     "exception": false,
     "start_time": "2022-08-30T16:51:44.610940",
     "status": "completed"
    },
    "tags": []
   },
   "outputs": [
    {
     "data": {
      "text/plain": [
       "(6425, 7)"
      ]
     },
     "execution_count": 20,
     "metadata": {},
     "output_type": "execute_result"
    }
   ],
   "source": [
    "genes_info.shape"
   ]
  },
  {
   "cell_type": "code",
   "execution_count": 21,
   "id": "d16c3e92-85ec-468a-9a56-e25a9774a1cb",
   "metadata": {
    "execution": {
     "iopub.execute_input": "2022-08-30T16:51:44.674687Z",
     "iopub.status.busy": "2022-08-30T16:51:44.674481Z",
     "iopub.status.idle": "2022-08-30T16:51:44.699772Z",
     "shell.execute_reply": "2022-08-30T16:51:44.699146Z"
    },
    "papermill": {
     "duration": 0.040481,
     "end_time": "2022-08-30T16:51:44.701146",
     "exception": false,
     "start_time": "2022-08-30T16:51:44.660665",
     "status": "completed"
    },
    "tags": []
   },
   "outputs": [
    {
     "data": {
      "text/html": [
       "<div>\n",
       "<style scoped>\n",
       "    .dataframe tbody tr th:only-of-type {\n",
       "        vertical-align: middle;\n",
       "    }\n",
       "\n",
       "    .dataframe tbody tr th {\n",
       "        vertical-align: top;\n",
       "    }\n",
       "\n",
       "    .dataframe thead th {\n",
       "        text-align: right;\n",
       "    }\n",
       "</style>\n",
       "<table border=\"1\" class=\"dataframe\">\n",
       "  <thead>\n",
       "    <tr style=\"text-align: right;\">\n",
       "      <th></th>\n",
       "      <th>name</th>\n",
       "      <th>id</th>\n",
       "      <th>chr</th>\n",
       "      <th>band</th>\n",
       "      <th>start_position</th>\n",
       "      <th>end_position</th>\n",
       "      <th>gene_length</th>\n",
       "    </tr>\n",
       "  </thead>\n",
       "  <tbody>\n",
       "    <tr>\n",
       "      <th>0</th>\n",
       "      <td>ADAMTS14</td>\n",
       "      <td>ENSG00000138316</td>\n",
       "      <td>10</td>\n",
       "      <td>10q22.1</td>\n",
       "      <td>70672506</td>\n",
       "      <td>70762441</td>\n",
       "      <td>89935</td>\n",
       "    </tr>\n",
       "    <tr>\n",
       "      <th>1</th>\n",
       "      <td>TXN</td>\n",
       "      <td>ENSG00000136810</td>\n",
       "      <td>9</td>\n",
       "      <td>9q31.3</td>\n",
       "      <td>110243810</td>\n",
       "      <td>110256507</td>\n",
       "      <td>12697</td>\n",
       "    </tr>\n",
       "    <tr>\n",
       "      <th>2</th>\n",
       "      <td>RMI1</td>\n",
       "      <td>ENSG00000178966</td>\n",
       "      <td>9</td>\n",
       "      <td>9q21.32</td>\n",
       "      <td>83980711</td>\n",
       "      <td>84004074</td>\n",
       "      <td>23363</td>\n",
       "    </tr>\n",
       "    <tr>\n",
       "      <th>3</th>\n",
       "      <td>DHX58</td>\n",
       "      <td>ENSG00000108771</td>\n",
       "      <td>17</td>\n",
       "      <td>17q21.2</td>\n",
       "      <td>42101404</td>\n",
       "      <td>42112714</td>\n",
       "      <td>11310</td>\n",
       "    </tr>\n",
       "    <tr>\n",
       "      <th>4</th>\n",
       "      <td>XRCC4</td>\n",
       "      <td>ENSG00000152422</td>\n",
       "      <td>5</td>\n",
       "      <td>5q14.2</td>\n",
       "      <td>83077498</td>\n",
       "      <td>83353787</td>\n",
       "      <td>276289</td>\n",
       "    </tr>\n",
       "  </tbody>\n",
       "</table>\n",
       "</div>"
      ],
      "text/plain": [
       "       name               id  chr     band  start_position  end_position  \\\n",
       "0  ADAMTS14  ENSG00000138316   10  10q22.1        70672506      70762441   \n",
       "1       TXN  ENSG00000136810    9   9q31.3       110243810     110256507   \n",
       "2      RMI1  ENSG00000178966    9  9q21.32        83980711      84004074   \n",
       "3     DHX58  ENSG00000108771   17  17q21.2        42101404      42112714   \n",
       "4     XRCC4  ENSG00000152422    5   5q14.2        83077498      83353787   \n",
       "\n",
       "   gene_length  \n",
       "0        89935  \n",
       "1        12697  \n",
       "2        23363  \n",
       "3        11310  \n",
       "4       276289  "
      ]
     },
     "execution_count": 21,
     "metadata": {},
     "output_type": "execute_result"
    }
   ],
   "source": [
    "genes_info.head()"
   ]
  },
  {
   "cell_type": "markdown",
   "id": "d3843e06",
   "metadata": {
    "papermill": {
     "duration": 0.012829,
     "end_time": "2022-08-30T16:51:44.727469",
     "exception": false,
     "start_time": "2022-08-30T16:51:44.714640",
     "status": "completed"
    },
    "tags": []
   },
   "source": [
    "# Compute correlations"
   ]
  },
  {
   "cell_type": "code",
   "execution_count": 22,
   "id": "cb859c15-d1f3-4006-a74c-2b83c0db9611",
   "metadata": {
    "execution": {
     "iopub.execute_input": "2022-08-30T16:51:44.754992Z",
     "iopub.status.busy": "2022-08-30T16:51:44.754800Z",
     "iopub.status.idle": "2022-08-30T16:51:44.777988Z",
     "shell.execute_reply": "2022-08-30T16:51:44.777349Z"
    },
    "papermill": {
     "duration": 0.036911,
     "end_time": "2022-08-30T16:51:44.779480",
     "exception": false,
     "start_time": "2022-08-30T16:51:44.742569",
     "status": "completed"
    },
    "tags": []
   },
   "outputs": [
    {
     "data": {
      "text/plain": [
       "PosixPath('/project/ritchie20/projects/phenoplier/base/results/gls/gene_corrs/cohorts/emerge/gtex_v8/mashr/by_chr/gene_corrs-chr5.pkl')"
      ]
     },
     "metadata": {},
     "output_type": "display_data"
    }
   ],
   "source": [
    "output_dir = OUTPUT_DIR_BASE / \"by_chr\"\n",
    "output_dir.mkdir(exist_ok=True, parents=True)\n",
    "output_file = output_dir / f\"gene_corrs-chr{CHROMOSOME}.pkl\"\n",
    "display(output_file)"
   ]
  },
  {
   "cell_type": "code",
   "execution_count": 23,
   "id": "aa674fe4-6794-4eed-98fa-32b39d1d4ace",
   "metadata": {
    "execution": {
     "iopub.execute_input": "2022-08-30T16:51:44.807565Z",
     "iopub.status.busy": "2022-08-30T16:51:44.807369Z",
     "iopub.status.idle": "2022-08-30T16:51:44.825325Z",
     "shell.execute_reply": "2022-08-30T16:51:44.824699Z"
    },
    "papermill": {
     "duration": 0.035151,
     "end_time": "2022-08-30T16:51:44.826833",
     "exception": false,
     "start_time": "2022-08-30T16:51:44.791682",
     "status": "completed"
    },
    "tags": []
   },
   "outputs": [],
   "source": [
    "warnings.filterwarnings(\"error\")"
   ]
  },
  {
   "cell_type": "code",
   "execution_count": 24,
   "id": "44d5450b-3baf-43f1-9e2e-4b06f1a785f8",
   "metadata": {
    "execution": {
     "iopub.execute_input": "2022-08-30T16:51:44.854809Z",
     "iopub.status.busy": "2022-08-30T16:51:44.854623Z",
     "iopub.status.idle": "2022-08-30T16:51:44.873223Z",
     "shell.execute_reply": "2022-08-30T16:51:44.872613Z"
    },
    "papermill": {
     "duration": 0.033374,
     "end_time": "2022-08-30T16:51:44.874697",
     "exception": false,
     "start_time": "2022-08-30T16:51:44.841323",
     "status": "completed"
    },
    "tags": []
   },
   "outputs": [],
   "source": [
    "# standard checks\n",
    "all_chrs = genes_info[\"chr\"].dropna().unique()\n",
    "assert all_chrs.shape[0] == 22\n",
    "\n",
    "# select chromosome given by the user\n",
    "assert CHROMOSOME in all_chrs"
   ]
  },
  {
   "cell_type": "code",
   "execution_count": 25,
   "id": "2d7c043c-92a7-4d35-991b-fa69ac1e0268",
   "metadata": {
    "execution": {
     "iopub.execute_input": "2022-08-30T16:51:44.903012Z",
     "iopub.status.busy": "2022-08-30T16:51:44.902827Z",
     "iopub.status.idle": "2022-08-30T16:51:44.964860Z",
     "shell.execute_reply": "2022-08-30T16:51:44.963831Z"
    },
    "papermill": {
     "duration": 0.079824,
     "end_time": "2022-08-30T16:51:44.967921",
     "exception": false,
     "start_time": "2022-08-30T16:51:44.888097",
     "status": "completed"
    },
    "tags": []
   },
   "outputs": [
    {
     "name": "stdout",
     "output_type": "stream",
     "text": [
      "Number of genes in chromosome: 305\n"
     ]
    }
   ],
   "source": [
    "# run only on the chromosome specified\n",
    "all_chrs = [CHROMOSOME]\n",
    "genes_chr = genes_info[genes_info[\"chr\"] == CHROMOSOME]\n",
    "\n",
    "# For testing purposes\n",
    "# genes_chr = genes_chr.sample(n=20)\n",
    "\n",
    "print(f\"Number of genes in chromosome: {genes_chr.shape[0]}\", flush=True)"
   ]
  },
  {
   "cell_type": "code",
   "execution_count": 26,
   "id": "916015d8-2979-46d3-a9b9-1cf5a0932c6a",
   "metadata": {
    "execution": {
     "iopub.execute_input": "2022-08-30T16:51:45.014168Z",
     "iopub.status.busy": "2022-08-30T16:51:45.013835Z",
     "iopub.status.idle": "2022-08-30T16:51:45.045532Z",
     "shell.execute_reply": "2022-08-30T16:51:45.044821Z"
    },
    "papermill": {
     "duration": 0.055232,
     "end_time": "2022-08-30T16:51:45.047960",
     "exception": false,
     "start_time": "2022-08-30T16:51:44.992728",
     "status": "completed"
    },
    "tags": []
   },
   "outputs": [],
   "source": [
    "# sort genes by starting position to make visualizations better later\n",
    "genes_chr = genes_chr.sort_values(\"start_position\")"
   ]
  },
  {
   "cell_type": "code",
   "execution_count": 27,
   "id": "a38aa74a-8ad3-47f6-8ef9-56be0e011774",
   "metadata": {
    "execution": {
     "iopub.execute_input": "2022-08-30T16:51:45.084171Z",
     "iopub.status.busy": "2022-08-30T16:51:45.083903Z",
     "iopub.status.idle": "2022-08-30T16:51:45.110851Z",
     "shell.execute_reply": "2022-08-30T16:51:45.110157Z"
    },
    "papermill": {
     "duration": 0.047478,
     "end_time": "2022-08-30T16:51:45.112939",
     "exception": false,
     "start_time": "2022-08-30T16:51:45.065461",
     "status": "completed"
    },
    "tags": []
   },
   "outputs": [],
   "source": [
    "gene_chr_objs = [Gene(ensembl_id=gene_id) for gene_id in genes_chr[\"id\"]]"
   ]
  },
  {
   "cell_type": "code",
   "execution_count": 28,
   "id": "570f974f-13c3-42b6-ad3a-ce99ca885c1a",
   "metadata": {
    "execution": {
     "iopub.execute_input": "2022-08-30T16:51:45.148757Z",
     "iopub.status.busy": "2022-08-30T16:51:45.148511Z",
     "iopub.status.idle": "2022-08-30T16:51:45.174416Z",
     "shell.execute_reply": "2022-08-30T16:51:45.173630Z"
    },
    "papermill": {
     "duration": 0.04666,
     "end_time": "2022-08-30T16:51:45.176326",
     "exception": false,
     "start_time": "2022-08-30T16:51:45.129666",
     "status": "completed"
    },
    "tags": []
   },
   "outputs": [
    {
     "name": "stdout",
     "output_type": "stream",
     "text": [
      "Number of gene combinations: 46665\n"
     ]
    }
   ],
   "source": [
    "n = len(gene_chr_objs)\n",
    "# diagonal elements + upper triangular matrix\n",
    "n_comb = n + int(n * (n - 1) / 2.0)\n",
    "print(f\"Number of gene combinations: {n_comb}\", flush=True)"
   ]
  },
  {
   "cell_type": "code",
   "execution_count": 29,
   "id": "cdbb90a1",
   "metadata": {
    "execution": {
     "iopub.execute_input": "2022-08-30T16:51:45.211870Z",
     "iopub.status.busy": "2022-08-30T16:51:45.211610Z",
     "iopub.status.idle": "2022-08-30T17:35:36.501827Z",
     "shell.execute_reply": "2022-08-30T17:35:36.500271Z"
    },
    "papermill": {
     "duration": 2631.312731,
     "end_time": "2022-08-30T17:35:36.506103",
     "exception": false,
     "start_time": "2022-08-30T16:51:45.193372",
     "status": "completed"
    },
    "tags": []
   },
   "outputs": [
    {
     "name": "stderr",
     "output_type": "stream",
     "text": [
      "ENSG00000165810 / ENSG00000165810: 100%|██████████████████████| 46665/46665 [43:51<00:00, 17.74it/s]\n"
     ]
    },
    {
     "data": {
      "text/plain": [
       "PosixPath('/project/ritchie20/projects/phenoplier/base/results/gls/gene_corrs/cohorts/emerge/gtex_v8/mashr/by_chr/gene_corrs-chr5.pkl')"
      ]
     },
     "metadata": {},
     "output_type": "display_data"
    }
   ],
   "source": [
    "gene_corrs = []\n",
    "gene_corrs_data = np.full(\n",
    "    (n, n),\n",
    "    np.nan,\n",
    "    dtype=np.float64,\n",
    ")\n",
    "\n",
    "i = 0\n",
    "with tqdm(ncols=100, total=n_comb) as pbar:\n",
    "    for gene1_idx in range(0, len(gene_chr_objs)):\n",
    "        gene1_obj = gene_chr_objs[gene1_idx]\n",
    "        gene1_tissues = spredixcan_genes_models.loc[gene1_obj.ensembl_id, \"tissue\"]\n",
    "\n",
    "        for gene2_idx in range(gene1_idx, len(gene_chr_objs)):\n",
    "            gene2_obj = gene_chr_objs[gene2_idx]\n",
    "            gene2_tissues = spredixcan_genes_models.loc[gene2_obj.ensembl_id, \"tissue\"]\n",
    "\n",
    "            pbar.set_description(f\"{gene1_obj.ensembl_id} / {gene2_obj.ensembl_id}\")\n",
    "\n",
    "            try:\n",
    "                r = gene1_obj.get_ssm_correlation(\n",
    "                    other_gene=gene2_obj,\n",
    "                    tissues=gene1_tissues,\n",
    "                    other_tissues=gene2_tissues,\n",
    "                    snps_subset=gwas_variants_ids_set,\n",
    "                    condition_number=SMULTIXCAN_CONDITION_NUMBER,\n",
    "                    reference_panel=REFERENCE_PANEL,\n",
    "                    model_type=EQTL_MODEL,\n",
    "                    use_within_distance=COMPUTE_CORRELATIONS_WITHIN_DISTANCE,\n",
    "                )\n",
    "\n",
    "                if r is None:\n",
    "                    # if r is None, it's very likely because:\n",
    "                    #  * one of the genes has no prediction models\n",
    "                    #  * all the SNPs predictors for the gene are not present in the reference\n",
    "                    #    panel\n",
    "\n",
    "                    r = 0.0\n",
    "\n",
    "                gene_corrs.append(r)\n",
    "\n",
    "                gene_corrs_data[gene1_idx, gene2_idx] = r\n",
    "                gene_corrs_data[gene2_idx, gene1_idx] = r\n",
    "            except Warning as e:\n",
    "                if not DEBUG_MODE:\n",
    "                    raise e\n",
    "\n",
    "                print(\n",
    "                    f\"RuntimeWarning for genes {gene1_obj.ensembl_id} and {gene2_obj.ensembl_id}\",\n",
    "                    flush=True,\n",
    "                )\n",
    "                print(traceback.format_exc(), flush=True)\n",
    "\n",
    "                gene_corrs.append(np.nan)\n",
    "            except Exception as e:\n",
    "                if not DEBUG_MODE:\n",
    "                    raise e\n",
    "\n",
    "                print(\n",
    "                    f\"Exception for genes {gene1_obj.ensembl_id} and {gene2_obj.ensembl_id}\",\n",
    "                    flush=True,\n",
    "                )\n",
    "                print(traceback.format_exc(), flush=True)\n",
    "\n",
    "                gene_corrs.append(np.nan)\n",
    "\n",
    "            pbar.update(1)\n",
    "\n",
    "# create a pandas series\n",
    "gene_corrs_flat = pd.Series(gene_corrs)\n",
    "\n",
    "# save\n",
    "# FIXME: consider saving only the condenced matrix here. See here for\n",
    "# more details: https://github.com/greenelab/phenoplier/pull/38#discussion_r634600813\n",
    "# gene_corrs_data = squareform(np.array(gene_corrs, dtype=np.float64))\n",
    "# np.fill_diagonal(gene_corrs_data, 1.0)\n",
    "\n",
    "gene_chr_ids = [g.ensembl_id for g in gene_chr_objs]\n",
    "gene_corrs_df = pd.DataFrame(\n",
    "    data=gene_corrs_data,\n",
    "    index=gene_chr_ids,\n",
    "    columns=gene_chr_ids,\n",
    ")\n",
    "\n",
    "output_dir.mkdir(exist_ok=True, parents=True)\n",
    "display(output_file)\n",
    "\n",
    "gene_corrs_df.to_pickle(output_file)"
   ]
  },
  {
   "cell_type": "markdown",
   "id": "faa67b51-5373-470f-aa72-2ded53fa6dfe",
   "metadata": {
    "papermill": {
     "duration": 2.193145,
     "end_time": "2022-08-30T17:35:41.030166",
     "exception": false,
     "start_time": "2022-08-30T17:35:38.837021",
     "status": "completed"
    },
    "tags": []
   },
   "source": [
    "# Testing"
   ]
  },
  {
   "cell_type": "code",
   "execution_count": 30,
   "id": "14f7d046-4b55-4896-a56b-990127bcc388",
   "metadata": {
    "execution": {
     "iopub.execute_input": "2022-08-30T17:35:45.284920Z",
     "iopub.status.busy": "2022-08-30T17:35:45.284675Z",
     "iopub.status.idle": "2022-08-30T17:35:45.594068Z",
     "shell.execute_reply": "2022-08-30T17:35:45.592856Z"
    },
    "papermill": {
     "duration": 2.474981,
     "end_time": "2022-08-30T17:35:45.597863",
     "exception": false,
     "start_time": "2022-08-30T17:35:43.122882",
     "status": "completed"
    },
    "tags": []
   },
   "outputs": [
    {
     "data": {
      "text/plain": [
       "(305, 305)"
      ]
     },
     "execution_count": 30,
     "metadata": {},
     "output_type": "execute_result"
    }
   ],
   "source": [
    "gene_corrs_df.shape"
   ]
  },
  {
   "cell_type": "code",
   "execution_count": 31,
   "id": "c7d15414-3297-4537-a7c6-7588c0baeb75",
   "metadata": {
    "execution": {
     "iopub.execute_input": "2022-08-30T17:35:50.090520Z",
     "iopub.status.busy": "2022-08-30T17:35:50.090277Z",
     "iopub.status.idle": "2022-08-30T17:35:50.121253Z",
     "shell.execute_reply": "2022-08-30T17:35:50.120685Z"
    },
    "papermill": {
     "duration": 2.220058,
     "end_time": "2022-08-30T17:35:50.122616",
     "exception": false,
     "start_time": "2022-08-30T17:35:47.902558",
     "status": "completed"
    },
    "tags": []
   },
   "outputs": [
    {
     "data": {
      "text/html": [
       "<div>\n",
       "<style scoped>\n",
       "    .dataframe tbody tr th:only-of-type {\n",
       "        vertical-align: middle;\n",
       "    }\n",
       "\n",
       "    .dataframe tbody tr th {\n",
       "        vertical-align: top;\n",
       "    }\n",
       "\n",
       "    .dataframe thead th {\n",
       "        text-align: right;\n",
       "    }\n",
       "</style>\n",
       "<table border=\"1\" class=\"dataframe\">\n",
       "  <thead>\n",
       "    <tr style=\"text-align: right;\">\n",
       "      <th></th>\n",
       "      <th>ENSG00000073578</th>\n",
       "      <th>ENSG00000180104</th>\n",
       "      <th>ENSG00000066230</th>\n",
       "      <th>ENSG00000112877</th>\n",
       "      <th>ENSG00000113504</th>\n",
       "      <th>ENSG00000174358</th>\n",
       "      <th>ENSG00000164362</th>\n",
       "      <th>ENSG00000049656</th>\n",
       "      <th>ENSG00000153395</th>\n",
       "      <th>ENSG00000171421</th>\n",
       "      <th>...</th>\n",
       "      <th>ENSG00000161021</th>\n",
       "      <th>ENSG00000161013</th>\n",
       "      <th>ENSG00000161011</th>\n",
       "      <th>ENSG00000050748</th>\n",
       "      <th>ENSG00000131459</th>\n",
       "      <th>ENSG00000113300</th>\n",
       "      <th>ENSG00000037280</th>\n",
       "      <th>ENSG00000131446</th>\n",
       "      <th>ENSG00000113303</th>\n",
       "      <th>ENSG00000165810</th>\n",
       "    </tr>\n",
       "  </thead>\n",
       "  <tbody>\n",
       "    <tr>\n",
       "      <th>ENSG00000073578</th>\n",
       "      <td>1.000000</td>\n",
       "      <td>0.240815</td>\n",
       "      <td>0.161150</td>\n",
       "      <td>0.049611</td>\n",
       "      <td>0.015151</td>\n",
       "      <td>0.011679</td>\n",
       "      <td>0.008640</td>\n",
       "      <td>0.010104</td>\n",
       "      <td>0.012698</td>\n",
       "      <td>0.008122</td>\n",
       "      <td>...</td>\n",
       "      <td>0.008832</td>\n",
       "      <td>0.009874</td>\n",
       "      <td>0.010103</td>\n",
       "      <td>0.010862</td>\n",
       "      <td>0.014451</td>\n",
       "      <td>0.007847</td>\n",
       "      <td>0.011302</td>\n",
       "      <td>0.014864</td>\n",
       "      <td>0.012576</td>\n",
       "      <td>0.008547</td>\n",
       "    </tr>\n",
       "    <tr>\n",
       "      <th>ENSG00000180104</th>\n",
       "      <td>0.240815</td>\n",
       "      <td>1.000000</td>\n",
       "      <td>0.394044</td>\n",
       "      <td>0.092476</td>\n",
       "      <td>0.006065</td>\n",
       "      <td>0.010590</td>\n",
       "      <td>0.007414</td>\n",
       "      <td>0.004419</td>\n",
       "      <td>0.004101</td>\n",
       "      <td>0.006108</td>\n",
       "      <td>...</td>\n",
       "      <td>0.007530</td>\n",
       "      <td>0.002856</td>\n",
       "      <td>0.005054</td>\n",
       "      <td>0.007138</td>\n",
       "      <td>0.008508</td>\n",
       "      <td>0.005820</td>\n",
       "      <td>0.006728</td>\n",
       "      <td>0.006830</td>\n",
       "      <td>0.002946</td>\n",
       "      <td>0.004173</td>\n",
       "    </tr>\n",
       "    <tr>\n",
       "      <th>ENSG00000066230</th>\n",
       "      <td>0.161150</td>\n",
       "      <td>0.394044</td>\n",
       "      <td>1.000000</td>\n",
       "      <td>0.216369</td>\n",
       "      <td>0.012961</td>\n",
       "      <td>0.008745</td>\n",
       "      <td>0.006762</td>\n",
       "      <td>0.009393</td>\n",
       "      <td>0.012246</td>\n",
       "      <td>0.008238</td>\n",
       "      <td>...</td>\n",
       "      <td>0.007527</td>\n",
       "      <td>0.005530</td>\n",
       "      <td>0.008153</td>\n",
       "      <td>0.006234</td>\n",
       "      <td>0.008947</td>\n",
       "      <td>0.004306</td>\n",
       "      <td>0.007579</td>\n",
       "      <td>0.006019</td>\n",
       "      <td>0.002829</td>\n",
       "      <td>0.005606</td>\n",
       "    </tr>\n",
       "    <tr>\n",
       "      <th>ENSG00000112877</th>\n",
       "      <td>0.049611</td>\n",
       "      <td>0.092476</td>\n",
       "      <td>0.216369</td>\n",
       "      <td>1.000000</td>\n",
       "      <td>0.021994</td>\n",
       "      <td>0.007444</td>\n",
       "      <td>0.007431</td>\n",
       "      <td>0.008093</td>\n",
       "      <td>0.011573</td>\n",
       "      <td>0.003085</td>\n",
       "      <td>...</td>\n",
       "      <td>0.008217</td>\n",
       "      <td>0.007418</td>\n",
       "      <td>0.008980</td>\n",
       "      <td>0.009363</td>\n",
       "      <td>0.014036</td>\n",
       "      <td>0.009913</td>\n",
       "      <td>0.011692</td>\n",
       "      <td>0.008511</td>\n",
       "      <td>0.005459</td>\n",
       "      <td>0.005300</td>\n",
       "    </tr>\n",
       "    <tr>\n",
       "      <th>ENSG00000113504</th>\n",
       "      <td>0.015151</td>\n",
       "      <td>0.006065</td>\n",
       "      <td>0.012961</td>\n",
       "      <td>0.021994</td>\n",
       "      <td>1.000000</td>\n",
       "      <td>0.023247</td>\n",
       "      <td>0.009773</td>\n",
       "      <td>0.008319</td>\n",
       "      <td>0.114610</td>\n",
       "      <td>0.008152</td>\n",
       "      <td>...</td>\n",
       "      <td>0.011964</td>\n",
       "      <td>0.006446</td>\n",
       "      <td>0.007964</td>\n",
       "      <td>0.009621</td>\n",
       "      <td>0.011645</td>\n",
       "      <td>0.010967</td>\n",
       "      <td>0.013630</td>\n",
       "      <td>0.009901</td>\n",
       "      <td>0.007452</td>\n",
       "      <td>0.007947</td>\n",
       "    </tr>\n",
       "  </tbody>\n",
       "</table>\n",
       "<p>5 rows × 305 columns</p>\n",
       "</div>"
      ],
      "text/plain": [
       "                 ENSG00000073578  ENSG00000180104  ENSG00000066230  \\\n",
       "ENSG00000073578         1.000000         0.240815         0.161150   \n",
       "ENSG00000180104         0.240815         1.000000         0.394044   \n",
       "ENSG00000066230         0.161150         0.394044         1.000000   \n",
       "ENSG00000112877         0.049611         0.092476         0.216369   \n",
       "ENSG00000113504         0.015151         0.006065         0.012961   \n",
       "\n",
       "                 ENSG00000112877  ENSG00000113504  ENSG00000174358  \\\n",
       "ENSG00000073578         0.049611         0.015151         0.011679   \n",
       "ENSG00000180104         0.092476         0.006065         0.010590   \n",
       "ENSG00000066230         0.216369         0.012961         0.008745   \n",
       "ENSG00000112877         1.000000         0.021994         0.007444   \n",
       "ENSG00000113504         0.021994         1.000000         0.023247   \n",
       "\n",
       "                 ENSG00000164362  ENSG00000049656  ENSG00000153395  \\\n",
       "ENSG00000073578         0.008640         0.010104         0.012698   \n",
       "ENSG00000180104         0.007414         0.004419         0.004101   \n",
       "ENSG00000066230         0.006762         0.009393         0.012246   \n",
       "ENSG00000112877         0.007431         0.008093         0.011573   \n",
       "ENSG00000113504         0.009773         0.008319         0.114610   \n",
       "\n",
       "                 ENSG00000171421  ...  ENSG00000161021  ENSG00000161013  \\\n",
       "ENSG00000073578         0.008122  ...         0.008832         0.009874   \n",
       "ENSG00000180104         0.006108  ...         0.007530         0.002856   \n",
       "ENSG00000066230         0.008238  ...         0.007527         0.005530   \n",
       "ENSG00000112877         0.003085  ...         0.008217         0.007418   \n",
       "ENSG00000113504         0.008152  ...         0.011964         0.006446   \n",
       "\n",
       "                 ENSG00000161011  ENSG00000050748  ENSG00000131459  \\\n",
       "ENSG00000073578         0.010103         0.010862         0.014451   \n",
       "ENSG00000180104         0.005054         0.007138         0.008508   \n",
       "ENSG00000066230         0.008153         0.006234         0.008947   \n",
       "ENSG00000112877         0.008980         0.009363         0.014036   \n",
       "ENSG00000113504         0.007964         0.009621         0.011645   \n",
       "\n",
       "                 ENSG00000113300  ENSG00000037280  ENSG00000131446  \\\n",
       "ENSG00000073578         0.007847         0.011302         0.014864   \n",
       "ENSG00000180104         0.005820         0.006728         0.006830   \n",
       "ENSG00000066230         0.004306         0.007579         0.006019   \n",
       "ENSG00000112877         0.009913         0.011692         0.008511   \n",
       "ENSG00000113504         0.010967         0.013630         0.009901   \n",
       "\n",
       "                 ENSG00000113303  ENSG00000165810  \n",
       "ENSG00000073578         0.012576         0.008547  \n",
       "ENSG00000180104         0.002946         0.004173  \n",
       "ENSG00000066230         0.002829         0.005606  \n",
       "ENSG00000112877         0.005459         0.005300  \n",
       "ENSG00000113504         0.007452         0.007947  \n",
       "\n",
       "[5 rows x 305 columns]"
      ]
     },
     "execution_count": 31,
     "metadata": {},
     "output_type": "execute_result"
    }
   ],
   "source": [
    "gene_corrs_df.head()"
   ]
  },
  {
   "cell_type": "markdown",
   "id": "dad6603f-01c6-41fb-a6f6-241051207dd8",
   "metadata": {
    "papermill": {
     "duration": 2.188539,
     "end_time": "2022-08-30T17:35:54.503447",
     "exception": false,
     "start_time": "2022-08-30T17:35:52.314908",
     "status": "completed"
    },
    "tags": []
   },
   "source": [
    "## Standard checks and stats"
   ]
  },
  {
   "cell_type": "code",
   "execution_count": 32,
   "id": "286686af-1b7b-4440-8453-6bdcbd8de19c",
   "metadata": {
    "execution": {
     "iopub.execute_input": "2022-08-30T17:35:58.852425Z",
     "iopub.status.busy": "2022-08-30T17:35:58.852186Z",
     "iopub.status.idle": "2022-08-30T17:35:58.878039Z",
     "shell.execute_reply": "2022-08-30T17:35:58.877652Z"
    },
    "papermill": {
     "duration": 2.215393,
     "end_time": "2022-08-30T17:35:58.879394",
     "exception": false,
     "start_time": "2022-08-30T17:35:56.664001",
     "status": "completed"
    },
    "tags": []
   },
   "outputs": [],
   "source": [
    "assert not gene_corrs_df.isna().any().any()"
   ]
  },
  {
   "cell_type": "code",
   "execution_count": 33,
   "id": "00583efc-7068-4270-ad1e-4a418e91db96",
   "metadata": {
    "execution": {
     "iopub.execute_input": "2022-08-30T17:36:03.221856Z",
     "iopub.status.busy": "2022-08-30T17:36:03.221620Z",
     "iopub.status.idle": "2022-08-30T17:36:03.242986Z",
     "shell.execute_reply": "2022-08-30T17:36:03.242605Z"
    },
    "papermill": {
     "duration": 2.199262,
     "end_time": "2022-08-30T17:36:03.244178",
     "exception": false,
     "start_time": "2022-08-30T17:36:01.044916",
     "status": "completed"
    },
    "tags": []
   },
   "outputs": [
    {
     "data": {
      "text/plain": [
       "6.617782502068901e-09"
      ]
     },
     "metadata": {},
     "output_type": "display_data"
    }
   ],
   "source": [
    "_min_val = gene_corrs_df.min().min()\n",
    "display(_min_val)\n",
    "assert _min_val >= -0.05"
   ]
  },
  {
   "cell_type": "code",
   "execution_count": 34,
   "id": "d04fb2cf-1050-475b-b855-f5f7cc04092b",
   "metadata": {
    "execution": {
     "iopub.execute_input": "2022-08-30T17:36:07.597281Z",
     "iopub.status.busy": "2022-08-30T17:36:07.597043Z",
     "iopub.status.idle": "2022-08-30T17:36:07.619309Z",
     "shell.execute_reply": "2022-08-30T17:36:07.618906Z"
    },
    "papermill": {
     "duration": 2.198414,
     "end_time": "2022-08-30T17:36:07.620556",
     "exception": false,
     "start_time": "2022-08-30T17:36:05.422142",
     "status": "completed"
    },
    "tags": []
   },
   "outputs": [
    {
     "data": {
      "text/plain": [
       "1.000000000000003"
      ]
     },
     "metadata": {},
     "output_type": "display_data"
    }
   ],
   "source": [
    "_max_val = gene_corrs_df.max().max()  # this captures the diagonal\n",
    "display(_max_val)\n",
    "assert _max_val <= 1.05"
   ]
  },
  {
   "cell_type": "code",
   "execution_count": 35,
   "id": "96d02c44-1fba-47be-8a93-8f2608420b9c",
   "metadata": {
    "execution": {
     "iopub.execute_input": "2022-08-30T17:36:11.941781Z",
     "iopub.status.busy": "2022-08-30T17:36:11.941531Z",
     "iopub.status.idle": "2022-08-30T17:36:12.086205Z",
     "shell.execute_reply": "2022-08-30T17:36:12.085158Z"
    },
    "papermill": {
     "duration": 2.313776,
     "end_time": "2022-08-30T17:36:12.089778",
     "exception": false,
     "start_time": "2022-08-30T17:36:09.776002",
     "status": "completed"
    },
    "tags": []
   },
   "outputs": [],
   "source": [
    "# check upper triangular values\n",
    "# assert len(gene_corrs) == int(genes_chr.shape[0] * (genes_chr.shape[0] - 1) / 2)"
   ]
  },
  {
   "cell_type": "code",
   "execution_count": 36,
   "id": "fe283586-c348-40e0-8841-f6d97bfb021c",
   "metadata": {
    "execution": {
     "iopub.execute_input": "2022-08-30T17:36:16.569680Z",
     "iopub.status.busy": "2022-08-30T17:36:16.569418Z",
     "iopub.status.idle": "2022-08-30T17:36:16.596714Z",
     "shell.execute_reply": "2022-08-30T17:36:16.596258Z"
    },
    "papermill": {
     "duration": 2.262284,
     "end_time": "2022-08-30T17:36:16.597951",
     "exception": false,
     "start_time": "2022-08-30T17:36:14.335667",
     "status": "completed"
    },
    "tags": []
   },
   "outputs": [
    {
     "data": {
      "text/plain": [
       "count    4.666500e+04\n",
       "mean     1.460135e-02\n",
       "std      8.523308e-02\n",
       "min      6.617783e-09\n",
       "25%      3.897571e-03\n",
       "50%      5.855110e-03\n",
       "75%      8.113317e-03\n",
       "max      1.000000e+00\n",
       "dtype: float64"
      ]
     },
     "execution_count": 36,
     "metadata": {},
     "output_type": "execute_result"
    }
   ],
   "source": [
    "gene_corrs_flat.describe()"
   ]
  },
  {
   "cell_type": "code",
   "execution_count": 37,
   "id": "b3815678-0f93-4b35-897b-a9d047a2aa78",
   "metadata": {
    "execution": {
     "iopub.execute_input": "2022-08-30T17:36:20.891202Z",
     "iopub.status.busy": "2022-08-30T17:36:20.890963Z",
     "iopub.status.idle": "2022-08-30T17:36:20.914722Z",
     "shell.execute_reply": "2022-08-30T17:36:20.914064Z"
    },
    "papermill": {
     "duration": 2.113362,
     "end_time": "2022-08-30T17:36:20.916058",
     "exception": false,
     "start_time": "2022-08-30T17:36:18.802696",
     "status": "completed"
    },
    "tags": []
   },
   "outputs": [
    {
     "data": {
      "text/plain": [
       "0.00    6.617783e-09\n",
       "0.05    1.561026e-03\n",
       "0.10    2.333130e-03\n",
       "0.15    2.921844e-03\n",
       "0.20    3.437464e-03\n",
       "0.25    3.897571e-03\n",
       "0.30    4.317326e-03\n",
       "0.35    4.705976e-03\n",
       "0.40    5.100016e-03\n",
       "0.45    5.463255e-03\n",
       "0.50    5.855110e-03\n",
       "0.55    6.251625e-03\n",
       "0.60    6.664786e-03\n",
       "0.65    7.107842e-03\n",
       "0.70    7.591948e-03\n",
       "0.75    8.113317e-03\n",
       "0.80    8.725198e-03\n",
       "0.85    9.478899e-03\n",
       "0.90    1.048371e-02\n",
       "0.95    1.224553e-02\n",
       "dtype: float64"
      ]
     },
     "metadata": {},
     "output_type": "display_data"
    }
   ],
   "source": [
    "gene_corrs_quantiles = gene_corrs_flat.quantile(np.arange(0, 1, 0.05))\n",
    "display(gene_corrs_quantiles)"
   ]
  },
  {
   "cell_type": "markdown",
   "id": "87134509-b145-4a10-8bc9-b7e914c2b0fa",
   "metadata": {
    "papermill": {
     "duration": 2.239168,
     "end_time": "2022-08-30T17:36:25.330972",
     "exception": false,
     "start_time": "2022-08-30T17:36:23.091804",
     "status": "completed"
    },
    "tags": []
   },
   "source": [
    "## Positive definiteness"
   ]
  },
  {
   "cell_type": "code",
   "execution_count": 38,
   "id": "07d9a9a1-a4f7-48aa-b916-6d42a8cc6186",
   "metadata": {
    "execution": {
     "iopub.execute_input": "2022-08-30T17:36:29.639409Z",
     "iopub.status.busy": "2022-08-30T17:36:29.639174Z",
     "iopub.status.idle": "2022-08-30T17:36:29.683577Z",
     "shell.execute_reply": "2022-08-30T17:36:29.683186Z"
    },
    "papermill": {
     "duration": 2.140137,
     "end_time": "2022-08-30T17:36:29.684801",
     "exception": false,
     "start_time": "2022-08-30T17:36:27.544664",
     "status": "completed"
    },
    "tags": []
   },
   "outputs": [
    {
     "data": {
      "text/plain": [
       "0"
      ]
     },
     "metadata": {},
     "output_type": "display_data"
    },
    {
     "data": {
      "text/plain": [
       "array([], dtype=float64)"
      ]
     },
     "metadata": {},
     "output_type": "display_data"
    }
   ],
   "source": [
    "# print negative eigenvalues\n",
    "eigs = np.linalg.eigvals(gene_corrs_df.to_numpy())\n",
    "display(len(eigs[eigs < 0]))\n",
    "display(eigs[eigs < 0])"
   ]
  },
  {
   "cell_type": "code",
   "execution_count": 39,
   "id": "6e218436-c3c5-4028-8c94-a4fa6260efce",
   "metadata": {
    "execution": {
     "iopub.execute_input": "2022-08-30T17:36:34.004694Z",
     "iopub.status.busy": "2022-08-30T17:36:34.004436Z",
     "iopub.status.idle": "2022-08-30T17:36:34.137307Z",
     "shell.execute_reply": "2022-08-30T17:36:34.136357Z"
    },
    "papermill": {
     "duration": 2.296989,
     "end_time": "2022-08-30T17:36:34.139839",
     "exception": false,
     "start_time": "2022-08-30T17:36:31.842850",
     "status": "completed"
    },
    "tags": []
   },
   "outputs": [
    {
     "name": "stdout",
     "output_type": "stream",
     "text": [
      "Works!\n"
     ]
    }
   ],
   "source": [
    "try:\n",
    "    chol_mat = np.linalg.cholesky(gene_corrs_df.to_numpy())\n",
    "    cov_inv = np.linalg.inv(chol_mat)\n",
    "    print(\"Works!\")\n",
    "except Exception as e:\n",
    "    print(f\"Cholesky decomposition failed: {str(e)}\")"
   ]
  },
  {
   "cell_type": "code",
   "execution_count": 40,
   "id": "dd8827fb-faf9-4c7c-9454-015e94752706",
   "metadata": {
    "execution": {
     "iopub.execute_input": "2022-08-30T17:36:38.634963Z",
     "iopub.status.busy": "2022-08-30T17:36:38.634725Z",
     "iopub.status.idle": "2022-08-30T17:36:38.661246Z",
     "shell.execute_reply": "2022-08-30T17:36:38.660604Z"
    },
    "papermill": {
     "duration": 2.28541,
     "end_time": "2022-08-30T17:36:38.662534",
     "exception": false,
     "start_time": "2022-08-30T17:36:36.377124",
     "status": "completed"
    },
    "tags": []
   },
   "outputs": [
    {
     "name": "stdout",
     "output_type": "stream",
     "text": [
      "Works!\n"
     ]
    }
   ],
   "source": [
    "try:\n",
    "    # decomposition used by statsmodels.GLS\n",
    "    cholsigmainv = np.linalg.cholesky(np.linalg.inv(gene_corrs_df.to_numpy())).T\n",
    "    print(\"Works!\")\n",
    "except Exception as e:\n",
    "    print(f\"Cholesky decomposition failed (statsmodels.GLS): {str(e)}\")"
   ]
  },
  {
   "cell_type": "markdown",
   "id": "8e60a080-edb2-4e9c-b2ef-22961693200c",
   "metadata": {
    "papermill": {
     "duration": 2.100391,
     "end_time": "2022-08-30T17:36:42.934718",
     "exception": false,
     "start_time": "2022-08-30T17:36:40.834327",
     "status": "completed"
    },
    "tags": []
   },
   "source": [
    "## Plot: distribution"
   ]
  },
  {
   "cell_type": "code",
   "execution_count": 41,
   "id": "8301126b-a7d4-4744-9c7d-f0f86eb6f54c",
   "metadata": {
    "execution": {
     "iopub.execute_input": "2022-08-30T17:36:47.324556Z",
     "iopub.status.busy": "2022-08-30T17:36:47.324302Z",
     "iopub.status.idle": "2022-08-30T17:36:55.373614Z",
     "shell.execute_reply": "2022-08-30T17:36:55.372800Z"
    },
    "papermill": {
     "duration": 10.286064,
     "end_time": "2022-08-30T17:36:55.375158",
     "exception": false,
     "start_time": "2022-08-30T17:36:45.089094",
     "status": "completed"
    },
    "tags": []
   },
   "outputs": [
    {
     "data": {
      "image/png": "[encoded data removed]",
      "text/plain": [
       "<Figure size 504x504 with 1 Axes>"
      ]
     },
     "metadata": {
      "needs_background": "light"
     },
     "output_type": "display_data"
    }
   ],
   "source": [
    "with sns.plotting_context(\"paper\", font_scale=1.5):\n",
    "    g = sns.displot(gene_corrs_flat, kde=True, height=7)\n",
    "    g.ax.set_title(\n",
    "        f\"Distribution of gene correlation values in chromosome {CHROMOSOME}\"\n",
    "    )"
   ]
  },
  {
   "cell_type": "markdown",
   "id": "cbd52bca-d878-4a2f-b684-5c83aa3038d4",
   "metadata": {
    "papermill": {
     "duration": 2.098368,
     "end_time": "2022-08-30T17:36:59.648730",
     "exception": false,
     "start_time": "2022-08-30T17:36:57.550362",
     "status": "completed"
    },
    "tags": []
   },
   "source": [
    "## Plot: heatmap"
   ]
  },
  {
   "cell_type": "code",
   "execution_count": 42,
   "id": "d03fe63a-c7b2-4fb9-a53c-db362ce843c9",
   "metadata": {
    "execution": {
     "iopub.execute_input": "2022-08-30T17:37:03.950860Z",
     "iopub.status.busy": "2022-08-30T17:37:03.950600Z",
     "iopub.status.idle": "2022-08-30T17:37:04.119635Z",
     "shell.execute_reply": "2022-08-30T17:37:04.118475Z"
    },
    "papermill": {
     "duration": 2.320798,
     "end_time": "2022-08-30T17:37:04.123194",
     "exception": false,
     "start_time": "2022-08-30T17:37:01.802396",
     "status": "completed"
    },
    "tags": []
   },
   "outputs": [
    {
     "data": {
      "text/plain": [
       "'0.0 / 0.05'"
      ]
     },
     "metadata": {},
     "output_type": "display_data"
    }
   ],
   "source": [
    "vmin_val = min(0.00, gene_corrs_quantiles[0.10])\n",
    "vmax_val = max(0.05, gene_corrs_quantiles[0.90])\n",
    "display(f\"{vmin_val} / {vmax_val}\")"
   ]
  },
  {
   "cell_type": "code",
   "execution_count": 43,
   "id": "dc41b70b-5bcc-4d9e-9f33-a22c4a94dab5",
   "metadata": {
    "execution": {
     "iopub.execute_input": "2022-08-30T17:37:08.610046Z",
     "iopub.status.busy": "2022-08-30T17:37:08.609806Z",
     "iopub.status.idle": "2022-08-30T17:37:08.848878Z",
     "shell.execute_reply": "2022-08-30T17:37:08.848260Z"
    },
    "papermill": {
     "duration": 2.414128,
     "end_time": "2022-08-30T17:37:08.850328",
     "exception": false,
     "start_time": "2022-08-30T17:37:06.436200",
     "status": "completed"
    },
    "tags": []
   },
   "outputs": [
    {
     "data": {
      "text/plain": [
       "Text(0.5, 1.0, 'Gene correlations in chromosome 5')"
      ]
     },
     "execution_count": 43,
     "metadata": {},
     "output_type": "execute_result"
    },
    {
     "data": {
      "image/png": "[encoded data removed]",
      "text/plain": [
       "<Figure size 720x720 with 2 Axes>"
      ]
     },
     "metadata": {
      "needs_background": "light"
     },
     "output_type": "display_data"
    }
   ],
   "source": [
    "f, ax = plt.subplots(figsize=(10, 10))\n",
    "sns.heatmap(\n",
    "    gene_corrs_df,\n",
    "    xticklabels=False,\n",
    "    yticklabels=False,\n",
    "    square=True,\n",
    "    vmin=vmin_val,\n",
    "    vmax=vmax_val,\n",
    "    cmap=\"rocket_r\",\n",
    "    ax=ax,\n",
    ")\n",
    "ax.set_title(f\"Gene correlations in chromosome {CHROMOSOME}\")"
   ]
  },
  {
   "cell_type": "code",
   "execution_count": null,
   "id": "b25e3ead",
   "metadata": {
    "papermill": {
     "duration": 2.181504,
     "end_time": "2022-08-30T17:37:13.209161",
     "exception": false,
     "start_time": "2022-08-30T17:37:11.027657",
     "status": "completed"
    },
    "tags": []
   },
   "outputs": [],
   "source": []
  }
 ],
 "metadata": {
  "jupytext": {
   "cell_metadata_filter": "all,-execution,-papermill,-trusted",
   "formats": "ipynb,py//py:percent"
  },
  "kernelspec": {
   "display_name": "Python 3 (ipykernel)",
   "language": "python",
   "name": "python3"
  },
  "language_info": {
   "codemirror_mode": {
    "name": "ipython",
    "version": 3
   },
   "file_extension": ".py",
   "mimetype": "text/x-python",
   "name": "python",
   "nbconvert_exporter": "python",
   "pygments_lexer": "ipython3",
   "version": "3.8.13"
  },
  "papermill": {
   "default_parameters": {},
   "duration": 2745.368418,
   "end_time": "2022-08-30T17:37:18.603755",
   "environment_variables": {},
   "exception": null,
   "input_path": "nbs/15_gsa_gls/10-gene_expr_correlations.ipynb",
   "output_path": "nbs/15_gsa_gls/gene_corrs/cohorts/emerge/gtex_v8/mashr/10-gene_expr_corrs/10-gene_expr_correlations-chr5.run.ipynb",
   "parameters": {
    "CHROMOSOME": 5,
    "COHORT_NAME": "emerge",
    "EQTL_MODEL": "MASHR",
    "REFERENCE_PANEL": "GTEX_V8"
   },
   "start_time": "2022-08-30T16:51:33.235337",
   "version": "2.2.2"
  }
 },
 "nbformat": 4,
 "nbformat_minor": 5
}
