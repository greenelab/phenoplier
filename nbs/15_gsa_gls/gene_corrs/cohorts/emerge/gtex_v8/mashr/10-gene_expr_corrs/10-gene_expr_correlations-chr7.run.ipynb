{
 "cells": [
  {
   "cell_type": "markdown",
   "id": "7a6632fb",
   "metadata": {
    "papermill": {
     "duration": 0.019634,
     "end_time": "2022-08-30T16:51:35.534037",
     "exception": false,
     "start_time": "2022-08-30T16:51:35.514403",
     "status": "completed"
    },
    "tags": []
   },
   "source": [
    "# Description"
   ]
  },
  {
   "cell_type": "markdown",
   "id": "7097c346",
   "metadata": {
    "papermill": {
     "duration": 0.015334,
     "end_time": "2022-08-30T16:51:35.565373",
     "exception": false,
     "start_time": "2022-08-30T16:51:35.550039",
     "status": "completed"
    },
    "tags": []
   },
   "source": [
    "(Please, take a look at the README.md file in this directory for instructions on how to run this notebook)\n",
    "\n",
    "This notebook computes predicted expression correlations between all genes in the MultiPLIER models.\n",
    "\n",
    "It also has a parameter set for papermill to run on a single chromosome to run in parallel (see under `Settings` below).\n",
    "\n",
    "This notebook is not directly run. See README.md."
   ]
  },
  {
   "cell_type": "markdown",
   "id": "c61d8427",
   "metadata": {
    "papermill": {
     "duration": 0.013548,
     "end_time": "2022-08-30T16:51:35.593244",
     "exception": false,
     "start_time": "2022-08-30T16:51:35.579696",
     "status": "completed"
    },
    "tags": []
   },
   "source": [
    "# Modules"
   ]
  },
  {
   "cell_type": "code",
   "execution_count": 1,
   "id": "bbc0234f",
   "metadata": {
    "execution": {
     "iopub.execute_input": "2022-08-30T16:51:35.622223Z",
     "iopub.status.busy": "2022-08-30T16:51:35.621853Z",
     "iopub.status.idle": "2022-08-30T16:51:35.703630Z",
     "shell.execute_reply": "2022-08-30T16:51:35.702567Z"
    },
    "papermill": {
     "duration": 0.100284,
     "end_time": "2022-08-30T16:51:35.707226",
     "exception": false,
     "start_time": "2022-08-30T16:51:35.606942",
     "status": "completed"
    },
    "tags": []
   },
   "outputs": [],
   "source": [
    "%load_ext autoreload\n",
    "%autoreload 2"
   ]
  },
  {
   "cell_type": "code",
   "execution_count": 2,
   "id": "1d5f5a59",
   "metadata": {
    "execution": {
     "iopub.execute_input": "2022-08-30T16:51:35.738925Z",
     "iopub.status.busy": "2022-08-30T16:51:35.738570Z",
     "iopub.status.idle": "2022-08-30T16:51:38.384597Z",
     "shell.execute_reply": "2022-08-30T16:51:38.383875Z"
    },
    "papermill": {
     "duration": 2.663874,
     "end_time": "2022-08-30T16:51:38.386557",
     "exception": false,
     "start_time": "2022-08-30T16:51:35.722683",
     "status": "completed"
    },
    "tags": []
   },
   "outputs": [],
   "source": [
    "from random import sample, seed\n",
    "import warnings\n",
    "from pathlib import Path\n",
    "import pickle\n",
    "import traceback\n",
    "\n",
    "import numpy as np\n",
    "from scipy.spatial.distance import squareform\n",
    "import pandas as pd\n",
    "from tqdm import tqdm\n",
    "import matplotlib.pyplot as plt\n",
    "import seaborn as sns\n",
    "\n",
    "import conf\n",
    "from entity import Gene"
   ]
  },
  {
   "cell_type": "markdown",
   "id": "1eac24b5",
   "metadata": {
    "papermill": {
     "duration": 0.03397,
     "end_time": "2022-08-30T16:51:38.438958",
     "exception": false,
     "start_time": "2022-08-30T16:51:38.404988",
     "status": "completed"
    },
    "tags": []
   },
   "source": [
    "# Settings"
   ]
  },
  {
   "cell_type": "code",
   "execution_count": 3,
   "id": "ca4560ba",
   "metadata": {
    "execution": {
     "iopub.execute_input": "2022-08-30T16:51:38.463689Z",
     "iopub.status.busy": "2022-08-30T16:51:38.463446Z",
     "iopub.status.idle": "2022-08-30T16:51:39.368448Z",
     "shell.execute_reply": "2022-08-30T16:51:39.367333Z"
    },
    "papermill": {
     "duration": 0.924257,
     "end_time": "2022-08-30T16:51:39.372082",
     "exception": false,
     "start_time": "2022-08-30T16:51:38.447825",
     "status": "completed"
    },
    "tags": [
     "parameters"
    ]
   },
   "outputs": [],
   "source": [
    "# a cohort name (it could be something like UK_BIOBANK, etc)\n",
    "COHORT_NAME = None\n",
    "\n",
    "# reference panel such as 1000G or GTEX_V8\n",
    "REFERENCE_PANEL = None\n",
    "\n",
    "# predictions models such as MASHR or ELASTIC_NET\n",
    "EQTL_MODEL = None\n",
    "\n",
    "# this is the default value used in S-MultiXcan to select the\n",
    "# top principal components of the expression correlation matrix\n",
    "SMULTIXCAN_CONDITION_NUMBER = 30\n",
    "\n",
    "# specifies a single chromosome value\n",
    "CHROMOSOME = None\n",
    "\n",
    "# If True, computes the correlation between closeby genes only;\n",
    "# otherwise, it computes correlations for all genes in a chromosome\n",
    "COMPUTE_CORRELATIONS_WITHIN_DISTANCE = False\n",
    "\n",
    "# if True, then it will continue if a gene pair correlation fails,\n",
    "# printing the warning/error for debugging. If False, any warning/error\n",
    "# will be thrown\n",
    "DEBUG_MODE = False"
   ]
  },
  {
   "cell_type": "code",
   "execution_count": 4,
   "id": "ef83adbf",
   "metadata": {
    "execution": {
     "iopub.execute_input": "2022-08-30T16:51:39.410242Z",
     "iopub.status.busy": "2022-08-30T16:51:39.409852Z",
     "iopub.status.idle": "2022-08-30T16:51:39.463151Z",
     "shell.execute_reply": "2022-08-30T16:51:39.462225Z"
    },
    "papermill": {
     "duration": 0.073635,
     "end_time": "2022-08-30T16:51:39.466125",
     "exception": false,
     "start_time": "2022-08-30T16:51:39.392490",
     "status": "completed"
    },
    "tags": [
     "injected-parameters"
    ]
   },
   "outputs": [],
   "source": [
    "# Parameters\n",
    "COHORT_NAME = \"emerge\"\n",
    "REFERENCE_PANEL = \"GTEX_V8\"\n",
    "EQTL_MODEL = \"MASHR\"\n",
    "CHROMOSOME = 7\n"
   ]
  },
  {
   "cell_type": "code",
   "execution_count": 5,
   "id": "3190631f-27fc-480f-b18e-571d580425a5",
   "metadata": {
    "execution": {
     "iopub.execute_input": "2022-08-30T16:51:39.495594Z",
     "iopub.status.busy": "2022-08-30T16:51:39.495258Z",
     "iopub.status.idle": "2022-08-30T16:51:39.531662Z",
     "shell.execute_reply": "2022-08-30T16:51:39.530816Z"
    },
    "papermill": {
     "duration": 0.053506,
     "end_time": "2022-08-30T16:51:39.533835",
     "exception": false,
     "start_time": "2022-08-30T16:51:39.480329",
     "status": "completed"
    },
    "tags": []
   },
   "outputs": [
    {
     "data": {
      "text/plain": [
       "'Cohort name: emerge'"
      ]
     },
     "metadata": {},
     "output_type": "display_data"
    }
   ],
   "source": [
    "assert COHORT_NAME is not None and len(COHORT_NAME) > 0, \"A cohort name must be given\"\n",
    "\n",
    "COHORT_NAME = COHORT_NAME.lower()\n",
    "display(f\"Cohort name: {COHORT_NAME}\")"
   ]
  },
  {
   "cell_type": "code",
   "execution_count": 6,
   "id": "f53ba19b-0f93-4fa2-a047-63b375939d1a",
   "metadata": {
    "execution": {
     "iopub.execute_input": "2022-08-30T16:51:39.560159Z",
     "iopub.status.busy": "2022-08-30T16:51:39.559877Z",
     "iopub.status.idle": "2022-08-30T16:51:39.598719Z",
     "shell.execute_reply": "2022-08-30T16:51:39.598016Z"
    },
    "papermill": {
     "duration": 0.054186,
     "end_time": "2022-08-30T16:51:39.600789",
     "exception": false,
     "start_time": "2022-08-30T16:51:39.546603",
     "status": "completed"
    },
    "tags": []
   },
   "outputs": [
    {
     "data": {
      "text/plain": [
       "'Reference panel: GTEX_V8'"
      ]
     },
     "metadata": {},
     "output_type": "display_data"
    }
   ],
   "source": [
    "assert (\n",
    "    REFERENCE_PANEL is not None and len(REFERENCE_PANEL) > 0\n",
    "), \"A reference panel must be given\"\n",
    "\n",
    "display(f\"Reference panel: {REFERENCE_PANEL}\")"
   ]
  },
  {
   "cell_type": "code",
   "execution_count": 7,
   "id": "e024d130-c139-429a-9c6e-ccf149e297b0",
   "metadata": {
    "execution": {
     "iopub.execute_input": "2022-08-30T16:51:39.627583Z",
     "iopub.status.busy": "2022-08-30T16:51:39.627324Z",
     "iopub.status.idle": "2022-08-30T16:51:39.656120Z",
     "shell.execute_reply": "2022-08-30T16:51:39.655347Z"
    },
    "papermill": {
     "duration": 0.045663,
     "end_time": "2022-08-30T16:51:39.658046",
     "exception": false,
     "start_time": "2022-08-30T16:51:39.612383",
     "status": "completed"
    },
    "tags": []
   },
   "outputs": [
    {
     "data": {
      "text/plain": [
       "'eQTL model: MASHR) / mashr_'"
      ]
     },
     "metadata": {},
     "output_type": "display_data"
    }
   ],
   "source": [
    "assert (\n",
    "    EQTL_MODEL is not None and len(EQTL_MODEL) > 0\n",
    "), \"A prediction/eQTL model must be given\"\n",
    "\n",
    "EQTL_MODEL_FILES_PREFIX = conf.PHENOMEXCAN[\"PREDICTION_MODELS\"][f\"{EQTL_MODEL}_PREFIX\"]\n",
    "display(f\"eQTL model: {EQTL_MODEL}) / {EQTL_MODEL_FILES_PREFIX}\")"
   ]
  },
  {
   "cell_type": "code",
   "execution_count": 8,
   "id": "552a7f63-a18c-4d3e-bb6a-94f99b431291",
   "metadata": {
    "execution": {
     "iopub.execute_input": "2022-08-30T16:51:39.682002Z",
     "iopub.status.busy": "2022-08-30T16:51:39.681743Z",
     "iopub.status.idle": "2022-08-30T16:51:39.724684Z",
     "shell.execute_reply": "2022-08-30T16:51:39.723954Z"
    },
    "papermill": {
     "duration": 0.057644,
     "end_time": "2022-08-30T16:51:39.726849",
     "exception": false,
     "start_time": "2022-08-30T16:51:39.669205",
     "status": "completed"
    },
    "tags": []
   },
   "outputs": [
    {
     "data": {
      "text/plain": [
       "'S-MultiXcan condition number: 30'"
      ]
     },
     "metadata": {},
     "output_type": "display_data"
    }
   ],
   "source": [
    "assert (\n",
    "    SMULTIXCAN_CONDITION_NUMBER is not None and SMULTIXCAN_CONDITION_NUMBER > 0\n",
    "), \"The S-MultiXcan condition number (positive integer) must be given\"\n",
    "\n",
    "display(f\"S-MultiXcan condition number: {SMULTIXCAN_CONDITION_NUMBER}\")"
   ]
  },
  {
   "cell_type": "code",
   "execution_count": 9,
   "id": "f34a336f-548e-4afe-8955-90eaea4f42c6",
   "metadata": {
    "execution": {
     "iopub.execute_input": "2022-08-30T16:51:39.751410Z",
     "iopub.status.busy": "2022-08-30T16:51:39.751141Z",
     "iopub.status.idle": "2022-08-30T16:51:39.778173Z",
     "shell.execute_reply": "2022-08-30T16:51:39.777392Z"
    },
    "papermill": {
     "duration": 0.04169,
     "end_time": "2022-08-30T16:51:39.780235",
     "exception": false,
     "start_time": "2022-08-30T16:51:39.738545",
     "status": "completed"
    },
    "tags": []
   },
   "outputs": [
    {
     "data": {
      "text/plain": [
       "'Working on chromosome 7'"
      ]
     },
     "metadata": {},
     "output_type": "display_data"
    }
   ],
   "source": [
    "assert CHROMOSOME is not None and (\n",
    "    1 <= CHROMOSOME <= 22\n",
    "), \"You have to select one chromosome (format: number between 1 and 22)\"\n",
    "\n",
    "# CHROMOSOME = str(CHROMOSOME)\n",
    "display(f\"Working on chromosome {CHROMOSOME}\")"
   ]
  },
  {
   "cell_type": "code",
   "execution_count": 10,
   "id": "ab8e96e8-06b5-4363-9dcd-dc4d78cc27f7",
   "metadata": {
    "execution": {
     "iopub.execute_input": "2022-08-30T16:51:39.804415Z",
     "iopub.status.busy": "2022-08-30T16:51:39.804171Z",
     "iopub.status.idle": "2022-08-30T16:51:39.823048Z",
     "shell.execute_reply": "2022-08-30T16:51:39.822528Z"
    },
    "papermill": {
     "duration": 0.032658,
     "end_time": "2022-08-30T16:51:39.824550",
     "exception": false,
     "start_time": "2022-08-30T16:51:39.791892",
     "status": "completed"
    },
    "tags": []
   },
   "outputs": [
    {
     "data": {
      "text/plain": [
       "'Compute correlation within distance False'"
      ]
     },
     "metadata": {},
     "output_type": "display_data"
    }
   ],
   "source": [
    "display(f\"Compute correlation within distance {COMPUTE_CORRELATIONS_WITHIN_DISTANCE}\")"
   ]
  },
  {
   "cell_type": "code",
   "execution_count": 11,
   "id": "396392dc-0340-4540-9b02-e182b833f909",
   "metadata": {
    "execution": {
     "iopub.execute_input": "2022-08-30T16:51:39.846097Z",
     "iopub.status.busy": "2022-08-30T16:51:39.845895Z",
     "iopub.status.idle": "2022-08-30T16:51:39.871032Z",
     "shell.execute_reply": "2022-08-30T16:51:39.870518Z"
    },
    "papermill": {
     "duration": 0.03807,
     "end_time": "2022-08-30T16:51:39.872511",
     "exception": false,
     "start_time": "2022-08-30T16:51:39.834441",
     "status": "completed"
    },
    "tags": []
   },
   "outputs": [
    {
     "data": {
      "text/plain": [
       "'Using output dir base: /project/ritchie20/projects/phenoplier/base/results/gls/gene_corrs/cohorts/emerge/gtex_v8/mashr'"
      ]
     },
     "metadata": {},
     "output_type": "display_data"
    }
   ],
   "source": [
    "OUTPUT_DIR_BASE = (\n",
    "    conf.RESULTS[\"GLS\"]\n",
    "    / \"gene_corrs\"\n",
    "    / \"cohorts\"\n",
    "    / COHORT_NAME\n",
    "    / REFERENCE_PANEL.lower()\n",
    "    / EQTL_MODEL.lower()\n",
    ")\n",
    "OUTPUT_DIR_BASE.mkdir(parents=True, exist_ok=True)\n",
    "\n",
    "display(f\"Using output dir base: {OUTPUT_DIR_BASE}\")"
   ]
  },
  {
   "cell_type": "markdown",
   "id": "d2ba085e",
   "metadata": {
    "papermill": {
     "duration": 0.008735,
     "end_time": "2022-08-30T16:51:39.890494",
     "exception": false,
     "start_time": "2022-08-30T16:51:39.881759",
     "status": "completed"
    },
    "tags": []
   },
   "source": [
    "# Load data"
   ]
  },
  {
   "cell_type": "markdown",
   "id": "7dcb8db7",
   "metadata": {
    "papermill": {
     "duration": 0.009634,
     "end_time": "2022-08-30T16:51:39.910804",
     "exception": false,
     "start_time": "2022-08-30T16:51:39.901170",
     "status": "completed"
    },
    "tags": []
   },
   "source": [
    "## GWAS variants"
   ]
  },
  {
   "cell_type": "code",
   "execution_count": 12,
   "id": "29434c4e-8cd3-4b9b-82e4-b5a251d9dd19",
   "metadata": {
    "execution": {
     "iopub.execute_input": "2022-08-30T16:51:39.930015Z",
     "iopub.status.busy": "2022-08-30T16:51:39.929811Z",
     "iopub.status.idle": "2022-08-30T16:51:42.411852Z",
     "shell.execute_reply": "2022-08-30T16:51:42.411027Z"
    },
    "papermill": {
     "duration": 2.494497,
     "end_time": "2022-08-30T16:51:42.413929",
     "exception": false,
     "start_time": "2022-08-30T16:51:39.919432",
     "status": "completed"
    },
    "tags": []
   },
   "outputs": [],
   "source": [
    "with open(OUTPUT_DIR_BASE / \"gwas_variant_ids.pkl\", \"rb\") as handle:\n",
    "    gwas_variants_ids_set = pickle.load(handle)"
   ]
  },
  {
   "cell_type": "code",
   "execution_count": 13,
   "id": "b9d9dec2-4a76-4bf9-bde2-e24c95acb8a0",
   "metadata": {
    "execution": {
     "iopub.execute_input": "2022-08-30T16:51:42.439474Z",
     "iopub.status.busy": "2022-08-30T16:51:42.439268Z",
     "iopub.status.idle": "2022-08-30T16:51:42.714756Z",
     "shell.execute_reply": "2022-08-30T16:51:42.713621Z"
    },
    "papermill": {
     "duration": 0.293343,
     "end_time": "2022-08-30T16:51:42.718130",
     "exception": false,
     "start_time": "2022-08-30T16:51:42.424787",
     "status": "completed"
    },
    "tags": []
   },
   "outputs": [
    {
     "data": {
      "text/plain": [
       "8376508"
      ]
     },
     "execution_count": 13,
     "metadata": {},
     "output_type": "execute_result"
    }
   ],
   "source": [
    "len(gwas_variants_ids_set)"
   ]
  },
  {
   "cell_type": "code",
   "execution_count": 14,
   "id": "4235b06a-6034-4ee4-a0a3-2ae35d122418",
   "metadata": {
    "execution": {
     "iopub.execute_input": "2022-08-30T16:51:42.756309Z",
     "iopub.status.busy": "2022-08-30T16:51:42.755937Z",
     "iopub.status.idle": "2022-08-30T16:51:43.384839Z",
     "shell.execute_reply": "2022-08-30T16:51:43.384307Z"
    },
    "papermill": {
     "duration": 0.648907,
     "end_time": "2022-08-30T16:51:43.386371",
     "exception": false,
     "start_time": "2022-08-30T16:51:42.737464",
     "status": "completed"
    },
    "tags": []
   },
   "outputs": [
    {
     "data": {
      "text/plain": [
       "['chr16_59387417_C_A_b38',\n",
       " 'chr13_103602075_G_GA_b38',\n",
       " 'chr1_9150203_G_A_b38',\n",
       " 'chr6_155782257_A_T_b38',\n",
       " 'chr5_107173857_G_T_b38']"
      ]
     },
     "execution_count": 14,
     "metadata": {},
     "output_type": "execute_result"
    }
   ],
   "source": [
    "list(gwas_variants_ids_set)[:5]"
   ]
  },
  {
   "cell_type": "markdown",
   "id": "07866999-2305-41f9-a144-e69c9122c212",
   "metadata": {
    "papermill": {
     "duration": 0.009428,
     "end_time": "2022-08-30T16:51:43.405718",
     "exception": false,
     "start_time": "2022-08-30T16:51:43.396290",
     "status": "completed"
    },
    "tags": []
   },
   "source": [
    "## S-PrediXcan tissue models"
   ]
  },
  {
   "cell_type": "code",
   "execution_count": 15,
   "id": "780611d9-77c8-405f-90a4-f271f7b09397",
   "metadata": {
    "execution": {
     "iopub.execute_input": "2022-08-30T16:51:43.429189Z",
     "iopub.status.busy": "2022-08-30T16:51:43.428967Z",
     "iopub.status.idle": "2022-08-30T16:51:44.254113Z",
     "shell.execute_reply": "2022-08-30T16:51:44.253368Z"
    },
    "papermill": {
     "duration": 0.840268,
     "end_time": "2022-08-30T16:51:44.256106",
     "exception": false,
     "start_time": "2022-08-30T16:51:43.415838",
     "status": "completed"
    },
    "tags": []
   },
   "outputs": [],
   "source": [
    "spredixcan_genes_models = pd.read_pickle(OUTPUT_DIR_BASE / \"gene_tissues.pkl\")"
   ]
  },
  {
   "cell_type": "code",
   "execution_count": 16,
   "id": "726dd1f6-9557-4225-91fa-b3b879ea96e1",
   "metadata": {
    "execution": {
     "iopub.execute_input": "2022-08-30T16:51:44.289905Z",
     "iopub.status.busy": "2022-08-30T16:51:44.289681Z",
     "iopub.status.idle": "2022-08-30T16:51:44.318920Z",
     "shell.execute_reply": "2022-08-30T16:51:44.318166Z"
    },
    "papermill": {
     "duration": 0.047611,
     "end_time": "2022-08-30T16:51:44.320434",
     "exception": false,
     "start_time": "2022-08-30T16:51:44.272823",
     "status": "completed"
    },
    "tags": []
   },
   "outputs": [
    {
     "data": {
      "text/plain": [
       "(6425, 3)"
      ]
     },
     "execution_count": 16,
     "metadata": {},
     "output_type": "execute_result"
    }
   ],
   "source": [
    "spredixcan_genes_models.shape"
   ]
  },
  {
   "cell_type": "code",
   "execution_count": 17,
   "id": "944a1b48-222c-4eb0-b252-b9de2cbca215",
   "metadata": {
    "execution": {
     "iopub.execute_input": "2022-08-30T16:51:44.347755Z",
     "iopub.status.busy": "2022-08-30T16:51:44.347563Z",
     "iopub.status.idle": "2022-08-30T16:51:44.379999Z",
     "shell.execute_reply": "2022-08-30T16:51:44.379278Z"
    },
    "papermill": {
     "duration": 0.048127,
     "end_time": "2022-08-30T16:51:44.381555",
     "exception": false,
     "start_time": "2022-08-30T16:51:44.333428",
     "status": "completed"
    },
    "tags": []
   },
   "outputs": [
    {
     "data": {
      "text/html": [
       "<div>\n",
       "<style scoped>\n",
       "    .dataframe tbody tr th:only-of-type {\n",
       "        vertical-align: middle;\n",
       "    }\n",
       "\n",
       "    .dataframe tbody tr th {\n",
       "        vertical-align: top;\n",
       "    }\n",
       "\n",
       "    .dataframe thead th {\n",
       "        text-align: right;\n",
       "    }\n",
       "</style>\n",
       "<table border=\"1\" class=\"dataframe\">\n",
       "  <thead>\n",
       "    <tr style=\"text-align: right;\">\n",
       "      <th></th>\n",
       "      <th>gene_name</th>\n",
       "      <th>tissue</th>\n",
       "      <th>n_tissues</th>\n",
       "    </tr>\n",
       "    <tr>\n",
       "      <th>gene_id</th>\n",
       "      <th></th>\n",
       "      <th></th>\n",
       "      <th></th>\n",
       "    </tr>\n",
       "  </thead>\n",
       "  <tbody>\n",
       "    <tr>\n",
       "      <th>ENSG00000000419</th>\n",
       "      <td>DPM1</td>\n",
       "      <td>(Brain_Substantia_nigra, Brain_Hypothalamus)</td>\n",
       "      <td>2</td>\n",
       "    </tr>\n",
       "    <tr>\n",
       "      <th>ENSG00000000938</th>\n",
       "      <td>FGR</td>\n",
       "      <td>(Pituitary, Skin_Not_Sun_Exposed_Suprapubic, B...</td>\n",
       "      <td>26</td>\n",
       "    </tr>\n",
       "    <tr>\n",
       "      <th>ENSG00000000971</th>\n",
       "      <td>CFH</td>\n",
       "      <td>(Heart_Atrial_Appendage, Pituitary, Skin_Not_S...</td>\n",
       "      <td>34</td>\n",
       "    </tr>\n",
       "    <tr>\n",
       "      <th>ENSG00000001084</th>\n",
       "      <td>GCLC</td>\n",
       "      <td>(Heart_Atrial_Appendage, Pituitary, Skin_Not_S...</td>\n",
       "      <td>32</td>\n",
       "    </tr>\n",
       "    <tr>\n",
       "      <th>ENSG00000001167</th>\n",
       "      <td>NFYA</td>\n",
       "      <td>(Heart_Atrial_Appendage, Skin_Not_Sun_Exposed_...</td>\n",
       "      <td>40</td>\n",
       "    </tr>\n",
       "  </tbody>\n",
       "</table>\n",
       "</div>"
      ],
      "text/plain": [
       "                gene_name                                             tissue  \\\n",
       "gene_id                                                                        \n",
       "ENSG00000000419      DPM1       (Brain_Substantia_nigra, Brain_Hypothalamus)   \n",
       "ENSG00000000938       FGR  (Pituitary, Skin_Not_Sun_Exposed_Suprapubic, B...   \n",
       "ENSG00000000971       CFH  (Heart_Atrial_Appendage, Pituitary, Skin_Not_S...   \n",
       "ENSG00000001084      GCLC  (Heart_Atrial_Appendage, Pituitary, Skin_Not_S...   \n",
       "ENSG00000001167      NFYA  (Heart_Atrial_Appendage, Skin_Not_Sun_Exposed_...   \n",
       "\n",
       "                 n_tissues  \n",
       "gene_id                     \n",
       "ENSG00000000419          2  \n",
       "ENSG00000000938         26  \n",
       "ENSG00000000971         34  \n",
       "ENSG00000001084         32  \n",
       "ENSG00000001167         40  "
      ]
     },
     "execution_count": 17,
     "metadata": {},
     "output_type": "execute_result"
    }
   ],
   "source": [
    "spredixcan_genes_models.head()"
   ]
  },
  {
   "cell_type": "code",
   "execution_count": 18,
   "id": "d1c11bb1-be0b-4f40-b360-633d6827109f",
   "metadata": {
    "execution": {
     "iopub.execute_input": "2022-08-30T16:51:44.411883Z",
     "iopub.status.busy": "2022-08-30T16:51:44.411682Z",
     "iopub.status.idle": "2022-08-30T16:51:44.428584Z",
     "shell.execute_reply": "2022-08-30T16:51:44.428012Z"
    },
    "papermill": {
     "duration": 0.033528,
     "end_time": "2022-08-30T16:51:44.430116",
     "exception": false,
     "start_time": "2022-08-30T16:51:44.396588",
     "status": "completed"
    },
    "tags": []
   },
   "outputs": [],
   "source": [
    "assert spredixcan_genes_models.index.is_unique"
   ]
  },
  {
   "cell_type": "markdown",
   "id": "a5b5092c-a13e-47c4-a92a-480fcc08f3ae",
   "metadata": {
    "papermill": {
     "duration": 0.014633,
     "end_time": "2022-08-30T16:51:44.459103",
     "exception": false,
     "start_time": "2022-08-30T16:51:44.444470",
     "status": "completed"
    },
    "tags": []
   },
   "source": [
    "## Gene info"
   ]
  },
  {
   "cell_type": "code",
   "execution_count": 19,
   "id": "7d6bb224-88e9-4358-ac10-43a41d92cdad",
   "metadata": {
    "execution": {
     "iopub.execute_input": "2022-08-30T16:51:44.486130Z",
     "iopub.status.busy": "2022-08-30T16:51:44.485921Z",
     "iopub.status.idle": "2022-08-30T16:51:44.704281Z",
     "shell.execute_reply": "2022-08-30T16:51:44.703282Z"
    },
    "papermill": {
     "duration": 0.233467,
     "end_time": "2022-08-30T16:51:44.707441",
     "exception": false,
     "start_time": "2022-08-30T16:51:44.473974",
     "status": "completed"
    },
    "tags": []
   },
   "outputs": [],
   "source": [
    "genes_info = pd.read_pickle(OUTPUT_DIR_BASE / \"genes_info.pkl\")"
   ]
  },
  {
   "cell_type": "code",
   "execution_count": 20,
   "id": "9e32abfa-546d-483e-8c18-d526e9e05903",
   "metadata": {
    "execution": {
     "iopub.execute_input": "2022-08-30T16:51:44.751115Z",
     "iopub.status.busy": "2022-08-30T16:51:44.750755Z",
     "iopub.status.idle": "2022-08-30T16:51:44.833968Z",
     "shell.execute_reply": "2022-08-30T16:51:44.832966Z"
    },
    "papermill": {
     "duration": 0.109291,
     "end_time": "2022-08-30T16:51:44.836910",
     "exception": false,
     "start_time": "2022-08-30T16:51:44.727619",
     "status": "completed"
    },
    "tags": []
   },
   "outputs": [
    {
     "data": {
      "text/plain": [
       "(6425, 7)"
      ]
     },
     "execution_count": 20,
     "metadata": {},
     "output_type": "execute_result"
    }
   ],
   "source": [
    "genes_info.shape"
   ]
  },
  {
   "cell_type": "code",
   "execution_count": 21,
   "id": "d16c3e92-85ec-468a-9a56-e25a9774a1cb",
   "metadata": {
    "execution": {
     "iopub.execute_input": "2022-08-30T16:51:44.877964Z",
     "iopub.status.busy": "2022-08-30T16:51:44.877597Z",
     "iopub.status.idle": "2022-08-30T16:51:44.941831Z",
     "shell.execute_reply": "2022-08-30T16:51:44.940837Z"
    },
    "papermill": {
     "duration": 0.08694,
     "end_time": "2022-08-30T16:51:44.944454",
     "exception": false,
     "start_time": "2022-08-30T16:51:44.857514",
     "status": "completed"
    },
    "tags": []
   },
   "outputs": [
    {
     "data": {
      "text/html": [
       "<div>\n",
       "<style scoped>\n",
       "    .dataframe tbody tr th:only-of-type {\n",
       "        vertical-align: middle;\n",
       "    }\n",
       "\n",
       "    .dataframe tbody tr th {\n",
       "        vertical-align: top;\n",
       "    }\n",
       "\n",
       "    .dataframe thead th {\n",
       "        text-align: right;\n",
       "    }\n",
       "</style>\n",
       "<table border=\"1\" class=\"dataframe\">\n",
       "  <thead>\n",
       "    <tr style=\"text-align: right;\">\n",
       "      <th></th>\n",
       "      <th>name</th>\n",
       "      <th>id</th>\n",
       "      <th>chr</th>\n",
       "      <th>band</th>\n",
       "      <th>start_position</th>\n",
       "      <th>end_position</th>\n",
       "      <th>gene_length</th>\n",
       "    </tr>\n",
       "  </thead>\n",
       "  <tbody>\n",
       "    <tr>\n",
       "      <th>0</th>\n",
       "      <td>ADAMTS14</td>\n",
       "      <td>ENSG00000138316</td>\n",
       "      <td>10</td>\n",
       "      <td>10q22.1</td>\n",
       "      <td>70672506</td>\n",
       "      <td>70762441</td>\n",
       "      <td>89935</td>\n",
       "    </tr>\n",
       "    <tr>\n",
       "      <th>1</th>\n",
       "      <td>TXN</td>\n",
       "      <td>ENSG00000136810</td>\n",
       "      <td>9</td>\n",
       "      <td>9q31.3</td>\n",
       "      <td>110243810</td>\n",
       "      <td>110256507</td>\n",
       "      <td>12697</td>\n",
       "    </tr>\n",
       "    <tr>\n",
       "      <th>2</th>\n",
       "      <td>RMI1</td>\n",
       "      <td>ENSG00000178966</td>\n",
       "      <td>9</td>\n",
       "      <td>9q21.32</td>\n",
       "      <td>83980711</td>\n",
       "      <td>84004074</td>\n",
       "      <td>23363</td>\n",
       "    </tr>\n",
       "    <tr>\n",
       "      <th>3</th>\n",
       "      <td>DHX58</td>\n",
       "      <td>ENSG00000108771</td>\n",
       "      <td>17</td>\n",
       "      <td>17q21.2</td>\n",
       "      <td>42101404</td>\n",
       "      <td>42112714</td>\n",
       "      <td>11310</td>\n",
       "    </tr>\n",
       "    <tr>\n",
       "      <th>4</th>\n",
       "      <td>XRCC4</td>\n",
       "      <td>ENSG00000152422</td>\n",
       "      <td>5</td>\n",
       "      <td>5q14.2</td>\n",
       "      <td>83077498</td>\n",
       "      <td>83353787</td>\n",
       "      <td>276289</td>\n",
       "    </tr>\n",
       "  </tbody>\n",
       "</table>\n",
       "</div>"
      ],
      "text/plain": [
       "       name               id  chr     band  start_position  end_position  \\\n",
       "0  ADAMTS14  ENSG00000138316   10  10q22.1        70672506      70762441   \n",
       "1       TXN  ENSG00000136810    9   9q31.3       110243810     110256507   \n",
       "2      RMI1  ENSG00000178966    9  9q21.32        83980711      84004074   \n",
       "3     DHX58  ENSG00000108771   17  17q21.2        42101404      42112714   \n",
       "4     XRCC4  ENSG00000152422    5   5q14.2        83077498      83353787   \n",
       "\n",
       "   gene_length  \n",
       "0        89935  \n",
       "1        12697  \n",
       "2        23363  \n",
       "3        11310  \n",
       "4       276289  "
      ]
     },
     "execution_count": 21,
     "metadata": {},
     "output_type": "execute_result"
    }
   ],
   "source": [
    "genes_info.head()"
   ]
  },
  {
   "cell_type": "markdown",
   "id": "d3843e06",
   "metadata": {
    "papermill": {
     "duration": 0.021317,
     "end_time": "2022-08-30T16:51:44.986792",
     "exception": false,
     "start_time": "2022-08-30T16:51:44.965475",
     "status": "completed"
    },
    "tags": []
   },
   "source": [
    "# Compute correlations"
   ]
  },
  {
   "cell_type": "code",
   "execution_count": 22,
   "id": "cb859c15-d1f3-4006-a74c-2b83c0db9611",
   "metadata": {
    "execution": {
     "iopub.execute_input": "2022-08-30T16:51:45.025293Z",
     "iopub.status.busy": "2022-08-30T16:51:45.025001Z",
     "iopub.status.idle": "2022-08-30T16:51:45.098648Z",
     "shell.execute_reply": "2022-08-30T16:51:45.097583Z"
    },
    "papermill": {
     "duration": 0.09713,
     "end_time": "2022-08-30T16:51:45.101576",
     "exception": false,
     "start_time": "2022-08-30T16:51:45.004446",
     "status": "completed"
    },
    "tags": []
   },
   "outputs": [
    {
     "data": {
      "text/plain": [
       "PosixPath('/project/ritchie20/projects/phenoplier/base/results/gls/gene_corrs/cohorts/emerge/gtex_v8/mashr/by_chr/gene_corrs-chr7.pkl')"
      ]
     },
     "metadata": {},
     "output_type": "display_data"
    }
   ],
   "source": [
    "output_dir = OUTPUT_DIR_BASE / \"by_chr\"\n",
    "output_dir.mkdir(exist_ok=True, parents=True)\n",
    "output_file = output_dir / f\"gene_corrs-chr{CHROMOSOME}.pkl\"\n",
    "display(output_file)"
   ]
  },
  {
   "cell_type": "code",
   "execution_count": 23,
   "id": "aa674fe4-6794-4eed-98fa-32b39d1d4ace",
   "metadata": {
    "execution": {
     "iopub.execute_input": "2022-08-30T16:51:45.144721Z",
     "iopub.status.busy": "2022-08-30T16:51:45.144371Z",
     "iopub.status.idle": "2022-08-30T16:51:45.193979Z",
     "shell.execute_reply": "2022-08-30T16:51:45.192947Z"
    },
    "papermill": {
     "duration": 0.073335,
     "end_time": "2022-08-30T16:51:45.196946",
     "exception": false,
     "start_time": "2022-08-30T16:51:45.123611",
     "status": "completed"
    },
    "tags": []
   },
   "outputs": [],
   "source": [
    "warnings.filterwarnings(\"error\")"
   ]
  },
  {
   "cell_type": "code",
   "execution_count": 24,
   "id": "44d5450b-3baf-43f1-9e2e-4b06f1a785f8",
   "metadata": {
    "execution": {
     "iopub.execute_input": "2022-08-30T16:51:45.239874Z",
     "iopub.status.busy": "2022-08-30T16:51:45.239530Z",
     "iopub.status.idle": "2022-08-30T16:51:46.124215Z",
     "shell.execute_reply": "2022-08-30T16:51:46.123094Z"
    },
    "papermill": {
     "duration": 0.909762,
     "end_time": "2022-08-30T16:51:46.127605",
     "exception": false,
     "start_time": "2022-08-30T16:51:45.217843",
     "status": "completed"
    },
    "tags": []
   },
   "outputs": [],
   "source": [
    "# standard checks\n",
    "all_chrs = genes_info[\"chr\"].dropna().unique()\n",
    "assert all_chrs.shape[0] == 22\n",
    "\n",
    "# select chromosome given by the user\n",
    "assert CHROMOSOME in all_chrs"
   ]
  },
  {
   "cell_type": "code",
   "execution_count": 25,
   "id": "2d7c043c-92a7-4d35-991b-fa69ac1e0268",
   "metadata": {
    "execution": {
     "iopub.execute_input": "2022-08-30T16:51:46.187683Z",
     "iopub.status.busy": "2022-08-30T16:51:46.187309Z",
     "iopub.status.idle": "2022-08-30T16:51:46.295649Z",
     "shell.execute_reply": "2022-08-30T16:51:46.294582Z"
    },
    "papermill": {
     "duration": 0.141947,
     "end_time": "2022-08-30T16:51:46.298799",
     "exception": false,
     "start_time": "2022-08-30T16:51:46.156852",
     "status": "completed"
    },
    "tags": []
   },
   "outputs": [
    {
     "name": "stdout",
     "output_type": "stream",
     "text": [
      "Number of genes in chromosome: 281\n"
     ]
    }
   ],
   "source": [
    "# run only on the chromosome specified\n",
    "all_chrs = [CHROMOSOME]\n",
    "genes_chr = genes_info[genes_info[\"chr\"] == CHROMOSOME]\n",
    "\n",
    "# For testing purposes\n",
    "# genes_chr = genes_chr.sample(n=20)\n",
    "\n",
    "print(f\"Number of genes in chromosome: {genes_chr.shape[0]}\", flush=True)"
   ]
  },
  {
   "cell_type": "code",
   "execution_count": 26,
   "id": "916015d8-2979-46d3-a9b9-1cf5a0932c6a",
   "metadata": {
    "execution": {
     "iopub.execute_input": "2022-08-30T16:51:46.348817Z",
     "iopub.status.busy": "2022-08-30T16:51:46.348466Z",
     "iopub.status.idle": "2022-08-30T16:51:46.377207Z",
     "shell.execute_reply": "2022-08-30T16:51:46.376349Z"
    },
    "papermill": {
     "duration": 0.057007,
     "end_time": "2022-08-30T16:51:46.379643",
     "exception": false,
     "start_time": "2022-08-30T16:51:46.322636",
     "status": "completed"
    },
    "tags": []
   },
   "outputs": [],
   "source": [
    "# sort genes by starting position to make visualizations better later\n",
    "genes_chr = genes_chr.sort_values(\"start_position\")"
   ]
  },
  {
   "cell_type": "code",
   "execution_count": 27,
   "id": "a38aa74a-8ad3-47f6-8ef9-56be0e011774",
   "metadata": {
    "execution": {
     "iopub.execute_input": "2022-08-30T16:51:46.421246Z",
     "iopub.status.busy": "2022-08-30T16:51:46.420966Z",
     "iopub.status.idle": "2022-08-30T16:51:46.445059Z",
     "shell.execute_reply": "2022-08-30T16:51:46.444278Z"
    },
    "papermill": {
     "duration": 0.047202,
     "end_time": "2022-08-30T16:51:46.447136",
     "exception": false,
     "start_time": "2022-08-30T16:51:46.399934",
     "status": "completed"
    },
    "tags": []
   },
   "outputs": [],
   "source": [
    "gene_chr_objs = [Gene(ensembl_id=gene_id) for gene_id in genes_chr[\"id\"]]"
   ]
  },
  {
   "cell_type": "code",
   "execution_count": 28,
   "id": "570f974f-13c3-42b6-ad3a-ce99ca885c1a",
   "metadata": {
    "execution": {
     "iopub.execute_input": "2022-08-30T16:51:46.487227Z",
     "iopub.status.busy": "2022-08-30T16:51:46.486975Z",
     "iopub.status.idle": "2022-08-30T16:51:46.509989Z",
     "shell.execute_reply": "2022-08-30T16:51:46.509365Z"
    },
    "papermill": {
     "duration": 0.043414,
     "end_time": "2022-08-30T16:51:46.511923",
     "exception": false,
     "start_time": "2022-08-30T16:51:46.468509",
     "status": "completed"
    },
    "tags": []
   },
   "outputs": [
    {
     "name": "stdout",
     "output_type": "stream",
     "text": [
      "Number of gene combinations: 39621\n"
     ]
    }
   ],
   "source": [
    "n = len(gene_chr_objs)\n",
    "# diagonal elements + upper triangular matrix\n",
    "n_comb = n + int(n * (n - 1) / 2.0)\n",
    "print(f\"Number of gene combinations: {n_comb}\", flush=True)"
   ]
  },
  {
   "cell_type": "code",
   "execution_count": 29,
   "id": "cdbb90a1",
   "metadata": {
    "execution": {
     "iopub.execute_input": "2022-08-30T16:51:46.540086Z",
     "iopub.status.busy": "2022-08-30T16:51:46.539894Z",
     "iopub.status.idle": "2022-08-30T17:45:17.237914Z",
     "shell.execute_reply": "2022-08-30T17:45:17.236520Z"
    },
    "papermill": {
     "duration": 3210.715319,
     "end_time": "2022-08-30T17:45:17.241556",
     "exception": false,
     "start_time": "2022-08-30T16:51:46.526237",
     "status": "completed"
    },
    "tags": []
   },
   "outputs": [
    {
     "name": "stderr",
     "output_type": "stream",
     "text": [
      "ENSG00000106018 / ENSG00000106018: 100%|██████████████████████| 39621/39621 [53:30<00:00, 12.34it/s]\n"
     ]
    },
    {
     "data": {
      "text/plain": [
       "PosixPath('/project/ritchie20/projects/phenoplier/base/results/gls/gene_corrs/cohorts/emerge/gtex_v8/mashr/by_chr/gene_corrs-chr7.pkl')"
      ]
     },
     "metadata": {},
     "output_type": "display_data"
    }
   ],
   "source": [
    "gene_corrs = []\n",
    "gene_corrs_data = np.full(\n",
    "    (n, n),\n",
    "    np.nan,\n",
    "    dtype=np.float64,\n",
    ")\n",
    "\n",
    "i = 0\n",
    "with tqdm(ncols=100, total=n_comb) as pbar:\n",
    "    for gene1_idx in range(0, len(gene_chr_objs)):\n",
    "        gene1_obj = gene_chr_objs[gene1_idx]\n",
    "        gene1_tissues = spredixcan_genes_models.loc[gene1_obj.ensembl_id, \"tissue\"]\n",
    "\n",
    "        for gene2_idx in range(gene1_idx, len(gene_chr_objs)):\n",
    "            gene2_obj = gene_chr_objs[gene2_idx]\n",
    "            gene2_tissues = spredixcan_genes_models.loc[gene2_obj.ensembl_id, \"tissue\"]\n",
    "\n",
    "            pbar.set_description(f\"{gene1_obj.ensembl_id} / {gene2_obj.ensembl_id}\")\n",
    "\n",
    "            try:\n",
    "                r = gene1_obj.get_ssm_correlation(\n",
    "                    other_gene=gene2_obj,\n",
    "                    tissues=gene1_tissues,\n",
    "                    other_tissues=gene2_tissues,\n",
    "                    snps_subset=gwas_variants_ids_set,\n",
    "                    condition_number=SMULTIXCAN_CONDITION_NUMBER,\n",
    "                    reference_panel=REFERENCE_PANEL,\n",
    "                    model_type=EQTL_MODEL,\n",
    "                    use_within_distance=COMPUTE_CORRELATIONS_WITHIN_DISTANCE,\n",
    "                )\n",
    "\n",
    "                if r is None:\n",
    "                    # if r is None, it's very likely because:\n",
    "                    #  * one of the genes has no prediction models\n",
    "                    #  * all the SNPs predictors for the gene are not present in the reference\n",
    "                    #    panel\n",
    "\n",
    "                    r = 0.0\n",
    "\n",
    "                gene_corrs.append(r)\n",
    "\n",
    "                gene_corrs_data[gene1_idx, gene2_idx] = r\n",
    "                gene_corrs_data[gene2_idx, gene1_idx] = r\n",
    "            except Warning as e:\n",
    "                if not DEBUG_MODE:\n",
    "                    raise e\n",
    "\n",
    "                print(\n",
    "                    f\"RuntimeWarning for genes {gene1_obj.ensembl_id} and {gene2_obj.ensembl_id}\",\n",
    "                    flush=True,\n",
    "                )\n",
    "                print(traceback.format_exc(), flush=True)\n",
    "\n",
    "                gene_corrs.append(np.nan)\n",
    "            except Exception as e:\n",
    "                if not DEBUG_MODE:\n",
    "                    raise e\n",
    "\n",
    "                print(\n",
    "                    f\"Exception for genes {gene1_obj.ensembl_id} and {gene2_obj.ensembl_id}\",\n",
    "                    flush=True,\n",
    "                )\n",
    "                print(traceback.format_exc(), flush=True)\n",
    "\n",
    "                gene_corrs.append(np.nan)\n",
    "\n",
    "            pbar.update(1)\n",
    "\n",
    "# create a pandas series\n",
    "gene_corrs_flat = pd.Series(gene_corrs)\n",
    "\n",
    "# save\n",
    "# FIXME: consider saving only the condenced matrix here. See here for\n",
    "# more details: https://github.com/greenelab/phenoplier/pull/38#discussion_r634600813\n",
    "# gene_corrs_data = squareform(np.array(gene_corrs, dtype=np.float64))\n",
    "# np.fill_diagonal(gene_corrs_data, 1.0)\n",
    "\n",
    "gene_chr_ids = [g.ensembl_id for g in gene_chr_objs]\n",
    "gene_corrs_df = pd.DataFrame(\n",
    "    data=gene_corrs_data,\n",
    "    index=gene_chr_ids,\n",
    "    columns=gene_chr_ids,\n",
    ")\n",
    "\n",
    "output_dir.mkdir(exist_ok=True, parents=True)\n",
    "display(output_file)\n",
    "\n",
    "gene_corrs_df.to_pickle(output_file)"
   ]
  },
  {
   "cell_type": "markdown",
   "id": "faa67b51-5373-470f-aa72-2ded53fa6dfe",
   "metadata": {
    "papermill": {
     "duration": 2.336406,
     "end_time": "2022-08-30T17:45:21.947034",
     "exception": false,
     "start_time": "2022-08-30T17:45:19.610628",
     "status": "completed"
    },
    "tags": []
   },
   "source": [
    "# Testing"
   ]
  },
  {
   "cell_type": "code",
   "execution_count": 30,
   "id": "14f7d046-4b55-4896-a56b-990127bcc388",
   "metadata": {
    "execution": {
     "iopub.execute_input": "2022-08-30T17:45:26.583769Z",
     "iopub.status.busy": "2022-08-30T17:45:26.583501Z",
     "iopub.status.idle": "2022-08-30T17:45:26.858019Z",
     "shell.execute_reply": "2022-08-30T17:45:26.857213Z"
    },
    "papermill": {
     "duration": 2.606386,
     "end_time": "2022-08-30T17:45:26.860367",
     "exception": false,
     "start_time": "2022-08-30T17:45:24.253981",
     "status": "completed"
    },
    "tags": []
   },
   "outputs": [
    {
     "data": {
      "text/plain": [
       "(281, 281)"
      ]
     },
     "execution_count": 30,
     "metadata": {},
     "output_type": "execute_result"
    }
   ],
   "source": [
    "gene_corrs_df.shape"
   ]
  },
  {
   "cell_type": "code",
   "execution_count": 31,
   "id": "c7d15414-3297-4537-a7c6-7588c0baeb75",
   "metadata": {
    "execution": {
     "iopub.execute_input": "2022-08-30T17:45:31.584185Z",
     "iopub.status.busy": "2022-08-30T17:45:31.583901Z",
     "iopub.status.idle": "2022-08-30T17:45:31.621257Z",
     "shell.execute_reply": "2022-08-30T17:45:31.620608Z"
    },
    "papermill": {
     "duration": 2.420302,
     "end_time": "2022-08-30T17:45:31.622722",
     "exception": false,
     "start_time": "2022-08-30T17:45:29.202420",
     "status": "completed"
    },
    "tags": []
   },
   "outputs": [
    {
     "data": {
      "text/html": [
       "<div>\n",
       "<style scoped>\n",
       "    .dataframe tbody tr th:only-of-type {\n",
       "        vertical-align: middle;\n",
       "    }\n",
       "\n",
       "    .dataframe tbody tr th {\n",
       "        vertical-align: top;\n",
       "    }\n",
       "\n",
       "    .dataframe thead th {\n",
       "        text-align: right;\n",
       "    }\n",
       "</style>\n",
       "<table border=\"1\" class=\"dataframe\">\n",
       "  <thead>\n",
       "    <tr style=\"text-align: right;\">\n",
       "      <th></th>\n",
       "      <th>ENSG00000197461</th>\n",
       "      <th>ENSG00000188191</th>\n",
       "      <th>ENSG00000105963</th>\n",
       "      <th>ENSG00000198517</th>\n",
       "      <th>ENSG00000002822</th>\n",
       "      <th>ENSG00000106263</th>\n",
       "      <th>ENSG00000136213</th>\n",
       "      <th>ENSG00000106003</th>\n",
       "      <th>ENSG00000146535</th>\n",
       "      <th>ENSG00000198286</th>\n",
       "      <th>...</th>\n",
       "      <th>ENSG00000164889</th>\n",
       "      <th>ENSG00000033100</th>\n",
       "      <th>ENSG00000082014</th>\n",
       "      <th>ENSG00000013374</th>\n",
       "      <th>ENSG00000106615</th>\n",
       "      <th>ENSG00000106617</th>\n",
       "      <th>ENSG00000178234</th>\n",
       "      <th>ENSG00000009335</th>\n",
       "      <th>ENSG00000155093</th>\n",
       "      <th>ENSG00000106018</th>\n",
       "    </tr>\n",
       "  </thead>\n",
       "  <tbody>\n",
       "    <tr>\n",
       "      <th>ENSG00000197461</th>\n",
       "      <td>1.000000</td>\n",
       "      <td>0.083157</td>\n",
       "      <td>0.033978</td>\n",
       "      <td>0.003060</td>\n",
       "      <td>0.013065</td>\n",
       "      <td>0.009004</td>\n",
       "      <td>0.019057</td>\n",
       "      <td>0.012376</td>\n",
       "      <td>0.009323</td>\n",
       "      <td>0.014266</td>\n",
       "      <td>...</td>\n",
       "      <td>0.010152</td>\n",
       "      <td>0.010507</td>\n",
       "      <td>0.011161</td>\n",
       "      <td>0.013909</td>\n",
       "      <td>0.004774</td>\n",
       "      <td>0.011164</td>\n",
       "      <td>0.006936</td>\n",
       "      <td>0.007883</td>\n",
       "      <td>0.006058</td>\n",
       "      <td>0.014371</td>\n",
       "    </tr>\n",
       "    <tr>\n",
       "      <th>ENSG00000188191</th>\n",
       "      <td>0.083157</td>\n",
       "      <td>1.000000</td>\n",
       "      <td>0.078571</td>\n",
       "      <td>0.004194</td>\n",
       "      <td>0.009341</td>\n",
       "      <td>0.002894</td>\n",
       "      <td>0.009530</td>\n",
       "      <td>0.004923</td>\n",
       "      <td>0.002948</td>\n",
       "      <td>0.008014</td>\n",
       "      <td>...</td>\n",
       "      <td>0.008760</td>\n",
       "      <td>0.006333</td>\n",
       "      <td>0.004605</td>\n",
       "      <td>0.007523</td>\n",
       "      <td>0.003973</td>\n",
       "      <td>0.008225</td>\n",
       "      <td>0.003197</td>\n",
       "      <td>0.007478</td>\n",
       "      <td>0.008958</td>\n",
       "      <td>0.009820</td>\n",
       "    </tr>\n",
       "    <tr>\n",
       "      <th>ENSG00000105963</th>\n",
       "      <td>0.033978</td>\n",
       "      <td>0.078571</td>\n",
       "      <td>1.000000</td>\n",
       "      <td>0.011125</td>\n",
       "      <td>0.016978</td>\n",
       "      <td>0.006438</td>\n",
       "      <td>0.012195</td>\n",
       "      <td>0.010466</td>\n",
       "      <td>0.010922</td>\n",
       "      <td>0.018232</td>\n",
       "      <td>...</td>\n",
       "      <td>0.011512</td>\n",
       "      <td>0.012182</td>\n",
       "      <td>0.012324</td>\n",
       "      <td>0.018159</td>\n",
       "      <td>0.007264</td>\n",
       "      <td>0.019251</td>\n",
       "      <td>0.004451</td>\n",
       "      <td>0.013767</td>\n",
       "      <td>0.013310</td>\n",
       "      <td>0.018882</td>\n",
       "    </tr>\n",
       "    <tr>\n",
       "      <th>ENSG00000198517</th>\n",
       "      <td>0.003060</td>\n",
       "      <td>0.004194</td>\n",
       "      <td>0.011125</td>\n",
       "      <td>1.000000</td>\n",
       "      <td>0.008667</td>\n",
       "      <td>0.008283</td>\n",
       "      <td>0.012122</td>\n",
       "      <td>0.007604</td>\n",
       "      <td>0.003988</td>\n",
       "      <td>0.005604</td>\n",
       "      <td>...</td>\n",
       "      <td>0.005793</td>\n",
       "      <td>0.007669</td>\n",
       "      <td>0.004659</td>\n",
       "      <td>0.009741</td>\n",
       "      <td>0.003398</td>\n",
       "      <td>0.006290</td>\n",
       "      <td>0.003330</td>\n",
       "      <td>0.002767</td>\n",
       "      <td>0.013355</td>\n",
       "      <td>0.002594</td>\n",
       "    </tr>\n",
       "    <tr>\n",
       "      <th>ENSG00000002822</th>\n",
       "      <td>0.013065</td>\n",
       "      <td>0.009341</td>\n",
       "      <td>0.016978</td>\n",
       "      <td>0.008667</td>\n",
       "      <td>1.000000</td>\n",
       "      <td>0.022969</td>\n",
       "      <td>0.045137</td>\n",
       "      <td>0.019808</td>\n",
       "      <td>0.014915</td>\n",
       "      <td>0.018587</td>\n",
       "      <td>...</td>\n",
       "      <td>0.009881</td>\n",
       "      <td>0.014991</td>\n",
       "      <td>0.014940</td>\n",
       "      <td>0.016616</td>\n",
       "      <td>0.007119</td>\n",
       "      <td>0.017551</td>\n",
       "      <td>0.004579</td>\n",
       "      <td>0.011575</td>\n",
       "      <td>0.009440</td>\n",
       "      <td>0.014025</td>\n",
       "    </tr>\n",
       "  </tbody>\n",
       "</table>\n",
       "<p>5 rows × 281 columns</p>\n",
       "</div>"
      ],
      "text/plain": [
       "                 ENSG00000197461  ENSG00000188191  ENSG00000105963  \\\n",
       "ENSG00000197461         1.000000         0.083157         0.033978   \n",
       "ENSG00000188191         0.083157         1.000000         0.078571   \n",
       "ENSG00000105963         0.033978         0.078571         1.000000   \n",
       "ENSG00000198517         0.003060         0.004194         0.011125   \n",
       "ENSG00000002822         0.013065         0.009341         0.016978   \n",
       "\n",
       "                 ENSG00000198517  ENSG00000002822  ENSG00000106263  \\\n",
       "ENSG00000197461         0.003060         0.013065         0.009004   \n",
       "ENSG00000188191         0.004194         0.009341         0.002894   \n",
       "ENSG00000105963         0.011125         0.016978         0.006438   \n",
       "ENSG00000198517         1.000000         0.008667         0.008283   \n",
       "ENSG00000002822         0.008667         1.000000         0.022969   \n",
       "\n",
       "                 ENSG00000136213  ENSG00000106003  ENSG00000146535  \\\n",
       "ENSG00000197461         0.019057         0.012376         0.009323   \n",
       "ENSG00000188191         0.009530         0.004923         0.002948   \n",
       "ENSG00000105963         0.012195         0.010466         0.010922   \n",
       "ENSG00000198517         0.012122         0.007604         0.003988   \n",
       "ENSG00000002822         0.045137         0.019808         0.014915   \n",
       "\n",
       "                 ENSG00000198286  ...  ENSG00000164889  ENSG00000033100  \\\n",
       "ENSG00000197461         0.014266  ...         0.010152         0.010507   \n",
       "ENSG00000188191         0.008014  ...         0.008760         0.006333   \n",
       "ENSG00000105963         0.018232  ...         0.011512         0.012182   \n",
       "ENSG00000198517         0.005604  ...         0.005793         0.007669   \n",
       "ENSG00000002822         0.018587  ...         0.009881         0.014991   \n",
       "\n",
       "                 ENSG00000082014  ENSG00000013374  ENSG00000106615  \\\n",
       "ENSG00000197461         0.011161         0.013909         0.004774   \n",
       "ENSG00000188191         0.004605         0.007523         0.003973   \n",
       "ENSG00000105963         0.012324         0.018159         0.007264   \n",
       "ENSG00000198517         0.004659         0.009741         0.003398   \n",
       "ENSG00000002822         0.014940         0.016616         0.007119   \n",
       "\n",
       "                 ENSG00000106617  ENSG00000178234  ENSG00000009335  \\\n",
       "ENSG00000197461         0.011164         0.006936         0.007883   \n",
       "ENSG00000188191         0.008225         0.003197         0.007478   \n",
       "ENSG00000105963         0.019251         0.004451         0.013767   \n",
       "ENSG00000198517         0.006290         0.003330         0.002767   \n",
       "ENSG00000002822         0.017551         0.004579         0.011575   \n",
       "\n",
       "                 ENSG00000155093  ENSG00000106018  \n",
       "ENSG00000197461         0.006058         0.014371  \n",
       "ENSG00000188191         0.008958         0.009820  \n",
       "ENSG00000105963         0.013310         0.018882  \n",
       "ENSG00000198517         0.013355         0.002594  \n",
       "ENSG00000002822         0.009440         0.014025  \n",
       "\n",
       "[5 rows x 281 columns]"
      ]
     },
     "execution_count": 31,
     "metadata": {},
     "output_type": "execute_result"
    }
   ],
   "source": [
    "gene_corrs_df.head()"
   ]
  },
  {
   "cell_type": "markdown",
   "id": "dad6603f-01c6-41fb-a6f6-241051207dd8",
   "metadata": {
    "papermill": {
     "duration": 2.317874,
     "end_time": "2022-08-30T17:45:36.231580",
     "exception": false,
     "start_time": "2022-08-30T17:45:33.913706",
     "status": "completed"
    },
    "tags": []
   },
   "source": [
    "## Standard checks and stats"
   ]
  },
  {
   "cell_type": "code",
   "execution_count": 32,
   "id": "286686af-1b7b-4440-8453-6bdcbd8de19c",
   "metadata": {
    "execution": {
     "iopub.execute_input": "2022-08-30T17:45:40.907981Z",
     "iopub.status.busy": "2022-08-30T17:45:40.907698Z",
     "iopub.status.idle": "2022-08-30T17:45:40.963143Z",
     "shell.execute_reply": "2022-08-30T17:45:40.962601Z"
    },
    "papermill": {
     "duration": 2.388378,
     "end_time": "2022-08-30T17:45:40.964791",
     "exception": false,
     "start_time": "2022-08-30T17:45:38.576413",
     "status": "completed"
    },
    "tags": []
   },
   "outputs": [],
   "source": [
    "assert not gene_corrs_df.isna().any().any()"
   ]
  },
  {
   "cell_type": "code",
   "execution_count": 33,
   "id": "00583efc-7068-4270-ad1e-4a418e91db96",
   "metadata": {
    "execution": {
     "iopub.execute_input": "2022-08-30T17:45:45.675209Z",
     "iopub.status.busy": "2022-08-30T17:45:45.674924Z",
     "iopub.status.idle": "2022-08-30T17:45:45.697718Z",
     "shell.execute_reply": "2022-08-30T17:45:45.697219Z"
    },
    "papermill": {
     "duration": 2.37585,
     "end_time": "2022-08-30T17:45:45.699242",
     "exception": false,
     "start_time": "2022-08-30T17:45:43.323392",
     "status": "completed"
    },
    "tags": []
   },
   "outputs": [
    {
     "data": {
      "text/plain": [
       "4.3447173393178154e-07"
      ]
     },
     "metadata": {},
     "output_type": "display_data"
    }
   ],
   "source": [
    "_min_val = gene_corrs_df.min().min()\n",
    "display(_min_val)\n",
    "assert _min_val >= -0.05"
   ]
  },
  {
   "cell_type": "code",
   "execution_count": 34,
   "id": "d04fb2cf-1050-475b-b855-f5f7cc04092b",
   "metadata": {
    "execution": {
     "iopub.execute_input": "2022-08-30T17:45:50.343974Z",
     "iopub.status.busy": "2022-08-30T17:45:50.343678Z",
     "iopub.status.idle": "2022-08-30T17:45:50.368275Z",
     "shell.execute_reply": "2022-08-30T17:45:50.367706Z"
    },
    "papermill": {
     "duration": 2.297863,
     "end_time": "2022-08-30T17:45:50.369924",
     "exception": false,
     "start_time": "2022-08-30T17:45:48.072061",
     "status": "completed"
    },
    "tags": []
   },
   "outputs": [
    {
     "data": {
      "text/plain": [
       "1.0000000000000029"
      ]
     },
     "metadata": {},
     "output_type": "display_data"
    }
   ],
   "source": [
    "_max_val = gene_corrs_df.max().max()  # this captures the diagonal\n",
    "display(_max_val)\n",
    "assert _max_val <= 1.05"
   ]
  },
  {
   "cell_type": "code",
   "execution_count": 35,
   "id": "96d02c44-1fba-47be-8a93-8f2608420b9c",
   "metadata": {
    "execution": {
     "iopub.execute_input": "2022-08-30T17:45:55.016723Z",
     "iopub.status.busy": "2022-08-30T17:45:55.016453Z",
     "iopub.status.idle": "2022-08-30T17:45:55.205527Z",
     "shell.execute_reply": "2022-08-30T17:45:55.205002Z"
    },
    "papermill": {
     "duration": 2.508785,
     "end_time": "2022-08-30T17:45:55.207163",
     "exception": false,
     "start_time": "2022-08-30T17:45:52.698378",
     "status": "completed"
    },
    "tags": []
   },
   "outputs": [],
   "source": [
    "# check upper triangular values\n",
    "# assert len(gene_corrs) == int(genes_chr.shape[0] * (genes_chr.shape[0] - 1) / 2)"
   ]
  },
  {
   "cell_type": "code",
   "execution_count": 36,
   "id": "fe283586-c348-40e0-8841-f6d97bfb021c",
   "metadata": {
    "execution": {
     "iopub.execute_input": "2022-08-30T17:45:59.840038Z",
     "iopub.status.busy": "2022-08-30T17:45:59.839754Z",
     "iopub.status.idle": "2022-08-30T17:45:59.896988Z",
     "shell.execute_reply": "2022-08-30T17:45:59.896359Z"
    },
    "papermill": {
     "duration": 2.372825,
     "end_time": "2022-08-30T17:45:59.898520",
     "exception": false,
     "start_time": "2022-08-30T17:45:57.525695",
     "status": "completed"
    },
    "tags": []
   },
   "outputs": [
    {
     "data": {
      "text/plain": [
       "count    3.962100e+04\n",
       "mean     1.576205e-02\n",
       "std      8.840092e-02\n",
       "min      4.344717e-07\n",
       "25%      3.969465e-03\n",
       "50%      6.000118e-03\n",
       "75%      8.389850e-03\n",
       "max      1.000000e+00\n",
       "dtype: float64"
      ]
     },
     "execution_count": 36,
     "metadata": {},
     "output_type": "execute_result"
    }
   ],
   "source": [
    "gene_corrs_flat.describe()"
   ]
  },
  {
   "cell_type": "code",
   "execution_count": 37,
   "id": "b3815678-0f93-4b35-897b-a9d047a2aa78",
   "metadata": {
    "execution": {
     "iopub.execute_input": "2022-08-30T17:46:04.578376Z",
     "iopub.status.busy": "2022-08-30T17:46:04.578115Z",
     "iopub.status.idle": "2022-08-30T17:46:04.601760Z",
     "shell.execute_reply": "2022-08-30T17:46:04.601165Z"
    },
    "papermill": {
     "duration": 2.401363,
     "end_time": "2022-08-30T17:46:04.603183",
     "exception": false,
     "start_time": "2022-08-30T17:46:02.201820",
     "status": "completed"
    },
    "tags": []
   },
   "outputs": [
    {
     "data": {
      "text/plain": [
       "0.00    4.344717e-07\n",
       "0.05    1.660853e-03\n",
       "0.10    2.448339e-03\n",
       "0.15    3.022562e-03\n",
       "0.20    3.515775e-03\n",
       "0.25    3.969465e-03\n",
       "0.30    4.392014e-03\n",
       "0.35    4.805855e-03\n",
       "0.40    5.205745e-03\n",
       "0.45    5.595516e-03\n",
       "0.50    6.000118e-03\n",
       "0.55    6.426367e-03\n",
       "0.60    6.859605e-03\n",
       "0.65    7.309345e-03\n",
       "0.70    7.809105e-03\n",
       "0.75    8.389850e-03\n",
       "0.80    9.030941e-03\n",
       "0.85    9.840133e-03\n",
       "0.90    1.097025e-02\n",
       "0.95    1.307008e-02\n",
       "dtype: float64"
      ]
     },
     "metadata": {},
     "output_type": "display_data"
    }
   ],
   "source": [
    "gene_corrs_quantiles = gene_corrs_flat.quantile(np.arange(0, 1, 0.05))\n",
    "display(gene_corrs_quantiles)"
   ]
  },
  {
   "cell_type": "markdown",
   "id": "87134509-b145-4a10-8bc9-b7e914c2b0fa",
   "metadata": {
    "papermill": {
     "duration": 2.317868,
     "end_time": "2022-08-30T17:46:09.183117",
     "exception": false,
     "start_time": "2022-08-30T17:46:06.865249",
     "status": "completed"
    },
    "tags": []
   },
   "source": [
    "## Positive definiteness"
   ]
  },
  {
   "cell_type": "code",
   "execution_count": 38,
   "id": "07d9a9a1-a4f7-48aa-b916-6d42a8cc6186",
   "metadata": {
    "execution": {
     "iopub.execute_input": "2022-08-30T17:46:13.872618Z",
     "iopub.status.busy": "2022-08-30T17:46:13.872357Z",
     "iopub.status.idle": "2022-08-30T17:46:13.955639Z",
     "shell.execute_reply": "2022-08-30T17:46:13.955093Z"
    },
    "papermill": {
     "duration": 2.457672,
     "end_time": "2022-08-30T17:46:13.957218",
     "exception": false,
     "start_time": "2022-08-30T17:46:11.499546",
     "status": "completed"
    },
    "tags": []
   },
   "outputs": [
    {
     "data": {
      "text/plain": [
       "0"
      ]
     },
     "metadata": {},
     "output_type": "display_data"
    },
    {
     "data": {
      "text/plain": [
       "array([], dtype=float64)"
      ]
     },
     "metadata": {},
     "output_type": "display_data"
    }
   ],
   "source": [
    "# print negative eigenvalues\n",
    "eigs = np.linalg.eigvals(gene_corrs_df.to_numpy())\n",
    "display(len(eigs[eigs < 0]))\n",
    "display(eigs[eigs < 0])"
   ]
  },
  {
   "cell_type": "code",
   "execution_count": 39,
   "id": "6e218436-c3c5-4028-8c94-a4fa6260efce",
   "metadata": {
    "execution": {
     "iopub.execute_input": "2022-08-30T17:46:18.587176Z",
     "iopub.status.busy": "2022-08-30T17:46:18.586916Z",
     "iopub.status.idle": "2022-08-30T17:46:18.613285Z",
     "shell.execute_reply": "2022-08-30T17:46:18.612558Z"
    },
    "papermill": {
     "duration": 2.338254,
     "end_time": "2022-08-30T17:46:18.614912",
     "exception": false,
     "start_time": "2022-08-30T17:46:16.276658",
     "status": "completed"
    },
    "tags": []
   },
   "outputs": [
    {
     "name": "stdout",
     "output_type": "stream",
     "text": [
      "Works!\n"
     ]
    }
   ],
   "source": [
    "try:\n",
    "    chol_mat = np.linalg.cholesky(gene_corrs_df.to_numpy())\n",
    "    cov_inv = np.linalg.inv(chol_mat)\n",
    "    print(\"Works!\")\n",
    "except Exception as e:\n",
    "    print(f\"Cholesky decomposition failed: {str(e)}\")"
   ]
  },
  {
   "cell_type": "code",
   "execution_count": 40,
   "id": "dd8827fb-faf9-4c7c-9454-015e94752706",
   "metadata": {
    "execution": {
     "iopub.execute_input": "2022-08-30T17:46:23.276524Z",
     "iopub.status.busy": "2022-08-30T17:46:23.276259Z",
     "iopub.status.idle": "2022-08-30T17:46:23.305806Z",
     "shell.execute_reply": "2022-08-30T17:46:23.305296Z"
    },
    "papermill": {
     "duration": 2.310362,
     "end_time": "2022-08-30T17:46:23.307347",
     "exception": false,
     "start_time": "2022-08-30T17:46:20.996985",
     "status": "completed"
    },
    "tags": []
   },
   "outputs": [
    {
     "name": "stdout",
     "output_type": "stream",
     "text": [
      "Works!\n"
     ]
    }
   ],
   "source": [
    "try:\n",
    "    # decomposition used by statsmodels.GLS\n",
    "    cholsigmainv = np.linalg.cholesky(np.linalg.inv(gene_corrs_df.to_numpy())).T\n",
    "    print(\"Works!\")\n",
    "except Exception as e:\n",
    "    print(f\"Cholesky decomposition failed (statsmodels.GLS): {str(e)}\")"
   ]
  },
  {
   "cell_type": "markdown",
   "id": "8e60a080-edb2-4e9c-b2ef-22961693200c",
   "metadata": {
    "papermill": {
     "duration": 2.310056,
     "end_time": "2022-08-30T17:46:27.940554",
     "exception": false,
     "start_time": "2022-08-30T17:46:25.630498",
     "status": "completed"
    },
    "tags": []
   },
   "source": [
    "## Plot: distribution"
   ]
  },
  {
   "cell_type": "code",
   "execution_count": 41,
   "id": "8301126b-a7d4-4744-9c7d-f0f86eb6f54c",
   "metadata": {
    "execution": {
     "iopub.execute_input": "2022-08-30T17:46:32.577428Z",
     "iopub.status.busy": "2022-08-30T17:46:32.577136Z",
     "iopub.status.idle": "2022-08-30T17:46:42.286930Z",
     "shell.execute_reply": "2022-08-30T17:46:42.286369Z"
    },
    "papermill": {
     "duration": 12.031313,
     "end_time": "2022-08-30T17:46:42.288602",
     "exception": false,
     "start_time": "2022-08-30T17:46:30.257289",
     "status": "completed"
    },
    "tags": []
   },
   "outputs": [
    {
     "data": {
      "image/png": "[encoded data removed]",
      "text/plain": [
       "<Figure size 504x504 with 1 Axes>"
      ]
     },
     "metadata": {
      "needs_background": "light"
     },
     "output_type": "display_data"
    }
   ],
   "source": [
    "with sns.plotting_context(\"paper\", font_scale=1.5):\n",
    "    g = sns.displot(gene_corrs_flat, kde=True, height=7)\n",
    "    g.ax.set_title(\n",
    "        f\"Distribution of gene correlation values in chromosome {CHROMOSOME}\"\n",
    "    )"
   ]
  },
  {
   "cell_type": "markdown",
   "id": "cbd52bca-d878-4a2f-b684-5c83aa3038d4",
   "metadata": {
    "papermill": {
     "duration": 2.371565,
     "end_time": "2022-08-30T17:46:46.981627",
     "exception": false,
     "start_time": "2022-08-30T17:46:44.610062",
     "status": "completed"
    },
    "tags": []
   },
   "source": [
    "## Plot: heatmap"
   ]
  },
  {
   "cell_type": "code",
   "execution_count": 42,
   "id": "d03fe63a-c7b2-4fb9-a53c-db362ce843c9",
   "metadata": {
    "execution": {
     "iopub.execute_input": "2022-08-30T17:46:51.552153Z",
     "iopub.status.busy": "2022-08-30T17:46:51.551858Z",
     "iopub.status.idle": "2022-08-30T17:46:51.735037Z",
     "shell.execute_reply": "2022-08-30T17:46:51.734215Z"
    },
    "papermill": {
     "duration": 2.496355,
     "end_time": "2022-08-30T17:46:51.737551",
     "exception": false,
     "start_time": "2022-08-30T17:46:49.241196",
     "status": "completed"
    },
    "tags": []
   },
   "outputs": [
    {
     "data": {
      "text/plain": [
       "'0.0 / 0.05'"
      ]
     },
     "metadata": {},
     "output_type": "display_data"
    }
   ],
   "source": [
    "vmin_val = min(0.00, gene_corrs_quantiles[0.10])\n",
    "vmax_val = max(0.05, gene_corrs_quantiles[0.90])\n",
    "display(f\"{vmin_val} / {vmax_val}\")"
   ]
  },
  {
   "cell_type": "code",
   "execution_count": 43,
   "id": "dc41b70b-5bcc-4d9e-9f33-a22c4a94dab5",
   "metadata": {
    "execution": {
     "iopub.execute_input": "2022-08-30T17:46:56.397770Z",
     "iopub.status.busy": "2022-08-30T17:46:56.397508Z",
     "iopub.status.idle": "2022-08-30T17:46:56.645534Z",
     "shell.execute_reply": "2022-08-30T17:46:56.644960Z"
    },
    "papermill": {
     "duration": 2.56925,
     "end_time": "2022-08-30T17:46:56.647362",
     "exception": false,
     "start_time": "2022-08-30T17:46:54.078112",
     "status": "completed"
    },
    "tags": []
   },
   "outputs": [
    {
     "data": {
      "text/plain": [
       "Text(0.5, 1.0, 'Gene correlations in chromosome 7')"
      ]
     },
     "execution_count": 43,
     "metadata": {},
     "output_type": "execute_result"
    },
    {
     "data": {
      "image/png": "[encoded data removed]",
      "text/plain": [
       "<Figure size 720x720 with 2 Axes>"
      ]
     },
     "metadata": {
      "needs_background": "light"
     },
     "output_type": "display_data"
    }
   ],
   "source": [
    "f, ax = plt.subplots(figsize=(10, 10))\n",
    "sns.heatmap(\n",
    "    gene_corrs_df,\n",
    "    xticklabels=False,\n",
    "    yticklabels=False,\n",
    "    square=True,\n",
    "    vmin=vmin_val,\n",
    "    vmax=vmax_val,\n",
    "    cmap=\"rocket_r\",\n",
    "    ax=ax,\n",
    ")\n",
    "ax.set_title(f\"Gene correlations in chromosome {CHROMOSOME}\")"
   ]
  },
  {
   "cell_type": "code",
   "execution_count": null,
   "id": "b25e3ead",
   "metadata": {
    "papermill": {
     "duration": 2.312623,
     "end_time": "2022-08-30T17:47:01.275521",
     "exception": false,
     "start_time": "2022-08-30T17:46:58.962898",
     "status": "completed"
    },
    "tags": []
   },
   "outputs": [],
   "source": []
  }
 ],
 "metadata": {
  "jupytext": {
   "cell_metadata_filter": "all,-execution,-papermill,-trusted",
   "formats": "ipynb,py//py:percent"
  },
  "kernelspec": {
   "display_name": "Python 3 (ipykernel)",
   "language": "python",
   "name": "python3"
  },
  "language_info": {
   "codemirror_mode": {
    "name": "ipython",
    "version": 3
   },
   "file_extension": ".py",
   "mimetype": "text/x-python",
   "name": "python",
   "nbconvert_exporter": "python",
   "pygments_lexer": "ipython3",
   "version": "3.8.13"
  },
  "papermill": {
   "default_parameters": {},
   "duration": 3334.08091,
   "end_time": "2022-08-30T17:47:06.816254",
   "environment_variables": {},
   "exception": null,
   "input_path": "nbs/15_gsa_gls/10-gene_expr_correlations.ipynb",
   "output_path": "nbs/15_gsa_gls/gene_corrs/cohorts/emerge/gtex_v8/mashr/10-gene_expr_corrs/10-gene_expr_correlations-chr7.run.ipynb",
   "parameters": {
    "CHROMOSOME": 7,
    "COHORT_NAME": "emerge",
    "EQTL_MODEL": "MASHR",
    "REFERENCE_PANEL": "GTEX_V8"
   },
   "start_time": "2022-08-30T16:51:32.735344",
   "version": "2.2.2"
  }
 },
 "nbformat": 4,
 "nbformat_minor": 5
}
