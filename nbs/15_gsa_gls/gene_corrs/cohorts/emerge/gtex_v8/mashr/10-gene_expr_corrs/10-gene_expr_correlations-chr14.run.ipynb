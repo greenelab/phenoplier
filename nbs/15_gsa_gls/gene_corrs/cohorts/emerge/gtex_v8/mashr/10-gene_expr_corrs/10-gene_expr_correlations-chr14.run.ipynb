{
 "cells": [
  {
   "cell_type": "markdown",
   "id": "7a6632fb",
   "metadata": {
    "papermill": {
     "duration": 0.009861,
     "end_time": "2022-08-30T16:51:34.694339",
     "exception": false,
     "start_time": "2022-08-30T16:51:34.684478",
     "status": "completed"
    },
    "tags": []
   },
   "source": [
    "# Description"
   ]
  },
  {
   "cell_type": "markdown",
   "id": "7097c346",
   "metadata": {
    "papermill": {
     "duration": 0.008437,
     "end_time": "2022-08-30T16:51:34.711682",
     "exception": false,
     "start_time": "2022-08-30T16:51:34.703245",
     "status": "completed"
    },
    "tags": []
   },
   "source": [
    "(Please, take a look at the README.md file in this directory for instructions on how to run this notebook)\n",
    "\n",
    "This notebook computes predicted expression correlations between all genes in the MultiPLIER models.\n",
    "\n",
    "It also has a parameter set for papermill to run on a single chromosome to run in parallel (see under `Settings` below).\n",
    "\n",
    "This notebook is not directly run. See README.md."
   ]
  },
  {
   "cell_type": "markdown",
   "id": "c61d8427",
   "metadata": {
    "papermill": {
     "duration": 0.0086,
     "end_time": "2022-08-30T16:51:34.728494",
     "exception": false,
     "start_time": "2022-08-30T16:51:34.719894",
     "status": "completed"
    },
    "tags": []
   },
   "source": [
    "# Modules"
   ]
  },
  {
   "cell_type": "code",
   "execution_count": 1,
   "id": "bbc0234f",
   "metadata": {
    "execution": {
     "iopub.execute_input": "2022-08-30T16:51:34.746347Z",
     "iopub.status.busy": "2022-08-30T16:51:34.746136Z",
     "iopub.status.idle": "2022-08-30T16:51:34.762707Z",
     "shell.execute_reply": "2022-08-30T16:51:34.762235Z"
    },
    "papermill": {
     "duration": 0.027555,
     "end_time": "2022-08-30T16:51:34.764316",
     "exception": false,
     "start_time": "2022-08-30T16:51:34.736761",
     "status": "completed"
    },
    "tags": []
   },
   "outputs": [],
   "source": [
    "%load_ext autoreload\n",
    "%autoreload 2"
   ]
  },
  {
   "cell_type": "code",
   "execution_count": 2,
   "id": "1d5f5a59",
   "metadata": {
    "execution": {
     "iopub.execute_input": "2022-08-30T16:51:34.781951Z",
     "iopub.status.busy": "2022-08-30T16:51:34.781766Z",
     "iopub.status.idle": "2022-08-30T16:51:36.573897Z",
     "shell.execute_reply": "2022-08-30T16:51:36.573316Z"
    },
    "papermill": {
     "duration": 1.803313,
     "end_time": "2022-08-30T16:51:36.576051",
     "exception": false,
     "start_time": "2022-08-30T16:51:34.772738",
     "status": "completed"
    },
    "tags": []
   },
   "outputs": [],
   "source": [
    "from random import sample, seed\n",
    "import warnings\n",
    "from pathlib import Path\n",
    "import pickle\n",
    "import traceback\n",
    "\n",
    "import numpy as np\n",
    "from scipy.spatial.distance import squareform\n",
    "import pandas as pd\n",
    "from tqdm import tqdm\n",
    "import matplotlib.pyplot as plt\n",
    "import seaborn as sns\n",
    "\n",
    "import conf\n",
    "from entity import Gene"
   ]
  },
  {
   "cell_type": "markdown",
   "id": "1eac24b5",
   "metadata": {
    "papermill": {
     "duration": 0.036995,
     "end_time": "2022-08-30T16:51:36.623641",
     "exception": false,
     "start_time": "2022-08-30T16:51:36.586646",
     "status": "completed"
    },
    "tags": []
   },
   "source": [
    "# Settings"
   ]
  },
  {
   "cell_type": "code",
   "execution_count": 3,
   "id": "ca4560ba",
   "metadata": {
    "execution": {
     "iopub.execute_input": "2022-08-30T16:51:36.642227Z",
     "iopub.status.busy": "2022-08-30T16:51:36.641988Z",
     "iopub.status.idle": "2022-08-30T16:51:36.660669Z",
     "shell.execute_reply": "2022-08-30T16:51:36.660094Z"
    },
    "papermill": {
     "duration": 0.029594,
     "end_time": "2022-08-30T16:51:36.662196",
     "exception": false,
     "start_time": "2022-08-30T16:51:36.632602",
     "status": "completed"
    },
    "tags": [
     "parameters"
    ]
   },
   "outputs": [],
   "source": [
    "# a cohort name (it could be something like UK_BIOBANK, etc)\n",
    "COHORT_NAME = None\n",
    "\n",
    "# reference panel such as 1000G or GTEX_V8\n",
    "REFERENCE_PANEL = None\n",
    "\n",
    "# predictions models such as MASHR or ELASTIC_NET\n",
    "EQTL_MODEL = None\n",
    "\n",
    "# this is the default value used in S-MultiXcan to select the\n",
    "# top principal components of the expression correlation matrix\n",
    "SMULTIXCAN_CONDITION_NUMBER = 30\n",
    "\n",
    "# specifies a single chromosome value\n",
    "CHROMOSOME = None\n",
    "\n",
    "# If True, computes the correlation between closeby genes only;\n",
    "# otherwise, it computes correlations for all genes in a chromosome\n",
    "COMPUTE_CORRELATIONS_WITHIN_DISTANCE = False\n",
    "\n",
    "# if True, then it will continue if a gene pair correlation fails,\n",
    "# printing the warning/error for debugging. If False, any warning/error\n",
    "# will be thrown\n",
    "DEBUG_MODE = False"
   ]
  },
  {
   "cell_type": "code",
   "execution_count": 4,
   "id": "fecc6470",
   "metadata": {
    "execution": {
     "iopub.execute_input": "2022-08-30T16:51:36.680319Z",
     "iopub.status.busy": "2022-08-30T16:51:36.680130Z",
     "iopub.status.idle": "2022-08-30T16:51:36.695912Z",
     "shell.execute_reply": "2022-08-30T16:51:36.695289Z"
    },
    "papermill": {
     "duration": 0.026412,
     "end_time": "2022-08-30T16:51:36.697432",
     "exception": false,
     "start_time": "2022-08-30T16:51:36.671020",
     "status": "completed"
    },
    "tags": [
     "injected-parameters"
    ]
   },
   "outputs": [],
   "source": [
    "# Parameters\n",
    "COHORT_NAME = \"emerge\"\n",
    "REFERENCE_PANEL = \"GTEX_V8\"\n",
    "EQTL_MODEL = \"MASHR\"\n",
    "CHROMOSOME = 14\n"
   ]
  },
  {
   "cell_type": "code",
   "execution_count": 5,
   "id": "3190631f-27fc-480f-b18e-571d580425a5",
   "metadata": {
    "execution": {
     "iopub.execute_input": "2022-08-30T16:51:36.714970Z",
     "iopub.status.busy": "2022-08-30T16:51:36.714783Z",
     "iopub.status.idle": "2022-08-30T16:51:36.733417Z",
     "shell.execute_reply": "2022-08-30T16:51:36.732935Z"
    },
    "papermill": {
     "duration": 0.029254,
     "end_time": "2022-08-30T16:51:36.734944",
     "exception": false,
     "start_time": "2022-08-30T16:51:36.705690",
     "status": "completed"
    },
    "tags": []
   },
   "outputs": [
    {
     "data": {
      "text/plain": [
       "'Cohort name: emerge'"
      ]
     },
     "metadata": {},
     "output_type": "display_data"
    }
   ],
   "source": [
    "assert COHORT_NAME is not None and len(COHORT_NAME) > 0, \"A cohort name must be given\"\n",
    "\n",
    "COHORT_NAME = COHORT_NAME.lower()\n",
    "display(f\"Cohort name: {COHORT_NAME}\")"
   ]
  },
  {
   "cell_type": "code",
   "execution_count": 6,
   "id": "f53ba19b-0f93-4fa2-a047-63b375939d1a",
   "metadata": {
    "execution": {
     "iopub.execute_input": "2022-08-30T16:51:36.752748Z",
     "iopub.status.busy": "2022-08-30T16:51:36.752561Z",
     "iopub.status.idle": "2022-08-30T16:51:36.769682Z",
     "shell.execute_reply": "2022-08-30T16:51:36.769206Z"
    },
    "papermill": {
     "duration": 0.027804,
     "end_time": "2022-08-30T16:51:36.771096",
     "exception": false,
     "start_time": "2022-08-30T16:51:36.743292",
     "status": "completed"
    },
    "tags": []
   },
   "outputs": [
    {
     "data": {
      "text/plain": [
       "'Reference panel: GTEX_V8'"
      ]
     },
     "metadata": {},
     "output_type": "display_data"
    }
   ],
   "source": [
    "assert (\n",
    "    REFERENCE_PANEL is not None and len(REFERENCE_PANEL) > 0\n",
    "), \"A reference panel must be given\"\n",
    "\n",
    "display(f\"Reference panel: {REFERENCE_PANEL}\")"
   ]
  },
  {
   "cell_type": "code",
   "execution_count": 7,
   "id": "e024d130-c139-429a-9c6e-ccf149e297b0",
   "metadata": {
    "execution": {
     "iopub.execute_input": "2022-08-30T16:51:36.789787Z",
     "iopub.status.busy": "2022-08-30T16:51:36.789591Z",
     "iopub.status.idle": "2022-08-30T16:51:36.807115Z",
     "shell.execute_reply": "2022-08-30T16:51:36.806459Z"
    },
    "papermill": {
     "duration": 0.028714,
     "end_time": "2022-08-30T16:51:36.808630",
     "exception": false,
     "start_time": "2022-08-30T16:51:36.779916",
     "status": "completed"
    },
    "tags": []
   },
   "outputs": [
    {
     "data": {
      "text/plain": [
       "'eQTL model: MASHR) / mashr_'"
      ]
     },
     "metadata": {},
     "output_type": "display_data"
    }
   ],
   "source": [
    "assert (\n",
    "    EQTL_MODEL is not None and len(EQTL_MODEL) > 0\n",
    "), \"A prediction/eQTL model must be given\"\n",
    "\n",
    "EQTL_MODEL_FILES_PREFIX = conf.PHENOMEXCAN[\"PREDICTION_MODELS\"][f\"{EQTL_MODEL}_PREFIX\"]\n",
    "display(f\"eQTL model: {EQTL_MODEL}) / {EQTL_MODEL_FILES_PREFIX}\")"
   ]
  },
  {
   "cell_type": "code",
   "execution_count": 8,
   "id": "552a7f63-a18c-4d3e-bb6a-94f99b431291",
   "metadata": {
    "execution": {
     "iopub.execute_input": "2022-08-30T16:51:36.827908Z",
     "iopub.status.busy": "2022-08-30T16:51:36.827721Z",
     "iopub.status.idle": "2022-08-30T16:51:36.844953Z",
     "shell.execute_reply": "2022-08-30T16:51:36.844209Z"
    },
    "papermill": {
     "duration": 0.028958,
     "end_time": "2022-08-30T16:51:36.846461",
     "exception": false,
     "start_time": "2022-08-30T16:51:36.817503",
     "status": "completed"
    },
    "tags": []
   },
   "outputs": [
    {
     "data": {
      "text/plain": [
       "'S-MultiXcan condition number: 30'"
      ]
     },
     "metadata": {},
     "output_type": "display_data"
    }
   ],
   "source": [
    "assert (\n",
    "    SMULTIXCAN_CONDITION_NUMBER is not None and SMULTIXCAN_CONDITION_NUMBER > 0\n",
    "), \"The S-MultiXcan condition number (positive integer) must be given\"\n",
    "\n",
    "display(f\"S-MultiXcan condition number: {SMULTIXCAN_CONDITION_NUMBER}\")"
   ]
  },
  {
   "cell_type": "code",
   "execution_count": 9,
   "id": "f34a336f-548e-4afe-8955-90eaea4f42c6",
   "metadata": {
    "execution": {
     "iopub.execute_input": "2022-08-30T16:51:36.866744Z",
     "iopub.status.busy": "2022-08-30T16:51:36.866525Z",
     "iopub.status.idle": "2022-08-30T16:51:36.883567Z",
     "shell.execute_reply": "2022-08-30T16:51:36.883087Z"
    },
    "papermill": {
     "duration": 0.028737,
     "end_time": "2022-08-30T16:51:36.884967",
     "exception": false,
     "start_time": "2022-08-30T16:51:36.856230",
     "status": "completed"
    },
    "tags": []
   },
   "outputs": [
    {
     "data": {
      "text/plain": [
       "'Working on chromosome 14'"
      ]
     },
     "metadata": {},
     "output_type": "display_data"
    }
   ],
   "source": [
    "assert CHROMOSOME is not None and (\n",
    "    1 <= CHROMOSOME <= 22\n",
    "), \"You have to select one chromosome (format: number between 1 and 22)\"\n",
    "\n",
    "# CHROMOSOME = str(CHROMOSOME)\n",
    "display(f\"Working on chromosome {CHROMOSOME}\")"
   ]
  },
  {
   "cell_type": "code",
   "execution_count": 10,
   "id": "ab8e96e8-06b5-4363-9dcd-dc4d78cc27f7",
   "metadata": {
    "execution": {
     "iopub.execute_input": "2022-08-30T16:51:36.904324Z",
     "iopub.status.busy": "2022-08-30T16:51:36.904137Z",
     "iopub.status.idle": "2022-08-30T16:51:36.921369Z",
     "shell.execute_reply": "2022-08-30T16:51:36.920698Z"
    },
    "papermill": {
     "duration": 0.028741,
     "end_time": "2022-08-30T16:51:36.922885",
     "exception": false,
     "start_time": "2022-08-30T16:51:36.894144",
     "status": "completed"
    },
    "tags": []
   },
   "outputs": [
    {
     "data": {
      "text/plain": [
       "'Compute correlation within distance False'"
      ]
     },
     "metadata": {},
     "output_type": "display_data"
    }
   ],
   "source": [
    "display(f\"Compute correlation within distance {COMPUTE_CORRELATIONS_WITHIN_DISTANCE}\")"
   ]
  },
  {
   "cell_type": "code",
   "execution_count": 11,
   "id": "396392dc-0340-4540-9b02-e182b833f909",
   "metadata": {
    "execution": {
     "iopub.execute_input": "2022-08-30T16:51:36.941885Z",
     "iopub.status.busy": "2022-08-30T16:51:36.941698Z",
     "iopub.status.idle": "2022-08-30T16:51:36.963136Z",
     "shell.execute_reply": "2022-08-30T16:51:36.962407Z"
    },
    "papermill": {
     "duration": 0.032974,
     "end_time": "2022-08-30T16:51:36.964728",
     "exception": false,
     "start_time": "2022-08-30T16:51:36.931754",
     "status": "completed"
    },
    "tags": []
   },
   "outputs": [
    {
     "data": {
      "text/plain": [
       "'Using output dir base: /project/ritchie20/projects/phenoplier/base/results/gls/gene_corrs/cohorts/emerge/gtex_v8/mashr'"
      ]
     },
     "metadata": {},
     "output_type": "display_data"
    }
   ],
   "source": [
    "OUTPUT_DIR_BASE = (\n",
    "    conf.RESULTS[\"GLS\"]\n",
    "    / \"gene_corrs\"\n",
    "    / \"cohorts\"\n",
    "    / COHORT_NAME\n",
    "    / REFERENCE_PANEL.lower()\n",
    "    / EQTL_MODEL.lower()\n",
    ")\n",
    "OUTPUT_DIR_BASE.mkdir(parents=True, exist_ok=True)\n",
    "\n",
    "display(f\"Using output dir base: {OUTPUT_DIR_BASE}\")"
   ]
  },
  {
   "cell_type": "markdown",
   "id": "d2ba085e",
   "metadata": {
    "papermill": {
     "duration": 0.02285,
     "end_time": "2022-08-30T16:51:37.002685",
     "exception": false,
     "start_time": "2022-08-30T16:51:36.979835",
     "status": "completed"
    },
    "tags": []
   },
   "source": [
    "# Load data"
   ]
  },
  {
   "cell_type": "markdown",
   "id": "7dcb8db7",
   "metadata": {
    "papermill": {
     "duration": 0.009482,
     "end_time": "2022-08-30T16:51:37.026136",
     "exception": false,
     "start_time": "2022-08-30T16:51:37.016654",
     "status": "completed"
    },
    "tags": []
   },
   "source": [
    "## GWAS variants"
   ]
  },
  {
   "cell_type": "code",
   "execution_count": 12,
   "id": "29434c4e-8cd3-4b9b-82e4-b5a251d9dd19",
   "metadata": {
    "execution": {
     "iopub.execute_input": "2022-08-30T16:51:37.051386Z",
     "iopub.status.busy": "2022-08-30T16:51:37.051199Z",
     "iopub.status.idle": "2022-08-30T16:51:39.395461Z",
     "shell.execute_reply": "2022-08-30T16:51:39.394852Z"
    },
    "papermill": {
     "duration": 2.359288,
     "end_time": "2022-08-30T16:51:39.397359",
     "exception": false,
     "start_time": "2022-08-30T16:51:37.038071",
     "status": "completed"
    },
    "tags": []
   },
   "outputs": [],
   "source": [
    "with open(OUTPUT_DIR_BASE / \"gwas_variant_ids.pkl\", \"rb\") as handle:\n",
    "    gwas_variants_ids_set = pickle.load(handle)"
   ]
  },
  {
   "cell_type": "code",
   "execution_count": 13,
   "id": "b9d9dec2-4a76-4bf9-bde2-e24c95acb8a0",
   "metadata": {
    "execution": {
     "iopub.execute_input": "2022-08-30T16:51:39.418135Z",
     "iopub.status.busy": "2022-08-30T16:51:39.417939Z",
     "iopub.status.idle": "2022-08-30T16:51:39.437543Z",
     "shell.execute_reply": "2022-08-30T16:51:39.436898Z"
    },
    "papermill": {
     "duration": 0.030803,
     "end_time": "2022-08-30T16:51:39.438948",
     "exception": false,
     "start_time": "2022-08-30T16:51:39.408145",
     "status": "completed"
    },
    "tags": []
   },
   "outputs": [
    {
     "data": {
      "text/plain": [
       "8376508"
      ]
     },
     "execution_count": 13,
     "metadata": {},
     "output_type": "execute_result"
    }
   ],
   "source": [
    "len(gwas_variants_ids_set)"
   ]
  },
  {
   "cell_type": "code",
   "execution_count": 14,
   "id": "4235b06a-6034-4ee4-a0a3-2ae35d122418",
   "metadata": {
    "execution": {
     "iopub.execute_input": "2022-08-30T16:51:39.460089Z",
     "iopub.status.busy": "2022-08-30T16:51:39.459903Z",
     "iopub.status.idle": "2022-08-30T16:51:40.008420Z",
     "shell.execute_reply": "2022-08-30T16:51:40.007908Z"
    },
    "papermill": {
     "duration": 0.560144,
     "end_time": "2022-08-30T16:51:40.009929",
     "exception": false,
     "start_time": "2022-08-30T16:51:39.449785",
     "status": "completed"
    },
    "tags": []
   },
   "outputs": [
    {
     "data": {
      "text/plain": [
       "['chr5_129764564_A_G_b38',\n",
       " 'chr7_19661853_C_G_b38',\n",
       " 'chr8_109609129_C_G_b38',\n",
       " 'chr17_11440868_A_T_b38',\n",
       " 'chr2_210820009_A_G_b38']"
      ]
     },
     "execution_count": 14,
     "metadata": {},
     "output_type": "execute_result"
    }
   ],
   "source": [
    "list(gwas_variants_ids_set)[:5]"
   ]
  },
  {
   "cell_type": "markdown",
   "id": "07866999-2305-41f9-a144-e69c9122c212",
   "metadata": {
    "papermill": {
     "duration": 0.013715,
     "end_time": "2022-08-30T16:51:40.035106",
     "exception": false,
     "start_time": "2022-08-30T16:51:40.021391",
     "status": "completed"
    },
    "tags": []
   },
   "source": [
    "## S-PrediXcan tissue models"
   ]
  },
  {
   "cell_type": "code",
   "execution_count": 15,
   "id": "780611d9-77c8-405f-90a4-f271f7b09397",
   "metadata": {
    "execution": {
     "iopub.execute_input": "2022-08-30T16:51:40.067767Z",
     "iopub.status.busy": "2022-08-30T16:51:40.067563Z",
     "iopub.status.idle": "2022-08-30T16:51:40.933560Z",
     "shell.execute_reply": "2022-08-30T16:51:40.932754Z"
    },
    "papermill": {
     "duration": 0.882884,
     "end_time": "2022-08-30T16:51:40.935583",
     "exception": false,
     "start_time": "2022-08-30T16:51:40.052699",
     "status": "completed"
    },
    "tags": []
   },
   "outputs": [],
   "source": [
    "spredixcan_genes_models = pd.read_pickle(OUTPUT_DIR_BASE / \"gene_tissues.pkl\")"
   ]
  },
  {
   "cell_type": "code",
   "execution_count": 16,
   "id": "726dd1f6-9557-4225-91fa-b3b879ea96e1",
   "metadata": {
    "execution": {
     "iopub.execute_input": "2022-08-30T16:51:40.985196Z",
     "iopub.status.busy": "2022-08-30T16:51:40.984995Z",
     "iopub.status.idle": "2022-08-30T16:51:41.006685Z",
     "shell.execute_reply": "2022-08-30T16:51:41.006006Z"
    },
    "papermill": {
     "duration": 0.04648,
     "end_time": "2022-08-30T16:51:41.008198",
     "exception": false,
     "start_time": "2022-08-30T16:51:40.961718",
     "status": "completed"
    },
    "tags": []
   },
   "outputs": [
    {
     "data": {
      "text/plain": [
       "(6425, 3)"
      ]
     },
     "execution_count": 16,
     "metadata": {},
     "output_type": "execute_result"
    }
   ],
   "source": [
    "spredixcan_genes_models.shape"
   ]
  },
  {
   "cell_type": "code",
   "execution_count": 17,
   "id": "944a1b48-222c-4eb0-b252-b9de2cbca215",
   "metadata": {
    "execution": {
     "iopub.execute_input": "2022-08-30T16:51:41.049086Z",
     "iopub.status.busy": "2022-08-30T16:51:41.048899Z",
     "iopub.status.idle": "2022-08-30T16:51:41.081192Z",
     "shell.execute_reply": "2022-08-30T16:51:41.080567Z"
    },
    "papermill": {
     "duration": 0.054427,
     "end_time": "2022-08-30T16:51:41.082753",
     "exception": false,
     "start_time": "2022-08-30T16:51:41.028326",
     "status": "completed"
    },
    "tags": []
   },
   "outputs": [
    {
     "data": {
      "text/html": [
       "<div>\n",
       "<style scoped>\n",
       "    .dataframe tbody tr th:only-of-type {\n",
       "        vertical-align: middle;\n",
       "    }\n",
       "\n",
       "    .dataframe tbody tr th {\n",
       "        vertical-align: top;\n",
       "    }\n",
       "\n",
       "    .dataframe thead th {\n",
       "        text-align: right;\n",
       "    }\n",
       "</style>\n",
       "<table border=\"1\" class=\"dataframe\">\n",
       "  <thead>\n",
       "    <tr style=\"text-align: right;\">\n",
       "      <th></th>\n",
       "      <th>gene_name</th>\n",
       "      <th>tissue</th>\n",
       "      <th>n_tissues</th>\n",
       "    </tr>\n",
       "    <tr>\n",
       "      <th>gene_id</th>\n",
       "      <th></th>\n",
       "      <th></th>\n",
       "      <th></th>\n",
       "    </tr>\n",
       "  </thead>\n",
       "  <tbody>\n",
       "    <tr>\n",
       "      <th>ENSG00000000419</th>\n",
       "      <td>DPM1</td>\n",
       "      <td>(Brain_Substantia_nigra, Brain_Hypothalamus)</td>\n",
       "      <td>2</td>\n",
       "    </tr>\n",
       "    <tr>\n",
       "      <th>ENSG00000000938</th>\n",
       "      <td>FGR</td>\n",
       "      <td>(Esophagus_Gastroesophageal_Junction, Brain_Ca...</td>\n",
       "      <td>26</td>\n",
       "    </tr>\n",
       "    <tr>\n",
       "      <th>ENSG00000000971</th>\n",
       "      <td>CFH</td>\n",
       "      <td>(Esophagus_Gastroesophageal_Junction, Brain_Ca...</td>\n",
       "      <td>34</td>\n",
       "    </tr>\n",
       "    <tr>\n",
       "      <th>ENSG00000001084</th>\n",
       "      <td>GCLC</td>\n",
       "      <td>(Adrenal_Gland, Pancreas, Brain_Cerebellar_Hem...</td>\n",
       "      <td>32</td>\n",
       "    </tr>\n",
       "    <tr>\n",
       "      <th>ENSG00000001167</th>\n",
       "      <td>NFYA</td>\n",
       "      <td>(Adrenal_Gland, Esophagus_Gastroesophageal_Jun...</td>\n",
       "      <td>40</td>\n",
       "    </tr>\n",
       "  </tbody>\n",
       "</table>\n",
       "</div>"
      ],
      "text/plain": [
       "                gene_name                                             tissue  \\\n",
       "gene_id                                                                        \n",
       "ENSG00000000419      DPM1       (Brain_Substantia_nigra, Brain_Hypothalamus)   \n",
       "ENSG00000000938       FGR  (Esophagus_Gastroesophageal_Junction, Brain_Ca...   \n",
       "ENSG00000000971       CFH  (Esophagus_Gastroesophageal_Junction, Brain_Ca...   \n",
       "ENSG00000001084      GCLC  (Adrenal_Gland, Pancreas, Brain_Cerebellar_Hem...   \n",
       "ENSG00000001167      NFYA  (Adrenal_Gland, Esophagus_Gastroesophageal_Jun...   \n",
       "\n",
       "                 n_tissues  \n",
       "gene_id                     \n",
       "ENSG00000000419          2  \n",
       "ENSG00000000938         26  \n",
       "ENSG00000000971         34  \n",
       "ENSG00000001084         32  \n",
       "ENSG00000001167         40  "
      ]
     },
     "execution_count": 17,
     "metadata": {},
     "output_type": "execute_result"
    }
   ],
   "source": [
    "spredixcan_genes_models.head()"
   ]
  },
  {
   "cell_type": "code",
   "execution_count": 18,
   "id": "d1c11bb1-be0b-4f40-b360-633d6827109f",
   "metadata": {
    "execution": {
     "iopub.execute_input": "2022-08-30T16:51:41.123968Z",
     "iopub.status.busy": "2022-08-30T16:51:41.123761Z",
     "iopub.status.idle": "2022-08-30T16:51:41.140467Z",
     "shell.execute_reply": "2022-08-30T16:51:41.139994Z"
    },
    "papermill": {
     "duration": 0.035423,
     "end_time": "2022-08-30T16:51:41.142069",
     "exception": false,
     "start_time": "2022-08-30T16:51:41.106646",
     "status": "completed"
    },
    "tags": []
   },
   "outputs": [],
   "source": [
    "assert spredixcan_genes_models.index.is_unique"
   ]
  },
  {
   "cell_type": "markdown",
   "id": "a5b5092c-a13e-47c4-a92a-480fcc08f3ae",
   "metadata": {
    "papermill": {
     "duration": 0.011068,
     "end_time": "2022-08-30T16:51:41.163907",
     "exception": false,
     "start_time": "2022-08-30T16:51:41.152839",
     "status": "completed"
    },
    "tags": []
   },
   "source": [
    "## Gene info"
   ]
  },
  {
   "cell_type": "code",
   "execution_count": 19,
   "id": "7d6bb224-88e9-4358-ac10-43a41d92cdad",
   "metadata": {
    "execution": {
     "iopub.execute_input": "2022-08-30T16:51:41.186595Z",
     "iopub.status.busy": "2022-08-30T16:51:41.186398Z",
     "iopub.status.idle": "2022-08-30T16:51:41.206941Z",
     "shell.execute_reply": "2022-08-30T16:51:41.206407Z"
    },
    "papermill": {
     "duration": 0.033618,
     "end_time": "2022-08-30T16:51:41.208601",
     "exception": false,
     "start_time": "2022-08-30T16:51:41.174983",
     "status": "completed"
    },
    "tags": []
   },
   "outputs": [],
   "source": [
    "genes_info = pd.read_pickle(OUTPUT_DIR_BASE / \"genes_info.pkl\")"
   ]
  },
  {
   "cell_type": "code",
   "execution_count": 20,
   "id": "9e32abfa-546d-483e-8c18-d526e9e05903",
   "metadata": {
    "execution": {
     "iopub.execute_input": "2022-08-30T16:51:41.231274Z",
     "iopub.status.busy": "2022-08-30T16:51:41.231086Z",
     "iopub.status.idle": "2022-08-30T16:51:41.248960Z",
     "shell.execute_reply": "2022-08-30T16:51:41.248170Z"
    },
    "papermill": {
     "duration": 0.031513,
     "end_time": "2022-08-30T16:51:41.250512",
     "exception": false,
     "start_time": "2022-08-30T16:51:41.218999",
     "status": "completed"
    },
    "tags": []
   },
   "outputs": [
    {
     "data": {
      "text/plain": [
       "(6425, 7)"
      ]
     },
     "execution_count": 20,
     "metadata": {},
     "output_type": "execute_result"
    }
   ],
   "source": [
    "genes_info.shape"
   ]
  },
  {
   "cell_type": "code",
   "execution_count": 21,
   "id": "d16c3e92-85ec-468a-9a56-e25a9774a1cb",
   "metadata": {
    "execution": {
     "iopub.execute_input": "2022-08-30T16:51:41.272031Z",
     "iopub.status.busy": "2022-08-30T16:51:41.271845Z",
     "iopub.status.idle": "2022-08-30T16:51:41.294105Z",
     "shell.execute_reply": "2022-08-30T16:51:41.293568Z"
    },
    "papermill": {
     "duration": 0.034555,
     "end_time": "2022-08-30T16:51:41.295569",
     "exception": false,
     "start_time": "2022-08-30T16:51:41.261014",
     "status": "completed"
    },
    "tags": []
   },
   "outputs": [
    {
     "data": {
      "text/html": [
       "<div>\n",
       "<style scoped>\n",
       "    .dataframe tbody tr th:only-of-type {\n",
       "        vertical-align: middle;\n",
       "    }\n",
       "\n",
       "    .dataframe tbody tr th {\n",
       "        vertical-align: top;\n",
       "    }\n",
       "\n",
       "    .dataframe thead th {\n",
       "        text-align: right;\n",
       "    }\n",
       "</style>\n",
       "<table border=\"1\" class=\"dataframe\">\n",
       "  <thead>\n",
       "    <tr style=\"text-align: right;\">\n",
       "      <th></th>\n",
       "      <th>name</th>\n",
       "      <th>id</th>\n",
       "      <th>chr</th>\n",
       "      <th>band</th>\n",
       "      <th>start_position</th>\n",
       "      <th>end_position</th>\n",
       "      <th>gene_length</th>\n",
       "    </tr>\n",
       "  </thead>\n",
       "  <tbody>\n",
       "    <tr>\n",
       "      <th>0</th>\n",
       "      <td>ADAMTS14</td>\n",
       "      <td>ENSG00000138316</td>\n",
       "      <td>10</td>\n",
       "      <td>10q22.1</td>\n",
       "      <td>70672506</td>\n",
       "      <td>70762441</td>\n",
       "      <td>89935</td>\n",
       "    </tr>\n",
       "    <tr>\n",
       "      <th>1</th>\n",
       "      <td>TXN</td>\n",
       "      <td>ENSG00000136810</td>\n",
       "      <td>9</td>\n",
       "      <td>9q31.3</td>\n",
       "      <td>110243810</td>\n",
       "      <td>110256507</td>\n",
       "      <td>12697</td>\n",
       "    </tr>\n",
       "    <tr>\n",
       "      <th>2</th>\n",
       "      <td>RMI1</td>\n",
       "      <td>ENSG00000178966</td>\n",
       "      <td>9</td>\n",
       "      <td>9q21.32</td>\n",
       "      <td>83980711</td>\n",
       "      <td>84004074</td>\n",
       "      <td>23363</td>\n",
       "    </tr>\n",
       "    <tr>\n",
       "      <th>3</th>\n",
       "      <td>DHX58</td>\n",
       "      <td>ENSG00000108771</td>\n",
       "      <td>17</td>\n",
       "      <td>17q21.2</td>\n",
       "      <td>42101404</td>\n",
       "      <td>42112714</td>\n",
       "      <td>11310</td>\n",
       "    </tr>\n",
       "    <tr>\n",
       "      <th>4</th>\n",
       "      <td>XRCC4</td>\n",
       "      <td>ENSG00000152422</td>\n",
       "      <td>5</td>\n",
       "      <td>5q14.2</td>\n",
       "      <td>83077498</td>\n",
       "      <td>83353787</td>\n",
       "      <td>276289</td>\n",
       "    </tr>\n",
       "  </tbody>\n",
       "</table>\n",
       "</div>"
      ],
      "text/plain": [
       "       name               id  chr     band  start_position  end_position  \\\n",
       "0  ADAMTS14  ENSG00000138316   10  10q22.1        70672506      70762441   \n",
       "1       TXN  ENSG00000136810    9   9q31.3       110243810     110256507   \n",
       "2      RMI1  ENSG00000178966    9  9q21.32        83980711      84004074   \n",
       "3     DHX58  ENSG00000108771   17  17q21.2        42101404      42112714   \n",
       "4     XRCC4  ENSG00000152422    5   5q14.2        83077498      83353787   \n",
       "\n",
       "   gene_length  \n",
       "0        89935  \n",
       "1        12697  \n",
       "2        23363  \n",
       "3        11310  \n",
       "4       276289  "
      ]
     },
     "execution_count": 21,
     "metadata": {},
     "output_type": "execute_result"
    }
   ],
   "source": [
    "genes_info.head()"
   ]
  },
  {
   "cell_type": "markdown",
   "id": "d3843e06",
   "metadata": {
    "papermill": {
     "duration": 0.010346,
     "end_time": "2022-08-30T16:51:41.316829",
     "exception": false,
     "start_time": "2022-08-30T16:51:41.306483",
     "status": "completed"
    },
    "tags": []
   },
   "source": [
    "# Compute correlations"
   ]
  },
  {
   "cell_type": "code",
   "execution_count": 22,
   "id": "cb859c15-d1f3-4006-a74c-2b83c0db9611",
   "metadata": {
    "execution": {
     "iopub.execute_input": "2022-08-30T16:51:41.337377Z",
     "iopub.status.busy": "2022-08-30T16:51:41.337190Z",
     "iopub.status.idle": "2022-08-30T16:51:41.355688Z",
     "shell.execute_reply": "2022-08-30T16:51:41.355064Z"
    },
    "papermill": {
     "duration": 0.030779,
     "end_time": "2022-08-30T16:51:41.357190",
     "exception": false,
     "start_time": "2022-08-30T16:51:41.326411",
     "status": "completed"
    },
    "tags": []
   },
   "outputs": [
    {
     "data": {
      "text/plain": [
       "PosixPath('/project/ritchie20/projects/phenoplier/base/results/gls/gene_corrs/cohorts/emerge/gtex_v8/mashr/by_chr/gene_corrs-chr14.pkl')"
      ]
     },
     "metadata": {},
     "output_type": "display_data"
    }
   ],
   "source": [
    "output_dir = OUTPUT_DIR_BASE / \"by_chr\"\n",
    "output_dir.mkdir(exist_ok=True, parents=True)\n",
    "output_file = output_dir / f\"gene_corrs-chr{CHROMOSOME}.pkl\"\n",
    "display(output_file)"
   ]
  },
  {
   "cell_type": "code",
   "execution_count": 23,
   "id": "aa674fe4-6794-4eed-98fa-32b39d1d4ace",
   "metadata": {
    "execution": {
     "iopub.execute_input": "2022-08-30T16:51:41.379748Z",
     "iopub.status.busy": "2022-08-30T16:51:41.379559Z",
     "iopub.status.idle": "2022-08-30T16:51:41.394996Z",
     "shell.execute_reply": "2022-08-30T16:51:41.394324Z"
    },
    "papermill": {
     "duration": 0.028507,
     "end_time": "2022-08-30T16:51:41.396553",
     "exception": false,
     "start_time": "2022-08-30T16:51:41.368046",
     "status": "completed"
    },
    "tags": []
   },
   "outputs": [],
   "source": [
    "warnings.filterwarnings(\"error\")"
   ]
  },
  {
   "cell_type": "code",
   "execution_count": 24,
   "id": "44d5450b-3baf-43f1-9e2e-4b06f1a785f8",
   "metadata": {
    "execution": {
     "iopub.execute_input": "2022-08-30T16:51:41.428356Z",
     "iopub.status.busy": "2022-08-30T16:51:41.428169Z",
     "iopub.status.idle": "2022-08-30T16:51:41.444231Z",
     "shell.execute_reply": "2022-08-30T16:51:41.443739Z"
    },
    "papermill": {
     "duration": 0.035504,
     "end_time": "2022-08-30T16:51:41.445746",
     "exception": false,
     "start_time": "2022-08-30T16:51:41.410242",
     "status": "completed"
    },
    "tags": []
   },
   "outputs": [],
   "source": [
    "# standard checks\n",
    "all_chrs = genes_info[\"chr\"].dropna().unique()\n",
    "assert all_chrs.shape[0] == 22\n",
    "\n",
    "# select chromosome given by the user\n",
    "assert CHROMOSOME in all_chrs"
   ]
  },
  {
   "cell_type": "code",
   "execution_count": 25,
   "id": "2d7c043c-92a7-4d35-991b-fa69ac1e0268",
   "metadata": {
    "execution": {
     "iopub.execute_input": "2022-08-30T16:51:41.474753Z",
     "iopub.status.busy": "2022-08-30T16:51:41.474564Z",
     "iopub.status.idle": "2022-08-30T16:51:41.518369Z",
     "shell.execute_reply": "2022-08-30T16:51:41.517702Z"
    },
    "papermill": {
     "duration": 0.058571,
     "end_time": "2022-08-30T16:51:41.519895",
     "exception": false,
     "start_time": "2022-08-30T16:51:41.461324",
     "status": "completed"
    },
    "tags": []
   },
   "outputs": [
    {
     "name": "stdout",
     "output_type": "stream",
     "text": [
      "Number of genes in chromosome: 209\n"
     ]
    }
   ],
   "source": [
    "# run only on the chromosome specified\n",
    "all_chrs = [CHROMOSOME]\n",
    "genes_chr = genes_info[genes_info[\"chr\"] == CHROMOSOME]\n",
    "\n",
    "# For testing purposes\n",
    "# genes_chr = genes_chr.sample(n=20)\n",
    "\n",
    "print(f\"Number of genes in chromosome: {genes_chr.shape[0]}\", flush=True)"
   ]
  },
  {
   "cell_type": "code",
   "execution_count": 26,
   "id": "916015d8-2979-46d3-a9b9-1cf5a0932c6a",
   "metadata": {
    "execution": {
     "iopub.execute_input": "2022-08-30T16:51:41.545129Z",
     "iopub.status.busy": "2022-08-30T16:51:41.544941Z",
     "iopub.status.idle": "2022-08-30T16:51:41.560881Z",
     "shell.execute_reply": "2022-08-30T16:51:41.560284Z"
    },
    "papermill": {
     "duration": 0.030311,
     "end_time": "2022-08-30T16:51:41.562398",
     "exception": false,
     "start_time": "2022-08-30T16:51:41.532087",
     "status": "completed"
    },
    "tags": []
   },
   "outputs": [],
   "source": [
    "# sort genes by starting position to make visualizations better later\n",
    "genes_chr = genes_chr.sort_values(\"start_position\")"
   ]
  },
  {
   "cell_type": "code",
   "execution_count": 27,
   "id": "a38aa74a-8ad3-47f6-8ef9-56be0e011774",
   "metadata": {
    "execution": {
     "iopub.execute_input": "2022-08-30T16:51:41.589313Z",
     "iopub.status.busy": "2022-08-30T16:51:41.589126Z",
     "iopub.status.idle": "2022-08-30T16:51:41.605270Z",
     "shell.execute_reply": "2022-08-30T16:51:41.604651Z"
    },
    "papermill": {
     "duration": 0.029593,
     "end_time": "2022-08-30T16:51:41.606780",
     "exception": false,
     "start_time": "2022-08-30T16:51:41.577187",
     "status": "completed"
    },
    "tags": []
   },
   "outputs": [],
   "source": [
    "gene_chr_objs = [Gene(ensembl_id=gene_id) for gene_id in genes_chr[\"id\"]]"
   ]
  },
  {
   "cell_type": "code",
   "execution_count": 28,
   "id": "570f974f-13c3-42b6-ad3a-ce99ca885c1a",
   "metadata": {
    "execution": {
     "iopub.execute_input": "2022-08-30T16:51:41.631305Z",
     "iopub.status.busy": "2022-08-30T16:51:41.631117Z",
     "iopub.status.idle": "2022-08-30T16:51:41.648301Z",
     "shell.execute_reply": "2022-08-30T16:51:41.647663Z"
    },
    "papermill": {
     "duration": 0.032138,
     "end_time": "2022-08-30T16:51:41.649827",
     "exception": false,
     "start_time": "2022-08-30T16:51:41.617689",
     "status": "completed"
    },
    "tags": []
   },
   "outputs": [
    {
     "name": "stdout",
     "output_type": "stream",
     "text": [
      "Number of gene combinations: 21945\n"
     ]
    }
   ],
   "source": [
    "n = len(gene_chr_objs)\n",
    "# diagonal elements + upper triangular matrix\n",
    "n_comb = n + int(n * (n - 1) / 2.0)\n",
    "print(f\"Number of gene combinations: {n_comb}\", flush=True)"
   ]
  },
  {
   "cell_type": "code",
   "execution_count": 29,
   "id": "cdbb90a1",
   "metadata": {
    "execution": {
     "iopub.execute_input": "2022-08-30T16:51:41.682038Z",
     "iopub.status.busy": "2022-08-30T16:51:41.681849Z",
     "iopub.status.idle": "2022-08-30T17:24:13.399234Z",
     "shell.execute_reply": "2022-08-30T17:24:13.398572Z"
    },
    "papermill": {
     "duration": 1951.739256,
     "end_time": "2022-08-30T17:24:13.400991",
     "exception": false,
     "start_time": "2022-08-30T16:51:41.661735",
     "status": "completed"
    },
    "tags": []
   },
   "outputs": [
    {
     "name": "stderr",
     "output_type": "stream",
     "text": [
      "ENSG00000182979 / ENSG00000182979: 100%|██████████████████████| 21945/21945 [32:31<00:00, 11.24it/s]\n"
     ]
    },
    {
     "data": {
      "text/plain": [
       "PosixPath('/project/ritchie20/projects/phenoplier/base/results/gls/gene_corrs/cohorts/emerge/gtex_v8/mashr/by_chr/gene_corrs-chr14.pkl')"
      ]
     },
     "metadata": {},
     "output_type": "display_data"
    }
   ],
   "source": [
    "gene_corrs = []\n",
    "gene_corrs_data = np.full(\n",
    "    (n, n),\n",
    "    np.nan,\n",
    "    dtype=np.float64,\n",
    ")\n",
    "\n",
    "i = 0\n",
    "with tqdm(ncols=100, total=n_comb) as pbar:\n",
    "    for gene1_idx in range(0, len(gene_chr_objs)):\n",
    "        gene1_obj = gene_chr_objs[gene1_idx]\n",
    "        gene1_tissues = spredixcan_genes_models.loc[gene1_obj.ensembl_id, \"tissue\"]\n",
    "\n",
    "        for gene2_idx in range(gene1_idx, len(gene_chr_objs)):\n",
    "            gene2_obj = gene_chr_objs[gene2_idx]\n",
    "            gene2_tissues = spredixcan_genes_models.loc[gene2_obj.ensembl_id, \"tissue\"]\n",
    "\n",
    "            pbar.set_description(f\"{gene1_obj.ensembl_id} / {gene2_obj.ensembl_id}\")\n",
    "\n",
    "            try:\n",
    "                r = gene1_obj.get_ssm_correlation(\n",
    "                    other_gene=gene2_obj,\n",
    "                    tissues=gene1_tissues,\n",
    "                    other_tissues=gene2_tissues,\n",
    "                    snps_subset=gwas_variants_ids_set,\n",
    "                    condition_number=SMULTIXCAN_CONDITION_NUMBER,\n",
    "                    reference_panel=REFERENCE_PANEL,\n",
    "                    model_type=EQTL_MODEL,\n",
    "                    use_within_distance=COMPUTE_CORRELATIONS_WITHIN_DISTANCE,\n",
    "                )\n",
    "\n",
    "                if r is None:\n",
    "                    # if r is None, it's very likely because:\n",
    "                    #  * one of the genes has no prediction models\n",
    "                    #  * all the SNPs predictors for the gene are not present in the reference\n",
    "                    #    panel\n",
    "\n",
    "                    r = 0.0\n",
    "\n",
    "                gene_corrs.append(r)\n",
    "\n",
    "                gene_corrs_data[gene1_idx, gene2_idx] = r\n",
    "                gene_corrs_data[gene2_idx, gene1_idx] = r\n",
    "            except Warning as e:\n",
    "                if not DEBUG_MODE:\n",
    "                    raise e\n",
    "\n",
    "                print(\n",
    "                    f\"RuntimeWarning for genes {gene1_obj.ensembl_id} and {gene2_obj.ensembl_id}\",\n",
    "                    flush=True,\n",
    "                )\n",
    "                print(traceback.format_exc(), flush=True)\n",
    "\n",
    "                gene_corrs.append(np.nan)\n",
    "            except Exception as e:\n",
    "                if not DEBUG_MODE:\n",
    "                    raise e\n",
    "\n",
    "                print(\n",
    "                    f\"Exception for genes {gene1_obj.ensembl_id} and {gene2_obj.ensembl_id}\",\n",
    "                    flush=True,\n",
    "                )\n",
    "                print(traceback.format_exc(), flush=True)\n",
    "\n",
    "                gene_corrs.append(np.nan)\n",
    "\n",
    "            pbar.update(1)\n",
    "\n",
    "# create a pandas series\n",
    "gene_corrs_flat = pd.Series(gene_corrs)\n",
    "\n",
    "# save\n",
    "# FIXME: consider saving only the condenced matrix here. See here for\n",
    "# more details: https://github.com/greenelab/phenoplier/pull/38#discussion_r634600813\n",
    "# gene_corrs_data = squareform(np.array(gene_corrs, dtype=np.float64))\n",
    "# np.fill_diagonal(gene_corrs_data, 1.0)\n",
    "\n",
    "gene_chr_ids = [g.ensembl_id for g in gene_chr_objs]\n",
    "gene_corrs_df = pd.DataFrame(\n",
    "    data=gene_corrs_data,\n",
    "    index=gene_chr_ids,\n",
    "    columns=gene_chr_ids,\n",
    ")\n",
    "\n",
    "output_dir.mkdir(exist_ok=True, parents=True)\n",
    "display(output_file)\n",
    "\n",
    "gene_corrs_df.to_pickle(output_file)"
   ]
  },
  {
   "cell_type": "markdown",
   "id": "faa67b51-5373-470f-aa72-2ded53fa6dfe",
   "metadata": {
    "papermill": {
     "duration": 1.288046,
     "end_time": "2022-08-30T17:24:15.985035",
     "exception": false,
     "start_time": "2022-08-30T17:24:14.696989",
     "status": "completed"
    },
    "tags": []
   },
   "source": [
    "# Testing"
   ]
  },
  {
   "cell_type": "code",
   "execution_count": 30,
   "id": "14f7d046-4b55-4896-a56b-990127bcc388",
   "metadata": {
    "execution": {
     "iopub.execute_input": "2022-08-30T17:24:18.612357Z",
     "iopub.status.busy": "2022-08-30T17:24:18.612097Z",
     "iopub.status.idle": "2022-08-30T17:24:18.850450Z",
     "shell.execute_reply": "2022-08-30T17:24:18.849942Z"
    },
    "papermill": {
     "duration": 1.53078,
     "end_time": "2022-08-30T17:24:18.852129",
     "exception": false,
     "start_time": "2022-08-30T17:24:17.321349",
     "status": "completed"
    },
    "tags": []
   },
   "outputs": [
    {
     "data": {
      "text/plain": [
       "(209, 209)"
      ]
     },
     "execution_count": 30,
     "metadata": {},
     "output_type": "execute_result"
    }
   ],
   "source": [
    "gene_corrs_df.shape"
   ]
  },
  {
   "cell_type": "code",
   "execution_count": 31,
   "id": "c7d15414-3297-4537-a7c6-7588c0baeb75",
   "metadata": {
    "execution": {
     "iopub.execute_input": "2022-08-30T17:24:21.470859Z",
     "iopub.status.busy": "2022-08-30T17:24:21.470584Z",
     "iopub.status.idle": "2022-08-30T17:24:21.511733Z",
     "shell.execute_reply": "2022-08-30T17:24:21.511067Z"
    },
    "papermill": {
     "duration": 1.331234,
     "end_time": "2022-08-30T17:24:21.513207",
     "exception": false,
     "start_time": "2022-08-30T17:24:20.181973",
     "status": "completed"
    },
    "tags": []
   },
   "outputs": [
    {
     "data": {
      "text/html": [
       "<div>\n",
       "<style scoped>\n",
       "    .dataframe tbody tr th:only-of-type {\n",
       "        vertical-align: middle;\n",
       "    }\n",
       "\n",
       "    .dataframe tbody tr th {\n",
       "        vertical-align: top;\n",
       "    }\n",
       "\n",
       "    .dataframe thead th {\n",
       "        text-align: right;\n",
       "    }\n",
       "</style>\n",
       "<table border=\"1\" class=\"dataframe\">\n",
       "  <thead>\n",
       "    <tr style=\"text-align: right;\">\n",
       "      <th></th>\n",
       "      <th>ENSG00000136319</th>\n",
       "      <th>ENSG00000129484</th>\n",
       "      <th>ENSG00000129566</th>\n",
       "      <th>ENSG00000100823</th>\n",
       "      <th>ENSG00000198805</th>\n",
       "      <th>ENSG00000214274</th>\n",
       "      <th>ENSG00000258818</th>\n",
       "      <th>ENSG00000169413</th>\n",
       "      <th>ENSG00000169397</th>\n",
       "      <th>ENSG00000169385</th>\n",
       "      <th>...</th>\n",
       "      <th>ENSG00000126215</th>\n",
       "      <th>ENSG00000088808</th>\n",
       "      <th>ENSG00000066735</th>\n",
       "      <th>ENSG00000185100</th>\n",
       "      <th>ENSG00000142208</th>\n",
       "      <th>ENSG00000166428</th>\n",
       "      <th>ENSG00000183484</th>\n",
       "      <th>ENSG00000184916</th>\n",
       "      <th>ENSG00000185024</th>\n",
       "      <th>ENSG00000182979</th>\n",
       "    </tr>\n",
       "  </thead>\n",
       "  <tbody>\n",
       "    <tr>\n",
       "      <th>ENSG00000136319</th>\n",
       "      <td>1.000000</td>\n",
       "      <td>0.408377</td>\n",
       "      <td>0.016761</td>\n",
       "      <td>0.011939</td>\n",
       "      <td>0.010830</td>\n",
       "      <td>0.007584</td>\n",
       "      <td>0.005983</td>\n",
       "      <td>0.009894</td>\n",
       "      <td>0.005839</td>\n",
       "      <td>0.007804</td>\n",
       "      <td>...</td>\n",
       "      <td>0.004266</td>\n",
       "      <td>0.005180</td>\n",
       "      <td>0.007589</td>\n",
       "      <td>0.003272</td>\n",
       "      <td>0.004592</td>\n",
       "      <td>0.003982</td>\n",
       "      <td>0.002128</td>\n",
       "      <td>0.008078</td>\n",
       "      <td>0.004296</td>\n",
       "      <td>0.002818</td>\n",
       "    </tr>\n",
       "    <tr>\n",
       "      <th>ENSG00000129484</th>\n",
       "      <td>0.408377</td>\n",
       "      <td>1.000000</td>\n",
       "      <td>0.009006</td>\n",
       "      <td>0.005022</td>\n",
       "      <td>0.008506</td>\n",
       "      <td>0.004598</td>\n",
       "      <td>0.003830</td>\n",
       "      <td>0.005981</td>\n",
       "      <td>0.003778</td>\n",
       "      <td>0.001958</td>\n",
       "      <td>...</td>\n",
       "      <td>0.005737</td>\n",
       "      <td>0.006233</td>\n",
       "      <td>0.006612</td>\n",
       "      <td>0.004318</td>\n",
       "      <td>0.008486</td>\n",
       "      <td>0.004286</td>\n",
       "      <td>0.002501</td>\n",
       "      <td>0.009363</td>\n",
       "      <td>0.004564</td>\n",
       "      <td>0.003327</td>\n",
       "    </tr>\n",
       "    <tr>\n",
       "      <th>ENSG00000129566</th>\n",
       "      <td>0.016761</td>\n",
       "      <td>0.009006</td>\n",
       "      <td>1.000000</td>\n",
       "      <td>0.038817</td>\n",
       "      <td>0.010472</td>\n",
       "      <td>0.008212</td>\n",
       "      <td>0.009654</td>\n",
       "      <td>0.005394</td>\n",
       "      <td>0.005310</td>\n",
       "      <td>0.003982</td>\n",
       "      <td>...</td>\n",
       "      <td>0.003041</td>\n",
       "      <td>0.003204</td>\n",
       "      <td>0.008305</td>\n",
       "      <td>0.005700</td>\n",
       "      <td>0.007254</td>\n",
       "      <td>0.004444</td>\n",
       "      <td>0.003860</td>\n",
       "      <td>0.005874</td>\n",
       "      <td>0.006159</td>\n",
       "      <td>0.002683</td>\n",
       "    </tr>\n",
       "    <tr>\n",
       "      <th>ENSG00000100823</th>\n",
       "      <td>0.011939</td>\n",
       "      <td>0.005022</td>\n",
       "      <td>0.038817</td>\n",
       "      <td>1.000000</td>\n",
       "      <td>0.292907</td>\n",
       "      <td>0.004649</td>\n",
       "      <td>0.004009</td>\n",
       "      <td>0.009684</td>\n",
       "      <td>0.010182</td>\n",
       "      <td>0.009390</td>\n",
       "      <td>...</td>\n",
       "      <td>0.004454</td>\n",
       "      <td>0.005920</td>\n",
       "      <td>0.006960</td>\n",
       "      <td>0.004608</td>\n",
       "      <td>0.008380</td>\n",
       "      <td>0.007682</td>\n",
       "      <td>0.010452</td>\n",
       "      <td>0.009029</td>\n",
       "      <td>0.007515</td>\n",
       "      <td>0.005463</td>\n",
       "    </tr>\n",
       "    <tr>\n",
       "      <th>ENSG00000198805</th>\n",
       "      <td>0.010830</td>\n",
       "      <td>0.008506</td>\n",
       "      <td>0.010472</td>\n",
       "      <td>0.292907</td>\n",
       "      <td>1.000000</td>\n",
       "      <td>0.003908</td>\n",
       "      <td>0.003859</td>\n",
       "      <td>0.010229</td>\n",
       "      <td>0.005374</td>\n",
       "      <td>0.009092</td>\n",
       "      <td>...</td>\n",
       "      <td>0.005652</td>\n",
       "      <td>0.004315</td>\n",
       "      <td>0.008890</td>\n",
       "      <td>0.003471</td>\n",
       "      <td>0.006663</td>\n",
       "      <td>0.005304</td>\n",
       "      <td>0.004839</td>\n",
       "      <td>0.008469</td>\n",
       "      <td>0.012078</td>\n",
       "      <td>0.002410</td>\n",
       "    </tr>\n",
       "  </tbody>\n",
       "</table>\n",
       "<p>5 rows × 209 columns</p>\n",
       "</div>"
      ],
      "text/plain": [
       "                 ENSG00000136319  ENSG00000129484  ENSG00000129566  \\\n",
       "ENSG00000136319         1.000000         0.408377         0.016761   \n",
       "ENSG00000129484         0.408377         1.000000         0.009006   \n",
       "ENSG00000129566         0.016761         0.009006         1.000000   \n",
       "ENSG00000100823         0.011939         0.005022         0.038817   \n",
       "ENSG00000198805         0.010830         0.008506         0.010472   \n",
       "\n",
       "                 ENSG00000100823  ENSG00000198805  ENSG00000214274  \\\n",
       "ENSG00000136319         0.011939         0.010830         0.007584   \n",
       "ENSG00000129484         0.005022         0.008506         0.004598   \n",
       "ENSG00000129566         0.038817         0.010472         0.008212   \n",
       "ENSG00000100823         1.000000         0.292907         0.004649   \n",
       "ENSG00000198805         0.292907         1.000000         0.003908   \n",
       "\n",
       "                 ENSG00000258818  ENSG00000169413  ENSG00000169397  \\\n",
       "ENSG00000136319         0.005983         0.009894         0.005839   \n",
       "ENSG00000129484         0.003830         0.005981         0.003778   \n",
       "ENSG00000129566         0.009654         0.005394         0.005310   \n",
       "ENSG00000100823         0.004009         0.009684         0.010182   \n",
       "ENSG00000198805         0.003859         0.010229         0.005374   \n",
       "\n",
       "                 ENSG00000169385  ...  ENSG00000126215  ENSG00000088808  \\\n",
       "ENSG00000136319         0.007804  ...         0.004266         0.005180   \n",
       "ENSG00000129484         0.001958  ...         0.005737         0.006233   \n",
       "ENSG00000129566         0.003982  ...         0.003041         0.003204   \n",
       "ENSG00000100823         0.009390  ...         0.004454         0.005920   \n",
       "ENSG00000198805         0.009092  ...         0.005652         0.004315   \n",
       "\n",
       "                 ENSG00000066735  ENSG00000185100  ENSG00000142208  \\\n",
       "ENSG00000136319         0.007589         0.003272         0.004592   \n",
       "ENSG00000129484         0.006612         0.004318         0.008486   \n",
       "ENSG00000129566         0.008305         0.005700         0.007254   \n",
       "ENSG00000100823         0.006960         0.004608         0.008380   \n",
       "ENSG00000198805         0.008890         0.003471         0.006663   \n",
       "\n",
       "                 ENSG00000166428  ENSG00000183484  ENSG00000184916  \\\n",
       "ENSG00000136319         0.003982         0.002128         0.008078   \n",
       "ENSG00000129484         0.004286         0.002501         0.009363   \n",
       "ENSG00000129566         0.004444         0.003860         0.005874   \n",
       "ENSG00000100823         0.007682         0.010452         0.009029   \n",
       "ENSG00000198805         0.005304         0.004839         0.008469   \n",
       "\n",
       "                 ENSG00000185024  ENSG00000182979  \n",
       "ENSG00000136319         0.004296         0.002818  \n",
       "ENSG00000129484         0.004564         0.003327  \n",
       "ENSG00000129566         0.006159         0.002683  \n",
       "ENSG00000100823         0.007515         0.005463  \n",
       "ENSG00000198805         0.012078         0.002410  \n",
       "\n",
       "[5 rows x 209 columns]"
      ]
     },
     "execution_count": 31,
     "metadata": {},
     "output_type": "execute_result"
    }
   ],
   "source": [
    "gene_corrs_df.head()"
   ]
  },
  {
   "cell_type": "markdown",
   "id": "dad6603f-01c6-41fb-a6f6-241051207dd8",
   "metadata": {
    "papermill": {
     "duration": 1.343266,
     "end_time": "2022-08-30T17:24:24.132678",
     "exception": false,
     "start_time": "2022-08-30T17:24:22.789412",
     "status": "completed"
    },
    "tags": []
   },
   "source": [
    "## Standard checks and stats"
   ]
  },
  {
   "cell_type": "code",
   "execution_count": 32,
   "id": "286686af-1b7b-4440-8453-6bdcbd8de19c",
   "metadata": {
    "execution": {
     "iopub.execute_input": "2022-08-30T17:24:26.744919Z",
     "iopub.status.busy": "2022-08-30T17:24:26.744643Z",
     "iopub.status.idle": "2022-08-30T17:24:26.765780Z",
     "shell.execute_reply": "2022-08-30T17:24:26.765275Z"
    },
    "papermill": {
     "duration": 1.342373,
     "end_time": "2022-08-30T17:24:26.767347",
     "exception": false,
     "start_time": "2022-08-30T17:24:25.424974",
     "status": "completed"
    },
    "tags": []
   },
   "outputs": [],
   "source": [
    "assert not gene_corrs_df.isna().any().any()"
   ]
  },
  {
   "cell_type": "code",
   "execution_count": 33,
   "id": "00583efc-7068-4270-ad1e-4a418e91db96",
   "metadata": {
    "execution": {
     "iopub.execute_input": "2022-08-30T17:24:29.332448Z",
     "iopub.status.busy": "2022-08-30T17:24:29.332193Z",
     "iopub.status.idle": "2022-08-30T17:24:29.354501Z",
     "shell.execute_reply": "2022-08-30T17:24:29.353835Z"
    },
    "papermill": {
     "duration": 1.303395,
     "end_time": "2022-08-30T17:24:29.356103",
     "exception": false,
     "start_time": "2022-08-30T17:24:28.052708",
     "status": "completed"
    },
    "tags": []
   },
   "outputs": [
    {
     "data": {
      "text/plain": [
       "3.8000847030716356e-07"
      ]
     },
     "metadata": {},
     "output_type": "display_data"
    }
   ],
   "source": [
    "_min_val = gene_corrs_df.min().min()\n",
    "display(_min_val)\n",
    "assert _min_val >= -0.05"
   ]
  },
  {
   "cell_type": "code",
   "execution_count": 34,
   "id": "d04fb2cf-1050-475b-b855-f5f7cc04092b",
   "metadata": {
    "execution": {
     "iopub.execute_input": "2022-08-30T17:24:31.950119Z",
     "iopub.status.busy": "2022-08-30T17:24:31.949866Z",
     "iopub.status.idle": "2022-08-30T17:24:31.977649Z",
     "shell.execute_reply": "2022-08-30T17:24:31.977148Z"
    },
    "papermill": {
     "duration": 1.30442,
     "end_time": "2022-08-30T17:24:31.979120",
     "exception": false,
     "start_time": "2022-08-30T17:24:30.674700",
     "status": "completed"
    },
    "tags": []
   },
   "outputs": [
    {
     "data": {
      "text/plain": [
       "1.0000000000000022"
      ]
     },
     "metadata": {},
     "output_type": "display_data"
    }
   ],
   "source": [
    "_max_val = gene_corrs_df.max().max()  # this captures the diagonal\n",
    "display(_max_val)\n",
    "assert _max_val <= 1.05"
   ]
  },
  {
   "cell_type": "code",
   "execution_count": 35,
   "id": "96d02c44-1fba-47be-8a93-8f2608420b9c",
   "metadata": {
    "execution": {
     "iopub.execute_input": "2022-08-30T17:24:34.591639Z",
     "iopub.status.busy": "2022-08-30T17:24:34.591360Z",
     "iopub.status.idle": "2022-08-30T17:24:34.613993Z",
     "shell.execute_reply": "2022-08-30T17:24:34.613354Z"
    },
    "papermill": {
     "duration": 1.31523,
     "end_time": "2022-08-30T17:24:34.615572",
     "exception": false,
     "start_time": "2022-08-30T17:24:33.300342",
     "status": "completed"
    },
    "tags": []
   },
   "outputs": [],
   "source": [
    "# check upper triangular values\n",
    "# assert len(gene_corrs) == int(genes_chr.shape[0] * (genes_chr.shape[0] - 1) / 2)"
   ]
  },
  {
   "cell_type": "code",
   "execution_count": 36,
   "id": "fe283586-c348-40e0-8841-f6d97bfb021c",
   "metadata": {
    "execution": {
     "iopub.execute_input": "2022-08-30T17:24:37.238507Z",
     "iopub.status.busy": "2022-08-30T17:24:37.238253Z",
     "iopub.status.idle": "2022-08-30T17:24:37.262799Z",
     "shell.execute_reply": "2022-08-30T17:24:37.262256Z"
    },
    "papermill": {
     "duration": 1.323508,
     "end_time": "2022-08-30T17:24:37.264262",
     "exception": false,
     "start_time": "2022-08-30T17:24:35.940754",
     "status": "completed"
    },
    "tags": []
   },
   "outputs": [
    {
     "data": {
      "text/plain": [
       "count    2.194500e+04\n",
       "mean     1.885265e-02\n",
       "std      1.020137e-01\n",
       "min      3.800085e-07\n",
       "25%      4.235660e-03\n",
       "50%      6.243300e-03\n",
       "75%      8.528929e-03\n",
       "max      1.000000e+00\n",
       "dtype: float64"
      ]
     },
     "execution_count": 36,
     "metadata": {},
     "output_type": "execute_result"
    }
   ],
   "source": [
    "gene_corrs_flat.describe()"
   ]
  },
  {
   "cell_type": "code",
   "execution_count": 37,
   "id": "b3815678-0f93-4b35-897b-a9d047a2aa78",
   "metadata": {
    "execution": {
     "iopub.execute_input": "2022-08-30T17:24:39.827278Z",
     "iopub.status.busy": "2022-08-30T17:24:39.827025Z",
     "iopub.status.idle": "2022-08-30T17:24:39.851686Z",
     "shell.execute_reply": "2022-08-30T17:24:39.851163Z"
    },
    "papermill": {
     "duration": 1.305803,
     "end_time": "2022-08-30T17:24:39.853213",
     "exception": false,
     "start_time": "2022-08-30T17:24:38.547410",
     "status": "completed"
    },
    "tags": []
   },
   "outputs": [
    {
     "data": {
      "text/plain": [
       "0.00    3.800085e-07\n",
       "0.05    1.939170e-03\n",
       "0.10    2.692723e-03\n",
       "0.15    3.292257e-03\n",
       "0.20    3.795454e-03\n",
       "0.25    4.235660e-03\n",
       "0.30    4.685228e-03\n",
       "0.35    5.080732e-03\n",
       "0.40    5.454513e-03\n",
       "0.45    5.848511e-03\n",
       "0.50    6.243300e-03\n",
       "0.55    6.640439e-03\n",
       "0.60    7.066051e-03\n",
       "0.65    7.526599e-03\n",
       "0.70    7.999318e-03\n",
       "0.75    8.528929e-03\n",
       "0.80    9.181014e-03\n",
       "0.85    1.002219e-02\n",
       "0.90    1.118204e-02\n",
       "0.95    1.345342e-02\n",
       "dtype: float64"
      ]
     },
     "metadata": {},
     "output_type": "display_data"
    }
   ],
   "source": [
    "gene_corrs_quantiles = gene_corrs_flat.quantile(np.arange(0, 1, 0.05))\n",
    "display(gene_corrs_quantiles)"
   ]
  },
  {
   "cell_type": "markdown",
   "id": "87134509-b145-4a10-8bc9-b7e914c2b0fa",
   "metadata": {
    "papermill": {
     "duration": 1.326054,
     "end_time": "2022-08-30T17:24:42.453858",
     "exception": false,
     "start_time": "2022-08-30T17:24:41.127804",
     "status": "completed"
    },
    "tags": []
   },
   "source": [
    "## Positive definiteness"
   ]
  },
  {
   "cell_type": "code",
   "execution_count": 38,
   "id": "07d9a9a1-a4f7-48aa-b916-6d42a8cc6186",
   "metadata": {
    "execution": {
     "iopub.execute_input": "2022-08-30T17:24:45.049233Z",
     "iopub.status.busy": "2022-08-30T17:24:45.048979Z",
     "iopub.status.idle": "2022-08-30T17:24:45.190156Z",
     "shell.execute_reply": "2022-08-30T17:24:45.189660Z"
    },
    "papermill": {
     "duration": 1.464069,
     "end_time": "2022-08-30T17:24:45.191634",
     "exception": false,
     "start_time": "2022-08-30T17:24:43.727565",
     "status": "completed"
    },
    "tags": []
   },
   "outputs": [
    {
     "data": {
      "text/plain": [
       "0"
      ]
     },
     "metadata": {},
     "output_type": "display_data"
    },
    {
     "data": {
      "text/plain": [
       "array([], dtype=float64)"
      ]
     },
     "metadata": {},
     "output_type": "display_data"
    }
   ],
   "source": [
    "# print negative eigenvalues\n",
    "eigs = np.linalg.eigvals(gene_corrs_df.to_numpy())\n",
    "display(len(eigs[eigs < 0]))\n",
    "display(eigs[eigs < 0])"
   ]
  },
  {
   "cell_type": "code",
   "execution_count": 39,
   "id": "6e218436-c3c5-4028-8c94-a4fa6260efce",
   "metadata": {
    "execution": {
     "iopub.execute_input": "2022-08-30T17:24:47.785926Z",
     "iopub.status.busy": "2022-08-30T17:24:47.785653Z",
     "iopub.status.idle": "2022-08-30T17:24:47.809461Z",
     "shell.execute_reply": "2022-08-30T17:24:47.808855Z"
    },
    "papermill": {
     "duration": 1.338104,
     "end_time": "2022-08-30T17:24:47.810959",
     "exception": false,
     "start_time": "2022-08-30T17:24:46.472855",
     "status": "completed"
    },
    "tags": []
   },
   "outputs": [
    {
     "name": "stdout",
     "output_type": "stream",
     "text": [
      "Works!\n"
     ]
    }
   ],
   "source": [
    "try:\n",
    "    chol_mat = np.linalg.cholesky(gene_corrs_df.to_numpy())\n",
    "    cov_inv = np.linalg.inv(chol_mat)\n",
    "    print(\"Works!\")\n",
    "except Exception as e:\n",
    "    print(f\"Cholesky decomposition failed: {str(e)}\")"
   ]
  },
  {
   "cell_type": "code",
   "execution_count": 40,
   "id": "dd8827fb-faf9-4c7c-9454-015e94752706",
   "metadata": {
    "execution": {
     "iopub.execute_input": "2022-08-30T17:24:50.438304Z",
     "iopub.status.busy": "2022-08-30T17:24:50.438050Z",
     "iopub.status.idle": "2022-08-30T17:24:50.465072Z",
     "shell.execute_reply": "2022-08-30T17:24:50.464527Z"
    },
    "papermill": {
     "duration": 1.327923,
     "end_time": "2022-08-30T17:24:50.466615",
     "exception": false,
     "start_time": "2022-08-30T17:24:49.138692",
     "status": "completed"
    },
    "tags": []
   },
   "outputs": [
    {
     "name": "stdout",
     "output_type": "stream",
     "text": [
      "Works!\n"
     ]
    }
   ],
   "source": [
    "try:\n",
    "    # decomposition used by statsmodels.GLS\n",
    "    cholsigmainv = np.linalg.cholesky(np.linalg.inv(gene_corrs_df.to_numpy())).T\n",
    "    print(\"Works!\")\n",
    "except Exception as e:\n",
    "    print(f\"Cholesky decomposition failed (statsmodels.GLS): {str(e)}\")"
   ]
  },
  {
   "cell_type": "markdown",
   "id": "8e60a080-edb2-4e9c-b2ef-22961693200c",
   "metadata": {
    "papermill": {
     "duration": 1.289896,
     "end_time": "2022-08-30T17:24:53.082879",
     "exception": false,
     "start_time": "2022-08-30T17:24:51.792983",
     "status": "completed"
    },
    "tags": []
   },
   "source": [
    "## Plot: distribution"
   ]
  },
  {
   "cell_type": "code",
   "execution_count": 41,
   "id": "8301126b-a7d4-4744-9c7d-f0f86eb6f54c",
   "metadata": {
    "execution": {
     "iopub.execute_input": "2022-08-30T17:24:55.732771Z",
     "iopub.status.busy": "2022-08-30T17:24:55.732488Z",
     "iopub.status.idle": "2022-08-30T17:25:03.793492Z",
     "shell.execute_reply": "2022-08-30T17:25:03.792870Z"
    },
    "papermill": {
     "duration": 9.337791,
     "end_time": "2022-08-30T17:25:03.795148",
     "exception": false,
     "start_time": "2022-08-30T17:24:54.457357",
     "status": "completed"
    },
    "tags": []
   },
   "outputs": [
    {
     "data": {
      "image/png": "[encoded data removed]",
      "text/plain": [
       "<Figure size 504x504 with 1 Axes>"
      ]
     },
     "metadata": {
      "needs_background": "light"
     },
     "output_type": "display_data"
    }
   ],
   "source": [
    "with sns.plotting_context(\"paper\", font_scale=1.5):\n",
    "    g = sns.displot(gene_corrs_flat, kde=True, height=7)\n",
    "    g.ax.set_title(\n",
    "        f\"Distribution of gene correlation values in chromosome {CHROMOSOME}\"\n",
    "    )"
   ]
  },
  {
   "cell_type": "markdown",
   "id": "cbd52bca-d878-4a2f-b684-5c83aa3038d4",
   "metadata": {
    "papermill": {
     "duration": 1.285049,
     "end_time": "2022-08-30T17:25:06.363045",
     "exception": false,
     "start_time": "2022-08-30T17:25:05.077996",
     "status": "completed"
    },
    "tags": []
   },
   "source": [
    "## Plot: heatmap"
   ]
  },
  {
   "cell_type": "code",
   "execution_count": 42,
   "id": "d03fe63a-c7b2-4fb9-a53c-db362ce843c9",
   "metadata": {
    "execution": {
     "iopub.execute_input": "2022-08-30T17:25:08.985713Z",
     "iopub.status.busy": "2022-08-30T17:25:08.985422Z",
     "iopub.status.idle": "2022-08-30T17:25:09.093158Z",
     "shell.execute_reply": "2022-08-30T17:25:09.092662Z"
    },
    "papermill": {
     "duration": 1.433548,
     "end_time": "2022-08-30T17:25:09.094648",
     "exception": false,
     "start_time": "2022-08-30T17:25:07.661100",
     "status": "completed"
    },
    "tags": []
   },
   "outputs": [
    {
     "data": {
      "text/plain": [
       "'0.0 / 0.05'"
      ]
     },
     "metadata": {},
     "output_type": "display_data"
    }
   ],
   "source": [
    "vmin_val = min(0.00, gene_corrs_quantiles[0.10])\n",
    "vmax_val = max(0.05, gene_corrs_quantiles[0.90])\n",
    "display(f\"{vmin_val} / {vmax_val}\")"
   ]
  },
  {
   "cell_type": "code",
   "execution_count": 43,
   "id": "dc41b70b-5bcc-4d9e-9f33-a22c4a94dab5",
   "metadata": {
    "execution": {
     "iopub.execute_input": "2022-08-30T17:25:11.704226Z",
     "iopub.status.busy": "2022-08-30T17:25:11.703971Z",
     "iopub.status.idle": "2022-08-30T17:25:11.903372Z",
     "shell.execute_reply": "2022-08-30T17:25:11.902875Z"
    },
    "papermill": {
     "duration": 1.52467,
     "end_time": "2022-08-30T17:25:11.904969",
     "exception": false,
     "start_time": "2022-08-30T17:25:10.380299",
     "status": "completed"
    },
    "tags": []
   },
   "outputs": [
    {
     "data": {
      "text/plain": [
       "Text(0.5, 1.0, 'Gene correlations in chromosome 14')"
      ]
     },
     "execution_count": 43,
     "metadata": {},
     "output_type": "execute_result"
    },
    {
     "data": {
      "image/png": "[encoded data removed]",
      "text/plain": [
       "<Figure size 720x720 with 2 Axes>"
      ]
     },
     "metadata": {
      "needs_background": "light"
     },
     "output_type": "display_data"
    }
   ],
   "source": [
    "f, ax = plt.subplots(figsize=(10, 10))\n",
    "sns.heatmap(\n",
    "    gene_corrs_df,\n",
    "    xticklabels=False,\n",
    "    yticklabels=False,\n",
    "    square=True,\n",
    "    vmin=vmin_val,\n",
    "    vmax=vmax_val,\n",
    "    cmap=\"rocket_r\",\n",
    "    ax=ax,\n",
    ")\n",
    "ax.set_title(f\"Gene correlations in chromosome {CHROMOSOME}\")"
   ]
  },
  {
   "cell_type": "code",
   "execution_count": null,
   "id": "b25e3ead",
   "metadata": {
    "papermill": {
     "duration": 1.284936,
     "end_time": "2022-08-30T17:25:14.465509",
     "exception": false,
     "start_time": "2022-08-30T17:25:13.180573",
     "status": "completed"
    },
    "tags": []
   },
   "outputs": [],
   "source": []
  }
 ],
 "metadata": {
  "jupytext": {
   "cell_metadata_filter": "all,-execution,-papermill,-trusted",
   "formats": "ipynb,py//py:percent"
  },
  "kernelspec": {
   "display_name": "Python 3 (ipykernel)",
   "language": "python",
   "name": "python3"
  },
  "language_info": {
   "codemirror_mode": {
    "name": "ipython",
    "version": 3
   },
   "file_extension": ".py",
   "mimetype": "text/x-python",
   "name": "python",
   "nbconvert_exporter": "python",
   "pygments_lexer": "ipython3",
   "version": "3.8.13"
  },
  "papermill": {
   "default_parameters": {},
   "duration": 2026.346394,
   "end_time": "2022-08-30T17:25:19.040106",
   "environment_variables": {},
   "exception": null,
   "input_path": "nbs/15_gsa_gls/10-gene_expr_correlations.ipynb",
   "output_path": "nbs/15_gsa_gls/gene_corrs/cohorts/emerge/gtex_v8/mashr/10-gene_expr_corrs/10-gene_expr_correlations-chr14.run.ipynb",
   "parameters": {
    "CHROMOSOME": 14,
    "COHORT_NAME": "emerge",
    "EQTL_MODEL": "MASHR",
    "REFERENCE_PANEL": "GTEX_V8"
   },
   "start_time": "2022-08-30T16:51:32.693712",
   "version": "2.2.2"
  }
 },
 "nbformat": 4,
 "nbformat_minor": 5
}
