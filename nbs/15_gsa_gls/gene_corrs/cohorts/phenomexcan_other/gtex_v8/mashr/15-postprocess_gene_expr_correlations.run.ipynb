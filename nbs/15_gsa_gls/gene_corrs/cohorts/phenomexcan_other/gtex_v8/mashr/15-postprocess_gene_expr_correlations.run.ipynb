{
 "cells": [
  {
   "cell_type": "markdown",
   "id": "5ef66977",
   "metadata": {
    "papermill": {
     "duration": 0.012215,
     "end_time": "2022-08-29T14:29:03.771217",
     "exception": false,
     "start_time": "2022-08-29T14:29:03.759002",
     "status": "completed"
    },
    "tags": []
   },
   "source": [
    "# Description"
   ]
  },
  {
   "cell_type": "markdown",
   "id": "658d4f7c",
   "metadata": {
    "papermill": {
     "duration": 0.010198,
     "end_time": "2022-08-29T14:29:03.791806",
     "exception": false,
     "start_time": "2022-08-29T14:29:03.781608",
     "status": "completed"
    },
    "tags": []
   },
   "source": [
    "(Please, take a look at the README.md file in this directory for instructions on how to run this notebook)\n",
    "\n",
    "This notebook reads all gene correlations across all chromosomes and computes a single correlation matrix by assembling a big correlation matrix with all genes."
   ]
  },
  {
   "cell_type": "markdown",
   "id": "60fa4530",
   "metadata": {
    "papermill": {
     "duration": 0.0102,
     "end_time": "2022-08-29T14:29:03.812099",
     "exception": false,
     "start_time": "2022-08-29T14:29:03.801899",
     "status": "completed"
    },
    "tags": []
   },
   "source": [
    "# Modules"
   ]
  },
  {
   "cell_type": "code",
   "execution_count": 1,
   "id": "d70b0833",
   "metadata": {
    "execution": {
     "iopub.execute_input": "2022-08-29T14:29:03.864661Z",
     "iopub.status.busy": "2022-08-29T14:29:03.864377Z",
     "iopub.status.idle": "2022-08-29T14:29:03.882665Z",
     "shell.execute_reply": "2022-08-29T14:29:03.881879Z"
    },
    "papermill": {
     "duration": 0.060103,
     "end_time": "2022-08-29T14:29:03.884306",
     "exception": false,
     "start_time": "2022-08-29T14:29:03.824203",
     "status": "completed"
    },
    "tags": []
   },
   "outputs": [],
   "source": [
    "%load_ext autoreload\n",
    "%autoreload 2"
   ]
  },
  {
   "cell_type": "code",
   "execution_count": 2,
   "id": "6b2f9ca0",
   "metadata": {
    "execution": {
     "iopub.execute_input": "2022-08-29T14:29:03.907967Z",
     "iopub.status.busy": "2022-08-29T14:29:03.907774Z",
     "iopub.status.idle": "2022-08-29T14:29:06.014380Z",
     "shell.execute_reply": "2022-08-29T14:29:06.013562Z"
    },
    "papermill": {
     "duration": 2.119861,
     "end_time": "2022-08-29T14:29:06.016270",
     "exception": false,
     "start_time": "2022-08-29T14:29:03.896409",
     "status": "completed"
    },
    "tags": []
   },
   "outputs": [],
   "source": [
    "import pickle\n",
    "\n",
    "import numpy as np\n",
    "from scipy.spatial.distance import squareform\n",
    "import pandas as pd\n",
    "import matplotlib.pyplot as plt\n",
    "import seaborn as sns\n",
    "\n",
    "import conf\n",
    "from entity import Gene\n",
    "from correlations import check_pos_def, compare_matrices, correct_corr_mat, adjust_non_pos_def"
   ]
  },
  {
   "cell_type": "markdown",
   "id": "5b96e797",
   "metadata": {
    "papermill": {
     "duration": 0.010423,
     "end_time": "2022-08-29T14:29:06.038330",
     "exception": false,
     "start_time": "2022-08-29T14:29:06.027907",
     "status": "completed"
    },
    "tags": []
   },
   "source": [
    "# Settings"
   ]
  },
  {
   "cell_type": "code",
   "execution_count": 3,
   "id": "4fc1b6a0",
   "metadata": {
    "execution": {
     "iopub.execute_input": "2022-08-29T14:29:06.060716Z",
     "iopub.status.busy": "2022-08-29T14:29:06.060511Z",
     "iopub.status.idle": "2022-08-29T14:29:06.077829Z",
     "shell.execute_reply": "2022-08-29T14:29:06.077143Z"
    },
    "papermill": {
     "duration": 0.030437,
     "end_time": "2022-08-29T14:29:06.079362",
     "exception": false,
     "start_time": "2022-08-29T14:29:06.048925",
     "status": "completed"
    },
    "tags": [
     "parameters"
    ]
   },
   "outputs": [],
   "source": [
    "# a cohort name (it could be something like UK_BIOBANK, etc)\n",
    "COHORT_NAME = None\n",
    "\n",
    "# reference panel such as 1000G or GTEX_V8\n",
    "REFERENCE_PANEL = None\n",
    "\n",
    "# predictions models such as MASHR or ELASTIC_NET\n",
    "EQTL_MODEL = None"
   ]
  },
  {
   "cell_type": "code",
   "execution_count": 4,
   "id": "12968ed3",
   "metadata": {
    "execution": {
     "iopub.execute_input": "2022-08-29T14:29:06.102258Z",
     "iopub.status.busy": "2022-08-29T14:29:06.102065Z",
     "iopub.status.idle": "2022-08-29T14:29:06.117902Z",
     "shell.execute_reply": "2022-08-29T14:29:06.117171Z"
    },
    "papermill": {
     "duration": 0.029286,
     "end_time": "2022-08-29T14:29:06.119418",
     "exception": false,
     "start_time": "2022-08-29T14:29:06.090132",
     "status": "completed"
    },
    "tags": [
     "injected-parameters"
    ]
   },
   "outputs": [],
   "source": [
    "# Parameters\n",
    "COHORT_NAME = \"phenomexcan_other\"\n",
    "REFERENCE_PANEL = \"GTEX_V8\"\n",
    "EQTL_MODEL = \"MASHR\"\n"
   ]
  },
  {
   "cell_type": "code",
   "execution_count": 5,
   "id": "6dba5c90-40a4-4a62-899e-1711ab4e40bb",
   "metadata": {
    "execution": {
     "iopub.execute_input": "2022-08-29T14:29:06.142947Z",
     "iopub.status.busy": "2022-08-29T14:29:06.142754Z",
     "iopub.status.idle": "2022-08-29T14:29:06.161541Z",
     "shell.execute_reply": "2022-08-29T14:29:06.161026Z"
    },
    "papermill": {
     "duration": 0.032919,
     "end_time": "2022-08-29T14:29:06.162998",
     "exception": false,
     "start_time": "2022-08-29T14:29:06.130079",
     "status": "completed"
    },
    "tags": []
   },
   "outputs": [
    {
     "data": {
      "text/plain": [
       "'Cohort name: phenomexcan_other'"
      ]
     },
     "metadata": {},
     "output_type": "display_data"
    }
   ],
   "source": [
    "assert COHORT_NAME is not None and len(COHORT_NAME) > 0, \"A cohort name must be given\"\n",
    "\n",
    "COHORT_NAME = COHORT_NAME.lower()\n",
    "display(f\"Cohort name: {COHORT_NAME}\")"
   ]
  },
  {
   "cell_type": "code",
   "execution_count": 6,
   "id": "90be4359-19db-4c2d-a3ca-202674476164",
   "metadata": {
    "execution": {
     "iopub.execute_input": "2022-08-29T14:29:06.185347Z",
     "iopub.status.busy": "2022-08-29T14:29:06.185155Z",
     "iopub.status.idle": "2022-08-29T14:29:06.202369Z",
     "shell.execute_reply": "2022-08-29T14:29:06.201760Z"
    },
    "papermill": {
     "duration": 0.030372,
     "end_time": "2022-08-29T14:29:06.203931",
     "exception": false,
     "start_time": "2022-08-29T14:29:06.173559",
     "status": "completed"
    },
    "tags": []
   },
   "outputs": [
    {
     "data": {
      "text/plain": [
       "'Reference panel: GTEX_V8'"
      ]
     },
     "metadata": {},
     "output_type": "display_data"
    }
   ],
   "source": [
    "assert (\n",
    "    REFERENCE_PANEL is not None and len(REFERENCE_PANEL) > 0\n",
    "), \"A reference panel must be given\"\n",
    "\n",
    "display(f\"Reference panel: {REFERENCE_PANEL}\")"
   ]
  },
  {
   "cell_type": "code",
   "execution_count": 7,
   "id": "d959f3f4-8f7b-4313-b3b1-37606e7250bf",
   "metadata": {
    "execution": {
     "iopub.execute_input": "2022-08-29T14:29:06.226750Z",
     "iopub.status.busy": "2022-08-29T14:29:06.226549Z",
     "iopub.status.idle": "2022-08-29T14:29:06.243712Z",
     "shell.execute_reply": "2022-08-29T14:29:06.243140Z"
    },
    "papermill": {
     "duration": 0.030669,
     "end_time": "2022-08-29T14:29:06.245297",
     "exception": false,
     "start_time": "2022-08-29T14:29:06.214628",
     "status": "completed"
    },
    "tags": []
   },
   "outputs": [
    {
     "data": {
      "text/plain": [
       "'eQTL model: MASHR)'"
      ]
     },
     "metadata": {},
     "output_type": "display_data"
    }
   ],
   "source": [
    "assert (\n",
    "    EQTL_MODEL is not None and len(EQTL_MODEL) > 0\n",
    "), \"A prediction/eQTL model must be given\"\n",
    "\n",
    "display(f\"eQTL model: {EQTL_MODEL})\")"
   ]
  },
  {
   "cell_type": "code",
   "execution_count": 8,
   "id": "ac0c0705-90e4-42f8-8298-a457c7e778ff",
   "metadata": {
    "execution": {
     "iopub.execute_input": "2022-08-29T14:29:06.267841Z",
     "iopub.status.busy": "2022-08-29T14:29:06.267643Z",
     "iopub.status.idle": "2022-08-29T14:29:06.287020Z",
     "shell.execute_reply": "2022-08-29T14:29:06.286516Z"
    },
    "papermill": {
     "duration": 0.032377,
     "end_time": "2022-08-29T14:29:06.288443",
     "exception": false,
     "start_time": "2022-08-29T14:29:06.256066",
     "status": "completed"
    },
    "tags": []
   },
   "outputs": [
    {
     "data": {
      "text/plain": [
       "'Using output dir base: /project/ritchie20/projects/phenoplier/base/results/gls/gene_corrs/cohorts/phenomexcan_other/gtex_v8/mashr'"
      ]
     },
     "metadata": {},
     "output_type": "display_data"
    }
   ],
   "source": [
    "OUTPUT_DIR_BASE = (\n",
    "    conf.RESULTS[\"GLS\"]\n",
    "    / \"gene_corrs\"\n",
    "    / \"cohorts\"\n",
    "    / COHORT_NAME\n",
    "    / REFERENCE_PANEL.lower()\n",
    "    / EQTL_MODEL.lower()\n",
    ")\n",
    "OUTPUT_DIR_BASE.mkdir(parents=True, exist_ok=True)\n",
    "\n",
    "display(f\"Using output dir base: {OUTPUT_DIR_BASE}\")"
   ]
  },
  {
   "cell_type": "code",
   "execution_count": 9,
   "id": "1afd50f7",
   "metadata": {
    "execution": {
     "iopub.execute_input": "2022-08-29T14:29:06.312453Z",
     "iopub.status.busy": "2022-08-29T14:29:06.312262Z",
     "iopub.status.idle": "2022-08-29T14:29:06.329755Z",
     "shell.execute_reply": "2022-08-29T14:29:06.329254Z"
    },
    "papermill": {
     "duration": 0.031454,
     "end_time": "2022-08-29T14:29:06.331306",
     "exception": false,
     "start_time": "2022-08-29T14:29:06.299852",
     "status": "completed"
    },
    "tags": []
   },
   "outputs": [
    {
     "data": {
      "text/plain": [
       "'Gene correlations input dir: /project/ritchie20/projects/phenoplier/base/results/gls/gene_corrs/cohorts/phenomexcan_other/gtex_v8/mashr/by_chr'"
      ]
     },
     "metadata": {},
     "output_type": "display_data"
    }
   ],
   "source": [
    "INPUT_DIR = OUTPUT_DIR_BASE / \"by_chr\"\n",
    "\n",
    "display(f\"Gene correlations input dir: {INPUT_DIR}\")\n",
    "assert INPUT_DIR.exists()"
   ]
  },
  {
   "cell_type": "markdown",
   "id": "99ccb166",
   "metadata": {
    "papermill": {
     "duration": 0.011023,
     "end_time": "2022-08-29T14:29:06.353487",
     "exception": false,
     "start_time": "2022-08-29T14:29:06.342464",
     "status": "completed"
    },
    "tags": []
   },
   "source": [
    "# Load data"
   ]
  },
  {
   "cell_type": "markdown",
   "id": "028bdd42",
   "metadata": {
    "papermill": {
     "duration": 0.010632,
     "end_time": "2022-08-29T14:29:06.375488",
     "exception": false,
     "start_time": "2022-08-29T14:29:06.364856",
     "status": "completed"
    },
    "tags": []
   },
   "source": [
    "## Gene correlations"
   ]
  },
  {
   "cell_type": "code",
   "execution_count": 10,
   "id": "04624465",
   "metadata": {
    "execution": {
     "iopub.execute_input": "2022-08-29T14:29:06.399872Z",
     "iopub.status.busy": "2022-08-29T14:29:06.399671Z",
     "iopub.status.idle": "2022-08-29T14:29:06.416299Z",
     "shell.execute_reply": "2022-08-29T14:29:06.415772Z"
    },
    "papermill": {
     "duration": 0.030993,
     "end_time": "2022-08-29T14:29:06.417857",
     "exception": false,
     "start_time": "2022-08-29T14:29:06.386864",
     "status": "completed"
    },
    "tags": []
   },
   "outputs": [],
   "source": [
    "all_gene_corr_files = list(INPUT_DIR.glob(\"gene_corrs-chr*.pkl\"))"
   ]
  },
  {
   "cell_type": "code",
   "execution_count": 11,
   "id": "be5869e7-d0e4-4b8f-8c6d-a1c6a9419fe2",
   "metadata": {
    "execution": {
     "iopub.execute_input": "2022-08-29T14:29:06.441600Z",
     "iopub.status.busy": "2022-08-29T14:29:06.441408Z",
     "iopub.status.idle": "2022-08-29T14:29:06.457333Z",
     "shell.execute_reply": "2022-08-29T14:29:06.456773Z"
    },
    "papermill": {
     "duration": 0.02997,
     "end_time": "2022-08-29T14:29:06.458858",
     "exception": false,
     "start_time": "2022-08-29T14:29:06.428888",
     "status": "completed"
    },
    "tags": []
   },
   "outputs": [],
   "source": [
    "# sort by chromosome\n",
    "all_gene_corr_files = sorted(\n",
    "    all_gene_corr_files, key=lambda x: int(x.name.split(\"-chr\")[1].split(\".pkl\")[0])\n",
    ")"
   ]
  },
  {
   "cell_type": "code",
   "execution_count": 12,
   "id": "7d1168f5",
   "metadata": {
    "execution": {
     "iopub.execute_input": "2022-08-29T14:29:06.482691Z",
     "iopub.status.busy": "2022-08-29T14:29:06.482500Z",
     "iopub.status.idle": "2022-08-29T14:29:06.499639Z",
     "shell.execute_reply": "2022-08-29T14:29:06.499052Z"
    },
    "papermill": {
     "duration": 0.030708,
     "end_time": "2022-08-29T14:29:06.501066",
     "exception": false,
     "start_time": "2022-08-29T14:29:06.470358",
     "status": "completed"
    },
    "tags": []
   },
   "outputs": [
    {
     "data": {
      "text/plain": [
       "22"
      ]
     },
     "execution_count": 12,
     "metadata": {},
     "output_type": "execute_result"
    }
   ],
   "source": [
    "len(all_gene_corr_files)"
   ]
  },
  {
   "cell_type": "code",
   "execution_count": 13,
   "id": "39364170",
   "metadata": {
    "execution": {
     "iopub.execute_input": "2022-08-29T14:29:06.524596Z",
     "iopub.status.busy": "2022-08-29T14:29:06.524404Z",
     "iopub.status.idle": "2022-08-29T14:29:06.542031Z",
     "shell.execute_reply": "2022-08-29T14:29:06.541447Z"
    },
    "papermill": {
     "duration": 0.030911,
     "end_time": "2022-08-29T14:29:06.543474",
     "exception": false,
     "start_time": "2022-08-29T14:29:06.512563",
     "status": "completed"
    },
    "tags": []
   },
   "outputs": [
    {
     "data": {
      "text/plain": [
       "[PosixPath('/project/ritchie20/projects/phenoplier/base/results/gls/gene_corrs/cohorts/phenomexcan_other/gtex_v8/mashr/by_chr/gene_corrs-chr1.pkl'),\n",
       " PosixPath('/project/ritchie20/projects/phenoplier/base/results/gls/gene_corrs/cohorts/phenomexcan_other/gtex_v8/mashr/by_chr/gene_corrs-chr2.pkl'),\n",
       " PosixPath('/project/ritchie20/projects/phenoplier/base/results/gls/gene_corrs/cohorts/phenomexcan_other/gtex_v8/mashr/by_chr/gene_corrs-chr3.pkl'),\n",
       " PosixPath('/project/ritchie20/projects/phenoplier/base/results/gls/gene_corrs/cohorts/phenomexcan_other/gtex_v8/mashr/by_chr/gene_corrs-chr4.pkl'),\n",
       " PosixPath('/project/ritchie20/projects/phenoplier/base/results/gls/gene_corrs/cohorts/phenomexcan_other/gtex_v8/mashr/by_chr/gene_corrs-chr5.pkl'),\n",
       " PosixPath('/project/ritchie20/projects/phenoplier/base/results/gls/gene_corrs/cohorts/phenomexcan_other/gtex_v8/mashr/by_chr/gene_corrs-chr6.pkl'),\n",
       " PosixPath('/project/ritchie20/projects/phenoplier/base/results/gls/gene_corrs/cohorts/phenomexcan_other/gtex_v8/mashr/by_chr/gene_corrs-chr7.pkl'),\n",
       " PosixPath('/project/ritchie20/projects/phenoplier/base/results/gls/gene_corrs/cohorts/phenomexcan_other/gtex_v8/mashr/by_chr/gene_corrs-chr8.pkl'),\n",
       " PosixPath('/project/ritchie20/projects/phenoplier/base/results/gls/gene_corrs/cohorts/phenomexcan_other/gtex_v8/mashr/by_chr/gene_corrs-chr9.pkl'),\n",
       " PosixPath('/project/ritchie20/projects/phenoplier/base/results/gls/gene_corrs/cohorts/phenomexcan_other/gtex_v8/mashr/by_chr/gene_corrs-chr10.pkl'),\n",
       " PosixPath('/project/ritchie20/projects/phenoplier/base/results/gls/gene_corrs/cohorts/phenomexcan_other/gtex_v8/mashr/by_chr/gene_corrs-chr11.pkl'),\n",
       " PosixPath('/project/ritchie20/projects/phenoplier/base/results/gls/gene_corrs/cohorts/phenomexcan_other/gtex_v8/mashr/by_chr/gene_corrs-chr12.pkl'),\n",
       " PosixPath('/project/ritchie20/projects/phenoplier/base/results/gls/gene_corrs/cohorts/phenomexcan_other/gtex_v8/mashr/by_chr/gene_corrs-chr13.pkl'),\n",
       " PosixPath('/project/ritchie20/projects/phenoplier/base/results/gls/gene_corrs/cohorts/phenomexcan_other/gtex_v8/mashr/by_chr/gene_corrs-chr14.pkl'),\n",
       " PosixPath('/project/ritchie20/projects/phenoplier/base/results/gls/gene_corrs/cohorts/phenomexcan_other/gtex_v8/mashr/by_chr/gene_corrs-chr15.pkl'),\n",
       " PosixPath('/project/ritchie20/projects/phenoplier/base/results/gls/gene_corrs/cohorts/phenomexcan_other/gtex_v8/mashr/by_chr/gene_corrs-chr16.pkl'),\n",
       " PosixPath('/project/ritchie20/projects/phenoplier/base/results/gls/gene_corrs/cohorts/phenomexcan_other/gtex_v8/mashr/by_chr/gene_corrs-chr17.pkl'),\n",
       " PosixPath('/project/ritchie20/projects/phenoplier/base/results/gls/gene_corrs/cohorts/phenomexcan_other/gtex_v8/mashr/by_chr/gene_corrs-chr18.pkl'),\n",
       " PosixPath('/project/ritchie20/projects/phenoplier/base/results/gls/gene_corrs/cohorts/phenomexcan_other/gtex_v8/mashr/by_chr/gene_corrs-chr19.pkl'),\n",
       " PosixPath('/project/ritchie20/projects/phenoplier/base/results/gls/gene_corrs/cohorts/phenomexcan_other/gtex_v8/mashr/by_chr/gene_corrs-chr20.pkl'),\n",
       " PosixPath('/project/ritchie20/projects/phenoplier/base/results/gls/gene_corrs/cohorts/phenomexcan_other/gtex_v8/mashr/by_chr/gene_corrs-chr21.pkl'),\n",
       " PosixPath('/project/ritchie20/projects/phenoplier/base/results/gls/gene_corrs/cohorts/phenomexcan_other/gtex_v8/mashr/by_chr/gene_corrs-chr22.pkl')]"
      ]
     },
     "execution_count": 13,
     "metadata": {},
     "output_type": "execute_result"
    }
   ],
   "source": [
    "all_gene_corr_files"
   ]
  },
  {
   "cell_type": "code",
   "execution_count": 14,
   "id": "6e48c284",
   "metadata": {
    "execution": {
     "iopub.execute_input": "2022-08-29T14:29:06.568064Z",
     "iopub.status.busy": "2022-08-29T14:29:06.567873Z",
     "iopub.status.idle": "2022-08-29T14:29:06.583325Z",
     "shell.execute_reply": "2022-08-29T14:29:06.582703Z"
    },
    "papermill": {
     "duration": 0.029465,
     "end_time": "2022-08-29T14:29:06.584856",
     "exception": false,
     "start_time": "2022-08-29T14:29:06.555391",
     "status": "completed"
    },
    "tags": []
   },
   "outputs": [],
   "source": [
    "assert len(all_gene_corr_files) == 22"
   ]
  },
  {
   "cell_type": "markdown",
   "id": "99d01a88-2f71-41eb-a423-a17378bbb174",
   "metadata": {
    "papermill": {
     "duration": 0.011345,
     "end_time": "2022-08-29T14:29:06.607779",
     "exception": false,
     "start_time": "2022-08-29T14:29:06.596434",
     "status": "completed"
    },
    "tags": []
   },
   "source": [
    "## Get common genes"
   ]
  },
  {
   "cell_type": "code",
   "execution_count": 15,
   "id": "6a5e95f0-eeab-4716-8982-b1dbbd8763d8",
   "metadata": {
    "execution": {
     "iopub.execute_input": "2022-08-29T14:29:06.632998Z",
     "iopub.status.busy": "2022-08-29T14:29:06.632807Z",
     "iopub.status.idle": "2022-08-29T14:29:07.195143Z",
     "shell.execute_reply": "2022-08-29T14:29:07.194344Z"
    },
    "papermill": {
     "duration": 0.577106,
     "end_time": "2022-08-29T14:29:07.196974",
     "exception": false,
     "start_time": "2022-08-29T14:29:06.619868",
     "status": "completed"
    },
    "tags": []
   },
   "outputs": [],
   "source": [
    "gene_ids = set()\n",
    "for f in all_gene_corr_files:\n",
    "    chr_genes = pd.read_pickle(f).index.tolist()\n",
    "    gene_ids.update(chr_genes)"
   ]
  },
  {
   "cell_type": "code",
   "execution_count": 16,
   "id": "81ca7c6e-69c4-48c4-b44f-ec9a2b8bb527",
   "metadata": {
    "execution": {
     "iopub.execute_input": "2022-08-29T14:29:07.221636Z",
     "iopub.status.busy": "2022-08-29T14:29:07.221435Z",
     "iopub.status.idle": "2022-08-29T14:29:07.240731Z",
     "shell.execute_reply": "2022-08-29T14:29:07.240206Z"
    },
    "papermill": {
     "duration": 0.033195,
     "end_time": "2022-08-29T14:29:07.242234",
     "exception": false,
     "start_time": "2022-08-29T14:29:07.209039",
     "status": "completed"
    },
    "tags": []
   },
   "outputs": [
    {
     "data": {
      "text/plain": [
       "6450"
      ]
     },
     "metadata": {},
     "output_type": "display_data"
    }
   ],
   "source": [
    "display(len(gene_ids))"
   ]
  },
  {
   "cell_type": "code",
   "execution_count": 17,
   "id": "5e8a7f17-c84b-4d71-bf0d-11116a66084e",
   "metadata": {
    "execution": {
     "iopub.execute_input": "2022-08-29T14:29:07.266467Z",
     "iopub.status.busy": "2022-08-29T14:29:07.266273Z",
     "iopub.status.idle": "2022-08-29T14:29:07.285729Z",
     "shell.execute_reply": "2022-08-29T14:29:07.284995Z"
    },
    "papermill": {
     "duration": 0.033228,
     "end_time": "2022-08-29T14:29:07.287259",
     "exception": false,
     "start_time": "2022-08-29T14:29:07.254031",
     "status": "completed"
    },
    "tags": []
   },
   "outputs": [
    {
     "data": {
      "text/plain": [
       "['ENSG00000000419',\n",
       " 'ENSG00000000938',\n",
       " 'ENSG00000000971',\n",
       " 'ENSG00000001084',\n",
       " 'ENSG00000001167']"
      ]
     },
     "execution_count": 17,
     "metadata": {},
     "output_type": "execute_result"
    }
   ],
   "source": [
    "sorted(list(gene_ids))[:5]"
   ]
  },
  {
   "cell_type": "markdown",
   "id": "afb94d22-07be-4b67-b448-1d15d787e882",
   "metadata": {
    "papermill": {
     "duration": 0.011684,
     "end_time": "2022-08-29T14:29:07.311042",
     "exception": false,
     "start_time": "2022-08-29T14:29:07.299358",
     "status": "completed"
    },
    "tags": []
   },
   "source": [
    "## Gene info"
   ]
  },
  {
   "cell_type": "code",
   "execution_count": 18,
   "id": "66346539-e969-46dd-997d-c1f404646caa",
   "metadata": {
    "execution": {
     "iopub.execute_input": "2022-08-29T14:29:07.335745Z",
     "iopub.status.busy": "2022-08-29T14:29:07.335546Z",
     "iopub.status.idle": "2022-08-29T14:29:07.368808Z",
     "shell.execute_reply": "2022-08-29T14:29:07.368298Z"
    },
    "papermill": {
     "duration": 0.047619,
     "end_time": "2022-08-29T14:29:07.370341",
     "exception": false,
     "start_time": "2022-08-29T14:29:07.322722",
     "status": "completed"
    },
    "tags": []
   },
   "outputs": [],
   "source": [
    "genes_info = pd.read_pickle(OUTPUT_DIR_BASE / \"genes_info.pkl\")"
   ]
  },
  {
   "cell_type": "code",
   "execution_count": 19,
   "id": "6cf6e7f6-5c5c-4ee5-a3d6-1fab3f88fd20",
   "metadata": {
    "execution": {
     "iopub.execute_input": "2022-08-29T14:29:07.394537Z",
     "iopub.status.busy": "2022-08-29T14:29:07.394343Z",
     "iopub.status.idle": "2022-08-29T14:29:07.411765Z",
     "shell.execute_reply": "2022-08-29T14:29:07.411027Z"
    },
    "papermill": {
     "duration": 0.031312,
     "end_time": "2022-08-29T14:29:07.413282",
     "exception": false,
     "start_time": "2022-08-29T14:29:07.381970",
     "status": "completed"
    },
    "tags": []
   },
   "outputs": [
    {
     "data": {
      "text/plain": [
       "(6450, 7)"
      ]
     },
     "execution_count": 19,
     "metadata": {},
     "output_type": "execute_result"
    }
   ],
   "source": [
    "genes_info.shape"
   ]
  },
  {
   "cell_type": "code",
   "execution_count": 20,
   "id": "c0c00e56-a168-4502-bad1-178fa736b055",
   "metadata": {
    "execution": {
     "iopub.execute_input": "2022-08-29T14:29:07.438332Z",
     "iopub.status.busy": "2022-08-29T14:29:07.438139Z",
     "iopub.status.idle": "2022-08-29T14:29:07.461518Z",
     "shell.execute_reply": "2022-08-29T14:29:07.461006Z"
    },
    "papermill": {
     "duration": 0.03782,
     "end_time": "2022-08-29T14:29:07.462958",
     "exception": false,
     "start_time": "2022-08-29T14:29:07.425138",
     "status": "completed"
    },
    "tags": []
   },
   "outputs": [
    {
     "data": {
      "text/html": [
       "<div>\n",
       "<style scoped>\n",
       "    .dataframe tbody tr th:only-of-type {\n",
       "        vertical-align: middle;\n",
       "    }\n",
       "\n",
       "    .dataframe tbody tr th {\n",
       "        vertical-align: top;\n",
       "    }\n",
       "\n",
       "    .dataframe thead th {\n",
       "        text-align: right;\n",
       "    }\n",
       "</style>\n",
       "<table border=\"1\" class=\"dataframe\">\n",
       "  <thead>\n",
       "    <tr style=\"text-align: right;\">\n",
       "      <th></th>\n",
       "      <th>name</th>\n",
       "      <th>id</th>\n",
       "      <th>chr</th>\n",
       "      <th>band</th>\n",
       "      <th>start_position</th>\n",
       "      <th>end_position</th>\n",
       "      <th>gene_length</th>\n",
       "    </tr>\n",
       "  </thead>\n",
       "  <tbody>\n",
       "    <tr>\n",
       "      <th>0</th>\n",
       "      <td>FUS</td>\n",
       "      <td>ENSG00000089280</td>\n",
       "      <td>16</td>\n",
       "      <td>16p11.2</td>\n",
       "      <td>31180110</td>\n",
       "      <td>31194871</td>\n",
       "      <td>14761</td>\n",
       "    </tr>\n",
       "    <tr>\n",
       "      <th>1</th>\n",
       "      <td>PI4K2A</td>\n",
       "      <td>ENSG00000155252</td>\n",
       "      <td>10</td>\n",
       "      <td>10q24.2</td>\n",
       "      <td>97640686</td>\n",
       "      <td>97676434</td>\n",
       "      <td>35748</td>\n",
       "    </tr>\n",
       "    <tr>\n",
       "      <th>2</th>\n",
       "      <td>PER1</td>\n",
       "      <td>ENSG00000179094</td>\n",
       "      <td>17</td>\n",
       "      <td>17p13.1</td>\n",
       "      <td>8140472</td>\n",
       "      <td>8156506</td>\n",
       "      <td>16034</td>\n",
       "    </tr>\n",
       "    <tr>\n",
       "      <th>3</th>\n",
       "      <td>GBP6</td>\n",
       "      <td>ENSG00000183347</td>\n",
       "      <td>1</td>\n",
       "      <td>1p22.2</td>\n",
       "      <td>89364058</td>\n",
       "      <td>89386461</td>\n",
       "      <td>22403</td>\n",
       "    </tr>\n",
       "    <tr>\n",
       "      <th>4</th>\n",
       "      <td>GPAA1</td>\n",
       "      <td>ENSG00000197858</td>\n",
       "      <td>8</td>\n",
       "      <td>8q24.3</td>\n",
       "      <td>144082590</td>\n",
       "      <td>144086216</td>\n",
       "      <td>3626</td>\n",
       "    </tr>\n",
       "  </tbody>\n",
       "</table>\n",
       "</div>"
      ],
      "text/plain": [
       "     name               id  chr     band  start_position  end_position  \\\n",
       "0     FUS  ENSG00000089280   16  16p11.2        31180110      31194871   \n",
       "1  PI4K2A  ENSG00000155252   10  10q24.2        97640686      97676434   \n",
       "2    PER1  ENSG00000179094   17  17p13.1         8140472       8156506   \n",
       "3    GBP6  ENSG00000183347    1   1p22.2        89364058      89386461   \n",
       "4   GPAA1  ENSG00000197858    8   8q24.3       144082590     144086216   \n",
       "\n",
       "   gene_length  \n",
       "0        14761  \n",
       "1        35748  \n",
       "2        16034  \n",
       "3        22403  \n",
       "4         3626  "
      ]
     },
     "execution_count": 20,
     "metadata": {},
     "output_type": "execute_result"
    }
   ],
   "source": [
    "genes_info.head()"
   ]
  },
  {
   "cell_type": "code",
   "execution_count": 21,
   "id": "c6f52a23-0e0c-4def-8ebe-714793743f4e",
   "metadata": {
    "execution": {
     "iopub.execute_input": "2022-08-29T14:29:07.488411Z",
     "iopub.status.busy": "2022-08-29T14:29:07.488219Z",
     "iopub.status.idle": "2022-08-29T14:29:07.506450Z",
     "shell.execute_reply": "2022-08-29T14:29:07.505702Z"
    },
    "papermill": {
     "duration": 0.032758,
     "end_time": "2022-08-29T14:29:07.507990",
     "exception": false,
     "start_time": "2022-08-29T14:29:07.475232",
     "status": "completed"
    },
    "tags": []
   },
   "outputs": [],
   "source": [
    "# keep genes in correlation matrices only\n",
    "genes_info = genes_info[genes_info[\"id\"].isin(gene_ids)]"
   ]
  },
  {
   "cell_type": "code",
   "execution_count": 22,
   "id": "19cde9f2-0cad-4b4e-a409-0cff052cc77c",
   "metadata": {
    "execution": {
     "iopub.execute_input": "2022-08-29T14:29:07.533838Z",
     "iopub.status.busy": "2022-08-29T14:29:07.533638Z",
     "iopub.status.idle": "2022-08-29T14:29:07.550838Z",
     "shell.execute_reply": "2022-08-29T14:29:07.550049Z"
    },
    "papermill": {
     "duration": 0.032471,
     "end_time": "2022-08-29T14:29:07.552371",
     "exception": false,
     "start_time": "2022-08-29T14:29:07.519900",
     "status": "completed"
    },
    "tags": []
   },
   "outputs": [
    {
     "data": {
      "text/plain": [
       "(6450, 7)"
      ]
     },
     "execution_count": 22,
     "metadata": {},
     "output_type": "execute_result"
    }
   ],
   "source": [
    "genes_info.shape"
   ]
  },
  {
   "cell_type": "code",
   "execution_count": 23,
   "id": "f9e52a95-4c6e-4ce6-ae1d-df635d5dbe47",
   "metadata": {
    "execution": {
     "iopub.execute_input": "2022-08-29T14:29:07.578033Z",
     "iopub.status.busy": "2022-08-29T14:29:07.577839Z",
     "iopub.status.idle": "2022-08-29T14:29:07.594431Z",
     "shell.execute_reply": "2022-08-29T14:29:07.593696Z"
    },
    "papermill": {
     "duration": 0.031149,
     "end_time": "2022-08-29T14:29:07.595967",
     "exception": false,
     "start_time": "2022-08-29T14:29:07.564818",
     "status": "completed"
    },
    "tags": []
   },
   "outputs": [],
   "source": [
    "assert not genes_info.isna().any(None)"
   ]
  },
  {
   "cell_type": "code",
   "execution_count": 24,
   "id": "90028a9b-781e-46c7-97b8-9e1676e682d4",
   "metadata": {
    "execution": {
     "iopub.execute_input": "2022-08-29T14:29:07.622546Z",
     "iopub.status.busy": "2022-08-29T14:29:07.622330Z",
     "iopub.status.idle": "2022-08-29T14:29:07.640219Z",
     "shell.execute_reply": "2022-08-29T14:29:07.639575Z"
    },
    "papermill": {
     "duration": 0.033253,
     "end_time": "2022-08-29T14:29:07.641754",
     "exception": false,
     "start_time": "2022-08-29T14:29:07.608501",
     "status": "completed"
    },
    "tags": []
   },
   "outputs": [
    {
     "data": {
      "text/plain": [
       "name              object\n",
       "id                object\n",
       "chr                int64\n",
       "band              object\n",
       "start_position     int64\n",
       "end_position       int64\n",
       "gene_length        int64\n",
       "dtype: object"
      ]
     },
     "execution_count": 24,
     "metadata": {},
     "output_type": "execute_result"
    }
   ],
   "source": [
    "genes_info.dtypes"
   ]
  },
  {
   "cell_type": "code",
   "execution_count": 25,
   "id": "adb6d5ce-d010-41f8-bb63-7b5f66bf2c51",
   "metadata": {
    "execution": {
     "iopub.execute_input": "2022-08-29T14:29:07.667773Z",
     "iopub.status.busy": "2022-08-29T14:29:07.667573Z",
     "iopub.status.idle": "2022-08-29T14:29:07.689147Z",
     "shell.execute_reply": "2022-08-29T14:29:07.688363Z"
    },
    "papermill": {
     "duration": 0.036482,
     "end_time": "2022-08-29T14:29:07.690670",
     "exception": false,
     "start_time": "2022-08-29T14:29:07.654188",
     "status": "completed"
    },
    "tags": []
   },
   "outputs": [
    {
     "data": {
      "text/html": [
       "<div>\n",
       "<style scoped>\n",
       "    .dataframe tbody tr th:only-of-type {\n",
       "        vertical-align: middle;\n",
       "    }\n",
       "\n",
       "    .dataframe tbody tr th {\n",
       "        vertical-align: top;\n",
       "    }\n",
       "\n",
       "    .dataframe thead th {\n",
       "        text-align: right;\n",
       "    }\n",
       "</style>\n",
       "<table border=\"1\" class=\"dataframe\">\n",
       "  <thead>\n",
       "    <tr style=\"text-align: right;\">\n",
       "      <th></th>\n",
       "      <th>name</th>\n",
       "      <th>id</th>\n",
       "      <th>chr</th>\n",
       "      <th>band</th>\n",
       "      <th>start_position</th>\n",
       "      <th>end_position</th>\n",
       "      <th>gene_length</th>\n",
       "    </tr>\n",
       "  </thead>\n",
       "  <tbody>\n",
       "    <tr>\n",
       "      <th>0</th>\n",
       "      <td>FUS</td>\n",
       "      <td>ENSG00000089280</td>\n",
       "      <td>16</td>\n",
       "      <td>16p11.2</td>\n",
       "      <td>31180110</td>\n",
       "      <td>31194871</td>\n",
       "      <td>14761</td>\n",
       "    </tr>\n",
       "    <tr>\n",
       "      <th>1</th>\n",
       "      <td>PI4K2A</td>\n",
       "      <td>ENSG00000155252</td>\n",
       "      <td>10</td>\n",
       "      <td>10q24.2</td>\n",
       "      <td>97640686</td>\n",
       "      <td>97676434</td>\n",
       "      <td>35748</td>\n",
       "    </tr>\n",
       "    <tr>\n",
       "      <th>2</th>\n",
       "      <td>PER1</td>\n",
       "      <td>ENSG00000179094</td>\n",
       "      <td>17</td>\n",
       "      <td>17p13.1</td>\n",
       "      <td>8140472</td>\n",
       "      <td>8156506</td>\n",
       "      <td>16034</td>\n",
       "    </tr>\n",
       "    <tr>\n",
       "      <th>3</th>\n",
       "      <td>GBP6</td>\n",
       "      <td>ENSG00000183347</td>\n",
       "      <td>1</td>\n",
       "      <td>1p22.2</td>\n",
       "      <td>89364058</td>\n",
       "      <td>89386461</td>\n",
       "      <td>22403</td>\n",
       "    </tr>\n",
       "    <tr>\n",
       "      <th>4</th>\n",
       "      <td>GPAA1</td>\n",
       "      <td>ENSG00000197858</td>\n",
       "      <td>8</td>\n",
       "      <td>8q24.3</td>\n",
       "      <td>144082590</td>\n",
       "      <td>144086216</td>\n",
       "      <td>3626</td>\n",
       "    </tr>\n",
       "  </tbody>\n",
       "</table>\n",
       "</div>"
      ],
      "text/plain": [
       "     name               id  chr     band  start_position  end_position  \\\n",
       "0     FUS  ENSG00000089280   16  16p11.2        31180110      31194871   \n",
       "1  PI4K2A  ENSG00000155252   10  10q24.2        97640686      97676434   \n",
       "2    PER1  ENSG00000179094   17  17p13.1         8140472       8156506   \n",
       "3    GBP6  ENSG00000183347    1   1p22.2        89364058      89386461   \n",
       "4   GPAA1  ENSG00000197858    8   8q24.3       144082590     144086216   \n",
       "\n",
       "   gene_length  \n",
       "0        14761  \n",
       "1        35748  \n",
       "2        16034  \n",
       "3        22403  \n",
       "4         3626  "
      ]
     },
     "execution_count": 25,
     "metadata": {},
     "output_type": "execute_result"
    }
   ],
   "source": [
    "genes_info.head()"
   ]
  },
  {
   "cell_type": "markdown",
   "id": "0bc01310-5d9c-4355-8064-b67c5a22311c",
   "metadata": {
    "papermill": {
     "duration": 0.013141,
     "end_time": "2022-08-29T14:29:07.716350",
     "exception": false,
     "start_time": "2022-08-29T14:29:07.703209",
     "status": "completed"
    },
    "tags": []
   },
   "source": [
    "# Create full correlation matrix"
   ]
  },
  {
   "cell_type": "code",
   "execution_count": 26,
   "id": "fad655cb-e830-496d-8ae1-bd9088623515",
   "metadata": {
    "execution": {
     "iopub.execute_input": "2022-08-29T14:29:07.742520Z",
     "iopub.status.busy": "2022-08-29T14:29:07.742327Z",
     "iopub.status.idle": "2022-08-29T14:29:07.761165Z",
     "shell.execute_reply": "2022-08-29T14:29:07.760627Z"
    },
    "papermill": {
     "duration": 0.033984,
     "end_time": "2022-08-29T14:29:07.762685",
     "exception": false,
     "start_time": "2022-08-29T14:29:07.728701",
     "status": "completed"
    },
    "tags": []
   },
   "outputs": [],
   "source": [
    "genes_info = genes_info.sort_values([\"chr\", \"start_position\"])"
   ]
  },
  {
   "cell_type": "code",
   "execution_count": 27,
   "id": "3d93727c-e045-434b-99ec-2bfc661003f4",
   "metadata": {
    "execution": {
     "iopub.execute_input": "2022-08-29T14:29:07.788225Z",
     "iopub.status.busy": "2022-08-29T14:29:07.788022Z",
     "iopub.status.idle": "2022-08-29T14:29:07.812903Z",
     "shell.execute_reply": "2022-08-29T14:29:07.812193Z"
    },
    "papermill": {
     "duration": 0.039596,
     "end_time": "2022-08-29T14:29:07.814423",
     "exception": false,
     "start_time": "2022-08-29T14:29:07.774827",
     "status": "completed"
    },
    "tags": []
   },
   "outputs": [
    {
     "data": {
      "text/html": [
       "<div>\n",
       "<style scoped>\n",
       "    .dataframe tbody tr th:only-of-type {\n",
       "        vertical-align: middle;\n",
       "    }\n",
       "\n",
       "    .dataframe tbody tr th {\n",
       "        vertical-align: top;\n",
       "    }\n",
       "\n",
       "    .dataframe thead th {\n",
       "        text-align: right;\n",
       "    }\n",
       "</style>\n",
       "<table border=\"1\" class=\"dataframe\">\n",
       "  <thead>\n",
       "    <tr style=\"text-align: right;\">\n",
       "      <th></th>\n",
       "      <th>name</th>\n",
       "      <th>id</th>\n",
       "      <th>chr</th>\n",
       "      <th>band</th>\n",
       "      <th>start_position</th>\n",
       "      <th>end_position</th>\n",
       "      <th>gene_length</th>\n",
       "    </tr>\n",
       "  </thead>\n",
       "  <tbody>\n",
       "    <tr>\n",
       "      <th>3057</th>\n",
       "      <td>NOC2L</td>\n",
       "      <td>ENSG00000188976</td>\n",
       "      <td>1</td>\n",
       "      <td>1p36.33</td>\n",
       "      <td>944203</td>\n",
       "      <td>959309</td>\n",
       "      <td>15106</td>\n",
       "    </tr>\n",
       "    <tr>\n",
       "      <th>327</th>\n",
       "      <td>HES4</td>\n",
       "      <td>ENSG00000188290</td>\n",
       "      <td>1</td>\n",
       "      <td>1p36.33</td>\n",
       "      <td>998962</td>\n",
       "      <td>1000172</td>\n",
       "      <td>1210</td>\n",
       "    </tr>\n",
       "    <tr>\n",
       "      <th>969</th>\n",
       "      <td>ISG15</td>\n",
       "      <td>ENSG00000187608</td>\n",
       "      <td>1</td>\n",
       "      <td>1p36.33</td>\n",
       "      <td>1001138</td>\n",
       "      <td>1014540</td>\n",
       "      <td>13402</td>\n",
       "    </tr>\n",
       "    <tr>\n",
       "      <th>222</th>\n",
       "      <td>AGRN</td>\n",
       "      <td>ENSG00000188157</td>\n",
       "      <td>1</td>\n",
       "      <td>1p36.33</td>\n",
       "      <td>1020120</td>\n",
       "      <td>1056118</td>\n",
       "      <td>35998</td>\n",
       "    </tr>\n",
       "    <tr>\n",
       "      <th>5762</th>\n",
       "      <td>TNFRSF18</td>\n",
       "      <td>ENSG00000186891</td>\n",
       "      <td>1</td>\n",
       "      <td>1p36.33</td>\n",
       "      <td>1203508</td>\n",
       "      <td>1206592</td>\n",
       "      <td>3084</td>\n",
       "    </tr>\n",
       "    <tr>\n",
       "      <th>...</th>\n",
       "      <td>...</td>\n",
       "      <td>...</td>\n",
       "      <td>...</td>\n",
       "      <td>...</td>\n",
       "      <td>...</td>\n",
       "      <td>...</td>\n",
       "      <td>...</td>\n",
       "    </tr>\n",
       "    <tr>\n",
       "      <th>734</th>\n",
       "      <td>CPT1B</td>\n",
       "      <td>ENSG00000205560</td>\n",
       "      <td>22</td>\n",
       "      <td>22q13.33</td>\n",
       "      <td>50568861</td>\n",
       "      <td>50578465</td>\n",
       "      <td>9604</td>\n",
       "    </tr>\n",
       "    <tr>\n",
       "      <th>6024</th>\n",
       "      <td>CHKB</td>\n",
       "      <td>ENSG00000100288</td>\n",
       "      <td>22</td>\n",
       "      <td>22q13.33</td>\n",
       "      <td>50578949</td>\n",
       "      <td>50601455</td>\n",
       "      <td>22506</td>\n",
       "    </tr>\n",
       "    <tr>\n",
       "      <th>2037</th>\n",
       "      <td>MAPK8IP2</td>\n",
       "      <td>ENSG00000008735</td>\n",
       "      <td>22</td>\n",
       "      <td>22q13.33</td>\n",
       "      <td>50600793</td>\n",
       "      <td>50613981</td>\n",
       "      <td>13188</td>\n",
       "    </tr>\n",
       "    <tr>\n",
       "      <th>1295</th>\n",
       "      <td>ARSA</td>\n",
       "      <td>ENSG00000100299</td>\n",
       "      <td>22</td>\n",
       "      <td>22q13.33</td>\n",
       "      <td>50622754</td>\n",
       "      <td>50628173</td>\n",
       "      <td>5419</td>\n",
       "    </tr>\n",
       "    <tr>\n",
       "      <th>1434</th>\n",
       "      <td>SHANK3</td>\n",
       "      <td>ENSG00000251322</td>\n",
       "      <td>22</td>\n",
       "      <td>22q13.33</td>\n",
       "      <td>50674415</td>\n",
       "      <td>50733298</td>\n",
       "      <td>58883</td>\n",
       "    </tr>\n",
       "  </tbody>\n",
       "</table>\n",
       "<p>6450 rows × 7 columns</p>\n",
       "</div>"
      ],
      "text/plain": [
       "          name               id  chr      band  start_position  end_position  \\\n",
       "3057     NOC2L  ENSG00000188976    1   1p36.33          944203        959309   \n",
       "327       HES4  ENSG00000188290    1   1p36.33          998962       1000172   \n",
       "969      ISG15  ENSG00000187608    1   1p36.33         1001138       1014540   \n",
       "222       AGRN  ENSG00000188157    1   1p36.33         1020120       1056118   \n",
       "5762  TNFRSF18  ENSG00000186891    1   1p36.33         1203508       1206592   \n",
       "...        ...              ...  ...       ...             ...           ...   \n",
       "734      CPT1B  ENSG00000205560   22  22q13.33        50568861      50578465   \n",
       "6024      CHKB  ENSG00000100288   22  22q13.33        50578949      50601455   \n",
       "2037  MAPK8IP2  ENSG00000008735   22  22q13.33        50600793      50613981   \n",
       "1295      ARSA  ENSG00000100299   22  22q13.33        50622754      50628173   \n",
       "1434    SHANK3  ENSG00000251322   22  22q13.33        50674415      50733298   \n",
       "\n",
       "      gene_length  \n",
       "3057        15106  \n",
       "327          1210  \n",
       "969         13402  \n",
       "222         35998  \n",
       "5762         3084  \n",
       "...           ...  \n",
       "734          9604  \n",
       "6024        22506  \n",
       "2037        13188  \n",
       "1295         5419  \n",
       "1434        58883  \n",
       "\n",
       "[6450 rows x 7 columns]"
      ]
     },
     "execution_count": 27,
     "metadata": {},
     "output_type": "execute_result"
    }
   ],
   "source": [
    "genes_info"
   ]
  },
  {
   "cell_type": "code",
   "execution_count": 28,
   "id": "1277c7cb-6850-476f-932e-0d166362392c",
   "metadata": {
    "execution": {
     "iopub.execute_input": "2022-08-29T14:29:07.841607Z",
     "iopub.status.busy": "2022-08-29T14:29:07.841396Z",
     "iopub.status.idle": "2022-08-29T14:29:07.858980Z",
     "shell.execute_reply": "2022-08-29T14:29:07.858288Z"
    },
    "papermill": {
     "duration": 0.032996,
     "end_time": "2022-08-29T14:29:07.860519",
     "exception": false,
     "start_time": "2022-08-29T14:29:07.827523",
     "status": "completed"
    },
    "tags": []
   },
   "outputs": [],
   "source": [
    "full_corr_matrix = pd.DataFrame(\n",
    "    np.zeros((genes_info.shape[0], genes_info.shape[0])),\n",
    "    index=genes_info[\"id\"].tolist(),\n",
    "    columns=genes_info[\"id\"].tolist(),\n",
    ")"
   ]
  },
  {
   "cell_type": "code",
   "execution_count": 29,
   "id": "5aa375f4-775a-4dab-80c9-a68a52c69adc",
   "metadata": {
    "execution": {
     "iopub.execute_input": "2022-08-29T14:29:07.887442Z",
     "iopub.status.busy": "2022-08-29T14:29:07.887233Z",
     "iopub.status.idle": "2022-08-29T14:29:07.903997Z",
     "shell.execute_reply": "2022-08-29T14:29:07.903399Z"
    },
    "papermill": {
     "duration": 0.032233,
     "end_time": "2022-08-29T14:29:07.905514",
     "exception": false,
     "start_time": "2022-08-29T14:29:07.873281",
     "status": "completed"
    },
    "tags": []
   },
   "outputs": [],
   "source": [
    "assert full_corr_matrix.index.is_unique & full_corr_matrix.columns.is_unique"
   ]
  },
  {
   "cell_type": "code",
   "execution_count": 30,
   "id": "0afc4716-f607-4634-8a02-5f116fd2c318",
   "metadata": {
    "execution": {
     "iopub.execute_input": "2022-08-29T14:29:07.933347Z",
     "iopub.status.busy": "2022-08-29T14:29:07.933155Z",
     "iopub.status.idle": "2022-08-29T14:29:09.419063Z",
     "shell.execute_reply": "2022-08-29T14:29:09.418327Z"
    },
    "papermill": {
     "duration": 1.502519,
     "end_time": "2022-08-29T14:29:09.421009",
     "exception": false,
     "start_time": "2022-08-29T14:29:07.918490",
     "status": "completed"
    },
    "tags": []
   },
   "outputs": [
    {
     "name": "stdout",
     "output_type": "stream",
     "text": [
      "gene_corrs-chr1.pkl... "
     ]
    },
    {
     "data": {
      "text/plain": [
       "'Number of negative eigenvalues: 0'"
      ]
     },
     "metadata": {},
     "output_type": "display_data"
    },
    {
     "data": {
      "text/plain": [
       "'Negative eigenvalues:\\n[]'"
      ]
     },
     "metadata": {},
     "output_type": "display_data"
    },
    {
     "name": "stdout",
     "output_type": "stream",
     "text": [
      "Works! (statsmodels.GLS)\n",
      "Works!\n",
      "all good.\n",
      "\n",
      "\n",
      "gene_corrs-chr2.pkl... "
     ]
    },
    {
     "data": {
      "text/plain": [
       "'Number of negative eigenvalues: 0'"
      ]
     },
     "metadata": {},
     "output_type": "display_data"
    },
    {
     "data": {
      "text/plain": [
       "'Negative eigenvalues:\\n[]'"
      ]
     },
     "metadata": {},
     "output_type": "display_data"
    },
    {
     "name": "stdout",
     "output_type": "stream",
     "text": [
      "Works! (statsmodels.GLS)\n",
      "Works!\n",
      "all good.\n",
      "\n",
      "\n",
      "gene_corrs-chr3.pkl... "
     ]
    },
    {
     "data": {
      "text/plain": [
       "'Number of negative eigenvalues: 0'"
      ]
     },
     "metadata": {},
     "output_type": "display_data"
    },
    {
     "data": {
      "text/plain": [
       "'Negative eigenvalues:\\n[]'"
      ]
     },
     "metadata": {},
     "output_type": "display_data"
    },
    {
     "name": "stdout",
     "output_type": "stream",
     "text": [
      "Works! (statsmodels.GLS)\n",
      "Works!\n",
      "all good.\n",
      "\n",
      "\n",
      "gene_corrs-chr4.pkl... "
     ]
    },
    {
     "data": {
      "text/plain": [
       "'Number of negative eigenvalues: 0'"
      ]
     },
     "metadata": {},
     "output_type": "display_data"
    },
    {
     "data": {
      "text/plain": [
       "'Negative eigenvalues:\\n[]'"
      ]
     },
     "metadata": {},
     "output_type": "display_data"
    },
    {
     "name": "stdout",
     "output_type": "stream",
     "text": [
      "Works! (statsmodels.GLS)\n",
      "Works!\n",
      "all good.\n",
      "\n",
      "\n",
      "gene_corrs-chr5.pkl... "
     ]
    },
    {
     "data": {
      "text/plain": [
       "'Number of negative eigenvalues: 0'"
      ]
     },
     "metadata": {},
     "output_type": "display_data"
    },
    {
     "data": {
      "text/plain": [
       "'Negative eigenvalues:\\n[]'"
      ]
     },
     "metadata": {},
     "output_type": "display_data"
    },
    {
     "name": "stdout",
     "output_type": "stream",
     "text": [
      "Works! (statsmodels.GLS)\n",
      "Works!\n",
      "all good.\n",
      "\n",
      "\n",
      "gene_corrs-chr6.pkl... "
     ]
    },
    {
     "data": {
      "text/plain": [
       "'Number of negative eigenvalues: 0'"
      ]
     },
     "metadata": {},
     "output_type": "display_data"
    },
    {
     "data": {
      "text/plain": [
       "'Negative eigenvalues:\\n[]'"
      ]
     },
     "metadata": {},
     "output_type": "display_data"
    },
    {
     "name": "stdout",
     "output_type": "stream",
     "text": [
      "Works! (statsmodels.GLS)\n",
      "Works!\n",
      "all good.\n",
      "\n",
      "\n",
      "gene_corrs-chr7.pkl... "
     ]
    },
    {
     "data": {
      "text/plain": [
       "'Number of negative eigenvalues: 0'"
      ]
     },
     "metadata": {},
     "output_type": "display_data"
    },
    {
     "data": {
      "text/plain": [
       "'Negative eigenvalues:\\n[]'"
      ]
     },
     "metadata": {},
     "output_type": "display_data"
    },
    {
     "name": "stdout",
     "output_type": "stream",
     "text": [
      "Works! (statsmodels.GLS)\n",
      "Works!\n",
      "all good.\n",
      "\n",
      "\n",
      "gene_corrs-chr8.pkl... "
     ]
    },
    {
     "data": {
      "text/plain": [
       "'Number of negative eigenvalues: 0'"
      ]
     },
     "metadata": {},
     "output_type": "display_data"
    },
    {
     "data": {
      "text/plain": [
       "'Negative eigenvalues:\\n[]'"
      ]
     },
     "metadata": {},
     "output_type": "display_data"
    },
    {
     "name": "stdout",
     "output_type": "stream",
     "text": [
      "Works! (statsmodels.GLS)\n",
      "Works!\n",
      "all good.\n",
      "\n",
      "\n",
      "gene_corrs-chr9.pkl... "
     ]
    },
    {
     "data": {
      "text/plain": [
       "'Number of negative eigenvalues: 0'"
      ]
     },
     "metadata": {},
     "output_type": "display_data"
    },
    {
     "data": {
      "text/plain": [
       "'Negative eigenvalues:\\n[]'"
      ]
     },
     "metadata": {},
     "output_type": "display_data"
    },
    {
     "name": "stdout",
     "output_type": "stream",
     "text": [
      "Works! (statsmodels.GLS)\n",
      "Works!\n",
      "all good.\n",
      "\n",
      "\n",
      "gene_corrs-chr10.pkl... "
     ]
    },
    {
     "data": {
      "text/plain": [
       "'Number of negative eigenvalues: 0'"
      ]
     },
     "metadata": {},
     "output_type": "display_data"
    },
    {
     "data": {
      "text/plain": [
       "'Negative eigenvalues:\\n[]'"
      ]
     },
     "metadata": {},
     "output_type": "display_data"
    },
    {
     "name": "stdout",
     "output_type": "stream",
     "text": [
      "Works! (statsmodels.GLS)\n",
      "Works!\n",
      "all good.\n",
      "\n",
      "\n",
      "gene_corrs-chr11.pkl... "
     ]
    },
    {
     "data": {
      "text/plain": [
       "'Number of negative eigenvalues: 0'"
      ]
     },
     "metadata": {},
     "output_type": "display_data"
    },
    {
     "data": {
      "text/plain": [
       "'Negative eigenvalues:\\n[]'"
      ]
     },
     "metadata": {},
     "output_type": "display_data"
    },
    {
     "name": "stdout",
     "output_type": "stream",
     "text": [
      "Works! (statsmodels.GLS)\n",
      "Works!\n",
      "all good.\n",
      "\n",
      "\n",
      "gene_corrs-chr12.pkl... "
     ]
    },
    {
     "data": {
      "text/plain": [
       "'Number of negative eigenvalues: 0'"
      ]
     },
     "metadata": {},
     "output_type": "display_data"
    },
    {
     "data": {
      "text/plain": [
       "'Negative eigenvalues:\\n[]'"
      ]
     },
     "metadata": {},
     "output_type": "display_data"
    },
    {
     "name": "stdout",
     "output_type": "stream",
     "text": [
      "Works! (statsmodels.GLS)\n",
      "Works!\n",
      "all good.\n",
      "\n",
      "\n",
      "gene_corrs-chr13.pkl... "
     ]
    },
    {
     "data": {
      "text/plain": [
       "'Number of negative eigenvalues: 0'"
      ]
     },
     "metadata": {},
     "output_type": "display_data"
    },
    {
     "data": {
      "text/plain": [
       "'Negative eigenvalues:\\n[]'"
      ]
     },
     "metadata": {},
     "output_type": "display_data"
    },
    {
     "name": "stdout",
     "output_type": "stream",
     "text": [
      "Works! (statsmodels.GLS)\n",
      "Works!\n",
      "all good.\n",
      "\n",
      "\n",
      "gene_corrs-chr14.pkl... "
     ]
    },
    {
     "data": {
      "text/plain": [
       "'Number of negative eigenvalues: 0'"
      ]
     },
     "metadata": {},
     "output_type": "display_data"
    },
    {
     "data": {
      "text/plain": [
       "'Negative eigenvalues:\\n[]'"
      ]
     },
     "metadata": {},
     "output_type": "display_data"
    },
    {
     "name": "stdout",
     "output_type": "stream",
     "text": [
      "Works! (statsmodels.GLS)\n",
      "Works!\n",
      "all good.\n",
      "\n",
      "\n",
      "gene_corrs-chr15.pkl... "
     ]
    },
    {
     "data": {
      "text/plain": [
       "'Number of negative eigenvalues: 0'"
      ]
     },
     "metadata": {},
     "output_type": "display_data"
    },
    {
     "data": {
      "text/plain": [
       "'Negative eigenvalues:\\n[]'"
      ]
     },
     "metadata": {},
     "output_type": "display_data"
    },
    {
     "name": "stdout",
     "output_type": "stream",
     "text": [
      "Works! (statsmodels.GLS)\n",
      "Works!\n",
      "all good.\n",
      "\n",
      "\n",
      "gene_corrs-chr16.pkl... "
     ]
    },
    {
     "data": {
      "text/plain": [
       "'Number of negative eigenvalues: 0'"
      ]
     },
     "metadata": {},
     "output_type": "display_data"
    },
    {
     "data": {
      "text/plain": [
       "'Negative eigenvalues:\\n[]'"
      ]
     },
     "metadata": {},
     "output_type": "display_data"
    },
    {
     "name": "stdout",
     "output_type": "stream",
     "text": [
      "Works! (statsmodels.GLS)\n",
      "Works!\n",
      "all good.\n",
      "\n",
      "\n",
      "gene_corrs-chr17.pkl... "
     ]
    },
    {
     "data": {
      "text/plain": [
       "'Number of negative eigenvalues: 0'"
      ]
     },
     "metadata": {},
     "output_type": "display_data"
    },
    {
     "data": {
      "text/plain": [
       "'Negative eigenvalues:\\n[]'"
      ]
     },
     "metadata": {},
     "output_type": "display_data"
    },
    {
     "name": "stdout",
     "output_type": "stream",
     "text": [
      "Works! (statsmodels.GLS)\n",
      "Works!\n",
      "all good.\n",
      "\n",
      "\n",
      "gene_corrs-chr18.pkl... "
     ]
    },
    {
     "data": {
      "text/plain": [
       "'Number of negative eigenvalues: 0'"
      ]
     },
     "metadata": {},
     "output_type": "display_data"
    },
    {
     "data": {
      "text/plain": [
       "'Negative eigenvalues:\\n[]'"
      ]
     },
     "metadata": {},
     "output_type": "display_data"
    },
    {
     "name": "stdout",
     "output_type": "stream",
     "text": [
      "Works! (statsmodels.GLS)\n",
      "Works!\n",
      "all good.\n",
      "\n",
      "\n",
      "gene_corrs-chr19.pkl... "
     ]
    },
    {
     "data": {
      "text/plain": [
       "'Number of negative eigenvalues: 0'"
      ]
     },
     "metadata": {},
     "output_type": "display_data"
    },
    {
     "data": {
      "text/plain": [
       "'Negative eigenvalues:\\n[]'"
      ]
     },
     "metadata": {},
     "output_type": "display_data"
    },
    {
     "name": "stdout",
     "output_type": "stream",
     "text": [
      "Works! (statsmodels.GLS)\n",
      "Works!\n",
      "all good.\n",
      "\n",
      "\n",
      "gene_corrs-chr20.pkl... "
     ]
    },
    {
     "data": {
      "text/plain": [
       "'Number of negative eigenvalues: 0'"
      ]
     },
     "metadata": {},
     "output_type": "display_data"
    },
    {
     "data": {
      "text/plain": [
       "'Negative eigenvalues:\\n[]'"
      ]
     },
     "metadata": {},
     "output_type": "display_data"
    },
    {
     "name": "stdout",
     "output_type": "stream",
     "text": [
      "Works! (statsmodels.GLS)\n",
      "Works!\n",
      "all good.\n",
      "\n",
      "\n",
      "gene_corrs-chr21.pkl... "
     ]
    },
    {
     "data": {
      "text/plain": [
       "'Number of negative eigenvalues: 0'"
      ]
     },
     "metadata": {},
     "output_type": "display_data"
    },
    {
     "data": {
      "text/plain": [
       "'Negative eigenvalues:\\n[]'"
      ]
     },
     "metadata": {},
     "output_type": "display_data"
    },
    {
     "name": "stdout",
     "output_type": "stream",
     "text": [
      "Works! (statsmodels.GLS)\n",
      "Works!\n",
      "all good.\n",
      "\n",
      "\n",
      "gene_corrs-chr22.pkl... "
     ]
    },
    {
     "data": {
      "text/plain": [
       "'Number of negative eigenvalues: 0'"
      ]
     },
     "metadata": {},
     "output_type": "display_data"
    },
    {
     "data": {
      "text/plain": [
       "'Negative eigenvalues:\\n[]'"
      ]
     },
     "metadata": {},
     "output_type": "display_data"
    },
    {
     "name": "stdout",
     "output_type": "stream",
     "text": [
      "Works! (statsmodels.GLS)\n",
      "Works!\n",
      "all good.\n",
      "\n",
      "\n"
     ]
    }
   ],
   "source": [
    "for chr_corr_file in all_gene_corr_files:\n",
    "    print(chr_corr_file.name, flush=True, end=\"... \")\n",
    "\n",
    "    # get correlation matrix for this chromosome\n",
    "    corr_data = pd.read_pickle(chr_corr_file)\n",
    "\n",
    "    # save gene correlation matrix\n",
    "    full_corr_matrix.loc[corr_data.index, corr_data.columns] = corr_data\n",
    "\n",
    "    # save inverse of Cholesky decomposition of gene correlation matrix\n",
    "    # first, adjust correlation matrix if it is not positive definite\n",
    "    is_pos_def = check_pos_def(corr_data)\n",
    "\n",
    "    if is_pos_def:\n",
    "        print(\"all good.\", flush=True, end=\"\\n\")\n",
    "    else:\n",
    "        print(\"not positive definite, fixing... \", flush=True, end=\"\")\n",
    "        corr_data_adjusted = adjust_non_pos_def(corr_data)\n",
    "\n",
    "        is_pos_def = check_pos_def(corr_data_adjusted)\n",
    "        assert is_pos_def, \"Could not adjust gene correlation matrix\"\n",
    "\n",
    "        print(\"fixed! comparing...\", flush=True, end=\"\\n\")\n",
    "        compare_matrices(corr_data, corr_data_adjusted)\n",
    "\n",
    "        corr_data = corr_data_adjusted\n",
    "\n",
    "        # save\n",
    "        full_corr_matrix.loc[corr_data.index, corr_data.columns] = corr_data\n",
    "\n",
    "    print(\"\\n\")"
   ]
  },
  {
   "cell_type": "code",
   "execution_count": 31,
   "id": "a6be3bf7-d1c1-4f90-b074-a6e74d9285a5",
   "metadata": {
    "execution": {
     "iopub.execute_input": "2022-08-29T14:29:09.459623Z",
     "iopub.status.busy": "2022-08-29T14:29:09.459389Z",
     "iopub.status.idle": "2022-08-29T14:29:09.482590Z",
     "shell.execute_reply": "2022-08-29T14:29:09.481975Z"
    },
    "papermill": {
     "duration": 0.044053,
     "end_time": "2022-08-29T14:29:09.484290",
     "exception": false,
     "start_time": "2022-08-29T14:29:09.440237",
     "status": "completed"
    },
    "tags": []
   },
   "outputs": [
    {
     "data": {
      "text/plain": [
       "(6450, 6450)"
      ]
     },
     "execution_count": 31,
     "metadata": {},
     "output_type": "execute_result"
    }
   ],
   "source": [
    "full_corr_matrix.shape"
   ]
  },
  {
   "cell_type": "code",
   "execution_count": 32,
   "id": "aac21a65-87b3-4b87-b17a-cbe3692c88a9",
   "metadata": {
    "execution": {
     "iopub.execute_input": "2022-08-29T14:29:09.522041Z",
     "iopub.status.busy": "2022-08-29T14:29:09.521811Z",
     "iopub.status.idle": "2022-08-29T14:29:09.558426Z",
     "shell.execute_reply": "2022-08-29T14:29:09.557813Z"
    },
    "papermill": {
     "duration": 0.057532,
     "end_time": "2022-08-29T14:29:09.560085",
     "exception": false,
     "start_time": "2022-08-29T14:29:09.502553",
     "status": "completed"
    },
    "tags": []
   },
   "outputs": [
    {
     "data": {
      "text/html": [
       "<div>\n",
       "<style scoped>\n",
       "    .dataframe tbody tr th:only-of-type {\n",
       "        vertical-align: middle;\n",
       "    }\n",
       "\n",
       "    .dataframe tbody tr th {\n",
       "        vertical-align: top;\n",
       "    }\n",
       "\n",
       "    .dataframe thead th {\n",
       "        text-align: right;\n",
       "    }\n",
       "</style>\n",
       "<table border=\"1\" class=\"dataframe\">\n",
       "  <thead>\n",
       "    <tr style=\"text-align: right;\">\n",
       "      <th></th>\n",
       "      <th>ENSG00000188976</th>\n",
       "      <th>ENSG00000188290</th>\n",
       "      <th>ENSG00000187608</th>\n",
       "      <th>ENSG00000188157</th>\n",
       "      <th>ENSG00000186891</th>\n",
       "      <th>ENSG00000186827</th>\n",
       "      <th>ENSG00000176022</th>\n",
       "      <th>ENSG00000160087</th>\n",
       "      <th>ENSG00000131584</th>\n",
       "      <th>ENSG00000169962</th>\n",
       "      <th>...</th>\n",
       "      <th>ENSG00000196576</th>\n",
       "      <th>ENSG00000128165</th>\n",
       "      <th>ENSG00000100253</th>\n",
       "      <th>ENSG00000130489</th>\n",
       "      <th>ENSG00000025708</th>\n",
       "      <th>ENSG00000205560</th>\n",
       "      <th>ENSG00000100288</th>\n",
       "      <th>ENSG00000008735</th>\n",
       "      <th>ENSG00000100299</th>\n",
       "      <th>ENSG00000251322</th>\n",
       "    </tr>\n",
       "  </thead>\n",
       "  <tbody>\n",
       "    <tr>\n",
       "      <th>ENSG00000188976</th>\n",
       "      <td>1.000000</td>\n",
       "      <td>0.111648</td>\n",
       "      <td>0.187064</td>\n",
       "      <td>0.083062</td>\n",
       "      <td>0.006659</td>\n",
       "      <td>0.006887</td>\n",
       "      <td>0.004603</td>\n",
       "      <td>0.011059</td>\n",
       "      <td>0.011335</td>\n",
       "      <td>0.007667</td>\n",
       "      <td>...</td>\n",
       "      <td>0.0</td>\n",
       "      <td>0.0</td>\n",
       "      <td>0.0</td>\n",
       "      <td>0.0</td>\n",
       "      <td>0.0</td>\n",
       "      <td>0.0</td>\n",
       "      <td>0.0</td>\n",
       "      <td>0.0</td>\n",
       "      <td>0.0</td>\n",
       "      <td>0.0</td>\n",
       "    </tr>\n",
       "    <tr>\n",
       "      <th>ENSG00000188290</th>\n",
       "      <td>0.111648</td>\n",
       "      <td>1.000000</td>\n",
       "      <td>0.760347</td>\n",
       "      <td>0.394843</td>\n",
       "      <td>0.011284</td>\n",
       "      <td>0.008897</td>\n",
       "      <td>0.005317</td>\n",
       "      <td>0.006876</td>\n",
       "      <td>0.002582</td>\n",
       "      <td>0.005084</td>\n",
       "      <td>...</td>\n",
       "      <td>0.0</td>\n",
       "      <td>0.0</td>\n",
       "      <td>0.0</td>\n",
       "      <td>0.0</td>\n",
       "      <td>0.0</td>\n",
       "      <td>0.0</td>\n",
       "      <td>0.0</td>\n",
       "      <td>0.0</td>\n",
       "      <td>0.0</td>\n",
       "      <td>0.0</td>\n",
       "    </tr>\n",
       "    <tr>\n",
       "      <th>ENSG00000187608</th>\n",
       "      <td>0.187064</td>\n",
       "      <td>0.760347</td>\n",
       "      <td>1.000000</td>\n",
       "      <td>0.348268</td>\n",
       "      <td>0.011228</td>\n",
       "      <td>0.010204</td>\n",
       "      <td>0.006492</td>\n",
       "      <td>0.010893</td>\n",
       "      <td>0.003592</td>\n",
       "      <td>0.009454</td>\n",
       "      <td>...</td>\n",
       "      <td>0.0</td>\n",
       "      <td>0.0</td>\n",
       "      <td>0.0</td>\n",
       "      <td>0.0</td>\n",
       "      <td>0.0</td>\n",
       "      <td>0.0</td>\n",
       "      <td>0.0</td>\n",
       "      <td>0.0</td>\n",
       "      <td>0.0</td>\n",
       "      <td>0.0</td>\n",
       "    </tr>\n",
       "    <tr>\n",
       "      <th>ENSG00000188157</th>\n",
       "      <td>0.083062</td>\n",
       "      <td>0.394843</td>\n",
       "      <td>0.348268</td>\n",
       "      <td>1.000000</td>\n",
       "      <td>0.006882</td>\n",
       "      <td>0.013548</td>\n",
       "      <td>0.001546</td>\n",
       "      <td>0.002285</td>\n",
       "      <td>0.003513</td>\n",
       "      <td>0.008510</td>\n",
       "      <td>...</td>\n",
       "      <td>0.0</td>\n",
       "      <td>0.0</td>\n",
       "      <td>0.0</td>\n",
       "      <td>0.0</td>\n",
       "      <td>0.0</td>\n",
       "      <td>0.0</td>\n",
       "      <td>0.0</td>\n",
       "      <td>0.0</td>\n",
       "      <td>0.0</td>\n",
       "      <td>0.0</td>\n",
       "    </tr>\n",
       "    <tr>\n",
       "      <th>ENSG00000186891</th>\n",
       "      <td>0.006659</td>\n",
       "      <td>0.011284</td>\n",
       "      <td>0.011228</td>\n",
       "      <td>0.006882</td>\n",
       "      <td>1.000000</td>\n",
       "      <td>0.337836</td>\n",
       "      <td>0.551124</td>\n",
       "      <td>0.154373</td>\n",
       "      <td>0.193531</td>\n",
       "      <td>0.090832</td>\n",
       "      <td>...</td>\n",
       "      <td>0.0</td>\n",
       "      <td>0.0</td>\n",
       "      <td>0.0</td>\n",
       "      <td>0.0</td>\n",
       "      <td>0.0</td>\n",
       "      <td>0.0</td>\n",
       "      <td>0.0</td>\n",
       "      <td>0.0</td>\n",
       "      <td>0.0</td>\n",
       "      <td>0.0</td>\n",
       "    </tr>\n",
       "  </tbody>\n",
       "</table>\n",
       "<p>5 rows × 6450 columns</p>\n",
       "</div>"
      ],
      "text/plain": [
       "                 ENSG00000188976  ENSG00000188290  ENSG00000187608  \\\n",
       "ENSG00000188976         1.000000         0.111648         0.187064   \n",
       "ENSG00000188290         0.111648         1.000000         0.760347   \n",
       "ENSG00000187608         0.187064         0.760347         1.000000   \n",
       "ENSG00000188157         0.083062         0.394843         0.348268   \n",
       "ENSG00000186891         0.006659         0.011284         0.011228   \n",
       "\n",
       "                 ENSG00000188157  ENSG00000186891  ENSG00000186827  \\\n",
       "ENSG00000188976         0.083062         0.006659         0.006887   \n",
       "ENSG00000188290         0.394843         0.011284         0.008897   \n",
       "ENSG00000187608         0.348268         0.011228         0.010204   \n",
       "ENSG00000188157         1.000000         0.006882         0.013548   \n",
       "ENSG00000186891         0.006882         1.000000         0.337836   \n",
       "\n",
       "                 ENSG00000176022  ENSG00000160087  ENSG00000131584  \\\n",
       "ENSG00000188976         0.004603         0.011059         0.011335   \n",
       "ENSG00000188290         0.005317         0.006876         0.002582   \n",
       "ENSG00000187608         0.006492         0.010893         0.003592   \n",
       "ENSG00000188157         0.001546         0.002285         0.003513   \n",
       "ENSG00000186891         0.551124         0.154373         0.193531   \n",
       "\n",
       "                 ENSG00000169962  ...  ENSG00000196576  ENSG00000128165  \\\n",
       "ENSG00000188976         0.007667  ...              0.0              0.0   \n",
       "ENSG00000188290         0.005084  ...              0.0              0.0   \n",
       "ENSG00000187608         0.009454  ...              0.0              0.0   \n",
       "ENSG00000188157         0.008510  ...              0.0              0.0   \n",
       "ENSG00000186891         0.090832  ...              0.0              0.0   \n",
       "\n",
       "                 ENSG00000100253  ENSG00000130489  ENSG00000025708  \\\n",
       "ENSG00000188976              0.0              0.0              0.0   \n",
       "ENSG00000188290              0.0              0.0              0.0   \n",
       "ENSG00000187608              0.0              0.0              0.0   \n",
       "ENSG00000188157              0.0              0.0              0.0   \n",
       "ENSG00000186891              0.0              0.0              0.0   \n",
       "\n",
       "                 ENSG00000205560  ENSG00000100288  ENSG00000008735  \\\n",
       "ENSG00000188976              0.0              0.0              0.0   \n",
       "ENSG00000188290              0.0              0.0              0.0   \n",
       "ENSG00000187608              0.0              0.0              0.0   \n",
       "ENSG00000188157              0.0              0.0              0.0   \n",
       "ENSG00000186891              0.0              0.0              0.0   \n",
       "\n",
       "                 ENSG00000100299  ENSG00000251322  \n",
       "ENSG00000188976              0.0              0.0  \n",
       "ENSG00000188290              0.0              0.0  \n",
       "ENSG00000187608              0.0              0.0  \n",
       "ENSG00000188157              0.0              0.0  \n",
       "ENSG00000186891              0.0              0.0  \n",
       "\n",
       "[5 rows x 6450 columns]"
      ]
     },
     "execution_count": 32,
     "metadata": {},
     "output_type": "execute_result"
    }
   ],
   "source": [
    "full_corr_matrix.head()"
   ]
  },
  {
   "cell_type": "code",
   "execution_count": 33,
   "id": "0d43f268-ad27-4117-b43b-df581deedae5",
   "metadata": {
    "execution": {
     "iopub.execute_input": "2022-08-29T14:29:09.598640Z",
     "iopub.status.busy": "2022-08-29T14:29:09.598424Z",
     "iopub.status.idle": "2022-08-29T14:29:09.619192Z",
     "shell.execute_reply": "2022-08-29T14:29:09.618597Z"
    },
    "papermill": {
     "duration": 0.042093,
     "end_time": "2022-08-29T14:29:09.620849",
     "exception": false,
     "start_time": "2022-08-29T14:29:09.578756",
     "status": "completed"
    },
    "tags": []
   },
   "outputs": [
    {
     "data": {
      "text/plain": [
       "False"
      ]
     },
     "execution_count": 33,
     "metadata": {},
     "output_type": "execute_result"
    }
   ],
   "source": [
    "np.all(full_corr_matrix.to_numpy().diagonal() == 1.0)"
   ]
  },
  {
   "cell_type": "markdown",
   "id": "1169db4b-9af2-4d3c-a27a-198d7730fa67",
   "metadata": {
    "papermill": {
     "duration": 0.018952,
     "end_time": "2022-08-29T14:29:09.658539",
     "exception": false,
     "start_time": "2022-08-29T14:29:09.639587",
     "status": "completed"
    },
    "tags": []
   },
   "source": [
    "## Some checks"
   ]
  },
  {
   "cell_type": "code",
   "execution_count": 34,
   "id": "31b4e109-a020-4667-9326-c63e6d80a33e",
   "metadata": {
    "execution": {
     "iopub.execute_input": "2022-08-29T14:29:09.698477Z",
     "iopub.status.busy": "2022-08-29T14:29:09.698231Z",
     "iopub.status.idle": "2022-08-29T14:29:09.965761Z",
     "shell.execute_reply": "2022-08-29T14:29:09.965216Z"
    },
    "papermill": {
     "duration": 0.28942,
     "end_time": "2022-08-29T14:29:09.967314",
     "exception": false,
     "start_time": "2022-08-29T14:29:09.677894",
     "status": "completed"
    },
    "tags": []
   },
   "outputs": [
    {
     "data": {
      "text/plain": [
       "0.0"
      ]
     },
     "metadata": {},
     "output_type": "display_data"
    }
   ],
   "source": [
    "_min_val = full_corr_matrix.min().min()\n",
    "display(_min_val)\n",
    "# assert _min_val >= -0.05"
   ]
  },
  {
   "cell_type": "code",
   "execution_count": 35,
   "id": "df674d11-939a-4704-a718-f246527a1880",
   "metadata": {
    "execution": {
     "iopub.execute_input": "2022-08-29T14:29:10.005320Z",
     "iopub.status.busy": "2022-08-29T14:29:10.005104Z",
     "iopub.status.idle": "2022-08-29T14:29:10.260544Z",
     "shell.execute_reply": "2022-08-29T14:29:10.259896Z"
    },
    "papermill": {
     "duration": 0.27567,
     "end_time": "2022-08-29T14:29:10.262065",
     "exception": false,
     "start_time": "2022-08-29T14:29:09.986395",
     "status": "completed"
    },
    "tags": []
   },
   "outputs": [
    {
     "data": {
      "text/plain": [
       "1.0000000000000047"
      ]
     },
     "metadata": {},
     "output_type": "display_data"
    }
   ],
   "source": [
    "_max_val = full_corr_matrix.max().max()\n",
    "display(_max_val)\n",
    "# assert _max_val <= 1.05"
   ]
  },
  {
   "cell_type": "markdown",
   "id": "d6b0f6d2-f191-44ba-97da-41f980163729",
   "metadata": {
    "papermill": {
     "duration": 0.018679,
     "end_time": "2022-08-29T14:29:10.299000",
     "exception": false,
     "start_time": "2022-08-29T14:29:10.280321",
     "status": "completed"
    },
    "tags": []
   },
   "source": [
    "## Positive definiteness"
   ]
  },
  {
   "cell_type": "markdown",
   "id": "bd7c979c-1f9c-4396-92a4-c1eb8be339d0",
   "metadata": {
    "papermill": {
     "duration": 0.017952,
     "end_time": "2022-08-29T14:29:10.334755",
     "exception": false,
     "start_time": "2022-08-29T14:29:10.316803",
     "status": "completed"
    },
    "tags": []
   },
   "source": [
    "In some cases, even if the submatrices are adjusted, the whole one is not.\n",
    "\n",
    "So here I check that again."
   ]
  },
  {
   "cell_type": "code",
   "execution_count": 36,
   "id": "6fc157e7-b798-4977-975b-d20d8c1cda09",
   "metadata": {
    "execution": {
     "iopub.execute_input": "2022-08-29T14:29:10.372753Z",
     "iopub.status.busy": "2022-08-29T14:29:10.372506Z",
     "iopub.status.idle": "2022-08-29T14:31:15.034341Z",
     "shell.execute_reply": "2022-08-29T14:31:15.033470Z"
    },
    "papermill": {
     "duration": 124.687757,
     "end_time": "2022-08-29T14:31:15.040987",
     "exception": false,
     "start_time": "2022-08-29T14:29:10.353230",
     "status": "completed"
    },
    "tags": []
   },
   "outputs": [
    {
     "data": {
      "text/plain": [
       "'Number of negative eigenvalues: 0'"
      ]
     },
     "metadata": {},
     "output_type": "display_data"
    },
    {
     "data": {
      "text/plain": [
       "'Negative eigenvalues:\\n[]'"
      ]
     },
     "metadata": {},
     "output_type": "display_data"
    },
    {
     "name": "stdout",
     "output_type": "stream",
     "text": [
      "Works! (statsmodels.GLS)\n",
      "Works!\n",
      "all good.\n"
     ]
    }
   ],
   "source": [
    "is_pos_def = check_pos_def(full_corr_matrix)\n",
    "\n",
    "if is_pos_def:\n",
    "    print(\"all good.\", flush=True, end=\"\\n\")\n",
    "else:\n",
    "    print(\"not positive definite, fixing... \", flush=True, end=\"\")\n",
    "    corr_data_adjusted = adjust_non_pos_def(full_corr_matrix)\n",
    "\n",
    "    is_pos_def = check_pos_def(corr_data_adjusted)\n",
    "    assert is_pos_def, \"Could not adjust gene correlation matrix\"\n",
    "\n",
    "    print(\"fixed! comparing...\", flush=True, end=\"\\n\")\n",
    "    compare_matrices(full_corr_matrix, corr_data_adjusted)\n",
    "\n",
    "    full_corr_matrix = corr_data_adjusted"
   ]
  },
  {
   "cell_type": "markdown",
   "id": "f328f55d-37d5-4346-97b4-7237281d5757",
   "metadata": {
    "papermill": {
     "duration": 0.019347,
     "end_time": "2022-08-29T14:31:15.079612",
     "exception": false,
     "start_time": "2022-08-29T14:31:15.060265",
     "status": "completed"
    },
    "tags": []
   },
   "source": [
    "## Save"
   ]
  },
  {
   "cell_type": "markdown",
   "id": "0bf781b4-7a49-4823-9c40-d6d4151c17b7",
   "metadata": {
    "papermill": {
     "duration": 0.019307,
     "end_time": "2022-08-29T14:31:15.118237",
     "exception": false,
     "start_time": "2022-08-29T14:31:15.098930",
     "status": "completed"
    },
    "tags": []
   },
   "source": [
    "### Gene corrs with gene symbols"
   ]
  },
  {
   "cell_type": "code",
   "execution_count": 37,
   "id": "cd9323bb-f43e-4271-aeae-c4ff9ba150fe",
   "metadata": {
    "execution": {
     "iopub.execute_input": "2022-08-29T14:31:15.158528Z",
     "iopub.status.busy": "2022-08-29T14:31:15.158236Z",
     "iopub.status.idle": "2022-08-29T14:31:15.387124Z",
     "shell.execute_reply": "2022-08-29T14:31:15.386529Z"
    },
    "papermill": {
     "duration": 0.250987,
     "end_time": "2022-08-29T14:31:15.388796",
     "exception": false,
     "start_time": "2022-08-29T14:31:15.137809",
     "status": "completed"
    },
    "tags": []
   },
   "outputs": [
    {
     "data": {
      "text/plain": [
       "PosixPath('/project/ritchie20/projects/phenoplier/base/results/gls/gene_corrs/cohorts/phenomexcan_other/gtex_v8/mashr/gene_corrs-symbols.pkl')"
      ]
     },
     "metadata": {},
     "output_type": "display_data"
    }
   ],
   "source": [
    "output_file = OUTPUT_DIR_BASE / \"gene_corrs-symbols.pkl\"\n",
    "display(output_file)"
   ]
  },
  {
   "cell_type": "code",
   "execution_count": 38,
   "id": "eae70039-4724-49c2-af7f-af868ee71f52",
   "metadata": {
    "execution": {
     "iopub.execute_input": "2022-08-29T14:31:15.429815Z",
     "iopub.status.busy": "2022-08-29T14:31:15.429535Z",
     "iopub.status.idle": "2022-08-29T14:31:15.661690Z",
     "shell.execute_reply": "2022-08-29T14:31:15.661074Z"
    },
    "papermill": {
     "duration": 0.254821,
     "end_time": "2022-08-29T14:31:15.663703",
     "exception": false,
     "start_time": "2022-08-29T14:31:15.408882",
     "status": "completed"
    },
    "tags": []
   },
   "outputs": [],
   "source": [
    "gene_corrs = full_corr_matrix.rename(\n",
    "    index=Gene.GENE_ID_TO_NAME_MAP, columns=Gene.GENE_ID_TO_NAME_MAP\n",
    ")"
   ]
  },
  {
   "cell_type": "code",
   "execution_count": 39,
   "id": "d095a99d-acf0-4290-873b-64079ba70a3a",
   "metadata": {
    "execution": {
     "iopub.execute_input": "2022-08-29T14:31:15.704932Z",
     "iopub.status.busy": "2022-08-29T14:31:15.704638Z",
     "iopub.status.idle": "2022-08-29T14:31:15.828527Z",
     "shell.execute_reply": "2022-08-29T14:31:15.827897Z"
    },
    "papermill": {
     "duration": 0.146616,
     "end_time": "2022-08-29T14:31:15.830548",
     "exception": false,
     "start_time": "2022-08-29T14:31:15.683932",
     "status": "completed"
    },
    "tags": []
   },
   "outputs": [],
   "source": [
    "assert not gene_corrs.isna().any(None)\n",
    "assert not np.isinf(gene_corrs.to_numpy()).any()\n",
    "assert not np.iscomplex(gene_corrs.to_numpy()).any()"
   ]
  },
  {
   "cell_type": "code",
   "execution_count": 40,
   "id": "8a0ee039-378e-4f51-a18a-24fe2c9d9ba8",
   "metadata": {
    "execution": {
     "iopub.execute_input": "2022-08-29T14:31:15.871956Z",
     "iopub.status.busy": "2022-08-29T14:31:15.871676Z",
     "iopub.status.idle": "2022-08-29T14:31:15.893540Z",
     "shell.execute_reply": "2022-08-29T14:31:15.892957Z"
    },
    "papermill": {
     "duration": 0.044719,
     "end_time": "2022-08-29T14:31:15.895380",
     "exception": false,
     "start_time": "2022-08-29T14:31:15.850661",
     "status": "completed"
    },
    "tags": []
   },
   "outputs": [],
   "source": [
    "assert gene_corrs.index.is_unique\n",
    "assert gene_corrs.columns.is_unique"
   ]
  },
  {
   "cell_type": "code",
   "execution_count": 41,
   "id": "7fe158ee-2def-4c61-91a2-f3ec05687237",
   "metadata": {
    "execution": {
     "iopub.execute_input": "2022-08-29T14:31:15.936880Z",
     "iopub.status.busy": "2022-08-29T14:31:15.936600Z",
     "iopub.status.idle": "2022-08-29T14:31:15.958274Z",
     "shell.execute_reply": "2022-08-29T14:31:15.957700Z"
    },
    "papermill": {
     "duration": 0.044182,
     "end_time": "2022-08-29T14:31:15.959888",
     "exception": false,
     "start_time": "2022-08-29T14:31:15.915706",
     "status": "completed"
    },
    "tags": []
   },
   "outputs": [
    {
     "data": {
      "text/plain": [
       "(6450, 6450)"
      ]
     },
     "execution_count": 41,
     "metadata": {},
     "output_type": "execute_result"
    }
   ],
   "source": [
    "gene_corrs.shape"
   ]
  },
  {
   "cell_type": "code",
   "execution_count": 42,
   "id": "28db69f2-6dc8-4a05-a1da-d44998574749",
   "metadata": {
    "execution": {
     "iopub.execute_input": "2022-08-29T14:31:16.001028Z",
     "iopub.status.busy": "2022-08-29T14:31:16.000757Z",
     "iopub.status.idle": "2022-08-29T14:31:16.038450Z",
     "shell.execute_reply": "2022-08-29T14:31:16.037883Z"
    },
    "papermill": {
     "duration": 0.0604,
     "end_time": "2022-08-29T14:31:16.040108",
     "exception": false,
     "start_time": "2022-08-29T14:31:15.979708",
     "status": "completed"
    },
    "tags": []
   },
   "outputs": [
    {
     "data": {
      "text/html": [
       "<div>\n",
       "<style scoped>\n",
       "    .dataframe tbody tr th:only-of-type {\n",
       "        vertical-align: middle;\n",
       "    }\n",
       "\n",
       "    .dataframe tbody tr th {\n",
       "        vertical-align: top;\n",
       "    }\n",
       "\n",
       "    .dataframe thead th {\n",
       "        text-align: right;\n",
       "    }\n",
       "</style>\n",
       "<table border=\"1\" class=\"dataframe\">\n",
       "  <thead>\n",
       "    <tr style=\"text-align: right;\">\n",
       "      <th></th>\n",
       "      <th>NOC2L</th>\n",
       "      <th>HES4</th>\n",
       "      <th>ISG15</th>\n",
       "      <th>AGRN</th>\n",
       "      <th>TNFRSF18</th>\n",
       "      <th>TNFRSF4</th>\n",
       "      <th>B3GALT6</th>\n",
       "      <th>UBE2J2</th>\n",
       "      <th>ACAP3</th>\n",
       "      <th>TAS1R3</th>\n",
       "      <th>...</th>\n",
       "      <th>PLXNB2</th>\n",
       "      <th>ADM2</th>\n",
       "      <th>MIOX</th>\n",
       "      <th>SCO2</th>\n",
       "      <th>TYMP</th>\n",
       "      <th>CPT1B</th>\n",
       "      <th>CHKB</th>\n",
       "      <th>MAPK8IP2</th>\n",
       "      <th>ARSA</th>\n",
       "      <th>SHANK3</th>\n",
       "    </tr>\n",
       "  </thead>\n",
       "  <tbody>\n",
       "    <tr>\n",
       "      <th>NOC2L</th>\n",
       "      <td>1.000000</td>\n",
       "      <td>0.111648</td>\n",
       "      <td>0.187064</td>\n",
       "      <td>0.083062</td>\n",
       "      <td>0.006659</td>\n",
       "      <td>0.006887</td>\n",
       "      <td>0.004603</td>\n",
       "      <td>0.011059</td>\n",
       "      <td>0.011335</td>\n",
       "      <td>0.007667</td>\n",
       "      <td>...</td>\n",
       "      <td>0.0</td>\n",
       "      <td>0.0</td>\n",
       "      <td>0.0</td>\n",
       "      <td>0.0</td>\n",
       "      <td>0.0</td>\n",
       "      <td>0.0</td>\n",
       "      <td>0.0</td>\n",
       "      <td>0.0</td>\n",
       "      <td>0.0</td>\n",
       "      <td>0.0</td>\n",
       "    </tr>\n",
       "    <tr>\n",
       "      <th>HES4</th>\n",
       "      <td>0.111648</td>\n",
       "      <td>1.000000</td>\n",
       "      <td>0.760347</td>\n",
       "      <td>0.394843</td>\n",
       "      <td>0.011284</td>\n",
       "      <td>0.008897</td>\n",
       "      <td>0.005317</td>\n",
       "      <td>0.006876</td>\n",
       "      <td>0.002582</td>\n",
       "      <td>0.005084</td>\n",
       "      <td>...</td>\n",
       "      <td>0.0</td>\n",
       "      <td>0.0</td>\n",
       "      <td>0.0</td>\n",
       "      <td>0.0</td>\n",
       "      <td>0.0</td>\n",
       "      <td>0.0</td>\n",
       "      <td>0.0</td>\n",
       "      <td>0.0</td>\n",
       "      <td>0.0</td>\n",
       "      <td>0.0</td>\n",
       "    </tr>\n",
       "    <tr>\n",
       "      <th>ISG15</th>\n",
       "      <td>0.187064</td>\n",
       "      <td>0.760347</td>\n",
       "      <td>1.000000</td>\n",
       "      <td>0.348268</td>\n",
       "      <td>0.011228</td>\n",
       "      <td>0.010204</td>\n",
       "      <td>0.006492</td>\n",
       "      <td>0.010893</td>\n",
       "      <td>0.003592</td>\n",
       "      <td>0.009454</td>\n",
       "      <td>...</td>\n",
       "      <td>0.0</td>\n",
       "      <td>0.0</td>\n",
       "      <td>0.0</td>\n",
       "      <td>0.0</td>\n",
       "      <td>0.0</td>\n",
       "      <td>0.0</td>\n",
       "      <td>0.0</td>\n",
       "      <td>0.0</td>\n",
       "      <td>0.0</td>\n",
       "      <td>0.0</td>\n",
       "    </tr>\n",
       "    <tr>\n",
       "      <th>AGRN</th>\n",
       "      <td>0.083062</td>\n",
       "      <td>0.394843</td>\n",
       "      <td>0.348268</td>\n",
       "      <td>1.000000</td>\n",
       "      <td>0.006882</td>\n",
       "      <td>0.013548</td>\n",
       "      <td>0.001546</td>\n",
       "      <td>0.002285</td>\n",
       "      <td>0.003513</td>\n",
       "      <td>0.008510</td>\n",
       "      <td>...</td>\n",
       "      <td>0.0</td>\n",
       "      <td>0.0</td>\n",
       "      <td>0.0</td>\n",
       "      <td>0.0</td>\n",
       "      <td>0.0</td>\n",
       "      <td>0.0</td>\n",
       "      <td>0.0</td>\n",
       "      <td>0.0</td>\n",
       "      <td>0.0</td>\n",
       "      <td>0.0</td>\n",
       "    </tr>\n",
       "    <tr>\n",
       "      <th>TNFRSF18</th>\n",
       "      <td>0.006659</td>\n",
       "      <td>0.011284</td>\n",
       "      <td>0.011228</td>\n",
       "      <td>0.006882</td>\n",
       "      <td>1.000000</td>\n",
       "      <td>0.337836</td>\n",
       "      <td>0.551124</td>\n",
       "      <td>0.154373</td>\n",
       "      <td>0.193531</td>\n",
       "      <td>0.090832</td>\n",
       "      <td>...</td>\n",
       "      <td>0.0</td>\n",
       "      <td>0.0</td>\n",
       "      <td>0.0</td>\n",
       "      <td>0.0</td>\n",
       "      <td>0.0</td>\n",
       "      <td>0.0</td>\n",
       "      <td>0.0</td>\n",
       "      <td>0.0</td>\n",
       "      <td>0.0</td>\n",
       "      <td>0.0</td>\n",
       "    </tr>\n",
       "  </tbody>\n",
       "</table>\n",
       "<p>5 rows × 6450 columns</p>\n",
       "</div>"
      ],
      "text/plain": [
       "             NOC2L      HES4     ISG15      AGRN  TNFRSF18   TNFRSF4  \\\n",
       "NOC2L     1.000000  0.111648  0.187064  0.083062  0.006659  0.006887   \n",
       "HES4      0.111648  1.000000  0.760347  0.394843  0.011284  0.008897   \n",
       "ISG15     0.187064  0.760347  1.000000  0.348268  0.011228  0.010204   \n",
       "AGRN      0.083062  0.394843  0.348268  1.000000  0.006882  0.013548   \n",
       "TNFRSF18  0.006659  0.011284  0.011228  0.006882  1.000000  0.337836   \n",
       "\n",
       "           B3GALT6    UBE2J2     ACAP3    TAS1R3  ...  PLXNB2  ADM2  MIOX  \\\n",
       "NOC2L     0.004603  0.011059  0.011335  0.007667  ...     0.0   0.0   0.0   \n",
       "HES4      0.005317  0.006876  0.002582  0.005084  ...     0.0   0.0   0.0   \n",
       "ISG15     0.006492  0.010893  0.003592  0.009454  ...     0.0   0.0   0.0   \n",
       "AGRN      0.001546  0.002285  0.003513  0.008510  ...     0.0   0.0   0.0   \n",
       "TNFRSF18  0.551124  0.154373  0.193531  0.090832  ...     0.0   0.0   0.0   \n",
       "\n",
       "          SCO2  TYMP  CPT1B  CHKB  MAPK8IP2  ARSA  SHANK3  \n",
       "NOC2L      0.0   0.0    0.0   0.0       0.0   0.0     0.0  \n",
       "HES4       0.0   0.0    0.0   0.0       0.0   0.0     0.0  \n",
       "ISG15      0.0   0.0    0.0   0.0       0.0   0.0     0.0  \n",
       "AGRN       0.0   0.0    0.0   0.0       0.0   0.0     0.0  \n",
       "TNFRSF18   0.0   0.0    0.0   0.0       0.0   0.0     0.0  \n",
       "\n",
       "[5 rows x 6450 columns]"
      ]
     },
     "execution_count": 42,
     "metadata": {},
     "output_type": "execute_result"
    }
   ],
   "source": [
    "gene_corrs.head()"
   ]
  },
  {
   "cell_type": "code",
   "execution_count": 43,
   "id": "19f39ddb-854c-4b6a-886c-60e84b5d31ca",
   "metadata": {
    "execution": {
     "iopub.execute_input": "2022-08-29T14:31:16.081823Z",
     "iopub.status.busy": "2022-08-29T14:31:16.081541Z",
     "iopub.status.idle": "2022-08-29T14:31:16.915344Z",
     "shell.execute_reply": "2022-08-29T14:31:16.914713Z"
    },
    "papermill": {
     "duration": 0.857134,
     "end_time": "2022-08-29T14:31:16.917353",
     "exception": false,
     "start_time": "2022-08-29T14:31:16.060219",
     "status": "completed"
    },
    "tags": []
   },
   "outputs": [],
   "source": [
    "gene_corrs.to_pickle(output_file)"
   ]
  },
  {
   "cell_type": "code",
   "execution_count": 44,
   "id": "738f4cf5-44a9-4274-a2c8-11906113fa45",
   "metadata": {
    "execution": {
     "iopub.execute_input": "2022-08-29T14:31:16.959535Z",
     "iopub.status.busy": "2022-08-29T14:31:16.959264Z",
     "iopub.status.idle": "2022-08-29T14:31:16.978859Z",
     "shell.execute_reply": "2022-08-29T14:31:16.978282Z"
    },
    "papermill": {
     "duration": 0.041963,
     "end_time": "2022-08-29T14:31:16.980583",
     "exception": false,
     "start_time": "2022-08-29T14:31:16.938620",
     "status": "completed"
    },
    "tags": []
   },
   "outputs": [],
   "source": [
    "del gene_corrs"
   ]
  },
  {
   "cell_type": "markdown",
   "id": "551bd31a-ad37-45b5-a0c8-6ff1459faf60",
   "metadata": {
    "papermill": {
     "duration": 0.02025,
     "end_time": "2022-08-29T14:31:17.021298",
     "exception": false,
     "start_time": "2022-08-29T14:31:17.001048",
     "status": "completed"
    },
    "tags": []
   },
   "source": [
    "# Stats"
   ]
  },
  {
   "cell_type": "code",
   "execution_count": 45,
   "id": "33b5482f-7ecf-4365-867f-249f28d09180",
   "metadata": {
    "execution": {
     "iopub.execute_input": "2022-08-29T14:31:17.063181Z",
     "iopub.status.busy": "2022-08-29T14:31:17.062896Z",
     "iopub.status.idle": "2022-08-29T14:31:18.254080Z",
     "shell.execute_reply": "2022-08-29T14:31:18.253454Z"
    },
    "papermill": {
     "duration": 1.214278,
     "end_time": "2022-08-29T14:31:18.256116",
     "exception": false,
     "start_time": "2022-08-29T14:31:17.041838",
     "status": "completed"
    },
    "tags": []
   },
   "outputs": [],
   "source": [
    "full_corr_matrix_flat = full_corr_matrix.mask(\n",
    "    np.triu(np.ones(full_corr_matrix.shape)).astype(bool)\n",
    ").stack()"
   ]
  },
  {
   "cell_type": "code",
   "execution_count": 46,
   "id": "e2d950d1-646a-4ba1-bb91-cf07ad00872d",
   "metadata": {
    "execution": {
     "iopub.execute_input": "2022-08-29T14:31:18.299235Z",
     "iopub.status.busy": "2022-08-29T14:31:18.298961Z",
     "iopub.status.idle": "2022-08-29T14:31:18.321017Z",
     "shell.execute_reply": "2022-08-29T14:31:18.320449Z"
    },
    "papermill": {
     "duration": 0.045008,
     "end_time": "2022-08-29T14:31:18.322628",
     "exception": false,
     "start_time": "2022-08-29T14:31:18.277620",
     "status": "completed"
    },
    "tags": []
   },
   "outputs": [
    {
     "data": {
      "text/plain": [
       "(20798025,)"
      ]
     },
     "metadata": {},
     "output_type": "display_data"
    }
   ],
   "source": [
    "display(full_corr_matrix_flat.shape)\n",
    "assert full_corr_matrix_flat.shape[0] == int(\n",
    "    full_corr_matrix.shape[0] * (full_corr_matrix.shape[0] - 1) / 2\n",
    ")"
   ]
  },
  {
   "cell_type": "markdown",
   "id": "5fd7d482-b7b8-4a84-91b0-749d15f0d2c0",
   "metadata": {
    "papermill": {
     "duration": 0.020987,
     "end_time": "2022-08-29T14:31:18.363902",
     "exception": false,
     "start_time": "2022-08-29T14:31:18.342915",
     "status": "completed"
    },
    "tags": []
   },
   "source": [
    "## On all correlations"
   ]
  },
  {
   "cell_type": "code",
   "execution_count": 47,
   "id": "e58ea199-0cc1-449d-a55e-26970fb674a8",
   "metadata": {
    "execution": {
     "iopub.execute_input": "2022-08-29T14:31:18.406027Z",
     "iopub.status.busy": "2022-08-29T14:31:18.405754Z",
     "iopub.status.idle": "2022-08-29T14:31:18.425400Z",
     "shell.execute_reply": "2022-08-29T14:31:18.424820Z"
    },
    "papermill": {
     "duration": 0.043094,
     "end_time": "2022-08-29T14:31:18.427244",
     "exception": false,
     "start_time": "2022-08-29T14:31:18.384150",
     "status": "completed"
    },
    "tags": []
   },
   "outputs": [],
   "source": [
    "_corr_mat = full_corr_matrix_flat"
   ]
  },
  {
   "cell_type": "code",
   "execution_count": 48,
   "id": "c4e71773-0b74-435f-a9d9-cc8671d7c570",
   "metadata": {
    "execution": {
     "iopub.execute_input": "2022-08-29T14:31:18.469492Z",
     "iopub.status.busy": "2022-08-29T14:31:18.469220Z",
     "iopub.status.idle": "2022-08-29T14:31:18.490877Z",
     "shell.execute_reply": "2022-08-29T14:31:18.490307Z"
    },
    "papermill": {
     "duration": 0.044644,
     "end_time": "2022-08-29T14:31:18.492477",
     "exception": false,
     "start_time": "2022-08-29T14:31:18.447833",
     "status": "completed"
    },
    "tags": []
   },
   "outputs": [
    {
     "data": {
      "text/plain": [
       "(20798025,)"
      ]
     },
     "execution_count": 48,
     "metadata": {},
     "output_type": "execute_result"
    }
   ],
   "source": [
    "_corr_mat.shape"
   ]
  },
  {
   "cell_type": "code",
   "execution_count": 49,
   "id": "9907fbe4-85e1-4690-ae0c-3c6f5a19e9b7",
   "metadata": {
    "execution": {
     "iopub.execute_input": "2022-08-29T14:31:18.534538Z",
     "iopub.status.busy": "2022-08-29T14:31:18.534268Z",
     "iopub.status.idle": "2022-08-29T14:31:18.557314Z",
     "shell.execute_reply": "2022-08-29T14:31:18.556752Z"
    },
    "papermill": {
     "duration": 0.046302,
     "end_time": "2022-08-29T14:31:18.558918",
     "exception": false,
     "start_time": "2022-08-29T14:31:18.512616",
     "status": "completed"
    },
    "tags": []
   },
   "outputs": [
    {
     "data": {
      "text/plain": [
       "ENSG00000188290  ENSG00000188976    0.111648\n",
       "ENSG00000187608  ENSG00000188976    0.187064\n",
       "                 ENSG00000188290    0.760347\n",
       "ENSG00000188157  ENSG00000188976    0.083062\n",
       "                 ENSG00000188290    0.394843\n",
       "dtype: float64"
      ]
     },
     "execution_count": 49,
     "metadata": {},
     "output_type": "execute_result"
    }
   ],
   "source": [
    "_corr_mat.head()"
   ]
  },
  {
   "cell_type": "code",
   "execution_count": 50,
   "id": "cb34e9c9-7488-47f2-aa31-c8a8e83f92ae",
   "metadata": {
    "execution": {
     "iopub.execute_input": "2022-08-29T14:31:18.601819Z",
     "iopub.status.busy": "2022-08-29T14:31:18.601539Z",
     "iopub.status.idle": "2022-08-29T14:31:19.436998Z",
     "shell.execute_reply": "2022-08-29T14:31:19.436390Z"
    },
    "papermill": {
     "duration": 0.858705,
     "end_time": "2022-08-29T14:31:19.438663",
     "exception": false,
     "start_time": "2022-08-29T14:31:18.579958",
     "status": "completed"
    },
    "tags": []
   },
   "outputs": [
    {
     "data": {
      "text/plain": [
       "count                20798025.0\n",
       "mean     0.00046516461460093705\n",
       "std        0.007006055304028581\n",
       "min                         0.0\n",
       "25%                         0.0\n",
       "50%                         0.0\n",
       "75%                         0.0\n",
       "max           0.999997504222484\n",
       "dtype: object"
      ]
     },
     "execution_count": 50,
     "metadata": {},
     "output_type": "execute_result"
    }
   ],
   "source": [
    "_corr_mat.describe().apply(str)"
   ]
  },
  {
   "cell_type": "code",
   "execution_count": 51,
   "id": "ccb2fbfa-e381-40a0-a269-e280c12c6039",
   "metadata": {
    "execution": {
     "iopub.execute_input": "2022-08-29T14:31:19.481795Z",
     "iopub.status.busy": "2022-08-29T14:31:19.481515Z",
     "iopub.status.idle": "2022-08-29T14:31:19.829280Z",
     "shell.execute_reply": "2022-08-29T14:31:19.828698Z"
    },
    "papermill": {
     "duration": 0.371143,
     "end_time": "2022-08-29T14:31:19.830946",
     "exception": false,
     "start_time": "2022-08-29T14:31:19.459803",
     "status": "completed"
    },
    "tags": []
   },
   "outputs": [
    {
     "data": {
      "text/plain": [
       "0.00    0.000000\n",
       "0.05    0.000000\n",
       "0.10    0.000000\n",
       "0.15    0.000000\n",
       "0.20    0.000000\n",
       "0.25    0.000000\n",
       "0.30    0.000000\n",
       "0.35    0.000000\n",
       "0.40    0.000000\n",
       "0.45    0.000000\n",
       "0.50    0.000000\n",
       "0.55    0.000000\n",
       "0.60    0.000000\n",
       "0.65    0.000000\n",
       "0.70    0.000000\n",
       "0.75    0.000000\n",
       "0.80    0.000000\n",
       "0.85    0.000000\n",
       "0.90    0.000000\n",
       "0.95    0.002406\n",
       "dtype: float64"
      ]
     },
     "metadata": {},
     "output_type": "display_data"
    }
   ],
   "source": [
    "display(_corr_mat.quantile(np.arange(0, 1, 0.05)))"
   ]
  },
  {
   "cell_type": "code",
   "execution_count": 52,
   "id": "940dcbd0-3a39-4e0b-9b7c-cd3f905ea8fb",
   "metadata": {
    "execution": {
     "iopub.execute_input": "2022-08-29T14:31:19.874995Z",
     "iopub.status.busy": "2022-08-29T14:31:19.874713Z",
     "iopub.status.idle": "2022-08-29T14:31:20.128882Z",
     "shell.execute_reply": "2022-08-29T14:31:20.128283Z"
    },
    "papermill": {
     "duration": 0.277932,
     "end_time": "2022-08-29T14:31:20.130506",
     "exception": false,
     "start_time": "2022-08-29T14:31:19.852574",
     "status": "completed"
    },
    "tags": []
   },
   "outputs": [
    {
     "data": {
      "text/plain": [
       "0.0000    0.0\n",
       "0.0001    0.0\n",
       "0.0002    0.0\n",
       "0.0003    0.0\n",
       "0.0004    0.0\n",
       "0.0005    0.0\n",
       "0.0006    0.0\n",
       "0.0007    0.0\n",
       "0.0008    0.0\n",
       "0.0009    0.0\n",
       "dtype: float64"
      ]
     },
     "metadata": {},
     "output_type": "display_data"
    }
   ],
   "source": [
    "display(_corr_mat.quantile(np.arange(0, 0.001, 0.0001)))"
   ]
  },
  {
   "cell_type": "code",
   "execution_count": 53,
   "id": "9c76b62b-be13-4037-a95b-a8c2104055a3",
   "metadata": {
    "execution": {
     "iopub.execute_input": "2022-08-29T14:31:20.174663Z",
     "iopub.status.busy": "2022-08-29T14:31:20.174392Z",
     "iopub.status.idle": "2022-08-29T14:31:20.288515Z",
     "shell.execute_reply": "2022-08-29T14:31:20.287942Z"
    },
    "papermill": {
     "duration": 0.137694,
     "end_time": "2022-08-29T14:31:20.290177",
     "exception": false,
     "start_time": "2022-08-29T14:31:20.152483",
     "status": "completed"
    },
    "tags": []
   },
   "outputs": [
    {
     "data": {
      "text/plain": [
       "0.9990    0.016768\n",
       "0.9991    0.018041\n",
       "0.9992    0.020856\n",
       "0.9993    0.026536\n",
       "0.9994    0.035586\n",
       "0.9995    0.050659\n",
       "0.9996    0.078231\n",
       "0.9997    0.131294\n",
       "0.9998    0.233615\n",
       "0.9999    0.394151\n",
       "1.0000    0.999998\n",
       "dtype: float64"
      ]
     },
     "metadata": {},
     "output_type": "display_data"
    }
   ],
   "source": [
    "display(_corr_mat.quantile(np.arange(0.999, 1.0, 0.0001)))"
   ]
  },
  {
   "cell_type": "markdown",
   "id": "0ed3b3a6-f1ea-4f39-9363-f33b835413d2",
   "metadata": {
    "papermill": {
     "duration": 0.020831,
     "end_time": "2022-08-29T14:31:20.332490",
     "exception": false,
     "start_time": "2022-08-29T14:31:20.311659",
     "status": "completed"
    },
    "tags": []
   },
   "source": [
    "### Plot: distribution"
   ]
  },
  {
   "cell_type": "code",
   "execution_count": 54,
   "id": "8301126b-a7d4-4744-9c7d-f0f86eb6f54c",
   "metadata": {
    "execution": {
     "iopub.execute_input": "2022-08-29T14:31:20.375404Z",
     "iopub.status.busy": "2022-08-29T14:31:20.375132Z",
     "iopub.status.idle": "2022-08-29T14:32:33.014440Z",
     "shell.execute_reply": "2022-08-29T14:32:33.013843Z"
    },
    "papermill": {
     "duration": 72.668911,
     "end_time": "2022-08-29T14:32:33.022210",
     "exception": false,
     "start_time": "2022-08-29T14:31:20.353299",
     "status": "completed"
    },
    "tags": []
   },
   "outputs": [
    {
     "data": {
      "image/png": "[encoded data removed]",
      "text/plain": [
       "<Figure size 504x504 with 1 Axes>"
      ]
     },
     "metadata": {
      "needs_background": "light"
     },
     "output_type": "display_data"
    }
   ],
   "source": [
    "with sns.plotting_context(\"paper\", font_scale=1.5):\n",
    "    g = sns.displot(_corr_mat, kde=True, height=7)\n",
    "    g.ax.set_title(\"Distribution of gene correlation values in all chromosomes\")"
   ]
  },
  {
   "cell_type": "markdown",
   "id": "e209767d-44b8-48a4-ad28-478703a3b5bd",
   "metadata": {
    "papermill": {
     "duration": 0.01972,
     "end_time": "2022-08-29T14:32:33.061807",
     "exception": false,
     "start_time": "2022-08-29T14:32:33.042087",
     "status": "completed"
    },
    "tags": []
   },
   "source": [
    "### Plot: heatmap"
   ]
  },
  {
   "cell_type": "code",
   "execution_count": 55,
   "id": "d03fe63a-c7b2-4fb9-a53c-db362ce843c9",
   "metadata": {
    "execution": {
     "iopub.execute_input": "2022-08-29T14:32:33.102305Z",
     "iopub.status.busy": "2022-08-29T14:32:33.102095Z",
     "iopub.status.idle": "2022-08-29T14:32:33.457669Z",
     "shell.execute_reply": "2022-08-29T14:32:33.457132Z"
    },
    "papermill": {
     "duration": 0.378178,
     "end_time": "2022-08-29T14:32:33.459196",
     "exception": false,
     "start_time": "2022-08-29T14:32:33.081018",
     "status": "completed"
    },
    "tags": []
   },
   "outputs": [
    {
     "data": {
      "text/plain": [
       "'0.0 / 0.05'"
      ]
     },
     "metadata": {},
     "output_type": "display_data"
    }
   ],
   "source": [
    "vmin_val = 0.0\n",
    "vmax_val = max(0.05, _corr_mat.quantile(0.99))\n",
    "display(f\"{vmin_val} / {vmax_val}\")"
   ]
  },
  {
   "cell_type": "code",
   "execution_count": 56,
   "id": "dc41b70b-5bcc-4d9e-9f33-a22c4a94dab5",
   "metadata": {
    "execution": {
     "iopub.execute_input": "2022-08-29T14:32:33.500719Z",
     "iopub.status.busy": "2022-08-29T14:32:33.500519Z",
     "iopub.status.idle": "2022-08-29T14:33:02.407429Z",
     "shell.execute_reply": "2022-08-29T14:33:02.406891Z"
    },
    "papermill": {
     "duration": 28.929256,
     "end_time": "2022-08-29T14:33:02.409104",
     "exception": false,
     "start_time": "2022-08-29T14:32:33.479848",
     "status": "completed"
    },
    "tags": []
   },
   "outputs": [
    {
     "data": {
      "text/plain": [
       "Text(0.5, 1.0, 'Gene correlations in all chromosomes')"
      ]
     },
     "execution_count": 56,
     "metadata": {},
     "output_type": "execute_result"
    },
    {
     "data": {
      "image/png": "[encoded data removed]",
      "text/plain": [
       "<Figure size 720x720 with 2 Axes>"
      ]
     },
     "metadata": {
      "needs_background": "light"
     },
     "output_type": "display_data"
    }
   ],
   "source": [
    "f, ax = plt.subplots(figsize=(10, 10))\n",
    "sns.heatmap(\n",
    "    full_corr_matrix,\n",
    "    xticklabels=False,\n",
    "    yticklabels=False,\n",
    "    square=True,\n",
    "    vmin=vmin_val,\n",
    "    vmax=vmax_val,\n",
    "    cmap=\"rocket_r\",\n",
    "    ax=ax,\n",
    ")\n",
    "ax.set_title(\"Gene correlations in all chromosomes\")"
   ]
  },
  {
   "cell_type": "markdown",
   "id": "5a1b7488-1c3b-4c8b-b619-3b063b3f83c6",
   "metadata": {
    "papermill": {
     "duration": 0.020354,
     "end_time": "2022-08-29T14:33:02.451100",
     "exception": false,
     "start_time": "2022-08-29T14:33:02.430746",
     "status": "completed"
    },
    "tags": []
   },
   "source": [
    "## On nonzero correlations"
   ]
  },
  {
   "cell_type": "code",
   "execution_count": 57,
   "id": "0a07752e-b62f-4f01-af30-847efe9bba54",
   "metadata": {
    "execution": {
     "iopub.execute_input": "2022-08-29T14:33:02.493307Z",
     "iopub.status.busy": "2022-08-29T14:33:02.493095Z",
     "iopub.status.idle": "2022-08-29T14:33:02.552365Z",
     "shell.execute_reply": "2022-08-29T14:33:02.551781Z"
    },
    "papermill": {
     "duration": 0.082778,
     "end_time": "2022-08-29T14:33:02.554344",
     "exception": false,
     "start_time": "2022-08-29T14:33:02.471566",
     "status": "completed"
    },
    "tags": []
   },
   "outputs": [],
   "source": [
    "nonzero_corrs = full_corr_matrix_flat[full_corr_matrix_flat > 0.0]"
   ]
  },
  {
   "cell_type": "code",
   "execution_count": 58,
   "id": "3b509dde-e4ec-4e14-a7d5-09e3fe584027",
   "metadata": {
    "execution": {
     "iopub.execute_input": "2022-08-29T14:33:02.597055Z",
     "iopub.status.busy": "2022-08-29T14:33:02.596851Z",
     "iopub.status.idle": "2022-08-29T14:33:02.615044Z",
     "shell.execute_reply": "2022-08-29T14:33:02.614544Z"
    },
    "papermill": {
     "duration": 0.04115,
     "end_time": "2022-08-29T14:33:02.616636",
     "exception": false,
     "start_time": "2022-08-29T14:33:02.575486",
     "status": "completed"
    },
    "tags": []
   },
   "outputs": [],
   "source": [
    "_corr_mat = nonzero_corrs"
   ]
  },
  {
   "cell_type": "code",
   "execution_count": 59,
   "id": "427cd6b6-411c-4bce-9129-f7e128c9992f",
   "metadata": {
    "execution": {
     "iopub.execute_input": "2022-08-29T14:33:02.660101Z",
     "iopub.status.busy": "2022-08-29T14:33:02.659890Z",
     "iopub.status.idle": "2022-08-29T14:33:02.677410Z",
     "shell.execute_reply": "2022-08-29T14:33:02.676914Z"
    },
    "papermill": {
     "duration": 0.040297,
     "end_time": "2022-08-29T14:33:02.678844",
     "exception": false,
     "start_time": "2022-08-29T14:33:02.638547",
     "status": "completed"
    },
    "tags": []
   },
   "outputs": [
    {
     "data": {
      "text/plain": [
       "(1178737,)"
      ]
     },
     "execution_count": 59,
     "metadata": {},
     "output_type": "execute_result"
    }
   ],
   "source": [
    "_corr_mat.shape"
   ]
  },
  {
   "cell_type": "code",
   "execution_count": 60,
   "id": "684ee3aa-d1bf-4f39-883e-1c9cda28f332",
   "metadata": {
    "execution": {
     "iopub.execute_input": "2022-08-29T14:33:02.720922Z",
     "iopub.status.busy": "2022-08-29T14:33:02.720704Z",
     "iopub.status.idle": "2022-08-29T14:33:02.740024Z",
     "shell.execute_reply": "2022-08-29T14:33:02.739521Z"
    },
    "papermill": {
     "duration": 0.042321,
     "end_time": "2022-08-29T14:33:02.741450",
     "exception": false,
     "start_time": "2022-08-29T14:33:02.699129",
     "status": "completed"
    },
    "tags": []
   },
   "outputs": [
    {
     "data": {
      "text/plain": [
       "ENSG00000188290  ENSG00000188976    0.111648\n",
       "ENSG00000187608  ENSG00000188976    0.187064\n",
       "                 ENSG00000188290    0.760347\n",
       "ENSG00000188157  ENSG00000188976    0.083062\n",
       "                 ENSG00000188290    0.394843\n",
       "dtype: float64"
      ]
     },
     "execution_count": 60,
     "metadata": {},
     "output_type": "execute_result"
    }
   ],
   "source": [
    "_corr_mat.head()"
   ]
  },
  {
   "cell_type": "code",
   "execution_count": 61,
   "id": "87467e53-a225-48f9-86ef-d00978925faa",
   "metadata": {
    "execution": {
     "iopub.execute_input": "2022-08-29T14:33:02.783377Z",
     "iopub.status.busy": "2022-08-29T14:33:02.783181Z",
     "iopub.status.idle": "2022-08-29T14:33:02.845023Z",
     "shell.execute_reply": "2022-08-29T14:33:02.844478Z"
    },
    "papermill": {
     "duration": 0.084591,
     "end_time": "2022-08-29T14:33:02.846537",
     "exception": false,
     "start_time": "2022-08-29T14:33:02.761946",
     "status": "completed"
    },
    "tags": []
   },
   "outputs": [
    {
     "data": {
      "text/plain": [
       "count                1178737.0\n",
       "mean       0.00820751811776982\n",
       "std        0.02832885014689335\n",
       "min      1.772568775271954e-10\n",
       "25%       0.003714199720933738\n",
       "50%       0.005734748989093212\n",
       "75%       0.008064975566496822\n",
       "max          0.999997504222484\n",
       "dtype: object"
      ]
     },
     "execution_count": 61,
     "metadata": {},
     "output_type": "execute_result"
    }
   ],
   "source": [
    "_corr_mat.describe().apply(str)"
   ]
  },
  {
   "cell_type": "code",
   "execution_count": 62,
   "id": "ece1b4b2-1764-4893-bb0e-837f5d1a6677",
   "metadata": {
    "execution": {
     "iopub.execute_input": "2022-08-29T14:33:02.889391Z",
     "iopub.status.busy": "2022-08-29T14:33:02.889184Z",
     "iopub.status.idle": "2022-08-29T14:33:02.945874Z",
     "shell.execute_reply": "2022-08-29T14:33:02.945303Z"
    },
    "papermill": {
     "duration": 0.079625,
     "end_time": "2022-08-29T14:33:02.947377",
     "exception": false,
     "start_time": "2022-08-29T14:33:02.867752",
     "status": "completed"
    },
    "tags": []
   },
   "outputs": [
    {
     "data": {
      "text/plain": [
       "0.00    1.772569e-10\n",
       "0.05    1.447111e-03\n",
       "0.10    2.189793e-03\n",
       "0.15    2.766670e-03\n",
       "0.20    3.265226e-03\n",
       "0.25    3.714200e-03\n",
       "0.30    4.138129e-03\n",
       "0.35    4.542980e-03\n",
       "0.40    4.939697e-03\n",
       "0.45    5.336326e-03\n",
       "0.50    5.734749e-03\n",
       "0.55    6.144733e-03\n",
       "0.60    6.570027e-03\n",
       "0.65    7.028640e-03\n",
       "0.70    7.521298e-03\n",
       "0.75    8.064976e-03\n",
       "0.80    8.697737e-03\n",
       "0.85    9.471247e-03\n",
       "0.90    1.051716e-02\n",
       "0.95    1.232660e-02\n",
       "dtype: float64"
      ]
     },
     "metadata": {},
     "output_type": "display_data"
    }
   ],
   "source": [
    "display(_corr_mat.quantile(np.arange(0, 1, 0.05)))"
   ]
  },
  {
   "cell_type": "code",
   "execution_count": 63,
   "id": "3543f16e-1453-44e5-ab68-0d03450e559b",
   "metadata": {
    "execution": {
     "iopub.execute_input": "2022-08-29T14:33:02.990806Z",
     "iopub.status.busy": "2022-08-29T14:33:02.990599Z",
     "iopub.status.idle": "2022-08-29T14:33:03.025182Z",
     "shell.execute_reply": "2022-08-29T14:33:03.024644Z"
    },
    "papermill": {
     "duration": 0.057736,
     "end_time": "2022-08-29T14:33:03.026678",
     "exception": false,
     "start_time": "2022-08-29T14:33:02.968942",
     "status": "completed"
    },
    "tags": []
   },
   "outputs": [
    {
     "data": {
      "text/plain": [
       "0.0000    1.772569e-10\n",
       "0.0001    1.371594e-06\n",
       "0.0002    4.291697e-06\n",
       "0.0003    8.125969e-06\n",
       "0.0004    1.247485e-05\n",
       "0.0005    1.734465e-05\n",
       "0.0006    2.283266e-05\n",
       "0.0007    2.939597e-05\n",
       "0.0008    3.473010e-05\n",
       "0.0009    3.971736e-05\n",
       "dtype: float64"
      ]
     },
     "metadata": {},
     "output_type": "display_data"
    }
   ],
   "source": [
    "display(_corr_mat.quantile(np.arange(0, 0.001, 0.0001)))"
   ]
  },
  {
   "cell_type": "code",
   "execution_count": 64,
   "id": "bb34d782-9aaa-48ce-b526-8323522166a3",
   "metadata": {
    "execution": {
     "iopub.execute_input": "2022-08-29T14:33:03.071271Z",
     "iopub.status.busy": "2022-08-29T14:33:03.071070Z",
     "iopub.status.idle": "2022-08-29T14:33:03.095955Z",
     "shell.execute_reply": "2022-08-29T14:33:03.095424Z"
    },
    "papermill": {
     "duration": 0.048456,
     "end_time": "2022-08-29T14:33:03.097434",
     "exception": false,
     "start_time": "2022-08-29T14:33:03.048978",
     "status": "completed"
    },
    "tags": []
   },
   "outputs": [
    {
     "data": {
      "text/plain": [
       "0.9990    0.496640\n",
       "0.9991    0.515492\n",
       "0.9992    0.534634\n",
       "0.9993    0.558435\n",
       "0.9994    0.578758\n",
       "0.9995    0.607429\n",
       "0.9996    0.641947\n",
       "0.9997    0.677050\n",
       "0.9998    0.707566\n",
       "0.9999    0.793635\n",
       "1.0000    0.999998\n",
       "dtype: float64"
      ]
     },
     "metadata": {},
     "output_type": "display_data"
    }
   ],
   "source": [
    "display(_corr_mat.quantile(np.arange(0.999, 1.0, 0.0001)))"
   ]
  },
  {
   "cell_type": "markdown",
   "id": "fd4ce75c-e759-48b5-9b2b-584438302fff",
   "metadata": {
    "papermill": {
     "duration": 0.021503,
     "end_time": "2022-08-29T14:33:03.140683",
     "exception": false,
     "start_time": "2022-08-29T14:33:03.119180",
     "status": "completed"
    },
    "tags": []
   },
   "source": [
    "### Plot: distribution"
   ]
  },
  {
   "cell_type": "code",
   "execution_count": 65,
   "id": "7da6aa50-81da-4f75-9d54-4fad6a3fb5a5",
   "metadata": {
    "execution": {
     "iopub.execute_input": "2022-08-29T14:33:03.184398Z",
     "iopub.status.busy": "2022-08-29T14:33:03.184189Z",
     "iopub.status.idle": "2022-08-29T14:33:27.774784Z",
     "shell.execute_reply": "2022-08-29T14:33:27.774154Z"
    },
    "papermill": {
     "duration": 24.614626,
     "end_time": "2022-08-29T14:33:27.776561",
     "exception": false,
     "start_time": "2022-08-29T14:33:03.161935",
     "status": "completed"
    },
    "tags": []
   },
   "outputs": [
    {
     "data": {
      "image/png": "[encoded data removed]",
      "text/plain": [
       "<Figure size 504x504 with 1 Axes>"
      ]
     },
     "metadata": {
      "needs_background": "light"
     },
     "output_type": "display_data"
    }
   ],
   "source": [
    "with sns.plotting_context(\"paper\", font_scale=1.5):\n",
    "    g = sns.displot(_corr_mat, kde=True, height=7)\n",
    "    g.ax.set_title(\"Distribution of gene correlation values in all chromosomes\")"
   ]
  },
  {
   "cell_type": "code",
   "execution_count": null,
   "id": "38cf09b7",
   "metadata": {
    "papermill": {
     "duration": 0.023203,
     "end_time": "2022-08-29T14:33:27.824452",
     "exception": false,
     "start_time": "2022-08-29T14:33:27.801249",
     "status": "completed"
    },
    "tags": []
   },
   "outputs": [],
   "source": []
  }
 ],
 "metadata": {
  "jupytext": {
   "cell_metadata_filter": "all,-execution,-papermill,-trusted",
   "formats": "ipynb,py//py:percent"
  },
  "kernelspec": {
   "display_name": "Python 3 (ipykernel)",
   "language": "python",
   "name": "python3"
  },
  "language_info": {
   "codemirror_mode": {
    "name": "ipython",
    "version": 3
   },
   "file_extension": ".py",
   "mimetype": "text/x-python",
   "name": "python",
   "nbconvert_exporter": "python",
   "pygments_lexer": "ipython3",
   "version": "3.8.13"
  },
  "papermill": {
   "default_parameters": {},
   "duration": 267.862447,
   "end_time": "2022-08-29T14:33:29.124455",
   "environment_variables": {},
   "exception": null,
   "input_path": "nbs/15_gsa_gls/15-postprocess_gene_expr_correlations.ipynb",
   "output_path": "nbs/15_gsa_gls/gene_corrs/cohorts/phenomexcan_other/gtex_v8/mashr/15-postprocess_gene_expr_correlations.run.ipynb",
   "parameters": {
    "COHORT_NAME": "phenomexcan_other",
    "EQTL_MODEL": "MASHR",
    "REFERENCE_PANEL": "GTEX_V8"
   },
   "start_time": "2022-08-29T14:29:01.262008",
   "version": "2.2.2"
  }
 },
 "nbformat": 4,
 "nbformat_minor": 5
}
