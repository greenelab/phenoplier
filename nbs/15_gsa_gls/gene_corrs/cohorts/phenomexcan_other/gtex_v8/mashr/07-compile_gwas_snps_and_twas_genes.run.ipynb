{
 "cells": [
  {
   "cell_type": "markdown",
   "id": "7a6632fb",
   "metadata": {
    "papermill": {
     "duration": 0.019576,
     "end_time": "2022-08-27T04:15:56.454963",
     "exception": false,
     "start_time": "2022-08-27T04:15:56.435387",
     "status": "completed"
    },
    "tags": []
   },
   "source": [
    "# Description"
   ]
  },
  {
   "cell_type": "markdown",
   "id": "7097c346",
   "metadata": {
    "papermill": {
     "duration": 0.018362,
     "end_time": "2022-08-27T04:15:56.491807",
     "exception": false,
     "start_time": "2022-08-27T04:15:56.473445",
     "status": "completed"
    },
    "tags": []
   },
   "source": [
    "(Please, take a look at the README.md file in this directory for instructions on how to run this notebook)\n",
    "\n",
    "This notebook compiles information about the GWAS and TWAS for a particular cohort. For example, the set of GWAS variants, variance of predicted expression of genes, etc.\n",
    "\n",
    "It has specicfic parameters for papermill (see under `Settings` below).\n",
    "\n",
    "This notebook is not directly run. See README.md."
   ]
  },
  {
   "cell_type": "markdown",
   "id": "c61d8427",
   "metadata": {
    "papermill": {
     "duration": 0.019276,
     "end_time": "2022-08-27T04:15:56.529983",
     "exception": false,
     "start_time": "2022-08-27T04:15:56.510707",
     "status": "completed"
    },
    "tags": []
   },
   "source": [
    "# Modules"
   ]
  },
  {
   "cell_type": "code",
   "execution_count": 1,
   "id": "bbc0234f",
   "metadata": {
    "execution": {
     "iopub.execute_input": "2022-08-27T04:15:56.570906Z",
     "iopub.status.busy": "2022-08-27T04:15:56.570597Z",
     "iopub.status.idle": "2022-08-27T04:15:56.588709Z",
     "shell.execute_reply": "2022-08-27T04:15:56.588199Z"
    },
    "papermill": {
     "duration": 0.041934,
     "end_time": "2022-08-27T04:15:56.590603",
     "exception": false,
     "start_time": "2022-08-27T04:15:56.548669",
     "status": "completed"
    },
    "tags": []
   },
   "outputs": [],
   "source": [
    "%load_ext autoreload\n",
    "%autoreload 2"
   ]
  },
  {
   "cell_type": "code",
   "execution_count": 2,
   "id": "1d5f5a59",
   "metadata": {
    "execution": {
     "iopub.execute_input": "2022-08-27T04:15:56.635589Z",
     "iopub.status.busy": "2022-08-27T04:15:56.635333Z",
     "iopub.status.idle": "2022-08-27T04:15:57.326095Z",
     "shell.execute_reply": "2022-08-27T04:15:57.325305Z"
    },
    "papermill": {
     "duration": 0.717097,
     "end_time": "2022-08-27T04:15:57.328230",
     "exception": false,
     "start_time": "2022-08-27T04:15:56.611133",
     "status": "completed"
    },
    "tags": []
   },
   "outputs": [],
   "source": [
    "from pathlib import Path\n",
    "import pickle\n",
    "\n",
    "import numpy as np\n",
    "import pandas as pd\n",
    "\n",
    "import conf\n",
    "from entity import Gene"
   ]
  },
  {
   "cell_type": "markdown",
   "id": "1eac24b5",
   "metadata": {
    "papermill": {
     "duration": 0.018476,
     "end_time": "2022-08-27T04:15:57.365204",
     "exception": false,
     "start_time": "2022-08-27T04:15:57.346728",
     "status": "completed"
    },
    "tags": []
   },
   "source": [
    "# Settings"
   ]
  },
  {
   "cell_type": "code",
   "execution_count": 3,
   "id": "ca4560ba",
   "metadata": {
    "execution": {
     "iopub.execute_input": "2022-08-27T04:15:57.403648Z",
     "iopub.status.busy": "2022-08-27T04:15:57.403382Z",
     "iopub.status.idle": "2022-08-27T04:15:57.420802Z",
     "shell.execute_reply": "2022-08-27T04:15:57.420287Z"
    },
    "papermill": {
     "duration": 0.038921,
     "end_time": "2022-08-27T04:15:57.422434",
     "exception": false,
     "start_time": "2022-08-27T04:15:57.383513",
     "status": "completed"
    },
    "tags": [
     "parameters"
    ]
   },
   "outputs": [],
   "source": [
    "# a cohort name (it could be something like UK_BIOBANK, etc)\n",
    "COHORT_NAME = None\n",
    "\n",
    "# reference panel such as 1000G or GTEX_V8\n",
    "REFERENCE_PANEL = None\n",
    "\n",
    "# predictions models such as MASHR or ELASTIC_NET\n",
    "EQTL_MODEL = None\n",
    "\n",
    "# a string with a path pointing to an imputed GWAS\n",
    "GWAS_FILE = None\n",
    "\n",
    "# a string with a path pointing where S-PrediXcan results (tissue-specific are located\n",
    "SPREDIXCAN_FOLDER = None\n",
    "\n",
    "# an f-string with one placeholder {tissue}\n",
    "SPREDIXCAN_FILE_PATTERN = None\n",
    "\n",
    "# a string with a path pointing to an S-MultiXcan result\n",
    "SMULTIXCAN_FILE = None"
   ]
  },
  {
   "cell_type": "code",
   "execution_count": 4,
   "id": "b4b59e92",
   "metadata": {
    "execution": {
     "iopub.execute_input": "2022-08-27T04:15:57.462209Z",
     "iopub.status.busy": "2022-08-27T04:15:57.461972Z",
     "iopub.status.idle": "2022-08-27T04:15:57.477565Z",
     "shell.execute_reply": "2022-08-27T04:15:57.477072Z"
    },
    "papermill": {
     "duration": 0.03727,
     "end_time": "2022-08-27T04:15:57.479135",
     "exception": false,
     "start_time": "2022-08-27T04:15:57.441865",
     "status": "completed"
    },
    "tags": [
     "injected-parameters"
    ]
   },
   "outputs": [],
   "source": [
    "# Parameters\n",
    "COHORT_NAME = \"phenomexcan_other\"\n",
    "REFERENCE_PANEL = \"GTEX_V8\"\n",
    "EQTL_MODEL = \"MASHR\"\n",
    "GWAS_FILE = \"/project/ritchie20/projects/phenoplier/base/data/phenomexcan/gwas_parsing/full/MAGNETIC_IDL.TG.txt.gz\"\n",
    "SPREDIXCAN_FOLDER = \"/project/ritchie20/projects/phenoplier/base/data/phenomexcan/spredixcan/gtex_gwas/MAGNETIC_IDL.TG/\"\n",
    "SPREDIXCAN_FILE_PATTERN = (\n",
    "    \"spredixcan_igwas_gtexmashrv8_MAGNETIC_IDL.TG__PM__{tissue}.csv\"\n",
    ")\n",
    "SMULTIXCAN_FILE = \"/project/ritchie20/projects/phenoplier/base/data/phenomexcan/smultixcan/gtex_gwas/MAGNETIC_IDL.TG_smultixcan_imputed_gwas_gtexv8mashr_ccn30.txt.gz\"\n"
   ]
  },
  {
   "cell_type": "code",
   "execution_count": 5,
   "id": "8fe24bef",
   "metadata": {
    "execution": {
     "iopub.execute_input": "2022-08-27T04:15:57.517485Z",
     "iopub.status.busy": "2022-08-27T04:15:57.517263Z",
     "iopub.status.idle": "2022-08-27T04:15:57.539292Z",
     "shell.execute_reply": "2022-08-27T04:15:57.538766Z"
    },
    "papermill": {
     "duration": 0.042943,
     "end_time": "2022-08-27T04:15:57.540806",
     "exception": false,
     "start_time": "2022-08-27T04:15:57.497863",
     "status": "completed"
    },
    "tags": []
   },
   "outputs": [
    {
     "data": {
      "text/plain": [
       "'Cohort name: phenomexcan_other'"
      ]
     },
     "metadata": {},
     "output_type": "display_data"
    }
   ],
   "source": [
    "assert COHORT_NAME is not None and len(COHORT_NAME) > 0, \"A cohort name must be given\"\n",
    "\n",
    "COHORT_NAME = COHORT_NAME.lower()\n",
    "display(f\"Cohort name: {COHORT_NAME}\")"
   ]
  },
  {
   "cell_type": "code",
   "execution_count": 6,
   "id": "f53ba19b-0f93-4fa2-a047-63b375939d1a",
   "metadata": {
    "execution": {
     "iopub.execute_input": "2022-08-27T04:15:57.579143Z",
     "iopub.status.busy": "2022-08-27T04:15:57.578922Z",
     "iopub.status.idle": "2022-08-27T04:15:57.595569Z",
     "shell.execute_reply": "2022-08-27T04:15:57.595071Z"
    },
    "papermill": {
     "duration": 0.037569,
     "end_time": "2022-08-27T04:15:57.597045",
     "exception": false,
     "start_time": "2022-08-27T04:15:57.559476",
     "status": "completed"
    },
    "tags": []
   },
   "outputs": [
    {
     "data": {
      "text/plain": [
       "'Reference panel: GTEX_V8'"
      ]
     },
     "metadata": {},
     "output_type": "display_data"
    }
   ],
   "source": [
    "assert (\n",
    "    REFERENCE_PANEL is not None and len(REFERENCE_PANEL) > 0\n",
    "), \"A reference panel must be given\"\n",
    "\n",
    "display(f\"Reference panel: {REFERENCE_PANEL}\")"
   ]
  },
  {
   "cell_type": "code",
   "execution_count": 7,
   "id": "7a970044-2d34-4e5b-a850-eff44079afe8",
   "metadata": {
    "execution": {
     "iopub.execute_input": "2022-08-27T04:15:57.636246Z",
     "iopub.status.busy": "2022-08-27T04:15:57.635994Z",
     "iopub.status.idle": "2022-08-27T04:15:57.653800Z",
     "shell.execute_reply": "2022-08-27T04:15:57.653274Z"
    },
    "papermill": {
     "duration": 0.038841,
     "end_time": "2022-08-27T04:15:57.655274",
     "exception": false,
     "start_time": "2022-08-27T04:15:57.616433",
     "status": "completed"
    },
    "tags": []
   },
   "outputs": [
    {
     "data": {
      "text/plain": [
       "'GWAS file path: /project/ritchie20/projects/phenoplier/base/data/phenomexcan/gwas_parsing/full/MAGNETIC_IDL.TG.txt.gz'"
      ]
     },
     "metadata": {},
     "output_type": "display_data"
    }
   ],
   "source": [
    "assert GWAS_FILE is not None and len(GWAS_FILE) > 0, \"A GWAS file path must be given\"\n",
    "GWAS_FILE = Path(GWAS_FILE).resolve()\n",
    "assert GWAS_FILE.exists(), \"GWAS file does not exist\"\n",
    "\n",
    "display(f\"GWAS file path: {str(GWAS_FILE)}\")"
   ]
  },
  {
   "cell_type": "code",
   "execution_count": 8,
   "id": "552a7f63-a18c-4d3e-bb6a-94f99b431291",
   "metadata": {
    "execution": {
     "iopub.execute_input": "2022-08-27T04:15:57.694227Z",
     "iopub.status.busy": "2022-08-27T04:15:57.694016Z",
     "iopub.status.idle": "2022-08-27T04:15:57.711469Z",
     "shell.execute_reply": "2022-08-27T04:15:57.710973Z"
    },
    "papermill": {
     "duration": 0.038582,
     "end_time": "2022-08-27T04:15:57.712934",
     "exception": false,
     "start_time": "2022-08-27T04:15:57.674352",
     "status": "completed"
    },
    "tags": []
   },
   "outputs": [
    {
     "data": {
      "text/plain": [
       "'S-PrediXcan folder path: /project/ritchie20/projects/phenoplier/base/data/phenomexcan/spredixcan/gtex_gwas/MAGNETIC_IDL.TG'"
      ]
     },
     "metadata": {},
     "output_type": "display_data"
    }
   ],
   "source": [
    "assert (\n",
    "    SPREDIXCAN_FOLDER is not None and len(SPREDIXCAN_FOLDER) > 0\n",
    "), \"An S-PrediXcan folder path must be given\"\n",
    "SPREDIXCAN_FOLDER = Path(SPREDIXCAN_FOLDER).resolve()\n",
    "assert SPREDIXCAN_FOLDER.exists(), \"S-PrediXcan folder does not exist\"\n",
    "\n",
    "display(f\"S-PrediXcan folder path: {str(SPREDIXCAN_FOLDER)}\")"
   ]
  },
  {
   "cell_type": "code",
   "execution_count": 9,
   "id": "6e2000dc-f1dc-4db8-93d5-9a7209a2e121",
   "metadata": {
    "execution": {
     "iopub.execute_input": "2022-08-27T04:15:57.752748Z",
     "iopub.status.busy": "2022-08-27T04:15:57.752507Z",
     "iopub.status.idle": "2022-08-27T04:15:57.769372Z",
     "shell.execute_reply": "2022-08-27T04:15:57.768875Z"
    },
    "papermill": {
     "duration": 0.038436,
     "end_time": "2022-08-27T04:15:57.770833",
     "exception": false,
     "start_time": "2022-08-27T04:15:57.732397",
     "status": "completed"
    },
    "tags": []
   },
   "outputs": [
    {
     "data": {
      "text/plain": [
       "'S-PrediXcan file template: spredixcan_igwas_gtexmashrv8_MAGNETIC_IDL.TG__PM__{tissue}.csv'"
      ]
     },
     "metadata": {},
     "output_type": "display_data"
    }
   ],
   "source": [
    "assert (\n",
    "    SPREDIXCAN_FILE_PATTERN is not None and len(SPREDIXCAN_FILE_PATTERN) > 0\n",
    "), \"An S-PrediXcan file pattern must be given\"\n",
    "assert (\n",
    "    \"{tissue}\" in SPREDIXCAN_FILE_PATTERN\n",
    "), \"S-PrediXcan file pattern must have a '{tissue}' placeholder\"\n",
    "\n",
    "display(f\"S-PrediXcan file template: {SPREDIXCAN_FILE_PATTERN}\")"
   ]
  },
  {
   "cell_type": "code",
   "execution_count": 10,
   "id": "f5a5aa9d-c6f3-4fb5-9351-37382b6e67bc",
   "metadata": {
    "execution": {
     "iopub.execute_input": "2022-08-27T04:15:57.822868Z",
     "iopub.status.busy": "2022-08-27T04:15:57.822613Z",
     "iopub.status.idle": "2022-08-27T04:15:57.840631Z",
     "shell.execute_reply": "2022-08-27T04:15:57.840098Z"
    },
    "papermill": {
     "duration": 0.041118,
     "end_time": "2022-08-27T04:15:57.842200",
     "exception": false,
     "start_time": "2022-08-27T04:15:57.801082",
     "status": "completed"
    },
    "tags": []
   },
   "outputs": [
    {
     "data": {
      "text/plain": [
       "'S-MultiXcan file path: /project/ritchie20/projects/phenoplier/base/data/phenomexcan/smultixcan/gtex_gwas/MAGNETIC_IDL.TG_smultixcan_imputed_gwas_gtexv8mashr_ccn30.txt.gz'"
      ]
     },
     "metadata": {},
     "output_type": "display_data"
    }
   ],
   "source": [
    "assert (\n",
    "    SMULTIXCAN_FILE is not None and len(SMULTIXCAN_FILE) > 0\n",
    "), \"An S-MultiXcan result file path must be given\"\n",
    "SMULTIXCAN_FILE = Path(SMULTIXCAN_FILE).resolve()\n",
    "assert SMULTIXCAN_FILE.exists(), \"S-MultiXcan result file does not exist\"\n",
    "\n",
    "display(f\"S-MultiXcan file path: {str(SMULTIXCAN_FILE)}\")"
   ]
  },
  {
   "cell_type": "code",
   "execution_count": 11,
   "id": "0723dc2f-34d1-407c-a55b-d6d13c55d63d",
   "metadata": {
    "execution": {
     "iopub.execute_input": "2022-08-27T04:15:57.881746Z",
     "iopub.status.busy": "2022-08-27T04:15:57.881522Z",
     "iopub.status.idle": "2022-08-27T04:15:57.898051Z",
     "shell.execute_reply": "2022-08-27T04:15:57.897510Z"
    },
    "papermill": {
     "duration": 0.037626,
     "end_time": "2022-08-27T04:15:57.899498",
     "exception": false,
     "start_time": "2022-08-27T04:15:57.861872",
     "status": "completed"
    },
    "tags": []
   },
   "outputs": [
    {
     "data": {
      "text/plain": [
       "'eQTL model: MASHR'"
      ]
     },
     "metadata": {},
     "output_type": "display_data"
    }
   ],
   "source": [
    "assert (\n",
    "    EQTL_MODEL is not None and len(EQTL_MODEL) > 0\n",
    "), \"A prediction/eQTL model must be given\"\n",
    "\n",
    "display(f\"eQTL model: {EQTL_MODEL}\")"
   ]
  },
  {
   "cell_type": "code",
   "execution_count": 12,
   "id": "396392dc-0340-4540-9b02-e182b833f909",
   "metadata": {
    "execution": {
     "iopub.execute_input": "2022-08-27T04:15:57.939624Z",
     "iopub.status.busy": "2022-08-27T04:15:57.939390Z",
     "iopub.status.idle": "2022-08-27T04:15:57.959102Z",
     "shell.execute_reply": "2022-08-27T04:15:57.958561Z"
    },
    "papermill": {
     "duration": 0.042097,
     "end_time": "2022-08-27T04:15:57.960561",
     "exception": false,
     "start_time": "2022-08-27T04:15:57.918464",
     "status": "completed"
    },
    "tags": []
   },
   "outputs": [
    {
     "data": {
      "text/plain": [
       "'Using output dir base: /project/ritchie20/projects/phenoplier/base/results/gls/gene_corrs/cohorts/phenomexcan_other/gtex_v8/mashr'"
      ]
     },
     "metadata": {},
     "output_type": "display_data"
    }
   ],
   "source": [
    "OUTPUT_DIR_BASE = (\n",
    "    conf.RESULTS[\"GLS\"]\n",
    "    / \"gene_corrs\"\n",
    "    / \"cohorts\"\n",
    "    / COHORT_NAME\n",
    "    / REFERENCE_PANEL.lower()\n",
    "    / EQTL_MODEL.lower()\n",
    ")\n",
    "\n",
    "OUTPUT_DIR_BASE.mkdir(parents=True, exist_ok=True)\n",
    "\n",
    "display(f\"Using output dir base: {OUTPUT_DIR_BASE}\")"
   ]
  },
  {
   "cell_type": "markdown",
   "id": "b6ebb422-8204-494b-8c72-360a71ce9863",
   "metadata": {
    "papermill": {
     "duration": 0.01948,
     "end_time": "2022-08-27T04:15:57.999717",
     "exception": false,
     "start_time": "2022-08-27T04:15:57.980237",
     "status": "completed"
    },
    "tags": []
   },
   "source": [
    "# Load MultiPLIER Z genes"
   ]
  },
  {
   "cell_type": "code",
   "execution_count": 13,
   "id": "c48ef527",
   "metadata": {
    "execution": {
     "iopub.execute_input": "2022-08-27T04:15:58.038871Z",
     "iopub.status.busy": "2022-08-27T04:15:58.038592Z",
     "iopub.status.idle": "2022-08-27T04:15:58.076801Z",
     "shell.execute_reply": "2022-08-27T04:15:58.076228Z"
    },
    "papermill": {
     "duration": 0.059834,
     "end_time": "2022-08-27T04:15:58.078680",
     "exception": false,
     "start_time": "2022-08-27T04:15:58.018846",
     "status": "completed"
    },
    "tags": []
   },
   "outputs": [],
   "source": [
    "multiplier_z_genes = pd.read_pickle(\n",
    "    conf.MULTIPLIER[\"MODEL_Z_MATRIX_FILE\"]\n",
    ").index.tolist()"
   ]
  },
  {
   "cell_type": "code",
   "execution_count": 14,
   "id": "0a4ecbd9",
   "metadata": {
    "execution": {
     "iopub.execute_input": "2022-08-27T04:15:58.118680Z",
     "iopub.status.busy": "2022-08-27T04:15:58.118467Z",
     "iopub.status.idle": "2022-08-27T04:15:58.135324Z",
     "shell.execute_reply": "2022-08-27T04:15:58.134822Z"
    },
    "papermill": {
     "duration": 0.038256,
     "end_time": "2022-08-27T04:15:58.136795",
     "exception": false,
     "start_time": "2022-08-27T04:15:58.098539",
     "status": "completed"
    },
    "tags": []
   },
   "outputs": [
    {
     "data": {
      "text/plain": [
       "6750"
      ]
     },
     "execution_count": 14,
     "metadata": {},
     "output_type": "execute_result"
    }
   ],
   "source": [
    "len(multiplier_z_genes)"
   ]
  },
  {
   "cell_type": "code",
   "execution_count": 15,
   "id": "a18ce359-0759-4260-ae6f-053e8c0041b7",
   "metadata": {
    "execution": {
     "iopub.execute_input": "2022-08-27T04:15:58.176705Z",
     "iopub.status.busy": "2022-08-27T04:15:58.176475Z",
     "iopub.status.idle": "2022-08-27T04:15:58.212343Z",
     "shell.execute_reply": "2022-08-27T04:15:58.211841Z"
    },
    "papermill": {
     "duration": 0.057918,
     "end_time": "2022-08-27T04:15:58.213950",
     "exception": false,
     "start_time": "2022-08-27T04:15:58.156032",
     "status": "completed"
    },
    "tags": []
   },
   "outputs": [],
   "source": [
    "assert len(multiplier_z_genes) == len(set(multiplier_z_genes))"
   ]
  },
  {
   "cell_type": "code",
   "execution_count": 16,
   "id": "115e8864",
   "metadata": {
    "execution": {
     "iopub.execute_input": "2022-08-27T04:15:58.254821Z",
     "iopub.status.busy": "2022-08-27T04:15:58.254565Z",
     "iopub.status.idle": "2022-08-27T04:15:58.271969Z",
     "shell.execute_reply": "2022-08-27T04:15:58.271446Z"
    },
    "papermill": {
     "duration": 0.039745,
     "end_time": "2022-08-27T04:15:58.273489",
     "exception": false,
     "start_time": "2022-08-27T04:15:58.233744",
     "status": "completed"
    },
    "tags": []
   },
   "outputs": [
    {
     "data": {
      "text/plain": [
       "['GAS6', 'MMP14', 'DSP', 'MARCKSL1', 'SPARC']"
      ]
     },
     "execution_count": 16,
     "metadata": {},
     "output_type": "execute_result"
    }
   ],
   "source": [
    "multiplier_z_genes[:5]"
   ]
  },
  {
   "cell_type": "markdown",
   "id": "7bed0ce0-e7c7-4300-9a61-5412450b1904",
   "metadata": {
    "papermill": {
     "duration": 0.020185,
     "end_time": "2022-08-27T04:15:58.314282",
     "exception": false,
     "start_time": "2022-08-27T04:15:58.294097",
     "status": "completed"
    },
    "tags": []
   },
   "source": [
    "# GWAS"
   ]
  },
  {
   "cell_type": "code",
   "execution_count": 17,
   "id": "331e5691-c014-43e4-b94c-060c64d329df",
   "metadata": {
    "execution": {
     "iopub.execute_input": "2022-08-27T04:15:58.355494Z",
     "iopub.status.busy": "2022-08-27T04:15:58.355247Z",
     "iopub.status.idle": "2022-08-27T04:15:58.396633Z",
     "shell.execute_reply": "2022-08-27T04:15:58.396048Z"
    },
    "papermill": {
     "duration": 0.064178,
     "end_time": "2022-08-27T04:15:58.398567",
     "exception": false,
     "start_time": "2022-08-27T04:15:58.334389",
     "status": "completed"
    },
    "tags": []
   },
   "outputs": [],
   "source": [
    "gwas_file_columns = pd.read_csv(GWAS_FILE, sep=\"\\t\", nrows=2).columns\n",
    "assert (\n",
    "    \"panel_variant_id\" in gwas_file_columns\n",
    "), \"GWAS file must be final imputed one with column 'panel_variant_id'\"\n",
    "# FIXME: add other needed columns here"
   ]
  },
  {
   "cell_type": "code",
   "execution_count": 18,
   "id": "8d419629-8f4d-4c83-bed3-cfc071a58090",
   "metadata": {
    "execution": {
     "iopub.execute_input": "2022-08-27T04:15:58.441545Z",
     "iopub.status.busy": "2022-08-27T04:15:58.441299Z",
     "iopub.status.idle": "2022-08-27T04:16:13.594362Z",
     "shell.execute_reply": "2022-08-27T04:16:13.593495Z"
    },
    "papermill": {
     "duration": 15.176978,
     "end_time": "2022-08-27T04:16:13.596426",
     "exception": false,
     "start_time": "2022-08-27T04:15:58.419448",
     "status": "completed"
    },
    "tags": []
   },
   "outputs": [],
   "source": [
    "gwas_data = pd.read_csv(\n",
    "    GWAS_FILE,\n",
    "    sep=\"\\t\",\n",
    "    usecols=[\"panel_variant_id\", \"pvalue\", \"zscore\"],\n",
    ")"
   ]
  },
  {
   "cell_type": "code",
   "execution_count": 19,
   "id": "3f4e814e-6b41-407e-9099-86795eec6ed9",
   "metadata": {
    "execution": {
     "iopub.execute_input": "2022-08-27T04:16:13.642442Z",
     "iopub.status.busy": "2022-08-27T04:16:13.642165Z",
     "iopub.status.idle": "2022-08-27T04:16:13.662912Z",
     "shell.execute_reply": "2022-08-27T04:16:13.662356Z"
    },
    "papermill": {
     "duration": 0.045483,
     "end_time": "2022-08-27T04:16:13.664468",
     "exception": false,
     "start_time": "2022-08-27T04:16:13.618985",
     "status": "completed"
    },
    "tags": []
   },
   "outputs": [
    {
     "data": {
      "text/plain": [
       "(8865800, 3)"
      ]
     },
     "execution_count": 19,
     "metadata": {},
     "output_type": "execute_result"
    }
   ],
   "source": [
    "gwas_data.shape"
   ]
  },
  {
   "cell_type": "code",
   "execution_count": 20,
   "id": "b4a906e9-c80a-47fc-9d73-5adb046f8b76",
   "metadata": {
    "execution": {
     "iopub.execute_input": "2022-08-27T04:16:13.709628Z",
     "iopub.status.busy": "2022-08-27T04:16:13.709363Z",
     "iopub.status.idle": "2022-08-27T04:16:13.733825Z",
     "shell.execute_reply": "2022-08-27T04:16:13.733243Z"
    },
    "papermill": {
     "duration": 0.049233,
     "end_time": "2022-08-27T04:16:13.735453",
     "exception": false,
     "start_time": "2022-08-27T04:16:13.686220",
     "status": "completed"
    },
    "tags": []
   },
   "outputs": [
    {
     "data": {
      "text/html": [
       "<div>\n",
       "<style scoped>\n",
       "    .dataframe tbody tr th:only-of-type {\n",
       "        vertical-align: middle;\n",
       "    }\n",
       "\n",
       "    .dataframe tbody tr th {\n",
       "        vertical-align: top;\n",
       "    }\n",
       "\n",
       "    .dataframe thead th {\n",
       "        text-align: right;\n",
       "    }\n",
       "</style>\n",
       "<table border=\"1\" class=\"dataframe\">\n",
       "  <thead>\n",
       "    <tr style=\"text-align: right;\">\n",
       "      <th></th>\n",
       "      <th>panel_variant_id</th>\n",
       "      <th>zscore</th>\n",
       "      <th>pvalue</th>\n",
       "    </tr>\n",
       "  </thead>\n",
       "  <tbody>\n",
       "    <tr>\n",
       "      <th>0</th>\n",
       "      <td>chr1_13550_G_A_b38</td>\n",
       "      <td>0.165489</td>\n",
       "      <td>0.868559</td>\n",
       "    </tr>\n",
       "    <tr>\n",
       "      <th>1</th>\n",
       "      <td>chr1_14671_G_C_b38</td>\n",
       "      <td>0.116730</td>\n",
       "      <td>0.907074</td>\n",
       "    </tr>\n",
       "    <tr>\n",
       "      <th>2</th>\n",
       "      <td>chr1_14677_G_A_b38</td>\n",
       "      <td>1.021063</td>\n",
       "      <td>0.307225</td>\n",
       "    </tr>\n",
       "    <tr>\n",
       "      <th>3</th>\n",
       "      <td>chr1_14933_G_A_b38</td>\n",
       "      <td>-0.743508</td>\n",
       "      <td>0.457174</td>\n",
       "    </tr>\n",
       "    <tr>\n",
       "      <th>4</th>\n",
       "      <td>chr1_16841_G_T_b38</td>\n",
       "      <td>0.734379</td>\n",
       "      <td>0.462718</td>\n",
       "    </tr>\n",
       "  </tbody>\n",
       "</table>\n",
       "</div>"
      ],
      "text/plain": [
       "     panel_variant_id    zscore    pvalue\n",
       "0  chr1_13550_G_A_b38  0.165489  0.868559\n",
       "1  chr1_14671_G_C_b38  0.116730  0.907074\n",
       "2  chr1_14677_G_A_b38  1.021063  0.307225\n",
       "3  chr1_14933_G_A_b38 -0.743508  0.457174\n",
       "4  chr1_16841_G_T_b38  0.734379  0.462718"
      ]
     },
     "execution_count": 20,
     "metadata": {},
     "output_type": "execute_result"
    }
   ],
   "source": [
    "gwas_data.head()"
   ]
  },
  {
   "cell_type": "code",
   "execution_count": 21,
   "id": "033c24fb-9c60-4ffd-929e-b0e6089820ae",
   "metadata": {
    "execution": {
     "iopub.execute_input": "2022-08-27T04:16:13.781365Z",
     "iopub.status.busy": "2022-08-27T04:16:13.781100Z",
     "iopub.status.idle": "2022-08-27T04:16:14.572312Z",
     "shell.execute_reply": "2022-08-27T04:16:14.571763Z"
    },
    "papermill": {
     "duration": 0.815751,
     "end_time": "2022-08-27T04:16:14.573930",
     "exception": false,
     "start_time": "2022-08-27T04:16:13.758179",
     "status": "completed"
    },
    "tags": []
   },
   "outputs": [
    {
     "data": {
      "text/plain": [
       "(8865800, 3)"
      ]
     },
     "execution_count": 21,
     "metadata": {},
     "output_type": "execute_result"
    }
   ],
   "source": [
    "gwas_data.dropna().shape"
   ]
  },
  {
   "cell_type": "code",
   "execution_count": 22,
   "id": "28232ce5-0afd-464e-9be3-64c3a68c2b25",
   "metadata": {
    "execution": {
     "iopub.execute_input": "2022-08-27T04:16:14.619836Z",
     "iopub.status.busy": "2022-08-27T04:16:14.619560Z",
     "iopub.status.idle": "2022-08-27T04:16:15.301962Z",
     "shell.execute_reply": "2022-08-27T04:16:15.301344Z"
    },
    "papermill": {
     "duration": 0.707563,
     "end_time": "2022-08-27T04:16:15.303978",
     "exception": false,
     "start_time": "2022-08-27T04:16:14.596415",
     "status": "completed"
    },
    "tags": []
   },
   "outputs": [],
   "source": [
    "# remove SNPs with no results\n",
    "gwas_data = gwas_data.dropna()"
   ]
  },
  {
   "cell_type": "code",
   "execution_count": 23,
   "id": "d9a6c31f-eedd-43e5-b762-5a9663be1b77",
   "metadata": {
    "execution": {
     "iopub.execute_input": "2022-08-27T04:16:15.350658Z",
     "iopub.status.busy": "2022-08-27T04:16:15.350369Z",
     "iopub.status.idle": "2022-08-27T04:16:15.368230Z",
     "shell.execute_reply": "2022-08-27T04:16:15.367680Z"
    },
    "papermill": {
     "duration": 0.042178,
     "end_time": "2022-08-27T04:16:15.369800",
     "exception": false,
     "start_time": "2022-08-27T04:16:15.327622",
     "status": "completed"
    },
    "tags": []
   },
   "outputs": [
    {
     "data": {
      "text/plain": [
       "(8865800, 3)"
      ]
     },
     "execution_count": 23,
     "metadata": {},
     "output_type": "execute_result"
    }
   ],
   "source": [
    "gwas_data.shape"
   ]
  },
  {
   "cell_type": "markdown",
   "id": "8da344de-2aa5-48a9-98ec-e8c3397ae7e6",
   "metadata": {
    "papermill": {
     "duration": 0.022724,
     "end_time": "2022-08-27T04:16:15.413930",
     "exception": false,
     "start_time": "2022-08-27T04:16:15.391206",
     "status": "completed"
    },
    "tags": []
   },
   "source": [
    "## Save GWAS variants"
   ]
  },
  {
   "cell_type": "code",
   "execution_count": 24,
   "id": "ac11fb33-ea3c-4d5c-a90b-0ceebdac43d3",
   "metadata": {
    "execution": {
     "iopub.execute_input": "2022-08-27T04:16:15.460180Z",
     "iopub.status.busy": "2022-08-27T04:16:15.459907Z",
     "iopub.status.idle": "2022-08-27T04:16:15.481294Z",
     "shell.execute_reply": "2022-08-27T04:16:15.480766Z"
    },
    "papermill": {
     "duration": 0.046455,
     "end_time": "2022-08-27T04:16:15.482878",
     "exception": false,
     "start_time": "2022-08-27T04:16:15.436423",
     "status": "completed"
    },
    "tags": []
   },
   "outputs": [
    {
     "data": {
      "text/html": [
       "<div>\n",
       "<style scoped>\n",
       "    .dataframe tbody tr th:only-of-type {\n",
       "        vertical-align: middle;\n",
       "    }\n",
       "\n",
       "    .dataframe tbody tr th {\n",
       "        vertical-align: top;\n",
       "    }\n",
       "\n",
       "    .dataframe thead th {\n",
       "        text-align: right;\n",
       "    }\n",
       "</style>\n",
       "<table border=\"1\" class=\"dataframe\">\n",
       "  <thead>\n",
       "    <tr style=\"text-align: right;\">\n",
       "      <th></th>\n",
       "      <th>panel_variant_id</th>\n",
       "      <th>zscore</th>\n",
       "      <th>pvalue</th>\n",
       "    </tr>\n",
       "  </thead>\n",
       "  <tbody>\n",
       "    <tr>\n",
       "      <th>0</th>\n",
       "      <td>chr1_13550_G_A_b38</td>\n",
       "      <td>0.165489</td>\n",
       "      <td>0.868559</td>\n",
       "    </tr>\n",
       "    <tr>\n",
       "      <th>1</th>\n",
       "      <td>chr1_14671_G_C_b38</td>\n",
       "      <td>0.116730</td>\n",
       "      <td>0.907074</td>\n",
       "    </tr>\n",
       "    <tr>\n",
       "      <th>2</th>\n",
       "      <td>chr1_14677_G_A_b38</td>\n",
       "      <td>1.021063</td>\n",
       "      <td>0.307225</td>\n",
       "    </tr>\n",
       "    <tr>\n",
       "      <th>3</th>\n",
       "      <td>chr1_14933_G_A_b38</td>\n",
       "      <td>-0.743508</td>\n",
       "      <td>0.457174</td>\n",
       "    </tr>\n",
       "    <tr>\n",
       "      <th>4</th>\n",
       "      <td>chr1_16841_G_T_b38</td>\n",
       "      <td>0.734379</td>\n",
       "      <td>0.462718</td>\n",
       "    </tr>\n",
       "  </tbody>\n",
       "</table>\n",
       "</div>"
      ],
      "text/plain": [
       "     panel_variant_id    zscore    pvalue\n",
       "0  chr1_13550_G_A_b38  0.165489  0.868559\n",
       "1  chr1_14671_G_C_b38  0.116730  0.907074\n",
       "2  chr1_14677_G_A_b38  1.021063  0.307225\n",
       "3  chr1_14933_G_A_b38 -0.743508  0.457174\n",
       "4  chr1_16841_G_T_b38  0.734379  0.462718"
      ]
     },
     "execution_count": 24,
     "metadata": {},
     "output_type": "execute_result"
    }
   ],
   "source": [
    "gwas_data.head()"
   ]
  },
  {
   "cell_type": "code",
   "execution_count": 25,
   "id": "5f34bb3d-761a-4860-a179-77ea5f5784ad",
   "metadata": {
    "execution": {
     "iopub.execute_input": "2022-08-27T04:16:15.528270Z",
     "iopub.status.busy": "2022-08-27T04:16:15.527983Z",
     "iopub.status.idle": "2022-08-27T04:16:19.892683Z",
     "shell.execute_reply": "2022-08-27T04:16:19.892082Z"
    },
    "papermill": {
     "duration": 4.389517,
     "end_time": "2022-08-27T04:16:19.894656",
     "exception": false,
     "start_time": "2022-08-27T04:16:15.505139",
     "status": "completed"
    },
    "tags": []
   },
   "outputs": [],
   "source": [
    "assert gwas_data[\"panel_variant_id\"].is_unique"
   ]
  },
  {
   "cell_type": "code",
   "execution_count": 26,
   "id": "d4f23b2f-01a3-4a45-a2b6-31b245b5778e",
   "metadata": {
    "execution": {
     "iopub.execute_input": "2022-08-27T04:16:19.942012Z",
     "iopub.status.busy": "2022-08-27T04:16:19.941744Z",
     "iopub.status.idle": "2022-08-27T04:16:22.663562Z",
     "shell.execute_reply": "2022-08-27T04:16:22.662931Z"
    },
    "papermill": {
     "duration": 2.747198,
     "end_time": "2022-08-27T04:16:22.665267",
     "exception": false,
     "start_time": "2022-08-27T04:16:19.918069",
     "status": "completed"
    },
    "tags": []
   },
   "outputs": [
    {
     "data": {
      "text/plain": [
       "['chr8_72128927_C_A_b38',\n",
       " 'chr8_5194038_T_C_b38',\n",
       " 'chr12_41618615_T_TG_b38',\n",
       " 'chr8_22423950_C_T_b38',\n",
       " 'chr1_175935173_A_T_b38']"
      ]
     },
     "execution_count": 26,
     "metadata": {},
     "output_type": "execute_result"
    }
   ],
   "source": [
    "gwas_variants_ids_set = frozenset(gwas_data[\"panel_variant_id\"])\n",
    "list(gwas_variants_ids_set)[:5]"
   ]
  },
  {
   "cell_type": "code",
   "execution_count": 27,
   "id": "b4a441df-07d7-48dc-be36-cdb3f92be651",
   "metadata": {
    "execution": {
     "iopub.execute_input": "2022-08-27T04:16:22.710348Z",
     "iopub.status.busy": "2022-08-27T04:16:22.710091Z",
     "iopub.status.idle": "2022-08-27T04:16:25.873231Z",
     "shell.execute_reply": "2022-08-27T04:16:25.872635Z"
    },
    "papermill": {
     "duration": 3.18778,
     "end_time": "2022-08-27T04:16:25.875225",
     "exception": false,
     "start_time": "2022-08-27T04:16:22.687445",
     "status": "completed"
    },
    "tags": []
   },
   "outputs": [],
   "source": [
    "with open(OUTPUT_DIR_BASE / \"gwas_variant_ids.pkl\", \"wb\") as handle:\n",
    "    pickle.dump(gwas_variants_ids_set, handle, protocol=pickle.HIGHEST_PROTOCOL)"
   ]
  },
  {
   "cell_type": "markdown",
   "id": "abcc4b3d",
   "metadata": {
    "papermill": {
     "duration": 0.02285,
     "end_time": "2022-08-27T04:16:25.921778",
     "exception": false,
     "start_time": "2022-08-27T04:16:25.898928",
     "status": "completed"
    },
    "tags": []
   },
   "source": [
    "# TWAS"
   ]
  },
  {
   "cell_type": "markdown",
   "id": "2fbc7358-0563-4fc6-bc47-a0fbcc5cdfd4",
   "metadata": {
    "papermill": {
     "duration": 0.022848,
     "end_time": "2022-08-27T04:16:25.968006",
     "exception": false,
     "start_time": "2022-08-27T04:16:25.945158",
     "status": "completed"
    },
    "tags": []
   },
   "source": [
    "## Available tissues for eQTL model"
   ]
  },
  {
   "cell_type": "code",
   "execution_count": 28,
   "id": "f32c0a84-030a-436b-b597-852b6150d2ac",
   "metadata": {
    "execution": {
     "iopub.execute_input": "2022-08-27T04:16:26.013340Z",
     "iopub.status.busy": "2022-08-27T04:16:26.013060Z",
     "iopub.status.idle": "2022-08-27T04:16:26.029480Z",
     "shell.execute_reply": "2022-08-27T04:16:26.028891Z"
    },
    "papermill": {
     "duration": 0.04101,
     "end_time": "2022-08-27T04:16:26.031182",
     "exception": false,
     "start_time": "2022-08-27T04:16:25.990172",
     "status": "completed"
    },
    "tags": []
   },
   "outputs": [],
   "source": [
    "prediction_model_tissues = conf.PHENOMEXCAN[\"PREDICTION_MODELS\"][\n",
    "    f\"{EQTL_MODEL}_TISSUES\"\n",
    "].split(\" \")"
   ]
  },
  {
   "cell_type": "code",
   "execution_count": 29,
   "id": "0e760d0e-f23d-4590-abfb-811a43f7c237",
   "metadata": {
    "execution": {
     "iopub.execute_input": "2022-08-27T04:16:26.077719Z",
     "iopub.status.busy": "2022-08-27T04:16:26.077452Z",
     "iopub.status.idle": "2022-08-27T04:16:26.096227Z",
     "shell.execute_reply": "2022-08-27T04:16:26.095642Z"
    },
    "papermill": {
     "duration": 0.044795,
     "end_time": "2022-08-27T04:16:26.097948",
     "exception": false,
     "start_time": "2022-08-27T04:16:26.053153",
     "status": "completed"
    },
    "tags": []
   },
   "outputs": [
    {
     "data": {
      "text/plain": [
       "49"
      ]
     },
     "execution_count": 29,
     "metadata": {},
     "output_type": "execute_result"
    }
   ],
   "source": [
    "len(prediction_model_tissues)"
   ]
  },
  {
   "cell_type": "code",
   "execution_count": 30,
   "id": "fa4d942c-cd67-4b31-9491-585c887c0ee3",
   "metadata": {
    "execution": {
     "iopub.execute_input": "2022-08-27T04:16:26.143911Z",
     "iopub.status.busy": "2022-08-27T04:16:26.143647Z",
     "iopub.status.idle": "2022-08-27T04:16:26.161277Z",
     "shell.execute_reply": "2022-08-27T04:16:26.160756Z"
    },
    "papermill": {
     "duration": 0.042426,
     "end_time": "2022-08-27T04:16:26.162846",
     "exception": false,
     "start_time": "2022-08-27T04:16:26.120420",
     "status": "completed"
    },
    "tags": []
   },
   "outputs": [
    {
     "data": {
      "text/plain": [
       "['Whole_Blood',\n",
       " 'Brain_Hypothalamus',\n",
       " 'Brain_Amygdala',\n",
       " 'Brain_Nucleus_accumbens_basal_ganglia',\n",
       " 'Artery_Coronary']"
      ]
     },
     "execution_count": 30,
     "metadata": {},
     "output_type": "execute_result"
    }
   ],
   "source": [
    "prediction_model_tissues[:5]"
   ]
  },
  {
   "cell_type": "markdown",
   "id": "fab4814d-757c-4247-b5e4-891bc4863db7",
   "metadata": {
    "papermill": {
     "duration": 0.022535,
     "end_time": "2022-08-27T04:16:26.207220",
     "exception": false,
     "start_time": "2022-08-27T04:16:26.184685",
     "status": "completed"
    },
    "tags": []
   },
   "source": [
    "## S-MultiXcan results"
   ]
  },
  {
   "cell_type": "code",
   "execution_count": 31,
   "id": "2b73c11e-9aa2-410e-84b4-a70be34d02e4",
   "metadata": {
    "execution": {
     "iopub.execute_input": "2022-08-27T04:16:26.253307Z",
     "iopub.status.busy": "2022-08-27T04:16:26.253032Z",
     "iopub.status.idle": "2022-08-27T04:16:26.352622Z",
     "shell.execute_reply": "2022-08-27T04:16:26.352041Z"
    },
    "papermill": {
     "duration": 0.124936,
     "end_time": "2022-08-27T04:16:26.354582",
     "exception": false,
     "start_time": "2022-08-27T04:16:26.229646",
     "status": "completed"
    },
    "tags": []
   },
   "outputs": [],
   "source": [
    "smultixcan_results = pd.read_csv(\n",
    "    SMULTIXCAN_FILE, sep=\"\\t\", usecols=[\"gene\", \"gene_name\", \"pvalue\", \"n\", \"n_indep\"]\n",
    ")"
   ]
  },
  {
   "cell_type": "code",
   "execution_count": 32,
   "id": "8b5abebd-baab-4188-9e3d-655ebbe32401",
   "metadata": {
    "execution": {
     "iopub.execute_input": "2022-08-27T04:16:26.400511Z",
     "iopub.status.busy": "2022-08-27T04:16:26.400246Z",
     "iopub.status.idle": "2022-08-27T04:16:26.418026Z",
     "shell.execute_reply": "2022-08-27T04:16:26.417478Z"
    },
    "papermill": {
     "duration": 0.042682,
     "end_time": "2022-08-27T04:16:26.419583",
     "exception": false,
     "start_time": "2022-08-27T04:16:26.376901",
     "status": "completed"
    },
    "tags": []
   },
   "outputs": [
    {
     "data": {
      "text/plain": [
       "(22515, 5)"
      ]
     },
     "execution_count": 32,
     "metadata": {},
     "output_type": "execute_result"
    }
   ],
   "source": [
    "smultixcan_results.shape"
   ]
  },
  {
   "cell_type": "code",
   "execution_count": 33,
   "id": "c65e233f-9ef6-4883-9386-7abf1d6d1cbd",
   "metadata": {
    "execution": {
     "iopub.execute_input": "2022-08-27T04:16:26.465574Z",
     "iopub.status.busy": "2022-08-27T04:16:26.465269Z",
     "iopub.status.idle": "2022-08-27T04:16:26.485142Z",
     "shell.execute_reply": "2022-08-27T04:16:26.484561Z"
    },
    "papermill": {
     "duration": 0.045472,
     "end_time": "2022-08-27T04:16:26.487115",
     "exception": false,
     "start_time": "2022-08-27T04:16:26.441643",
     "status": "completed"
    },
    "tags": []
   },
   "outputs": [],
   "source": [
    "smultixcan_results = smultixcan_results.dropna()"
   ]
  },
  {
   "cell_type": "code",
   "execution_count": 34,
   "id": "57d2d311-4a42-4725-9e37-b124ed13ad33",
   "metadata": {
    "execution": {
     "iopub.execute_input": "2022-08-27T04:16:26.533788Z",
     "iopub.status.busy": "2022-08-27T04:16:26.533512Z",
     "iopub.status.idle": "2022-08-27T04:16:26.551723Z",
     "shell.execute_reply": "2022-08-27T04:16:26.551168Z"
    },
    "papermill": {
     "duration": 0.043777,
     "end_time": "2022-08-27T04:16:26.553349",
     "exception": false,
     "start_time": "2022-08-27T04:16:26.509572",
     "status": "completed"
    },
    "tags": []
   },
   "outputs": [
    {
     "data": {
      "text/plain": [
       "(22512, 5)"
      ]
     },
     "execution_count": 34,
     "metadata": {},
     "output_type": "execute_result"
    }
   ],
   "source": [
    "smultixcan_results.shape"
   ]
  },
  {
   "cell_type": "code",
   "execution_count": 35,
   "id": "a36b5b59-f4b6-45bf-b241-ffc9671b357f",
   "metadata": {
    "execution": {
     "iopub.execute_input": "2022-08-27T04:16:26.600032Z",
     "iopub.status.busy": "2022-08-27T04:16:26.599765Z",
     "iopub.status.idle": "2022-08-27T04:16:27.115272Z",
     "shell.execute_reply": "2022-08-27T04:16:27.114672Z"
    },
    "papermill": {
     "duration": 0.541332,
     "end_time": "2022-08-27T04:16:27.117241",
     "exception": false,
     "start_time": "2022-08-27T04:16:26.575909",
     "status": "completed"
    },
    "tags": []
   },
   "outputs": [],
   "source": [
    "smultixcan_results = smultixcan_results.assign(\n",
    "    gene_id=smultixcan_results[\"gene\"].apply(lambda g: g.split(\".\")[0])\n",
    ")"
   ]
  },
  {
   "cell_type": "code",
   "execution_count": 36,
   "id": "c49f62a9-a01a-44af-87da-47d195b0ef7e",
   "metadata": {
    "execution": {
     "iopub.execute_input": "2022-08-27T04:16:27.163993Z",
     "iopub.status.busy": "2022-08-27T04:16:27.163719Z",
     "iopub.status.idle": "2022-08-27T04:16:27.188500Z",
     "shell.execute_reply": "2022-08-27T04:16:27.187844Z"
    },
    "papermill": {
     "duration": 0.050312,
     "end_time": "2022-08-27T04:16:27.190165",
     "exception": false,
     "start_time": "2022-08-27T04:16:27.139853",
     "status": "completed"
    },
    "tags": []
   },
   "outputs": [
    {
     "data": {
      "text/html": [
       "<div>\n",
       "<style scoped>\n",
       "    .dataframe tbody tr th:only-of-type {\n",
       "        vertical-align: middle;\n",
       "    }\n",
       "\n",
       "    .dataframe tbody tr th {\n",
       "        vertical-align: top;\n",
       "    }\n",
       "\n",
       "    .dataframe thead th {\n",
       "        text-align: right;\n",
       "    }\n",
       "</style>\n",
       "<table border=\"1\" class=\"dataframe\">\n",
       "  <thead>\n",
       "    <tr style=\"text-align: right;\">\n",
       "      <th></th>\n",
       "      <th>gene</th>\n",
       "      <th>gene_name</th>\n",
       "      <th>pvalue</th>\n",
       "      <th>n</th>\n",
       "      <th>n_indep</th>\n",
       "      <th>gene_id</th>\n",
       "    </tr>\n",
       "  </thead>\n",
       "  <tbody>\n",
       "    <tr>\n",
       "      <th>0</th>\n",
       "      <td>ENSG00000130203.9</td>\n",
       "      <td>APOE</td>\n",
       "      <td>4.399372e-77</td>\n",
       "      <td>42.0</td>\n",
       "      <td>9.0</td>\n",
       "      <td>ENSG00000130203</td>\n",
       "    </tr>\n",
       "    <tr>\n",
       "      <th>1</th>\n",
       "      <td>ENSG00000130202.9</td>\n",
       "      <td>NECTIN2</td>\n",
       "      <td>3.594063e-53</td>\n",
       "      <td>46.0</td>\n",
       "      <td>12.0</td>\n",
       "      <td>ENSG00000130202</td>\n",
       "    </tr>\n",
       "    <tr>\n",
       "      <th>2</th>\n",
       "      <td>ENSG00000130164.13</td>\n",
       "      <td>LDLR</td>\n",
       "      <td>2.672258e-39</td>\n",
       "      <td>13.0</td>\n",
       "      <td>3.0</td>\n",
       "      <td>ENSG00000130164</td>\n",
       "    </tr>\n",
       "    <tr>\n",
       "      <th>3</th>\n",
       "      <td>ENSG00000169174.10</td>\n",
       "      <td>PCSK9</td>\n",
       "      <td>9.023441e-31</td>\n",
       "      <td>33.0</td>\n",
       "      <td>11.0</td>\n",
       "      <td>ENSG00000169174</td>\n",
       "    </tr>\n",
       "    <tr>\n",
       "      <th>4</th>\n",
       "      <td>ENSG00000130204.12</td>\n",
       "      <td>TOMM40</td>\n",
       "      <td>6.407789e-30</td>\n",
       "      <td>45.0</td>\n",
       "      <td>4.0</td>\n",
       "      <td>ENSG00000130204</td>\n",
       "    </tr>\n",
       "  </tbody>\n",
       "</table>\n",
       "</div>"
      ],
      "text/plain": [
       "                 gene gene_name        pvalue     n  n_indep          gene_id\n",
       "0   ENSG00000130203.9      APOE  4.399372e-77  42.0      9.0  ENSG00000130203\n",
       "1   ENSG00000130202.9   NECTIN2  3.594063e-53  46.0     12.0  ENSG00000130202\n",
       "2  ENSG00000130164.13      LDLR  2.672258e-39  13.0      3.0  ENSG00000130164\n",
       "3  ENSG00000169174.10     PCSK9  9.023441e-31  33.0     11.0  ENSG00000169174\n",
       "4  ENSG00000130204.12    TOMM40  6.407789e-30  45.0      4.0  ENSG00000130204"
      ]
     },
     "execution_count": 36,
     "metadata": {},
     "output_type": "execute_result"
    }
   ],
   "source": [
    "smultixcan_results.head()"
   ]
  },
  {
   "cell_type": "code",
   "execution_count": 37,
   "id": "9c4c023c-86d6-4c4b-8d57-c2b6b93aaf84",
   "metadata": {
    "execution": {
     "iopub.execute_input": "2022-08-27T04:16:27.238401Z",
     "iopub.status.busy": "2022-08-27T04:16:27.238132Z",
     "iopub.status.idle": "2022-08-27T04:16:27.257357Z",
     "shell.execute_reply": "2022-08-27T04:16:27.256759Z"
    },
    "papermill": {
     "duration": 0.045359,
     "end_time": "2022-08-27T04:16:27.259203",
     "exception": false,
     "start_time": "2022-08-27T04:16:27.213844",
     "status": "completed"
    },
    "tags": []
   },
   "outputs": [],
   "source": [
    "assert smultixcan_results[\"gene_id\"].is_unique"
   ]
  },
  {
   "cell_type": "markdown",
   "id": "1f9939f1-4200-40d9-a8bf-8e4fd68bee48",
   "metadata": {
    "papermill": {
     "duration": 0.023446,
     "end_time": "2022-08-27T04:16:27.306256",
     "exception": false,
     "start_time": "2022-08-27T04:16:27.282810",
     "status": "completed"
    },
    "tags": []
   },
   "source": [
    "### Get common genes with MultiPLIER"
   ]
  },
  {
   "cell_type": "code",
   "execution_count": 38,
   "id": "c820e6cf-6350-45af-b49a-0abd94f570ff",
   "metadata": {
    "execution": {
     "iopub.execute_input": "2022-08-27T04:16:27.354590Z",
     "iopub.status.busy": "2022-08-27T04:16:27.354319Z",
     "iopub.status.idle": "2022-08-27T04:16:27.376035Z",
     "shell.execute_reply": "2022-08-27T04:16:27.375424Z"
    },
    "papermill": {
     "duration": 0.048339,
     "end_time": "2022-08-27T04:16:27.378015",
     "exception": false,
     "start_time": "2022-08-27T04:16:27.329676",
     "status": "completed"
    },
    "tags": []
   },
   "outputs": [],
   "source": [
    "common_genes = set(multiplier_z_genes).intersection(\n",
    "    set(smultixcan_results[\"gene_name\"])\n",
    ")"
   ]
  },
  {
   "cell_type": "code",
   "execution_count": 39,
   "id": "0a7328f9-96c7-4ac6-a9a6-ae4fa121a4cd",
   "metadata": {
    "execution": {
     "iopub.execute_input": "2022-08-27T04:16:27.426618Z",
     "iopub.status.busy": "2022-08-27T04:16:27.426351Z",
     "iopub.status.idle": "2022-08-27T04:16:27.444352Z",
     "shell.execute_reply": "2022-08-27T04:16:27.443768Z"
    },
    "papermill": {
     "duration": 0.044555,
     "end_time": "2022-08-27T04:16:27.445937",
     "exception": false,
     "start_time": "2022-08-27T04:16:27.401382",
     "status": "completed"
    },
    "tags": []
   },
   "outputs": [
    {
     "data": {
      "text/plain": [
       "6452"
      ]
     },
     "execution_count": 39,
     "metadata": {},
     "output_type": "execute_result"
    }
   ],
   "source": [
    "len(common_genes)"
   ]
  },
  {
   "cell_type": "code",
   "execution_count": 40,
   "id": "5b08d362-44c8-4db2-9258-670e2e2a9cc0",
   "metadata": {
    "execution": {
     "iopub.execute_input": "2022-08-27T04:16:27.493970Z",
     "iopub.status.busy": "2022-08-27T04:16:27.493695Z",
     "iopub.status.idle": "2022-08-27T04:16:27.515097Z",
     "shell.execute_reply": "2022-08-27T04:16:27.514494Z"
    },
    "papermill": {
     "duration": 0.047245,
     "end_time": "2022-08-27T04:16:27.516793",
     "exception": false,
     "start_time": "2022-08-27T04:16:27.469548",
     "status": "completed"
    },
    "tags": []
   },
   "outputs": [
    {
     "data": {
      "text/plain": [
       "['A2M', 'AAAS', 'AANAT', 'AARS', 'AARS2']"
      ]
     },
     "execution_count": 40,
     "metadata": {},
     "output_type": "execute_result"
    }
   ],
   "source": [
    "sorted(list(common_genes))[:5]"
   ]
  },
  {
   "cell_type": "markdown",
   "id": "7f51338b-8a75-42c3-a7e5-a0961cefb663",
   "metadata": {
    "papermill": {
     "duration": 0.022597,
     "end_time": "2022-08-27T04:16:27.563277",
     "exception": false,
     "start_time": "2022-08-27T04:16:27.540680",
     "status": "completed"
    },
    "tags": []
   },
   "source": [
    "## Genes info"
   ]
  },
  {
   "cell_type": "code",
   "execution_count": 41,
   "id": "bb932812",
   "metadata": {
    "execution": {
     "iopub.execute_input": "2022-08-27T04:16:27.610354Z",
     "iopub.status.busy": "2022-08-27T04:16:27.610077Z",
     "iopub.status.idle": "2022-08-27T04:16:27.634845Z",
     "shell.execute_reply": "2022-08-27T04:16:27.634260Z"
    },
    "papermill": {
     "duration": 0.050748,
     "end_time": "2022-08-27T04:16:27.636451",
     "exception": false,
     "start_time": "2022-08-27T04:16:27.585703",
     "status": "completed"
    },
    "tags": []
   },
   "outputs": [],
   "source": [
    "multiplier_gene_obj = {\n",
    "    gene_name: Gene(name=gene_name)\n",
    "    for gene_name in common_genes\n",
    "    if gene_name in Gene.GENE_NAME_TO_ID_MAP\n",
    "}"
   ]
  },
  {
   "cell_type": "code",
   "execution_count": 42,
   "id": "cb9d7a45-2b7d-4d10-80dc-212a625b5ae7",
   "metadata": {
    "execution": {
     "iopub.execute_input": "2022-08-27T04:16:27.686385Z",
     "iopub.status.busy": "2022-08-27T04:16:27.686125Z",
     "iopub.status.idle": "2022-08-27T04:16:27.701892Z",
     "shell.execute_reply": "2022-08-27T04:16:27.701339Z"
    },
    "papermill": {
     "duration": 0.042112,
     "end_time": "2022-08-27T04:16:27.703590",
     "exception": false,
     "start_time": "2022-08-27T04:16:27.661478",
     "status": "completed"
    },
    "tags": []
   },
   "outputs": [],
   "source": [
    "# delete common_genes, from now on, genes_info should be used for common genes\n",
    "del common_genes"
   ]
  },
  {
   "cell_type": "code",
   "execution_count": 43,
   "id": "39533214",
   "metadata": {
    "execution": {
     "iopub.execute_input": "2022-08-27T04:16:27.753431Z",
     "iopub.status.busy": "2022-08-27T04:16:27.753167Z",
     "iopub.status.idle": "2022-08-27T04:16:27.771573Z",
     "shell.execute_reply": "2022-08-27T04:16:27.771039Z"
    },
    "papermill": {
     "duration": 0.0465,
     "end_time": "2022-08-27T04:16:27.773351",
     "exception": false,
     "start_time": "2022-08-27T04:16:27.726851",
     "status": "completed"
    },
    "tags": []
   },
   "outputs": [
    {
     "data": {
      "text/plain": [
       "6452"
      ]
     },
     "execution_count": 43,
     "metadata": {},
     "output_type": "execute_result"
    }
   ],
   "source": [
    "len(multiplier_gene_obj)"
   ]
  },
  {
   "cell_type": "code",
   "execution_count": 44,
   "id": "9a5d0b84",
   "metadata": {
    "execution": {
     "iopub.execute_input": "2022-08-27T04:16:27.820213Z",
     "iopub.status.busy": "2022-08-27T04:16:27.819936Z",
     "iopub.status.idle": "2022-08-27T04:16:27.835513Z",
     "shell.execute_reply": "2022-08-27T04:16:27.834975Z"
    },
    "papermill": {
     "duration": 0.040715,
     "end_time": "2022-08-27T04:16:27.837216",
     "exception": false,
     "start_time": "2022-08-27T04:16:27.796501",
     "status": "completed"
    },
    "tags": []
   },
   "outputs": [],
   "source": [
    "assert multiplier_gene_obj[\"GAS6\"].ensembl_id == \"ENSG00000183087\""
   ]
  },
  {
   "cell_type": "code",
   "execution_count": 45,
   "id": "e3ffabc7",
   "metadata": {
    "execution": {
     "iopub.execute_input": "2022-08-27T04:16:27.884134Z",
     "iopub.status.busy": "2022-08-27T04:16:27.883857Z",
     "iopub.status.idle": "2022-08-27T04:16:31.298257Z",
     "shell.execute_reply": "2022-08-27T04:16:31.297669Z"
    },
    "papermill": {
     "duration": 3.439881,
     "end_time": "2022-08-27T04:16:31.300289",
     "exception": false,
     "start_time": "2022-08-27T04:16:27.860408",
     "status": "completed"
    },
    "tags": []
   },
   "outputs": [],
   "source": [
    "_gene_obj = list(multiplier_gene_obj.values())\n",
    "\n",
    "genes_info = pd.DataFrame(\n",
    "    {\n",
    "        \"name\": [g.name for g in _gene_obj],\n",
    "        \"id\": [g.ensembl_id for g in _gene_obj],\n",
    "        \"chr\": [g.chromosome for g in _gene_obj],\n",
    "        \"band\": [g.band for g in _gene_obj],\n",
    "        \"start_position\": [g.get_attribute(\"start_position\") for g in _gene_obj],\n",
    "        \"end_position\": [g.get_attribute(\"end_position\") for g in _gene_obj],\n",
    "    }\n",
    ")"
   ]
  },
  {
   "cell_type": "code",
   "execution_count": 46,
   "id": "00475e72-1cfc-485f-8b4e-1d9cce695f58",
   "metadata": {
    "execution": {
     "iopub.execute_input": "2022-08-27T04:16:31.348474Z",
     "iopub.status.busy": "2022-08-27T04:16:31.348209Z",
     "iopub.status.idle": "2022-08-27T04:16:31.949861Z",
     "shell.execute_reply": "2022-08-27T04:16:31.949259Z"
    },
    "papermill": {
     "duration": 0.628154,
     "end_time": "2022-08-27T04:16:31.951945",
     "exception": false,
     "start_time": "2022-08-27T04:16:31.323791",
     "status": "completed"
    },
    "tags": []
   },
   "outputs": [],
   "source": [
    "genes_info = genes_info.assign(\n",
    "    gene_length=genes_info.apply(\n",
    "        lambda x: x[\"end_position\"] - x[\"start_position\"], axis=1\n",
    "    )\n",
    ")"
   ]
  },
  {
   "cell_type": "code",
   "execution_count": 47,
   "id": "3af1a166-08a0-4333-bc09-b8bc762aa7ef",
   "metadata": {
    "execution": {
     "iopub.execute_input": "2022-08-27T04:16:31.999432Z",
     "iopub.status.busy": "2022-08-27T04:16:31.999166Z",
     "iopub.status.idle": "2022-08-27T04:16:32.018299Z",
     "shell.execute_reply": "2022-08-27T04:16:32.017746Z"
    },
    "papermill": {
     "duration": 0.044655,
     "end_time": "2022-08-27T04:16:32.019970",
     "exception": false,
     "start_time": "2022-08-27T04:16:31.975315",
     "status": "completed"
    },
    "tags": []
   },
   "outputs": [
    {
     "data": {
      "text/plain": [
       "name               object\n",
       "id                 object\n",
       "chr                object\n",
       "band               object\n",
       "start_position    float64\n",
       "end_position      float64\n",
       "gene_length       float64\n",
       "dtype: object"
      ]
     },
     "execution_count": 47,
     "metadata": {},
     "output_type": "execute_result"
    }
   ],
   "source": [
    "genes_info.dtypes"
   ]
  },
  {
   "cell_type": "code",
   "execution_count": 48,
   "id": "08a23f6f-87f6-4072-88c8-010b90a411cd",
   "metadata": {
    "execution": {
     "iopub.execute_input": "2022-08-27T04:16:32.068782Z",
     "iopub.status.busy": "2022-08-27T04:16:32.068511Z",
     "iopub.status.idle": "2022-08-27T04:16:32.094665Z",
     "shell.execute_reply": "2022-08-27T04:16:32.094119Z"
    },
    "papermill": {
     "duration": 0.052898,
     "end_time": "2022-08-27T04:16:32.096261",
     "exception": false,
     "start_time": "2022-08-27T04:16:32.043363",
     "status": "completed"
    },
    "tags": []
   },
   "outputs": [
    {
     "data": {
      "text/html": [
       "<div>\n",
       "<style scoped>\n",
       "    .dataframe tbody tr th:only-of-type {\n",
       "        vertical-align: middle;\n",
       "    }\n",
       "\n",
       "    .dataframe tbody tr th {\n",
       "        vertical-align: top;\n",
       "    }\n",
       "\n",
       "    .dataframe thead th {\n",
       "        text-align: right;\n",
       "    }\n",
       "</style>\n",
       "<table border=\"1\" class=\"dataframe\">\n",
       "  <thead>\n",
       "    <tr style=\"text-align: right;\">\n",
       "      <th></th>\n",
       "      <th>name</th>\n",
       "      <th>id</th>\n",
       "      <th>chr</th>\n",
       "      <th>band</th>\n",
       "      <th>start_position</th>\n",
       "      <th>end_position</th>\n",
       "      <th>gene_length</th>\n",
       "    </tr>\n",
       "  </thead>\n",
       "  <tbody>\n",
       "    <tr>\n",
       "      <th>4903</th>\n",
       "      <td>TBCE</td>\n",
       "      <td>ENSG00000116957</td>\n",
       "      <td>None</td>\n",
       "      <td>None</td>\n",
       "      <td>NaN</td>\n",
       "      <td>NaN</td>\n",
       "      <td>NaN</td>\n",
       "    </tr>\n",
       "    <tr>\n",
       "      <th>5403</th>\n",
       "      <td>TMEM133</td>\n",
       "      <td>ENSG00000170647</td>\n",
       "      <td>None</td>\n",
       "      <td>None</td>\n",
       "      <td>NaN</td>\n",
       "      <td>NaN</td>\n",
       "      <td>NaN</td>\n",
       "    </tr>\n",
       "  </tbody>\n",
       "</table>\n",
       "</div>"
      ],
      "text/plain": [
       "         name               id   chr  band  start_position  end_position  \\\n",
       "4903     TBCE  ENSG00000116957  None  None             NaN           NaN   \n",
       "5403  TMEM133  ENSG00000170647  None  None             NaN           NaN   \n",
       "\n",
       "      gene_length  \n",
       "4903          NaN  \n",
       "5403          NaN  "
      ]
     },
     "metadata": {},
     "output_type": "display_data"
    }
   ],
   "source": [
    "_tmp = genes_info[genes_info.isna().any(axis=1)]\n",
    "display(_tmp)\n",
    "assert _tmp.shape[0] < 5"
   ]
  },
  {
   "cell_type": "code",
   "execution_count": 49,
   "id": "87c010f0-8ad9-4bf0-b12d-02f37a93853a",
   "metadata": {
    "execution": {
     "iopub.execute_input": "2022-08-27T04:16:32.144048Z",
     "iopub.status.busy": "2022-08-27T04:16:32.143782Z",
     "iopub.status.idle": "2022-08-27T04:16:32.162852Z",
     "shell.execute_reply": "2022-08-27T04:16:32.162295Z"
    },
    "papermill": {
     "duration": 0.044933,
     "end_time": "2022-08-27T04:16:32.164563",
     "exception": false,
     "start_time": "2022-08-27T04:16:32.119630",
     "status": "completed"
    },
    "tags": []
   },
   "outputs": [],
   "source": [
    "genes_info = genes_info.dropna()"
   ]
  },
  {
   "cell_type": "code",
   "execution_count": 50,
   "id": "61833f43-3a92-47e9-bca3-e05b6673c7d9",
   "metadata": {
    "execution": {
     "iopub.execute_input": "2022-08-27T04:16:32.212549Z",
     "iopub.status.busy": "2022-08-27T04:16:32.212278Z",
     "iopub.status.idle": "2022-08-27T04:16:32.972348Z",
     "shell.execute_reply": "2022-08-27T04:16:32.971714Z"
    },
    "papermill": {
     "duration": 0.786335,
     "end_time": "2022-08-27T04:16:32.974313",
     "exception": false,
     "start_time": "2022-08-27T04:16:32.187978",
     "status": "completed"
    },
    "tags": []
   },
   "outputs": [],
   "source": [
    "genes_info[\"chr\"] = genes_info[\"chr\"].apply(pd.to_numeric, downcast=\"integer\")\n",
    "genes_info[\"start_position\"] = genes_info[\"start_position\"].astype(int)\n",
    "genes_info[\"end_position\"] = genes_info[\"end_position\"].astype(int)\n",
    "genes_info[\"gene_length\"] = genes_info[\"gene_length\"].astype(int)"
   ]
  },
  {
   "cell_type": "code",
   "execution_count": 51,
   "id": "e4b9ae23-3edb-41a4-97aa-80cc7db6d393",
   "metadata": {
    "execution": {
     "iopub.execute_input": "2022-08-27T04:16:33.023096Z",
     "iopub.status.busy": "2022-08-27T04:16:33.022821Z",
     "iopub.status.idle": "2022-08-27T04:16:33.043184Z",
     "shell.execute_reply": "2022-08-27T04:16:33.042628Z"
    },
    "papermill": {
     "duration": 0.046793,
     "end_time": "2022-08-27T04:16:33.044786",
     "exception": false,
     "start_time": "2022-08-27T04:16:32.997993",
     "status": "completed"
    },
    "tags": []
   },
   "outputs": [
    {
     "data": {
      "text/plain": [
       "name              object\n",
       "id                object\n",
       "chr                int64\n",
       "band              object\n",
       "start_position     int64\n",
       "end_position       int64\n",
       "gene_length        int64\n",
       "dtype: object"
      ]
     },
     "execution_count": 51,
     "metadata": {},
     "output_type": "execute_result"
    }
   ],
   "source": [
    "genes_info.dtypes"
   ]
  },
  {
   "cell_type": "code",
   "execution_count": 52,
   "id": "09d6320a-b1c4-4200-a23e-184bc4be69c7",
   "metadata": {
    "execution": {
     "iopub.execute_input": "2022-08-27T04:16:33.094779Z",
     "iopub.status.busy": "2022-08-27T04:16:33.094490Z",
     "iopub.status.idle": "2022-08-27T04:16:33.112083Z",
     "shell.execute_reply": "2022-08-27T04:16:33.111498Z"
    },
    "papermill": {
     "duration": 0.044458,
     "end_time": "2022-08-27T04:16:33.113763",
     "exception": false,
     "start_time": "2022-08-27T04:16:33.069305",
     "status": "completed"
    },
    "tags": []
   },
   "outputs": [],
   "source": [
    "assert genes_info[\"name\"].is_unique"
   ]
  },
  {
   "cell_type": "code",
   "execution_count": 53,
   "id": "009d11e4-f8cb-4a81-823d-c7f10b906d3b",
   "metadata": {
    "execution": {
     "iopub.execute_input": "2022-08-27T04:16:33.162792Z",
     "iopub.status.busy": "2022-08-27T04:16:33.162522Z",
     "iopub.status.idle": "2022-08-27T04:16:33.179855Z",
     "shell.execute_reply": "2022-08-27T04:16:33.179305Z"
    },
    "papermill": {
     "duration": 0.043181,
     "end_time": "2022-08-27T04:16:33.181565",
     "exception": false,
     "start_time": "2022-08-27T04:16:33.138384",
     "status": "completed"
    },
    "tags": []
   },
   "outputs": [],
   "source": [
    "assert genes_info[\"id\"].is_unique"
   ]
  },
  {
   "cell_type": "code",
   "execution_count": 54,
   "id": "e23519b8",
   "metadata": {
    "execution": {
     "iopub.execute_input": "2022-08-27T04:16:33.230003Z",
     "iopub.status.busy": "2022-08-27T04:16:33.229731Z",
     "iopub.status.idle": "2022-08-27T04:16:33.247478Z",
     "shell.execute_reply": "2022-08-27T04:16:33.246949Z"
    },
    "papermill": {
     "duration": 0.043839,
     "end_time": "2022-08-27T04:16:33.249085",
     "exception": false,
     "start_time": "2022-08-27T04:16:33.205246",
     "status": "completed"
    },
    "tags": []
   },
   "outputs": [
    {
     "data": {
      "text/plain": [
       "(6450, 7)"
      ]
     },
     "execution_count": 54,
     "metadata": {},
     "output_type": "execute_result"
    }
   ],
   "source": [
    "genes_info.shape"
   ]
  },
  {
   "cell_type": "code",
   "execution_count": 55,
   "id": "0d71881c",
   "metadata": {
    "execution": {
     "iopub.execute_input": "2022-08-27T04:16:33.297798Z",
     "iopub.status.busy": "2022-08-27T04:16:33.297526Z",
     "iopub.status.idle": "2022-08-27T04:16:33.319853Z",
     "shell.execute_reply": "2022-08-27T04:16:33.319280Z"
    },
    "papermill": {
     "duration": 0.048448,
     "end_time": "2022-08-27T04:16:33.321452",
     "exception": false,
     "start_time": "2022-08-27T04:16:33.273004",
     "status": "completed"
    },
    "tags": []
   },
   "outputs": [
    {
     "data": {
      "text/html": [
       "<div>\n",
       "<style scoped>\n",
       "    .dataframe tbody tr th:only-of-type {\n",
       "        vertical-align: middle;\n",
       "    }\n",
       "\n",
       "    .dataframe tbody tr th {\n",
       "        vertical-align: top;\n",
       "    }\n",
       "\n",
       "    .dataframe thead th {\n",
       "        text-align: right;\n",
       "    }\n",
       "</style>\n",
       "<table border=\"1\" class=\"dataframe\">\n",
       "  <thead>\n",
       "    <tr style=\"text-align: right;\">\n",
       "      <th></th>\n",
       "      <th>name</th>\n",
       "      <th>id</th>\n",
       "      <th>chr</th>\n",
       "      <th>band</th>\n",
       "      <th>start_position</th>\n",
       "      <th>end_position</th>\n",
       "      <th>gene_length</th>\n",
       "    </tr>\n",
       "  </thead>\n",
       "  <tbody>\n",
       "    <tr>\n",
       "      <th>0</th>\n",
       "      <td>FUS</td>\n",
       "      <td>ENSG00000089280</td>\n",
       "      <td>16</td>\n",
       "      <td>16p11.2</td>\n",
       "      <td>31180110</td>\n",
       "      <td>31194871</td>\n",
       "      <td>14761</td>\n",
       "    </tr>\n",
       "    <tr>\n",
       "      <th>1</th>\n",
       "      <td>PI4K2A</td>\n",
       "      <td>ENSG00000155252</td>\n",
       "      <td>10</td>\n",
       "      <td>10q24.2</td>\n",
       "      <td>97640686</td>\n",
       "      <td>97676434</td>\n",
       "      <td>35748</td>\n",
       "    </tr>\n",
       "    <tr>\n",
       "      <th>2</th>\n",
       "      <td>PER1</td>\n",
       "      <td>ENSG00000179094</td>\n",
       "      <td>17</td>\n",
       "      <td>17p13.1</td>\n",
       "      <td>8140472</td>\n",
       "      <td>8156506</td>\n",
       "      <td>16034</td>\n",
       "    </tr>\n",
       "    <tr>\n",
       "      <th>3</th>\n",
       "      <td>GBP6</td>\n",
       "      <td>ENSG00000183347</td>\n",
       "      <td>1</td>\n",
       "      <td>1p22.2</td>\n",
       "      <td>89364058</td>\n",
       "      <td>89386461</td>\n",
       "      <td>22403</td>\n",
       "    </tr>\n",
       "    <tr>\n",
       "      <th>4</th>\n",
       "      <td>GPAA1</td>\n",
       "      <td>ENSG00000197858</td>\n",
       "      <td>8</td>\n",
       "      <td>8q24.3</td>\n",
       "      <td>144082590</td>\n",
       "      <td>144086216</td>\n",
       "      <td>3626</td>\n",
       "    </tr>\n",
       "  </tbody>\n",
       "</table>\n",
       "</div>"
      ],
      "text/plain": [
       "     name               id  chr     band  start_position  end_position  \\\n",
       "0     FUS  ENSG00000089280   16  16p11.2        31180110      31194871   \n",
       "1  PI4K2A  ENSG00000155252   10  10q24.2        97640686      97676434   \n",
       "2    PER1  ENSG00000179094   17  17p13.1         8140472       8156506   \n",
       "3    GBP6  ENSG00000183347    1   1p22.2        89364058      89386461   \n",
       "4   GPAA1  ENSG00000197858    8   8q24.3       144082590     144086216   \n",
       "\n",
       "   gene_length  \n",
       "0        14761  \n",
       "1        35748  \n",
       "2        16034  \n",
       "3        22403  \n",
       "4         3626  "
      ]
     },
     "execution_count": 55,
     "metadata": {},
     "output_type": "execute_result"
    }
   ],
   "source": [
    "genes_info.head()"
   ]
  },
  {
   "cell_type": "code",
   "execution_count": 56,
   "id": "eb968287-d9cf-40f6-a93e-6b322b844404",
   "metadata": {
    "execution": {
     "iopub.execute_input": "2022-08-27T04:16:33.371341Z",
     "iopub.status.busy": "2022-08-27T04:16:33.371070Z",
     "iopub.status.idle": "2022-08-27T04:16:33.400092Z",
     "shell.execute_reply": "2022-08-27T04:16:33.399522Z"
    },
    "papermill": {
     "duration": 0.055845,
     "end_time": "2022-08-27T04:16:33.401755",
     "exception": false,
     "start_time": "2022-08-27T04:16:33.345910",
     "status": "completed"
    },
    "tags": []
   },
   "outputs": [
    {
     "data": {
      "text/html": [
       "<div>\n",
       "<style scoped>\n",
       "    .dataframe tbody tr th:only-of-type {\n",
       "        vertical-align: middle;\n",
       "    }\n",
       "\n",
       "    .dataframe tbody tr th {\n",
       "        vertical-align: top;\n",
       "    }\n",
       "\n",
       "    .dataframe thead th {\n",
       "        text-align: right;\n",
       "    }\n",
       "</style>\n",
       "<table border=\"1\" class=\"dataframe\">\n",
       "  <thead>\n",
       "    <tr style=\"text-align: right;\">\n",
       "      <th></th>\n",
       "      <th>name</th>\n",
       "      <th>id</th>\n",
       "      <th>chr</th>\n",
       "      <th>band</th>\n",
       "      <th>start_position</th>\n",
       "      <th>end_position</th>\n",
       "      <th>gene_length</th>\n",
       "    </tr>\n",
       "  </thead>\n",
       "  <tbody>\n",
       "    <tr>\n",
       "      <th>649</th>\n",
       "      <td>SPSB1</td>\n",
       "      <td>ENSG00000171621</td>\n",
       "      <td>1</td>\n",
       "      <td>1p36.22</td>\n",
       "      <td>9292894</td>\n",
       "      <td>9369532</td>\n",
       "      <td>76638</td>\n",
       "    </tr>\n",
       "    <tr>\n",
       "      <th>6223</th>\n",
       "      <td>SV2A</td>\n",
       "      <td>ENSG00000159164</td>\n",
       "      <td>1</td>\n",
       "      <td>1q21.2</td>\n",
       "      <td>149903318</td>\n",
       "      <td>149917844</td>\n",
       "      <td>14526</td>\n",
       "    </tr>\n",
       "    <tr>\n",
       "      <th>6222</th>\n",
       "      <td>MTMR11</td>\n",
       "      <td>ENSG00000014914</td>\n",
       "      <td>1</td>\n",
       "      <td>1q21.2</td>\n",
       "      <td>149928651</td>\n",
       "      <td>149936879</td>\n",
       "      <td>8228</td>\n",
       "    </tr>\n",
       "    <tr>\n",
       "      <th>6221</th>\n",
       "      <td>KCNJ10</td>\n",
       "      <td>ENSG00000177807</td>\n",
       "      <td>1</td>\n",
       "      <td>1q23.2</td>\n",
       "      <td>159998651</td>\n",
       "      <td>160070483</td>\n",
       "      <td>71832</td>\n",
       "    </tr>\n",
       "    <tr>\n",
       "      <th>737</th>\n",
       "      <td>OPN3</td>\n",
       "      <td>ENSG00000054277</td>\n",
       "      <td>1</td>\n",
       "      <td>1q43</td>\n",
       "      <td>241590102</td>\n",
       "      <td>241677376</td>\n",
       "      <td>87274</td>\n",
       "    </tr>\n",
       "    <tr>\n",
       "      <th>...</th>\n",
       "      <td>...</td>\n",
       "      <td>...</td>\n",
       "      <td>...</td>\n",
       "      <td>...</td>\n",
       "      <td>...</td>\n",
       "      <td>...</td>\n",
       "      <td>...</td>\n",
       "    </tr>\n",
       "    <tr>\n",
       "      <th>1660</th>\n",
       "      <td>AP1B1</td>\n",
       "      <td>ENSG00000100280</td>\n",
       "      <td>22</td>\n",
       "      <td>22q12.2</td>\n",
       "      <td>29327680</td>\n",
       "      <td>29423179</td>\n",
       "      <td>95499</td>\n",
       "    </tr>\n",
       "    <tr>\n",
       "      <th>1310</th>\n",
       "      <td>UPK3A</td>\n",
       "      <td>ENSG00000100373</td>\n",
       "      <td>22</td>\n",
       "      <td>22q13.31</td>\n",
       "      <td>45284949</td>\n",
       "      <td>45295874</td>\n",
       "      <td>10925</td>\n",
       "    </tr>\n",
       "    <tr>\n",
       "      <th>4177</th>\n",
       "      <td>POLR2F</td>\n",
       "      <td>ENSG00000100142</td>\n",
       "      <td>22</td>\n",
       "      <td>22q13.1</td>\n",
       "      <td>37952607</td>\n",
       "      <td>38041915</td>\n",
       "      <td>89308</td>\n",
       "    </tr>\n",
       "    <tr>\n",
       "      <th>1669</th>\n",
       "      <td>CRYBB1</td>\n",
       "      <td>ENSG00000100122</td>\n",
       "      <td>22</td>\n",
       "      <td>22q12.1</td>\n",
       "      <td>26599278</td>\n",
       "      <td>26618027</td>\n",
       "      <td>18749</td>\n",
       "    </tr>\n",
       "    <tr>\n",
       "      <th>6087</th>\n",
       "      <td>RANGAP1</td>\n",
       "      <td>ENSG00000100401</td>\n",
       "      <td>22</td>\n",
       "      <td>22q13.2</td>\n",
       "      <td>41245611</td>\n",
       "      <td>41286251</td>\n",
       "      <td>40640</td>\n",
       "    </tr>\n",
       "  </tbody>\n",
       "</table>\n",
       "<p>6450 rows × 7 columns</p>\n",
       "</div>"
      ],
      "text/plain": [
       "         name               id  chr      band  start_position  end_position  \\\n",
       "649     SPSB1  ENSG00000171621    1   1p36.22         9292894       9369532   \n",
       "6223     SV2A  ENSG00000159164    1    1q21.2       149903318     149917844   \n",
       "6222   MTMR11  ENSG00000014914    1    1q21.2       149928651     149936879   \n",
       "6221   KCNJ10  ENSG00000177807    1    1q23.2       159998651     160070483   \n",
       "737      OPN3  ENSG00000054277    1      1q43       241590102     241677376   \n",
       "...       ...              ...  ...       ...             ...           ...   \n",
       "1660    AP1B1  ENSG00000100280   22   22q12.2        29327680      29423179   \n",
       "1310    UPK3A  ENSG00000100373   22  22q13.31        45284949      45295874   \n",
       "4177   POLR2F  ENSG00000100142   22   22q13.1        37952607      38041915   \n",
       "1669   CRYBB1  ENSG00000100122   22   22q12.1        26599278      26618027   \n",
       "6087  RANGAP1  ENSG00000100401   22   22q13.2        41245611      41286251   \n",
       "\n",
       "      gene_length  \n",
       "649         76638  \n",
       "6223        14526  \n",
       "6222         8228  \n",
       "6221        71832  \n",
       "737         87274  \n",
       "...           ...  \n",
       "1660        95499  \n",
       "1310        10925  \n",
       "4177        89308  \n",
       "1669        18749  \n",
       "6087        40640  \n",
       "\n",
       "[6450 rows x 7 columns]"
      ]
     },
     "execution_count": 56,
     "metadata": {},
     "output_type": "execute_result"
    }
   ],
   "source": [
    "genes_info.sort_values(\"chr\")"
   ]
  },
  {
   "cell_type": "markdown",
   "id": "7282b84d-f4f3-4e8c-9dd8-6319505ed4b5",
   "metadata": {
    "papermill": {
     "duration": 0.024386,
     "end_time": "2022-08-27T04:16:33.451195",
     "exception": false,
     "start_time": "2022-08-27T04:16:33.426809",
     "status": "completed"
    },
    "tags": []
   },
   "source": [
    "### Save"
   ]
  },
  {
   "cell_type": "code",
   "execution_count": 57,
   "id": "32cf6566-03bb-4a85-81e1-da46fc9f37ad",
   "metadata": {
    "execution": {
     "iopub.execute_input": "2022-08-27T04:16:33.502088Z",
     "iopub.status.busy": "2022-08-27T04:16:33.501819Z",
     "iopub.status.idle": "2022-08-27T04:16:33.546668Z",
     "shell.execute_reply": "2022-08-27T04:16:33.546080Z"
    },
    "papermill": {
     "duration": 0.072863,
     "end_time": "2022-08-27T04:16:33.548609",
     "exception": false,
     "start_time": "2022-08-27T04:16:33.475746",
     "status": "completed"
    },
    "tags": []
   },
   "outputs": [],
   "source": [
    "genes_info.to_pickle(OUTPUT_DIR_BASE / \"genes_info.pkl\")"
   ]
  },
  {
   "cell_type": "markdown",
   "id": "5b9f384a-5a91-4a8d-9007-cfe43f2d86f8",
   "metadata": {
    "papermill": {
     "duration": 0.025234,
     "end_time": "2022-08-27T04:16:33.599451",
     "exception": false,
     "start_time": "2022-08-27T04:16:33.574217",
     "status": "completed"
    },
    "tags": []
   },
   "source": [
    "## S-PrediXcan results"
   ]
  },
  {
   "cell_type": "markdown",
   "id": "fc0a2a4c-960c-4a0a-9b23-b66c3d5d6e07",
   "metadata": {
    "papermill": {
     "duration": 0.024718,
     "end_time": "2022-08-27T04:16:33.648709",
     "exception": false,
     "start_time": "2022-08-27T04:16:33.623991",
     "status": "completed"
    },
    "tags": []
   },
   "source": [
    "### Load results across all tissues"
   ]
  },
  {
   "cell_type": "code",
   "execution_count": 58,
   "id": "0b4867d7-a608-4b08-9d77-1782be3a0c94",
   "metadata": {
    "execution": {
     "iopub.execute_input": "2022-08-27T04:16:33.699865Z",
     "iopub.status.busy": "2022-08-27T04:16:33.699593Z",
     "iopub.status.idle": "2022-08-27T04:16:33.716340Z",
     "shell.execute_reply": "2022-08-27T04:16:33.715764Z"
    },
    "papermill": {
     "duration": 0.044391,
     "end_time": "2022-08-27T04:16:33.718102",
     "exception": false,
     "start_time": "2022-08-27T04:16:33.673711",
     "status": "completed"
    },
    "tags": []
   },
   "outputs": [],
   "source": [
    "spredixcan_result_files = {\n",
    "    t: SPREDIXCAN_FOLDER / SPREDIXCAN_FILE_PATTERN.format(tissue=t)\n",
    "    for t in prediction_model_tissues\n",
    "}"
   ]
  },
  {
   "cell_type": "code",
   "execution_count": 59,
   "id": "0ce270dd-46ac-4eaa-9d86-2b201d67d82f",
   "metadata": {
    "execution": {
     "iopub.execute_input": "2022-08-27T04:16:33.768299Z",
     "iopub.status.busy": "2022-08-27T04:16:33.768028Z",
     "iopub.status.idle": "2022-08-27T04:16:33.786379Z",
     "shell.execute_reply": "2022-08-27T04:16:33.785823Z"
    },
    "papermill": {
     "duration": 0.045721,
     "end_time": "2022-08-27T04:16:33.787963",
     "exception": false,
     "start_time": "2022-08-27T04:16:33.742242",
     "status": "completed"
    },
    "tags": []
   },
   "outputs": [
    {
     "data": {
      "text/plain": [
       "[PosixPath('/project/ritchie20/projects/phenoplier/base/data/phenomexcan/spredixcan/gtex_gwas/MAGNETIC_IDL.TG/spredixcan_igwas_gtexmashrv8_MAGNETIC_IDL.TG__PM__Whole_Blood.csv'),\n",
       " PosixPath('/project/ritchie20/projects/phenoplier/base/data/phenomexcan/spredixcan/gtex_gwas/MAGNETIC_IDL.TG/spredixcan_igwas_gtexmashrv8_MAGNETIC_IDL.TG__PM__Brain_Hypothalamus.csv'),\n",
       " PosixPath('/project/ritchie20/projects/phenoplier/base/data/phenomexcan/spredixcan/gtex_gwas/MAGNETIC_IDL.TG/spredixcan_igwas_gtexmashrv8_MAGNETIC_IDL.TG__PM__Brain_Amygdala.csv'),\n",
       " PosixPath('/project/ritchie20/projects/phenoplier/base/data/phenomexcan/spredixcan/gtex_gwas/MAGNETIC_IDL.TG/spredixcan_igwas_gtexmashrv8_MAGNETIC_IDL.TG__PM__Brain_Nucleus_accumbens_basal_ganglia.csv'),\n",
       " PosixPath('/project/ritchie20/projects/phenoplier/base/data/phenomexcan/spredixcan/gtex_gwas/MAGNETIC_IDL.TG/spredixcan_igwas_gtexmashrv8_MAGNETIC_IDL.TG__PM__Artery_Coronary.csv')]"
      ]
     },
     "metadata": {},
     "output_type": "display_data"
    }
   ],
   "source": [
    "assert len(spredixcan_result_files) == len(prediction_model_tissues)\n",
    "display(list(spredixcan_result_files.values())[:5])"
   ]
  },
  {
   "cell_type": "code",
   "execution_count": 60,
   "id": "aa140259-303e-4912-b2bf-e7adce662f88",
   "metadata": {
    "execution": {
     "iopub.execute_input": "2022-08-27T04:16:33.839070Z",
     "iopub.status.busy": "2022-08-27T04:16:33.838811Z",
     "iopub.status.idle": "2022-08-27T04:16:33.891944Z",
     "shell.execute_reply": "2022-08-27T04:16:33.891339Z"
    },
    "papermill": {
     "duration": 0.080703,
     "end_time": "2022-08-27T04:16:33.893710",
     "exception": false,
     "start_time": "2022-08-27T04:16:33.813007",
     "status": "completed"
    },
    "tags": []
   },
   "outputs": [
    {
     "data": {
      "text/html": [
       "<div>\n",
       "<style scoped>\n",
       "    .dataframe tbody tr th:only-of-type {\n",
       "        vertical-align: middle;\n",
       "    }\n",
       "\n",
       "    .dataframe tbody tr th {\n",
       "        vertical-align: top;\n",
       "    }\n",
       "\n",
       "    .dataframe thead th {\n",
       "        text-align: right;\n",
       "    }\n",
       "</style>\n",
       "<table border=\"1\" class=\"dataframe\">\n",
       "  <thead>\n",
       "    <tr style=\"text-align: right;\">\n",
       "      <th></th>\n",
       "      <th>gene</th>\n",
       "      <th>gene_name</th>\n",
       "      <th>zscore</th>\n",
       "      <th>effect_size</th>\n",
       "      <th>pvalue</th>\n",
       "      <th>var_g</th>\n",
       "      <th>pred_perf_r2</th>\n",
       "      <th>pred_perf_pval</th>\n",
       "      <th>pred_perf_qval</th>\n",
       "      <th>n_snps_used</th>\n",
       "      <th>n_snps_in_cov</th>\n",
       "      <th>n_snps_in_model</th>\n",
       "      <th>best_gwas_p</th>\n",
       "      <th>largest_weight</th>\n",
       "    </tr>\n",
       "  </thead>\n",
       "  <tbody>\n",
       "    <tr>\n",
       "      <th>0</th>\n",
       "      <td>ENSG00000130203.9</td>\n",
       "      <td>APOE</td>\n",
       "      <td>17.582577</td>\n",
       "      <td>NaN</td>\n",
       "      <td>3.349999e-69</td>\n",
       "      <td>0.004660</td>\n",
       "      <td>NaN</td>\n",
       "      <td>NaN</td>\n",
       "      <td>NaN</td>\n",
       "      <td>1</td>\n",
       "      <td>1.0</td>\n",
       "      <td>1</td>\n",
       "      <td>3.349999e-69</td>\n",
       "      <td>0.151524</td>\n",
       "    </tr>\n",
       "    <tr>\n",
       "      <th>1</th>\n",
       "      <td>ENSG00000234906.9</td>\n",
       "      <td>APOC2</td>\n",
       "      <td>11.715613</td>\n",
       "      <td>NaN</td>\n",
       "      <td>1.060222e-31</td>\n",
       "      <td>0.002668</td>\n",
       "      <td>NaN</td>\n",
       "      <td>NaN</td>\n",
       "      <td>NaN</td>\n",
       "      <td>2</td>\n",
       "      <td>2.0</td>\n",
       "      <td>2</td>\n",
       "      <td>1.410008e-32</td>\n",
       "      <td>0.249415</td>\n",
       "    </tr>\n",
       "    <tr>\n",
       "      <th>2</th>\n",
       "      <td>ENSG00000134222.16</td>\n",
       "      <td>PSRC1</td>\n",
       "      <td>-9.399907</td>\n",
       "      <td>NaN</td>\n",
       "      <td>5.461119e-21</td>\n",
       "      <td>0.060638</td>\n",
       "      <td>NaN</td>\n",
       "      <td>NaN</td>\n",
       "      <td>NaN</td>\n",
       "      <td>2</td>\n",
       "      <td>2.0</td>\n",
       "      <td>2</td>\n",
       "      <td>1.100000e-23</td>\n",
       "      <td>0.277846</td>\n",
       "    </tr>\n",
       "    <tr>\n",
       "      <th>3</th>\n",
       "      <td>ENSG00000162399.6</td>\n",
       "      <td>BSND</td>\n",
       "      <td>9.240837</td>\n",
       "      <td>NaN</td>\n",
       "      <td>2.445770e-20</td>\n",
       "      <td>0.113038</td>\n",
       "      <td>NaN</td>\n",
       "      <td>NaN</td>\n",
       "      <td>NaN</td>\n",
       "      <td>3</td>\n",
       "      <td>3.0</td>\n",
       "      <td>3</td>\n",
       "      <td>1.710004e-16</td>\n",
       "      <td>0.353909</td>\n",
       "    </tr>\n",
       "    <tr>\n",
       "      <th>4</th>\n",
       "      <td>ENSG00000169174.10</td>\n",
       "      <td>PCSK9</td>\n",
       "      <td>9.204915</td>\n",
       "      <td>NaN</td>\n",
       "      <td>3.419418e-20</td>\n",
       "      <td>0.045947</td>\n",
       "      <td>NaN</td>\n",
       "      <td>NaN</td>\n",
       "      <td>NaN</td>\n",
       "      <td>4</td>\n",
       "      <td>4.0</td>\n",
       "      <td>4</td>\n",
       "      <td>5.109546e-17</td>\n",
       "      <td>0.204700</td>\n",
       "    </tr>\n",
       "  </tbody>\n",
       "</table>\n",
       "</div>"
      ],
      "text/plain": [
       "                 gene gene_name     zscore  effect_size        pvalue  \\\n",
       "0   ENSG00000130203.9      APOE  17.582577          NaN  3.349999e-69   \n",
       "1   ENSG00000234906.9     APOC2  11.715613          NaN  1.060222e-31   \n",
       "2  ENSG00000134222.16     PSRC1  -9.399907          NaN  5.461119e-21   \n",
       "3   ENSG00000162399.6      BSND   9.240837          NaN  2.445770e-20   \n",
       "4  ENSG00000169174.10     PCSK9   9.204915          NaN  3.419418e-20   \n",
       "\n",
       "      var_g  pred_perf_r2  pred_perf_pval  pred_perf_qval  n_snps_used  \\\n",
       "0  0.004660           NaN             NaN             NaN            1   \n",
       "1  0.002668           NaN             NaN             NaN            2   \n",
       "2  0.060638           NaN             NaN             NaN            2   \n",
       "3  0.113038           NaN             NaN             NaN            3   \n",
       "4  0.045947           NaN             NaN             NaN            4   \n",
       "\n",
       "   n_snps_in_cov  n_snps_in_model   best_gwas_p  largest_weight  \n",
       "0            1.0                1  3.349999e-69        0.151524  \n",
       "1            2.0                2  1.410008e-32        0.249415  \n",
       "2            2.0                2  1.100000e-23        0.277846  \n",
       "3            3.0                3  1.710004e-16        0.353909  \n",
       "4            4.0                4  5.109546e-17        0.204700  "
      ]
     },
     "execution_count": 60,
     "metadata": {},
     "output_type": "execute_result"
    }
   ],
   "source": [
    "# look at the structure of one result\n",
    "pd.read_csv(spredixcan_result_files[\"Whole_Blood\"]).head()"
   ]
  },
  {
   "cell_type": "code",
   "execution_count": 61,
   "id": "4381b9ff-6ab5-47f1-89d1-560f88fdf07f",
   "metadata": {
    "execution": {
     "iopub.execute_input": "2022-08-27T04:16:33.944499Z",
     "iopub.status.busy": "2022-08-27T04:16:33.944238Z",
     "iopub.status.idle": "2022-08-27T04:16:33.966749Z",
     "shell.execute_reply": "2022-08-27T04:16:33.966152Z"
    },
    "papermill": {
     "duration": 0.050375,
     "end_time": "2022-08-27T04:16:33.968743",
     "exception": false,
     "start_time": "2022-08-27T04:16:33.918368",
     "status": "completed"
    },
    "tags": []
   },
   "outputs": [],
   "source": [
    "assert all(f.exists() for f in spredixcan_result_files.values())"
   ]
  },
  {
   "cell_type": "code",
   "execution_count": 62,
   "id": "d477157f-51e9-4c7c-b826-7ab5f4fdf3e3",
   "metadata": {
    "execution": {
     "iopub.execute_input": "2022-08-27T04:16:34.019992Z",
     "iopub.status.busy": "2022-08-27T04:16:34.019769Z",
     "iopub.status.idle": "2022-08-27T04:16:35.255845Z",
     "shell.execute_reply": "2022-08-27T04:16:35.255229Z"
    },
    "papermill": {
     "duration": 1.264124,
     "end_time": "2022-08-27T04:16:35.257866",
     "exception": false,
     "start_time": "2022-08-27T04:16:33.993742",
     "status": "completed"
    },
    "tags": []
   },
   "outputs": [],
   "source": [
    "spredixcan_dfs = [\n",
    "    pd.read_csv(\n",
    "        f,\n",
    "        usecols=[\n",
    "            \"gene\",\n",
    "            \"zscore\",\n",
    "            \"pvalue\",\n",
    "            \"n_snps_used\",\n",
    "            \"n_snps_in_model\",\n",
    "        ],\n",
    "    )\n",
    "    .dropna(subset=[\"gene\", \"zscore\", \"pvalue\"])\n",
    "    .assign(tissue=t)\n",
    "    for t, f in spredixcan_result_files.items()\n",
    "]"
   ]
  },
  {
   "cell_type": "code",
   "execution_count": 63,
   "id": "9730bd37-b769-411f-bb6b-bb658d1ff88c",
   "metadata": {
    "execution": {
     "iopub.execute_input": "2022-08-27T04:16:35.316168Z",
     "iopub.status.busy": "2022-08-27T04:16:35.315889Z",
     "iopub.status.idle": "2022-08-27T04:16:35.332378Z",
     "shell.execute_reply": "2022-08-27T04:16:35.331772Z"
    },
    "papermill": {
     "duration": 0.049747,
     "end_time": "2022-08-27T04:16:35.334098",
     "exception": false,
     "start_time": "2022-08-27T04:16:35.284351",
     "status": "completed"
    },
    "tags": []
   },
   "outputs": [],
   "source": [
    "assert len(spredixcan_dfs) == len(prediction_model_tissues)"
   ]
  },
  {
   "cell_type": "code",
   "execution_count": 64,
   "id": "bcd73f53-1283-4ff6-bbb5-25fb71f5cb72",
   "metadata": {
    "execution": {
     "iopub.execute_input": "2022-08-27T04:16:35.427653Z",
     "iopub.status.busy": "2022-08-27T04:16:35.427388Z",
     "iopub.status.idle": "2022-08-27T04:16:35.531785Z",
     "shell.execute_reply": "2022-08-27T04:16:35.531152Z"
    },
    "papermill": {
     "duration": 0.132555,
     "end_time": "2022-08-27T04:16:35.533918",
     "exception": false,
     "start_time": "2022-08-27T04:16:35.401363",
     "status": "completed"
    },
    "tags": []
   },
   "outputs": [],
   "source": [
    "spredixcan_dfs = pd.concat(spredixcan_dfs)"
   ]
  },
  {
   "cell_type": "code",
   "execution_count": 65,
   "id": "ae99c7b5-14fc-4b39-a6b2-40fc703acd0a",
   "metadata": {
    "execution": {
     "iopub.execute_input": "2022-08-27T04:16:35.609555Z",
     "iopub.status.busy": "2022-08-27T04:16:35.609286Z",
     "iopub.status.idle": "2022-08-27T04:16:35.664489Z",
     "shell.execute_reply": "2022-08-27T04:16:35.663868Z"
    },
    "papermill": {
     "duration": 0.08393,
     "end_time": "2022-08-27T04:16:35.666454",
     "exception": false,
     "start_time": "2022-08-27T04:16:35.582524",
     "status": "completed"
    },
    "tags": []
   },
   "outputs": [],
   "source": [
    "assert spredixcan_dfs[\"tissue\"].unique().shape[0] == len(prediction_model_tissues)"
   ]
  },
  {
   "cell_type": "code",
   "execution_count": 66,
   "id": "b7223a23-e40f-4cd3-8988-72033f8739bd",
   "metadata": {
    "execution": {
     "iopub.execute_input": "2022-08-27T04:16:35.719987Z",
     "iopub.status.busy": "2022-08-27T04:16:35.719707Z",
     "iopub.status.idle": "2022-08-27T04:16:35.739164Z",
     "shell.execute_reply": "2022-08-27T04:16:35.738549Z"
    },
    "papermill": {
     "duration": 0.048579,
     "end_time": "2022-08-27T04:16:35.740944",
     "exception": false,
     "start_time": "2022-08-27T04:16:35.692365",
     "status": "completed"
    },
    "tags": []
   },
   "outputs": [
    {
     "data": {
      "text/plain": [
       "(684160, 6)"
      ]
     },
     "execution_count": 66,
     "metadata": {},
     "output_type": "execute_result"
    }
   ],
   "source": [
    "spredixcan_dfs.shape"
   ]
  },
  {
   "cell_type": "code",
   "execution_count": 67,
   "id": "4987073a-3b70-4162-93fb-beeb351ebfe0",
   "metadata": {
    "execution": {
     "iopub.execute_input": "2022-08-27T04:16:35.796185Z",
     "iopub.status.busy": "2022-08-27T04:16:35.795912Z",
     "iopub.status.idle": "2022-08-27T04:16:36.048538Z",
     "shell.execute_reply": "2022-08-27T04:16:36.047928Z"
    },
    "papermill": {
     "duration": 0.282383,
     "end_time": "2022-08-27T04:16:36.050513",
     "exception": false,
     "start_time": "2022-08-27T04:16:35.768130",
     "status": "completed"
    },
    "tags": []
   },
   "outputs": [],
   "source": [
    "spredixcan_dfs = spredixcan_dfs.assign(\n",
    "    gene_id=spredixcan_dfs[\"gene\"].apply(lambda g: g.split(\".\")[0])\n",
    ")"
   ]
  },
  {
   "cell_type": "code",
   "execution_count": 68,
   "id": "6b47d026-01c0-4f7c-a90e-f0baa13235f4",
   "metadata": {
    "execution": {
     "iopub.execute_input": "2022-08-27T04:16:36.120812Z",
     "iopub.status.busy": "2022-08-27T04:16:36.120521Z",
     "iopub.status.idle": "2022-08-27T04:16:36.144465Z",
     "shell.execute_reply": "2022-08-27T04:16:36.143919Z"
    },
    "papermill": {
     "duration": 0.052337,
     "end_time": "2022-08-27T04:16:36.146062",
     "exception": false,
     "start_time": "2022-08-27T04:16:36.093725",
     "status": "completed"
    },
    "tags": []
   },
   "outputs": [
    {
     "data": {
      "text/html": [
       "<div>\n",
       "<style scoped>\n",
       "    .dataframe tbody tr th:only-of-type {\n",
       "        vertical-align: middle;\n",
       "    }\n",
       "\n",
       "    .dataframe tbody tr th {\n",
       "        vertical-align: top;\n",
       "    }\n",
       "\n",
       "    .dataframe thead th {\n",
       "        text-align: right;\n",
       "    }\n",
       "</style>\n",
       "<table border=\"1\" class=\"dataframe\">\n",
       "  <thead>\n",
       "    <tr style=\"text-align: right;\">\n",
       "      <th></th>\n",
       "      <th>gene</th>\n",
       "      <th>zscore</th>\n",
       "      <th>pvalue</th>\n",
       "      <th>n_snps_used</th>\n",
       "      <th>n_snps_in_model</th>\n",
       "      <th>tissue</th>\n",
       "      <th>gene_id</th>\n",
       "    </tr>\n",
       "  </thead>\n",
       "  <tbody>\n",
       "    <tr>\n",
       "      <th>0</th>\n",
       "      <td>ENSG00000130203.9</td>\n",
       "      <td>17.582577</td>\n",
       "      <td>3.349999e-69</td>\n",
       "      <td>1</td>\n",
       "      <td>1</td>\n",
       "      <td>Whole_Blood</td>\n",
       "      <td>ENSG00000130203</td>\n",
       "    </tr>\n",
       "    <tr>\n",
       "      <th>1</th>\n",
       "      <td>ENSG00000234906.9</td>\n",
       "      <td>11.715613</td>\n",
       "      <td>1.060222e-31</td>\n",
       "      <td>2</td>\n",
       "      <td>2</td>\n",
       "      <td>Whole_Blood</td>\n",
       "      <td>ENSG00000234906</td>\n",
       "    </tr>\n",
       "    <tr>\n",
       "      <th>2</th>\n",
       "      <td>ENSG00000134222.16</td>\n",
       "      <td>-9.399907</td>\n",
       "      <td>5.461119e-21</td>\n",
       "      <td>2</td>\n",
       "      <td>2</td>\n",
       "      <td>Whole_Blood</td>\n",
       "      <td>ENSG00000134222</td>\n",
       "    </tr>\n",
       "    <tr>\n",
       "      <th>3</th>\n",
       "      <td>ENSG00000162399.6</td>\n",
       "      <td>9.240837</td>\n",
       "      <td>2.445770e-20</td>\n",
       "      <td>3</td>\n",
       "      <td>3</td>\n",
       "      <td>Whole_Blood</td>\n",
       "      <td>ENSG00000162399</td>\n",
       "    </tr>\n",
       "    <tr>\n",
       "      <th>4</th>\n",
       "      <td>ENSG00000169174.10</td>\n",
       "      <td>9.204915</td>\n",
       "      <td>3.419418e-20</td>\n",
       "      <td>4</td>\n",
       "      <td>4</td>\n",
       "      <td>Whole_Blood</td>\n",
       "      <td>ENSG00000169174</td>\n",
       "    </tr>\n",
       "  </tbody>\n",
       "</table>\n",
       "</div>"
      ],
      "text/plain": [
       "                 gene     zscore        pvalue  n_snps_used  n_snps_in_model  \\\n",
       "0   ENSG00000130203.9  17.582577  3.349999e-69            1                1   \n",
       "1   ENSG00000234906.9  11.715613  1.060222e-31            2                2   \n",
       "2  ENSG00000134222.16  -9.399907  5.461119e-21            2                2   \n",
       "3   ENSG00000162399.6   9.240837  2.445770e-20            3                3   \n",
       "4  ENSG00000169174.10   9.204915  3.419418e-20            4                4   \n",
       "\n",
       "        tissue          gene_id  \n",
       "0  Whole_Blood  ENSG00000130203  \n",
       "1  Whole_Blood  ENSG00000234906  \n",
       "2  Whole_Blood  ENSG00000134222  \n",
       "3  Whole_Blood  ENSG00000162399  \n",
       "4  Whole_Blood  ENSG00000169174  "
      ]
     },
     "execution_count": 68,
     "metadata": {},
     "output_type": "execute_result"
    }
   ],
   "source": [
    "spredixcan_dfs.head()"
   ]
  },
  {
   "cell_type": "code",
   "execution_count": 69,
   "id": "d5dbdb2e-b7eb-4665-9fd4-9ce714d6af0c",
   "metadata": {
    "execution": {
     "iopub.execute_input": "2022-08-27T04:16:36.207883Z",
     "iopub.status.busy": "2022-08-27T04:16:36.207613Z",
     "iopub.status.idle": "2022-08-27T04:16:36.358390Z",
     "shell.execute_reply": "2022-08-27T04:16:36.357776Z"
    },
    "papermill": {
     "duration": 0.179517,
     "end_time": "2022-08-27T04:16:36.360397",
     "exception": false,
     "start_time": "2022-08-27T04:16:36.180880",
     "status": "completed"
    },
    "tags": []
   },
   "outputs": [],
   "source": [
    "# leave only common genes\n",
    "spredixcan_dfs = spredixcan_dfs[spredixcan_dfs[\"gene_id\"].isin(set(genes_info[\"id\"]))]"
   ]
  },
  {
   "cell_type": "code",
   "execution_count": 70,
   "id": "8d34f99a-6b43-47aa-bb07-dfc67e169538",
   "metadata": {
    "execution": {
     "iopub.execute_input": "2022-08-27T04:16:36.413095Z",
     "iopub.status.busy": "2022-08-27T04:16:36.412831Z",
     "iopub.status.idle": "2022-08-27T04:16:36.432256Z",
     "shell.execute_reply": "2022-08-27T04:16:36.431623Z"
    },
    "papermill": {
     "duration": 0.047876,
     "end_time": "2022-08-27T04:16:36.434068",
     "exception": false,
     "start_time": "2022-08-27T04:16:36.386192",
     "status": "completed"
    },
    "tags": []
   },
   "outputs": [
    {
     "data": {
      "text/plain": [
       "(243879, 7)"
      ]
     },
     "execution_count": 70,
     "metadata": {},
     "output_type": "execute_result"
    }
   ],
   "source": [
    "spredixcan_dfs.shape"
   ]
  },
  {
   "cell_type": "markdown",
   "id": "5ecfd141-ecb8-47cf-905e-25cc1b4d3f9d",
   "metadata": {
    "papermill": {
     "duration": 0.026445,
     "end_time": "2022-08-27T04:16:36.486907",
     "exception": false,
     "start_time": "2022-08-27T04:16:36.460462",
     "status": "completed"
    },
    "tags": []
   },
   "source": [
    "### Count number of tissues available per gene"
   ]
  },
  {
   "cell_type": "code",
   "execution_count": 71,
   "id": "86fe37e1-a303-4221-a12e-3a54a04dd510",
   "metadata": {
    "execution": {
     "iopub.execute_input": "2022-08-27T04:16:36.558252Z",
     "iopub.status.busy": "2022-08-27T04:16:36.557986Z",
     "iopub.status.idle": "2022-08-27T04:16:36.647548Z",
     "shell.execute_reply": "2022-08-27T04:16:36.646933Z"
    },
    "papermill": {
     "duration": 0.119064,
     "end_time": "2022-08-27T04:16:36.649534",
     "exception": false,
     "start_time": "2022-08-27T04:16:36.530470",
     "status": "completed"
    },
    "tags": []
   },
   "outputs": [],
   "source": [
    "spredixcan_genes_n_models = spredixcan_dfs.groupby(\"gene_id\")[\"tissue\"].nunique()"
   ]
  },
  {
   "cell_type": "code",
   "execution_count": 72,
   "id": "31416d48-1e4d-463f-9a5c-34d29803c3f8",
   "metadata": {
    "execution": {
     "iopub.execute_input": "2022-08-27T04:16:36.707326Z",
     "iopub.status.busy": "2022-08-27T04:16:36.707049Z",
     "iopub.status.idle": "2022-08-27T04:16:36.727782Z",
     "shell.execute_reply": "2022-08-27T04:16:36.727218Z"
    },
    "papermill": {
     "duration": 0.052879,
     "end_time": "2022-08-27T04:16:36.729384",
     "exception": false,
     "start_time": "2022-08-27T04:16:36.676505",
     "status": "completed"
    },
    "tags": []
   },
   "outputs": [
    {
     "data": {
      "text/plain": [
       "gene_id\n",
       "ENSG00000000419     3\n",
       "ENSG00000000938    36\n",
       "ENSG00000000971    34\n",
       "ENSG00000001084    33\n",
       "ENSG00000001167    40\n",
       "                   ..\n",
       "ENSG00000278540    36\n",
       "ENSG00000278828     4\n",
       "ENSG00000278845    49\n",
       "ENSG00000281005    49\n",
       "ENSG00000282608    36\n",
       "Name: tissue, Length: 6450, dtype: int64"
      ]
     },
     "execution_count": 72,
     "metadata": {},
     "output_type": "execute_result"
    }
   ],
   "source": [
    "spredixcan_genes_n_models"
   ]
  },
  {
   "cell_type": "code",
   "execution_count": 73,
   "id": "d737ad4f-f821-4546-9a3e-6703fe264b49",
   "metadata": {
    "execution": {
     "iopub.execute_input": "2022-08-27T04:16:36.811912Z",
     "iopub.status.busy": "2022-08-27T04:16:36.811614Z",
     "iopub.status.idle": "2022-08-27T04:16:36.846776Z",
     "shell.execute_reply": "2022-08-27T04:16:36.846128Z"
    },
    "papermill": {
     "duration": 0.091586,
     "end_time": "2022-08-27T04:16:36.848640",
     "exception": false,
     "start_time": "2022-08-27T04:16:36.757054",
     "status": "completed"
    },
    "tags": []
   },
   "outputs": [],
   "source": [
    "# testing that in S-MultiXcan I get the same number of tissues per gene\n",
    "_tmp_smultixcan_results_n_models = (\n",
    "    smultixcan_results.set_index(\"gene_id\")[\"n\"].astype(int).rename(\"tissue\")\n",
    ")\n",
    "\n",
    "_cg = _tmp_smultixcan_results_n_models.index.intersection(\n",
    "    spredixcan_genes_n_models.index\n",
    ")\n",
    "_tmp_smultixcan_results_n_models = _tmp_smultixcan_results_n_models.loc[_cg]\n",
    "_spredixcan = spredixcan_genes_n_models.loc[_cg]\n",
    "\n",
    "assert _spredixcan.shape[0] == _tmp_smultixcan_results_n_models.shape[0]\n",
    "assert _spredixcan.equals(_tmp_smultixcan_results_n_models.loc[_spredixcan.index])"
   ]
  },
  {
   "cell_type": "markdown",
   "id": "904d7d30-9c2d-4c3e-b674-3f081954fe8b",
   "metadata": {
    "papermill": {
     "duration": 0.0436,
     "end_time": "2022-08-27T04:16:37.013172",
     "exception": false,
     "start_time": "2022-08-27T04:16:36.969572",
     "status": "completed"
    },
    "tags": []
   },
   "source": [
    "### Get tissues available per gene"
   ]
  },
  {
   "cell_type": "code",
   "execution_count": 74,
   "id": "cf014e81-4b4e-4c46-9265-67718b3ab08e",
   "metadata": {
    "execution": {
     "iopub.execute_input": "2022-08-27T04:16:37.216289Z",
     "iopub.status.busy": "2022-08-27T04:16:37.216012Z",
     "iopub.status.idle": "2022-08-27T04:16:37.416714Z",
     "shell.execute_reply": "2022-08-27T04:16:37.416095Z"
    },
    "papermill": {
     "duration": 0.239683,
     "end_time": "2022-08-27T04:16:37.418671",
     "exception": false,
     "start_time": "2022-08-27T04:16:37.178988",
     "status": "completed"
    },
    "tags": []
   },
   "outputs": [],
   "source": [
    "spredixcan_genes_models = spredixcan_dfs.groupby(\"gene_id\")[\"tissue\"].apply(\n",
    "    lambda x: frozenset(x.tolist())\n",
    ")"
   ]
  },
  {
   "cell_type": "code",
   "execution_count": 75,
   "id": "5df09d7f-39c9-408f-9fef-5189e8ca1c87",
   "metadata": {
    "execution": {
     "iopub.execute_input": "2022-08-27T04:16:37.472869Z",
     "iopub.status.busy": "2022-08-27T04:16:37.472573Z",
     "iopub.status.idle": "2022-08-27T04:16:37.495084Z",
     "shell.execute_reply": "2022-08-27T04:16:37.494499Z"
    },
    "papermill": {
     "duration": 0.051519,
     "end_time": "2022-08-27T04:16:37.496688",
     "exception": false,
     "start_time": "2022-08-27T04:16:37.445169",
     "status": "completed"
    },
    "tags": []
   },
   "outputs": [
    {
     "data": {
      "text/plain": [
       "gene_id\n",
       "ENSG00000000419    (Brain_Hypothalamus, Brain_Substantia_nigra, C...\n",
       "ENSG00000000938    (Brain_Cortex, Artery_Tibial, Testis, Adipose_...\n",
       "ENSG00000000971    (Brain_Cortex, Artery_Tibial, Cells_Cultured_f...\n",
       "ENSG00000001084    (Brain_Cortex, Artery_Tibial, Cells_Cultured_f...\n",
       "ENSG00000001167    (Brain_Cortex, Artery_Tibial, Cells_Cultured_f...\n",
       "                                         ...                        \n",
       "ENSG00000278540    (Brain_Cortex, Artery_Tibial, Cells_Cultured_f...\n",
       "ENSG00000278828    (Cells_EBV-transformed_lymphocytes, Esophagus_...\n",
       "ENSG00000278845    (Brain_Cortex, Artery_Tibial, Cells_Cultured_f...\n",
       "ENSG00000281005    (Brain_Cortex, Artery_Tibial, Cells_Cultured_f...\n",
       "ENSG00000282608    (Brain_Cortex, Artery_Tibial, Testis, Adipose_...\n",
       "Name: tissue, Length: 6450, dtype: object"
      ]
     },
     "execution_count": 75,
     "metadata": {},
     "output_type": "execute_result"
    }
   ],
   "source": [
    "spredixcan_genes_models"
   ]
  },
  {
   "cell_type": "code",
   "execution_count": 76,
   "id": "97c46886-5a48-4813-b890-1dcdb09ec09d",
   "metadata": {
    "execution": {
     "iopub.execute_input": "2022-08-27T04:16:37.551180Z",
     "iopub.status.busy": "2022-08-27T04:16:37.550904Z",
     "iopub.status.idle": "2022-08-27T04:16:37.567527Z",
     "shell.execute_reply": "2022-08-27T04:16:37.566918Z"
    },
    "papermill": {
     "duration": 0.04603,
     "end_time": "2022-08-27T04:16:37.569384",
     "exception": false,
     "start_time": "2022-08-27T04:16:37.523354",
     "status": "completed"
    },
    "tags": []
   },
   "outputs": [],
   "source": [
    "assert spredixcan_genes_n_models.shape[0] == spredixcan_genes_models.shape[0]"
   ]
  },
  {
   "cell_type": "code",
   "execution_count": 77,
   "id": "abc13913-a681-4297-a0e6-dde62f43c36f",
   "metadata": {
    "execution": {
     "iopub.execute_input": "2022-08-27T04:16:37.623833Z",
     "iopub.status.busy": "2022-08-27T04:16:37.623558Z",
     "iopub.status.idle": "2022-08-27T04:16:37.641344Z",
     "shell.execute_reply": "2022-08-27T04:16:37.640716Z"
    },
    "papermill": {
     "duration": 0.047152,
     "end_time": "2022-08-27T04:16:37.643317",
     "exception": false,
     "start_time": "2022-08-27T04:16:37.596165",
     "status": "completed"
    },
    "tags": []
   },
   "outputs": [],
   "source": [
    "assert spredixcan_genes_n_models.index.equals(spredixcan_genes_models.index)"
   ]
  },
  {
   "cell_type": "code",
   "execution_count": 78,
   "id": "995a02e7-b836-471b-b438-17c8c46e4fde",
   "metadata": {
    "execution": {
     "iopub.execute_input": "2022-08-27T04:16:37.699221Z",
     "iopub.status.busy": "2022-08-27T04:16:37.698955Z",
     "iopub.status.idle": "2022-08-27T04:16:37.717461Z",
     "shell.execute_reply": "2022-08-27T04:16:37.716879Z"
    },
    "papermill": {
     "duration": 0.04828,
     "end_time": "2022-08-27T04:16:37.719181",
     "exception": false,
     "start_time": "2022-08-27T04:16:37.670901",
     "status": "completed"
    },
    "tags": []
   },
   "outputs": [],
   "source": [
    "assert (spredixcan_genes_models.apply(len) <= len(prediction_model_tissues)).all()"
   ]
  },
  {
   "cell_type": "code",
   "execution_count": 79,
   "id": "0c1d0c68-1a06-480c-b6d6-d3c4fdf0f5aa",
   "metadata": {
    "execution": {
     "iopub.execute_input": "2022-08-27T04:16:37.773141Z",
     "iopub.status.busy": "2022-08-27T04:16:37.772860Z",
     "iopub.status.idle": "2022-08-27T04:16:37.796096Z",
     "shell.execute_reply": "2022-08-27T04:16:37.795531Z"
    },
    "papermill": {
     "duration": 0.052517,
     "end_time": "2022-08-27T04:16:37.797719",
     "exception": false,
     "start_time": "2022-08-27T04:16:37.745202",
     "status": "completed"
    },
    "tags": []
   },
   "outputs": [
    {
     "data": {
      "text/plain": [
       "count    6450.000000\n",
       "mean       37.810698\n",
       "std        12.468797\n",
       "min         1.000000\n",
       "25%        32.000000\n",
       "50%        43.000000\n",
       "75%        47.000000\n",
       "max        49.000000\n",
       "Name: tissue, dtype: float64"
      ]
     },
     "execution_count": 79,
     "metadata": {},
     "output_type": "execute_result"
    }
   ],
   "source": [
    "spredixcan_genes_models.apply(len).describe()"
   ]
  },
  {
   "cell_type": "code",
   "execution_count": 80,
   "id": "991b9441-6bb5-4b72-9285-5fd579875e40",
   "metadata": {
    "execution": {
     "iopub.execute_input": "2022-08-27T04:16:37.852666Z",
     "iopub.status.busy": "2022-08-27T04:16:37.852398Z",
     "iopub.status.idle": "2022-08-27T04:16:37.872492Z",
     "shell.execute_reply": "2022-08-27T04:16:37.871903Z"
    },
    "papermill": {
     "duration": 0.050013,
     "end_time": "2022-08-27T04:16:37.874213",
     "exception": false,
     "start_time": "2022-08-27T04:16:37.824200",
     "status": "completed"
    },
    "tags": []
   },
   "outputs": [],
   "source": [
    "# testing\n",
    "assert (\n",
    "    spredixcan_genes_models.loc[spredixcan_genes_n_models.index]\n",
    "    .apply(len)\n",
    "    .equals(spredixcan_genes_n_models)\n",
    ")"
   ]
  },
  {
   "cell_type": "markdown",
   "id": "3042b22d-9d88-4e21-b112-ab23cf8d24ea",
   "metadata": {
    "papermill": {
     "duration": 0.027108,
     "end_time": "2022-08-27T04:16:37.927967",
     "exception": false,
     "start_time": "2022-08-27T04:16:37.900859",
     "status": "completed"
    },
    "tags": []
   },
   "source": [
    "### Add gene name and set index"
   ]
  },
  {
   "cell_type": "code",
   "execution_count": 81,
   "id": "3b7b0e76-7aca-44bf-beff-5f1c1b6193ee",
   "metadata": {
    "execution": {
     "iopub.execute_input": "2022-08-27T04:16:37.983516Z",
     "iopub.status.busy": "2022-08-27T04:16:37.983221Z",
     "iopub.status.idle": "2022-08-27T04:16:38.001319Z",
     "shell.execute_reply": "2022-08-27T04:16:38.000727Z"
    },
    "papermill": {
     "duration": 0.048039,
     "end_time": "2022-08-27T04:16:38.003288",
     "exception": false,
     "start_time": "2022-08-27T04:16:37.955249",
     "status": "completed"
    },
    "tags": []
   },
   "outputs": [],
   "source": [
    "spredixcan_genes_models = spredixcan_genes_models.to_frame().reset_index()"
   ]
  },
  {
   "cell_type": "code",
   "execution_count": 82,
   "id": "ffab4b61-c2d4-4bcc-a147-23a4bf30f715",
   "metadata": {
    "execution": {
     "iopub.execute_input": "2022-08-27T04:16:38.059245Z",
     "iopub.status.busy": "2022-08-27T04:16:38.058974Z",
     "iopub.status.idle": "2022-08-27T04:16:38.082769Z",
     "shell.execute_reply": "2022-08-27T04:16:38.082182Z"
    },
    "papermill": {
     "duration": 0.054084,
     "end_time": "2022-08-27T04:16:38.084512",
     "exception": false,
     "start_time": "2022-08-27T04:16:38.030428",
     "status": "completed"
    },
    "tags": []
   },
   "outputs": [
    {
     "data": {
      "text/html": [
       "<div>\n",
       "<style scoped>\n",
       "    .dataframe tbody tr th:only-of-type {\n",
       "        vertical-align: middle;\n",
       "    }\n",
       "\n",
       "    .dataframe tbody tr th {\n",
       "        vertical-align: top;\n",
       "    }\n",
       "\n",
       "    .dataframe thead th {\n",
       "        text-align: right;\n",
       "    }\n",
       "</style>\n",
       "<table border=\"1\" class=\"dataframe\">\n",
       "  <thead>\n",
       "    <tr style=\"text-align: right;\">\n",
       "      <th></th>\n",
       "      <th>gene_id</th>\n",
       "      <th>tissue</th>\n",
       "    </tr>\n",
       "  </thead>\n",
       "  <tbody>\n",
       "    <tr>\n",
       "      <th>0</th>\n",
       "      <td>ENSG00000000419</td>\n",
       "      <td>(Brain_Hypothalamus, Brain_Substantia_nigra, C...</td>\n",
       "    </tr>\n",
       "    <tr>\n",
       "      <th>1</th>\n",
       "      <td>ENSG00000000938</td>\n",
       "      <td>(Brain_Cortex, Artery_Tibial, Testis, Adipose_...</td>\n",
       "    </tr>\n",
       "    <tr>\n",
       "      <th>2</th>\n",
       "      <td>ENSG00000000971</td>\n",
       "      <td>(Brain_Cortex, Artery_Tibial, Cells_Cultured_f...</td>\n",
       "    </tr>\n",
       "    <tr>\n",
       "      <th>3</th>\n",
       "      <td>ENSG00000001084</td>\n",
       "      <td>(Brain_Cortex, Artery_Tibial, Cells_Cultured_f...</td>\n",
       "    </tr>\n",
       "    <tr>\n",
       "      <th>4</th>\n",
       "      <td>ENSG00000001167</td>\n",
       "      <td>(Brain_Cortex, Artery_Tibial, Cells_Cultured_f...</td>\n",
       "    </tr>\n",
       "  </tbody>\n",
       "</table>\n",
       "</div>"
      ],
      "text/plain": [
       "           gene_id                                             tissue\n",
       "0  ENSG00000000419  (Brain_Hypothalamus, Brain_Substantia_nigra, C...\n",
       "1  ENSG00000000938  (Brain_Cortex, Artery_Tibial, Testis, Adipose_...\n",
       "2  ENSG00000000971  (Brain_Cortex, Artery_Tibial, Cells_Cultured_f...\n",
       "3  ENSG00000001084  (Brain_Cortex, Artery_Tibial, Cells_Cultured_f...\n",
       "4  ENSG00000001167  (Brain_Cortex, Artery_Tibial, Cells_Cultured_f..."
      ]
     },
     "execution_count": 82,
     "metadata": {},
     "output_type": "execute_result"
    }
   ],
   "source": [
    "spredixcan_genes_models.head()"
   ]
  },
  {
   "cell_type": "code",
   "execution_count": 83,
   "id": "e1cb2fe5-969f-4526-bca7-a3b8919b3509",
   "metadata": {
    "execution": {
     "iopub.execute_input": "2022-08-27T04:16:38.143345Z",
     "iopub.status.busy": "2022-08-27T04:16:38.143046Z",
     "iopub.status.idle": "2022-08-27T04:16:38.165490Z",
     "shell.execute_reply": "2022-08-27T04:16:38.164821Z"
    },
    "papermill": {
     "duration": 0.05536,
     "end_time": "2022-08-27T04:16:38.167533",
     "exception": false,
     "start_time": "2022-08-27T04:16:38.112173",
     "status": "completed"
    },
    "tags": []
   },
   "outputs": [],
   "source": [
    "spredixcan_genes_models = spredixcan_genes_models.assign(\n",
    "    gene_name=spredixcan_genes_models[\"gene_id\"].apply(\n",
    "        lambda g: Gene.GENE_ID_TO_NAME_MAP[g]\n",
    "    )\n",
    ")"
   ]
  },
  {
   "cell_type": "code",
   "execution_count": 84,
   "id": "ff078ce5-3f18-442e-a593-3326436c758e",
   "metadata": {
    "execution": {
     "iopub.execute_input": "2022-08-27T04:16:38.228027Z",
     "iopub.status.busy": "2022-08-27T04:16:38.227754Z",
     "iopub.status.idle": "2022-08-27T04:16:38.247010Z",
     "shell.execute_reply": "2022-08-27T04:16:38.246376Z"
    },
    "papermill": {
     "duration": 0.050947,
     "end_time": "2022-08-27T04:16:38.249139",
     "exception": false,
     "start_time": "2022-08-27T04:16:38.198192",
     "status": "completed"
    },
    "tags": []
   },
   "outputs": [],
   "source": [
    "spredixcan_genes_models = spredixcan_genes_models[[\"gene_id\", \"gene_name\", \"tissue\"]]"
   ]
  },
  {
   "cell_type": "code",
   "execution_count": 85,
   "id": "a65c8bf2-5ecd-4f80-a857-11f8a0c019c4",
   "metadata": {
    "execution": {
     "iopub.execute_input": "2022-08-27T04:16:38.307442Z",
     "iopub.status.busy": "2022-08-27T04:16:38.307156Z",
     "iopub.status.idle": "2022-08-27T04:16:38.326158Z",
     "shell.execute_reply": "2022-08-27T04:16:38.325452Z"
    },
    "papermill": {
     "duration": 0.050322,
     "end_time": "2022-08-27T04:16:38.327997",
     "exception": false,
     "start_time": "2022-08-27T04:16:38.277675",
     "status": "completed"
    },
    "tags": []
   },
   "outputs": [],
   "source": [
    "spredixcan_genes_models = spredixcan_genes_models.set_index(\"gene_id\")"
   ]
  },
  {
   "cell_type": "code",
   "execution_count": 86,
   "id": "af6b40b9-fc58-47a1-a1b5-4404034b008b",
   "metadata": {
    "execution": {
     "iopub.execute_input": "2022-08-27T04:16:38.389590Z",
     "iopub.status.busy": "2022-08-27T04:16:38.389300Z",
     "iopub.status.idle": "2022-08-27T04:16:38.414303Z",
     "shell.execute_reply": "2022-08-27T04:16:38.413657Z"
    },
    "papermill": {
     "duration": 0.058466,
     "end_time": "2022-08-27T04:16:38.415968",
     "exception": false,
     "start_time": "2022-08-27T04:16:38.357502",
     "status": "completed"
    },
    "tags": []
   },
   "outputs": [
    {
     "data": {
      "text/html": [
       "<div>\n",
       "<style scoped>\n",
       "    .dataframe tbody tr th:only-of-type {\n",
       "        vertical-align: middle;\n",
       "    }\n",
       "\n",
       "    .dataframe tbody tr th {\n",
       "        vertical-align: top;\n",
       "    }\n",
       "\n",
       "    .dataframe thead th {\n",
       "        text-align: right;\n",
       "    }\n",
       "</style>\n",
       "<table border=\"1\" class=\"dataframe\">\n",
       "  <thead>\n",
       "    <tr style=\"text-align: right;\">\n",
       "      <th></th>\n",
       "      <th>gene_name</th>\n",
       "      <th>tissue</th>\n",
       "    </tr>\n",
       "    <tr>\n",
       "      <th>gene_id</th>\n",
       "      <th></th>\n",
       "      <th></th>\n",
       "    </tr>\n",
       "  </thead>\n",
       "  <tbody>\n",
       "    <tr>\n",
       "      <th>ENSG00000000419</th>\n",
       "      <td>DPM1</td>\n",
       "      <td>(Brain_Hypothalamus, Brain_Substantia_nigra, C...</td>\n",
       "    </tr>\n",
       "    <tr>\n",
       "      <th>ENSG00000000938</th>\n",
       "      <td>FGR</td>\n",
       "      <td>(Brain_Cortex, Artery_Tibial, Testis, Adipose_...</td>\n",
       "    </tr>\n",
       "    <tr>\n",
       "      <th>ENSG00000000971</th>\n",
       "      <td>CFH</td>\n",
       "      <td>(Brain_Cortex, Artery_Tibial, Cells_Cultured_f...</td>\n",
       "    </tr>\n",
       "    <tr>\n",
       "      <th>ENSG00000001084</th>\n",
       "      <td>GCLC</td>\n",
       "      <td>(Brain_Cortex, Artery_Tibial, Cells_Cultured_f...</td>\n",
       "    </tr>\n",
       "    <tr>\n",
       "      <th>ENSG00000001167</th>\n",
       "      <td>NFYA</td>\n",
       "      <td>(Brain_Cortex, Artery_Tibial, Cells_Cultured_f...</td>\n",
       "    </tr>\n",
       "  </tbody>\n",
       "</table>\n",
       "</div>"
      ],
      "text/plain": [
       "                gene_name                                             tissue\n",
       "gene_id                                                                     \n",
       "ENSG00000000419      DPM1  (Brain_Hypothalamus, Brain_Substantia_nigra, C...\n",
       "ENSG00000000938       FGR  (Brain_Cortex, Artery_Tibial, Testis, Adipose_...\n",
       "ENSG00000000971       CFH  (Brain_Cortex, Artery_Tibial, Cells_Cultured_f...\n",
       "ENSG00000001084      GCLC  (Brain_Cortex, Artery_Tibial, Cells_Cultured_f...\n",
       "ENSG00000001167      NFYA  (Brain_Cortex, Artery_Tibial, Cells_Cultured_f..."
      ]
     },
     "execution_count": 86,
     "metadata": {},
     "output_type": "execute_result"
    }
   ],
   "source": [
    "spredixcan_genes_models.head()"
   ]
  },
  {
   "cell_type": "markdown",
   "id": "d1e67be9-9094-4a07-b89d-3a0815d503e6",
   "metadata": {
    "papermill": {
     "duration": 0.028424,
     "end_time": "2022-08-27T04:16:38.473917",
     "exception": false,
     "start_time": "2022-08-27T04:16:38.445493",
     "status": "completed"
    },
    "tags": []
   },
   "source": [
    "### Add number of tissues"
   ]
  },
  {
   "cell_type": "code",
   "execution_count": 87,
   "id": "b2702bdb-b3bc-48e6-9c3e-855924d9e74b",
   "metadata": {
    "execution": {
     "iopub.execute_input": "2022-08-27T04:16:38.535260Z",
     "iopub.status.busy": "2022-08-27T04:16:38.534976Z",
     "iopub.status.idle": "2022-08-27T04:16:38.554705Z",
     "shell.execute_reply": "2022-08-27T04:16:38.554124Z"
    },
    "papermill": {
     "duration": 0.053378,
     "end_time": "2022-08-27T04:16:38.556515",
     "exception": false,
     "start_time": "2022-08-27T04:16:38.503137",
     "status": "completed"
    },
    "tags": []
   },
   "outputs": [],
   "source": [
    "spredixcan_genes_models = spredixcan_genes_models.assign(\n",
    "    n_tissues=spredixcan_genes_models[\"tissue\"].apply(len)\n",
    ")"
   ]
  },
  {
   "cell_type": "code",
   "execution_count": 88,
   "id": "4a5eb4b8-5e11-45a3-a991-0515bd83fc03",
   "metadata": {
    "execution": {
     "iopub.execute_input": "2022-08-27T04:16:38.614223Z",
     "iopub.status.busy": "2022-08-27T04:16:38.614010Z",
     "iopub.status.idle": "2022-08-27T04:16:38.637113Z",
     "shell.execute_reply": "2022-08-27T04:16:38.636530Z"
    },
    "papermill": {
     "duration": 0.05316,
     "end_time": "2022-08-27T04:16:38.638748",
     "exception": false,
     "start_time": "2022-08-27T04:16:38.585588",
     "status": "completed"
    },
    "tags": []
   },
   "outputs": [
    {
     "data": {
      "text/html": [
       "<div>\n",
       "<style scoped>\n",
       "    .dataframe tbody tr th:only-of-type {\n",
       "        vertical-align: middle;\n",
       "    }\n",
       "\n",
       "    .dataframe tbody tr th {\n",
       "        vertical-align: top;\n",
       "    }\n",
       "\n",
       "    .dataframe thead th {\n",
       "        text-align: right;\n",
       "    }\n",
       "</style>\n",
       "<table border=\"1\" class=\"dataframe\">\n",
       "  <thead>\n",
       "    <tr style=\"text-align: right;\">\n",
       "      <th></th>\n",
       "      <th>gene_name</th>\n",
       "      <th>tissue</th>\n",
       "      <th>n_tissues</th>\n",
       "    </tr>\n",
       "    <tr>\n",
       "      <th>gene_id</th>\n",
       "      <th></th>\n",
       "      <th></th>\n",
       "      <th></th>\n",
       "    </tr>\n",
       "  </thead>\n",
       "  <tbody>\n",
       "    <tr>\n",
       "      <th>ENSG00000000419</th>\n",
       "      <td>DPM1</td>\n",
       "      <td>(Brain_Hypothalamus, Brain_Substantia_nigra, C...</td>\n",
       "      <td>3</td>\n",
       "    </tr>\n",
       "    <tr>\n",
       "      <th>ENSG00000000938</th>\n",
       "      <td>FGR</td>\n",
       "      <td>(Brain_Cortex, Artery_Tibial, Testis, Adipose_...</td>\n",
       "      <td>36</td>\n",
       "    </tr>\n",
       "    <tr>\n",
       "      <th>ENSG00000000971</th>\n",
       "      <td>CFH</td>\n",
       "      <td>(Brain_Cortex, Artery_Tibial, Cells_Cultured_f...</td>\n",
       "      <td>34</td>\n",
       "    </tr>\n",
       "    <tr>\n",
       "      <th>ENSG00000001084</th>\n",
       "      <td>GCLC</td>\n",
       "      <td>(Brain_Cortex, Artery_Tibial, Cells_Cultured_f...</td>\n",
       "      <td>33</td>\n",
       "    </tr>\n",
       "    <tr>\n",
       "      <th>ENSG00000001167</th>\n",
       "      <td>NFYA</td>\n",
       "      <td>(Brain_Cortex, Artery_Tibial, Cells_Cultured_f...</td>\n",
       "      <td>40</td>\n",
       "    </tr>\n",
       "  </tbody>\n",
       "</table>\n",
       "</div>"
      ],
      "text/plain": [
       "                gene_name                                             tissue  \\\n",
       "gene_id                                                                        \n",
       "ENSG00000000419      DPM1  (Brain_Hypothalamus, Brain_Substantia_nigra, C...   \n",
       "ENSG00000000938       FGR  (Brain_Cortex, Artery_Tibial, Testis, Adipose_...   \n",
       "ENSG00000000971       CFH  (Brain_Cortex, Artery_Tibial, Cells_Cultured_f...   \n",
       "ENSG00000001084      GCLC  (Brain_Cortex, Artery_Tibial, Cells_Cultured_f...   \n",
       "ENSG00000001167      NFYA  (Brain_Cortex, Artery_Tibial, Cells_Cultured_f...   \n",
       "\n",
       "                 n_tissues  \n",
       "gene_id                     \n",
       "ENSG00000000419          3  \n",
       "ENSG00000000938         36  \n",
       "ENSG00000000971         34  \n",
       "ENSG00000001084         33  \n",
       "ENSG00000001167         40  "
      ]
     },
     "execution_count": 88,
     "metadata": {},
     "output_type": "execute_result"
    }
   ],
   "source": [
    "spredixcan_genes_models.head()"
   ]
  },
  {
   "cell_type": "markdown",
   "id": "2abce820-1cb4-4a58-9dc5-b3e37d3ff037",
   "metadata": {
    "papermill": {
     "duration": 0.026639,
     "end_time": "2022-08-27T04:16:38.691931",
     "exception": false,
     "start_time": "2022-08-27T04:16:38.665292",
     "status": "completed"
    },
    "tags": []
   },
   "source": [
    "### Save"
   ]
  },
  {
   "cell_type": "markdown",
   "id": "28462e2a-da49-44c4-ae71-b3830a2b108f",
   "metadata": {
    "papermill": {
     "duration": 0.025696,
     "end_time": "2022-08-27T04:16:38.745312",
     "exception": false,
     "start_time": "2022-08-27T04:16:38.719616",
     "status": "completed"
    },
    "tags": []
   },
   "source": [
    "Here I quickly save these results to a file, given that the next steps (covariates) are slow to compute."
   ]
  },
  {
   "cell_type": "code",
   "execution_count": 89,
   "id": "9cfb687d-5ab2-4e85-9944-f5c685de8046",
   "metadata": {
    "execution": {
     "iopub.execute_input": "2022-08-27T04:16:38.801531Z",
     "iopub.status.busy": "2022-08-27T04:16:38.801253Z",
     "iopub.status.idle": "2022-08-27T04:16:38.819597Z",
     "shell.execute_reply": "2022-08-27T04:16:38.819022Z"
    },
    "papermill": {
     "duration": 0.049798,
     "end_time": "2022-08-27T04:16:38.821310",
     "exception": false,
     "start_time": "2022-08-27T04:16:38.771512",
     "status": "completed"
    },
    "tags": []
   },
   "outputs": [],
   "source": [
    "# this is important, other scripts depend on gene_name to be unique\n",
    "assert spredixcan_genes_models[\"gene_name\"].is_unique"
   ]
  },
  {
   "cell_type": "code",
   "execution_count": 90,
   "id": "b2d9bd26-afaa-4aff-a707-3109e13af9bb",
   "metadata": {
    "execution": {
     "iopub.execute_input": "2022-08-27T04:16:38.879372Z",
     "iopub.status.busy": "2022-08-27T04:16:38.879112Z",
     "iopub.status.idle": "2022-08-27T04:16:38.895484Z",
     "shell.execute_reply": "2022-08-27T04:16:38.894932Z"
    },
    "papermill": {
     "duration": 0.047106,
     "end_time": "2022-08-27T04:16:38.897141",
     "exception": false,
     "start_time": "2022-08-27T04:16:38.850035",
     "status": "completed"
    },
    "tags": []
   },
   "outputs": [],
   "source": [
    "assert not spredixcan_genes_models.isna().any(None)"
   ]
  },
  {
   "cell_type": "code",
   "execution_count": 91,
   "id": "074b103c-2960-4299-a3ac-fa37ab6f2784",
   "metadata": {
    "execution": {
     "iopub.execute_input": "2022-08-27T04:16:38.952211Z",
     "iopub.status.busy": "2022-08-27T04:16:38.951932Z",
     "iopub.status.idle": "2022-08-27T04:16:38.991415Z",
     "shell.execute_reply": "2022-08-27T04:16:38.990759Z"
    },
    "papermill": {
     "duration": 0.068517,
     "end_time": "2022-08-27T04:16:38.993576",
     "exception": false,
     "start_time": "2022-08-27T04:16:38.925059",
     "status": "completed"
    },
    "tags": []
   },
   "outputs": [],
   "source": [
    "spredixcan_genes_models.to_pickle(OUTPUT_DIR_BASE / \"gene_tissues.pkl\")"
   ]
  },
  {
   "cell_type": "markdown",
   "id": "ae18f693-4da8-48ae-85b6-8194abcca684",
   "metadata": {
    "papermill": {
     "duration": 0.026499,
     "end_time": "2022-08-27T04:16:39.048452",
     "exception": false,
     "start_time": "2022-08-27T04:16:39.021953",
     "status": "completed"
    },
    "tags": []
   },
   "source": [
    "## Add covariates based on S-PrediXcan results"
   ]
  },
  {
   "cell_type": "markdown",
   "id": "bed7a46c-4906-40b9-9dd8-0bfb584e6d2a",
   "metadata": {
    "papermill": {
     "duration": 0.027879,
     "end_time": "2022-08-27T04:16:39.104242",
     "exception": false,
     "start_time": "2022-08-27T04:16:39.076363",
     "status": "completed"
    },
    "tags": []
   },
   "source": [
    "This extend the previous file with more columns"
   ]
  },
  {
   "cell_type": "markdown",
   "id": "850c554f-2ace-40a3-a33a-477246bb07c7",
   "metadata": {
    "papermill": {
     "duration": 0.026605,
     "end_time": "2022-08-27T04:16:39.158511",
     "exception": false,
     "start_time": "2022-08-27T04:16:39.131906",
     "status": "completed"
    },
    "tags": []
   },
   "source": [
    "### Get gene's objects"
   ]
  },
  {
   "cell_type": "code",
   "execution_count": 92,
   "id": "dfd93711-5c91-4cb6-8561-f366e270b6b1",
   "metadata": {
    "execution": {
     "iopub.execute_input": "2022-08-27T04:16:39.214251Z",
     "iopub.status.busy": "2022-08-27T04:16:39.213976Z",
     "iopub.status.idle": "2022-08-27T04:16:39.239625Z",
     "shell.execute_reply": "2022-08-27T04:16:39.239017Z"
    },
    "papermill": {
     "duration": 0.05621,
     "end_time": "2022-08-27T04:16:39.241418",
     "exception": false,
     "start_time": "2022-08-27T04:16:39.185208",
     "status": "completed"
    },
    "tags": []
   },
   "outputs": [],
   "source": [
    "spredixcan_gene_obj = {\n",
    "    gene_id: Gene(ensembl_id=gene_id) for gene_id in spredixcan_genes_models.index\n",
    "}"
   ]
  },
  {
   "cell_type": "code",
   "execution_count": 93,
   "id": "59efbedc-0b5d-4d0b-bd82-95e74c0ba793",
   "metadata": {
    "execution": {
     "iopub.execute_input": "2022-08-27T04:16:39.296680Z",
     "iopub.status.busy": "2022-08-27T04:16:39.296394Z",
     "iopub.status.idle": "2022-08-27T04:16:39.313365Z",
     "shell.execute_reply": "2022-08-27T04:16:39.312831Z"
    },
    "papermill": {
     "duration": 0.046104,
     "end_time": "2022-08-27T04:16:39.314917",
     "exception": false,
     "start_time": "2022-08-27T04:16:39.268813",
     "status": "completed"
    },
    "tags": []
   },
   "outputs": [
    {
     "data": {
      "text/plain": [
       "6450"
      ]
     },
     "execution_count": 93,
     "metadata": {},
     "output_type": "execute_result"
    }
   ],
   "source": [
    "len(spredixcan_gene_obj)"
   ]
  },
  {
   "cell_type": "markdown",
   "id": "27ac1828-755a-424a-b416-6aef1f0c2e45",
   "metadata": {
    "papermill": {
     "duration": 0.026788,
     "end_time": "2022-08-27T04:16:39.369052",
     "exception": false,
     "start_time": "2022-08-27T04:16:39.342264",
     "status": "completed"
    },
    "tags": []
   },
   "source": [
    "### Add genes' variance captured by principal components"
   ]
  },
  {
   "cell_type": "code",
   "execution_count": 94,
   "id": "893b3418-054c-44d2-9ce0-7fa590aef00e",
   "metadata": {
    "execution": {
     "iopub.execute_input": "2022-08-27T04:16:39.422799Z",
     "iopub.status.busy": "2022-08-27T04:16:39.422513Z",
     "iopub.status.idle": "2022-08-27T04:16:39.439213Z",
     "shell.execute_reply": "2022-08-27T04:16:39.438684Z"
    },
    "papermill": {
     "duration": 0.045557,
     "end_time": "2022-08-27T04:16:39.440839",
     "exception": false,
     "start_time": "2022-08-27T04:16:39.395282",
     "status": "completed"
    },
    "tags": []
   },
   "outputs": [],
   "source": [
    "def _get_gene_pc_variance(gene_row):\n",
    "    gene_id = gene_row.name\n",
    "    gene_tissues = gene_row[\"tissue\"]\n",
    "    gene_obj = spredixcan_gene_obj[gene_id]\n",
    "\n",
    "    u, s, vt = gene_obj.get_tissues_correlations_svd(\n",
    "        tissues=gene_tissues,\n",
    "        snps_subset=gwas_variants_ids_set,\n",
    "        reference_panel=REFERENCE_PANEL,\n",
    "        model_type=EQTL_MODEL,\n",
    "        # use_covariance_matrix=True,\n",
    "    )\n",
    "\n",
    "    return s"
   ]
  },
  {
   "cell_type": "code",
   "execution_count": 95,
   "id": "083afa33-cea0-40d3-af20-94a1307a6607",
   "metadata": {
    "execution": {
     "iopub.execute_input": "2022-08-27T04:16:39.495833Z",
     "iopub.status.busy": "2022-08-27T04:16:39.495575Z",
     "iopub.status.idle": "2022-08-27T04:16:43.128470Z",
     "shell.execute_reply": "2022-08-27T04:16:43.127773Z"
    },
    "papermill": {
     "duration": 3.662741,
     "end_time": "2022-08-27T04:16:43.130314",
     "exception": false,
     "start_time": "2022-08-27T04:16:39.467573",
     "status": "completed"
    },
    "tags": []
   },
   "outputs": [
    {
     "data": {
      "text/plain": [
       "array([35.60509556,  3.87543604,  2.16044422,  1.41758395,  1.26548868])"
      ]
     },
     "execution_count": 95,
     "metadata": {},
     "output_type": "execute_result"
    }
   ],
   "source": [
    "_tmp = spredixcan_genes_models.loc[\"ENSG00000188976\"]\n",
    "_get_gene_pc_variance(_tmp)"
   ]
  },
  {
   "cell_type": "code",
   "execution_count": 96,
   "id": "80f7720d-79c9-4183-bb7e-b1480f31ed87",
   "metadata": {
    "execution": {
     "iopub.execute_input": "2022-08-27T04:16:43.187068Z",
     "iopub.status.busy": "2022-08-27T04:16:43.186793Z",
     "iopub.status.idle": "2022-08-27T05:51:23.578123Z",
     "shell.execute_reply": "2022-08-27T05:51:23.577288Z"
    },
    "papermill": {
     "duration": 5680.422197,
     "end_time": "2022-08-27T05:51:23.580343",
     "exception": false,
     "start_time": "2022-08-27T04:16:43.158146",
     "status": "completed"
    },
    "tags": []
   },
   "outputs": [],
   "source": [
    "spredixcan_genes_tissues_pc_variance = spredixcan_genes_models.apply(\n",
    "    _get_gene_pc_variance, axis=1\n",
    ")"
   ]
  },
  {
   "cell_type": "code",
   "execution_count": 97,
   "id": "621302a1-1407-4400-9282-e37798bb18b3",
   "metadata": {
    "execution": {
     "iopub.execute_input": "2022-08-27T05:51:23.662230Z",
     "iopub.status.busy": "2022-08-27T05:51:23.661957Z",
     "iopub.status.idle": "2022-08-27T05:51:23.855467Z",
     "shell.execute_reply": "2022-08-27T05:51:23.854889Z"
    },
    "papermill": {
     "duration": 0.223526,
     "end_time": "2022-08-27T05:51:23.857107",
     "exception": false,
     "start_time": "2022-08-27T05:51:23.633581",
     "status": "completed"
    },
    "tags": []
   },
   "outputs": [
    {
     "data": {
      "text/plain": [
       "gene_id\n",
       "ENSG00000000419    [1.0525406583994028, 1.024362410165966, 0.9230...\n",
       "ENSG00000000938    [31.63266933637127, 2.0783677518511445, 1.2716...\n",
       "ENSG00000000971    [21.560769925683296, 7.3101709870454625, 1.837...\n",
       "ENSG00000001084    [21.74736589643256, 4.70064578668365, 2.249949...\n",
       "ENSG00000001167                                  [38.28994327673914]\n",
       "                                         ...                        \n",
       "ENSG00000278540    [30.239540272954727, 3.0448326465798914, 1.679...\n",
       "ENSG00000278828              [3.062182335109642, 0.9378176648903574]\n",
       "ENSG00000278845               [45.6143801458816, 2.2705553628003416]\n",
       "ENSG00000281005                                  [48.30170739785572]\n",
       "ENSG00000282608    [22.653514081237113, 6.245520030604539, 2.5559...\n",
       "Length: 6450, dtype: object"
      ]
     },
     "execution_count": 97,
     "metadata": {},
     "output_type": "execute_result"
    }
   ],
   "source": [
    "spredixcan_genes_tissues_pc_variance"
   ]
  },
  {
   "cell_type": "code",
   "execution_count": 98,
   "id": "9ac9e0fb-e0cc-4fea-ad01-2e76d40afb3c",
   "metadata": {
    "execution": {
     "iopub.execute_input": "2022-08-27T05:51:23.913013Z",
     "iopub.status.busy": "2022-08-27T05:51:23.912748Z",
     "iopub.status.idle": "2022-08-27T05:51:23.928752Z",
     "shell.execute_reply": "2022-08-27T05:51:23.928218Z"
    },
    "papermill": {
     "duration": 0.045703,
     "end_time": "2022-08-27T05:51:23.930382",
     "exception": false,
     "start_time": "2022-08-27T05:51:23.884679",
     "status": "completed"
    },
    "tags": []
   },
   "outputs": [],
   "source": [
    "# # testing\n",
    "# assert spredixcan_genes_tissues_pc_variance.loc[\n",
    "#     \"ENSG00000188976\"\n",
    "# ].sum() == pytest.approx(44.01605629086847)\n",
    "# # this is using the covariance:\n",
    "# # assert spredixcan_genes_tissues_pc_variance.loc[\"ENSG00000188976\"].sum() == pytest.approx(1.1492946006449425)"
   ]
  },
  {
   "cell_type": "code",
   "execution_count": 99,
   "id": "700ed8c8-16e3-4f44-80ff-a4355349ac26",
   "metadata": {
    "execution": {
     "iopub.execute_input": "2022-08-27T05:51:23.988777Z",
     "iopub.status.busy": "2022-08-27T05:51:23.988507Z",
     "iopub.status.idle": "2022-08-27T05:51:24.008186Z",
     "shell.execute_reply": "2022-08-27T05:51:24.007599Z"
    },
    "papermill": {
     "duration": 0.051511,
     "end_time": "2022-08-27T05:51:24.010124",
     "exception": false,
     "start_time": "2022-08-27T05:51:23.958613",
     "status": "completed"
    },
    "tags": []
   },
   "outputs": [],
   "source": [
    "# add to spredixcan_genes_models\n",
    "spredixcan_genes_models = spredixcan_genes_models.join(\n",
    "    spredixcan_genes_tissues_pc_variance.rename(\"tissues_pc_variances\")\n",
    ")"
   ]
  },
  {
   "cell_type": "code",
   "execution_count": 100,
   "id": "597f7dff-2425-490d-84d6-537f8bd0f147",
   "metadata": {
    "execution": {
     "iopub.execute_input": "2022-08-27T05:51:24.067652Z",
     "iopub.status.busy": "2022-08-27T05:51:24.067389Z",
     "iopub.status.idle": "2022-08-27T05:51:24.086116Z",
     "shell.execute_reply": "2022-08-27T05:51:24.085542Z"
    },
    "papermill": {
     "duration": 0.049373,
     "end_time": "2022-08-27T05:51:24.087705",
     "exception": false,
     "start_time": "2022-08-27T05:51:24.038332",
     "status": "completed"
    },
    "tags": []
   },
   "outputs": [
    {
     "data": {
      "text/plain": [
       "(6450, 4)"
      ]
     },
     "execution_count": 100,
     "metadata": {},
     "output_type": "execute_result"
    }
   ],
   "source": [
    "spredixcan_genes_models.shape"
   ]
  },
  {
   "cell_type": "code",
   "execution_count": 101,
   "id": "41bdb249-f7e3-4b07-a534-2c3e46db72dc",
   "metadata": {
    "execution": {
     "iopub.execute_input": "2022-08-27T05:51:24.145923Z",
     "iopub.status.busy": "2022-08-27T05:51:24.145621Z",
     "iopub.status.idle": "2022-08-27T05:51:24.171975Z",
     "shell.execute_reply": "2022-08-27T05:51:24.171394Z"
    },
    "papermill": {
     "duration": 0.05743,
     "end_time": "2022-08-27T05:51:24.173579",
     "exception": false,
     "start_time": "2022-08-27T05:51:24.116149",
     "status": "completed"
    },
    "tags": []
   },
   "outputs": [
    {
     "data": {
      "text/html": [
       "<div>\n",
       "<style scoped>\n",
       "    .dataframe tbody tr th:only-of-type {\n",
       "        vertical-align: middle;\n",
       "    }\n",
       "\n",
       "    .dataframe tbody tr th {\n",
       "        vertical-align: top;\n",
       "    }\n",
       "\n",
       "    .dataframe thead th {\n",
       "        text-align: right;\n",
       "    }\n",
       "</style>\n",
       "<table border=\"1\" class=\"dataframe\">\n",
       "  <thead>\n",
       "    <tr style=\"text-align: right;\">\n",
       "      <th></th>\n",
       "      <th>gene_name</th>\n",
       "      <th>tissue</th>\n",
       "      <th>n_tissues</th>\n",
       "      <th>tissues_pc_variances</th>\n",
       "    </tr>\n",
       "    <tr>\n",
       "      <th>gene_id</th>\n",
       "      <th></th>\n",
       "      <th></th>\n",
       "      <th></th>\n",
       "      <th></th>\n",
       "    </tr>\n",
       "  </thead>\n",
       "  <tbody>\n",
       "    <tr>\n",
       "      <th>ENSG00000000419</th>\n",
       "      <td>DPM1</td>\n",
       "      <td>(Brain_Hypothalamus, Brain_Substantia_nigra, C...</td>\n",
       "      <td>3</td>\n",
       "      <td>[1.0525406583994028, 1.024362410165966, 0.9230...</td>\n",
       "    </tr>\n",
       "    <tr>\n",
       "      <th>ENSG00000000938</th>\n",
       "      <td>FGR</td>\n",
       "      <td>(Brain_Cortex, Artery_Tibial, Testis, Adipose_...</td>\n",
       "      <td>36</td>\n",
       "      <td>[31.63266933637127, 2.0783677518511445, 1.2716...</td>\n",
       "    </tr>\n",
       "    <tr>\n",
       "      <th>ENSG00000000971</th>\n",
       "      <td>CFH</td>\n",
       "      <td>(Brain_Cortex, Artery_Tibial, Cells_Cultured_f...</td>\n",
       "      <td>34</td>\n",
       "      <td>[21.560769925683296, 7.3101709870454625, 1.837...</td>\n",
       "    </tr>\n",
       "    <tr>\n",
       "      <th>ENSG00000001084</th>\n",
       "      <td>GCLC</td>\n",
       "      <td>(Brain_Cortex, Artery_Tibial, Cells_Cultured_f...</td>\n",
       "      <td>33</td>\n",
       "      <td>[21.74736589643256, 4.70064578668365, 2.249949...</td>\n",
       "    </tr>\n",
       "    <tr>\n",
       "      <th>ENSG00000001167</th>\n",
       "      <td>NFYA</td>\n",
       "      <td>(Brain_Cortex, Artery_Tibial, Cells_Cultured_f...</td>\n",
       "      <td>40</td>\n",
       "      <td>[38.28994327673914]</td>\n",
       "    </tr>\n",
       "  </tbody>\n",
       "</table>\n",
       "</div>"
      ],
      "text/plain": [
       "                gene_name                                             tissue  \\\n",
       "gene_id                                                                        \n",
       "ENSG00000000419      DPM1  (Brain_Hypothalamus, Brain_Substantia_nigra, C...   \n",
       "ENSG00000000938       FGR  (Brain_Cortex, Artery_Tibial, Testis, Adipose_...   \n",
       "ENSG00000000971       CFH  (Brain_Cortex, Artery_Tibial, Cells_Cultured_f...   \n",
       "ENSG00000001084      GCLC  (Brain_Cortex, Artery_Tibial, Cells_Cultured_f...   \n",
       "ENSG00000001167      NFYA  (Brain_Cortex, Artery_Tibial, Cells_Cultured_f...   \n",
       "\n",
       "                 n_tissues                               tissues_pc_variances  \n",
       "gene_id                                                                        \n",
       "ENSG00000000419          3  [1.0525406583994028, 1.024362410165966, 0.9230...  \n",
       "ENSG00000000938         36  [31.63266933637127, 2.0783677518511445, 1.2716...  \n",
       "ENSG00000000971         34  [21.560769925683296, 7.3101709870454625, 1.837...  \n",
       "ENSG00000001084         33  [21.74736589643256, 4.70064578668365, 2.249949...  \n",
       "ENSG00000001167         40                                [38.28994327673914]  "
      ]
     },
     "execution_count": 101,
     "metadata": {},
     "output_type": "execute_result"
    }
   ],
   "source": [
    "spredixcan_genes_models.head()"
   ]
  },
  {
   "cell_type": "markdown",
   "id": "ef1c76d7-485b-4e8a-932e-fd01382d5520",
   "metadata": {
    "papermill": {
     "duration": 0.028966,
     "end_time": "2022-08-27T05:51:24.231263",
     "exception": false,
     "start_time": "2022-08-27T05:51:24.202297",
     "status": "completed"
    },
    "tags": []
   },
   "source": [
    "### Add gene variance per tissue"
   ]
  },
  {
   "cell_type": "code",
   "execution_count": 102,
   "id": "530f7941-6ad7-4a29-b9e4-a006949282e0",
   "metadata": {
    "execution": {
     "iopub.execute_input": "2022-08-27T05:51:24.288384Z",
     "iopub.status.busy": "2022-08-27T05:51:24.288101Z",
     "iopub.status.idle": "2022-08-27T05:51:24.306255Z",
     "shell.execute_reply": "2022-08-27T05:51:24.305676Z"
    },
    "papermill": {
     "duration": 0.048751,
     "end_time": "2022-08-27T05:51:24.307964",
     "exception": false,
     "start_time": "2022-08-27T05:51:24.259213",
     "status": "completed"
    },
    "tags": []
   },
   "outputs": [],
   "source": [
    "def _get_gene_variances(gene_row):\n",
    "    gene_id = gene_row.name\n",
    "    gene_tissues = gene_row[\"tissue\"]\n",
    "\n",
    "    tissue_variances = {}\n",
    "    gene_obj = spredixcan_gene_obj[gene_id]\n",
    "\n",
    "    for tissue in gene_tissues:\n",
    "        tissue_var = gene_obj.get_pred_expression_variance(\n",
    "            tissue=tissue,\n",
    "            reference_panel=REFERENCE_PANEL,\n",
    "            model_type=EQTL_MODEL,\n",
    "            snps_subset=gwas_variants_ids_set,\n",
    "        )\n",
    "\n",
    "        if tissue_var is not None:\n",
    "            tissue_variances[tissue] = tissue_var\n",
    "\n",
    "    return tissue_variances"
   ]
  },
  {
   "cell_type": "code",
   "execution_count": 103,
   "id": "01eb9e6a-4505-44e6-9e6e-9788e257f319",
   "metadata": {
    "execution": {
     "iopub.execute_input": "2022-08-27T05:51:24.365919Z",
     "iopub.status.busy": "2022-08-27T05:51:24.365639Z",
     "iopub.status.idle": "2022-08-27T05:51:24.694287Z",
     "shell.execute_reply": "2022-08-27T05:51:24.693704Z"
    },
    "papermill": {
     "duration": 0.359399,
     "end_time": "2022-08-27T05:51:24.695871",
     "exception": false,
     "start_time": "2022-08-27T05:51:24.336472",
     "status": "completed"
    },
    "tags": []
   },
   "outputs": [
    {
     "data": {
      "text/plain": [
       "{'Brain_Hypothalamus': 0.013162153504206677,\n",
       " 'Brain_Substantia_nigra': 0.0004867380334260178,\n",
       " 'Cells_Cultured_fibroblasts': 0.0030618005265686445}"
      ]
     },
     "execution_count": 103,
     "metadata": {},
     "output_type": "execute_result"
    }
   ],
   "source": [
    "_tmp = spredixcan_genes_models.loc[\"ENSG00000000419\"]\n",
    "_get_gene_variances(_tmp)"
   ]
  },
  {
   "cell_type": "code",
   "execution_count": 104,
   "id": "447061ec-4847-4911-a1d6-8b86d15e4aac",
   "metadata": {
    "execution": {
     "iopub.execute_input": "2022-08-27T05:51:24.753233Z",
     "iopub.status.busy": "2022-08-27T05:51:24.752971Z",
     "iopub.status.idle": "2022-08-27T06:54:04.463355Z",
     "shell.execute_reply": "2022-08-27T06:54:04.462540Z"
    },
    "papermill": {
     "duration": 3759.741057,
     "end_time": "2022-08-27T06:54:04.465467",
     "exception": false,
     "start_time": "2022-08-27T05:51:24.724410",
     "status": "completed"
    },
    "tags": []
   },
   "outputs": [],
   "source": [
    "spredixcan_genes_tissues_variance = spredixcan_genes_models.apply(\n",
    "    _get_gene_variances, axis=1\n",
    ")"
   ]
  },
  {
   "cell_type": "code",
   "execution_count": 105,
   "id": "816cbdd2-d667-4eaa-bbf7-335550854ee8",
   "metadata": {
    "execution": {
     "iopub.execute_input": "2022-08-27T06:54:04.524247Z",
     "iopub.status.busy": "2022-08-27T06:54:04.523963Z",
     "iopub.status.idle": "2022-08-27T06:54:04.705752Z",
     "shell.execute_reply": "2022-08-27T06:54:04.705181Z"
    },
    "papermill": {
     "duration": 0.212137,
     "end_time": "2022-08-27T06:54:04.707335",
     "exception": false,
     "start_time": "2022-08-27T06:54:04.495198",
     "status": "completed"
    },
    "tags": []
   },
   "outputs": [
    {
     "data": {
      "text/plain": [
       "gene_id\n",
       "ENSG00000000419    {'Brain_Hypothalamus': 0.013162153504206677, '...\n",
       "ENSG00000000938    {'Brain_Cortex': 0.004882241504747395, 'Artery...\n",
       "ENSG00000000971    {'Brain_Cortex': 0.005725070121841921, 'Artery...\n",
       "ENSG00000001084    {'Brain_Cortex': 0.024826936262456585, 'Artery...\n",
       "ENSG00000001167    {'Brain_Cortex': 0.016199723974989217, 'Artery...\n",
       "                                         ...                        \n",
       "ENSG00000278540    {'Brain_Cortex': 0.0056851674728940725, 'Arter...\n",
       "ENSG00000278828    {'Cells_EBV-transformed_lymphocytes': 0.003027...\n",
       "ENSG00000278845    {'Brain_Cortex': 0.07259083788627797, 'Artery_...\n",
       "ENSG00000281005    {'Brain_Cortex': 0.1386141871539704, 'Artery_T...\n",
       "ENSG00000282608    {'Brain_Cortex': 0.022567360072040715, 'Artery...\n",
       "Length: 6450, dtype: object"
      ]
     },
     "execution_count": 105,
     "metadata": {},
     "output_type": "execute_result"
    }
   ],
   "source": [
    "spredixcan_genes_tissues_variance"
   ]
  },
  {
   "cell_type": "code",
   "execution_count": 106,
   "id": "68c65eb6-15c0-494d-992f-93bc84268a59",
   "metadata": {
    "execution": {
     "iopub.execute_input": "2022-08-27T06:54:04.764397Z",
     "iopub.status.busy": "2022-08-27T06:54:04.764133Z",
     "iopub.status.idle": "2022-08-27T06:54:04.780348Z",
     "shell.execute_reply": "2022-08-27T06:54:04.779807Z"
    },
    "papermill": {
     "duration": 0.046414,
     "end_time": "2022-08-27T06:54:04.781995",
     "exception": false,
     "start_time": "2022-08-27T06:54:04.735581",
     "status": "completed"
    },
    "tags": []
   },
   "outputs": [],
   "source": [
    "# # testing\n",
    "# _gene_id = \"ENSG00000188976\"\n",
    "# x = spredixcan_genes_tissues_variance.loc[_gene_id]\n",
    "# # expected value obtained by sum of PCA eigenvalues on this gene's predicted expression\n",
    "# assert np.sum(list(x.values())) == pytest.approx(1.2326202607409493)"
   ]
  },
  {
   "cell_type": "code",
   "execution_count": 107,
   "id": "1996453a-fdfc-44e9-bbdf-b83e3b3b1aee",
   "metadata": {
    "execution": {
     "iopub.execute_input": "2022-08-27T06:54:04.839967Z",
     "iopub.status.busy": "2022-08-27T06:54:04.839676Z",
     "iopub.status.idle": "2022-08-27T06:54:04.858605Z",
     "shell.execute_reply": "2022-08-27T06:54:04.858080Z"
    },
    "papermill": {
     "duration": 0.049303,
     "end_time": "2022-08-27T06:54:04.860145",
     "exception": false,
     "start_time": "2022-08-27T06:54:04.810842",
     "status": "completed"
    },
    "tags": []
   },
   "outputs": [
    {
     "data": {
      "text/plain": [
       "{'Brain_Hypothalamus': 0.013162153504206677,\n",
       " 'Brain_Substantia_nigra': 0.0004867380334260178,\n",
       " 'Cells_Cultured_fibroblasts': 0.0030618005265686445}"
      ]
     },
     "execution_count": 107,
     "metadata": {},
     "output_type": "execute_result"
    }
   ],
   "source": [
    "# testing\n",
    "spredixcan_genes_tissues_variance.loc[\"ENSG00000000419\"]"
   ]
  },
  {
   "cell_type": "code",
   "execution_count": 108,
   "id": "62572b31-7e49-4ed0-ac1b-42552f3e264f",
   "metadata": {
    "execution": {
     "iopub.execute_input": "2022-08-27T06:54:04.919695Z",
     "iopub.status.busy": "2022-08-27T06:54:04.919434Z",
     "iopub.status.idle": "2022-08-27T06:54:04.936106Z",
     "shell.execute_reply": "2022-08-27T06:54:04.935472Z"
    },
    "papermill": {
     "duration": 0.048424,
     "end_time": "2022-08-27T06:54:04.937793",
     "exception": false,
     "start_time": "2022-08-27T06:54:04.889369",
     "status": "completed"
    },
    "tags": []
   },
   "outputs": [],
   "source": [
    "# FIXME: maybe add more tests, these differt from GTEX V8\n",
    "# # testing\n",
    "# # here values were obtained from S-PrediXcan results, where the reference panel is GTEX V8, not 1000G, so just approximations)\n",
    "# _gene_id = \"ENSG00000000419\"\n",
    "# assert spredixcan_genes_tissues_variance.loc[_gene_id][\"Brain_Substantia_nigra\"] == pytest.approx(0.0004266255268163448)\n",
    "# assert spredixcan_genes_tissues_variance.loc[_gene_id][\"Brain_Hypothalamus\"] == pytest.approx(0.011235877515236132)"
   ]
  },
  {
   "cell_type": "code",
   "execution_count": 109,
   "id": "88e42a97-801b-43a4-a829-4eaac03360b8",
   "metadata": {
    "execution": {
     "iopub.execute_input": "2022-08-27T06:54:04.996754Z",
     "iopub.status.busy": "2022-08-27T06:54:04.996477Z",
     "iopub.status.idle": "2022-08-27T06:54:05.016051Z",
     "shell.execute_reply": "2022-08-27T06:54:05.015442Z"
    },
    "papermill": {
     "duration": 0.051283,
     "end_time": "2022-08-27T06:54:05.018078",
     "exception": false,
     "start_time": "2022-08-27T06:54:04.966795",
     "status": "completed"
    },
    "tags": []
   },
   "outputs": [],
   "source": [
    "# add to spredixcan_genes_models\n",
    "spredixcan_genes_models = spredixcan_genes_models.join(\n",
    "    spredixcan_genes_tissues_variance.rename(\"tissues_variances\")\n",
    ")"
   ]
  },
  {
   "cell_type": "code",
   "execution_count": 110,
   "id": "cb177ca4-fdcb-432f-a102-9c6bd6bd7fa0",
   "metadata": {
    "execution": {
     "iopub.execute_input": "2022-08-27T06:54:05.079345Z",
     "iopub.status.busy": "2022-08-27T06:54:05.079080Z",
     "iopub.status.idle": "2022-08-27T06:54:05.097480Z",
     "shell.execute_reply": "2022-08-27T06:54:05.096941Z"
    },
    "papermill": {
     "duration": 0.051038,
     "end_time": "2022-08-27T06:54:05.099024",
     "exception": false,
     "start_time": "2022-08-27T06:54:05.047986",
     "status": "completed"
    },
    "tags": []
   },
   "outputs": [
    {
     "data": {
      "text/plain": [
       "(6450, 5)"
      ]
     },
     "execution_count": 110,
     "metadata": {},
     "output_type": "execute_result"
    }
   ],
   "source": [
    "spredixcan_genes_models.shape"
   ]
  },
  {
   "cell_type": "code",
   "execution_count": 111,
   "id": "ccabe1fa-20ae-4893-bf12-9a3359b213b8",
   "metadata": {
    "execution": {
     "iopub.execute_input": "2022-08-27T06:54:05.159187Z",
     "iopub.status.busy": "2022-08-27T06:54:05.158927Z",
     "iopub.status.idle": "2022-08-27T06:54:05.188596Z",
     "shell.execute_reply": "2022-08-27T06:54:05.188059Z"
    },
    "papermill": {
     "duration": 0.062806,
     "end_time": "2022-08-27T06:54:05.190155",
     "exception": false,
     "start_time": "2022-08-27T06:54:05.127349",
     "status": "completed"
    },
    "tags": []
   },
   "outputs": [
    {
     "data": {
      "text/html": [
       "<div>\n",
       "<style scoped>\n",
       "    .dataframe tbody tr th:only-of-type {\n",
       "        vertical-align: middle;\n",
       "    }\n",
       "\n",
       "    .dataframe tbody tr th {\n",
       "        vertical-align: top;\n",
       "    }\n",
       "\n",
       "    .dataframe thead th {\n",
       "        text-align: right;\n",
       "    }\n",
       "</style>\n",
       "<table border=\"1\" class=\"dataframe\">\n",
       "  <thead>\n",
       "    <tr style=\"text-align: right;\">\n",
       "      <th></th>\n",
       "      <th>gene_name</th>\n",
       "      <th>tissue</th>\n",
       "      <th>n_tissues</th>\n",
       "      <th>tissues_pc_variances</th>\n",
       "      <th>tissues_variances</th>\n",
       "    </tr>\n",
       "    <tr>\n",
       "      <th>gene_id</th>\n",
       "      <th></th>\n",
       "      <th></th>\n",
       "      <th></th>\n",
       "      <th></th>\n",
       "      <th></th>\n",
       "    </tr>\n",
       "  </thead>\n",
       "  <tbody>\n",
       "    <tr>\n",
       "      <th>ENSG00000000419</th>\n",
       "      <td>DPM1</td>\n",
       "      <td>(Brain_Hypothalamus, Brain_Substantia_nigra, C...</td>\n",
       "      <td>3</td>\n",
       "      <td>[1.0525406583994028, 1.024362410165966, 0.9230...</td>\n",
       "      <td>{'Brain_Hypothalamus': 0.013162153504206677, '...</td>\n",
       "    </tr>\n",
       "    <tr>\n",
       "      <th>ENSG00000000938</th>\n",
       "      <td>FGR</td>\n",
       "      <td>(Brain_Cortex, Artery_Tibial, Testis, Adipose_...</td>\n",
       "      <td>36</td>\n",
       "      <td>[31.63266933637127, 2.0783677518511445, 1.2716...</td>\n",
       "      <td>{'Brain_Cortex': 0.004882241504747395, 'Artery...</td>\n",
       "    </tr>\n",
       "    <tr>\n",
       "      <th>ENSG00000000971</th>\n",
       "      <td>CFH</td>\n",
       "      <td>(Brain_Cortex, Artery_Tibial, Cells_Cultured_f...</td>\n",
       "      <td>34</td>\n",
       "      <td>[21.560769925683296, 7.3101709870454625, 1.837...</td>\n",
       "      <td>{'Brain_Cortex': 0.005725070121841921, 'Artery...</td>\n",
       "    </tr>\n",
       "    <tr>\n",
       "      <th>ENSG00000001084</th>\n",
       "      <td>GCLC</td>\n",
       "      <td>(Brain_Cortex, Artery_Tibial, Cells_Cultured_f...</td>\n",
       "      <td>33</td>\n",
       "      <td>[21.74736589643256, 4.70064578668365, 2.249949...</td>\n",
       "      <td>{'Brain_Cortex': 0.024826936262456585, 'Artery...</td>\n",
       "    </tr>\n",
       "    <tr>\n",
       "      <th>ENSG00000001167</th>\n",
       "      <td>NFYA</td>\n",
       "      <td>(Brain_Cortex, Artery_Tibial, Cells_Cultured_f...</td>\n",
       "      <td>40</td>\n",
       "      <td>[38.28994327673914]</td>\n",
       "      <td>{'Brain_Cortex': 0.016199723974989217, 'Artery...</td>\n",
       "    </tr>\n",
       "  </tbody>\n",
       "</table>\n",
       "</div>"
      ],
      "text/plain": [
       "                gene_name                                             tissue  \\\n",
       "gene_id                                                                        \n",
       "ENSG00000000419      DPM1  (Brain_Hypothalamus, Brain_Substantia_nigra, C...   \n",
       "ENSG00000000938       FGR  (Brain_Cortex, Artery_Tibial, Testis, Adipose_...   \n",
       "ENSG00000000971       CFH  (Brain_Cortex, Artery_Tibial, Cells_Cultured_f...   \n",
       "ENSG00000001084      GCLC  (Brain_Cortex, Artery_Tibial, Cells_Cultured_f...   \n",
       "ENSG00000001167      NFYA  (Brain_Cortex, Artery_Tibial, Cells_Cultured_f...   \n",
       "\n",
       "                 n_tissues                               tissues_pc_variances  \\\n",
       "gene_id                                                                         \n",
       "ENSG00000000419          3  [1.0525406583994028, 1.024362410165966, 0.9230...   \n",
       "ENSG00000000938         36  [31.63266933637127, 2.0783677518511445, 1.2716...   \n",
       "ENSG00000000971         34  [21.560769925683296, 7.3101709870454625, 1.837...   \n",
       "ENSG00000001084         33  [21.74736589643256, 4.70064578668365, 2.249949...   \n",
       "ENSG00000001167         40                                [38.28994327673914]   \n",
       "\n",
       "                                                 tissues_variances  \n",
       "gene_id                                                             \n",
       "ENSG00000000419  {'Brain_Hypothalamus': 0.013162153504206677, '...  \n",
       "ENSG00000000938  {'Brain_Cortex': 0.004882241504747395, 'Artery...  \n",
       "ENSG00000000971  {'Brain_Cortex': 0.005725070121841921, 'Artery...  \n",
       "ENSG00000001084  {'Brain_Cortex': 0.024826936262456585, 'Artery...  \n",
       "ENSG00000001167  {'Brain_Cortex': 0.016199723974989217, 'Artery...  "
      ]
     },
     "execution_count": 111,
     "metadata": {},
     "output_type": "execute_result"
    }
   ],
   "source": [
    "spredixcan_genes_models.head()"
   ]
  },
  {
   "cell_type": "markdown",
   "id": "ab6ff41a-0949-4eea-abef-7dc4f0b373fc",
   "metadata": {
    "papermill": {
     "duration": 0.027037,
     "end_time": "2022-08-27T06:54:05.245059",
     "exception": false,
     "start_time": "2022-08-27T06:54:05.218022",
     "status": "completed"
    },
    "tags": []
   },
   "source": [
    "### Count number of SNPs predictors used across tissue models"
   ]
  },
  {
   "cell_type": "code",
   "execution_count": 112,
   "id": "c8f6cc6f-5812-45c9-b775-6f2193f8a360",
   "metadata": {
    "execution": {
     "iopub.execute_input": "2022-08-27T06:54:05.301625Z",
     "iopub.status.busy": "2022-08-27T06:54:05.301364Z",
     "iopub.status.idle": "2022-08-27T06:54:05.353149Z",
     "shell.execute_reply": "2022-08-27T06:54:05.352560Z"
    },
    "papermill": {
     "duration": 0.08232,
     "end_time": "2022-08-27T06:54:05.355077",
     "exception": false,
     "start_time": "2022-08-27T06:54:05.272757",
     "status": "completed"
    },
    "tags": []
   },
   "outputs": [],
   "source": [
    "spredixcan_genes_sum_of_n_snps_used = (\n",
    "    spredixcan_dfs.groupby(\"gene_id\")[\"n_snps_used\"].sum().rename(\"n_snps_used_sum\")\n",
    ")"
   ]
  },
  {
   "cell_type": "code",
   "execution_count": 113,
   "id": "7255df64-7b9f-4504-a4fa-1f2a9aa56ec0",
   "metadata": {
    "execution": {
     "iopub.execute_input": "2022-08-27T06:54:05.415107Z",
     "iopub.status.busy": "2022-08-27T06:54:05.414834Z",
     "iopub.status.idle": "2022-08-27T06:54:05.435115Z",
     "shell.execute_reply": "2022-08-27T06:54:05.434563Z"
    },
    "papermill": {
     "duration": 0.052798,
     "end_time": "2022-08-27T06:54:05.436689",
     "exception": false,
     "start_time": "2022-08-27T06:54:05.383891",
     "status": "completed"
    },
    "tags": []
   },
   "outputs": [
    {
     "data": {
      "text/plain": [
       "gene_id\n",
       "ENSG00000000419     3\n",
       "ENSG00000000938    40\n",
       "ENSG00000000971    44\n",
       "ENSG00000001084    47\n",
       "ENSG00000001167    48\n",
       "                   ..\n",
       "ENSG00000278540    44\n",
       "ENSG00000278828     5\n",
       "ENSG00000278845    91\n",
       "ENSG00000281005    81\n",
       "ENSG00000282608    40\n",
       "Name: n_snps_used_sum, Length: 6450, dtype: int64"
      ]
     },
     "execution_count": 113,
     "metadata": {},
     "output_type": "execute_result"
    }
   ],
   "source": [
    "spredixcan_genes_sum_of_n_snps_used"
   ]
  },
  {
   "cell_type": "code",
   "execution_count": 114,
   "id": "44bc1222-b334-4ce2-8997-494d0e584cf9",
   "metadata": {
    "execution": {
     "iopub.execute_input": "2022-08-27T06:54:05.495615Z",
     "iopub.status.busy": "2022-08-27T06:54:05.495349Z",
     "iopub.status.idle": "2022-08-27T06:54:05.514522Z",
     "shell.execute_reply": "2022-08-27T06:54:05.513926Z"
    },
    "papermill": {
     "duration": 0.050782,
     "end_time": "2022-08-27T06:54:05.516259",
     "exception": false,
     "start_time": "2022-08-27T06:54:05.465477",
     "status": "completed"
    },
    "tags": []
   },
   "outputs": [],
   "source": [
    "# add sum of snps used to spredixcan_genes_models\n",
    "spredixcan_genes_models = spredixcan_genes_models.join(\n",
    "    spredixcan_genes_sum_of_n_snps_used\n",
    ")"
   ]
  },
  {
   "cell_type": "code",
   "execution_count": 115,
   "id": "5e5e6d7f-b970-4f21-9322-b76bc22afd71",
   "metadata": {
    "execution": {
     "iopub.execute_input": "2022-08-27T06:54:05.575059Z",
     "iopub.status.busy": "2022-08-27T06:54:05.574794Z",
     "iopub.status.idle": "2022-08-27T06:54:05.593135Z",
     "shell.execute_reply": "2022-08-27T06:54:05.592599Z"
    },
    "papermill": {
     "duration": 0.049117,
     "end_time": "2022-08-27T06:54:05.594719",
     "exception": false,
     "start_time": "2022-08-27T06:54:05.545602",
     "status": "completed"
    },
    "tags": []
   },
   "outputs": [
    {
     "data": {
      "text/plain": [
       "(6450, 6)"
      ]
     },
     "execution_count": 115,
     "metadata": {},
     "output_type": "execute_result"
    }
   ],
   "source": [
    "spredixcan_genes_models.shape"
   ]
  },
  {
   "cell_type": "code",
   "execution_count": 116,
   "id": "22c096c2-213a-4001-8454-1633997d404f",
   "metadata": {
    "execution": {
     "iopub.execute_input": "2022-08-27T06:54:05.653323Z",
     "iopub.status.busy": "2022-08-27T06:54:05.653059Z",
     "iopub.status.idle": "2022-08-27T06:54:05.682969Z",
     "shell.execute_reply": "2022-08-27T06:54:05.682396Z"
    },
    "papermill": {
     "duration": 0.060943,
     "end_time": "2022-08-27T06:54:05.684520",
     "exception": false,
     "start_time": "2022-08-27T06:54:05.623577",
     "status": "completed"
    },
    "tags": []
   },
   "outputs": [
    {
     "data": {
      "text/html": [
       "<div>\n",
       "<style scoped>\n",
       "    .dataframe tbody tr th:only-of-type {\n",
       "        vertical-align: middle;\n",
       "    }\n",
       "\n",
       "    .dataframe tbody tr th {\n",
       "        vertical-align: top;\n",
       "    }\n",
       "\n",
       "    .dataframe thead th {\n",
       "        text-align: right;\n",
       "    }\n",
       "</style>\n",
       "<table border=\"1\" class=\"dataframe\">\n",
       "  <thead>\n",
       "    <tr style=\"text-align: right;\">\n",
       "      <th></th>\n",
       "      <th>gene_name</th>\n",
       "      <th>tissue</th>\n",
       "      <th>n_tissues</th>\n",
       "      <th>tissues_pc_variances</th>\n",
       "      <th>tissues_variances</th>\n",
       "      <th>n_snps_used_sum</th>\n",
       "    </tr>\n",
       "    <tr>\n",
       "      <th>gene_id</th>\n",
       "      <th></th>\n",
       "      <th></th>\n",
       "      <th></th>\n",
       "      <th></th>\n",
       "      <th></th>\n",
       "      <th></th>\n",
       "    </tr>\n",
       "  </thead>\n",
       "  <tbody>\n",
       "    <tr>\n",
       "      <th>ENSG00000000419</th>\n",
       "      <td>DPM1</td>\n",
       "      <td>(Brain_Hypothalamus, Brain_Substantia_nigra, C...</td>\n",
       "      <td>3</td>\n",
       "      <td>[1.0525406583994028, 1.024362410165966, 0.9230...</td>\n",
       "      <td>{'Brain_Hypothalamus': 0.013162153504206677, '...</td>\n",
       "      <td>3</td>\n",
       "    </tr>\n",
       "    <tr>\n",
       "      <th>ENSG00000000938</th>\n",
       "      <td>FGR</td>\n",
       "      <td>(Brain_Cortex, Artery_Tibial, Testis, Adipose_...</td>\n",
       "      <td>36</td>\n",
       "      <td>[31.63266933637127, 2.0783677518511445, 1.2716...</td>\n",
       "      <td>{'Brain_Cortex': 0.004882241504747395, 'Artery...</td>\n",
       "      <td>40</td>\n",
       "    </tr>\n",
       "    <tr>\n",
       "      <th>ENSG00000000971</th>\n",
       "      <td>CFH</td>\n",
       "      <td>(Brain_Cortex, Artery_Tibial, Cells_Cultured_f...</td>\n",
       "      <td>34</td>\n",
       "      <td>[21.560769925683296, 7.3101709870454625, 1.837...</td>\n",
       "      <td>{'Brain_Cortex': 0.005725070121841921, 'Artery...</td>\n",
       "      <td>44</td>\n",
       "    </tr>\n",
       "    <tr>\n",
       "      <th>ENSG00000001084</th>\n",
       "      <td>GCLC</td>\n",
       "      <td>(Brain_Cortex, Artery_Tibial, Cells_Cultured_f...</td>\n",
       "      <td>33</td>\n",
       "      <td>[21.74736589643256, 4.70064578668365, 2.249949...</td>\n",
       "      <td>{'Brain_Cortex': 0.024826936262456585, 'Artery...</td>\n",
       "      <td>47</td>\n",
       "    </tr>\n",
       "    <tr>\n",
       "      <th>ENSG00000001167</th>\n",
       "      <td>NFYA</td>\n",
       "      <td>(Brain_Cortex, Artery_Tibial, Cells_Cultured_f...</td>\n",
       "      <td>40</td>\n",
       "      <td>[38.28994327673914]</td>\n",
       "      <td>{'Brain_Cortex': 0.016199723974989217, 'Artery...</td>\n",
       "      <td>48</td>\n",
       "    </tr>\n",
       "  </tbody>\n",
       "</table>\n",
       "</div>"
      ],
      "text/plain": [
       "                gene_name                                             tissue  \\\n",
       "gene_id                                                                        \n",
       "ENSG00000000419      DPM1  (Brain_Hypothalamus, Brain_Substantia_nigra, C...   \n",
       "ENSG00000000938       FGR  (Brain_Cortex, Artery_Tibial, Testis, Adipose_...   \n",
       "ENSG00000000971       CFH  (Brain_Cortex, Artery_Tibial, Cells_Cultured_f...   \n",
       "ENSG00000001084      GCLC  (Brain_Cortex, Artery_Tibial, Cells_Cultured_f...   \n",
       "ENSG00000001167      NFYA  (Brain_Cortex, Artery_Tibial, Cells_Cultured_f...   \n",
       "\n",
       "                 n_tissues                               tissues_pc_variances  \\\n",
       "gene_id                                                                         \n",
       "ENSG00000000419          3  [1.0525406583994028, 1.024362410165966, 0.9230...   \n",
       "ENSG00000000938         36  [31.63266933637127, 2.0783677518511445, 1.2716...   \n",
       "ENSG00000000971         34  [21.560769925683296, 7.3101709870454625, 1.837...   \n",
       "ENSG00000001084         33  [21.74736589643256, 4.70064578668365, 2.249949...   \n",
       "ENSG00000001167         40                                [38.28994327673914]   \n",
       "\n",
       "                                                 tissues_variances  \\\n",
       "gene_id                                                              \n",
       "ENSG00000000419  {'Brain_Hypothalamus': 0.013162153504206677, '...   \n",
       "ENSG00000000938  {'Brain_Cortex': 0.004882241504747395, 'Artery...   \n",
       "ENSG00000000971  {'Brain_Cortex': 0.005725070121841921, 'Artery...   \n",
       "ENSG00000001084  {'Brain_Cortex': 0.024826936262456585, 'Artery...   \n",
       "ENSG00000001167  {'Brain_Cortex': 0.016199723974989217, 'Artery...   \n",
       "\n",
       "                 n_snps_used_sum  \n",
       "gene_id                           \n",
       "ENSG00000000419                3  \n",
       "ENSG00000000938               40  \n",
       "ENSG00000000971               44  \n",
       "ENSG00000001084               47  \n",
       "ENSG00000001167               48  "
      ]
     },
     "execution_count": 116,
     "metadata": {},
     "output_type": "execute_result"
    }
   ],
   "source": [
    "spredixcan_genes_models.head()"
   ]
  },
  {
   "cell_type": "markdown",
   "id": "f4692315-d7be-465e-b756-f6d76fec949e",
   "metadata": {
    "papermill": {
     "duration": 0.02824,
     "end_time": "2022-08-27T06:54:05.741805",
     "exception": false,
     "start_time": "2022-08-27T06:54:05.713565",
     "status": "completed"
    },
    "tags": []
   },
   "source": [
    "### Count number of SNPs predictors in models across tissue models"
   ]
  },
  {
   "cell_type": "code",
   "execution_count": 117,
   "id": "08eed385-36eb-4e42-b28e-51333f9cfcd3",
   "metadata": {
    "execution": {
     "iopub.execute_input": "2022-08-27T06:54:05.800493Z",
     "iopub.status.busy": "2022-08-27T06:54:05.800213Z",
     "iopub.status.idle": "2022-08-27T06:54:05.852015Z",
     "shell.execute_reply": "2022-08-27T06:54:05.851407Z"
    },
    "papermill": {
     "duration": 0.083756,
     "end_time": "2022-08-27T06:54:05.853951",
     "exception": false,
     "start_time": "2022-08-27T06:54:05.770195",
     "status": "completed"
    },
    "tags": []
   },
   "outputs": [],
   "source": [
    "spredixcan_genes_sum_of_n_snps_in_model = (\n",
    "    spredixcan_dfs.groupby(\"gene_id\")[\"n_snps_in_model\"]\n",
    "    .sum()\n",
    "    .rename(\"n_snps_in_model_sum\")\n",
    ")"
   ]
  },
  {
   "cell_type": "code",
   "execution_count": 118,
   "id": "10431f5c-1f56-4664-a09f-53c608bec631",
   "metadata": {
    "execution": {
     "iopub.execute_input": "2022-08-27T06:54:05.914757Z",
     "iopub.status.busy": "2022-08-27T06:54:05.914482Z",
     "iopub.status.idle": "2022-08-27T06:54:05.935961Z",
     "shell.execute_reply": "2022-08-27T06:54:05.935341Z"
    },
    "papermill": {
     "duration": 0.053994,
     "end_time": "2022-08-27T06:54:05.937659",
     "exception": false,
     "start_time": "2022-08-27T06:54:05.883665",
     "status": "completed"
    },
    "tags": []
   },
   "outputs": [
    {
     "data": {
      "text/plain": [
       "gene_id\n",
       "ENSG00000000419     3\n",
       "ENSG00000000938    40\n",
       "ENSG00000000971    44\n",
       "ENSG00000001084    47\n",
       "ENSG00000001167    48\n",
       "                   ..\n",
       "ENSG00000278540    44\n",
       "ENSG00000278828     5\n",
       "ENSG00000278845    91\n",
       "ENSG00000281005    81\n",
       "ENSG00000282608    40\n",
       "Name: n_snps_in_model_sum, Length: 6450, dtype: int64"
      ]
     },
     "execution_count": 118,
     "metadata": {},
     "output_type": "execute_result"
    }
   ],
   "source": [
    "spredixcan_genes_sum_of_n_snps_in_model"
   ]
  },
  {
   "cell_type": "code",
   "execution_count": 119,
   "id": "d13e1d65-0dcb-4a94-aba8-bcdcd09d17c3",
   "metadata": {
    "execution": {
     "iopub.execute_input": "2022-08-27T06:54:06.000057Z",
     "iopub.status.busy": "2022-08-27T06:54:05.999779Z",
     "iopub.status.idle": "2022-08-27T06:54:06.019064Z",
     "shell.execute_reply": "2022-08-27T06:54:06.018460Z"
    },
    "papermill": {
     "duration": 0.052117,
     "end_time": "2022-08-27T06:54:06.020827",
     "exception": false,
     "start_time": "2022-08-27T06:54:05.968710",
     "status": "completed"
    },
    "tags": []
   },
   "outputs": [],
   "source": [
    "# add sum of snps in model to spredixcan_genes_models\n",
    "spredixcan_genes_models = spredixcan_genes_models.join(\n",
    "    spredixcan_genes_sum_of_n_snps_in_model\n",
    ")"
   ]
  },
  {
   "cell_type": "code",
   "execution_count": 120,
   "id": "0d3973d8-5da2-4c9d-b406-2525f615035c",
   "metadata": {
    "execution": {
     "iopub.execute_input": "2022-08-27T06:54:06.083731Z",
     "iopub.status.busy": "2022-08-27T06:54:06.083465Z",
     "iopub.status.idle": "2022-08-27T06:54:06.102387Z",
     "shell.execute_reply": "2022-08-27T06:54:06.101831Z"
    },
    "papermill": {
     "duration": 0.052259,
     "end_time": "2022-08-27T06:54:06.103971",
     "exception": false,
     "start_time": "2022-08-27T06:54:06.051712",
     "status": "completed"
    },
    "tags": []
   },
   "outputs": [
    {
     "data": {
      "text/plain": [
       "(6450, 7)"
      ]
     },
     "execution_count": 120,
     "metadata": {},
     "output_type": "execute_result"
    }
   ],
   "source": [
    "spredixcan_genes_models.shape"
   ]
  },
  {
   "cell_type": "code",
   "execution_count": 121,
   "id": "76c27f05-c5c6-4ed9-9363-fcba871a3572",
   "metadata": {
    "execution": {
     "iopub.execute_input": "2022-08-27T06:54:06.163521Z",
     "iopub.status.busy": "2022-08-27T06:54:06.163258Z",
     "iopub.status.idle": "2022-08-27T06:54:06.193347Z",
     "shell.execute_reply": "2022-08-27T06:54:06.192798Z"
    },
    "papermill": {
     "duration": 0.061747,
     "end_time": "2022-08-27T06:54:06.194940",
     "exception": false,
     "start_time": "2022-08-27T06:54:06.133193",
     "status": "completed"
    },
    "tags": []
   },
   "outputs": [
    {
     "data": {
      "text/html": [
       "<div>\n",
       "<style scoped>\n",
       "    .dataframe tbody tr th:only-of-type {\n",
       "        vertical-align: middle;\n",
       "    }\n",
       "\n",
       "    .dataframe tbody tr th {\n",
       "        vertical-align: top;\n",
       "    }\n",
       "\n",
       "    .dataframe thead th {\n",
       "        text-align: right;\n",
       "    }\n",
       "</style>\n",
       "<table border=\"1\" class=\"dataframe\">\n",
       "  <thead>\n",
       "    <tr style=\"text-align: right;\">\n",
       "      <th></th>\n",
       "      <th>gene_name</th>\n",
       "      <th>tissue</th>\n",
       "      <th>n_tissues</th>\n",
       "      <th>tissues_pc_variances</th>\n",
       "      <th>tissues_variances</th>\n",
       "      <th>n_snps_used_sum</th>\n",
       "      <th>n_snps_in_model_sum</th>\n",
       "    </tr>\n",
       "    <tr>\n",
       "      <th>gene_id</th>\n",
       "      <th></th>\n",
       "      <th></th>\n",
       "      <th></th>\n",
       "      <th></th>\n",
       "      <th></th>\n",
       "      <th></th>\n",
       "      <th></th>\n",
       "    </tr>\n",
       "  </thead>\n",
       "  <tbody>\n",
       "    <tr>\n",
       "      <th>ENSG00000000419</th>\n",
       "      <td>DPM1</td>\n",
       "      <td>(Brain_Hypothalamus, Brain_Substantia_nigra, C...</td>\n",
       "      <td>3</td>\n",
       "      <td>[1.0525406583994028, 1.024362410165966, 0.9230...</td>\n",
       "      <td>{'Brain_Hypothalamus': 0.013162153504206677, '...</td>\n",
       "      <td>3</td>\n",
       "      <td>3</td>\n",
       "    </tr>\n",
       "    <tr>\n",
       "      <th>ENSG00000000938</th>\n",
       "      <td>FGR</td>\n",
       "      <td>(Brain_Cortex, Artery_Tibial, Testis, Adipose_...</td>\n",
       "      <td>36</td>\n",
       "      <td>[31.63266933637127, 2.0783677518511445, 1.2716...</td>\n",
       "      <td>{'Brain_Cortex': 0.004882241504747395, 'Artery...</td>\n",
       "      <td>40</td>\n",
       "      <td>40</td>\n",
       "    </tr>\n",
       "    <tr>\n",
       "      <th>ENSG00000000971</th>\n",
       "      <td>CFH</td>\n",
       "      <td>(Brain_Cortex, Artery_Tibial, Cells_Cultured_f...</td>\n",
       "      <td>34</td>\n",
       "      <td>[21.560769925683296, 7.3101709870454625, 1.837...</td>\n",
       "      <td>{'Brain_Cortex': 0.005725070121841921, 'Artery...</td>\n",
       "      <td>44</td>\n",
       "      <td>44</td>\n",
       "    </tr>\n",
       "    <tr>\n",
       "      <th>ENSG00000001084</th>\n",
       "      <td>GCLC</td>\n",
       "      <td>(Brain_Cortex, Artery_Tibial, Cells_Cultured_f...</td>\n",
       "      <td>33</td>\n",
       "      <td>[21.74736589643256, 4.70064578668365, 2.249949...</td>\n",
       "      <td>{'Brain_Cortex': 0.024826936262456585, 'Artery...</td>\n",
       "      <td>47</td>\n",
       "      <td>47</td>\n",
       "    </tr>\n",
       "    <tr>\n",
       "      <th>ENSG00000001167</th>\n",
       "      <td>NFYA</td>\n",
       "      <td>(Brain_Cortex, Artery_Tibial, Cells_Cultured_f...</td>\n",
       "      <td>40</td>\n",
       "      <td>[38.28994327673914]</td>\n",
       "      <td>{'Brain_Cortex': 0.016199723974989217, 'Artery...</td>\n",
       "      <td>48</td>\n",
       "      <td>48</td>\n",
       "    </tr>\n",
       "  </tbody>\n",
       "</table>\n",
       "</div>"
      ],
      "text/plain": [
       "                gene_name                                             tissue  \\\n",
       "gene_id                                                                        \n",
       "ENSG00000000419      DPM1  (Brain_Hypothalamus, Brain_Substantia_nigra, C...   \n",
       "ENSG00000000938       FGR  (Brain_Cortex, Artery_Tibial, Testis, Adipose_...   \n",
       "ENSG00000000971       CFH  (Brain_Cortex, Artery_Tibial, Cells_Cultured_f...   \n",
       "ENSG00000001084      GCLC  (Brain_Cortex, Artery_Tibial, Cells_Cultured_f...   \n",
       "ENSG00000001167      NFYA  (Brain_Cortex, Artery_Tibial, Cells_Cultured_f...   \n",
       "\n",
       "                 n_tissues                               tissues_pc_variances  \\\n",
       "gene_id                                                                         \n",
       "ENSG00000000419          3  [1.0525406583994028, 1.024362410165966, 0.9230...   \n",
       "ENSG00000000938         36  [31.63266933637127, 2.0783677518511445, 1.2716...   \n",
       "ENSG00000000971         34  [21.560769925683296, 7.3101709870454625, 1.837...   \n",
       "ENSG00000001084         33  [21.74736589643256, 4.70064578668365, 2.249949...   \n",
       "ENSG00000001167         40                                [38.28994327673914]   \n",
       "\n",
       "                                                 tissues_variances  \\\n",
       "gene_id                                                              \n",
       "ENSG00000000419  {'Brain_Hypothalamus': 0.013162153504206677, '...   \n",
       "ENSG00000000938  {'Brain_Cortex': 0.004882241504747395, 'Artery...   \n",
       "ENSG00000000971  {'Brain_Cortex': 0.005725070121841921, 'Artery...   \n",
       "ENSG00000001084  {'Brain_Cortex': 0.024826936262456585, 'Artery...   \n",
       "ENSG00000001167  {'Brain_Cortex': 0.016199723974989217, 'Artery...   \n",
       "\n",
       "                 n_snps_used_sum  n_snps_in_model_sum  \n",
       "gene_id                                                \n",
       "ENSG00000000419                3                    3  \n",
       "ENSG00000000938               40                   40  \n",
       "ENSG00000000971               44                   44  \n",
       "ENSG00000001084               47                   47  \n",
       "ENSG00000001167               48                   48  "
      ]
     },
     "execution_count": 121,
     "metadata": {},
     "output_type": "execute_result"
    }
   ],
   "source": [
    "spredixcan_genes_models.head()"
   ]
  },
  {
   "cell_type": "markdown",
   "id": "e9f61a50-a5b5-4c85-9dec-3ceaaf65c61d",
   "metadata": {
    "papermill": {
     "duration": 0.028594,
     "end_time": "2022-08-27T06:54:06.253158",
     "exception": false,
     "start_time": "2022-08-27T06:54:06.224564",
     "status": "completed"
    },
    "tags": []
   },
   "source": [
    "### Summarize prediction models for each gene"
   ]
  },
  {
   "cell_type": "code",
   "execution_count": 122,
   "id": "4f44928f-b401-4abb-ac00-3b15b2746504",
   "metadata": {
    "execution": {
     "iopub.execute_input": "2022-08-27T06:54:06.312371Z",
     "iopub.status.busy": "2022-08-27T06:54:06.312109Z",
     "iopub.status.idle": "2022-08-27T06:54:06.330873Z",
     "shell.execute_reply": "2022-08-27T06:54:06.330300Z"
    },
    "papermill": {
     "duration": 0.050204,
     "end_time": "2022-08-27T06:54:06.332591",
     "exception": false,
     "start_time": "2022-08-27T06:54:06.282387",
     "status": "completed"
    },
    "tags": []
   },
   "outputs": [],
   "source": [
    "def _summarize_gene_models(gene_id):\n",
    "    \"\"\"\n",
    "    For a given gene ID, it returns a dataframe with predictor SNPs in rows and tissues in columns, where\n",
    "    values are the weights of SNPs in those tissues.\n",
    "    It can contain NaNs.\n",
    "    \"\"\"\n",
    "    gene_obj = spredixcan_gene_obj[gene_id]\n",
    "    gene_tissues = spredixcan_genes_models.loc[gene_id, \"tissue\"]\n",
    "\n",
    "    gene_models = {}\n",
    "    gene_unique_snps = set()\n",
    "    for t in gene_tissues:\n",
    "        gene_model = gene_obj.get_prediction_weights(tissue=t, model_type=EQTL_MODEL)\n",
    "        gene_models[t] = gene_model\n",
    "\n",
    "        gene_unique_snps.update(set(gene_model.index))\n",
    "\n",
    "    df = pd.DataFrame(\n",
    "        data=np.nan, index=list(gene_unique_snps), columns=list(gene_tissues)\n",
    "    )\n",
    "\n",
    "    for t in df.columns:\n",
    "        for snp in df.index:\n",
    "            gene_model = gene_models[t]\n",
    "\n",
    "            if snp in gene_model.index:\n",
    "                df.loc[snp, t] = gene_model.loc[snp]\n",
    "\n",
    "    return df"
   ]
  },
  {
   "cell_type": "code",
   "execution_count": 123,
   "id": "71bb0b5a-fe44-4076-91df-d8077ff85c71",
   "metadata": {
    "execution": {
     "iopub.execute_input": "2022-08-27T06:54:06.392710Z",
     "iopub.status.busy": "2022-08-27T06:54:06.392430Z",
     "iopub.status.idle": "2022-08-27T06:54:06.416441Z",
     "shell.execute_reply": "2022-08-27T06:54:06.415891Z"
    },
    "papermill": {
     "duration": 0.055629,
     "end_time": "2022-08-27T06:54:06.417992",
     "exception": false,
     "start_time": "2022-08-27T06:54:06.362363",
     "status": "completed"
    },
    "tags": []
   },
   "outputs": [
    {
     "data": {
      "text/plain": [
       "varID\n",
       "chr20_50862947_C_T_b38    0.431375\n",
       "Name: weight, dtype: float64"
      ]
     },
     "execution_count": 123,
     "metadata": {},
     "output_type": "execute_result"
    }
   ],
   "source": [
    "# testing\n",
    "spredixcan_gene_obj[\"ENSG00000000419\"].get_prediction_weights(\n",
    "    tissue=\"Brain_Hypothalamus\", model_type=EQTL_MODEL\n",
    ")"
   ]
  },
  {
   "cell_type": "code",
   "execution_count": 124,
   "id": "ad18b2d9-f585-445b-a809-bd694d417a8a",
   "metadata": {
    "execution": {
     "iopub.execute_input": "2022-08-27T06:54:06.478134Z",
     "iopub.status.busy": "2022-08-27T06:54:06.477859Z",
     "iopub.status.idle": "2022-08-27T06:54:06.501053Z",
     "shell.execute_reply": "2022-08-27T06:54:06.500512Z"
    },
    "papermill": {
     "duration": 0.054951,
     "end_time": "2022-08-27T06:54:06.502620",
     "exception": false,
     "start_time": "2022-08-27T06:54:06.447669",
     "status": "completed"
    },
    "tags": []
   },
   "outputs": [
    {
     "data": {
      "text/plain": [
       "varID\n",
       "chr20_50957480_C_T_b38   -0.146796\n",
       "Name: weight, dtype: float64"
      ]
     },
     "execution_count": 124,
     "metadata": {},
     "output_type": "execute_result"
    }
   ],
   "source": [
    "spredixcan_gene_obj[\"ENSG00000000419\"].get_prediction_weights(\n",
    "    tissue=\"Brain_Substantia_nigra\", model_type=EQTL_MODEL\n",
    ")"
   ]
  },
  {
   "cell_type": "code",
   "execution_count": 125,
   "id": "82ef5dec-283c-44ee-a118-b28d87a5b298",
   "metadata": {
    "execution": {
     "iopub.execute_input": "2022-08-27T06:54:06.563824Z",
     "iopub.status.busy": "2022-08-27T06:54:06.563533Z",
     "iopub.status.idle": "2022-08-27T06:54:06.579744Z",
     "shell.execute_reply": "2022-08-27T06:54:06.579206Z"
    },
    "papermill": {
     "duration": 0.048425,
     "end_time": "2022-08-27T06:54:06.581458",
     "exception": false,
     "start_time": "2022-08-27T06:54:06.533033",
     "status": "completed"
    },
    "tags": []
   },
   "outputs": [],
   "source": [
    "# # testing\n",
    "# _gene_id = \"ENSG00000000419\"\n",
    "\n",
    "# _gene_model = _summarize_gene_models(_gene_id)\n",
    "# assert (\n",
    "#     _gene_model.loc[\"chr20_50862947_C_T_b38\", \"Brain_Hypothalamus\"].round(5) == 0.43138\n",
    "# )\n",
    "# assert pd.isnull(_gene_model.loc[\"chr20_50957480_C_T_b38\", \"Brain_Hypothalamus\"])\n",
    "\n",
    "# assert pd.isnull(_gene_model.loc[\"chr20_50862947_C_T_b38\", \"Brain_Substantia_nigra\"])\n",
    "# assert (\n",
    "#     _gene_model.loc[\"chr20_50957480_C_T_b38\", \"Brain_Substantia_nigra\"].round(5)\n",
    "#     == -0.1468\n",
    "# )"
   ]
  },
  {
   "cell_type": "code",
   "execution_count": 126,
   "id": "134a7533-69e8-4858-8763-1fd45cbdec77",
   "metadata": {
    "execution": {
     "iopub.execute_input": "2022-08-27T06:54:06.643522Z",
     "iopub.status.busy": "2022-08-27T06:54:06.643248Z",
     "iopub.status.idle": "2022-08-27T07:12:32.265309Z",
     "shell.execute_reply": "2022-08-27T07:12:32.264508Z"
    },
    "papermill": {
     "duration": 1105.655421,
     "end_time": "2022-08-27T07:12:32.267446",
     "exception": false,
     "start_time": "2022-08-27T06:54:06.612025",
     "status": "completed"
    },
    "tags": []
   },
   "outputs": [],
   "source": [
    "gene_models = {}\n",
    "\n",
    "for gene_id in spredixcan_genes_models.index:\n",
    "    gene_models[gene_id] = _summarize_gene_models(gene_id)"
   ]
  },
  {
   "cell_type": "code",
   "execution_count": 127,
   "id": "97117dc0-0476-4e7b-98cb-6738dbb28c8a",
   "metadata": {
    "execution": {
     "iopub.execute_input": "2022-08-27T07:12:32.328936Z",
     "iopub.status.busy": "2022-08-27T07:12:32.328646Z",
     "iopub.status.idle": "2022-08-27T07:12:32.515164Z",
     "shell.execute_reply": "2022-08-27T07:12:32.514599Z"
    },
    "papermill": {
     "duration": 0.217869,
     "end_time": "2022-08-27T07:12:32.516986",
     "exception": false,
     "start_time": "2022-08-27T07:12:32.299117",
     "status": "completed"
    },
    "tags": []
   },
   "outputs": [],
   "source": [
    "# # testing\n",
    "# _gene_id = \"ENSG00000000419\"\n",
    "\n",
    "# _gene_model = gene_models[_gene_id]\n",
    "# assert (\n",
    "#     _gene_model.loc[\"chr20_50862947_C_T_b38\", \"Brain_Hypothalamus\"].round(5) == 0.43138\n",
    "# )\n",
    "# assert pd.isnull(_gene_model.loc[\"chr20_50957480_C_T_b38\", \"Brain_Hypothalamus\"])\n",
    "\n",
    "# assert pd.isnull(_gene_model.loc[\"chr20_50862947_C_T_b38\", \"Brain_Substantia_nigra\"])\n",
    "# assert (\n",
    "#     _gene_model.loc[\"chr20_50957480_C_T_b38\", \"Brain_Substantia_nigra\"].round(5)\n",
    "#     == -0.1468\n",
    "# )"
   ]
  },
  {
   "cell_type": "code",
   "execution_count": 128,
   "id": "806cd4a5-51b1-4ed3-8aa3-4970c128ccff",
   "metadata": {
    "execution": {
     "iopub.execute_input": "2022-08-27T07:12:32.575828Z",
     "iopub.status.busy": "2022-08-27T07:12:32.575573Z",
     "iopub.status.idle": "2022-08-27T07:12:35.644184Z",
     "shell.execute_reply": "2022-08-27T07:12:35.643522Z"
    },
    "papermill": {
     "duration": 3.099745,
     "end_time": "2022-08-27T07:12:35.646090",
     "exception": false,
     "start_time": "2022-08-27T07:12:32.546345",
     "status": "completed"
    },
    "tags": []
   },
   "outputs": [],
   "source": [
    "# save\n",
    "import gzip\n",
    "\n",
    "with gzip.GzipFile(OUTPUT_DIR_BASE / \"gene_tissues_models.pkl.gz\", \"w\") as f:\n",
    "    pickle.dump(gene_models, f)"
   ]
  },
  {
   "cell_type": "code",
   "execution_count": 129,
   "id": "a12a9597-dd0a-40a0-9a42-f288af22e0d2",
   "metadata": {
    "execution": {
     "iopub.execute_input": "2022-08-27T07:12:35.703933Z",
     "iopub.status.busy": "2022-08-27T07:12:35.703661Z",
     "iopub.status.idle": "2022-08-27T07:12:37.568961Z",
     "shell.execute_reply": "2022-08-27T07:12:37.568357Z"
    },
    "papermill": {
     "duration": 1.896182,
     "end_time": "2022-08-27T07:12:37.570936",
     "exception": false,
     "start_time": "2022-08-27T07:12:35.674754",
     "status": "completed"
    },
    "tags": []
   },
   "outputs": [],
   "source": [
    "# testing saved file\n",
    "with gzip.GzipFile(OUTPUT_DIR_BASE / \"gene_tissues_models.pkl.gz\", \"r\") as f:\n",
    "    _tmp = pickle.load(f)"
   ]
  },
  {
   "cell_type": "code",
   "execution_count": 130,
   "id": "a90a8f83-75db-4f73-8f1a-7e0563ba3685",
   "metadata": {
    "execution": {
     "iopub.execute_input": "2022-08-27T07:12:37.629775Z",
     "iopub.status.busy": "2022-08-27T07:12:37.629495Z",
     "iopub.status.idle": "2022-08-27T07:12:37.645561Z",
     "shell.execute_reply": "2022-08-27T07:12:37.645062Z"
    },
    "papermill": {
     "duration": 0.047228,
     "end_time": "2022-08-27T07:12:37.647134",
     "exception": false,
     "start_time": "2022-08-27T07:12:37.599906",
     "status": "completed"
    },
    "tags": []
   },
   "outputs": [],
   "source": [
    "assert len(gene_models) == len(_tmp)\n",
    "assert gene_models[\"ENSG00000000419\"].equals(_tmp[\"ENSG00000000419\"])"
   ]
  },
  {
   "cell_type": "markdown",
   "id": "a147f3a8-4efd-457b-9581-00cbfacd4b3d",
   "metadata": {
    "papermill": {
     "duration": 0.02852,
     "end_time": "2022-08-27T07:12:37.703852",
     "exception": false,
     "start_time": "2022-08-27T07:12:37.675332",
     "status": "completed"
    },
    "tags": []
   },
   "source": [
    "### Count number of _unique_ SNPs predictors used and available across tissue models"
   ]
  },
  {
   "cell_type": "code",
   "execution_count": 131,
   "id": "38d5bc57-3c25-4abe-93bd-09bbe200f2ef",
   "metadata": {
    "execution": {
     "iopub.execute_input": "2022-08-27T07:12:37.762553Z",
     "iopub.status.busy": "2022-08-27T07:12:37.762305Z",
     "iopub.status.idle": "2022-08-27T07:12:37.779328Z",
     "shell.execute_reply": "2022-08-27T07:12:37.778813Z"
    },
    "papermill": {
     "duration": 0.048559,
     "end_time": "2022-08-27T07:12:37.781011",
     "exception": false,
     "start_time": "2022-08-27T07:12:37.732452",
     "status": "completed"
    },
    "tags": []
   },
   "outputs": [],
   "source": [
    "def _count_unique_snps(gene_id):\n",
    "    \"\"\"\n",
    "    For a gene_id, it counts unique SNPs in all models and their intersection with GWAS SNPs (therefore, used by S-PrediXcan).\n",
    "    \"\"\"\n",
    "    gene_tissues = spredixcan_genes_models.loc[gene_id, \"tissue\"]\n",
    "\n",
    "    gene_unique_snps = set()\n",
    "    for t in gene_tissues:\n",
    "        t_snps = set(gene_models[gene_id].index)\n",
    "        gene_unique_snps.update(t_snps)\n",
    "\n",
    "    gene_unique_snps_in_gwas = gwas_variants_ids_set.intersection(gene_unique_snps)\n",
    "\n",
    "    return pd.Series(\n",
    "        {\n",
    "            \"unique_n_snps_in_model\": len(gene_unique_snps),\n",
    "            \"unique_n_snps_used\": len(gene_unique_snps_in_gwas),\n",
    "        }\n",
    "    )"
   ]
  },
  {
   "cell_type": "code",
   "execution_count": 132,
   "id": "059c6e02-67e2-4376-a3e5-b815070779c9",
   "metadata": {
    "execution": {
     "iopub.execute_input": "2022-08-27T07:12:37.839745Z",
     "iopub.status.busy": "2022-08-27T07:12:37.839508Z",
     "iopub.status.idle": "2022-08-27T07:12:37.868338Z",
     "shell.execute_reply": "2022-08-27T07:12:37.867830Z"
    },
    "papermill": {
     "duration": 0.059871,
     "end_time": "2022-08-27T07:12:37.869905",
     "exception": false,
     "start_time": "2022-08-27T07:12:37.810034",
     "status": "completed"
    },
    "tags": []
   },
   "outputs": [
    {
     "data": {
      "text/html": [
       "<div>\n",
       "<style scoped>\n",
       "    .dataframe tbody tr th:only-of-type {\n",
       "        vertical-align: middle;\n",
       "    }\n",
       "\n",
       "    .dataframe tbody tr th {\n",
       "        vertical-align: top;\n",
       "    }\n",
       "\n",
       "    .dataframe thead th {\n",
       "        text-align: right;\n",
       "    }\n",
       "</style>\n",
       "<table border=\"1\" class=\"dataframe\">\n",
       "  <thead>\n",
       "    <tr style=\"text-align: right;\">\n",
       "      <th></th>\n",
       "      <th>gene_name</th>\n",
       "      <th>tissue</th>\n",
       "      <th>n_tissues</th>\n",
       "      <th>tissues_pc_variances</th>\n",
       "      <th>tissues_variances</th>\n",
       "      <th>n_snps_used_sum</th>\n",
       "      <th>n_snps_in_model_sum</th>\n",
       "    </tr>\n",
       "    <tr>\n",
       "      <th>gene_id</th>\n",
       "      <th></th>\n",
       "      <th></th>\n",
       "      <th></th>\n",
       "      <th></th>\n",
       "      <th></th>\n",
       "      <th></th>\n",
       "      <th></th>\n",
       "    </tr>\n",
       "  </thead>\n",
       "  <tbody>\n",
       "    <tr>\n",
       "      <th>ENSG00000010256</th>\n",
       "      <td>UQCRC1</td>\n",
       "      <td>(Thyroid, Whole_Blood)</td>\n",
       "      <td>2</td>\n",
       "      <td>[1.1048350039574655, 0.8951649960425345]</td>\n",
       "      <td>{'Thyroid': 0.0008025245652862433, 'Whole_Bloo...</td>\n",
       "      <td>2</td>\n",
       "      <td>2</td>\n",
       "    </tr>\n",
       "    <tr>\n",
       "      <th>ENSG00000017427</th>\n",
       "      <td>IGF1</td>\n",
       "      <td>(Brain_Amygdala, Testis)</td>\n",
       "      <td>2</td>\n",
       "      <td>[1.0389319526404415, 0.9610680473595585]</td>\n",
       "      <td>{'Brain_Amygdala': 0.02059332044751194, 'Testi...</td>\n",
       "      <td>2</td>\n",
       "      <td>2</td>\n",
       "    </tr>\n",
       "    <tr>\n",
       "      <th>ENSG00000043093</th>\n",
       "      <td>DCUN1D1</td>\n",
       "      <td>(Esophagus_Muscularis, Esophagus_Gastroesophag...</td>\n",
       "      <td>2</td>\n",
       "      <td>[1.4951653523020276, 0.5048346476979725]</td>\n",
       "      <td>{'Esophagus_Muscularis': 0.0004315621222418269...</td>\n",
       "      <td>2</td>\n",
       "      <td>2</td>\n",
       "    </tr>\n",
       "    <tr>\n",
       "      <th>ENSG00000081377</th>\n",
       "      <td>CDC14B</td>\n",
       "      <td>(Muscle_Skeletal, Brain_Nucleus_accumbens_basa...</td>\n",
       "      <td>2</td>\n",
       "      <td>[1.1285007973441137, 0.8714992026558863]</td>\n",
       "      <td>{'Muscle_Skeletal': 0.0076846621297156385, 'Br...</td>\n",
       "      <td>2</td>\n",
       "      <td>2</td>\n",
       "    </tr>\n",
       "    <tr>\n",
       "      <th>ENSG00000104856</th>\n",
       "      <td>RELB</td>\n",
       "      <td>(Brain_Cerebellar_Hemisphere, Esophagus_Gastro...</td>\n",
       "      <td>2</td>\n",
       "      <td>[1.065634630043069, 0.9343653699569308]</td>\n",
       "      <td>{'Brain_Cerebellar_Hemisphere': 0.006361992573...</td>\n",
       "      <td>2</td>\n",
       "      <td>2</td>\n",
       "    </tr>\n",
       "  </tbody>\n",
       "</table>\n",
       "</div>"
      ],
      "text/plain": [
       "                gene_name                                             tissue  \\\n",
       "gene_id                                                                        \n",
       "ENSG00000010256    UQCRC1                             (Thyroid, Whole_Blood)   \n",
       "ENSG00000017427      IGF1                           (Brain_Amygdala, Testis)   \n",
       "ENSG00000043093   DCUN1D1  (Esophagus_Muscularis, Esophagus_Gastroesophag...   \n",
       "ENSG00000081377    CDC14B  (Muscle_Skeletal, Brain_Nucleus_accumbens_basa...   \n",
       "ENSG00000104856      RELB  (Brain_Cerebellar_Hemisphere, Esophagus_Gastro...   \n",
       "\n",
       "                 n_tissues                      tissues_pc_variances  \\\n",
       "gene_id                                                                \n",
       "ENSG00000010256          2  [1.1048350039574655, 0.8951649960425345]   \n",
       "ENSG00000017427          2  [1.0389319526404415, 0.9610680473595585]   \n",
       "ENSG00000043093          2  [1.4951653523020276, 0.5048346476979725]   \n",
       "ENSG00000081377          2  [1.1285007973441137, 0.8714992026558863]   \n",
       "ENSG00000104856          2   [1.065634630043069, 0.9343653699569308]   \n",
       "\n",
       "                                                 tissues_variances  \\\n",
       "gene_id                                                              \n",
       "ENSG00000010256  {'Thyroid': 0.0008025245652862433, 'Whole_Bloo...   \n",
       "ENSG00000017427  {'Brain_Amygdala': 0.02059332044751194, 'Testi...   \n",
       "ENSG00000043093  {'Esophagus_Muscularis': 0.0004315621222418269...   \n",
       "ENSG00000081377  {'Muscle_Skeletal': 0.0076846621297156385, 'Br...   \n",
       "ENSG00000104856  {'Brain_Cerebellar_Hemisphere': 0.006361992573...   \n",
       "\n",
       "                 n_snps_used_sum  n_snps_in_model_sum  \n",
       "gene_id                                                \n",
       "ENSG00000010256                2                    2  \n",
       "ENSG00000017427                2                    2  \n",
       "ENSG00000043093                2                    2  \n",
       "ENSG00000081377                2                    2  \n",
       "ENSG00000104856                2                    2  "
      ]
     },
     "execution_count": 132,
     "metadata": {},
     "output_type": "execute_result"
    }
   ],
   "source": [
    "# testing\n",
    "spredixcan_genes_models[spredixcan_genes_models[\"n_snps_used_sum\"] == 2].head()"
   ]
  },
  {
   "cell_type": "code",
   "execution_count": 133,
   "id": "4f8a444c-c3e2-4688-a50b-08481d41f614",
   "metadata": {
    "execution": {
     "iopub.execute_input": "2022-08-27T07:12:37.928899Z",
     "iopub.status.busy": "2022-08-27T07:12:37.928640Z",
     "iopub.status.idle": "2022-08-27T07:12:37.949713Z",
     "shell.execute_reply": "2022-08-27T07:12:37.949219Z"
    },
    "papermill": {
     "duration": 0.052183,
     "end_time": "2022-08-27T07:12:37.951301",
     "exception": false,
     "start_time": "2022-08-27T07:12:37.899118",
     "status": "completed"
    },
    "tags": []
   },
   "outputs": [
    {
     "data": {
      "text/plain": [
       "varID\n",
       "chr20_50862947_C_T_b38    0.431375\n",
       "Name: weight, dtype: float64"
      ]
     },
     "metadata": {},
     "output_type": "display_data"
    },
    {
     "data": {
      "text/plain": [
       "varID\n",
       "chr20_50957480_C_T_b38   -0.146796\n",
       "Name: weight, dtype: float64"
      ]
     },
     "metadata": {},
     "output_type": "display_data"
    }
   ],
   "source": [
    "# case with two snps, not repeated across tissues\n",
    "_gene_id = \"ENSG00000000419\"\n",
    "display(\n",
    "    spredixcan_gene_obj[_gene_id].get_prediction_weights(\n",
    "        tissue=\"Brain_Hypothalamus\", model_type=EQTL_MODEL\n",
    "    )\n",
    ")\n",
    "display(\n",
    "    spredixcan_gene_obj[_gene_id].get_prediction_weights(\n",
    "        tissue=\"Brain_Substantia_nigra\", model_type=EQTL_MODEL\n",
    "    )\n",
    ")"
   ]
  },
  {
   "cell_type": "code",
   "execution_count": 134,
   "id": "f835cf57-eea6-4468-aaf2-d85c8164d177",
   "metadata": {
    "execution": {
     "iopub.execute_input": "2022-08-27T07:12:38.013943Z",
     "iopub.status.busy": "2022-08-27T07:12:38.013698Z",
     "iopub.status.idle": "2022-08-27T07:12:38.029212Z",
     "shell.execute_reply": "2022-08-27T07:12:38.028714Z"
    },
    "papermill": {
     "duration": 0.047675,
     "end_time": "2022-08-27T07:12:38.030765",
     "exception": false,
     "start_time": "2022-08-27T07:12:37.983090",
     "status": "completed"
    },
    "tags": []
   },
   "outputs": [],
   "source": [
    "# _tmp = _count_unique_snps(_gene_id)\n",
    "# assert _tmp.shape[0] == 2\n",
    "# assert _tmp[\"unique_n_snps_in_model\"] == 2\n",
    "# assert _tmp[\"unique_n_snps_used\"] == 2"
   ]
  },
  {
   "cell_type": "code",
   "execution_count": 135,
   "id": "520837f6-5cdd-4958-aa98-00cd1ebab484",
   "metadata": {
    "execution": {
     "iopub.execute_input": "2022-08-27T07:12:38.090579Z",
     "iopub.status.busy": "2022-08-27T07:12:38.090359Z",
     "iopub.status.idle": "2022-08-27T07:12:40.733580Z",
     "shell.execute_reply": "2022-08-27T07:12:40.733017Z"
    },
    "papermill": {
     "duration": 2.675684,
     "end_time": "2022-08-27T07:12:40.735557",
     "exception": false,
     "start_time": "2022-08-27T07:12:38.059873",
     "status": "completed"
    },
    "tags": []
   },
   "outputs": [],
   "source": [
    "# get unique snps for all genes\n",
    "spredixcan_genes_unique_n_snps = spredixcan_genes_models.groupby(\"gene_id\").apply(\n",
    "    lambda x: _count_unique_snps(x.name)\n",
    ")"
   ]
  },
  {
   "cell_type": "code",
   "execution_count": 136,
   "id": "72633373-73d7-4796-b915-06fcb18feca0",
   "metadata": {
    "execution": {
     "iopub.execute_input": "2022-08-27T07:12:40.795245Z",
     "iopub.status.busy": "2022-08-27T07:12:40.795007Z",
     "iopub.status.idle": "2022-08-27T07:12:40.814638Z",
     "shell.execute_reply": "2022-08-27T07:12:40.814144Z"
    },
    "papermill": {
     "duration": 0.050168,
     "end_time": "2022-08-27T07:12:40.816177",
     "exception": false,
     "start_time": "2022-08-27T07:12:40.766009",
     "status": "completed"
    },
    "tags": []
   },
   "outputs": [
    {
     "data": {
      "text/html": [
       "<div>\n",
       "<style scoped>\n",
       "    .dataframe tbody tr th:only-of-type {\n",
       "        vertical-align: middle;\n",
       "    }\n",
       "\n",
       "    .dataframe tbody tr th {\n",
       "        vertical-align: top;\n",
       "    }\n",
       "\n",
       "    .dataframe thead th {\n",
       "        text-align: right;\n",
       "    }\n",
       "</style>\n",
       "<table border=\"1\" class=\"dataframe\">\n",
       "  <thead>\n",
       "    <tr style=\"text-align: right;\">\n",
       "      <th></th>\n",
       "      <th>unique_n_snps_in_model</th>\n",
       "      <th>unique_n_snps_used</th>\n",
       "    </tr>\n",
       "    <tr>\n",
       "      <th>gene_id</th>\n",
       "      <th></th>\n",
       "      <th></th>\n",
       "    </tr>\n",
       "  </thead>\n",
       "  <tbody>\n",
       "    <tr>\n",
       "      <th>ENSG00000000419</th>\n",
       "      <td>3</td>\n",
       "      <td>3</td>\n",
       "    </tr>\n",
       "    <tr>\n",
       "      <th>ENSG00000000938</th>\n",
       "      <td>5</td>\n",
       "      <td>5</td>\n",
       "    </tr>\n",
       "    <tr>\n",
       "      <th>ENSG00000000971</th>\n",
       "      <td>12</td>\n",
       "      <td>12</td>\n",
       "    </tr>\n",
       "    <tr>\n",
       "      <th>ENSG00000001084</th>\n",
       "      <td>24</td>\n",
       "      <td>24</td>\n",
       "    </tr>\n",
       "    <tr>\n",
       "      <th>ENSG00000001167</th>\n",
       "      <td>14</td>\n",
       "      <td>14</td>\n",
       "    </tr>\n",
       "  </tbody>\n",
       "</table>\n",
       "</div>"
      ],
      "text/plain": [
       "                 unique_n_snps_in_model  unique_n_snps_used\n",
       "gene_id                                                    \n",
       "ENSG00000000419                       3                   3\n",
       "ENSG00000000938                       5                   5\n",
       "ENSG00000000971                      12                  12\n",
       "ENSG00000001084                      24                  24\n",
       "ENSG00000001167                      14                  14"
      ]
     },
     "execution_count": 136,
     "metadata": {},
     "output_type": "execute_result"
    }
   ],
   "source": [
    "spredixcan_genes_unique_n_snps.head()"
   ]
  },
  {
   "cell_type": "code",
   "execution_count": 137,
   "id": "3d2b6676-2168-44b8-8d02-d29b934ba2ec",
   "metadata": {
    "execution": {
     "iopub.execute_input": "2022-08-27T07:12:40.875037Z",
     "iopub.status.busy": "2022-08-27T07:12:40.874799Z",
     "iopub.status.idle": "2022-08-27T07:12:40.891451Z",
     "shell.execute_reply": "2022-08-27T07:12:40.890934Z"
    },
    "papermill": {
     "duration": 0.0483,
     "end_time": "2022-08-27T07:12:40.893151",
     "exception": false,
     "start_time": "2022-08-27T07:12:40.844851",
     "status": "completed"
    },
    "tags": []
   },
   "outputs": [],
   "source": [
    "assert (\n",
    "    spredixcan_genes_unique_n_snps[\"unique_n_snps_in_model\"]\n",
    "    >= spredixcan_genes_unique_n_snps[\"unique_n_snps_used\"]\n",
    ").all()"
   ]
  },
  {
   "cell_type": "code",
   "execution_count": 138,
   "id": "6accf2fe-93fe-4f7c-86ff-5f0ea3d17e11",
   "metadata": {
    "execution": {
     "iopub.execute_input": "2022-08-27T07:12:40.952844Z",
     "iopub.status.busy": "2022-08-27T07:12:40.952613Z",
     "iopub.status.idle": "2022-08-27T07:12:40.972004Z",
     "shell.execute_reply": "2022-08-27T07:12:40.971437Z"
    },
    "papermill": {
     "duration": 0.051271,
     "end_time": "2022-08-27T07:12:40.973726",
     "exception": false,
     "start_time": "2022-08-27T07:12:40.922455",
     "status": "completed"
    },
    "tags": []
   },
   "outputs": [],
   "source": [
    "# add unique snps to spredixcan_genes_models\n",
    "spredixcan_genes_models = spredixcan_genes_models.join(spredixcan_genes_unique_n_snps)"
   ]
  },
  {
   "cell_type": "code",
   "execution_count": 139,
   "id": "25a28358-843b-4421-9d8f-8edc41f016e3",
   "metadata": {
    "execution": {
     "iopub.execute_input": "2022-08-27T07:12:41.034237Z",
     "iopub.status.busy": "2022-08-27T07:12:41.033993Z",
     "iopub.status.idle": "2022-08-27T07:12:41.051260Z",
     "shell.execute_reply": "2022-08-27T07:12:41.050768Z"
    },
    "papermill": {
     "duration": 0.049182,
     "end_time": "2022-08-27T07:12:41.052852",
     "exception": false,
     "start_time": "2022-08-27T07:12:41.003670",
     "status": "completed"
    },
    "tags": []
   },
   "outputs": [
    {
     "data": {
      "text/plain": [
       "(6450, 9)"
      ]
     },
     "execution_count": 139,
     "metadata": {},
     "output_type": "execute_result"
    }
   ],
   "source": [
    "spredixcan_genes_models.shape"
   ]
  },
  {
   "cell_type": "code",
   "execution_count": 140,
   "id": "ae4f0cd6-a823-4f55-82cf-1a78f0392acf",
   "metadata": {
    "execution": {
     "iopub.execute_input": "2022-08-27T07:12:41.112821Z",
     "iopub.status.busy": "2022-08-27T07:12:41.112560Z",
     "iopub.status.idle": "2022-08-27T07:12:41.141747Z",
     "shell.execute_reply": "2022-08-27T07:12:41.141223Z"
    },
    "papermill": {
     "duration": 0.061006,
     "end_time": "2022-08-27T07:12:41.143204",
     "exception": false,
     "start_time": "2022-08-27T07:12:41.082198",
     "status": "completed"
    },
    "tags": []
   },
   "outputs": [
    {
     "data": {
      "text/html": [
       "<div>\n",
       "<style scoped>\n",
       "    .dataframe tbody tr th:only-of-type {\n",
       "        vertical-align: middle;\n",
       "    }\n",
       "\n",
       "    .dataframe tbody tr th {\n",
       "        vertical-align: top;\n",
       "    }\n",
       "\n",
       "    .dataframe thead th {\n",
       "        text-align: right;\n",
       "    }\n",
       "</style>\n",
       "<table border=\"1\" class=\"dataframe\">\n",
       "  <thead>\n",
       "    <tr style=\"text-align: right;\">\n",
       "      <th></th>\n",
       "      <th>gene_name</th>\n",
       "      <th>tissue</th>\n",
       "      <th>n_tissues</th>\n",
       "      <th>tissues_pc_variances</th>\n",
       "      <th>tissues_variances</th>\n",
       "      <th>n_snps_used_sum</th>\n",
       "      <th>n_snps_in_model_sum</th>\n",
       "      <th>unique_n_snps_in_model</th>\n",
       "      <th>unique_n_snps_used</th>\n",
       "    </tr>\n",
       "    <tr>\n",
       "      <th>gene_id</th>\n",
       "      <th></th>\n",
       "      <th></th>\n",
       "      <th></th>\n",
       "      <th></th>\n",
       "      <th></th>\n",
       "      <th></th>\n",
       "      <th></th>\n",
       "      <th></th>\n",
       "      <th></th>\n",
       "    </tr>\n",
       "  </thead>\n",
       "  <tbody>\n",
       "    <tr>\n",
       "      <th>ENSG00000000419</th>\n",
       "      <td>DPM1</td>\n",
       "      <td>(Brain_Hypothalamus, Brain_Substantia_nigra, C...</td>\n",
       "      <td>3</td>\n",
       "      <td>[1.0525406583994028, 1.024362410165966, 0.9230...</td>\n",
       "      <td>{'Brain_Hypothalamus': 0.013162153504206677, '...</td>\n",
       "      <td>3</td>\n",
       "      <td>3</td>\n",
       "      <td>3</td>\n",
       "      <td>3</td>\n",
       "    </tr>\n",
       "    <tr>\n",
       "      <th>ENSG00000000938</th>\n",
       "      <td>FGR</td>\n",
       "      <td>(Brain_Cortex, Artery_Tibial, Testis, Adipose_...</td>\n",
       "      <td>36</td>\n",
       "      <td>[31.63266933637127, 2.0783677518511445, 1.2716...</td>\n",
       "      <td>{'Brain_Cortex': 0.004882241504747395, 'Artery...</td>\n",
       "      <td>40</td>\n",
       "      <td>40</td>\n",
       "      <td>5</td>\n",
       "      <td>5</td>\n",
       "    </tr>\n",
       "    <tr>\n",
       "      <th>ENSG00000000971</th>\n",
       "      <td>CFH</td>\n",
       "      <td>(Brain_Cortex, Artery_Tibial, Cells_Cultured_f...</td>\n",
       "      <td>34</td>\n",
       "      <td>[21.560769925683296, 7.3101709870454625, 1.837...</td>\n",
       "      <td>{'Brain_Cortex': 0.005725070121841921, 'Artery...</td>\n",
       "      <td>44</td>\n",
       "      <td>44</td>\n",
       "      <td>12</td>\n",
       "      <td>12</td>\n",
       "    </tr>\n",
       "    <tr>\n",
       "      <th>ENSG00000001084</th>\n",
       "      <td>GCLC</td>\n",
       "      <td>(Brain_Cortex, Artery_Tibial, Cells_Cultured_f...</td>\n",
       "      <td>33</td>\n",
       "      <td>[21.74736589643256, 4.70064578668365, 2.249949...</td>\n",
       "      <td>{'Brain_Cortex': 0.024826936262456585, 'Artery...</td>\n",
       "      <td>47</td>\n",
       "      <td>47</td>\n",
       "      <td>24</td>\n",
       "      <td>24</td>\n",
       "    </tr>\n",
       "    <tr>\n",
       "      <th>ENSG00000001167</th>\n",
       "      <td>NFYA</td>\n",
       "      <td>(Brain_Cortex, Artery_Tibial, Cells_Cultured_f...</td>\n",
       "      <td>40</td>\n",
       "      <td>[38.28994327673914]</td>\n",
       "      <td>{'Brain_Cortex': 0.016199723974989217, 'Artery...</td>\n",
       "      <td>48</td>\n",
       "      <td>48</td>\n",
       "      <td>14</td>\n",
       "      <td>14</td>\n",
       "    </tr>\n",
       "  </tbody>\n",
       "</table>\n",
       "</div>"
      ],
      "text/plain": [
       "                gene_name                                             tissue  \\\n",
       "gene_id                                                                        \n",
       "ENSG00000000419      DPM1  (Brain_Hypothalamus, Brain_Substantia_nigra, C...   \n",
       "ENSG00000000938       FGR  (Brain_Cortex, Artery_Tibial, Testis, Adipose_...   \n",
       "ENSG00000000971       CFH  (Brain_Cortex, Artery_Tibial, Cells_Cultured_f...   \n",
       "ENSG00000001084      GCLC  (Brain_Cortex, Artery_Tibial, Cells_Cultured_f...   \n",
       "ENSG00000001167      NFYA  (Brain_Cortex, Artery_Tibial, Cells_Cultured_f...   \n",
       "\n",
       "                 n_tissues                               tissues_pc_variances  \\\n",
       "gene_id                                                                         \n",
       "ENSG00000000419          3  [1.0525406583994028, 1.024362410165966, 0.9230...   \n",
       "ENSG00000000938         36  [31.63266933637127, 2.0783677518511445, 1.2716...   \n",
       "ENSG00000000971         34  [21.560769925683296, 7.3101709870454625, 1.837...   \n",
       "ENSG00000001084         33  [21.74736589643256, 4.70064578668365, 2.249949...   \n",
       "ENSG00000001167         40                                [38.28994327673914]   \n",
       "\n",
       "                                                 tissues_variances  \\\n",
       "gene_id                                                              \n",
       "ENSG00000000419  {'Brain_Hypothalamus': 0.013162153504206677, '...   \n",
       "ENSG00000000938  {'Brain_Cortex': 0.004882241504747395, 'Artery...   \n",
       "ENSG00000000971  {'Brain_Cortex': 0.005725070121841921, 'Artery...   \n",
       "ENSG00000001084  {'Brain_Cortex': 0.024826936262456585, 'Artery...   \n",
       "ENSG00000001167  {'Brain_Cortex': 0.016199723974989217, 'Artery...   \n",
       "\n",
       "                 n_snps_used_sum  n_snps_in_model_sum  unique_n_snps_in_model  \\\n",
       "gene_id                                                                         \n",
       "ENSG00000000419                3                    3                       3   \n",
       "ENSG00000000938               40                   40                       5   \n",
       "ENSG00000000971               44                   44                      12   \n",
       "ENSG00000001084               47                   47                      24   \n",
       "ENSG00000001167               48                   48                      14   \n",
       "\n",
       "                 unique_n_snps_used  \n",
       "gene_id                              \n",
       "ENSG00000000419                   3  \n",
       "ENSG00000000938                   5  \n",
       "ENSG00000000971                  12  \n",
       "ENSG00000001084                  24  \n",
       "ENSG00000001167                  14  "
      ]
     },
     "execution_count": 140,
     "metadata": {},
     "output_type": "execute_result"
    }
   ],
   "source": [
    "spredixcan_genes_models.head()"
   ]
  },
  {
   "cell_type": "markdown",
   "id": "d6947d45-ea78-4c6b-bf71-f7413d1687e3",
   "metadata": {
    "papermill": {
     "duration": 0.028913,
     "end_time": "2022-08-27T07:12:41.201039",
     "exception": false,
     "start_time": "2022-08-27T07:12:41.172126",
     "status": "completed"
    },
    "tags": []
   },
   "source": [
    "### Save"
   ]
  },
  {
   "cell_type": "code",
   "execution_count": 141,
   "id": "ebc3a430-7bd5-4099-8b01-aa77e704e3e7",
   "metadata": {
    "execution": {
     "iopub.execute_input": "2022-08-27T07:12:41.260230Z",
     "iopub.status.busy": "2022-08-27T07:12:41.259951Z",
     "iopub.status.idle": "2022-08-27T07:12:41.276831Z",
     "shell.execute_reply": "2022-08-27T07:12:41.276315Z"
    },
    "papermill": {
     "duration": 0.048369,
     "end_time": "2022-08-27T07:12:41.278405",
     "exception": false,
     "start_time": "2022-08-27T07:12:41.230036",
     "status": "completed"
    },
    "tags": []
   },
   "outputs": [],
   "source": [
    "# this is important, other scripts depend on gene_name to be unique\n",
    "assert spredixcan_genes_models[\"gene_name\"].is_unique"
   ]
  },
  {
   "cell_type": "code",
   "execution_count": 142,
   "id": "e2db5302-3051-4492-97e1-e759d2fb512f",
   "metadata": {
    "execution": {
     "iopub.execute_input": "2022-08-27T07:12:41.338760Z",
     "iopub.status.busy": "2022-08-27T07:12:41.338521Z",
     "iopub.status.idle": "2022-08-27T07:12:41.356544Z",
     "shell.execute_reply": "2022-08-27T07:12:41.356001Z"
    },
    "papermill": {
     "duration": 0.050273,
     "end_time": "2022-08-27T07:12:41.358181",
     "exception": false,
     "start_time": "2022-08-27T07:12:41.307908",
     "status": "completed"
    },
    "tags": []
   },
   "outputs": [],
   "source": [
    "assert not spredixcan_genes_models.isna().any(None)"
   ]
  },
  {
   "cell_type": "code",
   "execution_count": 143,
   "id": "10e19441-8390-4eb1-8da4-24752597bb54",
   "metadata": {
    "execution": {
     "iopub.execute_input": "2022-08-27T07:12:41.418311Z",
     "iopub.status.busy": "2022-08-27T07:12:41.418087Z",
     "iopub.status.idle": "2022-08-27T07:12:42.197865Z",
     "shell.execute_reply": "2022-08-27T07:12:42.197219Z"
    },
    "papermill": {
     "duration": 0.812268,
     "end_time": "2022-08-27T07:12:42.199799",
     "exception": false,
     "start_time": "2022-08-27T07:12:41.387531",
     "status": "completed"
    },
    "tags": []
   },
   "outputs": [],
   "source": [
    "spredixcan_genes_models.to_pickle(OUTPUT_DIR_BASE / \"gene_tissues.pkl\")"
   ]
  },
  {
   "cell_type": "code",
   "execution_count": null,
   "id": "b25e3ead",
   "metadata": {
    "papermill": {
     "duration": 0.03035,
     "end_time": "2022-08-27T07:12:42.260544",
     "exception": false,
     "start_time": "2022-08-27T07:12:42.230194",
     "status": "completed"
    },
    "tags": []
   },
   "outputs": [],
   "source": []
  }
 ],
 "metadata": {
  "jupytext": {
   "cell_metadata_filter": "all,-execution,-papermill,-trusted",
   "formats": "ipynb,py//py:percent"
  },
  "kernelspec": {
   "display_name": "Python 3 (ipykernel)",
   "language": "python",
   "name": "python3"
  },
  "language_info": {
   "codemirror_mode": {
    "name": "ipython",
    "version": 3
   },
   "file_extension": ".py",
   "mimetype": "text/x-python",
   "name": "python",
   "nbconvert_exporter": "python",
   "pygments_lexer": "ipython3",
   "version": "3.8.13"
  },
  "papermill": {
   "default_parameters": {},
   "duration": 10610.012988,
   "end_time": "2022-08-27T07:12:44.921033",
   "environment_variables": {},
   "exception": null,
   "input_path": "nbs/15_gsa_gls/07-compile_gwas_snps_and_twas_genes.ipynb",
   "output_path": "nbs/15_gsa_gls/gene_corrs/cohorts/phenomexcan_other/gtex_v8/mashr/07-compile_gwas_snps_and_twas_genes.run.ipynb",
   "parameters": {
    "COHORT_NAME": "phenomexcan_other",
    "EQTL_MODEL": "MASHR",
    "GWAS_FILE": "/project/ritchie20/projects/phenoplier/base/data/phenomexcan/gwas_parsing/full/MAGNETIC_IDL.TG.txt.gz",
    "REFERENCE_PANEL": "GTEX_V8",
    "SMULTIXCAN_FILE": "/project/ritchie20/projects/phenoplier/base/data/phenomexcan/smultixcan/gtex_gwas/MAGNETIC_IDL.TG_smultixcan_imputed_gwas_gtexv8mashr_ccn30.txt.gz",
    "SPREDIXCAN_FILE_PATTERN": "spredixcan_igwas_gtexmashrv8_MAGNETIC_IDL.TG__PM__{tissue}.csv",
    "SPREDIXCAN_FOLDER": "/project/ritchie20/projects/phenoplier/base/data/phenomexcan/spredixcan/gtex_gwas/MAGNETIC_IDL.TG/"
   },
   "start_time": "2022-08-27T04:15:54.908045",
   "version": "2.2.2"
  },
  "toc-autonumbering": true
 },
 "nbformat": 4,
 "nbformat_minor": 5
}
