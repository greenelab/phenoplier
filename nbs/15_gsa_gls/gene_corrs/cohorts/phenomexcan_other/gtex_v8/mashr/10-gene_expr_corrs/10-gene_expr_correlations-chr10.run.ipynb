{
 "cells": [
  {
   "cell_type": "markdown",
   "id": "7a6632fb",
   "metadata": {
    "papermill": {
     "duration": 0.025601,
     "end_time": "2022-08-27T06:03:18.255112",
     "exception": false,
     "start_time": "2022-08-27T06:03:18.229511",
     "status": "completed"
    },
    "tags": []
   },
   "source": [
    "# Description"
   ]
  },
  {
   "cell_type": "markdown",
   "id": "7097c346",
   "metadata": {
    "papermill": {
     "duration": 0.015068,
     "end_time": "2022-08-27T06:03:18.287626",
     "exception": false,
     "start_time": "2022-08-27T06:03:18.272558",
     "status": "completed"
    },
    "tags": []
   },
   "source": [
    "(Please, take a look at the README.md file in this directory for instructions on how to run this notebook)\n",
    "\n",
    "This notebook computes predicted expression correlations between all genes in the MultiPLIER models.\n",
    "\n",
    "It also has a parameter set for papermill to run on a single chromosome to run in parallel (see under `Settings` below).\n",
    "\n",
    "This notebook is not directly run. See README.md."
   ]
  },
  {
   "cell_type": "markdown",
   "id": "c61d8427",
   "metadata": {
    "papermill": {
     "duration": 0.013527,
     "end_time": "2022-08-27T06:03:18.315238",
     "exception": false,
     "start_time": "2022-08-27T06:03:18.301711",
     "status": "completed"
    },
    "tags": []
   },
   "source": [
    "# Modules"
   ]
  },
  {
   "cell_type": "code",
   "execution_count": 1,
   "id": "bbc0234f",
   "metadata": {
    "execution": {
     "iopub.execute_input": "2022-08-27T06:03:18.341370Z",
     "iopub.status.busy": "2022-08-27T06:03:18.341013Z",
     "iopub.status.idle": "2022-08-27T06:03:18.367686Z",
     "shell.execute_reply": "2022-08-27T06:03:18.367064Z"
    },
    "papermill": {
     "duration": 0.0423,
     "end_time": "2022-08-27T06:03:18.369941",
     "exception": false,
     "start_time": "2022-08-27T06:03:18.327641",
     "status": "completed"
    },
    "tags": []
   },
   "outputs": [],
   "source": [
    "%load_ext autoreload\n",
    "%autoreload 2"
   ]
  },
  {
   "cell_type": "code",
   "execution_count": 2,
   "id": "1d5f5a59",
   "metadata": {
    "execution": {
     "iopub.execute_input": "2022-08-27T06:03:18.391609Z",
     "iopub.status.busy": "2022-08-27T06:03:18.391370Z",
     "iopub.status.idle": "2022-08-27T06:03:20.344478Z",
     "shell.execute_reply": "2022-08-27T06:03:20.343921Z"
    },
    "papermill": {
     "duration": 1.966312,
     "end_time": "2022-08-27T06:03:20.346292",
     "exception": false,
     "start_time": "2022-08-27T06:03:18.379980",
     "status": "completed"
    },
    "tags": []
   },
   "outputs": [],
   "source": [
    "from random import sample, seed\n",
    "import warnings\n",
    "from pathlib import Path\n",
    "import pickle\n",
    "import traceback\n",
    "\n",
    "import numpy as np\n",
    "from scipy.spatial.distance import squareform\n",
    "import pandas as pd\n",
    "from tqdm import tqdm\n",
    "import matplotlib.pyplot as plt\n",
    "import seaborn as sns\n",
    "\n",
    "import conf\n",
    "from entity import Gene"
   ]
  },
  {
   "cell_type": "markdown",
   "id": "1eac24b5",
   "metadata": {
    "papermill": {
     "duration": 0.020386,
     "end_time": "2022-08-27T06:03:20.403842",
     "exception": false,
     "start_time": "2022-08-27T06:03:20.383456",
     "status": "completed"
    },
    "tags": []
   },
   "source": [
    "# Settings"
   ]
  },
  {
   "cell_type": "code",
   "execution_count": 3,
   "id": "ca4560ba",
   "metadata": {
    "execution": {
     "iopub.execute_input": "2022-08-27T06:03:20.427158Z",
     "iopub.status.busy": "2022-08-27T06:03:20.426924Z",
     "iopub.status.idle": "2022-08-27T06:03:20.446803Z",
     "shell.execute_reply": "2022-08-27T06:03:20.446404Z"
    },
    "papermill": {
     "duration": 0.032941,
     "end_time": "2022-08-27T06:03:20.448114",
     "exception": false,
     "start_time": "2022-08-27T06:03:20.415173",
     "status": "completed"
    },
    "tags": [
     "parameters"
    ]
   },
   "outputs": [],
   "source": [
    "# a cohort name (it could be something like UK_BIOBANK, etc)\n",
    "COHORT_NAME = None\n",
    "\n",
    "# reference panel such as 1000G or GTEX_V8\n",
    "REFERENCE_PANEL = None\n",
    "\n",
    "# predictions models such as MASHR or ELASTIC_NET\n",
    "EQTL_MODEL = None\n",
    "\n",
    "# this is the default value used in S-MultiXcan to select the\n",
    "# top principal components of the expression correlation matrix\n",
    "SMULTIXCAN_CONDITION_NUMBER = 30\n",
    "\n",
    "# specifies a single chromosome value\n",
    "CHROMOSOME = None\n",
    "\n",
    "# If True, computes the correlation between closeby genes only;\n",
    "# otherwise, it computes correlations for all genes in a chromosome\n",
    "COMPUTE_CORRELATIONS_WITHIN_DISTANCE = False\n",
    "\n",
    "# if True, then it will continue if a gene pair correlation fails,\n",
    "# printing the warning/error for debugging. If False, any warning/error\n",
    "# will be thrown\n",
    "DEBUG_MODE = False"
   ]
  },
  {
   "cell_type": "code",
   "execution_count": 4,
   "id": "aa4f27dd",
   "metadata": {
    "execution": {
     "iopub.execute_input": "2022-08-27T06:03:20.483538Z",
     "iopub.status.busy": "2022-08-27T06:03:20.483358Z",
     "iopub.status.idle": "2022-08-27T06:03:20.500209Z",
     "shell.execute_reply": "2022-08-27T06:03:20.499837Z"
    },
    "papermill": {
     "duration": 0.044976,
     "end_time": "2022-08-27T06:03:20.501507",
     "exception": false,
     "start_time": "2022-08-27T06:03:20.456531",
     "status": "completed"
    },
    "tags": [
     "injected-parameters"
    ]
   },
   "outputs": [],
   "source": [
    "# Parameters\n",
    "COHORT_NAME = \"phenomexcan_other\"\n",
    "REFERENCE_PANEL = \"GTEX_V8\"\n",
    "EQTL_MODEL = \"MASHR\"\n",
    "CHROMOSOME = 10\n"
   ]
  },
  {
   "cell_type": "code",
   "execution_count": 5,
   "id": "3190631f-27fc-480f-b18e-571d580425a5",
   "metadata": {
    "execution": {
     "iopub.execute_input": "2022-08-27T06:03:20.528024Z",
     "iopub.status.busy": "2022-08-27T06:03:20.527864Z",
     "iopub.status.idle": "2022-08-27T06:03:20.546302Z",
     "shell.execute_reply": "2022-08-27T06:03:20.545931Z"
    },
    "papermill": {
     "duration": 0.032576,
     "end_time": "2022-08-27T06:03:20.547440",
     "exception": false,
     "start_time": "2022-08-27T06:03:20.514864",
     "status": "completed"
    },
    "tags": []
   },
   "outputs": [
    {
     "data": {
      "text/plain": [
       "'Cohort name: phenomexcan_other'"
      ]
     },
     "metadata": {},
     "output_type": "display_data"
    }
   ],
   "source": [
    "assert COHORT_NAME is not None and len(COHORT_NAME) > 0, \"A cohort name must be given\"\n",
    "\n",
    "COHORT_NAME = COHORT_NAME.lower()\n",
    "display(f\"Cohort name: {COHORT_NAME}\")"
   ]
  },
  {
   "cell_type": "code",
   "execution_count": 6,
   "id": "f53ba19b-0f93-4fa2-a047-63b375939d1a",
   "metadata": {
    "execution": {
     "iopub.execute_input": "2022-08-27T06:03:20.581455Z",
     "iopub.status.busy": "2022-08-27T06:03:20.581286Z",
     "iopub.status.idle": "2022-08-27T06:03:20.598211Z",
     "shell.execute_reply": "2022-08-27T06:03:20.597846Z"
    },
    "papermill": {
     "duration": 0.034521,
     "end_time": "2022-08-27T06:03:20.599357",
     "exception": false,
     "start_time": "2022-08-27T06:03:20.564836",
     "status": "completed"
    },
    "tags": []
   },
   "outputs": [
    {
     "data": {
      "text/plain": [
       "'Reference panel: GTEX_V8'"
      ]
     },
     "metadata": {},
     "output_type": "display_data"
    }
   ],
   "source": [
    "assert (\n",
    "    REFERENCE_PANEL is not None and len(REFERENCE_PANEL) > 0\n",
    "), \"A reference panel must be given\"\n",
    "\n",
    "display(f\"Reference panel: {REFERENCE_PANEL}\")"
   ]
  },
  {
   "cell_type": "code",
   "execution_count": 7,
   "id": "e024d130-c139-429a-9c6e-ccf149e297b0",
   "metadata": {
    "execution": {
     "iopub.execute_input": "2022-08-27T06:03:20.675060Z",
     "iopub.status.busy": "2022-08-27T06:03:20.674742Z",
     "iopub.status.idle": "2022-08-27T06:03:20.706259Z",
     "shell.execute_reply": "2022-08-27T06:03:20.705611Z"
    },
    "papermill": {
     "duration": 0.086674,
     "end_time": "2022-08-27T06:03:20.708241",
     "exception": false,
     "start_time": "2022-08-27T06:03:20.621567",
     "status": "completed"
    },
    "tags": []
   },
   "outputs": [
    {
     "data": {
      "text/plain": [
       "'eQTL model: MASHR) / mashr_'"
      ]
     },
     "metadata": {},
     "output_type": "display_data"
    }
   ],
   "source": [
    "assert (\n",
    "    EQTL_MODEL is not None and len(EQTL_MODEL) > 0\n",
    "), \"A prediction/eQTL model must be given\"\n",
    "\n",
    "EQTL_MODEL_FILES_PREFIX = conf.PHENOMEXCAN[\"PREDICTION_MODELS\"][f\"{EQTL_MODEL}_PREFIX\"]\n",
    "display(f\"eQTL model: {EQTL_MODEL}) / {EQTL_MODEL_FILES_PREFIX}\")"
   ]
  },
  {
   "cell_type": "code",
   "execution_count": 8,
   "id": "552a7f63-a18c-4d3e-bb6a-94f99b431291",
   "metadata": {
    "execution": {
     "iopub.execute_input": "2022-08-27T06:03:20.787930Z",
     "iopub.status.busy": "2022-08-27T06:03:20.787713Z",
     "iopub.status.idle": "2022-08-27T06:03:20.810058Z",
     "shell.execute_reply": "2022-08-27T06:03:20.809594Z"
    },
    "papermill": {
     "duration": 0.05855,
     "end_time": "2022-08-27T06:03:20.811589",
     "exception": false,
     "start_time": "2022-08-27T06:03:20.753039",
     "status": "completed"
    },
    "tags": []
   },
   "outputs": [
    {
     "data": {
      "text/plain": [
       "'S-MultiXcan condition number: 30'"
      ]
     },
     "metadata": {},
     "output_type": "display_data"
    }
   ],
   "source": [
    "assert (\n",
    "    SMULTIXCAN_CONDITION_NUMBER is not None and SMULTIXCAN_CONDITION_NUMBER > 0\n",
    "), \"The S-MultiXcan condition number (positive integer) must be given\"\n",
    "\n",
    "display(f\"S-MultiXcan condition number: {SMULTIXCAN_CONDITION_NUMBER}\")"
   ]
  },
  {
   "cell_type": "code",
   "execution_count": 9,
   "id": "f34a336f-548e-4afe-8955-90eaea4f42c6",
   "metadata": {
    "execution": {
     "iopub.execute_input": "2022-08-27T06:03:20.868953Z",
     "iopub.status.busy": "2022-08-27T06:03:20.868769Z",
     "iopub.status.idle": "2022-08-27T06:03:20.887637Z",
     "shell.execute_reply": "2022-08-27T06:03:20.887236Z"
    },
    "papermill": {
     "duration": 0.049405,
     "end_time": "2022-08-27T06:03:20.888924",
     "exception": false,
     "start_time": "2022-08-27T06:03:20.839519",
     "status": "completed"
    },
    "tags": []
   },
   "outputs": [
    {
     "data": {
      "text/plain": [
       "'Working on chromosome 10'"
      ]
     },
     "metadata": {},
     "output_type": "display_data"
    }
   ],
   "source": [
    "assert CHROMOSOME is not None and (\n",
    "    1 <= CHROMOSOME <= 22\n",
    "), \"You have to select one chromosome (format: number between 1 and 22)\"\n",
    "\n",
    "# CHROMOSOME = str(CHROMOSOME)\n",
    "display(f\"Working on chromosome {CHROMOSOME}\")"
   ]
  },
  {
   "cell_type": "code",
   "execution_count": 10,
   "id": "ab8e96e8-06b5-4363-9dcd-dc4d78cc27f7",
   "metadata": {
    "execution": {
     "iopub.execute_input": "2022-08-27T06:03:20.954058Z",
     "iopub.status.busy": "2022-08-27T06:03:20.953891Z",
     "iopub.status.idle": "2022-08-27T06:03:20.970911Z",
     "shell.execute_reply": "2022-08-27T06:03:20.970539Z"
    },
    "papermill": {
     "duration": 0.049093,
     "end_time": "2022-08-27T06:03:20.972078",
     "exception": false,
     "start_time": "2022-08-27T06:03:20.922985",
     "status": "completed"
    },
    "tags": []
   },
   "outputs": [
    {
     "data": {
      "text/plain": [
       "'Compute correlation within distance False'"
      ]
     },
     "metadata": {},
     "output_type": "display_data"
    }
   ],
   "source": [
    "display(f\"Compute correlation within distance {COMPUTE_CORRELATIONS_WITHIN_DISTANCE}\")"
   ]
  },
  {
   "cell_type": "code",
   "execution_count": 11,
   "id": "396392dc-0340-4540-9b02-e182b833f909",
   "metadata": {
    "execution": {
     "iopub.execute_input": "2022-08-27T06:03:21.040629Z",
     "iopub.status.busy": "2022-08-27T06:03:21.040328Z",
     "iopub.status.idle": "2022-08-27T06:03:21.126023Z",
     "shell.execute_reply": "2022-08-27T06:03:21.124868Z"
    },
    "papermill": {
     "duration": 0.122507,
     "end_time": "2022-08-27T06:03:21.129603",
     "exception": false,
     "start_time": "2022-08-27T06:03:21.007096",
     "status": "completed"
    },
    "tags": []
   },
   "outputs": [
    {
     "data": {
      "text/plain": [
       "'Using output dir base: /project/ritchie20/projects/phenoplier/base/results/gls/gene_corrs/cohorts/phenomexcan_other/gtex_v8/mashr'"
      ]
     },
     "metadata": {},
     "output_type": "display_data"
    }
   ],
   "source": [
    "OUTPUT_DIR_BASE = (\n",
    "    conf.RESULTS[\"GLS\"]\n",
    "    / \"gene_corrs\"\n",
    "    / \"cohorts\"\n",
    "    / COHORT_NAME\n",
    "    / REFERENCE_PANEL.lower()\n",
    "    / EQTL_MODEL.lower()\n",
    ")\n",
    "OUTPUT_DIR_BASE.mkdir(parents=True, exist_ok=True)\n",
    "\n",
    "display(f\"Using output dir base: {OUTPUT_DIR_BASE}\")"
   ]
  },
  {
   "cell_type": "markdown",
   "id": "d2ba085e",
   "metadata": {
    "papermill": {
     "duration": 0.040127,
     "end_time": "2022-08-27T06:03:21.219178",
     "exception": false,
     "start_time": "2022-08-27T06:03:21.179051",
     "status": "completed"
    },
    "tags": []
   },
   "source": [
    "# Load data"
   ]
  },
  {
   "cell_type": "markdown",
   "id": "7dcb8db7",
   "metadata": {
    "papermill": {
     "duration": 0.052555,
     "end_time": "2022-08-27T06:03:21.326205",
     "exception": false,
     "start_time": "2022-08-27T06:03:21.273650",
     "status": "completed"
    },
    "tags": []
   },
   "source": [
    "## GWAS variants"
   ]
  },
  {
   "cell_type": "code",
   "execution_count": 12,
   "id": "29434c4e-8cd3-4b9b-82e4-b5a251d9dd19",
   "metadata": {
    "execution": {
     "iopub.execute_input": "2022-08-27T06:03:21.396850Z",
     "iopub.status.busy": "2022-08-27T06:03:21.396530Z",
     "iopub.status.idle": "2022-08-27T06:03:24.788285Z",
     "shell.execute_reply": "2022-08-27T06:03:24.787548Z"
    },
    "papermill": {
     "duration": 3.428234,
     "end_time": "2022-08-27T06:03:24.790187",
     "exception": false,
     "start_time": "2022-08-27T06:03:21.361953",
     "status": "completed"
    },
    "tags": []
   },
   "outputs": [],
   "source": [
    "with open(OUTPUT_DIR_BASE / \"gwas_variant_ids.pkl\", \"rb\") as handle:\n",
    "    gwas_variants_ids_set = pickle.load(handle)"
   ]
  },
  {
   "cell_type": "code",
   "execution_count": 13,
   "id": "b9d9dec2-4a76-4bf9-bde2-e24c95acb8a0",
   "metadata": {
    "execution": {
     "iopub.execute_input": "2022-08-27T06:03:24.813445Z",
     "iopub.status.busy": "2022-08-27T06:03:24.813215Z",
     "iopub.status.idle": "2022-08-27T06:03:24.835057Z",
     "shell.execute_reply": "2022-08-27T06:03:24.834682Z"
    },
    "papermill": {
     "duration": 0.035068,
     "end_time": "2022-08-27T06:03:24.836217",
     "exception": false,
     "start_time": "2022-08-27T06:03:24.801149",
     "status": "completed"
    },
    "tags": []
   },
   "outputs": [
    {
     "data": {
      "text/plain": [
       "8865800"
      ]
     },
     "execution_count": 13,
     "metadata": {},
     "output_type": "execute_result"
    }
   ],
   "source": [
    "len(gwas_variants_ids_set)"
   ]
  },
  {
   "cell_type": "code",
   "execution_count": 14,
   "id": "4235b06a-6034-4ee4-a0a3-2ae35d122418",
   "metadata": {
    "execution": {
     "iopub.execute_input": "2022-08-27T06:03:24.853609Z",
     "iopub.status.busy": "2022-08-27T06:03:24.853446Z",
     "iopub.status.idle": "2022-08-27T06:03:25.368896Z",
     "shell.execute_reply": "2022-08-27T06:03:25.368465Z"
    },
    "papermill": {
     "duration": 0.525483,
     "end_time": "2022-08-27T06:03:25.370195",
     "exception": false,
     "start_time": "2022-08-27T06:03:24.844712",
     "status": "completed"
    },
    "tags": []
   },
   "outputs": [
    {
     "data": {
      "text/plain": [
       "['chr13_55125315_A_T_b38',\n",
       " 'chr3_314882_A_T_b38',\n",
       " 'chr7_47812056_A_G_b38',\n",
       " 'chr10_6606368_G_A_b38',\n",
       " 'chr6_12018017_G_A_b38']"
      ]
     },
     "execution_count": 14,
     "metadata": {},
     "output_type": "execute_result"
    }
   ],
   "source": [
    "list(gwas_variants_ids_set)[:5]"
   ]
  },
  {
   "cell_type": "markdown",
   "id": "07866999-2305-41f9-a144-e69c9122c212",
   "metadata": {
    "papermill": {
     "duration": 0.008316,
     "end_time": "2022-08-27T06:03:25.389009",
     "exception": false,
     "start_time": "2022-08-27T06:03:25.380693",
     "status": "completed"
    },
    "tags": []
   },
   "source": [
    "## S-PrediXcan tissue models"
   ]
  },
  {
   "cell_type": "code",
   "execution_count": 15,
   "id": "780611d9-77c8-405f-90a4-f271f7b09397",
   "metadata": {
    "execution": {
     "iopub.execute_input": "2022-08-27T06:03:25.406539Z",
     "iopub.status.busy": "2022-08-27T06:03:25.406357Z",
     "iopub.status.idle": "2022-08-27T06:03:26.306189Z",
     "shell.execute_reply": "2022-08-27T06:03:26.305713Z"
    },
    "papermill": {
     "duration": 0.910775,
     "end_time": "2022-08-27T06:03:26.307911",
     "exception": false,
     "start_time": "2022-08-27T06:03:25.397136",
     "status": "completed"
    },
    "tags": []
   },
   "outputs": [],
   "source": [
    "spredixcan_genes_models = pd.read_pickle(OUTPUT_DIR_BASE / \"gene_tissues.pkl\")"
   ]
  },
  {
   "cell_type": "code",
   "execution_count": 16,
   "id": "726dd1f6-9557-4225-91fa-b3b879ea96e1",
   "metadata": {
    "execution": {
     "iopub.execute_input": "2022-08-27T06:03:26.326208Z",
     "iopub.status.busy": "2022-08-27T06:03:26.326005Z",
     "iopub.status.idle": "2022-08-27T06:03:26.345563Z",
     "shell.execute_reply": "2022-08-27T06:03:26.345181Z"
    },
    "papermill": {
     "duration": 0.030356,
     "end_time": "2022-08-27T06:03:26.346724",
     "exception": false,
     "start_time": "2022-08-27T06:03:26.316368",
     "status": "completed"
    },
    "tags": []
   },
   "outputs": [
    {
     "data": {
      "text/plain": [
       "(6450, 3)"
      ]
     },
     "execution_count": 16,
     "metadata": {},
     "output_type": "execute_result"
    }
   ],
   "source": [
    "spredixcan_genes_models.shape"
   ]
  },
  {
   "cell_type": "code",
   "execution_count": 17,
   "id": "944a1b48-222c-4eb0-b252-b9de2cbca215",
   "metadata": {
    "execution": {
     "iopub.execute_input": "2022-08-27T06:03:26.369326Z",
     "iopub.status.busy": "2022-08-27T06:03:26.369148Z",
     "iopub.status.idle": "2022-08-27T06:03:26.394680Z",
     "shell.execute_reply": "2022-08-27T06:03:26.394310Z"
    },
    "papermill": {
     "duration": 0.036959,
     "end_time": "2022-08-27T06:03:26.395879",
     "exception": false,
     "start_time": "2022-08-27T06:03:26.358920",
     "status": "completed"
    },
    "tags": []
   },
   "outputs": [
    {
     "data": {
      "text/html": [
       "<div>\n",
       "<style scoped>\n",
       "    .dataframe tbody tr th:only-of-type {\n",
       "        vertical-align: middle;\n",
       "    }\n",
       "\n",
       "    .dataframe tbody tr th {\n",
       "        vertical-align: top;\n",
       "    }\n",
       "\n",
       "    .dataframe thead th {\n",
       "        text-align: right;\n",
       "    }\n",
       "</style>\n",
       "<table border=\"1\" class=\"dataframe\">\n",
       "  <thead>\n",
       "    <tr style=\"text-align: right;\">\n",
       "      <th></th>\n",
       "      <th>gene_name</th>\n",
       "      <th>tissue</th>\n",
       "      <th>n_tissues</th>\n",
       "    </tr>\n",
       "    <tr>\n",
       "      <th>gene_id</th>\n",
       "      <th></th>\n",
       "      <th></th>\n",
       "      <th></th>\n",
       "    </tr>\n",
       "  </thead>\n",
       "  <tbody>\n",
       "    <tr>\n",
       "      <th>ENSG00000000419</th>\n",
       "      <td>DPM1</td>\n",
       "      <td>(Brain_Substantia_nigra, Brain_Hypothalamus, C...</td>\n",
       "      <td>3</td>\n",
       "    </tr>\n",
       "    <tr>\n",
       "      <th>ENSG00000000938</th>\n",
       "      <td>FGR</td>\n",
       "      <td>(Skin_Sun_Exposed_Lower_leg, Skin_Not_Sun_Expo...</td>\n",
       "      <td>36</td>\n",
       "    </tr>\n",
       "    <tr>\n",
       "      <th>ENSG00000000971</th>\n",
       "      <td>CFH</td>\n",
       "      <td>(Skin_Sun_Exposed_Lower_leg, Skin_Not_Sun_Expo...</td>\n",
       "      <td>34</td>\n",
       "    </tr>\n",
       "    <tr>\n",
       "      <th>ENSG00000001084</th>\n",
       "      <td>GCLC</td>\n",
       "      <td>(Skin_Sun_Exposed_Lower_leg, Brain_Amygdala, S...</td>\n",
       "      <td>33</td>\n",
       "    </tr>\n",
       "    <tr>\n",
       "      <th>ENSG00000001167</th>\n",
       "      <td>NFYA</td>\n",
       "      <td>(Skin_Sun_Exposed_Lower_leg, Skin_Not_Sun_Expo...</td>\n",
       "      <td>40</td>\n",
       "    </tr>\n",
       "  </tbody>\n",
       "</table>\n",
       "</div>"
      ],
      "text/plain": [
       "                gene_name                                             tissue  \\\n",
       "gene_id                                                                        \n",
       "ENSG00000000419      DPM1  (Brain_Substantia_nigra, Brain_Hypothalamus, C...   \n",
       "ENSG00000000938       FGR  (Skin_Sun_Exposed_Lower_leg, Skin_Not_Sun_Expo...   \n",
       "ENSG00000000971       CFH  (Skin_Sun_Exposed_Lower_leg, Skin_Not_Sun_Expo...   \n",
       "ENSG00000001084      GCLC  (Skin_Sun_Exposed_Lower_leg, Brain_Amygdala, S...   \n",
       "ENSG00000001167      NFYA  (Skin_Sun_Exposed_Lower_leg, Skin_Not_Sun_Expo...   \n",
       "\n",
       "                 n_tissues  \n",
       "gene_id                     \n",
       "ENSG00000000419          3  \n",
       "ENSG00000000938         36  \n",
       "ENSG00000000971         34  \n",
       "ENSG00000001084         33  \n",
       "ENSG00000001167         40  "
      ]
     },
     "execution_count": 17,
     "metadata": {},
     "output_type": "execute_result"
    }
   ],
   "source": [
    "spredixcan_genes_models.head()"
   ]
  },
  {
   "cell_type": "code",
   "execution_count": 18,
   "id": "d1c11bb1-be0b-4f40-b360-633d6827109f",
   "metadata": {
    "execution": {
     "iopub.execute_input": "2022-08-27T06:03:26.416177Z",
     "iopub.status.busy": "2022-08-27T06:03:26.416007Z",
     "iopub.status.idle": "2022-08-27T06:03:26.432504Z",
     "shell.execute_reply": "2022-08-27T06:03:26.432142Z"
    },
    "papermill": {
     "duration": 0.029042,
     "end_time": "2022-08-27T06:03:26.433759",
     "exception": false,
     "start_time": "2022-08-27T06:03:26.404717",
     "status": "completed"
    },
    "tags": []
   },
   "outputs": [],
   "source": [
    "assert spredixcan_genes_models.index.is_unique"
   ]
  },
  {
   "cell_type": "markdown",
   "id": "a5b5092c-a13e-47c4-a92a-480fcc08f3ae",
   "metadata": {
    "papermill": {
     "duration": 0.008307,
     "end_time": "2022-08-27T06:03:26.450665",
     "exception": false,
     "start_time": "2022-08-27T06:03:26.442358",
     "status": "completed"
    },
    "tags": []
   },
   "source": [
    "## Gene info"
   ]
  },
  {
   "cell_type": "code",
   "execution_count": 19,
   "id": "7d6bb224-88e9-4358-ac10-43a41d92cdad",
   "metadata": {
    "execution": {
     "iopub.execute_input": "2022-08-27T06:03:26.469365Z",
     "iopub.status.busy": "2022-08-27T06:03:26.469179Z",
     "iopub.status.idle": "2022-08-27T06:03:26.493589Z",
     "shell.execute_reply": "2022-08-27T06:03:26.493197Z"
    },
    "papermill": {
     "duration": 0.035506,
     "end_time": "2022-08-27T06:03:26.494873",
     "exception": false,
     "start_time": "2022-08-27T06:03:26.459367",
     "status": "completed"
    },
    "tags": []
   },
   "outputs": [],
   "source": [
    "genes_info = pd.read_pickle(OUTPUT_DIR_BASE / \"genes_info.pkl\")"
   ]
  },
  {
   "cell_type": "code",
   "execution_count": 20,
   "id": "9e32abfa-546d-483e-8c18-d526e9e05903",
   "metadata": {
    "execution": {
     "iopub.execute_input": "2022-08-27T06:03:26.520954Z",
     "iopub.status.busy": "2022-08-27T06:03:26.520778Z",
     "iopub.status.idle": "2022-08-27T06:03:26.537811Z",
     "shell.execute_reply": "2022-08-27T06:03:26.537451Z"
    },
    "papermill": {
     "duration": 0.029384,
     "end_time": "2022-08-27T06:03:26.538943",
     "exception": false,
     "start_time": "2022-08-27T06:03:26.509559",
     "status": "completed"
    },
    "tags": []
   },
   "outputs": [
    {
     "data": {
      "text/plain": [
       "(6450, 7)"
      ]
     },
     "execution_count": 20,
     "metadata": {},
     "output_type": "execute_result"
    }
   ],
   "source": [
    "genes_info.shape"
   ]
  },
  {
   "cell_type": "code",
   "execution_count": 21,
   "id": "d16c3e92-85ec-468a-9a56-e25a9774a1cb",
   "metadata": {
    "execution": {
     "iopub.execute_input": "2022-08-27T06:03:26.560188Z",
     "iopub.status.busy": "2022-08-27T06:03:26.560030Z",
     "iopub.status.idle": "2022-08-27T06:03:26.580646Z",
     "shell.execute_reply": "2022-08-27T06:03:26.580282Z"
    },
    "papermill": {
     "duration": 0.033269,
     "end_time": "2022-08-27T06:03:26.581777",
     "exception": false,
     "start_time": "2022-08-27T06:03:26.548508",
     "status": "completed"
    },
    "tags": []
   },
   "outputs": [
    {
     "data": {
      "text/html": [
       "<div>\n",
       "<style scoped>\n",
       "    .dataframe tbody tr th:only-of-type {\n",
       "        vertical-align: middle;\n",
       "    }\n",
       "\n",
       "    .dataframe tbody tr th {\n",
       "        vertical-align: top;\n",
       "    }\n",
       "\n",
       "    .dataframe thead th {\n",
       "        text-align: right;\n",
       "    }\n",
       "</style>\n",
       "<table border=\"1\" class=\"dataframe\">\n",
       "  <thead>\n",
       "    <tr style=\"text-align: right;\">\n",
       "      <th></th>\n",
       "      <th>name</th>\n",
       "      <th>id</th>\n",
       "      <th>chr</th>\n",
       "      <th>band</th>\n",
       "      <th>start_position</th>\n",
       "      <th>end_position</th>\n",
       "      <th>gene_length</th>\n",
       "    </tr>\n",
       "  </thead>\n",
       "  <tbody>\n",
       "    <tr>\n",
       "      <th>0</th>\n",
       "      <td>FUS</td>\n",
       "      <td>ENSG00000089280</td>\n",
       "      <td>16</td>\n",
       "      <td>16p11.2</td>\n",
       "      <td>31180110</td>\n",
       "      <td>31194871</td>\n",
       "      <td>14761</td>\n",
       "    </tr>\n",
       "    <tr>\n",
       "      <th>1</th>\n",
       "      <td>PI4K2A</td>\n",
       "      <td>ENSG00000155252</td>\n",
       "      <td>10</td>\n",
       "      <td>10q24.2</td>\n",
       "      <td>97640686</td>\n",
       "      <td>97676434</td>\n",
       "      <td>35748</td>\n",
       "    </tr>\n",
       "    <tr>\n",
       "      <th>2</th>\n",
       "      <td>PER1</td>\n",
       "      <td>ENSG00000179094</td>\n",
       "      <td>17</td>\n",
       "      <td>17p13.1</td>\n",
       "      <td>8140472</td>\n",
       "      <td>8156506</td>\n",
       "      <td>16034</td>\n",
       "    </tr>\n",
       "    <tr>\n",
       "      <th>3</th>\n",
       "      <td>GBP6</td>\n",
       "      <td>ENSG00000183347</td>\n",
       "      <td>1</td>\n",
       "      <td>1p22.2</td>\n",
       "      <td>89364058</td>\n",
       "      <td>89386461</td>\n",
       "      <td>22403</td>\n",
       "    </tr>\n",
       "    <tr>\n",
       "      <th>4</th>\n",
       "      <td>GPAA1</td>\n",
       "      <td>ENSG00000197858</td>\n",
       "      <td>8</td>\n",
       "      <td>8q24.3</td>\n",
       "      <td>144082590</td>\n",
       "      <td>144086216</td>\n",
       "      <td>3626</td>\n",
       "    </tr>\n",
       "  </tbody>\n",
       "</table>\n",
       "</div>"
      ],
      "text/plain": [
       "     name               id  chr     band  start_position  end_position  \\\n",
       "0     FUS  ENSG00000089280   16  16p11.2        31180110      31194871   \n",
       "1  PI4K2A  ENSG00000155252   10  10q24.2        97640686      97676434   \n",
       "2    PER1  ENSG00000179094   17  17p13.1         8140472       8156506   \n",
       "3    GBP6  ENSG00000183347    1   1p22.2        89364058      89386461   \n",
       "4   GPAA1  ENSG00000197858    8   8q24.3       144082590     144086216   \n",
       "\n",
       "   gene_length  \n",
       "0        14761  \n",
       "1        35748  \n",
       "2        16034  \n",
       "3        22403  \n",
       "4         3626  "
      ]
     },
     "execution_count": 21,
     "metadata": {},
     "output_type": "execute_result"
    }
   ],
   "source": [
    "genes_info.head()"
   ]
  },
  {
   "cell_type": "markdown",
   "id": "d3843e06",
   "metadata": {
    "papermill": {
     "duration": 0.011638,
     "end_time": "2022-08-27T06:03:26.610699",
     "exception": false,
     "start_time": "2022-08-27T06:03:26.599061",
     "status": "completed"
    },
    "tags": []
   },
   "source": [
    "# Compute correlations"
   ]
  },
  {
   "cell_type": "code",
   "execution_count": 22,
   "id": "cb859c15-d1f3-4006-a74c-2b83c0db9611",
   "metadata": {
    "execution": {
     "iopub.execute_input": "2022-08-27T06:03:26.637610Z",
     "iopub.status.busy": "2022-08-27T06:03:26.637444Z",
     "iopub.status.idle": "2022-08-27T06:03:26.656823Z",
     "shell.execute_reply": "2022-08-27T06:03:26.656459Z"
    },
    "papermill": {
     "duration": 0.032738,
     "end_time": "2022-08-27T06:03:26.657948",
     "exception": false,
     "start_time": "2022-08-27T06:03:26.625210",
     "status": "completed"
    },
    "tags": []
   },
   "outputs": [
    {
     "data": {
      "text/plain": [
       "PosixPath('/project/ritchie20/projects/phenoplier/base/results/gls/gene_corrs/cohorts/phenomexcan_other/gtex_v8/mashr/by_chr/gene_corrs-chr10.pkl')"
      ]
     },
     "metadata": {},
     "output_type": "display_data"
    }
   ],
   "source": [
    "output_dir = OUTPUT_DIR_BASE / \"by_chr\"\n",
    "output_dir.mkdir(exist_ok=True, parents=True)\n",
    "output_file = output_dir / f\"gene_corrs-chr{CHROMOSOME}.pkl\"\n",
    "display(output_file)"
   ]
  },
  {
   "cell_type": "code",
   "execution_count": 23,
   "id": "aa674fe4-6794-4eed-98fa-32b39d1d4ace",
   "metadata": {
    "execution": {
     "iopub.execute_input": "2022-08-27T06:03:26.693460Z",
     "iopub.status.busy": "2022-08-27T06:03:26.693300Z",
     "iopub.status.idle": "2022-08-27T06:03:26.708590Z",
     "shell.execute_reply": "2022-08-27T06:03:26.708233Z"
    },
    "papermill": {
     "duration": 0.031564,
     "end_time": "2022-08-27T06:03:26.709851",
     "exception": false,
     "start_time": "2022-08-27T06:03:26.678287",
     "status": "completed"
    },
    "tags": []
   },
   "outputs": [],
   "source": [
    "warnings.filterwarnings(\"error\")"
   ]
  },
  {
   "cell_type": "code",
   "execution_count": 24,
   "id": "44d5450b-3baf-43f1-9e2e-4b06f1a785f8",
   "metadata": {
    "execution": {
     "iopub.execute_input": "2022-08-27T06:03:26.737734Z",
     "iopub.status.busy": "2022-08-27T06:03:26.737574Z",
     "iopub.status.idle": "2022-08-27T06:03:26.753469Z",
     "shell.execute_reply": "2022-08-27T06:03:26.753106Z"
    },
    "papermill": {
     "duration": 0.032573,
     "end_time": "2022-08-27T06:03:26.754726",
     "exception": false,
     "start_time": "2022-08-27T06:03:26.722153",
     "status": "completed"
    },
    "tags": []
   },
   "outputs": [],
   "source": [
    "# standard checks\n",
    "all_chrs = genes_info[\"chr\"].dropna().unique()\n",
    "assert all_chrs.shape[0] == 22\n",
    "\n",
    "# select chromosome given by the user\n",
    "assert CHROMOSOME in all_chrs"
   ]
  },
  {
   "cell_type": "code",
   "execution_count": 25,
   "id": "2d7c043c-92a7-4d35-991b-fa69ac1e0268",
   "metadata": {
    "execution": {
     "iopub.execute_input": "2022-08-27T06:03:26.800548Z",
     "iopub.status.busy": "2022-08-27T06:03:26.800389Z",
     "iopub.status.idle": "2022-08-27T06:03:26.972519Z",
     "shell.execute_reply": "2022-08-27T06:03:26.971977Z"
    },
    "papermill": {
     "duration": 0.196239,
     "end_time": "2022-08-27T06:03:26.974177",
     "exception": false,
     "start_time": "2022-08-27T06:03:26.777938",
     "status": "completed"
    },
    "tags": []
   },
   "outputs": [
    {
     "name": "stdout",
     "output_type": "stream",
     "text": [
      "Number of genes in chromosome: 245\n"
     ]
    }
   ],
   "source": [
    "# run only on the chromosome specified\n",
    "all_chrs = [CHROMOSOME]\n",
    "genes_chr = genes_info[genes_info[\"chr\"] == CHROMOSOME]\n",
    "\n",
    "# For testing purposes\n",
    "# genes_chr = genes_chr.sample(n=20)\n",
    "\n",
    "print(f\"Number of genes in chromosome: {genes_chr.shape[0]}\", flush=True)"
   ]
  },
  {
   "cell_type": "code",
   "execution_count": 26,
   "id": "916015d8-2979-46d3-a9b9-1cf5a0932c6a",
   "metadata": {
    "execution": {
     "iopub.execute_input": "2022-08-27T06:03:27.031587Z",
     "iopub.status.busy": "2022-08-27T06:03:27.031387Z",
     "iopub.status.idle": "2022-08-27T06:03:27.050534Z",
     "shell.execute_reply": "2022-08-27T06:03:27.050094Z"
    },
    "papermill": {
     "duration": 0.056819,
     "end_time": "2022-08-27T06:03:27.052005",
     "exception": false,
     "start_time": "2022-08-27T06:03:26.995186",
     "status": "completed"
    },
    "tags": []
   },
   "outputs": [],
   "source": [
    "# sort genes by starting position to make visualizations better later\n",
    "genes_chr = genes_chr.sort_values(\"start_position\")"
   ]
  },
  {
   "cell_type": "code",
   "execution_count": 27,
   "id": "a38aa74a-8ad3-47f6-8ef9-56be0e011774",
   "metadata": {
    "execution": {
     "iopub.execute_input": "2022-08-27T06:03:27.102557Z",
     "iopub.status.busy": "2022-08-27T06:03:27.102380Z",
     "iopub.status.idle": "2022-08-27T06:03:27.119579Z",
     "shell.execute_reply": "2022-08-27T06:03:27.119186Z"
    },
    "papermill": {
     "duration": 0.048237,
     "end_time": "2022-08-27T06:03:27.120904",
     "exception": false,
     "start_time": "2022-08-27T06:03:27.072667",
     "status": "completed"
    },
    "tags": []
   },
   "outputs": [],
   "source": [
    "gene_chr_objs = [Gene(ensembl_id=gene_id) for gene_id in genes_chr[\"id\"]]"
   ]
  },
  {
   "cell_type": "code",
   "execution_count": 28,
   "id": "570f974f-13c3-42b6-ad3a-ce99ca885c1a",
   "metadata": {
    "execution": {
     "iopub.execute_input": "2022-08-27T06:03:27.186481Z",
     "iopub.status.busy": "2022-08-27T06:03:27.186174Z",
     "iopub.status.idle": "2022-08-27T06:03:27.213885Z",
     "shell.execute_reply": "2022-08-27T06:03:27.213295Z"
    },
    "papermill": {
     "duration": 0.063175,
     "end_time": "2022-08-27T06:03:27.215879",
     "exception": false,
     "start_time": "2022-08-27T06:03:27.152704",
     "status": "completed"
    },
    "tags": []
   },
   "outputs": [
    {
     "name": "stdout",
     "output_type": "stream",
     "text": [
      "Number of gene combinations: 29890\n"
     ]
    }
   ],
   "source": [
    "n = len(gene_chr_objs)\n",
    "n_comb = int(n * (n - 1) / 2.0)\n",
    "print(f\"Number of gene combinations: {n_comb}\", flush=True)"
   ]
  },
  {
   "cell_type": "code",
   "execution_count": 29,
   "id": "cdbb90a1",
   "metadata": {
    "execution": {
     "iopub.execute_input": "2022-08-27T06:03:27.279914Z",
     "iopub.status.busy": "2022-08-27T06:03:27.279713Z",
     "iopub.status.idle": "2022-08-27T06:36:44.835469Z",
     "shell.execute_reply": "2022-08-27T06:36:44.833769Z"
    },
    "papermill": {
     "duration": 1997.598484,
     "end_time": "2022-08-27T06:36:44.839724",
     "exception": false,
     "start_time": "2022-08-27T06:03:27.241240",
     "status": "completed"
    },
    "tags": []
   },
   "outputs": [
    {
     "name": "stderr",
     "output_type": "stream",
     "text": [
      "ENSG00000130649 / ENSG00000130649: : 30135it [33:17, 15.09it/s]\n"
     ]
    },
    {
     "data": {
      "text/plain": [
       "PosixPath('/project/ritchie20/projects/phenoplier/base/results/gls/gene_corrs/cohorts/phenomexcan_other/gtex_v8/mashr/by_chr/gene_corrs-chr10.pkl')"
      ]
     },
     "metadata": {},
     "output_type": "display_data"
    }
   ],
   "source": [
    "gene_corrs = []\n",
    "gene_corrs_data = np.full(\n",
    "    (n, n),\n",
    "    np.nan,\n",
    "    dtype=np.float64,\n",
    ")\n",
    "\n",
    "i = 0\n",
    "with tqdm(ncols=100, total=n_comb) as pbar:\n",
    "    for gene1_idx in range(0, len(gene_chr_objs)):\n",
    "        gene1_obj = gene_chr_objs[gene1_idx]\n",
    "        gene1_tissues = spredixcan_genes_models.loc[gene1_obj.ensembl_id, \"tissue\"]\n",
    "\n",
    "        for gene2_idx in range(gene1_idx, len(gene_chr_objs)):\n",
    "            gene2_obj = gene_chr_objs[gene2_idx]\n",
    "            gene2_tissues = spredixcan_genes_models.loc[gene2_obj.ensembl_id, \"tissue\"]\n",
    "\n",
    "            pbar.set_description(f\"{gene1_obj.ensembl_id} / {gene2_obj.ensembl_id}\")\n",
    "\n",
    "            try:\n",
    "                r = gene1_obj.get_ssm_correlation(\n",
    "                    other_gene=gene2_obj,\n",
    "                    tissues=gene1_tissues,\n",
    "                    other_tissues=gene2_tissues,\n",
    "                    snps_subset=gwas_variants_ids_set,\n",
    "                    condition_number=SMULTIXCAN_CONDITION_NUMBER,\n",
    "                    reference_panel=REFERENCE_PANEL,\n",
    "                    model_type=EQTL_MODEL,\n",
    "                    use_within_distance=COMPUTE_CORRELATIONS_WITHIN_DISTANCE,\n",
    "                )\n",
    "\n",
    "                if r is None:\n",
    "                    # if r is None, it's very likely because:\n",
    "                    #  * one of the genes has no prediction models\n",
    "                    #  * all the SNPs predictors for the gene are not present in the reference\n",
    "                    #    panel\n",
    "\n",
    "                    r = 0.0\n",
    "\n",
    "                gene_corrs.append(r)\n",
    "\n",
    "                gene_corrs_data[gene1_idx, gene2_idx] = r\n",
    "                gene_corrs_data[gene2_idx, gene1_idx] = r\n",
    "            except Warning as e:\n",
    "                if not DEBUG_MODE:\n",
    "                    raise e\n",
    "\n",
    "                print(\n",
    "                    f\"RuntimeWarning for genes {gene1_obj.ensembl_id} and {gene2_obj.ensembl_id}\",\n",
    "                    flush=True,\n",
    "                )\n",
    "                print(traceback.format_exc(), flush=True)\n",
    "\n",
    "                gene_corrs.append(np.nan)\n",
    "            except Exception as e:\n",
    "                if not DEBUG_MODE:\n",
    "                    raise e\n",
    "\n",
    "                print(\n",
    "                    f\"Exception for genes {gene1_obj.ensembl_id} and {gene2_obj.ensembl_id}\",\n",
    "                    flush=True,\n",
    "                )\n",
    "                print(traceback.format_exc(), flush=True)\n",
    "\n",
    "                gene_corrs.append(np.nan)\n",
    "\n",
    "            pbar.update(1)\n",
    "\n",
    "# create a pandas series\n",
    "gene_corrs_flat = pd.Series(gene_corrs)\n",
    "\n",
    "# save\n",
    "# FIXME: consider saving only the condenced matrix here. See here for\n",
    "# more details: https://github.com/greenelab/phenoplier/pull/38#discussion_r634600813\n",
    "# gene_corrs_data = squareform(np.array(gene_corrs, dtype=np.float64))\n",
    "# np.fill_diagonal(gene_corrs_data, 1.0)\n",
    "\n",
    "gene_chr_ids = [g.ensembl_id for g in gene_chr_objs]\n",
    "gene_corrs_df = pd.DataFrame(\n",
    "    data=gene_corrs_data,\n",
    "    index=gene_chr_ids,\n",
    "    columns=gene_chr_ids,\n",
    ")\n",
    "\n",
    "output_dir.mkdir(exist_ok=True, parents=True)\n",
    "display(output_file)\n",
    "\n",
    "gene_corrs_df.to_pickle(output_file)"
   ]
  },
  {
   "cell_type": "markdown",
   "id": "faa67b51-5373-470f-aa72-2ded53fa6dfe",
   "metadata": {
    "papermill": {
     "duration": 1.436057,
     "end_time": "2022-08-27T06:36:47.861945",
     "exception": false,
     "start_time": "2022-08-27T06:36:46.425888",
     "status": "completed"
    },
    "tags": []
   },
   "source": [
    "# Testing"
   ]
  },
  {
   "cell_type": "code",
   "execution_count": 30,
   "id": "14f7d046-4b55-4896-a56b-990127bcc388",
   "metadata": {
    "execution": {
     "iopub.execute_input": "2022-08-27T06:36:50.822855Z",
     "iopub.status.busy": "2022-08-27T06:36:50.822601Z",
     "iopub.status.idle": "2022-08-27T06:36:51.186889Z",
     "shell.execute_reply": "2022-08-27T06:36:51.185680Z"
    },
    "papermill": {
     "duration": 1.852245,
     "end_time": "2022-08-27T06:36:51.190419",
     "exception": false,
     "start_time": "2022-08-27T06:36:49.338174",
     "status": "completed"
    },
    "tags": []
   },
   "outputs": [
    {
     "data": {
      "text/plain": [
       "(245, 245)"
      ]
     },
     "execution_count": 30,
     "metadata": {},
     "output_type": "execute_result"
    }
   ],
   "source": [
    "gene_corrs_df.shape"
   ]
  },
  {
   "cell_type": "code",
   "execution_count": 31,
   "id": "c7d15414-3297-4537-a7c6-7588c0baeb75",
   "metadata": {
    "execution": {
     "iopub.execute_input": "2022-08-27T06:36:54.199285Z",
     "iopub.status.busy": "2022-08-27T06:36:54.199037Z",
     "iopub.status.idle": "2022-08-27T06:36:54.229694Z",
     "shell.execute_reply": "2022-08-27T06:36:54.229095Z"
    },
    "papermill": {
     "duration": 1.509607,
     "end_time": "2022-08-27T06:36:54.230910",
     "exception": false,
     "start_time": "2022-08-27T06:36:52.721303",
     "status": "completed"
    },
    "tags": []
   },
   "outputs": [
    {
     "data": {
      "text/html": [
       "<div>\n",
       "<style scoped>\n",
       "    .dataframe tbody tr th:only-of-type {\n",
       "        vertical-align: middle;\n",
       "    }\n",
       "\n",
       "    .dataframe tbody tr th {\n",
       "        vertical-align: top;\n",
       "    }\n",
       "\n",
       "    .dataframe thead th {\n",
       "        text-align: right;\n",
       "    }\n",
       "</style>\n",
       "<table border=\"1\" class=\"dataframe\">\n",
       "  <thead>\n",
       "    <tr style=\"text-align: right;\">\n",
       "      <th></th>\n",
       "      <th>ENSG00000261456</th>\n",
       "      <th>ENSG00000148377</th>\n",
       "      <th>ENSG00000067064</th>\n",
       "      <th>ENSG00000067057</th>\n",
       "      <th>ENSG00000067082</th>\n",
       "      <th>ENSG00000187134</th>\n",
       "      <th>ENSG00000151632</th>\n",
       "      <th>ENSG00000196139</th>\n",
       "      <th>ENSG00000173848</th>\n",
       "      <th>ENSG00000196372</th>\n",
       "      <th>...</th>\n",
       "      <th>ENSG00000148773</th>\n",
       "      <th>ENSG00000170430</th>\n",
       "      <th>ENSG00000175470</th>\n",
       "      <th>ENSG00000176171</th>\n",
       "      <th>ENSG00000151640</th>\n",
       "      <th>ENSG00000068383</th>\n",
       "      <th>ENSG00000130640</th>\n",
       "      <th>ENSG00000127884</th>\n",
       "      <th>ENSG00000148832</th>\n",
       "      <th>ENSG00000130649</th>\n",
       "    </tr>\n",
       "  </thead>\n",
       "  <tbody>\n",
       "    <tr>\n",
       "      <th>ENSG00000261456</th>\n",
       "      <td>1.000000</td>\n",
       "      <td>0.003037</td>\n",
       "      <td>0.011524</td>\n",
       "      <td>0.009612</td>\n",
       "      <td>0.005388</td>\n",
       "      <td>0.007914</td>\n",
       "      <td>0.007330</td>\n",
       "      <td>0.013160</td>\n",
       "      <td>0.013201</td>\n",
       "      <td>0.014429</td>\n",
       "      <td>...</td>\n",
       "      <td>0.005644</td>\n",
       "      <td>0.004542</td>\n",
       "      <td>0.009000</td>\n",
       "      <td>0.007544</td>\n",
       "      <td>0.012443</td>\n",
       "      <td>0.007523</td>\n",
       "      <td>0.007696</td>\n",
       "      <td>0.003566</td>\n",
       "      <td>0.005960</td>\n",
       "      <td>0.008613</td>\n",
       "    </tr>\n",
       "    <tr>\n",
       "      <th>ENSG00000148377</th>\n",
       "      <td>0.003037</td>\n",
       "      <td>1.000000</td>\n",
       "      <td>0.084105</td>\n",
       "      <td>0.004397</td>\n",
       "      <td>0.005417</td>\n",
       "      <td>0.005033</td>\n",
       "      <td>0.003386</td>\n",
       "      <td>0.003407</td>\n",
       "      <td>0.000925</td>\n",
       "      <td>0.001049</td>\n",
       "      <td>...</td>\n",
       "      <td>0.004963</td>\n",
       "      <td>0.003932</td>\n",
       "      <td>0.000509</td>\n",
       "      <td>0.002130</td>\n",
       "      <td>0.005028</td>\n",
       "      <td>0.003080</td>\n",
       "      <td>0.000634</td>\n",
       "      <td>0.000971</td>\n",
       "      <td>0.000970</td>\n",
       "      <td>0.003396</td>\n",
       "    </tr>\n",
       "    <tr>\n",
       "      <th>ENSG00000067064</th>\n",
       "      <td>0.011524</td>\n",
       "      <td>0.084105</td>\n",
       "      <td>1.000000</td>\n",
       "      <td>0.014033</td>\n",
       "      <td>0.009470</td>\n",
       "      <td>0.009563</td>\n",
       "      <td>0.005165</td>\n",
       "      <td>0.009913</td>\n",
       "      <td>0.006230</td>\n",
       "      <td>0.009309</td>\n",
       "      <td>...</td>\n",
       "      <td>0.010357</td>\n",
       "      <td>0.002676</td>\n",
       "      <td>0.005551</td>\n",
       "      <td>0.006060</td>\n",
       "      <td>0.004388</td>\n",
       "      <td>0.008257</td>\n",
       "      <td>0.013420</td>\n",
       "      <td>0.005779</td>\n",
       "      <td>0.009035</td>\n",
       "      <td>0.009802</td>\n",
       "    </tr>\n",
       "    <tr>\n",
       "      <th>ENSG00000067057</th>\n",
       "      <td>0.009612</td>\n",
       "      <td>0.004397</td>\n",
       "      <td>0.014033</td>\n",
       "      <td>1.000000</td>\n",
       "      <td>0.011328</td>\n",
       "      <td>0.012732</td>\n",
       "      <td>0.012958</td>\n",
       "      <td>0.015009</td>\n",
       "      <td>0.014563</td>\n",
       "      <td>0.016027</td>\n",
       "      <td>...</td>\n",
       "      <td>0.013378</td>\n",
       "      <td>0.008191</td>\n",
       "      <td>0.010682</td>\n",
       "      <td>0.013390</td>\n",
       "      <td>0.007830</td>\n",
       "      <td>0.017293</td>\n",
       "      <td>0.013138</td>\n",
       "      <td>0.008455</td>\n",
       "      <td>0.013418</td>\n",
       "      <td>0.012115</td>\n",
       "    </tr>\n",
       "    <tr>\n",
       "      <th>ENSG00000067082</th>\n",
       "      <td>0.005388</td>\n",
       "      <td>0.005417</td>\n",
       "      <td>0.009470</td>\n",
       "      <td>0.011328</td>\n",
       "      <td>1.000000</td>\n",
       "      <td>0.003938</td>\n",
       "      <td>0.009859</td>\n",
       "      <td>0.009820</td>\n",
       "      <td>0.008626</td>\n",
       "      <td>0.010430</td>\n",
       "      <td>...</td>\n",
       "      <td>0.006250</td>\n",
       "      <td>0.004728</td>\n",
       "      <td>0.009711</td>\n",
       "      <td>0.007681</td>\n",
       "      <td>0.008825</td>\n",
       "      <td>0.008831</td>\n",
       "      <td>0.006323</td>\n",
       "      <td>0.005590</td>\n",
       "      <td>0.006390</td>\n",
       "      <td>0.006461</td>\n",
       "    </tr>\n",
       "  </tbody>\n",
       "</table>\n",
       "<p>5 rows × 245 columns</p>\n",
       "</div>"
      ],
      "text/plain": [
       "                 ENSG00000261456  ENSG00000148377  ENSG00000067064  \\\n",
       "ENSG00000261456         1.000000         0.003037         0.011524   \n",
       "ENSG00000148377         0.003037         1.000000         0.084105   \n",
       "ENSG00000067064         0.011524         0.084105         1.000000   \n",
       "ENSG00000067057         0.009612         0.004397         0.014033   \n",
       "ENSG00000067082         0.005388         0.005417         0.009470   \n",
       "\n",
       "                 ENSG00000067057  ENSG00000067082  ENSG00000187134  \\\n",
       "ENSG00000261456         0.009612         0.005388         0.007914   \n",
       "ENSG00000148377         0.004397         0.005417         0.005033   \n",
       "ENSG00000067064         0.014033         0.009470         0.009563   \n",
       "ENSG00000067057         1.000000         0.011328         0.012732   \n",
       "ENSG00000067082         0.011328         1.000000         0.003938   \n",
       "\n",
       "                 ENSG00000151632  ENSG00000196139  ENSG00000173848  \\\n",
       "ENSG00000261456         0.007330         0.013160         0.013201   \n",
       "ENSG00000148377         0.003386         0.003407         0.000925   \n",
       "ENSG00000067064         0.005165         0.009913         0.006230   \n",
       "ENSG00000067057         0.012958         0.015009         0.014563   \n",
       "ENSG00000067082         0.009859         0.009820         0.008626   \n",
       "\n",
       "                 ENSG00000196372  ...  ENSG00000148773  ENSG00000170430  \\\n",
       "ENSG00000261456         0.014429  ...         0.005644         0.004542   \n",
       "ENSG00000148377         0.001049  ...         0.004963         0.003932   \n",
       "ENSG00000067064         0.009309  ...         0.010357         0.002676   \n",
       "ENSG00000067057         0.016027  ...         0.013378         0.008191   \n",
       "ENSG00000067082         0.010430  ...         0.006250         0.004728   \n",
       "\n",
       "                 ENSG00000175470  ENSG00000176171  ENSG00000151640  \\\n",
       "ENSG00000261456         0.009000         0.007544         0.012443   \n",
       "ENSG00000148377         0.000509         0.002130         0.005028   \n",
       "ENSG00000067064         0.005551         0.006060         0.004388   \n",
       "ENSG00000067057         0.010682         0.013390         0.007830   \n",
       "ENSG00000067082         0.009711         0.007681         0.008825   \n",
       "\n",
       "                 ENSG00000068383  ENSG00000130640  ENSG00000127884  \\\n",
       "ENSG00000261456         0.007523         0.007696         0.003566   \n",
       "ENSG00000148377         0.003080         0.000634         0.000971   \n",
       "ENSG00000067064         0.008257         0.013420         0.005779   \n",
       "ENSG00000067057         0.017293         0.013138         0.008455   \n",
       "ENSG00000067082         0.008831         0.006323         0.005590   \n",
       "\n",
       "                 ENSG00000148832  ENSG00000130649  \n",
       "ENSG00000261456         0.005960         0.008613  \n",
       "ENSG00000148377         0.000970         0.003396  \n",
       "ENSG00000067064         0.009035         0.009802  \n",
       "ENSG00000067057         0.013418         0.012115  \n",
       "ENSG00000067082         0.006390         0.006461  \n",
       "\n",
       "[5 rows x 245 columns]"
      ]
     },
     "execution_count": 31,
     "metadata": {},
     "output_type": "execute_result"
    }
   ],
   "source": [
    "gene_corrs_df.head()"
   ]
  },
  {
   "cell_type": "markdown",
   "id": "dad6603f-01c6-41fb-a6f6-241051207dd8",
   "metadata": {
    "papermill": {
     "duration": 1.490448,
     "end_time": "2022-08-27T06:36:57.226340",
     "exception": false,
     "start_time": "2022-08-27T06:36:55.735892",
     "status": "completed"
    },
    "tags": []
   },
   "source": [
    "## Standard checks and stats"
   ]
  },
  {
   "cell_type": "code",
   "execution_count": 32,
   "id": "286686af-1b7b-4440-8453-6bdcbd8de19c",
   "metadata": {
    "execution": {
     "iopub.execute_input": "2022-08-27T06:37:00.153063Z",
     "iopub.status.busy": "2022-08-27T06:37:00.152830Z",
     "iopub.status.idle": "2022-08-27T06:37:00.171873Z",
     "shell.execute_reply": "2022-08-27T06:37:00.171336Z"
    },
    "papermill": {
     "duration": 1.520416,
     "end_time": "2022-08-27T06:37:00.173212",
     "exception": false,
     "start_time": "2022-08-27T06:36:58.652796",
     "status": "completed"
    },
    "tags": []
   },
   "outputs": [],
   "source": [
    "assert not gene_corrs_df.isna().any().any()"
   ]
  },
  {
   "cell_type": "code",
   "execution_count": 33,
   "id": "00583efc-7068-4270-ad1e-4a418e91db96",
   "metadata": {
    "execution": {
     "iopub.execute_input": "2022-08-27T06:37:03.036909Z",
     "iopub.status.busy": "2022-08-27T06:37:03.036668Z",
     "iopub.status.idle": "2022-08-27T06:37:03.058358Z",
     "shell.execute_reply": "2022-08-27T06:37:03.057740Z"
    },
    "papermill": {
     "duration": 1.45672,
     "end_time": "2022-08-27T06:37:03.059675",
     "exception": false,
     "start_time": "2022-08-27T06:37:01.602955",
     "status": "completed"
    },
    "tags": []
   },
   "outputs": [
    {
     "data": {
      "text/plain": [
       "3.016476512982385e-08"
      ]
     },
     "metadata": {},
     "output_type": "display_data"
    }
   ],
   "source": [
    "_min_val = gene_corrs_df.min().min()\n",
    "display(_min_val)\n",
    "assert _min_val >= -0.05"
   ]
  },
  {
   "cell_type": "code",
   "execution_count": 34,
   "id": "d04fb2cf-1050-475b-b855-f5f7cc04092b",
   "metadata": {
    "execution": {
     "iopub.execute_input": "2022-08-27T06:37:06.037710Z",
     "iopub.status.busy": "2022-08-27T06:37:06.037470Z",
     "iopub.status.idle": "2022-08-27T06:37:06.058193Z",
     "shell.execute_reply": "2022-08-27T06:37:06.057801Z"
    },
    "papermill": {
     "duration": 1.516858,
     "end_time": "2022-08-27T06:37:06.059391",
     "exception": false,
     "start_time": "2022-08-27T06:37:04.542533",
     "status": "completed"
    },
    "tags": []
   },
   "outputs": [
    {
     "data": {
      "text/plain": [
       "1.0000000000000024"
      ]
     },
     "metadata": {},
     "output_type": "display_data"
    }
   ],
   "source": [
    "_max_val = gene_corrs_df.max().max()  # this captures the diagonal\n",
    "display(_max_val)\n",
    "assert _max_val <= 1.05"
   ]
  },
  {
   "cell_type": "code",
   "execution_count": 35,
   "id": "96d02c44-1fba-47be-8a93-8f2608420b9c",
   "metadata": {
    "execution": {
     "iopub.execute_input": "2022-08-27T06:37:08.973441Z",
     "iopub.status.busy": "2022-08-27T06:37:08.973187Z",
     "iopub.status.idle": "2022-08-27T06:37:08.991329Z",
     "shell.execute_reply": "2022-08-27T06:37:08.990902Z"
    },
    "papermill": {
     "duration": 1.501646,
     "end_time": "2022-08-27T06:37:08.992714",
     "exception": false,
     "start_time": "2022-08-27T06:37:07.491068",
     "status": "completed"
    },
    "tags": []
   },
   "outputs": [],
   "source": [
    "# check upper triangular values\n",
    "# assert len(gene_corrs) == int(genes_chr.shape[0] * (genes_chr.shape[0] - 1) / 2)"
   ]
  },
  {
   "cell_type": "code",
   "execution_count": 36,
   "id": "fe283586-c348-40e0-8841-f6d97bfb021c",
   "metadata": {
    "execution": {
     "iopub.execute_input": "2022-08-27T06:37:11.914453Z",
     "iopub.status.busy": "2022-08-27T06:37:11.914175Z",
     "iopub.status.idle": "2022-08-27T06:37:11.937459Z",
     "shell.execute_reply": "2022-08-27T06:37:11.937051Z"
    },
    "papermill": {
     "duration": 1.517794,
     "end_time": "2022-08-27T06:37:11.938685",
     "exception": false,
     "start_time": "2022-08-27T06:37:10.420891",
     "status": "completed"
    },
    "tags": []
   },
   "outputs": [
    {
     "data": {
      "text/plain": [
       "count    3.013500e+04\n",
       "mean     1.670185e-02\n",
       "std      9.358838e-02\n",
       "min      3.016477e-08\n",
       "25%      4.292052e-03\n",
       "50%      6.466846e-03\n",
       "75%      8.932924e-03\n",
       "max      1.000000e+00\n",
       "dtype: float64"
      ]
     },
     "execution_count": 36,
     "metadata": {},
     "output_type": "execute_result"
    }
   ],
   "source": [
    "gene_corrs_flat.describe()"
   ]
  },
  {
   "cell_type": "code",
   "execution_count": 37,
   "id": "b3815678-0f93-4b35-897b-a9d047a2aa78",
   "metadata": {
    "execution": {
     "iopub.execute_input": "2022-08-27T06:37:14.872836Z",
     "iopub.status.busy": "2022-08-27T06:37:14.872595Z",
     "iopub.status.idle": "2022-08-27T06:37:14.895765Z",
     "shell.execute_reply": "2022-08-27T06:37:14.895086Z"
    },
    "papermill": {
     "duration": 1.510458,
     "end_time": "2022-08-27T06:37:14.897123",
     "exception": false,
     "start_time": "2022-08-27T06:37:13.386665",
     "status": "completed"
    },
    "tags": []
   },
   "outputs": [
    {
     "data": {
      "text/plain": [
       "0.00    3.016477e-08\n",
       "0.05    1.727387e-03\n",
       "0.10    2.591779e-03\n",
       "0.15    3.258734e-03\n",
       "0.20    3.814920e-03\n",
       "0.25    4.292052e-03\n",
       "0.30    4.767759e-03\n",
       "0.35    5.205628e-03\n",
       "0.40    5.634266e-03\n",
       "0.45    6.049687e-03\n",
       "0.50    6.466846e-03\n",
       "0.55    6.898735e-03\n",
       "0.60    7.374159e-03\n",
       "0.65    7.842879e-03\n",
       "0.70    8.335303e-03\n",
       "0.75    8.932924e-03\n",
       "0.80    9.613177e-03\n",
       "0.85    1.045854e-02\n",
       "0.90    1.161307e-02\n",
       "0.95    1.363953e-02\n",
       "dtype: float64"
      ]
     },
     "metadata": {},
     "output_type": "display_data"
    }
   ],
   "source": [
    "gene_corrs_quantiles = gene_corrs_flat.quantile(np.arange(0, 1, 0.05))\n",
    "display(gene_corrs_quantiles)"
   ]
  },
  {
   "cell_type": "markdown",
   "id": "87134509-b145-4a10-8bc9-b7e914c2b0fa",
   "metadata": {
    "papermill": {
     "duration": 1.479739,
     "end_time": "2022-08-27T06:37:17.828392",
     "exception": false,
     "start_time": "2022-08-27T06:37:16.348653",
     "status": "completed"
    },
    "tags": []
   },
   "source": [
    "## Positive definiteness"
   ]
  },
  {
   "cell_type": "code",
   "execution_count": 38,
   "id": "07d9a9a1-a4f7-48aa-b916-6d42a8cc6186",
   "metadata": {
    "execution": {
     "iopub.execute_input": "2022-08-27T06:37:20.753153Z",
     "iopub.status.busy": "2022-08-27T06:37:20.752915Z",
     "iopub.status.idle": "2022-08-27T06:37:20.785148Z",
     "shell.execute_reply": "2022-08-27T06:37:20.784757Z"
    },
    "papermill": {
     "duration": 1.527786,
     "end_time": "2022-08-27T06:37:20.786331",
     "exception": false,
     "start_time": "2022-08-27T06:37:19.258545",
     "status": "completed"
    },
    "tags": []
   },
   "outputs": [
    {
     "data": {
      "text/plain": [
       "0"
      ]
     },
     "metadata": {},
     "output_type": "display_data"
    },
    {
     "data": {
      "text/plain": [
       "array([], dtype=float64)"
      ]
     },
     "metadata": {},
     "output_type": "display_data"
    }
   ],
   "source": [
    "# print negative eigenvalues\n",
    "eigs = np.linalg.eigvals(gene_corrs_df.to_numpy())\n",
    "display(len(eigs[eigs < 0]))\n",
    "display(eigs[eigs < 0])"
   ]
  },
  {
   "cell_type": "code",
   "execution_count": 39,
   "id": "6e218436-c3c5-4028-8c94-a4fa6260efce",
   "metadata": {
    "execution": {
     "iopub.execute_input": "2022-08-27T06:37:23.656801Z",
     "iopub.status.busy": "2022-08-27T06:37:23.656555Z",
     "iopub.status.idle": "2022-08-27T06:37:23.683785Z",
     "shell.execute_reply": "2022-08-27T06:37:23.683116Z"
    },
    "papermill": {
     "duration": 1.465231,
     "end_time": "2022-08-27T06:37:23.685189",
     "exception": false,
     "start_time": "2022-08-27T06:37:22.219958",
     "status": "completed"
    },
    "tags": []
   },
   "outputs": [
    {
     "name": "stdout",
     "output_type": "stream",
     "text": [
      "Works!\n"
     ]
    }
   ],
   "source": [
    "try:\n",
    "    chol_mat = np.linalg.cholesky(gene_corrs_df.to_numpy())\n",
    "    cov_inv = np.linalg.inv(chol_mat)\n",
    "    print(\"Works!\")\n",
    "except Exception as e:\n",
    "    print(f\"Cholesky decomposition failed: {str(e)}\")"
   ]
  },
  {
   "cell_type": "code",
   "execution_count": 40,
   "id": "dd8827fb-faf9-4c7c-9454-015e94752706",
   "metadata": {
    "execution": {
     "iopub.execute_input": "2022-08-27T06:37:26.657338Z",
     "iopub.status.busy": "2022-08-27T06:37:26.657081Z",
     "iopub.status.idle": "2022-08-27T06:37:26.679335Z",
     "shell.execute_reply": "2022-08-27T06:37:26.678919Z"
    },
    "papermill": {
     "duration": 1.515838,
     "end_time": "2022-08-27T06:37:26.680539",
     "exception": false,
     "start_time": "2022-08-27T06:37:25.164701",
     "status": "completed"
    },
    "tags": []
   },
   "outputs": [
    {
     "name": "stdout",
     "output_type": "stream",
     "text": [
      "Works!\n"
     ]
    }
   ],
   "source": [
    "try:\n",
    "    # decomposition used by statsmodels.GLS\n",
    "    cholsigmainv = np.linalg.cholesky(np.linalg.inv(gene_corrs_df.to_numpy())).T\n",
    "    print(\"Works!\")\n",
    "except Exception as e:\n",
    "    print(f\"Cholesky decomposition failed (statsmodels.GLS): {str(e)}\")"
   ]
  },
  {
   "cell_type": "markdown",
   "id": "8e60a080-edb2-4e9c-b2ef-22961693200c",
   "metadata": {
    "papermill": {
     "duration": 1.428291,
     "end_time": "2022-08-27T06:37:29.536195",
     "exception": false,
     "start_time": "2022-08-27T06:37:28.107904",
     "status": "completed"
    },
    "tags": []
   },
   "source": [
    "## Plot: distribution"
   ]
  },
  {
   "cell_type": "code",
   "execution_count": 41,
   "id": "8301126b-a7d4-4744-9c7d-f0f86eb6f54c",
   "metadata": {
    "execution": {
     "iopub.execute_input": "2022-08-27T06:37:32.530207Z",
     "iopub.status.busy": "2022-08-27T06:37:32.529960Z",
     "iopub.status.idle": "2022-08-27T06:37:37.674372Z",
     "shell.execute_reply": "2022-08-27T06:37:37.673883Z"
    },
    "papermill": {
     "duration": 6.630293,
     "end_time": "2022-08-27T06:37:37.675863",
     "exception": false,
     "start_time": "2022-08-27T06:37:31.045570",
     "status": "completed"
    },
    "tags": []
   },
   "outputs": [
    {
     "data": {
      "image/png": "[encoded data removed]",
      "text/plain": [
       "<Figure size 504x504 with 1 Axes>"
      ]
     },
     "metadata": {
      "needs_background": "light"
     },
     "output_type": "display_data"
    }
   ],
   "source": [
    "with sns.plotting_context(\"paper\", font_scale=1.5):\n",
    "    g = sns.displot(gene_corrs_flat, kde=True, height=7)\n",
    "    g.ax.set_title(\n",
    "        f\"Distribution of gene correlation values in chromosome {CHROMOSOME}\"\n",
    "    )"
   ]
  },
  {
   "cell_type": "markdown",
   "id": "cbd52bca-d878-4a2f-b684-5c83aa3038d4",
   "metadata": {
    "papermill": {
     "duration": 1.431218,
     "end_time": "2022-08-27T06:37:40.530433",
     "exception": false,
     "start_time": "2022-08-27T06:37:39.099215",
     "status": "completed"
    },
    "tags": []
   },
   "source": [
    "## Plot: heatmap"
   ]
  },
  {
   "cell_type": "code",
   "execution_count": 42,
   "id": "d03fe63a-c7b2-4fb9-a53c-db362ce843c9",
   "metadata": {
    "execution": {
     "iopub.execute_input": "2022-08-27T06:37:43.477473Z",
     "iopub.status.busy": "2022-08-27T06:37:43.477210Z",
     "iopub.status.idle": "2022-08-27T06:37:43.504047Z",
     "shell.execute_reply": "2022-08-27T06:37:43.503644Z"
    },
    "papermill": {
     "duration": 1.507224,
     "end_time": "2022-08-27T06:37:43.505321",
     "exception": false,
     "start_time": "2022-08-27T06:37:41.998097",
     "status": "completed"
    },
    "tags": []
   },
   "outputs": [
    {
     "data": {
      "text/plain": [
       "'0.0 / 0.05'"
      ]
     },
     "metadata": {},
     "output_type": "display_data"
    }
   ],
   "source": [
    "vmin_val = min(0.00, gene_corrs_quantiles[0.10])\n",
    "vmax_val = max(0.05, gene_corrs_quantiles[0.90])\n",
    "display(f\"{vmin_val} / {vmax_val}\")"
   ]
  },
  {
   "cell_type": "code",
   "execution_count": 43,
   "id": "dc41b70b-5bcc-4d9e-9f33-a22c4a94dab5",
   "metadata": {
    "execution": {
     "iopub.execute_input": "2022-08-27T06:37:46.401933Z",
     "iopub.status.busy": "2022-08-27T06:37:46.401688Z",
     "iopub.status.idle": "2022-08-27T06:37:46.602307Z",
     "shell.execute_reply": "2022-08-27T06:37:46.601835Z"
    },
    "papermill": {
     "duration": 1.670769,
     "end_time": "2022-08-27T06:37:46.603687",
     "exception": false,
     "start_time": "2022-08-27T06:37:44.932918",
     "status": "completed"
    },
    "tags": []
   },
   "outputs": [
    {
     "data": {
      "text/plain": [
       "Text(0.5, 1.0, 'Gene correlations in chromosome 10')"
      ]
     },
     "execution_count": 43,
     "metadata": {},
     "output_type": "execute_result"
    },
    {
     "data": {
      "image/png": "[encoded data removed]",
      "text/plain": [
       "<Figure size 720x720 with 2 Axes>"
      ]
     },
     "metadata": {
      "needs_background": "light"
     },
     "output_type": "display_data"
    }
   ],
   "source": [
    "f, ax = plt.subplots(figsize=(10, 10))\n",
    "sns.heatmap(\n",
    "    gene_corrs_df,\n",
    "    xticklabels=False,\n",
    "    yticklabels=False,\n",
    "    square=True,\n",
    "    vmin=vmin_val,\n",
    "    vmax=vmax_val,\n",
    "    cmap=\"rocket_r\",\n",
    "    ax=ax,\n",
    ")\n",
    "ax.set_title(f\"Gene correlations in chromosome {CHROMOSOME}\")"
   ]
  },
  {
   "cell_type": "code",
   "execution_count": null,
   "id": "b25e3ead",
   "metadata": {
    "papermill": {
     "duration": 1.429476,
     "end_time": "2022-08-27T06:37:49.512597",
     "exception": false,
     "start_time": "2022-08-27T06:37:48.083121",
     "status": "completed"
    },
    "tags": []
   },
   "outputs": [],
   "source": []
  }
 ],
 "metadata": {
  "jupytext": {
   "cell_metadata_filter": "all,-execution,-papermill,-trusted",
   "formats": "ipynb,py//py:percent"
  },
  "kernelspec": {
   "display_name": "Python 3 (ipykernel)",
   "language": "python",
   "name": "python3"
  },
  "language_info": {
   "codemirror_mode": {
    "name": "ipython",
    "version": 3
   },
   "file_extension": ".py",
   "mimetype": "text/x-python",
   "name": "python",
   "nbconvert_exporter": "python",
   "pygments_lexer": "ipython3",
   "version": "3.8.13"
  },
  "papermill": {
   "default_parameters": {},
   "duration": 2078.037611,
   "end_time": "2022-08-27T06:37:54.520120",
   "environment_variables": {},
   "exception": null,
   "input_path": "nbs/15_gsa_gls/10-gene_expr_correlations.ipynb",
   "output_path": "nbs/15_gsa_gls/gene_corrs/cohorts/phenomexcan_other/gtex_v8/mashr/10-gene_expr_corrs/10-gene_expr_correlations-chr10.run.ipynb",
   "parameters": {
    "CHROMOSOME": 10,
    "COHORT_NAME": "phenomexcan_other",
    "EQTL_MODEL": "MASHR",
    "REFERENCE_PANEL": "GTEX_V8"
   },
   "start_time": "2022-08-27T06:03:16.482509",
   "version": "2.2.2"
  }
 },
 "nbformat": 4,
 "nbformat_minor": 5
}
