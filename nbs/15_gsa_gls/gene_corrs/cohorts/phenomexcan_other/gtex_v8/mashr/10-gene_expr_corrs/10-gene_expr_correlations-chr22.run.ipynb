{
 "cells": [
  {
   "cell_type": "markdown",
   "id": "7a6632fb",
   "metadata": {
    "papermill": {
     "duration": 0.021401,
     "end_time": "2022-08-27T06:03:17.961587",
     "exception": false,
     "start_time": "2022-08-27T06:03:17.940186",
     "status": "completed"
    },
    "tags": []
   },
   "source": [
    "# Description"
   ]
  },
  {
   "cell_type": "markdown",
   "id": "7097c346",
   "metadata": {
    "papermill": {
     "duration": 0.014703,
     "end_time": "2022-08-27T06:03:17.993263",
     "exception": false,
     "start_time": "2022-08-27T06:03:17.978560",
     "status": "completed"
    },
    "tags": []
   },
   "source": [
    "(Please, take a look at the README.md file in this directory for instructions on how to run this notebook)\n",
    "\n",
    "This notebook computes predicted expression correlations between all genes in the MultiPLIER models.\n",
    "\n",
    "It also has a parameter set for papermill to run on a single chromosome to run in parallel (see under `Settings` below).\n",
    "\n",
    "This notebook is not directly run. See README.md."
   ]
  },
  {
   "cell_type": "markdown",
   "id": "c61d8427",
   "metadata": {
    "papermill": {
     "duration": 0.01282,
     "end_time": "2022-08-27T06:03:18.019905",
     "exception": false,
     "start_time": "2022-08-27T06:03:18.007085",
     "status": "completed"
    },
    "tags": []
   },
   "source": [
    "# Modules"
   ]
  },
  {
   "cell_type": "code",
   "execution_count": 1,
   "id": "bbc0234f",
   "metadata": {
    "execution": {
     "iopub.execute_input": "2022-08-27T06:03:18.045344Z",
     "iopub.status.busy": "2022-08-27T06:03:18.044945Z",
     "iopub.status.idle": "2022-08-27T06:03:18.071651Z",
     "shell.execute_reply": "2022-08-27T06:03:18.071032Z"
    },
    "papermill": {
     "duration": 0.041985,
     "end_time": "2022-08-27T06:03:18.073857",
     "exception": false,
     "start_time": "2022-08-27T06:03:18.031872",
     "status": "completed"
    },
    "tags": []
   },
   "outputs": [],
   "source": [
    "%load_ext autoreload\n",
    "%autoreload 2"
   ]
  },
  {
   "cell_type": "code",
   "execution_count": 2,
   "id": "1d5f5a59",
   "metadata": {
    "execution": {
     "iopub.execute_input": "2022-08-27T06:03:18.096403Z",
     "iopub.status.busy": "2022-08-27T06:03:18.096142Z",
     "iopub.status.idle": "2022-08-27T06:03:19.713204Z",
     "shell.execute_reply": "2022-08-27T06:03:19.712693Z"
    },
    "papermill": {
     "duration": 1.630275,
     "end_time": "2022-08-27T06:03:19.715062",
     "exception": false,
     "start_time": "2022-08-27T06:03:18.084787",
     "status": "completed"
    },
    "tags": []
   },
   "outputs": [],
   "source": [
    "from random import sample, seed\n",
    "import warnings\n",
    "from pathlib import Path\n",
    "import pickle\n",
    "import traceback\n",
    "\n",
    "import numpy as np\n",
    "from scipy.spatial.distance import squareform\n",
    "import pandas as pd\n",
    "from tqdm import tqdm\n",
    "import matplotlib.pyplot as plt\n",
    "import seaborn as sns\n",
    "\n",
    "import conf\n",
    "from entity import Gene"
   ]
  },
  {
   "cell_type": "markdown",
   "id": "1eac24b5",
   "metadata": {
    "papermill": {
     "duration": 0.007456,
     "end_time": "2022-08-27T06:03:19.760514",
     "exception": false,
     "start_time": "2022-08-27T06:03:19.753058",
     "status": "completed"
    },
    "tags": []
   },
   "source": [
    "# Settings"
   ]
  },
  {
   "cell_type": "code",
   "execution_count": 3,
   "id": "ca4560ba",
   "metadata": {
    "execution": {
     "iopub.execute_input": "2022-08-27T06:03:19.776707Z",
     "iopub.status.busy": "2022-08-27T06:03:19.776469Z",
     "iopub.status.idle": "2022-08-27T06:03:19.795437Z",
     "shell.execute_reply": "2022-08-27T06:03:19.795028Z"
    },
    "papermill": {
     "duration": 0.028838,
     "end_time": "2022-08-27T06:03:19.796794",
     "exception": false,
     "start_time": "2022-08-27T06:03:19.767956",
     "status": "completed"
    },
    "tags": [
     "parameters"
    ]
   },
   "outputs": [],
   "source": [
    "# a cohort name (it could be something like UK_BIOBANK, etc)\n",
    "COHORT_NAME = None\n",
    "\n",
    "# reference panel such as 1000G or GTEX_V8\n",
    "REFERENCE_PANEL = None\n",
    "\n",
    "# predictions models such as MASHR or ELASTIC_NET\n",
    "EQTL_MODEL = None\n",
    "\n",
    "# this is the default value used in S-MultiXcan to select the\n",
    "# top principal components of the expression correlation matrix\n",
    "SMULTIXCAN_CONDITION_NUMBER = 30\n",
    "\n",
    "# specifies a single chromosome value\n",
    "CHROMOSOME = None\n",
    "\n",
    "# If True, computes the correlation between closeby genes only;\n",
    "# otherwise, it computes correlations for all genes in a chromosome\n",
    "COMPUTE_CORRELATIONS_WITHIN_DISTANCE = False\n",
    "\n",
    "# if True, then it will continue if a gene pair correlation fails,\n",
    "# printing the warning/error for debugging. If False, any warning/error\n",
    "# will be thrown\n",
    "DEBUG_MODE = False"
   ]
  },
  {
   "cell_type": "code",
   "execution_count": 4,
   "id": "0e9c0c7a",
   "metadata": {
    "execution": {
     "iopub.execute_input": "2022-08-27T06:03:19.813307Z",
     "iopub.status.busy": "2022-08-27T06:03:19.813134Z",
     "iopub.status.idle": "2022-08-27T06:03:19.830129Z",
     "shell.execute_reply": "2022-08-27T06:03:19.829753Z"
    },
    "papermill": {
     "duration": 0.027199,
     "end_time": "2022-08-27T06:03:19.831443",
     "exception": false,
     "start_time": "2022-08-27T06:03:19.804244",
     "status": "completed"
    },
    "tags": [
     "injected-parameters"
    ]
   },
   "outputs": [],
   "source": [
    "# Parameters\n",
    "COHORT_NAME = \"phenomexcan_other\"\n",
    "REFERENCE_PANEL = \"GTEX_V8\"\n",
    "EQTL_MODEL = \"MASHR\"\n",
    "CHROMOSOME = 22\n"
   ]
  },
  {
   "cell_type": "code",
   "execution_count": 5,
   "id": "3190631f-27fc-480f-b18e-571d580425a5",
   "metadata": {
    "execution": {
     "iopub.execute_input": "2022-08-27T06:03:19.847225Z",
     "iopub.status.busy": "2022-08-27T06:03:19.847059Z",
     "iopub.status.idle": "2022-08-27T06:03:19.865965Z",
     "shell.execute_reply": "2022-08-27T06:03:19.865591Z"
    },
    "papermill": {
     "duration": 0.028171,
     "end_time": "2022-08-27T06:03:19.867153",
     "exception": false,
     "start_time": "2022-08-27T06:03:19.838982",
     "status": "completed"
    },
    "tags": []
   },
   "outputs": [
    {
     "data": {
      "text/plain": [
       "'Cohort name: phenomexcan_other'"
      ]
     },
     "metadata": {},
     "output_type": "display_data"
    }
   ],
   "source": [
    "assert COHORT_NAME is not None and len(COHORT_NAME) > 0, \"A cohort name must be given\"\n",
    "\n",
    "COHORT_NAME = COHORT_NAME.lower()\n",
    "display(f\"Cohort name: {COHORT_NAME}\")"
   ]
  },
  {
   "cell_type": "code",
   "execution_count": 6,
   "id": "f53ba19b-0f93-4fa2-a047-63b375939d1a",
   "metadata": {
    "execution": {
     "iopub.execute_input": "2022-08-27T06:03:19.883199Z",
     "iopub.status.busy": "2022-08-27T06:03:19.883034Z",
     "iopub.status.idle": "2022-08-27T06:03:19.900464Z",
     "shell.execute_reply": "2022-08-27T06:03:19.900086Z"
    },
    "papermill": {
     "duration": 0.026725,
     "end_time": "2022-08-27T06:03:19.901650",
     "exception": false,
     "start_time": "2022-08-27T06:03:19.874925",
     "status": "completed"
    },
    "tags": []
   },
   "outputs": [
    {
     "data": {
      "text/plain": [
       "'Reference panel: GTEX_V8'"
      ]
     },
     "metadata": {},
     "output_type": "display_data"
    }
   ],
   "source": [
    "assert (\n",
    "    REFERENCE_PANEL is not None and len(REFERENCE_PANEL) > 0\n",
    "), \"A reference panel must be given\"\n",
    "\n",
    "display(f\"Reference panel: {REFERENCE_PANEL}\")"
   ]
  },
  {
   "cell_type": "code",
   "execution_count": 7,
   "id": "e024d130-c139-429a-9c6e-ccf149e297b0",
   "metadata": {
    "execution": {
     "iopub.execute_input": "2022-08-27T06:03:19.917638Z",
     "iopub.status.busy": "2022-08-27T06:03:19.917476Z",
     "iopub.status.idle": "2022-08-27T06:03:19.934930Z",
     "shell.execute_reply": "2022-08-27T06:03:19.934551Z"
    },
    "papermill": {
     "duration": 0.026701,
     "end_time": "2022-08-27T06:03:19.936106",
     "exception": false,
     "start_time": "2022-08-27T06:03:19.909405",
     "status": "completed"
    },
    "tags": []
   },
   "outputs": [
    {
     "data": {
      "text/plain": [
       "'eQTL model: MASHR) / mashr_'"
      ]
     },
     "metadata": {},
     "output_type": "display_data"
    }
   ],
   "source": [
    "assert (\n",
    "    EQTL_MODEL is not None and len(EQTL_MODEL) > 0\n",
    "), \"A prediction/eQTL model must be given\"\n",
    "\n",
    "EQTL_MODEL_FILES_PREFIX = conf.PHENOMEXCAN[\"PREDICTION_MODELS\"][f\"{EQTL_MODEL}_PREFIX\"]\n",
    "display(f\"eQTL model: {EQTL_MODEL}) / {EQTL_MODEL_FILES_PREFIX}\")"
   ]
  },
  {
   "cell_type": "code",
   "execution_count": 8,
   "id": "552a7f63-a18c-4d3e-bb6a-94f99b431291",
   "metadata": {
    "execution": {
     "iopub.execute_input": "2022-08-27T06:03:19.952309Z",
     "iopub.status.busy": "2022-08-27T06:03:19.952134Z",
     "iopub.status.idle": "2022-08-27T06:03:19.970444Z",
     "shell.execute_reply": "2022-08-27T06:03:19.970057Z"
    },
    "papermill": {
     "duration": 0.027913,
     "end_time": "2022-08-27T06:03:19.971663",
     "exception": false,
     "start_time": "2022-08-27T06:03:19.943750",
     "status": "completed"
    },
    "tags": []
   },
   "outputs": [
    {
     "data": {
      "text/plain": [
       "'S-MultiXcan condition number: 30'"
      ]
     },
     "metadata": {},
     "output_type": "display_data"
    }
   ],
   "source": [
    "assert (\n",
    "    SMULTIXCAN_CONDITION_NUMBER is not None and SMULTIXCAN_CONDITION_NUMBER > 0\n",
    "), \"The S-MultiXcan condition number (positive integer) must be given\"\n",
    "\n",
    "display(f\"S-MultiXcan condition number: {SMULTIXCAN_CONDITION_NUMBER}\")"
   ]
  },
  {
   "cell_type": "code",
   "execution_count": 9,
   "id": "f34a336f-548e-4afe-8955-90eaea4f42c6",
   "metadata": {
    "execution": {
     "iopub.execute_input": "2022-08-27T06:03:19.988379Z",
     "iopub.status.busy": "2022-08-27T06:03:19.988202Z",
     "iopub.status.idle": "2022-08-27T06:03:20.006390Z",
     "shell.execute_reply": "2022-08-27T06:03:20.006003Z"
    },
    "papermill": {
     "duration": 0.029646,
     "end_time": "2022-08-27T06:03:20.009283",
     "exception": false,
     "start_time": "2022-08-27T06:03:19.979637",
     "status": "completed"
    },
    "tags": []
   },
   "outputs": [
    {
     "data": {
      "text/plain": [
       "'Working on chromosome 22'"
      ]
     },
     "metadata": {},
     "output_type": "display_data"
    }
   ],
   "source": [
    "assert CHROMOSOME is not None and (\n",
    "    1 <= CHROMOSOME <= 22\n",
    "), \"You have to select one chromosome (format: number between 1 and 22)\"\n",
    "\n",
    "# CHROMOSOME = str(CHROMOSOME)\n",
    "display(f\"Working on chromosome {CHROMOSOME}\")"
   ]
  },
  {
   "cell_type": "code",
   "execution_count": 10,
   "id": "ab8e96e8-06b5-4363-9dcd-dc4d78cc27f7",
   "metadata": {
    "execution": {
     "iopub.execute_input": "2022-08-27T06:03:20.027561Z",
     "iopub.status.busy": "2022-08-27T06:03:20.027385Z",
     "iopub.status.idle": "2022-08-27T06:03:20.046072Z",
     "shell.execute_reply": "2022-08-27T06:03:20.045688Z"
    },
    "papermill": {
     "duration": 0.028962,
     "end_time": "2022-08-27T06:03:20.047373",
     "exception": false,
     "start_time": "2022-08-27T06:03:20.018411",
     "status": "completed"
    },
    "tags": []
   },
   "outputs": [
    {
     "data": {
      "text/plain": [
       "'Compute correlation within distance False'"
      ]
     },
     "metadata": {},
     "output_type": "display_data"
    }
   ],
   "source": [
    "display(f\"Compute correlation within distance {COMPUTE_CORRELATIONS_WITHIN_DISTANCE}\")"
   ]
  },
  {
   "cell_type": "code",
   "execution_count": 11,
   "id": "396392dc-0340-4540-9b02-e182b833f909",
   "metadata": {
    "execution": {
     "iopub.execute_input": "2022-08-27T06:03:20.073728Z",
     "iopub.status.busy": "2022-08-27T06:03:20.073553Z",
     "iopub.status.idle": "2022-08-27T06:03:20.094162Z",
     "shell.execute_reply": "2022-08-27T06:03:20.093778Z"
    },
    "papermill": {
     "duration": 0.031253,
     "end_time": "2022-08-27T06:03:20.095416",
     "exception": false,
     "start_time": "2022-08-27T06:03:20.064163",
     "status": "completed"
    },
    "tags": []
   },
   "outputs": [
    {
     "data": {
      "text/plain": [
       "'Using output dir base: /project/ritchie20/projects/phenoplier/base/results/gls/gene_corrs/cohorts/phenomexcan_other/gtex_v8/mashr'"
      ]
     },
     "metadata": {},
     "output_type": "display_data"
    }
   ],
   "source": [
    "OUTPUT_DIR_BASE = (\n",
    "    conf.RESULTS[\"GLS\"]\n",
    "    / \"gene_corrs\"\n",
    "    / \"cohorts\"\n",
    "    / COHORT_NAME\n",
    "    / REFERENCE_PANEL.lower()\n",
    "    / EQTL_MODEL.lower()\n",
    ")\n",
    "OUTPUT_DIR_BASE.mkdir(parents=True, exist_ok=True)\n",
    "\n",
    "display(f\"Using output dir base: {OUTPUT_DIR_BASE}\")"
   ]
  },
  {
   "cell_type": "markdown",
   "id": "d2ba085e",
   "metadata": {
    "papermill": {
     "duration": 0.007999,
     "end_time": "2022-08-27T06:03:20.112048",
     "exception": false,
     "start_time": "2022-08-27T06:03:20.104049",
     "status": "completed"
    },
    "tags": []
   },
   "source": [
    "# Load data"
   ]
  },
  {
   "cell_type": "markdown",
   "id": "7dcb8db7",
   "metadata": {
    "papermill": {
     "duration": 0.008949,
     "end_time": "2022-08-27T06:03:20.129659",
     "exception": false,
     "start_time": "2022-08-27T06:03:20.120710",
     "status": "completed"
    },
    "tags": []
   },
   "source": [
    "## GWAS variants"
   ]
  },
  {
   "cell_type": "code",
   "execution_count": 12,
   "id": "29434c4e-8cd3-4b9b-82e4-b5a251d9dd19",
   "metadata": {
    "execution": {
     "iopub.execute_input": "2022-08-27T06:03:20.153296Z",
     "iopub.status.busy": "2022-08-27T06:03:20.153105Z",
     "iopub.status.idle": "2022-08-27T06:03:23.198122Z",
     "shell.execute_reply": "2022-08-27T06:03:23.197375Z"
    },
    "papermill": {
     "duration": 3.057314,
     "end_time": "2022-08-27T06:03:23.200051",
     "exception": false,
     "start_time": "2022-08-27T06:03:20.142737",
     "status": "completed"
    },
    "tags": []
   },
   "outputs": [],
   "source": [
    "with open(OUTPUT_DIR_BASE / \"gwas_variant_ids.pkl\", \"rb\") as handle:\n",
    "    gwas_variants_ids_set = pickle.load(handle)"
   ]
  },
  {
   "cell_type": "code",
   "execution_count": 13,
   "id": "b9d9dec2-4a76-4bf9-bde2-e24c95acb8a0",
   "metadata": {
    "execution": {
     "iopub.execute_input": "2022-08-27T06:03:23.227436Z",
     "iopub.status.busy": "2022-08-27T06:03:23.227216Z",
     "iopub.status.idle": "2022-08-27T06:03:23.249994Z",
     "shell.execute_reply": "2022-08-27T06:03:23.249589Z"
    },
    "papermill": {
     "duration": 0.036551,
     "end_time": "2022-08-27T06:03:23.251258",
     "exception": false,
     "start_time": "2022-08-27T06:03:23.214707",
     "status": "completed"
    },
    "tags": []
   },
   "outputs": [
    {
     "data": {
      "text/plain": [
       "8865800"
      ]
     },
     "execution_count": 13,
     "metadata": {},
     "output_type": "execute_result"
    }
   ],
   "source": [
    "len(gwas_variants_ids_set)"
   ]
  },
  {
   "cell_type": "code",
   "execution_count": 14,
   "id": "4235b06a-6034-4ee4-a0a3-2ae35d122418",
   "metadata": {
    "execution": {
     "iopub.execute_input": "2022-08-27T06:03:23.271714Z",
     "iopub.status.busy": "2022-08-27T06:03:23.271534Z",
     "iopub.status.idle": "2022-08-27T06:03:23.792881Z",
     "shell.execute_reply": "2022-08-27T06:03:23.792444Z"
    },
    "papermill": {
     "duration": 0.532343,
     "end_time": "2022-08-27T06:03:23.794273",
     "exception": false,
     "start_time": "2022-08-27T06:03:23.261930",
     "status": "completed"
    },
    "tags": []
   },
   "outputs": [
    {
     "data": {
      "text/plain": [
       "['chr20_35057470_G_A_b38',\n",
       " 'chr17_34658463_T_C_b38',\n",
       " 'chr7_93499105_A_C_b38',\n",
       " 'chr21_16832141_C_A_b38',\n",
       " 'chr6_68245802_A_T_b38']"
      ]
     },
     "execution_count": 14,
     "metadata": {},
     "output_type": "execute_result"
    }
   ],
   "source": [
    "list(gwas_variants_ids_set)[:5]"
   ]
  },
  {
   "cell_type": "markdown",
   "id": "07866999-2305-41f9-a144-e69c9122c212",
   "metadata": {
    "papermill": {
     "duration": 0.0114,
     "end_time": "2022-08-27T06:03:23.815294",
     "exception": false,
     "start_time": "2022-08-27T06:03:23.803894",
     "status": "completed"
    },
    "tags": []
   },
   "source": [
    "## S-PrediXcan tissue models"
   ]
  },
  {
   "cell_type": "code",
   "execution_count": 15,
   "id": "780611d9-77c8-405f-90a4-f271f7b09397",
   "metadata": {
    "execution": {
     "iopub.execute_input": "2022-08-27T06:03:23.841611Z",
     "iopub.status.busy": "2022-08-27T06:03:23.841395Z",
     "iopub.status.idle": "2022-08-27T06:03:24.760671Z",
     "shell.execute_reply": "2022-08-27T06:03:24.760169Z"
    },
    "papermill": {
     "duration": 0.935615,
     "end_time": "2022-08-27T06:03:24.762440",
     "exception": false,
     "start_time": "2022-08-27T06:03:23.826825",
     "status": "completed"
    },
    "tags": []
   },
   "outputs": [],
   "source": [
    "spredixcan_genes_models = pd.read_pickle(OUTPUT_DIR_BASE / \"gene_tissues.pkl\")"
   ]
  },
  {
   "cell_type": "code",
   "execution_count": 16,
   "id": "726dd1f6-9557-4225-91fa-b3b879ea96e1",
   "metadata": {
    "execution": {
     "iopub.execute_input": "2022-08-27T06:03:24.782674Z",
     "iopub.status.busy": "2022-08-27T06:03:24.782457Z",
     "iopub.status.idle": "2022-08-27T06:03:24.802200Z",
     "shell.execute_reply": "2022-08-27T06:03:24.801800Z"
    },
    "papermill": {
     "duration": 0.030997,
     "end_time": "2022-08-27T06:03:24.803439",
     "exception": false,
     "start_time": "2022-08-27T06:03:24.772442",
     "status": "completed"
    },
    "tags": []
   },
   "outputs": [
    {
     "data": {
      "text/plain": [
       "(6450, 3)"
      ]
     },
     "execution_count": 16,
     "metadata": {},
     "output_type": "execute_result"
    }
   ],
   "source": [
    "spredixcan_genes_models.shape"
   ]
  },
  {
   "cell_type": "code",
   "execution_count": 17,
   "id": "944a1b48-222c-4eb0-b252-b9de2cbca215",
   "metadata": {
    "execution": {
     "iopub.execute_input": "2022-08-27T06:03:24.824497Z",
     "iopub.status.busy": "2022-08-27T06:03:24.824312Z",
     "iopub.status.idle": "2022-08-27T06:03:24.850758Z",
     "shell.execute_reply": "2022-08-27T06:03:24.850372Z"
    },
    "papermill": {
     "duration": 0.037016,
     "end_time": "2022-08-27T06:03:24.851956",
     "exception": false,
     "start_time": "2022-08-27T06:03:24.814940",
     "status": "completed"
    },
    "tags": []
   },
   "outputs": [
    {
     "data": {
      "text/html": [
       "<div>\n",
       "<style scoped>\n",
       "    .dataframe tbody tr th:only-of-type {\n",
       "        vertical-align: middle;\n",
       "    }\n",
       "\n",
       "    .dataframe tbody tr th {\n",
       "        vertical-align: top;\n",
       "    }\n",
       "\n",
       "    .dataframe thead th {\n",
       "        text-align: right;\n",
       "    }\n",
       "</style>\n",
       "<table border=\"1\" class=\"dataframe\">\n",
       "  <thead>\n",
       "    <tr style=\"text-align: right;\">\n",
       "      <th></th>\n",
       "      <th>gene_name</th>\n",
       "      <th>tissue</th>\n",
       "      <th>n_tissues</th>\n",
       "    </tr>\n",
       "    <tr>\n",
       "      <th>gene_id</th>\n",
       "      <th></th>\n",
       "      <th></th>\n",
       "      <th></th>\n",
       "    </tr>\n",
       "  </thead>\n",
       "  <tbody>\n",
       "    <tr>\n",
       "      <th>ENSG00000000419</th>\n",
       "      <td>DPM1</td>\n",
       "      <td>(Brain_Substantia_nigra, Cells_Cultured_fibrob...</td>\n",
       "      <td>3</td>\n",
       "    </tr>\n",
       "    <tr>\n",
       "      <th>ENSG00000000938</th>\n",
       "      <td>FGR</td>\n",
       "      <td>(Artery_Tibial, Brain_Frontal_Cortex_BA9, Brai...</td>\n",
       "      <td>36</td>\n",
       "    </tr>\n",
       "    <tr>\n",
       "      <th>ENSG00000000971</th>\n",
       "      <td>CFH</td>\n",
       "      <td>(Artery_Tibial, Brain_Frontal_Cortex_BA9, Brai...</td>\n",
       "      <td>34</td>\n",
       "    </tr>\n",
       "    <tr>\n",
       "      <th>ENSG00000001084</th>\n",
       "      <td>GCLC</td>\n",
       "      <td>(Artery_Tibial, Brain_Frontal_Cortex_BA9, Brai...</td>\n",
       "      <td>33</td>\n",
       "    </tr>\n",
       "    <tr>\n",
       "      <th>ENSG00000001167</th>\n",
       "      <td>NFYA</td>\n",
       "      <td>(Artery_Tibial, Brain_Cerebellum, Colon_Transv...</td>\n",
       "      <td>40</td>\n",
       "    </tr>\n",
       "  </tbody>\n",
       "</table>\n",
       "</div>"
      ],
      "text/plain": [
       "                gene_name                                             tissue  \\\n",
       "gene_id                                                                        \n",
       "ENSG00000000419      DPM1  (Brain_Substantia_nigra, Cells_Cultured_fibrob...   \n",
       "ENSG00000000938       FGR  (Artery_Tibial, Brain_Frontal_Cortex_BA9, Brai...   \n",
       "ENSG00000000971       CFH  (Artery_Tibial, Brain_Frontal_Cortex_BA9, Brai...   \n",
       "ENSG00000001084      GCLC  (Artery_Tibial, Brain_Frontal_Cortex_BA9, Brai...   \n",
       "ENSG00000001167      NFYA  (Artery_Tibial, Brain_Cerebellum, Colon_Transv...   \n",
       "\n",
       "                 n_tissues  \n",
       "gene_id                     \n",
       "ENSG00000000419          3  \n",
       "ENSG00000000938         36  \n",
       "ENSG00000000971         34  \n",
       "ENSG00000001084         33  \n",
       "ENSG00000001167         40  "
      ]
     },
     "execution_count": 17,
     "metadata": {},
     "output_type": "execute_result"
    }
   ],
   "source": [
    "spredixcan_genes_models.head()"
   ]
  },
  {
   "cell_type": "code",
   "execution_count": 18,
   "id": "d1c11bb1-be0b-4f40-b360-633d6827109f",
   "metadata": {
    "execution": {
     "iopub.execute_input": "2022-08-27T06:03:24.873714Z",
     "iopub.status.busy": "2022-08-27T06:03:24.873545Z",
     "iopub.status.idle": "2022-08-27T06:03:24.890632Z",
     "shell.execute_reply": "2022-08-27T06:03:24.890257Z"
    },
    "papermill": {
     "duration": 0.030007,
     "end_time": "2022-08-27T06:03:24.891938",
     "exception": false,
     "start_time": "2022-08-27T06:03:24.861931",
     "status": "completed"
    },
    "tags": []
   },
   "outputs": [],
   "source": [
    "assert spredixcan_genes_models.index.is_unique"
   ]
  },
  {
   "cell_type": "markdown",
   "id": "a5b5092c-a13e-47c4-a92a-480fcc08f3ae",
   "metadata": {
    "papermill": {
     "duration": 0.010086,
     "end_time": "2022-08-27T06:03:24.910540",
     "exception": false,
     "start_time": "2022-08-27T06:03:24.900454",
     "status": "completed"
    },
    "tags": []
   },
   "source": [
    "## Gene info"
   ]
  },
  {
   "cell_type": "code",
   "execution_count": 19,
   "id": "7d6bb224-88e9-4358-ac10-43a41d92cdad",
   "metadata": {
    "execution": {
     "iopub.execute_input": "2022-08-27T06:03:24.930930Z",
     "iopub.status.busy": "2022-08-27T06:03:24.930762Z",
     "iopub.status.idle": "2022-08-27T06:03:24.953440Z",
     "shell.execute_reply": "2022-08-27T06:03:24.953043Z"
    },
    "papermill": {
     "duration": 0.035433,
     "end_time": "2022-08-27T06:03:24.954786",
     "exception": false,
     "start_time": "2022-08-27T06:03:24.919353",
     "status": "completed"
    },
    "tags": []
   },
   "outputs": [],
   "source": [
    "genes_info = pd.read_pickle(OUTPUT_DIR_BASE / \"genes_info.pkl\")"
   ]
  },
  {
   "cell_type": "code",
   "execution_count": 20,
   "id": "9e32abfa-546d-483e-8c18-d526e9e05903",
   "metadata": {
    "execution": {
     "iopub.execute_input": "2022-08-27T06:03:24.973984Z",
     "iopub.status.busy": "2022-08-27T06:03:24.973813Z",
     "iopub.status.idle": "2022-08-27T06:03:24.991759Z",
     "shell.execute_reply": "2022-08-27T06:03:24.991377Z"
    },
    "papermill": {
     "duration": 0.029301,
     "end_time": "2022-08-27T06:03:24.992994",
     "exception": false,
     "start_time": "2022-08-27T06:03:24.963693",
     "status": "completed"
    },
    "tags": []
   },
   "outputs": [
    {
     "data": {
      "text/plain": [
       "(6450, 7)"
      ]
     },
     "execution_count": 20,
     "metadata": {},
     "output_type": "execute_result"
    }
   ],
   "source": [
    "genes_info.shape"
   ]
  },
  {
   "cell_type": "code",
   "execution_count": 21,
   "id": "d16c3e92-85ec-468a-9a56-e25a9774a1cb",
   "metadata": {
    "execution": {
     "iopub.execute_input": "2022-08-27T06:03:25.015174Z",
     "iopub.status.busy": "2022-08-27T06:03:25.014996Z",
     "iopub.status.idle": "2022-08-27T06:03:25.037243Z",
     "shell.execute_reply": "2022-08-27T06:03:25.036853Z"
    },
    "papermill": {
     "duration": 0.035957,
     "end_time": "2022-08-27T06:03:25.038463",
     "exception": false,
     "start_time": "2022-08-27T06:03:25.002506",
     "status": "completed"
    },
    "tags": []
   },
   "outputs": [
    {
     "data": {
      "text/html": [
       "<div>\n",
       "<style scoped>\n",
       "    .dataframe tbody tr th:only-of-type {\n",
       "        vertical-align: middle;\n",
       "    }\n",
       "\n",
       "    .dataframe tbody tr th {\n",
       "        vertical-align: top;\n",
       "    }\n",
       "\n",
       "    .dataframe thead th {\n",
       "        text-align: right;\n",
       "    }\n",
       "</style>\n",
       "<table border=\"1\" class=\"dataframe\">\n",
       "  <thead>\n",
       "    <tr style=\"text-align: right;\">\n",
       "      <th></th>\n",
       "      <th>name</th>\n",
       "      <th>id</th>\n",
       "      <th>chr</th>\n",
       "      <th>band</th>\n",
       "      <th>start_position</th>\n",
       "      <th>end_position</th>\n",
       "      <th>gene_length</th>\n",
       "    </tr>\n",
       "  </thead>\n",
       "  <tbody>\n",
       "    <tr>\n",
       "      <th>0</th>\n",
       "      <td>FUS</td>\n",
       "      <td>ENSG00000089280</td>\n",
       "      <td>16</td>\n",
       "      <td>16p11.2</td>\n",
       "      <td>31180110</td>\n",
       "      <td>31194871</td>\n",
       "      <td>14761</td>\n",
       "    </tr>\n",
       "    <tr>\n",
       "      <th>1</th>\n",
       "      <td>PI4K2A</td>\n",
       "      <td>ENSG00000155252</td>\n",
       "      <td>10</td>\n",
       "      <td>10q24.2</td>\n",
       "      <td>97640686</td>\n",
       "      <td>97676434</td>\n",
       "      <td>35748</td>\n",
       "    </tr>\n",
       "    <tr>\n",
       "      <th>2</th>\n",
       "      <td>PER1</td>\n",
       "      <td>ENSG00000179094</td>\n",
       "      <td>17</td>\n",
       "      <td>17p13.1</td>\n",
       "      <td>8140472</td>\n",
       "      <td>8156506</td>\n",
       "      <td>16034</td>\n",
       "    </tr>\n",
       "    <tr>\n",
       "      <th>3</th>\n",
       "      <td>GBP6</td>\n",
       "      <td>ENSG00000183347</td>\n",
       "      <td>1</td>\n",
       "      <td>1p22.2</td>\n",
       "      <td>89364058</td>\n",
       "      <td>89386461</td>\n",
       "      <td>22403</td>\n",
       "    </tr>\n",
       "    <tr>\n",
       "      <th>4</th>\n",
       "      <td>GPAA1</td>\n",
       "      <td>ENSG00000197858</td>\n",
       "      <td>8</td>\n",
       "      <td>8q24.3</td>\n",
       "      <td>144082590</td>\n",
       "      <td>144086216</td>\n",
       "      <td>3626</td>\n",
       "    </tr>\n",
       "  </tbody>\n",
       "</table>\n",
       "</div>"
      ],
      "text/plain": [
       "     name               id  chr     band  start_position  end_position  \\\n",
       "0     FUS  ENSG00000089280   16  16p11.2        31180110      31194871   \n",
       "1  PI4K2A  ENSG00000155252   10  10q24.2        97640686      97676434   \n",
       "2    PER1  ENSG00000179094   17  17p13.1         8140472       8156506   \n",
       "3    GBP6  ENSG00000183347    1   1p22.2        89364058      89386461   \n",
       "4   GPAA1  ENSG00000197858    8   8q24.3       144082590     144086216   \n",
       "\n",
       "   gene_length  \n",
       "0        14761  \n",
       "1        35748  \n",
       "2        16034  \n",
       "3        22403  \n",
       "4         3626  "
      ]
     },
     "execution_count": 21,
     "metadata": {},
     "output_type": "execute_result"
    }
   ],
   "source": [
    "genes_info.head()"
   ]
  },
  {
   "cell_type": "markdown",
   "id": "d3843e06",
   "metadata": {
    "papermill": {
     "duration": 0.012046,
     "end_time": "2022-08-27T06:03:25.059813",
     "exception": false,
     "start_time": "2022-08-27T06:03:25.047767",
     "status": "completed"
    },
    "tags": []
   },
   "source": [
    "# Compute correlations"
   ]
  },
  {
   "cell_type": "code",
   "execution_count": 22,
   "id": "cb859c15-d1f3-4006-a74c-2b83c0db9611",
   "metadata": {
    "execution": {
     "iopub.execute_input": "2022-08-27T06:03:25.096757Z",
     "iopub.status.busy": "2022-08-27T06:03:25.096561Z",
     "iopub.status.idle": "2022-08-27T06:03:25.116580Z",
     "shell.execute_reply": "2022-08-27T06:03:25.116180Z"
    },
    "papermill": {
     "duration": 0.034359,
     "end_time": "2022-08-27T06:03:25.117800",
     "exception": false,
     "start_time": "2022-08-27T06:03:25.083441",
     "status": "completed"
    },
    "tags": []
   },
   "outputs": [
    {
     "data": {
      "text/plain": [
       "PosixPath('/project/ritchie20/projects/phenoplier/base/results/gls/gene_corrs/cohorts/phenomexcan_other/gtex_v8/mashr/by_chr/gene_corrs-chr22.pkl')"
      ]
     },
     "metadata": {},
     "output_type": "display_data"
    }
   ],
   "source": [
    "output_dir = OUTPUT_DIR_BASE / \"by_chr\"\n",
    "output_dir.mkdir(exist_ok=True, parents=True)\n",
    "output_file = output_dir / f\"gene_corrs-chr{CHROMOSOME}.pkl\"\n",
    "display(output_file)"
   ]
  },
  {
   "cell_type": "code",
   "execution_count": 23,
   "id": "aa674fe4-6794-4eed-98fa-32b39d1d4ace",
   "metadata": {
    "execution": {
     "iopub.execute_input": "2022-08-27T06:03:25.138952Z",
     "iopub.status.busy": "2022-08-27T06:03:25.138773Z",
     "iopub.status.idle": "2022-08-27T06:03:25.156171Z",
     "shell.execute_reply": "2022-08-27T06:03:25.155746Z"
    },
    "papermill": {
     "duration": 0.0287,
     "end_time": "2022-08-27T06:03:25.157528",
     "exception": false,
     "start_time": "2022-08-27T06:03:25.128828",
     "status": "completed"
    },
    "tags": []
   },
   "outputs": [],
   "source": [
    "warnings.filterwarnings(\"error\")"
   ]
  },
  {
   "cell_type": "code",
   "execution_count": 24,
   "id": "44d5450b-3baf-43f1-9e2e-4b06f1a785f8",
   "metadata": {
    "execution": {
     "iopub.execute_input": "2022-08-27T06:03:25.179688Z",
     "iopub.status.busy": "2022-08-27T06:03:25.179511Z",
     "iopub.status.idle": "2022-08-27T06:03:25.197317Z",
     "shell.execute_reply": "2022-08-27T06:03:25.196928Z"
    },
    "papermill": {
     "duration": 0.029794,
     "end_time": "2022-08-27T06:03:25.198652",
     "exception": false,
     "start_time": "2022-08-27T06:03:25.168858",
     "status": "completed"
    },
    "tags": []
   },
   "outputs": [],
   "source": [
    "# standard checks\n",
    "all_chrs = genes_info[\"chr\"].dropna().unique()\n",
    "assert all_chrs.shape[0] == 22\n",
    "\n",
    "# select chromosome given by the user\n",
    "assert CHROMOSOME in all_chrs"
   ]
  },
  {
   "cell_type": "code",
   "execution_count": 25,
   "id": "2d7c043c-92a7-4d35-991b-fa69ac1e0268",
   "metadata": {
    "execution": {
     "iopub.execute_input": "2022-08-27T06:03:25.217432Z",
     "iopub.status.busy": "2022-08-27T06:03:25.217256Z",
     "iopub.status.idle": "2022-08-27T06:03:25.244841Z",
     "shell.execute_reply": "2022-08-27T06:03:25.244459Z"
    },
    "papermill": {
     "duration": 0.03849,
     "end_time": "2022-08-27T06:03:25.246050",
     "exception": false,
     "start_time": "2022-08-27T06:03:25.207560",
     "status": "completed"
    },
    "tags": []
   },
   "outputs": [
    {
     "name": "stdout",
     "output_type": "stream",
     "text": [
      "Number of genes in chromosome: 170\n"
     ]
    }
   ],
   "source": [
    "# run only on the chromosome specified\n",
    "all_chrs = [CHROMOSOME]\n",
    "genes_chr = genes_info[genes_info[\"chr\"] == CHROMOSOME]\n",
    "\n",
    "# For testing purposes\n",
    "# genes_chr = genes_chr.sample(n=20)\n",
    "\n",
    "print(f\"Number of genes in chromosome: {genes_chr.shape[0]}\", flush=True)"
   ]
  },
  {
   "cell_type": "code",
   "execution_count": 26,
   "id": "916015d8-2979-46d3-a9b9-1cf5a0932c6a",
   "metadata": {
    "execution": {
     "iopub.execute_input": "2022-08-27T06:03:25.266850Z",
     "iopub.status.busy": "2022-08-27T06:03:25.266671Z",
     "iopub.status.idle": "2022-08-27T06:03:25.283325Z",
     "shell.execute_reply": "2022-08-27T06:03:25.282940Z"
    },
    "papermill": {
     "duration": 0.027882,
     "end_time": "2022-08-27T06:03:25.284645",
     "exception": false,
     "start_time": "2022-08-27T06:03:25.256763",
     "status": "completed"
    },
    "tags": []
   },
   "outputs": [],
   "source": [
    "# sort genes by starting position to make visualizations better later\n",
    "genes_chr = genes_chr.sort_values(\"start_position\")"
   ]
  },
  {
   "cell_type": "code",
   "execution_count": 27,
   "id": "a38aa74a-8ad3-47f6-8ef9-56be0e011774",
   "metadata": {
    "execution": {
     "iopub.execute_input": "2022-08-27T06:03:25.304549Z",
     "iopub.status.busy": "2022-08-27T06:03:25.304378Z",
     "iopub.status.idle": "2022-08-27T06:03:25.321451Z",
     "shell.execute_reply": "2022-08-27T06:03:25.321043Z"
    },
    "papermill": {
     "duration": 0.028493,
     "end_time": "2022-08-27T06:03:25.322803",
     "exception": false,
     "start_time": "2022-08-27T06:03:25.294310",
     "status": "completed"
    },
    "tags": []
   },
   "outputs": [],
   "source": [
    "gene_chr_objs = [Gene(ensembl_id=gene_id) for gene_id in genes_chr[\"id\"]]"
   ]
  },
  {
   "cell_type": "code",
   "execution_count": 28,
   "id": "570f974f-13c3-42b6-ad3a-ce99ca885c1a",
   "metadata": {
    "execution": {
     "iopub.execute_input": "2022-08-27T06:03:25.341366Z",
     "iopub.status.busy": "2022-08-27T06:03:25.341194Z",
     "iopub.status.idle": "2022-08-27T06:03:25.358534Z",
     "shell.execute_reply": "2022-08-27T06:03:25.358150Z"
    },
    "papermill": {
     "duration": 0.028181,
     "end_time": "2022-08-27T06:03:25.359840",
     "exception": false,
     "start_time": "2022-08-27T06:03:25.331659",
     "status": "completed"
    },
    "tags": []
   },
   "outputs": [
    {
     "name": "stdout",
     "output_type": "stream",
     "text": [
      "Number of gene combinations: 14365\n"
     ]
    }
   ],
   "source": [
    "n = len(gene_chr_objs)\n",
    "n_comb = int(n * (n - 1) / 2.0)\n",
    "print(f\"Number of gene combinations: {n_comb}\", flush=True)"
   ]
  },
  {
   "cell_type": "code",
   "execution_count": 29,
   "id": "cdbb90a1",
   "metadata": {
    "execution": {
     "iopub.execute_input": "2022-08-27T06:03:25.381235Z",
     "iopub.status.busy": "2022-08-27T06:03:25.381064Z",
     "iopub.status.idle": "2022-08-27T06:20:25.364175Z",
     "shell.execute_reply": "2022-08-27T06:20:25.362619Z"
    },
    "papermill": {
     "duration": 1019.998617,
     "end_time": "2022-08-27T06:20:25.367847",
     "exception": false,
     "start_time": "2022-08-27T06:03:25.369230",
     "status": "completed"
    },
    "tags": []
   },
   "outputs": [
    {
     "name": "stderr",
     "output_type": "stream",
     "text": [
      "ENSG00000251322 / ENSG00000251322: : 14535it [16:59, 14.25it/s]\n"
     ]
    },
    {
     "data": {
      "text/plain": [
       "PosixPath('/project/ritchie20/projects/phenoplier/base/results/gls/gene_corrs/cohorts/phenomexcan_other/gtex_v8/mashr/by_chr/gene_corrs-chr22.pkl')"
      ]
     },
     "metadata": {},
     "output_type": "display_data"
    }
   ],
   "source": [
    "gene_corrs = []\n",
    "gene_corrs_data = np.full(\n",
    "    (n, n),\n",
    "    np.nan,\n",
    "    dtype=np.float64,\n",
    ")\n",
    "\n",
    "i = 0\n",
    "with tqdm(ncols=100, total=n_comb) as pbar:\n",
    "    for gene1_idx in range(0, len(gene_chr_objs)):\n",
    "        gene1_obj = gene_chr_objs[gene1_idx]\n",
    "        gene1_tissues = spredixcan_genes_models.loc[gene1_obj.ensembl_id, \"tissue\"]\n",
    "\n",
    "        for gene2_idx in range(gene1_idx, len(gene_chr_objs)):\n",
    "            gene2_obj = gene_chr_objs[gene2_idx]\n",
    "            gene2_tissues = spredixcan_genes_models.loc[gene2_obj.ensembl_id, \"tissue\"]\n",
    "\n",
    "            pbar.set_description(f\"{gene1_obj.ensembl_id} / {gene2_obj.ensembl_id}\")\n",
    "\n",
    "            try:\n",
    "                r = gene1_obj.get_ssm_correlation(\n",
    "                    other_gene=gene2_obj,\n",
    "                    tissues=gene1_tissues,\n",
    "                    other_tissues=gene2_tissues,\n",
    "                    snps_subset=gwas_variants_ids_set,\n",
    "                    condition_number=SMULTIXCAN_CONDITION_NUMBER,\n",
    "                    reference_panel=REFERENCE_PANEL,\n",
    "                    model_type=EQTL_MODEL,\n",
    "                    use_within_distance=COMPUTE_CORRELATIONS_WITHIN_DISTANCE,\n",
    "                )\n",
    "\n",
    "                if r is None:\n",
    "                    # if r is None, it's very likely because:\n",
    "                    #  * one of the genes has no prediction models\n",
    "                    #  * all the SNPs predictors for the gene are not present in the reference\n",
    "                    #    panel\n",
    "\n",
    "                    r = 0.0\n",
    "\n",
    "                gene_corrs.append(r)\n",
    "\n",
    "                gene_corrs_data[gene1_idx, gene2_idx] = r\n",
    "                gene_corrs_data[gene2_idx, gene1_idx] = r\n",
    "            except Warning as e:\n",
    "                if not DEBUG_MODE:\n",
    "                    raise e\n",
    "\n",
    "                print(\n",
    "                    f\"RuntimeWarning for genes {gene1_obj.ensembl_id} and {gene2_obj.ensembl_id}\",\n",
    "                    flush=True,\n",
    "                )\n",
    "                print(traceback.format_exc(), flush=True)\n",
    "\n",
    "                gene_corrs.append(np.nan)\n",
    "            except Exception as e:\n",
    "                if not DEBUG_MODE:\n",
    "                    raise e\n",
    "\n",
    "                print(\n",
    "                    f\"Exception for genes {gene1_obj.ensembl_id} and {gene2_obj.ensembl_id}\",\n",
    "                    flush=True,\n",
    "                )\n",
    "                print(traceback.format_exc(), flush=True)\n",
    "\n",
    "                gene_corrs.append(np.nan)\n",
    "\n",
    "            pbar.update(1)\n",
    "\n",
    "# create a pandas series\n",
    "gene_corrs_flat = pd.Series(gene_corrs)\n",
    "\n",
    "# save\n",
    "# FIXME: consider saving only the condenced matrix here. See here for\n",
    "# more details: https://github.com/greenelab/phenoplier/pull/38#discussion_r634600813\n",
    "# gene_corrs_data = squareform(np.array(gene_corrs, dtype=np.float64))\n",
    "# np.fill_diagonal(gene_corrs_data, 1.0)\n",
    "\n",
    "gene_chr_ids = [g.ensembl_id for g in gene_chr_objs]\n",
    "gene_corrs_df = pd.DataFrame(\n",
    "    data=gene_corrs_data,\n",
    "    index=gene_chr_ids,\n",
    "    columns=gene_chr_ids,\n",
    ")\n",
    "\n",
    "output_dir.mkdir(exist_ok=True, parents=True)\n",
    "display(output_file)\n",
    "\n",
    "gene_corrs_df.to_pickle(output_file)"
   ]
  },
  {
   "cell_type": "markdown",
   "id": "faa67b51-5373-470f-aa72-2ded53fa6dfe",
   "metadata": {
    "papermill": {
     "duration": 0.752621,
     "end_time": "2022-08-27T06:20:26.943624",
     "exception": false,
     "start_time": "2022-08-27T06:20:26.191003",
     "status": "completed"
    },
    "tags": []
   },
   "source": [
    "# Testing"
   ]
  },
  {
   "cell_type": "code",
   "execution_count": 30,
   "id": "14f7d046-4b55-4896-a56b-990127bcc388",
   "metadata": {
    "execution": {
     "iopub.execute_input": "2022-08-27T06:20:28.433853Z",
     "iopub.status.busy": "2022-08-27T06:20:28.433599Z",
     "iopub.status.idle": "2022-08-27T06:20:28.709135Z",
     "shell.execute_reply": "2022-08-27T06:20:28.708724Z"
    },
    "papermill": {
     "duration": 1.024628,
     "end_time": "2022-08-27T06:20:28.710426",
     "exception": false,
     "start_time": "2022-08-27T06:20:27.685798",
     "status": "completed"
    },
    "tags": []
   },
   "outputs": [
    {
     "data": {
      "text/plain": [
       "(170, 170)"
      ]
     },
     "execution_count": 30,
     "metadata": {},
     "output_type": "execute_result"
    }
   ],
   "source": [
    "gene_corrs_df.shape"
   ]
  },
  {
   "cell_type": "code",
   "execution_count": 31,
   "id": "c7d15414-3297-4537-a7c6-7588c0baeb75",
   "metadata": {
    "execution": {
     "iopub.execute_input": "2022-08-27T06:20:30.205285Z",
     "iopub.status.busy": "2022-08-27T06:20:30.205044Z",
     "iopub.status.idle": "2022-08-27T06:20:30.237220Z",
     "shell.execute_reply": "2022-08-27T06:20:30.236807Z"
    },
    "papermill": {
     "duration": 0.784736,
     "end_time": "2022-08-27T06:20:30.238509",
     "exception": false,
     "start_time": "2022-08-27T06:20:29.453773",
     "status": "completed"
    },
    "tags": []
   },
   "outputs": [
    {
     "data": {
      "text/html": [
       "<div>\n",
       "<style scoped>\n",
       "    .dataframe tbody tr th:only-of-type {\n",
       "        vertical-align: middle;\n",
       "    }\n",
       "\n",
       "    .dataframe tbody tr th {\n",
       "        vertical-align: top;\n",
       "    }\n",
       "\n",
       "    .dataframe thead th {\n",
       "        text-align: right;\n",
       "    }\n",
       "</style>\n",
       "<table border=\"1\" class=\"dataframe\">\n",
       "  <thead>\n",
       "    <tr style=\"text-align: right;\">\n",
       "      <th></th>\n",
       "      <th>ENSG00000177663</th>\n",
       "      <th>ENSG00000131100</th>\n",
       "      <th>ENSG00000099968</th>\n",
       "      <th>ENSG00000015475</th>\n",
       "      <th>ENSG00000243156</th>\n",
       "      <th>ENSG00000215193</th>\n",
       "      <th>ENSG00000183785</th>\n",
       "      <th>ENSG00000184979</th>\n",
       "      <th>ENSG00000100033</th>\n",
       "      <th>ENSG00000100075</th>\n",
       "      <th>...</th>\n",
       "      <th>ENSG00000196576</th>\n",
       "      <th>ENSG00000128165</th>\n",
       "      <th>ENSG00000100253</th>\n",
       "      <th>ENSG00000130489</th>\n",
       "      <th>ENSG00000025708</th>\n",
       "      <th>ENSG00000205560</th>\n",
       "      <th>ENSG00000100288</th>\n",
       "      <th>ENSG00000008735</th>\n",
       "      <th>ENSG00000100299</th>\n",
       "      <th>ENSG00000251322</th>\n",
       "    </tr>\n",
       "  </thead>\n",
       "  <tbody>\n",
       "    <tr>\n",
       "      <th>ENSG00000177663</th>\n",
       "      <td>1.000000</td>\n",
       "      <td>0.002467</td>\n",
       "      <td>0.005414</td>\n",
       "      <td>0.007105</td>\n",
       "      <td>0.006540</td>\n",
       "      <td>0.009564</td>\n",
       "      <td>0.010262</td>\n",
       "      <td>0.010411</td>\n",
       "      <td>0.007188</td>\n",
       "      <td>0.002409</td>\n",
       "      <td>...</td>\n",
       "      <td>0.007739</td>\n",
       "      <td>0.008804</td>\n",
       "      <td>0.004350</td>\n",
       "      <td>0.006371</td>\n",
       "      <td>0.005791</td>\n",
       "      <td>0.006881</td>\n",
       "      <td>0.005391</td>\n",
       "      <td>0.008730</td>\n",
       "      <td>0.003802</td>\n",
       "      <td>0.002217</td>\n",
       "    </tr>\n",
       "    <tr>\n",
       "      <th>ENSG00000131100</th>\n",
       "      <td>0.002467</td>\n",
       "      <td>1.000000</td>\n",
       "      <td>0.542060</td>\n",
       "      <td>0.281444</td>\n",
       "      <td>0.008466</td>\n",
       "      <td>0.003632</td>\n",
       "      <td>0.003618</td>\n",
       "      <td>0.004632</td>\n",
       "      <td>0.006246</td>\n",
       "      <td>0.005870</td>\n",
       "      <td>...</td>\n",
       "      <td>0.008279</td>\n",
       "      <td>0.008120</td>\n",
       "      <td>0.011249</td>\n",
       "      <td>0.004244</td>\n",
       "      <td>0.006401</td>\n",
       "      <td>0.004357</td>\n",
       "      <td>0.003251</td>\n",
       "      <td>0.005618</td>\n",
       "      <td>0.002933</td>\n",
       "      <td>0.001345</td>\n",
       "    </tr>\n",
       "    <tr>\n",
       "      <th>ENSG00000099968</th>\n",
       "      <td>0.005414</td>\n",
       "      <td>0.542060</td>\n",
       "      <td>1.000000</td>\n",
       "      <td>0.428165</td>\n",
       "      <td>0.017324</td>\n",
       "      <td>0.006779</td>\n",
       "      <td>0.008181</td>\n",
       "      <td>0.008139</td>\n",
       "      <td>0.010043</td>\n",
       "      <td>0.008414</td>\n",
       "      <td>...</td>\n",
       "      <td>0.012223</td>\n",
       "      <td>0.009704</td>\n",
       "      <td>0.010688</td>\n",
       "      <td>0.006931</td>\n",
       "      <td>0.007030</td>\n",
       "      <td>0.006061</td>\n",
       "      <td>0.006575</td>\n",
       "      <td>0.007914</td>\n",
       "      <td>0.006866</td>\n",
       "      <td>0.005879</td>\n",
       "    </tr>\n",
       "    <tr>\n",
       "      <th>ENSG00000015475</th>\n",
       "      <td>0.007105</td>\n",
       "      <td>0.281444</td>\n",
       "      <td>0.428165</td>\n",
       "      <td>1.000000</td>\n",
       "      <td>0.018044</td>\n",
       "      <td>0.009272</td>\n",
       "      <td>0.008372</td>\n",
       "      <td>0.009734</td>\n",
       "      <td>0.011667</td>\n",
       "      <td>0.004081</td>\n",
       "      <td>...</td>\n",
       "      <td>0.012668</td>\n",
       "      <td>0.013209</td>\n",
       "      <td>0.012419</td>\n",
       "      <td>0.008255</td>\n",
       "      <td>0.008687</td>\n",
       "      <td>0.005644</td>\n",
       "      <td>0.007272</td>\n",
       "      <td>0.012210</td>\n",
       "      <td>0.005257</td>\n",
       "      <td>0.005525</td>\n",
       "    </tr>\n",
       "    <tr>\n",
       "      <th>ENSG00000243156</th>\n",
       "      <td>0.006540</td>\n",
       "      <td>0.008466</td>\n",
       "      <td>0.017324</td>\n",
       "      <td>0.018044</td>\n",
       "      <td>1.000000</td>\n",
       "      <td>0.041806</td>\n",
       "      <td>0.023262</td>\n",
       "      <td>0.028209</td>\n",
       "      <td>0.008704</td>\n",
       "      <td>0.004369</td>\n",
       "      <td>...</td>\n",
       "      <td>0.017627</td>\n",
       "      <td>0.016883</td>\n",
       "      <td>0.008314</td>\n",
       "      <td>0.006860</td>\n",
       "      <td>0.010774</td>\n",
       "      <td>0.009537</td>\n",
       "      <td>0.011242</td>\n",
       "      <td>0.011824</td>\n",
       "      <td>0.005827</td>\n",
       "      <td>0.008861</td>\n",
       "    </tr>\n",
       "  </tbody>\n",
       "</table>\n",
       "<p>5 rows × 170 columns</p>\n",
       "</div>"
      ],
      "text/plain": [
       "                 ENSG00000177663  ENSG00000131100  ENSG00000099968  \\\n",
       "ENSG00000177663         1.000000         0.002467         0.005414   \n",
       "ENSG00000131100         0.002467         1.000000         0.542060   \n",
       "ENSG00000099968         0.005414         0.542060         1.000000   \n",
       "ENSG00000015475         0.007105         0.281444         0.428165   \n",
       "ENSG00000243156         0.006540         0.008466         0.017324   \n",
       "\n",
       "                 ENSG00000015475  ENSG00000243156  ENSG00000215193  \\\n",
       "ENSG00000177663         0.007105         0.006540         0.009564   \n",
       "ENSG00000131100         0.281444         0.008466         0.003632   \n",
       "ENSG00000099968         0.428165         0.017324         0.006779   \n",
       "ENSG00000015475         1.000000         0.018044         0.009272   \n",
       "ENSG00000243156         0.018044         1.000000         0.041806   \n",
       "\n",
       "                 ENSG00000183785  ENSG00000184979  ENSG00000100033  \\\n",
       "ENSG00000177663         0.010262         0.010411         0.007188   \n",
       "ENSG00000131100         0.003618         0.004632         0.006246   \n",
       "ENSG00000099968         0.008181         0.008139         0.010043   \n",
       "ENSG00000015475         0.008372         0.009734         0.011667   \n",
       "ENSG00000243156         0.023262         0.028209         0.008704   \n",
       "\n",
       "                 ENSG00000100075  ...  ENSG00000196576  ENSG00000128165  \\\n",
       "ENSG00000177663         0.002409  ...         0.007739         0.008804   \n",
       "ENSG00000131100         0.005870  ...         0.008279         0.008120   \n",
       "ENSG00000099968         0.008414  ...         0.012223         0.009704   \n",
       "ENSG00000015475         0.004081  ...         0.012668         0.013209   \n",
       "ENSG00000243156         0.004369  ...         0.017627         0.016883   \n",
       "\n",
       "                 ENSG00000100253  ENSG00000130489  ENSG00000025708  \\\n",
       "ENSG00000177663         0.004350         0.006371         0.005791   \n",
       "ENSG00000131100         0.011249         0.004244         0.006401   \n",
       "ENSG00000099968         0.010688         0.006931         0.007030   \n",
       "ENSG00000015475         0.012419         0.008255         0.008687   \n",
       "ENSG00000243156         0.008314         0.006860         0.010774   \n",
       "\n",
       "                 ENSG00000205560  ENSG00000100288  ENSG00000008735  \\\n",
       "ENSG00000177663         0.006881         0.005391         0.008730   \n",
       "ENSG00000131100         0.004357         0.003251         0.005618   \n",
       "ENSG00000099968         0.006061         0.006575         0.007914   \n",
       "ENSG00000015475         0.005644         0.007272         0.012210   \n",
       "ENSG00000243156         0.009537         0.011242         0.011824   \n",
       "\n",
       "                 ENSG00000100299  ENSG00000251322  \n",
       "ENSG00000177663         0.003802         0.002217  \n",
       "ENSG00000131100         0.002933         0.001345  \n",
       "ENSG00000099968         0.006866         0.005879  \n",
       "ENSG00000015475         0.005257         0.005525  \n",
       "ENSG00000243156         0.005827         0.008861  \n",
       "\n",
       "[5 rows x 170 columns]"
      ]
     },
     "execution_count": 31,
     "metadata": {},
     "output_type": "execute_result"
    }
   ],
   "source": [
    "gene_corrs_df.head()"
   ]
  },
  {
   "cell_type": "markdown",
   "id": "dad6603f-01c6-41fb-a6f6-241051207dd8",
   "metadata": {
    "papermill": {
     "duration": 0.739406,
     "end_time": "2022-08-27T06:20:31.692808",
     "exception": false,
     "start_time": "2022-08-27T06:20:30.953402",
     "status": "completed"
    },
    "tags": []
   },
   "source": [
    "## Standard checks and stats"
   ]
  },
  {
   "cell_type": "code",
   "execution_count": 32,
   "id": "286686af-1b7b-4440-8453-6bdcbd8de19c",
   "metadata": {
    "execution": {
     "iopub.execute_input": "2022-08-27T06:20:33.174747Z",
     "iopub.status.busy": "2022-08-27T06:20:33.174502Z",
     "iopub.status.idle": "2022-08-27T06:20:33.194089Z",
     "shell.execute_reply": "2022-08-27T06:20:33.193674Z"
    },
    "papermill": {
     "duration": 0.763274,
     "end_time": "2022-08-27T06:20:33.195479",
     "exception": false,
     "start_time": "2022-08-27T06:20:32.432205",
     "status": "completed"
    },
    "tags": []
   },
   "outputs": [],
   "source": [
    "assert not gene_corrs_df.isna().any().any()"
   ]
  },
  {
   "cell_type": "code",
   "execution_count": 33,
   "id": "00583efc-7068-4270-ad1e-4a418e91db96",
   "metadata": {
    "execution": {
     "iopub.execute_input": "2022-08-27T06:20:34.683267Z",
     "iopub.status.busy": "2022-08-27T06:20:34.683025Z",
     "iopub.status.idle": "2022-08-27T06:20:34.704561Z",
     "shell.execute_reply": "2022-08-27T06:20:34.704150Z"
    },
    "papermill": {
     "duration": 0.766243,
     "end_time": "2022-08-27T06:20:34.705807",
     "exception": false,
     "start_time": "2022-08-27T06:20:33.939564",
     "status": "completed"
    },
    "tags": []
   },
   "outputs": [
    {
     "data": {
      "text/plain": [
       "2.2322840744405923e-07"
      ]
     },
     "metadata": {},
     "output_type": "display_data"
    }
   ],
   "source": [
    "_min_val = gene_corrs_df.min().min()\n",
    "display(_min_val)\n",
    "assert _min_val >= -0.05"
   ]
  },
  {
   "cell_type": "code",
   "execution_count": 34,
   "id": "d04fb2cf-1050-475b-b855-f5f7cc04092b",
   "metadata": {
    "execution": {
     "iopub.execute_input": "2022-08-27T06:20:36.193292Z",
     "iopub.status.busy": "2022-08-27T06:20:36.193049Z",
     "iopub.status.idle": "2022-08-27T06:20:36.214387Z",
     "shell.execute_reply": "2022-08-27T06:20:36.213943Z"
    },
    "papermill": {
     "duration": 0.766115,
     "end_time": "2022-08-27T06:20:36.215805",
     "exception": false,
     "start_time": "2022-08-27T06:20:35.449690",
     "status": "completed"
    },
    "tags": []
   },
   "outputs": [
    {
     "data": {
      "text/plain": [
       "1.0000000000000022"
      ]
     },
     "metadata": {},
     "output_type": "display_data"
    }
   ],
   "source": [
    "_max_val = gene_corrs_df.max().max()  # this captures the diagonal\n",
    "display(_max_val)\n",
    "assert _max_val <= 1.05"
   ]
  },
  {
   "cell_type": "code",
   "execution_count": 35,
   "id": "96d02c44-1fba-47be-8a93-8f2608420b9c",
   "metadata": {
    "execution": {
     "iopub.execute_input": "2022-08-27T06:20:37.730967Z",
     "iopub.status.busy": "2022-08-27T06:20:37.730724Z",
     "iopub.status.idle": "2022-08-27T06:20:37.749736Z",
     "shell.execute_reply": "2022-08-27T06:20:37.749296Z"
    },
    "papermill": {
     "duration": 0.791475,
     "end_time": "2022-08-27T06:20:37.751185",
     "exception": false,
     "start_time": "2022-08-27T06:20:36.959710",
     "status": "completed"
    },
    "tags": []
   },
   "outputs": [],
   "source": [
    "# check upper triangular values\n",
    "# assert len(gene_corrs) == int(genes_chr.shape[0] * (genes_chr.shape[0] - 1) / 2)"
   ]
  },
  {
   "cell_type": "code",
   "execution_count": 36,
   "id": "fe283586-c348-40e0-8841-f6d97bfb021c",
   "metadata": {
    "execution": {
     "iopub.execute_input": "2022-08-27T06:20:39.205846Z",
     "iopub.status.busy": "2022-08-27T06:20:39.205602Z",
     "iopub.status.idle": "2022-08-27T06:20:39.229061Z",
     "shell.execute_reply": "2022-08-27T06:20:39.228647Z"
    },
    "papermill": {
     "duration": 0.72869,
     "end_time": "2022-08-27T06:20:39.230345",
     "exception": false,
     "start_time": "2022-08-27T06:20:38.501655",
     "status": "completed"
    },
    "tags": []
   },
   "outputs": [
    {
     "data": {
      "text/plain": [
       "count    1.453500e+04\n",
       "mean     2.297133e-02\n",
       "std      1.136206e-01\n",
       "min      2.232284e-07\n",
       "25%      4.151538e-03\n",
       "50%      6.254034e-03\n",
       "75%      8.728067e-03\n",
       "max      1.000000e+00\n",
       "dtype: float64"
      ]
     },
     "execution_count": 36,
     "metadata": {},
     "output_type": "execute_result"
    }
   ],
   "source": [
    "gene_corrs_flat.describe()"
   ]
  },
  {
   "cell_type": "code",
   "execution_count": 37,
   "id": "b3815678-0f93-4b35-897b-a9d047a2aa78",
   "metadata": {
    "execution": {
     "iopub.execute_input": "2022-08-27T06:20:40.725742Z",
     "iopub.status.busy": "2022-08-27T06:20:40.725502Z",
     "iopub.status.idle": "2022-08-27T06:20:40.748406Z",
     "shell.execute_reply": "2022-08-27T06:20:40.747983Z"
    },
    "papermill": {
     "duration": 0.767038,
     "end_time": "2022-08-27T06:20:40.749680",
     "exception": false,
     "start_time": "2022-08-27T06:20:39.982642",
     "status": "completed"
    },
    "tags": []
   },
   "outputs": [
    {
     "data": {
      "text/plain": [
       "0.00    2.232284e-07\n",
       "0.05    1.709218e-03\n",
       "0.10    2.513057e-03\n",
       "0.15    3.160230e-03\n",
       "0.20    3.652217e-03\n",
       "0.25    4.151538e-03\n",
       "0.30    4.578302e-03\n",
       "0.35    4.993435e-03\n",
       "0.40    5.392303e-03\n",
       "0.45    5.824836e-03\n",
       "0.50    6.254034e-03\n",
       "0.55    6.667539e-03\n",
       "0.60    7.138522e-03\n",
       "0.65    7.635371e-03\n",
       "0.70    8.159784e-03\n",
       "0.75    8.728067e-03\n",
       "0.80    9.397481e-03\n",
       "0.85    1.031459e-02\n",
       "0.90    1.171462e-02\n",
       "0.95    1.606084e-02\n",
       "dtype: float64"
      ]
     },
     "metadata": {},
     "output_type": "display_data"
    }
   ],
   "source": [
    "gene_corrs_quantiles = gene_corrs_flat.quantile(np.arange(0, 1, 0.05))\n",
    "display(gene_corrs_quantiles)"
   ]
  },
  {
   "cell_type": "markdown",
   "id": "87134509-b145-4a10-8bc9-b7e914c2b0fa",
   "metadata": {
    "papermill": {
     "duration": 0.744164,
     "end_time": "2022-08-27T06:20:42.244518",
     "exception": false,
     "start_time": "2022-08-27T06:20:41.500354",
     "status": "completed"
    },
    "tags": []
   },
   "source": [
    "## Positive definiteness"
   ]
  },
  {
   "cell_type": "code",
   "execution_count": 38,
   "id": "07d9a9a1-a4f7-48aa-b916-6d42a8cc6186",
   "metadata": {
    "execution": {
     "iopub.execute_input": "2022-08-27T06:20:43.727976Z",
     "iopub.status.busy": "2022-08-27T06:20:43.727735Z",
     "iopub.status.idle": "2022-08-27T06:20:43.755547Z",
     "shell.execute_reply": "2022-08-27T06:20:43.755146Z"
    },
    "papermill": {
     "duration": 0.771895,
     "end_time": "2022-08-27T06:20:43.756782",
     "exception": false,
     "start_time": "2022-08-27T06:20:42.984887",
     "status": "completed"
    },
    "tags": []
   },
   "outputs": [
    {
     "data": {
      "text/plain": [
       "0"
      ]
     },
     "metadata": {},
     "output_type": "display_data"
    },
    {
     "data": {
      "text/plain": [
       "array([], dtype=float64)"
      ]
     },
     "metadata": {},
     "output_type": "display_data"
    }
   ],
   "source": [
    "# print negative eigenvalues\n",
    "eigs = np.linalg.eigvals(gene_corrs_df.to_numpy())\n",
    "display(len(eigs[eigs < 0]))\n",
    "display(eigs[eigs < 0])"
   ]
  },
  {
   "cell_type": "code",
   "execution_count": 39,
   "id": "6e218436-c3c5-4028-8c94-a4fa6260efce",
   "metadata": {
    "execution": {
     "iopub.execute_input": "2022-08-27T06:20:45.246403Z",
     "iopub.status.busy": "2022-08-27T06:20:45.246153Z",
     "iopub.status.idle": "2022-08-27T06:20:45.268274Z",
     "shell.execute_reply": "2022-08-27T06:20:45.267868Z"
    },
    "papermill": {
     "duration": 0.770607,
     "end_time": "2022-08-27T06:20:45.269525",
     "exception": false,
     "start_time": "2022-08-27T06:20:44.498918",
     "status": "completed"
    },
    "tags": []
   },
   "outputs": [
    {
     "name": "stdout",
     "output_type": "stream",
     "text": [
      "Works!\n"
     ]
    }
   ],
   "source": [
    "try:\n",
    "    chol_mat = np.linalg.cholesky(gene_corrs_df.to_numpy())\n",
    "    cov_inv = np.linalg.inv(chol_mat)\n",
    "    print(\"Works!\")\n",
    "except Exception as e:\n",
    "    print(f\"Cholesky decomposition failed: {str(e)}\")"
   ]
  },
  {
   "cell_type": "code",
   "execution_count": 40,
   "id": "dd8827fb-faf9-4c7c-9454-015e94752706",
   "metadata": {
    "execution": {
     "iopub.execute_input": "2022-08-27T06:20:46.760585Z",
     "iopub.status.busy": "2022-08-27T06:20:46.760342Z",
     "iopub.status.idle": "2022-08-27T06:20:46.782072Z",
     "shell.execute_reply": "2022-08-27T06:20:46.781674Z"
    },
    "papermill": {
     "duration": 0.766794,
     "end_time": "2022-08-27T06:20:46.783296",
     "exception": false,
     "start_time": "2022-08-27T06:20:46.016502",
     "status": "completed"
    },
    "tags": []
   },
   "outputs": [
    {
     "name": "stdout",
     "output_type": "stream",
     "text": [
      "Works!\n"
     ]
    }
   ],
   "source": [
    "try:\n",
    "    # decomposition used by statsmodels.GLS\n",
    "    cholsigmainv = np.linalg.cholesky(np.linalg.inv(gene_corrs_df.to_numpy())).T\n",
    "    print(\"Works!\")\n",
    "except Exception as e:\n",
    "    print(f\"Cholesky decomposition failed (statsmodels.GLS): {str(e)}\")"
   ]
  },
  {
   "cell_type": "markdown",
   "id": "8e60a080-edb2-4e9c-b2ef-22961693200c",
   "metadata": {
    "papermill": {
     "duration": 0.704535,
     "end_time": "2022-08-27T06:20:48.231484",
     "exception": false,
     "start_time": "2022-08-27T06:20:47.526949",
     "status": "completed"
    },
    "tags": []
   },
   "source": [
    "## Plot: distribution"
   ]
  },
  {
   "cell_type": "code",
   "execution_count": 41,
   "id": "8301126b-a7d4-4744-9c7d-f0f86eb6f54c",
   "metadata": {
    "execution": {
     "iopub.execute_input": "2022-08-27T06:20:49.704413Z",
     "iopub.status.busy": "2022-08-27T06:20:49.704164Z",
     "iopub.status.idle": "2022-08-27T06:20:55.592851Z",
     "shell.execute_reply": "2022-08-27T06:20:55.592378Z"
    },
    "papermill": {
     "duration": 6.626636,
     "end_time": "2022-08-27T06:20:55.594381",
     "exception": false,
     "start_time": "2022-08-27T06:20:48.967745",
     "status": "completed"
    },
    "tags": []
   },
   "outputs": [
    {
     "data": {
      "image/png": "[encoded data removed]",
      "text/plain": [
       "<Figure size 504x504 with 1 Axes>"
      ]
     },
     "metadata": {
      "needs_background": "light"
     },
     "output_type": "display_data"
    }
   ],
   "source": [
    "with sns.plotting_context(\"paper\", font_scale=1.5):\n",
    "    g = sns.displot(gene_corrs_flat, kde=True, height=7)\n",
    "    g.ax.set_title(\n",
    "        f\"Distribution of gene correlation values in chromosome {CHROMOSOME}\"\n",
    "    )"
   ]
  },
  {
   "cell_type": "markdown",
   "id": "cbd52bca-d878-4a2f-b684-5c83aa3038d4",
   "metadata": {
    "papermill": {
     "duration": 0.737805,
     "end_time": "2022-08-27T06:20:57.073898",
     "exception": false,
     "start_time": "2022-08-27T06:20:56.336093",
     "status": "completed"
    },
    "tags": []
   },
   "source": [
    "## Plot: heatmap"
   ]
  },
  {
   "cell_type": "code",
   "execution_count": 42,
   "id": "d03fe63a-c7b2-4fb9-a53c-db362ce843c9",
   "metadata": {
    "execution": {
     "iopub.execute_input": "2022-08-27T06:20:58.555238Z",
     "iopub.status.busy": "2022-08-27T06:20:58.554995Z",
     "iopub.status.idle": "2022-08-27T06:20:58.577446Z",
     "shell.execute_reply": "2022-08-27T06:20:58.577042Z"
    },
    "papermill": {
     "duration": 0.763531,
     "end_time": "2022-08-27T06:20:58.578695",
     "exception": false,
     "start_time": "2022-08-27T06:20:57.815164",
     "status": "completed"
    },
    "tags": []
   },
   "outputs": [
    {
     "data": {
      "text/plain": [
       "'0.0 / 0.05'"
      ]
     },
     "metadata": {},
     "output_type": "display_data"
    }
   ],
   "source": [
    "vmin_val = min(0.00, gene_corrs_quantiles[0.10])\n",
    "vmax_val = max(0.05, gene_corrs_quantiles[0.90])\n",
    "display(f\"{vmin_val} / {vmax_val}\")"
   ]
  },
  {
   "cell_type": "code",
   "execution_count": 43,
   "id": "dc41b70b-5bcc-4d9e-9f33-a22c4a94dab5",
   "metadata": {
    "execution": {
     "iopub.execute_input": "2022-08-27T06:21:00.062760Z",
     "iopub.status.busy": "2022-08-27T06:21:00.062517Z",
     "iopub.status.idle": "2022-08-27T06:21:00.230863Z",
     "shell.execute_reply": "2022-08-27T06:21:00.230430Z"
    },
    "papermill": {
     "duration": 0.913578,
     "end_time": "2022-08-27T06:21:00.232288",
     "exception": false,
     "start_time": "2022-08-27T06:20:59.318710",
     "status": "completed"
    },
    "tags": []
   },
   "outputs": [
    {
     "data": {
      "text/plain": [
       "Text(0.5, 1.0, 'Gene correlations in chromosome 22')"
      ]
     },
     "execution_count": 43,
     "metadata": {},
     "output_type": "execute_result"
    },
    {
     "data": {
      "image/png": "[encoded data removed]",
      "text/plain": [
       "<Figure size 720x720 with 2 Axes>"
      ]
     },
     "metadata": {
      "needs_background": "light"
     },
     "output_type": "display_data"
    }
   ],
   "source": [
    "f, ax = plt.subplots(figsize=(10, 10))\n",
    "sns.heatmap(\n",
    "    gene_corrs_df,\n",
    "    xticklabels=False,\n",
    "    yticklabels=False,\n",
    "    square=True,\n",
    "    vmin=vmin_val,\n",
    "    vmax=vmax_val,\n",
    "    cmap=\"rocket_r\",\n",
    "    ax=ax,\n",
    ")\n",
    "ax.set_title(f\"Gene correlations in chromosome {CHROMOSOME}\")"
   ]
  },
  {
   "cell_type": "code",
   "execution_count": null,
   "id": "b25e3ead",
   "metadata": {
    "papermill": {
     "duration": 0.747325,
     "end_time": "2022-08-27T06:21:01.725492",
     "exception": false,
     "start_time": "2022-08-27T06:21:00.978167",
     "status": "completed"
    },
    "tags": []
   },
   "outputs": [],
   "source": []
  }
 ],
 "metadata": {
  "jupytext": {
   "cell_metadata_filter": "all,-execution,-papermill,-trusted",
   "formats": "ipynb,py//py:percent"
  },
  "kernelspec": {
   "display_name": "Python 3 (ipykernel)",
   "language": "python",
   "name": "python3"
  },
  "language_info": {
   "codemirror_mode": {
    "name": "ipython",
    "version": 3
   },
   "file_extension": ".py",
   "mimetype": "text/x-python",
   "name": "python",
   "nbconvert_exporter": "python",
   "pygments_lexer": "ipython3",
   "version": "3.8.13"
  },
  "papermill": {
   "default_parameters": {},
   "duration": 1069.118631,
   "end_time": "2022-08-27T06:21:05.672207",
   "environment_variables": {},
   "exception": null,
   "input_path": "nbs/15_gsa_gls/10-gene_expr_correlations.ipynb",
   "output_path": "nbs/15_gsa_gls/gene_corrs/cohorts/phenomexcan_other/gtex_v8/mashr/10-gene_expr_corrs/10-gene_expr_correlations-chr22.run.ipynb",
   "parameters": {
    "CHROMOSOME": 22,
    "COHORT_NAME": "phenomexcan_other",
    "EQTL_MODEL": "MASHR",
    "REFERENCE_PANEL": "GTEX_V8"
   },
   "start_time": "2022-08-27T06:03:16.553576",
   "version": "2.2.2"
  }
 },
 "nbformat": 4,
 "nbformat_minor": 5
}
