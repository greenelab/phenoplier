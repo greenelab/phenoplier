{
 "cells": [
  {
   "cell_type": "markdown",
   "id": "7a6632fb",
   "metadata": {
    "papermill": {
     "duration": 0.018689,
     "end_time": "2022-08-27T06:03:18.815025",
     "exception": false,
     "start_time": "2022-08-27T06:03:18.796336",
     "status": "completed"
    },
    "tags": []
   },
   "source": [
    "# Description"
   ]
  },
  {
   "cell_type": "markdown",
   "id": "7097c346",
   "metadata": {
    "papermill": {
     "duration": 0.014726,
     "end_time": "2022-08-27T06:03:18.845576",
     "exception": false,
     "start_time": "2022-08-27T06:03:18.830850",
     "status": "completed"
    },
    "tags": []
   },
   "source": [
    "(Please, take a look at the README.md file in this directory for instructions on how to run this notebook)\n",
    "\n",
    "This notebook computes predicted expression correlations between all genes in the MultiPLIER models.\n",
    "\n",
    "It also has a parameter set for papermill to run on a single chromosome to run in parallel (see under `Settings` below).\n",
    "\n",
    "This notebook is not directly run. See README.md."
   ]
  },
  {
   "cell_type": "markdown",
   "id": "c61d8427",
   "metadata": {
    "papermill": {
     "duration": 0.012261,
     "end_time": "2022-08-27T06:03:18.871594",
     "exception": false,
     "start_time": "2022-08-27T06:03:18.859333",
     "status": "completed"
    },
    "tags": []
   },
   "source": [
    "# Modules"
   ]
  },
  {
   "cell_type": "code",
   "execution_count": 1,
   "id": "bbc0234f",
   "metadata": {
    "execution": {
     "iopub.execute_input": "2022-08-27T06:03:18.896002Z",
     "iopub.status.busy": "2022-08-27T06:03:18.895679Z",
     "iopub.status.idle": "2022-08-27T06:03:18.919468Z",
     "shell.execute_reply": "2022-08-27T06:03:18.918791Z"
    },
    "papermill": {
     "duration": 0.040141,
     "end_time": "2022-08-27T06:03:18.923394",
     "exception": false,
     "start_time": "2022-08-27T06:03:18.883253",
     "status": "completed"
    },
    "tags": []
   },
   "outputs": [],
   "source": [
    "%load_ext autoreload\n",
    "%autoreload 2"
   ]
  },
  {
   "cell_type": "code",
   "execution_count": 2,
   "id": "1d5f5a59",
   "metadata": {
    "execution": {
     "iopub.execute_input": "2022-08-27T06:03:18.946294Z",
     "iopub.status.busy": "2022-08-27T06:03:18.946086Z",
     "iopub.status.idle": "2022-08-27T06:03:23.146614Z",
     "shell.execute_reply": "2022-08-27T06:03:23.145993Z"
    },
    "papermill": {
     "duration": 4.214307,
     "end_time": "2022-08-27T06:03:23.148616",
     "exception": false,
     "start_time": "2022-08-27T06:03:18.934309",
     "status": "completed"
    },
    "tags": []
   },
   "outputs": [],
   "source": [
    "from random import sample, seed\n",
    "import warnings\n",
    "from pathlib import Path\n",
    "import pickle\n",
    "import traceback\n",
    "\n",
    "import numpy as np\n",
    "from scipy.spatial.distance import squareform\n",
    "import pandas as pd\n",
    "from tqdm import tqdm\n",
    "import matplotlib.pyplot as plt\n",
    "import seaborn as sns\n",
    "\n",
    "import conf\n",
    "from entity import Gene"
   ]
  },
  {
   "cell_type": "markdown",
   "id": "1eac24b5",
   "metadata": {
    "papermill": {
     "duration": 0.013376,
     "end_time": "2022-08-27T06:03:23.209721",
     "exception": false,
     "start_time": "2022-08-27T06:03:23.196345",
     "status": "completed"
    },
    "tags": []
   },
   "source": [
    "# Settings"
   ]
  },
  {
   "cell_type": "code",
   "execution_count": 3,
   "id": "ca4560ba",
   "metadata": {
    "execution": {
     "iopub.execute_input": "2022-08-27T06:03:23.234472Z",
     "iopub.status.busy": "2022-08-27T06:03:23.234201Z",
     "iopub.status.idle": "2022-08-27T06:03:23.254214Z",
     "shell.execute_reply": "2022-08-27T06:03:23.253626Z"
    },
    "papermill": {
     "duration": 0.033417,
     "end_time": "2022-08-27T06:03:23.255846",
     "exception": false,
     "start_time": "2022-08-27T06:03:23.222429",
     "status": "completed"
    },
    "tags": [
     "parameters"
    ]
   },
   "outputs": [],
   "source": [
    "# a cohort name (it could be something like UK_BIOBANK, etc)\n",
    "COHORT_NAME = None\n",
    "\n",
    "# reference panel such as 1000G or GTEX_V8\n",
    "REFERENCE_PANEL = None\n",
    "\n",
    "# predictions models such as MASHR or ELASTIC_NET\n",
    "EQTL_MODEL = None\n",
    "\n",
    "# this is the default value used in S-MultiXcan to select the\n",
    "# top principal components of the expression correlation matrix\n",
    "SMULTIXCAN_CONDITION_NUMBER = 30\n",
    "\n",
    "# specifies a single chromosome value\n",
    "CHROMOSOME = None\n",
    "\n",
    "# If True, computes the correlation between closeby genes only;\n",
    "# otherwise, it computes correlations for all genes in a chromosome\n",
    "COMPUTE_CORRELATIONS_WITHIN_DISTANCE = False\n",
    "\n",
    "# if True, then it will continue if a gene pair correlation fails,\n",
    "# printing the warning/error for debugging. If False, any warning/error\n",
    "# will be thrown\n",
    "DEBUG_MODE = False"
   ]
  },
  {
   "cell_type": "code",
   "execution_count": 4,
   "id": "917bfa27",
   "metadata": {
    "execution": {
     "iopub.execute_input": "2022-08-27T06:03:23.275583Z",
     "iopub.status.busy": "2022-08-27T06:03:23.275360Z",
     "iopub.status.idle": "2022-08-27T06:03:23.291150Z",
     "shell.execute_reply": "2022-08-27T06:03:23.290644Z"
    },
    "papermill": {
     "duration": 0.027002,
     "end_time": "2022-08-27T06:03:23.292752",
     "exception": false,
     "start_time": "2022-08-27T06:03:23.265750",
     "status": "completed"
    },
    "tags": [
     "injected-parameters"
    ]
   },
   "outputs": [],
   "source": [
    "# Parameters\n",
    "COHORT_NAME = \"phenomexcan_other\"\n",
    "REFERENCE_PANEL = \"GTEX_V8\"\n",
    "EQTL_MODEL = \"MASHR\"\n",
    "CHROMOSOME = 7\n"
   ]
  },
  {
   "cell_type": "code",
   "execution_count": 5,
   "id": "3190631f-27fc-480f-b18e-571d580425a5",
   "metadata": {
    "execution": {
     "iopub.execute_input": "2022-08-27T06:03:23.313270Z",
     "iopub.status.busy": "2022-08-27T06:03:23.313080Z",
     "iopub.status.idle": "2022-08-27T06:03:23.332221Z",
     "shell.execute_reply": "2022-08-27T06:03:23.331728Z"
    },
    "papermill": {
     "duration": 0.032311,
     "end_time": "2022-08-27T06:03:23.333720",
     "exception": false,
     "start_time": "2022-08-27T06:03:23.301409",
     "status": "completed"
    },
    "tags": []
   },
   "outputs": [
    {
     "data": {
      "text/plain": [
       "'Cohort name: phenomexcan_other'"
      ]
     },
     "metadata": {},
     "output_type": "display_data"
    }
   ],
   "source": [
    "assert COHORT_NAME is not None and len(COHORT_NAME) > 0, \"A cohort name must be given\"\n",
    "\n",
    "COHORT_NAME = COHORT_NAME.lower()\n",
    "display(f\"Cohort name: {COHORT_NAME}\")"
   ]
  },
  {
   "cell_type": "code",
   "execution_count": 6,
   "id": "f53ba19b-0f93-4fa2-a047-63b375939d1a",
   "metadata": {
    "execution": {
     "iopub.execute_input": "2022-08-27T06:03:23.352902Z",
     "iopub.status.busy": "2022-08-27T06:03:23.352701Z",
     "iopub.status.idle": "2022-08-27T06:03:23.370282Z",
     "shell.execute_reply": "2022-08-27T06:03:23.369785Z"
    },
    "papermill": {
     "duration": 0.029431,
     "end_time": "2022-08-27T06:03:23.371772",
     "exception": false,
     "start_time": "2022-08-27T06:03:23.342341",
     "status": "completed"
    },
    "tags": []
   },
   "outputs": [
    {
     "data": {
      "text/plain": [
       "'Reference panel: GTEX_V8'"
      ]
     },
     "metadata": {},
     "output_type": "display_data"
    }
   ],
   "source": [
    "assert (\n",
    "    REFERENCE_PANEL is not None and len(REFERENCE_PANEL) > 0\n",
    "), \"A reference panel must be given\"\n",
    "\n",
    "display(f\"Reference panel: {REFERENCE_PANEL}\")"
   ]
  },
  {
   "cell_type": "code",
   "execution_count": 7,
   "id": "e024d130-c139-429a-9c6e-ccf149e297b0",
   "metadata": {
    "execution": {
     "iopub.execute_input": "2022-08-27T06:03:23.390993Z",
     "iopub.status.busy": "2022-08-27T06:03:23.390803Z",
     "iopub.status.idle": "2022-08-27T06:03:23.408553Z",
     "shell.execute_reply": "2022-08-27T06:03:23.408034Z"
    },
    "papermill": {
     "duration": 0.028774,
     "end_time": "2022-08-27T06:03:23.410054",
     "exception": false,
     "start_time": "2022-08-27T06:03:23.381280",
     "status": "completed"
    },
    "tags": []
   },
   "outputs": [
    {
     "data": {
      "text/plain": [
       "'eQTL model: MASHR) / mashr_'"
      ]
     },
     "metadata": {},
     "output_type": "display_data"
    }
   ],
   "source": [
    "assert (\n",
    "    EQTL_MODEL is not None and len(EQTL_MODEL) > 0\n",
    "), \"A prediction/eQTL model must be given\"\n",
    "\n",
    "EQTL_MODEL_FILES_PREFIX = conf.PHENOMEXCAN[\"PREDICTION_MODELS\"][f\"{EQTL_MODEL}_PREFIX\"]\n",
    "display(f\"eQTL model: {EQTL_MODEL}) / {EQTL_MODEL_FILES_PREFIX}\")"
   ]
  },
  {
   "cell_type": "code",
   "execution_count": 8,
   "id": "552a7f63-a18c-4d3e-bb6a-94f99b431291",
   "metadata": {
    "execution": {
     "iopub.execute_input": "2022-08-27T06:03:23.431200Z",
     "iopub.status.busy": "2022-08-27T06:03:23.431011Z",
     "iopub.status.idle": "2022-08-27T06:03:23.448297Z",
     "shell.execute_reply": "2022-08-27T06:03:23.447805Z"
    },
    "papermill": {
     "duration": 0.030084,
     "end_time": "2022-08-27T06:03:23.449891",
     "exception": false,
     "start_time": "2022-08-27T06:03:23.419807",
     "status": "completed"
    },
    "tags": []
   },
   "outputs": [
    {
     "data": {
      "text/plain": [
       "'S-MultiXcan condition number: 30'"
      ]
     },
     "metadata": {},
     "output_type": "display_data"
    }
   ],
   "source": [
    "assert (\n",
    "    SMULTIXCAN_CONDITION_NUMBER is not None and SMULTIXCAN_CONDITION_NUMBER > 0\n",
    "), \"The S-MultiXcan condition number (positive integer) must be given\"\n",
    "\n",
    "display(f\"S-MultiXcan condition number: {SMULTIXCAN_CONDITION_NUMBER}\")"
   ]
  },
  {
   "cell_type": "code",
   "execution_count": 9,
   "id": "f34a336f-548e-4afe-8955-90eaea4f42c6",
   "metadata": {
    "execution": {
     "iopub.execute_input": "2022-08-27T06:03:23.470570Z",
     "iopub.status.busy": "2022-08-27T06:03:23.470354Z",
     "iopub.status.idle": "2022-08-27T06:03:23.487629Z",
     "shell.execute_reply": "2022-08-27T06:03:23.487104Z"
    },
    "papermill": {
     "duration": 0.029365,
     "end_time": "2022-08-27T06:03:23.489093",
     "exception": false,
     "start_time": "2022-08-27T06:03:23.459728",
     "status": "completed"
    },
    "tags": []
   },
   "outputs": [
    {
     "data": {
      "text/plain": [
       "'Working on chromosome 7'"
      ]
     },
     "metadata": {},
     "output_type": "display_data"
    }
   ],
   "source": [
    "assert CHROMOSOME is not None and (\n",
    "    1 <= CHROMOSOME <= 22\n",
    "), \"You have to select one chromosome (format: number between 1 and 22)\"\n",
    "\n",
    "# CHROMOSOME = str(CHROMOSOME)\n",
    "display(f\"Working on chromosome {CHROMOSOME}\")"
   ]
  },
  {
   "cell_type": "code",
   "execution_count": 10,
   "id": "ab8e96e8-06b5-4363-9dcd-dc4d78cc27f7",
   "metadata": {
    "execution": {
     "iopub.execute_input": "2022-08-27T06:03:23.509744Z",
     "iopub.status.busy": "2022-08-27T06:03:23.509539Z",
     "iopub.status.idle": "2022-08-27T06:03:23.526687Z",
     "shell.execute_reply": "2022-08-27T06:03:23.526152Z"
    },
    "papermill": {
     "duration": 0.029129,
     "end_time": "2022-08-27T06:03:23.528140",
     "exception": false,
     "start_time": "2022-08-27T06:03:23.499011",
     "status": "completed"
    },
    "tags": []
   },
   "outputs": [
    {
     "data": {
      "text/plain": [
       "'Compute correlation within distance False'"
      ]
     },
     "metadata": {},
     "output_type": "display_data"
    }
   ],
   "source": [
    "display(f\"Compute correlation within distance {COMPUTE_CORRELATIONS_WITHIN_DISTANCE}\")"
   ]
  },
  {
   "cell_type": "code",
   "execution_count": 11,
   "id": "396392dc-0340-4540-9b02-e182b833f909",
   "metadata": {
    "execution": {
     "iopub.execute_input": "2022-08-27T06:03:23.547115Z",
     "iopub.status.busy": "2022-08-27T06:03:23.546928Z",
     "iopub.status.idle": "2022-08-27T06:03:23.567268Z",
     "shell.execute_reply": "2022-08-27T06:03:23.566778Z"
    },
    "papermill": {
     "duration": 0.031756,
     "end_time": "2022-08-27T06:03:23.568764",
     "exception": false,
     "start_time": "2022-08-27T06:03:23.537008",
     "status": "completed"
    },
    "tags": []
   },
   "outputs": [
    {
     "data": {
      "text/plain": [
       "'Using output dir base: /project/ritchie20/projects/phenoplier/base/results/gls/gene_corrs/cohorts/phenomexcan_other/gtex_v8/mashr'"
      ]
     },
     "metadata": {},
     "output_type": "display_data"
    }
   ],
   "source": [
    "OUTPUT_DIR_BASE = (\n",
    "    conf.RESULTS[\"GLS\"]\n",
    "    / \"gene_corrs\"\n",
    "    / \"cohorts\"\n",
    "    / COHORT_NAME\n",
    "    / REFERENCE_PANEL.lower()\n",
    "    / EQTL_MODEL.lower()\n",
    ")\n",
    "OUTPUT_DIR_BASE.mkdir(parents=True, exist_ok=True)\n",
    "\n",
    "display(f\"Using output dir base: {OUTPUT_DIR_BASE}\")"
   ]
  },
  {
   "cell_type": "markdown",
   "id": "d2ba085e",
   "metadata": {
    "papermill": {
     "duration": 0.009837,
     "end_time": "2022-08-27T06:03:23.590908",
     "exception": false,
     "start_time": "2022-08-27T06:03:23.581071",
     "status": "completed"
    },
    "tags": []
   },
   "source": [
    "# Load data"
   ]
  },
  {
   "cell_type": "markdown",
   "id": "7dcb8db7",
   "metadata": {
    "papermill": {
     "duration": 0.010793,
     "end_time": "2022-08-27T06:03:23.613118",
     "exception": false,
     "start_time": "2022-08-27T06:03:23.602325",
     "status": "completed"
    },
    "tags": []
   },
   "source": [
    "## GWAS variants"
   ]
  },
  {
   "cell_type": "code",
   "execution_count": 12,
   "id": "29434c4e-8cd3-4b9b-82e4-b5a251d9dd19",
   "metadata": {
    "execution": {
     "iopub.execute_input": "2022-08-27T06:03:23.635451Z",
     "iopub.status.busy": "2022-08-27T06:03:23.635222Z",
     "iopub.status.idle": "2022-08-27T06:03:26.211495Z",
     "shell.execute_reply": "2022-08-27T06:03:26.210889Z"
    },
    "papermill": {
     "duration": 2.589556,
     "end_time": "2022-08-27T06:03:26.213427",
     "exception": false,
     "start_time": "2022-08-27T06:03:23.623871",
     "status": "completed"
    },
    "tags": []
   },
   "outputs": [],
   "source": [
    "with open(OUTPUT_DIR_BASE / \"gwas_variant_ids.pkl\", \"rb\") as handle:\n",
    "    gwas_variants_ids_set = pickle.load(handle)"
   ]
  },
  {
   "cell_type": "code",
   "execution_count": 13,
   "id": "b9d9dec2-4a76-4bf9-bde2-e24c95acb8a0",
   "metadata": {
    "execution": {
     "iopub.execute_input": "2022-08-27T06:03:26.234175Z",
     "iopub.status.busy": "2022-08-27T06:03:26.233979Z",
     "iopub.status.idle": "2022-08-27T06:03:26.253807Z",
     "shell.execute_reply": "2022-08-27T06:03:26.253271Z"
    },
    "papermill": {
     "duration": 0.031193,
     "end_time": "2022-08-27T06:03:26.255420",
     "exception": false,
     "start_time": "2022-08-27T06:03:26.224227",
     "status": "completed"
    },
    "tags": []
   },
   "outputs": [
    {
     "data": {
      "text/plain": [
       "8865800"
      ]
     },
     "execution_count": 13,
     "metadata": {},
     "output_type": "execute_result"
    }
   ],
   "source": [
    "len(gwas_variants_ids_set)"
   ]
  },
  {
   "cell_type": "code",
   "execution_count": 14,
   "id": "4235b06a-6034-4ee4-a0a3-2ae35d122418",
   "metadata": {
    "execution": {
     "iopub.execute_input": "2022-08-27T06:03:26.275101Z",
     "iopub.status.busy": "2022-08-27T06:03:26.274911Z",
     "iopub.status.idle": "2022-08-27T06:03:26.881711Z",
     "shell.execute_reply": "2022-08-27T06:03:26.881136Z"
    },
    "papermill": {
     "duration": 0.61839,
     "end_time": "2022-08-27T06:03:26.883245",
     "exception": false,
     "start_time": "2022-08-27T06:03:26.264855",
     "status": "completed"
    },
    "tags": []
   },
   "outputs": [
    {
     "data": {
      "text/plain": [
       "['chr1_221580365_C_T_b38',\n",
       " 'chr20_45736845_C_T_b38',\n",
       " 'chr7_138137358_T_C_b38',\n",
       " 'chr13_32539266_G_C_b38',\n",
       " 'chr2_121591112_C_T_b38']"
      ]
     },
     "execution_count": 14,
     "metadata": {},
     "output_type": "execute_result"
    }
   ],
   "source": [
    "list(gwas_variants_ids_set)[:5]"
   ]
  },
  {
   "cell_type": "markdown",
   "id": "07866999-2305-41f9-a144-e69c9122c212",
   "metadata": {
    "papermill": {
     "duration": 0.028785,
     "end_time": "2022-08-27T06:03:26.951209",
     "exception": false,
     "start_time": "2022-08-27T06:03:26.922424",
     "status": "completed"
    },
    "tags": []
   },
   "source": [
    "## S-PrediXcan tissue models"
   ]
  },
  {
   "cell_type": "code",
   "execution_count": 15,
   "id": "780611d9-77c8-405f-90a4-f271f7b09397",
   "metadata": {
    "execution": {
     "iopub.execute_input": "2022-08-27T06:03:26.996120Z",
     "iopub.status.busy": "2022-08-27T06:03:26.995910Z",
     "iopub.status.idle": "2022-08-27T06:03:28.067526Z",
     "shell.execute_reply": "2022-08-27T06:03:28.066696Z"
    },
    "papermill": {
     "duration": 1.093907,
     "end_time": "2022-08-27T06:03:28.069670",
     "exception": false,
     "start_time": "2022-08-27T06:03:26.975763",
     "status": "completed"
    },
    "tags": []
   },
   "outputs": [],
   "source": [
    "spredixcan_genes_models = pd.read_pickle(OUTPUT_DIR_BASE / \"gene_tissues.pkl\")"
   ]
  },
  {
   "cell_type": "code",
   "execution_count": 16,
   "id": "726dd1f6-9557-4225-91fa-b3b879ea96e1",
   "metadata": {
    "execution": {
     "iopub.execute_input": "2022-08-27T06:03:28.122260Z",
     "iopub.status.busy": "2022-08-27T06:03:28.122056Z",
     "iopub.status.idle": "2022-08-27T06:03:28.143948Z",
     "shell.execute_reply": "2022-08-27T06:03:28.143423Z"
    },
    "papermill": {
     "duration": 0.054627,
     "end_time": "2022-08-27T06:03:28.145435",
     "exception": false,
     "start_time": "2022-08-27T06:03:28.090808",
     "status": "completed"
    },
    "tags": []
   },
   "outputs": [
    {
     "data": {
      "text/plain": [
       "(6450, 3)"
      ]
     },
     "execution_count": 16,
     "metadata": {},
     "output_type": "execute_result"
    }
   ],
   "source": [
    "spredixcan_genes_models.shape"
   ]
  },
  {
   "cell_type": "code",
   "execution_count": 17,
   "id": "944a1b48-222c-4eb0-b252-b9de2cbca215",
   "metadata": {
    "execution": {
     "iopub.execute_input": "2022-08-27T06:03:28.193975Z",
     "iopub.status.busy": "2022-08-27T06:03:28.193785Z",
     "iopub.status.idle": "2022-08-27T06:03:28.232606Z",
     "shell.execute_reply": "2022-08-27T06:03:28.232065Z"
    },
    "papermill": {
     "duration": 0.064438,
     "end_time": "2022-08-27T06:03:28.234080",
     "exception": false,
     "start_time": "2022-08-27T06:03:28.169642",
     "status": "completed"
    },
    "tags": []
   },
   "outputs": [
    {
     "data": {
      "text/html": [
       "<div>\n",
       "<style scoped>\n",
       "    .dataframe tbody tr th:only-of-type {\n",
       "        vertical-align: middle;\n",
       "    }\n",
       "\n",
       "    .dataframe tbody tr th {\n",
       "        vertical-align: top;\n",
       "    }\n",
       "\n",
       "    .dataframe thead th {\n",
       "        text-align: right;\n",
       "    }\n",
       "</style>\n",
       "<table border=\"1\" class=\"dataframe\">\n",
       "  <thead>\n",
       "    <tr style=\"text-align: right;\">\n",
       "      <th></th>\n",
       "      <th>gene_name</th>\n",
       "      <th>tissue</th>\n",
       "      <th>n_tissues</th>\n",
       "    </tr>\n",
       "    <tr>\n",
       "      <th>gene_id</th>\n",
       "      <th></th>\n",
       "      <th></th>\n",
       "      <th></th>\n",
       "    </tr>\n",
       "  </thead>\n",
       "  <tbody>\n",
       "    <tr>\n",
       "      <th>ENSG00000000419</th>\n",
       "      <td>DPM1</td>\n",
       "      <td>(Cells_Cultured_fibroblasts, Brain_Hypothalamu...</td>\n",
       "      <td>3</td>\n",
       "    </tr>\n",
       "    <tr>\n",
       "      <th>ENSG00000000938</th>\n",
       "      <td>FGR</td>\n",
       "      <td>(Brain_Frontal_Cortex_BA9, Colon_Transverse, B...</td>\n",
       "      <td>36</td>\n",
       "    </tr>\n",
       "    <tr>\n",
       "      <th>ENSG00000000971</th>\n",
       "      <td>CFH</td>\n",
       "      <td>(Brain_Frontal_Cortex_BA9, Colon_Transverse, B...</td>\n",
       "      <td>34</td>\n",
       "    </tr>\n",
       "    <tr>\n",
       "      <th>ENSG00000001084</th>\n",
       "      <td>GCLC</td>\n",
       "      <td>(Brain_Frontal_Cortex_BA9, Colon_Transverse, B...</td>\n",
       "      <td>33</td>\n",
       "    </tr>\n",
       "    <tr>\n",
       "      <th>ENSG00000001167</th>\n",
       "      <td>NFYA</td>\n",
       "      <td>(Colon_Transverse, Brain_Cortex, Breast_Mammar...</td>\n",
       "      <td>40</td>\n",
       "    </tr>\n",
       "  </tbody>\n",
       "</table>\n",
       "</div>"
      ],
      "text/plain": [
       "                gene_name                                             tissue  \\\n",
       "gene_id                                                                        \n",
       "ENSG00000000419      DPM1  (Cells_Cultured_fibroblasts, Brain_Hypothalamu...   \n",
       "ENSG00000000938       FGR  (Brain_Frontal_Cortex_BA9, Colon_Transverse, B...   \n",
       "ENSG00000000971       CFH  (Brain_Frontal_Cortex_BA9, Colon_Transverse, B...   \n",
       "ENSG00000001084      GCLC  (Brain_Frontal_Cortex_BA9, Colon_Transverse, B...   \n",
       "ENSG00000001167      NFYA  (Colon_Transverse, Brain_Cortex, Breast_Mammar...   \n",
       "\n",
       "                 n_tissues  \n",
       "gene_id                     \n",
       "ENSG00000000419          3  \n",
       "ENSG00000000938         36  \n",
       "ENSG00000000971         34  \n",
       "ENSG00000001084         33  \n",
       "ENSG00000001167         40  "
      ]
     },
     "execution_count": 17,
     "metadata": {},
     "output_type": "execute_result"
    }
   ],
   "source": [
    "spredixcan_genes_models.head()"
   ]
  },
  {
   "cell_type": "code",
   "execution_count": 18,
   "id": "d1c11bb1-be0b-4f40-b360-633d6827109f",
   "metadata": {
    "execution": {
     "iopub.execute_input": "2022-08-27T06:03:28.274356Z",
     "iopub.status.busy": "2022-08-27T06:03:28.274151Z",
     "iopub.status.idle": "2022-08-27T06:03:28.290648Z",
     "shell.execute_reply": "2022-08-27T06:03:28.290124Z"
    },
    "papermill": {
     "duration": 0.036506,
     "end_time": "2022-08-27T06:03:28.292207",
     "exception": false,
     "start_time": "2022-08-27T06:03:28.255701",
     "status": "completed"
    },
    "tags": []
   },
   "outputs": [],
   "source": [
    "assert spredixcan_genes_models.index.is_unique"
   ]
  },
  {
   "cell_type": "markdown",
   "id": "a5b5092c-a13e-47c4-a92a-480fcc08f3ae",
   "metadata": {
    "papermill": {
     "duration": 0.01922,
     "end_time": "2022-08-27T06:03:28.326609",
     "exception": false,
     "start_time": "2022-08-27T06:03:28.307389",
     "status": "completed"
    },
    "tags": []
   },
   "source": [
    "## Gene info"
   ]
  },
  {
   "cell_type": "code",
   "execution_count": 19,
   "id": "7d6bb224-88e9-4358-ac10-43a41d92cdad",
   "metadata": {
    "execution": {
     "iopub.execute_input": "2022-08-27T06:03:28.371555Z",
     "iopub.status.busy": "2022-08-27T06:03:28.371336Z",
     "iopub.status.idle": "2022-08-27T06:03:28.399215Z",
     "shell.execute_reply": "2022-08-27T06:03:28.398713Z"
    },
    "papermill": {
     "duration": 0.058372,
     "end_time": "2022-08-27T06:03:28.400832",
     "exception": false,
     "start_time": "2022-08-27T06:03:28.342460",
     "status": "completed"
    },
    "tags": []
   },
   "outputs": [],
   "source": [
    "genes_info = pd.read_pickle(OUTPUT_DIR_BASE / \"genes_info.pkl\")"
   ]
  },
  {
   "cell_type": "code",
   "execution_count": 20,
   "id": "9e32abfa-546d-483e-8c18-d526e9e05903",
   "metadata": {
    "execution": {
     "iopub.execute_input": "2022-08-27T06:03:28.432444Z",
     "iopub.status.busy": "2022-08-27T06:03:28.432231Z",
     "iopub.status.idle": "2022-08-27T06:03:28.449613Z",
     "shell.execute_reply": "2022-08-27T06:03:28.449090Z"
    },
    "papermill": {
     "duration": 0.032877,
     "end_time": "2022-08-27T06:03:28.451073",
     "exception": false,
     "start_time": "2022-08-27T06:03:28.418196",
     "status": "completed"
    },
    "tags": []
   },
   "outputs": [
    {
     "data": {
      "text/plain": [
       "(6450, 7)"
      ]
     },
     "execution_count": 20,
     "metadata": {},
     "output_type": "execute_result"
    }
   ],
   "source": [
    "genes_info.shape"
   ]
  },
  {
   "cell_type": "code",
   "execution_count": 21,
   "id": "d16c3e92-85ec-468a-9a56-e25a9774a1cb",
   "metadata": {
    "execution": {
     "iopub.execute_input": "2022-08-27T06:03:28.483889Z",
     "iopub.status.busy": "2022-08-27T06:03:28.483690Z",
     "iopub.status.idle": "2022-08-27T06:03:28.505426Z",
     "shell.execute_reply": "2022-08-27T06:03:28.504909Z"
    },
    "papermill": {
     "duration": 0.03835,
     "end_time": "2022-08-27T06:03:28.506899",
     "exception": false,
     "start_time": "2022-08-27T06:03:28.468549",
     "status": "completed"
    },
    "tags": []
   },
   "outputs": [
    {
     "data": {
      "text/html": [
       "<div>\n",
       "<style scoped>\n",
       "    .dataframe tbody tr th:only-of-type {\n",
       "        vertical-align: middle;\n",
       "    }\n",
       "\n",
       "    .dataframe tbody tr th {\n",
       "        vertical-align: top;\n",
       "    }\n",
       "\n",
       "    .dataframe thead th {\n",
       "        text-align: right;\n",
       "    }\n",
       "</style>\n",
       "<table border=\"1\" class=\"dataframe\">\n",
       "  <thead>\n",
       "    <tr style=\"text-align: right;\">\n",
       "      <th></th>\n",
       "      <th>name</th>\n",
       "      <th>id</th>\n",
       "      <th>chr</th>\n",
       "      <th>band</th>\n",
       "      <th>start_position</th>\n",
       "      <th>end_position</th>\n",
       "      <th>gene_length</th>\n",
       "    </tr>\n",
       "  </thead>\n",
       "  <tbody>\n",
       "    <tr>\n",
       "      <th>0</th>\n",
       "      <td>FUS</td>\n",
       "      <td>ENSG00000089280</td>\n",
       "      <td>16</td>\n",
       "      <td>16p11.2</td>\n",
       "      <td>31180110</td>\n",
       "      <td>31194871</td>\n",
       "      <td>14761</td>\n",
       "    </tr>\n",
       "    <tr>\n",
       "      <th>1</th>\n",
       "      <td>PI4K2A</td>\n",
       "      <td>ENSG00000155252</td>\n",
       "      <td>10</td>\n",
       "      <td>10q24.2</td>\n",
       "      <td>97640686</td>\n",
       "      <td>97676434</td>\n",
       "      <td>35748</td>\n",
       "    </tr>\n",
       "    <tr>\n",
       "      <th>2</th>\n",
       "      <td>PER1</td>\n",
       "      <td>ENSG00000179094</td>\n",
       "      <td>17</td>\n",
       "      <td>17p13.1</td>\n",
       "      <td>8140472</td>\n",
       "      <td>8156506</td>\n",
       "      <td>16034</td>\n",
       "    </tr>\n",
       "    <tr>\n",
       "      <th>3</th>\n",
       "      <td>GBP6</td>\n",
       "      <td>ENSG00000183347</td>\n",
       "      <td>1</td>\n",
       "      <td>1p22.2</td>\n",
       "      <td>89364058</td>\n",
       "      <td>89386461</td>\n",
       "      <td>22403</td>\n",
       "    </tr>\n",
       "    <tr>\n",
       "      <th>4</th>\n",
       "      <td>GPAA1</td>\n",
       "      <td>ENSG00000197858</td>\n",
       "      <td>8</td>\n",
       "      <td>8q24.3</td>\n",
       "      <td>144082590</td>\n",
       "      <td>144086216</td>\n",
       "      <td>3626</td>\n",
       "    </tr>\n",
       "  </tbody>\n",
       "</table>\n",
       "</div>"
      ],
      "text/plain": [
       "     name               id  chr     band  start_position  end_position  \\\n",
       "0     FUS  ENSG00000089280   16  16p11.2        31180110      31194871   \n",
       "1  PI4K2A  ENSG00000155252   10  10q24.2        97640686      97676434   \n",
       "2    PER1  ENSG00000179094   17  17p13.1         8140472       8156506   \n",
       "3    GBP6  ENSG00000183347    1   1p22.2        89364058      89386461   \n",
       "4   GPAA1  ENSG00000197858    8   8q24.3       144082590     144086216   \n",
       "\n",
       "   gene_length  \n",
       "0        14761  \n",
       "1        35748  \n",
       "2        16034  \n",
       "3        22403  \n",
       "4         3626  "
      ]
     },
     "execution_count": 21,
     "metadata": {},
     "output_type": "execute_result"
    }
   ],
   "source": [
    "genes_info.head()"
   ]
  },
  {
   "cell_type": "markdown",
   "id": "d3843e06",
   "metadata": {
    "papermill": {
     "duration": 0.02095,
     "end_time": "2022-08-27T06:03:28.560347",
     "exception": false,
     "start_time": "2022-08-27T06:03:28.539397",
     "status": "completed"
    },
    "tags": []
   },
   "source": [
    "# Compute correlations"
   ]
  },
  {
   "cell_type": "code",
   "execution_count": 22,
   "id": "cb859c15-d1f3-4006-a74c-2b83c0db9611",
   "metadata": {
    "execution": {
     "iopub.execute_input": "2022-08-27T06:03:28.618821Z",
     "iopub.status.busy": "2022-08-27T06:03:28.618562Z",
     "iopub.status.idle": "2022-08-27T06:03:28.645226Z",
     "shell.execute_reply": "2022-08-27T06:03:28.644593Z"
    },
    "papermill": {
     "duration": 0.064463,
     "end_time": "2022-08-27T06:03:28.647048",
     "exception": false,
     "start_time": "2022-08-27T06:03:28.582585",
     "status": "completed"
    },
    "tags": []
   },
   "outputs": [
    {
     "data": {
      "text/plain": [
       "PosixPath('/project/ritchie20/projects/phenoplier/base/results/gls/gene_corrs/cohorts/phenomexcan_other/gtex_v8/mashr/by_chr/gene_corrs-chr7.pkl')"
      ]
     },
     "metadata": {},
     "output_type": "display_data"
    }
   ],
   "source": [
    "output_dir = OUTPUT_DIR_BASE / \"by_chr\"\n",
    "output_dir.mkdir(exist_ok=True, parents=True)\n",
    "output_file = output_dir / f\"gene_corrs-chr{CHROMOSOME}.pkl\"\n",
    "display(output_file)"
   ]
  },
  {
   "cell_type": "code",
   "execution_count": 23,
   "id": "aa674fe4-6794-4eed-98fa-32b39d1d4ace",
   "metadata": {
    "execution": {
     "iopub.execute_input": "2022-08-27T06:03:28.685746Z",
     "iopub.status.busy": "2022-08-27T06:03:28.685524Z",
     "iopub.status.idle": "2022-08-27T06:03:28.700999Z",
     "shell.execute_reply": "2022-08-27T06:03:28.700491Z"
    },
    "papermill": {
     "duration": 0.039202,
     "end_time": "2022-08-27T06:03:28.702584",
     "exception": false,
     "start_time": "2022-08-27T06:03:28.663382",
     "status": "completed"
    },
    "tags": []
   },
   "outputs": [],
   "source": [
    "warnings.filterwarnings(\"error\")"
   ]
  },
  {
   "cell_type": "code",
   "execution_count": 24,
   "id": "44d5450b-3baf-43f1-9e2e-4b06f1a785f8",
   "metadata": {
    "execution": {
     "iopub.execute_input": "2022-08-27T06:03:28.735198Z",
     "iopub.status.busy": "2022-08-27T06:03:28.734994Z",
     "iopub.status.idle": "2022-08-27T06:03:28.751906Z",
     "shell.execute_reply": "2022-08-27T06:03:28.751345Z"
    },
    "papermill": {
     "duration": 0.034091,
     "end_time": "2022-08-27T06:03:28.753506",
     "exception": false,
     "start_time": "2022-08-27T06:03:28.719415",
     "status": "completed"
    },
    "tags": []
   },
   "outputs": [],
   "source": [
    "# standard checks\n",
    "all_chrs = genes_info[\"chr\"].dropna().unique()\n",
    "assert all_chrs.shape[0] == 22\n",
    "\n",
    "# select chromosome given by the user\n",
    "assert CHROMOSOME in all_chrs"
   ]
  },
  {
   "cell_type": "code",
   "execution_count": 25,
   "id": "2d7c043c-92a7-4d35-991b-fa69ac1e0268",
   "metadata": {
    "execution": {
     "iopub.execute_input": "2022-08-27T06:03:28.788594Z",
     "iopub.status.busy": "2022-08-27T06:03:28.788395Z",
     "iopub.status.idle": "2022-08-27T06:03:28.830067Z",
     "shell.execute_reply": "2022-08-27T06:03:28.829544Z"
    },
    "papermill": {
     "duration": 0.06579,
     "end_time": "2022-08-27T06:03:28.831686",
     "exception": false,
     "start_time": "2022-08-27T06:03:28.765896",
     "status": "completed"
    },
    "tags": []
   },
   "outputs": [
    {
     "name": "stdout",
     "output_type": "stream",
     "text": [
      "Number of genes in chromosome: 281\n"
     ]
    }
   ],
   "source": [
    "# run only on the chromosome specified\n",
    "all_chrs = [CHROMOSOME]\n",
    "genes_chr = genes_info[genes_info[\"chr\"] == CHROMOSOME]\n",
    "\n",
    "# For testing purposes\n",
    "# genes_chr = genes_chr.sample(n=20)\n",
    "\n",
    "print(f\"Number of genes in chromosome: {genes_chr.shape[0]}\", flush=True)"
   ]
  },
  {
   "cell_type": "code",
   "execution_count": 26,
   "id": "916015d8-2979-46d3-a9b9-1cf5a0932c6a",
   "metadata": {
    "execution": {
     "iopub.execute_input": "2022-08-27T06:03:28.862349Z",
     "iopub.status.busy": "2022-08-27T06:03:28.862158Z",
     "iopub.status.idle": "2022-08-27T06:03:28.879070Z",
     "shell.execute_reply": "2022-08-27T06:03:28.878547Z"
    },
    "papermill": {
     "duration": 0.032331,
     "end_time": "2022-08-27T06:03:28.880667",
     "exception": false,
     "start_time": "2022-08-27T06:03:28.848336",
     "status": "completed"
    },
    "tags": []
   },
   "outputs": [],
   "source": [
    "# sort genes by starting position to make visualizations better later\n",
    "genes_chr = genes_chr.sort_values(\"start_position\")"
   ]
  },
  {
   "cell_type": "code",
   "execution_count": 27,
   "id": "a38aa74a-8ad3-47f6-8ef9-56be0e011774",
   "metadata": {
    "execution": {
     "iopub.execute_input": "2022-08-27T06:03:28.907807Z",
     "iopub.status.busy": "2022-08-27T06:03:28.907603Z",
     "iopub.status.idle": "2022-08-27T06:03:28.923836Z",
     "shell.execute_reply": "2022-08-27T06:03:28.923285Z"
    },
    "papermill": {
     "duration": 0.032699,
     "end_time": "2022-08-27T06:03:28.925408",
     "exception": false,
     "start_time": "2022-08-27T06:03:28.892709",
     "status": "completed"
    },
    "tags": []
   },
   "outputs": [],
   "source": [
    "gene_chr_objs = [Gene(ensembl_id=gene_id) for gene_id in genes_chr[\"id\"]]"
   ]
  },
  {
   "cell_type": "code",
   "execution_count": 28,
   "id": "570f974f-13c3-42b6-ad3a-ce99ca885c1a",
   "metadata": {
    "execution": {
     "iopub.execute_input": "2022-08-27T06:03:28.954879Z",
     "iopub.status.busy": "2022-08-27T06:03:28.954679Z",
     "iopub.status.idle": "2022-08-27T06:03:28.971894Z",
     "shell.execute_reply": "2022-08-27T06:03:28.971356Z"
    },
    "papermill": {
     "duration": 0.033932,
     "end_time": "2022-08-27T06:03:28.973473",
     "exception": false,
     "start_time": "2022-08-27T06:03:28.939541",
     "status": "completed"
    },
    "tags": []
   },
   "outputs": [
    {
     "name": "stdout",
     "output_type": "stream",
     "text": [
      "Number of gene combinations: 39340\n"
     ]
    }
   ],
   "source": [
    "n = len(gene_chr_objs)\n",
    "n_comb = int(n * (n - 1) / 2.0)\n",
    "print(f\"Number of gene combinations: {n_comb}\", flush=True)"
   ]
  },
  {
   "cell_type": "code",
   "execution_count": 29,
   "id": "cdbb90a1",
   "metadata": {
    "execution": {
     "iopub.execute_input": "2022-08-27T06:03:29.004325Z",
     "iopub.status.busy": "2022-08-27T06:03:29.004135Z",
     "iopub.status.idle": "2022-08-27T07:06:57.761088Z",
     "shell.execute_reply": "2022-08-27T07:06:57.760385Z"
    },
    "papermill": {
     "duration": 3808.775303,
     "end_time": "2022-08-27T07:06:57.762879",
     "exception": false,
     "start_time": "2022-08-27T06:03:28.987576",
     "status": "completed"
    },
    "tags": []
   },
   "outputs": [
    {
     "name": "stderr",
     "output_type": "stream",
     "text": [
      "ENSG00000106018 / ENSG00000106018: : 39621it [1:03:28, 10.40it/s]\n"
     ]
    },
    {
     "data": {
      "text/plain": [
       "PosixPath('/project/ritchie20/projects/phenoplier/base/results/gls/gene_corrs/cohorts/phenomexcan_other/gtex_v8/mashr/by_chr/gene_corrs-chr7.pkl')"
      ]
     },
     "metadata": {},
     "output_type": "display_data"
    }
   ],
   "source": [
    "gene_corrs = []\n",
    "gene_corrs_data = np.full(\n",
    "    (n, n),\n",
    "    np.nan,\n",
    "    dtype=np.float64,\n",
    ")\n",
    "\n",
    "i = 0\n",
    "with tqdm(ncols=100, total=n_comb) as pbar:\n",
    "    for gene1_idx in range(0, len(gene_chr_objs)):\n",
    "        gene1_obj = gene_chr_objs[gene1_idx]\n",
    "        gene1_tissues = spredixcan_genes_models.loc[gene1_obj.ensembl_id, \"tissue\"]\n",
    "\n",
    "        for gene2_idx in range(gene1_idx, len(gene_chr_objs)):\n",
    "            gene2_obj = gene_chr_objs[gene2_idx]\n",
    "            gene2_tissues = spredixcan_genes_models.loc[gene2_obj.ensembl_id, \"tissue\"]\n",
    "\n",
    "            pbar.set_description(f\"{gene1_obj.ensembl_id} / {gene2_obj.ensembl_id}\")\n",
    "\n",
    "            try:\n",
    "                r = gene1_obj.get_ssm_correlation(\n",
    "                    other_gene=gene2_obj,\n",
    "                    tissues=gene1_tissues,\n",
    "                    other_tissues=gene2_tissues,\n",
    "                    snps_subset=gwas_variants_ids_set,\n",
    "                    condition_number=SMULTIXCAN_CONDITION_NUMBER,\n",
    "                    reference_panel=REFERENCE_PANEL,\n",
    "                    model_type=EQTL_MODEL,\n",
    "                    use_within_distance=COMPUTE_CORRELATIONS_WITHIN_DISTANCE,\n",
    "                )\n",
    "\n",
    "                if r is None:\n",
    "                    # if r is None, it's very likely because:\n",
    "                    #  * one of the genes has no prediction models\n",
    "                    #  * all the SNPs predictors for the gene are not present in the reference\n",
    "                    #    panel\n",
    "\n",
    "                    r = 0.0\n",
    "\n",
    "                gene_corrs.append(r)\n",
    "\n",
    "                gene_corrs_data[gene1_idx, gene2_idx] = r\n",
    "                gene_corrs_data[gene2_idx, gene1_idx] = r\n",
    "            except Warning as e:\n",
    "                if not DEBUG_MODE:\n",
    "                    raise e\n",
    "\n",
    "                print(\n",
    "                    f\"RuntimeWarning for genes {gene1_obj.ensembl_id} and {gene2_obj.ensembl_id}\",\n",
    "                    flush=True,\n",
    "                )\n",
    "                print(traceback.format_exc(), flush=True)\n",
    "\n",
    "                gene_corrs.append(np.nan)\n",
    "            except Exception as e:\n",
    "                if not DEBUG_MODE:\n",
    "                    raise e\n",
    "\n",
    "                print(\n",
    "                    f\"Exception for genes {gene1_obj.ensembl_id} and {gene2_obj.ensembl_id}\",\n",
    "                    flush=True,\n",
    "                )\n",
    "                print(traceback.format_exc(), flush=True)\n",
    "\n",
    "                gene_corrs.append(np.nan)\n",
    "\n",
    "            pbar.update(1)\n",
    "\n",
    "# create a pandas series\n",
    "gene_corrs_flat = pd.Series(gene_corrs)\n",
    "\n",
    "# save\n",
    "# FIXME: consider saving only the condenced matrix here. See here for\n",
    "# more details: https://github.com/greenelab/phenoplier/pull/38#discussion_r634600813\n",
    "# gene_corrs_data = squareform(np.array(gene_corrs, dtype=np.float64))\n",
    "# np.fill_diagonal(gene_corrs_data, 1.0)\n",
    "\n",
    "gene_chr_ids = [g.ensembl_id for g in gene_chr_objs]\n",
    "gene_corrs_df = pd.DataFrame(\n",
    "    data=gene_corrs_data,\n",
    "    index=gene_chr_ids,\n",
    "    columns=gene_chr_ids,\n",
    ")\n",
    "\n",
    "output_dir.mkdir(exist_ok=True, parents=True)\n",
    "display(output_file)\n",
    "\n",
    "gene_corrs_df.to_pickle(output_file)"
   ]
  },
  {
   "cell_type": "markdown",
   "id": "faa67b51-5373-470f-aa72-2ded53fa6dfe",
   "metadata": {
    "papermill": {
     "duration": 2.492174,
     "end_time": "2022-08-27T07:07:02.716930",
     "exception": false,
     "start_time": "2022-08-27T07:07:00.224756",
     "status": "completed"
    },
    "tags": []
   },
   "source": [
    "# Testing"
   ]
  },
  {
   "cell_type": "code",
   "execution_count": 30,
   "id": "14f7d046-4b55-4896-a56b-990127bcc388",
   "metadata": {
    "execution": {
     "iopub.execute_input": "2022-08-27T07:07:07.822835Z",
     "iopub.status.busy": "2022-08-27T07:07:07.822573Z",
     "iopub.status.idle": "2022-08-27T07:07:08.046740Z",
     "shell.execute_reply": "2022-08-27T07:07:08.046234Z"
    },
    "papermill": {
     "duration": 2.751545,
     "end_time": "2022-08-27T07:07:08.048206",
     "exception": false,
     "start_time": "2022-08-27T07:07:05.296661",
     "status": "completed"
    },
    "tags": []
   },
   "outputs": [
    {
     "data": {
      "text/plain": [
       "(281, 281)"
      ]
     },
     "execution_count": 30,
     "metadata": {},
     "output_type": "execute_result"
    }
   ],
   "source": [
    "gene_corrs_df.shape"
   ]
  },
  {
   "cell_type": "code",
   "execution_count": 31,
   "id": "c7d15414-3297-4537-a7c6-7588c0baeb75",
   "metadata": {
    "execution": {
     "iopub.execute_input": "2022-08-27T07:07:13.054187Z",
     "iopub.status.busy": "2022-08-27T07:07:13.053937Z",
     "iopub.status.idle": "2022-08-27T07:07:13.092346Z",
     "shell.execute_reply": "2022-08-27T07:07:13.091848Z"
    },
    "papermill": {
     "duration": 2.538039,
     "end_time": "2022-08-27T07:07:13.093883",
     "exception": false,
     "start_time": "2022-08-27T07:07:10.555844",
     "status": "completed"
    },
    "tags": []
   },
   "outputs": [
    {
     "data": {
      "text/html": [
       "<div>\n",
       "<style scoped>\n",
       "    .dataframe tbody tr th:only-of-type {\n",
       "        vertical-align: middle;\n",
       "    }\n",
       "\n",
       "    .dataframe tbody tr th {\n",
       "        vertical-align: top;\n",
       "    }\n",
       "\n",
       "    .dataframe thead th {\n",
       "        text-align: right;\n",
       "    }\n",
       "</style>\n",
       "<table border=\"1\" class=\"dataframe\">\n",
       "  <thead>\n",
       "    <tr style=\"text-align: right;\">\n",
       "      <th></th>\n",
       "      <th>ENSG00000197461</th>\n",
       "      <th>ENSG00000188191</th>\n",
       "      <th>ENSG00000105963</th>\n",
       "      <th>ENSG00000198517</th>\n",
       "      <th>ENSG00000002822</th>\n",
       "      <th>ENSG00000106263</th>\n",
       "      <th>ENSG00000136213</th>\n",
       "      <th>ENSG00000106003</th>\n",
       "      <th>ENSG00000146535</th>\n",
       "      <th>ENSG00000198286</th>\n",
       "      <th>...</th>\n",
       "      <th>ENSG00000164889</th>\n",
       "      <th>ENSG00000033100</th>\n",
       "      <th>ENSG00000082014</th>\n",
       "      <th>ENSG00000013374</th>\n",
       "      <th>ENSG00000106615</th>\n",
       "      <th>ENSG00000106617</th>\n",
       "      <th>ENSG00000178234</th>\n",
       "      <th>ENSG00000009335</th>\n",
       "      <th>ENSG00000155093</th>\n",
       "      <th>ENSG00000106018</th>\n",
       "    </tr>\n",
       "  </thead>\n",
       "  <tbody>\n",
       "    <tr>\n",
       "      <th>ENSG00000197461</th>\n",
       "      <td>1.000000</td>\n",
       "      <td>0.056552</td>\n",
       "      <td>0.023994</td>\n",
       "      <td>0.003435</td>\n",
       "      <td>0.012019</td>\n",
       "      <td>0.010173</td>\n",
       "      <td>0.014803</td>\n",
       "      <td>0.013311</td>\n",
       "      <td>0.007112</td>\n",
       "      <td>0.013734</td>\n",
       "      <td>...</td>\n",
       "      <td>0.008651</td>\n",
       "      <td>0.008635</td>\n",
       "      <td>0.010116</td>\n",
       "      <td>0.012149</td>\n",
       "      <td>0.004957</td>\n",
       "      <td>0.012208</td>\n",
       "      <td>0.006619</td>\n",
       "      <td>0.006721</td>\n",
       "      <td>0.009152</td>\n",
       "      <td>0.010728</td>\n",
       "    </tr>\n",
       "    <tr>\n",
       "      <th>ENSG00000188191</th>\n",
       "      <td>0.056552</td>\n",
       "      <td>1.000000</td>\n",
       "      <td>0.083238</td>\n",
       "      <td>0.004199</td>\n",
       "      <td>0.009304</td>\n",
       "      <td>0.002234</td>\n",
       "      <td>0.006590</td>\n",
       "      <td>0.004905</td>\n",
       "      <td>0.003935</td>\n",
       "      <td>0.008012</td>\n",
       "      <td>...</td>\n",
       "      <td>0.008045</td>\n",
       "      <td>0.006327</td>\n",
       "      <td>0.004607</td>\n",
       "      <td>0.007522</td>\n",
       "      <td>0.005762</td>\n",
       "      <td>0.008224</td>\n",
       "      <td>0.003188</td>\n",
       "      <td>0.007270</td>\n",
       "      <td>0.008345</td>\n",
       "      <td>0.010679</td>\n",
       "    </tr>\n",
       "    <tr>\n",
       "      <th>ENSG00000105963</th>\n",
       "      <td>0.023994</td>\n",
       "      <td>0.083238</td>\n",
       "      <td>1.000000</td>\n",
       "      <td>0.010926</td>\n",
       "      <td>0.015716</td>\n",
       "      <td>0.006510</td>\n",
       "      <td>0.014194</td>\n",
       "      <td>0.010850</td>\n",
       "      <td>0.013721</td>\n",
       "      <td>0.017901</td>\n",
       "      <td>...</td>\n",
       "      <td>0.011419</td>\n",
       "      <td>0.012078</td>\n",
       "      <td>0.012340</td>\n",
       "      <td>0.018285</td>\n",
       "      <td>0.009396</td>\n",
       "      <td>0.018491</td>\n",
       "      <td>0.004329</td>\n",
       "      <td>0.013694</td>\n",
       "      <td>0.011409</td>\n",
       "      <td>0.018869</td>\n",
       "    </tr>\n",
       "    <tr>\n",
       "      <th>ENSG00000198517</th>\n",
       "      <td>0.003435</td>\n",
       "      <td>0.004199</td>\n",
       "      <td>0.010926</td>\n",
       "      <td>1.000000</td>\n",
       "      <td>0.006747</td>\n",
       "      <td>0.007838</td>\n",
       "      <td>0.009413</td>\n",
       "      <td>0.007361</td>\n",
       "      <td>0.004865</td>\n",
       "      <td>0.005604</td>\n",
       "      <td>...</td>\n",
       "      <td>0.005938</td>\n",
       "      <td>0.007669</td>\n",
       "      <td>0.004659</td>\n",
       "      <td>0.009741</td>\n",
       "      <td>0.003700</td>\n",
       "      <td>0.006290</td>\n",
       "      <td>0.003330</td>\n",
       "      <td>0.002751</td>\n",
       "      <td>0.004556</td>\n",
       "      <td>0.003326</td>\n",
       "    </tr>\n",
       "    <tr>\n",
       "      <th>ENSG00000002822</th>\n",
       "      <td>0.012019</td>\n",
       "      <td>0.009304</td>\n",
       "      <td>0.015716</td>\n",
       "      <td>0.006747</td>\n",
       "      <td>1.000000</td>\n",
       "      <td>0.022178</td>\n",
       "      <td>0.039860</td>\n",
       "      <td>0.018266</td>\n",
       "      <td>0.014918</td>\n",
       "      <td>0.018922</td>\n",
       "      <td>...</td>\n",
       "      <td>0.009543</td>\n",
       "      <td>0.015203</td>\n",
       "      <td>0.013671</td>\n",
       "      <td>0.015882</td>\n",
       "      <td>0.009139</td>\n",
       "      <td>0.016666</td>\n",
       "      <td>0.004655</td>\n",
       "      <td>0.010573</td>\n",
       "      <td>0.006572</td>\n",
       "      <td>0.012171</td>\n",
       "    </tr>\n",
       "  </tbody>\n",
       "</table>\n",
       "<p>5 rows × 281 columns</p>\n",
       "</div>"
      ],
      "text/plain": [
       "                 ENSG00000197461  ENSG00000188191  ENSG00000105963  \\\n",
       "ENSG00000197461         1.000000         0.056552         0.023994   \n",
       "ENSG00000188191         0.056552         1.000000         0.083238   \n",
       "ENSG00000105963         0.023994         0.083238         1.000000   \n",
       "ENSG00000198517         0.003435         0.004199         0.010926   \n",
       "ENSG00000002822         0.012019         0.009304         0.015716   \n",
       "\n",
       "                 ENSG00000198517  ENSG00000002822  ENSG00000106263  \\\n",
       "ENSG00000197461         0.003435         0.012019         0.010173   \n",
       "ENSG00000188191         0.004199         0.009304         0.002234   \n",
       "ENSG00000105963         0.010926         0.015716         0.006510   \n",
       "ENSG00000198517         1.000000         0.006747         0.007838   \n",
       "ENSG00000002822         0.006747         1.000000         0.022178   \n",
       "\n",
       "                 ENSG00000136213  ENSG00000106003  ENSG00000146535  \\\n",
       "ENSG00000197461         0.014803         0.013311         0.007112   \n",
       "ENSG00000188191         0.006590         0.004905         0.003935   \n",
       "ENSG00000105963         0.014194         0.010850         0.013721   \n",
       "ENSG00000198517         0.009413         0.007361         0.004865   \n",
       "ENSG00000002822         0.039860         0.018266         0.014918   \n",
       "\n",
       "                 ENSG00000198286  ...  ENSG00000164889  ENSG00000033100  \\\n",
       "ENSG00000197461         0.013734  ...         0.008651         0.008635   \n",
       "ENSG00000188191         0.008012  ...         0.008045         0.006327   \n",
       "ENSG00000105963         0.017901  ...         0.011419         0.012078   \n",
       "ENSG00000198517         0.005604  ...         0.005938         0.007669   \n",
       "ENSG00000002822         0.018922  ...         0.009543         0.015203   \n",
       "\n",
       "                 ENSG00000082014  ENSG00000013374  ENSG00000106615  \\\n",
       "ENSG00000197461         0.010116         0.012149         0.004957   \n",
       "ENSG00000188191         0.004607         0.007522         0.005762   \n",
       "ENSG00000105963         0.012340         0.018285         0.009396   \n",
       "ENSG00000198517         0.004659         0.009741         0.003700   \n",
       "ENSG00000002822         0.013671         0.015882         0.009139   \n",
       "\n",
       "                 ENSG00000106617  ENSG00000178234  ENSG00000009335  \\\n",
       "ENSG00000197461         0.012208         0.006619         0.006721   \n",
       "ENSG00000188191         0.008224         0.003188         0.007270   \n",
       "ENSG00000105963         0.018491         0.004329         0.013694   \n",
       "ENSG00000198517         0.006290         0.003330         0.002751   \n",
       "ENSG00000002822         0.016666         0.004655         0.010573   \n",
       "\n",
       "                 ENSG00000155093  ENSG00000106018  \n",
       "ENSG00000197461         0.009152         0.010728  \n",
       "ENSG00000188191         0.008345         0.010679  \n",
       "ENSG00000105963         0.011409         0.018869  \n",
       "ENSG00000198517         0.004556         0.003326  \n",
       "ENSG00000002822         0.006572         0.012171  \n",
       "\n",
       "[5 rows x 281 columns]"
      ]
     },
     "execution_count": 31,
     "metadata": {},
     "output_type": "execute_result"
    }
   ],
   "source": [
    "gene_corrs_df.head()"
   ]
  },
  {
   "cell_type": "markdown",
   "id": "dad6603f-01c6-41fb-a6f6-241051207dd8",
   "metadata": {
    "papermill": {
     "duration": 2.4928,
     "end_time": "2022-08-27T07:07:18.188696",
     "exception": false,
     "start_time": "2022-08-27T07:07:15.695896",
     "status": "completed"
    },
    "tags": []
   },
   "source": [
    "## Standard checks and stats"
   ]
  },
  {
   "cell_type": "code",
   "execution_count": 32,
   "id": "286686af-1b7b-4440-8453-6bdcbd8de19c",
   "metadata": {
    "execution": {
     "iopub.execute_input": "2022-08-27T07:07:23.269083Z",
     "iopub.status.busy": "2022-08-27T07:07:23.268817Z",
     "iopub.status.idle": "2022-08-27T07:07:23.289534Z",
     "shell.execute_reply": "2022-08-27T07:07:23.289024Z"
    },
    "papermill": {
     "duration": 2.59364,
     "end_time": "2022-08-27T07:07:23.291081",
     "exception": false,
     "start_time": "2022-08-27T07:07:20.697441",
     "status": "completed"
    },
    "tags": []
   },
   "outputs": [],
   "source": [
    "assert not gene_corrs_df.isna().any().any()"
   ]
  },
  {
   "cell_type": "code",
   "execution_count": 33,
   "id": "00583efc-7068-4270-ad1e-4a418e91db96",
   "metadata": {
    "execution": {
     "iopub.execute_input": "2022-08-27T07:07:28.228976Z",
     "iopub.status.busy": "2022-08-27T07:07:28.228725Z",
     "iopub.status.idle": "2022-08-27T07:07:28.250753Z",
     "shell.execute_reply": "2022-08-27T07:07:28.250246Z"
    },
    "papermill": {
     "duration": 2.512455,
     "end_time": "2022-08-27T07:07:28.252177",
     "exception": false,
     "start_time": "2022-08-27T07:07:25.739722",
     "status": "completed"
    },
    "tags": []
   },
   "outputs": [
    {
     "data": {
      "text/plain": [
       "4.787755118705394e-07"
      ]
     },
     "metadata": {},
     "output_type": "display_data"
    }
   ],
   "source": [
    "_min_val = gene_corrs_df.min().min()\n",
    "display(_min_val)\n",
    "assert _min_val >= -0.05"
   ]
  },
  {
   "cell_type": "code",
   "execution_count": 34,
   "id": "d04fb2cf-1050-475b-b855-f5f7cc04092b",
   "metadata": {
    "execution": {
     "iopub.execute_input": "2022-08-27T07:07:33.268705Z",
     "iopub.status.busy": "2022-08-27T07:07:33.268450Z",
     "iopub.status.idle": "2022-08-27T07:07:33.304999Z",
     "shell.execute_reply": "2022-08-27T07:07:33.304459Z"
    },
    "papermill": {
     "duration": 2.57562,
     "end_time": "2022-08-27T07:07:33.306655",
     "exception": false,
     "start_time": "2022-08-27T07:07:30.731035",
     "status": "completed"
    },
    "tags": []
   },
   "outputs": [
    {
     "data": {
      "text/plain": [
       "1.0000000000000042"
      ]
     },
     "metadata": {},
     "output_type": "display_data"
    }
   ],
   "source": [
    "_max_val = gene_corrs_df.max().max()  # this captures the diagonal\n",
    "display(_max_val)\n",
    "assert _max_val <= 1.05"
   ]
  },
  {
   "cell_type": "code",
   "execution_count": 35,
   "id": "96d02c44-1fba-47be-8a93-8f2608420b9c",
   "metadata": {
    "execution": {
     "iopub.execute_input": "2022-08-27T07:07:38.204855Z",
     "iopub.status.busy": "2022-08-27T07:07:38.204605Z",
     "iopub.status.idle": "2022-08-27T07:07:38.229529Z",
     "shell.execute_reply": "2022-08-27T07:07:38.229024Z"
    },
    "papermill": {
     "duration": 2.51469,
     "end_time": "2022-08-27T07:07:38.231135",
     "exception": false,
     "start_time": "2022-08-27T07:07:35.716445",
     "status": "completed"
    },
    "tags": []
   },
   "outputs": [],
   "source": [
    "# check upper triangular values\n",
    "# assert len(gene_corrs) == int(genes_chr.shape[0] * (genes_chr.shape[0] - 1) / 2)"
   ]
  },
  {
   "cell_type": "code",
   "execution_count": 36,
   "id": "fe283586-c348-40e0-8841-f6d97bfb021c",
   "metadata": {
    "execution": {
     "iopub.execute_input": "2022-08-27T07:07:43.270170Z",
     "iopub.status.busy": "2022-08-27T07:07:43.269915Z",
     "iopub.status.idle": "2022-08-27T07:07:43.294503Z",
     "shell.execute_reply": "2022-08-27T07:07:43.293961Z"
    },
    "papermill": {
     "duration": 2.472131,
     "end_time": "2022-08-27T07:07:43.295977",
     "exception": false,
     "start_time": "2022-08-27T07:07:40.823846",
     "status": "completed"
    },
    "tags": []
   },
   "outputs": [
    {
     "data": {
      "text/plain": [
       "count    3.962100e+04\n",
       "mean     1.597997e-02\n",
       "std      8.856884e-02\n",
       "min      4.787755e-07\n",
       "25%      4.093301e-03\n",
       "50%      6.173586e-03\n",
       "75%      8.655908e-03\n",
       "max      1.000000e+00\n",
       "dtype: float64"
      ]
     },
     "execution_count": 36,
     "metadata": {},
     "output_type": "execute_result"
    }
   ],
   "source": [
    "gene_corrs_flat.describe()"
   ]
  },
  {
   "cell_type": "code",
   "execution_count": 37,
   "id": "b3815678-0f93-4b35-897b-a9d047a2aa78",
   "metadata": {
    "execution": {
     "iopub.execute_input": "2022-08-27T07:07:48.282432Z",
     "iopub.status.busy": "2022-08-27T07:07:48.282172Z",
     "iopub.status.idle": "2022-08-27T07:07:48.306992Z",
     "shell.execute_reply": "2022-08-27T07:07:48.306455Z"
    },
    "papermill": {
     "duration": 2.515852,
     "end_time": "2022-08-27T07:07:48.308472",
     "exception": false,
     "start_time": "2022-08-27T07:07:45.792620",
     "status": "completed"
    },
    "tags": []
   },
   "outputs": [
    {
     "data": {
      "text/plain": [
       "0.00    4.787755e-07\n",
       "0.05    1.720200e-03\n",
       "0.10    2.531027e-03\n",
       "0.15    3.114810e-03\n",
       "0.20    3.624832e-03\n",
       "0.25    4.093301e-03\n",
       "0.30    4.526387e-03\n",
       "0.35    4.949470e-03\n",
       "0.40    5.342546e-03\n",
       "0.45    5.752048e-03\n",
       "0.50    6.173586e-03\n",
       "0.55    6.601158e-03\n",
       "0.60    7.056795e-03\n",
       "0.65    7.535986e-03\n",
       "0.70    8.058326e-03\n",
       "0.75    8.655908e-03\n",
       "0.80    9.311696e-03\n",
       "0.85    1.012841e-02\n",
       "0.90    1.125034e-02\n",
       "0.95    1.342170e-02\n",
       "dtype: float64"
      ]
     },
     "metadata": {},
     "output_type": "display_data"
    }
   ],
   "source": [
    "gene_corrs_quantiles = gene_corrs_flat.quantile(np.arange(0, 1, 0.05))\n",
    "display(gene_corrs_quantiles)"
   ]
  },
  {
   "cell_type": "markdown",
   "id": "87134509-b145-4a10-8bc9-b7e914c2b0fa",
   "metadata": {
    "papermill": {
     "duration": 2.426333,
     "end_time": "2022-08-27T07:07:53.316735",
     "exception": false,
     "start_time": "2022-08-27T07:07:50.890402",
     "status": "completed"
    },
    "tags": []
   },
   "source": [
    "## Positive definiteness"
   ]
  },
  {
   "cell_type": "code",
   "execution_count": 38,
   "id": "07d9a9a1-a4f7-48aa-b916-6d42a8cc6186",
   "metadata": {
    "execution": {
     "iopub.execute_input": "2022-08-27T07:07:58.300347Z",
     "iopub.status.busy": "2022-08-27T07:07:58.300075Z",
     "iopub.status.idle": "2022-08-27T07:07:58.514153Z",
     "shell.execute_reply": "2022-08-27T07:07:58.513652Z"
    },
    "papermill": {
     "duration": 2.644757,
     "end_time": "2022-08-27T07:07:58.515588",
     "exception": false,
     "start_time": "2022-08-27T07:07:55.870831",
     "status": "completed"
    },
    "tags": []
   },
   "outputs": [
    {
     "data": {
      "text/plain": [
       "0"
      ]
     },
     "metadata": {},
     "output_type": "display_data"
    },
    {
     "data": {
      "text/plain": [
       "array([], dtype=float64)"
      ]
     },
     "metadata": {},
     "output_type": "display_data"
    }
   ],
   "source": [
    "# print negative eigenvalues\n",
    "eigs = np.linalg.eigvals(gene_corrs_df.to_numpy())\n",
    "display(len(eigs[eigs < 0]))\n",
    "display(eigs[eigs < 0])"
   ]
  },
  {
   "cell_type": "code",
   "execution_count": 39,
   "id": "6e218436-c3c5-4028-8c94-a4fa6260efce",
   "metadata": {
    "execution": {
     "iopub.execute_input": "2022-08-27T07:08:03.532597Z",
     "iopub.status.busy": "2022-08-27T07:08:03.532336Z",
     "iopub.status.idle": "2022-08-27T07:08:03.557784Z",
     "shell.execute_reply": "2022-08-27T07:08:03.557269Z"
    },
    "papermill": {
     "duration": 2.574717,
     "end_time": "2022-08-27T07:08:03.559312",
     "exception": false,
     "start_time": "2022-08-27T07:08:00.984595",
     "status": "completed"
    },
    "tags": []
   },
   "outputs": [
    {
     "name": "stdout",
     "output_type": "stream",
     "text": [
      "Works!\n"
     ]
    }
   ],
   "source": [
    "try:\n",
    "    chol_mat = np.linalg.cholesky(gene_corrs_df.to_numpy())\n",
    "    cov_inv = np.linalg.inv(chol_mat)\n",
    "    print(\"Works!\")\n",
    "except Exception as e:\n",
    "    print(f\"Cholesky decomposition failed: {str(e)}\")"
   ]
  },
  {
   "cell_type": "code",
   "execution_count": 40,
   "id": "dd8827fb-faf9-4c7c-9454-015e94752706",
   "metadata": {
    "execution": {
     "iopub.execute_input": "2022-08-27T07:08:08.451142Z",
     "iopub.status.busy": "2022-08-27T07:08:08.450890Z",
     "iopub.status.idle": "2022-08-27T07:08:08.516025Z",
     "shell.execute_reply": "2022-08-27T07:08:08.515517Z"
    },
    "papermill": {
     "duration": 2.572823,
     "end_time": "2022-08-27T07:08:08.517512",
     "exception": false,
     "start_time": "2022-08-27T07:08:05.944689",
     "status": "completed"
    },
    "tags": []
   },
   "outputs": [
    {
     "name": "stdout",
     "output_type": "stream",
     "text": [
      "Works!\n"
     ]
    }
   ],
   "source": [
    "try:\n",
    "    # decomposition used by statsmodels.GLS\n",
    "    cholsigmainv = np.linalg.cholesky(np.linalg.inv(gene_corrs_df.to_numpy())).T\n",
    "    print(\"Works!\")\n",
    "except Exception as e:\n",
    "    print(f\"Cholesky decomposition failed (statsmodels.GLS): {str(e)}\")"
   ]
  },
  {
   "cell_type": "markdown",
   "id": "8e60a080-edb2-4e9c-b2ef-22961693200c",
   "metadata": {
    "papermill": {
     "duration": 2.56588,
     "end_time": "2022-08-27T07:08:13.566014",
     "exception": false,
     "start_time": "2022-08-27T07:08:11.000134",
     "status": "completed"
    },
    "tags": []
   },
   "source": [
    "## Plot: distribution"
   ]
  },
  {
   "cell_type": "code",
   "execution_count": 41,
   "id": "8301126b-a7d4-4744-9c7d-f0f86eb6f54c",
   "metadata": {
    "execution": {
     "iopub.execute_input": "2022-08-27T07:08:18.521933Z",
     "iopub.status.busy": "2022-08-27T07:08:18.521680Z",
     "iopub.status.idle": "2022-08-27T07:08:25.468347Z",
     "shell.execute_reply": "2022-08-27T07:08:25.467767Z"
    },
    "papermill": {
     "duration": 9.466575,
     "end_time": "2022-08-27T07:08:25.470067",
     "exception": false,
     "start_time": "2022-08-27T07:08:16.003492",
     "status": "completed"
    },
    "tags": []
   },
   "outputs": [
    {
     "data": {
      "image/png": "[encoded data removed]",
      "text/plain": [
       "<Figure size 504x504 with 1 Axes>"
      ]
     },
     "metadata": {
      "needs_background": "light"
     },
     "output_type": "display_data"
    }
   ],
   "source": [
    "with sns.plotting_context(\"paper\", font_scale=1.5):\n",
    "    g = sns.displot(gene_corrs_flat, kde=True, height=7)\n",
    "    g.ax.set_title(\n",
    "        f\"Distribution of gene correlation values in chromosome {CHROMOSOME}\"\n",
    "    )"
   ]
  },
  {
   "cell_type": "markdown",
   "id": "cbd52bca-d878-4a2f-b684-5c83aa3038d4",
   "metadata": {
    "papermill": {
     "duration": 2.476903,
     "end_time": "2022-08-27T07:08:30.422835",
     "exception": false,
     "start_time": "2022-08-27T07:08:27.945932",
     "status": "completed"
    },
    "tags": []
   },
   "source": [
    "## Plot: heatmap"
   ]
  },
  {
   "cell_type": "code",
   "execution_count": 42,
   "id": "d03fe63a-c7b2-4fb9-a53c-db362ce843c9",
   "metadata": {
    "execution": {
     "iopub.execute_input": "2022-08-27T07:08:35.417356Z",
     "iopub.status.busy": "2022-08-27T07:08:35.417101Z",
     "iopub.status.idle": "2022-08-27T07:08:35.444179Z",
     "shell.execute_reply": "2022-08-27T07:08:35.443680Z"
    },
    "papermill": {
     "duration": 2.467163,
     "end_time": "2022-08-27T07:08:35.445627",
     "exception": false,
     "start_time": "2022-08-27T07:08:32.978464",
     "status": "completed"
    },
    "tags": []
   },
   "outputs": [
    {
     "data": {
      "text/plain": [
       "'0.0 / 0.05'"
      ]
     },
     "metadata": {},
     "output_type": "display_data"
    }
   ],
   "source": [
    "vmin_val = min(0.00, gene_corrs_quantiles[0.10])\n",
    "vmax_val = max(0.05, gene_corrs_quantiles[0.90])\n",
    "display(f\"{vmin_val} / {vmax_val}\")"
   ]
  },
  {
   "cell_type": "code",
   "execution_count": 43,
   "id": "dc41b70b-5bcc-4d9e-9f33-a22c4a94dab5",
   "metadata": {
    "execution": {
     "iopub.execute_input": "2022-08-27T07:08:40.438829Z",
     "iopub.status.busy": "2022-08-27T07:08:40.438574Z",
     "iopub.status.idle": "2022-08-27T07:08:41.345783Z",
     "shell.execute_reply": "2022-08-27T07:08:41.345248Z"
    },
    "papermill": {
     "duration": 3.388187,
     "end_time": "2022-08-27T07:08:41.347412",
     "exception": false,
     "start_time": "2022-08-27T07:08:37.959225",
     "status": "completed"
    },
    "tags": []
   },
   "outputs": [
    {
     "data": {
      "text/plain": [
       "Text(0.5, 1.0, 'Gene correlations in chromosome 7')"
      ]
     },
     "execution_count": 43,
     "metadata": {},
     "output_type": "execute_result"
    },
    {
     "data": {
      "image/png": "[encoded data removed]",
      "text/plain": [
       "<Figure size 720x720 with 2 Axes>"
      ]
     },
     "metadata": {
      "needs_background": "light"
     },
     "output_type": "display_data"
    }
   ],
   "source": [
    "f, ax = plt.subplots(figsize=(10, 10))\n",
    "sns.heatmap(\n",
    "    gene_corrs_df,\n",
    "    xticklabels=False,\n",
    "    yticklabels=False,\n",
    "    square=True,\n",
    "    vmin=vmin_val,\n",
    "    vmax=vmax_val,\n",
    "    cmap=\"rocket_r\",\n",
    "    ax=ax,\n",
    ")\n",
    "ax.set_title(f\"Gene correlations in chromosome {CHROMOSOME}\")"
   ]
  },
  {
   "cell_type": "code",
   "execution_count": null,
   "id": "b25e3ead",
   "metadata": {
    "papermill": {
     "duration": 2.439453,
     "end_time": "2022-08-27T07:08:46.338167",
     "exception": false,
     "start_time": "2022-08-27T07:08:43.898714",
     "status": "completed"
    },
    "tags": []
   },
   "outputs": [],
   "source": []
  }
 ],
 "metadata": {
  "jupytext": {
   "cell_metadata_filter": "all,-execution,-papermill,-trusted",
   "formats": "ipynb,py//py:percent"
  },
  "kernelspec": {
   "display_name": "Python 3 (ipykernel)",
   "language": "python",
   "name": "python3"
  },
  "language_info": {
   "codemirror_mode": {
    "name": "ipython",
    "version": 3
   },
   "file_extension": ".py",
   "mimetype": "text/x-python",
   "name": "python",
   "nbconvert_exporter": "python",
   "pygments_lexer": "ipython3",
   "version": "3.8.13"
  },
  "papermill": {
   "default_parameters": {},
   "duration": 3935.270251,
   "end_time": "2022-08-27T07:08:51.909662",
   "environment_variables": {},
   "exception": null,
   "input_path": "nbs/15_gsa_gls/10-gene_expr_correlations.ipynb",
   "output_path": "nbs/15_gsa_gls/gene_corrs/cohorts/phenomexcan_other/gtex_v8/mashr/10-gene_expr_corrs/10-gene_expr_correlations-chr7.run.ipynb",
   "parameters": {
    "CHROMOSOME": 7,
    "COHORT_NAME": "phenomexcan_other",
    "EQTL_MODEL": "MASHR",
    "REFERENCE_PANEL": "GTEX_V8"
   },
   "start_time": "2022-08-27T06:03:16.639411",
   "version": "2.2.2"
  }
 },
 "nbformat": 4,
 "nbformat_minor": 5
}
