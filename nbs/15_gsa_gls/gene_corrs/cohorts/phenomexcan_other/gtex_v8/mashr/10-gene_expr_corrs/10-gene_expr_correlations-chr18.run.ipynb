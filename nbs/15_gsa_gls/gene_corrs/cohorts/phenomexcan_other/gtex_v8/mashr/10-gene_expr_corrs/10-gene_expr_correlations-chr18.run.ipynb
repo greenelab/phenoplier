{
 "cells": [
  {
   "cell_type": "markdown",
   "id": "7a6632fb",
   "metadata": {
    "papermill": {
     "duration": 0.019976,
     "end_time": "2022-08-27T06:03:18.878585",
     "exception": false,
     "start_time": "2022-08-27T06:03:18.858609",
     "status": "completed"
    },
    "tags": []
   },
   "source": [
    "# Description"
   ]
  },
  {
   "cell_type": "markdown",
   "id": "7097c346",
   "metadata": {
    "papermill": {
     "duration": 0.014287,
     "end_time": "2022-08-27T06:03:18.908931",
     "exception": false,
     "start_time": "2022-08-27T06:03:18.894644",
     "status": "completed"
    },
    "tags": []
   },
   "source": [
    "(Please, take a look at the README.md file in this directory for instructions on how to run this notebook)\n",
    "\n",
    "This notebook computes predicted expression correlations between all genes in the MultiPLIER models.\n",
    "\n",
    "It also has a parameter set for papermill to run on a single chromosome to run in parallel (see under `Settings` below).\n",
    "\n",
    "This notebook is not directly run. See README.md."
   ]
  },
  {
   "cell_type": "markdown",
   "id": "c61d8427",
   "metadata": {
    "papermill": {
     "duration": 0.013127,
     "end_time": "2022-08-27T06:03:18.935574",
     "exception": false,
     "start_time": "2022-08-27T06:03:18.922447",
     "status": "completed"
    },
    "tags": []
   },
   "source": [
    "# Modules"
   ]
  },
  {
   "cell_type": "code",
   "execution_count": 1,
   "id": "bbc0234f",
   "metadata": {
    "execution": {
     "iopub.execute_input": "2022-08-27T06:03:18.961861Z",
     "iopub.status.busy": "2022-08-27T06:03:18.961527Z",
     "iopub.status.idle": "2022-08-27T06:03:18.987645Z",
     "shell.execute_reply": "2022-08-27T06:03:18.987000Z"
    },
    "papermill": {
     "duration": 0.04237,
     "end_time": "2022-08-27T06:03:18.990471",
     "exception": false,
     "start_time": "2022-08-27T06:03:18.948101",
     "status": "completed"
    },
    "tags": []
   },
   "outputs": [],
   "source": [
    "%load_ext autoreload\n",
    "%autoreload 2"
   ]
  },
  {
   "cell_type": "code",
   "execution_count": 2,
   "id": "1d5f5a59",
   "metadata": {
    "execution": {
     "iopub.execute_input": "2022-08-27T06:03:19.014534Z",
     "iopub.status.busy": "2022-08-27T06:03:19.014301Z",
     "iopub.status.idle": "2022-08-27T06:03:22.789298Z",
     "shell.execute_reply": "2022-08-27T06:03:22.788665Z"
    },
    "papermill": {
     "duration": 3.789289,
     "end_time": "2022-08-27T06:03:22.791324",
     "exception": false,
     "start_time": "2022-08-27T06:03:19.002035",
     "status": "completed"
    },
    "tags": []
   },
   "outputs": [],
   "source": [
    "from random import sample, seed\n",
    "import warnings\n",
    "from pathlib import Path\n",
    "import pickle\n",
    "import traceback\n",
    "\n",
    "import numpy as np\n",
    "from scipy.spatial.distance import squareform\n",
    "import pandas as pd\n",
    "from tqdm import tqdm\n",
    "import matplotlib.pyplot as plt\n",
    "import seaborn as sns\n",
    "\n",
    "import conf\n",
    "from entity import Gene"
   ]
  },
  {
   "cell_type": "markdown",
   "id": "1eac24b5",
   "metadata": {
    "papermill": {
     "duration": 0.019132,
     "end_time": "2022-08-27T06:03:22.864577",
     "exception": false,
     "start_time": "2022-08-27T06:03:22.845445",
     "status": "completed"
    },
    "tags": []
   },
   "source": [
    "# Settings"
   ]
  },
  {
   "cell_type": "code",
   "execution_count": 3,
   "id": "ca4560ba",
   "metadata": {
    "execution": {
     "iopub.execute_input": "2022-08-27T06:03:22.909642Z",
     "iopub.status.busy": "2022-08-27T06:03:22.909398Z",
     "iopub.status.idle": "2022-08-27T06:03:22.929075Z",
     "shell.execute_reply": "2022-08-27T06:03:22.928557Z"
    },
    "papermill": {
     "duration": 0.045021,
     "end_time": "2022-08-27T06:03:22.930681",
     "exception": false,
     "start_time": "2022-08-27T06:03:22.885660",
     "status": "completed"
    },
    "tags": [
     "parameters"
    ]
   },
   "outputs": [],
   "source": [
    "# a cohort name (it could be something like UK_BIOBANK, etc)\n",
    "COHORT_NAME = None\n",
    "\n",
    "# reference panel such as 1000G or GTEX_V8\n",
    "REFERENCE_PANEL = None\n",
    "\n",
    "# predictions models such as MASHR or ELASTIC_NET\n",
    "EQTL_MODEL = None\n",
    "\n",
    "# this is the default value used in S-MultiXcan to select the\n",
    "# top principal components of the expression correlation matrix\n",
    "SMULTIXCAN_CONDITION_NUMBER = 30\n",
    "\n",
    "# specifies a single chromosome value\n",
    "CHROMOSOME = None\n",
    "\n",
    "# If True, computes the correlation between closeby genes only;\n",
    "# otherwise, it computes correlations for all genes in a chromosome\n",
    "COMPUTE_CORRELATIONS_WITHIN_DISTANCE = False\n",
    "\n",
    "# if True, then it will continue if a gene pair correlation fails,\n",
    "# printing the warning/error for debugging. If False, any warning/error\n",
    "# will be thrown\n",
    "DEBUG_MODE = False"
   ]
  },
  {
   "cell_type": "code",
   "execution_count": 4,
   "id": "fee78854",
   "metadata": {
    "execution": {
     "iopub.execute_input": "2022-08-27T06:03:22.978421Z",
     "iopub.status.busy": "2022-08-27T06:03:22.978213Z",
     "iopub.status.idle": "2022-08-27T06:03:22.994859Z",
     "shell.execute_reply": "2022-08-27T06:03:22.994379Z"
    },
    "papermill": {
     "duration": 0.041721,
     "end_time": "2022-08-27T06:03:22.996476",
     "exception": false,
     "start_time": "2022-08-27T06:03:22.954755",
     "status": "completed"
    },
    "tags": [
     "injected-parameters"
    ]
   },
   "outputs": [],
   "source": [
    "# Parameters\n",
    "COHORT_NAME = \"phenomexcan_other\"\n",
    "REFERENCE_PANEL = \"GTEX_V8\"\n",
    "EQTL_MODEL = \"MASHR\"\n",
    "CHROMOSOME = 18\n"
   ]
  },
  {
   "cell_type": "code",
   "execution_count": 5,
   "id": "3190631f-27fc-480f-b18e-571d580425a5",
   "metadata": {
    "execution": {
     "iopub.execute_input": "2022-08-27T06:03:23.051220Z",
     "iopub.status.busy": "2022-08-27T06:03:23.051022Z",
     "iopub.status.idle": "2022-08-27T06:03:23.070818Z",
     "shell.execute_reply": "2022-08-27T06:03:23.070334Z"
    },
    "papermill": {
     "duration": 0.050487,
     "end_time": "2022-08-27T06:03:23.072331",
     "exception": false,
     "start_time": "2022-08-27T06:03:23.021844",
     "status": "completed"
    },
    "tags": []
   },
   "outputs": [
    {
     "data": {
      "text/plain": [
       "'Cohort name: phenomexcan_other'"
      ]
     },
     "metadata": {},
     "output_type": "display_data"
    }
   ],
   "source": [
    "assert COHORT_NAME is not None and len(COHORT_NAME) > 0, \"A cohort name must be given\"\n",
    "\n",
    "COHORT_NAME = COHORT_NAME.lower()\n",
    "display(f\"Cohort name: {COHORT_NAME}\")"
   ]
  },
  {
   "cell_type": "code",
   "execution_count": 6,
   "id": "f53ba19b-0f93-4fa2-a047-63b375939d1a",
   "metadata": {
    "execution": {
     "iopub.execute_input": "2022-08-27T06:03:23.101556Z",
     "iopub.status.busy": "2022-08-27T06:03:23.101366Z",
     "iopub.status.idle": "2022-08-27T06:03:23.119472Z",
     "shell.execute_reply": "2022-08-27T06:03:23.118941Z"
    },
    "papermill": {
     "duration": 0.03417,
     "end_time": "2022-08-27T06:03:23.120920",
     "exception": false,
     "start_time": "2022-08-27T06:03:23.086750",
     "status": "completed"
    },
    "tags": []
   },
   "outputs": [
    {
     "data": {
      "text/plain": [
       "'Reference panel: GTEX_V8'"
      ]
     },
     "metadata": {},
     "output_type": "display_data"
    }
   ],
   "source": [
    "assert (\n",
    "    REFERENCE_PANEL is not None and len(REFERENCE_PANEL) > 0\n",
    "), \"A reference panel must be given\"\n",
    "\n",
    "display(f\"Reference panel: {REFERENCE_PANEL}\")"
   ]
  },
  {
   "cell_type": "code",
   "execution_count": 7,
   "id": "e024d130-c139-429a-9c6e-ccf149e297b0",
   "metadata": {
    "execution": {
     "iopub.execute_input": "2022-08-27T06:03:23.153528Z",
     "iopub.status.busy": "2022-08-27T06:03:23.153339Z",
     "iopub.status.idle": "2022-08-27T06:03:23.171732Z",
     "shell.execute_reply": "2022-08-27T06:03:23.171216Z"
    },
    "papermill": {
     "duration": 0.035505,
     "end_time": "2022-08-27T06:03:23.173331",
     "exception": false,
     "start_time": "2022-08-27T06:03:23.137826",
     "status": "completed"
    },
    "tags": []
   },
   "outputs": [
    {
     "data": {
      "text/plain": [
       "'eQTL model: MASHR) / mashr_'"
      ]
     },
     "metadata": {},
     "output_type": "display_data"
    }
   ],
   "source": [
    "assert (\n",
    "    EQTL_MODEL is not None and len(EQTL_MODEL) > 0\n",
    "), \"A prediction/eQTL model must be given\"\n",
    "\n",
    "EQTL_MODEL_FILES_PREFIX = conf.PHENOMEXCAN[\"PREDICTION_MODELS\"][f\"{EQTL_MODEL}_PREFIX\"]\n",
    "display(f\"eQTL model: {EQTL_MODEL}) / {EQTL_MODEL_FILES_PREFIX}\")"
   ]
  },
  {
   "cell_type": "code",
   "execution_count": 8,
   "id": "552a7f63-a18c-4d3e-bb6a-94f99b431291",
   "metadata": {
    "execution": {
     "iopub.execute_input": "2022-08-27T06:03:23.203357Z",
     "iopub.status.busy": "2022-08-27T06:03:23.203145Z",
     "iopub.status.idle": "2022-08-27T06:03:23.221170Z",
     "shell.execute_reply": "2022-08-27T06:03:23.220656Z"
    },
    "papermill": {
     "duration": 0.033552,
     "end_time": "2022-08-27T06:03:23.222647",
     "exception": false,
     "start_time": "2022-08-27T06:03:23.189095",
     "status": "completed"
    },
    "tags": []
   },
   "outputs": [
    {
     "data": {
      "text/plain": [
       "'S-MultiXcan condition number: 30'"
      ]
     },
     "metadata": {},
     "output_type": "display_data"
    }
   ],
   "source": [
    "assert (\n",
    "    SMULTIXCAN_CONDITION_NUMBER is not None and SMULTIXCAN_CONDITION_NUMBER > 0\n",
    "), \"The S-MultiXcan condition number (positive integer) must be given\"\n",
    "\n",
    "display(f\"S-MultiXcan condition number: {SMULTIXCAN_CONDITION_NUMBER}\")"
   ]
  },
  {
   "cell_type": "code",
   "execution_count": 9,
   "id": "f34a336f-548e-4afe-8955-90eaea4f42c6",
   "metadata": {
    "execution": {
     "iopub.execute_input": "2022-08-27T06:03:23.245069Z",
     "iopub.status.busy": "2022-08-27T06:03:23.244839Z",
     "iopub.status.idle": "2022-08-27T06:03:23.262986Z",
     "shell.execute_reply": "2022-08-27T06:03:23.262498Z"
    },
    "papermill": {
     "duration": 0.030916,
     "end_time": "2022-08-27T06:03:23.264480",
     "exception": false,
     "start_time": "2022-08-27T06:03:23.233564",
     "status": "completed"
    },
    "tags": []
   },
   "outputs": [
    {
     "data": {
      "text/plain": [
       "'Working on chromosome 18'"
      ]
     },
     "metadata": {},
     "output_type": "display_data"
    }
   ],
   "source": [
    "assert CHROMOSOME is not None and (\n",
    "    1 <= CHROMOSOME <= 22\n",
    "), \"You have to select one chromosome (format: number between 1 and 22)\"\n",
    "\n",
    "# CHROMOSOME = str(CHROMOSOME)\n",
    "display(f\"Working on chromosome {CHROMOSOME}\")"
   ]
  },
  {
   "cell_type": "code",
   "execution_count": 10,
   "id": "ab8e96e8-06b5-4363-9dcd-dc4d78cc27f7",
   "metadata": {
    "execution": {
     "iopub.execute_input": "2022-08-27T06:03:23.284267Z",
     "iopub.status.busy": "2022-08-27T06:03:23.284064Z",
     "iopub.status.idle": "2022-08-27T06:03:23.302011Z",
     "shell.execute_reply": "2022-08-27T06:03:23.301508Z"
    },
    "papermill": {
     "duration": 0.029597,
     "end_time": "2022-08-27T06:03:23.303502",
     "exception": false,
     "start_time": "2022-08-27T06:03:23.273905",
     "status": "completed"
    },
    "tags": []
   },
   "outputs": [
    {
     "data": {
      "text/plain": [
       "'Compute correlation within distance False'"
      ]
     },
     "metadata": {},
     "output_type": "display_data"
    }
   ],
   "source": [
    "display(f\"Compute correlation within distance {COMPUTE_CORRELATIONS_WITHIN_DISTANCE}\")"
   ]
  },
  {
   "cell_type": "code",
   "execution_count": 11,
   "id": "396392dc-0340-4540-9b02-e182b833f909",
   "metadata": {
    "execution": {
     "iopub.execute_input": "2022-08-27T06:03:23.327956Z",
     "iopub.status.busy": "2022-08-27T06:03:23.327769Z",
     "iopub.status.idle": "2022-08-27T06:03:23.347760Z",
     "shell.execute_reply": "2022-08-27T06:03:23.347271Z"
    },
    "papermill": {
     "duration": 0.033925,
     "end_time": "2022-08-27T06:03:23.349249",
     "exception": false,
     "start_time": "2022-08-27T06:03:23.315324",
     "status": "completed"
    },
    "tags": []
   },
   "outputs": [
    {
     "data": {
      "text/plain": [
       "'Using output dir base: /project/ritchie20/projects/phenoplier/base/results/gls/gene_corrs/cohorts/phenomexcan_other/gtex_v8/mashr'"
      ]
     },
     "metadata": {},
     "output_type": "display_data"
    }
   ],
   "source": [
    "OUTPUT_DIR_BASE = (\n",
    "    conf.RESULTS[\"GLS\"]\n",
    "    / \"gene_corrs\"\n",
    "    / \"cohorts\"\n",
    "    / COHORT_NAME\n",
    "    / REFERENCE_PANEL.lower()\n",
    "    / EQTL_MODEL.lower()\n",
    ")\n",
    "OUTPUT_DIR_BASE.mkdir(parents=True, exist_ok=True)\n",
    "\n",
    "display(f\"Using output dir base: {OUTPUT_DIR_BASE}\")"
   ]
  },
  {
   "cell_type": "markdown",
   "id": "d2ba085e",
   "metadata": {
    "papermill": {
     "duration": 0.009674,
     "end_time": "2022-08-27T06:03:23.369292",
     "exception": false,
     "start_time": "2022-08-27T06:03:23.359618",
     "status": "completed"
    },
    "tags": []
   },
   "source": [
    "# Load data"
   ]
  },
  {
   "cell_type": "markdown",
   "id": "7dcb8db7",
   "metadata": {
    "papermill": {
     "duration": 0.009076,
     "end_time": "2022-08-27T06:03:23.388228",
     "exception": false,
     "start_time": "2022-08-27T06:03:23.379152",
     "status": "completed"
    },
    "tags": []
   },
   "source": [
    "## GWAS variants"
   ]
  },
  {
   "cell_type": "code",
   "execution_count": 12,
   "id": "29434c4e-8cd3-4b9b-82e4-b5a251d9dd19",
   "metadata": {
    "execution": {
     "iopub.execute_input": "2022-08-27T06:03:23.407588Z",
     "iopub.status.busy": "2022-08-27T06:03:23.407400Z",
     "iopub.status.idle": "2022-08-27T06:03:25.985195Z",
     "shell.execute_reply": "2022-08-27T06:03:25.984588Z"
    },
    "papermill": {
     "duration": 2.589639,
     "end_time": "2022-08-27T06:03:25.987158",
     "exception": false,
     "start_time": "2022-08-27T06:03:23.397519",
     "status": "completed"
    },
    "tags": []
   },
   "outputs": [],
   "source": [
    "with open(OUTPUT_DIR_BASE / \"gwas_variant_ids.pkl\", \"rb\") as handle:\n",
    "    gwas_variants_ids_set = pickle.load(handle)"
   ]
  },
  {
   "cell_type": "code",
   "execution_count": 13,
   "id": "b9d9dec2-4a76-4bf9-bde2-e24c95acb8a0",
   "metadata": {
    "execution": {
     "iopub.execute_input": "2022-08-27T06:03:26.012190Z",
     "iopub.status.busy": "2022-08-27T06:03:26.011960Z",
     "iopub.status.idle": "2022-08-27T06:03:26.032453Z",
     "shell.execute_reply": "2022-08-27T06:03:26.031914Z"
    },
    "papermill": {
     "duration": 0.032211,
     "end_time": "2022-08-27T06:03:26.033920",
     "exception": false,
     "start_time": "2022-08-27T06:03:26.001709",
     "status": "completed"
    },
    "tags": []
   },
   "outputs": [
    {
     "data": {
      "text/plain": [
       "8865800"
      ]
     },
     "execution_count": 13,
     "metadata": {},
     "output_type": "execute_result"
    }
   ],
   "source": [
    "len(gwas_variants_ids_set)"
   ]
  },
  {
   "cell_type": "code",
   "execution_count": 14,
   "id": "4235b06a-6034-4ee4-a0a3-2ae35d122418",
   "metadata": {
    "execution": {
     "iopub.execute_input": "2022-08-27T06:03:26.056788Z",
     "iopub.status.busy": "2022-08-27T06:03:26.056599Z",
     "iopub.status.idle": "2022-08-27T06:03:26.642061Z",
     "shell.execute_reply": "2022-08-27T06:03:26.641512Z"
    },
    "papermill": {
     "duration": 0.597399,
     "end_time": "2022-08-27T06:03:26.643642",
     "exception": false,
     "start_time": "2022-08-27T06:03:26.046243",
     "status": "completed"
    },
    "tags": []
   },
   "outputs": [
    {
     "data": {
      "text/plain": [
       "['chr4_110496940_C_T_b38',\n",
       " 'chr3_64277634_C_T_b38',\n",
       " 'chr18_63878285_G_A_b38',\n",
       " 'chr9_106515993_A_G_b38',\n",
       " 'chr20_56969744_T_G_b38']"
      ]
     },
     "execution_count": 14,
     "metadata": {},
     "output_type": "execute_result"
    }
   ],
   "source": [
    "list(gwas_variants_ids_set)[:5]"
   ]
  },
  {
   "cell_type": "markdown",
   "id": "07866999-2305-41f9-a144-e69c9122c212",
   "metadata": {
    "papermill": {
     "duration": 0.020714,
     "end_time": "2022-08-27T06:03:26.681165",
     "exception": false,
     "start_time": "2022-08-27T06:03:26.660451",
     "status": "completed"
    },
    "tags": []
   },
   "source": [
    "## S-PrediXcan tissue models"
   ]
  },
  {
   "cell_type": "code",
   "execution_count": 15,
   "id": "780611d9-77c8-405f-90a4-f271f7b09397",
   "metadata": {
    "execution": {
     "iopub.execute_input": "2022-08-27T06:03:26.714596Z",
     "iopub.status.busy": "2022-08-27T06:03:26.714401Z",
     "iopub.status.idle": "2022-08-27T06:03:27.641339Z",
     "shell.execute_reply": "2022-08-27T06:03:27.640510Z"
    },
    "papermill": {
     "duration": 0.945703,
     "end_time": "2022-08-27T06:03:27.643425",
     "exception": false,
     "start_time": "2022-08-27T06:03:26.697722",
     "status": "completed"
    },
    "tags": []
   },
   "outputs": [],
   "source": [
    "spredixcan_genes_models = pd.read_pickle(OUTPUT_DIR_BASE / \"gene_tissues.pkl\")"
   ]
  },
  {
   "cell_type": "code",
   "execution_count": 16,
   "id": "726dd1f6-9557-4225-91fa-b3b879ea96e1",
   "metadata": {
    "execution": {
     "iopub.execute_input": "2022-08-27T06:03:27.670565Z",
     "iopub.status.busy": "2022-08-27T06:03:27.670357Z",
     "iopub.status.idle": "2022-08-27T06:03:27.692973Z",
     "shell.execute_reply": "2022-08-27T06:03:27.692484Z"
    },
    "papermill": {
     "duration": 0.038276,
     "end_time": "2022-08-27T06:03:27.694486",
     "exception": false,
     "start_time": "2022-08-27T06:03:27.656210",
     "status": "completed"
    },
    "tags": []
   },
   "outputs": [
    {
     "data": {
      "text/plain": [
       "(6450, 3)"
      ]
     },
     "execution_count": 16,
     "metadata": {},
     "output_type": "execute_result"
    }
   ],
   "source": [
    "spredixcan_genes_models.shape"
   ]
  },
  {
   "cell_type": "code",
   "execution_count": 17,
   "id": "944a1b48-222c-4eb0-b252-b9de2cbca215",
   "metadata": {
    "execution": {
     "iopub.execute_input": "2022-08-27T06:03:27.724080Z",
     "iopub.status.busy": "2022-08-27T06:03:27.723846Z",
     "iopub.status.idle": "2022-08-27T06:03:27.764355Z",
     "shell.execute_reply": "2022-08-27T06:03:27.763822Z"
    },
    "papermill": {
     "duration": 0.057091,
     "end_time": "2022-08-27T06:03:27.765833",
     "exception": false,
     "start_time": "2022-08-27T06:03:27.708742",
     "status": "completed"
    },
    "tags": []
   },
   "outputs": [
    {
     "data": {
      "text/html": [
       "<div>\n",
       "<style scoped>\n",
       "    .dataframe tbody tr th:only-of-type {\n",
       "        vertical-align: middle;\n",
       "    }\n",
       "\n",
       "    .dataframe tbody tr th {\n",
       "        vertical-align: top;\n",
       "    }\n",
       "\n",
       "    .dataframe thead th {\n",
       "        text-align: right;\n",
       "    }\n",
       "</style>\n",
       "<table border=\"1\" class=\"dataframe\">\n",
       "  <thead>\n",
       "    <tr style=\"text-align: right;\">\n",
       "      <th></th>\n",
       "      <th>gene_name</th>\n",
       "      <th>tissue</th>\n",
       "      <th>n_tissues</th>\n",
       "    </tr>\n",
       "    <tr>\n",
       "      <th>gene_id</th>\n",
       "      <th></th>\n",
       "      <th></th>\n",
       "      <th></th>\n",
       "    </tr>\n",
       "  </thead>\n",
       "  <tbody>\n",
       "    <tr>\n",
       "      <th>ENSG00000000419</th>\n",
       "      <td>DPM1</td>\n",
       "      <td>(Brain_Substantia_nigra, Cells_Cultured_fibrob...</td>\n",
       "      <td>3</td>\n",
       "    </tr>\n",
       "    <tr>\n",
       "      <th>ENSG00000000938</th>\n",
       "      <td>FGR</td>\n",
       "      <td>(Lung, Brain_Hippocampus, Prostate, Liver, Bre...</td>\n",
       "      <td>36</td>\n",
       "    </tr>\n",
       "    <tr>\n",
       "      <th>ENSG00000000971</th>\n",
       "      <td>CFH</td>\n",
       "      <td>(Cells_Cultured_fibroblasts, Lung, Brain_Hippo...</td>\n",
       "      <td>34</td>\n",
       "    </tr>\n",
       "    <tr>\n",
       "      <th>ENSG00000001084</th>\n",
       "      <td>GCLC</td>\n",
       "      <td>(Cells_Cultured_fibroblasts, Lung, Brain_Hippo...</td>\n",
       "      <td>33</td>\n",
       "    </tr>\n",
       "    <tr>\n",
       "      <th>ENSG00000001167</th>\n",
       "      <td>NFYA</td>\n",
       "      <td>(Cells_Cultured_fibroblasts, Lung, Brain_Hippo...</td>\n",
       "      <td>40</td>\n",
       "    </tr>\n",
       "  </tbody>\n",
       "</table>\n",
       "</div>"
      ],
      "text/plain": [
       "                gene_name                                             tissue  \\\n",
       "gene_id                                                                        \n",
       "ENSG00000000419      DPM1  (Brain_Substantia_nigra, Cells_Cultured_fibrob...   \n",
       "ENSG00000000938       FGR  (Lung, Brain_Hippocampus, Prostate, Liver, Bre...   \n",
       "ENSG00000000971       CFH  (Cells_Cultured_fibroblasts, Lung, Brain_Hippo...   \n",
       "ENSG00000001084      GCLC  (Cells_Cultured_fibroblasts, Lung, Brain_Hippo...   \n",
       "ENSG00000001167      NFYA  (Cells_Cultured_fibroblasts, Lung, Brain_Hippo...   \n",
       "\n",
       "                 n_tissues  \n",
       "gene_id                     \n",
       "ENSG00000000419          3  \n",
       "ENSG00000000938         36  \n",
       "ENSG00000000971         34  \n",
       "ENSG00000001084         33  \n",
       "ENSG00000001167         40  "
      ]
     },
     "execution_count": 17,
     "metadata": {},
     "output_type": "execute_result"
    }
   ],
   "source": [
    "spredixcan_genes_models.head()"
   ]
  },
  {
   "cell_type": "code",
   "execution_count": 18,
   "id": "d1c11bb1-be0b-4f40-b360-633d6827109f",
   "metadata": {
    "execution": {
     "iopub.execute_input": "2022-08-27T06:03:27.820701Z",
     "iopub.status.busy": "2022-08-27T06:03:27.820334Z",
     "iopub.status.idle": "2022-08-27T06:03:27.850063Z",
     "shell.execute_reply": "2022-08-27T06:03:27.849274Z"
    },
    "papermill": {
     "duration": 0.059785,
     "end_time": "2022-08-27T06:03:27.852592",
     "exception": false,
     "start_time": "2022-08-27T06:03:27.792807",
     "status": "completed"
    },
    "tags": []
   },
   "outputs": [],
   "source": [
    "assert spredixcan_genes_models.index.is_unique"
   ]
  },
  {
   "cell_type": "markdown",
   "id": "a5b5092c-a13e-47c4-a92a-480fcc08f3ae",
   "metadata": {
    "papermill": {
     "duration": 0.01343,
     "end_time": "2022-08-27T06:03:27.895262",
     "exception": false,
     "start_time": "2022-08-27T06:03:27.881832",
     "status": "completed"
    },
    "tags": []
   },
   "source": [
    "## Gene info"
   ]
  },
  {
   "cell_type": "code",
   "execution_count": 19,
   "id": "7d6bb224-88e9-4358-ac10-43a41d92cdad",
   "metadata": {
    "execution": {
     "iopub.execute_input": "2022-08-27T06:03:27.929839Z",
     "iopub.status.busy": "2022-08-27T06:03:27.929599Z",
     "iopub.status.idle": "2022-08-27T06:03:27.955549Z",
     "shell.execute_reply": "2022-08-27T06:03:27.955040Z"
    },
    "papermill": {
     "duration": 0.044095,
     "end_time": "2022-08-27T06:03:27.957198",
     "exception": false,
     "start_time": "2022-08-27T06:03:27.913103",
     "status": "completed"
    },
    "tags": []
   },
   "outputs": [],
   "source": [
    "genes_info = pd.read_pickle(OUTPUT_DIR_BASE / \"genes_info.pkl\")"
   ]
  },
  {
   "cell_type": "code",
   "execution_count": 20,
   "id": "9e32abfa-546d-483e-8c18-d526e9e05903",
   "metadata": {
    "execution": {
     "iopub.execute_input": "2022-08-27T06:03:27.988522Z",
     "iopub.status.busy": "2022-08-27T06:03:27.988316Z",
     "iopub.status.idle": "2022-08-27T06:03:28.006258Z",
     "shell.execute_reply": "2022-08-27T06:03:28.005740Z"
    },
    "papermill": {
     "duration": 0.037242,
     "end_time": "2022-08-27T06:03:28.007729",
     "exception": false,
     "start_time": "2022-08-27T06:03:27.970487",
     "status": "completed"
    },
    "tags": []
   },
   "outputs": [
    {
     "data": {
      "text/plain": [
       "(6450, 7)"
      ]
     },
     "execution_count": 20,
     "metadata": {},
     "output_type": "execute_result"
    }
   ],
   "source": [
    "genes_info.shape"
   ]
  },
  {
   "cell_type": "code",
   "execution_count": 21,
   "id": "d16c3e92-85ec-468a-9a56-e25a9774a1cb",
   "metadata": {
    "execution": {
     "iopub.execute_input": "2022-08-27T06:03:28.049133Z",
     "iopub.status.busy": "2022-08-27T06:03:28.048897Z",
     "iopub.status.idle": "2022-08-27T06:03:28.071260Z",
     "shell.execute_reply": "2022-08-27T06:03:28.070745Z"
    },
    "papermill": {
     "duration": 0.045001,
     "end_time": "2022-08-27T06:03:28.072737",
     "exception": false,
     "start_time": "2022-08-27T06:03:28.027736",
     "status": "completed"
    },
    "tags": []
   },
   "outputs": [
    {
     "data": {
      "text/html": [
       "<div>\n",
       "<style scoped>\n",
       "    .dataframe tbody tr th:only-of-type {\n",
       "        vertical-align: middle;\n",
       "    }\n",
       "\n",
       "    .dataframe tbody tr th {\n",
       "        vertical-align: top;\n",
       "    }\n",
       "\n",
       "    .dataframe thead th {\n",
       "        text-align: right;\n",
       "    }\n",
       "</style>\n",
       "<table border=\"1\" class=\"dataframe\">\n",
       "  <thead>\n",
       "    <tr style=\"text-align: right;\">\n",
       "      <th></th>\n",
       "      <th>name</th>\n",
       "      <th>id</th>\n",
       "      <th>chr</th>\n",
       "      <th>band</th>\n",
       "      <th>start_position</th>\n",
       "      <th>end_position</th>\n",
       "      <th>gene_length</th>\n",
       "    </tr>\n",
       "  </thead>\n",
       "  <tbody>\n",
       "    <tr>\n",
       "      <th>0</th>\n",
       "      <td>FUS</td>\n",
       "      <td>ENSG00000089280</td>\n",
       "      <td>16</td>\n",
       "      <td>16p11.2</td>\n",
       "      <td>31180110</td>\n",
       "      <td>31194871</td>\n",
       "      <td>14761</td>\n",
       "    </tr>\n",
       "    <tr>\n",
       "      <th>1</th>\n",
       "      <td>PI4K2A</td>\n",
       "      <td>ENSG00000155252</td>\n",
       "      <td>10</td>\n",
       "      <td>10q24.2</td>\n",
       "      <td>97640686</td>\n",
       "      <td>97676434</td>\n",
       "      <td>35748</td>\n",
       "    </tr>\n",
       "    <tr>\n",
       "      <th>2</th>\n",
       "      <td>PER1</td>\n",
       "      <td>ENSG00000179094</td>\n",
       "      <td>17</td>\n",
       "      <td>17p13.1</td>\n",
       "      <td>8140472</td>\n",
       "      <td>8156506</td>\n",
       "      <td>16034</td>\n",
       "    </tr>\n",
       "    <tr>\n",
       "      <th>3</th>\n",
       "      <td>GBP6</td>\n",
       "      <td>ENSG00000183347</td>\n",
       "      <td>1</td>\n",
       "      <td>1p22.2</td>\n",
       "      <td>89364058</td>\n",
       "      <td>89386461</td>\n",
       "      <td>22403</td>\n",
       "    </tr>\n",
       "    <tr>\n",
       "      <th>4</th>\n",
       "      <td>GPAA1</td>\n",
       "      <td>ENSG00000197858</td>\n",
       "      <td>8</td>\n",
       "      <td>8q24.3</td>\n",
       "      <td>144082590</td>\n",
       "      <td>144086216</td>\n",
       "      <td>3626</td>\n",
       "    </tr>\n",
       "  </tbody>\n",
       "</table>\n",
       "</div>"
      ],
      "text/plain": [
       "     name               id  chr     band  start_position  end_position  \\\n",
       "0     FUS  ENSG00000089280   16  16p11.2        31180110      31194871   \n",
       "1  PI4K2A  ENSG00000155252   10  10q24.2        97640686      97676434   \n",
       "2    PER1  ENSG00000179094   17  17p13.1         8140472       8156506   \n",
       "3    GBP6  ENSG00000183347    1   1p22.2        89364058      89386461   \n",
       "4   GPAA1  ENSG00000197858    8   8q24.3       144082590     144086216   \n",
       "\n",
       "   gene_length  \n",
       "0        14761  \n",
       "1        35748  \n",
       "2        16034  \n",
       "3        22403  \n",
       "4         3626  "
      ]
     },
     "execution_count": 21,
     "metadata": {},
     "output_type": "execute_result"
    }
   ],
   "source": [
    "genes_info.head()"
   ]
  },
  {
   "cell_type": "markdown",
   "id": "d3843e06",
   "metadata": {
    "papermill": {
     "duration": 0.037227,
     "end_time": "2022-08-27T06:03:28.131413",
     "exception": false,
     "start_time": "2022-08-27T06:03:28.094186",
     "status": "completed"
    },
    "tags": []
   },
   "source": [
    "# Compute correlations"
   ]
  },
  {
   "cell_type": "code",
   "execution_count": 22,
   "id": "cb859c15-d1f3-4006-a74c-2b83c0db9611",
   "metadata": {
    "execution": {
     "iopub.execute_input": "2022-08-27T06:03:28.189650Z",
     "iopub.status.busy": "2022-08-27T06:03:28.189302Z",
     "iopub.status.idle": "2022-08-27T06:03:28.230449Z",
     "shell.execute_reply": "2022-08-27T06:03:28.229681Z"
    },
    "papermill": {
     "duration": 0.075058,
     "end_time": "2022-08-27T06:03:28.232609",
     "exception": false,
     "start_time": "2022-08-27T06:03:28.157551",
     "status": "completed"
    },
    "tags": []
   },
   "outputs": [
    {
     "data": {
      "text/plain": [
       "PosixPath('/project/ritchie20/projects/phenoplier/base/results/gls/gene_corrs/cohorts/phenomexcan_other/gtex_v8/mashr/by_chr/gene_corrs-chr18.pkl')"
      ]
     },
     "metadata": {},
     "output_type": "display_data"
    }
   ],
   "source": [
    "output_dir = OUTPUT_DIR_BASE / \"by_chr\"\n",
    "output_dir.mkdir(exist_ok=True, parents=True)\n",
    "output_file = output_dir / f\"gene_corrs-chr{CHROMOSOME}.pkl\"\n",
    "display(output_file)"
   ]
  },
  {
   "cell_type": "code",
   "execution_count": 23,
   "id": "aa674fe4-6794-4eed-98fa-32b39d1d4ace",
   "metadata": {
    "execution": {
     "iopub.execute_input": "2022-08-27T06:03:28.283370Z",
     "iopub.status.busy": "2022-08-27T06:03:28.283123Z",
     "iopub.status.idle": "2022-08-27T06:03:28.303376Z",
     "shell.execute_reply": "2022-08-27T06:03:28.302791Z"
    },
    "papermill": {
     "duration": 0.048019,
     "end_time": "2022-08-27T06:03:28.304932",
     "exception": false,
     "start_time": "2022-08-27T06:03:28.256913",
     "status": "completed"
    },
    "tags": []
   },
   "outputs": [],
   "source": [
    "warnings.filterwarnings(\"error\")"
   ]
  },
  {
   "cell_type": "code",
   "execution_count": 24,
   "id": "44d5450b-3baf-43f1-9e2e-4b06f1a785f8",
   "metadata": {
    "execution": {
     "iopub.execute_input": "2022-08-27T06:03:28.339433Z",
     "iopub.status.busy": "2022-08-27T06:03:28.339227Z",
     "iopub.status.idle": "2022-08-27T06:03:28.356125Z",
     "shell.execute_reply": "2022-08-27T06:03:28.355603Z"
    },
    "papermill": {
     "duration": 0.034216,
     "end_time": "2022-08-27T06:03:28.357730",
     "exception": false,
     "start_time": "2022-08-27T06:03:28.323514",
     "status": "completed"
    },
    "tags": []
   },
   "outputs": [],
   "source": [
    "# standard checks\n",
    "all_chrs = genes_info[\"chr\"].dropna().unique()\n",
    "assert all_chrs.shape[0] == 22\n",
    "\n",
    "# select chromosome given by the user\n",
    "assert CHROMOSOME in all_chrs"
   ]
  },
  {
   "cell_type": "code",
   "execution_count": 25,
   "id": "2d7c043c-92a7-4d35-991b-fa69ac1e0268",
   "metadata": {
    "execution": {
     "iopub.execute_input": "2022-08-27T06:03:28.396606Z",
     "iopub.status.busy": "2022-08-27T06:03:28.396417Z",
     "iopub.status.idle": "2022-08-27T06:03:28.469257Z",
     "shell.execute_reply": "2022-08-27T06:03:28.468712Z"
    },
    "papermill": {
     "duration": 0.090335,
     "end_time": "2022-08-27T06:03:28.470846",
     "exception": false,
     "start_time": "2022-08-27T06:03:28.380511",
     "status": "completed"
    },
    "tags": []
   },
   "outputs": [
    {
     "name": "stdout",
     "output_type": "stream",
     "text": [
      "Number of genes in chromosome: 96\n"
     ]
    }
   ],
   "source": [
    "# run only on the chromosome specified\n",
    "all_chrs = [CHROMOSOME]\n",
    "genes_chr = genes_info[genes_info[\"chr\"] == CHROMOSOME]\n",
    "\n",
    "# For testing purposes\n",
    "# genes_chr = genes_chr.sample(n=20)\n",
    "\n",
    "print(f\"Number of genes in chromosome: {genes_chr.shape[0]}\", flush=True)"
   ]
  },
  {
   "cell_type": "code",
   "execution_count": 26,
   "id": "916015d8-2979-46d3-a9b9-1cf5a0932c6a",
   "metadata": {
    "execution": {
     "iopub.execute_input": "2022-08-27T06:03:28.504369Z",
     "iopub.status.busy": "2022-08-27T06:03:28.504158Z",
     "iopub.status.idle": "2022-08-27T06:03:28.520802Z",
     "shell.execute_reply": "2022-08-27T06:03:28.520309Z"
    },
    "papermill": {
     "duration": 0.036718,
     "end_time": "2022-08-27T06:03:28.522410",
     "exception": false,
     "start_time": "2022-08-27T06:03:28.485692",
     "status": "completed"
    },
    "tags": []
   },
   "outputs": [],
   "source": [
    "# sort genes by starting position to make visualizations better later\n",
    "genes_chr = genes_chr.sort_values(\"start_position\")"
   ]
  },
  {
   "cell_type": "code",
   "execution_count": 27,
   "id": "a38aa74a-8ad3-47f6-8ef9-56be0e011774",
   "metadata": {
    "execution": {
     "iopub.execute_input": "2022-08-27T06:03:28.557962Z",
     "iopub.status.busy": "2022-08-27T06:03:28.557773Z",
     "iopub.status.idle": "2022-08-27T06:03:28.574482Z",
     "shell.execute_reply": "2022-08-27T06:03:28.573933Z"
    },
    "papermill": {
     "duration": 0.035229,
     "end_time": "2022-08-27T06:03:28.576077",
     "exception": false,
     "start_time": "2022-08-27T06:03:28.540848",
     "status": "completed"
    },
    "tags": []
   },
   "outputs": [],
   "source": [
    "gene_chr_objs = [Gene(ensembl_id=gene_id) for gene_id in genes_chr[\"id\"]]"
   ]
  },
  {
   "cell_type": "code",
   "execution_count": 28,
   "id": "570f974f-13c3-42b6-ad3a-ce99ca885c1a",
   "metadata": {
    "execution": {
     "iopub.execute_input": "2022-08-27T06:03:28.622749Z",
     "iopub.status.busy": "2022-08-27T06:03:28.622560Z",
     "iopub.status.idle": "2022-08-27T06:03:28.640616Z",
     "shell.execute_reply": "2022-08-27T06:03:28.640102Z"
    },
    "papermill": {
     "duration": 0.041468,
     "end_time": "2022-08-27T06:03:28.642215",
     "exception": false,
     "start_time": "2022-08-27T06:03:28.600747",
     "status": "completed"
    },
    "tags": []
   },
   "outputs": [
    {
     "name": "stdout",
     "output_type": "stream",
     "text": [
      "Number of gene combinations: 4560\n"
     ]
    }
   ],
   "source": [
    "n = len(gene_chr_objs)\n",
    "n_comb = int(n * (n - 1) / 2.0)\n",
    "print(f\"Number of gene combinations: {n_comb}\", flush=True)"
   ]
  },
  {
   "cell_type": "code",
   "execution_count": 29,
   "id": "cdbb90a1",
   "metadata": {
    "execution": {
     "iopub.execute_input": "2022-08-27T06:03:28.682661Z",
     "iopub.status.busy": "2022-08-27T06:03:28.682473Z",
     "iopub.status.idle": "2022-08-27T06:11:13.121138Z",
     "shell.execute_reply": "2022-08-27T06:11:13.120155Z"
    },
    "papermill": {
     "duration": 464.464205,
     "end_time": "2022-08-27T06:11:13.123611",
     "exception": false,
     "start_time": "2022-08-27T06:03:28.659406",
     "status": "completed"
    },
    "tags": []
   },
   "outputs": [
    {
     "name": "stderr",
     "output_type": "stream",
     "text": [
      "ENSG00000178184 / ENSG00000178184: : 4656it [07:44, 10.03it/s]\n"
     ]
    },
    {
     "data": {
      "text/plain": [
       "PosixPath('/project/ritchie20/projects/phenoplier/base/results/gls/gene_corrs/cohorts/phenomexcan_other/gtex_v8/mashr/by_chr/gene_corrs-chr18.pkl')"
      ]
     },
     "metadata": {},
     "output_type": "display_data"
    }
   ],
   "source": [
    "gene_corrs = []\n",
    "gene_corrs_data = np.full(\n",
    "    (n, n),\n",
    "    np.nan,\n",
    "    dtype=np.float64,\n",
    ")\n",
    "\n",
    "i = 0\n",
    "with tqdm(ncols=100, total=n_comb) as pbar:\n",
    "    for gene1_idx in range(0, len(gene_chr_objs)):\n",
    "        gene1_obj = gene_chr_objs[gene1_idx]\n",
    "        gene1_tissues = spredixcan_genes_models.loc[gene1_obj.ensembl_id, \"tissue\"]\n",
    "\n",
    "        for gene2_idx in range(gene1_idx, len(gene_chr_objs)):\n",
    "            gene2_obj = gene_chr_objs[gene2_idx]\n",
    "            gene2_tissues = spredixcan_genes_models.loc[gene2_obj.ensembl_id, \"tissue\"]\n",
    "\n",
    "            pbar.set_description(f\"{gene1_obj.ensembl_id} / {gene2_obj.ensembl_id}\")\n",
    "\n",
    "            try:\n",
    "                r = gene1_obj.get_ssm_correlation(\n",
    "                    other_gene=gene2_obj,\n",
    "                    tissues=gene1_tissues,\n",
    "                    other_tissues=gene2_tissues,\n",
    "                    snps_subset=gwas_variants_ids_set,\n",
    "                    condition_number=SMULTIXCAN_CONDITION_NUMBER,\n",
    "                    reference_panel=REFERENCE_PANEL,\n",
    "                    model_type=EQTL_MODEL,\n",
    "                    use_within_distance=COMPUTE_CORRELATIONS_WITHIN_DISTANCE,\n",
    "                )\n",
    "\n",
    "                if r is None:\n",
    "                    # if r is None, it's very likely because:\n",
    "                    #  * one of the genes has no prediction models\n",
    "                    #  * all the SNPs predictors for the gene are not present in the reference\n",
    "                    #    panel\n",
    "\n",
    "                    r = 0.0\n",
    "\n",
    "                gene_corrs.append(r)\n",
    "\n",
    "                gene_corrs_data[gene1_idx, gene2_idx] = r\n",
    "                gene_corrs_data[gene2_idx, gene1_idx] = r\n",
    "            except Warning as e:\n",
    "                if not DEBUG_MODE:\n",
    "                    raise e\n",
    "\n",
    "                print(\n",
    "                    f\"RuntimeWarning for genes {gene1_obj.ensembl_id} and {gene2_obj.ensembl_id}\",\n",
    "                    flush=True,\n",
    "                )\n",
    "                print(traceback.format_exc(), flush=True)\n",
    "\n",
    "                gene_corrs.append(np.nan)\n",
    "            except Exception as e:\n",
    "                if not DEBUG_MODE:\n",
    "                    raise e\n",
    "\n",
    "                print(\n",
    "                    f\"Exception for genes {gene1_obj.ensembl_id} and {gene2_obj.ensembl_id}\",\n",
    "                    flush=True,\n",
    "                )\n",
    "                print(traceback.format_exc(), flush=True)\n",
    "\n",
    "                gene_corrs.append(np.nan)\n",
    "\n",
    "            pbar.update(1)\n",
    "\n",
    "# create a pandas series\n",
    "gene_corrs_flat = pd.Series(gene_corrs)\n",
    "\n",
    "# save\n",
    "# FIXME: consider saving only the condenced matrix here. See here for\n",
    "# more details: https://github.com/greenelab/phenoplier/pull/38#discussion_r634600813\n",
    "# gene_corrs_data = squareform(np.array(gene_corrs, dtype=np.float64))\n",
    "# np.fill_diagonal(gene_corrs_data, 1.0)\n",
    "\n",
    "gene_chr_ids = [g.ensembl_id for g in gene_chr_objs]\n",
    "gene_corrs_df = pd.DataFrame(\n",
    "    data=gene_corrs_data,\n",
    "    index=gene_chr_ids,\n",
    "    columns=gene_chr_ids,\n",
    ")\n",
    "\n",
    "output_dir.mkdir(exist_ok=True, parents=True)\n",
    "display(output_file)\n",
    "\n",
    "gene_corrs_df.to_pickle(output_file)"
   ]
  },
  {
   "cell_type": "markdown",
   "id": "faa67b51-5373-470f-aa72-2ded53fa6dfe",
   "metadata": {
    "papermill": {
     "duration": 0.306604,
     "end_time": "2022-08-27T06:11:13.719215",
     "exception": false,
     "start_time": "2022-08-27T06:11:13.412611",
     "status": "completed"
    },
    "tags": []
   },
   "source": [
    "# Testing"
   ]
  },
  {
   "cell_type": "code",
   "execution_count": 30,
   "id": "14f7d046-4b55-4896-a56b-990127bcc388",
   "metadata": {
    "execution": {
     "iopub.execute_input": "2022-08-27T06:11:14.279966Z",
     "iopub.status.busy": "2022-08-27T06:11:14.279691Z",
     "iopub.status.idle": "2022-08-27T06:11:14.510994Z",
     "shell.execute_reply": "2022-08-27T06:11:14.510484Z"
    },
    "papermill": {
     "duration": 0.512634,
     "end_time": "2022-08-27T06:11:14.512495",
     "exception": false,
     "start_time": "2022-08-27T06:11:13.999861",
     "status": "completed"
    },
    "tags": []
   },
   "outputs": [
    {
     "data": {
      "text/plain": [
       "(96, 96)"
      ]
     },
     "execution_count": 30,
     "metadata": {},
     "output_type": "execute_result"
    }
   ],
   "source": [
    "gene_corrs_df.shape"
   ]
  },
  {
   "cell_type": "code",
   "execution_count": 31,
   "id": "c7d15414-3297-4537-a7c6-7588c0baeb75",
   "metadata": {
    "execution": {
     "iopub.execute_input": "2022-08-27T06:11:15.089874Z",
     "iopub.status.busy": "2022-08-27T06:11:15.089609Z",
     "iopub.status.idle": "2022-08-27T06:11:15.125142Z",
     "shell.execute_reply": "2022-08-27T06:11:15.124617Z"
    },
    "papermill": {
     "duration": 0.323126,
     "end_time": "2022-08-27T06:11:15.126633",
     "exception": false,
     "start_time": "2022-08-27T06:11:14.803507",
     "status": "completed"
    },
    "tags": []
   },
   "outputs": [
    {
     "data": {
      "text/html": [
       "<div>\n",
       "<style scoped>\n",
       "    .dataframe tbody tr th:only-of-type {\n",
       "        vertical-align: middle;\n",
       "    }\n",
       "\n",
       "    .dataframe tbody tr th {\n",
       "        vertical-align: top;\n",
       "    }\n",
       "\n",
       "    .dataframe thead th {\n",
       "        text-align: right;\n",
       "    }\n",
       "</style>\n",
       "<table border=\"1\" class=\"dataframe\">\n",
       "  <thead>\n",
       "    <tr style=\"text-align: right;\">\n",
       "      <th></th>\n",
       "      <th>ENSG00000079134</th>\n",
       "      <th>ENSG00000158270</th>\n",
       "      <th>ENSG00000176890</th>\n",
       "      <th>ENSG00000176105</th>\n",
       "      <th>ENSG00000080986</th>\n",
       "      <th>ENSG00000132205</th>\n",
       "      <th>ENSG00000101577</th>\n",
       "      <th>ENSG00000101608</th>\n",
       "      <th>ENSG00000118680</th>\n",
       "      <th>ENSG00000177426</th>\n",
       "      <th>...</th>\n",
       "      <th>ENSG00000166347</th>\n",
       "      <th>ENSG00000133313</th>\n",
       "      <th>ENSG00000166573</th>\n",
       "      <th>ENSG00000166377</th>\n",
       "      <th>ENSG00000131196</th>\n",
       "      <th>ENSG00000060069</th>\n",
       "      <th>ENSG00000178342</th>\n",
       "      <th>ENSG00000122490</th>\n",
       "      <th>ENSG00000141759</th>\n",
       "      <th>ENSG00000178184</th>\n",
       "    </tr>\n",
       "  </thead>\n",
       "  <tbody>\n",
       "    <tr>\n",
       "      <th>ENSG00000079134</th>\n",
       "      <td>1.000000</td>\n",
       "      <td>0.029268</td>\n",
       "      <td>0.014530</td>\n",
       "      <td>0.005950</td>\n",
       "      <td>0.005183</td>\n",
       "      <td>0.011772</td>\n",
       "      <td>0.009002</td>\n",
       "      <td>0.009353</td>\n",
       "      <td>0.008110</td>\n",
       "      <td>0.010012</td>\n",
       "      <td>...</td>\n",
       "      <td>0.008880</td>\n",
       "      <td>0.007215</td>\n",
       "      <td>0.007683</td>\n",
       "      <td>0.010323</td>\n",
       "      <td>0.013048</td>\n",
       "      <td>0.005111</td>\n",
       "      <td>0.010722</td>\n",
       "      <td>0.014961</td>\n",
       "      <td>0.009157</td>\n",
       "      <td>0.006702</td>\n",
       "    </tr>\n",
       "    <tr>\n",
       "      <th>ENSG00000158270</th>\n",
       "      <td>0.029268</td>\n",
       "      <td>1.000000</td>\n",
       "      <td>0.018172</td>\n",
       "      <td>0.012277</td>\n",
       "      <td>0.009597</td>\n",
       "      <td>0.014609</td>\n",
       "      <td>0.015734</td>\n",
       "      <td>0.010912</td>\n",
       "      <td>0.009845</td>\n",
       "      <td>0.012734</td>\n",
       "      <td>...</td>\n",
       "      <td>0.011265</td>\n",
       "      <td>0.007532</td>\n",
       "      <td>0.009009</td>\n",
       "      <td>0.011652</td>\n",
       "      <td>0.010398</td>\n",
       "      <td>0.008813</td>\n",
       "      <td>0.011256</td>\n",
       "      <td>0.016015</td>\n",
       "      <td>0.013574</td>\n",
       "      <td>0.013947</td>\n",
       "    </tr>\n",
       "    <tr>\n",
       "      <th>ENSG00000176890</th>\n",
       "      <td>0.014530</td>\n",
       "      <td>0.018172</td>\n",
       "      <td>1.000000</td>\n",
       "      <td>0.146130</td>\n",
       "      <td>0.014352</td>\n",
       "      <td>0.013612</td>\n",
       "      <td>0.013636</td>\n",
       "      <td>0.009174</td>\n",
       "      <td>0.009741</td>\n",
       "      <td>0.009155</td>\n",
       "      <td>...</td>\n",
       "      <td>0.010110</td>\n",
       "      <td>0.009503</td>\n",
       "      <td>0.010159</td>\n",
       "      <td>0.005894</td>\n",
       "      <td>0.011967</td>\n",
       "      <td>0.007656</td>\n",
       "      <td>0.012707</td>\n",
       "      <td>0.012915</td>\n",
       "      <td>0.012844</td>\n",
       "      <td>0.009830</td>\n",
       "    </tr>\n",
       "    <tr>\n",
       "      <th>ENSG00000176105</th>\n",
       "      <td>0.005950</td>\n",
       "      <td>0.012277</td>\n",
       "      <td>0.146130</td>\n",
       "      <td>1.000000</td>\n",
       "      <td>0.006168</td>\n",
       "      <td>0.003886</td>\n",
       "      <td>0.007149</td>\n",
       "      <td>0.005115</td>\n",
       "      <td>0.003666</td>\n",
       "      <td>0.009098</td>\n",
       "      <td>...</td>\n",
       "      <td>0.004427</td>\n",
       "      <td>0.006388</td>\n",
       "      <td>0.005225</td>\n",
       "      <td>0.006264</td>\n",
       "      <td>0.006956</td>\n",
       "      <td>0.009834</td>\n",
       "      <td>0.009986</td>\n",
       "      <td>0.007490</td>\n",
       "      <td>0.004749</td>\n",
       "      <td>0.005926</td>\n",
       "    </tr>\n",
       "    <tr>\n",
       "      <th>ENSG00000080986</th>\n",
       "      <td>0.005183</td>\n",
       "      <td>0.009597</td>\n",
       "      <td>0.014352</td>\n",
       "      <td>0.006168</td>\n",
       "      <td>1.000000</td>\n",
       "      <td>0.015926</td>\n",
       "      <td>0.015374</td>\n",
       "      <td>0.005943</td>\n",
       "      <td>0.008231</td>\n",
       "      <td>0.004584</td>\n",
       "      <td>...</td>\n",
       "      <td>0.007127</td>\n",
       "      <td>0.005498</td>\n",
       "      <td>0.010306</td>\n",
       "      <td>0.004781</td>\n",
       "      <td>0.008183</td>\n",
       "      <td>0.006147</td>\n",
       "      <td>0.009669</td>\n",
       "      <td>0.007775</td>\n",
       "      <td>0.005870</td>\n",
       "      <td>0.003833</td>\n",
       "    </tr>\n",
       "  </tbody>\n",
       "</table>\n",
       "<p>5 rows × 96 columns</p>\n",
       "</div>"
      ],
      "text/plain": [
       "                 ENSG00000079134  ENSG00000158270  ENSG00000176890  \\\n",
       "ENSG00000079134         1.000000         0.029268         0.014530   \n",
       "ENSG00000158270         0.029268         1.000000         0.018172   \n",
       "ENSG00000176890         0.014530         0.018172         1.000000   \n",
       "ENSG00000176105         0.005950         0.012277         0.146130   \n",
       "ENSG00000080986         0.005183         0.009597         0.014352   \n",
       "\n",
       "                 ENSG00000176105  ENSG00000080986  ENSG00000132205  \\\n",
       "ENSG00000079134         0.005950         0.005183         0.011772   \n",
       "ENSG00000158270         0.012277         0.009597         0.014609   \n",
       "ENSG00000176890         0.146130         0.014352         0.013612   \n",
       "ENSG00000176105         1.000000         0.006168         0.003886   \n",
       "ENSG00000080986         0.006168         1.000000         0.015926   \n",
       "\n",
       "                 ENSG00000101577  ENSG00000101608  ENSG00000118680  \\\n",
       "ENSG00000079134         0.009002         0.009353         0.008110   \n",
       "ENSG00000158270         0.015734         0.010912         0.009845   \n",
       "ENSG00000176890         0.013636         0.009174         0.009741   \n",
       "ENSG00000176105         0.007149         0.005115         0.003666   \n",
       "ENSG00000080986         0.015374         0.005943         0.008231   \n",
       "\n",
       "                 ENSG00000177426  ...  ENSG00000166347  ENSG00000133313  \\\n",
       "ENSG00000079134         0.010012  ...         0.008880         0.007215   \n",
       "ENSG00000158270         0.012734  ...         0.011265         0.007532   \n",
       "ENSG00000176890         0.009155  ...         0.010110         0.009503   \n",
       "ENSG00000176105         0.009098  ...         0.004427         0.006388   \n",
       "ENSG00000080986         0.004584  ...         0.007127         0.005498   \n",
       "\n",
       "                 ENSG00000166573  ENSG00000166377  ENSG00000131196  \\\n",
       "ENSG00000079134         0.007683         0.010323         0.013048   \n",
       "ENSG00000158270         0.009009         0.011652         0.010398   \n",
       "ENSG00000176890         0.010159         0.005894         0.011967   \n",
       "ENSG00000176105         0.005225         0.006264         0.006956   \n",
       "ENSG00000080986         0.010306         0.004781         0.008183   \n",
       "\n",
       "                 ENSG00000060069  ENSG00000178342  ENSG00000122490  \\\n",
       "ENSG00000079134         0.005111         0.010722         0.014961   \n",
       "ENSG00000158270         0.008813         0.011256         0.016015   \n",
       "ENSG00000176890         0.007656         0.012707         0.012915   \n",
       "ENSG00000176105         0.009834         0.009986         0.007490   \n",
       "ENSG00000080986         0.006147         0.009669         0.007775   \n",
       "\n",
       "                 ENSG00000141759  ENSG00000178184  \n",
       "ENSG00000079134         0.009157         0.006702  \n",
       "ENSG00000158270         0.013574         0.013947  \n",
       "ENSG00000176890         0.012844         0.009830  \n",
       "ENSG00000176105         0.004749         0.005926  \n",
       "ENSG00000080986         0.005870         0.003833  \n",
       "\n",
       "[5 rows x 96 columns]"
      ]
     },
     "execution_count": 31,
     "metadata": {},
     "output_type": "execute_result"
    }
   ],
   "source": [
    "gene_corrs_df.head()"
   ]
  },
  {
   "cell_type": "markdown",
   "id": "dad6603f-01c6-41fb-a6f6-241051207dd8",
   "metadata": {
    "papermill": {
     "duration": 0.30436,
     "end_time": "2022-08-27T06:11:15.712873",
     "exception": false,
     "start_time": "2022-08-27T06:11:15.408513",
     "status": "completed"
    },
    "tags": []
   },
   "source": [
    "## Standard checks and stats"
   ]
  },
  {
   "cell_type": "code",
   "execution_count": 32,
   "id": "286686af-1b7b-4440-8453-6bdcbd8de19c",
   "metadata": {
    "execution": {
     "iopub.execute_input": "2022-08-27T06:11:16.283908Z",
     "iopub.status.busy": "2022-08-27T06:11:16.283643Z",
     "iopub.status.idle": "2022-08-27T06:11:16.303905Z",
     "shell.execute_reply": "2022-08-27T06:11:16.303392Z"
    },
    "papermill": {
     "duration": 0.310815,
     "end_time": "2022-08-27T06:11:16.305617",
     "exception": false,
     "start_time": "2022-08-27T06:11:15.994802",
     "status": "completed"
    },
    "tags": []
   },
   "outputs": [],
   "source": [
    "assert not gene_corrs_df.isna().any().any()"
   ]
  },
  {
   "cell_type": "code",
   "execution_count": 33,
   "id": "00583efc-7068-4270-ad1e-4a418e91db96",
   "metadata": {
    "execution": {
     "iopub.execute_input": "2022-08-27T06:11:16.913574Z",
     "iopub.status.busy": "2022-08-27T06:11:16.913309Z",
     "iopub.status.idle": "2022-08-27T06:11:16.935406Z",
     "shell.execute_reply": "2022-08-27T06:11:16.934885Z"
    },
    "papermill": {
     "duration": 0.311416,
     "end_time": "2022-08-27T06:11:16.936906",
     "exception": false,
     "start_time": "2022-08-27T06:11:16.625490",
     "status": "completed"
    },
    "tags": []
   },
   "outputs": [
    {
     "data": {
      "text/plain": [
       "6.96108975641094e-07"
      ]
     },
     "metadata": {},
     "output_type": "display_data"
    }
   ],
   "source": [
    "_min_val = gene_corrs_df.min().min()\n",
    "display(_min_val)\n",
    "assert _min_val >= -0.05"
   ]
  },
  {
   "cell_type": "code",
   "execution_count": 34,
   "id": "d04fb2cf-1050-475b-b855-f5f7cc04092b",
   "metadata": {
    "execution": {
     "iopub.execute_input": "2022-08-27T06:11:17.526732Z",
     "iopub.status.busy": "2022-08-27T06:11:17.526464Z",
     "iopub.status.idle": "2022-08-27T06:11:17.548822Z",
     "shell.execute_reply": "2022-08-27T06:11:17.548308Z"
    },
    "papermill": {
     "duration": 0.331796,
     "end_time": "2022-08-27T06:11:17.550319",
     "exception": false,
     "start_time": "2022-08-27T06:11:17.218523",
     "status": "completed"
    },
    "tags": []
   },
   "outputs": [
    {
     "data": {
      "text/plain": [
       "1.0000000000000024"
      ]
     },
     "metadata": {},
     "output_type": "display_data"
    }
   ],
   "source": [
    "_max_val = gene_corrs_df.max().max()  # this captures the diagonal\n",
    "display(_max_val)\n",
    "assert _max_val <= 1.05"
   ]
  },
  {
   "cell_type": "code",
   "execution_count": 35,
   "id": "96d02c44-1fba-47be-8a93-8f2608420b9c",
   "metadata": {
    "execution": {
     "iopub.execute_input": "2022-08-27T06:11:18.099275Z",
     "iopub.status.busy": "2022-08-27T06:11:18.099028Z",
     "iopub.status.idle": "2022-08-27T06:11:18.117714Z",
     "shell.execute_reply": "2022-08-27T06:11:18.117204Z"
    },
    "papermill": {
     "duration": 0.286073,
     "end_time": "2022-08-27T06:11:18.119315",
     "exception": false,
     "start_time": "2022-08-27T06:11:17.833242",
     "status": "completed"
    },
    "tags": []
   },
   "outputs": [],
   "source": [
    "# check upper triangular values\n",
    "# assert len(gene_corrs) == int(genes_chr.shape[0] * (genes_chr.shape[0] - 1) / 2)"
   ]
  },
  {
   "cell_type": "code",
   "execution_count": 36,
   "id": "fe283586-c348-40e0-8841-f6d97bfb021c",
   "metadata": {
    "execution": {
     "iopub.execute_input": "2022-08-27T06:11:18.703459Z",
     "iopub.status.busy": "2022-08-27T06:11:18.703194Z",
     "iopub.status.idle": "2022-08-27T06:11:18.727271Z",
     "shell.execute_reply": "2022-08-27T06:11:18.726746Z"
    },
    "papermill": {
     "duration": 0.329464,
     "end_time": "2022-08-27T06:11:18.728771",
     "exception": false,
     "start_time": "2022-08-27T06:11:18.399307",
     "status": "completed"
    },
    "tags": []
   },
   "outputs": [
    {
     "data": {
      "text/plain": [
       "count    4.656000e+03\n",
       "mean     2.949084e-02\n",
       "std      1.425487e-01\n",
       "min      6.961090e-07\n",
       "25%      5.042826e-03\n",
       "50%      7.203696e-03\n",
       "75%      9.688056e-03\n",
       "max      1.000000e+00\n",
       "dtype: float64"
      ]
     },
     "execution_count": 36,
     "metadata": {},
     "output_type": "execute_result"
    }
   ],
   "source": [
    "gene_corrs_flat.describe()"
   ]
  },
  {
   "cell_type": "code",
   "execution_count": 37,
   "id": "b3815678-0f93-4b35-897b-a9d047a2aa78",
   "metadata": {
    "execution": {
     "iopub.execute_input": "2022-08-27T06:11:19.289718Z",
     "iopub.status.busy": "2022-08-27T06:11:19.289464Z",
     "iopub.status.idle": "2022-08-27T06:11:19.312649Z",
     "shell.execute_reply": "2022-08-27T06:11:19.312134Z"
    },
    "papermill": {
     "duration": 0.30456,
     "end_time": "2022-08-27T06:11:19.314146",
     "exception": false,
     "start_time": "2022-08-27T06:11:19.009586",
     "status": "completed"
    },
    "tags": []
   },
   "outputs": [
    {
     "data": {
      "text/plain": [
       "0.00    6.961090e-07\n",
       "0.05    2.378881e-03\n",
       "0.10    3.330784e-03\n",
       "0.15    3.967585e-03\n",
       "0.20    4.543768e-03\n",
       "0.25    5.042826e-03\n",
       "0.30    5.451876e-03\n",
       "0.35    5.894837e-03\n",
       "0.40    6.301033e-03\n",
       "0.45    6.768017e-03\n",
       "0.50    7.203696e-03\n",
       "0.55    7.634825e-03\n",
       "0.60    8.110246e-03\n",
       "0.65    8.575707e-03\n",
       "0.70    9.110812e-03\n",
       "0.75    9.688056e-03\n",
       "0.80    1.033229e-02\n",
       "0.85    1.120390e-02\n",
       "0.90    1.235329e-02\n",
       "0.95    1.465140e-02\n",
       "dtype: float64"
      ]
     },
     "metadata": {},
     "output_type": "display_data"
    }
   ],
   "source": [
    "gene_corrs_quantiles = gene_corrs_flat.quantile(np.arange(0, 1, 0.05))\n",
    "display(gene_corrs_quantiles)"
   ]
  },
  {
   "cell_type": "markdown",
   "id": "87134509-b145-4a10-8bc9-b7e914c2b0fa",
   "metadata": {
    "papermill": {
     "duration": 0.279246,
     "end_time": "2022-08-27T06:11:19.895403",
     "exception": false,
     "start_time": "2022-08-27T06:11:19.616157",
     "status": "completed"
    },
    "tags": []
   },
   "source": [
    "## Positive definiteness"
   ]
  },
  {
   "cell_type": "code",
   "execution_count": 38,
   "id": "07d9a9a1-a4f7-48aa-b916-6d42a8cc6186",
   "metadata": {
    "execution": {
     "iopub.execute_input": "2022-08-27T06:11:20.480154Z",
     "iopub.status.busy": "2022-08-27T06:11:20.479884Z",
     "iopub.status.idle": "2022-08-27T06:11:20.505057Z",
     "shell.execute_reply": "2022-08-27T06:11:20.504534Z"
    },
    "papermill": {
     "duration": 0.331654,
     "end_time": "2022-08-27T06:11:20.506554",
     "exception": false,
     "start_time": "2022-08-27T06:11:20.174900",
     "status": "completed"
    },
    "tags": []
   },
   "outputs": [
    {
     "data": {
      "text/plain": [
       "0"
      ]
     },
     "metadata": {},
     "output_type": "display_data"
    },
    {
     "data": {
      "text/plain": [
       "array([], dtype=float64)"
      ]
     },
     "metadata": {},
     "output_type": "display_data"
    }
   ],
   "source": [
    "# print negative eigenvalues\n",
    "eigs = np.linalg.eigvals(gene_corrs_df.to_numpy())\n",
    "display(len(eigs[eigs < 0]))\n",
    "display(eigs[eigs < 0])"
   ]
  },
  {
   "cell_type": "code",
   "execution_count": 39,
   "id": "6e218436-c3c5-4028-8c94-a4fa6260efce",
   "metadata": {
    "execution": {
     "iopub.execute_input": "2022-08-27T06:11:21.046637Z",
     "iopub.status.busy": "2022-08-27T06:11:21.046380Z",
     "iopub.status.idle": "2022-08-27T06:11:21.068600Z",
     "shell.execute_reply": "2022-08-27T06:11:21.068062Z"
    },
    "papermill": {
     "duration": 0.295806,
     "end_time": "2022-08-27T06:11:21.070143",
     "exception": false,
     "start_time": "2022-08-27T06:11:20.774337",
     "status": "completed"
    },
    "tags": []
   },
   "outputs": [
    {
     "name": "stdout",
     "output_type": "stream",
     "text": [
      "Works!\n"
     ]
    }
   ],
   "source": [
    "try:\n",
    "    chol_mat = np.linalg.cholesky(gene_corrs_df.to_numpy())\n",
    "    cov_inv = np.linalg.inv(chol_mat)\n",
    "    print(\"Works!\")\n",
    "except Exception as e:\n",
    "    print(f\"Cholesky decomposition failed: {str(e)}\")"
   ]
  },
  {
   "cell_type": "code",
   "execution_count": 40,
   "id": "dd8827fb-faf9-4c7c-9454-015e94752706",
   "metadata": {
    "execution": {
     "iopub.execute_input": "2022-08-27T06:11:21.666434Z",
     "iopub.status.busy": "2022-08-27T06:11:21.666154Z",
     "iopub.status.idle": "2022-08-27T06:11:21.687622Z",
     "shell.execute_reply": "2022-08-27T06:11:21.687101Z"
    },
    "papermill": {
     "duration": 0.307297,
     "end_time": "2022-08-27T06:11:21.689124",
     "exception": false,
     "start_time": "2022-08-27T06:11:21.381827",
     "status": "completed"
    },
    "tags": []
   },
   "outputs": [
    {
     "name": "stdout",
     "output_type": "stream",
     "text": [
      "Works!\n"
     ]
    }
   ],
   "source": [
    "try:\n",
    "    # decomposition used by statsmodels.GLS\n",
    "    cholsigmainv = np.linalg.cholesky(np.linalg.inv(gene_corrs_df.to_numpy())).T\n",
    "    print(\"Works!\")\n",
    "except Exception as e:\n",
    "    print(f\"Cholesky decomposition failed (statsmodels.GLS): {str(e)}\")"
   ]
  },
  {
   "cell_type": "markdown",
   "id": "8e60a080-edb2-4e9c-b2ef-22961693200c",
   "metadata": {
    "papermill": {
     "duration": 0.304337,
     "end_time": "2022-08-27T06:11:22.274052",
     "exception": false,
     "start_time": "2022-08-27T06:11:21.969715",
     "status": "completed"
    },
    "tags": []
   },
   "source": [
    "## Plot: distribution"
   ]
  },
  {
   "cell_type": "code",
   "execution_count": 41,
   "id": "8301126b-a7d4-4744-9c7d-f0f86eb6f54c",
   "metadata": {
    "execution": {
     "iopub.execute_input": "2022-08-27T06:11:22.832871Z",
     "iopub.status.busy": "2022-08-27T06:11:22.832606Z",
     "iopub.status.idle": "2022-08-27T06:11:26.772589Z",
     "shell.execute_reply": "2022-08-27T06:11:26.772067Z"
    },
    "papermill": {
     "duration": 4.222358,
     "end_time": "2022-08-27T06:11:26.774207",
     "exception": false,
     "start_time": "2022-08-27T06:11:22.551849",
     "status": "completed"
    },
    "tags": []
   },
   "outputs": [
    {
     "data": {
      "image/png": "[encoded data removed]",
      "text/plain": [
       "<Figure size 504x504 with 1 Axes>"
      ]
     },
     "metadata": {
      "needs_background": "light"
     },
     "output_type": "display_data"
    }
   ],
   "source": [
    "with sns.plotting_context(\"paper\", font_scale=1.5):\n",
    "    g = sns.displot(gene_corrs_flat, kde=True, height=7)\n",
    "    g.ax.set_title(\n",
    "        f\"Distribution of gene correlation values in chromosome {CHROMOSOME}\"\n",
    "    )"
   ]
  },
  {
   "cell_type": "markdown",
   "id": "cbd52bca-d878-4a2f-b684-5c83aa3038d4",
   "metadata": {
    "papermill": {
     "duration": 0.280083,
     "end_time": "2022-08-27T06:11:27.345826",
     "exception": false,
     "start_time": "2022-08-27T06:11:27.065743",
     "status": "completed"
    },
    "tags": []
   },
   "source": [
    "## Plot: heatmap"
   ]
  },
  {
   "cell_type": "code",
   "execution_count": 42,
   "id": "d03fe63a-c7b2-4fb9-a53c-db362ce843c9",
   "metadata": {
    "execution": {
     "iopub.execute_input": "2022-08-27T06:11:27.929977Z",
     "iopub.status.busy": "2022-08-27T06:11:27.929711Z",
     "iopub.status.idle": "2022-08-27T06:11:27.958243Z",
     "shell.execute_reply": "2022-08-27T06:11:27.957723Z"
    },
    "papermill": {
     "duration": 0.334081,
     "end_time": "2022-08-27T06:11:27.959724",
     "exception": false,
     "start_time": "2022-08-27T06:11:27.625643",
     "status": "completed"
    },
    "tags": []
   },
   "outputs": [
    {
     "data": {
      "text/plain": [
       "'0.0 / 0.05'"
      ]
     },
     "metadata": {},
     "output_type": "display_data"
    }
   ],
   "source": [
    "vmin_val = min(0.00, gene_corrs_quantiles[0.10])\n",
    "vmax_val = max(0.05, gene_corrs_quantiles[0.90])\n",
    "display(f\"{vmin_val} / {vmax_val}\")"
   ]
  },
  {
   "cell_type": "code",
   "execution_count": 43,
   "id": "dc41b70b-5bcc-4d9e-9f33-a22c4a94dab5",
   "metadata": {
    "execution": {
     "iopub.execute_input": "2022-08-27T06:11:28.524039Z",
     "iopub.status.busy": "2022-08-27T06:11:28.523778Z",
     "iopub.status.idle": "2022-08-27T06:11:28.676887Z",
     "shell.execute_reply": "2022-08-27T06:11:28.676366Z"
    },
    "papermill": {
     "duration": 0.434717,
     "end_time": "2022-08-27T06:11:28.678511",
     "exception": false,
     "start_time": "2022-08-27T06:11:28.243794",
     "status": "completed"
    },
    "tags": []
   },
   "outputs": [
    {
     "data": {
      "text/plain": [
       "Text(0.5, 1.0, 'Gene correlations in chromosome 18')"
      ]
     },
     "execution_count": 43,
     "metadata": {},
     "output_type": "execute_result"
    },
    {
     "data": {
      "image/png": "[encoded data removed]",
      "text/plain": [
       "<Figure size 720x720 with 2 Axes>"
      ]
     },
     "metadata": {
      "needs_background": "light"
     },
     "output_type": "display_data"
    }
   ],
   "source": [
    "f, ax = plt.subplots(figsize=(10, 10))\n",
    "sns.heatmap(\n",
    "    gene_corrs_df,\n",
    "    xticklabels=False,\n",
    "    yticklabels=False,\n",
    "    square=True,\n",
    "    vmin=vmin_val,\n",
    "    vmax=vmax_val,\n",
    "    cmap=\"rocket_r\",\n",
    "    ax=ax,\n",
    ")\n",
    "ax.set_title(f\"Gene correlations in chromosome {CHROMOSOME}\")"
   ]
  },
  {
   "cell_type": "code",
   "execution_count": null,
   "id": "b25e3ead",
   "metadata": {
    "papermill": {
     "duration": 0.316745,
     "end_time": "2022-08-27T06:11:29.284475",
     "exception": false,
     "start_time": "2022-08-27T06:11:28.967730",
     "status": "completed"
    },
    "tags": []
   },
   "outputs": [],
   "source": []
  }
 ],
 "metadata": {
  "jupytext": {
   "cell_metadata_filter": "all,-execution,-papermill,-trusted",
   "formats": "ipynb,py//py:percent"
  },
  "kernelspec": {
   "display_name": "Python 3 (ipykernel)",
   "language": "python",
   "name": "python3"
  },
  "language_info": {
   "codemirror_mode": {
    "name": "ipython",
    "version": 3
   },
   "file_extension": ".py",
   "mimetype": "text/x-python",
   "name": "python",
   "nbconvert_exporter": "python",
   "pygments_lexer": "ipython3",
   "version": "3.8.13"
  },
  "papermill": {
   "default_parameters": {},
   "duration": 495.868081,
   "end_time": "2022-08-27T06:11:32.592160",
   "environment_variables": {},
   "exception": null,
   "input_path": "nbs/15_gsa_gls/10-gene_expr_correlations.ipynb",
   "output_path": "nbs/15_gsa_gls/gene_corrs/cohorts/phenomexcan_other/gtex_v8/mashr/10-gene_expr_corrs/10-gene_expr_correlations-chr18.run.ipynb",
   "parameters": {
    "CHROMOSOME": 18,
    "COHORT_NAME": "phenomexcan_other",
    "EQTL_MODEL": "MASHR",
    "REFERENCE_PANEL": "GTEX_V8"
   },
   "start_time": "2022-08-27T06:03:16.724079",
   "version": "2.2.2"
  }
 },
 "nbformat": 4,
 "nbformat_minor": 5
}
