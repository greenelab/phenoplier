{
 "cells": [
  {
   "cell_type": "markdown",
   "id": "7a6632fb",
   "metadata": {
    "papermill": {
     "duration": 0.02062,
     "end_time": "2022-08-27T06:03:18.136709",
     "exception": false,
     "start_time": "2022-08-27T06:03:18.116089",
     "status": "completed"
    },
    "tags": []
   },
   "source": [
    "# Description"
   ]
  },
  {
   "cell_type": "markdown",
   "id": "7097c346",
   "metadata": {
    "papermill": {
     "duration": 0.0151,
     "end_time": "2022-08-27T06:03:18.169442",
     "exception": false,
     "start_time": "2022-08-27T06:03:18.154342",
     "status": "completed"
    },
    "tags": []
   },
   "source": [
    "(Please, take a look at the README.md file in this directory for instructions on how to run this notebook)\n",
    "\n",
    "This notebook computes predicted expression correlations between all genes in the MultiPLIER models.\n",
    "\n",
    "It also has a parameter set for papermill to run on a single chromosome to run in parallel (see under `Settings` below).\n",
    "\n",
    "This notebook is not directly run. See README.md."
   ]
  },
  {
   "cell_type": "markdown",
   "id": "c61d8427",
   "metadata": {
    "papermill": {
     "duration": 0.013,
     "end_time": "2022-08-27T06:03:18.196611",
     "exception": false,
     "start_time": "2022-08-27T06:03:18.183611",
     "status": "completed"
    },
    "tags": []
   },
   "source": [
    "# Modules"
   ]
  },
  {
   "cell_type": "code",
   "execution_count": 1,
   "id": "bbc0234f",
   "metadata": {
    "execution": {
     "iopub.execute_input": "2022-08-27T06:03:18.222505Z",
     "iopub.status.busy": "2022-08-27T06:03:18.222150Z",
     "iopub.status.idle": "2022-08-27T06:03:18.246898Z",
     "shell.execute_reply": "2022-08-27T06:03:18.246211Z"
    },
    "papermill": {
     "duration": 0.041283,
     "end_time": "2022-08-27T06:03:18.250292",
     "exception": false,
     "start_time": "2022-08-27T06:03:18.209009",
     "status": "completed"
    },
    "tags": []
   },
   "outputs": [],
   "source": [
    "%load_ext autoreload\n",
    "%autoreload 2"
   ]
  },
  {
   "cell_type": "code",
   "execution_count": 2,
   "id": "1d5f5a59",
   "metadata": {
    "execution": {
     "iopub.execute_input": "2022-08-27T06:03:18.275229Z",
     "iopub.status.busy": "2022-08-27T06:03:18.274966Z",
     "iopub.status.idle": "2022-08-27T06:03:20.017422Z",
     "shell.execute_reply": "2022-08-27T06:03:20.016765Z"
    },
    "papermill": {
     "duration": 1.75758,
     "end_time": "2022-08-27T06:03:20.019522",
     "exception": false,
     "start_time": "2022-08-27T06:03:18.261942",
     "status": "completed"
    },
    "tags": []
   },
   "outputs": [],
   "source": [
    "from random import sample, seed\n",
    "import warnings\n",
    "from pathlib import Path\n",
    "import pickle\n",
    "import traceback\n",
    "\n",
    "import numpy as np\n",
    "from scipy.spatial.distance import squareform\n",
    "import pandas as pd\n",
    "from tqdm import tqdm\n",
    "import matplotlib.pyplot as plt\n",
    "import seaborn as sns\n",
    "\n",
    "import conf\n",
    "from entity import Gene"
   ]
  },
  {
   "cell_type": "markdown",
   "id": "1eac24b5",
   "metadata": {
    "papermill": {
     "duration": 0.00946,
     "end_time": "2022-08-27T06:03:20.074387",
     "exception": false,
     "start_time": "2022-08-27T06:03:20.064927",
     "status": "completed"
    },
    "tags": []
   },
   "source": [
    "# Settings"
   ]
  },
  {
   "cell_type": "code",
   "execution_count": 3,
   "id": "ca4560ba",
   "metadata": {
    "execution": {
     "iopub.execute_input": "2022-08-27T06:03:20.093891Z",
     "iopub.status.busy": "2022-08-27T06:03:20.093619Z",
     "iopub.status.idle": "2022-08-27T06:03:20.113482Z",
     "shell.execute_reply": "2022-08-27T06:03:20.112939Z"
    },
    "papermill": {
     "duration": 0.032058,
     "end_time": "2022-08-27T06:03:20.115113",
     "exception": false,
     "start_time": "2022-08-27T06:03:20.083055",
     "status": "completed"
    },
    "tags": [
     "parameters"
    ]
   },
   "outputs": [],
   "source": [
    "# a cohort name (it could be something like UK_BIOBANK, etc)\n",
    "COHORT_NAME = None\n",
    "\n",
    "# reference panel such as 1000G or GTEX_V8\n",
    "REFERENCE_PANEL = None\n",
    "\n",
    "# predictions models such as MASHR or ELASTIC_NET\n",
    "EQTL_MODEL = None\n",
    "\n",
    "# this is the default value used in S-MultiXcan to select the\n",
    "# top principal components of the expression correlation matrix\n",
    "SMULTIXCAN_CONDITION_NUMBER = 30\n",
    "\n",
    "# specifies a single chromosome value\n",
    "CHROMOSOME = None\n",
    "\n",
    "# If True, computes the correlation between closeby genes only;\n",
    "# otherwise, it computes correlations for all genes in a chromosome\n",
    "COMPUTE_CORRELATIONS_WITHIN_DISTANCE = False\n",
    "\n",
    "# if True, then it will continue if a gene pair correlation fails,\n",
    "# printing the warning/error for debugging. If False, any warning/error\n",
    "# will be thrown\n",
    "DEBUG_MODE = False"
   ]
  },
  {
   "cell_type": "code",
   "execution_count": 4,
   "id": "09e1ceaa",
   "metadata": {
    "execution": {
     "iopub.execute_input": "2022-08-27T06:03:20.141899Z",
     "iopub.status.busy": "2022-08-27T06:03:20.141689Z",
     "iopub.status.idle": "2022-08-27T06:03:20.158394Z",
     "shell.execute_reply": "2022-08-27T06:03:20.157867Z"
    },
    "papermill": {
     "duration": 0.034389,
     "end_time": "2022-08-27T06:03:20.159981",
     "exception": false,
     "start_time": "2022-08-27T06:03:20.125592",
     "status": "completed"
    },
    "tags": [
     "injected-parameters"
    ]
   },
   "outputs": [],
   "source": [
    "# Parameters\n",
    "COHORT_NAME = \"phenomexcan_other\"\n",
    "REFERENCE_PANEL = \"GTEX_V8\"\n",
    "EQTL_MODEL = \"MASHR\"\n",
    "CHROMOSOME = 16\n"
   ]
  },
  {
   "cell_type": "code",
   "execution_count": 5,
   "id": "3190631f-27fc-480f-b18e-571d580425a5",
   "metadata": {
    "execution": {
     "iopub.execute_input": "2022-08-27T06:03:20.194341Z",
     "iopub.status.busy": "2022-08-27T06:03:20.194125Z",
     "iopub.status.idle": "2022-08-27T06:03:20.213986Z",
     "shell.execute_reply": "2022-08-27T06:03:20.213452Z"
    },
    "papermill": {
     "duration": 0.04623,
     "end_time": "2022-08-27T06:03:20.215482",
     "exception": false,
     "start_time": "2022-08-27T06:03:20.169252",
     "status": "completed"
    },
    "tags": []
   },
   "outputs": [
    {
     "data": {
      "text/plain": [
       "'Cohort name: phenomexcan_other'"
      ]
     },
     "metadata": {},
     "output_type": "display_data"
    }
   ],
   "source": [
    "assert COHORT_NAME is not None and len(COHORT_NAME) > 0, \"A cohort name must be given\"\n",
    "\n",
    "COHORT_NAME = COHORT_NAME.lower()\n",
    "display(f\"Cohort name: {COHORT_NAME}\")"
   ]
  },
  {
   "cell_type": "code",
   "execution_count": 6,
   "id": "f53ba19b-0f93-4fa2-a047-63b375939d1a",
   "metadata": {
    "execution": {
     "iopub.execute_input": "2022-08-27T06:03:20.234754Z",
     "iopub.status.busy": "2022-08-27T06:03:20.234551Z",
     "iopub.status.idle": "2022-08-27T06:03:20.252596Z",
     "shell.execute_reply": "2022-08-27T06:03:20.252065Z"
    },
    "papermill": {
     "duration": 0.029391,
     "end_time": "2022-08-27T06:03:20.254084",
     "exception": false,
     "start_time": "2022-08-27T06:03:20.224693",
     "status": "completed"
    },
    "tags": []
   },
   "outputs": [
    {
     "data": {
      "text/plain": [
       "'Reference panel: GTEX_V8'"
      ]
     },
     "metadata": {},
     "output_type": "display_data"
    }
   ],
   "source": [
    "assert (\n",
    "    REFERENCE_PANEL is not None and len(REFERENCE_PANEL) > 0\n",
    "), \"A reference panel must be given\"\n",
    "\n",
    "display(f\"Reference panel: {REFERENCE_PANEL}\")"
   ]
  },
  {
   "cell_type": "code",
   "execution_count": 7,
   "id": "e024d130-c139-429a-9c6e-ccf149e297b0",
   "metadata": {
    "execution": {
     "iopub.execute_input": "2022-08-27T06:03:20.278625Z",
     "iopub.status.busy": "2022-08-27T06:03:20.278405Z",
     "iopub.status.idle": "2022-08-27T06:03:20.296870Z",
     "shell.execute_reply": "2022-08-27T06:03:20.296347Z"
    },
    "papermill": {
     "duration": 0.030892,
     "end_time": "2022-08-27T06:03:20.298363",
     "exception": false,
     "start_time": "2022-08-27T06:03:20.267471",
     "status": "completed"
    },
    "tags": []
   },
   "outputs": [
    {
     "data": {
      "text/plain": [
       "'eQTL model: MASHR) / mashr_'"
      ]
     },
     "metadata": {},
     "output_type": "display_data"
    }
   ],
   "source": [
    "assert (\n",
    "    EQTL_MODEL is not None and len(EQTL_MODEL) > 0\n",
    "), \"A prediction/eQTL model must be given\"\n",
    "\n",
    "EQTL_MODEL_FILES_PREFIX = conf.PHENOMEXCAN[\"PREDICTION_MODELS\"][f\"{EQTL_MODEL}_PREFIX\"]\n",
    "display(f\"eQTL model: {EQTL_MODEL}) / {EQTL_MODEL_FILES_PREFIX}\")"
   ]
  },
  {
   "cell_type": "code",
   "execution_count": 8,
   "id": "552a7f63-a18c-4d3e-bb6a-94f99b431291",
   "metadata": {
    "execution": {
     "iopub.execute_input": "2022-08-27T06:03:20.323840Z",
     "iopub.status.busy": "2022-08-27T06:03:20.323636Z",
     "iopub.status.idle": "2022-08-27T06:03:20.341873Z",
     "shell.execute_reply": "2022-08-27T06:03:20.341351Z"
    },
    "papermill": {
     "duration": 0.03583,
     "end_time": "2022-08-27T06:03:20.343374",
     "exception": false,
     "start_time": "2022-08-27T06:03:20.307544",
     "status": "completed"
    },
    "tags": []
   },
   "outputs": [
    {
     "data": {
      "text/plain": [
       "'S-MultiXcan condition number: 30'"
      ]
     },
     "metadata": {},
     "output_type": "display_data"
    }
   ],
   "source": [
    "assert (\n",
    "    SMULTIXCAN_CONDITION_NUMBER is not None and SMULTIXCAN_CONDITION_NUMBER > 0\n",
    "), \"The S-MultiXcan condition number (positive integer) must be given\"\n",
    "\n",
    "display(f\"S-MultiXcan condition number: {SMULTIXCAN_CONDITION_NUMBER}\")"
   ]
  },
  {
   "cell_type": "code",
   "execution_count": 9,
   "id": "f34a336f-548e-4afe-8955-90eaea4f42c6",
   "metadata": {
    "execution": {
     "iopub.execute_input": "2022-08-27T06:03:20.363027Z",
     "iopub.status.busy": "2022-08-27T06:03:20.362823Z",
     "iopub.status.idle": "2022-08-27T06:03:20.380957Z",
     "shell.execute_reply": "2022-08-27T06:03:20.380436Z"
    },
    "papermill": {
     "duration": 0.029134,
     "end_time": "2022-08-27T06:03:20.382444",
     "exception": false,
     "start_time": "2022-08-27T06:03:20.353310",
     "status": "completed"
    },
    "tags": []
   },
   "outputs": [
    {
     "data": {
      "text/plain": [
       "'Working on chromosome 16'"
      ]
     },
     "metadata": {},
     "output_type": "display_data"
    }
   ],
   "source": [
    "assert CHROMOSOME is not None and (\n",
    "    1 <= CHROMOSOME <= 22\n",
    "), \"You have to select one chromosome (format: number between 1 and 22)\"\n",
    "\n",
    "# CHROMOSOME = str(CHROMOSOME)\n",
    "display(f\"Working on chromosome {CHROMOSOME}\")"
   ]
  },
  {
   "cell_type": "code",
   "execution_count": 10,
   "id": "ab8e96e8-06b5-4363-9dcd-dc4d78cc27f7",
   "metadata": {
    "execution": {
     "iopub.execute_input": "2022-08-27T06:03:20.415395Z",
     "iopub.status.busy": "2022-08-27T06:03:20.415186Z",
     "iopub.status.idle": "2022-08-27T06:03:20.433294Z",
     "shell.execute_reply": "2022-08-27T06:03:20.432765Z"
    },
    "papermill": {
     "duration": 0.033668,
     "end_time": "2022-08-27T06:03:20.434771",
     "exception": false,
     "start_time": "2022-08-27T06:03:20.401103",
     "status": "completed"
    },
    "tags": []
   },
   "outputs": [
    {
     "data": {
      "text/plain": [
       "'Compute correlation within distance False'"
      ]
     },
     "metadata": {},
     "output_type": "display_data"
    }
   ],
   "source": [
    "display(f\"Compute correlation within distance {COMPUTE_CORRELATIONS_WITHIN_DISTANCE}\")"
   ]
  },
  {
   "cell_type": "code",
   "execution_count": 11,
   "id": "396392dc-0340-4540-9b02-e182b833f909",
   "metadata": {
    "execution": {
     "iopub.execute_input": "2022-08-27T06:03:20.454442Z",
     "iopub.status.busy": "2022-08-27T06:03:20.454233Z",
     "iopub.status.idle": "2022-08-27T06:03:20.493057Z",
     "shell.execute_reply": "2022-08-27T06:03:20.492537Z"
    },
    "papermill": {
     "duration": 0.050555,
     "end_time": "2022-08-27T06:03:20.494550",
     "exception": false,
     "start_time": "2022-08-27T06:03:20.443995",
     "status": "completed"
    },
    "tags": []
   },
   "outputs": [
    {
     "data": {
      "text/plain": [
       "'Using output dir base: /project/ritchie20/projects/phenoplier/base/results/gls/gene_corrs/cohorts/phenomexcan_other/gtex_v8/mashr'"
      ]
     },
     "metadata": {},
     "output_type": "display_data"
    }
   ],
   "source": [
    "OUTPUT_DIR_BASE = (\n",
    "    conf.RESULTS[\"GLS\"]\n",
    "    / \"gene_corrs\"\n",
    "    / \"cohorts\"\n",
    "    / COHORT_NAME\n",
    "    / REFERENCE_PANEL.lower()\n",
    "    / EQTL_MODEL.lower()\n",
    ")\n",
    "OUTPUT_DIR_BASE.mkdir(parents=True, exist_ok=True)\n",
    "\n",
    "display(f\"Using output dir base: {OUTPUT_DIR_BASE}\")"
   ]
  },
  {
   "cell_type": "markdown",
   "id": "d2ba085e",
   "metadata": {
    "papermill": {
     "duration": 0.011935,
     "end_time": "2022-08-27T06:03:20.522787",
     "exception": false,
     "start_time": "2022-08-27T06:03:20.510852",
     "status": "completed"
    },
    "tags": []
   },
   "source": [
    "# Load data"
   ]
  },
  {
   "cell_type": "markdown",
   "id": "7dcb8db7",
   "metadata": {
    "papermill": {
     "duration": 0.017769,
     "end_time": "2022-08-27T06:03:20.553255",
     "exception": false,
     "start_time": "2022-08-27T06:03:20.535486",
     "status": "completed"
    },
    "tags": []
   },
   "source": [
    "## GWAS variants"
   ]
  },
  {
   "cell_type": "code",
   "execution_count": 12,
   "id": "29434c4e-8cd3-4b9b-82e4-b5a251d9dd19",
   "metadata": {
    "execution": {
     "iopub.execute_input": "2022-08-27T06:03:20.585069Z",
     "iopub.status.busy": "2022-08-27T06:03:20.584865Z",
     "iopub.status.idle": "2022-08-27T06:03:24.072710Z",
     "shell.execute_reply": "2022-08-27T06:03:24.071860Z"
    },
    "papermill": {
     "duration": 3.505843,
     "end_time": "2022-08-27T06:03:24.074789",
     "exception": false,
     "start_time": "2022-08-27T06:03:20.568946",
     "status": "completed"
    },
    "tags": []
   },
   "outputs": [],
   "source": [
    "with open(OUTPUT_DIR_BASE / \"gwas_variant_ids.pkl\", \"rb\") as handle:\n",
    "    gwas_variants_ids_set = pickle.load(handle)"
   ]
  },
  {
   "cell_type": "code",
   "execution_count": 13,
   "id": "b9d9dec2-4a76-4bf9-bde2-e24c95acb8a0",
   "metadata": {
    "execution": {
     "iopub.execute_input": "2022-08-27T06:03:24.119600Z",
     "iopub.status.busy": "2022-08-27T06:03:24.119377Z",
     "iopub.status.idle": "2022-08-27T06:03:24.142585Z",
     "shell.execute_reply": "2022-08-27T06:03:24.142054Z"
    },
    "papermill": {
     "duration": 0.047066,
     "end_time": "2022-08-27T06:03:24.144060",
     "exception": false,
     "start_time": "2022-08-27T06:03:24.096994",
     "status": "completed"
    },
    "tags": []
   },
   "outputs": [
    {
     "data": {
      "text/plain": [
       "8865800"
      ]
     },
     "execution_count": 13,
     "metadata": {},
     "output_type": "execute_result"
    }
   ],
   "source": [
    "len(gwas_variants_ids_set)"
   ]
  },
  {
   "cell_type": "code",
   "execution_count": 14,
   "id": "4235b06a-6034-4ee4-a0a3-2ae35d122418",
   "metadata": {
    "execution": {
     "iopub.execute_input": "2022-08-27T06:03:24.178058Z",
     "iopub.status.busy": "2022-08-27T06:03:24.177857Z",
     "iopub.status.idle": "2022-08-27T06:03:24.770585Z",
     "shell.execute_reply": "2022-08-27T06:03:24.769993Z"
    },
    "papermill": {
     "duration": 0.612466,
     "end_time": "2022-08-27T06:03:24.772216",
     "exception": false,
     "start_time": "2022-08-27T06:03:24.159750",
     "status": "completed"
    },
    "tags": []
   },
   "outputs": [
    {
     "data": {
      "text/plain": [
       "['chr3_130333198_G_A_b38',\n",
       " 'chr5_5247744_C_T_b38',\n",
       " 'chr12_74071909_T_C_b38',\n",
       " 'chr9_72341770_T_C_b38',\n",
       " 'chr14_69350285_C_A_b38']"
      ]
     },
     "execution_count": 14,
     "metadata": {},
     "output_type": "execute_result"
    }
   ],
   "source": [
    "list(gwas_variants_ids_set)[:5]"
   ]
  },
  {
   "cell_type": "markdown",
   "id": "07866999-2305-41f9-a144-e69c9122c212",
   "metadata": {
    "papermill": {
     "duration": 0.014055,
     "end_time": "2022-08-27T06:03:24.798011",
     "exception": false,
     "start_time": "2022-08-27T06:03:24.783956",
     "status": "completed"
    },
    "tags": []
   },
   "source": [
    "## S-PrediXcan tissue models"
   ]
  },
  {
   "cell_type": "code",
   "execution_count": 15,
   "id": "780611d9-77c8-405f-90a4-f271f7b09397",
   "metadata": {
    "execution": {
     "iopub.execute_input": "2022-08-27T06:03:24.821478Z",
     "iopub.status.busy": "2022-08-27T06:03:24.821267Z",
     "iopub.status.idle": "2022-08-27T06:03:25.744863Z",
     "shell.execute_reply": "2022-08-27T06:03:25.744270Z"
    },
    "papermill": {
     "duration": 0.935814,
     "end_time": "2022-08-27T06:03:25.746786",
     "exception": false,
     "start_time": "2022-08-27T06:03:24.810972",
     "status": "completed"
    },
    "tags": []
   },
   "outputs": [],
   "source": [
    "spredixcan_genes_models = pd.read_pickle(OUTPUT_DIR_BASE / \"gene_tissues.pkl\")"
   ]
  },
  {
   "cell_type": "code",
   "execution_count": 16,
   "id": "726dd1f6-9557-4225-91fa-b3b879ea96e1",
   "metadata": {
    "execution": {
     "iopub.execute_input": "2022-08-27T06:03:25.768362Z",
     "iopub.status.busy": "2022-08-27T06:03:25.768140Z",
     "iopub.status.idle": "2022-08-27T06:03:25.788598Z",
     "shell.execute_reply": "2022-08-27T06:03:25.788065Z"
    },
    "papermill": {
     "duration": 0.032787,
     "end_time": "2022-08-27T06:03:25.790081",
     "exception": false,
     "start_time": "2022-08-27T06:03:25.757294",
     "status": "completed"
    },
    "tags": []
   },
   "outputs": [
    {
     "data": {
      "text/plain": [
       "(6450, 3)"
      ]
     },
     "execution_count": 16,
     "metadata": {},
     "output_type": "execute_result"
    }
   ],
   "source": [
    "spredixcan_genes_models.shape"
   ]
  },
  {
   "cell_type": "code",
   "execution_count": 17,
   "id": "944a1b48-222c-4eb0-b252-b9de2cbca215",
   "metadata": {
    "execution": {
     "iopub.execute_input": "2022-08-27T06:03:25.811349Z",
     "iopub.status.busy": "2022-08-27T06:03:25.811137Z",
     "iopub.status.idle": "2022-08-27T06:03:25.837742Z",
     "shell.execute_reply": "2022-08-27T06:03:25.837199Z"
    },
    "papermill": {
     "duration": 0.038689,
     "end_time": "2022-08-27T06:03:25.839276",
     "exception": false,
     "start_time": "2022-08-27T06:03:25.800587",
     "status": "completed"
    },
    "tags": []
   },
   "outputs": [
    {
     "data": {
      "text/html": [
       "<div>\n",
       "<style scoped>\n",
       "    .dataframe tbody tr th:only-of-type {\n",
       "        vertical-align: middle;\n",
       "    }\n",
       "\n",
       "    .dataframe tbody tr th {\n",
       "        vertical-align: top;\n",
       "    }\n",
       "\n",
       "    .dataframe thead th {\n",
       "        text-align: right;\n",
       "    }\n",
       "</style>\n",
       "<table border=\"1\" class=\"dataframe\">\n",
       "  <thead>\n",
       "    <tr style=\"text-align: right;\">\n",
       "      <th></th>\n",
       "      <th>gene_name</th>\n",
       "      <th>tissue</th>\n",
       "      <th>n_tissues</th>\n",
       "    </tr>\n",
       "    <tr>\n",
       "      <th>gene_id</th>\n",
       "      <th></th>\n",
       "      <th></th>\n",
       "      <th></th>\n",
       "    </tr>\n",
       "  </thead>\n",
       "  <tbody>\n",
       "    <tr>\n",
       "      <th>ENSG00000000419</th>\n",
       "      <td>DPM1</td>\n",
       "      <td>(Cells_Cultured_fibroblasts, Brain_Hypothalamu...</td>\n",
       "      <td>3</td>\n",
       "    </tr>\n",
       "    <tr>\n",
       "      <th>ENSG00000000938</th>\n",
       "      <td>FGR</td>\n",
       "      <td>(Spleen, Prostate, Esophagus_Muscularis, Cells...</td>\n",
       "      <td>36</td>\n",
       "    </tr>\n",
       "    <tr>\n",
       "      <th>ENSG00000000971</th>\n",
       "      <td>CFH</td>\n",
       "      <td>(Small_Intestine_Terminal_Ileum, Esophagus_Mus...</td>\n",
       "      <td>34</td>\n",
       "    </tr>\n",
       "    <tr>\n",
       "      <th>ENSG00000001084</th>\n",
       "      <td>GCLC</td>\n",
       "      <td>(Small_Intestine_Terminal_Ileum, Spleen, Cells...</td>\n",
       "      <td>33</td>\n",
       "    </tr>\n",
       "    <tr>\n",
       "      <th>ENSG00000001167</th>\n",
       "      <td>NFYA</td>\n",
       "      <td>(Small_Intestine_Terminal_Ileum, Prostate, Eso...</td>\n",
       "      <td>40</td>\n",
       "    </tr>\n",
       "  </tbody>\n",
       "</table>\n",
       "</div>"
      ],
      "text/plain": [
       "                gene_name                                             tissue  \\\n",
       "gene_id                                                                        \n",
       "ENSG00000000419      DPM1  (Cells_Cultured_fibroblasts, Brain_Hypothalamu...   \n",
       "ENSG00000000938       FGR  (Spleen, Prostate, Esophagus_Muscularis, Cells...   \n",
       "ENSG00000000971       CFH  (Small_Intestine_Terminal_Ileum, Esophagus_Mus...   \n",
       "ENSG00000001084      GCLC  (Small_Intestine_Terminal_Ileum, Spleen, Cells...   \n",
       "ENSG00000001167      NFYA  (Small_Intestine_Terminal_Ileum, Prostate, Eso...   \n",
       "\n",
       "                 n_tissues  \n",
       "gene_id                     \n",
       "ENSG00000000419          3  \n",
       "ENSG00000000938         36  \n",
       "ENSG00000000971         34  \n",
       "ENSG00000001084         33  \n",
       "ENSG00000001167         40  "
      ]
     },
     "execution_count": 17,
     "metadata": {},
     "output_type": "execute_result"
    }
   ],
   "source": [
    "spredixcan_genes_models.head()"
   ]
  },
  {
   "cell_type": "code",
   "execution_count": 18,
   "id": "d1c11bb1-be0b-4f40-b360-633d6827109f",
   "metadata": {
    "execution": {
     "iopub.execute_input": "2022-08-27T06:03:25.862172Z",
     "iopub.status.busy": "2022-08-27T06:03:25.861961Z",
     "iopub.status.idle": "2022-08-27T06:03:25.879057Z",
     "shell.execute_reply": "2022-08-27T06:03:25.878537Z"
    },
    "papermill": {
     "duration": 0.03053,
     "end_time": "2022-08-27T06:03:25.880660",
     "exception": false,
     "start_time": "2022-08-27T06:03:25.850130",
     "status": "completed"
    },
    "tags": []
   },
   "outputs": [],
   "source": [
    "assert spredixcan_genes_models.index.is_unique"
   ]
  },
  {
   "cell_type": "markdown",
   "id": "a5b5092c-a13e-47c4-a92a-480fcc08f3ae",
   "metadata": {
    "papermill": {
     "duration": 0.015402,
     "end_time": "2022-08-27T06:03:25.905881",
     "exception": false,
     "start_time": "2022-08-27T06:03:25.890479",
     "status": "completed"
    },
    "tags": []
   },
   "source": [
    "## Gene info"
   ]
  },
  {
   "cell_type": "code",
   "execution_count": 19,
   "id": "7d6bb224-88e9-4358-ac10-43a41d92cdad",
   "metadata": {
    "execution": {
     "iopub.execute_input": "2022-08-27T06:03:25.928392Z",
     "iopub.status.busy": "2022-08-27T06:03:25.928188Z",
     "iopub.status.idle": "2022-08-27T06:03:25.952004Z",
     "shell.execute_reply": "2022-08-27T06:03:25.951478Z"
    },
    "papermill": {
     "duration": 0.037846,
     "end_time": "2022-08-27T06:03:25.953615",
     "exception": false,
     "start_time": "2022-08-27T06:03:25.915769",
     "status": "completed"
    },
    "tags": []
   },
   "outputs": [],
   "source": [
    "genes_info = pd.read_pickle(OUTPUT_DIR_BASE / \"genes_info.pkl\")"
   ]
  },
  {
   "cell_type": "code",
   "execution_count": 20,
   "id": "9e32abfa-546d-483e-8c18-d526e9e05903",
   "metadata": {
    "execution": {
     "iopub.execute_input": "2022-08-27T06:03:25.977013Z",
     "iopub.status.busy": "2022-08-27T06:03:25.976809Z",
     "iopub.status.idle": "2022-08-27T06:03:25.994908Z",
     "shell.execute_reply": "2022-08-27T06:03:25.994386Z"
    },
    "papermill": {
     "duration": 0.032317,
     "end_time": "2022-08-27T06:03:25.996391",
     "exception": false,
     "start_time": "2022-08-27T06:03:25.964074",
     "status": "completed"
    },
    "tags": []
   },
   "outputs": [
    {
     "data": {
      "text/plain": [
       "(6450, 7)"
      ]
     },
     "execution_count": 20,
     "metadata": {},
     "output_type": "execute_result"
    }
   ],
   "source": [
    "genes_info.shape"
   ]
  },
  {
   "cell_type": "code",
   "execution_count": 21,
   "id": "d16c3e92-85ec-468a-9a56-e25a9774a1cb",
   "metadata": {
    "execution": {
     "iopub.execute_input": "2022-08-27T06:03:26.018476Z",
     "iopub.status.busy": "2022-08-27T06:03:26.018272Z",
     "iopub.status.idle": "2022-08-27T06:03:26.040905Z",
     "shell.execute_reply": "2022-08-27T06:03:26.040364Z"
    },
    "papermill": {
     "duration": 0.03527,
     "end_time": "2022-08-27T06:03:26.042436",
     "exception": false,
     "start_time": "2022-08-27T06:03:26.007166",
     "status": "completed"
    },
    "tags": []
   },
   "outputs": [
    {
     "data": {
      "text/html": [
       "<div>\n",
       "<style scoped>\n",
       "    .dataframe tbody tr th:only-of-type {\n",
       "        vertical-align: middle;\n",
       "    }\n",
       "\n",
       "    .dataframe tbody tr th {\n",
       "        vertical-align: top;\n",
       "    }\n",
       "\n",
       "    .dataframe thead th {\n",
       "        text-align: right;\n",
       "    }\n",
       "</style>\n",
       "<table border=\"1\" class=\"dataframe\">\n",
       "  <thead>\n",
       "    <tr style=\"text-align: right;\">\n",
       "      <th></th>\n",
       "      <th>name</th>\n",
       "      <th>id</th>\n",
       "      <th>chr</th>\n",
       "      <th>band</th>\n",
       "      <th>start_position</th>\n",
       "      <th>end_position</th>\n",
       "      <th>gene_length</th>\n",
       "    </tr>\n",
       "  </thead>\n",
       "  <tbody>\n",
       "    <tr>\n",
       "      <th>0</th>\n",
       "      <td>FUS</td>\n",
       "      <td>ENSG00000089280</td>\n",
       "      <td>16</td>\n",
       "      <td>16p11.2</td>\n",
       "      <td>31180110</td>\n",
       "      <td>31194871</td>\n",
       "      <td>14761</td>\n",
       "    </tr>\n",
       "    <tr>\n",
       "      <th>1</th>\n",
       "      <td>PI4K2A</td>\n",
       "      <td>ENSG00000155252</td>\n",
       "      <td>10</td>\n",
       "      <td>10q24.2</td>\n",
       "      <td>97640686</td>\n",
       "      <td>97676434</td>\n",
       "      <td>35748</td>\n",
       "    </tr>\n",
       "    <tr>\n",
       "      <th>2</th>\n",
       "      <td>PER1</td>\n",
       "      <td>ENSG00000179094</td>\n",
       "      <td>17</td>\n",
       "      <td>17p13.1</td>\n",
       "      <td>8140472</td>\n",
       "      <td>8156506</td>\n",
       "      <td>16034</td>\n",
       "    </tr>\n",
       "    <tr>\n",
       "      <th>3</th>\n",
       "      <td>GBP6</td>\n",
       "      <td>ENSG00000183347</td>\n",
       "      <td>1</td>\n",
       "      <td>1p22.2</td>\n",
       "      <td>89364058</td>\n",
       "      <td>89386461</td>\n",
       "      <td>22403</td>\n",
       "    </tr>\n",
       "    <tr>\n",
       "      <th>4</th>\n",
       "      <td>GPAA1</td>\n",
       "      <td>ENSG00000197858</td>\n",
       "      <td>8</td>\n",
       "      <td>8q24.3</td>\n",
       "      <td>144082590</td>\n",
       "      <td>144086216</td>\n",
       "      <td>3626</td>\n",
       "    </tr>\n",
       "  </tbody>\n",
       "</table>\n",
       "</div>"
      ],
      "text/plain": [
       "     name               id  chr     band  start_position  end_position  \\\n",
       "0     FUS  ENSG00000089280   16  16p11.2        31180110      31194871   \n",
       "1  PI4K2A  ENSG00000155252   10  10q24.2        97640686      97676434   \n",
       "2    PER1  ENSG00000179094   17  17p13.1         8140472       8156506   \n",
       "3    GBP6  ENSG00000183347    1   1p22.2        89364058      89386461   \n",
       "4   GPAA1  ENSG00000197858    8   8q24.3       144082590     144086216   \n",
       "\n",
       "   gene_length  \n",
       "0        14761  \n",
       "1        35748  \n",
       "2        16034  \n",
       "3        22403  \n",
       "4         3626  "
      ]
     },
     "execution_count": 21,
     "metadata": {},
     "output_type": "execute_result"
    }
   ],
   "source": [
    "genes_info.head()"
   ]
  },
  {
   "cell_type": "markdown",
   "id": "d3843e06",
   "metadata": {
    "papermill": {
     "duration": 0.010207,
     "end_time": "2022-08-27T06:03:26.064215",
     "exception": false,
     "start_time": "2022-08-27T06:03:26.054008",
     "status": "completed"
    },
    "tags": []
   },
   "source": [
    "# Compute correlations"
   ]
  },
  {
   "cell_type": "code",
   "execution_count": 22,
   "id": "cb859c15-d1f3-4006-a74c-2b83c0db9611",
   "metadata": {
    "execution": {
     "iopub.execute_input": "2022-08-27T06:03:26.085669Z",
     "iopub.status.busy": "2022-08-27T06:03:26.085466Z",
     "iopub.status.idle": "2022-08-27T06:03:26.104470Z",
     "shell.execute_reply": "2022-08-27T06:03:26.103922Z"
    },
    "papermill": {
     "duration": 0.031854,
     "end_time": "2022-08-27T06:03:26.105958",
     "exception": false,
     "start_time": "2022-08-27T06:03:26.074104",
     "status": "completed"
    },
    "tags": []
   },
   "outputs": [
    {
     "data": {
      "text/plain": [
       "PosixPath('/project/ritchie20/projects/phenoplier/base/results/gls/gene_corrs/cohorts/phenomexcan_other/gtex_v8/mashr/by_chr/gene_corrs-chr16.pkl')"
      ]
     },
     "metadata": {},
     "output_type": "display_data"
    }
   ],
   "source": [
    "output_dir = OUTPUT_DIR_BASE / \"by_chr\"\n",
    "output_dir.mkdir(exist_ok=True, parents=True)\n",
    "output_file = output_dir / f\"gene_corrs-chr{CHROMOSOME}.pkl\"\n",
    "display(output_file)"
   ]
  },
  {
   "cell_type": "code",
   "execution_count": 23,
   "id": "aa674fe4-6794-4eed-98fa-32b39d1d4ace",
   "metadata": {
    "execution": {
     "iopub.execute_input": "2022-08-27T06:03:26.129475Z",
     "iopub.status.busy": "2022-08-27T06:03:26.129270Z",
     "iopub.status.idle": "2022-08-27T06:03:26.145563Z",
     "shell.execute_reply": "2022-08-27T06:03:26.145038Z"
    },
    "papermill": {
     "duration": 0.029681,
     "end_time": "2022-08-27T06:03:26.147146",
     "exception": false,
     "start_time": "2022-08-27T06:03:26.117465",
     "status": "completed"
    },
    "tags": []
   },
   "outputs": [],
   "source": [
    "warnings.filterwarnings(\"error\")"
   ]
  },
  {
   "cell_type": "code",
   "execution_count": 24,
   "id": "44d5450b-3baf-43f1-9e2e-4b06f1a785f8",
   "metadata": {
    "execution": {
     "iopub.execute_input": "2022-08-27T06:03:26.169262Z",
     "iopub.status.busy": "2022-08-27T06:03:26.169052Z",
     "iopub.status.idle": "2022-08-27T06:03:26.186223Z",
     "shell.execute_reply": "2022-08-27T06:03:26.185694Z"
    },
    "papermill": {
     "duration": 0.030011,
     "end_time": "2022-08-27T06:03:26.187809",
     "exception": false,
     "start_time": "2022-08-27T06:03:26.157798",
     "status": "completed"
    },
    "tags": []
   },
   "outputs": [],
   "source": [
    "# standard checks\n",
    "all_chrs = genes_info[\"chr\"].dropna().unique()\n",
    "assert all_chrs.shape[0] == 22\n",
    "\n",
    "# select chromosome given by the user\n",
    "assert CHROMOSOME in all_chrs"
   ]
  },
  {
   "cell_type": "code",
   "execution_count": 25,
   "id": "2d7c043c-92a7-4d35-991b-fa69ac1e0268",
   "metadata": {
    "execution": {
     "iopub.execute_input": "2022-08-27T06:03:26.211066Z",
     "iopub.status.busy": "2022-08-27T06:03:26.210863Z",
     "iopub.status.idle": "2022-08-27T06:03:26.240744Z",
     "shell.execute_reply": "2022-08-27T06:03:26.240202Z"
    },
    "papermill": {
     "duration": 0.042754,
     "end_time": "2022-08-27T06:03:26.242412",
     "exception": false,
     "start_time": "2022-08-27T06:03:26.199658",
     "status": "completed"
    },
    "tags": []
   },
   "outputs": [
    {
     "name": "stdout",
     "output_type": "stream",
     "text": [
      "Number of genes in chromosome: 274\n"
     ]
    }
   ],
   "source": [
    "# run only on the chromosome specified\n",
    "all_chrs = [CHROMOSOME]\n",
    "genes_chr = genes_info[genes_info[\"chr\"] == CHROMOSOME]\n",
    "\n",
    "# For testing purposes\n",
    "# genes_chr = genes_chr.sample(n=20)\n",
    "\n",
    "print(f\"Number of genes in chromosome: {genes_chr.shape[0]}\", flush=True)"
   ]
  },
  {
   "cell_type": "code",
   "execution_count": 26,
   "id": "916015d8-2979-46d3-a9b9-1cf5a0932c6a",
   "metadata": {
    "execution": {
     "iopub.execute_input": "2022-08-27T06:03:26.264053Z",
     "iopub.status.busy": "2022-08-27T06:03:26.263851Z",
     "iopub.status.idle": "2022-08-27T06:03:26.280716Z",
     "shell.execute_reply": "2022-08-27T06:03:26.280142Z"
    },
    "papermill": {
     "duration": 0.029768,
     "end_time": "2022-08-27T06:03:26.282319",
     "exception": false,
     "start_time": "2022-08-27T06:03:26.252551",
     "status": "completed"
    },
    "tags": []
   },
   "outputs": [],
   "source": [
    "# sort genes by starting position to make visualizations better later\n",
    "genes_chr = genes_chr.sort_values(\"start_position\")"
   ]
  },
  {
   "cell_type": "code",
   "execution_count": 27,
   "id": "a38aa74a-8ad3-47f6-8ef9-56be0e011774",
   "metadata": {
    "execution": {
     "iopub.execute_input": "2022-08-27T06:03:26.304226Z",
     "iopub.status.busy": "2022-08-27T06:03:26.304013Z",
     "iopub.status.idle": "2022-08-27T06:03:26.321264Z",
     "shell.execute_reply": "2022-08-27T06:03:26.320694Z"
    },
    "papermill": {
     "duration": 0.030314,
     "end_time": "2022-08-27T06:03:26.322917",
     "exception": false,
     "start_time": "2022-08-27T06:03:26.292603",
     "status": "completed"
    },
    "tags": []
   },
   "outputs": [],
   "source": [
    "gene_chr_objs = [Gene(ensembl_id=gene_id) for gene_id in genes_chr[\"id\"]]"
   ]
  },
  {
   "cell_type": "code",
   "execution_count": 28,
   "id": "570f974f-13c3-42b6-ad3a-ce99ca885c1a",
   "metadata": {
    "execution": {
     "iopub.execute_input": "2022-08-27T06:03:26.349380Z",
     "iopub.status.busy": "2022-08-27T06:03:26.349146Z",
     "iopub.status.idle": "2022-08-27T06:03:26.367465Z",
     "shell.execute_reply": "2022-08-27T06:03:26.366929Z"
    },
    "papermill": {
     "duration": 0.03183,
     "end_time": "2022-08-27T06:03:26.369062",
     "exception": false,
     "start_time": "2022-08-27T06:03:26.337232",
     "status": "completed"
    },
    "tags": []
   },
   "outputs": [
    {
     "name": "stdout",
     "output_type": "stream",
     "text": [
      "Number of gene combinations: 37401\n"
     ]
    }
   ],
   "source": [
    "n = len(gene_chr_objs)\n",
    "n_comb = int(n * (n - 1) / 2.0)\n",
    "print(f\"Number of gene combinations: {n_comb}\", flush=True)"
   ]
  },
  {
   "cell_type": "code",
   "execution_count": 29,
   "id": "cdbb90a1",
   "metadata": {
    "execution": {
     "iopub.execute_input": "2022-08-27T06:03:26.390924Z",
     "iopub.status.busy": "2022-08-27T06:03:26.390721Z",
     "iopub.status.idle": "2022-08-27T07:06:45.946678Z",
     "shell.execute_reply": "2022-08-27T07:06:45.945404Z"
    },
    "papermill": {
     "duration": 3799.569887,
     "end_time": "2022-08-27T07:06:45.949442",
     "exception": false,
     "start_time": "2022-08-27T06:03:26.379555",
     "status": "completed"
    },
    "tags": []
   },
   "outputs": [
    {
     "name": "stderr",
     "output_type": "stream",
     "text": [
      "ENSG00000258947 / ENSG00000258947: : 37675it [1:03:19,  9.92it/s]\n"
     ]
    },
    {
     "data": {
      "text/plain": [
       "PosixPath('/project/ritchie20/projects/phenoplier/base/results/gls/gene_corrs/cohorts/phenomexcan_other/gtex_v8/mashr/by_chr/gene_corrs-chr16.pkl')"
      ]
     },
     "metadata": {},
     "output_type": "display_data"
    }
   ],
   "source": [
    "gene_corrs = []\n",
    "gene_corrs_data = np.full(\n",
    "    (n, n),\n",
    "    np.nan,\n",
    "    dtype=np.float64,\n",
    ")\n",
    "\n",
    "i = 0\n",
    "with tqdm(ncols=100, total=n_comb) as pbar:\n",
    "    for gene1_idx in range(0, len(gene_chr_objs)):\n",
    "        gene1_obj = gene_chr_objs[gene1_idx]\n",
    "        gene1_tissues = spredixcan_genes_models.loc[gene1_obj.ensembl_id, \"tissue\"]\n",
    "\n",
    "        for gene2_idx in range(gene1_idx, len(gene_chr_objs)):\n",
    "            gene2_obj = gene_chr_objs[gene2_idx]\n",
    "            gene2_tissues = spredixcan_genes_models.loc[gene2_obj.ensembl_id, \"tissue\"]\n",
    "\n",
    "            pbar.set_description(f\"{gene1_obj.ensembl_id} / {gene2_obj.ensembl_id}\")\n",
    "\n",
    "            try:\n",
    "                r = gene1_obj.get_ssm_correlation(\n",
    "                    other_gene=gene2_obj,\n",
    "                    tissues=gene1_tissues,\n",
    "                    other_tissues=gene2_tissues,\n",
    "                    snps_subset=gwas_variants_ids_set,\n",
    "                    condition_number=SMULTIXCAN_CONDITION_NUMBER,\n",
    "                    reference_panel=REFERENCE_PANEL,\n",
    "                    model_type=EQTL_MODEL,\n",
    "                    use_within_distance=COMPUTE_CORRELATIONS_WITHIN_DISTANCE,\n",
    "                )\n",
    "\n",
    "                if r is None:\n",
    "                    # if r is None, it's very likely because:\n",
    "                    #  * one of the genes has no prediction models\n",
    "                    #  * all the SNPs predictors for the gene are not present in the reference\n",
    "                    #    panel\n",
    "\n",
    "                    r = 0.0\n",
    "\n",
    "                gene_corrs.append(r)\n",
    "\n",
    "                gene_corrs_data[gene1_idx, gene2_idx] = r\n",
    "                gene_corrs_data[gene2_idx, gene1_idx] = r\n",
    "            except Warning as e:\n",
    "                if not DEBUG_MODE:\n",
    "                    raise e\n",
    "\n",
    "                print(\n",
    "                    f\"RuntimeWarning for genes {gene1_obj.ensembl_id} and {gene2_obj.ensembl_id}\",\n",
    "                    flush=True,\n",
    "                )\n",
    "                print(traceback.format_exc(), flush=True)\n",
    "\n",
    "                gene_corrs.append(np.nan)\n",
    "            except Exception as e:\n",
    "                if not DEBUG_MODE:\n",
    "                    raise e\n",
    "\n",
    "                print(\n",
    "                    f\"Exception for genes {gene1_obj.ensembl_id} and {gene2_obj.ensembl_id}\",\n",
    "                    flush=True,\n",
    "                )\n",
    "                print(traceback.format_exc(), flush=True)\n",
    "\n",
    "                gene_corrs.append(np.nan)\n",
    "\n",
    "            pbar.update(1)\n",
    "\n",
    "# create a pandas series\n",
    "gene_corrs_flat = pd.Series(gene_corrs)\n",
    "\n",
    "# save\n",
    "# FIXME: consider saving only the condenced matrix here. See here for\n",
    "# more details: https://github.com/greenelab/phenoplier/pull/38#discussion_r634600813\n",
    "# gene_corrs_data = squareform(np.array(gene_corrs, dtype=np.float64))\n",
    "# np.fill_diagonal(gene_corrs_data, 1.0)\n",
    "\n",
    "gene_chr_ids = [g.ensembl_id for g in gene_chr_objs]\n",
    "gene_corrs_df = pd.DataFrame(\n",
    "    data=gene_corrs_data,\n",
    "    index=gene_chr_ids,\n",
    "    columns=gene_chr_ids,\n",
    ")\n",
    "\n",
    "output_dir.mkdir(exist_ok=True, parents=True)\n",
    "display(output_file)\n",
    "\n",
    "gene_corrs_df.to_pickle(output_file)"
   ]
  },
  {
   "cell_type": "markdown",
   "id": "faa67b51-5373-470f-aa72-2ded53fa6dfe",
   "metadata": {
    "papermill": {
     "duration": 2.411707,
     "end_time": "2022-08-27T07:06:50.754988",
     "exception": false,
     "start_time": "2022-08-27T07:06:48.343281",
     "status": "completed"
    },
    "tags": []
   },
   "source": [
    "# Testing"
   ]
  },
  {
   "cell_type": "code",
   "execution_count": 30,
   "id": "14f7d046-4b55-4896-a56b-990127bcc388",
   "metadata": {
    "execution": {
     "iopub.execute_input": "2022-08-27T07:06:55.578866Z",
     "iopub.status.busy": "2022-08-27T07:06:55.578588Z",
     "iopub.status.idle": "2022-08-27T07:06:55.832301Z",
     "shell.execute_reply": "2022-08-27T07:06:55.831772Z"
    },
    "papermill": {
     "duration": 2.606066,
     "end_time": "2022-08-27T07:06:55.833801",
     "exception": false,
     "start_time": "2022-08-27T07:06:53.227735",
     "status": "completed"
    },
    "tags": []
   },
   "outputs": [
    {
     "data": {
      "text/plain": [
       "(274, 274)"
      ]
     },
     "execution_count": 30,
     "metadata": {},
     "output_type": "execute_result"
    }
   ],
   "source": [
    "gene_corrs_df.shape"
   ]
  },
  {
   "cell_type": "code",
   "execution_count": 31,
   "id": "c7d15414-3297-4537-a7c6-7588c0baeb75",
   "metadata": {
    "execution": {
     "iopub.execute_input": "2022-08-27T07:07:00.558832Z",
     "iopub.status.busy": "2022-08-27T07:07:00.558571Z",
     "iopub.status.idle": "2022-08-27T07:07:00.593863Z",
     "shell.execute_reply": "2022-08-27T07:07:00.593346Z"
    },
    "papermill": {
     "duration": 2.349207,
     "end_time": "2022-08-27T07:07:00.595359",
     "exception": false,
     "start_time": "2022-08-27T07:06:58.246152",
     "status": "completed"
    },
    "tags": []
   },
   "outputs": [
    {
     "data": {
      "text/html": [
       "<div>\n",
       "<style scoped>\n",
       "    .dataframe tbody tr th:only-of-type {\n",
       "        vertical-align: middle;\n",
       "    }\n",
       "\n",
       "    .dataframe tbody tr th {\n",
       "        vertical-align: top;\n",
       "    }\n",
       "\n",
       "    .dataframe thead th {\n",
       "        text-align: right;\n",
       "    }\n",
       "</style>\n",
       "<table border=\"1\" class=\"dataframe\">\n",
       "  <thead>\n",
       "    <tr style=\"text-align: right;\">\n",
       "      <th></th>\n",
       "      <th>ENSG00000161980</th>\n",
       "      <th>ENSG00000103152</th>\n",
       "      <th>ENSG00000206172</th>\n",
       "      <th>ENSG00000086506</th>\n",
       "      <th>ENSG00000076344</th>\n",
       "      <th>ENSG00000103126</th>\n",
       "      <th>ENSG00000086504</th>\n",
       "      <th>ENSG00000103202</th>\n",
       "      <th>ENSG00000242612</th>\n",
       "      <th>ENSG00000090565</th>\n",
       "      <th>...</th>\n",
       "      <th>ENSG00000051523</th>\n",
       "      <th>ENSG00000167508</th>\n",
       "      <th>ENSG00000167513</th>\n",
       "      <th>ENSG00000198931</th>\n",
       "      <th>ENSG00000141012</th>\n",
       "      <th>ENSG00000129993</th>\n",
       "      <th>ENSG00000167526</th>\n",
       "      <th>ENSG00000187741</th>\n",
       "      <th>ENSG00000258839</th>\n",
       "      <th>ENSG00000258947</th>\n",
       "    </tr>\n",
       "  </thead>\n",
       "  <tbody>\n",
       "    <tr>\n",
       "      <th>ENSG00000161980</th>\n",
       "      <td>1.000000</td>\n",
       "      <td>0.227759</td>\n",
       "      <td>0.007120</td>\n",
       "      <td>0.027623</td>\n",
       "      <td>0.012468</td>\n",
       "      <td>0.013222</td>\n",
       "      <td>0.014543</td>\n",
       "      <td>0.013973</td>\n",
       "      <td>0.014986</td>\n",
       "      <td>0.011460</td>\n",
       "      <td>...</td>\n",
       "      <td>0.005853</td>\n",
       "      <td>0.005465</td>\n",
       "      <td>0.003711</td>\n",
       "      <td>0.001553</td>\n",
       "      <td>0.005214</td>\n",
       "      <td>0.006527</td>\n",
       "      <td>0.003291</td>\n",
       "      <td>0.003797</td>\n",
       "      <td>0.011026</td>\n",
       "      <td>0.011151</td>\n",
       "    </tr>\n",
       "    <tr>\n",
       "      <th>ENSG00000103152</th>\n",
       "      <td>0.227759</td>\n",
       "      <td>1.000000</td>\n",
       "      <td>0.031878</td>\n",
       "      <td>0.108837</td>\n",
       "      <td>0.057495</td>\n",
       "      <td>0.024719</td>\n",
       "      <td>0.024518</td>\n",
       "      <td>0.012048</td>\n",
       "      <td>0.009824</td>\n",
       "      <td>0.008932</td>\n",
       "      <td>...</td>\n",
       "      <td>0.007037</td>\n",
       "      <td>0.010907</td>\n",
       "      <td>0.007026</td>\n",
       "      <td>0.004577</td>\n",
       "      <td>0.008902</td>\n",
       "      <td>0.009625</td>\n",
       "      <td>0.009660</td>\n",
       "      <td>0.004330</td>\n",
       "      <td>0.007823</td>\n",
       "      <td>0.016650</td>\n",
       "    </tr>\n",
       "    <tr>\n",
       "      <th>ENSG00000206172</th>\n",
       "      <td>0.007120</td>\n",
       "      <td>0.031878</td>\n",
       "      <td>1.000000</td>\n",
       "      <td>0.059261</td>\n",
       "      <td>0.055879</td>\n",
       "      <td>0.025798</td>\n",
       "      <td>0.033026</td>\n",
       "      <td>0.014314</td>\n",
       "      <td>0.013493</td>\n",
       "      <td>0.011098</td>\n",
       "      <td>...</td>\n",
       "      <td>0.005266</td>\n",
       "      <td>0.008916</td>\n",
       "      <td>0.004529</td>\n",
       "      <td>0.003817</td>\n",
       "      <td>0.001948</td>\n",
       "      <td>0.002598</td>\n",
       "      <td>0.000407</td>\n",
       "      <td>0.001629</td>\n",
       "      <td>0.000950</td>\n",
       "      <td>0.005550</td>\n",
       "    </tr>\n",
       "    <tr>\n",
       "      <th>ENSG00000086506</th>\n",
       "      <td>0.027623</td>\n",
       "      <td>0.108837</td>\n",
       "      <td>0.059261</td>\n",
       "      <td>1.000000</td>\n",
       "      <td>0.168078</td>\n",
       "      <td>0.090416</td>\n",
       "      <td>0.070950</td>\n",
       "      <td>0.014133</td>\n",
       "      <td>0.017900</td>\n",
       "      <td>0.022178</td>\n",
       "      <td>...</td>\n",
       "      <td>0.006746</td>\n",
       "      <td>0.009765</td>\n",
       "      <td>0.005766</td>\n",
       "      <td>0.002963</td>\n",
       "      <td>0.004049</td>\n",
       "      <td>0.005167</td>\n",
       "      <td>0.005203</td>\n",
       "      <td>0.003681</td>\n",
       "      <td>0.006142</td>\n",
       "      <td>0.009180</td>\n",
       "    </tr>\n",
       "    <tr>\n",
       "      <th>ENSG00000076344</th>\n",
       "      <td>0.012468</td>\n",
       "      <td>0.057495</td>\n",
       "      <td>0.055879</td>\n",
       "      <td>0.168078</td>\n",
       "      <td>1.000000</td>\n",
       "      <td>0.131846</td>\n",
       "      <td>0.112805</td>\n",
       "      <td>0.067025</td>\n",
       "      <td>0.024294</td>\n",
       "      <td>0.025707</td>\n",
       "      <td>...</td>\n",
       "      <td>0.002038</td>\n",
       "      <td>0.005548</td>\n",
       "      <td>0.005579</td>\n",
       "      <td>0.003054</td>\n",
       "      <td>0.004978</td>\n",
       "      <td>0.007174</td>\n",
       "      <td>0.001665</td>\n",
       "      <td>0.004381</td>\n",
       "      <td>0.004569</td>\n",
       "      <td>0.005661</td>\n",
       "    </tr>\n",
       "  </tbody>\n",
       "</table>\n",
       "<p>5 rows × 274 columns</p>\n",
       "</div>"
      ],
      "text/plain": [
       "                 ENSG00000161980  ENSG00000103152  ENSG00000206172  \\\n",
       "ENSG00000161980         1.000000         0.227759         0.007120   \n",
       "ENSG00000103152         0.227759         1.000000         0.031878   \n",
       "ENSG00000206172         0.007120         0.031878         1.000000   \n",
       "ENSG00000086506         0.027623         0.108837         0.059261   \n",
       "ENSG00000076344         0.012468         0.057495         0.055879   \n",
       "\n",
       "                 ENSG00000086506  ENSG00000076344  ENSG00000103126  \\\n",
       "ENSG00000161980         0.027623         0.012468         0.013222   \n",
       "ENSG00000103152         0.108837         0.057495         0.024719   \n",
       "ENSG00000206172         0.059261         0.055879         0.025798   \n",
       "ENSG00000086506         1.000000         0.168078         0.090416   \n",
       "ENSG00000076344         0.168078         1.000000         0.131846   \n",
       "\n",
       "                 ENSG00000086504  ENSG00000103202  ENSG00000242612  \\\n",
       "ENSG00000161980         0.014543         0.013973         0.014986   \n",
       "ENSG00000103152         0.024518         0.012048         0.009824   \n",
       "ENSG00000206172         0.033026         0.014314         0.013493   \n",
       "ENSG00000086506         0.070950         0.014133         0.017900   \n",
       "ENSG00000076344         0.112805         0.067025         0.024294   \n",
       "\n",
       "                 ENSG00000090565  ...  ENSG00000051523  ENSG00000167508  \\\n",
       "ENSG00000161980         0.011460  ...         0.005853         0.005465   \n",
       "ENSG00000103152         0.008932  ...         0.007037         0.010907   \n",
       "ENSG00000206172         0.011098  ...         0.005266         0.008916   \n",
       "ENSG00000086506         0.022178  ...         0.006746         0.009765   \n",
       "ENSG00000076344         0.025707  ...         0.002038         0.005548   \n",
       "\n",
       "                 ENSG00000167513  ENSG00000198931  ENSG00000141012  \\\n",
       "ENSG00000161980         0.003711         0.001553         0.005214   \n",
       "ENSG00000103152         0.007026         0.004577         0.008902   \n",
       "ENSG00000206172         0.004529         0.003817         0.001948   \n",
       "ENSG00000086506         0.005766         0.002963         0.004049   \n",
       "ENSG00000076344         0.005579         0.003054         0.004978   \n",
       "\n",
       "                 ENSG00000129993  ENSG00000167526  ENSG00000187741  \\\n",
       "ENSG00000161980         0.006527         0.003291         0.003797   \n",
       "ENSG00000103152         0.009625         0.009660         0.004330   \n",
       "ENSG00000206172         0.002598         0.000407         0.001629   \n",
       "ENSG00000086506         0.005167         0.005203         0.003681   \n",
       "ENSG00000076344         0.007174         0.001665         0.004381   \n",
       "\n",
       "                 ENSG00000258839  ENSG00000258947  \n",
       "ENSG00000161980         0.011026         0.011151  \n",
       "ENSG00000103152         0.007823         0.016650  \n",
       "ENSG00000206172         0.000950         0.005550  \n",
       "ENSG00000086506         0.006142         0.009180  \n",
       "ENSG00000076344         0.004569         0.005661  \n",
       "\n",
       "[5 rows x 274 columns]"
      ]
     },
     "execution_count": 31,
     "metadata": {},
     "output_type": "execute_result"
    }
   ],
   "source": [
    "gene_corrs_df.head()"
   ]
  },
  {
   "cell_type": "markdown",
   "id": "dad6603f-01c6-41fb-a6f6-241051207dd8",
   "metadata": {
    "papermill": {
     "duration": 2.357957,
     "end_time": "2022-08-27T07:07:05.360887",
     "exception": false,
     "start_time": "2022-08-27T07:07:03.002930",
     "status": "completed"
    },
    "tags": []
   },
   "source": [
    "## Standard checks and stats"
   ]
  },
  {
   "cell_type": "code",
   "execution_count": 32,
   "id": "286686af-1b7b-4440-8453-6bdcbd8de19c",
   "metadata": {
    "execution": {
     "iopub.execute_input": "2022-08-27T07:07:10.124714Z",
     "iopub.status.busy": "2022-08-27T07:07:10.124429Z",
     "iopub.status.idle": "2022-08-27T07:07:10.144655Z",
     "shell.execute_reply": "2022-08-27T07:07:10.144104Z"
    },
    "papermill": {
     "duration": 2.439473,
     "end_time": "2022-08-27T07:07:10.146254",
     "exception": false,
     "start_time": "2022-08-27T07:07:07.706781",
     "status": "completed"
    },
    "tags": []
   },
   "outputs": [],
   "source": [
    "assert not gene_corrs_df.isna().any().any()"
   ]
  },
  {
   "cell_type": "code",
   "execution_count": 33,
   "id": "00583efc-7068-4270-ad1e-4a418e91db96",
   "metadata": {
    "execution": {
     "iopub.execute_input": "2022-08-27T07:07:14.909685Z",
     "iopub.status.busy": "2022-08-27T07:07:14.909411Z",
     "iopub.status.idle": "2022-08-27T07:07:14.932151Z",
     "shell.execute_reply": "2022-08-27T07:07:14.931625Z"
    },
    "papermill": {
     "duration": 2.471578,
     "end_time": "2022-08-27T07:07:14.933684",
     "exception": false,
     "start_time": "2022-08-27T07:07:12.462106",
     "status": "completed"
    },
    "tags": []
   },
   "outputs": [
    {
     "data": {
      "text/plain": [
       "1.4800305539327332e-06"
      ]
     },
     "metadata": {},
     "output_type": "display_data"
    }
   ],
   "source": [
    "_min_val = gene_corrs_df.min().min()\n",
    "display(_min_val)\n",
    "assert _min_val >= -0.05"
   ]
  },
  {
   "cell_type": "code",
   "execution_count": 34,
   "id": "d04fb2cf-1050-475b-b855-f5f7cc04092b",
   "metadata": {
    "execution": {
     "iopub.execute_input": "2022-08-27T07:07:19.763391Z",
     "iopub.status.busy": "2022-08-27T07:07:19.763108Z",
     "iopub.status.idle": "2022-08-27T07:07:19.786015Z",
     "shell.execute_reply": "2022-08-27T07:07:19.785476Z"
    },
    "papermill": {
     "duration": 2.470745,
     "end_time": "2022-08-27T07:07:19.787665",
     "exception": false,
     "start_time": "2022-08-27T07:07:17.316920",
     "status": "completed"
    },
    "tags": []
   },
   "outputs": [
    {
     "data": {
      "text/plain": [
       "1.0000000000000036"
      ]
     },
     "metadata": {},
     "output_type": "display_data"
    }
   ],
   "source": [
    "_max_val = gene_corrs_df.max().max()  # this captures the diagonal\n",
    "display(_max_val)\n",
    "assert _max_val <= 1.05"
   ]
  },
  {
   "cell_type": "code",
   "execution_count": 35,
   "id": "96d02c44-1fba-47be-8a93-8f2608420b9c",
   "metadata": {
    "execution": {
     "iopub.execute_input": "2022-08-27T07:07:24.714215Z",
     "iopub.status.busy": "2022-08-27T07:07:24.713922Z",
     "iopub.status.idle": "2022-08-27T07:07:24.732864Z",
     "shell.execute_reply": "2022-08-27T07:07:24.732343Z"
    },
    "papermill": {
     "duration": 2.415818,
     "end_time": "2022-08-27T07:07:24.734504",
     "exception": false,
     "start_time": "2022-08-27T07:07:22.318686",
     "status": "completed"
    },
    "tags": []
   },
   "outputs": [],
   "source": [
    "# check upper triangular values\n",
    "# assert len(gene_corrs) == int(genes_chr.shape[0] * (genes_chr.shape[0] - 1) / 2)"
   ]
  },
  {
   "cell_type": "code",
   "execution_count": 36,
   "id": "fe283586-c348-40e0-8841-f6d97bfb021c",
   "metadata": {
    "execution": {
     "iopub.execute_input": "2022-08-27T07:07:29.665776Z",
     "iopub.status.busy": "2022-08-27T07:07:29.665489Z",
     "iopub.status.idle": "2022-08-27T07:07:29.693732Z",
     "shell.execute_reply": "2022-08-27T07:07:29.693207Z"
    },
    "papermill": {
     "duration": 2.55018,
     "end_time": "2022-08-27T07:07:29.695224",
     "exception": false,
     "start_time": "2022-08-27T07:07:27.145044",
     "status": "completed"
    },
    "tags": []
   },
   "outputs": [
    {
     "data": {
      "text/plain": [
       "count    37675.000000\n",
       "mean         0.018430\n",
       "std          0.095793\n",
       "min          0.000001\n",
       "25%          0.003471\n",
       "50%          0.005482\n",
       "75%          0.007860\n",
       "max          1.000000\n",
       "dtype: float64"
      ]
     },
     "execution_count": 36,
     "metadata": {},
     "output_type": "execute_result"
    }
   ],
   "source": [
    "gene_corrs_flat.describe()"
   ]
  },
  {
   "cell_type": "code",
   "execution_count": 37,
   "id": "b3815678-0f93-4b35-897b-a9d047a2aa78",
   "metadata": {
    "execution": {
     "iopub.execute_input": "2022-08-27T07:07:34.533076Z",
     "iopub.status.busy": "2022-08-27T07:07:34.532815Z",
     "iopub.status.idle": "2022-08-27T07:07:34.556783Z",
     "shell.execute_reply": "2022-08-27T07:07:34.556255Z"
    },
    "papermill": {
     "duration": 2.502862,
     "end_time": "2022-08-27T07:07:34.558267",
     "exception": false,
     "start_time": "2022-08-27T07:07:32.055405",
     "status": "completed"
    },
    "tags": []
   },
   "outputs": [
    {
     "data": {
      "text/plain": [
       "0.00    0.000001\n",
       "0.05    0.001289\n",
       "0.10    0.002002\n",
       "0.15    0.002556\n",
       "0.20    0.003034\n",
       "0.25    0.003471\n",
       "0.30    0.003887\n",
       "0.35    0.004294\n",
       "0.40    0.004688\n",
       "0.45    0.005093\n",
       "0.50    0.005482\n",
       "0.55    0.005880\n",
       "0.60    0.006317\n",
       "0.65    0.006791\n",
       "0.70    0.007289\n",
       "0.75    0.007860\n",
       "0.80    0.008565\n",
       "0.85    0.009489\n",
       "0.90    0.010844\n",
       "0.95    0.014300\n",
       "dtype: float64"
      ]
     },
     "metadata": {},
     "output_type": "display_data"
    }
   ],
   "source": [
    "gene_corrs_quantiles = gene_corrs_flat.quantile(np.arange(0, 1, 0.05))\n",
    "display(gene_corrs_quantiles)"
   ]
  },
  {
   "cell_type": "markdown",
   "id": "87134509-b145-4a10-8bc9-b7e914c2b0fa",
   "metadata": {
    "papermill": {
     "duration": 2.293576,
     "end_time": "2022-08-27T07:07:39.269216",
     "exception": false,
     "start_time": "2022-08-27T07:07:36.975640",
     "status": "completed"
    },
    "tags": []
   },
   "source": [
    "## Positive definiteness"
   ]
  },
  {
   "cell_type": "code",
   "execution_count": 38,
   "id": "07d9a9a1-a4f7-48aa-b916-6d42a8cc6186",
   "metadata": {
    "execution": {
     "iopub.execute_input": "2022-08-27T07:07:44.023622Z",
     "iopub.status.busy": "2022-08-27T07:07:44.023348Z",
     "iopub.status.idle": "2022-08-27T07:07:44.069374Z",
     "shell.execute_reply": "2022-08-27T07:07:44.068560Z"
    },
    "papermill": {
     "duration": 2.4262,
     "end_time": "2022-08-27T07:07:44.070902",
     "exception": false,
     "start_time": "2022-08-27T07:07:41.644702",
     "status": "completed"
    },
    "tags": []
   },
   "outputs": [
    {
     "data": {
      "text/plain": [
       "0"
      ]
     },
     "metadata": {},
     "output_type": "display_data"
    },
    {
     "data": {
      "text/plain": [
       "array([], dtype=float64)"
      ]
     },
     "metadata": {},
     "output_type": "display_data"
    }
   ],
   "source": [
    "# print negative eigenvalues\n",
    "eigs = np.linalg.eigvals(gene_corrs_df.to_numpy())\n",
    "display(len(eigs[eigs < 0]))\n",
    "display(eigs[eigs < 0])"
   ]
  },
  {
   "cell_type": "code",
   "execution_count": 39,
   "id": "6e218436-c3c5-4028-8c94-a4fa6260efce",
   "metadata": {
    "execution": {
     "iopub.execute_input": "2022-08-27T07:07:48.812464Z",
     "iopub.status.busy": "2022-08-27T07:07:48.812193Z",
     "iopub.status.idle": "2022-08-27T07:07:48.843616Z",
     "shell.execute_reply": "2022-08-27T07:07:48.843047Z"
    },
    "papermill": {
     "duration": 2.346582,
     "end_time": "2022-08-27T07:07:48.845140",
     "exception": false,
     "start_time": "2022-08-27T07:07:46.498558",
     "status": "completed"
    },
    "tags": []
   },
   "outputs": [
    {
     "name": "stdout",
     "output_type": "stream",
     "text": [
      "Works!\n"
     ]
    }
   ],
   "source": [
    "try:\n",
    "    chol_mat = np.linalg.cholesky(gene_corrs_df.to_numpy())\n",
    "    cov_inv = np.linalg.inv(chol_mat)\n",
    "    print(\"Works!\")\n",
    "except Exception as e:\n",
    "    print(f\"Cholesky decomposition failed: {str(e)}\")"
   ]
  },
  {
   "cell_type": "code",
   "execution_count": 40,
   "id": "dd8827fb-faf9-4c7c-9454-015e94752706",
   "metadata": {
    "execution": {
     "iopub.execute_input": "2022-08-27T07:07:53.619770Z",
     "iopub.status.busy": "2022-08-27T07:07:53.619480Z",
     "iopub.status.idle": "2022-08-27T07:07:53.645064Z",
     "shell.execute_reply": "2022-08-27T07:07:53.644364Z"
    },
    "papermill": {
     "duration": 2.406072,
     "end_time": "2022-08-27T07:07:53.646491",
     "exception": false,
     "start_time": "2022-08-27T07:07:51.240419",
     "status": "completed"
    },
    "tags": []
   },
   "outputs": [
    {
     "name": "stdout",
     "output_type": "stream",
     "text": [
      "Works!\n"
     ]
    }
   ],
   "source": [
    "try:\n",
    "    # decomposition used by statsmodels.GLS\n",
    "    cholsigmainv = np.linalg.cholesky(np.linalg.inv(gene_corrs_df.to_numpy())).T\n",
    "    print(\"Works!\")\n",
    "except Exception as e:\n",
    "    print(f\"Cholesky decomposition failed (statsmodels.GLS): {str(e)}\")"
   ]
  },
  {
   "cell_type": "markdown",
   "id": "8e60a080-edb2-4e9c-b2ef-22961693200c",
   "metadata": {
    "papermill": {
     "duration": 2.482668,
     "end_time": "2022-08-27T07:07:58.492195",
     "exception": false,
     "start_time": "2022-08-27T07:07:56.009527",
     "status": "completed"
    },
    "tags": []
   },
   "source": [
    "## Plot: distribution"
   ]
  },
  {
   "cell_type": "code",
   "execution_count": 41,
   "id": "8301126b-a7d4-4744-9c7d-f0f86eb6f54c",
   "metadata": {
    "execution": {
     "iopub.execute_input": "2022-08-27T07:08:03.207883Z",
     "iopub.status.busy": "2022-08-27T07:08:03.207608Z",
     "iopub.status.idle": "2022-08-27T07:08:10.257421Z",
     "shell.execute_reply": "2022-08-27T07:08:10.256871Z"
    },
    "papermill": {
     "duration": 9.390904,
     "end_time": "2022-08-27T07:08:10.259012",
     "exception": false,
     "start_time": "2022-08-27T07:08:00.868108",
     "status": "completed"
    },
    "tags": []
   },
   "outputs": [
    {
     "data": {
      "image/png": "[encoded data removed]",
      "text/plain": [
       "<Figure size 504x504 with 1 Axes>"
      ]
     },
     "metadata": {
      "needs_background": "light"
     },
     "output_type": "display_data"
    }
   ],
   "source": [
    "with sns.plotting_context(\"paper\", font_scale=1.5):\n",
    "    g = sns.displot(gene_corrs_flat, kde=True, height=7)\n",
    "    g.ax.set_title(\n",
    "        f\"Distribution of gene correlation values in chromosome {CHROMOSOME}\"\n",
    "    )"
   ]
  },
  {
   "cell_type": "markdown",
   "id": "cbd52bca-d878-4a2f-b684-5c83aa3038d4",
   "metadata": {
    "papermill": {
     "duration": 2.392812,
     "end_time": "2022-08-27T07:08:15.060952",
     "exception": false,
     "start_time": "2022-08-27T07:08:12.668140",
     "status": "completed"
    },
    "tags": []
   },
   "source": [
    "## Plot: heatmap"
   ]
  },
  {
   "cell_type": "code",
   "execution_count": 42,
   "id": "d03fe63a-c7b2-4fb9-a53c-db362ce843c9",
   "metadata": {
    "execution": {
     "iopub.execute_input": "2022-08-27T07:08:19.789512Z",
     "iopub.status.busy": "2022-08-27T07:08:19.789245Z",
     "iopub.status.idle": "2022-08-27T07:08:19.809943Z",
     "shell.execute_reply": "2022-08-27T07:08:19.809444Z"
    },
    "papermill": {
     "duration": 2.401804,
     "end_time": "2022-08-27T07:08:19.811366",
     "exception": false,
     "start_time": "2022-08-27T07:08:17.409562",
     "status": "completed"
    },
    "tags": []
   },
   "outputs": [
    {
     "data": {
      "text/plain": [
       "'0.0 / 0.05'"
      ]
     },
     "metadata": {},
     "output_type": "display_data"
    }
   ],
   "source": [
    "vmin_val = min(0.00, gene_corrs_quantiles[0.10])\n",
    "vmax_val = max(0.05, gene_corrs_quantiles[0.90])\n",
    "display(f\"{vmin_val} / {vmax_val}\")"
   ]
  },
  {
   "cell_type": "code",
   "execution_count": 43,
   "id": "dc41b70b-5bcc-4d9e-9f33-a22c4a94dab5",
   "metadata": {
    "execution": {
     "iopub.execute_input": "2022-08-27T07:08:24.543951Z",
     "iopub.status.busy": "2022-08-27T07:08:24.543688Z",
     "iopub.status.idle": "2022-08-27T07:08:25.430409Z",
     "shell.execute_reply": "2022-08-27T07:08:25.429871Z"
    },
    "papermill": {
     "duration": 3.286656,
     "end_time": "2022-08-27T07:08:25.432042",
     "exception": false,
     "start_time": "2022-08-27T07:08:22.145386",
     "status": "completed"
    },
    "tags": []
   },
   "outputs": [
    {
     "data": {
      "text/plain": [
       "Text(0.5, 1.0, 'Gene correlations in chromosome 16')"
      ]
     },
     "execution_count": 43,
     "metadata": {},
     "output_type": "execute_result"
    },
    {
     "data": {
      "image/png": "[encoded data removed]",
      "text/plain": [
       "<Figure size 720x720 with 2 Axes>"
      ]
     },
     "metadata": {
      "needs_background": "light"
     },
     "output_type": "display_data"
    }
   ],
   "source": [
    "f, ax = plt.subplots(figsize=(10, 10))\n",
    "sns.heatmap(\n",
    "    gene_corrs_df,\n",
    "    xticklabels=False,\n",
    "    yticklabels=False,\n",
    "    square=True,\n",
    "    vmin=vmin_val,\n",
    "    vmax=vmax_val,\n",
    "    cmap=\"rocket_r\",\n",
    "    ax=ax,\n",
    ")\n",
    "ax.set_title(f\"Gene correlations in chromosome {CHROMOSOME}\")"
   ]
  },
  {
   "cell_type": "code",
   "execution_count": null,
   "id": "b25e3ead",
   "metadata": {
    "papermill": {
     "duration": 2.435816,
     "end_time": "2022-08-27T07:08:30.211243",
     "exception": false,
     "start_time": "2022-08-27T07:08:27.775427",
     "status": "completed"
    },
    "tags": []
   },
   "outputs": [],
   "source": []
  }
 ],
 "metadata": {
  "jupytext": {
   "cell_metadata_filter": "all,-execution,-papermill,-trusted",
   "formats": "ipynb,py//py:percent"
  },
  "kernelspec": {
   "display_name": "Python 3 (ipykernel)",
   "language": "python",
   "name": "python3"
  },
  "language_info": {
   "codemirror_mode": {
    "name": "ipython",
    "version": 3
   },
   "file_extension": ".py",
   "mimetype": "text/x-python",
   "name": "python",
   "nbconvert_exporter": "python",
   "pygments_lexer": "ipython3",
   "version": "3.8.13"
  },
  "papermill": {
   "default_parameters": {},
   "duration": 3919.444748,
   "end_time": "2022-08-27T07:08:35.634928",
   "environment_variables": {},
   "exception": null,
   "input_path": "nbs/15_gsa_gls/10-gene_expr_correlations.ipynb",
   "output_path": "nbs/15_gsa_gls/gene_corrs/cohorts/phenomexcan_other/gtex_v8/mashr/10-gene_expr_corrs/10-gene_expr_correlations-chr16.run.ipynb",
   "parameters": {
    "CHROMOSOME": 16,
    "COHORT_NAME": "phenomexcan_other",
    "EQTL_MODEL": "MASHR",
    "REFERENCE_PANEL": "GTEX_V8"
   },
   "start_time": "2022-08-27T06:03:16.190180",
   "version": "2.2.2"
  }
 },
 "nbformat": 4,
 "nbformat_minor": 5
}
