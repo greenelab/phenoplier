{
 "cells": [
  {
   "cell_type": "markdown",
   "id": "7a6632fb",
   "metadata": {
    "papermill": {
     "duration": 0.009395,
     "end_time": "2022-08-27T06:03:18.369039",
     "exception": false,
     "start_time": "2022-08-27T06:03:18.359644",
     "status": "completed"
    },
    "tags": []
   },
   "source": [
    "# Description"
   ]
  },
  {
   "cell_type": "markdown",
   "id": "7097c346",
   "metadata": {
    "papermill": {
     "duration": 0.008089,
     "end_time": "2022-08-27T06:03:18.385305",
     "exception": false,
     "start_time": "2022-08-27T06:03:18.377216",
     "status": "completed"
    },
    "tags": []
   },
   "source": [
    "(Please, take a look at the README.md file in this directory for instructions on how to run this notebook)\n",
    "\n",
    "This notebook computes predicted expression correlations between all genes in the MultiPLIER models.\n",
    "\n",
    "It also has a parameter set for papermill to run on a single chromosome to run in parallel (see under `Settings` below).\n",
    "\n",
    "This notebook is not directly run. See README.md."
   ]
  },
  {
   "cell_type": "markdown",
   "id": "c61d8427",
   "metadata": {
    "papermill": {
     "duration": 0.00803,
     "end_time": "2022-08-27T06:03:18.402514",
     "exception": false,
     "start_time": "2022-08-27T06:03:18.394484",
     "status": "completed"
    },
    "tags": []
   },
   "source": [
    "# Modules"
   ]
  },
  {
   "cell_type": "code",
   "execution_count": 1,
   "id": "bbc0234f",
   "metadata": {
    "execution": {
     "iopub.execute_input": "2022-08-27T06:03:18.420222Z",
     "iopub.status.busy": "2022-08-27T06:03:18.419970Z",
     "iopub.status.idle": "2022-08-27T06:03:18.438525Z",
     "shell.execute_reply": "2022-08-27T06:03:18.437997Z"
    },
    "papermill": {
     "duration": 0.029424,
     "end_time": "2022-08-27T06:03:18.440324",
     "exception": false,
     "start_time": "2022-08-27T06:03:18.410900",
     "status": "completed"
    },
    "tags": []
   },
   "outputs": [],
   "source": [
    "%load_ext autoreload\n",
    "%autoreload 2"
   ]
  },
  {
   "cell_type": "code",
   "execution_count": 2,
   "id": "1d5f5a59",
   "metadata": {
    "execution": {
     "iopub.execute_input": "2022-08-27T06:03:18.458064Z",
     "iopub.status.busy": "2022-08-27T06:03:18.457858Z",
     "iopub.status.idle": "2022-08-27T06:03:20.033685Z",
     "shell.execute_reply": "2022-08-27T06:03:20.033087Z"
    },
    "papermill": {
     "duration": 1.587343,
     "end_time": "2022-08-27T06:03:20.035745",
     "exception": false,
     "start_time": "2022-08-27T06:03:18.448402",
     "status": "completed"
    },
    "tags": []
   },
   "outputs": [],
   "source": [
    "from random import sample, seed\n",
    "import warnings\n",
    "from pathlib import Path\n",
    "import pickle\n",
    "import traceback\n",
    "\n",
    "import numpy as np\n",
    "from scipy.spatial.distance import squareform\n",
    "import pandas as pd\n",
    "from tqdm import tqdm\n",
    "import matplotlib.pyplot as plt\n",
    "import seaborn as sns\n",
    "\n",
    "import conf\n",
    "from entity import Gene"
   ]
  },
  {
   "cell_type": "markdown",
   "id": "1eac24b5",
   "metadata": {
    "papermill": {
     "duration": 0.008643,
     "end_time": "2022-08-27T06:03:20.076598",
     "exception": false,
     "start_time": "2022-08-27T06:03:20.067955",
     "status": "completed"
    },
    "tags": []
   },
   "source": [
    "# Settings"
   ]
  },
  {
   "cell_type": "code",
   "execution_count": 3,
   "id": "ca4560ba",
   "metadata": {
    "execution": {
     "iopub.execute_input": "2022-08-27T06:03:20.099375Z",
     "iopub.status.busy": "2022-08-27T06:03:20.099115Z",
     "iopub.status.idle": "2022-08-27T06:03:20.119820Z",
     "shell.execute_reply": "2022-08-27T06:03:20.119287Z"
    },
    "papermill": {
     "duration": 0.034618,
     "end_time": "2022-08-27T06:03:20.121554",
     "exception": false,
     "start_time": "2022-08-27T06:03:20.086936",
     "status": "completed"
    },
    "tags": [
     "parameters"
    ]
   },
   "outputs": [],
   "source": [
    "# a cohort name (it could be something like UK_BIOBANK, etc)\n",
    "COHORT_NAME = None\n",
    "\n",
    "# reference panel such as 1000G or GTEX_V8\n",
    "REFERENCE_PANEL = None\n",
    "\n",
    "# predictions models such as MASHR or ELASTIC_NET\n",
    "EQTL_MODEL = None\n",
    "\n",
    "# this is the default value used in S-MultiXcan to select the\n",
    "# top principal components of the expression correlation matrix\n",
    "SMULTIXCAN_CONDITION_NUMBER = 30\n",
    "\n",
    "# specifies a single chromosome value\n",
    "CHROMOSOME = None\n",
    "\n",
    "# If True, computes the correlation between closeby genes only;\n",
    "# otherwise, it computes correlations for all genes in a chromosome\n",
    "COMPUTE_CORRELATIONS_WITHIN_DISTANCE = False\n",
    "\n",
    "# if True, then it will continue if a gene pair correlation fails,\n",
    "# printing the warning/error for debugging. If False, any warning/error\n",
    "# will be thrown\n",
    "DEBUG_MODE = False"
   ]
  },
  {
   "cell_type": "code",
   "execution_count": 4,
   "id": "79c13bbb",
   "metadata": {
    "execution": {
     "iopub.execute_input": "2022-08-27T06:03:20.141858Z",
     "iopub.status.busy": "2022-08-27T06:03:20.141646Z",
     "iopub.status.idle": "2022-08-27T06:03:20.159045Z",
     "shell.execute_reply": "2022-08-27T06:03:20.158507Z"
    },
    "papermill": {
     "duration": 0.030263,
     "end_time": "2022-08-27T06:03:20.160726",
     "exception": false,
     "start_time": "2022-08-27T06:03:20.130463",
     "status": "completed"
    },
    "tags": [
     "injected-parameters"
    ]
   },
   "outputs": [],
   "source": [
    "# Parameters\n",
    "COHORT_NAME = \"phenomexcan_other\"\n",
    "REFERENCE_PANEL = \"GTEX_V8\"\n",
    "EQTL_MODEL = \"MASHR\"\n",
    "CHROMOSOME = 21\n"
   ]
  },
  {
   "cell_type": "code",
   "execution_count": 5,
   "id": "3190631f-27fc-480f-b18e-571d580425a5",
   "metadata": {
    "execution": {
     "iopub.execute_input": "2022-08-27T06:03:20.198094Z",
     "iopub.status.busy": "2022-08-27T06:03:20.197874Z",
     "iopub.status.idle": "2022-08-27T06:03:20.219055Z",
     "shell.execute_reply": "2022-08-27T06:03:20.218517Z"
    },
    "papermill": {
     "duration": 0.049645,
     "end_time": "2022-08-27T06:03:20.220607",
     "exception": false,
     "start_time": "2022-08-27T06:03:20.170962",
     "status": "completed"
    },
    "tags": []
   },
   "outputs": [
    {
     "data": {
      "text/plain": [
       "'Cohort name: phenomexcan_other'"
      ]
     },
     "metadata": {},
     "output_type": "display_data"
    }
   ],
   "source": [
    "assert COHORT_NAME is not None and len(COHORT_NAME) > 0, \"A cohort name must be given\"\n",
    "\n",
    "COHORT_NAME = COHORT_NAME.lower()\n",
    "display(f\"Cohort name: {COHORT_NAME}\")"
   ]
  },
  {
   "cell_type": "code",
   "execution_count": 6,
   "id": "f53ba19b-0f93-4fa2-a047-63b375939d1a",
   "metadata": {
    "execution": {
     "iopub.execute_input": "2022-08-27T06:03:20.242010Z",
     "iopub.status.busy": "2022-08-27T06:03:20.241805Z",
     "iopub.status.idle": "2022-08-27T06:03:20.260858Z",
     "shell.execute_reply": "2022-08-27T06:03:20.260318Z"
    },
    "papermill": {
     "duration": 0.03152,
     "end_time": "2022-08-27T06:03:20.262412",
     "exception": false,
     "start_time": "2022-08-27T06:03:20.230892",
     "status": "completed"
    },
    "tags": []
   },
   "outputs": [
    {
     "data": {
      "text/plain": [
       "'Reference panel: GTEX_V8'"
      ]
     },
     "metadata": {},
     "output_type": "display_data"
    }
   ],
   "source": [
    "assert (\n",
    "    REFERENCE_PANEL is not None and len(REFERENCE_PANEL) > 0\n",
    "), \"A reference panel must be given\"\n",
    "\n",
    "display(f\"Reference panel: {REFERENCE_PANEL}\")"
   ]
  },
  {
   "cell_type": "code",
   "execution_count": 7,
   "id": "e024d130-c139-429a-9c6e-ccf149e297b0",
   "metadata": {
    "execution": {
     "iopub.execute_input": "2022-08-27T06:03:20.284718Z",
     "iopub.status.busy": "2022-08-27T06:03:20.284518Z",
     "iopub.status.idle": "2022-08-27T06:03:20.303739Z",
     "shell.execute_reply": "2022-08-27T06:03:20.303230Z"
    },
    "papermill": {
     "duration": 0.031058,
     "end_time": "2022-08-27T06:03:20.305314",
     "exception": false,
     "start_time": "2022-08-27T06:03:20.274256",
     "status": "completed"
    },
    "tags": []
   },
   "outputs": [
    {
     "data": {
      "text/plain": [
       "'eQTL model: MASHR) / mashr_'"
      ]
     },
     "metadata": {},
     "output_type": "display_data"
    }
   ],
   "source": [
    "assert (\n",
    "    EQTL_MODEL is not None and len(EQTL_MODEL) > 0\n",
    "), \"A prediction/eQTL model must be given\"\n",
    "\n",
    "EQTL_MODEL_FILES_PREFIX = conf.PHENOMEXCAN[\"PREDICTION_MODELS\"][f\"{EQTL_MODEL}_PREFIX\"]\n",
    "display(f\"eQTL model: {EQTL_MODEL}) / {EQTL_MODEL_FILES_PREFIX}\")"
   ]
  },
  {
   "cell_type": "code",
   "execution_count": 8,
   "id": "552a7f63-a18c-4d3e-bb6a-94f99b431291",
   "metadata": {
    "execution": {
     "iopub.execute_input": "2022-08-27T06:03:20.333975Z",
     "iopub.status.busy": "2022-08-27T06:03:20.333746Z",
     "iopub.status.idle": "2022-08-27T06:03:20.352750Z",
     "shell.execute_reply": "2022-08-27T06:03:20.352243Z"
    },
    "papermill": {
     "duration": 0.037117,
     "end_time": "2022-08-27T06:03:20.354317",
     "exception": false,
     "start_time": "2022-08-27T06:03:20.317200",
     "status": "completed"
    },
    "tags": []
   },
   "outputs": [
    {
     "data": {
      "text/plain": [
       "'S-MultiXcan condition number: 30'"
      ]
     },
     "metadata": {},
     "output_type": "display_data"
    }
   ],
   "source": [
    "assert (\n",
    "    SMULTIXCAN_CONDITION_NUMBER is not None and SMULTIXCAN_CONDITION_NUMBER > 0\n",
    "), \"The S-MultiXcan condition number (positive integer) must be given\"\n",
    "\n",
    "display(f\"S-MultiXcan condition number: {SMULTIXCAN_CONDITION_NUMBER}\")"
   ]
  },
  {
   "cell_type": "code",
   "execution_count": 9,
   "id": "f34a336f-548e-4afe-8955-90eaea4f42c6",
   "metadata": {
    "execution": {
     "iopub.execute_input": "2022-08-27T06:03:20.373356Z",
     "iopub.status.busy": "2022-08-27T06:03:20.373158Z",
     "iopub.status.idle": "2022-08-27T06:03:20.392147Z",
     "shell.execute_reply": "2022-08-27T06:03:20.391595Z"
    },
    "papermill": {
     "duration": 0.030528,
     "end_time": "2022-08-27T06:03:20.393668",
     "exception": false,
     "start_time": "2022-08-27T06:03:20.363140",
     "status": "completed"
    },
    "tags": []
   },
   "outputs": [
    {
     "data": {
      "text/plain": [
       "'Working on chromosome 21'"
      ]
     },
     "metadata": {},
     "output_type": "display_data"
    }
   ],
   "source": [
    "assert CHROMOSOME is not None and (\n",
    "    1 <= CHROMOSOME <= 22\n",
    "), \"You have to select one chromosome (format: number between 1 and 22)\"\n",
    "\n",
    "# CHROMOSOME = str(CHROMOSOME)\n",
    "display(f\"Working on chromosome {CHROMOSOME}\")"
   ]
  },
  {
   "cell_type": "code",
   "execution_count": 10,
   "id": "ab8e96e8-06b5-4363-9dcd-dc4d78cc27f7",
   "metadata": {
    "execution": {
     "iopub.execute_input": "2022-08-27T06:03:20.424178Z",
     "iopub.status.busy": "2022-08-27T06:03:20.423961Z",
     "iopub.status.idle": "2022-08-27T06:03:20.442952Z",
     "shell.execute_reply": "2022-08-27T06:03:20.442417Z"
    },
    "papermill": {
     "duration": 0.033687,
     "end_time": "2022-08-27T06:03:20.444488",
     "exception": false,
     "start_time": "2022-08-27T06:03:20.410801",
     "status": "completed"
    },
    "tags": []
   },
   "outputs": [
    {
     "data": {
      "text/plain": [
       "'Compute correlation within distance False'"
      ]
     },
     "metadata": {},
     "output_type": "display_data"
    }
   ],
   "source": [
    "display(f\"Compute correlation within distance {COMPUTE_CORRELATIONS_WITHIN_DISTANCE}\")"
   ]
  },
  {
   "cell_type": "code",
   "execution_count": 11,
   "id": "396392dc-0340-4540-9b02-e182b833f909",
   "metadata": {
    "execution": {
     "iopub.execute_input": "2022-08-27T06:03:20.485023Z",
     "iopub.status.busy": "2022-08-27T06:03:20.484820Z",
     "iopub.status.idle": "2022-08-27T06:03:20.514274Z",
     "shell.execute_reply": "2022-08-27T06:03:20.513719Z"
    },
    "papermill": {
     "duration": 0.061977,
     "end_time": "2022-08-27T06:03:20.515822",
     "exception": false,
     "start_time": "2022-08-27T06:03:20.453845",
     "status": "completed"
    },
    "tags": []
   },
   "outputs": [
    {
     "data": {
      "text/plain": [
       "'Using output dir base: /project/ritchie20/projects/phenoplier/base/results/gls/gene_corrs/cohorts/phenomexcan_other/gtex_v8/mashr'"
      ]
     },
     "metadata": {},
     "output_type": "display_data"
    }
   ],
   "source": [
    "OUTPUT_DIR_BASE = (\n",
    "    conf.RESULTS[\"GLS\"]\n",
    "    / \"gene_corrs\"\n",
    "    / \"cohorts\"\n",
    "    / COHORT_NAME\n",
    "    / REFERENCE_PANEL.lower()\n",
    "    / EQTL_MODEL.lower()\n",
    ")\n",
    "OUTPUT_DIR_BASE.mkdir(parents=True, exist_ok=True)\n",
    "\n",
    "display(f\"Using output dir base: {OUTPUT_DIR_BASE}\")"
   ]
  },
  {
   "cell_type": "markdown",
   "id": "d2ba085e",
   "metadata": {
    "papermill": {
     "duration": 0.014813,
     "end_time": "2022-08-27T06:03:20.544270",
     "exception": false,
     "start_time": "2022-08-27T06:03:20.529457",
     "status": "completed"
    },
    "tags": []
   },
   "source": [
    "# Load data"
   ]
  },
  {
   "cell_type": "markdown",
   "id": "7dcb8db7",
   "metadata": {
    "papermill": {
     "duration": 0.017591,
     "end_time": "2022-08-27T06:03:20.581293",
     "exception": false,
     "start_time": "2022-08-27T06:03:20.563702",
     "status": "completed"
    },
    "tags": []
   },
   "source": [
    "## GWAS variants"
   ]
  },
  {
   "cell_type": "code",
   "execution_count": 12,
   "id": "29434c4e-8cd3-4b9b-82e4-b5a251d9dd19",
   "metadata": {
    "execution": {
     "iopub.execute_input": "2022-08-27T06:03:20.623825Z",
     "iopub.status.busy": "2022-08-27T06:03:20.623603Z",
     "iopub.status.idle": "2022-08-27T06:03:24.136466Z",
     "shell.execute_reply": "2022-08-27T06:03:24.135592Z"
    },
    "papermill": {
     "duration": 3.535661,
     "end_time": "2022-08-27T06:03:24.138626",
     "exception": false,
     "start_time": "2022-08-27T06:03:20.602965",
     "status": "completed"
    },
    "tags": []
   },
   "outputs": [],
   "source": [
    "with open(OUTPUT_DIR_BASE / \"gwas_variant_ids.pkl\", \"rb\") as handle:\n",
    "    gwas_variants_ids_set = pickle.load(handle)"
   ]
  },
  {
   "cell_type": "code",
   "execution_count": 13,
   "id": "b9d9dec2-4a76-4bf9-bde2-e24c95acb8a0",
   "metadata": {
    "execution": {
     "iopub.execute_input": "2022-08-27T06:03:24.181555Z",
     "iopub.status.busy": "2022-08-27T06:03:24.181338Z",
     "iopub.status.idle": "2022-08-27T06:03:24.205526Z",
     "shell.execute_reply": "2022-08-27T06:03:24.205001Z"
    },
    "papermill": {
     "duration": 0.044633,
     "end_time": "2022-08-27T06:03:24.207096",
     "exception": false,
     "start_time": "2022-08-27T06:03:24.162463",
     "status": "completed"
    },
    "tags": []
   },
   "outputs": [
    {
     "data": {
      "text/plain": [
       "8865800"
      ]
     },
     "execution_count": 13,
     "metadata": {},
     "output_type": "execute_result"
    }
   ],
   "source": [
    "len(gwas_variants_ids_set)"
   ]
  },
  {
   "cell_type": "code",
   "execution_count": 14,
   "id": "4235b06a-6034-4ee4-a0a3-2ae35d122418",
   "metadata": {
    "execution": {
     "iopub.execute_input": "2022-08-27T06:03:24.239755Z",
     "iopub.status.busy": "2022-08-27T06:03:24.239556Z",
     "iopub.status.idle": "2022-08-27T06:03:24.841315Z",
     "shell.execute_reply": "2022-08-27T06:03:24.840713Z"
    },
    "papermill": {
     "duration": 0.61769,
     "end_time": "2022-08-27T06:03:24.843029",
     "exception": false,
     "start_time": "2022-08-27T06:03:24.225339",
     "status": "completed"
    },
    "tags": []
   },
   "outputs": [
    {
     "data": {
      "text/plain": [
       "['chr4_13086721_G_A_b38',\n",
       " 'chr3_40194606_G_A_b38',\n",
       " 'chr4_56363195_G_C_b38',\n",
       " 'chr1_101369273_C_T_b38',\n",
       " 'chr14_68096502_G_A_b38']"
      ]
     },
     "execution_count": 14,
     "metadata": {},
     "output_type": "execute_result"
    }
   ],
   "source": [
    "list(gwas_variants_ids_set)[:5]"
   ]
  },
  {
   "cell_type": "markdown",
   "id": "07866999-2305-41f9-a144-e69c9122c212",
   "metadata": {
    "papermill": {
     "duration": 0.011839,
     "end_time": "2022-08-27T06:03:24.865014",
     "exception": false,
     "start_time": "2022-08-27T06:03:24.853175",
     "status": "completed"
    },
    "tags": []
   },
   "source": [
    "## S-PrediXcan tissue models"
   ]
  },
  {
   "cell_type": "code",
   "execution_count": 15,
   "id": "780611d9-77c8-405f-90a4-f271f7b09397",
   "metadata": {
    "execution": {
     "iopub.execute_input": "2022-08-27T06:03:24.885004Z",
     "iopub.status.busy": "2022-08-27T06:03:24.884790Z",
     "iopub.status.idle": "2022-08-27T06:03:25.824884Z",
     "shell.execute_reply": "2022-08-27T06:03:25.824269Z"
    },
    "papermill": {
     "duration": 0.952387,
     "end_time": "2022-08-27T06:03:25.826910",
     "exception": false,
     "start_time": "2022-08-27T06:03:24.874523",
     "status": "completed"
    },
    "tags": []
   },
   "outputs": [],
   "source": [
    "spredixcan_genes_models = pd.read_pickle(OUTPUT_DIR_BASE / \"gene_tissues.pkl\")"
   ]
  },
  {
   "cell_type": "code",
   "execution_count": 16,
   "id": "726dd1f6-9557-4225-91fa-b3b879ea96e1",
   "metadata": {
    "execution": {
     "iopub.execute_input": "2022-08-27T06:03:25.849969Z",
     "iopub.status.busy": "2022-08-27T06:03:25.849728Z",
     "iopub.status.idle": "2022-08-27T06:03:25.871201Z",
     "shell.execute_reply": "2022-08-27T06:03:25.870646Z"
    },
    "papermill": {
     "duration": 0.035418,
     "end_time": "2022-08-27T06:03:25.872729",
     "exception": false,
     "start_time": "2022-08-27T06:03:25.837311",
     "status": "completed"
    },
    "tags": []
   },
   "outputs": [
    {
     "data": {
      "text/plain": [
       "(6450, 3)"
      ]
     },
     "execution_count": 16,
     "metadata": {},
     "output_type": "execute_result"
    }
   ],
   "source": [
    "spredixcan_genes_models.shape"
   ]
  },
  {
   "cell_type": "code",
   "execution_count": 17,
   "id": "944a1b48-222c-4eb0-b252-b9de2cbca215",
   "metadata": {
    "execution": {
     "iopub.execute_input": "2022-08-27T06:03:25.894281Z",
     "iopub.status.busy": "2022-08-27T06:03:25.894065Z",
     "iopub.status.idle": "2022-08-27T06:03:25.921179Z",
     "shell.execute_reply": "2022-08-27T06:03:25.920623Z"
    },
    "papermill": {
     "duration": 0.039963,
     "end_time": "2022-08-27T06:03:25.922707",
     "exception": false,
     "start_time": "2022-08-27T06:03:25.882744",
     "status": "completed"
    },
    "tags": []
   },
   "outputs": [
    {
     "data": {
      "text/html": [
       "<div>\n",
       "<style scoped>\n",
       "    .dataframe tbody tr th:only-of-type {\n",
       "        vertical-align: middle;\n",
       "    }\n",
       "\n",
       "    .dataframe tbody tr th {\n",
       "        vertical-align: top;\n",
       "    }\n",
       "\n",
       "    .dataframe thead th {\n",
       "        text-align: right;\n",
       "    }\n",
       "</style>\n",
       "<table border=\"1\" class=\"dataframe\">\n",
       "  <thead>\n",
       "    <tr style=\"text-align: right;\">\n",
       "      <th></th>\n",
       "      <th>gene_name</th>\n",
       "      <th>tissue</th>\n",
       "      <th>n_tissues</th>\n",
       "    </tr>\n",
       "    <tr>\n",
       "      <th>gene_id</th>\n",
       "      <th></th>\n",
       "      <th></th>\n",
       "      <th></th>\n",
       "    </tr>\n",
       "  </thead>\n",
       "  <tbody>\n",
       "    <tr>\n",
       "      <th>ENSG00000000419</th>\n",
       "      <td>DPM1</td>\n",
       "      <td>(Cells_Cultured_fibroblasts, Brain_Hypothalamu...</td>\n",
       "      <td>3</td>\n",
       "    </tr>\n",
       "    <tr>\n",
       "      <th>ENSG00000000938</th>\n",
       "      <td>FGR</td>\n",
       "      <td>(Pancreas, Esophagus_Muscularis, Brain_Cerebel...</td>\n",
       "      <td>36</td>\n",
       "    </tr>\n",
       "    <tr>\n",
       "      <th>ENSG00000000971</th>\n",
       "      <td>CFH</td>\n",
       "      <td>(Artery_Coronary, Esophagus_Muscularis, Heart_...</td>\n",
       "      <td>34</td>\n",
       "    </tr>\n",
       "    <tr>\n",
       "      <th>ENSG00000001084</th>\n",
       "      <td>GCLC</td>\n",
       "      <td>(Artery_Coronary, Pancreas, Heart_Atrial_Appen...</td>\n",
       "      <td>33</td>\n",
       "    </tr>\n",
       "    <tr>\n",
       "      <th>ENSG00000001167</th>\n",
       "      <td>NFYA</td>\n",
       "      <td>(Artery_Coronary, Esophagus_Muscularis, Heart_...</td>\n",
       "      <td>40</td>\n",
       "    </tr>\n",
       "  </tbody>\n",
       "</table>\n",
       "</div>"
      ],
      "text/plain": [
       "                gene_name                                             tissue  \\\n",
       "gene_id                                                                        \n",
       "ENSG00000000419      DPM1  (Cells_Cultured_fibroblasts, Brain_Hypothalamu...   \n",
       "ENSG00000000938       FGR  (Pancreas, Esophagus_Muscularis, Brain_Cerebel...   \n",
       "ENSG00000000971       CFH  (Artery_Coronary, Esophagus_Muscularis, Heart_...   \n",
       "ENSG00000001084      GCLC  (Artery_Coronary, Pancreas, Heart_Atrial_Appen...   \n",
       "ENSG00000001167      NFYA  (Artery_Coronary, Esophagus_Muscularis, Heart_...   \n",
       "\n",
       "                 n_tissues  \n",
       "gene_id                     \n",
       "ENSG00000000419          3  \n",
       "ENSG00000000938         36  \n",
       "ENSG00000000971         34  \n",
       "ENSG00000001084         33  \n",
       "ENSG00000001167         40  "
      ]
     },
     "execution_count": 17,
     "metadata": {},
     "output_type": "execute_result"
    }
   ],
   "source": [
    "spredixcan_genes_models.head()"
   ]
  },
  {
   "cell_type": "code",
   "execution_count": 18,
   "id": "d1c11bb1-be0b-4f40-b360-633d6827109f",
   "metadata": {
    "execution": {
     "iopub.execute_input": "2022-08-27T06:03:25.948646Z",
     "iopub.status.busy": "2022-08-27T06:03:25.948446Z",
     "iopub.status.idle": "2022-08-27T06:03:25.966231Z",
     "shell.execute_reply": "2022-08-27T06:03:25.965679Z"
    },
    "papermill": {
     "duration": 0.032807,
     "end_time": "2022-08-27T06:03:25.967885",
     "exception": false,
     "start_time": "2022-08-27T06:03:25.935078",
     "status": "completed"
    },
    "tags": []
   },
   "outputs": [],
   "source": [
    "assert spredixcan_genes_models.index.is_unique"
   ]
  },
  {
   "cell_type": "markdown",
   "id": "a5b5092c-a13e-47c4-a92a-480fcc08f3ae",
   "metadata": {
    "papermill": {
     "duration": 0.011488,
     "end_time": "2022-08-27T06:03:25.989713",
     "exception": false,
     "start_time": "2022-08-27T06:03:25.978225",
     "status": "completed"
    },
    "tags": []
   },
   "source": [
    "## Gene info"
   ]
  },
  {
   "cell_type": "code",
   "execution_count": 19,
   "id": "7d6bb224-88e9-4358-ac10-43a41d92cdad",
   "metadata": {
    "execution": {
     "iopub.execute_input": "2022-08-27T06:03:26.012346Z",
     "iopub.status.busy": "2022-08-27T06:03:26.012147Z",
     "iopub.status.idle": "2022-08-27T06:03:26.036023Z",
     "shell.execute_reply": "2022-08-27T06:03:26.035492Z"
    },
    "papermill": {
     "duration": 0.036278,
     "end_time": "2022-08-27T06:03:26.037688",
     "exception": false,
     "start_time": "2022-08-27T06:03:26.001410",
     "status": "completed"
    },
    "tags": []
   },
   "outputs": [],
   "source": [
    "genes_info = pd.read_pickle(OUTPUT_DIR_BASE / \"genes_info.pkl\")"
   ]
  },
  {
   "cell_type": "code",
   "execution_count": 20,
   "id": "9e32abfa-546d-483e-8c18-d526e9e05903",
   "metadata": {
    "execution": {
     "iopub.execute_input": "2022-08-27T06:03:26.061863Z",
     "iopub.status.busy": "2022-08-27T06:03:26.061637Z",
     "iopub.status.idle": "2022-08-27T06:03:26.080400Z",
     "shell.execute_reply": "2022-08-27T06:03:26.079874Z"
    },
    "papermill": {
     "duration": 0.032332,
     "end_time": "2022-08-27T06:03:26.081949",
     "exception": false,
     "start_time": "2022-08-27T06:03:26.049617",
     "status": "completed"
    },
    "tags": []
   },
   "outputs": [
    {
     "data": {
      "text/plain": [
       "(6450, 7)"
      ]
     },
     "execution_count": 20,
     "metadata": {},
     "output_type": "execute_result"
    }
   ],
   "source": [
    "genes_info.shape"
   ]
  },
  {
   "cell_type": "code",
   "execution_count": 21,
   "id": "d16c3e92-85ec-468a-9a56-e25a9774a1cb",
   "metadata": {
    "execution": {
     "iopub.execute_input": "2022-08-27T06:03:26.103892Z",
     "iopub.status.busy": "2022-08-27T06:03:26.103679Z",
     "iopub.status.idle": "2022-08-27T06:03:26.126753Z",
     "shell.execute_reply": "2022-08-27T06:03:26.126233Z"
    },
    "papermill": {
     "duration": 0.035245,
     "end_time": "2022-08-27T06:03:26.128276",
     "exception": false,
     "start_time": "2022-08-27T06:03:26.093031",
     "status": "completed"
    },
    "tags": []
   },
   "outputs": [
    {
     "data": {
      "text/html": [
       "<div>\n",
       "<style scoped>\n",
       "    .dataframe tbody tr th:only-of-type {\n",
       "        vertical-align: middle;\n",
       "    }\n",
       "\n",
       "    .dataframe tbody tr th {\n",
       "        vertical-align: top;\n",
       "    }\n",
       "\n",
       "    .dataframe thead th {\n",
       "        text-align: right;\n",
       "    }\n",
       "</style>\n",
       "<table border=\"1\" class=\"dataframe\">\n",
       "  <thead>\n",
       "    <tr style=\"text-align: right;\">\n",
       "      <th></th>\n",
       "      <th>name</th>\n",
       "      <th>id</th>\n",
       "      <th>chr</th>\n",
       "      <th>band</th>\n",
       "      <th>start_position</th>\n",
       "      <th>end_position</th>\n",
       "      <th>gene_length</th>\n",
       "    </tr>\n",
       "  </thead>\n",
       "  <tbody>\n",
       "    <tr>\n",
       "      <th>0</th>\n",
       "      <td>FUS</td>\n",
       "      <td>ENSG00000089280</td>\n",
       "      <td>16</td>\n",
       "      <td>16p11.2</td>\n",
       "      <td>31180110</td>\n",
       "      <td>31194871</td>\n",
       "      <td>14761</td>\n",
       "    </tr>\n",
       "    <tr>\n",
       "      <th>1</th>\n",
       "      <td>PI4K2A</td>\n",
       "      <td>ENSG00000155252</td>\n",
       "      <td>10</td>\n",
       "      <td>10q24.2</td>\n",
       "      <td>97640686</td>\n",
       "      <td>97676434</td>\n",
       "      <td>35748</td>\n",
       "    </tr>\n",
       "    <tr>\n",
       "      <th>2</th>\n",
       "      <td>PER1</td>\n",
       "      <td>ENSG00000179094</td>\n",
       "      <td>17</td>\n",
       "      <td>17p13.1</td>\n",
       "      <td>8140472</td>\n",
       "      <td>8156506</td>\n",
       "      <td>16034</td>\n",
       "    </tr>\n",
       "    <tr>\n",
       "      <th>3</th>\n",
       "      <td>GBP6</td>\n",
       "      <td>ENSG00000183347</td>\n",
       "      <td>1</td>\n",
       "      <td>1p22.2</td>\n",
       "      <td>89364058</td>\n",
       "      <td>89386461</td>\n",
       "      <td>22403</td>\n",
       "    </tr>\n",
       "    <tr>\n",
       "      <th>4</th>\n",
       "      <td>GPAA1</td>\n",
       "      <td>ENSG00000197858</td>\n",
       "      <td>8</td>\n",
       "      <td>8q24.3</td>\n",
       "      <td>144082590</td>\n",
       "      <td>144086216</td>\n",
       "      <td>3626</td>\n",
       "    </tr>\n",
       "  </tbody>\n",
       "</table>\n",
       "</div>"
      ],
      "text/plain": [
       "     name               id  chr     band  start_position  end_position  \\\n",
       "0     FUS  ENSG00000089280   16  16p11.2        31180110      31194871   \n",
       "1  PI4K2A  ENSG00000155252   10  10q24.2        97640686      97676434   \n",
       "2    PER1  ENSG00000179094   17  17p13.1         8140472       8156506   \n",
       "3    GBP6  ENSG00000183347    1   1p22.2        89364058      89386461   \n",
       "4   GPAA1  ENSG00000197858    8   8q24.3       144082590     144086216   \n",
       "\n",
       "   gene_length  \n",
       "0        14761  \n",
       "1        35748  \n",
       "2        16034  \n",
       "3        22403  \n",
       "4         3626  "
      ]
     },
     "execution_count": 21,
     "metadata": {},
     "output_type": "execute_result"
    }
   ],
   "source": [
    "genes_info.head()"
   ]
  },
  {
   "cell_type": "markdown",
   "id": "d3843e06",
   "metadata": {
    "papermill": {
     "duration": 0.010271,
     "end_time": "2022-08-27T06:03:26.149041",
     "exception": false,
     "start_time": "2022-08-27T06:03:26.138770",
     "status": "completed"
    },
    "tags": []
   },
   "source": [
    "# Compute correlations"
   ]
  },
  {
   "cell_type": "code",
   "execution_count": 22,
   "id": "cb859c15-d1f3-4006-a74c-2b83c0db9611",
   "metadata": {
    "execution": {
     "iopub.execute_input": "2022-08-27T06:03:26.170021Z",
     "iopub.status.busy": "2022-08-27T06:03:26.169814Z",
     "iopub.status.idle": "2022-08-27T06:03:26.189343Z",
     "shell.execute_reply": "2022-08-27T06:03:26.188815Z"
    },
    "papermill": {
     "duration": 0.031669,
     "end_time": "2022-08-27T06:03:26.190879",
     "exception": false,
     "start_time": "2022-08-27T06:03:26.159210",
     "status": "completed"
    },
    "tags": []
   },
   "outputs": [
    {
     "data": {
      "text/plain": [
       "PosixPath('/project/ritchie20/projects/phenoplier/base/results/gls/gene_corrs/cohorts/phenomexcan_other/gtex_v8/mashr/by_chr/gene_corrs-chr21.pkl')"
      ]
     },
     "metadata": {},
     "output_type": "display_data"
    }
   ],
   "source": [
    "output_dir = OUTPUT_DIR_BASE / \"by_chr\"\n",
    "output_dir.mkdir(exist_ok=True, parents=True)\n",
    "output_file = output_dir / f\"gene_corrs-chr{CHROMOSOME}.pkl\"\n",
    "display(output_file)"
   ]
  },
  {
   "cell_type": "code",
   "execution_count": 23,
   "id": "aa674fe4-6794-4eed-98fa-32b39d1d4ace",
   "metadata": {
    "execution": {
     "iopub.execute_input": "2022-08-27T06:03:26.215011Z",
     "iopub.status.busy": "2022-08-27T06:03:26.214806Z",
     "iopub.status.idle": "2022-08-27T06:03:26.231599Z",
     "shell.execute_reply": "2022-08-27T06:03:26.231086Z"
    },
    "papermill": {
     "duration": 0.030672,
     "end_time": "2022-08-27T06:03:26.233235",
     "exception": false,
     "start_time": "2022-08-27T06:03:26.202563",
     "status": "completed"
    },
    "tags": []
   },
   "outputs": [],
   "source": [
    "warnings.filterwarnings(\"error\")"
   ]
  },
  {
   "cell_type": "code",
   "execution_count": 24,
   "id": "44d5450b-3baf-43f1-9e2e-4b06f1a785f8",
   "metadata": {
    "execution": {
     "iopub.execute_input": "2022-08-27T06:03:26.254312Z",
     "iopub.status.busy": "2022-08-27T06:03:26.254111Z",
     "iopub.status.idle": "2022-08-27T06:03:26.271849Z",
     "shell.execute_reply": "2022-08-27T06:03:26.271322Z"
    },
    "papermill": {
     "duration": 0.030354,
     "end_time": "2022-08-27T06:03:26.273494",
     "exception": false,
     "start_time": "2022-08-27T06:03:26.243140",
     "status": "completed"
    },
    "tags": []
   },
   "outputs": [],
   "source": [
    "# standard checks\n",
    "all_chrs = genes_info[\"chr\"].dropna().unique()\n",
    "assert all_chrs.shape[0] == 22\n",
    "\n",
    "# select chromosome given by the user\n",
    "assert CHROMOSOME in all_chrs"
   ]
  },
  {
   "cell_type": "code",
   "execution_count": 25,
   "id": "2d7c043c-92a7-4d35-991b-fa69ac1e0268",
   "metadata": {
    "execution": {
     "iopub.execute_input": "2022-08-27T06:03:26.294665Z",
     "iopub.status.busy": "2022-08-27T06:03:26.294466Z",
     "iopub.status.idle": "2022-08-27T06:03:26.323612Z",
     "shell.execute_reply": "2022-08-27T06:03:26.323089Z"
    },
    "papermill": {
     "duration": 0.04138,
     "end_time": "2022-08-27T06:03:26.325274",
     "exception": false,
     "start_time": "2022-08-27T06:03:26.283894",
     "status": "completed"
    },
    "tags": []
   },
   "outputs": [
    {
     "name": "stdout",
     "output_type": "stream",
     "text": [
      "Number of genes in chromosome: 62\n"
     ]
    }
   ],
   "source": [
    "# run only on the chromosome specified\n",
    "all_chrs = [CHROMOSOME]\n",
    "genes_chr = genes_info[genes_info[\"chr\"] == CHROMOSOME]\n",
    "\n",
    "# For testing purposes\n",
    "# genes_chr = genes_chr.sample(n=20)\n",
    "\n",
    "print(f\"Number of genes in chromosome: {genes_chr.shape[0]}\", flush=True)"
   ]
  },
  {
   "cell_type": "code",
   "execution_count": 26,
   "id": "916015d8-2979-46d3-a9b9-1cf5a0932c6a",
   "metadata": {
    "execution": {
     "iopub.execute_input": "2022-08-27T06:03:26.353322Z",
     "iopub.status.busy": "2022-08-27T06:03:26.353121Z",
     "iopub.status.idle": "2022-08-27T06:03:26.370497Z",
     "shell.execute_reply": "2022-08-27T06:03:26.369958Z"
    },
    "papermill": {
     "duration": 0.033436,
     "end_time": "2022-08-27T06:03:26.372172",
     "exception": false,
     "start_time": "2022-08-27T06:03:26.338736",
     "status": "completed"
    },
    "tags": []
   },
   "outputs": [],
   "source": [
    "# sort genes by starting position to make visualizations better later\n",
    "genes_chr = genes_chr.sort_values(\"start_position\")"
   ]
  },
  {
   "cell_type": "code",
   "execution_count": 27,
   "id": "a38aa74a-8ad3-47f6-8ef9-56be0e011774",
   "metadata": {
    "execution": {
     "iopub.execute_input": "2022-08-27T06:03:26.393363Z",
     "iopub.status.busy": "2022-08-27T06:03:26.393157Z",
     "iopub.status.idle": "2022-08-27T06:03:26.410484Z",
     "shell.execute_reply": "2022-08-27T06:03:26.409959Z"
    },
    "papermill": {
     "duration": 0.029698,
     "end_time": "2022-08-27T06:03:26.412128",
     "exception": false,
     "start_time": "2022-08-27T06:03:26.382430",
     "status": "completed"
    },
    "tags": []
   },
   "outputs": [],
   "source": [
    "gene_chr_objs = [Gene(ensembl_id=gene_id) for gene_id in genes_chr[\"id\"]]"
   ]
  },
  {
   "cell_type": "code",
   "execution_count": 28,
   "id": "570f974f-13c3-42b6-ad3a-ce99ca885c1a",
   "metadata": {
    "execution": {
     "iopub.execute_input": "2022-08-27T06:03:26.435639Z",
     "iopub.status.busy": "2022-08-27T06:03:26.435438Z",
     "iopub.status.idle": "2022-08-27T06:03:26.454312Z",
     "shell.execute_reply": "2022-08-27T06:03:26.453758Z"
    },
    "papermill": {
     "duration": 0.032638,
     "end_time": "2022-08-27T06:03:26.455969",
     "exception": false,
     "start_time": "2022-08-27T06:03:26.423331",
     "status": "completed"
    },
    "tags": []
   },
   "outputs": [
    {
     "name": "stdout",
     "output_type": "stream",
     "text": [
      "Number of gene combinations: 1891\n"
     ]
    }
   ],
   "source": [
    "n = len(gene_chr_objs)\n",
    "n_comb = int(n * (n - 1) / 2.0)\n",
    "print(f\"Number of gene combinations: {n_comb}\", flush=True)"
   ]
  },
  {
   "cell_type": "code",
   "execution_count": 29,
   "id": "cdbb90a1",
   "metadata": {
    "execution": {
     "iopub.execute_input": "2022-08-27T06:03:26.478304Z",
     "iopub.status.busy": "2022-08-27T06:03:26.478099Z",
     "iopub.status.idle": "2022-08-27T06:07:20.781199Z",
     "shell.execute_reply": "2022-08-27T06:07:20.780488Z"
    },
    "papermill": {
     "duration": 234.316288,
     "end_time": "2022-08-27T06:07:20.783131",
     "exception": false,
     "start_time": "2022-08-27T06:03:26.466843",
     "status": "completed"
    },
    "tags": []
   },
   "outputs": [
    {
     "name": "stderr",
     "output_type": "stream",
     "text": [
      "ENSG00000160307 / ENSG00000160307: : 1953it [03:54,  8.34it/s]\n"
     ]
    },
    {
     "data": {
      "text/plain": [
       "PosixPath('/project/ritchie20/projects/phenoplier/base/results/gls/gene_corrs/cohorts/phenomexcan_other/gtex_v8/mashr/by_chr/gene_corrs-chr21.pkl')"
      ]
     },
     "metadata": {},
     "output_type": "display_data"
    }
   ],
   "source": [
    "gene_corrs = []\n",
    "gene_corrs_data = np.full(\n",
    "    (n, n),\n",
    "    np.nan,\n",
    "    dtype=np.float64,\n",
    ")\n",
    "\n",
    "i = 0\n",
    "with tqdm(ncols=100, total=n_comb) as pbar:\n",
    "    for gene1_idx in range(0, len(gene_chr_objs)):\n",
    "        gene1_obj = gene_chr_objs[gene1_idx]\n",
    "        gene1_tissues = spredixcan_genes_models.loc[gene1_obj.ensembl_id, \"tissue\"]\n",
    "\n",
    "        for gene2_idx in range(gene1_idx, len(gene_chr_objs)):\n",
    "            gene2_obj = gene_chr_objs[gene2_idx]\n",
    "            gene2_tissues = spredixcan_genes_models.loc[gene2_obj.ensembl_id, \"tissue\"]\n",
    "\n",
    "            pbar.set_description(f\"{gene1_obj.ensembl_id} / {gene2_obj.ensembl_id}\")\n",
    "\n",
    "            try:\n",
    "                r = gene1_obj.get_ssm_correlation(\n",
    "                    other_gene=gene2_obj,\n",
    "                    tissues=gene1_tissues,\n",
    "                    other_tissues=gene2_tissues,\n",
    "                    snps_subset=gwas_variants_ids_set,\n",
    "                    condition_number=SMULTIXCAN_CONDITION_NUMBER,\n",
    "                    reference_panel=REFERENCE_PANEL,\n",
    "                    model_type=EQTL_MODEL,\n",
    "                    use_within_distance=COMPUTE_CORRELATIONS_WITHIN_DISTANCE,\n",
    "                )\n",
    "\n",
    "                if r is None:\n",
    "                    # if r is None, it's very likely because:\n",
    "                    #  * one of the genes has no prediction models\n",
    "                    #  * all the SNPs predictors for the gene are not present in the reference\n",
    "                    #    panel\n",
    "\n",
    "                    r = 0.0\n",
    "\n",
    "                gene_corrs.append(r)\n",
    "\n",
    "                gene_corrs_data[gene1_idx, gene2_idx] = r\n",
    "                gene_corrs_data[gene2_idx, gene1_idx] = r\n",
    "            except Warning as e:\n",
    "                if not DEBUG_MODE:\n",
    "                    raise e\n",
    "\n",
    "                print(\n",
    "                    f\"RuntimeWarning for genes {gene1_obj.ensembl_id} and {gene2_obj.ensembl_id}\",\n",
    "                    flush=True,\n",
    "                )\n",
    "                print(traceback.format_exc(), flush=True)\n",
    "\n",
    "                gene_corrs.append(np.nan)\n",
    "            except Exception as e:\n",
    "                if not DEBUG_MODE:\n",
    "                    raise e\n",
    "\n",
    "                print(\n",
    "                    f\"Exception for genes {gene1_obj.ensembl_id} and {gene2_obj.ensembl_id}\",\n",
    "                    flush=True,\n",
    "                )\n",
    "                print(traceback.format_exc(), flush=True)\n",
    "\n",
    "                gene_corrs.append(np.nan)\n",
    "\n",
    "            pbar.update(1)\n",
    "\n",
    "# create a pandas series\n",
    "gene_corrs_flat = pd.Series(gene_corrs)\n",
    "\n",
    "# save\n",
    "# FIXME: consider saving only the condenced matrix here. See here for\n",
    "# more details: https://github.com/greenelab/phenoplier/pull/38#discussion_r634600813\n",
    "# gene_corrs_data = squareform(np.array(gene_corrs, dtype=np.float64))\n",
    "# np.fill_diagonal(gene_corrs_data, 1.0)\n",
    "\n",
    "gene_chr_ids = [g.ensembl_id for g in gene_chr_objs]\n",
    "gene_corrs_df = pd.DataFrame(\n",
    "    data=gene_corrs_data,\n",
    "    index=gene_chr_ids,\n",
    "    columns=gene_chr_ids,\n",
    ")\n",
    "\n",
    "output_dir.mkdir(exist_ok=True, parents=True)\n",
    "display(output_file)\n",
    "\n",
    "gene_corrs_df.to_pickle(output_file)"
   ]
  },
  {
   "cell_type": "markdown",
   "id": "faa67b51-5373-470f-aa72-2ded53fa6dfe",
   "metadata": {
    "papermill": {
     "duration": 0.136079,
     "end_time": "2022-08-27T06:07:21.087581",
     "exception": false,
     "start_time": "2022-08-27T06:07:20.951502",
     "status": "completed"
    },
    "tags": []
   },
   "source": [
    "# Testing"
   ]
  },
  {
   "cell_type": "code",
   "execution_count": 30,
   "id": "14f7d046-4b55-4896-a56b-990127bcc388",
   "metadata": {
    "execution": {
     "iopub.execute_input": "2022-08-27T06:07:21.352259Z",
     "iopub.status.busy": "2022-08-27T06:07:21.351981Z",
     "iopub.status.idle": "2022-08-27T06:07:21.591246Z",
     "shell.execute_reply": "2022-08-27T06:07:21.590712Z"
    },
    "papermill": {
     "duration": 0.373379,
     "end_time": "2022-08-27T06:07:21.592784",
     "exception": false,
     "start_time": "2022-08-27T06:07:21.219405",
     "status": "completed"
    },
    "tags": []
   },
   "outputs": [
    {
     "data": {
      "text/plain": [
       "(62, 62)"
      ]
     },
     "execution_count": 30,
     "metadata": {},
     "output_type": "execute_result"
    }
   ],
   "source": [
    "gene_corrs_df.shape"
   ]
  },
  {
   "cell_type": "code",
   "execution_count": 31,
   "id": "c7d15414-3297-4537-a7c6-7588c0baeb75",
   "metadata": {
    "execution": {
     "iopub.execute_input": "2022-08-27T06:07:21.861046Z",
     "iopub.status.busy": "2022-08-27T06:07:21.860823Z",
     "iopub.status.idle": "2022-08-27T06:07:21.894701Z",
     "shell.execute_reply": "2022-08-27T06:07:21.894194Z"
    },
    "papermill": {
     "duration": 0.168244,
     "end_time": "2022-08-27T06:07:21.896191",
     "exception": false,
     "start_time": "2022-08-27T06:07:21.727947",
     "status": "completed"
    },
    "tags": []
   },
   "outputs": [
    {
     "data": {
      "text/html": [
       "<div>\n",
       "<style scoped>\n",
       "    .dataframe tbody tr th:only-of-type {\n",
       "        vertical-align: middle;\n",
       "    }\n",
       "\n",
       "    .dataframe tbody tr th {\n",
       "        vertical-align: top;\n",
       "    }\n",
       "\n",
       "    .dataframe thead th {\n",
       "        text-align: right;\n",
       "    }\n",
       "</style>\n",
       "<table border=\"1\" class=\"dataframe\">\n",
       "  <thead>\n",
       "    <tr style=\"text-align: right;\">\n",
       "      <th></th>\n",
       "      <th>ENSG00000155307</th>\n",
       "      <th>ENSG00000180530</th>\n",
       "      <th>ENSG00000154719</th>\n",
       "      <th>ENSG00000154721</th>\n",
       "      <th>ENSG00000154723</th>\n",
       "      <th>ENSG00000142192</th>\n",
       "      <th>ENSG00000154734</th>\n",
       "      <th>ENSG00000156261</th>\n",
       "      <th>ENSG00000171189</th>\n",
       "      <th>ENSG00000156299</th>\n",
       "      <th>...</th>\n",
       "      <th>ENSG00000160255</th>\n",
       "      <th>ENSG00000197381</th>\n",
       "      <th>ENSG00000182871</th>\n",
       "      <th>ENSG00000173638</th>\n",
       "      <th>ENSG00000142156</th>\n",
       "      <th>ENSG00000142173</th>\n",
       "      <th>ENSG00000160282</th>\n",
       "      <th>ENSG00000160285</th>\n",
       "      <th>ENSG00000160299</th>\n",
       "      <th>ENSG00000160307</th>\n",
       "    </tr>\n",
       "  </thead>\n",
       "  <tbody>\n",
       "    <tr>\n",
       "      <th>ENSG00000155307</th>\n",
       "      <td>1.000000</td>\n",
       "      <td>0.005178</td>\n",
       "      <td>0.003490</td>\n",
       "      <td>0.003142</td>\n",
       "      <td>0.005415</td>\n",
       "      <td>0.005186</td>\n",
       "      <td>0.003721</td>\n",
       "      <td>0.002872</td>\n",
       "      <td>0.006022</td>\n",
       "      <td>0.005140</td>\n",
       "      <td>...</td>\n",
       "      <td>0.013626</td>\n",
       "      <td>0.009796</td>\n",
       "      <td>0.008962</td>\n",
       "      <td>0.012187</td>\n",
       "      <td>0.009430</td>\n",
       "      <td>0.009379</td>\n",
       "      <td>0.007786</td>\n",
       "      <td>0.007055</td>\n",
       "      <td>0.008758</td>\n",
       "      <td>0.008706</td>\n",
       "    </tr>\n",
       "    <tr>\n",
       "      <th>ENSG00000180530</th>\n",
       "      <td>0.005178</td>\n",
       "      <td>1.000000</td>\n",
       "      <td>0.002769</td>\n",
       "      <td>0.006672</td>\n",
       "      <td>0.008033</td>\n",
       "      <td>0.008056</td>\n",
       "      <td>0.008561</td>\n",
       "      <td>0.002112</td>\n",
       "      <td>0.004616</td>\n",
       "      <td>0.009805</td>\n",
       "      <td>...</td>\n",
       "      <td>0.008659</td>\n",
       "      <td>0.011084</td>\n",
       "      <td>0.013733</td>\n",
       "      <td>0.015248</td>\n",
       "      <td>0.012234</td>\n",
       "      <td>0.010490</td>\n",
       "      <td>0.005671</td>\n",
       "      <td>0.008443</td>\n",
       "      <td>0.006502</td>\n",
       "      <td>0.008053</td>\n",
       "    </tr>\n",
       "    <tr>\n",
       "      <th>ENSG00000154719</th>\n",
       "      <td>0.003490</td>\n",
       "      <td>0.002769</td>\n",
       "      <td>1.000000</td>\n",
       "      <td>0.435049</td>\n",
       "      <td>0.146209</td>\n",
       "      <td>0.013858</td>\n",
       "      <td>0.004705</td>\n",
       "      <td>0.003526</td>\n",
       "      <td>0.000539</td>\n",
       "      <td>0.007069</td>\n",
       "      <td>...</td>\n",
       "      <td>0.005390</td>\n",
       "      <td>0.004084</td>\n",
       "      <td>0.005372</td>\n",
       "      <td>0.012890</td>\n",
       "      <td>0.006852</td>\n",
       "      <td>0.008267</td>\n",
       "      <td>0.002627</td>\n",
       "      <td>0.006841</td>\n",
       "      <td>0.004525</td>\n",
       "      <td>0.004134</td>\n",
       "    </tr>\n",
       "    <tr>\n",
       "      <th>ENSG00000154721</th>\n",
       "      <td>0.003142</td>\n",
       "      <td>0.006672</td>\n",
       "      <td>0.435049</td>\n",
       "      <td>1.000000</td>\n",
       "      <td>0.347972</td>\n",
       "      <td>0.012943</td>\n",
       "      <td>0.006770</td>\n",
       "      <td>0.003180</td>\n",
       "      <td>0.001461</td>\n",
       "      <td>0.008605</td>\n",
       "      <td>...</td>\n",
       "      <td>0.008131</td>\n",
       "      <td>0.007524</td>\n",
       "      <td>0.008903</td>\n",
       "      <td>0.009146</td>\n",
       "      <td>0.011631</td>\n",
       "      <td>0.013287</td>\n",
       "      <td>0.004842</td>\n",
       "      <td>0.004247</td>\n",
       "      <td>0.006507</td>\n",
       "      <td>0.007173</td>\n",
       "    </tr>\n",
       "    <tr>\n",
       "      <th>ENSG00000154723</th>\n",
       "      <td>0.005415</td>\n",
       "      <td>0.008033</td>\n",
       "      <td>0.146209</td>\n",
       "      <td>0.347972</td>\n",
       "      <td>1.000000</td>\n",
       "      <td>0.028369</td>\n",
       "      <td>0.005127</td>\n",
       "      <td>0.002333</td>\n",
       "      <td>0.002249</td>\n",
       "      <td>0.012492</td>\n",
       "      <td>...</td>\n",
       "      <td>0.010087</td>\n",
       "      <td>0.011980</td>\n",
       "      <td>0.010903</td>\n",
       "      <td>0.010649</td>\n",
       "      <td>0.011312</td>\n",
       "      <td>0.010064</td>\n",
       "      <td>0.007251</td>\n",
       "      <td>0.004616</td>\n",
       "      <td>0.010029</td>\n",
       "      <td>0.005412</td>\n",
       "    </tr>\n",
       "  </tbody>\n",
       "</table>\n",
       "<p>5 rows × 62 columns</p>\n",
       "</div>"
      ],
      "text/plain": [
       "                 ENSG00000155307  ENSG00000180530  ENSG00000154719  \\\n",
       "ENSG00000155307         1.000000         0.005178         0.003490   \n",
       "ENSG00000180530         0.005178         1.000000         0.002769   \n",
       "ENSG00000154719         0.003490         0.002769         1.000000   \n",
       "ENSG00000154721         0.003142         0.006672         0.435049   \n",
       "ENSG00000154723         0.005415         0.008033         0.146209   \n",
       "\n",
       "                 ENSG00000154721  ENSG00000154723  ENSG00000142192  \\\n",
       "ENSG00000155307         0.003142         0.005415         0.005186   \n",
       "ENSG00000180530         0.006672         0.008033         0.008056   \n",
       "ENSG00000154719         0.435049         0.146209         0.013858   \n",
       "ENSG00000154721         1.000000         0.347972         0.012943   \n",
       "ENSG00000154723         0.347972         1.000000         0.028369   \n",
       "\n",
       "                 ENSG00000154734  ENSG00000156261  ENSG00000171189  \\\n",
       "ENSG00000155307         0.003721         0.002872         0.006022   \n",
       "ENSG00000180530         0.008561         0.002112         0.004616   \n",
       "ENSG00000154719         0.004705         0.003526         0.000539   \n",
       "ENSG00000154721         0.006770         0.003180         0.001461   \n",
       "ENSG00000154723         0.005127         0.002333         0.002249   \n",
       "\n",
       "                 ENSG00000156299  ...  ENSG00000160255  ENSG00000197381  \\\n",
       "ENSG00000155307         0.005140  ...         0.013626         0.009796   \n",
       "ENSG00000180530         0.009805  ...         0.008659         0.011084   \n",
       "ENSG00000154719         0.007069  ...         0.005390         0.004084   \n",
       "ENSG00000154721         0.008605  ...         0.008131         0.007524   \n",
       "ENSG00000154723         0.012492  ...         0.010087         0.011980   \n",
       "\n",
       "                 ENSG00000182871  ENSG00000173638  ENSG00000142156  \\\n",
       "ENSG00000155307         0.008962         0.012187         0.009430   \n",
       "ENSG00000180530         0.013733         0.015248         0.012234   \n",
       "ENSG00000154719         0.005372         0.012890         0.006852   \n",
       "ENSG00000154721         0.008903         0.009146         0.011631   \n",
       "ENSG00000154723         0.010903         0.010649         0.011312   \n",
       "\n",
       "                 ENSG00000142173  ENSG00000160282  ENSG00000160285  \\\n",
       "ENSG00000155307         0.009379         0.007786         0.007055   \n",
       "ENSG00000180530         0.010490         0.005671         0.008443   \n",
       "ENSG00000154719         0.008267         0.002627         0.006841   \n",
       "ENSG00000154721         0.013287         0.004842         0.004247   \n",
       "ENSG00000154723         0.010064         0.007251         0.004616   \n",
       "\n",
       "                 ENSG00000160299  ENSG00000160307  \n",
       "ENSG00000155307         0.008758         0.008706  \n",
       "ENSG00000180530         0.006502         0.008053  \n",
       "ENSG00000154719         0.004525         0.004134  \n",
       "ENSG00000154721         0.006507         0.007173  \n",
       "ENSG00000154723         0.010029         0.005412  \n",
       "\n",
       "[5 rows x 62 columns]"
      ]
     },
     "execution_count": 31,
     "metadata": {},
     "output_type": "execute_result"
    }
   ],
   "source": [
    "gene_corrs_df.head()"
   ]
  },
  {
   "cell_type": "markdown",
   "id": "dad6603f-01c6-41fb-a6f6-241051207dd8",
   "metadata": {
    "papermill": {
     "duration": 0.152855,
     "end_time": "2022-08-27T06:07:22.180288",
     "exception": false,
     "start_time": "2022-08-27T06:07:22.027433",
     "status": "completed"
    },
    "tags": []
   },
   "source": [
    "## Standard checks and stats"
   ]
  },
  {
   "cell_type": "code",
   "execution_count": 32,
   "id": "286686af-1b7b-4440-8453-6bdcbd8de19c",
   "metadata": {
    "execution": {
     "iopub.execute_input": "2022-08-27T06:07:22.449541Z",
     "iopub.status.busy": "2022-08-27T06:07:22.449274Z",
     "iopub.status.idle": "2022-08-27T06:07:22.469772Z",
     "shell.execute_reply": "2022-08-27T06:07:22.469249Z"
    },
    "papermill": {
     "duration": 0.158459,
     "end_time": "2022-08-27T06:07:22.471409",
     "exception": false,
     "start_time": "2022-08-27T06:07:22.312950",
     "status": "completed"
    },
    "tags": []
   },
   "outputs": [],
   "source": [
    "assert not gene_corrs_df.isna().any().any()"
   ]
  },
  {
   "cell_type": "code",
   "execution_count": 33,
   "id": "00583efc-7068-4270-ad1e-4a418e91db96",
   "metadata": {
    "execution": {
     "iopub.execute_input": "2022-08-27T06:07:22.741002Z",
     "iopub.status.busy": "2022-08-27T06:07:22.740788Z",
     "iopub.status.idle": "2022-08-27T06:07:22.761247Z",
     "shell.execute_reply": "2022-08-27T06:07:22.760732Z"
    },
    "papermill": {
     "duration": 0.157435,
     "end_time": "2022-08-27T06:07:22.762723",
     "exception": false,
     "start_time": "2022-08-27T06:07:22.605288",
     "status": "completed"
    },
    "tags": []
   },
   "outputs": [
    {
     "data": {
      "text/plain": [
       "0.0005389909937981832"
      ]
     },
     "metadata": {},
     "output_type": "display_data"
    }
   ],
   "source": [
    "_min_val = gene_corrs_df.min().min()\n",
    "display(_min_val)\n",
    "assert _min_val >= -0.05"
   ]
  },
  {
   "cell_type": "code",
   "execution_count": 34,
   "id": "d04fb2cf-1050-475b-b855-f5f7cc04092b",
   "metadata": {
    "execution": {
     "iopub.execute_input": "2022-08-27T06:07:23.026767Z",
     "iopub.status.busy": "2022-08-27T06:07:23.026544Z",
     "iopub.status.idle": "2022-08-27T06:07:23.046790Z",
     "shell.execute_reply": "2022-08-27T06:07:23.046272Z"
    },
    "papermill": {
     "duration": 0.153642,
     "end_time": "2022-08-27T06:07:23.048297",
     "exception": false,
     "start_time": "2022-08-27T06:07:22.894655",
     "status": "completed"
    },
    "tags": []
   },
   "outputs": [
    {
     "data": {
      "text/plain": [
       "1.0000000000000013"
      ]
     },
     "metadata": {},
     "output_type": "display_data"
    }
   ],
   "source": [
    "_max_val = gene_corrs_df.max().max()  # this captures the diagonal\n",
    "display(_max_val)\n",
    "assert _max_val <= 1.05"
   ]
  },
  {
   "cell_type": "code",
   "execution_count": 35,
   "id": "96d02c44-1fba-47be-8a93-8f2608420b9c",
   "metadata": {
    "execution": {
     "iopub.execute_input": "2022-08-27T06:07:23.355019Z",
     "iopub.status.busy": "2022-08-27T06:07:23.354746Z",
     "iopub.status.idle": "2022-08-27T06:07:23.374104Z",
     "shell.execute_reply": "2022-08-27T06:07:23.373577Z"
    },
    "papermill": {
     "duration": 0.188738,
     "end_time": "2022-08-27T06:07:23.375745",
     "exception": false,
     "start_time": "2022-08-27T06:07:23.187007",
     "status": "completed"
    },
    "tags": []
   },
   "outputs": [],
   "source": [
    "# check upper triangular values\n",
    "# assert len(gene_corrs) == int(genes_chr.shape[0] * (genes_chr.shape[0] - 1) / 2)"
   ]
  },
  {
   "cell_type": "code",
   "execution_count": 36,
   "id": "fe283586-c348-40e0-8841-f6d97bfb021c",
   "metadata": {
    "execution": {
     "iopub.execute_input": "2022-08-27T06:07:23.646261Z",
     "iopub.status.busy": "2022-08-27T06:07:23.646042Z",
     "iopub.status.idle": "2022-08-27T06:07:23.669121Z",
     "shell.execute_reply": "2022-08-27T06:07:23.668595Z"
    },
    "papermill": {
     "duration": 0.159184,
     "end_time": "2022-08-27T06:07:23.670642",
     "exception": false,
     "start_time": "2022-08-27T06:07:23.511458",
     "status": "completed"
    },
    "tags": []
   },
   "outputs": [
    {
     "data": {
      "text/plain": [
       "count    1953.000000\n",
       "mean        0.044533\n",
       "std         0.176844\n",
       "min         0.000539\n",
       "25%         0.005627\n",
       "50%         0.007851\n",
       "75%         0.010745\n",
       "max         1.000000\n",
       "dtype: float64"
      ]
     },
     "execution_count": 36,
     "metadata": {},
     "output_type": "execute_result"
    }
   ],
   "source": [
    "gene_corrs_flat.describe()"
   ]
  },
  {
   "cell_type": "code",
   "execution_count": 37,
   "id": "b3815678-0f93-4b35-897b-a9d047a2aa78",
   "metadata": {
    "execution": {
     "iopub.execute_input": "2022-08-27T06:07:23.942894Z",
     "iopub.status.busy": "2022-08-27T06:07:23.942672Z",
     "iopub.status.idle": "2022-08-27T06:07:23.964538Z",
     "shell.execute_reply": "2022-08-27T06:07:23.964020Z"
    },
    "papermill": {
     "duration": 0.160806,
     "end_time": "2022-08-27T06:07:23.966059",
     "exception": false,
     "start_time": "2022-08-27T06:07:23.805253",
     "status": "completed"
    },
    "tags": []
   },
   "outputs": [
    {
     "data": {
      "text/plain": [
       "0.00    0.000539\n",
       "0.05    0.002949\n",
       "0.10    0.003810\n",
       "0.15    0.004468\n",
       "0.20    0.005038\n",
       "0.25    0.005627\n",
       "0.30    0.006100\n",
       "0.35    0.006560\n",
       "0.40    0.006990\n",
       "0.45    0.007463\n",
       "0.50    0.007851\n",
       "0.55    0.008345\n",
       "0.60    0.008758\n",
       "0.65    0.009297\n",
       "0.70    0.009961\n",
       "0.75    0.010745\n",
       "0.80    0.011576\n",
       "0.85    0.012800\n",
       "0.90    0.015214\n",
       "0.95    0.104079\n",
       "dtype: float64"
      ]
     },
     "metadata": {},
     "output_type": "display_data"
    }
   ],
   "source": [
    "gene_corrs_quantiles = gene_corrs_flat.quantile(np.arange(0, 1, 0.05))\n",
    "display(gene_corrs_quantiles)"
   ]
  },
  {
   "cell_type": "markdown",
   "id": "87134509-b145-4a10-8bc9-b7e914c2b0fa",
   "metadata": {
    "papermill": {
     "duration": 0.156385,
     "end_time": "2022-08-27T06:07:24.258639",
     "exception": false,
     "start_time": "2022-08-27T06:07:24.102254",
     "status": "completed"
    },
    "tags": []
   },
   "source": [
    "## Positive definiteness"
   ]
  },
  {
   "cell_type": "code",
   "execution_count": 38,
   "id": "07d9a9a1-a4f7-48aa-b916-6d42a8cc6186",
   "metadata": {
    "execution": {
     "iopub.execute_input": "2022-08-27T06:07:24.529863Z",
     "iopub.status.busy": "2022-08-27T06:07:24.529587Z",
     "iopub.status.idle": "2022-08-27T06:07:24.554089Z",
     "shell.execute_reply": "2022-08-27T06:07:24.553560Z"
    },
    "papermill": {
     "duration": 0.161855,
     "end_time": "2022-08-27T06:07:24.555611",
     "exception": false,
     "start_time": "2022-08-27T06:07:24.393756",
     "status": "completed"
    },
    "tags": []
   },
   "outputs": [
    {
     "data": {
      "text/plain": [
       "0"
      ]
     },
     "metadata": {},
     "output_type": "display_data"
    },
    {
     "data": {
      "text/plain": [
       "array([], dtype=float64)"
      ]
     },
     "metadata": {},
     "output_type": "display_data"
    }
   ],
   "source": [
    "# print negative eigenvalues\n",
    "eigs = np.linalg.eigvals(gene_corrs_df.to_numpy())\n",
    "display(len(eigs[eigs < 0]))\n",
    "display(eigs[eigs < 0])"
   ]
  },
  {
   "cell_type": "code",
   "execution_count": 39,
   "id": "6e218436-c3c5-4028-8c94-a4fa6260efce",
   "metadata": {
    "execution": {
     "iopub.execute_input": "2022-08-27T06:07:24.827086Z",
     "iopub.status.busy": "2022-08-27T06:07:24.826876Z",
     "iopub.status.idle": "2022-08-27T06:07:24.847199Z",
     "shell.execute_reply": "2022-08-27T06:07:24.846680Z"
    },
    "papermill": {
     "duration": 0.158024,
     "end_time": "2022-08-27T06:07:24.848678",
     "exception": false,
     "start_time": "2022-08-27T06:07:24.690654",
     "status": "completed"
    },
    "tags": []
   },
   "outputs": [
    {
     "name": "stdout",
     "output_type": "stream",
     "text": [
      "Works!\n"
     ]
    }
   ],
   "source": [
    "try:\n",
    "    chol_mat = np.linalg.cholesky(gene_corrs_df.to_numpy())\n",
    "    cov_inv = np.linalg.inv(chol_mat)\n",
    "    print(\"Works!\")\n",
    "except Exception as e:\n",
    "    print(f\"Cholesky decomposition failed: {str(e)}\")"
   ]
  },
  {
   "cell_type": "code",
   "execution_count": 40,
   "id": "dd8827fb-faf9-4c7c-9454-015e94752706",
   "metadata": {
    "execution": {
     "iopub.execute_input": "2022-08-27T06:07:25.115561Z",
     "iopub.status.busy": "2022-08-27T06:07:25.115346Z",
     "iopub.status.idle": "2022-08-27T06:07:25.135808Z",
     "shell.execute_reply": "2022-08-27T06:07:25.135276Z"
    },
    "papermill": {
     "duration": 0.15774,
     "end_time": "2022-08-27T06:07:25.137320",
     "exception": false,
     "start_time": "2022-08-27T06:07:24.979580",
     "status": "completed"
    },
    "tags": []
   },
   "outputs": [
    {
     "name": "stdout",
     "output_type": "stream",
     "text": [
      "Works!\n"
     ]
    }
   ],
   "source": [
    "try:\n",
    "    # decomposition used by statsmodels.GLS\n",
    "    cholsigmainv = np.linalg.cholesky(np.linalg.inv(gene_corrs_df.to_numpy())).T\n",
    "    print(\"Works!\")\n",
    "except Exception as e:\n",
    "    print(f\"Cholesky decomposition failed (statsmodels.GLS): {str(e)}\")"
   ]
  },
  {
   "cell_type": "markdown",
   "id": "8e60a080-edb2-4e9c-b2ef-22961693200c",
   "metadata": {
    "papermill": {
     "duration": 0.134945,
     "end_time": "2022-08-27T06:07:25.427586",
     "exception": false,
     "start_time": "2022-08-27T06:07:25.292641",
     "status": "completed"
    },
    "tags": []
   },
   "source": [
    "## Plot: distribution"
   ]
  },
  {
   "cell_type": "code",
   "execution_count": 41,
   "id": "8301126b-a7d4-4744-9c7d-f0f86eb6f54c",
   "metadata": {
    "execution": {
     "iopub.execute_input": "2022-08-27T06:07:25.696499Z",
     "iopub.status.busy": "2022-08-27T06:07:25.696235Z",
     "iopub.status.idle": "2022-08-27T06:07:28.433376Z",
     "shell.execute_reply": "2022-08-27T06:07:28.432808Z"
    },
    "papermill": {
     "duration": 2.873283,
     "end_time": "2022-08-27T06:07:28.435071",
     "exception": false,
     "start_time": "2022-08-27T06:07:25.561788",
     "status": "completed"
    },
    "tags": []
   },
   "outputs": [
    {
     "data": {
      "image/png": "[encoded data removed]",
      "text/plain": [
       "<Figure size 504x504 with 1 Axes>"
      ]
     },
     "metadata": {
      "needs_background": "light"
     },
     "output_type": "display_data"
    }
   ],
   "source": [
    "with sns.plotting_context(\"paper\", font_scale=1.5):\n",
    "    g = sns.displot(gene_corrs_flat, kde=True, height=7)\n",
    "    g.ax.set_title(\n",
    "        f\"Distribution of gene correlation values in chromosome {CHROMOSOME}\"\n",
    "    )"
   ]
  },
  {
   "cell_type": "markdown",
   "id": "cbd52bca-d878-4a2f-b684-5c83aa3038d4",
   "metadata": {
    "papermill": {
     "duration": 0.13524,
     "end_time": "2022-08-27T06:07:28.706068",
     "exception": false,
     "start_time": "2022-08-27T06:07:28.570828",
     "status": "completed"
    },
    "tags": []
   },
   "source": [
    "## Plot: heatmap"
   ]
  },
  {
   "cell_type": "code",
   "execution_count": 42,
   "id": "d03fe63a-c7b2-4fb9-a53c-db362ce843c9",
   "metadata": {
    "execution": {
     "iopub.execute_input": "2022-08-27T06:07:28.994740Z",
     "iopub.status.busy": "2022-08-27T06:07:28.994471Z",
     "iopub.status.idle": "2022-08-27T06:07:29.018173Z",
     "shell.execute_reply": "2022-08-27T06:07:29.017658Z"
    },
    "papermill": {
     "duration": 0.181012,
     "end_time": "2022-08-27T06:07:29.019771",
     "exception": false,
     "start_time": "2022-08-27T06:07:28.838759",
     "status": "completed"
    },
    "tags": []
   },
   "outputs": [
    {
     "data": {
      "text/plain": [
       "'0.0 / 0.05'"
      ]
     },
     "metadata": {},
     "output_type": "display_data"
    }
   ],
   "source": [
    "vmin_val = min(0.00, gene_corrs_quantiles[0.10])\n",
    "vmax_val = max(0.05, gene_corrs_quantiles[0.90])\n",
    "display(f\"{vmin_val} / {vmax_val}\")"
   ]
  },
  {
   "cell_type": "code",
   "execution_count": 43,
   "id": "dc41b70b-5bcc-4d9e-9f33-a22c4a94dab5",
   "metadata": {
    "execution": {
     "iopub.execute_input": "2022-08-27T06:07:29.286684Z",
     "iopub.status.busy": "2022-08-27T06:07:29.286468Z",
     "iopub.status.idle": "2022-08-27T06:07:29.436514Z",
     "shell.execute_reply": "2022-08-27T06:07:29.435992Z"
    },
    "papermill": {
     "duration": 0.287965,
     "end_time": "2022-08-27T06:07:29.438161",
     "exception": false,
     "start_time": "2022-08-27T06:07:29.150196",
     "status": "completed"
    },
    "tags": []
   },
   "outputs": [
    {
     "data": {
      "text/plain": [
       "Text(0.5, 1.0, 'Gene correlations in chromosome 21')"
      ]
     },
     "execution_count": 43,
     "metadata": {},
     "output_type": "execute_result"
    },
    {
     "data": {
      "image/png": "[encoded data removed]",
      "text/plain": [
       "<Figure size 720x720 with 2 Axes>"
      ]
     },
     "metadata": {
      "needs_background": "light"
     },
     "output_type": "display_data"
    }
   ],
   "source": [
    "f, ax = plt.subplots(figsize=(10, 10))\n",
    "sns.heatmap(\n",
    "    gene_corrs_df,\n",
    "    xticklabels=False,\n",
    "    yticklabels=False,\n",
    "    square=True,\n",
    "    vmin=vmin_val,\n",
    "    vmax=vmax_val,\n",
    "    cmap=\"rocket_r\",\n",
    "    ax=ax,\n",
    ")\n",
    "ax.set_title(f\"Gene correlations in chromosome {CHROMOSOME}\")"
   ]
  },
  {
   "cell_type": "code",
   "execution_count": null,
   "id": "b25e3ead",
   "metadata": {
    "papermill": {
     "duration": 0.139471,
     "end_time": "2022-08-27T06:07:29.714016",
     "exception": false,
     "start_time": "2022-08-27T06:07:29.574545",
     "status": "completed"
    },
    "tags": []
   },
   "outputs": [],
   "source": []
  }
 ],
 "metadata": {
  "jupytext": {
   "cell_metadata_filter": "all,-execution,-papermill,-trusted",
   "formats": "ipynb,py//py:percent"
  },
  "kernelspec": {
   "display_name": "Python 3 (ipykernel)",
   "language": "python",
   "name": "python3"
  },
  "language_info": {
   "codemirror_mode": {
    "name": "ipython",
    "version": 3
   },
   "file_extension": ".py",
   "mimetype": "text/x-python",
   "name": "python",
   "nbconvert_exporter": "python",
   "pygments_lexer": "ipython3",
   "version": "3.8.13"
  },
  "papermill": {
   "default_parameters": {},
   "duration": 256.712268,
   "end_time": "2022-08-27T06:07:33.151229",
   "environment_variables": {},
   "exception": null,
   "input_path": "nbs/15_gsa_gls/10-gene_expr_correlations.ipynb",
   "output_path": "nbs/15_gsa_gls/gene_corrs/cohorts/phenomexcan_other/gtex_v8/mashr/10-gene_expr_corrs/10-gene_expr_correlations-chr21.run.ipynb",
   "parameters": {
    "CHROMOSOME": 21,
    "COHORT_NAME": "phenomexcan_other",
    "EQTL_MODEL": "MASHR",
    "REFERENCE_PANEL": "GTEX_V8"
   },
   "start_time": "2022-08-27T06:03:16.438961",
   "version": "2.2.2"
  }
 },
 "nbformat": 4,
 "nbformat_minor": 5
}
