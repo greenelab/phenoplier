{
 "cells": [
  {
   "cell_type": "markdown",
   "id": "7a6632fb",
   "metadata": {
    "papermill": {
     "duration": 0.019823,
     "end_time": "2022-08-27T06:03:18.385215",
     "exception": false,
     "start_time": "2022-08-27T06:03:18.365392",
     "status": "completed"
    },
    "tags": []
   },
   "source": [
    "# Description"
   ]
  },
  {
   "cell_type": "markdown",
   "id": "7097c346",
   "metadata": {
    "papermill": {
     "duration": 0.01485,
     "end_time": "2022-08-27T06:03:18.416489",
     "exception": false,
     "start_time": "2022-08-27T06:03:18.401639",
     "status": "completed"
    },
    "tags": []
   },
   "source": [
    "(Please, take a look at the README.md file in this directory for instructions on how to run this notebook)\n",
    "\n",
    "This notebook computes predicted expression correlations between all genes in the MultiPLIER models.\n",
    "\n",
    "It also has a parameter set for papermill to run on a single chromosome to run in parallel (see under `Settings` below).\n",
    "\n",
    "This notebook is not directly run. See README.md."
   ]
  },
  {
   "cell_type": "markdown",
   "id": "c61d8427",
   "metadata": {
    "papermill": {
     "duration": 0.012958,
     "end_time": "2022-08-27T06:03:18.443611",
     "exception": false,
     "start_time": "2022-08-27T06:03:18.430653",
     "status": "completed"
    },
    "tags": []
   },
   "source": [
    "# Modules"
   ]
  },
  {
   "cell_type": "code",
   "execution_count": 1,
   "id": "bbc0234f",
   "metadata": {
    "execution": {
     "iopub.execute_input": "2022-08-27T06:03:18.473249Z",
     "iopub.status.busy": "2022-08-27T06:03:18.472901Z",
     "iopub.status.idle": "2022-08-27T06:03:18.498100Z",
     "shell.execute_reply": "2022-08-27T06:03:18.497404Z"
    },
    "papermill": {
     "duration": 0.044344,
     "end_time": "2022-08-27T06:03:18.500545",
     "exception": false,
     "start_time": "2022-08-27T06:03:18.456201",
     "status": "completed"
    },
    "tags": []
   },
   "outputs": [],
   "source": [
    "%load_ext autoreload\n",
    "%autoreload 2"
   ]
  },
  {
   "cell_type": "code",
   "execution_count": 2,
   "id": "1d5f5a59",
   "metadata": {
    "execution": {
     "iopub.execute_input": "2022-08-27T06:03:18.524571Z",
     "iopub.status.busy": "2022-08-27T06:03:18.524331Z",
     "iopub.status.idle": "2022-08-27T06:03:20.208009Z",
     "shell.execute_reply": "2022-08-27T06:03:20.207422Z"
    },
    "papermill": {
     "duration": 1.69841,
     "end_time": "2022-08-27T06:03:20.210113",
     "exception": false,
     "start_time": "2022-08-27T06:03:18.511703",
     "status": "completed"
    },
    "tags": []
   },
   "outputs": [],
   "source": [
    "from random import sample, seed\n",
    "import warnings\n",
    "from pathlib import Path\n",
    "import pickle\n",
    "import traceback\n",
    "\n",
    "import numpy as np\n",
    "from scipy.spatial.distance import squareform\n",
    "import pandas as pd\n",
    "from tqdm import tqdm\n",
    "import matplotlib.pyplot as plt\n",
    "import seaborn as sns\n",
    "\n",
    "import conf\n",
    "from entity import Gene"
   ]
  },
  {
   "cell_type": "markdown",
   "id": "1eac24b5",
   "metadata": {
    "papermill": {
     "duration": 0.012959,
     "end_time": "2022-08-27T06:03:20.266908",
     "exception": false,
     "start_time": "2022-08-27T06:03:20.253949",
     "status": "completed"
    },
    "tags": []
   },
   "source": [
    "# Settings"
   ]
  },
  {
   "cell_type": "code",
   "execution_count": 3,
   "id": "ca4560ba",
   "metadata": {
    "execution": {
     "iopub.execute_input": "2022-08-27T06:03:20.286739Z",
     "iopub.status.busy": "2022-08-27T06:03:20.286485Z",
     "iopub.status.idle": "2022-08-27T06:03:20.306031Z",
     "shell.execute_reply": "2022-08-27T06:03:20.305538Z"
    },
    "papermill": {
     "duration": 0.031042,
     "end_time": "2022-08-27T06:03:20.307722",
     "exception": false,
     "start_time": "2022-08-27T06:03:20.276680",
     "status": "completed"
    },
    "tags": [
     "parameters"
    ]
   },
   "outputs": [],
   "source": [
    "# a cohort name (it could be something like UK_BIOBANK, etc)\n",
    "COHORT_NAME = None\n",
    "\n",
    "# reference panel such as 1000G or GTEX_V8\n",
    "REFERENCE_PANEL = None\n",
    "\n",
    "# predictions models such as MASHR or ELASTIC_NET\n",
    "EQTL_MODEL = None\n",
    "\n",
    "# this is the default value used in S-MultiXcan to select the\n",
    "# top principal components of the expression correlation matrix\n",
    "SMULTIXCAN_CONDITION_NUMBER = 30\n",
    "\n",
    "# specifies a single chromosome value\n",
    "CHROMOSOME = None\n",
    "\n",
    "# If True, computes the correlation between closeby genes only;\n",
    "# otherwise, it computes correlations for all genes in a chromosome\n",
    "COMPUTE_CORRELATIONS_WITHIN_DISTANCE = False\n",
    "\n",
    "# if True, then it will continue if a gene pair correlation fails,\n",
    "# printing the warning/error for debugging. If False, any warning/error\n",
    "# will be thrown\n",
    "DEBUG_MODE = False"
   ]
  },
  {
   "cell_type": "code",
   "execution_count": 4,
   "id": "edcf7a82",
   "metadata": {
    "execution": {
     "iopub.execute_input": "2022-08-27T06:03:20.338750Z",
     "iopub.status.busy": "2022-08-27T06:03:20.338560Z",
     "iopub.status.idle": "2022-08-27T06:03:20.354748Z",
     "shell.execute_reply": "2022-08-27T06:03:20.354195Z"
    },
    "papermill": {
     "duration": 0.034058,
     "end_time": "2022-08-27T06:03:20.356368",
     "exception": false,
     "start_time": "2022-08-27T06:03:20.322310",
     "status": "completed"
    },
    "tags": [
     "injected-parameters"
    ]
   },
   "outputs": [],
   "source": [
    "# Parameters\n",
    "COHORT_NAME = \"phenomexcan_other\"\n",
    "REFERENCE_PANEL = \"GTEX_V8\"\n",
    "EQTL_MODEL = \"MASHR\"\n",
    "CHROMOSOME = 4\n"
   ]
  },
  {
   "cell_type": "code",
   "execution_count": 5,
   "id": "3190631f-27fc-480f-b18e-571d580425a5",
   "metadata": {
    "execution": {
     "iopub.execute_input": "2022-08-27T06:03:20.374775Z",
     "iopub.status.busy": "2022-08-27T06:03:20.374584Z",
     "iopub.status.idle": "2022-08-27T06:03:20.394302Z",
     "shell.execute_reply": "2022-08-27T06:03:20.393775Z"
    },
    "papermill": {
     "duration": 0.030892,
     "end_time": "2022-08-27T06:03:20.395800",
     "exception": false,
     "start_time": "2022-08-27T06:03:20.364908",
     "status": "completed"
    },
    "tags": []
   },
   "outputs": [
    {
     "data": {
      "text/plain": [
       "'Cohort name: phenomexcan_other'"
      ]
     },
     "metadata": {},
     "output_type": "display_data"
    }
   ],
   "source": [
    "assert COHORT_NAME is not None and len(COHORT_NAME) > 0, \"A cohort name must be given\"\n",
    "\n",
    "COHORT_NAME = COHORT_NAME.lower()\n",
    "display(f\"Cohort name: {COHORT_NAME}\")"
   ]
  },
  {
   "cell_type": "code",
   "execution_count": 6,
   "id": "f53ba19b-0f93-4fa2-a047-63b375939d1a",
   "metadata": {
    "execution": {
     "iopub.execute_input": "2022-08-27T06:03:20.426453Z",
     "iopub.status.busy": "2022-08-27T06:03:20.426241Z",
     "iopub.status.idle": "2022-08-27T06:03:20.443975Z",
     "shell.execute_reply": "2022-08-27T06:03:20.443488Z"
    },
    "papermill": {
     "duration": 0.032794,
     "end_time": "2022-08-27T06:03:20.445520",
     "exception": false,
     "start_time": "2022-08-27T06:03:20.412726",
     "status": "completed"
    },
    "tags": []
   },
   "outputs": [
    {
     "data": {
      "text/plain": [
       "'Reference panel: GTEX_V8'"
      ]
     },
     "metadata": {},
     "output_type": "display_data"
    }
   ],
   "source": [
    "assert (\n",
    "    REFERENCE_PANEL is not None and len(REFERENCE_PANEL) > 0\n",
    "), \"A reference panel must be given\"\n",
    "\n",
    "display(f\"Reference panel: {REFERENCE_PANEL}\")"
   ]
  },
  {
   "cell_type": "code",
   "execution_count": 7,
   "id": "e024d130-c139-429a-9c6e-ccf149e297b0",
   "metadata": {
    "execution": {
     "iopub.execute_input": "2022-08-27T06:03:20.479688Z",
     "iopub.status.busy": "2022-08-27T06:03:20.479499Z",
     "iopub.status.idle": "2022-08-27T06:03:20.497682Z",
     "shell.execute_reply": "2022-08-27T06:03:20.497150Z"
    },
    "papermill": {
     "duration": 0.04515,
     "end_time": "2022-08-27T06:03:20.499198",
     "exception": false,
     "start_time": "2022-08-27T06:03:20.454048",
     "status": "completed"
    },
    "tags": []
   },
   "outputs": [
    {
     "data": {
      "text/plain": [
       "'eQTL model: MASHR) / mashr_'"
      ]
     },
     "metadata": {},
     "output_type": "display_data"
    }
   ],
   "source": [
    "assert (\n",
    "    EQTL_MODEL is not None and len(EQTL_MODEL) > 0\n",
    "), \"A prediction/eQTL model must be given\"\n",
    "\n",
    "EQTL_MODEL_FILES_PREFIX = conf.PHENOMEXCAN[\"PREDICTION_MODELS\"][f\"{EQTL_MODEL}_PREFIX\"]\n",
    "display(f\"eQTL model: {EQTL_MODEL}) / {EQTL_MODEL_FILES_PREFIX}\")"
   ]
  },
  {
   "cell_type": "code",
   "execution_count": 8,
   "id": "552a7f63-a18c-4d3e-bb6a-94f99b431291",
   "metadata": {
    "execution": {
     "iopub.execute_input": "2022-08-27T06:03:20.529459Z",
     "iopub.status.busy": "2022-08-27T06:03:20.529247Z",
     "iopub.status.idle": "2022-08-27T06:03:20.547025Z",
     "shell.execute_reply": "2022-08-27T06:03:20.546538Z"
    },
    "papermill": {
     "duration": 0.034114,
     "end_time": "2022-08-27T06:03:20.548538",
     "exception": false,
     "start_time": "2022-08-27T06:03:20.514424",
     "status": "completed"
    },
    "tags": []
   },
   "outputs": [
    {
     "data": {
      "text/plain": [
       "'S-MultiXcan condition number: 30'"
      ]
     },
     "metadata": {},
     "output_type": "display_data"
    }
   ],
   "source": [
    "assert (\n",
    "    SMULTIXCAN_CONDITION_NUMBER is not None and SMULTIXCAN_CONDITION_NUMBER > 0\n",
    "), \"The S-MultiXcan condition number (positive integer) must be given\"\n",
    "\n",
    "display(f\"S-MultiXcan condition number: {SMULTIXCAN_CONDITION_NUMBER}\")"
   ]
  },
  {
   "cell_type": "code",
   "execution_count": 9,
   "id": "f34a336f-548e-4afe-8955-90eaea4f42c6",
   "metadata": {
    "execution": {
     "iopub.execute_input": "2022-08-27T06:03:20.583074Z",
     "iopub.status.busy": "2022-08-27T06:03:20.582885Z",
     "iopub.status.idle": "2022-08-27T06:03:20.600723Z",
     "shell.execute_reply": "2022-08-27T06:03:20.600192Z"
    },
    "papermill": {
     "duration": 0.036506,
     "end_time": "2022-08-27T06:03:20.602532",
     "exception": false,
     "start_time": "2022-08-27T06:03:20.566026",
     "status": "completed"
    },
    "tags": []
   },
   "outputs": [
    {
     "data": {
      "text/plain": [
       "'Working on chromosome 4'"
      ]
     },
     "metadata": {},
     "output_type": "display_data"
    }
   ],
   "source": [
    "assert CHROMOSOME is not None and (\n",
    "    1 <= CHROMOSOME <= 22\n",
    "), \"You have to select one chromosome (format: number between 1 and 22)\"\n",
    "\n",
    "# CHROMOSOME = str(CHROMOSOME)\n",
    "display(f\"Working on chromosome {CHROMOSOME}\")"
   ]
  },
  {
   "cell_type": "code",
   "execution_count": 10,
   "id": "ab8e96e8-06b5-4363-9dcd-dc4d78cc27f7",
   "metadata": {
    "execution": {
     "iopub.execute_input": "2022-08-27T06:03:20.676151Z",
     "iopub.status.busy": "2022-08-27T06:03:20.675936Z",
     "iopub.status.idle": "2022-08-27T06:03:20.693911Z",
     "shell.execute_reply": "2022-08-27T06:03:20.693405Z"
    },
    "papermill": {
     "duration": 0.073754,
     "end_time": "2022-08-27T06:03:20.695461",
     "exception": false,
     "start_time": "2022-08-27T06:03:20.621707",
     "status": "completed"
    },
    "tags": []
   },
   "outputs": [
    {
     "data": {
      "text/plain": [
       "'Compute correlation within distance False'"
      ]
     },
     "metadata": {},
     "output_type": "display_data"
    }
   ],
   "source": [
    "display(f\"Compute correlation within distance {COMPUTE_CORRELATIONS_WITHIN_DISTANCE}\")"
   ]
  },
  {
   "cell_type": "code",
   "execution_count": 11,
   "id": "396392dc-0340-4540-9b02-e182b833f909",
   "metadata": {
    "execution": {
     "iopub.execute_input": "2022-08-27T06:03:20.768451Z",
     "iopub.status.busy": "2022-08-27T06:03:20.768239Z",
     "iopub.status.idle": "2022-08-27T06:03:20.817793Z",
     "shell.execute_reply": "2022-08-27T06:03:20.817271Z"
    },
    "papermill": {
     "duration": 0.087775,
     "end_time": "2022-08-27T06:03:20.819305",
     "exception": false,
     "start_time": "2022-08-27T06:03:20.731530",
     "status": "completed"
    },
    "tags": []
   },
   "outputs": [
    {
     "data": {
      "text/plain": [
       "'Using output dir base: /project/ritchie20/projects/phenoplier/base/results/gls/gene_corrs/cohorts/phenomexcan_other/gtex_v8/mashr'"
      ]
     },
     "metadata": {},
     "output_type": "display_data"
    }
   ],
   "source": [
    "OUTPUT_DIR_BASE = (\n",
    "    conf.RESULTS[\"GLS\"]\n",
    "    / \"gene_corrs\"\n",
    "    / \"cohorts\"\n",
    "    / COHORT_NAME\n",
    "    / REFERENCE_PANEL.lower()\n",
    "    / EQTL_MODEL.lower()\n",
    ")\n",
    "OUTPUT_DIR_BASE.mkdir(parents=True, exist_ok=True)\n",
    "\n",
    "display(f\"Using output dir base: {OUTPUT_DIR_BASE}\")"
   ]
  },
  {
   "cell_type": "markdown",
   "id": "d2ba085e",
   "metadata": {
    "papermill": {
     "duration": 0.038549,
     "end_time": "2022-08-27T06:03:20.886894",
     "exception": false,
     "start_time": "2022-08-27T06:03:20.848345",
     "status": "completed"
    },
    "tags": []
   },
   "source": [
    "# Load data"
   ]
  },
  {
   "cell_type": "markdown",
   "id": "7dcb8db7",
   "metadata": {
    "papermill": {
     "duration": 0.026698,
     "end_time": "2022-08-27T06:03:20.948316",
     "exception": false,
     "start_time": "2022-08-27T06:03:20.921618",
     "status": "completed"
    },
    "tags": []
   },
   "source": [
    "## GWAS variants"
   ]
  },
  {
   "cell_type": "code",
   "execution_count": 12,
   "id": "29434c4e-8cd3-4b9b-82e4-b5a251d9dd19",
   "metadata": {
    "execution": {
     "iopub.execute_input": "2022-08-27T06:03:21.015359Z",
     "iopub.status.busy": "2022-08-27T06:03:21.014966Z",
     "iopub.status.idle": "2022-08-27T06:03:24.491883Z",
     "shell.execute_reply": "2022-08-27T06:03:24.491011Z"
    },
    "papermill": {
     "duration": 3.513308,
     "end_time": "2022-08-27T06:03:24.494017",
     "exception": false,
     "start_time": "2022-08-27T06:03:20.980709",
     "status": "completed"
    },
    "tags": []
   },
   "outputs": [],
   "source": [
    "with open(OUTPUT_DIR_BASE / \"gwas_variant_ids.pkl\", \"rb\") as handle:\n",
    "    gwas_variants_ids_set = pickle.load(handle)"
   ]
  },
  {
   "cell_type": "code",
   "execution_count": 13,
   "id": "b9d9dec2-4a76-4bf9-bde2-e24c95acb8a0",
   "metadata": {
    "execution": {
     "iopub.execute_input": "2022-08-27T06:03:24.514985Z",
     "iopub.status.busy": "2022-08-27T06:03:24.514774Z",
     "iopub.status.idle": "2022-08-27T06:03:24.537493Z",
     "shell.execute_reply": "2022-08-27T06:03:24.536952Z"
    },
    "papermill": {
     "duration": 0.034943,
     "end_time": "2022-08-27T06:03:24.538956",
     "exception": false,
     "start_time": "2022-08-27T06:03:24.504013",
     "status": "completed"
    },
    "tags": []
   },
   "outputs": [
    {
     "data": {
      "text/plain": [
       "8865800"
      ]
     },
     "execution_count": 13,
     "metadata": {},
     "output_type": "execute_result"
    }
   ],
   "source": [
    "len(gwas_variants_ids_set)"
   ]
  },
  {
   "cell_type": "code",
   "execution_count": 14,
   "id": "4235b06a-6034-4ee4-a0a3-2ae35d122418",
   "metadata": {
    "execution": {
     "iopub.execute_input": "2022-08-27T06:03:24.558427Z",
     "iopub.status.busy": "2022-08-27T06:03:24.558213Z",
     "iopub.status.idle": "2022-08-27T06:03:25.147077Z",
     "shell.execute_reply": "2022-08-27T06:03:25.146548Z"
    },
    "papermill": {
     "duration": 0.600504,
     "end_time": "2022-08-27T06:03:25.148711",
     "exception": false,
     "start_time": "2022-08-27T06:03:24.548207",
     "status": "completed"
    },
    "tags": []
   },
   "outputs": [
    {
     "data": {
      "text/plain": [
       "['chr8_140594950_C_T_b38',\n",
       " 'chr10_26836023_G_T_b38',\n",
       " 'chr3_104114424_C_T_b38',\n",
       " 'chr3_111654815_A_C_b38',\n",
       " 'chr8_83533494_C_A_b38']"
      ]
     },
     "execution_count": 14,
     "metadata": {},
     "output_type": "execute_result"
    }
   ],
   "source": [
    "list(gwas_variants_ids_set)[:5]"
   ]
  },
  {
   "cell_type": "markdown",
   "id": "07866999-2305-41f9-a144-e69c9122c212",
   "metadata": {
    "papermill": {
     "duration": 0.009978,
     "end_time": "2022-08-27T06:03:25.168457",
     "exception": false,
     "start_time": "2022-08-27T06:03:25.158479",
     "status": "completed"
    },
    "tags": []
   },
   "source": [
    "## S-PrediXcan tissue models"
   ]
  },
  {
   "cell_type": "code",
   "execution_count": 15,
   "id": "780611d9-77c8-405f-90a4-f271f7b09397",
   "metadata": {
    "execution": {
     "iopub.execute_input": "2022-08-27T06:03:25.191239Z",
     "iopub.status.busy": "2022-08-27T06:03:25.191013Z",
     "iopub.status.idle": "2022-08-27T06:03:26.138714Z",
     "shell.execute_reply": "2022-08-27T06:03:26.138124Z"
    },
    "papermill": {
     "duration": 0.962771,
     "end_time": "2022-08-27T06:03:26.140693",
     "exception": false,
     "start_time": "2022-08-27T06:03:25.177922",
     "status": "completed"
    },
    "tags": []
   },
   "outputs": [],
   "source": [
    "spredixcan_genes_models = pd.read_pickle(OUTPUT_DIR_BASE / \"gene_tissues.pkl\")"
   ]
  },
  {
   "cell_type": "code",
   "execution_count": 16,
   "id": "726dd1f6-9557-4225-91fa-b3b879ea96e1",
   "metadata": {
    "execution": {
     "iopub.execute_input": "2022-08-27T06:03:26.161555Z",
     "iopub.status.busy": "2022-08-27T06:03:26.161321Z",
     "iopub.status.idle": "2022-08-27T06:03:26.181587Z",
     "shell.execute_reply": "2022-08-27T06:03:26.181049Z"
    },
    "papermill": {
     "duration": 0.032094,
     "end_time": "2022-08-27T06:03:26.183062",
     "exception": false,
     "start_time": "2022-08-27T06:03:26.150968",
     "status": "completed"
    },
    "tags": []
   },
   "outputs": [
    {
     "data": {
      "text/plain": [
       "(6450, 3)"
      ]
     },
     "execution_count": 16,
     "metadata": {},
     "output_type": "execute_result"
    }
   ],
   "source": [
    "spredixcan_genes_models.shape"
   ]
  },
  {
   "cell_type": "code",
   "execution_count": 17,
   "id": "944a1b48-222c-4eb0-b252-b9de2cbca215",
   "metadata": {
    "execution": {
     "iopub.execute_input": "2022-08-27T06:03:26.206379Z",
     "iopub.status.busy": "2022-08-27T06:03:26.206175Z",
     "iopub.status.idle": "2022-08-27T06:03:26.232538Z",
     "shell.execute_reply": "2022-08-27T06:03:26.231980Z"
    },
    "papermill": {
     "duration": 0.039177,
     "end_time": "2022-08-27T06:03:26.234001",
     "exception": false,
     "start_time": "2022-08-27T06:03:26.194824",
     "status": "completed"
    },
    "tags": []
   },
   "outputs": [
    {
     "data": {
      "text/html": [
       "<div>\n",
       "<style scoped>\n",
       "    .dataframe tbody tr th:only-of-type {\n",
       "        vertical-align: middle;\n",
       "    }\n",
       "\n",
       "    .dataframe tbody tr th {\n",
       "        vertical-align: top;\n",
       "    }\n",
       "\n",
       "    .dataframe thead th {\n",
       "        text-align: right;\n",
       "    }\n",
       "</style>\n",
       "<table border=\"1\" class=\"dataframe\">\n",
       "  <thead>\n",
       "    <tr style=\"text-align: right;\">\n",
       "      <th></th>\n",
       "      <th>gene_name</th>\n",
       "      <th>tissue</th>\n",
       "      <th>n_tissues</th>\n",
       "    </tr>\n",
       "    <tr>\n",
       "      <th>gene_id</th>\n",
       "      <th></th>\n",
       "      <th></th>\n",
       "      <th></th>\n",
       "    </tr>\n",
       "  </thead>\n",
       "  <tbody>\n",
       "    <tr>\n",
       "      <th>ENSG00000000419</th>\n",
       "      <td>DPM1</td>\n",
       "      <td>(Brain_Substantia_nigra, Cells_Cultured_fibrob...</td>\n",
       "      <td>3</td>\n",
       "    </tr>\n",
       "    <tr>\n",
       "      <th>ENSG00000000938</th>\n",
       "      <td>FGR</td>\n",
       "      <td>(Muscle_Skeletal, Skin_Sun_Exposed_Lower_leg, ...</td>\n",
       "      <td>36</td>\n",
       "    </tr>\n",
       "    <tr>\n",
       "      <th>ENSG00000000971</th>\n",
       "      <td>CFH</td>\n",
       "      <td>(Skin_Sun_Exposed_Lower_leg, Esophagus_Gastroe...</td>\n",
       "      <td>34</td>\n",
       "    </tr>\n",
       "    <tr>\n",
       "      <th>ENSG00000001084</th>\n",
       "      <td>GCLC</td>\n",
       "      <td>(Muscle_Skeletal, Skin_Sun_Exposed_Lower_leg, ...</td>\n",
       "      <td>33</td>\n",
       "    </tr>\n",
       "    <tr>\n",
       "      <th>ENSG00000001167</th>\n",
       "      <td>NFYA</td>\n",
       "      <td>(Muscle_Skeletal, Skin_Sun_Exposed_Lower_leg, ...</td>\n",
       "      <td>40</td>\n",
       "    </tr>\n",
       "  </tbody>\n",
       "</table>\n",
       "</div>"
      ],
      "text/plain": [
       "                gene_name                                             tissue  \\\n",
       "gene_id                                                                        \n",
       "ENSG00000000419      DPM1  (Brain_Substantia_nigra, Cells_Cultured_fibrob...   \n",
       "ENSG00000000938       FGR  (Muscle_Skeletal, Skin_Sun_Exposed_Lower_leg, ...   \n",
       "ENSG00000000971       CFH  (Skin_Sun_Exposed_Lower_leg, Esophagus_Gastroe...   \n",
       "ENSG00000001084      GCLC  (Muscle_Skeletal, Skin_Sun_Exposed_Lower_leg, ...   \n",
       "ENSG00000001167      NFYA  (Muscle_Skeletal, Skin_Sun_Exposed_Lower_leg, ...   \n",
       "\n",
       "                 n_tissues  \n",
       "gene_id                     \n",
       "ENSG00000000419          3  \n",
       "ENSG00000000938         36  \n",
       "ENSG00000000971         34  \n",
       "ENSG00000001084         33  \n",
       "ENSG00000001167         40  "
      ]
     },
     "execution_count": 17,
     "metadata": {},
     "output_type": "execute_result"
    }
   ],
   "source": [
    "spredixcan_genes_models.head()"
   ]
  },
  {
   "cell_type": "code",
   "execution_count": 18,
   "id": "d1c11bb1-be0b-4f40-b360-633d6827109f",
   "metadata": {
    "execution": {
     "iopub.execute_input": "2022-08-27T06:03:26.254882Z",
     "iopub.status.busy": "2022-08-27T06:03:26.254692Z",
     "iopub.status.idle": "2022-08-27T06:03:26.271490Z",
     "shell.execute_reply": "2022-08-27T06:03:26.270935Z"
    },
    "papermill": {
     "duration": 0.029243,
     "end_time": "2022-08-27T06:03:26.273084",
     "exception": false,
     "start_time": "2022-08-27T06:03:26.243841",
     "status": "completed"
    },
    "tags": []
   },
   "outputs": [],
   "source": [
    "assert spredixcan_genes_models.index.is_unique"
   ]
  },
  {
   "cell_type": "markdown",
   "id": "a5b5092c-a13e-47c4-a92a-480fcc08f3ae",
   "metadata": {
    "papermill": {
     "duration": 0.009648,
     "end_time": "2022-08-27T06:03:26.293474",
     "exception": false,
     "start_time": "2022-08-27T06:03:26.283826",
     "status": "completed"
    },
    "tags": []
   },
   "source": [
    "## Gene info"
   ]
  },
  {
   "cell_type": "code",
   "execution_count": 19,
   "id": "7d6bb224-88e9-4358-ac10-43a41d92cdad",
   "metadata": {
    "execution": {
     "iopub.execute_input": "2022-08-27T06:03:26.314942Z",
     "iopub.status.busy": "2022-08-27T06:03:26.314752Z",
     "iopub.status.idle": "2022-08-27T06:03:26.339858Z",
     "shell.execute_reply": "2022-08-27T06:03:26.339353Z"
    },
    "papermill": {
     "duration": 0.038131,
     "end_time": "2022-08-27T06:03:26.341499",
     "exception": false,
     "start_time": "2022-08-27T06:03:26.303368",
     "status": "completed"
    },
    "tags": []
   },
   "outputs": [],
   "source": [
    "genes_info = pd.read_pickle(OUTPUT_DIR_BASE / \"genes_info.pkl\")"
   ]
  },
  {
   "cell_type": "code",
   "execution_count": 20,
   "id": "9e32abfa-546d-483e-8c18-d526e9e05903",
   "metadata": {
    "execution": {
     "iopub.execute_input": "2022-08-27T06:03:26.367740Z",
     "iopub.status.busy": "2022-08-27T06:03:26.367550Z",
     "iopub.status.idle": "2022-08-27T06:03:26.384974Z",
     "shell.execute_reply": "2022-08-27T06:03:26.384487Z"
    },
    "papermill": {
     "duration": 0.032108,
     "end_time": "2022-08-27T06:03:26.386588",
     "exception": false,
     "start_time": "2022-08-27T06:03:26.354480",
     "status": "completed"
    },
    "tags": []
   },
   "outputs": [
    {
     "data": {
      "text/plain": [
       "(6450, 7)"
      ]
     },
     "execution_count": 20,
     "metadata": {},
     "output_type": "execute_result"
    }
   ],
   "source": [
    "genes_info.shape"
   ]
  },
  {
   "cell_type": "code",
   "execution_count": 21,
   "id": "d16c3e92-85ec-468a-9a56-e25a9774a1cb",
   "metadata": {
    "execution": {
     "iopub.execute_input": "2022-08-27T06:03:26.408806Z",
     "iopub.status.busy": "2022-08-27T06:03:26.408615Z",
     "iopub.status.idle": "2022-08-27T06:03:26.430701Z",
     "shell.execute_reply": "2022-08-27T06:03:26.430193Z"
    },
    "papermill": {
     "duration": 0.03546,
     "end_time": "2022-08-27T06:03:26.432224",
     "exception": false,
     "start_time": "2022-08-27T06:03:26.396764",
     "status": "completed"
    },
    "tags": []
   },
   "outputs": [
    {
     "data": {
      "text/html": [
       "<div>\n",
       "<style scoped>\n",
       "    .dataframe tbody tr th:only-of-type {\n",
       "        vertical-align: middle;\n",
       "    }\n",
       "\n",
       "    .dataframe tbody tr th {\n",
       "        vertical-align: top;\n",
       "    }\n",
       "\n",
       "    .dataframe thead th {\n",
       "        text-align: right;\n",
       "    }\n",
       "</style>\n",
       "<table border=\"1\" class=\"dataframe\">\n",
       "  <thead>\n",
       "    <tr style=\"text-align: right;\">\n",
       "      <th></th>\n",
       "      <th>name</th>\n",
       "      <th>id</th>\n",
       "      <th>chr</th>\n",
       "      <th>band</th>\n",
       "      <th>start_position</th>\n",
       "      <th>end_position</th>\n",
       "      <th>gene_length</th>\n",
       "    </tr>\n",
       "  </thead>\n",
       "  <tbody>\n",
       "    <tr>\n",
       "      <th>0</th>\n",
       "      <td>FUS</td>\n",
       "      <td>ENSG00000089280</td>\n",
       "      <td>16</td>\n",
       "      <td>16p11.2</td>\n",
       "      <td>31180110</td>\n",
       "      <td>31194871</td>\n",
       "      <td>14761</td>\n",
       "    </tr>\n",
       "    <tr>\n",
       "      <th>1</th>\n",
       "      <td>PI4K2A</td>\n",
       "      <td>ENSG00000155252</td>\n",
       "      <td>10</td>\n",
       "      <td>10q24.2</td>\n",
       "      <td>97640686</td>\n",
       "      <td>97676434</td>\n",
       "      <td>35748</td>\n",
       "    </tr>\n",
       "    <tr>\n",
       "      <th>2</th>\n",
       "      <td>PER1</td>\n",
       "      <td>ENSG00000179094</td>\n",
       "      <td>17</td>\n",
       "      <td>17p13.1</td>\n",
       "      <td>8140472</td>\n",
       "      <td>8156506</td>\n",
       "      <td>16034</td>\n",
       "    </tr>\n",
       "    <tr>\n",
       "      <th>3</th>\n",
       "      <td>GBP6</td>\n",
       "      <td>ENSG00000183347</td>\n",
       "      <td>1</td>\n",
       "      <td>1p22.2</td>\n",
       "      <td>89364058</td>\n",
       "      <td>89386461</td>\n",
       "      <td>22403</td>\n",
       "    </tr>\n",
       "    <tr>\n",
       "      <th>4</th>\n",
       "      <td>GPAA1</td>\n",
       "      <td>ENSG00000197858</td>\n",
       "      <td>8</td>\n",
       "      <td>8q24.3</td>\n",
       "      <td>144082590</td>\n",
       "      <td>144086216</td>\n",
       "      <td>3626</td>\n",
       "    </tr>\n",
       "  </tbody>\n",
       "</table>\n",
       "</div>"
      ],
      "text/plain": [
       "     name               id  chr     band  start_position  end_position  \\\n",
       "0     FUS  ENSG00000089280   16  16p11.2        31180110      31194871   \n",
       "1  PI4K2A  ENSG00000155252   10  10q24.2        97640686      97676434   \n",
       "2    PER1  ENSG00000179094   17  17p13.1         8140472       8156506   \n",
       "3    GBP6  ENSG00000183347    1   1p22.2        89364058      89386461   \n",
       "4   GPAA1  ENSG00000197858    8   8q24.3       144082590     144086216   \n",
       "\n",
       "   gene_length  \n",
       "0        14761  \n",
       "1        35748  \n",
       "2        16034  \n",
       "3        22403  \n",
       "4         3626  "
      ]
     },
     "execution_count": 21,
     "metadata": {},
     "output_type": "execute_result"
    }
   ],
   "source": [
    "genes_info.head()"
   ]
  },
  {
   "cell_type": "markdown",
   "id": "d3843e06",
   "metadata": {
    "papermill": {
     "duration": 0.010026,
     "end_time": "2022-08-27T06:03:26.452491",
     "exception": false,
     "start_time": "2022-08-27T06:03:26.442465",
     "status": "completed"
    },
    "tags": []
   },
   "source": [
    "# Compute correlations"
   ]
  },
  {
   "cell_type": "code",
   "execution_count": 22,
   "id": "cb859c15-d1f3-4006-a74c-2b83c0db9611",
   "metadata": {
    "execution": {
     "iopub.execute_input": "2022-08-27T06:03:26.473589Z",
     "iopub.status.busy": "2022-08-27T06:03:26.473368Z",
     "iopub.status.idle": "2022-08-27T06:03:26.492564Z",
     "shell.execute_reply": "2022-08-27T06:03:26.491993Z"
    },
    "papermill": {
     "duration": 0.031467,
     "end_time": "2022-08-27T06:03:26.494026",
     "exception": false,
     "start_time": "2022-08-27T06:03:26.462559",
     "status": "completed"
    },
    "tags": []
   },
   "outputs": [
    {
     "data": {
      "text/plain": [
       "PosixPath('/project/ritchie20/projects/phenoplier/base/results/gls/gene_corrs/cohorts/phenomexcan_other/gtex_v8/mashr/by_chr/gene_corrs-chr4.pkl')"
      ]
     },
     "metadata": {},
     "output_type": "display_data"
    }
   ],
   "source": [
    "output_dir = OUTPUT_DIR_BASE / \"by_chr\"\n",
    "output_dir.mkdir(exist_ok=True, parents=True)\n",
    "output_file = output_dir / f\"gene_corrs-chr{CHROMOSOME}.pkl\"\n",
    "display(output_file)"
   ]
  },
  {
   "cell_type": "code",
   "execution_count": 23,
   "id": "aa674fe4-6794-4eed-98fa-32b39d1d4ace",
   "metadata": {
    "execution": {
     "iopub.execute_input": "2022-08-27T06:03:26.521945Z",
     "iopub.status.busy": "2022-08-27T06:03:26.521758Z",
     "iopub.status.idle": "2022-08-27T06:03:26.537708Z",
     "shell.execute_reply": "2022-08-27T06:03:26.537181Z"
    },
    "papermill": {
     "duration": 0.030604,
     "end_time": "2022-08-27T06:03:26.539341",
     "exception": false,
     "start_time": "2022-08-27T06:03:26.508737",
     "status": "completed"
    },
    "tags": []
   },
   "outputs": [],
   "source": [
    "warnings.filterwarnings(\"error\")"
   ]
  },
  {
   "cell_type": "code",
   "execution_count": 24,
   "id": "44d5450b-3baf-43f1-9e2e-4b06f1a785f8",
   "metadata": {
    "execution": {
     "iopub.execute_input": "2022-08-27T06:03:26.564946Z",
     "iopub.status.busy": "2022-08-27T06:03:26.564757Z",
     "iopub.status.idle": "2022-08-27T06:03:26.581538Z",
     "shell.execute_reply": "2022-08-27T06:03:26.580990Z"
    },
    "papermill": {
     "duration": 0.031714,
     "end_time": "2022-08-27T06:03:26.583163",
     "exception": false,
     "start_time": "2022-08-27T06:03:26.551449",
     "status": "completed"
    },
    "tags": []
   },
   "outputs": [],
   "source": [
    "# standard checks\n",
    "all_chrs = genes_info[\"chr\"].dropna().unique()\n",
    "assert all_chrs.shape[0] == 22\n",
    "\n",
    "# select chromosome given by the user\n",
    "assert CHROMOSOME in all_chrs"
   ]
  },
  {
   "cell_type": "code",
   "execution_count": 25,
   "id": "2d7c043c-92a7-4d35-991b-fa69ac1e0268",
   "metadata": {
    "execution": {
     "iopub.execute_input": "2022-08-27T06:03:26.615868Z",
     "iopub.status.busy": "2022-08-27T06:03:26.615678Z",
     "iopub.status.idle": "2022-08-27T06:03:26.675034Z",
     "shell.execute_reply": "2022-08-27T06:03:26.674536Z"
    },
    "papermill": {
     "duration": 0.076225,
     "end_time": "2022-08-27T06:03:26.676619",
     "exception": false,
     "start_time": "2022-08-27T06:03:26.600394",
     "status": "completed"
    },
    "tags": []
   },
   "outputs": [
    {
     "name": "stdout",
     "output_type": "stream",
     "text": [
      "Number of genes in chromosome: 244\n"
     ]
    }
   ],
   "source": [
    "# run only on the chromosome specified\n",
    "all_chrs = [CHROMOSOME]\n",
    "genes_chr = genes_info[genes_info[\"chr\"] == CHROMOSOME]\n",
    "\n",
    "# For testing purposes\n",
    "# genes_chr = genes_chr.sample(n=20)\n",
    "\n",
    "print(f\"Number of genes in chromosome: {genes_chr.shape[0]}\", flush=True)"
   ]
  },
  {
   "cell_type": "code",
   "execution_count": 26,
   "id": "916015d8-2979-46d3-a9b9-1cf5a0932c6a",
   "metadata": {
    "execution": {
     "iopub.execute_input": "2022-08-27T06:03:26.709191Z",
     "iopub.status.busy": "2022-08-27T06:03:26.708992Z",
     "iopub.status.idle": "2022-08-27T06:03:26.725105Z",
     "shell.execute_reply": "2022-08-27T06:03:26.724588Z"
    },
    "papermill": {
     "duration": 0.034182,
     "end_time": "2022-08-27T06:03:26.726663",
     "exception": false,
     "start_time": "2022-08-27T06:03:26.692481",
     "status": "completed"
    },
    "tags": []
   },
   "outputs": [],
   "source": [
    "# sort genes by starting position to make visualizations better later\n",
    "genes_chr = genes_chr.sort_values(\"start_position\")"
   ]
  },
  {
   "cell_type": "code",
   "execution_count": 27,
   "id": "a38aa74a-8ad3-47f6-8ef9-56be0e011774",
   "metadata": {
    "execution": {
     "iopub.execute_input": "2022-08-27T06:03:26.760320Z",
     "iopub.status.busy": "2022-08-27T06:03:26.760118Z",
     "iopub.status.idle": "2022-08-27T06:03:26.777448Z",
     "shell.execute_reply": "2022-08-27T06:03:26.776899Z"
    },
    "papermill": {
     "duration": 0.036146,
     "end_time": "2022-08-27T06:03:26.779146",
     "exception": false,
     "start_time": "2022-08-27T06:03:26.743000",
     "status": "completed"
    },
    "tags": []
   },
   "outputs": [],
   "source": [
    "gene_chr_objs = [Gene(ensembl_id=gene_id) for gene_id in genes_chr[\"id\"]]"
   ]
  },
  {
   "cell_type": "code",
   "execution_count": 28,
   "id": "570f974f-13c3-42b6-ad3a-ce99ca885c1a",
   "metadata": {
    "execution": {
     "iopub.execute_input": "2022-08-27T06:03:26.834244Z",
     "iopub.status.busy": "2022-08-27T06:03:26.834045Z",
     "iopub.status.idle": "2022-08-27T06:03:26.850913Z",
     "shell.execute_reply": "2022-08-27T06:03:26.850419Z"
    },
    "papermill": {
     "duration": 0.04912,
     "end_time": "2022-08-27T06:03:26.852450",
     "exception": false,
     "start_time": "2022-08-27T06:03:26.803330",
     "status": "completed"
    },
    "tags": []
   },
   "outputs": [
    {
     "name": "stdout",
     "output_type": "stream",
     "text": [
      "Number of gene combinations: 29646\n"
     ]
    }
   ],
   "source": [
    "n = len(gene_chr_objs)\n",
    "n_comb = int(n * (n - 1) / 2.0)\n",
    "print(f\"Number of gene combinations: {n_comb}\", flush=True)"
   ]
  },
  {
   "cell_type": "code",
   "execution_count": 29,
   "id": "cdbb90a1",
   "metadata": {
    "execution": {
     "iopub.execute_input": "2022-08-27T06:03:26.924254Z",
     "iopub.status.busy": "2022-08-27T06:03:26.924032Z",
     "iopub.status.idle": "2022-08-27T06:46:03.483174Z",
     "shell.execute_reply": "2022-08-27T06:46:03.482486Z"
    },
    "papermill": {
     "duration": 2556.59979,
     "end_time": "2022-08-27T06:46:03.484894",
     "exception": false,
     "start_time": "2022-08-27T06:03:26.885104",
     "status": "completed"
    },
    "tags": []
   },
   "outputs": [
    {
     "name": "stderr",
     "output_type": "stream",
     "text": [
      "ENSG00000109536 / ENSG00000109536: : 29890it [42:36, 11.69it/s]\n"
     ]
    },
    {
     "data": {
      "text/plain": [
       "PosixPath('/project/ritchie20/projects/phenoplier/base/results/gls/gene_corrs/cohorts/phenomexcan_other/gtex_v8/mashr/by_chr/gene_corrs-chr4.pkl')"
      ]
     },
     "metadata": {},
     "output_type": "display_data"
    }
   ],
   "source": [
    "gene_corrs = []\n",
    "gene_corrs_data = np.full(\n",
    "    (n, n),\n",
    "    np.nan,\n",
    "    dtype=np.float64,\n",
    ")\n",
    "\n",
    "i = 0\n",
    "with tqdm(ncols=100, total=n_comb) as pbar:\n",
    "    for gene1_idx in range(0, len(gene_chr_objs)):\n",
    "        gene1_obj = gene_chr_objs[gene1_idx]\n",
    "        gene1_tissues = spredixcan_genes_models.loc[gene1_obj.ensembl_id, \"tissue\"]\n",
    "\n",
    "        for gene2_idx in range(gene1_idx, len(gene_chr_objs)):\n",
    "            gene2_obj = gene_chr_objs[gene2_idx]\n",
    "            gene2_tissues = spredixcan_genes_models.loc[gene2_obj.ensembl_id, \"tissue\"]\n",
    "\n",
    "            pbar.set_description(f\"{gene1_obj.ensembl_id} / {gene2_obj.ensembl_id}\")\n",
    "\n",
    "            try:\n",
    "                r = gene1_obj.get_ssm_correlation(\n",
    "                    other_gene=gene2_obj,\n",
    "                    tissues=gene1_tissues,\n",
    "                    other_tissues=gene2_tissues,\n",
    "                    snps_subset=gwas_variants_ids_set,\n",
    "                    condition_number=SMULTIXCAN_CONDITION_NUMBER,\n",
    "                    reference_panel=REFERENCE_PANEL,\n",
    "                    model_type=EQTL_MODEL,\n",
    "                    use_within_distance=COMPUTE_CORRELATIONS_WITHIN_DISTANCE,\n",
    "                )\n",
    "\n",
    "                if r is None:\n",
    "                    # if r is None, it's very likely because:\n",
    "                    #  * one of the genes has no prediction models\n",
    "                    #  * all the SNPs predictors for the gene are not present in the reference\n",
    "                    #    panel\n",
    "\n",
    "                    r = 0.0\n",
    "\n",
    "                gene_corrs.append(r)\n",
    "\n",
    "                gene_corrs_data[gene1_idx, gene2_idx] = r\n",
    "                gene_corrs_data[gene2_idx, gene1_idx] = r\n",
    "            except Warning as e:\n",
    "                if not DEBUG_MODE:\n",
    "                    raise e\n",
    "\n",
    "                print(\n",
    "                    f\"RuntimeWarning for genes {gene1_obj.ensembl_id} and {gene2_obj.ensembl_id}\",\n",
    "                    flush=True,\n",
    "                )\n",
    "                print(traceback.format_exc(), flush=True)\n",
    "\n",
    "                gene_corrs.append(np.nan)\n",
    "            except Exception as e:\n",
    "                if not DEBUG_MODE:\n",
    "                    raise e\n",
    "\n",
    "                print(\n",
    "                    f\"Exception for genes {gene1_obj.ensembl_id} and {gene2_obj.ensembl_id}\",\n",
    "                    flush=True,\n",
    "                )\n",
    "                print(traceback.format_exc(), flush=True)\n",
    "\n",
    "                gene_corrs.append(np.nan)\n",
    "\n",
    "            pbar.update(1)\n",
    "\n",
    "# create a pandas series\n",
    "gene_corrs_flat = pd.Series(gene_corrs)\n",
    "\n",
    "# save\n",
    "# FIXME: consider saving only the condenced matrix here. See here for\n",
    "# more details: https://github.com/greenelab/phenoplier/pull/38#discussion_r634600813\n",
    "# gene_corrs_data = squareform(np.array(gene_corrs, dtype=np.float64))\n",
    "# np.fill_diagonal(gene_corrs_data, 1.0)\n",
    "\n",
    "gene_chr_ids = [g.ensembl_id for g in gene_chr_objs]\n",
    "gene_corrs_df = pd.DataFrame(\n",
    "    data=gene_corrs_data,\n",
    "    index=gene_chr_ids,\n",
    "    columns=gene_chr_ids,\n",
    ")\n",
    "\n",
    "output_dir.mkdir(exist_ok=True, parents=True)\n",
    "display(output_file)\n",
    "\n",
    "gene_corrs_df.to_pickle(output_file)"
   ]
  },
  {
   "cell_type": "markdown",
   "id": "faa67b51-5373-470f-aa72-2ded53fa6dfe",
   "metadata": {
    "papermill": {
     "duration": 1.788242,
     "end_time": "2022-08-27T06:46:07.023500",
     "exception": false,
     "start_time": "2022-08-27T06:46:05.235258",
     "status": "completed"
    },
    "tags": []
   },
   "source": [
    "# Testing"
   ]
  },
  {
   "cell_type": "code",
   "execution_count": 30,
   "id": "14f7d046-4b55-4896-a56b-990127bcc388",
   "metadata": {
    "execution": {
     "iopub.execute_input": "2022-08-27T06:46:10.552716Z",
     "iopub.status.busy": "2022-08-27T06:46:10.552453Z",
     "iopub.status.idle": "2022-08-27T06:46:10.802651Z",
     "shell.execute_reply": "2022-08-27T06:46:10.801724Z"
    },
    "papermill": {
     "duration": 2.042196,
     "end_time": "2022-08-27T06:46:10.805403",
     "exception": false,
     "start_time": "2022-08-27T06:46:08.763207",
     "status": "completed"
    },
    "tags": []
   },
   "outputs": [
    {
     "data": {
      "text/plain": [
       "(244, 244)"
      ]
     },
     "execution_count": 30,
     "metadata": {},
     "output_type": "execute_result"
    }
   ],
   "source": [
    "gene_corrs_df.shape"
   ]
  },
  {
   "cell_type": "code",
   "execution_count": 31,
   "id": "c7d15414-3297-4537-a7c6-7588c0baeb75",
   "metadata": {
    "execution": {
     "iopub.execute_input": "2022-08-27T06:46:14.416683Z",
     "iopub.status.busy": "2022-08-27T06:46:14.416401Z",
     "iopub.status.idle": "2022-08-27T06:46:14.451465Z",
     "shell.execute_reply": "2022-08-27T06:46:14.450882Z"
    },
    "papermill": {
     "duration": 1.827938,
     "end_time": "2022-08-27T06:46:14.453011",
     "exception": false,
     "start_time": "2022-08-27T06:46:12.625073",
     "status": "completed"
    },
    "tags": []
   },
   "outputs": [
    {
     "data": {
      "text/html": [
       "<div>\n",
       "<style scoped>\n",
       "    .dataframe tbody tr th:only-of-type {\n",
       "        vertical-align: middle;\n",
       "    }\n",
       "\n",
       "    .dataframe tbody tr th {\n",
       "        vertical-align: top;\n",
       "    }\n",
       "\n",
       "    .dataframe thead th {\n",
       "        text-align: right;\n",
       "    }\n",
       "</style>\n",
       "<table border=\"1\" class=\"dataframe\">\n",
       "  <thead>\n",
       "    <tr style=\"text-align: right;\">\n",
       "      <th></th>\n",
       "      <th>ENSG00000272602</th>\n",
       "      <th>ENSG00000131127</th>\n",
       "      <th>ENSG00000174227</th>\n",
       "      <th>ENSG00000133256</th>\n",
       "      <th>ENSG00000169020</th>\n",
       "      <th>ENSG00000215375</th>\n",
       "      <th>ENSG00000169026</th>\n",
       "      <th>ENSG00000178950</th>\n",
       "      <th>ENSG00000145214</th>\n",
       "      <th>ENSG00000145217</th>\n",
       "      <th>...</th>\n",
       "      <th>ENSG00000109674</th>\n",
       "      <th>ENSG00000038002</th>\n",
       "      <th>ENSG00000129187</th>\n",
       "      <th>ENSG00000168310</th>\n",
       "      <th>ENSG00000164305</th>\n",
       "      <th>ENSG00000151726</th>\n",
       "      <th>ENSG00000151729</th>\n",
       "      <th>ENSG00000164342</th>\n",
       "      <th>ENSG00000164344</th>\n",
       "      <th>ENSG00000109536</th>\n",
       "    </tr>\n",
       "  </thead>\n",
       "  <tbody>\n",
       "    <tr>\n",
       "      <th>ENSG00000272602</th>\n",
       "      <td>1.000000</td>\n",
       "      <td>0.026111</td>\n",
       "      <td>0.032643</td>\n",
       "      <td>0.031783</td>\n",
       "      <td>0.012578</td>\n",
       "      <td>0.023088</td>\n",
       "      <td>0.022914</td>\n",
       "      <td>0.012772</td>\n",
       "      <td>0.007096</td>\n",
       "      <td>0.006890</td>\n",
       "      <td>...</td>\n",
       "      <td>0.009255</td>\n",
       "      <td>0.005670</td>\n",
       "      <td>0.006624</td>\n",
       "      <td>0.008613</td>\n",
       "      <td>0.005220</td>\n",
       "      <td>0.007602</td>\n",
       "      <td>0.009546</td>\n",
       "      <td>0.007089</td>\n",
       "      <td>0.004597</td>\n",
       "      <td>0.008170</td>\n",
       "    </tr>\n",
       "    <tr>\n",
       "      <th>ENSG00000131127</th>\n",
       "      <td>0.026111</td>\n",
       "      <td>1.000000</td>\n",
       "      <td>0.257021</td>\n",
       "      <td>0.071254</td>\n",
       "      <td>0.030254</td>\n",
       "      <td>0.034861</td>\n",
       "      <td>0.044006</td>\n",
       "      <td>0.007786</td>\n",
       "      <td>0.009555</td>\n",
       "      <td>0.003751</td>\n",
       "      <td>...</td>\n",
       "      <td>0.006911</td>\n",
       "      <td>0.003985</td>\n",
       "      <td>0.003840</td>\n",
       "      <td>0.010176</td>\n",
       "      <td>0.003947</td>\n",
       "      <td>0.008119</td>\n",
       "      <td>0.007841</td>\n",
       "      <td>0.007164</td>\n",
       "      <td>0.002698</td>\n",
       "      <td>0.003345</td>\n",
       "    </tr>\n",
       "    <tr>\n",
       "      <th>ENSG00000174227</th>\n",
       "      <td>0.032643</td>\n",
       "      <td>0.257021</td>\n",
       "      <td>1.000000</td>\n",
       "      <td>0.308906</td>\n",
       "      <td>0.117340</td>\n",
       "      <td>0.070778</td>\n",
       "      <td>0.110667</td>\n",
       "      <td>0.008234</td>\n",
       "      <td>0.008717</td>\n",
       "      <td>0.008874</td>\n",
       "      <td>...</td>\n",
       "      <td>0.006389</td>\n",
       "      <td>0.003230</td>\n",
       "      <td>0.010180</td>\n",
       "      <td>0.006208</td>\n",
       "      <td>0.005705</td>\n",
       "      <td>0.005502</td>\n",
       "      <td>0.006750</td>\n",
       "      <td>0.007962</td>\n",
       "      <td>0.006986</td>\n",
       "      <td>0.004239</td>\n",
       "    </tr>\n",
       "    <tr>\n",
       "      <th>ENSG00000133256</th>\n",
       "      <td>0.031783</td>\n",
       "      <td>0.071254</td>\n",
       "      <td>0.308906</td>\n",
       "      <td>1.000000</td>\n",
       "      <td>0.186049</td>\n",
       "      <td>0.202650</td>\n",
       "      <td>0.249903</td>\n",
       "      <td>0.018498</td>\n",
       "      <td>0.011095</td>\n",
       "      <td>0.006746</td>\n",
       "      <td>...</td>\n",
       "      <td>0.010938</td>\n",
       "      <td>0.005106</td>\n",
       "      <td>0.008156</td>\n",
       "      <td>0.007375</td>\n",
       "      <td>0.005593</td>\n",
       "      <td>0.005453</td>\n",
       "      <td>0.007038</td>\n",
       "      <td>0.008955</td>\n",
       "      <td>0.004631</td>\n",
       "      <td>0.008280</td>\n",
       "    </tr>\n",
       "    <tr>\n",
       "      <th>ENSG00000169020</th>\n",
       "      <td>0.012578</td>\n",
       "      <td>0.030254</td>\n",
       "      <td>0.117340</td>\n",
       "      <td>0.186049</td>\n",
       "      <td>1.000000</td>\n",
       "      <td>0.110423</td>\n",
       "      <td>0.176379</td>\n",
       "      <td>0.006966</td>\n",
       "      <td>0.010265</td>\n",
       "      <td>0.026473</td>\n",
       "      <td>...</td>\n",
       "      <td>0.004374</td>\n",
       "      <td>0.004217</td>\n",
       "      <td>0.004668</td>\n",
       "      <td>0.007046</td>\n",
       "      <td>0.003921</td>\n",
       "      <td>0.004452</td>\n",
       "      <td>0.005060</td>\n",
       "      <td>0.001847</td>\n",
       "      <td>0.001256</td>\n",
       "      <td>0.003673</td>\n",
       "    </tr>\n",
       "  </tbody>\n",
       "</table>\n",
       "<p>5 rows × 244 columns</p>\n",
       "</div>"
      ],
      "text/plain": [
       "                 ENSG00000272602  ENSG00000131127  ENSG00000174227  \\\n",
       "ENSG00000272602         1.000000         0.026111         0.032643   \n",
       "ENSG00000131127         0.026111         1.000000         0.257021   \n",
       "ENSG00000174227         0.032643         0.257021         1.000000   \n",
       "ENSG00000133256         0.031783         0.071254         0.308906   \n",
       "ENSG00000169020         0.012578         0.030254         0.117340   \n",
       "\n",
       "                 ENSG00000133256  ENSG00000169020  ENSG00000215375  \\\n",
       "ENSG00000272602         0.031783         0.012578         0.023088   \n",
       "ENSG00000131127         0.071254         0.030254         0.034861   \n",
       "ENSG00000174227         0.308906         0.117340         0.070778   \n",
       "ENSG00000133256         1.000000         0.186049         0.202650   \n",
       "ENSG00000169020         0.186049         1.000000         0.110423   \n",
       "\n",
       "                 ENSG00000169026  ENSG00000178950  ENSG00000145214  \\\n",
       "ENSG00000272602         0.022914         0.012772         0.007096   \n",
       "ENSG00000131127         0.044006         0.007786         0.009555   \n",
       "ENSG00000174227         0.110667         0.008234         0.008717   \n",
       "ENSG00000133256         0.249903         0.018498         0.011095   \n",
       "ENSG00000169020         0.176379         0.006966         0.010265   \n",
       "\n",
       "                 ENSG00000145217  ...  ENSG00000109674  ENSG00000038002  \\\n",
       "ENSG00000272602         0.006890  ...         0.009255         0.005670   \n",
       "ENSG00000131127         0.003751  ...         0.006911         0.003985   \n",
       "ENSG00000174227         0.008874  ...         0.006389         0.003230   \n",
       "ENSG00000133256         0.006746  ...         0.010938         0.005106   \n",
       "ENSG00000169020         0.026473  ...         0.004374         0.004217   \n",
       "\n",
       "                 ENSG00000129187  ENSG00000168310  ENSG00000164305  \\\n",
       "ENSG00000272602         0.006624         0.008613         0.005220   \n",
       "ENSG00000131127         0.003840         0.010176         0.003947   \n",
       "ENSG00000174227         0.010180         0.006208         0.005705   \n",
       "ENSG00000133256         0.008156         0.007375         0.005593   \n",
       "ENSG00000169020         0.004668         0.007046         0.003921   \n",
       "\n",
       "                 ENSG00000151726  ENSG00000151729  ENSG00000164342  \\\n",
       "ENSG00000272602         0.007602         0.009546         0.007089   \n",
       "ENSG00000131127         0.008119         0.007841         0.007164   \n",
       "ENSG00000174227         0.005502         0.006750         0.007962   \n",
       "ENSG00000133256         0.005453         0.007038         0.008955   \n",
       "ENSG00000169020         0.004452         0.005060         0.001847   \n",
       "\n",
       "                 ENSG00000164344  ENSG00000109536  \n",
       "ENSG00000272602         0.004597         0.008170  \n",
       "ENSG00000131127         0.002698         0.003345  \n",
       "ENSG00000174227         0.006986         0.004239  \n",
       "ENSG00000133256         0.004631         0.008280  \n",
       "ENSG00000169020         0.001256         0.003673  \n",
       "\n",
       "[5 rows x 244 columns]"
      ]
     },
     "execution_count": 31,
     "metadata": {},
     "output_type": "execute_result"
    }
   ],
   "source": [
    "gene_corrs_df.head()"
   ]
  },
  {
   "cell_type": "markdown",
   "id": "dad6603f-01c6-41fb-a6f6-241051207dd8",
   "metadata": {
    "papermill": {
     "duration": 1.775562,
     "end_time": "2022-08-27T06:46:17.962627",
     "exception": false,
     "start_time": "2022-08-27T06:46:16.187065",
     "status": "completed"
    },
    "tags": []
   },
   "source": [
    "## Standard checks and stats"
   ]
  },
  {
   "cell_type": "code",
   "execution_count": 32,
   "id": "286686af-1b7b-4440-8453-6bdcbd8de19c",
   "metadata": {
    "execution": {
     "iopub.execute_input": "2022-08-27T06:46:21.533194Z",
     "iopub.status.busy": "2022-08-27T06:46:21.532934Z",
     "iopub.status.idle": "2022-08-27T06:46:21.552648Z",
     "shell.execute_reply": "2022-08-27T06:46:21.552167Z"
    },
    "papermill": {
     "duration": 1.812643,
     "end_time": "2022-08-27T06:46:21.554281",
     "exception": false,
     "start_time": "2022-08-27T06:46:19.741638",
     "status": "completed"
    },
    "tags": []
   },
   "outputs": [],
   "source": [
    "assert not gene_corrs_df.isna().any().any()"
   ]
  },
  {
   "cell_type": "code",
   "execution_count": 33,
   "id": "00583efc-7068-4270-ad1e-4a418e91db96",
   "metadata": {
    "execution": {
     "iopub.execute_input": "2022-08-27T06:46:25.021790Z",
     "iopub.status.busy": "2022-08-27T06:46:25.021536Z",
     "iopub.status.idle": "2022-08-27T06:46:25.043782Z",
     "shell.execute_reply": "2022-08-27T06:46:25.043258Z"
    },
    "papermill": {
     "duration": 1.760848,
     "end_time": "2022-08-27T06:46:25.045228",
     "exception": false,
     "start_time": "2022-08-27T06:46:23.284380",
     "status": "completed"
    },
    "tags": []
   },
   "outputs": [
    {
     "data": {
      "text/plain": [
       "8.698615171831308e-08"
      ]
     },
     "metadata": {},
     "output_type": "display_data"
    }
   ],
   "source": [
    "_min_val = gene_corrs_df.min().min()\n",
    "display(_min_val)\n",
    "assert _min_val >= -0.05"
   ]
  },
  {
   "cell_type": "code",
   "execution_count": 34,
   "id": "d04fb2cf-1050-475b-b855-f5f7cc04092b",
   "metadata": {
    "execution": {
     "iopub.execute_input": "2022-08-27T06:46:28.585381Z",
     "iopub.status.busy": "2022-08-27T06:46:28.585128Z",
     "iopub.status.idle": "2022-08-27T06:46:28.606315Z",
     "shell.execute_reply": "2022-08-27T06:46:28.605782Z"
    },
    "papermill": {
     "duration": 1.791935,
     "end_time": "2022-08-27T06:46:28.607863",
     "exception": false,
     "start_time": "2022-08-27T06:46:26.815928",
     "status": "completed"
    },
    "tags": []
   },
   "outputs": [
    {
     "data": {
      "text/plain": [
       "1.0000000000000027"
      ]
     },
     "metadata": {},
     "output_type": "display_data"
    }
   ],
   "source": [
    "_max_val = gene_corrs_df.max().max()  # this captures the diagonal\n",
    "display(_max_val)\n",
    "assert _max_val <= 1.05"
   ]
  },
  {
   "cell_type": "code",
   "execution_count": 35,
   "id": "96d02c44-1fba-47be-8a93-8f2608420b9c",
   "metadata": {
    "execution": {
     "iopub.execute_input": "2022-08-27T06:46:32.113478Z",
     "iopub.status.busy": "2022-08-27T06:46:32.113183Z",
     "iopub.status.idle": "2022-08-27T06:46:32.131632Z",
     "shell.execute_reply": "2022-08-27T06:46:32.131115Z"
    },
    "papermill": {
     "duration": 1.794371,
     "end_time": "2022-08-27T06:46:32.133246",
     "exception": false,
     "start_time": "2022-08-27T06:46:30.338875",
     "status": "completed"
    },
    "tags": []
   },
   "outputs": [],
   "source": [
    "# check upper triangular values\n",
    "# assert len(gene_corrs) == int(genes_chr.shape[0] * (genes_chr.shape[0] - 1) / 2)"
   ]
  },
  {
   "cell_type": "code",
   "execution_count": 36,
   "id": "fe283586-c348-40e0-8841-f6d97bfb021c",
   "metadata": {
    "execution": {
     "iopub.execute_input": "2022-08-27T06:46:35.658129Z",
     "iopub.status.busy": "2022-08-27T06:46:35.657847Z",
     "iopub.status.idle": "2022-08-27T06:46:35.682523Z",
     "shell.execute_reply": "2022-08-27T06:46:35.682027Z"
    },
    "papermill": {
     "duration": 1.760147,
     "end_time": "2022-08-27T06:46:35.683942",
     "exception": false,
     "start_time": "2022-08-27T06:46:33.923795",
     "status": "completed"
    },
    "tags": []
   },
   "outputs": [
    {
     "data": {
      "text/plain": [
       "count    2.989000e+04\n",
       "mean     1.542025e-02\n",
       "std      9.211319e-02\n",
       "min      8.698615e-08\n",
       "25%      3.741216e-03\n",
       "50%      5.787747e-03\n",
       "75%      8.077575e-03\n",
       "max      1.000000e+00\n",
       "dtype: float64"
      ]
     },
     "execution_count": 36,
     "metadata": {},
     "output_type": "execute_result"
    }
   ],
   "source": [
    "gene_corrs_flat.describe()"
   ]
  },
  {
   "cell_type": "code",
   "execution_count": 37,
   "id": "b3815678-0f93-4b35-897b-a9d047a2aa78",
   "metadata": {
    "execution": {
     "iopub.execute_input": "2022-08-27T06:46:39.194780Z",
     "iopub.status.busy": "2022-08-27T06:46:39.194514Z",
     "iopub.status.idle": "2022-08-27T06:46:39.218633Z",
     "shell.execute_reply": "2022-08-27T06:46:39.218118Z"
    },
    "papermill": {
     "duration": 1.801163,
     "end_time": "2022-08-27T06:46:39.220055",
     "exception": false,
     "start_time": "2022-08-27T06:46:37.418892",
     "status": "completed"
    },
    "tags": []
   },
   "outputs": [
    {
     "data": {
      "text/plain": [
       "0.00    8.698615e-08\n",
       "0.05    1.418384e-03\n",
       "0.10    2.161124e-03\n",
       "0.15    2.765979e-03\n",
       "0.20    3.276194e-03\n",
       "0.25    3.741216e-03\n",
       "0.30    4.187805e-03\n",
       "0.35    4.592473e-03\n",
       "0.40    4.981017e-03\n",
       "0.45    5.382064e-03\n",
       "0.50    5.787747e-03\n",
       "0.55    6.182058e-03\n",
       "0.60    6.586489e-03\n",
       "0.65    7.043365e-03\n",
       "0.70    7.541324e-03\n",
       "0.75    8.077575e-03\n",
       "0.80    8.709430e-03\n",
       "0.85    9.453013e-03\n",
       "0.90    1.054083e-02\n",
       "0.95    1.226638e-02\n",
       "dtype: float64"
      ]
     },
     "metadata": {},
     "output_type": "display_data"
    }
   ],
   "source": [
    "gene_corrs_quantiles = gene_corrs_flat.quantile(np.arange(0, 1, 0.05))\n",
    "display(gene_corrs_quantiles)"
   ]
  },
  {
   "cell_type": "markdown",
   "id": "87134509-b145-4a10-8bc9-b7e914c2b0fa",
   "metadata": {
    "papermill": {
     "duration": 1.73259,
     "end_time": "2022-08-27T06:46:42.743978",
     "exception": false,
     "start_time": "2022-08-27T06:46:41.011388",
     "status": "completed"
    },
    "tags": []
   },
   "source": [
    "## Positive definiteness"
   ]
  },
  {
   "cell_type": "code",
   "execution_count": 38,
   "id": "07d9a9a1-a4f7-48aa-b916-6d42a8cc6186",
   "metadata": {
    "execution": {
     "iopub.execute_input": "2022-08-27T06:46:46.249619Z",
     "iopub.status.busy": "2022-08-27T06:46:46.249343Z",
     "iopub.status.idle": "2022-08-27T06:46:46.289892Z",
     "shell.execute_reply": "2022-08-27T06:46:46.289383Z"
    },
    "papermill": {
     "duration": 1.81389,
     "end_time": "2022-08-27T06:46:46.291315",
     "exception": false,
     "start_time": "2022-08-27T06:46:44.477425",
     "status": "completed"
    },
    "tags": []
   },
   "outputs": [
    {
     "data": {
      "text/plain": [
       "0"
      ]
     },
     "metadata": {},
     "output_type": "display_data"
    },
    {
     "data": {
      "text/plain": [
       "array([], dtype=float64)"
      ]
     },
     "metadata": {},
     "output_type": "display_data"
    }
   ],
   "source": [
    "# print negative eigenvalues\n",
    "eigs = np.linalg.eigvals(gene_corrs_df.to_numpy())\n",
    "display(len(eigs[eigs < 0]))\n",
    "display(eigs[eigs < 0])"
   ]
  },
  {
   "cell_type": "code",
   "execution_count": 39,
   "id": "6e218436-c3c5-4028-8c94-a4fa6260efce",
   "metadata": {
    "execution": {
     "iopub.execute_input": "2022-08-27T06:46:49.800566Z",
     "iopub.status.busy": "2022-08-27T06:46:49.800291Z",
     "iopub.status.idle": "2022-08-27T06:46:49.825070Z",
     "shell.execute_reply": "2022-08-27T06:46:49.824574Z"
    },
    "papermill": {
     "duration": 1.7611,
     "end_time": "2022-08-27T06:46:49.826604",
     "exception": false,
     "start_time": "2022-08-27T06:46:48.065504",
     "status": "completed"
    },
    "tags": []
   },
   "outputs": [
    {
     "name": "stdout",
     "output_type": "stream",
     "text": [
      "Works!\n"
     ]
    }
   ],
   "source": [
    "try:\n",
    "    chol_mat = np.linalg.cholesky(gene_corrs_df.to_numpy())\n",
    "    cov_inv = np.linalg.inv(chol_mat)\n",
    "    print(\"Works!\")\n",
    "except Exception as e:\n",
    "    print(f\"Cholesky decomposition failed: {str(e)}\")"
   ]
  },
  {
   "cell_type": "code",
   "execution_count": 40,
   "id": "dd8827fb-faf9-4c7c-9454-015e94752706",
   "metadata": {
    "execution": {
     "iopub.execute_input": "2022-08-27T06:46:53.323423Z",
     "iopub.status.busy": "2022-08-27T06:46:53.323144Z",
     "iopub.status.idle": "2022-08-27T06:46:53.347906Z",
     "shell.execute_reply": "2022-08-27T06:46:53.347387Z"
    },
    "papermill": {
     "duration": 1.803786,
     "end_time": "2022-08-27T06:46:53.349560",
     "exception": false,
     "start_time": "2022-08-27T06:46:51.545774",
     "status": "completed"
    },
    "tags": []
   },
   "outputs": [
    {
     "name": "stdout",
     "output_type": "stream",
     "text": [
      "Works!\n"
     ]
    }
   ],
   "source": [
    "try:\n",
    "    # decomposition used by statsmodels.GLS\n",
    "    cholsigmainv = np.linalg.cholesky(np.linalg.inv(gene_corrs_df.to_numpy())).T\n",
    "    print(\"Works!\")\n",
    "except Exception as e:\n",
    "    print(f\"Cholesky decomposition failed (statsmodels.GLS): {str(e)}\")"
   ]
  },
  {
   "cell_type": "markdown",
   "id": "8e60a080-edb2-4e9c-b2ef-22961693200c",
   "metadata": {
    "papermill": {
     "duration": 1.734765,
     "end_time": "2022-08-27T06:46:56.860910",
     "exception": false,
     "start_time": "2022-08-27T06:46:55.126145",
     "status": "completed"
    },
    "tags": []
   },
   "source": [
    "## Plot: distribution"
   ]
  },
  {
   "cell_type": "code",
   "execution_count": 41,
   "id": "8301126b-a7d4-4744-9c7d-f0f86eb6f54c",
   "metadata": {
    "execution": {
     "iopub.execute_input": "2022-08-27T06:47:00.381528Z",
     "iopub.status.busy": "2022-08-27T06:47:00.381248Z",
     "iopub.status.idle": "2022-08-27T06:47:07.076737Z",
     "shell.execute_reply": "2022-08-27T06:47:07.075972Z"
    },
    "papermill": {
     "duration": 8.486985,
     "end_time": "2022-08-27T06:47:07.078342",
     "exception": false,
     "start_time": "2022-08-27T06:46:58.591357",
     "status": "completed"
    },
    "tags": []
   },
   "outputs": [
    {
     "data": {
      "image/png": "[encoded data removed]",
      "text/plain": [
       "<Figure size 504x504 with 1 Axes>"
      ]
     },
     "metadata": {
      "needs_background": "light"
     },
     "output_type": "display_data"
    }
   ],
   "source": [
    "with sns.plotting_context(\"paper\", font_scale=1.5):\n",
    "    g = sns.displot(gene_corrs_flat, kde=True, height=7)\n",
    "    g.ax.set_title(\n",
    "        f\"Distribution of gene correlation values in chromosome {CHROMOSOME}\"\n",
    "    )"
   ]
  },
  {
   "cell_type": "markdown",
   "id": "cbd52bca-d878-4a2f-b684-5c83aa3038d4",
   "metadata": {
    "papermill": {
     "duration": 1.722123,
     "end_time": "2022-08-27T06:47:10.565864",
     "exception": false,
     "start_time": "2022-08-27T06:47:08.843741",
     "status": "completed"
    },
    "tags": []
   },
   "source": [
    "## Plot: heatmap"
   ]
  },
  {
   "cell_type": "code",
   "execution_count": 42,
   "id": "d03fe63a-c7b2-4fb9-a53c-db362ce843c9",
   "metadata": {
    "execution": {
     "iopub.execute_input": "2022-08-27T06:47:14.096530Z",
     "iopub.status.busy": "2022-08-27T06:47:14.096252Z",
     "iopub.status.idle": "2022-08-27T06:47:14.342692Z",
     "shell.execute_reply": "2022-08-27T06:47:14.341751Z"
    },
    "papermill": {
     "duration": 2.021455,
     "end_time": "2022-08-27T06:47:14.345651",
     "exception": false,
     "start_time": "2022-08-27T06:47:12.324196",
     "status": "completed"
    },
    "tags": []
   },
   "outputs": [
    {
     "data": {
      "text/plain": [
       "'0.0 / 0.05'"
      ]
     },
     "metadata": {},
     "output_type": "display_data"
    }
   ],
   "source": [
    "vmin_val = min(0.00, gene_corrs_quantiles[0.10])\n",
    "vmax_val = max(0.05, gene_corrs_quantiles[0.90])\n",
    "display(f\"{vmin_val} / {vmax_val}\")"
   ]
  },
  {
   "cell_type": "code",
   "execution_count": 43,
   "id": "dc41b70b-5bcc-4d9e-9f33-a22c4a94dab5",
   "metadata": {
    "execution": {
     "iopub.execute_input": "2022-08-27T06:47:17.827256Z",
     "iopub.status.busy": "2022-08-27T06:47:17.826964Z",
     "iopub.status.idle": "2022-08-27T06:47:18.056039Z",
     "shell.execute_reply": "2022-08-27T06:47:18.055535Z"
    },
    "papermill": {
     "duration": 1.940748,
     "end_time": "2022-08-27T06:47:18.057727",
     "exception": false,
     "start_time": "2022-08-27T06:47:16.116979",
     "status": "completed"
    },
    "tags": []
   },
   "outputs": [
    {
     "data": {
      "text/plain": [
       "Text(0.5, 1.0, 'Gene correlations in chromosome 4')"
      ]
     },
     "execution_count": 43,
     "metadata": {},
     "output_type": "execute_result"
    },
    {
     "data": {
      "image/png": "[encoded data removed]",
      "text/plain": [
       "<Figure size 720x720 with 2 Axes>"
      ]
     },
     "metadata": {
      "needs_background": "light"
     },
     "output_type": "display_data"
    }
   ],
   "source": [
    "f, ax = plt.subplots(figsize=(10, 10))\n",
    "sns.heatmap(\n",
    "    gene_corrs_df,\n",
    "    xticklabels=False,\n",
    "    yticklabels=False,\n",
    "    square=True,\n",
    "    vmin=vmin_val,\n",
    "    vmax=vmax_val,\n",
    "    cmap=\"rocket_r\",\n",
    "    ax=ax,\n",
    ")\n",
    "ax.set_title(f\"Gene correlations in chromosome {CHROMOSOME}\")"
   ]
  },
  {
   "cell_type": "code",
   "execution_count": null,
   "id": "b25e3ead",
   "metadata": {
    "papermill": {
     "duration": 1.788291,
     "end_time": "2022-08-27T06:47:21.629919",
     "exception": false,
     "start_time": "2022-08-27T06:47:19.841628",
     "status": "completed"
    },
    "tags": []
   },
   "outputs": [],
   "source": []
  }
 ],
 "metadata": {
  "jupytext": {
   "cell_metadata_filter": "all,-execution,-papermill,-trusted",
   "formats": "ipynb,py//py:percent"
  },
  "kernelspec": {
   "display_name": "Python 3 (ipykernel)",
   "language": "python",
   "name": "python3"
  },
  "language_info": {
   "codemirror_mode": {
    "name": "ipython",
    "version": 3
   },
   "file_extension": ".py",
   "mimetype": "text/x-python",
   "name": "python",
   "nbconvert_exporter": "python",
   "pygments_lexer": "ipython3",
   "version": "3.8.13"
  },
  "papermill": {
   "default_parameters": {},
   "duration": 2650.471252,
   "end_time": "2022-08-27T06:47:26.682306",
   "environment_variables": {},
   "exception": null,
   "input_path": "nbs/15_gsa_gls/10-gene_expr_correlations.ipynb",
   "output_path": "nbs/15_gsa_gls/gene_corrs/cohorts/phenomexcan_other/gtex_v8/mashr/10-gene_expr_corrs/10-gene_expr_correlations-chr4.run.ipynb",
   "parameters": {
    "CHROMOSOME": 4,
    "COHORT_NAME": "phenomexcan_other",
    "EQTL_MODEL": "MASHR",
    "REFERENCE_PANEL": "GTEX_V8"
   },
   "start_time": "2022-08-27T06:03:16.211054",
   "version": "2.2.2"
  }
 },
 "nbformat": 4,
 "nbformat_minor": 5
}
