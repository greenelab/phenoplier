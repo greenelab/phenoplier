{
 "cells": [
  {
   "cell_type": "markdown",
   "id": "7a6632fb",
   "metadata": {
    "papermill": {
     "duration": 0.021621,
     "end_time": "2022-08-27T06:03:18.738280",
     "exception": false,
     "start_time": "2022-08-27T06:03:18.716659",
     "status": "completed"
    },
    "tags": []
   },
   "source": [
    "# Description"
   ]
  },
  {
   "cell_type": "markdown",
   "id": "7097c346",
   "metadata": {
    "papermill": {
     "duration": 0.017311,
     "end_time": "2022-08-27T06:03:18.772245",
     "exception": false,
     "start_time": "2022-08-27T06:03:18.754934",
     "status": "completed"
    },
    "tags": []
   },
   "source": [
    "(Please, take a look at the README.md file in this directory for instructions on how to run this notebook)\n",
    "\n",
    "This notebook computes predicted expression correlations between all genes in the MultiPLIER models.\n",
    "\n",
    "It also has a parameter set for papermill to run on a single chromosome to run in parallel (see under `Settings` below).\n",
    "\n",
    "This notebook is not directly run. See README.md."
   ]
  },
  {
   "cell_type": "markdown",
   "id": "c61d8427",
   "metadata": {
    "papermill": {
     "duration": 0.012748,
     "end_time": "2022-08-27T06:03:18.798729",
     "exception": false,
     "start_time": "2022-08-27T06:03:18.785981",
     "status": "completed"
    },
    "tags": []
   },
   "source": [
    "# Modules"
   ]
  },
  {
   "cell_type": "code",
   "execution_count": 1,
   "id": "bbc0234f",
   "metadata": {
    "execution": {
     "iopub.execute_input": "2022-08-27T06:03:18.825115Z",
     "iopub.status.busy": "2022-08-27T06:03:18.824773Z",
     "iopub.status.idle": "2022-08-27T06:03:18.851406Z",
     "shell.execute_reply": "2022-08-27T06:03:18.850811Z"
    },
    "papermill": {
     "duration": 0.0425,
     "end_time": "2022-08-27T06:03:18.853533",
     "exception": false,
     "start_time": "2022-08-27T06:03:18.811033",
     "status": "completed"
    },
    "tags": []
   },
   "outputs": [],
   "source": [
    "%load_ext autoreload\n",
    "%autoreload 2"
   ]
  },
  {
   "cell_type": "code",
   "execution_count": 2,
   "id": "1d5f5a59",
   "metadata": {
    "execution": {
     "iopub.execute_input": "2022-08-27T06:03:18.875269Z",
     "iopub.status.busy": "2022-08-27T06:03:18.875042Z",
     "iopub.status.idle": "2022-08-27T06:03:20.558412Z",
     "shell.execute_reply": "2022-08-27T06:03:20.557833Z"
    },
    "papermill": {
     "duration": 1.696495,
     "end_time": "2022-08-27T06:03:20.560266",
     "exception": false,
     "start_time": "2022-08-27T06:03:18.863771",
     "status": "completed"
    },
    "tags": []
   },
   "outputs": [],
   "source": [
    "from random import sample, seed\n",
    "import warnings\n",
    "from pathlib import Path\n",
    "import pickle\n",
    "import traceback\n",
    "\n",
    "import numpy as np\n",
    "from scipy.spatial.distance import squareform\n",
    "import pandas as pd\n",
    "from tqdm import tqdm\n",
    "import matplotlib.pyplot as plt\n",
    "import seaborn as sns\n",
    "\n",
    "import conf\n",
    "from entity import Gene"
   ]
  },
  {
   "cell_type": "markdown",
   "id": "1eac24b5",
   "metadata": {
    "papermill": {
     "duration": 0.038253,
     "end_time": "2022-08-27T06:03:20.656115",
     "exception": false,
     "start_time": "2022-08-27T06:03:20.617862",
     "status": "completed"
    },
    "tags": []
   },
   "source": [
    "# Settings"
   ]
  },
  {
   "cell_type": "code",
   "execution_count": 3,
   "id": "ca4560ba",
   "metadata": {
    "execution": {
     "iopub.execute_input": "2022-08-27T06:03:20.733614Z",
     "iopub.status.busy": "2022-08-27T06:03:20.733324Z",
     "iopub.status.idle": "2022-08-27T06:03:20.756752Z",
     "shell.execute_reply": "2022-08-27T06:03:20.756258Z"
    },
    "papermill": {
     "duration": 0.062324,
     "end_time": "2022-08-27T06:03:20.758398",
     "exception": false,
     "start_time": "2022-08-27T06:03:20.696074",
     "status": "completed"
    },
    "tags": [
     "parameters"
    ]
   },
   "outputs": [],
   "source": [
    "# a cohort name (it could be something like UK_BIOBANK, etc)\n",
    "COHORT_NAME = None\n",
    "\n",
    "# reference panel such as 1000G or GTEX_V8\n",
    "REFERENCE_PANEL = None\n",
    "\n",
    "# predictions models such as MASHR or ELASTIC_NET\n",
    "EQTL_MODEL = None\n",
    "\n",
    "# this is the default value used in S-MultiXcan to select the\n",
    "# top principal components of the expression correlation matrix\n",
    "SMULTIXCAN_CONDITION_NUMBER = 30\n",
    "\n",
    "# specifies a single chromosome value\n",
    "CHROMOSOME = None\n",
    "\n",
    "# If True, computes the correlation between closeby genes only;\n",
    "# otherwise, it computes correlations for all genes in a chromosome\n",
    "COMPUTE_CORRELATIONS_WITHIN_DISTANCE = False\n",
    "\n",
    "# if True, then it will continue if a gene pair correlation fails,\n",
    "# printing the warning/error for debugging. If False, any warning/error\n",
    "# will be thrown\n",
    "DEBUG_MODE = False"
   ]
  },
  {
   "cell_type": "code",
   "execution_count": 4,
   "id": "a1f44850",
   "metadata": {
    "execution": {
     "iopub.execute_input": "2022-08-27T06:03:20.808825Z",
     "iopub.status.busy": "2022-08-27T06:03:20.808636Z",
     "iopub.status.idle": "2022-08-27T06:03:20.826549Z",
     "shell.execute_reply": "2022-08-27T06:03:20.826155Z"
    },
    "papermill": {
     "duration": 0.04285,
     "end_time": "2022-08-27T06:03:20.827951",
     "exception": false,
     "start_time": "2022-08-27T06:03:20.785101",
     "status": "completed"
    },
    "tags": [
     "injected-parameters"
    ]
   },
   "outputs": [],
   "source": [
    "# Parameters\n",
    "COHORT_NAME = \"phenomexcan_other\"\n",
    "REFERENCE_PANEL = \"GTEX_V8\"\n",
    "EQTL_MODEL = \"MASHR\"\n",
    "CHROMOSOME = 5\n"
   ]
  },
  {
   "cell_type": "code",
   "execution_count": 5,
   "id": "3190631f-27fc-480f-b18e-571d580425a5",
   "metadata": {
    "execution": {
     "iopub.execute_input": "2022-08-27T06:03:20.890998Z",
     "iopub.status.busy": "2022-08-27T06:03:20.890830Z",
     "iopub.status.idle": "2022-08-27T06:03:20.909548Z",
     "shell.execute_reply": "2022-08-27T06:03:20.909180Z"
    },
    "papermill": {
     "duration": 0.052973,
     "end_time": "2022-08-27T06:03:20.910709",
     "exception": false,
     "start_time": "2022-08-27T06:03:20.857736",
     "status": "completed"
    },
    "tags": []
   },
   "outputs": [
    {
     "data": {
      "text/plain": [
       "'Cohort name: phenomexcan_other'"
      ]
     },
     "metadata": {},
     "output_type": "display_data"
    }
   ],
   "source": [
    "assert COHORT_NAME is not None and len(COHORT_NAME) > 0, \"A cohort name must be given\"\n",
    "\n",
    "COHORT_NAME = COHORT_NAME.lower()\n",
    "display(f\"Cohort name: {COHORT_NAME}\")"
   ]
  },
  {
   "cell_type": "code",
   "execution_count": 6,
   "id": "f53ba19b-0f93-4fa2-a047-63b375939d1a",
   "metadata": {
    "execution": {
     "iopub.execute_input": "2022-08-27T06:03:20.959918Z",
     "iopub.status.busy": "2022-08-27T06:03:20.959758Z",
     "iopub.status.idle": "2022-08-27T06:03:20.976583Z",
     "shell.execute_reply": "2022-08-27T06:03:20.976225Z"
    },
    "papermill": {
     "duration": 0.041361,
     "end_time": "2022-08-27T06:03:20.977712",
     "exception": false,
     "start_time": "2022-08-27T06:03:20.936351",
     "status": "completed"
    },
    "tags": []
   },
   "outputs": [
    {
     "data": {
      "text/plain": [
       "'Reference panel: GTEX_V8'"
      ]
     },
     "metadata": {},
     "output_type": "display_data"
    }
   ],
   "source": [
    "assert (\n",
    "    REFERENCE_PANEL is not None and len(REFERENCE_PANEL) > 0\n",
    "), \"A reference panel must be given\"\n",
    "\n",
    "display(f\"Reference panel: {REFERENCE_PANEL}\")"
   ]
  },
  {
   "cell_type": "code",
   "execution_count": 7,
   "id": "e024d130-c139-429a-9c6e-ccf149e297b0",
   "metadata": {
    "execution": {
     "iopub.execute_input": "2022-08-27T06:03:21.049058Z",
     "iopub.status.busy": "2022-08-27T06:03:21.048809Z",
     "iopub.status.idle": "2022-08-27T06:03:21.073638Z",
     "shell.execute_reply": "2022-08-27T06:03:21.073129Z"
    },
    "papermill": {
     "duration": 0.061771,
     "end_time": "2022-08-27T06:03:21.075243",
     "exception": false,
     "start_time": "2022-08-27T06:03:21.013472",
     "status": "completed"
    },
    "tags": []
   },
   "outputs": [
    {
     "data": {
      "text/plain": [
       "'eQTL model: MASHR) / mashr_'"
      ]
     },
     "metadata": {},
     "output_type": "display_data"
    }
   ],
   "source": [
    "assert (\n",
    "    EQTL_MODEL is not None and len(EQTL_MODEL) > 0\n",
    "), \"A prediction/eQTL model must be given\"\n",
    "\n",
    "EQTL_MODEL_FILES_PREFIX = conf.PHENOMEXCAN[\"PREDICTION_MODELS\"][f\"{EQTL_MODEL}_PREFIX\"]\n",
    "display(f\"eQTL model: {EQTL_MODEL}) / {EQTL_MODEL_FILES_PREFIX}\")"
   ]
  },
  {
   "cell_type": "code",
   "execution_count": 8,
   "id": "552a7f63-a18c-4d3e-bb6a-94f99b431291",
   "metadata": {
    "execution": {
     "iopub.execute_input": "2022-08-27T06:03:21.184706Z",
     "iopub.status.busy": "2022-08-27T06:03:21.184229Z",
     "iopub.status.idle": "2022-08-27T06:03:21.228110Z",
     "shell.execute_reply": "2022-08-27T06:03:21.227255Z"
    },
    "papermill": {
     "duration": 0.10632,
     "end_time": "2022-08-27T06:03:21.230708",
     "exception": false,
     "start_time": "2022-08-27T06:03:21.124388",
     "status": "completed"
    },
    "tags": []
   },
   "outputs": [
    {
     "data": {
      "text/plain": [
       "'S-MultiXcan condition number: 30'"
      ]
     },
     "metadata": {},
     "output_type": "display_data"
    }
   ],
   "source": [
    "assert (\n",
    "    SMULTIXCAN_CONDITION_NUMBER is not None and SMULTIXCAN_CONDITION_NUMBER > 0\n",
    "), \"The S-MultiXcan condition number (positive integer) must be given\"\n",
    "\n",
    "display(f\"S-MultiXcan condition number: {SMULTIXCAN_CONDITION_NUMBER}\")"
   ]
  },
  {
   "cell_type": "code",
   "execution_count": 9,
   "id": "f34a336f-548e-4afe-8955-90eaea4f42c6",
   "metadata": {
    "execution": {
     "iopub.execute_input": "2022-08-27T06:03:21.321500Z",
     "iopub.status.busy": "2022-08-27T06:03:21.321240Z",
     "iopub.status.idle": "2022-08-27T06:03:21.347173Z",
     "shell.execute_reply": "2022-08-27T06:03:21.346633Z"
    },
    "papermill": {
     "duration": 0.072879,
     "end_time": "2022-08-27T06:03:21.348879",
     "exception": false,
     "start_time": "2022-08-27T06:03:21.276000",
     "status": "completed"
    },
    "tags": []
   },
   "outputs": [
    {
     "data": {
      "text/plain": [
       "'Working on chromosome 5'"
      ]
     },
     "metadata": {},
     "output_type": "display_data"
    }
   ],
   "source": [
    "assert CHROMOSOME is not None and (\n",
    "    1 <= CHROMOSOME <= 22\n",
    "), \"You have to select one chromosome (format: number between 1 and 22)\"\n",
    "\n",
    "# CHROMOSOME = str(CHROMOSOME)\n",
    "display(f\"Working on chromosome {CHROMOSOME}\")"
   ]
  },
  {
   "cell_type": "code",
   "execution_count": 10,
   "id": "ab8e96e8-06b5-4363-9dcd-dc4d78cc27f7",
   "metadata": {
    "execution": {
     "iopub.execute_input": "2022-08-27T06:03:21.405779Z",
     "iopub.status.busy": "2022-08-27T06:03:21.405585Z",
     "iopub.status.idle": "2022-08-27T06:03:21.425474Z",
     "shell.execute_reply": "2022-08-27T06:03:21.425056Z"
    },
    "papermill": {
     "duration": 0.05328,
     "end_time": "2022-08-27T06:03:21.426800",
     "exception": false,
     "start_time": "2022-08-27T06:03:21.373520",
     "status": "completed"
    },
    "tags": []
   },
   "outputs": [
    {
     "data": {
      "text/plain": [
       "'Compute correlation within distance False'"
      ]
     },
     "metadata": {},
     "output_type": "display_data"
    }
   ],
   "source": [
    "display(f\"Compute correlation within distance {COMPUTE_CORRELATIONS_WITHIN_DISTANCE}\")"
   ]
  },
  {
   "cell_type": "code",
   "execution_count": 11,
   "id": "396392dc-0340-4540-9b02-e182b833f909",
   "metadata": {
    "execution": {
     "iopub.execute_input": "2022-08-27T06:03:21.485458Z",
     "iopub.status.busy": "2022-08-27T06:03:21.485283Z",
     "iopub.status.idle": "2022-08-27T06:03:21.562434Z",
     "shell.execute_reply": "2022-08-27T06:03:21.561686Z"
    },
    "papermill": {
     "duration": 0.110437,
     "end_time": "2022-08-27T06:03:21.564782",
     "exception": false,
     "start_time": "2022-08-27T06:03:21.454345",
     "status": "completed"
    },
    "tags": []
   },
   "outputs": [
    {
     "data": {
      "text/plain": [
       "'Using output dir base: /project/ritchie20/projects/phenoplier/base/results/gls/gene_corrs/cohorts/phenomexcan_other/gtex_v8/mashr'"
      ]
     },
     "metadata": {},
     "output_type": "display_data"
    }
   ],
   "source": [
    "OUTPUT_DIR_BASE = (\n",
    "    conf.RESULTS[\"GLS\"]\n",
    "    / \"gene_corrs\"\n",
    "    / \"cohorts\"\n",
    "    / COHORT_NAME\n",
    "    / REFERENCE_PANEL.lower()\n",
    "    / EQTL_MODEL.lower()\n",
    ")\n",
    "OUTPUT_DIR_BASE.mkdir(parents=True, exist_ok=True)\n",
    "\n",
    "display(f\"Using output dir base: {OUTPUT_DIR_BASE}\")"
   ]
  },
  {
   "cell_type": "markdown",
   "id": "d2ba085e",
   "metadata": {
    "papermill": {
     "duration": 0.045066,
     "end_time": "2022-08-27T06:03:21.647943",
     "exception": false,
     "start_time": "2022-08-27T06:03:21.602877",
     "status": "completed"
    },
    "tags": []
   },
   "source": [
    "# Load data"
   ]
  },
  {
   "cell_type": "markdown",
   "id": "7dcb8db7",
   "metadata": {
    "papermill": {
     "duration": 0.039742,
     "end_time": "2022-08-27T06:03:21.732675",
     "exception": false,
     "start_time": "2022-08-27T06:03:21.692933",
     "status": "completed"
    },
    "tags": []
   },
   "source": [
    "## GWAS variants"
   ]
  },
  {
   "cell_type": "code",
   "execution_count": 12,
   "id": "29434c4e-8cd3-4b9b-82e4-b5a251d9dd19",
   "metadata": {
    "execution": {
     "iopub.execute_input": "2022-08-27T06:03:21.826156Z",
     "iopub.status.busy": "2022-08-27T06:03:21.825757Z",
     "iopub.status.idle": "2022-08-27T06:03:25.016114Z",
     "shell.execute_reply": "2022-08-27T06:03:25.015351Z"
    },
    "papermill": {
     "duration": 3.239593,
     "end_time": "2022-08-27T06:03:25.017971",
     "exception": false,
     "start_time": "2022-08-27T06:03:21.778378",
     "status": "completed"
    },
    "tags": []
   },
   "outputs": [],
   "source": [
    "with open(OUTPUT_DIR_BASE / \"gwas_variant_ids.pkl\", \"rb\") as handle:\n",
    "    gwas_variants_ids_set = pickle.load(handle)"
   ]
  },
  {
   "cell_type": "code",
   "execution_count": 13,
   "id": "b9d9dec2-4a76-4bf9-bde2-e24c95acb8a0",
   "metadata": {
    "execution": {
     "iopub.execute_input": "2022-08-27T06:03:25.035551Z",
     "iopub.status.busy": "2022-08-27T06:03:25.035355Z",
     "iopub.status.idle": "2022-08-27T06:03:25.056949Z",
     "shell.execute_reply": "2022-08-27T06:03:25.056589Z"
    },
    "papermill": {
     "duration": 0.031973,
     "end_time": "2022-08-27T06:03:25.058103",
     "exception": false,
     "start_time": "2022-08-27T06:03:25.026130",
     "status": "completed"
    },
    "tags": []
   },
   "outputs": [
    {
     "data": {
      "text/plain": [
       "8865800"
      ]
     },
     "execution_count": 13,
     "metadata": {},
     "output_type": "execute_result"
    }
   ],
   "source": [
    "len(gwas_variants_ids_set)"
   ]
  },
  {
   "cell_type": "code",
   "execution_count": 14,
   "id": "4235b06a-6034-4ee4-a0a3-2ae35d122418",
   "metadata": {
    "execution": {
     "iopub.execute_input": "2022-08-27T06:03:25.079725Z",
     "iopub.status.busy": "2022-08-27T06:03:25.079567Z",
     "iopub.status.idle": "2022-08-27T06:03:25.592354Z",
     "shell.execute_reply": "2022-08-27T06:03:25.591897Z"
    },
    "papermill": {
     "duration": 0.524715,
     "end_time": "2022-08-27T06:03:25.593734",
     "exception": false,
     "start_time": "2022-08-27T06:03:25.069019",
     "status": "completed"
    },
    "tags": []
   },
   "outputs": [
    {
     "data": {
      "text/plain": [
       "['chr19_2628112_G_A_b38',\n",
       " 'chr7_104042492_C_T_b38',\n",
       " 'chr12_13267896_T_G_b38',\n",
       " 'chr13_46625476_T_C_b38',\n",
       " 'chr22_44936537_G_A_b38']"
      ]
     },
     "execution_count": 14,
     "metadata": {},
     "output_type": "execute_result"
    }
   ],
   "source": [
    "list(gwas_variants_ids_set)[:5]"
   ]
  },
  {
   "cell_type": "markdown",
   "id": "07866999-2305-41f9-a144-e69c9122c212",
   "metadata": {
    "papermill": {
     "duration": 0.011437,
     "end_time": "2022-08-27T06:03:25.617241",
     "exception": false,
     "start_time": "2022-08-27T06:03:25.605804",
     "status": "completed"
    },
    "tags": []
   },
   "source": [
    "## S-PrediXcan tissue models"
   ]
  },
  {
   "cell_type": "code",
   "execution_count": 15,
   "id": "780611d9-77c8-405f-90a4-f271f7b09397",
   "metadata": {
    "execution": {
     "iopub.execute_input": "2022-08-27T06:03:25.637057Z",
     "iopub.status.busy": "2022-08-27T06:03:25.636869Z",
     "iopub.status.idle": "2022-08-27T06:03:26.542492Z",
     "shell.execute_reply": "2022-08-27T06:03:26.542043Z"
    },
    "papermill": {
     "duration": 0.916303,
     "end_time": "2022-08-27T06:03:26.544206",
     "exception": false,
     "start_time": "2022-08-27T06:03:25.627903",
     "status": "completed"
    },
    "tags": []
   },
   "outputs": [],
   "source": [
    "spredixcan_genes_models = pd.read_pickle(OUTPUT_DIR_BASE / \"gene_tissues.pkl\")"
   ]
  },
  {
   "cell_type": "code",
   "execution_count": 16,
   "id": "726dd1f6-9557-4225-91fa-b3b879ea96e1",
   "metadata": {
    "execution": {
     "iopub.execute_input": "2022-08-27T06:03:26.568847Z",
     "iopub.status.busy": "2022-08-27T06:03:26.568650Z",
     "iopub.status.idle": "2022-08-27T06:03:26.587718Z",
     "shell.execute_reply": "2022-08-27T06:03:26.587307Z"
    },
    "papermill": {
     "duration": 0.032568,
     "end_time": "2022-08-27T06:03:26.588967",
     "exception": false,
     "start_time": "2022-08-27T06:03:26.556399",
     "status": "completed"
    },
    "tags": []
   },
   "outputs": [
    {
     "data": {
      "text/plain": [
       "(6450, 3)"
      ]
     },
     "execution_count": 16,
     "metadata": {},
     "output_type": "execute_result"
    }
   ],
   "source": [
    "spredixcan_genes_models.shape"
   ]
  },
  {
   "cell_type": "code",
   "execution_count": 17,
   "id": "944a1b48-222c-4eb0-b252-b9de2cbca215",
   "metadata": {
    "execution": {
     "iopub.execute_input": "2022-08-27T06:03:26.619559Z",
     "iopub.status.busy": "2022-08-27T06:03:26.619393Z",
     "iopub.status.idle": "2022-08-27T06:03:26.646776Z",
     "shell.execute_reply": "2022-08-27T06:03:26.646404Z"
    },
    "papermill": {
     "duration": 0.04271,
     "end_time": "2022-08-27T06:03:26.647976",
     "exception": false,
     "start_time": "2022-08-27T06:03:26.605266",
     "status": "completed"
    },
    "tags": []
   },
   "outputs": [
    {
     "data": {
      "text/html": [
       "<div>\n",
       "<style scoped>\n",
       "    .dataframe tbody tr th:only-of-type {\n",
       "        vertical-align: middle;\n",
       "    }\n",
       "\n",
       "    .dataframe tbody tr th {\n",
       "        vertical-align: top;\n",
       "    }\n",
       "\n",
       "    .dataframe thead th {\n",
       "        text-align: right;\n",
       "    }\n",
       "</style>\n",
       "<table border=\"1\" class=\"dataframe\">\n",
       "  <thead>\n",
       "    <tr style=\"text-align: right;\">\n",
       "      <th></th>\n",
       "      <th>gene_name</th>\n",
       "      <th>tissue</th>\n",
       "      <th>n_tissues</th>\n",
       "    </tr>\n",
       "    <tr>\n",
       "      <th>gene_id</th>\n",
       "      <th></th>\n",
       "      <th></th>\n",
       "      <th></th>\n",
       "    </tr>\n",
       "  </thead>\n",
       "  <tbody>\n",
       "    <tr>\n",
       "      <th>ENSG00000000419</th>\n",
       "      <td>DPM1</td>\n",
       "      <td>(Brain_Hypothalamus, Brain_Substantia_nigra, C...</td>\n",
       "      <td>3</td>\n",
       "    </tr>\n",
       "    <tr>\n",
       "      <th>ENSG00000000938</th>\n",
       "      <td>FGR</td>\n",
       "      <td>(Liver, Brain_Frontal_Cortex_BA9, Adipose_Visc...</td>\n",
       "      <td>36</td>\n",
       "    </tr>\n",
       "    <tr>\n",
       "      <th>ENSG00000000971</th>\n",
       "      <td>CFH</td>\n",
       "      <td>(Brain_Substantia_nigra, Brain_Frontal_Cortex_...</td>\n",
       "      <td>34</td>\n",
       "    </tr>\n",
       "    <tr>\n",
       "      <th>ENSG00000001084</th>\n",
       "      <td>GCLC</td>\n",
       "      <td>(Brain_Substantia_nigra, Brain_Frontal_Cortex_...</td>\n",
       "      <td>33</td>\n",
       "    </tr>\n",
       "    <tr>\n",
       "      <th>ENSG00000001167</th>\n",
       "      <td>NFYA</td>\n",
       "      <td>(Adipose_Visceral_Omentum, Minor_Salivary_Glan...</td>\n",
       "      <td>40</td>\n",
       "    </tr>\n",
       "  </tbody>\n",
       "</table>\n",
       "</div>"
      ],
      "text/plain": [
       "                gene_name                                             tissue  \\\n",
       "gene_id                                                                        \n",
       "ENSG00000000419      DPM1  (Brain_Hypothalamus, Brain_Substantia_nigra, C...   \n",
       "ENSG00000000938       FGR  (Liver, Brain_Frontal_Cortex_BA9, Adipose_Visc...   \n",
       "ENSG00000000971       CFH  (Brain_Substantia_nigra, Brain_Frontal_Cortex_...   \n",
       "ENSG00000001084      GCLC  (Brain_Substantia_nigra, Brain_Frontal_Cortex_...   \n",
       "ENSG00000001167      NFYA  (Adipose_Visceral_Omentum, Minor_Salivary_Glan...   \n",
       "\n",
       "                 n_tissues  \n",
       "gene_id                     \n",
       "ENSG00000000419          3  \n",
       "ENSG00000000938         36  \n",
       "ENSG00000000971         34  \n",
       "ENSG00000001084         33  \n",
       "ENSG00000001167         40  "
      ]
     },
     "execution_count": 17,
     "metadata": {},
     "output_type": "execute_result"
    }
   ],
   "source": [
    "spredixcan_genes_models.head()"
   ]
  },
  {
   "cell_type": "code",
   "execution_count": 18,
   "id": "d1c11bb1-be0b-4f40-b360-633d6827109f",
   "metadata": {
    "execution": {
     "iopub.execute_input": "2022-08-27T06:03:26.683413Z",
     "iopub.status.busy": "2022-08-27T06:03:26.683246Z",
     "iopub.status.idle": "2022-08-27T06:03:26.700007Z",
     "shell.execute_reply": "2022-08-27T06:03:26.699645Z"
    },
    "papermill": {
     "duration": 0.036668,
     "end_time": "2022-08-27T06:03:26.701292",
     "exception": false,
     "start_time": "2022-08-27T06:03:26.664624",
     "status": "completed"
    },
    "tags": []
   },
   "outputs": [],
   "source": [
    "assert spredixcan_genes_models.index.is_unique"
   ]
  },
  {
   "cell_type": "markdown",
   "id": "a5b5092c-a13e-47c4-a92a-480fcc08f3ae",
   "metadata": {
    "papermill": {
     "duration": 0.012954,
     "end_time": "2022-08-27T06:03:26.732035",
     "exception": false,
     "start_time": "2022-08-27T06:03:26.719081",
     "status": "completed"
    },
    "tags": []
   },
   "source": [
    "## Gene info"
   ]
  },
  {
   "cell_type": "code",
   "execution_count": 19,
   "id": "7d6bb224-88e9-4358-ac10-43a41d92cdad",
   "metadata": {
    "execution": {
     "iopub.execute_input": "2022-08-27T06:03:26.768128Z",
     "iopub.status.busy": "2022-08-27T06:03:26.767950Z",
     "iopub.status.idle": "2022-08-27T06:03:26.804688Z",
     "shell.execute_reply": "2022-08-27T06:03:26.804314Z"
    },
    "papermill": {
     "duration": 0.056011,
     "end_time": "2022-08-27T06:03:26.805971",
     "exception": false,
     "start_time": "2022-08-27T06:03:26.749960",
     "status": "completed"
    },
    "tags": []
   },
   "outputs": [],
   "source": [
    "genes_info = pd.read_pickle(OUTPUT_DIR_BASE / \"genes_info.pkl\")"
   ]
  },
  {
   "cell_type": "code",
   "execution_count": 20,
   "id": "9e32abfa-546d-483e-8c18-d526e9e05903",
   "metadata": {
    "execution": {
     "iopub.execute_input": "2022-08-27T06:03:26.870741Z",
     "iopub.status.busy": "2022-08-27T06:03:26.870570Z",
     "iopub.status.idle": "2022-08-27T06:03:26.887518Z",
     "shell.execute_reply": "2022-08-27T06:03:26.887158Z"
    },
    "papermill": {
     "duration": 0.055339,
     "end_time": "2022-08-27T06:03:26.888646",
     "exception": false,
     "start_time": "2022-08-27T06:03:26.833307",
     "status": "completed"
    },
    "tags": []
   },
   "outputs": [
    {
     "data": {
      "text/plain": [
       "(6450, 7)"
      ]
     },
     "execution_count": 20,
     "metadata": {},
     "output_type": "execute_result"
    }
   ],
   "source": [
    "genes_info.shape"
   ]
  },
  {
   "cell_type": "code",
   "execution_count": 21,
   "id": "d16c3e92-85ec-468a-9a56-e25a9774a1cb",
   "metadata": {
    "execution": {
     "iopub.execute_input": "2022-08-27T06:03:26.959473Z",
     "iopub.status.busy": "2022-08-27T06:03:26.959231Z",
     "iopub.status.idle": "2022-08-27T06:03:26.988728Z",
     "shell.execute_reply": "2022-08-27T06:03:26.988220Z"
    },
    "papermill": {
     "duration": 0.06331,
     "end_time": "2022-08-27T06:03:26.990348",
     "exception": false,
     "start_time": "2022-08-27T06:03:26.927038",
     "status": "completed"
    },
    "tags": []
   },
   "outputs": [
    {
     "data": {
      "text/html": [
       "<div>\n",
       "<style scoped>\n",
       "    .dataframe tbody tr th:only-of-type {\n",
       "        vertical-align: middle;\n",
       "    }\n",
       "\n",
       "    .dataframe tbody tr th {\n",
       "        vertical-align: top;\n",
       "    }\n",
       "\n",
       "    .dataframe thead th {\n",
       "        text-align: right;\n",
       "    }\n",
       "</style>\n",
       "<table border=\"1\" class=\"dataframe\">\n",
       "  <thead>\n",
       "    <tr style=\"text-align: right;\">\n",
       "      <th></th>\n",
       "      <th>name</th>\n",
       "      <th>id</th>\n",
       "      <th>chr</th>\n",
       "      <th>band</th>\n",
       "      <th>start_position</th>\n",
       "      <th>end_position</th>\n",
       "      <th>gene_length</th>\n",
       "    </tr>\n",
       "  </thead>\n",
       "  <tbody>\n",
       "    <tr>\n",
       "      <th>0</th>\n",
       "      <td>FUS</td>\n",
       "      <td>ENSG00000089280</td>\n",
       "      <td>16</td>\n",
       "      <td>16p11.2</td>\n",
       "      <td>31180110</td>\n",
       "      <td>31194871</td>\n",
       "      <td>14761</td>\n",
       "    </tr>\n",
       "    <tr>\n",
       "      <th>1</th>\n",
       "      <td>PI4K2A</td>\n",
       "      <td>ENSG00000155252</td>\n",
       "      <td>10</td>\n",
       "      <td>10q24.2</td>\n",
       "      <td>97640686</td>\n",
       "      <td>97676434</td>\n",
       "      <td>35748</td>\n",
       "    </tr>\n",
       "    <tr>\n",
       "      <th>2</th>\n",
       "      <td>PER1</td>\n",
       "      <td>ENSG00000179094</td>\n",
       "      <td>17</td>\n",
       "      <td>17p13.1</td>\n",
       "      <td>8140472</td>\n",
       "      <td>8156506</td>\n",
       "      <td>16034</td>\n",
       "    </tr>\n",
       "    <tr>\n",
       "      <th>3</th>\n",
       "      <td>GBP6</td>\n",
       "      <td>ENSG00000183347</td>\n",
       "      <td>1</td>\n",
       "      <td>1p22.2</td>\n",
       "      <td>89364058</td>\n",
       "      <td>89386461</td>\n",
       "      <td>22403</td>\n",
       "    </tr>\n",
       "    <tr>\n",
       "      <th>4</th>\n",
       "      <td>GPAA1</td>\n",
       "      <td>ENSG00000197858</td>\n",
       "      <td>8</td>\n",
       "      <td>8q24.3</td>\n",
       "      <td>144082590</td>\n",
       "      <td>144086216</td>\n",
       "      <td>3626</td>\n",
       "    </tr>\n",
       "  </tbody>\n",
       "</table>\n",
       "</div>"
      ],
      "text/plain": [
       "     name               id  chr     band  start_position  end_position  \\\n",
       "0     FUS  ENSG00000089280   16  16p11.2        31180110      31194871   \n",
       "1  PI4K2A  ENSG00000155252   10  10q24.2        97640686      97676434   \n",
       "2    PER1  ENSG00000179094   17  17p13.1         8140472       8156506   \n",
       "3    GBP6  ENSG00000183347    1   1p22.2        89364058      89386461   \n",
       "4   GPAA1  ENSG00000197858    8   8q24.3       144082590     144086216   \n",
       "\n",
       "   gene_length  \n",
       "0        14761  \n",
       "1        35748  \n",
       "2        16034  \n",
       "3        22403  \n",
       "4         3626  "
      ]
     },
     "execution_count": 21,
     "metadata": {},
     "output_type": "execute_result"
    }
   ],
   "source": [
    "genes_info.head()"
   ]
  },
  {
   "cell_type": "markdown",
   "id": "d3843e06",
   "metadata": {
    "papermill": {
     "duration": 0.031542,
     "end_time": "2022-08-27T06:03:27.056241",
     "exception": false,
     "start_time": "2022-08-27T06:03:27.024699",
     "status": "completed"
    },
    "tags": []
   },
   "source": [
    "# Compute correlations"
   ]
  },
  {
   "cell_type": "code",
   "execution_count": 22,
   "id": "cb859c15-d1f3-4006-a74c-2b83c0db9611",
   "metadata": {
    "execution": {
     "iopub.execute_input": "2022-08-27T06:03:27.105660Z",
     "iopub.status.busy": "2022-08-27T06:03:27.105473Z",
     "iopub.status.idle": "2022-08-27T06:03:27.135988Z",
     "shell.execute_reply": "2022-08-27T06:03:27.135587Z"
    },
    "papermill": {
     "duration": 0.060031,
     "end_time": "2022-08-27T06:03:27.137242",
     "exception": false,
     "start_time": "2022-08-27T06:03:27.077211",
     "status": "completed"
    },
    "tags": []
   },
   "outputs": [
    {
     "data": {
      "text/plain": [
       "PosixPath('/project/ritchie20/projects/phenoplier/base/results/gls/gene_corrs/cohorts/phenomexcan_other/gtex_v8/mashr/by_chr/gene_corrs-chr5.pkl')"
      ]
     },
     "metadata": {},
     "output_type": "display_data"
    }
   ],
   "source": [
    "output_dir = OUTPUT_DIR_BASE / \"by_chr\"\n",
    "output_dir.mkdir(exist_ok=True, parents=True)\n",
    "output_file = output_dir / f\"gene_corrs-chr{CHROMOSOME}.pkl\"\n",
    "display(output_file)"
   ]
  },
  {
   "cell_type": "code",
   "execution_count": 23,
   "id": "aa674fe4-6794-4eed-98fa-32b39d1d4ace",
   "metadata": {
    "execution": {
     "iopub.execute_input": "2022-08-27T06:03:27.187702Z",
     "iopub.status.busy": "2022-08-27T06:03:27.187534Z",
     "iopub.status.idle": "2022-08-27T06:03:27.203264Z",
     "shell.execute_reply": "2022-08-27T06:03:27.202880Z"
    },
    "papermill": {
     "duration": 0.044432,
     "end_time": "2022-08-27T06:03:27.204534",
     "exception": false,
     "start_time": "2022-08-27T06:03:27.160102",
     "status": "completed"
    },
    "tags": []
   },
   "outputs": [],
   "source": [
    "warnings.filterwarnings(\"error\")"
   ]
  },
  {
   "cell_type": "code",
   "execution_count": 24,
   "id": "44d5450b-3baf-43f1-9e2e-4b06f1a785f8",
   "metadata": {
    "execution": {
     "iopub.execute_input": "2022-08-27T06:03:27.254451Z",
     "iopub.status.busy": "2022-08-27T06:03:27.254283Z",
     "iopub.status.idle": "2022-08-27T06:03:27.270234Z",
     "shell.execute_reply": "2022-08-27T06:03:27.269873Z"
    },
    "papermill": {
     "duration": 0.041302,
     "end_time": "2022-08-27T06:03:27.271482",
     "exception": false,
     "start_time": "2022-08-27T06:03:27.230180",
     "status": "completed"
    },
    "tags": []
   },
   "outputs": [],
   "source": [
    "# standard checks\n",
    "all_chrs = genes_info[\"chr\"].dropna().unique()\n",
    "assert all_chrs.shape[0] == 22\n",
    "\n",
    "# select chromosome given by the user\n",
    "assert CHROMOSOME in all_chrs"
   ]
  },
  {
   "cell_type": "code",
   "execution_count": 25,
   "id": "2d7c043c-92a7-4d35-991b-fa69ac1e0268",
   "metadata": {
    "execution": {
     "iopub.execute_input": "2022-08-27T06:03:27.312431Z",
     "iopub.status.busy": "2022-08-27T06:03:27.312273Z",
     "iopub.status.idle": "2022-08-27T06:03:27.422914Z",
     "shell.execute_reply": "2022-08-27T06:03:27.422542Z"
    },
    "papermill": {
     "duration": 0.132157,
     "end_time": "2022-08-27T06:03:27.424071",
     "exception": false,
     "start_time": "2022-08-27T06:03:27.291914",
     "status": "completed"
    },
    "tags": []
   },
   "outputs": [
    {
     "name": "stdout",
     "output_type": "stream",
     "text": [
      "Number of genes in chromosome: 306\n"
     ]
    }
   ],
   "source": [
    "# run only on the chromosome specified\n",
    "all_chrs = [CHROMOSOME]\n",
    "genes_chr = genes_info[genes_info[\"chr\"] == CHROMOSOME]\n",
    "\n",
    "# For testing purposes\n",
    "# genes_chr = genes_chr.sample(n=20)\n",
    "\n",
    "print(f\"Number of genes in chromosome: {genes_chr.shape[0]}\", flush=True)"
   ]
  },
  {
   "cell_type": "code",
   "execution_count": 26,
   "id": "916015d8-2979-46d3-a9b9-1cf5a0932c6a",
   "metadata": {
    "execution": {
     "iopub.execute_input": "2022-08-27T06:03:27.455507Z",
     "iopub.status.busy": "2022-08-27T06:03:27.455333Z",
     "iopub.status.idle": "2022-08-27T06:03:27.471568Z",
     "shell.execute_reply": "2022-08-27T06:03:27.471181Z"
    },
    "papermill": {
     "duration": 0.032066,
     "end_time": "2022-08-27T06:03:27.472864",
     "exception": false,
     "start_time": "2022-08-27T06:03:27.440798",
     "status": "completed"
    },
    "tags": []
   },
   "outputs": [],
   "source": [
    "# sort genes by starting position to make visualizations better later\n",
    "genes_chr = genes_chr.sort_values(\"start_position\")"
   ]
  },
  {
   "cell_type": "code",
   "execution_count": 27,
   "id": "a38aa74a-8ad3-47f6-8ef9-56be0e011774",
   "metadata": {
    "execution": {
     "iopub.execute_input": "2022-08-27T06:03:27.505441Z",
     "iopub.status.busy": "2022-08-27T06:03:27.505280Z",
     "iopub.status.idle": "2022-08-27T06:03:27.521591Z",
     "shell.execute_reply": "2022-08-27T06:03:27.521203Z"
    },
    "papermill": {
     "duration": 0.033172,
     "end_time": "2022-08-27T06:03:27.522880",
     "exception": false,
     "start_time": "2022-08-27T06:03:27.489708",
     "status": "completed"
    },
    "tags": []
   },
   "outputs": [],
   "source": [
    "gene_chr_objs = [Gene(ensembl_id=gene_id) for gene_id in genes_chr[\"id\"]]"
   ]
  },
  {
   "cell_type": "code",
   "execution_count": 28,
   "id": "570f974f-13c3-42b6-ad3a-ce99ca885c1a",
   "metadata": {
    "execution": {
     "iopub.execute_input": "2022-08-27T06:03:27.560166Z",
     "iopub.status.busy": "2022-08-27T06:03:27.559976Z",
     "iopub.status.idle": "2022-08-27T06:03:27.576855Z",
     "shell.execute_reply": "2022-08-27T06:03:27.576492Z"
    },
    "papermill": {
     "duration": 0.035584,
     "end_time": "2022-08-27T06:03:27.577987",
     "exception": false,
     "start_time": "2022-08-27T06:03:27.542403",
     "status": "completed"
    },
    "tags": []
   },
   "outputs": [
    {
     "name": "stdout",
     "output_type": "stream",
     "text": [
      "Number of gene combinations: 46665\n"
     ]
    }
   ],
   "source": [
    "n = len(gene_chr_objs)\n",
    "n_comb = int(n * (n - 1) / 2.0)\n",
    "print(f\"Number of gene combinations: {n_comb}\", flush=True)"
   ]
  },
  {
   "cell_type": "code",
   "execution_count": 29,
   "id": "cdbb90a1",
   "metadata": {
    "execution": {
     "iopub.execute_input": "2022-08-27T06:03:27.607270Z",
     "iopub.status.busy": "2022-08-27T06:03:27.607090Z",
     "iopub.status.idle": "2022-08-27T06:52:23.021792Z",
     "shell.execute_reply": "2022-08-27T06:52:23.021066Z"
    },
    "papermill": {
     "duration": 2936.185391,
     "end_time": "2022-08-27T06:52:23.777295",
     "exception": false,
     "start_time": "2022-08-27T06:03:27.591904",
     "status": "completed"
    },
    "tags": []
   },
   "outputs": [
    {
     "name": "stderr",
     "output_type": "stream",
     "text": [
      "ENSG00000165810 / ENSG00000165810: : 46971it [48:54, 16.00it/s]\n"
     ]
    },
    {
     "data": {
      "text/plain": [
       "PosixPath('/project/ritchie20/projects/phenoplier/base/results/gls/gene_corrs/cohorts/phenomexcan_other/gtex_v8/mashr/by_chr/gene_corrs-chr5.pkl')"
      ]
     },
     "metadata": {},
     "output_type": "display_data"
    }
   ],
   "source": [
    "gene_corrs = []\n",
    "gene_corrs_data = np.full(\n",
    "    (n, n),\n",
    "    np.nan,\n",
    "    dtype=np.float64,\n",
    ")\n",
    "\n",
    "i = 0\n",
    "with tqdm(ncols=100, total=n_comb) as pbar:\n",
    "    for gene1_idx in range(0, len(gene_chr_objs)):\n",
    "        gene1_obj = gene_chr_objs[gene1_idx]\n",
    "        gene1_tissues = spredixcan_genes_models.loc[gene1_obj.ensembl_id, \"tissue\"]\n",
    "\n",
    "        for gene2_idx in range(gene1_idx, len(gene_chr_objs)):\n",
    "            gene2_obj = gene_chr_objs[gene2_idx]\n",
    "            gene2_tissues = spredixcan_genes_models.loc[gene2_obj.ensembl_id, \"tissue\"]\n",
    "\n",
    "            pbar.set_description(f\"{gene1_obj.ensembl_id} / {gene2_obj.ensembl_id}\")\n",
    "\n",
    "            try:\n",
    "                r = gene1_obj.get_ssm_correlation(\n",
    "                    other_gene=gene2_obj,\n",
    "                    tissues=gene1_tissues,\n",
    "                    other_tissues=gene2_tissues,\n",
    "                    snps_subset=gwas_variants_ids_set,\n",
    "                    condition_number=SMULTIXCAN_CONDITION_NUMBER,\n",
    "                    reference_panel=REFERENCE_PANEL,\n",
    "                    model_type=EQTL_MODEL,\n",
    "                    use_within_distance=COMPUTE_CORRELATIONS_WITHIN_DISTANCE,\n",
    "                )\n",
    "\n",
    "                if r is None:\n",
    "                    # if r is None, it's very likely because:\n",
    "                    #  * one of the genes has no prediction models\n",
    "                    #  * all the SNPs predictors for the gene are not present in the reference\n",
    "                    #    panel\n",
    "\n",
    "                    r = 0.0\n",
    "\n",
    "                gene_corrs.append(r)\n",
    "\n",
    "                gene_corrs_data[gene1_idx, gene2_idx] = r\n",
    "                gene_corrs_data[gene2_idx, gene1_idx] = r\n",
    "            except Warning as e:\n",
    "                if not DEBUG_MODE:\n",
    "                    raise e\n",
    "\n",
    "                print(\n",
    "                    f\"RuntimeWarning for genes {gene1_obj.ensembl_id} and {gene2_obj.ensembl_id}\",\n",
    "                    flush=True,\n",
    "                )\n",
    "                print(traceback.format_exc(), flush=True)\n",
    "\n",
    "                gene_corrs.append(np.nan)\n",
    "            except Exception as e:\n",
    "                if not DEBUG_MODE:\n",
    "                    raise e\n",
    "\n",
    "                print(\n",
    "                    f\"Exception for genes {gene1_obj.ensembl_id} and {gene2_obj.ensembl_id}\",\n",
    "                    flush=True,\n",
    "                )\n",
    "                print(traceback.format_exc(), flush=True)\n",
    "\n",
    "                gene_corrs.append(np.nan)\n",
    "\n",
    "            pbar.update(1)\n",
    "\n",
    "# create a pandas series\n",
    "gene_corrs_flat = pd.Series(gene_corrs)\n",
    "\n",
    "# save\n",
    "# FIXME: consider saving only the condenced matrix here. See here for\n",
    "# more details: https://github.com/greenelab/phenoplier/pull/38#discussion_r634600813\n",
    "# gene_corrs_data = squareform(np.array(gene_corrs, dtype=np.float64))\n",
    "# np.fill_diagonal(gene_corrs_data, 1.0)\n",
    "\n",
    "gene_chr_ids = [g.ensembl_id for g in gene_chr_objs]\n",
    "gene_corrs_df = pd.DataFrame(\n",
    "    data=gene_corrs_data,\n",
    "    index=gene_chr_ids,\n",
    "    columns=gene_chr_ids,\n",
    ")\n",
    "\n",
    "output_dir.mkdir(exist_ok=True, parents=True)\n",
    "display(output_file)\n",
    "\n",
    "gene_corrs_df.to_pickle(output_file)"
   ]
  },
  {
   "cell_type": "markdown",
   "id": "faa67b51-5373-470f-aa72-2ded53fa6dfe",
   "metadata": {
    "papermill": {
     "duration": 2.208449,
     "end_time": "2022-08-27T06:52:28.345949",
     "exception": false,
     "start_time": "2022-08-27T06:52:26.137500",
     "status": "completed"
    },
    "tags": []
   },
   "source": [
    "# Testing"
   ]
  },
  {
   "cell_type": "code",
   "execution_count": 30,
   "id": "14f7d046-4b55-4896-a56b-990127bcc388",
   "metadata": {
    "execution": {
     "iopub.execute_input": "2022-08-27T06:52:32.881368Z",
     "iopub.status.busy": "2022-08-27T06:52:32.881110Z",
     "iopub.status.idle": "2022-08-27T06:52:33.127946Z",
     "shell.execute_reply": "2022-08-27T06:52:33.127561Z"
    },
    "papermill": {
     "duration": 2.446471,
     "end_time": "2022-08-27T06:52:33.129173",
     "exception": false,
     "start_time": "2022-08-27T06:52:30.682702",
     "status": "completed"
    },
    "tags": []
   },
   "outputs": [
    {
     "data": {
      "text/plain": [
       "(306, 306)"
      ]
     },
     "execution_count": 30,
     "metadata": {},
     "output_type": "execute_result"
    }
   ],
   "source": [
    "gene_corrs_df.shape"
   ]
  },
  {
   "cell_type": "code",
   "execution_count": 31,
   "id": "c7d15414-3297-4537-a7c6-7588c0baeb75",
   "metadata": {
    "execution": {
     "iopub.execute_input": "2022-08-27T06:52:37.708675Z",
     "iopub.status.busy": "2022-08-27T06:52:37.708431Z",
     "iopub.status.idle": "2022-08-27T06:52:37.740209Z",
     "shell.execute_reply": "2022-08-27T06:52:37.739790Z"
    },
    "papermill": {
     "duration": 2.264665,
     "end_time": "2022-08-27T06:52:37.741492",
     "exception": false,
     "start_time": "2022-08-27T06:52:35.476827",
     "status": "completed"
    },
    "tags": []
   },
   "outputs": [
    {
     "data": {
      "text/html": [
       "<div>\n",
       "<style scoped>\n",
       "    .dataframe tbody tr th:only-of-type {\n",
       "        vertical-align: middle;\n",
       "    }\n",
       "\n",
       "    .dataframe tbody tr th {\n",
       "        vertical-align: top;\n",
       "    }\n",
       "\n",
       "    .dataframe thead th {\n",
       "        text-align: right;\n",
       "    }\n",
       "</style>\n",
       "<table border=\"1\" class=\"dataframe\">\n",
       "  <thead>\n",
       "    <tr style=\"text-align: right;\">\n",
       "      <th></th>\n",
       "      <th>ENSG00000073578</th>\n",
       "      <th>ENSG00000180104</th>\n",
       "      <th>ENSG00000066230</th>\n",
       "      <th>ENSG00000112877</th>\n",
       "      <th>ENSG00000113504</th>\n",
       "      <th>ENSG00000174358</th>\n",
       "      <th>ENSG00000164362</th>\n",
       "      <th>ENSG00000049656</th>\n",
       "      <th>ENSG00000153395</th>\n",
       "      <th>ENSG00000171421</th>\n",
       "      <th>...</th>\n",
       "      <th>ENSG00000161021</th>\n",
       "      <th>ENSG00000161013</th>\n",
       "      <th>ENSG00000161011</th>\n",
       "      <th>ENSG00000050748</th>\n",
       "      <th>ENSG00000131459</th>\n",
       "      <th>ENSG00000113300</th>\n",
       "      <th>ENSG00000037280</th>\n",
       "      <th>ENSG00000131446</th>\n",
       "      <th>ENSG00000113303</th>\n",
       "      <th>ENSG00000165810</th>\n",
       "    </tr>\n",
       "  </thead>\n",
       "  <tbody>\n",
       "    <tr>\n",
       "      <th>ENSG00000073578</th>\n",
       "      <td>1.000000</td>\n",
       "      <td>0.239571</td>\n",
       "      <td>0.162900</td>\n",
       "      <td>0.051667</td>\n",
       "      <td>0.015268</td>\n",
       "      <td>0.012268</td>\n",
       "      <td>0.008419</td>\n",
       "      <td>0.010114</td>\n",
       "      <td>0.013563</td>\n",
       "      <td>0.008446</td>\n",
       "      <td>...</td>\n",
       "      <td>0.008851</td>\n",
       "      <td>0.009531</td>\n",
       "      <td>0.009930</td>\n",
       "      <td>0.011092</td>\n",
       "      <td>0.014091</td>\n",
       "      <td>0.007913</td>\n",
       "      <td>0.011395</td>\n",
       "      <td>0.015369</td>\n",
       "      <td>0.012327</td>\n",
       "      <td>0.008405</td>\n",
       "    </tr>\n",
       "    <tr>\n",
       "      <th>ENSG00000180104</th>\n",
       "      <td>0.239571</td>\n",
       "      <td>1.000000</td>\n",
       "      <td>0.408468</td>\n",
       "      <td>0.093307</td>\n",
       "      <td>0.006041</td>\n",
       "      <td>0.010583</td>\n",
       "      <td>0.007395</td>\n",
       "      <td>0.004405</td>\n",
       "      <td>0.004180</td>\n",
       "      <td>0.006060</td>\n",
       "      <td>...</td>\n",
       "      <td>0.007577</td>\n",
       "      <td>0.003478</td>\n",
       "      <td>0.004978</td>\n",
       "      <td>0.007614</td>\n",
       "      <td>0.008764</td>\n",
       "      <td>0.005807</td>\n",
       "      <td>0.006721</td>\n",
       "      <td>0.006953</td>\n",
       "      <td>0.003056</td>\n",
       "      <td>0.004174</td>\n",
       "    </tr>\n",
       "    <tr>\n",
       "      <th>ENSG00000066230</th>\n",
       "      <td>0.162900</td>\n",
       "      <td>0.408468</td>\n",
       "      <td>1.000000</td>\n",
       "      <td>0.213732</td>\n",
       "      <td>0.013236</td>\n",
       "      <td>0.008794</td>\n",
       "      <td>0.006561</td>\n",
       "      <td>0.009028</td>\n",
       "      <td>0.013473</td>\n",
       "      <td>0.008190</td>\n",
       "      <td>...</td>\n",
       "      <td>0.007653</td>\n",
       "      <td>0.005753</td>\n",
       "      <td>0.007700</td>\n",
       "      <td>0.006731</td>\n",
       "      <td>0.009927</td>\n",
       "      <td>0.004379</td>\n",
       "      <td>0.007381</td>\n",
       "      <td>0.006230</td>\n",
       "      <td>0.002811</td>\n",
       "      <td>0.005943</td>\n",
       "    </tr>\n",
       "    <tr>\n",
       "      <th>ENSG00000112877</th>\n",
       "      <td>0.051667</td>\n",
       "      <td>0.093307</td>\n",
       "      <td>0.213732</td>\n",
       "      <td>1.000000</td>\n",
       "      <td>0.022615</td>\n",
       "      <td>0.007627</td>\n",
       "      <td>0.007430</td>\n",
       "      <td>0.008044</td>\n",
       "      <td>0.011842</td>\n",
       "      <td>0.003048</td>\n",
       "      <td>...</td>\n",
       "      <td>0.008470</td>\n",
       "      <td>0.007707</td>\n",
       "      <td>0.008924</td>\n",
       "      <td>0.009342</td>\n",
       "      <td>0.013724</td>\n",
       "      <td>0.009809</td>\n",
       "      <td>0.011839</td>\n",
       "      <td>0.008700</td>\n",
       "      <td>0.005133</td>\n",
       "      <td>0.005326</td>\n",
       "    </tr>\n",
       "    <tr>\n",
       "      <th>ENSG00000113504</th>\n",
       "      <td>0.015268</td>\n",
       "      <td>0.006041</td>\n",
       "      <td>0.013236</td>\n",
       "      <td>0.022615</td>\n",
       "      <td>1.000000</td>\n",
       "      <td>0.023223</td>\n",
       "      <td>0.009763</td>\n",
       "      <td>0.008337</td>\n",
       "      <td>0.115432</td>\n",
       "      <td>0.008149</td>\n",
       "      <td>...</td>\n",
       "      <td>0.011940</td>\n",
       "      <td>0.004965</td>\n",
       "      <td>0.007881</td>\n",
       "      <td>0.010171</td>\n",
       "      <td>0.011843</td>\n",
       "      <td>0.010911</td>\n",
       "      <td>0.013643</td>\n",
       "      <td>0.009886</td>\n",
       "      <td>0.007719</td>\n",
       "      <td>0.008003</td>\n",
       "    </tr>\n",
       "  </tbody>\n",
       "</table>\n",
       "<p>5 rows × 306 columns</p>\n",
       "</div>"
      ],
      "text/plain": [
       "                 ENSG00000073578  ENSG00000180104  ENSG00000066230  \\\n",
       "ENSG00000073578         1.000000         0.239571         0.162900   \n",
       "ENSG00000180104         0.239571         1.000000         0.408468   \n",
       "ENSG00000066230         0.162900         0.408468         1.000000   \n",
       "ENSG00000112877         0.051667         0.093307         0.213732   \n",
       "ENSG00000113504         0.015268         0.006041         0.013236   \n",
       "\n",
       "                 ENSG00000112877  ENSG00000113504  ENSG00000174358  \\\n",
       "ENSG00000073578         0.051667         0.015268         0.012268   \n",
       "ENSG00000180104         0.093307         0.006041         0.010583   \n",
       "ENSG00000066230         0.213732         0.013236         0.008794   \n",
       "ENSG00000112877         1.000000         0.022615         0.007627   \n",
       "ENSG00000113504         0.022615         1.000000         0.023223   \n",
       "\n",
       "                 ENSG00000164362  ENSG00000049656  ENSG00000153395  \\\n",
       "ENSG00000073578         0.008419         0.010114         0.013563   \n",
       "ENSG00000180104         0.007395         0.004405         0.004180   \n",
       "ENSG00000066230         0.006561         0.009028         0.013473   \n",
       "ENSG00000112877         0.007430         0.008044         0.011842   \n",
       "ENSG00000113504         0.009763         0.008337         0.115432   \n",
       "\n",
       "                 ENSG00000171421  ...  ENSG00000161021  ENSG00000161013  \\\n",
       "ENSG00000073578         0.008446  ...         0.008851         0.009531   \n",
       "ENSG00000180104         0.006060  ...         0.007577         0.003478   \n",
       "ENSG00000066230         0.008190  ...         0.007653         0.005753   \n",
       "ENSG00000112877         0.003048  ...         0.008470         0.007707   \n",
       "ENSG00000113504         0.008149  ...         0.011940         0.004965   \n",
       "\n",
       "                 ENSG00000161011  ENSG00000050748  ENSG00000131459  \\\n",
       "ENSG00000073578         0.009930         0.011092         0.014091   \n",
       "ENSG00000180104         0.004978         0.007614         0.008764   \n",
       "ENSG00000066230         0.007700         0.006731         0.009927   \n",
       "ENSG00000112877         0.008924         0.009342         0.013724   \n",
       "ENSG00000113504         0.007881         0.010171         0.011843   \n",
       "\n",
       "                 ENSG00000113300  ENSG00000037280  ENSG00000131446  \\\n",
       "ENSG00000073578         0.007913         0.011395         0.015369   \n",
       "ENSG00000180104         0.005807         0.006721         0.006953   \n",
       "ENSG00000066230         0.004379         0.007381         0.006230   \n",
       "ENSG00000112877         0.009809         0.011839         0.008700   \n",
       "ENSG00000113504         0.010911         0.013643         0.009886   \n",
       "\n",
       "                 ENSG00000113303  ENSG00000165810  \n",
       "ENSG00000073578         0.012327         0.008405  \n",
       "ENSG00000180104         0.003056         0.004174  \n",
       "ENSG00000066230         0.002811         0.005943  \n",
       "ENSG00000112877         0.005133         0.005326  \n",
       "ENSG00000113504         0.007719         0.008003  \n",
       "\n",
       "[5 rows x 306 columns]"
      ]
     },
     "execution_count": 31,
     "metadata": {},
     "output_type": "execute_result"
    }
   ],
   "source": [
    "gene_corrs_df.head()"
   ]
  },
  {
   "cell_type": "markdown",
   "id": "dad6603f-01c6-41fb-a6f6-241051207dd8",
   "metadata": {
    "papermill": {
     "duration": 2.187469,
     "end_time": "2022-08-27T06:52:42.266731",
     "exception": false,
     "start_time": "2022-08-27T06:52:40.079262",
     "status": "completed"
    },
    "tags": []
   },
   "source": [
    "## Standard checks and stats"
   ]
  },
  {
   "cell_type": "code",
   "execution_count": 32,
   "id": "286686af-1b7b-4440-8453-6bdcbd8de19c",
   "metadata": {
    "execution": {
     "iopub.execute_input": "2022-08-27T06:52:46.777399Z",
     "iopub.status.busy": "2022-08-27T06:52:46.777162Z",
     "iopub.status.idle": "2022-08-27T06:52:46.796831Z",
     "shell.execute_reply": "2022-08-27T06:52:46.796407Z"
    },
    "papermill": {
     "duration": 2.209643,
     "end_time": "2022-08-27T06:52:46.798265",
     "exception": false,
     "start_time": "2022-08-27T06:52:44.588622",
     "status": "completed"
    },
    "tags": []
   },
   "outputs": [],
   "source": [
    "assert not gene_corrs_df.isna().any().any()"
   ]
  },
  {
   "cell_type": "code",
   "execution_count": 33,
   "id": "00583efc-7068-4270-ad1e-4a418e91db96",
   "metadata": {
    "execution": {
     "iopub.execute_input": "2022-08-27T06:52:51.316594Z",
     "iopub.status.busy": "2022-08-27T06:52:51.316347Z",
     "iopub.status.idle": "2022-08-27T06:52:51.338251Z",
     "shell.execute_reply": "2022-08-27T06:52:51.337839Z"
    },
    "papermill": {
     "duration": 2.226325,
     "end_time": "2022-08-27T06:52:51.339509",
     "exception": false,
     "start_time": "2022-08-27T06:52:49.113184",
     "status": "completed"
    },
    "tags": []
   },
   "outputs": [
    {
     "data": {
      "text/plain": [
       "5.6602957747638866e-09"
      ]
     },
     "metadata": {},
     "output_type": "display_data"
    }
   ],
   "source": [
    "_min_val = gene_corrs_df.min().min()\n",
    "display(_min_val)\n",
    "assert _min_val >= -0.05"
   ]
  },
  {
   "cell_type": "code",
   "execution_count": 34,
   "id": "d04fb2cf-1050-475b-b855-f5f7cc04092b",
   "metadata": {
    "execution": {
     "iopub.execute_input": "2022-08-27T06:52:55.891895Z",
     "iopub.status.busy": "2022-08-27T06:52:55.891650Z",
     "iopub.status.idle": "2022-08-27T06:52:55.913638Z",
     "shell.execute_reply": "2022-08-27T06:52:55.913233Z"
    },
    "papermill": {
     "duration": 2.249426,
     "end_time": "2022-08-27T06:52:55.914863",
     "exception": false,
     "start_time": "2022-08-27T06:52:53.665437",
     "status": "completed"
    },
    "tags": []
   },
   "outputs": [
    {
     "data": {
      "text/plain": [
       "1.0000000000000033"
      ]
     },
     "metadata": {},
     "output_type": "display_data"
    }
   ],
   "source": [
    "_max_val = gene_corrs_df.max().max()  # this captures the diagonal\n",
    "display(_max_val)\n",
    "assert _max_val <= 1.05"
   ]
  },
  {
   "cell_type": "code",
   "execution_count": 35,
   "id": "96d02c44-1fba-47be-8a93-8f2608420b9c",
   "metadata": {
    "execution": {
     "iopub.execute_input": "2022-08-27T06:53:00.489410Z",
     "iopub.status.busy": "2022-08-27T06:53:00.489161Z",
     "iopub.status.idle": "2022-08-27T06:53:00.507587Z",
     "shell.execute_reply": "2022-08-27T06:53:00.507167Z"
    },
    "papermill": {
     "duration": 2.245656,
     "end_time": "2022-08-27T06:53:00.508971",
     "exception": false,
     "start_time": "2022-08-27T06:52:58.263315",
     "status": "completed"
    },
    "tags": []
   },
   "outputs": [],
   "source": [
    "# check upper triangular values\n",
    "# assert len(gene_corrs) == int(genes_chr.shape[0] * (genes_chr.shape[0] - 1) / 2)"
   ]
  },
  {
   "cell_type": "code",
   "execution_count": 36,
   "id": "fe283586-c348-40e0-8841-f6d97bfb021c",
   "metadata": {
    "execution": {
     "iopub.execute_input": "2022-08-27T06:53:05.037950Z",
     "iopub.status.busy": "2022-08-27T06:53:05.037713Z",
     "iopub.status.idle": "2022-08-27T06:53:05.064993Z",
     "shell.execute_reply": "2022-08-27T06:53:05.064543Z"
    },
    "papermill": {
     "duration": 2.223677,
     "end_time": "2022-08-27T06:53:05.066418",
     "exception": false,
     "start_time": "2022-08-27T06:53:02.842741",
     "status": "completed"
    },
    "tags": []
   },
   "outputs": [
    {
     "data": {
      "text/plain": [
       "count    4.697100e+04\n",
       "mean     1.465525e-02\n",
       "std      8.486705e-02\n",
       "min      5.660296e-09\n",
       "25%      3.977321e-03\n",
       "50%      5.981915e-03\n",
       "75%      8.258169e-03\n",
       "max      1.000000e+00\n",
       "dtype: float64"
      ]
     },
     "execution_count": 36,
     "metadata": {},
     "output_type": "execute_result"
    }
   ],
   "source": [
    "gene_corrs_flat.describe()"
   ]
  },
  {
   "cell_type": "code",
   "execution_count": 37,
   "id": "b3815678-0f93-4b35-897b-a9d047a2aa78",
   "metadata": {
    "execution": {
     "iopub.execute_input": "2022-08-27T06:53:09.625462Z",
     "iopub.status.busy": "2022-08-27T06:53:09.625224Z",
     "iopub.status.idle": "2022-08-27T06:53:09.648264Z",
     "shell.execute_reply": "2022-08-27T06:53:09.647846Z"
    },
    "papermill": {
     "duration": 2.21198,
     "end_time": "2022-08-27T06:53:09.649482",
     "exception": false,
     "start_time": "2022-08-27T06:53:07.437502",
     "status": "completed"
    },
    "tags": []
   },
   "outputs": [
    {
     "data": {
      "text/plain": [
       "0.00    5.660296e-09\n",
       "0.05    1.611390e-03\n",
       "0.10    2.386555e-03\n",
       "0.15    2.990581e-03\n",
       "0.20    3.510156e-03\n",
       "0.25    3.977321e-03\n",
       "0.30    4.407676e-03\n",
       "0.35    4.811662e-03\n",
       "0.40    5.207135e-03\n",
       "0.45    5.577454e-03\n",
       "0.50    5.981915e-03\n",
       "0.55    6.389617e-03\n",
       "0.60    6.801872e-03\n",
       "0.65    7.247663e-03\n",
       "0.70    7.715740e-03\n",
       "0.75    8.258169e-03\n",
       "0.80    8.878426e-03\n",
       "0.85    9.638538e-03\n",
       "0.90    1.065342e-02\n",
       "0.95    1.242065e-02\n",
       "dtype: float64"
      ]
     },
     "metadata": {},
     "output_type": "display_data"
    }
   ],
   "source": [
    "gene_corrs_quantiles = gene_corrs_flat.quantile(np.arange(0, 1, 0.05))\n",
    "display(gene_corrs_quantiles)"
   ]
  },
  {
   "cell_type": "markdown",
   "id": "87134509-b145-4a10-8bc9-b7e914c2b0fa",
   "metadata": {
    "papermill": {
     "duration": 2.290509,
     "end_time": "2022-08-27T06:53:14.268319",
     "exception": false,
     "start_time": "2022-08-27T06:53:11.977810",
     "status": "completed"
    },
    "tags": []
   },
   "source": [
    "## Positive definiteness"
   ]
  },
  {
   "cell_type": "code",
   "execution_count": 38,
   "id": "07d9a9a1-a4f7-48aa-b916-6d42a8cc6186",
   "metadata": {
    "execution": {
     "iopub.execute_input": "2022-08-27T06:53:18.794300Z",
     "iopub.status.busy": "2022-08-27T06:53:18.794055Z",
     "iopub.status.idle": "2022-08-27T06:53:18.838471Z",
     "shell.execute_reply": "2022-08-27T06:53:18.838066Z"
    },
    "papermill": {
     "duration": 2.392932,
     "end_time": "2022-08-27T06:53:18.839696",
     "exception": false,
     "start_time": "2022-08-27T06:53:16.446764",
     "status": "completed"
    },
    "tags": []
   },
   "outputs": [
    {
     "data": {
      "text/plain": [
       "0"
      ]
     },
     "metadata": {},
     "output_type": "display_data"
    },
    {
     "data": {
      "text/plain": [
       "array([], dtype=float64)"
      ]
     },
     "metadata": {},
     "output_type": "display_data"
    }
   ],
   "source": [
    "# print negative eigenvalues\n",
    "eigs = np.linalg.eigvals(gene_corrs_df.to_numpy())\n",
    "display(len(eigs[eigs < 0]))\n",
    "display(eigs[eigs < 0])"
   ]
  },
  {
   "cell_type": "code",
   "execution_count": 39,
   "id": "6e218436-c3c5-4028-8c94-a4fa6260efce",
   "metadata": {
    "execution": {
     "iopub.execute_input": "2022-08-27T06:53:23.517594Z",
     "iopub.status.busy": "2022-08-27T06:53:23.517345Z",
     "iopub.status.idle": "2022-08-27T06:53:23.545842Z",
     "shell.execute_reply": "2022-08-27T06:53:23.545430Z"
    },
    "papermill": {
     "duration": 2.366077,
     "end_time": "2022-08-27T06:53:23.547190",
     "exception": false,
     "start_time": "2022-08-27T06:53:21.181113",
     "status": "completed"
    },
    "tags": []
   },
   "outputs": [
    {
     "name": "stdout",
     "output_type": "stream",
     "text": [
      "Works!\n"
     ]
    }
   ],
   "source": [
    "try:\n",
    "    chol_mat = np.linalg.cholesky(gene_corrs_df.to_numpy())\n",
    "    cov_inv = np.linalg.inv(chol_mat)\n",
    "    print(\"Works!\")\n",
    "except Exception as e:\n",
    "    print(f\"Cholesky decomposition failed: {str(e)}\")"
   ]
  },
  {
   "cell_type": "code",
   "execution_count": 40,
   "id": "dd8827fb-faf9-4c7c-9454-015e94752706",
   "metadata": {
    "execution": {
     "iopub.execute_input": "2022-08-27T06:53:28.104047Z",
     "iopub.status.busy": "2022-08-27T06:53:28.103791Z",
     "iopub.status.idle": "2022-08-27T06:53:28.128914Z",
     "shell.execute_reply": "2022-08-27T06:53:28.128464Z"
    },
    "papermill": {
     "duration": 2.300986,
     "end_time": "2022-08-27T06:53:28.130349",
     "exception": false,
     "start_time": "2022-08-27T06:53:25.829363",
     "status": "completed"
    },
    "tags": []
   },
   "outputs": [
    {
     "name": "stdout",
     "output_type": "stream",
     "text": [
      "Works!\n"
     ]
    }
   ],
   "source": [
    "try:\n",
    "    # decomposition used by statsmodels.GLS\n",
    "    cholsigmainv = np.linalg.cholesky(np.linalg.inv(gene_corrs_df.to_numpy())).T\n",
    "    print(\"Works!\")\n",
    "except Exception as e:\n",
    "    print(f\"Cholesky decomposition failed (statsmodels.GLS): {str(e)}\")"
   ]
  },
  {
   "cell_type": "markdown",
   "id": "8e60a080-edb2-4e9c-b2ef-22961693200c",
   "metadata": {
    "papermill": {
     "duration": 2.266741,
     "end_time": "2022-08-27T06:53:32.693093",
     "exception": false,
     "start_time": "2022-08-27T06:53:30.426352",
     "status": "completed"
    },
    "tags": []
   },
   "source": [
    "## Plot: distribution"
   ]
  },
  {
   "cell_type": "code",
   "execution_count": 41,
   "id": "8301126b-a7d4-4744-9c7d-f0f86eb6f54c",
   "metadata": {
    "execution": {
     "iopub.execute_input": "2022-08-27T06:53:37.262845Z",
     "iopub.status.busy": "2022-08-27T06:53:37.262605Z",
     "iopub.status.idle": "2022-08-27T06:53:43.770387Z",
     "shell.execute_reply": "2022-08-27T06:53:43.769902Z"
    },
    "papermill": {
     "duration": 8.811398,
     "end_time": "2022-08-27T06:53:43.771762",
     "exception": false,
     "start_time": "2022-08-27T06:53:34.960364",
     "status": "completed"
    },
    "tags": []
   },
   "outputs": [
    {
     "data": {
      "image/png": "[encoded data removed]",
      "text/plain": [
       "<Figure size 504x504 with 1 Axes>"
      ]
     },
     "metadata": {
      "needs_background": "light"
     },
     "output_type": "display_data"
    }
   ],
   "source": [
    "with sns.plotting_context(\"paper\", font_scale=1.5):\n",
    "    g = sns.displot(gene_corrs_flat, kde=True, height=7)\n",
    "    g.ax.set_title(\n",
    "        f\"Distribution of gene correlation values in chromosome {CHROMOSOME}\"\n",
    "    )"
   ]
  },
  {
   "cell_type": "markdown",
   "id": "cbd52bca-d878-4a2f-b684-5c83aa3038d4",
   "metadata": {
    "papermill": {
     "duration": 2.341551,
     "end_time": "2022-08-27T06:53:48.359029",
     "exception": false,
     "start_time": "2022-08-27T06:53:46.017478",
     "status": "completed"
    },
    "tags": []
   },
   "source": [
    "## Plot: heatmap"
   ]
  },
  {
   "cell_type": "code",
   "execution_count": 42,
   "id": "d03fe63a-c7b2-4fb9-a53c-db362ce843c9",
   "metadata": {
    "execution": {
     "iopub.execute_input": "2022-08-27T06:53:53.074101Z",
     "iopub.status.busy": "2022-08-27T06:53:53.073842Z",
     "iopub.status.idle": "2022-08-27T06:53:53.094672Z",
     "shell.execute_reply": "2022-08-27T06:53:53.094274Z"
    },
    "papermill": {
     "duration": 2.392507,
     "end_time": "2022-08-27T06:53:53.095938",
     "exception": false,
     "start_time": "2022-08-27T06:53:50.703431",
     "status": "completed"
    },
    "tags": []
   },
   "outputs": [
    {
     "data": {
      "text/plain": [
       "'0.0 / 0.05'"
      ]
     },
     "metadata": {},
     "output_type": "display_data"
    }
   ],
   "source": [
    "vmin_val = min(0.00, gene_corrs_quantiles[0.10])\n",
    "vmax_val = max(0.05, gene_corrs_quantiles[0.90])\n",
    "display(f\"{vmin_val} / {vmax_val}\")"
   ]
  },
  {
   "cell_type": "code",
   "execution_count": 43,
   "id": "dc41b70b-5bcc-4d9e-9f33-a22c4a94dab5",
   "metadata": {
    "execution": {
     "iopub.execute_input": "2022-08-27T06:53:57.812872Z",
     "iopub.status.busy": "2022-08-27T06:53:57.812629Z",
     "iopub.status.idle": "2022-08-27T06:53:58.061216Z",
     "shell.execute_reply": "2022-08-27T06:53:58.060750Z"
    },
    "papermill": {
     "duration": 2.612553,
     "end_time": "2022-08-27T06:53:58.062671",
     "exception": false,
     "start_time": "2022-08-27T06:53:55.450118",
     "status": "completed"
    },
    "tags": []
   },
   "outputs": [
    {
     "data": {
      "text/plain": [
       "Text(0.5, 1.0, 'Gene correlations in chromosome 5')"
      ]
     },
     "execution_count": 43,
     "metadata": {},
     "output_type": "execute_result"
    },
    {
     "data": {
      "image/png": "[encoded data removed]",
      "text/plain": [
       "<Figure size 720x720 with 2 Axes>"
      ]
     },
     "metadata": {
      "needs_background": "light"
     },
     "output_type": "display_data"
    }
   ],
   "source": [
    "f, ax = plt.subplots(figsize=(10, 10))\n",
    "sns.heatmap(\n",
    "    gene_corrs_df,\n",
    "    xticklabels=False,\n",
    "    yticklabels=False,\n",
    "    square=True,\n",
    "    vmin=vmin_val,\n",
    "    vmax=vmax_val,\n",
    "    cmap=\"rocket_r\",\n",
    "    ax=ax,\n",
    ")\n",
    "ax.set_title(f\"Gene correlations in chromosome {CHROMOSOME}\")"
   ]
  },
  {
   "cell_type": "code",
   "execution_count": null,
   "id": "b25e3ead",
   "metadata": {
    "papermill": {
     "duration": 2.350454,
     "end_time": "2022-08-27T06:54:02.768250",
     "exception": false,
     "start_time": "2022-08-27T06:54:00.417796",
     "status": "completed"
    },
    "tags": []
   },
   "outputs": [],
   "source": []
  }
 ],
 "metadata": {
  "jupytext": {
   "cell_metadata_filter": "all,-execution,-papermill,-trusted",
   "formats": "ipynb,py//py:percent"
  },
  "kernelspec": {
   "display_name": "Python 3 (ipykernel)",
   "language": "python",
   "name": "python3"
  },
  "language_info": {
   "codemirror_mode": {
    "name": "ipython",
    "version": 3
   },
   "file_extension": ".py",
   "mimetype": "text/x-python",
   "name": "python",
   "nbconvert_exporter": "python",
   "pygments_lexer": "ipython3",
   "version": "3.8.13"
  },
  "papermill": {
   "default_parameters": {},
   "duration": 3051.142353,
   "end_time": "2022-08-27T06:54:07.858511",
   "environment_variables": {},
   "exception": null,
   "input_path": "nbs/15_gsa_gls/10-gene_expr_correlations.ipynb",
   "output_path": "nbs/15_gsa_gls/gene_corrs/cohorts/phenomexcan_other/gtex_v8/mashr/10-gene_expr_corrs/10-gene_expr_correlations-chr5.run.ipynb",
   "parameters": {
    "CHROMOSOME": 5,
    "COHORT_NAME": "phenomexcan_other",
    "EQTL_MODEL": "MASHR",
    "REFERENCE_PANEL": "GTEX_V8"
   },
   "start_time": "2022-08-27T06:03:16.716158",
   "version": "2.2.2"
  }
 },
 "nbformat": 4,
 "nbformat_minor": 5
}
