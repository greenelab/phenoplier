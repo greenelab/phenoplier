{
 "cells": [
  {
   "cell_type": "markdown",
   "id": "7a6632fb",
   "metadata": {
    "papermill": {
     "duration": 0.019319,
     "end_time": "2022-08-27T06:03:18.447898",
     "exception": false,
     "start_time": "2022-08-27T06:03:18.428579",
     "status": "completed"
    },
    "tags": []
   },
   "source": [
    "# Description"
   ]
  },
  {
   "cell_type": "markdown",
   "id": "7097c346",
   "metadata": {
    "papermill": {
     "duration": 0.014211,
     "end_time": "2022-08-27T06:03:18.477730",
     "exception": false,
     "start_time": "2022-08-27T06:03:18.463519",
     "status": "completed"
    },
    "tags": []
   },
   "source": [
    "(Please, take a look at the README.md file in this directory for instructions on how to run this notebook)\n",
    "\n",
    "This notebook computes predicted expression correlations between all genes in the MultiPLIER models.\n",
    "\n",
    "It also has a parameter set for papermill to run on a single chromosome to run in parallel (see under `Settings` below).\n",
    "\n",
    "This notebook is not directly run. See README.md."
   ]
  },
  {
   "cell_type": "markdown",
   "id": "c61d8427",
   "metadata": {
    "papermill": {
     "duration": 0.013184,
     "end_time": "2022-08-27T06:03:18.504561",
     "exception": false,
     "start_time": "2022-08-27T06:03:18.491377",
     "status": "completed"
    },
    "tags": []
   },
   "source": [
    "# Modules"
   ]
  },
  {
   "cell_type": "code",
   "execution_count": 1,
   "id": "bbc0234f",
   "metadata": {
    "execution": {
     "iopub.execute_input": "2022-08-27T06:03:18.533347Z",
     "iopub.status.busy": "2022-08-27T06:03:18.533003Z",
     "iopub.status.idle": "2022-08-27T06:03:18.557744Z",
     "shell.execute_reply": "2022-08-27T06:03:18.557094Z"
    },
    "papermill": {
     "duration": 0.043115,
     "end_time": "2022-08-27T06:03:18.560105",
     "exception": false,
     "start_time": "2022-08-27T06:03:18.516990",
     "status": "completed"
    },
    "tags": []
   },
   "outputs": [],
   "source": [
    "%load_ext autoreload\n",
    "%autoreload 2"
   ]
  },
  {
   "cell_type": "code",
   "execution_count": 2,
   "id": "1d5f5a59",
   "metadata": {
    "execution": {
     "iopub.execute_input": "2022-08-27T06:03:18.582817Z",
     "iopub.status.busy": "2022-08-27T06:03:18.582575Z",
     "iopub.status.idle": "2022-08-27T06:03:20.348523Z",
     "shell.execute_reply": "2022-08-27T06:03:20.347895Z"
    },
    "papermill": {
     "duration": 1.78001,
     "end_time": "2022-08-27T06:03:20.350594",
     "exception": false,
     "start_time": "2022-08-27T06:03:18.570584",
     "status": "completed"
    },
    "tags": []
   },
   "outputs": [],
   "source": [
    "from random import sample, seed\n",
    "import warnings\n",
    "from pathlib import Path\n",
    "import pickle\n",
    "import traceback\n",
    "\n",
    "import numpy as np\n",
    "from scipy.spatial.distance import squareform\n",
    "import pandas as pd\n",
    "from tqdm import tqdm\n",
    "import matplotlib.pyplot as plt\n",
    "import seaborn as sns\n",
    "\n",
    "import conf\n",
    "from entity import Gene"
   ]
  },
  {
   "cell_type": "markdown",
   "id": "1eac24b5",
   "metadata": {
    "papermill": {
     "duration": 0.012101,
     "end_time": "2022-08-27T06:03:20.416525",
     "exception": false,
     "start_time": "2022-08-27T06:03:20.404424",
     "status": "completed"
    },
    "tags": []
   },
   "source": [
    "# Settings"
   ]
  },
  {
   "cell_type": "code",
   "execution_count": 3,
   "id": "ca4560ba",
   "metadata": {
    "execution": {
     "iopub.execute_input": "2022-08-27T06:03:20.439929Z",
     "iopub.status.busy": "2022-08-27T06:03:20.439645Z",
     "iopub.status.idle": "2022-08-27T06:03:20.460036Z",
     "shell.execute_reply": "2022-08-27T06:03:20.459482Z"
    },
    "papermill": {
     "duration": 0.033742,
     "end_time": "2022-08-27T06:03:20.461714",
     "exception": false,
     "start_time": "2022-08-27T06:03:20.427972",
     "status": "completed"
    },
    "tags": [
     "parameters"
    ]
   },
   "outputs": [],
   "source": [
    "# a cohort name (it could be something like UK_BIOBANK, etc)\n",
    "COHORT_NAME = None\n",
    "\n",
    "# reference panel such as 1000G or GTEX_V8\n",
    "REFERENCE_PANEL = None\n",
    "\n",
    "# predictions models such as MASHR or ELASTIC_NET\n",
    "EQTL_MODEL = None\n",
    "\n",
    "# this is the default value used in S-MultiXcan to select the\n",
    "# top principal components of the expression correlation matrix\n",
    "SMULTIXCAN_CONDITION_NUMBER = 30\n",
    "\n",
    "# specifies a single chromosome value\n",
    "CHROMOSOME = None\n",
    "\n",
    "# If True, computes the correlation between closeby genes only;\n",
    "# otherwise, it computes correlations for all genes in a chromosome\n",
    "COMPUTE_CORRELATIONS_WITHIN_DISTANCE = False\n",
    "\n",
    "# if True, then it will continue if a gene pair correlation fails,\n",
    "# printing the warning/error for debugging. If False, any warning/error\n",
    "# will be thrown\n",
    "DEBUG_MODE = False"
   ]
  },
  {
   "cell_type": "code",
   "execution_count": 4,
   "id": "8ae2349e",
   "metadata": {
    "execution": {
     "iopub.execute_input": "2022-08-27T06:03:20.502921Z",
     "iopub.status.busy": "2022-08-27T06:03:20.502691Z",
     "iopub.status.idle": "2022-08-27T06:03:20.519827Z",
     "shell.execute_reply": "2022-08-27T06:03:20.519304Z"
    },
    "papermill": {
     "duration": 0.03469,
     "end_time": "2022-08-27T06:03:20.521530",
     "exception": false,
     "start_time": "2022-08-27T06:03:20.486840",
     "status": "completed"
    },
    "tags": [
     "injected-parameters"
    ]
   },
   "outputs": [],
   "source": [
    "# Parameters\n",
    "COHORT_NAME = \"phenomexcan_other\"\n",
    "REFERENCE_PANEL = \"GTEX_V8\"\n",
    "EQTL_MODEL = \"MASHR\"\n",
    "CHROMOSOME = 15\n"
   ]
  },
  {
   "cell_type": "code",
   "execution_count": 5,
   "id": "3190631f-27fc-480f-b18e-571d580425a5",
   "metadata": {
    "execution": {
     "iopub.execute_input": "2022-08-27T06:03:20.553649Z",
     "iopub.status.busy": "2022-08-27T06:03:20.553447Z",
     "iopub.status.idle": "2022-08-27T06:03:20.573969Z",
     "shell.execute_reply": "2022-08-27T06:03:20.573427Z"
    },
    "papermill": {
     "duration": 0.040849,
     "end_time": "2022-08-27T06:03:20.575522",
     "exception": false,
     "start_time": "2022-08-27T06:03:20.534673",
     "status": "completed"
    },
    "tags": []
   },
   "outputs": [
    {
     "data": {
      "text/plain": [
       "'Cohort name: phenomexcan_other'"
      ]
     },
     "metadata": {},
     "output_type": "display_data"
    }
   ],
   "source": [
    "assert COHORT_NAME is not None and len(COHORT_NAME) > 0, \"A cohort name must be given\"\n",
    "\n",
    "COHORT_NAME = COHORT_NAME.lower()\n",
    "display(f\"Cohort name: {COHORT_NAME}\")"
   ]
  },
  {
   "cell_type": "code",
   "execution_count": 6,
   "id": "f53ba19b-0f93-4fa2-a047-63b375939d1a",
   "metadata": {
    "execution": {
     "iopub.execute_input": "2022-08-27T06:03:20.618271Z",
     "iopub.status.busy": "2022-08-27T06:03:20.618050Z",
     "iopub.status.idle": "2022-08-27T06:03:20.636761Z",
     "shell.execute_reply": "2022-08-27T06:03:20.636234Z"
    },
    "papermill": {
     "duration": 0.046799,
     "end_time": "2022-08-27T06:03:20.638338",
     "exception": false,
     "start_time": "2022-08-27T06:03:20.591539",
     "status": "completed"
    },
    "tags": []
   },
   "outputs": [
    {
     "data": {
      "text/plain": [
       "'Reference panel: GTEX_V8'"
      ]
     },
     "metadata": {},
     "output_type": "display_data"
    }
   ],
   "source": [
    "assert (\n",
    "    REFERENCE_PANEL is not None and len(REFERENCE_PANEL) > 0\n",
    "), \"A reference panel must be given\"\n",
    "\n",
    "display(f\"Reference panel: {REFERENCE_PANEL}\")"
   ]
  },
  {
   "cell_type": "code",
   "execution_count": 7,
   "id": "e024d130-c139-429a-9c6e-ccf149e297b0",
   "metadata": {
    "execution": {
     "iopub.execute_input": "2022-08-27T06:03:20.716251Z",
     "iopub.status.busy": "2022-08-27T06:03:20.716032Z",
     "iopub.status.idle": "2022-08-27T06:03:20.735093Z",
     "shell.execute_reply": "2022-08-27T06:03:20.734531Z"
    },
    "papermill": {
     "duration": 0.055822,
     "end_time": "2022-08-27T06:03:20.736652",
     "exception": false,
     "start_time": "2022-08-27T06:03:20.680830",
     "status": "completed"
    },
    "tags": []
   },
   "outputs": [
    {
     "data": {
      "text/plain": [
       "'eQTL model: MASHR) / mashr_'"
      ]
     },
     "metadata": {},
     "output_type": "display_data"
    }
   ],
   "source": [
    "assert (\n",
    "    EQTL_MODEL is not None and len(EQTL_MODEL) > 0\n",
    "), \"A prediction/eQTL model must be given\"\n",
    "\n",
    "EQTL_MODEL_FILES_PREFIX = conf.PHENOMEXCAN[\"PREDICTION_MODELS\"][f\"{EQTL_MODEL}_PREFIX\"]\n",
    "display(f\"eQTL model: {EQTL_MODEL}) / {EQTL_MODEL_FILES_PREFIX}\")"
   ]
  },
  {
   "cell_type": "code",
   "execution_count": 8,
   "id": "552a7f63-a18c-4d3e-bb6a-94f99b431291",
   "metadata": {
    "execution": {
     "iopub.execute_input": "2022-08-27T06:03:20.801321Z",
     "iopub.status.busy": "2022-08-27T06:03:20.800901Z",
     "iopub.status.idle": "2022-08-27T06:03:20.835993Z",
     "shell.execute_reply": "2022-08-27T06:03:20.835084Z"
    },
    "papermill": {
     "duration": 0.071451,
     "end_time": "2022-08-27T06:03:20.838513",
     "exception": false,
     "start_time": "2022-08-27T06:03:20.767062",
     "status": "completed"
    },
    "tags": []
   },
   "outputs": [
    {
     "data": {
      "text/plain": [
       "'S-MultiXcan condition number: 30'"
      ]
     },
     "metadata": {},
     "output_type": "display_data"
    }
   ],
   "source": [
    "assert (\n",
    "    SMULTIXCAN_CONDITION_NUMBER is not None and SMULTIXCAN_CONDITION_NUMBER > 0\n",
    "), \"The S-MultiXcan condition number (positive integer) must be given\"\n",
    "\n",
    "display(f\"S-MultiXcan condition number: {SMULTIXCAN_CONDITION_NUMBER}\")"
   ]
  },
  {
   "cell_type": "code",
   "execution_count": 9,
   "id": "f34a336f-548e-4afe-8955-90eaea4f42c6",
   "metadata": {
    "execution": {
     "iopub.execute_input": "2022-08-27T06:03:20.908613Z",
     "iopub.status.busy": "2022-08-27T06:03:20.908352Z",
     "iopub.status.idle": "2022-08-27T06:03:20.931140Z",
     "shell.execute_reply": "2022-08-27T06:03:20.930512Z"
    },
    "papermill": {
     "duration": 0.05984,
     "end_time": "2022-08-27T06:03:20.932873",
     "exception": false,
     "start_time": "2022-08-27T06:03:20.873033",
     "status": "completed"
    },
    "tags": []
   },
   "outputs": [
    {
     "data": {
      "text/plain": [
       "'Working on chromosome 15'"
      ]
     },
     "metadata": {},
     "output_type": "display_data"
    }
   ],
   "source": [
    "assert CHROMOSOME is not None and (\n",
    "    1 <= CHROMOSOME <= 22\n",
    "), \"You have to select one chromosome (format: number between 1 and 22)\"\n",
    "\n",
    "# CHROMOSOME = str(CHROMOSOME)\n",
    "display(f\"Working on chromosome {CHROMOSOME}\")"
   ]
  },
  {
   "cell_type": "code",
   "execution_count": 10,
   "id": "ab8e96e8-06b5-4363-9dcd-dc4d78cc27f7",
   "metadata": {
    "execution": {
     "iopub.execute_input": "2022-08-27T06:03:20.998985Z",
     "iopub.status.busy": "2022-08-27T06:03:20.998754Z",
     "iopub.status.idle": "2022-08-27T06:03:21.017670Z",
     "shell.execute_reply": "2022-08-27T06:03:21.017127Z"
    },
    "papermill": {
     "duration": 0.054176,
     "end_time": "2022-08-27T06:03:21.019249",
     "exception": false,
     "start_time": "2022-08-27T06:03:20.965073",
     "status": "completed"
    },
    "tags": []
   },
   "outputs": [
    {
     "data": {
      "text/plain": [
       "'Compute correlation within distance False'"
      ]
     },
     "metadata": {},
     "output_type": "display_data"
    }
   ],
   "source": [
    "display(f\"Compute correlation within distance {COMPUTE_CORRELATIONS_WITHIN_DISTANCE}\")"
   ]
  },
  {
   "cell_type": "code",
   "execution_count": 11,
   "id": "396392dc-0340-4540-9b02-e182b833f909",
   "metadata": {
    "execution": {
     "iopub.execute_input": "2022-08-27T06:03:21.084259Z",
     "iopub.status.busy": "2022-08-27T06:03:21.084040Z",
     "iopub.status.idle": "2022-08-27T06:03:21.157784Z",
     "shell.execute_reply": "2022-08-27T06:03:21.156879Z"
    },
    "papermill": {
     "duration": 0.108106,
     "end_time": "2022-08-27T06:03:21.160439",
     "exception": false,
     "start_time": "2022-08-27T06:03:21.052333",
     "status": "completed"
    },
    "tags": []
   },
   "outputs": [
    {
     "data": {
      "text/plain": [
       "'Using output dir base: /project/ritchie20/projects/phenoplier/base/results/gls/gene_corrs/cohorts/phenomexcan_other/gtex_v8/mashr'"
      ]
     },
     "metadata": {},
     "output_type": "display_data"
    }
   ],
   "source": [
    "OUTPUT_DIR_BASE = (\n",
    "    conf.RESULTS[\"GLS\"]\n",
    "    / \"gene_corrs\"\n",
    "    / \"cohorts\"\n",
    "    / COHORT_NAME\n",
    "    / REFERENCE_PANEL.lower()\n",
    "    / EQTL_MODEL.lower()\n",
    ")\n",
    "OUTPUT_DIR_BASE.mkdir(parents=True, exist_ok=True)\n",
    "\n",
    "display(f\"Using output dir base: {OUTPUT_DIR_BASE}\")"
   ]
  },
  {
   "cell_type": "markdown",
   "id": "d2ba085e",
   "metadata": {
    "papermill": {
     "duration": 0.048678,
     "end_time": "2022-08-27T06:03:21.252195",
     "exception": false,
     "start_time": "2022-08-27T06:03:21.203517",
     "status": "completed"
    },
    "tags": []
   },
   "source": [
    "# Load data"
   ]
  },
  {
   "cell_type": "markdown",
   "id": "7dcb8db7",
   "metadata": {
    "papermill": {
     "duration": 0.038567,
     "end_time": "2022-08-27T06:03:21.327959",
     "exception": false,
     "start_time": "2022-08-27T06:03:21.289392",
     "status": "completed"
    },
    "tags": []
   },
   "source": [
    "## GWAS variants"
   ]
  },
  {
   "cell_type": "code",
   "execution_count": 12,
   "id": "29434c4e-8cd3-4b9b-82e4-b5a251d9dd19",
   "metadata": {
    "execution": {
     "iopub.execute_input": "2022-08-27T06:03:21.396924Z",
     "iopub.status.busy": "2022-08-27T06:03:21.396615Z",
     "iopub.status.idle": "2022-08-27T06:03:24.767775Z",
     "shell.execute_reply": "2022-08-27T06:03:24.766900Z"
    },
    "papermill": {
     "duration": 3.403797,
     "end_time": "2022-08-27T06:03:24.769965",
     "exception": false,
     "start_time": "2022-08-27T06:03:21.366168",
     "status": "completed"
    },
    "tags": []
   },
   "outputs": [],
   "source": [
    "with open(OUTPUT_DIR_BASE / \"gwas_variant_ids.pkl\", \"rb\") as handle:\n",
    "    gwas_variants_ids_set = pickle.load(handle)"
   ]
  },
  {
   "cell_type": "code",
   "execution_count": 13,
   "id": "b9d9dec2-4a76-4bf9-bde2-e24c95acb8a0",
   "metadata": {
    "execution": {
     "iopub.execute_input": "2022-08-27T06:03:24.794478Z",
     "iopub.status.busy": "2022-08-27T06:03:24.794253Z",
     "iopub.status.idle": "2022-08-27T06:03:24.817991Z",
     "shell.execute_reply": "2022-08-27T06:03:24.817457Z"
    },
    "papermill": {
     "duration": 0.037143,
     "end_time": "2022-08-27T06:03:24.819523",
     "exception": false,
     "start_time": "2022-08-27T06:03:24.782380",
     "status": "completed"
    },
    "tags": []
   },
   "outputs": [
    {
     "data": {
      "text/plain": [
       "8865800"
      ]
     },
     "execution_count": 13,
     "metadata": {},
     "output_type": "execute_result"
    }
   ],
   "source": [
    "len(gwas_variants_ids_set)"
   ]
  },
  {
   "cell_type": "code",
   "execution_count": 14,
   "id": "4235b06a-6034-4ee4-a0a3-2ae35d122418",
   "metadata": {
    "execution": {
     "iopub.execute_input": "2022-08-27T06:03:24.841135Z",
     "iopub.status.busy": "2022-08-27T06:03:24.840921Z",
     "iopub.status.idle": "2022-08-27T06:03:25.498978Z",
     "shell.execute_reply": "2022-08-27T06:03:25.498391Z"
    },
    "papermill": {
     "duration": 0.670555,
     "end_time": "2022-08-27T06:03:25.500620",
     "exception": false,
     "start_time": "2022-08-27T06:03:24.830065",
     "status": "completed"
    },
    "tags": []
   },
   "outputs": [
    {
     "data": {
      "text/plain": [
       "['chr7_404116_G_A_b38',\n",
       " 'chr20_17194307_G_A_b38',\n",
       " 'chr22_49475432_G_A_b38',\n",
       " 'chr10_76426584_T_C_b38',\n",
       " 'chr4_76826088_T_TA_b38']"
      ]
     },
     "execution_count": 14,
     "metadata": {},
     "output_type": "execute_result"
    }
   ],
   "source": [
    "list(gwas_variants_ids_set)[:5]"
   ]
  },
  {
   "cell_type": "markdown",
   "id": "07866999-2305-41f9-a144-e69c9122c212",
   "metadata": {
    "papermill": {
     "duration": 0.010476,
     "end_time": "2022-08-27T06:03:25.522069",
     "exception": false,
     "start_time": "2022-08-27T06:03:25.511593",
     "status": "completed"
    },
    "tags": []
   },
   "source": [
    "## S-PrediXcan tissue models"
   ]
  },
  {
   "cell_type": "code",
   "execution_count": 15,
   "id": "780611d9-77c8-405f-90a4-f271f7b09397",
   "metadata": {
    "execution": {
     "iopub.execute_input": "2022-08-27T06:03:25.543252Z",
     "iopub.status.busy": "2022-08-27T06:03:25.543025Z",
     "iopub.status.idle": "2022-08-27T06:03:26.437647Z",
     "shell.execute_reply": "2022-08-27T06:03:26.437017Z"
    },
    "papermill": {
     "duration": 0.907708,
     "end_time": "2022-08-27T06:03:26.439700",
     "exception": false,
     "start_time": "2022-08-27T06:03:25.531992",
     "status": "completed"
    },
    "tags": []
   },
   "outputs": [],
   "source": [
    "spredixcan_genes_models = pd.read_pickle(OUTPUT_DIR_BASE / \"gene_tissues.pkl\")"
   ]
  },
  {
   "cell_type": "code",
   "execution_count": 16,
   "id": "726dd1f6-9557-4225-91fa-b3b879ea96e1",
   "metadata": {
    "execution": {
     "iopub.execute_input": "2022-08-27T06:03:26.462155Z",
     "iopub.status.busy": "2022-08-27T06:03:26.461940Z",
     "iopub.status.idle": "2022-08-27T06:03:26.483268Z",
     "shell.execute_reply": "2022-08-27T06:03:26.482711Z"
    },
    "papermill": {
     "duration": 0.03447,
     "end_time": "2022-08-27T06:03:26.484806",
     "exception": false,
     "start_time": "2022-08-27T06:03:26.450336",
     "status": "completed"
    },
    "tags": []
   },
   "outputs": [
    {
     "data": {
      "text/plain": [
       "(6450, 3)"
      ]
     },
     "execution_count": 16,
     "metadata": {},
     "output_type": "execute_result"
    }
   ],
   "source": [
    "spredixcan_genes_models.shape"
   ]
  },
  {
   "cell_type": "code",
   "execution_count": 17,
   "id": "944a1b48-222c-4eb0-b252-b9de2cbca215",
   "metadata": {
    "execution": {
     "iopub.execute_input": "2022-08-27T06:03:26.515630Z",
     "iopub.status.busy": "2022-08-27T06:03:26.515428Z",
     "iopub.status.idle": "2022-08-27T06:03:26.545540Z",
     "shell.execute_reply": "2022-08-27T06:03:26.545008Z"
    },
    "papermill": {
     "duration": 0.049233,
     "end_time": "2022-08-27T06:03:26.547105",
     "exception": false,
     "start_time": "2022-08-27T06:03:26.497872",
     "status": "completed"
    },
    "tags": []
   },
   "outputs": [
    {
     "data": {
      "text/html": [
       "<div>\n",
       "<style scoped>\n",
       "    .dataframe tbody tr th:only-of-type {\n",
       "        vertical-align: middle;\n",
       "    }\n",
       "\n",
       "    .dataframe tbody tr th {\n",
       "        vertical-align: top;\n",
       "    }\n",
       "\n",
       "    .dataframe thead th {\n",
       "        text-align: right;\n",
       "    }\n",
       "</style>\n",
       "<table border=\"1\" class=\"dataframe\">\n",
       "  <thead>\n",
       "    <tr style=\"text-align: right;\">\n",
       "      <th></th>\n",
       "      <th>gene_name</th>\n",
       "      <th>tissue</th>\n",
       "      <th>n_tissues</th>\n",
       "    </tr>\n",
       "    <tr>\n",
       "      <th>gene_id</th>\n",
       "      <th></th>\n",
       "      <th></th>\n",
       "      <th></th>\n",
       "    </tr>\n",
       "  </thead>\n",
       "  <tbody>\n",
       "    <tr>\n",
       "      <th>ENSG00000000419</th>\n",
       "      <td>DPM1</td>\n",
       "      <td>(Cells_Cultured_fibroblasts, Brain_Hypothalamu...</td>\n",
       "      <td>3</td>\n",
       "    </tr>\n",
       "    <tr>\n",
       "      <th>ENSG00000000938</th>\n",
       "      <td>FGR</td>\n",
       "      <td>(Adipose_Visceral_Omentum, Brain_Spinal_cord_c...</td>\n",
       "      <td>36</td>\n",
       "    </tr>\n",
       "    <tr>\n",
       "      <th>ENSG00000000971</th>\n",
       "      <td>CFH</td>\n",
       "      <td>(Artery_Coronary, Brain_Spinal_cord_cervical_c...</td>\n",
       "      <td>34</td>\n",
       "    </tr>\n",
       "    <tr>\n",
       "      <th>ENSG00000001084</th>\n",
       "      <td>GCLC</td>\n",
       "      <td>(Artery_Coronary, Brain_Frontal_Cortex_BA9, Ar...</td>\n",
       "      <td>33</td>\n",
       "    </tr>\n",
       "    <tr>\n",
       "      <th>ENSG00000001167</th>\n",
       "      <td>NFYA</td>\n",
       "      <td>(Adipose_Visceral_Omentum, Artery_Coronary, Br...</td>\n",
       "      <td>40</td>\n",
       "    </tr>\n",
       "  </tbody>\n",
       "</table>\n",
       "</div>"
      ],
      "text/plain": [
       "                gene_name                                             tissue  \\\n",
       "gene_id                                                                        \n",
       "ENSG00000000419      DPM1  (Cells_Cultured_fibroblasts, Brain_Hypothalamu...   \n",
       "ENSG00000000938       FGR  (Adipose_Visceral_Omentum, Brain_Spinal_cord_c...   \n",
       "ENSG00000000971       CFH  (Artery_Coronary, Brain_Spinal_cord_cervical_c...   \n",
       "ENSG00000001084      GCLC  (Artery_Coronary, Brain_Frontal_Cortex_BA9, Ar...   \n",
       "ENSG00000001167      NFYA  (Adipose_Visceral_Omentum, Artery_Coronary, Br...   \n",
       "\n",
       "                 n_tissues  \n",
       "gene_id                     \n",
       "ENSG00000000419          3  \n",
       "ENSG00000000938         36  \n",
       "ENSG00000000971         34  \n",
       "ENSG00000001084         33  \n",
       "ENSG00000001167         40  "
      ]
     },
     "execution_count": 17,
     "metadata": {},
     "output_type": "execute_result"
    }
   ],
   "source": [
    "spredixcan_genes_models.head()"
   ]
  },
  {
   "cell_type": "code",
   "execution_count": 18,
   "id": "d1c11bb1-be0b-4f40-b360-633d6827109f",
   "metadata": {
    "execution": {
     "iopub.execute_input": "2022-08-27T06:03:26.572529Z",
     "iopub.status.busy": "2022-08-27T06:03:26.572326Z",
     "iopub.status.idle": "2022-08-27T06:03:26.589820Z",
     "shell.execute_reply": "2022-08-27T06:03:26.589311Z"
    },
    "papermill": {
     "duration": 0.03247,
     "end_time": "2022-08-27T06:03:26.591509",
     "exception": false,
     "start_time": "2022-08-27T06:03:26.559039",
     "status": "completed"
    },
    "tags": []
   },
   "outputs": [],
   "source": [
    "assert spredixcan_genes_models.index.is_unique"
   ]
  },
  {
   "cell_type": "markdown",
   "id": "a5b5092c-a13e-47c4-a92a-480fcc08f3ae",
   "metadata": {
    "papermill": {
     "duration": 0.014777,
     "end_time": "2022-08-27T06:03:26.620588",
     "exception": false,
     "start_time": "2022-08-27T06:03:26.605811",
     "status": "completed"
    },
    "tags": []
   },
   "source": [
    "## Gene info"
   ]
  },
  {
   "cell_type": "code",
   "execution_count": 19,
   "id": "7d6bb224-88e9-4358-ac10-43a41d92cdad",
   "metadata": {
    "execution": {
     "iopub.execute_input": "2022-08-27T06:03:26.650703Z",
     "iopub.status.busy": "2022-08-27T06:03:26.650495Z",
     "iopub.status.idle": "2022-08-27T06:03:26.680242Z",
     "shell.execute_reply": "2022-08-27T06:03:26.679687Z"
    },
    "papermill": {
     "duration": 0.04753,
     "end_time": "2022-08-27T06:03:26.681923",
     "exception": false,
     "start_time": "2022-08-27T06:03:26.634393",
     "status": "completed"
    },
    "tags": []
   },
   "outputs": [],
   "source": [
    "genes_info = pd.read_pickle(OUTPUT_DIR_BASE / \"genes_info.pkl\")"
   ]
  },
  {
   "cell_type": "code",
   "execution_count": 20,
   "id": "9e32abfa-546d-483e-8c18-d526e9e05903",
   "metadata": {
    "execution": {
     "iopub.execute_input": "2022-08-27T06:03:26.718805Z",
     "iopub.status.busy": "2022-08-27T06:03:26.718603Z",
     "iopub.status.idle": "2022-08-27T06:03:26.737139Z",
     "shell.execute_reply": "2022-08-27T06:03:26.736593Z"
    },
    "papermill": {
     "duration": 0.039264,
     "end_time": "2022-08-27T06:03:26.738679",
     "exception": false,
     "start_time": "2022-08-27T06:03:26.699415",
     "status": "completed"
    },
    "tags": []
   },
   "outputs": [
    {
     "data": {
      "text/plain": [
       "(6450, 7)"
      ]
     },
     "execution_count": 20,
     "metadata": {},
     "output_type": "execute_result"
    }
   ],
   "source": [
    "genes_info.shape"
   ]
  },
  {
   "cell_type": "code",
   "execution_count": 21,
   "id": "d16c3e92-85ec-468a-9a56-e25a9774a1cb",
   "metadata": {
    "execution": {
     "iopub.execute_input": "2022-08-27T06:03:26.784148Z",
     "iopub.status.busy": "2022-08-27T06:03:26.783940Z",
     "iopub.status.idle": "2022-08-27T06:03:26.807257Z",
     "shell.execute_reply": "2022-08-27T06:03:26.806687Z"
    },
    "papermill": {
     "duration": 0.052633,
     "end_time": "2022-08-27T06:03:26.808794",
     "exception": false,
     "start_time": "2022-08-27T06:03:26.756161",
     "status": "completed"
    },
    "tags": []
   },
   "outputs": [
    {
     "data": {
      "text/html": [
       "<div>\n",
       "<style scoped>\n",
       "    .dataframe tbody tr th:only-of-type {\n",
       "        vertical-align: middle;\n",
       "    }\n",
       "\n",
       "    .dataframe tbody tr th {\n",
       "        vertical-align: top;\n",
       "    }\n",
       "\n",
       "    .dataframe thead th {\n",
       "        text-align: right;\n",
       "    }\n",
       "</style>\n",
       "<table border=\"1\" class=\"dataframe\">\n",
       "  <thead>\n",
       "    <tr style=\"text-align: right;\">\n",
       "      <th></th>\n",
       "      <th>name</th>\n",
       "      <th>id</th>\n",
       "      <th>chr</th>\n",
       "      <th>band</th>\n",
       "      <th>start_position</th>\n",
       "      <th>end_position</th>\n",
       "      <th>gene_length</th>\n",
       "    </tr>\n",
       "  </thead>\n",
       "  <tbody>\n",
       "    <tr>\n",
       "      <th>0</th>\n",
       "      <td>FUS</td>\n",
       "      <td>ENSG00000089280</td>\n",
       "      <td>16</td>\n",
       "      <td>16p11.2</td>\n",
       "      <td>31180110</td>\n",
       "      <td>31194871</td>\n",
       "      <td>14761</td>\n",
       "    </tr>\n",
       "    <tr>\n",
       "      <th>1</th>\n",
       "      <td>PI4K2A</td>\n",
       "      <td>ENSG00000155252</td>\n",
       "      <td>10</td>\n",
       "      <td>10q24.2</td>\n",
       "      <td>97640686</td>\n",
       "      <td>97676434</td>\n",
       "      <td>35748</td>\n",
       "    </tr>\n",
       "    <tr>\n",
       "      <th>2</th>\n",
       "      <td>PER1</td>\n",
       "      <td>ENSG00000179094</td>\n",
       "      <td>17</td>\n",
       "      <td>17p13.1</td>\n",
       "      <td>8140472</td>\n",
       "      <td>8156506</td>\n",
       "      <td>16034</td>\n",
       "    </tr>\n",
       "    <tr>\n",
       "      <th>3</th>\n",
       "      <td>GBP6</td>\n",
       "      <td>ENSG00000183347</td>\n",
       "      <td>1</td>\n",
       "      <td>1p22.2</td>\n",
       "      <td>89364058</td>\n",
       "      <td>89386461</td>\n",
       "      <td>22403</td>\n",
       "    </tr>\n",
       "    <tr>\n",
       "      <th>4</th>\n",
       "      <td>GPAA1</td>\n",
       "      <td>ENSG00000197858</td>\n",
       "      <td>8</td>\n",
       "      <td>8q24.3</td>\n",
       "      <td>144082590</td>\n",
       "      <td>144086216</td>\n",
       "      <td>3626</td>\n",
       "    </tr>\n",
       "  </tbody>\n",
       "</table>\n",
       "</div>"
      ],
      "text/plain": [
       "     name               id  chr     band  start_position  end_position  \\\n",
       "0     FUS  ENSG00000089280   16  16p11.2        31180110      31194871   \n",
       "1  PI4K2A  ENSG00000155252   10  10q24.2        97640686      97676434   \n",
       "2    PER1  ENSG00000179094   17  17p13.1         8140472       8156506   \n",
       "3    GBP6  ENSG00000183347    1   1p22.2        89364058      89386461   \n",
       "4   GPAA1  ENSG00000197858    8   8q24.3       144082590     144086216   \n",
       "\n",
       "   gene_length  \n",
       "0        14761  \n",
       "1        35748  \n",
       "2        16034  \n",
       "3        22403  \n",
       "4         3626  "
      ]
     },
     "execution_count": 21,
     "metadata": {},
     "output_type": "execute_result"
    }
   ],
   "source": [
    "genes_info.head()"
   ]
  },
  {
   "cell_type": "markdown",
   "id": "d3843e06",
   "metadata": {
    "papermill": {
     "duration": 0.039798,
     "end_time": "2022-08-27T06:03:26.894683",
     "exception": false,
     "start_time": "2022-08-27T06:03:26.854885",
     "status": "completed"
    },
    "tags": []
   },
   "source": [
    "# Compute correlations"
   ]
  },
  {
   "cell_type": "code",
   "execution_count": 22,
   "id": "cb859c15-d1f3-4006-a74c-2b83c0db9611",
   "metadata": {
    "execution": {
     "iopub.execute_input": "2022-08-27T06:03:26.961768Z",
     "iopub.status.busy": "2022-08-27T06:03:26.961472Z",
     "iopub.status.idle": "2022-08-27T06:03:26.991267Z",
     "shell.execute_reply": "2022-08-27T06:03:26.990602Z"
    },
    "papermill": {
     "duration": 0.063299,
     "end_time": "2022-08-27T06:03:26.993202",
     "exception": false,
     "start_time": "2022-08-27T06:03:26.929903",
     "status": "completed"
    },
    "tags": []
   },
   "outputs": [
    {
     "data": {
      "text/plain": [
       "PosixPath('/project/ritchie20/projects/phenoplier/base/results/gls/gene_corrs/cohorts/phenomexcan_other/gtex_v8/mashr/by_chr/gene_corrs-chr15.pkl')"
      ]
     },
     "metadata": {},
     "output_type": "display_data"
    }
   ],
   "source": [
    "output_dir = OUTPUT_DIR_BASE / \"by_chr\"\n",
    "output_dir.mkdir(exist_ok=True, parents=True)\n",
    "output_file = output_dir / f\"gene_corrs-chr{CHROMOSOME}.pkl\"\n",
    "display(output_file)"
   ]
  },
  {
   "cell_type": "code",
   "execution_count": 23,
   "id": "aa674fe4-6794-4eed-98fa-32b39d1d4ace",
   "metadata": {
    "execution": {
     "iopub.execute_input": "2022-08-27T06:03:27.056247Z",
     "iopub.status.busy": "2022-08-27T06:03:27.056026Z",
     "iopub.status.idle": "2022-08-27T06:03:27.072710Z",
     "shell.execute_reply": "2022-08-27T06:03:27.072208Z"
    },
    "papermill": {
     "duration": 0.043666,
     "end_time": "2022-08-27T06:03:27.074393",
     "exception": false,
     "start_time": "2022-08-27T06:03:27.030727",
     "status": "completed"
    },
    "tags": []
   },
   "outputs": [],
   "source": [
    "warnings.filterwarnings(\"error\")"
   ]
  },
  {
   "cell_type": "code",
   "execution_count": 24,
   "id": "44d5450b-3baf-43f1-9e2e-4b06f1a785f8",
   "metadata": {
    "execution": {
     "iopub.execute_input": "2022-08-27T06:03:27.140303Z",
     "iopub.status.busy": "2022-08-27T06:03:27.140085Z",
     "iopub.status.idle": "2022-08-27T06:03:27.157579Z",
     "shell.execute_reply": "2022-08-27T06:03:27.157036Z"
    },
    "papermill": {
     "duration": 0.060903,
     "end_time": "2022-08-27T06:03:27.159274",
     "exception": false,
     "start_time": "2022-08-27T06:03:27.098371",
     "status": "completed"
    },
    "tags": []
   },
   "outputs": [],
   "source": [
    "# standard checks\n",
    "all_chrs = genes_info[\"chr\"].dropna().unique()\n",
    "assert all_chrs.shape[0] == 22\n",
    "\n",
    "# select chromosome given by the user\n",
    "assert CHROMOSOME in all_chrs"
   ]
  },
  {
   "cell_type": "code",
   "execution_count": 25,
   "id": "2d7c043c-92a7-4d35-991b-fa69ac1e0268",
   "metadata": {
    "execution": {
     "iopub.execute_input": "2022-08-27T06:03:27.214999Z",
     "iopub.status.busy": "2022-08-27T06:03:27.214770Z",
     "iopub.status.idle": "2022-08-27T06:03:27.345678Z",
     "shell.execute_reply": "2022-08-27T06:03:27.345160Z"
    },
    "papermill": {
     "duration": 0.15978,
     "end_time": "2022-08-27T06:03:27.347362",
     "exception": false,
     "start_time": "2022-08-27T06:03:27.187582",
     "status": "completed"
    },
    "tags": []
   },
   "outputs": [
    {
     "name": "stdout",
     "output_type": "stream",
     "text": [
      "Number of genes in chromosome: 187\n"
     ]
    }
   ],
   "source": [
    "# run only on the chromosome specified\n",
    "all_chrs = [CHROMOSOME]\n",
    "genes_chr = genes_info[genes_info[\"chr\"] == CHROMOSOME]\n",
    "\n",
    "# For testing purposes\n",
    "# genes_chr = genes_chr.sample(n=20)\n",
    "\n",
    "print(f\"Number of genes in chromosome: {genes_chr.shape[0]}\", flush=True)"
   ]
  },
  {
   "cell_type": "code",
   "execution_count": 26,
   "id": "916015d8-2979-46d3-a9b9-1cf5a0932c6a",
   "metadata": {
    "execution": {
     "iopub.execute_input": "2022-08-27T06:03:27.392220Z",
     "iopub.status.busy": "2022-08-27T06:03:27.391998Z",
     "iopub.status.idle": "2022-08-27T06:03:27.409341Z",
     "shell.execute_reply": "2022-08-27T06:03:27.408776Z"
    },
    "papermill": {
     "duration": 0.03778,
     "end_time": "2022-08-27T06:03:27.411014",
     "exception": false,
     "start_time": "2022-08-27T06:03:27.373234",
     "status": "completed"
    },
    "tags": []
   },
   "outputs": [],
   "source": [
    "# sort genes by starting position to make visualizations better later\n",
    "genes_chr = genes_chr.sort_values(\"start_position\")"
   ]
  },
  {
   "cell_type": "code",
   "execution_count": 27,
   "id": "a38aa74a-8ad3-47f6-8ef9-56be0e011774",
   "metadata": {
    "execution": {
     "iopub.execute_input": "2022-08-27T06:03:27.451579Z",
     "iopub.status.busy": "2022-08-27T06:03:27.451376Z",
     "iopub.status.idle": "2022-08-27T06:03:27.468821Z",
     "shell.execute_reply": "2022-08-27T06:03:27.468263Z"
    },
    "papermill": {
     "duration": 0.036859,
     "end_time": "2022-08-27T06:03:27.470496",
     "exception": false,
     "start_time": "2022-08-27T06:03:27.433637",
     "status": "completed"
    },
    "tags": []
   },
   "outputs": [],
   "source": [
    "gene_chr_objs = [Gene(ensembl_id=gene_id) for gene_id in genes_chr[\"id\"]]"
   ]
  },
  {
   "cell_type": "code",
   "execution_count": 28,
   "id": "570f974f-13c3-42b6-ad3a-ce99ca885c1a",
   "metadata": {
    "execution": {
     "iopub.execute_input": "2022-08-27T06:03:27.505434Z",
     "iopub.status.busy": "2022-08-27T06:03:27.505232Z",
     "iopub.status.idle": "2022-08-27T06:03:27.523652Z",
     "shell.execute_reply": "2022-08-27T06:03:27.523118Z"
    },
    "papermill": {
     "duration": 0.037231,
     "end_time": "2022-08-27T06:03:27.525339",
     "exception": false,
     "start_time": "2022-08-27T06:03:27.488108",
     "status": "completed"
    },
    "tags": []
   },
   "outputs": [
    {
     "name": "stdout",
     "output_type": "stream",
     "text": [
      "Number of gene combinations: 17391\n"
     ]
    }
   ],
   "source": [
    "n = len(gene_chr_objs)\n",
    "n_comb = int(n * (n - 1) / 2.0)\n",
    "print(f\"Number of gene combinations: {n_comb}\", flush=True)"
   ]
  },
  {
   "cell_type": "code",
   "execution_count": 29,
   "id": "cdbb90a1",
   "metadata": {
    "execution": {
     "iopub.execute_input": "2022-08-27T06:03:27.566930Z",
     "iopub.status.busy": "2022-08-27T06:03:27.566702Z",
     "iopub.status.idle": "2022-08-27T06:30:03.386109Z",
     "shell.execute_reply": "2022-08-27T06:30:03.385067Z"
    },
    "papermill": {
     "duration": 1595.843309,
     "end_time": "2022-08-27T06:30:03.388669",
     "exception": false,
     "start_time": "2022-08-27T06:03:27.545360",
     "status": "completed"
    },
    "tags": []
   },
   "outputs": [
    {
     "name": "stderr",
     "output_type": "stream",
     "text": [
      "ENSG00000185418 / ENSG00000185418: : 17578it [26:35, 11.02it/s]\n"
     ]
    },
    {
     "data": {
      "text/plain": [
       "PosixPath('/project/ritchie20/projects/phenoplier/base/results/gls/gene_corrs/cohorts/phenomexcan_other/gtex_v8/mashr/by_chr/gene_corrs-chr15.pkl')"
      ]
     },
     "metadata": {},
     "output_type": "display_data"
    }
   ],
   "source": [
    "gene_corrs = []\n",
    "gene_corrs_data = np.full(\n",
    "    (n, n),\n",
    "    np.nan,\n",
    "    dtype=np.float64,\n",
    ")\n",
    "\n",
    "i = 0\n",
    "with tqdm(ncols=100, total=n_comb) as pbar:\n",
    "    for gene1_idx in range(0, len(gene_chr_objs)):\n",
    "        gene1_obj = gene_chr_objs[gene1_idx]\n",
    "        gene1_tissues = spredixcan_genes_models.loc[gene1_obj.ensembl_id, \"tissue\"]\n",
    "\n",
    "        for gene2_idx in range(gene1_idx, len(gene_chr_objs)):\n",
    "            gene2_obj = gene_chr_objs[gene2_idx]\n",
    "            gene2_tissues = spredixcan_genes_models.loc[gene2_obj.ensembl_id, \"tissue\"]\n",
    "\n",
    "            pbar.set_description(f\"{gene1_obj.ensembl_id} / {gene2_obj.ensembl_id}\")\n",
    "\n",
    "            try:\n",
    "                r = gene1_obj.get_ssm_correlation(\n",
    "                    other_gene=gene2_obj,\n",
    "                    tissues=gene1_tissues,\n",
    "                    other_tissues=gene2_tissues,\n",
    "                    snps_subset=gwas_variants_ids_set,\n",
    "                    condition_number=SMULTIXCAN_CONDITION_NUMBER,\n",
    "                    reference_panel=REFERENCE_PANEL,\n",
    "                    model_type=EQTL_MODEL,\n",
    "                    use_within_distance=COMPUTE_CORRELATIONS_WITHIN_DISTANCE,\n",
    "                )\n",
    "\n",
    "                if r is None:\n",
    "                    # if r is None, it's very likely because:\n",
    "                    #  * one of the genes has no prediction models\n",
    "                    #  * all the SNPs predictors for the gene are not present in the reference\n",
    "                    #    panel\n",
    "\n",
    "                    r = 0.0\n",
    "\n",
    "                gene_corrs.append(r)\n",
    "\n",
    "                gene_corrs_data[gene1_idx, gene2_idx] = r\n",
    "                gene_corrs_data[gene2_idx, gene1_idx] = r\n",
    "            except Warning as e:\n",
    "                if not DEBUG_MODE:\n",
    "                    raise e\n",
    "\n",
    "                print(\n",
    "                    f\"RuntimeWarning for genes {gene1_obj.ensembl_id} and {gene2_obj.ensembl_id}\",\n",
    "                    flush=True,\n",
    "                )\n",
    "                print(traceback.format_exc(), flush=True)\n",
    "\n",
    "                gene_corrs.append(np.nan)\n",
    "            except Exception as e:\n",
    "                if not DEBUG_MODE:\n",
    "                    raise e\n",
    "\n",
    "                print(\n",
    "                    f\"Exception for genes {gene1_obj.ensembl_id} and {gene2_obj.ensembl_id}\",\n",
    "                    flush=True,\n",
    "                )\n",
    "                print(traceback.format_exc(), flush=True)\n",
    "\n",
    "                gene_corrs.append(np.nan)\n",
    "\n",
    "            pbar.update(1)\n",
    "\n",
    "# create a pandas series\n",
    "gene_corrs_flat = pd.Series(gene_corrs)\n",
    "\n",
    "# save\n",
    "# FIXME: consider saving only the condenced matrix here. See here for\n",
    "# more details: https://github.com/greenelab/phenoplier/pull/38#discussion_r634600813\n",
    "# gene_corrs_data = squareform(np.array(gene_corrs, dtype=np.float64))\n",
    "# np.fill_diagonal(gene_corrs_data, 1.0)\n",
    "\n",
    "gene_chr_ids = [g.ensembl_id for g in gene_chr_objs]\n",
    "gene_corrs_df = pd.DataFrame(\n",
    "    data=gene_corrs_data,\n",
    "    index=gene_chr_ids,\n",
    "    columns=gene_chr_ids,\n",
    ")\n",
    "\n",
    "output_dir.mkdir(exist_ok=True, parents=True)\n",
    "display(output_file)\n",
    "\n",
    "gene_corrs_df.to_pickle(output_file)"
   ]
  },
  {
   "cell_type": "markdown",
   "id": "faa67b51-5373-470f-aa72-2ded53fa6dfe",
   "metadata": {
    "papermill": {
     "duration": 1.131382,
     "end_time": "2022-08-27T06:30:05.662284",
     "exception": false,
     "start_time": "2022-08-27T06:30:04.530902",
     "status": "completed"
    },
    "tags": []
   },
   "source": [
    "# Testing"
   ]
  },
  {
   "cell_type": "code",
   "execution_count": 30,
   "id": "14f7d046-4b55-4896-a56b-990127bcc388",
   "metadata": {
    "execution": {
     "iopub.execute_input": "2022-08-27T06:30:07.907560Z",
     "iopub.status.busy": "2022-08-27T06:30:07.907273Z",
     "iopub.status.idle": "2022-08-27T06:30:08.123696Z",
     "shell.execute_reply": "2022-08-27T06:30:08.123169Z"
    },
    "papermill": {
     "duration": 1.339942,
     "end_time": "2022-08-27T06:30:08.125249",
     "exception": false,
     "start_time": "2022-08-27T06:30:06.785307",
     "status": "completed"
    },
    "tags": []
   },
   "outputs": [
    {
     "data": {
      "text/plain": [
       "(187, 187)"
      ]
     },
     "execution_count": 30,
     "metadata": {},
     "output_type": "execute_result"
    }
   ],
   "source": [
    "gene_corrs_df.shape"
   ]
  },
  {
   "cell_type": "code",
   "execution_count": 31,
   "id": "c7d15414-3297-4537-a7c6-7588c0baeb75",
   "metadata": {
    "execution": {
     "iopub.execute_input": "2022-08-27T06:30:10.414095Z",
     "iopub.status.busy": "2022-08-27T06:30:10.413813Z",
     "iopub.status.idle": "2022-08-27T06:30:10.451010Z",
     "shell.execute_reply": "2022-08-27T06:30:10.450472Z"
    },
    "papermill": {
     "duration": 1.159937,
     "end_time": "2022-08-27T06:30:10.452553",
     "exception": false,
     "start_time": "2022-08-27T06:30:09.292616",
     "status": "completed"
    },
    "tags": []
   },
   "outputs": [
    {
     "data": {
      "text/html": [
       "<div>\n",
       "<style scoped>\n",
       "    .dataframe tbody tr th:only-of-type {\n",
       "        vertical-align: middle;\n",
       "    }\n",
       "\n",
       "    .dataframe tbody tr th {\n",
       "        vertical-align: top;\n",
       "    }\n",
       "\n",
       "    .dataframe thead th {\n",
       "        text-align: right;\n",
       "    }\n",
       "</style>\n",
       "<table border=\"1\" class=\"dataframe\">\n",
       "  <thead>\n",
       "    <tr style=\"text-align: right;\">\n",
       "      <th></th>\n",
       "      <th>ENSG00000273749</th>\n",
       "      <th>ENSG00000275835</th>\n",
       "      <th>ENSG00000182636</th>\n",
       "      <th>ENSG00000273173</th>\n",
       "      <th>ENSG00000114062</th>\n",
       "      <th>ENSG00000206190</th>\n",
       "      <th>ENSG00000128731</th>\n",
       "      <th>ENSG00000034053</th>\n",
       "      <th>ENSG00000198690</th>\n",
       "      <th>ENSG00000166912</th>\n",
       "      <th>...</th>\n",
       "      <th>ENSG00000182175</th>\n",
       "      <th>ENSG00000140450</th>\n",
       "      <th>ENSG00000140443</th>\n",
       "      <th>ENSG00000068305</th>\n",
       "      <th>ENSG00000183475</th>\n",
       "      <th>ENSG00000184254</th>\n",
       "      <th>ENSG00000131873</th>\n",
       "      <th>ENSG00000131876</th>\n",
       "      <th>ENSG00000140479</th>\n",
       "      <th>ENSG00000185418</th>\n",
       "    </tr>\n",
       "  </thead>\n",
       "  <tbody>\n",
       "    <tr>\n",
       "      <th>ENSG00000273749</th>\n",
       "      <td>1.000000</td>\n",
       "      <td>0.059892</td>\n",
       "      <td>0.007858</td>\n",
       "      <td>0.010011</td>\n",
       "      <td>0.008227</td>\n",
       "      <td>0.017099</td>\n",
       "      <td>0.007910</td>\n",
       "      <td>0.012677</td>\n",
       "      <td>0.010963</td>\n",
       "      <td>0.009146</td>\n",
       "      <td>...</td>\n",
       "      <td>0.013049</td>\n",
       "      <td>0.008654</td>\n",
       "      <td>0.015235</td>\n",
       "      <td>0.012714</td>\n",
       "      <td>0.009655</td>\n",
       "      <td>0.016528</td>\n",
       "      <td>0.013432</td>\n",
       "      <td>0.006835</td>\n",
       "      <td>0.016496</td>\n",
       "      <td>0.011815</td>\n",
       "    </tr>\n",
       "    <tr>\n",
       "      <th>ENSG00000275835</th>\n",
       "      <td>0.059892</td>\n",
       "      <td>1.000000</td>\n",
       "      <td>0.006969</td>\n",
       "      <td>0.005470</td>\n",
       "      <td>0.013226</td>\n",
       "      <td>0.010928</td>\n",
       "      <td>0.004917</td>\n",
       "      <td>0.006072</td>\n",
       "      <td>0.006372</td>\n",
       "      <td>0.006427</td>\n",
       "      <td>...</td>\n",
       "      <td>0.010716</td>\n",
       "      <td>0.004130</td>\n",
       "      <td>0.007063</td>\n",
       "      <td>0.006684</td>\n",
       "      <td>0.008759</td>\n",
       "      <td>0.009399</td>\n",
       "      <td>0.006996</td>\n",
       "      <td>0.001993</td>\n",
       "      <td>0.010195</td>\n",
       "      <td>0.011174</td>\n",
       "    </tr>\n",
       "    <tr>\n",
       "      <th>ENSG00000182636</th>\n",
       "      <td>0.007858</td>\n",
       "      <td>0.006969</td>\n",
       "      <td>1.000000</td>\n",
       "      <td>0.006649</td>\n",
       "      <td>0.002817</td>\n",
       "      <td>0.006534</td>\n",
       "      <td>0.002721</td>\n",
       "      <td>0.005449</td>\n",
       "      <td>0.004193</td>\n",
       "      <td>0.002655</td>\n",
       "      <td>...</td>\n",
       "      <td>0.007108</td>\n",
       "      <td>0.003556</td>\n",
       "      <td>0.009934</td>\n",
       "      <td>0.005937</td>\n",
       "      <td>0.003900</td>\n",
       "      <td>0.008911</td>\n",
       "      <td>0.006874</td>\n",
       "      <td>0.001616</td>\n",
       "      <td>0.009652</td>\n",
       "      <td>0.006682</td>\n",
       "    </tr>\n",
       "    <tr>\n",
       "      <th>ENSG00000273173</th>\n",
       "      <td>0.010011</td>\n",
       "      <td>0.005470</td>\n",
       "      <td>0.006649</td>\n",
       "      <td>1.000000</td>\n",
       "      <td>0.003644</td>\n",
       "      <td>0.010733</td>\n",
       "      <td>0.002173</td>\n",
       "      <td>0.005024</td>\n",
       "      <td>0.008288</td>\n",
       "      <td>0.001972</td>\n",
       "      <td>...</td>\n",
       "      <td>0.006183</td>\n",
       "      <td>0.001866</td>\n",
       "      <td>0.005139</td>\n",
       "      <td>0.004713</td>\n",
       "      <td>0.004148</td>\n",
       "      <td>0.006153</td>\n",
       "      <td>0.004745</td>\n",
       "      <td>0.001522</td>\n",
       "      <td>0.012111</td>\n",
       "      <td>0.006320</td>\n",
       "    </tr>\n",
       "    <tr>\n",
       "      <th>ENSG00000114062</th>\n",
       "      <td>0.008227</td>\n",
       "      <td>0.013226</td>\n",
       "      <td>0.002817</td>\n",
       "      <td>0.003644</td>\n",
       "      <td>1.000000</td>\n",
       "      <td>0.007026</td>\n",
       "      <td>0.002030</td>\n",
       "      <td>0.002669</td>\n",
       "      <td>0.004967</td>\n",
       "      <td>0.005470</td>\n",
       "      <td>...</td>\n",
       "      <td>0.001974</td>\n",
       "      <td>0.002423</td>\n",
       "      <td>0.007618</td>\n",
       "      <td>0.007527</td>\n",
       "      <td>0.001972</td>\n",
       "      <td>0.007805</td>\n",
       "      <td>0.006153</td>\n",
       "      <td>0.001831</td>\n",
       "      <td>0.007192</td>\n",
       "      <td>0.005771</td>\n",
       "    </tr>\n",
       "  </tbody>\n",
       "</table>\n",
       "<p>5 rows × 187 columns</p>\n",
       "</div>"
      ],
      "text/plain": [
       "                 ENSG00000273749  ENSG00000275835  ENSG00000182636  \\\n",
       "ENSG00000273749         1.000000         0.059892         0.007858   \n",
       "ENSG00000275835         0.059892         1.000000         0.006969   \n",
       "ENSG00000182636         0.007858         0.006969         1.000000   \n",
       "ENSG00000273173         0.010011         0.005470         0.006649   \n",
       "ENSG00000114062         0.008227         0.013226         0.002817   \n",
       "\n",
       "                 ENSG00000273173  ENSG00000114062  ENSG00000206190  \\\n",
       "ENSG00000273749         0.010011         0.008227         0.017099   \n",
       "ENSG00000275835         0.005470         0.013226         0.010928   \n",
       "ENSG00000182636         0.006649         0.002817         0.006534   \n",
       "ENSG00000273173         1.000000         0.003644         0.010733   \n",
       "ENSG00000114062         0.003644         1.000000         0.007026   \n",
       "\n",
       "                 ENSG00000128731  ENSG00000034053  ENSG00000198690  \\\n",
       "ENSG00000273749         0.007910         0.012677         0.010963   \n",
       "ENSG00000275835         0.004917         0.006072         0.006372   \n",
       "ENSG00000182636         0.002721         0.005449         0.004193   \n",
       "ENSG00000273173         0.002173         0.005024         0.008288   \n",
       "ENSG00000114062         0.002030         0.002669         0.004967   \n",
       "\n",
       "                 ENSG00000166912  ...  ENSG00000182175  ENSG00000140450  \\\n",
       "ENSG00000273749         0.009146  ...         0.013049         0.008654   \n",
       "ENSG00000275835         0.006427  ...         0.010716         0.004130   \n",
       "ENSG00000182636         0.002655  ...         0.007108         0.003556   \n",
       "ENSG00000273173         0.001972  ...         0.006183         0.001866   \n",
       "ENSG00000114062         0.005470  ...         0.001974         0.002423   \n",
       "\n",
       "                 ENSG00000140443  ENSG00000068305  ENSG00000183475  \\\n",
       "ENSG00000273749         0.015235         0.012714         0.009655   \n",
       "ENSG00000275835         0.007063         0.006684         0.008759   \n",
       "ENSG00000182636         0.009934         0.005937         0.003900   \n",
       "ENSG00000273173         0.005139         0.004713         0.004148   \n",
       "ENSG00000114062         0.007618         0.007527         0.001972   \n",
       "\n",
       "                 ENSG00000184254  ENSG00000131873  ENSG00000131876  \\\n",
       "ENSG00000273749         0.016528         0.013432         0.006835   \n",
       "ENSG00000275835         0.009399         0.006996         0.001993   \n",
       "ENSG00000182636         0.008911         0.006874         0.001616   \n",
       "ENSG00000273173         0.006153         0.004745         0.001522   \n",
       "ENSG00000114062         0.007805         0.006153         0.001831   \n",
       "\n",
       "                 ENSG00000140479  ENSG00000185418  \n",
       "ENSG00000273749         0.016496         0.011815  \n",
       "ENSG00000275835         0.010195         0.011174  \n",
       "ENSG00000182636         0.009652         0.006682  \n",
       "ENSG00000273173         0.012111         0.006320  \n",
       "ENSG00000114062         0.007192         0.005771  \n",
       "\n",
       "[5 rows x 187 columns]"
      ]
     },
     "execution_count": 31,
     "metadata": {},
     "output_type": "execute_result"
    }
   ],
   "source": [
    "gene_corrs_df.head()"
   ]
  },
  {
   "cell_type": "markdown",
   "id": "dad6603f-01c6-41fb-a6f6-241051207dd8",
   "metadata": {
    "papermill": {
     "duration": 1.122081,
     "end_time": "2022-08-27T06:30:12.706780",
     "exception": false,
     "start_time": "2022-08-27T06:30:11.584699",
     "status": "completed"
    },
    "tags": []
   },
   "source": [
    "## Standard checks and stats"
   ]
  },
  {
   "cell_type": "code",
   "execution_count": 32,
   "id": "286686af-1b7b-4440-8453-6bdcbd8de19c",
   "metadata": {
    "execution": {
     "iopub.execute_input": "2022-08-27T06:30:14.951502Z",
     "iopub.status.busy": "2022-08-27T06:30:14.951226Z",
     "iopub.status.idle": "2022-08-27T06:30:14.972087Z",
     "shell.execute_reply": "2022-08-27T06:30:14.971555Z"
    },
    "papermill": {
     "duration": 1.142687,
     "end_time": "2022-08-27T06:30:14.973737",
     "exception": false,
     "start_time": "2022-08-27T06:30:13.831050",
     "status": "completed"
    },
    "tags": []
   },
   "outputs": [],
   "source": [
    "assert not gene_corrs_df.isna().any().any()"
   ]
  },
  {
   "cell_type": "code",
   "execution_count": 33,
   "id": "00583efc-7068-4270-ad1e-4a418e91db96",
   "metadata": {
    "execution": {
     "iopub.execute_input": "2022-08-27T06:30:17.240520Z",
     "iopub.status.busy": "2022-08-27T06:30:17.240241Z",
     "iopub.status.idle": "2022-08-27T06:30:17.263395Z",
     "shell.execute_reply": "2022-08-27T06:30:17.262870Z"
    },
    "papermill": {
     "duration": 1.141346,
     "end_time": "2022-08-27T06:30:17.264928",
     "exception": false,
     "start_time": "2022-08-27T06:30:16.123582",
     "status": "completed"
    },
    "tags": []
   },
   "outputs": [
    {
     "data": {
      "text/plain": [
       "2.9690984676582354e-06"
      ]
     },
     "metadata": {},
     "output_type": "display_data"
    }
   ],
   "source": [
    "_min_val = gene_corrs_df.min().min()\n",
    "display(_min_val)\n",
    "assert _min_val >= -0.05"
   ]
  },
  {
   "cell_type": "code",
   "execution_count": 34,
   "id": "d04fb2cf-1050-475b-b855-f5f7cc04092b",
   "metadata": {
    "execution": {
     "iopub.execute_input": "2022-08-27T06:30:19.520708Z",
     "iopub.status.busy": "2022-08-27T06:30:19.520434Z",
     "iopub.status.idle": "2022-08-27T06:30:19.543422Z",
     "shell.execute_reply": "2022-08-27T06:30:19.542891Z"
    },
    "papermill": {
     "duration": 1.152959,
     "end_time": "2022-08-27T06:30:19.544998",
     "exception": false,
     "start_time": "2022-08-27T06:30:18.392039",
     "status": "completed"
    },
    "tags": []
   },
   "outputs": [
    {
     "data": {
      "text/plain": [
       "1.000000000000002"
      ]
     },
     "metadata": {},
     "output_type": "display_data"
    }
   ],
   "source": [
    "_max_val = gene_corrs_df.max().max()  # this captures the diagonal\n",
    "display(_max_val)\n",
    "assert _max_val <= 1.05"
   ]
  },
  {
   "cell_type": "code",
   "execution_count": 35,
   "id": "96d02c44-1fba-47be-8a93-8f2608420b9c",
   "metadata": {
    "execution": {
     "iopub.execute_input": "2022-08-27T06:30:21.804028Z",
     "iopub.status.busy": "2022-08-27T06:30:21.803744Z",
     "iopub.status.idle": "2022-08-27T06:30:21.823403Z",
     "shell.execute_reply": "2022-08-27T06:30:21.822880Z"
    },
    "papermill": {
     "duration": 1.148635,
     "end_time": "2022-08-27T06:30:21.825061",
     "exception": false,
     "start_time": "2022-08-27T06:30:20.676426",
     "status": "completed"
    },
    "tags": []
   },
   "outputs": [],
   "source": [
    "# check upper triangular values\n",
    "# assert len(gene_corrs) == int(genes_chr.shape[0] * (genes_chr.shape[0] - 1) / 2)"
   ]
  },
  {
   "cell_type": "code",
   "execution_count": 36,
   "id": "fe283586-c348-40e0-8841-f6d97bfb021c",
   "metadata": {
    "execution": {
     "iopub.execute_input": "2022-08-27T06:30:24.055083Z",
     "iopub.status.busy": "2022-08-27T06:30:24.054793Z",
     "iopub.status.idle": "2022-08-27T06:30:24.080177Z",
     "shell.execute_reply": "2022-08-27T06:30:24.079636Z"
    },
    "papermill": {
     "duration": 1.134456,
     "end_time": "2022-08-27T06:30:24.081708",
     "exception": false,
     "start_time": "2022-08-27T06:30:22.947252",
     "status": "completed"
    },
    "tags": []
   },
   "outputs": [
    {
     "data": {
      "text/plain": [
       "count    17578.000000\n",
       "mean         0.020566\n",
       "std          0.108237\n",
       "min          0.000003\n",
       "25%          0.003968\n",
       "50%          0.006003\n",
       "75%          0.008496\n",
       "max          1.000000\n",
       "dtype: float64"
      ]
     },
     "execution_count": 36,
     "metadata": {},
     "output_type": "execute_result"
    }
   ],
   "source": [
    "gene_corrs_flat.describe()"
   ]
  },
  {
   "cell_type": "code",
   "execution_count": 37,
   "id": "b3815678-0f93-4b35-897b-a9d047a2aa78",
   "metadata": {
    "execution": {
     "iopub.execute_input": "2022-08-27T06:30:26.306541Z",
     "iopub.status.busy": "2022-08-27T06:30:26.306268Z",
     "iopub.status.idle": "2022-08-27T06:30:26.330886Z",
     "shell.execute_reply": "2022-08-27T06:30:26.330336Z"
    },
    "papermill": {
     "duration": 1.131303,
     "end_time": "2022-08-27T06:30:26.332421",
     "exception": false,
     "start_time": "2022-08-27T06:30:25.201118",
     "status": "completed"
    },
    "tags": []
   },
   "outputs": [
    {
     "data": {
      "text/plain": [
       "0.00    0.000003\n",
       "0.05    0.001698\n",
       "0.10    0.002430\n",
       "0.15    0.003000\n",
       "0.20    0.003526\n",
       "0.25    0.003968\n",
       "0.30    0.004401\n",
       "0.35    0.004796\n",
       "0.40    0.005185\n",
       "0.45    0.005580\n",
       "0.50    0.006003\n",
       "0.55    0.006422\n",
       "0.60    0.006891\n",
       "0.65    0.007393\n",
       "0.70    0.007942\n",
       "0.75    0.008496\n",
       "0.80    0.009155\n",
       "0.85    0.010056\n",
       "0.90    0.011381\n",
       "0.95    0.014028\n",
       "dtype: float64"
      ]
     },
     "metadata": {},
     "output_type": "display_data"
    }
   ],
   "source": [
    "gene_corrs_quantiles = gene_corrs_flat.quantile(np.arange(0, 1, 0.05))\n",
    "display(gene_corrs_quantiles)"
   ]
  },
  {
   "cell_type": "markdown",
   "id": "87134509-b145-4a10-8bc9-b7e914c2b0fa",
   "metadata": {
    "papermill": {
     "duration": 1.114761,
     "end_time": "2022-08-27T06:30:28.606157",
     "exception": false,
     "start_time": "2022-08-27T06:30:27.491396",
     "status": "completed"
    },
    "tags": []
   },
   "source": [
    "## Positive definiteness"
   ]
  },
  {
   "cell_type": "code",
   "execution_count": 38,
   "id": "07d9a9a1-a4f7-48aa-b916-6d42a8cc6186",
   "metadata": {
    "execution": {
     "iopub.execute_input": "2022-08-27T06:30:30.845424Z",
     "iopub.status.busy": "2022-08-27T06:30:30.845156Z",
     "iopub.status.idle": "2022-08-27T06:30:30.882254Z",
     "shell.execute_reply": "2022-08-27T06:30:30.881716Z"
    },
    "papermill": {
     "duration": 1.157183,
     "end_time": "2022-08-27T06:30:30.883775",
     "exception": false,
     "start_time": "2022-08-27T06:30:29.726592",
     "status": "completed"
    },
    "tags": []
   },
   "outputs": [
    {
     "data": {
      "text/plain": [
       "0"
      ]
     },
     "metadata": {},
     "output_type": "display_data"
    },
    {
     "data": {
      "text/plain": [
       "array([], dtype=float64)"
      ]
     },
     "metadata": {},
     "output_type": "display_data"
    }
   ],
   "source": [
    "# print negative eigenvalues\n",
    "eigs = np.linalg.eigvals(gene_corrs_df.to_numpy())\n",
    "display(len(eigs[eigs < 0]))\n",
    "display(eigs[eigs < 0])"
   ]
  },
  {
   "cell_type": "code",
   "execution_count": 39,
   "id": "6e218436-c3c5-4028-8c94-a4fa6260efce",
   "metadata": {
    "execution": {
     "iopub.execute_input": "2022-08-27T06:30:33.107064Z",
     "iopub.status.busy": "2022-08-27T06:30:33.106783Z",
     "iopub.status.idle": "2022-08-27T06:30:33.132066Z",
     "shell.execute_reply": "2022-08-27T06:30:33.131533Z"
    },
    "papermill": {
     "duration": 1.133944,
     "end_time": "2022-08-27T06:30:33.133602",
     "exception": false,
     "start_time": "2022-08-27T06:30:31.999658",
     "status": "completed"
    },
    "tags": []
   },
   "outputs": [
    {
     "name": "stdout",
     "output_type": "stream",
     "text": [
      "Works!\n"
     ]
    }
   ],
   "source": [
    "try:\n",
    "    chol_mat = np.linalg.cholesky(gene_corrs_df.to_numpy())\n",
    "    cov_inv = np.linalg.inv(chol_mat)\n",
    "    print(\"Works!\")\n",
    "except Exception as e:\n",
    "    print(f\"Cholesky decomposition failed: {str(e)}\")"
   ]
  },
  {
   "cell_type": "code",
   "execution_count": 40,
   "id": "dd8827fb-faf9-4c7c-9454-015e94752706",
   "metadata": {
    "execution": {
     "iopub.execute_input": "2022-08-27T06:30:35.354487Z",
     "iopub.status.busy": "2022-08-27T06:30:35.354211Z",
     "iopub.status.idle": "2022-08-27T06:30:35.378494Z",
     "shell.execute_reply": "2022-08-27T06:30:35.377955Z"
    },
    "papermill": {
     "duration": 1.138363,
     "end_time": "2022-08-27T06:30:35.380150",
     "exception": false,
     "start_time": "2022-08-27T06:30:34.241787",
     "status": "completed"
    },
    "tags": []
   },
   "outputs": [
    {
     "name": "stdout",
     "output_type": "stream",
     "text": [
      "Works!\n"
     ]
    }
   ],
   "source": [
    "try:\n",
    "    # decomposition used by statsmodels.GLS\n",
    "    cholsigmainv = np.linalg.cholesky(np.linalg.inv(gene_corrs_df.to_numpy())).T\n",
    "    print(\"Works!\")\n",
    "except Exception as e:\n",
    "    print(f\"Cholesky decomposition failed (statsmodels.GLS): {str(e)}\")"
   ]
  },
  {
   "cell_type": "markdown",
   "id": "8e60a080-edb2-4e9c-b2ef-22961693200c",
   "metadata": {
    "papermill": {
     "duration": 1.120192,
     "end_time": "2022-08-27T06:30:37.613347",
     "exception": false,
     "start_time": "2022-08-27T06:30:36.493155",
     "status": "completed"
    },
    "tags": []
   },
   "source": [
    "## Plot: distribution"
   ]
  },
  {
   "cell_type": "code",
   "execution_count": 41,
   "id": "8301126b-a7d4-4744-9c7d-f0f86eb6f54c",
   "metadata": {
    "execution": {
     "iopub.execute_input": "2022-08-27T06:30:39.878423Z",
     "iopub.status.busy": "2022-08-27T06:30:39.878148Z",
     "iopub.status.idle": "2022-08-27T06:30:45.922453Z",
     "shell.execute_reply": "2022-08-27T06:30:45.921847Z"
    },
    "papermill": {
     "duration": 7.160862,
     "end_time": "2022-08-27T06:30:45.924197",
     "exception": false,
     "start_time": "2022-08-27T06:30:38.763335",
     "status": "completed"
    },
    "tags": []
   },
   "outputs": [
    {
     "data": {
      "image/png": "[encoded data removed]",
      "text/plain": [
       "<Figure size 504x504 with 1 Axes>"
      ]
     },
     "metadata": {
      "needs_background": "light"
     },
     "output_type": "display_data"
    }
   ],
   "source": [
    "with sns.plotting_context(\"paper\", font_scale=1.5):\n",
    "    g = sns.displot(gene_corrs_flat, kde=True, height=7)\n",
    "    g.ax.set_title(\n",
    "        f\"Distribution of gene correlation values in chromosome {CHROMOSOME}\"\n",
    "    )"
   ]
  },
  {
   "cell_type": "markdown",
   "id": "cbd52bca-d878-4a2f-b684-5c83aa3038d4",
   "metadata": {
    "papermill": {
     "duration": 1.114171,
     "end_time": "2022-08-27T06:30:48.148519",
     "exception": false,
     "start_time": "2022-08-27T06:30:47.034348",
     "status": "completed"
    },
    "tags": []
   },
   "source": [
    "## Plot: heatmap"
   ]
  },
  {
   "cell_type": "code",
   "execution_count": 42,
   "id": "d03fe63a-c7b2-4fb9-a53c-db362ce843c9",
   "metadata": {
    "execution": {
     "iopub.execute_input": "2022-08-27T06:30:50.382233Z",
     "iopub.status.busy": "2022-08-27T06:30:50.381953Z",
     "iopub.status.idle": "2022-08-27T06:30:50.404514Z",
     "shell.execute_reply": "2022-08-27T06:30:50.403985Z"
    },
    "papermill": {
     "duration": 1.149113,
     "end_time": "2022-08-27T06:30:50.406066",
     "exception": false,
     "start_time": "2022-08-27T06:30:49.256953",
     "status": "completed"
    },
    "tags": []
   },
   "outputs": [
    {
     "data": {
      "text/plain": [
       "'0.0 / 0.05'"
      ]
     },
     "metadata": {},
     "output_type": "display_data"
    }
   ],
   "source": [
    "vmin_val = min(0.00, gene_corrs_quantiles[0.10])\n",
    "vmax_val = max(0.05, gene_corrs_quantiles[0.90])\n",
    "display(f\"{vmin_val} / {vmax_val}\")"
   ]
  },
  {
   "cell_type": "code",
   "execution_count": 43,
   "id": "dc41b70b-5bcc-4d9e-9f33-a22c4a94dab5",
   "metadata": {
    "execution": {
     "iopub.execute_input": "2022-08-27T06:30:52.651232Z",
     "iopub.status.busy": "2022-08-27T06:30:52.650959Z",
     "iopub.status.idle": "2022-08-27T06:30:52.854662Z",
     "shell.execute_reply": "2022-08-27T06:30:52.854106Z"
    },
    "papermill": {
     "duration": 1.331832,
     "end_time": "2022-08-27T06:30:52.856383",
     "exception": false,
     "start_time": "2022-08-27T06:30:51.524551",
     "status": "completed"
    },
    "tags": []
   },
   "outputs": [
    {
     "data": {
      "text/plain": [
       "Text(0.5, 1.0, 'Gene correlations in chromosome 15')"
      ]
     },
     "execution_count": 43,
     "metadata": {},
     "output_type": "execute_result"
    },
    {
     "data": {
      "image/png": "[encoded data removed]",
      "text/plain": [
       "<Figure size 720x720 with 2 Axes>"
      ]
     },
     "metadata": {
      "needs_background": "light"
     },
     "output_type": "display_data"
    }
   ],
   "source": [
    "f, ax = plt.subplots(figsize=(10, 10))\n",
    "sns.heatmap(\n",
    "    gene_corrs_df,\n",
    "    xticklabels=False,\n",
    "    yticklabels=False,\n",
    "    square=True,\n",
    "    vmin=vmin_val,\n",
    "    vmax=vmax_val,\n",
    "    cmap=\"rocket_r\",\n",
    "    ax=ax,\n",
    ")\n",
    "ax.set_title(f\"Gene correlations in chromosome {CHROMOSOME}\")"
   ]
  },
  {
   "cell_type": "code",
   "execution_count": null,
   "id": "b25e3ead",
   "metadata": {
    "papermill": {
     "duration": 1.137617,
     "end_time": "2022-08-27T06:30:55.127821",
     "exception": false,
     "start_time": "2022-08-27T06:30:53.990204",
     "status": "completed"
    },
    "tags": []
   },
   "outputs": [],
   "source": []
  }
 ],
 "metadata": {
  "jupytext": {
   "cell_metadata_filter": "all,-execution,-papermill,-trusted",
   "formats": "ipynb,py//py:percent"
  },
  "kernelspec": {
   "display_name": "Python 3 (ipykernel)",
   "language": "python",
   "name": "python3"
  },
  "language_info": {
   "codemirror_mode": {
    "name": "ipython",
    "version": 3
   },
   "file_extension": ".py",
   "mimetype": "text/x-python",
   "name": "python",
   "nbconvert_exporter": "python",
   "pygments_lexer": "ipython3",
   "version": "3.8.13"
  },
  "papermill": {
   "default_parameters": {},
   "duration": 1663.741759,
   "end_time": "2022-08-27T06:30:59.984092",
   "environment_variables": {},
   "exception": null,
   "input_path": "nbs/15_gsa_gls/10-gene_expr_correlations.ipynb",
   "output_path": "nbs/15_gsa_gls/gene_corrs/cohorts/phenomexcan_other/gtex_v8/mashr/10-gene_expr_corrs/10-gene_expr_correlations-chr15.run.ipynb",
   "parameters": {
    "CHROMOSOME": 15,
    "COHORT_NAME": "phenomexcan_other",
    "EQTL_MODEL": "MASHR",
    "REFERENCE_PANEL": "GTEX_V8"
   },
   "start_time": "2022-08-27T06:03:16.242333",
   "version": "2.2.2"
  }
 },
 "nbformat": 4,
 "nbformat_minor": 5
}
