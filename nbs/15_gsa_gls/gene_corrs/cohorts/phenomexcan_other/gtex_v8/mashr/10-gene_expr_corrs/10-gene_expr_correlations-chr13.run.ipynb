{
 "cells": [
  {
   "cell_type": "markdown",
   "id": "7a6632fb",
   "metadata": {
    "papermill": {
     "duration": 0.019965,
     "end_time": "2022-08-27T06:03:18.042263",
     "exception": false,
     "start_time": "2022-08-27T06:03:18.022298",
     "status": "completed"
    },
    "tags": []
   },
   "source": [
    "# Description"
   ]
  },
  {
   "cell_type": "markdown",
   "id": "7097c346",
   "metadata": {
    "papermill": {
     "duration": 0.014231,
     "end_time": "2022-08-27T06:03:18.072091",
     "exception": false,
     "start_time": "2022-08-27T06:03:18.057860",
     "status": "completed"
    },
    "tags": []
   },
   "source": [
    "(Please, take a look at the README.md file in this directory for instructions on how to run this notebook)\n",
    "\n",
    "This notebook computes predicted expression correlations between all genes in the MultiPLIER models.\n",
    "\n",
    "It also has a parameter set for papermill to run on a single chromosome to run in parallel (see under `Settings` below).\n",
    "\n",
    "This notebook is not directly run. See README.md."
   ]
  },
  {
   "cell_type": "markdown",
   "id": "c61d8427",
   "metadata": {
    "papermill": {
     "duration": 0.012186,
     "end_time": "2022-08-27T06:03:18.097720",
     "exception": false,
     "start_time": "2022-08-27T06:03:18.085534",
     "status": "completed"
    },
    "tags": []
   },
   "source": [
    "# Modules"
   ]
  },
  {
   "cell_type": "code",
   "execution_count": 1,
   "id": "bbc0234f",
   "metadata": {
    "execution": {
     "iopub.execute_input": "2022-08-27T06:03:18.124923Z",
     "iopub.status.busy": "2022-08-27T06:03:18.124589Z",
     "iopub.status.idle": "2022-08-27T06:03:18.150566Z",
     "shell.execute_reply": "2022-08-27T06:03:18.149957Z"
    },
    "papermill": {
     "duration": 0.042485,
     "end_time": "2022-08-27T06:03:18.152736",
     "exception": false,
     "start_time": "2022-08-27T06:03:18.110251",
     "status": "completed"
    },
    "tags": []
   },
   "outputs": [],
   "source": [
    "%load_ext autoreload\n",
    "%autoreload 2"
   ]
  },
  {
   "cell_type": "code",
   "execution_count": 2,
   "id": "1d5f5a59",
   "metadata": {
    "execution": {
     "iopub.execute_input": "2022-08-27T06:03:18.173820Z",
     "iopub.status.busy": "2022-08-27T06:03:18.173592Z",
     "iopub.status.idle": "2022-08-27T06:03:19.621070Z",
     "shell.execute_reply": "2022-08-27T06:03:19.620533Z"
    },
    "papermill": {
     "duration": 1.460395,
     "end_time": "2022-08-27T06:03:19.622931",
     "exception": false,
     "start_time": "2022-08-27T06:03:18.162536",
     "status": "completed"
    },
    "tags": []
   },
   "outputs": [],
   "source": [
    "from random import sample, seed\n",
    "import warnings\n",
    "from pathlib import Path\n",
    "import pickle\n",
    "import traceback\n",
    "\n",
    "import numpy as np\n",
    "from scipy.spatial.distance import squareform\n",
    "import pandas as pd\n",
    "from tqdm import tqdm\n",
    "import matplotlib.pyplot as plt\n",
    "import seaborn as sns\n",
    "\n",
    "import conf\n",
    "from entity import Gene"
   ]
  },
  {
   "cell_type": "markdown",
   "id": "1eac24b5",
   "metadata": {
    "papermill": {
     "duration": 0.00724,
     "end_time": "2022-08-27T06:03:19.668039",
     "exception": false,
     "start_time": "2022-08-27T06:03:19.660799",
     "status": "completed"
    },
    "tags": []
   },
   "source": [
    "# Settings"
   ]
  },
  {
   "cell_type": "code",
   "execution_count": 3,
   "id": "ca4560ba",
   "metadata": {
    "execution": {
     "iopub.execute_input": "2022-08-27T06:03:19.684618Z",
     "iopub.status.busy": "2022-08-27T06:03:19.684363Z",
     "iopub.status.idle": "2022-08-27T06:03:19.703143Z",
     "shell.execute_reply": "2022-08-27T06:03:19.702739Z"
    },
    "papermill": {
     "duration": 0.029178,
     "end_time": "2022-08-27T06:03:19.704487",
     "exception": false,
     "start_time": "2022-08-27T06:03:19.675309",
     "status": "completed"
    },
    "tags": [
     "parameters"
    ]
   },
   "outputs": [],
   "source": [
    "# a cohort name (it could be something like UK_BIOBANK, etc)\n",
    "COHORT_NAME = None\n",
    "\n",
    "# reference panel such as 1000G or GTEX_V8\n",
    "REFERENCE_PANEL = None\n",
    "\n",
    "# predictions models such as MASHR or ELASTIC_NET\n",
    "EQTL_MODEL = None\n",
    "\n",
    "# this is the default value used in S-MultiXcan to select the\n",
    "# top principal components of the expression correlation matrix\n",
    "SMULTIXCAN_CONDITION_NUMBER = 30\n",
    "\n",
    "# specifies a single chromosome value\n",
    "CHROMOSOME = None\n",
    "\n",
    "# If True, computes the correlation between closeby genes only;\n",
    "# otherwise, it computes correlations for all genes in a chromosome\n",
    "COMPUTE_CORRELATIONS_WITHIN_DISTANCE = False\n",
    "\n",
    "# if True, then it will continue if a gene pair correlation fails,\n",
    "# printing the warning/error for debugging. If False, any warning/error\n",
    "# will be thrown\n",
    "DEBUG_MODE = False"
   ]
  },
  {
   "cell_type": "code",
   "execution_count": 4,
   "id": "cda1161a",
   "metadata": {
    "execution": {
     "iopub.execute_input": "2022-08-27T06:03:19.721445Z",
     "iopub.status.busy": "2022-08-27T06:03:19.721259Z",
     "iopub.status.idle": "2022-08-27T06:03:19.738015Z",
     "shell.execute_reply": "2022-08-27T06:03:19.737646Z"
    },
    "papermill": {
     "duration": 0.026793,
     "end_time": "2022-08-27T06:03:19.739357",
     "exception": false,
     "start_time": "2022-08-27T06:03:19.712564",
     "status": "completed"
    },
    "tags": [
     "injected-parameters"
    ]
   },
   "outputs": [],
   "source": [
    "# Parameters\n",
    "COHORT_NAME = \"phenomexcan_other\"\n",
    "REFERENCE_PANEL = \"GTEX_V8\"\n",
    "EQTL_MODEL = \"MASHR\"\n",
    "CHROMOSOME = 13\n"
   ]
  },
  {
   "cell_type": "code",
   "execution_count": 5,
   "id": "3190631f-27fc-480f-b18e-571d580425a5",
   "metadata": {
    "execution": {
     "iopub.execute_input": "2022-08-27T06:03:19.754608Z",
     "iopub.status.busy": "2022-08-27T06:03:19.754412Z",
     "iopub.status.idle": "2022-08-27T06:03:19.773112Z",
     "shell.execute_reply": "2022-08-27T06:03:19.772746Z"
    },
    "papermill": {
     "duration": 0.027771,
     "end_time": "2022-08-27T06:03:19.774262",
     "exception": false,
     "start_time": "2022-08-27T06:03:19.746491",
     "status": "completed"
    },
    "tags": []
   },
   "outputs": [
    {
     "data": {
      "text/plain": [
       "'Cohort name: phenomexcan_other'"
      ]
     },
     "metadata": {},
     "output_type": "display_data"
    }
   ],
   "source": [
    "assert COHORT_NAME is not None and len(COHORT_NAME) > 0, \"A cohort name must be given\"\n",
    "\n",
    "COHORT_NAME = COHORT_NAME.lower()\n",
    "display(f\"Cohort name: {COHORT_NAME}\")"
   ]
  },
  {
   "cell_type": "code",
   "execution_count": 6,
   "id": "f53ba19b-0f93-4fa2-a047-63b375939d1a",
   "metadata": {
    "execution": {
     "iopub.execute_input": "2022-08-27T06:03:19.790148Z",
     "iopub.status.busy": "2022-08-27T06:03:19.789977Z",
     "iopub.status.idle": "2022-08-27T06:03:19.806783Z",
     "shell.execute_reply": "2022-08-27T06:03:19.806409Z"
    },
    "papermill": {
     "duration": 0.026509,
     "end_time": "2022-08-27T06:03:19.807931",
     "exception": false,
     "start_time": "2022-08-27T06:03:19.781422",
     "status": "completed"
    },
    "tags": []
   },
   "outputs": [
    {
     "data": {
      "text/plain": [
       "'Reference panel: GTEX_V8'"
      ]
     },
     "metadata": {},
     "output_type": "display_data"
    }
   ],
   "source": [
    "assert (\n",
    "    REFERENCE_PANEL is not None and len(REFERENCE_PANEL) > 0\n",
    "), \"A reference panel must be given\"\n",
    "\n",
    "display(f\"Reference panel: {REFERENCE_PANEL}\")"
   ]
  },
  {
   "cell_type": "code",
   "execution_count": 7,
   "id": "e024d130-c139-429a-9c6e-ccf149e297b0",
   "metadata": {
    "execution": {
     "iopub.execute_input": "2022-08-27T06:03:19.823464Z",
     "iopub.status.busy": "2022-08-27T06:03:19.823289Z",
     "iopub.status.idle": "2022-08-27T06:03:19.840509Z",
     "shell.execute_reply": "2022-08-27T06:03:19.840132Z"
    },
    "papermill": {
     "duration": 0.026366,
     "end_time": "2022-08-27T06:03:19.841663",
     "exception": false,
     "start_time": "2022-08-27T06:03:19.815297",
     "status": "completed"
    },
    "tags": []
   },
   "outputs": [
    {
     "data": {
      "text/plain": [
       "'eQTL model: MASHR) / mashr_'"
      ]
     },
     "metadata": {},
     "output_type": "display_data"
    }
   ],
   "source": [
    "assert (\n",
    "    EQTL_MODEL is not None and len(EQTL_MODEL) > 0\n",
    "), \"A prediction/eQTL model must be given\"\n",
    "\n",
    "EQTL_MODEL_FILES_PREFIX = conf.PHENOMEXCAN[\"PREDICTION_MODELS\"][f\"{EQTL_MODEL}_PREFIX\"]\n",
    "display(f\"eQTL model: {EQTL_MODEL}) / {EQTL_MODEL_FILES_PREFIX}\")"
   ]
  },
  {
   "cell_type": "code",
   "execution_count": 8,
   "id": "552a7f63-a18c-4d3e-bb6a-94f99b431291",
   "metadata": {
    "execution": {
     "iopub.execute_input": "2022-08-27T06:03:19.858012Z",
     "iopub.status.busy": "2022-08-27T06:03:19.857829Z",
     "iopub.status.idle": "2022-08-27T06:03:19.874763Z",
     "shell.execute_reply": "2022-08-27T06:03:19.874391Z"
    },
    "papermill": {
     "duration": 0.026504,
     "end_time": "2022-08-27T06:03:19.875913",
     "exception": false,
     "start_time": "2022-08-27T06:03:19.849409",
     "status": "completed"
    },
    "tags": []
   },
   "outputs": [
    {
     "data": {
      "text/plain": [
       "'S-MultiXcan condition number: 30'"
      ]
     },
     "metadata": {},
     "output_type": "display_data"
    }
   ],
   "source": [
    "assert (\n",
    "    SMULTIXCAN_CONDITION_NUMBER is not None and SMULTIXCAN_CONDITION_NUMBER > 0\n",
    "), \"The S-MultiXcan condition number (positive integer) must be given\"\n",
    "\n",
    "display(f\"S-MultiXcan condition number: {SMULTIXCAN_CONDITION_NUMBER}\")"
   ]
  },
  {
   "cell_type": "code",
   "execution_count": 9,
   "id": "f34a336f-548e-4afe-8955-90eaea4f42c6",
   "metadata": {
    "execution": {
     "iopub.execute_input": "2022-08-27T06:03:19.894794Z",
     "iopub.status.busy": "2022-08-27T06:03:19.894631Z",
     "iopub.status.idle": "2022-08-27T06:03:19.912176Z",
     "shell.execute_reply": "2022-08-27T06:03:19.911789Z"
    },
    "papermill": {
     "duration": 0.0299,
     "end_time": "2022-08-27T06:03:19.913440",
     "exception": false,
     "start_time": "2022-08-27T06:03:19.883540",
     "status": "completed"
    },
    "tags": []
   },
   "outputs": [
    {
     "data": {
      "text/plain": [
       "'Working on chromosome 13'"
      ]
     },
     "metadata": {},
     "output_type": "display_data"
    }
   ],
   "source": [
    "assert CHROMOSOME is not None and (\n",
    "    1 <= CHROMOSOME <= 22\n",
    "), \"You have to select one chromosome (format: number between 1 and 22)\"\n",
    "\n",
    "# CHROMOSOME = str(CHROMOSOME)\n",
    "display(f\"Working on chromosome {CHROMOSOME}\")"
   ]
  },
  {
   "cell_type": "code",
   "execution_count": 10,
   "id": "ab8e96e8-06b5-4363-9dcd-dc4d78cc27f7",
   "metadata": {
    "execution": {
     "iopub.execute_input": "2022-08-27T06:03:19.929980Z",
     "iopub.status.busy": "2022-08-27T06:03:19.929801Z",
     "iopub.status.idle": "2022-08-27T06:03:19.946531Z",
     "shell.execute_reply": "2022-08-27T06:03:19.946139Z"
    },
    "papermill": {
     "duration": 0.026854,
     "end_time": "2022-08-27T06:03:19.947786",
     "exception": false,
     "start_time": "2022-08-27T06:03:19.920932",
     "status": "completed"
    },
    "tags": []
   },
   "outputs": [
    {
     "data": {
      "text/plain": [
       "'Compute correlation within distance False'"
      ]
     },
     "metadata": {},
     "output_type": "display_data"
    }
   ],
   "source": [
    "display(f\"Compute correlation within distance {COMPUTE_CORRELATIONS_WITHIN_DISTANCE}\")"
   ]
  },
  {
   "cell_type": "code",
   "execution_count": 11,
   "id": "396392dc-0340-4540-9b02-e182b833f909",
   "metadata": {
    "execution": {
     "iopub.execute_input": "2022-08-27T06:03:19.964158Z",
     "iopub.status.busy": "2022-08-27T06:03:19.963984Z",
     "iopub.status.idle": "2022-08-27T06:03:19.983235Z",
     "shell.execute_reply": "2022-08-27T06:03:19.982800Z"
    },
    "papermill": {
     "duration": 0.028961,
     "end_time": "2022-08-27T06:03:19.984523",
     "exception": false,
     "start_time": "2022-08-27T06:03:19.955562",
     "status": "completed"
    },
    "tags": []
   },
   "outputs": [
    {
     "data": {
      "text/plain": [
       "'Using output dir base: /project/ritchie20/projects/phenoplier/base/results/gls/gene_corrs/cohorts/phenomexcan_other/gtex_v8/mashr'"
      ]
     },
     "metadata": {},
     "output_type": "display_data"
    }
   ],
   "source": [
    "OUTPUT_DIR_BASE = (\n",
    "    conf.RESULTS[\"GLS\"]\n",
    "    / \"gene_corrs\"\n",
    "    / \"cohorts\"\n",
    "    / COHORT_NAME\n",
    "    / REFERENCE_PANEL.lower()\n",
    "    / EQTL_MODEL.lower()\n",
    ")\n",
    "OUTPUT_DIR_BASE.mkdir(parents=True, exist_ok=True)\n",
    "\n",
    "display(f\"Using output dir base: {OUTPUT_DIR_BASE}\")"
   ]
  },
  {
   "cell_type": "markdown",
   "id": "d2ba085e",
   "metadata": {
    "papermill": {
     "duration": 0.007988,
     "end_time": "2022-08-27T06:03:20.000455",
     "exception": false,
     "start_time": "2022-08-27T06:03:19.992467",
     "status": "completed"
    },
    "tags": []
   },
   "source": [
    "# Load data"
   ]
  },
  {
   "cell_type": "markdown",
   "id": "7dcb8db7",
   "metadata": {
    "papermill": {
     "duration": 0.007685,
     "end_time": "2022-08-27T06:03:20.016382",
     "exception": false,
     "start_time": "2022-08-27T06:03:20.008697",
     "status": "completed"
    },
    "tags": []
   },
   "source": [
    "## GWAS variants"
   ]
  },
  {
   "cell_type": "code",
   "execution_count": 12,
   "id": "29434c4e-8cd3-4b9b-82e4-b5a251d9dd19",
   "metadata": {
    "execution": {
     "iopub.execute_input": "2022-08-27T06:03:20.034702Z",
     "iopub.status.busy": "2022-08-27T06:03:20.034529Z",
     "iopub.status.idle": "2022-08-27T06:03:23.052185Z",
     "shell.execute_reply": "2022-08-27T06:03:23.051716Z"
    },
    "papermill": {
     "duration": 3.029001,
     "end_time": "2022-08-27T06:03:23.053885",
     "exception": false,
     "start_time": "2022-08-27T06:03:20.024884",
     "status": "completed"
    },
    "tags": []
   },
   "outputs": [],
   "source": [
    "with open(OUTPUT_DIR_BASE / \"gwas_variant_ids.pkl\", \"rb\") as handle:\n",
    "    gwas_variants_ids_set = pickle.load(handle)"
   ]
  },
  {
   "cell_type": "code",
   "execution_count": 13,
   "id": "b9d9dec2-4a76-4bf9-bde2-e24c95acb8a0",
   "metadata": {
    "execution": {
     "iopub.execute_input": "2022-08-27T06:03:23.090145Z",
     "iopub.status.busy": "2022-08-27T06:03:23.089939Z",
     "iopub.status.idle": "2022-08-27T06:03:23.109562Z",
     "shell.execute_reply": "2022-08-27T06:03:23.109133Z"
    },
    "papermill": {
     "duration": 0.034746,
     "end_time": "2022-08-27T06:03:23.110801",
     "exception": false,
     "start_time": "2022-08-27T06:03:23.076055",
     "status": "completed"
    },
    "tags": []
   },
   "outputs": [
    {
     "data": {
      "text/plain": [
       "8865800"
      ]
     },
     "execution_count": 13,
     "metadata": {},
     "output_type": "execute_result"
    }
   ],
   "source": [
    "len(gwas_variants_ids_set)"
   ]
  },
  {
   "cell_type": "code",
   "execution_count": 14,
   "id": "4235b06a-6034-4ee4-a0a3-2ae35d122418",
   "metadata": {
    "execution": {
     "iopub.execute_input": "2022-08-27T06:03:23.142743Z",
     "iopub.status.busy": "2022-08-27T06:03:23.142566Z",
     "iopub.status.idle": "2022-08-27T06:03:23.670751Z",
     "shell.execute_reply": "2022-08-27T06:03:23.670278Z"
    },
    "papermill": {
     "duration": 0.546144,
     "end_time": "2022-08-27T06:03:23.672138",
     "exception": false,
     "start_time": "2022-08-27T06:03:23.125994",
     "status": "completed"
    },
    "tags": []
   },
   "outputs": [
    {
     "data": {
      "text/plain": [
       "['chr11_58071225_C_T_b38',\n",
       " 'chr10_51824474_A_G_b38',\n",
       " 'chr1_163470831_G_A_b38',\n",
       " 'chr13_58874362_A_G_b38',\n",
       " 'chr7_57694376_G_A_b38']"
      ]
     },
     "execution_count": 14,
     "metadata": {},
     "output_type": "execute_result"
    }
   ],
   "source": [
    "list(gwas_variants_ids_set)[:5]"
   ]
  },
  {
   "cell_type": "markdown",
   "id": "07866999-2305-41f9-a144-e69c9122c212",
   "metadata": {
    "papermill": {
     "duration": 0.010345,
     "end_time": "2022-08-27T06:03:23.691260",
     "exception": false,
     "start_time": "2022-08-27T06:03:23.680915",
     "status": "completed"
    },
    "tags": []
   },
   "source": [
    "## S-PrediXcan tissue models"
   ]
  },
  {
   "cell_type": "code",
   "execution_count": 15,
   "id": "780611d9-77c8-405f-90a4-f271f7b09397",
   "metadata": {
    "execution": {
     "iopub.execute_input": "2022-08-27T06:03:23.715657Z",
     "iopub.status.busy": "2022-08-27T06:03:23.715464Z",
     "iopub.status.idle": "2022-08-27T06:03:24.668664Z",
     "shell.execute_reply": "2022-08-27T06:03:24.667914Z"
    },
    "papermill": {
     "duration": 0.967607,
     "end_time": "2022-08-27T06:03:24.670616",
     "exception": false,
     "start_time": "2022-08-27T06:03:23.703009",
     "status": "completed"
    },
    "tags": []
   },
   "outputs": [],
   "source": [
    "spredixcan_genes_models = pd.read_pickle(OUTPUT_DIR_BASE / \"gene_tissues.pkl\")"
   ]
  },
  {
   "cell_type": "code",
   "execution_count": 16,
   "id": "726dd1f6-9557-4225-91fa-b3b879ea96e1",
   "metadata": {
    "execution": {
     "iopub.execute_input": "2022-08-27T06:03:24.691329Z",
     "iopub.status.busy": "2022-08-27T06:03:24.691114Z",
     "iopub.status.idle": "2022-08-27T06:03:24.712970Z",
     "shell.execute_reply": "2022-08-27T06:03:24.712586Z"
    },
    "papermill": {
     "duration": 0.032673,
     "end_time": "2022-08-27T06:03:24.714151",
     "exception": false,
     "start_time": "2022-08-27T06:03:24.681478",
     "status": "completed"
    },
    "tags": []
   },
   "outputs": [
    {
     "data": {
      "text/plain": [
       "(6450, 3)"
      ]
     },
     "execution_count": 16,
     "metadata": {},
     "output_type": "execute_result"
    }
   ],
   "source": [
    "spredixcan_genes_models.shape"
   ]
  },
  {
   "cell_type": "code",
   "execution_count": 17,
   "id": "944a1b48-222c-4eb0-b252-b9de2cbca215",
   "metadata": {
    "execution": {
     "iopub.execute_input": "2022-08-27T06:03:24.734406Z",
     "iopub.status.busy": "2022-08-27T06:03:24.734219Z",
     "iopub.status.idle": "2022-08-27T06:03:24.760215Z",
     "shell.execute_reply": "2022-08-27T06:03:24.759839Z"
    },
    "papermill": {
     "duration": 0.038312,
     "end_time": "2022-08-27T06:03:24.761441",
     "exception": false,
     "start_time": "2022-08-27T06:03:24.723129",
     "status": "completed"
    },
    "tags": []
   },
   "outputs": [
    {
     "data": {
      "text/html": [
       "<div>\n",
       "<style scoped>\n",
       "    .dataframe tbody tr th:only-of-type {\n",
       "        vertical-align: middle;\n",
       "    }\n",
       "\n",
       "    .dataframe tbody tr th {\n",
       "        vertical-align: top;\n",
       "    }\n",
       "\n",
       "    .dataframe thead th {\n",
       "        text-align: right;\n",
       "    }\n",
       "</style>\n",
       "<table border=\"1\" class=\"dataframe\">\n",
       "  <thead>\n",
       "    <tr style=\"text-align: right;\">\n",
       "      <th></th>\n",
       "      <th>gene_name</th>\n",
       "      <th>tissue</th>\n",
       "      <th>n_tissues</th>\n",
       "    </tr>\n",
       "    <tr>\n",
       "      <th>gene_id</th>\n",
       "      <th></th>\n",
       "      <th></th>\n",
       "      <th></th>\n",
       "    </tr>\n",
       "  </thead>\n",
       "  <tbody>\n",
       "    <tr>\n",
       "      <th>ENSG00000000419</th>\n",
       "      <td>DPM1</td>\n",
       "      <td>(Brain_Substantia_nigra, Cells_Cultured_fibrob...</td>\n",
       "      <td>3</td>\n",
       "    </tr>\n",
       "    <tr>\n",
       "      <th>ENSG00000000938</th>\n",
       "      <td>FGR</td>\n",
       "      <td>(Skin_Sun_Exposed_Lower_leg, Testis, Colon_Sig...</td>\n",
       "      <td>36</td>\n",
       "    </tr>\n",
       "    <tr>\n",
       "      <th>ENSG00000000971</th>\n",
       "      <td>CFH</td>\n",
       "      <td>(Brain_Substantia_nigra, Artery_Coronary, Skin...</td>\n",
       "      <td>34</td>\n",
       "    </tr>\n",
       "    <tr>\n",
       "      <th>ENSG00000001084</th>\n",
       "      <td>GCLC</td>\n",
       "      <td>(Brain_Substantia_nigra, Artery_Coronary, Skin...</td>\n",
       "      <td>33</td>\n",
       "    </tr>\n",
       "    <tr>\n",
       "      <th>ENSG00000001167</th>\n",
       "      <td>NFYA</td>\n",
       "      <td>(Minor_Salivary_Gland, Artery_Coronary, Skin_S...</td>\n",
       "      <td>40</td>\n",
       "    </tr>\n",
       "  </tbody>\n",
       "</table>\n",
       "</div>"
      ],
      "text/plain": [
       "                gene_name                                             tissue  \\\n",
       "gene_id                                                                        \n",
       "ENSG00000000419      DPM1  (Brain_Substantia_nigra, Cells_Cultured_fibrob...   \n",
       "ENSG00000000938       FGR  (Skin_Sun_Exposed_Lower_leg, Testis, Colon_Sig...   \n",
       "ENSG00000000971       CFH  (Brain_Substantia_nigra, Artery_Coronary, Skin...   \n",
       "ENSG00000001084      GCLC  (Brain_Substantia_nigra, Artery_Coronary, Skin...   \n",
       "ENSG00000001167      NFYA  (Minor_Salivary_Gland, Artery_Coronary, Skin_S...   \n",
       "\n",
       "                 n_tissues  \n",
       "gene_id                     \n",
       "ENSG00000000419          3  \n",
       "ENSG00000000938         36  \n",
       "ENSG00000000971         34  \n",
       "ENSG00000001084         33  \n",
       "ENSG00000001167         40  "
      ]
     },
     "execution_count": 17,
     "metadata": {},
     "output_type": "execute_result"
    }
   ],
   "source": [
    "spredixcan_genes_models.head()"
   ]
  },
  {
   "cell_type": "code",
   "execution_count": 18,
   "id": "d1c11bb1-be0b-4f40-b360-633d6827109f",
   "metadata": {
    "execution": {
     "iopub.execute_input": "2022-08-27T06:03:24.779820Z",
     "iopub.status.busy": "2022-08-27T06:03:24.779634Z",
     "iopub.status.idle": "2022-08-27T06:03:24.796344Z",
     "shell.execute_reply": "2022-08-27T06:03:24.795974Z"
    },
    "papermill": {
     "duration": 0.027138,
     "end_time": "2022-08-27T06:03:24.797637",
     "exception": false,
     "start_time": "2022-08-27T06:03:24.770499",
     "status": "completed"
    },
    "tags": []
   },
   "outputs": [],
   "source": [
    "assert spredixcan_genes_models.index.is_unique"
   ]
  },
  {
   "cell_type": "markdown",
   "id": "a5b5092c-a13e-47c4-a92a-480fcc08f3ae",
   "metadata": {
    "papermill": {
     "duration": 0.00868,
     "end_time": "2022-08-27T06:03:24.817224",
     "exception": false,
     "start_time": "2022-08-27T06:03:24.808544",
     "status": "completed"
    },
    "tags": []
   },
   "source": [
    "## Gene info"
   ]
  },
  {
   "cell_type": "code",
   "execution_count": 19,
   "id": "7d6bb224-88e9-4358-ac10-43a41d92cdad",
   "metadata": {
    "execution": {
     "iopub.execute_input": "2022-08-27T06:03:24.835447Z",
     "iopub.status.busy": "2022-08-27T06:03:24.835274Z",
     "iopub.status.idle": "2022-08-27T06:03:24.881979Z",
     "shell.execute_reply": "2022-08-27T06:03:24.881406Z"
    },
    "papermill": {
     "duration": 0.058028,
     "end_time": "2022-08-27T06:03:24.883931",
     "exception": false,
     "start_time": "2022-08-27T06:03:24.825903",
     "status": "completed"
    },
    "tags": []
   },
   "outputs": [],
   "source": [
    "genes_info = pd.read_pickle(OUTPUT_DIR_BASE / \"genes_info.pkl\")"
   ]
  },
  {
   "cell_type": "code",
   "execution_count": 20,
   "id": "9e32abfa-546d-483e-8c18-d526e9e05903",
   "metadata": {
    "execution": {
     "iopub.execute_input": "2022-08-27T06:03:24.908760Z",
     "iopub.status.busy": "2022-08-27T06:03:24.908527Z",
     "iopub.status.idle": "2022-08-27T06:03:24.930936Z",
     "shell.execute_reply": "2022-08-27T06:03:24.930473Z"
    },
    "papermill": {
     "duration": 0.037052,
     "end_time": "2022-08-27T06:03:24.932371",
     "exception": false,
     "start_time": "2022-08-27T06:03:24.895319",
     "status": "completed"
    },
    "tags": []
   },
   "outputs": [
    {
     "data": {
      "text/plain": [
       "(6450, 7)"
      ]
     },
     "execution_count": 20,
     "metadata": {},
     "output_type": "execute_result"
    }
   ],
   "source": [
    "genes_info.shape"
   ]
  },
  {
   "cell_type": "code",
   "execution_count": 21,
   "id": "d16c3e92-85ec-468a-9a56-e25a9774a1cb",
   "metadata": {
    "execution": {
     "iopub.execute_input": "2022-08-27T06:03:24.952529Z",
     "iopub.status.busy": "2022-08-27T06:03:24.952328Z",
     "iopub.status.idle": "2022-08-27T06:03:24.975752Z",
     "shell.execute_reply": "2022-08-27T06:03:24.975334Z"
    },
    "papermill": {
     "duration": 0.034896,
     "end_time": "2022-08-27T06:03:24.977040",
     "exception": false,
     "start_time": "2022-08-27T06:03:24.942144",
     "status": "completed"
    },
    "tags": []
   },
   "outputs": [
    {
     "data": {
      "text/html": [
       "<div>\n",
       "<style scoped>\n",
       "    .dataframe tbody tr th:only-of-type {\n",
       "        vertical-align: middle;\n",
       "    }\n",
       "\n",
       "    .dataframe tbody tr th {\n",
       "        vertical-align: top;\n",
       "    }\n",
       "\n",
       "    .dataframe thead th {\n",
       "        text-align: right;\n",
       "    }\n",
       "</style>\n",
       "<table border=\"1\" class=\"dataframe\">\n",
       "  <thead>\n",
       "    <tr style=\"text-align: right;\">\n",
       "      <th></th>\n",
       "      <th>name</th>\n",
       "      <th>id</th>\n",
       "      <th>chr</th>\n",
       "      <th>band</th>\n",
       "      <th>start_position</th>\n",
       "      <th>end_position</th>\n",
       "      <th>gene_length</th>\n",
       "    </tr>\n",
       "  </thead>\n",
       "  <tbody>\n",
       "    <tr>\n",
       "      <th>0</th>\n",
       "      <td>FUS</td>\n",
       "      <td>ENSG00000089280</td>\n",
       "      <td>16</td>\n",
       "      <td>16p11.2</td>\n",
       "      <td>31180110</td>\n",
       "      <td>31194871</td>\n",
       "      <td>14761</td>\n",
       "    </tr>\n",
       "    <tr>\n",
       "      <th>1</th>\n",
       "      <td>PI4K2A</td>\n",
       "      <td>ENSG00000155252</td>\n",
       "      <td>10</td>\n",
       "      <td>10q24.2</td>\n",
       "      <td>97640686</td>\n",
       "      <td>97676434</td>\n",
       "      <td>35748</td>\n",
       "    </tr>\n",
       "    <tr>\n",
       "      <th>2</th>\n",
       "      <td>PER1</td>\n",
       "      <td>ENSG00000179094</td>\n",
       "      <td>17</td>\n",
       "      <td>17p13.1</td>\n",
       "      <td>8140472</td>\n",
       "      <td>8156506</td>\n",
       "      <td>16034</td>\n",
       "    </tr>\n",
       "    <tr>\n",
       "      <th>3</th>\n",
       "      <td>GBP6</td>\n",
       "      <td>ENSG00000183347</td>\n",
       "      <td>1</td>\n",
       "      <td>1p22.2</td>\n",
       "      <td>89364058</td>\n",
       "      <td>89386461</td>\n",
       "      <td>22403</td>\n",
       "    </tr>\n",
       "    <tr>\n",
       "      <th>4</th>\n",
       "      <td>GPAA1</td>\n",
       "      <td>ENSG00000197858</td>\n",
       "      <td>8</td>\n",
       "      <td>8q24.3</td>\n",
       "      <td>144082590</td>\n",
       "      <td>144086216</td>\n",
       "      <td>3626</td>\n",
       "    </tr>\n",
       "  </tbody>\n",
       "</table>\n",
       "</div>"
      ],
      "text/plain": [
       "     name               id  chr     band  start_position  end_position  \\\n",
       "0     FUS  ENSG00000089280   16  16p11.2        31180110      31194871   \n",
       "1  PI4K2A  ENSG00000155252   10  10q24.2        97640686      97676434   \n",
       "2    PER1  ENSG00000179094   17  17p13.1         8140472       8156506   \n",
       "3    GBP6  ENSG00000183347    1   1p22.2        89364058      89386461   \n",
       "4   GPAA1  ENSG00000197858    8   8q24.3       144082590     144086216   \n",
       "\n",
       "   gene_length  \n",
       "0        14761  \n",
       "1        35748  \n",
       "2        16034  \n",
       "3        22403  \n",
       "4         3626  "
      ]
     },
     "execution_count": 21,
     "metadata": {},
     "output_type": "execute_result"
    }
   ],
   "source": [
    "genes_info.head()"
   ]
  },
  {
   "cell_type": "markdown",
   "id": "d3843e06",
   "metadata": {
    "papermill": {
     "duration": 0.010482,
     "end_time": "2022-08-27T06:03:24.997037",
     "exception": false,
     "start_time": "2022-08-27T06:03:24.986555",
     "status": "completed"
    },
    "tags": []
   },
   "source": [
    "# Compute correlations"
   ]
  },
  {
   "cell_type": "code",
   "execution_count": 22,
   "id": "cb859c15-d1f3-4006-a74c-2b83c0db9611",
   "metadata": {
    "execution": {
     "iopub.execute_input": "2022-08-27T06:03:25.016033Z",
     "iopub.status.busy": "2022-08-27T06:03:25.015861Z",
     "iopub.status.idle": "2022-08-27T06:03:25.072710Z",
     "shell.execute_reply": "2022-08-27T06:03:25.072074Z"
    },
    "papermill": {
     "duration": 0.069075,
     "end_time": "2022-08-27T06:03:25.074633",
     "exception": false,
     "start_time": "2022-08-27T06:03:25.005558",
     "status": "completed"
    },
    "tags": []
   },
   "outputs": [
    {
     "data": {
      "text/plain": [
       "PosixPath('/project/ritchie20/projects/phenoplier/base/results/gls/gene_corrs/cohorts/phenomexcan_other/gtex_v8/mashr/by_chr/gene_corrs-chr13.pkl')"
      ]
     },
     "metadata": {},
     "output_type": "display_data"
    }
   ],
   "source": [
    "output_dir = OUTPUT_DIR_BASE / \"by_chr\"\n",
    "output_dir.mkdir(exist_ok=True, parents=True)\n",
    "output_file = output_dir / f\"gene_corrs-chr{CHROMOSOME}.pkl\"\n",
    "display(output_file)"
   ]
  },
  {
   "cell_type": "code",
   "execution_count": 23,
   "id": "aa674fe4-6794-4eed-98fa-32b39d1d4ace",
   "metadata": {
    "execution": {
     "iopub.execute_input": "2022-08-27T06:03:25.100527Z",
     "iopub.status.busy": "2022-08-27T06:03:25.100271Z",
     "iopub.status.idle": "2022-08-27T06:03:25.122601Z",
     "shell.execute_reply": "2022-08-27T06:03:25.122071Z"
    },
    "papermill": {
     "duration": 0.037218,
     "end_time": "2022-08-27T06:03:25.124343",
     "exception": false,
     "start_time": "2022-08-27T06:03:25.087125",
     "status": "completed"
    },
    "tags": []
   },
   "outputs": [],
   "source": [
    "warnings.filterwarnings(\"error\")"
   ]
  },
  {
   "cell_type": "code",
   "execution_count": 24,
   "id": "44d5450b-3baf-43f1-9e2e-4b06f1a785f8",
   "metadata": {
    "execution": {
     "iopub.execute_input": "2022-08-27T06:03:25.149284Z",
     "iopub.status.busy": "2022-08-27T06:03:25.149075Z",
     "iopub.status.idle": "2022-08-27T06:03:25.168862Z",
     "shell.execute_reply": "2022-08-27T06:03:25.168413Z"
    },
    "papermill": {
     "duration": 0.033425,
     "end_time": "2022-08-27T06:03:25.170391",
     "exception": false,
     "start_time": "2022-08-27T06:03:25.136966",
     "status": "completed"
    },
    "tags": []
   },
   "outputs": [],
   "source": [
    "# standard checks\n",
    "all_chrs = genes_info[\"chr\"].dropna().unique()\n",
    "assert all_chrs.shape[0] == 22\n",
    "\n",
    "# select chromosome given by the user\n",
    "assert CHROMOSOME in all_chrs"
   ]
  },
  {
   "cell_type": "code",
   "execution_count": 25,
   "id": "2d7c043c-92a7-4d35-991b-fa69ac1e0268",
   "metadata": {
    "execution": {
     "iopub.execute_input": "2022-08-27T06:03:25.192557Z",
     "iopub.status.busy": "2022-08-27T06:03:25.192366Z",
     "iopub.status.idle": "2022-08-27T06:03:25.220043Z",
     "shell.execute_reply": "2022-08-27T06:03:25.219637Z"
    },
    "papermill": {
     "duration": 0.041164,
     "end_time": "2022-08-27T06:03:25.221301",
     "exception": false,
     "start_time": "2022-08-27T06:03:25.180137",
     "status": "completed"
    },
    "tags": []
   },
   "outputs": [
    {
     "name": "stdout",
     "output_type": "stream",
     "text": [
      "Number of genes in chromosome: 118\n"
     ]
    }
   ],
   "source": [
    "# run only on the chromosome specified\n",
    "all_chrs = [CHROMOSOME]\n",
    "genes_chr = genes_info[genes_info[\"chr\"] == CHROMOSOME]\n",
    "\n",
    "# For testing purposes\n",
    "# genes_chr = genes_chr.sample(n=20)\n",
    "\n",
    "print(f\"Number of genes in chromosome: {genes_chr.shape[0]}\", flush=True)"
   ]
  },
  {
   "cell_type": "code",
   "execution_count": 26,
   "id": "916015d8-2979-46d3-a9b9-1cf5a0932c6a",
   "metadata": {
    "execution": {
     "iopub.execute_input": "2022-08-27T06:03:25.239611Z",
     "iopub.status.busy": "2022-08-27T06:03:25.239424Z",
     "iopub.status.idle": "2022-08-27T06:03:25.256256Z",
     "shell.execute_reply": "2022-08-27T06:03:25.255864Z"
    },
    "papermill": {
     "duration": 0.027512,
     "end_time": "2022-08-27T06:03:25.257611",
     "exception": false,
     "start_time": "2022-08-27T06:03:25.230099",
     "status": "completed"
    },
    "tags": []
   },
   "outputs": [],
   "source": [
    "# sort genes by starting position to make visualizations better later\n",
    "genes_chr = genes_chr.sort_values(\"start_position\")"
   ]
  },
  {
   "cell_type": "code",
   "execution_count": 27,
   "id": "a38aa74a-8ad3-47f6-8ef9-56be0e011774",
   "metadata": {
    "execution": {
     "iopub.execute_input": "2022-08-27T06:03:25.275780Z",
     "iopub.status.busy": "2022-08-27T06:03:25.275604Z",
     "iopub.status.idle": "2022-08-27T06:03:25.292510Z",
     "shell.execute_reply": "2022-08-27T06:03:25.292102Z"
    },
    "papermill": {
     "duration": 0.027449,
     "end_time": "2022-08-27T06:03:25.293861",
     "exception": false,
     "start_time": "2022-08-27T06:03:25.266412",
     "status": "completed"
    },
    "tags": []
   },
   "outputs": [],
   "source": [
    "gene_chr_objs = [Gene(ensembl_id=gene_id) for gene_id in genes_chr[\"id\"]]"
   ]
  },
  {
   "cell_type": "code",
   "execution_count": 28,
   "id": "570f974f-13c3-42b6-ad3a-ce99ca885c1a",
   "metadata": {
    "execution": {
     "iopub.execute_input": "2022-08-27T06:03:25.314772Z",
     "iopub.status.busy": "2022-08-27T06:03:25.314595Z",
     "iopub.status.idle": "2022-08-27T06:03:25.332197Z",
     "shell.execute_reply": "2022-08-27T06:03:25.331804Z"
    },
    "papermill": {
     "duration": 0.030307,
     "end_time": "2022-08-27T06:03:25.333549",
     "exception": false,
     "start_time": "2022-08-27T06:03:25.303242",
     "status": "completed"
    },
    "tags": []
   },
   "outputs": [
    {
     "name": "stdout",
     "output_type": "stream",
     "text": [
      "Number of gene combinations: 6903\n"
     ]
    }
   ],
   "source": [
    "n = len(gene_chr_objs)\n",
    "n_comb = int(n * (n - 1) / 2.0)\n",
    "print(f\"Number of gene combinations: {n_comb}\", flush=True)"
   ]
  },
  {
   "cell_type": "code",
   "execution_count": 29,
   "id": "cdbb90a1",
   "metadata": {
    "execution": {
     "iopub.execute_input": "2022-08-27T06:03:25.352528Z",
     "iopub.status.busy": "2022-08-27T06:03:25.352350Z",
     "iopub.status.idle": "2022-08-27T06:11:01.788874Z",
     "shell.execute_reply": "2022-08-27T06:11:01.788036Z"
    },
    "papermill": {
     "duration": 456.448694,
     "end_time": "2022-08-27T06:11:01.791076",
     "exception": false,
     "start_time": "2022-08-27T06:03:25.342382",
     "status": "completed"
    },
    "tags": []
   },
   "outputs": [
    {
     "name": "stderr",
     "output_type": "stream",
     "text": [
      "ENSG00000169062 / ENSG00000169062: : 7021it [07:36, 15.39it/s]\n"
     ]
    },
    {
     "data": {
      "text/plain": [
       "PosixPath('/project/ritchie20/projects/phenoplier/base/results/gls/gene_corrs/cohorts/phenomexcan_other/gtex_v8/mashr/by_chr/gene_corrs-chr13.pkl')"
      ]
     },
     "metadata": {},
     "output_type": "display_data"
    }
   ],
   "source": [
    "gene_corrs = []\n",
    "gene_corrs_data = np.full(\n",
    "    (n, n),\n",
    "    np.nan,\n",
    "    dtype=np.float64,\n",
    ")\n",
    "\n",
    "i = 0\n",
    "with tqdm(ncols=100, total=n_comb) as pbar:\n",
    "    for gene1_idx in range(0, len(gene_chr_objs)):\n",
    "        gene1_obj = gene_chr_objs[gene1_idx]\n",
    "        gene1_tissues = spredixcan_genes_models.loc[gene1_obj.ensembl_id, \"tissue\"]\n",
    "\n",
    "        for gene2_idx in range(gene1_idx, len(gene_chr_objs)):\n",
    "            gene2_obj = gene_chr_objs[gene2_idx]\n",
    "            gene2_tissues = spredixcan_genes_models.loc[gene2_obj.ensembl_id, \"tissue\"]\n",
    "\n",
    "            pbar.set_description(f\"{gene1_obj.ensembl_id} / {gene2_obj.ensembl_id}\")\n",
    "\n",
    "            try:\n",
    "                r = gene1_obj.get_ssm_correlation(\n",
    "                    other_gene=gene2_obj,\n",
    "                    tissues=gene1_tissues,\n",
    "                    other_tissues=gene2_tissues,\n",
    "                    snps_subset=gwas_variants_ids_set,\n",
    "                    condition_number=SMULTIXCAN_CONDITION_NUMBER,\n",
    "                    reference_panel=REFERENCE_PANEL,\n",
    "                    model_type=EQTL_MODEL,\n",
    "                    use_within_distance=COMPUTE_CORRELATIONS_WITHIN_DISTANCE,\n",
    "                )\n",
    "\n",
    "                if r is None:\n",
    "                    # if r is None, it's very likely because:\n",
    "                    #  * one of the genes has no prediction models\n",
    "                    #  * all the SNPs predictors for the gene are not present in the reference\n",
    "                    #    panel\n",
    "\n",
    "                    r = 0.0\n",
    "\n",
    "                gene_corrs.append(r)\n",
    "\n",
    "                gene_corrs_data[gene1_idx, gene2_idx] = r\n",
    "                gene_corrs_data[gene2_idx, gene1_idx] = r\n",
    "            except Warning as e:\n",
    "                if not DEBUG_MODE:\n",
    "                    raise e\n",
    "\n",
    "                print(\n",
    "                    f\"RuntimeWarning for genes {gene1_obj.ensembl_id} and {gene2_obj.ensembl_id}\",\n",
    "                    flush=True,\n",
    "                )\n",
    "                print(traceback.format_exc(), flush=True)\n",
    "\n",
    "                gene_corrs.append(np.nan)\n",
    "            except Exception as e:\n",
    "                if not DEBUG_MODE:\n",
    "                    raise e\n",
    "\n",
    "                print(\n",
    "                    f\"Exception for genes {gene1_obj.ensembl_id} and {gene2_obj.ensembl_id}\",\n",
    "                    flush=True,\n",
    "                )\n",
    "                print(traceback.format_exc(), flush=True)\n",
    "\n",
    "                gene_corrs.append(np.nan)\n",
    "\n",
    "            pbar.update(1)\n",
    "\n",
    "# create a pandas series\n",
    "gene_corrs_flat = pd.Series(gene_corrs)\n",
    "\n",
    "# save\n",
    "# FIXME: consider saving only the condenced matrix here. See here for\n",
    "# more details: https://github.com/greenelab/phenoplier/pull/38#discussion_r634600813\n",
    "# gene_corrs_data = squareform(np.array(gene_corrs, dtype=np.float64))\n",
    "# np.fill_diagonal(gene_corrs_data, 1.0)\n",
    "\n",
    "gene_chr_ids = [g.ensembl_id for g in gene_chr_objs]\n",
    "gene_corrs_df = pd.DataFrame(\n",
    "    data=gene_corrs_data,\n",
    "    index=gene_chr_ids,\n",
    "    columns=gene_chr_ids,\n",
    ")\n",
    "\n",
    "output_dir.mkdir(exist_ok=True, parents=True)\n",
    "display(output_file)\n",
    "\n",
    "gene_corrs_df.to_pickle(output_file)"
   ]
  },
  {
   "cell_type": "markdown",
   "id": "faa67b51-5373-470f-aa72-2ded53fa6dfe",
   "metadata": {
    "papermill": {
     "duration": 0.370648,
     "end_time": "2022-08-27T06:11:02.514857",
     "exception": false,
     "start_time": "2022-08-27T06:11:02.144209",
     "status": "completed"
    },
    "tags": []
   },
   "source": [
    "# Testing"
   ]
  },
  {
   "cell_type": "code",
   "execution_count": 30,
   "id": "14f7d046-4b55-4896-a56b-990127bcc388",
   "metadata": {
    "execution": {
     "iopub.execute_input": "2022-08-27T06:11:03.179668Z",
     "iopub.status.busy": "2022-08-27T06:11:03.179406Z",
     "iopub.status.idle": "2022-08-27T06:11:03.389582Z",
     "shell.execute_reply": "2022-08-27T06:11:03.389159Z"
    },
    "papermill": {
     "duration": 0.542526,
     "end_time": "2022-08-27T06:11:03.390882",
     "exception": false,
     "start_time": "2022-08-27T06:11:02.848356",
     "status": "completed"
    },
    "tags": []
   },
   "outputs": [
    {
     "data": {
      "text/plain": [
       "(118, 118)"
      ]
     },
     "execution_count": 30,
     "metadata": {},
     "output_type": "execute_result"
    }
   ],
   "source": [
    "gene_corrs_df.shape"
   ]
  },
  {
   "cell_type": "code",
   "execution_count": 31,
   "id": "c7d15414-3297-4537-a7c6-7588c0baeb75",
   "metadata": {
    "execution": {
     "iopub.execute_input": "2022-08-27T06:11:04.079240Z",
     "iopub.status.busy": "2022-08-27T06:11:04.078993Z",
     "iopub.status.idle": "2022-08-27T06:11:04.111718Z",
     "shell.execute_reply": "2022-08-27T06:11:04.111283Z"
    },
    "papermill": {
     "duration": 0.360152,
     "end_time": "2022-08-27T06:11:04.113112",
     "exception": false,
     "start_time": "2022-08-27T06:11:03.752960",
     "status": "completed"
    },
    "tags": []
   },
   "outputs": [
    {
     "data": {
      "text/html": [
       "<div>\n",
       "<style scoped>\n",
       "    .dataframe tbody tr th:only-of-type {\n",
       "        vertical-align: middle;\n",
       "    }\n",
       "\n",
       "    .dataframe tbody tr th {\n",
       "        vertical-align: top;\n",
       "    }\n",
       "\n",
       "    .dataframe thead th {\n",
       "        text-align: right;\n",
       "    }\n",
       "</style>\n",
       "<table border=\"1\" class=\"dataframe\">\n",
       "  <thead>\n",
       "    <tr style=\"text-align: right;\">\n",
       "      <th></th>\n",
       "      <th>ENSG00000121741</th>\n",
       "      <th>ENSG00000121743</th>\n",
       "      <th>ENSG00000121742</th>\n",
       "      <th>ENSG00000032742</th>\n",
       "      <th>ENSG00000150457</th>\n",
       "      <th>ENSG00000150459</th>\n",
       "      <th>ENSG00000102678</th>\n",
       "      <th>ENSG00000127863</th>\n",
       "      <th>ENSG00000228741</th>\n",
       "      <th>ENSG00000102699</th>\n",
       "      <th>...</th>\n",
       "      <th>ENSG00000126217</th>\n",
       "      <th>ENSG00000057593</th>\n",
       "      <th>ENSG00000126231</th>\n",
       "      <th>ENSG00000139842</th>\n",
       "      <th>ENSG00000185896</th>\n",
       "      <th>ENSG00000198176</th>\n",
       "      <th>ENSG00000183087</th>\n",
       "      <th>ENSG00000185989</th>\n",
       "      <th>ENSG00000130177</th>\n",
       "      <th>ENSG00000169062</th>\n",
       "    </tr>\n",
       "  </thead>\n",
       "  <tbody>\n",
       "    <tr>\n",
       "      <th>ENSG00000121741</th>\n",
       "      <td>1.000000</td>\n",
       "      <td>0.012097</td>\n",
       "      <td>0.010611</td>\n",
       "      <td>0.002913</td>\n",
       "      <td>0.002772</td>\n",
       "      <td>0.002715</td>\n",
       "      <td>0.004328</td>\n",
       "      <td>0.008712</td>\n",
       "      <td>0.008212</td>\n",
       "      <td>0.005306</td>\n",
       "      <td>...</td>\n",
       "      <td>0.002273</td>\n",
       "      <td>0.002316</td>\n",
       "      <td>0.004024</td>\n",
       "      <td>0.002655</td>\n",
       "      <td>0.003584</td>\n",
       "      <td>0.005325</td>\n",
       "      <td>0.005457</td>\n",
       "      <td>0.004928</td>\n",
       "      <td>0.000120</td>\n",
       "      <td>0.002413</td>\n",
       "    </tr>\n",
       "    <tr>\n",
       "      <th>ENSG00000121743</th>\n",
       "      <td>0.012097</td>\n",
       "      <td>1.000000</td>\n",
       "      <td>0.027526</td>\n",
       "      <td>0.009339</td>\n",
       "      <td>0.013014</td>\n",
       "      <td>0.006677</td>\n",
       "      <td>0.003147</td>\n",
       "      <td>0.008399</td>\n",
       "      <td>0.006535</td>\n",
       "      <td>0.006577</td>\n",
       "      <td>...</td>\n",
       "      <td>0.014572</td>\n",
       "      <td>0.004869</td>\n",
       "      <td>0.004806</td>\n",
       "      <td>0.005822</td>\n",
       "      <td>0.007454</td>\n",
       "      <td>0.009804</td>\n",
       "      <td>0.012113</td>\n",
       "      <td>0.008139</td>\n",
       "      <td>0.003269</td>\n",
       "      <td>0.008925</td>\n",
       "    </tr>\n",
       "    <tr>\n",
       "      <th>ENSG00000121742</th>\n",
       "      <td>0.010611</td>\n",
       "      <td>0.027526</td>\n",
       "      <td>1.000000</td>\n",
       "      <td>0.010526</td>\n",
       "      <td>0.004309</td>\n",
       "      <td>0.006239</td>\n",
       "      <td>0.006277</td>\n",
       "      <td>0.011896</td>\n",
       "      <td>0.009944</td>\n",
       "      <td>0.005128</td>\n",
       "      <td>...</td>\n",
       "      <td>0.008928</td>\n",
       "      <td>0.004119</td>\n",
       "      <td>0.009162</td>\n",
       "      <td>0.009611</td>\n",
       "      <td>0.009891</td>\n",
       "      <td>0.007001</td>\n",
       "      <td>0.008803</td>\n",
       "      <td>0.010102</td>\n",
       "      <td>0.001320</td>\n",
       "      <td>0.005237</td>\n",
       "    </tr>\n",
       "    <tr>\n",
       "      <th>ENSG00000032742</th>\n",
       "      <td>0.002913</td>\n",
       "      <td>0.009339</td>\n",
       "      <td>0.010526</td>\n",
       "      <td>1.000000</td>\n",
       "      <td>0.017365</td>\n",
       "      <td>0.008454</td>\n",
       "      <td>0.005457</td>\n",
       "      <td>0.006960</td>\n",
       "      <td>0.008102</td>\n",
       "      <td>0.007006</td>\n",
       "      <td>...</td>\n",
       "      <td>0.008673</td>\n",
       "      <td>0.005617</td>\n",
       "      <td>0.005969</td>\n",
       "      <td>0.005758</td>\n",
       "      <td>0.005553</td>\n",
       "      <td>0.004665</td>\n",
       "      <td>0.006509</td>\n",
       "      <td>0.006436</td>\n",
       "      <td>0.003023</td>\n",
       "      <td>0.009008</td>\n",
       "    </tr>\n",
       "    <tr>\n",
       "      <th>ENSG00000150457</th>\n",
       "      <td>0.002772</td>\n",
       "      <td>0.013014</td>\n",
       "      <td>0.004309</td>\n",
       "      <td>0.017365</td>\n",
       "      <td>1.000000</td>\n",
       "      <td>0.003355</td>\n",
       "      <td>0.009922</td>\n",
       "      <td>0.014761</td>\n",
       "      <td>0.005899</td>\n",
       "      <td>0.005084</td>\n",
       "      <td>...</td>\n",
       "      <td>0.008614</td>\n",
       "      <td>0.005953</td>\n",
       "      <td>0.005296</td>\n",
       "      <td>0.005839</td>\n",
       "      <td>0.005654</td>\n",
       "      <td>0.006113</td>\n",
       "      <td>0.009551</td>\n",
       "      <td>0.005073</td>\n",
       "      <td>0.000634</td>\n",
       "      <td>0.003519</td>\n",
       "    </tr>\n",
       "  </tbody>\n",
       "</table>\n",
       "<p>5 rows × 118 columns</p>\n",
       "</div>"
      ],
      "text/plain": [
       "                 ENSG00000121741  ENSG00000121743  ENSG00000121742  \\\n",
       "ENSG00000121741         1.000000         0.012097         0.010611   \n",
       "ENSG00000121743         0.012097         1.000000         0.027526   \n",
       "ENSG00000121742         0.010611         0.027526         1.000000   \n",
       "ENSG00000032742         0.002913         0.009339         0.010526   \n",
       "ENSG00000150457         0.002772         0.013014         0.004309   \n",
       "\n",
       "                 ENSG00000032742  ENSG00000150457  ENSG00000150459  \\\n",
       "ENSG00000121741         0.002913         0.002772         0.002715   \n",
       "ENSG00000121743         0.009339         0.013014         0.006677   \n",
       "ENSG00000121742         0.010526         0.004309         0.006239   \n",
       "ENSG00000032742         1.000000         0.017365         0.008454   \n",
       "ENSG00000150457         0.017365         1.000000         0.003355   \n",
       "\n",
       "                 ENSG00000102678  ENSG00000127863  ENSG00000228741  \\\n",
       "ENSG00000121741         0.004328         0.008712         0.008212   \n",
       "ENSG00000121743         0.003147         0.008399         0.006535   \n",
       "ENSG00000121742         0.006277         0.011896         0.009944   \n",
       "ENSG00000032742         0.005457         0.006960         0.008102   \n",
       "ENSG00000150457         0.009922         0.014761         0.005899   \n",
       "\n",
       "                 ENSG00000102699  ...  ENSG00000126217  ENSG00000057593  \\\n",
       "ENSG00000121741         0.005306  ...         0.002273         0.002316   \n",
       "ENSG00000121743         0.006577  ...         0.014572         0.004869   \n",
       "ENSG00000121742         0.005128  ...         0.008928         0.004119   \n",
       "ENSG00000032742         0.007006  ...         0.008673         0.005617   \n",
       "ENSG00000150457         0.005084  ...         0.008614         0.005953   \n",
       "\n",
       "                 ENSG00000126231  ENSG00000139842  ENSG00000185896  \\\n",
       "ENSG00000121741         0.004024         0.002655         0.003584   \n",
       "ENSG00000121743         0.004806         0.005822         0.007454   \n",
       "ENSG00000121742         0.009162         0.009611         0.009891   \n",
       "ENSG00000032742         0.005969         0.005758         0.005553   \n",
       "ENSG00000150457         0.005296         0.005839         0.005654   \n",
       "\n",
       "                 ENSG00000198176  ENSG00000183087  ENSG00000185989  \\\n",
       "ENSG00000121741         0.005325         0.005457         0.004928   \n",
       "ENSG00000121743         0.009804         0.012113         0.008139   \n",
       "ENSG00000121742         0.007001         0.008803         0.010102   \n",
       "ENSG00000032742         0.004665         0.006509         0.006436   \n",
       "ENSG00000150457         0.006113         0.009551         0.005073   \n",
       "\n",
       "                 ENSG00000130177  ENSG00000169062  \n",
       "ENSG00000121741         0.000120         0.002413  \n",
       "ENSG00000121743         0.003269         0.008925  \n",
       "ENSG00000121742         0.001320         0.005237  \n",
       "ENSG00000032742         0.003023         0.009008  \n",
       "ENSG00000150457         0.000634         0.003519  \n",
       "\n",
       "[5 rows x 118 columns]"
      ]
     },
     "execution_count": 31,
     "metadata": {},
     "output_type": "execute_result"
    }
   ],
   "source": [
    "gene_corrs_df.head()"
   ]
  },
  {
   "cell_type": "markdown",
   "id": "dad6603f-01c6-41fb-a6f6-241051207dd8",
   "metadata": {
    "papermill": {
     "duration": 0.331301,
     "end_time": "2022-08-27T06:11:04.827202",
     "exception": false,
     "start_time": "2022-08-27T06:11:04.495901",
     "status": "completed"
    },
    "tags": []
   },
   "source": [
    "## Standard checks and stats"
   ]
  },
  {
   "cell_type": "code",
   "execution_count": 32,
   "id": "286686af-1b7b-4440-8453-6bdcbd8de19c",
   "metadata": {
    "execution": {
     "iopub.execute_input": "2022-08-27T06:11:05.525826Z",
     "iopub.status.busy": "2022-08-27T06:11:05.525576Z",
     "iopub.status.idle": "2022-08-27T06:11:05.545366Z",
     "shell.execute_reply": "2022-08-27T06:11:05.544935Z"
    },
    "papermill": {
     "duration": 0.356827,
     "end_time": "2022-08-27T06:11:05.546805",
     "exception": false,
     "start_time": "2022-08-27T06:11:05.189978",
     "status": "completed"
    },
    "tags": []
   },
   "outputs": [],
   "source": [
    "assert not gene_corrs_df.isna().any().any()"
   ]
  },
  {
   "cell_type": "code",
   "execution_count": 33,
   "id": "00583efc-7068-4270-ad1e-4a418e91db96",
   "metadata": {
    "execution": {
     "iopub.execute_input": "2022-08-27T06:11:06.216569Z",
     "iopub.status.busy": "2022-08-27T06:11:06.216310Z",
     "iopub.status.idle": "2022-08-27T06:11:06.238069Z",
     "shell.execute_reply": "2022-08-27T06:11:06.237657Z"
    },
    "papermill": {
     "duration": 0.372343,
     "end_time": "2022-08-27T06:11:06.239337",
     "exception": false,
     "start_time": "2022-08-27T06:11:05.866994",
     "status": "completed"
    },
    "tags": []
   },
   "outputs": [
    {
     "data": {
      "text/plain": [
       "4.361751120732276e-06"
      ]
     },
     "metadata": {},
     "output_type": "display_data"
    }
   ],
   "source": [
    "_min_val = gene_corrs_df.min().min()\n",
    "display(_min_val)\n",
    "assert _min_val >= -0.05"
   ]
  },
  {
   "cell_type": "code",
   "execution_count": 34,
   "id": "d04fb2cf-1050-475b-b855-f5f7cc04092b",
   "metadata": {
    "execution": {
     "iopub.execute_input": "2022-08-27T06:11:06.904644Z",
     "iopub.status.busy": "2022-08-27T06:11:06.904378Z",
     "iopub.status.idle": "2022-08-27T06:11:06.925906Z",
     "shell.execute_reply": "2022-08-27T06:11:06.925494Z"
    },
    "papermill": {
     "duration": 0.368789,
     "end_time": "2022-08-27T06:11:06.927173",
     "exception": false,
     "start_time": "2022-08-27T06:11:06.558384",
     "status": "completed"
    },
    "tags": []
   },
   "outputs": [
    {
     "data": {
      "text/plain": [
       "1.0000000000000024"
      ]
     },
     "metadata": {},
     "output_type": "display_data"
    }
   ],
   "source": [
    "_max_val = gene_corrs_df.max().max()  # this captures the diagonal\n",
    "display(_max_val)\n",
    "assert _max_val <= 1.05"
   ]
  },
  {
   "cell_type": "code",
   "execution_count": 35,
   "id": "96d02c44-1fba-47be-8a93-8f2608420b9c",
   "metadata": {
    "execution": {
     "iopub.execute_input": "2022-08-27T06:11:07.596049Z",
     "iopub.status.busy": "2022-08-27T06:11:07.595803Z",
     "iopub.status.idle": "2022-08-27T06:11:07.614553Z",
     "shell.execute_reply": "2022-08-27T06:11:07.614114Z"
    },
    "papermill": {
     "duration": 0.373487,
     "end_time": "2022-08-27T06:11:07.615998",
     "exception": false,
     "start_time": "2022-08-27T06:11:07.242511",
     "status": "completed"
    },
    "tags": []
   },
   "outputs": [],
   "source": [
    "# check upper triangular values\n",
    "# assert len(gene_corrs) == int(genes_chr.shape[0] * (genes_chr.shape[0] - 1) / 2)"
   ]
  },
  {
   "cell_type": "code",
   "execution_count": 36,
   "id": "fe283586-c348-40e0-8841-f6d97bfb021c",
   "metadata": {
    "execution": {
     "iopub.execute_input": "2022-08-27T06:11:08.244963Z",
     "iopub.status.busy": "2022-08-27T06:11:08.244715Z",
     "iopub.status.idle": "2022-08-27T06:11:08.268157Z",
     "shell.execute_reply": "2022-08-27T06:11:08.267730Z"
    },
    "papermill": {
     "duration": 0.338756,
     "end_time": "2022-08-27T06:11:08.269440",
     "exception": false,
     "start_time": "2022-08-27T06:11:07.930684",
     "status": "completed"
    },
    "tags": []
   },
   "outputs": [
    {
     "data": {
      "text/plain": [
       "count    7021.000000\n",
       "mean        0.026588\n",
       "std         0.132059\n",
       "min         0.000004\n",
       "25%         0.004513\n",
       "50%         0.006635\n",
       "75%         0.009220\n",
       "max         1.000000\n",
       "dtype: float64"
      ]
     },
     "execution_count": 36,
     "metadata": {},
     "output_type": "execute_result"
    }
   ],
   "source": [
    "gene_corrs_flat.describe()"
   ]
  },
  {
   "cell_type": "code",
   "execution_count": 37,
   "id": "b3815678-0f93-4b35-897b-a9d047a2aa78",
   "metadata": {
    "execution": {
     "iopub.execute_input": "2022-08-27T06:11:08.947976Z",
     "iopub.status.busy": "2022-08-27T06:11:08.947728Z",
     "iopub.status.idle": "2022-08-27T06:11:08.969644Z",
     "shell.execute_reply": "2022-08-27T06:11:08.969230Z"
    },
    "papermill": {
     "duration": 0.351441,
     "end_time": "2022-08-27T06:11:08.970878",
     "exception": false,
     "start_time": "2022-08-27T06:11:08.619437",
     "status": "completed"
    },
    "tags": []
   },
   "outputs": [
    {
     "data": {
      "text/plain": [
       "0.00    0.000004\n",
       "0.05    0.002059\n",
       "0.10    0.002948\n",
       "0.15    0.003540\n",
       "0.20    0.004043\n",
       "0.25    0.004513\n",
       "0.30    0.004995\n",
       "0.35    0.005412\n",
       "0.40    0.005839\n",
       "0.45    0.006243\n",
       "0.50    0.006635\n",
       "0.55    0.007103\n",
       "0.60    0.007561\n",
       "0.65    0.008042\n",
       "0.70    0.008586\n",
       "0.75    0.009220\n",
       "0.80    0.009861\n",
       "0.85    0.010763\n",
       "0.90    0.011985\n",
       "0.95    0.014429\n",
       "dtype: float64"
      ]
     },
     "metadata": {},
     "output_type": "display_data"
    }
   ],
   "source": [
    "gene_corrs_quantiles = gene_corrs_flat.quantile(np.arange(0, 1, 0.05))\n",
    "display(gene_corrs_quantiles)"
   ]
  },
  {
   "cell_type": "markdown",
   "id": "87134509-b145-4a10-8bc9-b7e914c2b0fa",
   "metadata": {
    "papermill": {
     "duration": 0.309421,
     "end_time": "2022-08-27T06:11:09.627308",
     "exception": false,
     "start_time": "2022-08-27T06:11:09.317887",
     "status": "completed"
    },
    "tags": []
   },
   "source": [
    "## Positive definiteness"
   ]
  },
  {
   "cell_type": "code",
   "execution_count": 38,
   "id": "07d9a9a1-a4f7-48aa-b916-6d42a8cc6186",
   "metadata": {
    "execution": {
     "iopub.execute_input": "2022-08-27T06:11:10.317223Z",
     "iopub.status.busy": "2022-08-27T06:11:10.316975Z",
     "iopub.status.idle": "2022-08-27T06:11:10.341562Z",
     "shell.execute_reply": "2022-08-27T06:11:10.341161Z"
    },
    "papermill": {
     "duration": 0.354499,
     "end_time": "2022-08-27T06:11:10.342769",
     "exception": false,
     "start_time": "2022-08-27T06:11:09.988270",
     "status": "completed"
    },
    "tags": []
   },
   "outputs": [
    {
     "data": {
      "text/plain": [
       "0"
      ]
     },
     "metadata": {},
     "output_type": "display_data"
    },
    {
     "data": {
      "text/plain": [
       "array([], dtype=float64)"
      ]
     },
     "metadata": {},
     "output_type": "display_data"
    }
   ],
   "source": [
    "# print negative eigenvalues\n",
    "eigs = np.linalg.eigvals(gene_corrs_df.to_numpy())\n",
    "display(len(eigs[eigs < 0]))\n",
    "display(eigs[eigs < 0])"
   ]
  },
  {
   "cell_type": "code",
   "execution_count": 39,
   "id": "6e218436-c3c5-4028-8c94-a4fa6260efce",
   "metadata": {
    "execution": {
     "iopub.execute_input": "2022-08-27T06:11:11.014545Z",
     "iopub.status.busy": "2022-08-27T06:11:11.014289Z",
     "iopub.status.idle": "2022-08-27T06:11:11.035659Z",
     "shell.execute_reply": "2022-08-27T06:11:11.035239Z"
    },
    "papermill": {
     "duration": 0.350399,
     "end_time": "2022-08-27T06:11:11.036929",
     "exception": false,
     "start_time": "2022-08-27T06:11:10.686530",
     "status": "completed"
    },
    "tags": []
   },
   "outputs": [
    {
     "name": "stdout",
     "output_type": "stream",
     "text": [
      "Works!\n"
     ]
    }
   ],
   "source": [
    "try:\n",
    "    chol_mat = np.linalg.cholesky(gene_corrs_df.to_numpy())\n",
    "    cov_inv = np.linalg.inv(chol_mat)\n",
    "    print(\"Works!\")\n",
    "except Exception as e:\n",
    "    print(f\"Cholesky decomposition failed: {str(e)}\")"
   ]
  },
  {
   "cell_type": "code",
   "execution_count": 40,
   "id": "dd8827fb-faf9-4c7c-9454-015e94752706",
   "metadata": {
    "execution": {
     "iopub.execute_input": "2022-08-27T06:11:11.712395Z",
     "iopub.status.busy": "2022-08-27T06:11:11.712146Z",
     "iopub.status.idle": "2022-08-27T06:11:11.732772Z",
     "shell.execute_reply": "2022-08-27T06:11:11.732341Z"
    },
    "papermill": {
     "duration": 0.369597,
     "end_time": "2022-08-27T06:11:11.734033",
     "exception": false,
     "start_time": "2022-08-27T06:11:11.364436",
     "status": "completed"
    },
    "tags": []
   },
   "outputs": [
    {
     "name": "stdout",
     "output_type": "stream",
     "text": [
      "Works!\n"
     ]
    }
   ],
   "source": [
    "try:\n",
    "    # decomposition used by statsmodels.GLS\n",
    "    cholsigmainv = np.linalg.cholesky(np.linalg.inv(gene_corrs_df.to_numpy())).T\n",
    "    print(\"Works!\")\n",
    "except Exception as e:\n",
    "    print(f\"Cholesky decomposition failed (statsmodels.GLS): {str(e)}\")"
   ]
  },
  {
   "cell_type": "markdown",
   "id": "8e60a080-edb2-4e9c-b2ef-22961693200c",
   "metadata": {
    "papermill": {
     "duration": 0.352914,
     "end_time": "2022-08-27T06:11:12.399275",
     "exception": false,
     "start_time": "2022-08-27T06:11:12.046361",
     "status": "completed"
    },
    "tags": []
   },
   "source": [
    "## Plot: distribution"
   ]
  },
  {
   "cell_type": "code",
   "execution_count": 41,
   "id": "8301126b-a7d4-4744-9c7d-f0f86eb6f54c",
   "metadata": {
    "execution": {
     "iopub.execute_input": "2022-08-27T06:11:13.080416Z",
     "iopub.status.busy": "2022-08-27T06:11:13.080161Z",
     "iopub.status.idle": "2022-08-27T06:11:16.657199Z",
     "shell.execute_reply": "2022-08-27T06:11:16.656744Z"
    },
    "papermill": {
     "duration": 3.944483,
     "end_time": "2022-08-27T06:11:16.658708",
     "exception": false,
     "start_time": "2022-08-27T06:11:12.714225",
     "status": "completed"
    },
    "tags": []
   },
   "outputs": [
    {
     "data": {
      "image/png": "[encoded data removed]",
      "text/plain": [
       "<Figure size 504x504 with 1 Axes>"
      ]
     },
     "metadata": {
      "needs_background": "light"
     },
     "output_type": "display_data"
    }
   ],
   "source": [
    "with sns.plotting_context(\"paper\", font_scale=1.5):\n",
    "    g = sns.displot(gene_corrs_flat, kde=True, height=7)\n",
    "    g.ax.set_title(\n",
    "        f\"Distribution of gene correlation values in chromosome {CHROMOSOME}\"\n",
    "    )"
   ]
  },
  {
   "cell_type": "markdown",
   "id": "cbd52bca-d878-4a2f-b684-5c83aa3038d4",
   "metadata": {
    "papermill": {
     "duration": 0.327977,
     "end_time": "2022-08-27T06:11:17.308255",
     "exception": false,
     "start_time": "2022-08-27T06:11:16.980278",
     "status": "completed"
    },
    "tags": []
   },
   "source": [
    "## Plot: heatmap"
   ]
  },
  {
   "cell_type": "code",
   "execution_count": 42,
   "id": "d03fe63a-c7b2-4fb9-a53c-db362ce843c9",
   "metadata": {
    "execution": {
     "iopub.execute_input": "2022-08-27T06:11:18.008158Z",
     "iopub.status.busy": "2022-08-27T06:11:18.007912Z",
     "iopub.status.idle": "2022-08-27T06:11:18.029031Z",
     "shell.execute_reply": "2022-08-27T06:11:18.028625Z"
    },
    "papermill": {
     "duration": 0.350036,
     "end_time": "2022-08-27T06:11:18.030259",
     "exception": false,
     "start_time": "2022-08-27T06:11:17.680223",
     "status": "completed"
    },
    "tags": []
   },
   "outputs": [
    {
     "data": {
      "text/plain": [
       "'0.0 / 0.05'"
      ]
     },
     "metadata": {},
     "output_type": "display_data"
    }
   ],
   "source": [
    "vmin_val = min(0.00, gene_corrs_quantiles[0.10])\n",
    "vmax_val = max(0.05, gene_corrs_quantiles[0.90])\n",
    "display(f\"{vmin_val} / {vmax_val}\")"
   ]
  },
  {
   "cell_type": "code",
   "execution_count": 43,
   "id": "dc41b70b-5bcc-4d9e-9f33-a22c4a94dab5",
   "metadata": {
    "execution": {
     "iopub.execute_input": "2022-08-27T06:11:18.688148Z",
     "iopub.status.busy": "2022-08-27T06:11:18.687889Z",
     "iopub.status.idle": "2022-08-27T06:11:18.836502Z",
     "shell.execute_reply": "2022-08-27T06:11:18.836050Z"
    },
    "papermill": {
     "duration": 0.463016,
     "end_time": "2022-08-27T06:11:18.837943",
     "exception": false,
     "start_time": "2022-08-27T06:11:18.374927",
     "status": "completed"
    },
    "tags": []
   },
   "outputs": [
    {
     "data": {
      "text/plain": [
       "Text(0.5, 1.0, 'Gene correlations in chromosome 13')"
      ]
     },
     "execution_count": 43,
     "metadata": {},
     "output_type": "execute_result"
    },
    {
     "data": {
      "image/png": "[encoded data removed]",
      "text/plain": [
       "<Figure size 720x720 with 2 Axes>"
      ]
     },
     "metadata": {
      "needs_background": "light"
     },
     "output_type": "display_data"
    }
   ],
   "source": [
    "f, ax = plt.subplots(figsize=(10, 10))\n",
    "sns.heatmap(\n",
    "    gene_corrs_df,\n",
    "    xticklabels=False,\n",
    "    yticklabels=False,\n",
    "    square=True,\n",
    "    vmin=vmin_val,\n",
    "    vmax=vmax_val,\n",
    "    cmap=\"rocket_r\",\n",
    "    ax=ax,\n",
    ")\n",
    "ax.set_title(f\"Gene correlations in chromosome {CHROMOSOME}\")"
   ]
  },
  {
   "cell_type": "code",
   "execution_count": null,
   "id": "b25e3ead",
   "metadata": {
    "papermill": {
     "duration": 0.326514,
     "end_time": "2022-08-27T06:11:19.526570",
     "exception": false,
     "start_time": "2022-08-27T06:11:19.200056",
     "status": "completed"
    },
    "tags": []
   },
   "outputs": [],
   "source": []
  }
 ],
 "metadata": {
  "jupytext": {
   "cell_metadata_filter": "all,-execution,-papermill,-trusted",
   "formats": "ipynb,py//py:percent"
  },
  "kernelspec": {
   "display_name": "Python 3 (ipykernel)",
   "language": "python",
   "name": "python3"
  },
  "language_info": {
   "codemirror_mode": {
    "name": "ipython",
    "version": 3
   },
   "file_extension": ".py",
   "mimetype": "text/x-python",
   "name": "python",
   "nbconvert_exporter": "python",
   "pygments_lexer": "ipython3",
   "version": "3.8.13"
  },
  "papermill": {
   "default_parameters": {},
   "duration": 486.784974,
   "end_time": "2022-08-27T06:11:22.904175",
   "environment_variables": {},
   "exception": null,
   "input_path": "nbs/15_gsa_gls/10-gene_expr_correlations.ipynb",
   "output_path": "nbs/15_gsa_gls/gene_corrs/cohorts/phenomexcan_other/gtex_v8/mashr/10-gene_expr_corrs/10-gene_expr_correlations-chr13.run.ipynb",
   "parameters": {
    "CHROMOSOME": 13,
    "COHORT_NAME": "phenomexcan_other",
    "EQTL_MODEL": "MASHR",
    "REFERENCE_PANEL": "GTEX_V8"
   },
   "start_time": "2022-08-27T06:03:16.119201",
   "version": "2.2.2"
  }
 },
 "nbformat": 4,
 "nbformat_minor": 5
}
