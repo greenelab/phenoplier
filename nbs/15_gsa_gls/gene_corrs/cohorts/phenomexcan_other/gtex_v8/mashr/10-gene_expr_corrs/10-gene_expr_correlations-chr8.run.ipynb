{
 "cells": [
  {
   "cell_type": "markdown",
   "id": "7a6632fb",
   "metadata": {
    "papermill": {
     "duration": 0.019683,
     "end_time": "2022-08-27T06:03:19.039535",
     "exception": false,
     "start_time": "2022-08-27T06:03:19.019852",
     "status": "completed"
    },
    "tags": []
   },
   "source": [
    "# Description"
   ]
  },
  {
   "cell_type": "markdown",
   "id": "7097c346",
   "metadata": {
    "papermill": {
     "duration": 0.017174,
     "end_time": "2022-08-27T06:03:19.072860",
     "exception": false,
     "start_time": "2022-08-27T06:03:19.055686",
     "status": "completed"
    },
    "tags": []
   },
   "source": [
    "(Please, take a look at the README.md file in this directory for instructions on how to run this notebook)\n",
    "\n",
    "This notebook computes predicted expression correlations between all genes in the MultiPLIER models.\n",
    "\n",
    "It also has a parameter set for papermill to run on a single chromosome to run in parallel (see under `Settings` below).\n",
    "\n",
    "This notebook is not directly run. See README.md."
   ]
  },
  {
   "cell_type": "markdown",
   "id": "c61d8427",
   "metadata": {
    "papermill": {
     "duration": 0.012901,
     "end_time": "2022-08-27T06:03:19.100295",
     "exception": false,
     "start_time": "2022-08-27T06:03:19.087394",
     "status": "completed"
    },
    "tags": []
   },
   "source": [
    "# Modules"
   ]
  },
  {
   "cell_type": "code",
   "execution_count": 1,
   "id": "bbc0234f",
   "metadata": {
    "execution": {
     "iopub.execute_input": "2022-08-27T06:03:19.126708Z",
     "iopub.status.busy": "2022-08-27T06:03:19.126383Z",
     "iopub.status.idle": "2022-08-27T06:03:19.151481Z",
     "shell.execute_reply": "2022-08-27T06:03:19.150796Z"
    },
    "papermill": {
     "duration": 0.041432,
     "end_time": "2022-08-27T06:03:19.153874",
     "exception": false,
     "start_time": "2022-08-27T06:03:19.112442",
     "status": "completed"
    },
    "tags": []
   },
   "outputs": [],
   "source": [
    "%load_ext autoreload\n",
    "%autoreload 2"
   ]
  },
  {
   "cell_type": "code",
   "execution_count": 2,
   "id": "1d5f5a59",
   "metadata": {
    "execution": {
     "iopub.execute_input": "2022-08-27T06:03:19.178771Z",
     "iopub.status.busy": "2022-08-27T06:03:19.178582Z",
     "iopub.status.idle": "2022-08-27T06:03:23.998879Z",
     "shell.execute_reply": "2022-08-27T06:03:23.998261Z"
    },
    "papermill": {
     "duration": 4.836353,
     "end_time": "2022-08-27T06:03:24.000868",
     "exception": false,
     "start_time": "2022-08-27T06:03:19.164515",
     "status": "completed"
    },
    "tags": []
   },
   "outputs": [],
   "source": [
    "from random import sample, seed\n",
    "import warnings\n",
    "from pathlib import Path\n",
    "import pickle\n",
    "import traceback\n",
    "\n",
    "import numpy as np\n",
    "from scipy.spatial.distance import squareform\n",
    "import pandas as pd\n",
    "from tqdm import tqdm\n",
    "import matplotlib.pyplot as plt\n",
    "import seaborn as sns\n",
    "\n",
    "import conf\n",
    "from entity import Gene"
   ]
  },
  {
   "cell_type": "markdown",
   "id": "1eac24b5",
   "metadata": {
    "papermill": {
     "duration": 0.017897,
     "end_time": "2022-08-27T06:03:24.067144",
     "exception": false,
     "start_time": "2022-08-27T06:03:24.049247",
     "status": "completed"
    },
    "tags": []
   },
   "source": [
    "# Settings"
   ]
  },
  {
   "cell_type": "code",
   "execution_count": 3,
   "id": "ca4560ba",
   "metadata": {
    "execution": {
     "iopub.execute_input": "2022-08-27T06:03:24.104822Z",
     "iopub.status.busy": "2022-08-27T06:03:24.104550Z",
     "iopub.status.idle": "2022-08-27T06:03:24.129817Z",
     "shell.execute_reply": "2022-08-27T06:03:24.129251Z"
    },
    "papermill": {
     "duration": 0.047786,
     "end_time": "2022-08-27T06:03:24.131538",
     "exception": false,
     "start_time": "2022-08-27T06:03:24.083752",
     "status": "completed"
    },
    "tags": [
     "parameters"
    ]
   },
   "outputs": [],
   "source": [
    "# a cohort name (it could be something like UK_BIOBANK, etc)\n",
    "COHORT_NAME = None\n",
    "\n",
    "# reference panel such as 1000G or GTEX_V8\n",
    "REFERENCE_PANEL = None\n",
    "\n",
    "# predictions models such as MASHR or ELASTIC_NET\n",
    "EQTL_MODEL = None\n",
    "\n",
    "# this is the default value used in S-MultiXcan to select the\n",
    "# top principal components of the expression correlation matrix\n",
    "SMULTIXCAN_CONDITION_NUMBER = 30\n",
    "\n",
    "# specifies a single chromosome value\n",
    "CHROMOSOME = None\n",
    "\n",
    "# If True, computes the correlation between closeby genes only;\n",
    "# otherwise, it computes correlations for all genes in a chromosome\n",
    "COMPUTE_CORRELATIONS_WITHIN_DISTANCE = False\n",
    "\n",
    "# if True, then it will continue if a gene pair correlation fails,\n",
    "# printing the warning/error for debugging. If False, any warning/error\n",
    "# will be thrown\n",
    "DEBUG_MODE = False"
   ]
  },
  {
   "cell_type": "code",
   "execution_count": 4,
   "id": "3ebd79ba",
   "metadata": {
    "execution": {
     "iopub.execute_input": "2022-08-27T06:03:24.168003Z",
     "iopub.status.busy": "2022-08-27T06:03:24.167796Z",
     "iopub.status.idle": "2022-08-27T06:03:24.185897Z",
     "shell.execute_reply": "2022-08-27T06:03:24.185365Z"
    },
    "papermill": {
     "duration": 0.035971,
     "end_time": "2022-08-27T06:03:24.187547",
     "exception": false,
     "start_time": "2022-08-27T06:03:24.151576",
     "status": "completed"
    },
    "tags": [
     "injected-parameters"
    ]
   },
   "outputs": [],
   "source": [
    "# Parameters\n",
    "COHORT_NAME = \"phenomexcan_other\"\n",
    "REFERENCE_PANEL = \"GTEX_V8\"\n",
    "EQTL_MODEL = \"MASHR\"\n",
    "CHROMOSOME = 8\n"
   ]
  },
  {
   "cell_type": "code",
   "execution_count": 5,
   "id": "3190631f-27fc-480f-b18e-571d580425a5",
   "metadata": {
    "execution": {
     "iopub.execute_input": "2022-08-27T06:03:24.219840Z",
     "iopub.status.busy": "2022-08-27T06:03:24.219634Z",
     "iopub.status.idle": "2022-08-27T06:03:24.240941Z",
     "shell.execute_reply": "2022-08-27T06:03:24.240437Z"
    },
    "papermill": {
     "duration": 0.038587,
     "end_time": "2022-08-27T06:03:24.242459",
     "exception": false,
     "start_time": "2022-08-27T06:03:24.203872",
     "status": "completed"
    },
    "tags": []
   },
   "outputs": [
    {
     "data": {
      "text/plain": [
       "'Cohort name: phenomexcan_other'"
      ]
     },
     "metadata": {},
     "output_type": "display_data"
    }
   ],
   "source": [
    "assert COHORT_NAME is not None and len(COHORT_NAME) > 0, \"A cohort name must be given\"\n",
    "\n",
    "COHORT_NAME = COHORT_NAME.lower()\n",
    "display(f\"Cohort name: {COHORT_NAME}\")"
   ]
  },
  {
   "cell_type": "code",
   "execution_count": 6,
   "id": "f53ba19b-0f93-4fa2-a047-63b375939d1a",
   "metadata": {
    "execution": {
     "iopub.execute_input": "2022-08-27T06:03:24.277474Z",
     "iopub.status.busy": "2022-08-27T06:03:24.277250Z",
     "iopub.status.idle": "2022-08-27T06:03:24.297025Z",
     "shell.execute_reply": "2022-08-27T06:03:24.296482Z"
    },
    "papermill": {
     "duration": 0.034511,
     "end_time": "2022-08-27T06:03:24.298628",
     "exception": false,
     "start_time": "2022-08-27T06:03:24.264117",
     "status": "completed"
    },
    "tags": []
   },
   "outputs": [
    {
     "data": {
      "text/plain": [
       "'Reference panel: GTEX_V8'"
      ]
     },
     "metadata": {},
     "output_type": "display_data"
    }
   ],
   "source": [
    "assert (\n",
    "    REFERENCE_PANEL is not None and len(REFERENCE_PANEL) > 0\n",
    "), \"A reference panel must be given\"\n",
    "\n",
    "display(f\"Reference panel: {REFERENCE_PANEL}\")"
   ]
  },
  {
   "cell_type": "code",
   "execution_count": 7,
   "id": "e024d130-c139-429a-9c6e-ccf149e297b0",
   "metadata": {
    "execution": {
     "iopub.execute_input": "2022-08-27T06:03:24.318899Z",
     "iopub.status.busy": "2022-08-27T06:03:24.318693Z",
     "iopub.status.idle": "2022-08-27T06:03:24.338704Z",
     "shell.execute_reply": "2022-08-27T06:03:24.338172Z"
    },
    "papermill": {
     "duration": 0.032371,
     "end_time": "2022-08-27T06:03:24.340209",
     "exception": false,
     "start_time": "2022-08-27T06:03:24.307838",
     "status": "completed"
    },
    "tags": []
   },
   "outputs": [
    {
     "data": {
      "text/plain": [
       "'eQTL model: MASHR) / mashr_'"
      ]
     },
     "metadata": {},
     "output_type": "display_data"
    }
   ],
   "source": [
    "assert (\n",
    "    EQTL_MODEL is not None and len(EQTL_MODEL) > 0\n",
    "), \"A prediction/eQTL model must be given\"\n",
    "\n",
    "EQTL_MODEL_FILES_PREFIX = conf.PHENOMEXCAN[\"PREDICTION_MODELS\"][f\"{EQTL_MODEL}_PREFIX\"]\n",
    "display(f\"eQTL model: {EQTL_MODEL}) / {EQTL_MODEL_FILES_PREFIX}\")"
   ]
  },
  {
   "cell_type": "code",
   "execution_count": 8,
   "id": "552a7f63-a18c-4d3e-bb6a-94f99b431291",
   "metadata": {
    "execution": {
     "iopub.execute_input": "2022-08-27T06:03:24.361068Z",
     "iopub.status.busy": "2022-08-27T06:03:24.360876Z",
     "iopub.status.idle": "2022-08-27T06:03:24.380755Z",
     "shell.execute_reply": "2022-08-27T06:03:24.380211Z"
    },
    "papermill": {
     "duration": 0.030917,
     "end_time": "2022-08-27T06:03:24.382337",
     "exception": false,
     "start_time": "2022-08-27T06:03:24.351420",
     "status": "completed"
    },
    "tags": []
   },
   "outputs": [
    {
     "data": {
      "text/plain": [
       "'S-MultiXcan condition number: 30'"
      ]
     },
     "metadata": {},
     "output_type": "display_data"
    }
   ],
   "source": [
    "assert (\n",
    "    SMULTIXCAN_CONDITION_NUMBER is not None and SMULTIXCAN_CONDITION_NUMBER > 0\n",
    "), \"The S-MultiXcan condition number (positive integer) must be given\"\n",
    "\n",
    "display(f\"S-MultiXcan condition number: {SMULTIXCAN_CONDITION_NUMBER}\")"
   ]
  },
  {
   "cell_type": "code",
   "execution_count": 9,
   "id": "f34a336f-548e-4afe-8955-90eaea4f42c6",
   "metadata": {
    "execution": {
     "iopub.execute_input": "2022-08-27T06:03:24.405319Z",
     "iopub.status.busy": "2022-08-27T06:03:24.405098Z",
     "iopub.status.idle": "2022-08-27T06:03:24.424537Z",
     "shell.execute_reply": "2022-08-27T06:03:24.423996Z"
    },
    "papermill": {
     "duration": 0.031876,
     "end_time": "2022-08-27T06:03:24.426007",
     "exception": false,
     "start_time": "2022-08-27T06:03:24.394131",
     "status": "completed"
    },
    "tags": []
   },
   "outputs": [
    {
     "data": {
      "text/plain": [
       "'Working on chromosome 8'"
      ]
     },
     "metadata": {},
     "output_type": "display_data"
    }
   ],
   "source": [
    "assert CHROMOSOME is not None and (\n",
    "    1 <= CHROMOSOME <= 22\n",
    "), \"You have to select one chromosome (format: number between 1 and 22)\"\n",
    "\n",
    "# CHROMOSOME = str(CHROMOSOME)\n",
    "display(f\"Working on chromosome {CHROMOSOME}\")"
   ]
  },
  {
   "cell_type": "code",
   "execution_count": 10,
   "id": "ab8e96e8-06b5-4363-9dcd-dc4d78cc27f7",
   "metadata": {
    "execution": {
     "iopub.execute_input": "2022-08-27T06:03:24.445050Z",
     "iopub.status.busy": "2022-08-27T06:03:24.444859Z",
     "iopub.status.idle": "2022-08-27T06:03:24.464370Z",
     "shell.execute_reply": "2022-08-27T06:03:24.463796Z"
    },
    "papermill": {
     "duration": 0.030879,
     "end_time": "2022-08-27T06:03:24.465969",
     "exception": false,
     "start_time": "2022-08-27T06:03:24.435090",
     "status": "completed"
    },
    "tags": []
   },
   "outputs": [
    {
     "data": {
      "text/plain": [
       "'Compute correlation within distance False'"
      ]
     },
     "metadata": {},
     "output_type": "display_data"
    }
   ],
   "source": [
    "display(f\"Compute correlation within distance {COMPUTE_CORRELATIONS_WITHIN_DISTANCE}\")"
   ]
  },
  {
   "cell_type": "code",
   "execution_count": 11,
   "id": "396392dc-0340-4540-9b02-e182b833f909",
   "metadata": {
    "execution": {
     "iopub.execute_input": "2022-08-27T06:03:24.486872Z",
     "iopub.status.busy": "2022-08-27T06:03:24.486662Z",
     "iopub.status.idle": "2022-08-27T06:03:24.508141Z",
     "shell.execute_reply": "2022-08-27T06:03:24.507617Z"
    },
    "papermill": {
     "duration": 0.032998,
     "end_time": "2022-08-27T06:03:24.509633",
     "exception": false,
     "start_time": "2022-08-27T06:03:24.476635",
     "status": "completed"
    },
    "tags": []
   },
   "outputs": [
    {
     "data": {
      "text/plain": [
       "'Using output dir base: /project/ritchie20/projects/phenoplier/base/results/gls/gene_corrs/cohorts/phenomexcan_other/gtex_v8/mashr'"
      ]
     },
     "metadata": {},
     "output_type": "display_data"
    }
   ],
   "source": [
    "OUTPUT_DIR_BASE = (\n",
    "    conf.RESULTS[\"GLS\"]\n",
    "    / \"gene_corrs\"\n",
    "    / \"cohorts\"\n",
    "    / COHORT_NAME\n",
    "    / REFERENCE_PANEL.lower()\n",
    "    / EQTL_MODEL.lower()\n",
    ")\n",
    "OUTPUT_DIR_BASE.mkdir(parents=True, exist_ok=True)\n",
    "\n",
    "display(f\"Using output dir base: {OUTPUT_DIR_BASE}\")"
   ]
  },
  {
   "cell_type": "markdown",
   "id": "d2ba085e",
   "metadata": {
    "papermill": {
     "duration": 0.01255,
     "end_time": "2022-08-27T06:03:24.533066",
     "exception": false,
     "start_time": "2022-08-27T06:03:24.520516",
     "status": "completed"
    },
    "tags": []
   },
   "source": [
    "# Load data"
   ]
  },
  {
   "cell_type": "markdown",
   "id": "7dcb8db7",
   "metadata": {
    "papermill": {
     "duration": 0.008994,
     "end_time": "2022-08-27T06:03:24.553025",
     "exception": false,
     "start_time": "2022-08-27T06:03:24.544031",
     "status": "completed"
    },
    "tags": []
   },
   "source": [
    "## GWAS variants"
   ]
  },
  {
   "cell_type": "code",
   "execution_count": 12,
   "id": "29434c4e-8cd3-4b9b-82e4-b5a251d9dd19",
   "metadata": {
    "execution": {
     "iopub.execute_input": "2022-08-27T06:03:24.572816Z",
     "iopub.status.busy": "2022-08-27T06:03:24.572609Z",
     "iopub.status.idle": "2022-08-27T06:03:27.088235Z",
     "shell.execute_reply": "2022-08-27T06:03:27.087617Z"
    },
    "papermill": {
     "duration": 2.52744,
     "end_time": "2022-08-27T06:03:27.090210",
     "exception": false,
     "start_time": "2022-08-27T06:03:24.562770",
     "status": "completed"
    },
    "tags": []
   },
   "outputs": [],
   "source": [
    "with open(OUTPUT_DIR_BASE / \"gwas_variant_ids.pkl\", \"rb\") as handle:\n",
    "    gwas_variants_ids_set = pickle.load(handle)"
   ]
  },
  {
   "cell_type": "code",
   "execution_count": 13,
   "id": "b9d9dec2-4a76-4bf9-bde2-e24c95acb8a0",
   "metadata": {
    "execution": {
     "iopub.execute_input": "2022-08-27T06:03:27.154374Z",
     "iopub.status.busy": "2022-08-27T06:03:27.154166Z",
     "iopub.status.idle": "2022-08-27T06:03:27.176855Z",
     "shell.execute_reply": "2022-08-27T06:03:27.176300Z"
    },
    "papermill": {
     "duration": 0.055504,
     "end_time": "2022-08-27T06:03:27.178465",
     "exception": false,
     "start_time": "2022-08-27T06:03:27.122961",
     "status": "completed"
    },
    "tags": []
   },
   "outputs": [
    {
     "data": {
      "text/plain": [
       "8865800"
      ]
     },
     "execution_count": 13,
     "metadata": {},
     "output_type": "execute_result"
    }
   ],
   "source": [
    "len(gwas_variants_ids_set)"
   ]
  },
  {
   "cell_type": "code",
   "execution_count": 14,
   "id": "4235b06a-6034-4ee4-a0a3-2ae35d122418",
   "metadata": {
    "execution": {
     "iopub.execute_input": "2022-08-27T06:03:27.232209Z",
     "iopub.status.busy": "2022-08-27T06:03:27.231980Z",
     "iopub.status.idle": "2022-08-27T06:03:27.898579Z",
     "shell.execute_reply": "2022-08-27T06:03:27.897789Z"
    },
    "papermill": {
     "duration": 0.694862,
     "end_time": "2022-08-27T06:03:27.900432",
     "exception": false,
     "start_time": "2022-08-27T06:03:27.205570",
     "status": "completed"
    },
    "tags": []
   },
   "outputs": [
    {
     "data": {
      "text/plain": [
       "['chr5_31818212_T_C_b38',\n",
       " 'chr2_31043269_T_G_b38',\n",
       " 'chr8_63420440_G_A_b38',\n",
       " 'chr5_106624123_C_T_b38',\n",
       " 'chr5_121796851_GT_G_b38']"
      ]
     },
     "execution_count": 14,
     "metadata": {},
     "output_type": "execute_result"
    }
   ],
   "source": [
    "list(gwas_variants_ids_set)[:5]"
   ]
  },
  {
   "cell_type": "markdown",
   "id": "07866999-2305-41f9-a144-e69c9122c212",
   "metadata": {
    "papermill": {
     "duration": 0.0132,
     "end_time": "2022-08-27T06:03:27.928722",
     "exception": false,
     "start_time": "2022-08-27T06:03:27.915522",
     "status": "completed"
    },
    "tags": []
   },
   "source": [
    "## S-PrediXcan tissue models"
   ]
  },
  {
   "cell_type": "code",
   "execution_count": 15,
   "id": "780611d9-77c8-405f-90a4-f271f7b09397",
   "metadata": {
    "execution": {
     "iopub.execute_input": "2022-08-27T06:03:27.954497Z",
     "iopub.status.busy": "2022-08-27T06:03:27.954261Z",
     "iopub.status.idle": "2022-08-27T06:03:28.965143Z",
     "shell.execute_reply": "2022-08-27T06:03:28.964539Z"
    },
    "papermill": {
     "duration": 1.025809,
     "end_time": "2022-08-27T06:03:28.967033",
     "exception": false,
     "start_time": "2022-08-27T06:03:27.941224",
     "status": "completed"
    },
    "tags": []
   },
   "outputs": [],
   "source": [
    "spredixcan_genes_models = pd.read_pickle(OUTPUT_DIR_BASE / \"gene_tissues.pkl\")"
   ]
  },
  {
   "cell_type": "code",
   "execution_count": 16,
   "id": "726dd1f6-9557-4225-91fa-b3b879ea96e1",
   "metadata": {
    "execution": {
     "iopub.execute_input": "2022-08-27T06:03:28.998737Z",
     "iopub.status.busy": "2022-08-27T06:03:28.998520Z",
     "iopub.status.idle": "2022-08-27T06:03:29.022367Z",
     "shell.execute_reply": "2022-08-27T06:03:29.021793Z"
    },
    "papermill": {
     "duration": 0.040732,
     "end_time": "2022-08-27T06:03:29.023963",
     "exception": false,
     "start_time": "2022-08-27T06:03:28.983231",
     "status": "completed"
    },
    "tags": []
   },
   "outputs": [
    {
     "data": {
      "text/plain": [
       "(6450, 3)"
      ]
     },
     "execution_count": 16,
     "metadata": {},
     "output_type": "execute_result"
    }
   ],
   "source": [
    "spredixcan_genes_models.shape"
   ]
  },
  {
   "cell_type": "code",
   "execution_count": 17,
   "id": "944a1b48-222c-4eb0-b252-b9de2cbca215",
   "metadata": {
    "execution": {
     "iopub.execute_input": "2022-08-27T06:03:29.060303Z",
     "iopub.status.busy": "2022-08-27T06:03:29.060065Z",
     "iopub.status.idle": "2022-08-27T06:03:29.095148Z",
     "shell.execute_reply": "2022-08-27T06:03:29.094609Z"
    },
    "papermill": {
     "duration": 0.051156,
     "end_time": "2022-08-27T06:03:29.096758",
     "exception": false,
     "start_time": "2022-08-27T06:03:29.045602",
     "status": "completed"
    },
    "tags": []
   },
   "outputs": [
    {
     "data": {
      "text/html": [
       "<div>\n",
       "<style scoped>\n",
       "    .dataframe tbody tr th:only-of-type {\n",
       "        vertical-align: middle;\n",
       "    }\n",
       "\n",
       "    .dataframe tbody tr th {\n",
       "        vertical-align: top;\n",
       "    }\n",
       "\n",
       "    .dataframe thead th {\n",
       "        text-align: right;\n",
       "    }\n",
       "</style>\n",
       "<table border=\"1\" class=\"dataframe\">\n",
       "  <thead>\n",
       "    <tr style=\"text-align: right;\">\n",
       "      <th></th>\n",
       "      <th>gene_name</th>\n",
       "      <th>tissue</th>\n",
       "      <th>n_tissues</th>\n",
       "    </tr>\n",
       "    <tr>\n",
       "      <th>gene_id</th>\n",
       "      <th></th>\n",
       "      <th></th>\n",
       "      <th></th>\n",
       "    </tr>\n",
       "  </thead>\n",
       "  <tbody>\n",
       "    <tr>\n",
       "      <th>ENSG00000000419</th>\n",
       "      <td>DPM1</td>\n",
       "      <td>(Brain_Hypothalamus, Brain_Substantia_nigra, C...</td>\n",
       "      <td>3</td>\n",
       "    </tr>\n",
       "    <tr>\n",
       "      <th>ENSG00000000938</th>\n",
       "      <td>FGR</td>\n",
       "      <td>(Colon_Sigmoid, Esophagus_Mucosa, Pituitary, A...</td>\n",
       "      <td>36</td>\n",
       "    </tr>\n",
       "    <tr>\n",
       "      <th>ENSG00000000971</th>\n",
       "      <td>CFH</td>\n",
       "      <td>(Colon_Sigmoid, Pituitary, Small_Intestine_Ter...</td>\n",
       "      <td>34</td>\n",
       "    </tr>\n",
       "    <tr>\n",
       "      <th>ENSG00000001084</th>\n",
       "      <td>GCLC</td>\n",
       "      <td>(Brain_Amygdala, Pituitary, Small_Intestine_Te...</td>\n",
       "      <td>33</td>\n",
       "    </tr>\n",
       "    <tr>\n",
       "      <th>ENSG00000001167</th>\n",
       "      <td>NFYA</td>\n",
       "      <td>(Colon_Sigmoid, Esophagus_Mucosa, Small_Intest...</td>\n",
       "      <td>40</td>\n",
       "    </tr>\n",
       "  </tbody>\n",
       "</table>\n",
       "</div>"
      ],
      "text/plain": [
       "                gene_name                                             tissue  \\\n",
       "gene_id                                                                        \n",
       "ENSG00000000419      DPM1  (Brain_Hypothalamus, Brain_Substantia_nigra, C...   \n",
       "ENSG00000000938       FGR  (Colon_Sigmoid, Esophagus_Mucosa, Pituitary, A...   \n",
       "ENSG00000000971       CFH  (Colon_Sigmoid, Pituitary, Small_Intestine_Ter...   \n",
       "ENSG00000001084      GCLC  (Brain_Amygdala, Pituitary, Small_Intestine_Te...   \n",
       "ENSG00000001167      NFYA  (Colon_Sigmoid, Esophagus_Mucosa, Small_Intest...   \n",
       "\n",
       "                 n_tissues  \n",
       "gene_id                     \n",
       "ENSG00000000419          3  \n",
       "ENSG00000000938         36  \n",
       "ENSG00000000971         34  \n",
       "ENSG00000001084         33  \n",
       "ENSG00000001167         40  "
      ]
     },
     "execution_count": 17,
     "metadata": {},
     "output_type": "execute_result"
    }
   ],
   "source": [
    "spredixcan_genes_models.head()"
   ]
  },
  {
   "cell_type": "code",
   "execution_count": 18,
   "id": "d1c11bb1-be0b-4f40-b360-633d6827109f",
   "metadata": {
    "execution": {
     "iopub.execute_input": "2022-08-27T06:03:29.141111Z",
     "iopub.status.busy": "2022-08-27T06:03:29.140903Z",
     "iopub.status.idle": "2022-08-27T06:03:29.159330Z",
     "shell.execute_reply": "2022-08-27T06:03:29.158761Z"
    },
    "papermill": {
     "duration": 0.041726,
     "end_time": "2022-08-27T06:03:29.160970",
     "exception": false,
     "start_time": "2022-08-27T06:03:29.119244",
     "status": "completed"
    },
    "tags": []
   },
   "outputs": [],
   "source": [
    "assert spredixcan_genes_models.index.is_unique"
   ]
  },
  {
   "cell_type": "markdown",
   "id": "a5b5092c-a13e-47c4-a92a-480fcc08f3ae",
   "metadata": {
    "papermill": {
     "duration": 0.027771,
     "end_time": "2022-08-27T06:03:29.208008",
     "exception": false,
     "start_time": "2022-08-27T06:03:29.180237",
     "status": "completed"
    },
    "tags": []
   },
   "source": [
    "## Gene info"
   ]
  },
  {
   "cell_type": "code",
   "execution_count": 19,
   "id": "7d6bb224-88e9-4358-ac10-43a41d92cdad",
   "metadata": {
    "execution": {
     "iopub.execute_input": "2022-08-27T06:03:29.249451Z",
     "iopub.status.busy": "2022-08-27T06:03:29.249227Z",
     "iopub.status.idle": "2022-08-27T06:03:29.282241Z",
     "shell.execute_reply": "2022-08-27T06:03:29.281687Z"
    },
    "papermill": {
     "duration": 0.059508,
     "end_time": "2022-08-27T06:03:29.283961",
     "exception": false,
     "start_time": "2022-08-27T06:03:29.224453",
     "status": "completed"
    },
    "tags": []
   },
   "outputs": [],
   "source": [
    "genes_info = pd.read_pickle(OUTPUT_DIR_BASE / \"genes_info.pkl\")"
   ]
  },
  {
   "cell_type": "code",
   "execution_count": 20,
   "id": "9e32abfa-546d-483e-8c18-d526e9e05903",
   "metadata": {
    "execution": {
     "iopub.execute_input": "2022-08-27T06:03:29.320060Z",
     "iopub.status.busy": "2022-08-27T06:03:29.319853Z",
     "iopub.status.idle": "2022-08-27T06:03:29.339867Z",
     "shell.execute_reply": "2022-08-27T06:03:29.339319Z"
    },
    "papermill": {
     "duration": 0.038571,
     "end_time": "2022-08-27T06:03:29.341434",
     "exception": false,
     "start_time": "2022-08-27T06:03:29.302863",
     "status": "completed"
    },
    "tags": []
   },
   "outputs": [
    {
     "data": {
      "text/plain": [
       "(6450, 7)"
      ]
     },
     "execution_count": 20,
     "metadata": {},
     "output_type": "execute_result"
    }
   ],
   "source": [
    "genes_info.shape"
   ]
  },
  {
   "cell_type": "code",
   "execution_count": 21,
   "id": "d16c3e92-85ec-468a-9a56-e25a9774a1cb",
   "metadata": {
    "execution": {
     "iopub.execute_input": "2022-08-27T06:03:29.379667Z",
     "iopub.status.busy": "2022-08-27T06:03:29.379472Z",
     "iopub.status.idle": "2022-08-27T06:03:29.403375Z",
     "shell.execute_reply": "2022-08-27T06:03:29.402837Z"
    },
    "papermill": {
     "duration": 0.045603,
     "end_time": "2022-08-27T06:03:29.404934",
     "exception": false,
     "start_time": "2022-08-27T06:03:29.359331",
     "status": "completed"
    },
    "tags": []
   },
   "outputs": [
    {
     "data": {
      "text/html": [
       "<div>\n",
       "<style scoped>\n",
       "    .dataframe tbody tr th:only-of-type {\n",
       "        vertical-align: middle;\n",
       "    }\n",
       "\n",
       "    .dataframe tbody tr th {\n",
       "        vertical-align: top;\n",
       "    }\n",
       "\n",
       "    .dataframe thead th {\n",
       "        text-align: right;\n",
       "    }\n",
       "</style>\n",
       "<table border=\"1\" class=\"dataframe\">\n",
       "  <thead>\n",
       "    <tr style=\"text-align: right;\">\n",
       "      <th></th>\n",
       "      <th>name</th>\n",
       "      <th>id</th>\n",
       "      <th>chr</th>\n",
       "      <th>band</th>\n",
       "      <th>start_position</th>\n",
       "      <th>end_position</th>\n",
       "      <th>gene_length</th>\n",
       "    </tr>\n",
       "  </thead>\n",
       "  <tbody>\n",
       "    <tr>\n",
       "      <th>0</th>\n",
       "      <td>FUS</td>\n",
       "      <td>ENSG00000089280</td>\n",
       "      <td>16</td>\n",
       "      <td>16p11.2</td>\n",
       "      <td>31180110</td>\n",
       "      <td>31194871</td>\n",
       "      <td>14761</td>\n",
       "    </tr>\n",
       "    <tr>\n",
       "      <th>1</th>\n",
       "      <td>PI4K2A</td>\n",
       "      <td>ENSG00000155252</td>\n",
       "      <td>10</td>\n",
       "      <td>10q24.2</td>\n",
       "      <td>97640686</td>\n",
       "      <td>97676434</td>\n",
       "      <td>35748</td>\n",
       "    </tr>\n",
       "    <tr>\n",
       "      <th>2</th>\n",
       "      <td>PER1</td>\n",
       "      <td>ENSG00000179094</td>\n",
       "      <td>17</td>\n",
       "      <td>17p13.1</td>\n",
       "      <td>8140472</td>\n",
       "      <td>8156506</td>\n",
       "      <td>16034</td>\n",
       "    </tr>\n",
       "    <tr>\n",
       "      <th>3</th>\n",
       "      <td>GBP6</td>\n",
       "      <td>ENSG00000183347</td>\n",
       "      <td>1</td>\n",
       "      <td>1p22.2</td>\n",
       "      <td>89364058</td>\n",
       "      <td>89386461</td>\n",
       "      <td>22403</td>\n",
       "    </tr>\n",
       "    <tr>\n",
       "      <th>4</th>\n",
       "      <td>GPAA1</td>\n",
       "      <td>ENSG00000197858</td>\n",
       "      <td>8</td>\n",
       "      <td>8q24.3</td>\n",
       "      <td>144082590</td>\n",
       "      <td>144086216</td>\n",
       "      <td>3626</td>\n",
       "    </tr>\n",
       "  </tbody>\n",
       "</table>\n",
       "</div>"
      ],
      "text/plain": [
       "     name               id  chr     band  start_position  end_position  \\\n",
       "0     FUS  ENSG00000089280   16  16p11.2        31180110      31194871   \n",
       "1  PI4K2A  ENSG00000155252   10  10q24.2        97640686      97676434   \n",
       "2    PER1  ENSG00000179094   17  17p13.1         8140472       8156506   \n",
       "3    GBP6  ENSG00000183347    1   1p22.2        89364058      89386461   \n",
       "4   GPAA1  ENSG00000197858    8   8q24.3       144082590     144086216   \n",
       "\n",
       "   gene_length  \n",
       "0        14761  \n",
       "1        35748  \n",
       "2        16034  \n",
       "3        22403  \n",
       "4         3626  "
      ]
     },
     "execution_count": 21,
     "metadata": {},
     "output_type": "execute_result"
    }
   ],
   "source": [
    "genes_info.head()"
   ]
  },
  {
   "cell_type": "markdown",
   "id": "d3843e06",
   "metadata": {
    "papermill": {
     "duration": 0.017042,
     "end_time": "2022-08-27T06:03:29.437422",
     "exception": false,
     "start_time": "2022-08-27T06:03:29.420380",
     "status": "completed"
    },
    "tags": []
   },
   "source": [
    "# Compute correlations"
   ]
  },
  {
   "cell_type": "code",
   "execution_count": 22,
   "id": "cb859c15-d1f3-4006-a74c-2b83c0db9611",
   "metadata": {
    "execution": {
     "iopub.execute_input": "2022-08-27T06:03:29.470758Z",
     "iopub.status.busy": "2022-08-27T06:03:29.470551Z",
     "iopub.status.idle": "2022-08-27T06:03:29.491731Z",
     "shell.execute_reply": "2022-08-27T06:03:29.491164Z"
    },
    "papermill": {
     "duration": 0.039777,
     "end_time": "2022-08-27T06:03:29.493340",
     "exception": false,
     "start_time": "2022-08-27T06:03:29.453563",
     "status": "completed"
    },
    "tags": []
   },
   "outputs": [
    {
     "data": {
      "text/plain": [
       "PosixPath('/project/ritchie20/projects/phenoplier/base/results/gls/gene_corrs/cohorts/phenomexcan_other/gtex_v8/mashr/by_chr/gene_corrs-chr8.pkl')"
      ]
     },
     "metadata": {},
     "output_type": "display_data"
    }
   ],
   "source": [
    "output_dir = OUTPUT_DIR_BASE / \"by_chr\"\n",
    "output_dir.mkdir(exist_ok=True, parents=True)\n",
    "output_file = output_dir / f\"gene_corrs-chr{CHROMOSOME}.pkl\"\n",
    "display(output_file)"
   ]
  },
  {
   "cell_type": "code",
   "execution_count": 23,
   "id": "aa674fe4-6794-4eed-98fa-32b39d1d4ace",
   "metadata": {
    "execution": {
     "iopub.execute_input": "2022-08-27T06:03:29.525466Z",
     "iopub.status.busy": "2022-08-27T06:03:29.525240Z",
     "iopub.status.idle": "2022-08-27T06:03:29.543047Z",
     "shell.execute_reply": "2022-08-27T06:03:29.542545Z"
    },
    "papermill": {
     "duration": 0.034509,
     "end_time": "2022-08-27T06:03:29.544715",
     "exception": false,
     "start_time": "2022-08-27T06:03:29.510206",
     "status": "completed"
    },
    "tags": []
   },
   "outputs": [],
   "source": [
    "warnings.filterwarnings(\"error\")"
   ]
  },
  {
   "cell_type": "code",
   "execution_count": 24,
   "id": "44d5450b-3baf-43f1-9e2e-4b06f1a785f8",
   "metadata": {
    "execution": {
     "iopub.execute_input": "2022-08-27T06:03:29.579082Z",
     "iopub.status.busy": "2022-08-27T06:03:29.578890Z",
     "iopub.status.idle": "2022-08-27T06:03:29.596920Z",
     "shell.execute_reply": "2022-08-27T06:03:29.596367Z"
    },
    "papermill": {
     "duration": 0.037738,
     "end_time": "2022-08-27T06:03:29.598587",
     "exception": false,
     "start_time": "2022-08-27T06:03:29.560849",
     "status": "completed"
    },
    "tags": []
   },
   "outputs": [],
   "source": [
    "# standard checks\n",
    "all_chrs = genes_info[\"chr\"].dropna().unique()\n",
    "assert all_chrs.shape[0] == 22\n",
    "\n",
    "# select chromosome given by the user\n",
    "assert CHROMOSOME in all_chrs"
   ]
  },
  {
   "cell_type": "code",
   "execution_count": 25,
   "id": "2d7c043c-92a7-4d35-991b-fa69ac1e0268",
   "metadata": {
    "execution": {
     "iopub.execute_input": "2022-08-27T06:03:29.636078Z",
     "iopub.status.busy": "2022-08-27T06:03:29.635867Z",
     "iopub.status.idle": "2022-08-27T06:03:29.753514Z",
     "shell.execute_reply": "2022-08-27T06:03:29.752907Z"
    },
    "papermill": {
     "duration": 0.136909,
     "end_time": "2022-08-27T06:03:29.755150",
     "exception": false,
     "start_time": "2022-08-27T06:03:29.618241",
     "status": "completed"
    },
    "tags": []
   },
   "outputs": [
    {
     "name": "stdout",
     "output_type": "stream",
     "text": [
      "Number of genes in chromosome: 222\n"
     ]
    }
   ],
   "source": [
    "# run only on the chromosome specified\n",
    "all_chrs = [CHROMOSOME]\n",
    "genes_chr = genes_info[genes_info[\"chr\"] == CHROMOSOME]\n",
    "\n",
    "# For testing purposes\n",
    "# genes_chr = genes_chr.sample(n=20)\n",
    "\n",
    "print(f\"Number of genes in chromosome: {genes_chr.shape[0]}\", flush=True)"
   ]
  },
  {
   "cell_type": "code",
   "execution_count": 26,
   "id": "916015d8-2979-46d3-a9b9-1cf5a0932c6a",
   "metadata": {
    "execution": {
     "iopub.execute_input": "2022-08-27T06:03:29.795998Z",
     "iopub.status.busy": "2022-08-27T06:03:29.795804Z",
     "iopub.status.idle": "2022-08-27T06:03:29.816153Z",
     "shell.execute_reply": "2022-08-27T06:03:29.815578Z"
    },
    "papermill": {
     "duration": 0.043288,
     "end_time": "2022-08-27T06:03:29.817880",
     "exception": false,
     "start_time": "2022-08-27T06:03:29.774592",
     "status": "completed"
    },
    "tags": []
   },
   "outputs": [],
   "source": [
    "# sort genes by starting position to make visualizations better later\n",
    "genes_chr = genes_chr.sort_values(\"start_position\")"
   ]
  },
  {
   "cell_type": "code",
   "execution_count": 27,
   "id": "a38aa74a-8ad3-47f6-8ef9-56be0e011774",
   "metadata": {
    "execution": {
     "iopub.execute_input": "2022-08-27T06:03:29.863240Z",
     "iopub.status.busy": "2022-08-27T06:03:29.863026Z",
     "iopub.status.idle": "2022-08-27T06:03:29.881905Z",
     "shell.execute_reply": "2022-08-27T06:03:29.881336Z"
    },
    "papermill": {
     "duration": 0.042829,
     "end_time": "2022-08-27T06:03:29.883628",
     "exception": false,
     "start_time": "2022-08-27T06:03:29.840799",
     "status": "completed"
    },
    "tags": []
   },
   "outputs": [],
   "source": [
    "gene_chr_objs = [Gene(ensembl_id=gene_id) for gene_id in genes_chr[\"id\"]]"
   ]
  },
  {
   "cell_type": "code",
   "execution_count": 28,
   "id": "570f974f-13c3-42b6-ad3a-ce99ca885c1a",
   "metadata": {
    "execution": {
     "iopub.execute_input": "2022-08-27T06:03:29.919446Z",
     "iopub.status.busy": "2022-08-27T06:03:29.919229Z",
     "iopub.status.idle": "2022-08-27T06:03:29.938758Z",
     "shell.execute_reply": "2022-08-27T06:03:29.938226Z"
    },
    "papermill": {
     "duration": 0.039589,
     "end_time": "2022-08-27T06:03:29.940356",
     "exception": false,
     "start_time": "2022-08-27T06:03:29.900767",
     "status": "completed"
    },
    "tags": []
   },
   "outputs": [
    {
     "name": "stdout",
     "output_type": "stream",
     "text": [
      "Number of gene combinations: 24531\n"
     ]
    }
   ],
   "source": [
    "n = len(gene_chr_objs)\n",
    "n_comb = int(n * (n - 1) / 2.0)\n",
    "print(f\"Number of gene combinations: {n_comb}\", flush=True)"
   ]
  },
  {
   "cell_type": "code",
   "execution_count": 29,
   "id": "cdbb90a1",
   "metadata": {
    "execution": {
     "iopub.execute_input": "2022-08-27T06:03:29.981533Z",
     "iopub.status.busy": "2022-08-27T06:03:29.981312Z",
     "iopub.status.idle": "2022-08-27T06:44:44.564914Z",
     "shell.execute_reply": "2022-08-27T06:44:44.563633Z"
    },
    "papermill": {
     "duration": 2474.60637,
     "end_time": "2022-08-27T06:44:44.568099",
     "exception": false,
     "start_time": "2022-08-27T06:03:29.961729",
     "status": "completed"
    },
    "tags": []
   },
   "outputs": [
    {
     "name": "stderr",
     "output_type": "stream",
     "text": [
      "ENSG00000196150 / ENSG00000196150: : 24753it [41:14, 10.00it/s]\n"
     ]
    },
    {
     "data": {
      "text/plain": [
       "PosixPath('/project/ritchie20/projects/phenoplier/base/results/gls/gene_corrs/cohorts/phenomexcan_other/gtex_v8/mashr/by_chr/gene_corrs-chr8.pkl')"
      ]
     },
     "metadata": {},
     "output_type": "display_data"
    }
   ],
   "source": [
    "gene_corrs = []\n",
    "gene_corrs_data = np.full(\n",
    "    (n, n),\n",
    "    np.nan,\n",
    "    dtype=np.float64,\n",
    ")\n",
    "\n",
    "i = 0\n",
    "with tqdm(ncols=100, total=n_comb) as pbar:\n",
    "    for gene1_idx in range(0, len(gene_chr_objs)):\n",
    "        gene1_obj = gene_chr_objs[gene1_idx]\n",
    "        gene1_tissues = spredixcan_genes_models.loc[gene1_obj.ensembl_id, \"tissue\"]\n",
    "\n",
    "        for gene2_idx in range(gene1_idx, len(gene_chr_objs)):\n",
    "            gene2_obj = gene_chr_objs[gene2_idx]\n",
    "            gene2_tissues = spredixcan_genes_models.loc[gene2_obj.ensembl_id, \"tissue\"]\n",
    "\n",
    "            pbar.set_description(f\"{gene1_obj.ensembl_id} / {gene2_obj.ensembl_id}\")\n",
    "\n",
    "            try:\n",
    "                r = gene1_obj.get_ssm_correlation(\n",
    "                    other_gene=gene2_obj,\n",
    "                    tissues=gene1_tissues,\n",
    "                    other_tissues=gene2_tissues,\n",
    "                    snps_subset=gwas_variants_ids_set,\n",
    "                    condition_number=SMULTIXCAN_CONDITION_NUMBER,\n",
    "                    reference_panel=REFERENCE_PANEL,\n",
    "                    model_type=EQTL_MODEL,\n",
    "                    use_within_distance=COMPUTE_CORRELATIONS_WITHIN_DISTANCE,\n",
    "                )\n",
    "\n",
    "                if r is None:\n",
    "                    # if r is None, it's very likely because:\n",
    "                    #  * one of the genes has no prediction models\n",
    "                    #  * all the SNPs predictors for the gene are not present in the reference\n",
    "                    #    panel\n",
    "\n",
    "                    r = 0.0\n",
    "\n",
    "                gene_corrs.append(r)\n",
    "\n",
    "                gene_corrs_data[gene1_idx, gene2_idx] = r\n",
    "                gene_corrs_data[gene2_idx, gene1_idx] = r\n",
    "            except Warning as e:\n",
    "                if not DEBUG_MODE:\n",
    "                    raise e\n",
    "\n",
    "                print(\n",
    "                    f\"RuntimeWarning for genes {gene1_obj.ensembl_id} and {gene2_obj.ensembl_id}\",\n",
    "                    flush=True,\n",
    "                )\n",
    "                print(traceback.format_exc(), flush=True)\n",
    "\n",
    "                gene_corrs.append(np.nan)\n",
    "            except Exception as e:\n",
    "                if not DEBUG_MODE:\n",
    "                    raise e\n",
    "\n",
    "                print(\n",
    "                    f\"Exception for genes {gene1_obj.ensembl_id} and {gene2_obj.ensembl_id}\",\n",
    "                    flush=True,\n",
    "                )\n",
    "                print(traceback.format_exc(), flush=True)\n",
    "\n",
    "                gene_corrs.append(np.nan)\n",
    "\n",
    "            pbar.update(1)\n",
    "\n",
    "# create a pandas series\n",
    "gene_corrs_flat = pd.Series(gene_corrs)\n",
    "\n",
    "# save\n",
    "# FIXME: consider saving only the condenced matrix here. See here for\n",
    "# more details: https://github.com/greenelab/phenoplier/pull/38#discussion_r634600813\n",
    "# gene_corrs_data = squareform(np.array(gene_corrs, dtype=np.float64))\n",
    "# np.fill_diagonal(gene_corrs_data, 1.0)\n",
    "\n",
    "gene_chr_ids = [g.ensembl_id for g in gene_chr_objs]\n",
    "gene_corrs_df = pd.DataFrame(\n",
    "    data=gene_corrs_data,\n",
    "    index=gene_chr_ids,\n",
    "    columns=gene_chr_ids,\n",
    ")\n",
    "\n",
    "output_dir.mkdir(exist_ok=True, parents=True)\n",
    "display(output_file)\n",
    "\n",
    "gene_corrs_df.to_pickle(output_file)"
   ]
  },
  {
   "cell_type": "markdown",
   "id": "faa67b51-5373-470f-aa72-2ded53fa6dfe",
   "metadata": {
    "papermill": {
     "duration": 1.596589,
     "end_time": "2022-08-27T06:44:47.753002",
     "exception": false,
     "start_time": "2022-08-27T06:44:46.156413",
     "status": "completed"
    },
    "tags": []
   },
   "source": [
    "# Testing"
   ]
  },
  {
   "cell_type": "code",
   "execution_count": 30,
   "id": "14f7d046-4b55-4896-a56b-990127bcc388",
   "metadata": {
    "execution": {
     "iopub.execute_input": "2022-08-27T06:44:50.894774Z",
     "iopub.status.busy": "2022-08-27T06:44:50.894497Z",
     "iopub.status.idle": "2022-08-27T06:44:51.129658Z",
     "shell.execute_reply": "2022-08-27T06:44:51.129145Z"
    },
    "papermill": {
     "duration": 1.838029,
     "end_time": "2022-08-27T06:44:51.131243",
     "exception": false,
     "start_time": "2022-08-27T06:44:49.293214",
     "status": "completed"
    },
    "tags": []
   },
   "outputs": [
    {
     "data": {
      "text/plain": [
       "(222, 222)"
      ]
     },
     "execution_count": 30,
     "metadata": {},
     "output_type": "execute_result"
    }
   ],
   "source": [
    "gene_corrs_df.shape"
   ]
  },
  {
   "cell_type": "code",
   "execution_count": 31,
   "id": "c7d15414-3297-4537-a7c6-7588c0baeb75",
   "metadata": {
    "execution": {
     "iopub.execute_input": "2022-08-27T06:44:54.253891Z",
     "iopub.status.busy": "2022-08-27T06:44:54.253634Z",
     "iopub.status.idle": "2022-08-27T06:44:54.290905Z",
     "shell.execute_reply": "2022-08-27T06:44:54.290364Z"
    },
    "papermill": {
     "duration": 1.621484,
     "end_time": "2022-08-27T06:44:54.292432",
     "exception": false,
     "start_time": "2022-08-27T06:44:52.670948",
     "status": "completed"
    },
    "tags": []
   },
   "outputs": [
    {
     "data": {
      "text/html": [
       "<div>\n",
       "<style scoped>\n",
       "    .dataframe tbody tr th:only-of-type {\n",
       "        vertical-align: middle;\n",
       "    }\n",
       "\n",
       "    .dataframe tbody tr th {\n",
       "        vertical-align: top;\n",
       "    }\n",
       "\n",
       "    .dataframe thead th {\n",
       "        text-align: right;\n",
       "    }\n",
       "</style>\n",
       "<table border=\"1\" class=\"dataframe\">\n",
       "  <thead>\n",
       "    <tr style=\"text-align: right;\">\n",
       "      <th></th>\n",
       "      <th>ENSG00000172748</th>\n",
       "      <th>ENSG00000182372</th>\n",
       "      <th>ENSG00000104728</th>\n",
       "      <th>ENSG00000036448</th>\n",
       "      <th>ENSG00000091879</th>\n",
       "      <th>ENSG00000155189</th>\n",
       "      <th>ENSG00000164821</th>\n",
       "      <th>ENSG00000253958</th>\n",
       "      <th>ENSG00000147324</th>\n",
       "      <th>ENSG00000173281</th>\n",
       "      <th>...</th>\n",
       "      <th>ENSG00000071894</th>\n",
       "      <th>ENSG00000147804</th>\n",
       "      <th>ENSG00000160948</th>\n",
       "      <th>ENSG00000160949</th>\n",
       "      <th>ENSG00000187954</th>\n",
       "      <th>ENSG00000160972</th>\n",
       "      <th>ENSG00000167701</th>\n",
       "      <th>ENSG00000161016</th>\n",
       "      <th>ENSG00000197363</th>\n",
       "      <th>ENSG00000196150</th>\n",
       "    </tr>\n",
       "  </thead>\n",
       "  <tbody>\n",
       "    <tr>\n",
       "      <th>ENSG00000172748</th>\n",
       "      <td>1.000000</td>\n",
       "      <td>0.007217</td>\n",
       "      <td>0.011914</td>\n",
       "      <td>0.009236</td>\n",
       "      <td>0.009417</td>\n",
       "      <td>0.009584</td>\n",
       "      <td>0.009891</td>\n",
       "      <td>0.005530</td>\n",
       "      <td>0.013226</td>\n",
       "      <td>0.008208</td>\n",
       "      <td>...</td>\n",
       "      <td>0.001864</td>\n",
       "      <td>0.006338</td>\n",
       "      <td>0.004455</td>\n",
       "      <td>0.006166</td>\n",
       "      <td>0.006691</td>\n",
       "      <td>0.006283</td>\n",
       "      <td>0.004734</td>\n",
       "      <td>0.002489</td>\n",
       "      <td>0.006311</td>\n",
       "      <td>0.004770</td>\n",
       "    </tr>\n",
       "    <tr>\n",
       "      <th>ENSG00000182372</th>\n",
       "      <td>0.007217</td>\n",
       "      <td>1.000000</td>\n",
       "      <td>0.184415</td>\n",
       "      <td>0.010597</td>\n",
       "      <td>0.007887</td>\n",
       "      <td>0.006501</td>\n",
       "      <td>0.007845</td>\n",
       "      <td>0.004679</td>\n",
       "      <td>0.007810</td>\n",
       "      <td>0.008791</td>\n",
       "      <td>...</td>\n",
       "      <td>0.001825</td>\n",
       "      <td>0.004948</td>\n",
       "      <td>0.000215</td>\n",
       "      <td>0.003492</td>\n",
       "      <td>0.005021</td>\n",
       "      <td>0.008246</td>\n",
       "      <td>0.003511</td>\n",
       "      <td>0.000919</td>\n",
       "      <td>0.004968</td>\n",
       "      <td>0.004775</td>\n",
       "    </tr>\n",
       "    <tr>\n",
       "      <th>ENSG00000104728</th>\n",
       "      <td>0.011914</td>\n",
       "      <td>0.184415</td>\n",
       "      <td>1.000000</td>\n",
       "      <td>0.031215</td>\n",
       "      <td>0.016094</td>\n",
       "      <td>0.016873</td>\n",
       "      <td>0.014933</td>\n",
       "      <td>0.008033</td>\n",
       "      <td>0.013277</td>\n",
       "      <td>0.012815</td>\n",
       "      <td>...</td>\n",
       "      <td>0.005503</td>\n",
       "      <td>0.012220</td>\n",
       "      <td>0.006928</td>\n",
       "      <td>0.007355</td>\n",
       "      <td>0.014188</td>\n",
       "      <td>0.012579</td>\n",
       "      <td>0.011937</td>\n",
       "      <td>0.007141</td>\n",
       "      <td>0.011424</td>\n",
       "      <td>0.009863</td>\n",
       "    </tr>\n",
       "    <tr>\n",
       "      <th>ENSG00000036448</th>\n",
       "      <td>0.009236</td>\n",
       "      <td>0.010597</td>\n",
       "      <td>0.031215</td>\n",
       "      <td>1.000000</td>\n",
       "      <td>0.008237</td>\n",
       "      <td>0.012432</td>\n",
       "      <td>0.009500</td>\n",
       "      <td>0.006514</td>\n",
       "      <td>0.009690</td>\n",
       "      <td>0.006583</td>\n",
       "      <td>...</td>\n",
       "      <td>0.004247</td>\n",
       "      <td>0.008639</td>\n",
       "      <td>0.005186</td>\n",
       "      <td>0.005098</td>\n",
       "      <td>0.007218</td>\n",
       "      <td>0.008081</td>\n",
       "      <td>0.006813</td>\n",
       "      <td>0.002134</td>\n",
       "      <td>0.003410</td>\n",
       "      <td>0.005229</td>\n",
       "    </tr>\n",
       "    <tr>\n",
       "      <th>ENSG00000091879</th>\n",
       "      <td>0.009417</td>\n",
       "      <td>0.007887</td>\n",
       "      <td>0.016094</td>\n",
       "      <td>0.008237</td>\n",
       "      <td>1.000000</td>\n",
       "      <td>0.099820</td>\n",
       "      <td>0.031210</td>\n",
       "      <td>0.005413</td>\n",
       "      <td>0.011595</td>\n",
       "      <td>0.006861</td>\n",
       "      <td>...</td>\n",
       "      <td>0.004385</td>\n",
       "      <td>0.005745</td>\n",
       "      <td>0.003610</td>\n",
       "      <td>0.002835</td>\n",
       "      <td>0.005626</td>\n",
       "      <td>0.006275</td>\n",
       "      <td>0.007817</td>\n",
       "      <td>0.000583</td>\n",
       "      <td>0.001599</td>\n",
       "      <td>0.002434</td>\n",
       "    </tr>\n",
       "  </tbody>\n",
       "</table>\n",
       "<p>5 rows × 222 columns</p>\n",
       "</div>"
      ],
      "text/plain": [
       "                 ENSG00000172748  ENSG00000182372  ENSG00000104728  \\\n",
       "ENSG00000172748         1.000000         0.007217         0.011914   \n",
       "ENSG00000182372         0.007217         1.000000         0.184415   \n",
       "ENSG00000104728         0.011914         0.184415         1.000000   \n",
       "ENSG00000036448         0.009236         0.010597         0.031215   \n",
       "ENSG00000091879         0.009417         0.007887         0.016094   \n",
       "\n",
       "                 ENSG00000036448  ENSG00000091879  ENSG00000155189  \\\n",
       "ENSG00000172748         0.009236         0.009417         0.009584   \n",
       "ENSG00000182372         0.010597         0.007887         0.006501   \n",
       "ENSG00000104728         0.031215         0.016094         0.016873   \n",
       "ENSG00000036448         1.000000         0.008237         0.012432   \n",
       "ENSG00000091879         0.008237         1.000000         0.099820   \n",
       "\n",
       "                 ENSG00000164821  ENSG00000253958  ENSG00000147324  \\\n",
       "ENSG00000172748         0.009891         0.005530         0.013226   \n",
       "ENSG00000182372         0.007845         0.004679         0.007810   \n",
       "ENSG00000104728         0.014933         0.008033         0.013277   \n",
       "ENSG00000036448         0.009500         0.006514         0.009690   \n",
       "ENSG00000091879         0.031210         0.005413         0.011595   \n",
       "\n",
       "                 ENSG00000173281  ...  ENSG00000071894  ENSG00000147804  \\\n",
       "ENSG00000172748         0.008208  ...         0.001864         0.006338   \n",
       "ENSG00000182372         0.008791  ...         0.001825         0.004948   \n",
       "ENSG00000104728         0.012815  ...         0.005503         0.012220   \n",
       "ENSG00000036448         0.006583  ...         0.004247         0.008639   \n",
       "ENSG00000091879         0.006861  ...         0.004385         0.005745   \n",
       "\n",
       "                 ENSG00000160948  ENSG00000160949  ENSG00000187954  \\\n",
       "ENSG00000172748         0.004455         0.006166         0.006691   \n",
       "ENSG00000182372         0.000215         0.003492         0.005021   \n",
       "ENSG00000104728         0.006928         0.007355         0.014188   \n",
       "ENSG00000036448         0.005186         0.005098         0.007218   \n",
       "ENSG00000091879         0.003610         0.002835         0.005626   \n",
       "\n",
       "                 ENSG00000160972  ENSG00000167701  ENSG00000161016  \\\n",
       "ENSG00000172748         0.006283         0.004734         0.002489   \n",
       "ENSG00000182372         0.008246         0.003511         0.000919   \n",
       "ENSG00000104728         0.012579         0.011937         0.007141   \n",
       "ENSG00000036448         0.008081         0.006813         0.002134   \n",
       "ENSG00000091879         0.006275         0.007817         0.000583   \n",
       "\n",
       "                 ENSG00000197363  ENSG00000196150  \n",
       "ENSG00000172748         0.006311         0.004770  \n",
       "ENSG00000182372         0.004968         0.004775  \n",
       "ENSG00000104728         0.011424         0.009863  \n",
       "ENSG00000036448         0.003410         0.005229  \n",
       "ENSG00000091879         0.001599         0.002434  \n",
       "\n",
       "[5 rows x 222 columns]"
      ]
     },
     "execution_count": 31,
     "metadata": {},
     "output_type": "execute_result"
    }
   ],
   "source": [
    "gene_corrs_df.head()"
   ]
  },
  {
   "cell_type": "markdown",
   "id": "dad6603f-01c6-41fb-a6f6-241051207dd8",
   "metadata": {
    "papermill": {
     "duration": 1.615052,
     "end_time": "2022-08-27T06:44:57.435527",
     "exception": false,
     "start_time": "2022-08-27T06:44:55.820475",
     "status": "completed"
    },
    "tags": []
   },
   "source": [
    "## Standard checks and stats"
   ]
  },
  {
   "cell_type": "code",
   "execution_count": 32,
   "id": "286686af-1b7b-4440-8453-6bdcbd8de19c",
   "metadata": {
    "execution": {
     "iopub.execute_input": "2022-08-27T06:45:00.572623Z",
     "iopub.status.busy": "2022-08-27T06:45:00.572369Z",
     "iopub.status.idle": "2022-08-27T06:45:00.599629Z",
     "shell.execute_reply": "2022-08-27T06:45:00.599112Z"
    },
    "papermill": {
     "duration": 1.629782,
     "end_time": "2022-08-27T06:45:00.601189",
     "exception": false,
     "start_time": "2022-08-27T06:44:58.971407",
     "status": "completed"
    },
    "tags": []
   },
   "outputs": [],
   "source": [
    "assert not gene_corrs_df.isna().any().any()"
   ]
  },
  {
   "cell_type": "code",
   "execution_count": 33,
   "id": "00583efc-7068-4270-ad1e-4a418e91db96",
   "metadata": {
    "execution": {
     "iopub.execute_input": "2022-08-27T06:45:03.756236Z",
     "iopub.status.busy": "2022-08-27T06:45:03.755973Z",
     "iopub.status.idle": "2022-08-27T06:45:03.780160Z",
     "shell.execute_reply": "2022-08-27T06:45:03.779619Z"
    },
    "papermill": {
     "duration": 1.578092,
     "end_time": "2022-08-27T06:45:03.781703",
     "exception": false,
     "start_time": "2022-08-27T06:45:02.203611",
     "status": "completed"
    },
    "tags": []
   },
   "outputs": [
    {
     "data": {
      "text/plain": [
       "2.878084759753386e-10"
      ]
     },
     "metadata": {},
     "output_type": "display_data"
    }
   ],
   "source": [
    "_min_val = gene_corrs_df.min().min()\n",
    "display(_min_val)\n",
    "assert _min_val >= -0.05"
   ]
  },
  {
   "cell_type": "code",
   "execution_count": 34,
   "id": "d04fb2cf-1050-475b-b855-f5f7cc04092b",
   "metadata": {
    "execution": {
     "iopub.execute_input": "2022-08-27T06:45:06.906844Z",
     "iopub.status.busy": "2022-08-27T06:45:06.906569Z",
     "iopub.status.idle": "2022-08-27T06:45:06.929143Z",
     "shell.execute_reply": "2022-08-27T06:45:06.928611Z"
    },
    "papermill": {
     "duration": 1.615828,
     "end_time": "2022-08-27T06:45:06.930682",
     "exception": false,
     "start_time": "2022-08-27T06:45:05.314854",
     "status": "completed"
    },
    "tags": []
   },
   "outputs": [
    {
     "data": {
      "text/plain": [
       "1.000000000000003"
      ]
     },
     "metadata": {},
     "output_type": "display_data"
    }
   ],
   "source": [
    "_max_val = gene_corrs_df.max().max()  # this captures the diagonal\n",
    "display(_max_val)\n",
    "assert _max_val <= 1.05"
   ]
  },
  {
   "cell_type": "code",
   "execution_count": 35,
   "id": "96d02c44-1fba-47be-8a93-8f2608420b9c",
   "metadata": {
    "execution": {
     "iopub.execute_input": "2022-08-27T06:45:10.151611Z",
     "iopub.status.busy": "2022-08-27T06:45:10.151342Z",
     "iopub.status.idle": "2022-08-27T06:45:10.171916Z",
     "shell.execute_reply": "2022-08-27T06:45:10.171375Z"
    },
    "papermill": {
     "duration": 1.643426,
     "end_time": "2022-08-27T06:45:10.173588",
     "exception": false,
     "start_time": "2022-08-27T06:45:08.530162",
     "status": "completed"
    },
    "tags": []
   },
   "outputs": [],
   "source": [
    "# check upper triangular values\n",
    "# assert len(gene_corrs) == int(genes_chr.shape[0] * (genes_chr.shape[0] - 1) / 2)"
   ]
  },
  {
   "cell_type": "code",
   "execution_count": 36,
   "id": "fe283586-c348-40e0-8841-f6d97bfb021c",
   "metadata": {
    "execution": {
     "iopub.execute_input": "2022-08-27T06:45:13.326086Z",
     "iopub.status.busy": "2022-08-27T06:45:13.325830Z",
     "iopub.status.idle": "2022-08-27T06:45:13.350746Z",
     "shell.execute_reply": "2022-08-27T06:45:13.350239Z"
    },
    "papermill": {
     "duration": 1.612135,
     "end_time": "2022-08-27T06:45:13.352198",
     "exception": false,
     "start_time": "2022-08-27T06:45:11.740063",
     "status": "completed"
    },
    "tags": []
   },
   "outputs": [
    {
     "data": {
      "text/plain": [
       "count    2.475300e+04\n",
       "mean     1.711189e-02\n",
       "std      9.672058e-02\n",
       "min      2.878085e-10\n",
       "25%      4.122537e-03\n",
       "50%      6.200167e-03\n",
       "75%      8.603448e-03\n",
       "max      1.000000e+00\n",
       "dtype: float64"
      ]
     },
     "execution_count": 36,
     "metadata": {},
     "output_type": "execute_result"
    }
   ],
   "source": [
    "gene_corrs_flat.describe()"
   ]
  },
  {
   "cell_type": "code",
   "execution_count": 37,
   "id": "b3815678-0f93-4b35-897b-a9d047a2aa78",
   "metadata": {
    "execution": {
     "iopub.execute_input": "2022-08-27T06:45:16.522868Z",
     "iopub.status.busy": "2022-08-27T06:45:16.522588Z",
     "iopub.status.idle": "2022-08-27T06:45:16.550672Z",
     "shell.execute_reply": "2022-08-27T06:45:16.550164Z"
    },
    "papermill": {
     "duration": 1.584791,
     "end_time": "2022-08-27T06:45:16.552206",
     "exception": false,
     "start_time": "2022-08-27T06:45:14.967415",
     "status": "completed"
    },
    "tags": []
   },
   "outputs": [
    {
     "data": {
      "text/plain": [
       "0.00    2.878085e-10\n",
       "0.05    1.604528e-03\n",
       "0.10    2.444065e-03\n",
       "0.15    3.075213e-03\n",
       "0.20    3.626222e-03\n",
       "0.25    4.122537e-03\n",
       "0.30    4.557963e-03\n",
       "0.35    4.968935e-03\n",
       "0.40    5.381822e-03\n",
       "0.45    5.788017e-03\n",
       "0.50    6.200167e-03\n",
       "0.55    6.631985e-03\n",
       "0.60    7.077018e-03\n",
       "0.65    7.522195e-03\n",
       "0.70    8.045049e-03\n",
       "0.75    8.603448e-03\n",
       "0.80    9.304366e-03\n",
       "0.85    1.016334e-02\n",
       "0.90    1.130621e-02\n",
       "0.95    1.344908e-02\n",
       "dtype: float64"
      ]
     },
     "metadata": {},
     "output_type": "display_data"
    }
   ],
   "source": [
    "gene_corrs_quantiles = gene_corrs_flat.quantile(np.arange(0, 1, 0.05))\n",
    "display(gene_corrs_quantiles)"
   ]
  },
  {
   "cell_type": "markdown",
   "id": "87134509-b145-4a10-8bc9-b7e914c2b0fa",
   "metadata": {
    "papermill": {
     "duration": 1.552327,
     "end_time": "2022-08-27T06:45:19.682551",
     "exception": false,
     "start_time": "2022-08-27T06:45:18.130224",
     "status": "completed"
    },
    "tags": []
   },
   "source": [
    "## Positive definiteness"
   ]
  },
  {
   "cell_type": "code",
   "execution_count": 38,
   "id": "07d9a9a1-a4f7-48aa-b916-6d42a8cc6186",
   "metadata": {
    "execution": {
     "iopub.execute_input": "2022-08-27T06:45:22.802204Z",
     "iopub.status.busy": "2022-08-27T06:45:22.801936Z",
     "iopub.status.idle": "2022-08-27T06:45:22.841865Z",
     "shell.execute_reply": "2022-08-27T06:45:22.841356Z"
    },
    "papermill": {
     "duration": 1.575018,
     "end_time": "2022-08-27T06:45:22.843321",
     "exception": false,
     "start_time": "2022-08-27T06:45:21.268303",
     "status": "completed"
    },
    "tags": []
   },
   "outputs": [
    {
     "data": {
      "text/plain": [
       "0"
      ]
     },
     "metadata": {},
     "output_type": "display_data"
    },
    {
     "data": {
      "text/plain": [
       "array([], dtype=float64)"
      ]
     },
     "metadata": {},
     "output_type": "display_data"
    }
   ],
   "source": [
    "# print negative eigenvalues\n",
    "eigs = np.linalg.eigvals(gene_corrs_df.to_numpy())\n",
    "display(len(eigs[eigs < 0]))\n",
    "display(eigs[eigs < 0])"
   ]
  },
  {
   "cell_type": "code",
   "execution_count": 39,
   "id": "6e218436-c3c5-4028-8c94-a4fa6260efce",
   "metadata": {
    "execution": {
     "iopub.execute_input": "2022-08-27T06:45:25.981706Z",
     "iopub.status.busy": "2022-08-27T06:45:25.981451Z",
     "iopub.status.idle": "2022-08-27T06:45:26.010444Z",
     "shell.execute_reply": "2022-08-27T06:45:26.009897Z"
    },
    "papermill": {
     "duration": 1.582407,
     "end_time": "2022-08-27T06:45:26.011994",
     "exception": false,
     "start_time": "2022-08-27T06:45:24.429587",
     "status": "completed"
    },
    "tags": []
   },
   "outputs": [
    {
     "name": "stdout",
     "output_type": "stream",
     "text": [
      "Works!\n"
     ]
    }
   ],
   "source": [
    "try:\n",
    "    chol_mat = np.linalg.cholesky(gene_corrs_df.to_numpy())\n",
    "    cov_inv = np.linalg.inv(chol_mat)\n",
    "    print(\"Works!\")\n",
    "except Exception as e:\n",
    "    print(f\"Cholesky decomposition failed: {str(e)}\")"
   ]
  },
  {
   "cell_type": "code",
   "execution_count": 40,
   "id": "dd8827fb-faf9-4c7c-9454-015e94752706",
   "metadata": {
    "execution": {
     "iopub.execute_input": "2022-08-27T06:45:29.188806Z",
     "iopub.status.busy": "2022-08-27T06:45:29.188551Z",
     "iopub.status.idle": "2022-08-27T06:45:29.217308Z",
     "shell.execute_reply": "2022-08-27T06:45:29.216743Z"
    },
    "papermill": {
     "duration": 1.568386,
     "end_time": "2022-08-27T06:45:29.218863",
     "exception": false,
     "start_time": "2022-08-27T06:45:27.650477",
     "status": "completed"
    },
    "tags": []
   },
   "outputs": [
    {
     "name": "stdout",
     "output_type": "stream",
     "text": [
      "Works!\n"
     ]
    }
   ],
   "source": [
    "try:\n",
    "    # decomposition used by statsmodels.GLS\n",
    "    cholsigmainv = np.linalg.cholesky(np.linalg.inv(gene_corrs_df.to_numpy())).T\n",
    "    print(\"Works!\")\n",
    "except Exception as e:\n",
    "    print(f\"Cholesky decomposition failed (statsmodels.GLS): {str(e)}\")"
   ]
  },
  {
   "cell_type": "markdown",
   "id": "8e60a080-edb2-4e9c-b2ef-22961693200c",
   "metadata": {
    "papermill": {
     "duration": 1.55148,
     "end_time": "2022-08-27T06:45:32.342722",
     "exception": false,
     "start_time": "2022-08-27T06:45:30.791242",
     "status": "completed"
    },
    "tags": []
   },
   "source": [
    "## Plot: distribution"
   ]
  },
  {
   "cell_type": "code",
   "execution_count": 41,
   "id": "8301126b-a7d4-4744-9c7d-f0f86eb6f54c",
   "metadata": {
    "execution": {
     "iopub.execute_input": "2022-08-27T06:45:35.514284Z",
     "iopub.status.busy": "2022-08-27T06:45:35.514011Z",
     "iopub.status.idle": "2022-08-27T06:45:45.225204Z",
     "shell.execute_reply": "2022-08-27T06:45:45.224636Z"
    },
    "papermill": {
     "duration": 11.291071,
     "end_time": "2022-08-27T06:45:45.226817",
     "exception": false,
     "start_time": "2022-08-27T06:45:33.935746",
     "status": "completed"
    },
    "tags": []
   },
   "outputs": [
    {
     "data": {
      "image/png": "[encoded data removed]",
      "text/plain": [
       "<Figure size 504x504 with 1 Axes>"
      ]
     },
     "metadata": {
      "needs_background": "light"
     },
     "output_type": "display_data"
    }
   ],
   "source": [
    "with sns.plotting_context(\"paper\", font_scale=1.5):\n",
    "    g = sns.displot(gene_corrs_flat, kde=True, height=7)\n",
    "    g.ax.set_title(\n",
    "        f\"Distribution of gene correlation values in chromosome {CHROMOSOME}\"\n",
    "    )"
   ]
  },
  {
   "cell_type": "markdown",
   "id": "cbd52bca-d878-4a2f-b684-5c83aa3038d4",
   "metadata": {
    "papermill": {
     "duration": 1.621004,
     "end_time": "2022-08-27T06:45:48.452615",
     "exception": false,
     "start_time": "2022-08-27T06:45:46.831611",
     "status": "completed"
    },
    "tags": []
   },
   "source": [
    "## Plot: heatmap"
   ]
  },
  {
   "cell_type": "code",
   "execution_count": 42,
   "id": "d03fe63a-c7b2-4fb9-a53c-db362ce843c9",
   "metadata": {
    "execution": {
     "iopub.execute_input": "2022-08-27T06:45:51.583531Z",
     "iopub.status.busy": "2022-08-27T06:45:51.583259Z",
     "iopub.status.idle": "2022-08-27T06:45:51.804030Z",
     "shell.execute_reply": "2022-08-27T06:45:51.803489Z"
    },
    "papermill": {
     "duration": 1.79407,
     "end_time": "2022-08-27T06:45:51.805722",
     "exception": false,
     "start_time": "2022-08-27T06:45:50.011652",
     "status": "completed"
    },
    "tags": []
   },
   "outputs": [
    {
     "data": {
      "text/plain": [
       "'0.0 / 0.05'"
      ]
     },
     "metadata": {},
     "output_type": "display_data"
    }
   ],
   "source": [
    "vmin_val = min(0.00, gene_corrs_quantiles[0.10])\n",
    "vmax_val = max(0.05, gene_corrs_quantiles[0.90])\n",
    "display(f\"{vmin_val} / {vmax_val}\")"
   ]
  },
  {
   "cell_type": "code",
   "execution_count": 43,
   "id": "dc41b70b-5bcc-4d9e-9f33-a22c4a94dab5",
   "metadata": {
    "execution": {
     "iopub.execute_input": "2022-08-27T06:45:55.067325Z",
     "iopub.status.busy": "2022-08-27T06:45:55.067035Z",
     "iopub.status.idle": "2022-08-27T06:45:55.304510Z",
     "shell.execute_reply": "2022-08-27T06:45:55.303927Z"
    },
    "papermill": {
     "duration": 1.896185,
     "end_time": "2022-08-27T06:45:55.306383",
     "exception": false,
     "start_time": "2022-08-27T06:45:53.410198",
     "status": "completed"
    },
    "tags": []
   },
   "outputs": [
    {
     "data": {
      "text/plain": [
       "Text(0.5, 1.0, 'Gene correlations in chromosome 8')"
      ]
     },
     "execution_count": 43,
     "metadata": {},
     "output_type": "execute_result"
    },
    {
     "data": {
      "image/png": "[encoded data removed]",
      "text/plain": [
       "<Figure size 720x720 with 2 Axes>"
      ]
     },
     "metadata": {
      "needs_background": "light"
     },
     "output_type": "display_data"
    }
   ],
   "source": [
    "f, ax = plt.subplots(figsize=(10, 10))\n",
    "sns.heatmap(\n",
    "    gene_corrs_df,\n",
    "    xticklabels=False,\n",
    "    yticklabels=False,\n",
    "    square=True,\n",
    "    vmin=vmin_val,\n",
    "    vmax=vmax_val,\n",
    "    cmap=\"rocket_r\",\n",
    "    ax=ax,\n",
    ")\n",
    "ax.set_title(f\"Gene correlations in chromosome {CHROMOSOME}\")"
   ]
  },
  {
   "cell_type": "code",
   "execution_count": null,
   "id": "b25e3ead",
   "metadata": {
    "papermill": {
     "duration": 1.635024,
     "end_time": "2022-08-27T06:45:58.541232",
     "exception": false,
     "start_time": "2022-08-27T06:45:56.906208",
     "status": "completed"
    },
    "tags": []
   },
   "outputs": [],
   "source": []
  }
 ],
 "metadata": {
  "jupytext": {
   "cell_metadata_filter": "all,-execution,-papermill,-trusted",
   "formats": "ipynb,py//py:percent"
  },
  "kernelspec": {
   "display_name": "Python 3 (ipykernel)",
   "language": "python",
   "name": "python3"
  },
  "language_info": {
   "codemirror_mode": {
    "name": "ipython",
    "version": 3
   },
   "file_extension": ".py",
   "mimetype": "text/x-python",
   "name": "python",
   "nbconvert_exporter": "python",
   "pygments_lexer": "ipython3",
   "version": "3.8.13"
  },
  "papermill": {
   "default_parameters": {},
   "duration": 2566.179525,
   "end_time": "2022-08-27T06:46:03.058883",
   "environment_variables": {},
   "exception": null,
   "input_path": "nbs/15_gsa_gls/10-gene_expr_correlations.ipynb",
   "output_path": "nbs/15_gsa_gls/gene_corrs/cohorts/phenomexcan_other/gtex_v8/mashr/10-gene_expr_corrs/10-gene_expr_correlations-chr8.run.ipynb",
   "parameters": {
    "CHROMOSOME": 8,
    "COHORT_NAME": "phenomexcan_other",
    "EQTL_MODEL": "MASHR",
    "REFERENCE_PANEL": "GTEX_V8"
   },
   "start_time": "2022-08-27T06:03:16.879358",
   "version": "2.2.2"
  }
 },
 "nbformat": 4,
 "nbformat_minor": 5
}
