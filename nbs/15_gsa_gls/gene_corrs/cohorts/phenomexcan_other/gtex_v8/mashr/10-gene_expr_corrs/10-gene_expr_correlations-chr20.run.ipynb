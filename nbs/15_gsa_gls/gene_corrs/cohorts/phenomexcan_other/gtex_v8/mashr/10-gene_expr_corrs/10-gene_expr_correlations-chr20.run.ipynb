{
 "cells": [
  {
   "cell_type": "markdown",
   "id": "7a6632fb",
   "metadata": {
    "papermill": {
     "duration": 0.019411,
     "end_time": "2022-08-27T06:03:18.904621",
     "exception": false,
     "start_time": "2022-08-27T06:03:18.885210",
     "status": "completed"
    },
    "tags": []
   },
   "source": [
    "# Description"
   ]
  },
  {
   "cell_type": "markdown",
   "id": "7097c346",
   "metadata": {
    "papermill": {
     "duration": 0.014037,
     "end_time": "2022-08-27T06:03:18.934020",
     "exception": false,
     "start_time": "2022-08-27T06:03:18.919983",
     "status": "completed"
    },
    "tags": []
   },
   "source": [
    "(Please, take a look at the README.md file in this directory for instructions on how to run this notebook)\n",
    "\n",
    "This notebook computes predicted expression correlations between all genes in the MultiPLIER models.\n",
    "\n",
    "It also has a parameter set for papermill to run on a single chromosome to run in parallel (see under `Settings` below).\n",
    "\n",
    "This notebook is not directly run. See README.md."
   ]
  },
  {
   "cell_type": "markdown",
   "id": "c61d8427",
   "metadata": {
    "papermill": {
     "duration": 0.013226,
     "end_time": "2022-08-27T06:03:18.963147",
     "exception": false,
     "start_time": "2022-08-27T06:03:18.949921",
     "status": "completed"
    },
    "tags": []
   },
   "source": [
    "# Modules"
   ]
  },
  {
   "cell_type": "code",
   "execution_count": 1,
   "id": "bbc0234f",
   "metadata": {
    "execution": {
     "iopub.execute_input": "2022-08-27T06:03:18.989592Z",
     "iopub.status.busy": "2022-08-27T06:03:18.989186Z",
     "iopub.status.idle": "2022-08-27T06:03:19.014008Z",
     "shell.execute_reply": "2022-08-27T06:03:19.013325Z"
    },
    "papermill": {
     "duration": 0.041018,
     "end_time": "2022-08-27T06:03:19.016412",
     "exception": false,
     "start_time": "2022-08-27T06:03:18.975394",
     "status": "completed"
    },
    "tags": []
   },
   "outputs": [],
   "source": [
    "%load_ext autoreload\n",
    "%autoreload 2"
   ]
  },
  {
   "cell_type": "code",
   "execution_count": 2,
   "id": "1d5f5a59",
   "metadata": {
    "execution": {
     "iopub.execute_input": "2022-08-27T06:03:19.039601Z",
     "iopub.status.busy": "2022-08-27T06:03:19.039383Z",
     "iopub.status.idle": "2022-08-27T06:03:22.988624Z",
     "shell.execute_reply": "2022-08-27T06:03:22.987938Z"
    },
    "papermill": {
     "duration": 3.963486,
     "end_time": "2022-08-27T06:03:22.990690",
     "exception": false,
     "start_time": "2022-08-27T06:03:19.027204",
     "status": "completed"
    },
    "tags": []
   },
   "outputs": [],
   "source": [
    "from random import sample, seed\n",
    "import warnings\n",
    "from pathlib import Path\n",
    "import pickle\n",
    "import traceback\n",
    "\n",
    "import numpy as np\n",
    "from scipy.spatial.distance import squareform\n",
    "import pandas as pd\n",
    "from tqdm import tqdm\n",
    "import matplotlib.pyplot as plt\n",
    "import seaborn as sns\n",
    "\n",
    "import conf\n",
    "from entity import Gene"
   ]
  },
  {
   "cell_type": "markdown",
   "id": "1eac24b5",
   "metadata": {
    "papermill": {
     "duration": 0.017459,
     "end_time": "2022-08-27T06:03:23.076034",
     "exception": false,
     "start_time": "2022-08-27T06:03:23.058575",
     "status": "completed"
    },
    "tags": []
   },
   "source": [
    "# Settings"
   ]
  },
  {
   "cell_type": "code",
   "execution_count": 3,
   "id": "ca4560ba",
   "metadata": {
    "execution": {
     "iopub.execute_input": "2022-08-27T06:03:23.105129Z",
     "iopub.status.busy": "2022-08-27T06:03:23.104869Z",
     "iopub.status.idle": "2022-08-27T06:03:23.125002Z",
     "shell.execute_reply": "2022-08-27T06:03:23.124439Z"
    },
    "papermill": {
     "duration": 0.036708,
     "end_time": "2022-08-27T06:03:23.126719",
     "exception": false,
     "start_time": "2022-08-27T06:03:23.090011",
     "status": "completed"
    },
    "tags": [
     "parameters"
    ]
   },
   "outputs": [],
   "source": [
    "# a cohort name (it could be something like UK_BIOBANK, etc)\n",
    "COHORT_NAME = None\n",
    "\n",
    "# reference panel such as 1000G or GTEX_V8\n",
    "REFERENCE_PANEL = None\n",
    "\n",
    "# predictions models such as MASHR or ELASTIC_NET\n",
    "EQTL_MODEL = None\n",
    "\n",
    "# this is the default value used in S-MultiXcan to select the\n",
    "# top principal components of the expression correlation matrix\n",
    "SMULTIXCAN_CONDITION_NUMBER = 30\n",
    "\n",
    "# specifies a single chromosome value\n",
    "CHROMOSOME = None\n",
    "\n",
    "# If True, computes the correlation between closeby genes only;\n",
    "# otherwise, it computes correlations for all genes in a chromosome\n",
    "COMPUTE_CORRELATIONS_WITHIN_DISTANCE = False\n",
    "\n",
    "# if True, then it will continue if a gene pair correlation fails,\n",
    "# printing the warning/error for debugging. If False, any warning/error\n",
    "# will be thrown\n",
    "DEBUG_MODE = False"
   ]
  },
  {
   "cell_type": "code",
   "execution_count": 4,
   "id": "3411b4a0",
   "metadata": {
    "execution": {
     "iopub.execute_input": "2022-08-27T06:03:23.159087Z",
     "iopub.status.busy": "2022-08-27T06:03:23.158868Z",
     "iopub.status.idle": "2022-08-27T06:03:23.176021Z",
     "shell.execute_reply": "2022-08-27T06:03:23.175490Z"
    },
    "papermill": {
     "duration": 0.035878,
     "end_time": "2022-08-27T06:03:23.177694",
     "exception": false,
     "start_time": "2022-08-27T06:03:23.141816",
     "status": "completed"
    },
    "tags": [
     "injected-parameters"
    ]
   },
   "outputs": [],
   "source": [
    "# Parameters\n",
    "COHORT_NAME = \"phenomexcan_other\"\n",
    "REFERENCE_PANEL = \"GTEX_V8\"\n",
    "EQTL_MODEL = \"MASHR\"\n",
    "CHROMOSOME = 20\n"
   ]
  },
  {
   "cell_type": "code",
   "execution_count": 5,
   "id": "3190631f-27fc-480f-b18e-571d580425a5",
   "metadata": {
    "execution": {
     "iopub.execute_input": "2022-08-27T06:03:23.208630Z",
     "iopub.status.busy": "2022-08-27T06:03:23.208389Z",
     "iopub.status.idle": "2022-08-27T06:03:23.228683Z",
     "shell.execute_reply": "2022-08-27T06:03:23.228116Z"
    },
    "papermill": {
     "duration": 0.037192,
     "end_time": "2022-08-27T06:03:23.230336",
     "exception": false,
     "start_time": "2022-08-27T06:03:23.193144",
     "status": "completed"
    },
    "tags": []
   },
   "outputs": [
    {
     "data": {
      "text/plain": [
       "'Cohort name: phenomexcan_other'"
      ]
     },
     "metadata": {},
     "output_type": "display_data"
    }
   ],
   "source": [
    "assert COHORT_NAME is not None and len(COHORT_NAME) > 0, \"A cohort name must be given\"\n",
    "\n",
    "COHORT_NAME = COHORT_NAME.lower()\n",
    "display(f\"Cohort name: {COHORT_NAME}\")"
   ]
  },
  {
   "cell_type": "code",
   "execution_count": 6,
   "id": "f53ba19b-0f93-4fa2-a047-63b375939d1a",
   "metadata": {
    "execution": {
     "iopub.execute_input": "2022-08-27T06:03:23.251970Z",
     "iopub.status.busy": "2022-08-27T06:03:23.251768Z",
     "iopub.status.idle": "2022-08-27T06:03:23.270112Z",
     "shell.execute_reply": "2022-08-27T06:03:23.269552Z"
    },
    "papermill": {
     "duration": 0.032557,
     "end_time": "2022-08-27T06:03:23.271676",
     "exception": false,
     "start_time": "2022-08-27T06:03:23.239119",
     "status": "completed"
    },
    "tags": []
   },
   "outputs": [
    {
     "data": {
      "text/plain": [
       "'Reference panel: GTEX_V8'"
      ]
     },
     "metadata": {},
     "output_type": "display_data"
    }
   ],
   "source": [
    "assert (\n",
    "    REFERENCE_PANEL is not None and len(REFERENCE_PANEL) > 0\n",
    "), \"A reference panel must be given\"\n",
    "\n",
    "display(f\"Reference panel: {REFERENCE_PANEL}\")"
   ]
  },
  {
   "cell_type": "code",
   "execution_count": 7,
   "id": "e024d130-c139-429a-9c6e-ccf149e297b0",
   "metadata": {
    "execution": {
     "iopub.execute_input": "2022-08-27T06:03:23.294615Z",
     "iopub.status.busy": "2022-08-27T06:03:23.294398Z",
     "iopub.status.idle": "2022-08-27T06:03:23.313187Z",
     "shell.execute_reply": "2022-08-27T06:03:23.312665Z"
    },
    "papermill": {
     "duration": 0.032564,
     "end_time": "2022-08-27T06:03:23.314747",
     "exception": false,
     "start_time": "2022-08-27T06:03:23.282183",
     "status": "completed"
    },
    "tags": []
   },
   "outputs": [
    {
     "data": {
      "text/plain": [
       "'eQTL model: MASHR) / mashr_'"
      ]
     },
     "metadata": {},
     "output_type": "display_data"
    }
   ],
   "source": [
    "assert (\n",
    "    EQTL_MODEL is not None and len(EQTL_MODEL) > 0\n",
    "), \"A prediction/eQTL model must be given\"\n",
    "\n",
    "EQTL_MODEL_FILES_PREFIX = conf.PHENOMEXCAN[\"PREDICTION_MODELS\"][f\"{EQTL_MODEL}_PREFIX\"]\n",
    "display(f\"eQTL model: {EQTL_MODEL}) / {EQTL_MODEL_FILES_PREFIX}\")"
   ]
  },
  {
   "cell_type": "code",
   "execution_count": 8,
   "id": "552a7f63-a18c-4d3e-bb6a-94f99b431291",
   "metadata": {
    "execution": {
     "iopub.execute_input": "2022-08-27T06:03:23.336633Z",
     "iopub.status.busy": "2022-08-27T06:03:23.336418Z",
     "iopub.status.idle": "2022-08-27T06:03:23.355241Z",
     "shell.execute_reply": "2022-08-27T06:03:23.354721Z"
    },
    "papermill": {
     "duration": 0.03035,
     "end_time": "2022-08-27T06:03:23.356800",
     "exception": false,
     "start_time": "2022-08-27T06:03:23.326450",
     "status": "completed"
    },
    "tags": []
   },
   "outputs": [
    {
     "data": {
      "text/plain": [
       "'S-MultiXcan condition number: 30'"
      ]
     },
     "metadata": {},
     "output_type": "display_data"
    }
   ],
   "source": [
    "assert (\n",
    "    SMULTIXCAN_CONDITION_NUMBER is not None and SMULTIXCAN_CONDITION_NUMBER > 0\n",
    "), \"The S-MultiXcan condition number (positive integer) must be given\"\n",
    "\n",
    "display(f\"S-MultiXcan condition number: {SMULTIXCAN_CONDITION_NUMBER}\")"
   ]
  },
  {
   "cell_type": "code",
   "execution_count": 9,
   "id": "f34a336f-548e-4afe-8955-90eaea4f42c6",
   "metadata": {
    "execution": {
     "iopub.execute_input": "2022-08-27T06:03:23.376749Z",
     "iopub.status.busy": "2022-08-27T06:03:23.376526Z",
     "iopub.status.idle": "2022-08-27T06:03:23.394818Z",
     "shell.execute_reply": "2022-08-27T06:03:23.394263Z"
    },
    "papermill": {
     "duration": 0.030286,
     "end_time": "2022-08-27T06:03:23.396355",
     "exception": false,
     "start_time": "2022-08-27T06:03:23.366069",
     "status": "completed"
    },
    "tags": []
   },
   "outputs": [
    {
     "data": {
      "text/plain": [
       "'Working on chromosome 20'"
      ]
     },
     "metadata": {},
     "output_type": "display_data"
    }
   ],
   "source": [
    "assert CHROMOSOME is not None and (\n",
    "    1 <= CHROMOSOME <= 22\n",
    "), \"You have to select one chromosome (format: number between 1 and 22)\"\n",
    "\n",
    "# CHROMOSOME = str(CHROMOSOME)\n",
    "display(f\"Working on chromosome {CHROMOSOME}\")"
   ]
  },
  {
   "cell_type": "code",
   "execution_count": 10,
   "id": "ab8e96e8-06b5-4363-9dcd-dc4d78cc27f7",
   "metadata": {
    "execution": {
     "iopub.execute_input": "2022-08-27T06:03:23.416540Z",
     "iopub.status.busy": "2022-08-27T06:03:23.416331Z",
     "iopub.status.idle": "2022-08-27T06:03:23.435136Z",
     "shell.execute_reply": "2022-08-27T06:03:23.434616Z"
    },
    "papermill": {
     "duration": 0.031349,
     "end_time": "2022-08-27T06:03:23.436697",
     "exception": false,
     "start_time": "2022-08-27T06:03:23.405348",
     "status": "completed"
    },
    "tags": []
   },
   "outputs": [
    {
     "data": {
      "text/plain": [
       "'Compute correlation within distance False'"
      ]
     },
     "metadata": {},
     "output_type": "display_data"
    }
   ],
   "source": [
    "display(f\"Compute correlation within distance {COMPUTE_CORRELATIONS_WITHIN_DISTANCE}\")"
   ]
  },
  {
   "cell_type": "code",
   "execution_count": 11,
   "id": "396392dc-0340-4540-9b02-e182b833f909",
   "metadata": {
    "execution": {
     "iopub.execute_input": "2022-08-27T06:03:23.460785Z",
     "iopub.status.busy": "2022-08-27T06:03:23.460569Z",
     "iopub.status.idle": "2022-08-27T06:03:23.481140Z",
     "shell.execute_reply": "2022-08-27T06:03:23.480589Z"
    },
    "papermill": {
     "duration": 0.033239,
     "end_time": "2022-08-27T06:03:23.482695",
     "exception": false,
     "start_time": "2022-08-27T06:03:23.449456",
     "status": "completed"
    },
    "tags": []
   },
   "outputs": [
    {
     "data": {
      "text/plain": [
       "'Using output dir base: /project/ritchie20/projects/phenoplier/base/results/gls/gene_corrs/cohorts/phenomexcan_other/gtex_v8/mashr'"
      ]
     },
     "metadata": {},
     "output_type": "display_data"
    }
   ],
   "source": [
    "OUTPUT_DIR_BASE = (\n",
    "    conf.RESULTS[\"GLS\"]\n",
    "    / \"gene_corrs\"\n",
    "    / \"cohorts\"\n",
    "    / COHORT_NAME\n",
    "    / REFERENCE_PANEL.lower()\n",
    "    / EQTL_MODEL.lower()\n",
    ")\n",
    "OUTPUT_DIR_BASE.mkdir(parents=True, exist_ok=True)\n",
    "\n",
    "display(f\"Using output dir base: {OUTPUT_DIR_BASE}\")"
   ]
  },
  {
   "cell_type": "markdown",
   "id": "d2ba085e",
   "metadata": {
    "papermill": {
     "duration": 0.010914,
     "end_time": "2022-08-27T06:03:23.504843",
     "exception": false,
     "start_time": "2022-08-27T06:03:23.493929",
     "status": "completed"
    },
    "tags": []
   },
   "source": [
    "# Load data"
   ]
  },
  {
   "cell_type": "markdown",
   "id": "7dcb8db7",
   "metadata": {
    "papermill": {
     "duration": 0.009696,
     "end_time": "2022-08-27T06:03:23.525368",
     "exception": false,
     "start_time": "2022-08-27T06:03:23.515672",
     "status": "completed"
    },
    "tags": []
   },
   "source": [
    "## GWAS variants"
   ]
  },
  {
   "cell_type": "code",
   "execution_count": 12,
   "id": "29434c4e-8cd3-4b9b-82e4-b5a251d9dd19",
   "metadata": {
    "execution": {
     "iopub.execute_input": "2022-08-27T06:03:23.545881Z",
     "iopub.status.busy": "2022-08-27T06:03:23.545680Z",
     "iopub.status.idle": "2022-08-27T06:03:26.069765Z",
     "shell.execute_reply": "2022-08-27T06:03:26.069112Z"
    },
    "papermill": {
     "duration": 2.536832,
     "end_time": "2022-08-27T06:03:26.071785",
     "exception": false,
     "start_time": "2022-08-27T06:03:23.534953",
     "status": "completed"
    },
    "tags": []
   },
   "outputs": [],
   "source": [
    "with open(OUTPUT_DIR_BASE / \"gwas_variant_ids.pkl\", \"rb\") as handle:\n",
    "    gwas_variants_ids_set = pickle.load(handle)"
   ]
  },
  {
   "cell_type": "code",
   "execution_count": 13,
   "id": "b9d9dec2-4a76-4bf9-bde2-e24c95acb8a0",
   "metadata": {
    "execution": {
     "iopub.execute_input": "2022-08-27T06:03:26.094001Z",
     "iopub.status.busy": "2022-08-27T06:03:26.093791Z",
     "iopub.status.idle": "2022-08-27T06:03:26.114317Z",
     "shell.execute_reply": "2022-08-27T06:03:26.113784Z"
    },
    "papermill": {
     "duration": 0.033323,
     "end_time": "2022-08-27T06:03:26.115868",
     "exception": false,
     "start_time": "2022-08-27T06:03:26.082545",
     "status": "completed"
    },
    "tags": []
   },
   "outputs": [
    {
     "data": {
      "text/plain": [
       "8865800"
      ]
     },
     "execution_count": 13,
     "metadata": {},
     "output_type": "execute_result"
    }
   ],
   "source": [
    "len(gwas_variants_ids_set)"
   ]
  },
  {
   "cell_type": "code",
   "execution_count": 14,
   "id": "4235b06a-6034-4ee4-a0a3-2ae35d122418",
   "metadata": {
    "execution": {
     "iopub.execute_input": "2022-08-27T06:03:26.137758Z",
     "iopub.status.busy": "2022-08-27T06:03:26.137541Z",
     "iopub.status.idle": "2022-08-27T06:03:26.815433Z",
     "shell.execute_reply": "2022-08-27T06:03:26.814695Z"
    },
    "papermill": {
     "duration": 0.691204,
     "end_time": "2022-08-27T06:03:26.817879",
     "exception": false,
     "start_time": "2022-08-27T06:03:26.126675",
     "status": "completed"
    },
    "tags": []
   },
   "outputs": [
    {
     "data": {
      "text/plain": [
       "['chr14_83309026_T_A_b38',\n",
       " 'chr19_48256972_G_A_b38',\n",
       " 'chr2_134992080_A_G_b38',\n",
       " 'chr2_240420289_C_T_b38',\n",
       " 'chr5_15945261_G_A_b38']"
      ]
     },
     "execution_count": 14,
     "metadata": {},
     "output_type": "execute_result"
    }
   ],
   "source": [
    "list(gwas_variants_ids_set)[:5]"
   ]
  },
  {
   "cell_type": "markdown",
   "id": "07866999-2305-41f9-a144-e69c9122c212",
   "metadata": {
    "papermill": {
     "duration": 0.036026,
     "end_time": "2022-08-27T06:03:26.901669",
     "exception": false,
     "start_time": "2022-08-27T06:03:26.865643",
     "status": "completed"
    },
    "tags": []
   },
   "source": [
    "## S-PrediXcan tissue models"
   ]
  },
  {
   "cell_type": "code",
   "execution_count": 15,
   "id": "780611d9-77c8-405f-90a4-f271f7b09397",
   "metadata": {
    "execution": {
     "iopub.execute_input": "2022-08-27T06:03:26.963953Z",
     "iopub.status.busy": "2022-08-27T06:03:26.963600Z",
     "iopub.status.idle": "2022-08-27T06:03:28.058885Z",
     "shell.execute_reply": "2022-08-27T06:03:28.058264Z"
    },
    "papermill": {
     "duration": 1.127734,
     "end_time": "2022-08-27T06:03:28.060877",
     "exception": false,
     "start_time": "2022-08-27T06:03:26.933143",
     "status": "completed"
    },
    "tags": []
   },
   "outputs": [],
   "source": [
    "spredixcan_genes_models = pd.read_pickle(OUTPUT_DIR_BASE / \"gene_tissues.pkl\")"
   ]
  },
  {
   "cell_type": "code",
   "execution_count": 16,
   "id": "726dd1f6-9557-4225-91fa-b3b879ea96e1",
   "metadata": {
    "execution": {
     "iopub.execute_input": "2022-08-27T06:03:28.125889Z",
     "iopub.status.busy": "2022-08-27T06:03:28.125676Z",
     "iopub.status.idle": "2022-08-27T06:03:28.146094Z",
     "shell.execute_reply": "2022-08-27T06:03:28.145549Z"
    },
    "papermill": {
     "duration": 0.056546,
     "end_time": "2022-08-27T06:03:28.147681",
     "exception": false,
     "start_time": "2022-08-27T06:03:28.091135",
     "status": "completed"
    },
    "tags": []
   },
   "outputs": [
    {
     "data": {
      "text/plain": [
       "(6450, 3)"
      ]
     },
     "execution_count": 16,
     "metadata": {},
     "output_type": "execute_result"
    }
   ],
   "source": [
    "spredixcan_genes_models.shape"
   ]
  },
  {
   "cell_type": "code",
   "execution_count": 17,
   "id": "944a1b48-222c-4eb0-b252-b9de2cbca215",
   "metadata": {
    "execution": {
     "iopub.execute_input": "2022-08-27T06:03:28.211448Z",
     "iopub.status.busy": "2022-08-27T06:03:28.211080Z",
     "iopub.status.idle": "2022-08-27T06:03:28.263050Z",
     "shell.execute_reply": "2022-08-27T06:03:28.262309Z"
    },
    "papermill": {
     "duration": 0.082576,
     "end_time": "2022-08-27T06:03:28.265177",
     "exception": false,
     "start_time": "2022-08-27T06:03:28.182601",
     "status": "completed"
    },
    "tags": []
   },
   "outputs": [
    {
     "data": {
      "text/html": [
       "<div>\n",
       "<style scoped>\n",
       "    .dataframe tbody tr th:only-of-type {\n",
       "        vertical-align: middle;\n",
       "    }\n",
       "\n",
       "    .dataframe tbody tr th {\n",
       "        vertical-align: top;\n",
       "    }\n",
       "\n",
       "    .dataframe thead th {\n",
       "        text-align: right;\n",
       "    }\n",
       "</style>\n",
       "<table border=\"1\" class=\"dataframe\">\n",
       "  <thead>\n",
       "    <tr style=\"text-align: right;\">\n",
       "      <th></th>\n",
       "      <th>gene_name</th>\n",
       "      <th>tissue</th>\n",
       "      <th>n_tissues</th>\n",
       "    </tr>\n",
       "    <tr>\n",
       "      <th>gene_id</th>\n",
       "      <th></th>\n",
       "      <th></th>\n",
       "      <th></th>\n",
       "    </tr>\n",
       "  </thead>\n",
       "  <tbody>\n",
       "    <tr>\n",
       "      <th>ENSG00000000419</th>\n",
       "      <td>DPM1</td>\n",
       "      <td>(Brain_Substantia_nigra, Brain_Hypothalamus, C...</td>\n",
       "      <td>3</td>\n",
       "    </tr>\n",
       "    <tr>\n",
       "      <th>ENSG00000000938</th>\n",
       "      <td>FGR</td>\n",
       "      <td>(Pituitary, Esophagus_Mucosa, Thyroid, Testis,...</td>\n",
       "      <td>36</td>\n",
       "    </tr>\n",
       "    <tr>\n",
       "      <th>ENSG00000000971</th>\n",
       "      <td>CFH</td>\n",
       "      <td>(Pituitary, Thyroid, Testis, Esophagus_Muscula...</td>\n",
       "      <td>34</td>\n",
       "    </tr>\n",
       "    <tr>\n",
       "      <th>ENSG00000001084</th>\n",
       "      <td>GCLC</td>\n",
       "      <td>(Pituitary, Thyroid, Testis, Small_Intestine_T...</td>\n",
       "      <td>33</td>\n",
       "    </tr>\n",
       "    <tr>\n",
       "      <th>ENSG00000001167</th>\n",
       "      <td>NFYA</td>\n",
       "      <td>(Esophagus_Mucosa, Thyroid, Testis, Esophagus_...</td>\n",
       "      <td>40</td>\n",
       "    </tr>\n",
       "  </tbody>\n",
       "</table>\n",
       "</div>"
      ],
      "text/plain": [
       "                gene_name                                             tissue  \\\n",
       "gene_id                                                                        \n",
       "ENSG00000000419      DPM1  (Brain_Substantia_nigra, Brain_Hypothalamus, C...   \n",
       "ENSG00000000938       FGR  (Pituitary, Esophagus_Mucosa, Thyroid, Testis,...   \n",
       "ENSG00000000971       CFH  (Pituitary, Thyroid, Testis, Esophagus_Muscula...   \n",
       "ENSG00000001084      GCLC  (Pituitary, Thyroid, Testis, Small_Intestine_T...   \n",
       "ENSG00000001167      NFYA  (Esophagus_Mucosa, Thyroid, Testis, Esophagus_...   \n",
       "\n",
       "                 n_tissues  \n",
       "gene_id                     \n",
       "ENSG00000000419          3  \n",
       "ENSG00000000938         36  \n",
       "ENSG00000000971         34  \n",
       "ENSG00000001084         33  \n",
       "ENSG00000001167         40  "
      ]
     },
     "execution_count": 17,
     "metadata": {},
     "output_type": "execute_result"
    }
   ],
   "source": [
    "spredixcan_genes_models.head()"
   ]
  },
  {
   "cell_type": "code",
   "execution_count": 18,
   "id": "d1c11bb1-be0b-4f40-b360-633d6827109f",
   "metadata": {
    "execution": {
     "iopub.execute_input": "2022-08-27T06:03:28.316842Z",
     "iopub.status.busy": "2022-08-27T06:03:28.316624Z",
     "iopub.status.idle": "2022-08-27T06:03:28.334607Z",
     "shell.execute_reply": "2022-08-27T06:03:28.334023Z"
    },
    "papermill": {
     "duration": 0.044113,
     "end_time": "2022-08-27T06:03:28.336351",
     "exception": false,
     "start_time": "2022-08-27T06:03:28.292238",
     "status": "completed"
    },
    "tags": []
   },
   "outputs": [],
   "source": [
    "assert spredixcan_genes_models.index.is_unique"
   ]
  },
  {
   "cell_type": "markdown",
   "id": "a5b5092c-a13e-47c4-a92a-480fcc08f3ae",
   "metadata": {
    "papermill": {
     "duration": 0.016465,
     "end_time": "2022-08-27T06:03:28.392248",
     "exception": false,
     "start_time": "2022-08-27T06:03:28.375783",
     "status": "completed"
    },
    "tags": []
   },
   "source": [
    "## Gene info"
   ]
  },
  {
   "cell_type": "code",
   "execution_count": 19,
   "id": "7d6bb224-88e9-4358-ac10-43a41d92cdad",
   "metadata": {
    "execution": {
     "iopub.execute_input": "2022-08-27T06:03:28.427422Z",
     "iopub.status.busy": "2022-08-27T06:03:28.427175Z",
     "iopub.status.idle": "2022-08-27T06:03:28.458910Z",
     "shell.execute_reply": "2022-08-27T06:03:28.458335Z"
    },
    "papermill": {
     "duration": 0.050241,
     "end_time": "2022-08-27T06:03:28.460689",
     "exception": false,
     "start_time": "2022-08-27T06:03:28.410448",
     "status": "completed"
    },
    "tags": []
   },
   "outputs": [],
   "source": [
    "genes_info = pd.read_pickle(OUTPUT_DIR_BASE / \"genes_info.pkl\")"
   ]
  },
  {
   "cell_type": "code",
   "execution_count": 20,
   "id": "9e32abfa-546d-483e-8c18-d526e9e05903",
   "metadata": {
    "execution": {
     "iopub.execute_input": "2022-08-27T06:03:28.493318Z",
     "iopub.status.busy": "2022-08-27T06:03:28.493093Z",
     "iopub.status.idle": "2022-08-27T06:03:28.512245Z",
     "shell.execute_reply": "2022-08-27T06:03:28.511690Z"
    },
    "papermill": {
     "duration": 0.035809,
     "end_time": "2022-08-27T06:03:28.513865",
     "exception": false,
     "start_time": "2022-08-27T06:03:28.478056",
     "status": "completed"
    },
    "tags": []
   },
   "outputs": [
    {
     "data": {
      "text/plain": [
       "(6450, 7)"
      ]
     },
     "execution_count": 20,
     "metadata": {},
     "output_type": "execute_result"
    }
   ],
   "source": [
    "genes_info.shape"
   ]
  },
  {
   "cell_type": "code",
   "execution_count": 21,
   "id": "d16c3e92-85ec-468a-9a56-e25a9774a1cb",
   "metadata": {
    "execution": {
     "iopub.execute_input": "2022-08-27T06:03:28.557854Z",
     "iopub.status.busy": "2022-08-27T06:03:28.557637Z",
     "iopub.status.idle": "2022-08-27T06:03:28.581550Z",
     "shell.execute_reply": "2022-08-27T06:03:28.580986Z"
    },
    "papermill": {
     "duration": 0.042074,
     "end_time": "2022-08-27T06:03:28.583175",
     "exception": false,
     "start_time": "2022-08-27T06:03:28.541101",
     "status": "completed"
    },
    "tags": []
   },
   "outputs": [
    {
     "data": {
      "text/html": [
       "<div>\n",
       "<style scoped>\n",
       "    .dataframe tbody tr th:only-of-type {\n",
       "        vertical-align: middle;\n",
       "    }\n",
       "\n",
       "    .dataframe tbody tr th {\n",
       "        vertical-align: top;\n",
       "    }\n",
       "\n",
       "    .dataframe thead th {\n",
       "        text-align: right;\n",
       "    }\n",
       "</style>\n",
       "<table border=\"1\" class=\"dataframe\">\n",
       "  <thead>\n",
       "    <tr style=\"text-align: right;\">\n",
       "      <th></th>\n",
       "      <th>name</th>\n",
       "      <th>id</th>\n",
       "      <th>chr</th>\n",
       "      <th>band</th>\n",
       "      <th>start_position</th>\n",
       "      <th>end_position</th>\n",
       "      <th>gene_length</th>\n",
       "    </tr>\n",
       "  </thead>\n",
       "  <tbody>\n",
       "    <tr>\n",
       "      <th>0</th>\n",
       "      <td>FUS</td>\n",
       "      <td>ENSG00000089280</td>\n",
       "      <td>16</td>\n",
       "      <td>16p11.2</td>\n",
       "      <td>31180110</td>\n",
       "      <td>31194871</td>\n",
       "      <td>14761</td>\n",
       "    </tr>\n",
       "    <tr>\n",
       "      <th>1</th>\n",
       "      <td>PI4K2A</td>\n",
       "      <td>ENSG00000155252</td>\n",
       "      <td>10</td>\n",
       "      <td>10q24.2</td>\n",
       "      <td>97640686</td>\n",
       "      <td>97676434</td>\n",
       "      <td>35748</td>\n",
       "    </tr>\n",
       "    <tr>\n",
       "      <th>2</th>\n",
       "      <td>PER1</td>\n",
       "      <td>ENSG00000179094</td>\n",
       "      <td>17</td>\n",
       "      <td>17p13.1</td>\n",
       "      <td>8140472</td>\n",
       "      <td>8156506</td>\n",
       "      <td>16034</td>\n",
       "    </tr>\n",
       "    <tr>\n",
       "      <th>3</th>\n",
       "      <td>GBP6</td>\n",
       "      <td>ENSG00000183347</td>\n",
       "      <td>1</td>\n",
       "      <td>1p22.2</td>\n",
       "      <td>89364058</td>\n",
       "      <td>89386461</td>\n",
       "      <td>22403</td>\n",
       "    </tr>\n",
       "    <tr>\n",
       "      <th>4</th>\n",
       "      <td>GPAA1</td>\n",
       "      <td>ENSG00000197858</td>\n",
       "      <td>8</td>\n",
       "      <td>8q24.3</td>\n",
       "      <td>144082590</td>\n",
       "      <td>144086216</td>\n",
       "      <td>3626</td>\n",
       "    </tr>\n",
       "  </tbody>\n",
       "</table>\n",
       "</div>"
      ],
      "text/plain": [
       "     name               id  chr     band  start_position  end_position  \\\n",
       "0     FUS  ENSG00000089280   16  16p11.2        31180110      31194871   \n",
       "1  PI4K2A  ENSG00000155252   10  10q24.2        97640686      97676434   \n",
       "2    PER1  ENSG00000179094   17  17p13.1         8140472       8156506   \n",
       "3    GBP6  ENSG00000183347    1   1p22.2        89364058      89386461   \n",
       "4   GPAA1  ENSG00000197858    8   8q24.3       144082590     144086216   \n",
       "\n",
       "   gene_length  \n",
       "0        14761  \n",
       "1        35748  \n",
       "2        16034  \n",
       "3        22403  \n",
       "4         3626  "
      ]
     },
     "execution_count": 21,
     "metadata": {},
     "output_type": "execute_result"
    }
   ],
   "source": [
    "genes_info.head()"
   ]
  },
  {
   "cell_type": "markdown",
   "id": "d3843e06",
   "metadata": {
    "papermill": {
     "duration": 0.032598,
     "end_time": "2022-08-27T06:03:28.652748",
     "exception": false,
     "start_time": "2022-08-27T06:03:28.620150",
     "status": "completed"
    },
    "tags": []
   },
   "source": [
    "# Compute correlations"
   ]
  },
  {
   "cell_type": "code",
   "execution_count": 22,
   "id": "cb859c15-d1f3-4006-a74c-2b83c0db9611",
   "metadata": {
    "execution": {
     "iopub.execute_input": "2022-08-27T06:03:28.712164Z",
     "iopub.status.busy": "2022-08-27T06:03:28.711867Z",
     "iopub.status.idle": "2022-08-27T06:03:28.739855Z",
     "shell.execute_reply": "2022-08-27T06:03:28.739151Z"
    },
    "papermill": {
     "duration": 0.059476,
     "end_time": "2022-08-27T06:03:28.741883",
     "exception": false,
     "start_time": "2022-08-27T06:03:28.682407",
     "status": "completed"
    },
    "tags": []
   },
   "outputs": [
    {
     "data": {
      "text/plain": [
       "PosixPath('/project/ritchie20/projects/phenoplier/base/results/gls/gene_corrs/cohorts/phenomexcan_other/gtex_v8/mashr/by_chr/gene_corrs-chr20.pkl')"
      ]
     },
     "metadata": {},
     "output_type": "display_data"
    }
   ],
   "source": [
    "output_dir = OUTPUT_DIR_BASE / \"by_chr\"\n",
    "output_dir.mkdir(exist_ok=True, parents=True)\n",
    "output_file = output_dir / f\"gene_corrs-chr{CHROMOSOME}.pkl\"\n",
    "display(output_file)"
   ]
  },
  {
   "cell_type": "code",
   "execution_count": 23,
   "id": "aa674fe4-6794-4eed-98fa-32b39d1d4ace",
   "metadata": {
    "execution": {
     "iopub.execute_input": "2022-08-27T06:03:28.790678Z",
     "iopub.status.busy": "2022-08-27T06:03:28.790464Z",
     "iopub.status.idle": "2022-08-27T06:03:28.807111Z",
     "shell.execute_reply": "2022-08-27T06:03:28.806556Z"
    },
    "papermill": {
     "duration": 0.040199,
     "end_time": "2022-08-27T06:03:28.808795",
     "exception": false,
     "start_time": "2022-08-27T06:03:28.768596",
     "status": "completed"
    },
    "tags": []
   },
   "outputs": [],
   "source": [
    "warnings.filterwarnings(\"error\")"
   ]
  },
  {
   "cell_type": "code",
   "execution_count": 24,
   "id": "44d5450b-3baf-43f1-9e2e-4b06f1a785f8",
   "metadata": {
    "execution": {
     "iopub.execute_input": "2022-08-27T06:03:28.839925Z",
     "iopub.status.busy": "2022-08-27T06:03:28.839725Z",
     "iopub.status.idle": "2022-08-27T06:03:28.856990Z",
     "shell.execute_reply": "2022-08-27T06:03:28.856428Z"
    },
    "papermill": {
     "duration": 0.036299,
     "end_time": "2022-08-27T06:03:28.858686",
     "exception": false,
     "start_time": "2022-08-27T06:03:28.822387",
     "status": "completed"
    },
    "tags": []
   },
   "outputs": [],
   "source": [
    "# standard checks\n",
    "all_chrs = genes_info[\"chr\"].dropna().unique()\n",
    "assert all_chrs.shape[0] == 22\n",
    "\n",
    "# select chromosome given by the user\n",
    "assert CHROMOSOME in all_chrs"
   ]
  },
  {
   "cell_type": "code",
   "execution_count": 25,
   "id": "2d7c043c-92a7-4d35-991b-fa69ac1e0268",
   "metadata": {
    "execution": {
     "iopub.execute_input": "2022-08-27T06:03:28.888359Z",
     "iopub.status.busy": "2022-08-27T06:03:28.888138Z",
     "iopub.status.idle": "2022-08-27T06:03:28.948530Z",
     "shell.execute_reply": "2022-08-27T06:03:28.947968Z"
    },
    "papermill": {
     "duration": 0.075376,
     "end_time": "2022-08-27T06:03:28.950282",
     "exception": false,
     "start_time": "2022-08-27T06:03:28.874906",
     "status": "completed"
    },
    "tags": []
   },
   "outputs": [
    {
     "name": "stdout",
     "output_type": "stream",
     "text": [
      "Number of genes in chromosome: 187\n"
     ]
    }
   ],
   "source": [
    "# run only on the chromosome specified\n",
    "all_chrs = [CHROMOSOME]\n",
    "genes_chr = genes_info[genes_info[\"chr\"] == CHROMOSOME]\n",
    "\n",
    "# For testing purposes\n",
    "# genes_chr = genes_chr.sample(n=20)\n",
    "\n",
    "print(f\"Number of genes in chromosome: {genes_chr.shape[0]}\", flush=True)"
   ]
  },
  {
   "cell_type": "code",
   "execution_count": 26,
   "id": "916015d8-2979-46d3-a9b9-1cf5a0932c6a",
   "metadata": {
    "execution": {
     "iopub.execute_input": "2022-08-27T06:03:28.981589Z",
     "iopub.status.busy": "2022-08-27T06:03:28.981367Z",
     "iopub.status.idle": "2022-08-27T06:03:28.998008Z",
     "shell.execute_reply": "2022-08-27T06:03:28.997457Z"
    },
    "papermill": {
     "duration": 0.035153,
     "end_time": "2022-08-27T06:03:28.999675",
     "exception": false,
     "start_time": "2022-08-27T06:03:28.964522",
     "status": "completed"
    },
    "tags": []
   },
   "outputs": [],
   "source": [
    "# sort genes by starting position to make visualizations better later\n",
    "genes_chr = genes_chr.sort_values(\"start_position\")"
   ]
  },
  {
   "cell_type": "code",
   "execution_count": 27,
   "id": "a38aa74a-8ad3-47f6-8ef9-56be0e011774",
   "metadata": {
    "execution": {
     "iopub.execute_input": "2022-08-27T06:03:29.057562Z",
     "iopub.status.busy": "2022-08-27T06:03:29.057172Z",
     "iopub.status.idle": "2022-08-27T06:03:29.087194Z",
     "shell.execute_reply": "2022-08-27T06:03:29.086275Z"
    },
    "papermill": {
     "duration": 0.061879,
     "end_time": "2022-08-27T06:03:29.089824",
     "exception": false,
     "start_time": "2022-08-27T06:03:29.027945",
     "status": "completed"
    },
    "tags": []
   },
   "outputs": [],
   "source": [
    "gene_chr_objs = [Gene(ensembl_id=gene_id) for gene_id in genes_chr[\"id\"]]"
   ]
  },
  {
   "cell_type": "code",
   "execution_count": 28,
   "id": "570f974f-13c3-42b6-ad3a-ce99ca885c1a",
   "metadata": {
    "execution": {
     "iopub.execute_input": "2022-08-27T06:03:29.146661Z",
     "iopub.status.busy": "2022-08-27T06:03:29.146404Z",
     "iopub.status.idle": "2022-08-27T06:03:29.168947Z",
     "shell.execute_reply": "2022-08-27T06:03:29.168314Z"
    },
    "papermill": {
     "duration": 0.047786,
     "end_time": "2022-08-27T06:03:29.170917",
     "exception": false,
     "start_time": "2022-08-27T06:03:29.123131",
     "status": "completed"
    },
    "tags": []
   },
   "outputs": [
    {
     "name": "stdout",
     "output_type": "stream",
     "text": [
      "Number of gene combinations: 17391\n"
     ]
    }
   ],
   "source": [
    "n = len(gene_chr_objs)\n",
    "n_comb = int(n * (n - 1) / 2.0)\n",
    "print(f\"Number of gene combinations: {n_comb}\", flush=True)"
   ]
  },
  {
   "cell_type": "code",
   "execution_count": 29,
   "id": "cdbb90a1",
   "metadata": {
    "execution": {
     "iopub.execute_input": "2022-08-27T06:03:29.223363Z",
     "iopub.status.busy": "2022-08-27T06:03:29.223133Z",
     "iopub.status.idle": "2022-08-27T06:32:54.158045Z",
     "shell.execute_reply": "2022-08-27T06:32:54.157312Z"
    },
    "papermill": {
     "duration": 1764.955762,
     "end_time": "2022-08-27T06:32:54.159858",
     "exception": false,
     "start_time": "2022-08-27T06:03:29.204096",
     "status": "completed"
    },
    "tags": []
   },
   "outputs": [
    {
     "name": "stderr",
     "output_type": "stream",
     "text": [
      "ENSG00000125510 / ENSG00000125510: : 17578it [29:24,  9.96it/s]\n"
     ]
    },
    {
     "data": {
      "text/plain": [
       "PosixPath('/project/ritchie20/projects/phenoplier/base/results/gls/gene_corrs/cohorts/phenomexcan_other/gtex_v8/mashr/by_chr/gene_corrs-chr20.pkl')"
      ]
     },
     "metadata": {},
     "output_type": "display_data"
    }
   ],
   "source": [
    "gene_corrs = []\n",
    "gene_corrs_data = np.full(\n",
    "    (n, n),\n",
    "    np.nan,\n",
    "    dtype=np.float64,\n",
    ")\n",
    "\n",
    "i = 0\n",
    "with tqdm(ncols=100, total=n_comb) as pbar:\n",
    "    for gene1_idx in range(0, len(gene_chr_objs)):\n",
    "        gene1_obj = gene_chr_objs[gene1_idx]\n",
    "        gene1_tissues = spredixcan_genes_models.loc[gene1_obj.ensembl_id, \"tissue\"]\n",
    "\n",
    "        for gene2_idx in range(gene1_idx, len(gene_chr_objs)):\n",
    "            gene2_obj = gene_chr_objs[gene2_idx]\n",
    "            gene2_tissues = spredixcan_genes_models.loc[gene2_obj.ensembl_id, \"tissue\"]\n",
    "\n",
    "            pbar.set_description(f\"{gene1_obj.ensembl_id} / {gene2_obj.ensembl_id}\")\n",
    "\n",
    "            try:\n",
    "                r = gene1_obj.get_ssm_correlation(\n",
    "                    other_gene=gene2_obj,\n",
    "                    tissues=gene1_tissues,\n",
    "                    other_tissues=gene2_tissues,\n",
    "                    snps_subset=gwas_variants_ids_set,\n",
    "                    condition_number=SMULTIXCAN_CONDITION_NUMBER,\n",
    "                    reference_panel=REFERENCE_PANEL,\n",
    "                    model_type=EQTL_MODEL,\n",
    "                    use_within_distance=COMPUTE_CORRELATIONS_WITHIN_DISTANCE,\n",
    "                )\n",
    "\n",
    "                if r is None:\n",
    "                    # if r is None, it's very likely because:\n",
    "                    #  * one of the genes has no prediction models\n",
    "                    #  * all the SNPs predictors for the gene are not present in the reference\n",
    "                    #    panel\n",
    "\n",
    "                    r = 0.0\n",
    "\n",
    "                gene_corrs.append(r)\n",
    "\n",
    "                gene_corrs_data[gene1_idx, gene2_idx] = r\n",
    "                gene_corrs_data[gene2_idx, gene1_idx] = r\n",
    "            except Warning as e:\n",
    "                if not DEBUG_MODE:\n",
    "                    raise e\n",
    "\n",
    "                print(\n",
    "                    f\"RuntimeWarning for genes {gene1_obj.ensembl_id} and {gene2_obj.ensembl_id}\",\n",
    "                    flush=True,\n",
    "                )\n",
    "                print(traceback.format_exc(), flush=True)\n",
    "\n",
    "                gene_corrs.append(np.nan)\n",
    "            except Exception as e:\n",
    "                if not DEBUG_MODE:\n",
    "                    raise e\n",
    "\n",
    "                print(\n",
    "                    f\"Exception for genes {gene1_obj.ensembl_id} and {gene2_obj.ensembl_id}\",\n",
    "                    flush=True,\n",
    "                )\n",
    "                print(traceback.format_exc(), flush=True)\n",
    "\n",
    "                gene_corrs.append(np.nan)\n",
    "\n",
    "            pbar.update(1)\n",
    "\n",
    "# create a pandas series\n",
    "gene_corrs_flat = pd.Series(gene_corrs)\n",
    "\n",
    "# save\n",
    "# FIXME: consider saving only the condenced matrix here. See here for\n",
    "# more details: https://github.com/greenelab/phenoplier/pull/38#discussion_r634600813\n",
    "# gene_corrs_data = squareform(np.array(gene_corrs, dtype=np.float64))\n",
    "# np.fill_diagonal(gene_corrs_data, 1.0)\n",
    "\n",
    "gene_chr_ids = [g.ensembl_id for g in gene_chr_objs]\n",
    "gene_corrs_df = pd.DataFrame(\n",
    "    data=gene_corrs_data,\n",
    "    index=gene_chr_ids,\n",
    "    columns=gene_chr_ids,\n",
    ")\n",
    "\n",
    "output_dir.mkdir(exist_ok=True, parents=True)\n",
    "display(output_file)\n",
    "\n",
    "gene_corrs_df.to_pickle(output_file)"
   ]
  },
  {
   "cell_type": "markdown",
   "id": "faa67b51-5373-470f-aa72-2ded53fa6dfe",
   "metadata": {
    "papermill": {
     "duration": 1.185008,
     "end_time": "2022-08-27T06:32:56.517002",
     "exception": false,
     "start_time": "2022-08-27T06:32:55.331994",
     "status": "completed"
    },
    "tags": []
   },
   "source": [
    "# Testing"
   ]
  },
  {
   "cell_type": "code",
   "execution_count": 30,
   "id": "14f7d046-4b55-4896-a56b-990127bcc388",
   "metadata": {
    "execution": {
     "iopub.execute_input": "2022-08-27T06:32:58.868245Z",
     "iopub.status.busy": "2022-08-27T06:32:58.867967Z",
     "iopub.status.idle": "2022-08-27T06:32:59.054809Z",
     "shell.execute_reply": "2022-08-27T06:32:59.054227Z"
    },
    "papermill": {
     "duration": 1.361417,
     "end_time": "2022-08-27T06:32:59.056510",
     "exception": false,
     "start_time": "2022-08-27T06:32:57.695093",
     "status": "completed"
    },
    "tags": []
   },
   "outputs": [
    {
     "data": {
      "text/plain": [
       "(187, 187)"
      ]
     },
     "execution_count": 30,
     "metadata": {},
     "output_type": "execute_result"
    }
   ],
   "source": [
    "gene_corrs_df.shape"
   ]
  },
  {
   "cell_type": "code",
   "execution_count": 31,
   "id": "c7d15414-3297-4537-a7c6-7588c0baeb75",
   "metadata": {
    "execution": {
     "iopub.execute_input": "2022-08-27T06:33:01.435197Z",
     "iopub.status.busy": "2022-08-27T06:33:01.434929Z",
     "iopub.status.idle": "2022-08-27T06:33:01.470977Z",
     "shell.execute_reply": "2022-08-27T06:33:01.470453Z"
    },
    "papermill": {
     "duration": 1.225986,
     "end_time": "2022-08-27T06:33:01.472499",
     "exception": false,
     "start_time": "2022-08-27T06:33:00.246513",
     "status": "completed"
    },
    "tags": []
   },
   "outputs": [
    {
     "data": {
      "text/html": [
       "<div>\n",
       "<style scoped>\n",
       "    .dataframe tbody tr th:only-of-type {\n",
       "        vertical-align: middle;\n",
       "    }\n",
       "\n",
       "    .dataframe tbody tr th {\n",
       "        vertical-align: top;\n",
       "    }\n",
       "\n",
       "    .dataframe thead th {\n",
       "        text-align: right;\n",
       "    }\n",
       "</style>\n",
       "<table border=\"1\" class=\"dataframe\">\n",
       "  <thead>\n",
       "    <tr style=\"text-align: right;\">\n",
       "      <th></th>\n",
       "      <th>ENSG00000101255</th>\n",
       "      <th>ENSG00000125826</th>\n",
       "      <th>ENSG00000101266</th>\n",
       "      <th>ENSG00000101280</th>\n",
       "      <th>ENSG00000125818</th>\n",
       "      <th>ENSG00000101298</th>\n",
       "      <th>ENSG00000088832</th>\n",
       "      <th>ENSG00000101307</th>\n",
       "      <th>ENSG00000089012</th>\n",
       "      <th>ENSG00000198053</th>\n",
       "      <th>...</th>\n",
       "      <th>ENSG00000092758</th>\n",
       "      <th>ENSG00000101191</th>\n",
       "      <th>ENSG00000101199</th>\n",
       "      <th>ENSG00000243509</th>\n",
       "      <th>ENSG00000203896</th>\n",
       "      <th>ENSG00000101152</th>\n",
       "      <th>ENSG00000198276</th>\n",
       "      <th>ENSG00000101161</th>\n",
       "      <th>ENSG00000171700</th>\n",
       "      <th>ENSG00000125510</th>\n",
       "    </tr>\n",
       "  </thead>\n",
       "  <tbody>\n",
       "    <tr>\n",
       "      <th>ENSG00000101255</th>\n",
       "      <td>1.000000</td>\n",
       "      <td>0.059724</td>\n",
       "      <td>0.017944</td>\n",
       "      <td>0.006776</td>\n",
       "      <td>0.001715</td>\n",
       "      <td>0.007769</td>\n",
       "      <td>0.004620</td>\n",
       "      <td>0.001409</td>\n",
       "      <td>0.003823</td>\n",
       "      <td>0.007817</td>\n",
       "      <td>...</td>\n",
       "      <td>0.008097</td>\n",
       "      <td>0.006479</td>\n",
       "      <td>0.003528</td>\n",
       "      <td>0.003689</td>\n",
       "      <td>0.004437</td>\n",
       "      <td>0.004096</td>\n",
       "      <td>0.004953</td>\n",
       "      <td>0.003903</td>\n",
       "      <td>0.006731</td>\n",
       "      <td>0.007004</td>\n",
       "    </tr>\n",
       "    <tr>\n",
       "      <th>ENSG00000125826</th>\n",
       "      <td>0.059724</td>\n",
       "      <td>1.000000</td>\n",
       "      <td>0.059804</td>\n",
       "      <td>0.009671</td>\n",
       "      <td>0.001098</td>\n",
       "      <td>0.007251</td>\n",
       "      <td>0.009138</td>\n",
       "      <td>0.005839</td>\n",
       "      <td>0.004727</td>\n",
       "      <td>0.007782</td>\n",
       "      <td>...</td>\n",
       "      <td>0.016728</td>\n",
       "      <td>0.004381</td>\n",
       "      <td>0.003153</td>\n",
       "      <td>0.009080</td>\n",
       "      <td>0.011099</td>\n",
       "      <td>0.005442</td>\n",
       "      <td>0.010397</td>\n",
       "      <td>0.005669</td>\n",
       "      <td>0.003872</td>\n",
       "      <td>0.006186</td>\n",
       "    </tr>\n",
       "    <tr>\n",
       "      <th>ENSG00000101266</th>\n",
       "      <td>0.017944</td>\n",
       "      <td>0.059804</td>\n",
       "      <td>1.000000</td>\n",
       "      <td>0.013558</td>\n",
       "      <td>0.007299</td>\n",
       "      <td>0.008002</td>\n",
       "      <td>0.004547</td>\n",
       "      <td>0.003632</td>\n",
       "      <td>0.006806</td>\n",
       "      <td>0.009389</td>\n",
       "      <td>...</td>\n",
       "      <td>0.010498</td>\n",
       "      <td>0.004541</td>\n",
       "      <td>0.005871</td>\n",
       "      <td>0.010738</td>\n",
       "      <td>0.005084</td>\n",
       "      <td>0.005631</td>\n",
       "      <td>0.007585</td>\n",
       "      <td>0.004329</td>\n",
       "      <td>0.006662</td>\n",
       "      <td>0.005166</td>\n",
       "    </tr>\n",
       "    <tr>\n",
       "      <th>ENSG00000101280</th>\n",
       "      <td>0.006776</td>\n",
       "      <td>0.009671</td>\n",
       "      <td>0.013558</td>\n",
       "      <td>1.000000</td>\n",
       "      <td>0.002424</td>\n",
       "      <td>0.014114</td>\n",
       "      <td>0.009679</td>\n",
       "      <td>0.006415</td>\n",
       "      <td>0.007136</td>\n",
       "      <td>0.009405</td>\n",
       "      <td>...</td>\n",
       "      <td>0.011007</td>\n",
       "      <td>0.006206</td>\n",
       "      <td>0.009392</td>\n",
       "      <td>0.012976</td>\n",
       "      <td>0.006206</td>\n",
       "      <td>0.003377</td>\n",
       "      <td>0.010968</td>\n",
       "      <td>0.009743</td>\n",
       "      <td>0.006963</td>\n",
       "      <td>0.003093</td>\n",
       "    </tr>\n",
       "    <tr>\n",
       "      <th>ENSG00000125818</th>\n",
       "      <td>0.001715</td>\n",
       "      <td>0.001098</td>\n",
       "      <td>0.007299</td>\n",
       "      <td>0.002424</td>\n",
       "      <td>1.000000</td>\n",
       "      <td>0.005772</td>\n",
       "      <td>0.015502</td>\n",
       "      <td>0.000576</td>\n",
       "      <td>0.006543</td>\n",
       "      <td>0.004144</td>\n",
       "      <td>...</td>\n",
       "      <td>0.008793</td>\n",
       "      <td>0.002832</td>\n",
       "      <td>0.001146</td>\n",
       "      <td>0.007038</td>\n",
       "      <td>0.002838</td>\n",
       "      <td>0.002058</td>\n",
       "      <td>0.003925</td>\n",
       "      <td>0.004864</td>\n",
       "      <td>0.005298</td>\n",
       "      <td>0.000381</td>\n",
       "    </tr>\n",
       "  </tbody>\n",
       "</table>\n",
       "<p>5 rows × 187 columns</p>\n",
       "</div>"
      ],
      "text/plain": [
       "                 ENSG00000101255  ENSG00000125826  ENSG00000101266  \\\n",
       "ENSG00000101255         1.000000         0.059724         0.017944   \n",
       "ENSG00000125826         0.059724         1.000000         0.059804   \n",
       "ENSG00000101266         0.017944         0.059804         1.000000   \n",
       "ENSG00000101280         0.006776         0.009671         0.013558   \n",
       "ENSG00000125818         0.001715         0.001098         0.007299   \n",
       "\n",
       "                 ENSG00000101280  ENSG00000125818  ENSG00000101298  \\\n",
       "ENSG00000101255         0.006776         0.001715         0.007769   \n",
       "ENSG00000125826         0.009671         0.001098         0.007251   \n",
       "ENSG00000101266         0.013558         0.007299         0.008002   \n",
       "ENSG00000101280         1.000000         0.002424         0.014114   \n",
       "ENSG00000125818         0.002424         1.000000         0.005772   \n",
       "\n",
       "                 ENSG00000088832  ENSG00000101307  ENSG00000089012  \\\n",
       "ENSG00000101255         0.004620         0.001409         0.003823   \n",
       "ENSG00000125826         0.009138         0.005839         0.004727   \n",
       "ENSG00000101266         0.004547         0.003632         0.006806   \n",
       "ENSG00000101280         0.009679         0.006415         0.007136   \n",
       "ENSG00000125818         0.015502         0.000576         0.006543   \n",
       "\n",
       "                 ENSG00000198053  ...  ENSG00000092758  ENSG00000101191  \\\n",
       "ENSG00000101255         0.007817  ...         0.008097         0.006479   \n",
       "ENSG00000125826         0.007782  ...         0.016728         0.004381   \n",
       "ENSG00000101266         0.009389  ...         0.010498         0.004541   \n",
       "ENSG00000101280         0.009405  ...         0.011007         0.006206   \n",
       "ENSG00000125818         0.004144  ...         0.008793         0.002832   \n",
       "\n",
       "                 ENSG00000101199  ENSG00000243509  ENSG00000203896  \\\n",
       "ENSG00000101255         0.003528         0.003689         0.004437   \n",
       "ENSG00000125826         0.003153         0.009080         0.011099   \n",
       "ENSG00000101266         0.005871         0.010738         0.005084   \n",
       "ENSG00000101280         0.009392         0.012976         0.006206   \n",
       "ENSG00000125818         0.001146         0.007038         0.002838   \n",
       "\n",
       "                 ENSG00000101152  ENSG00000198276  ENSG00000101161  \\\n",
       "ENSG00000101255         0.004096         0.004953         0.003903   \n",
       "ENSG00000125826         0.005442         0.010397         0.005669   \n",
       "ENSG00000101266         0.005631         0.007585         0.004329   \n",
       "ENSG00000101280         0.003377         0.010968         0.009743   \n",
       "ENSG00000125818         0.002058         0.003925         0.004864   \n",
       "\n",
       "                 ENSG00000171700  ENSG00000125510  \n",
       "ENSG00000101255         0.006731         0.007004  \n",
       "ENSG00000125826         0.003872         0.006186  \n",
       "ENSG00000101266         0.006662         0.005166  \n",
       "ENSG00000101280         0.006963         0.003093  \n",
       "ENSG00000125818         0.005298         0.000381  \n",
       "\n",
       "[5 rows x 187 columns]"
      ]
     },
     "execution_count": 31,
     "metadata": {},
     "output_type": "execute_result"
    }
   ],
   "source": [
    "gene_corrs_df.head()"
   ]
  },
  {
   "cell_type": "markdown",
   "id": "dad6603f-01c6-41fb-a6f6-241051207dd8",
   "metadata": {
    "papermill": {
     "duration": 1.186342,
     "end_time": "2022-08-27T06:33:03.902400",
     "exception": false,
     "start_time": "2022-08-27T06:33:02.716058",
     "status": "completed"
    },
    "tags": []
   },
   "source": [
    "## Standard checks and stats"
   ]
  },
  {
   "cell_type": "code",
   "execution_count": 32,
   "id": "286686af-1b7b-4440-8453-6bdcbd8de19c",
   "metadata": {
    "execution": {
     "iopub.execute_input": "2022-08-27T06:33:06.336710Z",
     "iopub.status.busy": "2022-08-27T06:33:06.336447Z",
     "iopub.status.idle": "2022-08-27T06:33:06.359927Z",
     "shell.execute_reply": "2022-08-27T06:33:06.359411Z"
    },
    "papermill": {
     "duration": 1.216905,
     "end_time": "2022-08-27T06:33:06.361655",
     "exception": false,
     "start_time": "2022-08-27T06:33:05.144750",
     "status": "completed"
    },
    "tags": []
   },
   "outputs": [],
   "source": [
    "assert not gene_corrs_df.isna().any().any()"
   ]
  },
  {
   "cell_type": "code",
   "execution_count": 33,
   "id": "00583efc-7068-4270-ad1e-4a418e91db96",
   "metadata": {
    "execution": {
     "iopub.execute_input": "2022-08-27T06:33:08.658125Z",
     "iopub.status.busy": "2022-08-27T06:33:08.657866Z",
     "iopub.status.idle": "2022-08-27T06:33:08.679829Z",
     "shell.execute_reply": "2022-08-27T06:33:08.679307Z"
    },
    "papermill": {
     "duration": 1.153844,
     "end_time": "2022-08-27T06:33:08.681344",
     "exception": false,
     "start_time": "2022-08-27T06:33:07.527500",
     "status": "completed"
    },
    "tags": []
   },
   "outputs": [
    {
     "data": {
      "text/plain": [
       "3.343921103487202e-06"
      ]
     },
     "metadata": {},
     "output_type": "display_data"
    }
   ],
   "source": [
    "_min_val = gene_corrs_df.min().min()\n",
    "display(_min_val)\n",
    "assert _min_val >= -0.05"
   ]
  },
  {
   "cell_type": "code",
   "execution_count": 34,
   "id": "d04fb2cf-1050-475b-b855-f5f7cc04092b",
   "metadata": {
    "execution": {
     "iopub.execute_input": "2022-08-27T06:33:10.942770Z",
     "iopub.status.busy": "2022-08-27T06:33:10.942499Z",
     "iopub.status.idle": "2022-08-27T06:33:10.963972Z",
     "shell.execute_reply": "2022-08-27T06:33:10.963458Z"
    },
    "papermill": {
     "duration": 1.146666,
     "end_time": "2022-08-27T06:33:10.965467",
     "exception": false,
     "start_time": "2022-08-27T06:33:09.818801",
     "status": "completed"
    },
    "tags": []
   },
   "outputs": [
    {
     "data": {
      "text/plain": [
       "1.0000000000000038"
      ]
     },
     "metadata": {},
     "output_type": "display_data"
    }
   ],
   "source": [
    "_max_val = gene_corrs_df.max().max()  # this captures the diagonal\n",
    "display(_max_val)\n",
    "assert _max_val <= 1.05"
   ]
  },
  {
   "cell_type": "code",
   "execution_count": 35,
   "id": "96d02c44-1fba-47be-8a93-8f2608420b9c",
   "metadata": {
    "execution": {
     "iopub.execute_input": "2022-08-27T06:33:13.261881Z",
     "iopub.status.busy": "2022-08-27T06:33:13.261619Z",
     "iopub.status.idle": "2022-08-27T06:33:13.279842Z",
     "shell.execute_reply": "2022-08-27T06:33:13.279321Z"
    },
    "papermill": {
     "duration": 1.17573,
     "end_time": "2022-08-27T06:33:13.281431",
     "exception": false,
     "start_time": "2022-08-27T06:33:12.105701",
     "status": "completed"
    },
    "tags": []
   },
   "outputs": [],
   "source": [
    "# check upper triangular values\n",
    "# assert len(gene_corrs) == int(genes_chr.shape[0] * (genes_chr.shape[0] - 1) / 2)"
   ]
  },
  {
   "cell_type": "code",
   "execution_count": 36,
   "id": "fe283586-c348-40e0-8841-f6d97bfb021c",
   "metadata": {
    "execution": {
     "iopub.execute_input": "2022-08-27T06:33:15.604689Z",
     "iopub.status.busy": "2022-08-27T06:33:15.604409Z",
     "iopub.status.idle": "2022-08-27T06:33:15.628954Z",
     "shell.execute_reply": "2022-08-27T06:33:15.628438Z"
    },
    "papermill": {
     "duration": 1.218969,
     "end_time": "2022-08-27T06:33:15.630493",
     "exception": false,
     "start_time": "2022-08-27T06:33:14.411524",
     "status": "completed"
    },
    "tags": []
   },
   "outputs": [
    {
     "data": {
      "text/plain": [
       "count    17578.000000\n",
       "mean         0.021080\n",
       "std          0.108677\n",
       "min          0.000003\n",
       "25%          0.004052\n",
       "50%          0.006225\n",
       "75%          0.008925\n",
       "max          1.000000\n",
       "dtype: float64"
      ]
     },
     "execution_count": 36,
     "metadata": {},
     "output_type": "execute_result"
    }
   ],
   "source": [
    "gene_corrs_flat.describe()"
   ]
  },
  {
   "cell_type": "code",
   "execution_count": 37,
   "id": "b3815678-0f93-4b35-897b-a9d047a2aa78",
   "metadata": {
    "execution": {
     "iopub.execute_input": "2022-08-27T06:33:17.953666Z",
     "iopub.status.busy": "2022-08-27T06:33:17.953396Z",
     "iopub.status.idle": "2022-08-27T06:33:17.976801Z",
     "shell.execute_reply": "2022-08-27T06:33:17.976257Z"
    },
    "papermill": {
     "duration": 1.187424,
     "end_time": "2022-08-27T06:33:17.978266",
     "exception": false,
     "start_time": "2022-08-27T06:33:16.790842",
     "status": "completed"
    },
    "tags": []
   },
   "outputs": [
    {
     "data": {
      "text/plain": [
       "0.00    0.000003\n",
       "0.05    0.001777\n",
       "0.10    0.002560\n",
       "0.15    0.003121\n",
       "0.20    0.003616\n",
       "0.25    0.004052\n",
       "0.30    0.004502\n",
       "0.35    0.004935\n",
       "0.40    0.005367\n",
       "0.45    0.005797\n",
       "0.50    0.006225\n",
       "0.55    0.006709\n",
       "0.60    0.007212\n",
       "0.65    0.007728\n",
       "0.70    0.008261\n",
       "0.75    0.008925\n",
       "0.80    0.009619\n",
       "0.85    0.010589\n",
       "0.90    0.011961\n",
       "0.95    0.015149\n",
       "dtype: float64"
      ]
     },
     "metadata": {},
     "output_type": "display_data"
    }
   ],
   "source": [
    "gene_corrs_quantiles = gene_corrs_flat.quantile(np.arange(0, 1, 0.05))\n",
    "display(gene_corrs_quantiles)"
   ]
  },
  {
   "cell_type": "markdown",
   "id": "87134509-b145-4a10-8bc9-b7e914c2b0fa",
   "metadata": {
    "papermill": {
     "duration": 1.155021,
     "end_time": "2022-08-27T06:33:20.301012",
     "exception": false,
     "start_time": "2022-08-27T06:33:19.145991",
     "status": "completed"
    },
    "tags": []
   },
   "source": [
    "## Positive definiteness"
   ]
  },
  {
   "cell_type": "code",
   "execution_count": 38,
   "id": "07d9a9a1-a4f7-48aa-b916-6d42a8cc6186",
   "metadata": {
    "execution": {
     "iopub.execute_input": "2022-08-27T06:33:22.658055Z",
     "iopub.status.busy": "2022-08-27T06:33:22.657783Z",
     "iopub.status.idle": "2022-08-27T06:33:22.691170Z",
     "shell.execute_reply": "2022-08-27T06:33:22.690633Z"
    },
    "papermill": {
     "duration": 1.181075,
     "end_time": "2022-08-27T06:33:22.692787",
     "exception": false,
     "start_time": "2022-08-27T06:33:21.511712",
     "status": "completed"
    },
    "tags": []
   },
   "outputs": [
    {
     "data": {
      "text/plain": [
       "0"
      ]
     },
     "metadata": {},
     "output_type": "display_data"
    },
    {
     "data": {
      "text/plain": [
       "array([], dtype=float64)"
      ]
     },
     "metadata": {},
     "output_type": "display_data"
    }
   ],
   "source": [
    "# print negative eigenvalues\n",
    "eigs = np.linalg.eigvals(gene_corrs_df.to_numpy())\n",
    "display(len(eigs[eigs < 0]))\n",
    "display(eigs[eigs < 0])"
   ]
  },
  {
   "cell_type": "code",
   "execution_count": 39,
   "id": "6e218436-c3c5-4028-8c94-a4fa6260efce",
   "metadata": {
    "execution": {
     "iopub.execute_input": "2022-08-27T06:33:25.008522Z",
     "iopub.status.busy": "2022-08-27T06:33:25.008236Z",
     "iopub.status.idle": "2022-08-27T06:33:25.030430Z",
     "shell.execute_reply": "2022-08-27T06:33:25.029895Z"
    },
    "papermill": {
     "duration": 1.166997,
     "end_time": "2022-08-27T06:33:25.032008",
     "exception": false,
     "start_time": "2022-08-27T06:33:23.865011",
     "status": "completed"
    },
    "tags": []
   },
   "outputs": [
    {
     "name": "stdout",
     "output_type": "stream",
     "text": [
      "Works!\n"
     ]
    }
   ],
   "source": [
    "try:\n",
    "    chol_mat = np.linalg.cholesky(gene_corrs_df.to_numpy())\n",
    "    cov_inv = np.linalg.inv(chol_mat)\n",
    "    print(\"Works!\")\n",
    "except Exception as e:\n",
    "    print(f\"Cholesky decomposition failed: {str(e)}\")"
   ]
  },
  {
   "cell_type": "code",
   "execution_count": 40,
   "id": "dd8827fb-faf9-4c7c-9454-015e94752706",
   "metadata": {
    "execution": {
     "iopub.execute_input": "2022-08-27T06:33:27.344661Z",
     "iopub.status.busy": "2022-08-27T06:33:27.344389Z",
     "iopub.status.idle": "2022-08-27T06:33:27.366967Z",
     "shell.execute_reply": "2022-08-27T06:33:27.366442Z"
    },
    "papermill": {
     "duration": 1.205072,
     "end_time": "2022-08-27T06:33:27.368462",
     "exception": false,
     "start_time": "2022-08-27T06:33:26.163390",
     "status": "completed"
    },
    "tags": []
   },
   "outputs": [
    {
     "name": "stdout",
     "output_type": "stream",
     "text": [
      "Works!\n"
     ]
    }
   ],
   "source": [
    "try:\n",
    "    # decomposition used by statsmodels.GLS\n",
    "    cholsigmainv = np.linalg.cholesky(np.linalg.inv(gene_corrs_df.to_numpy())).T\n",
    "    print(\"Works!\")\n",
    "except Exception as e:\n",
    "    print(f\"Cholesky decomposition failed (statsmodels.GLS): {str(e)}\")"
   ]
  },
  {
   "cell_type": "markdown",
   "id": "8e60a080-edb2-4e9c-b2ef-22961693200c",
   "metadata": {
    "papermill": {
     "duration": 1.143033,
     "end_time": "2022-08-27T06:33:29.653463",
     "exception": false,
     "start_time": "2022-08-27T06:33:28.510430",
     "status": "completed"
    },
    "tags": []
   },
   "source": [
    "## Plot: distribution"
   ]
  },
  {
   "cell_type": "code",
   "execution_count": 41,
   "id": "8301126b-a7d4-4744-9c7d-f0f86eb6f54c",
   "metadata": {
    "execution": {
     "iopub.execute_input": "2022-08-27T06:33:31.946328Z",
     "iopub.status.busy": "2022-08-27T06:33:31.946053Z",
     "iopub.status.idle": "2022-08-27T06:33:37.082747Z",
     "shell.execute_reply": "2022-08-27T06:33:37.082079Z"
    },
    "papermill": {
     "duration": 6.286318,
     "end_time": "2022-08-27T06:33:37.084449",
     "exception": false,
     "start_time": "2022-08-27T06:33:30.798131",
     "status": "completed"
    },
    "tags": []
   },
   "outputs": [
    {
     "data": {
      "image/png": "[encoded data removed]",
      "text/plain": [
       "<Figure size 504x504 with 1 Axes>"
      ]
     },
     "metadata": {
      "needs_background": "light"
     },
     "output_type": "display_data"
    }
   ],
   "source": [
    "with sns.plotting_context(\"paper\", font_scale=1.5):\n",
    "    g = sns.displot(gene_corrs_flat, kde=True, height=7)\n",
    "    g.ax.set_title(\n",
    "        f\"Distribution of gene correlation values in chromosome {CHROMOSOME}\"\n",
    "    )"
   ]
  },
  {
   "cell_type": "markdown",
   "id": "cbd52bca-d878-4a2f-b684-5c83aa3038d4",
   "metadata": {
    "papermill": {
     "duration": 1.172048,
     "end_time": "2022-08-27T06:33:39.445445",
     "exception": false,
     "start_time": "2022-08-27T06:33:38.273397",
     "status": "completed"
    },
    "tags": []
   },
   "source": [
    "## Plot: heatmap"
   ]
  },
  {
   "cell_type": "code",
   "execution_count": 42,
   "id": "d03fe63a-c7b2-4fb9-a53c-db362ce843c9",
   "metadata": {
    "execution": {
     "iopub.execute_input": "2022-08-27T06:33:41.762950Z",
     "iopub.status.busy": "2022-08-27T06:33:41.762679Z",
     "iopub.status.idle": "2022-08-27T06:33:41.789108Z",
     "shell.execute_reply": "2022-08-27T06:33:41.788610Z"
    },
    "papermill": {
     "duration": 1.195062,
     "end_time": "2022-08-27T06:33:41.790623",
     "exception": false,
     "start_time": "2022-08-27T06:33:40.595561",
     "status": "completed"
    },
    "tags": []
   },
   "outputs": [
    {
     "data": {
      "text/plain": [
       "'0.0 / 0.05'"
      ]
     },
     "metadata": {},
     "output_type": "display_data"
    }
   ],
   "source": [
    "vmin_val = min(0.00, gene_corrs_quantiles[0.10])\n",
    "vmax_val = max(0.05, gene_corrs_quantiles[0.90])\n",
    "display(f\"{vmin_val} / {vmax_val}\")"
   ]
  },
  {
   "cell_type": "code",
   "execution_count": 43,
   "id": "dc41b70b-5bcc-4d9e-9f33-a22c4a94dab5",
   "metadata": {
    "execution": {
     "iopub.execute_input": "2022-08-27T06:33:44.138181Z",
     "iopub.status.busy": "2022-08-27T06:33:44.137926Z",
     "iopub.status.idle": "2022-08-27T06:33:44.892495Z",
     "shell.execute_reply": "2022-08-27T06:33:44.891936Z"
    },
    "papermill": {
     "duration": 1.945473,
     "end_time": "2022-08-27T06:33:44.894140",
     "exception": false,
     "start_time": "2022-08-27T06:33:42.948667",
     "status": "completed"
    },
    "tags": []
   },
   "outputs": [
    {
     "data": {
      "text/plain": [
       "Text(0.5, 1.0, 'Gene correlations in chromosome 20')"
      ]
     },
     "execution_count": 43,
     "metadata": {},
     "output_type": "execute_result"
    },
    {
     "data": {
      "image/png": "[encoded data removed]",
      "text/plain": [
       "<Figure size 720x720 with 2 Axes>"
      ]
     },
     "metadata": {
      "needs_background": "light"
     },
     "output_type": "display_data"
    }
   ],
   "source": [
    "f, ax = plt.subplots(figsize=(10, 10))\n",
    "sns.heatmap(\n",
    "    gene_corrs_df,\n",
    "    xticklabels=False,\n",
    "    yticklabels=False,\n",
    "    square=True,\n",
    "    vmin=vmin_val,\n",
    "    vmax=vmax_val,\n",
    "    cmap=\"rocket_r\",\n",
    "    ax=ax,\n",
    ")\n",
    "ax.set_title(f\"Gene correlations in chromosome {CHROMOSOME}\")"
   ]
  },
  {
   "cell_type": "code",
   "execution_count": null,
   "id": "b25e3ead",
   "metadata": {
    "papermill": {
     "duration": 1.141696,
     "end_time": "2022-08-27T06:33:47.177146",
     "exception": false,
     "start_time": "2022-08-27T06:33:46.035450",
     "status": "completed"
    },
    "tags": []
   },
   "outputs": [],
   "source": []
  }
 ],
 "metadata": {
  "jupytext": {
   "cell_metadata_filter": "all,-execution,-papermill,-trusted",
   "formats": "ipynb,py//py:percent"
  },
  "kernelspec": {
   "display_name": "Python 3 (ipykernel)",
   "language": "python",
   "name": "python3"
  },
  "language_info": {
   "codemirror_mode": {
    "name": "ipython",
    "version": 3
   },
   "file_extension": ".py",
   "mimetype": "text/x-python",
   "name": "python",
   "nbconvert_exporter": "python",
   "pygments_lexer": "ipython3",
   "version": "3.8.13"
  },
  "papermill": {
   "default_parameters": {},
   "duration": 1834.398246,
   "end_time": "2022-08-27T06:33:51.161218",
   "environment_variables": {},
   "exception": null,
   "input_path": "nbs/15_gsa_gls/10-gene_expr_correlations.ipynb",
   "output_path": "nbs/15_gsa_gls/gene_corrs/cohorts/phenomexcan_other/gtex_v8/mashr/10-gene_expr_corrs/10-gene_expr_correlations-chr20.run.ipynb",
   "parameters": {
    "CHROMOSOME": 20,
    "COHORT_NAME": "phenomexcan_other",
    "EQTL_MODEL": "MASHR",
    "REFERENCE_PANEL": "GTEX_V8"
   },
   "start_time": "2022-08-27T06:03:16.762972",
   "version": "2.2.2"
  }
 },
 "nbformat": 4,
 "nbformat_minor": 5
}
