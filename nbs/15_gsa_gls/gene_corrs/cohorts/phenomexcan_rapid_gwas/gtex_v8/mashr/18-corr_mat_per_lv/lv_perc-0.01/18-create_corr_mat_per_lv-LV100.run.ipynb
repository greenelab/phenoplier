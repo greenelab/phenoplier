{
 "cells": [
  {
   "cell_type": "markdown",
   "id": "5ef66977",
   "metadata": {
    "papermill": {
     "duration": 0.01284,
     "end_time": "2022-08-29T20:07:13.389770",
     "exception": false,
     "start_time": "2022-08-29T20:07:13.376930",
     "status": "completed"
    },
    "tags": []
   },
   "source": [
    "# Description"
   ]
  },
  {
   "cell_type": "markdown",
   "id": "658d4f7c",
   "metadata": {
    "papermill": {
     "duration": 0.013668,
     "end_time": "2022-08-29T20:07:13.416204",
     "exception": false,
     "start_time": "2022-08-29T20:07:13.402536",
     "status": "completed"
    },
    "tags": []
   },
   "source": [
    "**TODO UPDATE**\n",
    "\n",
    "(Please, take a look at the README.md file in this directory for instructions on how to run this notebook)\n",
    "\n",
    "This notebook reads all gene correlations across all chromosomes and computes a single correlation matrix by assembling a big correlation matrix with all genes."
   ]
  },
  {
   "cell_type": "markdown",
   "id": "60fa4530",
   "metadata": {
    "papermill": {
     "duration": 0.018593,
     "end_time": "2022-08-29T20:07:13.454451",
     "exception": false,
     "start_time": "2022-08-29T20:07:13.435858",
     "status": "completed"
    },
    "tags": []
   },
   "source": [
    "# Modules"
   ]
  },
  {
   "cell_type": "code",
   "execution_count": 1,
   "id": "d70b0833",
   "metadata": {
    "execution": {
     "iopub.execute_input": "2022-08-29T20:07:13.488677Z",
     "iopub.status.busy": "2022-08-29T20:07:13.487117Z",
     "iopub.status.idle": "2022-08-29T20:07:14.376665Z",
     "shell.execute_reply": "2022-08-29T20:07:14.376011Z"
    },
    "papermill": {
     "duration": 0.911423,
     "end_time": "2022-08-29T20:07:14.378933",
     "exception": false,
     "start_time": "2022-08-29T20:07:13.467510",
     "status": "completed"
    },
    "tags": []
   },
   "outputs": [],
   "source": [
    "%load_ext autoreload\n",
    "%autoreload 2"
   ]
  },
  {
   "cell_type": "code",
   "execution_count": 2,
   "id": "6b2f9ca0",
   "metadata": {
    "execution": {
     "iopub.execute_input": "2022-08-29T20:07:14.414576Z",
     "iopub.status.busy": "2022-08-29T20:07:14.414366Z",
     "iopub.status.idle": "2022-08-29T20:07:51.758843Z",
     "shell.execute_reply": "2022-08-29T20:07:51.758124Z"
    },
    "papermill": {
     "duration": 37.360903,
     "end_time": "2022-08-29T20:07:51.761255",
     "exception": false,
     "start_time": "2022-08-29T20:07:14.400352",
     "status": "completed"
    },
    "tags": []
   },
   "outputs": [],
   "source": [
    "from pathlib import Path\n",
    "from concurrent.futures import ProcessPoolExecutor, as_completed\n",
    "\n",
    "import numpy as np\n",
    "from scipy.spatial.distance import squareform\n",
    "from scipy import sparse\n",
    "import pandas as pd\n",
    "from tqdm import tqdm\n",
    "\n",
    "import conf\n",
    "from utils import chunker\n",
    "from entity import Gene\n",
    "from gls import GLSPhenoplier"
   ]
  },
  {
   "cell_type": "markdown",
   "id": "5b96e797",
   "metadata": {
    "papermill": {
     "duration": 0.057127,
     "end_time": "2022-08-29T20:07:51.868786",
     "exception": false,
     "start_time": "2022-08-29T20:07:51.811659",
     "status": "completed"
    },
    "tags": []
   },
   "source": [
    "# Settings"
   ]
  },
  {
   "cell_type": "code",
   "execution_count": 3,
   "id": "4fc1b6a0",
   "metadata": {
    "execution": {
     "iopub.execute_input": "2022-08-29T20:07:51.987314Z",
     "iopub.status.busy": "2022-08-29T20:07:51.987078Z",
     "iopub.status.idle": "2022-08-29T20:07:53.740835Z",
     "shell.execute_reply": "2022-08-29T20:07:53.740174Z"
    },
    "papermill": {
     "duration": 1.809103,
     "end_time": "2022-08-29T20:07:53.743213",
     "exception": false,
     "start_time": "2022-08-29T20:07:51.934110",
     "status": "completed"
    },
    "tags": [
     "parameters"
    ]
   },
   "outputs": [],
   "source": [
    "# a cohort name (it could be something like UK_BIOBANK, etc)\n",
    "COHORT_NAME = None\n",
    "\n",
    "# reference panel such as 1000G or GTEX_V8\n",
    "REFERENCE_PANEL = None\n",
    "\n",
    "# predictions models such as MASHR or ELASTIC_NET\n",
    "EQTL_MODEL = None\n",
    "\n",
    "LV_CODE = None\n",
    "\n",
    "# A number from 0.0 to 1.0 indicating the top percentile of the genes in the LV to keep.\n",
    "# A value of 0.01 would take the top 1% of the genes in the LV.\n",
    "# If zero or None, then all nonzero weighted genes in the LV will be kept.\n",
    "LV_PERCENTILE = None"
   ]
  },
  {
   "cell_type": "code",
   "execution_count": 4,
   "id": "b06f4986",
   "metadata": {
    "execution": {
     "iopub.execute_input": "2022-08-29T20:07:53.842269Z",
     "iopub.status.busy": "2022-08-29T20:07:53.842074Z",
     "iopub.status.idle": "2022-08-29T20:07:55.506235Z",
     "shell.execute_reply": "2022-08-29T20:07:55.505613Z"
    },
    "papermill": {
     "duration": 1.709684,
     "end_time": "2022-08-29T20:07:55.508638",
     "exception": false,
     "start_time": "2022-08-29T20:07:53.798954",
     "status": "completed"
    },
    "tags": [
     "injected-parameters"
    ]
   },
   "outputs": [],
   "source": [
    "# Parameters\n",
    "COHORT_NAME = \"phenomexcan_rapid_gwas\"\n",
    "REFERENCE_PANEL = \"GTEX_V8\"\n",
    "EQTL_MODEL = \"MASHR\"\n",
    "LV_CODE = \"LV100\"\n",
    "LV_PERCENTILE = \"0.01\"\n"
   ]
  },
  {
   "cell_type": "code",
   "execution_count": 5,
   "id": "1dbaa2d1-b4d2-4247-bbdc-84f9a08fe15a",
   "metadata": {
    "execution": {
     "iopub.execute_input": "2022-08-29T20:07:55.579876Z",
     "iopub.status.busy": "2022-08-29T20:07:55.579665Z",
     "iopub.status.idle": "2022-08-29T20:07:55.605961Z",
     "shell.execute_reply": "2022-08-29T20:07:55.605373Z"
    },
    "papermill": {
     "duration": 0.061956,
     "end_time": "2022-08-29T20:07:55.607981",
     "exception": false,
     "start_time": "2022-08-29T20:07:55.546025",
     "status": "completed"
    },
    "tags": []
   },
   "outputs": [],
   "source": [
    "N_JOBS = 1"
   ]
  },
  {
   "cell_type": "code",
   "execution_count": 6,
   "id": "10c1d77a-c024-4d52-8888-7806944731ff",
   "metadata": {
    "execution": {
     "iopub.execute_input": "2022-08-29T20:07:55.683961Z",
     "iopub.status.busy": "2022-08-29T20:07:55.683763Z",
     "iopub.status.idle": "2022-08-29T20:07:55.717716Z",
     "shell.execute_reply": "2022-08-29T20:07:55.716390Z"
    },
    "papermill": {
     "duration": 0.072103,
     "end_time": "2022-08-29T20:07:55.719665",
     "exception": false,
     "start_time": "2022-08-29T20:07:55.647562",
     "status": "completed"
    },
    "tags": []
   },
   "outputs": [
    {
     "data": {
      "text/plain": [
       "'Cohort name: phenomexcan_rapid_gwas'"
      ]
     },
     "metadata": {},
     "output_type": "display_data"
    }
   ],
   "source": [
    "assert COHORT_NAME is not None and len(COHORT_NAME) > 0, \"A cohort name must be given\"\n",
    "\n",
    "COHORT_NAME = COHORT_NAME.lower()\n",
    "display(f\"Cohort name: {COHORT_NAME}\")"
   ]
  },
  {
   "cell_type": "code",
   "execution_count": 7,
   "id": "2d74d598-860b-4994-a8ab-495c6ea1d93d",
   "metadata": {
    "execution": {
     "iopub.execute_input": "2022-08-29T20:07:55.779159Z",
     "iopub.status.busy": "2022-08-29T20:07:55.778970Z",
     "iopub.status.idle": "2022-08-29T20:07:55.805833Z",
     "shell.execute_reply": "2022-08-29T20:07:55.805192Z"
    },
    "papermill": {
     "duration": 0.054136,
     "end_time": "2022-08-29T20:07:55.807823",
     "exception": false,
     "start_time": "2022-08-29T20:07:55.753687",
     "status": "completed"
    },
    "tags": []
   },
   "outputs": [
    {
     "data": {
      "text/plain": [
       "'Reference panel: GTEX_V8'"
      ]
     },
     "metadata": {},
     "output_type": "display_data"
    }
   ],
   "source": [
    "assert (\n",
    "    REFERENCE_PANEL is not None and len(REFERENCE_PANEL) > 0\n",
    "), \"A reference panel must be given\"\n",
    "\n",
    "display(f\"Reference panel: {REFERENCE_PANEL}\")"
   ]
  },
  {
   "cell_type": "code",
   "execution_count": 8,
   "id": "23fccc89-f877-46a0-86c9-caa7b2cd71e2",
   "metadata": {
    "execution": {
     "iopub.execute_input": "2022-08-29T20:07:55.868796Z",
     "iopub.status.busy": "2022-08-29T20:07:55.868601Z",
     "iopub.status.idle": "2022-08-29T20:07:55.898127Z",
     "shell.execute_reply": "2022-08-29T20:07:55.897529Z"
    },
    "papermill": {
     "duration": 0.063603,
     "end_time": "2022-08-29T20:07:55.900310",
     "exception": false,
     "start_time": "2022-08-29T20:07:55.836707",
     "status": "completed"
    },
    "tags": []
   },
   "outputs": [
    {
     "data": {
      "text/plain": [
       "'eQTL model: MASHR / mashr_'"
      ]
     },
     "metadata": {},
     "output_type": "display_data"
    }
   ],
   "source": [
    "assert (\n",
    "    EQTL_MODEL is not None and len(EQTL_MODEL) > 0\n",
    "), \"A prediction/eQTL model must be given\"\n",
    "\n",
    "EQTL_MODEL_FILES_PREFIX = conf.PHENOMEXCAN[\"PREDICTION_MODELS\"][f\"{EQTL_MODEL}_PREFIX\"]\n",
    "display(f\"eQTL model: {EQTL_MODEL} / {EQTL_MODEL_FILES_PREFIX}\")"
   ]
  },
  {
   "cell_type": "code",
   "execution_count": 9,
   "id": "3ceaa707-94f2-4c3b-9e0d-87a5e8259ab2",
   "metadata": {
    "execution": {
     "iopub.execute_input": "2022-08-29T20:07:56.337784Z",
     "iopub.status.busy": "2022-08-29T20:07:56.337542Z",
     "iopub.status.idle": "2022-08-29T20:07:56.374994Z",
     "shell.execute_reply": "2022-08-29T20:07:56.374448Z"
    },
    "papermill": {
     "duration": 0.104838,
     "end_time": "2022-08-29T20:07:56.376649",
     "exception": false,
     "start_time": "2022-08-29T20:07:56.271811",
     "status": "completed"
    },
    "tags": []
   },
   "outputs": [
    {
     "data": {
      "text/plain": [
       "'LV code: LV100'"
      ]
     },
     "metadata": {},
     "output_type": "display_data"
    }
   ],
   "source": [
    "assert LV_CODE is not None and len(LV_CODE) > 0, \"An LV code must be given\"\n",
    "\n",
    "display(f\"LV code: {LV_CODE}\")"
   ]
  },
  {
   "cell_type": "code",
   "execution_count": 10,
   "id": "9cf97d20-389b-4919-acff-a1e2e1c5a707",
   "metadata": {
    "execution": {
     "iopub.execute_input": "2022-08-29T20:07:56.451017Z",
     "iopub.status.busy": "2022-08-29T20:07:56.450836Z",
     "iopub.status.idle": "2022-08-29T20:07:56.473864Z",
     "shell.execute_reply": "2022-08-29T20:07:56.473330Z"
    },
    "papermill": {
     "duration": 0.060362,
     "end_time": "2022-08-29T20:07:56.475501",
     "exception": false,
     "start_time": "2022-08-29T20:07:56.415139",
     "status": "completed"
    },
    "tags": []
   },
   "outputs": [
    {
     "data": {
      "text/plain": [
       "'LV percentile: 0.01'"
      ]
     },
     "metadata": {},
     "output_type": "display_data"
    }
   ],
   "source": [
    "if LV_PERCENTILE is not None:\n",
    "    LV_PERCENTILE = float(LV_PERCENTILE)\n",
    "\n",
    "display(f\"LV percentile: {LV_PERCENTILE}\")"
   ]
  },
  {
   "cell_type": "code",
   "execution_count": 11,
   "id": "b3320631-6bf0-4878-85d4-9a81497c0b3c",
   "metadata": {
    "execution": {
     "iopub.execute_input": "2022-08-29T20:07:56.560613Z",
     "iopub.status.busy": "2022-08-29T20:07:56.560326Z",
     "iopub.status.idle": "2022-08-29T20:07:56.623659Z",
     "shell.execute_reply": "2022-08-29T20:07:56.622979Z"
    },
    "papermill": {
     "duration": 0.113366,
     "end_time": "2022-08-29T20:07:56.625775",
     "exception": false,
     "start_time": "2022-08-29T20:07:56.512409",
     "status": "completed"
    },
    "tags": []
   },
   "outputs": [
    {
     "data": {
      "text/plain": [
       "'Using output dir base: /project/ritchie20/projects/phenoplier/base/results/gls/gene_corrs/cohorts/phenomexcan_rapid_gwas/gtex_v8/mashr'"
      ]
     },
     "metadata": {},
     "output_type": "display_data"
    }
   ],
   "source": [
    "OUTPUT_DIR_BASE = (\n",
    "    conf.RESULTS[\"GLS\"]\n",
    "    / \"gene_corrs\"\n",
    "    / \"cohorts\"\n",
    "    / COHORT_NAME.lower()\n",
    "    / REFERENCE_PANEL.lower()\n",
    "    / EQTL_MODEL.lower()\n",
    ")\n",
    "OUTPUT_DIR_BASE.mkdir(parents=True, exist_ok=True)\n",
    "\n",
    "display(f\"Using output dir base: {OUTPUT_DIR_BASE}\")"
   ]
  },
  {
   "cell_type": "markdown",
   "id": "99ccb166",
   "metadata": {
    "papermill": {
     "duration": 0.022122,
     "end_time": "2022-08-29T20:07:56.695911",
     "exception": false,
     "start_time": "2022-08-29T20:07:56.673789",
     "status": "completed"
    },
    "tags": []
   },
   "source": [
    "# Load data"
   ]
  },
  {
   "cell_type": "markdown",
   "id": "d5262187-494c-4399-8b71-cbbc3e20a9df",
   "metadata": {
    "papermill": {
     "duration": 0.031887,
     "end_time": "2022-08-29T20:07:56.744535",
     "exception": false,
     "start_time": "2022-08-29T20:07:56.712648",
     "status": "completed"
    },
    "tags": []
   },
   "source": [
    "## Gene correlations"
   ]
  },
  {
   "cell_type": "code",
   "execution_count": 12,
   "id": "2f174f95-2be3-4b63-95fb-451413ad361d",
   "metadata": {
    "execution": {
     "iopub.execute_input": "2022-08-29T20:07:56.784199Z",
     "iopub.status.busy": "2022-08-29T20:07:56.783993Z",
     "iopub.status.idle": "2022-08-29T20:07:56.809333Z",
     "shell.execute_reply": "2022-08-29T20:07:56.808786Z"
    },
    "papermill": {
     "duration": 0.045811,
     "end_time": "2022-08-29T20:07:56.811083",
     "exception": false,
     "start_time": "2022-08-29T20:07:56.765272",
     "status": "completed"
    },
    "tags": []
   },
   "outputs": [
    {
     "data": {
      "text/plain": [
       "[PosixPath('/project/ritchie20/projects/phenoplier/base/results/gls/gene_corrs/cohorts/phenomexcan_rapid_gwas/gtex_v8/mashr/gene_corrs-symbols.pkl'),\n",
       " PosixPath('/project/ritchie20/projects/phenoplier/base/results/gls/gene_corrs/cohorts/phenomexcan_rapid_gwas/gtex_v8/mashr/gene_corrs-symbols-within_distance_10mb.pkl'),\n",
       " PosixPath('/project/ritchie20/projects/phenoplier/base/results/gls/gene_corrs/cohorts/phenomexcan_rapid_gwas/gtex_v8/mashr/gene_corrs-symbols-within_distance_5mb.pkl'),\n",
       " PosixPath('/project/ritchie20/projects/phenoplier/base/results/gls/gene_corrs/cohorts/phenomexcan_rapid_gwas/gtex_v8/mashr/gene_corrs-symbols-within_distance_2mb.pkl')]"
      ]
     },
     "metadata": {},
     "output_type": "display_data"
    }
   ],
   "source": [
    "input_files = list(OUTPUT_DIR_BASE.glob(\"gene_corrs-symbols*.pkl\"))\n",
    "display(input_files)\n",
    "assert len(input_files) > 0, \"No input correlation files\""
   ]
  },
  {
   "cell_type": "code",
   "execution_count": 13,
   "id": "e6838c80-57e3-4a7a-8ee1-ed5948645508",
   "metadata": {
    "execution": {
     "iopub.execute_input": "2022-08-29T20:07:56.865603Z",
     "iopub.status.busy": "2022-08-29T20:07:56.865421Z",
     "iopub.status.idle": "2022-08-29T20:07:57.492192Z",
     "shell.execute_reply": "2022-08-29T20:07:57.491514Z"
    },
    "papermill": {
     "duration": 0.65884,
     "end_time": "2022-08-29T20:07:57.494558",
     "exception": false,
     "start_time": "2022-08-29T20:07:56.835718",
     "status": "completed"
    },
    "tags": []
   },
   "outputs": [],
   "source": [
    "# load correlation matrix\n",
    "gene_corrs_dict = {f.name: pd.read_pickle(f) for f in input_files}"
   ]
  },
  {
   "cell_type": "code",
   "execution_count": 14,
   "id": "b9db5c98-a8aa-4e31-b25d-2b9ee16a2182",
   "metadata": {
    "execution": {
     "iopub.execute_input": "2022-08-29T20:07:57.538353Z",
     "iopub.status.busy": "2022-08-29T20:07:57.538024Z",
     "iopub.status.idle": "2022-08-29T20:07:57.564944Z",
     "shell.execute_reply": "2022-08-29T20:07:57.564246Z"
    },
    "papermill": {
     "duration": 0.05294,
     "end_time": "2022-08-29T20:07:57.567400",
     "exception": false,
     "start_time": "2022-08-29T20:07:57.514460",
     "status": "completed"
    },
    "tags": []
   },
   "outputs": [],
   "source": [
    "orig_corr_name = \"gene_corrs-symbols.pkl\""
   ]
  },
  {
   "cell_type": "code",
   "execution_count": 15,
   "id": "981b0c08-4217-4d0b-b0f7-57c8cf015055",
   "metadata": {
    "execution": {
     "iopub.execute_input": "2022-08-29T20:07:57.613864Z",
     "iopub.status.busy": "2022-08-29T20:07:57.613608Z",
     "iopub.status.idle": "2022-08-29T20:07:57.648996Z",
     "shell.execute_reply": "2022-08-29T20:07:57.648324Z"
    },
    "papermill": {
     "duration": 0.057483,
     "end_time": "2022-08-29T20:07:57.651144",
     "exception": false,
     "start_time": "2022-08-29T20:07:57.593661",
     "status": "completed"
    },
    "tags": []
   },
   "outputs": [
    {
     "data": {
      "text/plain": [
       "(6428, 6428)"
      ]
     },
     "execution_count": 15,
     "metadata": {},
     "output_type": "execute_result"
    }
   ],
   "source": [
    "gene_corrs_dict[orig_corr_name].shape"
   ]
  },
  {
   "cell_type": "code",
   "execution_count": 16,
   "id": "49fb8383-23fc-40d7-adf6-70f5770ee37f",
   "metadata": {
    "execution": {
     "iopub.execute_input": "2022-08-29T20:07:57.695883Z",
     "iopub.status.busy": "2022-08-29T20:07:57.695660Z",
     "iopub.status.idle": "2022-08-29T20:07:57.758553Z",
     "shell.execute_reply": "2022-08-29T20:07:57.757246Z"
    },
    "papermill": {
     "duration": 0.087259,
     "end_time": "2022-08-29T20:07:57.760587",
     "exception": false,
     "start_time": "2022-08-29T20:07:57.673328",
     "status": "completed"
    },
    "tags": []
   },
   "outputs": [
    {
     "data": {
      "text/html": [
       "<div>\n",
       "<style scoped>\n",
       "    .dataframe tbody tr th:only-of-type {\n",
       "        vertical-align: middle;\n",
       "    }\n",
       "\n",
       "    .dataframe tbody tr th {\n",
       "        vertical-align: top;\n",
       "    }\n",
       "\n",
       "    .dataframe thead th {\n",
       "        text-align: right;\n",
       "    }\n",
       "</style>\n",
       "<table border=\"1\" class=\"dataframe\">\n",
       "  <thead>\n",
       "    <tr style=\"text-align: right;\">\n",
       "      <th></th>\n",
       "      <th>NOC2L</th>\n",
       "      <th>HES4</th>\n",
       "      <th>ISG15</th>\n",
       "      <th>AGRN</th>\n",
       "      <th>TNFRSF18</th>\n",
       "      <th>TNFRSF4</th>\n",
       "      <th>B3GALT6</th>\n",
       "      <th>UBE2J2</th>\n",
       "      <th>ACAP3</th>\n",
       "      <th>TAS1R3</th>\n",
       "      <th>...</th>\n",
       "      <th>PLXNB2</th>\n",
       "      <th>ADM2</th>\n",
       "      <th>MIOX</th>\n",
       "      <th>SCO2</th>\n",
       "      <th>TYMP</th>\n",
       "      <th>CPT1B</th>\n",
       "      <th>CHKB</th>\n",
       "      <th>MAPK8IP2</th>\n",
       "      <th>ARSA</th>\n",
       "      <th>SHANK3</th>\n",
       "    </tr>\n",
       "  </thead>\n",
       "  <tbody>\n",
       "    <tr>\n",
       "      <th>NOC2L</th>\n",
       "      <td>1.000000</td>\n",
       "      <td>0.118397</td>\n",
       "      <td>0.103852</td>\n",
       "      <td>0.091980</td>\n",
       "      <td>0.006284</td>\n",
       "      <td>0.007338</td>\n",
       "      <td>0.004868</td>\n",
       "      <td>0.043019</td>\n",
       "      <td>0.012004</td>\n",
       "      <td>0.006924</td>\n",
       "      <td>...</td>\n",
       "      <td>0.0</td>\n",
       "      <td>0.0</td>\n",
       "      <td>0.0</td>\n",
       "      <td>0.0</td>\n",
       "      <td>0.0</td>\n",
       "      <td>0.0</td>\n",
       "      <td>0.0</td>\n",
       "      <td>0.0</td>\n",
       "      <td>0.0</td>\n",
       "      <td>0.0</td>\n",
       "    </tr>\n",
       "    <tr>\n",
       "      <th>HES4</th>\n",
       "      <td>0.118397</td>\n",
       "      <td>1.000000</td>\n",
       "      <td>0.849549</td>\n",
       "      <td>0.402466</td>\n",
       "      <td>0.011284</td>\n",
       "      <td>0.008897</td>\n",
       "      <td>0.005317</td>\n",
       "      <td>0.010216</td>\n",
       "      <td>0.002582</td>\n",
       "      <td>0.005373</td>\n",
       "      <td>...</td>\n",
       "      <td>0.0</td>\n",
       "      <td>0.0</td>\n",
       "      <td>0.0</td>\n",
       "      <td>0.0</td>\n",
       "      <td>0.0</td>\n",
       "      <td>0.0</td>\n",
       "      <td>0.0</td>\n",
       "      <td>0.0</td>\n",
       "      <td>0.0</td>\n",
       "      <td>0.0</td>\n",
       "    </tr>\n",
       "    <tr>\n",
       "      <th>ISG15</th>\n",
       "      <td>0.103852</td>\n",
       "      <td>0.849549</td>\n",
       "      <td>1.000000</td>\n",
       "      <td>0.398077</td>\n",
       "      <td>0.011218</td>\n",
       "      <td>0.011083</td>\n",
       "      <td>0.006313</td>\n",
       "      <td>0.012211</td>\n",
       "      <td>0.003459</td>\n",
       "      <td>0.009198</td>\n",
       "      <td>...</td>\n",
       "      <td>0.0</td>\n",
       "      <td>0.0</td>\n",
       "      <td>0.0</td>\n",
       "      <td>0.0</td>\n",
       "      <td>0.0</td>\n",
       "      <td>0.0</td>\n",
       "      <td>0.0</td>\n",
       "      <td>0.0</td>\n",
       "      <td>0.0</td>\n",
       "      <td>0.0</td>\n",
       "    </tr>\n",
       "    <tr>\n",
       "      <th>AGRN</th>\n",
       "      <td>0.091980</td>\n",
       "      <td>0.402466</td>\n",
       "      <td>0.398077</td>\n",
       "      <td>1.000000</td>\n",
       "      <td>0.005065</td>\n",
       "      <td>0.011509</td>\n",
       "      <td>0.001824</td>\n",
       "      <td>0.011029</td>\n",
       "      <td>0.005019</td>\n",
       "      <td>0.006681</td>\n",
       "      <td>...</td>\n",
       "      <td>0.0</td>\n",
       "      <td>0.0</td>\n",
       "      <td>0.0</td>\n",
       "      <td>0.0</td>\n",
       "      <td>0.0</td>\n",
       "      <td>0.0</td>\n",
       "      <td>0.0</td>\n",
       "      <td>0.0</td>\n",
       "      <td>0.0</td>\n",
       "      <td>0.0</td>\n",
       "    </tr>\n",
       "    <tr>\n",
       "      <th>TNFRSF18</th>\n",
       "      <td>0.006284</td>\n",
       "      <td>0.011284</td>\n",
       "      <td>0.011218</td>\n",
       "      <td>0.005065</td>\n",
       "      <td>1.000000</td>\n",
       "      <td>0.337836</td>\n",
       "      <td>0.551124</td>\n",
       "      <td>0.107460</td>\n",
       "      <td>0.193531</td>\n",
       "      <td>0.101072</td>\n",
       "      <td>...</td>\n",
       "      <td>0.0</td>\n",
       "      <td>0.0</td>\n",
       "      <td>0.0</td>\n",
       "      <td>0.0</td>\n",
       "      <td>0.0</td>\n",
       "      <td>0.0</td>\n",
       "      <td>0.0</td>\n",
       "      <td>0.0</td>\n",
       "      <td>0.0</td>\n",
       "      <td>0.0</td>\n",
       "    </tr>\n",
       "  </tbody>\n",
       "</table>\n",
       "<p>5 rows × 6428 columns</p>\n",
       "</div>"
      ],
      "text/plain": [
       "             NOC2L      HES4     ISG15      AGRN  TNFRSF18   TNFRSF4  \\\n",
       "NOC2L     1.000000  0.118397  0.103852  0.091980  0.006284  0.007338   \n",
       "HES4      0.118397  1.000000  0.849549  0.402466  0.011284  0.008897   \n",
       "ISG15     0.103852  0.849549  1.000000  0.398077  0.011218  0.011083   \n",
       "AGRN      0.091980  0.402466  0.398077  1.000000  0.005065  0.011509   \n",
       "TNFRSF18  0.006284  0.011284  0.011218  0.005065  1.000000  0.337836   \n",
       "\n",
       "           B3GALT6    UBE2J2     ACAP3    TAS1R3  ...  PLXNB2  ADM2  MIOX  \\\n",
       "NOC2L     0.004868  0.043019  0.012004  0.006924  ...     0.0   0.0   0.0   \n",
       "HES4      0.005317  0.010216  0.002582  0.005373  ...     0.0   0.0   0.0   \n",
       "ISG15     0.006313  0.012211  0.003459  0.009198  ...     0.0   0.0   0.0   \n",
       "AGRN      0.001824  0.011029  0.005019  0.006681  ...     0.0   0.0   0.0   \n",
       "TNFRSF18  0.551124  0.107460  0.193531  0.101072  ...     0.0   0.0   0.0   \n",
       "\n",
       "          SCO2  TYMP  CPT1B  CHKB  MAPK8IP2  ARSA  SHANK3  \n",
       "NOC2L      0.0   0.0    0.0   0.0       0.0   0.0     0.0  \n",
       "HES4       0.0   0.0    0.0   0.0       0.0   0.0     0.0  \n",
       "ISG15      0.0   0.0    0.0   0.0       0.0   0.0     0.0  \n",
       "AGRN       0.0   0.0    0.0   0.0       0.0   0.0     0.0  \n",
       "TNFRSF18   0.0   0.0    0.0   0.0       0.0   0.0     0.0  \n",
       "\n",
       "[5 rows x 6428 columns]"
      ]
     },
     "execution_count": 16,
     "metadata": {},
     "output_type": "execute_result"
    }
   ],
   "source": [
    "gene_corrs_dict[orig_corr_name].head()"
   ]
  },
  {
   "cell_type": "code",
   "execution_count": 17,
   "id": "4fb66ba4-9fd3-4dc5-9538-eadd5e9f81c7",
   "metadata": {
    "execution": {
     "iopub.execute_input": "2022-08-29T20:07:57.818237Z",
     "iopub.status.busy": "2022-08-29T20:07:57.818003Z",
     "iopub.status.idle": "2022-08-29T20:07:57.849426Z",
     "shell.execute_reply": "2022-08-29T20:07:57.848750Z"
    },
    "papermill": {
     "duration": 0.056119,
     "end_time": "2022-08-29T20:07:57.851779",
     "exception": false,
     "start_time": "2022-08-29T20:07:57.795660",
     "status": "completed"
    },
    "tags": []
   },
   "outputs": [],
   "source": [
    "current_index = gene_corrs_dict[orig_corr_name].index\n",
    "assert all(\n",
    "    [current_index.equals(gc.index) for k, gc in gene_corrs_dict.items()]\n",
    "), \"Correlation matrices are not compatible\""
   ]
  },
  {
   "cell_type": "markdown",
   "id": "46ae0b3e",
   "metadata": {
    "papermill": {
     "duration": 0.024748,
     "end_time": "2022-08-29T20:07:57.906102",
     "exception": false,
     "start_time": "2022-08-29T20:07:57.881354",
     "status": "completed"
    },
    "tags": []
   },
   "source": [
    "## MultiPLIER Z"
   ]
  },
  {
   "cell_type": "code",
   "execution_count": 18,
   "id": "d38d9749",
   "metadata": {
    "execution": {
     "iopub.execute_input": "2022-08-29T20:07:57.974580Z",
     "iopub.status.busy": "2022-08-29T20:07:57.974315Z",
     "iopub.status.idle": "2022-08-29T20:07:58.048583Z",
     "shell.execute_reply": "2022-08-29T20:07:58.047736Z"
    },
    "papermill": {
     "duration": 0.119499,
     "end_time": "2022-08-29T20:07:58.051203",
     "exception": false,
     "start_time": "2022-08-29T20:07:57.931704",
     "status": "completed"
    },
    "tags": []
   },
   "outputs": [],
   "source": [
    "multiplier_z = pd.read_pickle(conf.MULTIPLIER[\"MODEL_Z_MATRIX_FILE\"])"
   ]
  },
  {
   "cell_type": "code",
   "execution_count": 19,
   "id": "67e93797",
   "metadata": {
    "execution": {
     "iopub.execute_input": "2022-08-29T20:07:58.095758Z",
     "iopub.status.busy": "2022-08-29T20:07:58.095452Z",
     "iopub.status.idle": "2022-08-29T20:07:58.128400Z",
     "shell.execute_reply": "2022-08-29T20:07:58.127284Z"
    },
    "papermill": {
     "duration": 0.05734,
     "end_time": "2022-08-29T20:07:58.130448",
     "exception": false,
     "start_time": "2022-08-29T20:07:58.073108",
     "status": "completed"
    },
    "tags": []
   },
   "outputs": [
    {
     "data": {
      "text/plain": [
       "(6750, 987)"
      ]
     },
     "execution_count": 19,
     "metadata": {},
     "output_type": "execute_result"
    }
   ],
   "source": [
    "multiplier_z.shape"
   ]
  },
  {
   "cell_type": "code",
   "execution_count": 20,
   "id": "e1ba1ead",
   "metadata": {
    "execution": {
     "iopub.execute_input": "2022-08-29T20:07:58.187521Z",
     "iopub.status.busy": "2022-08-29T20:07:58.187252Z",
     "iopub.status.idle": "2022-08-29T20:07:58.234869Z",
     "shell.execute_reply": "2022-08-29T20:07:58.234199Z"
    },
    "papermill": {
     "duration": 0.082891,
     "end_time": "2022-08-29T20:07:58.237044",
     "exception": false,
     "start_time": "2022-08-29T20:07:58.154153",
     "status": "completed"
    },
    "tags": []
   },
   "outputs": [
    {
     "data": {
      "text/html": [
       "<div>\n",
       "<style scoped>\n",
       "    .dataframe tbody tr th:only-of-type {\n",
       "        vertical-align: middle;\n",
       "    }\n",
       "\n",
       "    .dataframe tbody tr th {\n",
       "        vertical-align: top;\n",
       "    }\n",
       "\n",
       "    .dataframe thead th {\n",
       "        text-align: right;\n",
       "    }\n",
       "</style>\n",
       "<table border=\"1\" class=\"dataframe\">\n",
       "  <thead>\n",
       "    <tr style=\"text-align: right;\">\n",
       "      <th></th>\n",
       "      <th>LV1</th>\n",
       "      <th>LV2</th>\n",
       "      <th>LV3</th>\n",
       "      <th>LV4</th>\n",
       "      <th>LV5</th>\n",
       "      <th>LV6</th>\n",
       "      <th>LV7</th>\n",
       "      <th>LV8</th>\n",
       "      <th>LV9</th>\n",
       "      <th>LV10</th>\n",
       "      <th>...</th>\n",
       "      <th>LV978</th>\n",
       "      <th>LV979</th>\n",
       "      <th>LV980</th>\n",
       "      <th>LV981</th>\n",
       "      <th>LV982</th>\n",
       "      <th>LV983</th>\n",
       "      <th>LV984</th>\n",
       "      <th>LV985</th>\n",
       "      <th>LV986</th>\n",
       "      <th>LV987</th>\n",
       "    </tr>\n",
       "  </thead>\n",
       "  <tbody>\n",
       "    <tr>\n",
       "      <th>GAS6</th>\n",
       "      <td>0.000000</td>\n",
       "      <td>0.0</td>\n",
       "      <td>0.039438</td>\n",
       "      <td>0.0</td>\n",
       "      <td>0.050476</td>\n",
       "      <td>0.000000</td>\n",
       "      <td>0.0</td>\n",
       "      <td>0.000000</td>\n",
       "      <td>0.590949</td>\n",
       "      <td>0.000000</td>\n",
       "      <td>...</td>\n",
       "      <td>0.050125</td>\n",
       "      <td>0.00000</td>\n",
       "      <td>0.033407</td>\n",
       "      <td>0.000000</td>\n",
       "      <td>0.000000</td>\n",
       "      <td>0.005963</td>\n",
       "      <td>0.347362</td>\n",
       "      <td>0.0</td>\n",
       "      <td>0.000000</td>\n",
       "      <td>0.000000</td>\n",
       "    </tr>\n",
       "    <tr>\n",
       "      <th>MMP14</th>\n",
       "      <td>0.000000</td>\n",
       "      <td>0.0</td>\n",
       "      <td>0.000000</td>\n",
       "      <td>0.0</td>\n",
       "      <td>0.070072</td>\n",
       "      <td>0.000000</td>\n",
       "      <td>0.0</td>\n",
       "      <td>0.004904</td>\n",
       "      <td>1.720179</td>\n",
       "      <td>2.423595</td>\n",
       "      <td>...</td>\n",
       "      <td>0.000000</td>\n",
       "      <td>0.00000</td>\n",
       "      <td>0.001007</td>\n",
       "      <td>0.000000</td>\n",
       "      <td>0.035747</td>\n",
       "      <td>0.000000</td>\n",
       "      <td>0.000000</td>\n",
       "      <td>0.0</td>\n",
       "      <td>0.014978</td>\n",
       "      <td>0.000000</td>\n",
       "    </tr>\n",
       "    <tr>\n",
       "      <th>DSP</th>\n",
       "      <td>0.000000</td>\n",
       "      <td>0.0</td>\n",
       "      <td>0.000000</td>\n",
       "      <td>0.0</td>\n",
       "      <td>0.000000</td>\n",
       "      <td>0.041697</td>\n",
       "      <td>0.0</td>\n",
       "      <td>0.005718</td>\n",
       "      <td>0.000000</td>\n",
       "      <td>0.000000</td>\n",
       "      <td>...</td>\n",
       "      <td>0.020853</td>\n",
       "      <td>0.00000</td>\n",
       "      <td>0.000000</td>\n",
       "      <td>0.000000</td>\n",
       "      <td>0.000000</td>\n",
       "      <td>0.005774</td>\n",
       "      <td>0.000000</td>\n",
       "      <td>0.0</td>\n",
       "      <td>0.000000</td>\n",
       "      <td>0.416405</td>\n",
       "    </tr>\n",
       "    <tr>\n",
       "      <th>MARCKSL1</th>\n",
       "      <td>0.305212</td>\n",
       "      <td>0.0</td>\n",
       "      <td>0.000000</td>\n",
       "      <td>0.0</td>\n",
       "      <td>0.000000</td>\n",
       "      <td>0.000000</td>\n",
       "      <td>0.0</td>\n",
       "      <td>0.000000</td>\n",
       "      <td>0.161843</td>\n",
       "      <td>0.149471</td>\n",
       "      <td>...</td>\n",
       "      <td>0.027134</td>\n",
       "      <td>0.05272</td>\n",
       "      <td>0.000000</td>\n",
       "      <td>0.030189</td>\n",
       "      <td>0.060884</td>\n",
       "      <td>0.000000</td>\n",
       "      <td>0.000000</td>\n",
       "      <td>0.0</td>\n",
       "      <td>0.000000</td>\n",
       "      <td>0.448480</td>\n",
       "    </tr>\n",
       "    <tr>\n",
       "      <th>SPARC</th>\n",
       "      <td>0.000000</td>\n",
       "      <td>0.0</td>\n",
       "      <td>0.000000</td>\n",
       "      <td>0.0</td>\n",
       "      <td>0.000000</td>\n",
       "      <td>0.000000</td>\n",
       "      <td>0.0</td>\n",
       "      <td>0.000000</td>\n",
       "      <td>0.000000</td>\n",
       "      <td>0.014014</td>\n",
       "      <td>...</td>\n",
       "      <td>0.000000</td>\n",
       "      <td>0.00000</td>\n",
       "      <td>0.000000</td>\n",
       "      <td>0.000000</td>\n",
       "      <td>0.000000</td>\n",
       "      <td>0.000000</td>\n",
       "      <td>0.067779</td>\n",
       "      <td>0.0</td>\n",
       "      <td>0.122417</td>\n",
       "      <td>0.062665</td>\n",
       "    </tr>\n",
       "  </tbody>\n",
       "</table>\n",
       "<p>5 rows × 987 columns</p>\n",
       "</div>"
      ],
      "text/plain": [
       "               LV1  LV2       LV3  LV4       LV5       LV6  LV7       LV8  \\\n",
       "GAS6      0.000000  0.0  0.039438  0.0  0.050476  0.000000  0.0  0.000000   \n",
       "MMP14     0.000000  0.0  0.000000  0.0  0.070072  0.000000  0.0  0.004904   \n",
       "DSP       0.000000  0.0  0.000000  0.0  0.000000  0.041697  0.0  0.005718   \n",
       "MARCKSL1  0.305212  0.0  0.000000  0.0  0.000000  0.000000  0.0  0.000000   \n",
       "SPARC     0.000000  0.0  0.000000  0.0  0.000000  0.000000  0.0  0.000000   \n",
       "\n",
       "               LV9      LV10  ...     LV978    LV979     LV980     LV981  \\\n",
       "GAS6      0.590949  0.000000  ...  0.050125  0.00000  0.033407  0.000000   \n",
       "MMP14     1.720179  2.423595  ...  0.000000  0.00000  0.001007  0.000000   \n",
       "DSP       0.000000  0.000000  ...  0.020853  0.00000  0.000000  0.000000   \n",
       "MARCKSL1  0.161843  0.149471  ...  0.027134  0.05272  0.000000  0.030189   \n",
       "SPARC     0.000000  0.014014  ...  0.000000  0.00000  0.000000  0.000000   \n",
       "\n",
       "             LV982     LV983     LV984  LV985     LV986     LV987  \n",
       "GAS6      0.000000  0.005963  0.347362    0.0  0.000000  0.000000  \n",
       "MMP14     0.035747  0.000000  0.000000    0.0  0.014978  0.000000  \n",
       "DSP       0.000000  0.005774  0.000000    0.0  0.000000  0.416405  \n",
       "MARCKSL1  0.060884  0.000000  0.000000    0.0  0.000000  0.448480  \n",
       "SPARC     0.000000  0.000000  0.067779    0.0  0.122417  0.062665  \n",
       "\n",
       "[5 rows x 987 columns]"
      ]
     },
     "execution_count": 20,
     "metadata": {},
     "output_type": "execute_result"
    }
   ],
   "source": [
    "multiplier_z.head()"
   ]
  },
  {
   "cell_type": "markdown",
   "id": "f4d4f177",
   "metadata": {
    "papermill": {
     "duration": 0.02257,
     "end_time": "2022-08-29T20:07:58.285404",
     "exception": false,
     "start_time": "2022-08-29T20:07:58.262834",
     "status": "completed"
    },
    "tags": []
   },
   "source": [
    "# Compute inverse correlation matrix for each LV"
   ]
  },
  {
   "cell_type": "code",
   "execution_count": 21,
   "id": "6f604dfc-91b4-4e2e-b848-6099fed0b44e",
   "metadata": {
    "execution": {
     "iopub.execute_input": "2022-08-29T20:07:58.328809Z",
     "iopub.status.busy": "2022-08-29T20:07:58.328569Z",
     "iopub.status.idle": "2022-08-29T20:07:58.356101Z",
     "shell.execute_reply": "2022-08-29T20:07:58.355433Z"
    },
    "papermill": {
     "duration": 0.051791,
     "end_time": "2022-08-29T20:07:58.358310",
     "exception": false,
     "start_time": "2022-08-29T20:07:58.306519",
     "status": "completed"
    },
    "tags": []
   },
   "outputs": [],
   "source": [
    "def exists_df(output_dir, base_filename):\n",
    "    full_filepath = output_dir / (base_filename + \".npz\")\n",
    "\n",
    "    return full_filepath.exists()"
   ]
  },
  {
   "cell_type": "code",
   "execution_count": 22,
   "id": "f5bd311e-e0f0-424e-8384-763f4bf7e21c",
   "metadata": {
    "execution": {
     "iopub.execute_input": "2022-08-29T20:07:58.412182Z",
     "iopub.status.busy": "2022-08-29T20:07:58.411951Z",
     "iopub.status.idle": "2022-08-29T20:07:58.440460Z",
     "shell.execute_reply": "2022-08-29T20:07:58.439311Z"
    },
    "papermill": {
     "duration": 0.059828,
     "end_time": "2022-08-29T20:07:58.442828",
     "exception": false,
     "start_time": "2022-08-29T20:07:58.383000",
     "status": "completed"
    },
    "tags": []
   },
   "outputs": [],
   "source": [
    "def store_df(output_dir, nparray, base_filename):\n",
    "    if base_filename in (\"metadata\", \"gene_names\"):\n",
    "        np.savez_compressed(output_dir / (base_filename + \".npz\"), data=nparray)\n",
    "    else:\n",
    "        sparse.save_npz(\n",
    "            output_dir / (base_filename + \".npz\"),\n",
    "            sparse.csc_matrix(nparray),\n",
    "            compressed=False,\n",
    "        )"
   ]
  },
  {
   "cell_type": "code",
   "execution_count": 23,
   "id": "3f6edd17-2654-4957-a592-361f74ec96df",
   "metadata": {
    "execution": {
     "iopub.execute_input": "2022-08-29T20:07:58.479690Z",
     "iopub.status.busy": "2022-08-29T20:07:58.479457Z",
     "iopub.status.idle": "2022-08-29T20:07:58.507103Z",
     "shell.execute_reply": "2022-08-29T20:07:58.506405Z"
    },
    "papermill": {
     "duration": 0.046883,
     "end_time": "2022-08-29T20:07:58.509483",
     "exception": false,
     "start_time": "2022-08-29T20:07:58.462600",
     "status": "completed"
    },
    "tags": []
   },
   "outputs": [],
   "source": [
    "def get_output_dir(gene_corr_filename):\n",
    "    path = OUTPUT_DIR_BASE / gene_corr_filename\n",
    "    assert path.exists()\n",
    "    return path.with_suffix(\".per_lv\")"
   ]
  },
  {
   "cell_type": "code",
   "execution_count": 24,
   "id": "39bf4643",
   "metadata": {
    "execution": {
     "iopub.execute_input": "2022-08-29T20:07:58.546250Z",
     "iopub.status.busy": "2022-08-29T20:07:58.546011Z",
     "iopub.status.idle": "2022-08-29T20:07:58.582492Z",
     "shell.execute_reply": "2022-08-29T20:07:58.581832Z"
    },
    "papermill": {
     "duration": 0.058292,
     "end_time": "2022-08-29T20:07:58.584855",
     "exception": false,
     "start_time": "2022-08-29T20:07:58.526563",
     "status": "completed"
    },
    "tags": []
   },
   "outputs": [],
   "source": [
    "def compute_chol_inv(lv_codes):\n",
    "    for gene_corr_filename, gene_corrs in gene_corrs_dict.items():\n",
    "        output_dir = get_output_dir(gene_corr_filename)\n",
    "        output_dir.mkdir(parents=True, exist_ok=True)\n",
    "        display(f\"Output dir: {str(output_dir)}\")\n",
    "\n",
    "        # save LV chol inverse\n",
    "        for lv_code in lv_codes:\n",
    "            lv_data = multiplier_z[lv_code]\n",
    "\n",
    "            corr_mat_sub = GLSPhenoplier.get_sub_mat(gene_corrs, lv_data, LV_PERCENTILE)\n",
    "            store_df(output_dir, corr_mat_sub.to_numpy(), f\"{lv_code}_corr_mat\")\n",
    "\n",
    "            chol_mat = np.linalg.cholesky(corr_mat_sub)\n",
    "            chol_inv = np.linalg.inv(chol_mat)\n",
    "\n",
    "            store_df(output_dir, chol_inv, lv_code)\n",
    "\n",
    "        # save metadata\n",
    "        if not exists_df(output_dir, \"metadata\"):\n",
    "            metadata = np.array([REFERENCE_PANEL, EQTL_MODEL])\n",
    "            store_df(output_dir, metadata, \"metadata\")\n",
    "        else:\n",
    "            display(\"Metadata file already exists\")\n",
    "\n",
    "        # save gene names\n",
    "        if not exists_df(output_dir, \"gene_names\"):\n",
    "            gene_names = np.array(gene_corrs.index.tolist())\n",
    "            store_df(output_dir, gene_names, \"gene_names\")\n",
    "        else:\n",
    "            display(\"Gene names file already exists\")"
   ]
  },
  {
   "cell_type": "code",
   "execution_count": 25,
   "id": "e605c772-15c3-43e0-850b-1bc81bef2dcc",
   "metadata": {
    "execution": {
     "iopub.execute_input": "2022-08-29T20:07:58.626966Z",
     "iopub.status.busy": "2022-08-29T20:07:58.626703Z",
     "iopub.status.idle": "2022-08-29T20:07:58.653874Z",
     "shell.execute_reply": "2022-08-29T20:07:58.653225Z"
    },
    "papermill": {
     "duration": 0.052836,
     "end_time": "2022-08-29T20:07:58.656276",
     "exception": false,
     "start_time": "2022-08-29T20:07:58.603440",
     "status": "completed"
    },
    "tags": []
   },
   "outputs": [],
   "source": [
    "# divide LVs in chunks for parallel processing\n",
    "# lvs_chunks = list(chunker(list(multiplier_z.columns), 50))\n",
    "lvs_chunks = [[LV_CODE]]"
   ]
  },
  {
   "cell_type": "code",
   "execution_count": 26,
   "id": "e2511bd6-73c2-4f92-9fb4-ee6ad5a2923f",
   "metadata": {
    "execution": {
     "iopub.execute_input": "2022-08-29T20:07:58.704404Z",
     "iopub.status.busy": "2022-08-29T20:07:58.704172Z",
     "iopub.status.idle": "2022-08-29T20:09:30.611012Z",
     "shell.execute_reply": "2022-08-29T20:09:30.610101Z"
    },
    "papermill": {
     "duration": 91.939052,
     "end_time": "2022-08-29T20:09:30.613411",
     "exception": false,
     "start_time": "2022-08-29T20:07:58.674359",
     "status": "completed"
    },
    "tags": []
   },
   "outputs": [
    {
     "name": "stderr",
     "output_type": "stream",
     "text": [
      "  0%|                                                                         | 0/1 [00:00<?, ?it/s][2022-08-29 16:07:58,921 - numexpr.utils] INFO: Note: NumExpr detected 28 cores but \"NUMEXPR_MAX_THREADS\" not set, so enforcing safe limit of 8.\n"
     ]
    },
    {
     "data": {
      "text/plain": [
       "'Metadata file already exists'"
      ]
     },
     "metadata": {},
     "output_type": "display_data"
    },
    {
     "data": {
      "text/plain": [
       "'Gene names file already exists'"
      ]
     },
     "metadata": {},
     "output_type": "display_data"
    },
    {
     "data": {
      "text/plain": [
       "'Output dir: /project/ritchie20/projects/phenoplier/base/results/gls/gene_corrs/cohorts/phenomexcan_rapid_gwas/gtex_v8/mashr/gene_corrs-symbols-within_distance_10mb.per_lv'"
      ]
     },
     "metadata": {},
     "output_type": "display_data"
    },
    {
     "data": {
      "text/plain": [
       "'Metadata file already exists'"
      ]
     },
     "metadata": {},
     "output_type": "display_data"
    },
    {
     "data": {
      "text/plain": [
       "'Gene names file already exists'"
      ]
     },
     "metadata": {},
     "output_type": "display_data"
    },
    {
     "data": {
      "text/plain": [
       "'Output dir: /project/ritchie20/projects/phenoplier/base/results/gls/gene_corrs/cohorts/phenomexcan_rapid_gwas/gtex_v8/mashr/gene_corrs-symbols-within_distance_5mb.per_lv'"
      ]
     },
     "metadata": {},
     "output_type": "display_data"
    },
    {
     "data": {
      "text/plain": [
       "'Metadata file already exists'"
      ]
     },
     "metadata": {},
     "output_type": "display_data"
    },
    {
     "data": {
      "text/plain": [
       "'Gene names file already exists'"
      ]
     },
     "metadata": {},
     "output_type": "display_data"
    },
    {
     "data": {
      "text/plain": [
       "'Output dir: /project/ritchie20/projects/phenoplier/base/results/gls/gene_corrs/cohorts/phenomexcan_rapid_gwas/gtex_v8/mashr/gene_corrs-symbols-within_distance_2mb.per_lv'"
      ]
     },
     "metadata": {},
     "output_type": "display_data"
    },
    {
     "data": {
      "text/plain": [
       "'Metadata file already exists'"
      ]
     },
     "metadata": {},
     "output_type": "display_data"
    },
    {
     "data": {
      "text/plain": [
       "'Gene names file already exists'"
      ]
     },
     "metadata": {},
     "output_type": "display_data"
    },
    {
     "name": "stderr",
     "output_type": "stream",
     "text": [
      "100%|█████████████████████████████████████████████████████████████████| 1/1 [01:31<00:00, 91.86s/it]\n"
     ]
    }
   ],
   "source": [
    "with ProcessPoolExecutor(max_workers=N_JOBS) as executor, tqdm(\n",
    "    total=len(lvs_chunks), ncols=100\n",
    ") as pbar:\n",
    "    tasks = [executor.submit(compute_chol_inv, chunk) for chunk in lvs_chunks]\n",
    "    for future in as_completed(tasks):\n",
    "        res = future.result()\n",
    "        pbar.update(1)"
   ]
  },
  {
   "cell_type": "markdown",
   "id": "1169db4b-9af2-4d3c-a27a-198d7730fa67",
   "metadata": {
    "papermill": {
     "duration": 0.012124,
     "end_time": "2022-08-29T20:09:30.639998",
     "exception": false,
     "start_time": "2022-08-29T20:09:30.627874",
     "status": "completed"
    },
    "tags": []
   },
   "source": [
    "## Some checks"
   ]
  },
  {
   "cell_type": "code",
   "execution_count": 27,
   "id": "02e6758b-9e64-4829-bc64-ca0b08221d13",
   "metadata": {
    "execution": {
     "iopub.execute_input": "2022-08-29T20:09:30.667175Z",
     "iopub.status.busy": "2022-08-29T20:09:30.666900Z",
     "iopub.status.idle": "2022-08-29T20:09:30.696968Z",
     "shell.execute_reply": "2022-08-29T20:09:30.696313Z"
    },
    "papermill": {
     "duration": 0.046888,
     "end_time": "2022-08-29T20:09:30.699315",
     "exception": false,
     "start_time": "2022-08-29T20:09:30.652427",
     "status": "completed"
    },
    "tags": []
   },
   "outputs": [],
   "source": [
    "def load_df(output_dir, base_filename):\n",
    "    full_filepath = output_dir / (base_filename + \".npz\")\n",
    "\n",
    "    if base_filename in (\"metadata\", \"gene_names\"):\n",
    "        return np.load(full_filepath)[\"data\"]\n",
    "    else:\n",
    "        return sparse.load_npz(full_filepath).toarray()"
   ]
  },
  {
   "cell_type": "code",
   "execution_count": 28,
   "id": "38cf09b7",
   "metadata": {
    "execution": {
     "iopub.execute_input": "2022-08-29T20:09:30.724709Z",
     "iopub.status.busy": "2022-08-29T20:09:30.724450Z",
     "iopub.status.idle": "2022-08-29T20:09:30.754907Z",
     "shell.execute_reply": "2022-08-29T20:09:30.754193Z"
    },
    "papermill": {
     "duration": 0.04617,
     "end_time": "2022-08-29T20:09:30.757105",
     "exception": false,
     "start_time": "2022-08-29T20:09:30.710935",
     "status": "completed"
    },
    "tags": []
   },
   "outputs": [],
   "source": [
    "_genes = load_df(get_output_dir(orig_corr_name), \"gene_names\")"
   ]
  },
  {
   "cell_type": "code",
   "execution_count": 29,
   "id": "407e202b-5d10-47c5-b751-0d7b79fc32b7",
   "metadata": {
    "execution": {
     "iopub.execute_input": "2022-08-29T20:09:30.781222Z",
     "iopub.status.busy": "2022-08-29T20:09:30.780969Z",
     "iopub.status.idle": "2022-08-29T20:09:30.809319Z",
     "shell.execute_reply": "2022-08-29T20:09:30.808629Z"
    },
    "papermill": {
     "duration": 0.043172,
     "end_time": "2022-08-29T20:09:30.811449",
     "exception": false,
     "start_time": "2022-08-29T20:09:30.768277",
     "status": "completed"
    },
    "tags": []
   },
   "outputs": [
    {
     "data": {
      "text/plain": [
       "6428"
      ]
     },
     "metadata": {},
     "output_type": "display_data"
    }
   ],
   "source": [
    "display(len(_genes))\n",
    "assert len(_genes) == gene_corrs_dict[orig_corr_name].index.shape[0]"
   ]
  },
  {
   "cell_type": "code",
   "execution_count": 30,
   "id": "e66abf5b-ba1b-4f16-96a6-a48e9e7035cc",
   "metadata": {
    "execution": {
     "iopub.execute_input": "2022-08-29T20:09:30.836034Z",
     "iopub.status.busy": "2022-08-29T20:09:30.835814Z",
     "iopub.status.idle": "2022-08-29T20:09:30.862666Z",
     "shell.execute_reply": "2022-08-29T20:09:30.861985Z"
    },
    "papermill": {
     "duration": 0.041748,
     "end_time": "2022-08-29T20:09:30.864945",
     "exception": false,
     "start_time": "2022-08-29T20:09:30.823197",
     "status": "completed"
    },
    "tags": []
   },
   "outputs": [],
   "source": [
    "_metadata = load_df(get_output_dir(orig_corr_name), \"metadata\")"
   ]
  },
  {
   "cell_type": "code",
   "execution_count": 31,
   "id": "c4a58892-1b3f-414e-b5c3-da63a0f0e387",
   "metadata": {
    "execution": {
     "iopub.execute_input": "2022-08-29T20:09:30.889679Z",
     "iopub.status.busy": "2022-08-29T20:09:30.889427Z",
     "iopub.status.idle": "2022-08-29T20:09:30.918184Z",
     "shell.execute_reply": "2022-08-29T20:09:30.917513Z"
    },
    "papermill": {
     "duration": 0.043855,
     "end_time": "2022-08-29T20:09:30.920315",
     "exception": false,
     "start_time": "2022-08-29T20:09:30.876460",
     "status": "completed"
    },
    "tags": []
   },
   "outputs": [
    {
     "data": {
      "text/plain": [
       "array(['GTEX_V8', 'MASHR'], dtype='<U7')"
      ]
     },
     "metadata": {},
     "output_type": "display_data"
    }
   ],
   "source": [
    "display(_metadata)\n",
    "assert _metadata[0] == REFERENCE_PANEL\n",
    "assert _metadata[1] == EQTL_MODEL"
   ]
  },
  {
   "cell_type": "code",
   "execution_count": 32,
   "id": "e488e3a4-000d-498b-a489-5a4b98ab32b7",
   "metadata": {
    "execution": {
     "iopub.execute_input": "2022-08-29T20:09:30.946654Z",
     "iopub.status.busy": "2022-08-29T20:09:30.946405Z",
     "iopub.status.idle": "2022-08-29T20:09:33.239459Z",
     "shell.execute_reply": "2022-08-29T20:09:33.238699Z"
    },
    "papermill": {
     "duration": 2.309481,
     "end_time": "2022-08-29T20:09:33.241923",
     "exception": false,
     "start_time": "2022-08-29T20:09:30.932442",
     "status": "completed"
    },
    "tags": []
   },
   "outputs": [
    {
     "data": {
      "text/plain": [
       "array([[1., 0., 0., ..., 0., 0., 0.],\n",
       "       [0., 1., 0., ..., 0., 0., 0.],\n",
       "       [0., 0., 1., ..., 0., 0., 0.],\n",
       "       ...,\n",
       "       [0., 0., 0., ..., 1., 0., 0.],\n",
       "       [0., 0., 0., ..., 0., 1., 0.],\n",
       "       [0., 0., 0., ..., 0., 0., 1.]])"
      ]
     },
     "metadata": {},
     "output_type": "display_data"
    },
    {
     "data": {
      "text/plain": [
       "array([[1., 0., 0., ..., 0., 0., 0.],\n",
       "       [0., 1., 0., ..., 0., 0., 0.],\n",
       "       [0., 0., 1., ..., 0., 0., 0.],\n",
       "       ...,\n",
       "       [0., 0., 0., ..., 1., 0., 0.],\n",
       "       [0., 0., 0., ..., 0., 1., 0.],\n",
       "       [0., 0., 0., ..., 0., 0., 1.]])"
      ]
     },
     "metadata": {},
     "output_type": "display_data"
    },
    {
     "data": {
      "text/plain": [
       "array([[1., 0., 0., ..., 0., 0., 0.],\n",
       "       [0., 1., 0., ..., 0., 0., 0.],\n",
       "       [0., 0., 1., ..., 0., 0., 0.],\n",
       "       ...,\n",
       "       [0., 0., 0., ..., 1., 0., 0.],\n",
       "       [0., 0., 0., ..., 0., 1., 0.],\n",
       "       [0., 0., 0., ..., 0., 0., 1.]])"
      ]
     },
     "metadata": {},
     "output_type": "display_data"
    },
    {
     "data": {
      "text/plain": [
       "array([[1., 0., 0., ..., 0., 0., 0.],\n",
       "       [0., 1., 0., ..., 0., 0., 0.],\n",
       "       [0., 0., 1., ..., 0., 0., 0.],\n",
       "       ...,\n",
       "       [0., 0., 0., ..., 1., 0., 0.],\n",
       "       [0., 0., 0., ..., 0., 1., 0.],\n",
       "       [0., 0., 0., ..., 0., 0., 1.]])"
      ]
     },
     "metadata": {},
     "output_type": "display_data"
    }
   ],
   "source": [
    "all_lvs_inv = {}\n",
    "lv_prev = None\n",
    "\n",
    "for gene_corr_filename, _ in gene_corrs_dict.items():\n",
    "    output_dir = get_output_dir(gene_corr_filename)\n",
    "\n",
    "    lv_data = load_df(output_dir, LV_CODE)\n",
    "    display(lv_data)\n",
    "\n",
    "    if lv_prev is not None:\n",
    "        assert lv_data.shape == lv_prev.shape\n",
    "        assert not np.allclose(lv_data, lv_prev)\n",
    "\n",
    "    lv_prev = lv_data"
   ]
  },
  {
   "cell_type": "code",
   "execution_count": null,
   "id": "f02e1ec2-095a-4041-987a-bda1a33a9897",
   "metadata": {
    "papermill": {
     "duration": 0.013119,
     "end_time": "2022-08-29T20:09:33.269854",
     "exception": false,
     "start_time": "2022-08-29T20:09:33.256735",
     "status": "completed"
    },
    "tags": []
   },
   "outputs": [],
   "source": []
  }
 ],
 "metadata": {
  "jupytext": {
   "cell_metadata_filter": "all,-execution,-papermill,-trusted",
   "formats": "ipynb,py//py:percent"
  },
  "kernelspec": {
   "display_name": "Python 3 (ipykernel)",
   "language": "python",
   "name": "python3"
  },
  "language_info": {
   "codemirror_mode": {
    "name": "ipython",
    "version": 3
   },
   "file_extension": ".py",
   "mimetype": "text/x-python",
   "name": "python",
   "nbconvert_exporter": "python",
   "pygments_lexer": "ipython3",
   "version": "3.8.13"
  },
  "papermill": {
   "default_parameters": {},
   "duration": 144.189659,
   "end_time": "2022-08-29T20:09:33.713546",
   "environment_variables": {},
   "exception": null,
   "input_path": "nbs/15_gsa_gls/18-create_corr_mat_per_lv.ipynb",
   "output_path": "nbs/15_gsa_gls/gene_corrs/cohorts/phenomexcan_rapid_gwas/gtex_v8/mashr/18-corr_mat_per_lv/lv_perc-0.01/18-create_corr_mat_per_lv-LV100.run.ipynb",
   "parameters": {
    "COHORT_NAME": "phenomexcan_rapid_gwas",
    "EQTL_MODEL": "MASHR",
    "LV_CODE": "LV100",
    "LV_PERCENTILE": "0.01",
    "REFERENCE_PANEL": "GTEX_V8"
   },
   "start_time": "2022-08-29T20:07:09.523887",
   "version": "2.2.2"
  }
 },
 "nbformat": 4,
 "nbformat_minor": 5
}
