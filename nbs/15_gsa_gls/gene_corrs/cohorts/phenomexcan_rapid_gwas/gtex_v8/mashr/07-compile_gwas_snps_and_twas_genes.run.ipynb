{
 "cells": [
  {
   "cell_type": "markdown",
   "id": "7a6632fb",
   "metadata": {
    "papermill": {
     "duration": 0.049618,
     "end_time": "2022-08-27T04:15:52.044398",
     "exception": false,
     "start_time": "2022-08-27T04:15:51.994780",
     "status": "completed"
    },
    "tags": []
   },
   "source": [
    "# Description"
   ]
  },
  {
   "cell_type": "markdown",
   "id": "7097c346",
   "metadata": {
    "papermill": {
     "duration": 0.018101,
     "end_time": "2022-08-27T04:15:52.081057",
     "exception": false,
     "start_time": "2022-08-27T04:15:52.062956",
     "status": "completed"
    },
    "tags": []
   },
   "source": [
    "(Please, take a look at the README.md file in this directory for instructions on how to run this notebook)\n",
    "\n",
    "This notebook compiles information about the GWAS and TWAS for a particular cohort. For example, the set of GWAS variants, variance of predicted expression of genes, etc.\n",
    "\n",
    "It has specicfic parameters for papermill (see under `Settings` below).\n",
    "\n",
    "This notebook is not directly run. See README.md."
   ]
  },
  {
   "cell_type": "markdown",
   "id": "c61d8427",
   "metadata": {
    "papermill": {
     "duration": 0.018416,
     "end_time": "2022-08-27T04:15:52.117952",
     "exception": false,
     "start_time": "2022-08-27T04:15:52.099536",
     "status": "completed"
    },
    "tags": []
   },
   "source": [
    "# Modules"
   ]
  },
  {
   "cell_type": "code",
   "execution_count": 1,
   "id": "bbc0234f",
   "metadata": {
    "execution": {
     "iopub.execute_input": "2022-08-27T04:15:52.157012Z",
     "iopub.status.busy": "2022-08-27T04:15:52.156726Z",
     "iopub.status.idle": "2022-08-27T04:15:52.203814Z",
     "shell.execute_reply": "2022-08-27T04:15:52.203155Z"
    },
    "papermill": {
     "duration": 0.068396,
     "end_time": "2022-08-27T04:15:52.205438",
     "exception": false,
     "start_time": "2022-08-27T04:15:52.137042",
     "status": "completed"
    },
    "tags": []
   },
   "outputs": [],
   "source": [
    "%load_ext autoreload\n",
    "%autoreload 2"
   ]
  },
  {
   "cell_type": "code",
   "execution_count": 2,
   "id": "1d5f5a59",
   "metadata": {
    "execution": {
     "iopub.execute_input": "2022-08-27T04:15:52.244163Z",
     "iopub.status.busy": "2022-08-27T04:15:52.243979Z",
     "iopub.status.idle": "2022-08-27T04:15:53.670732Z",
     "shell.execute_reply": "2022-08-27T04:15:53.669857Z"
    },
    "papermill": {
     "duration": 1.448069,
     "end_time": "2022-08-27T04:15:53.672718",
     "exception": false,
     "start_time": "2022-08-27T04:15:52.224649",
     "status": "completed"
    },
    "tags": []
   },
   "outputs": [],
   "source": [
    "from pathlib import Path\n",
    "import pickle\n",
    "\n",
    "import numpy as np\n",
    "import pandas as pd\n",
    "\n",
    "import conf\n",
    "from entity import Gene"
   ]
  },
  {
   "cell_type": "markdown",
   "id": "1eac24b5",
   "metadata": {
    "papermill": {
     "duration": 0.018883,
     "end_time": "2022-08-27T04:15:53.710784",
     "exception": false,
     "start_time": "2022-08-27T04:15:53.691901",
     "status": "completed"
    },
    "tags": []
   },
   "source": [
    "# Settings"
   ]
  },
  {
   "cell_type": "code",
   "execution_count": 3,
   "id": "ca4560ba",
   "metadata": {
    "execution": {
     "iopub.execute_input": "2022-08-27T04:15:53.750099Z",
     "iopub.status.busy": "2022-08-27T04:15:53.749890Z",
     "iopub.status.idle": "2022-08-27T04:15:53.856994Z",
     "shell.execute_reply": "2022-08-27T04:15:53.856492Z"
    },
    "papermill": {
     "duration": 0.128613,
     "end_time": "2022-08-27T04:15:53.858537",
     "exception": false,
     "start_time": "2022-08-27T04:15:53.729924",
     "status": "completed"
    },
    "tags": [
     "parameters"
    ]
   },
   "outputs": [],
   "source": [
    "# a cohort name (it could be something like UK_BIOBANK, etc)\n",
    "COHORT_NAME = None\n",
    "\n",
    "# reference panel such as 1000G or GTEX_V8\n",
    "REFERENCE_PANEL = None\n",
    "\n",
    "# predictions models such as MASHR or ELASTIC_NET\n",
    "EQTL_MODEL = None\n",
    "\n",
    "# a string with a path pointing to an imputed GWAS\n",
    "GWAS_FILE = None\n",
    "\n",
    "# a string with a path pointing where S-PrediXcan results (tissue-specific are located\n",
    "SPREDIXCAN_FOLDER = None\n",
    "\n",
    "# an f-string with one placeholder {tissue}\n",
    "SPREDIXCAN_FILE_PATTERN = None\n",
    "\n",
    "# a string with a path pointing to an S-MultiXcan result\n",
    "SMULTIXCAN_FILE = None"
   ]
  },
  {
   "cell_type": "code",
   "execution_count": 4,
   "id": "1fa082c4",
   "metadata": {
    "execution": {
     "iopub.execute_input": "2022-08-27T04:15:53.896999Z",
     "iopub.status.busy": "2022-08-27T04:15:53.896807Z",
     "iopub.status.idle": "2022-08-27T04:15:53.909879Z",
     "shell.execute_reply": "2022-08-27T04:15:53.909374Z"
    },
    "papermill": {
     "duration": 0.033559,
     "end_time": "2022-08-27T04:15:53.911401",
     "exception": false,
     "start_time": "2022-08-27T04:15:53.877842",
     "status": "completed"
    },
    "tags": [
     "injected-parameters"
    ]
   },
   "outputs": [],
   "source": [
    "# Parameters\n",
    "COHORT_NAME = \"phenomexcan_rapid_gwas\"\n",
    "REFERENCE_PANEL = \"GTEX_V8\"\n",
    "EQTL_MODEL = \"MASHR\"\n",
    "GWAS_FILE = \"/project/ritchie20/projects/phenoplier/base/data/phenomexcan/gwas_parsing/full/22617_7112.txt.gz\"\n",
    "SPREDIXCAN_FOLDER = \"/project/ritchie20/projects/phenoplier/base/data/phenomexcan/spredixcan/rapid_gwas_project/22617_7112/\"\n",
    "SPREDIXCAN_FILE_PATTERN = \"22617_7112-gtex_v8-{tissue}-2018_10.csv\"\n",
    "SMULTIXCAN_FILE = \"/project/ritchie20/projects/phenoplier/base/data/phenomexcan/smultixcan/rapid_gwas_project/smultixcan_22617_7112_ccn30.tsv.gz\"\n"
   ]
  },
  {
   "cell_type": "code",
   "execution_count": 5,
   "id": "8fe24bef",
   "metadata": {
    "execution": {
     "iopub.execute_input": "2022-08-27T04:15:53.950705Z",
     "iopub.status.busy": "2022-08-27T04:15:53.950513Z",
     "iopub.status.idle": "2022-08-27T04:15:53.969807Z",
     "shell.execute_reply": "2022-08-27T04:15:53.969129Z"
    },
    "papermill": {
     "duration": 0.039842,
     "end_time": "2022-08-27T04:15:53.971236",
     "exception": false,
     "start_time": "2022-08-27T04:15:53.931394",
     "status": "completed"
    },
    "tags": []
   },
   "outputs": [
    {
     "data": {
      "text/plain": [
       "'Cohort name: phenomexcan_rapid_gwas'"
      ]
     },
     "metadata": {},
     "output_type": "display_data"
    }
   ],
   "source": [
    "assert COHORT_NAME is not None and len(COHORT_NAME) > 0, \"A cohort name must be given\"\n",
    "\n",
    "COHORT_NAME = COHORT_NAME.lower()\n",
    "display(f\"Cohort name: {COHORT_NAME}\")"
   ]
  },
  {
   "cell_type": "code",
   "execution_count": 6,
   "id": "f53ba19b-0f93-4fa2-a047-63b375939d1a",
   "metadata": {
    "execution": {
     "iopub.execute_input": "2022-08-27T04:15:54.009351Z",
     "iopub.status.busy": "2022-08-27T04:15:54.009159Z",
     "iopub.status.idle": "2022-08-27T04:15:54.023702Z",
     "shell.execute_reply": "2022-08-27T04:15:54.022976Z"
    },
    "papermill": {
     "duration": 0.03547,
     "end_time": "2022-08-27T04:15:54.025252",
     "exception": false,
     "start_time": "2022-08-27T04:15:53.989782",
     "status": "completed"
    },
    "tags": []
   },
   "outputs": [
    {
     "data": {
      "text/plain": [
       "'Reference panel: GTEX_V8'"
      ]
     },
     "metadata": {},
     "output_type": "display_data"
    }
   ],
   "source": [
    "assert (\n",
    "    REFERENCE_PANEL is not None and len(REFERENCE_PANEL) > 0\n",
    "), \"A reference panel must be given\"\n",
    "\n",
    "display(f\"Reference panel: {REFERENCE_PANEL}\")"
   ]
  },
  {
   "cell_type": "code",
   "execution_count": 7,
   "id": "7a970044-2d34-4e5b-a850-eff44079afe8",
   "metadata": {
    "execution": {
     "iopub.execute_input": "2022-08-27T04:15:54.064818Z",
     "iopub.status.busy": "2022-08-27T04:15:54.064618Z",
     "iopub.status.idle": "2022-08-27T04:15:54.080325Z",
     "shell.execute_reply": "2022-08-27T04:15:54.079558Z"
    },
    "papermill": {
     "duration": 0.037628,
     "end_time": "2022-08-27T04:15:54.081856",
     "exception": false,
     "start_time": "2022-08-27T04:15:54.044228",
     "status": "completed"
    },
    "tags": []
   },
   "outputs": [
    {
     "data": {
      "text/plain": [
       "'GWAS file path: /project/ritchie20/projects/phenoplier/base/data/phenomexcan/gwas_parsing/full/22617_7112.txt.gz'"
      ]
     },
     "metadata": {},
     "output_type": "display_data"
    }
   ],
   "source": [
    "assert GWAS_FILE is not None and len(GWAS_FILE) > 0, \"A GWAS file path must be given\"\n",
    "GWAS_FILE = Path(GWAS_FILE).resolve()\n",
    "assert GWAS_FILE.exists(), \"GWAS file does not exist\"\n",
    "\n",
    "display(f\"GWAS file path: {str(GWAS_FILE)}\")"
   ]
  },
  {
   "cell_type": "code",
   "execution_count": 8,
   "id": "552a7f63-a18c-4d3e-bb6a-94f99b431291",
   "metadata": {
    "execution": {
     "iopub.execute_input": "2022-08-27T04:15:54.121369Z",
     "iopub.status.busy": "2022-08-27T04:15:54.121178Z",
     "iopub.status.idle": "2022-08-27T04:15:54.137443Z",
     "shell.execute_reply": "2022-08-27T04:15:54.136947Z"
    },
    "papermill": {
     "duration": 0.037909,
     "end_time": "2022-08-27T04:15:54.138890",
     "exception": false,
     "start_time": "2022-08-27T04:15:54.100981",
     "status": "completed"
    },
    "tags": []
   },
   "outputs": [
    {
     "data": {
      "text/plain": [
       "'S-PrediXcan folder path: /project/ritchie20/projects/phenoplier/base/data/phenomexcan/spredixcan/rapid_gwas_project/22617_7112'"
      ]
     },
     "metadata": {},
     "output_type": "display_data"
    }
   ],
   "source": [
    "assert (\n",
    "    SPREDIXCAN_FOLDER is not None and len(SPREDIXCAN_FOLDER) > 0\n",
    "), \"An S-PrediXcan folder path must be given\"\n",
    "SPREDIXCAN_FOLDER = Path(SPREDIXCAN_FOLDER).resolve()\n",
    "assert SPREDIXCAN_FOLDER.exists(), \"S-PrediXcan folder does not exist\"\n",
    "\n",
    "display(f\"S-PrediXcan folder path: {str(SPREDIXCAN_FOLDER)}\")"
   ]
  },
  {
   "cell_type": "code",
   "execution_count": 9,
   "id": "6e2000dc-f1dc-4db8-93d5-9a7209a2e121",
   "metadata": {
    "execution": {
     "iopub.execute_input": "2022-08-27T04:15:54.178822Z",
     "iopub.status.busy": "2022-08-27T04:15:54.178608Z",
     "iopub.status.idle": "2022-08-27T04:15:54.193273Z",
     "shell.execute_reply": "2022-08-27T04:15:54.192723Z"
    },
    "papermill": {
     "duration": 0.036195,
     "end_time": "2022-08-27T04:15:54.194874",
     "exception": false,
     "start_time": "2022-08-27T04:15:54.158679",
     "status": "completed"
    },
    "tags": []
   },
   "outputs": [
    {
     "data": {
      "text/plain": [
       "'S-PrediXcan file template: 22617_7112-gtex_v8-{tissue}-2018_10.csv'"
      ]
     },
     "metadata": {},
     "output_type": "display_data"
    }
   ],
   "source": [
    "assert (\n",
    "    SPREDIXCAN_FILE_PATTERN is not None and len(SPREDIXCAN_FILE_PATTERN) > 0\n",
    "), \"An S-PrediXcan file pattern must be given\"\n",
    "assert (\n",
    "    \"{tissue}\" in SPREDIXCAN_FILE_PATTERN\n",
    "), \"S-PrediXcan file pattern must have a '{tissue}' placeholder\"\n",
    "\n",
    "display(f\"S-PrediXcan file template: {SPREDIXCAN_FILE_PATTERN}\")"
   ]
  },
  {
   "cell_type": "code",
   "execution_count": 10,
   "id": "f5a5aa9d-c6f3-4fb5-9351-37382b6e67bc",
   "metadata": {
    "execution": {
     "iopub.execute_input": "2022-08-27T04:15:54.235992Z",
     "iopub.status.busy": "2022-08-27T04:15:54.235802Z",
     "iopub.status.idle": "2022-08-27T04:15:54.252990Z",
     "shell.execute_reply": "2022-08-27T04:15:54.252464Z"
    },
    "papermill": {
     "duration": 0.039672,
     "end_time": "2022-08-27T04:15:54.254516",
     "exception": false,
     "start_time": "2022-08-27T04:15:54.214844",
     "status": "completed"
    },
    "tags": []
   },
   "outputs": [
    {
     "data": {
      "text/plain": [
       "'S-MultiXcan file path: /project/ritchie20/projects/phenoplier/base/data/phenomexcan/smultixcan/rapid_gwas_project/smultixcan_22617_7112_ccn30.tsv.gz'"
      ]
     },
     "metadata": {},
     "output_type": "display_data"
    }
   ],
   "source": [
    "assert (\n",
    "    SMULTIXCAN_FILE is not None and len(SMULTIXCAN_FILE) > 0\n",
    "), \"An S-MultiXcan result file path must be given\"\n",
    "SMULTIXCAN_FILE = Path(SMULTIXCAN_FILE).resolve()\n",
    "assert SMULTIXCAN_FILE.exists(), \"S-MultiXcan result file does not exist\"\n",
    "\n",
    "display(f\"S-MultiXcan file path: {str(SMULTIXCAN_FILE)}\")"
   ]
  },
  {
   "cell_type": "code",
   "execution_count": 11,
   "id": "0723dc2f-34d1-407c-a55b-d6d13c55d63d",
   "metadata": {
    "execution": {
     "iopub.execute_input": "2022-08-27T04:15:54.295786Z",
     "iopub.status.busy": "2022-08-27T04:15:54.295560Z",
     "iopub.status.idle": "2022-08-27T04:15:54.312916Z",
     "shell.execute_reply": "2022-08-27T04:15:54.312378Z"
    },
    "papermill": {
     "duration": 0.039674,
     "end_time": "2022-08-27T04:15:54.314461",
     "exception": false,
     "start_time": "2022-08-27T04:15:54.274787",
     "status": "completed"
    },
    "tags": []
   },
   "outputs": [
    {
     "data": {
      "text/plain": [
       "'eQTL model: MASHR'"
      ]
     },
     "metadata": {},
     "output_type": "display_data"
    }
   ],
   "source": [
    "assert (\n",
    "    EQTL_MODEL is not None and len(EQTL_MODEL) > 0\n",
    "), \"A prediction/eQTL model must be given\"\n",
    "\n",
    "display(f\"eQTL model: {EQTL_MODEL}\")"
   ]
  },
  {
   "cell_type": "code",
   "execution_count": 12,
   "id": "396392dc-0340-4540-9b02-e182b833f909",
   "metadata": {
    "execution": {
     "iopub.execute_input": "2022-08-27T04:15:54.356092Z",
     "iopub.status.busy": "2022-08-27T04:15:54.355886Z",
     "iopub.status.idle": "2022-08-27T04:15:54.374359Z",
     "shell.execute_reply": "2022-08-27T04:15:54.373822Z"
    },
    "papermill": {
     "duration": 0.041091,
     "end_time": "2022-08-27T04:15:54.375843",
     "exception": false,
     "start_time": "2022-08-27T04:15:54.334752",
     "status": "completed"
    },
    "tags": []
   },
   "outputs": [
    {
     "data": {
      "text/plain": [
       "'Using output dir base: /project/ritchie20/projects/phenoplier/base/results/gls/gene_corrs/cohorts/phenomexcan_rapid_gwas/gtex_v8/mashr'"
      ]
     },
     "metadata": {},
     "output_type": "display_data"
    }
   ],
   "source": [
    "OUTPUT_DIR_BASE = (\n",
    "    conf.RESULTS[\"GLS\"]\n",
    "    / \"gene_corrs\"\n",
    "    / \"cohorts\"\n",
    "    / COHORT_NAME\n",
    "    / REFERENCE_PANEL.lower()\n",
    "    / EQTL_MODEL.lower()\n",
    ")\n",
    "\n",
    "OUTPUT_DIR_BASE.mkdir(parents=True, exist_ok=True)\n",
    "\n",
    "display(f\"Using output dir base: {OUTPUT_DIR_BASE}\")"
   ]
  },
  {
   "cell_type": "markdown",
   "id": "b6ebb422-8204-494b-8c72-360a71ce9863",
   "metadata": {
    "papermill": {
     "duration": 0.020279,
     "end_time": "2022-08-27T04:15:54.416856",
     "exception": false,
     "start_time": "2022-08-27T04:15:54.396577",
     "status": "completed"
    },
    "tags": []
   },
   "source": [
    "# Load MultiPLIER Z genes"
   ]
  },
  {
   "cell_type": "code",
   "execution_count": 13,
   "id": "c48ef527",
   "metadata": {
    "execution": {
     "iopub.execute_input": "2022-08-27T04:15:54.458936Z",
     "iopub.status.busy": "2022-08-27T04:15:54.458702Z",
     "iopub.status.idle": "2022-08-27T04:15:54.536092Z",
     "shell.execute_reply": "2022-08-27T04:15:54.535446Z"
    },
    "papermill": {
     "duration": 0.101145,
     "end_time": "2022-08-27T04:15:54.538172",
     "exception": false,
     "start_time": "2022-08-27T04:15:54.437027",
     "status": "completed"
    },
    "tags": []
   },
   "outputs": [],
   "source": [
    "multiplier_z_genes = pd.read_pickle(\n",
    "    conf.MULTIPLIER[\"MODEL_Z_MATRIX_FILE\"]\n",
    ").index.tolist()"
   ]
  },
  {
   "cell_type": "code",
   "execution_count": 14,
   "id": "0a4ecbd9",
   "metadata": {
    "execution": {
     "iopub.execute_input": "2022-08-27T04:15:54.581690Z",
     "iopub.status.busy": "2022-08-27T04:15:54.581472Z",
     "iopub.status.idle": "2022-08-27T04:15:54.599928Z",
     "shell.execute_reply": "2022-08-27T04:15:54.599386Z"
    },
    "papermill": {
     "duration": 0.041665,
     "end_time": "2022-08-27T04:15:54.601440",
     "exception": false,
     "start_time": "2022-08-27T04:15:54.559775",
     "status": "completed"
    },
    "tags": []
   },
   "outputs": [
    {
     "data": {
      "text/plain": [
       "6750"
      ]
     },
     "execution_count": 14,
     "metadata": {},
     "output_type": "execute_result"
    }
   ],
   "source": [
    "len(multiplier_z_genes)"
   ]
  },
  {
   "cell_type": "code",
   "execution_count": 15,
   "id": "a18ce359-0759-4260-ae6f-053e8c0041b7",
   "metadata": {
    "execution": {
     "iopub.execute_input": "2022-08-27T04:15:54.644284Z",
     "iopub.status.busy": "2022-08-27T04:15:54.644078Z",
     "iopub.status.idle": "2022-08-27T04:15:54.658675Z",
     "shell.execute_reply": "2022-08-27T04:15:54.658066Z"
    },
    "papermill": {
     "duration": 0.038124,
     "end_time": "2022-08-27T04:15:54.660397",
     "exception": false,
     "start_time": "2022-08-27T04:15:54.622273",
     "status": "completed"
    },
    "tags": []
   },
   "outputs": [],
   "source": [
    "assert len(multiplier_z_genes) == len(set(multiplier_z_genes))"
   ]
  },
  {
   "cell_type": "code",
   "execution_count": 16,
   "id": "115e8864",
   "metadata": {
    "execution": {
     "iopub.execute_input": "2022-08-27T04:15:54.703398Z",
     "iopub.status.busy": "2022-08-27T04:15:54.703167Z",
     "iopub.status.idle": "2022-08-27T04:15:54.719528Z",
     "shell.execute_reply": "2022-08-27T04:15:54.718918Z"
    },
    "papermill": {
     "duration": 0.039649,
     "end_time": "2022-08-27T04:15:54.721161",
     "exception": false,
     "start_time": "2022-08-27T04:15:54.681512",
     "status": "completed"
    },
    "tags": []
   },
   "outputs": [
    {
     "data": {
      "text/plain": [
       "['GAS6', 'MMP14', 'DSP', 'MARCKSL1', 'SPARC']"
      ]
     },
     "execution_count": 16,
     "metadata": {},
     "output_type": "execute_result"
    }
   ],
   "source": [
    "multiplier_z_genes[:5]"
   ]
  },
  {
   "cell_type": "markdown",
   "id": "7bed0ce0-e7c7-4300-9a61-5412450b1904",
   "metadata": {
    "papermill": {
     "duration": 0.021169,
     "end_time": "2022-08-27T04:15:54.762581",
     "exception": false,
     "start_time": "2022-08-27T04:15:54.741412",
     "status": "completed"
    },
    "tags": []
   },
   "source": [
    "# GWAS"
   ]
  },
  {
   "cell_type": "code",
   "execution_count": 17,
   "id": "331e5691-c014-43e4-b94c-060c64d329df",
   "metadata": {
    "execution": {
     "iopub.execute_input": "2022-08-27T04:15:54.802751Z",
     "iopub.status.busy": "2022-08-27T04:15:54.802524Z",
     "iopub.status.idle": "2022-08-27T04:15:54.826485Z",
     "shell.execute_reply": "2022-08-27T04:15:54.825931Z"
    },
    "papermill": {
     "duration": 0.046133,
     "end_time": "2022-08-27T04:15:54.828354",
     "exception": false,
     "start_time": "2022-08-27T04:15:54.782221",
     "status": "completed"
    },
    "tags": []
   },
   "outputs": [],
   "source": [
    "gwas_file_columns = pd.read_csv(GWAS_FILE, sep=\"\\t\", nrows=2).columns\n",
    "assert (\n",
    "    \"panel_variant_id\" in gwas_file_columns\n",
    "), \"GWAS file must be final imputed one with column 'panel_variant_id'\"\n",
    "# FIXME: add other needed columns here"
   ]
  },
  {
   "cell_type": "code",
   "execution_count": 18,
   "id": "8d419629-8f4d-4c83-bed3-cfc071a58090",
   "metadata": {
    "execution": {
     "iopub.execute_input": "2022-08-27T04:15:54.871637Z",
     "iopub.status.busy": "2022-08-27T04:15:54.871439Z",
     "iopub.status.idle": "2022-08-27T04:16:09.285356Z",
     "shell.execute_reply": "2022-08-27T04:16:09.284428Z"
    },
    "papermill": {
     "duration": 14.437936,
     "end_time": "2022-08-27T04:16:09.287527",
     "exception": false,
     "start_time": "2022-08-27T04:15:54.849591",
     "status": "completed"
    },
    "tags": []
   },
   "outputs": [],
   "source": [
    "gwas_data = pd.read_csv(\n",
    "    GWAS_FILE,\n",
    "    sep=\"\\t\",\n",
    "    usecols=[\"panel_variant_id\", \"pvalue\", \"zscore\"],\n",
    ")"
   ]
  },
  {
   "cell_type": "code",
   "execution_count": 19,
   "id": "3f4e814e-6b41-407e-9099-86795eec6ed9",
   "metadata": {
    "execution": {
     "iopub.execute_input": "2022-08-27T04:16:09.332623Z",
     "iopub.status.busy": "2022-08-27T04:16:09.332347Z",
     "iopub.status.idle": "2022-08-27T04:16:09.352926Z",
     "shell.execute_reply": "2022-08-27T04:16:09.352372Z"
    },
    "papermill": {
     "duration": 0.045036,
     "end_time": "2022-08-27T04:16:09.354475",
     "exception": false,
     "start_time": "2022-08-27T04:16:09.309439",
     "status": "completed"
    },
    "tags": []
   },
   "outputs": [
    {
     "data": {
      "text/plain": [
       "(8496088, 3)"
      ]
     },
     "execution_count": 19,
     "metadata": {},
     "output_type": "execute_result"
    }
   ],
   "source": [
    "gwas_data.shape"
   ]
  },
  {
   "cell_type": "code",
   "execution_count": 20,
   "id": "b4a906e9-c80a-47fc-9d73-5adb046f8b76",
   "metadata": {
    "execution": {
     "iopub.execute_input": "2022-08-27T04:16:09.397663Z",
     "iopub.status.busy": "2022-08-27T04:16:09.397412Z",
     "iopub.status.idle": "2022-08-27T04:16:09.421284Z",
     "shell.execute_reply": "2022-08-27T04:16:09.420705Z"
    },
    "papermill": {
     "duration": 0.047392,
     "end_time": "2022-08-27T04:16:09.422854",
     "exception": false,
     "start_time": "2022-08-27T04:16:09.375462",
     "status": "completed"
    },
    "tags": []
   },
   "outputs": [
    {
     "data": {
      "text/html": [
       "<div>\n",
       "<style scoped>\n",
       "    .dataframe tbody tr th:only-of-type {\n",
       "        vertical-align: middle;\n",
       "    }\n",
       "\n",
       "    .dataframe tbody tr th {\n",
       "        vertical-align: top;\n",
       "    }\n",
       "\n",
       "    .dataframe thead th {\n",
       "        text-align: right;\n",
       "    }\n",
       "</style>\n",
       "<table border=\"1\" class=\"dataframe\">\n",
       "  <thead>\n",
       "    <tr style=\"text-align: right;\">\n",
       "      <th></th>\n",
       "      <th>panel_variant_id</th>\n",
       "      <th>pvalue</th>\n",
       "      <th>zscore</th>\n",
       "    </tr>\n",
       "  </thead>\n",
       "  <tbody>\n",
       "    <tr>\n",
       "      <th>0</th>\n",
       "      <td>chr1_758351_A_G_b38</td>\n",
       "      <td>0.578713</td>\n",
       "      <td>-0.555266</td>\n",
       "    </tr>\n",
       "    <tr>\n",
       "      <th>1</th>\n",
       "      <td>chr1_772142_G_C_b38</td>\n",
       "      <td>0.796380</td>\n",
       "      <td>-0.258035</td>\n",
       "    </tr>\n",
       "    <tr>\n",
       "      <th>2</th>\n",
       "      <td>chr1_782207_G_A_b38</td>\n",
       "      <td>0.478521</td>\n",
       "      <td>0.708683</td>\n",
       "    </tr>\n",
       "    <tr>\n",
       "      <th>3</th>\n",
       "      <td>chr1_794707_T_C_b38</td>\n",
       "      <td>0.941964</td>\n",
       "      <td>0.072802</td>\n",
       "    </tr>\n",
       "    <tr>\n",
       "      <th>4</th>\n",
       "      <td>chr1_796338_T_C_b38</td>\n",
       "      <td>0.449287</td>\n",
       "      <td>-0.756605</td>\n",
       "    </tr>\n",
       "  </tbody>\n",
       "</table>\n",
       "</div>"
      ],
      "text/plain": [
       "      panel_variant_id    pvalue    zscore\n",
       "0  chr1_758351_A_G_b38  0.578713 -0.555266\n",
       "1  chr1_772142_G_C_b38  0.796380 -0.258035\n",
       "2  chr1_782207_G_A_b38  0.478521  0.708683\n",
       "3  chr1_794707_T_C_b38  0.941964  0.072802\n",
       "4  chr1_796338_T_C_b38  0.449287 -0.756605"
      ]
     },
     "execution_count": 20,
     "metadata": {},
     "output_type": "execute_result"
    }
   ],
   "source": [
    "gwas_data.head()"
   ]
  },
  {
   "cell_type": "code",
   "execution_count": 21,
   "id": "033c24fb-9c60-4ffd-929e-b0e6089820ae",
   "metadata": {
    "execution": {
     "iopub.execute_input": "2022-08-27T04:16:09.466902Z",
     "iopub.status.busy": "2022-08-27T04:16:09.466641Z",
     "iopub.status.idle": "2022-08-27T04:16:10.210696Z",
     "shell.execute_reply": "2022-08-27T04:16:10.210127Z"
    },
    "papermill": {
     "duration": 0.76794,
     "end_time": "2022-08-27T04:16:10.212379",
     "exception": false,
     "start_time": "2022-08-27T04:16:09.444439",
     "status": "completed"
    },
    "tags": []
   },
   "outputs": [
    {
     "data": {
      "text/plain": [
       "(8496088, 3)"
      ]
     },
     "execution_count": 21,
     "metadata": {},
     "output_type": "execute_result"
    }
   ],
   "source": [
    "gwas_data.dropna().shape"
   ]
  },
  {
   "cell_type": "code",
   "execution_count": 22,
   "id": "28232ce5-0afd-464e-9be3-64c3a68c2b25",
   "metadata": {
    "execution": {
     "iopub.execute_input": "2022-08-27T04:16:10.256457Z",
     "iopub.status.busy": "2022-08-27T04:16:10.256191Z",
     "iopub.status.idle": "2022-08-27T04:16:10.941299Z",
     "shell.execute_reply": "2022-08-27T04:16:10.940675Z"
    },
    "papermill": {
     "duration": 0.709322,
     "end_time": "2022-08-27T04:16:10.943283",
     "exception": false,
     "start_time": "2022-08-27T04:16:10.233961",
     "status": "completed"
    },
    "tags": []
   },
   "outputs": [],
   "source": [
    "# remove SNPs with no results\n",
    "gwas_data = gwas_data.dropna()"
   ]
  },
  {
   "cell_type": "code",
   "execution_count": 23,
   "id": "d9a6c31f-eedd-43e5-b762-5a9663be1b77",
   "metadata": {
    "execution": {
     "iopub.execute_input": "2022-08-27T04:16:10.988994Z",
     "iopub.status.busy": "2022-08-27T04:16:10.988705Z",
     "iopub.status.idle": "2022-08-27T04:16:11.006776Z",
     "shell.execute_reply": "2022-08-27T04:16:11.006199Z"
    },
    "papermill": {
     "duration": 0.042969,
     "end_time": "2022-08-27T04:16:11.008361",
     "exception": false,
     "start_time": "2022-08-27T04:16:10.965392",
     "status": "completed"
    },
    "tags": []
   },
   "outputs": [
    {
     "data": {
      "text/plain": [
       "(8496088, 3)"
      ]
     },
     "execution_count": 23,
     "metadata": {},
     "output_type": "execute_result"
    }
   ],
   "source": [
    "gwas_data.shape"
   ]
  },
  {
   "cell_type": "markdown",
   "id": "8da344de-2aa5-48a9-98ec-e8c3397ae7e6",
   "metadata": {
    "papermill": {
     "duration": 0.021486,
     "end_time": "2022-08-27T04:16:11.051561",
     "exception": false,
     "start_time": "2022-08-27T04:16:11.030075",
     "status": "completed"
    },
    "tags": []
   },
   "source": [
    "## Save GWAS variants"
   ]
  },
  {
   "cell_type": "code",
   "execution_count": 24,
   "id": "ac11fb33-ea3c-4d5c-a90b-0ceebdac43d3",
   "metadata": {
    "execution": {
     "iopub.execute_input": "2022-08-27T04:16:11.095972Z",
     "iopub.status.busy": "2022-08-27T04:16:11.095682Z",
     "iopub.status.idle": "2022-08-27T04:16:11.117125Z",
     "shell.execute_reply": "2022-08-27T04:16:11.116568Z"
    },
    "papermill": {
     "duration": 0.045577,
     "end_time": "2022-08-27T04:16:11.118695",
     "exception": false,
     "start_time": "2022-08-27T04:16:11.073118",
     "status": "completed"
    },
    "tags": []
   },
   "outputs": [
    {
     "data": {
      "text/html": [
       "<div>\n",
       "<style scoped>\n",
       "    .dataframe tbody tr th:only-of-type {\n",
       "        vertical-align: middle;\n",
       "    }\n",
       "\n",
       "    .dataframe tbody tr th {\n",
       "        vertical-align: top;\n",
       "    }\n",
       "\n",
       "    .dataframe thead th {\n",
       "        text-align: right;\n",
       "    }\n",
       "</style>\n",
       "<table border=\"1\" class=\"dataframe\">\n",
       "  <thead>\n",
       "    <tr style=\"text-align: right;\">\n",
       "      <th></th>\n",
       "      <th>panel_variant_id</th>\n",
       "      <th>pvalue</th>\n",
       "      <th>zscore</th>\n",
       "    </tr>\n",
       "  </thead>\n",
       "  <tbody>\n",
       "    <tr>\n",
       "      <th>0</th>\n",
       "      <td>chr1_758351_A_G_b38</td>\n",
       "      <td>0.578713</td>\n",
       "      <td>-0.555266</td>\n",
       "    </tr>\n",
       "    <tr>\n",
       "      <th>1</th>\n",
       "      <td>chr1_772142_G_C_b38</td>\n",
       "      <td>0.796380</td>\n",
       "      <td>-0.258035</td>\n",
       "    </tr>\n",
       "    <tr>\n",
       "      <th>2</th>\n",
       "      <td>chr1_782207_G_A_b38</td>\n",
       "      <td>0.478521</td>\n",
       "      <td>0.708683</td>\n",
       "    </tr>\n",
       "    <tr>\n",
       "      <th>3</th>\n",
       "      <td>chr1_794707_T_C_b38</td>\n",
       "      <td>0.941964</td>\n",
       "      <td>0.072802</td>\n",
       "    </tr>\n",
       "    <tr>\n",
       "      <th>4</th>\n",
       "      <td>chr1_796338_T_C_b38</td>\n",
       "      <td>0.449287</td>\n",
       "      <td>-0.756605</td>\n",
       "    </tr>\n",
       "  </tbody>\n",
       "</table>\n",
       "</div>"
      ],
      "text/plain": [
       "      panel_variant_id    pvalue    zscore\n",
       "0  chr1_758351_A_G_b38  0.578713 -0.555266\n",
       "1  chr1_772142_G_C_b38  0.796380 -0.258035\n",
       "2  chr1_782207_G_A_b38  0.478521  0.708683\n",
       "3  chr1_794707_T_C_b38  0.941964  0.072802\n",
       "4  chr1_796338_T_C_b38  0.449287 -0.756605"
      ]
     },
     "execution_count": 24,
     "metadata": {},
     "output_type": "execute_result"
    }
   ],
   "source": [
    "gwas_data.head()"
   ]
  },
  {
   "cell_type": "code",
   "execution_count": 25,
   "id": "5f34bb3d-761a-4860-a179-77ea5f5784ad",
   "metadata": {
    "execution": {
     "iopub.execute_input": "2022-08-27T04:16:11.170532Z",
     "iopub.status.busy": "2022-08-27T04:16:11.170267Z",
     "iopub.status.idle": "2022-08-27T04:16:15.464991Z",
     "shell.execute_reply": "2022-08-27T04:16:15.464348Z"
    },
    "papermill": {
     "duration": 4.319703,
     "end_time": "2022-08-27T04:16:15.466931",
     "exception": false,
     "start_time": "2022-08-27T04:16:11.147228",
     "status": "completed"
    },
    "tags": []
   },
   "outputs": [],
   "source": [
    "assert gwas_data[\"panel_variant_id\"].is_unique"
   ]
  },
  {
   "cell_type": "code",
   "execution_count": 26,
   "id": "d4f23b2f-01a3-4a45-a2b6-31b245b5778e",
   "metadata": {
    "execution": {
     "iopub.execute_input": "2022-08-27T04:16:15.512763Z",
     "iopub.status.busy": "2022-08-27T04:16:15.512495Z",
     "iopub.status.idle": "2022-08-27T04:16:18.116813Z",
     "shell.execute_reply": "2022-08-27T04:16:18.116108Z"
    },
    "papermill": {
     "duration": 2.629042,
     "end_time": "2022-08-27T04:16:18.118632",
     "exception": false,
     "start_time": "2022-08-27T04:16:15.489590",
     "status": "completed"
    },
    "tags": []
   },
   "outputs": [
    {
     "data": {
      "text/plain": [
       "['chr17_68348562_C_T_b38',\n",
       " 'chr17_3900049_C_T_b38',\n",
       " 'chr4_70352793_G_A_b38',\n",
       " 'chr4_161592585_G_A_b38',\n",
       " 'chr6_24492469_G_A_b38']"
      ]
     },
     "execution_count": 26,
     "metadata": {},
     "output_type": "execute_result"
    }
   ],
   "source": [
    "gwas_variants_ids_set = frozenset(gwas_data[\"panel_variant_id\"])\n",
    "list(gwas_variants_ids_set)[:5]"
   ]
  },
  {
   "cell_type": "code",
   "execution_count": 27,
   "id": "b4a441df-07d7-48dc-be36-cdb3f92be651",
   "metadata": {
    "execution": {
     "iopub.execute_input": "2022-08-27T04:16:18.165309Z",
     "iopub.status.busy": "2022-08-27T04:16:18.165034Z",
     "iopub.status.idle": "2022-08-27T04:16:21.373811Z",
     "shell.execute_reply": "2022-08-27T04:16:21.373182Z"
    },
    "papermill": {
     "duration": 3.234495,
     "end_time": "2022-08-27T04:16:21.375791",
     "exception": false,
     "start_time": "2022-08-27T04:16:18.141296",
     "status": "completed"
    },
    "tags": []
   },
   "outputs": [],
   "source": [
    "with open(OUTPUT_DIR_BASE / \"gwas_variant_ids.pkl\", \"wb\") as handle:\n",
    "    pickle.dump(gwas_variants_ids_set, handle, protocol=pickle.HIGHEST_PROTOCOL)"
   ]
  },
  {
   "cell_type": "markdown",
   "id": "abcc4b3d",
   "metadata": {
    "papermill": {
     "duration": 0.022304,
     "end_time": "2022-08-27T04:16:21.421233",
     "exception": false,
     "start_time": "2022-08-27T04:16:21.398929",
     "status": "completed"
    },
    "tags": []
   },
   "source": [
    "# TWAS"
   ]
  },
  {
   "cell_type": "markdown",
   "id": "2fbc7358-0563-4fc6-bc47-a0fbcc5cdfd4",
   "metadata": {
    "papermill": {
     "duration": 0.021702,
     "end_time": "2022-08-27T04:16:21.464868",
     "exception": false,
     "start_time": "2022-08-27T04:16:21.443166",
     "status": "completed"
    },
    "tags": []
   },
   "source": [
    "## Available tissues for eQTL model"
   ]
  },
  {
   "cell_type": "code",
   "execution_count": 28,
   "id": "f32c0a84-030a-436b-b597-852b6150d2ac",
   "metadata": {
    "execution": {
     "iopub.execute_input": "2022-08-27T04:16:21.510027Z",
     "iopub.status.busy": "2022-08-27T04:16:21.509754Z",
     "iopub.status.idle": "2022-08-27T04:16:21.574155Z",
     "shell.execute_reply": "2022-08-27T04:16:21.573560Z"
    },
    "papermill": {
     "duration": 0.089415,
     "end_time": "2022-08-27T04:16:21.576094",
     "exception": false,
     "start_time": "2022-08-27T04:16:21.486679",
     "status": "completed"
    },
    "tags": []
   },
   "outputs": [],
   "source": [
    "prediction_model_tissues = conf.PHENOMEXCAN[\"PREDICTION_MODELS\"][\n",
    "    f\"{EQTL_MODEL}_TISSUES\"\n",
    "].split(\" \")"
   ]
  },
  {
   "cell_type": "code",
   "execution_count": 29,
   "id": "0e760d0e-f23d-4590-abfb-811a43f7c237",
   "metadata": {
    "execution": {
     "iopub.execute_input": "2022-08-27T04:16:21.622281Z",
     "iopub.status.busy": "2022-08-27T04:16:21.622016Z",
     "iopub.status.idle": "2022-08-27T04:16:21.639604Z",
     "shell.execute_reply": "2022-08-27T04:16:21.639058Z"
    },
    "papermill": {
     "duration": 0.04252,
     "end_time": "2022-08-27T04:16:21.641179",
     "exception": false,
     "start_time": "2022-08-27T04:16:21.598659",
     "status": "completed"
    },
    "tags": []
   },
   "outputs": [
    {
     "data": {
      "text/plain": [
       "49"
      ]
     },
     "execution_count": 29,
     "metadata": {},
     "output_type": "execute_result"
    }
   ],
   "source": [
    "len(prediction_model_tissues)"
   ]
  },
  {
   "cell_type": "code",
   "execution_count": 30,
   "id": "fa4d942c-cd67-4b31-9491-585c887c0ee3",
   "metadata": {
    "execution": {
     "iopub.execute_input": "2022-08-27T04:16:21.687492Z",
     "iopub.status.busy": "2022-08-27T04:16:21.687226Z",
     "iopub.status.idle": "2022-08-27T04:16:21.704782Z",
     "shell.execute_reply": "2022-08-27T04:16:21.704239Z"
    },
    "papermill": {
     "duration": 0.042658,
     "end_time": "2022-08-27T04:16:21.706340",
     "exception": false,
     "start_time": "2022-08-27T04:16:21.663682",
     "status": "completed"
    },
    "tags": []
   },
   "outputs": [
    {
     "data": {
      "text/plain": [
       "['Whole_Blood',\n",
       " 'Brain_Hypothalamus',\n",
       " 'Brain_Amygdala',\n",
       " 'Brain_Nucleus_accumbens_basal_ganglia',\n",
       " 'Artery_Coronary']"
      ]
     },
     "execution_count": 30,
     "metadata": {},
     "output_type": "execute_result"
    }
   ],
   "source": [
    "prediction_model_tissues[:5]"
   ]
  },
  {
   "cell_type": "markdown",
   "id": "fab4814d-757c-4247-b5e4-891bc4863db7",
   "metadata": {
    "papermill": {
     "duration": 0.02301,
     "end_time": "2022-08-27T04:16:21.751585",
     "exception": false,
     "start_time": "2022-08-27T04:16:21.728575",
     "status": "completed"
    },
    "tags": []
   },
   "source": [
    "## S-MultiXcan results"
   ]
  },
  {
   "cell_type": "code",
   "execution_count": 31,
   "id": "2b73c11e-9aa2-410e-84b4-a70be34d02e4",
   "metadata": {
    "execution": {
     "iopub.execute_input": "2022-08-27T04:16:21.799342Z",
     "iopub.status.busy": "2022-08-27T04:16:21.799058Z",
     "iopub.status.idle": "2022-08-27T04:16:21.897936Z",
     "shell.execute_reply": "2022-08-27T04:16:21.897320Z"
    },
    "papermill": {
     "duration": 0.124379,
     "end_time": "2022-08-27T04:16:21.899833",
     "exception": false,
     "start_time": "2022-08-27T04:16:21.775454",
     "status": "completed"
    },
    "tags": []
   },
   "outputs": [],
   "source": [
    "smultixcan_results = pd.read_csv(\n",
    "    SMULTIXCAN_FILE, sep=\"\\t\", usecols=[\"gene\", \"gene_name\", \"pvalue\", \"n\", \"n_indep\"]\n",
    ")"
   ]
  },
  {
   "cell_type": "code",
   "execution_count": 32,
   "id": "8b5abebd-baab-4188-9e3d-655ebbe32401",
   "metadata": {
    "execution": {
     "iopub.execute_input": "2022-08-27T04:16:21.945545Z",
     "iopub.status.busy": "2022-08-27T04:16:21.945281Z",
     "iopub.status.idle": "2022-08-27T04:16:21.962980Z",
     "shell.execute_reply": "2022-08-27T04:16:21.962427Z"
    },
    "papermill": {
     "duration": 0.042462,
     "end_time": "2022-08-27T04:16:21.964557",
     "exception": false,
     "start_time": "2022-08-27T04:16:21.922095",
     "status": "completed"
    },
    "tags": []
   },
   "outputs": [
    {
     "data": {
      "text/plain": [
       "(22258, 5)"
      ]
     },
     "execution_count": 32,
     "metadata": {},
     "output_type": "execute_result"
    }
   ],
   "source": [
    "smultixcan_results.shape"
   ]
  },
  {
   "cell_type": "code",
   "execution_count": 33,
   "id": "c65e233f-9ef6-4883-9386-7abf1d6d1cbd",
   "metadata": {
    "execution": {
     "iopub.execute_input": "2022-08-27T04:16:22.020512Z",
     "iopub.status.busy": "2022-08-27T04:16:22.020247Z",
     "iopub.status.idle": "2022-08-27T04:16:22.040026Z",
     "shell.execute_reply": "2022-08-27T04:16:22.039444Z"
    },
    "papermill": {
     "duration": 0.054748,
     "end_time": "2022-08-27T04:16:22.041801",
     "exception": false,
     "start_time": "2022-08-27T04:16:21.987053",
     "status": "completed"
    },
    "tags": []
   },
   "outputs": [],
   "source": [
    "smultixcan_results = smultixcan_results.dropna()"
   ]
  },
  {
   "cell_type": "code",
   "execution_count": 34,
   "id": "57d2d311-4a42-4725-9e37-b124ed13ad33",
   "metadata": {
    "execution": {
     "iopub.execute_input": "2022-08-27T04:16:22.088053Z",
     "iopub.status.busy": "2022-08-27T04:16:22.087772Z",
     "iopub.status.idle": "2022-08-27T04:16:22.106026Z",
     "shell.execute_reply": "2022-08-27T04:16:22.105459Z"
    },
    "papermill": {
     "duration": 0.043403,
     "end_time": "2022-08-27T04:16:22.107602",
     "exception": false,
     "start_time": "2022-08-27T04:16:22.064199",
     "status": "completed"
    },
    "tags": []
   },
   "outputs": [
    {
     "data": {
      "text/plain": [
       "(22255, 5)"
      ]
     },
     "execution_count": 34,
     "metadata": {},
     "output_type": "execute_result"
    }
   ],
   "source": [
    "smultixcan_results.shape"
   ]
  },
  {
   "cell_type": "code",
   "execution_count": 35,
   "id": "a36b5b59-f4b6-45bf-b241-ffc9671b357f",
   "metadata": {
    "execution": {
     "iopub.execute_input": "2022-08-27T04:16:22.155479Z",
     "iopub.status.busy": "2022-08-27T04:16:22.155213Z",
     "iopub.status.idle": "2022-08-27T04:16:22.647552Z",
     "shell.execute_reply": "2022-08-27T04:16:22.646949Z"
    },
    "papermill": {
     "duration": 0.519388,
     "end_time": "2022-08-27T04:16:22.649593",
     "exception": false,
     "start_time": "2022-08-27T04:16:22.130205",
     "status": "completed"
    },
    "tags": []
   },
   "outputs": [],
   "source": [
    "smultixcan_results = smultixcan_results.assign(\n",
    "    gene_id=smultixcan_results[\"gene\"].apply(lambda g: g.split(\".\")[0])\n",
    ")"
   ]
  },
  {
   "cell_type": "code",
   "execution_count": 36,
   "id": "c49f62a9-a01a-44af-87da-47d195b0ef7e",
   "metadata": {
    "execution": {
     "iopub.execute_input": "2022-08-27T04:16:22.697236Z",
     "iopub.status.busy": "2022-08-27T04:16:22.696972Z",
     "iopub.status.idle": "2022-08-27T04:16:22.725507Z",
     "shell.execute_reply": "2022-08-27T04:16:22.724933Z"
    },
    "papermill": {
     "duration": 0.053622,
     "end_time": "2022-08-27T04:16:22.727106",
     "exception": false,
     "start_time": "2022-08-27T04:16:22.673484",
     "status": "completed"
    },
    "tags": []
   },
   "outputs": [
    {
     "data": {
      "text/html": [
       "<div>\n",
       "<style scoped>\n",
       "    .dataframe tbody tr th:only-of-type {\n",
       "        vertical-align: middle;\n",
       "    }\n",
       "\n",
       "    .dataframe tbody tr th {\n",
       "        vertical-align: top;\n",
       "    }\n",
       "\n",
       "    .dataframe thead th {\n",
       "        text-align: right;\n",
       "    }\n",
       "</style>\n",
       "<table border=\"1\" class=\"dataframe\">\n",
       "  <thead>\n",
       "    <tr style=\"text-align: right;\">\n",
       "      <th></th>\n",
       "      <th>gene</th>\n",
       "      <th>gene_name</th>\n",
       "      <th>pvalue</th>\n",
       "      <th>n</th>\n",
       "      <th>n_indep</th>\n",
       "      <th>gene_id</th>\n",
       "    </tr>\n",
       "  </thead>\n",
       "  <tbody>\n",
       "    <tr>\n",
       "      <th>0</th>\n",
       "      <td>ENSG00000166159.10</td>\n",
       "      <td>LRTM2</td>\n",
       "      <td>0.000046</td>\n",
       "      <td>14.0</td>\n",
       "      <td>3.0</td>\n",
       "      <td>ENSG00000166159</td>\n",
       "    </tr>\n",
       "    <tr>\n",
       "      <th>1</th>\n",
       "      <td>ENSG00000213062.4</td>\n",
       "      <td>RP1-206D15.6</td>\n",
       "      <td>0.000051</td>\n",
       "      <td>45.0</td>\n",
       "      <td>5.0</td>\n",
       "      <td>ENSG00000213062</td>\n",
       "    </tr>\n",
       "    <tr>\n",
       "      <th>2</th>\n",
       "      <td>ENSG00000213886.3</td>\n",
       "      <td>UBD</td>\n",
       "      <td>0.000074</td>\n",
       "      <td>24.0</td>\n",
       "      <td>1.0</td>\n",
       "      <td>ENSG00000213886</td>\n",
       "    </tr>\n",
       "    <tr>\n",
       "      <th>3</th>\n",
       "      <td>ENSG00000143156.13</td>\n",
       "      <td>NME7</td>\n",
       "      <td>0.000112</td>\n",
       "      <td>48.0</td>\n",
       "      <td>4.0</td>\n",
       "      <td>ENSG00000143156</td>\n",
       "    </tr>\n",
       "    <tr>\n",
       "      <th>4</th>\n",
       "      <td>ENSG00000227555.1</td>\n",
       "      <td>MIR4290HG</td>\n",
       "      <td>0.000163</td>\n",
       "      <td>2.0</td>\n",
       "      <td>1.0</td>\n",
       "      <td>ENSG00000227555</td>\n",
       "    </tr>\n",
       "  </tbody>\n",
       "</table>\n",
       "</div>"
      ],
      "text/plain": [
       "                 gene     gene_name    pvalue     n  n_indep          gene_id\n",
       "0  ENSG00000166159.10         LRTM2  0.000046  14.0      3.0  ENSG00000166159\n",
       "1   ENSG00000213062.4  RP1-206D15.6  0.000051  45.0      5.0  ENSG00000213062\n",
       "2   ENSG00000213886.3           UBD  0.000074  24.0      1.0  ENSG00000213886\n",
       "3  ENSG00000143156.13          NME7  0.000112  48.0      4.0  ENSG00000143156\n",
       "4   ENSG00000227555.1     MIR4290HG  0.000163   2.0      1.0  ENSG00000227555"
      ]
     },
     "execution_count": 36,
     "metadata": {},
     "output_type": "execute_result"
    }
   ],
   "source": [
    "smultixcan_results.head()"
   ]
  },
  {
   "cell_type": "code",
   "execution_count": 37,
   "id": "9c4c023c-86d6-4c4b-8d57-c2b6b93aaf84",
   "metadata": {
    "execution": {
     "iopub.execute_input": "2022-08-27T04:16:22.772490Z",
     "iopub.status.busy": "2022-08-27T04:16:22.772243Z",
     "iopub.status.idle": "2022-08-27T04:16:22.791180Z",
     "shell.execute_reply": "2022-08-27T04:16:22.790613Z"
    },
    "papermill": {
     "duration": 0.043145,
     "end_time": "2022-08-27T04:16:22.792967",
     "exception": false,
     "start_time": "2022-08-27T04:16:22.749822",
     "status": "completed"
    },
    "tags": []
   },
   "outputs": [],
   "source": [
    "assert smultixcan_results[\"gene_id\"].is_unique"
   ]
  },
  {
   "cell_type": "markdown",
   "id": "1f9939f1-4200-40d9-a8bf-8e4fd68bee48",
   "metadata": {
    "papermill": {
     "duration": 0.023503,
     "end_time": "2022-08-27T04:16:22.839818",
     "exception": false,
     "start_time": "2022-08-27T04:16:22.816315",
     "status": "completed"
    },
    "tags": []
   },
   "source": [
    "### Get common genes with MultiPLIER"
   ]
  },
  {
   "cell_type": "code",
   "execution_count": 38,
   "id": "c820e6cf-6350-45af-b49a-0abd94f570ff",
   "metadata": {
    "execution": {
     "iopub.execute_input": "2022-08-27T04:16:22.887379Z",
     "iopub.status.busy": "2022-08-27T04:16:22.887112Z",
     "iopub.status.idle": "2022-08-27T04:16:22.908982Z",
     "shell.execute_reply": "2022-08-27T04:16:22.908330Z"
    },
    "papermill": {
     "duration": 0.047858,
     "end_time": "2022-08-27T04:16:22.910833",
     "exception": false,
     "start_time": "2022-08-27T04:16:22.862975",
     "status": "completed"
    },
    "tags": []
   },
   "outputs": [],
   "source": [
    "common_genes = set(multiplier_z_genes).intersection(\n",
    "    set(smultixcan_results[\"gene_name\"])\n",
    ")"
   ]
  },
  {
   "cell_type": "code",
   "execution_count": 39,
   "id": "0a7328f9-96c7-4ac6-a9a6-ae4fa121a4cd",
   "metadata": {
    "execution": {
     "iopub.execute_input": "2022-08-27T04:16:22.959553Z",
     "iopub.status.busy": "2022-08-27T04:16:22.959283Z",
     "iopub.status.idle": "2022-08-27T04:16:22.977447Z",
     "shell.execute_reply": "2022-08-27T04:16:22.976888Z"
    },
    "papermill": {
     "duration": 0.045102,
     "end_time": "2022-08-27T04:16:22.979072",
     "exception": false,
     "start_time": "2022-08-27T04:16:22.933970",
     "status": "completed"
    },
    "tags": []
   },
   "outputs": [
    {
     "data": {
      "text/plain": [
       "6430"
      ]
     },
     "execution_count": 39,
     "metadata": {},
     "output_type": "execute_result"
    }
   ],
   "source": [
    "len(common_genes)"
   ]
  },
  {
   "cell_type": "code",
   "execution_count": 40,
   "id": "5b08d362-44c8-4db2-9258-670e2e2a9cc0",
   "metadata": {
    "execution": {
     "iopub.execute_input": "2022-08-27T04:16:23.026459Z",
     "iopub.status.busy": "2022-08-27T04:16:23.026193Z",
     "iopub.status.idle": "2022-08-27T04:16:23.046296Z",
     "shell.execute_reply": "2022-08-27T04:16:23.045728Z"
    },
    "papermill": {
     "duration": 0.045598,
     "end_time": "2022-08-27T04:16:23.047908",
     "exception": false,
     "start_time": "2022-08-27T04:16:23.002310",
     "status": "completed"
    },
    "tags": []
   },
   "outputs": [
    {
     "data": {
      "text/plain": [
       "['A2M', 'AAAS', 'AANAT', 'AARS', 'AARS2']"
      ]
     },
     "execution_count": 40,
     "metadata": {},
     "output_type": "execute_result"
    }
   ],
   "source": [
    "sorted(list(common_genes))[:5]"
   ]
  },
  {
   "cell_type": "markdown",
   "id": "7f51338b-8a75-42c3-a7e5-a0961cefb663",
   "metadata": {
    "papermill": {
     "duration": 0.023307,
     "end_time": "2022-08-27T04:16:23.094278",
     "exception": false,
     "start_time": "2022-08-27T04:16:23.070971",
     "status": "completed"
    },
    "tags": []
   },
   "source": [
    "## Genes info"
   ]
  },
  {
   "cell_type": "code",
   "execution_count": 41,
   "id": "bb932812",
   "metadata": {
    "execution": {
     "iopub.execute_input": "2022-08-27T04:16:23.145338Z",
     "iopub.status.busy": "2022-08-27T04:16:23.145068Z",
     "iopub.status.idle": "2022-08-27T04:16:23.170103Z",
     "shell.execute_reply": "2022-08-27T04:16:23.169434Z"
    },
    "papermill": {
     "duration": 0.052696,
     "end_time": "2022-08-27T04:16:23.171839",
     "exception": false,
     "start_time": "2022-08-27T04:16:23.119143",
     "status": "completed"
    },
    "tags": []
   },
   "outputs": [],
   "source": [
    "multiplier_gene_obj = {\n",
    "    gene_name: Gene(name=gene_name)\n",
    "    for gene_name in common_genes\n",
    "    if gene_name in Gene.GENE_NAME_TO_ID_MAP\n",
    "}"
   ]
  },
  {
   "cell_type": "code",
   "execution_count": 42,
   "id": "cb9d7a45-2b7d-4d10-80dc-212a625b5ae7",
   "metadata": {
    "execution": {
     "iopub.execute_input": "2022-08-27T04:16:23.219719Z",
     "iopub.status.busy": "2022-08-27T04:16:23.219456Z",
     "iopub.status.idle": "2022-08-27T04:16:23.235350Z",
     "shell.execute_reply": "2022-08-27T04:16:23.234781Z"
    },
    "papermill": {
     "duration": 0.041812,
     "end_time": "2022-08-27T04:16:23.237065",
     "exception": false,
     "start_time": "2022-08-27T04:16:23.195253",
     "status": "completed"
    },
    "tags": []
   },
   "outputs": [],
   "source": [
    "# delete common_genes, from now on, genes_info should be used for common genes\n",
    "del common_genes"
   ]
  },
  {
   "cell_type": "code",
   "execution_count": 43,
   "id": "39533214",
   "metadata": {
    "execution": {
     "iopub.execute_input": "2022-08-27T04:16:23.285584Z",
     "iopub.status.busy": "2022-08-27T04:16:23.285317Z",
     "iopub.status.idle": "2022-08-27T04:16:23.310539Z",
     "shell.execute_reply": "2022-08-27T04:16:23.309973Z"
    },
    "papermill": {
     "duration": 0.051682,
     "end_time": "2022-08-27T04:16:23.312211",
     "exception": false,
     "start_time": "2022-08-27T04:16:23.260529",
     "status": "completed"
    },
    "tags": []
   },
   "outputs": [
    {
     "data": {
      "text/plain": [
       "6430"
      ]
     },
     "execution_count": 43,
     "metadata": {},
     "output_type": "execute_result"
    }
   ],
   "source": [
    "len(multiplier_gene_obj)"
   ]
  },
  {
   "cell_type": "code",
   "execution_count": 44,
   "id": "9a5d0b84",
   "metadata": {
    "execution": {
     "iopub.execute_input": "2022-08-27T04:16:23.360710Z",
     "iopub.status.busy": "2022-08-27T04:16:23.360448Z",
     "iopub.status.idle": "2022-08-27T04:16:23.376886Z",
     "shell.execute_reply": "2022-08-27T04:16:23.376277Z"
    },
    "papermill": {
     "duration": 0.042809,
     "end_time": "2022-08-27T04:16:23.378649",
     "exception": false,
     "start_time": "2022-08-27T04:16:23.335840",
     "status": "completed"
    },
    "tags": []
   },
   "outputs": [],
   "source": [
    "assert multiplier_gene_obj[\"GAS6\"].ensembl_id == \"ENSG00000183087\""
   ]
  },
  {
   "cell_type": "code",
   "execution_count": 45,
   "id": "e3ffabc7",
   "metadata": {
    "execution": {
     "iopub.execute_input": "2022-08-27T04:16:23.427122Z",
     "iopub.status.busy": "2022-08-27T04:16:23.426855Z",
     "iopub.status.idle": "2022-08-27T04:16:26.822358Z",
     "shell.execute_reply": "2022-08-27T04:16:26.821745Z"
    },
    "papermill": {
     "duration": 3.422142,
     "end_time": "2022-08-27T04:16:26.824358",
     "exception": false,
     "start_time": "2022-08-27T04:16:23.402216",
     "status": "completed"
    },
    "tags": []
   },
   "outputs": [],
   "source": [
    "_gene_obj = list(multiplier_gene_obj.values())\n",
    "\n",
    "genes_info = pd.DataFrame(\n",
    "    {\n",
    "        \"name\": [g.name for g in _gene_obj],\n",
    "        \"id\": [g.ensembl_id for g in _gene_obj],\n",
    "        \"chr\": [g.chromosome for g in _gene_obj],\n",
    "        \"band\": [g.band for g in _gene_obj],\n",
    "        \"start_position\": [g.get_attribute(\"start_position\") for g in _gene_obj],\n",
    "        \"end_position\": [g.get_attribute(\"end_position\") for g in _gene_obj],\n",
    "    }\n",
    ")"
   ]
  },
  {
   "cell_type": "code",
   "execution_count": 46,
   "id": "00475e72-1cfc-485f-8b4e-1d9cce695f58",
   "metadata": {
    "execution": {
     "iopub.execute_input": "2022-08-27T04:16:26.875241Z",
     "iopub.status.busy": "2022-08-27T04:16:26.874962Z",
     "iopub.status.idle": "2022-08-27T04:16:27.534862Z",
     "shell.execute_reply": "2022-08-27T04:16:27.534248Z"
    },
    "papermill": {
     "duration": 0.687054,
     "end_time": "2022-08-27T04:16:27.536873",
     "exception": false,
     "start_time": "2022-08-27T04:16:26.849819",
     "status": "completed"
    },
    "tags": []
   },
   "outputs": [],
   "source": [
    "genes_info = genes_info.assign(\n",
    "    gene_length=genes_info.apply(\n",
    "        lambda x: x[\"end_position\"] - x[\"start_position\"], axis=1\n",
    "    )\n",
    ")"
   ]
  },
  {
   "cell_type": "code",
   "execution_count": 47,
   "id": "3af1a166-08a0-4333-bc09-b8bc762aa7ef",
   "metadata": {
    "execution": {
     "iopub.execute_input": "2022-08-27T04:16:27.585534Z",
     "iopub.status.busy": "2022-08-27T04:16:27.585239Z",
     "iopub.status.idle": "2022-08-27T04:16:27.604084Z",
     "shell.execute_reply": "2022-08-27T04:16:27.603534Z"
    },
    "papermill": {
     "duration": 0.045231,
     "end_time": "2022-08-27T04:16:27.605725",
     "exception": false,
     "start_time": "2022-08-27T04:16:27.560494",
     "status": "completed"
    },
    "tags": []
   },
   "outputs": [
    {
     "data": {
      "text/plain": [
       "name               object\n",
       "id                 object\n",
       "chr                object\n",
       "band               object\n",
       "start_position    float64\n",
       "end_position      float64\n",
       "gene_length       float64\n",
       "dtype: object"
      ]
     },
     "execution_count": 47,
     "metadata": {},
     "output_type": "execute_result"
    }
   ],
   "source": [
    "genes_info.dtypes"
   ]
  },
  {
   "cell_type": "code",
   "execution_count": 48,
   "id": "08a23f6f-87f6-4072-88c8-010b90a411cd",
   "metadata": {
    "execution": {
     "iopub.execute_input": "2022-08-27T04:16:27.654010Z",
     "iopub.status.busy": "2022-08-27T04:16:27.653691Z",
     "iopub.status.idle": "2022-08-27T04:16:27.680637Z",
     "shell.execute_reply": "2022-08-27T04:16:27.680056Z"
    },
    "papermill": {
     "duration": 0.053128,
     "end_time": "2022-08-27T04:16:27.682378",
     "exception": false,
     "start_time": "2022-08-27T04:16:27.629250",
     "status": "completed"
    },
    "tags": []
   },
   "outputs": [
    {
     "data": {
      "text/html": [
       "<div>\n",
       "<style scoped>\n",
       "    .dataframe tbody tr th:only-of-type {\n",
       "        vertical-align: middle;\n",
       "    }\n",
       "\n",
       "    .dataframe tbody tr th {\n",
       "        vertical-align: top;\n",
       "    }\n",
       "\n",
       "    .dataframe thead th {\n",
       "        text-align: right;\n",
       "    }\n",
       "</style>\n",
       "<table border=\"1\" class=\"dataframe\">\n",
       "  <thead>\n",
       "    <tr style=\"text-align: right;\">\n",
       "      <th></th>\n",
       "      <th>name</th>\n",
       "      <th>id</th>\n",
       "      <th>chr</th>\n",
       "      <th>band</th>\n",
       "      <th>start_position</th>\n",
       "      <th>end_position</th>\n",
       "      <th>gene_length</th>\n",
       "    </tr>\n",
       "  </thead>\n",
       "  <tbody>\n",
       "    <tr>\n",
       "      <th>3367</th>\n",
       "      <td>TMEM133</td>\n",
       "      <td>ENSG00000170647</td>\n",
       "      <td>None</td>\n",
       "      <td>None</td>\n",
       "      <td>NaN</td>\n",
       "      <td>NaN</td>\n",
       "      <td>NaN</td>\n",
       "    </tr>\n",
       "    <tr>\n",
       "      <th>5394</th>\n",
       "      <td>TBCE</td>\n",
       "      <td>ENSG00000116957</td>\n",
       "      <td>None</td>\n",
       "      <td>None</td>\n",
       "      <td>NaN</td>\n",
       "      <td>NaN</td>\n",
       "      <td>NaN</td>\n",
       "    </tr>\n",
       "  </tbody>\n",
       "</table>\n",
       "</div>"
      ],
      "text/plain": [
       "         name               id   chr  band  start_position  end_position  \\\n",
       "3367  TMEM133  ENSG00000170647  None  None             NaN           NaN   \n",
       "5394     TBCE  ENSG00000116957  None  None             NaN           NaN   \n",
       "\n",
       "      gene_length  \n",
       "3367          NaN  \n",
       "5394          NaN  "
      ]
     },
     "metadata": {},
     "output_type": "display_data"
    }
   ],
   "source": [
    "_tmp = genes_info[genes_info.isna().any(axis=1)]\n",
    "display(_tmp)\n",
    "assert _tmp.shape[0] < 5"
   ]
  },
  {
   "cell_type": "code",
   "execution_count": 49,
   "id": "87c010f0-8ad9-4bf0-b12d-02f37a93853a",
   "metadata": {
    "execution": {
     "iopub.execute_input": "2022-08-27T04:16:27.730274Z",
     "iopub.status.busy": "2022-08-27T04:16:27.730011Z",
     "iopub.status.idle": "2022-08-27T04:16:27.749149Z",
     "shell.execute_reply": "2022-08-27T04:16:27.748535Z"
    },
    "papermill": {
     "duration": 0.044789,
     "end_time": "2022-08-27T04:16:27.750970",
     "exception": false,
     "start_time": "2022-08-27T04:16:27.706181",
     "status": "completed"
    },
    "tags": []
   },
   "outputs": [],
   "source": [
    "genes_info = genes_info.dropna()"
   ]
  },
  {
   "cell_type": "code",
   "execution_count": 50,
   "id": "61833f43-3a92-47e9-bca3-e05b6673c7d9",
   "metadata": {
    "execution": {
     "iopub.execute_input": "2022-08-27T04:16:27.799388Z",
     "iopub.status.busy": "2022-08-27T04:16:27.799121Z",
     "iopub.status.idle": "2022-08-27T04:16:28.568331Z",
     "shell.execute_reply": "2022-08-27T04:16:28.567745Z"
    },
    "papermill": {
     "duration": 0.794738,
     "end_time": "2022-08-27T04:16:28.570010",
     "exception": false,
     "start_time": "2022-08-27T04:16:27.775272",
     "status": "completed"
    },
    "tags": []
   },
   "outputs": [],
   "source": [
    "genes_info[\"chr\"] = genes_info[\"chr\"].apply(pd.to_numeric, downcast=\"integer\")\n",
    "genes_info[\"start_position\"] = genes_info[\"start_position\"].astype(int)\n",
    "genes_info[\"end_position\"] = genes_info[\"end_position\"].astype(int)\n",
    "genes_info[\"gene_length\"] = genes_info[\"gene_length\"].astype(int)"
   ]
  },
  {
   "cell_type": "code",
   "execution_count": 51,
   "id": "e4b9ae23-3edb-41a4-97aa-80cc7db6d393",
   "metadata": {
    "execution": {
     "iopub.execute_input": "2022-08-27T04:16:28.618583Z",
     "iopub.status.busy": "2022-08-27T04:16:28.618319Z",
     "iopub.status.idle": "2022-08-27T04:16:28.636756Z",
     "shell.execute_reply": "2022-08-27T04:16:28.636207Z"
    },
    "papermill": {
     "duration": 0.04435,
     "end_time": "2022-08-27T04:16:28.638342",
     "exception": false,
     "start_time": "2022-08-27T04:16:28.593992",
     "status": "completed"
    },
    "tags": []
   },
   "outputs": [
    {
     "data": {
      "text/plain": [
       "name              object\n",
       "id                object\n",
       "chr                int64\n",
       "band              object\n",
       "start_position     int64\n",
       "end_position       int64\n",
       "gene_length        int64\n",
       "dtype: object"
      ]
     },
     "execution_count": 51,
     "metadata": {},
     "output_type": "execute_result"
    }
   ],
   "source": [
    "genes_info.dtypes"
   ]
  },
  {
   "cell_type": "code",
   "execution_count": 52,
   "id": "09d6320a-b1c4-4200-a23e-184bc4be69c7",
   "metadata": {
    "execution": {
     "iopub.execute_input": "2022-08-27T04:16:28.686432Z",
     "iopub.status.busy": "2022-08-27T04:16:28.686166Z",
     "iopub.status.idle": "2022-08-27T04:16:28.703367Z",
     "shell.execute_reply": "2022-08-27T04:16:28.702813Z"
    },
    "papermill": {
     "duration": 0.043465,
     "end_time": "2022-08-27T04:16:28.705030",
     "exception": false,
     "start_time": "2022-08-27T04:16:28.661565",
     "status": "completed"
    },
    "tags": []
   },
   "outputs": [],
   "source": [
    "assert genes_info[\"name\"].is_unique"
   ]
  },
  {
   "cell_type": "code",
   "execution_count": 53,
   "id": "009d11e4-f8cb-4a81-823d-c7f10b906d3b",
   "metadata": {
    "execution": {
     "iopub.execute_input": "2022-08-27T04:16:28.753693Z",
     "iopub.status.busy": "2022-08-27T04:16:28.753430Z",
     "iopub.status.idle": "2022-08-27T04:16:28.771008Z",
     "shell.execute_reply": "2022-08-27T04:16:28.770443Z"
    },
    "papermill": {
     "duration": 0.043381,
     "end_time": "2022-08-27T04:16:28.772672",
     "exception": false,
     "start_time": "2022-08-27T04:16:28.729291",
     "status": "completed"
    },
    "tags": []
   },
   "outputs": [],
   "source": [
    "assert genes_info[\"id\"].is_unique"
   ]
  },
  {
   "cell_type": "code",
   "execution_count": 54,
   "id": "e23519b8",
   "metadata": {
    "execution": {
     "iopub.execute_input": "2022-08-27T04:16:28.821123Z",
     "iopub.status.busy": "2022-08-27T04:16:28.820841Z",
     "iopub.status.idle": "2022-08-27T04:16:28.838422Z",
     "shell.execute_reply": "2022-08-27T04:16:28.837873Z"
    },
    "papermill": {
     "duration": 0.043528,
     "end_time": "2022-08-27T04:16:28.839996",
     "exception": false,
     "start_time": "2022-08-27T04:16:28.796468",
     "status": "completed"
    },
    "tags": []
   },
   "outputs": [
    {
     "data": {
      "text/plain": [
       "(6428, 7)"
      ]
     },
     "execution_count": 54,
     "metadata": {},
     "output_type": "execute_result"
    }
   ],
   "source": [
    "genes_info.shape"
   ]
  },
  {
   "cell_type": "code",
   "execution_count": 55,
   "id": "0d71881c",
   "metadata": {
    "execution": {
     "iopub.execute_input": "2022-08-27T04:16:28.889334Z",
     "iopub.status.busy": "2022-08-27T04:16:28.889068Z",
     "iopub.status.idle": "2022-08-27T04:16:28.911744Z",
     "shell.execute_reply": "2022-08-27T04:16:28.911171Z"
    },
    "papermill": {
     "duration": 0.049155,
     "end_time": "2022-08-27T04:16:28.913368",
     "exception": false,
     "start_time": "2022-08-27T04:16:28.864213",
     "status": "completed"
    },
    "tags": []
   },
   "outputs": [
    {
     "data": {
      "text/html": [
       "<div>\n",
       "<style scoped>\n",
       "    .dataframe tbody tr th:only-of-type {\n",
       "        vertical-align: middle;\n",
       "    }\n",
       "\n",
       "    .dataframe tbody tr th {\n",
       "        vertical-align: top;\n",
       "    }\n",
       "\n",
       "    .dataframe thead th {\n",
       "        text-align: right;\n",
       "    }\n",
       "</style>\n",
       "<table border=\"1\" class=\"dataframe\">\n",
       "  <thead>\n",
       "    <tr style=\"text-align: right;\">\n",
       "      <th></th>\n",
       "      <th>name</th>\n",
       "      <th>id</th>\n",
       "      <th>chr</th>\n",
       "      <th>band</th>\n",
       "      <th>start_position</th>\n",
       "      <th>end_position</th>\n",
       "      <th>gene_length</th>\n",
       "    </tr>\n",
       "  </thead>\n",
       "  <tbody>\n",
       "    <tr>\n",
       "      <th>0</th>\n",
       "      <td>ZNF605</td>\n",
       "      <td>ENSG00000196458</td>\n",
       "      <td>12</td>\n",
       "      <td>12q24.33</td>\n",
       "      <td>132918306</td>\n",
       "      <td>132956306</td>\n",
       "      <td>38000</td>\n",
       "    </tr>\n",
       "    <tr>\n",
       "      <th>1</th>\n",
       "      <td>FBP1</td>\n",
       "      <td>ENSG00000165140</td>\n",
       "      <td>9</td>\n",
       "      <td>9q22.32</td>\n",
       "      <td>94603133</td>\n",
       "      <td>94640249</td>\n",
       "      <td>37116</td>\n",
       "    </tr>\n",
       "    <tr>\n",
       "      <th>2</th>\n",
       "      <td>TAL1</td>\n",
       "      <td>ENSG00000162367</td>\n",
       "      <td>1</td>\n",
       "      <td>1p33</td>\n",
       "      <td>47216290</td>\n",
       "      <td>47232220</td>\n",
       "      <td>15930</td>\n",
       "    </tr>\n",
       "    <tr>\n",
       "      <th>3</th>\n",
       "      <td>MPV17</td>\n",
       "      <td>ENSG00000115204</td>\n",
       "      <td>2</td>\n",
       "      <td>2p23.3</td>\n",
       "      <td>27309492</td>\n",
       "      <td>27325680</td>\n",
       "      <td>16188</td>\n",
       "    </tr>\n",
       "    <tr>\n",
       "      <th>4</th>\n",
       "      <td>PTPRN</td>\n",
       "      <td>ENSG00000054356</td>\n",
       "      <td>2</td>\n",
       "      <td>2q35</td>\n",
       "      <td>219289623</td>\n",
       "      <td>219309648</td>\n",
       "      <td>20025</td>\n",
       "    </tr>\n",
       "  </tbody>\n",
       "</table>\n",
       "</div>"
      ],
      "text/plain": [
       "     name               id  chr      band  start_position  end_position  \\\n",
       "0  ZNF605  ENSG00000196458   12  12q24.33       132918306     132956306   \n",
       "1    FBP1  ENSG00000165140    9   9q22.32        94603133      94640249   \n",
       "2    TAL1  ENSG00000162367    1      1p33        47216290      47232220   \n",
       "3   MPV17  ENSG00000115204    2    2p23.3        27309492      27325680   \n",
       "4   PTPRN  ENSG00000054356    2      2q35       219289623     219309648   \n",
       "\n",
       "   gene_length  \n",
       "0        38000  \n",
       "1        37116  \n",
       "2        15930  \n",
       "3        16188  \n",
       "4        20025  "
      ]
     },
     "execution_count": 55,
     "metadata": {},
     "output_type": "execute_result"
    }
   ],
   "source": [
    "genes_info.head()"
   ]
  },
  {
   "cell_type": "code",
   "execution_count": 56,
   "id": "eb968287-d9cf-40f6-a93e-6b322b844404",
   "metadata": {
    "execution": {
     "iopub.execute_input": "2022-08-27T04:16:28.962814Z",
     "iopub.status.busy": "2022-08-27T04:16:28.962541Z",
     "iopub.status.idle": "2022-08-27T04:16:28.990615Z",
     "shell.execute_reply": "2022-08-27T04:16:28.990063Z"
    },
    "papermill": {
     "duration": 0.054487,
     "end_time": "2022-08-27T04:16:28.992222",
     "exception": false,
     "start_time": "2022-08-27T04:16:28.937735",
     "status": "completed"
    },
    "tags": []
   },
   "outputs": [
    {
     "data": {
      "text/html": [
       "<div>\n",
       "<style scoped>\n",
       "    .dataframe tbody tr th:only-of-type {\n",
       "        vertical-align: middle;\n",
       "    }\n",
       "\n",
       "    .dataframe tbody tr th {\n",
       "        vertical-align: top;\n",
       "    }\n",
       "\n",
       "    .dataframe thead th {\n",
       "        text-align: right;\n",
       "    }\n",
       "</style>\n",
       "<table border=\"1\" class=\"dataframe\">\n",
       "  <thead>\n",
       "    <tr style=\"text-align: right;\">\n",
       "      <th></th>\n",
       "      <th>name</th>\n",
       "      <th>id</th>\n",
       "      <th>chr</th>\n",
       "      <th>band</th>\n",
       "      <th>start_position</th>\n",
       "      <th>end_position</th>\n",
       "      <th>gene_length</th>\n",
       "    </tr>\n",
       "  </thead>\n",
       "  <tbody>\n",
       "    <tr>\n",
       "      <th>2794</th>\n",
       "      <td>PHGDH</td>\n",
       "      <td>ENSG00000092621</td>\n",
       "      <td>1</td>\n",
       "      <td>1p12</td>\n",
       "      <td>119648411</td>\n",
       "      <td>119744226</td>\n",
       "      <td>95815</td>\n",
       "    </tr>\n",
       "    <tr>\n",
       "      <th>2689</th>\n",
       "      <td>EPB41</td>\n",
       "      <td>ENSG00000159023</td>\n",
       "      <td>1</td>\n",
       "      <td>1p35.3</td>\n",
       "      <td>28887091</td>\n",
       "      <td>29120046</td>\n",
       "      <td>232955</td>\n",
       "    </tr>\n",
       "    <tr>\n",
       "      <th>5000</th>\n",
       "      <td>GALE</td>\n",
       "      <td>ENSG00000117308</td>\n",
       "      <td>1</td>\n",
       "      <td>1p36.11</td>\n",
       "      <td>23795599</td>\n",
       "      <td>23800781</td>\n",
       "      <td>5182</td>\n",
       "    </tr>\n",
       "    <tr>\n",
       "      <th>2682</th>\n",
       "      <td>NDUFS5</td>\n",
       "      <td>ENSG00000168653</td>\n",
       "      <td>1</td>\n",
       "      <td>1p34.3</td>\n",
       "      <td>39026318</td>\n",
       "      <td>39034636</td>\n",
       "      <td>8318</td>\n",
       "    </tr>\n",
       "    <tr>\n",
       "      <th>758</th>\n",
       "      <td>PBX1</td>\n",
       "      <td>ENSG00000185630</td>\n",
       "      <td>1</td>\n",
       "      <td>1q23.3</td>\n",
       "      <td>164555584</td>\n",
       "      <td>164899296</td>\n",
       "      <td>343712</td>\n",
       "    </tr>\n",
       "    <tr>\n",
       "      <th>...</th>\n",
       "      <td>...</td>\n",
       "      <td>...</td>\n",
       "      <td>...</td>\n",
       "      <td>...</td>\n",
       "      <td>...</td>\n",
       "      <td>...</td>\n",
       "      <td>...</td>\n",
       "    </tr>\n",
       "    <tr>\n",
       "      <th>6250</th>\n",
       "      <td>SLC25A1</td>\n",
       "      <td>ENSG00000100075</td>\n",
       "      <td>22</td>\n",
       "      <td>22q11.21</td>\n",
       "      <td>19175581</td>\n",
       "      <td>19178739</td>\n",
       "      <td>3158</td>\n",
       "    </tr>\n",
       "    <tr>\n",
       "      <th>5279</th>\n",
       "      <td>MGAT3</td>\n",
       "      <td>ENSG00000128268</td>\n",
       "      <td>22</td>\n",
       "      <td>22q13.1</td>\n",
       "      <td>39457012</td>\n",
       "      <td>39492194</td>\n",
       "      <td>35182</td>\n",
       "    </tr>\n",
       "    <tr>\n",
       "      <th>296</th>\n",
       "      <td>NCF4</td>\n",
       "      <td>ENSG00000100365</td>\n",
       "      <td>22</td>\n",
       "      <td>22q12.3</td>\n",
       "      <td>36860988</td>\n",
       "      <td>36878017</td>\n",
       "      <td>17029</td>\n",
       "    </tr>\n",
       "    <tr>\n",
       "      <th>951</th>\n",
       "      <td>POLDIP3</td>\n",
       "      <td>ENSG00000100227</td>\n",
       "      <td>22</td>\n",
       "      <td>22q13.2</td>\n",
       "      <td>42583721</td>\n",
       "      <td>42614962</td>\n",
       "      <td>31241</td>\n",
       "    </tr>\n",
       "    <tr>\n",
       "      <th>1407</th>\n",
       "      <td>MPST</td>\n",
       "      <td>ENSG00000128309</td>\n",
       "      <td>22</td>\n",
       "      <td>22q12.3</td>\n",
       "      <td>37019635</td>\n",
       "      <td>37029822</td>\n",
       "      <td>10187</td>\n",
       "    </tr>\n",
       "  </tbody>\n",
       "</table>\n",
       "<p>6428 rows × 7 columns</p>\n",
       "</div>"
      ],
      "text/plain": [
       "         name               id  chr      band  start_position  end_position  \\\n",
       "2794    PHGDH  ENSG00000092621    1      1p12       119648411     119744226   \n",
       "2689    EPB41  ENSG00000159023    1    1p35.3        28887091      29120046   \n",
       "5000     GALE  ENSG00000117308    1   1p36.11        23795599      23800781   \n",
       "2682   NDUFS5  ENSG00000168653    1    1p34.3        39026318      39034636   \n",
       "758      PBX1  ENSG00000185630    1    1q23.3       164555584     164899296   \n",
       "...       ...              ...  ...       ...             ...           ...   \n",
       "6250  SLC25A1  ENSG00000100075   22  22q11.21        19175581      19178739   \n",
       "5279    MGAT3  ENSG00000128268   22   22q13.1        39457012      39492194   \n",
       "296      NCF4  ENSG00000100365   22   22q12.3        36860988      36878017   \n",
       "951   POLDIP3  ENSG00000100227   22   22q13.2        42583721      42614962   \n",
       "1407     MPST  ENSG00000128309   22   22q12.3        37019635      37029822   \n",
       "\n",
       "      gene_length  \n",
       "2794        95815  \n",
       "2689       232955  \n",
       "5000         5182  \n",
       "2682         8318  \n",
       "758        343712  \n",
       "...           ...  \n",
       "6250         3158  \n",
       "5279        35182  \n",
       "296         17029  \n",
       "951         31241  \n",
       "1407        10187  \n",
       "\n",
       "[6428 rows x 7 columns]"
      ]
     },
     "execution_count": 56,
     "metadata": {},
     "output_type": "execute_result"
    }
   ],
   "source": [
    "genes_info.sort_values(\"chr\")"
   ]
  },
  {
   "cell_type": "markdown",
   "id": "7282b84d-f4f3-4e8c-9dd8-6319505ed4b5",
   "metadata": {
    "papermill": {
     "duration": 0.02536,
     "end_time": "2022-08-27T04:16:29.048611",
     "exception": false,
     "start_time": "2022-08-27T04:16:29.023251",
     "status": "completed"
    },
    "tags": []
   },
   "source": [
    "### Save"
   ]
  },
  {
   "cell_type": "code",
   "execution_count": 57,
   "id": "32cf6566-03bb-4a85-81e1-da46fc9f37ad",
   "metadata": {
    "execution": {
     "iopub.execute_input": "2022-08-27T04:16:29.098879Z",
     "iopub.status.busy": "2022-08-27T04:16:29.098609Z",
     "iopub.status.idle": "2022-08-27T04:16:29.138032Z",
     "shell.execute_reply": "2022-08-27T04:16:29.137383Z"
    },
    "papermill": {
     "duration": 0.066768,
     "end_time": "2022-08-27T04:16:29.139980",
     "exception": false,
     "start_time": "2022-08-27T04:16:29.073212",
     "status": "completed"
    },
    "tags": []
   },
   "outputs": [],
   "source": [
    "genes_info.to_pickle(OUTPUT_DIR_BASE / \"genes_info.pkl\")"
   ]
  },
  {
   "cell_type": "markdown",
   "id": "5b9f384a-5a91-4a8d-9007-cfe43f2d86f8",
   "metadata": {
    "papermill": {
     "duration": 0.02504,
     "end_time": "2022-08-27T04:16:29.190256",
     "exception": false,
     "start_time": "2022-08-27T04:16:29.165216",
     "status": "completed"
    },
    "tags": []
   },
   "source": [
    "## S-PrediXcan results"
   ]
  },
  {
   "cell_type": "markdown",
   "id": "fc0a2a4c-960c-4a0a-9b23-b66c3d5d6e07",
   "metadata": {
    "papermill": {
     "duration": 0.024762,
     "end_time": "2022-08-27T04:16:29.240302",
     "exception": false,
     "start_time": "2022-08-27T04:16:29.215540",
     "status": "completed"
    },
    "tags": []
   },
   "source": [
    "### Load results across all tissues"
   ]
  },
  {
   "cell_type": "code",
   "execution_count": 58,
   "id": "0b4867d7-a608-4b08-9d77-1782be3a0c94",
   "metadata": {
    "execution": {
     "iopub.execute_input": "2022-08-27T04:16:29.290654Z",
     "iopub.status.busy": "2022-08-27T04:16:29.290390Z",
     "iopub.status.idle": "2022-08-27T04:16:29.306539Z",
     "shell.execute_reply": "2022-08-27T04:16:29.305978Z"
    },
    "papermill": {
     "duration": 0.043609,
     "end_time": "2022-08-27T04:16:29.308244",
     "exception": false,
     "start_time": "2022-08-27T04:16:29.264635",
     "status": "completed"
    },
    "tags": []
   },
   "outputs": [],
   "source": [
    "spredixcan_result_files = {\n",
    "    t: SPREDIXCAN_FOLDER / SPREDIXCAN_FILE_PATTERN.format(tissue=t)\n",
    "    for t in prediction_model_tissues\n",
    "}"
   ]
  },
  {
   "cell_type": "code",
   "execution_count": 59,
   "id": "0ce270dd-46ac-4eaa-9d86-2b201d67d82f",
   "metadata": {
    "execution": {
     "iopub.execute_input": "2022-08-27T04:16:29.358434Z",
     "iopub.status.busy": "2022-08-27T04:16:29.358170Z",
     "iopub.status.idle": "2022-08-27T04:16:29.375966Z",
     "shell.execute_reply": "2022-08-27T04:16:29.375416Z"
    },
    "papermill": {
     "duration": 0.044764,
     "end_time": "2022-08-27T04:16:29.377578",
     "exception": false,
     "start_time": "2022-08-27T04:16:29.332814",
     "status": "completed"
    },
    "tags": []
   },
   "outputs": [
    {
     "data": {
      "text/plain": [
       "[PosixPath('/project/ritchie20/projects/phenoplier/base/data/phenomexcan/spredixcan/rapid_gwas_project/22617_7112/22617_7112-gtex_v8-Whole_Blood-2018_10.csv'),\n",
       " PosixPath('/project/ritchie20/projects/phenoplier/base/data/phenomexcan/spredixcan/rapid_gwas_project/22617_7112/22617_7112-gtex_v8-Brain_Hypothalamus-2018_10.csv'),\n",
       " PosixPath('/project/ritchie20/projects/phenoplier/base/data/phenomexcan/spredixcan/rapid_gwas_project/22617_7112/22617_7112-gtex_v8-Brain_Amygdala-2018_10.csv'),\n",
       " PosixPath('/project/ritchie20/projects/phenoplier/base/data/phenomexcan/spredixcan/rapid_gwas_project/22617_7112/22617_7112-gtex_v8-Brain_Nucleus_accumbens_basal_ganglia-2018_10.csv'),\n",
       " PosixPath('/project/ritchie20/projects/phenoplier/base/data/phenomexcan/spredixcan/rapid_gwas_project/22617_7112/22617_7112-gtex_v8-Artery_Coronary-2018_10.csv')]"
      ]
     },
     "metadata": {},
     "output_type": "display_data"
    }
   ],
   "source": [
    "assert len(spredixcan_result_files) == len(prediction_model_tissues)\n",
    "display(list(spredixcan_result_files.values())[:5])"
   ]
  },
  {
   "cell_type": "code",
   "execution_count": 60,
   "id": "aa140259-303e-4912-b2bf-e7adce662f88",
   "metadata": {
    "execution": {
     "iopub.execute_input": "2022-08-27T04:16:29.428812Z",
     "iopub.status.busy": "2022-08-27T04:16:29.428536Z",
     "iopub.status.idle": "2022-08-27T04:16:29.480999Z",
     "shell.execute_reply": "2022-08-27T04:16:29.480417Z"
    },
    "papermill": {
     "duration": 0.080254,
     "end_time": "2022-08-27T04:16:29.482630",
     "exception": false,
     "start_time": "2022-08-27T04:16:29.402376",
     "status": "completed"
    },
    "tags": []
   },
   "outputs": [
    {
     "data": {
      "text/html": [
       "<div>\n",
       "<style scoped>\n",
       "    .dataframe tbody tr th:only-of-type {\n",
       "        vertical-align: middle;\n",
       "    }\n",
       "\n",
       "    .dataframe tbody tr th {\n",
       "        vertical-align: top;\n",
       "    }\n",
       "\n",
       "    .dataframe thead th {\n",
       "        text-align: right;\n",
       "    }\n",
       "</style>\n",
       "<table border=\"1\" class=\"dataframe\">\n",
       "  <thead>\n",
       "    <tr style=\"text-align: right;\">\n",
       "      <th></th>\n",
       "      <th>gene</th>\n",
       "      <th>gene_name</th>\n",
       "      <th>zscore</th>\n",
       "      <th>effect_size</th>\n",
       "      <th>pvalue</th>\n",
       "      <th>var_g</th>\n",
       "      <th>pred_perf_r2</th>\n",
       "      <th>pred_perf_pval</th>\n",
       "      <th>pred_perf_qval</th>\n",
       "      <th>n_snps_used</th>\n",
       "      <th>n_snps_in_cov</th>\n",
       "      <th>n_snps_in_model</th>\n",
       "      <th>best_gwas_p</th>\n",
       "      <th>largest_weight</th>\n",
       "    </tr>\n",
       "  </thead>\n",
       "  <tbody>\n",
       "    <tr>\n",
       "      <th>0</th>\n",
       "      <td>ENSG00000124198.8</td>\n",
       "      <td>ARFGEF2</td>\n",
       "      <td>-3.882614</td>\n",
       "      <td>-0.028789</td>\n",
       "      <td>0.000103</td>\n",
       "      <td>0.001926</td>\n",
       "      <td>NaN</td>\n",
       "      <td>NaN</td>\n",
       "      <td>NaN</td>\n",
       "      <td>2</td>\n",
       "      <td>2</td>\n",
       "      <td>2</td>\n",
       "      <td>0.000280</td>\n",
       "      <td>0.066948</td>\n",
       "    </tr>\n",
       "    <tr>\n",
       "      <th>1</th>\n",
       "      <td>ENSG00000203782.5</td>\n",
       "      <td>LOR</td>\n",
       "      <td>-3.867484</td>\n",
       "      <td>-0.071511</td>\n",
       "      <td>0.000110</td>\n",
       "      <td>0.000332</td>\n",
       "      <td>NaN</td>\n",
       "      <td>NaN</td>\n",
       "      <td>NaN</td>\n",
       "      <td>1</td>\n",
       "      <td>1</td>\n",
       "      <td>1</td>\n",
       "      <td>0.000110</td>\n",
       "      <td>0.028763</td>\n",
       "    </tr>\n",
       "    <tr>\n",
       "      <th>2</th>\n",
       "      <td>ENSG00000140455.16</td>\n",
       "      <td>USP3</td>\n",
       "      <td>3.855588</td>\n",
       "      <td>0.014233</td>\n",
       "      <td>0.000115</td>\n",
       "      <td>0.008465</td>\n",
       "      <td>NaN</td>\n",
       "      <td>NaN</td>\n",
       "      <td>NaN</td>\n",
       "      <td>1</td>\n",
       "      <td>2</td>\n",
       "      <td>2</td>\n",
       "      <td>0.000115</td>\n",
       "      <td>0.133494</td>\n",
       "    </tr>\n",
       "    <tr>\n",
       "      <th>3</th>\n",
       "      <td>ENSG00000143153.12</td>\n",
       "      <td>ATP1B1</td>\n",
       "      <td>-3.810115</td>\n",
       "      <td>-0.007699</td>\n",
       "      <td>0.000139</td>\n",
       "      <td>0.027629</td>\n",
       "      <td>NaN</td>\n",
       "      <td>NaN</td>\n",
       "      <td>NaN</td>\n",
       "      <td>2</td>\n",
       "      <td>2</td>\n",
       "      <td>2</td>\n",
       "      <td>0.000036</td>\n",
       "      <td>0.332969</td>\n",
       "    </tr>\n",
       "    <tr>\n",
       "      <th>4</th>\n",
       "      <td>ENSG00000111196.9</td>\n",
       "      <td>MAGOHB</td>\n",
       "      <td>3.744166</td>\n",
       "      <td>0.020899</td>\n",
       "      <td>0.000181</td>\n",
       "      <td>0.003938</td>\n",
       "      <td>NaN</td>\n",
       "      <td>NaN</td>\n",
       "      <td>NaN</td>\n",
       "      <td>1</td>\n",
       "      <td>1</td>\n",
       "      <td>1</td>\n",
       "      <td>0.000181</td>\n",
       "      <td>0.182042</td>\n",
       "    </tr>\n",
       "  </tbody>\n",
       "</table>\n",
       "</div>"
      ],
      "text/plain": [
       "                 gene gene_name    zscore  effect_size    pvalue     var_g  \\\n",
       "0   ENSG00000124198.8   ARFGEF2 -3.882614    -0.028789  0.000103  0.001926   \n",
       "1   ENSG00000203782.5       LOR -3.867484    -0.071511  0.000110  0.000332   \n",
       "2  ENSG00000140455.16      USP3  3.855588     0.014233  0.000115  0.008465   \n",
       "3  ENSG00000143153.12    ATP1B1 -3.810115    -0.007699  0.000139  0.027629   \n",
       "4   ENSG00000111196.9    MAGOHB  3.744166     0.020899  0.000181  0.003938   \n",
       "\n",
       "   pred_perf_r2  pred_perf_pval  pred_perf_qval  n_snps_used  n_snps_in_cov  \\\n",
       "0           NaN             NaN             NaN            2              2   \n",
       "1           NaN             NaN             NaN            1              1   \n",
       "2           NaN             NaN             NaN            1              2   \n",
       "3           NaN             NaN             NaN            2              2   \n",
       "4           NaN             NaN             NaN            1              1   \n",
       "\n",
       "   n_snps_in_model  best_gwas_p  largest_weight  \n",
       "0                2     0.000280        0.066948  \n",
       "1                1     0.000110        0.028763  \n",
       "2                2     0.000115        0.133494  \n",
       "3                2     0.000036        0.332969  \n",
       "4                1     0.000181        0.182042  "
      ]
     },
     "execution_count": 60,
     "metadata": {},
     "output_type": "execute_result"
    }
   ],
   "source": [
    "# look at the structure of one result\n",
    "pd.read_csv(spredixcan_result_files[\"Whole_Blood\"]).head()"
   ]
  },
  {
   "cell_type": "code",
   "execution_count": 61,
   "id": "4381b9ff-6ab5-47f1-89d1-560f88fdf07f",
   "metadata": {
    "execution": {
     "iopub.execute_input": "2022-08-27T04:16:29.533928Z",
     "iopub.status.busy": "2022-08-27T04:16:29.533661Z",
     "iopub.status.idle": "2022-08-27T04:16:29.556344Z",
     "shell.execute_reply": "2022-08-27T04:16:29.555774Z"
    },
    "papermill": {
     "duration": 0.0505,
     "end_time": "2022-08-27T04:16:29.558070",
     "exception": false,
     "start_time": "2022-08-27T04:16:29.507570",
     "status": "completed"
    },
    "tags": []
   },
   "outputs": [],
   "source": [
    "assert all(f.exists() for f in spredixcan_result_files.values())"
   ]
  },
  {
   "cell_type": "code",
   "execution_count": 62,
   "id": "d477157f-51e9-4c7c-b826-7ab5f4fdf3e3",
   "metadata": {
    "execution": {
     "iopub.execute_input": "2022-08-27T04:16:29.609647Z",
     "iopub.status.busy": "2022-08-27T04:16:29.609384Z",
     "iopub.status.idle": "2022-08-27T04:16:30.803994Z",
     "shell.execute_reply": "2022-08-27T04:16:30.803325Z"
    },
    "papermill": {
     "duration": 1.222598,
     "end_time": "2022-08-27T04:16:30.806078",
     "exception": false,
     "start_time": "2022-08-27T04:16:29.583480",
     "status": "completed"
    },
    "tags": []
   },
   "outputs": [],
   "source": [
    "spredixcan_dfs = [\n",
    "    pd.read_csv(\n",
    "        f,\n",
    "        usecols=[\n",
    "            \"gene\",\n",
    "            \"zscore\",\n",
    "            \"pvalue\",\n",
    "            \"n_snps_used\",\n",
    "            \"n_snps_in_model\",\n",
    "        ],\n",
    "    )\n",
    "    .dropna(subset=[\"gene\", \"zscore\", \"pvalue\"])\n",
    "    .assign(tissue=t)\n",
    "    for t, f in spredixcan_result_files.items()\n",
    "]"
   ]
  },
  {
   "cell_type": "code",
   "execution_count": 63,
   "id": "9730bd37-b769-411f-bb6b-bb658d1ff88c",
   "metadata": {
    "execution": {
     "iopub.execute_input": "2022-08-27T04:16:30.857916Z",
     "iopub.status.busy": "2022-08-27T04:16:30.857644Z",
     "iopub.status.idle": "2022-08-27T04:16:30.873751Z",
     "shell.execute_reply": "2022-08-27T04:16:30.873206Z"
    },
    "papermill": {
     "duration": 0.044274,
     "end_time": "2022-08-27T04:16:30.875459",
     "exception": false,
     "start_time": "2022-08-27T04:16:30.831185",
     "status": "completed"
    },
    "tags": []
   },
   "outputs": [],
   "source": [
    "assert len(spredixcan_dfs) == len(prediction_model_tissues)"
   ]
  },
  {
   "cell_type": "code",
   "execution_count": 64,
   "id": "bcd73f53-1283-4ff6-bbb5-25fb71f5cb72",
   "metadata": {
    "execution": {
     "iopub.execute_input": "2022-08-27T04:16:30.949568Z",
     "iopub.status.busy": "2022-08-27T04:16:30.949305Z",
     "iopub.status.idle": "2022-08-27T04:16:31.047542Z",
     "shell.execute_reply": "2022-08-27T04:16:31.046944Z"
    },
    "papermill": {
     "duration": 0.126221,
     "end_time": "2022-08-27T04:16:31.049530",
     "exception": false,
     "start_time": "2022-08-27T04:16:30.923309",
     "status": "completed"
    },
    "tags": []
   },
   "outputs": [],
   "source": [
    "spredixcan_dfs = pd.concat(spredixcan_dfs)"
   ]
  },
  {
   "cell_type": "code",
   "execution_count": 65,
   "id": "ae99c7b5-14fc-4b39-a6b2-40fc703acd0a",
   "metadata": {
    "execution": {
     "iopub.execute_input": "2022-08-27T04:16:31.103165Z",
     "iopub.status.busy": "2022-08-27T04:16:31.102896Z",
     "iopub.status.idle": "2022-08-27T04:16:31.154657Z",
     "shell.execute_reply": "2022-08-27T04:16:31.154055Z"
    },
    "papermill": {
     "duration": 0.08166,
     "end_time": "2022-08-27T04:16:31.156647",
     "exception": false,
     "start_time": "2022-08-27T04:16:31.074987",
     "status": "completed"
    },
    "tags": []
   },
   "outputs": [],
   "source": [
    "assert spredixcan_dfs[\"tissue\"].unique().shape[0] == len(prediction_model_tissues)"
   ]
  },
  {
   "cell_type": "code",
   "execution_count": 66,
   "id": "b7223a23-e40f-4cd3-8988-72033f8739bd",
   "metadata": {
    "execution": {
     "iopub.execute_input": "2022-08-27T04:16:31.209288Z",
     "iopub.status.busy": "2022-08-27T04:16:31.209020Z",
     "iopub.status.idle": "2022-08-27T04:16:31.227833Z",
     "shell.execute_reply": "2022-08-27T04:16:31.227234Z"
    },
    "papermill": {
     "duration": 0.049583,
     "end_time": "2022-08-27T04:16:31.231411",
     "exception": false,
     "start_time": "2022-08-27T04:16:31.181828",
     "status": "completed"
    },
    "tags": []
   },
   "outputs": [
    {
     "data": {
      "text/plain": [
       "(666884, 6)"
      ]
     },
     "execution_count": 66,
     "metadata": {},
     "output_type": "execute_result"
    }
   ],
   "source": [
    "spredixcan_dfs.shape"
   ]
  },
  {
   "cell_type": "code",
   "execution_count": 67,
   "id": "4987073a-3b70-4162-93fb-beeb351ebfe0",
   "metadata": {
    "execution": {
     "iopub.execute_input": "2022-08-27T04:16:31.285632Z",
     "iopub.status.busy": "2022-08-27T04:16:31.285368Z",
     "iopub.status.idle": "2022-08-27T04:16:31.537097Z",
     "shell.execute_reply": "2022-08-27T04:16:31.536474Z"
    },
    "papermill": {
     "duration": 0.280474,
     "end_time": "2022-08-27T04:16:31.539110",
     "exception": false,
     "start_time": "2022-08-27T04:16:31.258636",
     "status": "completed"
    },
    "tags": []
   },
   "outputs": [],
   "source": [
    "spredixcan_dfs = spredixcan_dfs.assign(\n",
    "    gene_id=spredixcan_dfs[\"gene\"].apply(lambda g: g.split(\".\")[0])\n",
    ")"
   ]
  },
  {
   "cell_type": "code",
   "execution_count": 68,
   "id": "6b47d026-01c0-4f7c-a90e-f0baa13235f4",
   "metadata": {
    "execution": {
     "iopub.execute_input": "2022-08-27T04:16:31.594909Z",
     "iopub.status.busy": "2022-08-27T04:16:31.594611Z",
     "iopub.status.idle": "2022-08-27T04:16:31.619310Z",
     "shell.execute_reply": "2022-08-27T04:16:31.618707Z"
    },
    "papermill": {
     "duration": 0.055686,
     "end_time": "2022-08-27T04:16:31.620952",
     "exception": false,
     "start_time": "2022-08-27T04:16:31.565266",
     "status": "completed"
    },
    "tags": []
   },
   "outputs": [
    {
     "data": {
      "text/html": [
       "<div>\n",
       "<style scoped>\n",
       "    .dataframe tbody tr th:only-of-type {\n",
       "        vertical-align: middle;\n",
       "    }\n",
       "\n",
       "    .dataframe tbody tr th {\n",
       "        vertical-align: top;\n",
       "    }\n",
       "\n",
       "    .dataframe thead th {\n",
       "        text-align: right;\n",
       "    }\n",
       "</style>\n",
       "<table border=\"1\" class=\"dataframe\">\n",
       "  <thead>\n",
       "    <tr style=\"text-align: right;\">\n",
       "      <th></th>\n",
       "      <th>gene</th>\n",
       "      <th>zscore</th>\n",
       "      <th>pvalue</th>\n",
       "      <th>n_snps_used</th>\n",
       "      <th>n_snps_in_model</th>\n",
       "      <th>tissue</th>\n",
       "      <th>gene_id</th>\n",
       "    </tr>\n",
       "  </thead>\n",
       "  <tbody>\n",
       "    <tr>\n",
       "      <th>0</th>\n",
       "      <td>ENSG00000124198.8</td>\n",
       "      <td>-3.882614</td>\n",
       "      <td>0.000103</td>\n",
       "      <td>2</td>\n",
       "      <td>2</td>\n",
       "      <td>Whole_Blood</td>\n",
       "      <td>ENSG00000124198</td>\n",
       "    </tr>\n",
       "    <tr>\n",
       "      <th>1</th>\n",
       "      <td>ENSG00000203782.5</td>\n",
       "      <td>-3.867484</td>\n",
       "      <td>0.000110</td>\n",
       "      <td>1</td>\n",
       "      <td>1</td>\n",
       "      <td>Whole_Blood</td>\n",
       "      <td>ENSG00000203782</td>\n",
       "    </tr>\n",
       "    <tr>\n",
       "      <th>2</th>\n",
       "      <td>ENSG00000140455.16</td>\n",
       "      <td>3.855588</td>\n",
       "      <td>0.000115</td>\n",
       "      <td>1</td>\n",
       "      <td>2</td>\n",
       "      <td>Whole_Blood</td>\n",
       "      <td>ENSG00000140455</td>\n",
       "    </tr>\n",
       "    <tr>\n",
       "      <th>3</th>\n",
       "      <td>ENSG00000143153.12</td>\n",
       "      <td>-3.810115</td>\n",
       "      <td>0.000139</td>\n",
       "      <td>2</td>\n",
       "      <td>2</td>\n",
       "      <td>Whole_Blood</td>\n",
       "      <td>ENSG00000143153</td>\n",
       "    </tr>\n",
       "    <tr>\n",
       "      <th>4</th>\n",
       "      <td>ENSG00000111196.9</td>\n",
       "      <td>3.744166</td>\n",
       "      <td>0.000181</td>\n",
       "      <td>1</td>\n",
       "      <td>1</td>\n",
       "      <td>Whole_Blood</td>\n",
       "      <td>ENSG00000111196</td>\n",
       "    </tr>\n",
       "  </tbody>\n",
       "</table>\n",
       "</div>"
      ],
      "text/plain": [
       "                 gene    zscore    pvalue  n_snps_used  n_snps_in_model  \\\n",
       "0   ENSG00000124198.8 -3.882614  0.000103            2                2   \n",
       "1   ENSG00000203782.5 -3.867484  0.000110            1                1   \n",
       "2  ENSG00000140455.16  3.855588  0.000115            1                2   \n",
       "3  ENSG00000143153.12 -3.810115  0.000139            2                2   \n",
       "4   ENSG00000111196.9  3.744166  0.000181            1                1   \n",
       "\n",
       "        tissue          gene_id  \n",
       "0  Whole_Blood  ENSG00000124198  \n",
       "1  Whole_Blood  ENSG00000203782  \n",
       "2  Whole_Blood  ENSG00000140455  \n",
       "3  Whole_Blood  ENSG00000143153  \n",
       "4  Whole_Blood  ENSG00000111196  "
      ]
     },
     "execution_count": 68,
     "metadata": {},
     "output_type": "execute_result"
    }
   ],
   "source": [
    "spredixcan_dfs.head()"
   ]
  },
  {
   "cell_type": "code",
   "execution_count": 69,
   "id": "d5dbdb2e-b7eb-4665-9fd4-9ce714d6af0c",
   "metadata": {
    "execution": {
     "iopub.execute_input": "2022-08-27T04:16:31.675198Z",
     "iopub.status.busy": "2022-08-27T04:16:31.674930Z",
     "iopub.status.idle": "2022-08-27T04:16:31.821898Z",
     "shell.execute_reply": "2022-08-27T04:16:31.821278Z"
    },
    "papermill": {
     "duration": 0.176962,
     "end_time": "2022-08-27T04:16:31.823899",
     "exception": false,
     "start_time": "2022-08-27T04:16:31.646937",
     "status": "completed"
    },
    "tags": []
   },
   "outputs": [],
   "source": [
    "# leave only common genes\n",
    "spredixcan_dfs = spredixcan_dfs[spredixcan_dfs[\"gene_id\"].isin(set(genes_info[\"id\"]))]"
   ]
  },
  {
   "cell_type": "code",
   "execution_count": 70,
   "id": "8d34f99a-6b43-47aa-bb07-dfc67e169538",
   "metadata": {
    "execution": {
     "iopub.execute_input": "2022-08-27T04:16:31.878493Z",
     "iopub.status.busy": "2022-08-27T04:16:31.878220Z",
     "iopub.status.idle": "2022-08-27T04:16:31.897131Z",
     "shell.execute_reply": "2022-08-27T04:16:31.896524Z"
    },
    "papermill": {
     "duration": 0.048184,
     "end_time": "2022-08-27T04:16:31.898790",
     "exception": false,
     "start_time": "2022-08-27T04:16:31.850606",
     "status": "completed"
    },
    "tags": []
   },
   "outputs": [
    {
     "data": {
      "text/plain": [
       "(239332, 7)"
      ]
     },
     "execution_count": 70,
     "metadata": {},
     "output_type": "execute_result"
    }
   ],
   "source": [
    "spredixcan_dfs.shape"
   ]
  },
  {
   "cell_type": "markdown",
   "id": "5ecfd141-ecb8-47cf-905e-25cc1b4d3f9d",
   "metadata": {
    "papermill": {
     "duration": 0.027368,
     "end_time": "2022-08-27T04:16:31.952915",
     "exception": false,
     "start_time": "2022-08-27T04:16:31.925547",
     "status": "completed"
    },
    "tags": []
   },
   "source": [
    "### Count number of tissues available per gene"
   ]
  },
  {
   "cell_type": "code",
   "execution_count": 71,
   "id": "86fe37e1-a303-4221-a12e-3a54a04dd510",
   "metadata": {
    "execution": {
     "iopub.execute_input": "2022-08-27T04:16:32.004207Z",
     "iopub.status.busy": "2022-08-27T04:16:32.003940Z",
     "iopub.status.idle": "2022-08-27T04:16:32.089221Z",
     "shell.execute_reply": "2022-08-27T04:16:32.088578Z"
    },
    "papermill": {
     "duration": 0.11351,
     "end_time": "2022-08-27T04:16:32.091298",
     "exception": false,
     "start_time": "2022-08-27T04:16:31.977788",
     "status": "completed"
    },
    "tags": []
   },
   "outputs": [],
   "source": [
    "spredixcan_genes_n_models = spredixcan_dfs.groupby(\"gene_id\")[\"tissue\"].nunique()"
   ]
  },
  {
   "cell_type": "code",
   "execution_count": 72,
   "id": "31416d48-1e4d-463f-9a5c-34d29803c3f8",
   "metadata": {
    "execution": {
     "iopub.execute_input": "2022-08-27T04:16:32.144045Z",
     "iopub.status.busy": "2022-08-27T04:16:32.143783Z",
     "iopub.status.idle": "2022-08-27T04:16:32.163565Z",
     "shell.execute_reply": "2022-08-27T04:16:32.163023Z"
    },
    "papermill": {
     "duration": 0.048073,
     "end_time": "2022-08-27T04:16:32.165164",
     "exception": false,
     "start_time": "2022-08-27T04:16:32.117091",
     "status": "completed"
    },
    "tags": []
   },
   "outputs": [
    {
     "data": {
      "text/plain": [
       "gene_id\n",
       "ENSG00000000419     2\n",
       "ENSG00000000938    36\n",
       "ENSG00000000971    34\n",
       "ENSG00000001084    33\n",
       "ENSG00000001167    40\n",
       "                   ..\n",
       "ENSG00000278540    24\n",
       "ENSG00000278828     4\n",
       "ENSG00000278845    49\n",
       "ENSG00000281005    49\n",
       "ENSG00000282608    36\n",
       "Name: tissue, Length: 6428, dtype: int64"
      ]
     },
     "execution_count": 72,
     "metadata": {},
     "output_type": "execute_result"
    }
   ],
   "source": [
    "spredixcan_genes_n_models"
   ]
  },
  {
   "cell_type": "code",
   "execution_count": 73,
   "id": "d737ad4f-f821-4546-9a3e-6703fe264b49",
   "metadata": {
    "execution": {
     "iopub.execute_input": "2022-08-27T04:16:32.217414Z",
     "iopub.status.busy": "2022-08-27T04:16:32.217147Z",
     "iopub.status.idle": "2022-08-27T04:16:32.249642Z",
     "shell.execute_reply": "2022-08-27T04:16:32.249031Z"
    },
    "papermill": {
     "duration": 0.060589,
     "end_time": "2022-08-27T04:16:32.251587",
     "exception": false,
     "start_time": "2022-08-27T04:16:32.190998",
     "status": "completed"
    },
    "tags": []
   },
   "outputs": [],
   "source": [
    "# testing that in S-MultiXcan I get the same number of tissues per gene\n",
    "_tmp_smultixcan_results_n_models = (\n",
    "    smultixcan_results.set_index(\"gene_id\")[\"n\"].astype(int).rename(\"tissue\")\n",
    ")\n",
    "\n",
    "_cg = _tmp_smultixcan_results_n_models.index.intersection(\n",
    "    spredixcan_genes_n_models.index\n",
    ")\n",
    "_tmp_smultixcan_results_n_models = _tmp_smultixcan_results_n_models.loc[_cg]\n",
    "_spredixcan = spredixcan_genes_n_models.loc[_cg]\n",
    "\n",
    "assert _spredixcan.shape[0] == _tmp_smultixcan_results_n_models.shape[0]\n",
    "assert _spredixcan.equals(_tmp_smultixcan_results_n_models.loc[_spredixcan.index])"
   ]
  },
  {
   "cell_type": "markdown",
   "id": "904d7d30-9c2d-4c3e-b674-3f081954fe8b",
   "metadata": {
    "papermill": {
     "duration": 0.02568,
     "end_time": "2022-08-27T04:16:32.304207",
     "exception": false,
     "start_time": "2022-08-27T04:16:32.278527",
     "status": "completed"
    },
    "tags": []
   },
   "source": [
    "### Get tissues available per gene"
   ]
  },
  {
   "cell_type": "code",
   "execution_count": 74,
   "id": "cf014e81-4b4e-4c46-9265-67718b3ab08e",
   "metadata": {
    "execution": {
     "iopub.execute_input": "2022-08-27T04:16:32.357626Z",
     "iopub.status.busy": "2022-08-27T04:16:32.357358Z",
     "iopub.status.idle": "2022-08-27T04:16:32.557572Z",
     "shell.execute_reply": "2022-08-27T04:16:32.556970Z"
    },
    "papermill": {
     "duration": 0.229087,
     "end_time": "2022-08-27T04:16:32.559519",
     "exception": false,
     "start_time": "2022-08-27T04:16:32.330432",
     "status": "completed"
    },
    "tags": []
   },
   "outputs": [],
   "source": [
    "spredixcan_genes_models = spredixcan_dfs.groupby(\"gene_id\")[\"tissue\"].apply(\n",
    "    lambda x: frozenset(x.tolist())\n",
    ")"
   ]
  },
  {
   "cell_type": "code",
   "execution_count": 75,
   "id": "5df09d7f-39c9-408f-9fef-5189e8ca1c87",
   "metadata": {
    "execution": {
     "iopub.execute_input": "2022-08-27T04:16:32.613209Z",
     "iopub.status.busy": "2022-08-27T04:16:32.612941Z",
     "iopub.status.idle": "2022-08-27T04:16:32.635190Z",
     "shell.execute_reply": "2022-08-27T04:16:32.634642Z"
    },
    "papermill": {
     "duration": 0.050868,
     "end_time": "2022-08-27T04:16:32.636749",
     "exception": false,
     "start_time": "2022-08-27T04:16:32.585881",
     "status": "completed"
    },
    "tags": []
   },
   "outputs": [
    {
     "data": {
      "text/plain": [
       "gene_id\n",
       "ENSG00000000419         (Brain_Hypothalamus, Brain_Substantia_nigra)\n",
       "ENSG00000000938    (Esophagus_Gastroesophageal_Junction, Adipose_...\n",
       "ENSG00000000971    (Brain_Putamen_basal_ganglia, Esophagus_Gastro...\n",
       "ENSG00000001084    (Brain_Putamen_basal_ganglia, Adipose_Subcutan...\n",
       "ENSG00000001167    (Brain_Putamen_basal_ganglia, Esophagus_Gastro...\n",
       "                                         ...                        \n",
       "ENSG00000278540    (Brain_Putamen_basal_ganglia, Esophagus_Gastro...\n",
       "ENSG00000278828    (Artery_Coronary, Esophagus_Muscularis, Cells_...\n",
       "ENSG00000278845    (Brain_Putamen_basal_ganglia, Esophagus_Gastro...\n",
       "ENSG00000281005    (Brain_Putamen_basal_ganglia, Esophagus_Gastro...\n",
       "ENSG00000282608    (Brain_Putamen_basal_ganglia, Esophagus_Gastro...\n",
       "Name: tissue, Length: 6428, dtype: object"
      ]
     },
     "execution_count": 75,
     "metadata": {},
     "output_type": "execute_result"
    }
   ],
   "source": [
    "spredixcan_genes_models"
   ]
  },
  {
   "cell_type": "code",
   "execution_count": 76,
   "id": "97c46886-5a48-4813-b890-1dcdb09ec09d",
   "metadata": {
    "execution": {
     "iopub.execute_input": "2022-08-27T04:16:32.689997Z",
     "iopub.status.busy": "2022-08-27T04:16:32.689720Z",
     "iopub.status.idle": "2022-08-27T04:16:32.705541Z",
     "shell.execute_reply": "2022-08-27T04:16:32.705013Z"
    },
    "papermill": {
     "duration": 0.044945,
     "end_time": "2022-08-27T04:16:32.707233",
     "exception": false,
     "start_time": "2022-08-27T04:16:32.662288",
     "status": "completed"
    },
    "tags": []
   },
   "outputs": [],
   "source": [
    "assert spredixcan_genes_n_models.shape[0] == spredixcan_genes_models.shape[0]"
   ]
  },
  {
   "cell_type": "code",
   "execution_count": 77,
   "id": "abc13913-a681-4297-a0e6-dde62f43c36f",
   "metadata": {
    "execution": {
     "iopub.execute_input": "2022-08-27T04:16:32.761594Z",
     "iopub.status.busy": "2022-08-27T04:16:32.761326Z",
     "iopub.status.idle": "2022-08-27T04:16:32.778036Z",
     "shell.execute_reply": "2022-08-27T04:16:32.777487Z"
    },
    "papermill": {
     "duration": 0.045361,
     "end_time": "2022-08-27T04:16:32.779726",
     "exception": false,
     "start_time": "2022-08-27T04:16:32.734365",
     "status": "completed"
    },
    "tags": []
   },
   "outputs": [],
   "source": [
    "assert spredixcan_genes_n_models.index.equals(spredixcan_genes_models.index)"
   ]
  },
  {
   "cell_type": "code",
   "execution_count": 78,
   "id": "995a02e7-b836-471b-b438-17c8c46e4fde",
   "metadata": {
    "execution": {
     "iopub.execute_input": "2022-08-27T04:16:32.832342Z",
     "iopub.status.busy": "2022-08-27T04:16:32.832076Z",
     "iopub.status.idle": "2022-08-27T04:16:32.849974Z",
     "shell.execute_reply": "2022-08-27T04:16:32.849426Z"
    },
    "papermill": {
     "duration": 0.04615,
     "end_time": "2022-08-27T04:16:32.851614",
     "exception": false,
     "start_time": "2022-08-27T04:16:32.805464",
     "status": "completed"
    },
    "tags": []
   },
   "outputs": [],
   "source": [
    "assert (spredixcan_genes_models.apply(len) <= len(prediction_model_tissues)).all()"
   ]
  },
  {
   "cell_type": "code",
   "execution_count": 79,
   "id": "0c1d0c68-1a06-480c-b6d6-d3c4fdf0f5aa",
   "metadata": {
    "execution": {
     "iopub.execute_input": "2022-08-27T04:16:32.905588Z",
     "iopub.status.busy": "2022-08-27T04:16:32.905315Z",
     "iopub.status.idle": "2022-08-27T04:16:32.927977Z",
     "shell.execute_reply": "2022-08-27T04:16:32.927423Z"
    },
    "papermill": {
     "duration": 0.051134,
     "end_time": "2022-08-27T04:16:32.929611",
     "exception": false,
     "start_time": "2022-08-27T04:16:32.878477",
     "status": "completed"
    },
    "tags": []
   },
   "outputs": [
    {
     "data": {
      "text/plain": [
       "count    6428.000000\n",
       "mean       37.232732\n",
       "std        12.680376\n",
       "min         1.000000\n",
       "25%        31.000000\n",
       "50%        42.000000\n",
       "75%        47.000000\n",
       "max        49.000000\n",
       "Name: tissue, dtype: float64"
      ]
     },
     "execution_count": 79,
     "metadata": {},
     "output_type": "execute_result"
    }
   ],
   "source": [
    "spredixcan_genes_models.apply(len).describe()"
   ]
  },
  {
   "cell_type": "code",
   "execution_count": 80,
   "id": "991b9441-6bb5-4b72-9285-5fd579875e40",
   "metadata": {
    "execution": {
     "iopub.execute_input": "2022-08-27T04:16:32.982811Z",
     "iopub.status.busy": "2022-08-27T04:16:32.982541Z",
     "iopub.status.idle": "2022-08-27T04:16:33.002254Z",
     "shell.execute_reply": "2022-08-27T04:16:33.001657Z"
    },
    "papermill": {
     "duration": 0.048199,
     "end_time": "2022-08-27T04:16:33.004034",
     "exception": false,
     "start_time": "2022-08-27T04:16:32.955835",
     "status": "completed"
    },
    "tags": []
   },
   "outputs": [],
   "source": [
    "# testing\n",
    "assert (\n",
    "    spredixcan_genes_models.loc[spredixcan_genes_n_models.index]\n",
    "    .apply(len)\n",
    "    .equals(spredixcan_genes_n_models)\n",
    ")"
   ]
  },
  {
   "cell_type": "markdown",
   "id": "3042b22d-9d88-4e21-b112-ab23cf8d24ea",
   "metadata": {
    "papermill": {
     "duration": 0.026992,
     "end_time": "2022-08-27T04:16:33.058594",
     "exception": false,
     "start_time": "2022-08-27T04:16:33.031602",
     "status": "completed"
    },
    "tags": []
   },
   "source": [
    "### Add gene name and set index"
   ]
  },
  {
   "cell_type": "code",
   "execution_count": 81,
   "id": "3b7b0e76-7aca-44bf-beff-5f1c1b6193ee",
   "metadata": {
    "execution": {
     "iopub.execute_input": "2022-08-27T04:16:33.113261Z",
     "iopub.status.busy": "2022-08-27T04:16:33.112998Z",
     "iopub.status.idle": "2022-08-27T04:16:33.129842Z",
     "shell.execute_reply": "2022-08-27T04:16:33.129269Z"
    },
    "papermill": {
     "duration": 0.046398,
     "end_time": "2022-08-27T04:16:33.131603",
     "exception": false,
     "start_time": "2022-08-27T04:16:33.085205",
     "status": "completed"
    },
    "tags": []
   },
   "outputs": [],
   "source": [
    "spredixcan_genes_models = spredixcan_genes_models.to_frame().reset_index()"
   ]
  },
  {
   "cell_type": "code",
   "execution_count": 82,
   "id": "ffab4b61-c2d4-4bcc-a147-23a4bf30f715",
   "metadata": {
    "execution": {
     "iopub.execute_input": "2022-08-27T04:16:33.186904Z",
     "iopub.status.busy": "2022-08-27T04:16:33.186637Z",
     "iopub.status.idle": "2022-08-27T04:16:33.209099Z",
     "shell.execute_reply": "2022-08-27T04:16:33.208508Z"
    },
    "papermill": {
     "duration": 0.051627,
     "end_time": "2022-08-27T04:16:33.210661",
     "exception": false,
     "start_time": "2022-08-27T04:16:33.159034",
     "status": "completed"
    },
    "tags": []
   },
   "outputs": [
    {
     "data": {
      "text/html": [
       "<div>\n",
       "<style scoped>\n",
       "    .dataframe tbody tr th:only-of-type {\n",
       "        vertical-align: middle;\n",
       "    }\n",
       "\n",
       "    .dataframe tbody tr th {\n",
       "        vertical-align: top;\n",
       "    }\n",
       "\n",
       "    .dataframe thead th {\n",
       "        text-align: right;\n",
       "    }\n",
       "</style>\n",
       "<table border=\"1\" class=\"dataframe\">\n",
       "  <thead>\n",
       "    <tr style=\"text-align: right;\">\n",
       "      <th></th>\n",
       "      <th>gene_id</th>\n",
       "      <th>tissue</th>\n",
       "    </tr>\n",
       "  </thead>\n",
       "  <tbody>\n",
       "    <tr>\n",
       "      <th>0</th>\n",
       "      <td>ENSG00000000419</td>\n",
       "      <td>(Brain_Hypothalamus, Brain_Substantia_nigra)</td>\n",
       "    </tr>\n",
       "    <tr>\n",
       "      <th>1</th>\n",
       "      <td>ENSG00000000938</td>\n",
       "      <td>(Esophagus_Gastroesophageal_Junction, Adipose_...</td>\n",
       "    </tr>\n",
       "    <tr>\n",
       "      <th>2</th>\n",
       "      <td>ENSG00000000971</td>\n",
       "      <td>(Brain_Putamen_basal_ganglia, Esophagus_Gastro...</td>\n",
       "    </tr>\n",
       "    <tr>\n",
       "      <th>3</th>\n",
       "      <td>ENSG00000001084</td>\n",
       "      <td>(Brain_Putamen_basal_ganglia, Adipose_Subcutan...</td>\n",
       "    </tr>\n",
       "    <tr>\n",
       "      <th>4</th>\n",
       "      <td>ENSG00000001167</td>\n",
       "      <td>(Brain_Putamen_basal_ganglia, Esophagus_Gastro...</td>\n",
       "    </tr>\n",
       "  </tbody>\n",
       "</table>\n",
       "</div>"
      ],
      "text/plain": [
       "           gene_id                                             tissue\n",
       "0  ENSG00000000419       (Brain_Hypothalamus, Brain_Substantia_nigra)\n",
       "1  ENSG00000000938  (Esophagus_Gastroesophageal_Junction, Adipose_...\n",
       "2  ENSG00000000971  (Brain_Putamen_basal_ganglia, Esophagus_Gastro...\n",
       "3  ENSG00000001084  (Brain_Putamen_basal_ganglia, Adipose_Subcutan...\n",
       "4  ENSG00000001167  (Brain_Putamen_basal_ganglia, Esophagus_Gastro..."
      ]
     },
     "execution_count": 82,
     "metadata": {},
     "output_type": "execute_result"
    }
   ],
   "source": [
    "spredixcan_genes_models.head()"
   ]
  },
  {
   "cell_type": "code",
   "execution_count": 83,
   "id": "e1cb2fe5-969f-4526-bca7-a3b8919b3509",
   "metadata": {
    "execution": {
     "iopub.execute_input": "2022-08-27T04:16:33.265217Z",
     "iopub.status.busy": "2022-08-27T04:16:33.264939Z",
     "iopub.status.idle": "2022-08-27T04:16:33.285481Z",
     "shell.execute_reply": "2022-08-27T04:16:33.284913Z"
    },
    "papermill": {
     "duration": 0.049598,
     "end_time": "2022-08-27T04:16:33.287224",
     "exception": false,
     "start_time": "2022-08-27T04:16:33.237626",
     "status": "completed"
    },
    "tags": []
   },
   "outputs": [],
   "source": [
    "spredixcan_genes_models = spredixcan_genes_models.assign(\n",
    "    gene_name=spredixcan_genes_models[\"gene_id\"].apply(\n",
    "        lambda g: Gene.GENE_ID_TO_NAME_MAP[g]\n",
    "    )\n",
    ")"
   ]
  },
  {
   "cell_type": "code",
   "execution_count": 84,
   "id": "ff078ce5-3f18-442e-a593-3326436c758e",
   "metadata": {
    "execution": {
     "iopub.execute_input": "2022-08-27T04:16:33.342142Z",
     "iopub.status.busy": "2022-08-27T04:16:33.341873Z",
     "iopub.status.idle": "2022-08-27T04:16:33.359836Z",
     "shell.execute_reply": "2022-08-27T04:16:33.359258Z"
    },
    "papermill": {
     "duration": 0.047029,
     "end_time": "2022-08-27T04:16:33.361524",
     "exception": false,
     "start_time": "2022-08-27T04:16:33.314495",
     "status": "completed"
    },
    "tags": []
   },
   "outputs": [],
   "source": [
    "spredixcan_genes_models = spredixcan_genes_models[[\"gene_id\", \"gene_name\", \"tissue\"]]"
   ]
  },
  {
   "cell_type": "code",
   "execution_count": 85,
   "id": "a65c8bf2-5ecd-4f80-a857-11f8a0c019c4",
   "metadata": {
    "execution": {
     "iopub.execute_input": "2022-08-27T04:16:33.417760Z",
     "iopub.status.busy": "2022-08-27T04:16:33.417476Z",
     "iopub.status.idle": "2022-08-27T04:16:33.434870Z",
     "shell.execute_reply": "2022-08-27T04:16:33.434280Z"
    },
    "papermill": {
     "duration": 0.048053,
     "end_time": "2022-08-27T04:16:33.436582",
     "exception": false,
     "start_time": "2022-08-27T04:16:33.388529",
     "status": "completed"
    },
    "tags": []
   },
   "outputs": [],
   "source": [
    "spredixcan_genes_models = spredixcan_genes_models.set_index(\"gene_id\")"
   ]
  },
  {
   "cell_type": "code",
   "execution_count": 86,
   "id": "af6b40b9-fc58-47a1-a1b5-4404034b008b",
   "metadata": {
    "execution": {
     "iopub.execute_input": "2022-08-27T04:16:33.492148Z",
     "iopub.status.busy": "2022-08-27T04:16:33.491879Z",
     "iopub.status.idle": "2022-08-27T04:16:33.515627Z",
     "shell.execute_reply": "2022-08-27T04:16:33.515063Z"
    },
    "papermill": {
     "duration": 0.053492,
     "end_time": "2022-08-27T04:16:33.517317",
     "exception": false,
     "start_time": "2022-08-27T04:16:33.463825",
     "status": "completed"
    },
    "tags": []
   },
   "outputs": [
    {
     "data": {
      "text/html": [
       "<div>\n",
       "<style scoped>\n",
       "    .dataframe tbody tr th:only-of-type {\n",
       "        vertical-align: middle;\n",
       "    }\n",
       "\n",
       "    .dataframe tbody tr th {\n",
       "        vertical-align: top;\n",
       "    }\n",
       "\n",
       "    .dataframe thead th {\n",
       "        text-align: right;\n",
       "    }\n",
       "</style>\n",
       "<table border=\"1\" class=\"dataframe\">\n",
       "  <thead>\n",
       "    <tr style=\"text-align: right;\">\n",
       "      <th></th>\n",
       "      <th>gene_name</th>\n",
       "      <th>tissue</th>\n",
       "    </tr>\n",
       "    <tr>\n",
       "      <th>gene_id</th>\n",
       "      <th></th>\n",
       "      <th></th>\n",
       "    </tr>\n",
       "  </thead>\n",
       "  <tbody>\n",
       "    <tr>\n",
       "      <th>ENSG00000000419</th>\n",
       "      <td>DPM1</td>\n",
       "      <td>(Brain_Hypothalamus, Brain_Substantia_nigra)</td>\n",
       "    </tr>\n",
       "    <tr>\n",
       "      <th>ENSG00000000938</th>\n",
       "      <td>FGR</td>\n",
       "      <td>(Esophagus_Gastroesophageal_Junction, Adipose_...</td>\n",
       "    </tr>\n",
       "    <tr>\n",
       "      <th>ENSG00000000971</th>\n",
       "      <td>CFH</td>\n",
       "      <td>(Brain_Putamen_basal_ganglia, Esophagus_Gastro...</td>\n",
       "    </tr>\n",
       "    <tr>\n",
       "      <th>ENSG00000001084</th>\n",
       "      <td>GCLC</td>\n",
       "      <td>(Brain_Putamen_basal_ganglia, Adipose_Subcutan...</td>\n",
       "    </tr>\n",
       "    <tr>\n",
       "      <th>ENSG00000001167</th>\n",
       "      <td>NFYA</td>\n",
       "      <td>(Brain_Putamen_basal_ganglia, Esophagus_Gastro...</td>\n",
       "    </tr>\n",
       "  </tbody>\n",
       "</table>\n",
       "</div>"
      ],
      "text/plain": [
       "                gene_name                                             tissue\n",
       "gene_id                                                                     \n",
       "ENSG00000000419      DPM1       (Brain_Hypothalamus, Brain_Substantia_nigra)\n",
       "ENSG00000000938       FGR  (Esophagus_Gastroesophageal_Junction, Adipose_...\n",
       "ENSG00000000971       CFH  (Brain_Putamen_basal_ganglia, Esophagus_Gastro...\n",
       "ENSG00000001084      GCLC  (Brain_Putamen_basal_ganglia, Adipose_Subcutan...\n",
       "ENSG00000001167      NFYA  (Brain_Putamen_basal_ganglia, Esophagus_Gastro..."
      ]
     },
     "execution_count": 86,
     "metadata": {},
     "output_type": "execute_result"
    }
   ],
   "source": [
    "spredixcan_genes_models.head()"
   ]
  },
  {
   "cell_type": "markdown",
   "id": "d1e67be9-9094-4a07-b89d-3a0815d503e6",
   "metadata": {
    "papermill": {
     "duration": 0.028123,
     "end_time": "2022-08-27T04:16:33.573102",
     "exception": false,
     "start_time": "2022-08-27T04:16:33.544979",
     "status": "completed"
    },
    "tags": []
   },
   "source": [
    "### Add number of tissues"
   ]
  },
  {
   "cell_type": "code",
   "execution_count": 87,
   "id": "b2702bdb-b3bc-48e6-9c3e-855924d9e74b",
   "metadata": {
    "execution": {
     "iopub.execute_input": "2022-08-27T04:16:33.628760Z",
     "iopub.status.busy": "2022-08-27T04:16:33.628480Z",
     "iopub.status.idle": "2022-08-27T04:16:33.648091Z",
     "shell.execute_reply": "2022-08-27T04:16:33.647481Z"
    },
    "papermill": {
     "duration": 0.04912,
     "end_time": "2022-08-27T04:16:33.649922",
     "exception": false,
     "start_time": "2022-08-27T04:16:33.600802",
     "status": "completed"
    },
    "tags": []
   },
   "outputs": [],
   "source": [
    "spredixcan_genes_models = spredixcan_genes_models.assign(\n",
    "    n_tissues=spredixcan_genes_models[\"tissue\"].apply(len)\n",
    ")"
   ]
  },
  {
   "cell_type": "code",
   "execution_count": 88,
   "id": "4a5eb4b8-5e11-45a3-a991-0515bd83fc03",
   "metadata": {
    "execution": {
     "iopub.execute_input": "2022-08-27T04:16:33.706176Z",
     "iopub.status.busy": "2022-08-27T04:16:33.705912Z",
     "iopub.status.idle": "2022-08-27T04:16:33.729221Z",
     "shell.execute_reply": "2022-08-27T04:16:33.728667Z"
    },
    "papermill": {
     "duration": 0.053212,
     "end_time": "2022-08-27T04:16:33.730812",
     "exception": false,
     "start_time": "2022-08-27T04:16:33.677600",
     "status": "completed"
    },
    "tags": []
   },
   "outputs": [
    {
     "data": {
      "text/html": [
       "<div>\n",
       "<style scoped>\n",
       "    .dataframe tbody tr th:only-of-type {\n",
       "        vertical-align: middle;\n",
       "    }\n",
       "\n",
       "    .dataframe tbody tr th {\n",
       "        vertical-align: top;\n",
       "    }\n",
       "\n",
       "    .dataframe thead th {\n",
       "        text-align: right;\n",
       "    }\n",
       "</style>\n",
       "<table border=\"1\" class=\"dataframe\">\n",
       "  <thead>\n",
       "    <tr style=\"text-align: right;\">\n",
       "      <th></th>\n",
       "      <th>gene_name</th>\n",
       "      <th>tissue</th>\n",
       "      <th>n_tissues</th>\n",
       "    </tr>\n",
       "    <tr>\n",
       "      <th>gene_id</th>\n",
       "      <th></th>\n",
       "      <th></th>\n",
       "      <th></th>\n",
       "    </tr>\n",
       "  </thead>\n",
       "  <tbody>\n",
       "    <tr>\n",
       "      <th>ENSG00000000419</th>\n",
       "      <td>DPM1</td>\n",
       "      <td>(Brain_Hypothalamus, Brain_Substantia_nigra)</td>\n",
       "      <td>2</td>\n",
       "    </tr>\n",
       "    <tr>\n",
       "      <th>ENSG00000000938</th>\n",
       "      <td>FGR</td>\n",
       "      <td>(Esophagus_Gastroesophageal_Junction, Adipose_...</td>\n",
       "      <td>36</td>\n",
       "    </tr>\n",
       "    <tr>\n",
       "      <th>ENSG00000000971</th>\n",
       "      <td>CFH</td>\n",
       "      <td>(Brain_Putamen_basal_ganglia, Esophagus_Gastro...</td>\n",
       "      <td>34</td>\n",
       "    </tr>\n",
       "    <tr>\n",
       "      <th>ENSG00000001084</th>\n",
       "      <td>GCLC</td>\n",
       "      <td>(Brain_Putamen_basal_ganglia, Adipose_Subcutan...</td>\n",
       "      <td>33</td>\n",
       "    </tr>\n",
       "    <tr>\n",
       "      <th>ENSG00000001167</th>\n",
       "      <td>NFYA</td>\n",
       "      <td>(Brain_Putamen_basal_ganglia, Esophagus_Gastro...</td>\n",
       "      <td>40</td>\n",
       "    </tr>\n",
       "  </tbody>\n",
       "</table>\n",
       "</div>"
      ],
      "text/plain": [
       "                gene_name                                             tissue  \\\n",
       "gene_id                                                                        \n",
       "ENSG00000000419      DPM1       (Brain_Hypothalamus, Brain_Substantia_nigra)   \n",
       "ENSG00000000938       FGR  (Esophagus_Gastroesophageal_Junction, Adipose_...   \n",
       "ENSG00000000971       CFH  (Brain_Putamen_basal_ganglia, Esophagus_Gastro...   \n",
       "ENSG00000001084      GCLC  (Brain_Putamen_basal_ganglia, Adipose_Subcutan...   \n",
       "ENSG00000001167      NFYA  (Brain_Putamen_basal_ganglia, Esophagus_Gastro...   \n",
       "\n",
       "                 n_tissues  \n",
       "gene_id                     \n",
       "ENSG00000000419          2  \n",
       "ENSG00000000938         36  \n",
       "ENSG00000000971         34  \n",
       "ENSG00000001084         33  \n",
       "ENSG00000001167         40  "
      ]
     },
     "execution_count": 88,
     "metadata": {},
     "output_type": "execute_result"
    }
   ],
   "source": [
    "spredixcan_genes_models.head()"
   ]
  },
  {
   "cell_type": "markdown",
   "id": "2abce820-1cb4-4a58-9dc5-b3e37d3ff037",
   "metadata": {
    "papermill": {
     "duration": 0.027289,
     "end_time": "2022-08-27T04:16:33.785446",
     "exception": false,
     "start_time": "2022-08-27T04:16:33.758157",
     "status": "completed"
    },
    "tags": []
   },
   "source": [
    "### Save"
   ]
  },
  {
   "cell_type": "markdown",
   "id": "28462e2a-da49-44c4-ae71-b3830a2b108f",
   "metadata": {
    "papermill": {
     "duration": 0.026966,
     "end_time": "2022-08-27T04:16:33.840082",
     "exception": false,
     "start_time": "2022-08-27T04:16:33.813116",
     "status": "completed"
    },
    "tags": []
   },
   "source": [
    "Here I quickly save these results to a file, given that the next steps (covariates) are slow to compute."
   ]
  },
  {
   "cell_type": "code",
   "execution_count": 89,
   "id": "9cfb687d-5ab2-4e85-9944-f5c685de8046",
   "metadata": {
    "execution": {
     "iopub.execute_input": "2022-08-27T04:16:33.896619Z",
     "iopub.status.busy": "2022-08-27T04:16:33.896355Z",
     "iopub.status.idle": "2022-08-27T04:16:33.913472Z",
     "shell.execute_reply": "2022-08-27T04:16:33.912892Z"
    },
    "papermill": {
     "duration": 0.04759,
     "end_time": "2022-08-27T04:16:33.915426",
     "exception": false,
     "start_time": "2022-08-27T04:16:33.867836",
     "status": "completed"
    },
    "tags": []
   },
   "outputs": [],
   "source": [
    "# this is important, other scripts depend on gene_name to be unique\n",
    "assert spredixcan_genes_models[\"gene_name\"].is_unique"
   ]
  },
  {
   "cell_type": "code",
   "execution_count": 90,
   "id": "b2d9bd26-afaa-4aff-a707-3109e13af9bb",
   "metadata": {
    "execution": {
     "iopub.execute_input": "2022-08-27T04:16:33.972338Z",
     "iopub.status.busy": "2022-08-27T04:16:33.972078Z",
     "iopub.status.idle": "2022-08-27T04:16:33.988847Z",
     "shell.execute_reply": "2022-08-27T04:16:33.988269Z"
    },
    "papermill": {
     "duration": 0.047491,
     "end_time": "2022-08-27T04:16:33.990611",
     "exception": false,
     "start_time": "2022-08-27T04:16:33.943120",
     "status": "completed"
    },
    "tags": []
   },
   "outputs": [],
   "source": [
    "assert not spredixcan_genes_models.isna().any(None)"
   ]
  },
  {
   "cell_type": "code",
   "execution_count": 91,
   "id": "074b103c-2960-4299-a3ac-fa37ab6f2784",
   "metadata": {
    "execution": {
     "iopub.execute_input": "2022-08-27T04:16:34.045707Z",
     "iopub.status.busy": "2022-08-27T04:16:34.045480Z",
     "iopub.status.idle": "2022-08-27T04:16:34.080176Z",
     "shell.execute_reply": "2022-08-27T04:16:34.079550Z"
    },
    "papermill": {
     "duration": 0.06371,
     "end_time": "2022-08-27T04:16:34.082176",
     "exception": false,
     "start_time": "2022-08-27T04:16:34.018466",
     "status": "completed"
    },
    "tags": []
   },
   "outputs": [],
   "source": [
    "spredixcan_genes_models.to_pickle(OUTPUT_DIR_BASE / \"gene_tissues.pkl\")"
   ]
  },
  {
   "cell_type": "markdown",
   "id": "ae18f693-4da8-48ae-85b6-8194abcca684",
   "metadata": {
    "papermill": {
     "duration": 0.027954,
     "end_time": "2022-08-27T04:16:34.138896",
     "exception": false,
     "start_time": "2022-08-27T04:16:34.110942",
     "status": "completed"
    },
    "tags": []
   },
   "source": [
    "## Add covariates based on S-PrediXcan results"
   ]
  },
  {
   "cell_type": "markdown",
   "id": "bed7a46c-4906-40b9-9dd8-0bfb584e6d2a",
   "metadata": {
    "papermill": {
     "duration": 0.027917,
     "end_time": "2022-08-27T04:16:34.195153",
     "exception": false,
     "start_time": "2022-08-27T04:16:34.167236",
     "status": "completed"
    },
    "tags": []
   },
   "source": [
    "This extend the previous file with more columns"
   ]
  },
  {
   "cell_type": "markdown",
   "id": "850c554f-2ace-40a3-a33a-477246bb07c7",
   "metadata": {
    "papermill": {
     "duration": 0.028058,
     "end_time": "2022-08-27T04:16:34.252188",
     "exception": false,
     "start_time": "2022-08-27T04:16:34.224130",
     "status": "completed"
    },
    "tags": []
   },
   "source": [
    "### Get gene's objects"
   ]
  },
  {
   "cell_type": "code",
   "execution_count": 92,
   "id": "dfd93711-5c91-4cb6-8561-f366e270b6b1",
   "metadata": {
    "execution": {
     "iopub.execute_input": "2022-08-27T04:16:34.310316Z",
     "iopub.status.busy": "2022-08-27T04:16:34.310033Z",
     "iopub.status.idle": "2022-08-27T04:16:34.360384Z",
     "shell.execute_reply": "2022-08-27T04:16:34.359766Z"
    },
    "papermill": {
     "duration": 0.081838,
     "end_time": "2022-08-27T04:16:34.362418",
     "exception": false,
     "start_time": "2022-08-27T04:16:34.280580",
     "status": "completed"
    },
    "tags": []
   },
   "outputs": [],
   "source": [
    "spredixcan_gene_obj = {\n",
    "    gene_id: Gene(ensembl_id=gene_id) for gene_id in spredixcan_genes_models.index\n",
    "}"
   ]
  },
  {
   "cell_type": "code",
   "execution_count": 93,
   "id": "59efbedc-0b5d-4d0b-bd82-95e74c0ba793",
   "metadata": {
    "execution": {
     "iopub.execute_input": "2022-08-27T04:16:34.419301Z",
     "iopub.status.busy": "2022-08-27T04:16:34.419034Z",
     "iopub.status.idle": "2022-08-27T04:16:34.437793Z",
     "shell.execute_reply": "2022-08-27T04:16:34.437195Z"
    },
    "papermill": {
     "duration": 0.049305,
     "end_time": "2022-08-27T04:16:34.439451",
     "exception": false,
     "start_time": "2022-08-27T04:16:34.390146",
     "status": "completed"
    },
    "tags": []
   },
   "outputs": [
    {
     "data": {
      "text/plain": [
       "6428"
      ]
     },
     "execution_count": 93,
     "metadata": {},
     "output_type": "execute_result"
    }
   ],
   "source": [
    "len(spredixcan_gene_obj)"
   ]
  },
  {
   "cell_type": "markdown",
   "id": "27ac1828-755a-424a-b416-6aef1f0c2e45",
   "metadata": {
    "papermill": {
     "duration": 0.02924,
     "end_time": "2022-08-27T04:16:34.497627",
     "exception": false,
     "start_time": "2022-08-27T04:16:34.468387",
     "status": "completed"
    },
    "tags": []
   },
   "source": [
    "### Add genes' variance captured by principal components"
   ]
  },
  {
   "cell_type": "code",
   "execution_count": 94,
   "id": "893b3418-054c-44d2-9ce0-7fa590aef00e",
   "metadata": {
    "execution": {
     "iopub.execute_input": "2022-08-27T04:16:34.554947Z",
     "iopub.status.busy": "2022-08-27T04:16:34.554664Z",
     "iopub.status.idle": "2022-08-27T04:16:34.571836Z",
     "shell.execute_reply": "2022-08-27T04:16:34.571238Z"
    },
    "papermill": {
     "duration": 0.047861,
     "end_time": "2022-08-27T04:16:34.573758",
     "exception": false,
     "start_time": "2022-08-27T04:16:34.525897",
     "status": "completed"
    },
    "tags": []
   },
   "outputs": [],
   "source": [
    "def _get_gene_pc_variance(gene_row):\n",
    "    gene_id = gene_row.name\n",
    "    gene_tissues = gene_row[\"tissue\"]\n",
    "    gene_obj = spredixcan_gene_obj[gene_id]\n",
    "\n",
    "    u, s, vt = gene_obj.get_tissues_correlations_svd(\n",
    "        tissues=gene_tissues,\n",
    "        snps_subset=gwas_variants_ids_set,\n",
    "        reference_panel=REFERENCE_PANEL,\n",
    "        model_type=EQTL_MODEL,\n",
    "        # use_covariance_matrix=True,\n",
    "    )\n",
    "\n",
    "    return s"
   ]
  },
  {
   "cell_type": "code",
   "execution_count": 95,
   "id": "083afa33-cea0-40d3-af20-94a1307a6607",
   "metadata": {
    "execution": {
     "iopub.execute_input": "2022-08-27T04:16:34.631540Z",
     "iopub.status.busy": "2022-08-27T04:16:34.631275Z",
     "iopub.status.idle": "2022-08-27T04:16:38.710004Z",
     "shell.execute_reply": "2022-08-27T04:16:38.709410Z"
    },
    "papermill": {
     "duration": 4.109519,
     "end_time": "2022-08-27T04:16:38.711768",
     "exception": false,
     "start_time": "2022-08-27T04:16:34.602249",
     "status": "completed"
    },
    "tags": []
   },
   "outputs": [
    {
     "data": {
      "text/plain": [
       "array([38.82188189,  2.22342475,  1.88381439,  1.37562135])"
      ]
     },
     "execution_count": 95,
     "metadata": {},
     "output_type": "execute_result"
    }
   ],
   "source": [
    "_tmp = spredixcan_genes_models.loc[\"ENSG00000188976\"]\n",
    "_get_gene_pc_variance(_tmp)"
   ]
  },
  {
   "cell_type": "code",
   "execution_count": 96,
   "id": "80f7720d-79c9-4183-bb7e-b1480f31ed87",
   "metadata": {
    "execution": {
     "iopub.execute_input": "2022-08-27T04:16:38.767196Z",
     "iopub.status.busy": "2022-08-27T04:16:38.766962Z",
     "iopub.status.idle": "2022-08-27T05:50:15.955373Z",
     "shell.execute_reply": "2022-08-27T05:50:15.954530Z"
    },
    "papermill": {
     "duration": 5617.218375,
     "end_time": "2022-08-27T05:50:15.957497",
     "exception": false,
     "start_time": "2022-08-27T04:16:38.739122",
     "status": "completed"
    },
    "tags": []
   },
   "outputs": [],
   "source": [
    "spredixcan_genes_tissues_pc_variance = spredixcan_genes_models.apply(\n",
    "    _get_gene_pc_variance, axis=1\n",
    ")"
   ]
  },
  {
   "cell_type": "code",
   "execution_count": 97,
   "id": "621302a1-1407-4400-9282-e37798bb18b3",
   "metadata": {
    "execution": {
     "iopub.execute_input": "2022-08-27T05:50:16.033563Z",
     "iopub.status.busy": "2022-08-27T05:50:16.033281Z",
     "iopub.status.idle": "2022-08-27T05:50:16.253445Z",
     "shell.execute_reply": "2022-08-27T05:50:16.252836Z"
    },
    "papermill": {
     "duration": 0.253114,
     "end_time": "2022-08-27T05:50:16.255177",
     "exception": false,
     "start_time": "2022-08-27T05:50:16.002063",
     "status": "completed"
    },
    "tags": []
   },
   "outputs": [
    {
     "data": {
      "text/plain": [
       "gene_id\n",
       "ENSG00000000419             [1.0442398458252409, 0.9557601541747592]\n",
       "ENSG00000000938    [31.632669336371276, 2.0783677518511436, 1.271...\n",
       "ENSG00000000971    [21.560769925683296, 7.3101709870454625, 1.837...\n",
       "ENSG00000001084    [21.74736589643256, 4.700645786683648, 2.24994...\n",
       "ENSG00000001167              [37.33566029549769, 1.3914019604538372]\n",
       "                                         ...                        \n",
       "ENSG00000278540    [16.984313626357018, 3.6874752488484717, 1.821...\n",
       "ENSG00000278828              [3.062182335109642, 0.9378176648903573]\n",
       "ENSG00000278845                [46.73616844972308, 2.13556863206197]\n",
       "ENSG00000281005                                  [48.30170739785572]\n",
       "ENSG00000282608    [22.653514081237105, 6.24552003060454, 2.55594...\n",
       "Length: 6428, dtype: object"
      ]
     },
     "execution_count": 97,
     "metadata": {},
     "output_type": "execute_result"
    }
   ],
   "source": [
    "spredixcan_genes_tissues_pc_variance"
   ]
  },
  {
   "cell_type": "code",
   "execution_count": 98,
   "id": "9ac9e0fb-e0cc-4fea-ad01-2e76d40afb3c",
   "metadata": {
    "execution": {
     "iopub.execute_input": "2022-08-27T05:50:16.314204Z",
     "iopub.status.busy": "2022-08-27T05:50:16.313940Z",
     "iopub.status.idle": "2022-08-27T05:50:16.330459Z",
     "shell.execute_reply": "2022-08-27T05:50:16.329853Z"
    },
    "papermill": {
     "duration": 0.047973,
     "end_time": "2022-08-27T05:50:16.332356",
     "exception": false,
     "start_time": "2022-08-27T05:50:16.284383",
     "status": "completed"
    },
    "tags": []
   },
   "outputs": [],
   "source": [
    "# # testing\n",
    "# assert spredixcan_genes_tissues_pc_variance.loc[\n",
    "#     \"ENSG00000188976\"\n",
    "# ].sum() == pytest.approx(44.01605629086847)\n",
    "# # this is using the covariance:\n",
    "# # assert spredixcan_genes_tissues_pc_variance.loc[\"ENSG00000188976\"].sum() == pytest.approx(1.1492946006449425)"
   ]
  },
  {
   "cell_type": "code",
   "execution_count": 99,
   "id": "700ed8c8-16e3-4f44-80ff-a4355349ac26",
   "metadata": {
    "execution": {
     "iopub.execute_input": "2022-08-27T05:50:16.390893Z",
     "iopub.status.busy": "2022-08-27T05:50:16.390619Z",
     "iopub.status.idle": "2022-08-27T05:50:16.410579Z",
     "shell.execute_reply": "2022-08-27T05:50:16.409982Z"
    },
    "papermill": {
     "duration": 0.051295,
     "end_time": "2022-08-27T05:50:16.412287",
     "exception": false,
     "start_time": "2022-08-27T05:50:16.360992",
     "status": "completed"
    },
    "tags": []
   },
   "outputs": [],
   "source": [
    "# add to spredixcan_genes_models\n",
    "spredixcan_genes_models = spredixcan_genes_models.join(\n",
    "    spredixcan_genes_tissues_pc_variance.rename(\"tissues_pc_variances\")\n",
    ")"
   ]
  },
  {
   "cell_type": "code",
   "execution_count": 100,
   "id": "597f7dff-2425-490d-84d6-537f8bd0f147",
   "metadata": {
    "execution": {
     "iopub.execute_input": "2022-08-27T05:50:16.470217Z",
     "iopub.status.busy": "2022-08-27T05:50:16.469949Z",
     "iopub.status.idle": "2022-08-27T05:50:16.488939Z",
     "shell.execute_reply": "2022-08-27T05:50:16.488360Z"
    },
    "papermill": {
     "duration": 0.050134,
     "end_time": "2022-08-27T05:50:16.490583",
     "exception": false,
     "start_time": "2022-08-27T05:50:16.440449",
     "status": "completed"
    },
    "tags": []
   },
   "outputs": [
    {
     "data": {
      "text/plain": [
       "(6428, 4)"
      ]
     },
     "execution_count": 100,
     "metadata": {},
     "output_type": "execute_result"
    }
   ],
   "source": [
    "spredixcan_genes_models.shape"
   ]
  },
  {
   "cell_type": "code",
   "execution_count": 101,
   "id": "41bdb249-f7e3-4b07-a534-2c3e46db72dc",
   "metadata": {
    "execution": {
     "iopub.execute_input": "2022-08-27T05:50:16.549634Z",
     "iopub.status.busy": "2022-08-27T05:50:16.549352Z",
     "iopub.status.idle": "2022-08-27T05:50:16.575357Z",
     "shell.execute_reply": "2022-08-27T05:50:16.574785Z"
    },
    "papermill": {
     "duration": 0.057131,
     "end_time": "2022-08-27T05:50:16.576970",
     "exception": false,
     "start_time": "2022-08-27T05:50:16.519839",
     "status": "completed"
    },
    "tags": []
   },
   "outputs": [
    {
     "data": {
      "text/html": [
       "<div>\n",
       "<style scoped>\n",
       "    .dataframe tbody tr th:only-of-type {\n",
       "        vertical-align: middle;\n",
       "    }\n",
       "\n",
       "    .dataframe tbody tr th {\n",
       "        vertical-align: top;\n",
       "    }\n",
       "\n",
       "    .dataframe thead th {\n",
       "        text-align: right;\n",
       "    }\n",
       "</style>\n",
       "<table border=\"1\" class=\"dataframe\">\n",
       "  <thead>\n",
       "    <tr style=\"text-align: right;\">\n",
       "      <th></th>\n",
       "      <th>gene_name</th>\n",
       "      <th>tissue</th>\n",
       "      <th>n_tissues</th>\n",
       "      <th>tissues_pc_variances</th>\n",
       "    </tr>\n",
       "    <tr>\n",
       "      <th>gene_id</th>\n",
       "      <th></th>\n",
       "      <th></th>\n",
       "      <th></th>\n",
       "      <th></th>\n",
       "    </tr>\n",
       "  </thead>\n",
       "  <tbody>\n",
       "    <tr>\n",
       "      <th>ENSG00000000419</th>\n",
       "      <td>DPM1</td>\n",
       "      <td>(Brain_Hypothalamus, Brain_Substantia_nigra)</td>\n",
       "      <td>2</td>\n",
       "      <td>[1.0442398458252409, 0.9557601541747592]</td>\n",
       "    </tr>\n",
       "    <tr>\n",
       "      <th>ENSG00000000938</th>\n",
       "      <td>FGR</td>\n",
       "      <td>(Esophagus_Gastroesophageal_Junction, Adipose_...</td>\n",
       "      <td>36</td>\n",
       "      <td>[31.632669336371276, 2.0783677518511436, 1.271...</td>\n",
       "    </tr>\n",
       "    <tr>\n",
       "      <th>ENSG00000000971</th>\n",
       "      <td>CFH</td>\n",
       "      <td>(Brain_Putamen_basal_ganglia, Esophagus_Gastro...</td>\n",
       "      <td>34</td>\n",
       "      <td>[21.560769925683296, 7.3101709870454625, 1.837...</td>\n",
       "    </tr>\n",
       "    <tr>\n",
       "      <th>ENSG00000001084</th>\n",
       "      <td>GCLC</td>\n",
       "      <td>(Brain_Putamen_basal_ganglia, Adipose_Subcutan...</td>\n",
       "      <td>33</td>\n",
       "      <td>[21.74736589643256, 4.700645786683648, 2.24994...</td>\n",
       "    </tr>\n",
       "    <tr>\n",
       "      <th>ENSG00000001167</th>\n",
       "      <td>NFYA</td>\n",
       "      <td>(Brain_Putamen_basal_ganglia, Esophagus_Gastro...</td>\n",
       "      <td>40</td>\n",
       "      <td>[37.33566029549769, 1.3914019604538372]</td>\n",
       "    </tr>\n",
       "  </tbody>\n",
       "</table>\n",
       "</div>"
      ],
      "text/plain": [
       "                gene_name                                             tissue  \\\n",
       "gene_id                                                                        \n",
       "ENSG00000000419      DPM1       (Brain_Hypothalamus, Brain_Substantia_nigra)   \n",
       "ENSG00000000938       FGR  (Esophagus_Gastroesophageal_Junction, Adipose_...   \n",
       "ENSG00000000971       CFH  (Brain_Putamen_basal_ganglia, Esophagus_Gastro...   \n",
       "ENSG00000001084      GCLC  (Brain_Putamen_basal_ganglia, Adipose_Subcutan...   \n",
       "ENSG00000001167      NFYA  (Brain_Putamen_basal_ganglia, Esophagus_Gastro...   \n",
       "\n",
       "                 n_tissues                               tissues_pc_variances  \n",
       "gene_id                                                                        \n",
       "ENSG00000000419          2           [1.0442398458252409, 0.9557601541747592]  \n",
       "ENSG00000000938         36  [31.632669336371276, 2.0783677518511436, 1.271...  \n",
       "ENSG00000000971         34  [21.560769925683296, 7.3101709870454625, 1.837...  \n",
       "ENSG00000001084         33  [21.74736589643256, 4.700645786683648, 2.24994...  \n",
       "ENSG00000001167         40            [37.33566029549769, 1.3914019604538372]  "
      ]
     },
     "execution_count": 101,
     "metadata": {},
     "output_type": "execute_result"
    }
   ],
   "source": [
    "spredixcan_genes_models.head()"
   ]
  },
  {
   "cell_type": "markdown",
   "id": "ef1c76d7-485b-4e8a-932e-fd01382d5520",
   "metadata": {
    "papermill": {
     "duration": 0.028431,
     "end_time": "2022-08-27T05:50:16.634382",
     "exception": false,
     "start_time": "2022-08-27T05:50:16.605951",
     "status": "completed"
    },
    "tags": []
   },
   "source": [
    "### Add gene variance per tissue"
   ]
  },
  {
   "cell_type": "code",
   "execution_count": 102,
   "id": "530f7941-6ad7-4a29-b9e4-a006949282e0",
   "metadata": {
    "execution": {
     "iopub.execute_input": "2022-08-27T05:50:16.694558Z",
     "iopub.status.busy": "2022-08-27T05:50:16.694286Z",
     "iopub.status.idle": "2022-08-27T05:50:16.712793Z",
     "shell.execute_reply": "2022-08-27T05:50:16.712195Z"
    },
    "papermill": {
     "duration": 0.05151,
     "end_time": "2022-08-27T05:50:16.714724",
     "exception": false,
     "start_time": "2022-08-27T05:50:16.663214",
     "status": "completed"
    },
    "tags": []
   },
   "outputs": [],
   "source": [
    "def _get_gene_variances(gene_row):\n",
    "    gene_id = gene_row.name\n",
    "    gene_tissues = gene_row[\"tissue\"]\n",
    "\n",
    "    tissue_variances = {}\n",
    "    gene_obj = spredixcan_gene_obj[gene_id]\n",
    "\n",
    "    for tissue in gene_tissues:\n",
    "        tissue_var = gene_obj.get_pred_expression_variance(\n",
    "            tissue=tissue,\n",
    "            reference_panel=REFERENCE_PANEL,\n",
    "            model_type=EQTL_MODEL,\n",
    "            snps_subset=gwas_variants_ids_set,\n",
    "        )\n",
    "\n",
    "        if tissue_var is not None:\n",
    "            tissue_variances[tissue] = tissue_var\n",
    "\n",
    "    return tissue_variances"
   ]
  },
  {
   "cell_type": "code",
   "execution_count": 103,
   "id": "01eb9e6a-4505-44e6-9e6e-9788e257f319",
   "metadata": {
    "execution": {
     "iopub.execute_input": "2022-08-27T05:50:16.773363Z",
     "iopub.status.busy": "2022-08-27T05:50:16.773095Z",
     "iopub.status.idle": "2022-08-27T05:50:17.102096Z",
     "shell.execute_reply": "2022-08-27T05:50:17.101494Z"
    },
    "papermill": {
     "duration": 0.360324,
     "end_time": "2022-08-27T05:50:17.103809",
     "exception": false,
     "start_time": "2022-08-27T05:50:16.743485",
     "status": "completed"
    },
    "tags": []
   },
   "outputs": [
    {
     "data": {
      "text/plain": [
       "{'Brain_Hypothalamus': 0.013162153504206677,\n",
       " 'Brain_Substantia_nigra': 0.0004867380334260178}"
      ]
     },
     "execution_count": 103,
     "metadata": {},
     "output_type": "execute_result"
    }
   ],
   "source": [
    "_tmp = spredixcan_genes_models.loc[\"ENSG00000000419\"]\n",
    "_get_gene_variances(_tmp)"
   ]
  },
  {
   "cell_type": "code",
   "execution_count": 104,
   "id": "447061ec-4847-4911-a1d6-8b86d15e4aac",
   "metadata": {
    "execution": {
     "iopub.execute_input": "2022-08-27T05:50:17.162336Z",
     "iopub.status.busy": "2022-08-27T05:50:17.162072Z",
     "iopub.status.idle": "2022-08-27T06:52:35.691016Z",
     "shell.execute_reply": "2022-08-27T06:52:35.690164Z"
    },
    "papermill": {
     "duration": 3738.559897,
     "end_time": "2022-08-27T06:52:35.693195",
     "exception": false,
     "start_time": "2022-08-27T05:50:17.133298",
     "status": "completed"
    },
    "tags": []
   },
   "outputs": [],
   "source": [
    "spredixcan_genes_tissues_variance = spredixcan_genes_models.apply(\n",
    "    _get_gene_variances, axis=1\n",
    ")"
   ]
  },
  {
   "cell_type": "code",
   "execution_count": 105,
   "id": "816cbdd2-d667-4eaa-bbf7-335550854ee8",
   "metadata": {
    "execution": {
     "iopub.execute_input": "2022-08-27T06:52:35.755254Z",
     "iopub.status.busy": "2022-08-27T06:52:35.754973Z",
     "iopub.status.idle": "2022-08-27T06:52:35.961311Z",
     "shell.execute_reply": "2022-08-27T06:52:35.960728Z"
    },
    "papermill": {
     "duration": 0.23708,
     "end_time": "2022-08-27T06:52:35.962889",
     "exception": false,
     "start_time": "2022-08-27T06:52:35.725809",
     "status": "completed"
    },
    "tags": []
   },
   "outputs": [
    {
     "data": {
      "text/plain": [
       "gene_id\n",
       "ENSG00000000419    {'Brain_Hypothalamus': 0.013162153504206677, '...\n",
       "ENSG00000000938    {'Esophagus_Gastroesophageal_Junction': 0.0069...\n",
       "ENSG00000000971    {'Brain_Putamen_basal_ganglia': 0.016948774742...\n",
       "ENSG00000001084    {'Brain_Putamen_basal_ganglia': 0.022893962687...\n",
       "ENSG00000001167    {'Brain_Putamen_basal_ganglia': 0.011466969312...\n",
       "                                         ...                        \n",
       "ENSG00000278540    {'Brain_Putamen_basal_ganglia': 0.005253823567...\n",
       "ENSG00000278828    {'Artery_Coronary': 0.00015348478813896762, 'E...\n",
       "ENSG00000278845    {'Brain_Putamen_basal_ganglia': 0.008467405219...\n",
       "ENSG00000281005    {'Brain_Putamen_basal_ganglia': 0.091882188346...\n",
       "ENSG00000282608    {'Brain_Putamen_basal_ganglia': 0.006427529499...\n",
       "Length: 6428, dtype: object"
      ]
     },
     "execution_count": 105,
     "metadata": {},
     "output_type": "execute_result"
    }
   ],
   "source": [
    "spredixcan_genes_tissues_variance"
   ]
  },
  {
   "cell_type": "code",
   "execution_count": 106,
   "id": "68c65eb6-15c0-494d-992f-93bc84268a59",
   "metadata": {
    "execution": {
     "iopub.execute_input": "2022-08-27T06:52:36.018625Z",
     "iopub.status.busy": "2022-08-27T06:52:36.018361Z",
     "iopub.status.idle": "2022-08-27T06:52:36.034852Z",
     "shell.execute_reply": "2022-08-27T06:52:36.034304Z"
    },
    "papermill": {
     "duration": 0.046162,
     "end_time": "2022-08-27T06:52:36.036513",
     "exception": false,
     "start_time": "2022-08-27T06:52:35.990351",
     "status": "completed"
    },
    "tags": []
   },
   "outputs": [],
   "source": [
    "# # testing\n",
    "# _gene_id = \"ENSG00000188976\"\n",
    "# x = spredixcan_genes_tissues_variance.loc[_gene_id]\n",
    "# # expected value obtained by sum of PCA eigenvalues on this gene's predicted expression\n",
    "# assert np.sum(list(x.values())) == pytest.approx(1.2326202607409493)"
   ]
  },
  {
   "cell_type": "code",
   "execution_count": 107,
   "id": "1996453a-fdfc-44e9-bbdf-b83e3b3b1aee",
   "metadata": {
    "execution": {
     "iopub.execute_input": "2022-08-27T06:52:36.093926Z",
     "iopub.status.busy": "2022-08-27T06:52:36.093653Z",
     "iopub.status.idle": "2022-08-27T06:52:36.111924Z",
     "shell.execute_reply": "2022-08-27T06:52:36.111388Z"
    },
    "papermill": {
     "duration": 0.048694,
     "end_time": "2022-08-27T06:52:36.113515",
     "exception": false,
     "start_time": "2022-08-27T06:52:36.064821",
     "status": "completed"
    },
    "tags": []
   },
   "outputs": [
    {
     "data": {
      "text/plain": [
       "{'Brain_Hypothalamus': 0.013162153504206677,\n",
       " 'Brain_Substantia_nigra': 0.0004867380334260178}"
      ]
     },
     "execution_count": 107,
     "metadata": {},
     "output_type": "execute_result"
    }
   ],
   "source": [
    "# testing\n",
    "spredixcan_genes_tissues_variance.loc[\"ENSG00000000419\"]"
   ]
  },
  {
   "cell_type": "code",
   "execution_count": 108,
   "id": "62572b31-7e49-4ed0-ac1b-42552f3e264f",
   "metadata": {
    "execution": {
     "iopub.execute_input": "2022-08-27T06:52:36.172106Z",
     "iopub.status.busy": "2022-08-27T06:52:36.171824Z",
     "iopub.status.idle": "2022-08-27T06:52:36.188425Z",
     "shell.execute_reply": "2022-08-27T06:52:36.187841Z"
    },
    "papermill": {
     "duration": 0.048329,
     "end_time": "2022-08-27T06:52:36.190117",
     "exception": false,
     "start_time": "2022-08-27T06:52:36.141788",
     "status": "completed"
    },
    "tags": []
   },
   "outputs": [],
   "source": [
    "# FIXME: maybe add more tests, these differt from GTEX V8\n",
    "# # testing\n",
    "# # here values were obtained from S-PrediXcan results, where the reference panel is GTEX V8, not 1000G, so just approximations)\n",
    "# _gene_id = \"ENSG00000000419\"\n",
    "# assert spredixcan_genes_tissues_variance.loc[_gene_id][\"Brain_Substantia_nigra\"] == pytest.approx(0.0004266255268163448)\n",
    "# assert spredixcan_genes_tissues_variance.loc[_gene_id][\"Brain_Hypothalamus\"] == pytest.approx(0.011235877515236132)"
   ]
  },
  {
   "cell_type": "code",
   "execution_count": 109,
   "id": "88e42a97-801b-43a4-a829-4eaac03360b8",
   "metadata": {
    "execution": {
     "iopub.execute_input": "2022-08-27T06:52:36.249005Z",
     "iopub.status.busy": "2022-08-27T06:52:36.248724Z",
     "iopub.status.idle": "2022-08-27T06:52:36.268159Z",
     "shell.execute_reply": "2022-08-27T06:52:36.267530Z"
    },
    "papermill": {
     "duration": 0.051298,
     "end_time": "2022-08-27T06:52:36.269931",
     "exception": false,
     "start_time": "2022-08-27T06:52:36.218633",
     "status": "completed"
    },
    "tags": []
   },
   "outputs": [],
   "source": [
    "# add to spredixcan_genes_models\n",
    "spredixcan_genes_models = spredixcan_genes_models.join(\n",
    "    spredixcan_genes_tissues_variance.rename(\"tissues_variances\")\n",
    ")"
   ]
  },
  {
   "cell_type": "code",
   "execution_count": 110,
   "id": "cb177ca4-fdcb-432f-a102-9c6bd6bd7fa0",
   "metadata": {
    "execution": {
     "iopub.execute_input": "2022-08-27T06:52:36.329449Z",
     "iopub.status.busy": "2022-08-27T06:52:36.329176Z",
     "iopub.status.idle": "2022-08-27T06:52:36.348078Z",
     "shell.execute_reply": "2022-08-27T06:52:36.347509Z"
    },
    "papermill": {
     "duration": 0.05087,
     "end_time": "2022-08-27T06:52:36.349724",
     "exception": false,
     "start_time": "2022-08-27T06:52:36.298854",
     "status": "completed"
    },
    "tags": []
   },
   "outputs": [
    {
     "data": {
      "text/plain": [
       "(6428, 5)"
      ]
     },
     "execution_count": 110,
     "metadata": {},
     "output_type": "execute_result"
    }
   ],
   "source": [
    "spredixcan_genes_models.shape"
   ]
  },
  {
   "cell_type": "code",
   "execution_count": 111,
   "id": "ccabe1fa-20ae-4893-bf12-9a3359b213b8",
   "metadata": {
    "execution": {
     "iopub.execute_input": "2022-08-27T06:52:36.409583Z",
     "iopub.status.busy": "2022-08-27T06:52:36.409313Z",
     "iopub.status.idle": "2022-08-27T06:52:36.440012Z",
     "shell.execute_reply": "2022-08-27T06:52:36.439399Z"
    },
    "papermill": {
     "duration": 0.062821,
     "end_time": "2022-08-27T06:52:36.441643",
     "exception": false,
     "start_time": "2022-08-27T06:52:36.378822",
     "status": "completed"
    },
    "tags": []
   },
   "outputs": [
    {
     "data": {
      "text/html": [
       "<div>\n",
       "<style scoped>\n",
       "    .dataframe tbody tr th:only-of-type {\n",
       "        vertical-align: middle;\n",
       "    }\n",
       "\n",
       "    .dataframe tbody tr th {\n",
       "        vertical-align: top;\n",
       "    }\n",
       "\n",
       "    .dataframe thead th {\n",
       "        text-align: right;\n",
       "    }\n",
       "</style>\n",
       "<table border=\"1\" class=\"dataframe\">\n",
       "  <thead>\n",
       "    <tr style=\"text-align: right;\">\n",
       "      <th></th>\n",
       "      <th>gene_name</th>\n",
       "      <th>tissue</th>\n",
       "      <th>n_tissues</th>\n",
       "      <th>tissues_pc_variances</th>\n",
       "      <th>tissues_variances</th>\n",
       "    </tr>\n",
       "    <tr>\n",
       "      <th>gene_id</th>\n",
       "      <th></th>\n",
       "      <th></th>\n",
       "      <th></th>\n",
       "      <th></th>\n",
       "      <th></th>\n",
       "    </tr>\n",
       "  </thead>\n",
       "  <tbody>\n",
       "    <tr>\n",
       "      <th>ENSG00000000419</th>\n",
       "      <td>DPM1</td>\n",
       "      <td>(Brain_Hypothalamus, Brain_Substantia_nigra)</td>\n",
       "      <td>2</td>\n",
       "      <td>[1.0442398458252409, 0.9557601541747592]</td>\n",
       "      <td>{'Brain_Hypothalamus': 0.013162153504206677, '...</td>\n",
       "    </tr>\n",
       "    <tr>\n",
       "      <th>ENSG00000000938</th>\n",
       "      <td>FGR</td>\n",
       "      <td>(Esophagus_Gastroesophageal_Junction, Adipose_...</td>\n",
       "      <td>36</td>\n",
       "      <td>[31.632669336371276, 2.0783677518511436, 1.271...</td>\n",
       "      <td>{'Esophagus_Gastroesophageal_Junction': 0.0069...</td>\n",
       "    </tr>\n",
       "    <tr>\n",
       "      <th>ENSG00000000971</th>\n",
       "      <td>CFH</td>\n",
       "      <td>(Brain_Putamen_basal_ganglia, Esophagus_Gastro...</td>\n",
       "      <td>34</td>\n",
       "      <td>[21.560769925683296, 7.3101709870454625, 1.837...</td>\n",
       "      <td>{'Brain_Putamen_basal_ganglia': 0.016948774742...</td>\n",
       "    </tr>\n",
       "    <tr>\n",
       "      <th>ENSG00000001084</th>\n",
       "      <td>GCLC</td>\n",
       "      <td>(Brain_Putamen_basal_ganglia, Adipose_Subcutan...</td>\n",
       "      <td>33</td>\n",
       "      <td>[21.74736589643256, 4.700645786683648, 2.24994...</td>\n",
       "      <td>{'Brain_Putamen_basal_ganglia': 0.022893962687...</td>\n",
       "    </tr>\n",
       "    <tr>\n",
       "      <th>ENSG00000001167</th>\n",
       "      <td>NFYA</td>\n",
       "      <td>(Brain_Putamen_basal_ganglia, Esophagus_Gastro...</td>\n",
       "      <td>40</td>\n",
       "      <td>[37.33566029549769, 1.3914019604538372]</td>\n",
       "      <td>{'Brain_Putamen_basal_ganglia': 0.011466969312...</td>\n",
       "    </tr>\n",
       "  </tbody>\n",
       "</table>\n",
       "</div>"
      ],
      "text/plain": [
       "                gene_name                                             tissue  \\\n",
       "gene_id                                                                        \n",
       "ENSG00000000419      DPM1       (Brain_Hypothalamus, Brain_Substantia_nigra)   \n",
       "ENSG00000000938       FGR  (Esophagus_Gastroesophageal_Junction, Adipose_...   \n",
       "ENSG00000000971       CFH  (Brain_Putamen_basal_ganglia, Esophagus_Gastro...   \n",
       "ENSG00000001084      GCLC  (Brain_Putamen_basal_ganglia, Adipose_Subcutan...   \n",
       "ENSG00000001167      NFYA  (Brain_Putamen_basal_ganglia, Esophagus_Gastro...   \n",
       "\n",
       "                 n_tissues                               tissues_pc_variances  \\\n",
       "gene_id                                                                         \n",
       "ENSG00000000419          2           [1.0442398458252409, 0.9557601541747592]   \n",
       "ENSG00000000938         36  [31.632669336371276, 2.0783677518511436, 1.271...   \n",
       "ENSG00000000971         34  [21.560769925683296, 7.3101709870454625, 1.837...   \n",
       "ENSG00000001084         33  [21.74736589643256, 4.700645786683648, 2.24994...   \n",
       "ENSG00000001167         40            [37.33566029549769, 1.3914019604538372]   \n",
       "\n",
       "                                                 tissues_variances  \n",
       "gene_id                                                             \n",
       "ENSG00000000419  {'Brain_Hypothalamus': 0.013162153504206677, '...  \n",
       "ENSG00000000938  {'Esophagus_Gastroesophageal_Junction': 0.0069...  \n",
       "ENSG00000000971  {'Brain_Putamen_basal_ganglia': 0.016948774742...  \n",
       "ENSG00000001084  {'Brain_Putamen_basal_ganglia': 0.022893962687...  \n",
       "ENSG00000001167  {'Brain_Putamen_basal_ganglia': 0.011466969312...  "
      ]
     },
     "execution_count": 111,
     "metadata": {},
     "output_type": "execute_result"
    }
   ],
   "source": [
    "spredixcan_genes_models.head()"
   ]
  },
  {
   "cell_type": "markdown",
   "id": "ab6ff41a-0949-4eea-abef-7dc4f0b373fc",
   "metadata": {
    "papermill": {
     "duration": 0.02981,
     "end_time": "2022-08-27T06:52:36.501454",
     "exception": false,
     "start_time": "2022-08-27T06:52:36.471644",
     "status": "completed"
    },
    "tags": []
   },
   "source": [
    "### Count number of SNPs predictors used across tissue models"
   ]
  },
  {
   "cell_type": "code",
   "execution_count": 112,
   "id": "c8f6cc6f-5812-45c9-b775-6f2193f8a360",
   "metadata": {
    "execution": {
     "iopub.execute_input": "2022-08-27T06:52:36.562060Z",
     "iopub.status.busy": "2022-08-27T06:52:36.561798Z",
     "iopub.status.idle": "2022-08-27T06:52:36.613147Z",
     "shell.execute_reply": "2022-08-27T06:52:36.612533Z"
    },
    "papermill": {
     "duration": 0.083162,
     "end_time": "2022-08-27T06:52:36.615063",
     "exception": false,
     "start_time": "2022-08-27T06:52:36.531901",
     "status": "completed"
    },
    "tags": []
   },
   "outputs": [],
   "source": [
    "spredixcan_genes_sum_of_n_snps_used = (\n",
    "    spredixcan_dfs.groupby(\"gene_id\")[\"n_snps_used\"].sum().rename(\"n_snps_used_sum\")\n",
    ")"
   ]
  },
  {
   "cell_type": "code",
   "execution_count": 113,
   "id": "7255df64-7b9f-4504-a4fa-1f2a9aa56ec0",
   "metadata": {
    "execution": {
     "iopub.execute_input": "2022-08-27T06:52:36.674534Z",
     "iopub.status.busy": "2022-08-27T06:52:36.674272Z",
     "iopub.status.idle": "2022-08-27T06:52:36.695336Z",
     "shell.execute_reply": "2022-08-27T06:52:36.694763Z"
    },
    "papermill": {
     "duration": 0.052344,
     "end_time": "2022-08-27T06:52:36.696925",
     "exception": false,
     "start_time": "2022-08-27T06:52:36.644581",
     "status": "completed"
    },
    "tags": []
   },
   "outputs": [
    {
     "data": {
      "text/plain": [
       "gene_id\n",
       "ENSG00000000419     2\n",
       "ENSG00000000938    40\n",
       "ENSG00000000971    44\n",
       "ENSG00000001084    47\n",
       "ENSG00000001167    47\n",
       "                   ..\n",
       "ENSG00000278540    30\n",
       "ENSG00000278828     5\n",
       "ENSG00000278845    71\n",
       "ENSG00000281005    81\n",
       "ENSG00000282608    40\n",
       "Name: n_snps_used_sum, Length: 6428, dtype: int64"
      ]
     },
     "execution_count": 113,
     "metadata": {},
     "output_type": "execute_result"
    }
   ],
   "source": [
    "spredixcan_genes_sum_of_n_snps_used"
   ]
  },
  {
   "cell_type": "code",
   "execution_count": 114,
   "id": "44bc1222-b334-4ce2-8997-494d0e584cf9",
   "metadata": {
    "execution": {
     "iopub.execute_input": "2022-08-27T06:52:36.756055Z",
     "iopub.status.busy": "2022-08-27T06:52:36.755792Z",
     "iopub.status.idle": "2022-08-27T06:52:36.774418Z",
     "shell.execute_reply": "2022-08-27T06:52:36.773865Z"
    },
    "papermill": {
     "duration": 0.050347,
     "end_time": "2022-08-27T06:52:36.776060",
     "exception": false,
     "start_time": "2022-08-27T06:52:36.725713",
     "status": "completed"
    },
    "tags": []
   },
   "outputs": [],
   "source": [
    "# add sum of snps used to spredixcan_genes_models\n",
    "spredixcan_genes_models = spredixcan_genes_models.join(\n",
    "    spredixcan_genes_sum_of_n_snps_used\n",
    ")"
   ]
  },
  {
   "cell_type": "code",
   "execution_count": 115,
   "id": "5e5e6d7f-b970-4f21-9322-b76bc22afd71",
   "metadata": {
    "execution": {
     "iopub.execute_input": "2022-08-27T06:52:36.835322Z",
     "iopub.status.busy": "2022-08-27T06:52:36.835050Z",
     "iopub.status.idle": "2022-08-27T06:52:36.853249Z",
     "shell.execute_reply": "2022-08-27T06:52:36.852714Z"
    },
    "papermill": {
     "duration": 0.048818,
     "end_time": "2022-08-27T06:52:36.854786",
     "exception": false,
     "start_time": "2022-08-27T06:52:36.805968",
     "status": "completed"
    },
    "tags": []
   },
   "outputs": [
    {
     "data": {
      "text/plain": [
       "(6428, 6)"
      ]
     },
     "execution_count": 115,
     "metadata": {},
     "output_type": "execute_result"
    }
   ],
   "source": [
    "spredixcan_genes_models.shape"
   ]
  },
  {
   "cell_type": "code",
   "execution_count": 116,
   "id": "22c096c2-213a-4001-8454-1633997d404f",
   "metadata": {
    "execution": {
     "iopub.execute_input": "2022-08-27T06:52:36.914583Z",
     "iopub.status.busy": "2022-08-27T06:52:36.914319Z",
     "iopub.status.idle": "2022-08-27T06:52:36.944596Z",
     "shell.execute_reply": "2022-08-27T06:52:36.944036Z"
    },
    "papermill": {
     "duration": 0.062519,
     "end_time": "2022-08-27T06:52:36.946234",
     "exception": false,
     "start_time": "2022-08-27T06:52:36.883715",
     "status": "completed"
    },
    "tags": []
   },
   "outputs": [
    {
     "data": {
      "text/html": [
       "<div>\n",
       "<style scoped>\n",
       "    .dataframe tbody tr th:only-of-type {\n",
       "        vertical-align: middle;\n",
       "    }\n",
       "\n",
       "    .dataframe tbody tr th {\n",
       "        vertical-align: top;\n",
       "    }\n",
       "\n",
       "    .dataframe thead th {\n",
       "        text-align: right;\n",
       "    }\n",
       "</style>\n",
       "<table border=\"1\" class=\"dataframe\">\n",
       "  <thead>\n",
       "    <tr style=\"text-align: right;\">\n",
       "      <th></th>\n",
       "      <th>gene_name</th>\n",
       "      <th>tissue</th>\n",
       "      <th>n_tissues</th>\n",
       "      <th>tissues_pc_variances</th>\n",
       "      <th>tissues_variances</th>\n",
       "      <th>n_snps_used_sum</th>\n",
       "    </tr>\n",
       "    <tr>\n",
       "      <th>gene_id</th>\n",
       "      <th></th>\n",
       "      <th></th>\n",
       "      <th></th>\n",
       "      <th></th>\n",
       "      <th></th>\n",
       "      <th></th>\n",
       "    </tr>\n",
       "  </thead>\n",
       "  <tbody>\n",
       "    <tr>\n",
       "      <th>ENSG00000000419</th>\n",
       "      <td>DPM1</td>\n",
       "      <td>(Brain_Hypothalamus, Brain_Substantia_nigra)</td>\n",
       "      <td>2</td>\n",
       "      <td>[1.0442398458252409, 0.9557601541747592]</td>\n",
       "      <td>{'Brain_Hypothalamus': 0.013162153504206677, '...</td>\n",
       "      <td>2</td>\n",
       "    </tr>\n",
       "    <tr>\n",
       "      <th>ENSG00000000938</th>\n",
       "      <td>FGR</td>\n",
       "      <td>(Esophagus_Gastroesophageal_Junction, Adipose_...</td>\n",
       "      <td>36</td>\n",
       "      <td>[31.632669336371276, 2.0783677518511436, 1.271...</td>\n",
       "      <td>{'Esophagus_Gastroesophageal_Junction': 0.0069...</td>\n",
       "      <td>40</td>\n",
       "    </tr>\n",
       "    <tr>\n",
       "      <th>ENSG00000000971</th>\n",
       "      <td>CFH</td>\n",
       "      <td>(Brain_Putamen_basal_ganglia, Esophagus_Gastro...</td>\n",
       "      <td>34</td>\n",
       "      <td>[21.560769925683296, 7.3101709870454625, 1.837...</td>\n",
       "      <td>{'Brain_Putamen_basal_ganglia': 0.016948774742...</td>\n",
       "      <td>44</td>\n",
       "    </tr>\n",
       "    <tr>\n",
       "      <th>ENSG00000001084</th>\n",
       "      <td>GCLC</td>\n",
       "      <td>(Brain_Putamen_basal_ganglia, Adipose_Subcutan...</td>\n",
       "      <td>33</td>\n",
       "      <td>[21.74736589643256, 4.700645786683648, 2.24994...</td>\n",
       "      <td>{'Brain_Putamen_basal_ganglia': 0.022893962687...</td>\n",
       "      <td>47</td>\n",
       "    </tr>\n",
       "    <tr>\n",
       "      <th>ENSG00000001167</th>\n",
       "      <td>NFYA</td>\n",
       "      <td>(Brain_Putamen_basal_ganglia, Esophagus_Gastro...</td>\n",
       "      <td>40</td>\n",
       "      <td>[37.33566029549769, 1.3914019604538372]</td>\n",
       "      <td>{'Brain_Putamen_basal_ganglia': 0.011466969312...</td>\n",
       "      <td>47</td>\n",
       "    </tr>\n",
       "  </tbody>\n",
       "</table>\n",
       "</div>"
      ],
      "text/plain": [
       "                gene_name                                             tissue  \\\n",
       "gene_id                                                                        \n",
       "ENSG00000000419      DPM1       (Brain_Hypothalamus, Brain_Substantia_nigra)   \n",
       "ENSG00000000938       FGR  (Esophagus_Gastroesophageal_Junction, Adipose_...   \n",
       "ENSG00000000971       CFH  (Brain_Putamen_basal_ganglia, Esophagus_Gastro...   \n",
       "ENSG00000001084      GCLC  (Brain_Putamen_basal_ganglia, Adipose_Subcutan...   \n",
       "ENSG00000001167      NFYA  (Brain_Putamen_basal_ganglia, Esophagus_Gastro...   \n",
       "\n",
       "                 n_tissues                               tissues_pc_variances  \\\n",
       "gene_id                                                                         \n",
       "ENSG00000000419          2           [1.0442398458252409, 0.9557601541747592]   \n",
       "ENSG00000000938         36  [31.632669336371276, 2.0783677518511436, 1.271...   \n",
       "ENSG00000000971         34  [21.560769925683296, 7.3101709870454625, 1.837...   \n",
       "ENSG00000001084         33  [21.74736589643256, 4.700645786683648, 2.24994...   \n",
       "ENSG00000001167         40            [37.33566029549769, 1.3914019604538372]   \n",
       "\n",
       "                                                 tissues_variances  \\\n",
       "gene_id                                                              \n",
       "ENSG00000000419  {'Brain_Hypothalamus': 0.013162153504206677, '...   \n",
       "ENSG00000000938  {'Esophagus_Gastroesophageal_Junction': 0.0069...   \n",
       "ENSG00000000971  {'Brain_Putamen_basal_ganglia': 0.016948774742...   \n",
       "ENSG00000001084  {'Brain_Putamen_basal_ganglia': 0.022893962687...   \n",
       "ENSG00000001167  {'Brain_Putamen_basal_ganglia': 0.011466969312...   \n",
       "\n",
       "                 n_snps_used_sum  \n",
       "gene_id                           \n",
       "ENSG00000000419                2  \n",
       "ENSG00000000938               40  \n",
       "ENSG00000000971               44  \n",
       "ENSG00000001084               47  \n",
       "ENSG00000001167               47  "
      ]
     },
     "execution_count": 116,
     "metadata": {},
     "output_type": "execute_result"
    }
   ],
   "source": [
    "spredixcan_genes_models.head()"
   ]
  },
  {
   "cell_type": "markdown",
   "id": "f4692315-d7be-465e-b756-f6d76fec949e",
   "metadata": {
    "papermill": {
     "duration": 0.030664,
     "end_time": "2022-08-27T06:52:37.006144",
     "exception": false,
     "start_time": "2022-08-27T06:52:36.975480",
     "status": "completed"
    },
    "tags": []
   },
   "source": [
    "### Count number of SNPs predictors in models across tissue models"
   ]
  },
  {
   "cell_type": "code",
   "execution_count": 117,
   "id": "08eed385-36eb-4e42-b28e-51333f9cfcd3",
   "metadata": {
    "execution": {
     "iopub.execute_input": "2022-08-27T06:52:37.064816Z",
     "iopub.status.busy": "2022-08-27T06:52:37.064538Z",
     "iopub.status.idle": "2022-08-27T06:52:37.116065Z",
     "shell.execute_reply": "2022-08-27T06:52:37.115444Z"
    },
    "papermill": {
     "duration": 0.082921,
     "end_time": "2022-08-27T06:52:37.118029",
     "exception": false,
     "start_time": "2022-08-27T06:52:37.035108",
     "status": "completed"
    },
    "tags": []
   },
   "outputs": [],
   "source": [
    "spredixcan_genes_sum_of_n_snps_in_model = (\n",
    "    spredixcan_dfs.groupby(\"gene_id\")[\"n_snps_in_model\"]\n",
    "    .sum()\n",
    "    .rename(\"n_snps_in_model_sum\")\n",
    ")"
   ]
  },
  {
   "cell_type": "code",
   "execution_count": 118,
   "id": "10431f5c-1f56-4664-a09f-53c608bec631",
   "metadata": {
    "execution": {
     "iopub.execute_input": "2022-08-27T06:52:37.229486Z",
     "iopub.status.busy": "2022-08-27T06:52:37.229222Z",
     "iopub.status.idle": "2022-08-27T06:52:37.249232Z",
     "shell.execute_reply": "2022-08-27T06:52:37.248658Z"
    },
    "papermill": {
     "duration": 0.05227,
     "end_time": "2022-08-27T06:52:37.250768",
     "exception": false,
     "start_time": "2022-08-27T06:52:37.198498",
     "status": "completed"
    },
    "tags": []
   },
   "outputs": [
    {
     "data": {
      "text/plain": [
       "gene_id\n",
       "ENSG00000000419     2\n",
       "ENSG00000000938    40\n",
       "ENSG00000000971    44\n",
       "ENSG00000001084    47\n",
       "ENSG00000001167    48\n",
       "                   ..\n",
       "ENSG00000278540    32\n",
       "ENSG00000278828     5\n",
       "ENSG00000278845    91\n",
       "ENSG00000281005    81\n",
       "ENSG00000282608    40\n",
       "Name: n_snps_in_model_sum, Length: 6428, dtype: int64"
      ]
     },
     "execution_count": 118,
     "metadata": {},
     "output_type": "execute_result"
    }
   ],
   "source": [
    "spredixcan_genes_sum_of_n_snps_in_model"
   ]
  },
  {
   "cell_type": "code",
   "execution_count": 119,
   "id": "d13e1d65-0dcb-4a94-aba8-bcdcd09d17c3",
   "metadata": {
    "execution": {
     "iopub.execute_input": "2022-08-27T06:52:37.310961Z",
     "iopub.status.busy": "2022-08-27T06:52:37.310683Z",
     "iopub.status.idle": "2022-08-27T06:52:37.329977Z",
     "shell.execute_reply": "2022-08-27T06:52:37.329376Z"
    },
    "papermill": {
     "duration": 0.052012,
     "end_time": "2022-08-27T06:52:37.331632",
     "exception": false,
     "start_time": "2022-08-27T06:52:37.279620",
     "status": "completed"
    },
    "tags": []
   },
   "outputs": [],
   "source": [
    "# add sum of snps in model to spredixcan_genes_models\n",
    "spredixcan_genes_models = spredixcan_genes_models.join(\n",
    "    spredixcan_genes_sum_of_n_snps_in_model\n",
    ")"
   ]
  },
  {
   "cell_type": "code",
   "execution_count": 120,
   "id": "0d3973d8-5da2-4c9d-b406-2525f615035c",
   "metadata": {
    "execution": {
     "iopub.execute_input": "2022-08-27T06:52:37.392374Z",
     "iopub.status.busy": "2022-08-27T06:52:37.392110Z",
     "iopub.status.idle": "2022-08-27T06:52:37.410093Z",
     "shell.execute_reply": "2022-08-27T06:52:37.409524Z"
    },
    "papermill": {
     "duration": 0.0495,
     "end_time": "2022-08-27T06:52:37.411664",
     "exception": false,
     "start_time": "2022-08-27T06:52:37.362164",
     "status": "completed"
    },
    "tags": []
   },
   "outputs": [
    {
     "data": {
      "text/plain": [
       "(6428, 7)"
      ]
     },
     "execution_count": 120,
     "metadata": {},
     "output_type": "execute_result"
    }
   ],
   "source": [
    "spredixcan_genes_models.shape"
   ]
  },
  {
   "cell_type": "code",
   "execution_count": 121,
   "id": "76c27f05-c5c6-4ed9-9363-fcba871a3572",
   "metadata": {
    "execution": {
     "iopub.execute_input": "2022-08-27T06:52:37.471367Z",
     "iopub.status.busy": "2022-08-27T06:52:37.471099Z",
     "iopub.status.idle": "2022-08-27T06:52:37.500884Z",
     "shell.execute_reply": "2022-08-27T06:52:37.500307Z"
    },
    "papermill": {
     "duration": 0.062144,
     "end_time": "2022-08-27T06:52:37.502497",
     "exception": false,
     "start_time": "2022-08-27T06:52:37.440353",
     "status": "completed"
    },
    "tags": []
   },
   "outputs": [
    {
     "data": {
      "text/html": [
       "<div>\n",
       "<style scoped>\n",
       "    .dataframe tbody tr th:only-of-type {\n",
       "        vertical-align: middle;\n",
       "    }\n",
       "\n",
       "    .dataframe tbody tr th {\n",
       "        vertical-align: top;\n",
       "    }\n",
       "\n",
       "    .dataframe thead th {\n",
       "        text-align: right;\n",
       "    }\n",
       "</style>\n",
       "<table border=\"1\" class=\"dataframe\">\n",
       "  <thead>\n",
       "    <tr style=\"text-align: right;\">\n",
       "      <th></th>\n",
       "      <th>gene_name</th>\n",
       "      <th>tissue</th>\n",
       "      <th>n_tissues</th>\n",
       "      <th>tissues_pc_variances</th>\n",
       "      <th>tissues_variances</th>\n",
       "      <th>n_snps_used_sum</th>\n",
       "      <th>n_snps_in_model_sum</th>\n",
       "    </tr>\n",
       "    <tr>\n",
       "      <th>gene_id</th>\n",
       "      <th></th>\n",
       "      <th></th>\n",
       "      <th></th>\n",
       "      <th></th>\n",
       "      <th></th>\n",
       "      <th></th>\n",
       "      <th></th>\n",
       "    </tr>\n",
       "  </thead>\n",
       "  <tbody>\n",
       "    <tr>\n",
       "      <th>ENSG00000000419</th>\n",
       "      <td>DPM1</td>\n",
       "      <td>(Brain_Hypothalamus, Brain_Substantia_nigra)</td>\n",
       "      <td>2</td>\n",
       "      <td>[1.0442398458252409, 0.9557601541747592]</td>\n",
       "      <td>{'Brain_Hypothalamus': 0.013162153504206677, '...</td>\n",
       "      <td>2</td>\n",
       "      <td>2</td>\n",
       "    </tr>\n",
       "    <tr>\n",
       "      <th>ENSG00000000938</th>\n",
       "      <td>FGR</td>\n",
       "      <td>(Esophagus_Gastroesophageal_Junction, Adipose_...</td>\n",
       "      <td>36</td>\n",
       "      <td>[31.632669336371276, 2.0783677518511436, 1.271...</td>\n",
       "      <td>{'Esophagus_Gastroesophageal_Junction': 0.0069...</td>\n",
       "      <td>40</td>\n",
       "      <td>40</td>\n",
       "    </tr>\n",
       "    <tr>\n",
       "      <th>ENSG00000000971</th>\n",
       "      <td>CFH</td>\n",
       "      <td>(Brain_Putamen_basal_ganglia, Esophagus_Gastro...</td>\n",
       "      <td>34</td>\n",
       "      <td>[21.560769925683296, 7.3101709870454625, 1.837...</td>\n",
       "      <td>{'Brain_Putamen_basal_ganglia': 0.016948774742...</td>\n",
       "      <td>44</td>\n",
       "      <td>44</td>\n",
       "    </tr>\n",
       "    <tr>\n",
       "      <th>ENSG00000001084</th>\n",
       "      <td>GCLC</td>\n",
       "      <td>(Brain_Putamen_basal_ganglia, Adipose_Subcutan...</td>\n",
       "      <td>33</td>\n",
       "      <td>[21.74736589643256, 4.700645786683648, 2.24994...</td>\n",
       "      <td>{'Brain_Putamen_basal_ganglia': 0.022893962687...</td>\n",
       "      <td>47</td>\n",
       "      <td>47</td>\n",
       "    </tr>\n",
       "    <tr>\n",
       "      <th>ENSG00000001167</th>\n",
       "      <td>NFYA</td>\n",
       "      <td>(Brain_Putamen_basal_ganglia, Esophagus_Gastro...</td>\n",
       "      <td>40</td>\n",
       "      <td>[37.33566029549769, 1.3914019604538372]</td>\n",
       "      <td>{'Brain_Putamen_basal_ganglia': 0.011466969312...</td>\n",
       "      <td>47</td>\n",
       "      <td>48</td>\n",
       "    </tr>\n",
       "  </tbody>\n",
       "</table>\n",
       "</div>"
      ],
      "text/plain": [
       "                gene_name                                             tissue  \\\n",
       "gene_id                                                                        \n",
       "ENSG00000000419      DPM1       (Brain_Hypothalamus, Brain_Substantia_nigra)   \n",
       "ENSG00000000938       FGR  (Esophagus_Gastroesophageal_Junction, Adipose_...   \n",
       "ENSG00000000971       CFH  (Brain_Putamen_basal_ganglia, Esophagus_Gastro...   \n",
       "ENSG00000001084      GCLC  (Brain_Putamen_basal_ganglia, Adipose_Subcutan...   \n",
       "ENSG00000001167      NFYA  (Brain_Putamen_basal_ganglia, Esophagus_Gastro...   \n",
       "\n",
       "                 n_tissues                               tissues_pc_variances  \\\n",
       "gene_id                                                                         \n",
       "ENSG00000000419          2           [1.0442398458252409, 0.9557601541747592]   \n",
       "ENSG00000000938         36  [31.632669336371276, 2.0783677518511436, 1.271...   \n",
       "ENSG00000000971         34  [21.560769925683296, 7.3101709870454625, 1.837...   \n",
       "ENSG00000001084         33  [21.74736589643256, 4.700645786683648, 2.24994...   \n",
       "ENSG00000001167         40            [37.33566029549769, 1.3914019604538372]   \n",
       "\n",
       "                                                 tissues_variances  \\\n",
       "gene_id                                                              \n",
       "ENSG00000000419  {'Brain_Hypothalamus': 0.013162153504206677, '...   \n",
       "ENSG00000000938  {'Esophagus_Gastroesophageal_Junction': 0.0069...   \n",
       "ENSG00000000971  {'Brain_Putamen_basal_ganglia': 0.016948774742...   \n",
       "ENSG00000001084  {'Brain_Putamen_basal_ganglia': 0.022893962687...   \n",
       "ENSG00000001167  {'Brain_Putamen_basal_ganglia': 0.011466969312...   \n",
       "\n",
       "                 n_snps_used_sum  n_snps_in_model_sum  \n",
       "gene_id                                                \n",
       "ENSG00000000419                2                    2  \n",
       "ENSG00000000938               40                   40  \n",
       "ENSG00000000971               44                   44  \n",
       "ENSG00000001084               47                   47  \n",
       "ENSG00000001167               47                   48  "
      ]
     },
     "execution_count": 121,
     "metadata": {},
     "output_type": "execute_result"
    }
   ],
   "source": [
    "spredixcan_genes_models.head()"
   ]
  },
  {
   "cell_type": "markdown",
   "id": "e9f61a50-a5b5-4c85-9dec-3ceaaf65c61d",
   "metadata": {
    "papermill": {
     "duration": 0.030119,
     "end_time": "2022-08-27T06:52:37.563027",
     "exception": false,
     "start_time": "2022-08-27T06:52:37.532908",
     "status": "completed"
    },
    "tags": []
   },
   "source": [
    "### Summarize prediction models for each gene"
   ]
  },
  {
   "cell_type": "code",
   "execution_count": 122,
   "id": "4f44928f-b401-4abb-ac00-3b15b2746504",
   "metadata": {
    "execution": {
     "iopub.execute_input": "2022-08-27T06:52:37.622987Z",
     "iopub.status.busy": "2022-08-27T06:52:37.622716Z",
     "iopub.status.idle": "2022-08-27T06:52:37.641220Z",
     "shell.execute_reply": "2022-08-27T06:52:37.640669Z"
    },
    "papermill": {
     "duration": 0.050387,
     "end_time": "2022-08-27T06:52:37.642903",
     "exception": false,
     "start_time": "2022-08-27T06:52:37.592516",
     "status": "completed"
    },
    "tags": []
   },
   "outputs": [],
   "source": [
    "def _summarize_gene_models(gene_id):\n",
    "    \"\"\"\n",
    "    For a given gene ID, it returns a dataframe with predictor SNPs in rows and tissues in columns, where\n",
    "    values are the weights of SNPs in those tissues.\n",
    "    It can contain NaNs.\n",
    "    \"\"\"\n",
    "    gene_obj = spredixcan_gene_obj[gene_id]\n",
    "    gene_tissues = spredixcan_genes_models.loc[gene_id, \"tissue\"]\n",
    "\n",
    "    gene_models = {}\n",
    "    gene_unique_snps = set()\n",
    "    for t in gene_tissues:\n",
    "        gene_model = gene_obj.get_prediction_weights(tissue=t, model_type=EQTL_MODEL)\n",
    "        gene_models[t] = gene_model\n",
    "\n",
    "        gene_unique_snps.update(set(gene_model.index))\n",
    "\n",
    "    df = pd.DataFrame(\n",
    "        data=np.nan, index=list(gene_unique_snps), columns=list(gene_tissues)\n",
    "    )\n",
    "\n",
    "    for t in df.columns:\n",
    "        for snp in df.index:\n",
    "            gene_model = gene_models[t]\n",
    "\n",
    "            if snp in gene_model.index:\n",
    "                df.loc[snp, t] = gene_model.loc[snp]\n",
    "\n",
    "    return df"
   ]
  },
  {
   "cell_type": "code",
   "execution_count": 123,
   "id": "71bb0b5a-fe44-4076-91df-d8077ff85c71",
   "metadata": {
    "execution": {
     "iopub.execute_input": "2022-08-27T06:52:37.704891Z",
     "iopub.status.busy": "2022-08-27T06:52:37.704605Z",
     "iopub.status.idle": "2022-08-27T06:52:37.730348Z",
     "shell.execute_reply": "2022-08-27T06:52:37.729758Z"
    },
    "papermill": {
     "duration": 0.059186,
     "end_time": "2022-08-27T06:52:37.731909",
     "exception": false,
     "start_time": "2022-08-27T06:52:37.672723",
     "status": "completed"
    },
    "tags": []
   },
   "outputs": [
    {
     "data": {
      "text/plain": [
       "varID\n",
       "chr20_50862947_C_T_b38    0.431375\n",
       "Name: weight, dtype: float64"
      ]
     },
     "execution_count": 123,
     "metadata": {},
     "output_type": "execute_result"
    }
   ],
   "source": [
    "# testing\n",
    "spredixcan_gene_obj[\"ENSG00000000419\"].get_prediction_weights(\n",
    "    tissue=\"Brain_Hypothalamus\", model_type=EQTL_MODEL\n",
    ")"
   ]
  },
  {
   "cell_type": "code",
   "execution_count": 124,
   "id": "ad18b2d9-f585-445b-a809-bd694d417a8a",
   "metadata": {
    "execution": {
     "iopub.execute_input": "2022-08-27T06:52:37.791107Z",
     "iopub.status.busy": "2022-08-27T06:52:37.790844Z",
     "iopub.status.idle": "2022-08-27T06:52:37.815717Z",
     "shell.execute_reply": "2022-08-27T06:52:37.815176Z"
    },
    "papermill": {
     "duration": 0.056477,
     "end_time": "2022-08-27T06:52:37.817300",
     "exception": false,
     "start_time": "2022-08-27T06:52:37.760823",
     "status": "completed"
    },
    "tags": []
   },
   "outputs": [
    {
     "data": {
      "text/plain": [
       "varID\n",
       "chr20_50957480_C_T_b38   -0.146796\n",
       "Name: weight, dtype: float64"
      ]
     },
     "execution_count": 124,
     "metadata": {},
     "output_type": "execute_result"
    }
   ],
   "source": [
    "spredixcan_gene_obj[\"ENSG00000000419\"].get_prediction_weights(\n",
    "    tissue=\"Brain_Substantia_nigra\", model_type=EQTL_MODEL\n",
    ")"
   ]
  },
  {
   "cell_type": "code",
   "execution_count": 125,
   "id": "82ef5dec-283c-44ee-a118-b28d87a5b298",
   "metadata": {
    "execution": {
     "iopub.execute_input": "2022-08-27T06:52:37.878860Z",
     "iopub.status.busy": "2022-08-27T06:52:37.878589Z",
     "iopub.status.idle": "2022-08-27T06:52:37.894661Z",
     "shell.execute_reply": "2022-08-27T06:52:37.894130Z"
    },
    "papermill": {
     "duration": 0.048722,
     "end_time": "2022-08-27T06:52:37.896339",
     "exception": false,
     "start_time": "2022-08-27T06:52:37.847617",
     "status": "completed"
    },
    "tags": []
   },
   "outputs": [],
   "source": [
    "# # testing\n",
    "# _gene_id = \"ENSG00000000419\"\n",
    "\n",
    "# _gene_model = _summarize_gene_models(_gene_id)\n",
    "# assert (\n",
    "#     _gene_model.loc[\"chr20_50862947_C_T_b38\", \"Brain_Hypothalamus\"].round(5) == 0.43138\n",
    "# )\n",
    "# assert pd.isnull(_gene_model.loc[\"chr20_50957480_C_T_b38\", \"Brain_Hypothalamus\"])\n",
    "\n",
    "# assert pd.isnull(_gene_model.loc[\"chr20_50862947_C_T_b38\", \"Brain_Substantia_nigra\"])\n",
    "# assert (\n",
    "#     _gene_model.loc[\"chr20_50957480_C_T_b38\", \"Brain_Substantia_nigra\"].round(5)\n",
    "#     == -0.1468\n",
    "# )"
   ]
  },
  {
   "cell_type": "code",
   "execution_count": 126,
   "id": "134a7533-69e8-4858-8763-1fd45cbdec77",
   "metadata": {
    "execution": {
     "iopub.execute_input": "2022-08-27T06:52:37.956721Z",
     "iopub.status.busy": "2022-08-27T06:52:37.956454Z",
     "iopub.status.idle": "2022-08-27T07:10:55.025112Z",
     "shell.execute_reply": "2022-08-27T07:10:55.024201Z"
    },
    "papermill": {
     "duration": 1097.101587,
     "end_time": "2022-08-27T07:10:55.027232",
     "exception": false,
     "start_time": "2022-08-27T06:52:37.925645",
     "status": "completed"
    },
    "tags": []
   },
   "outputs": [],
   "source": [
    "gene_models = {}\n",
    "\n",
    "for gene_id in spredixcan_genes_models.index:\n",
    "    gene_models[gene_id] = _summarize_gene_models(gene_id)"
   ]
  },
  {
   "cell_type": "code",
   "execution_count": 127,
   "id": "97117dc0-0476-4e7b-98cb-6738dbb28c8a",
   "metadata": {
    "execution": {
     "iopub.execute_input": "2022-08-27T07:10:55.091772Z",
     "iopub.status.busy": "2022-08-27T07:10:55.091476Z",
     "iopub.status.idle": "2022-08-27T07:10:55.269215Z",
     "shell.execute_reply": "2022-08-27T07:10:55.268587Z"
    },
    "papermill": {
     "duration": 0.211124,
     "end_time": "2022-08-27T07:10:55.271177",
     "exception": false,
     "start_time": "2022-08-27T07:10:55.060053",
     "status": "completed"
    },
    "tags": []
   },
   "outputs": [],
   "source": [
    "# # testing\n",
    "# _gene_id = \"ENSG00000000419\"\n",
    "\n",
    "# _gene_model = gene_models[_gene_id]\n",
    "# assert (\n",
    "#     _gene_model.loc[\"chr20_50862947_C_T_b38\", \"Brain_Hypothalamus\"].round(5) == 0.43138\n",
    "# )\n",
    "# assert pd.isnull(_gene_model.loc[\"chr20_50957480_C_T_b38\", \"Brain_Hypothalamus\"])\n",
    "\n",
    "# assert pd.isnull(_gene_model.loc[\"chr20_50862947_C_T_b38\", \"Brain_Substantia_nigra\"])\n",
    "# assert (\n",
    "#     _gene_model.loc[\"chr20_50957480_C_T_b38\", \"Brain_Substantia_nigra\"].round(5)\n",
    "#     == -0.1468\n",
    "# )"
   ]
  },
  {
   "cell_type": "code",
   "execution_count": 128,
   "id": "806cd4a5-51b1-4ed3-8aa3-4970c128ccff",
   "metadata": {
    "execution": {
     "iopub.execute_input": "2022-08-27T07:10:55.331746Z",
     "iopub.status.busy": "2022-08-27T07:10:55.331475Z",
     "iopub.status.idle": "2022-08-27T07:10:58.551581Z",
     "shell.execute_reply": "2022-08-27T07:10:58.550980Z"
    },
    "papermill": {
     "duration": 3.252393,
     "end_time": "2022-08-27T07:10:58.553528",
     "exception": false,
     "start_time": "2022-08-27T07:10:55.301135",
     "status": "completed"
    },
    "tags": []
   },
   "outputs": [],
   "source": [
    "# save\n",
    "import gzip\n",
    "\n",
    "with gzip.GzipFile(OUTPUT_DIR_BASE / \"gene_tissues_models.pkl.gz\", \"w\") as f:\n",
    "    pickle.dump(gene_models, f)"
   ]
  },
  {
   "cell_type": "code",
   "execution_count": 129,
   "id": "a12a9597-dd0a-40a0-9a42-f288af22e0d2",
   "metadata": {
    "execution": {
     "iopub.execute_input": "2022-08-27T07:10:58.616206Z",
     "iopub.status.busy": "2022-08-27T07:10:58.615929Z",
     "iopub.status.idle": "2022-08-27T07:11:00.570955Z",
     "shell.execute_reply": "2022-08-27T07:11:00.570286Z"
    },
    "papermill": {
     "duration": 1.988508,
     "end_time": "2022-08-27T07:11:00.572983",
     "exception": false,
     "start_time": "2022-08-27T07:10:58.584475",
     "status": "completed"
    },
    "tags": []
   },
   "outputs": [],
   "source": [
    "# testing saved file\n",
    "with gzip.GzipFile(OUTPUT_DIR_BASE / \"gene_tissues_models.pkl.gz\", \"r\") as f:\n",
    "    _tmp = pickle.load(f)"
   ]
  },
  {
   "cell_type": "code",
   "execution_count": 130,
   "id": "a90a8f83-75db-4f73-8f1a-7e0563ba3685",
   "metadata": {
    "execution": {
     "iopub.execute_input": "2022-08-27T07:11:00.635175Z",
     "iopub.status.busy": "2022-08-27T07:11:00.634895Z",
     "iopub.status.idle": "2022-08-27T07:11:00.651603Z",
     "shell.execute_reply": "2022-08-27T07:11:00.651025Z"
    },
    "papermill": {
     "duration": 0.04969,
     "end_time": "2022-08-27T07:11:00.653281",
     "exception": false,
     "start_time": "2022-08-27T07:11:00.603591",
     "status": "completed"
    },
    "tags": []
   },
   "outputs": [],
   "source": [
    "assert len(gene_models) == len(_tmp)\n",
    "assert gene_models[\"ENSG00000000419\"].equals(_tmp[\"ENSG00000000419\"])"
   ]
  },
  {
   "cell_type": "markdown",
   "id": "a147f3a8-4efd-457b-9581-00cbfacd4b3d",
   "metadata": {
    "papermill": {
     "duration": 0.032273,
     "end_time": "2022-08-27T07:11:00.716510",
     "exception": false,
     "start_time": "2022-08-27T07:11:00.684237",
     "status": "completed"
    },
    "tags": []
   },
   "source": [
    "### Count number of _unique_ SNPs predictors used and available across tissue models"
   ]
  },
  {
   "cell_type": "code",
   "execution_count": 131,
   "id": "38d5bc57-3c25-4abe-93bd-09bbe200f2ef",
   "metadata": {
    "execution": {
     "iopub.execute_input": "2022-08-27T07:11:00.777854Z",
     "iopub.status.busy": "2022-08-27T07:11:00.777581Z",
     "iopub.status.idle": "2022-08-27T07:11:00.795273Z",
     "shell.execute_reply": "2022-08-27T07:11:00.794726Z"
    },
    "papermill": {
     "duration": 0.050459,
     "end_time": "2022-08-27T07:11:00.796995",
     "exception": false,
     "start_time": "2022-08-27T07:11:00.746536",
     "status": "completed"
    },
    "tags": []
   },
   "outputs": [],
   "source": [
    "def _count_unique_snps(gene_id):\n",
    "    \"\"\"\n",
    "    For a gene_id, it counts unique SNPs in all models and their intersection with GWAS SNPs (therefore, used by S-PrediXcan).\n",
    "    \"\"\"\n",
    "    gene_tissues = spredixcan_genes_models.loc[gene_id, \"tissue\"]\n",
    "\n",
    "    gene_unique_snps = set()\n",
    "    for t in gene_tissues:\n",
    "        t_snps = set(gene_models[gene_id].index)\n",
    "        gene_unique_snps.update(t_snps)\n",
    "\n",
    "    gene_unique_snps_in_gwas = gwas_variants_ids_set.intersection(gene_unique_snps)\n",
    "\n",
    "    return pd.Series(\n",
    "        {\n",
    "            \"unique_n_snps_in_model\": len(gene_unique_snps),\n",
    "            \"unique_n_snps_used\": len(gene_unique_snps_in_gwas),\n",
    "        }\n",
    "    )"
   ]
  },
  {
   "cell_type": "code",
   "execution_count": 132,
   "id": "059c6e02-67e2-4376-a3e5-b815070779c9",
   "metadata": {
    "execution": {
     "iopub.execute_input": "2022-08-27T07:11:00.858487Z",
     "iopub.status.busy": "2022-08-27T07:11:00.858227Z",
     "iopub.status.idle": "2022-08-27T07:11:00.889182Z",
     "shell.execute_reply": "2022-08-27T07:11:00.888574Z"
    },
    "papermill": {
     "duration": 0.06364,
     "end_time": "2022-08-27T07:11:00.890806",
     "exception": false,
     "start_time": "2022-08-27T07:11:00.827166",
     "status": "completed"
    },
    "tags": []
   },
   "outputs": [
    {
     "data": {
      "text/html": [
       "<div>\n",
       "<style scoped>\n",
       "    .dataframe tbody tr th:only-of-type {\n",
       "        vertical-align: middle;\n",
       "    }\n",
       "\n",
       "    .dataframe tbody tr th {\n",
       "        vertical-align: top;\n",
       "    }\n",
       "\n",
       "    .dataframe thead th {\n",
       "        text-align: right;\n",
       "    }\n",
       "</style>\n",
       "<table border=\"1\" class=\"dataframe\">\n",
       "  <thead>\n",
       "    <tr style=\"text-align: right;\">\n",
       "      <th></th>\n",
       "      <th>gene_name</th>\n",
       "      <th>tissue</th>\n",
       "      <th>n_tissues</th>\n",
       "      <th>tissues_pc_variances</th>\n",
       "      <th>tissues_variances</th>\n",
       "      <th>n_snps_used_sum</th>\n",
       "      <th>n_snps_in_model_sum</th>\n",
       "    </tr>\n",
       "    <tr>\n",
       "      <th>gene_id</th>\n",
       "      <th></th>\n",
       "      <th></th>\n",
       "      <th></th>\n",
       "      <th></th>\n",
       "      <th></th>\n",
       "      <th></th>\n",
       "      <th></th>\n",
       "    </tr>\n",
       "  </thead>\n",
       "  <tbody>\n",
       "    <tr>\n",
       "      <th>ENSG00000000419</th>\n",
       "      <td>DPM1</td>\n",
       "      <td>(Brain_Hypothalamus, Brain_Substantia_nigra)</td>\n",
       "      <td>2</td>\n",
       "      <td>[1.0442398458252409, 0.9557601541747592]</td>\n",
       "      <td>{'Brain_Hypothalamus': 0.013162153504206677, '...</td>\n",
       "      <td>2</td>\n",
       "      <td>2</td>\n",
       "    </tr>\n",
       "    <tr>\n",
       "      <th>ENSG00000010256</th>\n",
       "      <td>UQCRC1</td>\n",
       "      <td>(Thyroid, Whole_Blood)</td>\n",
       "      <td>2</td>\n",
       "      <td>[1.1048350039574655, 0.8951649960425345]</td>\n",
       "      <td>{'Thyroid': 0.0008025245652862433, 'Whole_Bloo...</td>\n",
       "      <td>2</td>\n",
       "      <td>2</td>\n",
       "    </tr>\n",
       "    <tr>\n",
       "      <th>ENSG00000017427</th>\n",
       "      <td>IGF1</td>\n",
       "      <td>(Testis, Brain_Amygdala)</td>\n",
       "      <td>2</td>\n",
       "      <td>[1.0389319526404415, 0.9610680473595585]</td>\n",
       "      <td>{'Testis': 0.003862056066316527, 'Brain_Amygda...</td>\n",
       "      <td>2</td>\n",
       "      <td>2</td>\n",
       "    </tr>\n",
       "    <tr>\n",
       "      <th>ENSG00000043093</th>\n",
       "      <td>DCUN1D1</td>\n",
       "      <td>(Esophagus_Gastroesophageal_Junction, Esophagu...</td>\n",
       "      <td>2</td>\n",
       "      <td>[1.4951653523020276, 0.5048346476979725]</td>\n",
       "      <td>{'Esophagus_Gastroesophageal_Junction': 0.0002...</td>\n",
       "      <td>2</td>\n",
       "      <td>2</td>\n",
       "    </tr>\n",
       "    <tr>\n",
       "      <th>ENSG00000081377</th>\n",
       "      <td>CDC14B</td>\n",
       "      <td>(Muscle_Skeletal, Brain_Nucleus_accumbens_basa...</td>\n",
       "      <td>2</td>\n",
       "      <td>[1.1285007973441137, 0.8714992026558863]</td>\n",
       "      <td>{'Muscle_Skeletal': 0.0076846621297156385, 'Br...</td>\n",
       "      <td>2</td>\n",
       "      <td>2</td>\n",
       "    </tr>\n",
       "  </tbody>\n",
       "</table>\n",
       "</div>"
      ],
      "text/plain": [
       "                gene_name                                             tissue  \\\n",
       "gene_id                                                                        \n",
       "ENSG00000000419      DPM1       (Brain_Hypothalamus, Brain_Substantia_nigra)   \n",
       "ENSG00000010256    UQCRC1                             (Thyroid, Whole_Blood)   \n",
       "ENSG00000017427      IGF1                           (Testis, Brain_Amygdala)   \n",
       "ENSG00000043093   DCUN1D1  (Esophagus_Gastroesophageal_Junction, Esophagu...   \n",
       "ENSG00000081377    CDC14B  (Muscle_Skeletal, Brain_Nucleus_accumbens_basa...   \n",
       "\n",
       "                 n_tissues                      tissues_pc_variances  \\\n",
       "gene_id                                                                \n",
       "ENSG00000000419          2  [1.0442398458252409, 0.9557601541747592]   \n",
       "ENSG00000010256          2  [1.1048350039574655, 0.8951649960425345]   \n",
       "ENSG00000017427          2  [1.0389319526404415, 0.9610680473595585]   \n",
       "ENSG00000043093          2  [1.4951653523020276, 0.5048346476979725]   \n",
       "ENSG00000081377          2  [1.1285007973441137, 0.8714992026558863]   \n",
       "\n",
       "                                                 tissues_variances  \\\n",
       "gene_id                                                              \n",
       "ENSG00000000419  {'Brain_Hypothalamus': 0.013162153504206677, '...   \n",
       "ENSG00000010256  {'Thyroid': 0.0008025245652862433, 'Whole_Bloo...   \n",
       "ENSG00000017427  {'Testis': 0.003862056066316527, 'Brain_Amygda...   \n",
       "ENSG00000043093  {'Esophagus_Gastroesophageal_Junction': 0.0002...   \n",
       "ENSG00000081377  {'Muscle_Skeletal': 0.0076846621297156385, 'Br...   \n",
       "\n",
       "                 n_snps_used_sum  n_snps_in_model_sum  \n",
       "gene_id                                                \n",
       "ENSG00000000419                2                    2  \n",
       "ENSG00000010256                2                    2  \n",
       "ENSG00000017427                2                    2  \n",
       "ENSG00000043093                2                    2  \n",
       "ENSG00000081377                2                    2  "
      ]
     },
     "execution_count": 132,
     "metadata": {},
     "output_type": "execute_result"
    }
   ],
   "source": [
    "# testing\n",
    "spredixcan_genes_models[spredixcan_genes_models[\"n_snps_used_sum\"] == 2].head()"
   ]
  },
  {
   "cell_type": "code",
   "execution_count": 133,
   "id": "4f8a444c-c3e2-4688-a50b-08481d41f614",
   "metadata": {
    "execution": {
     "iopub.execute_input": "2022-08-27T07:11:00.953428Z",
     "iopub.status.busy": "2022-08-27T07:11:00.953166Z",
     "iopub.status.idle": "2022-08-27T07:11:00.975304Z",
     "shell.execute_reply": "2022-08-27T07:11:00.974722Z"
    },
    "papermill": {
     "duration": 0.055081,
     "end_time": "2022-08-27T07:11:00.977044",
     "exception": false,
     "start_time": "2022-08-27T07:11:00.921963",
     "status": "completed"
    },
    "tags": []
   },
   "outputs": [
    {
     "data": {
      "text/plain": [
       "varID\n",
       "chr20_50862947_C_T_b38    0.431375\n",
       "Name: weight, dtype: float64"
      ]
     },
     "metadata": {},
     "output_type": "display_data"
    },
    {
     "data": {
      "text/plain": [
       "varID\n",
       "chr20_50957480_C_T_b38   -0.146796\n",
       "Name: weight, dtype: float64"
      ]
     },
     "metadata": {},
     "output_type": "display_data"
    }
   ],
   "source": [
    "# case with two snps, not repeated across tissues\n",
    "_gene_id = \"ENSG00000000419\"\n",
    "display(\n",
    "    spredixcan_gene_obj[_gene_id].get_prediction_weights(\n",
    "        tissue=\"Brain_Hypothalamus\", model_type=EQTL_MODEL\n",
    "    )\n",
    ")\n",
    "display(\n",
    "    spredixcan_gene_obj[_gene_id].get_prediction_weights(\n",
    "        tissue=\"Brain_Substantia_nigra\", model_type=EQTL_MODEL\n",
    "    )\n",
    ")"
   ]
  },
  {
   "cell_type": "code",
   "execution_count": 134,
   "id": "f835cf57-eea6-4468-aaf2-d85c8164d177",
   "metadata": {
    "execution": {
     "iopub.execute_input": "2022-08-27T07:11:01.040485Z",
     "iopub.status.busy": "2022-08-27T07:11:01.040206Z",
     "iopub.status.idle": "2022-08-27T07:11:01.056443Z",
     "shell.execute_reply": "2022-08-27T07:11:01.055909Z"
    },
    "papermill": {
     "duration": 0.049814,
     "end_time": "2022-08-27T07:11:01.058133",
     "exception": false,
     "start_time": "2022-08-27T07:11:01.008319",
     "status": "completed"
    },
    "tags": []
   },
   "outputs": [],
   "source": [
    "# _tmp = _count_unique_snps(_gene_id)\n",
    "# assert _tmp.shape[0] == 2\n",
    "# assert _tmp[\"unique_n_snps_in_model\"] == 2\n",
    "# assert _tmp[\"unique_n_snps_used\"] == 2"
   ]
  },
  {
   "cell_type": "code",
   "execution_count": 135,
   "id": "520837f6-5cdd-4958-aa98-00cd1ebab484",
   "metadata": {
    "execution": {
     "iopub.execute_input": "2022-08-27T07:11:01.121104Z",
     "iopub.status.busy": "2022-08-27T07:11:01.120829Z",
     "iopub.status.idle": "2022-08-27T07:11:03.868014Z",
     "shell.execute_reply": "2022-08-27T07:11:03.867205Z"
    },
    "papermill": {
     "duration": 2.780806,
     "end_time": "2022-08-27T07:11:03.870161",
     "exception": false,
     "start_time": "2022-08-27T07:11:01.089355",
     "status": "completed"
    },
    "tags": []
   },
   "outputs": [],
   "source": [
    "# get unique snps for all genes\n",
    "spredixcan_genes_unique_n_snps = spredixcan_genes_models.groupby(\"gene_id\").apply(\n",
    "    lambda x: _count_unique_snps(x.name)\n",
    ")"
   ]
  },
  {
   "cell_type": "code",
   "execution_count": 136,
   "id": "72633373-73d7-4796-b915-06fcb18feca0",
   "metadata": {
    "execution": {
     "iopub.execute_input": "2022-08-27T07:11:03.933669Z",
     "iopub.status.busy": "2022-08-27T07:11:03.933397Z",
     "iopub.status.idle": "2022-08-27T07:11:03.956164Z",
     "shell.execute_reply": "2022-08-27T07:11:03.955579Z"
    },
    "papermill": {
     "duration": 0.055747,
     "end_time": "2022-08-27T07:11:03.957702",
     "exception": false,
     "start_time": "2022-08-27T07:11:03.901955",
     "status": "completed"
    },
    "tags": []
   },
   "outputs": [
    {
     "data": {
      "text/html": [
       "<div>\n",
       "<style scoped>\n",
       "    .dataframe tbody tr th:only-of-type {\n",
       "        vertical-align: middle;\n",
       "    }\n",
       "\n",
       "    .dataframe tbody tr th {\n",
       "        vertical-align: top;\n",
       "    }\n",
       "\n",
       "    .dataframe thead th {\n",
       "        text-align: right;\n",
       "    }\n",
       "</style>\n",
       "<table border=\"1\" class=\"dataframe\">\n",
       "  <thead>\n",
       "    <tr style=\"text-align: right;\">\n",
       "      <th></th>\n",
       "      <th>unique_n_snps_in_model</th>\n",
       "      <th>unique_n_snps_used</th>\n",
       "    </tr>\n",
       "    <tr>\n",
       "      <th>gene_id</th>\n",
       "      <th></th>\n",
       "      <th></th>\n",
       "    </tr>\n",
       "  </thead>\n",
       "  <tbody>\n",
       "    <tr>\n",
       "      <th>ENSG00000000419</th>\n",
       "      <td>2</td>\n",
       "      <td>2</td>\n",
       "    </tr>\n",
       "    <tr>\n",
       "      <th>ENSG00000000938</th>\n",
       "      <td>5</td>\n",
       "      <td>5</td>\n",
       "    </tr>\n",
       "    <tr>\n",
       "      <th>ENSG00000000971</th>\n",
       "      <td>12</td>\n",
       "      <td>12</td>\n",
       "    </tr>\n",
       "    <tr>\n",
       "      <th>ENSG00000001084</th>\n",
       "      <td>24</td>\n",
       "      <td>24</td>\n",
       "    </tr>\n",
       "    <tr>\n",
       "      <th>ENSG00000001167</th>\n",
       "      <td>14</td>\n",
       "      <td>13</td>\n",
       "    </tr>\n",
       "  </tbody>\n",
       "</table>\n",
       "</div>"
      ],
      "text/plain": [
       "                 unique_n_snps_in_model  unique_n_snps_used\n",
       "gene_id                                                    \n",
       "ENSG00000000419                       2                   2\n",
       "ENSG00000000938                       5                   5\n",
       "ENSG00000000971                      12                  12\n",
       "ENSG00000001084                      24                  24\n",
       "ENSG00000001167                      14                  13"
      ]
     },
     "execution_count": 136,
     "metadata": {},
     "output_type": "execute_result"
    }
   ],
   "source": [
    "spredixcan_genes_unique_n_snps.head()"
   ]
  },
  {
   "cell_type": "code",
   "execution_count": 137,
   "id": "3d2b6676-2168-44b8-8d02-d29b934ba2ec",
   "metadata": {
    "execution": {
     "iopub.execute_input": "2022-08-27T07:11:04.021968Z",
     "iopub.status.busy": "2022-08-27T07:11:04.021681Z",
     "iopub.status.idle": "2022-08-27T07:11:04.038717Z",
     "shell.execute_reply": "2022-08-27T07:11:04.038181Z"
    },
    "papermill": {
     "duration": 0.051148,
     "end_time": "2022-08-27T07:11:04.040386",
     "exception": false,
     "start_time": "2022-08-27T07:11:03.989238",
     "status": "completed"
    },
    "tags": []
   },
   "outputs": [],
   "source": [
    "assert (\n",
    "    spredixcan_genes_unique_n_snps[\"unique_n_snps_in_model\"]\n",
    "    >= spredixcan_genes_unique_n_snps[\"unique_n_snps_used\"]\n",
    ").all()"
   ]
  },
  {
   "cell_type": "code",
   "execution_count": 138,
   "id": "6accf2fe-93fe-4f7c-86ff-5f0ea3d17e11",
   "metadata": {
    "execution": {
     "iopub.execute_input": "2022-08-27T07:11:04.103936Z",
     "iopub.status.busy": "2022-08-27T07:11:04.103648Z",
     "iopub.status.idle": "2022-08-27T07:11:04.124286Z",
     "shell.execute_reply": "2022-08-27T07:11:04.123676Z"
    },
    "papermill": {
     "duration": 0.054587,
     "end_time": "2022-08-27T07:11:04.126088",
     "exception": false,
     "start_time": "2022-08-27T07:11:04.071501",
     "status": "completed"
    },
    "tags": []
   },
   "outputs": [],
   "source": [
    "# add unique snps to spredixcan_genes_models\n",
    "spredixcan_genes_models = spredixcan_genes_models.join(spredixcan_genes_unique_n_snps)"
   ]
  },
  {
   "cell_type": "code",
   "execution_count": 139,
   "id": "25a28358-843b-4421-9d8f-8edc41f016e3",
   "metadata": {
    "execution": {
     "iopub.execute_input": "2022-08-27T07:11:04.190178Z",
     "iopub.status.busy": "2022-08-27T07:11:04.189891Z",
     "iopub.status.idle": "2022-08-27T07:11:04.208231Z",
     "shell.execute_reply": "2022-08-27T07:11:04.207650Z"
    },
    "papermill": {
     "duration": 0.051837,
     "end_time": "2022-08-27T07:11:04.209787",
     "exception": false,
     "start_time": "2022-08-27T07:11:04.157950",
     "status": "completed"
    },
    "tags": []
   },
   "outputs": [
    {
     "data": {
      "text/plain": [
       "(6428, 9)"
      ]
     },
     "execution_count": 139,
     "metadata": {},
     "output_type": "execute_result"
    }
   ],
   "source": [
    "spredixcan_genes_models.shape"
   ]
  },
  {
   "cell_type": "code",
   "execution_count": 140,
   "id": "ae4f0cd6-a823-4f55-82cf-1a78f0392acf",
   "metadata": {
    "execution": {
     "iopub.execute_input": "2022-08-27T07:11:04.274317Z",
     "iopub.status.busy": "2022-08-27T07:11:04.274050Z",
     "iopub.status.idle": "2022-08-27T07:11:04.305124Z",
     "shell.execute_reply": "2022-08-27T07:11:04.304517Z"
    },
    "papermill": {
     "duration": 0.065503,
     "end_time": "2022-08-27T07:11:04.306673",
     "exception": false,
     "start_time": "2022-08-27T07:11:04.241170",
     "status": "completed"
    },
    "tags": []
   },
   "outputs": [
    {
     "data": {
      "text/html": [
       "<div>\n",
       "<style scoped>\n",
       "    .dataframe tbody tr th:only-of-type {\n",
       "        vertical-align: middle;\n",
       "    }\n",
       "\n",
       "    .dataframe tbody tr th {\n",
       "        vertical-align: top;\n",
       "    }\n",
       "\n",
       "    .dataframe thead th {\n",
       "        text-align: right;\n",
       "    }\n",
       "</style>\n",
       "<table border=\"1\" class=\"dataframe\">\n",
       "  <thead>\n",
       "    <tr style=\"text-align: right;\">\n",
       "      <th></th>\n",
       "      <th>gene_name</th>\n",
       "      <th>tissue</th>\n",
       "      <th>n_tissues</th>\n",
       "      <th>tissues_pc_variances</th>\n",
       "      <th>tissues_variances</th>\n",
       "      <th>n_snps_used_sum</th>\n",
       "      <th>n_snps_in_model_sum</th>\n",
       "      <th>unique_n_snps_in_model</th>\n",
       "      <th>unique_n_snps_used</th>\n",
       "    </tr>\n",
       "    <tr>\n",
       "      <th>gene_id</th>\n",
       "      <th></th>\n",
       "      <th></th>\n",
       "      <th></th>\n",
       "      <th></th>\n",
       "      <th></th>\n",
       "      <th></th>\n",
       "      <th></th>\n",
       "      <th></th>\n",
       "      <th></th>\n",
       "    </tr>\n",
       "  </thead>\n",
       "  <tbody>\n",
       "    <tr>\n",
       "      <th>ENSG00000000419</th>\n",
       "      <td>DPM1</td>\n",
       "      <td>(Brain_Hypothalamus, Brain_Substantia_nigra)</td>\n",
       "      <td>2</td>\n",
       "      <td>[1.0442398458252409, 0.9557601541747592]</td>\n",
       "      <td>{'Brain_Hypothalamus': 0.013162153504206677, '...</td>\n",
       "      <td>2</td>\n",
       "      <td>2</td>\n",
       "      <td>2</td>\n",
       "      <td>2</td>\n",
       "    </tr>\n",
       "    <tr>\n",
       "      <th>ENSG00000000938</th>\n",
       "      <td>FGR</td>\n",
       "      <td>(Esophagus_Gastroesophageal_Junction, Adipose_...</td>\n",
       "      <td>36</td>\n",
       "      <td>[31.632669336371276, 2.0783677518511436, 1.271...</td>\n",
       "      <td>{'Esophagus_Gastroesophageal_Junction': 0.0069...</td>\n",
       "      <td>40</td>\n",
       "      <td>40</td>\n",
       "      <td>5</td>\n",
       "      <td>5</td>\n",
       "    </tr>\n",
       "    <tr>\n",
       "      <th>ENSG00000000971</th>\n",
       "      <td>CFH</td>\n",
       "      <td>(Brain_Putamen_basal_ganglia, Esophagus_Gastro...</td>\n",
       "      <td>34</td>\n",
       "      <td>[21.560769925683296, 7.3101709870454625, 1.837...</td>\n",
       "      <td>{'Brain_Putamen_basal_ganglia': 0.016948774742...</td>\n",
       "      <td>44</td>\n",
       "      <td>44</td>\n",
       "      <td>12</td>\n",
       "      <td>12</td>\n",
       "    </tr>\n",
       "    <tr>\n",
       "      <th>ENSG00000001084</th>\n",
       "      <td>GCLC</td>\n",
       "      <td>(Brain_Putamen_basal_ganglia, Adipose_Subcutan...</td>\n",
       "      <td>33</td>\n",
       "      <td>[21.74736589643256, 4.700645786683648, 2.24994...</td>\n",
       "      <td>{'Brain_Putamen_basal_ganglia': 0.022893962687...</td>\n",
       "      <td>47</td>\n",
       "      <td>47</td>\n",
       "      <td>24</td>\n",
       "      <td>24</td>\n",
       "    </tr>\n",
       "    <tr>\n",
       "      <th>ENSG00000001167</th>\n",
       "      <td>NFYA</td>\n",
       "      <td>(Brain_Putamen_basal_ganglia, Esophagus_Gastro...</td>\n",
       "      <td>40</td>\n",
       "      <td>[37.33566029549769, 1.3914019604538372]</td>\n",
       "      <td>{'Brain_Putamen_basal_ganglia': 0.011466969312...</td>\n",
       "      <td>47</td>\n",
       "      <td>48</td>\n",
       "      <td>14</td>\n",
       "      <td>13</td>\n",
       "    </tr>\n",
       "  </tbody>\n",
       "</table>\n",
       "</div>"
      ],
      "text/plain": [
       "                gene_name                                             tissue  \\\n",
       "gene_id                                                                        \n",
       "ENSG00000000419      DPM1       (Brain_Hypothalamus, Brain_Substantia_nigra)   \n",
       "ENSG00000000938       FGR  (Esophagus_Gastroesophageal_Junction, Adipose_...   \n",
       "ENSG00000000971       CFH  (Brain_Putamen_basal_ganglia, Esophagus_Gastro...   \n",
       "ENSG00000001084      GCLC  (Brain_Putamen_basal_ganglia, Adipose_Subcutan...   \n",
       "ENSG00000001167      NFYA  (Brain_Putamen_basal_ganglia, Esophagus_Gastro...   \n",
       "\n",
       "                 n_tissues                               tissues_pc_variances  \\\n",
       "gene_id                                                                         \n",
       "ENSG00000000419          2           [1.0442398458252409, 0.9557601541747592]   \n",
       "ENSG00000000938         36  [31.632669336371276, 2.0783677518511436, 1.271...   \n",
       "ENSG00000000971         34  [21.560769925683296, 7.3101709870454625, 1.837...   \n",
       "ENSG00000001084         33  [21.74736589643256, 4.700645786683648, 2.24994...   \n",
       "ENSG00000001167         40            [37.33566029549769, 1.3914019604538372]   \n",
       "\n",
       "                                                 tissues_variances  \\\n",
       "gene_id                                                              \n",
       "ENSG00000000419  {'Brain_Hypothalamus': 0.013162153504206677, '...   \n",
       "ENSG00000000938  {'Esophagus_Gastroesophageal_Junction': 0.0069...   \n",
       "ENSG00000000971  {'Brain_Putamen_basal_ganglia': 0.016948774742...   \n",
       "ENSG00000001084  {'Brain_Putamen_basal_ganglia': 0.022893962687...   \n",
       "ENSG00000001167  {'Brain_Putamen_basal_ganglia': 0.011466969312...   \n",
       "\n",
       "                 n_snps_used_sum  n_snps_in_model_sum  unique_n_snps_in_model  \\\n",
       "gene_id                                                                         \n",
       "ENSG00000000419                2                    2                       2   \n",
       "ENSG00000000938               40                   40                       5   \n",
       "ENSG00000000971               44                   44                      12   \n",
       "ENSG00000001084               47                   47                      24   \n",
       "ENSG00000001167               47                   48                      14   \n",
       "\n",
       "                 unique_n_snps_used  \n",
       "gene_id                              \n",
       "ENSG00000000419                   2  \n",
       "ENSG00000000938                   5  \n",
       "ENSG00000000971                  12  \n",
       "ENSG00000001084                  24  \n",
       "ENSG00000001167                  13  "
      ]
     },
     "execution_count": 140,
     "metadata": {},
     "output_type": "execute_result"
    }
   ],
   "source": [
    "spredixcan_genes_models.head()"
   ]
  },
  {
   "cell_type": "markdown",
   "id": "d6947d45-ea78-4c6b-bf71-f7413d1687e3",
   "metadata": {
    "papermill": {
     "duration": 0.030621,
     "end_time": "2022-08-27T07:11:04.368546",
     "exception": false,
     "start_time": "2022-08-27T07:11:04.337925",
     "status": "completed"
    },
    "tags": []
   },
   "source": [
    "### Save"
   ]
  },
  {
   "cell_type": "code",
   "execution_count": 141,
   "id": "ebc3a430-7bd5-4099-8b01-aa77e704e3e7",
   "metadata": {
    "execution": {
     "iopub.execute_input": "2022-08-27T07:11:04.431459Z",
     "iopub.status.busy": "2022-08-27T07:11:04.431168Z",
     "iopub.status.idle": "2022-08-27T07:11:04.448698Z",
     "shell.execute_reply": "2022-08-27T07:11:04.448117Z"
    },
    "papermill": {
     "duration": 0.050989,
     "end_time": "2022-08-27T07:11:04.450410",
     "exception": false,
     "start_time": "2022-08-27T07:11:04.399421",
     "status": "completed"
    },
    "tags": []
   },
   "outputs": [],
   "source": [
    "# this is important, other scripts depend on gene_name to be unique\n",
    "assert spredixcan_genes_models[\"gene_name\"].is_unique"
   ]
  },
  {
   "cell_type": "code",
   "execution_count": 142,
   "id": "e2db5302-3051-4492-97e1-e759d2fb512f",
   "metadata": {
    "execution": {
     "iopub.execute_input": "2022-08-27T07:11:04.515423Z",
     "iopub.status.busy": "2022-08-27T07:11:04.515126Z",
     "iopub.status.idle": "2022-08-27T07:11:04.534673Z",
     "shell.execute_reply": "2022-08-27T07:11:04.534114Z"
    },
    "papermill": {
     "duration": 0.054034,
     "end_time": "2022-08-27T07:11:04.536409",
     "exception": false,
     "start_time": "2022-08-27T07:11:04.482375",
     "status": "completed"
    },
    "tags": []
   },
   "outputs": [],
   "source": [
    "assert not spredixcan_genes_models.isna().any(None)"
   ]
  },
  {
   "cell_type": "code",
   "execution_count": 143,
   "id": "10e19441-8390-4eb1-8da4-24752597bb54",
   "metadata": {
    "execution": {
     "iopub.execute_input": "2022-08-27T07:11:04.601454Z",
     "iopub.status.busy": "2022-08-27T07:11:04.601173Z",
     "iopub.status.idle": "2022-08-27T07:11:05.409160Z",
     "shell.execute_reply": "2022-08-27T07:11:05.408510Z"
    },
    "papermill": {
     "duration": 0.842948,
     "end_time": "2022-08-27T07:11:05.411153",
     "exception": false,
     "start_time": "2022-08-27T07:11:04.568205",
     "status": "completed"
    },
    "tags": []
   },
   "outputs": [],
   "source": [
    "spredixcan_genes_models.to_pickle(OUTPUT_DIR_BASE / \"gene_tissues.pkl\")"
   ]
  },
  {
   "cell_type": "code",
   "execution_count": null,
   "id": "b25e3ead",
   "metadata": {
    "papermill": {
     "duration": 0.064084,
     "end_time": "2022-08-27T07:11:05.507990",
     "exception": false,
     "start_time": "2022-08-27T07:11:05.443906",
     "status": "completed"
    },
    "tags": []
   },
   "outputs": [],
   "source": []
  }
 ],
 "metadata": {
  "jupytext": {
   "cell_metadata_filter": "all,-execution,-papermill,-trusted",
   "formats": "ipynb,py//py:percent"
  },
  "kernelspec": {
   "display_name": "Python 3 (ipykernel)",
   "language": "python",
   "name": "python3"
  },
  "language_info": {
   "codemirror_mode": {
    "name": "ipython",
    "version": 3
   },
   "file_extension": ".py",
   "mimetype": "text/x-python",
   "name": "python",
   "nbconvert_exporter": "python",
   "pygments_lexer": "ipython3",
   "version": "3.8.13"
  },
  "papermill": {
   "default_parameters": {},
   "duration": 10518.355051,
   "end_time": "2022-08-27T07:11:08.169047",
   "environment_variables": {},
   "exception": null,
   "input_path": "nbs/15_gsa_gls/07-compile_gwas_snps_and_twas_genes.ipynb",
   "output_path": "nbs/15_gsa_gls/gene_corrs/cohorts/phenomexcan_rapid_gwas/gtex_v8/mashr/07-compile_gwas_snps_and_twas_genes.run.ipynb",
   "parameters": {
    "COHORT_NAME": "phenomexcan_rapid_gwas",
    "EQTL_MODEL": "MASHR",
    "GWAS_FILE": "/project/ritchie20/projects/phenoplier/base/data/phenomexcan/gwas_parsing/full/22617_7112.txt.gz",
    "REFERENCE_PANEL": "GTEX_V8",
    "SMULTIXCAN_FILE": "/project/ritchie20/projects/phenoplier/base/data/phenomexcan/smultixcan/rapid_gwas_project/smultixcan_22617_7112_ccn30.tsv.gz",
    "SPREDIXCAN_FILE_PATTERN": "22617_7112-gtex_v8-{tissue}-2018_10.csv",
    "SPREDIXCAN_FOLDER": "/project/ritchie20/projects/phenoplier/base/data/phenomexcan/spredixcan/rapid_gwas_project/22617_7112/"
   },
   "start_time": "2022-08-27T04:15:49.813996",
   "version": "2.2.2"
  },
  "toc-autonumbering": true
 },
 "nbformat": 4,
 "nbformat_minor": 5
}
