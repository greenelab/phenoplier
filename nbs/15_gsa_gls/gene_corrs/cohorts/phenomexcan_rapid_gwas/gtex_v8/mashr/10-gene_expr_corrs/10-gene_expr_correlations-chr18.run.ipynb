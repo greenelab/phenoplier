{
 "cells": [
  {
   "cell_type": "markdown",
   "id": "7a6632fb",
   "metadata": {
    "papermill": {
     "duration": 0.02025,
     "end_time": "2022-08-27T05:59:17.567069",
     "exception": false,
     "start_time": "2022-08-27T05:59:17.546819",
     "status": "completed"
    },
    "tags": []
   },
   "source": [
    "# Description"
   ]
  },
  {
   "cell_type": "markdown",
   "id": "7097c346",
   "metadata": {
    "papermill": {
     "duration": 0.013986,
     "end_time": "2022-08-27T05:59:17.597288",
     "exception": false,
     "start_time": "2022-08-27T05:59:17.583302",
     "status": "completed"
    },
    "tags": []
   },
   "source": [
    "(Please, take a look at the README.md file in this directory for instructions on how to run this notebook)\n",
    "\n",
    "This notebook computes predicted expression correlations between all genes in the MultiPLIER models.\n",
    "\n",
    "It also has a parameter set for papermill to run on a single chromosome to run in parallel (see under `Settings` below).\n",
    "\n",
    "This notebook is not directly run. See README.md."
   ]
  },
  {
   "cell_type": "markdown",
   "id": "c61d8427",
   "metadata": {
    "papermill": {
     "duration": 0.012514,
     "end_time": "2022-08-27T05:59:17.623148",
     "exception": false,
     "start_time": "2022-08-27T05:59:17.610634",
     "status": "completed"
    },
    "tags": []
   },
   "source": [
    "# Modules"
   ]
  },
  {
   "cell_type": "code",
   "execution_count": 1,
   "id": "bbc0234f",
   "metadata": {
    "execution": {
     "iopub.execute_input": "2022-08-27T05:59:17.650383Z",
     "iopub.status.busy": "2022-08-27T05:59:17.650024Z",
     "iopub.status.idle": "2022-08-27T05:59:17.705633Z",
     "shell.execute_reply": "2022-08-27T05:59:17.705121Z"
    },
    "papermill": {
     "duration": 0.070982,
     "end_time": "2022-08-27T05:59:17.707288",
     "exception": false,
     "start_time": "2022-08-27T05:59:17.636306",
     "status": "completed"
    },
    "tags": []
   },
   "outputs": [],
   "source": [
    "%load_ext autoreload\n",
    "%autoreload 2"
   ]
  },
  {
   "cell_type": "code",
   "execution_count": 2,
   "id": "1d5f5a59",
   "metadata": {
    "execution": {
     "iopub.execute_input": "2022-08-27T05:59:17.724295Z",
     "iopub.status.busy": "2022-08-27T05:59:17.724097Z",
     "iopub.status.idle": "2022-08-27T05:59:23.828853Z",
     "shell.execute_reply": "2022-08-27T05:59:23.828248Z"
    },
    "papermill": {
     "duration": 6.115534,
     "end_time": "2022-08-27T05:59:23.830678",
     "exception": false,
     "start_time": "2022-08-27T05:59:17.715144",
     "status": "completed"
    },
    "tags": []
   },
   "outputs": [],
   "source": [
    "from random import sample, seed\n",
    "import warnings\n",
    "from pathlib import Path\n",
    "import pickle\n",
    "import traceback\n",
    "\n",
    "import numpy as np\n",
    "from scipy.spatial.distance import squareform\n",
    "import pandas as pd\n",
    "from tqdm import tqdm\n",
    "import matplotlib.pyplot as plt\n",
    "import seaborn as sns\n",
    "\n",
    "import conf\n",
    "from entity import Gene"
   ]
  },
  {
   "cell_type": "markdown",
   "id": "1eac24b5",
   "metadata": {
    "papermill": {
     "duration": 0.009468,
     "end_time": "2022-08-27T05:59:23.874226",
     "exception": false,
     "start_time": "2022-08-27T05:59:23.864758",
     "status": "completed"
    },
    "tags": []
   },
   "source": [
    "# Settings"
   ]
  },
  {
   "cell_type": "code",
   "execution_count": 3,
   "id": "ca4560ba",
   "metadata": {
    "execution": {
     "iopub.execute_input": "2022-08-27T05:59:23.892469Z",
     "iopub.status.busy": "2022-08-27T05:59:23.892215Z",
     "iopub.status.idle": "2022-08-27T05:59:24.010059Z",
     "shell.execute_reply": "2022-08-27T05:59:24.009542Z"
    },
    "papermill": {
     "duration": 0.128634,
     "end_time": "2022-08-27T05:59:24.011655",
     "exception": false,
     "start_time": "2022-08-27T05:59:23.883021",
     "status": "completed"
    },
    "tags": [
     "parameters"
    ]
   },
   "outputs": [],
   "source": [
    "# a cohort name (it could be something like UK_BIOBANK, etc)\n",
    "COHORT_NAME = None\n",
    "\n",
    "# reference panel such as 1000G or GTEX_V8\n",
    "REFERENCE_PANEL = None\n",
    "\n",
    "# predictions models such as MASHR or ELASTIC_NET\n",
    "EQTL_MODEL = None\n",
    "\n",
    "# this is the default value used in S-MultiXcan to select the\n",
    "# top principal components of the expression correlation matrix\n",
    "SMULTIXCAN_CONDITION_NUMBER = 30\n",
    "\n",
    "# specifies a single chromosome value\n",
    "CHROMOSOME = None\n",
    "\n",
    "# If True, computes the correlation between closeby genes only;\n",
    "# otherwise, it computes correlations for all genes in a chromosome\n",
    "COMPUTE_CORRELATIONS_WITHIN_DISTANCE = False\n",
    "\n",
    "# if True, then it will continue if a gene pair correlation fails,\n",
    "# printing the warning/error for debugging. If False, any warning/error\n",
    "# will be thrown\n",
    "DEBUG_MODE = False"
   ]
  },
  {
   "cell_type": "code",
   "execution_count": 4,
   "id": "539b37e8",
   "metadata": {
    "execution": {
     "iopub.execute_input": "2022-08-27T05:59:24.029935Z",
     "iopub.status.busy": "2022-08-27T05:59:24.029744Z",
     "iopub.status.idle": "2022-08-27T05:59:24.045536Z",
     "shell.execute_reply": "2022-08-27T05:59:24.045033Z"
    },
    "papermill": {
     "duration": 0.027118,
     "end_time": "2022-08-27T05:59:24.047056",
     "exception": false,
     "start_time": "2022-08-27T05:59:24.019938",
     "status": "completed"
    },
    "tags": [
     "injected-parameters"
    ]
   },
   "outputs": [],
   "source": [
    "# Parameters\n",
    "COHORT_NAME = \"phenomexcan_rapid_gwas\"\n",
    "REFERENCE_PANEL = \"GTEX_V8\"\n",
    "EQTL_MODEL = \"MASHR\"\n",
    "CHROMOSOME = 18\n"
   ]
  },
  {
   "cell_type": "code",
   "execution_count": 5,
   "id": "3190631f-27fc-480f-b18e-571d580425a5",
   "metadata": {
    "execution": {
     "iopub.execute_input": "2022-08-27T05:59:24.064532Z",
     "iopub.status.busy": "2022-08-27T05:59:24.064340Z",
     "iopub.status.idle": "2022-08-27T05:59:24.083000Z",
     "shell.execute_reply": "2022-08-27T05:59:24.082501Z"
    },
    "papermill": {
     "duration": 0.02881,
     "end_time": "2022-08-27T05:59:24.084433",
     "exception": false,
     "start_time": "2022-08-27T05:59:24.055623",
     "status": "completed"
    },
    "tags": []
   },
   "outputs": [
    {
     "data": {
      "text/plain": [
       "'Cohort name: phenomexcan_rapid_gwas'"
      ]
     },
     "metadata": {},
     "output_type": "display_data"
    }
   ],
   "source": [
    "assert COHORT_NAME is not None and len(COHORT_NAME) > 0, \"A cohort name must be given\"\n",
    "\n",
    "COHORT_NAME = COHORT_NAME.lower()\n",
    "display(f\"Cohort name: {COHORT_NAME}\")"
   ]
  },
  {
   "cell_type": "code",
   "execution_count": 6,
   "id": "f53ba19b-0f93-4fa2-a047-63b375939d1a",
   "metadata": {
    "execution": {
     "iopub.execute_input": "2022-08-27T05:59:24.105047Z",
     "iopub.status.busy": "2022-08-27T05:59:24.104857Z",
     "iopub.status.idle": "2022-08-27T05:59:24.122008Z",
     "shell.execute_reply": "2022-08-27T05:59:24.121510Z"
    },
    "papermill": {
     "duration": 0.030204,
     "end_time": "2022-08-27T05:59:24.123436",
     "exception": false,
     "start_time": "2022-08-27T05:59:24.093232",
     "status": "completed"
    },
    "tags": []
   },
   "outputs": [
    {
     "data": {
      "text/plain": [
       "'Reference panel: GTEX_V8'"
      ]
     },
     "metadata": {},
     "output_type": "display_data"
    }
   ],
   "source": [
    "assert (\n",
    "    REFERENCE_PANEL is not None and len(REFERENCE_PANEL) > 0\n",
    "), \"A reference panel must be given\"\n",
    "\n",
    "display(f\"Reference panel: {REFERENCE_PANEL}\")"
   ]
  },
  {
   "cell_type": "code",
   "execution_count": 7,
   "id": "e024d130-c139-429a-9c6e-ccf149e297b0",
   "metadata": {
    "execution": {
     "iopub.execute_input": "2022-08-27T05:59:24.141153Z",
     "iopub.status.busy": "2022-08-27T05:59:24.140958Z",
     "iopub.status.idle": "2022-08-27T05:59:24.158336Z",
     "shell.execute_reply": "2022-08-27T05:59:24.157829Z"
    },
    "papermill": {
     "duration": 0.027539,
     "end_time": "2022-08-27T05:59:24.159752",
     "exception": false,
     "start_time": "2022-08-27T05:59:24.132213",
     "status": "completed"
    },
    "tags": []
   },
   "outputs": [
    {
     "data": {
      "text/plain": [
       "'eQTL model: MASHR) / mashr_'"
      ]
     },
     "metadata": {},
     "output_type": "display_data"
    }
   ],
   "source": [
    "assert (\n",
    "    EQTL_MODEL is not None and len(EQTL_MODEL) > 0\n",
    "), \"A prediction/eQTL model must be given\"\n",
    "\n",
    "EQTL_MODEL_FILES_PREFIX = conf.PHENOMEXCAN[\"PREDICTION_MODELS\"][f\"{EQTL_MODEL}_PREFIX\"]\n",
    "display(f\"eQTL model: {EQTL_MODEL}) / {EQTL_MODEL_FILES_PREFIX}\")"
   ]
  },
  {
   "cell_type": "code",
   "execution_count": 8,
   "id": "552a7f63-a18c-4d3e-bb6a-94f99b431291",
   "metadata": {
    "execution": {
     "iopub.execute_input": "2022-08-27T05:59:24.179721Z",
     "iopub.status.busy": "2022-08-27T05:59:24.179532Z",
     "iopub.status.idle": "2022-08-27T05:59:24.196565Z",
     "shell.execute_reply": "2022-08-27T05:59:24.196055Z"
    },
    "papermill": {
     "duration": 0.028074,
     "end_time": "2022-08-27T05:59:24.197986",
     "exception": false,
     "start_time": "2022-08-27T05:59:24.169912",
     "status": "completed"
    },
    "tags": []
   },
   "outputs": [
    {
     "data": {
      "text/plain": [
       "'S-MultiXcan condition number: 30'"
      ]
     },
     "metadata": {},
     "output_type": "display_data"
    }
   ],
   "source": [
    "assert (\n",
    "    SMULTIXCAN_CONDITION_NUMBER is not None and SMULTIXCAN_CONDITION_NUMBER > 0\n",
    "), \"The S-MultiXcan condition number (positive integer) must be given\"\n",
    "\n",
    "display(f\"S-MultiXcan condition number: {SMULTIXCAN_CONDITION_NUMBER}\")"
   ]
  },
  {
   "cell_type": "code",
   "execution_count": 9,
   "id": "f34a336f-548e-4afe-8955-90eaea4f42c6",
   "metadata": {
    "execution": {
     "iopub.execute_input": "2022-08-27T05:59:24.216206Z",
     "iopub.status.busy": "2022-08-27T05:59:24.216010Z",
     "iopub.status.idle": "2022-08-27T05:59:24.233138Z",
     "shell.execute_reply": "2022-08-27T05:59:24.232631Z"
    },
    "papermill": {
     "duration": 0.028304,
     "end_time": "2022-08-27T05:59:24.234557",
     "exception": false,
     "start_time": "2022-08-27T05:59:24.206253",
     "status": "completed"
    },
    "tags": []
   },
   "outputs": [
    {
     "data": {
      "text/plain": [
       "'Working on chromosome 18'"
      ]
     },
     "metadata": {},
     "output_type": "display_data"
    }
   ],
   "source": [
    "assert CHROMOSOME is not None and (\n",
    "    1 <= CHROMOSOME <= 22\n",
    "), \"You have to select one chromosome (format: number between 1 and 22)\"\n",
    "\n",
    "# CHROMOSOME = str(CHROMOSOME)\n",
    "display(f\"Working on chromosome {CHROMOSOME}\")"
   ]
  },
  {
   "cell_type": "code",
   "execution_count": 10,
   "id": "ab8e96e8-06b5-4363-9dcd-dc4d78cc27f7",
   "metadata": {
    "execution": {
     "iopub.execute_input": "2022-08-27T05:59:24.252359Z",
     "iopub.status.busy": "2022-08-27T05:59:24.252170Z",
     "iopub.status.idle": "2022-08-27T05:59:24.270054Z",
     "shell.execute_reply": "2022-08-27T05:59:24.269553Z"
    },
    "papermill": {
     "duration": 0.028642,
     "end_time": "2022-08-27T05:59:24.271474",
     "exception": false,
     "start_time": "2022-08-27T05:59:24.242832",
     "status": "completed"
    },
    "tags": []
   },
   "outputs": [
    {
     "data": {
      "text/plain": [
       "'Compute correlation within distance False'"
      ]
     },
     "metadata": {},
     "output_type": "display_data"
    }
   ],
   "source": [
    "display(f\"Compute correlation within distance {COMPUTE_CORRELATIONS_WITHIN_DISTANCE}\")"
   ]
  },
  {
   "cell_type": "code",
   "execution_count": 11,
   "id": "396392dc-0340-4540-9b02-e182b833f909",
   "metadata": {
    "execution": {
     "iopub.execute_input": "2022-08-27T05:59:24.290706Z",
     "iopub.status.busy": "2022-08-27T05:59:24.290516Z",
     "iopub.status.idle": "2022-08-27T05:59:24.309129Z",
     "shell.execute_reply": "2022-08-27T05:59:24.308624Z"
    },
    "papermill": {
     "duration": 0.030656,
     "end_time": "2022-08-27T05:59:24.310587",
     "exception": false,
     "start_time": "2022-08-27T05:59:24.279931",
     "status": "completed"
    },
    "tags": []
   },
   "outputs": [
    {
     "data": {
      "text/plain": [
       "'Using output dir base: /project/ritchie20/projects/phenoplier/base/results/gls/gene_corrs/cohorts/phenomexcan_rapid_gwas/gtex_v8/mashr'"
      ]
     },
     "metadata": {},
     "output_type": "display_data"
    }
   ],
   "source": [
    "OUTPUT_DIR_BASE = (\n",
    "    conf.RESULTS[\"GLS\"]\n",
    "    / \"gene_corrs\"\n",
    "    / \"cohorts\"\n",
    "    / COHORT_NAME\n",
    "    / REFERENCE_PANEL.lower()\n",
    "    / EQTL_MODEL.lower()\n",
    ")\n",
    "OUTPUT_DIR_BASE.mkdir(parents=True, exist_ok=True)\n",
    "\n",
    "display(f\"Using output dir base: {OUTPUT_DIR_BASE}\")"
   ]
  },
  {
   "cell_type": "markdown",
   "id": "d2ba085e",
   "metadata": {
    "papermill": {
     "duration": 0.008816,
     "end_time": "2022-08-27T05:59:24.327969",
     "exception": false,
     "start_time": "2022-08-27T05:59:24.319153",
     "status": "completed"
    },
    "tags": []
   },
   "source": [
    "# Load data"
   ]
  },
  {
   "cell_type": "markdown",
   "id": "7dcb8db7",
   "metadata": {
    "papermill": {
     "duration": 0.009464,
     "end_time": "2022-08-27T05:59:24.345809",
     "exception": false,
     "start_time": "2022-08-27T05:59:24.336345",
     "status": "completed"
    },
    "tags": []
   },
   "source": [
    "## GWAS variants"
   ]
  },
  {
   "cell_type": "code",
   "execution_count": 12,
   "id": "29434c4e-8cd3-4b9b-82e4-b5a251d9dd19",
   "metadata": {
    "execution": {
     "iopub.execute_input": "2022-08-27T05:59:24.364450Z",
     "iopub.status.busy": "2022-08-27T05:59:24.364256Z",
     "iopub.status.idle": "2022-08-27T05:59:26.771334Z",
     "shell.execute_reply": "2022-08-27T05:59:26.770706Z"
    },
    "papermill": {
     "duration": 2.418168,
     "end_time": "2022-08-27T05:59:26.773218",
     "exception": false,
     "start_time": "2022-08-27T05:59:24.355050",
     "status": "completed"
    },
    "tags": []
   },
   "outputs": [],
   "source": [
    "with open(OUTPUT_DIR_BASE / \"gwas_variant_ids.pkl\", \"rb\") as handle:\n",
    "    gwas_variants_ids_set = pickle.load(handle)"
   ]
  },
  {
   "cell_type": "code",
   "execution_count": 13,
   "id": "b9d9dec2-4a76-4bf9-bde2-e24c95acb8a0",
   "metadata": {
    "execution": {
     "iopub.execute_input": "2022-08-27T05:59:26.800388Z",
     "iopub.status.busy": "2022-08-27T05:59:26.800185Z",
     "iopub.status.idle": "2022-08-27T05:59:26.993959Z",
     "shell.execute_reply": "2022-08-27T05:59:26.993403Z"
    },
    "papermill": {
     "duration": 0.207814,
     "end_time": "2022-08-27T05:59:26.995565",
     "exception": false,
     "start_time": "2022-08-27T05:59:26.787751",
     "status": "completed"
    },
    "tags": []
   },
   "outputs": [
    {
     "data": {
      "text/plain": [
       "8496088"
      ]
     },
     "execution_count": 13,
     "metadata": {},
     "output_type": "execute_result"
    }
   ],
   "source": [
    "len(gwas_variants_ids_set)"
   ]
  },
  {
   "cell_type": "code",
   "execution_count": 14,
   "id": "4235b06a-6034-4ee4-a0a3-2ae35d122418",
   "metadata": {
    "execution": {
     "iopub.execute_input": "2022-08-27T05:59:27.033009Z",
     "iopub.status.busy": "2022-08-27T05:59:27.032815Z",
     "iopub.status.idle": "2022-08-27T05:59:27.613297Z",
     "shell.execute_reply": "2022-08-27T05:59:27.612742Z"
    },
    "papermill": {
     "duration": 0.606058,
     "end_time": "2022-08-27T05:59:27.614813",
     "exception": false,
     "start_time": "2022-08-27T05:59:27.008755",
     "status": "completed"
    },
    "tags": []
   },
   "outputs": [
    {
     "data": {
      "text/plain": [
       "['chr9_120125164_A_T_b38',\n",
       " 'chr5_150146169_CTAT_C_b38',\n",
       " 'chr1_19563428_G_A_b38',\n",
       " 'chr6_140776724_C_T_b38',\n",
       " 'chr18_67671506_C_G_b38']"
      ]
     },
     "execution_count": 14,
     "metadata": {},
     "output_type": "execute_result"
    }
   ],
   "source": [
    "list(gwas_variants_ids_set)[:5]"
   ]
  },
  {
   "cell_type": "markdown",
   "id": "07866999-2305-41f9-a144-e69c9122c212",
   "metadata": {
    "papermill": {
     "duration": 0.015053,
     "end_time": "2022-08-27T05:59:27.644867",
     "exception": false,
     "start_time": "2022-08-27T05:59:27.629814",
     "status": "completed"
    },
    "tags": []
   },
   "source": [
    "## S-PrediXcan tissue models"
   ]
  },
  {
   "cell_type": "code",
   "execution_count": 15,
   "id": "780611d9-77c8-405f-90a4-f271f7b09397",
   "metadata": {
    "execution": {
     "iopub.execute_input": "2022-08-27T05:59:27.671623Z",
     "iopub.status.busy": "2022-08-27T05:59:27.671426Z",
     "iopub.status.idle": "2022-08-27T05:59:28.650556Z",
     "shell.execute_reply": "2022-08-27T05:59:28.649782Z"
    },
    "papermill": {
     "duration": 0.99391,
     "end_time": "2022-08-27T05:59:28.652521",
     "exception": false,
     "start_time": "2022-08-27T05:59:27.658611",
     "status": "completed"
    },
    "tags": []
   },
   "outputs": [],
   "source": [
    "spredixcan_genes_models = pd.read_pickle(OUTPUT_DIR_BASE / \"gene_tissues.pkl\")"
   ]
  },
  {
   "cell_type": "code",
   "execution_count": 16,
   "id": "726dd1f6-9557-4225-91fa-b3b879ea96e1",
   "metadata": {
    "execution": {
     "iopub.execute_input": "2022-08-27T05:59:28.672460Z",
     "iopub.status.busy": "2022-08-27T05:59:28.672233Z",
     "iopub.status.idle": "2022-08-27T05:59:28.696527Z",
     "shell.execute_reply": "2022-08-27T05:59:28.696018Z"
    },
    "papermill": {
     "duration": 0.035815,
     "end_time": "2022-08-27T05:59:28.697963",
     "exception": false,
     "start_time": "2022-08-27T05:59:28.662148",
     "status": "completed"
    },
    "tags": []
   },
   "outputs": [
    {
     "data": {
      "text/plain": [
       "(6428, 3)"
      ]
     },
     "execution_count": 16,
     "metadata": {},
     "output_type": "execute_result"
    }
   ],
   "source": [
    "spredixcan_genes_models.shape"
   ]
  },
  {
   "cell_type": "code",
   "execution_count": 17,
   "id": "944a1b48-222c-4eb0-b252-b9de2cbca215",
   "metadata": {
    "execution": {
     "iopub.execute_input": "2022-08-27T05:59:28.718531Z",
     "iopub.status.busy": "2022-08-27T05:59:28.718337Z",
     "iopub.status.idle": "2022-08-27T05:59:28.744070Z",
     "shell.execute_reply": "2022-08-27T05:59:28.743563Z"
    },
    "papermill": {
     "duration": 0.038108,
     "end_time": "2022-08-27T05:59:28.745540",
     "exception": false,
     "start_time": "2022-08-27T05:59:28.707432",
     "status": "completed"
    },
    "tags": []
   },
   "outputs": [
    {
     "data": {
      "text/html": [
       "<div>\n",
       "<style scoped>\n",
       "    .dataframe tbody tr th:only-of-type {\n",
       "        vertical-align: middle;\n",
       "    }\n",
       "\n",
       "    .dataframe tbody tr th {\n",
       "        vertical-align: top;\n",
       "    }\n",
       "\n",
       "    .dataframe thead th {\n",
       "        text-align: right;\n",
       "    }\n",
       "</style>\n",
       "<table border=\"1\" class=\"dataframe\">\n",
       "  <thead>\n",
       "    <tr style=\"text-align: right;\">\n",
       "      <th></th>\n",
       "      <th>gene_name</th>\n",
       "      <th>tissue</th>\n",
       "      <th>n_tissues</th>\n",
       "    </tr>\n",
       "    <tr>\n",
       "      <th>gene_id</th>\n",
       "      <th></th>\n",
       "      <th></th>\n",
       "      <th></th>\n",
       "    </tr>\n",
       "  </thead>\n",
       "  <tbody>\n",
       "    <tr>\n",
       "      <th>ENSG00000000419</th>\n",
       "      <td>DPM1</td>\n",
       "      <td>(Brain_Hypothalamus, Brain_Substantia_nigra)</td>\n",
       "      <td>2</td>\n",
       "    </tr>\n",
       "    <tr>\n",
       "      <th>ENSG00000000938</th>\n",
       "      <td>FGR</td>\n",
       "      <td>(Heart_Left_Ventricle, Brain_Cerebellum, Brain...</td>\n",
       "      <td>36</td>\n",
       "    </tr>\n",
       "    <tr>\n",
       "      <th>ENSG00000000971</th>\n",
       "      <td>CFH</td>\n",
       "      <td>(Heart_Left_Ventricle, Brain_Cerebellum, Brain...</td>\n",
       "      <td>34</td>\n",
       "    </tr>\n",
       "    <tr>\n",
       "      <th>ENSG00000001084</th>\n",
       "      <td>GCLC</td>\n",
       "      <td>(Heart_Left_Ventricle, Brain_Cerebellum, Brain...</td>\n",
       "      <td>33</td>\n",
       "    </tr>\n",
       "    <tr>\n",
       "      <th>ENSG00000001167</th>\n",
       "      <td>NFYA</td>\n",
       "      <td>(Heart_Left_Ventricle, Brain_Cerebellum, Vagin...</td>\n",
       "      <td>40</td>\n",
       "    </tr>\n",
       "  </tbody>\n",
       "</table>\n",
       "</div>"
      ],
      "text/plain": [
       "                gene_name                                             tissue  \\\n",
       "gene_id                                                                        \n",
       "ENSG00000000419      DPM1       (Brain_Hypothalamus, Brain_Substantia_nigra)   \n",
       "ENSG00000000938       FGR  (Heart_Left_Ventricle, Brain_Cerebellum, Brain...   \n",
       "ENSG00000000971       CFH  (Heart_Left_Ventricle, Brain_Cerebellum, Brain...   \n",
       "ENSG00000001084      GCLC  (Heart_Left_Ventricle, Brain_Cerebellum, Brain...   \n",
       "ENSG00000001167      NFYA  (Heart_Left_Ventricle, Brain_Cerebellum, Vagin...   \n",
       "\n",
       "                 n_tissues  \n",
       "gene_id                     \n",
       "ENSG00000000419          2  \n",
       "ENSG00000000938         36  \n",
       "ENSG00000000971         34  \n",
       "ENSG00000001084         33  \n",
       "ENSG00000001167         40  "
      ]
     },
     "execution_count": 17,
     "metadata": {},
     "output_type": "execute_result"
    }
   ],
   "source": [
    "spredixcan_genes_models.head()"
   ]
  },
  {
   "cell_type": "code",
   "execution_count": 18,
   "id": "d1c11bb1-be0b-4f40-b360-633d6827109f",
   "metadata": {
    "execution": {
     "iopub.execute_input": "2022-08-27T05:59:28.765246Z",
     "iopub.status.busy": "2022-08-27T05:59:28.765033Z",
     "iopub.status.idle": "2022-08-27T05:59:28.781532Z",
     "shell.execute_reply": "2022-08-27T05:59:28.781023Z"
    },
    "papermill": {
     "duration": 0.027944,
     "end_time": "2022-08-27T05:59:28.783046",
     "exception": false,
     "start_time": "2022-08-27T05:59:28.755102",
     "status": "completed"
    },
    "tags": []
   },
   "outputs": [],
   "source": [
    "assert spredixcan_genes_models.index.is_unique"
   ]
  },
  {
   "cell_type": "markdown",
   "id": "a5b5092c-a13e-47c4-a92a-480fcc08f3ae",
   "metadata": {
    "papermill": {
     "duration": 0.00909,
     "end_time": "2022-08-27T05:59:28.801176",
     "exception": false,
     "start_time": "2022-08-27T05:59:28.792086",
     "status": "completed"
    },
    "tags": []
   },
   "source": [
    "## Gene info"
   ]
  },
  {
   "cell_type": "code",
   "execution_count": 19,
   "id": "7d6bb224-88e9-4358-ac10-43a41d92cdad",
   "metadata": {
    "execution": {
     "iopub.execute_input": "2022-08-27T05:59:28.820466Z",
     "iopub.status.busy": "2022-08-27T05:59:28.820257Z",
     "iopub.status.idle": "2022-08-27T05:59:28.841041Z",
     "shell.execute_reply": "2022-08-27T05:59:28.840532Z"
    },
    "papermill": {
     "duration": 0.032299,
     "end_time": "2022-08-27T05:59:28.842661",
     "exception": false,
     "start_time": "2022-08-27T05:59:28.810362",
     "status": "completed"
    },
    "tags": []
   },
   "outputs": [],
   "source": [
    "genes_info = pd.read_pickle(OUTPUT_DIR_BASE / \"genes_info.pkl\")"
   ]
  },
  {
   "cell_type": "code",
   "execution_count": 20,
   "id": "9e32abfa-546d-483e-8c18-d526e9e05903",
   "metadata": {
    "execution": {
     "iopub.execute_input": "2022-08-27T05:59:28.862089Z",
     "iopub.status.busy": "2022-08-27T05:59:28.861897Z",
     "iopub.status.idle": "2022-08-27T05:59:28.879721Z",
     "shell.execute_reply": "2022-08-27T05:59:28.879221Z"
    },
    "papermill": {
     "duration": 0.029308,
     "end_time": "2022-08-27T05:59:28.881188",
     "exception": false,
     "start_time": "2022-08-27T05:59:28.851880",
     "status": "completed"
    },
    "tags": []
   },
   "outputs": [
    {
     "data": {
      "text/plain": [
       "(6428, 7)"
      ]
     },
     "execution_count": 20,
     "metadata": {},
     "output_type": "execute_result"
    }
   ],
   "source": [
    "genes_info.shape"
   ]
  },
  {
   "cell_type": "code",
   "execution_count": 21,
   "id": "d16c3e92-85ec-468a-9a56-e25a9774a1cb",
   "metadata": {
    "execution": {
     "iopub.execute_input": "2022-08-27T05:59:28.900486Z",
     "iopub.status.busy": "2022-08-27T05:59:28.900295Z",
     "iopub.status.idle": "2022-08-27T05:59:28.922242Z",
     "shell.execute_reply": "2022-08-27T05:59:28.921736Z"
    },
    "papermill": {
     "duration": 0.033344,
     "end_time": "2022-08-27T05:59:28.923665",
     "exception": false,
     "start_time": "2022-08-27T05:59:28.890321",
     "status": "completed"
    },
    "tags": []
   },
   "outputs": [
    {
     "data": {
      "text/html": [
       "<div>\n",
       "<style scoped>\n",
       "    .dataframe tbody tr th:only-of-type {\n",
       "        vertical-align: middle;\n",
       "    }\n",
       "\n",
       "    .dataframe tbody tr th {\n",
       "        vertical-align: top;\n",
       "    }\n",
       "\n",
       "    .dataframe thead th {\n",
       "        text-align: right;\n",
       "    }\n",
       "</style>\n",
       "<table border=\"1\" class=\"dataframe\">\n",
       "  <thead>\n",
       "    <tr style=\"text-align: right;\">\n",
       "      <th></th>\n",
       "      <th>name</th>\n",
       "      <th>id</th>\n",
       "      <th>chr</th>\n",
       "      <th>band</th>\n",
       "      <th>start_position</th>\n",
       "      <th>end_position</th>\n",
       "      <th>gene_length</th>\n",
       "    </tr>\n",
       "  </thead>\n",
       "  <tbody>\n",
       "    <tr>\n",
       "      <th>0</th>\n",
       "      <td>ZNF605</td>\n",
       "      <td>ENSG00000196458</td>\n",
       "      <td>12</td>\n",
       "      <td>12q24.33</td>\n",
       "      <td>132918306</td>\n",
       "      <td>132956306</td>\n",
       "      <td>38000</td>\n",
       "    </tr>\n",
       "    <tr>\n",
       "      <th>1</th>\n",
       "      <td>FBP1</td>\n",
       "      <td>ENSG00000165140</td>\n",
       "      <td>9</td>\n",
       "      <td>9q22.32</td>\n",
       "      <td>94603133</td>\n",
       "      <td>94640249</td>\n",
       "      <td>37116</td>\n",
       "    </tr>\n",
       "    <tr>\n",
       "      <th>2</th>\n",
       "      <td>TAL1</td>\n",
       "      <td>ENSG00000162367</td>\n",
       "      <td>1</td>\n",
       "      <td>1p33</td>\n",
       "      <td>47216290</td>\n",
       "      <td>47232220</td>\n",
       "      <td>15930</td>\n",
       "    </tr>\n",
       "    <tr>\n",
       "      <th>3</th>\n",
       "      <td>MPV17</td>\n",
       "      <td>ENSG00000115204</td>\n",
       "      <td>2</td>\n",
       "      <td>2p23.3</td>\n",
       "      <td>27309492</td>\n",
       "      <td>27325680</td>\n",
       "      <td>16188</td>\n",
       "    </tr>\n",
       "    <tr>\n",
       "      <th>4</th>\n",
       "      <td>PTPRN</td>\n",
       "      <td>ENSG00000054356</td>\n",
       "      <td>2</td>\n",
       "      <td>2q35</td>\n",
       "      <td>219289623</td>\n",
       "      <td>219309648</td>\n",
       "      <td>20025</td>\n",
       "    </tr>\n",
       "  </tbody>\n",
       "</table>\n",
       "</div>"
      ],
      "text/plain": [
       "     name               id  chr      band  start_position  end_position  \\\n",
       "0  ZNF605  ENSG00000196458   12  12q24.33       132918306     132956306   \n",
       "1    FBP1  ENSG00000165140    9   9q22.32        94603133      94640249   \n",
       "2    TAL1  ENSG00000162367    1      1p33        47216290      47232220   \n",
       "3   MPV17  ENSG00000115204    2    2p23.3        27309492      27325680   \n",
       "4   PTPRN  ENSG00000054356    2      2q35       219289623     219309648   \n",
       "\n",
       "   gene_length  \n",
       "0        38000  \n",
       "1        37116  \n",
       "2        15930  \n",
       "3        16188  \n",
       "4        20025  "
      ]
     },
     "execution_count": 21,
     "metadata": {},
     "output_type": "execute_result"
    }
   ],
   "source": [
    "genes_info.head()"
   ]
  },
  {
   "cell_type": "markdown",
   "id": "d3843e06",
   "metadata": {
    "papermill": {
     "duration": 0.009493,
     "end_time": "2022-08-27T05:59:28.943115",
     "exception": false,
     "start_time": "2022-08-27T05:59:28.933622",
     "status": "completed"
    },
    "tags": []
   },
   "source": [
    "# Compute correlations"
   ]
  },
  {
   "cell_type": "code",
   "execution_count": 22,
   "id": "cb859c15-d1f3-4006-a74c-2b83c0db9611",
   "metadata": {
    "execution": {
     "iopub.execute_input": "2022-08-27T05:59:28.962666Z",
     "iopub.status.busy": "2022-08-27T05:59:28.962475Z",
     "iopub.status.idle": "2022-08-27T05:59:28.980672Z",
     "shell.execute_reply": "2022-08-27T05:59:28.980154Z"
    },
    "papermill": {
     "duration": 0.029676,
     "end_time": "2022-08-27T05:59:28.982096",
     "exception": false,
     "start_time": "2022-08-27T05:59:28.952420",
     "status": "completed"
    },
    "tags": []
   },
   "outputs": [
    {
     "data": {
      "text/plain": [
       "PosixPath('/project/ritchie20/projects/phenoplier/base/results/gls/gene_corrs/cohorts/phenomexcan_rapid_gwas/gtex_v8/mashr/by_chr/gene_corrs-chr18.pkl')"
      ]
     },
     "metadata": {},
     "output_type": "display_data"
    }
   ],
   "source": [
    "output_dir = OUTPUT_DIR_BASE / \"by_chr\"\n",
    "output_dir.mkdir(exist_ok=True, parents=True)\n",
    "output_file = output_dir / f\"gene_corrs-chr{CHROMOSOME}.pkl\"\n",
    "display(output_file)"
   ]
  },
  {
   "cell_type": "code",
   "execution_count": 23,
   "id": "aa674fe4-6794-4eed-98fa-32b39d1d4ace",
   "metadata": {
    "execution": {
     "iopub.execute_input": "2022-08-27T05:59:29.002827Z",
     "iopub.status.busy": "2022-08-27T05:59:29.002636Z",
     "iopub.status.idle": "2022-08-27T05:59:29.018030Z",
     "shell.execute_reply": "2022-08-27T05:59:29.017533Z"
    },
    "papermill": {
     "duration": 0.02765,
     "end_time": "2022-08-27T05:59:29.019549",
     "exception": false,
     "start_time": "2022-08-27T05:59:28.991899",
     "status": "completed"
    },
    "tags": []
   },
   "outputs": [],
   "source": [
    "warnings.filterwarnings(\"error\")"
   ]
  },
  {
   "cell_type": "code",
   "execution_count": 24,
   "id": "44d5450b-3baf-43f1-9e2e-4b06f1a785f8",
   "metadata": {
    "execution": {
     "iopub.execute_input": "2022-08-27T05:59:29.039655Z",
     "iopub.status.busy": "2022-08-27T05:59:29.039442Z",
     "iopub.status.idle": "2022-08-27T05:59:29.055541Z",
     "shell.execute_reply": "2022-08-27T05:59:29.055039Z"
    },
    "papermill": {
     "duration": 0.027827,
     "end_time": "2022-08-27T05:59:29.057053",
     "exception": false,
     "start_time": "2022-08-27T05:59:29.029226",
     "status": "completed"
    },
    "tags": []
   },
   "outputs": [],
   "source": [
    "# standard checks\n",
    "all_chrs = genes_info[\"chr\"].dropna().unique()\n",
    "assert all_chrs.shape[0] == 22\n",
    "\n",
    "# select chromosome given by the user\n",
    "assert CHROMOSOME in all_chrs"
   ]
  },
  {
   "cell_type": "code",
   "execution_count": 25,
   "id": "2d7c043c-92a7-4d35-991b-fa69ac1e0268",
   "metadata": {
    "execution": {
     "iopub.execute_input": "2022-08-27T05:59:29.077359Z",
     "iopub.status.busy": "2022-08-27T05:59:29.077161Z",
     "iopub.status.idle": "2022-08-27T05:59:29.103984Z",
     "shell.execute_reply": "2022-08-27T05:59:29.103449Z"
    },
    "papermill": {
     "duration": 0.038961,
     "end_time": "2022-08-27T05:59:29.105633",
     "exception": false,
     "start_time": "2022-08-27T05:59:29.066672",
     "status": "completed"
    },
    "tags": []
   },
   "outputs": [
    {
     "name": "stdout",
     "output_type": "stream",
     "text": [
      "Number of genes in chromosome: 96\n"
     ]
    }
   ],
   "source": [
    "# run only on the chromosome specified\n",
    "all_chrs = [CHROMOSOME]\n",
    "genes_chr = genes_info[genes_info[\"chr\"] == CHROMOSOME]\n",
    "\n",
    "# For testing purposes\n",
    "# genes_chr = genes_chr.sample(n=20)\n",
    "\n",
    "print(f\"Number of genes in chromosome: {genes_chr.shape[0]}\", flush=True)"
   ]
  },
  {
   "cell_type": "code",
   "execution_count": 26,
   "id": "916015d8-2979-46d3-a9b9-1cf5a0932c6a",
   "metadata": {
    "execution": {
     "iopub.execute_input": "2022-08-27T05:59:29.126324Z",
     "iopub.status.busy": "2022-08-27T05:59:29.126106Z",
     "iopub.status.idle": "2022-08-27T05:59:29.142413Z",
     "shell.execute_reply": "2022-08-27T05:59:29.141892Z"
    },
    "papermill": {
     "duration": 0.028115,
     "end_time": "2022-08-27T05:59:29.143942",
     "exception": false,
     "start_time": "2022-08-27T05:59:29.115827",
     "status": "completed"
    },
    "tags": []
   },
   "outputs": [],
   "source": [
    "# sort genes by starting position to make visualizations better later\n",
    "genes_chr = genes_chr.sort_values(\"start_position\")"
   ]
  },
  {
   "cell_type": "code",
   "execution_count": 27,
   "id": "a38aa74a-8ad3-47f6-8ef9-56be0e011774",
   "metadata": {
    "execution": {
     "iopub.execute_input": "2022-08-27T05:59:29.164725Z",
     "iopub.status.busy": "2022-08-27T05:59:29.164533Z",
     "iopub.status.idle": "2022-08-27T05:59:29.180488Z",
     "shell.execute_reply": "2022-08-27T05:59:29.179974Z"
    },
    "papermill": {
     "duration": 0.028299,
     "end_time": "2022-08-27T05:59:29.182015",
     "exception": false,
     "start_time": "2022-08-27T05:59:29.153716",
     "status": "completed"
    },
    "tags": []
   },
   "outputs": [],
   "source": [
    "gene_chr_objs = [Gene(ensembl_id=gene_id) for gene_id in genes_chr[\"id\"]]"
   ]
  },
  {
   "cell_type": "code",
   "execution_count": 28,
   "id": "570f974f-13c3-42b6-ad3a-ce99ca885c1a",
   "metadata": {
    "execution": {
     "iopub.execute_input": "2022-08-27T05:59:29.204008Z",
     "iopub.status.busy": "2022-08-27T05:59:29.203813Z",
     "iopub.status.idle": "2022-08-27T05:59:29.221130Z",
     "shell.execute_reply": "2022-08-27T05:59:29.220615Z"
    },
    "papermill": {
     "duration": 0.029237,
     "end_time": "2022-08-27T05:59:29.222652",
     "exception": false,
     "start_time": "2022-08-27T05:59:29.193415",
     "status": "completed"
    },
    "tags": []
   },
   "outputs": [
    {
     "name": "stdout",
     "output_type": "stream",
     "text": [
      "Number of gene combinations: 4560\n"
     ]
    }
   ],
   "source": [
    "n = len(gene_chr_objs)\n",
    "n_comb = int(n * (n - 1) / 2.0)\n",
    "print(f\"Number of gene combinations: {n_comb}\", flush=True)"
   ]
  },
  {
   "cell_type": "code",
   "execution_count": 29,
   "id": "cdbb90a1",
   "metadata": {
    "execution": {
     "iopub.execute_input": "2022-08-27T05:59:29.242860Z",
     "iopub.status.busy": "2022-08-27T05:59:29.242672Z",
     "iopub.status.idle": "2022-08-27T06:07:29.046254Z",
     "shell.execute_reply": "2022-08-27T06:07:29.045168Z"
    },
    "papermill": {
     "duration": 479.816705,
     "end_time": "2022-08-27T06:07:29.048952",
     "exception": false,
     "start_time": "2022-08-27T05:59:29.232247",
     "status": "completed"
    },
    "tags": []
   },
   "outputs": [
    {
     "name": "stderr",
     "output_type": "stream",
     "text": [
      "ENSG00000178184 / ENSG00000178184: : 4656it [07:59,  9.71it/s]\n"
     ]
    },
    {
     "data": {
      "text/plain": [
       "PosixPath('/project/ritchie20/projects/phenoplier/base/results/gls/gene_corrs/cohorts/phenomexcan_rapid_gwas/gtex_v8/mashr/by_chr/gene_corrs-chr18.pkl')"
      ]
     },
     "metadata": {},
     "output_type": "display_data"
    }
   ],
   "source": [
    "gene_corrs = []\n",
    "gene_corrs_data = np.full(\n",
    "    (n, n),\n",
    "    np.nan,\n",
    "    dtype=np.float64,\n",
    ")\n",
    "\n",
    "i = 0\n",
    "with tqdm(ncols=100, total=n_comb) as pbar:\n",
    "    for gene1_idx in range(0, len(gene_chr_objs)):\n",
    "        gene1_obj = gene_chr_objs[gene1_idx]\n",
    "        gene1_tissues = spredixcan_genes_models.loc[gene1_obj.ensembl_id, \"tissue\"]\n",
    "\n",
    "        for gene2_idx in range(gene1_idx, len(gene_chr_objs)):\n",
    "            gene2_obj = gene_chr_objs[gene2_idx]\n",
    "            gene2_tissues = spredixcan_genes_models.loc[gene2_obj.ensembl_id, \"tissue\"]\n",
    "\n",
    "            pbar.set_description(f\"{gene1_obj.ensembl_id} / {gene2_obj.ensembl_id}\")\n",
    "\n",
    "            try:\n",
    "                r = gene1_obj.get_ssm_correlation(\n",
    "                    other_gene=gene2_obj,\n",
    "                    tissues=gene1_tissues,\n",
    "                    other_tissues=gene2_tissues,\n",
    "                    snps_subset=gwas_variants_ids_set,\n",
    "                    condition_number=SMULTIXCAN_CONDITION_NUMBER,\n",
    "                    reference_panel=REFERENCE_PANEL,\n",
    "                    model_type=EQTL_MODEL,\n",
    "                    use_within_distance=COMPUTE_CORRELATIONS_WITHIN_DISTANCE,\n",
    "                )\n",
    "\n",
    "                if r is None:\n",
    "                    # if r is None, it's very likely because:\n",
    "                    #  * one of the genes has no prediction models\n",
    "                    #  * all the SNPs predictors for the gene are not present in the reference\n",
    "                    #    panel\n",
    "\n",
    "                    r = 0.0\n",
    "\n",
    "                gene_corrs.append(r)\n",
    "\n",
    "                gene_corrs_data[gene1_idx, gene2_idx] = r\n",
    "                gene_corrs_data[gene2_idx, gene1_idx] = r\n",
    "            except Warning as e:\n",
    "                if not DEBUG_MODE:\n",
    "                    raise e\n",
    "\n",
    "                print(\n",
    "                    f\"RuntimeWarning for genes {gene1_obj.ensembl_id} and {gene2_obj.ensembl_id}\",\n",
    "                    flush=True,\n",
    "                )\n",
    "                print(traceback.format_exc(), flush=True)\n",
    "\n",
    "                gene_corrs.append(np.nan)\n",
    "            except Exception as e:\n",
    "                if not DEBUG_MODE:\n",
    "                    raise e\n",
    "\n",
    "                print(\n",
    "                    f\"Exception for genes {gene1_obj.ensembl_id} and {gene2_obj.ensembl_id}\",\n",
    "                    flush=True,\n",
    "                )\n",
    "                print(traceback.format_exc(), flush=True)\n",
    "\n",
    "                gene_corrs.append(np.nan)\n",
    "\n",
    "            pbar.update(1)\n",
    "\n",
    "# create a pandas series\n",
    "gene_corrs_flat = pd.Series(gene_corrs)\n",
    "\n",
    "# save\n",
    "# FIXME: consider saving only the condenced matrix here. See here for\n",
    "# more details: https://github.com/greenelab/phenoplier/pull/38#discussion_r634600813\n",
    "# gene_corrs_data = squareform(np.array(gene_corrs, dtype=np.float64))\n",
    "# np.fill_diagonal(gene_corrs_data, 1.0)\n",
    "\n",
    "gene_chr_ids = [g.ensembl_id for g in gene_chr_objs]\n",
    "gene_corrs_df = pd.DataFrame(\n",
    "    data=gene_corrs_data,\n",
    "    index=gene_chr_ids,\n",
    "    columns=gene_chr_ids,\n",
    ")\n",
    "\n",
    "output_dir.mkdir(exist_ok=True, parents=True)\n",
    "display(output_file)\n",
    "\n",
    "gene_corrs_df.to_pickle(output_file)"
   ]
  },
  {
   "cell_type": "markdown",
   "id": "faa67b51-5373-470f-aa72-2ded53fa6dfe",
   "metadata": {
    "papermill": {
     "duration": 0.327382,
     "end_time": "2022-08-27T06:07:29.684043",
     "exception": false,
     "start_time": "2022-08-27T06:07:29.356661",
     "status": "completed"
    },
    "tags": []
   },
   "source": [
    "# Testing"
   ]
  },
  {
   "cell_type": "code",
   "execution_count": 30,
   "id": "14f7d046-4b55-4896-a56b-990127bcc388",
   "metadata": {
    "execution": {
     "iopub.execute_input": "2022-08-27T06:07:30.260864Z",
     "iopub.status.busy": "2022-08-27T06:07:30.260601Z",
     "iopub.status.idle": "2022-08-27T06:07:30.491664Z",
     "shell.execute_reply": "2022-08-27T06:07:30.491103Z"
    },
    "papermill": {
     "duration": 0.524654,
     "end_time": "2022-08-27T06:07:30.493193",
     "exception": false,
     "start_time": "2022-08-27T06:07:29.968539",
     "status": "completed"
    },
    "tags": []
   },
   "outputs": [
    {
     "data": {
      "text/plain": [
       "(96, 96)"
      ]
     },
     "execution_count": 30,
     "metadata": {},
     "output_type": "execute_result"
    }
   ],
   "source": [
    "gene_corrs_df.shape"
   ]
  },
  {
   "cell_type": "code",
   "execution_count": 31,
   "id": "c7d15414-3297-4537-a7c6-7588c0baeb75",
   "metadata": {
    "execution": {
     "iopub.execute_input": "2022-08-27T06:07:31.092662Z",
     "iopub.status.busy": "2022-08-27T06:07:31.092397Z",
     "iopub.status.idle": "2022-08-27T06:07:31.128287Z",
     "shell.execute_reply": "2022-08-27T06:07:31.127741Z"
    },
    "papermill": {
     "duration": 0.324198,
     "end_time": "2022-08-27T06:07:31.129879",
     "exception": false,
     "start_time": "2022-08-27T06:07:30.805681",
     "status": "completed"
    },
    "tags": []
   },
   "outputs": [
    {
     "data": {
      "text/html": [
       "<div>\n",
       "<style scoped>\n",
       "    .dataframe tbody tr th:only-of-type {\n",
       "        vertical-align: middle;\n",
       "    }\n",
       "\n",
       "    .dataframe tbody tr th {\n",
       "        vertical-align: top;\n",
       "    }\n",
       "\n",
       "    .dataframe thead th {\n",
       "        text-align: right;\n",
       "    }\n",
       "</style>\n",
       "<table border=\"1\" class=\"dataframe\">\n",
       "  <thead>\n",
       "    <tr style=\"text-align: right;\">\n",
       "      <th></th>\n",
       "      <th>ENSG00000079134</th>\n",
       "      <th>ENSG00000158270</th>\n",
       "      <th>ENSG00000176890</th>\n",
       "      <th>ENSG00000176105</th>\n",
       "      <th>ENSG00000080986</th>\n",
       "      <th>ENSG00000132205</th>\n",
       "      <th>ENSG00000101577</th>\n",
       "      <th>ENSG00000101608</th>\n",
       "      <th>ENSG00000118680</th>\n",
       "      <th>ENSG00000177426</th>\n",
       "      <th>...</th>\n",
       "      <th>ENSG00000166347</th>\n",
       "      <th>ENSG00000133313</th>\n",
       "      <th>ENSG00000166573</th>\n",
       "      <th>ENSG00000166377</th>\n",
       "      <th>ENSG00000131196</th>\n",
       "      <th>ENSG00000060069</th>\n",
       "      <th>ENSG00000178342</th>\n",
       "      <th>ENSG00000122490</th>\n",
       "      <th>ENSG00000141759</th>\n",
       "      <th>ENSG00000178184</th>\n",
       "    </tr>\n",
       "  </thead>\n",
       "  <tbody>\n",
       "    <tr>\n",
       "      <th>ENSG00000079134</th>\n",
       "      <td>1.000000</td>\n",
       "      <td>0.030491</td>\n",
       "      <td>0.013016</td>\n",
       "      <td>0.005041</td>\n",
       "      <td>0.004415</td>\n",
       "      <td>0.009556</td>\n",
       "      <td>0.007983</td>\n",
       "      <td>0.009262</td>\n",
       "      <td>0.007622</td>\n",
       "      <td>0.008032</td>\n",
       "      <td>...</td>\n",
       "      <td>0.008920</td>\n",
       "      <td>0.007249</td>\n",
       "      <td>0.006460</td>\n",
       "      <td>0.009228</td>\n",
       "      <td>0.011636</td>\n",
       "      <td>0.004338</td>\n",
       "      <td>0.009585</td>\n",
       "      <td>0.011719</td>\n",
       "      <td>0.008691</td>\n",
       "      <td>0.005993</td>\n",
       "    </tr>\n",
       "    <tr>\n",
       "      <th>ENSG00000158270</th>\n",
       "      <td>0.030491</td>\n",
       "      <td>1.000000</td>\n",
       "      <td>0.016974</td>\n",
       "      <td>0.011501</td>\n",
       "      <td>0.009177</td>\n",
       "      <td>0.010766</td>\n",
       "      <td>0.012554</td>\n",
       "      <td>0.008432</td>\n",
       "      <td>0.008821</td>\n",
       "      <td>0.011603</td>\n",
       "      <td>...</td>\n",
       "      <td>0.012266</td>\n",
       "      <td>0.006803</td>\n",
       "      <td>0.008160</td>\n",
       "      <td>0.010123</td>\n",
       "      <td>0.009671</td>\n",
       "      <td>0.007613</td>\n",
       "      <td>0.010748</td>\n",
       "      <td>0.012819</td>\n",
       "      <td>0.013358</td>\n",
       "      <td>0.011517</td>\n",
       "    </tr>\n",
       "    <tr>\n",
       "      <th>ENSG00000176890</th>\n",
       "      <td>0.013016</td>\n",
       "      <td>0.016974</td>\n",
       "      <td>1.000000</td>\n",
       "      <td>0.146938</td>\n",
       "      <td>0.013808</td>\n",
       "      <td>0.011098</td>\n",
       "      <td>0.012297</td>\n",
       "      <td>0.009400</td>\n",
       "      <td>0.010442</td>\n",
       "      <td>0.009753</td>\n",
       "      <td>...</td>\n",
       "      <td>0.009192</td>\n",
       "      <td>0.008123</td>\n",
       "      <td>0.009717</td>\n",
       "      <td>0.006060</td>\n",
       "      <td>0.012222</td>\n",
       "      <td>0.009868</td>\n",
       "      <td>0.012526</td>\n",
       "      <td>0.014088</td>\n",
       "      <td>0.015087</td>\n",
       "      <td>0.010820</td>\n",
       "    </tr>\n",
       "    <tr>\n",
       "      <th>ENSG00000176105</th>\n",
       "      <td>0.005041</td>\n",
       "      <td>0.011501</td>\n",
       "      <td>0.146938</td>\n",
       "      <td>1.000000</td>\n",
       "      <td>0.006168</td>\n",
       "      <td>0.004414</td>\n",
       "      <td>0.007289</td>\n",
       "      <td>0.005144</td>\n",
       "      <td>0.003690</td>\n",
       "      <td>0.009098</td>\n",
       "      <td>...</td>\n",
       "      <td>0.004427</td>\n",
       "      <td>0.006388</td>\n",
       "      <td>0.005225</td>\n",
       "      <td>0.006308</td>\n",
       "      <td>0.007266</td>\n",
       "      <td>0.009834</td>\n",
       "      <td>0.009986</td>\n",
       "      <td>0.007971</td>\n",
       "      <td>0.004658</td>\n",
       "      <td>0.006023</td>\n",
       "    </tr>\n",
       "    <tr>\n",
       "      <th>ENSG00000080986</th>\n",
       "      <td>0.004415</td>\n",
       "      <td>0.009177</td>\n",
       "      <td>0.013808</td>\n",
       "      <td>0.006168</td>\n",
       "      <td>1.000000</td>\n",
       "      <td>0.014597</td>\n",
       "      <td>0.015237</td>\n",
       "      <td>0.005946</td>\n",
       "      <td>0.007916</td>\n",
       "      <td>0.004584</td>\n",
       "      <td>...</td>\n",
       "      <td>0.007127</td>\n",
       "      <td>0.005498</td>\n",
       "      <td>0.010306</td>\n",
       "      <td>0.004825</td>\n",
       "      <td>0.007772</td>\n",
       "      <td>0.006147</td>\n",
       "      <td>0.009669</td>\n",
       "      <td>0.008085</td>\n",
       "      <td>0.005863</td>\n",
       "      <td>0.003790</td>\n",
       "    </tr>\n",
       "  </tbody>\n",
       "</table>\n",
       "<p>5 rows × 96 columns</p>\n",
       "</div>"
      ],
      "text/plain": [
       "                 ENSG00000079134  ENSG00000158270  ENSG00000176890  \\\n",
       "ENSG00000079134         1.000000         0.030491         0.013016   \n",
       "ENSG00000158270         0.030491         1.000000         0.016974   \n",
       "ENSG00000176890         0.013016         0.016974         1.000000   \n",
       "ENSG00000176105         0.005041         0.011501         0.146938   \n",
       "ENSG00000080986         0.004415         0.009177         0.013808   \n",
       "\n",
       "                 ENSG00000176105  ENSG00000080986  ENSG00000132205  \\\n",
       "ENSG00000079134         0.005041         0.004415         0.009556   \n",
       "ENSG00000158270         0.011501         0.009177         0.010766   \n",
       "ENSG00000176890         0.146938         0.013808         0.011098   \n",
       "ENSG00000176105         1.000000         0.006168         0.004414   \n",
       "ENSG00000080986         0.006168         1.000000         0.014597   \n",
       "\n",
       "                 ENSG00000101577  ENSG00000101608  ENSG00000118680  \\\n",
       "ENSG00000079134         0.007983         0.009262         0.007622   \n",
       "ENSG00000158270         0.012554         0.008432         0.008821   \n",
       "ENSG00000176890         0.012297         0.009400         0.010442   \n",
       "ENSG00000176105         0.007289         0.005144         0.003690   \n",
       "ENSG00000080986         0.015237         0.005946         0.007916   \n",
       "\n",
       "                 ENSG00000177426  ...  ENSG00000166347  ENSG00000133313  \\\n",
       "ENSG00000079134         0.008032  ...         0.008920         0.007249   \n",
       "ENSG00000158270         0.011603  ...         0.012266         0.006803   \n",
       "ENSG00000176890         0.009753  ...         0.009192         0.008123   \n",
       "ENSG00000176105         0.009098  ...         0.004427         0.006388   \n",
       "ENSG00000080986         0.004584  ...         0.007127         0.005498   \n",
       "\n",
       "                 ENSG00000166573  ENSG00000166377  ENSG00000131196  \\\n",
       "ENSG00000079134         0.006460         0.009228         0.011636   \n",
       "ENSG00000158270         0.008160         0.010123         0.009671   \n",
       "ENSG00000176890         0.009717         0.006060         0.012222   \n",
       "ENSG00000176105         0.005225         0.006308         0.007266   \n",
       "ENSG00000080986         0.010306         0.004825         0.007772   \n",
       "\n",
       "                 ENSG00000060069  ENSG00000178342  ENSG00000122490  \\\n",
       "ENSG00000079134         0.004338         0.009585         0.011719   \n",
       "ENSG00000158270         0.007613         0.010748         0.012819   \n",
       "ENSG00000176890         0.009868         0.012526         0.014088   \n",
       "ENSG00000176105         0.009834         0.009986         0.007971   \n",
       "ENSG00000080986         0.006147         0.009669         0.008085   \n",
       "\n",
       "                 ENSG00000141759  ENSG00000178184  \n",
       "ENSG00000079134         0.008691         0.005993  \n",
       "ENSG00000158270         0.013358         0.011517  \n",
       "ENSG00000176890         0.015087         0.010820  \n",
       "ENSG00000176105         0.004658         0.006023  \n",
       "ENSG00000080986         0.005863         0.003790  \n",
       "\n",
       "[5 rows x 96 columns]"
      ]
     },
     "execution_count": 31,
     "metadata": {},
     "output_type": "execute_result"
    }
   ],
   "source": [
    "gene_corrs_df.head()"
   ]
  },
  {
   "cell_type": "markdown",
   "id": "dad6603f-01c6-41fb-a6f6-241051207dd8",
   "metadata": {
    "papermill": {
     "duration": 0.315092,
     "end_time": "2022-08-27T06:07:31.731077",
     "exception": false,
     "start_time": "2022-08-27T06:07:31.415985",
     "status": "completed"
    },
    "tags": []
   },
   "source": [
    "## Standard checks and stats"
   ]
  },
  {
   "cell_type": "code",
   "execution_count": 32,
   "id": "286686af-1b7b-4440-8453-6bdcbd8de19c",
   "metadata": {
    "execution": {
     "iopub.execute_input": "2022-08-27T06:07:32.303501Z",
     "iopub.status.busy": "2022-08-27T06:07:32.303217Z",
     "iopub.status.idle": "2022-08-27T06:07:32.322597Z",
     "shell.execute_reply": "2022-08-27T06:07:32.322046Z"
    },
    "papermill": {
     "duration": 0.305959,
     "end_time": "2022-08-27T06:07:32.324186",
     "exception": false,
     "start_time": "2022-08-27T06:07:32.018227",
     "status": "completed"
    },
    "tags": []
   },
   "outputs": [],
   "source": [
    "assert not gene_corrs_df.isna().any().any()"
   ]
  },
  {
   "cell_type": "code",
   "execution_count": 33,
   "id": "00583efc-7068-4270-ad1e-4a418e91db96",
   "metadata": {
    "execution": {
     "iopub.execute_input": "2022-08-27T06:07:32.921047Z",
     "iopub.status.busy": "2022-08-27T06:07:32.920793Z",
     "iopub.status.idle": "2022-08-27T06:07:32.942400Z",
     "shell.execute_reply": "2022-08-27T06:07:32.941860Z"
    },
    "papermill": {
     "duration": 0.308561,
     "end_time": "2022-08-27T06:07:32.943877",
     "exception": false,
     "start_time": "2022-08-27T06:07:32.635316",
     "status": "completed"
    },
    "tags": []
   },
   "outputs": [
    {
     "data": {
      "text/plain": [
       "6.961089756410283e-07"
      ]
     },
     "metadata": {},
     "output_type": "display_data"
    }
   ],
   "source": [
    "_min_val = gene_corrs_df.min().min()\n",
    "display(_min_val)\n",
    "assert _min_val >= -0.05"
   ]
  },
  {
   "cell_type": "code",
   "execution_count": 34,
   "id": "d04fb2cf-1050-475b-b855-f5f7cc04092b",
   "metadata": {
    "execution": {
     "iopub.execute_input": "2022-08-27T06:07:33.541574Z",
     "iopub.status.busy": "2022-08-27T06:07:33.541306Z",
     "iopub.status.idle": "2022-08-27T06:07:33.562673Z",
     "shell.execute_reply": "2022-08-27T06:07:33.562142Z"
    },
    "papermill": {
     "duration": 0.333204,
     "end_time": "2022-08-27T06:07:33.564176",
     "exception": false,
     "start_time": "2022-08-27T06:07:33.230972",
     "status": "completed"
    },
    "tags": []
   },
   "outputs": [
    {
     "data": {
      "text/plain": [
       "1.0000000000000016"
      ]
     },
     "metadata": {},
     "output_type": "display_data"
    }
   ],
   "source": [
    "_max_val = gene_corrs_df.max().max()  # this captures the diagonal\n",
    "display(_max_val)\n",
    "assert _max_val <= 1.05"
   ]
  },
  {
   "cell_type": "code",
   "execution_count": 35,
   "id": "96d02c44-1fba-47be-8a93-8f2608420b9c",
   "metadata": {
    "execution": {
     "iopub.execute_input": "2022-08-27T06:07:34.135286Z",
     "iopub.status.busy": "2022-08-27T06:07:34.135010Z",
     "iopub.status.idle": "2022-08-27T06:07:34.153430Z",
     "shell.execute_reply": "2022-08-27T06:07:34.152883Z"
    },
    "papermill": {
     "duration": 0.304696,
     "end_time": "2022-08-27T06:07:34.154991",
     "exception": false,
     "start_time": "2022-08-27T06:07:33.850295",
     "status": "completed"
    },
    "tags": []
   },
   "outputs": [],
   "source": [
    "# check upper triangular values\n",
    "# assert len(gene_corrs) == int(genes_chr.shape[0] * (genes_chr.shape[0] - 1) / 2)"
   ]
  },
  {
   "cell_type": "code",
   "execution_count": 36,
   "id": "fe283586-c348-40e0-8841-f6d97bfb021c",
   "metadata": {
    "execution": {
     "iopub.execute_input": "2022-08-27T06:07:34.751166Z",
     "iopub.status.busy": "2022-08-27T06:07:34.750893Z",
     "iopub.status.idle": "2022-08-27T06:07:34.774688Z",
     "shell.execute_reply": "2022-08-27T06:07:34.774154Z"
    },
    "papermill": {
     "duration": 0.309457,
     "end_time": "2022-08-27T06:07:34.776176",
     "exception": false,
     "start_time": "2022-08-27T06:07:34.466719",
     "status": "completed"
    },
    "tags": []
   },
   "outputs": [
    {
     "data": {
      "text/plain": [
       "count    4.656000e+03\n",
       "mean     2.948335e-02\n",
       "std      1.425191e-01\n",
       "min      6.961090e-07\n",
       "25%      5.101482e-03\n",
       "50%      7.265440e-03\n",
       "75%      9.642748e-03\n",
       "max      1.000000e+00\n",
       "dtype: float64"
      ]
     },
     "execution_count": 36,
     "metadata": {},
     "output_type": "execute_result"
    }
   ],
   "source": [
    "gene_corrs_flat.describe()"
   ]
  },
  {
   "cell_type": "code",
   "execution_count": 37,
   "id": "b3815678-0f93-4b35-897b-a9d047a2aa78",
   "metadata": {
    "execution": {
     "iopub.execute_input": "2022-08-27T06:07:35.371267Z",
     "iopub.status.busy": "2022-08-27T06:07:35.370988Z",
     "iopub.status.idle": "2022-08-27T06:07:35.397928Z",
     "shell.execute_reply": "2022-08-27T06:07:35.397407Z"
    },
    "papermill": {
     "duration": 0.337208,
     "end_time": "2022-08-27T06:07:35.399440",
     "exception": false,
     "start_time": "2022-08-27T06:07:35.062232",
     "status": "completed"
    },
    "tags": []
   },
   "outputs": [
    {
     "data": {
      "text/plain": [
       "0.00    6.961090e-07\n",
       "0.05    2.332199e-03\n",
       "0.10    3.359028e-03\n",
       "0.15    4.001266e-03\n",
       "0.20    4.601085e-03\n",
       "0.25    5.101482e-03\n",
       "0.30    5.518188e-03\n",
       "0.35    6.005193e-03\n",
       "0.40    6.379977e-03\n",
       "0.45    6.834573e-03\n",
       "0.50    7.265440e-03\n",
       "0.55    7.687419e-03\n",
       "0.60    8.140401e-03\n",
       "0.65    8.585945e-03\n",
       "0.70    9.051523e-03\n",
       "0.75    9.642748e-03\n",
       "0.80    1.031086e-02\n",
       "0.85    1.109904e-02\n",
       "0.90    1.229086e-02\n",
       "0.95    1.458408e-02\n",
       "dtype: float64"
      ]
     },
     "metadata": {},
     "output_type": "display_data"
    }
   ],
   "source": [
    "gene_corrs_quantiles = gene_corrs_flat.quantile(np.arange(0, 1, 0.05))\n",
    "display(gene_corrs_quantiles)"
   ]
  },
  {
   "cell_type": "markdown",
   "id": "87134509-b145-4a10-8bc9-b7e914c2b0fa",
   "metadata": {
    "papermill": {
     "duration": 0.285543,
     "end_time": "2022-08-27T06:07:35.968985",
     "exception": false,
     "start_time": "2022-08-27T06:07:35.683442",
     "status": "completed"
    },
    "tags": []
   },
   "source": [
    "## Positive definiteness"
   ]
  },
  {
   "cell_type": "code",
   "execution_count": 38,
   "id": "07d9a9a1-a4f7-48aa-b916-6d42a8cc6186",
   "metadata": {
    "execution": {
     "iopub.execute_input": "2022-08-27T06:07:36.566429Z",
     "iopub.status.busy": "2022-08-27T06:07:36.566158Z",
     "iopub.status.idle": "2022-08-27T06:07:36.591872Z",
     "shell.execute_reply": "2022-08-27T06:07:36.591347Z"
    },
    "papermill": {
     "duration": 0.315072,
     "end_time": "2022-08-27T06:07:36.593371",
     "exception": false,
     "start_time": "2022-08-27T06:07:36.278299",
     "status": "completed"
    },
    "tags": []
   },
   "outputs": [
    {
     "data": {
      "text/plain": [
       "0"
      ]
     },
     "metadata": {},
     "output_type": "display_data"
    },
    {
     "data": {
      "text/plain": [
       "array([], dtype=float64)"
      ]
     },
     "metadata": {},
     "output_type": "display_data"
    }
   ],
   "source": [
    "# print negative eigenvalues\n",
    "eigs = np.linalg.eigvals(gene_corrs_df.to_numpy())\n",
    "display(len(eigs[eigs < 0]))\n",
    "display(eigs[eigs < 0])"
   ]
  },
  {
   "cell_type": "code",
   "execution_count": 39,
   "id": "6e218436-c3c5-4028-8c94-a4fa6260efce",
   "metadata": {
    "execution": {
     "iopub.execute_input": "2022-08-27T06:07:37.194129Z",
     "iopub.status.busy": "2022-08-27T06:07:37.193867Z",
     "iopub.status.idle": "2022-08-27T06:07:37.215263Z",
     "shell.execute_reply": "2022-08-27T06:07:37.214722Z"
    },
    "papermill": {
     "duration": 0.33618,
     "end_time": "2022-08-27T06:07:37.216752",
     "exception": false,
     "start_time": "2022-08-27T06:07:36.880572",
     "status": "completed"
    },
    "tags": []
   },
   "outputs": [
    {
     "name": "stdout",
     "output_type": "stream",
     "text": [
      "Works!\n"
     ]
    }
   ],
   "source": [
    "try:\n",
    "    chol_mat = np.linalg.cholesky(gene_corrs_df.to_numpy())\n",
    "    cov_inv = np.linalg.inv(chol_mat)\n",
    "    print(\"Works!\")\n",
    "except Exception as e:\n",
    "    print(f\"Cholesky decomposition failed: {str(e)}\")"
   ]
  },
  {
   "cell_type": "code",
   "execution_count": 40,
   "id": "dd8827fb-faf9-4c7c-9454-015e94752706",
   "metadata": {
    "execution": {
     "iopub.execute_input": "2022-08-27T06:07:37.789011Z",
     "iopub.status.busy": "2022-08-27T06:07:37.788756Z",
     "iopub.status.idle": "2022-08-27T06:07:37.809719Z",
     "shell.execute_reply": "2022-08-27T06:07:37.809182Z"
    },
    "papermill": {
     "duration": 0.311273,
     "end_time": "2022-08-27T06:07:37.811216",
     "exception": false,
     "start_time": "2022-08-27T06:07:37.499943",
     "status": "completed"
    },
    "tags": []
   },
   "outputs": [
    {
     "name": "stdout",
     "output_type": "stream",
     "text": [
      "Works!\n"
     ]
    }
   ],
   "source": [
    "try:\n",
    "    # decomposition used by statsmodels.GLS\n",
    "    cholsigmainv = np.linalg.cholesky(np.linalg.inv(gene_corrs_df.to_numpy())).T\n",
    "    print(\"Works!\")\n",
    "except Exception as e:\n",
    "    print(f\"Cholesky decomposition failed (statsmodels.GLS): {str(e)}\")"
   ]
  },
  {
   "cell_type": "markdown",
   "id": "8e60a080-edb2-4e9c-b2ef-22961693200c",
   "metadata": {
    "papermill": {
     "duration": 0.283755,
     "end_time": "2022-08-27T06:07:38.405545",
     "exception": false,
     "start_time": "2022-08-27T06:07:38.121790",
     "status": "completed"
    },
    "tags": []
   },
   "source": [
    "## Plot: distribution"
   ]
  },
  {
   "cell_type": "code",
   "execution_count": 41,
   "id": "8301126b-a7d4-4744-9c7d-f0f86eb6f54c",
   "metadata": {
    "execution": {
     "iopub.execute_input": "2022-08-27T06:07:39.001796Z",
     "iopub.status.busy": "2022-08-27T06:07:39.001543Z",
     "iopub.status.idle": "2022-08-27T06:07:43.576736Z",
     "shell.execute_reply": "2022-08-27T06:07:43.576166Z"
    },
    "papermill": {
     "duration": 4.887882,
     "end_time": "2022-08-27T06:07:43.578399",
     "exception": false,
     "start_time": "2022-08-27T06:07:38.690517",
     "status": "completed"
    },
    "tags": []
   },
   "outputs": [
    {
     "data": {
      "image/png": "[encoded data removed]",
      "text/plain": [
       "<Figure size 504x504 with 1 Axes>"
      ]
     },
     "metadata": {
      "needs_background": "light"
     },
     "output_type": "display_data"
    }
   ],
   "source": [
    "with sns.plotting_context(\"paper\", font_scale=1.5):\n",
    "    g = sns.displot(gene_corrs_flat, kde=True, height=7)\n",
    "    g.ax.set_title(\n",
    "        f\"Distribution of gene correlation values in chromosome {CHROMOSOME}\"\n",
    "    )"
   ]
  },
  {
   "cell_type": "markdown",
   "id": "cbd52bca-d878-4a2f-b684-5c83aa3038d4",
   "metadata": {
    "papermill": {
     "duration": 0.284704,
     "end_time": "2022-08-27T06:07:44.149279",
     "exception": false,
     "start_time": "2022-08-27T06:07:43.864575",
     "status": "completed"
    },
    "tags": []
   },
   "source": [
    "## Plot: heatmap"
   ]
  },
  {
   "cell_type": "code",
   "execution_count": 42,
   "id": "d03fe63a-c7b2-4fb9-a53c-db362ce843c9",
   "metadata": {
    "execution": {
     "iopub.execute_input": "2022-08-27T06:07:44.758744Z",
     "iopub.status.busy": "2022-08-27T06:07:44.758490Z",
     "iopub.status.idle": "2022-08-27T06:07:44.879887Z",
     "shell.execute_reply": "2022-08-27T06:07:44.879362Z"
    },
    "papermill": {
     "duration": 0.422881,
     "end_time": "2022-08-27T06:07:44.881476",
     "exception": false,
     "start_time": "2022-08-27T06:07:44.458595",
     "status": "completed"
    },
    "tags": []
   },
   "outputs": [
    {
     "data": {
      "text/plain": [
       "'0.0 / 0.05'"
      ]
     },
     "metadata": {},
     "output_type": "display_data"
    }
   ],
   "source": [
    "vmin_val = min(0.00, gene_corrs_quantiles[0.10])\n",
    "vmax_val = max(0.05, gene_corrs_quantiles[0.90])\n",
    "display(f\"{vmin_val} / {vmax_val}\")"
   ]
  },
  {
   "cell_type": "code",
   "execution_count": 43,
   "id": "dc41b70b-5bcc-4d9e-9f33-a22c4a94dab5",
   "metadata": {
    "execution": {
     "iopub.execute_input": "2022-08-27T06:07:45.447984Z",
     "iopub.status.busy": "2022-08-27T06:07:45.447731Z",
     "iopub.status.idle": "2022-08-27T06:07:45.609221Z",
     "shell.execute_reply": "2022-08-27T06:07:45.608663Z"
    },
    "papermill": {
     "duration": 0.446438,
     "end_time": "2022-08-27T06:07:45.610898",
     "exception": false,
     "start_time": "2022-08-27T06:07:45.164460",
     "status": "completed"
    },
    "tags": []
   },
   "outputs": [
    {
     "data": {
      "text/plain": [
       "Text(0.5, 1.0, 'Gene correlations in chromosome 18')"
      ]
     },
     "execution_count": 43,
     "metadata": {},
     "output_type": "execute_result"
    },
    {
     "data": {
      "image/png": "[encoded data removed]",
      "text/plain": [
       "<Figure size 720x720 with 2 Axes>"
      ]
     },
     "metadata": {
      "needs_background": "light"
     },
     "output_type": "display_data"
    }
   ],
   "source": [
    "f, ax = plt.subplots(figsize=(10, 10))\n",
    "sns.heatmap(\n",
    "    gene_corrs_df,\n",
    "    xticklabels=False,\n",
    "    yticklabels=False,\n",
    "    square=True,\n",
    "    vmin=vmin_val,\n",
    "    vmax=vmax_val,\n",
    "    cmap=\"rocket_r\",\n",
    "    ax=ax,\n",
    ")\n",
    "ax.set_title(f\"Gene correlations in chromosome {CHROMOSOME}\")"
   ]
  },
  {
   "cell_type": "code",
   "execution_count": null,
   "id": "b25e3ead",
   "metadata": {
    "papermill": {
     "duration": 0.286514,
     "end_time": "2022-08-27T06:07:46.216333",
     "exception": false,
     "start_time": "2022-08-27T06:07:45.929819",
     "status": "completed"
    },
    "tags": []
   },
   "outputs": [],
   "source": []
  }
 ],
 "metadata": {
  "jupytext": {
   "cell_metadata_filter": "all,-execution,-papermill,-trusted",
   "formats": "ipynb,py//py:percent"
  },
  "kernelspec": {
   "display_name": "Python 3 (ipykernel)",
   "language": "python",
   "name": "python3"
  },
  "language_info": {
   "codemirror_mode": {
    "name": "ipython",
    "version": 3
   },
   "file_extension": ".py",
   "mimetype": "text/x-python",
   "name": "python",
   "nbconvert_exporter": "python",
   "pygments_lexer": "ipython3",
   "version": "3.8.13"
  },
  "papermill": {
   "default_parameters": {},
   "duration": 517.513002,
   "end_time": "2022-08-27T06:07:49.761692",
   "environment_variables": {},
   "exception": null,
   "input_path": "nbs/15_gsa_gls/10-gene_expr_correlations.ipynb",
   "output_path": "nbs/15_gsa_gls/gene_corrs/cohorts/phenomexcan_rapid_gwas/gtex_v8/mashr/10-gene_expr_corrs/10-gene_expr_correlations-chr18.run.ipynb",
   "parameters": {
    "CHROMOSOME": 18,
    "COHORT_NAME": "phenomexcan_rapid_gwas",
    "EQTL_MODEL": "MASHR",
    "REFERENCE_PANEL": "GTEX_V8"
   },
   "start_time": "2022-08-27T05:59:12.248690",
   "version": "2.2.2"
  }
 },
 "nbformat": 4,
 "nbformat_minor": 5
}
