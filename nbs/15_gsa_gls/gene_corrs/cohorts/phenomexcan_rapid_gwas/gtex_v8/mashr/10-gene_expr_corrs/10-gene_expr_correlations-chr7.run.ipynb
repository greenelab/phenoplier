{
 "cells": [
  {
   "cell_type": "markdown",
   "id": "7a6632fb",
   "metadata": {
    "papermill": {
     "duration": 0.019675,
     "end_time": "2022-08-27T05:59:17.733317",
     "exception": false,
     "start_time": "2022-08-27T05:59:17.713642",
     "status": "completed"
    },
    "tags": []
   },
   "source": [
    "# Description"
   ]
  },
  {
   "cell_type": "markdown",
   "id": "7097c346",
   "metadata": {
    "papermill": {
     "duration": 0.016803,
     "end_time": "2022-08-27T05:59:17.767036",
     "exception": false,
     "start_time": "2022-08-27T05:59:17.750233",
     "status": "completed"
    },
    "tags": []
   },
   "source": [
    "(Please, take a look at the README.md file in this directory for instructions on how to run this notebook)\n",
    "\n",
    "This notebook computes predicted expression correlations between all genes in the MultiPLIER models.\n",
    "\n",
    "It also has a parameter set for papermill to run on a single chromosome to run in parallel (see under `Settings` below).\n",
    "\n",
    "This notebook is not directly run. See README.md."
   ]
  },
  {
   "cell_type": "markdown",
   "id": "c61d8427",
   "metadata": {
    "papermill": {
     "duration": 0.076407,
     "end_time": "2022-08-27T05:59:17.864084",
     "exception": false,
     "start_time": "2022-08-27T05:59:17.787677",
     "status": "completed"
    },
    "tags": []
   },
   "source": [
    "# Modules"
   ]
  },
  {
   "cell_type": "code",
   "execution_count": 1,
   "id": "bbc0234f",
   "metadata": {
    "execution": {
     "iopub.execute_input": "2022-08-27T05:59:17.970087Z",
     "iopub.status.busy": "2022-08-27T05:59:17.969570Z",
     "iopub.status.idle": "2022-08-27T05:59:18.076600Z",
     "shell.execute_reply": "2022-08-27T05:59:18.075424Z"
    },
    "papermill": {
     "duration": 0.199863,
     "end_time": "2022-08-27T05:59:18.080477",
     "exception": false,
     "start_time": "2022-08-27T05:59:17.880614",
     "status": "completed"
    },
    "tags": []
   },
   "outputs": [],
   "source": [
    "%load_ext autoreload\n",
    "%autoreload 2"
   ]
  },
  {
   "cell_type": "code",
   "execution_count": 2,
   "id": "1d5f5a59",
   "metadata": {
    "execution": {
     "iopub.execute_input": "2022-08-27T05:59:18.116021Z",
     "iopub.status.busy": "2022-08-27T05:59:18.115659Z",
     "iopub.status.idle": "2022-08-27T05:59:24.587192Z",
     "shell.execute_reply": "2022-08-27T05:59:24.585878Z"
    },
    "papermill": {
     "duration": 6.493499,
     "end_time": "2022-08-27T05:59:24.591239",
     "exception": false,
     "start_time": "2022-08-27T05:59:18.097740",
     "status": "completed"
    },
    "tags": []
   },
   "outputs": [],
   "source": [
    "from random import sample, seed\n",
    "import warnings\n",
    "from pathlib import Path\n",
    "import pickle\n",
    "import traceback\n",
    "\n",
    "import numpy as np\n",
    "from scipy.spatial.distance import squareform\n",
    "import pandas as pd\n",
    "from tqdm import tqdm\n",
    "import matplotlib.pyplot as plt\n",
    "import seaborn as sns\n",
    "\n",
    "import conf\n",
    "from entity import Gene"
   ]
  },
  {
   "cell_type": "markdown",
   "id": "1eac24b5",
   "metadata": {
    "papermill": {
     "duration": 0.01331,
     "end_time": "2022-08-27T05:59:24.656483",
     "exception": false,
     "start_time": "2022-08-27T05:59:24.643173",
     "status": "completed"
    },
    "tags": []
   },
   "source": [
    "# Settings"
   ]
  },
  {
   "cell_type": "code",
   "execution_count": 3,
   "id": "ca4560ba",
   "metadata": {
    "execution": {
     "iopub.execute_input": "2022-08-27T05:59:24.687218Z",
     "iopub.status.busy": "2022-08-27T05:59:24.686831Z",
     "iopub.status.idle": "2022-08-27T05:59:24.951034Z",
     "shell.execute_reply": "2022-08-27T05:59:24.949927Z"
    },
    "papermill": {
     "duration": 0.284038,
     "end_time": "2022-08-27T05:59:24.954497",
     "exception": false,
     "start_time": "2022-08-27T05:59:24.670459",
     "status": "completed"
    },
    "tags": [
     "parameters"
    ]
   },
   "outputs": [],
   "source": [
    "# a cohort name (it could be something like UK_BIOBANK, etc)\n",
    "COHORT_NAME = None\n",
    "\n",
    "# reference panel such as 1000G or GTEX_V8\n",
    "REFERENCE_PANEL = None\n",
    "\n",
    "# predictions models such as MASHR or ELASTIC_NET\n",
    "EQTL_MODEL = None\n",
    "\n",
    "# this is the default value used in S-MultiXcan to select the\n",
    "# top principal components of the expression correlation matrix\n",
    "SMULTIXCAN_CONDITION_NUMBER = 30\n",
    "\n",
    "# specifies a single chromosome value\n",
    "CHROMOSOME = None\n",
    "\n",
    "# If True, computes the correlation between closeby genes only;\n",
    "# otherwise, it computes correlations for all genes in a chromosome\n",
    "COMPUTE_CORRELATIONS_WITHIN_DISTANCE = False\n",
    "\n",
    "# if True, then it will continue if a gene pair correlation fails,\n",
    "# printing the warning/error for debugging. If False, any warning/error\n",
    "# will be thrown\n",
    "DEBUG_MODE = False"
   ]
  },
  {
   "cell_type": "code",
   "execution_count": 4,
   "id": "5487c635",
   "metadata": {
    "execution": {
     "iopub.execute_input": "2022-08-27T05:59:24.989900Z",
     "iopub.status.busy": "2022-08-27T05:59:24.989528Z",
     "iopub.status.idle": "2022-08-27T05:59:25.018201Z",
     "shell.execute_reply": "2022-08-27T05:59:25.017236Z"
    },
    "papermill": {
     "duration": 0.047952,
     "end_time": "2022-08-27T05:59:25.020770",
     "exception": false,
     "start_time": "2022-08-27T05:59:24.972818",
     "status": "completed"
    },
    "tags": [
     "injected-parameters"
    ]
   },
   "outputs": [],
   "source": [
    "# Parameters\n",
    "COHORT_NAME = \"phenomexcan_rapid_gwas\"\n",
    "REFERENCE_PANEL = \"GTEX_V8\"\n",
    "EQTL_MODEL = \"MASHR\"\n",
    "CHROMOSOME = 7\n"
   ]
  },
  {
   "cell_type": "code",
   "execution_count": 5,
   "id": "3190631f-27fc-480f-b18e-571d580425a5",
   "metadata": {
    "execution": {
     "iopub.execute_input": "2022-08-27T05:59:25.049878Z",
     "iopub.status.busy": "2022-08-27T05:59:25.049571Z",
     "iopub.status.idle": "2022-08-27T05:59:25.079276Z",
     "shell.execute_reply": "2022-08-27T05:59:25.078456Z"
    },
    "papermill": {
     "duration": 0.044832,
     "end_time": "2022-08-27T05:59:25.081400",
     "exception": false,
     "start_time": "2022-08-27T05:59:25.036568",
     "status": "completed"
    },
    "tags": []
   },
   "outputs": [
    {
     "data": {
      "text/plain": [
       "'Cohort name: phenomexcan_rapid_gwas'"
      ]
     },
     "metadata": {},
     "output_type": "display_data"
    }
   ],
   "source": [
    "assert COHORT_NAME is not None and len(COHORT_NAME) > 0, \"A cohort name must be given\"\n",
    "\n",
    "COHORT_NAME = COHORT_NAME.lower()\n",
    "display(f\"Cohort name: {COHORT_NAME}\")"
   ]
  },
  {
   "cell_type": "code",
   "execution_count": 6,
   "id": "f53ba19b-0f93-4fa2-a047-63b375939d1a",
   "metadata": {
    "execution": {
     "iopub.execute_input": "2022-08-27T05:59:25.109575Z",
     "iopub.status.busy": "2022-08-27T05:59:25.109295Z",
     "iopub.status.idle": "2022-08-27T05:59:25.138206Z",
     "shell.execute_reply": "2022-08-27T05:59:25.137392Z"
    },
    "papermill": {
     "duration": 0.044144,
     "end_time": "2022-08-27T05:59:25.140285",
     "exception": false,
     "start_time": "2022-08-27T05:59:25.096141",
     "status": "completed"
    },
    "tags": []
   },
   "outputs": [
    {
     "data": {
      "text/plain": [
       "'Reference panel: GTEX_V8'"
      ]
     },
     "metadata": {},
     "output_type": "display_data"
    }
   ],
   "source": [
    "assert (\n",
    "    REFERENCE_PANEL is not None and len(REFERENCE_PANEL) > 0\n",
    "), \"A reference panel must be given\"\n",
    "\n",
    "display(f\"Reference panel: {REFERENCE_PANEL}\")"
   ]
  },
  {
   "cell_type": "code",
   "execution_count": 7,
   "id": "e024d130-c139-429a-9c6e-ccf149e297b0",
   "metadata": {
    "execution": {
     "iopub.execute_input": "2022-08-27T05:59:25.175903Z",
     "iopub.status.busy": "2022-08-27T05:59:25.175644Z",
     "iopub.status.idle": "2022-08-27T05:59:25.199219Z",
     "shell.execute_reply": "2022-08-27T05:59:25.198569Z"
    },
    "papermill": {
     "duration": 0.040562,
     "end_time": "2022-08-27T05:59:25.201055",
     "exception": false,
     "start_time": "2022-08-27T05:59:25.160493",
     "status": "completed"
    },
    "tags": []
   },
   "outputs": [
    {
     "data": {
      "text/plain": [
       "'eQTL model: MASHR) / mashr_'"
      ]
     },
     "metadata": {},
     "output_type": "display_data"
    }
   ],
   "source": [
    "assert (\n",
    "    EQTL_MODEL is not None and len(EQTL_MODEL) > 0\n",
    "), \"A prediction/eQTL model must be given\"\n",
    "\n",
    "EQTL_MODEL_FILES_PREFIX = conf.PHENOMEXCAN[\"PREDICTION_MODELS\"][f\"{EQTL_MODEL}_PREFIX\"]\n",
    "display(f\"eQTL model: {EQTL_MODEL}) / {EQTL_MODEL_FILES_PREFIX}\")"
   ]
  },
  {
   "cell_type": "code",
   "execution_count": 8,
   "id": "552a7f63-a18c-4d3e-bb6a-94f99b431291",
   "metadata": {
    "execution": {
     "iopub.execute_input": "2022-08-27T05:59:25.234612Z",
     "iopub.status.busy": "2022-08-27T05:59:25.234421Z",
     "iopub.status.idle": "2022-08-27T05:59:25.251607Z",
     "shell.execute_reply": "2022-08-27T05:59:25.251104Z"
    },
    "papermill": {
     "duration": 0.034209,
     "end_time": "2022-08-27T05:59:25.253031",
     "exception": false,
     "start_time": "2022-08-27T05:59:25.218822",
     "status": "completed"
    },
    "tags": []
   },
   "outputs": [
    {
     "data": {
      "text/plain": [
       "'S-MultiXcan condition number: 30'"
      ]
     },
     "metadata": {},
     "output_type": "display_data"
    }
   ],
   "source": [
    "assert (\n",
    "    SMULTIXCAN_CONDITION_NUMBER is not None and SMULTIXCAN_CONDITION_NUMBER > 0\n",
    "), \"The S-MultiXcan condition number (positive integer) must be given\"\n",
    "\n",
    "display(f\"S-MultiXcan condition number: {SMULTIXCAN_CONDITION_NUMBER}\")"
   ]
  },
  {
   "cell_type": "code",
   "execution_count": 9,
   "id": "f34a336f-548e-4afe-8955-90eaea4f42c6",
   "metadata": {
    "execution": {
     "iopub.execute_input": "2022-08-27T05:59:25.283935Z",
     "iopub.status.busy": "2022-08-27T05:59:25.283746Z",
     "iopub.status.idle": "2022-08-27T05:59:25.300888Z",
     "shell.execute_reply": "2022-08-27T05:59:25.300296Z"
    },
    "papermill": {
     "duration": 0.032805,
     "end_time": "2022-08-27T05:59:25.302426",
     "exception": false,
     "start_time": "2022-08-27T05:59:25.269621",
     "status": "completed"
    },
    "tags": []
   },
   "outputs": [
    {
     "data": {
      "text/plain": [
       "'Working on chromosome 7'"
      ]
     },
     "metadata": {},
     "output_type": "display_data"
    }
   ],
   "source": [
    "assert CHROMOSOME is not None and (\n",
    "    1 <= CHROMOSOME <= 22\n",
    "), \"You have to select one chromosome (format: number between 1 and 22)\"\n",
    "\n",
    "# CHROMOSOME = str(CHROMOSOME)\n",
    "display(f\"Working on chromosome {CHROMOSOME}\")"
   ]
  },
  {
   "cell_type": "code",
   "execution_count": 10,
   "id": "ab8e96e8-06b5-4363-9dcd-dc4d78cc27f7",
   "metadata": {
    "execution": {
     "iopub.execute_input": "2022-08-27T05:59:25.344356Z",
     "iopub.status.busy": "2022-08-27T05:59:25.344097Z",
     "iopub.status.idle": "2022-08-27T05:59:25.366938Z",
     "shell.execute_reply": "2022-08-27T05:59:25.366086Z"
    },
    "papermill": {
     "duration": 0.051555,
     "end_time": "2022-08-27T05:59:25.368874",
     "exception": false,
     "start_time": "2022-08-27T05:59:25.317319",
     "status": "completed"
    },
    "tags": []
   },
   "outputs": [
    {
     "data": {
      "text/plain": [
       "'Compute correlation within distance False'"
      ]
     },
     "metadata": {},
     "output_type": "display_data"
    }
   ],
   "source": [
    "display(f\"Compute correlation within distance {COMPUTE_CORRELATIONS_WITHIN_DISTANCE}\")"
   ]
  },
  {
   "cell_type": "code",
   "execution_count": 11,
   "id": "396392dc-0340-4540-9b02-e182b833f909",
   "metadata": {
    "execution": {
     "iopub.execute_input": "2022-08-27T05:59:25.431687Z",
     "iopub.status.busy": "2022-08-27T05:59:25.431304Z",
     "iopub.status.idle": "2022-08-27T05:59:25.524483Z",
     "shell.execute_reply": "2022-08-27T05:59:25.523410Z"
    },
    "papermill": {
     "duration": 0.13296,
     "end_time": "2022-08-27T05:59:25.527476",
     "exception": false,
     "start_time": "2022-08-27T05:59:25.394516",
     "status": "completed"
    },
    "tags": []
   },
   "outputs": [
    {
     "data": {
      "text/plain": [
       "'Using output dir base: /project/ritchie20/projects/phenoplier/base/results/gls/gene_corrs/cohorts/phenomexcan_rapid_gwas/gtex_v8/mashr'"
      ]
     },
     "metadata": {},
     "output_type": "display_data"
    }
   ],
   "source": [
    "OUTPUT_DIR_BASE = (\n",
    "    conf.RESULTS[\"GLS\"]\n",
    "    / \"gene_corrs\"\n",
    "    / \"cohorts\"\n",
    "    / COHORT_NAME\n",
    "    / REFERENCE_PANEL.lower()\n",
    "    / EQTL_MODEL.lower()\n",
    ")\n",
    "OUTPUT_DIR_BASE.mkdir(parents=True, exist_ok=True)\n",
    "\n",
    "display(f\"Using output dir base: {OUTPUT_DIR_BASE}\")"
   ]
  },
  {
   "cell_type": "markdown",
   "id": "d2ba085e",
   "metadata": {
    "papermill": {
     "duration": 0.041366,
     "end_time": "2022-08-27T05:59:25.606634",
     "exception": false,
     "start_time": "2022-08-27T05:59:25.565268",
     "status": "completed"
    },
    "tags": []
   },
   "source": [
    "# Load data"
   ]
  },
  {
   "cell_type": "markdown",
   "id": "7dcb8db7",
   "metadata": {
    "papermill": {
     "duration": 0.05341,
     "end_time": "2022-08-27T05:59:25.711816",
     "exception": false,
     "start_time": "2022-08-27T05:59:25.658406",
     "status": "completed"
    },
    "tags": []
   },
   "source": [
    "## GWAS variants"
   ]
  },
  {
   "cell_type": "code",
   "execution_count": 12,
   "id": "29434c4e-8cd3-4b9b-82e4-b5a251d9dd19",
   "metadata": {
    "execution": {
     "iopub.execute_input": "2022-08-27T05:59:25.802050Z",
     "iopub.status.busy": "2022-08-27T05:59:25.801564Z",
     "iopub.status.idle": "2022-08-27T05:59:28.904133Z",
     "shell.execute_reply": "2022-08-27T05:59:28.903312Z"
    },
    "papermill": {
     "duration": 3.147575,
     "end_time": "2022-08-27T05:59:28.906136",
     "exception": false,
     "start_time": "2022-08-27T05:59:25.758561",
     "status": "completed"
    },
    "tags": []
   },
   "outputs": [],
   "source": [
    "with open(OUTPUT_DIR_BASE / \"gwas_variant_ids.pkl\", \"rb\") as handle:\n",
    "    gwas_variants_ids_set = pickle.load(handle)"
   ]
  },
  {
   "cell_type": "code",
   "execution_count": 13,
   "id": "b9d9dec2-4a76-4bf9-bde2-e24c95acb8a0",
   "metadata": {
    "execution": {
     "iopub.execute_input": "2022-08-27T05:59:28.925409Z",
     "iopub.status.busy": "2022-08-27T05:59:28.925184Z",
     "iopub.status.idle": "2022-08-27T05:59:28.951086Z",
     "shell.execute_reply": "2022-08-27T05:59:28.950398Z"
    },
    "papermill": {
     "duration": 0.037119,
     "end_time": "2022-08-27T05:59:28.952616",
     "exception": false,
     "start_time": "2022-08-27T05:59:28.915497",
     "status": "completed"
    },
    "tags": []
   },
   "outputs": [
    {
     "data": {
      "text/plain": [
       "8496088"
      ]
     },
     "execution_count": 13,
     "metadata": {},
     "output_type": "execute_result"
    }
   ],
   "source": [
    "len(gwas_variants_ids_set)"
   ]
  },
  {
   "cell_type": "code",
   "execution_count": 14,
   "id": "4235b06a-6034-4ee4-a0a3-2ae35d122418",
   "metadata": {
    "execution": {
     "iopub.execute_input": "2022-08-27T05:59:28.971601Z",
     "iopub.status.busy": "2022-08-27T05:59:28.971402Z",
     "iopub.status.idle": "2022-08-27T05:59:29.567621Z",
     "shell.execute_reply": "2022-08-27T05:59:29.567010Z"
    },
    "papermill": {
     "duration": 0.607358,
     "end_time": "2022-08-27T05:59:29.569136",
     "exception": false,
     "start_time": "2022-08-27T05:59:28.961778",
     "status": "completed"
    },
    "tags": []
   },
   "outputs": [
    {
     "data": {
      "text/plain": [
       "['chr11_111876864_G_A_b38',\n",
       " 'chr1_46587836_A_G_b38',\n",
       " 'chr18_45703203_A_C_b38',\n",
       " 'chr15_31029639_C_T_b38',\n",
       " 'chr12_115985671_C_T_b38']"
      ]
     },
     "execution_count": 14,
     "metadata": {},
     "output_type": "execute_result"
    }
   ],
   "source": [
    "list(gwas_variants_ids_set)[:5]"
   ]
  },
  {
   "cell_type": "markdown",
   "id": "07866999-2305-41f9-a144-e69c9122c212",
   "metadata": {
    "papermill": {
     "duration": 0.00922,
     "end_time": "2022-08-27T05:59:29.588199",
     "exception": false,
     "start_time": "2022-08-27T05:59:29.578979",
     "status": "completed"
    },
    "tags": []
   },
   "source": [
    "## S-PrediXcan tissue models"
   ]
  },
  {
   "cell_type": "code",
   "execution_count": 15,
   "id": "780611d9-77c8-405f-90a4-f271f7b09397",
   "metadata": {
    "execution": {
     "iopub.execute_input": "2022-08-27T05:59:29.608055Z",
     "iopub.status.busy": "2022-08-27T05:59:29.607859Z",
     "iopub.status.idle": "2022-08-27T05:59:30.569197Z",
     "shell.execute_reply": "2022-08-27T05:59:30.568611Z"
    },
    "papermill": {
     "duration": 0.973802,
     "end_time": "2022-08-27T05:59:30.571110",
     "exception": false,
     "start_time": "2022-08-27T05:59:29.597308",
     "status": "completed"
    },
    "tags": []
   },
   "outputs": [],
   "source": [
    "spredixcan_genes_models = pd.read_pickle(OUTPUT_DIR_BASE / \"gene_tissues.pkl\")"
   ]
  },
  {
   "cell_type": "code",
   "execution_count": 16,
   "id": "726dd1f6-9557-4225-91fa-b3b879ea96e1",
   "metadata": {
    "execution": {
     "iopub.execute_input": "2022-08-27T05:59:30.601732Z",
     "iopub.status.busy": "2022-08-27T05:59:30.601519Z",
     "iopub.status.idle": "2022-08-27T05:59:31.353779Z",
     "shell.execute_reply": "2022-08-27T05:59:31.352608Z"
    },
    "papermill": {
     "duration": 0.769588,
     "end_time": "2022-08-27T05:59:31.357420",
     "exception": false,
     "start_time": "2022-08-27T05:59:30.587832",
     "status": "completed"
    },
    "tags": []
   },
   "outputs": [
    {
     "data": {
      "text/plain": [
       "(6428, 3)"
      ]
     },
     "execution_count": 16,
     "metadata": {},
     "output_type": "execute_result"
    }
   ],
   "source": [
    "spredixcan_genes_models.shape"
   ]
  },
  {
   "cell_type": "code",
   "execution_count": 17,
   "id": "944a1b48-222c-4eb0-b252-b9de2cbca215",
   "metadata": {
    "execution": {
     "iopub.execute_input": "2022-08-27T05:59:31.402529Z",
     "iopub.status.busy": "2022-08-27T05:59:31.402166Z",
     "iopub.status.idle": "2022-08-27T05:59:31.501814Z",
     "shell.execute_reply": "2022-08-27T05:59:31.500724Z"
    },
    "papermill": {
     "duration": 0.122903,
     "end_time": "2022-08-27T05:59:31.504808",
     "exception": false,
     "start_time": "2022-08-27T05:59:31.381905",
     "status": "completed"
    },
    "tags": []
   },
   "outputs": [
    {
     "data": {
      "text/html": [
       "<div>\n",
       "<style scoped>\n",
       "    .dataframe tbody tr th:only-of-type {\n",
       "        vertical-align: middle;\n",
       "    }\n",
       "\n",
       "    .dataframe tbody tr th {\n",
       "        vertical-align: top;\n",
       "    }\n",
       "\n",
       "    .dataframe thead th {\n",
       "        text-align: right;\n",
       "    }\n",
       "</style>\n",
       "<table border=\"1\" class=\"dataframe\">\n",
       "  <thead>\n",
       "    <tr style=\"text-align: right;\">\n",
       "      <th></th>\n",
       "      <th>gene_name</th>\n",
       "      <th>tissue</th>\n",
       "      <th>n_tissues</th>\n",
       "    </tr>\n",
       "    <tr>\n",
       "      <th>gene_id</th>\n",
       "      <th></th>\n",
       "      <th></th>\n",
       "      <th></th>\n",
       "    </tr>\n",
       "  </thead>\n",
       "  <tbody>\n",
       "    <tr>\n",
       "      <th>ENSG00000000419</th>\n",
       "      <td>DPM1</td>\n",
       "      <td>(Brain_Hypothalamus, Brain_Substantia_nigra)</td>\n",
       "      <td>2</td>\n",
       "    </tr>\n",
       "    <tr>\n",
       "      <th>ENSG00000000938</th>\n",
       "      <td>FGR</td>\n",
       "      <td>(Breast_Mammary_Tissue, Colon_Sigmoid, Artery_...</td>\n",
       "      <td>36</td>\n",
       "    </tr>\n",
       "    <tr>\n",
       "      <th>ENSG00000000971</th>\n",
       "      <td>CFH</td>\n",
       "      <td>(Breast_Mammary_Tissue, Colon_Sigmoid, Artery_...</td>\n",
       "      <td>34</td>\n",
       "    </tr>\n",
       "    <tr>\n",
       "      <th>ENSG00000001084</th>\n",
       "      <td>GCLC</td>\n",
       "      <td>(Adrenal_Gland, Artery_Aorta, Lung, Heart_Left...</td>\n",
       "      <td>33</td>\n",
       "    </tr>\n",
       "    <tr>\n",
       "      <th>ENSG00000001167</th>\n",
       "      <td>NFYA</td>\n",
       "      <td>(Breast_Mammary_Tissue, Colon_Sigmoid, Adrenal...</td>\n",
       "      <td>40</td>\n",
       "    </tr>\n",
       "  </tbody>\n",
       "</table>\n",
       "</div>"
      ],
      "text/plain": [
       "                gene_name                                             tissue  \\\n",
       "gene_id                                                                        \n",
       "ENSG00000000419      DPM1       (Brain_Hypothalamus, Brain_Substantia_nigra)   \n",
       "ENSG00000000938       FGR  (Breast_Mammary_Tissue, Colon_Sigmoid, Artery_...   \n",
       "ENSG00000000971       CFH  (Breast_Mammary_Tissue, Colon_Sigmoid, Artery_...   \n",
       "ENSG00000001084      GCLC  (Adrenal_Gland, Artery_Aorta, Lung, Heart_Left...   \n",
       "ENSG00000001167      NFYA  (Breast_Mammary_Tissue, Colon_Sigmoid, Adrenal...   \n",
       "\n",
       "                 n_tissues  \n",
       "gene_id                     \n",
       "ENSG00000000419          2  \n",
       "ENSG00000000938         36  \n",
       "ENSG00000000971         34  \n",
       "ENSG00000001084         33  \n",
       "ENSG00000001167         40  "
      ]
     },
     "execution_count": 17,
     "metadata": {},
     "output_type": "execute_result"
    }
   ],
   "source": [
    "spredixcan_genes_models.head()"
   ]
  },
  {
   "cell_type": "code",
   "execution_count": 18,
   "id": "d1c11bb1-be0b-4f40-b360-633d6827109f",
   "metadata": {
    "execution": {
     "iopub.execute_input": "2022-08-27T05:59:31.547513Z",
     "iopub.status.busy": "2022-08-27T05:59:31.547148Z",
     "iopub.status.idle": "2022-08-27T05:59:31.578675Z",
     "shell.execute_reply": "2022-08-27T05:59:31.577764Z"
    },
    "papermill": {
     "duration": 0.053445,
     "end_time": "2022-08-27T05:59:31.581236",
     "exception": false,
     "start_time": "2022-08-27T05:59:31.527791",
     "status": "completed"
    },
    "tags": []
   },
   "outputs": [],
   "source": [
    "assert spredixcan_genes_models.index.is_unique"
   ]
  },
  {
   "cell_type": "markdown",
   "id": "a5b5092c-a13e-47c4-a92a-480fcc08f3ae",
   "metadata": {
    "papermill": {
     "duration": 0.019636,
     "end_time": "2022-08-27T05:59:31.618855",
     "exception": false,
     "start_time": "2022-08-27T05:59:31.599219",
     "status": "completed"
    },
    "tags": []
   },
   "source": [
    "## Gene info"
   ]
  },
  {
   "cell_type": "code",
   "execution_count": 19,
   "id": "7d6bb224-88e9-4358-ac10-43a41d92cdad",
   "metadata": {
    "execution": {
     "iopub.execute_input": "2022-08-27T05:59:31.649920Z",
     "iopub.status.busy": "2022-08-27T05:59:31.649633Z",
     "iopub.status.idle": "2022-08-27T05:59:31.680685Z",
     "shell.execute_reply": "2022-08-27T05:59:31.680010Z"
    },
    "papermill": {
     "duration": 0.048382,
     "end_time": "2022-08-27T05:59:31.682840",
     "exception": false,
     "start_time": "2022-08-27T05:59:31.634458",
     "status": "completed"
    },
    "tags": []
   },
   "outputs": [],
   "source": [
    "genes_info = pd.read_pickle(OUTPUT_DIR_BASE / \"genes_info.pkl\")"
   ]
  },
  {
   "cell_type": "code",
   "execution_count": 20,
   "id": "9e32abfa-546d-483e-8c18-d526e9e05903",
   "metadata": {
    "execution": {
     "iopub.execute_input": "2022-08-27T05:59:31.712534Z",
     "iopub.status.busy": "2022-08-27T05:59:31.712273Z",
     "iopub.status.idle": "2022-08-27T05:59:31.732904Z",
     "shell.execute_reply": "2022-08-27T05:59:31.732372Z"
    },
    "papermill": {
     "duration": 0.037657,
     "end_time": "2022-08-27T05:59:31.734357",
     "exception": false,
     "start_time": "2022-08-27T05:59:31.696700",
     "status": "completed"
    },
    "tags": []
   },
   "outputs": [
    {
     "data": {
      "text/plain": [
       "(6428, 7)"
      ]
     },
     "execution_count": 20,
     "metadata": {},
     "output_type": "execute_result"
    }
   ],
   "source": [
    "genes_info.shape"
   ]
  },
  {
   "cell_type": "code",
   "execution_count": 21,
   "id": "d16c3e92-85ec-468a-9a56-e25a9774a1cb",
   "metadata": {
    "execution": {
     "iopub.execute_input": "2022-08-27T05:59:31.762698Z",
     "iopub.status.busy": "2022-08-27T05:59:31.762505Z",
     "iopub.status.idle": "2022-08-27T05:59:31.784006Z",
     "shell.execute_reply": "2022-08-27T05:59:31.783393Z"
    },
    "papermill": {
     "duration": 0.036851,
     "end_time": "2022-08-27T05:59:31.785430",
     "exception": false,
     "start_time": "2022-08-27T05:59:31.748579",
     "status": "completed"
    },
    "tags": []
   },
   "outputs": [
    {
     "data": {
      "text/html": [
       "<div>\n",
       "<style scoped>\n",
       "    .dataframe tbody tr th:only-of-type {\n",
       "        vertical-align: middle;\n",
       "    }\n",
       "\n",
       "    .dataframe tbody tr th {\n",
       "        vertical-align: top;\n",
       "    }\n",
       "\n",
       "    .dataframe thead th {\n",
       "        text-align: right;\n",
       "    }\n",
       "</style>\n",
       "<table border=\"1\" class=\"dataframe\">\n",
       "  <thead>\n",
       "    <tr style=\"text-align: right;\">\n",
       "      <th></th>\n",
       "      <th>name</th>\n",
       "      <th>id</th>\n",
       "      <th>chr</th>\n",
       "      <th>band</th>\n",
       "      <th>start_position</th>\n",
       "      <th>end_position</th>\n",
       "      <th>gene_length</th>\n",
       "    </tr>\n",
       "  </thead>\n",
       "  <tbody>\n",
       "    <tr>\n",
       "      <th>0</th>\n",
       "      <td>ZNF605</td>\n",
       "      <td>ENSG00000196458</td>\n",
       "      <td>12</td>\n",
       "      <td>12q24.33</td>\n",
       "      <td>132918306</td>\n",
       "      <td>132956306</td>\n",
       "      <td>38000</td>\n",
       "    </tr>\n",
       "    <tr>\n",
       "      <th>1</th>\n",
       "      <td>FBP1</td>\n",
       "      <td>ENSG00000165140</td>\n",
       "      <td>9</td>\n",
       "      <td>9q22.32</td>\n",
       "      <td>94603133</td>\n",
       "      <td>94640249</td>\n",
       "      <td>37116</td>\n",
       "    </tr>\n",
       "    <tr>\n",
       "      <th>2</th>\n",
       "      <td>TAL1</td>\n",
       "      <td>ENSG00000162367</td>\n",
       "      <td>1</td>\n",
       "      <td>1p33</td>\n",
       "      <td>47216290</td>\n",
       "      <td>47232220</td>\n",
       "      <td>15930</td>\n",
       "    </tr>\n",
       "    <tr>\n",
       "      <th>3</th>\n",
       "      <td>MPV17</td>\n",
       "      <td>ENSG00000115204</td>\n",
       "      <td>2</td>\n",
       "      <td>2p23.3</td>\n",
       "      <td>27309492</td>\n",
       "      <td>27325680</td>\n",
       "      <td>16188</td>\n",
       "    </tr>\n",
       "    <tr>\n",
       "      <th>4</th>\n",
       "      <td>PTPRN</td>\n",
       "      <td>ENSG00000054356</td>\n",
       "      <td>2</td>\n",
       "      <td>2q35</td>\n",
       "      <td>219289623</td>\n",
       "      <td>219309648</td>\n",
       "      <td>20025</td>\n",
       "    </tr>\n",
       "  </tbody>\n",
       "</table>\n",
       "</div>"
      ],
      "text/plain": [
       "     name               id  chr      band  start_position  end_position  \\\n",
       "0  ZNF605  ENSG00000196458   12  12q24.33       132918306     132956306   \n",
       "1    FBP1  ENSG00000165140    9   9q22.32        94603133      94640249   \n",
       "2    TAL1  ENSG00000162367    1      1p33        47216290      47232220   \n",
       "3   MPV17  ENSG00000115204    2    2p23.3        27309492      27325680   \n",
       "4   PTPRN  ENSG00000054356    2      2q35       219289623     219309648   \n",
       "\n",
       "   gene_length  \n",
       "0        38000  \n",
       "1        37116  \n",
       "2        15930  \n",
       "3        16188  \n",
       "4        20025  "
      ]
     },
     "execution_count": 21,
     "metadata": {},
     "output_type": "execute_result"
    }
   ],
   "source": [
    "genes_info.head()"
   ]
  },
  {
   "cell_type": "markdown",
   "id": "d3843e06",
   "metadata": {
    "papermill": {
     "duration": 0.010431,
     "end_time": "2022-08-27T05:59:31.811114",
     "exception": false,
     "start_time": "2022-08-27T05:59:31.800683",
     "status": "completed"
    },
    "tags": []
   },
   "source": [
    "# Compute correlations"
   ]
  },
  {
   "cell_type": "code",
   "execution_count": 22,
   "id": "cb859c15-d1f3-4006-a74c-2b83c0db9611",
   "metadata": {
    "execution": {
     "iopub.execute_input": "2022-08-27T05:59:31.837955Z",
     "iopub.status.busy": "2022-08-27T05:59:31.837764Z",
     "iopub.status.idle": "2022-08-27T05:59:31.869808Z",
     "shell.execute_reply": "2022-08-27T05:59:31.869086Z"
    },
    "papermill": {
     "duration": 0.048022,
     "end_time": "2022-08-27T05:59:31.871330",
     "exception": false,
     "start_time": "2022-08-27T05:59:31.823308",
     "status": "completed"
    },
    "tags": []
   },
   "outputs": [
    {
     "data": {
      "text/plain": [
       "PosixPath('/project/ritchie20/projects/phenoplier/base/results/gls/gene_corrs/cohorts/phenomexcan_rapid_gwas/gtex_v8/mashr/by_chr/gene_corrs-chr7.pkl')"
      ]
     },
     "metadata": {},
     "output_type": "display_data"
    }
   ],
   "source": [
    "output_dir = OUTPUT_DIR_BASE / \"by_chr\"\n",
    "output_dir.mkdir(exist_ok=True, parents=True)\n",
    "output_file = output_dir / f\"gene_corrs-chr{CHROMOSOME}.pkl\"\n",
    "display(output_file)"
   ]
  },
  {
   "cell_type": "code",
   "execution_count": 23,
   "id": "aa674fe4-6794-4eed-98fa-32b39d1d4ace",
   "metadata": {
    "execution": {
     "iopub.execute_input": "2022-08-27T05:59:31.905058Z",
     "iopub.status.busy": "2022-08-27T05:59:31.904868Z",
     "iopub.status.idle": "2022-08-27T05:59:31.935338Z",
     "shell.execute_reply": "2022-08-27T05:59:31.934694Z"
    },
    "papermill": {
     "duration": 0.048399,
     "end_time": "2022-08-27T05:59:31.937357",
     "exception": false,
     "start_time": "2022-08-27T05:59:31.888958",
     "status": "completed"
    },
    "tags": []
   },
   "outputs": [],
   "source": [
    "warnings.filterwarnings(\"error\")"
   ]
  },
  {
   "cell_type": "code",
   "execution_count": 24,
   "id": "44d5450b-3baf-43f1-9e2e-4b06f1a785f8",
   "metadata": {
    "execution": {
     "iopub.execute_input": "2022-08-27T05:59:31.969685Z",
     "iopub.status.busy": "2022-08-27T05:59:31.969431Z",
     "iopub.status.idle": "2022-08-27T05:59:32.003169Z",
     "shell.execute_reply": "2022-08-27T05:59:32.002500Z"
    },
    "papermill": {
     "duration": 0.052989,
     "end_time": "2022-08-27T05:59:32.005268",
     "exception": false,
     "start_time": "2022-08-27T05:59:31.952279",
     "status": "completed"
    },
    "tags": []
   },
   "outputs": [],
   "source": [
    "# standard checks\n",
    "all_chrs = genes_info[\"chr\"].dropna().unique()\n",
    "assert all_chrs.shape[0] == 22\n",
    "\n",
    "# select chromosome given by the user\n",
    "assert CHROMOSOME in all_chrs"
   ]
  },
  {
   "cell_type": "code",
   "execution_count": 25,
   "id": "2d7c043c-92a7-4d35-991b-fa69ac1e0268",
   "metadata": {
    "execution": {
     "iopub.execute_input": "2022-08-27T05:59:32.039884Z",
     "iopub.status.busy": "2022-08-27T05:59:32.039641Z",
     "iopub.status.idle": "2022-08-27T05:59:32.095812Z",
     "shell.execute_reply": "2022-08-27T05:59:32.095155Z"
    },
    "papermill": {
     "duration": 0.076011,
     "end_time": "2022-08-27T05:59:32.097348",
     "exception": false,
     "start_time": "2022-08-27T05:59:32.021337",
     "status": "completed"
    },
    "tags": []
   },
   "outputs": [
    {
     "name": "stdout",
     "output_type": "stream",
     "text": [
      "Number of genes in chromosome: 281\n"
     ]
    }
   ],
   "source": [
    "# run only on the chromosome specified\n",
    "all_chrs = [CHROMOSOME]\n",
    "genes_chr = genes_info[genes_info[\"chr\"] == CHROMOSOME]\n",
    "\n",
    "# For testing purposes\n",
    "# genes_chr = genes_chr.sample(n=20)\n",
    "\n",
    "print(f\"Number of genes in chromosome: {genes_chr.shape[0]}\", flush=True)"
   ]
  },
  {
   "cell_type": "code",
   "execution_count": 26,
   "id": "916015d8-2979-46d3-a9b9-1cf5a0932c6a",
   "metadata": {
    "execution": {
     "iopub.execute_input": "2022-08-27T05:59:32.125385Z",
     "iopub.status.busy": "2022-08-27T05:59:32.125178Z",
     "iopub.status.idle": "2022-08-27T05:59:32.150128Z",
     "shell.execute_reply": "2022-08-27T05:59:32.149599Z"
    },
    "papermill": {
     "duration": 0.041705,
     "end_time": "2022-08-27T05:59:32.151790",
     "exception": false,
     "start_time": "2022-08-27T05:59:32.110085",
     "status": "completed"
    },
    "tags": []
   },
   "outputs": [],
   "source": [
    "# sort genes by starting position to make visualizations better later\n",
    "genes_chr = genes_chr.sort_values(\"start_position\")"
   ]
  },
  {
   "cell_type": "code",
   "execution_count": 27,
   "id": "a38aa74a-8ad3-47f6-8ef9-56be0e011774",
   "metadata": {
    "execution": {
     "iopub.execute_input": "2022-08-27T05:59:32.179717Z",
     "iopub.status.busy": "2022-08-27T05:59:32.179493Z",
     "iopub.status.idle": "2022-08-27T05:59:32.208337Z",
     "shell.execute_reply": "2022-08-27T05:59:32.207800Z"
    },
    "papermill": {
     "duration": 0.044282,
     "end_time": "2022-08-27T05:59:32.209953",
     "exception": false,
     "start_time": "2022-08-27T05:59:32.165671",
     "status": "completed"
    },
    "tags": []
   },
   "outputs": [],
   "source": [
    "gene_chr_objs = [Gene(ensembl_id=gene_id) for gene_id in genes_chr[\"id\"]]"
   ]
  },
  {
   "cell_type": "code",
   "execution_count": 28,
   "id": "570f974f-13c3-42b6-ad3a-ce99ca885c1a",
   "metadata": {
    "execution": {
     "iopub.execute_input": "2022-08-27T05:59:32.237822Z",
     "iopub.status.busy": "2022-08-27T05:59:32.237591Z",
     "iopub.status.idle": "2022-08-27T05:59:32.258266Z",
     "shell.execute_reply": "2022-08-27T05:59:32.257764Z"
    },
    "papermill": {
     "duration": 0.034689,
     "end_time": "2022-08-27T05:59:32.259796",
     "exception": false,
     "start_time": "2022-08-27T05:59:32.225107",
     "status": "completed"
    },
    "tags": []
   },
   "outputs": [
    {
     "name": "stdout",
     "output_type": "stream",
     "text": [
      "Number of gene combinations: 39340\n"
     ]
    }
   ],
   "source": [
    "n = len(gene_chr_objs)\n",
    "n_comb = int(n * (n - 1) / 2.0)\n",
    "print(f\"Number of gene combinations: {n_comb}\", flush=True)"
   ]
  },
  {
   "cell_type": "code",
   "execution_count": 29,
   "id": "cdbb90a1",
   "metadata": {
    "execution": {
     "iopub.execute_input": "2022-08-27T05:59:32.288703Z",
     "iopub.status.busy": "2022-08-27T05:59:32.288512Z",
     "iopub.status.idle": "2022-08-27T07:01:27.246705Z",
     "shell.execute_reply": "2022-08-27T07:01:27.245903Z"
    },
    "papermill": {
     "duration": 3715.044922,
     "end_time": "2022-08-27T07:01:27.318816",
     "exception": false,
     "start_time": "2022-08-27T05:59:32.273894",
     "status": "completed"
    },
    "tags": []
   },
   "outputs": [
    {
     "name": "stderr",
     "output_type": "stream",
     "text": [
      "ENSG00000106018 / ENSG00000106018: : 39621it [1:01:54, 10.67it/s]\n"
     ]
    },
    {
     "data": {
      "text/plain": [
       "PosixPath('/project/ritchie20/projects/phenoplier/base/results/gls/gene_corrs/cohorts/phenomexcan_rapid_gwas/gtex_v8/mashr/by_chr/gene_corrs-chr7.pkl')"
      ]
     },
     "metadata": {},
     "output_type": "display_data"
    }
   ],
   "source": [
    "gene_corrs = []\n",
    "gene_corrs_data = np.full(\n",
    "    (n, n),\n",
    "    np.nan,\n",
    "    dtype=np.float64,\n",
    ")\n",
    "\n",
    "i = 0\n",
    "with tqdm(ncols=100, total=n_comb) as pbar:\n",
    "    for gene1_idx in range(0, len(gene_chr_objs)):\n",
    "        gene1_obj = gene_chr_objs[gene1_idx]\n",
    "        gene1_tissues = spredixcan_genes_models.loc[gene1_obj.ensembl_id, \"tissue\"]\n",
    "\n",
    "        for gene2_idx in range(gene1_idx, len(gene_chr_objs)):\n",
    "            gene2_obj = gene_chr_objs[gene2_idx]\n",
    "            gene2_tissues = spredixcan_genes_models.loc[gene2_obj.ensembl_id, \"tissue\"]\n",
    "\n",
    "            pbar.set_description(f\"{gene1_obj.ensembl_id} / {gene2_obj.ensembl_id}\")\n",
    "\n",
    "            try:\n",
    "                r = gene1_obj.get_ssm_correlation(\n",
    "                    other_gene=gene2_obj,\n",
    "                    tissues=gene1_tissues,\n",
    "                    other_tissues=gene2_tissues,\n",
    "                    snps_subset=gwas_variants_ids_set,\n",
    "                    condition_number=SMULTIXCAN_CONDITION_NUMBER,\n",
    "                    reference_panel=REFERENCE_PANEL,\n",
    "                    model_type=EQTL_MODEL,\n",
    "                    use_within_distance=COMPUTE_CORRELATIONS_WITHIN_DISTANCE,\n",
    "                )\n",
    "\n",
    "                if r is None:\n",
    "                    # if r is None, it's very likely because:\n",
    "                    #  * one of the genes has no prediction models\n",
    "                    #  * all the SNPs predictors for the gene are not present in the reference\n",
    "                    #    panel\n",
    "\n",
    "                    r = 0.0\n",
    "\n",
    "                gene_corrs.append(r)\n",
    "\n",
    "                gene_corrs_data[gene1_idx, gene2_idx] = r\n",
    "                gene_corrs_data[gene2_idx, gene1_idx] = r\n",
    "            except Warning as e:\n",
    "                if not DEBUG_MODE:\n",
    "                    raise e\n",
    "\n",
    "                print(\n",
    "                    f\"RuntimeWarning for genes {gene1_obj.ensembl_id} and {gene2_obj.ensembl_id}\",\n",
    "                    flush=True,\n",
    "                )\n",
    "                print(traceback.format_exc(), flush=True)\n",
    "\n",
    "                gene_corrs.append(np.nan)\n",
    "            except Exception as e:\n",
    "                if not DEBUG_MODE:\n",
    "                    raise e\n",
    "\n",
    "                print(\n",
    "                    f\"Exception for genes {gene1_obj.ensembl_id} and {gene2_obj.ensembl_id}\",\n",
    "                    flush=True,\n",
    "                )\n",
    "                print(traceback.format_exc(), flush=True)\n",
    "\n",
    "                gene_corrs.append(np.nan)\n",
    "\n",
    "            pbar.update(1)\n",
    "\n",
    "# create a pandas series\n",
    "gene_corrs_flat = pd.Series(gene_corrs)\n",
    "\n",
    "# save\n",
    "# FIXME: consider saving only the condenced matrix here. See here for\n",
    "# more details: https://github.com/greenelab/phenoplier/pull/38#discussion_r634600813\n",
    "# gene_corrs_data = squareform(np.array(gene_corrs, dtype=np.float64))\n",
    "# np.fill_diagonal(gene_corrs_data, 1.0)\n",
    "\n",
    "gene_chr_ids = [g.ensembl_id for g in gene_chr_objs]\n",
    "gene_corrs_df = pd.DataFrame(\n",
    "    data=gene_corrs_data,\n",
    "    index=gene_chr_ids,\n",
    "    columns=gene_chr_ids,\n",
    ")\n",
    "\n",
    "output_dir.mkdir(exist_ok=True, parents=True)\n",
    "display(output_file)\n",
    "\n",
    "gene_corrs_df.to_pickle(output_file)"
   ]
  },
  {
   "cell_type": "markdown",
   "id": "faa67b51-5373-470f-aa72-2ded53fa6dfe",
   "metadata": {
    "papermill": {
     "duration": 2.589736,
     "end_time": "2022-08-27T07:01:32.349661",
     "exception": false,
     "start_time": "2022-08-27T07:01:29.759925",
     "status": "completed"
    },
    "tags": []
   },
   "source": [
    "# Testing"
   ]
  },
  {
   "cell_type": "code",
   "execution_count": 30,
   "id": "14f7d046-4b55-4896-a56b-990127bcc388",
   "metadata": {
    "execution": {
     "iopub.execute_input": "2022-08-27T07:01:37.389591Z",
     "iopub.status.busy": "2022-08-27T07:01:37.389320Z",
     "iopub.status.idle": "2022-08-27T07:01:37.608225Z",
     "shell.execute_reply": "2022-08-27T07:01:37.607676Z"
    },
    "papermill": {
     "duration": 2.812814,
     "end_time": "2022-08-27T07:01:37.609778",
     "exception": false,
     "start_time": "2022-08-27T07:01:34.796964",
     "status": "completed"
    },
    "tags": []
   },
   "outputs": [
    {
     "data": {
      "text/plain": [
       "(281, 281)"
      ]
     },
     "execution_count": 30,
     "metadata": {},
     "output_type": "execute_result"
    }
   ],
   "source": [
    "gene_corrs_df.shape"
   ]
  },
  {
   "cell_type": "code",
   "execution_count": 31,
   "id": "c7d15414-3297-4537-a7c6-7588c0baeb75",
   "metadata": {
    "execution": {
     "iopub.execute_input": "2022-08-27T07:01:42.766720Z",
     "iopub.status.busy": "2022-08-27T07:01:42.766453Z",
     "iopub.status.idle": "2022-08-27T07:01:42.807647Z",
     "shell.execute_reply": "2022-08-27T07:01:42.807089Z"
    },
    "papermill": {
     "duration": 2.596763,
     "end_time": "2022-08-27T07:01:42.809169",
     "exception": false,
     "start_time": "2022-08-27T07:01:40.212406",
     "status": "completed"
    },
    "tags": []
   },
   "outputs": [
    {
     "data": {
      "text/html": [
       "<div>\n",
       "<style scoped>\n",
       "    .dataframe tbody tr th:only-of-type {\n",
       "        vertical-align: middle;\n",
       "    }\n",
       "\n",
       "    .dataframe tbody tr th {\n",
       "        vertical-align: top;\n",
       "    }\n",
       "\n",
       "    .dataframe thead th {\n",
       "        text-align: right;\n",
       "    }\n",
       "</style>\n",
       "<table border=\"1\" class=\"dataframe\">\n",
       "  <thead>\n",
       "    <tr style=\"text-align: right;\">\n",
       "      <th></th>\n",
       "      <th>ENSG00000197461</th>\n",
       "      <th>ENSG00000188191</th>\n",
       "      <th>ENSG00000105963</th>\n",
       "      <th>ENSG00000198517</th>\n",
       "      <th>ENSG00000002822</th>\n",
       "      <th>ENSG00000106263</th>\n",
       "      <th>ENSG00000136213</th>\n",
       "      <th>ENSG00000106003</th>\n",
       "      <th>ENSG00000146535</th>\n",
       "      <th>ENSG00000198286</th>\n",
       "      <th>...</th>\n",
       "      <th>ENSG00000164889</th>\n",
       "      <th>ENSG00000033100</th>\n",
       "      <th>ENSG00000082014</th>\n",
       "      <th>ENSG00000013374</th>\n",
       "      <th>ENSG00000106615</th>\n",
       "      <th>ENSG00000106617</th>\n",
       "      <th>ENSG00000178234</th>\n",
       "      <th>ENSG00000009335</th>\n",
       "      <th>ENSG00000155093</th>\n",
       "      <th>ENSG00000106018</th>\n",
       "    </tr>\n",
       "  </thead>\n",
       "  <tbody>\n",
       "    <tr>\n",
       "      <th>ENSG00000197461</th>\n",
       "      <td>1.000000</td>\n",
       "      <td>0.082595</td>\n",
       "      <td>0.033130</td>\n",
       "      <td>0.002590</td>\n",
       "      <td>0.012734</td>\n",
       "      <td>0.009445</td>\n",
       "      <td>0.017056</td>\n",
       "      <td>0.011054</td>\n",
       "      <td>0.011194</td>\n",
       "      <td>0.014158</td>\n",
       "      <td>...</td>\n",
       "      <td>0.010546</td>\n",
       "      <td>0.008775</td>\n",
       "      <td>0.008460</td>\n",
       "      <td>0.012399</td>\n",
       "      <td>0.005703</td>\n",
       "      <td>0.011135</td>\n",
       "      <td>0.007098</td>\n",
       "      <td>0.007372</td>\n",
       "      <td>0.006013</td>\n",
       "      <td>0.013338</td>\n",
       "    </tr>\n",
       "    <tr>\n",
       "      <th>ENSG00000188191</th>\n",
       "      <td>0.082595</td>\n",
       "      <td>1.000000</td>\n",
       "      <td>0.077797</td>\n",
       "      <td>0.004527</td>\n",
       "      <td>0.009278</td>\n",
       "      <td>0.002530</td>\n",
       "      <td>0.009121</td>\n",
       "      <td>0.004791</td>\n",
       "      <td>0.003789</td>\n",
       "      <td>0.007682</td>\n",
       "      <td>...</td>\n",
       "      <td>0.008387</td>\n",
       "      <td>0.006401</td>\n",
       "      <td>0.004025</td>\n",
       "      <td>0.007156</td>\n",
       "      <td>0.005831</td>\n",
       "      <td>0.008356</td>\n",
       "      <td>0.003176</td>\n",
       "      <td>0.007487</td>\n",
       "      <td>0.009695</td>\n",
       "      <td>0.009291</td>\n",
       "    </tr>\n",
       "    <tr>\n",
       "      <th>ENSG00000105963</th>\n",
       "      <td>0.033130</td>\n",
       "      <td>0.077797</td>\n",
       "      <td>1.000000</td>\n",
       "      <td>0.011086</td>\n",
       "      <td>0.017026</td>\n",
       "      <td>0.006445</td>\n",
       "      <td>0.011589</td>\n",
       "      <td>0.010492</td>\n",
       "      <td>0.014121</td>\n",
       "      <td>0.018254</td>\n",
       "      <td>...</td>\n",
       "      <td>0.011339</td>\n",
       "      <td>0.012057</td>\n",
       "      <td>0.010532</td>\n",
       "      <td>0.017983</td>\n",
       "      <td>0.009289</td>\n",
       "      <td>0.019233</td>\n",
       "      <td>0.004458</td>\n",
       "      <td>0.013607</td>\n",
       "      <td>0.012839</td>\n",
       "      <td>0.018787</td>\n",
       "    </tr>\n",
       "    <tr>\n",
       "      <th>ENSG00000198517</th>\n",
       "      <td>0.002590</td>\n",
       "      <td>0.004527</td>\n",
       "      <td>0.011086</td>\n",
       "      <td>1.000000</td>\n",
       "      <td>0.008667</td>\n",
       "      <td>0.008283</td>\n",
       "      <td>0.009886</td>\n",
       "      <td>0.007411</td>\n",
       "      <td>0.004865</td>\n",
       "      <td>0.005604</td>\n",
       "      <td>...</td>\n",
       "      <td>0.005938</td>\n",
       "      <td>0.007713</td>\n",
       "      <td>0.004521</td>\n",
       "      <td>0.009984</td>\n",
       "      <td>0.003700</td>\n",
       "      <td>0.006290</td>\n",
       "      <td>0.003330</td>\n",
       "      <td>0.002786</td>\n",
       "      <td>0.013700</td>\n",
       "      <td>0.002594</td>\n",
       "    </tr>\n",
       "    <tr>\n",
       "      <th>ENSG00000002822</th>\n",
       "      <td>0.012734</td>\n",
       "      <td>0.009278</td>\n",
       "      <td>0.017026</td>\n",
       "      <td>0.008667</td>\n",
       "      <td>1.000000</td>\n",
       "      <td>0.022969</td>\n",
       "      <td>0.043785</td>\n",
       "      <td>0.018512</td>\n",
       "      <td>0.014597</td>\n",
       "      <td>0.018587</td>\n",
       "      <td>...</td>\n",
       "      <td>0.009907</td>\n",
       "      <td>0.014585</td>\n",
       "      <td>0.014333</td>\n",
       "      <td>0.016773</td>\n",
       "      <td>0.008728</td>\n",
       "      <td>0.017551</td>\n",
       "      <td>0.004579</td>\n",
       "      <td>0.011618</td>\n",
       "      <td>0.009586</td>\n",
       "      <td>0.014025</td>\n",
       "    </tr>\n",
       "  </tbody>\n",
       "</table>\n",
       "<p>5 rows × 281 columns</p>\n",
       "</div>"
      ],
      "text/plain": [
       "                 ENSG00000197461  ENSG00000188191  ENSG00000105963  \\\n",
       "ENSG00000197461         1.000000         0.082595         0.033130   \n",
       "ENSG00000188191         0.082595         1.000000         0.077797   \n",
       "ENSG00000105963         0.033130         0.077797         1.000000   \n",
       "ENSG00000198517         0.002590         0.004527         0.011086   \n",
       "ENSG00000002822         0.012734         0.009278         0.017026   \n",
       "\n",
       "                 ENSG00000198517  ENSG00000002822  ENSG00000106263  \\\n",
       "ENSG00000197461         0.002590         0.012734         0.009445   \n",
       "ENSG00000188191         0.004527         0.009278         0.002530   \n",
       "ENSG00000105963         0.011086         0.017026         0.006445   \n",
       "ENSG00000198517         1.000000         0.008667         0.008283   \n",
       "ENSG00000002822         0.008667         1.000000         0.022969   \n",
       "\n",
       "                 ENSG00000136213  ENSG00000106003  ENSG00000146535  \\\n",
       "ENSG00000197461         0.017056         0.011054         0.011194   \n",
       "ENSG00000188191         0.009121         0.004791         0.003789   \n",
       "ENSG00000105963         0.011589         0.010492         0.014121   \n",
       "ENSG00000198517         0.009886         0.007411         0.004865   \n",
       "ENSG00000002822         0.043785         0.018512         0.014597   \n",
       "\n",
       "                 ENSG00000198286  ...  ENSG00000164889  ENSG00000033100  \\\n",
       "ENSG00000197461         0.014158  ...         0.010546         0.008775   \n",
       "ENSG00000188191         0.007682  ...         0.008387         0.006401   \n",
       "ENSG00000105963         0.018254  ...         0.011339         0.012057   \n",
       "ENSG00000198517         0.005604  ...         0.005938         0.007713   \n",
       "ENSG00000002822         0.018587  ...         0.009907         0.014585   \n",
       "\n",
       "                 ENSG00000082014  ENSG00000013374  ENSG00000106615  \\\n",
       "ENSG00000197461         0.008460         0.012399         0.005703   \n",
       "ENSG00000188191         0.004025         0.007156         0.005831   \n",
       "ENSG00000105963         0.010532         0.017983         0.009289   \n",
       "ENSG00000198517         0.004521         0.009984         0.003700   \n",
       "ENSG00000002822         0.014333         0.016773         0.008728   \n",
       "\n",
       "                 ENSG00000106617  ENSG00000178234  ENSG00000009335  \\\n",
       "ENSG00000197461         0.011135         0.007098         0.007372   \n",
       "ENSG00000188191         0.008356         0.003176         0.007487   \n",
       "ENSG00000105963         0.019233         0.004458         0.013607   \n",
       "ENSG00000198517         0.006290         0.003330         0.002786   \n",
       "ENSG00000002822         0.017551         0.004579         0.011618   \n",
       "\n",
       "                 ENSG00000155093  ENSG00000106018  \n",
       "ENSG00000197461         0.006013         0.013338  \n",
       "ENSG00000188191         0.009695         0.009291  \n",
       "ENSG00000105963         0.012839         0.018787  \n",
       "ENSG00000198517         0.013700         0.002594  \n",
       "ENSG00000002822         0.009586         0.014025  \n",
       "\n",
       "[5 rows x 281 columns]"
      ]
     },
     "execution_count": 31,
     "metadata": {},
     "output_type": "execute_result"
    }
   ],
   "source": [
    "gene_corrs_df.head()"
   ]
  },
  {
   "cell_type": "markdown",
   "id": "dad6603f-01c6-41fb-a6f6-241051207dd8",
   "metadata": {
    "papermill": {
     "duration": 2.502723,
     "end_time": "2022-08-27T07:01:47.749714",
     "exception": false,
     "start_time": "2022-08-27T07:01:45.246991",
     "status": "completed"
    },
    "tags": []
   },
   "source": [
    "## Standard checks and stats"
   ]
  },
  {
   "cell_type": "code",
   "execution_count": 32,
   "id": "286686af-1b7b-4440-8453-6bdcbd8de19c",
   "metadata": {
    "execution": {
     "iopub.execute_input": "2022-08-27T07:01:52.794809Z",
     "iopub.status.busy": "2022-08-27T07:01:52.794538Z",
     "iopub.status.idle": "2022-08-27T07:01:52.815748Z",
     "shell.execute_reply": "2022-08-27T07:01:52.815223Z"
    },
    "papermill": {
     "duration": 2.496186,
     "end_time": "2022-08-27T07:01:52.817326",
     "exception": false,
     "start_time": "2022-08-27T07:01:50.321140",
     "status": "completed"
    },
    "tags": []
   },
   "outputs": [],
   "source": [
    "assert not gene_corrs_df.isna().any().any()"
   ]
  },
  {
   "cell_type": "code",
   "execution_count": 33,
   "id": "00583efc-7068-4270-ad1e-4a418e91db96",
   "metadata": {
    "execution": {
     "iopub.execute_input": "2022-08-27T07:01:57.869817Z",
     "iopub.status.busy": "2022-08-27T07:01:57.869552Z",
     "iopub.status.idle": "2022-08-27T07:01:57.891965Z",
     "shell.execute_reply": "2022-08-27T07:01:57.891467Z"
    },
    "papermill": {
     "duration": 2.555853,
     "end_time": "2022-08-27T07:01:57.893485",
     "exception": false,
     "start_time": "2022-08-27T07:01:55.337632",
     "status": "completed"
    },
    "tags": []
   },
   "outputs": [
    {
     "data": {
      "text/plain": [
       "4.787755118705365e-07"
      ]
     },
     "metadata": {},
     "output_type": "display_data"
    }
   ],
   "source": [
    "_min_val = gene_corrs_df.min().min()\n",
    "display(_min_val)\n",
    "assert _min_val >= -0.05"
   ]
  },
  {
   "cell_type": "code",
   "execution_count": 34,
   "id": "d04fb2cf-1050-475b-b855-f5f7cc04092b",
   "metadata": {
    "execution": {
     "iopub.execute_input": "2022-08-27T07:02:02.909911Z",
     "iopub.status.busy": "2022-08-27T07:02:02.909656Z",
     "iopub.status.idle": "2022-08-27T07:02:02.947611Z",
     "shell.execute_reply": "2022-08-27T07:02:02.947108Z"
    },
    "papermill": {
     "duration": 2.525953,
     "end_time": "2022-08-27T07:02:02.949041",
     "exception": false,
     "start_time": "2022-08-27T07:02:00.423088",
     "status": "completed"
    },
    "tags": []
   },
   "outputs": [
    {
     "data": {
      "text/plain": [
       "1.000000000000003"
      ]
     },
     "metadata": {},
     "output_type": "display_data"
    }
   ],
   "source": [
    "_max_val = gene_corrs_df.max().max()  # this captures the diagonal\n",
    "display(_max_val)\n",
    "assert _max_val <= 1.05"
   ]
  },
  {
   "cell_type": "code",
   "execution_count": 35,
   "id": "96d02c44-1fba-47be-8a93-8f2608420b9c",
   "metadata": {
    "execution": {
     "iopub.execute_input": "2022-08-27T07:02:07.900823Z",
     "iopub.status.busy": "2022-08-27T07:02:07.900559Z",
     "iopub.status.idle": "2022-08-27T07:02:07.926207Z",
     "shell.execute_reply": "2022-08-27T07:02:07.925707Z"
    },
    "papermill": {
     "duration": 2.520031,
     "end_time": "2022-08-27T07:02:07.927872",
     "exception": false,
     "start_time": "2022-08-27T07:02:05.407841",
     "status": "completed"
    },
    "tags": []
   },
   "outputs": [],
   "source": [
    "# check upper triangular values\n",
    "# assert len(gene_corrs) == int(genes_chr.shape[0] * (genes_chr.shape[0] - 1) / 2)"
   ]
  },
  {
   "cell_type": "code",
   "execution_count": 36,
   "id": "fe283586-c348-40e0-8841-f6d97bfb021c",
   "metadata": {
    "execution": {
     "iopub.execute_input": "2022-08-27T07:02:12.963568Z",
     "iopub.status.busy": "2022-08-27T07:02:12.963304Z",
     "iopub.status.idle": "2022-08-27T07:02:12.987825Z",
     "shell.execute_reply": "2022-08-27T07:02:12.987320Z"
    },
    "papermill": {
     "duration": 2.515835,
     "end_time": "2022-08-27T07:02:12.989347",
     "exception": false,
     "start_time": "2022-08-27T07:02:10.473512",
     "status": "completed"
    },
    "tags": []
   },
   "outputs": [
    {
     "data": {
      "text/plain": [
       "count    3.962100e+04\n",
       "mean     1.580959e-02\n",
       "std      8.857340e-02\n",
       "min      4.787755e-07\n",
       "25%      3.972775e-03\n",
       "50%      5.988565e-03\n",
       "75%      8.445729e-03\n",
       "max      1.000000e+00\n",
       "dtype: float64"
      ]
     },
     "execution_count": 36,
     "metadata": {},
     "output_type": "execute_result"
    }
   ],
   "source": [
    "gene_corrs_flat.describe()"
   ]
  },
  {
   "cell_type": "code",
   "execution_count": 37,
   "id": "b3815678-0f93-4b35-897b-a9d047a2aa78",
   "metadata": {
    "execution": {
     "iopub.execute_input": "2022-08-27T07:02:17.977174Z",
     "iopub.status.busy": "2022-08-27T07:02:17.976920Z",
     "iopub.status.idle": "2022-08-27T07:02:18.001432Z",
     "shell.execute_reply": "2022-08-27T07:02:18.000925Z"
    },
    "papermill": {
     "duration": 2.510176,
     "end_time": "2022-08-27T07:02:18.002852",
     "exception": false,
     "start_time": "2022-08-27T07:02:15.492676",
     "status": "completed"
    },
    "tags": []
   },
   "outputs": [
    {
     "data": {
      "text/plain": [
       "0.00    4.787755e-07\n",
       "0.05    1.652752e-03\n",
       "0.10    2.433515e-03\n",
       "0.15    3.020572e-03\n",
       "0.20    3.508801e-03\n",
       "0.25    3.972775e-03\n",
       "0.30    4.397940e-03\n",
       "0.35    4.799608e-03\n",
       "0.40    5.195923e-03\n",
       "0.45    5.596361e-03\n",
       "0.50    5.988565e-03\n",
       "0.55    6.420220e-03\n",
       "0.60    6.866172e-03\n",
       "0.65    7.339863e-03\n",
       "0.70    7.859625e-03\n",
       "0.75    8.445729e-03\n",
       "0.80    9.095698e-03\n",
       "0.85    9.888883e-03\n",
       "0.90    1.101983e-02\n",
       "0.95    1.317748e-02\n",
       "dtype: float64"
      ]
     },
     "metadata": {},
     "output_type": "display_data"
    }
   ],
   "source": [
    "gene_corrs_quantiles = gene_corrs_flat.quantile(np.arange(0, 1, 0.05))\n",
    "display(gene_corrs_quantiles)"
   ]
  },
  {
   "cell_type": "markdown",
   "id": "87134509-b145-4a10-8bc9-b7e914c2b0fa",
   "metadata": {
    "papermill": {
     "duration": 2.492628,
     "end_time": "2022-08-27T07:02:22.998409",
     "exception": false,
     "start_time": "2022-08-27T07:02:20.505781",
     "status": "completed"
    },
    "tags": []
   },
   "source": [
    "## Positive definiteness"
   ]
  },
  {
   "cell_type": "code",
   "execution_count": 38,
   "id": "07d9a9a1-a4f7-48aa-b916-6d42a8cc6186",
   "metadata": {
    "execution": {
     "iopub.execute_input": "2022-08-27T07:02:28.033200Z",
     "iopub.status.busy": "2022-08-27T07:02:28.032921Z",
     "iopub.status.idle": "2022-08-27T07:02:28.218253Z",
     "shell.execute_reply": "2022-08-27T07:02:28.217724Z"
    },
    "papermill": {
     "duration": 2.779351,
     "end_time": "2022-08-27T07:02:28.219783",
     "exception": false,
     "start_time": "2022-08-27T07:02:25.440432",
     "status": "completed"
    },
    "tags": []
   },
   "outputs": [
    {
     "data": {
      "text/plain": [
       "0"
      ]
     },
     "metadata": {},
     "output_type": "display_data"
    },
    {
     "data": {
      "text/plain": [
       "array([], dtype=float64)"
      ]
     },
     "metadata": {},
     "output_type": "display_data"
    }
   ],
   "source": [
    "# print negative eigenvalues\n",
    "eigs = np.linalg.eigvals(gene_corrs_df.to_numpy())\n",
    "display(len(eigs[eigs < 0]))\n",
    "display(eigs[eigs < 0])"
   ]
  },
  {
   "cell_type": "code",
   "execution_count": 39,
   "id": "6e218436-c3c5-4028-8c94-a4fa6260efce",
   "metadata": {
    "execution": {
     "iopub.execute_input": "2022-08-27T07:02:33.184939Z",
     "iopub.status.busy": "2022-08-27T07:02:33.184682Z",
     "iopub.status.idle": "2022-08-27T07:02:33.210607Z",
     "shell.execute_reply": "2022-08-27T07:02:33.210063Z"
    },
    "papermill": {
     "duration": 2.531166,
     "end_time": "2022-08-27T07:02:33.212112",
     "exception": false,
     "start_time": "2022-08-27T07:02:30.680946",
     "status": "completed"
    },
    "tags": []
   },
   "outputs": [
    {
     "name": "stdout",
     "output_type": "stream",
     "text": [
      "Works!\n"
     ]
    }
   ],
   "source": [
    "try:\n",
    "    chol_mat = np.linalg.cholesky(gene_corrs_df.to_numpy())\n",
    "    cov_inv = np.linalg.inv(chol_mat)\n",
    "    print(\"Works!\")\n",
    "except Exception as e:\n",
    "    print(f\"Cholesky decomposition failed: {str(e)}\")"
   ]
  },
  {
   "cell_type": "code",
   "execution_count": 40,
   "id": "dd8827fb-faf9-4c7c-9454-015e94752706",
   "metadata": {
    "execution": {
     "iopub.execute_input": "2022-08-27T07:02:38.133164Z",
     "iopub.status.busy": "2022-08-27T07:02:38.132914Z",
     "iopub.status.idle": "2022-08-27T07:02:38.198105Z",
     "shell.execute_reply": "2022-08-27T07:02:38.197599Z"
    },
    "papermill": {
     "duration": 2.516758,
     "end_time": "2022-08-27T07:02:38.199566",
     "exception": false,
     "start_time": "2022-08-27T07:02:35.682808",
     "status": "completed"
    },
    "tags": []
   },
   "outputs": [
    {
     "name": "stdout",
     "output_type": "stream",
     "text": [
      "Works!\n"
     ]
    }
   ],
   "source": [
    "try:\n",
    "    # decomposition used by statsmodels.GLS\n",
    "    cholsigmainv = np.linalg.cholesky(np.linalg.inv(gene_corrs_df.to_numpy())).T\n",
    "    print(\"Works!\")\n",
    "except Exception as e:\n",
    "    print(f\"Cholesky decomposition failed (statsmodels.GLS): {str(e)}\")"
   ]
  },
  {
   "cell_type": "markdown",
   "id": "8e60a080-edb2-4e9c-b2ef-22961693200c",
   "metadata": {
    "papermill": {
     "duration": 2.519254,
     "end_time": "2022-08-27T07:02:43.174099",
     "exception": false,
     "start_time": "2022-08-27T07:02:40.654845",
     "status": "completed"
    },
    "tags": []
   },
   "source": [
    "## Plot: distribution"
   ]
  },
  {
   "cell_type": "code",
   "execution_count": 41,
   "id": "8301126b-a7d4-4744-9c7d-f0f86eb6f54c",
   "metadata": {
    "execution": {
     "iopub.execute_input": "2022-08-27T07:02:48.223082Z",
     "iopub.status.busy": "2022-08-27T07:02:48.222820Z",
     "iopub.status.idle": "2022-08-27T07:02:56.155862Z",
     "shell.execute_reply": "2022-08-27T07:02:56.155319Z"
    },
    "papermill": {
     "duration": 10.459934,
     "end_time": "2022-08-27T07:02:56.157457",
     "exception": false,
     "start_time": "2022-08-27T07:02:45.697523",
     "status": "completed"
    },
    "tags": []
   },
   "outputs": [
    {
     "data": {
      "image/png": "[encoded data removed]",
      "text/plain": [
       "<Figure size 504x504 with 1 Axes>"
      ]
     },
     "metadata": {
      "needs_background": "light"
     },
     "output_type": "display_data"
    }
   ],
   "source": [
    "with sns.plotting_context(\"paper\", font_scale=1.5):\n",
    "    g = sns.displot(gene_corrs_flat, kde=True, height=7)\n",
    "    g.ax.set_title(\n",
    "        f\"Distribution of gene correlation values in chromosome {CHROMOSOME}\"\n",
    "    )"
   ]
  },
  {
   "cell_type": "markdown",
   "id": "cbd52bca-d878-4a2f-b684-5c83aa3038d4",
   "metadata": {
    "papermill": {
     "duration": 2.481088,
     "end_time": "2022-08-27T07:03:01.131534",
     "exception": false,
     "start_time": "2022-08-27T07:02:58.650446",
     "status": "completed"
    },
    "tags": []
   },
   "source": [
    "## Plot: heatmap"
   ]
  },
  {
   "cell_type": "code",
   "execution_count": 42,
   "id": "d03fe63a-c7b2-4fb9-a53c-db362ce843c9",
   "metadata": {
    "execution": {
     "iopub.execute_input": "2022-08-27T07:03:06.186111Z",
     "iopub.status.busy": "2022-08-27T07:03:06.185856Z",
     "iopub.status.idle": "2022-08-27T07:03:06.227475Z",
     "shell.execute_reply": "2022-08-27T07:03:06.226973Z"
    },
    "papermill": {
     "duration": 2.454464,
     "end_time": "2022-08-27T07:03:06.228897",
     "exception": false,
     "start_time": "2022-08-27T07:03:03.774433",
     "status": "completed"
    },
    "tags": []
   },
   "outputs": [
    {
     "data": {
      "text/plain": [
       "'0.0 / 0.05'"
      ]
     },
     "metadata": {},
     "output_type": "display_data"
    }
   ],
   "source": [
    "vmin_val = min(0.00, gene_corrs_quantiles[0.10])\n",
    "vmax_val = max(0.05, gene_corrs_quantiles[0.90])\n",
    "display(f\"{vmin_val} / {vmax_val}\")"
   ]
  },
  {
   "cell_type": "code",
   "execution_count": 43,
   "id": "dc41b70b-5bcc-4d9e-9f33-a22c4a94dab5",
   "metadata": {
    "execution": {
     "iopub.execute_input": "2022-08-27T07:03:11.202546Z",
     "iopub.status.busy": "2022-08-27T07:03:11.202275Z",
     "iopub.status.idle": "2022-08-27T07:03:11.458956Z",
     "shell.execute_reply": "2022-08-27T07:03:11.458405Z"
    },
    "papermill": {
     "duration": 2.740085,
     "end_time": "2022-08-27T07:03:11.460574",
     "exception": false,
     "start_time": "2022-08-27T07:03:08.720489",
     "status": "completed"
    },
    "tags": []
   },
   "outputs": [
    {
     "data": {
      "text/plain": [
       "Text(0.5, 1.0, 'Gene correlations in chromosome 7')"
      ]
     },
     "execution_count": 43,
     "metadata": {},
     "output_type": "execute_result"
    },
    {
     "data": {
      "image/png": "[encoded data removed]",
      "text/plain": [
       "<Figure size 720x720 with 2 Axes>"
      ]
     },
     "metadata": {
      "needs_background": "light"
     },
     "output_type": "display_data"
    }
   ],
   "source": [
    "f, ax = plt.subplots(figsize=(10, 10))\n",
    "sns.heatmap(\n",
    "    gene_corrs_df,\n",
    "    xticklabels=False,\n",
    "    yticklabels=False,\n",
    "    square=True,\n",
    "    vmin=vmin_val,\n",
    "    vmax=vmax_val,\n",
    "    cmap=\"rocket_r\",\n",
    "    ax=ax,\n",
    ")\n",
    "ax.set_title(f\"Gene correlations in chromosome {CHROMOSOME}\")"
   ]
  },
  {
   "cell_type": "code",
   "execution_count": null,
   "id": "b25e3ead",
   "metadata": {
    "papermill": {
     "duration": 2.52422,
     "end_time": "2022-08-27T07:03:16.469952",
     "exception": false,
     "start_time": "2022-08-27T07:03:13.945732",
     "status": "completed"
    },
    "tags": []
   },
   "outputs": [],
   "source": []
  }
 ],
 "metadata": {
  "jupytext": {
   "cell_metadata_filter": "all,-execution,-papermill,-trusted",
   "formats": "ipynb,py//py:percent"
  },
  "kernelspec": {
   "display_name": "Python 3 (ipykernel)",
   "language": "python",
   "name": "python3"
  },
  "language_info": {
   "codemirror_mode": {
    "name": "ipython",
    "version": 3
   },
   "file_extension": ".py",
   "mimetype": "text/x-python",
   "name": "python",
   "nbconvert_exporter": "python",
   "pygments_lexer": "ipython3",
   "version": "3.8.13"
  },
  "papermill": {
   "default_parameters": {},
   "duration": 3849.923508,
   "end_time": "2022-08-27T07:03:22.178339",
   "environment_variables": {},
   "exception": null,
   "input_path": "nbs/15_gsa_gls/10-gene_expr_correlations.ipynb",
   "output_path": "nbs/15_gsa_gls/gene_corrs/cohorts/phenomexcan_rapid_gwas/gtex_v8/mashr/10-gene_expr_corrs/10-gene_expr_correlations-chr7.run.ipynb",
   "parameters": {
    "CHROMOSOME": 7,
    "COHORT_NAME": "phenomexcan_rapid_gwas",
    "EQTL_MODEL": "MASHR",
    "REFERENCE_PANEL": "GTEX_V8"
   },
   "start_time": "2022-08-27T05:59:12.254831",
   "version": "2.2.2"
  }
 },
 "nbformat": 4,
 "nbformat_minor": 5
}
