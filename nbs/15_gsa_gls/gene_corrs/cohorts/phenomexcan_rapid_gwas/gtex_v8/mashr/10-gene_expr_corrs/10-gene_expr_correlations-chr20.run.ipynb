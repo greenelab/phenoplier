{
 "cells": [
  {
   "cell_type": "markdown",
   "id": "7a6632fb",
   "metadata": {
    "papermill": {
     "duration": 0.050126,
     "end_time": "2022-08-27T05:59:10.161104",
     "exception": false,
     "start_time": "2022-08-27T05:59:10.110978",
     "status": "completed"
    },
    "tags": []
   },
   "source": [
    "# Description"
   ]
  },
  {
   "cell_type": "markdown",
   "id": "7097c346",
   "metadata": {
    "papermill": {
     "duration": 0.03096,
     "end_time": "2022-08-27T05:59:10.212771",
     "exception": false,
     "start_time": "2022-08-27T05:59:10.181811",
     "status": "completed"
    },
    "tags": []
   },
   "source": [
    "(Please, take a look at the README.md file in this directory for instructions on how to run this notebook)\n",
    "\n",
    "This notebook computes predicted expression correlations between all genes in the MultiPLIER models.\n",
    "\n",
    "It also has a parameter set for papermill to run on a single chromosome to run in parallel (see under `Settings` below).\n",
    "\n",
    "This notebook is not directly run. See README.md."
   ]
  },
  {
   "cell_type": "markdown",
   "id": "c61d8427",
   "metadata": {
    "papermill": {
     "duration": 0.03135,
     "end_time": "2022-08-27T05:59:10.303864",
     "exception": false,
     "start_time": "2022-08-27T05:59:10.272514",
     "status": "completed"
    },
    "tags": []
   },
   "source": [
    "# Modules"
   ]
  },
  {
   "cell_type": "code",
   "execution_count": 1,
   "id": "bbc0234f",
   "metadata": {
    "execution": {
     "iopub.execute_input": "2022-08-27T05:59:10.342807Z",
     "iopub.status.busy": "2022-08-27T05:59:10.342364Z",
     "iopub.status.idle": "2022-08-27T05:59:10.396601Z",
     "shell.execute_reply": "2022-08-27T05:59:10.395837Z"
    },
    "papermill": {
     "duration": 0.079021,
     "end_time": "2022-08-27T05:59:10.399190",
     "exception": false,
     "start_time": "2022-08-27T05:59:10.320169",
     "status": "completed"
    },
    "tags": []
   },
   "outputs": [],
   "source": [
    "%load_ext autoreload\n",
    "%autoreload 2"
   ]
  },
  {
   "cell_type": "code",
   "execution_count": 2,
   "id": "1d5f5a59",
   "metadata": {
    "execution": {
     "iopub.execute_input": "2022-08-27T05:59:10.448629Z",
     "iopub.status.busy": "2022-08-27T05:59:10.448365Z",
     "iopub.status.idle": "2022-08-27T05:59:16.028054Z",
     "shell.execute_reply": "2022-08-27T05:59:16.027455Z"
    },
    "papermill": {
     "duration": 5.607266,
     "end_time": "2022-08-27T05:59:16.030023",
     "exception": false,
     "start_time": "2022-08-27T05:59:10.422757",
     "status": "completed"
    },
    "tags": []
   },
   "outputs": [],
   "source": [
    "from random import sample, seed\n",
    "import warnings\n",
    "from pathlib import Path\n",
    "import pickle\n",
    "import traceback\n",
    "\n",
    "import numpy as np\n",
    "from scipy.spatial.distance import squareform\n",
    "import pandas as pd\n",
    "from tqdm import tqdm\n",
    "import matplotlib.pyplot as plt\n",
    "import seaborn as sns\n",
    "\n",
    "import conf\n",
    "from entity import Gene"
   ]
  },
  {
   "cell_type": "markdown",
   "id": "1eac24b5",
   "metadata": {
    "papermill": {
     "duration": 0.009058,
     "end_time": "2022-08-27T05:59:16.077811",
     "exception": false,
     "start_time": "2022-08-27T05:59:16.068753",
     "status": "completed"
    },
    "tags": []
   },
   "source": [
    "# Settings"
   ]
  },
  {
   "cell_type": "code",
   "execution_count": 3,
   "id": "ca4560ba",
   "metadata": {
    "execution": {
     "iopub.execute_input": "2022-08-27T05:59:16.096335Z",
     "iopub.status.busy": "2022-08-27T05:59:16.096085Z",
     "iopub.status.idle": "2022-08-27T05:59:16.117369Z",
     "shell.execute_reply": "2022-08-27T05:59:16.116886Z"
    },
    "papermill": {
     "duration": 0.032167,
     "end_time": "2022-08-27T05:59:16.119003",
     "exception": false,
     "start_time": "2022-08-27T05:59:16.086836",
     "status": "completed"
    },
    "tags": [
     "parameters"
    ]
   },
   "outputs": [],
   "source": [
    "# a cohort name (it could be something like UK_BIOBANK, etc)\n",
    "COHORT_NAME = None\n",
    "\n",
    "# reference panel such as 1000G or GTEX_V8\n",
    "REFERENCE_PANEL = None\n",
    "\n",
    "# predictions models such as MASHR or ELASTIC_NET\n",
    "EQTL_MODEL = None\n",
    "\n",
    "# this is the default value used in S-MultiXcan to select the\n",
    "# top principal components of the expression correlation matrix\n",
    "SMULTIXCAN_CONDITION_NUMBER = 30\n",
    "\n",
    "# specifies a single chromosome value\n",
    "CHROMOSOME = None\n",
    "\n",
    "# If True, computes the correlation between closeby genes only;\n",
    "# otherwise, it computes correlations for all genes in a chromosome\n",
    "COMPUTE_CORRELATIONS_WITHIN_DISTANCE = False\n",
    "\n",
    "# if True, then it will continue if a gene pair correlation fails,\n",
    "# printing the warning/error for debugging. If False, any warning/error\n",
    "# will be thrown\n",
    "DEBUG_MODE = False"
   ]
  },
  {
   "cell_type": "code",
   "execution_count": 4,
   "id": "1f49ea06",
   "metadata": {
    "execution": {
     "iopub.execute_input": "2022-08-27T05:59:16.137178Z",
     "iopub.status.busy": "2022-08-27T05:59:16.136988Z",
     "iopub.status.idle": "2022-08-27T05:59:16.153956Z",
     "shell.execute_reply": "2022-08-27T05:59:16.153446Z"
    },
    "papermill": {
     "duration": 0.027812,
     "end_time": "2022-08-27T05:59:16.155556",
     "exception": false,
     "start_time": "2022-08-27T05:59:16.127744",
     "status": "completed"
    },
    "tags": [
     "injected-parameters"
    ]
   },
   "outputs": [],
   "source": [
    "# Parameters\n",
    "COHORT_NAME = \"phenomexcan_rapid_gwas\"\n",
    "REFERENCE_PANEL = \"GTEX_V8\"\n",
    "EQTL_MODEL = \"MASHR\"\n",
    "CHROMOSOME = 20\n"
   ]
  },
  {
   "cell_type": "code",
   "execution_count": 5,
   "id": "3190631f-27fc-480f-b18e-571d580425a5",
   "metadata": {
    "execution": {
     "iopub.execute_input": "2022-08-27T05:59:16.173341Z",
     "iopub.status.busy": "2022-08-27T05:59:16.173153Z",
     "iopub.status.idle": "2022-08-27T05:59:16.193276Z",
     "shell.execute_reply": "2022-08-27T05:59:16.192791Z"
    },
    "papermill": {
     "duration": 0.030774,
     "end_time": "2022-08-27T05:59:16.194818",
     "exception": false,
     "start_time": "2022-08-27T05:59:16.164044",
     "status": "completed"
    },
    "tags": []
   },
   "outputs": [
    {
     "data": {
      "text/plain": [
       "'Cohort name: phenomexcan_rapid_gwas'"
      ]
     },
     "metadata": {},
     "output_type": "display_data"
    }
   ],
   "source": [
    "assert COHORT_NAME is not None and len(COHORT_NAME) > 0, \"A cohort name must be given\"\n",
    "\n",
    "COHORT_NAME = COHORT_NAME.lower()\n",
    "display(f\"Cohort name: {COHORT_NAME}\")"
   ]
  },
  {
   "cell_type": "code",
   "execution_count": 6,
   "id": "f53ba19b-0f93-4fa2-a047-63b375939d1a",
   "metadata": {
    "execution": {
     "iopub.execute_input": "2022-08-27T05:59:16.213381Z",
     "iopub.status.busy": "2022-08-27T05:59:16.213191Z",
     "iopub.status.idle": "2022-08-27T05:59:16.231747Z",
     "shell.execute_reply": "2022-08-27T05:59:16.231211Z"
    },
    "papermill": {
     "duration": 0.029511,
     "end_time": "2022-08-27T05:59:16.233188",
     "exception": false,
     "start_time": "2022-08-27T05:59:16.203677",
     "status": "completed"
    },
    "tags": []
   },
   "outputs": [
    {
     "data": {
      "text/plain": [
       "'Reference panel: GTEX_V8'"
      ]
     },
     "metadata": {},
     "output_type": "display_data"
    }
   ],
   "source": [
    "assert (\n",
    "    REFERENCE_PANEL is not None and len(REFERENCE_PANEL) > 0\n",
    "), \"A reference panel must be given\"\n",
    "\n",
    "display(f\"Reference panel: {REFERENCE_PANEL}\")"
   ]
  },
  {
   "cell_type": "code",
   "execution_count": 7,
   "id": "e024d130-c139-429a-9c6e-ccf149e297b0",
   "metadata": {
    "execution": {
     "iopub.execute_input": "2022-08-27T05:59:16.251692Z",
     "iopub.status.busy": "2022-08-27T05:59:16.251496Z",
     "iopub.status.idle": "2022-08-27T05:59:16.270107Z",
     "shell.execute_reply": "2022-08-27T05:59:16.269602Z"
    },
    "papermill": {
     "duration": 0.029801,
     "end_time": "2022-08-27T05:59:16.271673",
     "exception": false,
     "start_time": "2022-08-27T05:59:16.241872",
     "status": "completed"
    },
    "tags": []
   },
   "outputs": [
    {
     "data": {
      "text/plain": [
       "'eQTL model: MASHR) / mashr_'"
      ]
     },
     "metadata": {},
     "output_type": "display_data"
    }
   ],
   "source": [
    "assert (\n",
    "    EQTL_MODEL is not None and len(EQTL_MODEL) > 0\n",
    "), \"A prediction/eQTL model must be given\"\n",
    "\n",
    "EQTL_MODEL_FILES_PREFIX = conf.PHENOMEXCAN[\"PREDICTION_MODELS\"][f\"{EQTL_MODEL}_PREFIX\"]\n",
    "display(f\"eQTL model: {EQTL_MODEL}) / {EQTL_MODEL_FILES_PREFIX}\")"
   ]
  },
  {
   "cell_type": "code",
   "execution_count": 8,
   "id": "552a7f63-a18c-4d3e-bb6a-94f99b431291",
   "metadata": {
    "execution": {
     "iopub.execute_input": "2022-08-27T05:59:16.290655Z",
     "iopub.status.busy": "2022-08-27T05:59:16.290455Z",
     "iopub.status.idle": "2022-08-27T05:59:16.309263Z",
     "shell.execute_reply": "2022-08-27T05:59:16.308781Z"
    },
    "papermill": {
     "duration": 0.029855,
     "end_time": "2022-08-27T05:59:16.310754",
     "exception": false,
     "start_time": "2022-08-27T05:59:16.280899",
     "status": "completed"
    },
    "tags": []
   },
   "outputs": [
    {
     "data": {
      "text/plain": [
       "'S-MultiXcan condition number: 30'"
      ]
     },
     "metadata": {},
     "output_type": "display_data"
    }
   ],
   "source": [
    "assert (\n",
    "    SMULTIXCAN_CONDITION_NUMBER is not None and SMULTIXCAN_CONDITION_NUMBER > 0\n",
    "), \"The S-MultiXcan condition number (positive integer) must be given\"\n",
    "\n",
    "display(f\"S-MultiXcan condition number: {SMULTIXCAN_CONDITION_NUMBER}\")"
   ]
  },
  {
   "cell_type": "code",
   "execution_count": 9,
   "id": "f34a336f-548e-4afe-8955-90eaea4f42c6",
   "metadata": {
    "execution": {
     "iopub.execute_input": "2022-08-27T05:59:16.329464Z",
     "iopub.status.busy": "2022-08-27T05:59:16.329246Z",
     "iopub.status.idle": "2022-08-27T05:59:16.347640Z",
     "shell.execute_reply": "2022-08-27T05:59:16.347115Z"
    },
    "papermill": {
     "duration": 0.029547,
     "end_time": "2022-08-27T05:59:16.349140",
     "exception": false,
     "start_time": "2022-08-27T05:59:16.319593",
     "status": "completed"
    },
    "tags": []
   },
   "outputs": [
    {
     "data": {
      "text/plain": [
       "'Working on chromosome 20'"
      ]
     },
     "metadata": {},
     "output_type": "display_data"
    }
   ],
   "source": [
    "assert CHROMOSOME is not None and (\n",
    "    1 <= CHROMOSOME <= 22\n",
    "), \"You have to select one chromosome (format: number between 1 and 22)\"\n",
    "\n",
    "# CHROMOSOME = str(CHROMOSOME)\n",
    "display(f\"Working on chromosome {CHROMOSOME}\")"
   ]
  },
  {
   "cell_type": "code",
   "execution_count": 10,
   "id": "ab8e96e8-06b5-4363-9dcd-dc4d78cc27f7",
   "metadata": {
    "execution": {
     "iopub.execute_input": "2022-08-27T05:59:16.368144Z",
     "iopub.status.busy": "2022-08-27T05:59:16.367958Z",
     "iopub.status.idle": "2022-08-27T05:59:16.386276Z",
     "shell.execute_reply": "2022-08-27T05:59:16.385794Z"
    },
    "papermill": {
     "duration": 0.029318,
     "end_time": "2022-08-27T05:59:16.387786",
     "exception": false,
     "start_time": "2022-08-27T05:59:16.358468",
     "status": "completed"
    },
    "tags": []
   },
   "outputs": [
    {
     "data": {
      "text/plain": [
       "'Compute correlation within distance False'"
      ]
     },
     "metadata": {},
     "output_type": "display_data"
    }
   ],
   "source": [
    "display(f\"Compute correlation within distance {COMPUTE_CORRELATIONS_WITHIN_DISTANCE}\")"
   ]
  },
  {
   "cell_type": "code",
   "execution_count": 11,
   "id": "396392dc-0340-4540-9b02-e182b833f909",
   "metadata": {
    "execution": {
     "iopub.execute_input": "2022-08-27T05:59:16.406611Z",
     "iopub.status.busy": "2022-08-27T05:59:16.406405Z",
     "iopub.status.idle": "2022-08-27T05:59:16.427488Z",
     "shell.execute_reply": "2022-08-27T05:59:16.426987Z"
    },
    "papermill": {
     "duration": 0.032328,
     "end_time": "2022-08-27T05:59:16.428955",
     "exception": false,
     "start_time": "2022-08-27T05:59:16.396627",
     "status": "completed"
    },
    "tags": []
   },
   "outputs": [
    {
     "data": {
      "text/plain": [
       "'Using output dir base: /project/ritchie20/projects/phenoplier/base/results/gls/gene_corrs/cohorts/phenomexcan_rapid_gwas/gtex_v8/mashr'"
      ]
     },
     "metadata": {},
     "output_type": "display_data"
    }
   ],
   "source": [
    "OUTPUT_DIR_BASE = (\n",
    "    conf.RESULTS[\"GLS\"]\n",
    "    / \"gene_corrs\"\n",
    "    / \"cohorts\"\n",
    "    / COHORT_NAME\n",
    "    / REFERENCE_PANEL.lower()\n",
    "    / EQTL_MODEL.lower()\n",
    ")\n",
    "OUTPUT_DIR_BASE.mkdir(parents=True, exist_ok=True)\n",
    "\n",
    "display(f\"Using output dir base: {OUTPUT_DIR_BASE}\")"
   ]
  },
  {
   "cell_type": "markdown",
   "id": "d2ba085e",
   "metadata": {
    "papermill": {
     "duration": 0.009989,
     "end_time": "2022-08-27T05:59:16.448496",
     "exception": false,
     "start_time": "2022-08-27T05:59:16.438507",
     "status": "completed"
    },
    "tags": []
   },
   "source": [
    "# Load data"
   ]
  },
  {
   "cell_type": "markdown",
   "id": "7dcb8db7",
   "metadata": {
    "papermill": {
     "duration": 0.008992,
     "end_time": "2022-08-27T05:59:16.466787",
     "exception": false,
     "start_time": "2022-08-27T05:59:16.457795",
     "status": "completed"
    },
    "tags": []
   },
   "source": [
    "## GWAS variants"
   ]
  },
  {
   "cell_type": "code",
   "execution_count": 12,
   "id": "29434c4e-8cd3-4b9b-82e4-b5a251d9dd19",
   "metadata": {
    "execution": {
     "iopub.execute_input": "2022-08-27T05:59:16.486239Z",
     "iopub.status.busy": "2022-08-27T05:59:16.486051Z",
     "iopub.status.idle": "2022-08-27T05:59:19.050167Z",
     "shell.execute_reply": "2022-08-27T05:59:19.049572Z"
    },
    "papermill": {
     "duration": 2.576149,
     "end_time": "2022-08-27T05:59:19.052133",
     "exception": false,
     "start_time": "2022-08-27T05:59:16.475984",
     "status": "completed"
    },
    "tags": []
   },
   "outputs": [],
   "source": [
    "with open(OUTPUT_DIR_BASE / \"gwas_variant_ids.pkl\", \"rb\") as handle:\n",
    "    gwas_variants_ids_set = pickle.load(handle)"
   ]
  },
  {
   "cell_type": "code",
   "execution_count": 13,
   "id": "b9d9dec2-4a76-4bf9-bde2-e24c95acb8a0",
   "metadata": {
    "execution": {
     "iopub.execute_input": "2022-08-27T05:59:19.088325Z",
     "iopub.status.busy": "2022-08-27T05:59:19.088121Z",
     "iopub.status.idle": "2022-08-27T05:59:19.114172Z",
     "shell.execute_reply": "2022-08-27T05:59:19.113648Z"
    },
    "papermill": {
     "duration": 0.053325,
     "end_time": "2022-08-27T05:59:19.115706",
     "exception": false,
     "start_time": "2022-08-27T05:59:19.062381",
     "status": "completed"
    },
    "tags": []
   },
   "outputs": [
    {
     "data": {
      "text/plain": [
       "8496088"
      ]
     },
     "execution_count": 13,
     "metadata": {},
     "output_type": "execute_result"
    }
   ],
   "source": [
    "len(gwas_variants_ids_set)"
   ]
  },
  {
   "cell_type": "code",
   "execution_count": 14,
   "id": "4235b06a-6034-4ee4-a0a3-2ae35d122418",
   "metadata": {
    "execution": {
     "iopub.execute_input": "2022-08-27T05:59:19.144810Z",
     "iopub.status.busy": "2022-08-27T05:59:19.144600Z",
     "iopub.status.idle": "2022-08-27T05:59:19.754462Z",
     "shell.execute_reply": "2022-08-27T05:59:19.753734Z"
    },
    "papermill": {
     "duration": 0.622154,
     "end_time": "2022-08-27T05:59:19.756251",
     "exception": false,
     "start_time": "2022-08-27T05:59:19.134097",
     "status": "completed"
    },
    "tags": []
   },
   "outputs": [
    {
     "data": {
      "text/plain": [
       "['chr7_152164578_T_C_b38',\n",
       " 'chr8_33698519_T_C_b38',\n",
       " 'chr4_121813506_CACTT_C_b38',\n",
       " 'chr2_178869417_C_T_b38',\n",
       " 'chr10_99795342_G_A_b38']"
      ]
     },
     "execution_count": 14,
     "metadata": {},
     "output_type": "execute_result"
    }
   ],
   "source": [
    "list(gwas_variants_ids_set)[:5]"
   ]
  },
  {
   "cell_type": "markdown",
   "id": "07866999-2305-41f9-a144-e69c9122c212",
   "metadata": {
    "papermill": {
     "duration": 0.015131,
     "end_time": "2022-08-27T05:59:19.793605",
     "exception": false,
     "start_time": "2022-08-27T05:59:19.778474",
     "status": "completed"
    },
    "tags": []
   },
   "source": [
    "## S-PrediXcan tissue models"
   ]
  },
  {
   "cell_type": "code",
   "execution_count": 15,
   "id": "780611d9-77c8-405f-90a4-f271f7b09397",
   "metadata": {
    "execution": {
     "iopub.execute_input": "2022-08-27T05:59:19.837011Z",
     "iopub.status.busy": "2022-08-27T05:59:19.836799Z",
     "iopub.status.idle": "2022-08-27T05:59:20.768118Z",
     "shell.execute_reply": "2022-08-27T05:59:20.767530Z"
    },
    "papermill": {
     "duration": 0.954629,
     "end_time": "2022-08-27T05:59:20.770102",
     "exception": false,
     "start_time": "2022-08-27T05:59:19.815473",
     "status": "completed"
    },
    "tags": []
   },
   "outputs": [],
   "source": [
    "spredixcan_genes_models = pd.read_pickle(OUTPUT_DIR_BASE / \"gene_tissues.pkl\")"
   ]
  },
  {
   "cell_type": "code",
   "execution_count": 16,
   "id": "726dd1f6-9557-4225-91fa-b3b879ea96e1",
   "metadata": {
    "execution": {
     "iopub.execute_input": "2022-08-27T05:59:20.823997Z",
     "iopub.status.busy": "2022-08-27T05:59:20.823800Z",
     "iopub.status.idle": "2022-08-27T05:59:20.847045Z",
     "shell.execute_reply": "2022-08-27T05:59:20.846534Z"
    },
    "papermill": {
     "duration": 0.058893,
     "end_time": "2022-08-27T05:59:20.848623",
     "exception": false,
     "start_time": "2022-08-27T05:59:20.789730",
     "status": "completed"
    },
    "tags": []
   },
   "outputs": [
    {
     "data": {
      "text/plain": [
       "(6428, 3)"
      ]
     },
     "execution_count": 16,
     "metadata": {},
     "output_type": "execute_result"
    }
   ],
   "source": [
    "spredixcan_genes_models.shape"
   ]
  },
  {
   "cell_type": "code",
   "execution_count": 17,
   "id": "944a1b48-222c-4eb0-b252-b9de2cbca215",
   "metadata": {
    "execution": {
     "iopub.execute_input": "2022-08-27T05:59:20.889033Z",
     "iopub.status.busy": "2022-08-27T05:59:20.888837Z",
     "iopub.status.idle": "2022-08-27T05:59:20.931155Z",
     "shell.execute_reply": "2022-08-27T05:59:20.930650Z"
    },
    "papermill": {
     "duration": 0.067144,
     "end_time": "2022-08-27T05:59:20.932660",
     "exception": false,
     "start_time": "2022-08-27T05:59:20.865516",
     "status": "completed"
    },
    "tags": []
   },
   "outputs": [
    {
     "data": {
      "text/html": [
       "<div>\n",
       "<style scoped>\n",
       "    .dataframe tbody tr th:only-of-type {\n",
       "        vertical-align: middle;\n",
       "    }\n",
       "\n",
       "    .dataframe tbody tr th {\n",
       "        vertical-align: top;\n",
       "    }\n",
       "\n",
       "    .dataframe thead th {\n",
       "        text-align: right;\n",
       "    }\n",
       "</style>\n",
       "<table border=\"1\" class=\"dataframe\">\n",
       "  <thead>\n",
       "    <tr style=\"text-align: right;\">\n",
       "      <th></th>\n",
       "      <th>gene_name</th>\n",
       "      <th>tissue</th>\n",
       "      <th>n_tissues</th>\n",
       "    </tr>\n",
       "    <tr>\n",
       "      <th>gene_id</th>\n",
       "      <th></th>\n",
       "      <th></th>\n",
       "      <th></th>\n",
       "    </tr>\n",
       "  </thead>\n",
       "  <tbody>\n",
       "    <tr>\n",
       "      <th>ENSG00000000419</th>\n",
       "      <td>DPM1</td>\n",
       "      <td>(Brain_Substantia_nigra, Brain_Hypothalamus)</td>\n",
       "      <td>2</td>\n",
       "    </tr>\n",
       "    <tr>\n",
       "      <th>ENSG00000000938</th>\n",
       "      <td>FGR</td>\n",
       "      <td>(Cells_EBV-transformed_lymphocytes, Artery_Aor...</td>\n",
       "      <td>36</td>\n",
       "    </tr>\n",
       "    <tr>\n",
       "      <th>ENSG00000000971</th>\n",
       "      <td>CFH</td>\n",
       "      <td>(Uterus, Artery_Aorta, Colon_Transverse, Kidne...</td>\n",
       "      <td>34</td>\n",
       "    </tr>\n",
       "    <tr>\n",
       "      <th>ENSG00000001084</th>\n",
       "      <td>GCLC</td>\n",
       "      <td>(Cells_EBV-transformed_lymphocytes, Artery_Aor...</td>\n",
       "      <td>33</td>\n",
       "    </tr>\n",
       "    <tr>\n",
       "      <th>ENSG00000001167</th>\n",
       "      <td>NFYA</td>\n",
       "      <td>(Artery_Aorta, Colon_Transverse, Kidney_Cortex...</td>\n",
       "      <td>40</td>\n",
       "    </tr>\n",
       "  </tbody>\n",
       "</table>\n",
       "</div>"
      ],
      "text/plain": [
       "                gene_name                                             tissue  \\\n",
       "gene_id                                                                        \n",
       "ENSG00000000419      DPM1       (Brain_Substantia_nigra, Brain_Hypothalamus)   \n",
       "ENSG00000000938       FGR  (Cells_EBV-transformed_lymphocytes, Artery_Aor...   \n",
       "ENSG00000000971       CFH  (Uterus, Artery_Aorta, Colon_Transverse, Kidne...   \n",
       "ENSG00000001084      GCLC  (Cells_EBV-transformed_lymphocytes, Artery_Aor...   \n",
       "ENSG00000001167      NFYA  (Artery_Aorta, Colon_Transverse, Kidney_Cortex...   \n",
       "\n",
       "                 n_tissues  \n",
       "gene_id                     \n",
       "ENSG00000000419          2  \n",
       "ENSG00000000938         36  \n",
       "ENSG00000000971         34  \n",
       "ENSG00000001084         33  \n",
       "ENSG00000001167         40  "
      ]
     },
     "execution_count": 17,
     "metadata": {},
     "output_type": "execute_result"
    }
   ],
   "source": [
    "spredixcan_genes_models.head()"
   ]
  },
  {
   "cell_type": "code",
   "execution_count": 18,
   "id": "d1c11bb1-be0b-4f40-b360-633d6827109f",
   "metadata": {
    "execution": {
     "iopub.execute_input": "2022-08-27T05:59:20.964546Z",
     "iopub.status.busy": "2022-08-27T05:59:20.964330Z",
     "iopub.status.idle": "2022-08-27T05:59:20.981651Z",
     "shell.execute_reply": "2022-08-27T05:59:20.981137Z"
    },
    "papermill": {
     "duration": 0.02938,
     "end_time": "2022-08-27T05:59:20.983221",
     "exception": false,
     "start_time": "2022-08-27T05:59:20.953841",
     "status": "completed"
    },
    "tags": []
   },
   "outputs": [],
   "source": [
    "assert spredixcan_genes_models.index.is_unique"
   ]
  },
  {
   "cell_type": "markdown",
   "id": "a5b5092c-a13e-47c4-a92a-480fcc08f3ae",
   "metadata": {
    "papermill": {
     "duration": 0.03617,
     "end_time": "2022-08-27T05:59:21.042901",
     "exception": false,
     "start_time": "2022-08-27T05:59:21.006731",
     "status": "completed"
    },
    "tags": []
   },
   "source": [
    "## Gene info"
   ]
  },
  {
   "cell_type": "code",
   "execution_count": 19,
   "id": "7d6bb224-88e9-4358-ac10-43a41d92cdad",
   "metadata": {
    "execution": {
     "iopub.execute_input": "2022-08-27T05:59:21.078338Z",
     "iopub.status.busy": "2022-08-27T05:59:21.078063Z",
     "iopub.status.idle": "2022-08-27T05:59:21.208523Z",
     "shell.execute_reply": "2022-08-27T05:59:21.207305Z"
    },
    "papermill": {
     "duration": 0.15498,
     "end_time": "2022-08-27T05:59:21.212539",
     "exception": false,
     "start_time": "2022-08-27T05:59:21.057559",
     "status": "completed"
    },
    "tags": []
   },
   "outputs": [],
   "source": [
    "genes_info = pd.read_pickle(OUTPUT_DIR_BASE / \"genes_info.pkl\")"
   ]
  },
  {
   "cell_type": "code",
   "execution_count": 20,
   "id": "9e32abfa-546d-483e-8c18-d526e9e05903",
   "metadata": {
    "execution": {
     "iopub.execute_input": "2022-08-27T05:59:21.295638Z",
     "iopub.status.busy": "2022-08-27T05:59:21.295281Z",
     "iopub.status.idle": "2022-08-27T05:59:21.326526Z",
     "shell.execute_reply": "2022-08-27T05:59:21.325750Z"
    },
    "papermill": {
     "duration": 0.085435,
     "end_time": "2022-08-27T05:59:21.328832",
     "exception": false,
     "start_time": "2022-08-27T05:59:21.243397",
     "status": "completed"
    },
    "tags": []
   },
   "outputs": [
    {
     "data": {
      "text/plain": [
       "(6428, 7)"
      ]
     },
     "execution_count": 20,
     "metadata": {},
     "output_type": "execute_result"
    }
   ],
   "source": [
    "genes_info.shape"
   ]
  },
  {
   "cell_type": "code",
   "execution_count": 21,
   "id": "d16c3e92-85ec-468a-9a56-e25a9774a1cb",
   "metadata": {
    "execution": {
     "iopub.execute_input": "2022-08-27T05:59:21.374007Z",
     "iopub.status.busy": "2022-08-27T05:59:21.373752Z",
     "iopub.status.idle": "2022-08-27T05:59:21.402795Z",
     "shell.execute_reply": "2022-08-27T05:59:21.402261Z"
    },
    "papermill": {
     "duration": 0.045726,
     "end_time": "2022-08-27T05:59:21.404331",
     "exception": false,
     "start_time": "2022-08-27T05:59:21.358605",
     "status": "completed"
    },
    "tags": []
   },
   "outputs": [
    {
     "data": {
      "text/html": [
       "<div>\n",
       "<style scoped>\n",
       "    .dataframe tbody tr th:only-of-type {\n",
       "        vertical-align: middle;\n",
       "    }\n",
       "\n",
       "    .dataframe tbody tr th {\n",
       "        vertical-align: top;\n",
       "    }\n",
       "\n",
       "    .dataframe thead th {\n",
       "        text-align: right;\n",
       "    }\n",
       "</style>\n",
       "<table border=\"1\" class=\"dataframe\">\n",
       "  <thead>\n",
       "    <tr style=\"text-align: right;\">\n",
       "      <th></th>\n",
       "      <th>name</th>\n",
       "      <th>id</th>\n",
       "      <th>chr</th>\n",
       "      <th>band</th>\n",
       "      <th>start_position</th>\n",
       "      <th>end_position</th>\n",
       "      <th>gene_length</th>\n",
       "    </tr>\n",
       "  </thead>\n",
       "  <tbody>\n",
       "    <tr>\n",
       "      <th>0</th>\n",
       "      <td>ZNF605</td>\n",
       "      <td>ENSG00000196458</td>\n",
       "      <td>12</td>\n",
       "      <td>12q24.33</td>\n",
       "      <td>132918306</td>\n",
       "      <td>132956306</td>\n",
       "      <td>38000</td>\n",
       "    </tr>\n",
       "    <tr>\n",
       "      <th>1</th>\n",
       "      <td>FBP1</td>\n",
       "      <td>ENSG00000165140</td>\n",
       "      <td>9</td>\n",
       "      <td>9q22.32</td>\n",
       "      <td>94603133</td>\n",
       "      <td>94640249</td>\n",
       "      <td>37116</td>\n",
       "    </tr>\n",
       "    <tr>\n",
       "      <th>2</th>\n",
       "      <td>TAL1</td>\n",
       "      <td>ENSG00000162367</td>\n",
       "      <td>1</td>\n",
       "      <td>1p33</td>\n",
       "      <td>47216290</td>\n",
       "      <td>47232220</td>\n",
       "      <td>15930</td>\n",
       "    </tr>\n",
       "    <tr>\n",
       "      <th>3</th>\n",
       "      <td>MPV17</td>\n",
       "      <td>ENSG00000115204</td>\n",
       "      <td>2</td>\n",
       "      <td>2p23.3</td>\n",
       "      <td>27309492</td>\n",
       "      <td>27325680</td>\n",
       "      <td>16188</td>\n",
       "    </tr>\n",
       "    <tr>\n",
       "      <th>4</th>\n",
       "      <td>PTPRN</td>\n",
       "      <td>ENSG00000054356</td>\n",
       "      <td>2</td>\n",
       "      <td>2q35</td>\n",
       "      <td>219289623</td>\n",
       "      <td>219309648</td>\n",
       "      <td>20025</td>\n",
       "    </tr>\n",
       "  </tbody>\n",
       "</table>\n",
       "</div>"
      ],
      "text/plain": [
       "     name               id  chr      band  start_position  end_position  \\\n",
       "0  ZNF605  ENSG00000196458   12  12q24.33       132918306     132956306   \n",
       "1    FBP1  ENSG00000165140    9   9q22.32        94603133      94640249   \n",
       "2    TAL1  ENSG00000162367    1      1p33        47216290      47232220   \n",
       "3   MPV17  ENSG00000115204    2    2p23.3        27309492      27325680   \n",
       "4   PTPRN  ENSG00000054356    2      2q35       219289623     219309648   \n",
       "\n",
       "   gene_length  \n",
       "0        38000  \n",
       "1        37116  \n",
       "2        15930  \n",
       "3        16188  \n",
       "4        20025  "
      ]
     },
     "execution_count": 21,
     "metadata": {},
     "output_type": "execute_result"
    }
   ],
   "source": [
    "genes_info.head()"
   ]
  },
  {
   "cell_type": "markdown",
   "id": "d3843e06",
   "metadata": {
    "papermill": {
     "duration": 0.025538,
     "end_time": "2022-08-27T05:59:21.440387",
     "exception": false,
     "start_time": "2022-08-27T05:59:21.414849",
     "status": "completed"
    },
    "tags": []
   },
   "source": [
    "# Compute correlations"
   ]
  },
  {
   "cell_type": "code",
   "execution_count": 22,
   "id": "cb859c15-d1f3-4006-a74c-2b83c0db9611",
   "metadata": {
    "execution": {
     "iopub.execute_input": "2022-08-27T05:59:21.488640Z",
     "iopub.status.busy": "2022-08-27T05:59:21.488306Z",
     "iopub.status.idle": "2022-08-27T05:59:21.528800Z",
     "shell.execute_reply": "2022-08-27T05:59:21.528066Z"
    },
    "papermill": {
     "duration": 0.06061,
     "end_time": "2022-08-27T05:59:21.530941",
     "exception": false,
     "start_time": "2022-08-27T05:59:21.470331",
     "status": "completed"
    },
    "tags": []
   },
   "outputs": [
    {
     "data": {
      "text/plain": [
       "PosixPath('/project/ritchie20/projects/phenoplier/base/results/gls/gene_corrs/cohorts/phenomexcan_rapid_gwas/gtex_v8/mashr/by_chr/gene_corrs-chr20.pkl')"
      ]
     },
     "metadata": {},
     "output_type": "display_data"
    }
   ],
   "source": [
    "output_dir = OUTPUT_DIR_BASE / \"by_chr\"\n",
    "output_dir.mkdir(exist_ok=True, parents=True)\n",
    "output_file = output_dir / f\"gene_corrs-chr{CHROMOSOME}.pkl\"\n",
    "display(output_file)"
   ]
  },
  {
   "cell_type": "code",
   "execution_count": 23,
   "id": "aa674fe4-6794-4eed-98fa-32b39d1d4ace",
   "metadata": {
    "execution": {
     "iopub.execute_input": "2022-08-27T05:59:21.563508Z",
     "iopub.status.busy": "2022-08-27T05:59:21.563243Z",
     "iopub.status.idle": "2022-08-27T05:59:21.584049Z",
     "shell.execute_reply": "2022-08-27T05:59:21.583455Z"
    },
    "papermill": {
     "duration": 0.039824,
     "end_time": "2022-08-27T05:59:21.585904",
     "exception": false,
     "start_time": "2022-08-27T05:59:21.546080",
     "status": "completed"
    },
    "tags": []
   },
   "outputs": [],
   "source": [
    "warnings.filterwarnings(\"error\")"
   ]
  },
  {
   "cell_type": "code",
   "execution_count": 24,
   "id": "44d5450b-3baf-43f1-9e2e-4b06f1a785f8",
   "metadata": {
    "execution": {
     "iopub.execute_input": "2022-08-27T05:59:21.634506Z",
     "iopub.status.busy": "2022-08-27T05:59:21.634286Z",
     "iopub.status.idle": "2022-08-27T05:59:21.651495Z",
     "shell.execute_reply": "2022-08-27T05:59:21.650986Z"
    },
    "papermill": {
     "duration": 0.042987,
     "end_time": "2022-08-27T05:59:21.653077",
     "exception": false,
     "start_time": "2022-08-27T05:59:21.610090",
     "status": "completed"
    },
    "tags": []
   },
   "outputs": [],
   "source": [
    "# standard checks\n",
    "all_chrs = genes_info[\"chr\"].dropna().unique()\n",
    "assert all_chrs.shape[0] == 22\n",
    "\n",
    "# select chromosome given by the user\n",
    "assert CHROMOSOME in all_chrs"
   ]
  },
  {
   "cell_type": "code",
   "execution_count": 25,
   "id": "2d7c043c-92a7-4d35-991b-fa69ac1e0268",
   "metadata": {
    "execution": {
     "iopub.execute_input": "2022-08-27T05:59:21.700849Z",
     "iopub.status.busy": "2022-08-27T05:59:21.700627Z",
     "iopub.status.idle": "2022-08-27T05:59:21.755580Z",
     "shell.execute_reply": "2022-08-27T05:59:21.755057Z"
    },
    "papermill": {
     "duration": 0.076943,
     "end_time": "2022-08-27T05:59:21.757172",
     "exception": false,
     "start_time": "2022-08-27T05:59:21.680229",
     "status": "completed"
    },
    "tags": []
   },
   "outputs": [
    {
     "name": "stdout",
     "output_type": "stream",
     "text": [
      "Number of genes in chromosome: 187\n"
     ]
    }
   ],
   "source": [
    "# run only on the chromosome specified\n",
    "all_chrs = [CHROMOSOME]\n",
    "genes_chr = genes_info[genes_info[\"chr\"] == CHROMOSOME]\n",
    "\n",
    "# For testing purposes\n",
    "# genes_chr = genes_chr.sample(n=20)\n",
    "\n",
    "print(f\"Number of genes in chromosome: {genes_chr.shape[0]}\", flush=True)"
   ]
  },
  {
   "cell_type": "code",
   "execution_count": 26,
   "id": "916015d8-2979-46d3-a9b9-1cf5a0932c6a",
   "metadata": {
    "execution": {
     "iopub.execute_input": "2022-08-27T05:59:21.783229Z",
     "iopub.status.busy": "2022-08-27T05:59:21.783040Z",
     "iopub.status.idle": "2022-08-27T05:59:21.799977Z",
     "shell.execute_reply": "2022-08-27T05:59:21.799460Z"
    },
    "papermill": {
     "duration": 0.031246,
     "end_time": "2022-08-27T05:59:21.801566",
     "exception": false,
     "start_time": "2022-08-27T05:59:21.770320",
     "status": "completed"
    },
    "tags": []
   },
   "outputs": [],
   "source": [
    "# sort genes by starting position to make visualizations better later\n",
    "genes_chr = genes_chr.sort_values(\"start_position\")"
   ]
  },
  {
   "cell_type": "code",
   "execution_count": 27,
   "id": "a38aa74a-8ad3-47f6-8ef9-56be0e011774",
   "metadata": {
    "execution": {
     "iopub.execute_input": "2022-08-27T05:59:21.835527Z",
     "iopub.status.busy": "2022-08-27T05:59:21.835305Z",
     "iopub.status.idle": "2022-08-27T05:59:21.853399Z",
     "shell.execute_reply": "2022-08-27T05:59:21.852911Z"
    },
    "papermill": {
     "duration": 0.03433,
     "end_time": "2022-08-27T05:59:21.855015",
     "exception": false,
     "start_time": "2022-08-27T05:59:21.820685",
     "status": "completed"
    },
    "tags": []
   },
   "outputs": [],
   "source": [
    "gene_chr_objs = [Gene(ensembl_id=gene_id) for gene_id in genes_chr[\"id\"]]"
   ]
  },
  {
   "cell_type": "code",
   "execution_count": 28,
   "id": "570f974f-13c3-42b6-ad3a-ce99ca885c1a",
   "metadata": {
    "execution": {
     "iopub.execute_input": "2022-08-27T05:59:21.877408Z",
     "iopub.status.busy": "2022-08-27T05:59:21.877220Z",
     "iopub.status.idle": "2022-08-27T05:59:21.895404Z",
     "shell.execute_reply": "2022-08-27T05:59:21.894920Z"
    },
    "papermill": {
     "duration": 0.031282,
     "end_time": "2022-08-27T05:59:21.897005",
     "exception": false,
     "start_time": "2022-08-27T05:59:21.865723",
     "status": "completed"
    },
    "tags": []
   },
   "outputs": [
    {
     "name": "stdout",
     "output_type": "stream",
     "text": [
      "Number of gene combinations: 17391\n"
     ]
    }
   ],
   "source": [
    "n = len(gene_chr_objs)\n",
    "n_comb = int(n * (n - 1) / 2.0)\n",
    "print(f\"Number of gene combinations: {n_comb}\", flush=True)"
   ]
  },
  {
   "cell_type": "code",
   "execution_count": 29,
   "id": "cdbb90a1",
   "metadata": {
    "execution": {
     "iopub.execute_input": "2022-08-27T05:59:21.920238Z",
     "iopub.status.busy": "2022-08-27T05:59:21.920052Z",
     "iopub.status.idle": "2022-08-27T06:26:49.124880Z",
     "shell.execute_reply": "2022-08-27T06:26:49.123693Z"
    },
    "papermill": {
     "duration": 1647.219411,
     "end_time": "2022-08-27T06:26:49.127954",
     "exception": false,
     "start_time": "2022-08-27T05:59:21.908543",
     "status": "completed"
    },
    "tags": []
   },
   "outputs": [
    {
     "name": "stderr",
     "output_type": "stream",
     "text": [
      "ENSG00000125510 / ENSG00000125510: : 17578it [27:27, 10.67it/s]\n"
     ]
    },
    {
     "data": {
      "text/plain": [
       "PosixPath('/project/ritchie20/projects/phenoplier/base/results/gls/gene_corrs/cohorts/phenomexcan_rapid_gwas/gtex_v8/mashr/by_chr/gene_corrs-chr20.pkl')"
      ]
     },
     "metadata": {},
     "output_type": "display_data"
    }
   ],
   "source": [
    "gene_corrs = []\n",
    "gene_corrs_data = np.full(\n",
    "    (n, n),\n",
    "    np.nan,\n",
    "    dtype=np.float64,\n",
    ")\n",
    "\n",
    "i = 0\n",
    "with tqdm(ncols=100, total=n_comb) as pbar:\n",
    "    for gene1_idx in range(0, len(gene_chr_objs)):\n",
    "        gene1_obj = gene_chr_objs[gene1_idx]\n",
    "        gene1_tissues = spredixcan_genes_models.loc[gene1_obj.ensembl_id, \"tissue\"]\n",
    "\n",
    "        for gene2_idx in range(gene1_idx, len(gene_chr_objs)):\n",
    "            gene2_obj = gene_chr_objs[gene2_idx]\n",
    "            gene2_tissues = spredixcan_genes_models.loc[gene2_obj.ensembl_id, \"tissue\"]\n",
    "\n",
    "            pbar.set_description(f\"{gene1_obj.ensembl_id} / {gene2_obj.ensembl_id}\")\n",
    "\n",
    "            try:\n",
    "                r = gene1_obj.get_ssm_correlation(\n",
    "                    other_gene=gene2_obj,\n",
    "                    tissues=gene1_tissues,\n",
    "                    other_tissues=gene2_tissues,\n",
    "                    snps_subset=gwas_variants_ids_set,\n",
    "                    condition_number=SMULTIXCAN_CONDITION_NUMBER,\n",
    "                    reference_panel=REFERENCE_PANEL,\n",
    "                    model_type=EQTL_MODEL,\n",
    "                    use_within_distance=COMPUTE_CORRELATIONS_WITHIN_DISTANCE,\n",
    "                )\n",
    "\n",
    "                if r is None:\n",
    "                    # if r is None, it's very likely because:\n",
    "                    #  * one of the genes has no prediction models\n",
    "                    #  * all the SNPs predictors for the gene are not present in the reference\n",
    "                    #    panel\n",
    "\n",
    "                    r = 0.0\n",
    "\n",
    "                gene_corrs.append(r)\n",
    "\n",
    "                gene_corrs_data[gene1_idx, gene2_idx] = r\n",
    "                gene_corrs_data[gene2_idx, gene1_idx] = r\n",
    "            except Warning as e:\n",
    "                if not DEBUG_MODE:\n",
    "                    raise e\n",
    "\n",
    "                print(\n",
    "                    f\"RuntimeWarning for genes {gene1_obj.ensembl_id} and {gene2_obj.ensembl_id}\",\n",
    "                    flush=True,\n",
    "                )\n",
    "                print(traceback.format_exc(), flush=True)\n",
    "\n",
    "                gene_corrs.append(np.nan)\n",
    "            except Exception as e:\n",
    "                if not DEBUG_MODE:\n",
    "                    raise e\n",
    "\n",
    "                print(\n",
    "                    f\"Exception for genes {gene1_obj.ensembl_id} and {gene2_obj.ensembl_id}\",\n",
    "                    flush=True,\n",
    "                )\n",
    "                print(traceback.format_exc(), flush=True)\n",
    "\n",
    "                gene_corrs.append(np.nan)\n",
    "\n",
    "            pbar.update(1)\n",
    "\n",
    "# create a pandas series\n",
    "gene_corrs_flat = pd.Series(gene_corrs)\n",
    "\n",
    "# save\n",
    "# FIXME: consider saving only the condenced matrix here. See here for\n",
    "# more details: https://github.com/greenelab/phenoplier/pull/38#discussion_r634600813\n",
    "# gene_corrs_data = squareform(np.array(gene_corrs, dtype=np.float64))\n",
    "# np.fill_diagonal(gene_corrs_data, 1.0)\n",
    "\n",
    "gene_chr_ids = [g.ensembl_id for g in gene_chr_objs]\n",
    "gene_corrs_df = pd.DataFrame(\n",
    "    data=gene_corrs_data,\n",
    "    index=gene_chr_ids,\n",
    "    columns=gene_chr_ids,\n",
    ")\n",
    "\n",
    "output_dir.mkdir(exist_ok=True, parents=True)\n",
    "display(output_file)\n",
    "\n",
    "gene_corrs_df.to_pickle(output_file)"
   ]
  },
  {
   "cell_type": "markdown",
   "id": "faa67b51-5373-470f-aa72-2ded53fa6dfe",
   "metadata": {
    "papermill": {
     "duration": 1.138528,
     "end_time": "2022-08-27T06:26:51.448700",
     "exception": false,
     "start_time": "2022-08-27T06:26:50.310172",
     "status": "completed"
    },
    "tags": []
   },
   "source": [
    "# Testing"
   ]
  },
  {
   "cell_type": "code",
   "execution_count": 30,
   "id": "14f7d046-4b55-4896-a56b-990127bcc388",
   "metadata": {
    "execution": {
     "iopub.execute_input": "2022-08-27T06:26:53.745248Z",
     "iopub.status.busy": "2022-08-27T06:26:53.744982Z",
     "iopub.status.idle": "2022-08-27T06:26:53.964599Z",
     "shell.execute_reply": "2022-08-27T06:26:53.964065Z"
    },
    "papermill": {
     "duration": 1.380489,
     "end_time": "2022-08-27T06:26:53.966135",
     "exception": false,
     "start_time": "2022-08-27T06:26:52.585646",
     "status": "completed"
    },
    "tags": []
   },
   "outputs": [
    {
     "data": {
      "text/plain": [
       "(187, 187)"
      ]
     },
     "execution_count": 30,
     "metadata": {},
     "output_type": "execute_result"
    }
   ],
   "source": [
    "gene_corrs_df.shape"
   ]
  },
  {
   "cell_type": "code",
   "execution_count": 31,
   "id": "c7d15414-3297-4537-a7c6-7588c0baeb75",
   "metadata": {
    "execution": {
     "iopub.execute_input": "2022-08-27T06:26:56.297225Z",
     "iopub.status.busy": "2022-08-27T06:26:56.296965Z",
     "iopub.status.idle": "2022-08-27T06:26:56.333071Z",
     "shell.execute_reply": "2022-08-27T06:26:56.332537Z"
    },
    "papermill": {
     "duration": 1.186705,
     "end_time": "2022-08-27T06:26:56.334577",
     "exception": false,
     "start_time": "2022-08-27T06:26:55.147872",
     "status": "completed"
    },
    "tags": []
   },
   "outputs": [
    {
     "data": {
      "text/html": [
       "<div>\n",
       "<style scoped>\n",
       "    .dataframe tbody tr th:only-of-type {\n",
       "        vertical-align: middle;\n",
       "    }\n",
       "\n",
       "    .dataframe tbody tr th {\n",
       "        vertical-align: top;\n",
       "    }\n",
       "\n",
       "    .dataframe thead th {\n",
       "        text-align: right;\n",
       "    }\n",
       "</style>\n",
       "<table border=\"1\" class=\"dataframe\">\n",
       "  <thead>\n",
       "    <tr style=\"text-align: right;\">\n",
       "      <th></th>\n",
       "      <th>ENSG00000101255</th>\n",
       "      <th>ENSG00000125826</th>\n",
       "      <th>ENSG00000101266</th>\n",
       "      <th>ENSG00000101280</th>\n",
       "      <th>ENSG00000125818</th>\n",
       "      <th>ENSG00000101298</th>\n",
       "      <th>ENSG00000088832</th>\n",
       "      <th>ENSG00000101307</th>\n",
       "      <th>ENSG00000089012</th>\n",
       "      <th>ENSG00000198053</th>\n",
       "      <th>...</th>\n",
       "      <th>ENSG00000092758</th>\n",
       "      <th>ENSG00000101191</th>\n",
       "      <th>ENSG00000101199</th>\n",
       "      <th>ENSG00000243509</th>\n",
       "      <th>ENSG00000203896</th>\n",
       "      <th>ENSG00000101152</th>\n",
       "      <th>ENSG00000198276</th>\n",
       "      <th>ENSG00000101161</th>\n",
       "      <th>ENSG00000171700</th>\n",
       "      <th>ENSG00000125510</th>\n",
       "    </tr>\n",
       "  </thead>\n",
       "  <tbody>\n",
       "    <tr>\n",
       "      <th>ENSG00000101255</th>\n",
       "      <td>1.000000</td>\n",
       "      <td>0.061142</td>\n",
       "      <td>0.018329</td>\n",
       "      <td>0.006180</td>\n",
       "      <td>0.003066</td>\n",
       "      <td>0.008486</td>\n",
       "      <td>0.005554</td>\n",
       "      <td>0.001864</td>\n",
       "      <td>0.006853</td>\n",
       "      <td>0.007228</td>\n",
       "      <td>...</td>\n",
       "      <td>0.010440</td>\n",
       "      <td>0.005432</td>\n",
       "      <td>0.002534</td>\n",
       "      <td>0.003804</td>\n",
       "      <td>0.003667</td>\n",
       "      <td>0.004363</td>\n",
       "      <td>0.004301</td>\n",
       "      <td>0.004486</td>\n",
       "      <td>0.006074</td>\n",
       "      <td>0.006229</td>\n",
       "    </tr>\n",
       "    <tr>\n",
       "      <th>ENSG00000125826</th>\n",
       "      <td>0.061142</td>\n",
       "      <td>1.000000</td>\n",
       "      <td>0.059804</td>\n",
       "      <td>0.009671</td>\n",
       "      <td>0.001098</td>\n",
       "      <td>0.007251</td>\n",
       "      <td>0.009138</td>\n",
       "      <td>0.005704</td>\n",
       "      <td>0.005255</td>\n",
       "      <td>0.006964</td>\n",
       "      <td>...</td>\n",
       "      <td>0.016728</td>\n",
       "      <td>0.004381</td>\n",
       "      <td>0.003153</td>\n",
       "      <td>0.009080</td>\n",
       "      <td>0.011099</td>\n",
       "      <td>0.005442</td>\n",
       "      <td>0.010397</td>\n",
       "      <td>0.005574</td>\n",
       "      <td>0.003872</td>\n",
       "      <td>0.006186</td>\n",
       "    </tr>\n",
       "    <tr>\n",
       "      <th>ENSG00000101266</th>\n",
       "      <td>0.018329</td>\n",
       "      <td>0.059804</td>\n",
       "      <td>1.000000</td>\n",
       "      <td>0.013558</td>\n",
       "      <td>0.007299</td>\n",
       "      <td>0.008002</td>\n",
       "      <td>0.004547</td>\n",
       "      <td>0.003573</td>\n",
       "      <td>0.006578</td>\n",
       "      <td>0.008709</td>\n",
       "      <td>...</td>\n",
       "      <td>0.010498</td>\n",
       "      <td>0.004541</td>\n",
       "      <td>0.005871</td>\n",
       "      <td>0.010738</td>\n",
       "      <td>0.005084</td>\n",
       "      <td>0.005631</td>\n",
       "      <td>0.007585</td>\n",
       "      <td>0.004303</td>\n",
       "      <td>0.006662</td>\n",
       "      <td>0.005166</td>\n",
       "    </tr>\n",
       "    <tr>\n",
       "      <th>ENSG00000101280</th>\n",
       "      <td>0.006180</td>\n",
       "      <td>0.009671</td>\n",
       "      <td>0.013558</td>\n",
       "      <td>1.000000</td>\n",
       "      <td>0.002424</td>\n",
       "      <td>0.014114</td>\n",
       "      <td>0.009679</td>\n",
       "      <td>0.006453</td>\n",
       "      <td>0.007813</td>\n",
       "      <td>0.008990</td>\n",
       "      <td>...</td>\n",
       "      <td>0.011007</td>\n",
       "      <td>0.006206</td>\n",
       "      <td>0.009392</td>\n",
       "      <td>0.012976</td>\n",
       "      <td>0.006206</td>\n",
       "      <td>0.003377</td>\n",
       "      <td>0.010968</td>\n",
       "      <td>0.009667</td>\n",
       "      <td>0.006963</td>\n",
       "      <td>0.003093</td>\n",
       "    </tr>\n",
       "    <tr>\n",
       "      <th>ENSG00000125818</th>\n",
       "      <td>0.003066</td>\n",
       "      <td>0.001098</td>\n",
       "      <td>0.007299</td>\n",
       "      <td>0.002424</td>\n",
       "      <td>1.000000</td>\n",
       "      <td>0.005772</td>\n",
       "      <td>0.015502</td>\n",
       "      <td>0.000598</td>\n",
       "      <td>0.005499</td>\n",
       "      <td>0.004094</td>\n",
       "      <td>...</td>\n",
       "      <td>0.008793</td>\n",
       "      <td>0.002832</td>\n",
       "      <td>0.001146</td>\n",
       "      <td>0.007038</td>\n",
       "      <td>0.002838</td>\n",
       "      <td>0.002058</td>\n",
       "      <td>0.003925</td>\n",
       "      <td>0.004812</td>\n",
       "      <td>0.005298</td>\n",
       "      <td>0.000381</td>\n",
       "    </tr>\n",
       "  </tbody>\n",
       "</table>\n",
       "<p>5 rows × 187 columns</p>\n",
       "</div>"
      ],
      "text/plain": [
       "                 ENSG00000101255  ENSG00000125826  ENSG00000101266  \\\n",
       "ENSG00000101255         1.000000         0.061142         0.018329   \n",
       "ENSG00000125826         0.061142         1.000000         0.059804   \n",
       "ENSG00000101266         0.018329         0.059804         1.000000   \n",
       "ENSG00000101280         0.006180         0.009671         0.013558   \n",
       "ENSG00000125818         0.003066         0.001098         0.007299   \n",
       "\n",
       "                 ENSG00000101280  ENSG00000125818  ENSG00000101298  \\\n",
       "ENSG00000101255         0.006180         0.003066         0.008486   \n",
       "ENSG00000125826         0.009671         0.001098         0.007251   \n",
       "ENSG00000101266         0.013558         0.007299         0.008002   \n",
       "ENSG00000101280         1.000000         0.002424         0.014114   \n",
       "ENSG00000125818         0.002424         1.000000         0.005772   \n",
       "\n",
       "                 ENSG00000088832  ENSG00000101307  ENSG00000089012  \\\n",
       "ENSG00000101255         0.005554         0.001864         0.006853   \n",
       "ENSG00000125826         0.009138         0.005704         0.005255   \n",
       "ENSG00000101266         0.004547         0.003573         0.006578   \n",
       "ENSG00000101280         0.009679         0.006453         0.007813   \n",
       "ENSG00000125818         0.015502         0.000598         0.005499   \n",
       "\n",
       "                 ENSG00000198053  ...  ENSG00000092758  ENSG00000101191  \\\n",
       "ENSG00000101255         0.007228  ...         0.010440         0.005432   \n",
       "ENSG00000125826         0.006964  ...         0.016728         0.004381   \n",
       "ENSG00000101266         0.008709  ...         0.010498         0.004541   \n",
       "ENSG00000101280         0.008990  ...         0.011007         0.006206   \n",
       "ENSG00000125818         0.004094  ...         0.008793         0.002832   \n",
       "\n",
       "                 ENSG00000101199  ENSG00000243509  ENSG00000203896  \\\n",
       "ENSG00000101255         0.002534         0.003804         0.003667   \n",
       "ENSG00000125826         0.003153         0.009080         0.011099   \n",
       "ENSG00000101266         0.005871         0.010738         0.005084   \n",
       "ENSG00000101280         0.009392         0.012976         0.006206   \n",
       "ENSG00000125818         0.001146         0.007038         0.002838   \n",
       "\n",
       "                 ENSG00000101152  ENSG00000198276  ENSG00000101161  \\\n",
       "ENSG00000101255         0.004363         0.004301         0.004486   \n",
       "ENSG00000125826         0.005442         0.010397         0.005574   \n",
       "ENSG00000101266         0.005631         0.007585         0.004303   \n",
       "ENSG00000101280         0.003377         0.010968         0.009667   \n",
       "ENSG00000125818         0.002058         0.003925         0.004812   \n",
       "\n",
       "                 ENSG00000171700  ENSG00000125510  \n",
       "ENSG00000101255         0.006074         0.006229  \n",
       "ENSG00000125826         0.003872         0.006186  \n",
       "ENSG00000101266         0.006662         0.005166  \n",
       "ENSG00000101280         0.006963         0.003093  \n",
       "ENSG00000125818         0.005298         0.000381  \n",
       "\n",
       "[5 rows x 187 columns]"
      ]
     },
     "execution_count": 31,
     "metadata": {},
     "output_type": "execute_result"
    }
   ],
   "source": [
    "gene_corrs_df.head()"
   ]
  },
  {
   "cell_type": "markdown",
   "id": "dad6603f-01c6-41fb-a6f6-241051207dd8",
   "metadata": {
    "papermill": {
     "duration": 1.137619,
     "end_time": "2022-08-27T06:26:58.616148",
     "exception": false,
     "start_time": "2022-08-27T06:26:57.478529",
     "status": "completed"
    },
    "tags": []
   },
   "source": [
    "## Standard checks and stats"
   ]
  },
  {
   "cell_type": "code",
   "execution_count": 32,
   "id": "286686af-1b7b-4440-8453-6bdcbd8de19c",
   "metadata": {
    "execution": {
     "iopub.execute_input": "2022-08-27T06:27:00.895809Z",
     "iopub.status.busy": "2022-08-27T06:27:00.895527Z",
     "iopub.status.idle": "2022-08-27T06:27:00.916761Z",
     "shell.execute_reply": "2022-08-27T06:27:00.916208Z"
    },
    "papermill": {
     "duration": 1.16068,
     "end_time": "2022-08-27T06:27:00.918381",
     "exception": false,
     "start_time": "2022-08-27T06:26:59.757701",
     "status": "completed"
    },
    "tags": []
   },
   "outputs": [],
   "source": [
    "assert not gene_corrs_df.isna().any().any()"
   ]
  },
  {
   "cell_type": "code",
   "execution_count": 33,
   "id": "00583efc-7068-4270-ad1e-4a418e91db96",
   "metadata": {
    "execution": {
     "iopub.execute_input": "2022-08-27T06:27:03.259887Z",
     "iopub.status.busy": "2022-08-27T06:27:03.259616Z",
     "iopub.status.idle": "2022-08-27T06:27:03.287773Z",
     "shell.execute_reply": "2022-08-27T06:27:03.287225Z"
    },
    "papermill": {
     "duration": 1.208399,
     "end_time": "2022-08-27T06:27:03.289279",
     "exception": false,
     "start_time": "2022-08-27T06:27:02.080880",
     "status": "completed"
    },
    "tags": []
   },
   "outputs": [
    {
     "data": {
      "text/plain": [
       "3.343921103487195e-06"
      ]
     },
     "metadata": {},
     "output_type": "display_data"
    }
   ],
   "source": [
    "_min_val = gene_corrs_df.min().min()\n",
    "display(_min_val)\n",
    "assert _min_val >= -0.05"
   ]
  },
  {
   "cell_type": "code",
   "execution_count": 34,
   "id": "d04fb2cf-1050-475b-b855-f5f7cc04092b",
   "metadata": {
    "execution": {
     "iopub.execute_input": "2022-08-27T06:27:05.577881Z",
     "iopub.status.busy": "2022-08-27T06:27:05.577597Z",
     "iopub.status.idle": "2022-08-27T06:27:05.601020Z",
     "shell.execute_reply": "2022-08-27T06:27:05.600497Z"
    },
    "papermill": {
     "duration": 1.170167,
     "end_time": "2022-08-27T06:27:05.602546",
     "exception": false,
     "start_time": "2022-08-27T06:27:04.432379",
     "status": "completed"
    },
    "tags": []
   },
   "outputs": [
    {
     "data": {
      "text/plain": [
       "1.0000000000000029"
      ]
     },
     "metadata": {},
     "output_type": "display_data"
    }
   ],
   "source": [
    "_max_val = gene_corrs_df.max().max()  # this captures the diagonal\n",
    "display(_max_val)\n",
    "assert _max_val <= 1.05"
   ]
  },
  {
   "cell_type": "code",
   "execution_count": 35,
   "id": "96d02c44-1fba-47be-8a93-8f2608420b9c",
   "metadata": {
    "execution": {
     "iopub.execute_input": "2022-08-27T06:27:07.871248Z",
     "iopub.status.busy": "2022-08-27T06:27:07.870993Z",
     "iopub.status.idle": "2022-08-27T06:27:07.891803Z",
     "shell.execute_reply": "2022-08-27T06:27:07.891246Z"
    },
    "papermill": {
     "duration": 1.152764,
     "end_time": "2022-08-27T06:27:07.893358",
     "exception": false,
     "start_time": "2022-08-27T06:27:06.740594",
     "status": "completed"
    },
    "tags": []
   },
   "outputs": [],
   "source": [
    "# check upper triangular values\n",
    "# assert len(gene_corrs) == int(genes_chr.shape[0] * (genes_chr.shape[0] - 1) / 2)"
   ]
  },
  {
   "cell_type": "code",
   "execution_count": 36,
   "id": "fe283586-c348-40e0-8841-f6d97bfb021c",
   "metadata": {
    "execution": {
     "iopub.execute_input": "2022-08-27T06:27:10.167896Z",
     "iopub.status.busy": "2022-08-27T06:27:10.167623Z",
     "iopub.status.idle": "2022-08-27T06:27:10.193447Z",
     "shell.execute_reply": "2022-08-27T06:27:10.192915Z"
    },
    "papermill": {
     "duration": 1.163022,
     "end_time": "2022-08-27T06:27:10.194954",
     "exception": false,
     "start_time": "2022-08-27T06:27:09.031932",
     "status": "completed"
    },
    "tags": []
   },
   "outputs": [
    {
     "data": {
      "text/plain": [
       "count    17578.000000\n",
       "mean         0.020993\n",
       "std          0.108715\n",
       "min          0.000003\n",
       "25%          0.003977\n",
       "50%          0.006142\n",
       "75%          0.008775\n",
       "max          1.000000\n",
       "dtype: float64"
      ]
     },
     "execution_count": 36,
     "metadata": {},
     "output_type": "execute_result"
    }
   ],
   "source": [
    "gene_corrs_flat.describe()"
   ]
  },
  {
   "cell_type": "code",
   "execution_count": 37,
   "id": "b3815678-0f93-4b35-897b-a9d047a2aa78",
   "metadata": {
    "execution": {
     "iopub.execute_input": "2022-08-27T06:27:12.501414Z",
     "iopub.status.busy": "2022-08-27T06:27:12.501159Z",
     "iopub.status.idle": "2022-08-27T06:27:12.525384Z",
     "shell.execute_reply": "2022-08-27T06:27:12.524895Z"
    },
    "papermill": {
     "duration": 1.196194,
     "end_time": "2022-08-27T06:27:12.526918",
     "exception": false,
     "start_time": "2022-08-27T06:27:11.330724",
     "status": "completed"
    },
    "tags": []
   },
   "outputs": [
    {
     "data": {
      "text/plain": [
       "0.00    0.000003\n",
       "0.05    0.001705\n",
       "0.10    0.002484\n",
       "0.15    0.003062\n",
       "0.20    0.003551\n",
       "0.25    0.003977\n",
       "0.30    0.004429\n",
       "0.35    0.004851\n",
       "0.40    0.005293\n",
       "0.45    0.005727\n",
       "0.50    0.006142\n",
       "0.55    0.006611\n",
       "0.60    0.007092\n",
       "0.65    0.007594\n",
       "0.70    0.008139\n",
       "0.75    0.008775\n",
       "0.80    0.009493\n",
       "0.85    0.010423\n",
       "0.90    0.011784\n",
       "0.95    0.014946\n",
       "dtype: float64"
      ]
     },
     "metadata": {},
     "output_type": "display_data"
    }
   ],
   "source": [
    "gene_corrs_quantiles = gene_corrs_flat.quantile(np.arange(0, 1, 0.05))\n",
    "display(gene_corrs_quantiles)"
   ]
  },
  {
   "cell_type": "markdown",
   "id": "87134509-b145-4a10-8bc9-b7e914c2b0fa",
   "metadata": {
    "papermill": {
     "duration": 1.13279,
     "end_time": "2022-08-27T06:27:14.793608",
     "exception": false,
     "start_time": "2022-08-27T06:27:13.660818",
     "status": "completed"
    },
    "tags": []
   },
   "source": [
    "## Positive definiteness"
   ]
  },
  {
   "cell_type": "code",
   "execution_count": 38,
   "id": "07d9a9a1-a4f7-48aa-b916-6d42a8cc6186",
   "metadata": {
    "execution": {
     "iopub.execute_input": "2022-08-27T06:27:17.058943Z",
     "iopub.status.busy": "2022-08-27T06:27:17.058651Z",
     "iopub.status.idle": "2022-08-27T06:27:17.091628Z",
     "shell.execute_reply": "2022-08-27T06:27:17.091101Z"
    },
    "papermill": {
     "duration": 1.170454,
     "end_time": "2022-08-27T06:27:17.093116",
     "exception": false,
     "start_time": "2022-08-27T06:27:15.922662",
     "status": "completed"
    },
    "tags": []
   },
   "outputs": [
    {
     "data": {
      "text/plain": [
       "0"
      ]
     },
     "metadata": {},
     "output_type": "display_data"
    },
    {
     "data": {
      "text/plain": [
       "array([], dtype=float64)"
      ]
     },
     "metadata": {},
     "output_type": "display_data"
    }
   ],
   "source": [
    "# print negative eigenvalues\n",
    "eigs = np.linalg.eigvals(gene_corrs_df.to_numpy())\n",
    "display(len(eigs[eigs < 0]))\n",
    "display(eigs[eigs < 0])"
   ]
  },
  {
   "cell_type": "code",
   "execution_count": 39,
   "id": "6e218436-c3c5-4028-8c94-a4fa6260efce",
   "metadata": {
    "execution": {
     "iopub.execute_input": "2022-08-27T06:27:19.352531Z",
     "iopub.status.busy": "2022-08-27T06:27:19.352253Z",
     "iopub.status.idle": "2022-08-27T06:27:19.378912Z",
     "shell.execute_reply": "2022-08-27T06:27:19.378380Z"
    },
    "papermill": {
     "duration": 1.156157,
     "end_time": "2022-08-27T06:27:19.380410",
     "exception": false,
     "start_time": "2022-08-27T06:27:18.224253",
     "status": "completed"
    },
    "tags": []
   },
   "outputs": [
    {
     "name": "stdout",
     "output_type": "stream",
     "text": [
      "Works!\n"
     ]
    }
   ],
   "source": [
    "try:\n",
    "    chol_mat = np.linalg.cholesky(gene_corrs_df.to_numpy())\n",
    "    cov_inv = np.linalg.inv(chol_mat)\n",
    "    print(\"Works!\")\n",
    "except Exception as e:\n",
    "    print(f\"Cholesky decomposition failed: {str(e)}\")"
   ]
  },
  {
   "cell_type": "code",
   "execution_count": 40,
   "id": "dd8827fb-faf9-4c7c-9454-015e94752706",
   "metadata": {
    "execution": {
     "iopub.execute_input": "2022-08-27T06:27:21.698000Z",
     "iopub.status.busy": "2022-08-27T06:27:21.697732Z",
     "iopub.status.idle": "2022-08-27T06:27:21.721824Z",
     "shell.execute_reply": "2022-08-27T06:27:21.721282Z"
    },
    "papermill": {
     "duration": 1.157789,
     "end_time": "2022-08-27T06:27:21.723320",
     "exception": false,
     "start_time": "2022-08-27T06:27:20.565531",
     "status": "completed"
    },
    "tags": []
   },
   "outputs": [
    {
     "name": "stdout",
     "output_type": "stream",
     "text": [
      "Works!\n"
     ]
    }
   ],
   "source": [
    "try:\n",
    "    # decomposition used by statsmodels.GLS\n",
    "    cholsigmainv = np.linalg.cholesky(np.linalg.inv(gene_corrs_df.to_numpy())).T\n",
    "    print(\"Works!\")\n",
    "except Exception as e:\n",
    "    print(f\"Cholesky decomposition failed (statsmodels.GLS): {str(e)}\")"
   ]
  },
  {
   "cell_type": "markdown",
   "id": "8e60a080-edb2-4e9c-b2ef-22961693200c",
   "metadata": {
    "papermill": {
     "duration": 1.132099,
     "end_time": "2022-08-27T06:27:23.992832",
     "exception": false,
     "start_time": "2022-08-27T06:27:22.860733",
     "status": "completed"
    },
    "tags": []
   },
   "source": [
    "## Plot: distribution"
   ]
  },
  {
   "cell_type": "code",
   "execution_count": 41,
   "id": "8301126b-a7d4-4744-9c7d-f0f86eb6f54c",
   "metadata": {
    "execution": {
     "iopub.execute_input": "2022-08-27T06:27:26.268902Z",
     "iopub.status.busy": "2022-08-27T06:27:26.268624Z",
     "iopub.status.idle": "2022-08-27T06:27:31.559249Z",
     "shell.execute_reply": "2022-08-27T06:27:31.558685Z"
    },
    "papermill": {
     "duration": 6.427884,
     "end_time": "2022-08-27T06:27:31.560943",
     "exception": false,
     "start_time": "2022-08-27T06:27:25.133059",
     "status": "completed"
    },
    "tags": []
   },
   "outputs": [
    {
     "data": {
      "image/png": "[encoded data removed]",
      "text/plain": [
       "<Figure size 504x504 with 1 Axes>"
      ]
     },
     "metadata": {
      "needs_background": "light"
     },
     "output_type": "display_data"
    }
   ],
   "source": [
    "with sns.plotting_context(\"paper\", font_scale=1.5):\n",
    "    g = sns.displot(gene_corrs_flat, kde=True, height=7)\n",
    "    g.ax.set_title(\n",
    "        f\"Distribution of gene correlation values in chromosome {CHROMOSOME}\"\n",
    "    )"
   ]
  },
  {
   "cell_type": "markdown",
   "id": "cbd52bca-d878-4a2f-b684-5c83aa3038d4",
   "metadata": {
    "papermill": {
     "duration": 1.173007,
     "end_time": "2022-08-27T06:27:33.856015",
     "exception": false,
     "start_time": "2022-08-27T06:27:32.683008",
     "status": "completed"
    },
    "tags": []
   },
   "source": [
    "## Plot: heatmap"
   ]
  },
  {
   "cell_type": "code",
   "execution_count": 42,
   "id": "d03fe63a-c7b2-4fb9-a53c-db362ce843c9",
   "metadata": {
    "execution": {
     "iopub.execute_input": "2022-08-27T06:27:36.168141Z",
     "iopub.status.busy": "2022-08-27T06:27:36.167872Z",
     "iopub.status.idle": "2022-08-27T06:27:36.197629Z",
     "shell.execute_reply": "2022-08-27T06:27:36.197098Z"
    },
    "papermill": {
     "duration": 1.194465,
     "end_time": "2022-08-27T06:27:36.199136",
     "exception": false,
     "start_time": "2022-08-27T06:27:35.004671",
     "status": "completed"
    },
    "tags": []
   },
   "outputs": [
    {
     "data": {
      "text/plain": [
       "'0.0 / 0.05'"
      ]
     },
     "metadata": {},
     "output_type": "display_data"
    }
   ],
   "source": [
    "vmin_val = min(0.00, gene_corrs_quantiles[0.10])\n",
    "vmax_val = max(0.05, gene_corrs_quantiles[0.90])\n",
    "display(f\"{vmin_val} / {vmax_val}\")"
   ]
  },
  {
   "cell_type": "code",
   "execution_count": 43,
   "id": "dc41b70b-5bcc-4d9e-9f33-a22c4a94dab5",
   "metadata": {
    "execution": {
     "iopub.execute_input": "2022-08-27T06:27:38.456520Z",
     "iopub.status.busy": "2022-08-27T06:27:38.456232Z",
     "iopub.status.idle": "2022-08-27T06:27:39.270279Z",
     "shell.execute_reply": "2022-08-27T06:27:39.269761Z"
    },
    "papermill": {
     "duration": 1.936953,
     "end_time": "2022-08-27T06:27:39.271967",
     "exception": false,
     "start_time": "2022-08-27T06:27:37.335014",
     "status": "completed"
    },
    "tags": []
   },
   "outputs": [
    {
     "data": {
      "text/plain": [
       "Text(0.5, 1.0, 'Gene correlations in chromosome 20')"
      ]
     },
     "execution_count": 43,
     "metadata": {},
     "output_type": "execute_result"
    },
    {
     "data": {
      "image/png": "[encoded data removed]",
      "text/plain": [
       "<Figure size 720x720 with 2 Axes>"
      ]
     },
     "metadata": {
      "needs_background": "light"
     },
     "output_type": "display_data"
    }
   ],
   "source": [
    "f, ax = plt.subplots(figsize=(10, 10))\n",
    "sns.heatmap(\n",
    "    gene_corrs_df,\n",
    "    xticklabels=False,\n",
    "    yticklabels=False,\n",
    "    square=True,\n",
    "    vmin=vmin_val,\n",
    "    vmax=vmax_val,\n",
    "    cmap=\"rocket_r\",\n",
    "    ax=ax,\n",
    ")\n",
    "ax.set_title(f\"Gene correlations in chromosome {CHROMOSOME}\")"
   ]
  },
  {
   "cell_type": "code",
   "execution_count": null,
   "id": "b25e3ead",
   "metadata": {
    "papermill": {
     "duration": 1.127955,
     "end_time": "2022-08-27T06:27:41.550726",
     "exception": false,
     "start_time": "2022-08-27T06:27:40.422771",
     "status": "completed"
    },
    "tags": []
   },
   "outputs": [],
   "source": []
  }
 ],
 "metadata": {
  "jupytext": {
   "cell_metadata_filter": "all,-execution,-papermill,-trusted",
   "formats": "ipynb,py//py:percent"
  },
  "kernelspec": {
   "display_name": "Python 3 (ipykernel)",
   "language": "python",
   "name": "python3"
  },
  "language_info": {
   "codemirror_mode": {
    "name": "ipython",
    "version": 3
   },
   "file_extension": ".py",
   "mimetype": "text/x-python",
   "name": "python",
   "nbconvert_exporter": "python",
   "pygments_lexer": "ipython3",
   "version": "3.8.13"
  },
  "papermill": {
   "default_parameters": {},
   "duration": 1721.729015,
   "end_time": "2022-08-27T06:27:45.907010",
   "environment_variables": {},
   "exception": null,
   "input_path": "nbs/15_gsa_gls/10-gene_expr_correlations.ipynb",
   "output_path": "nbs/15_gsa_gls/gene_corrs/cohorts/phenomexcan_rapid_gwas/gtex_v8/mashr/10-gene_expr_corrs/10-gene_expr_correlations-chr20.run.ipynb",
   "parameters": {
    "CHROMOSOME": 20,
    "COHORT_NAME": "phenomexcan_rapid_gwas",
    "EQTL_MODEL": "MASHR",
    "REFERENCE_PANEL": "GTEX_V8"
   },
   "start_time": "2022-08-27T05:59:04.177995",
   "version": "2.2.2"
  }
 },
 "nbformat": 4,
 "nbformat_minor": 5
}
