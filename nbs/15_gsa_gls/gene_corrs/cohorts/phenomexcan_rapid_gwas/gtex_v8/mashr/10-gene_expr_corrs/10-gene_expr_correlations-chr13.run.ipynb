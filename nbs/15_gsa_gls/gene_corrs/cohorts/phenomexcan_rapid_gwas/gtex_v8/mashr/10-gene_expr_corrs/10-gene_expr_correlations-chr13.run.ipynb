{
 "cells": [
  {
   "cell_type": "markdown",
   "id": "7a6632fb",
   "metadata": {
    "papermill": {
     "duration": 0.009703,
     "end_time": "2022-08-28T14:26:15.000144",
     "exception": false,
     "start_time": "2022-08-28T14:26:14.990441",
     "status": "completed"
    },
    "tags": []
   },
   "source": [
    "# Description"
   ]
  },
  {
   "cell_type": "markdown",
   "id": "7097c346",
   "metadata": {
    "papermill": {
     "duration": 0.00849,
     "end_time": "2022-08-28T14:26:15.017146",
     "exception": false,
     "start_time": "2022-08-28T14:26:15.008656",
     "status": "completed"
    },
    "tags": []
   },
   "source": [
    "(Please, take a look at the README.md file in this directory for instructions on how to run this notebook)\n",
    "\n",
    "This notebook computes predicted expression correlations between all genes in the MultiPLIER models.\n",
    "\n",
    "It also has a parameter set for papermill to run on a single chromosome to run in parallel (see under `Settings` below).\n",
    "\n",
    "This notebook is not directly run. See README.md."
   ]
  },
  {
   "cell_type": "markdown",
   "id": "c61d8427",
   "metadata": {
    "papermill": {
     "duration": 0.008098,
     "end_time": "2022-08-28T14:26:15.033181",
     "exception": false,
     "start_time": "2022-08-28T14:26:15.025083",
     "status": "completed"
    },
    "tags": []
   },
   "source": [
    "# Modules"
   ]
  },
  {
   "cell_type": "code",
   "execution_count": 1,
   "id": "bbc0234f",
   "metadata": {
    "execution": {
     "iopub.execute_input": "2022-08-28T14:26:15.050441Z",
     "iopub.status.busy": "2022-08-28T14:26:15.050221Z",
     "iopub.status.idle": "2022-08-28T14:26:15.078998Z",
     "shell.execute_reply": "2022-08-28T14:26:15.078495Z"
    },
    "papermill": {
     "duration": 0.039496,
     "end_time": "2022-08-28T14:26:15.080672",
     "exception": false,
     "start_time": "2022-08-28T14:26:15.041176",
     "status": "completed"
    },
    "tags": []
   },
   "outputs": [],
   "source": [
    "%load_ext autoreload\n",
    "%autoreload 2"
   ]
  },
  {
   "cell_type": "code",
   "execution_count": 2,
   "id": "1d5f5a59",
   "metadata": {
    "execution": {
     "iopub.execute_input": "2022-08-28T14:26:15.098747Z",
     "iopub.status.busy": "2022-08-28T14:26:15.098552Z",
     "iopub.status.idle": "2022-08-28T14:26:17.021746Z",
     "shell.execute_reply": "2022-08-28T14:26:17.021152Z"
    },
    "papermill": {
     "duration": 1.934596,
     "end_time": "2022-08-28T14:26:17.023678",
     "exception": false,
     "start_time": "2022-08-28T14:26:15.089082",
     "status": "completed"
    },
    "tags": []
   },
   "outputs": [],
   "source": [
    "from random import sample, seed\n",
    "import warnings\n",
    "from pathlib import Path\n",
    "import pickle\n",
    "import traceback\n",
    "\n",
    "import numpy as np\n",
    "from scipy.spatial.distance import squareform\n",
    "import pandas as pd\n",
    "from tqdm import tqdm\n",
    "import matplotlib.pyplot as plt\n",
    "import seaborn as sns\n",
    "\n",
    "import conf\n",
    "from entity import Gene"
   ]
  },
  {
   "cell_type": "markdown",
   "id": "1eac24b5",
   "metadata": {
    "papermill": {
     "duration": 0.0085,
     "end_time": "2022-08-28T14:26:17.069510",
     "exception": false,
     "start_time": "2022-08-28T14:26:17.061010",
     "status": "completed"
    },
    "tags": []
   },
   "source": [
    "# Settings"
   ]
  },
  {
   "cell_type": "code",
   "execution_count": 3,
   "id": "ca4560ba",
   "metadata": {
    "execution": {
     "iopub.execute_input": "2022-08-28T14:26:17.087478Z",
     "iopub.status.busy": "2022-08-28T14:26:17.087237Z",
     "iopub.status.idle": "2022-08-28T14:26:17.180985Z",
     "shell.execute_reply": "2022-08-28T14:26:17.180380Z"
    },
    "papermill": {
     "duration": 0.104759,
     "end_time": "2022-08-28T14:26:17.182538",
     "exception": false,
     "start_time": "2022-08-28T14:26:17.077779",
     "status": "completed"
    },
    "tags": [
     "parameters"
    ]
   },
   "outputs": [],
   "source": [
    "# a cohort name (it could be something like UK_BIOBANK, etc)\n",
    "COHORT_NAME = None\n",
    "\n",
    "# reference panel such as 1000G or GTEX_V8\n",
    "REFERENCE_PANEL = None\n",
    "\n",
    "# predictions models such as MASHR or ELASTIC_NET\n",
    "EQTL_MODEL = None\n",
    "\n",
    "# this is the default value used in S-MultiXcan to select the\n",
    "# top principal components of the expression correlation matrix\n",
    "SMULTIXCAN_CONDITION_NUMBER = 30\n",
    "\n",
    "# specifies a single chromosome value\n",
    "CHROMOSOME = None\n",
    "\n",
    "# If True, computes the correlation between closeby genes only;\n",
    "# otherwise, it computes correlations for all genes in a chromosome\n",
    "COMPUTE_CORRELATIONS_WITHIN_DISTANCE = False\n",
    "\n",
    "# if True, then it will continue if a gene pair correlation fails,\n",
    "# printing the warning/error for debugging. If False, any warning/error\n",
    "# will be thrown\n",
    "DEBUG_MODE = False"
   ]
  },
  {
   "cell_type": "code",
   "execution_count": 4,
   "id": "a7070fc4",
   "metadata": {
    "execution": {
     "iopub.execute_input": "2022-08-28T14:26:17.200173Z",
     "iopub.status.busy": "2022-08-28T14:26:17.199981Z",
     "iopub.status.idle": "2022-08-28T14:26:17.215825Z",
     "shell.execute_reply": "2022-08-28T14:26:17.215201Z"
    },
    "papermill": {
     "duration": 0.026485,
     "end_time": "2022-08-28T14:26:17.217376",
     "exception": false,
     "start_time": "2022-08-28T14:26:17.190891",
     "status": "completed"
    },
    "tags": [
     "injected-parameters"
    ]
   },
   "outputs": [],
   "source": [
    "# Parameters\n",
    "COHORT_NAME = \"phenomexcan_rapid_gwas\"\n",
    "REFERENCE_PANEL = \"GTEX_V8\"\n",
    "EQTL_MODEL = \"MASHR\"\n",
    "CHROMOSOME = 13\n"
   ]
  },
  {
   "cell_type": "code",
   "execution_count": 5,
   "id": "3190631f-27fc-480f-b18e-571d580425a5",
   "metadata": {
    "execution": {
     "iopub.execute_input": "2022-08-28T14:26:17.236461Z",
     "iopub.status.busy": "2022-08-28T14:26:17.236271Z",
     "iopub.status.idle": "2022-08-28T14:26:17.255669Z",
     "shell.execute_reply": "2022-08-28T14:26:17.254921Z"
    },
    "papermill": {
     "duration": 0.030753,
     "end_time": "2022-08-28T14:26:17.257109",
     "exception": false,
     "start_time": "2022-08-28T14:26:17.226356",
     "status": "completed"
    },
    "tags": []
   },
   "outputs": [
    {
     "data": {
      "text/plain": [
       "'Cohort name: phenomexcan_rapid_gwas'"
      ]
     },
     "metadata": {},
     "output_type": "display_data"
    }
   ],
   "source": [
    "assert COHORT_NAME is not None and len(COHORT_NAME) > 0, \"A cohort name must be given\"\n",
    "\n",
    "COHORT_NAME = COHORT_NAME.lower()\n",
    "display(f\"Cohort name: {COHORT_NAME}\")"
   ]
  },
  {
   "cell_type": "code",
   "execution_count": 6,
   "id": "f53ba19b-0f93-4fa2-a047-63b375939d1a",
   "metadata": {
    "execution": {
     "iopub.execute_input": "2022-08-28T14:26:17.275218Z",
     "iopub.status.busy": "2022-08-28T14:26:17.275027Z",
     "iopub.status.idle": "2022-08-28T14:26:17.292172Z",
     "shell.execute_reply": "2022-08-28T14:26:17.291478Z"
    },
    "papermill": {
     "duration": 0.028143,
     "end_time": "2022-08-28T14:26:17.293696",
     "exception": false,
     "start_time": "2022-08-28T14:26:17.265553",
     "status": "completed"
    },
    "tags": []
   },
   "outputs": [
    {
     "data": {
      "text/plain": [
       "'Reference panel: GTEX_V8'"
      ]
     },
     "metadata": {},
     "output_type": "display_data"
    }
   ],
   "source": [
    "assert (\n",
    "    REFERENCE_PANEL is not None and len(REFERENCE_PANEL) > 0\n",
    "), \"A reference panel must be given\"\n",
    "\n",
    "display(f\"Reference panel: {REFERENCE_PANEL}\")"
   ]
  },
  {
   "cell_type": "code",
   "execution_count": 7,
   "id": "e024d130-c139-429a-9c6e-ccf149e297b0",
   "metadata": {
    "execution": {
     "iopub.execute_input": "2022-08-28T14:26:17.311455Z",
     "iopub.status.busy": "2022-08-28T14:26:17.311265Z",
     "iopub.status.idle": "2022-08-28T14:26:17.328558Z",
     "shell.execute_reply": "2022-08-28T14:26:17.327845Z"
    },
    "papermill": {
     "duration": 0.027721,
     "end_time": "2022-08-28T14:26:17.330092",
     "exception": false,
     "start_time": "2022-08-28T14:26:17.302371",
     "status": "completed"
    },
    "tags": []
   },
   "outputs": [
    {
     "data": {
      "text/plain": [
       "'eQTL model: MASHR) / mashr_'"
      ]
     },
     "metadata": {},
     "output_type": "display_data"
    }
   ],
   "source": [
    "assert (\n",
    "    EQTL_MODEL is not None and len(EQTL_MODEL) > 0\n",
    "), \"A prediction/eQTL model must be given\"\n",
    "\n",
    "EQTL_MODEL_FILES_PREFIX = conf.PHENOMEXCAN[\"PREDICTION_MODELS\"][f\"{EQTL_MODEL}_PREFIX\"]\n",
    "display(f\"eQTL model: {EQTL_MODEL}) / {EQTL_MODEL_FILES_PREFIX}\")"
   ]
  },
  {
   "cell_type": "code",
   "execution_count": 8,
   "id": "552a7f63-a18c-4d3e-bb6a-94f99b431291",
   "metadata": {
    "execution": {
     "iopub.execute_input": "2022-08-28T14:26:17.350137Z",
     "iopub.status.busy": "2022-08-28T14:26:17.349947Z",
     "iopub.status.idle": "2022-08-28T14:26:17.366995Z",
     "shell.execute_reply": "2022-08-28T14:26:17.366302Z"
    },
    "papermill": {
     "duration": 0.028249,
     "end_time": "2022-08-28T14:26:17.368523",
     "exception": false,
     "start_time": "2022-08-28T14:26:17.340274",
     "status": "completed"
    },
    "tags": []
   },
   "outputs": [
    {
     "data": {
      "text/plain": [
       "'S-MultiXcan condition number: 30'"
      ]
     },
     "metadata": {},
     "output_type": "display_data"
    }
   ],
   "source": [
    "assert (\n",
    "    SMULTIXCAN_CONDITION_NUMBER is not None and SMULTIXCAN_CONDITION_NUMBER > 0\n",
    "), \"The S-MultiXcan condition number (positive integer) must be given\"\n",
    "\n",
    "display(f\"S-MultiXcan condition number: {SMULTIXCAN_CONDITION_NUMBER}\")"
   ]
  },
  {
   "cell_type": "code",
   "execution_count": 9,
   "id": "f34a336f-548e-4afe-8955-90eaea4f42c6",
   "metadata": {
    "execution": {
     "iopub.execute_input": "2022-08-28T14:26:17.387904Z",
     "iopub.status.busy": "2022-08-28T14:26:17.387704Z",
     "iopub.status.idle": "2022-08-28T14:26:17.404824Z",
     "shell.execute_reply": "2022-08-28T14:26:17.404035Z"
    },
    "papermill": {
     "duration": 0.028624,
     "end_time": "2022-08-28T14:26:17.406349",
     "exception": false,
     "start_time": "2022-08-28T14:26:17.377725",
     "status": "completed"
    },
    "tags": []
   },
   "outputs": [
    {
     "data": {
      "text/plain": [
       "'Working on chromosome 13'"
      ]
     },
     "metadata": {},
     "output_type": "display_data"
    }
   ],
   "source": [
    "assert CHROMOSOME is not None and (\n",
    "    1 <= CHROMOSOME <= 22\n",
    "), \"You have to select one chromosome (format: number between 1 and 22)\"\n",
    "\n",
    "# CHROMOSOME = str(CHROMOSOME)\n",
    "display(f\"Working on chromosome {CHROMOSOME}\")"
   ]
  },
  {
   "cell_type": "code",
   "execution_count": 10,
   "id": "ab8e96e8-06b5-4363-9dcd-dc4d78cc27f7",
   "metadata": {
    "execution": {
     "iopub.execute_input": "2022-08-28T14:26:17.425514Z",
     "iopub.status.busy": "2022-08-28T14:26:17.425324Z",
     "iopub.status.idle": "2022-08-28T14:26:17.442957Z",
     "shell.execute_reply": "2022-08-28T14:26:17.442162Z"
    },
    "papermill": {
     "duration": 0.028793,
     "end_time": "2022-08-28T14:26:17.444525",
     "exception": false,
     "start_time": "2022-08-28T14:26:17.415732",
     "status": "completed"
    },
    "tags": []
   },
   "outputs": [
    {
     "data": {
      "text/plain": [
       "'Compute correlation within distance False'"
      ]
     },
     "metadata": {},
     "output_type": "display_data"
    }
   ],
   "source": [
    "display(f\"Compute correlation within distance {COMPUTE_CORRELATIONS_WITHIN_DISTANCE}\")"
   ]
  },
  {
   "cell_type": "code",
   "execution_count": 11,
   "id": "396392dc-0340-4540-9b02-e182b833f909",
   "metadata": {
    "execution": {
     "iopub.execute_input": "2022-08-28T14:26:17.463576Z",
     "iopub.status.busy": "2022-08-28T14:26:17.463386Z",
     "iopub.status.idle": "2022-08-28T14:26:17.483390Z",
     "shell.execute_reply": "2022-08-28T14:26:17.482785Z"
    },
    "papermill": {
     "duration": 0.031547,
     "end_time": "2022-08-28T14:26:17.484929",
     "exception": false,
     "start_time": "2022-08-28T14:26:17.453382",
     "status": "completed"
    },
    "tags": []
   },
   "outputs": [
    {
     "data": {
      "text/plain": [
       "'Using output dir base: /project/ritchie20/projects/phenoplier/base/results/gls/gene_corrs/cohorts/phenomexcan_rapid_gwas/gtex_v8/mashr'"
      ]
     },
     "metadata": {},
     "output_type": "display_data"
    }
   ],
   "source": [
    "OUTPUT_DIR_BASE = (\n",
    "    conf.RESULTS[\"GLS\"]\n",
    "    / \"gene_corrs\"\n",
    "    / \"cohorts\"\n",
    "    / COHORT_NAME\n",
    "    / REFERENCE_PANEL.lower()\n",
    "    / EQTL_MODEL.lower()\n",
    ")\n",
    "OUTPUT_DIR_BASE.mkdir(parents=True, exist_ok=True)\n",
    "\n",
    "display(f\"Using output dir base: {OUTPUT_DIR_BASE}\")"
   ]
  },
  {
   "cell_type": "markdown",
   "id": "d2ba085e",
   "metadata": {
    "papermill": {
     "duration": 0.008727,
     "end_time": "2022-08-28T14:26:17.502430",
     "exception": false,
     "start_time": "2022-08-28T14:26:17.493703",
     "status": "completed"
    },
    "tags": []
   },
   "source": [
    "# Load data"
   ]
  },
  {
   "cell_type": "markdown",
   "id": "7dcb8db7",
   "metadata": {
    "papermill": {
     "duration": 0.008567,
     "end_time": "2022-08-28T14:26:17.519878",
     "exception": false,
     "start_time": "2022-08-28T14:26:17.511311",
     "status": "completed"
    },
    "tags": []
   },
   "source": [
    "## GWAS variants"
   ]
  },
  {
   "cell_type": "code",
   "execution_count": 12,
   "id": "29434c4e-8cd3-4b9b-82e4-b5a251d9dd19",
   "metadata": {
    "execution": {
     "iopub.execute_input": "2022-08-28T14:26:17.538455Z",
     "iopub.status.busy": "2022-08-28T14:26:17.538267Z",
     "iopub.status.idle": "2022-08-28T14:26:19.901814Z",
     "shell.execute_reply": "2022-08-28T14:26:19.901140Z"
    },
    "papermill": {
     "duration": 2.374674,
     "end_time": "2022-08-28T14:26:19.903692",
     "exception": false,
     "start_time": "2022-08-28T14:26:17.529018",
     "status": "completed"
    },
    "tags": []
   },
   "outputs": [],
   "source": [
    "with open(OUTPUT_DIR_BASE / \"gwas_variant_ids.pkl\", \"rb\") as handle:\n",
    "    gwas_variants_ids_set = pickle.load(handle)"
   ]
  },
  {
   "cell_type": "code",
   "execution_count": 13,
   "id": "b9d9dec2-4a76-4bf9-bde2-e24c95acb8a0",
   "metadata": {
    "execution": {
     "iopub.execute_input": "2022-08-28T14:26:19.923501Z",
     "iopub.status.busy": "2022-08-28T14:26:19.923305Z",
     "iopub.status.idle": "2022-08-28T14:26:20.047838Z",
     "shell.execute_reply": "2022-08-28T14:26:20.047333Z"
    },
    "papermill": {
     "duration": 0.135902,
     "end_time": "2022-08-28T14:26:20.049277",
     "exception": false,
     "start_time": "2022-08-28T14:26:19.913375",
     "status": "completed"
    },
    "tags": []
   },
   "outputs": [
    {
     "data": {
      "text/plain": [
       "8496088"
      ]
     },
     "execution_count": 13,
     "metadata": {},
     "output_type": "execute_result"
    }
   ],
   "source": [
    "len(gwas_variants_ids_set)"
   ]
  },
  {
   "cell_type": "code",
   "execution_count": 14,
   "id": "4235b06a-6034-4ee4-a0a3-2ae35d122418",
   "metadata": {
    "execution": {
     "iopub.execute_input": "2022-08-28T14:26:20.068674Z",
     "iopub.status.busy": "2022-08-28T14:26:20.068484Z",
     "iopub.status.idle": "2022-08-28T14:26:20.667960Z",
     "shell.execute_reply": "2022-08-28T14:26:20.667409Z"
    },
    "papermill": {
     "duration": 0.611246,
     "end_time": "2022-08-28T14:26:20.669513",
     "exception": false,
     "start_time": "2022-08-28T14:26:20.058267",
     "status": "completed"
    },
    "tags": []
   },
   "outputs": [
    {
     "data": {
      "text/plain": [
       "['chr4_148346889_G_A_b38',\n",
       " 'chr2_17247357_T_A_b38',\n",
       " 'chr5_67613544_C_A_b38',\n",
       " 'chr1_177463177_C_T_b38',\n",
       " 'chr18_281423_C_G_b38']"
      ]
     },
     "execution_count": 14,
     "metadata": {},
     "output_type": "execute_result"
    }
   ],
   "source": [
    "list(gwas_variants_ids_set)[:5]"
   ]
  },
  {
   "cell_type": "markdown",
   "id": "07866999-2305-41f9-a144-e69c9122c212",
   "metadata": {
    "papermill": {
     "duration": 0.009194,
     "end_time": "2022-08-28T14:26:20.688972",
     "exception": false,
     "start_time": "2022-08-28T14:26:20.679778",
     "status": "completed"
    },
    "tags": []
   },
   "source": [
    "## S-PrediXcan tissue models"
   ]
  },
  {
   "cell_type": "code",
   "execution_count": 15,
   "id": "780611d9-77c8-405f-90a4-f271f7b09397",
   "metadata": {
    "execution": {
     "iopub.execute_input": "2022-08-28T14:26:20.708284Z",
     "iopub.status.busy": "2022-08-28T14:26:20.708087Z",
     "iopub.status.idle": "2022-08-28T14:26:21.861834Z",
     "shell.execute_reply": "2022-08-28T14:26:21.861054Z"
    },
    "papermill": {
     "duration": 1.165847,
     "end_time": "2022-08-28T14:26:21.863807",
     "exception": false,
     "start_time": "2022-08-28T14:26:20.697960",
     "status": "completed"
    },
    "tags": []
   },
   "outputs": [],
   "source": [
    "spredixcan_genes_models = pd.read_pickle(OUTPUT_DIR_BASE / \"gene_tissues.pkl\")"
   ]
  },
  {
   "cell_type": "code",
   "execution_count": 16,
   "id": "726dd1f6-9557-4225-91fa-b3b879ea96e1",
   "metadata": {
    "execution": {
     "iopub.execute_input": "2022-08-28T14:26:21.883663Z",
     "iopub.status.busy": "2022-08-28T14:26:21.883455Z",
     "iopub.status.idle": "2022-08-28T14:26:21.918277Z",
     "shell.execute_reply": "2022-08-28T14:26:21.917534Z"
    },
    "papermill": {
     "duration": 0.046419,
     "end_time": "2022-08-28T14:26:21.919837",
     "exception": false,
     "start_time": "2022-08-28T14:26:21.873418",
     "status": "completed"
    },
    "tags": []
   },
   "outputs": [
    {
     "data": {
      "text/plain": [
       "(6428, 9)"
      ]
     },
     "execution_count": 16,
     "metadata": {},
     "output_type": "execute_result"
    }
   ],
   "source": [
    "spredixcan_genes_models.shape"
   ]
  },
  {
   "cell_type": "code",
   "execution_count": 17,
   "id": "944a1b48-222c-4eb0-b252-b9de2cbca215",
   "metadata": {
    "execution": {
     "iopub.execute_input": "2022-08-28T14:26:21.940119Z",
     "iopub.status.busy": "2022-08-28T14:26:21.939927Z",
     "iopub.status.idle": "2022-08-28T14:26:21.972249Z",
     "shell.execute_reply": "2022-08-28T14:26:21.971584Z"
    },
    "papermill": {
     "duration": 0.043971,
     "end_time": "2022-08-28T14:26:21.973683",
     "exception": false,
     "start_time": "2022-08-28T14:26:21.929712",
     "status": "completed"
    },
    "tags": []
   },
   "outputs": [
    {
     "data": {
      "text/html": [
       "<div>\n",
       "<style scoped>\n",
       "    .dataframe tbody tr th:only-of-type {\n",
       "        vertical-align: middle;\n",
       "    }\n",
       "\n",
       "    .dataframe tbody tr th {\n",
       "        vertical-align: top;\n",
       "    }\n",
       "\n",
       "    .dataframe thead th {\n",
       "        text-align: right;\n",
       "    }\n",
       "</style>\n",
       "<table border=\"1\" class=\"dataframe\">\n",
       "  <thead>\n",
       "    <tr style=\"text-align: right;\">\n",
       "      <th></th>\n",
       "      <th>gene_name</th>\n",
       "      <th>tissue</th>\n",
       "      <th>n_tissues</th>\n",
       "      <th>tissues_pc_variances</th>\n",
       "      <th>tissues_variances</th>\n",
       "      <th>n_snps_used_sum</th>\n",
       "      <th>n_snps_in_model_sum</th>\n",
       "      <th>unique_n_snps_in_model</th>\n",
       "      <th>unique_n_snps_used</th>\n",
       "    </tr>\n",
       "    <tr>\n",
       "      <th>gene_id</th>\n",
       "      <th></th>\n",
       "      <th></th>\n",
       "      <th></th>\n",
       "      <th></th>\n",
       "      <th></th>\n",
       "      <th></th>\n",
       "      <th></th>\n",
       "      <th></th>\n",
       "      <th></th>\n",
       "    </tr>\n",
       "  </thead>\n",
       "  <tbody>\n",
       "    <tr>\n",
       "      <th>ENSG00000000419</th>\n",
       "      <td>DPM1</td>\n",
       "      <td>(Brain_Hypothalamus, Brain_Substantia_nigra)</td>\n",
       "      <td>2</td>\n",
       "      <td>[1.0442398458252409, 0.9557601541747592]</td>\n",
       "      <td>{'Brain_Hypothalamus': 0.013162153504206677, '...</td>\n",
       "      <td>2</td>\n",
       "      <td>2</td>\n",
       "      <td>2</td>\n",
       "      <td>2</td>\n",
       "    </tr>\n",
       "    <tr>\n",
       "      <th>ENSG00000000938</th>\n",
       "      <td>FGR</td>\n",
       "      <td>(Skin_Not_Sun_Exposed_Suprapubic, Brain_Anteri...</td>\n",
       "      <td>36</td>\n",
       "      <td>[31.632669336371276, 2.0783677518511436, 1.271...</td>\n",
       "      <td>{'Esophagus_Gastroesophageal_Junction': 0.0069...</td>\n",
       "      <td>40</td>\n",
       "      <td>40</td>\n",
       "      <td>5</td>\n",
       "      <td>5</td>\n",
       "    </tr>\n",
       "    <tr>\n",
       "      <th>ENSG00000000971</th>\n",
       "      <td>CFH</td>\n",
       "      <td>(Kidney_Cortex, Skin_Not_Sun_Exposed_Suprapubi...</td>\n",
       "      <td>34</td>\n",
       "      <td>[21.560769925683296, 7.3101709870454625, 1.837...</td>\n",
       "      <td>{'Brain_Putamen_basal_ganglia': 0.016948774742...</td>\n",
       "      <td>44</td>\n",
       "      <td>44</td>\n",
       "      <td>12</td>\n",
       "      <td>12</td>\n",
       "    </tr>\n",
       "    <tr>\n",
       "      <th>ENSG00000001084</th>\n",
       "      <td>GCLC</td>\n",
       "      <td>(Skin_Not_Sun_Exposed_Suprapubic, Heart_Atrial...</td>\n",
       "      <td>33</td>\n",
       "      <td>[21.74736589643256, 4.700645786683648, 2.24994...</td>\n",
       "      <td>{'Brain_Putamen_basal_ganglia': 0.022893962687...</td>\n",
       "      <td>47</td>\n",
       "      <td>47</td>\n",
       "      <td>24</td>\n",
       "      <td>24</td>\n",
       "    </tr>\n",
       "    <tr>\n",
       "      <th>ENSG00000001167</th>\n",
       "      <td>NFYA</td>\n",
       "      <td>(Vagina, Kidney_Cortex, Skin_Not_Sun_Exposed_S...</td>\n",
       "      <td>40</td>\n",
       "      <td>[37.33566029549769, 1.3914019604538372]</td>\n",
       "      <td>{'Brain_Putamen_basal_ganglia': 0.011466969312...</td>\n",
       "      <td>47</td>\n",
       "      <td>48</td>\n",
       "      <td>14</td>\n",
       "      <td>13</td>\n",
       "    </tr>\n",
       "  </tbody>\n",
       "</table>\n",
       "</div>"
      ],
      "text/plain": [
       "                gene_name                                             tissue  \\\n",
       "gene_id                                                                        \n",
       "ENSG00000000419      DPM1       (Brain_Hypothalamus, Brain_Substantia_nigra)   \n",
       "ENSG00000000938       FGR  (Skin_Not_Sun_Exposed_Suprapubic, Brain_Anteri...   \n",
       "ENSG00000000971       CFH  (Kidney_Cortex, Skin_Not_Sun_Exposed_Suprapubi...   \n",
       "ENSG00000001084      GCLC  (Skin_Not_Sun_Exposed_Suprapubic, Heart_Atrial...   \n",
       "ENSG00000001167      NFYA  (Vagina, Kidney_Cortex, Skin_Not_Sun_Exposed_S...   \n",
       "\n",
       "                 n_tissues                               tissues_pc_variances  \\\n",
       "gene_id                                                                         \n",
       "ENSG00000000419          2           [1.0442398458252409, 0.9557601541747592]   \n",
       "ENSG00000000938         36  [31.632669336371276, 2.0783677518511436, 1.271...   \n",
       "ENSG00000000971         34  [21.560769925683296, 7.3101709870454625, 1.837...   \n",
       "ENSG00000001084         33  [21.74736589643256, 4.700645786683648, 2.24994...   \n",
       "ENSG00000001167         40            [37.33566029549769, 1.3914019604538372]   \n",
       "\n",
       "                                                 tissues_variances  \\\n",
       "gene_id                                                              \n",
       "ENSG00000000419  {'Brain_Hypothalamus': 0.013162153504206677, '...   \n",
       "ENSG00000000938  {'Esophagus_Gastroesophageal_Junction': 0.0069...   \n",
       "ENSG00000000971  {'Brain_Putamen_basal_ganglia': 0.016948774742...   \n",
       "ENSG00000001084  {'Brain_Putamen_basal_ganglia': 0.022893962687...   \n",
       "ENSG00000001167  {'Brain_Putamen_basal_ganglia': 0.011466969312...   \n",
       "\n",
       "                 n_snps_used_sum  n_snps_in_model_sum  unique_n_snps_in_model  \\\n",
       "gene_id                                                                         \n",
       "ENSG00000000419                2                    2                       2   \n",
       "ENSG00000000938               40                   40                       5   \n",
       "ENSG00000000971               44                   44                      12   \n",
       "ENSG00000001084               47                   47                      24   \n",
       "ENSG00000001167               47                   48                      14   \n",
       "\n",
       "                 unique_n_snps_used  \n",
       "gene_id                              \n",
       "ENSG00000000419                   2  \n",
       "ENSG00000000938                   5  \n",
       "ENSG00000000971                  12  \n",
       "ENSG00000001084                  24  \n",
       "ENSG00000001167                  13  "
      ]
     },
     "execution_count": 17,
     "metadata": {},
     "output_type": "execute_result"
    }
   ],
   "source": [
    "spredixcan_genes_models.head()"
   ]
  },
  {
   "cell_type": "code",
   "execution_count": 18,
   "id": "d1c11bb1-be0b-4f40-b360-633d6827109f",
   "metadata": {
    "execution": {
     "iopub.execute_input": "2022-08-28T14:26:21.993920Z",
     "iopub.status.busy": "2022-08-28T14:26:21.993718Z",
     "iopub.status.idle": "2022-08-28T14:26:22.009866Z",
     "shell.execute_reply": "2022-08-28T14:26:22.009173Z"
    },
    "papermill": {
     "duration": 0.027989,
     "end_time": "2022-08-28T14:26:22.011418",
     "exception": false,
     "start_time": "2022-08-28T14:26:21.983429",
     "status": "completed"
    },
    "tags": []
   },
   "outputs": [],
   "source": [
    "assert spredixcan_genes_models.index.is_unique"
   ]
  },
  {
   "cell_type": "markdown",
   "id": "a5b5092c-a13e-47c4-a92a-480fcc08f3ae",
   "metadata": {
    "papermill": {
     "duration": 0.009551,
     "end_time": "2022-08-28T14:26:22.031129",
     "exception": false,
     "start_time": "2022-08-28T14:26:22.021578",
     "status": "completed"
    },
    "tags": []
   },
   "source": [
    "## Gene info"
   ]
  },
  {
   "cell_type": "code",
   "execution_count": 19,
   "id": "7d6bb224-88e9-4358-ac10-43a41d92cdad",
   "metadata": {
    "execution": {
     "iopub.execute_input": "2022-08-28T14:26:22.051472Z",
     "iopub.status.busy": "2022-08-28T14:26:22.051280Z",
     "iopub.status.idle": "2022-08-28T14:26:22.088445Z",
     "shell.execute_reply": "2022-08-28T14:26:22.087928Z"
    },
    "papermill": {
     "duration": 0.049238,
     "end_time": "2022-08-28T14:26:22.090073",
     "exception": false,
     "start_time": "2022-08-28T14:26:22.040835",
     "status": "completed"
    },
    "tags": []
   },
   "outputs": [],
   "source": [
    "genes_info = pd.read_pickle(OUTPUT_DIR_BASE / \"genes_info.pkl\")"
   ]
  },
  {
   "cell_type": "code",
   "execution_count": 20,
   "id": "9e32abfa-546d-483e-8c18-d526e9e05903",
   "metadata": {
    "execution": {
     "iopub.execute_input": "2022-08-28T14:26:22.110777Z",
     "iopub.status.busy": "2022-08-28T14:26:22.110577Z",
     "iopub.status.idle": "2022-08-28T14:26:22.127436Z",
     "shell.execute_reply": "2022-08-28T14:26:22.126902Z"
    },
    "papermill": {
     "duration": 0.028889,
     "end_time": "2022-08-28T14:26:22.128901",
     "exception": false,
     "start_time": "2022-08-28T14:26:22.100012",
     "status": "completed"
    },
    "tags": []
   },
   "outputs": [
    {
     "data": {
      "text/plain": [
       "(6428, 7)"
      ]
     },
     "execution_count": 20,
     "metadata": {},
     "output_type": "execute_result"
    }
   ],
   "source": [
    "genes_info.shape"
   ]
  },
  {
   "cell_type": "code",
   "execution_count": 21,
   "id": "d16c3e92-85ec-468a-9a56-e25a9774a1cb",
   "metadata": {
    "execution": {
     "iopub.execute_input": "2022-08-28T14:26:22.150314Z",
     "iopub.status.busy": "2022-08-28T14:26:22.150125Z",
     "iopub.status.idle": "2022-08-28T14:26:22.171496Z",
     "shell.execute_reply": "2022-08-28T14:26:22.170841Z"
    },
    "papermill": {
     "duration": 0.03395,
     "end_time": "2022-08-28T14:26:22.173039",
     "exception": false,
     "start_time": "2022-08-28T14:26:22.139089",
     "status": "completed"
    },
    "tags": []
   },
   "outputs": [
    {
     "data": {
      "text/html": [
       "<div>\n",
       "<style scoped>\n",
       "    .dataframe tbody tr th:only-of-type {\n",
       "        vertical-align: middle;\n",
       "    }\n",
       "\n",
       "    .dataframe tbody tr th {\n",
       "        vertical-align: top;\n",
       "    }\n",
       "\n",
       "    .dataframe thead th {\n",
       "        text-align: right;\n",
       "    }\n",
       "</style>\n",
       "<table border=\"1\" class=\"dataframe\">\n",
       "  <thead>\n",
       "    <tr style=\"text-align: right;\">\n",
       "      <th></th>\n",
       "      <th>name</th>\n",
       "      <th>id</th>\n",
       "      <th>chr</th>\n",
       "      <th>band</th>\n",
       "      <th>start_position</th>\n",
       "      <th>end_position</th>\n",
       "      <th>gene_length</th>\n",
       "    </tr>\n",
       "  </thead>\n",
       "  <tbody>\n",
       "    <tr>\n",
       "      <th>0</th>\n",
       "      <td>ZNF605</td>\n",
       "      <td>ENSG00000196458</td>\n",
       "      <td>12</td>\n",
       "      <td>12q24.33</td>\n",
       "      <td>132918306</td>\n",
       "      <td>132956306</td>\n",
       "      <td>38000</td>\n",
       "    </tr>\n",
       "    <tr>\n",
       "      <th>1</th>\n",
       "      <td>FBP1</td>\n",
       "      <td>ENSG00000165140</td>\n",
       "      <td>9</td>\n",
       "      <td>9q22.32</td>\n",
       "      <td>94603133</td>\n",
       "      <td>94640249</td>\n",
       "      <td>37116</td>\n",
       "    </tr>\n",
       "    <tr>\n",
       "      <th>2</th>\n",
       "      <td>TAL1</td>\n",
       "      <td>ENSG00000162367</td>\n",
       "      <td>1</td>\n",
       "      <td>1p33</td>\n",
       "      <td>47216290</td>\n",
       "      <td>47232220</td>\n",
       "      <td>15930</td>\n",
       "    </tr>\n",
       "    <tr>\n",
       "      <th>3</th>\n",
       "      <td>MPV17</td>\n",
       "      <td>ENSG00000115204</td>\n",
       "      <td>2</td>\n",
       "      <td>2p23.3</td>\n",
       "      <td>27309492</td>\n",
       "      <td>27325680</td>\n",
       "      <td>16188</td>\n",
       "    </tr>\n",
       "    <tr>\n",
       "      <th>4</th>\n",
       "      <td>PTPRN</td>\n",
       "      <td>ENSG00000054356</td>\n",
       "      <td>2</td>\n",
       "      <td>2q35</td>\n",
       "      <td>219289623</td>\n",
       "      <td>219309648</td>\n",
       "      <td>20025</td>\n",
       "    </tr>\n",
       "  </tbody>\n",
       "</table>\n",
       "</div>"
      ],
      "text/plain": [
       "     name               id  chr      band  start_position  end_position  \\\n",
       "0  ZNF605  ENSG00000196458   12  12q24.33       132918306     132956306   \n",
       "1    FBP1  ENSG00000165140    9   9q22.32        94603133      94640249   \n",
       "2    TAL1  ENSG00000162367    1      1p33        47216290      47232220   \n",
       "3   MPV17  ENSG00000115204    2    2p23.3        27309492      27325680   \n",
       "4   PTPRN  ENSG00000054356    2      2q35       219289623     219309648   \n",
       "\n",
       "   gene_length  \n",
       "0        38000  \n",
       "1        37116  \n",
       "2        15930  \n",
       "3        16188  \n",
       "4        20025  "
      ]
     },
     "execution_count": 21,
     "metadata": {},
     "output_type": "execute_result"
    }
   ],
   "source": [
    "genes_info.head()"
   ]
  },
  {
   "cell_type": "markdown",
   "id": "d3843e06",
   "metadata": {
    "papermill": {
     "duration": 0.009857,
     "end_time": "2022-08-28T14:26:22.193471",
     "exception": false,
     "start_time": "2022-08-28T14:26:22.183614",
     "status": "completed"
    },
    "tags": []
   },
   "source": [
    "# Compute correlations"
   ]
  },
  {
   "cell_type": "code",
   "execution_count": 22,
   "id": "cb859c15-d1f3-4006-a74c-2b83c0db9611",
   "metadata": {
    "execution": {
     "iopub.execute_input": "2022-08-28T14:26:22.214489Z",
     "iopub.status.busy": "2022-08-28T14:26:22.214299Z",
     "iopub.status.idle": "2022-08-28T14:26:22.232232Z",
     "shell.execute_reply": "2022-08-28T14:26:22.231618Z"
    },
    "papermill": {
     "duration": 0.030736,
     "end_time": "2022-08-28T14:26:22.233764",
     "exception": false,
     "start_time": "2022-08-28T14:26:22.203028",
     "status": "completed"
    },
    "tags": []
   },
   "outputs": [
    {
     "data": {
      "text/plain": [
       "PosixPath('/project/ritchie20/projects/phenoplier/base/results/gls/gene_corrs/cohorts/phenomexcan_rapid_gwas/gtex_v8/mashr/by_chr/gene_corrs-chr13.pkl')"
      ]
     },
     "metadata": {},
     "output_type": "display_data"
    }
   ],
   "source": [
    "output_dir = OUTPUT_DIR_BASE / \"by_chr\"\n",
    "output_dir.mkdir(exist_ok=True, parents=True)\n",
    "output_file = output_dir / f\"gene_corrs-chr{CHROMOSOME}.pkl\"\n",
    "display(output_file)"
   ]
  },
  {
   "cell_type": "code",
   "execution_count": 23,
   "id": "aa674fe4-6794-4eed-98fa-32b39d1d4ace",
   "metadata": {
    "execution": {
     "iopub.execute_input": "2022-08-28T14:26:22.254956Z",
     "iopub.status.busy": "2022-08-28T14:26:22.254752Z",
     "iopub.status.idle": "2022-08-28T14:26:22.270118Z",
     "shell.execute_reply": "2022-08-28T14:26:22.269301Z"
    },
    "papermill": {
     "duration": 0.028058,
     "end_time": "2022-08-28T14:26:22.271788",
     "exception": false,
     "start_time": "2022-08-28T14:26:22.243730",
     "status": "completed"
    },
    "tags": []
   },
   "outputs": [],
   "source": [
    "warnings.filterwarnings(\"error\")"
   ]
  },
  {
   "cell_type": "code",
   "execution_count": 24,
   "id": "44d5450b-3baf-43f1-9e2e-4b06f1a785f8",
   "metadata": {
    "execution": {
     "iopub.execute_input": "2022-08-28T14:26:22.293732Z",
     "iopub.status.busy": "2022-08-28T14:26:22.293541Z",
     "iopub.status.idle": "2022-08-28T14:26:22.309538Z",
     "shell.execute_reply": "2022-08-28T14:26:22.308861Z"
    },
    "papermill": {
     "duration": 0.028566,
     "end_time": "2022-08-28T14:26:22.311074",
     "exception": false,
     "start_time": "2022-08-28T14:26:22.282508",
     "status": "completed"
    },
    "tags": []
   },
   "outputs": [],
   "source": [
    "# standard checks\n",
    "all_chrs = genes_info[\"chr\"].dropna().unique()\n",
    "assert all_chrs.shape[0] == 22\n",
    "\n",
    "# select chromosome given by the user\n",
    "assert CHROMOSOME in all_chrs"
   ]
  },
  {
   "cell_type": "code",
   "execution_count": 25,
   "id": "2d7c043c-92a7-4d35-991b-fa69ac1e0268",
   "metadata": {
    "execution": {
     "iopub.execute_input": "2022-08-28T14:26:22.332067Z",
     "iopub.status.busy": "2022-08-28T14:26:22.331876Z",
     "iopub.status.idle": "2022-08-28T14:26:22.358786Z",
     "shell.execute_reply": "2022-08-28T14:26:22.358137Z"
    },
    "papermill": {
     "duration": 0.039029,
     "end_time": "2022-08-28T14:26:22.360344",
     "exception": false,
     "start_time": "2022-08-28T14:26:22.321315",
     "status": "completed"
    },
    "tags": []
   },
   "outputs": [
    {
     "name": "stdout",
     "output_type": "stream",
     "text": [
      "Number of genes in chromosome: 118\n"
     ]
    }
   ],
   "source": [
    "# run only on the chromosome specified\n",
    "all_chrs = [CHROMOSOME]\n",
    "genes_chr = genes_info[genes_info[\"chr\"] == CHROMOSOME]\n",
    "\n",
    "# For testing purposes\n",
    "# genes_chr = genes_chr.sample(n=20)\n",
    "\n",
    "print(f\"Number of genes in chromosome: {genes_chr.shape[0]}\", flush=True)"
   ]
  },
  {
   "cell_type": "code",
   "execution_count": 26,
   "id": "916015d8-2979-46d3-a9b9-1cf5a0932c6a",
   "metadata": {
    "execution": {
     "iopub.execute_input": "2022-08-28T14:26:22.381560Z",
     "iopub.status.busy": "2022-08-28T14:26:22.381369Z",
     "iopub.status.idle": "2022-08-28T14:26:22.397312Z",
     "shell.execute_reply": "2022-08-28T14:26:22.396634Z"
    },
    "papermill": {
     "duration": 0.028405,
     "end_time": "2022-08-28T14:26:22.398852",
     "exception": false,
     "start_time": "2022-08-28T14:26:22.370447",
     "status": "completed"
    },
    "tags": []
   },
   "outputs": [],
   "source": [
    "# sort genes by starting position to make visualizations better later\n",
    "genes_chr = genes_chr.sort_values(\"start_position\")"
   ]
  },
  {
   "cell_type": "code",
   "execution_count": 27,
   "id": "a38aa74a-8ad3-47f6-8ef9-56be0e011774",
   "metadata": {
    "execution": {
     "iopub.execute_input": "2022-08-28T14:26:22.419997Z",
     "iopub.status.busy": "2022-08-28T14:26:22.419806Z",
     "iopub.status.idle": "2022-08-28T14:26:22.435310Z",
     "shell.execute_reply": "2022-08-28T14:26:22.434787Z"
    },
    "papermill": {
     "duration": 0.027544,
     "end_time": "2022-08-28T14:26:22.436847",
     "exception": false,
     "start_time": "2022-08-28T14:26:22.409303",
     "status": "completed"
    },
    "tags": []
   },
   "outputs": [],
   "source": [
    "gene_chr_objs = [Gene(ensembl_id=gene_id) for gene_id in genes_chr[\"id\"]]"
   ]
  },
  {
   "cell_type": "code",
   "execution_count": 28,
   "id": "570f974f-13c3-42b6-ad3a-ce99ca885c1a",
   "metadata": {
    "execution": {
     "iopub.execute_input": "2022-08-28T14:26:22.458100Z",
     "iopub.status.busy": "2022-08-28T14:26:22.457908Z",
     "iopub.status.idle": "2022-08-28T14:26:22.475079Z",
     "shell.execute_reply": "2022-08-28T14:26:22.474528Z"
    },
    "papermill": {
     "duration": 0.029621,
     "end_time": "2022-08-28T14:26:22.476610",
     "exception": false,
     "start_time": "2022-08-28T14:26:22.446989",
     "status": "completed"
    },
    "tags": []
   },
   "outputs": [
    {
     "name": "stdout",
     "output_type": "stream",
     "text": [
      "Number of gene combinations: 6903\n"
     ]
    }
   ],
   "source": [
    "n = len(gene_chr_objs)\n",
    "n_comb = int(n * (n - 1) / 2.0)\n",
    "print(f\"Number of gene combinations: {n_comb}\", flush=True)"
   ]
  },
  {
   "cell_type": "code",
   "execution_count": 29,
   "id": "cdbb90a1",
   "metadata": {
    "execution": {
     "iopub.execute_input": "2022-08-28T14:26:22.498036Z",
     "iopub.status.busy": "2022-08-28T14:26:22.497845Z",
     "iopub.status.idle": "2022-08-28T14:36:47.108225Z",
     "shell.execute_reply": "2022-08-28T14:36:47.107547Z"
    },
    "papermill": {
     "duration": 624.622908,
     "end_time": "2022-08-28T14:36:47.109924",
     "exception": false,
     "start_time": "2022-08-28T14:26:22.487016",
     "status": "completed"
    },
    "tags": []
   },
   "outputs": [
    {
     "name": "stderr",
     "output_type": "stream",
     "text": [
      "ENSG00000169062 / ENSG00000169062: : 7021it [10:24, 11.24it/s]\n"
     ]
    },
    {
     "data": {
      "text/plain": [
       "PosixPath('/project/ritchie20/projects/phenoplier/base/results/gls/gene_corrs/cohorts/phenomexcan_rapid_gwas/gtex_v8/mashr/by_chr/gene_corrs-chr13.pkl')"
      ]
     },
     "metadata": {},
     "output_type": "display_data"
    }
   ],
   "source": [
    "gene_corrs = []\n",
    "gene_corrs_data = np.full(\n",
    "    (n, n),\n",
    "    np.nan,\n",
    "    dtype=np.float64,\n",
    ")\n",
    "\n",
    "i = 0\n",
    "with tqdm(ncols=100, total=n_comb) as pbar:\n",
    "    for gene1_idx in range(0, len(gene_chr_objs)):\n",
    "        gene1_obj = gene_chr_objs[gene1_idx]\n",
    "        gene1_tissues = spredixcan_genes_models.loc[gene1_obj.ensembl_id, \"tissue\"]\n",
    "\n",
    "        for gene2_idx in range(gene1_idx, len(gene_chr_objs)):\n",
    "            gene2_obj = gene_chr_objs[gene2_idx]\n",
    "            gene2_tissues = spredixcan_genes_models.loc[gene2_obj.ensembl_id, \"tissue\"]\n",
    "\n",
    "            pbar.set_description(f\"{gene1_obj.ensembl_id} / {gene2_obj.ensembl_id}\")\n",
    "\n",
    "            try:\n",
    "                r = gene1_obj.get_ssm_correlation(\n",
    "                    other_gene=gene2_obj,\n",
    "                    tissues=gene1_tissues,\n",
    "                    other_tissues=gene2_tissues,\n",
    "                    snps_subset=gwas_variants_ids_set,\n",
    "                    condition_number=SMULTIXCAN_CONDITION_NUMBER,\n",
    "                    reference_panel=REFERENCE_PANEL,\n",
    "                    model_type=EQTL_MODEL,\n",
    "                    use_within_distance=COMPUTE_CORRELATIONS_WITHIN_DISTANCE,\n",
    "                )\n",
    "\n",
    "                if r is None:\n",
    "                    # if r is None, it's very likely because:\n",
    "                    #  * one of the genes has no prediction models\n",
    "                    #  * all the SNPs predictors for the gene are not present in the reference\n",
    "                    #    panel\n",
    "\n",
    "                    r = 0.0\n",
    "\n",
    "                gene_corrs.append(r)\n",
    "\n",
    "                gene_corrs_data[gene1_idx, gene2_idx] = r\n",
    "                gene_corrs_data[gene2_idx, gene1_idx] = r\n",
    "            except Warning as e:\n",
    "                if not DEBUG_MODE:\n",
    "                    raise e\n",
    "\n",
    "                print(\n",
    "                    f\"RuntimeWarning for genes {gene1_obj.ensembl_id} and {gene2_obj.ensembl_id}\",\n",
    "                    flush=True,\n",
    "                )\n",
    "                print(traceback.format_exc(), flush=True)\n",
    "\n",
    "                gene_corrs.append(np.nan)\n",
    "            except Exception as e:\n",
    "                if not DEBUG_MODE:\n",
    "                    raise e\n",
    "\n",
    "                print(\n",
    "                    f\"Exception for genes {gene1_obj.ensembl_id} and {gene2_obj.ensembl_id}\",\n",
    "                    flush=True,\n",
    "                )\n",
    "                print(traceback.format_exc(), flush=True)\n",
    "\n",
    "                gene_corrs.append(np.nan)\n",
    "\n",
    "            pbar.update(1)\n",
    "\n",
    "# create a pandas series\n",
    "gene_corrs_flat = pd.Series(gene_corrs)\n",
    "\n",
    "# save\n",
    "# FIXME: consider saving only the condenced matrix here. See here for\n",
    "# more details: https://github.com/greenelab/phenoplier/pull/38#discussion_r634600813\n",
    "# gene_corrs_data = squareform(np.array(gene_corrs, dtype=np.float64))\n",
    "# np.fill_diagonal(gene_corrs_data, 1.0)\n",
    "\n",
    "gene_chr_ids = [g.ensembl_id for g in gene_chr_objs]\n",
    "gene_corrs_df = pd.DataFrame(\n",
    "    data=gene_corrs_data,\n",
    "    index=gene_chr_ids,\n",
    "    columns=gene_chr_ids,\n",
    ")\n",
    "\n",
    "output_dir.mkdir(exist_ok=True, parents=True)\n",
    "display(output_file)\n",
    "\n",
    "gene_corrs_df.to_pickle(output_file)"
   ]
  },
  {
   "cell_type": "markdown",
   "id": "faa67b51-5373-470f-aa72-2ded53fa6dfe",
   "metadata": {
    "papermill": {
     "duration": 0.422933,
     "end_time": "2022-08-28T14:36:47.931224",
     "exception": false,
     "start_time": "2022-08-28T14:36:47.508291",
     "status": "completed"
    },
    "tags": []
   },
   "source": [
    "# Testing"
   ]
  },
  {
   "cell_type": "code",
   "execution_count": 30,
   "id": "14f7d046-4b55-4896-a56b-990127bcc388",
   "metadata": {
    "execution": {
     "iopub.execute_input": "2022-08-28T14:36:48.738324Z",
     "iopub.status.busy": "2022-08-28T14:36:48.738062Z",
     "iopub.status.idle": "2022-08-28T14:36:48.967400Z",
     "shell.execute_reply": "2022-08-28T14:36:48.966904Z"
    },
    "papermill": {
     "duration": 0.649757,
     "end_time": "2022-08-28T14:36:48.968860",
     "exception": false,
     "start_time": "2022-08-28T14:36:48.319103",
     "status": "completed"
    },
    "tags": []
   },
   "outputs": [
    {
     "data": {
      "text/plain": [
       "(118, 118)"
      ]
     },
     "execution_count": 30,
     "metadata": {},
     "output_type": "execute_result"
    }
   ],
   "source": [
    "gene_corrs_df.shape"
   ]
  },
  {
   "cell_type": "code",
   "execution_count": 31,
   "id": "c7d15414-3297-4537-a7c6-7588c0baeb75",
   "metadata": {
    "execution": {
     "iopub.execute_input": "2022-08-28T14:36:49.777789Z",
     "iopub.status.busy": "2022-08-28T14:36:49.777527Z",
     "iopub.status.idle": "2022-08-28T14:36:49.812458Z",
     "shell.execute_reply": "2022-08-28T14:36:49.811860Z"
    },
    "papermill": {
     "duration": 0.454671,
     "end_time": "2022-08-28T14:36:49.813900",
     "exception": false,
     "start_time": "2022-08-28T14:36:49.359229",
     "status": "completed"
    },
    "tags": []
   },
   "outputs": [
    {
     "data": {
      "text/html": [
       "<div>\n",
       "<style scoped>\n",
       "    .dataframe tbody tr th:only-of-type {\n",
       "        vertical-align: middle;\n",
       "    }\n",
       "\n",
       "    .dataframe tbody tr th {\n",
       "        vertical-align: top;\n",
       "    }\n",
       "\n",
       "    .dataframe thead th {\n",
       "        text-align: right;\n",
       "    }\n",
       "</style>\n",
       "<table border=\"1\" class=\"dataframe\">\n",
       "  <thead>\n",
       "    <tr style=\"text-align: right;\">\n",
       "      <th></th>\n",
       "      <th>ENSG00000121741</th>\n",
       "      <th>ENSG00000121743</th>\n",
       "      <th>ENSG00000121742</th>\n",
       "      <th>ENSG00000032742</th>\n",
       "      <th>ENSG00000150457</th>\n",
       "      <th>ENSG00000150459</th>\n",
       "      <th>ENSG00000102678</th>\n",
       "      <th>ENSG00000127863</th>\n",
       "      <th>ENSG00000228741</th>\n",
       "      <th>ENSG00000102699</th>\n",
       "      <th>...</th>\n",
       "      <th>ENSG00000126217</th>\n",
       "      <th>ENSG00000057593</th>\n",
       "      <th>ENSG00000126231</th>\n",
       "      <th>ENSG00000139842</th>\n",
       "      <th>ENSG00000185896</th>\n",
       "      <th>ENSG00000198176</th>\n",
       "      <th>ENSG00000183087</th>\n",
       "      <th>ENSG00000185989</th>\n",
       "      <th>ENSG00000130177</th>\n",
       "      <th>ENSG00000169062</th>\n",
       "    </tr>\n",
       "  </thead>\n",
       "  <tbody>\n",
       "    <tr>\n",
       "      <th>ENSG00000121741</th>\n",
       "      <td>1.000000</td>\n",
       "      <td>0.012097</td>\n",
       "      <td>0.010611</td>\n",
       "      <td>0.002913</td>\n",
       "      <td>0.002772</td>\n",
       "      <td>0.002715</td>\n",
       "      <td>0.004328</td>\n",
       "      <td>0.008426</td>\n",
       "      <td>0.008180</td>\n",
       "      <td>0.005306</td>\n",
       "      <td>...</td>\n",
       "      <td>0.002356</td>\n",
       "      <td>0.002326</td>\n",
       "      <td>0.004027</td>\n",
       "      <td>0.002655</td>\n",
       "      <td>0.003584</td>\n",
       "      <td>0.005325</td>\n",
       "      <td>0.005538</td>\n",
       "      <td>0.004659</td>\n",
       "      <td>0.000120</td>\n",
       "      <td>0.002255</td>\n",
       "    </tr>\n",
       "    <tr>\n",
       "      <th>ENSG00000121743</th>\n",
       "      <td>0.012097</td>\n",
       "      <td>1.000000</td>\n",
       "      <td>0.027526</td>\n",
       "      <td>0.009339</td>\n",
       "      <td>0.013014</td>\n",
       "      <td>0.006677</td>\n",
       "      <td>0.003147</td>\n",
       "      <td>0.008373</td>\n",
       "      <td>0.006766</td>\n",
       "      <td>0.006577</td>\n",
       "      <td>...</td>\n",
       "      <td>0.014326</td>\n",
       "      <td>0.004877</td>\n",
       "      <td>0.004807</td>\n",
       "      <td>0.005822</td>\n",
       "      <td>0.007454</td>\n",
       "      <td>0.009804</td>\n",
       "      <td>0.011885</td>\n",
       "      <td>0.008902</td>\n",
       "      <td>0.003269</td>\n",
       "      <td>0.008924</td>\n",
       "    </tr>\n",
       "    <tr>\n",
       "      <th>ENSG00000121742</th>\n",
       "      <td>0.010611</td>\n",
       "      <td>0.027526</td>\n",
       "      <td>1.000000</td>\n",
       "      <td>0.010526</td>\n",
       "      <td>0.004309</td>\n",
       "      <td>0.006239</td>\n",
       "      <td>0.006277</td>\n",
       "      <td>0.011786</td>\n",
       "      <td>0.009999</td>\n",
       "      <td>0.005128</td>\n",
       "      <td>...</td>\n",
       "      <td>0.008935</td>\n",
       "      <td>0.004085</td>\n",
       "      <td>0.009149</td>\n",
       "      <td>0.009611</td>\n",
       "      <td>0.009891</td>\n",
       "      <td>0.007001</td>\n",
       "      <td>0.008826</td>\n",
       "      <td>0.010214</td>\n",
       "      <td>0.001320</td>\n",
       "      <td>0.005291</td>\n",
       "    </tr>\n",
       "    <tr>\n",
       "      <th>ENSG00000032742</th>\n",
       "      <td>0.002913</td>\n",
       "      <td>0.009339</td>\n",
       "      <td>0.010526</td>\n",
       "      <td>1.000000</td>\n",
       "      <td>0.017365</td>\n",
       "      <td>0.008454</td>\n",
       "      <td>0.005457</td>\n",
       "      <td>0.007514</td>\n",
       "      <td>0.008343</td>\n",
       "      <td>0.007006</td>\n",
       "      <td>...</td>\n",
       "      <td>0.008756</td>\n",
       "      <td>0.005664</td>\n",
       "      <td>0.005966</td>\n",
       "      <td>0.005758</td>\n",
       "      <td>0.005553</td>\n",
       "      <td>0.004665</td>\n",
       "      <td>0.006509</td>\n",
       "      <td>0.006153</td>\n",
       "      <td>0.003023</td>\n",
       "      <td>0.008856</td>\n",
       "    </tr>\n",
       "    <tr>\n",
       "      <th>ENSG00000150457</th>\n",
       "      <td>0.002772</td>\n",
       "      <td>0.013014</td>\n",
       "      <td>0.004309</td>\n",
       "      <td>0.017365</td>\n",
       "      <td>1.000000</td>\n",
       "      <td>0.003355</td>\n",
       "      <td>0.009922</td>\n",
       "      <td>0.014383</td>\n",
       "      <td>0.005567</td>\n",
       "      <td>0.005084</td>\n",
       "      <td>...</td>\n",
       "      <td>0.008529</td>\n",
       "      <td>0.005939</td>\n",
       "      <td>0.005306</td>\n",
       "      <td>0.005839</td>\n",
       "      <td>0.005654</td>\n",
       "      <td>0.006113</td>\n",
       "      <td>0.009495</td>\n",
       "      <td>0.005309</td>\n",
       "      <td>0.000634</td>\n",
       "      <td>0.003510</td>\n",
       "    </tr>\n",
       "  </tbody>\n",
       "</table>\n",
       "<p>5 rows × 118 columns</p>\n",
       "</div>"
      ],
      "text/plain": [
       "                 ENSG00000121741  ENSG00000121743  ENSG00000121742  \\\n",
       "ENSG00000121741         1.000000         0.012097         0.010611   \n",
       "ENSG00000121743         0.012097         1.000000         0.027526   \n",
       "ENSG00000121742         0.010611         0.027526         1.000000   \n",
       "ENSG00000032742         0.002913         0.009339         0.010526   \n",
       "ENSG00000150457         0.002772         0.013014         0.004309   \n",
       "\n",
       "                 ENSG00000032742  ENSG00000150457  ENSG00000150459  \\\n",
       "ENSG00000121741         0.002913         0.002772         0.002715   \n",
       "ENSG00000121743         0.009339         0.013014         0.006677   \n",
       "ENSG00000121742         0.010526         0.004309         0.006239   \n",
       "ENSG00000032742         1.000000         0.017365         0.008454   \n",
       "ENSG00000150457         0.017365         1.000000         0.003355   \n",
       "\n",
       "                 ENSG00000102678  ENSG00000127863  ENSG00000228741  \\\n",
       "ENSG00000121741         0.004328         0.008426         0.008180   \n",
       "ENSG00000121743         0.003147         0.008373         0.006766   \n",
       "ENSG00000121742         0.006277         0.011786         0.009999   \n",
       "ENSG00000032742         0.005457         0.007514         0.008343   \n",
       "ENSG00000150457         0.009922         0.014383         0.005567   \n",
       "\n",
       "                 ENSG00000102699  ...  ENSG00000126217  ENSG00000057593  \\\n",
       "ENSG00000121741         0.005306  ...         0.002356         0.002326   \n",
       "ENSG00000121743         0.006577  ...         0.014326         0.004877   \n",
       "ENSG00000121742         0.005128  ...         0.008935         0.004085   \n",
       "ENSG00000032742         0.007006  ...         0.008756         0.005664   \n",
       "ENSG00000150457         0.005084  ...         0.008529         0.005939   \n",
       "\n",
       "                 ENSG00000126231  ENSG00000139842  ENSG00000185896  \\\n",
       "ENSG00000121741         0.004027         0.002655         0.003584   \n",
       "ENSG00000121743         0.004807         0.005822         0.007454   \n",
       "ENSG00000121742         0.009149         0.009611         0.009891   \n",
       "ENSG00000032742         0.005966         0.005758         0.005553   \n",
       "ENSG00000150457         0.005306         0.005839         0.005654   \n",
       "\n",
       "                 ENSG00000198176  ENSG00000183087  ENSG00000185989  \\\n",
       "ENSG00000121741         0.005325         0.005538         0.004659   \n",
       "ENSG00000121743         0.009804         0.011885         0.008902   \n",
       "ENSG00000121742         0.007001         0.008826         0.010214   \n",
       "ENSG00000032742         0.004665         0.006509         0.006153   \n",
       "ENSG00000150457         0.006113         0.009495         0.005309   \n",
       "\n",
       "                 ENSG00000130177  ENSG00000169062  \n",
       "ENSG00000121741         0.000120         0.002255  \n",
       "ENSG00000121743         0.003269         0.008924  \n",
       "ENSG00000121742         0.001320         0.005291  \n",
       "ENSG00000032742         0.003023         0.008856  \n",
       "ENSG00000150457         0.000634         0.003510  \n",
       "\n",
       "[5 rows x 118 columns]"
      ]
     },
     "execution_count": 31,
     "metadata": {},
     "output_type": "execute_result"
    }
   ],
   "source": [
    "gene_corrs_df.head()"
   ]
  },
  {
   "cell_type": "markdown",
   "id": "dad6603f-01c6-41fb-a6f6-241051207dd8",
   "metadata": {
    "papermill": {
     "duration": 0.417139,
     "end_time": "2022-08-28T14:36:50.623286",
     "exception": false,
     "start_time": "2022-08-28T14:36:50.206147",
     "status": "completed"
    },
    "tags": []
   },
   "source": [
    "## Standard checks and stats"
   ]
  },
  {
   "cell_type": "code",
   "execution_count": 32,
   "id": "286686af-1b7b-4440-8453-6bdcbd8de19c",
   "metadata": {
    "execution": {
     "iopub.execute_input": "2022-08-28T14:36:51.430461Z",
     "iopub.status.busy": "2022-08-28T14:36:51.430209Z",
     "iopub.status.idle": "2022-08-28T14:36:51.449043Z",
     "shell.execute_reply": "2022-08-28T14:36:51.448539Z"
    },
    "papermill": {
     "duration": 0.438221,
     "end_time": "2022-08-28T14:36:51.450567",
     "exception": false,
     "start_time": "2022-08-28T14:36:51.012346",
     "status": "completed"
    },
    "tags": []
   },
   "outputs": [],
   "source": [
    "assert not gene_corrs_df.isna().any().any()"
   ]
  },
  {
   "cell_type": "code",
   "execution_count": 33,
   "id": "00583efc-7068-4270-ad1e-4a418e91db96",
   "metadata": {
    "execution": {
     "iopub.execute_input": "2022-08-28T14:36:52.234287Z",
     "iopub.status.busy": "2022-08-28T14:36:52.234034Z",
     "iopub.status.idle": "2022-08-28T14:36:52.255067Z",
     "shell.execute_reply": "2022-08-28T14:36:52.254405Z"
    },
    "papermill": {
     "duration": 0.413963,
     "end_time": "2022-08-28T14:36:52.256638",
     "exception": false,
     "start_time": "2022-08-28T14:36:51.842675",
     "status": "completed"
    },
    "tags": []
   },
   "outputs": [
    {
     "data": {
      "text/plain": [
       "4.338568430074112e-06"
      ]
     },
     "metadata": {},
     "output_type": "display_data"
    }
   ],
   "source": [
    "_min_val = gene_corrs_df.min().min()\n",
    "display(_min_val)\n",
    "assert _min_val >= -0.05"
   ]
  },
  {
   "cell_type": "code",
   "execution_count": 34,
   "id": "d04fb2cf-1050-475b-b855-f5f7cc04092b",
   "metadata": {
    "execution": {
     "iopub.execute_input": "2022-08-28T14:36:53.063647Z",
     "iopub.status.busy": "2022-08-28T14:36:53.063380Z",
     "iopub.status.idle": "2022-08-28T14:36:53.083932Z",
     "shell.execute_reply": "2022-08-28T14:36:53.083424Z"
    },
    "papermill": {
     "duration": 0.412667,
     "end_time": "2022-08-28T14:36:53.085364",
     "exception": false,
     "start_time": "2022-08-28T14:36:52.672697",
     "status": "completed"
    },
    "tags": []
   },
   "outputs": [
    {
     "data": {
      "text/plain": [
       "1.0000000000000038"
      ]
     },
     "metadata": {},
     "output_type": "display_data"
    }
   ],
   "source": [
    "_max_val = gene_corrs_df.max().max()  # this captures the diagonal\n",
    "display(_max_val)\n",
    "assert _max_val <= 1.05"
   ]
  },
  {
   "cell_type": "code",
   "execution_count": 35,
   "id": "96d02c44-1fba-47be-8a93-8f2608420b9c",
   "metadata": {
    "execution": {
     "iopub.execute_input": "2022-08-28T14:36:53.902335Z",
     "iopub.status.busy": "2022-08-28T14:36:53.902080Z",
     "iopub.status.idle": "2022-08-28T14:36:53.926172Z",
     "shell.execute_reply": "2022-08-28T14:36:53.925580Z"
    },
    "papermill": {
     "duration": 0.424884,
     "end_time": "2022-08-28T14:36:53.927792",
     "exception": false,
     "start_time": "2022-08-28T14:36:53.502908",
     "status": "completed"
    },
    "tags": []
   },
   "outputs": [],
   "source": [
    "# check upper triangular values\n",
    "# assert len(gene_corrs) == int(genes_chr.shape[0] * (genes_chr.shape[0] - 1) / 2)"
   ]
  },
  {
   "cell_type": "code",
   "execution_count": 36,
   "id": "fe283586-c348-40e0-8841-f6d97bfb021c",
   "metadata": {
    "execution": {
     "iopub.execute_input": "2022-08-28T14:36:54.745932Z",
     "iopub.status.busy": "2022-08-28T14:36:54.745666Z",
     "iopub.status.idle": "2022-08-28T14:36:54.768763Z",
     "shell.execute_reply": "2022-08-28T14:36:54.768261Z"
    },
    "papermill": {
     "duration": 0.414307,
     "end_time": "2022-08-28T14:36:54.770264",
     "exception": false,
     "start_time": "2022-08-28T14:36:54.355957",
     "status": "completed"
    },
    "tags": []
   },
   "outputs": [
    {
     "data": {
      "text/plain": [
       "count    7021.000000\n",
       "mean        0.026638\n",
       "std         0.132060\n",
       "min         0.000004\n",
       "25%         0.004552\n",
       "50%         0.006683\n",
       "75%         0.009300\n",
       "max         1.000000\n",
       "dtype: float64"
      ]
     },
     "execution_count": 36,
     "metadata": {},
     "output_type": "execute_result"
    }
   ],
   "source": [
    "gene_corrs_flat.describe()"
   ]
  },
  {
   "cell_type": "code",
   "execution_count": 37,
   "id": "b3815678-0f93-4b35-897b-a9d047a2aa78",
   "metadata": {
    "execution": {
     "iopub.execute_input": "2022-08-28T14:36:55.586650Z",
     "iopub.status.busy": "2022-08-28T14:36:55.586398Z",
     "iopub.status.idle": "2022-08-28T14:36:55.609791Z",
     "shell.execute_reply": "2022-08-28T14:36:55.609055Z"
    },
    "papermill": {
     "duration": 0.421659,
     "end_time": "2022-08-28T14:36:55.611320",
     "exception": false,
     "start_time": "2022-08-28T14:36:55.189661",
     "status": "completed"
    },
    "tags": []
   },
   "outputs": [
    {
     "data": {
      "text/plain": [
       "0.00    0.000004\n",
       "0.05    0.002070\n",
       "0.10    0.002943\n",
       "0.15    0.003562\n",
       "0.20    0.004103\n",
       "0.25    0.004552\n",
       "0.30    0.005041\n",
       "0.35    0.005456\n",
       "0.40    0.005869\n",
       "0.45    0.006270\n",
       "0.50    0.006683\n",
       "0.55    0.007174\n",
       "0.60    0.007617\n",
       "0.65    0.008092\n",
       "0.70    0.008680\n",
       "0.75    0.009300\n",
       "0.80    0.009912\n",
       "0.85    0.010819\n",
       "0.90    0.012043\n",
       "0.95    0.014425\n",
       "dtype: float64"
      ]
     },
     "metadata": {},
     "output_type": "display_data"
    }
   ],
   "source": [
    "gene_corrs_quantiles = gene_corrs_flat.quantile(np.arange(0, 1, 0.05))\n",
    "display(gene_corrs_quantiles)"
   ]
  },
  {
   "cell_type": "markdown",
   "id": "87134509-b145-4a10-8bc9-b7e914c2b0fa",
   "metadata": {
    "papermill": {
     "duration": 0.387961,
     "end_time": "2022-08-28T14:36:56.417071",
     "exception": false,
     "start_time": "2022-08-28T14:36:56.029110",
     "status": "completed"
    },
    "tags": []
   },
   "source": [
    "## Positive definiteness"
   ]
  },
  {
   "cell_type": "code",
   "execution_count": 38,
   "id": "07d9a9a1-a4f7-48aa-b916-6d42a8cc6186",
   "metadata": {
    "execution": {
     "iopub.execute_input": "2022-08-28T14:36:57.225474Z",
     "iopub.status.busy": "2022-08-28T14:36:57.225223Z",
     "iopub.status.idle": "2022-08-28T14:36:57.250160Z",
     "shell.execute_reply": "2022-08-28T14:36:57.249651Z"
    },
    "papermill": {
     "duration": 0.418895,
     "end_time": "2022-08-28T14:36:57.251584",
     "exception": false,
     "start_time": "2022-08-28T14:36:56.832689",
     "status": "completed"
    },
    "tags": []
   },
   "outputs": [
    {
     "data": {
      "text/plain": [
       "0"
      ]
     },
     "metadata": {},
     "output_type": "display_data"
    },
    {
     "data": {
      "text/plain": [
       "array([], dtype=float64)"
      ]
     },
     "metadata": {},
     "output_type": "display_data"
    }
   ],
   "source": [
    "# print negative eigenvalues\n",
    "eigs = np.linalg.eigvals(gene_corrs_df.to_numpy())\n",
    "display(len(eigs[eigs < 0]))\n",
    "display(eigs[eigs < 0])"
   ]
  },
  {
   "cell_type": "code",
   "execution_count": 39,
   "id": "6e218436-c3c5-4028-8c94-a4fa6260efce",
   "metadata": {
    "execution": {
     "iopub.execute_input": "2022-08-28T14:36:58.060546Z",
     "iopub.status.busy": "2022-08-28T14:36:58.060294Z",
     "iopub.status.idle": "2022-08-28T14:36:58.080615Z",
     "shell.execute_reply": "2022-08-28T14:36:58.080109Z"
    },
    "papermill": {
     "duration": 0.413754,
     "end_time": "2022-08-28T14:36:58.082154",
     "exception": false,
     "start_time": "2022-08-28T14:36:57.668400",
     "status": "completed"
    },
    "tags": []
   },
   "outputs": [
    {
     "name": "stdout",
     "output_type": "stream",
     "text": [
      "Works!\n"
     ]
    }
   ],
   "source": [
    "try:\n",
    "    chol_mat = np.linalg.cholesky(gene_corrs_df.to_numpy())\n",
    "    cov_inv = np.linalg.inv(chol_mat)\n",
    "    print(\"Works!\")\n",
    "except Exception as e:\n",
    "    print(f\"Cholesky decomposition failed: {str(e)}\")"
   ]
  },
  {
   "cell_type": "code",
   "execution_count": 40,
   "id": "dd8827fb-faf9-4c7c-9454-015e94752706",
   "metadata": {
    "execution": {
     "iopub.execute_input": "2022-08-28T14:36:58.892938Z",
     "iopub.status.busy": "2022-08-28T14:36:58.892673Z",
     "iopub.status.idle": "2022-08-28T14:36:58.913343Z",
     "shell.execute_reply": "2022-08-28T14:36:58.912670Z"
    },
    "papermill": {
     "duration": 0.413136,
     "end_time": "2022-08-28T14:36:58.914813",
     "exception": false,
     "start_time": "2022-08-28T14:36:58.501677",
     "status": "completed"
    },
    "tags": []
   },
   "outputs": [
    {
     "name": "stdout",
     "output_type": "stream",
     "text": [
      "Works!\n"
     ]
    }
   ],
   "source": [
    "try:\n",
    "    # decomposition used by statsmodels.GLS\n",
    "    cholsigmainv = np.linalg.cholesky(np.linalg.inv(gene_corrs_df.to_numpy())).T\n",
    "    print(\"Works!\")\n",
    "except Exception as e:\n",
    "    print(f\"Cholesky decomposition failed (statsmodels.GLS): {str(e)}\")"
   ]
  },
  {
   "cell_type": "markdown",
   "id": "8e60a080-edb2-4e9c-b2ef-22961693200c",
   "metadata": {
    "papermill": {
     "duration": 0.388081,
     "end_time": "2022-08-28T14:36:59.720159",
     "exception": false,
     "start_time": "2022-08-28T14:36:59.332078",
     "status": "completed"
    },
    "tags": []
   },
   "source": [
    "## Plot: distribution"
   ]
  },
  {
   "cell_type": "code",
   "execution_count": 41,
   "id": "8301126b-a7d4-4744-9c7d-f0f86eb6f54c",
   "metadata": {
    "execution": {
     "iopub.execute_input": "2022-08-28T14:37:00.530811Z",
     "iopub.status.busy": "2022-08-28T14:37:00.530549Z",
     "iopub.status.idle": "2022-08-28T14:37:05.161633Z",
     "shell.execute_reply": "2022-08-28T14:37:05.160961Z"
    },
    "papermill": {
     "duration": 5.022973,
     "end_time": "2022-08-28T14:37:05.163238",
     "exception": false,
     "start_time": "2022-08-28T14:37:00.140265",
     "status": "completed"
    },
    "tags": []
   },
   "outputs": [
    {
     "data": {
      "image/png": "[encoded data removed]",
      "text/plain": [
       "<Figure size 504x504 with 1 Axes>"
      ]
     },
     "metadata": {
      "needs_background": "light"
     },
     "output_type": "display_data"
    }
   ],
   "source": [
    "with sns.plotting_context(\"paper\", font_scale=1.5):\n",
    "    g = sns.displot(gene_corrs_flat, kde=True, height=7)\n",
    "    g.ax.set_title(\n",
    "        f\"Distribution of gene correlation values in chromosome {CHROMOSOME}\"\n",
    "    )"
   ]
  },
  {
   "cell_type": "markdown",
   "id": "cbd52bca-d878-4a2f-b684-5c83aa3038d4",
   "metadata": {
    "papermill": {
     "duration": 0.414965,
     "end_time": "2022-08-28T14:37:05.971511",
     "exception": false,
     "start_time": "2022-08-28T14:37:05.556546",
     "status": "completed"
    },
    "tags": []
   },
   "source": [
    "## Plot: heatmap"
   ]
  },
  {
   "cell_type": "code",
   "execution_count": 42,
   "id": "d03fe63a-c7b2-4fb9-a53c-db362ce843c9",
   "metadata": {
    "execution": {
     "iopub.execute_input": "2022-08-28T14:37:06.774606Z",
     "iopub.status.busy": "2022-08-28T14:37:06.774352Z",
     "iopub.status.idle": "2022-08-28T14:37:06.947969Z",
     "shell.execute_reply": "2022-08-28T14:37:06.947464Z"
    },
    "papermill": {
     "duration": 0.589111,
     "end_time": "2022-08-28T14:37:06.949400",
     "exception": false,
     "start_time": "2022-08-28T14:37:06.360289",
     "status": "completed"
    },
    "tags": []
   },
   "outputs": [
    {
     "data": {
      "text/plain": [
       "'0.0 / 0.05'"
      ]
     },
     "metadata": {},
     "output_type": "display_data"
    }
   ],
   "source": [
    "vmin_val = min(0.00, gene_corrs_quantiles[0.10])\n",
    "vmax_val = max(0.05, gene_corrs_quantiles[0.90])\n",
    "display(f\"{vmin_val} / {vmax_val}\")"
   ]
  },
  {
   "cell_type": "code",
   "execution_count": 43,
   "id": "dc41b70b-5bcc-4d9e-9f33-a22c4a94dab5",
   "metadata": {
    "execution": {
     "iopub.execute_input": "2022-08-28T14:37:07.759486Z",
     "iopub.status.busy": "2022-08-28T14:37:07.759233Z",
     "iopub.status.idle": "2022-08-28T14:37:07.928746Z",
     "shell.execute_reply": "2022-08-28T14:37:07.928095Z"
    },
    "papermill": {
     "duration": 0.589566,
     "end_time": "2022-08-28T14:37:07.930385",
     "exception": false,
     "start_time": "2022-08-28T14:37:07.340819",
     "status": "completed"
    },
    "tags": []
   },
   "outputs": [
    {
     "data": {
      "text/plain": [
       "Text(0.5, 1.0, 'Gene correlations in chromosome 13')"
      ]
     },
     "execution_count": 43,
     "metadata": {},
     "output_type": "execute_result"
    },
    {
     "data": {
      "image/png": "[encoded data removed]",
      "text/plain": [
       "<Figure size 720x720 with 2 Axes>"
      ]
     },
     "metadata": {
      "needs_background": "light"
     },
     "output_type": "display_data"
    }
   ],
   "source": [
    "f, ax = plt.subplots(figsize=(10, 10))\n",
    "sns.heatmap(\n",
    "    gene_corrs_df,\n",
    "    xticklabels=False,\n",
    "    yticklabels=False,\n",
    "    square=True,\n",
    "    vmin=vmin_val,\n",
    "    vmax=vmax_val,\n",
    "    cmap=\"rocket_r\",\n",
    "    ax=ax,\n",
    ")\n",
    "ax.set_title(f\"Gene correlations in chromosome {CHROMOSOME}\")"
   ]
  },
  {
   "cell_type": "code",
   "execution_count": null,
   "id": "b25e3ead",
   "metadata": {
    "papermill": {
     "duration": 0.414117,
     "end_time": "2022-08-28T14:37:08.737331",
     "exception": false,
     "start_time": "2022-08-28T14:37:08.323214",
     "status": "completed"
    },
    "tags": []
   },
   "outputs": [],
   "source": []
  }
 ],
 "metadata": {
  "jupytext": {
   "cell_metadata_filter": "all,-execution,-papermill,-trusted",
   "formats": "ipynb,py//py:percent"
  },
  "kernelspec": {
   "display_name": "Python 3 (ipykernel)",
   "language": "python",
   "name": "python3"
  },
  "language_info": {
   "codemirror_mode": {
    "name": "ipython",
    "version": 3
   },
   "file_extension": ".py",
   "mimetype": "text/x-python",
   "name": "python",
   "nbconvert_exporter": "python",
   "pygments_lexer": "ipython3",
   "version": "3.8.13"
  },
  "papermill": {
   "default_parameters": {},
   "duration": 659.515887,
   "end_time": "2022-08-28T14:37:12.114817",
   "environment_variables": {},
   "exception": null,
   "input_path": "nbs/15_gsa_gls/10-gene_expr_correlations.ipynb",
   "output_path": "nbs/15_gsa_gls/gene_corrs/cohorts/phenomexcan_rapid_gwas/gtex_v8/mashr/10-gene_expr_corrs/10-gene_expr_correlations-chr13.run.ipynb",
   "parameters": {
    "CHROMOSOME": 13,
    "COHORT_NAME": "phenomexcan_rapid_gwas",
    "EQTL_MODEL": "MASHR",
    "REFERENCE_PANEL": "GTEX_V8"
   },
   "start_time": "2022-08-28T14:26:12.598930",
   "version": "2.2.2"
  }
 },
 "nbformat": 4,
 "nbformat_minor": 5
}
