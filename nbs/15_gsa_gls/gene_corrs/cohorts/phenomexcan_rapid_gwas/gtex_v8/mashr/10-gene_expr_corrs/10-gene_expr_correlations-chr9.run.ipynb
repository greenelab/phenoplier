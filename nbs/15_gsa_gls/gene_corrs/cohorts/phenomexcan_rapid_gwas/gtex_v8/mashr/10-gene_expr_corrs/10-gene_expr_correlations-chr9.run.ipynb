{
 "cells": [
  {
   "cell_type": "markdown",
   "id": "7a6632fb",
   "metadata": {
    "papermill": {
     "duration": 0.022501,
     "end_time": "2022-08-27T05:59:17.878047",
     "exception": false,
     "start_time": "2022-08-27T05:59:17.855546",
     "status": "completed"
    },
    "tags": []
   },
   "source": [
    "# Description"
   ]
  },
  {
   "cell_type": "markdown",
   "id": "7097c346",
   "metadata": {
    "papermill": {
     "duration": 0.016118,
     "end_time": "2022-08-27T05:59:17.982627",
     "exception": false,
     "start_time": "2022-08-27T05:59:17.966509",
     "status": "completed"
    },
    "tags": []
   },
   "source": [
    "(Please, take a look at the README.md file in this directory for instructions on how to run this notebook)\n",
    "\n",
    "This notebook computes predicted expression correlations between all genes in the MultiPLIER models.\n",
    "\n",
    "It also has a parameter set for papermill to run on a single chromosome to run in parallel (see under `Settings` below).\n",
    "\n",
    "This notebook is not directly run. See README.md."
   ]
  },
  {
   "cell_type": "markdown",
   "id": "c61d8427",
   "metadata": {
    "papermill": {
     "duration": 0.014167,
     "end_time": "2022-08-27T05:59:18.011774",
     "exception": false,
     "start_time": "2022-08-27T05:59:17.997607",
     "status": "completed"
    },
    "tags": []
   },
   "source": [
    "# Modules"
   ]
  },
  {
   "cell_type": "code",
   "execution_count": 1,
   "id": "bbc0234f",
   "metadata": {
    "execution": {
     "iopub.execute_input": "2022-08-27T05:59:18.044053Z",
     "iopub.status.busy": "2022-08-27T05:59:18.043683Z",
     "iopub.status.idle": "2022-08-27T05:59:18.177459Z",
     "shell.execute_reply": "2022-08-27T05:59:18.176313Z"
    },
    "papermill": {
     "duration": 0.155666,
     "end_time": "2022-08-27T05:59:18.181276",
     "exception": false,
     "start_time": "2022-08-27T05:59:18.025610",
     "status": "completed"
    },
    "tags": []
   },
   "outputs": [],
   "source": [
    "%load_ext autoreload\n",
    "%autoreload 2"
   ]
  },
  {
   "cell_type": "code",
   "execution_count": 2,
   "id": "1d5f5a59",
   "metadata": {
    "execution": {
     "iopub.execute_input": "2022-08-27T05:59:18.219256Z",
     "iopub.status.busy": "2022-08-27T05:59:18.218856Z",
     "iopub.status.idle": "2022-08-27T05:59:24.365928Z",
     "shell.execute_reply": "2022-08-27T05:59:24.364862Z"
    },
    "papermill": {
     "duration": 6.171106,
     "end_time": "2022-08-27T05:59:24.369260",
     "exception": false,
     "start_time": "2022-08-27T05:59:18.198154",
     "status": "completed"
    },
    "tags": []
   },
   "outputs": [],
   "source": [
    "from random import sample, seed\n",
    "import warnings\n",
    "from pathlib import Path\n",
    "import pickle\n",
    "import traceback\n",
    "\n",
    "import numpy as np\n",
    "from scipy.spatial.distance import squareform\n",
    "import pandas as pd\n",
    "from tqdm import tqdm\n",
    "import matplotlib.pyplot as plt\n",
    "import seaborn as sns\n",
    "\n",
    "import conf\n",
    "from entity import Gene"
   ]
  },
  {
   "cell_type": "markdown",
   "id": "1eac24b5",
   "metadata": {
    "papermill": {
     "duration": 0.014925,
     "end_time": "2022-08-27T05:59:24.430054",
     "exception": false,
     "start_time": "2022-08-27T05:59:24.415129",
     "status": "completed"
    },
    "tags": []
   },
   "source": [
    "# Settings"
   ]
  },
  {
   "cell_type": "code",
   "execution_count": 3,
   "id": "ca4560ba",
   "metadata": {
    "execution": {
     "iopub.execute_input": "2022-08-27T05:59:24.458046Z",
     "iopub.status.busy": "2022-08-27T05:59:24.457716Z",
     "iopub.status.idle": "2022-08-27T05:59:24.733751Z",
     "shell.execute_reply": "2022-08-27T05:59:24.732734Z"
    },
    "papermill": {
     "duration": 0.293333,
     "end_time": "2022-08-27T05:59:24.736902",
     "exception": false,
     "start_time": "2022-08-27T05:59:24.443569",
     "status": "completed"
    },
    "tags": [
     "parameters"
    ]
   },
   "outputs": [],
   "source": [
    "# a cohort name (it could be something like UK_BIOBANK, etc)\n",
    "COHORT_NAME = None\n",
    "\n",
    "# reference panel such as 1000G or GTEX_V8\n",
    "REFERENCE_PANEL = None\n",
    "\n",
    "# predictions models such as MASHR or ELASTIC_NET\n",
    "EQTL_MODEL = None\n",
    "\n",
    "# this is the default value used in S-MultiXcan to select the\n",
    "# top principal components of the expression correlation matrix\n",
    "SMULTIXCAN_CONDITION_NUMBER = 30\n",
    "\n",
    "# specifies a single chromosome value\n",
    "CHROMOSOME = None\n",
    "\n",
    "# If True, computes the correlation between closeby genes only;\n",
    "# otherwise, it computes correlations for all genes in a chromosome\n",
    "COMPUTE_CORRELATIONS_WITHIN_DISTANCE = False\n",
    "\n",
    "# if True, then it will continue if a gene pair correlation fails,\n",
    "# printing the warning/error for debugging. If False, any warning/error\n",
    "# will be thrown\n",
    "DEBUG_MODE = False"
   ]
  },
  {
   "cell_type": "code",
   "execution_count": 4,
   "id": "8798eacb",
   "metadata": {
    "execution": {
     "iopub.execute_input": "2022-08-27T05:59:24.770314Z",
     "iopub.status.busy": "2022-08-27T05:59:24.769952Z",
     "iopub.status.idle": "2022-08-27T05:59:24.799704Z",
     "shell.execute_reply": "2022-08-27T05:59:24.798919Z"
    },
    "papermill": {
     "duration": 0.050287,
     "end_time": "2022-08-27T05:59:24.802233",
     "exception": false,
     "start_time": "2022-08-27T05:59:24.751946",
     "status": "completed"
    },
    "tags": [
     "injected-parameters"
    ]
   },
   "outputs": [],
   "source": [
    "# Parameters\n",
    "COHORT_NAME = \"phenomexcan_rapid_gwas\"\n",
    "REFERENCE_PANEL = \"GTEX_V8\"\n",
    "EQTL_MODEL = \"MASHR\"\n",
    "CHROMOSOME = 9\n"
   ]
  },
  {
   "cell_type": "code",
   "execution_count": 5,
   "id": "3190631f-27fc-480f-b18e-571d580425a5",
   "metadata": {
    "execution": {
     "iopub.execute_input": "2022-08-27T05:59:24.830884Z",
     "iopub.status.busy": "2022-08-27T05:59:24.830592Z",
     "iopub.status.idle": "2022-08-27T05:59:24.860374Z",
     "shell.execute_reply": "2022-08-27T05:59:24.859580Z"
    },
    "papermill": {
     "duration": 0.046476,
     "end_time": "2022-08-27T05:59:24.862435",
     "exception": false,
     "start_time": "2022-08-27T05:59:24.815959",
     "status": "completed"
    },
    "tags": []
   },
   "outputs": [
    {
     "data": {
      "text/plain": [
       "'Cohort name: phenomexcan_rapid_gwas'"
      ]
     },
     "metadata": {},
     "output_type": "display_data"
    }
   ],
   "source": [
    "assert COHORT_NAME is not None and len(COHORT_NAME) > 0, \"A cohort name must be given\"\n",
    "\n",
    "COHORT_NAME = COHORT_NAME.lower()\n",
    "display(f\"Cohort name: {COHORT_NAME}\")"
   ]
  },
  {
   "cell_type": "code",
   "execution_count": 6,
   "id": "f53ba19b-0f93-4fa2-a047-63b375939d1a",
   "metadata": {
    "execution": {
     "iopub.execute_input": "2022-08-27T05:59:24.889268Z",
     "iopub.status.busy": "2022-08-27T05:59:24.888992Z",
     "iopub.status.idle": "2022-08-27T05:59:24.928015Z",
     "shell.execute_reply": "2022-08-27T05:59:24.927245Z"
    },
    "papermill": {
     "duration": 0.055794,
     "end_time": "2022-08-27T05:59:24.930079",
     "exception": false,
     "start_time": "2022-08-27T05:59:24.874285",
     "status": "completed"
    },
    "tags": []
   },
   "outputs": [
    {
     "data": {
      "text/plain": [
       "'Reference panel: GTEX_V8'"
      ]
     },
     "metadata": {},
     "output_type": "display_data"
    }
   ],
   "source": [
    "assert (\n",
    "    REFERENCE_PANEL is not None and len(REFERENCE_PANEL) > 0\n",
    "), \"A reference panel must be given\"\n",
    "\n",
    "display(f\"Reference panel: {REFERENCE_PANEL}\")"
   ]
  },
  {
   "cell_type": "code",
   "execution_count": 7,
   "id": "e024d130-c139-429a-9c6e-ccf149e297b0",
   "metadata": {
    "execution": {
     "iopub.execute_input": "2022-08-27T05:59:24.956571Z",
     "iopub.status.busy": "2022-08-27T05:59:24.956305Z",
     "iopub.status.idle": "2022-08-27T05:59:24.981294Z",
     "shell.execute_reply": "2022-08-27T05:59:24.980590Z"
    },
    "papermill": {
     "duration": 0.041711,
     "end_time": "2022-08-27T05:59:24.983195",
     "exception": false,
     "start_time": "2022-08-27T05:59:24.941484",
     "status": "completed"
    },
    "tags": []
   },
   "outputs": [
    {
     "data": {
      "text/plain": [
       "'eQTL model: MASHR) / mashr_'"
      ]
     },
     "metadata": {},
     "output_type": "display_data"
    }
   ],
   "source": [
    "assert (\n",
    "    EQTL_MODEL is not None and len(EQTL_MODEL) > 0\n",
    "), \"A prediction/eQTL model must be given\"\n",
    "\n",
    "EQTL_MODEL_FILES_PREFIX = conf.PHENOMEXCAN[\"PREDICTION_MODELS\"][f\"{EQTL_MODEL}_PREFIX\"]\n",
    "display(f\"eQTL model: {EQTL_MODEL}) / {EQTL_MODEL_FILES_PREFIX}\")"
   ]
  },
  {
   "cell_type": "code",
   "execution_count": 8,
   "id": "552a7f63-a18c-4d3e-bb6a-94f99b431291",
   "metadata": {
    "execution": {
     "iopub.execute_input": "2022-08-27T05:59:25.006658Z",
     "iopub.status.busy": "2022-08-27T05:59:25.006410Z",
     "iopub.status.idle": "2022-08-27T05:59:25.029938Z",
     "shell.execute_reply": "2022-08-27T05:59:25.029140Z"
    },
    "papermill": {
     "duration": 0.036768,
     "end_time": "2022-08-27T05:59:25.031847",
     "exception": false,
     "start_time": "2022-08-27T05:59:24.995079",
     "status": "completed"
    },
    "tags": []
   },
   "outputs": [
    {
     "data": {
      "text/plain": [
       "'S-MultiXcan condition number: 30'"
      ]
     },
     "metadata": {},
     "output_type": "display_data"
    }
   ],
   "source": [
    "assert (\n",
    "    SMULTIXCAN_CONDITION_NUMBER is not None and SMULTIXCAN_CONDITION_NUMBER > 0\n",
    "), \"The S-MultiXcan condition number (positive integer) must be given\"\n",
    "\n",
    "display(f\"S-MultiXcan condition number: {SMULTIXCAN_CONDITION_NUMBER}\")"
   ]
  },
  {
   "cell_type": "code",
   "execution_count": 9,
   "id": "f34a336f-548e-4afe-8955-90eaea4f42c6",
   "metadata": {
    "execution": {
     "iopub.execute_input": "2022-08-27T05:59:25.053982Z",
     "iopub.status.busy": "2022-08-27T05:59:25.053743Z",
     "iopub.status.idle": "2022-08-27T05:59:25.071381Z",
     "shell.execute_reply": "2022-08-27T05:59:25.070894Z"
    },
    "papermill": {
     "duration": 0.030534,
     "end_time": "2022-08-27T05:59:25.072782",
     "exception": false,
     "start_time": "2022-08-27T05:59:25.042248",
     "status": "completed"
    },
    "tags": []
   },
   "outputs": [
    {
     "data": {
      "text/plain": [
       "'Working on chromosome 9'"
      ]
     },
     "metadata": {},
     "output_type": "display_data"
    }
   ],
   "source": [
    "assert CHROMOSOME is not None and (\n",
    "    1 <= CHROMOSOME <= 22\n",
    "), \"You have to select one chromosome (format: number between 1 and 22)\"\n",
    "\n",
    "# CHROMOSOME = str(CHROMOSOME)\n",
    "display(f\"Working on chromosome {CHROMOSOME}\")"
   ]
  },
  {
   "cell_type": "code",
   "execution_count": 10,
   "id": "ab8e96e8-06b5-4363-9dcd-dc4d78cc27f7",
   "metadata": {
    "execution": {
     "iopub.execute_input": "2022-08-27T05:59:25.098171Z",
     "iopub.status.busy": "2022-08-27T05:59:25.097975Z",
     "iopub.status.idle": "2022-08-27T05:59:25.120008Z",
     "shell.execute_reply": "2022-08-27T05:59:25.119459Z"
    },
    "papermill": {
     "duration": 0.036406,
     "end_time": "2022-08-27T05:59:25.121502",
     "exception": false,
     "start_time": "2022-08-27T05:59:25.085096",
     "status": "completed"
    },
    "tags": []
   },
   "outputs": [
    {
     "data": {
      "text/plain": [
       "'Compute correlation within distance False'"
      ]
     },
     "metadata": {},
     "output_type": "display_data"
    }
   ],
   "source": [
    "display(f\"Compute correlation within distance {COMPUTE_CORRELATIONS_WITHIN_DISTANCE}\")"
   ]
  },
  {
   "cell_type": "code",
   "execution_count": 11,
   "id": "396392dc-0340-4540-9b02-e182b833f909",
   "metadata": {
    "execution": {
     "iopub.execute_input": "2022-08-27T05:59:25.142866Z",
     "iopub.status.busy": "2022-08-27T05:59:25.142677Z",
     "iopub.status.idle": "2022-08-27T05:59:25.169956Z",
     "shell.execute_reply": "2022-08-27T05:59:25.169205Z"
    },
    "papermill": {
     "duration": 0.041176,
     "end_time": "2022-08-27T05:59:25.171472",
     "exception": false,
     "start_time": "2022-08-27T05:59:25.130296",
     "status": "completed"
    },
    "tags": []
   },
   "outputs": [
    {
     "data": {
      "text/plain": [
       "'Using output dir base: /project/ritchie20/projects/phenoplier/base/results/gls/gene_corrs/cohorts/phenomexcan_rapid_gwas/gtex_v8/mashr'"
      ]
     },
     "metadata": {},
     "output_type": "display_data"
    }
   ],
   "source": [
    "OUTPUT_DIR_BASE = (\n",
    "    conf.RESULTS[\"GLS\"]\n",
    "    / \"gene_corrs\"\n",
    "    / \"cohorts\"\n",
    "    / COHORT_NAME\n",
    "    / REFERENCE_PANEL.lower()\n",
    "    / EQTL_MODEL.lower()\n",
    ")\n",
    "OUTPUT_DIR_BASE.mkdir(parents=True, exist_ok=True)\n",
    "\n",
    "display(f\"Using output dir base: {OUTPUT_DIR_BASE}\")"
   ]
  },
  {
   "cell_type": "markdown",
   "id": "d2ba085e",
   "metadata": {
    "papermill": {
     "duration": 0.018999,
     "end_time": "2022-08-27T05:59:25.202859",
     "exception": false,
     "start_time": "2022-08-27T05:59:25.183860",
     "status": "completed"
    },
    "tags": []
   },
   "source": [
    "# Load data"
   ]
  },
  {
   "cell_type": "markdown",
   "id": "7dcb8db7",
   "metadata": {
    "papermill": {
     "duration": 0.016489,
     "end_time": "2022-08-27T05:59:25.235791",
     "exception": false,
     "start_time": "2022-08-27T05:59:25.219302",
     "status": "completed"
    },
    "tags": []
   },
   "source": [
    "## GWAS variants"
   ]
  },
  {
   "cell_type": "code",
   "execution_count": 12,
   "id": "29434c4e-8cd3-4b9b-82e4-b5a251d9dd19",
   "metadata": {
    "execution": {
     "iopub.execute_input": "2022-08-27T05:59:25.255245Z",
     "iopub.status.busy": "2022-08-27T05:59:25.255046Z",
     "iopub.status.idle": "2022-08-27T05:59:27.941286Z",
     "shell.execute_reply": "2022-08-27T05:59:27.940311Z"
    },
    "papermill": {
     "duration": 2.698387,
     "end_time": "2022-08-27T05:59:27.943305",
     "exception": false,
     "start_time": "2022-08-27T05:59:25.244918",
     "status": "completed"
    },
    "tags": []
   },
   "outputs": [],
   "source": [
    "with open(OUTPUT_DIR_BASE / \"gwas_variant_ids.pkl\", \"rb\") as handle:\n",
    "    gwas_variants_ids_set = pickle.load(handle)"
   ]
  },
  {
   "cell_type": "code",
   "execution_count": 13,
   "id": "b9d9dec2-4a76-4bf9-bde2-e24c95acb8a0",
   "metadata": {
    "execution": {
     "iopub.execute_input": "2022-08-27T05:59:27.964303Z",
     "iopub.status.busy": "2022-08-27T05:59:27.964067Z",
     "iopub.status.idle": "2022-08-27T05:59:28.046281Z",
     "shell.execute_reply": "2022-08-27T05:59:28.045412Z"
    },
    "papermill": {
     "duration": 0.094631,
     "end_time": "2022-08-27T05:59:28.048843",
     "exception": false,
     "start_time": "2022-08-27T05:59:27.954212",
     "status": "completed"
    },
    "tags": []
   },
   "outputs": [
    {
     "data": {
      "text/plain": [
       "8496088"
      ]
     },
     "execution_count": 13,
     "metadata": {},
     "output_type": "execute_result"
    }
   ],
   "source": [
    "len(gwas_variants_ids_set)"
   ]
  },
  {
   "cell_type": "code",
   "execution_count": 14,
   "id": "4235b06a-6034-4ee4-a0a3-2ae35d122418",
   "metadata": {
    "execution": {
     "iopub.execute_input": "2022-08-27T05:59:28.080632Z",
     "iopub.status.busy": "2022-08-27T05:59:28.080302Z",
     "iopub.status.idle": "2022-08-27T05:59:28.639791Z",
     "shell.execute_reply": "2022-08-27T05:59:28.639105Z"
    },
    "papermill": {
     "duration": 0.576913,
     "end_time": "2022-08-27T05:59:28.641302",
     "exception": false,
     "start_time": "2022-08-27T05:59:28.064389",
     "status": "completed"
    },
    "tags": []
   },
   "outputs": [
    {
     "data": {
      "text/plain": [
       "['chr12_92667084_GC_G_b38',\n",
       " 'chr13_96940883_TTCA_T_b38',\n",
       " 'chr22_25195309_G_A_b38',\n",
       " 'chr9_78242391_T_G_b38',\n",
       " 'chr10_1840914_C_T_b38']"
      ]
     },
     "execution_count": 14,
     "metadata": {},
     "output_type": "execute_result"
    }
   ],
   "source": [
    "list(gwas_variants_ids_set)[:5]"
   ]
  },
  {
   "cell_type": "markdown",
   "id": "07866999-2305-41f9-a144-e69c9122c212",
   "metadata": {
    "papermill": {
     "duration": 0.009383,
     "end_time": "2022-08-27T05:59:28.660369",
     "exception": false,
     "start_time": "2022-08-27T05:59:28.650986",
     "status": "completed"
    },
    "tags": []
   },
   "source": [
    "## S-PrediXcan tissue models"
   ]
  },
  {
   "cell_type": "code",
   "execution_count": 15,
   "id": "780611d9-77c8-405f-90a4-f271f7b09397",
   "metadata": {
    "execution": {
     "iopub.execute_input": "2022-08-27T05:59:28.680759Z",
     "iopub.status.busy": "2022-08-27T05:59:28.680564Z",
     "iopub.status.idle": "2022-08-27T05:59:29.503941Z",
     "shell.execute_reply": "2022-08-27T05:59:29.503179Z"
    },
    "papermill": {
     "duration": 0.835929,
     "end_time": "2022-08-27T05:59:29.505852",
     "exception": false,
     "start_time": "2022-08-27T05:59:28.669923",
     "status": "completed"
    },
    "tags": []
   },
   "outputs": [],
   "source": [
    "spredixcan_genes_models = pd.read_pickle(OUTPUT_DIR_BASE / \"gene_tissues.pkl\")"
   ]
  },
  {
   "cell_type": "code",
   "execution_count": 16,
   "id": "726dd1f6-9557-4225-91fa-b3b879ea96e1",
   "metadata": {
    "execution": {
     "iopub.execute_input": "2022-08-27T05:59:29.527067Z",
     "iopub.status.busy": "2022-08-27T05:59:29.526869Z",
     "iopub.status.idle": "2022-08-27T05:59:29.548893Z",
     "shell.execute_reply": "2022-08-27T05:59:29.548261Z"
    },
    "papermill": {
     "duration": 0.034468,
     "end_time": "2022-08-27T05:59:29.550409",
     "exception": false,
     "start_time": "2022-08-27T05:59:29.515941",
     "status": "completed"
    },
    "tags": []
   },
   "outputs": [
    {
     "data": {
      "text/plain": [
       "(6428, 3)"
      ]
     },
     "execution_count": 16,
     "metadata": {},
     "output_type": "execute_result"
    }
   ],
   "source": [
    "spredixcan_genes_models.shape"
   ]
  },
  {
   "cell_type": "code",
   "execution_count": 17,
   "id": "944a1b48-222c-4eb0-b252-b9de2cbca215",
   "metadata": {
    "execution": {
     "iopub.execute_input": "2022-08-27T05:59:29.570282Z",
     "iopub.status.busy": "2022-08-27T05:59:29.570080Z",
     "iopub.status.idle": "2022-08-27T05:59:29.595397Z",
     "shell.execute_reply": "2022-08-27T05:59:29.594879Z"
    },
    "papermill": {
     "duration": 0.03694,
     "end_time": "2022-08-27T05:59:29.596823",
     "exception": false,
     "start_time": "2022-08-27T05:59:29.559883",
     "status": "completed"
    },
    "tags": []
   },
   "outputs": [
    {
     "data": {
      "text/html": [
       "<div>\n",
       "<style scoped>\n",
       "    .dataframe tbody tr th:only-of-type {\n",
       "        vertical-align: middle;\n",
       "    }\n",
       "\n",
       "    .dataframe tbody tr th {\n",
       "        vertical-align: top;\n",
       "    }\n",
       "\n",
       "    .dataframe thead th {\n",
       "        text-align: right;\n",
       "    }\n",
       "</style>\n",
       "<table border=\"1\" class=\"dataframe\">\n",
       "  <thead>\n",
       "    <tr style=\"text-align: right;\">\n",
       "      <th></th>\n",
       "      <th>gene_name</th>\n",
       "      <th>tissue</th>\n",
       "      <th>n_tissues</th>\n",
       "    </tr>\n",
       "    <tr>\n",
       "      <th>gene_id</th>\n",
       "      <th></th>\n",
       "      <th></th>\n",
       "      <th></th>\n",
       "    </tr>\n",
       "  </thead>\n",
       "  <tbody>\n",
       "    <tr>\n",
       "      <th>ENSG00000000419</th>\n",
       "      <td>DPM1</td>\n",
       "      <td>(Brain_Substantia_nigra, Brain_Hypothalamus)</td>\n",
       "      <td>2</td>\n",
       "    </tr>\n",
       "    <tr>\n",
       "      <th>ENSG00000000938</th>\n",
       "      <td>FGR</td>\n",
       "      <td>(Brain_Frontal_Cortex_BA9, Liver, Esophagus_Mu...</td>\n",
       "      <td>36</td>\n",
       "    </tr>\n",
       "    <tr>\n",
       "      <th>ENSG00000000971</th>\n",
       "      <td>CFH</td>\n",
       "      <td>(Uterus, Small_Intestine_Terminal_Ileum, Brain...</td>\n",
       "      <td>34</td>\n",
       "    </tr>\n",
       "    <tr>\n",
       "      <th>ENSG00000001084</th>\n",
       "      <td>GCLC</td>\n",
       "      <td>(Small_Intestine_Terminal_Ileum, Brain_Frontal...</td>\n",
       "      <td>33</td>\n",
       "    </tr>\n",
       "    <tr>\n",
       "      <th>ENSG00000001167</th>\n",
       "      <td>NFYA</td>\n",
       "      <td>(Small_Intestine_Terminal_Ileum, Brain_Putamen...</td>\n",
       "      <td>40</td>\n",
       "    </tr>\n",
       "  </tbody>\n",
       "</table>\n",
       "</div>"
      ],
      "text/plain": [
       "                gene_name                                             tissue  \\\n",
       "gene_id                                                                        \n",
       "ENSG00000000419      DPM1       (Brain_Substantia_nigra, Brain_Hypothalamus)   \n",
       "ENSG00000000938       FGR  (Brain_Frontal_Cortex_BA9, Liver, Esophagus_Mu...   \n",
       "ENSG00000000971       CFH  (Uterus, Small_Intestine_Terminal_Ileum, Brain...   \n",
       "ENSG00000001084      GCLC  (Small_Intestine_Terminal_Ileum, Brain_Frontal...   \n",
       "ENSG00000001167      NFYA  (Small_Intestine_Terminal_Ileum, Brain_Putamen...   \n",
       "\n",
       "                 n_tissues  \n",
       "gene_id                     \n",
       "ENSG00000000419          2  \n",
       "ENSG00000000938         36  \n",
       "ENSG00000000971         34  \n",
       "ENSG00000001084         33  \n",
       "ENSG00000001167         40  "
      ]
     },
     "execution_count": 17,
     "metadata": {},
     "output_type": "execute_result"
    }
   ],
   "source": [
    "spredixcan_genes_models.head()"
   ]
  },
  {
   "cell_type": "code",
   "execution_count": 18,
   "id": "d1c11bb1-be0b-4f40-b360-633d6827109f",
   "metadata": {
    "execution": {
     "iopub.execute_input": "2022-08-27T05:59:29.617270Z",
     "iopub.status.busy": "2022-08-27T05:59:29.617052Z",
     "iopub.status.idle": "2022-08-27T05:59:29.633298Z",
     "shell.execute_reply": "2022-08-27T05:59:29.632810Z"
    },
    "papermill": {
     "duration": 0.027946,
     "end_time": "2022-08-27T05:59:29.634798",
     "exception": false,
     "start_time": "2022-08-27T05:59:29.606852",
     "status": "completed"
    },
    "tags": []
   },
   "outputs": [],
   "source": [
    "assert spredixcan_genes_models.index.is_unique"
   ]
  },
  {
   "cell_type": "markdown",
   "id": "a5b5092c-a13e-47c4-a92a-480fcc08f3ae",
   "metadata": {
    "papermill": {
     "duration": 0.0093,
     "end_time": "2022-08-27T05:59:29.653395",
     "exception": false,
     "start_time": "2022-08-27T05:59:29.644095",
     "status": "completed"
    },
    "tags": []
   },
   "source": [
    "## Gene info"
   ]
  },
  {
   "cell_type": "code",
   "execution_count": 19,
   "id": "7d6bb224-88e9-4358-ac10-43a41d92cdad",
   "metadata": {
    "execution": {
     "iopub.execute_input": "2022-08-27T05:59:29.673925Z",
     "iopub.status.busy": "2022-08-27T05:59:29.673735Z",
     "iopub.status.idle": "2022-08-27T05:59:29.694365Z",
     "shell.execute_reply": "2022-08-27T05:59:29.693854Z"
    },
    "papermill": {
     "duration": 0.033176,
     "end_time": "2022-08-27T05:59:29.695983",
     "exception": false,
     "start_time": "2022-08-27T05:59:29.662807",
     "status": "completed"
    },
    "tags": []
   },
   "outputs": [],
   "source": [
    "genes_info = pd.read_pickle(OUTPUT_DIR_BASE / \"genes_info.pkl\")"
   ]
  },
  {
   "cell_type": "code",
   "execution_count": 20,
   "id": "9e32abfa-546d-483e-8c18-d526e9e05903",
   "metadata": {
    "execution": {
     "iopub.execute_input": "2022-08-27T05:59:29.715629Z",
     "iopub.status.busy": "2022-08-27T05:59:29.715441Z",
     "iopub.status.idle": "2022-08-27T05:59:29.732755Z",
     "shell.execute_reply": "2022-08-27T05:59:29.732169Z"
    },
    "papermill": {
     "duration": 0.028906,
     "end_time": "2022-08-27T05:59:29.734292",
     "exception": false,
     "start_time": "2022-08-27T05:59:29.705386",
     "status": "completed"
    },
    "tags": []
   },
   "outputs": [
    {
     "data": {
      "text/plain": [
       "(6428, 7)"
      ]
     },
     "execution_count": 20,
     "metadata": {},
     "output_type": "execute_result"
    }
   ],
   "source": [
    "genes_info.shape"
   ]
  },
  {
   "cell_type": "code",
   "execution_count": 21,
   "id": "d16c3e92-85ec-468a-9a56-e25a9774a1cb",
   "metadata": {
    "execution": {
     "iopub.execute_input": "2022-08-27T05:59:29.754616Z",
     "iopub.status.busy": "2022-08-27T05:59:29.754407Z",
     "iopub.status.idle": "2022-08-27T05:59:29.776062Z",
     "shell.execute_reply": "2022-08-27T05:59:29.775467Z"
    },
    "papermill": {
     "duration": 0.033911,
     "end_time": "2022-08-27T05:59:29.777472",
     "exception": false,
     "start_time": "2022-08-27T05:59:29.743561",
     "status": "completed"
    },
    "tags": []
   },
   "outputs": [
    {
     "data": {
      "text/html": [
       "<div>\n",
       "<style scoped>\n",
       "    .dataframe tbody tr th:only-of-type {\n",
       "        vertical-align: middle;\n",
       "    }\n",
       "\n",
       "    .dataframe tbody tr th {\n",
       "        vertical-align: top;\n",
       "    }\n",
       "\n",
       "    .dataframe thead th {\n",
       "        text-align: right;\n",
       "    }\n",
       "</style>\n",
       "<table border=\"1\" class=\"dataframe\">\n",
       "  <thead>\n",
       "    <tr style=\"text-align: right;\">\n",
       "      <th></th>\n",
       "      <th>name</th>\n",
       "      <th>id</th>\n",
       "      <th>chr</th>\n",
       "      <th>band</th>\n",
       "      <th>start_position</th>\n",
       "      <th>end_position</th>\n",
       "      <th>gene_length</th>\n",
       "    </tr>\n",
       "  </thead>\n",
       "  <tbody>\n",
       "    <tr>\n",
       "      <th>0</th>\n",
       "      <td>ZNF605</td>\n",
       "      <td>ENSG00000196458</td>\n",
       "      <td>12</td>\n",
       "      <td>12q24.33</td>\n",
       "      <td>132918306</td>\n",
       "      <td>132956306</td>\n",
       "      <td>38000</td>\n",
       "    </tr>\n",
       "    <tr>\n",
       "      <th>1</th>\n",
       "      <td>FBP1</td>\n",
       "      <td>ENSG00000165140</td>\n",
       "      <td>9</td>\n",
       "      <td>9q22.32</td>\n",
       "      <td>94603133</td>\n",
       "      <td>94640249</td>\n",
       "      <td>37116</td>\n",
       "    </tr>\n",
       "    <tr>\n",
       "      <th>2</th>\n",
       "      <td>TAL1</td>\n",
       "      <td>ENSG00000162367</td>\n",
       "      <td>1</td>\n",
       "      <td>1p33</td>\n",
       "      <td>47216290</td>\n",
       "      <td>47232220</td>\n",
       "      <td>15930</td>\n",
       "    </tr>\n",
       "    <tr>\n",
       "      <th>3</th>\n",
       "      <td>MPV17</td>\n",
       "      <td>ENSG00000115204</td>\n",
       "      <td>2</td>\n",
       "      <td>2p23.3</td>\n",
       "      <td>27309492</td>\n",
       "      <td>27325680</td>\n",
       "      <td>16188</td>\n",
       "    </tr>\n",
       "    <tr>\n",
       "      <th>4</th>\n",
       "      <td>PTPRN</td>\n",
       "      <td>ENSG00000054356</td>\n",
       "      <td>2</td>\n",
       "      <td>2q35</td>\n",
       "      <td>219289623</td>\n",
       "      <td>219309648</td>\n",
       "      <td>20025</td>\n",
       "    </tr>\n",
       "  </tbody>\n",
       "</table>\n",
       "</div>"
      ],
      "text/plain": [
       "     name               id  chr      band  start_position  end_position  \\\n",
       "0  ZNF605  ENSG00000196458   12  12q24.33       132918306     132956306   \n",
       "1    FBP1  ENSG00000165140    9   9q22.32        94603133      94640249   \n",
       "2    TAL1  ENSG00000162367    1      1p33        47216290      47232220   \n",
       "3   MPV17  ENSG00000115204    2    2p23.3        27309492      27325680   \n",
       "4   PTPRN  ENSG00000054356    2      2q35       219289623     219309648   \n",
       "\n",
       "   gene_length  \n",
       "0        38000  \n",
       "1        37116  \n",
       "2        15930  \n",
       "3        16188  \n",
       "4        20025  "
      ]
     },
     "execution_count": 21,
     "metadata": {},
     "output_type": "execute_result"
    }
   ],
   "source": [
    "genes_info.head()"
   ]
  },
  {
   "cell_type": "markdown",
   "id": "d3843e06",
   "metadata": {
    "papermill": {
     "duration": 0.009961,
     "end_time": "2022-08-27T05:59:29.797383",
     "exception": false,
     "start_time": "2022-08-27T05:59:29.787422",
     "status": "completed"
    },
    "tags": []
   },
   "source": [
    "# Compute correlations"
   ]
  },
  {
   "cell_type": "code",
   "execution_count": 22,
   "id": "cb859c15-d1f3-4006-a74c-2b83c0db9611",
   "metadata": {
    "execution": {
     "iopub.execute_input": "2022-08-27T05:59:29.818258Z",
     "iopub.status.busy": "2022-08-27T05:59:29.818063Z",
     "iopub.status.idle": "2022-08-27T05:59:29.835939Z",
     "shell.execute_reply": "2022-08-27T05:59:29.835392Z"
    },
    "papermill": {
     "duration": 0.0299,
     "end_time": "2022-08-27T05:59:29.837384",
     "exception": false,
     "start_time": "2022-08-27T05:59:29.807484",
     "status": "completed"
    },
    "tags": []
   },
   "outputs": [
    {
     "data": {
      "text/plain": [
       "PosixPath('/project/ritchie20/projects/phenoplier/base/results/gls/gene_corrs/cohorts/phenomexcan_rapid_gwas/gtex_v8/mashr/by_chr/gene_corrs-chr9.pkl')"
      ]
     },
     "metadata": {},
     "output_type": "display_data"
    }
   ],
   "source": [
    "output_dir = OUTPUT_DIR_BASE / \"by_chr\"\n",
    "output_dir.mkdir(exist_ok=True, parents=True)\n",
    "output_file = output_dir / f\"gene_corrs-chr{CHROMOSOME}.pkl\"\n",
    "display(output_file)"
   ]
  },
  {
   "cell_type": "code",
   "execution_count": 23,
   "id": "aa674fe4-6794-4eed-98fa-32b39d1d4ace",
   "metadata": {
    "execution": {
     "iopub.execute_input": "2022-08-27T05:59:29.857971Z",
     "iopub.status.busy": "2022-08-27T05:59:29.857783Z",
     "iopub.status.idle": "2022-08-27T05:59:29.873494Z",
     "shell.execute_reply": "2022-08-27T05:59:29.872786Z"
    },
    "papermill": {
     "duration": 0.027703,
     "end_time": "2022-08-27T05:59:29.874991",
     "exception": false,
     "start_time": "2022-08-27T05:59:29.847288",
     "status": "completed"
    },
    "tags": []
   },
   "outputs": [],
   "source": [
    "warnings.filterwarnings(\"error\")"
   ]
  },
  {
   "cell_type": "code",
   "execution_count": 24,
   "id": "44d5450b-3baf-43f1-9e2e-4b06f1a785f8",
   "metadata": {
    "execution": {
     "iopub.execute_input": "2022-08-27T05:59:29.896756Z",
     "iopub.status.busy": "2022-08-27T05:59:29.896568Z",
     "iopub.status.idle": "2022-08-27T05:59:29.912846Z",
     "shell.execute_reply": "2022-08-27T05:59:29.912201Z"
    },
    "papermill": {
     "duration": 0.029056,
     "end_time": "2022-08-27T05:59:29.914354",
     "exception": false,
     "start_time": "2022-08-27T05:59:29.885298",
     "status": "completed"
    },
    "tags": []
   },
   "outputs": [],
   "source": [
    "# standard checks\n",
    "all_chrs = genes_info[\"chr\"].dropna().unique()\n",
    "assert all_chrs.shape[0] == 22\n",
    "\n",
    "# select chromosome given by the user\n",
    "assert CHROMOSOME in all_chrs"
   ]
  },
  {
   "cell_type": "code",
   "execution_count": 25,
   "id": "2d7c043c-92a7-4d35-991b-fa69ac1e0268",
   "metadata": {
    "execution": {
     "iopub.execute_input": "2022-08-27T05:59:29.934835Z",
     "iopub.status.busy": "2022-08-27T05:59:29.934646Z",
     "iopub.status.idle": "2022-08-27T05:59:29.963768Z",
     "shell.execute_reply": "2022-08-27T05:59:29.963242Z"
    },
    "papermill": {
     "duration": 0.041098,
     "end_time": "2022-08-27T05:59:29.965417",
     "exception": false,
     "start_time": "2022-08-27T05:59:29.924319",
     "status": "completed"
    },
    "tags": []
   },
   "outputs": [
    {
     "name": "stdout",
     "output_type": "stream",
     "text": [
      "Number of genes in chromosome: 244\n"
     ]
    }
   ],
   "source": [
    "# run only on the chromosome specified\n",
    "all_chrs = [CHROMOSOME]\n",
    "genes_chr = genes_info[genes_info[\"chr\"] == CHROMOSOME]\n",
    "\n",
    "# For testing purposes\n",
    "# genes_chr = genes_chr.sample(n=20)\n",
    "\n",
    "print(f\"Number of genes in chromosome: {genes_chr.shape[0]}\", flush=True)"
   ]
  },
  {
   "cell_type": "code",
   "execution_count": 26,
   "id": "916015d8-2979-46d3-a9b9-1cf5a0932c6a",
   "metadata": {
    "execution": {
     "iopub.execute_input": "2022-08-27T05:59:29.986848Z",
     "iopub.status.busy": "2022-08-27T05:59:29.986659Z",
     "iopub.status.idle": "2022-08-27T05:59:30.002894Z",
     "shell.execute_reply": "2022-08-27T05:59:30.002153Z"
    },
    "papermill": {
     "duration": 0.028323,
     "end_time": "2022-08-27T05:59:30.004412",
     "exception": false,
     "start_time": "2022-08-27T05:59:29.976089",
     "status": "completed"
    },
    "tags": []
   },
   "outputs": [],
   "source": [
    "# sort genes by starting position to make visualizations better later\n",
    "genes_chr = genes_chr.sort_values(\"start_position\")"
   ]
  },
  {
   "cell_type": "code",
   "execution_count": 27,
   "id": "a38aa74a-8ad3-47f6-8ef9-56be0e011774",
   "metadata": {
    "execution": {
     "iopub.execute_input": "2022-08-27T05:59:30.025914Z",
     "iopub.status.busy": "2022-08-27T05:59:30.025725Z",
     "iopub.status.idle": "2022-08-27T05:59:30.042372Z",
     "shell.execute_reply": "2022-08-27T05:59:30.041687Z"
    },
    "papermill": {
     "duration": 0.029192,
     "end_time": "2022-08-27T05:59:30.043947",
     "exception": false,
     "start_time": "2022-08-27T05:59:30.014755",
     "status": "completed"
    },
    "tags": []
   },
   "outputs": [],
   "source": [
    "gene_chr_objs = [Gene(ensembl_id=gene_id) for gene_id in genes_chr[\"id\"]]"
   ]
  },
  {
   "cell_type": "code",
   "execution_count": 28,
   "id": "570f974f-13c3-42b6-ad3a-ce99ca885c1a",
   "metadata": {
    "execution": {
     "iopub.execute_input": "2022-08-27T05:59:30.065700Z",
     "iopub.status.busy": "2022-08-27T05:59:30.065510Z",
     "iopub.status.idle": "2022-08-27T05:59:30.085484Z",
     "shell.execute_reply": "2022-08-27T05:59:30.084798Z"
    },
    "papermill": {
     "duration": 0.032803,
     "end_time": "2022-08-27T05:59:30.086992",
     "exception": false,
     "start_time": "2022-08-27T05:59:30.054189",
     "status": "completed"
    },
    "tags": []
   },
   "outputs": [
    {
     "name": "stdout",
     "output_type": "stream",
     "text": [
      "Number of gene combinations: 29646\n"
     ]
    }
   ],
   "source": [
    "n = len(gene_chr_objs)\n",
    "n_comb = int(n * (n - 1) / 2.0)\n",
    "print(f\"Number of gene combinations: {n_comb}\", flush=True)"
   ]
  },
  {
   "cell_type": "code",
   "execution_count": 29,
   "id": "cdbb90a1",
   "metadata": {
    "execution": {
     "iopub.execute_input": "2022-08-27T05:59:30.109524Z",
     "iopub.status.busy": "2022-08-27T05:59:30.109335Z",
     "iopub.status.idle": "2022-08-27T06:43:27.243590Z",
     "shell.execute_reply": "2022-08-27T06:43:27.242472Z"
    },
    "papermill": {
     "duration": 2637.148822,
     "end_time": "2022-08-27T06:43:27.246523",
     "exception": false,
     "start_time": "2022-08-27T05:59:30.097701",
     "status": "completed"
    },
    "tags": []
   },
   "outputs": [
    {
     "name": "stderr",
     "output_type": "stream",
     "text": [
      "ENSG00000181090 / ENSG00000181090: : 29890it [43:56, 11.33it/s]\n"
     ]
    },
    {
     "data": {
      "text/plain": [
       "PosixPath('/project/ritchie20/projects/phenoplier/base/results/gls/gene_corrs/cohorts/phenomexcan_rapid_gwas/gtex_v8/mashr/by_chr/gene_corrs-chr9.pkl')"
      ]
     },
     "metadata": {},
     "output_type": "display_data"
    }
   ],
   "source": [
    "gene_corrs = []\n",
    "gene_corrs_data = np.full(\n",
    "    (n, n),\n",
    "    np.nan,\n",
    "    dtype=np.float64,\n",
    ")\n",
    "\n",
    "i = 0\n",
    "with tqdm(ncols=100, total=n_comb) as pbar:\n",
    "    for gene1_idx in range(0, len(gene_chr_objs)):\n",
    "        gene1_obj = gene_chr_objs[gene1_idx]\n",
    "        gene1_tissues = spredixcan_genes_models.loc[gene1_obj.ensembl_id, \"tissue\"]\n",
    "\n",
    "        for gene2_idx in range(gene1_idx, len(gene_chr_objs)):\n",
    "            gene2_obj = gene_chr_objs[gene2_idx]\n",
    "            gene2_tissues = spredixcan_genes_models.loc[gene2_obj.ensembl_id, \"tissue\"]\n",
    "\n",
    "            pbar.set_description(f\"{gene1_obj.ensembl_id} / {gene2_obj.ensembl_id}\")\n",
    "\n",
    "            try:\n",
    "                r = gene1_obj.get_ssm_correlation(\n",
    "                    other_gene=gene2_obj,\n",
    "                    tissues=gene1_tissues,\n",
    "                    other_tissues=gene2_tissues,\n",
    "                    snps_subset=gwas_variants_ids_set,\n",
    "                    condition_number=SMULTIXCAN_CONDITION_NUMBER,\n",
    "                    reference_panel=REFERENCE_PANEL,\n",
    "                    model_type=EQTL_MODEL,\n",
    "                    use_within_distance=COMPUTE_CORRELATIONS_WITHIN_DISTANCE,\n",
    "                )\n",
    "\n",
    "                if r is None:\n",
    "                    # if r is None, it's very likely because:\n",
    "                    #  * one of the genes has no prediction models\n",
    "                    #  * all the SNPs predictors for the gene are not present in the reference\n",
    "                    #    panel\n",
    "\n",
    "                    r = 0.0\n",
    "\n",
    "                gene_corrs.append(r)\n",
    "\n",
    "                gene_corrs_data[gene1_idx, gene2_idx] = r\n",
    "                gene_corrs_data[gene2_idx, gene1_idx] = r\n",
    "            except Warning as e:\n",
    "                if not DEBUG_MODE:\n",
    "                    raise e\n",
    "\n",
    "                print(\n",
    "                    f\"RuntimeWarning for genes {gene1_obj.ensembl_id} and {gene2_obj.ensembl_id}\",\n",
    "                    flush=True,\n",
    "                )\n",
    "                print(traceback.format_exc(), flush=True)\n",
    "\n",
    "                gene_corrs.append(np.nan)\n",
    "            except Exception as e:\n",
    "                if not DEBUG_MODE:\n",
    "                    raise e\n",
    "\n",
    "                print(\n",
    "                    f\"Exception for genes {gene1_obj.ensembl_id} and {gene2_obj.ensembl_id}\",\n",
    "                    flush=True,\n",
    "                )\n",
    "                print(traceback.format_exc(), flush=True)\n",
    "\n",
    "                gene_corrs.append(np.nan)\n",
    "\n",
    "            pbar.update(1)\n",
    "\n",
    "# create a pandas series\n",
    "gene_corrs_flat = pd.Series(gene_corrs)\n",
    "\n",
    "# save\n",
    "# FIXME: consider saving only the condenced matrix here. See here for\n",
    "# more details: https://github.com/greenelab/phenoplier/pull/38#discussion_r634600813\n",
    "# gene_corrs_data = squareform(np.array(gene_corrs, dtype=np.float64))\n",
    "# np.fill_diagonal(gene_corrs_data, 1.0)\n",
    "\n",
    "gene_chr_ids = [g.ensembl_id for g in gene_chr_objs]\n",
    "gene_corrs_df = pd.DataFrame(\n",
    "    data=gene_corrs_data,\n",
    "    index=gene_chr_ids,\n",
    "    columns=gene_chr_ids,\n",
    ")\n",
    "\n",
    "output_dir.mkdir(exist_ok=True, parents=True)\n",
    "display(output_file)\n",
    "\n",
    "gene_corrs_df.to_pickle(output_file)"
   ]
  },
  {
   "cell_type": "markdown",
   "id": "faa67b51-5373-470f-aa72-2ded53fa6dfe",
   "metadata": {
    "papermill": {
     "duration": 1.860695,
     "end_time": "2022-08-27T06:43:31.054577",
     "exception": false,
     "start_time": "2022-08-27T06:43:29.193882",
     "status": "completed"
    },
    "tags": []
   },
   "source": [
    "# Testing"
   ]
  },
  {
   "cell_type": "code",
   "execution_count": 30,
   "id": "14f7d046-4b55-4896-a56b-990127bcc388",
   "metadata": {
    "execution": {
     "iopub.execute_input": "2022-08-27T06:43:34.780896Z",
     "iopub.status.busy": "2022-08-27T06:43:34.780616Z",
     "iopub.status.idle": "2022-08-27T06:43:35.010869Z",
     "shell.execute_reply": "2022-08-27T06:43:35.010353Z"
    },
    "papermill": {
     "duration": 2.082683,
     "end_time": "2022-08-27T06:43:35.012381",
     "exception": false,
     "start_time": "2022-08-27T06:43:32.929698",
     "status": "completed"
    },
    "tags": []
   },
   "outputs": [
    {
     "data": {
      "text/plain": [
       "(244, 244)"
      ]
     },
     "execution_count": 30,
     "metadata": {},
     "output_type": "execute_result"
    }
   ],
   "source": [
    "gene_corrs_df.shape"
   ]
  },
  {
   "cell_type": "code",
   "execution_count": 31,
   "id": "c7d15414-3297-4537-a7c6-7588c0baeb75",
   "metadata": {
    "execution": {
     "iopub.execute_input": "2022-08-27T06:43:38.767145Z",
     "iopub.status.busy": "2022-08-27T06:43:38.766882Z",
     "iopub.status.idle": "2022-08-27T06:43:38.803804Z",
     "shell.execute_reply": "2022-08-27T06:43:38.803275Z"
    },
    "papermill": {
     "duration": 1.892913,
     "end_time": "2022-08-27T06:43:38.805315",
     "exception": false,
     "start_time": "2022-08-27T06:43:36.912402",
     "status": "completed"
    },
    "tags": []
   },
   "outputs": [
    {
     "data": {
      "text/html": [
       "<div>\n",
       "<style scoped>\n",
       "    .dataframe tbody tr th:only-of-type {\n",
       "        vertical-align: middle;\n",
       "    }\n",
       "\n",
       "    .dataframe tbody tr th {\n",
       "        vertical-align: top;\n",
       "    }\n",
       "\n",
       "    .dataframe thead th {\n",
       "        text-align: right;\n",
       "    }\n",
       "</style>\n",
       "<table border=\"1\" class=\"dataframe\">\n",
       "  <thead>\n",
       "    <tr style=\"text-align: right;\">\n",
       "      <th></th>\n",
       "      <th>ENSG00000107099</th>\n",
       "      <th>ENSG00000080503</th>\n",
       "      <th>ENSG00000147852</th>\n",
       "      <th>ENSG00000107249</th>\n",
       "      <th>ENSG00000147853</th>\n",
       "      <th>ENSG00000096968</th>\n",
       "      <th>ENSG00000107014</th>\n",
       "      <th>ENSG00000120217</th>\n",
       "      <th>ENSG00000197646</th>\n",
       "      <th>ENSG00000178445</th>\n",
       "      <th>...</th>\n",
       "      <th>ENSG00000107317</th>\n",
       "      <th>ENSG00000169583</th>\n",
       "      <th>ENSG00000107331</th>\n",
       "      <th>ENSG00000054179</th>\n",
       "      <th>ENSG00000177239</th>\n",
       "      <th>ENSG00000176248</th>\n",
       "      <th>ENSG00000176101</th>\n",
       "      <th>ENSG00000188747</th>\n",
       "      <th>ENSG00000182154</th>\n",
       "      <th>ENSG00000181090</th>\n",
       "    </tr>\n",
       "  </thead>\n",
       "  <tbody>\n",
       "    <tr>\n",
       "      <th>ENSG00000107099</th>\n",
       "      <td>1.000000</td>\n",
       "      <td>0.005961</td>\n",
       "      <td>0.014306</td>\n",
       "      <td>0.011383</td>\n",
       "      <td>0.009011</td>\n",
       "      <td>0.010787</td>\n",
       "      <td>0.007299</td>\n",
       "      <td>0.011087</td>\n",
       "      <td>0.004332</td>\n",
       "      <td>0.007793</td>\n",
       "      <td>...</td>\n",
       "      <td>0.006196</td>\n",
       "      <td>0.006437</td>\n",
       "      <td>0.006663</td>\n",
       "      <td>0.008153</td>\n",
       "      <td>0.006122</td>\n",
       "      <td>0.006450</td>\n",
       "      <td>0.005778</td>\n",
       "      <td>0.012992</td>\n",
       "      <td>0.002304</td>\n",
       "      <td>0.003408</td>\n",
       "    </tr>\n",
       "    <tr>\n",
       "      <th>ENSG00000080503</th>\n",
       "      <td>0.005961</td>\n",
       "      <td>1.000000</td>\n",
       "      <td>0.015907</td>\n",
       "      <td>0.011145</td>\n",
       "      <td>0.010351</td>\n",
       "      <td>0.008686</td>\n",
       "      <td>0.006478</td>\n",
       "      <td>0.010098</td>\n",
       "      <td>0.007377</td>\n",
       "      <td>0.011741</td>\n",
       "      <td>...</td>\n",
       "      <td>0.008856</td>\n",
       "      <td>0.012920</td>\n",
       "      <td>0.007444</td>\n",
       "      <td>0.009527</td>\n",
       "      <td>0.006066</td>\n",
       "      <td>0.010357</td>\n",
       "      <td>0.009837</td>\n",
       "      <td>0.008211</td>\n",
       "      <td>0.005139</td>\n",
       "      <td>0.008609</td>\n",
       "    </tr>\n",
       "    <tr>\n",
       "      <th>ENSG00000147852</th>\n",
       "      <td>0.014306</td>\n",
       "      <td>0.015907</td>\n",
       "      <td>1.000000</td>\n",
       "      <td>0.015231</td>\n",
       "      <td>0.014809</td>\n",
       "      <td>0.017939</td>\n",
       "      <td>0.015215</td>\n",
       "      <td>0.020026</td>\n",
       "      <td>0.009762</td>\n",
       "      <td>0.015066</td>\n",
       "      <td>...</td>\n",
       "      <td>0.016989</td>\n",
       "      <td>0.018714</td>\n",
       "      <td>0.012539</td>\n",
       "      <td>0.018573</td>\n",
       "      <td>0.014555</td>\n",
       "      <td>0.011733</td>\n",
       "      <td>0.004997</td>\n",
       "      <td>0.012021</td>\n",
       "      <td>0.008359</td>\n",
       "      <td>0.012062</td>\n",
       "    </tr>\n",
       "    <tr>\n",
       "      <th>ENSG00000107249</th>\n",
       "      <td>0.011383</td>\n",
       "      <td>0.011145</td>\n",
       "      <td>0.015231</td>\n",
       "      <td>1.000000</td>\n",
       "      <td>0.012116</td>\n",
       "      <td>0.013673</td>\n",
       "      <td>0.009367</td>\n",
       "      <td>0.014768</td>\n",
       "      <td>0.004463</td>\n",
       "      <td>0.012524</td>\n",
       "      <td>...</td>\n",
       "      <td>0.014505</td>\n",
       "      <td>0.015089</td>\n",
       "      <td>0.008846</td>\n",
       "      <td>0.009614</td>\n",
       "      <td>0.011756</td>\n",
       "      <td>0.011086</td>\n",
       "      <td>0.004231</td>\n",
       "      <td>0.011608</td>\n",
       "      <td>0.004521</td>\n",
       "      <td>0.006689</td>\n",
       "    </tr>\n",
       "    <tr>\n",
       "      <th>ENSG00000147853</th>\n",
       "      <td>0.009011</td>\n",
       "      <td>0.010351</td>\n",
       "      <td>0.014809</td>\n",
       "      <td>0.012116</td>\n",
       "      <td>1.000000</td>\n",
       "      <td>0.032907</td>\n",
       "      <td>0.010382</td>\n",
       "      <td>0.013739</td>\n",
       "      <td>0.008188</td>\n",
       "      <td>0.014598</td>\n",
       "      <td>...</td>\n",
       "      <td>0.011130</td>\n",
       "      <td>0.013805</td>\n",
       "      <td>0.009982</td>\n",
       "      <td>0.008640</td>\n",
       "      <td>0.005608</td>\n",
       "      <td>0.004064</td>\n",
       "      <td>0.001773</td>\n",
       "      <td>0.006757</td>\n",
       "      <td>0.007570</td>\n",
       "      <td>0.006960</td>\n",
       "    </tr>\n",
       "  </tbody>\n",
       "</table>\n",
       "<p>5 rows × 244 columns</p>\n",
       "</div>"
      ],
      "text/plain": [
       "                 ENSG00000107099  ENSG00000080503  ENSG00000147852  \\\n",
       "ENSG00000107099         1.000000         0.005961         0.014306   \n",
       "ENSG00000080503         0.005961         1.000000         0.015907   \n",
       "ENSG00000147852         0.014306         0.015907         1.000000   \n",
       "ENSG00000107249         0.011383         0.011145         0.015231   \n",
       "ENSG00000147853         0.009011         0.010351         0.014809   \n",
       "\n",
       "                 ENSG00000107249  ENSG00000147853  ENSG00000096968  \\\n",
       "ENSG00000107099         0.011383         0.009011         0.010787   \n",
       "ENSG00000080503         0.011145         0.010351         0.008686   \n",
       "ENSG00000147852         0.015231         0.014809         0.017939   \n",
       "ENSG00000107249         1.000000         0.012116         0.013673   \n",
       "ENSG00000147853         0.012116         1.000000         0.032907   \n",
       "\n",
       "                 ENSG00000107014  ENSG00000120217  ENSG00000197646  \\\n",
       "ENSG00000107099         0.007299         0.011087         0.004332   \n",
       "ENSG00000080503         0.006478         0.010098         0.007377   \n",
       "ENSG00000147852         0.015215         0.020026         0.009762   \n",
       "ENSG00000107249         0.009367         0.014768         0.004463   \n",
       "ENSG00000147853         0.010382         0.013739         0.008188   \n",
       "\n",
       "                 ENSG00000178445  ...  ENSG00000107317  ENSG00000169583  \\\n",
       "ENSG00000107099         0.007793  ...         0.006196         0.006437   \n",
       "ENSG00000080503         0.011741  ...         0.008856         0.012920   \n",
       "ENSG00000147852         0.015066  ...         0.016989         0.018714   \n",
       "ENSG00000107249         0.012524  ...         0.014505         0.015089   \n",
       "ENSG00000147853         0.014598  ...         0.011130         0.013805   \n",
       "\n",
       "                 ENSG00000107331  ENSG00000054179  ENSG00000177239  \\\n",
       "ENSG00000107099         0.006663         0.008153         0.006122   \n",
       "ENSG00000080503         0.007444         0.009527         0.006066   \n",
       "ENSG00000147852         0.012539         0.018573         0.014555   \n",
       "ENSG00000107249         0.008846         0.009614         0.011756   \n",
       "ENSG00000147853         0.009982         0.008640         0.005608   \n",
       "\n",
       "                 ENSG00000176248  ENSG00000176101  ENSG00000188747  \\\n",
       "ENSG00000107099         0.006450         0.005778         0.012992   \n",
       "ENSG00000080503         0.010357         0.009837         0.008211   \n",
       "ENSG00000147852         0.011733         0.004997         0.012021   \n",
       "ENSG00000107249         0.011086         0.004231         0.011608   \n",
       "ENSG00000147853         0.004064         0.001773         0.006757   \n",
       "\n",
       "                 ENSG00000182154  ENSG00000181090  \n",
       "ENSG00000107099         0.002304         0.003408  \n",
       "ENSG00000080503         0.005139         0.008609  \n",
       "ENSG00000147852         0.008359         0.012062  \n",
       "ENSG00000107249         0.004521         0.006689  \n",
       "ENSG00000147853         0.007570         0.006960  \n",
       "\n",
       "[5 rows x 244 columns]"
      ]
     },
     "execution_count": 31,
     "metadata": {},
     "output_type": "execute_result"
    }
   ],
   "source": [
    "gene_corrs_df.head()"
   ]
  },
  {
   "cell_type": "markdown",
   "id": "dad6603f-01c6-41fb-a6f6-241051207dd8",
   "metadata": {
    "papermill": {
     "duration": 1.835779,
     "end_time": "2022-08-27T06:43:42.514174",
     "exception": false,
     "start_time": "2022-08-27T06:43:40.678395",
     "status": "completed"
    },
    "tags": []
   },
   "source": [
    "## Standard checks and stats"
   ]
  },
  {
   "cell_type": "code",
   "execution_count": 32,
   "id": "286686af-1b7b-4440-8453-6bdcbd8de19c",
   "metadata": {
    "execution": {
     "iopub.execute_input": "2022-08-27T06:43:46.283886Z",
     "iopub.status.busy": "2022-08-27T06:43:46.283618Z",
     "iopub.status.idle": "2022-08-27T06:43:46.304464Z",
     "shell.execute_reply": "2022-08-27T06:43:46.303934Z"
    },
    "papermill": {
     "duration": 1.884233,
     "end_time": "2022-08-27T06:43:46.306085",
     "exception": false,
     "start_time": "2022-08-27T06:43:44.421852",
     "status": "completed"
    },
    "tags": []
   },
   "outputs": [],
   "source": [
    "assert not gene_corrs_df.isna().any().any()"
   ]
  },
  {
   "cell_type": "code",
   "execution_count": 33,
   "id": "00583efc-7068-4270-ad1e-4a418e91db96",
   "metadata": {
    "execution": {
     "iopub.execute_input": "2022-08-27T06:43:49.993620Z",
     "iopub.status.busy": "2022-08-27T06:43:49.993352Z",
     "iopub.status.idle": "2022-08-27T06:43:50.016400Z",
     "shell.execute_reply": "2022-08-27T06:43:50.015858Z"
    },
    "papermill": {
     "duration": 1.882968,
     "end_time": "2022-08-27T06:43:50.018017",
     "exception": false,
     "start_time": "2022-08-27T06:43:48.135049",
     "status": "completed"
    },
    "tags": []
   },
   "outputs": [
    {
     "data": {
      "text/plain": [
       "1.1199333351450839e-07"
      ]
     },
     "metadata": {},
     "output_type": "display_data"
    }
   ],
   "source": [
    "_min_val = gene_corrs_df.min().min()\n",
    "display(_min_val)\n",
    "assert _min_val >= -0.05"
   ]
  },
  {
   "cell_type": "code",
   "execution_count": 34,
   "id": "d04fb2cf-1050-475b-b855-f5f7cc04092b",
   "metadata": {
    "execution": {
     "iopub.execute_input": "2022-08-27T06:43:53.818461Z",
     "iopub.status.busy": "2022-08-27T06:43:53.818189Z",
     "iopub.status.idle": "2022-08-27T06:43:53.845349Z",
     "shell.execute_reply": "2022-08-27T06:43:53.844823Z"
    },
    "papermill": {
     "duration": 1.952987,
     "end_time": "2022-08-27T06:43:53.846848",
     "exception": false,
     "start_time": "2022-08-27T06:43:51.893861",
     "status": "completed"
    },
    "tags": []
   },
   "outputs": [
    {
     "data": {
      "text/plain": [
       "1.0000000000000022"
      ]
     },
     "metadata": {},
     "output_type": "display_data"
    }
   ],
   "source": [
    "_max_val = gene_corrs_df.max().max()  # this captures the diagonal\n",
    "display(_max_val)\n",
    "assert _max_val <= 1.05"
   ]
  },
  {
   "cell_type": "code",
   "execution_count": 35,
   "id": "96d02c44-1fba-47be-8a93-8f2608420b9c",
   "metadata": {
    "execution": {
     "iopub.execute_input": "2022-08-27T06:43:57.571200Z",
     "iopub.status.busy": "2022-08-27T06:43:57.570926Z",
     "iopub.status.idle": "2022-08-27T06:43:57.590490Z",
     "shell.execute_reply": "2022-08-27T06:43:57.589962Z"
    },
    "papermill": {
     "duration": 1.929046,
     "end_time": "2022-08-27T06:43:57.592103",
     "exception": false,
     "start_time": "2022-08-27T06:43:55.663057",
     "status": "completed"
    },
    "tags": []
   },
   "outputs": [],
   "source": [
    "# check upper triangular values\n",
    "# assert len(gene_corrs) == int(genes_chr.shape[0] * (genes_chr.shape[0] - 1) / 2)"
   ]
  },
  {
   "cell_type": "code",
   "execution_count": 36,
   "id": "fe283586-c348-40e0-8841-f6d97bfb021c",
   "metadata": {
    "execution": {
     "iopub.execute_input": "2022-08-27T06:44:01.345934Z",
     "iopub.status.busy": "2022-08-27T06:44:01.345670Z",
     "iopub.status.idle": "2022-08-27T06:44:01.373003Z",
     "shell.execute_reply": "2022-08-27T06:44:01.372471Z"
    },
    "papermill": {
     "duration": 1.94843,
     "end_time": "2022-08-27T06:44:01.374517",
     "exception": false,
     "start_time": "2022-08-27T06:43:59.426087",
     "status": "completed"
    },
    "tags": []
   },
   "outputs": [
    {
     "data": {
      "text/plain": [
       "count    2.989000e+04\n",
       "mean     1.656148e-02\n",
       "std      9.349285e-02\n",
       "min      1.119933e-07\n",
       "25%      3.876584e-03\n",
       "50%      6.019204e-03\n",
       "75%      8.467433e-03\n",
       "max      1.000000e+00\n",
       "dtype: float64"
      ]
     },
     "execution_count": 36,
     "metadata": {},
     "output_type": "execute_result"
    }
   ],
   "source": [
    "gene_corrs_flat.describe()"
   ]
  },
  {
   "cell_type": "code",
   "execution_count": 37,
   "id": "b3815678-0f93-4b35-897b-a9d047a2aa78",
   "metadata": {
    "execution": {
     "iopub.execute_input": "2022-08-27T06:44:05.111906Z",
     "iopub.status.busy": "2022-08-27T06:44:05.111635Z",
     "iopub.status.idle": "2022-08-27T06:44:05.138140Z",
     "shell.execute_reply": "2022-08-27T06:44:05.137610Z"
    },
    "papermill": {
     "duration": 1.929944,
     "end_time": "2022-08-27T06:44:05.139666",
     "exception": false,
     "start_time": "2022-08-27T06:44:03.209722",
     "status": "completed"
    },
    "tags": []
   },
   "outputs": [
    {
     "data": {
      "text/plain": [
       "0.00    1.119933e-07\n",
       "0.05    1.498244e-03\n",
       "0.10    2.258192e-03\n",
       "0.15    2.862093e-03\n",
       "0.20    3.398345e-03\n",
       "0.25    3.876584e-03\n",
       "0.30    4.323650e-03\n",
       "0.35    4.754942e-03\n",
       "0.40    5.190000e-03\n",
       "0.45    5.599473e-03\n",
       "0.50    6.019204e-03\n",
       "0.55    6.426277e-03\n",
       "0.60    6.890446e-03\n",
       "0.65    7.365404e-03\n",
       "0.70    7.885621e-03\n",
       "0.75    8.467433e-03\n",
       "0.80    9.148332e-03\n",
       "0.85    9.970993e-03\n",
       "0.90    1.105481e-02\n",
       "0.95    1.325270e-02\n",
       "dtype: float64"
      ]
     },
     "metadata": {},
     "output_type": "display_data"
    }
   ],
   "source": [
    "gene_corrs_quantiles = gene_corrs_flat.quantile(np.arange(0, 1, 0.05))\n",
    "display(gene_corrs_quantiles)"
   ]
  },
  {
   "cell_type": "markdown",
   "id": "87134509-b145-4a10-8bc9-b7e914c2b0fa",
   "metadata": {
    "papermill": {
     "duration": 1.908091,
     "end_time": "2022-08-27T06:44:08.877820",
     "exception": false,
     "start_time": "2022-08-27T06:44:06.969729",
     "status": "completed"
    },
    "tags": []
   },
   "source": [
    "## Positive definiteness"
   ]
  },
  {
   "cell_type": "code",
   "execution_count": 38,
   "id": "07d9a9a1-a4f7-48aa-b916-6d42a8cc6186",
   "metadata": {
    "execution": {
     "iopub.execute_input": "2022-08-27T06:44:12.568283Z",
     "iopub.status.busy": "2022-08-27T06:44:12.568008Z",
     "iopub.status.idle": "2022-08-27T06:44:12.608249Z",
     "shell.execute_reply": "2022-08-27T06:44:12.607719Z"
    },
    "papermill": {
     "duration": 1.909287,
     "end_time": "2022-08-27T06:44:12.609754",
     "exception": false,
     "start_time": "2022-08-27T06:44:10.700467",
     "status": "completed"
    },
    "tags": []
   },
   "outputs": [
    {
     "data": {
      "text/plain": [
       "0"
      ]
     },
     "metadata": {},
     "output_type": "display_data"
    },
    {
     "data": {
      "text/plain": [
       "array([], dtype=float64)"
      ]
     },
     "metadata": {},
     "output_type": "display_data"
    }
   ],
   "source": [
    "# print negative eigenvalues\n",
    "eigs = np.linalg.eigvals(gene_corrs_df.to_numpy())\n",
    "display(len(eigs[eigs < 0]))\n",
    "display(eigs[eigs < 0])"
   ]
  },
  {
   "cell_type": "code",
   "execution_count": 39,
   "id": "6e218436-c3c5-4028-8c94-a4fa6260efce",
   "metadata": {
    "execution": {
     "iopub.execute_input": "2022-08-27T06:44:16.418648Z",
     "iopub.status.busy": "2022-08-27T06:44:16.418383Z",
     "iopub.status.idle": "2022-08-27T06:44:16.444426Z",
     "shell.execute_reply": "2022-08-27T06:44:16.443872Z"
    },
    "papermill": {
     "duration": 1.927255,
     "end_time": "2022-08-27T06:44:16.445937",
     "exception": false,
     "start_time": "2022-08-27T06:44:14.518682",
     "status": "completed"
    },
    "tags": []
   },
   "outputs": [
    {
     "name": "stdout",
     "output_type": "stream",
     "text": [
      "Works!\n"
     ]
    }
   ],
   "source": [
    "try:\n",
    "    chol_mat = np.linalg.cholesky(gene_corrs_df.to_numpy())\n",
    "    cov_inv = np.linalg.inv(chol_mat)\n",
    "    print(\"Works!\")\n",
    "except Exception as e:\n",
    "    print(f\"Cholesky decomposition failed: {str(e)}\")"
   ]
  },
  {
   "cell_type": "code",
   "execution_count": 40,
   "id": "dd8827fb-faf9-4c7c-9454-015e94752706",
   "metadata": {
    "execution": {
     "iopub.execute_input": "2022-08-27T06:44:20.138151Z",
     "iopub.status.busy": "2022-08-27T06:44:20.137884Z",
     "iopub.status.idle": "2022-08-27T06:44:20.162808Z",
     "shell.execute_reply": "2022-08-27T06:44:20.162275Z"
    },
    "papermill": {
     "duration": 1.850111,
     "end_time": "2022-08-27T06:44:20.164450",
     "exception": false,
     "start_time": "2022-08-27T06:44:18.314339",
     "status": "completed"
    },
    "tags": []
   },
   "outputs": [
    {
     "name": "stdout",
     "output_type": "stream",
     "text": [
      "Works!\n"
     ]
    }
   ],
   "source": [
    "try:\n",
    "    # decomposition used by statsmodels.GLS\n",
    "    cholsigmainv = np.linalg.cholesky(np.linalg.inv(gene_corrs_df.to_numpy())).T\n",
    "    print(\"Works!\")\n",
    "except Exception as e:\n",
    "    print(f\"Cholesky decomposition failed (statsmodels.GLS): {str(e)}\")"
   ]
  },
  {
   "cell_type": "markdown",
   "id": "8e60a080-edb2-4e9c-b2ef-22961693200c",
   "metadata": {
    "papermill": {
     "duration": 1.819683,
     "end_time": "2022-08-27T06:44:23.858503",
     "exception": false,
     "start_time": "2022-08-27T06:44:22.038820",
     "status": "completed"
    },
    "tags": []
   },
   "source": [
    "## Plot: distribution"
   ]
  },
  {
   "cell_type": "code",
   "execution_count": 41,
   "id": "8301126b-a7d4-4744-9c7d-f0f86eb6f54c",
   "metadata": {
    "execution": {
     "iopub.execute_input": "2022-08-27T06:44:27.617486Z",
     "iopub.status.busy": "2022-08-27T06:44:27.617218Z",
     "iopub.status.idle": "2022-08-27T06:44:36.249059Z",
     "shell.execute_reply": "2022-08-27T06:44:36.248504Z"
    },
    "papermill": {
     "duration": 10.480189,
     "end_time": "2022-08-27T06:44:36.250714",
     "exception": false,
     "start_time": "2022-08-27T06:44:25.770525",
     "status": "completed"
    },
    "tags": []
   },
   "outputs": [
    {
     "data": {
      "image/png": "[encoded data removed]",
      "text/plain": [
       "<Figure size 504x504 with 1 Axes>"
      ]
     },
     "metadata": {
      "needs_background": "light"
     },
     "output_type": "display_data"
    }
   ],
   "source": [
    "with sns.plotting_context(\"paper\", font_scale=1.5):\n",
    "    g = sns.displot(gene_corrs_flat, kde=True, height=7)\n",
    "    g.ax.set_title(\n",
    "        f\"Distribution of gene correlation values in chromosome {CHROMOSOME}\"\n",
    "    )"
   ]
  },
  {
   "cell_type": "markdown",
   "id": "cbd52bca-d878-4a2f-b684-5c83aa3038d4",
   "metadata": {
    "papermill": {
     "duration": 1.837249,
     "end_time": "2022-08-27T06:44:39.954747",
     "exception": false,
     "start_time": "2022-08-27T06:44:38.117498",
     "status": "completed"
    },
    "tags": []
   },
   "source": [
    "## Plot: heatmap"
   ]
  },
  {
   "cell_type": "code",
   "execution_count": 42,
   "id": "d03fe63a-c7b2-4fb9-a53c-db362ce843c9",
   "metadata": {
    "execution": {
     "iopub.execute_input": "2022-08-27T06:44:43.662835Z",
     "iopub.status.busy": "2022-08-27T06:44:43.662569Z",
     "iopub.status.idle": "2022-08-27T06:44:43.799493Z",
     "shell.execute_reply": "2022-08-27T06:44:43.798954Z"
    },
    "papermill": {
     "duration": 1.984365,
     "end_time": "2022-08-27T06:44:43.801115",
     "exception": false,
     "start_time": "2022-08-27T06:44:41.816750",
     "status": "completed"
    },
    "tags": []
   },
   "outputs": [
    {
     "data": {
      "text/plain": [
       "'0.0 / 0.05'"
      ]
     },
     "metadata": {},
     "output_type": "display_data"
    }
   ],
   "source": [
    "vmin_val = min(0.00, gene_corrs_quantiles[0.10])\n",
    "vmax_val = max(0.05, gene_corrs_quantiles[0.90])\n",
    "display(f\"{vmin_val} / {vmax_val}\")"
   ]
  },
  {
   "cell_type": "code",
   "execution_count": 43,
   "id": "dc41b70b-5bcc-4d9e-9f33-a22c4a94dab5",
   "metadata": {
    "execution": {
     "iopub.execute_input": "2022-08-27T06:44:47.528093Z",
     "iopub.status.busy": "2022-08-27T06:44:47.527820Z",
     "iopub.status.idle": "2022-08-27T06:44:47.766424Z",
     "shell.execute_reply": "2022-08-27T06:44:47.765863Z"
    },
    "papermill": {
     "duration": 2.114073,
     "end_time": "2022-08-27T06:44:47.768099",
     "exception": false,
     "start_time": "2022-08-27T06:44:45.654026",
     "status": "completed"
    },
    "tags": []
   },
   "outputs": [
    {
     "data": {
      "text/plain": [
       "Text(0.5, 1.0, 'Gene correlations in chromosome 9')"
      ]
     },
     "execution_count": 43,
     "metadata": {},
     "output_type": "execute_result"
    },
    {
     "data": {
      "image/png": "[encoded data removed]",
      "text/plain": [
       "<Figure size 720x720 with 2 Axes>"
      ]
     },
     "metadata": {
      "needs_background": "light"
     },
     "output_type": "display_data"
    }
   ],
   "source": [
    "f, ax = plt.subplots(figsize=(10, 10))\n",
    "sns.heatmap(\n",
    "    gene_corrs_df,\n",
    "    xticklabels=False,\n",
    "    yticklabels=False,\n",
    "    square=True,\n",
    "    vmin=vmin_val,\n",
    "    vmax=vmax_val,\n",
    "    cmap=\"rocket_r\",\n",
    "    ax=ax,\n",
    ")\n",
    "ax.set_title(f\"Gene correlations in chromosome {CHROMOSOME}\")"
   ]
  },
  {
   "cell_type": "code",
   "execution_count": null,
   "id": "b25e3ead",
   "metadata": {
    "papermill": {
     "duration": 1.901814,
     "end_time": "2022-08-27T06:44:51.540370",
     "exception": false,
     "start_time": "2022-08-27T06:44:49.638556",
     "status": "completed"
    },
    "tags": []
   },
   "outputs": [],
   "source": []
  }
 ],
 "metadata": {
  "jupytext": {
   "cell_metadata_filter": "all,-execution,-papermill,-trusted",
   "formats": "ipynb,py//py:percent"
  },
  "kernelspec": {
   "display_name": "Python 3 (ipykernel)",
   "language": "python",
   "name": "python3"
  },
  "language_info": {
   "codemirror_mode": {
    "name": "ipython",
    "version": 3
   },
   "file_extension": ".py",
   "mimetype": "text/x-python",
   "name": "python",
   "nbconvert_exporter": "python",
   "pygments_lexer": "ipython3",
   "version": "3.8.13"
  },
  "papermill": {
   "default_parameters": {},
   "duration": 2744.530271,
   "end_time": "2022-08-27T06:44:56.783924",
   "environment_variables": {},
   "exception": null,
   "input_path": "nbs/15_gsa_gls/10-gene_expr_correlations.ipynb",
   "output_path": "nbs/15_gsa_gls/gene_corrs/cohorts/phenomexcan_rapid_gwas/gtex_v8/mashr/10-gene_expr_corrs/10-gene_expr_correlations-chr9.run.ipynb",
   "parameters": {
    "CHROMOSOME": 9,
    "COHORT_NAME": "phenomexcan_rapid_gwas",
    "EQTL_MODEL": "MASHR",
    "REFERENCE_PANEL": "GTEX_V8"
   },
   "start_time": "2022-08-27T05:59:12.253653",
   "version": "2.2.2"
  }
 },
 "nbformat": 4,
 "nbformat_minor": 5
}
