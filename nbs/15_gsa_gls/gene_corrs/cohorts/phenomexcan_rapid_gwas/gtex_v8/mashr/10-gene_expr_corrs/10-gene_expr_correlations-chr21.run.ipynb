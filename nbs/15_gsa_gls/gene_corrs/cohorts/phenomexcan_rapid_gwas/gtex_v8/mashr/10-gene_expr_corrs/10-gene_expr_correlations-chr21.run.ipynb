{
 "cells": [
  {
   "cell_type": "markdown",
   "id": "7a6632fb",
   "metadata": {
    "papermill": {
     "duration": 0.030177,
     "end_time": "2022-08-27T05:59:09.948615",
     "exception": false,
     "start_time": "2022-08-27T05:59:09.918438",
     "status": "completed"
    },
    "tags": []
   },
   "source": [
    "# Description"
   ]
  },
  {
   "cell_type": "markdown",
   "id": "7097c346",
   "metadata": {
    "papermill": {
     "duration": 0.017874,
     "end_time": "2022-08-27T05:59:10.015664",
     "exception": false,
     "start_time": "2022-08-27T05:59:09.997790",
     "status": "completed"
    },
    "tags": []
   },
   "source": [
    "(Please, take a look at the README.md file in this directory for instructions on how to run this notebook)\n",
    "\n",
    "This notebook computes predicted expression correlations between all genes in the MultiPLIER models.\n",
    "\n",
    "It also has a parameter set for papermill to run on a single chromosome to run in parallel (see under `Settings` below).\n",
    "\n",
    "This notebook is not directly run. See README.md."
   ]
  },
  {
   "cell_type": "markdown",
   "id": "c61d8427",
   "metadata": {
    "papermill": {
     "duration": 0.022135,
     "end_time": "2022-08-27T05:59:10.067725",
     "exception": false,
     "start_time": "2022-08-27T05:59:10.045590",
     "status": "completed"
    },
    "tags": []
   },
   "source": [
    "# Modules"
   ]
  },
  {
   "cell_type": "code",
   "execution_count": 1,
   "id": "bbc0234f",
   "metadata": {
    "execution": {
     "iopub.execute_input": "2022-08-27T05:59:10.126581Z",
     "iopub.status.busy": "2022-08-27T05:59:10.126275Z",
     "iopub.status.idle": "2022-08-27T05:59:10.173605Z",
     "shell.execute_reply": "2022-08-27T05:59:10.173074Z"
    },
    "papermill": {
     "duration": 0.066765,
     "end_time": "2022-08-27T05:59:10.176253",
     "exception": false,
     "start_time": "2022-08-27T05:59:10.109488",
     "status": "completed"
    },
    "tags": []
   },
   "outputs": [],
   "source": [
    "%load_ext autoreload\n",
    "%autoreload 2"
   ]
  },
  {
   "cell_type": "code",
   "execution_count": 2,
   "id": "1d5f5a59",
   "metadata": {
    "execution": {
     "iopub.execute_input": "2022-08-27T05:59:10.273945Z",
     "iopub.status.busy": "2022-08-27T05:59:10.273567Z",
     "iopub.status.idle": "2022-08-27T05:59:16.009517Z",
     "shell.execute_reply": "2022-08-27T05:59:16.009003Z"
    },
    "papermill": {
     "duration": 5.798994,
     "end_time": "2022-08-27T05:59:16.011374",
     "exception": false,
     "start_time": "2022-08-27T05:59:10.212380",
     "status": "completed"
    },
    "tags": []
   },
   "outputs": [],
   "source": [
    "from random import sample, seed\n",
    "import warnings\n",
    "from pathlib import Path\n",
    "import pickle\n",
    "import traceback\n",
    "\n",
    "import numpy as np\n",
    "from scipy.spatial.distance import squareform\n",
    "import pandas as pd\n",
    "from tqdm import tqdm\n",
    "import matplotlib.pyplot as plt\n",
    "import seaborn as sns\n",
    "\n",
    "import conf\n",
    "from entity import Gene"
   ]
  },
  {
   "cell_type": "markdown",
   "id": "1eac24b5",
   "metadata": {
    "papermill": {
     "duration": 0.007706,
     "end_time": "2022-08-27T05:59:16.066435",
     "exception": false,
     "start_time": "2022-08-27T05:59:16.058729",
     "status": "completed"
    },
    "tags": []
   },
   "source": [
    "# Settings"
   ]
  },
  {
   "cell_type": "code",
   "execution_count": 3,
   "id": "ca4560ba",
   "metadata": {
    "execution": {
     "iopub.execute_input": "2022-08-27T05:59:16.082652Z",
     "iopub.status.busy": "2022-08-27T05:59:16.082416Z",
     "iopub.status.idle": "2022-08-27T05:59:16.101937Z",
     "shell.execute_reply": "2022-08-27T05:59:16.101534Z"
    },
    "papermill": {
     "duration": 0.029411,
     "end_time": "2022-08-27T05:59:16.103261",
     "exception": false,
     "start_time": "2022-08-27T05:59:16.073850",
     "status": "completed"
    },
    "tags": [
     "parameters"
    ]
   },
   "outputs": [],
   "source": [
    "# a cohort name (it could be something like UK_BIOBANK, etc)\n",
    "COHORT_NAME = None\n",
    "\n",
    "# reference panel such as 1000G or GTEX_V8\n",
    "REFERENCE_PANEL = None\n",
    "\n",
    "# predictions models such as MASHR or ELASTIC_NET\n",
    "EQTL_MODEL = None\n",
    "\n",
    "# this is the default value used in S-MultiXcan to select the\n",
    "# top principal components of the expression correlation matrix\n",
    "SMULTIXCAN_CONDITION_NUMBER = 30\n",
    "\n",
    "# specifies a single chromosome value\n",
    "CHROMOSOME = None\n",
    "\n",
    "# If True, computes the correlation between closeby genes only;\n",
    "# otherwise, it computes correlations for all genes in a chromosome\n",
    "COMPUTE_CORRELATIONS_WITHIN_DISTANCE = False\n",
    "\n",
    "# if True, then it will continue if a gene pair correlation fails,\n",
    "# printing the warning/error for debugging. If False, any warning/error\n",
    "# will be thrown\n",
    "DEBUG_MODE = False"
   ]
  },
  {
   "cell_type": "code",
   "execution_count": 4,
   "id": "144e39cd",
   "metadata": {
    "execution": {
     "iopub.execute_input": "2022-08-27T05:59:16.119082Z",
     "iopub.status.busy": "2022-08-27T05:59:16.118897Z",
     "iopub.status.idle": "2022-08-27T05:59:16.135800Z",
     "shell.execute_reply": "2022-08-27T05:59:16.135433Z"
    },
    "papermill": {
     "duration": 0.02655,
     "end_time": "2022-08-27T05:59:16.137076",
     "exception": false,
     "start_time": "2022-08-27T05:59:16.110526",
     "status": "completed"
    },
    "tags": [
     "injected-parameters"
    ]
   },
   "outputs": [],
   "source": [
    "# Parameters\n",
    "COHORT_NAME = \"phenomexcan_rapid_gwas\"\n",
    "REFERENCE_PANEL = \"GTEX_V8\"\n",
    "EQTL_MODEL = \"MASHR\"\n",
    "CHROMOSOME = 21\n"
   ]
  },
  {
   "cell_type": "code",
   "execution_count": 5,
   "id": "3190631f-27fc-480f-b18e-571d580425a5",
   "metadata": {
    "execution": {
     "iopub.execute_input": "2022-08-27T05:59:16.152195Z",
     "iopub.status.busy": "2022-08-27T05:59:16.152026Z",
     "iopub.status.idle": "2022-08-27T05:59:16.170614Z",
     "shell.execute_reply": "2022-08-27T05:59:16.170223Z"
    },
    "papermill": {
     "duration": 0.027508,
     "end_time": "2022-08-27T05:59:16.171783",
     "exception": false,
     "start_time": "2022-08-27T05:59:16.144275",
     "status": "completed"
    },
    "tags": []
   },
   "outputs": [
    {
     "data": {
      "text/plain": [
       "'Cohort name: phenomexcan_rapid_gwas'"
      ]
     },
     "metadata": {},
     "output_type": "display_data"
    }
   ],
   "source": [
    "assert COHORT_NAME is not None and len(COHORT_NAME) > 0, \"A cohort name must be given\"\n",
    "\n",
    "COHORT_NAME = COHORT_NAME.lower()\n",
    "display(f\"Cohort name: {COHORT_NAME}\")"
   ]
  },
  {
   "cell_type": "code",
   "execution_count": 6,
   "id": "f53ba19b-0f93-4fa2-a047-63b375939d1a",
   "metadata": {
    "execution": {
     "iopub.execute_input": "2022-08-27T05:59:16.187525Z",
     "iopub.status.busy": "2022-08-27T05:59:16.187359Z",
     "iopub.status.idle": "2022-08-27T05:59:16.204227Z",
     "shell.execute_reply": "2022-08-27T05:59:16.203856Z"
    },
    "papermill": {
     "duration": 0.026076,
     "end_time": "2022-08-27T05:59:16.205366",
     "exception": false,
     "start_time": "2022-08-27T05:59:16.179290",
     "status": "completed"
    },
    "tags": []
   },
   "outputs": [
    {
     "data": {
      "text/plain": [
       "'Reference panel: GTEX_V8'"
      ]
     },
     "metadata": {},
     "output_type": "display_data"
    }
   ],
   "source": [
    "assert (\n",
    "    REFERENCE_PANEL is not None and len(REFERENCE_PANEL) > 0\n",
    "), \"A reference panel must be given\"\n",
    "\n",
    "display(f\"Reference panel: {REFERENCE_PANEL}\")"
   ]
  },
  {
   "cell_type": "code",
   "execution_count": 7,
   "id": "e024d130-c139-429a-9c6e-ccf149e297b0",
   "metadata": {
    "execution": {
     "iopub.execute_input": "2022-08-27T05:59:16.220876Z",
     "iopub.status.busy": "2022-08-27T05:59:16.220711Z",
     "iopub.status.idle": "2022-08-27T05:59:16.237892Z",
     "shell.execute_reply": "2022-08-27T05:59:16.237530Z"
    },
    "papermill": {
     "duration": 0.026257,
     "end_time": "2022-08-27T05:59:16.239026",
     "exception": false,
     "start_time": "2022-08-27T05:59:16.212769",
     "status": "completed"
    },
    "tags": []
   },
   "outputs": [
    {
     "data": {
      "text/plain": [
       "'eQTL model: MASHR) / mashr_'"
      ]
     },
     "metadata": {},
     "output_type": "display_data"
    }
   ],
   "source": [
    "assert (\n",
    "    EQTL_MODEL is not None and len(EQTL_MODEL) > 0\n",
    "), \"A prediction/eQTL model must be given\"\n",
    "\n",
    "EQTL_MODEL_FILES_PREFIX = conf.PHENOMEXCAN[\"PREDICTION_MODELS\"][f\"{EQTL_MODEL}_PREFIX\"]\n",
    "display(f\"eQTL model: {EQTL_MODEL}) / {EQTL_MODEL_FILES_PREFIX}\")"
   ]
  },
  {
   "cell_type": "code",
   "execution_count": 8,
   "id": "552a7f63-a18c-4d3e-bb6a-94f99b431291",
   "metadata": {
    "execution": {
     "iopub.execute_input": "2022-08-27T05:59:16.255222Z",
     "iopub.status.busy": "2022-08-27T05:59:16.255059Z",
     "iopub.status.idle": "2022-08-27T05:59:16.271643Z",
     "shell.execute_reply": "2022-08-27T05:59:16.271254Z"
    },
    "papermill": {
     "duration": 0.026006,
     "end_time": "2022-08-27T05:59:16.272789",
     "exception": false,
     "start_time": "2022-08-27T05:59:16.246783",
     "status": "completed"
    },
    "tags": []
   },
   "outputs": [
    {
     "data": {
      "text/plain": [
       "'S-MultiXcan condition number: 30'"
      ]
     },
     "metadata": {},
     "output_type": "display_data"
    }
   ],
   "source": [
    "assert (\n",
    "    SMULTIXCAN_CONDITION_NUMBER is not None and SMULTIXCAN_CONDITION_NUMBER > 0\n",
    "), \"The S-MultiXcan condition number (positive integer) must be given\"\n",
    "\n",
    "display(f\"S-MultiXcan condition number: {SMULTIXCAN_CONDITION_NUMBER}\")"
   ]
  },
  {
   "cell_type": "code",
   "execution_count": 9,
   "id": "f34a336f-548e-4afe-8955-90eaea4f42c6",
   "metadata": {
    "execution": {
     "iopub.execute_input": "2022-08-27T05:59:16.288464Z",
     "iopub.status.busy": "2022-08-27T05:59:16.288298Z",
     "iopub.status.idle": "2022-08-27T05:59:16.304995Z",
     "shell.execute_reply": "2022-08-27T05:59:16.304635Z"
    },
    "papermill": {
     "duration": 0.025896,
     "end_time": "2022-08-27T05:59:16.306149",
     "exception": false,
     "start_time": "2022-08-27T05:59:16.280253",
     "status": "completed"
    },
    "tags": []
   },
   "outputs": [
    {
     "data": {
      "text/plain": [
       "'Working on chromosome 21'"
      ]
     },
     "metadata": {},
     "output_type": "display_data"
    }
   ],
   "source": [
    "assert CHROMOSOME is not None and (\n",
    "    1 <= CHROMOSOME <= 22\n",
    "), \"You have to select one chromosome (format: number between 1 and 22)\"\n",
    "\n",
    "# CHROMOSOME = str(CHROMOSOME)\n",
    "display(f\"Working on chromosome {CHROMOSOME}\")"
   ]
  },
  {
   "cell_type": "code",
   "execution_count": 10,
   "id": "ab8e96e8-06b5-4363-9dcd-dc4d78cc27f7",
   "metadata": {
    "execution": {
     "iopub.execute_input": "2022-08-27T05:59:16.322471Z",
     "iopub.status.busy": "2022-08-27T05:59:16.322300Z",
     "iopub.status.idle": "2022-08-27T05:59:16.338909Z",
     "shell.execute_reply": "2022-08-27T05:59:16.338551Z"
    },
    "papermill": {
     "duration": 0.026064,
     "end_time": "2022-08-27T05:59:16.340048",
     "exception": false,
     "start_time": "2022-08-27T05:59:16.313984",
     "status": "completed"
    },
    "tags": []
   },
   "outputs": [
    {
     "data": {
      "text/plain": [
       "'Compute correlation within distance False'"
      ]
     },
     "metadata": {},
     "output_type": "display_data"
    }
   ],
   "source": [
    "display(f\"Compute correlation within distance {COMPUTE_CORRELATIONS_WITHIN_DISTANCE}\")"
   ]
  },
  {
   "cell_type": "code",
   "execution_count": 11,
   "id": "396392dc-0340-4540-9b02-e182b833f909",
   "metadata": {
    "execution": {
     "iopub.execute_input": "2022-08-27T05:59:16.356854Z",
     "iopub.status.busy": "2022-08-27T05:59:16.356687Z",
     "iopub.status.idle": "2022-08-27T05:59:16.374894Z",
     "shell.execute_reply": "2022-08-27T05:59:16.374515Z"
    },
    "papermill": {
     "duration": 0.027768,
     "end_time": "2022-08-27T05:59:16.376050",
     "exception": false,
     "start_time": "2022-08-27T05:59:16.348282",
     "status": "completed"
    },
    "tags": []
   },
   "outputs": [
    {
     "data": {
      "text/plain": [
       "'Using output dir base: /project/ritchie20/projects/phenoplier/base/results/gls/gene_corrs/cohorts/phenomexcan_rapid_gwas/gtex_v8/mashr'"
      ]
     },
     "metadata": {},
     "output_type": "display_data"
    }
   ],
   "source": [
    "OUTPUT_DIR_BASE = (\n",
    "    conf.RESULTS[\"GLS\"]\n",
    "    / \"gene_corrs\"\n",
    "    / \"cohorts\"\n",
    "    / COHORT_NAME\n",
    "    / REFERENCE_PANEL.lower()\n",
    "    / EQTL_MODEL.lower()\n",
    ")\n",
    "OUTPUT_DIR_BASE.mkdir(parents=True, exist_ok=True)\n",
    "\n",
    "display(f\"Using output dir base: {OUTPUT_DIR_BASE}\")"
   ]
  },
  {
   "cell_type": "markdown",
   "id": "d2ba085e",
   "metadata": {
    "papermill": {
     "duration": 0.007748,
     "end_time": "2022-08-27T05:59:16.391690",
     "exception": false,
     "start_time": "2022-08-27T05:59:16.383942",
     "status": "completed"
    },
    "tags": []
   },
   "source": [
    "# Load data"
   ]
  },
  {
   "cell_type": "markdown",
   "id": "7dcb8db7",
   "metadata": {
    "papermill": {
     "duration": 0.007469,
     "end_time": "2022-08-27T05:59:16.406843",
     "exception": false,
     "start_time": "2022-08-27T05:59:16.399374",
     "status": "completed"
    },
    "tags": []
   },
   "source": [
    "## GWAS variants"
   ]
  },
  {
   "cell_type": "code",
   "execution_count": 12,
   "id": "29434c4e-8cd3-4b9b-82e4-b5a251d9dd19",
   "metadata": {
    "execution": {
     "iopub.execute_input": "2022-08-27T05:59:16.424938Z",
     "iopub.status.busy": "2022-08-27T05:59:16.424768Z",
     "iopub.status.idle": "2022-08-27T05:59:19.133178Z",
     "shell.execute_reply": "2022-08-27T05:59:19.132690Z"
    },
    "papermill": {
     "duration": 2.719833,
     "end_time": "2022-08-27T05:59:19.134914",
     "exception": false,
     "start_time": "2022-08-27T05:59:16.415081",
     "status": "completed"
    },
    "tags": []
   },
   "outputs": [],
   "source": [
    "with open(OUTPUT_DIR_BASE / \"gwas_variant_ids.pkl\", \"rb\") as handle:\n",
    "    gwas_variants_ids_set = pickle.load(handle)"
   ]
  },
  {
   "cell_type": "code",
   "execution_count": 13,
   "id": "b9d9dec2-4a76-4bf9-bde2-e24c95acb8a0",
   "metadata": {
    "execution": {
     "iopub.execute_input": "2022-08-27T05:59:19.204305Z",
     "iopub.status.busy": "2022-08-27T05:59:19.203737Z",
     "iopub.status.idle": "2022-08-27T05:59:19.251033Z",
     "shell.execute_reply": "2022-08-27T05:59:19.250176Z"
    },
    "papermill": {
     "duration": 0.110032,
     "end_time": "2022-08-27T05:59:19.253687",
     "exception": false,
     "start_time": "2022-08-27T05:59:19.143655",
     "status": "completed"
    },
    "tags": []
   },
   "outputs": [
    {
     "data": {
      "text/plain": [
       "8496088"
      ]
     },
     "execution_count": 13,
     "metadata": {},
     "output_type": "execute_result"
    }
   ],
   "source": [
    "len(gwas_variants_ids_set)"
   ]
  },
  {
   "cell_type": "code",
   "execution_count": 14,
   "id": "4235b06a-6034-4ee4-a0a3-2ae35d122418",
   "metadata": {
    "execution": {
     "iopub.execute_input": "2022-08-27T05:59:19.327590Z",
     "iopub.status.busy": "2022-08-27T05:59:19.327273Z",
     "iopub.status.idle": "2022-08-27T05:59:19.886131Z",
     "shell.execute_reply": "2022-08-27T05:59:19.885503Z"
    },
    "papermill": {
     "duration": 0.59386,
     "end_time": "2022-08-27T05:59:19.887761",
     "exception": false,
     "start_time": "2022-08-27T05:59:19.293901",
     "status": "completed"
    },
    "tags": []
   },
   "outputs": [
    {
     "data": {
      "text/plain": [
       "['chr3_96049519_C_A_b38',\n",
       " 'chr13_74340900_C_T_b38',\n",
       " 'chr6_133953159_T_A_b38',\n",
       " 'chr20_975135_C_T_b38',\n",
       " 'chr16_26390959_T_A_b38']"
      ]
     },
     "execution_count": 14,
     "metadata": {},
     "output_type": "execute_result"
    }
   ],
   "source": [
    "list(gwas_variants_ids_set)[:5]"
   ]
  },
  {
   "cell_type": "markdown",
   "id": "07866999-2305-41f9-a144-e69c9122c212",
   "metadata": {
    "papermill": {
     "duration": 0.010059,
     "end_time": "2022-08-27T05:59:19.914600",
     "exception": false,
     "start_time": "2022-08-27T05:59:19.904541",
     "status": "completed"
    },
    "tags": []
   },
   "source": [
    "## S-PrediXcan tissue models"
   ]
  },
  {
   "cell_type": "code",
   "execution_count": 15,
   "id": "780611d9-77c8-405f-90a4-f271f7b09397",
   "metadata": {
    "execution": {
     "iopub.execute_input": "2022-08-27T05:59:19.948262Z",
     "iopub.status.busy": "2022-08-27T05:59:19.948068Z",
     "iopub.status.idle": "2022-08-27T05:59:20.787682Z",
     "shell.execute_reply": "2022-08-27T05:59:20.787220Z"
    },
    "papermill": {
     "duration": 0.854443,
     "end_time": "2022-08-27T05:59:20.789417",
     "exception": false,
     "start_time": "2022-08-27T05:59:19.934974",
     "status": "completed"
    },
    "tags": []
   },
   "outputs": [],
   "source": [
    "spredixcan_genes_models = pd.read_pickle(OUTPUT_DIR_BASE / \"gene_tissues.pkl\")"
   ]
  },
  {
   "cell_type": "code",
   "execution_count": 16,
   "id": "726dd1f6-9557-4225-91fa-b3b879ea96e1",
   "metadata": {
    "execution": {
     "iopub.execute_input": "2022-08-27T05:59:20.844637Z",
     "iopub.status.busy": "2022-08-27T05:59:20.844443Z",
     "iopub.status.idle": "2022-08-27T05:59:20.868705Z",
     "shell.execute_reply": "2022-08-27T05:59:20.868327Z"
    },
    "papermill": {
     "duration": 0.050116,
     "end_time": "2022-08-27T05:59:20.869873",
     "exception": false,
     "start_time": "2022-08-27T05:59:20.819757",
     "status": "completed"
    },
    "tags": []
   },
   "outputs": [
    {
     "data": {
      "text/plain": [
       "(6428, 3)"
      ]
     },
     "execution_count": 16,
     "metadata": {},
     "output_type": "execute_result"
    }
   ],
   "source": [
    "spredixcan_genes_models.shape"
   ]
  },
  {
   "cell_type": "code",
   "execution_count": 17,
   "id": "944a1b48-222c-4eb0-b252-b9de2cbca215",
   "metadata": {
    "execution": {
     "iopub.execute_input": "2022-08-27T05:59:20.904940Z",
     "iopub.status.busy": "2022-08-27T05:59:20.904777Z",
     "iopub.status.idle": "2022-08-27T05:59:20.930211Z",
     "shell.execute_reply": "2022-08-27T05:59:20.929837Z"
    },
    "papermill": {
     "duration": 0.0429,
     "end_time": "2022-08-27T05:59:20.931361",
     "exception": false,
     "start_time": "2022-08-27T05:59:20.888461",
     "status": "completed"
    },
    "tags": []
   },
   "outputs": [
    {
     "data": {
      "text/html": [
       "<div>\n",
       "<style scoped>\n",
       "    .dataframe tbody tr th:only-of-type {\n",
       "        vertical-align: middle;\n",
       "    }\n",
       "\n",
       "    .dataframe tbody tr th {\n",
       "        vertical-align: top;\n",
       "    }\n",
       "\n",
       "    .dataframe thead th {\n",
       "        text-align: right;\n",
       "    }\n",
       "</style>\n",
       "<table border=\"1\" class=\"dataframe\">\n",
       "  <thead>\n",
       "    <tr style=\"text-align: right;\">\n",
       "      <th></th>\n",
       "      <th>gene_name</th>\n",
       "      <th>tissue</th>\n",
       "      <th>n_tissues</th>\n",
       "    </tr>\n",
       "    <tr>\n",
       "      <th>gene_id</th>\n",
       "      <th></th>\n",
       "      <th></th>\n",
       "      <th></th>\n",
       "    </tr>\n",
       "  </thead>\n",
       "  <tbody>\n",
       "    <tr>\n",
       "      <th>ENSG00000000419</th>\n",
       "      <td>DPM1</td>\n",
       "      <td>(Brain_Hypothalamus, Brain_Substantia_nigra)</td>\n",
       "      <td>2</td>\n",
       "    </tr>\n",
       "    <tr>\n",
       "      <th>ENSG00000000938</th>\n",
       "      <td>FGR</td>\n",
       "      <td>(Muscle_Skeletal, Pancreas, Spleen, Brain_Cere...</td>\n",
       "      <td>36</td>\n",
       "    </tr>\n",
       "    <tr>\n",
       "      <th>ENSG00000000971</th>\n",
       "      <td>CFH</td>\n",
       "      <td>(Brain_Cerebellum, Testis, Lung, Nerve_Tibial,...</td>\n",
       "      <td>34</td>\n",
       "    </tr>\n",
       "    <tr>\n",
       "      <th>ENSG00000001084</th>\n",
       "      <td>GCLC</td>\n",
       "      <td>(Muscle_Skeletal, Pancreas, Spleen, Brain_Cere...</td>\n",
       "      <td>33</td>\n",
       "    </tr>\n",
       "    <tr>\n",
       "      <th>ENSG00000001167</th>\n",
       "      <td>NFYA</td>\n",
       "      <td>(Muscle_Skeletal, Brain_Cerebellum, Brain_Nucl...</td>\n",
       "      <td>40</td>\n",
       "    </tr>\n",
       "  </tbody>\n",
       "</table>\n",
       "</div>"
      ],
      "text/plain": [
       "                gene_name                                             tissue  \\\n",
       "gene_id                                                                        \n",
       "ENSG00000000419      DPM1       (Brain_Hypothalamus, Brain_Substantia_nigra)   \n",
       "ENSG00000000938       FGR  (Muscle_Skeletal, Pancreas, Spleen, Brain_Cere...   \n",
       "ENSG00000000971       CFH  (Brain_Cerebellum, Testis, Lung, Nerve_Tibial,...   \n",
       "ENSG00000001084      GCLC  (Muscle_Skeletal, Pancreas, Spleen, Brain_Cere...   \n",
       "ENSG00000001167      NFYA  (Muscle_Skeletal, Brain_Cerebellum, Brain_Nucl...   \n",
       "\n",
       "                 n_tissues  \n",
       "gene_id                     \n",
       "ENSG00000000419          2  \n",
       "ENSG00000000938         36  \n",
       "ENSG00000000971         34  \n",
       "ENSG00000001084         33  \n",
       "ENSG00000001167         40  "
      ]
     },
     "execution_count": 17,
     "metadata": {},
     "output_type": "execute_result"
    }
   ],
   "source": [
    "spredixcan_genes_models.head()"
   ]
  },
  {
   "cell_type": "code",
   "execution_count": 18,
   "id": "d1c11bb1-be0b-4f40-b360-633d6827109f",
   "metadata": {
    "execution": {
     "iopub.execute_input": "2022-08-27T05:59:20.962477Z",
     "iopub.status.busy": "2022-08-27T05:59:20.962305Z",
     "iopub.status.idle": "2022-08-27T05:59:20.978743Z",
     "shell.execute_reply": "2022-08-27T05:59:20.978383Z"
    },
    "papermill": {
     "duration": 0.026809,
     "end_time": "2022-08-27T05:59:20.979996",
     "exception": false,
     "start_time": "2022-08-27T05:59:20.953187",
     "status": "completed"
    },
    "tags": []
   },
   "outputs": [],
   "source": [
    "assert spredixcan_genes_models.index.is_unique"
   ]
  },
  {
   "cell_type": "markdown",
   "id": "a5b5092c-a13e-47c4-a92a-480fcc08f3ae",
   "metadata": {
    "papermill": {
     "duration": 0.035216,
     "end_time": "2022-08-27T05:59:21.042425",
     "exception": false,
     "start_time": "2022-08-27T05:59:21.007209",
     "status": "completed"
    },
    "tags": []
   },
   "source": [
    "## Gene info"
   ]
  },
  {
   "cell_type": "code",
   "execution_count": 19,
   "id": "7d6bb224-88e9-4358-ac10-43a41d92cdad",
   "metadata": {
    "execution": {
     "iopub.execute_input": "2022-08-27T05:59:21.078749Z",
     "iopub.status.busy": "2022-08-27T05:59:21.078501Z",
     "iopub.status.idle": "2022-08-27T05:59:21.207672Z",
     "shell.execute_reply": "2022-08-27T05:59:21.206735Z"
    },
    "papermill": {
     "duration": 0.153856,
     "end_time": "2022-08-27T05:59:21.210850",
     "exception": false,
     "start_time": "2022-08-27T05:59:21.056994",
     "status": "completed"
    },
    "tags": []
   },
   "outputs": [],
   "source": [
    "genes_info = pd.read_pickle(OUTPUT_DIR_BASE / \"genes_info.pkl\")"
   ]
  },
  {
   "cell_type": "code",
   "execution_count": 20,
   "id": "9e32abfa-546d-483e-8c18-d526e9e05903",
   "metadata": {
    "execution": {
     "iopub.execute_input": "2022-08-27T05:59:21.294062Z",
     "iopub.status.busy": "2022-08-27T05:59:21.293771Z",
     "iopub.status.idle": "2022-08-27T05:59:21.321905Z",
     "shell.execute_reply": "2022-08-27T05:59:21.321319Z"
    },
    "papermill": {
     "duration": 0.080571,
     "end_time": "2022-08-27T05:59:21.323765",
     "exception": false,
     "start_time": "2022-08-27T05:59:21.243194",
     "status": "completed"
    },
    "tags": []
   },
   "outputs": [
    {
     "data": {
      "text/plain": [
       "(6428, 7)"
      ]
     },
     "execution_count": 20,
     "metadata": {},
     "output_type": "execute_result"
    }
   ],
   "source": [
    "genes_info.shape"
   ]
  },
  {
   "cell_type": "code",
   "execution_count": 21,
   "id": "d16c3e92-85ec-468a-9a56-e25a9774a1cb",
   "metadata": {
    "execution": {
     "iopub.execute_input": "2022-08-27T05:59:21.362733Z",
     "iopub.status.busy": "2022-08-27T05:59:21.362509Z",
     "iopub.status.idle": "2022-08-27T05:59:21.390336Z",
     "shell.execute_reply": "2022-08-27T05:59:21.389836Z"
    },
    "papermill": {
     "duration": 0.05553,
     "end_time": "2022-08-27T05:59:21.391798",
     "exception": false,
     "start_time": "2022-08-27T05:59:21.336268",
     "status": "completed"
    },
    "tags": []
   },
   "outputs": [
    {
     "data": {
      "text/html": [
       "<div>\n",
       "<style scoped>\n",
       "    .dataframe tbody tr th:only-of-type {\n",
       "        vertical-align: middle;\n",
       "    }\n",
       "\n",
       "    .dataframe tbody tr th {\n",
       "        vertical-align: top;\n",
       "    }\n",
       "\n",
       "    .dataframe thead th {\n",
       "        text-align: right;\n",
       "    }\n",
       "</style>\n",
       "<table border=\"1\" class=\"dataframe\">\n",
       "  <thead>\n",
       "    <tr style=\"text-align: right;\">\n",
       "      <th></th>\n",
       "      <th>name</th>\n",
       "      <th>id</th>\n",
       "      <th>chr</th>\n",
       "      <th>band</th>\n",
       "      <th>start_position</th>\n",
       "      <th>end_position</th>\n",
       "      <th>gene_length</th>\n",
       "    </tr>\n",
       "  </thead>\n",
       "  <tbody>\n",
       "    <tr>\n",
       "      <th>0</th>\n",
       "      <td>ZNF605</td>\n",
       "      <td>ENSG00000196458</td>\n",
       "      <td>12</td>\n",
       "      <td>12q24.33</td>\n",
       "      <td>132918306</td>\n",
       "      <td>132956306</td>\n",
       "      <td>38000</td>\n",
       "    </tr>\n",
       "    <tr>\n",
       "      <th>1</th>\n",
       "      <td>FBP1</td>\n",
       "      <td>ENSG00000165140</td>\n",
       "      <td>9</td>\n",
       "      <td>9q22.32</td>\n",
       "      <td>94603133</td>\n",
       "      <td>94640249</td>\n",
       "      <td>37116</td>\n",
       "    </tr>\n",
       "    <tr>\n",
       "      <th>2</th>\n",
       "      <td>TAL1</td>\n",
       "      <td>ENSG00000162367</td>\n",
       "      <td>1</td>\n",
       "      <td>1p33</td>\n",
       "      <td>47216290</td>\n",
       "      <td>47232220</td>\n",
       "      <td>15930</td>\n",
       "    </tr>\n",
       "    <tr>\n",
       "      <th>3</th>\n",
       "      <td>MPV17</td>\n",
       "      <td>ENSG00000115204</td>\n",
       "      <td>2</td>\n",
       "      <td>2p23.3</td>\n",
       "      <td>27309492</td>\n",
       "      <td>27325680</td>\n",
       "      <td>16188</td>\n",
       "    </tr>\n",
       "    <tr>\n",
       "      <th>4</th>\n",
       "      <td>PTPRN</td>\n",
       "      <td>ENSG00000054356</td>\n",
       "      <td>2</td>\n",
       "      <td>2q35</td>\n",
       "      <td>219289623</td>\n",
       "      <td>219309648</td>\n",
       "      <td>20025</td>\n",
       "    </tr>\n",
       "  </tbody>\n",
       "</table>\n",
       "</div>"
      ],
      "text/plain": [
       "     name               id  chr      band  start_position  end_position  \\\n",
       "0  ZNF605  ENSG00000196458   12  12q24.33       132918306     132956306   \n",
       "1    FBP1  ENSG00000165140    9   9q22.32        94603133      94640249   \n",
       "2    TAL1  ENSG00000162367    1      1p33        47216290      47232220   \n",
       "3   MPV17  ENSG00000115204    2    2p23.3        27309492      27325680   \n",
       "4   PTPRN  ENSG00000054356    2      2q35       219289623     219309648   \n",
       "\n",
       "   gene_length  \n",
       "0        38000  \n",
       "1        37116  \n",
       "2        15930  \n",
       "3        16188  \n",
       "4        20025  "
      ]
     },
     "execution_count": 21,
     "metadata": {},
     "output_type": "execute_result"
    }
   ],
   "source": [
    "genes_info.head()"
   ]
  },
  {
   "cell_type": "markdown",
   "id": "d3843e06",
   "metadata": {
    "papermill": {
     "duration": 0.010043,
     "end_time": "2022-08-27T05:59:21.413506",
     "exception": false,
     "start_time": "2022-08-27T05:59:21.403463",
     "status": "completed"
    },
    "tags": []
   },
   "source": [
    "# Compute correlations"
   ]
  },
  {
   "cell_type": "code",
   "execution_count": 22,
   "id": "cb859c15-d1f3-4006-a74c-2b83c0db9611",
   "metadata": {
    "execution": {
     "iopub.execute_input": "2022-08-27T05:59:21.455359Z",
     "iopub.status.busy": "2022-08-27T05:59:21.455179Z",
     "iopub.status.idle": "2022-08-27T05:59:21.496503Z",
     "shell.execute_reply": "2022-08-27T05:59:21.496110Z"
    },
    "papermill": {
     "duration": 0.06012,
     "end_time": "2022-08-27T05:59:21.497736",
     "exception": false,
     "start_time": "2022-08-27T05:59:21.437616",
     "status": "completed"
    },
    "tags": []
   },
   "outputs": [
    {
     "data": {
      "text/plain": [
       "PosixPath('/project/ritchie20/projects/phenoplier/base/results/gls/gene_corrs/cohorts/phenomexcan_rapid_gwas/gtex_v8/mashr/by_chr/gene_corrs-chr21.pkl')"
      ]
     },
     "metadata": {},
     "output_type": "display_data"
    }
   ],
   "source": [
    "output_dir = OUTPUT_DIR_BASE / \"by_chr\"\n",
    "output_dir.mkdir(exist_ok=True, parents=True)\n",
    "output_file = output_dir / f\"gene_corrs-chr{CHROMOSOME}.pkl\"\n",
    "display(output_file)"
   ]
  },
  {
   "cell_type": "code",
   "execution_count": 23,
   "id": "aa674fe4-6794-4eed-98fa-32b39d1d4ace",
   "metadata": {
    "execution": {
     "iopub.execute_input": "2022-08-27T05:59:21.541243Z",
     "iopub.status.busy": "2022-08-27T05:59:21.541068Z",
     "iopub.status.idle": "2022-08-27T05:59:21.556930Z",
     "shell.execute_reply": "2022-08-27T05:59:21.556563Z"
    },
    "papermill": {
     "duration": 0.028784,
     "end_time": "2022-08-27T05:59:21.558220",
     "exception": false,
     "start_time": "2022-08-27T05:59:21.529436",
     "status": "completed"
    },
    "tags": []
   },
   "outputs": [],
   "source": [
    "warnings.filterwarnings(\"error\")"
   ]
  },
  {
   "cell_type": "code",
   "execution_count": 24,
   "id": "44d5450b-3baf-43f1-9e2e-4b06f1a785f8",
   "metadata": {
    "execution": {
     "iopub.execute_input": "2022-08-27T05:59:21.581860Z",
     "iopub.status.busy": "2022-08-27T05:59:21.581702Z",
     "iopub.status.idle": "2022-08-27T05:59:21.597800Z",
     "shell.execute_reply": "2022-08-27T05:59:21.597441Z"
    },
    "papermill": {
     "duration": 0.028093,
     "end_time": "2022-08-27T05:59:21.599128",
     "exception": false,
     "start_time": "2022-08-27T05:59:21.571035",
     "status": "completed"
    },
    "tags": []
   },
   "outputs": [],
   "source": [
    "# standard checks\n",
    "all_chrs = genes_info[\"chr\"].dropna().unique()\n",
    "assert all_chrs.shape[0] == 22\n",
    "\n",
    "# select chromosome given by the user\n",
    "assert CHROMOSOME in all_chrs"
   ]
  },
  {
   "cell_type": "code",
   "execution_count": 25,
   "id": "2d7c043c-92a7-4d35-991b-fa69ac1e0268",
   "metadata": {
    "execution": {
     "iopub.execute_input": "2022-08-27T05:59:21.633953Z",
     "iopub.status.busy": "2022-08-27T05:59:21.633789Z",
     "iopub.status.idle": "2022-08-27T05:59:21.716362Z",
     "shell.execute_reply": "2022-08-27T05:59:21.715847Z"
    },
    "papermill": {
     "duration": 0.104909,
     "end_time": "2022-08-27T05:59:21.717926",
     "exception": false,
     "start_time": "2022-08-27T05:59:21.613017",
     "status": "completed"
    },
    "tags": []
   },
   "outputs": [
    {
     "name": "stdout",
     "output_type": "stream",
     "text": [
      "Number of genes in chromosome: 62\n"
     ]
    }
   ],
   "source": [
    "# run only on the chromosome specified\n",
    "all_chrs = [CHROMOSOME]\n",
    "genes_chr = genes_info[genes_info[\"chr\"] == CHROMOSOME]\n",
    "\n",
    "# For testing purposes\n",
    "# genes_chr = genes_chr.sample(n=20)\n",
    "\n",
    "print(f\"Number of genes in chromosome: {genes_chr.shape[0]}\", flush=True)"
   ]
  },
  {
   "cell_type": "code",
   "execution_count": 26,
   "id": "916015d8-2979-46d3-a9b9-1cf5a0932c6a",
   "metadata": {
    "execution": {
     "iopub.execute_input": "2022-08-27T05:59:21.771395Z",
     "iopub.status.busy": "2022-08-27T05:59:21.771199Z",
     "iopub.status.idle": "2022-08-27T05:59:21.790247Z",
     "shell.execute_reply": "2022-08-27T05:59:21.789810Z"
    },
    "papermill": {
     "duration": 0.041054,
     "end_time": "2022-08-27T05:59:21.791720",
     "exception": false,
     "start_time": "2022-08-27T05:59:21.750666",
     "status": "completed"
    },
    "tags": []
   },
   "outputs": [],
   "source": [
    "# sort genes by starting position to make visualizations better later\n",
    "genes_chr = genes_chr.sort_values(\"start_position\")"
   ]
  },
  {
   "cell_type": "code",
   "execution_count": 27,
   "id": "a38aa74a-8ad3-47f6-8ef9-56be0e011774",
   "metadata": {
    "execution": {
     "iopub.execute_input": "2022-08-27T05:59:21.821323Z",
     "iopub.status.busy": "2022-08-27T05:59:21.821146Z",
     "iopub.status.idle": "2022-08-27T05:59:21.839642Z",
     "shell.execute_reply": "2022-08-27T05:59:21.839242Z"
    },
    "papermill": {
     "duration": 0.03847,
     "end_time": "2022-08-27T05:59:21.841012",
     "exception": false,
     "start_time": "2022-08-27T05:59:21.802542",
     "status": "completed"
    },
    "tags": []
   },
   "outputs": [],
   "source": [
    "gene_chr_objs = [Gene(ensembl_id=gene_id) for gene_id in genes_chr[\"id\"]]"
   ]
  },
  {
   "cell_type": "code",
   "execution_count": 28,
   "id": "570f974f-13c3-42b6-ad3a-ce99ca885c1a",
   "metadata": {
    "execution": {
     "iopub.execute_input": "2022-08-27T05:59:21.860022Z",
     "iopub.status.busy": "2022-08-27T05:59:21.859846Z",
     "iopub.status.idle": "2022-08-27T05:59:21.876893Z",
     "shell.execute_reply": "2022-08-27T05:59:21.876519Z"
    },
    "papermill": {
     "duration": 0.028083,
     "end_time": "2022-08-27T05:59:21.878187",
     "exception": false,
     "start_time": "2022-08-27T05:59:21.850104",
     "status": "completed"
    },
    "tags": []
   },
   "outputs": [
    {
     "name": "stdout",
     "output_type": "stream",
     "text": [
      "Number of gene combinations: 1891\n"
     ]
    }
   ],
   "source": [
    "n = len(gene_chr_objs)\n",
    "n_comb = int(n * (n - 1) / 2.0)\n",
    "print(f\"Number of gene combinations: {n_comb}\", flush=True)"
   ]
  },
  {
   "cell_type": "code",
   "execution_count": 29,
   "id": "cdbb90a1",
   "metadata": {
    "execution": {
     "iopub.execute_input": "2022-08-27T05:59:21.898397Z",
     "iopub.status.busy": "2022-08-27T05:59:21.898233Z",
     "iopub.status.idle": "2022-08-27T06:01:32.721444Z",
     "shell.execute_reply": "2022-08-27T06:01:32.720507Z"
    },
    "papermill": {
     "duration": 130.836554,
     "end_time": "2022-08-27T06:01:32.723945",
     "exception": false,
     "start_time": "2022-08-27T05:59:21.887391",
     "status": "completed"
    },
    "tags": []
   },
   "outputs": [
    {
     "name": "stderr",
     "output_type": "stream",
     "text": [
      "ENSG00000160307 / ENSG00000160307: : 1953it [02:10, 14.94it/s]\n"
     ]
    },
    {
     "data": {
      "text/plain": [
       "PosixPath('/project/ritchie20/projects/phenoplier/base/results/gls/gene_corrs/cohorts/phenomexcan_rapid_gwas/gtex_v8/mashr/by_chr/gene_corrs-chr21.pkl')"
      ]
     },
     "metadata": {},
     "output_type": "display_data"
    }
   ],
   "source": [
    "gene_corrs = []\n",
    "gene_corrs_data = np.full(\n",
    "    (n, n),\n",
    "    np.nan,\n",
    "    dtype=np.float64,\n",
    ")\n",
    "\n",
    "i = 0\n",
    "with tqdm(ncols=100, total=n_comb) as pbar:\n",
    "    for gene1_idx in range(0, len(gene_chr_objs)):\n",
    "        gene1_obj = gene_chr_objs[gene1_idx]\n",
    "        gene1_tissues = spredixcan_genes_models.loc[gene1_obj.ensembl_id, \"tissue\"]\n",
    "\n",
    "        for gene2_idx in range(gene1_idx, len(gene_chr_objs)):\n",
    "            gene2_obj = gene_chr_objs[gene2_idx]\n",
    "            gene2_tissues = spredixcan_genes_models.loc[gene2_obj.ensembl_id, \"tissue\"]\n",
    "\n",
    "            pbar.set_description(f\"{gene1_obj.ensembl_id} / {gene2_obj.ensembl_id}\")\n",
    "\n",
    "            try:\n",
    "                r = gene1_obj.get_ssm_correlation(\n",
    "                    other_gene=gene2_obj,\n",
    "                    tissues=gene1_tissues,\n",
    "                    other_tissues=gene2_tissues,\n",
    "                    snps_subset=gwas_variants_ids_set,\n",
    "                    condition_number=SMULTIXCAN_CONDITION_NUMBER,\n",
    "                    reference_panel=REFERENCE_PANEL,\n",
    "                    model_type=EQTL_MODEL,\n",
    "                    use_within_distance=COMPUTE_CORRELATIONS_WITHIN_DISTANCE,\n",
    "                )\n",
    "\n",
    "                if r is None:\n",
    "                    # if r is None, it's very likely because:\n",
    "                    #  * one of the genes has no prediction models\n",
    "                    #  * all the SNPs predictors for the gene are not present in the reference\n",
    "                    #    panel\n",
    "\n",
    "                    r = 0.0\n",
    "\n",
    "                gene_corrs.append(r)\n",
    "\n",
    "                gene_corrs_data[gene1_idx, gene2_idx] = r\n",
    "                gene_corrs_data[gene2_idx, gene1_idx] = r\n",
    "            except Warning as e:\n",
    "                if not DEBUG_MODE:\n",
    "                    raise e\n",
    "\n",
    "                print(\n",
    "                    f\"RuntimeWarning for genes {gene1_obj.ensembl_id} and {gene2_obj.ensembl_id}\",\n",
    "                    flush=True,\n",
    "                )\n",
    "                print(traceback.format_exc(), flush=True)\n",
    "\n",
    "                gene_corrs.append(np.nan)\n",
    "            except Exception as e:\n",
    "                if not DEBUG_MODE:\n",
    "                    raise e\n",
    "\n",
    "                print(\n",
    "                    f\"Exception for genes {gene1_obj.ensembl_id} and {gene2_obj.ensembl_id}\",\n",
    "                    flush=True,\n",
    "                )\n",
    "                print(traceback.format_exc(), flush=True)\n",
    "\n",
    "                gene_corrs.append(np.nan)\n",
    "\n",
    "            pbar.update(1)\n",
    "\n",
    "# create a pandas series\n",
    "gene_corrs_flat = pd.Series(gene_corrs)\n",
    "\n",
    "# save\n",
    "# FIXME: consider saving only the condenced matrix here. See here for\n",
    "# more details: https://github.com/greenelab/phenoplier/pull/38#discussion_r634600813\n",
    "# gene_corrs_data = squareform(np.array(gene_corrs, dtype=np.float64))\n",
    "# np.fill_diagonal(gene_corrs_data, 1.0)\n",
    "\n",
    "gene_chr_ids = [g.ensembl_id for g in gene_chr_objs]\n",
    "gene_corrs_df = pd.DataFrame(\n",
    "    data=gene_corrs_data,\n",
    "    index=gene_chr_ids,\n",
    "    columns=gene_chr_ids,\n",
    ")\n",
    "\n",
    "output_dir.mkdir(exist_ok=True, parents=True)\n",
    "display(output_file)\n",
    "\n",
    "gene_corrs_df.to_pickle(output_file)"
   ]
  },
  {
   "cell_type": "markdown",
   "id": "faa67b51-5373-470f-aa72-2ded53fa6dfe",
   "metadata": {
    "papermill": {
     "duration": 0.104608,
     "end_time": "2022-08-27T06:01:32.972242",
     "exception": false,
     "start_time": "2022-08-27T06:01:32.867634",
     "status": "completed"
    },
    "tags": []
   },
   "source": [
    "# Testing"
   ]
  },
  {
   "cell_type": "code",
   "execution_count": 30,
   "id": "14f7d046-4b55-4896-a56b-990127bcc388",
   "metadata": {
    "execution": {
     "iopub.execute_input": "2022-08-27T06:01:33.222983Z",
     "iopub.status.busy": "2022-08-27T06:01:33.222724Z",
     "iopub.status.idle": "2022-08-27T06:01:34.888600Z",
     "shell.execute_reply": "2022-08-27T06:01:34.888196Z"
    },
    "papermill": {
     "duration": 1.807729,
     "end_time": "2022-08-27T06:01:34.889847",
     "exception": false,
     "start_time": "2022-08-27T06:01:33.082118",
     "status": "completed"
    },
    "tags": []
   },
   "outputs": [
    {
     "data": {
      "text/plain": [
       "(62, 62)"
      ]
     },
     "execution_count": 30,
     "metadata": {},
     "output_type": "execute_result"
    }
   ],
   "source": [
    "gene_corrs_df.shape"
   ]
  },
  {
   "cell_type": "code",
   "execution_count": 31,
   "id": "c7d15414-3297-4537-a7c6-7588c0baeb75",
   "metadata": {
    "execution": {
     "iopub.execute_input": "2022-08-27T06:01:35.106278Z",
     "iopub.status.busy": "2022-08-27T06:01:35.106038Z",
     "iopub.status.idle": "2022-08-27T06:01:35.136794Z",
     "shell.execute_reply": "2022-08-27T06:01:35.136400Z"
    },
    "papermill": {
     "duration": 0.140571,
     "end_time": "2022-08-27T06:01:35.138007",
     "exception": false,
     "start_time": "2022-08-27T06:01:34.997436",
     "status": "completed"
    },
    "tags": []
   },
   "outputs": [
    {
     "data": {
      "text/html": [
       "<div>\n",
       "<style scoped>\n",
       "    .dataframe tbody tr th:only-of-type {\n",
       "        vertical-align: middle;\n",
       "    }\n",
       "\n",
       "    .dataframe tbody tr th {\n",
       "        vertical-align: top;\n",
       "    }\n",
       "\n",
       "    .dataframe thead th {\n",
       "        text-align: right;\n",
       "    }\n",
       "</style>\n",
       "<table border=\"1\" class=\"dataframe\">\n",
       "  <thead>\n",
       "    <tr style=\"text-align: right;\">\n",
       "      <th></th>\n",
       "      <th>ENSG00000155307</th>\n",
       "      <th>ENSG00000180530</th>\n",
       "      <th>ENSG00000154719</th>\n",
       "      <th>ENSG00000154721</th>\n",
       "      <th>ENSG00000154723</th>\n",
       "      <th>ENSG00000142192</th>\n",
       "      <th>ENSG00000154734</th>\n",
       "      <th>ENSG00000156261</th>\n",
       "      <th>ENSG00000171189</th>\n",
       "      <th>ENSG00000156299</th>\n",
       "      <th>...</th>\n",
       "      <th>ENSG00000160255</th>\n",
       "      <th>ENSG00000197381</th>\n",
       "      <th>ENSG00000182871</th>\n",
       "      <th>ENSG00000173638</th>\n",
       "      <th>ENSG00000142156</th>\n",
       "      <th>ENSG00000142173</th>\n",
       "      <th>ENSG00000160282</th>\n",
       "      <th>ENSG00000160285</th>\n",
       "      <th>ENSG00000160299</th>\n",
       "      <th>ENSG00000160307</th>\n",
       "    </tr>\n",
       "  </thead>\n",
       "  <tbody>\n",
       "    <tr>\n",
       "      <th>ENSG00000155307</th>\n",
       "      <td>1.000000</td>\n",
       "      <td>0.005178</td>\n",
       "      <td>0.003490</td>\n",
       "      <td>0.003142</td>\n",
       "      <td>0.005415</td>\n",
       "      <td>0.005186</td>\n",
       "      <td>0.003721</td>\n",
       "      <td>0.002872</td>\n",
       "      <td>0.006022</td>\n",
       "      <td>0.005140</td>\n",
       "      <td>...</td>\n",
       "      <td>0.013646</td>\n",
       "      <td>0.009814</td>\n",
       "      <td>0.008381</td>\n",
       "      <td>0.011955</td>\n",
       "      <td>0.009535</td>\n",
       "      <td>0.009319</td>\n",
       "      <td>0.008190</td>\n",
       "      <td>0.007395</td>\n",
       "      <td>0.008688</td>\n",
       "      <td>0.008517</td>\n",
       "    </tr>\n",
       "    <tr>\n",
       "      <th>ENSG00000180530</th>\n",
       "      <td>0.005178</td>\n",
       "      <td>1.000000</td>\n",
       "      <td>0.002769</td>\n",
       "      <td>0.006672</td>\n",
       "      <td>0.008033</td>\n",
       "      <td>0.008056</td>\n",
       "      <td>0.008561</td>\n",
       "      <td>0.002112</td>\n",
       "      <td>0.004616</td>\n",
       "      <td>0.009805</td>\n",
       "      <td>...</td>\n",
       "      <td>0.008660</td>\n",
       "      <td>0.011071</td>\n",
       "      <td>0.014159</td>\n",
       "      <td>0.015072</td>\n",
       "      <td>0.012160</td>\n",
       "      <td>0.010294</td>\n",
       "      <td>0.005774</td>\n",
       "      <td>0.008299</td>\n",
       "      <td>0.006533</td>\n",
       "      <td>0.008145</td>\n",
       "    </tr>\n",
       "    <tr>\n",
       "      <th>ENSG00000154719</th>\n",
       "      <td>0.003490</td>\n",
       "      <td>0.002769</td>\n",
       "      <td>1.000000</td>\n",
       "      <td>0.435049</td>\n",
       "      <td>0.146209</td>\n",
       "      <td>0.013858</td>\n",
       "      <td>0.004705</td>\n",
       "      <td>0.003526</td>\n",
       "      <td>0.000539</td>\n",
       "      <td>0.007069</td>\n",
       "      <td>...</td>\n",
       "      <td>0.005379</td>\n",
       "      <td>0.004051</td>\n",
       "      <td>0.005518</td>\n",
       "      <td>0.012914</td>\n",
       "      <td>0.007097</td>\n",
       "      <td>0.008770</td>\n",
       "      <td>0.002474</td>\n",
       "      <td>0.006232</td>\n",
       "      <td>0.004543</td>\n",
       "      <td>0.004370</td>\n",
       "    </tr>\n",
       "    <tr>\n",
       "      <th>ENSG00000154721</th>\n",
       "      <td>0.003142</td>\n",
       "      <td>0.006672</td>\n",
       "      <td>0.435049</td>\n",
       "      <td>1.000000</td>\n",
       "      <td>0.347972</td>\n",
       "      <td>0.012943</td>\n",
       "      <td>0.006770</td>\n",
       "      <td>0.003180</td>\n",
       "      <td>0.001461</td>\n",
       "      <td>0.008605</td>\n",
       "      <td>...</td>\n",
       "      <td>0.008087</td>\n",
       "      <td>0.007556</td>\n",
       "      <td>0.008377</td>\n",
       "      <td>0.008871</td>\n",
       "      <td>0.011876</td>\n",
       "      <td>0.012581</td>\n",
       "      <td>0.004668</td>\n",
       "      <td>0.004238</td>\n",
       "      <td>0.006530</td>\n",
       "      <td>0.006949</td>\n",
       "    </tr>\n",
       "    <tr>\n",
       "      <th>ENSG00000154723</th>\n",
       "      <td>0.005415</td>\n",
       "      <td>0.008033</td>\n",
       "      <td>0.146209</td>\n",
       "      <td>0.347972</td>\n",
       "      <td>1.000000</td>\n",
       "      <td>0.028369</td>\n",
       "      <td>0.005127</td>\n",
       "      <td>0.002333</td>\n",
       "      <td>0.002249</td>\n",
       "      <td>0.012492</td>\n",
       "      <td>...</td>\n",
       "      <td>0.010031</td>\n",
       "      <td>0.012080</td>\n",
       "      <td>0.012031</td>\n",
       "      <td>0.009941</td>\n",
       "      <td>0.011239</td>\n",
       "      <td>0.008974</td>\n",
       "      <td>0.006994</td>\n",
       "      <td>0.005069</td>\n",
       "      <td>0.009942</td>\n",
       "      <td>0.004872</td>\n",
       "    </tr>\n",
       "  </tbody>\n",
       "</table>\n",
       "<p>5 rows × 62 columns</p>\n",
       "</div>"
      ],
      "text/plain": [
       "                 ENSG00000155307  ENSG00000180530  ENSG00000154719  \\\n",
       "ENSG00000155307         1.000000         0.005178         0.003490   \n",
       "ENSG00000180530         0.005178         1.000000         0.002769   \n",
       "ENSG00000154719         0.003490         0.002769         1.000000   \n",
       "ENSG00000154721         0.003142         0.006672         0.435049   \n",
       "ENSG00000154723         0.005415         0.008033         0.146209   \n",
       "\n",
       "                 ENSG00000154721  ENSG00000154723  ENSG00000142192  \\\n",
       "ENSG00000155307         0.003142         0.005415         0.005186   \n",
       "ENSG00000180530         0.006672         0.008033         0.008056   \n",
       "ENSG00000154719         0.435049         0.146209         0.013858   \n",
       "ENSG00000154721         1.000000         0.347972         0.012943   \n",
       "ENSG00000154723         0.347972         1.000000         0.028369   \n",
       "\n",
       "                 ENSG00000154734  ENSG00000156261  ENSG00000171189  \\\n",
       "ENSG00000155307         0.003721         0.002872         0.006022   \n",
       "ENSG00000180530         0.008561         0.002112         0.004616   \n",
       "ENSG00000154719         0.004705         0.003526         0.000539   \n",
       "ENSG00000154721         0.006770         0.003180         0.001461   \n",
       "ENSG00000154723         0.005127         0.002333         0.002249   \n",
       "\n",
       "                 ENSG00000156299  ...  ENSG00000160255  ENSG00000197381  \\\n",
       "ENSG00000155307         0.005140  ...         0.013646         0.009814   \n",
       "ENSG00000180530         0.009805  ...         0.008660         0.011071   \n",
       "ENSG00000154719         0.007069  ...         0.005379         0.004051   \n",
       "ENSG00000154721         0.008605  ...         0.008087         0.007556   \n",
       "ENSG00000154723         0.012492  ...         0.010031         0.012080   \n",
       "\n",
       "                 ENSG00000182871  ENSG00000173638  ENSG00000142156  \\\n",
       "ENSG00000155307         0.008381         0.011955         0.009535   \n",
       "ENSG00000180530         0.014159         0.015072         0.012160   \n",
       "ENSG00000154719         0.005518         0.012914         0.007097   \n",
       "ENSG00000154721         0.008377         0.008871         0.011876   \n",
       "ENSG00000154723         0.012031         0.009941         0.011239   \n",
       "\n",
       "                 ENSG00000142173  ENSG00000160282  ENSG00000160285  \\\n",
       "ENSG00000155307         0.009319         0.008190         0.007395   \n",
       "ENSG00000180530         0.010294         0.005774         0.008299   \n",
       "ENSG00000154719         0.008770         0.002474         0.006232   \n",
       "ENSG00000154721         0.012581         0.004668         0.004238   \n",
       "ENSG00000154723         0.008974         0.006994         0.005069   \n",
       "\n",
       "                 ENSG00000160299  ENSG00000160307  \n",
       "ENSG00000155307         0.008688         0.008517  \n",
       "ENSG00000180530         0.006533         0.008145  \n",
       "ENSG00000154719         0.004543         0.004370  \n",
       "ENSG00000154721         0.006530         0.006949  \n",
       "ENSG00000154723         0.009942         0.004872  \n",
       "\n",
       "[5 rows x 62 columns]"
      ]
     },
     "execution_count": 31,
     "metadata": {},
     "output_type": "execute_result"
    }
   ],
   "source": [
    "gene_corrs_df.head()"
   ]
  },
  {
   "cell_type": "markdown",
   "id": "dad6603f-01c6-41fb-a6f6-241051207dd8",
   "metadata": {
    "papermill": {
     "duration": 0.116633,
     "end_time": "2022-08-27T06:01:35.360884",
     "exception": false,
     "start_time": "2022-08-27T06:01:35.244251",
     "status": "completed"
    },
    "tags": []
   },
   "source": [
    "## Standard checks and stats"
   ]
  },
  {
   "cell_type": "code",
   "execution_count": 32,
   "id": "286686af-1b7b-4440-8453-6bdcbd8de19c",
   "metadata": {
    "execution": {
     "iopub.execute_input": "2022-08-27T06:01:35.575260Z",
     "iopub.status.busy": "2022-08-27T06:01:35.575023Z",
     "iopub.status.idle": "2022-08-27T06:01:35.593794Z",
     "shell.execute_reply": "2022-08-27T06:01:35.593383Z"
    },
    "papermill": {
     "duration": 0.125011,
     "end_time": "2022-08-27T06:01:35.595166",
     "exception": false,
     "start_time": "2022-08-27T06:01:35.470155",
     "status": "completed"
    },
    "tags": []
   },
   "outputs": [],
   "source": [
    "assert not gene_corrs_df.isna().any().any()"
   ]
  },
  {
   "cell_type": "code",
   "execution_count": 33,
   "id": "00583efc-7068-4270-ad1e-4a418e91db96",
   "metadata": {
    "execution": {
     "iopub.execute_input": "2022-08-27T06:01:35.833547Z",
     "iopub.status.busy": "2022-08-27T06:01:35.833303Z",
     "iopub.status.idle": "2022-08-27T06:01:35.853860Z",
     "shell.execute_reply": "2022-08-27T06:01:35.853469Z"
    },
    "papermill": {
     "duration": 0.156256,
     "end_time": "2022-08-27T06:01:35.855052",
     "exception": false,
     "start_time": "2022-08-27T06:01:35.698796",
     "status": "completed"
    },
    "tags": []
   },
   "outputs": [
    {
     "data": {
      "text/plain": [
       "0.0005389909937981946"
      ]
     },
     "metadata": {},
     "output_type": "display_data"
    }
   ],
   "source": [
    "_min_val = gene_corrs_df.min().min()\n",
    "display(_min_val)\n",
    "assert _min_val >= -0.05"
   ]
  },
  {
   "cell_type": "code",
   "execution_count": 34,
   "id": "d04fb2cf-1050-475b-b855-f5f7cc04092b",
   "metadata": {
    "execution": {
     "iopub.execute_input": "2022-08-27T06:01:36.065522Z",
     "iopub.status.busy": "2022-08-27T06:01:36.065295Z",
     "iopub.status.idle": "2022-08-27T06:01:36.086443Z",
     "shell.execute_reply": "2022-08-27T06:01:36.086036Z"
    },
    "papermill": {
     "duration": 0.130222,
     "end_time": "2022-08-27T06:01:36.087692",
     "exception": false,
     "start_time": "2022-08-27T06:01:35.957470",
     "status": "completed"
    },
    "tags": []
   },
   "outputs": [
    {
     "data": {
      "text/plain": [
       "1.0000000000000016"
      ]
     },
     "metadata": {},
     "output_type": "display_data"
    }
   ],
   "source": [
    "_max_val = gene_corrs_df.max().max()  # this captures the diagonal\n",
    "display(_max_val)\n",
    "assert _max_val <= 1.05"
   ]
  },
  {
   "cell_type": "code",
   "execution_count": 35,
   "id": "96d02c44-1fba-47be-8a93-8f2608420b9c",
   "metadata": {
    "execution": {
     "iopub.execute_input": "2022-08-27T06:01:36.305919Z",
     "iopub.status.busy": "2022-08-27T06:01:36.305564Z",
     "iopub.status.idle": "2022-08-27T06:01:36.335461Z",
     "shell.execute_reply": "2022-08-27T06:01:36.334815Z"
    },
    "papermill": {
     "duration": 0.144348,
     "end_time": "2022-08-27T06:01:36.337590",
     "exception": false,
     "start_time": "2022-08-27T06:01:36.193242",
     "status": "completed"
    },
    "tags": []
   },
   "outputs": [],
   "source": [
    "# check upper triangular values\n",
    "# assert len(gene_corrs) == int(genes_chr.shape[0] * (genes_chr.shape[0] - 1) / 2)"
   ]
  },
  {
   "cell_type": "code",
   "execution_count": 36,
   "id": "fe283586-c348-40e0-8841-f6d97bfb021c",
   "metadata": {
    "execution": {
     "iopub.execute_input": "2022-08-27T06:01:36.582134Z",
     "iopub.status.busy": "2022-08-27T06:01:36.581909Z",
     "iopub.status.idle": "2022-08-27T06:01:36.603930Z",
     "shell.execute_reply": "2022-08-27T06:01:36.603536Z"
    },
    "papermill": {
     "duration": 0.129653,
     "end_time": "2022-08-27T06:01:36.605143",
     "exception": false,
     "start_time": "2022-08-27T06:01:36.475490",
     "status": "completed"
    },
    "tags": []
   },
   "outputs": [
    {
     "data": {
      "text/plain": [
       "count    1953.000000\n",
       "mean        0.044863\n",
       "std         0.177093\n",
       "min         0.000539\n",
       "25%         0.005802\n",
       "50%         0.007994\n",
       "75%         0.010857\n",
       "max         1.000000\n",
       "dtype: float64"
      ]
     },
     "execution_count": 36,
     "metadata": {},
     "output_type": "execute_result"
    }
   ],
   "source": [
    "gene_corrs_flat.describe()"
   ]
  },
  {
   "cell_type": "code",
   "execution_count": 37,
   "id": "b3815678-0f93-4b35-897b-a9d047a2aa78",
   "metadata": {
    "execution": {
     "iopub.execute_input": "2022-08-27T06:01:36.851261Z",
     "iopub.status.busy": "2022-08-27T06:01:36.850996Z",
     "iopub.status.idle": "2022-08-27T06:01:36.872625Z",
     "shell.execute_reply": "2022-08-27T06:01:36.872227Z"
    },
    "papermill": {
     "duration": 0.155702,
     "end_time": "2022-08-27T06:01:36.873834",
     "exception": false,
     "start_time": "2022-08-27T06:01:36.718132",
     "status": "completed"
    },
    "tags": []
   },
   "outputs": [
    {
     "data": {
      "text/plain": [
       "0.00    0.000539\n",
       "0.05    0.002943\n",
       "0.10    0.003944\n",
       "0.15    0.004652\n",
       "0.20    0.005193\n",
       "0.25    0.005802\n",
       "0.30    0.006248\n",
       "0.35    0.006676\n",
       "0.40    0.007113\n",
       "0.45    0.007551\n",
       "0.50    0.007994\n",
       "0.55    0.008412\n",
       "0.60    0.008792\n",
       "0.65    0.009370\n",
       "0.70    0.010019\n",
       "0.75    0.010857\n",
       "0.80    0.011740\n",
       "0.85    0.012960\n",
       "0.90    0.015179\n",
       "0.95    0.108263\n",
       "dtype: float64"
      ]
     },
     "metadata": {},
     "output_type": "display_data"
    }
   ],
   "source": [
    "gene_corrs_quantiles = gene_corrs_flat.quantile(np.arange(0, 1, 0.05))\n",
    "display(gene_corrs_quantiles)"
   ]
  },
  {
   "cell_type": "markdown",
   "id": "87134509-b145-4a10-8bc9-b7e914c2b0fa",
   "metadata": {
    "papermill": {
     "duration": 0.103168,
     "end_time": "2022-08-27T06:01:37.084487",
     "exception": false,
     "start_time": "2022-08-27T06:01:36.981319",
     "status": "completed"
    },
    "tags": []
   },
   "source": [
    "## Positive definiteness"
   ]
  },
  {
   "cell_type": "code",
   "execution_count": 38,
   "id": "07d9a9a1-a4f7-48aa-b916-6d42a8cc6186",
   "metadata": {
    "execution": {
     "iopub.execute_input": "2022-08-27T06:01:37.296848Z",
     "iopub.status.busy": "2022-08-27T06:01:37.296613Z",
     "iopub.status.idle": "2022-08-27T06:01:37.318144Z",
     "shell.execute_reply": "2022-08-27T06:01:37.317724Z"
    },
    "papermill": {
     "duration": 0.130647,
     "end_time": "2022-08-27T06:01:37.319323",
     "exception": false,
     "start_time": "2022-08-27T06:01:37.188676",
     "status": "completed"
    },
    "tags": []
   },
   "outputs": [
    {
     "data": {
      "text/plain": [
       "0"
      ]
     },
     "metadata": {},
     "output_type": "display_data"
    },
    {
     "data": {
      "text/plain": [
       "array([], dtype=float64)"
      ]
     },
     "metadata": {},
     "output_type": "display_data"
    }
   ],
   "source": [
    "# print negative eigenvalues\n",
    "eigs = np.linalg.eigvals(gene_corrs_df.to_numpy())\n",
    "display(len(eigs[eigs < 0]))\n",
    "display(eigs[eigs < 0])"
   ]
  },
  {
   "cell_type": "code",
   "execution_count": 39,
   "id": "6e218436-c3c5-4028-8c94-a4fa6260efce",
   "metadata": {
    "execution": {
     "iopub.execute_input": "2022-08-27T06:01:37.530331Z",
     "iopub.status.busy": "2022-08-27T06:01:37.530108Z",
     "iopub.status.idle": "2022-08-27T06:01:37.549776Z",
     "shell.execute_reply": "2022-08-27T06:01:37.549391Z"
    },
    "papermill": {
     "duration": 0.128519,
     "end_time": "2022-08-27T06:01:37.550951",
     "exception": false,
     "start_time": "2022-08-27T06:01:37.422432",
     "status": "completed"
    },
    "tags": []
   },
   "outputs": [
    {
     "name": "stdout",
     "output_type": "stream",
     "text": [
      "Works!\n"
     ]
    }
   ],
   "source": [
    "try:\n",
    "    chol_mat = np.linalg.cholesky(gene_corrs_df.to_numpy())\n",
    "    cov_inv = np.linalg.inv(chol_mat)\n",
    "    print(\"Works!\")\n",
    "except Exception as e:\n",
    "    print(f\"Cholesky decomposition failed: {str(e)}\")"
   ]
  },
  {
   "cell_type": "code",
   "execution_count": 40,
   "id": "dd8827fb-faf9-4c7c-9454-015e94752706",
   "metadata": {
    "execution": {
     "iopub.execute_input": "2022-08-27T06:01:37.800992Z",
     "iopub.status.busy": "2022-08-27T06:01:37.800749Z",
     "iopub.status.idle": "2022-08-27T06:01:37.821152Z",
     "shell.execute_reply": "2022-08-27T06:01:37.820736Z"
    },
    "papermill": {
     "duration": 0.164897,
     "end_time": "2022-08-27T06:01:37.822369",
     "exception": false,
     "start_time": "2022-08-27T06:01:37.657472",
     "status": "completed"
    },
    "tags": []
   },
   "outputs": [
    {
     "name": "stdout",
     "output_type": "stream",
     "text": [
      "Works!\n"
     ]
    }
   ],
   "source": [
    "try:\n",
    "    # decomposition used by statsmodels.GLS\n",
    "    cholsigmainv = np.linalg.cholesky(np.linalg.inv(gene_corrs_df.to_numpy())).T\n",
    "    print(\"Works!\")\n",
    "except Exception as e:\n",
    "    print(f\"Cholesky decomposition failed (statsmodels.GLS): {str(e)}\")"
   ]
  },
  {
   "cell_type": "markdown",
   "id": "8e60a080-edb2-4e9c-b2ef-22961693200c",
   "metadata": {
    "papermill": {
     "duration": 0.104014,
     "end_time": "2022-08-27T06:01:38.028962",
     "exception": false,
     "start_time": "2022-08-27T06:01:37.924948",
     "status": "completed"
    },
    "tags": []
   },
   "source": [
    "## Plot: distribution"
   ]
  },
  {
   "cell_type": "code",
   "execution_count": 41,
   "id": "8301126b-a7d4-4744-9c7d-f0f86eb6f54c",
   "metadata": {
    "execution": {
     "iopub.execute_input": "2022-08-27T06:01:38.243358Z",
     "iopub.status.busy": "2022-08-27T06:01:38.243120Z",
     "iopub.status.idle": "2022-08-27T06:01:41.038334Z",
     "shell.execute_reply": "2022-08-27T06:01:41.037875Z"
    },
    "papermill": {
     "duration": 2.902769,
     "end_time": "2022-08-27T06:01:41.039779",
     "exception": false,
     "start_time": "2022-08-27T06:01:38.137010",
     "status": "completed"
    },
    "tags": []
   },
   "outputs": [
    {
     "data": {
      "image/png": "[encoded data removed]",
      "text/plain": [
       "<Figure size 504x504 with 1 Axes>"
      ]
     },
     "metadata": {
      "needs_background": "light"
     },
     "output_type": "display_data"
    }
   ],
   "source": [
    "with sns.plotting_context(\"paper\", font_scale=1.5):\n",
    "    g = sns.displot(gene_corrs_flat, kde=True, height=7)\n",
    "    g.ax.set_title(\n",
    "        f\"Distribution of gene correlation values in chromosome {CHROMOSOME}\"\n",
    "    )"
   ]
  },
  {
   "cell_type": "markdown",
   "id": "cbd52bca-d878-4a2f-b684-5c83aa3038d4",
   "metadata": {
    "papermill": {
     "duration": 0.102786,
     "end_time": "2022-08-27T06:01:41.255504",
     "exception": false,
     "start_time": "2022-08-27T06:01:41.152718",
     "status": "completed"
    },
    "tags": []
   },
   "source": [
    "## Plot: heatmap"
   ]
  },
  {
   "cell_type": "code",
   "execution_count": 42,
   "id": "d03fe63a-c7b2-4fb9-a53c-db362ce843c9",
   "metadata": {
    "execution": {
     "iopub.execute_input": "2022-08-27T06:01:41.490028Z",
     "iopub.status.busy": "2022-08-27T06:01:41.489781Z",
     "iopub.status.idle": "2022-08-27T06:01:41.510878Z",
     "shell.execute_reply": "2022-08-27T06:01:41.510493Z"
    },
    "papermill": {
     "duration": 0.154045,
     "end_time": "2022-08-27T06:01:41.512184",
     "exception": false,
     "start_time": "2022-08-27T06:01:41.358139",
     "status": "completed"
    },
    "tags": []
   },
   "outputs": [
    {
     "data": {
      "text/plain": [
       "'0.0 / 0.05'"
      ]
     },
     "metadata": {},
     "output_type": "display_data"
    }
   ],
   "source": [
    "vmin_val = min(0.00, gene_corrs_quantiles[0.10])\n",
    "vmax_val = max(0.05, gene_corrs_quantiles[0.90])\n",
    "display(f\"{vmin_val} / {vmax_val}\")"
   ]
  },
  {
   "cell_type": "code",
   "execution_count": 43,
   "id": "dc41b70b-5bcc-4d9e-9f33-a22c4a94dab5",
   "metadata": {
    "execution": {
     "iopub.execute_input": "2022-08-27T06:01:41.719575Z",
     "iopub.status.busy": "2022-08-27T06:01:41.719360Z",
     "iopub.status.idle": "2022-08-27T06:01:41.842681Z",
     "shell.execute_reply": "2022-08-27T06:01:41.842283Z"
    },
    "papermill": {
     "duration": 0.228815,
     "end_time": "2022-08-27T06:01:41.844042",
     "exception": false,
     "start_time": "2022-08-27T06:01:41.615227",
     "status": "completed"
    },
    "tags": []
   },
   "outputs": [
    {
     "data": {
      "text/plain": [
       "Text(0.5, 1.0, 'Gene correlations in chromosome 21')"
      ]
     },
     "execution_count": 43,
     "metadata": {},
     "output_type": "execute_result"
    },
    {
     "data": {
      "image/png": "[encoded data removed]",
      "text/plain": [
       "<Figure size 720x720 with 2 Axes>"
      ]
     },
     "metadata": {
      "needs_background": "light"
     },
     "output_type": "display_data"
    }
   ],
   "source": [
    "f, ax = plt.subplots(figsize=(10, 10))\n",
    "sns.heatmap(\n",
    "    gene_corrs_df,\n",
    "    xticklabels=False,\n",
    "    yticklabels=False,\n",
    "    square=True,\n",
    "    vmin=vmin_val,\n",
    "    vmax=vmax_val,\n",
    "    cmap=\"rocket_r\",\n",
    "    ax=ax,\n",
    ")\n",
    "ax.set_title(f\"Gene correlations in chromosome {CHROMOSOME}\")"
   ]
  },
  {
   "cell_type": "code",
   "execution_count": null,
   "id": "b25e3ead",
   "metadata": {
    "papermill": {
     "duration": 0.105877,
     "end_time": "2022-08-27T06:01:42.054934",
     "exception": false,
     "start_time": "2022-08-27T06:01:41.949057",
     "status": "completed"
    },
    "tags": []
   },
   "outputs": [],
   "source": []
  }
 ],
 "metadata": {
  "jupytext": {
   "cell_metadata_filter": "all,-execution,-papermill,-trusted",
   "formats": "ipynb,py//py:percent"
  },
  "kernelspec": {
   "display_name": "Python 3 (ipykernel)",
   "language": "python",
   "name": "python3"
  },
  "language_info": {
   "codemirror_mode": {
    "name": "ipython",
    "version": 3
   },
   "file_extension": ".py",
   "mimetype": "text/x-python",
   "name": "python",
   "nbconvert_exporter": "python",
   "pygments_lexer": "ipython3",
   "version": "3.8.13"
  },
  "papermill": {
   "default_parameters": {},
   "duration": 160.92094,
   "end_time": "2022-08-27T06:01:45.070921",
   "environment_variables": {},
   "exception": null,
   "input_path": "nbs/15_gsa_gls/10-gene_expr_correlations.ipynb",
   "output_path": "nbs/15_gsa_gls/gene_corrs/cohorts/phenomexcan_rapid_gwas/gtex_v8/mashr/10-gene_expr_corrs/10-gene_expr_correlations-chr21.run.ipynb",
   "parameters": {
    "CHROMOSOME": 21,
    "COHORT_NAME": "phenomexcan_rapid_gwas",
    "EQTL_MODEL": "MASHR",
    "REFERENCE_PANEL": "GTEX_V8"
   },
   "start_time": "2022-08-27T05:59:04.149981",
   "version": "2.2.2"
  }
 },
 "nbformat": 4,
 "nbformat_minor": 5
}
