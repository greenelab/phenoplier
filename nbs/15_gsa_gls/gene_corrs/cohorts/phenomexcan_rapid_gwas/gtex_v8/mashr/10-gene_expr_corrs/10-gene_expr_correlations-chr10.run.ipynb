{
 "cells": [
  {
   "cell_type": "markdown",
   "id": "7a6632fb",
   "metadata": {
    "papermill": {
     "duration": 0.030187,
     "end_time": "2022-08-27T05:59:17.876060",
     "exception": false,
     "start_time": "2022-08-27T05:59:17.845873",
     "status": "completed"
    },
    "tags": []
   },
   "source": [
    "# Description"
   ]
  },
  {
   "cell_type": "markdown",
   "id": "7097c346",
   "metadata": {
    "papermill": {
     "duration": 0.017554,
     "end_time": "2022-08-27T05:59:17.983875",
     "exception": false,
     "start_time": "2022-08-27T05:59:17.966321",
     "status": "completed"
    },
    "tags": []
   },
   "source": [
    "(Please, take a look at the README.md file in this directory for instructions on how to run this notebook)\n",
    "\n",
    "This notebook computes predicted expression correlations between all genes in the MultiPLIER models.\n",
    "\n",
    "It also has a parameter set for papermill to run on a single chromosome to run in parallel (see under `Settings` below).\n",
    "\n",
    "This notebook is not directly run. See README.md."
   ]
  },
  {
   "cell_type": "markdown",
   "id": "c61d8427",
   "metadata": {
    "papermill": {
     "duration": 0.014859,
     "end_time": "2022-08-27T05:59:18.014978",
     "exception": false,
     "start_time": "2022-08-27T05:59:18.000119",
     "status": "completed"
    },
    "tags": []
   },
   "source": [
    "# Modules"
   ]
  },
  {
   "cell_type": "code",
   "execution_count": 1,
   "id": "bbc0234f",
   "metadata": {
    "execution": {
     "iopub.execute_input": "2022-08-27T05:59:18.049350Z",
     "iopub.status.busy": "2022-08-27T05:59:18.048961Z",
     "iopub.status.idle": "2022-08-27T05:59:18.196840Z",
     "shell.execute_reply": "2022-08-27T05:59:18.195751Z"
    },
    "papermill": {
     "duration": 0.168283,
     "end_time": "2022-08-27T05:59:18.200390",
     "exception": false,
     "start_time": "2022-08-27T05:59:18.032107",
     "status": "completed"
    },
    "tags": []
   },
   "outputs": [],
   "source": [
    "%load_ext autoreload\n",
    "%autoreload 2"
   ]
  },
  {
   "cell_type": "code",
   "execution_count": 2,
   "id": "1d5f5a59",
   "metadata": {
    "execution": {
     "iopub.execute_input": "2022-08-27T05:59:18.242089Z",
     "iopub.status.busy": "2022-08-27T05:59:18.241716Z",
     "iopub.status.idle": "2022-08-27T05:59:24.375979Z",
     "shell.execute_reply": "2022-08-27T05:59:24.374899Z"
    },
    "papermill": {
     "duration": 6.161759,
     "end_time": "2022-08-27T05:59:24.379463",
     "exception": false,
     "start_time": "2022-08-27T05:59:18.217704",
     "status": "completed"
    },
    "tags": []
   },
   "outputs": [],
   "source": [
    "from random import sample, seed\n",
    "import warnings\n",
    "from pathlib import Path\n",
    "import pickle\n",
    "import traceback\n",
    "\n",
    "import numpy as np\n",
    "from scipy.spatial.distance import squareform\n",
    "import pandas as pd\n",
    "from tqdm import tqdm\n",
    "import matplotlib.pyplot as plt\n",
    "import seaborn as sns\n",
    "\n",
    "import conf\n",
    "from entity import Gene"
   ]
  },
  {
   "cell_type": "markdown",
   "id": "1eac24b5",
   "metadata": {
    "papermill": {
     "duration": 0.014033,
     "end_time": "2022-08-27T05:59:24.443320",
     "exception": false,
     "start_time": "2022-08-27T05:59:24.429287",
     "status": "completed"
    },
    "tags": []
   },
   "source": [
    "# Settings"
   ]
  },
  {
   "cell_type": "code",
   "execution_count": 3,
   "id": "ca4560ba",
   "metadata": {
    "execution": {
     "iopub.execute_input": "2022-08-27T05:59:24.473353Z",
     "iopub.status.busy": "2022-08-27T05:59:24.472984Z",
     "iopub.status.idle": "2022-08-27T05:59:24.730183Z",
     "shell.execute_reply": "2022-08-27T05:59:24.729142Z"
    },
    "papermill": {
     "duration": 0.276787,
     "end_time": "2022-08-27T05:59:24.733402",
     "exception": false,
     "start_time": "2022-08-27T05:59:24.456615",
     "status": "completed"
    },
    "tags": [
     "parameters"
    ]
   },
   "outputs": [],
   "source": [
    "# a cohort name (it could be something like UK_BIOBANK, etc)\n",
    "COHORT_NAME = None\n",
    "\n",
    "# reference panel such as 1000G or GTEX_V8\n",
    "REFERENCE_PANEL = None\n",
    "\n",
    "# predictions models such as MASHR or ELASTIC_NET\n",
    "EQTL_MODEL = None\n",
    "\n",
    "# this is the default value used in S-MultiXcan to select the\n",
    "# top principal components of the expression correlation matrix\n",
    "SMULTIXCAN_CONDITION_NUMBER = 30\n",
    "\n",
    "# specifies a single chromosome value\n",
    "CHROMOSOME = None\n",
    "\n",
    "# If True, computes the correlation between closeby genes only;\n",
    "# otherwise, it computes correlations for all genes in a chromosome\n",
    "COMPUTE_CORRELATIONS_WITHIN_DISTANCE = False\n",
    "\n",
    "# if True, then it will continue if a gene pair correlation fails,\n",
    "# printing the warning/error for debugging. If False, any warning/error\n",
    "# will be thrown\n",
    "DEBUG_MODE = False"
   ]
  },
  {
   "cell_type": "code",
   "execution_count": 4,
   "id": "2180da0d",
   "metadata": {
    "execution": {
     "iopub.execute_input": "2022-08-27T05:59:24.769215Z",
     "iopub.status.busy": "2022-08-27T05:59:24.768859Z",
     "iopub.status.idle": "2022-08-27T05:59:24.798066Z",
     "shell.execute_reply": "2022-08-27T05:59:24.797247Z"
    },
    "papermill": {
     "duration": 0.0507,
     "end_time": "2022-08-27T05:59:24.800566",
     "exception": false,
     "start_time": "2022-08-27T05:59:24.749866",
     "status": "completed"
    },
    "tags": [
     "injected-parameters"
    ]
   },
   "outputs": [],
   "source": [
    "# Parameters\n",
    "COHORT_NAME = \"phenomexcan_rapid_gwas\"\n",
    "REFERENCE_PANEL = \"GTEX_V8\"\n",
    "EQTL_MODEL = \"MASHR\"\n",
    "CHROMOSOME = 10\n"
   ]
  },
  {
   "cell_type": "code",
   "execution_count": 5,
   "id": "3190631f-27fc-480f-b18e-571d580425a5",
   "metadata": {
    "execution": {
     "iopub.execute_input": "2022-08-27T05:59:24.830775Z",
     "iopub.status.busy": "2022-08-27T05:59:24.830475Z",
     "iopub.status.idle": "2022-08-27T05:59:24.859883Z",
     "shell.execute_reply": "2022-08-27T05:59:24.859193Z"
    },
    "papermill": {
     "duration": 0.046872,
     "end_time": "2022-08-27T05:59:24.861882",
     "exception": false,
     "start_time": "2022-08-27T05:59:24.815010",
     "status": "completed"
    },
    "tags": []
   },
   "outputs": [
    {
     "data": {
      "text/plain": [
       "'Cohort name: phenomexcan_rapid_gwas'"
      ]
     },
     "metadata": {},
     "output_type": "display_data"
    }
   ],
   "source": [
    "assert COHORT_NAME is not None and len(COHORT_NAME) > 0, \"A cohort name must be given\"\n",
    "\n",
    "COHORT_NAME = COHORT_NAME.lower()\n",
    "display(f\"Cohort name: {COHORT_NAME}\")"
   ]
  },
  {
   "cell_type": "code",
   "execution_count": 6,
   "id": "f53ba19b-0f93-4fa2-a047-63b375939d1a",
   "metadata": {
    "execution": {
     "iopub.execute_input": "2022-08-27T05:59:24.886668Z",
     "iopub.status.busy": "2022-08-27T05:59:24.886411Z",
     "iopub.status.idle": "2022-08-27T05:59:24.925736Z",
     "shell.execute_reply": "2022-08-27T05:59:24.925058Z"
    },
    "papermill": {
     "duration": 0.054613,
     "end_time": "2022-08-27T05:59:24.927704",
     "exception": false,
     "start_time": "2022-08-27T05:59:24.873091",
     "status": "completed"
    },
    "tags": []
   },
   "outputs": [
    {
     "data": {
      "text/plain": [
       "'Reference panel: GTEX_V8'"
      ]
     },
     "metadata": {},
     "output_type": "display_data"
    }
   ],
   "source": [
    "assert (\n",
    "    REFERENCE_PANEL is not None and len(REFERENCE_PANEL) > 0\n",
    "), \"A reference panel must be given\"\n",
    "\n",
    "display(f\"Reference panel: {REFERENCE_PANEL}\")"
   ]
  },
  {
   "cell_type": "code",
   "execution_count": 7,
   "id": "e024d130-c139-429a-9c6e-ccf149e297b0",
   "metadata": {
    "execution": {
     "iopub.execute_input": "2022-08-27T05:59:24.952975Z",
     "iopub.status.busy": "2022-08-27T05:59:24.952729Z",
     "iopub.status.idle": "2022-08-27T05:59:24.975209Z",
     "shell.execute_reply": "2022-08-27T05:59:24.974519Z"
    },
    "papermill": {
     "duration": 0.038234,
     "end_time": "2022-08-27T05:59:24.976955",
     "exception": false,
     "start_time": "2022-08-27T05:59:24.938721",
     "status": "completed"
    },
    "tags": []
   },
   "outputs": [
    {
     "data": {
      "text/plain": [
       "'eQTL model: MASHR) / mashr_'"
      ]
     },
     "metadata": {},
     "output_type": "display_data"
    }
   ],
   "source": [
    "assert (\n",
    "    EQTL_MODEL is not None and len(EQTL_MODEL) > 0\n",
    "), \"A prediction/eQTL model must be given\"\n",
    "\n",
    "EQTL_MODEL_FILES_PREFIX = conf.PHENOMEXCAN[\"PREDICTION_MODELS\"][f\"{EQTL_MODEL}_PREFIX\"]\n",
    "display(f\"eQTL model: {EQTL_MODEL}) / {EQTL_MODEL_FILES_PREFIX}\")"
   ]
  },
  {
   "cell_type": "code",
   "execution_count": 8,
   "id": "552a7f63-a18c-4d3e-bb6a-94f99b431291",
   "metadata": {
    "execution": {
     "iopub.execute_input": "2022-08-27T05:59:24.997946Z",
     "iopub.status.busy": "2022-08-27T05:59:24.997757Z",
     "iopub.status.idle": "2022-08-27T05:59:25.014707Z",
     "shell.execute_reply": "2022-08-27T05:59:25.014234Z"
    },
    "papermill": {
     "duration": 0.028128,
     "end_time": "2022-08-27T05:59:25.016103",
     "exception": false,
     "start_time": "2022-08-27T05:59:24.987975",
     "status": "completed"
    },
    "tags": []
   },
   "outputs": [
    {
     "data": {
      "text/plain": [
       "'S-MultiXcan condition number: 30'"
      ]
     },
     "metadata": {},
     "output_type": "display_data"
    }
   ],
   "source": [
    "assert (\n",
    "    SMULTIXCAN_CONDITION_NUMBER is not None and SMULTIXCAN_CONDITION_NUMBER > 0\n",
    "), \"The S-MultiXcan condition number (positive integer) must be given\"\n",
    "\n",
    "display(f\"S-MultiXcan condition number: {SMULTIXCAN_CONDITION_NUMBER}\")"
   ]
  },
  {
   "cell_type": "code",
   "execution_count": 9,
   "id": "f34a336f-548e-4afe-8955-90eaea4f42c6",
   "metadata": {
    "execution": {
     "iopub.execute_input": "2022-08-27T05:59:25.040404Z",
     "iopub.status.busy": "2022-08-27T05:59:25.040178Z",
     "iopub.status.idle": "2022-08-27T05:59:25.057820Z",
     "shell.execute_reply": "2022-08-27T05:59:25.057203Z"
    },
    "papermill": {
     "duration": 0.030839,
     "end_time": "2022-08-27T05:59:25.059431",
     "exception": false,
     "start_time": "2022-08-27T05:59:25.028592",
     "status": "completed"
    },
    "tags": []
   },
   "outputs": [
    {
     "data": {
      "text/plain": [
       "'Working on chromosome 10'"
      ]
     },
     "metadata": {},
     "output_type": "display_data"
    }
   ],
   "source": [
    "assert CHROMOSOME is not None and (\n",
    "    1 <= CHROMOSOME <= 22\n",
    "), \"You have to select one chromosome (format: number between 1 and 22)\"\n",
    "\n",
    "# CHROMOSOME = str(CHROMOSOME)\n",
    "display(f\"Working on chromosome {CHROMOSOME}\")"
   ]
  },
  {
   "cell_type": "code",
   "execution_count": 10,
   "id": "ab8e96e8-06b5-4363-9dcd-dc4d78cc27f7",
   "metadata": {
    "execution": {
     "iopub.execute_input": "2022-08-27T05:59:25.080942Z",
     "iopub.status.busy": "2022-08-27T05:59:25.080753Z",
     "iopub.status.idle": "2022-08-27T05:59:25.108324Z",
     "shell.execute_reply": "2022-08-27T05:59:25.107845Z"
    },
    "papermill": {
     "duration": 0.041233,
     "end_time": "2022-08-27T05:59:25.109709",
     "exception": false,
     "start_time": "2022-08-27T05:59:25.068476",
     "status": "completed"
    },
    "tags": []
   },
   "outputs": [
    {
     "data": {
      "text/plain": [
       "'Compute correlation within distance False'"
      ]
     },
     "metadata": {},
     "output_type": "display_data"
    }
   ],
   "source": [
    "display(f\"Compute correlation within distance {COMPUTE_CORRELATIONS_WITHIN_DISTANCE}\")"
   ]
  },
  {
   "cell_type": "code",
   "execution_count": 11,
   "id": "396392dc-0340-4540-9b02-e182b833f909",
   "metadata": {
    "execution": {
     "iopub.execute_input": "2022-08-27T05:59:25.135779Z",
     "iopub.status.busy": "2022-08-27T05:59:25.135591Z",
     "iopub.status.idle": "2022-08-27T05:59:25.166661Z",
     "shell.execute_reply": "2022-08-27T05:59:25.166004Z"
    },
    "papermill": {
     "duration": 0.042001,
     "end_time": "2022-08-27T05:59:25.168155",
     "exception": false,
     "start_time": "2022-08-27T05:59:25.126154",
     "status": "completed"
    },
    "tags": []
   },
   "outputs": [
    {
     "data": {
      "text/plain": [
       "'Using output dir base: /project/ritchie20/projects/phenoplier/base/results/gls/gene_corrs/cohorts/phenomexcan_rapid_gwas/gtex_v8/mashr'"
      ]
     },
     "metadata": {},
     "output_type": "display_data"
    }
   ],
   "source": [
    "OUTPUT_DIR_BASE = (\n",
    "    conf.RESULTS[\"GLS\"]\n",
    "    / \"gene_corrs\"\n",
    "    / \"cohorts\"\n",
    "    / COHORT_NAME\n",
    "    / REFERENCE_PANEL.lower()\n",
    "    / EQTL_MODEL.lower()\n",
    ")\n",
    "OUTPUT_DIR_BASE.mkdir(parents=True, exist_ok=True)\n",
    "\n",
    "display(f\"Using output dir base: {OUTPUT_DIR_BASE}\")"
   ]
  },
  {
   "cell_type": "markdown",
   "id": "d2ba085e",
   "metadata": {
    "papermill": {
     "duration": 0.016771,
     "end_time": "2022-08-27T05:59:25.197223",
     "exception": false,
     "start_time": "2022-08-27T05:59:25.180452",
     "status": "completed"
    },
    "tags": []
   },
   "source": [
    "# Load data"
   ]
  },
  {
   "cell_type": "markdown",
   "id": "7dcb8db7",
   "metadata": {
    "papermill": {
     "duration": 0.018168,
     "end_time": "2022-08-27T05:59:25.232150",
     "exception": false,
     "start_time": "2022-08-27T05:59:25.213982",
     "status": "completed"
    },
    "tags": []
   },
   "source": [
    "## GWAS variants"
   ]
  },
  {
   "cell_type": "code",
   "execution_count": 12,
   "id": "29434c4e-8cd3-4b9b-82e4-b5a251d9dd19",
   "metadata": {
    "execution": {
     "iopub.execute_input": "2022-08-27T05:59:25.252505Z",
     "iopub.status.busy": "2022-08-27T05:59:25.252315Z",
     "iopub.status.idle": "2022-08-27T05:59:27.971942Z",
     "shell.execute_reply": "2022-08-27T05:59:27.971138Z"
    },
    "papermill": {
     "duration": 2.731212,
     "end_time": "2022-08-27T05:59:27.973953",
     "exception": false,
     "start_time": "2022-08-27T05:59:25.242741",
     "status": "completed"
    },
    "tags": []
   },
   "outputs": [],
   "source": [
    "with open(OUTPUT_DIR_BASE / \"gwas_variant_ids.pkl\", \"rb\") as handle:\n",
    "    gwas_variants_ids_set = pickle.load(handle)"
   ]
  },
  {
   "cell_type": "code",
   "execution_count": 13,
   "id": "b9d9dec2-4a76-4bf9-bde2-e24c95acb8a0",
   "metadata": {
    "execution": {
     "iopub.execute_input": "2022-08-27T05:59:27.995407Z",
     "iopub.status.busy": "2022-08-27T05:59:27.995197Z",
     "iopub.status.idle": "2022-08-27T05:59:28.069971Z",
     "shell.execute_reply": "2022-08-27T05:59:28.069262Z"
    },
    "papermill": {
     "duration": 0.088629,
     "end_time": "2022-08-27T05:59:28.072111",
     "exception": false,
     "start_time": "2022-08-27T05:59:27.983482",
     "status": "completed"
    },
    "tags": []
   },
   "outputs": [
    {
     "data": {
      "text/plain": [
       "8496088"
      ]
     },
     "execution_count": 13,
     "metadata": {},
     "output_type": "execute_result"
    }
   ],
   "source": [
    "len(gwas_variants_ids_set)"
   ]
  },
  {
   "cell_type": "code",
   "execution_count": 14,
   "id": "4235b06a-6034-4ee4-a0a3-2ae35d122418",
   "metadata": {
    "execution": {
     "iopub.execute_input": "2022-08-27T05:59:28.097580Z",
     "iopub.status.busy": "2022-08-27T05:59:28.097313Z",
     "iopub.status.idle": "2022-08-27T05:59:28.666919Z",
     "shell.execute_reply": "2022-08-27T05:59:28.666212Z"
    },
    "papermill": {
     "duration": 0.584205,
     "end_time": "2022-08-27T05:59:28.668417",
     "exception": false,
     "start_time": "2022-08-27T05:59:28.084212",
     "status": "completed"
    },
    "tags": []
   },
   "outputs": [
    {
     "data": {
      "text/plain": [
       "['chr14_24756581_A_G_b38',\n",
       " 'chr16_56832284_T_C_b38',\n",
       " 'chr5_165778410_T_C_b38',\n",
       " 'chr9_35962226_T_A_b38',\n",
       " 'chr4_94417772_C_T_b38']"
      ]
     },
     "execution_count": 14,
     "metadata": {},
     "output_type": "execute_result"
    }
   ],
   "source": [
    "list(gwas_variants_ids_set)[:5]"
   ]
  },
  {
   "cell_type": "markdown",
   "id": "07866999-2305-41f9-a144-e69c9122c212",
   "metadata": {
    "papermill": {
     "duration": 0.009597,
     "end_time": "2022-08-27T05:59:28.687842",
     "exception": false,
     "start_time": "2022-08-27T05:59:28.678245",
     "status": "completed"
    },
    "tags": []
   },
   "source": [
    "## S-PrediXcan tissue models"
   ]
  },
  {
   "cell_type": "code",
   "execution_count": 15,
   "id": "780611d9-77c8-405f-90a4-f271f7b09397",
   "metadata": {
    "execution": {
     "iopub.execute_input": "2022-08-27T05:59:28.708360Z",
     "iopub.status.busy": "2022-08-27T05:59:28.708120Z",
     "iopub.status.idle": "2022-08-27T05:59:29.535785Z",
     "shell.execute_reply": "2022-08-27T05:59:29.535220Z"
    },
    "papermill": {
     "duration": 0.839936,
     "end_time": "2022-08-27T05:59:29.537682",
     "exception": false,
     "start_time": "2022-08-27T05:59:28.697746",
     "status": "completed"
    },
    "tags": []
   },
   "outputs": [],
   "source": [
    "spredixcan_genes_models = pd.read_pickle(OUTPUT_DIR_BASE / \"gene_tissues.pkl\")"
   ]
  },
  {
   "cell_type": "code",
   "execution_count": 16,
   "id": "726dd1f6-9557-4225-91fa-b3b879ea96e1",
   "metadata": {
    "execution": {
     "iopub.execute_input": "2022-08-27T05:59:29.558840Z",
     "iopub.status.busy": "2022-08-27T05:59:29.558640Z",
     "iopub.status.idle": "2022-08-27T05:59:29.579209Z",
     "shell.execute_reply": "2022-08-27T05:59:29.578438Z"
    },
    "papermill": {
     "duration": 0.032025,
     "end_time": "2022-08-27T05:59:29.580693",
     "exception": false,
     "start_time": "2022-08-27T05:59:29.548668",
     "status": "completed"
    },
    "tags": []
   },
   "outputs": [
    {
     "data": {
      "text/plain": [
       "(6428, 3)"
      ]
     },
     "execution_count": 16,
     "metadata": {},
     "output_type": "execute_result"
    }
   ],
   "source": [
    "spredixcan_genes_models.shape"
   ]
  },
  {
   "cell_type": "code",
   "execution_count": 17,
   "id": "944a1b48-222c-4eb0-b252-b9de2cbca215",
   "metadata": {
    "execution": {
     "iopub.execute_input": "2022-08-27T05:59:29.600515Z",
     "iopub.status.busy": "2022-08-27T05:59:29.600298Z",
     "iopub.status.idle": "2022-08-27T05:59:29.625703Z",
     "shell.execute_reply": "2022-08-27T05:59:29.624930Z"
    },
    "papermill": {
     "duration": 0.037091,
     "end_time": "2022-08-27T05:59:29.627265",
     "exception": false,
     "start_time": "2022-08-27T05:59:29.590174",
     "status": "completed"
    },
    "tags": []
   },
   "outputs": [
    {
     "data": {
      "text/html": [
       "<div>\n",
       "<style scoped>\n",
       "    .dataframe tbody tr th:only-of-type {\n",
       "        vertical-align: middle;\n",
       "    }\n",
       "\n",
       "    .dataframe tbody tr th {\n",
       "        vertical-align: top;\n",
       "    }\n",
       "\n",
       "    .dataframe thead th {\n",
       "        text-align: right;\n",
       "    }\n",
       "</style>\n",
       "<table border=\"1\" class=\"dataframe\">\n",
       "  <thead>\n",
       "    <tr style=\"text-align: right;\">\n",
       "      <th></th>\n",
       "      <th>gene_name</th>\n",
       "      <th>tissue</th>\n",
       "      <th>n_tissues</th>\n",
       "    </tr>\n",
       "    <tr>\n",
       "      <th>gene_id</th>\n",
       "      <th></th>\n",
       "      <th></th>\n",
       "      <th></th>\n",
       "    </tr>\n",
       "  </thead>\n",
       "  <tbody>\n",
       "    <tr>\n",
       "      <th>ENSG00000000419</th>\n",
       "      <td>DPM1</td>\n",
       "      <td>(Brain_Hypothalamus, Brain_Substantia_nigra)</td>\n",
       "      <td>2</td>\n",
       "    </tr>\n",
       "    <tr>\n",
       "      <th>ENSG00000000938</th>\n",
       "      <td>FGR</td>\n",
       "      <td>(Brain_Nucleus_accumbens_basal_ganglia, Adipos...</td>\n",
       "      <td>36</td>\n",
       "    </tr>\n",
       "    <tr>\n",
       "      <th>ENSG00000000971</th>\n",
       "      <td>CFH</td>\n",
       "      <td>(Brain_Hippocampus, Brain_Cerebellar_Hemispher...</td>\n",
       "      <td>34</td>\n",
       "    </tr>\n",
       "    <tr>\n",
       "      <th>ENSG00000001084</th>\n",
       "      <td>GCLC</td>\n",
       "      <td>(Brain_Nucleus_accumbens_basal_ganglia, Adipos...</td>\n",
       "      <td>33</td>\n",
       "    </tr>\n",
       "    <tr>\n",
       "      <th>ENSG00000001167</th>\n",
       "      <td>NFYA</td>\n",
       "      <td>(Brain_Nucleus_accumbens_basal_ganglia, Adipos...</td>\n",
       "      <td>40</td>\n",
       "    </tr>\n",
       "  </tbody>\n",
       "</table>\n",
       "</div>"
      ],
      "text/plain": [
       "                gene_name                                             tissue  \\\n",
       "gene_id                                                                        \n",
       "ENSG00000000419      DPM1       (Brain_Hypothalamus, Brain_Substantia_nigra)   \n",
       "ENSG00000000938       FGR  (Brain_Nucleus_accumbens_basal_ganglia, Adipos...   \n",
       "ENSG00000000971       CFH  (Brain_Hippocampus, Brain_Cerebellar_Hemispher...   \n",
       "ENSG00000001084      GCLC  (Brain_Nucleus_accumbens_basal_ganglia, Adipos...   \n",
       "ENSG00000001167      NFYA  (Brain_Nucleus_accumbens_basal_ganglia, Adipos...   \n",
       "\n",
       "                 n_tissues  \n",
       "gene_id                     \n",
       "ENSG00000000419          2  \n",
       "ENSG00000000938         36  \n",
       "ENSG00000000971         34  \n",
       "ENSG00000001084         33  \n",
       "ENSG00000001167         40  "
      ]
     },
     "execution_count": 17,
     "metadata": {},
     "output_type": "execute_result"
    }
   ],
   "source": [
    "spredixcan_genes_models.head()"
   ]
  },
  {
   "cell_type": "code",
   "execution_count": 18,
   "id": "d1c11bb1-be0b-4f40-b360-633d6827109f",
   "metadata": {
    "execution": {
     "iopub.execute_input": "2022-08-27T05:59:29.647177Z",
     "iopub.status.busy": "2022-08-27T05:59:29.646957Z",
     "iopub.status.idle": "2022-08-27T05:59:29.662821Z",
     "shell.execute_reply": "2022-08-27T05:59:29.662214Z"
    },
    "papermill": {
     "duration": 0.027646,
     "end_time": "2022-08-27T05:59:29.664318",
     "exception": false,
     "start_time": "2022-08-27T05:59:29.636672",
     "status": "completed"
    },
    "tags": []
   },
   "outputs": [],
   "source": [
    "assert spredixcan_genes_models.index.is_unique"
   ]
  },
  {
   "cell_type": "markdown",
   "id": "a5b5092c-a13e-47c4-a92a-480fcc08f3ae",
   "metadata": {
    "papermill": {
     "duration": 0.009723,
     "end_time": "2022-08-27T05:59:29.684246",
     "exception": false,
     "start_time": "2022-08-27T05:59:29.674523",
     "status": "completed"
    },
    "tags": []
   },
   "source": [
    "## Gene info"
   ]
  },
  {
   "cell_type": "code",
   "execution_count": 19,
   "id": "7d6bb224-88e9-4358-ac10-43a41d92cdad",
   "metadata": {
    "execution": {
     "iopub.execute_input": "2022-08-27T05:59:29.704422Z",
     "iopub.status.busy": "2022-08-27T05:59:29.704231Z",
     "iopub.status.idle": "2022-08-27T05:59:29.725230Z",
     "shell.execute_reply": "2022-08-27T05:59:29.724450Z"
    },
    "papermill": {
     "duration": 0.033124,
     "end_time": "2022-08-27T05:59:29.726865",
     "exception": false,
     "start_time": "2022-08-27T05:59:29.693741",
     "status": "completed"
    },
    "tags": []
   },
   "outputs": [],
   "source": [
    "genes_info = pd.read_pickle(OUTPUT_DIR_BASE / \"genes_info.pkl\")"
   ]
  },
  {
   "cell_type": "code",
   "execution_count": 20,
   "id": "9e32abfa-546d-483e-8c18-d526e9e05903",
   "metadata": {
    "execution": {
     "iopub.execute_input": "2022-08-27T05:59:29.747478Z",
     "iopub.status.busy": "2022-08-27T05:59:29.747269Z",
     "iopub.status.idle": "2022-08-27T05:59:29.764823Z",
     "shell.execute_reply": "2022-08-27T05:59:29.764096Z"
    },
    "papermill": {
     "duration": 0.0296,
     "end_time": "2022-08-27T05:59:29.766441",
     "exception": false,
     "start_time": "2022-08-27T05:59:29.736841",
     "status": "completed"
    },
    "tags": []
   },
   "outputs": [
    {
     "data": {
      "text/plain": [
       "(6428, 7)"
      ]
     },
     "execution_count": 20,
     "metadata": {},
     "output_type": "execute_result"
    }
   ],
   "source": [
    "genes_info.shape"
   ]
  },
  {
   "cell_type": "code",
   "execution_count": 21,
   "id": "d16c3e92-85ec-468a-9a56-e25a9774a1cb",
   "metadata": {
    "execution": {
     "iopub.execute_input": "2022-08-27T05:59:29.786211Z",
     "iopub.status.busy": "2022-08-27T05:59:29.786014Z",
     "iopub.status.idle": "2022-08-27T05:59:29.807372Z",
     "shell.execute_reply": "2022-08-27T05:59:29.806830Z"
    },
    "papermill": {
     "duration": 0.032641,
     "end_time": "2022-08-27T05:59:29.808819",
     "exception": false,
     "start_time": "2022-08-27T05:59:29.776178",
     "status": "completed"
    },
    "tags": []
   },
   "outputs": [
    {
     "data": {
      "text/html": [
       "<div>\n",
       "<style scoped>\n",
       "    .dataframe tbody tr th:only-of-type {\n",
       "        vertical-align: middle;\n",
       "    }\n",
       "\n",
       "    .dataframe tbody tr th {\n",
       "        vertical-align: top;\n",
       "    }\n",
       "\n",
       "    .dataframe thead th {\n",
       "        text-align: right;\n",
       "    }\n",
       "</style>\n",
       "<table border=\"1\" class=\"dataframe\">\n",
       "  <thead>\n",
       "    <tr style=\"text-align: right;\">\n",
       "      <th></th>\n",
       "      <th>name</th>\n",
       "      <th>id</th>\n",
       "      <th>chr</th>\n",
       "      <th>band</th>\n",
       "      <th>start_position</th>\n",
       "      <th>end_position</th>\n",
       "      <th>gene_length</th>\n",
       "    </tr>\n",
       "  </thead>\n",
       "  <tbody>\n",
       "    <tr>\n",
       "      <th>0</th>\n",
       "      <td>ZNF605</td>\n",
       "      <td>ENSG00000196458</td>\n",
       "      <td>12</td>\n",
       "      <td>12q24.33</td>\n",
       "      <td>132918306</td>\n",
       "      <td>132956306</td>\n",
       "      <td>38000</td>\n",
       "    </tr>\n",
       "    <tr>\n",
       "      <th>1</th>\n",
       "      <td>FBP1</td>\n",
       "      <td>ENSG00000165140</td>\n",
       "      <td>9</td>\n",
       "      <td>9q22.32</td>\n",
       "      <td>94603133</td>\n",
       "      <td>94640249</td>\n",
       "      <td>37116</td>\n",
       "    </tr>\n",
       "    <tr>\n",
       "      <th>2</th>\n",
       "      <td>TAL1</td>\n",
       "      <td>ENSG00000162367</td>\n",
       "      <td>1</td>\n",
       "      <td>1p33</td>\n",
       "      <td>47216290</td>\n",
       "      <td>47232220</td>\n",
       "      <td>15930</td>\n",
       "    </tr>\n",
       "    <tr>\n",
       "      <th>3</th>\n",
       "      <td>MPV17</td>\n",
       "      <td>ENSG00000115204</td>\n",
       "      <td>2</td>\n",
       "      <td>2p23.3</td>\n",
       "      <td>27309492</td>\n",
       "      <td>27325680</td>\n",
       "      <td>16188</td>\n",
       "    </tr>\n",
       "    <tr>\n",
       "      <th>4</th>\n",
       "      <td>PTPRN</td>\n",
       "      <td>ENSG00000054356</td>\n",
       "      <td>2</td>\n",
       "      <td>2q35</td>\n",
       "      <td>219289623</td>\n",
       "      <td>219309648</td>\n",
       "      <td>20025</td>\n",
       "    </tr>\n",
       "  </tbody>\n",
       "</table>\n",
       "</div>"
      ],
      "text/plain": [
       "     name               id  chr      band  start_position  end_position  \\\n",
       "0  ZNF605  ENSG00000196458   12  12q24.33       132918306     132956306   \n",
       "1    FBP1  ENSG00000165140    9   9q22.32        94603133      94640249   \n",
       "2    TAL1  ENSG00000162367    1      1p33        47216290      47232220   \n",
       "3   MPV17  ENSG00000115204    2    2p23.3        27309492      27325680   \n",
       "4   PTPRN  ENSG00000054356    2      2q35       219289623     219309648   \n",
       "\n",
       "   gene_length  \n",
       "0        38000  \n",
       "1        37116  \n",
       "2        15930  \n",
       "3        16188  \n",
       "4        20025  "
      ]
     },
     "execution_count": 21,
     "metadata": {},
     "output_type": "execute_result"
    }
   ],
   "source": [
    "genes_info.head()"
   ]
  },
  {
   "cell_type": "markdown",
   "id": "d3843e06",
   "metadata": {
    "papermill": {
     "duration": 0.009647,
     "end_time": "2022-08-27T05:59:29.828163",
     "exception": false,
     "start_time": "2022-08-27T05:59:29.818516",
     "status": "completed"
    },
    "tags": []
   },
   "source": [
    "# Compute correlations"
   ]
  },
  {
   "cell_type": "code",
   "execution_count": 22,
   "id": "cb859c15-d1f3-4006-a74c-2b83c0db9611",
   "metadata": {
    "execution": {
     "iopub.execute_input": "2022-08-27T05:59:29.849435Z",
     "iopub.status.busy": "2022-08-27T05:59:29.849241Z",
     "iopub.status.idle": "2022-08-27T05:59:29.867900Z",
     "shell.execute_reply": "2022-08-27T05:59:29.867135Z"
    },
    "papermill": {
     "duration": 0.030739,
     "end_time": "2022-08-27T05:59:29.869513",
     "exception": false,
     "start_time": "2022-08-27T05:59:29.838774",
     "status": "completed"
    },
    "tags": []
   },
   "outputs": [
    {
     "data": {
      "text/plain": [
       "PosixPath('/project/ritchie20/projects/phenoplier/base/results/gls/gene_corrs/cohorts/phenomexcan_rapid_gwas/gtex_v8/mashr/by_chr/gene_corrs-chr10.pkl')"
      ]
     },
     "metadata": {},
     "output_type": "display_data"
    }
   ],
   "source": [
    "output_dir = OUTPUT_DIR_BASE / \"by_chr\"\n",
    "output_dir.mkdir(exist_ok=True, parents=True)\n",
    "output_file = output_dir / f\"gene_corrs-chr{CHROMOSOME}.pkl\"\n",
    "display(output_file)"
   ]
  },
  {
   "cell_type": "code",
   "execution_count": 23,
   "id": "aa674fe4-6794-4eed-98fa-32b39d1d4ace",
   "metadata": {
    "execution": {
     "iopub.execute_input": "2022-08-27T05:59:29.890768Z",
     "iopub.status.busy": "2022-08-27T05:59:29.890580Z",
     "iopub.status.idle": "2022-08-27T05:59:29.905645Z",
     "shell.execute_reply": "2022-08-27T05:59:29.905172Z"
    },
    "papermill": {
     "duration": 0.027319,
     "end_time": "2022-08-27T05:59:29.907140",
     "exception": false,
     "start_time": "2022-08-27T05:59:29.879821",
     "status": "completed"
    },
    "tags": []
   },
   "outputs": [],
   "source": [
    "warnings.filterwarnings(\"error\")"
   ]
  },
  {
   "cell_type": "code",
   "execution_count": 24,
   "id": "44d5450b-3baf-43f1-9e2e-4b06f1a785f8",
   "metadata": {
    "execution": {
     "iopub.execute_input": "2022-08-27T05:59:29.927671Z",
     "iopub.status.busy": "2022-08-27T05:59:29.927481Z",
     "iopub.status.idle": "2022-08-27T05:59:29.943463Z",
     "shell.execute_reply": "2022-08-27T05:59:29.942838Z"
    },
    "papermill": {
     "duration": 0.027981,
     "end_time": "2022-08-27T05:59:29.944962",
     "exception": false,
     "start_time": "2022-08-27T05:59:29.916981",
     "status": "completed"
    },
    "tags": []
   },
   "outputs": [],
   "source": [
    "# standard checks\n",
    "all_chrs = genes_info[\"chr\"].dropna().unique()\n",
    "assert all_chrs.shape[0] == 22\n",
    "\n",
    "# select chromosome given by the user\n",
    "assert CHROMOSOME in all_chrs"
   ]
  },
  {
   "cell_type": "code",
   "execution_count": 25,
   "id": "2d7c043c-92a7-4d35-991b-fa69ac1e0268",
   "metadata": {
    "execution": {
     "iopub.execute_input": "2022-08-27T05:59:29.966267Z",
     "iopub.status.busy": "2022-08-27T05:59:29.966069Z",
     "iopub.status.idle": "2022-08-27T05:59:29.994006Z",
     "shell.execute_reply": "2022-08-27T05:59:29.993271Z"
    },
    "papermill": {
     "duration": 0.040096,
     "end_time": "2022-08-27T05:59:29.995613",
     "exception": false,
     "start_time": "2022-08-27T05:59:29.955517",
     "status": "completed"
    },
    "tags": []
   },
   "outputs": [
    {
     "name": "stdout",
     "output_type": "stream",
     "text": [
      "Number of genes in chromosome: 243\n"
     ]
    }
   ],
   "source": [
    "# run only on the chromosome specified\n",
    "all_chrs = [CHROMOSOME]\n",
    "genes_chr = genes_info[genes_info[\"chr\"] == CHROMOSOME]\n",
    "\n",
    "# For testing purposes\n",
    "# genes_chr = genes_chr.sample(n=20)\n",
    "\n",
    "print(f\"Number of genes in chromosome: {genes_chr.shape[0]}\", flush=True)"
   ]
  },
  {
   "cell_type": "code",
   "execution_count": 26,
   "id": "916015d8-2979-46d3-a9b9-1cf5a0932c6a",
   "metadata": {
    "execution": {
     "iopub.execute_input": "2022-08-27T05:59:30.016762Z",
     "iopub.status.busy": "2022-08-27T05:59:30.016573Z",
     "iopub.status.idle": "2022-08-27T05:59:30.032240Z",
     "shell.execute_reply": "2022-08-27T05:59:30.031553Z"
    },
    "papermill": {
     "duration": 0.028047,
     "end_time": "2022-08-27T05:59:30.033742",
     "exception": false,
     "start_time": "2022-08-27T05:59:30.005695",
     "status": "completed"
    },
    "tags": []
   },
   "outputs": [],
   "source": [
    "# sort genes by starting position to make visualizations better later\n",
    "genes_chr = genes_chr.sort_values(\"start_position\")"
   ]
  },
  {
   "cell_type": "code",
   "execution_count": 27,
   "id": "a38aa74a-8ad3-47f6-8ef9-56be0e011774",
   "metadata": {
    "execution": {
     "iopub.execute_input": "2022-08-27T05:59:30.055513Z",
     "iopub.status.busy": "2022-08-27T05:59:30.055324Z",
     "iopub.status.idle": "2022-08-27T05:59:30.071064Z",
     "shell.execute_reply": "2022-08-27T05:59:30.070569Z"
    },
    "papermill": {
     "duration": 0.028709,
     "end_time": "2022-08-27T05:59:30.072564",
     "exception": false,
     "start_time": "2022-08-27T05:59:30.043855",
     "status": "completed"
    },
    "tags": []
   },
   "outputs": [],
   "source": [
    "gene_chr_objs = [Gene(ensembl_id=gene_id) for gene_id in genes_chr[\"id\"]]"
   ]
  },
  {
   "cell_type": "code",
   "execution_count": 28,
   "id": "570f974f-13c3-42b6-ad3a-ce99ca885c1a",
   "metadata": {
    "execution": {
     "iopub.execute_input": "2022-08-27T05:59:30.094070Z",
     "iopub.status.busy": "2022-08-27T05:59:30.093856Z",
     "iopub.status.idle": "2022-08-27T05:59:30.112109Z",
     "shell.execute_reply": "2022-08-27T05:59:30.111335Z"
    },
    "papermill": {
     "duration": 0.031109,
     "end_time": "2022-08-27T05:59:30.113602",
     "exception": false,
     "start_time": "2022-08-27T05:59:30.082493",
     "status": "completed"
    },
    "tags": []
   },
   "outputs": [
    {
     "name": "stdout",
     "output_type": "stream",
     "text": [
      "Number of gene combinations: 29403\n"
     ]
    }
   ],
   "source": [
    "n = len(gene_chr_objs)\n",
    "n_comb = int(n * (n - 1) / 2.0)\n",
    "print(f\"Number of gene combinations: {n_comb}\", flush=True)"
   ]
  },
  {
   "cell_type": "code",
   "execution_count": 29,
   "id": "cdbb90a1",
   "metadata": {
    "execution": {
     "iopub.execute_input": "2022-08-27T05:59:30.138031Z",
     "iopub.status.busy": "2022-08-27T05:59:30.137836Z",
     "iopub.status.idle": "2022-08-27T06:44:03.025191Z",
     "shell.execute_reply": "2022-08-27T06:44:03.024189Z"
    },
    "papermill": {
     "duration": 2672.90194,
     "end_time": "2022-08-27T06:44:03.027685",
     "exception": false,
     "start_time": "2022-08-27T05:59:30.125745",
     "status": "completed"
    },
    "tags": []
   },
   "outputs": [
    {
     "name": "stderr",
     "output_type": "stream",
     "text": [
      "ENSG00000130649 / ENSG00000130649: : 29646it [44:32, 11.09it/s]\n"
     ]
    },
    {
     "data": {
      "text/plain": [
       "PosixPath('/project/ritchie20/projects/phenoplier/base/results/gls/gene_corrs/cohorts/phenomexcan_rapid_gwas/gtex_v8/mashr/by_chr/gene_corrs-chr10.pkl')"
      ]
     },
     "metadata": {},
     "output_type": "display_data"
    }
   ],
   "source": [
    "gene_corrs = []\n",
    "gene_corrs_data = np.full(\n",
    "    (n, n),\n",
    "    np.nan,\n",
    "    dtype=np.float64,\n",
    ")\n",
    "\n",
    "i = 0\n",
    "with tqdm(ncols=100, total=n_comb) as pbar:\n",
    "    for gene1_idx in range(0, len(gene_chr_objs)):\n",
    "        gene1_obj = gene_chr_objs[gene1_idx]\n",
    "        gene1_tissues = spredixcan_genes_models.loc[gene1_obj.ensembl_id, \"tissue\"]\n",
    "\n",
    "        for gene2_idx in range(gene1_idx, len(gene_chr_objs)):\n",
    "            gene2_obj = gene_chr_objs[gene2_idx]\n",
    "            gene2_tissues = spredixcan_genes_models.loc[gene2_obj.ensembl_id, \"tissue\"]\n",
    "\n",
    "            pbar.set_description(f\"{gene1_obj.ensembl_id} / {gene2_obj.ensembl_id}\")\n",
    "\n",
    "            try:\n",
    "                r = gene1_obj.get_ssm_correlation(\n",
    "                    other_gene=gene2_obj,\n",
    "                    tissues=gene1_tissues,\n",
    "                    other_tissues=gene2_tissues,\n",
    "                    snps_subset=gwas_variants_ids_set,\n",
    "                    condition_number=SMULTIXCAN_CONDITION_NUMBER,\n",
    "                    reference_panel=REFERENCE_PANEL,\n",
    "                    model_type=EQTL_MODEL,\n",
    "                    use_within_distance=COMPUTE_CORRELATIONS_WITHIN_DISTANCE,\n",
    "                )\n",
    "\n",
    "                if r is None:\n",
    "                    # if r is None, it's very likely because:\n",
    "                    #  * one of the genes has no prediction models\n",
    "                    #  * all the SNPs predictors for the gene are not present in the reference\n",
    "                    #    panel\n",
    "\n",
    "                    r = 0.0\n",
    "\n",
    "                gene_corrs.append(r)\n",
    "\n",
    "                gene_corrs_data[gene1_idx, gene2_idx] = r\n",
    "                gene_corrs_data[gene2_idx, gene1_idx] = r\n",
    "            except Warning as e:\n",
    "                if not DEBUG_MODE:\n",
    "                    raise e\n",
    "\n",
    "                print(\n",
    "                    f\"RuntimeWarning for genes {gene1_obj.ensembl_id} and {gene2_obj.ensembl_id}\",\n",
    "                    flush=True,\n",
    "                )\n",
    "                print(traceback.format_exc(), flush=True)\n",
    "\n",
    "                gene_corrs.append(np.nan)\n",
    "            except Exception as e:\n",
    "                if not DEBUG_MODE:\n",
    "                    raise e\n",
    "\n",
    "                print(\n",
    "                    f\"Exception for genes {gene1_obj.ensembl_id} and {gene2_obj.ensembl_id}\",\n",
    "                    flush=True,\n",
    "                )\n",
    "                print(traceback.format_exc(), flush=True)\n",
    "\n",
    "                gene_corrs.append(np.nan)\n",
    "\n",
    "            pbar.update(1)\n",
    "\n",
    "# create a pandas series\n",
    "gene_corrs_flat = pd.Series(gene_corrs)\n",
    "\n",
    "# save\n",
    "# FIXME: consider saving only the condenced matrix here. See here for\n",
    "# more details: https://github.com/greenelab/phenoplier/pull/38#discussion_r634600813\n",
    "# gene_corrs_data = squareform(np.array(gene_corrs, dtype=np.float64))\n",
    "# np.fill_diagonal(gene_corrs_data, 1.0)\n",
    "\n",
    "gene_chr_ids = [g.ensembl_id for g in gene_chr_objs]\n",
    "gene_corrs_df = pd.DataFrame(\n",
    "    data=gene_corrs_data,\n",
    "    index=gene_chr_ids,\n",
    "    columns=gene_chr_ids,\n",
    ")\n",
    "\n",
    "output_dir.mkdir(exist_ok=True, parents=True)\n",
    "display(output_file)\n",
    "\n",
    "gene_corrs_df.to_pickle(output_file)"
   ]
  },
  {
   "cell_type": "markdown",
   "id": "faa67b51-5373-470f-aa72-2ded53fa6dfe",
   "metadata": {
    "papermill": {
     "duration": 1.862686,
     "end_time": "2022-08-27T06:44:06.727182",
     "exception": false,
     "start_time": "2022-08-27T06:44:04.864496",
     "status": "completed"
    },
    "tags": []
   },
   "source": [
    "# Testing"
   ]
  },
  {
   "cell_type": "code",
   "execution_count": 30,
   "id": "14f7d046-4b55-4896-a56b-990127bcc388",
   "metadata": {
    "execution": {
     "iopub.execute_input": "2022-08-27T06:44:10.311034Z",
     "iopub.status.busy": "2022-08-27T06:44:10.310761Z",
     "iopub.status.idle": "2022-08-27T06:44:10.581560Z",
     "shell.execute_reply": "2022-08-27T06:44:10.580525Z"
    },
    "papermill": {
     "duration": 2.089387,
     "end_time": "2022-08-27T06:44:10.584477",
     "exception": false,
     "start_time": "2022-08-27T06:44:08.495090",
     "status": "completed"
    },
    "tags": []
   },
   "outputs": [
    {
     "data": {
      "text/plain": [
       "(243, 243)"
      ]
     },
     "execution_count": 30,
     "metadata": {},
     "output_type": "execute_result"
    }
   ],
   "source": [
    "gene_corrs_df.shape"
   ]
  },
  {
   "cell_type": "code",
   "execution_count": 31,
   "id": "c7d15414-3297-4537-a7c6-7588c0baeb75",
   "metadata": {
    "execution": {
     "iopub.execute_input": "2022-08-27T06:44:14.204675Z",
     "iopub.status.busy": "2022-08-27T06:44:14.204418Z",
     "iopub.status.idle": "2022-08-27T06:44:14.239708Z",
     "shell.execute_reply": "2022-08-27T06:44:14.239159Z"
    },
    "papermill": {
     "duration": 1.853251,
     "end_time": "2022-08-27T06:44:14.241208",
     "exception": false,
     "start_time": "2022-08-27T06:44:12.387957",
     "status": "completed"
    },
    "tags": []
   },
   "outputs": [
    {
     "data": {
      "text/html": [
       "<div>\n",
       "<style scoped>\n",
       "    .dataframe tbody tr th:only-of-type {\n",
       "        vertical-align: middle;\n",
       "    }\n",
       "\n",
       "    .dataframe tbody tr th {\n",
       "        vertical-align: top;\n",
       "    }\n",
       "\n",
       "    .dataframe thead th {\n",
       "        text-align: right;\n",
       "    }\n",
       "</style>\n",
       "<table border=\"1\" class=\"dataframe\">\n",
       "  <thead>\n",
       "    <tr style=\"text-align: right;\">\n",
       "      <th></th>\n",
       "      <th>ENSG00000261456</th>\n",
       "      <th>ENSG00000148377</th>\n",
       "      <th>ENSG00000067064</th>\n",
       "      <th>ENSG00000067057</th>\n",
       "      <th>ENSG00000067082</th>\n",
       "      <th>ENSG00000187134</th>\n",
       "      <th>ENSG00000151632</th>\n",
       "      <th>ENSG00000196139</th>\n",
       "      <th>ENSG00000173848</th>\n",
       "      <th>ENSG00000196372</th>\n",
       "      <th>...</th>\n",
       "      <th>ENSG00000148773</th>\n",
       "      <th>ENSG00000170430</th>\n",
       "      <th>ENSG00000175470</th>\n",
       "      <th>ENSG00000176171</th>\n",
       "      <th>ENSG00000151640</th>\n",
       "      <th>ENSG00000068383</th>\n",
       "      <th>ENSG00000130640</th>\n",
       "      <th>ENSG00000127884</th>\n",
       "      <th>ENSG00000148832</th>\n",
       "      <th>ENSG00000130649</th>\n",
       "    </tr>\n",
       "  </thead>\n",
       "  <tbody>\n",
       "    <tr>\n",
       "      <th>ENSG00000261456</th>\n",
       "      <td>1.000000</td>\n",
       "      <td>0.003194</td>\n",
       "      <td>0.009697</td>\n",
       "      <td>0.006832</td>\n",
       "      <td>0.005139</td>\n",
       "      <td>0.008654</td>\n",
       "      <td>0.007208</td>\n",
       "      <td>0.011825</td>\n",
       "      <td>0.009945</td>\n",
       "      <td>0.012469</td>\n",
       "      <td>...</td>\n",
       "      <td>0.005084</td>\n",
       "      <td>0.005203</td>\n",
       "      <td>0.009099</td>\n",
       "      <td>0.007040</td>\n",
       "      <td>0.005306</td>\n",
       "      <td>0.006044</td>\n",
       "      <td>0.008178</td>\n",
       "      <td>0.003492</td>\n",
       "      <td>0.004633</td>\n",
       "      <td>0.005823</td>\n",
       "    </tr>\n",
       "    <tr>\n",
       "      <th>ENSG00000148377</th>\n",
       "      <td>0.003194</td>\n",
       "      <td>1.000000</td>\n",
       "      <td>0.091705</td>\n",
       "      <td>0.004397</td>\n",
       "      <td>0.003054</td>\n",
       "      <td>0.007002</td>\n",
       "      <td>0.004671</td>\n",
       "      <td>0.003403</td>\n",
       "      <td>0.000925</td>\n",
       "      <td>0.001049</td>\n",
       "      <td>...</td>\n",
       "      <td>0.004963</td>\n",
       "      <td>0.004102</td>\n",
       "      <td>0.002673</td>\n",
       "      <td>0.002139</td>\n",
       "      <td>0.005020</td>\n",
       "      <td>0.003080</td>\n",
       "      <td>0.000880</td>\n",
       "      <td>0.000971</td>\n",
       "      <td>0.000924</td>\n",
       "      <td>0.003748</td>\n",
       "    </tr>\n",
       "    <tr>\n",
       "      <th>ENSG00000067064</th>\n",
       "      <td>0.009697</td>\n",
       "      <td>0.091705</td>\n",
       "      <td>1.000000</td>\n",
       "      <td>0.014266</td>\n",
       "      <td>0.009946</td>\n",
       "      <td>0.009479</td>\n",
       "      <td>0.005719</td>\n",
       "      <td>0.009616</td>\n",
       "      <td>0.004891</td>\n",
       "      <td>0.008763</td>\n",
       "      <td>...</td>\n",
       "      <td>0.009631</td>\n",
       "      <td>0.002732</td>\n",
       "      <td>0.005036</td>\n",
       "      <td>0.005501</td>\n",
       "      <td>0.003945</td>\n",
       "      <td>0.006768</td>\n",
       "      <td>0.008356</td>\n",
       "      <td>0.003356</td>\n",
       "      <td>0.007517</td>\n",
       "      <td>0.006003</td>\n",
       "    </tr>\n",
       "    <tr>\n",
       "      <th>ENSG00000067057</th>\n",
       "      <td>0.006832</td>\n",
       "      <td>0.004397</td>\n",
       "      <td>0.014266</td>\n",
       "      <td>1.000000</td>\n",
       "      <td>0.011737</td>\n",
       "      <td>0.013265</td>\n",
       "      <td>0.011556</td>\n",
       "      <td>0.015474</td>\n",
       "      <td>0.014563</td>\n",
       "      <td>0.016027</td>\n",
       "      <td>...</td>\n",
       "      <td>0.013378</td>\n",
       "      <td>0.008240</td>\n",
       "      <td>0.011116</td>\n",
       "      <td>0.013889</td>\n",
       "      <td>0.007801</td>\n",
       "      <td>0.017100</td>\n",
       "      <td>0.010532</td>\n",
       "      <td>0.008455</td>\n",
       "      <td>0.013815</td>\n",
       "      <td>0.010620</td>\n",
       "    </tr>\n",
       "    <tr>\n",
       "      <th>ENSG00000067082</th>\n",
       "      <td>0.005139</td>\n",
       "      <td>0.003054</td>\n",
       "      <td>0.009946</td>\n",
       "      <td>0.011737</td>\n",
       "      <td>1.000000</td>\n",
       "      <td>0.004898</td>\n",
       "      <td>0.010518</td>\n",
       "      <td>0.010239</td>\n",
       "      <td>0.007214</td>\n",
       "      <td>0.011398</td>\n",
       "      <td>...</td>\n",
       "      <td>0.007006</td>\n",
       "      <td>0.005401</td>\n",
       "      <td>0.007061</td>\n",
       "      <td>0.007666</td>\n",
       "      <td>0.006948</td>\n",
       "      <td>0.008741</td>\n",
       "      <td>0.008073</td>\n",
       "      <td>0.005152</td>\n",
       "      <td>0.006922</td>\n",
       "      <td>0.006979</td>\n",
       "    </tr>\n",
       "  </tbody>\n",
       "</table>\n",
       "<p>5 rows × 243 columns</p>\n",
       "</div>"
      ],
      "text/plain": [
       "                 ENSG00000261456  ENSG00000148377  ENSG00000067064  \\\n",
       "ENSG00000261456         1.000000         0.003194         0.009697   \n",
       "ENSG00000148377         0.003194         1.000000         0.091705   \n",
       "ENSG00000067064         0.009697         0.091705         1.000000   \n",
       "ENSG00000067057         0.006832         0.004397         0.014266   \n",
       "ENSG00000067082         0.005139         0.003054         0.009946   \n",
       "\n",
       "                 ENSG00000067057  ENSG00000067082  ENSG00000187134  \\\n",
       "ENSG00000261456         0.006832         0.005139         0.008654   \n",
       "ENSG00000148377         0.004397         0.003054         0.007002   \n",
       "ENSG00000067064         0.014266         0.009946         0.009479   \n",
       "ENSG00000067057         1.000000         0.011737         0.013265   \n",
       "ENSG00000067082         0.011737         1.000000         0.004898   \n",
       "\n",
       "                 ENSG00000151632  ENSG00000196139  ENSG00000173848  \\\n",
       "ENSG00000261456         0.007208         0.011825         0.009945   \n",
       "ENSG00000148377         0.004671         0.003403         0.000925   \n",
       "ENSG00000067064         0.005719         0.009616         0.004891   \n",
       "ENSG00000067057         0.011556         0.015474         0.014563   \n",
       "ENSG00000067082         0.010518         0.010239         0.007214   \n",
       "\n",
       "                 ENSG00000196372  ...  ENSG00000148773  ENSG00000170430  \\\n",
       "ENSG00000261456         0.012469  ...         0.005084         0.005203   \n",
       "ENSG00000148377         0.001049  ...         0.004963         0.004102   \n",
       "ENSG00000067064         0.008763  ...         0.009631         0.002732   \n",
       "ENSG00000067057         0.016027  ...         0.013378         0.008240   \n",
       "ENSG00000067082         0.011398  ...         0.007006         0.005401   \n",
       "\n",
       "                 ENSG00000175470  ENSG00000176171  ENSG00000151640  \\\n",
       "ENSG00000261456         0.009099         0.007040         0.005306   \n",
       "ENSG00000148377         0.002673         0.002139         0.005020   \n",
       "ENSG00000067064         0.005036         0.005501         0.003945   \n",
       "ENSG00000067057         0.011116         0.013889         0.007801   \n",
       "ENSG00000067082         0.007061         0.007666         0.006948   \n",
       "\n",
       "                 ENSG00000068383  ENSG00000130640  ENSG00000127884  \\\n",
       "ENSG00000261456         0.006044         0.008178         0.003492   \n",
       "ENSG00000148377         0.003080         0.000880         0.000971   \n",
       "ENSG00000067064         0.006768         0.008356         0.003356   \n",
       "ENSG00000067057         0.017100         0.010532         0.008455   \n",
       "ENSG00000067082         0.008741         0.008073         0.005152   \n",
       "\n",
       "                 ENSG00000148832  ENSG00000130649  \n",
       "ENSG00000261456         0.004633         0.005823  \n",
       "ENSG00000148377         0.000924         0.003748  \n",
       "ENSG00000067064         0.007517         0.006003  \n",
       "ENSG00000067057         0.013815         0.010620  \n",
       "ENSG00000067082         0.006922         0.006979  \n",
       "\n",
       "[5 rows x 243 columns]"
      ]
     },
     "execution_count": 31,
     "metadata": {},
     "output_type": "execute_result"
    }
   ],
   "source": [
    "gene_corrs_df.head()"
   ]
  },
  {
   "cell_type": "markdown",
   "id": "dad6603f-01c6-41fb-a6f6-241051207dd8",
   "metadata": {
    "papermill": {
     "duration": 1.813162,
     "end_time": "2022-08-27T06:44:17.823041",
     "exception": false,
     "start_time": "2022-08-27T06:44:16.009879",
     "status": "completed"
    },
    "tags": []
   },
   "source": [
    "## Standard checks and stats"
   ]
  },
  {
   "cell_type": "code",
   "execution_count": 32,
   "id": "286686af-1b7b-4440-8453-6bdcbd8de19c",
   "metadata": {
    "execution": {
     "iopub.execute_input": "2022-08-27T06:44:21.401653Z",
     "iopub.status.busy": "2022-08-27T06:44:21.401397Z",
     "iopub.status.idle": "2022-08-27T06:44:21.421762Z",
     "shell.execute_reply": "2022-08-27T06:44:21.421003Z"
    },
    "papermill": {
     "duration": 1.842969,
     "end_time": "2022-08-27T06:44:21.423354",
     "exception": false,
     "start_time": "2022-08-27T06:44:19.580385",
     "status": "completed"
    },
    "tags": []
   },
   "outputs": [],
   "source": [
    "assert not gene_corrs_df.isna().any().any()"
   ]
  },
  {
   "cell_type": "code",
   "execution_count": 33,
   "id": "00583efc-7068-4270-ad1e-4a418e91db96",
   "metadata": {
    "execution": {
     "iopub.execute_input": "2022-08-27T06:44:25.023505Z",
     "iopub.status.busy": "2022-08-27T06:44:25.023237Z",
     "iopub.status.idle": "2022-08-27T06:44:25.046012Z",
     "shell.execute_reply": "2022-08-27T06:44:25.045282Z"
    },
    "papermill": {
     "duration": 1.853251,
     "end_time": "2022-08-27T06:44:25.047607",
     "exception": false,
     "start_time": "2022-08-27T06:44:23.194356",
     "status": "completed"
    },
    "tags": []
   },
   "outputs": [
    {
     "data": {
      "text/plain": [
       "3.016476512982381e-08"
      ]
     },
     "metadata": {},
     "output_type": "display_data"
    }
   ],
   "source": [
    "_min_val = gene_corrs_df.min().min()\n",
    "display(_min_val)\n",
    "assert _min_val >= -0.05"
   ]
  },
  {
   "cell_type": "code",
   "execution_count": 34,
   "id": "d04fb2cf-1050-475b-b855-f5f7cc04092b",
   "metadata": {
    "execution": {
     "iopub.execute_input": "2022-08-27T06:44:28.611410Z",
     "iopub.status.busy": "2022-08-27T06:44:28.611142Z",
     "iopub.status.idle": "2022-08-27T06:44:28.633539Z",
     "shell.execute_reply": "2022-08-27T06:44:28.632988Z"
    },
    "papermill": {
     "duration": 1.836763,
     "end_time": "2022-08-27T06:44:28.635053",
     "exception": false,
     "start_time": "2022-08-27T06:44:26.798290",
     "status": "completed"
    },
    "tags": []
   },
   "outputs": [
    {
     "data": {
      "text/plain": [
       "1.0000000000000022"
      ]
     },
     "metadata": {},
     "output_type": "display_data"
    }
   ],
   "source": [
    "_max_val = gene_corrs_df.max().max()  # this captures the diagonal\n",
    "display(_max_val)\n",
    "assert _max_val <= 1.05"
   ]
  },
  {
   "cell_type": "code",
   "execution_count": 35,
   "id": "96d02c44-1fba-47be-8a93-8f2608420b9c",
   "metadata": {
    "execution": {
     "iopub.execute_input": "2022-08-27T06:44:32.229928Z",
     "iopub.status.busy": "2022-08-27T06:44:32.229676Z",
     "iopub.status.idle": "2022-08-27T06:44:32.248271Z",
     "shell.execute_reply": "2022-08-27T06:44:32.247754Z"
    },
    "papermill": {
     "duration": 1.853247,
     "end_time": "2022-08-27T06:44:32.249829",
     "exception": false,
     "start_time": "2022-08-27T06:44:30.396582",
     "status": "completed"
    },
    "tags": []
   },
   "outputs": [],
   "source": [
    "# check upper triangular values\n",
    "# assert len(gene_corrs) == int(genes_chr.shape[0] * (genes_chr.shape[0] - 1) / 2)"
   ]
  },
  {
   "cell_type": "code",
   "execution_count": 36,
   "id": "fe283586-c348-40e0-8841-f6d97bfb021c",
   "metadata": {
    "execution": {
     "iopub.execute_input": "2022-08-27T06:44:35.836247Z",
     "iopub.status.busy": "2022-08-27T06:44:35.835960Z",
     "iopub.status.idle": "2022-08-27T06:44:35.861270Z",
     "shell.execute_reply": "2022-08-27T06:44:35.860577Z"
    },
    "papermill": {
     "duration": 1.853215,
     "end_time": "2022-08-27T06:44:35.862824",
     "exception": false,
     "start_time": "2022-08-27T06:44:34.009609",
     "status": "completed"
    },
    "tags": []
   },
   "outputs": [
    {
     "data": {
      "text/plain": [
       "count    2.964600e+04\n",
       "mean     1.675910e-02\n",
       "std      9.397142e-02\n",
       "min      3.016477e-08\n",
       "25%      4.258195e-03\n",
       "50%      6.433321e-03\n",
       "75%      8.914675e-03\n",
       "max      1.000000e+00\n",
       "dtype: float64"
      ]
     },
     "execution_count": 36,
     "metadata": {},
     "output_type": "execute_result"
    }
   ],
   "source": [
    "gene_corrs_flat.describe()"
   ]
  },
  {
   "cell_type": "code",
   "execution_count": 37,
   "id": "b3815678-0f93-4b35-897b-a9d047a2aa78",
   "metadata": {
    "execution": {
     "iopub.execute_input": "2022-08-27T06:44:39.435737Z",
     "iopub.status.busy": "2022-08-27T06:44:39.435484Z",
     "iopub.status.idle": "2022-08-27T06:44:39.459614Z",
     "shell.execute_reply": "2022-08-27T06:44:39.458958Z"
    },
    "papermill": {
     "duration": 1.846744,
     "end_time": "2022-08-27T06:44:39.461185",
     "exception": false,
     "start_time": "2022-08-27T06:44:37.614441",
     "status": "completed"
    },
    "tags": []
   },
   "outputs": [
    {
     "data": {
      "text/plain": [
       "0.00    3.016477e-08\n",
       "0.05    1.712061e-03\n",
       "0.10    2.581446e-03\n",
       "0.15    3.237913e-03\n",
       "0.20    3.782706e-03\n",
       "0.25    4.258195e-03\n",
       "0.30    4.716813e-03\n",
       "0.35    5.177498e-03\n",
       "0.40    5.591794e-03\n",
       "0.45    6.006807e-03\n",
       "0.50    6.433321e-03\n",
       "0.55    6.874626e-03\n",
       "0.60    7.350160e-03\n",
       "0.65    7.805482e-03\n",
       "0.70    8.315189e-03\n",
       "0.75    8.914675e-03\n",
       "0.80    9.611284e-03\n",
       "0.85    1.043947e-02\n",
       "0.90    1.160386e-02\n",
       "0.95    1.365412e-02\n",
       "dtype: float64"
      ]
     },
     "metadata": {},
     "output_type": "display_data"
    }
   ],
   "source": [
    "gene_corrs_quantiles = gene_corrs_flat.quantile(np.arange(0, 1, 0.05))\n",
    "display(gene_corrs_quantiles)"
   ]
  },
  {
   "cell_type": "markdown",
   "id": "87134509-b145-4a10-8bc9-b7e914c2b0fa",
   "metadata": {
    "papermill": {
     "duration": 1.815511,
     "end_time": "2022-08-27T06:44:43.043099",
     "exception": false,
     "start_time": "2022-08-27T06:44:41.227588",
     "status": "completed"
    },
    "tags": []
   },
   "source": [
    "## Positive definiteness"
   ]
  },
  {
   "cell_type": "code",
   "execution_count": 38,
   "id": "07d9a9a1-a4f7-48aa-b916-6d42a8cc6186",
   "metadata": {
    "execution": {
     "iopub.execute_input": "2022-08-27T06:44:46.620490Z",
     "iopub.status.busy": "2022-08-27T06:44:46.620215Z",
     "iopub.status.idle": "2022-08-27T06:44:46.659673Z",
     "shell.execute_reply": "2022-08-27T06:44:46.659168Z"
    },
    "papermill": {
     "duration": 1.855956,
     "end_time": "2022-08-27T06:44:46.661139",
     "exception": false,
     "start_time": "2022-08-27T06:44:44.805183",
     "status": "completed"
    },
    "tags": []
   },
   "outputs": [
    {
     "data": {
      "text/plain": [
       "0"
      ]
     },
     "metadata": {},
     "output_type": "display_data"
    },
    {
     "data": {
      "text/plain": [
       "array([], dtype=float64)"
      ]
     },
     "metadata": {},
     "output_type": "display_data"
    }
   ],
   "source": [
    "# print negative eigenvalues\n",
    "eigs = np.linalg.eigvals(gene_corrs_df.to_numpy())\n",
    "display(len(eigs[eigs < 0]))\n",
    "display(eigs[eigs < 0])"
   ]
  },
  {
   "cell_type": "code",
   "execution_count": 39,
   "id": "6e218436-c3c5-4028-8c94-a4fa6260efce",
   "metadata": {
    "execution": {
     "iopub.execute_input": "2022-08-27T06:44:50.241051Z",
     "iopub.status.busy": "2022-08-27T06:44:50.240774Z",
     "iopub.status.idle": "2022-08-27T06:44:50.265440Z",
     "shell.execute_reply": "2022-08-27T06:44:50.264763Z"
    },
    "papermill": {
     "duration": 1.838666,
     "end_time": "2022-08-27T06:44:50.266886",
     "exception": false,
     "start_time": "2022-08-27T06:44:48.428220",
     "status": "completed"
    },
    "tags": []
   },
   "outputs": [
    {
     "name": "stdout",
     "output_type": "stream",
     "text": [
      "Works!\n"
     ]
    }
   ],
   "source": [
    "try:\n",
    "    chol_mat = np.linalg.cholesky(gene_corrs_df.to_numpy())\n",
    "    cov_inv = np.linalg.inv(chol_mat)\n",
    "    print(\"Works!\")\n",
    "except Exception as e:\n",
    "    print(f\"Cholesky decomposition failed: {str(e)}\")"
   ]
  },
  {
   "cell_type": "code",
   "execution_count": 40,
   "id": "dd8827fb-faf9-4c7c-9454-015e94752706",
   "metadata": {
    "execution": {
     "iopub.execute_input": "2022-08-27T06:44:53.890953Z",
     "iopub.status.busy": "2022-08-27T06:44:53.890698Z",
     "iopub.status.idle": "2022-08-27T06:44:53.915218Z",
     "shell.execute_reply": "2022-08-27T06:44:53.914576Z"
    },
    "papermill": {
     "duration": 1.880686,
     "end_time": "2022-08-27T06:44:53.916632",
     "exception": false,
     "start_time": "2022-08-27T06:44:52.035946",
     "status": "completed"
    },
    "tags": []
   },
   "outputs": [
    {
     "name": "stdout",
     "output_type": "stream",
     "text": [
      "Works!\n"
     ]
    }
   ],
   "source": [
    "try:\n",
    "    # decomposition used by statsmodels.GLS\n",
    "    cholsigmainv = np.linalg.cholesky(np.linalg.inv(gene_corrs_df.to_numpy())).T\n",
    "    print(\"Works!\")\n",
    "except Exception as e:\n",
    "    print(f\"Cholesky decomposition failed (statsmodels.GLS): {str(e)}\")"
   ]
  },
  {
   "cell_type": "markdown",
   "id": "8e60a080-edb2-4e9c-b2ef-22961693200c",
   "metadata": {
    "papermill": {
     "duration": 1.811337,
     "end_time": "2022-08-27T06:44:57.487331",
     "exception": false,
     "start_time": "2022-08-27T06:44:55.675994",
     "status": "completed"
    },
    "tags": []
   },
   "source": [
    "## Plot: distribution"
   ]
  },
  {
   "cell_type": "code",
   "execution_count": 41,
   "id": "8301126b-a7d4-4744-9c7d-f0f86eb6f54c",
   "metadata": {
    "execution": {
     "iopub.execute_input": "2022-08-27T06:45:01.092804Z",
     "iopub.status.busy": "2022-08-27T06:45:01.092550Z",
     "iopub.status.idle": "2022-08-27T06:45:07.425868Z",
     "shell.execute_reply": "2022-08-27T06:45:07.425160Z"
    },
    "papermill": {
     "duration": 8.17221,
     "end_time": "2022-08-27T06:45:07.427439",
     "exception": false,
     "start_time": "2022-08-27T06:44:59.255229",
     "status": "completed"
    },
    "tags": []
   },
   "outputs": [
    {
     "data": {
      "image/png": "[encoded data removed]",
      "text/plain": [
       "<Figure size 504x504 with 1 Axes>"
      ]
     },
     "metadata": {
      "needs_background": "light"
     },
     "output_type": "display_data"
    }
   ],
   "source": [
    "with sns.plotting_context(\"paper\", font_scale=1.5):\n",
    "    g = sns.displot(gene_corrs_flat, kde=True, height=7)\n",
    "    g.ax.set_title(\n",
    "        f\"Distribution of gene correlation values in chromosome {CHROMOSOME}\"\n",
    "    )"
   ]
  },
  {
   "cell_type": "markdown",
   "id": "cbd52bca-d878-4a2f-b684-5c83aa3038d4",
   "metadata": {
    "papermill": {
     "duration": 1.77205,
     "end_time": "2022-08-27T06:45:10.961315",
     "exception": false,
     "start_time": "2022-08-27T06:45:09.189265",
     "status": "completed"
    },
    "tags": []
   },
   "source": [
    "## Plot: heatmap"
   ]
  },
  {
   "cell_type": "code",
   "execution_count": 42,
   "id": "d03fe63a-c7b2-4fb9-a53c-db362ce843c9",
   "metadata": {
    "execution": {
     "iopub.execute_input": "2022-08-27T06:45:14.566041Z",
     "iopub.status.busy": "2022-08-27T06:45:14.565761Z",
     "iopub.status.idle": "2022-08-27T06:45:14.816904Z",
     "shell.execute_reply": "2022-08-27T06:45:14.816061Z"
    },
    "papermill": {
     "duration": 2.056528,
     "end_time": "2022-08-27T06:45:14.818912",
     "exception": false,
     "start_time": "2022-08-27T06:45:12.762384",
     "status": "completed"
    },
    "tags": []
   },
   "outputs": [
    {
     "data": {
      "text/plain": [
       "'0.0 / 0.05'"
      ]
     },
     "metadata": {},
     "output_type": "display_data"
    }
   ],
   "source": [
    "vmin_val = min(0.00, gene_corrs_quantiles[0.10])\n",
    "vmax_val = max(0.05, gene_corrs_quantiles[0.90])\n",
    "display(f\"{vmin_val} / {vmax_val}\")"
   ]
  },
  {
   "cell_type": "code",
   "execution_count": 43,
   "id": "dc41b70b-5bcc-4d9e-9f33-a22c4a94dab5",
   "metadata": {
    "execution": {
     "iopub.execute_input": "2022-08-27T06:45:18.416308Z",
     "iopub.status.busy": "2022-08-27T06:45:18.416023Z",
     "iopub.status.idle": "2022-08-27T06:45:18.635194Z",
     "shell.execute_reply": "2022-08-27T06:45:18.634604Z"
    },
    "papermill": {
     "duration": 1.987903,
     "end_time": "2022-08-27T06:45:18.636771",
     "exception": false,
     "start_time": "2022-08-27T06:45:16.648868",
     "status": "completed"
    },
    "tags": []
   },
   "outputs": [
    {
     "data": {
      "text/plain": [
       "Text(0.5, 1.0, 'Gene correlations in chromosome 10')"
      ]
     },
     "execution_count": 43,
     "metadata": {},
     "output_type": "execute_result"
    },
    {
     "data": {
      "image/png": "[encoded data removed]",
      "text/plain": [
       "<Figure size 720x720 with 2 Axes>"
      ]
     },
     "metadata": {
      "needs_background": "light"
     },
     "output_type": "display_data"
    }
   ],
   "source": [
    "f, ax = plt.subplots(figsize=(10, 10))\n",
    "sns.heatmap(\n",
    "    gene_corrs_df,\n",
    "    xticklabels=False,\n",
    "    yticklabels=False,\n",
    "    square=True,\n",
    "    vmin=vmin_val,\n",
    "    vmax=vmax_val,\n",
    "    cmap=\"rocket_r\",\n",
    "    ax=ax,\n",
    ")\n",
    "ax.set_title(f\"Gene correlations in chromosome {CHROMOSOME}\")"
   ]
  },
  {
   "cell_type": "code",
   "execution_count": null,
   "id": "b25e3ead",
   "metadata": {
    "papermill": {
     "duration": 1.765425,
     "end_time": "2022-08-27T06:45:22.230765",
     "exception": false,
     "start_time": "2022-08-27T06:45:20.465340",
     "status": "completed"
    },
    "tags": []
   },
   "outputs": [],
   "source": []
  }
 ],
 "metadata": {
  "jupytext": {
   "cell_metadata_filter": "all,-execution,-papermill,-trusted",
   "formats": "ipynb,py//py:percent"
  },
  "kernelspec": {
   "display_name": "Python 3 (ipykernel)",
   "language": "python",
   "name": "python3"
  },
  "language_info": {
   "codemirror_mode": {
    "name": "ipython",
    "version": 3
   },
   "file_extension": ".py",
   "mimetype": "text/x-python",
   "name": "python",
   "nbconvert_exporter": "python",
   "pygments_lexer": "ipython3",
   "version": "3.8.13"
  },
  "papermill": {
   "default_parameters": {},
   "duration": 2774.801804,
   "end_time": "2022-08-27T06:45:27.057242",
   "environment_variables": {},
   "exception": null,
   "input_path": "nbs/15_gsa_gls/10-gene_expr_correlations.ipynb",
   "output_path": "nbs/15_gsa_gls/gene_corrs/cohorts/phenomexcan_rapid_gwas/gtex_v8/mashr/10-gene_expr_corrs/10-gene_expr_correlations-chr10.run.ipynb",
   "parameters": {
    "CHROMOSOME": 10,
    "COHORT_NAME": "phenomexcan_rapid_gwas",
    "EQTL_MODEL": "MASHR",
    "REFERENCE_PANEL": "GTEX_V8"
   },
   "start_time": "2022-08-27T05:59:12.255438",
   "version": "2.2.2"
  }
 },
 "nbformat": 4,
 "nbformat_minor": 5
}
