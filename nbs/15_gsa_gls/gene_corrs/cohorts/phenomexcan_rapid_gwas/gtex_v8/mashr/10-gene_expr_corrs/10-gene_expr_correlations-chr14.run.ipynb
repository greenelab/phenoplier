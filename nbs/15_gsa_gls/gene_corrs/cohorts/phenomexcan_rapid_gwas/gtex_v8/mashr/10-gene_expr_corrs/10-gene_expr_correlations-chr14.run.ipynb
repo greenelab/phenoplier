{
 "cells": [
  {
   "cell_type": "markdown",
   "id": "7a6632fb",
   "metadata": {
    "papermill": {
     "duration": 0.034112,
     "end_time": "2022-08-27T05:59:17.873924",
     "exception": false,
     "start_time": "2022-08-27T05:59:17.839812",
     "status": "completed"
    },
    "tags": []
   },
   "source": [
    "# Description"
   ]
  },
  {
   "cell_type": "markdown",
   "id": "7097c346",
   "metadata": {
    "papermill": {
     "duration": 0.016914,
     "end_time": "2022-08-27T05:59:17.982962",
     "exception": false,
     "start_time": "2022-08-27T05:59:17.966048",
     "status": "completed"
    },
    "tags": []
   },
   "source": [
    "(Please, take a look at the README.md file in this directory for instructions on how to run this notebook)\n",
    "\n",
    "This notebook computes predicted expression correlations between all genes in the MultiPLIER models.\n",
    "\n",
    "It also has a parameter set for papermill to run on a single chromosome to run in parallel (see under `Settings` below).\n",
    "\n",
    "This notebook is not directly run. See README.md."
   ]
  },
  {
   "cell_type": "markdown",
   "id": "c61d8427",
   "metadata": {
    "papermill": {
     "duration": 0.01459,
     "end_time": "2022-08-27T05:59:18.013399",
     "exception": false,
     "start_time": "2022-08-27T05:59:17.998809",
     "status": "completed"
    },
    "tags": []
   },
   "source": [
    "# Modules"
   ]
  },
  {
   "cell_type": "code",
   "execution_count": 1,
   "id": "bbc0234f",
   "metadata": {
    "execution": {
     "iopub.execute_input": "2022-08-27T05:59:18.045932Z",
     "iopub.status.busy": "2022-08-27T05:59:18.045554Z",
     "iopub.status.idle": "2022-08-27T05:59:18.169129Z",
     "shell.execute_reply": "2022-08-27T05:59:18.168040Z"
    },
    "papermill": {
     "duration": 0.144532,
     "end_time": "2022-08-27T05:59:18.172706",
     "exception": false,
     "start_time": "2022-08-27T05:59:18.028174",
     "status": "completed"
    },
    "tags": []
   },
   "outputs": [],
   "source": [
    "%load_ext autoreload\n",
    "%autoreload 2"
   ]
  },
  {
   "cell_type": "code",
   "execution_count": 2,
   "id": "1d5f5a59",
   "metadata": {
    "execution": {
     "iopub.execute_input": "2022-08-27T05:59:18.209499Z",
     "iopub.status.busy": "2022-08-27T05:59:18.209167Z",
     "iopub.status.idle": "2022-08-27T05:59:24.732914Z",
     "shell.execute_reply": "2022-08-27T05:59:24.731744Z"
    },
    "papermill": {
     "duration": 6.547652,
     "end_time": "2022-08-27T05:59:24.736586",
     "exception": false,
     "start_time": "2022-08-27T05:59:18.188934",
     "status": "completed"
    },
    "tags": []
   },
   "outputs": [],
   "source": [
    "from random import sample, seed\n",
    "import warnings\n",
    "from pathlib import Path\n",
    "import pickle\n",
    "import traceback\n",
    "\n",
    "import numpy as np\n",
    "from scipy.spatial.distance import squareform\n",
    "import pandas as pd\n",
    "from tqdm import tqdm\n",
    "import matplotlib.pyplot as plt\n",
    "import seaborn as sns\n",
    "\n",
    "import conf\n",
    "from entity import Gene"
   ]
  },
  {
   "cell_type": "markdown",
   "id": "1eac24b5",
   "metadata": {
    "papermill": {
     "duration": 0.013376,
     "end_time": "2022-08-27T05:59:24.797417",
     "exception": false,
     "start_time": "2022-08-27T05:59:24.784041",
     "status": "completed"
    },
    "tags": []
   },
   "source": [
    "# Settings"
   ]
  },
  {
   "cell_type": "code",
   "execution_count": 3,
   "id": "ca4560ba",
   "metadata": {
    "execution": {
     "iopub.execute_input": "2022-08-27T05:59:24.830017Z",
     "iopub.status.busy": "2022-08-27T05:59:24.829677Z",
     "iopub.status.idle": "2022-08-27T05:59:25.080960Z",
     "shell.execute_reply": "2022-08-27T05:59:25.079889Z"
    },
    "papermill": {
     "duration": 0.271124,
     "end_time": "2022-08-27T05:59:25.084130",
     "exception": false,
     "start_time": "2022-08-27T05:59:24.813006",
     "status": "completed"
    },
    "tags": [
     "parameters"
    ]
   },
   "outputs": [],
   "source": [
    "# a cohort name (it could be something like UK_BIOBANK, etc)\n",
    "COHORT_NAME = None\n",
    "\n",
    "# reference panel such as 1000G or GTEX_V8\n",
    "REFERENCE_PANEL = None\n",
    "\n",
    "# predictions models such as MASHR or ELASTIC_NET\n",
    "EQTL_MODEL = None\n",
    "\n",
    "# this is the default value used in S-MultiXcan to select the\n",
    "# top principal components of the expression correlation matrix\n",
    "SMULTIXCAN_CONDITION_NUMBER = 30\n",
    "\n",
    "# specifies a single chromosome value\n",
    "CHROMOSOME = None\n",
    "\n",
    "# If True, computes the correlation between closeby genes only;\n",
    "# otherwise, it computes correlations for all genes in a chromosome\n",
    "COMPUTE_CORRELATIONS_WITHIN_DISTANCE = False\n",
    "\n",
    "# if True, then it will continue if a gene pair correlation fails,\n",
    "# printing the warning/error for debugging. If False, any warning/error\n",
    "# will be thrown\n",
    "DEBUG_MODE = False"
   ]
  },
  {
   "cell_type": "code",
   "execution_count": 4,
   "id": "08dfea2e",
   "metadata": {
    "execution": {
     "iopub.execute_input": "2022-08-27T05:59:25.126218Z",
     "iopub.status.busy": "2022-08-27T05:59:25.125857Z",
     "iopub.status.idle": "2022-08-27T05:59:25.182368Z",
     "shell.execute_reply": "2022-08-27T05:59:25.181382Z"
    },
    "papermill": {
     "duration": 0.084356,
     "end_time": "2022-08-27T05:59:25.185505",
     "exception": false,
     "start_time": "2022-08-27T05:59:25.101149",
     "status": "completed"
    },
    "tags": [
     "injected-parameters"
    ]
   },
   "outputs": [],
   "source": [
    "# Parameters\n",
    "COHORT_NAME = \"phenomexcan_rapid_gwas\"\n",
    "REFERENCE_PANEL = \"GTEX_V8\"\n",
    "EQTL_MODEL = \"MASHR\"\n",
    "CHROMOSOME = 14\n"
   ]
  },
  {
   "cell_type": "code",
   "execution_count": 5,
   "id": "3190631f-27fc-480f-b18e-571d580425a5",
   "metadata": {
    "execution": {
     "iopub.execute_input": "2022-08-27T05:59:25.237606Z",
     "iopub.status.busy": "2022-08-27T05:59:25.237197Z",
     "iopub.status.idle": "2022-08-27T05:59:25.275587Z",
     "shell.execute_reply": "2022-08-27T05:59:25.274627Z"
    },
    "papermill": {
     "duration": 0.066541,
     "end_time": "2022-08-27T05:59:25.278076",
     "exception": false,
     "start_time": "2022-08-27T05:59:25.211535",
     "status": "completed"
    },
    "tags": []
   },
   "outputs": [
    {
     "data": {
      "text/plain": [
       "'Cohort name: phenomexcan_rapid_gwas'"
      ]
     },
     "metadata": {},
     "output_type": "display_data"
    }
   ],
   "source": [
    "assert COHORT_NAME is not None and len(COHORT_NAME) > 0, \"A cohort name must be given\"\n",
    "\n",
    "COHORT_NAME = COHORT_NAME.lower()\n",
    "display(f\"Cohort name: {COHORT_NAME}\")"
   ]
  },
  {
   "cell_type": "code",
   "execution_count": 6,
   "id": "f53ba19b-0f93-4fa2-a047-63b375939d1a",
   "metadata": {
    "execution": {
     "iopub.execute_input": "2022-08-27T05:59:25.317389Z",
     "iopub.status.busy": "2022-08-27T05:59:25.317076Z",
     "iopub.status.idle": "2022-08-27T05:59:25.345048Z",
     "shell.execute_reply": "2022-08-27T05:59:25.344293Z"
    },
    "papermill": {
     "duration": 0.050436,
     "end_time": "2022-08-27T05:59:25.347204",
     "exception": false,
     "start_time": "2022-08-27T05:59:25.296768",
     "status": "completed"
    },
    "tags": []
   },
   "outputs": [
    {
     "data": {
      "text/plain": [
       "'Reference panel: GTEX_V8'"
      ]
     },
     "metadata": {},
     "output_type": "display_data"
    }
   ],
   "source": [
    "assert (\n",
    "    REFERENCE_PANEL is not None and len(REFERENCE_PANEL) > 0\n",
    "), \"A reference panel must be given\"\n",
    "\n",
    "display(f\"Reference panel: {REFERENCE_PANEL}\")"
   ]
  },
  {
   "cell_type": "code",
   "execution_count": 7,
   "id": "e024d130-c139-429a-9c6e-ccf149e297b0",
   "metadata": {
    "execution": {
     "iopub.execute_input": "2022-08-27T05:59:25.419903Z",
     "iopub.status.busy": "2022-08-27T05:59:25.419517Z",
     "iopub.status.idle": "2022-08-27T05:59:25.476901Z",
     "shell.execute_reply": "2022-08-27T05:59:25.475901Z"
    },
    "papermill": {
     "duration": 0.101219,
     "end_time": "2022-08-27T05:59:25.479829",
     "exception": false,
     "start_time": "2022-08-27T05:59:25.378610",
     "status": "completed"
    },
    "tags": []
   },
   "outputs": [
    {
     "data": {
      "text/plain": [
       "'eQTL model: MASHR) / mashr_'"
      ]
     },
     "metadata": {},
     "output_type": "display_data"
    }
   ],
   "source": [
    "assert (\n",
    "    EQTL_MODEL is not None and len(EQTL_MODEL) > 0\n",
    "), \"A prediction/eQTL model must be given\"\n",
    "\n",
    "EQTL_MODEL_FILES_PREFIX = conf.PHENOMEXCAN[\"PREDICTION_MODELS\"][f\"{EQTL_MODEL}_PREFIX\"]\n",
    "display(f\"eQTL model: {EQTL_MODEL}) / {EQTL_MODEL_FILES_PREFIX}\")"
   ]
  },
  {
   "cell_type": "code",
   "execution_count": 8,
   "id": "552a7f63-a18c-4d3e-bb6a-94f99b431291",
   "metadata": {
    "execution": {
     "iopub.execute_input": "2022-08-27T05:59:25.562401Z",
     "iopub.status.busy": "2022-08-27T05:59:25.561911Z",
     "iopub.status.idle": "2022-08-27T05:59:25.845058Z",
     "shell.execute_reply": "2022-08-27T05:59:25.843950Z"
    },
    "papermill": {
     "duration": 0.328064,
     "end_time": "2022-08-27T05:59:25.848179",
     "exception": false,
     "start_time": "2022-08-27T05:59:25.520115",
     "status": "completed"
    },
    "tags": []
   },
   "outputs": [
    {
     "data": {
      "text/plain": [
       "'S-MultiXcan condition number: 30'"
      ]
     },
     "metadata": {},
     "output_type": "display_data"
    }
   ],
   "source": [
    "assert (\n",
    "    SMULTIXCAN_CONDITION_NUMBER is not None and SMULTIXCAN_CONDITION_NUMBER > 0\n",
    "), \"The S-MultiXcan condition number (positive integer) must be given\"\n",
    "\n",
    "display(f\"S-MultiXcan condition number: {SMULTIXCAN_CONDITION_NUMBER}\")"
   ]
  },
  {
   "cell_type": "code",
   "execution_count": 9,
   "id": "f34a336f-548e-4afe-8955-90eaea4f42c6",
   "metadata": {
    "execution": {
     "iopub.execute_input": "2022-08-27T05:59:25.936249Z",
     "iopub.status.busy": "2022-08-27T05:59:25.935826Z",
     "iopub.status.idle": "2022-08-27T05:59:26.491285Z",
     "shell.execute_reply": "2022-08-27T05:59:26.490150Z"
    },
    "papermill": {
     "duration": 0.605481,
     "end_time": "2022-08-27T05:59:26.494604",
     "exception": false,
     "start_time": "2022-08-27T05:59:25.889123",
     "status": "completed"
    },
    "tags": []
   },
   "outputs": [
    {
     "data": {
      "text/plain": [
       "'Working on chromosome 14'"
      ]
     },
     "metadata": {},
     "output_type": "display_data"
    }
   ],
   "source": [
    "assert CHROMOSOME is not None and (\n",
    "    1 <= CHROMOSOME <= 22\n",
    "), \"You have to select one chromosome (format: number between 1 and 22)\"\n",
    "\n",
    "# CHROMOSOME = str(CHROMOSOME)\n",
    "display(f\"Working on chromosome {CHROMOSOME}\")"
   ]
  },
  {
   "cell_type": "code",
   "execution_count": 10,
   "id": "ab8e96e8-06b5-4363-9dcd-dc4d78cc27f7",
   "metadata": {
    "execution": {
     "iopub.execute_input": "2022-08-27T05:59:26.529028Z",
     "iopub.status.busy": "2022-08-27T05:59:26.528648Z",
     "iopub.status.idle": "2022-08-27T05:59:26.561963Z",
     "shell.execute_reply": "2022-08-27T05:59:26.561060Z"
    },
    "papermill": {
     "duration": 0.05282,
     "end_time": "2022-08-27T05:59:26.564321",
     "exception": false,
     "start_time": "2022-08-27T05:59:26.511501",
     "status": "completed"
    },
    "tags": []
   },
   "outputs": [
    {
     "data": {
      "text/plain": [
       "'Compute correlation within distance False'"
      ]
     },
     "metadata": {},
     "output_type": "display_data"
    }
   ],
   "source": [
    "display(f\"Compute correlation within distance {COMPUTE_CORRELATIONS_WITHIN_DISTANCE}\")"
   ]
  },
  {
   "cell_type": "code",
   "execution_count": 11,
   "id": "396392dc-0340-4540-9b02-e182b833f909",
   "metadata": {
    "execution": {
     "iopub.execute_input": "2022-08-27T05:59:26.594504Z",
     "iopub.status.busy": "2022-08-27T05:59:26.594219Z",
     "iopub.status.idle": "2022-08-27T05:59:26.625827Z",
     "shell.execute_reply": "2022-08-27T05:59:26.625119Z"
    },
    "papermill": {
     "duration": 0.050287,
     "end_time": "2022-08-27T05:59:26.627817",
     "exception": false,
     "start_time": "2022-08-27T05:59:26.577530",
     "status": "completed"
    },
    "tags": []
   },
   "outputs": [
    {
     "data": {
      "text/plain": [
       "'Using output dir base: /project/ritchie20/projects/phenoplier/base/results/gls/gene_corrs/cohorts/phenomexcan_rapid_gwas/gtex_v8/mashr'"
      ]
     },
     "metadata": {},
     "output_type": "display_data"
    }
   ],
   "source": [
    "OUTPUT_DIR_BASE = (\n",
    "    conf.RESULTS[\"GLS\"]\n",
    "    / \"gene_corrs\"\n",
    "    / \"cohorts\"\n",
    "    / COHORT_NAME\n",
    "    / REFERENCE_PANEL.lower()\n",
    "    / EQTL_MODEL.lower()\n",
    ")\n",
    "OUTPUT_DIR_BASE.mkdir(parents=True, exist_ok=True)\n",
    "\n",
    "display(f\"Using output dir base: {OUTPUT_DIR_BASE}\")"
   ]
  },
  {
   "cell_type": "markdown",
   "id": "d2ba085e",
   "metadata": {
    "papermill": {
     "duration": 0.011241,
     "end_time": "2022-08-27T05:59:26.650715",
     "exception": false,
     "start_time": "2022-08-27T05:59:26.639474",
     "status": "completed"
    },
    "tags": []
   },
   "source": [
    "# Load data"
   ]
  },
  {
   "cell_type": "markdown",
   "id": "7dcb8db7",
   "metadata": {
    "papermill": {
     "duration": 0.012033,
     "end_time": "2022-08-27T05:59:26.673864",
     "exception": false,
     "start_time": "2022-08-27T05:59:26.661831",
     "status": "completed"
    },
    "tags": []
   },
   "source": [
    "## GWAS variants"
   ]
  },
  {
   "cell_type": "code",
   "execution_count": 12,
   "id": "29434c4e-8cd3-4b9b-82e4-b5a251d9dd19",
   "metadata": {
    "execution": {
     "iopub.execute_input": "2022-08-27T05:59:26.699066Z",
     "iopub.status.busy": "2022-08-27T05:59:26.698874Z",
     "iopub.status.idle": "2022-08-27T05:59:29.126153Z",
     "shell.execute_reply": "2022-08-27T05:59:29.125248Z"
    },
    "papermill": {
     "duration": 2.440632,
     "end_time": "2022-08-27T05:59:29.128178",
     "exception": false,
     "start_time": "2022-08-27T05:59:26.687546",
     "status": "completed"
    },
    "tags": []
   },
   "outputs": [],
   "source": [
    "with open(OUTPUT_DIR_BASE / \"gwas_variant_ids.pkl\", \"rb\") as handle:\n",
    "    gwas_variants_ids_set = pickle.load(handle)"
   ]
  },
  {
   "cell_type": "code",
   "execution_count": 13,
   "id": "b9d9dec2-4a76-4bf9-bde2-e24c95acb8a0",
   "metadata": {
    "execution": {
     "iopub.execute_input": "2022-08-27T05:59:29.149253Z",
     "iopub.status.busy": "2022-08-27T05:59:29.149049Z",
     "iopub.status.idle": "2022-08-27T05:59:29.175073Z",
     "shell.execute_reply": "2022-08-27T05:59:29.174487Z"
    },
    "papermill": {
     "duration": 0.037551,
     "end_time": "2022-08-27T05:59:29.176482",
     "exception": false,
     "start_time": "2022-08-27T05:59:29.138931",
     "status": "completed"
    },
    "tags": []
   },
   "outputs": [
    {
     "data": {
      "text/plain": [
       "8496088"
      ]
     },
     "execution_count": 13,
     "metadata": {},
     "output_type": "execute_result"
    }
   ],
   "source": [
    "len(gwas_variants_ids_set)"
   ]
  },
  {
   "cell_type": "code",
   "execution_count": 14,
   "id": "4235b06a-6034-4ee4-a0a3-2ae35d122418",
   "metadata": {
    "execution": {
     "iopub.execute_input": "2022-08-27T05:59:29.198204Z",
     "iopub.status.busy": "2022-08-27T05:59:29.198016Z",
     "iopub.status.idle": "2022-08-27T05:59:29.746913Z",
     "shell.execute_reply": "2022-08-27T05:59:29.746259Z"
    },
    "papermill": {
     "duration": 0.561668,
     "end_time": "2022-08-27T05:59:29.748426",
     "exception": false,
     "start_time": "2022-08-27T05:59:29.186758",
     "status": "completed"
    },
    "tags": []
   },
   "outputs": [
    {
     "data": {
      "text/plain": [
       "['chr5_4852629_T_C_b38',\n",
       " 'chr4_35554870_C_G_b38',\n",
       " 'chr21_31695114_C_T_b38',\n",
       " 'chr7_8328583_C_T_b38',\n",
       " 'chr15_63991111_G_C_b38']"
      ]
     },
     "execution_count": 14,
     "metadata": {},
     "output_type": "execute_result"
    }
   ],
   "source": [
    "list(gwas_variants_ids_set)[:5]"
   ]
  },
  {
   "cell_type": "markdown",
   "id": "07866999-2305-41f9-a144-e69c9122c212",
   "metadata": {
    "papermill": {
     "duration": 0.008864,
     "end_time": "2022-08-27T05:59:29.767022",
     "exception": false,
     "start_time": "2022-08-27T05:59:29.758158",
     "status": "completed"
    },
    "tags": []
   },
   "source": [
    "## S-PrediXcan tissue models"
   ]
  },
  {
   "cell_type": "code",
   "execution_count": 15,
   "id": "780611d9-77c8-405f-90a4-f271f7b09397",
   "metadata": {
    "execution": {
     "iopub.execute_input": "2022-08-27T05:59:29.786544Z",
     "iopub.status.busy": "2022-08-27T05:59:29.786347Z",
     "iopub.status.idle": "2022-08-27T05:59:30.668126Z",
     "shell.execute_reply": "2022-08-27T05:59:30.667553Z"
    },
    "papermill": {
     "duration": 0.893521,
     "end_time": "2022-08-27T05:59:30.670001",
     "exception": false,
     "start_time": "2022-08-27T05:59:29.776480",
     "status": "completed"
    },
    "tags": []
   },
   "outputs": [],
   "source": [
    "spredixcan_genes_models = pd.read_pickle(OUTPUT_DIR_BASE / \"gene_tissues.pkl\")"
   ]
  },
  {
   "cell_type": "code",
   "execution_count": 16,
   "id": "726dd1f6-9557-4225-91fa-b3b879ea96e1",
   "metadata": {
    "execution": {
     "iopub.execute_input": "2022-08-27T05:59:30.716581Z",
     "iopub.status.busy": "2022-08-27T05:59:30.716386Z",
     "iopub.status.idle": "2022-08-27T05:59:31.413009Z",
     "shell.execute_reply": "2022-08-27T05:59:31.411902Z"
    },
    "papermill": {
     "duration": 0.724385,
     "end_time": "2022-08-27T05:59:31.416244",
     "exception": false,
     "start_time": "2022-08-27T05:59:30.691859",
     "status": "completed"
    },
    "tags": []
   },
   "outputs": [
    {
     "data": {
      "text/plain": [
       "(6428, 3)"
      ]
     },
     "execution_count": 16,
     "metadata": {},
     "output_type": "execute_result"
    }
   ],
   "source": [
    "spredixcan_genes_models.shape"
   ]
  },
  {
   "cell_type": "code",
   "execution_count": 17,
   "id": "944a1b48-222c-4eb0-b252-b9de2cbca215",
   "metadata": {
    "execution": {
     "iopub.execute_input": "2022-08-27T05:59:31.462793Z",
     "iopub.status.busy": "2022-08-27T05:59:31.462414Z",
     "iopub.status.idle": "2022-08-27T05:59:31.551319Z",
     "shell.execute_reply": "2022-08-27T05:59:31.550327Z"
    },
    "papermill": {
     "duration": 0.114503,
     "end_time": "2022-08-27T05:59:31.554076",
     "exception": false,
     "start_time": "2022-08-27T05:59:31.439573",
     "status": "completed"
    },
    "tags": []
   },
   "outputs": [
    {
     "data": {
      "text/html": [
       "<div>\n",
       "<style scoped>\n",
       "    .dataframe tbody tr th:only-of-type {\n",
       "        vertical-align: middle;\n",
       "    }\n",
       "\n",
       "    .dataframe tbody tr th {\n",
       "        vertical-align: top;\n",
       "    }\n",
       "\n",
       "    .dataframe thead th {\n",
       "        text-align: right;\n",
       "    }\n",
       "</style>\n",
       "<table border=\"1\" class=\"dataframe\">\n",
       "  <thead>\n",
       "    <tr style=\"text-align: right;\">\n",
       "      <th></th>\n",
       "      <th>gene_name</th>\n",
       "      <th>tissue</th>\n",
       "      <th>n_tissues</th>\n",
       "    </tr>\n",
       "    <tr>\n",
       "      <th>gene_id</th>\n",
       "      <th></th>\n",
       "      <th></th>\n",
       "      <th></th>\n",
       "    </tr>\n",
       "  </thead>\n",
       "  <tbody>\n",
       "    <tr>\n",
       "      <th>ENSG00000000419</th>\n",
       "      <td>DPM1</td>\n",
       "      <td>(Brain_Substantia_nigra, Brain_Hypothalamus)</td>\n",
       "      <td>2</td>\n",
       "    </tr>\n",
       "    <tr>\n",
       "      <th>ENSG00000000938</th>\n",
       "      <td>FGR</td>\n",
       "      <td>(Muscle_Skeletal, Stomach, Artery_Aorta, Brain...</td>\n",
       "      <td>36</td>\n",
       "    </tr>\n",
       "    <tr>\n",
       "      <th>ENSG00000000971</th>\n",
       "      <td>CFH</td>\n",
       "      <td>(Stomach, Artery_Aorta, Brain_Cerebellar_Hemis...</td>\n",
       "      <td>34</td>\n",
       "    </tr>\n",
       "    <tr>\n",
       "      <th>ENSG00000001084</th>\n",
       "      <td>GCLC</td>\n",
       "      <td>(Muscle_Skeletal, Artery_Aorta, Brain_Cerebell...</td>\n",
       "      <td>33</td>\n",
       "    </tr>\n",
       "    <tr>\n",
       "      <th>ENSG00000001167</th>\n",
       "      <td>NFYA</td>\n",
       "      <td>(Muscle_Skeletal, Stomach, Artery_Aorta, Brain...</td>\n",
       "      <td>40</td>\n",
       "    </tr>\n",
       "  </tbody>\n",
       "</table>\n",
       "</div>"
      ],
      "text/plain": [
       "                gene_name                                             tissue  \\\n",
       "gene_id                                                                        \n",
       "ENSG00000000419      DPM1       (Brain_Substantia_nigra, Brain_Hypothalamus)   \n",
       "ENSG00000000938       FGR  (Muscle_Skeletal, Stomach, Artery_Aorta, Brain...   \n",
       "ENSG00000000971       CFH  (Stomach, Artery_Aorta, Brain_Cerebellar_Hemis...   \n",
       "ENSG00000001084      GCLC  (Muscle_Skeletal, Artery_Aorta, Brain_Cerebell...   \n",
       "ENSG00000001167      NFYA  (Muscle_Skeletal, Stomach, Artery_Aorta, Brain...   \n",
       "\n",
       "                 n_tissues  \n",
       "gene_id                     \n",
       "ENSG00000000419          2  \n",
       "ENSG00000000938         36  \n",
       "ENSG00000000971         34  \n",
       "ENSG00000001084         33  \n",
       "ENSG00000001167         40  "
      ]
     },
     "execution_count": 17,
     "metadata": {},
     "output_type": "execute_result"
    }
   ],
   "source": [
    "spredixcan_genes_models.head()"
   ]
  },
  {
   "cell_type": "code",
   "execution_count": 18,
   "id": "d1c11bb1-be0b-4f40-b360-633d6827109f",
   "metadata": {
    "execution": {
     "iopub.execute_input": "2022-08-27T05:59:31.594919Z",
     "iopub.status.busy": "2022-08-27T05:59:31.594582Z",
     "iopub.status.idle": "2022-08-27T05:59:31.627604Z",
     "shell.execute_reply": "2022-08-27T05:59:31.626766Z"
    },
    "papermill": {
     "duration": 0.057513,
     "end_time": "2022-08-27T05:59:31.630037",
     "exception": false,
     "start_time": "2022-08-27T05:59:31.572524",
     "status": "completed"
    },
    "tags": []
   },
   "outputs": [],
   "source": [
    "assert spredixcan_genes_models.index.is_unique"
   ]
  },
  {
   "cell_type": "markdown",
   "id": "a5b5092c-a13e-47c4-a92a-480fcc08f3ae",
   "metadata": {
    "papermill": {
     "duration": 0.0147,
     "end_time": "2022-08-27T05:59:31.661388",
     "exception": false,
     "start_time": "2022-08-27T05:59:31.646688",
     "status": "completed"
    },
    "tags": []
   },
   "source": [
    "## Gene info"
   ]
  },
  {
   "cell_type": "code",
   "execution_count": 19,
   "id": "7d6bb224-88e9-4358-ac10-43a41d92cdad",
   "metadata": {
    "execution": {
     "iopub.execute_input": "2022-08-27T05:59:31.695740Z",
     "iopub.status.busy": "2022-08-27T05:59:31.695479Z",
     "iopub.status.idle": "2022-08-27T05:59:31.737424Z",
     "shell.execute_reply": "2022-08-27T05:59:31.736525Z"
    },
    "papermill": {
     "duration": 0.060384,
     "end_time": "2022-08-27T05:59:31.739807",
     "exception": false,
     "start_time": "2022-08-27T05:59:31.679423",
     "status": "completed"
    },
    "tags": []
   },
   "outputs": [],
   "source": [
    "genes_info = pd.read_pickle(OUTPUT_DIR_BASE / \"genes_info.pkl\")"
   ]
  },
  {
   "cell_type": "code",
   "execution_count": 20,
   "id": "9e32abfa-546d-483e-8c18-d526e9e05903",
   "metadata": {
    "execution": {
     "iopub.execute_input": "2022-08-27T05:59:31.779520Z",
     "iopub.status.busy": "2022-08-27T05:59:31.779177Z",
     "iopub.status.idle": "2022-08-27T05:59:31.823366Z",
     "shell.execute_reply": "2022-08-27T05:59:31.822449Z"
    },
    "papermill": {
     "duration": 0.069043,
     "end_time": "2022-08-27T05:59:31.825881",
     "exception": false,
     "start_time": "2022-08-27T05:59:31.756838",
     "status": "completed"
    },
    "tags": []
   },
   "outputs": [
    {
     "data": {
      "text/plain": [
       "(6428, 7)"
      ]
     },
     "execution_count": 20,
     "metadata": {},
     "output_type": "execute_result"
    }
   ],
   "source": [
    "genes_info.shape"
   ]
  },
  {
   "cell_type": "code",
   "execution_count": 21,
   "id": "d16c3e92-85ec-468a-9a56-e25a9774a1cb",
   "metadata": {
    "execution": {
     "iopub.execute_input": "2022-08-27T05:59:31.868996Z",
     "iopub.status.busy": "2022-08-27T05:59:31.868673Z",
     "iopub.status.idle": "2022-08-27T05:59:31.908804Z",
     "shell.execute_reply": "2022-08-27T05:59:31.907885Z"
    },
    "papermill": {
     "duration": 0.064461,
     "end_time": "2022-08-27T05:59:31.910954",
     "exception": false,
     "start_time": "2022-08-27T05:59:31.846493",
     "status": "completed"
    },
    "tags": []
   },
   "outputs": [
    {
     "data": {
      "text/html": [
       "<div>\n",
       "<style scoped>\n",
       "    .dataframe tbody tr th:only-of-type {\n",
       "        vertical-align: middle;\n",
       "    }\n",
       "\n",
       "    .dataframe tbody tr th {\n",
       "        vertical-align: top;\n",
       "    }\n",
       "\n",
       "    .dataframe thead th {\n",
       "        text-align: right;\n",
       "    }\n",
       "</style>\n",
       "<table border=\"1\" class=\"dataframe\">\n",
       "  <thead>\n",
       "    <tr style=\"text-align: right;\">\n",
       "      <th></th>\n",
       "      <th>name</th>\n",
       "      <th>id</th>\n",
       "      <th>chr</th>\n",
       "      <th>band</th>\n",
       "      <th>start_position</th>\n",
       "      <th>end_position</th>\n",
       "      <th>gene_length</th>\n",
       "    </tr>\n",
       "  </thead>\n",
       "  <tbody>\n",
       "    <tr>\n",
       "      <th>0</th>\n",
       "      <td>ZNF605</td>\n",
       "      <td>ENSG00000196458</td>\n",
       "      <td>12</td>\n",
       "      <td>12q24.33</td>\n",
       "      <td>132918306</td>\n",
       "      <td>132956306</td>\n",
       "      <td>38000</td>\n",
       "    </tr>\n",
       "    <tr>\n",
       "      <th>1</th>\n",
       "      <td>FBP1</td>\n",
       "      <td>ENSG00000165140</td>\n",
       "      <td>9</td>\n",
       "      <td>9q22.32</td>\n",
       "      <td>94603133</td>\n",
       "      <td>94640249</td>\n",
       "      <td>37116</td>\n",
       "    </tr>\n",
       "    <tr>\n",
       "      <th>2</th>\n",
       "      <td>TAL1</td>\n",
       "      <td>ENSG00000162367</td>\n",
       "      <td>1</td>\n",
       "      <td>1p33</td>\n",
       "      <td>47216290</td>\n",
       "      <td>47232220</td>\n",
       "      <td>15930</td>\n",
       "    </tr>\n",
       "    <tr>\n",
       "      <th>3</th>\n",
       "      <td>MPV17</td>\n",
       "      <td>ENSG00000115204</td>\n",
       "      <td>2</td>\n",
       "      <td>2p23.3</td>\n",
       "      <td>27309492</td>\n",
       "      <td>27325680</td>\n",
       "      <td>16188</td>\n",
       "    </tr>\n",
       "    <tr>\n",
       "      <th>4</th>\n",
       "      <td>PTPRN</td>\n",
       "      <td>ENSG00000054356</td>\n",
       "      <td>2</td>\n",
       "      <td>2q35</td>\n",
       "      <td>219289623</td>\n",
       "      <td>219309648</td>\n",
       "      <td>20025</td>\n",
       "    </tr>\n",
       "  </tbody>\n",
       "</table>\n",
       "</div>"
      ],
      "text/plain": [
       "     name               id  chr      band  start_position  end_position  \\\n",
       "0  ZNF605  ENSG00000196458   12  12q24.33       132918306     132956306   \n",
       "1    FBP1  ENSG00000165140    9   9q22.32        94603133      94640249   \n",
       "2    TAL1  ENSG00000162367    1      1p33        47216290      47232220   \n",
       "3   MPV17  ENSG00000115204    2    2p23.3        27309492      27325680   \n",
       "4   PTPRN  ENSG00000054356    2      2q35       219289623     219309648   \n",
       "\n",
       "   gene_length  \n",
       "0        38000  \n",
       "1        37116  \n",
       "2        15930  \n",
       "3        16188  \n",
       "4        20025  "
      ]
     },
     "execution_count": 21,
     "metadata": {},
     "output_type": "execute_result"
    }
   ],
   "source": [
    "genes_info.head()"
   ]
  },
  {
   "cell_type": "markdown",
   "id": "d3843e06",
   "metadata": {
    "papermill": {
     "duration": 0.017382,
     "end_time": "2022-08-27T05:59:31.949729",
     "exception": false,
     "start_time": "2022-08-27T05:59:31.932347",
     "status": "completed"
    },
    "tags": []
   },
   "source": [
    "# Compute correlations"
   ]
  },
  {
   "cell_type": "code",
   "execution_count": 22,
   "id": "cb859c15-d1f3-4006-a74c-2b83c0db9611",
   "metadata": {
    "execution": {
     "iopub.execute_input": "2022-08-27T05:59:31.985939Z",
     "iopub.status.busy": "2022-08-27T05:59:31.985675Z",
     "iopub.status.idle": "2022-08-27T05:59:32.022950Z",
     "shell.execute_reply": "2022-08-27T05:59:32.022229Z"
    },
    "papermill": {
     "duration": 0.057101,
     "end_time": "2022-08-27T05:59:32.024873",
     "exception": false,
     "start_time": "2022-08-27T05:59:31.967772",
     "status": "completed"
    },
    "tags": []
   },
   "outputs": [
    {
     "data": {
      "text/plain": [
       "PosixPath('/project/ritchie20/projects/phenoplier/base/results/gls/gene_corrs/cohorts/phenomexcan_rapid_gwas/gtex_v8/mashr/by_chr/gene_corrs-chr14.pkl')"
      ]
     },
     "metadata": {},
     "output_type": "display_data"
    }
   ],
   "source": [
    "output_dir = OUTPUT_DIR_BASE / \"by_chr\"\n",
    "output_dir.mkdir(exist_ok=True, parents=True)\n",
    "output_file = output_dir / f\"gene_corrs-chr{CHROMOSOME}.pkl\"\n",
    "display(output_file)"
   ]
  },
  {
   "cell_type": "code",
   "execution_count": 23,
   "id": "aa674fe4-6794-4eed-98fa-32b39d1d4ace",
   "metadata": {
    "execution": {
     "iopub.execute_input": "2022-08-27T05:59:32.056586Z",
     "iopub.status.busy": "2022-08-27T05:59:32.056335Z",
     "iopub.status.idle": "2022-08-27T05:59:32.090248Z",
     "shell.execute_reply": "2022-08-27T05:59:32.089504Z"
    },
    "papermill": {
     "duration": 0.051628,
     "end_time": "2022-08-27T05:59:32.092465",
     "exception": false,
     "start_time": "2022-08-27T05:59:32.040837",
     "status": "completed"
    },
    "tags": []
   },
   "outputs": [],
   "source": [
    "warnings.filterwarnings(\"error\")"
   ]
  },
  {
   "cell_type": "code",
   "execution_count": 24,
   "id": "44d5450b-3baf-43f1-9e2e-4b06f1a785f8",
   "metadata": {
    "execution": {
     "iopub.execute_input": "2022-08-27T05:59:32.128287Z",
     "iopub.status.busy": "2022-08-27T05:59:32.128023Z",
     "iopub.status.idle": "2022-08-27T05:59:32.166104Z",
     "shell.execute_reply": "2022-08-27T05:59:32.165196Z"
    },
    "papermill": {
     "duration": 0.05922,
     "end_time": "2022-08-27T05:59:32.168629",
     "exception": false,
     "start_time": "2022-08-27T05:59:32.109409",
     "status": "completed"
    },
    "tags": []
   },
   "outputs": [],
   "source": [
    "# standard checks\n",
    "all_chrs = genes_info[\"chr\"].dropna().unique()\n",
    "assert all_chrs.shape[0] == 22\n",
    "\n",
    "# select chromosome given by the user\n",
    "assert CHROMOSOME in all_chrs"
   ]
  },
  {
   "cell_type": "code",
   "execution_count": 25,
   "id": "2d7c043c-92a7-4d35-991b-fa69ac1e0268",
   "metadata": {
    "execution": {
     "iopub.execute_input": "2022-08-27T05:59:32.208400Z",
     "iopub.status.busy": "2022-08-27T05:59:32.208101Z",
     "iopub.status.idle": "2022-08-27T05:59:32.284995Z",
     "shell.execute_reply": "2022-08-27T05:59:32.283948Z"
    },
    "papermill": {
     "duration": 0.09924,
     "end_time": "2022-08-27T05:59:32.287955",
     "exception": false,
     "start_time": "2022-08-27T05:59:32.188715",
     "status": "completed"
    },
    "tags": []
   },
   "outputs": [
    {
     "name": "stdout",
     "output_type": "stream",
     "text": [
      "Number of genes in chromosome: 209\n"
     ]
    }
   ],
   "source": [
    "# run only on the chromosome specified\n",
    "all_chrs = [CHROMOSOME]\n",
    "genes_chr = genes_info[genes_info[\"chr\"] == CHROMOSOME]\n",
    "\n",
    "# For testing purposes\n",
    "# genes_chr = genes_chr.sample(n=20)\n",
    "\n",
    "print(f\"Number of genes in chromosome: {genes_chr.shape[0]}\", flush=True)"
   ]
  },
  {
   "cell_type": "code",
   "execution_count": 26,
   "id": "916015d8-2979-46d3-a9b9-1cf5a0932c6a",
   "metadata": {
    "execution": {
     "iopub.execute_input": "2022-08-27T05:59:32.334036Z",
     "iopub.status.busy": "2022-08-27T05:59:32.333696Z",
     "iopub.status.idle": "2022-08-27T05:59:32.425186Z",
     "shell.execute_reply": "2022-08-27T05:59:32.424026Z"
    },
    "papermill": {
     "duration": 0.118102,
     "end_time": "2022-08-27T05:59:32.428785",
     "exception": false,
     "start_time": "2022-08-27T05:59:32.310683",
     "status": "completed"
    },
    "tags": []
   },
   "outputs": [],
   "source": [
    "# sort genes by starting position to make visualizations better later\n",
    "genes_chr = genes_chr.sort_values(\"start_position\")"
   ]
  },
  {
   "cell_type": "code",
   "execution_count": 27,
   "id": "a38aa74a-8ad3-47f6-8ef9-56be0e011774",
   "metadata": {
    "execution": {
     "iopub.execute_input": "2022-08-27T05:59:32.481713Z",
     "iopub.status.busy": "2022-08-27T05:59:32.481353Z",
     "iopub.status.idle": "2022-08-27T05:59:32.572275Z",
     "shell.execute_reply": "2022-08-27T05:59:32.571142Z"
    },
    "papermill": {
     "duration": 0.120692,
     "end_time": "2022-08-27T05:59:32.575854",
     "exception": false,
     "start_time": "2022-08-27T05:59:32.455162",
     "status": "completed"
    },
    "tags": []
   },
   "outputs": [],
   "source": [
    "gene_chr_objs = [Gene(ensembl_id=gene_id) for gene_id in genes_chr[\"id\"]]"
   ]
  },
  {
   "cell_type": "code",
   "execution_count": 28,
   "id": "570f974f-13c3-42b6-ad3a-ce99ca885c1a",
   "metadata": {
    "execution": {
     "iopub.execute_input": "2022-08-27T05:59:32.625130Z",
     "iopub.status.busy": "2022-08-27T05:59:32.624776Z",
     "iopub.status.idle": "2022-08-27T05:59:32.655139Z",
     "shell.execute_reply": "2022-08-27T05:59:32.654224Z"
    },
    "papermill": {
     "duration": 0.056681,
     "end_time": "2022-08-27T05:59:32.657550",
     "exception": false,
     "start_time": "2022-08-27T05:59:32.600869",
     "status": "completed"
    },
    "tags": []
   },
   "outputs": [
    {
     "name": "stdout",
     "output_type": "stream",
     "text": [
      "Number of gene combinations: 21736\n"
     ]
    }
   ],
   "source": [
    "n = len(gene_chr_objs)\n",
    "n_comb = int(n * (n - 1) / 2.0)\n",
    "print(f\"Number of gene combinations: {n_comb}\", flush=True)"
   ]
  },
  {
   "cell_type": "code",
   "execution_count": 29,
   "id": "cdbb90a1",
   "metadata": {
    "execution": {
     "iopub.execute_input": "2022-08-27T05:59:32.695566Z",
     "iopub.status.busy": "2022-08-27T05:59:32.695270Z",
     "iopub.status.idle": "2022-08-27T06:31:33.642825Z",
     "shell.execute_reply": "2022-08-27T06:31:33.641359Z"
    },
    "papermill": {
     "duration": 1920.973421,
     "end_time": "2022-08-27T06:31:33.646686",
     "exception": false,
     "start_time": "2022-08-27T05:59:32.673265",
     "status": "completed"
    },
    "tags": []
   },
   "outputs": [
    {
     "name": "stderr",
     "output_type": "stream",
     "text": [
      "ENSG00000182979 / ENSG00000182979: : 21945it [32:00, 11.42it/s]\n"
     ]
    },
    {
     "data": {
      "text/plain": [
       "PosixPath('/project/ritchie20/projects/phenoplier/base/results/gls/gene_corrs/cohorts/phenomexcan_rapid_gwas/gtex_v8/mashr/by_chr/gene_corrs-chr14.pkl')"
      ]
     },
     "metadata": {},
     "output_type": "display_data"
    }
   ],
   "source": [
    "gene_corrs = []\n",
    "gene_corrs_data = np.full(\n",
    "    (n, n),\n",
    "    np.nan,\n",
    "    dtype=np.float64,\n",
    ")\n",
    "\n",
    "i = 0\n",
    "with tqdm(ncols=100, total=n_comb) as pbar:\n",
    "    for gene1_idx in range(0, len(gene_chr_objs)):\n",
    "        gene1_obj = gene_chr_objs[gene1_idx]\n",
    "        gene1_tissues = spredixcan_genes_models.loc[gene1_obj.ensembl_id, \"tissue\"]\n",
    "\n",
    "        for gene2_idx in range(gene1_idx, len(gene_chr_objs)):\n",
    "            gene2_obj = gene_chr_objs[gene2_idx]\n",
    "            gene2_tissues = spredixcan_genes_models.loc[gene2_obj.ensembl_id, \"tissue\"]\n",
    "\n",
    "            pbar.set_description(f\"{gene1_obj.ensembl_id} / {gene2_obj.ensembl_id}\")\n",
    "\n",
    "            try:\n",
    "                r = gene1_obj.get_ssm_correlation(\n",
    "                    other_gene=gene2_obj,\n",
    "                    tissues=gene1_tissues,\n",
    "                    other_tissues=gene2_tissues,\n",
    "                    snps_subset=gwas_variants_ids_set,\n",
    "                    condition_number=SMULTIXCAN_CONDITION_NUMBER,\n",
    "                    reference_panel=REFERENCE_PANEL,\n",
    "                    model_type=EQTL_MODEL,\n",
    "                    use_within_distance=COMPUTE_CORRELATIONS_WITHIN_DISTANCE,\n",
    "                )\n",
    "\n",
    "                if r is None:\n",
    "                    # if r is None, it's very likely because:\n",
    "                    #  * one of the genes has no prediction models\n",
    "                    #  * all the SNPs predictors for the gene are not present in the reference\n",
    "                    #    panel\n",
    "\n",
    "                    r = 0.0\n",
    "\n",
    "                gene_corrs.append(r)\n",
    "\n",
    "                gene_corrs_data[gene1_idx, gene2_idx] = r\n",
    "                gene_corrs_data[gene2_idx, gene1_idx] = r\n",
    "            except Warning as e:\n",
    "                if not DEBUG_MODE:\n",
    "                    raise e\n",
    "\n",
    "                print(\n",
    "                    f\"RuntimeWarning for genes {gene1_obj.ensembl_id} and {gene2_obj.ensembl_id}\",\n",
    "                    flush=True,\n",
    "                )\n",
    "                print(traceback.format_exc(), flush=True)\n",
    "\n",
    "                gene_corrs.append(np.nan)\n",
    "            except Exception as e:\n",
    "                if not DEBUG_MODE:\n",
    "                    raise e\n",
    "\n",
    "                print(\n",
    "                    f\"Exception for genes {gene1_obj.ensembl_id} and {gene2_obj.ensembl_id}\",\n",
    "                    flush=True,\n",
    "                )\n",
    "                print(traceback.format_exc(), flush=True)\n",
    "\n",
    "                gene_corrs.append(np.nan)\n",
    "\n",
    "            pbar.update(1)\n",
    "\n",
    "# create a pandas series\n",
    "gene_corrs_flat = pd.Series(gene_corrs)\n",
    "\n",
    "# save\n",
    "# FIXME: consider saving only the condenced matrix here. See here for\n",
    "# more details: https://github.com/greenelab/phenoplier/pull/38#discussion_r634600813\n",
    "# gene_corrs_data = squareform(np.array(gene_corrs, dtype=np.float64))\n",
    "# np.fill_diagonal(gene_corrs_data, 1.0)\n",
    "\n",
    "gene_chr_ids = [g.ensembl_id for g in gene_chr_objs]\n",
    "gene_corrs_df = pd.DataFrame(\n",
    "    data=gene_corrs_data,\n",
    "    index=gene_chr_ids,\n",
    "    columns=gene_chr_ids,\n",
    ")\n",
    "\n",
    "output_dir.mkdir(exist_ok=True, parents=True)\n",
    "display(output_file)\n",
    "\n",
    "gene_corrs_df.to_pickle(output_file)"
   ]
  },
  {
   "cell_type": "markdown",
   "id": "faa67b51-5373-470f-aa72-2ded53fa6dfe",
   "metadata": {
    "papermill": {
     "duration": 1.301475,
     "end_time": "2022-08-27T06:31:36.264203",
     "exception": false,
     "start_time": "2022-08-27T06:31:34.962728",
     "status": "completed"
    },
    "tags": []
   },
   "source": [
    "# Testing"
   ]
  },
  {
   "cell_type": "code",
   "execution_count": 30,
   "id": "14f7d046-4b55-4896-a56b-990127bcc388",
   "metadata": {
    "execution": {
     "iopub.execute_input": "2022-08-27T06:31:38.815888Z",
     "iopub.status.busy": "2022-08-27T06:31:38.815624Z",
     "iopub.status.idle": "2022-08-27T06:31:39.040633Z",
     "shell.execute_reply": "2022-08-27T06:31:39.040126Z"
    },
    "papermill": {
     "duration": 1.519082,
     "end_time": "2022-08-27T06:31:39.042114",
     "exception": false,
     "start_time": "2022-08-27T06:31:37.523032",
     "status": "completed"
    },
    "tags": []
   },
   "outputs": [
    {
     "data": {
      "text/plain": [
       "(209, 209)"
      ]
     },
     "execution_count": 30,
     "metadata": {},
     "output_type": "execute_result"
    }
   ],
   "source": [
    "gene_corrs_df.shape"
   ]
  },
  {
   "cell_type": "code",
   "execution_count": 31,
   "id": "c7d15414-3297-4537-a7c6-7588c0baeb75",
   "metadata": {
    "execution": {
     "iopub.execute_input": "2022-08-27T06:31:41.638607Z",
     "iopub.status.busy": "2022-08-27T06:31:41.638353Z",
     "iopub.status.idle": "2022-08-27T06:31:41.673481Z",
     "shell.execute_reply": "2022-08-27T06:31:41.672931Z"
    },
    "papermill": {
     "duration": 1.288159,
     "end_time": "2022-08-27T06:31:41.674930",
     "exception": false,
     "start_time": "2022-08-27T06:31:40.386771",
     "status": "completed"
    },
    "tags": []
   },
   "outputs": [
    {
     "data": {
      "text/html": [
       "<div>\n",
       "<style scoped>\n",
       "    .dataframe tbody tr th:only-of-type {\n",
       "        vertical-align: middle;\n",
       "    }\n",
       "\n",
       "    .dataframe tbody tr th {\n",
       "        vertical-align: top;\n",
       "    }\n",
       "\n",
       "    .dataframe thead th {\n",
       "        text-align: right;\n",
       "    }\n",
       "</style>\n",
       "<table border=\"1\" class=\"dataframe\">\n",
       "  <thead>\n",
       "    <tr style=\"text-align: right;\">\n",
       "      <th></th>\n",
       "      <th>ENSG00000136319</th>\n",
       "      <th>ENSG00000129484</th>\n",
       "      <th>ENSG00000129566</th>\n",
       "      <th>ENSG00000100823</th>\n",
       "      <th>ENSG00000198805</th>\n",
       "      <th>ENSG00000214274</th>\n",
       "      <th>ENSG00000258818</th>\n",
       "      <th>ENSG00000169413</th>\n",
       "      <th>ENSG00000169397</th>\n",
       "      <th>ENSG00000169385</th>\n",
       "      <th>...</th>\n",
       "      <th>ENSG00000126215</th>\n",
       "      <th>ENSG00000088808</th>\n",
       "      <th>ENSG00000066735</th>\n",
       "      <th>ENSG00000185100</th>\n",
       "      <th>ENSG00000142208</th>\n",
       "      <th>ENSG00000166428</th>\n",
       "      <th>ENSG00000183484</th>\n",
       "      <th>ENSG00000184916</th>\n",
       "      <th>ENSG00000185024</th>\n",
       "      <th>ENSG00000182979</th>\n",
       "    </tr>\n",
       "  </thead>\n",
       "  <tbody>\n",
       "    <tr>\n",
       "      <th>ENSG00000136319</th>\n",
       "      <td>1.000000</td>\n",
       "      <td>0.368926</td>\n",
       "      <td>0.015669</td>\n",
       "      <td>0.009732</td>\n",
       "      <td>0.010746</td>\n",
       "      <td>0.006974</td>\n",
       "      <td>0.005283</td>\n",
       "      <td>0.008799</td>\n",
       "      <td>0.004029</td>\n",
       "      <td>0.007708</td>\n",
       "      <td>...</td>\n",
       "      <td>0.004434</td>\n",
       "      <td>0.004494</td>\n",
       "      <td>0.006905</td>\n",
       "      <td>0.004193</td>\n",
       "      <td>0.004089</td>\n",
       "      <td>0.004103</td>\n",
       "      <td>0.001541</td>\n",
       "      <td>0.007933</td>\n",
       "      <td>0.003433</td>\n",
       "      <td>0.003028</td>\n",
       "    </tr>\n",
       "    <tr>\n",
       "      <th>ENSG00000129484</th>\n",
       "      <td>0.368926</td>\n",
       "      <td>1.000000</td>\n",
       "      <td>0.009067</td>\n",
       "      <td>0.004869</td>\n",
       "      <td>0.008319</td>\n",
       "      <td>0.004520</td>\n",
       "      <td>0.003827</td>\n",
       "      <td>0.004361</td>\n",
       "      <td>0.003768</td>\n",
       "      <td>0.002429</td>\n",
       "      <td>...</td>\n",
       "      <td>0.005621</td>\n",
       "      <td>0.006244</td>\n",
       "      <td>0.006542</td>\n",
       "      <td>0.003959</td>\n",
       "      <td>0.008598</td>\n",
       "      <td>0.005589</td>\n",
       "      <td>0.002517</td>\n",
       "      <td>0.009510</td>\n",
       "      <td>0.004886</td>\n",
       "      <td>0.003179</td>\n",
       "    </tr>\n",
       "    <tr>\n",
       "      <th>ENSG00000129566</th>\n",
       "      <td>0.015669</td>\n",
       "      <td>0.009067</td>\n",
       "      <td>1.000000</td>\n",
       "      <td>0.038817</td>\n",
       "      <td>0.010472</td>\n",
       "      <td>0.008265</td>\n",
       "      <td>0.009654</td>\n",
       "      <td>0.004178</td>\n",
       "      <td>0.005351</td>\n",
       "      <td>0.005663</td>\n",
       "      <td>...</td>\n",
       "      <td>0.003041</td>\n",
       "      <td>0.003207</td>\n",
       "      <td>0.008552</td>\n",
       "      <td>0.004973</td>\n",
       "      <td>0.007362</td>\n",
       "      <td>0.005293</td>\n",
       "      <td>0.003895</td>\n",
       "      <td>0.005874</td>\n",
       "      <td>0.005600</td>\n",
       "      <td>0.002683</td>\n",
       "    </tr>\n",
       "    <tr>\n",
       "      <th>ENSG00000100823</th>\n",
       "      <td>0.009732</td>\n",
       "      <td>0.004869</td>\n",
       "      <td>0.038817</td>\n",
       "      <td>1.000000</td>\n",
       "      <td>0.292907</td>\n",
       "      <td>0.004823</td>\n",
       "      <td>0.004009</td>\n",
       "      <td>0.010096</td>\n",
       "      <td>0.010190</td>\n",
       "      <td>0.011452</td>\n",
       "      <td>...</td>\n",
       "      <td>0.004454</td>\n",
       "      <td>0.005927</td>\n",
       "      <td>0.007031</td>\n",
       "      <td>0.004454</td>\n",
       "      <td>0.008287</td>\n",
       "      <td>0.009381</td>\n",
       "      <td>0.010434</td>\n",
       "      <td>0.009029</td>\n",
       "      <td>0.005644</td>\n",
       "      <td>0.005463</td>\n",
       "    </tr>\n",
       "    <tr>\n",
       "      <th>ENSG00000198805</th>\n",
       "      <td>0.010746</td>\n",
       "      <td>0.008319</td>\n",
       "      <td>0.010472</td>\n",
       "      <td>0.292907</td>\n",
       "      <td>1.000000</td>\n",
       "      <td>0.003994</td>\n",
       "      <td>0.003859</td>\n",
       "      <td>0.010133</td>\n",
       "      <td>0.005345</td>\n",
       "      <td>0.010828</td>\n",
       "      <td>...</td>\n",
       "      <td>0.005652</td>\n",
       "      <td>0.004323</td>\n",
       "      <td>0.009062</td>\n",
       "      <td>0.003330</td>\n",
       "      <td>0.006583</td>\n",
       "      <td>0.006976</td>\n",
       "      <td>0.004856</td>\n",
       "      <td>0.008469</td>\n",
       "      <td>0.007958</td>\n",
       "      <td>0.002410</td>\n",
       "    </tr>\n",
       "  </tbody>\n",
       "</table>\n",
       "<p>5 rows × 209 columns</p>\n",
       "</div>"
      ],
      "text/plain": [
       "                 ENSG00000136319  ENSG00000129484  ENSG00000129566  \\\n",
       "ENSG00000136319         1.000000         0.368926         0.015669   \n",
       "ENSG00000129484         0.368926         1.000000         0.009067   \n",
       "ENSG00000129566         0.015669         0.009067         1.000000   \n",
       "ENSG00000100823         0.009732         0.004869         0.038817   \n",
       "ENSG00000198805         0.010746         0.008319         0.010472   \n",
       "\n",
       "                 ENSG00000100823  ENSG00000198805  ENSG00000214274  \\\n",
       "ENSG00000136319         0.009732         0.010746         0.006974   \n",
       "ENSG00000129484         0.004869         0.008319         0.004520   \n",
       "ENSG00000129566         0.038817         0.010472         0.008265   \n",
       "ENSG00000100823         1.000000         0.292907         0.004823   \n",
       "ENSG00000198805         0.292907         1.000000         0.003994   \n",
       "\n",
       "                 ENSG00000258818  ENSG00000169413  ENSG00000169397  \\\n",
       "ENSG00000136319         0.005283         0.008799         0.004029   \n",
       "ENSG00000129484         0.003827         0.004361         0.003768   \n",
       "ENSG00000129566         0.009654         0.004178         0.005351   \n",
       "ENSG00000100823         0.004009         0.010096         0.010190   \n",
       "ENSG00000198805         0.003859         0.010133         0.005345   \n",
       "\n",
       "                 ENSG00000169385  ...  ENSG00000126215  ENSG00000088808  \\\n",
       "ENSG00000136319         0.007708  ...         0.004434         0.004494   \n",
       "ENSG00000129484         0.002429  ...         0.005621         0.006244   \n",
       "ENSG00000129566         0.005663  ...         0.003041         0.003207   \n",
       "ENSG00000100823         0.011452  ...         0.004454         0.005927   \n",
       "ENSG00000198805         0.010828  ...         0.005652         0.004323   \n",
       "\n",
       "                 ENSG00000066735  ENSG00000185100  ENSG00000142208  \\\n",
       "ENSG00000136319         0.006905         0.004193         0.004089   \n",
       "ENSG00000129484         0.006542         0.003959         0.008598   \n",
       "ENSG00000129566         0.008552         0.004973         0.007362   \n",
       "ENSG00000100823         0.007031         0.004454         0.008287   \n",
       "ENSG00000198805         0.009062         0.003330         0.006583   \n",
       "\n",
       "                 ENSG00000166428  ENSG00000183484  ENSG00000184916  \\\n",
       "ENSG00000136319         0.004103         0.001541         0.007933   \n",
       "ENSG00000129484         0.005589         0.002517         0.009510   \n",
       "ENSG00000129566         0.005293         0.003895         0.005874   \n",
       "ENSG00000100823         0.009381         0.010434         0.009029   \n",
       "ENSG00000198805         0.006976         0.004856         0.008469   \n",
       "\n",
       "                 ENSG00000185024  ENSG00000182979  \n",
       "ENSG00000136319         0.003433         0.003028  \n",
       "ENSG00000129484         0.004886         0.003179  \n",
       "ENSG00000129566         0.005600         0.002683  \n",
       "ENSG00000100823         0.005644         0.005463  \n",
       "ENSG00000198805         0.007958         0.002410  \n",
       "\n",
       "[5 rows x 209 columns]"
      ]
     },
     "execution_count": 31,
     "metadata": {},
     "output_type": "execute_result"
    }
   ],
   "source": [
    "gene_corrs_df.head()"
   ]
  },
  {
   "cell_type": "markdown",
   "id": "dad6603f-01c6-41fb-a6f6-241051207dd8",
   "metadata": {
    "papermill": {
     "duration": 1.261377,
     "end_time": "2022-08-27T06:31:44.236929",
     "exception": false,
     "start_time": "2022-08-27T06:31:42.975552",
     "status": "completed"
    },
    "tags": []
   },
   "source": [
    "## Standard checks and stats"
   ]
  },
  {
   "cell_type": "code",
   "execution_count": 32,
   "id": "286686af-1b7b-4440-8453-6bdcbd8de19c",
   "metadata": {
    "execution": {
     "iopub.execute_input": "2022-08-27T06:31:46.851325Z",
     "iopub.status.busy": "2022-08-27T06:31:46.851049Z",
     "iopub.status.idle": "2022-08-27T06:31:46.870882Z",
     "shell.execute_reply": "2022-08-27T06:31:46.870397Z"
    },
    "papermill": {
     "duration": 1.364965,
     "end_time": "2022-08-27T06:31:46.872488",
     "exception": false,
     "start_time": "2022-08-27T06:31:45.507523",
     "status": "completed"
    },
    "tags": []
   },
   "outputs": [],
   "source": [
    "assert not gene_corrs_df.isna().any().any()"
   ]
  },
  {
   "cell_type": "code",
   "execution_count": 33,
   "id": "00583efc-7068-4270-ad1e-4a418e91db96",
   "metadata": {
    "execution": {
     "iopub.execute_input": "2022-08-27T06:31:49.435920Z",
     "iopub.status.busy": "2022-08-27T06:31:49.435667Z",
     "iopub.status.idle": "2022-08-27T06:31:49.457828Z",
     "shell.execute_reply": "2022-08-27T06:31:49.457324Z"
    },
    "papermill": {
     "duration": 1.328378,
     "end_time": "2022-08-27T06:31:49.459325",
     "exception": false,
     "start_time": "2022-08-27T06:31:48.130947",
     "status": "completed"
    },
    "tags": []
   },
   "outputs": [
    {
     "data": {
      "text/plain": [
       "1.7641787263789711e-06"
      ]
     },
     "metadata": {},
     "output_type": "display_data"
    }
   ],
   "source": [
    "_min_val = gene_corrs_df.min().min()\n",
    "display(_min_val)\n",
    "assert _min_val >= -0.05"
   ]
  },
  {
   "cell_type": "code",
   "execution_count": 34,
   "id": "d04fb2cf-1050-475b-b855-f5f7cc04092b",
   "metadata": {
    "execution": {
     "iopub.execute_input": "2022-08-27T06:31:52.036901Z",
     "iopub.status.busy": "2022-08-27T06:31:52.036647Z",
     "iopub.status.idle": "2022-08-27T06:31:52.058635Z",
     "shell.execute_reply": "2022-08-27T06:31:52.058053Z"
    },
    "papermill": {
     "duration": 1.32668,
     "end_time": "2022-08-27T06:31:52.060216",
     "exception": false,
     "start_time": "2022-08-27T06:31:50.733536",
     "status": "completed"
    },
    "tags": []
   },
   "outputs": [
    {
     "data": {
      "text/plain": [
       "1.0000000000000033"
      ]
     },
     "metadata": {},
     "output_type": "display_data"
    }
   ],
   "source": [
    "_max_val = gene_corrs_df.max().max()  # this captures the diagonal\n",
    "display(_max_val)\n",
    "assert _max_val <= 1.05"
   ]
  },
  {
   "cell_type": "code",
   "execution_count": 35,
   "id": "96d02c44-1fba-47be-8a93-8f2608420b9c",
   "metadata": {
    "execution": {
     "iopub.execute_input": "2022-08-27T06:31:54.621660Z",
     "iopub.status.busy": "2022-08-27T06:31:54.621405Z",
     "iopub.status.idle": "2022-08-27T06:31:54.640157Z",
     "shell.execute_reply": "2022-08-27T06:31:54.639556Z"
    },
    "papermill": {
     "duration": 1.29252,
     "end_time": "2022-08-27T06:31:54.641730",
     "exception": false,
     "start_time": "2022-08-27T06:31:53.349210",
     "status": "completed"
    },
    "tags": []
   },
   "outputs": [],
   "source": [
    "# check upper triangular values\n",
    "# assert len(gene_corrs) == int(genes_chr.shape[0] * (genes_chr.shape[0] - 1) / 2)"
   ]
  },
  {
   "cell_type": "code",
   "execution_count": 36,
   "id": "fe283586-c348-40e0-8841-f6d97bfb021c",
   "metadata": {
    "execution": {
     "iopub.execute_input": "2022-08-27T06:31:57.193094Z",
     "iopub.status.busy": "2022-08-27T06:31:57.192812Z",
     "iopub.status.idle": "2022-08-27T06:31:57.217347Z",
     "shell.execute_reply": "2022-08-27T06:31:57.216538Z"
    },
    "papermill": {
     "duration": 1.319086,
     "end_time": "2022-08-27T06:31:57.218899",
     "exception": false,
     "start_time": "2022-08-27T06:31:55.899813",
     "status": "completed"
    },
    "tags": []
   },
   "outputs": [
    {
     "data": {
      "text/plain": [
       "count    21945.000000\n",
       "mean         0.018857\n",
       "std          0.101946\n",
       "min          0.000002\n",
       "25%          0.004292\n",
       "50%          0.006273\n",
       "75%          0.008551\n",
       "max          1.000000\n",
       "dtype: float64"
      ]
     },
     "execution_count": 36,
     "metadata": {},
     "output_type": "execute_result"
    }
   ],
   "source": [
    "gene_corrs_flat.describe()"
   ]
  },
  {
   "cell_type": "code",
   "execution_count": 37,
   "id": "b3815678-0f93-4b35-897b-a9d047a2aa78",
   "metadata": {
    "execution": {
     "iopub.execute_input": "2022-08-27T06:31:59.790768Z",
     "iopub.status.busy": "2022-08-27T06:31:59.790515Z",
     "iopub.status.idle": "2022-08-27T06:31:59.814009Z",
     "shell.execute_reply": "2022-08-27T06:31:59.813318Z"
    },
    "papermill": {
     "duration": 1.281335,
     "end_time": "2022-08-27T06:31:59.815582",
     "exception": false,
     "start_time": "2022-08-27T06:31:58.534247",
     "status": "completed"
    },
    "tags": []
   },
   "outputs": [
    {
     "data": {
      "text/plain": [
       "0.00    0.000002\n",
       "0.05    0.001985\n",
       "0.10    0.002753\n",
       "0.15    0.003358\n",
       "0.20    0.003853\n",
       "0.25    0.004292\n",
       "0.30    0.004719\n",
       "0.35    0.005124\n",
       "0.40    0.005489\n",
       "0.45    0.005876\n",
       "0.50    0.006273\n",
       "0.55    0.006675\n",
       "0.60    0.007115\n",
       "0.65    0.007556\n",
       "0.70    0.008028\n",
       "0.75    0.008551\n",
       "0.80    0.009221\n",
       "0.85    0.010015\n",
       "0.90    0.011148\n",
       "0.95    0.013435\n",
       "dtype: float64"
      ]
     },
     "metadata": {},
     "output_type": "display_data"
    }
   ],
   "source": [
    "gene_corrs_quantiles = gene_corrs_flat.quantile(np.arange(0, 1, 0.05))\n",
    "display(gene_corrs_quantiles)"
   ]
  },
  {
   "cell_type": "markdown",
   "id": "87134509-b145-4a10-8bc9-b7e914c2b0fa",
   "metadata": {
    "papermill": {
     "duration": 1.311055,
     "end_time": "2022-08-27T06:32:02.453083",
     "exception": false,
     "start_time": "2022-08-27T06:32:01.142028",
     "status": "completed"
    },
    "tags": []
   },
   "source": [
    "## Positive definiteness"
   ]
  },
  {
   "cell_type": "code",
   "execution_count": 38,
   "id": "07d9a9a1-a4f7-48aa-b916-6d42a8cc6186",
   "metadata": {
    "execution": {
     "iopub.execute_input": "2022-08-27T06:32:05.063142Z",
     "iopub.status.busy": "2022-08-27T06:32:05.062859Z",
     "iopub.status.idle": "2022-08-27T06:32:05.097248Z",
     "shell.execute_reply": "2022-08-27T06:32:05.096715Z"
    },
    "papermill": {
     "duration": 1.384037,
     "end_time": "2022-08-27T06:32:05.098775",
     "exception": false,
     "start_time": "2022-08-27T06:32:03.714738",
     "status": "completed"
    },
    "tags": []
   },
   "outputs": [
    {
     "data": {
      "text/plain": [
       "0"
      ]
     },
     "metadata": {},
     "output_type": "display_data"
    },
    {
     "data": {
      "text/plain": [
       "array([], dtype=float64)"
      ]
     },
     "metadata": {},
     "output_type": "display_data"
    }
   ],
   "source": [
    "# print negative eigenvalues\n",
    "eigs = np.linalg.eigvals(gene_corrs_df.to_numpy())\n",
    "display(len(eigs[eigs < 0]))\n",
    "display(eigs[eigs < 0])"
   ]
  },
  {
   "cell_type": "code",
   "execution_count": 39,
   "id": "6e218436-c3c5-4028-8c94-a4fa6260efce",
   "metadata": {
    "execution": {
     "iopub.execute_input": "2022-08-27T06:32:07.719370Z",
     "iopub.status.busy": "2022-08-27T06:32:07.719093Z",
     "iopub.status.idle": "2022-08-27T06:32:07.742947Z",
     "shell.execute_reply": "2022-08-27T06:32:07.742219Z"
    },
    "papermill": {
     "duration": 1.337367,
     "end_time": "2022-08-27T06:32:07.744465",
     "exception": false,
     "start_time": "2022-08-27T06:32:06.407098",
     "status": "completed"
    },
    "tags": []
   },
   "outputs": [
    {
     "name": "stdout",
     "output_type": "stream",
     "text": [
      "Works!\n"
     ]
    }
   ],
   "source": [
    "try:\n",
    "    chol_mat = np.linalg.cholesky(gene_corrs_df.to_numpy())\n",
    "    cov_inv = np.linalg.inv(chol_mat)\n",
    "    print(\"Works!\")\n",
    "except Exception as e:\n",
    "    print(f\"Cholesky decomposition failed: {str(e)}\")"
   ]
  },
  {
   "cell_type": "code",
   "execution_count": 40,
   "id": "dd8827fb-faf9-4c7c-9454-015e94752706",
   "metadata": {
    "execution": {
     "iopub.execute_input": "2022-08-27T06:32:10.391423Z",
     "iopub.status.busy": "2022-08-27T06:32:10.391136Z",
     "iopub.status.idle": "2022-08-27T06:32:10.416959Z",
     "shell.execute_reply": "2022-08-27T06:32:10.416280Z"
    },
    "papermill": {
     "duration": 1.37432,
     "end_time": "2022-08-27T06:32:10.418466",
     "exception": false,
     "start_time": "2022-08-27T06:32:09.044146",
     "status": "completed"
    },
    "tags": []
   },
   "outputs": [
    {
     "name": "stdout",
     "output_type": "stream",
     "text": [
      "Works!\n"
     ]
    }
   ],
   "source": [
    "try:\n",
    "    # decomposition used by statsmodels.GLS\n",
    "    cholsigmainv = np.linalg.cholesky(np.linalg.inv(gene_corrs_df.to_numpy())).T\n",
    "    print(\"Works!\")\n",
    "except Exception as e:\n",
    "    print(f\"Cholesky decomposition failed (statsmodels.GLS): {str(e)}\")"
   ]
  },
  {
   "cell_type": "markdown",
   "id": "8e60a080-edb2-4e9c-b2ef-22961693200c",
   "metadata": {
    "papermill": {
     "duration": 1.289232,
     "end_time": "2022-08-27T06:32:12.973677",
     "exception": false,
     "start_time": "2022-08-27T06:32:11.684445",
     "status": "completed"
    },
    "tags": []
   },
   "source": [
    "## Plot: distribution"
   ]
  },
  {
   "cell_type": "code",
   "execution_count": 41,
   "id": "8301126b-a7d4-4744-9c7d-f0f86eb6f54c",
   "metadata": {
    "execution": {
     "iopub.execute_input": "2022-08-27T06:32:15.508641Z",
     "iopub.status.busy": "2022-08-27T06:32:15.508385Z",
     "iopub.status.idle": "2022-08-27T06:32:23.470686Z",
     "shell.execute_reply": "2022-08-27T06:32:23.470022Z"
    },
    "papermill": {
     "duration": 9.243936,
     "end_time": "2022-08-27T06:32:23.472186",
     "exception": false,
     "start_time": "2022-08-27T06:32:14.228250",
     "status": "completed"
    },
    "tags": []
   },
   "outputs": [
    {
     "data": {
      "image/png": "[encoded data removed]",
      "text/plain": [
       "<Figure size 504x504 with 1 Axes>"
      ]
     },
     "metadata": {
      "needs_background": "light"
     },
     "output_type": "display_data"
    }
   ],
   "source": [
    "with sns.plotting_context(\"paper\", font_scale=1.5):\n",
    "    g = sns.displot(gene_corrs_flat, kde=True, height=7)\n",
    "    g.ax.set_title(\n",
    "        f\"Distribution of gene correlation values in chromosome {CHROMOSOME}\"\n",
    "    )"
   ]
  },
  {
   "cell_type": "markdown",
   "id": "cbd52bca-d878-4a2f-b684-5c83aa3038d4",
   "metadata": {
    "papermill": {
     "duration": 1.28312,
     "end_time": "2022-08-27T06:32:26.053918",
     "exception": false,
     "start_time": "2022-08-27T06:32:24.770798",
     "status": "completed"
    },
    "tags": []
   },
   "source": [
    "## Plot: heatmap"
   ]
  },
  {
   "cell_type": "code",
   "execution_count": 42,
   "id": "d03fe63a-c7b2-4fb9-a53c-db362ce843c9",
   "metadata": {
    "execution": {
     "iopub.execute_input": "2022-08-27T06:32:28.681753Z",
     "iopub.status.busy": "2022-08-27T06:32:28.681495Z",
     "iopub.status.idle": "2022-08-27T06:32:28.710820Z",
     "shell.execute_reply": "2022-08-27T06:32:28.710260Z"
    },
    "papermill": {
     "duration": 1.338496,
     "end_time": "2022-08-27T06:32:28.712330",
     "exception": false,
     "start_time": "2022-08-27T06:32:27.373834",
     "status": "completed"
    },
    "tags": []
   },
   "outputs": [
    {
     "data": {
      "text/plain": [
       "'0.0 / 0.05'"
      ]
     },
     "metadata": {},
     "output_type": "display_data"
    }
   ],
   "source": [
    "vmin_val = min(0.00, gene_corrs_quantiles[0.10])\n",
    "vmax_val = max(0.05, gene_corrs_quantiles[0.90])\n",
    "display(f\"{vmin_val} / {vmax_val}\")"
   ]
  },
  {
   "cell_type": "code",
   "execution_count": 43,
   "id": "dc41b70b-5bcc-4d9e-9f33-a22c4a94dab5",
   "metadata": {
    "execution": {
     "iopub.execute_input": "2022-08-27T06:32:31.306178Z",
     "iopub.status.busy": "2022-08-27T06:32:31.305896Z",
     "iopub.status.idle": "2022-08-27T06:32:31.511832Z",
     "shell.execute_reply": "2022-08-27T06:32:31.511331Z"
    },
    "papermill": {
     "duration": 1.540058,
     "end_time": "2022-08-27T06:32:31.513425",
     "exception": false,
     "start_time": "2022-08-27T06:32:29.973367",
     "status": "completed"
    },
    "tags": []
   },
   "outputs": [
    {
     "data": {
      "text/plain": [
       "Text(0.5, 1.0, 'Gene correlations in chromosome 14')"
      ]
     },
     "execution_count": 43,
     "metadata": {},
     "output_type": "execute_result"
    },
    {
     "data": {
      "image/png": "[encoded data removed]",
      "text/plain": [
       "<Figure size 720x720 with 2 Axes>"
      ]
     },
     "metadata": {
      "needs_background": "light"
     },
     "output_type": "display_data"
    }
   ],
   "source": [
    "f, ax = plt.subplots(figsize=(10, 10))\n",
    "sns.heatmap(\n",
    "    gene_corrs_df,\n",
    "    xticklabels=False,\n",
    "    yticklabels=False,\n",
    "    square=True,\n",
    "    vmin=vmin_val,\n",
    "    vmax=vmax_val,\n",
    "    cmap=\"rocket_r\",\n",
    "    ax=ax,\n",
    ")\n",
    "ax.set_title(f\"Gene correlations in chromosome {CHROMOSOME}\")"
   ]
  },
  {
   "cell_type": "code",
   "execution_count": null,
   "id": "b25e3ead",
   "metadata": {
    "papermill": {
     "duration": 1.289915,
     "end_time": "2022-08-27T06:32:34.060277",
     "exception": false,
     "start_time": "2022-08-27T06:32:32.770362",
     "status": "completed"
    },
    "tags": []
   },
   "outputs": [],
   "source": []
  }
 ],
 "metadata": {
  "jupytext": {
   "cell_metadata_filter": "all,-execution,-papermill,-trusted",
   "formats": "ipynb,py//py:percent"
  },
  "kernelspec": {
   "display_name": "Python 3 (ipykernel)",
   "language": "python",
   "name": "python3"
  },
  "language_info": {
   "codemirror_mode": {
    "name": "ipython",
    "version": 3
   },
   "file_extension": ".py",
   "mimetype": "text/x-python",
   "name": "python",
   "nbconvert_exporter": "python",
   "pygments_lexer": "ipython3",
   "version": "3.8.13"
  },
  "papermill": {
   "default_parameters": {},
   "duration": 2006.281293,
   "end_time": "2022-08-27T06:32:38.534583",
   "environment_variables": {},
   "exception": null,
   "input_path": "nbs/15_gsa_gls/10-gene_expr_correlations.ipynb",
   "output_path": "nbs/15_gsa_gls/gene_corrs/cohorts/phenomexcan_rapid_gwas/gtex_v8/mashr/10-gene_expr_corrs/10-gene_expr_correlations-chr14.run.ipynb",
   "parameters": {
    "CHROMOSOME": 14,
    "COHORT_NAME": "phenomexcan_rapid_gwas",
    "EQTL_MODEL": "MASHR",
    "REFERENCE_PANEL": "GTEX_V8"
   },
   "start_time": "2022-08-27T05:59:12.253290",
   "version": "2.2.2"
  }
 },
 "nbformat": 4,
 "nbformat_minor": 5
}
