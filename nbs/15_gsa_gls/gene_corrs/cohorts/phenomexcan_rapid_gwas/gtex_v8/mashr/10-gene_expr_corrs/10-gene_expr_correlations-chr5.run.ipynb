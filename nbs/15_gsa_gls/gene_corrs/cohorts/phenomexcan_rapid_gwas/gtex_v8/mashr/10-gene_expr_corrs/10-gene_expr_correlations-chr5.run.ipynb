{
 "cells": [
  {
   "cell_type": "markdown",
   "id": "7a6632fb",
   "metadata": {
    "papermill": {
     "duration": 0.022348,
     "end_time": "2022-08-27T05:59:18.219814",
     "exception": false,
     "start_time": "2022-08-27T05:59:18.197466",
     "status": "completed"
    },
    "tags": []
   },
   "source": [
    "# Description"
   ]
  },
  {
   "cell_type": "markdown",
   "id": "7097c346",
   "metadata": {
    "papermill": {
     "duration": 0.019036,
     "end_time": "2022-08-27T05:59:18.267488",
     "exception": false,
     "start_time": "2022-08-27T05:59:18.248452",
     "status": "completed"
    },
    "tags": []
   },
   "source": [
    "(Please, take a look at the README.md file in this directory for instructions on how to run this notebook)\n",
    "\n",
    "This notebook computes predicted expression correlations between all genes in the MultiPLIER models.\n",
    "\n",
    "It also has a parameter set for papermill to run on a single chromosome to run in parallel (see under `Settings` below).\n",
    "\n",
    "This notebook is not directly run. See README.md."
   ]
  },
  {
   "cell_type": "markdown",
   "id": "c61d8427",
   "metadata": {
    "papermill": {
     "duration": 0.042688,
     "end_time": "2022-08-27T05:59:18.339221",
     "exception": false,
     "start_time": "2022-08-27T05:59:18.296533",
     "status": "completed"
    },
    "tags": []
   },
   "source": [
    "# Modules"
   ]
  },
  {
   "cell_type": "code",
   "execution_count": 1,
   "id": "bbc0234f",
   "metadata": {
    "execution": {
     "iopub.execute_input": "2022-08-27T05:59:18.413478Z",
     "iopub.status.busy": "2022-08-27T05:59:18.412862Z",
     "iopub.status.idle": "2022-08-27T05:59:18.745391Z",
     "shell.execute_reply": "2022-08-27T05:59:18.744127Z"
    },
    "papermill": {
     "duration": 0.374579,
     "end_time": "2022-08-27T05:59:18.749389",
     "exception": false,
     "start_time": "2022-08-27T05:59:18.374810",
     "status": "completed"
    },
    "tags": []
   },
   "outputs": [],
   "source": [
    "%load_ext autoreload\n",
    "%autoreload 2"
   ]
  },
  {
   "cell_type": "code",
   "execution_count": 2,
   "id": "1d5f5a59",
   "metadata": {
    "execution": {
     "iopub.execute_input": "2022-08-27T05:59:18.812149Z",
     "iopub.status.busy": "2022-08-27T05:59:18.811665Z",
     "iopub.status.idle": "2022-08-27T05:59:25.026104Z",
     "shell.execute_reply": "2022-08-27T05:59:25.024731Z"
    },
    "papermill": {
     "duration": 6.259385,
     "end_time": "2022-08-27T05:59:25.030229",
     "exception": false,
     "start_time": "2022-08-27T05:59:18.770844",
     "status": "completed"
    },
    "tags": []
   },
   "outputs": [],
   "source": [
    "from random import sample, seed\n",
    "import warnings\n",
    "from pathlib import Path\n",
    "import pickle\n",
    "import traceback\n",
    "\n",
    "import numpy as np\n",
    "from scipy.spatial.distance import squareform\n",
    "import pandas as pd\n",
    "from tqdm import tqdm\n",
    "import matplotlib.pyplot as plt\n",
    "import seaborn as sns\n",
    "\n",
    "import conf\n",
    "from entity import Gene"
   ]
  },
  {
   "cell_type": "markdown",
   "id": "1eac24b5",
   "metadata": {
    "papermill": {
     "duration": 0.014246,
     "end_time": "2022-08-27T05:59:25.105995",
     "exception": false,
     "start_time": "2022-08-27T05:59:25.091749",
     "status": "completed"
    },
    "tags": []
   },
   "source": [
    "# Settings"
   ]
  },
  {
   "cell_type": "code",
   "execution_count": 3,
   "id": "ca4560ba",
   "metadata": {
    "execution": {
     "iopub.execute_input": "2022-08-27T05:59:25.143381Z",
     "iopub.status.busy": "2022-08-27T05:59:25.142965Z",
     "iopub.status.idle": "2022-08-27T05:59:26.678603Z",
     "shell.execute_reply": "2022-08-27T05:59:26.677318Z"
    },
    "papermill": {
     "duration": 1.556904,
     "end_time": "2022-08-27T05:59:26.682447",
     "exception": false,
     "start_time": "2022-08-27T05:59:25.125543",
     "status": "completed"
    },
    "tags": [
     "parameters"
    ]
   },
   "outputs": [],
   "source": [
    "# a cohort name (it could be something like UK_BIOBANK, etc)\n",
    "COHORT_NAME = None\n",
    "\n",
    "# reference panel such as 1000G or GTEX_V8\n",
    "REFERENCE_PANEL = None\n",
    "\n",
    "# predictions models such as MASHR or ELASTIC_NET\n",
    "EQTL_MODEL = None\n",
    "\n",
    "# this is the default value used in S-MultiXcan to select the\n",
    "# top principal components of the expression correlation matrix\n",
    "SMULTIXCAN_CONDITION_NUMBER = 30\n",
    "\n",
    "# specifies a single chromosome value\n",
    "CHROMOSOME = None\n",
    "\n",
    "# If True, computes the correlation between closeby genes only;\n",
    "# otherwise, it computes correlations for all genes in a chromosome\n",
    "COMPUTE_CORRELATIONS_WITHIN_DISTANCE = False\n",
    "\n",
    "# if True, then it will continue if a gene pair correlation fails,\n",
    "# printing the warning/error for debugging. If False, any warning/error\n",
    "# will be thrown\n",
    "DEBUG_MODE = False"
   ]
  },
  {
   "cell_type": "code",
   "execution_count": 4,
   "id": "a38cda88",
   "metadata": {
    "execution": {
     "iopub.execute_input": "2022-08-27T05:59:26.717752Z",
     "iopub.status.busy": "2022-08-27T05:59:26.717273Z",
     "iopub.status.idle": "2022-08-27T05:59:26.748776Z",
     "shell.execute_reply": "2022-08-27T05:59:26.747712Z"
    },
    "papermill": {
     "duration": 0.052479,
     "end_time": "2022-08-27T05:59:26.751772",
     "exception": false,
     "start_time": "2022-08-27T05:59:26.699293",
     "status": "completed"
    },
    "tags": [
     "injected-parameters"
    ]
   },
   "outputs": [],
   "source": [
    "# Parameters\n",
    "COHORT_NAME = \"phenomexcan_rapid_gwas\"\n",
    "REFERENCE_PANEL = \"GTEX_V8\"\n",
    "EQTL_MODEL = \"MASHR\"\n",
    "CHROMOSOME = 5\n"
   ]
  },
  {
   "cell_type": "code",
   "execution_count": 5,
   "id": "3190631f-27fc-480f-b18e-571d580425a5",
   "metadata": {
    "execution": {
     "iopub.execute_input": "2022-08-27T05:59:26.799055Z",
     "iopub.status.busy": "2022-08-27T05:59:26.798541Z",
     "iopub.status.idle": "2022-08-27T05:59:26.840468Z",
     "shell.execute_reply": "2022-08-27T05:59:26.839388Z"
    },
    "papermill": {
     "duration": 0.068877,
     "end_time": "2022-08-27T05:59:26.843373",
     "exception": false,
     "start_time": "2022-08-27T05:59:26.774496",
     "status": "completed"
    },
    "tags": []
   },
   "outputs": [
    {
     "data": {
      "text/plain": [
       "'Cohort name: phenomexcan_rapid_gwas'"
      ]
     },
     "metadata": {},
     "output_type": "display_data"
    }
   ],
   "source": [
    "assert COHORT_NAME is not None and len(COHORT_NAME) > 0, \"A cohort name must be given\"\n",
    "\n",
    "COHORT_NAME = COHORT_NAME.lower()\n",
    "display(f\"Cohort name: {COHORT_NAME}\")"
   ]
  },
  {
   "cell_type": "code",
   "execution_count": 6,
   "id": "f53ba19b-0f93-4fa2-a047-63b375939d1a",
   "metadata": {
    "execution": {
     "iopub.execute_input": "2022-08-27T05:59:26.887043Z",
     "iopub.status.busy": "2022-08-27T05:59:26.886677Z",
     "iopub.status.idle": "2022-08-27T05:59:26.916771Z",
     "shell.execute_reply": "2022-08-27T05:59:26.915830Z"
    },
    "papermill": {
     "duration": 0.05953,
     "end_time": "2022-08-27T05:59:26.919226",
     "exception": false,
     "start_time": "2022-08-27T05:59:26.859696",
     "status": "completed"
    },
    "tags": []
   },
   "outputs": [
    {
     "data": {
      "text/plain": [
       "'Reference panel: GTEX_V8'"
      ]
     },
     "metadata": {},
     "output_type": "display_data"
    }
   ],
   "source": [
    "assert (\n",
    "    REFERENCE_PANEL is not None and len(REFERENCE_PANEL) > 0\n",
    "), \"A reference panel must be given\"\n",
    "\n",
    "display(f\"Reference panel: {REFERENCE_PANEL}\")"
   ]
  },
  {
   "cell_type": "code",
   "execution_count": 7,
   "id": "e024d130-c139-429a-9c6e-ccf149e297b0",
   "metadata": {
    "execution": {
     "iopub.execute_input": "2022-08-27T05:59:26.954534Z",
     "iopub.status.busy": "2022-08-27T05:59:26.954220Z",
     "iopub.status.idle": "2022-08-27T05:59:26.981433Z",
     "shell.execute_reply": "2022-08-27T05:59:26.980511Z"
    },
    "papermill": {
     "duration": 0.047697,
     "end_time": "2022-08-27T05:59:26.983752",
     "exception": false,
     "start_time": "2022-08-27T05:59:26.936055",
     "status": "completed"
    },
    "tags": []
   },
   "outputs": [
    {
     "data": {
      "text/plain": [
       "'eQTL model: MASHR) / mashr_'"
      ]
     },
     "metadata": {},
     "output_type": "display_data"
    }
   ],
   "source": [
    "assert (\n",
    "    EQTL_MODEL is not None and len(EQTL_MODEL) > 0\n",
    "), \"A prediction/eQTL model must be given\"\n",
    "\n",
    "EQTL_MODEL_FILES_PREFIX = conf.PHENOMEXCAN[\"PREDICTION_MODELS\"][f\"{EQTL_MODEL}_PREFIX\"]\n",
    "display(f\"eQTL model: {EQTL_MODEL}) / {EQTL_MODEL_FILES_PREFIX}\")"
   ]
  },
  {
   "cell_type": "code",
   "execution_count": 8,
   "id": "552a7f63-a18c-4d3e-bb6a-94f99b431291",
   "metadata": {
    "execution": {
     "iopub.execute_input": "2022-08-27T05:59:27.015801Z",
     "iopub.status.busy": "2022-08-27T05:59:27.015521Z",
     "iopub.status.idle": "2022-08-27T05:59:27.039236Z",
     "shell.execute_reply": "2022-08-27T05:59:27.038527Z"
    },
    "papermill": {
     "duration": 0.043481,
     "end_time": "2022-08-27T05:59:27.041144",
     "exception": false,
     "start_time": "2022-08-27T05:59:26.997663",
     "status": "completed"
    },
    "tags": []
   },
   "outputs": [
    {
     "data": {
      "text/plain": [
       "'S-MultiXcan condition number: 30'"
      ]
     },
     "metadata": {},
     "output_type": "display_data"
    }
   ],
   "source": [
    "assert (\n",
    "    SMULTIXCAN_CONDITION_NUMBER is not None and SMULTIXCAN_CONDITION_NUMBER > 0\n",
    "), \"The S-MultiXcan condition number (positive integer) must be given\"\n",
    "\n",
    "display(f\"S-MultiXcan condition number: {SMULTIXCAN_CONDITION_NUMBER}\")"
   ]
  },
  {
   "cell_type": "code",
   "execution_count": 9,
   "id": "f34a336f-548e-4afe-8955-90eaea4f42c6",
   "metadata": {
    "execution": {
     "iopub.execute_input": "2022-08-27T05:59:27.078441Z",
     "iopub.status.busy": "2022-08-27T05:59:27.078167Z",
     "iopub.status.idle": "2022-08-27T05:59:27.100682Z",
     "shell.execute_reply": "2022-08-27T05:59:27.099940Z"
    },
    "papermill": {
     "duration": 0.045379,
     "end_time": "2022-08-27T05:59:27.102552",
     "exception": false,
     "start_time": "2022-08-27T05:59:27.057173",
     "status": "completed"
    },
    "tags": []
   },
   "outputs": [
    {
     "data": {
      "text/plain": [
       "'Working on chromosome 5'"
      ]
     },
     "metadata": {},
     "output_type": "display_data"
    }
   ],
   "source": [
    "assert CHROMOSOME is not None and (\n",
    "    1 <= CHROMOSOME <= 22\n",
    "), \"You have to select one chromosome (format: number between 1 and 22)\"\n",
    "\n",
    "# CHROMOSOME = str(CHROMOSOME)\n",
    "display(f\"Working on chromosome {CHROMOSOME}\")"
   ]
  },
  {
   "cell_type": "code",
   "execution_count": 10,
   "id": "ab8e96e8-06b5-4363-9dcd-dc4d78cc27f7",
   "metadata": {
    "execution": {
     "iopub.execute_input": "2022-08-27T05:59:27.140223Z",
     "iopub.status.busy": "2022-08-27T05:59:27.139969Z",
     "iopub.status.idle": "2022-08-27T05:59:27.162309Z",
     "shell.execute_reply": "2022-08-27T05:59:27.161472Z"
    },
    "papermill": {
     "duration": 0.042038,
     "end_time": "2022-08-27T05:59:27.164321",
     "exception": false,
     "start_time": "2022-08-27T05:59:27.122283",
     "status": "completed"
    },
    "tags": []
   },
   "outputs": [
    {
     "data": {
      "text/plain": [
       "'Compute correlation within distance False'"
      ]
     },
     "metadata": {},
     "output_type": "display_data"
    }
   ],
   "source": [
    "display(f\"Compute correlation within distance {COMPUTE_CORRELATIONS_WITHIN_DISTANCE}\")"
   ]
  },
  {
   "cell_type": "code",
   "execution_count": 11,
   "id": "396392dc-0340-4540-9b02-e182b833f909",
   "metadata": {
    "execution": {
     "iopub.execute_input": "2022-08-27T05:59:27.208575Z",
     "iopub.status.busy": "2022-08-27T05:59:27.208291Z",
     "iopub.status.idle": "2022-08-27T05:59:27.276425Z",
     "shell.execute_reply": "2022-08-27T05:59:27.275256Z"
    },
    "papermill": {
     "duration": 0.096737,
     "end_time": "2022-08-27T05:59:27.279776",
     "exception": false,
     "start_time": "2022-08-27T05:59:27.183039",
     "status": "completed"
    },
    "tags": []
   },
   "outputs": [
    {
     "data": {
      "text/plain": [
       "'Using output dir base: /project/ritchie20/projects/phenoplier/base/results/gls/gene_corrs/cohorts/phenomexcan_rapid_gwas/gtex_v8/mashr'"
      ]
     },
     "metadata": {},
     "output_type": "display_data"
    }
   ],
   "source": [
    "OUTPUT_DIR_BASE = (\n",
    "    conf.RESULTS[\"GLS\"]\n",
    "    / \"gene_corrs\"\n",
    "    / \"cohorts\"\n",
    "    / COHORT_NAME\n",
    "    / REFERENCE_PANEL.lower()\n",
    "    / EQTL_MODEL.lower()\n",
    ")\n",
    "OUTPUT_DIR_BASE.mkdir(parents=True, exist_ok=True)\n",
    "\n",
    "display(f\"Using output dir base: {OUTPUT_DIR_BASE}\")"
   ]
  },
  {
   "cell_type": "markdown",
   "id": "d2ba085e",
   "metadata": {
    "papermill": {
     "duration": 0.030803,
     "end_time": "2022-08-27T05:59:27.340258",
     "exception": false,
     "start_time": "2022-08-27T05:59:27.309455",
     "status": "completed"
    },
    "tags": []
   },
   "source": [
    "# Load data"
   ]
  },
  {
   "cell_type": "markdown",
   "id": "7dcb8db7",
   "metadata": {
    "papermill": {
     "duration": 0.036667,
     "end_time": "2022-08-27T05:59:27.409412",
     "exception": false,
     "start_time": "2022-08-27T05:59:27.372745",
     "status": "completed"
    },
    "tags": []
   },
   "source": [
    "## GWAS variants"
   ]
  },
  {
   "cell_type": "code",
   "execution_count": 12,
   "id": "29434c4e-8cd3-4b9b-82e4-b5a251d9dd19",
   "metadata": {
    "execution": {
     "iopub.execute_input": "2022-08-27T05:59:27.463215Z",
     "iopub.status.busy": "2022-08-27T05:59:27.462791Z",
     "iopub.status.idle": "2022-08-27T05:59:30.381424Z",
     "shell.execute_reply": "2022-08-27T05:59:30.380340Z"
    },
    "papermill": {
     "duration": 2.950099,
     "end_time": "2022-08-27T05:59:30.383865",
     "exception": false,
     "start_time": "2022-08-27T05:59:27.433766",
     "status": "completed"
    },
    "tags": []
   },
   "outputs": [],
   "source": [
    "with open(OUTPUT_DIR_BASE / \"gwas_variant_ids.pkl\", \"rb\") as handle:\n",
    "    gwas_variants_ids_set = pickle.load(handle)"
   ]
  },
  {
   "cell_type": "code",
   "execution_count": 13,
   "id": "b9d9dec2-4a76-4bf9-bde2-e24c95acb8a0",
   "metadata": {
    "execution": {
     "iopub.execute_input": "2022-08-27T05:59:30.414053Z",
     "iopub.status.busy": "2022-08-27T05:59:30.413800Z",
     "iopub.status.idle": "2022-08-27T05:59:30.456993Z",
     "shell.execute_reply": "2022-08-27T05:59:30.456274Z"
    },
    "papermill": {
     "duration": 0.06126,
     "end_time": "2022-08-27T05:59:30.458737",
     "exception": false,
     "start_time": "2022-08-27T05:59:30.397477",
     "status": "completed"
    },
    "tags": []
   },
   "outputs": [
    {
     "data": {
      "text/plain": [
       "8496088"
      ]
     },
     "execution_count": 13,
     "metadata": {},
     "output_type": "execute_result"
    }
   ],
   "source": [
    "len(gwas_variants_ids_set)"
   ]
  },
  {
   "cell_type": "code",
   "execution_count": 14,
   "id": "4235b06a-6034-4ee4-a0a3-2ae35d122418",
   "metadata": {
    "execution": {
     "iopub.execute_input": "2022-08-27T05:59:30.489973Z",
     "iopub.status.busy": "2022-08-27T05:59:30.489737Z",
     "iopub.status.idle": "2022-08-27T05:59:31.116778Z",
     "shell.execute_reply": "2022-08-27T05:59:31.115907Z"
    },
    "papermill": {
     "duration": 0.647105,
     "end_time": "2022-08-27T05:59:31.120337",
     "exception": false,
     "start_time": "2022-08-27T05:59:30.473232",
     "status": "completed"
    },
    "tags": []
   },
   "outputs": [
    {
     "data": {
      "text/plain": [
       "['chr6_29847001_T_G_b38',\n",
       " 'chr22_27320077_G_A_b38',\n",
       " 'chr12_3686673_C_T_b38',\n",
       " 'chr12_13712487_G_T_b38',\n",
       " 'chr7_54376815_T_C_b38']"
      ]
     },
     "execution_count": 14,
     "metadata": {},
     "output_type": "execute_result"
    }
   ],
   "source": [
    "list(gwas_variants_ids_set)[:5]"
   ]
  },
  {
   "cell_type": "markdown",
   "id": "07866999-2305-41f9-a144-e69c9122c212",
   "metadata": {
    "papermill": {
     "duration": 0.024648,
     "end_time": "2022-08-27T05:59:31.163381",
     "exception": false,
     "start_time": "2022-08-27T05:59:31.138733",
     "status": "completed"
    },
    "tags": []
   },
   "source": [
    "## S-PrediXcan tissue models"
   ]
  },
  {
   "cell_type": "code",
   "execution_count": 15,
   "id": "780611d9-77c8-405f-90a4-f271f7b09397",
   "metadata": {
    "execution": {
     "iopub.execute_input": "2022-08-27T05:59:31.200296Z",
     "iopub.status.busy": "2022-08-27T05:59:31.200044Z",
     "iopub.status.idle": "2022-08-27T05:59:32.546986Z",
     "shell.execute_reply": "2022-08-27T05:59:32.546131Z"
    },
    "papermill": {
     "duration": 1.365753,
     "end_time": "2022-08-27T05:59:32.549207",
     "exception": false,
     "start_time": "2022-08-27T05:59:31.183454",
     "status": "completed"
    },
    "tags": []
   },
   "outputs": [],
   "source": [
    "spredixcan_genes_models = pd.read_pickle(OUTPUT_DIR_BASE / \"gene_tissues.pkl\")"
   ]
  },
  {
   "cell_type": "code",
   "execution_count": 16,
   "id": "726dd1f6-9557-4225-91fa-b3b879ea96e1",
   "metadata": {
    "execution": {
     "iopub.execute_input": "2022-08-27T05:59:32.582127Z",
     "iopub.status.busy": "2022-08-27T05:59:32.581896Z",
     "iopub.status.idle": "2022-08-27T05:59:33.019523Z",
     "shell.execute_reply": "2022-08-27T05:59:33.018199Z"
    },
    "papermill": {
     "duration": 0.45715,
     "end_time": "2022-08-27T05:59:33.023247",
     "exception": false,
     "start_time": "2022-08-27T05:59:32.566097",
     "status": "completed"
    },
    "tags": []
   },
   "outputs": [
    {
     "data": {
      "text/plain": [
       "(6428, 3)"
      ]
     },
     "execution_count": 16,
     "metadata": {},
     "output_type": "execute_result"
    }
   ],
   "source": [
    "spredixcan_genes_models.shape"
   ]
  },
  {
   "cell_type": "code",
   "execution_count": 17,
   "id": "944a1b48-222c-4eb0-b252-b9de2cbca215",
   "metadata": {
    "execution": {
     "iopub.execute_input": "2022-08-27T05:59:33.082298Z",
     "iopub.status.busy": "2022-08-27T05:59:33.081857Z",
     "iopub.status.idle": "2022-08-27T05:59:33.131184Z",
     "shell.execute_reply": "2022-08-27T05:59:33.130291Z"
    },
    "papermill": {
     "duration": 0.084731,
     "end_time": "2022-08-27T05:59:33.133725",
     "exception": false,
     "start_time": "2022-08-27T05:59:33.048994",
     "status": "completed"
    },
    "tags": []
   },
   "outputs": [
    {
     "data": {
      "text/html": [
       "<div>\n",
       "<style scoped>\n",
       "    .dataframe tbody tr th:only-of-type {\n",
       "        vertical-align: middle;\n",
       "    }\n",
       "\n",
       "    .dataframe tbody tr th {\n",
       "        vertical-align: top;\n",
       "    }\n",
       "\n",
       "    .dataframe thead th {\n",
       "        text-align: right;\n",
       "    }\n",
       "</style>\n",
       "<table border=\"1\" class=\"dataframe\">\n",
       "  <thead>\n",
       "    <tr style=\"text-align: right;\">\n",
       "      <th></th>\n",
       "      <th>gene_name</th>\n",
       "      <th>tissue</th>\n",
       "      <th>n_tissues</th>\n",
       "    </tr>\n",
       "    <tr>\n",
       "      <th>gene_id</th>\n",
       "      <th></th>\n",
       "      <th></th>\n",
       "      <th></th>\n",
       "    </tr>\n",
       "  </thead>\n",
       "  <tbody>\n",
       "    <tr>\n",
       "      <th>ENSG00000000419</th>\n",
       "      <td>DPM1</td>\n",
       "      <td>(Brain_Hypothalamus, Brain_Substantia_nigra)</td>\n",
       "      <td>2</td>\n",
       "    </tr>\n",
       "    <tr>\n",
       "      <th>ENSG00000000938</th>\n",
       "      <td>FGR</td>\n",
       "      <td>(Brain_Cerebellum, Pituitary, Prostate, Nerve_...</td>\n",
       "      <td>36</td>\n",
       "    </tr>\n",
       "    <tr>\n",
       "      <th>ENSG00000000971</th>\n",
       "      <td>CFH</td>\n",
       "      <td>(Brain_Cerebellum, Pituitary, Nerve_Tibial, Ar...</td>\n",
       "      <td>34</td>\n",
       "    </tr>\n",
       "    <tr>\n",
       "      <th>ENSG00000001084</th>\n",
       "      <td>GCLC</td>\n",
       "      <td>(Brain_Cerebellum, Pituitary, Nerve_Tibial, Ar...</td>\n",
       "      <td>33</td>\n",
       "    </tr>\n",
       "    <tr>\n",
       "      <th>ENSG00000001167</th>\n",
       "      <td>NFYA</td>\n",
       "      <td>(Brain_Cerebellum, Prostate, Nerve_Tibial, Art...</td>\n",
       "      <td>40</td>\n",
       "    </tr>\n",
       "  </tbody>\n",
       "</table>\n",
       "</div>"
      ],
      "text/plain": [
       "                gene_name                                             tissue  \\\n",
       "gene_id                                                                        \n",
       "ENSG00000000419      DPM1       (Brain_Hypothalamus, Brain_Substantia_nigra)   \n",
       "ENSG00000000938       FGR  (Brain_Cerebellum, Pituitary, Prostate, Nerve_...   \n",
       "ENSG00000000971       CFH  (Brain_Cerebellum, Pituitary, Nerve_Tibial, Ar...   \n",
       "ENSG00000001084      GCLC  (Brain_Cerebellum, Pituitary, Nerve_Tibial, Ar...   \n",
       "ENSG00000001167      NFYA  (Brain_Cerebellum, Prostate, Nerve_Tibial, Art...   \n",
       "\n",
       "                 n_tissues  \n",
       "gene_id                     \n",
       "ENSG00000000419          2  \n",
       "ENSG00000000938         36  \n",
       "ENSG00000000971         34  \n",
       "ENSG00000001084         33  \n",
       "ENSG00000001167         40  "
      ]
     },
     "execution_count": 17,
     "metadata": {},
     "output_type": "execute_result"
    }
   ],
   "source": [
    "spredixcan_genes_models.head()"
   ]
  },
  {
   "cell_type": "code",
   "execution_count": 18,
   "id": "d1c11bb1-be0b-4f40-b360-633d6827109f",
   "metadata": {
    "execution": {
     "iopub.execute_input": "2022-08-27T05:59:33.174182Z",
     "iopub.status.busy": "2022-08-27T05:59:33.173854Z",
     "iopub.status.idle": "2022-08-27T05:59:33.200512Z",
     "shell.execute_reply": "2022-08-27T05:59:33.199700Z"
    },
    "papermill": {
     "duration": 0.049551,
     "end_time": "2022-08-27T05:59:33.202984",
     "exception": false,
     "start_time": "2022-08-27T05:59:33.153433",
     "status": "completed"
    },
    "tags": []
   },
   "outputs": [],
   "source": [
    "assert spredixcan_genes_models.index.is_unique"
   ]
  },
  {
   "cell_type": "markdown",
   "id": "a5b5092c-a13e-47c4-a92a-480fcc08f3ae",
   "metadata": {
    "papermill": {
     "duration": 0.016868,
     "end_time": "2022-08-27T05:59:33.235800",
     "exception": false,
     "start_time": "2022-08-27T05:59:33.218932",
     "status": "completed"
    },
    "tags": []
   },
   "source": [
    "## Gene info"
   ]
  },
  {
   "cell_type": "code",
   "execution_count": 19,
   "id": "7d6bb224-88e9-4358-ac10-43a41d92cdad",
   "metadata": {
    "execution": {
     "iopub.execute_input": "2022-08-27T05:59:33.271738Z",
     "iopub.status.busy": "2022-08-27T05:59:33.271456Z",
     "iopub.status.idle": "2022-08-27T05:59:33.305942Z",
     "shell.execute_reply": "2022-08-27T05:59:33.305177Z"
    },
    "papermill": {
     "duration": 0.052587,
     "end_time": "2022-08-27T05:59:33.308243",
     "exception": false,
     "start_time": "2022-08-27T05:59:33.255656",
     "status": "completed"
    },
    "tags": []
   },
   "outputs": [],
   "source": [
    "genes_info = pd.read_pickle(OUTPUT_DIR_BASE / \"genes_info.pkl\")"
   ]
  },
  {
   "cell_type": "code",
   "execution_count": 20,
   "id": "9e32abfa-546d-483e-8c18-d526e9e05903",
   "metadata": {
    "execution": {
     "iopub.execute_input": "2022-08-27T05:59:33.358849Z",
     "iopub.status.busy": "2022-08-27T05:59:33.358474Z",
     "iopub.status.idle": "2022-08-27T05:59:33.389527Z",
     "shell.execute_reply": "2022-08-27T05:59:33.388673Z"
    },
    "papermill": {
     "duration": 0.056156,
     "end_time": "2022-08-27T05:59:33.392049",
     "exception": false,
     "start_time": "2022-08-27T05:59:33.335893",
     "status": "completed"
    },
    "tags": []
   },
   "outputs": [
    {
     "data": {
      "text/plain": [
       "(6428, 7)"
      ]
     },
     "execution_count": 20,
     "metadata": {},
     "output_type": "execute_result"
    }
   ],
   "source": [
    "genes_info.shape"
   ]
  },
  {
   "cell_type": "code",
   "execution_count": 21,
   "id": "d16c3e92-85ec-468a-9a56-e25a9774a1cb",
   "metadata": {
    "execution": {
     "iopub.execute_input": "2022-08-27T05:59:33.437180Z",
     "iopub.status.busy": "2022-08-27T05:59:33.436874Z",
     "iopub.status.idle": "2022-08-27T05:59:33.469163Z",
     "shell.execute_reply": "2022-08-27T05:59:33.468265Z"
    },
    "papermill": {
     "duration": 0.056046,
     "end_time": "2022-08-27T05:59:33.471233",
     "exception": false,
     "start_time": "2022-08-27T05:59:33.415187",
     "status": "completed"
    },
    "tags": []
   },
   "outputs": [
    {
     "data": {
      "text/html": [
       "<div>\n",
       "<style scoped>\n",
       "    .dataframe tbody tr th:only-of-type {\n",
       "        vertical-align: middle;\n",
       "    }\n",
       "\n",
       "    .dataframe tbody tr th {\n",
       "        vertical-align: top;\n",
       "    }\n",
       "\n",
       "    .dataframe thead th {\n",
       "        text-align: right;\n",
       "    }\n",
       "</style>\n",
       "<table border=\"1\" class=\"dataframe\">\n",
       "  <thead>\n",
       "    <tr style=\"text-align: right;\">\n",
       "      <th></th>\n",
       "      <th>name</th>\n",
       "      <th>id</th>\n",
       "      <th>chr</th>\n",
       "      <th>band</th>\n",
       "      <th>start_position</th>\n",
       "      <th>end_position</th>\n",
       "      <th>gene_length</th>\n",
       "    </tr>\n",
       "  </thead>\n",
       "  <tbody>\n",
       "    <tr>\n",
       "      <th>0</th>\n",
       "      <td>ZNF605</td>\n",
       "      <td>ENSG00000196458</td>\n",
       "      <td>12</td>\n",
       "      <td>12q24.33</td>\n",
       "      <td>132918306</td>\n",
       "      <td>132956306</td>\n",
       "      <td>38000</td>\n",
       "    </tr>\n",
       "    <tr>\n",
       "      <th>1</th>\n",
       "      <td>FBP1</td>\n",
       "      <td>ENSG00000165140</td>\n",
       "      <td>9</td>\n",
       "      <td>9q22.32</td>\n",
       "      <td>94603133</td>\n",
       "      <td>94640249</td>\n",
       "      <td>37116</td>\n",
       "    </tr>\n",
       "    <tr>\n",
       "      <th>2</th>\n",
       "      <td>TAL1</td>\n",
       "      <td>ENSG00000162367</td>\n",
       "      <td>1</td>\n",
       "      <td>1p33</td>\n",
       "      <td>47216290</td>\n",
       "      <td>47232220</td>\n",
       "      <td>15930</td>\n",
       "    </tr>\n",
       "    <tr>\n",
       "      <th>3</th>\n",
       "      <td>MPV17</td>\n",
       "      <td>ENSG00000115204</td>\n",
       "      <td>2</td>\n",
       "      <td>2p23.3</td>\n",
       "      <td>27309492</td>\n",
       "      <td>27325680</td>\n",
       "      <td>16188</td>\n",
       "    </tr>\n",
       "    <tr>\n",
       "      <th>4</th>\n",
       "      <td>PTPRN</td>\n",
       "      <td>ENSG00000054356</td>\n",
       "      <td>2</td>\n",
       "      <td>2q35</td>\n",
       "      <td>219289623</td>\n",
       "      <td>219309648</td>\n",
       "      <td>20025</td>\n",
       "    </tr>\n",
       "  </tbody>\n",
       "</table>\n",
       "</div>"
      ],
      "text/plain": [
       "     name               id  chr      band  start_position  end_position  \\\n",
       "0  ZNF605  ENSG00000196458   12  12q24.33       132918306     132956306   \n",
       "1    FBP1  ENSG00000165140    9   9q22.32        94603133      94640249   \n",
       "2    TAL1  ENSG00000162367    1      1p33        47216290      47232220   \n",
       "3   MPV17  ENSG00000115204    2    2p23.3        27309492      27325680   \n",
       "4   PTPRN  ENSG00000054356    2      2q35       219289623     219309648   \n",
       "\n",
       "   gene_length  \n",
       "0        38000  \n",
       "1        37116  \n",
       "2        15930  \n",
       "3        16188  \n",
       "4        20025  "
      ]
     },
     "execution_count": 21,
     "metadata": {},
     "output_type": "execute_result"
    }
   ],
   "source": [
    "genes_info.head()"
   ]
  },
  {
   "cell_type": "markdown",
   "id": "d3843e06",
   "metadata": {
    "papermill": {
     "duration": 0.025768,
     "end_time": "2022-08-27T05:59:33.524512",
     "exception": false,
     "start_time": "2022-08-27T05:59:33.498744",
     "status": "completed"
    },
    "tags": []
   },
   "source": [
    "# Compute correlations"
   ]
  },
  {
   "cell_type": "code",
   "execution_count": 22,
   "id": "cb859c15-d1f3-4006-a74c-2b83c0db9611",
   "metadata": {
    "execution": {
     "iopub.execute_input": "2022-08-27T05:59:33.578136Z",
     "iopub.status.busy": "2022-08-27T05:59:33.577787Z",
     "iopub.status.idle": "2022-08-27T05:59:33.617752Z",
     "shell.execute_reply": "2022-08-27T05:59:33.616760Z"
    },
    "papermill": {
     "duration": 0.071846,
     "end_time": "2022-08-27T05:59:33.620237",
     "exception": false,
     "start_time": "2022-08-27T05:59:33.548391",
     "status": "completed"
    },
    "tags": []
   },
   "outputs": [
    {
     "data": {
      "text/plain": [
       "PosixPath('/project/ritchie20/projects/phenoplier/base/results/gls/gene_corrs/cohorts/phenomexcan_rapid_gwas/gtex_v8/mashr/by_chr/gene_corrs-chr5.pkl')"
      ]
     },
     "metadata": {},
     "output_type": "display_data"
    }
   ],
   "source": [
    "output_dir = OUTPUT_DIR_BASE / \"by_chr\"\n",
    "output_dir.mkdir(exist_ok=True, parents=True)\n",
    "output_file = output_dir / f\"gene_corrs-chr{CHROMOSOME}.pkl\"\n",
    "display(output_file)"
   ]
  },
  {
   "cell_type": "code",
   "execution_count": 23,
   "id": "aa674fe4-6794-4eed-98fa-32b39d1d4ace",
   "metadata": {
    "execution": {
     "iopub.execute_input": "2022-08-27T05:59:33.706801Z",
     "iopub.status.busy": "2022-08-27T05:59:33.706364Z",
     "iopub.status.idle": "2022-08-27T05:59:33.737100Z",
     "shell.execute_reply": "2022-08-27T05:59:33.736126Z"
    },
    "papermill": {
     "duration": 0.077633,
     "end_time": "2022-08-27T05:59:33.739979",
     "exception": false,
     "start_time": "2022-08-27T05:59:33.662346",
     "status": "completed"
    },
    "tags": []
   },
   "outputs": [],
   "source": [
    "warnings.filterwarnings(\"error\")"
   ]
  },
  {
   "cell_type": "code",
   "execution_count": 24,
   "id": "44d5450b-3baf-43f1-9e2e-4b06f1a785f8",
   "metadata": {
    "execution": {
     "iopub.execute_input": "2022-08-27T05:59:33.798912Z",
     "iopub.status.busy": "2022-08-27T05:59:33.798567Z",
     "iopub.status.idle": "2022-08-27T05:59:33.823854Z",
     "shell.execute_reply": "2022-08-27T05:59:33.823036Z"
    },
    "papermill": {
     "duration": 0.055919,
     "end_time": "2022-08-27T05:59:33.826254",
     "exception": false,
     "start_time": "2022-08-27T05:59:33.770335",
     "status": "completed"
    },
    "tags": []
   },
   "outputs": [],
   "source": [
    "# standard checks\n",
    "all_chrs = genes_info[\"chr\"].dropna().unique()\n",
    "assert all_chrs.shape[0] == 22\n",
    "\n",
    "# select chromosome given by the user\n",
    "assert CHROMOSOME in all_chrs"
   ]
  },
  {
   "cell_type": "code",
   "execution_count": 25,
   "id": "2d7c043c-92a7-4d35-991b-fa69ac1e0268",
   "metadata": {
    "execution": {
     "iopub.execute_input": "2022-08-27T05:59:33.883358Z",
     "iopub.status.busy": "2022-08-27T05:59:33.882987Z",
     "iopub.status.idle": "2022-08-27T05:59:33.996874Z",
     "shell.execute_reply": "2022-08-27T05:59:33.995636Z"
    },
    "papermill": {
     "duration": 0.144585,
     "end_time": "2022-08-27T05:59:34.000631",
     "exception": false,
     "start_time": "2022-08-27T05:59:33.856046",
     "status": "completed"
    },
    "tags": []
   },
   "outputs": [
    {
     "name": "stdout",
     "output_type": "stream",
     "text": [
      "Number of genes in chromosome: 306\n"
     ]
    }
   ],
   "source": [
    "# run only on the chromosome specified\n",
    "all_chrs = [CHROMOSOME]\n",
    "genes_chr = genes_info[genes_info[\"chr\"] == CHROMOSOME]\n",
    "\n",
    "# For testing purposes\n",
    "# genes_chr = genes_chr.sample(n=20)\n",
    "\n",
    "print(f\"Number of genes in chromosome: {genes_chr.shape[0]}\", flush=True)"
   ]
  },
  {
   "cell_type": "code",
   "execution_count": 26,
   "id": "916015d8-2979-46d3-a9b9-1cf5a0932c6a",
   "metadata": {
    "execution": {
     "iopub.execute_input": "2022-08-27T05:59:34.065245Z",
     "iopub.status.busy": "2022-08-27T05:59:34.064856Z",
     "iopub.status.idle": "2022-08-27T05:59:34.093613Z",
     "shell.execute_reply": "2022-08-27T05:59:34.092656Z"
    },
    "papermill": {
     "duration": 0.058465,
     "end_time": "2022-08-27T05:59:34.096381",
     "exception": false,
     "start_time": "2022-08-27T05:59:34.037916",
     "status": "completed"
    },
    "tags": []
   },
   "outputs": [],
   "source": [
    "# sort genes by starting position to make visualizations better later\n",
    "genes_chr = genes_chr.sort_values(\"start_position\")"
   ]
  },
  {
   "cell_type": "code",
   "execution_count": 27,
   "id": "a38aa74a-8ad3-47f6-8ef9-56be0e011774",
   "metadata": {
    "execution": {
     "iopub.execute_input": "2022-08-27T05:59:34.148407Z",
     "iopub.status.busy": "2022-08-27T05:59:34.148090Z",
     "iopub.status.idle": "2022-08-27T05:59:34.172793Z",
     "shell.execute_reply": "2022-08-27T05:59:34.171926Z"
    },
    "papermill": {
     "duration": 0.051818,
     "end_time": "2022-08-27T05:59:34.175164",
     "exception": false,
     "start_time": "2022-08-27T05:59:34.123346",
     "status": "completed"
    },
    "tags": []
   },
   "outputs": [],
   "source": [
    "gene_chr_objs = [Gene(ensembl_id=gene_id) for gene_id in genes_chr[\"id\"]]"
   ]
  },
  {
   "cell_type": "code",
   "execution_count": 28,
   "id": "570f974f-13c3-42b6-ad3a-ce99ca885c1a",
   "metadata": {
    "execution": {
     "iopub.execute_input": "2022-08-27T05:59:34.214661Z",
     "iopub.status.busy": "2022-08-27T05:59:34.214374Z",
     "iopub.status.idle": "2022-08-27T05:59:34.237545Z",
     "shell.execute_reply": "2022-08-27T05:59:34.236724Z"
    },
    "papermill": {
     "duration": 0.044159,
     "end_time": "2022-08-27T05:59:34.239649",
     "exception": false,
     "start_time": "2022-08-27T05:59:34.195490",
     "status": "completed"
    },
    "tags": []
   },
   "outputs": [
    {
     "name": "stdout",
     "output_type": "stream",
     "text": [
      "Number of gene combinations: 46665\n"
     ]
    }
   ],
   "source": [
    "n = len(gene_chr_objs)\n",
    "n_comb = int(n * (n - 1) / 2.0)\n",
    "print(f\"Number of gene combinations: {n_comb}\", flush=True)"
   ]
  },
  {
   "cell_type": "code",
   "execution_count": 29,
   "id": "cdbb90a1",
   "metadata": {
    "execution": {
     "iopub.execute_input": "2022-08-27T05:59:34.276725Z",
     "iopub.status.busy": "2022-08-27T05:59:34.276397Z",
     "iopub.status.idle": "2022-08-27T07:08:57.600928Z",
     "shell.execute_reply": "2022-08-27T07:08:57.599303Z"
    },
    "papermill": {
     "duration": 4163.347937,
     "end_time": "2022-08-27T07:08:57.605124",
     "exception": false,
     "start_time": "2022-08-27T05:59:34.257187",
     "status": "completed"
    },
    "tags": []
   },
   "outputs": [
    {
     "name": "stderr",
     "output_type": "stream",
     "text": [
      "ENSG00000165810 / ENSG00000165810: : 46971it [1:09:23, 11.28it/s]\n"
     ]
    },
    {
     "data": {
      "text/plain": [
       "PosixPath('/project/ritchie20/projects/phenoplier/base/results/gls/gene_corrs/cohorts/phenomexcan_rapid_gwas/gtex_v8/mashr/by_chr/gene_corrs-chr5.pkl')"
      ]
     },
     "metadata": {},
     "output_type": "display_data"
    }
   ],
   "source": [
    "gene_corrs = []\n",
    "gene_corrs_data = np.full(\n",
    "    (n, n),\n",
    "    np.nan,\n",
    "    dtype=np.float64,\n",
    ")\n",
    "\n",
    "i = 0\n",
    "with tqdm(ncols=100, total=n_comb) as pbar:\n",
    "    for gene1_idx in range(0, len(gene_chr_objs)):\n",
    "        gene1_obj = gene_chr_objs[gene1_idx]\n",
    "        gene1_tissues = spredixcan_genes_models.loc[gene1_obj.ensembl_id, \"tissue\"]\n",
    "\n",
    "        for gene2_idx in range(gene1_idx, len(gene_chr_objs)):\n",
    "            gene2_obj = gene_chr_objs[gene2_idx]\n",
    "            gene2_tissues = spredixcan_genes_models.loc[gene2_obj.ensembl_id, \"tissue\"]\n",
    "\n",
    "            pbar.set_description(f\"{gene1_obj.ensembl_id} / {gene2_obj.ensembl_id}\")\n",
    "\n",
    "            try:\n",
    "                r = gene1_obj.get_ssm_correlation(\n",
    "                    other_gene=gene2_obj,\n",
    "                    tissues=gene1_tissues,\n",
    "                    other_tissues=gene2_tissues,\n",
    "                    snps_subset=gwas_variants_ids_set,\n",
    "                    condition_number=SMULTIXCAN_CONDITION_NUMBER,\n",
    "                    reference_panel=REFERENCE_PANEL,\n",
    "                    model_type=EQTL_MODEL,\n",
    "                    use_within_distance=COMPUTE_CORRELATIONS_WITHIN_DISTANCE,\n",
    "                )\n",
    "\n",
    "                if r is None:\n",
    "                    # if r is None, it's very likely because:\n",
    "                    #  * one of the genes has no prediction models\n",
    "                    #  * all the SNPs predictors for the gene are not present in the reference\n",
    "                    #    panel\n",
    "\n",
    "                    r = 0.0\n",
    "\n",
    "                gene_corrs.append(r)\n",
    "\n",
    "                gene_corrs_data[gene1_idx, gene2_idx] = r\n",
    "                gene_corrs_data[gene2_idx, gene1_idx] = r\n",
    "            except Warning as e:\n",
    "                if not DEBUG_MODE:\n",
    "                    raise e\n",
    "\n",
    "                print(\n",
    "                    f\"RuntimeWarning for genes {gene1_obj.ensembl_id} and {gene2_obj.ensembl_id}\",\n",
    "                    flush=True,\n",
    "                )\n",
    "                print(traceback.format_exc(), flush=True)\n",
    "\n",
    "                gene_corrs.append(np.nan)\n",
    "            except Exception as e:\n",
    "                if not DEBUG_MODE:\n",
    "                    raise e\n",
    "\n",
    "                print(\n",
    "                    f\"Exception for genes {gene1_obj.ensembl_id} and {gene2_obj.ensembl_id}\",\n",
    "                    flush=True,\n",
    "                )\n",
    "                print(traceback.format_exc(), flush=True)\n",
    "\n",
    "                gene_corrs.append(np.nan)\n",
    "\n",
    "            pbar.update(1)\n",
    "\n",
    "# create a pandas series\n",
    "gene_corrs_flat = pd.Series(gene_corrs)\n",
    "\n",
    "# save\n",
    "# FIXME: consider saving only the condenced matrix here. See here for\n",
    "# more details: https://github.com/greenelab/phenoplier/pull/38#discussion_r634600813\n",
    "# gene_corrs_data = squareform(np.array(gene_corrs, dtype=np.float64))\n",
    "# np.fill_diagonal(gene_corrs_data, 1.0)\n",
    "\n",
    "gene_chr_ids = [g.ensembl_id for g in gene_chr_objs]\n",
    "gene_corrs_df = pd.DataFrame(\n",
    "    data=gene_corrs_data,\n",
    "    index=gene_chr_ids,\n",
    "    columns=gene_chr_ids,\n",
    ")\n",
    "\n",
    "output_dir.mkdir(exist_ok=True, parents=True)\n",
    "display(output_file)\n",
    "\n",
    "gene_corrs_df.to_pickle(output_file)"
   ]
  },
  {
   "cell_type": "markdown",
   "id": "faa67b51-5373-470f-aa72-2ded53fa6dfe",
   "metadata": {
    "papermill": {
     "duration": 2.91381,
     "end_time": "2022-08-27T07:09:03.603805",
     "exception": false,
     "start_time": "2022-08-27T07:09:00.689995",
     "status": "completed"
    },
    "tags": []
   },
   "source": [
    "# Testing"
   ]
  },
  {
   "cell_type": "code",
   "execution_count": 30,
   "id": "14f7d046-4b55-4896-a56b-990127bcc388",
   "metadata": {
    "execution": {
     "iopub.execute_input": "2022-08-27T07:09:09.284354Z",
     "iopub.status.busy": "2022-08-27T07:09:09.284037Z",
     "iopub.status.idle": "2022-08-27T07:09:09.577361Z",
     "shell.execute_reply": "2022-08-27T07:09:09.576198Z"
    },
    "papermill": {
     "duration": 3.175219,
     "end_time": "2022-08-27T07:09:09.580689",
     "exception": false,
     "start_time": "2022-08-27T07:09:06.405470",
     "status": "completed"
    },
    "tags": []
   },
   "outputs": [
    {
     "data": {
      "text/plain": [
       "(306, 306)"
      ]
     },
     "execution_count": 30,
     "metadata": {},
     "output_type": "execute_result"
    }
   ],
   "source": [
    "gene_corrs_df.shape"
   ]
  },
  {
   "cell_type": "code",
   "execution_count": 31,
   "id": "c7d15414-3297-4537-a7c6-7588c0baeb75",
   "metadata": {
    "execution": {
     "iopub.execute_input": "2022-08-27T07:09:15.755660Z",
     "iopub.status.busy": "2022-08-27T07:09:15.755335Z",
     "iopub.status.idle": "2022-08-27T07:09:15.793857Z",
     "shell.execute_reply": "2022-08-27T07:09:15.793281Z"
    },
    "papermill": {
     "duration": 2.952169,
     "end_time": "2022-08-27T07:09:15.796090",
     "exception": false,
     "start_time": "2022-08-27T07:09:12.843921",
     "status": "completed"
    },
    "tags": []
   },
   "outputs": [
    {
     "data": {
      "text/html": [
       "<div>\n",
       "<style scoped>\n",
       "    .dataframe tbody tr th:only-of-type {\n",
       "        vertical-align: middle;\n",
       "    }\n",
       "\n",
       "    .dataframe tbody tr th {\n",
       "        vertical-align: top;\n",
       "    }\n",
       "\n",
       "    .dataframe thead th {\n",
       "        text-align: right;\n",
       "    }\n",
       "</style>\n",
       "<table border=\"1\" class=\"dataframe\">\n",
       "  <thead>\n",
       "    <tr style=\"text-align: right;\">\n",
       "      <th></th>\n",
       "      <th>ENSG00000073578</th>\n",
       "      <th>ENSG00000180104</th>\n",
       "      <th>ENSG00000066230</th>\n",
       "      <th>ENSG00000112877</th>\n",
       "      <th>ENSG00000113504</th>\n",
       "      <th>ENSG00000174358</th>\n",
       "      <th>ENSG00000164362</th>\n",
       "      <th>ENSG00000049656</th>\n",
       "      <th>ENSG00000153395</th>\n",
       "      <th>ENSG00000171421</th>\n",
       "      <th>...</th>\n",
       "      <th>ENSG00000161021</th>\n",
       "      <th>ENSG00000161013</th>\n",
       "      <th>ENSG00000161011</th>\n",
       "      <th>ENSG00000050748</th>\n",
       "      <th>ENSG00000131459</th>\n",
       "      <th>ENSG00000113300</th>\n",
       "      <th>ENSG00000037280</th>\n",
       "      <th>ENSG00000131446</th>\n",
       "      <th>ENSG00000113303</th>\n",
       "      <th>ENSG00000165810</th>\n",
       "    </tr>\n",
       "  </thead>\n",
       "  <tbody>\n",
       "    <tr>\n",
       "      <th>ENSG00000073578</th>\n",
       "      <td>1.000000</td>\n",
       "      <td>0.239185</td>\n",
       "      <td>0.160738</td>\n",
       "      <td>0.051643</td>\n",
       "      <td>0.015225</td>\n",
       "      <td>0.012271</td>\n",
       "      <td>0.008389</td>\n",
       "      <td>0.010072</td>\n",
       "      <td>0.013264</td>\n",
       "      <td>0.008193</td>\n",
       "      <td>...</td>\n",
       "      <td>0.008910</td>\n",
       "      <td>0.009491</td>\n",
       "      <td>0.010299</td>\n",
       "      <td>0.010914</td>\n",
       "      <td>0.014368</td>\n",
       "      <td>0.008028</td>\n",
       "      <td>0.011515</td>\n",
       "      <td>0.014988</td>\n",
       "      <td>0.012277</td>\n",
       "      <td>0.008287</td>\n",
       "    </tr>\n",
       "    <tr>\n",
       "      <th>ENSG00000180104</th>\n",
       "      <td>0.239185</td>\n",
       "      <td>1.000000</td>\n",
       "      <td>0.410927</td>\n",
       "      <td>0.093487</td>\n",
       "      <td>0.005980</td>\n",
       "      <td>0.010689</td>\n",
       "      <td>0.007390</td>\n",
       "      <td>0.004527</td>\n",
       "      <td>0.004119</td>\n",
       "      <td>0.005801</td>\n",
       "      <td>...</td>\n",
       "      <td>0.007485</td>\n",
       "      <td>0.002898</td>\n",
       "      <td>0.002817</td>\n",
       "      <td>0.007050</td>\n",
       "      <td>0.008218</td>\n",
       "      <td>0.005867</td>\n",
       "      <td>0.006759</td>\n",
       "      <td>0.006991</td>\n",
       "      <td>0.002991</td>\n",
       "      <td>0.004131</td>\n",
       "    </tr>\n",
       "    <tr>\n",
       "      <th>ENSG00000066230</th>\n",
       "      <td>0.160738</td>\n",
       "      <td>0.410927</td>\n",
       "      <td>1.000000</td>\n",
       "      <td>0.214129</td>\n",
       "      <td>0.012989</td>\n",
       "      <td>0.009085</td>\n",
       "      <td>0.006609</td>\n",
       "      <td>0.009168</td>\n",
       "      <td>0.011800</td>\n",
       "      <td>0.008830</td>\n",
       "      <td>...</td>\n",
       "      <td>0.007593</td>\n",
       "      <td>0.005426</td>\n",
       "      <td>0.008057</td>\n",
       "      <td>0.006110</td>\n",
       "      <td>0.010103</td>\n",
       "      <td>0.004352</td>\n",
       "      <td>0.007545</td>\n",
       "      <td>0.006252</td>\n",
       "      <td>0.002989</td>\n",
       "      <td>0.005863</td>\n",
       "    </tr>\n",
       "    <tr>\n",
       "      <th>ENSG00000112877</th>\n",
       "      <td>0.051643</td>\n",
       "      <td>0.093487</td>\n",
       "      <td>0.214129</td>\n",
       "      <td>1.000000</td>\n",
       "      <td>0.022533</td>\n",
       "      <td>0.007655</td>\n",
       "      <td>0.007412</td>\n",
       "      <td>0.008068</td>\n",
       "      <td>0.011592</td>\n",
       "      <td>0.003454</td>\n",
       "      <td>...</td>\n",
       "      <td>0.008311</td>\n",
       "      <td>0.007408</td>\n",
       "      <td>0.009191</td>\n",
       "      <td>0.009528</td>\n",
       "      <td>0.013606</td>\n",
       "      <td>0.009805</td>\n",
       "      <td>0.011820</td>\n",
       "      <td>0.008740</td>\n",
       "      <td>0.005502</td>\n",
       "      <td>0.005331</td>\n",
       "    </tr>\n",
       "    <tr>\n",
       "      <th>ENSG00000113504</th>\n",
       "      <td>0.015225</td>\n",
       "      <td>0.005980</td>\n",
       "      <td>0.012989</td>\n",
       "      <td>0.022533</td>\n",
       "      <td>1.000000</td>\n",
       "      <td>0.023231</td>\n",
       "      <td>0.009761</td>\n",
       "      <td>0.008314</td>\n",
       "      <td>0.114622</td>\n",
       "      <td>0.007965</td>\n",
       "      <td>...</td>\n",
       "      <td>0.012034</td>\n",
       "      <td>0.006477</td>\n",
       "      <td>0.007184</td>\n",
       "      <td>0.009644</td>\n",
       "      <td>0.011778</td>\n",
       "      <td>0.010879</td>\n",
       "      <td>0.013620</td>\n",
       "      <td>0.010093</td>\n",
       "      <td>0.007659</td>\n",
       "      <td>0.007962</td>\n",
       "    </tr>\n",
       "  </tbody>\n",
       "</table>\n",
       "<p>5 rows × 306 columns</p>\n",
       "</div>"
      ],
      "text/plain": [
       "                 ENSG00000073578  ENSG00000180104  ENSG00000066230  \\\n",
       "ENSG00000073578         1.000000         0.239185         0.160738   \n",
       "ENSG00000180104         0.239185         1.000000         0.410927   \n",
       "ENSG00000066230         0.160738         0.410927         1.000000   \n",
       "ENSG00000112877         0.051643         0.093487         0.214129   \n",
       "ENSG00000113504         0.015225         0.005980         0.012989   \n",
       "\n",
       "                 ENSG00000112877  ENSG00000113504  ENSG00000174358  \\\n",
       "ENSG00000073578         0.051643         0.015225         0.012271   \n",
       "ENSG00000180104         0.093487         0.005980         0.010689   \n",
       "ENSG00000066230         0.214129         0.012989         0.009085   \n",
       "ENSG00000112877         1.000000         0.022533         0.007655   \n",
       "ENSG00000113504         0.022533         1.000000         0.023231   \n",
       "\n",
       "                 ENSG00000164362  ENSG00000049656  ENSG00000153395  \\\n",
       "ENSG00000073578         0.008389         0.010072         0.013264   \n",
       "ENSG00000180104         0.007390         0.004527         0.004119   \n",
       "ENSG00000066230         0.006609         0.009168         0.011800   \n",
       "ENSG00000112877         0.007412         0.008068         0.011592   \n",
       "ENSG00000113504         0.009761         0.008314         0.114622   \n",
       "\n",
       "                 ENSG00000171421  ...  ENSG00000161021  ENSG00000161013  \\\n",
       "ENSG00000073578         0.008193  ...         0.008910         0.009491   \n",
       "ENSG00000180104         0.005801  ...         0.007485         0.002898   \n",
       "ENSG00000066230         0.008830  ...         0.007593         0.005426   \n",
       "ENSG00000112877         0.003454  ...         0.008311         0.007408   \n",
       "ENSG00000113504         0.007965  ...         0.012034         0.006477   \n",
       "\n",
       "                 ENSG00000161011  ENSG00000050748  ENSG00000131459  \\\n",
       "ENSG00000073578         0.010299         0.010914         0.014368   \n",
       "ENSG00000180104         0.002817         0.007050         0.008218   \n",
       "ENSG00000066230         0.008057         0.006110         0.010103   \n",
       "ENSG00000112877         0.009191         0.009528         0.013606   \n",
       "ENSG00000113504         0.007184         0.009644         0.011778   \n",
       "\n",
       "                 ENSG00000113300  ENSG00000037280  ENSG00000131446  \\\n",
       "ENSG00000073578         0.008028         0.011515         0.014988   \n",
       "ENSG00000180104         0.005867         0.006759         0.006991   \n",
       "ENSG00000066230         0.004352         0.007545         0.006252   \n",
       "ENSG00000112877         0.009805         0.011820         0.008740   \n",
       "ENSG00000113504         0.010879         0.013620         0.010093   \n",
       "\n",
       "                 ENSG00000113303  ENSG00000165810  \n",
       "ENSG00000073578         0.012277         0.008287  \n",
       "ENSG00000180104         0.002991         0.004131  \n",
       "ENSG00000066230         0.002989         0.005863  \n",
       "ENSG00000112877         0.005502         0.005331  \n",
       "ENSG00000113504         0.007659         0.007962  \n",
       "\n",
       "[5 rows x 306 columns]"
      ]
     },
     "execution_count": 31,
     "metadata": {},
     "output_type": "execute_result"
    }
   ],
   "source": [
    "gene_corrs_df.head()"
   ]
  },
  {
   "cell_type": "markdown",
   "id": "dad6603f-01c6-41fb-a6f6-241051207dd8",
   "metadata": {
    "papermill": {
     "duration": 2.947737,
     "end_time": "2022-08-27T07:09:21.548036",
     "exception": false,
     "start_time": "2022-08-27T07:09:18.600299",
     "status": "completed"
    },
    "tags": []
   },
   "source": [
    "## Standard checks and stats"
   ]
  },
  {
   "cell_type": "code",
   "execution_count": 32,
   "id": "286686af-1b7b-4440-8453-6bdcbd8de19c",
   "metadata": {
    "execution": {
     "iopub.execute_input": "2022-08-27T07:09:27.347369Z",
     "iopub.status.busy": "2022-08-27T07:09:27.347054Z",
     "iopub.status.idle": "2022-08-27T07:09:27.370290Z",
     "shell.execute_reply": "2022-08-27T07:09:27.369492Z"
    },
    "papermill": {
     "duration": 3.000782,
     "end_time": "2022-08-27T07:09:27.372063",
     "exception": false,
     "start_time": "2022-08-27T07:09:24.371281",
     "status": "completed"
    },
    "tags": []
   },
   "outputs": [],
   "source": [
    "assert not gene_corrs_df.isna().any().any()"
   ]
  },
  {
   "cell_type": "code",
   "execution_count": 33,
   "id": "00583efc-7068-4270-ad1e-4a418e91db96",
   "metadata": {
    "execution": {
     "iopub.execute_input": "2022-08-27T07:09:33.069169Z",
     "iopub.status.busy": "2022-08-27T07:09:33.068839Z",
     "iopub.status.idle": "2022-08-27T07:09:33.095215Z",
     "shell.execute_reply": "2022-08-27T07:09:33.094398Z"
    },
    "papermill": {
     "duration": 2.818847,
     "end_time": "2022-08-27T07:09:33.096998",
     "exception": false,
     "start_time": "2022-08-27T07:09:30.278151",
     "status": "completed"
    },
    "tags": []
   },
   "outputs": [
    {
     "data": {
      "text/plain": [
       "5.660295774763149e-09"
      ]
     },
     "metadata": {},
     "output_type": "display_data"
    }
   ],
   "source": [
    "_min_val = gene_corrs_df.min().min()\n",
    "display(_min_val)\n",
    "assert _min_val >= -0.05"
   ]
  },
  {
   "cell_type": "code",
   "execution_count": 34,
   "id": "d04fb2cf-1050-475b-b855-f5f7cc04092b",
   "metadata": {
    "execution": {
     "iopub.execute_input": "2022-08-27T07:09:38.922204Z",
     "iopub.status.busy": "2022-08-27T07:09:38.921881Z",
     "iopub.status.idle": "2022-08-27T07:09:38.947129Z",
     "shell.execute_reply": "2022-08-27T07:09:38.946539Z"
    },
    "papermill": {
     "duration": 2.99053,
     "end_time": "2022-08-27T07:09:38.948904",
     "exception": false,
     "start_time": "2022-08-27T07:09:35.958374",
     "status": "completed"
    },
    "tags": []
   },
   "outputs": [
    {
     "data": {
      "text/plain": [
       "1.0000000000000024"
      ]
     },
     "metadata": {},
     "output_type": "display_data"
    }
   ],
   "source": [
    "_max_val = gene_corrs_df.max().max()  # this captures the diagonal\n",
    "display(_max_val)\n",
    "assert _max_val <= 1.05"
   ]
  },
  {
   "cell_type": "code",
   "execution_count": 35,
   "id": "96d02c44-1fba-47be-8a93-8f2608420b9c",
   "metadata": {
    "execution": {
     "iopub.execute_input": "2022-08-27T07:09:44.646394Z",
     "iopub.status.busy": "2022-08-27T07:09:44.646078Z",
     "iopub.status.idle": "2022-08-27T07:09:44.669982Z",
     "shell.execute_reply": "2022-08-27T07:09:44.669236Z"
    },
    "papermill": {
     "duration": 2.817871,
     "end_time": "2022-08-27T07:09:44.671763",
     "exception": false,
     "start_time": "2022-08-27T07:09:41.853892",
     "status": "completed"
    },
    "tags": []
   },
   "outputs": [],
   "source": [
    "# check upper triangular values\n",
    "# assert len(gene_corrs) == int(genes_chr.shape[0] * (genes_chr.shape[0] - 1) / 2)"
   ]
  },
  {
   "cell_type": "code",
   "execution_count": 36,
   "id": "fe283586-c348-40e0-8841-f6d97bfb021c",
   "metadata": {
    "execution": {
     "iopub.execute_input": "2022-08-27T07:09:50.415659Z",
     "iopub.status.busy": "2022-08-27T07:09:50.415334Z",
     "iopub.status.idle": "2022-08-27T07:09:50.444255Z",
     "shell.execute_reply": "2022-08-27T07:09:50.443673Z"
    },
    "papermill": {
     "duration": 2.813754,
     "end_time": "2022-08-27T07:09:50.445980",
     "exception": false,
     "start_time": "2022-08-27T07:09:47.632226",
     "status": "completed"
    },
    "tags": []
   },
   "outputs": [
    {
     "data": {
      "text/plain": [
       "count    4.697100e+04\n",
       "mean     1.463294e-02\n",
       "std      8.490021e-02\n",
       "min      5.660296e-09\n",
       "25%      3.948493e-03\n",
       "50%      5.954681e-03\n",
       "75%      8.231795e-03\n",
       "max      1.000000e+00\n",
       "dtype: float64"
      ]
     },
     "execution_count": 36,
     "metadata": {},
     "output_type": "execute_result"
    }
   ],
   "source": [
    "gene_corrs_flat.describe()"
   ]
  },
  {
   "cell_type": "code",
   "execution_count": 37,
   "id": "b3815678-0f93-4b35-897b-a9d047a2aa78",
   "metadata": {
    "execution": {
     "iopub.execute_input": "2022-08-27T07:09:56.287800Z",
     "iopub.status.busy": "2022-08-27T07:09:56.287486Z",
     "iopub.status.idle": "2022-08-27T07:09:56.313912Z",
     "shell.execute_reply": "2022-08-27T07:09:56.313383Z"
    },
    "papermill": {
     "duration": 2.912311,
     "end_time": "2022-08-27T07:09:56.315406",
     "exception": false,
     "start_time": "2022-08-27T07:09:53.403095",
     "status": "completed"
    },
    "tags": []
   },
   "outputs": [
    {
     "data": {
      "text/plain": [
       "0.00    5.660296e-09\n",
       "0.05    1.604694e-03\n",
       "0.10    2.373827e-03\n",
       "0.15    2.966564e-03\n",
       "0.20    3.479365e-03\n",
       "0.25    3.948493e-03\n",
       "0.30    4.383075e-03\n",
       "0.35    4.786221e-03\n",
       "0.40    5.178195e-03\n",
       "0.45    5.551265e-03\n",
       "0.50    5.954681e-03\n",
       "0.55    6.355928e-03\n",
       "0.60    6.767124e-03\n",
       "0.65    7.216395e-03\n",
       "0.70    7.690510e-03\n",
       "0.75    8.231795e-03\n",
       "0.80    8.842134e-03\n",
       "0.85    9.592991e-03\n",
       "0.90    1.060337e-02\n",
       "0.95    1.235048e-02\n",
       "dtype: float64"
      ]
     },
     "metadata": {},
     "output_type": "display_data"
    }
   ],
   "source": [
    "gene_corrs_quantiles = gene_corrs_flat.quantile(np.arange(0, 1, 0.05))\n",
    "display(gene_corrs_quantiles)"
   ]
  },
  {
   "cell_type": "markdown",
   "id": "87134509-b145-4a10-8bc9-b7e914c2b0fa",
   "metadata": {
    "papermill": {
     "duration": 2.933732,
     "end_time": "2022-08-27T07:10:02.032006",
     "exception": false,
     "start_time": "2022-08-27T07:09:59.098274",
     "status": "completed"
    },
    "tags": []
   },
   "source": [
    "## Positive definiteness"
   ]
  },
  {
   "cell_type": "code",
   "execution_count": 38,
   "id": "07d9a9a1-a4f7-48aa-b916-6d42a8cc6186",
   "metadata": {
    "execution": {
     "iopub.execute_input": "2022-08-27T07:10:07.846679Z",
     "iopub.status.busy": "2022-08-27T07:10:07.846363Z",
     "iopub.status.idle": "2022-08-27T07:10:07.905495Z",
     "shell.execute_reply": "2022-08-27T07:10:07.904957Z"
    },
    "papermill": {
     "duration": 2.938854,
     "end_time": "2022-08-27T07:10:07.907081",
     "exception": false,
     "start_time": "2022-08-27T07:10:04.968227",
     "status": "completed"
    },
    "tags": []
   },
   "outputs": [
    {
     "data": {
      "text/plain": [
       "0"
      ]
     },
     "metadata": {},
     "output_type": "display_data"
    },
    {
     "data": {
      "text/plain": [
       "array([], dtype=float64)"
      ]
     },
     "metadata": {},
     "output_type": "display_data"
    }
   ],
   "source": [
    "# print negative eigenvalues\n",
    "eigs = np.linalg.eigvals(gene_corrs_df.to_numpy())\n",
    "display(len(eigs[eigs < 0]))\n",
    "display(eigs[eigs < 0])"
   ]
  },
  {
   "cell_type": "code",
   "execution_count": 39,
   "id": "6e218436-c3c5-4028-8c94-a4fa6260efce",
   "metadata": {
    "execution": {
     "iopub.execute_input": "2022-08-27T07:10:13.657062Z",
     "iopub.status.busy": "2022-08-27T07:10:13.656751Z",
     "iopub.status.idle": "2022-08-27T07:10:13.946509Z",
     "shell.execute_reply": "2022-08-27T07:10:13.945381Z"
    },
    "papermill": {
     "duration": 3.2468,
     "end_time": "2022-08-27T07:10:13.949725",
     "exception": false,
     "start_time": "2022-08-27T07:10:10.702925",
     "status": "completed"
    },
    "tags": []
   },
   "outputs": [
    {
     "name": "stdout",
     "output_type": "stream",
     "text": [
      "Works!\n"
     ]
    }
   ],
   "source": [
    "try:\n",
    "    chol_mat = np.linalg.cholesky(gene_corrs_df.to_numpy())\n",
    "    cov_inv = np.linalg.inv(chol_mat)\n",
    "    print(\"Works!\")\n",
    "except Exception as e:\n",
    "    print(f\"Cholesky decomposition failed: {str(e)}\")"
   ]
  },
  {
   "cell_type": "code",
   "execution_count": 40,
   "id": "dd8827fb-faf9-4c7c-9454-015e94752706",
   "metadata": {
    "execution": {
     "iopub.execute_input": "2022-08-27T07:10:19.685928Z",
     "iopub.status.busy": "2022-08-27T07:10:19.685620Z",
     "iopub.status.idle": "2022-08-27T07:10:19.722839Z",
     "shell.execute_reply": "2022-08-27T07:10:19.722076Z"
    },
    "papermill": {
     "duration": 2.841189,
     "end_time": "2022-08-27T07:10:19.724553",
     "exception": false,
     "start_time": "2022-08-27T07:10:16.883364",
     "status": "completed"
    },
    "tags": []
   },
   "outputs": [
    {
     "name": "stdout",
     "output_type": "stream",
     "text": [
      "Works!\n"
     ]
    }
   ],
   "source": [
    "try:\n",
    "    # decomposition used by statsmodels.GLS\n",
    "    cholsigmainv = np.linalg.cholesky(np.linalg.inv(gene_corrs_df.to_numpy())).T\n",
    "    print(\"Works!\")\n",
    "except Exception as e:\n",
    "    print(f\"Cholesky decomposition failed (statsmodels.GLS): {str(e)}\")"
   ]
  },
  {
   "cell_type": "markdown",
   "id": "8e60a080-edb2-4e9c-b2ef-22961693200c",
   "metadata": {
    "papermill": {
     "duration": 2.893694,
     "end_time": "2022-08-27T07:10:25.574679",
     "exception": false,
     "start_time": "2022-08-27T07:10:22.680985",
     "status": "completed"
    },
    "tags": []
   },
   "source": [
    "## Plot: distribution"
   ]
  },
  {
   "cell_type": "code",
   "execution_count": 41,
   "id": "8301126b-a7d4-4744-9c7d-f0f86eb6f54c",
   "metadata": {
    "execution": {
     "iopub.execute_input": "2022-08-27T07:10:31.357466Z",
     "iopub.status.busy": "2022-08-27T07:10:31.357170Z",
     "iopub.status.idle": "2022-08-27T07:10:39.375959Z",
     "shell.execute_reply": "2022-08-27T07:10:39.375327Z"
    },
    "papermill": {
     "duration": 10.99328,
     "end_time": "2022-08-27T07:10:39.377822",
     "exception": false,
     "start_time": "2022-08-27T07:10:28.384542",
     "status": "completed"
    },
    "tags": []
   },
   "outputs": [
    {
     "data": {
      "image/png": "[encoded data removed]",
      "text/plain": [
       "<Figure size 504x504 with 1 Axes>"
      ]
     },
     "metadata": {
      "needs_background": "light"
     },
     "output_type": "display_data"
    }
   ],
   "source": [
    "with sns.plotting_context(\"paper\", font_scale=1.5):\n",
    "    g = sns.displot(gene_corrs_flat, kde=True, height=7)\n",
    "    g.ax.set_title(\n",
    "        f\"Distribution of gene correlation values in chromosome {CHROMOSOME}\"\n",
    "    )"
   ]
  },
  {
   "cell_type": "markdown",
   "id": "cbd52bca-d878-4a2f-b684-5c83aa3038d4",
   "metadata": {
    "papermill": {
     "duration": 2.786717,
     "end_time": "2022-08-27T07:10:45.059191",
     "exception": false,
     "start_time": "2022-08-27T07:10:42.272474",
     "status": "completed"
    },
    "tags": []
   },
   "source": [
    "## Plot: heatmap"
   ]
  },
  {
   "cell_type": "code",
   "execution_count": 42,
   "id": "d03fe63a-c7b2-4fb9-a53c-db362ce843c9",
   "metadata": {
    "execution": {
     "iopub.execute_input": "2022-08-27T07:10:50.918409Z",
     "iopub.status.busy": "2022-08-27T07:10:50.918099Z",
     "iopub.status.idle": "2022-08-27T07:10:50.944871Z",
     "shell.execute_reply": "2022-08-27T07:10:50.944283Z"
    },
    "papermill": {
     "duration": 2.927718,
     "end_time": "2022-08-27T07:10:50.946628",
     "exception": false,
     "start_time": "2022-08-27T07:10:48.018910",
     "status": "completed"
    },
    "tags": []
   },
   "outputs": [
    {
     "data": {
      "text/plain": [
       "'0.0 / 0.05'"
      ]
     },
     "metadata": {},
     "output_type": "display_data"
    }
   ],
   "source": [
    "vmin_val = min(0.00, gene_corrs_quantiles[0.10])\n",
    "vmax_val = max(0.05, gene_corrs_quantiles[0.90])\n",
    "display(f\"{vmin_val} / {vmax_val}\")"
   ]
  },
  {
   "cell_type": "code",
   "execution_count": 43,
   "id": "dc41b70b-5bcc-4d9e-9f33-a22c4a94dab5",
   "metadata": {
    "execution": {
     "iopub.execute_input": "2022-08-27T07:10:56.743966Z",
     "iopub.status.busy": "2022-08-27T07:10:56.743658Z",
     "iopub.status.idle": "2022-08-27T07:10:57.012783Z",
     "shell.execute_reply": "2022-08-27T07:10:57.012030Z"
    },
    "papermill": {
     "duration": 3.226306,
     "end_time": "2022-08-27T07:10:57.014447",
     "exception": false,
     "start_time": "2022-08-27T07:10:53.788141",
     "status": "completed"
    },
    "tags": []
   },
   "outputs": [
    {
     "data": {
      "text/plain": [
       "Text(0.5, 1.0, 'Gene correlations in chromosome 5')"
      ]
     },
     "execution_count": 43,
     "metadata": {},
     "output_type": "execute_result"
    },
    {
     "data": {
      "image/png": "[encoded data removed]",
      "text/plain": [
       "<Figure size 720x720 with 2 Axes>"
      ]
     },
     "metadata": {
      "needs_background": "light"
     },
     "output_type": "display_data"
    }
   ],
   "source": [
    "f, ax = plt.subplots(figsize=(10, 10))\n",
    "sns.heatmap(\n",
    "    gene_corrs_df,\n",
    "    xticklabels=False,\n",
    "    yticklabels=False,\n",
    "    square=True,\n",
    "    vmin=vmin_val,\n",
    "    vmax=vmax_val,\n",
    "    cmap=\"rocket_r\",\n",
    "    ax=ax,\n",
    ")\n",
    "ax.set_title(f\"Gene correlations in chromosome {CHROMOSOME}\")"
   ]
  },
  {
   "cell_type": "code",
   "execution_count": null,
   "id": "b25e3ead",
   "metadata": {
    "papermill": {
     "duration": 2.942401,
     "end_time": "2022-08-27T07:11:02.727525",
     "exception": false,
     "start_time": "2022-08-27T07:10:59.785124",
     "status": "completed"
    },
    "tags": []
   },
   "outputs": [],
   "source": []
  }
 ],
 "metadata": {
  "jupytext": {
   "cell_metadata_filter": "all,-execution,-papermill,-trusted",
   "formats": "ipynb,py//py:percent"
  },
  "kernelspec": {
   "display_name": "Python 3 (ipykernel)",
   "language": "python",
   "name": "python3"
  },
  "language_info": {
   "codemirror_mode": {
    "name": "ipython",
    "version": 3
   },
   "file_extension": ".py",
   "mimetype": "text/x-python",
   "name": "python",
   "nbconvert_exporter": "python",
   "pygments_lexer": "ipython3",
   "version": "3.8.13"
  },
  "papermill": {
   "default_parameters": {},
   "duration": 4315.86611,
   "end_time": "2022-08-27T07:11:08.263486",
   "environment_variables": {},
   "exception": null,
   "input_path": "nbs/15_gsa_gls/10-gene_expr_correlations.ipynb",
   "output_path": "nbs/15_gsa_gls/gene_corrs/cohorts/phenomexcan_rapid_gwas/gtex_v8/mashr/10-gene_expr_corrs/10-gene_expr_correlations-chr5.run.ipynb",
   "parameters": {
    "CHROMOSOME": 5,
    "COHORT_NAME": "phenomexcan_rapid_gwas",
    "EQTL_MODEL": "MASHR",
    "REFERENCE_PANEL": "GTEX_V8"
   },
   "start_time": "2022-08-27T05:59:12.397376",
   "version": "2.2.2"
  }
 },
 "nbformat": 4,
 "nbformat_minor": 5
}
