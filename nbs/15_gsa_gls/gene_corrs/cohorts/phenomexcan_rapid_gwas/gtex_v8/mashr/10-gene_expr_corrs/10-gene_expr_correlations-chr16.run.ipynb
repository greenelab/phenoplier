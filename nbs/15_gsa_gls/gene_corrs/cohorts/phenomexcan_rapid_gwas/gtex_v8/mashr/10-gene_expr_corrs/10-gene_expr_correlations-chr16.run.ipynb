{
 "cells": [
  {
   "cell_type": "markdown",
   "id": "7a6632fb",
   "metadata": {
    "papermill": {
     "duration": 0.01079,
     "end_time": "2022-08-27T05:59:17.553046",
     "exception": false,
     "start_time": "2022-08-27T05:59:17.542256",
     "status": "completed"
    },
    "tags": []
   },
   "source": [
    "# Description"
   ]
  },
  {
   "cell_type": "markdown",
   "id": "7097c346",
   "metadata": {
    "papermill": {
     "duration": 0.00729,
     "end_time": "2022-08-27T05:59:17.568113",
     "exception": false,
     "start_time": "2022-08-27T05:59:17.560823",
     "status": "completed"
    },
    "tags": []
   },
   "source": [
    "(Please, take a look at the README.md file in this directory for instructions on how to run this notebook)\n",
    "\n",
    "This notebook computes predicted expression correlations between all genes in the MultiPLIER models.\n",
    "\n",
    "It also has a parameter set for papermill to run on a single chromosome to run in parallel (see under `Settings` below).\n",
    "\n",
    "This notebook is not directly run. See README.md."
   ]
  },
  {
   "cell_type": "markdown",
   "id": "c61d8427",
   "metadata": {
    "papermill": {
     "duration": 0.007343,
     "end_time": "2022-08-27T05:59:17.583293",
     "exception": false,
     "start_time": "2022-08-27T05:59:17.575950",
     "status": "completed"
    },
    "tags": []
   },
   "source": [
    "# Modules"
   ]
  },
  {
   "cell_type": "code",
   "execution_count": 1,
   "id": "bbc0234f",
   "metadata": {
    "execution": {
     "iopub.execute_input": "2022-08-27T05:59:17.600007Z",
     "iopub.status.busy": "2022-08-27T05:59:17.599753Z",
     "iopub.status.idle": "2022-08-27T05:59:17.649458Z",
     "shell.execute_reply": "2022-08-27T05:59:17.648948Z"
    },
    "papermill": {
     "duration": 0.060357,
     "end_time": "2022-08-27T05:59:17.651166",
     "exception": false,
     "start_time": "2022-08-27T05:59:17.590809",
     "status": "completed"
    },
    "tags": []
   },
   "outputs": [],
   "source": [
    "%load_ext autoreload\n",
    "%autoreload 2"
   ]
  },
  {
   "cell_type": "code",
   "execution_count": 2,
   "id": "1d5f5a59",
   "metadata": {
    "execution": {
     "iopub.execute_input": "2022-08-27T05:59:17.668247Z",
     "iopub.status.busy": "2022-08-27T05:59:17.668062Z",
     "iopub.status.idle": "2022-08-27T05:59:23.831505Z",
     "shell.execute_reply": "2022-08-27T05:59:23.830889Z"
    },
    "papermill": {
     "duration": 6.174358,
     "end_time": "2022-08-27T05:59:23.833488",
     "exception": false,
     "start_time": "2022-08-27T05:59:17.659130",
     "status": "completed"
    },
    "tags": []
   },
   "outputs": [],
   "source": [
    "from random import sample, seed\n",
    "import warnings\n",
    "from pathlib import Path\n",
    "import pickle\n",
    "import traceback\n",
    "\n",
    "import numpy as np\n",
    "from scipy.spatial.distance import squareform\n",
    "import pandas as pd\n",
    "from tqdm import tqdm\n",
    "import matplotlib.pyplot as plt\n",
    "import seaborn as sns\n",
    "\n",
    "import conf\n",
    "from entity import Gene"
   ]
  },
  {
   "cell_type": "markdown",
   "id": "1eac24b5",
   "metadata": {
    "papermill": {
     "duration": 0.009282,
     "end_time": "2022-08-27T05:59:23.881216",
     "exception": false,
     "start_time": "2022-08-27T05:59:23.871934",
     "status": "completed"
    },
    "tags": []
   },
   "source": [
    "# Settings"
   ]
  },
  {
   "cell_type": "code",
   "execution_count": 3,
   "id": "ca4560ba",
   "metadata": {
    "execution": {
     "iopub.execute_input": "2022-08-27T05:59:23.898803Z",
     "iopub.status.busy": "2022-08-27T05:59:23.898544Z",
     "iopub.status.idle": "2022-08-27T05:59:24.017589Z",
     "shell.execute_reply": "2022-08-27T05:59:24.017070Z"
    },
    "papermill": {
     "duration": 0.129774,
     "end_time": "2022-08-27T05:59:24.019230",
     "exception": false,
     "start_time": "2022-08-27T05:59:23.889456",
     "status": "completed"
    },
    "tags": [
     "parameters"
    ]
   },
   "outputs": [],
   "source": [
    "# a cohort name (it could be something like UK_BIOBANK, etc)\n",
    "COHORT_NAME = None\n",
    "\n",
    "# reference panel such as 1000G or GTEX_V8\n",
    "REFERENCE_PANEL = None\n",
    "\n",
    "# predictions models such as MASHR or ELASTIC_NET\n",
    "EQTL_MODEL = None\n",
    "\n",
    "# this is the default value used in S-MultiXcan to select the\n",
    "# top principal components of the expression correlation matrix\n",
    "SMULTIXCAN_CONDITION_NUMBER = 30\n",
    "\n",
    "# specifies a single chromosome value\n",
    "CHROMOSOME = None\n",
    "\n",
    "# If True, computes the correlation between closeby genes only;\n",
    "# otherwise, it computes correlations for all genes in a chromosome\n",
    "COMPUTE_CORRELATIONS_WITHIN_DISTANCE = False\n",
    "\n",
    "# if True, then it will continue if a gene pair correlation fails,\n",
    "# printing the warning/error for debugging. If False, any warning/error\n",
    "# will be thrown\n",
    "DEBUG_MODE = False"
   ]
  },
  {
   "cell_type": "code",
   "execution_count": 4,
   "id": "32ebe61a",
   "metadata": {
    "execution": {
     "iopub.execute_input": "2022-08-27T05:59:24.041978Z",
     "iopub.status.busy": "2022-08-27T05:59:24.041777Z",
     "iopub.status.idle": "2022-08-27T05:59:24.058416Z",
     "shell.execute_reply": "2022-08-27T05:59:24.057908Z"
    },
    "papermill": {
     "duration": 0.029017,
     "end_time": "2022-08-27T05:59:24.059989",
     "exception": false,
     "start_time": "2022-08-27T05:59:24.030972",
     "status": "completed"
    },
    "tags": [
     "injected-parameters"
    ]
   },
   "outputs": [],
   "source": [
    "# Parameters\n",
    "COHORT_NAME = \"phenomexcan_rapid_gwas\"\n",
    "REFERENCE_PANEL = \"GTEX_V8\"\n",
    "EQTL_MODEL = \"MASHR\"\n",
    "CHROMOSOME = 16\n"
   ]
  },
  {
   "cell_type": "code",
   "execution_count": 5,
   "id": "3190631f-27fc-480f-b18e-571d580425a5",
   "metadata": {
    "execution": {
     "iopub.execute_input": "2022-08-27T05:59:24.077410Z",
     "iopub.status.busy": "2022-08-27T05:59:24.077210Z",
     "iopub.status.idle": "2022-08-27T05:59:24.097401Z",
     "shell.execute_reply": "2022-08-27T05:59:24.096892Z"
    },
    "papermill": {
     "duration": 0.030636,
     "end_time": "2022-08-27T05:59:24.098877",
     "exception": false,
     "start_time": "2022-08-27T05:59:24.068241",
     "status": "completed"
    },
    "tags": []
   },
   "outputs": [
    {
     "data": {
      "text/plain": [
       "'Cohort name: phenomexcan_rapid_gwas'"
      ]
     },
     "metadata": {},
     "output_type": "display_data"
    }
   ],
   "source": [
    "assert COHORT_NAME is not None and len(COHORT_NAME) > 0, \"A cohort name must be given\"\n",
    "\n",
    "COHORT_NAME = COHORT_NAME.lower()\n",
    "display(f\"Cohort name: {COHORT_NAME}\")"
   ]
  },
  {
   "cell_type": "code",
   "execution_count": 6,
   "id": "f53ba19b-0f93-4fa2-a047-63b375939d1a",
   "metadata": {
    "execution": {
     "iopub.execute_input": "2022-08-27T05:59:24.118646Z",
     "iopub.status.busy": "2022-08-27T05:59:24.118447Z",
     "iopub.status.idle": "2022-08-27T05:59:24.136890Z",
     "shell.execute_reply": "2022-08-27T05:59:24.136338Z"
    },
    "papermill": {
     "duration": 0.031174,
     "end_time": "2022-08-27T05:59:24.138369",
     "exception": false,
     "start_time": "2022-08-27T05:59:24.107195",
     "status": "completed"
    },
    "tags": []
   },
   "outputs": [
    {
     "data": {
      "text/plain": [
       "'Reference panel: GTEX_V8'"
      ]
     },
     "metadata": {},
     "output_type": "display_data"
    }
   ],
   "source": [
    "assert (\n",
    "    REFERENCE_PANEL is not None and len(REFERENCE_PANEL) > 0\n",
    "), \"A reference panel must be given\"\n",
    "\n",
    "display(f\"Reference panel: {REFERENCE_PANEL}\")"
   ]
  },
  {
   "cell_type": "code",
   "execution_count": 7,
   "id": "e024d130-c139-429a-9c6e-ccf149e297b0",
   "metadata": {
    "execution": {
     "iopub.execute_input": "2022-08-27T05:59:24.158597Z",
     "iopub.status.busy": "2022-08-27T05:59:24.158392Z",
     "iopub.status.idle": "2022-08-27T05:59:24.177410Z",
     "shell.execute_reply": "2022-08-27T05:59:24.176889Z"
    },
    "papermill": {
     "duration": 0.030885,
     "end_time": "2022-08-27T05:59:24.178916",
     "exception": false,
     "start_time": "2022-08-27T05:59:24.148031",
     "status": "completed"
    },
    "tags": []
   },
   "outputs": [
    {
     "data": {
      "text/plain": [
       "'eQTL model: MASHR) / mashr_'"
      ]
     },
     "metadata": {},
     "output_type": "display_data"
    }
   ],
   "source": [
    "assert (\n",
    "    EQTL_MODEL is not None and len(EQTL_MODEL) > 0\n",
    "), \"A prediction/eQTL model must be given\"\n",
    "\n",
    "EQTL_MODEL_FILES_PREFIX = conf.PHENOMEXCAN[\"PREDICTION_MODELS\"][f\"{EQTL_MODEL}_PREFIX\"]\n",
    "display(f\"eQTL model: {EQTL_MODEL}) / {EQTL_MODEL_FILES_PREFIX}\")"
   ]
  },
  {
   "cell_type": "code",
   "execution_count": 8,
   "id": "552a7f63-a18c-4d3e-bb6a-94f99b431291",
   "metadata": {
    "execution": {
     "iopub.execute_input": "2022-08-27T05:59:24.201171Z",
     "iopub.status.busy": "2022-08-27T05:59:24.200971Z",
     "iopub.status.idle": "2022-08-27T05:59:24.219266Z",
     "shell.execute_reply": "2022-08-27T05:59:24.218750Z"
    },
    "papermill": {
     "duration": 0.0315,
     "end_time": "2022-08-27T05:59:24.220728",
     "exception": false,
     "start_time": "2022-08-27T05:59:24.189228",
     "status": "completed"
    },
    "tags": []
   },
   "outputs": [
    {
     "data": {
      "text/plain": [
       "'S-MultiXcan condition number: 30'"
      ]
     },
     "metadata": {},
     "output_type": "display_data"
    }
   ],
   "source": [
    "assert (\n",
    "    SMULTIXCAN_CONDITION_NUMBER is not None and SMULTIXCAN_CONDITION_NUMBER > 0\n",
    "), \"The S-MultiXcan condition number (positive integer) must be given\"\n",
    "\n",
    "display(f\"S-MultiXcan condition number: {SMULTIXCAN_CONDITION_NUMBER}\")"
   ]
  },
  {
   "cell_type": "code",
   "execution_count": 9,
   "id": "f34a336f-548e-4afe-8955-90eaea4f42c6",
   "metadata": {
    "execution": {
     "iopub.execute_input": "2022-08-27T05:59:24.239305Z",
     "iopub.status.busy": "2022-08-27T05:59:24.239106Z",
     "iopub.status.idle": "2022-08-27T05:59:24.258312Z",
     "shell.execute_reply": "2022-08-27T05:59:24.257812Z"
    },
    "papermill": {
     "duration": 0.030293,
     "end_time": "2022-08-27T05:59:24.259775",
     "exception": false,
     "start_time": "2022-08-27T05:59:24.229482",
     "status": "completed"
    },
    "tags": []
   },
   "outputs": [
    {
     "data": {
      "text/plain": [
       "'Working on chromosome 16'"
      ]
     },
     "metadata": {},
     "output_type": "display_data"
    }
   ],
   "source": [
    "assert CHROMOSOME is not None and (\n",
    "    1 <= CHROMOSOME <= 22\n",
    "), \"You have to select one chromosome (format: number between 1 and 22)\"\n",
    "\n",
    "# CHROMOSOME = str(CHROMOSOME)\n",
    "display(f\"Working on chromosome {CHROMOSOME}\")"
   ]
  },
  {
   "cell_type": "code",
   "execution_count": 10,
   "id": "ab8e96e8-06b5-4363-9dcd-dc4d78cc27f7",
   "metadata": {
    "execution": {
     "iopub.execute_input": "2022-08-27T05:59:24.278509Z",
     "iopub.status.busy": "2022-08-27T05:59:24.278309Z",
     "iopub.status.idle": "2022-08-27T05:59:24.296608Z",
     "shell.execute_reply": "2022-08-27T05:59:24.296103Z"
    },
    "papermill": {
     "duration": 0.029571,
     "end_time": "2022-08-27T05:59:24.298083",
     "exception": false,
     "start_time": "2022-08-27T05:59:24.268512",
     "status": "completed"
    },
    "tags": []
   },
   "outputs": [
    {
     "data": {
      "text/plain": [
       "'Compute correlation within distance False'"
      ]
     },
     "metadata": {},
     "output_type": "display_data"
    }
   ],
   "source": [
    "display(f\"Compute correlation within distance {COMPUTE_CORRELATIONS_WITHIN_DISTANCE}\")"
   ]
  },
  {
   "cell_type": "code",
   "execution_count": 11,
   "id": "396392dc-0340-4540-9b02-e182b833f909",
   "metadata": {
    "execution": {
     "iopub.execute_input": "2022-08-27T05:59:24.316462Z",
     "iopub.status.busy": "2022-08-27T05:59:24.316264Z",
     "iopub.status.idle": "2022-08-27T05:59:24.337177Z",
     "shell.execute_reply": "2022-08-27T05:59:24.336647Z"
    },
    "papermill": {
     "duration": 0.03203,
     "end_time": "2022-08-27T05:59:24.338681",
     "exception": false,
     "start_time": "2022-08-27T05:59:24.306651",
     "status": "completed"
    },
    "tags": []
   },
   "outputs": [
    {
     "data": {
      "text/plain": [
       "'Using output dir base: /project/ritchie20/projects/phenoplier/base/results/gls/gene_corrs/cohorts/phenomexcan_rapid_gwas/gtex_v8/mashr'"
      ]
     },
     "metadata": {},
     "output_type": "display_data"
    }
   ],
   "source": [
    "OUTPUT_DIR_BASE = (\n",
    "    conf.RESULTS[\"GLS\"]\n",
    "    / \"gene_corrs\"\n",
    "    / \"cohorts\"\n",
    "    / COHORT_NAME\n",
    "    / REFERENCE_PANEL.lower()\n",
    "    / EQTL_MODEL.lower()\n",
    ")\n",
    "OUTPUT_DIR_BASE.mkdir(parents=True, exist_ok=True)\n",
    "\n",
    "display(f\"Using output dir base: {OUTPUT_DIR_BASE}\")"
   ]
  },
  {
   "cell_type": "markdown",
   "id": "d2ba085e",
   "metadata": {
    "papermill": {
     "duration": 0.009095,
     "end_time": "2022-08-27T05:59:24.356714",
     "exception": false,
     "start_time": "2022-08-27T05:59:24.347619",
     "status": "completed"
    },
    "tags": []
   },
   "source": [
    "# Load data"
   ]
  },
  {
   "cell_type": "markdown",
   "id": "7dcb8db7",
   "metadata": {
    "papermill": {
     "duration": 0.008576,
     "end_time": "2022-08-27T05:59:24.374175",
     "exception": false,
     "start_time": "2022-08-27T05:59:24.365599",
     "status": "completed"
    },
    "tags": []
   },
   "source": [
    "## GWAS variants"
   ]
  },
  {
   "cell_type": "code",
   "execution_count": 12,
   "id": "29434c4e-8cd3-4b9b-82e4-b5a251d9dd19",
   "metadata": {
    "execution": {
     "iopub.execute_input": "2022-08-27T05:59:24.392684Z",
     "iopub.status.busy": "2022-08-27T05:59:24.392484Z",
     "iopub.status.idle": "2022-08-27T05:59:26.795380Z",
     "shell.execute_reply": "2022-08-27T05:59:26.794791Z"
    },
    "papermill": {
     "duration": 2.414335,
     "end_time": "2022-08-27T05:59:26.797250",
     "exception": false,
     "start_time": "2022-08-27T05:59:24.382915",
     "status": "completed"
    },
    "tags": []
   },
   "outputs": [],
   "source": [
    "with open(OUTPUT_DIR_BASE / \"gwas_variant_ids.pkl\", \"rb\") as handle:\n",
    "    gwas_variants_ids_set = pickle.load(handle)"
   ]
  },
  {
   "cell_type": "code",
   "execution_count": 13,
   "id": "b9d9dec2-4a76-4bf9-bde2-e24c95acb8a0",
   "metadata": {
    "execution": {
     "iopub.execute_input": "2022-08-27T05:59:26.834048Z",
     "iopub.status.busy": "2022-08-27T05:59:26.833851Z",
     "iopub.status.idle": "2022-08-27T05:59:27.007775Z",
     "shell.execute_reply": "2022-08-27T05:59:27.007243Z"
    },
    "papermill": {
     "duration": 0.193019,
     "end_time": "2022-08-27T05:59:27.009248",
     "exception": false,
     "start_time": "2022-08-27T05:59:26.816229",
     "status": "completed"
    },
    "tags": []
   },
   "outputs": [
    {
     "data": {
      "text/plain": [
       "8496088"
      ]
     },
     "execution_count": 13,
     "metadata": {},
     "output_type": "execute_result"
    }
   ],
   "source": [
    "len(gwas_variants_ids_set)"
   ]
  },
  {
   "cell_type": "code",
   "execution_count": 14,
   "id": "4235b06a-6034-4ee4-a0a3-2ae35d122418",
   "metadata": {
    "execution": {
     "iopub.execute_input": "2022-08-27T05:59:27.052050Z",
     "iopub.status.busy": "2022-08-27T05:59:27.051849Z",
     "iopub.status.idle": "2022-08-27T05:59:27.592396Z",
     "shell.execute_reply": "2022-08-27T05:59:27.591863Z"
    },
    "papermill": {
     "duration": 0.558772,
     "end_time": "2022-08-27T05:59:27.593911",
     "exception": false,
     "start_time": "2022-08-27T05:59:27.035139",
     "status": "completed"
    },
    "tags": []
   },
   "outputs": [
    {
     "data": {
      "text/plain": [
       "['chr2_82544228_C_T_b38',\n",
       " 'chr18_31442407_A_G_b38',\n",
       " 'chr6_161551154_G_A_b38',\n",
       " 'chr17_72497212_G_A_b38',\n",
       " 'chr9_130934507_A_G_b38']"
      ]
     },
     "execution_count": 14,
     "metadata": {},
     "output_type": "execute_result"
    }
   ],
   "source": [
    "list(gwas_variants_ids_set)[:5]"
   ]
  },
  {
   "cell_type": "markdown",
   "id": "07866999-2305-41f9-a144-e69c9122c212",
   "metadata": {
    "papermill": {
     "duration": 0.014248,
     "end_time": "2022-08-27T05:59:27.622492",
     "exception": false,
     "start_time": "2022-08-27T05:59:27.608244",
     "status": "completed"
    },
    "tags": []
   },
   "source": [
    "## S-PrediXcan tissue models"
   ]
  },
  {
   "cell_type": "code",
   "execution_count": 15,
   "id": "780611d9-77c8-405f-90a4-f271f7b09397",
   "metadata": {
    "execution": {
     "iopub.execute_input": "2022-08-27T05:59:27.651556Z",
     "iopub.status.busy": "2022-08-27T05:59:27.651360Z",
     "iopub.status.idle": "2022-08-27T05:59:28.528542Z",
     "shell.execute_reply": "2022-08-27T05:59:28.527690Z"
    },
    "papermill": {
     "duration": 0.893292,
     "end_time": "2022-08-27T05:59:28.530609",
     "exception": false,
     "start_time": "2022-08-27T05:59:27.637317",
     "status": "completed"
    },
    "tags": []
   },
   "outputs": [],
   "source": [
    "spredixcan_genes_models = pd.read_pickle(OUTPUT_DIR_BASE / \"gene_tissues.pkl\")"
   ]
  },
  {
   "cell_type": "code",
   "execution_count": 16,
   "id": "726dd1f6-9557-4225-91fa-b3b879ea96e1",
   "metadata": {
    "execution": {
     "iopub.execute_input": "2022-08-27T05:59:28.550840Z",
     "iopub.status.busy": "2022-08-27T05:59:28.550607Z",
     "iopub.status.idle": "2022-08-27T05:59:28.574808Z",
     "shell.execute_reply": "2022-08-27T05:59:28.574311Z"
    },
    "papermill": {
     "duration": 0.035855,
     "end_time": "2022-08-27T05:59:28.576209",
     "exception": false,
     "start_time": "2022-08-27T05:59:28.540354",
     "status": "completed"
    },
    "tags": []
   },
   "outputs": [
    {
     "data": {
      "text/plain": [
       "(6428, 3)"
      ]
     },
     "execution_count": 16,
     "metadata": {},
     "output_type": "execute_result"
    }
   ],
   "source": [
    "spredixcan_genes_models.shape"
   ]
  },
  {
   "cell_type": "code",
   "execution_count": 17,
   "id": "944a1b48-222c-4eb0-b252-b9de2cbca215",
   "metadata": {
    "execution": {
     "iopub.execute_input": "2022-08-27T05:59:28.595831Z",
     "iopub.status.busy": "2022-08-27T05:59:28.595626Z",
     "iopub.status.idle": "2022-08-27T05:59:28.621657Z",
     "shell.execute_reply": "2022-08-27T05:59:28.621150Z"
    },
    "papermill": {
     "duration": 0.037459,
     "end_time": "2022-08-27T05:59:28.623168",
     "exception": false,
     "start_time": "2022-08-27T05:59:28.585709",
     "status": "completed"
    },
    "tags": []
   },
   "outputs": [
    {
     "data": {
      "text/html": [
       "<div>\n",
       "<style scoped>\n",
       "    .dataframe tbody tr th:only-of-type {\n",
       "        vertical-align: middle;\n",
       "    }\n",
       "\n",
       "    .dataframe tbody tr th {\n",
       "        vertical-align: top;\n",
       "    }\n",
       "\n",
       "    .dataframe thead th {\n",
       "        text-align: right;\n",
       "    }\n",
       "</style>\n",
       "<table border=\"1\" class=\"dataframe\">\n",
       "  <thead>\n",
       "    <tr style=\"text-align: right;\">\n",
       "      <th></th>\n",
       "      <th>gene_name</th>\n",
       "      <th>tissue</th>\n",
       "      <th>n_tissues</th>\n",
       "    </tr>\n",
       "    <tr>\n",
       "      <th>gene_id</th>\n",
       "      <th></th>\n",
       "      <th></th>\n",
       "      <th></th>\n",
       "    </tr>\n",
       "  </thead>\n",
       "  <tbody>\n",
       "    <tr>\n",
       "      <th>ENSG00000000419</th>\n",
       "      <td>DPM1</td>\n",
       "      <td>(Brain_Hypothalamus, Brain_Substantia_nigra)</td>\n",
       "      <td>2</td>\n",
       "    </tr>\n",
       "    <tr>\n",
       "      <th>ENSG00000000938</th>\n",
       "      <td>FGR</td>\n",
       "      <td>(Artery_Aorta, Brain_Cortex, Prostate, Adipose...</td>\n",
       "      <td>36</td>\n",
       "    </tr>\n",
       "    <tr>\n",
       "      <th>ENSG00000000971</th>\n",
       "      <td>CFH</td>\n",
       "      <td>(Artery_Aorta, Small_Intestine_Terminal_Ileum,...</td>\n",
       "      <td>34</td>\n",
       "    </tr>\n",
       "    <tr>\n",
       "      <th>ENSG00000001084</th>\n",
       "      <td>GCLC</td>\n",
       "      <td>(Artery_Aorta, Small_Intestine_Terminal_Ileum,...</td>\n",
       "      <td>33</td>\n",
       "    </tr>\n",
       "    <tr>\n",
       "      <th>ENSG00000001167</th>\n",
       "      <td>NFYA</td>\n",
       "      <td>(Artery_Aorta, Small_Intestine_Terminal_Ileum,...</td>\n",
       "      <td>40</td>\n",
       "    </tr>\n",
       "  </tbody>\n",
       "</table>\n",
       "</div>"
      ],
      "text/plain": [
       "                gene_name                                             tissue  \\\n",
       "gene_id                                                                        \n",
       "ENSG00000000419      DPM1       (Brain_Hypothalamus, Brain_Substantia_nigra)   \n",
       "ENSG00000000938       FGR  (Artery_Aorta, Brain_Cortex, Prostate, Adipose...   \n",
       "ENSG00000000971       CFH  (Artery_Aorta, Small_Intestine_Terminal_Ileum,...   \n",
       "ENSG00000001084      GCLC  (Artery_Aorta, Small_Intestine_Terminal_Ileum,...   \n",
       "ENSG00000001167      NFYA  (Artery_Aorta, Small_Intestine_Terminal_Ileum,...   \n",
       "\n",
       "                 n_tissues  \n",
       "gene_id                     \n",
       "ENSG00000000419          2  \n",
       "ENSG00000000938         36  \n",
       "ENSG00000000971         34  \n",
       "ENSG00000001084         33  \n",
       "ENSG00000001167         40  "
      ]
     },
     "execution_count": 17,
     "metadata": {},
     "output_type": "execute_result"
    }
   ],
   "source": [
    "spredixcan_genes_models.head()"
   ]
  },
  {
   "cell_type": "code",
   "execution_count": 18,
   "id": "d1c11bb1-be0b-4f40-b360-633d6827109f",
   "metadata": {
    "execution": {
     "iopub.execute_input": "2022-08-27T05:59:28.642568Z",
     "iopub.status.busy": "2022-08-27T05:59:28.642379Z",
     "iopub.status.idle": "2022-08-27T05:59:28.659086Z",
     "shell.execute_reply": "2022-08-27T05:59:28.658600Z"
    },
    "papermill": {
     "duration": 0.028228,
     "end_time": "2022-08-27T05:59:28.660585",
     "exception": false,
     "start_time": "2022-08-27T05:59:28.632357",
     "status": "completed"
    },
    "tags": []
   },
   "outputs": [],
   "source": [
    "assert spredixcan_genes_models.index.is_unique"
   ]
  },
  {
   "cell_type": "markdown",
   "id": "a5b5092c-a13e-47c4-a92a-480fcc08f3ae",
   "metadata": {
    "papermill": {
     "duration": 0.009174,
     "end_time": "2022-08-27T05:59:28.679177",
     "exception": false,
     "start_time": "2022-08-27T05:59:28.670003",
     "status": "completed"
    },
    "tags": []
   },
   "source": [
    "## Gene info"
   ]
  },
  {
   "cell_type": "code",
   "execution_count": 19,
   "id": "7d6bb224-88e9-4358-ac10-43a41d92cdad",
   "metadata": {
    "execution": {
     "iopub.execute_input": "2022-08-27T05:59:28.699110Z",
     "iopub.status.busy": "2022-08-27T05:59:28.698894Z",
     "iopub.status.idle": "2022-08-27T05:59:28.721066Z",
     "shell.execute_reply": "2022-08-27T05:59:28.720548Z"
    },
    "papermill": {
     "duration": 0.034164,
     "end_time": "2022-08-27T05:59:28.722689",
     "exception": false,
     "start_time": "2022-08-27T05:59:28.688525",
     "status": "completed"
    },
    "tags": []
   },
   "outputs": [],
   "source": [
    "genes_info = pd.read_pickle(OUTPUT_DIR_BASE / \"genes_info.pkl\")"
   ]
  },
  {
   "cell_type": "code",
   "execution_count": 20,
   "id": "9e32abfa-546d-483e-8c18-d526e9e05903",
   "metadata": {
    "execution": {
     "iopub.execute_input": "2022-08-27T05:59:28.743116Z",
     "iopub.status.busy": "2022-08-27T05:59:28.742902Z",
     "iopub.status.idle": "2022-08-27T05:59:28.760313Z",
     "shell.execute_reply": "2022-08-27T05:59:28.759825Z"
    },
    "papermill": {
     "duration": 0.029514,
     "end_time": "2022-08-27T05:59:28.761754",
     "exception": false,
     "start_time": "2022-08-27T05:59:28.732240",
     "status": "completed"
    },
    "tags": []
   },
   "outputs": [
    {
     "data": {
      "text/plain": [
       "(6428, 7)"
      ]
     },
     "execution_count": 20,
     "metadata": {},
     "output_type": "execute_result"
    }
   ],
   "source": [
    "genes_info.shape"
   ]
  },
  {
   "cell_type": "code",
   "execution_count": 21,
   "id": "d16c3e92-85ec-468a-9a56-e25a9774a1cb",
   "metadata": {
    "execution": {
     "iopub.execute_input": "2022-08-27T05:59:28.781726Z",
     "iopub.status.busy": "2022-08-27T05:59:28.781535Z",
     "iopub.status.idle": "2022-08-27T05:59:28.803188Z",
     "shell.execute_reply": "2022-08-27T05:59:28.802692Z"
    },
    "papermill": {
     "duration": 0.033279,
     "end_time": "2022-08-27T05:59:28.804585",
     "exception": false,
     "start_time": "2022-08-27T05:59:28.771306",
     "status": "completed"
    },
    "tags": []
   },
   "outputs": [
    {
     "data": {
      "text/html": [
       "<div>\n",
       "<style scoped>\n",
       "    .dataframe tbody tr th:only-of-type {\n",
       "        vertical-align: middle;\n",
       "    }\n",
       "\n",
       "    .dataframe tbody tr th {\n",
       "        vertical-align: top;\n",
       "    }\n",
       "\n",
       "    .dataframe thead th {\n",
       "        text-align: right;\n",
       "    }\n",
       "</style>\n",
       "<table border=\"1\" class=\"dataframe\">\n",
       "  <thead>\n",
       "    <tr style=\"text-align: right;\">\n",
       "      <th></th>\n",
       "      <th>name</th>\n",
       "      <th>id</th>\n",
       "      <th>chr</th>\n",
       "      <th>band</th>\n",
       "      <th>start_position</th>\n",
       "      <th>end_position</th>\n",
       "      <th>gene_length</th>\n",
       "    </tr>\n",
       "  </thead>\n",
       "  <tbody>\n",
       "    <tr>\n",
       "      <th>0</th>\n",
       "      <td>ZNF605</td>\n",
       "      <td>ENSG00000196458</td>\n",
       "      <td>12</td>\n",
       "      <td>12q24.33</td>\n",
       "      <td>132918306</td>\n",
       "      <td>132956306</td>\n",
       "      <td>38000</td>\n",
       "    </tr>\n",
       "    <tr>\n",
       "      <th>1</th>\n",
       "      <td>FBP1</td>\n",
       "      <td>ENSG00000165140</td>\n",
       "      <td>9</td>\n",
       "      <td>9q22.32</td>\n",
       "      <td>94603133</td>\n",
       "      <td>94640249</td>\n",
       "      <td>37116</td>\n",
       "    </tr>\n",
       "    <tr>\n",
       "      <th>2</th>\n",
       "      <td>TAL1</td>\n",
       "      <td>ENSG00000162367</td>\n",
       "      <td>1</td>\n",
       "      <td>1p33</td>\n",
       "      <td>47216290</td>\n",
       "      <td>47232220</td>\n",
       "      <td>15930</td>\n",
       "    </tr>\n",
       "    <tr>\n",
       "      <th>3</th>\n",
       "      <td>MPV17</td>\n",
       "      <td>ENSG00000115204</td>\n",
       "      <td>2</td>\n",
       "      <td>2p23.3</td>\n",
       "      <td>27309492</td>\n",
       "      <td>27325680</td>\n",
       "      <td>16188</td>\n",
       "    </tr>\n",
       "    <tr>\n",
       "      <th>4</th>\n",
       "      <td>PTPRN</td>\n",
       "      <td>ENSG00000054356</td>\n",
       "      <td>2</td>\n",
       "      <td>2q35</td>\n",
       "      <td>219289623</td>\n",
       "      <td>219309648</td>\n",
       "      <td>20025</td>\n",
       "    </tr>\n",
       "  </tbody>\n",
       "</table>\n",
       "</div>"
      ],
      "text/plain": [
       "     name               id  chr      band  start_position  end_position  \\\n",
       "0  ZNF605  ENSG00000196458   12  12q24.33       132918306     132956306   \n",
       "1    FBP1  ENSG00000165140    9   9q22.32        94603133      94640249   \n",
       "2    TAL1  ENSG00000162367    1      1p33        47216290      47232220   \n",
       "3   MPV17  ENSG00000115204    2    2p23.3        27309492      27325680   \n",
       "4   PTPRN  ENSG00000054356    2      2q35       219289623     219309648   \n",
       "\n",
       "   gene_length  \n",
       "0        38000  \n",
       "1        37116  \n",
       "2        15930  \n",
       "3        16188  \n",
       "4        20025  "
      ]
     },
     "execution_count": 21,
     "metadata": {},
     "output_type": "execute_result"
    }
   ],
   "source": [
    "genes_info.head()"
   ]
  },
  {
   "cell_type": "markdown",
   "id": "d3843e06",
   "metadata": {
    "papermill": {
     "duration": 0.00934,
     "end_time": "2022-08-27T05:59:28.823438",
     "exception": false,
     "start_time": "2022-08-27T05:59:28.814098",
     "status": "completed"
    },
    "tags": []
   },
   "source": [
    "# Compute correlations"
   ]
  },
  {
   "cell_type": "code",
   "execution_count": 22,
   "id": "cb859c15-d1f3-4006-a74c-2b83c0db9611",
   "metadata": {
    "execution": {
     "iopub.execute_input": "2022-08-27T05:59:28.843426Z",
     "iopub.status.busy": "2022-08-27T05:59:28.843233Z",
     "iopub.status.idle": "2022-08-27T05:59:28.861220Z",
     "shell.execute_reply": "2022-08-27T05:59:28.860688Z"
    },
    "papermill": {
     "duration": 0.029559,
     "end_time": "2022-08-27T05:59:28.862608",
     "exception": false,
     "start_time": "2022-08-27T05:59:28.833049",
     "status": "completed"
    },
    "tags": []
   },
   "outputs": [
    {
     "data": {
      "text/plain": [
       "PosixPath('/project/ritchie20/projects/phenoplier/base/results/gls/gene_corrs/cohorts/phenomexcan_rapid_gwas/gtex_v8/mashr/by_chr/gene_corrs-chr16.pkl')"
      ]
     },
     "metadata": {},
     "output_type": "display_data"
    }
   ],
   "source": [
    "output_dir = OUTPUT_DIR_BASE / \"by_chr\"\n",
    "output_dir.mkdir(exist_ok=True, parents=True)\n",
    "output_file = output_dir / f\"gene_corrs-chr{CHROMOSOME}.pkl\"\n",
    "display(output_file)"
   ]
  },
  {
   "cell_type": "code",
   "execution_count": 23,
   "id": "aa674fe4-6794-4eed-98fa-32b39d1d4ace",
   "metadata": {
    "execution": {
     "iopub.execute_input": "2022-08-27T05:59:28.882892Z",
     "iopub.status.busy": "2022-08-27T05:59:28.882685Z",
     "iopub.status.idle": "2022-08-27T05:59:28.899049Z",
     "shell.execute_reply": "2022-08-27T05:59:28.898528Z"
    },
    "papermill": {
     "duration": 0.028292,
     "end_time": "2022-08-27T05:59:28.900612",
     "exception": false,
     "start_time": "2022-08-27T05:59:28.872320",
     "status": "completed"
    },
    "tags": []
   },
   "outputs": [],
   "source": [
    "warnings.filterwarnings(\"error\")"
   ]
  },
  {
   "cell_type": "code",
   "execution_count": 24,
   "id": "44d5450b-3baf-43f1-9e2e-4b06f1a785f8",
   "metadata": {
    "execution": {
     "iopub.execute_input": "2022-08-27T05:59:28.921030Z",
     "iopub.status.busy": "2022-08-27T05:59:28.920830Z",
     "iopub.status.idle": "2022-08-27T05:59:28.937031Z",
     "shell.execute_reply": "2022-08-27T05:59:28.936530Z"
    },
    "papermill": {
     "duration": 0.028007,
     "end_time": "2022-08-27T05:59:28.938527",
     "exception": false,
     "start_time": "2022-08-27T05:59:28.910520",
     "status": "completed"
    },
    "tags": []
   },
   "outputs": [],
   "source": [
    "# standard checks\n",
    "all_chrs = genes_info[\"chr\"].dropna().unique()\n",
    "assert all_chrs.shape[0] == 22\n",
    "\n",
    "# select chromosome given by the user\n",
    "assert CHROMOSOME in all_chrs"
   ]
  },
  {
   "cell_type": "code",
   "execution_count": 25,
   "id": "2d7c043c-92a7-4d35-991b-fa69ac1e0268",
   "metadata": {
    "execution": {
     "iopub.execute_input": "2022-08-27T05:59:28.958346Z",
     "iopub.status.busy": "2022-08-27T05:59:28.958150Z",
     "iopub.status.idle": "2022-08-27T05:59:29.068672Z",
     "shell.execute_reply": "2022-08-27T05:59:29.068173Z"
    },
    "papermill": {
     "duration": 0.12237,
     "end_time": "2022-08-27T05:59:29.070236",
     "exception": false,
     "start_time": "2022-08-27T05:59:28.947866",
     "status": "completed"
    },
    "tags": []
   },
   "outputs": [
    {
     "name": "stdout",
     "output_type": "stream",
     "text": [
      "Number of genes in chromosome: 274\n"
     ]
    }
   ],
   "source": [
    "# run only on the chromosome specified\n",
    "all_chrs = [CHROMOSOME]\n",
    "genes_chr = genes_info[genes_info[\"chr\"] == CHROMOSOME]\n",
    "\n",
    "# For testing purposes\n",
    "# genes_chr = genes_chr.sample(n=20)\n",
    "\n",
    "print(f\"Number of genes in chromosome: {genes_chr.shape[0]}\", flush=True)"
   ]
  },
  {
   "cell_type": "code",
   "execution_count": 26,
   "id": "916015d8-2979-46d3-a9b9-1cf5a0932c6a",
   "metadata": {
    "execution": {
     "iopub.execute_input": "2022-08-27T05:59:29.090471Z",
     "iopub.status.busy": "2022-08-27T05:59:29.090269Z",
     "iopub.status.idle": "2022-08-27T05:59:29.107084Z",
     "shell.execute_reply": "2022-08-27T05:59:29.106558Z"
    },
    "papermill": {
     "duration": 0.028935,
     "end_time": "2022-08-27T05:59:29.108662",
     "exception": false,
     "start_time": "2022-08-27T05:59:29.079727",
     "status": "completed"
    },
    "tags": []
   },
   "outputs": [],
   "source": [
    "# sort genes by starting position to make visualizations better later\n",
    "genes_chr = genes_chr.sort_values(\"start_position\")"
   ]
  },
  {
   "cell_type": "code",
   "execution_count": 27,
   "id": "a38aa74a-8ad3-47f6-8ef9-56be0e011774",
   "metadata": {
    "execution": {
     "iopub.execute_input": "2022-08-27T05:59:29.129649Z",
     "iopub.status.busy": "2022-08-27T05:59:29.129458Z",
     "iopub.status.idle": "2022-08-27T05:59:29.145865Z",
     "shell.execute_reply": "2022-08-27T05:59:29.145360Z"
    },
    "papermill": {
     "duration": 0.028427,
     "end_time": "2022-08-27T05:59:29.147387",
     "exception": false,
     "start_time": "2022-08-27T05:59:29.118960",
     "status": "completed"
    },
    "tags": []
   },
   "outputs": [],
   "source": [
    "gene_chr_objs = [Gene(ensembl_id=gene_id) for gene_id in genes_chr[\"id\"]]"
   ]
  },
  {
   "cell_type": "code",
   "execution_count": 28,
   "id": "570f974f-13c3-42b6-ad3a-ce99ca885c1a",
   "metadata": {
    "execution": {
     "iopub.execute_input": "2022-08-27T05:59:29.168720Z",
     "iopub.status.busy": "2022-08-27T05:59:29.168523Z",
     "iopub.status.idle": "2022-08-27T05:59:29.185880Z",
     "shell.execute_reply": "2022-08-27T05:59:29.185380Z"
    },
    "papermill": {
     "duration": 0.029418,
     "end_time": "2022-08-27T05:59:29.187382",
     "exception": false,
     "start_time": "2022-08-27T05:59:29.157964",
     "status": "completed"
    },
    "tags": []
   },
   "outputs": [
    {
     "name": "stdout",
     "output_type": "stream",
     "text": [
      "Number of gene combinations: 37401\n"
     ]
    }
   ],
   "source": [
    "n = len(gene_chr_objs)\n",
    "n_comb = int(n * (n - 1) / 2.0)\n",
    "print(f\"Number of gene combinations: {n_comb}\", flush=True)"
   ]
  },
  {
   "cell_type": "code",
   "execution_count": 29,
   "id": "cdbb90a1",
   "metadata": {
    "execution": {
     "iopub.execute_input": "2022-08-27T05:59:29.208296Z",
     "iopub.status.busy": "2022-08-27T05:59:29.208088Z",
     "iopub.status.idle": "2022-08-27T06:54:12.660371Z",
     "shell.execute_reply": "2022-08-27T06:54:12.659649Z"
    },
    "papermill": {
     "duration": 3283.464557,
     "end_time": "2022-08-27T06:54:12.662176",
     "exception": false,
     "start_time": "2022-08-27T05:59:29.197619",
     "status": "completed"
    },
    "tags": []
   },
   "outputs": [
    {
     "name": "stderr",
     "output_type": "stream",
     "text": [
      "ENSG00000258947 / ENSG00000258947: : 37675it [54:43, 11.47it/s]\n"
     ]
    },
    {
     "data": {
      "text/plain": [
       "PosixPath('/project/ritchie20/projects/phenoplier/base/results/gls/gene_corrs/cohorts/phenomexcan_rapid_gwas/gtex_v8/mashr/by_chr/gene_corrs-chr16.pkl')"
      ]
     },
     "metadata": {},
     "output_type": "display_data"
    }
   ],
   "source": [
    "gene_corrs = []\n",
    "gene_corrs_data = np.full(\n",
    "    (n, n),\n",
    "    np.nan,\n",
    "    dtype=np.float64,\n",
    ")\n",
    "\n",
    "i = 0\n",
    "with tqdm(ncols=100, total=n_comb) as pbar:\n",
    "    for gene1_idx in range(0, len(gene_chr_objs)):\n",
    "        gene1_obj = gene_chr_objs[gene1_idx]\n",
    "        gene1_tissues = spredixcan_genes_models.loc[gene1_obj.ensembl_id, \"tissue\"]\n",
    "\n",
    "        for gene2_idx in range(gene1_idx, len(gene_chr_objs)):\n",
    "            gene2_obj = gene_chr_objs[gene2_idx]\n",
    "            gene2_tissues = spredixcan_genes_models.loc[gene2_obj.ensembl_id, \"tissue\"]\n",
    "\n",
    "            pbar.set_description(f\"{gene1_obj.ensembl_id} / {gene2_obj.ensembl_id}\")\n",
    "\n",
    "            try:\n",
    "                r = gene1_obj.get_ssm_correlation(\n",
    "                    other_gene=gene2_obj,\n",
    "                    tissues=gene1_tissues,\n",
    "                    other_tissues=gene2_tissues,\n",
    "                    snps_subset=gwas_variants_ids_set,\n",
    "                    condition_number=SMULTIXCAN_CONDITION_NUMBER,\n",
    "                    reference_panel=REFERENCE_PANEL,\n",
    "                    model_type=EQTL_MODEL,\n",
    "                    use_within_distance=COMPUTE_CORRELATIONS_WITHIN_DISTANCE,\n",
    "                )\n",
    "\n",
    "                if r is None:\n",
    "                    # if r is None, it's very likely because:\n",
    "                    #  * one of the genes has no prediction models\n",
    "                    #  * all the SNPs predictors for the gene are not present in the reference\n",
    "                    #    panel\n",
    "\n",
    "                    r = 0.0\n",
    "\n",
    "                gene_corrs.append(r)\n",
    "\n",
    "                gene_corrs_data[gene1_idx, gene2_idx] = r\n",
    "                gene_corrs_data[gene2_idx, gene1_idx] = r\n",
    "            except Warning as e:\n",
    "                if not DEBUG_MODE:\n",
    "                    raise e\n",
    "\n",
    "                print(\n",
    "                    f\"RuntimeWarning for genes {gene1_obj.ensembl_id} and {gene2_obj.ensembl_id}\",\n",
    "                    flush=True,\n",
    "                )\n",
    "                print(traceback.format_exc(), flush=True)\n",
    "\n",
    "                gene_corrs.append(np.nan)\n",
    "            except Exception as e:\n",
    "                if not DEBUG_MODE:\n",
    "                    raise e\n",
    "\n",
    "                print(\n",
    "                    f\"Exception for genes {gene1_obj.ensembl_id} and {gene2_obj.ensembl_id}\",\n",
    "                    flush=True,\n",
    "                )\n",
    "                print(traceback.format_exc(), flush=True)\n",
    "\n",
    "                gene_corrs.append(np.nan)\n",
    "\n",
    "            pbar.update(1)\n",
    "\n",
    "# create a pandas series\n",
    "gene_corrs_flat = pd.Series(gene_corrs)\n",
    "\n",
    "# save\n",
    "# FIXME: consider saving only the condenced matrix here. See here for\n",
    "# more details: https://github.com/greenelab/phenoplier/pull/38#discussion_r634600813\n",
    "# gene_corrs_data = squareform(np.array(gene_corrs, dtype=np.float64))\n",
    "# np.fill_diagonal(gene_corrs_data, 1.0)\n",
    "\n",
    "gene_chr_ids = [g.ensembl_id for g in gene_chr_objs]\n",
    "gene_corrs_df = pd.DataFrame(\n",
    "    data=gene_corrs_data,\n",
    "    index=gene_chr_ids,\n",
    "    columns=gene_chr_ids,\n",
    ")\n",
    "\n",
    "output_dir.mkdir(exist_ok=True, parents=True)\n",
    "display(output_file)\n",
    "\n",
    "gene_corrs_df.to_pickle(output_file)"
   ]
  },
  {
   "cell_type": "markdown",
   "id": "faa67b51-5373-470f-aa72-2ded53fa6dfe",
   "metadata": {
    "papermill": {
     "duration": 2.371933,
     "end_time": "2022-08-27T06:54:17.310813",
     "exception": false,
     "start_time": "2022-08-27T06:54:14.938880",
     "status": "completed"
    },
    "tags": []
   },
   "source": [
    "# Testing"
   ]
  },
  {
   "cell_type": "code",
   "execution_count": 30,
   "id": "14f7d046-4b55-4896-a56b-990127bcc388",
   "metadata": {
    "execution": {
     "iopub.execute_input": "2022-08-27T06:54:21.887618Z",
     "iopub.status.busy": "2022-08-27T06:54:21.887342Z",
     "iopub.status.idle": "2022-08-27T06:54:22.086827Z",
     "shell.execute_reply": "2022-08-27T06:54:22.086302Z"
    },
    "papermill": {
     "duration": 2.491696,
     "end_time": "2022-08-27T06:54:22.088331",
     "exception": false,
     "start_time": "2022-08-27T06:54:19.596635",
     "status": "completed"
    },
    "tags": []
   },
   "outputs": [
    {
     "data": {
      "text/plain": [
       "(274, 274)"
      ]
     },
     "execution_count": 30,
     "metadata": {},
     "output_type": "execute_result"
    }
   ],
   "source": [
    "gene_corrs_df.shape"
   ]
  },
  {
   "cell_type": "code",
   "execution_count": 31,
   "id": "c7d15414-3297-4537-a7c6-7588c0baeb75",
   "metadata": {
    "execution": {
     "iopub.execute_input": "2022-08-27T06:54:26.715422Z",
     "iopub.status.busy": "2022-08-27T06:54:26.715155Z",
     "iopub.status.idle": "2022-08-27T06:54:26.751409Z",
     "shell.execute_reply": "2022-08-27T06:54:26.750893Z"
    },
    "papermill": {
     "duration": 2.340882,
     "end_time": "2022-08-27T06:54:26.752912",
     "exception": false,
     "start_time": "2022-08-27T06:54:24.412030",
     "status": "completed"
    },
    "tags": []
   },
   "outputs": [
    {
     "data": {
      "text/html": [
       "<div>\n",
       "<style scoped>\n",
       "    .dataframe tbody tr th:only-of-type {\n",
       "        vertical-align: middle;\n",
       "    }\n",
       "\n",
       "    .dataframe tbody tr th {\n",
       "        vertical-align: top;\n",
       "    }\n",
       "\n",
       "    .dataframe thead th {\n",
       "        text-align: right;\n",
       "    }\n",
       "</style>\n",
       "<table border=\"1\" class=\"dataframe\">\n",
       "  <thead>\n",
       "    <tr style=\"text-align: right;\">\n",
       "      <th></th>\n",
       "      <th>ENSG00000161980</th>\n",
       "      <th>ENSG00000103152</th>\n",
       "      <th>ENSG00000206172</th>\n",
       "      <th>ENSG00000086506</th>\n",
       "      <th>ENSG00000076344</th>\n",
       "      <th>ENSG00000103126</th>\n",
       "      <th>ENSG00000086504</th>\n",
       "      <th>ENSG00000103202</th>\n",
       "      <th>ENSG00000242612</th>\n",
       "      <th>ENSG00000090565</th>\n",
       "      <th>...</th>\n",
       "      <th>ENSG00000051523</th>\n",
       "      <th>ENSG00000167508</th>\n",
       "      <th>ENSG00000167513</th>\n",
       "      <th>ENSG00000198931</th>\n",
       "      <th>ENSG00000141012</th>\n",
       "      <th>ENSG00000129993</th>\n",
       "      <th>ENSG00000167526</th>\n",
       "      <th>ENSG00000187741</th>\n",
       "      <th>ENSG00000258839</th>\n",
       "      <th>ENSG00000258947</th>\n",
       "    </tr>\n",
       "  </thead>\n",
       "  <tbody>\n",
       "    <tr>\n",
       "      <th>ENSG00000161980</th>\n",
       "      <td>1.000000</td>\n",
       "      <td>0.282166</td>\n",
       "      <td>0.008425</td>\n",
       "      <td>0.017876</td>\n",
       "      <td>0.013175</td>\n",
       "      <td>0.016005</td>\n",
       "      <td>0.011184</td>\n",
       "      <td>0.013427</td>\n",
       "      <td>0.017747</td>\n",
       "      <td>0.012597</td>\n",
       "      <td>...</td>\n",
       "      <td>0.006533</td>\n",
       "      <td>0.004968</td>\n",
       "      <td>0.002081</td>\n",
       "      <td>0.001357</td>\n",
       "      <td>0.004006</td>\n",
       "      <td>0.004896</td>\n",
       "      <td>0.002774</td>\n",
       "      <td>0.004110</td>\n",
       "      <td>0.013005</td>\n",
       "      <td>0.012611</td>\n",
       "    </tr>\n",
       "    <tr>\n",
       "      <th>ENSG00000103152</th>\n",
       "      <td>0.282166</td>\n",
       "      <td>1.000000</td>\n",
       "      <td>0.031978</td>\n",
       "      <td>0.110370</td>\n",
       "      <td>0.057009</td>\n",
       "      <td>0.028173</td>\n",
       "      <td>0.024786</td>\n",
       "      <td>0.012288</td>\n",
       "      <td>0.010182</td>\n",
       "      <td>0.008791</td>\n",
       "      <td>...</td>\n",
       "      <td>0.006912</td>\n",
       "      <td>0.010955</td>\n",
       "      <td>0.007144</td>\n",
       "      <td>0.004478</td>\n",
       "      <td>0.008867</td>\n",
       "      <td>0.009147</td>\n",
       "      <td>0.009396</td>\n",
       "      <td>0.004433</td>\n",
       "      <td>0.007894</td>\n",
       "      <td>0.016753</td>\n",
       "    </tr>\n",
       "    <tr>\n",
       "      <th>ENSG00000206172</th>\n",
       "      <td>0.008425</td>\n",
       "      <td>0.031978</td>\n",
       "      <td>1.000000</td>\n",
       "      <td>0.062935</td>\n",
       "      <td>0.062224</td>\n",
       "      <td>0.025697</td>\n",
       "      <td>0.033704</td>\n",
       "      <td>0.014410</td>\n",
       "      <td>0.013411</td>\n",
       "      <td>0.011098</td>\n",
       "      <td>...</td>\n",
       "      <td>0.005266</td>\n",
       "      <td>0.008916</td>\n",
       "      <td>0.004529</td>\n",
       "      <td>0.003813</td>\n",
       "      <td>0.001932</td>\n",
       "      <td>0.002598</td>\n",
       "      <td>0.000407</td>\n",
       "      <td>0.001629</td>\n",
       "      <td>0.000938</td>\n",
       "      <td>0.005550</td>\n",
       "    </tr>\n",
       "    <tr>\n",
       "      <th>ENSG00000086506</th>\n",
       "      <td>0.017876</td>\n",
       "      <td>0.110370</td>\n",
       "      <td>0.062935</td>\n",
       "      <td>1.000000</td>\n",
       "      <td>0.174998</td>\n",
       "      <td>0.079638</td>\n",
       "      <td>0.069053</td>\n",
       "      <td>0.016239</td>\n",
       "      <td>0.020028</td>\n",
       "      <td>0.025339</td>\n",
       "      <td>...</td>\n",
       "      <td>0.006306</td>\n",
       "      <td>0.007918</td>\n",
       "      <td>0.004845</td>\n",
       "      <td>0.002519</td>\n",
       "      <td>0.003872</td>\n",
       "      <td>0.003575</td>\n",
       "      <td>0.002840</td>\n",
       "      <td>0.003477</td>\n",
       "      <td>0.004598</td>\n",
       "      <td>0.006885</td>\n",
       "    </tr>\n",
       "    <tr>\n",
       "      <th>ENSG00000076344</th>\n",
       "      <td>0.013175</td>\n",
       "      <td>0.057009</td>\n",
       "      <td>0.062224</td>\n",
       "      <td>0.174998</td>\n",
       "      <td>1.000000</td>\n",
       "      <td>0.133590</td>\n",
       "      <td>0.112936</td>\n",
       "      <td>0.064159</td>\n",
       "      <td>0.023370</td>\n",
       "      <td>0.025419</td>\n",
       "      <td>...</td>\n",
       "      <td>0.001971</td>\n",
       "      <td>0.005083</td>\n",
       "      <td>0.006480</td>\n",
       "      <td>0.003089</td>\n",
       "      <td>0.005231</td>\n",
       "      <td>0.007196</td>\n",
       "      <td>0.001852</td>\n",
       "      <td>0.004612</td>\n",
       "      <td>0.004633</td>\n",
       "      <td>0.005967</td>\n",
       "    </tr>\n",
       "  </tbody>\n",
       "</table>\n",
       "<p>5 rows × 274 columns</p>\n",
       "</div>"
      ],
      "text/plain": [
       "                 ENSG00000161980  ENSG00000103152  ENSG00000206172  \\\n",
       "ENSG00000161980         1.000000         0.282166         0.008425   \n",
       "ENSG00000103152         0.282166         1.000000         0.031978   \n",
       "ENSG00000206172         0.008425         0.031978         1.000000   \n",
       "ENSG00000086506         0.017876         0.110370         0.062935   \n",
       "ENSG00000076344         0.013175         0.057009         0.062224   \n",
       "\n",
       "                 ENSG00000086506  ENSG00000076344  ENSG00000103126  \\\n",
       "ENSG00000161980         0.017876         0.013175         0.016005   \n",
       "ENSG00000103152         0.110370         0.057009         0.028173   \n",
       "ENSG00000206172         0.062935         0.062224         0.025697   \n",
       "ENSG00000086506         1.000000         0.174998         0.079638   \n",
       "ENSG00000076344         0.174998         1.000000         0.133590   \n",
       "\n",
       "                 ENSG00000086504  ENSG00000103202  ENSG00000242612  \\\n",
       "ENSG00000161980         0.011184         0.013427         0.017747   \n",
       "ENSG00000103152         0.024786         0.012288         0.010182   \n",
       "ENSG00000206172         0.033704         0.014410         0.013411   \n",
       "ENSG00000086506         0.069053         0.016239         0.020028   \n",
       "ENSG00000076344         0.112936         0.064159         0.023370   \n",
       "\n",
       "                 ENSG00000090565  ...  ENSG00000051523  ENSG00000167508  \\\n",
       "ENSG00000161980         0.012597  ...         0.006533         0.004968   \n",
       "ENSG00000103152         0.008791  ...         0.006912         0.010955   \n",
       "ENSG00000206172         0.011098  ...         0.005266         0.008916   \n",
       "ENSG00000086506         0.025339  ...         0.006306         0.007918   \n",
       "ENSG00000076344         0.025419  ...         0.001971         0.005083   \n",
       "\n",
       "                 ENSG00000167513  ENSG00000198931  ENSG00000141012  \\\n",
       "ENSG00000161980         0.002081         0.001357         0.004006   \n",
       "ENSG00000103152         0.007144         0.004478         0.008867   \n",
       "ENSG00000206172         0.004529         0.003813         0.001932   \n",
       "ENSG00000086506         0.004845         0.002519         0.003872   \n",
       "ENSG00000076344         0.006480         0.003089         0.005231   \n",
       "\n",
       "                 ENSG00000129993  ENSG00000167526  ENSG00000187741  \\\n",
       "ENSG00000161980         0.004896         0.002774         0.004110   \n",
       "ENSG00000103152         0.009147         0.009396         0.004433   \n",
       "ENSG00000206172         0.002598         0.000407         0.001629   \n",
       "ENSG00000086506         0.003575         0.002840         0.003477   \n",
       "ENSG00000076344         0.007196         0.001852         0.004612   \n",
       "\n",
       "                 ENSG00000258839  ENSG00000258947  \n",
       "ENSG00000161980         0.013005         0.012611  \n",
       "ENSG00000103152         0.007894         0.016753  \n",
       "ENSG00000206172         0.000938         0.005550  \n",
       "ENSG00000086506         0.004598         0.006885  \n",
       "ENSG00000076344         0.004633         0.005967  \n",
       "\n",
       "[5 rows x 274 columns]"
      ]
     },
     "execution_count": 31,
     "metadata": {},
     "output_type": "execute_result"
    }
   ],
   "source": [
    "gene_corrs_df.head()"
   ]
  },
  {
   "cell_type": "markdown",
   "id": "dad6603f-01c6-41fb-a6f6-241051207dd8",
   "metadata": {
    "papermill": {
     "duration": 2.328922,
     "end_time": "2022-08-27T06:54:31.349965",
     "exception": false,
     "start_time": "2022-08-27T06:54:29.021043",
     "status": "completed"
    },
    "tags": []
   },
   "source": [
    "## Standard checks and stats"
   ]
  },
  {
   "cell_type": "code",
   "execution_count": 32,
   "id": "286686af-1b7b-4440-8453-6bdcbd8de19c",
   "metadata": {
    "execution": {
     "iopub.execute_input": "2022-08-27T06:54:36.011512Z",
     "iopub.status.busy": "2022-08-27T06:54:36.011246Z",
     "iopub.status.idle": "2022-08-27T06:54:36.032400Z",
     "shell.execute_reply": "2022-08-27T06:54:36.031851Z"
    },
    "papermill": {
     "duration": 2.350213,
     "end_time": "2022-08-27T06:54:36.034060",
     "exception": false,
     "start_time": "2022-08-27T06:54:33.683847",
     "status": "completed"
    },
    "tags": []
   },
   "outputs": [],
   "source": [
    "assert not gene_corrs_df.isna().any().any()"
   ]
  },
  {
   "cell_type": "code",
   "execution_count": 33,
   "id": "00583efc-7068-4270-ad1e-4a418e91db96",
   "metadata": {
    "execution": {
     "iopub.execute_input": "2022-08-27T06:54:40.649991Z",
     "iopub.status.busy": "2022-08-27T06:54:40.649712Z",
     "iopub.status.idle": "2022-08-27T06:54:40.676256Z",
     "shell.execute_reply": "2022-08-27T06:54:40.675725Z"
    },
    "papermill": {
     "duration": 2.322424,
     "end_time": "2022-08-27T06:54:40.677768",
     "exception": false,
     "start_time": "2022-08-27T06:54:38.355344",
     "status": "completed"
    },
    "tags": []
   },
   "outputs": [
    {
     "data": {
      "text/plain": [
       "1.4800305539322527e-06"
      ]
     },
     "metadata": {},
     "output_type": "display_data"
    }
   ],
   "source": [
    "_min_val = gene_corrs_df.min().min()\n",
    "display(_min_val)\n",
    "assert _min_val >= -0.05"
   ]
  },
  {
   "cell_type": "code",
   "execution_count": 34,
   "id": "d04fb2cf-1050-475b-b855-f5f7cc04092b",
   "metadata": {
    "execution": {
     "iopub.execute_input": "2022-08-27T06:54:45.270484Z",
     "iopub.status.busy": "2022-08-27T06:54:45.270226Z",
     "iopub.status.idle": "2022-08-27T06:54:45.293160Z",
     "shell.execute_reply": "2022-08-27T06:54:45.292618Z"
    },
    "papermill": {
     "duration": 2.319322,
     "end_time": "2022-08-27T06:54:45.294616",
     "exception": false,
     "start_time": "2022-08-27T06:54:42.975294",
     "status": "completed"
    },
    "tags": []
   },
   "outputs": [
    {
     "data": {
      "text/plain": [
       "1.0000000000000038"
      ]
     },
     "metadata": {},
     "output_type": "display_data"
    }
   ],
   "source": [
    "_max_val = gene_corrs_df.max().max()  # this captures the diagonal\n",
    "display(_max_val)\n",
    "assert _max_val <= 1.05"
   ]
  },
  {
   "cell_type": "code",
   "execution_count": 35,
   "id": "96d02c44-1fba-47be-8a93-8f2608420b9c",
   "metadata": {
    "execution": {
     "iopub.execute_input": "2022-08-27T06:54:49.920447Z",
     "iopub.status.busy": "2022-08-27T06:54:49.920181Z",
     "iopub.status.idle": "2022-08-27T06:54:49.940365Z",
     "shell.execute_reply": "2022-08-27T06:54:49.939850Z"
    },
    "papermill": {
     "duration": 2.370453,
     "end_time": "2022-08-27T06:54:49.941944",
     "exception": false,
     "start_time": "2022-08-27T06:54:47.571491",
     "status": "completed"
    },
    "tags": []
   },
   "outputs": [],
   "source": [
    "# check upper triangular values\n",
    "# assert len(gene_corrs) == int(genes_chr.shape[0] * (genes_chr.shape[0] - 1) / 2)"
   ]
  },
  {
   "cell_type": "code",
   "execution_count": 36,
   "id": "fe283586-c348-40e0-8841-f6d97bfb021c",
   "metadata": {
    "execution": {
     "iopub.execute_input": "2022-08-27T06:54:54.471833Z",
     "iopub.status.busy": "2022-08-27T06:54:54.471552Z",
     "iopub.status.idle": "2022-08-27T06:54:54.499113Z",
     "shell.execute_reply": "2022-08-27T06:54:54.498575Z"
    },
    "papermill": {
     "duration": 2.314299,
     "end_time": "2022-08-27T06:54:54.500562",
     "exception": false,
     "start_time": "2022-08-27T06:54:52.186263",
     "status": "completed"
    },
    "tags": []
   },
   "outputs": [
    {
     "data": {
      "text/plain": [
       "count    37675.000000\n",
       "mean         0.018465\n",
       "std          0.096070\n",
       "min          0.000001\n",
       "25%          0.003434\n",
       "50%          0.005423\n",
       "75%          0.007830\n",
       "max          1.000000\n",
       "dtype: float64"
      ]
     },
     "execution_count": 36,
     "metadata": {},
     "output_type": "execute_result"
    }
   ],
   "source": [
    "gene_corrs_flat.describe()"
   ]
  },
  {
   "cell_type": "code",
   "execution_count": 37,
   "id": "b3815678-0f93-4b35-897b-a9d047a2aa78",
   "metadata": {
    "execution": {
     "iopub.execute_input": "2022-08-27T06:54:59.133479Z",
     "iopub.status.busy": "2022-08-27T06:54:59.133222Z",
     "iopub.status.idle": "2022-08-27T06:54:59.157435Z",
     "shell.execute_reply": "2022-08-27T06:54:59.156917Z"
    },
    "papermill": {
     "duration": 2.360033,
     "end_time": "2022-08-27T06:54:59.159087",
     "exception": false,
     "start_time": "2022-08-27T06:54:56.799054",
     "status": "completed"
    },
    "tags": []
   },
   "outputs": [
    {
     "data": {
      "text/plain": [
       "0.00    0.000001\n",
       "0.05    0.001291\n",
       "0.10    0.001980\n",
       "0.15    0.002531\n",
       "0.20    0.003011\n",
       "0.25    0.003434\n",
       "0.30    0.003848\n",
       "0.35    0.004252\n",
       "0.40    0.004639\n",
       "0.45    0.005034\n",
       "0.50    0.005423\n",
       "0.55    0.005824\n",
       "0.60    0.006256\n",
       "0.65    0.006728\n",
       "0.70    0.007247\n",
       "0.75    0.007830\n",
       "0.80    0.008525\n",
       "0.85    0.009430\n",
       "0.90    0.010771\n",
       "0.95    0.014123\n",
       "dtype: float64"
      ]
     },
     "metadata": {},
     "output_type": "display_data"
    }
   ],
   "source": [
    "gene_corrs_quantiles = gene_corrs_flat.quantile(np.arange(0, 1, 0.05))\n",
    "display(gene_corrs_quantiles)"
   ]
  },
  {
   "cell_type": "markdown",
   "id": "87134509-b145-4a10-8bc9-b7e914c2b0fa",
   "metadata": {
    "papermill": {
     "duration": 2.301933,
     "end_time": "2022-08-27T06:55:03.703165",
     "exception": false,
     "start_time": "2022-08-27T06:55:01.401232",
     "status": "completed"
    },
    "tags": []
   },
   "source": [
    "## Positive definiteness"
   ]
  },
  {
   "cell_type": "code",
   "execution_count": 38,
   "id": "07d9a9a1-a4f7-48aa-b916-6d42a8cc6186",
   "metadata": {
    "execution": {
     "iopub.execute_input": "2022-08-27T06:55:08.291821Z",
     "iopub.status.busy": "2022-08-27T06:55:08.291532Z",
     "iopub.status.idle": "2022-08-27T06:55:08.334907Z",
     "shell.execute_reply": "2022-08-27T06:55:08.334386Z"
    },
    "papermill": {
     "duration": 2.291712,
     "end_time": "2022-08-27T06:55:08.336372",
     "exception": false,
     "start_time": "2022-08-27T06:55:06.044660",
     "status": "completed"
    },
    "tags": []
   },
   "outputs": [
    {
     "data": {
      "text/plain": [
       "0"
      ]
     },
     "metadata": {},
     "output_type": "display_data"
    },
    {
     "data": {
      "text/plain": [
       "array([], dtype=float64)"
      ]
     },
     "metadata": {},
     "output_type": "display_data"
    }
   ],
   "source": [
    "# print negative eigenvalues\n",
    "eigs = np.linalg.eigvals(gene_corrs_df.to_numpy())\n",
    "display(len(eigs[eigs < 0]))\n",
    "display(eigs[eigs < 0])"
   ]
  },
  {
   "cell_type": "code",
   "execution_count": 39,
   "id": "6e218436-c3c5-4028-8c94-a4fa6260efce",
   "metadata": {
    "execution": {
     "iopub.execute_input": "2022-08-27T06:55:12.943709Z",
     "iopub.status.busy": "2022-08-27T06:55:12.943444Z",
     "iopub.status.idle": "2022-08-27T06:55:13.067579Z",
     "shell.execute_reply": "2022-08-27T06:55:13.067042Z"
    },
    "papermill": {
     "duration": 2.452586,
     "end_time": "2022-08-27T06:55:13.069136",
     "exception": false,
     "start_time": "2022-08-27T06:55:10.616550",
     "status": "completed"
    },
    "tags": []
   },
   "outputs": [
    {
     "name": "stdout",
     "output_type": "stream",
     "text": [
      "Works!\n"
     ]
    }
   ],
   "source": [
    "try:\n",
    "    chol_mat = np.linalg.cholesky(gene_corrs_df.to_numpy())\n",
    "    cov_inv = np.linalg.inv(chol_mat)\n",
    "    print(\"Works!\")\n",
    "except Exception as e:\n",
    "    print(f\"Cholesky decomposition failed: {str(e)}\")"
   ]
  },
  {
   "cell_type": "code",
   "execution_count": 40,
   "id": "dd8827fb-faf9-4c7c-9454-015e94752706",
   "metadata": {
    "execution": {
     "iopub.execute_input": "2022-08-27T06:55:17.655305Z",
     "iopub.status.busy": "2022-08-27T06:55:17.655028Z",
     "iopub.status.idle": "2022-08-27T06:55:17.681548Z",
     "shell.execute_reply": "2022-08-27T06:55:17.681030Z"
    },
    "papermill": {
     "duration": 2.289627,
     "end_time": "2022-08-27T06:55:17.683032",
     "exception": false,
     "start_time": "2022-08-27T06:55:15.393405",
     "status": "completed"
    },
    "tags": []
   },
   "outputs": [
    {
     "name": "stdout",
     "output_type": "stream",
     "text": [
      "Works!\n"
     ]
    }
   ],
   "source": [
    "try:\n",
    "    # decomposition used by statsmodels.GLS\n",
    "    cholsigmainv = np.linalg.cholesky(np.linalg.inv(gene_corrs_df.to_numpy())).T\n",
    "    print(\"Works!\")\n",
    "except Exception as e:\n",
    "    print(f\"Cholesky decomposition failed (statsmodels.GLS): {str(e)}\")"
   ]
  },
  {
   "cell_type": "markdown",
   "id": "8e60a080-edb2-4e9c-b2ef-22961693200c",
   "metadata": {
    "papermill": {
     "duration": 2.345648,
     "end_time": "2022-08-27T06:55:22.309910",
     "exception": false,
     "start_time": "2022-08-27T06:55:19.964262",
     "status": "completed"
    },
    "tags": []
   },
   "source": [
    "## Plot: distribution"
   ]
  },
  {
   "cell_type": "code",
   "execution_count": 41,
   "id": "8301126b-a7d4-4744-9c7d-f0f86eb6f54c",
   "metadata": {
    "execution": {
     "iopub.execute_input": "2022-08-27T06:55:26.803338Z",
     "iopub.status.busy": "2022-08-27T06:55:26.803082Z",
     "iopub.status.idle": "2022-08-27T06:55:33.629413Z",
     "shell.execute_reply": "2022-08-27T06:55:33.628853Z"
    },
    "papermill": {
     "duration": 9.099399,
     "end_time": "2022-08-27T06:55:33.631096",
     "exception": false,
     "start_time": "2022-08-27T06:55:24.531697",
     "status": "completed"
    },
    "tags": []
   },
   "outputs": [
    {
     "data": {
      "image/png": "[encoded data removed]",
      "text/plain": [
       "<Figure size 504x504 with 1 Axes>"
      ]
     },
     "metadata": {
      "needs_background": "light"
     },
     "output_type": "display_data"
    }
   ],
   "source": [
    "with sns.plotting_context(\"paper\", font_scale=1.5):\n",
    "    g = sns.displot(gene_corrs_flat, kde=True, height=7)\n",
    "    g.ax.set_title(\n",
    "        f\"Distribution of gene correlation values in chromosome {CHROMOSOME}\"\n",
    "    )"
   ]
  },
  {
   "cell_type": "markdown",
   "id": "cbd52bca-d878-4a2f-b684-5c83aa3038d4",
   "metadata": {
    "papermill": {
     "duration": 2.281639,
     "end_time": "2022-08-27T06:55:38.196869",
     "exception": false,
     "start_time": "2022-08-27T06:55:35.915230",
     "status": "completed"
    },
    "tags": []
   },
   "source": [
    "## Plot: heatmap"
   ]
  },
  {
   "cell_type": "code",
   "execution_count": 42,
   "id": "d03fe63a-c7b2-4fb9-a53c-db362ce843c9",
   "metadata": {
    "execution": {
     "iopub.execute_input": "2022-08-27T06:55:42.703280Z",
     "iopub.status.busy": "2022-08-27T06:55:42.703002Z",
     "iopub.status.idle": "2022-08-27T06:55:42.730706Z",
     "shell.execute_reply": "2022-08-27T06:55:42.730222Z"
    },
    "papermill": {
     "duration": 2.314783,
     "end_time": "2022-08-27T06:55:42.732199",
     "exception": false,
     "start_time": "2022-08-27T06:55:40.417416",
     "status": "completed"
    },
    "tags": []
   },
   "outputs": [
    {
     "data": {
      "text/plain": [
       "'0.0 / 0.05'"
      ]
     },
     "metadata": {},
     "output_type": "display_data"
    }
   ],
   "source": [
    "vmin_val = min(0.00, gene_corrs_quantiles[0.10])\n",
    "vmax_val = max(0.05, gene_corrs_quantiles[0.90])\n",
    "display(f\"{vmin_val} / {vmax_val}\")"
   ]
  },
  {
   "cell_type": "code",
   "execution_count": 43,
   "id": "dc41b70b-5bcc-4d9e-9f33-a22c4a94dab5",
   "metadata": {
    "execution": {
     "iopub.execute_input": "2022-08-27T06:55:47.376717Z",
     "iopub.status.busy": "2022-08-27T06:55:47.376454Z",
     "iopub.status.idle": "2022-08-27T06:55:48.276631Z",
     "shell.execute_reply": "2022-08-27T06:55:48.276109Z"
    },
    "papermill": {
     "duration": 3.268684,
     "end_time": "2022-08-27T06:55:48.278337",
     "exception": false,
     "start_time": "2022-08-27T06:55:45.009653",
     "status": "completed"
    },
    "tags": []
   },
   "outputs": [
    {
     "data": {
      "text/plain": [
       "Text(0.5, 1.0, 'Gene correlations in chromosome 16')"
      ]
     },
     "execution_count": 43,
     "metadata": {},
     "output_type": "execute_result"
    },
    {
     "data": {
      "image/png": "[encoded data removed]",
      "text/plain": [
       "<Figure size 720x720 with 2 Axes>"
      ]
     },
     "metadata": {
      "needs_background": "light"
     },
     "output_type": "display_data"
    }
   ],
   "source": [
    "f, ax = plt.subplots(figsize=(10, 10))\n",
    "sns.heatmap(\n",
    "    gene_corrs_df,\n",
    "    xticklabels=False,\n",
    "    yticklabels=False,\n",
    "    square=True,\n",
    "    vmin=vmin_val,\n",
    "    vmax=vmax_val,\n",
    "    cmap=\"rocket_r\",\n",
    "    ax=ax,\n",
    ")\n",
    "ax.set_title(f\"Gene correlations in chromosome {CHROMOSOME}\")"
   ]
  },
  {
   "cell_type": "code",
   "execution_count": null,
   "id": "b25e3ead",
   "metadata": {
    "papermill": {
     "duration": 2.283187,
     "end_time": "2022-08-27T06:55:52.804228",
     "exception": false,
     "start_time": "2022-08-27T06:55:50.521041",
     "status": "completed"
    },
    "tags": []
   },
   "outputs": [],
   "source": []
  }
 ],
 "metadata": {
  "jupytext": {
   "cell_metadata_filter": "all,-execution,-papermill,-trusted",
   "formats": "ipynb,py//py:percent"
  },
  "kernelspec": {
   "display_name": "Python 3 (ipykernel)",
   "language": "python",
   "name": "python3"
  },
  "language_info": {
   "codemirror_mode": {
    "name": "ipython",
    "version": 3
   },
   "file_extension": ".py",
   "mimetype": "text/x-python",
   "name": "python",
   "nbconvert_exporter": "python",
   "pygments_lexer": "ipython3",
   "version": "3.8.13"
  },
  "papermill": {
   "default_parameters": {},
   "duration": 3406.317961,
   "end_time": "2022-08-27T06:55:58.553691",
   "environment_variables": {},
   "exception": null,
   "input_path": "nbs/15_gsa_gls/10-gene_expr_correlations.ipynb",
   "output_path": "nbs/15_gsa_gls/gene_corrs/cohorts/phenomexcan_rapid_gwas/gtex_v8/mashr/10-gene_expr_corrs/10-gene_expr_correlations-chr16.run.ipynb",
   "parameters": {
    "CHROMOSOME": 16,
    "COHORT_NAME": "phenomexcan_rapid_gwas",
    "EQTL_MODEL": "MASHR",
    "REFERENCE_PANEL": "GTEX_V8"
   },
   "start_time": "2022-08-27T05:59:12.235730",
   "version": "2.2.2"
  }
 },
 "nbformat": 4,
 "nbformat_minor": 5
}
