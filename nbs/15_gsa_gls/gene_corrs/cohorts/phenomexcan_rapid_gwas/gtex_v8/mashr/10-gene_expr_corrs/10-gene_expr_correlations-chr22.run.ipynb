{
 "cells": [
  {
   "cell_type": "markdown",
   "id": "7a6632fb",
   "metadata": {
    "papermill": {
     "duration": 0.025686,
     "end_time": "2022-08-27T05:59:09.452220",
     "exception": false,
     "start_time": "2022-08-27T05:59:09.426534",
     "status": "completed"
    },
    "tags": []
   },
   "source": [
    "# Description"
   ]
  },
  {
   "cell_type": "markdown",
   "id": "7097c346",
   "metadata": {
    "papermill": {
     "duration": 0.019906,
     "end_time": "2022-08-27T05:59:09.500611",
     "exception": false,
     "start_time": "2022-08-27T05:59:09.480705",
     "status": "completed"
    },
    "tags": []
   },
   "source": [
    "(Please, take a look at the README.md file in this directory for instructions on how to run this notebook)\n",
    "\n",
    "This notebook computes predicted expression correlations between all genes in the MultiPLIER models.\n",
    "\n",
    "It also has a parameter set for papermill to run on a single chromosome to run in parallel (see under `Settings` below).\n",
    "\n",
    "This notebook is not directly run. See README.md."
   ]
  },
  {
   "cell_type": "markdown",
   "id": "c61d8427",
   "metadata": {
    "papermill": {
     "duration": 0.020665,
     "end_time": "2022-08-27T05:59:09.539258",
     "exception": false,
     "start_time": "2022-08-27T05:59:09.518593",
     "status": "completed"
    },
    "tags": []
   },
   "source": [
    "# Modules"
   ]
  },
  {
   "cell_type": "code",
   "execution_count": 1,
   "id": "bbc0234f",
   "metadata": {
    "execution": {
     "iopub.execute_input": "2022-08-27T05:59:09.622436Z",
     "iopub.status.busy": "2022-08-27T05:59:09.621809Z",
     "iopub.status.idle": "2022-08-27T05:59:09.679163Z",
     "shell.execute_reply": "2022-08-27T05:59:09.678228Z"
    },
    "papermill": {
     "duration": 0.114376,
     "end_time": "2022-08-27T05:59:09.682686",
     "exception": false,
     "start_time": "2022-08-27T05:59:09.568310",
     "status": "completed"
    },
    "tags": []
   },
   "outputs": [],
   "source": [
    "%load_ext autoreload\n",
    "%autoreload 2"
   ]
  },
  {
   "cell_type": "code",
   "execution_count": 2,
   "id": "1d5f5a59",
   "metadata": {
    "execution": {
     "iopub.execute_input": "2022-08-27T05:59:09.714444Z",
     "iopub.status.busy": "2022-08-27T05:59:09.714124Z",
     "iopub.status.idle": "2022-08-27T05:59:16.034552Z",
     "shell.execute_reply": "2022-08-27T05:59:16.034024Z"
    },
    "papermill": {
     "duration": 6.338914,
     "end_time": "2022-08-27T05:59:16.036454",
     "exception": false,
     "start_time": "2022-08-27T05:59:09.697540",
     "status": "completed"
    },
    "tags": []
   },
   "outputs": [],
   "source": [
    "from random import sample, seed\n",
    "import warnings\n",
    "from pathlib import Path\n",
    "import pickle\n",
    "import traceback\n",
    "\n",
    "import numpy as np\n",
    "from scipy.spatial.distance import squareform\n",
    "import pandas as pd\n",
    "from tqdm import tqdm\n",
    "import matplotlib.pyplot as plt\n",
    "import seaborn as sns\n",
    "\n",
    "import conf\n",
    "from entity import Gene"
   ]
  },
  {
   "cell_type": "markdown",
   "id": "1eac24b5",
   "metadata": {
    "papermill": {
     "duration": 0.007128,
     "end_time": "2022-08-27T05:59:16.092081",
     "exception": false,
     "start_time": "2022-08-27T05:59:16.084953",
     "status": "completed"
    },
    "tags": []
   },
   "source": [
    "# Settings"
   ]
  },
  {
   "cell_type": "code",
   "execution_count": 3,
   "id": "ca4560ba",
   "metadata": {
    "execution": {
     "iopub.execute_input": "2022-08-27T05:59:16.107992Z",
     "iopub.status.busy": "2022-08-27T05:59:16.107736Z",
     "iopub.status.idle": "2022-08-27T05:59:16.128054Z",
     "shell.execute_reply": "2022-08-27T05:59:16.127633Z"
    },
    "papermill": {
     "duration": 0.030059,
     "end_time": "2022-08-27T05:59:16.129489",
     "exception": false,
     "start_time": "2022-08-27T05:59:16.099430",
     "status": "completed"
    },
    "tags": [
     "parameters"
    ]
   },
   "outputs": [],
   "source": [
    "# a cohort name (it could be something like UK_BIOBANK, etc)\n",
    "COHORT_NAME = None\n",
    "\n",
    "# reference panel such as 1000G or GTEX_V8\n",
    "REFERENCE_PANEL = None\n",
    "\n",
    "# predictions models such as MASHR or ELASTIC_NET\n",
    "EQTL_MODEL = None\n",
    "\n",
    "# this is the default value used in S-MultiXcan to select the\n",
    "# top principal components of the expression correlation matrix\n",
    "SMULTIXCAN_CONDITION_NUMBER = 30\n",
    "\n",
    "# specifies a single chromosome value\n",
    "CHROMOSOME = None\n",
    "\n",
    "# If True, computes the correlation between closeby genes only;\n",
    "# otherwise, it computes correlations for all genes in a chromosome\n",
    "COMPUTE_CORRELATIONS_WITHIN_DISTANCE = False\n",
    "\n",
    "# if True, then it will continue if a gene pair correlation fails,\n",
    "# printing the warning/error for debugging. If False, any warning/error\n",
    "# will be thrown\n",
    "DEBUG_MODE = False"
   ]
  },
  {
   "cell_type": "code",
   "execution_count": 4,
   "id": "a6050540",
   "metadata": {
    "execution": {
     "iopub.execute_input": "2022-08-27T05:59:16.145014Z",
     "iopub.status.busy": "2022-08-27T05:59:16.144819Z",
     "iopub.status.idle": "2022-08-27T05:59:16.162721Z",
     "shell.execute_reply": "2022-08-27T05:59:16.162334Z"
    },
    "papermill": {
     "duration": 0.027423,
     "end_time": "2022-08-27T05:59:16.164069",
     "exception": false,
     "start_time": "2022-08-27T05:59:16.136646",
     "status": "completed"
    },
    "tags": [
     "injected-parameters"
    ]
   },
   "outputs": [],
   "source": [
    "# Parameters\n",
    "COHORT_NAME = \"phenomexcan_rapid_gwas\"\n",
    "REFERENCE_PANEL = \"GTEX_V8\"\n",
    "EQTL_MODEL = \"MASHR\"\n",
    "CHROMOSOME = 22\n"
   ]
  },
  {
   "cell_type": "code",
   "execution_count": 5,
   "id": "3190631f-27fc-480f-b18e-571d580425a5",
   "metadata": {
    "execution": {
     "iopub.execute_input": "2022-08-27T05:59:16.179552Z",
     "iopub.status.busy": "2022-08-27T05:59:16.179369Z",
     "iopub.status.idle": "2022-08-27T05:59:16.198871Z",
     "shell.execute_reply": "2022-08-27T05:59:16.198488Z"
    },
    "papermill": {
     "duration": 0.028837,
     "end_time": "2022-08-27T05:59:16.200087",
     "exception": false,
     "start_time": "2022-08-27T05:59:16.171250",
     "status": "completed"
    },
    "tags": []
   },
   "outputs": [
    {
     "data": {
      "text/plain": [
       "'Cohort name: phenomexcan_rapid_gwas'"
      ]
     },
     "metadata": {},
     "output_type": "display_data"
    }
   ],
   "source": [
    "assert COHORT_NAME is not None and len(COHORT_NAME) > 0, \"A cohort name must be given\"\n",
    "\n",
    "COHORT_NAME = COHORT_NAME.lower()\n",
    "display(f\"Cohort name: {COHORT_NAME}\")"
   ]
  },
  {
   "cell_type": "code",
   "execution_count": 6,
   "id": "f53ba19b-0f93-4fa2-a047-63b375939d1a",
   "metadata": {
    "execution": {
     "iopub.execute_input": "2022-08-27T05:59:16.215525Z",
     "iopub.status.busy": "2022-08-27T05:59:16.215343Z",
     "iopub.status.idle": "2022-08-27T05:59:16.232982Z",
     "shell.execute_reply": "2022-08-27T05:59:16.232592Z"
    },
    "papermill": {
     "duration": 0.026897,
     "end_time": "2022-08-27T05:59:16.234183",
     "exception": false,
     "start_time": "2022-08-27T05:59:16.207286",
     "status": "completed"
    },
    "tags": []
   },
   "outputs": [
    {
     "data": {
      "text/plain": [
       "'Reference panel: GTEX_V8'"
      ]
     },
     "metadata": {},
     "output_type": "display_data"
    }
   ],
   "source": [
    "assert (\n",
    "    REFERENCE_PANEL is not None and len(REFERENCE_PANEL) > 0\n",
    "), \"A reference panel must be given\"\n",
    "\n",
    "display(f\"Reference panel: {REFERENCE_PANEL}\")"
   ]
  },
  {
   "cell_type": "code",
   "execution_count": 7,
   "id": "e024d130-c139-429a-9c6e-ccf149e297b0",
   "metadata": {
    "execution": {
     "iopub.execute_input": "2022-08-27T05:59:16.250313Z",
     "iopub.status.busy": "2022-08-27T05:59:16.250139Z",
     "iopub.status.idle": "2022-08-27T05:59:16.268236Z",
     "shell.execute_reply": "2022-08-27T05:59:16.267855Z"
    },
    "papermill": {
     "duration": 0.027391,
     "end_time": "2022-08-27T05:59:16.269434",
     "exception": false,
     "start_time": "2022-08-27T05:59:16.242043",
     "status": "completed"
    },
    "tags": []
   },
   "outputs": [
    {
     "data": {
      "text/plain": [
       "'eQTL model: MASHR) / mashr_'"
      ]
     },
     "metadata": {},
     "output_type": "display_data"
    }
   ],
   "source": [
    "assert (\n",
    "    EQTL_MODEL is not None and len(EQTL_MODEL) > 0\n",
    "), \"A prediction/eQTL model must be given\"\n",
    "\n",
    "EQTL_MODEL_FILES_PREFIX = conf.PHENOMEXCAN[\"PREDICTION_MODELS\"][f\"{EQTL_MODEL}_PREFIX\"]\n",
    "display(f\"eQTL model: {EQTL_MODEL}) / {EQTL_MODEL_FILES_PREFIX}\")"
   ]
  },
  {
   "cell_type": "code",
   "execution_count": 8,
   "id": "552a7f63-a18c-4d3e-bb6a-94f99b431291",
   "metadata": {
    "execution": {
     "iopub.execute_input": "2022-08-27T05:59:16.285507Z",
     "iopub.status.busy": "2022-08-27T05:59:16.285326Z",
     "iopub.status.idle": "2022-08-27T05:59:16.302894Z",
     "shell.execute_reply": "2022-08-27T05:59:16.302515Z"
    },
    "papermill": {
     "duration": 0.027097,
     "end_time": "2022-08-27T05:59:16.304096",
     "exception": false,
     "start_time": "2022-08-27T05:59:16.276999",
     "status": "completed"
    },
    "tags": []
   },
   "outputs": [
    {
     "data": {
      "text/plain": [
       "'S-MultiXcan condition number: 30'"
      ]
     },
     "metadata": {},
     "output_type": "display_data"
    }
   ],
   "source": [
    "assert (\n",
    "    SMULTIXCAN_CONDITION_NUMBER is not None and SMULTIXCAN_CONDITION_NUMBER > 0\n",
    "), \"The S-MultiXcan condition number (positive integer) must be given\"\n",
    "\n",
    "display(f\"S-MultiXcan condition number: {SMULTIXCAN_CONDITION_NUMBER}\")"
   ]
  },
  {
   "cell_type": "code",
   "execution_count": 9,
   "id": "f34a336f-548e-4afe-8955-90eaea4f42c6",
   "metadata": {
    "execution": {
     "iopub.execute_input": "2022-08-27T05:59:16.320624Z",
     "iopub.status.busy": "2022-08-27T05:59:16.320443Z",
     "iopub.status.idle": "2022-08-27T05:59:16.337931Z",
     "shell.execute_reply": "2022-08-27T05:59:16.337552Z"
    },
    "papermill": {
     "duration": 0.02716,
     "end_time": "2022-08-27T05:59:16.339124",
     "exception": false,
     "start_time": "2022-08-27T05:59:16.311964",
     "status": "completed"
    },
    "tags": []
   },
   "outputs": [
    {
     "data": {
      "text/plain": [
       "'Working on chromosome 22'"
      ]
     },
     "metadata": {},
     "output_type": "display_data"
    }
   ],
   "source": [
    "assert CHROMOSOME is not None and (\n",
    "    1 <= CHROMOSOME <= 22\n",
    "), \"You have to select one chromosome (format: number between 1 and 22)\"\n",
    "\n",
    "# CHROMOSOME = str(CHROMOSOME)\n",
    "display(f\"Working on chromosome {CHROMOSOME}\")"
   ]
  },
  {
   "cell_type": "code",
   "execution_count": 10,
   "id": "ab8e96e8-06b5-4363-9dcd-dc4d78cc27f7",
   "metadata": {
    "execution": {
     "iopub.execute_input": "2022-08-27T05:59:16.355346Z",
     "iopub.status.busy": "2022-08-27T05:59:16.355173Z",
     "iopub.status.idle": "2022-08-27T05:59:16.372647Z",
     "shell.execute_reply": "2022-08-27T05:59:16.372256Z"
    },
    "papermill": {
     "duration": 0.026811,
     "end_time": "2022-08-27T05:59:16.373848",
     "exception": false,
     "start_time": "2022-08-27T05:59:16.347037",
     "status": "completed"
    },
    "tags": []
   },
   "outputs": [
    {
     "data": {
      "text/plain": [
       "'Compute correlation within distance False'"
      ]
     },
     "metadata": {},
     "output_type": "display_data"
    }
   ],
   "source": [
    "display(f\"Compute correlation within distance {COMPUTE_CORRELATIONS_WITHIN_DISTANCE}\")"
   ]
  },
  {
   "cell_type": "code",
   "execution_count": 11,
   "id": "396392dc-0340-4540-9b02-e182b833f909",
   "metadata": {
    "execution": {
     "iopub.execute_input": "2022-08-27T05:59:16.389968Z",
     "iopub.status.busy": "2022-08-27T05:59:16.389795Z",
     "iopub.status.idle": "2022-08-27T05:59:16.409160Z",
     "shell.execute_reply": "2022-08-27T05:59:16.408782Z"
    },
    "papermill": {
     "duration": 0.028882,
     "end_time": "2022-08-27T05:59:16.410355",
     "exception": false,
     "start_time": "2022-08-27T05:59:16.381473",
     "status": "completed"
    },
    "tags": []
   },
   "outputs": [
    {
     "data": {
      "text/plain": [
       "'Using output dir base: /project/ritchie20/projects/phenoplier/base/results/gls/gene_corrs/cohorts/phenomexcan_rapid_gwas/gtex_v8/mashr'"
      ]
     },
     "metadata": {},
     "output_type": "display_data"
    }
   ],
   "source": [
    "OUTPUT_DIR_BASE = (\n",
    "    conf.RESULTS[\"GLS\"]\n",
    "    / \"gene_corrs\"\n",
    "    / \"cohorts\"\n",
    "    / COHORT_NAME\n",
    "    / REFERENCE_PANEL.lower()\n",
    "    / EQTL_MODEL.lower()\n",
    ")\n",
    "OUTPUT_DIR_BASE.mkdir(parents=True, exist_ok=True)\n",
    "\n",
    "display(f\"Using output dir base: {OUTPUT_DIR_BASE}\")"
   ]
  },
  {
   "cell_type": "markdown",
   "id": "d2ba085e",
   "metadata": {
    "papermill": {
     "duration": 0.007796,
     "end_time": "2022-08-27T05:59:16.426351",
     "exception": false,
     "start_time": "2022-08-27T05:59:16.418555",
     "status": "completed"
    },
    "tags": []
   },
   "source": [
    "# Load data"
   ]
  },
  {
   "cell_type": "markdown",
   "id": "7dcb8db7",
   "metadata": {
    "papermill": {
     "duration": 0.011823,
     "end_time": "2022-08-27T05:59:16.446250",
     "exception": false,
     "start_time": "2022-08-27T05:59:16.434427",
     "status": "completed"
    },
    "tags": []
   },
   "source": [
    "## GWAS variants"
   ]
  },
  {
   "cell_type": "code",
   "execution_count": 12,
   "id": "29434c4e-8cd3-4b9b-82e4-b5a251d9dd19",
   "metadata": {
    "execution": {
     "iopub.execute_input": "2022-08-27T05:59:16.465163Z",
     "iopub.status.busy": "2022-08-27T05:59:16.464988Z",
     "iopub.status.idle": "2022-08-27T05:59:19.216062Z",
     "shell.execute_reply": "2022-08-27T05:59:19.215556Z"
    },
    "papermill": {
     "duration": 2.761317,
     "end_time": "2022-08-27T05:59:19.217867",
     "exception": false,
     "start_time": "2022-08-27T05:59:16.456550",
     "status": "completed"
    },
    "tags": []
   },
   "outputs": [],
   "source": [
    "with open(OUTPUT_DIR_BASE / \"gwas_variant_ids.pkl\", \"rb\") as handle:\n",
    "    gwas_variants_ids_set = pickle.load(handle)"
   ]
  },
  {
   "cell_type": "code",
   "execution_count": 13,
   "id": "b9d9dec2-4a76-4bf9-bde2-e24c95acb8a0",
   "metadata": {
    "execution": {
     "iopub.execute_input": "2022-08-27T05:59:19.259621Z",
     "iopub.status.busy": "2022-08-27T05:59:19.259400Z",
     "iopub.status.idle": "2022-08-27T05:59:19.279737Z",
     "shell.execute_reply": "2022-08-27T05:59:19.279340Z"
    },
    "papermill": {
     "duration": 0.031205,
     "end_time": "2022-08-27T05:59:19.280963",
     "exception": false,
     "start_time": "2022-08-27T05:59:19.249758",
     "status": "completed"
    },
    "tags": []
   },
   "outputs": [
    {
     "data": {
      "text/plain": [
       "8496088"
      ]
     },
     "execution_count": 13,
     "metadata": {},
     "output_type": "execute_result"
    }
   ],
   "source": [
    "len(gwas_variants_ids_set)"
   ]
  },
  {
   "cell_type": "code",
   "execution_count": 14,
   "id": "4235b06a-6034-4ee4-a0a3-2ae35d122418",
   "metadata": {
    "execution": {
     "iopub.execute_input": "2022-08-27T05:59:19.326021Z",
     "iopub.status.busy": "2022-08-27T05:59:19.325694Z",
     "iopub.status.idle": "2022-08-27T05:59:19.922723Z",
     "shell.execute_reply": "2022-08-27T05:59:19.922083Z"
    },
    "papermill": {
     "duration": 0.628158,
     "end_time": "2022-08-27T05:59:19.924379",
     "exception": false,
     "start_time": "2022-08-27T05:59:19.296221",
     "status": "completed"
    },
    "tags": []
   },
   "outputs": [
    {
     "data": {
      "text/plain": [
       "['chr13_63438729_G_T_b38',\n",
       " 'chr12_127224844_A_G_b38',\n",
       " 'chr3_58851421_A_G_b38',\n",
       " 'chr3_87620191_C_A_b38',\n",
       " 'chr7_138754654_G_A_b38']"
      ]
     },
     "execution_count": 14,
     "metadata": {},
     "output_type": "execute_result"
    }
   ],
   "source": [
    "list(gwas_variants_ids_set)[:5]"
   ]
  },
  {
   "cell_type": "markdown",
   "id": "07866999-2305-41f9-a144-e69c9122c212",
   "metadata": {
    "papermill": {
     "duration": 0.012819,
     "end_time": "2022-08-27T05:59:19.947757",
     "exception": false,
     "start_time": "2022-08-27T05:59:19.934938",
     "status": "completed"
    },
    "tags": []
   },
   "source": [
    "## S-PrediXcan tissue models"
   ]
  },
  {
   "cell_type": "code",
   "execution_count": 15,
   "id": "780611d9-77c8-405f-90a4-f271f7b09397",
   "metadata": {
    "execution": {
     "iopub.execute_input": "2022-08-27T05:59:19.967424Z",
     "iopub.status.busy": "2022-08-27T05:59:19.967223Z",
     "iopub.status.idle": "2022-08-27T05:59:20.851408Z",
     "shell.execute_reply": "2022-08-27T05:59:20.850927Z"
    },
    "papermill": {
     "duration": 0.895553,
     "end_time": "2022-08-27T05:59:20.853223",
     "exception": false,
     "start_time": "2022-08-27T05:59:19.957670",
     "status": "completed"
    },
    "tags": []
   },
   "outputs": [],
   "source": [
    "spredixcan_genes_models = pd.read_pickle(OUTPUT_DIR_BASE / \"gene_tissues.pkl\")"
   ]
  },
  {
   "cell_type": "code",
   "execution_count": 16,
   "id": "726dd1f6-9557-4225-91fa-b3b879ea96e1",
   "metadata": {
    "execution": {
     "iopub.execute_input": "2022-08-27T05:59:20.889033Z",
     "iopub.status.busy": "2022-08-27T05:59:20.888819Z",
     "iopub.status.idle": "2022-08-27T05:59:20.908864Z",
     "shell.execute_reply": "2022-08-27T05:59:20.908459Z"
    },
    "papermill": {
     "duration": 0.059516,
     "end_time": "2022-08-27T05:59:20.924852",
     "exception": false,
     "start_time": "2022-08-27T05:59:20.865336",
     "status": "completed"
    },
    "tags": []
   },
   "outputs": [
    {
     "data": {
      "text/plain": [
       "(6428, 3)"
      ]
     },
     "execution_count": 16,
     "metadata": {},
     "output_type": "execute_result"
    }
   ],
   "source": [
    "spredixcan_genes_models.shape"
   ]
  },
  {
   "cell_type": "code",
   "execution_count": 17,
   "id": "944a1b48-222c-4eb0-b252-b9de2cbca215",
   "metadata": {
    "execution": {
     "iopub.execute_input": "2022-08-27T05:59:20.959142Z",
     "iopub.status.busy": "2022-08-27T05:59:20.958951Z",
     "iopub.status.idle": "2022-08-27T05:59:20.994998Z",
     "shell.execute_reply": "2022-08-27T05:59:20.994606Z"
    },
    "papermill": {
     "duration": 0.045811,
     "end_time": "2022-08-27T05:59:20.996223",
     "exception": false,
     "start_time": "2022-08-27T05:59:20.950412",
     "status": "completed"
    },
    "tags": []
   },
   "outputs": [
    {
     "data": {
      "text/html": [
       "<div>\n",
       "<style scoped>\n",
       "    .dataframe tbody tr th:only-of-type {\n",
       "        vertical-align: middle;\n",
       "    }\n",
       "\n",
       "    .dataframe tbody tr th {\n",
       "        vertical-align: top;\n",
       "    }\n",
       "\n",
       "    .dataframe thead th {\n",
       "        text-align: right;\n",
       "    }\n",
       "</style>\n",
       "<table border=\"1\" class=\"dataframe\">\n",
       "  <thead>\n",
       "    <tr style=\"text-align: right;\">\n",
       "      <th></th>\n",
       "      <th>gene_name</th>\n",
       "      <th>tissue</th>\n",
       "      <th>n_tissues</th>\n",
       "    </tr>\n",
       "    <tr>\n",
       "      <th>gene_id</th>\n",
       "      <th></th>\n",
       "      <th></th>\n",
       "      <th></th>\n",
       "    </tr>\n",
       "  </thead>\n",
       "  <tbody>\n",
       "    <tr>\n",
       "      <th>ENSG00000000419</th>\n",
       "      <td>DPM1</td>\n",
       "      <td>(Brain_Substantia_nigra, Brain_Hypothalamus)</td>\n",
       "      <td>2</td>\n",
       "    </tr>\n",
       "    <tr>\n",
       "      <th>ENSG00000000938</th>\n",
       "      <td>FGR</td>\n",
       "      <td>(Muscle_Skeletal, Skin_Not_Sun_Exposed_Suprapu...</td>\n",
       "      <td>36</td>\n",
       "    </tr>\n",
       "    <tr>\n",
       "      <th>ENSG00000000971</th>\n",
       "      <td>CFH</td>\n",
       "      <td>(Skin_Not_Sun_Exposed_Suprapubic, Brain_Cerebe...</td>\n",
       "      <td>34</td>\n",
       "    </tr>\n",
       "    <tr>\n",
       "      <th>ENSG00000001084</th>\n",
       "      <td>GCLC</td>\n",
       "      <td>(Muscle_Skeletal, Skin_Not_Sun_Exposed_Suprapu...</td>\n",
       "      <td>33</td>\n",
       "    </tr>\n",
       "    <tr>\n",
       "      <th>ENSG00000001167</th>\n",
       "      <td>NFYA</td>\n",
       "      <td>(Muscle_Skeletal, Skin_Not_Sun_Exposed_Suprapu...</td>\n",
       "      <td>40</td>\n",
       "    </tr>\n",
       "  </tbody>\n",
       "</table>\n",
       "</div>"
      ],
      "text/plain": [
       "                gene_name                                             tissue  \\\n",
       "gene_id                                                                        \n",
       "ENSG00000000419      DPM1       (Brain_Substantia_nigra, Brain_Hypothalamus)   \n",
       "ENSG00000000938       FGR  (Muscle_Skeletal, Skin_Not_Sun_Exposed_Suprapu...   \n",
       "ENSG00000000971       CFH  (Skin_Not_Sun_Exposed_Suprapubic, Brain_Cerebe...   \n",
       "ENSG00000001084      GCLC  (Muscle_Skeletal, Skin_Not_Sun_Exposed_Suprapu...   \n",
       "ENSG00000001167      NFYA  (Muscle_Skeletal, Skin_Not_Sun_Exposed_Suprapu...   \n",
       "\n",
       "                 n_tissues  \n",
       "gene_id                     \n",
       "ENSG00000000419          2  \n",
       "ENSG00000000938         36  \n",
       "ENSG00000000971         34  \n",
       "ENSG00000001084         33  \n",
       "ENSG00000001167         40  "
      ]
     },
     "execution_count": 17,
     "metadata": {},
     "output_type": "execute_result"
    }
   ],
   "source": [
    "spredixcan_genes_models.head()"
   ]
  },
  {
   "cell_type": "code",
   "execution_count": 18,
   "id": "d1c11bb1-be0b-4f40-b360-633d6827109f",
   "metadata": {
    "execution": {
     "iopub.execute_input": "2022-08-27T05:59:21.043229Z",
     "iopub.status.busy": "2022-08-27T05:59:21.043041Z",
     "iopub.status.idle": "2022-08-27T05:59:21.060397Z",
     "shell.execute_reply": "2022-08-27T05:59:21.060017Z"
    },
    "papermill": {
     "duration": 0.05475,
     "end_time": "2022-08-27T05:59:21.061730",
     "exception": false,
     "start_time": "2022-08-27T05:59:21.006980",
     "status": "completed"
    },
    "tags": []
   },
   "outputs": [],
   "source": [
    "assert spredixcan_genes_models.index.is_unique"
   ]
  },
  {
   "cell_type": "markdown",
   "id": "a5b5092c-a13e-47c4-a92a-480fcc08f3ae",
   "metadata": {
    "papermill": {
     "duration": 0.020297,
     "end_time": "2022-08-27T05:59:21.096711",
     "exception": false,
     "start_time": "2022-08-27T05:59:21.076414",
     "status": "completed"
    },
    "tags": []
   },
   "source": [
    "## Gene info"
   ]
  },
  {
   "cell_type": "code",
   "execution_count": 19,
   "id": "7d6bb224-88e9-4358-ac10-43a41d92cdad",
   "metadata": {
    "execution": {
     "iopub.execute_input": "2022-08-27T05:59:21.212083Z",
     "iopub.status.busy": "2022-08-27T05:59:21.211540Z",
     "iopub.status.idle": "2022-08-27T05:59:21.280216Z",
     "shell.execute_reply": "2022-08-27T05:59:21.279325Z"
    },
    "papermill": {
     "duration": 0.125907,
     "end_time": "2022-08-27T05:59:21.283070",
     "exception": false,
     "start_time": "2022-08-27T05:59:21.157163",
     "status": "completed"
    },
    "tags": []
   },
   "outputs": [],
   "source": [
    "genes_info = pd.read_pickle(OUTPUT_DIR_BASE / \"genes_info.pkl\")"
   ]
  },
  {
   "cell_type": "code",
   "execution_count": 20,
   "id": "9e32abfa-546d-483e-8c18-d526e9e05903",
   "metadata": {
    "execution": {
     "iopub.execute_input": "2022-08-27T05:59:21.327835Z",
     "iopub.status.busy": "2022-08-27T05:59:21.327519Z",
     "iopub.status.idle": "2022-08-27T05:59:21.357947Z",
     "shell.execute_reply": "2022-08-27T05:59:21.357323Z"
    },
    "papermill": {
     "duration": 0.047832,
     "end_time": "2022-08-27T05:59:21.359902",
     "exception": false,
     "start_time": "2022-08-27T05:59:21.312070",
     "status": "completed"
    },
    "tags": []
   },
   "outputs": [
    {
     "data": {
      "text/plain": [
       "(6428, 7)"
      ]
     },
     "execution_count": 20,
     "metadata": {},
     "output_type": "execute_result"
    }
   ],
   "source": [
    "genes_info.shape"
   ]
  },
  {
   "cell_type": "code",
   "execution_count": 21,
   "id": "d16c3e92-85ec-468a-9a56-e25a9774a1cb",
   "metadata": {
    "execution": {
     "iopub.execute_input": "2022-08-27T05:59:21.394501Z",
     "iopub.status.busy": "2022-08-27T05:59:21.394256Z",
     "iopub.status.idle": "2022-08-27T05:59:21.423126Z",
     "shell.execute_reply": "2022-08-27T05:59:21.422641Z"
    },
    "papermill": {
     "duration": 0.052344,
     "end_time": "2022-08-27T05:59:21.424659",
     "exception": false,
     "start_time": "2022-08-27T05:59:21.372315",
     "status": "completed"
    },
    "tags": []
   },
   "outputs": [
    {
     "data": {
      "text/html": [
       "<div>\n",
       "<style scoped>\n",
       "    .dataframe tbody tr th:only-of-type {\n",
       "        vertical-align: middle;\n",
       "    }\n",
       "\n",
       "    .dataframe tbody tr th {\n",
       "        vertical-align: top;\n",
       "    }\n",
       "\n",
       "    .dataframe thead th {\n",
       "        text-align: right;\n",
       "    }\n",
       "</style>\n",
       "<table border=\"1\" class=\"dataframe\">\n",
       "  <thead>\n",
       "    <tr style=\"text-align: right;\">\n",
       "      <th></th>\n",
       "      <th>name</th>\n",
       "      <th>id</th>\n",
       "      <th>chr</th>\n",
       "      <th>band</th>\n",
       "      <th>start_position</th>\n",
       "      <th>end_position</th>\n",
       "      <th>gene_length</th>\n",
       "    </tr>\n",
       "  </thead>\n",
       "  <tbody>\n",
       "    <tr>\n",
       "      <th>0</th>\n",
       "      <td>ZNF605</td>\n",
       "      <td>ENSG00000196458</td>\n",
       "      <td>12</td>\n",
       "      <td>12q24.33</td>\n",
       "      <td>132918306</td>\n",
       "      <td>132956306</td>\n",
       "      <td>38000</td>\n",
       "    </tr>\n",
       "    <tr>\n",
       "      <th>1</th>\n",
       "      <td>FBP1</td>\n",
       "      <td>ENSG00000165140</td>\n",
       "      <td>9</td>\n",
       "      <td>9q22.32</td>\n",
       "      <td>94603133</td>\n",
       "      <td>94640249</td>\n",
       "      <td>37116</td>\n",
       "    </tr>\n",
       "    <tr>\n",
       "      <th>2</th>\n",
       "      <td>TAL1</td>\n",
       "      <td>ENSG00000162367</td>\n",
       "      <td>1</td>\n",
       "      <td>1p33</td>\n",
       "      <td>47216290</td>\n",
       "      <td>47232220</td>\n",
       "      <td>15930</td>\n",
       "    </tr>\n",
       "    <tr>\n",
       "      <th>3</th>\n",
       "      <td>MPV17</td>\n",
       "      <td>ENSG00000115204</td>\n",
       "      <td>2</td>\n",
       "      <td>2p23.3</td>\n",
       "      <td>27309492</td>\n",
       "      <td>27325680</td>\n",
       "      <td>16188</td>\n",
       "    </tr>\n",
       "    <tr>\n",
       "      <th>4</th>\n",
       "      <td>PTPRN</td>\n",
       "      <td>ENSG00000054356</td>\n",
       "      <td>2</td>\n",
       "      <td>2q35</td>\n",
       "      <td>219289623</td>\n",
       "      <td>219309648</td>\n",
       "      <td>20025</td>\n",
       "    </tr>\n",
       "  </tbody>\n",
       "</table>\n",
       "</div>"
      ],
      "text/plain": [
       "     name               id  chr      band  start_position  end_position  \\\n",
       "0  ZNF605  ENSG00000196458   12  12q24.33       132918306     132956306   \n",
       "1    FBP1  ENSG00000165140    9   9q22.32        94603133      94640249   \n",
       "2    TAL1  ENSG00000162367    1      1p33        47216290      47232220   \n",
       "3   MPV17  ENSG00000115204    2    2p23.3        27309492      27325680   \n",
       "4   PTPRN  ENSG00000054356    2      2q35       219289623     219309648   \n",
       "\n",
       "   gene_length  \n",
       "0        38000  \n",
       "1        37116  \n",
       "2        15930  \n",
       "3        16188  \n",
       "4        20025  "
      ]
     },
     "execution_count": 21,
     "metadata": {},
     "output_type": "execute_result"
    }
   ],
   "source": [
    "genes_info.head()"
   ]
  },
  {
   "cell_type": "markdown",
   "id": "d3843e06",
   "metadata": {
    "papermill": {
     "duration": 0.014282,
     "end_time": "2022-08-27T05:59:21.454152",
     "exception": false,
     "start_time": "2022-08-27T05:59:21.439870",
     "status": "completed"
    },
    "tags": []
   },
   "source": [
    "# Compute correlations"
   ]
  },
  {
   "cell_type": "code",
   "execution_count": 22,
   "id": "cb859c15-d1f3-4006-a74c-2b83c0db9611",
   "metadata": {
    "execution": {
     "iopub.execute_input": "2022-08-27T05:59:21.482906Z",
     "iopub.status.busy": "2022-08-27T05:59:21.482720Z",
     "iopub.status.idle": "2022-08-27T05:59:21.512529Z",
     "shell.execute_reply": "2022-08-27T05:59:21.512129Z"
    },
    "papermill": {
     "duration": 0.040826,
     "end_time": "2022-08-27T05:59:21.513772",
     "exception": false,
     "start_time": "2022-08-27T05:59:21.472946",
     "status": "completed"
    },
    "tags": []
   },
   "outputs": [
    {
     "data": {
      "text/plain": [
       "PosixPath('/project/ritchie20/projects/phenoplier/base/results/gls/gene_corrs/cohorts/phenomexcan_rapid_gwas/gtex_v8/mashr/by_chr/gene_corrs-chr22.pkl')"
      ]
     },
     "metadata": {},
     "output_type": "display_data"
    }
   ],
   "source": [
    "output_dir = OUTPUT_DIR_BASE / \"by_chr\"\n",
    "output_dir.mkdir(exist_ok=True, parents=True)\n",
    "output_file = output_dir / f\"gene_corrs-chr{CHROMOSOME}.pkl\"\n",
    "display(output_file)"
   ]
  },
  {
   "cell_type": "code",
   "execution_count": 23,
   "id": "aa674fe4-6794-4eed-98fa-32b39d1d4ace",
   "metadata": {
    "execution": {
     "iopub.execute_input": "2022-08-27T05:59:21.542348Z",
     "iopub.status.busy": "2022-08-27T05:59:21.542173Z",
     "iopub.status.idle": "2022-08-27T05:59:21.558489Z",
     "shell.execute_reply": "2022-08-27T05:59:21.558109Z"
    },
    "papermill": {
     "duration": 0.02833,
     "end_time": "2022-08-27T05:59:21.559827",
     "exception": false,
     "start_time": "2022-08-27T05:59:21.531497",
     "status": "completed"
    },
    "tags": []
   },
   "outputs": [],
   "source": [
    "warnings.filterwarnings(\"error\")"
   ]
  },
  {
   "cell_type": "code",
   "execution_count": 24,
   "id": "44d5450b-3baf-43f1-9e2e-4b06f1a785f8",
   "metadata": {
    "execution": {
     "iopub.execute_input": "2022-08-27T05:59:21.583341Z",
     "iopub.status.busy": "2022-08-27T05:59:21.583167Z",
     "iopub.status.idle": "2022-08-27T05:59:21.600075Z",
     "shell.execute_reply": "2022-08-27T05:59:21.599699Z"
    },
    "papermill": {
     "duration": 0.028587,
     "end_time": "2022-08-27T05:59:21.601415",
     "exception": false,
     "start_time": "2022-08-27T05:59:21.572828",
     "status": "completed"
    },
    "tags": []
   },
   "outputs": [],
   "source": [
    "# standard checks\n",
    "all_chrs = genes_info[\"chr\"].dropna().unique()\n",
    "assert all_chrs.shape[0] == 22\n",
    "\n",
    "# select chromosome given by the user\n",
    "assert CHROMOSOME in all_chrs"
   ]
  },
  {
   "cell_type": "code",
   "execution_count": 25,
   "id": "2d7c043c-92a7-4d35-991b-fa69ac1e0268",
   "metadata": {
    "execution": {
     "iopub.execute_input": "2022-08-27T05:59:21.632855Z",
     "iopub.status.busy": "2022-08-27T05:59:21.632681Z",
     "iopub.status.idle": "2022-08-27T05:59:21.715672Z",
     "shell.execute_reply": "2022-08-27T05:59:21.715108Z"
    },
    "papermill": {
     "duration": 0.104503,
     "end_time": "2022-08-27T05:59:21.717340",
     "exception": false,
     "start_time": "2022-08-27T05:59:21.612837",
     "status": "completed"
    },
    "tags": []
   },
   "outputs": [
    {
     "name": "stdout",
     "output_type": "stream",
     "text": [
      "Number of genes in chromosome: 170\n"
     ]
    }
   ],
   "source": [
    "# run only on the chromosome specified\n",
    "all_chrs = [CHROMOSOME]\n",
    "genes_chr = genes_info[genes_info[\"chr\"] == CHROMOSOME]\n",
    "\n",
    "# For testing purposes\n",
    "# genes_chr = genes_chr.sample(n=20)\n",
    "\n",
    "print(f\"Number of genes in chromosome: {genes_chr.shape[0]}\", flush=True)"
   ]
  },
  {
   "cell_type": "code",
   "execution_count": 26,
   "id": "916015d8-2979-46d3-a9b9-1cf5a0932c6a",
   "metadata": {
    "execution": {
     "iopub.execute_input": "2022-08-27T05:59:21.770844Z",
     "iopub.status.busy": "2022-08-27T05:59:21.770628Z",
     "iopub.status.idle": "2022-08-27T05:59:21.791281Z",
     "shell.execute_reply": "2022-08-27T05:59:21.790821Z"
    },
    "papermill": {
     "duration": 0.043281,
     "end_time": "2022-08-27T05:59:21.792865",
     "exception": false,
     "start_time": "2022-08-27T05:59:21.749584",
     "status": "completed"
    },
    "tags": []
   },
   "outputs": [],
   "source": [
    "# sort genes by starting position to make visualizations better later\n",
    "genes_chr = genes_chr.sort_values(\"start_position\")"
   ]
  },
  {
   "cell_type": "code",
   "execution_count": 27,
   "id": "a38aa74a-8ad3-47f6-8ef9-56be0e011774",
   "metadata": {
    "execution": {
     "iopub.execute_input": "2022-08-27T05:59:21.821535Z",
     "iopub.status.busy": "2022-08-27T05:59:21.821338Z",
     "iopub.status.idle": "2022-08-27T05:59:21.840048Z",
     "shell.execute_reply": "2022-08-27T05:59:21.839626Z"
    },
    "papermill": {
     "duration": 0.038167,
     "end_time": "2022-08-27T05:59:21.841504",
     "exception": false,
     "start_time": "2022-08-27T05:59:21.803337",
     "status": "completed"
    },
    "tags": []
   },
   "outputs": [],
   "source": [
    "gene_chr_objs = [Gene(ensembl_id=gene_id) for gene_id in genes_chr[\"id\"]]"
   ]
  },
  {
   "cell_type": "code",
   "execution_count": 28,
   "id": "570f974f-13c3-42b6-ad3a-ce99ca885c1a",
   "metadata": {
    "execution": {
     "iopub.execute_input": "2022-08-27T05:59:21.860825Z",
     "iopub.status.busy": "2022-08-27T05:59:21.860650Z",
     "iopub.status.idle": "2022-08-27T05:59:21.878485Z",
     "shell.execute_reply": "2022-08-27T05:59:21.878099Z"
    },
    "papermill": {
     "duration": 0.028925,
     "end_time": "2022-08-27T05:59:21.879872",
     "exception": false,
     "start_time": "2022-08-27T05:59:21.850947",
     "status": "completed"
    },
    "tags": []
   },
   "outputs": [
    {
     "name": "stdout",
     "output_type": "stream",
     "text": [
      "Number of gene combinations: 14365\n"
     ]
    }
   ],
   "source": [
    "n = len(gene_chr_objs)\n",
    "n_comb = int(n * (n - 1) / 2.0)\n",
    "print(f\"Number of gene combinations: {n_comb}\", flush=True)"
   ]
  },
  {
   "cell_type": "code",
   "execution_count": 29,
   "id": "cdbb90a1",
   "metadata": {
    "execution": {
     "iopub.execute_input": "2022-08-27T05:59:21.900814Z",
     "iopub.status.busy": "2022-08-27T05:59:21.900641Z",
     "iopub.status.idle": "2022-08-27T06:15:19.912575Z",
     "shell.execute_reply": "2022-08-27T06:15:19.911155Z"
    },
    "papermill": {
     "duration": 958.02602,
     "end_time": "2022-08-27T06:15:19.915789",
     "exception": false,
     "start_time": "2022-08-27T05:59:21.889769",
     "status": "completed"
    },
    "tags": []
   },
   "outputs": [
    {
     "name": "stderr",
     "output_type": "stream",
     "text": [
      "ENSG00000251322 / ENSG00000251322: : 14535it [15:57, 15.17it/s]\n"
     ]
    },
    {
     "data": {
      "text/plain": [
       "PosixPath('/project/ritchie20/projects/phenoplier/base/results/gls/gene_corrs/cohorts/phenomexcan_rapid_gwas/gtex_v8/mashr/by_chr/gene_corrs-chr22.pkl')"
      ]
     },
     "metadata": {},
     "output_type": "display_data"
    }
   ],
   "source": [
    "gene_corrs = []\n",
    "gene_corrs_data = np.full(\n",
    "    (n, n),\n",
    "    np.nan,\n",
    "    dtype=np.float64,\n",
    ")\n",
    "\n",
    "i = 0\n",
    "with tqdm(ncols=100, total=n_comb) as pbar:\n",
    "    for gene1_idx in range(0, len(gene_chr_objs)):\n",
    "        gene1_obj = gene_chr_objs[gene1_idx]\n",
    "        gene1_tissues = spredixcan_genes_models.loc[gene1_obj.ensembl_id, \"tissue\"]\n",
    "\n",
    "        for gene2_idx in range(gene1_idx, len(gene_chr_objs)):\n",
    "            gene2_obj = gene_chr_objs[gene2_idx]\n",
    "            gene2_tissues = spredixcan_genes_models.loc[gene2_obj.ensembl_id, \"tissue\"]\n",
    "\n",
    "            pbar.set_description(f\"{gene1_obj.ensembl_id} / {gene2_obj.ensembl_id}\")\n",
    "\n",
    "            try:\n",
    "                r = gene1_obj.get_ssm_correlation(\n",
    "                    other_gene=gene2_obj,\n",
    "                    tissues=gene1_tissues,\n",
    "                    other_tissues=gene2_tissues,\n",
    "                    snps_subset=gwas_variants_ids_set,\n",
    "                    condition_number=SMULTIXCAN_CONDITION_NUMBER,\n",
    "                    reference_panel=REFERENCE_PANEL,\n",
    "                    model_type=EQTL_MODEL,\n",
    "                    use_within_distance=COMPUTE_CORRELATIONS_WITHIN_DISTANCE,\n",
    "                )\n",
    "\n",
    "                if r is None:\n",
    "                    # if r is None, it's very likely because:\n",
    "                    #  * one of the genes has no prediction models\n",
    "                    #  * all the SNPs predictors for the gene are not present in the reference\n",
    "                    #    panel\n",
    "\n",
    "                    r = 0.0\n",
    "\n",
    "                gene_corrs.append(r)\n",
    "\n",
    "                gene_corrs_data[gene1_idx, gene2_idx] = r\n",
    "                gene_corrs_data[gene2_idx, gene1_idx] = r\n",
    "            except Warning as e:\n",
    "                if not DEBUG_MODE:\n",
    "                    raise e\n",
    "\n",
    "                print(\n",
    "                    f\"RuntimeWarning for genes {gene1_obj.ensembl_id} and {gene2_obj.ensembl_id}\",\n",
    "                    flush=True,\n",
    "                )\n",
    "                print(traceback.format_exc(), flush=True)\n",
    "\n",
    "                gene_corrs.append(np.nan)\n",
    "            except Exception as e:\n",
    "                if not DEBUG_MODE:\n",
    "                    raise e\n",
    "\n",
    "                print(\n",
    "                    f\"Exception for genes {gene1_obj.ensembl_id} and {gene2_obj.ensembl_id}\",\n",
    "                    flush=True,\n",
    "                )\n",
    "                print(traceback.format_exc(), flush=True)\n",
    "\n",
    "                gene_corrs.append(np.nan)\n",
    "\n",
    "            pbar.update(1)\n",
    "\n",
    "# create a pandas series\n",
    "gene_corrs_flat = pd.Series(gene_corrs)\n",
    "\n",
    "# save\n",
    "# FIXME: consider saving only the condenced matrix here. See here for\n",
    "# more details: https://github.com/greenelab/phenoplier/pull/38#discussion_r634600813\n",
    "# gene_corrs_data = squareform(np.array(gene_corrs, dtype=np.float64))\n",
    "# np.fill_diagonal(gene_corrs_data, 1.0)\n",
    "\n",
    "gene_chr_ids = [g.ensembl_id for g in gene_chr_objs]\n",
    "gene_corrs_df = pd.DataFrame(\n",
    "    data=gene_corrs_data,\n",
    "    index=gene_chr_ids,\n",
    "    columns=gene_chr_ids,\n",
    ")\n",
    "\n",
    "output_dir.mkdir(exist_ok=True, parents=True)\n",
    "display(output_file)\n",
    "\n",
    "gene_corrs_df.to_pickle(output_file)"
   ]
  },
  {
   "cell_type": "markdown",
   "id": "faa67b51-5373-470f-aa72-2ded53fa6dfe",
   "metadata": {
    "papermill": {
     "duration": 0.707985,
     "end_time": "2022-08-27T06:15:21.401278",
     "exception": false,
     "start_time": "2022-08-27T06:15:20.693293",
     "status": "completed"
    },
    "tags": []
   },
   "source": [
    "# Testing"
   ]
  },
  {
   "cell_type": "code",
   "execution_count": 30,
   "id": "14f7d046-4b55-4896-a56b-990127bcc388",
   "metadata": {
    "execution": {
     "iopub.execute_input": "2022-08-27T06:15:22.835853Z",
     "iopub.status.busy": "2022-08-27T06:15:22.835578Z",
     "iopub.status.idle": "2022-08-27T06:15:23.070029Z",
     "shell.execute_reply": "2022-08-27T06:15:23.069114Z"
    },
    "papermill": {
     "duration": 0.962077,
     "end_time": "2022-08-27T06:15:23.072947",
     "exception": false,
     "start_time": "2022-08-27T06:15:22.110870",
     "status": "completed"
    },
    "tags": []
   },
   "outputs": [
    {
     "data": {
      "text/plain": [
       "(170, 170)"
      ]
     },
     "execution_count": 30,
     "metadata": {},
     "output_type": "execute_result"
    }
   ],
   "source": [
    "gene_corrs_df.shape"
   ]
  },
  {
   "cell_type": "code",
   "execution_count": 31,
   "id": "c7d15414-3297-4537-a7c6-7588c0baeb75",
   "metadata": {
    "execution": {
     "iopub.execute_input": "2022-08-27T06:15:24.503519Z",
     "iopub.status.busy": "2022-08-27T06:15:24.503254Z",
     "iopub.status.idle": "2022-08-27T06:15:24.535181Z",
     "shell.execute_reply": "2022-08-27T06:15:24.534758Z"
    },
    "papermill": {
     "duration": 0.69057,
     "end_time": "2022-08-27T06:15:24.536453",
     "exception": false,
     "start_time": "2022-08-27T06:15:23.845883",
     "status": "completed"
    },
    "tags": []
   },
   "outputs": [
    {
     "data": {
      "text/html": [
       "<div>\n",
       "<style scoped>\n",
       "    .dataframe tbody tr th:only-of-type {\n",
       "        vertical-align: middle;\n",
       "    }\n",
       "\n",
       "    .dataframe tbody tr th {\n",
       "        vertical-align: top;\n",
       "    }\n",
       "\n",
       "    .dataframe thead th {\n",
       "        text-align: right;\n",
       "    }\n",
       "</style>\n",
       "<table border=\"1\" class=\"dataframe\">\n",
       "  <thead>\n",
       "    <tr style=\"text-align: right;\">\n",
       "      <th></th>\n",
       "      <th>ENSG00000177663</th>\n",
       "      <th>ENSG00000131100</th>\n",
       "      <th>ENSG00000099968</th>\n",
       "      <th>ENSG00000015475</th>\n",
       "      <th>ENSG00000243156</th>\n",
       "      <th>ENSG00000215193</th>\n",
       "      <th>ENSG00000183785</th>\n",
       "      <th>ENSG00000184979</th>\n",
       "      <th>ENSG00000100033</th>\n",
       "      <th>ENSG00000100075</th>\n",
       "      <th>...</th>\n",
       "      <th>ENSG00000196576</th>\n",
       "      <th>ENSG00000128165</th>\n",
       "      <th>ENSG00000100253</th>\n",
       "      <th>ENSG00000130489</th>\n",
       "      <th>ENSG00000025708</th>\n",
       "      <th>ENSG00000205560</th>\n",
       "      <th>ENSG00000100288</th>\n",
       "      <th>ENSG00000008735</th>\n",
       "      <th>ENSG00000100299</th>\n",
       "      <th>ENSG00000251322</th>\n",
       "    </tr>\n",
       "  </thead>\n",
       "  <tbody>\n",
       "    <tr>\n",
       "      <th>ENSG00000177663</th>\n",
       "      <td>1.000000</td>\n",
       "      <td>0.004574</td>\n",
       "      <td>0.009026</td>\n",
       "      <td>0.009111</td>\n",
       "      <td>0.009737</td>\n",
       "      <td>0.011145</td>\n",
       "      <td>0.011920</td>\n",
       "      <td>0.007596</td>\n",
       "      <td>0.010300</td>\n",
       "      <td>0.003041</td>\n",
       "      <td>...</td>\n",
       "      <td>0.010216</td>\n",
       "      <td>0.011473</td>\n",
       "      <td>0.007232</td>\n",
       "      <td>0.005242</td>\n",
       "      <td>0.005412</td>\n",
       "      <td>0.006832</td>\n",
       "      <td>0.005160</td>\n",
       "      <td>0.010522</td>\n",
       "      <td>0.005475</td>\n",
       "      <td>0.004523</td>\n",
       "    </tr>\n",
       "    <tr>\n",
       "      <th>ENSG00000131100</th>\n",
       "      <td>0.004574</td>\n",
       "      <td>1.000000</td>\n",
       "      <td>0.542751</td>\n",
       "      <td>0.258149</td>\n",
       "      <td>0.008466</td>\n",
       "      <td>0.003632</td>\n",
       "      <td>0.005086</td>\n",
       "      <td>0.003619</td>\n",
       "      <td>0.006345</td>\n",
       "      <td>0.005870</td>\n",
       "      <td>...</td>\n",
       "      <td>0.008279</td>\n",
       "      <td>0.008120</td>\n",
       "      <td>0.011249</td>\n",
       "      <td>0.004244</td>\n",
       "      <td>0.006333</td>\n",
       "      <td>0.004357</td>\n",
       "      <td>0.003260</td>\n",
       "      <td>0.005618</td>\n",
       "      <td>0.002933</td>\n",
       "      <td>0.001345</td>\n",
       "    </tr>\n",
       "    <tr>\n",
       "      <th>ENSG00000099968</th>\n",
       "      <td>0.009026</td>\n",
       "      <td>0.542751</td>\n",
       "      <td>1.000000</td>\n",
       "      <td>0.407814</td>\n",
       "      <td>0.017332</td>\n",
       "      <td>0.006787</td>\n",
       "      <td>0.011335</td>\n",
       "      <td>0.006430</td>\n",
       "      <td>0.010107</td>\n",
       "      <td>0.008393</td>\n",
       "      <td>...</td>\n",
       "      <td>0.012219</td>\n",
       "      <td>0.009727</td>\n",
       "      <td>0.010804</td>\n",
       "      <td>0.006971</td>\n",
       "      <td>0.007054</td>\n",
       "      <td>0.006032</td>\n",
       "      <td>0.006546</td>\n",
       "      <td>0.007885</td>\n",
       "      <td>0.006857</td>\n",
       "      <td>0.005880</td>\n",
       "    </tr>\n",
       "    <tr>\n",
       "      <th>ENSG00000015475</th>\n",
       "      <td>0.009111</td>\n",
       "      <td>0.258149</td>\n",
       "      <td>0.407814</td>\n",
       "      <td>1.000000</td>\n",
       "      <td>0.022942</td>\n",
       "      <td>0.012917</td>\n",
       "      <td>0.012144</td>\n",
       "      <td>0.007591</td>\n",
       "      <td>0.011622</td>\n",
       "      <td>0.004358</td>\n",
       "      <td>...</td>\n",
       "      <td>0.013138</td>\n",
       "      <td>0.012882</td>\n",
       "      <td>0.013128</td>\n",
       "      <td>0.007796</td>\n",
       "      <td>0.008941</td>\n",
       "      <td>0.005462</td>\n",
       "      <td>0.007339</td>\n",
       "      <td>0.012819</td>\n",
       "      <td>0.006919</td>\n",
       "      <td>0.005529</td>\n",
       "    </tr>\n",
       "    <tr>\n",
       "      <th>ENSG00000243156</th>\n",
       "      <td>0.009737</td>\n",
       "      <td>0.008466</td>\n",
       "      <td>0.017332</td>\n",
       "      <td>0.022942</td>\n",
       "      <td>1.000000</td>\n",
       "      <td>0.041806</td>\n",
       "      <td>0.030493</td>\n",
       "      <td>0.021503</td>\n",
       "      <td>0.008860</td>\n",
       "      <td>0.004369</td>\n",
       "      <td>...</td>\n",
       "      <td>0.017627</td>\n",
       "      <td>0.016883</td>\n",
       "      <td>0.008314</td>\n",
       "      <td>0.006860</td>\n",
       "      <td>0.010681</td>\n",
       "      <td>0.009537</td>\n",
       "      <td>0.011233</td>\n",
       "      <td>0.011824</td>\n",
       "      <td>0.005827</td>\n",
       "      <td>0.008861</td>\n",
       "    </tr>\n",
       "  </tbody>\n",
       "</table>\n",
       "<p>5 rows × 170 columns</p>\n",
       "</div>"
      ],
      "text/plain": [
       "                 ENSG00000177663  ENSG00000131100  ENSG00000099968  \\\n",
       "ENSG00000177663         1.000000         0.004574         0.009026   \n",
       "ENSG00000131100         0.004574         1.000000         0.542751   \n",
       "ENSG00000099968         0.009026         0.542751         1.000000   \n",
       "ENSG00000015475         0.009111         0.258149         0.407814   \n",
       "ENSG00000243156         0.009737         0.008466         0.017332   \n",
       "\n",
       "                 ENSG00000015475  ENSG00000243156  ENSG00000215193  \\\n",
       "ENSG00000177663         0.009111         0.009737         0.011145   \n",
       "ENSG00000131100         0.258149         0.008466         0.003632   \n",
       "ENSG00000099968         0.407814         0.017332         0.006787   \n",
       "ENSG00000015475         1.000000         0.022942         0.012917   \n",
       "ENSG00000243156         0.022942         1.000000         0.041806   \n",
       "\n",
       "                 ENSG00000183785  ENSG00000184979  ENSG00000100033  \\\n",
       "ENSG00000177663         0.011920         0.007596         0.010300   \n",
       "ENSG00000131100         0.005086         0.003619         0.006345   \n",
       "ENSG00000099968         0.011335         0.006430         0.010107   \n",
       "ENSG00000015475         0.012144         0.007591         0.011622   \n",
       "ENSG00000243156         0.030493         0.021503         0.008860   \n",
       "\n",
       "                 ENSG00000100075  ...  ENSG00000196576  ENSG00000128165  \\\n",
       "ENSG00000177663         0.003041  ...         0.010216         0.011473   \n",
       "ENSG00000131100         0.005870  ...         0.008279         0.008120   \n",
       "ENSG00000099968         0.008393  ...         0.012219         0.009727   \n",
       "ENSG00000015475         0.004358  ...         0.013138         0.012882   \n",
       "ENSG00000243156         0.004369  ...         0.017627         0.016883   \n",
       "\n",
       "                 ENSG00000100253  ENSG00000130489  ENSG00000025708  \\\n",
       "ENSG00000177663         0.007232         0.005242         0.005412   \n",
       "ENSG00000131100         0.011249         0.004244         0.006333   \n",
       "ENSG00000099968         0.010804         0.006971         0.007054   \n",
       "ENSG00000015475         0.013128         0.007796         0.008941   \n",
       "ENSG00000243156         0.008314         0.006860         0.010681   \n",
       "\n",
       "                 ENSG00000205560  ENSG00000100288  ENSG00000008735  \\\n",
       "ENSG00000177663         0.006832         0.005160         0.010522   \n",
       "ENSG00000131100         0.004357         0.003260         0.005618   \n",
       "ENSG00000099968         0.006032         0.006546         0.007885   \n",
       "ENSG00000015475         0.005462         0.007339         0.012819   \n",
       "ENSG00000243156         0.009537         0.011233         0.011824   \n",
       "\n",
       "                 ENSG00000100299  ENSG00000251322  \n",
       "ENSG00000177663         0.005475         0.004523  \n",
       "ENSG00000131100         0.002933         0.001345  \n",
       "ENSG00000099968         0.006857         0.005880  \n",
       "ENSG00000015475         0.006919         0.005529  \n",
       "ENSG00000243156         0.005827         0.008861  \n",
       "\n",
       "[5 rows x 170 columns]"
      ]
     },
     "execution_count": 31,
     "metadata": {},
     "output_type": "execute_result"
    }
   ],
   "source": [
    "gene_corrs_df.head()"
   ]
  },
  {
   "cell_type": "markdown",
   "id": "dad6603f-01c6-41fb-a6f6-241051207dd8",
   "metadata": {
    "papermill": {
     "duration": 0.717994,
     "end_time": "2022-08-27T06:15:25.952697",
     "exception": false,
     "start_time": "2022-08-27T06:15:25.234703",
     "status": "completed"
    },
    "tags": []
   },
   "source": [
    "## Standard checks and stats"
   ]
  },
  {
   "cell_type": "code",
   "execution_count": 32,
   "id": "286686af-1b7b-4440-8453-6bdcbd8de19c",
   "metadata": {
    "execution": {
     "iopub.execute_input": "2022-08-27T06:15:27.392621Z",
     "iopub.status.busy": "2022-08-27T06:15:27.392347Z",
     "iopub.status.idle": "2022-08-27T06:15:27.412548Z",
     "shell.execute_reply": "2022-08-27T06:15:27.412118Z"
    },
    "papermill": {
     "duration": 0.753117,
     "end_time": "2022-08-27T06:15:27.414005",
     "exception": false,
     "start_time": "2022-08-27T06:15:26.660888",
     "status": "completed"
    },
    "tags": []
   },
   "outputs": [],
   "source": [
    "assert not gene_corrs_df.isna().any().any()"
   ]
  },
  {
   "cell_type": "code",
   "execution_count": 33,
   "id": "00583efc-7068-4270-ad1e-4a418e91db96",
   "metadata": {
    "execution": {
     "iopub.execute_input": "2022-08-27T06:15:28.827689Z",
     "iopub.status.busy": "2022-08-27T06:15:28.827425Z",
     "iopub.status.idle": "2022-08-27T06:15:28.849293Z",
     "shell.execute_reply": "2022-08-27T06:15:28.848855Z"
    },
    "papermill": {
     "duration": 0.735446,
     "end_time": "2022-08-27T06:15:28.850570",
     "exception": false,
     "start_time": "2022-08-27T06:15:28.115124",
     "status": "completed"
    },
    "tags": []
   },
   "outputs": [
    {
     "data": {
      "text/plain": [
       "6.312798956420639e-07"
      ]
     },
     "metadata": {},
     "output_type": "display_data"
    }
   ],
   "source": [
    "_min_val = gene_corrs_df.min().min()\n",
    "display(_min_val)\n",
    "assert _min_val >= -0.05"
   ]
  },
  {
   "cell_type": "code",
   "execution_count": 34,
   "id": "d04fb2cf-1050-475b-b855-f5f7cc04092b",
   "metadata": {
    "execution": {
     "iopub.execute_input": "2022-08-27T06:15:30.263543Z",
     "iopub.status.busy": "2022-08-27T06:15:30.263275Z",
     "iopub.status.idle": "2022-08-27T06:15:30.285169Z",
     "shell.execute_reply": "2022-08-27T06:15:30.284644Z"
    },
    "papermill": {
     "duration": 0.728552,
     "end_time": "2022-08-27T06:15:30.286559",
     "exception": false,
     "start_time": "2022-08-27T06:15:29.558007",
     "status": "completed"
    },
    "tags": []
   },
   "outputs": [
    {
     "data": {
      "text/plain": [
       "1.0000000000000029"
      ]
     },
     "metadata": {},
     "output_type": "display_data"
    }
   ],
   "source": [
    "_max_val = gene_corrs_df.max().max()  # this captures the diagonal\n",
    "display(_max_val)\n",
    "assert _max_val <= 1.05"
   ]
  },
  {
   "cell_type": "code",
   "execution_count": 35,
   "id": "96d02c44-1fba-47be-8a93-8f2608420b9c",
   "metadata": {
    "execution": {
     "iopub.execute_input": "2022-08-27T06:15:31.694339Z",
     "iopub.status.busy": "2022-08-27T06:15:31.694084Z",
     "iopub.status.idle": "2022-08-27T06:15:31.712889Z",
     "shell.execute_reply": "2022-08-27T06:15:31.712487Z"
    },
    "papermill": {
     "duration": 0.721511,
     "end_time": "2022-08-27T06:15:31.714307",
     "exception": false,
     "start_time": "2022-08-27T06:15:30.992796",
     "status": "completed"
    },
    "tags": []
   },
   "outputs": [],
   "source": [
    "# check upper triangular values\n",
    "# assert len(gene_corrs) == int(genes_chr.shape[0] * (genes_chr.shape[0] - 1) / 2)"
   ]
  },
  {
   "cell_type": "code",
   "execution_count": 36,
   "id": "fe283586-c348-40e0-8841-f6d97bfb021c",
   "metadata": {
    "execution": {
     "iopub.execute_input": "2022-08-27T06:15:33.102788Z",
     "iopub.status.busy": "2022-08-27T06:15:33.102517Z",
     "iopub.status.idle": "2022-08-27T06:15:33.127008Z",
     "shell.execute_reply": "2022-08-27T06:15:33.126286Z"
    },
    "papermill": {
     "duration": 0.753059,
     "end_time": "2022-08-27T06:15:33.128445",
     "exception": false,
     "start_time": "2022-08-27T06:15:32.375386",
     "status": "completed"
    },
    "tags": []
   },
   "outputs": [
    {
     "data": {
      "text/plain": [
       "count    1.453500e+04\n",
       "mean     2.303208e-02\n",
       "std      1.137375e-01\n",
       "min      6.312799e-07\n",
       "25%      4.107764e-03\n",
       "50%      6.213379e-03\n",
       "75%      8.694321e-03\n",
       "max      1.000000e+00\n",
       "dtype: float64"
      ]
     },
     "execution_count": 36,
     "metadata": {},
     "output_type": "execute_result"
    }
   ],
   "source": [
    "gene_corrs_flat.describe()"
   ]
  },
  {
   "cell_type": "code",
   "execution_count": 37,
   "id": "b3815678-0f93-4b35-897b-a9d047a2aa78",
   "metadata": {
    "execution": {
     "iopub.execute_input": "2022-08-27T06:15:34.559027Z",
     "iopub.status.busy": "2022-08-27T06:15:34.558767Z",
     "iopub.status.idle": "2022-08-27T06:15:34.582093Z",
     "shell.execute_reply": "2022-08-27T06:15:34.581369Z"
    },
    "papermill": {
     "duration": 0.739632,
     "end_time": "2022-08-27T06:15:34.583446",
     "exception": false,
     "start_time": "2022-08-27T06:15:33.843814",
     "status": "completed"
    },
    "tags": []
   },
   "outputs": [
    {
     "data": {
      "text/plain": [
       "0.00    6.312799e-07\n",
       "0.05    1.682319e-03\n",
       "0.10    2.486536e-03\n",
       "0.15    3.120341e-03\n",
       "0.20    3.620610e-03\n",
       "0.25    4.107764e-03\n",
       "0.30    4.531944e-03\n",
       "0.35    4.963369e-03\n",
       "0.40    5.375468e-03\n",
       "0.45    5.793119e-03\n",
       "0.50    6.213379e-03\n",
       "0.55    6.621462e-03\n",
       "0.60    7.088135e-03\n",
       "0.65    7.596431e-03\n",
       "0.70    8.127520e-03\n",
       "0.75    8.694321e-03\n",
       "0.80    9.344791e-03\n",
       "0.85    1.026918e-02\n",
       "0.90    1.163177e-02\n",
       "0.95    1.594732e-02\n",
       "dtype: float64"
      ]
     },
     "metadata": {},
     "output_type": "display_data"
    }
   ],
   "source": [
    "gene_corrs_quantiles = gene_corrs_flat.quantile(np.arange(0, 1, 0.05))\n",
    "display(gene_corrs_quantiles)"
   ]
  },
  {
   "cell_type": "markdown",
   "id": "87134509-b145-4a10-8bc9-b7e914c2b0fa",
   "metadata": {
    "papermill": {
     "duration": 0.731807,
     "end_time": "2022-08-27T06:15:36.049227",
     "exception": false,
     "start_time": "2022-08-27T06:15:35.317420",
     "status": "completed"
    },
    "tags": []
   },
   "source": [
    "## Positive definiteness"
   ]
  },
  {
   "cell_type": "code",
   "execution_count": 38,
   "id": "07d9a9a1-a4f7-48aa-b916-6d42a8cc6186",
   "metadata": {
    "execution": {
     "iopub.execute_input": "2022-08-27T06:15:37.473909Z",
     "iopub.status.busy": "2022-08-27T06:15:37.473650Z",
     "iopub.status.idle": "2022-08-27T06:15:37.501810Z",
     "shell.execute_reply": "2022-08-27T06:15:37.501186Z"
    },
    "papermill": {
     "duration": 0.747144,
     "end_time": "2022-08-27T06:15:37.502999",
     "exception": false,
     "start_time": "2022-08-27T06:15:36.755855",
     "status": "completed"
    },
    "tags": []
   },
   "outputs": [
    {
     "data": {
      "text/plain": [
       "0"
      ]
     },
     "metadata": {},
     "output_type": "display_data"
    },
    {
     "data": {
      "text/plain": [
       "array([], dtype=float64)"
      ]
     },
     "metadata": {},
     "output_type": "display_data"
    }
   ],
   "source": [
    "# print negative eigenvalues\n",
    "eigs = np.linalg.eigvals(gene_corrs_df.to_numpy())\n",
    "display(len(eigs[eigs < 0]))\n",
    "display(eigs[eigs < 0])"
   ]
  },
  {
   "cell_type": "code",
   "execution_count": 39,
   "id": "6e218436-c3c5-4028-8c94-a4fa6260efce",
   "metadata": {
    "execution": {
     "iopub.execute_input": "2022-08-27T06:15:38.911722Z",
     "iopub.status.busy": "2022-08-27T06:15:38.911444Z",
     "iopub.status.idle": "2022-08-27T06:15:38.933609Z",
     "shell.execute_reply": "2022-08-27T06:15:38.933177Z"
    },
    "papermill": {
     "duration": 0.734606,
     "end_time": "2022-08-27T06:15:38.934873",
     "exception": false,
     "start_time": "2022-08-27T06:15:38.200267",
     "status": "completed"
    },
    "tags": []
   },
   "outputs": [
    {
     "name": "stdout",
     "output_type": "stream",
     "text": [
      "Works!\n"
     ]
    }
   ],
   "source": [
    "try:\n",
    "    chol_mat = np.linalg.cholesky(gene_corrs_df.to_numpy())\n",
    "    cov_inv = np.linalg.inv(chol_mat)\n",
    "    print(\"Works!\")\n",
    "except Exception as e:\n",
    "    print(f\"Cholesky decomposition failed: {str(e)}\")"
   ]
  },
  {
   "cell_type": "code",
   "execution_count": 40,
   "id": "dd8827fb-faf9-4c7c-9454-015e94752706",
   "metadata": {
    "execution": {
     "iopub.execute_input": "2022-08-27T06:15:40.337427Z",
     "iopub.status.busy": "2022-08-27T06:15:40.337172Z",
     "iopub.status.idle": "2022-08-27T06:15:40.359829Z",
     "shell.execute_reply": "2022-08-27T06:15:40.359122Z"
    },
    "papermill": {
     "duration": 0.723116,
     "end_time": "2022-08-27T06:15:40.361228",
     "exception": false,
     "start_time": "2022-08-27T06:15:39.638112",
     "status": "completed"
    },
    "tags": []
   },
   "outputs": [
    {
     "name": "stdout",
     "output_type": "stream",
     "text": [
      "Works!\n"
     ]
    }
   ],
   "source": [
    "try:\n",
    "    # decomposition used by statsmodels.GLS\n",
    "    cholsigmainv = np.linalg.cholesky(np.linalg.inv(gene_corrs_df.to_numpy())).T\n",
    "    print(\"Works!\")\n",
    "except Exception as e:\n",
    "    print(f\"Cholesky decomposition failed (statsmodels.GLS): {str(e)}\")"
   ]
  },
  {
   "cell_type": "markdown",
   "id": "8e60a080-edb2-4e9c-b2ef-22961693200c",
   "metadata": {
    "papermill": {
     "duration": 0.702189,
     "end_time": "2022-08-27T06:15:41.757716",
     "exception": false,
     "start_time": "2022-08-27T06:15:41.055527",
     "status": "completed"
    },
    "tags": []
   },
   "source": [
    "## Plot: distribution"
   ]
  },
  {
   "cell_type": "code",
   "execution_count": 41,
   "id": "8301126b-a7d4-4744-9c7d-f0f86eb6f54c",
   "metadata": {
    "execution": {
     "iopub.execute_input": "2022-08-27T06:15:43.143449Z",
     "iopub.status.busy": "2022-08-27T06:15:43.143187Z",
     "iopub.status.idle": "2022-08-27T06:15:48.691306Z",
     "shell.execute_reply": "2022-08-27T06:15:48.690606Z"
    },
    "papermill": {
     "duration": 6.242263,
     "end_time": "2022-08-27T06:15:48.692862",
     "exception": false,
     "start_time": "2022-08-27T06:15:42.450599",
     "status": "completed"
    },
    "tags": []
   },
   "outputs": [
    {
     "data": {
      "image/png": "[encoded data removed]",
      "text/plain": [
       "<Figure size 504x504 with 1 Axes>"
      ]
     },
     "metadata": {
      "needs_background": "light"
     },
     "output_type": "display_data"
    }
   ],
   "source": [
    "with sns.plotting_context(\"paper\", font_scale=1.5):\n",
    "    g = sns.displot(gene_corrs_flat, kde=True, height=7)\n",
    "    g.ax.set_title(\n",
    "        f\"Distribution of gene correlation values in chromosome {CHROMOSOME}\"\n",
    "    )"
   ]
  },
  {
   "cell_type": "markdown",
   "id": "cbd52bca-d878-4a2f-b684-5c83aa3038d4",
   "metadata": {
    "papermill": {
     "duration": 0.703249,
     "end_time": "2022-08-27T06:15:50.091870",
     "exception": false,
     "start_time": "2022-08-27T06:15:49.388621",
     "status": "completed"
    },
    "tags": []
   },
   "source": [
    "## Plot: heatmap"
   ]
  },
  {
   "cell_type": "code",
   "execution_count": 42,
   "id": "d03fe63a-c7b2-4fb9-a53c-db362ce843c9",
   "metadata": {
    "execution": {
     "iopub.execute_input": "2022-08-27T06:15:51.498964Z",
     "iopub.status.busy": "2022-08-27T06:15:51.498703Z",
     "iopub.status.idle": "2022-08-27T06:15:51.520905Z",
     "shell.execute_reply": "2022-08-27T06:15:51.520308Z"
    },
    "papermill": {
     "duration": 0.72808,
     "end_time": "2022-08-27T06:15:51.522282",
     "exception": false,
     "start_time": "2022-08-27T06:15:50.794202",
     "status": "completed"
    },
    "tags": []
   },
   "outputs": [
    {
     "data": {
      "text/plain": [
       "'0.0 / 0.05'"
      ]
     },
     "metadata": {},
     "output_type": "display_data"
    }
   ],
   "source": [
    "vmin_val = min(0.00, gene_corrs_quantiles[0.10])\n",
    "vmax_val = max(0.05, gene_corrs_quantiles[0.90])\n",
    "display(f\"{vmin_val} / {vmax_val}\")"
   ]
  },
  {
   "cell_type": "code",
   "execution_count": 43,
   "id": "dc41b70b-5bcc-4d9e-9f33-a22c4a94dab5",
   "metadata": {
    "execution": {
     "iopub.execute_input": "2022-08-27T06:15:52.926164Z",
     "iopub.status.busy": "2022-08-27T06:15:52.925909Z",
     "iopub.status.idle": "2022-08-27T06:15:53.097042Z",
     "shell.execute_reply": "2022-08-27T06:15:53.096329Z"
    },
    "papermill": {
     "duration": 0.879922,
     "end_time": "2022-08-27T06:15:53.098526",
     "exception": false,
     "start_time": "2022-08-27T06:15:52.218604",
     "status": "completed"
    },
    "tags": []
   },
   "outputs": [
    {
     "data": {
      "text/plain": [
       "Text(0.5, 1.0, 'Gene correlations in chromosome 22')"
      ]
     },
     "execution_count": 43,
     "metadata": {},
     "output_type": "execute_result"
    },
    {
     "data": {
      "image/png": "[encoded data removed]",
      "text/plain": [
       "<Figure size 720x720 with 2 Axes>"
      ]
     },
     "metadata": {
      "needs_background": "light"
     },
     "output_type": "display_data"
    }
   ],
   "source": [
    "f, ax = plt.subplots(figsize=(10, 10))\n",
    "sns.heatmap(\n",
    "    gene_corrs_df,\n",
    "    xticklabels=False,\n",
    "    yticklabels=False,\n",
    "    square=True,\n",
    "    vmin=vmin_val,\n",
    "    vmax=vmax_val,\n",
    "    cmap=\"rocket_r\",\n",
    "    ax=ax,\n",
    ")\n",
    "ax.set_title(f\"Gene correlations in chromosome {CHROMOSOME}\")"
   ]
  },
  {
   "cell_type": "code",
   "execution_count": null,
   "id": "b25e3ead",
   "metadata": {
    "papermill": {
     "duration": 0.7211,
     "end_time": "2022-08-27T06:15:54.523724",
     "exception": false,
     "start_time": "2022-08-27T06:15:53.802624",
     "status": "completed"
    },
    "tags": []
   },
   "outputs": [],
   "source": []
  }
 ],
 "metadata": {
  "jupytext": {
   "cell_metadata_filter": "all,-execution,-papermill,-trusted",
   "formats": "ipynb,py//py:percent"
  },
  "kernelspec": {
   "display_name": "Python 3 (ipykernel)",
   "language": "python",
   "name": "python3"
  },
  "language_info": {
   "codemirror_mode": {
    "name": "ipython",
    "version": 3
   },
   "file_extension": ".py",
   "mimetype": "text/x-python",
   "name": "python",
   "nbconvert_exporter": "python",
   "pygments_lexer": "ipython3",
   "version": "3.8.13"
  },
  "papermill": {
   "default_parameters": {},
   "duration": 1014.449025,
   "end_time": "2022-08-27T06:15:58.516530",
   "environment_variables": {},
   "exception": null,
   "input_path": "nbs/15_gsa_gls/10-gene_expr_correlations.ipynb",
   "output_path": "nbs/15_gsa_gls/gene_corrs/cohorts/phenomexcan_rapid_gwas/gtex_v8/mashr/10-gene_expr_corrs/10-gene_expr_correlations-chr22.run.ipynb",
   "parameters": {
    "CHROMOSOME": 22,
    "COHORT_NAME": "phenomexcan_rapid_gwas",
    "EQTL_MODEL": "MASHR",
    "REFERENCE_PANEL": "GTEX_V8"
   },
   "start_time": "2022-08-27T05:59:04.067505",
   "version": "2.2.2"
  }
 },
 "nbformat": 4,
 "nbformat_minor": 5
}
