{
 "cells": [
  {
   "cell_type": "markdown",
   "id": "7a6632fb",
   "metadata": {
    "papermill": {
     "duration": 0.021073,
     "end_time": "2022-08-27T05:59:17.763809",
     "exception": false,
     "start_time": "2022-08-27T05:59:17.742736",
     "status": "completed"
    },
    "tags": []
   },
   "source": [
    "# Description"
   ]
  },
  {
   "cell_type": "markdown",
   "id": "7097c346",
   "metadata": {
    "papermill": {
     "duration": 0.079462,
     "end_time": "2022-08-27T05:59:17.863349",
     "exception": false,
     "start_time": "2022-08-27T05:59:17.783887",
     "status": "completed"
    },
    "tags": []
   },
   "source": [
    "(Please, take a look at the README.md file in this directory for instructions on how to run this notebook)\n",
    "\n",
    "This notebook computes predicted expression correlations between all genes in the MultiPLIER models.\n",
    "\n",
    "It also has a parameter set for papermill to run on a single chromosome to run in parallel (see under `Settings` below).\n",
    "\n",
    "This notebook is not directly run. See README.md."
   ]
  },
  {
   "cell_type": "markdown",
   "id": "c61d8427",
   "metadata": {
    "papermill": {
     "duration": 0.08693,
     "end_time": "2022-08-27T05:59:17.966358",
     "exception": false,
     "start_time": "2022-08-27T05:59:17.879428",
     "status": "completed"
    },
    "tags": []
   },
   "source": [
    "# Modules"
   ]
  },
  {
   "cell_type": "code",
   "execution_count": 1,
   "id": "bbc0234f",
   "metadata": {
    "execution": {
     "iopub.execute_input": "2022-08-27T05:59:18.002983Z",
     "iopub.status.busy": "2022-08-27T05:59:18.002523Z",
     "iopub.status.idle": "2022-08-27T05:59:18.123536Z",
     "shell.execute_reply": "2022-08-27T05:59:18.122377Z"
    },
    "papermill": {
     "duration": 0.143832,
     "end_time": "2022-08-27T05:59:18.127357",
     "exception": false,
     "start_time": "2022-08-27T05:59:17.983525",
     "status": "completed"
    },
    "tags": []
   },
   "outputs": [],
   "source": [
    "%load_ext autoreload\n",
    "%autoreload 2"
   ]
  },
  {
   "cell_type": "code",
   "execution_count": 2,
   "id": "1d5f5a59",
   "metadata": {
    "execution": {
     "iopub.execute_input": "2022-08-27T05:59:18.165386Z",
     "iopub.status.busy": "2022-08-27T05:59:18.165003Z",
     "iopub.status.idle": "2022-08-27T05:59:24.356129Z",
     "shell.execute_reply": "2022-08-27T05:59:24.355279Z"
    },
    "papermill": {
     "duration": 6.214116,
     "end_time": "2022-08-27T05:59:24.358734",
     "exception": false,
     "start_time": "2022-08-27T05:59:18.144618",
     "status": "completed"
    },
    "tags": []
   },
   "outputs": [],
   "source": [
    "from random import sample, seed\n",
    "import warnings\n",
    "from pathlib import Path\n",
    "import pickle\n",
    "import traceback\n",
    "\n",
    "import numpy as np\n",
    "from scipy.spatial.distance import squareform\n",
    "import pandas as pd\n",
    "from tqdm import tqdm\n",
    "import matplotlib.pyplot as plt\n",
    "import seaborn as sns\n",
    "\n",
    "import conf\n",
    "from entity import Gene"
   ]
  },
  {
   "cell_type": "markdown",
   "id": "1eac24b5",
   "metadata": {
    "papermill": {
     "duration": 0.010481,
     "end_time": "2022-08-27T05:59:24.409866",
     "exception": false,
     "start_time": "2022-08-27T05:59:24.399385",
     "status": "completed"
    },
    "tags": []
   },
   "source": [
    "# Settings"
   ]
  },
  {
   "cell_type": "code",
   "execution_count": 3,
   "id": "ca4560ba",
   "metadata": {
    "execution": {
     "iopub.execute_input": "2022-08-27T05:59:24.438530Z",
     "iopub.status.busy": "2022-08-27T05:59:24.438238Z",
     "iopub.status.idle": "2022-08-27T05:59:24.701982Z",
     "shell.execute_reply": "2022-08-27T05:59:24.700862Z"
    },
    "papermill": {
     "duration": 0.281938,
     "end_time": "2022-08-27T05:59:24.705526",
     "exception": false,
     "start_time": "2022-08-27T05:59:24.423588",
     "status": "completed"
    },
    "tags": [
     "parameters"
    ]
   },
   "outputs": [],
   "source": [
    "# a cohort name (it could be something like UK_BIOBANK, etc)\n",
    "COHORT_NAME = None\n",
    "\n",
    "# reference panel such as 1000G or GTEX_V8\n",
    "REFERENCE_PANEL = None\n",
    "\n",
    "# predictions models such as MASHR or ELASTIC_NET\n",
    "EQTL_MODEL = None\n",
    "\n",
    "# this is the default value used in S-MultiXcan to select the\n",
    "# top principal components of the expression correlation matrix\n",
    "SMULTIXCAN_CONDITION_NUMBER = 30\n",
    "\n",
    "# specifies a single chromosome value\n",
    "CHROMOSOME = None\n",
    "\n",
    "# If True, computes the correlation between closeby genes only;\n",
    "# otherwise, it computes correlations for all genes in a chromosome\n",
    "COMPUTE_CORRELATIONS_WITHIN_DISTANCE = False\n",
    "\n",
    "# if True, then it will continue if a gene pair correlation fails,\n",
    "# printing the warning/error for debugging. If False, any warning/error\n",
    "# will be thrown\n",
    "DEBUG_MODE = False"
   ]
  },
  {
   "cell_type": "code",
   "execution_count": 4,
   "id": "70d0f744",
   "metadata": {
    "execution": {
     "iopub.execute_input": "2022-08-27T05:59:24.739211Z",
     "iopub.status.busy": "2022-08-27T05:59:24.738832Z",
     "iopub.status.idle": "2022-08-27T05:59:24.768153Z",
     "shell.execute_reply": "2022-08-27T05:59:24.767178Z"
    },
    "papermill": {
     "duration": 0.049028,
     "end_time": "2022-08-27T05:59:24.770799",
     "exception": false,
     "start_time": "2022-08-27T05:59:24.721771",
     "status": "completed"
    },
    "tags": [
     "injected-parameters"
    ]
   },
   "outputs": [],
   "source": [
    "# Parameters\n",
    "COHORT_NAME = \"phenomexcan_rapid_gwas\"\n",
    "REFERENCE_PANEL = \"GTEX_V8\"\n",
    "EQTL_MODEL = \"MASHR\"\n",
    "CHROMOSOME = 15\n"
   ]
  },
  {
   "cell_type": "code",
   "execution_count": 5,
   "id": "3190631f-27fc-480f-b18e-571d580425a5",
   "metadata": {
    "execution": {
     "iopub.execute_input": "2022-08-27T05:59:24.799101Z",
     "iopub.status.busy": "2022-08-27T05:59:24.798773Z",
     "iopub.status.idle": "2022-08-27T05:59:24.829350Z",
     "shell.execute_reply": "2022-08-27T05:59:24.828550Z"
    },
    "papermill": {
     "duration": 0.046991,
     "end_time": "2022-08-27T05:59:24.831504",
     "exception": false,
     "start_time": "2022-08-27T05:59:24.784513",
     "status": "completed"
    },
    "tags": []
   },
   "outputs": [
    {
     "data": {
      "text/plain": [
       "'Cohort name: phenomexcan_rapid_gwas'"
      ]
     },
     "metadata": {},
     "output_type": "display_data"
    }
   ],
   "source": [
    "assert COHORT_NAME is not None and len(COHORT_NAME) > 0, \"A cohort name must be given\"\n",
    "\n",
    "COHORT_NAME = COHORT_NAME.lower()\n",
    "display(f\"Cohort name: {COHORT_NAME}\")"
   ]
  },
  {
   "cell_type": "code",
   "execution_count": 6,
   "id": "f53ba19b-0f93-4fa2-a047-63b375939d1a",
   "metadata": {
    "execution": {
     "iopub.execute_input": "2022-08-27T05:59:24.857184Z",
     "iopub.status.busy": "2022-08-27T05:59:24.856908Z",
     "iopub.status.idle": "2022-08-27T05:59:24.915138Z",
     "shell.execute_reply": "2022-08-27T05:59:24.914033Z"
    },
    "papermill": {
     "duration": 0.074466,
     "end_time": "2022-08-27T05:59:24.918106",
     "exception": false,
     "start_time": "2022-08-27T05:59:24.843640",
     "status": "completed"
    },
    "tags": []
   },
   "outputs": [
    {
     "data": {
      "text/plain": [
       "'Reference panel: GTEX_V8'"
      ]
     },
     "metadata": {},
     "output_type": "display_data"
    }
   ],
   "source": [
    "assert (\n",
    "    REFERENCE_PANEL is not None and len(REFERENCE_PANEL) > 0\n",
    "), \"A reference panel must be given\"\n",
    "\n",
    "display(f\"Reference panel: {REFERENCE_PANEL}\")"
   ]
  },
  {
   "cell_type": "code",
   "execution_count": 7,
   "id": "e024d130-c139-429a-9c6e-ccf149e297b0",
   "metadata": {
    "execution": {
     "iopub.execute_input": "2022-08-27T05:59:24.951082Z",
     "iopub.status.busy": "2022-08-27T05:59:24.950728Z",
     "iopub.status.idle": "2022-08-27T05:59:24.984318Z",
     "shell.execute_reply": "2022-08-27T05:59:24.983536Z"
    },
    "papermill": {
     "duration": 0.053177,
     "end_time": "2022-08-27T05:59:24.986667",
     "exception": false,
     "start_time": "2022-08-27T05:59:24.933490",
     "status": "completed"
    },
    "tags": []
   },
   "outputs": [
    {
     "data": {
      "text/plain": [
       "'eQTL model: MASHR) / mashr_'"
      ]
     },
     "metadata": {},
     "output_type": "display_data"
    }
   ],
   "source": [
    "assert (\n",
    "    EQTL_MODEL is not None and len(EQTL_MODEL) > 0\n",
    "), \"A prediction/eQTL model must be given\"\n",
    "\n",
    "EQTL_MODEL_FILES_PREFIX = conf.PHENOMEXCAN[\"PREDICTION_MODELS\"][f\"{EQTL_MODEL}_PREFIX\"]\n",
    "display(f\"eQTL model: {EQTL_MODEL}) / {EQTL_MODEL_FILES_PREFIX}\")"
   ]
  },
  {
   "cell_type": "code",
   "execution_count": 8,
   "id": "552a7f63-a18c-4d3e-bb6a-94f99b431291",
   "metadata": {
    "execution": {
     "iopub.execute_input": "2022-08-27T05:59:25.014423Z",
     "iopub.status.busy": "2022-08-27T05:59:25.014137Z",
     "iopub.status.idle": "2022-08-27T05:59:25.040956Z",
     "shell.execute_reply": "2022-08-27T05:59:25.040172Z"
    },
    "papermill": {
     "duration": 0.043494,
     "end_time": "2022-08-27T05:59:25.043016",
     "exception": false,
     "start_time": "2022-08-27T05:59:24.999522",
     "status": "completed"
    },
    "tags": []
   },
   "outputs": [
    {
     "data": {
      "text/plain": [
       "'S-MultiXcan condition number: 30'"
      ]
     },
     "metadata": {},
     "output_type": "display_data"
    }
   ],
   "source": [
    "assert (\n",
    "    SMULTIXCAN_CONDITION_NUMBER is not None and SMULTIXCAN_CONDITION_NUMBER > 0\n",
    "), \"The S-MultiXcan condition number (positive integer) must be given\"\n",
    "\n",
    "display(f\"S-MultiXcan condition number: {SMULTIXCAN_CONDITION_NUMBER}\")"
   ]
  },
  {
   "cell_type": "code",
   "execution_count": 9,
   "id": "f34a336f-548e-4afe-8955-90eaea4f42c6",
   "metadata": {
    "execution": {
     "iopub.execute_input": "2022-08-27T05:59:25.066956Z",
     "iopub.status.busy": "2022-08-27T05:59:25.066694Z",
     "iopub.status.idle": "2022-08-27T05:59:25.092964Z",
     "shell.execute_reply": "2022-08-27T05:59:25.092125Z"
    },
    "papermill": {
     "duration": 0.040405,
     "end_time": "2022-08-27T05:59:25.094963",
     "exception": false,
     "start_time": "2022-08-27T05:59:25.054558",
     "status": "completed"
    },
    "tags": []
   },
   "outputs": [
    {
     "data": {
      "text/plain": [
       "'Working on chromosome 15'"
      ]
     },
     "metadata": {},
     "output_type": "display_data"
    }
   ],
   "source": [
    "assert CHROMOSOME is not None and (\n",
    "    1 <= CHROMOSOME <= 22\n",
    "), \"You have to select one chromosome (format: number between 1 and 22)\"\n",
    "\n",
    "# CHROMOSOME = str(CHROMOSOME)\n",
    "display(f\"Working on chromosome {CHROMOSOME}\")"
   ]
  },
  {
   "cell_type": "code",
   "execution_count": 10,
   "id": "ab8e96e8-06b5-4363-9dcd-dc4d78cc27f7",
   "metadata": {
    "execution": {
     "iopub.execute_input": "2022-08-27T05:59:25.127701Z",
     "iopub.status.busy": "2022-08-27T05:59:25.127457Z",
     "iopub.status.idle": "2022-08-27T05:59:25.180356Z",
     "shell.execute_reply": "2022-08-27T05:59:25.179372Z"
    },
    "papermill": {
     "duration": 0.077203,
     "end_time": "2022-08-27T05:59:25.183293",
     "exception": false,
     "start_time": "2022-08-27T05:59:25.106090",
     "status": "completed"
    },
    "tags": []
   },
   "outputs": [
    {
     "data": {
      "text/plain": [
       "'Compute correlation within distance False'"
      ]
     },
     "metadata": {},
     "output_type": "display_data"
    }
   ],
   "source": [
    "display(f\"Compute correlation within distance {COMPUTE_CORRELATIONS_WITHIN_DISTANCE}\")"
   ]
  },
  {
   "cell_type": "code",
   "execution_count": 11,
   "id": "396392dc-0340-4540-9b02-e182b833f909",
   "metadata": {
    "execution": {
     "iopub.execute_input": "2022-08-27T05:59:25.237510Z",
     "iopub.status.busy": "2022-08-27T05:59:25.237098Z",
     "iopub.status.idle": "2022-08-27T05:59:25.282889Z",
     "shell.execute_reply": "2022-08-27T05:59:25.282058Z"
    },
    "papermill": {
     "duration": 0.075389,
     "end_time": "2022-08-27T05:59:25.285368",
     "exception": false,
     "start_time": "2022-08-27T05:59:25.209979",
     "status": "completed"
    },
    "tags": []
   },
   "outputs": [
    {
     "data": {
      "text/plain": [
       "'Using output dir base: /project/ritchie20/projects/phenoplier/base/results/gls/gene_corrs/cohorts/phenomexcan_rapid_gwas/gtex_v8/mashr'"
      ]
     },
     "metadata": {},
     "output_type": "display_data"
    }
   ],
   "source": [
    "OUTPUT_DIR_BASE = (\n",
    "    conf.RESULTS[\"GLS\"]\n",
    "    / \"gene_corrs\"\n",
    "    / \"cohorts\"\n",
    "    / COHORT_NAME\n",
    "    / REFERENCE_PANEL.lower()\n",
    "    / EQTL_MODEL.lower()\n",
    ")\n",
    "OUTPUT_DIR_BASE.mkdir(parents=True, exist_ok=True)\n",
    "\n",
    "display(f\"Using output dir base: {OUTPUT_DIR_BASE}\")"
   ]
  },
  {
   "cell_type": "markdown",
   "id": "d2ba085e",
   "metadata": {
    "papermill": {
     "duration": 0.024488,
     "end_time": "2022-08-27T05:59:25.331334",
     "exception": false,
     "start_time": "2022-08-27T05:59:25.306846",
     "status": "completed"
    },
    "tags": []
   },
   "source": [
    "# Load data"
   ]
  },
  {
   "cell_type": "markdown",
   "id": "7dcb8db7",
   "metadata": {
    "papermill": {
     "duration": 0.03231,
     "end_time": "2022-08-27T05:59:25.394477",
     "exception": false,
     "start_time": "2022-08-27T05:59:25.362167",
     "status": "completed"
    },
    "tags": []
   },
   "source": [
    "## GWAS variants"
   ]
  },
  {
   "cell_type": "code",
   "execution_count": 12,
   "id": "29434c4e-8cd3-4b9b-82e4-b5a251d9dd19",
   "metadata": {
    "execution": {
     "iopub.execute_input": "2022-08-27T05:59:25.485821Z",
     "iopub.status.busy": "2022-08-27T05:59:25.485378Z",
     "iopub.status.idle": "2022-08-27T05:59:28.233849Z",
     "shell.execute_reply": "2022-08-27T05:59:28.233041Z"
    },
    "papermill": {
     "duration": 2.795635,
     "end_time": "2022-08-27T05:59:28.235852",
     "exception": false,
     "start_time": "2022-08-27T05:59:25.440217",
     "status": "completed"
    },
    "tags": []
   },
   "outputs": [],
   "source": [
    "with open(OUTPUT_DIR_BASE / \"gwas_variant_ids.pkl\", \"rb\") as handle:\n",
    "    gwas_variants_ids_set = pickle.load(handle)"
   ]
  },
  {
   "cell_type": "code",
   "execution_count": 13,
   "id": "b9d9dec2-4a76-4bf9-bde2-e24c95acb8a0",
   "metadata": {
    "execution": {
     "iopub.execute_input": "2022-08-27T05:59:28.255833Z",
     "iopub.status.busy": "2022-08-27T05:59:28.255627Z",
     "iopub.status.idle": "2022-08-27T05:59:28.326401Z",
     "shell.execute_reply": "2022-08-27T05:59:28.325710Z"
    },
    "papermill": {
     "duration": 0.082867,
     "end_time": "2022-08-27T05:59:28.328471",
     "exception": false,
     "start_time": "2022-08-27T05:59:28.245604",
     "status": "completed"
    },
    "tags": []
   },
   "outputs": [
    {
     "data": {
      "text/plain": [
       "8496088"
      ]
     },
     "execution_count": 13,
     "metadata": {},
     "output_type": "execute_result"
    }
   ],
   "source": [
    "len(gwas_variants_ids_set)"
   ]
  },
  {
   "cell_type": "code",
   "execution_count": 14,
   "id": "4235b06a-6034-4ee4-a0a3-2ae35d122418",
   "metadata": {
    "execution": {
     "iopub.execute_input": "2022-08-27T05:59:28.355590Z",
     "iopub.status.busy": "2022-08-27T05:59:28.355328Z",
     "iopub.status.idle": "2022-08-27T05:59:28.926057Z",
     "shell.execute_reply": "2022-08-27T05:59:28.925514Z"
    },
    "papermill": {
     "duration": 0.586684,
     "end_time": "2022-08-27T05:59:28.927565",
     "exception": false,
     "start_time": "2022-08-27T05:59:28.340881",
     "status": "completed"
    },
    "tags": []
   },
   "outputs": [
    {
     "data": {
      "text/plain": [
       "['chr1_242795809_T_A_b38',\n",
       " 'chr10_57910180_C_T_b38',\n",
       " 'chr6_101795638_T_C_b38',\n",
       " 'chr6_24659520_C_G_b38',\n",
       " 'chr4_158726098_A_T_b38']"
      ]
     },
     "execution_count": 14,
     "metadata": {},
     "output_type": "execute_result"
    }
   ],
   "source": [
    "list(gwas_variants_ids_set)[:5]"
   ]
  },
  {
   "cell_type": "markdown",
   "id": "07866999-2305-41f9-a144-e69c9122c212",
   "metadata": {
    "papermill": {
     "duration": 0.008896,
     "end_time": "2022-08-27T05:59:28.946278",
     "exception": false,
     "start_time": "2022-08-27T05:59:28.937382",
     "status": "completed"
    },
    "tags": []
   },
   "source": [
    "## S-PrediXcan tissue models"
   ]
  },
  {
   "cell_type": "code",
   "execution_count": 15,
   "id": "780611d9-77c8-405f-90a4-f271f7b09397",
   "metadata": {
    "execution": {
     "iopub.execute_input": "2022-08-27T05:59:28.965066Z",
     "iopub.status.busy": "2022-08-27T05:59:28.964862Z",
     "iopub.status.idle": "2022-08-27T05:59:29.792500Z",
     "shell.execute_reply": "2022-08-27T05:59:29.791860Z"
    },
    "papermill": {
     "duration": 0.839347,
     "end_time": "2022-08-27T05:59:29.794371",
     "exception": false,
     "start_time": "2022-08-27T05:59:28.955024",
     "status": "completed"
    },
    "tags": []
   },
   "outputs": [],
   "source": [
    "spredixcan_genes_models = pd.read_pickle(OUTPUT_DIR_BASE / \"gene_tissues.pkl\")"
   ]
  },
  {
   "cell_type": "code",
   "execution_count": 16,
   "id": "726dd1f6-9557-4225-91fa-b3b879ea96e1",
   "metadata": {
    "execution": {
     "iopub.execute_input": "2022-08-27T05:59:29.815261Z",
     "iopub.status.busy": "2022-08-27T05:59:29.815064Z",
     "iopub.status.idle": "2022-08-27T05:59:29.834811Z",
     "shell.execute_reply": "2022-08-27T05:59:29.834096Z"
    },
    "papermill": {
     "duration": 0.031852,
     "end_time": "2022-08-27T05:59:29.836332",
     "exception": false,
     "start_time": "2022-08-27T05:59:29.804480",
     "status": "completed"
    },
    "tags": []
   },
   "outputs": [
    {
     "data": {
      "text/plain": [
       "(6428, 3)"
      ]
     },
     "execution_count": 16,
     "metadata": {},
     "output_type": "execute_result"
    }
   ],
   "source": [
    "spredixcan_genes_models.shape"
   ]
  },
  {
   "cell_type": "code",
   "execution_count": 17,
   "id": "944a1b48-222c-4eb0-b252-b9de2cbca215",
   "metadata": {
    "execution": {
     "iopub.execute_input": "2022-08-27T05:59:29.856478Z",
     "iopub.status.busy": "2022-08-27T05:59:29.856282Z",
     "iopub.status.idle": "2022-08-27T05:59:29.881271Z",
     "shell.execute_reply": "2022-08-27T05:59:29.880527Z"
    },
    "papermill": {
     "duration": 0.036619,
     "end_time": "2022-08-27T05:59:29.882805",
     "exception": false,
     "start_time": "2022-08-27T05:59:29.846186",
     "status": "completed"
    },
    "tags": []
   },
   "outputs": [
    {
     "data": {
      "text/html": [
       "<div>\n",
       "<style scoped>\n",
       "    .dataframe tbody tr th:only-of-type {\n",
       "        vertical-align: middle;\n",
       "    }\n",
       "\n",
       "    .dataframe tbody tr th {\n",
       "        vertical-align: top;\n",
       "    }\n",
       "\n",
       "    .dataframe thead th {\n",
       "        text-align: right;\n",
       "    }\n",
       "</style>\n",
       "<table border=\"1\" class=\"dataframe\">\n",
       "  <thead>\n",
       "    <tr style=\"text-align: right;\">\n",
       "      <th></th>\n",
       "      <th>gene_name</th>\n",
       "      <th>tissue</th>\n",
       "      <th>n_tissues</th>\n",
       "    </tr>\n",
       "    <tr>\n",
       "      <th>gene_id</th>\n",
       "      <th></th>\n",
       "      <th></th>\n",
       "      <th></th>\n",
       "    </tr>\n",
       "  </thead>\n",
       "  <tbody>\n",
       "    <tr>\n",
       "      <th>ENSG00000000419</th>\n",
       "      <td>DPM1</td>\n",
       "      <td>(Brain_Hypothalamus, Brain_Substantia_nigra)</td>\n",
       "      <td>2</td>\n",
       "    </tr>\n",
       "    <tr>\n",
       "      <th>ENSG00000000938</th>\n",
       "      <td>FGR</td>\n",
       "      <td>(Whole_Blood, Brain_Cerebellar_Hemisphere, Bra...</td>\n",
       "      <td>36</td>\n",
       "    </tr>\n",
       "    <tr>\n",
       "      <th>ENSG00000000971</th>\n",
       "      <td>CFH</td>\n",
       "      <td>(Whole_Blood, Brain_Cerebellar_Hemisphere, Bra...</td>\n",
       "      <td>34</td>\n",
       "    </tr>\n",
       "    <tr>\n",
       "      <th>ENSG00000001084</th>\n",
       "      <td>GCLC</td>\n",
       "      <td>(Whole_Blood, Brain_Cerebellar_Hemisphere, Bra...</td>\n",
       "      <td>33</td>\n",
       "    </tr>\n",
       "    <tr>\n",
       "      <th>ENSG00000001167</th>\n",
       "      <td>NFYA</td>\n",
       "      <td>(Whole_Blood, Brain_Cerebellar_Hemisphere, Bra...</td>\n",
       "      <td>40</td>\n",
       "    </tr>\n",
       "  </tbody>\n",
       "</table>\n",
       "</div>"
      ],
      "text/plain": [
       "                gene_name                                             tissue  \\\n",
       "gene_id                                                                        \n",
       "ENSG00000000419      DPM1       (Brain_Hypothalamus, Brain_Substantia_nigra)   \n",
       "ENSG00000000938       FGR  (Whole_Blood, Brain_Cerebellar_Hemisphere, Bra...   \n",
       "ENSG00000000971       CFH  (Whole_Blood, Brain_Cerebellar_Hemisphere, Bra...   \n",
       "ENSG00000001084      GCLC  (Whole_Blood, Brain_Cerebellar_Hemisphere, Bra...   \n",
       "ENSG00000001167      NFYA  (Whole_Blood, Brain_Cerebellar_Hemisphere, Bra...   \n",
       "\n",
       "                 n_tissues  \n",
       "gene_id                     \n",
       "ENSG00000000419          2  \n",
       "ENSG00000000938         36  \n",
       "ENSG00000000971         34  \n",
       "ENSG00000001084         33  \n",
       "ENSG00000001167         40  "
      ]
     },
     "execution_count": 17,
     "metadata": {},
     "output_type": "execute_result"
    }
   ],
   "source": [
    "spredixcan_genes_models.head()"
   ]
  },
  {
   "cell_type": "code",
   "execution_count": 18,
   "id": "d1c11bb1-be0b-4f40-b360-633d6827109f",
   "metadata": {
    "execution": {
     "iopub.execute_input": "2022-08-27T05:59:29.903065Z",
     "iopub.status.busy": "2022-08-27T05:59:29.902875Z",
     "iopub.status.idle": "2022-08-27T05:59:29.918909Z",
     "shell.execute_reply": "2022-08-27T05:59:29.918162Z"
    },
    "papermill": {
     "duration": 0.028183,
     "end_time": "2022-08-27T05:59:29.920416",
     "exception": false,
     "start_time": "2022-08-27T05:59:29.892233",
     "status": "completed"
    },
    "tags": []
   },
   "outputs": [],
   "source": [
    "assert spredixcan_genes_models.index.is_unique"
   ]
  },
  {
   "cell_type": "markdown",
   "id": "a5b5092c-a13e-47c4-a92a-480fcc08f3ae",
   "metadata": {
    "papermill": {
     "duration": 0.009418,
     "end_time": "2022-08-27T05:59:29.939190",
     "exception": false,
     "start_time": "2022-08-27T05:59:29.929772",
     "status": "completed"
    },
    "tags": []
   },
   "source": [
    "## Gene info"
   ]
  },
  {
   "cell_type": "code",
   "execution_count": 19,
   "id": "7d6bb224-88e9-4358-ac10-43a41d92cdad",
   "metadata": {
    "execution": {
     "iopub.execute_input": "2022-08-27T05:59:29.958984Z",
     "iopub.status.busy": "2022-08-27T05:59:29.958790Z",
     "iopub.status.idle": "2022-08-27T05:59:29.978813Z",
     "shell.execute_reply": "2022-08-27T05:59:29.978314Z"
    },
    "papermill": {
     "duration": 0.031642,
     "end_time": "2022-08-27T05:59:29.980386",
     "exception": false,
     "start_time": "2022-08-27T05:59:29.948744",
     "status": "completed"
    },
    "tags": []
   },
   "outputs": [],
   "source": [
    "genes_info = pd.read_pickle(OUTPUT_DIR_BASE / \"genes_info.pkl\")"
   ]
  },
  {
   "cell_type": "code",
   "execution_count": 20,
   "id": "9e32abfa-546d-483e-8c18-d526e9e05903",
   "metadata": {
    "execution": {
     "iopub.execute_input": "2022-08-27T05:59:30.000382Z",
     "iopub.status.busy": "2022-08-27T05:59:30.000193Z",
     "iopub.status.idle": "2022-08-27T05:59:30.016919Z",
     "shell.execute_reply": "2022-08-27T05:59:30.016433Z"
    },
    "papermill": {
     "duration": 0.028248,
     "end_time": "2022-08-27T05:59:30.018359",
     "exception": false,
     "start_time": "2022-08-27T05:59:29.990111",
     "status": "completed"
    },
    "tags": []
   },
   "outputs": [
    {
     "data": {
      "text/plain": [
       "(6428, 7)"
      ]
     },
     "execution_count": 20,
     "metadata": {},
     "output_type": "execute_result"
    }
   ],
   "source": [
    "genes_info.shape"
   ]
  },
  {
   "cell_type": "code",
   "execution_count": 21,
   "id": "d16c3e92-85ec-468a-9a56-e25a9774a1cb",
   "metadata": {
    "execution": {
     "iopub.execute_input": "2022-08-27T05:59:30.038228Z",
     "iopub.status.busy": "2022-08-27T05:59:30.038040Z",
     "iopub.status.idle": "2022-08-27T05:59:30.060722Z",
     "shell.execute_reply": "2022-08-27T05:59:30.060223Z"
    },
    "papermill": {
     "duration": 0.03436,
     "end_time": "2022-08-27T05:59:30.062133",
     "exception": false,
     "start_time": "2022-08-27T05:59:30.027773",
     "status": "completed"
    },
    "tags": []
   },
   "outputs": [
    {
     "data": {
      "text/html": [
       "<div>\n",
       "<style scoped>\n",
       "    .dataframe tbody tr th:only-of-type {\n",
       "        vertical-align: middle;\n",
       "    }\n",
       "\n",
       "    .dataframe tbody tr th {\n",
       "        vertical-align: top;\n",
       "    }\n",
       "\n",
       "    .dataframe thead th {\n",
       "        text-align: right;\n",
       "    }\n",
       "</style>\n",
       "<table border=\"1\" class=\"dataframe\">\n",
       "  <thead>\n",
       "    <tr style=\"text-align: right;\">\n",
       "      <th></th>\n",
       "      <th>name</th>\n",
       "      <th>id</th>\n",
       "      <th>chr</th>\n",
       "      <th>band</th>\n",
       "      <th>start_position</th>\n",
       "      <th>end_position</th>\n",
       "      <th>gene_length</th>\n",
       "    </tr>\n",
       "  </thead>\n",
       "  <tbody>\n",
       "    <tr>\n",
       "      <th>0</th>\n",
       "      <td>ZNF605</td>\n",
       "      <td>ENSG00000196458</td>\n",
       "      <td>12</td>\n",
       "      <td>12q24.33</td>\n",
       "      <td>132918306</td>\n",
       "      <td>132956306</td>\n",
       "      <td>38000</td>\n",
       "    </tr>\n",
       "    <tr>\n",
       "      <th>1</th>\n",
       "      <td>FBP1</td>\n",
       "      <td>ENSG00000165140</td>\n",
       "      <td>9</td>\n",
       "      <td>9q22.32</td>\n",
       "      <td>94603133</td>\n",
       "      <td>94640249</td>\n",
       "      <td>37116</td>\n",
       "    </tr>\n",
       "    <tr>\n",
       "      <th>2</th>\n",
       "      <td>TAL1</td>\n",
       "      <td>ENSG00000162367</td>\n",
       "      <td>1</td>\n",
       "      <td>1p33</td>\n",
       "      <td>47216290</td>\n",
       "      <td>47232220</td>\n",
       "      <td>15930</td>\n",
       "    </tr>\n",
       "    <tr>\n",
       "      <th>3</th>\n",
       "      <td>MPV17</td>\n",
       "      <td>ENSG00000115204</td>\n",
       "      <td>2</td>\n",
       "      <td>2p23.3</td>\n",
       "      <td>27309492</td>\n",
       "      <td>27325680</td>\n",
       "      <td>16188</td>\n",
       "    </tr>\n",
       "    <tr>\n",
       "      <th>4</th>\n",
       "      <td>PTPRN</td>\n",
       "      <td>ENSG00000054356</td>\n",
       "      <td>2</td>\n",
       "      <td>2q35</td>\n",
       "      <td>219289623</td>\n",
       "      <td>219309648</td>\n",
       "      <td>20025</td>\n",
       "    </tr>\n",
       "  </tbody>\n",
       "</table>\n",
       "</div>"
      ],
      "text/plain": [
       "     name               id  chr      band  start_position  end_position  \\\n",
       "0  ZNF605  ENSG00000196458   12  12q24.33       132918306     132956306   \n",
       "1    FBP1  ENSG00000165140    9   9q22.32        94603133      94640249   \n",
       "2    TAL1  ENSG00000162367    1      1p33        47216290      47232220   \n",
       "3   MPV17  ENSG00000115204    2    2p23.3        27309492      27325680   \n",
       "4   PTPRN  ENSG00000054356    2      2q35       219289623     219309648   \n",
       "\n",
       "   gene_length  \n",
       "0        38000  \n",
       "1        37116  \n",
       "2        15930  \n",
       "3        16188  \n",
       "4        20025  "
      ]
     },
     "execution_count": 21,
     "metadata": {},
     "output_type": "execute_result"
    }
   ],
   "source": [
    "genes_info.head()"
   ]
  },
  {
   "cell_type": "markdown",
   "id": "d3843e06",
   "metadata": {
    "papermill": {
     "duration": 0.009928,
     "end_time": "2022-08-27T05:59:30.082911",
     "exception": false,
     "start_time": "2022-08-27T05:59:30.072983",
     "status": "completed"
    },
    "tags": []
   },
   "source": [
    "# Compute correlations"
   ]
  },
  {
   "cell_type": "code",
   "execution_count": 22,
   "id": "cb859c15-d1f3-4006-a74c-2b83c0db9611",
   "metadata": {
    "execution": {
     "iopub.execute_input": "2022-08-27T05:59:30.103827Z",
     "iopub.status.busy": "2022-08-27T05:59:30.103639Z",
     "iopub.status.idle": "2022-08-27T05:59:30.121923Z",
     "shell.execute_reply": "2022-08-27T05:59:30.121432Z"
    },
    "papermill": {
     "duration": 0.030379,
     "end_time": "2022-08-27T05:59:30.123335",
     "exception": false,
     "start_time": "2022-08-27T05:59:30.092956",
     "status": "completed"
    },
    "tags": []
   },
   "outputs": [
    {
     "data": {
      "text/plain": [
       "PosixPath('/project/ritchie20/projects/phenoplier/base/results/gls/gene_corrs/cohorts/phenomexcan_rapid_gwas/gtex_v8/mashr/by_chr/gene_corrs-chr15.pkl')"
      ]
     },
     "metadata": {},
     "output_type": "display_data"
    }
   ],
   "source": [
    "output_dir = OUTPUT_DIR_BASE / \"by_chr\"\n",
    "output_dir.mkdir(exist_ok=True, parents=True)\n",
    "output_file = output_dir / f\"gene_corrs-chr{CHROMOSOME}.pkl\"\n",
    "display(output_file)"
   ]
  },
  {
   "cell_type": "code",
   "execution_count": 23,
   "id": "aa674fe4-6794-4eed-98fa-32b39d1d4ace",
   "metadata": {
    "execution": {
     "iopub.execute_input": "2022-08-27T05:59:30.146917Z",
     "iopub.status.busy": "2022-08-27T05:59:30.146721Z",
     "iopub.status.idle": "2022-08-27T05:59:30.161888Z",
     "shell.execute_reply": "2022-08-27T05:59:30.161260Z"
    },
    "papermill": {
     "duration": 0.028289,
     "end_time": "2022-08-27T05:59:30.163395",
     "exception": false,
     "start_time": "2022-08-27T05:59:30.135106",
     "status": "completed"
    },
    "tags": []
   },
   "outputs": [],
   "source": [
    "warnings.filterwarnings(\"error\")"
   ]
  },
  {
   "cell_type": "code",
   "execution_count": 24,
   "id": "44d5450b-3baf-43f1-9e2e-4b06f1a785f8",
   "metadata": {
    "execution": {
     "iopub.execute_input": "2022-08-27T05:59:30.185665Z",
     "iopub.status.busy": "2022-08-27T05:59:30.185478Z",
     "iopub.status.idle": "2022-08-27T05:59:30.201169Z",
     "shell.execute_reply": "2022-08-27T05:59:30.200684Z"
    },
    "papermill": {
     "duration": 0.029762,
     "end_time": "2022-08-27T05:59:30.202689",
     "exception": false,
     "start_time": "2022-08-27T05:59:30.172927",
     "status": "completed"
    },
    "tags": []
   },
   "outputs": [],
   "source": [
    "# standard checks\n",
    "all_chrs = genes_info[\"chr\"].dropna().unique()\n",
    "assert all_chrs.shape[0] == 22\n",
    "\n",
    "# select chromosome given by the user\n",
    "assert CHROMOSOME in all_chrs"
   ]
  },
  {
   "cell_type": "code",
   "execution_count": 25,
   "id": "2d7c043c-92a7-4d35-991b-fa69ac1e0268",
   "metadata": {
    "execution": {
     "iopub.execute_input": "2022-08-27T05:59:30.226323Z",
     "iopub.status.busy": "2022-08-27T05:59:30.226134Z",
     "iopub.status.idle": "2022-08-27T05:59:30.259150Z",
     "shell.execute_reply": "2022-08-27T05:59:30.258476Z"
    },
    "papermill": {
     "duration": 0.048032,
     "end_time": "2022-08-27T05:59:30.260710",
     "exception": false,
     "start_time": "2022-08-27T05:59:30.212678",
     "status": "completed"
    },
    "tags": []
   },
   "outputs": [
    {
     "name": "stdout",
     "output_type": "stream",
     "text": [
      "Number of genes in chromosome: 185\n"
     ]
    }
   ],
   "source": [
    "# run only on the chromosome specified\n",
    "all_chrs = [CHROMOSOME]\n",
    "genes_chr = genes_info[genes_info[\"chr\"] == CHROMOSOME]\n",
    "\n",
    "# For testing purposes\n",
    "# genes_chr = genes_chr.sample(n=20)\n",
    "\n",
    "print(f\"Number of genes in chromosome: {genes_chr.shape[0]}\", flush=True)"
   ]
  },
  {
   "cell_type": "code",
   "execution_count": 26,
   "id": "916015d8-2979-46d3-a9b9-1cf5a0932c6a",
   "metadata": {
    "execution": {
     "iopub.execute_input": "2022-08-27T05:59:30.285286Z",
     "iopub.status.busy": "2022-08-27T05:59:30.285097Z",
     "iopub.status.idle": "2022-08-27T05:59:30.301887Z",
     "shell.execute_reply": "2022-08-27T05:59:30.301359Z"
    },
    "papermill": {
     "duration": 0.030554,
     "end_time": "2022-08-27T05:59:30.303400",
     "exception": false,
     "start_time": "2022-08-27T05:59:30.272846",
     "status": "completed"
    },
    "tags": []
   },
   "outputs": [],
   "source": [
    "# sort genes by starting position to make visualizations better later\n",
    "genes_chr = genes_chr.sort_values(\"start_position\")"
   ]
  },
  {
   "cell_type": "code",
   "execution_count": 27,
   "id": "a38aa74a-8ad3-47f6-8ef9-56be0e011774",
   "metadata": {
    "execution": {
     "iopub.execute_input": "2022-08-27T05:59:30.332120Z",
     "iopub.status.busy": "2022-08-27T05:59:30.331931Z",
     "iopub.status.idle": "2022-08-27T05:59:30.598902Z",
     "shell.execute_reply": "2022-08-27T05:59:30.597861Z"
    },
    "papermill": {
     "duration": 0.285316,
     "end_time": "2022-08-27T05:59:30.602270",
     "exception": false,
     "start_time": "2022-08-27T05:59:30.316954",
     "status": "completed"
    },
    "tags": []
   },
   "outputs": [],
   "source": [
    "gene_chr_objs = [Gene(ensembl_id=gene_id) for gene_id in genes_chr[\"id\"]]"
   ]
  },
  {
   "cell_type": "code",
   "execution_count": 28,
   "id": "570f974f-13c3-42b6-ad3a-ce99ca885c1a",
   "metadata": {
    "execution": {
     "iopub.execute_input": "2022-08-27T05:59:30.664481Z",
     "iopub.status.busy": "2022-08-27T05:59:30.664134Z",
     "iopub.status.idle": "2022-08-27T05:59:31.152207Z",
     "shell.execute_reply": "2022-08-27T05:59:31.151137Z"
    },
    "papermill": {
     "duration": 0.522871,
     "end_time": "2022-08-27T05:59:31.155466",
     "exception": false,
     "start_time": "2022-08-27T05:59:30.632595",
     "status": "completed"
    },
    "tags": []
   },
   "outputs": [
    {
     "name": "stdout",
     "output_type": "stream",
     "text": [
      "Number of gene combinations: 17020\n"
     ]
    }
   ],
   "source": [
    "n = len(gene_chr_objs)\n",
    "n_comb = int(n * (n - 1) / 2.0)\n",
    "print(f\"Number of gene combinations: {n_comb}\", flush=True)"
   ]
  },
  {
   "cell_type": "code",
   "execution_count": 29,
   "id": "cdbb90a1",
   "metadata": {
    "execution": {
     "iopub.execute_input": "2022-08-27T05:59:31.204398Z",
     "iopub.status.busy": "2022-08-27T05:59:31.204068Z",
     "iopub.status.idle": "2022-08-27T06:26:11.689661Z",
     "shell.execute_reply": "2022-08-27T06:26:11.688325Z"
    },
    "papermill": {
     "duration": 1600.509266,
     "end_time": "2022-08-27T06:26:11.693505",
     "exception": false,
     "start_time": "2022-08-27T05:59:31.184239",
     "status": "completed"
    },
    "tags": []
   },
   "outputs": [
    {
     "name": "stderr",
     "output_type": "stream",
     "text": [
      "ENSG00000185418 / ENSG00000185418: : 17205it [26:40, 10.75it/s]\n"
     ]
    },
    {
     "data": {
      "text/plain": [
       "PosixPath('/project/ritchie20/projects/phenoplier/base/results/gls/gene_corrs/cohorts/phenomexcan_rapid_gwas/gtex_v8/mashr/by_chr/gene_corrs-chr15.pkl')"
      ]
     },
     "metadata": {},
     "output_type": "display_data"
    }
   ],
   "source": [
    "gene_corrs = []\n",
    "gene_corrs_data = np.full(\n",
    "    (n, n),\n",
    "    np.nan,\n",
    "    dtype=np.float64,\n",
    ")\n",
    "\n",
    "i = 0\n",
    "with tqdm(ncols=100, total=n_comb) as pbar:\n",
    "    for gene1_idx in range(0, len(gene_chr_objs)):\n",
    "        gene1_obj = gene_chr_objs[gene1_idx]\n",
    "        gene1_tissues = spredixcan_genes_models.loc[gene1_obj.ensembl_id, \"tissue\"]\n",
    "\n",
    "        for gene2_idx in range(gene1_idx, len(gene_chr_objs)):\n",
    "            gene2_obj = gene_chr_objs[gene2_idx]\n",
    "            gene2_tissues = spredixcan_genes_models.loc[gene2_obj.ensembl_id, \"tissue\"]\n",
    "\n",
    "            pbar.set_description(f\"{gene1_obj.ensembl_id} / {gene2_obj.ensembl_id}\")\n",
    "\n",
    "            try:\n",
    "                r = gene1_obj.get_ssm_correlation(\n",
    "                    other_gene=gene2_obj,\n",
    "                    tissues=gene1_tissues,\n",
    "                    other_tissues=gene2_tissues,\n",
    "                    snps_subset=gwas_variants_ids_set,\n",
    "                    condition_number=SMULTIXCAN_CONDITION_NUMBER,\n",
    "                    reference_panel=REFERENCE_PANEL,\n",
    "                    model_type=EQTL_MODEL,\n",
    "                    use_within_distance=COMPUTE_CORRELATIONS_WITHIN_DISTANCE,\n",
    "                )\n",
    "\n",
    "                if r is None:\n",
    "                    # if r is None, it's very likely because:\n",
    "                    #  * one of the genes has no prediction models\n",
    "                    #  * all the SNPs predictors for the gene are not present in the reference\n",
    "                    #    panel\n",
    "\n",
    "                    r = 0.0\n",
    "\n",
    "                gene_corrs.append(r)\n",
    "\n",
    "                gene_corrs_data[gene1_idx, gene2_idx] = r\n",
    "                gene_corrs_data[gene2_idx, gene1_idx] = r\n",
    "            except Warning as e:\n",
    "                if not DEBUG_MODE:\n",
    "                    raise e\n",
    "\n",
    "                print(\n",
    "                    f\"RuntimeWarning for genes {gene1_obj.ensembl_id} and {gene2_obj.ensembl_id}\",\n",
    "                    flush=True,\n",
    "                )\n",
    "                print(traceback.format_exc(), flush=True)\n",
    "\n",
    "                gene_corrs.append(np.nan)\n",
    "            except Exception as e:\n",
    "                if not DEBUG_MODE:\n",
    "                    raise e\n",
    "\n",
    "                print(\n",
    "                    f\"Exception for genes {gene1_obj.ensembl_id} and {gene2_obj.ensembl_id}\",\n",
    "                    flush=True,\n",
    "                )\n",
    "                print(traceback.format_exc(), flush=True)\n",
    "\n",
    "                gene_corrs.append(np.nan)\n",
    "\n",
    "            pbar.update(1)\n",
    "\n",
    "# create a pandas series\n",
    "gene_corrs_flat = pd.Series(gene_corrs)\n",
    "\n",
    "# save\n",
    "# FIXME: consider saving only the condenced matrix here. See here for\n",
    "# more details: https://github.com/greenelab/phenoplier/pull/38#discussion_r634600813\n",
    "# gene_corrs_data = squareform(np.array(gene_corrs, dtype=np.float64))\n",
    "# np.fill_diagonal(gene_corrs_data, 1.0)\n",
    "\n",
    "gene_chr_ids = [g.ensembl_id for g in gene_chr_objs]\n",
    "gene_corrs_df = pd.DataFrame(\n",
    "    data=gene_corrs_data,\n",
    "    index=gene_chr_ids,\n",
    "    columns=gene_chr_ids,\n",
    ")\n",
    "\n",
    "output_dir.mkdir(exist_ok=True, parents=True)\n",
    "display(output_file)\n",
    "\n",
    "gene_corrs_df.to_pickle(output_file)"
   ]
  },
  {
   "cell_type": "markdown",
   "id": "faa67b51-5373-470f-aa72-2ded53fa6dfe",
   "metadata": {
    "papermill": {
     "duration": 1.077797,
     "end_time": "2022-08-27T06:26:13.916587",
     "exception": false,
     "start_time": "2022-08-27T06:26:12.838790",
     "status": "completed"
    },
    "tags": []
   },
   "source": [
    "# Testing"
   ]
  },
  {
   "cell_type": "code",
   "execution_count": 30,
   "id": "14f7d046-4b55-4896-a56b-990127bcc388",
   "metadata": {
    "execution": {
     "iopub.execute_input": "2022-08-27T06:26:16.064717Z",
     "iopub.status.busy": "2022-08-27T06:26:16.064449Z",
     "iopub.status.idle": "2022-08-27T06:26:16.279545Z",
     "shell.execute_reply": "2022-08-27T06:26:16.279019Z"
    },
    "papermill": {
     "duration": 1.288373,
     "end_time": "2022-08-27T06:26:16.281190",
     "exception": false,
     "start_time": "2022-08-27T06:26:14.992817",
     "status": "completed"
    },
    "tags": []
   },
   "outputs": [
    {
     "data": {
      "text/plain": [
       "(185, 185)"
      ]
     },
     "execution_count": 30,
     "metadata": {},
     "output_type": "execute_result"
    }
   ],
   "source": [
    "gene_corrs_df.shape"
   ]
  },
  {
   "cell_type": "code",
   "execution_count": 31,
   "id": "c7d15414-3297-4537-a7c6-7588c0baeb75",
   "metadata": {
    "execution": {
     "iopub.execute_input": "2022-08-27T06:26:18.469477Z",
     "iopub.status.busy": "2022-08-27T06:26:18.469202Z",
     "iopub.status.idle": "2022-08-27T06:26:18.505110Z",
     "shell.execute_reply": "2022-08-27T06:26:18.504575Z"
    },
    "papermill": {
     "duration": 1.144095,
     "end_time": "2022-08-27T06:26:18.506645",
     "exception": false,
     "start_time": "2022-08-27T06:26:17.362550",
     "status": "completed"
    },
    "tags": []
   },
   "outputs": [
    {
     "data": {
      "text/html": [
       "<div>\n",
       "<style scoped>\n",
       "    .dataframe tbody tr th:only-of-type {\n",
       "        vertical-align: middle;\n",
       "    }\n",
       "\n",
       "    .dataframe tbody tr th {\n",
       "        vertical-align: top;\n",
       "    }\n",
       "\n",
       "    .dataframe thead th {\n",
       "        text-align: right;\n",
       "    }\n",
       "</style>\n",
       "<table border=\"1\" class=\"dataframe\">\n",
       "  <thead>\n",
       "    <tr style=\"text-align: right;\">\n",
       "      <th></th>\n",
       "      <th>ENSG00000182636</th>\n",
       "      <th>ENSG00000273173</th>\n",
       "      <th>ENSG00000114062</th>\n",
       "      <th>ENSG00000206190</th>\n",
       "      <th>ENSG00000128731</th>\n",
       "      <th>ENSG00000034053</th>\n",
       "      <th>ENSG00000198690</th>\n",
       "      <th>ENSG00000166912</th>\n",
       "      <th>ENSG00000198826</th>\n",
       "      <th>ENSG00000166922</th>\n",
       "      <th>...</th>\n",
       "      <th>ENSG00000182175</th>\n",
       "      <th>ENSG00000140450</th>\n",
       "      <th>ENSG00000140443</th>\n",
       "      <th>ENSG00000068305</th>\n",
       "      <th>ENSG00000183475</th>\n",
       "      <th>ENSG00000184254</th>\n",
       "      <th>ENSG00000131873</th>\n",
       "      <th>ENSG00000131876</th>\n",
       "      <th>ENSG00000140479</th>\n",
       "      <th>ENSG00000185418</th>\n",
       "    </tr>\n",
       "  </thead>\n",
       "  <tbody>\n",
       "    <tr>\n",
       "      <th>ENSG00000182636</th>\n",
       "      <td>1.000000</td>\n",
       "      <td>0.006649</td>\n",
       "      <td>0.002817</td>\n",
       "      <td>0.006534</td>\n",
       "      <td>0.002697</td>\n",
       "      <td>0.003826</td>\n",
       "      <td>0.005096</td>\n",
       "      <td>0.002655</td>\n",
       "      <td>0.005327</td>\n",
       "      <td>0.008844</td>\n",
       "      <td>...</td>\n",
       "      <td>0.006641</td>\n",
       "      <td>0.003556</td>\n",
       "      <td>0.009934</td>\n",
       "      <td>0.005937</td>\n",
       "      <td>0.003900</td>\n",
       "      <td>0.008911</td>\n",
       "      <td>0.006874</td>\n",
       "      <td>0.001616</td>\n",
       "      <td>0.009652</td>\n",
       "      <td>0.006553</td>\n",
       "    </tr>\n",
       "    <tr>\n",
       "      <th>ENSG00000273173</th>\n",
       "      <td>0.006649</td>\n",
       "      <td>1.000000</td>\n",
       "      <td>0.003644</td>\n",
       "      <td>0.010733</td>\n",
       "      <td>0.002109</td>\n",
       "      <td>0.010855</td>\n",
       "      <td>0.007956</td>\n",
       "      <td>0.001972</td>\n",
       "      <td>0.002455</td>\n",
       "      <td>0.004012</td>\n",
       "      <td>...</td>\n",
       "      <td>0.006342</td>\n",
       "      <td>0.001866</td>\n",
       "      <td>0.005139</td>\n",
       "      <td>0.004713</td>\n",
       "      <td>0.004148</td>\n",
       "      <td>0.006153</td>\n",
       "      <td>0.004745</td>\n",
       "      <td>0.001522</td>\n",
       "      <td>0.012111</td>\n",
       "      <td>0.006016</td>\n",
       "    </tr>\n",
       "    <tr>\n",
       "      <th>ENSG00000114062</th>\n",
       "      <td>0.002817</td>\n",
       "      <td>0.003644</td>\n",
       "      <td>1.000000</td>\n",
       "      <td>0.007026</td>\n",
       "      <td>0.002030</td>\n",
       "      <td>0.003957</td>\n",
       "      <td>0.005094</td>\n",
       "      <td>0.005470</td>\n",
       "      <td>0.004091</td>\n",
       "      <td>0.005640</td>\n",
       "      <td>...</td>\n",
       "      <td>0.001876</td>\n",
       "      <td>0.002423</td>\n",
       "      <td>0.007618</td>\n",
       "      <td>0.007527</td>\n",
       "      <td>0.001972</td>\n",
       "      <td>0.007805</td>\n",
       "      <td>0.006153</td>\n",
       "      <td>0.001831</td>\n",
       "      <td>0.007192</td>\n",
       "      <td>0.005493</td>\n",
       "    </tr>\n",
       "    <tr>\n",
       "      <th>ENSG00000206190</th>\n",
       "      <td>0.006534</td>\n",
       "      <td>0.010733</td>\n",
       "      <td>0.007026</td>\n",
       "      <td>1.000000</td>\n",
       "      <td>0.011262</td>\n",
       "      <td>0.012409</td>\n",
       "      <td>0.017201</td>\n",
       "      <td>0.013259</td>\n",
       "      <td>0.010122</td>\n",
       "      <td>0.016468</td>\n",
       "      <td>...</td>\n",
       "      <td>0.011078</td>\n",
       "      <td>0.004900</td>\n",
       "      <td>0.015083</td>\n",
       "      <td>0.012111</td>\n",
       "      <td>0.007962</td>\n",
       "      <td>0.015095</td>\n",
       "      <td>0.010739</td>\n",
       "      <td>0.006984</td>\n",
       "      <td>0.018773</td>\n",
       "      <td>0.012103</td>\n",
       "    </tr>\n",
       "    <tr>\n",
       "      <th>ENSG00000128731</th>\n",
       "      <td>0.002697</td>\n",
       "      <td>0.002109</td>\n",
       "      <td>0.002030</td>\n",
       "      <td>0.011262</td>\n",
       "      <td>1.000000</td>\n",
       "      <td>0.009232</td>\n",
       "      <td>0.005989</td>\n",
       "      <td>0.004094</td>\n",
       "      <td>0.005525</td>\n",
       "      <td>0.003882</td>\n",
       "      <td>...</td>\n",
       "      <td>0.007699</td>\n",
       "      <td>0.002618</td>\n",
       "      <td>0.009674</td>\n",
       "      <td>0.005600</td>\n",
       "      <td>0.003512</td>\n",
       "      <td>0.007532</td>\n",
       "      <td>0.004365</td>\n",
       "      <td>0.002089</td>\n",
       "      <td>0.006588</td>\n",
       "      <td>0.002659</td>\n",
       "    </tr>\n",
       "  </tbody>\n",
       "</table>\n",
       "<p>5 rows × 185 columns</p>\n",
       "</div>"
      ],
      "text/plain": [
       "                 ENSG00000182636  ENSG00000273173  ENSG00000114062  \\\n",
       "ENSG00000182636         1.000000         0.006649         0.002817   \n",
       "ENSG00000273173         0.006649         1.000000         0.003644   \n",
       "ENSG00000114062         0.002817         0.003644         1.000000   \n",
       "ENSG00000206190         0.006534         0.010733         0.007026   \n",
       "ENSG00000128731         0.002697         0.002109         0.002030   \n",
       "\n",
       "                 ENSG00000206190  ENSG00000128731  ENSG00000034053  \\\n",
       "ENSG00000182636         0.006534         0.002697         0.003826   \n",
       "ENSG00000273173         0.010733         0.002109         0.010855   \n",
       "ENSG00000114062         0.007026         0.002030         0.003957   \n",
       "ENSG00000206190         1.000000         0.011262         0.012409   \n",
       "ENSG00000128731         0.011262         1.000000         0.009232   \n",
       "\n",
       "                 ENSG00000198690  ENSG00000166912  ENSG00000198826  \\\n",
       "ENSG00000182636         0.005096         0.002655         0.005327   \n",
       "ENSG00000273173         0.007956         0.001972         0.002455   \n",
       "ENSG00000114062         0.005094         0.005470         0.004091   \n",
       "ENSG00000206190         0.017201         0.013259         0.010122   \n",
       "ENSG00000128731         0.005989         0.004094         0.005525   \n",
       "\n",
       "                 ENSG00000166922  ...  ENSG00000182175  ENSG00000140450  \\\n",
       "ENSG00000182636         0.008844  ...         0.006641         0.003556   \n",
       "ENSG00000273173         0.004012  ...         0.006342         0.001866   \n",
       "ENSG00000114062         0.005640  ...         0.001876         0.002423   \n",
       "ENSG00000206190         0.016468  ...         0.011078         0.004900   \n",
       "ENSG00000128731         0.003882  ...         0.007699         0.002618   \n",
       "\n",
       "                 ENSG00000140443  ENSG00000068305  ENSG00000183475  \\\n",
       "ENSG00000182636         0.009934         0.005937         0.003900   \n",
       "ENSG00000273173         0.005139         0.004713         0.004148   \n",
       "ENSG00000114062         0.007618         0.007527         0.001972   \n",
       "ENSG00000206190         0.015083         0.012111         0.007962   \n",
       "ENSG00000128731         0.009674         0.005600         0.003512   \n",
       "\n",
       "                 ENSG00000184254  ENSG00000131873  ENSG00000131876  \\\n",
       "ENSG00000182636         0.008911         0.006874         0.001616   \n",
       "ENSG00000273173         0.006153         0.004745         0.001522   \n",
       "ENSG00000114062         0.007805         0.006153         0.001831   \n",
       "ENSG00000206190         0.015095         0.010739         0.006984   \n",
       "ENSG00000128731         0.007532         0.004365         0.002089   \n",
       "\n",
       "                 ENSG00000140479  ENSG00000185418  \n",
       "ENSG00000182636         0.009652         0.006553  \n",
       "ENSG00000273173         0.012111         0.006016  \n",
       "ENSG00000114062         0.007192         0.005493  \n",
       "ENSG00000206190         0.018773         0.012103  \n",
       "ENSG00000128731         0.006588         0.002659  \n",
       "\n",
       "[5 rows x 185 columns]"
      ]
     },
     "execution_count": 31,
     "metadata": {},
     "output_type": "execute_result"
    }
   ],
   "source": [
    "gene_corrs_df.head()"
   ]
  },
  {
   "cell_type": "markdown",
   "id": "dad6603f-01c6-41fb-a6f6-241051207dd8",
   "metadata": {
    "papermill": {
     "duration": 1.093626,
     "end_time": "2022-08-27T06:26:20.683333",
     "exception": false,
     "start_time": "2022-08-27T06:26:19.589707",
     "status": "completed"
    },
    "tags": []
   },
   "source": [
    "## Standard checks and stats"
   ]
  },
  {
   "cell_type": "code",
   "execution_count": 32,
   "id": "286686af-1b7b-4440-8453-6bdcbd8de19c",
   "metadata": {
    "execution": {
     "iopub.execute_input": "2022-08-27T06:26:22.832439Z",
     "iopub.status.busy": "2022-08-27T06:26:22.832174Z",
     "iopub.status.idle": "2022-08-27T06:26:22.851887Z",
     "shell.execute_reply": "2022-08-27T06:26:22.851360Z"
    },
    "papermill": {
     "duration": 1.093393,
     "end_time": "2022-08-27T06:26:22.853491",
     "exception": false,
     "start_time": "2022-08-27T06:26:21.760098",
     "status": "completed"
    },
    "tags": []
   },
   "outputs": [],
   "source": [
    "assert not gene_corrs_df.isna().any().any()"
   ]
  },
  {
   "cell_type": "code",
   "execution_count": 33,
   "id": "00583efc-7068-4270-ad1e-4a418e91db96",
   "metadata": {
    "execution": {
     "iopub.execute_input": "2022-08-27T06:26:25.004265Z",
     "iopub.status.busy": "2022-08-27T06:26:25.003997Z",
     "iopub.status.idle": "2022-08-27T06:26:25.026207Z",
     "shell.execute_reply": "2022-08-27T06:26:25.025679Z"
    },
    "papermill": {
     "duration": 1.095471,
     "end_time": "2022-08-27T06:26:25.027714",
     "exception": false,
     "start_time": "2022-08-27T06:26:23.932243",
     "status": "completed"
    },
    "tags": []
   },
   "outputs": [
    {
     "data": {
      "text/plain": [
       "2.9690984676582354e-06"
      ]
     },
     "metadata": {},
     "output_type": "display_data"
    }
   ],
   "source": [
    "_min_val = gene_corrs_df.min().min()\n",
    "display(_min_val)\n",
    "assert _min_val >= -0.05"
   ]
  },
  {
   "cell_type": "code",
   "execution_count": 34,
   "id": "d04fb2cf-1050-475b-b855-f5f7cc04092b",
   "metadata": {
    "execution": {
     "iopub.execute_input": "2022-08-27T06:26:27.187625Z",
     "iopub.status.busy": "2022-08-27T06:26:27.187360Z",
     "iopub.status.idle": "2022-08-27T06:26:27.209539Z",
     "shell.execute_reply": "2022-08-27T06:26:27.209004Z"
    },
    "papermill": {
     "duration": 1.105315,
     "end_time": "2022-08-27T06:26:27.211077",
     "exception": false,
     "start_time": "2022-08-27T06:26:26.105762",
     "status": "completed"
    },
    "tags": []
   },
   "outputs": [
    {
     "data": {
      "text/plain": [
       "1.000000000000003"
      ]
     },
     "metadata": {},
     "output_type": "display_data"
    }
   ],
   "source": [
    "_max_val = gene_corrs_df.max().max()  # this captures the diagonal\n",
    "display(_max_val)\n",
    "assert _max_val <= 1.05"
   ]
  },
  {
   "cell_type": "code",
   "execution_count": 35,
   "id": "96d02c44-1fba-47be-8a93-8f2608420b9c",
   "metadata": {
    "execution": {
     "iopub.execute_input": "2022-08-27T06:26:29.368502Z",
     "iopub.status.busy": "2022-08-27T06:26:29.368227Z",
     "iopub.status.idle": "2022-08-27T06:26:29.387143Z",
     "shell.execute_reply": "2022-08-27T06:26:29.386618Z"
    },
    "papermill": {
     "duration": 1.094049,
     "end_time": "2022-08-27T06:26:29.388772",
     "exception": false,
     "start_time": "2022-08-27T06:26:28.294723",
     "status": "completed"
    },
    "tags": []
   },
   "outputs": [],
   "source": [
    "# check upper triangular values\n",
    "# assert len(gene_corrs) == int(genes_chr.shape[0] * (genes_chr.shape[0] - 1) / 2)"
   ]
  },
  {
   "cell_type": "code",
   "execution_count": 36,
   "id": "fe283586-c348-40e0-8841-f6d97bfb021c",
   "metadata": {
    "execution": {
     "iopub.execute_input": "2022-08-27T06:26:31.544633Z",
     "iopub.status.busy": "2022-08-27T06:26:31.544366Z",
     "iopub.status.idle": "2022-08-27T06:26:31.568628Z",
     "shell.execute_reply": "2022-08-27T06:26:31.568120Z"
    },
    "papermill": {
     "duration": 1.104338,
     "end_time": "2022-08-27T06:26:31.570121",
     "exception": false,
     "start_time": "2022-08-27T06:26:30.465783",
     "status": "completed"
    },
    "tags": []
   },
   "outputs": [
    {
     "data": {
      "text/plain": [
       "count    17205.000000\n",
       "mean         0.020646\n",
       "std          0.108885\n",
       "min          0.000003\n",
       "25%          0.003896\n",
       "50%          0.005880\n",
       "75%          0.008356\n",
       "max          1.000000\n",
       "dtype: float64"
      ]
     },
     "execution_count": 36,
     "metadata": {},
     "output_type": "execute_result"
    }
   ],
   "source": [
    "gene_corrs_flat.describe()"
   ]
  },
  {
   "cell_type": "code",
   "execution_count": 37,
   "id": "b3815678-0f93-4b35-897b-a9d047a2aa78",
   "metadata": {
    "execution": {
     "iopub.execute_input": "2022-08-27T06:26:33.731650Z",
     "iopub.status.busy": "2022-08-27T06:26:33.731383Z",
     "iopub.status.idle": "2022-08-27T06:26:33.755032Z",
     "shell.execute_reply": "2022-08-27T06:26:33.754500Z"
    },
    "papermill": {
     "duration": 1.105148,
     "end_time": "2022-08-27T06:26:33.756543",
     "exception": false,
     "start_time": "2022-08-27T06:26:32.651395",
     "status": "completed"
    },
    "tags": []
   },
   "outputs": [
    {
     "data": {
      "text/plain": [
       "0.00    0.000003\n",
       "0.05    0.001654\n",
       "0.10    0.002367\n",
       "0.15    0.002937\n",
       "0.20    0.003443\n",
       "0.25    0.003896\n",
       "0.30    0.004291\n",
       "0.35    0.004696\n",
       "0.40    0.005097\n",
       "0.45    0.005470\n",
       "0.50    0.005880\n",
       "0.55    0.006295\n",
       "0.60    0.006754\n",
       "0.65    0.007258\n",
       "0.70    0.007794\n",
       "0.75    0.008356\n",
       "0.80    0.009002\n",
       "0.85    0.009900\n",
       "0.90    0.011230\n",
       "0.95    0.013784\n",
       "dtype: float64"
      ]
     },
     "metadata": {},
     "output_type": "display_data"
    }
   ],
   "source": [
    "gene_corrs_quantiles = gene_corrs_flat.quantile(np.arange(0, 1, 0.05))\n",
    "display(gene_corrs_quantiles)"
   ]
  },
  {
   "cell_type": "markdown",
   "id": "87134509-b145-4a10-8bc9-b7e914c2b0fa",
   "metadata": {
    "papermill": {
     "duration": 1.071946,
     "end_time": "2022-08-27T06:26:35.913734",
     "exception": false,
     "start_time": "2022-08-27T06:26:34.841788",
     "status": "completed"
    },
    "tags": []
   },
   "source": [
    "## Positive definiteness"
   ]
  },
  {
   "cell_type": "code",
   "execution_count": 38,
   "id": "07d9a9a1-a4f7-48aa-b916-6d42a8cc6186",
   "metadata": {
    "execution": {
     "iopub.execute_input": "2022-08-27T06:26:38.075418Z",
     "iopub.status.busy": "2022-08-27T06:26:38.075132Z",
     "iopub.status.idle": "2022-08-27T06:26:38.111278Z",
     "shell.execute_reply": "2022-08-27T06:26:38.110757Z"
    },
    "papermill": {
     "duration": 1.116778,
     "end_time": "2022-08-27T06:26:38.112856",
     "exception": false,
     "start_time": "2022-08-27T06:26:36.996078",
     "status": "completed"
    },
    "tags": []
   },
   "outputs": [
    {
     "data": {
      "text/plain": [
       "0"
      ]
     },
     "metadata": {},
     "output_type": "display_data"
    },
    {
     "data": {
      "text/plain": [
       "array([], dtype=float64)"
      ]
     },
     "metadata": {},
     "output_type": "display_data"
    }
   ],
   "source": [
    "# print negative eigenvalues\n",
    "eigs = np.linalg.eigvals(gene_corrs_df.to_numpy())\n",
    "display(len(eigs[eigs < 0]))\n",
    "display(eigs[eigs < 0])"
   ]
  },
  {
   "cell_type": "code",
   "execution_count": 39,
   "id": "6e218436-c3c5-4028-8c94-a4fa6260efce",
   "metadata": {
    "execution": {
     "iopub.execute_input": "2022-08-27T06:26:40.280520Z",
     "iopub.status.busy": "2022-08-27T06:26:40.280252Z",
     "iopub.status.idle": "2022-08-27T06:26:40.304847Z",
     "shell.execute_reply": "2022-08-27T06:26:40.304312Z"
    },
    "papermill": {
     "duration": 1.108653,
     "end_time": "2022-08-27T06:26:40.306479",
     "exception": false,
     "start_time": "2022-08-27T06:26:39.197826",
     "status": "completed"
    },
    "tags": []
   },
   "outputs": [
    {
     "name": "stdout",
     "output_type": "stream",
     "text": [
      "Works!\n"
     ]
    }
   ],
   "source": [
    "try:\n",
    "    chol_mat = np.linalg.cholesky(gene_corrs_df.to_numpy())\n",
    "    cov_inv = np.linalg.inv(chol_mat)\n",
    "    print(\"Works!\")\n",
    "except Exception as e:\n",
    "    print(f\"Cholesky decomposition failed: {str(e)}\")"
   ]
  },
  {
   "cell_type": "code",
   "execution_count": 40,
   "id": "dd8827fb-faf9-4c7c-9454-015e94752706",
   "metadata": {
    "execution": {
     "iopub.execute_input": "2022-08-27T06:26:42.456180Z",
     "iopub.status.busy": "2022-08-27T06:26:42.455909Z",
     "iopub.status.idle": "2022-08-27T06:26:42.479182Z",
     "shell.execute_reply": "2022-08-27T06:26:42.478647Z"
    },
    "papermill": {
     "duration": 1.101747,
     "end_time": "2022-08-27T06:26:42.480707",
     "exception": false,
     "start_time": "2022-08-27T06:26:41.378960",
     "status": "completed"
    },
    "tags": []
   },
   "outputs": [
    {
     "name": "stdout",
     "output_type": "stream",
     "text": [
      "Works!\n"
     ]
    }
   ],
   "source": [
    "try:\n",
    "    # decomposition used by statsmodels.GLS\n",
    "    cholsigmainv = np.linalg.cholesky(np.linalg.inv(gene_corrs_df.to_numpy())).T\n",
    "    print(\"Works!\")\n",
    "except Exception as e:\n",
    "    print(f\"Cholesky decomposition failed (statsmodels.GLS): {str(e)}\")"
   ]
  },
  {
   "cell_type": "markdown",
   "id": "8e60a080-edb2-4e9c-b2ef-22961693200c",
   "metadata": {
    "papermill": {
     "duration": 1.074124,
     "end_time": "2022-08-27T06:26:44.627675",
     "exception": false,
     "start_time": "2022-08-27T06:26:43.553551",
     "status": "completed"
    },
    "tags": []
   },
   "source": [
    "## Plot: distribution"
   ]
  },
  {
   "cell_type": "code",
   "execution_count": 41,
   "id": "8301126b-a7d4-4744-9c7d-f0f86eb6f54c",
   "metadata": {
    "execution": {
     "iopub.execute_input": "2022-08-27T06:26:46.782186Z",
     "iopub.status.busy": "2022-08-27T06:26:46.781925Z",
     "iopub.status.idle": "2022-08-27T06:26:54.275670Z",
     "shell.execute_reply": "2022-08-27T06:26:54.275091Z"
    },
    "papermill": {
     "duration": 8.571932,
     "end_time": "2022-08-27T06:26:54.277404",
     "exception": false,
     "start_time": "2022-08-27T06:26:45.705472",
     "status": "completed"
    },
    "tags": []
   },
   "outputs": [
    {
     "data": {
      "image/png": "[encoded data removed]",
      "text/plain": [
       "<Figure size 504x504 with 1 Axes>"
      ]
     },
     "metadata": {
      "needs_background": "light"
     },
     "output_type": "display_data"
    }
   ],
   "source": [
    "with sns.plotting_context(\"paper\", font_scale=1.5):\n",
    "    g = sns.displot(gene_corrs_flat, kde=True, height=7)\n",
    "    g.ax.set_title(\n",
    "        f\"Distribution of gene correlation values in chromosome {CHROMOSOME}\"\n",
    "    )"
   ]
  },
  {
   "cell_type": "markdown",
   "id": "cbd52bca-d878-4a2f-b684-5c83aa3038d4",
   "metadata": {
    "papermill": {
     "duration": 1.074263,
     "end_time": "2022-08-27T06:26:56.424537",
     "exception": false,
     "start_time": "2022-08-27T06:26:55.350274",
     "status": "completed"
    },
    "tags": []
   },
   "source": [
    "## Plot: heatmap"
   ]
  },
  {
   "cell_type": "code",
   "execution_count": 42,
   "id": "d03fe63a-c7b2-4fb9-a53c-db362ce843c9",
   "metadata": {
    "execution": {
     "iopub.execute_input": "2022-08-27T06:26:58.568008Z",
     "iopub.status.busy": "2022-08-27T06:26:58.567727Z",
     "iopub.status.idle": "2022-08-27T06:26:58.589402Z",
     "shell.execute_reply": "2022-08-27T06:26:58.588880Z"
    },
    "papermill": {
     "duration": 1.095828,
     "end_time": "2022-08-27T06:26:58.590920",
     "exception": false,
     "start_time": "2022-08-27T06:26:57.495092",
     "status": "completed"
    },
    "tags": []
   },
   "outputs": [
    {
     "data": {
      "text/plain": [
       "'0.0 / 0.05'"
      ]
     },
     "metadata": {},
     "output_type": "display_data"
    }
   ],
   "source": [
    "vmin_val = min(0.00, gene_corrs_quantiles[0.10])\n",
    "vmax_val = max(0.05, gene_corrs_quantiles[0.90])\n",
    "display(f\"{vmin_val} / {vmax_val}\")"
   ]
  },
  {
   "cell_type": "code",
   "execution_count": 43,
   "id": "dc41b70b-5bcc-4d9e-9f33-a22c4a94dab5",
   "metadata": {
    "execution": {
     "iopub.execute_input": "2022-08-27T06:27:00.742943Z",
     "iopub.status.busy": "2022-08-27T06:27:00.742648Z",
     "iopub.status.idle": "2022-08-27T06:27:00.942991Z",
     "shell.execute_reply": "2022-08-27T06:27:00.942449Z"
    },
    "papermill": {
     "duration": 1.27727,
     "end_time": "2022-08-27T06:27:00.944666",
     "exception": false,
     "start_time": "2022-08-27T06:26:59.667396",
     "status": "completed"
    },
    "tags": []
   },
   "outputs": [
    {
     "data": {
      "text/plain": [
       "Text(0.5, 1.0, 'Gene correlations in chromosome 15')"
      ]
     },
     "execution_count": 43,
     "metadata": {},
     "output_type": "execute_result"
    },
    {
     "data": {
      "image/png": "[encoded data removed]",
      "text/plain": [
       "<Figure size 720x720 with 2 Axes>"
      ]
     },
     "metadata": {
      "needs_background": "light"
     },
     "output_type": "display_data"
    }
   ],
   "source": [
    "f, ax = plt.subplots(figsize=(10, 10))\n",
    "sns.heatmap(\n",
    "    gene_corrs_df,\n",
    "    xticklabels=False,\n",
    "    yticklabels=False,\n",
    "    square=True,\n",
    "    vmin=vmin_val,\n",
    "    vmax=vmax_val,\n",
    "    cmap=\"rocket_r\",\n",
    "    ax=ax,\n",
    ")\n",
    "ax.set_title(f\"Gene correlations in chromosome {CHROMOSOME}\")"
   ]
  },
  {
   "cell_type": "code",
   "execution_count": null,
   "id": "b25e3ead",
   "metadata": {
    "papermill": {
     "duration": 1.077518,
     "end_time": "2022-08-27T06:27:03.102360",
     "exception": false,
     "start_time": "2022-08-27T06:27:02.024842",
     "status": "completed"
    },
    "tags": []
   },
   "outputs": [],
   "source": []
  }
 ],
 "metadata": {
  "jupytext": {
   "cell_metadata_filter": "all,-execution,-papermill,-trusted",
   "formats": "ipynb,py//py:percent"
  },
  "kernelspec": {
   "display_name": "Python 3 (ipykernel)",
   "language": "python",
   "name": "python3"
  },
  "language_info": {
   "codemirror_mode": {
    "name": "ipython",
    "version": 3
   },
   "file_extension": ".py",
   "mimetype": "text/x-python",
   "name": "python",
   "nbconvert_exporter": "python",
   "pygments_lexer": "ipython3",
   "version": "3.8.13"
  },
  "papermill": {
   "default_parameters": {},
   "duration": 1675.499699,
   "end_time": "2022-08-27T06:27:07.755437",
   "environment_variables": {},
   "exception": null,
   "input_path": "nbs/15_gsa_gls/10-gene_expr_correlations.ipynb",
   "output_path": "nbs/15_gsa_gls/gene_corrs/cohorts/phenomexcan_rapid_gwas/gtex_v8/mashr/10-gene_expr_corrs/10-gene_expr_correlations-chr15.run.ipynb",
   "parameters": {
    "CHROMOSOME": 15,
    "COHORT_NAME": "phenomexcan_rapid_gwas",
    "EQTL_MODEL": "MASHR",
    "REFERENCE_PANEL": "GTEX_V8"
   },
   "start_time": "2022-08-27T05:59:12.255738",
   "version": "2.2.2"
  }
 },
 "nbformat": 4,
 "nbformat_minor": 5
}
