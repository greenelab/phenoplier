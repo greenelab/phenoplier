{
 "cells": [
  {
   "cell_type": "markdown",
   "id": "7a6632fb",
   "metadata": {
    "papermill": {
     "duration": 0.022521,
     "end_time": "2022-08-27T05:59:18.036703",
     "exception": false,
     "start_time": "2022-08-27T05:59:18.014182",
     "status": "completed"
    },
    "tags": []
   },
   "source": [
    "# Description"
   ]
  },
  {
   "cell_type": "markdown",
   "id": "7097c346",
   "metadata": {
    "papermill": {
     "duration": 0.014436,
     "end_time": "2022-08-27T05:59:18.066643",
     "exception": false,
     "start_time": "2022-08-27T05:59:18.052207",
     "status": "completed"
    },
    "tags": []
   },
   "source": [
    "(Please, take a look at the README.md file in this directory for instructions on how to run this notebook)\n",
    "\n",
    "This notebook computes predicted expression correlations between all genes in the MultiPLIER models.\n",
    "\n",
    "It also has a parameter set for papermill to run on a single chromosome to run in parallel (see under `Settings` below).\n",
    "\n",
    "This notebook is not directly run. See README.md."
   ]
  },
  {
   "cell_type": "markdown",
   "id": "c61d8427",
   "metadata": {
    "papermill": {
     "duration": 0.015283,
     "end_time": "2022-08-27T05:59:18.096725",
     "exception": false,
     "start_time": "2022-08-27T05:59:18.081442",
     "status": "completed"
    },
    "tags": []
   },
   "source": [
    "# Modules"
   ]
  },
  {
   "cell_type": "code",
   "execution_count": 1,
   "id": "bbc0234f",
   "metadata": {
    "execution": {
     "iopub.execute_input": "2022-08-27T05:59:18.126783Z",
     "iopub.status.busy": "2022-08-27T05:59:18.126403Z",
     "iopub.status.idle": "2022-08-27T05:59:18.391252Z",
     "shell.execute_reply": "2022-08-27T05:59:18.389989Z"
    },
    "papermill": {
     "duration": 0.2839,
     "end_time": "2022-08-27T05:59:18.395138",
     "exception": false,
     "start_time": "2022-08-27T05:59:18.111238",
     "status": "completed"
    },
    "tags": []
   },
   "outputs": [],
   "source": [
    "%load_ext autoreload\n",
    "%autoreload 2"
   ]
  },
  {
   "cell_type": "code",
   "execution_count": 2,
   "id": "1d5f5a59",
   "metadata": {
    "execution": {
     "iopub.execute_input": "2022-08-27T05:59:18.457114Z",
     "iopub.status.busy": "2022-08-27T05:59:18.456748Z",
     "iopub.status.idle": "2022-08-27T05:59:24.849028Z",
     "shell.execute_reply": "2022-08-27T05:59:24.847622Z"
    },
    "papermill": {
     "duration": 6.430145,
     "end_time": "2022-08-27T05:59:24.853027",
     "exception": false,
     "start_time": "2022-08-27T05:59:18.422882",
     "status": "completed"
    },
    "tags": []
   },
   "outputs": [],
   "source": [
    "from random import sample, seed\n",
    "import warnings\n",
    "from pathlib import Path\n",
    "import pickle\n",
    "import traceback\n",
    "\n",
    "import numpy as np\n",
    "from scipy.spatial.distance import squareform\n",
    "import pandas as pd\n",
    "from tqdm import tqdm\n",
    "import matplotlib.pyplot as plt\n",
    "import seaborn as sns\n",
    "\n",
    "import conf\n",
    "from entity import Gene"
   ]
  },
  {
   "cell_type": "markdown",
   "id": "1eac24b5",
   "metadata": {
    "papermill": {
     "duration": 0.013218,
     "end_time": "2022-08-27T05:59:24.917951",
     "exception": false,
     "start_time": "2022-08-27T05:59:24.904733",
     "status": "completed"
    },
    "tags": []
   },
   "source": [
    "# Settings"
   ]
  },
  {
   "cell_type": "code",
   "execution_count": 3,
   "id": "ca4560ba",
   "metadata": {
    "execution": {
     "iopub.execute_input": "2022-08-27T05:59:24.945188Z",
     "iopub.status.busy": "2022-08-27T05:59:24.944831Z",
     "iopub.status.idle": "2022-08-27T05:59:26.492315Z",
     "shell.execute_reply": "2022-08-27T05:59:26.491117Z"
    },
    "papermill": {
     "duration": 1.564862,
     "end_time": "2022-08-27T05:59:26.496023",
     "exception": false,
     "start_time": "2022-08-27T05:59:24.931161",
     "status": "completed"
    },
    "tags": [
     "parameters"
    ]
   },
   "outputs": [],
   "source": [
    "# a cohort name (it could be something like UK_BIOBANK, etc)\n",
    "COHORT_NAME = None\n",
    "\n",
    "# reference panel such as 1000G or GTEX_V8\n",
    "REFERENCE_PANEL = None\n",
    "\n",
    "# predictions models such as MASHR or ELASTIC_NET\n",
    "EQTL_MODEL = None\n",
    "\n",
    "# this is the default value used in S-MultiXcan to select the\n",
    "# top principal components of the expression correlation matrix\n",
    "SMULTIXCAN_CONDITION_NUMBER = 30\n",
    "\n",
    "# specifies a single chromosome value\n",
    "CHROMOSOME = None\n",
    "\n",
    "# If True, computes the correlation between closeby genes only;\n",
    "# otherwise, it computes correlations for all genes in a chromosome\n",
    "COMPUTE_CORRELATIONS_WITHIN_DISTANCE = False\n",
    "\n",
    "# if True, then it will continue if a gene pair correlation fails,\n",
    "# printing the warning/error for debugging. If False, any warning/error\n",
    "# will be thrown\n",
    "DEBUG_MODE = False"
   ]
  },
  {
   "cell_type": "code",
   "execution_count": 4,
   "id": "dcf61342",
   "metadata": {
    "execution": {
     "iopub.execute_input": "2022-08-27T05:59:26.530146Z",
     "iopub.status.busy": "2022-08-27T05:59:26.529771Z",
     "iopub.status.idle": "2022-08-27T05:59:26.561188Z",
     "shell.execute_reply": "2022-08-27T05:59:26.560326Z"
    },
    "papermill": {
     "duration": 0.050362,
     "end_time": "2022-08-27T05:59:26.563900",
     "exception": false,
     "start_time": "2022-08-27T05:59:26.513538",
     "status": "completed"
    },
    "tags": [
     "injected-parameters"
    ]
   },
   "outputs": [],
   "source": [
    "# Parameters\n",
    "COHORT_NAME = \"phenomexcan_rapid_gwas\"\n",
    "REFERENCE_PANEL = \"GTEX_V8\"\n",
    "EQTL_MODEL = \"MASHR\"\n",
    "CHROMOSOME = 8\n"
   ]
  },
  {
   "cell_type": "code",
   "execution_count": 5,
   "id": "3190631f-27fc-480f-b18e-571d580425a5",
   "metadata": {
    "execution": {
     "iopub.execute_input": "2022-08-27T05:59:26.590204Z",
     "iopub.status.busy": "2022-08-27T05:59:26.589901Z",
     "iopub.status.idle": "2022-08-27T05:59:26.619926Z",
     "shell.execute_reply": "2022-08-27T05:59:26.619155Z"
    },
    "papermill": {
     "duration": 0.045407,
     "end_time": "2022-08-27T05:59:26.621958",
     "exception": false,
     "start_time": "2022-08-27T05:59:26.576551",
     "status": "completed"
    },
    "tags": []
   },
   "outputs": [
    {
     "data": {
      "text/plain": [
       "'Cohort name: phenomexcan_rapid_gwas'"
      ]
     },
     "metadata": {},
     "output_type": "display_data"
    }
   ],
   "source": [
    "assert COHORT_NAME is not None and len(COHORT_NAME) > 0, \"A cohort name must be given\"\n",
    "\n",
    "COHORT_NAME = COHORT_NAME.lower()\n",
    "display(f\"Cohort name: {COHORT_NAME}\")"
   ]
  },
  {
   "cell_type": "code",
   "execution_count": 6,
   "id": "f53ba19b-0f93-4fa2-a047-63b375939d1a",
   "metadata": {
    "execution": {
     "iopub.execute_input": "2022-08-27T05:59:26.644167Z",
     "iopub.status.busy": "2022-08-27T05:59:26.643909Z",
     "iopub.status.idle": "2022-08-27T05:59:26.667179Z",
     "shell.execute_reply": "2022-08-27T05:59:26.666371Z"
    },
    "papermill": {
     "duration": 0.036345,
     "end_time": "2022-08-27T05:59:26.669132",
     "exception": false,
     "start_time": "2022-08-27T05:59:26.632787",
     "status": "completed"
    },
    "tags": []
   },
   "outputs": [
    {
     "data": {
      "text/plain": [
       "'Reference panel: GTEX_V8'"
      ]
     },
     "metadata": {},
     "output_type": "display_data"
    }
   ],
   "source": [
    "assert (\n",
    "    REFERENCE_PANEL is not None and len(REFERENCE_PANEL) > 0\n",
    "), \"A reference panel must be given\"\n",
    "\n",
    "display(f\"Reference panel: {REFERENCE_PANEL}\")"
   ]
  },
  {
   "cell_type": "code",
   "execution_count": 7,
   "id": "e024d130-c139-429a-9c6e-ccf149e297b0",
   "metadata": {
    "execution": {
     "iopub.execute_input": "2022-08-27T05:59:26.695028Z",
     "iopub.status.busy": "2022-08-27T05:59:26.694785Z",
     "iopub.status.idle": "2022-08-27T05:59:26.714768Z",
     "shell.execute_reply": "2022-08-27T05:59:26.714226Z"
    },
    "papermill": {
     "duration": 0.033875,
     "end_time": "2022-08-27T05:59:26.716294",
     "exception": false,
     "start_time": "2022-08-27T05:59:26.682419",
     "status": "completed"
    },
    "tags": []
   },
   "outputs": [
    {
     "data": {
      "text/plain": [
       "'eQTL model: MASHR) / mashr_'"
      ]
     },
     "metadata": {},
     "output_type": "display_data"
    }
   ],
   "source": [
    "assert (\n",
    "    EQTL_MODEL is not None and len(EQTL_MODEL) > 0\n",
    "), \"A prediction/eQTL model must be given\"\n",
    "\n",
    "EQTL_MODEL_FILES_PREFIX = conf.PHENOMEXCAN[\"PREDICTION_MODELS\"][f\"{EQTL_MODEL}_PREFIX\"]\n",
    "display(f\"eQTL model: {EQTL_MODEL}) / {EQTL_MODEL_FILES_PREFIX}\")"
   ]
  },
  {
   "cell_type": "code",
   "execution_count": 8,
   "id": "552a7f63-a18c-4d3e-bb6a-94f99b431291",
   "metadata": {
    "execution": {
     "iopub.execute_input": "2022-08-27T05:59:26.743237Z",
     "iopub.status.busy": "2022-08-27T05:59:26.743045Z",
     "iopub.status.idle": "2022-08-27T05:59:26.760061Z",
     "shell.execute_reply": "2022-08-27T05:59:26.759561Z"
    },
    "papermill": {
     "duration": 0.033266,
     "end_time": "2022-08-27T05:59:26.761497",
     "exception": false,
     "start_time": "2022-08-27T05:59:26.728231",
     "status": "completed"
    },
    "tags": []
   },
   "outputs": [
    {
     "data": {
      "text/plain": [
       "'S-MultiXcan condition number: 30'"
      ]
     },
     "metadata": {},
     "output_type": "display_data"
    }
   ],
   "source": [
    "assert (\n",
    "    SMULTIXCAN_CONDITION_NUMBER is not None and SMULTIXCAN_CONDITION_NUMBER > 0\n",
    "), \"The S-MultiXcan condition number (positive integer) must be given\"\n",
    "\n",
    "display(f\"S-MultiXcan condition number: {SMULTIXCAN_CONDITION_NUMBER}\")"
   ]
  },
  {
   "cell_type": "code",
   "execution_count": 9,
   "id": "f34a336f-548e-4afe-8955-90eaea4f42c6",
   "metadata": {
    "execution": {
     "iopub.execute_input": "2022-08-27T05:59:26.790954Z",
     "iopub.status.busy": "2022-08-27T05:59:26.790764Z",
     "iopub.status.idle": "2022-08-27T05:59:26.807855Z",
     "shell.execute_reply": "2022-08-27T05:59:26.807344Z"
    },
    "papermill": {
     "duration": 0.031969,
     "end_time": "2022-08-27T05:59:26.809278",
     "exception": false,
     "start_time": "2022-08-27T05:59:26.777309",
     "status": "completed"
    },
    "tags": []
   },
   "outputs": [
    {
     "data": {
      "text/plain": [
       "'Working on chromosome 8'"
      ]
     },
     "metadata": {},
     "output_type": "display_data"
    }
   ],
   "source": [
    "assert CHROMOSOME is not None and (\n",
    "    1 <= CHROMOSOME <= 22\n",
    "), \"You have to select one chromosome (format: number between 1 and 22)\"\n",
    "\n",
    "# CHROMOSOME = str(CHROMOSOME)\n",
    "display(f\"Working on chromosome {CHROMOSOME}\")"
   ]
  },
  {
   "cell_type": "code",
   "execution_count": 10,
   "id": "ab8e96e8-06b5-4363-9dcd-dc4d78cc27f7",
   "metadata": {
    "execution": {
     "iopub.execute_input": "2022-08-27T05:59:26.840924Z",
     "iopub.status.busy": "2022-08-27T05:59:26.840734Z",
     "iopub.status.idle": "2022-08-27T05:59:26.858155Z",
     "shell.execute_reply": "2022-08-27T05:59:26.857407Z"
    },
    "papermill": {
     "duration": 0.034163,
     "end_time": "2022-08-27T05:59:26.859680",
     "exception": false,
     "start_time": "2022-08-27T05:59:26.825517",
     "status": "completed"
    },
    "tags": []
   },
   "outputs": [
    {
     "data": {
      "text/plain": [
       "'Compute correlation within distance False'"
      ]
     },
     "metadata": {},
     "output_type": "display_data"
    }
   ],
   "source": [
    "display(f\"Compute correlation within distance {COMPUTE_CORRELATIONS_WITHIN_DISTANCE}\")"
   ]
  },
  {
   "cell_type": "code",
   "execution_count": 11,
   "id": "396392dc-0340-4540-9b02-e182b833f909",
   "metadata": {
    "execution": {
     "iopub.execute_input": "2022-08-27T05:59:26.890199Z",
     "iopub.status.busy": "2022-08-27T05:59:26.890008Z",
     "iopub.status.idle": "2022-08-27T05:59:26.911234Z",
     "shell.execute_reply": "2022-08-27T05:59:26.910733Z"
    },
    "papermill": {
     "duration": 0.040773,
     "end_time": "2022-08-27T05:59:26.912707",
     "exception": false,
     "start_time": "2022-08-27T05:59:26.871934",
     "status": "completed"
    },
    "tags": []
   },
   "outputs": [
    {
     "data": {
      "text/plain": [
       "'Using output dir base: /project/ritchie20/projects/phenoplier/base/results/gls/gene_corrs/cohorts/phenomexcan_rapid_gwas/gtex_v8/mashr'"
      ]
     },
     "metadata": {},
     "output_type": "display_data"
    }
   ],
   "source": [
    "OUTPUT_DIR_BASE = (\n",
    "    conf.RESULTS[\"GLS\"]\n",
    "    / \"gene_corrs\"\n",
    "    / \"cohorts\"\n",
    "    / COHORT_NAME\n",
    "    / REFERENCE_PANEL.lower()\n",
    "    / EQTL_MODEL.lower()\n",
    ")\n",
    "OUTPUT_DIR_BASE.mkdir(parents=True, exist_ok=True)\n",
    "\n",
    "display(f\"Using output dir base: {OUTPUT_DIR_BASE}\")"
   ]
  },
  {
   "cell_type": "markdown",
   "id": "d2ba085e",
   "metadata": {
    "papermill": {
     "duration": 0.013394,
     "end_time": "2022-08-27T05:59:26.936397",
     "exception": false,
     "start_time": "2022-08-27T05:59:26.923003",
     "status": "completed"
    },
    "tags": []
   },
   "source": [
    "# Load data"
   ]
  },
  {
   "cell_type": "markdown",
   "id": "7dcb8db7",
   "metadata": {
    "papermill": {
     "duration": 0.01312,
     "end_time": "2022-08-27T05:59:26.963878",
     "exception": false,
     "start_time": "2022-08-27T05:59:26.950758",
     "status": "completed"
    },
    "tags": []
   },
   "source": [
    "## GWAS variants"
   ]
  },
  {
   "cell_type": "code",
   "execution_count": 12,
   "id": "29434c4e-8cd3-4b9b-82e4-b5a251d9dd19",
   "metadata": {
    "execution": {
     "iopub.execute_input": "2022-08-27T05:59:26.983090Z",
     "iopub.status.busy": "2022-08-27T05:59:26.982898Z",
     "iopub.status.idle": "2022-08-27T05:59:29.399639Z",
     "shell.execute_reply": "2022-08-27T05:59:29.398811Z"
    },
    "papermill": {
     "duration": 2.428454,
     "end_time": "2022-08-27T05:59:29.401650",
     "exception": false,
     "start_time": "2022-08-27T05:59:26.973196",
     "status": "completed"
    },
    "tags": []
   },
   "outputs": [],
   "source": [
    "with open(OUTPUT_DIR_BASE / \"gwas_variant_ids.pkl\", \"rb\") as handle:\n",
    "    gwas_variants_ids_set = pickle.load(handle)"
   ]
  },
  {
   "cell_type": "code",
   "execution_count": 13,
   "id": "b9d9dec2-4a76-4bf9-bde2-e24c95acb8a0",
   "metadata": {
    "execution": {
     "iopub.execute_input": "2022-08-27T05:59:29.421583Z",
     "iopub.status.busy": "2022-08-27T05:59:29.421355Z",
     "iopub.status.idle": "2022-08-27T05:59:29.447381Z",
     "shell.execute_reply": "2022-08-27T05:59:29.446877Z"
    },
    "papermill": {
     "duration": 0.037545,
     "end_time": "2022-08-27T05:59:29.448815",
     "exception": false,
     "start_time": "2022-08-27T05:59:29.411270",
     "status": "completed"
    },
    "tags": []
   },
   "outputs": [
    {
     "data": {
      "text/plain": [
       "8496088"
      ]
     },
     "execution_count": 13,
     "metadata": {},
     "output_type": "execute_result"
    }
   ],
   "source": [
    "len(gwas_variants_ids_set)"
   ]
  },
  {
   "cell_type": "code",
   "execution_count": 14,
   "id": "4235b06a-6034-4ee4-a0a3-2ae35d122418",
   "metadata": {
    "execution": {
     "iopub.execute_input": "2022-08-27T05:59:29.468233Z",
     "iopub.status.busy": "2022-08-27T05:59:29.468042Z",
     "iopub.status.idle": "2022-08-27T05:59:30.084920Z",
     "shell.execute_reply": "2022-08-27T05:59:30.084372Z"
    },
    "papermill": {
     "duration": 0.628533,
     "end_time": "2022-08-27T05:59:30.086443",
     "exception": false,
     "start_time": "2022-08-27T05:59:29.457910",
     "status": "completed"
    },
    "tags": []
   },
   "outputs": [
    {
     "data": {
      "text/plain": [
       "['chr13_60182576_C_T_b38',\n",
       " 'chr18_58537018_A_C_b38',\n",
       " 'chr8_142985663_G_A_b38',\n",
       " 'chr20_60003547_T_C_b38',\n",
       " 'chr7_1919314_G_A_b38']"
      ]
     },
     "execution_count": 14,
     "metadata": {},
     "output_type": "execute_result"
    }
   ],
   "source": [
    "list(gwas_variants_ids_set)[:5]"
   ]
  },
  {
   "cell_type": "markdown",
   "id": "07866999-2305-41f9-a144-e69c9122c212",
   "metadata": {
    "papermill": {
     "duration": 0.010041,
     "end_time": "2022-08-27T05:59:30.107119",
     "exception": false,
     "start_time": "2022-08-27T05:59:30.097078",
     "status": "completed"
    },
    "tags": []
   },
   "source": [
    "## S-PrediXcan tissue models"
   ]
  },
  {
   "cell_type": "code",
   "execution_count": 15,
   "id": "780611d9-77c8-405f-90a4-f271f7b09397",
   "metadata": {
    "execution": {
     "iopub.execute_input": "2022-08-27T05:59:30.128286Z",
     "iopub.status.busy": "2022-08-27T05:59:30.128090Z",
     "iopub.status.idle": "2022-08-27T05:59:31.090816Z",
     "shell.execute_reply": "2022-08-27T05:59:31.090128Z"
    },
    "papermill": {
     "duration": 0.976055,
     "end_time": "2022-08-27T05:59:31.092707",
     "exception": false,
     "start_time": "2022-08-27T05:59:30.116652",
     "status": "completed"
    },
    "tags": []
   },
   "outputs": [],
   "source": [
    "spredixcan_genes_models = pd.read_pickle(OUTPUT_DIR_BASE / \"gene_tissues.pkl\")"
   ]
  },
  {
   "cell_type": "code",
   "execution_count": 16,
   "id": "726dd1f6-9557-4225-91fa-b3b879ea96e1",
   "metadata": {
    "execution": {
     "iopub.execute_input": "2022-08-27T05:59:31.143332Z",
     "iopub.status.busy": "2022-08-27T05:59:31.143134Z",
     "iopub.status.idle": "2022-08-27T05:59:31.504024Z",
     "shell.execute_reply": "2022-08-27T05:59:31.502911Z"
    },
    "papermill": {
     "duration": 0.380672,
     "end_time": "2022-08-27T05:59:31.507234",
     "exception": false,
     "start_time": "2022-08-27T05:59:31.126562",
     "status": "completed"
    },
    "tags": []
   },
   "outputs": [
    {
     "data": {
      "text/plain": [
       "(6428, 3)"
      ]
     },
     "execution_count": 16,
     "metadata": {},
     "output_type": "execute_result"
    }
   ],
   "source": [
    "spredixcan_genes_models.shape"
   ]
  },
  {
   "cell_type": "code",
   "execution_count": 17,
   "id": "944a1b48-222c-4eb0-b252-b9de2cbca215",
   "metadata": {
    "execution": {
     "iopub.execute_input": "2022-08-27T05:59:31.550633Z",
     "iopub.status.busy": "2022-08-27T05:59:31.550271Z",
     "iopub.status.idle": "2022-08-27T05:59:31.632261Z",
     "shell.execute_reply": "2022-08-27T05:59:31.631320Z"
    },
    "papermill": {
     "duration": 0.104942,
     "end_time": "2022-08-27T05:59:31.634940",
     "exception": false,
     "start_time": "2022-08-27T05:59:31.529998",
     "status": "completed"
    },
    "tags": []
   },
   "outputs": [
    {
     "data": {
      "text/html": [
       "<div>\n",
       "<style scoped>\n",
       "    .dataframe tbody tr th:only-of-type {\n",
       "        vertical-align: middle;\n",
       "    }\n",
       "\n",
       "    .dataframe tbody tr th {\n",
       "        vertical-align: top;\n",
       "    }\n",
       "\n",
       "    .dataframe thead th {\n",
       "        text-align: right;\n",
       "    }\n",
       "</style>\n",
       "<table border=\"1\" class=\"dataframe\">\n",
       "  <thead>\n",
       "    <tr style=\"text-align: right;\">\n",
       "      <th></th>\n",
       "      <th>gene_name</th>\n",
       "      <th>tissue</th>\n",
       "      <th>n_tissues</th>\n",
       "    </tr>\n",
       "    <tr>\n",
       "      <th>gene_id</th>\n",
       "      <th></th>\n",
       "      <th></th>\n",
       "      <th></th>\n",
       "    </tr>\n",
       "  </thead>\n",
       "  <tbody>\n",
       "    <tr>\n",
       "      <th>ENSG00000000419</th>\n",
       "      <td>DPM1</td>\n",
       "      <td>(Brain_Hypothalamus, Brain_Substantia_nigra)</td>\n",
       "      <td>2</td>\n",
       "    </tr>\n",
       "    <tr>\n",
       "      <th>ENSG00000000938</th>\n",
       "      <td>FGR</td>\n",
       "      <td>(Breast_Mammary_Tissue, Prostate, Adipose_Subc...</td>\n",
       "      <td>36</td>\n",
       "    </tr>\n",
       "    <tr>\n",
       "      <th>ENSG00000000971</th>\n",
       "      <td>CFH</td>\n",
       "      <td>(Breast_Mammary_Tissue, Pituitary, Brain_Cereb...</td>\n",
       "      <td>34</td>\n",
       "    </tr>\n",
       "    <tr>\n",
       "      <th>ENSG00000001084</th>\n",
       "      <td>GCLC</td>\n",
       "      <td>(Adipose_Subcutaneous, Pituitary, Brain_Cerebe...</td>\n",
       "      <td>33</td>\n",
       "    </tr>\n",
       "    <tr>\n",
       "      <th>ENSG00000001167</th>\n",
       "      <td>NFYA</td>\n",
       "      <td>(Breast_Mammary_Tissue, Prostate, Adipose_Subc...</td>\n",
       "      <td>40</td>\n",
       "    </tr>\n",
       "  </tbody>\n",
       "</table>\n",
       "</div>"
      ],
      "text/plain": [
       "                gene_name                                             tissue  \\\n",
       "gene_id                                                                        \n",
       "ENSG00000000419      DPM1       (Brain_Hypothalamus, Brain_Substantia_nigra)   \n",
       "ENSG00000000938       FGR  (Breast_Mammary_Tissue, Prostate, Adipose_Subc...   \n",
       "ENSG00000000971       CFH  (Breast_Mammary_Tissue, Pituitary, Brain_Cereb...   \n",
       "ENSG00000001084      GCLC  (Adipose_Subcutaneous, Pituitary, Brain_Cerebe...   \n",
       "ENSG00000001167      NFYA  (Breast_Mammary_Tissue, Prostate, Adipose_Subc...   \n",
       "\n",
       "                 n_tissues  \n",
       "gene_id                     \n",
       "ENSG00000000419          2  \n",
       "ENSG00000000938         36  \n",
       "ENSG00000000971         34  \n",
       "ENSG00000001084         33  \n",
       "ENSG00000001167         40  "
      ]
     },
     "execution_count": 17,
     "metadata": {},
     "output_type": "execute_result"
    }
   ],
   "source": [
    "spredixcan_genes_models.head()"
   ]
  },
  {
   "cell_type": "code",
   "execution_count": 18,
   "id": "d1c11bb1-be0b-4f40-b360-633d6827109f",
   "metadata": {
    "execution": {
     "iopub.execute_input": "2022-08-27T05:59:31.672590Z",
     "iopub.status.busy": "2022-08-27T05:59:31.672258Z",
     "iopub.status.idle": "2022-08-27T05:59:31.706002Z",
     "shell.execute_reply": "2022-08-27T05:59:31.705214Z"
    },
    "papermill": {
     "duration": 0.055229,
     "end_time": "2022-08-27T05:59:31.708443",
     "exception": false,
     "start_time": "2022-08-27T05:59:31.653214",
     "status": "completed"
    },
    "tags": []
   },
   "outputs": [],
   "source": [
    "assert spredixcan_genes_models.index.is_unique"
   ]
  },
  {
   "cell_type": "markdown",
   "id": "a5b5092c-a13e-47c4-a92a-480fcc08f3ae",
   "metadata": {
    "papermill": {
     "duration": 0.016656,
     "end_time": "2022-08-27T05:59:31.742309",
     "exception": false,
     "start_time": "2022-08-27T05:59:31.725653",
     "status": "completed"
    },
    "tags": []
   },
   "source": [
    "## Gene info"
   ]
  },
  {
   "cell_type": "code",
   "execution_count": 19,
   "id": "7d6bb224-88e9-4358-ac10-43a41d92cdad",
   "metadata": {
    "execution": {
     "iopub.execute_input": "2022-08-27T05:59:31.779827Z",
     "iopub.status.busy": "2022-08-27T05:59:31.779546Z",
     "iopub.status.idle": "2022-08-27T05:59:31.827949Z",
     "shell.execute_reply": "2022-08-27T05:59:31.827010Z"
    },
    "papermill": {
     "duration": 0.070915,
     "end_time": "2022-08-27T05:59:31.830829",
     "exception": false,
     "start_time": "2022-08-27T05:59:31.759914",
     "status": "completed"
    },
    "tags": []
   },
   "outputs": [],
   "source": [
    "genes_info = pd.read_pickle(OUTPUT_DIR_BASE / \"genes_info.pkl\")"
   ]
  },
  {
   "cell_type": "code",
   "execution_count": 20,
   "id": "9e32abfa-546d-483e-8c18-d526e9e05903",
   "metadata": {
    "execution": {
     "iopub.execute_input": "2022-08-27T05:59:31.876000Z",
     "iopub.status.busy": "2022-08-27T05:59:31.875680Z",
     "iopub.status.idle": "2022-08-27T05:59:31.933621Z",
     "shell.execute_reply": "2022-08-27T05:59:31.932471Z"
    },
    "papermill": {
     "duration": 0.083399,
     "end_time": "2022-08-27T05:59:31.936697",
     "exception": false,
     "start_time": "2022-08-27T05:59:31.853298",
     "status": "completed"
    },
    "tags": []
   },
   "outputs": [
    {
     "data": {
      "text/plain": [
       "(6428, 7)"
      ]
     },
     "execution_count": 20,
     "metadata": {},
     "output_type": "execute_result"
    }
   ],
   "source": [
    "genes_info.shape"
   ]
  },
  {
   "cell_type": "code",
   "execution_count": 21,
   "id": "d16c3e92-85ec-468a-9a56-e25a9774a1cb",
   "metadata": {
    "execution": {
     "iopub.execute_input": "2022-08-27T05:59:31.978837Z",
     "iopub.status.busy": "2022-08-27T05:59:31.978482Z",
     "iopub.status.idle": "2022-08-27T05:59:32.040632Z",
     "shell.execute_reply": "2022-08-27T05:59:32.039491Z"
    },
    "papermill": {
     "duration": 0.085596,
     "end_time": "2022-08-27T05:59:32.043442",
     "exception": false,
     "start_time": "2022-08-27T05:59:31.957846",
     "status": "completed"
    },
    "tags": []
   },
   "outputs": [
    {
     "data": {
      "text/html": [
       "<div>\n",
       "<style scoped>\n",
       "    .dataframe tbody tr th:only-of-type {\n",
       "        vertical-align: middle;\n",
       "    }\n",
       "\n",
       "    .dataframe tbody tr th {\n",
       "        vertical-align: top;\n",
       "    }\n",
       "\n",
       "    .dataframe thead th {\n",
       "        text-align: right;\n",
       "    }\n",
       "</style>\n",
       "<table border=\"1\" class=\"dataframe\">\n",
       "  <thead>\n",
       "    <tr style=\"text-align: right;\">\n",
       "      <th></th>\n",
       "      <th>name</th>\n",
       "      <th>id</th>\n",
       "      <th>chr</th>\n",
       "      <th>band</th>\n",
       "      <th>start_position</th>\n",
       "      <th>end_position</th>\n",
       "      <th>gene_length</th>\n",
       "    </tr>\n",
       "  </thead>\n",
       "  <tbody>\n",
       "    <tr>\n",
       "      <th>0</th>\n",
       "      <td>ZNF605</td>\n",
       "      <td>ENSG00000196458</td>\n",
       "      <td>12</td>\n",
       "      <td>12q24.33</td>\n",
       "      <td>132918306</td>\n",
       "      <td>132956306</td>\n",
       "      <td>38000</td>\n",
       "    </tr>\n",
       "    <tr>\n",
       "      <th>1</th>\n",
       "      <td>FBP1</td>\n",
       "      <td>ENSG00000165140</td>\n",
       "      <td>9</td>\n",
       "      <td>9q22.32</td>\n",
       "      <td>94603133</td>\n",
       "      <td>94640249</td>\n",
       "      <td>37116</td>\n",
       "    </tr>\n",
       "    <tr>\n",
       "      <th>2</th>\n",
       "      <td>TAL1</td>\n",
       "      <td>ENSG00000162367</td>\n",
       "      <td>1</td>\n",
       "      <td>1p33</td>\n",
       "      <td>47216290</td>\n",
       "      <td>47232220</td>\n",
       "      <td>15930</td>\n",
       "    </tr>\n",
       "    <tr>\n",
       "      <th>3</th>\n",
       "      <td>MPV17</td>\n",
       "      <td>ENSG00000115204</td>\n",
       "      <td>2</td>\n",
       "      <td>2p23.3</td>\n",
       "      <td>27309492</td>\n",
       "      <td>27325680</td>\n",
       "      <td>16188</td>\n",
       "    </tr>\n",
       "    <tr>\n",
       "      <th>4</th>\n",
       "      <td>PTPRN</td>\n",
       "      <td>ENSG00000054356</td>\n",
       "      <td>2</td>\n",
       "      <td>2q35</td>\n",
       "      <td>219289623</td>\n",
       "      <td>219309648</td>\n",
       "      <td>20025</td>\n",
       "    </tr>\n",
       "  </tbody>\n",
       "</table>\n",
       "</div>"
      ],
      "text/plain": [
       "     name               id  chr      band  start_position  end_position  \\\n",
       "0  ZNF605  ENSG00000196458   12  12q24.33       132918306     132956306   \n",
       "1    FBP1  ENSG00000165140    9   9q22.32        94603133      94640249   \n",
       "2    TAL1  ENSG00000162367    1      1p33        47216290      47232220   \n",
       "3   MPV17  ENSG00000115204    2    2p23.3        27309492      27325680   \n",
       "4   PTPRN  ENSG00000054356    2      2q35       219289623     219309648   \n",
       "\n",
       "   gene_length  \n",
       "0        38000  \n",
       "1        37116  \n",
       "2        15930  \n",
       "3        16188  \n",
       "4        20025  "
      ]
     },
     "execution_count": 21,
     "metadata": {},
     "output_type": "execute_result"
    }
   ],
   "source": [
    "genes_info.head()"
   ]
  },
  {
   "cell_type": "markdown",
   "id": "d3843e06",
   "metadata": {
    "papermill": {
     "duration": 0.020446,
     "end_time": "2022-08-27T05:59:32.084705",
     "exception": false,
     "start_time": "2022-08-27T05:59:32.064259",
     "status": "completed"
    },
    "tags": []
   },
   "source": [
    "# Compute correlations"
   ]
  },
  {
   "cell_type": "code",
   "execution_count": 22,
   "id": "cb859c15-d1f3-4006-a74c-2b83c0db9611",
   "metadata": {
    "execution": {
     "iopub.execute_input": "2022-08-27T05:59:32.125381Z",
     "iopub.status.busy": "2022-08-27T05:59:32.125059Z",
     "iopub.status.idle": "2022-08-27T05:59:32.182982Z",
     "shell.execute_reply": "2022-08-27T05:59:32.181958Z"
    },
    "papermill": {
     "duration": 0.082039,
     "end_time": "2022-08-27T05:59:32.185971",
     "exception": false,
     "start_time": "2022-08-27T05:59:32.103932",
     "status": "completed"
    },
    "tags": []
   },
   "outputs": [
    {
     "data": {
      "text/plain": [
       "PosixPath('/project/ritchie20/projects/phenoplier/base/results/gls/gene_corrs/cohorts/phenomexcan_rapid_gwas/gtex_v8/mashr/by_chr/gene_corrs-chr8.pkl')"
      ]
     },
     "metadata": {},
     "output_type": "display_data"
    }
   ],
   "source": [
    "output_dir = OUTPUT_DIR_BASE / \"by_chr\"\n",
    "output_dir.mkdir(exist_ok=True, parents=True)\n",
    "output_file = output_dir / f\"gene_corrs-chr{CHROMOSOME}.pkl\"\n",
    "display(output_file)"
   ]
  },
  {
   "cell_type": "code",
   "execution_count": 23,
   "id": "aa674fe4-6794-4eed-98fa-32b39d1d4ace",
   "metadata": {
    "execution": {
     "iopub.execute_input": "2022-08-27T05:59:32.231798Z",
     "iopub.status.busy": "2022-08-27T05:59:32.231429Z",
     "iopub.status.idle": "2022-08-27T05:59:32.283587Z",
     "shell.execute_reply": "2022-08-27T05:59:32.282484Z"
    },
    "papermill": {
     "duration": 0.079322,
     "end_time": "2022-08-27T05:59:32.287001",
     "exception": false,
     "start_time": "2022-08-27T05:59:32.207679",
     "status": "completed"
    },
    "tags": []
   },
   "outputs": [],
   "source": [
    "warnings.filterwarnings(\"error\")"
   ]
  },
  {
   "cell_type": "code",
   "execution_count": 24,
   "id": "44d5450b-3baf-43f1-9e2e-4b06f1a785f8",
   "metadata": {
    "execution": {
     "iopub.execute_input": "2022-08-27T05:59:32.334974Z",
     "iopub.status.busy": "2022-08-27T05:59:32.334620Z",
     "iopub.status.idle": "2022-08-27T05:59:32.408269Z",
     "shell.execute_reply": "2022-08-27T05:59:32.407081Z"
    },
    "papermill": {
     "duration": 0.100519,
     "end_time": "2022-08-27T05:59:32.411676",
     "exception": false,
     "start_time": "2022-08-27T05:59:32.311157",
     "status": "completed"
    },
    "tags": []
   },
   "outputs": [],
   "source": [
    "# standard checks\n",
    "all_chrs = genes_info[\"chr\"].dropna().unique()\n",
    "assert all_chrs.shape[0] == 22\n",
    "\n",
    "# select chromosome given by the user\n",
    "assert CHROMOSOME in all_chrs"
   ]
  },
  {
   "cell_type": "code",
   "execution_count": 25,
   "id": "2d7c043c-92a7-4d35-991b-fa69ac1e0268",
   "metadata": {
    "execution": {
     "iopub.execute_input": "2022-08-27T05:59:32.460076Z",
     "iopub.status.busy": "2022-08-27T05:59:32.459722Z",
     "iopub.status.idle": "2022-08-27T05:59:32.607452Z",
     "shell.execute_reply": "2022-08-27T05:59:32.606268Z"
    },
    "papermill": {
     "duration": 0.177233,
     "end_time": "2022-08-27T05:59:32.610919",
     "exception": false,
     "start_time": "2022-08-27T05:59:32.433686",
     "status": "completed"
    },
    "tags": []
   },
   "outputs": [
    {
     "name": "stdout",
     "output_type": "stream",
     "text": [
      "Number of genes in chromosome: 222\n"
     ]
    }
   ],
   "source": [
    "# run only on the chromosome specified\n",
    "all_chrs = [CHROMOSOME]\n",
    "genes_chr = genes_info[genes_info[\"chr\"] == CHROMOSOME]\n",
    "\n",
    "# For testing purposes\n",
    "# genes_chr = genes_chr.sample(n=20)\n",
    "\n",
    "print(f\"Number of genes in chromosome: {genes_chr.shape[0]}\", flush=True)"
   ]
  },
  {
   "cell_type": "code",
   "execution_count": 26,
   "id": "916015d8-2979-46d3-a9b9-1cf5a0932c6a",
   "metadata": {
    "execution": {
     "iopub.execute_input": "2022-08-27T05:59:32.658177Z",
     "iopub.status.busy": "2022-08-27T05:59:32.657823Z",
     "iopub.status.idle": "2022-08-27T05:59:32.686923Z",
     "shell.execute_reply": "2022-08-27T05:59:32.686013Z"
    },
    "papermill": {
     "duration": 0.053584,
     "end_time": "2022-08-27T05:59:32.689505",
     "exception": false,
     "start_time": "2022-08-27T05:59:32.635921",
     "status": "completed"
    },
    "tags": []
   },
   "outputs": [],
   "source": [
    "# sort genes by starting position to make visualizations better later\n",
    "genes_chr = genes_chr.sort_values(\"start_position\")"
   ]
  },
  {
   "cell_type": "code",
   "execution_count": 27,
   "id": "a38aa74a-8ad3-47f6-8ef9-56be0e011774",
   "metadata": {
    "execution": {
     "iopub.execute_input": "2022-08-27T05:59:32.727121Z",
     "iopub.status.busy": "2022-08-27T05:59:32.726817Z",
     "iopub.status.idle": "2022-08-27T05:59:32.752086Z",
     "shell.execute_reply": "2022-08-27T05:59:32.751211Z"
    },
    "papermill": {
     "duration": 0.046283,
     "end_time": "2022-08-27T05:59:32.754347",
     "exception": false,
     "start_time": "2022-08-27T05:59:32.708064",
     "status": "completed"
    },
    "tags": []
   },
   "outputs": [],
   "source": [
    "gene_chr_objs = [Gene(ensembl_id=gene_id) for gene_id in genes_chr[\"id\"]]"
   ]
  },
  {
   "cell_type": "code",
   "execution_count": 28,
   "id": "570f974f-13c3-42b6-ad3a-ce99ca885c1a",
   "metadata": {
    "execution": {
     "iopub.execute_input": "2022-08-27T05:59:32.798952Z",
     "iopub.status.busy": "2022-08-27T05:59:32.798609Z",
     "iopub.status.idle": "2022-08-27T05:59:32.828000Z",
     "shell.execute_reply": "2022-08-27T05:59:32.827131Z"
    },
    "papermill": {
     "duration": 0.055331,
     "end_time": "2022-08-27T05:59:32.830474",
     "exception": false,
     "start_time": "2022-08-27T05:59:32.775143",
     "status": "completed"
    },
    "tags": []
   },
   "outputs": [
    {
     "name": "stdout",
     "output_type": "stream",
     "text": [
      "Number of gene combinations: 24531\n"
     ]
    }
   ],
   "source": [
    "n = len(gene_chr_objs)\n",
    "n_comb = int(n * (n - 1) / 2.0)\n",
    "print(f\"Number of gene combinations: {n_comb}\", flush=True)"
   ]
  },
  {
   "cell_type": "code",
   "execution_count": 29,
   "id": "cdbb90a1",
   "metadata": {
    "execution": {
     "iopub.execute_input": "2022-08-27T05:59:32.871970Z",
     "iopub.status.busy": "2022-08-27T05:59:32.871679Z",
     "iopub.status.idle": "2022-08-27T06:34:49.703486Z",
     "shell.execute_reply": "2022-08-27T06:34:49.702011Z"
    },
    "papermill": {
     "duration": 2116.85865,
     "end_time": "2022-08-27T06:34:49.707431",
     "exception": false,
     "start_time": "2022-08-27T05:59:32.848781",
     "status": "completed"
    },
    "tags": []
   },
   "outputs": [
    {
     "name": "stderr",
     "output_type": "stream",
     "text": [
      "ENSG00000196150 / ENSG00000196150: : 24753it [35:16, 11.69it/s]\n"
     ]
    },
    {
     "data": {
      "text/plain": [
       "PosixPath('/project/ritchie20/projects/phenoplier/base/results/gls/gene_corrs/cohorts/phenomexcan_rapid_gwas/gtex_v8/mashr/by_chr/gene_corrs-chr8.pkl')"
      ]
     },
     "metadata": {},
     "output_type": "display_data"
    }
   ],
   "source": [
    "gene_corrs = []\n",
    "gene_corrs_data = np.full(\n",
    "    (n, n),\n",
    "    np.nan,\n",
    "    dtype=np.float64,\n",
    ")\n",
    "\n",
    "i = 0\n",
    "with tqdm(ncols=100, total=n_comb) as pbar:\n",
    "    for gene1_idx in range(0, len(gene_chr_objs)):\n",
    "        gene1_obj = gene_chr_objs[gene1_idx]\n",
    "        gene1_tissues = spredixcan_genes_models.loc[gene1_obj.ensembl_id, \"tissue\"]\n",
    "\n",
    "        for gene2_idx in range(gene1_idx, len(gene_chr_objs)):\n",
    "            gene2_obj = gene_chr_objs[gene2_idx]\n",
    "            gene2_tissues = spredixcan_genes_models.loc[gene2_obj.ensembl_id, \"tissue\"]\n",
    "\n",
    "            pbar.set_description(f\"{gene1_obj.ensembl_id} / {gene2_obj.ensembl_id}\")\n",
    "\n",
    "            try:\n",
    "                r = gene1_obj.get_ssm_correlation(\n",
    "                    other_gene=gene2_obj,\n",
    "                    tissues=gene1_tissues,\n",
    "                    other_tissues=gene2_tissues,\n",
    "                    snps_subset=gwas_variants_ids_set,\n",
    "                    condition_number=SMULTIXCAN_CONDITION_NUMBER,\n",
    "                    reference_panel=REFERENCE_PANEL,\n",
    "                    model_type=EQTL_MODEL,\n",
    "                    use_within_distance=COMPUTE_CORRELATIONS_WITHIN_DISTANCE,\n",
    "                )\n",
    "\n",
    "                if r is None:\n",
    "                    # if r is None, it's very likely because:\n",
    "                    #  * one of the genes has no prediction models\n",
    "                    #  * all the SNPs predictors for the gene are not present in the reference\n",
    "                    #    panel\n",
    "\n",
    "                    r = 0.0\n",
    "\n",
    "                gene_corrs.append(r)\n",
    "\n",
    "                gene_corrs_data[gene1_idx, gene2_idx] = r\n",
    "                gene_corrs_data[gene2_idx, gene1_idx] = r\n",
    "            except Warning as e:\n",
    "                if not DEBUG_MODE:\n",
    "                    raise e\n",
    "\n",
    "                print(\n",
    "                    f\"RuntimeWarning for genes {gene1_obj.ensembl_id} and {gene2_obj.ensembl_id}\",\n",
    "                    flush=True,\n",
    "                )\n",
    "                print(traceback.format_exc(), flush=True)\n",
    "\n",
    "                gene_corrs.append(np.nan)\n",
    "            except Exception as e:\n",
    "                if not DEBUG_MODE:\n",
    "                    raise e\n",
    "\n",
    "                print(\n",
    "                    f\"Exception for genes {gene1_obj.ensembl_id} and {gene2_obj.ensembl_id}\",\n",
    "                    flush=True,\n",
    "                )\n",
    "                print(traceback.format_exc(), flush=True)\n",
    "\n",
    "                gene_corrs.append(np.nan)\n",
    "\n",
    "            pbar.update(1)\n",
    "\n",
    "# create a pandas series\n",
    "gene_corrs_flat = pd.Series(gene_corrs)\n",
    "\n",
    "# save\n",
    "# FIXME: consider saving only the condenced matrix here. See here for\n",
    "# more details: https://github.com/greenelab/phenoplier/pull/38#discussion_r634600813\n",
    "# gene_corrs_data = squareform(np.array(gene_corrs, dtype=np.float64))\n",
    "# np.fill_diagonal(gene_corrs_data, 1.0)\n",
    "\n",
    "gene_chr_ids = [g.ensembl_id for g in gene_chr_objs]\n",
    "gene_corrs_df = pd.DataFrame(\n",
    "    data=gene_corrs_data,\n",
    "    index=gene_chr_ids,\n",
    "    columns=gene_chr_ids,\n",
    ")\n",
    "\n",
    "output_dir.mkdir(exist_ok=True, parents=True)\n",
    "display(output_file)\n",
    "\n",
    "gene_corrs_df.to_pickle(output_file)"
   ]
  },
  {
   "cell_type": "markdown",
   "id": "faa67b51-5373-470f-aa72-2ded53fa6dfe",
   "metadata": {
    "papermill": {
     "duration": 1.484505,
     "end_time": "2022-08-27T06:34:52.736162",
     "exception": false,
     "start_time": "2022-08-27T06:34:51.251657",
     "status": "completed"
    },
    "tags": []
   },
   "source": [
    "# Testing"
   ]
  },
  {
   "cell_type": "code",
   "execution_count": 30,
   "id": "14f7d046-4b55-4896-a56b-990127bcc388",
   "metadata": {
    "execution": {
     "iopub.execute_input": "2022-08-27T06:34:55.763317Z",
     "iopub.status.busy": "2022-08-27T06:34:55.763060Z",
     "iopub.status.idle": "2022-08-27T06:34:55.974609Z",
     "shell.execute_reply": "2022-08-27T06:34:55.974081Z"
    },
    "papermill": {
     "duration": 1.694767,
     "end_time": "2022-08-27T06:34:55.976104",
     "exception": false,
     "start_time": "2022-08-27T06:34:54.281337",
     "status": "completed"
    },
    "tags": []
   },
   "outputs": [
    {
     "data": {
      "text/plain": [
       "(222, 222)"
      ]
     },
     "execution_count": 30,
     "metadata": {},
     "output_type": "execute_result"
    }
   ],
   "source": [
    "gene_corrs_df.shape"
   ]
  },
  {
   "cell_type": "code",
   "execution_count": 31,
   "id": "c7d15414-3297-4537-a7c6-7588c0baeb75",
   "metadata": {
    "execution": {
     "iopub.execute_input": "2022-08-27T06:34:58.958047Z",
     "iopub.status.busy": "2022-08-27T06:34:58.957774Z",
     "iopub.status.idle": "2022-08-27T06:34:58.993077Z",
     "shell.execute_reply": "2022-08-27T06:34:58.992557Z"
    },
    "papermill": {
     "duration": 1.504304,
     "end_time": "2022-08-27T06:34:58.994600",
     "exception": false,
     "start_time": "2022-08-27T06:34:57.490296",
     "status": "completed"
    },
    "tags": []
   },
   "outputs": [
    {
     "data": {
      "text/html": [
       "<div>\n",
       "<style scoped>\n",
       "    .dataframe tbody tr th:only-of-type {\n",
       "        vertical-align: middle;\n",
       "    }\n",
       "\n",
       "    .dataframe tbody tr th {\n",
       "        vertical-align: top;\n",
       "    }\n",
       "\n",
       "    .dataframe thead th {\n",
       "        text-align: right;\n",
       "    }\n",
       "</style>\n",
       "<table border=\"1\" class=\"dataframe\">\n",
       "  <thead>\n",
       "    <tr style=\"text-align: right;\">\n",
       "      <th></th>\n",
       "      <th>ENSG00000172748</th>\n",
       "      <th>ENSG00000182372</th>\n",
       "      <th>ENSG00000104728</th>\n",
       "      <th>ENSG00000036448</th>\n",
       "      <th>ENSG00000091879</th>\n",
       "      <th>ENSG00000155189</th>\n",
       "      <th>ENSG00000164821</th>\n",
       "      <th>ENSG00000253958</th>\n",
       "      <th>ENSG00000147324</th>\n",
       "      <th>ENSG00000173281</th>\n",
       "      <th>...</th>\n",
       "      <th>ENSG00000071894</th>\n",
       "      <th>ENSG00000147804</th>\n",
       "      <th>ENSG00000160948</th>\n",
       "      <th>ENSG00000160949</th>\n",
       "      <th>ENSG00000187954</th>\n",
       "      <th>ENSG00000160972</th>\n",
       "      <th>ENSG00000167701</th>\n",
       "      <th>ENSG00000161016</th>\n",
       "      <th>ENSG00000197363</th>\n",
       "      <th>ENSG00000196150</th>\n",
       "    </tr>\n",
       "  </thead>\n",
       "  <tbody>\n",
       "    <tr>\n",
       "      <th>ENSG00000172748</th>\n",
       "      <td>1.000000</td>\n",
       "      <td>0.008007</td>\n",
       "      <td>0.011277</td>\n",
       "      <td>0.008999</td>\n",
       "      <td>0.009284</td>\n",
       "      <td>0.009837</td>\n",
       "      <td>0.009345</td>\n",
       "      <td>0.005381</td>\n",
       "      <td>0.013327</td>\n",
       "      <td>0.008379</td>\n",
       "      <td>...</td>\n",
       "      <td>0.001904</td>\n",
       "      <td>0.006302</td>\n",
       "      <td>0.004388</td>\n",
       "      <td>0.006155</td>\n",
       "      <td>0.004227</td>\n",
       "      <td>0.006340</td>\n",
       "      <td>0.004486</td>\n",
       "      <td>0.002583</td>\n",
       "      <td>0.006408</td>\n",
       "      <td>0.004837</td>\n",
       "    </tr>\n",
       "    <tr>\n",
       "      <th>ENSG00000182372</th>\n",
       "      <td>0.008007</td>\n",
       "      <td>1.000000</td>\n",
       "      <td>0.178938</td>\n",
       "      <td>0.009341</td>\n",
       "      <td>0.008164</td>\n",
       "      <td>0.007351</td>\n",
       "      <td>0.007462</td>\n",
       "      <td>0.008657</td>\n",
       "      <td>0.010060</td>\n",
       "      <td>0.009502</td>\n",
       "      <td>...</td>\n",
       "      <td>0.001635</td>\n",
       "      <td>0.006639</td>\n",
       "      <td>0.002566</td>\n",
       "      <td>0.003159</td>\n",
       "      <td>0.003950</td>\n",
       "      <td>0.007725</td>\n",
       "      <td>0.004840</td>\n",
       "      <td>0.000855</td>\n",
       "      <td>0.004392</td>\n",
       "      <td>0.004690</td>\n",
       "    </tr>\n",
       "    <tr>\n",
       "      <th>ENSG00000104728</th>\n",
       "      <td>0.011277</td>\n",
       "      <td>0.178938</td>\n",
       "      <td>1.000000</td>\n",
       "      <td>0.028134</td>\n",
       "      <td>0.015767</td>\n",
       "      <td>0.016508</td>\n",
       "      <td>0.013716</td>\n",
       "      <td>0.007554</td>\n",
       "      <td>0.012151</td>\n",
       "      <td>0.013115</td>\n",
       "      <td>...</td>\n",
       "      <td>0.004713</td>\n",
       "      <td>0.011760</td>\n",
       "      <td>0.006861</td>\n",
       "      <td>0.006408</td>\n",
       "      <td>0.012402</td>\n",
       "      <td>0.011234</td>\n",
       "      <td>0.011455</td>\n",
       "      <td>0.004709</td>\n",
       "      <td>0.010183</td>\n",
       "      <td>0.009567</td>\n",
       "    </tr>\n",
       "    <tr>\n",
       "      <th>ENSG00000036448</th>\n",
       "      <td>0.008999</td>\n",
       "      <td>0.009341</td>\n",
       "      <td>0.028134</td>\n",
       "      <td>1.000000</td>\n",
       "      <td>0.007763</td>\n",
       "      <td>0.010615</td>\n",
       "      <td>0.007925</td>\n",
       "      <td>0.005652</td>\n",
       "      <td>0.009558</td>\n",
       "      <td>0.006094</td>\n",
       "      <td>...</td>\n",
       "      <td>0.004024</td>\n",
       "      <td>0.008202</td>\n",
       "      <td>0.005528</td>\n",
       "      <td>0.004949</td>\n",
       "      <td>0.004456</td>\n",
       "      <td>0.008124</td>\n",
       "      <td>0.006061</td>\n",
       "      <td>0.001468</td>\n",
       "      <td>0.003367</td>\n",
       "      <td>0.005086</td>\n",
       "    </tr>\n",
       "    <tr>\n",
       "      <th>ENSG00000091879</th>\n",
       "      <td>0.009284</td>\n",
       "      <td>0.008164</td>\n",
       "      <td>0.015767</td>\n",
       "      <td>0.007763</td>\n",
       "      <td>1.000000</td>\n",
       "      <td>0.099820</td>\n",
       "      <td>0.032149</td>\n",
       "      <td>0.005678</td>\n",
       "      <td>0.011595</td>\n",
       "      <td>0.006861</td>\n",
       "      <td>...</td>\n",
       "      <td>0.004385</td>\n",
       "      <td>0.005745</td>\n",
       "      <td>0.003610</td>\n",
       "      <td>0.002818</td>\n",
       "      <td>0.004476</td>\n",
       "      <td>0.006275</td>\n",
       "      <td>0.007570</td>\n",
       "      <td>0.000583</td>\n",
       "      <td>0.001599</td>\n",
       "      <td>0.002434</td>\n",
       "    </tr>\n",
       "  </tbody>\n",
       "</table>\n",
       "<p>5 rows × 222 columns</p>\n",
       "</div>"
      ],
      "text/plain": [
       "                 ENSG00000172748  ENSG00000182372  ENSG00000104728  \\\n",
       "ENSG00000172748         1.000000         0.008007         0.011277   \n",
       "ENSG00000182372         0.008007         1.000000         0.178938   \n",
       "ENSG00000104728         0.011277         0.178938         1.000000   \n",
       "ENSG00000036448         0.008999         0.009341         0.028134   \n",
       "ENSG00000091879         0.009284         0.008164         0.015767   \n",
       "\n",
       "                 ENSG00000036448  ENSG00000091879  ENSG00000155189  \\\n",
       "ENSG00000172748         0.008999         0.009284         0.009837   \n",
       "ENSG00000182372         0.009341         0.008164         0.007351   \n",
       "ENSG00000104728         0.028134         0.015767         0.016508   \n",
       "ENSG00000036448         1.000000         0.007763         0.010615   \n",
       "ENSG00000091879         0.007763         1.000000         0.099820   \n",
       "\n",
       "                 ENSG00000164821  ENSG00000253958  ENSG00000147324  \\\n",
       "ENSG00000172748         0.009345         0.005381         0.013327   \n",
       "ENSG00000182372         0.007462         0.008657         0.010060   \n",
       "ENSG00000104728         0.013716         0.007554         0.012151   \n",
       "ENSG00000036448         0.007925         0.005652         0.009558   \n",
       "ENSG00000091879         0.032149         0.005678         0.011595   \n",
       "\n",
       "                 ENSG00000173281  ...  ENSG00000071894  ENSG00000147804  \\\n",
       "ENSG00000172748         0.008379  ...         0.001904         0.006302   \n",
       "ENSG00000182372         0.009502  ...         0.001635         0.006639   \n",
       "ENSG00000104728         0.013115  ...         0.004713         0.011760   \n",
       "ENSG00000036448         0.006094  ...         0.004024         0.008202   \n",
       "ENSG00000091879         0.006861  ...         0.004385         0.005745   \n",
       "\n",
       "                 ENSG00000160948  ENSG00000160949  ENSG00000187954  \\\n",
       "ENSG00000172748         0.004388         0.006155         0.004227   \n",
       "ENSG00000182372         0.002566         0.003159         0.003950   \n",
       "ENSG00000104728         0.006861         0.006408         0.012402   \n",
       "ENSG00000036448         0.005528         0.004949         0.004456   \n",
       "ENSG00000091879         0.003610         0.002818         0.004476   \n",
       "\n",
       "                 ENSG00000160972  ENSG00000167701  ENSG00000161016  \\\n",
       "ENSG00000172748         0.006340         0.004486         0.002583   \n",
       "ENSG00000182372         0.007725         0.004840         0.000855   \n",
       "ENSG00000104728         0.011234         0.011455         0.004709   \n",
       "ENSG00000036448         0.008124         0.006061         0.001468   \n",
       "ENSG00000091879         0.006275         0.007570         0.000583   \n",
       "\n",
       "                 ENSG00000197363  ENSG00000196150  \n",
       "ENSG00000172748         0.006408         0.004837  \n",
       "ENSG00000182372         0.004392         0.004690  \n",
       "ENSG00000104728         0.010183         0.009567  \n",
       "ENSG00000036448         0.003367         0.005086  \n",
       "ENSG00000091879         0.001599         0.002434  \n",
       "\n",
       "[5 rows x 222 columns]"
      ]
     },
     "execution_count": 31,
     "metadata": {},
     "output_type": "execute_result"
    }
   ],
   "source": [
    "gene_corrs_df.head()"
   ]
  },
  {
   "cell_type": "markdown",
   "id": "dad6603f-01c6-41fb-a6f6-241051207dd8",
   "metadata": {
    "papermill": {
     "duration": 1.478997,
     "end_time": "2022-08-27T06:35:01.972438",
     "exception": false,
     "start_time": "2022-08-27T06:35:00.493441",
     "status": "completed"
    },
    "tags": []
   },
   "source": [
    "## Standard checks and stats"
   ]
  },
  {
   "cell_type": "code",
   "execution_count": 32,
   "id": "286686af-1b7b-4440-8453-6bdcbd8de19c",
   "metadata": {
    "execution": {
     "iopub.execute_input": "2022-08-27T06:35:04.954406Z",
     "iopub.status.busy": "2022-08-27T06:35:04.954143Z",
     "iopub.status.idle": "2022-08-27T06:35:04.977912Z",
     "shell.execute_reply": "2022-08-27T06:35:04.977362Z"
    },
    "papermill": {
     "duration": 1.499887,
     "end_time": "2022-08-27T06:35:04.979540",
     "exception": false,
     "start_time": "2022-08-27T06:35:03.479653",
     "status": "completed"
    },
    "tags": []
   },
   "outputs": [],
   "source": [
    "assert not gene_corrs_df.isna().any().any()"
   ]
  },
  {
   "cell_type": "code",
   "execution_count": 33,
   "id": "00583efc-7068-4270-ad1e-4a418e91db96",
   "metadata": {
    "execution": {
     "iopub.execute_input": "2022-08-27T06:35:07.952720Z",
     "iopub.status.busy": "2022-08-27T06:35:07.952458Z",
     "iopub.status.idle": "2022-08-27T06:35:07.973988Z",
     "shell.execute_reply": "2022-08-27T06:35:07.973477Z"
    },
    "papermill": {
     "duration": 1.478936,
     "end_time": "2022-08-27T06:35:07.975527",
     "exception": false,
     "start_time": "2022-08-27T06:35:06.496591",
     "status": "completed"
    },
    "tags": []
   },
   "outputs": [
    {
     "data": {
      "text/plain": [
       "1.1032491274794234e-08"
      ]
     },
     "metadata": {},
     "output_type": "display_data"
    }
   ],
   "source": [
    "_min_val = gene_corrs_df.min().min()\n",
    "display(_min_val)\n",
    "assert _min_val >= -0.05"
   ]
  },
  {
   "cell_type": "code",
   "execution_count": 34,
   "id": "d04fb2cf-1050-475b-b855-f5f7cc04092b",
   "metadata": {
    "execution": {
     "iopub.execute_input": "2022-08-27T06:35:11.011769Z",
     "iopub.status.busy": "2022-08-27T06:35:11.011503Z",
     "iopub.status.idle": "2022-08-27T06:35:11.034544Z",
     "shell.execute_reply": "2022-08-27T06:35:11.034000Z"
    },
    "papermill": {
     "duration": 1.553185,
     "end_time": "2022-08-27T06:35:11.036042",
     "exception": false,
     "start_time": "2022-08-27T06:35:09.482857",
     "status": "completed"
    },
    "tags": []
   },
   "outputs": [
    {
     "data": {
      "text/plain": [
       "1.0000000000000027"
      ]
     },
     "metadata": {},
     "output_type": "display_data"
    }
   ],
   "source": [
    "_max_val = gene_corrs_df.max().max()  # this captures the diagonal\n",
    "display(_max_val)\n",
    "assert _max_val <= 1.05"
   ]
  },
  {
   "cell_type": "code",
   "execution_count": 35,
   "id": "96d02c44-1fba-47be-8a93-8f2608420b9c",
   "metadata": {
    "execution": {
     "iopub.execute_input": "2022-08-27T06:35:13.985997Z",
     "iopub.status.busy": "2022-08-27T06:35:13.985722Z",
     "iopub.status.idle": "2022-08-27T06:35:14.004212Z",
     "shell.execute_reply": "2022-08-27T06:35:14.003708Z"
    },
    "papermill": {
     "duration": 1.491545,
     "end_time": "2022-08-27T06:35:14.005756",
     "exception": false,
     "start_time": "2022-08-27T06:35:12.514211",
     "status": "completed"
    },
    "tags": []
   },
   "outputs": [],
   "source": [
    "# check upper triangular values\n",
    "# assert len(gene_corrs) == int(genes_chr.shape[0] * (genes_chr.shape[0] - 1) / 2)"
   ]
  },
  {
   "cell_type": "code",
   "execution_count": 36,
   "id": "fe283586-c348-40e0-8841-f6d97bfb021c",
   "metadata": {
    "execution": {
     "iopub.execute_input": "2022-08-27T06:35:16.985076Z",
     "iopub.status.busy": "2022-08-27T06:35:16.984824Z",
     "iopub.status.idle": "2022-08-27T06:35:17.008946Z",
     "shell.execute_reply": "2022-08-27T06:35:17.008428Z"
    },
    "papermill": {
     "duration": 1.482409,
     "end_time": "2022-08-27T06:35:17.010376",
     "exception": false,
     "start_time": "2022-08-27T06:35:15.527967",
     "status": "completed"
    },
    "tags": []
   },
   "outputs": [
    {
     "data": {
      "text/plain": [
       "count    2.475300e+04\n",
       "mean     1.702129e-02\n",
       "std      9.672795e-02\n",
       "min      1.103249e-08\n",
       "25%      4.077798e-03\n",
       "50%      6.144694e-03\n",
       "75%      8.518826e-03\n",
       "max      1.000000e+00\n",
       "dtype: float64"
      ]
     },
     "execution_count": 36,
     "metadata": {},
     "output_type": "execute_result"
    }
   ],
   "source": [
    "gene_corrs_flat.describe()"
   ]
  },
  {
   "cell_type": "code",
   "execution_count": 37,
   "id": "b3815678-0f93-4b35-897b-a9d047a2aa78",
   "metadata": {
    "execution": {
     "iopub.execute_input": "2022-08-27T06:35:20.016288Z",
     "iopub.status.busy": "2022-08-27T06:35:20.016018Z",
     "iopub.status.idle": "2022-08-27T06:35:20.043173Z",
     "shell.execute_reply": "2022-08-27T06:35:20.042630Z"
    },
    "papermill": {
     "duration": 1.505195,
     "end_time": "2022-08-27T06:35:20.044764",
     "exception": false,
     "start_time": "2022-08-27T06:35:18.539569",
     "status": "completed"
    },
    "tags": []
   },
   "outputs": [
    {
     "data": {
      "text/plain": [
       "0.00    1.103249e-08\n",
       "0.05    1.578661e-03\n",
       "0.10    2.421904e-03\n",
       "0.15    3.030737e-03\n",
       "0.20    3.580221e-03\n",
       "0.25    4.077798e-03\n",
       "0.30    4.509520e-03\n",
       "0.35    4.913502e-03\n",
       "0.40    5.317410e-03\n",
       "0.45    5.726071e-03\n",
       "0.50    6.144694e-03\n",
       "0.55    6.562525e-03\n",
       "0.60    6.981488e-03\n",
       "0.65    7.442077e-03\n",
       "0.70    7.945370e-03\n",
       "0.75    8.518826e-03\n",
       "0.80    9.178679e-03\n",
       "0.85    9.986912e-03\n",
       "0.90    1.110547e-02\n",
       "0.95    1.327703e-02\n",
       "dtype: float64"
      ]
     },
     "metadata": {},
     "output_type": "display_data"
    }
   ],
   "source": [
    "gene_corrs_quantiles = gene_corrs_flat.quantile(np.arange(0, 1, 0.05))\n",
    "display(gene_corrs_quantiles)"
   ]
  },
  {
   "cell_type": "markdown",
   "id": "87134509-b145-4a10-8bc9-b7e914c2b0fa",
   "metadata": {
    "papermill": {
     "duration": 1.484081,
     "end_time": "2022-08-27T06:35:23.059890",
     "exception": false,
     "start_time": "2022-08-27T06:35:21.575809",
     "status": "completed"
    },
    "tags": []
   },
   "source": [
    "## Positive definiteness"
   ]
  },
  {
   "cell_type": "code",
   "execution_count": 38,
   "id": "07d9a9a1-a4f7-48aa-b916-6d42a8cc6186",
   "metadata": {
    "execution": {
     "iopub.execute_input": "2022-08-27T06:35:26.118772Z",
     "iopub.status.busy": "2022-08-27T06:35:26.118506Z",
     "iopub.status.idle": "2022-08-27T06:35:26.156068Z",
     "shell.execute_reply": "2022-08-27T06:35:26.155532Z"
    },
    "papermill": {
     "duration": 1.53181,
     "end_time": "2022-08-27T06:35:26.157618",
     "exception": false,
     "start_time": "2022-08-27T06:35:24.625808",
     "status": "completed"
    },
    "tags": []
   },
   "outputs": [
    {
     "data": {
      "text/plain": [
       "0"
      ]
     },
     "metadata": {},
     "output_type": "display_data"
    },
    {
     "data": {
      "text/plain": [
       "array([], dtype=float64)"
      ]
     },
     "metadata": {},
     "output_type": "display_data"
    }
   ],
   "source": [
    "# print negative eigenvalues\n",
    "eigs = np.linalg.eigvals(gene_corrs_df.to_numpy())\n",
    "display(len(eigs[eigs < 0]))\n",
    "display(eigs[eigs < 0])"
   ]
  },
  {
   "cell_type": "code",
   "execution_count": 39,
   "id": "6e218436-c3c5-4028-8c94-a4fa6260efce",
   "metadata": {
    "execution": {
     "iopub.execute_input": "2022-08-27T06:35:29.224554Z",
     "iopub.status.busy": "2022-08-27T06:35:29.224291Z",
     "iopub.status.idle": "2022-08-27T06:35:29.252342Z",
     "shell.execute_reply": "2022-08-27T06:35:29.251773Z"
    },
    "papermill": {
     "duration": 1.575525,
     "end_time": "2022-08-27T06:35:29.253963",
     "exception": false,
     "start_time": "2022-08-27T06:35:27.678438",
     "status": "completed"
    },
    "tags": []
   },
   "outputs": [
    {
     "name": "stdout",
     "output_type": "stream",
     "text": [
      "Works!\n"
     ]
    }
   ],
   "source": [
    "try:\n",
    "    chol_mat = np.linalg.cholesky(gene_corrs_df.to_numpy())\n",
    "    cov_inv = np.linalg.inv(chol_mat)\n",
    "    print(\"Works!\")\n",
    "except Exception as e:\n",
    "    print(f\"Cholesky decomposition failed: {str(e)}\")"
   ]
  },
  {
   "cell_type": "code",
   "execution_count": 40,
   "id": "dd8827fb-faf9-4c7c-9454-015e94752706",
   "metadata": {
    "execution": {
     "iopub.execute_input": "2022-08-27T06:35:32.308784Z",
     "iopub.status.busy": "2022-08-27T06:35:32.308516Z",
     "iopub.status.idle": "2022-08-27T06:35:32.332586Z",
     "shell.execute_reply": "2022-08-27T06:35:32.332025Z"
    },
    "papermill": {
     "duration": 1.508584,
     "end_time": "2022-08-27T06:35:32.334221",
     "exception": false,
     "start_time": "2022-08-27T06:35:30.825637",
     "status": "completed"
    },
    "tags": []
   },
   "outputs": [
    {
     "name": "stdout",
     "output_type": "stream",
     "text": [
      "Works!\n"
     ]
    }
   ],
   "source": [
    "try:\n",
    "    # decomposition used by statsmodels.GLS\n",
    "    cholsigmainv = np.linalg.cholesky(np.linalg.inv(gene_corrs_df.to_numpy())).T\n",
    "    print(\"Works!\")\n",
    "except Exception as e:\n",
    "    print(f\"Cholesky decomposition failed (statsmodels.GLS): {str(e)}\")"
   ]
  },
  {
   "cell_type": "markdown",
   "id": "8e60a080-edb2-4e9c-b2ef-22961693200c",
   "metadata": {
    "papermill": {
     "duration": 1.475349,
     "end_time": "2022-08-27T06:35:35.362315",
     "exception": false,
     "start_time": "2022-08-27T06:35:33.886966",
     "status": "completed"
    },
    "tags": []
   },
   "source": [
    "## Plot: distribution"
   ]
  },
  {
   "cell_type": "code",
   "execution_count": 41,
   "id": "8301126b-a7d4-4744-9c7d-f0f86eb6f54c",
   "metadata": {
    "execution": {
     "iopub.execute_input": "2022-08-27T06:35:38.355383Z",
     "iopub.status.busy": "2022-08-27T06:35:38.355112Z",
     "iopub.status.idle": "2022-08-27T06:35:44.942425Z",
     "shell.execute_reply": "2022-08-27T06:35:44.941846Z"
    },
    "papermill": {
     "duration": 8.057939,
     "end_time": "2022-08-27T06:35:44.944036",
     "exception": false,
     "start_time": "2022-08-27T06:35:36.886097",
     "status": "completed"
    },
    "tags": []
   },
   "outputs": [
    {
     "data": {
      "image/png": "[encoded data removed]",
      "text/plain": [
       "<Figure size 504x504 with 1 Axes>"
      ]
     },
     "metadata": {
      "needs_background": "light"
     },
     "output_type": "display_data"
    }
   ],
   "source": [
    "with sns.plotting_context(\"paper\", font_scale=1.5):\n",
    "    g = sns.displot(gene_corrs_flat, kde=True, height=7)\n",
    "    g.ax.set_title(\n",
    "        f\"Distribution of gene correlation values in chromosome {CHROMOSOME}\"\n",
    "    )"
   ]
  },
  {
   "cell_type": "markdown",
   "id": "cbd52bca-d878-4a2f-b684-5c83aa3038d4",
   "metadata": {
    "papermill": {
     "duration": 1.47135,
     "end_time": "2022-08-27T06:35:47.930065",
     "exception": false,
     "start_time": "2022-08-27T06:35:46.458715",
     "status": "completed"
    },
    "tags": []
   },
   "source": [
    "## Plot: heatmap"
   ]
  },
  {
   "cell_type": "code",
   "execution_count": 42,
   "id": "d03fe63a-c7b2-4fb9-a53c-db362ce843c9",
   "metadata": {
    "execution": {
     "iopub.execute_input": "2022-08-27T06:35:50.952932Z",
     "iopub.status.busy": "2022-08-27T06:35:50.952673Z",
     "iopub.status.idle": "2022-08-27T06:35:51.186284Z",
     "shell.execute_reply": "2022-08-27T06:35:51.185742Z"
    },
    "papermill": {
     "duration": 1.71766,
     "end_time": "2022-08-27T06:35:51.187871",
     "exception": false,
     "start_time": "2022-08-27T06:35:49.470211",
     "status": "completed"
    },
    "tags": []
   },
   "outputs": [
    {
     "data": {
      "text/plain": [
       "'0.0 / 0.05'"
      ]
     },
     "metadata": {},
     "output_type": "display_data"
    }
   ],
   "source": [
    "vmin_val = min(0.00, gene_corrs_quantiles[0.10])\n",
    "vmax_val = max(0.05, gene_corrs_quantiles[0.90])\n",
    "display(f\"{vmin_val} / {vmax_val}\")"
   ]
  },
  {
   "cell_type": "code",
   "execution_count": 43,
   "id": "dc41b70b-5bcc-4d9e-9f33-a22c4a94dab5",
   "metadata": {
    "execution": {
     "iopub.execute_input": "2022-08-27T06:35:54.226418Z",
     "iopub.status.busy": "2022-08-27T06:35:54.226159Z",
     "iopub.status.idle": "2022-08-27T06:35:54.444208Z",
     "shell.execute_reply": "2022-08-27T06:35:54.443682Z"
    },
    "papermill": {
     "duration": 1.734921,
     "end_time": "2022-08-27T06:35:54.445857",
     "exception": false,
     "start_time": "2022-08-27T06:35:52.710936",
     "status": "completed"
    },
    "tags": []
   },
   "outputs": [
    {
     "data": {
      "text/plain": [
       "Text(0.5, 1.0, 'Gene correlations in chromosome 8')"
      ]
     },
     "execution_count": 43,
     "metadata": {},
     "output_type": "execute_result"
    },
    {
     "data": {
      "image/png": "[encoded data removed]",
      "text/plain": [
       "<Figure size 720x720 with 2 Axes>"
      ]
     },
     "metadata": {
      "needs_background": "light"
     },
     "output_type": "display_data"
    }
   ],
   "source": [
    "f, ax = plt.subplots(figsize=(10, 10))\n",
    "sns.heatmap(\n",
    "    gene_corrs_df,\n",
    "    xticklabels=False,\n",
    "    yticklabels=False,\n",
    "    square=True,\n",
    "    vmin=vmin_val,\n",
    "    vmax=vmax_val,\n",
    "    cmap=\"rocket_r\",\n",
    "    ax=ax,\n",
    ")\n",
    "ax.set_title(f\"Gene correlations in chromosome {CHROMOSOME}\")"
   ]
  },
  {
   "cell_type": "code",
   "execution_count": null,
   "id": "b25e3ead",
   "metadata": {
    "papermill": {
     "duration": 1.471548,
     "end_time": "2022-08-27T06:35:57.386705",
     "exception": false,
     "start_time": "2022-08-27T06:35:55.915157",
     "status": "completed"
    },
    "tags": []
   },
   "outputs": [],
   "source": []
  }
 ],
 "metadata": {
  "jupytext": {
   "cell_metadata_filter": "all,-execution,-papermill,-trusted",
   "formats": "ipynb,py//py:percent"
  },
  "kernelspec": {
   "display_name": "Python 3 (ipykernel)",
   "language": "python",
   "name": "python3"
  },
  "language_info": {
   "codemirror_mode": {
    "name": "ipython",
    "version": 3
   },
   "file_extension": ".py",
   "mimetype": "text/x-python",
   "name": "python",
   "nbconvert_exporter": "python",
   "pygments_lexer": "ipython3",
   "version": "3.8.13"
  },
  "papermill": {
   "default_parameters": {},
   "duration": 2209.842003,
   "end_time": "2022-08-27T06:36:02.094905",
   "environment_variables": {},
   "exception": null,
   "input_path": "nbs/15_gsa_gls/10-gene_expr_correlations.ipynb",
   "output_path": "nbs/15_gsa_gls/gene_corrs/cohorts/phenomexcan_rapid_gwas/gtex_v8/mashr/10-gene_expr_corrs/10-gene_expr_correlations-chr8.run.ipynb",
   "parameters": {
    "CHROMOSOME": 8,
    "COHORT_NAME": "phenomexcan_rapid_gwas",
    "EQTL_MODEL": "MASHR",
    "REFERENCE_PANEL": "GTEX_V8"
   },
   "start_time": "2022-08-27T05:59:12.252902",
   "version": "2.2.2"
  }
 },
 "nbformat": 4,
 "nbformat_minor": 5
}
