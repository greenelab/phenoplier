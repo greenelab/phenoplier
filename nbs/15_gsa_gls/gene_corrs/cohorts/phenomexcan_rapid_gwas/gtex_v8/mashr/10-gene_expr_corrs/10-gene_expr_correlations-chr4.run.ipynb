{
 "cells": [
  {
   "cell_type": "markdown",
   "id": "7a6632fb",
   "metadata": {
    "papermill": {
     "duration": 0.022284,
     "end_time": "2022-08-27T05:59:17.978221",
     "exception": false,
     "start_time": "2022-08-27T05:59:17.955937",
     "status": "completed"
    },
    "tags": []
   },
   "source": [
    "# Description"
   ]
  },
  {
   "cell_type": "markdown",
   "id": "7097c346",
   "metadata": {
    "papermill": {
     "duration": 0.014317,
     "end_time": "2022-08-27T05:59:18.007705",
     "exception": false,
     "start_time": "2022-08-27T05:59:17.993388",
     "status": "completed"
    },
    "tags": []
   },
   "source": [
    "(Please, take a look at the README.md file in this directory for instructions on how to run this notebook)\n",
    "\n",
    "This notebook computes predicted expression correlations between all genes in the MultiPLIER models.\n",
    "\n",
    "It also has a parameter set for papermill to run on a single chromosome to run in parallel (see under `Settings` below).\n",
    "\n",
    "This notebook is not directly run. See README.md."
   ]
  },
  {
   "cell_type": "markdown",
   "id": "c61d8427",
   "metadata": {
    "papermill": {
     "duration": 0.016639,
     "end_time": "2022-08-27T05:59:18.039420",
     "exception": false,
     "start_time": "2022-08-27T05:59:18.022781",
     "status": "completed"
    },
    "tags": []
   },
   "source": [
    "# Modules"
   ]
  },
  {
   "cell_type": "code",
   "execution_count": 1,
   "id": "bbc0234f",
   "metadata": {
    "execution": {
     "iopub.execute_input": "2022-08-27T05:59:18.068192Z",
     "iopub.status.busy": "2022-08-27T05:59:18.067816Z",
     "iopub.status.idle": "2022-08-27T05:59:18.272843Z",
     "shell.execute_reply": "2022-08-27T05:59:18.271680Z"
    },
    "papermill": {
     "duration": 0.223922,
     "end_time": "2022-08-27T05:59:18.276643",
     "exception": false,
     "start_time": "2022-08-27T05:59:18.052721",
     "status": "completed"
    },
    "tags": []
   },
   "outputs": [],
   "source": [
    "%load_ext autoreload\n",
    "%autoreload 2"
   ]
  },
  {
   "cell_type": "code",
   "execution_count": 2,
   "id": "1d5f5a59",
   "metadata": {
    "execution": {
     "iopub.execute_input": "2022-08-27T05:59:18.342750Z",
     "iopub.status.busy": "2022-08-27T05:59:18.342312Z",
     "iopub.status.idle": "2022-08-27T05:59:24.675444Z",
     "shell.execute_reply": "2022-08-27T05:59:24.674245Z"
    },
    "papermill": {
     "duration": 6.37419,
     "end_time": "2022-08-27T05:59:24.679202",
     "exception": false,
     "start_time": "2022-08-27T05:59:18.305012",
     "status": "completed"
    },
    "tags": []
   },
   "outputs": [],
   "source": [
    "from random import sample, seed\n",
    "import warnings\n",
    "from pathlib import Path\n",
    "import pickle\n",
    "import traceback\n",
    "\n",
    "import numpy as np\n",
    "from scipy.spatial.distance import squareform\n",
    "import pandas as pd\n",
    "from tqdm import tqdm\n",
    "import matplotlib.pyplot as plt\n",
    "import seaborn as sns\n",
    "\n",
    "import conf\n",
    "from entity import Gene"
   ]
  },
  {
   "cell_type": "markdown",
   "id": "1eac24b5",
   "metadata": {
    "papermill": {
     "duration": 0.014871,
     "end_time": "2022-08-27T05:59:24.744445",
     "exception": false,
     "start_time": "2022-08-27T05:59:24.729574",
     "status": "completed"
    },
    "tags": []
   },
   "source": [
    "# Settings"
   ]
  },
  {
   "cell_type": "code",
   "execution_count": 3,
   "id": "ca4560ba",
   "metadata": {
    "execution": {
     "iopub.execute_input": "2022-08-27T05:59:24.775371Z",
     "iopub.status.busy": "2022-08-27T05:59:24.775011Z",
     "iopub.status.idle": "2022-08-27T05:59:25.053288Z",
     "shell.execute_reply": "2022-08-27T05:59:25.052119Z"
    },
    "papermill": {
     "duration": 0.296963,
     "end_time": "2022-08-27T05:59:25.056811",
     "exception": false,
     "start_time": "2022-08-27T05:59:24.759848",
     "status": "completed"
    },
    "tags": [
     "parameters"
    ]
   },
   "outputs": [],
   "source": [
    "# a cohort name (it could be something like UK_BIOBANK, etc)\n",
    "COHORT_NAME = None\n",
    "\n",
    "# reference panel such as 1000G or GTEX_V8\n",
    "REFERENCE_PANEL = None\n",
    "\n",
    "# predictions models such as MASHR or ELASTIC_NET\n",
    "EQTL_MODEL = None\n",
    "\n",
    "# this is the default value used in S-MultiXcan to select the\n",
    "# top principal components of the expression correlation matrix\n",
    "SMULTIXCAN_CONDITION_NUMBER = 30\n",
    "\n",
    "# specifies a single chromosome value\n",
    "CHROMOSOME = None\n",
    "\n",
    "# If True, computes the correlation between closeby genes only;\n",
    "# otherwise, it computes correlations for all genes in a chromosome\n",
    "COMPUTE_CORRELATIONS_WITHIN_DISTANCE = False\n",
    "\n",
    "# if True, then it will continue if a gene pair correlation fails,\n",
    "# printing the warning/error for debugging. If False, any warning/error\n",
    "# will be thrown\n",
    "DEBUG_MODE = False"
   ]
  },
  {
   "cell_type": "code",
   "execution_count": 4,
   "id": "4625eaa8",
   "metadata": {
    "execution": {
     "iopub.execute_input": "2022-08-27T05:59:25.092786Z",
     "iopub.status.busy": "2022-08-27T05:59:25.092430Z",
     "iopub.status.idle": "2022-08-27T05:59:25.130538Z",
     "shell.execute_reply": "2022-08-27T05:59:25.129729Z"
    },
    "papermill": {
     "duration": 0.060013,
     "end_time": "2022-08-27T05:59:25.133045",
     "exception": false,
     "start_time": "2022-08-27T05:59:25.073032",
     "status": "completed"
    },
    "tags": [
     "injected-parameters"
    ]
   },
   "outputs": [],
   "source": [
    "# Parameters\n",
    "COHORT_NAME = \"phenomexcan_rapid_gwas\"\n",
    "REFERENCE_PANEL = \"GTEX_V8\"\n",
    "EQTL_MODEL = \"MASHR\"\n",
    "CHROMOSOME = 4\n"
   ]
  },
  {
   "cell_type": "code",
   "execution_count": 5,
   "id": "3190631f-27fc-480f-b18e-571d580425a5",
   "metadata": {
    "execution": {
     "iopub.execute_input": "2022-08-27T05:59:25.169443Z",
     "iopub.status.busy": "2022-08-27T05:59:25.169137Z",
     "iopub.status.idle": "2022-08-27T05:59:25.199883Z",
     "shell.execute_reply": "2022-08-27T05:59:25.199147Z"
    },
    "papermill": {
     "duration": 0.049865,
     "end_time": "2022-08-27T05:59:25.201935",
     "exception": false,
     "start_time": "2022-08-27T05:59:25.152070",
     "status": "completed"
    },
    "tags": []
   },
   "outputs": [
    {
     "data": {
      "text/plain": [
       "'Cohort name: phenomexcan_rapid_gwas'"
      ]
     },
     "metadata": {},
     "output_type": "display_data"
    }
   ],
   "source": [
    "assert COHORT_NAME is not None and len(COHORT_NAME) > 0, \"A cohort name must be given\"\n",
    "\n",
    "COHORT_NAME = COHORT_NAME.lower()\n",
    "display(f\"Cohort name: {COHORT_NAME}\")"
   ]
  },
  {
   "cell_type": "code",
   "execution_count": 6,
   "id": "f53ba19b-0f93-4fa2-a047-63b375939d1a",
   "metadata": {
    "execution": {
     "iopub.execute_input": "2022-08-27T05:59:25.239761Z",
     "iopub.status.busy": "2022-08-27T05:59:25.239480Z",
     "iopub.status.idle": "2022-08-27T05:59:25.266002Z",
     "shell.execute_reply": "2022-08-27T05:59:25.265185Z"
    },
    "papermill": {
     "duration": 0.046241,
     "end_time": "2022-08-27T05:59:25.268130",
     "exception": false,
     "start_time": "2022-08-27T05:59:25.221889",
     "status": "completed"
    },
    "tags": []
   },
   "outputs": [
    {
     "data": {
      "text/plain": [
       "'Reference panel: GTEX_V8'"
      ]
     },
     "metadata": {},
     "output_type": "display_data"
    }
   ],
   "source": [
    "assert (\n",
    "    REFERENCE_PANEL is not None and len(REFERENCE_PANEL) > 0\n",
    "), \"A reference panel must be given\"\n",
    "\n",
    "display(f\"Reference panel: {REFERENCE_PANEL}\")"
   ]
  },
  {
   "cell_type": "code",
   "execution_count": 7,
   "id": "e024d130-c139-429a-9c6e-ccf149e297b0",
   "metadata": {
    "execution": {
     "iopub.execute_input": "2022-08-27T05:59:25.304613Z",
     "iopub.status.busy": "2022-08-27T05:59:25.304354Z",
     "iopub.status.idle": "2022-08-27T05:59:25.328777Z",
     "shell.execute_reply": "2022-08-27T05:59:25.328042Z"
    },
    "papermill": {
     "duration": 0.04542,
     "end_time": "2022-08-27T05:59:25.330553",
     "exception": false,
     "start_time": "2022-08-27T05:59:25.285133",
     "status": "completed"
    },
    "tags": []
   },
   "outputs": [
    {
     "data": {
      "text/plain": [
       "'eQTL model: MASHR) / mashr_'"
      ]
     },
     "metadata": {},
     "output_type": "display_data"
    }
   ],
   "source": [
    "assert (\n",
    "    EQTL_MODEL is not None and len(EQTL_MODEL) > 0\n",
    "), \"A prediction/eQTL model must be given\"\n",
    "\n",
    "EQTL_MODEL_FILES_PREFIX = conf.PHENOMEXCAN[\"PREDICTION_MODELS\"][f\"{EQTL_MODEL}_PREFIX\"]\n",
    "display(f\"eQTL model: {EQTL_MODEL}) / {EQTL_MODEL_FILES_PREFIX}\")"
   ]
  },
  {
   "cell_type": "code",
   "execution_count": 8,
   "id": "552a7f63-a18c-4d3e-bb6a-94f99b431291",
   "metadata": {
    "execution": {
     "iopub.execute_input": "2022-08-27T05:59:25.400835Z",
     "iopub.status.busy": "2022-08-27T05:59:25.400415Z",
     "iopub.status.idle": "2022-08-27T05:59:25.495238Z",
     "shell.execute_reply": "2022-08-27T05:59:25.494183Z"
    },
    "papermill": {
     "duration": 0.134417,
     "end_time": "2022-08-27T05:59:25.498338",
     "exception": false,
     "start_time": "2022-08-27T05:59:25.363921",
     "status": "completed"
    },
    "tags": []
   },
   "outputs": [
    {
     "data": {
      "text/plain": [
       "'S-MultiXcan condition number: 30'"
      ]
     },
     "metadata": {},
     "output_type": "display_data"
    }
   ],
   "source": [
    "assert (\n",
    "    SMULTIXCAN_CONDITION_NUMBER is not None and SMULTIXCAN_CONDITION_NUMBER > 0\n",
    "), \"The S-MultiXcan condition number (positive integer) must be given\"\n",
    "\n",
    "display(f\"S-MultiXcan condition number: {SMULTIXCAN_CONDITION_NUMBER}\")"
   ]
  },
  {
   "cell_type": "code",
   "execution_count": 9,
   "id": "f34a336f-548e-4afe-8955-90eaea4f42c6",
   "metadata": {
    "execution": {
     "iopub.execute_input": "2022-08-27T05:59:25.593227Z",
     "iopub.status.busy": "2022-08-27T05:59:25.592755Z",
     "iopub.status.idle": "2022-08-27T05:59:26.480108Z",
     "shell.execute_reply": "2022-08-27T05:59:26.478956Z"
    },
    "papermill": {
     "duration": 0.944364,
     "end_time": "2022-08-27T05:59:26.483429",
     "exception": false,
     "start_time": "2022-08-27T05:59:25.539065",
     "status": "completed"
    },
    "tags": []
   },
   "outputs": [
    {
     "data": {
      "text/plain": [
       "'Working on chromosome 4'"
      ]
     },
     "metadata": {},
     "output_type": "display_data"
    }
   ],
   "source": [
    "assert CHROMOSOME is not None and (\n",
    "    1 <= CHROMOSOME <= 22\n",
    "), \"You have to select one chromosome (format: number between 1 and 22)\"\n",
    "\n",
    "# CHROMOSOME = str(CHROMOSOME)\n",
    "display(f\"Working on chromosome {CHROMOSOME}\")"
   ]
  },
  {
   "cell_type": "code",
   "execution_count": 10,
   "id": "ab8e96e8-06b5-4363-9dcd-dc4d78cc27f7",
   "metadata": {
    "execution": {
     "iopub.execute_input": "2022-08-27T05:59:26.522254Z",
     "iopub.status.busy": "2022-08-27T05:59:26.521874Z",
     "iopub.status.idle": "2022-08-27T05:59:26.557248Z",
     "shell.execute_reply": "2022-08-27T05:59:26.556381Z"
    },
    "papermill": {
     "duration": 0.056716,
     "end_time": "2022-08-27T05:59:26.559599",
     "exception": false,
     "start_time": "2022-08-27T05:59:26.502883",
     "status": "completed"
    },
    "tags": []
   },
   "outputs": [
    {
     "data": {
      "text/plain": [
       "'Compute correlation within distance False'"
      ]
     },
     "metadata": {},
     "output_type": "display_data"
    }
   ],
   "source": [
    "display(f\"Compute correlation within distance {COMPUTE_CORRELATIONS_WITHIN_DISTANCE}\")"
   ]
  },
  {
   "cell_type": "code",
   "execution_count": 11,
   "id": "396392dc-0340-4540-9b02-e182b833f909",
   "metadata": {
    "execution": {
     "iopub.execute_input": "2022-08-27T05:59:26.588114Z",
     "iopub.status.busy": "2022-08-27T05:59:26.587802Z",
     "iopub.status.idle": "2022-08-27T05:59:26.621741Z",
     "shell.execute_reply": "2022-08-27T05:59:26.620842Z"
    },
    "papermill": {
     "duration": 0.050784,
     "end_time": "2022-08-27T05:59:26.623942",
     "exception": false,
     "start_time": "2022-08-27T05:59:26.573158",
     "status": "completed"
    },
    "tags": []
   },
   "outputs": [
    {
     "data": {
      "text/plain": [
       "'Using output dir base: /project/ritchie20/projects/phenoplier/base/results/gls/gene_corrs/cohorts/phenomexcan_rapid_gwas/gtex_v8/mashr'"
      ]
     },
     "metadata": {},
     "output_type": "display_data"
    }
   ],
   "source": [
    "OUTPUT_DIR_BASE = (\n",
    "    conf.RESULTS[\"GLS\"]\n",
    "    / \"gene_corrs\"\n",
    "    / \"cohorts\"\n",
    "    / COHORT_NAME\n",
    "    / REFERENCE_PANEL.lower()\n",
    "    / EQTL_MODEL.lower()\n",
    ")\n",
    "OUTPUT_DIR_BASE.mkdir(parents=True, exist_ok=True)\n",
    "\n",
    "display(f\"Using output dir base: {OUTPUT_DIR_BASE}\")"
   ]
  },
  {
   "cell_type": "markdown",
   "id": "d2ba085e",
   "metadata": {
    "papermill": {
     "duration": 0.011586,
     "end_time": "2022-08-27T05:59:26.647738",
     "exception": false,
     "start_time": "2022-08-27T05:59:26.636152",
     "status": "completed"
    },
    "tags": []
   },
   "source": [
    "# Load data"
   ]
  },
  {
   "cell_type": "markdown",
   "id": "7dcb8db7",
   "metadata": {
    "papermill": {
     "duration": 0.012349,
     "end_time": "2022-08-27T05:59:26.671594",
     "exception": false,
     "start_time": "2022-08-27T05:59:26.659245",
     "status": "completed"
    },
    "tags": []
   },
   "source": [
    "## GWAS variants"
   ]
  },
  {
   "cell_type": "code",
   "execution_count": 12,
   "id": "29434c4e-8cd3-4b9b-82e4-b5a251d9dd19",
   "metadata": {
    "execution": {
     "iopub.execute_input": "2022-08-27T05:59:26.697465Z",
     "iopub.status.busy": "2022-08-27T05:59:26.697215Z",
     "iopub.status.idle": "2022-08-27T05:59:29.168131Z",
     "shell.execute_reply": "2022-08-27T05:59:29.167300Z"
    },
    "papermill": {
     "duration": 2.484785,
     "end_time": "2022-08-27T05:59:29.170124",
     "exception": false,
     "start_time": "2022-08-27T05:59:26.685339",
     "status": "completed"
    },
    "tags": []
   },
   "outputs": [],
   "source": [
    "with open(OUTPUT_DIR_BASE / \"gwas_variant_ids.pkl\", \"rb\") as handle:\n",
    "    gwas_variants_ids_set = pickle.load(handle)"
   ]
  },
  {
   "cell_type": "code",
   "execution_count": 13,
   "id": "b9d9dec2-4a76-4bf9-bde2-e24c95acb8a0",
   "metadata": {
    "execution": {
     "iopub.execute_input": "2022-08-27T05:59:29.191628Z",
     "iopub.status.busy": "2022-08-27T05:59:29.191421Z",
     "iopub.status.idle": "2022-08-27T05:59:29.219037Z",
     "shell.execute_reply": "2022-08-27T05:59:29.218411Z"
    },
    "papermill": {
     "duration": 0.040936,
     "end_time": "2022-08-27T05:59:29.220450",
     "exception": false,
     "start_time": "2022-08-27T05:59:29.179514",
     "status": "completed"
    },
    "tags": []
   },
   "outputs": [
    {
     "data": {
      "text/plain": [
       "8496088"
      ]
     },
     "execution_count": 13,
     "metadata": {},
     "output_type": "execute_result"
    }
   ],
   "source": [
    "len(gwas_variants_ids_set)"
   ]
  },
  {
   "cell_type": "code",
   "execution_count": 14,
   "id": "4235b06a-6034-4ee4-a0a3-2ae35d122418",
   "metadata": {
    "execution": {
     "iopub.execute_input": "2022-08-27T05:59:29.239386Z",
     "iopub.status.busy": "2022-08-27T05:59:29.239195Z",
     "iopub.status.idle": "2022-08-27T05:59:29.792532Z",
     "shell.execute_reply": "2022-08-27T05:59:29.791959Z"
    },
    "papermill": {
     "duration": 0.564599,
     "end_time": "2022-08-27T05:59:29.794025",
     "exception": false,
     "start_time": "2022-08-27T05:59:29.229426",
     "status": "completed"
    },
    "tags": []
   },
   "outputs": [
    {
     "data": {
      "text/plain": [
       "['chr1_189951575_T_G_b38',\n",
       " 'chr1_30473928_C_A_b38',\n",
       " 'chr5_116796980_T_C_b38',\n",
       " 'chr2_21937063_T_G_b38',\n",
       " 'chr6_55105608_AC_A_b38']"
      ]
     },
     "execution_count": 14,
     "metadata": {},
     "output_type": "execute_result"
    }
   ],
   "source": [
    "list(gwas_variants_ids_set)[:5]"
   ]
  },
  {
   "cell_type": "markdown",
   "id": "07866999-2305-41f9-a144-e69c9122c212",
   "metadata": {
    "papermill": {
     "duration": 0.009648,
     "end_time": "2022-08-27T05:59:29.813585",
     "exception": false,
     "start_time": "2022-08-27T05:59:29.803937",
     "status": "completed"
    },
    "tags": []
   },
   "source": [
    "## S-PrediXcan tissue models"
   ]
  },
  {
   "cell_type": "code",
   "execution_count": 15,
   "id": "780611d9-77c8-405f-90a4-f271f7b09397",
   "metadata": {
    "execution": {
     "iopub.execute_input": "2022-08-27T05:59:29.832744Z",
     "iopub.status.busy": "2022-08-27T05:59:29.832545Z",
     "iopub.status.idle": "2022-08-27T05:59:30.664128Z",
     "shell.execute_reply": "2022-08-27T05:59:30.663551Z"
    },
    "papermill": {
     "duration": 0.843399,
     "end_time": "2022-08-27T05:59:30.665979",
     "exception": false,
     "start_time": "2022-08-27T05:59:29.822580",
     "status": "completed"
    },
    "tags": []
   },
   "outputs": [],
   "source": [
    "spredixcan_genes_models = pd.read_pickle(OUTPUT_DIR_BASE / \"gene_tissues.pkl\")"
   ]
  },
  {
   "cell_type": "code",
   "execution_count": 16,
   "id": "726dd1f6-9557-4225-91fa-b3b879ea96e1",
   "metadata": {
    "execution": {
     "iopub.execute_input": "2022-08-27T05:59:30.716718Z",
     "iopub.status.busy": "2022-08-27T05:59:30.716515Z",
     "iopub.status.idle": "2022-08-27T05:59:31.397238Z",
     "shell.execute_reply": "2022-08-27T05:59:31.396127Z"
    },
    "papermill": {
     "duration": 0.711778,
     "end_time": "2022-08-27T05:59:31.400404",
     "exception": false,
     "start_time": "2022-08-27T05:59:30.688626",
     "status": "completed"
    },
    "tags": []
   },
   "outputs": [
    {
     "data": {
      "text/plain": [
       "(6428, 3)"
      ]
     },
     "execution_count": 16,
     "metadata": {},
     "output_type": "execute_result"
    }
   ],
   "source": [
    "spredixcan_genes_models.shape"
   ]
  },
  {
   "cell_type": "code",
   "execution_count": 17,
   "id": "944a1b48-222c-4eb0-b252-b9de2cbca215",
   "metadata": {
    "execution": {
     "iopub.execute_input": "2022-08-27T05:59:31.448066Z",
     "iopub.status.busy": "2022-08-27T05:59:31.447705Z",
     "iopub.status.idle": "2022-08-27T05:59:31.531181Z",
     "shell.execute_reply": "2022-08-27T05:59:31.530253Z"
    },
    "papermill": {
     "duration": 0.108123,
     "end_time": "2022-08-27T05:59:31.533743",
     "exception": false,
     "start_time": "2022-08-27T05:59:31.425620",
     "status": "completed"
    },
    "tags": []
   },
   "outputs": [
    {
     "data": {
      "text/html": [
       "<div>\n",
       "<style scoped>\n",
       "    .dataframe tbody tr th:only-of-type {\n",
       "        vertical-align: middle;\n",
       "    }\n",
       "\n",
       "    .dataframe tbody tr th {\n",
       "        vertical-align: top;\n",
       "    }\n",
       "\n",
       "    .dataframe thead th {\n",
       "        text-align: right;\n",
       "    }\n",
       "</style>\n",
       "<table border=\"1\" class=\"dataframe\">\n",
       "  <thead>\n",
       "    <tr style=\"text-align: right;\">\n",
       "      <th></th>\n",
       "      <th>gene_name</th>\n",
       "      <th>tissue</th>\n",
       "      <th>n_tissues</th>\n",
       "    </tr>\n",
       "    <tr>\n",
       "      <th>gene_id</th>\n",
       "      <th></th>\n",
       "      <th></th>\n",
       "      <th></th>\n",
       "    </tr>\n",
       "  </thead>\n",
       "  <tbody>\n",
       "    <tr>\n",
       "      <th>ENSG00000000419</th>\n",
       "      <td>DPM1</td>\n",
       "      <td>(Brain_Substantia_nigra, Brain_Hypothalamus)</td>\n",
       "      <td>2</td>\n",
       "    </tr>\n",
       "    <tr>\n",
       "      <th>ENSG00000000938</th>\n",
       "      <td>FGR</td>\n",
       "      <td>(Brain_Spinal_cord_cervical_c-1, Stomach, Lung...</td>\n",
       "      <td>36</td>\n",
       "    </tr>\n",
       "    <tr>\n",
       "      <th>ENSG00000000971</th>\n",
       "      <td>CFH</td>\n",
       "      <td>(Heart_Atrial_Appendage, Brain_Spinal_cord_cer...</td>\n",
       "      <td>34</td>\n",
       "    </tr>\n",
       "    <tr>\n",
       "      <th>ENSG00000001084</th>\n",
       "      <td>GCLC</td>\n",
       "      <td>(Heart_Atrial_Appendage, Lung, Artery_Aorta, P...</td>\n",
       "      <td>33</td>\n",
       "    </tr>\n",
       "    <tr>\n",
       "      <th>ENSG00000001167</th>\n",
       "      <td>NFYA</td>\n",
       "      <td>(Minor_Salivary_Gland, Heart_Atrial_Appendage,...</td>\n",
       "      <td>40</td>\n",
       "    </tr>\n",
       "  </tbody>\n",
       "</table>\n",
       "</div>"
      ],
      "text/plain": [
       "                gene_name                                             tissue  \\\n",
       "gene_id                                                                        \n",
       "ENSG00000000419      DPM1       (Brain_Substantia_nigra, Brain_Hypothalamus)   \n",
       "ENSG00000000938       FGR  (Brain_Spinal_cord_cervical_c-1, Stomach, Lung...   \n",
       "ENSG00000000971       CFH  (Heart_Atrial_Appendage, Brain_Spinal_cord_cer...   \n",
       "ENSG00000001084      GCLC  (Heart_Atrial_Appendage, Lung, Artery_Aorta, P...   \n",
       "ENSG00000001167      NFYA  (Minor_Salivary_Gland, Heart_Atrial_Appendage,...   \n",
       "\n",
       "                 n_tissues  \n",
       "gene_id                     \n",
       "ENSG00000000419          2  \n",
       "ENSG00000000938         36  \n",
       "ENSG00000000971         34  \n",
       "ENSG00000001084         33  \n",
       "ENSG00000001167         40  "
      ]
     },
     "execution_count": 17,
     "metadata": {},
     "output_type": "execute_result"
    }
   ],
   "source": [
    "spredixcan_genes_models.head()"
   ]
  },
  {
   "cell_type": "code",
   "execution_count": 18,
   "id": "d1c11bb1-be0b-4f40-b360-633d6827109f",
   "metadata": {
    "execution": {
     "iopub.execute_input": "2022-08-27T05:59:31.572760Z",
     "iopub.status.busy": "2022-08-27T05:59:31.572441Z",
     "iopub.status.idle": "2022-08-27T05:59:31.599800Z",
     "shell.execute_reply": "2022-08-27T05:59:31.599044Z"
    },
    "papermill": {
     "duration": 0.048476,
     "end_time": "2022-08-27T05:59:31.602097",
     "exception": false,
     "start_time": "2022-08-27T05:59:31.553621",
     "status": "completed"
    },
    "tags": []
   },
   "outputs": [],
   "source": [
    "assert spredixcan_genes_models.index.is_unique"
   ]
  },
  {
   "cell_type": "markdown",
   "id": "a5b5092c-a13e-47c4-a92a-480fcc08f3ae",
   "metadata": {
    "papermill": {
     "duration": 0.015088,
     "end_time": "2022-08-27T05:59:31.635869",
     "exception": false,
     "start_time": "2022-08-27T05:59:31.620781",
     "status": "completed"
    },
    "tags": []
   },
   "source": [
    "## Gene info"
   ]
  },
  {
   "cell_type": "code",
   "execution_count": 19,
   "id": "7d6bb224-88e9-4358-ac10-43a41d92cdad",
   "metadata": {
    "execution": {
     "iopub.execute_input": "2022-08-27T05:59:31.663558Z",
     "iopub.status.busy": "2022-08-27T05:59:31.663299Z",
     "iopub.status.idle": "2022-08-27T05:59:31.702923Z",
     "shell.execute_reply": "2022-08-27T05:59:31.702301Z"
    },
    "papermill": {
     "duration": 0.055882,
     "end_time": "2022-08-27T05:59:31.704956",
     "exception": false,
     "start_time": "2022-08-27T05:59:31.649074",
     "status": "completed"
    },
    "tags": []
   },
   "outputs": [],
   "source": [
    "genes_info = pd.read_pickle(OUTPUT_DIR_BASE / \"genes_info.pkl\")"
   ]
  },
  {
   "cell_type": "code",
   "execution_count": 20,
   "id": "9e32abfa-546d-483e-8c18-d526e9e05903",
   "metadata": {
    "execution": {
     "iopub.execute_input": "2022-08-27T05:59:31.734579Z",
     "iopub.status.busy": "2022-08-27T05:59:31.734336Z",
     "iopub.status.idle": "2022-08-27T05:59:31.783398Z",
     "shell.execute_reply": "2022-08-27T05:59:31.782700Z"
    },
    "papermill": {
     "duration": 0.066736,
     "end_time": "2022-08-27T05:59:31.785488",
     "exception": false,
     "start_time": "2022-08-27T05:59:31.718752",
     "status": "completed"
    },
    "tags": []
   },
   "outputs": [
    {
     "data": {
      "text/plain": [
       "(6428, 7)"
      ]
     },
     "execution_count": 20,
     "metadata": {},
     "output_type": "execute_result"
    }
   ],
   "source": [
    "genes_info.shape"
   ]
  },
  {
   "cell_type": "code",
   "execution_count": 21,
   "id": "d16c3e92-85ec-468a-9a56-e25a9774a1cb",
   "metadata": {
    "execution": {
     "iopub.execute_input": "2022-08-27T05:59:31.820043Z",
     "iopub.status.busy": "2022-08-27T05:59:31.819781Z",
     "iopub.status.idle": "2022-08-27T05:59:31.884995Z",
     "shell.execute_reply": "2022-08-27T05:59:31.884072Z"
    },
    "papermill": {
     "duration": 0.084124,
     "end_time": "2022-08-27T05:59:31.887723",
     "exception": false,
     "start_time": "2022-08-27T05:59:31.803599",
     "status": "completed"
    },
    "tags": []
   },
   "outputs": [
    {
     "data": {
      "text/html": [
       "<div>\n",
       "<style scoped>\n",
       "    .dataframe tbody tr th:only-of-type {\n",
       "        vertical-align: middle;\n",
       "    }\n",
       "\n",
       "    .dataframe tbody tr th {\n",
       "        vertical-align: top;\n",
       "    }\n",
       "\n",
       "    .dataframe thead th {\n",
       "        text-align: right;\n",
       "    }\n",
       "</style>\n",
       "<table border=\"1\" class=\"dataframe\">\n",
       "  <thead>\n",
       "    <tr style=\"text-align: right;\">\n",
       "      <th></th>\n",
       "      <th>name</th>\n",
       "      <th>id</th>\n",
       "      <th>chr</th>\n",
       "      <th>band</th>\n",
       "      <th>start_position</th>\n",
       "      <th>end_position</th>\n",
       "      <th>gene_length</th>\n",
       "    </tr>\n",
       "  </thead>\n",
       "  <tbody>\n",
       "    <tr>\n",
       "      <th>0</th>\n",
       "      <td>ZNF605</td>\n",
       "      <td>ENSG00000196458</td>\n",
       "      <td>12</td>\n",
       "      <td>12q24.33</td>\n",
       "      <td>132918306</td>\n",
       "      <td>132956306</td>\n",
       "      <td>38000</td>\n",
       "    </tr>\n",
       "    <tr>\n",
       "      <th>1</th>\n",
       "      <td>FBP1</td>\n",
       "      <td>ENSG00000165140</td>\n",
       "      <td>9</td>\n",
       "      <td>9q22.32</td>\n",
       "      <td>94603133</td>\n",
       "      <td>94640249</td>\n",
       "      <td>37116</td>\n",
       "    </tr>\n",
       "    <tr>\n",
       "      <th>2</th>\n",
       "      <td>TAL1</td>\n",
       "      <td>ENSG00000162367</td>\n",
       "      <td>1</td>\n",
       "      <td>1p33</td>\n",
       "      <td>47216290</td>\n",
       "      <td>47232220</td>\n",
       "      <td>15930</td>\n",
       "    </tr>\n",
       "    <tr>\n",
       "      <th>3</th>\n",
       "      <td>MPV17</td>\n",
       "      <td>ENSG00000115204</td>\n",
       "      <td>2</td>\n",
       "      <td>2p23.3</td>\n",
       "      <td>27309492</td>\n",
       "      <td>27325680</td>\n",
       "      <td>16188</td>\n",
       "    </tr>\n",
       "    <tr>\n",
       "      <th>4</th>\n",
       "      <td>PTPRN</td>\n",
       "      <td>ENSG00000054356</td>\n",
       "      <td>2</td>\n",
       "      <td>2q35</td>\n",
       "      <td>219289623</td>\n",
       "      <td>219309648</td>\n",
       "      <td>20025</td>\n",
       "    </tr>\n",
       "  </tbody>\n",
       "</table>\n",
       "</div>"
      ],
      "text/plain": [
       "     name               id  chr      band  start_position  end_position  \\\n",
       "0  ZNF605  ENSG00000196458   12  12q24.33       132918306     132956306   \n",
       "1    FBP1  ENSG00000165140    9   9q22.32        94603133      94640249   \n",
       "2    TAL1  ENSG00000162367    1      1p33        47216290      47232220   \n",
       "3   MPV17  ENSG00000115204    2    2p23.3        27309492      27325680   \n",
       "4   PTPRN  ENSG00000054356    2      2q35       219289623     219309648   \n",
       "\n",
       "   gene_length  \n",
       "0        38000  \n",
       "1        37116  \n",
       "2        15930  \n",
       "3        16188  \n",
       "4        20025  "
      ]
     },
     "execution_count": 21,
     "metadata": {},
     "output_type": "execute_result"
    }
   ],
   "source": [
    "genes_info.head()"
   ]
  },
  {
   "cell_type": "markdown",
   "id": "d3843e06",
   "metadata": {
    "papermill": {
     "duration": 0.022185,
     "end_time": "2022-08-27T05:59:31.931471",
     "exception": false,
     "start_time": "2022-08-27T05:59:31.909286",
     "status": "completed"
    },
    "tags": []
   },
   "source": [
    "# Compute correlations"
   ]
  },
  {
   "cell_type": "code",
   "execution_count": 22,
   "id": "cb859c15-d1f3-4006-a74c-2b83c0db9611",
   "metadata": {
    "execution": {
     "iopub.execute_input": "2022-08-27T05:59:31.968908Z",
     "iopub.status.busy": "2022-08-27T05:59:31.968617Z",
     "iopub.status.idle": "2022-08-27T05:59:32.030572Z",
     "shell.execute_reply": "2022-08-27T05:59:32.029530Z"
    },
    "papermill": {
     "duration": 0.084671,
     "end_time": "2022-08-27T05:59:32.033655",
     "exception": false,
     "start_time": "2022-08-27T05:59:31.948984",
     "status": "completed"
    },
    "tags": []
   },
   "outputs": [
    {
     "data": {
      "text/plain": [
       "PosixPath('/project/ritchie20/projects/phenoplier/base/results/gls/gene_corrs/cohorts/phenomexcan_rapid_gwas/gtex_v8/mashr/by_chr/gene_corrs-chr4.pkl')"
      ]
     },
     "metadata": {},
     "output_type": "display_data"
    }
   ],
   "source": [
    "output_dir = OUTPUT_DIR_BASE / \"by_chr\"\n",
    "output_dir.mkdir(exist_ok=True, parents=True)\n",
    "output_file = output_dir / f\"gene_corrs-chr{CHROMOSOME}.pkl\"\n",
    "display(output_file)"
   ]
  },
  {
   "cell_type": "code",
   "execution_count": 23,
   "id": "aa674fe4-6794-4eed-98fa-32b39d1d4ace",
   "metadata": {
    "execution": {
     "iopub.execute_input": "2022-08-27T05:59:32.075323Z",
     "iopub.status.busy": "2022-08-27T05:59:32.074961Z",
     "iopub.status.idle": "2022-08-27T05:59:32.129510Z",
     "shell.execute_reply": "2022-08-27T05:59:32.128354Z"
    },
    "papermill": {
     "duration": 0.078057,
     "end_time": "2022-08-27T05:59:32.132660",
     "exception": false,
     "start_time": "2022-08-27T05:59:32.054603",
     "status": "completed"
    },
    "tags": []
   },
   "outputs": [],
   "source": [
    "warnings.filterwarnings(\"error\")"
   ]
  },
  {
   "cell_type": "code",
   "execution_count": 24,
   "id": "44d5450b-3baf-43f1-9e2e-4b06f1a785f8",
   "metadata": {
    "execution": {
     "iopub.execute_input": "2022-08-27T05:59:32.172631Z",
     "iopub.status.busy": "2022-08-27T05:59:32.172297Z",
     "iopub.status.idle": "2022-08-27T05:59:32.221562Z",
     "shell.execute_reply": "2022-08-27T05:59:32.220583Z"
    },
    "papermill": {
     "duration": 0.072145,
     "end_time": "2022-08-27T05:59:32.224699",
     "exception": false,
     "start_time": "2022-08-27T05:59:32.152554",
     "status": "completed"
    },
    "tags": []
   },
   "outputs": [],
   "source": [
    "# standard checks\n",
    "all_chrs = genes_info[\"chr\"].dropna().unique()\n",
    "assert all_chrs.shape[0] == 22\n",
    "\n",
    "# select chromosome given by the user\n",
    "assert CHROMOSOME in all_chrs"
   ]
  },
  {
   "cell_type": "code",
   "execution_count": 25,
   "id": "2d7c043c-92a7-4d35-991b-fa69ac1e0268",
   "metadata": {
    "execution": {
     "iopub.execute_input": "2022-08-27T05:59:32.268870Z",
     "iopub.status.busy": "2022-08-27T05:59:32.268536Z",
     "iopub.status.idle": "2022-08-27T05:59:32.373240Z",
     "shell.execute_reply": "2022-08-27T05:59:32.372182Z"
    },
    "papermill": {
     "duration": 0.131479,
     "end_time": "2022-08-27T05:59:32.376615",
     "exception": false,
     "start_time": "2022-08-27T05:59:32.245136",
     "status": "completed"
    },
    "tags": []
   },
   "outputs": [
    {
     "name": "stdout",
     "output_type": "stream",
     "text": [
      "Number of genes in chromosome: 244\n"
     ]
    }
   ],
   "source": [
    "# run only on the chromosome specified\n",
    "all_chrs = [CHROMOSOME]\n",
    "genes_chr = genes_info[genes_info[\"chr\"] == CHROMOSOME]\n",
    "\n",
    "# For testing purposes\n",
    "# genes_chr = genes_chr.sample(n=20)\n",
    "\n",
    "print(f\"Number of genes in chromosome: {genes_chr.shape[0]}\", flush=True)"
   ]
  },
  {
   "cell_type": "code",
   "execution_count": 26,
   "id": "916015d8-2979-46d3-a9b9-1cf5a0932c6a",
   "metadata": {
    "execution": {
     "iopub.execute_input": "2022-08-27T05:59:32.420793Z",
     "iopub.status.busy": "2022-08-27T05:59:32.420445Z",
     "iopub.status.idle": "2022-08-27T05:59:32.536931Z",
     "shell.execute_reply": "2022-08-27T05:59:32.535798Z"
    },
    "papermill": {
     "duration": 0.141922,
     "end_time": "2022-08-27T05:59:32.540512",
     "exception": false,
     "start_time": "2022-08-27T05:59:32.398590",
     "status": "completed"
    },
    "tags": []
   },
   "outputs": [],
   "source": [
    "# sort genes by starting position to make visualizations better later\n",
    "genes_chr = genes_chr.sort_values(\"start_position\")"
   ]
  },
  {
   "cell_type": "code",
   "execution_count": 27,
   "id": "a38aa74a-8ad3-47f6-8ef9-56be0e011774",
   "metadata": {
    "execution": {
     "iopub.execute_input": "2022-08-27T05:59:32.587958Z",
     "iopub.status.busy": "2022-08-27T05:59:32.587589Z",
     "iopub.status.idle": "2022-08-27T05:59:32.619846Z",
     "shell.execute_reply": "2022-08-27T05:59:32.618979Z"
    },
    "papermill": {
     "duration": 0.057246,
     "end_time": "2022-08-27T05:59:32.622476",
     "exception": false,
     "start_time": "2022-08-27T05:59:32.565230",
     "status": "completed"
    },
    "tags": []
   },
   "outputs": [],
   "source": [
    "gene_chr_objs = [Gene(ensembl_id=gene_id) for gene_id in genes_chr[\"id\"]]"
   ]
  },
  {
   "cell_type": "code",
   "execution_count": 28,
   "id": "570f974f-13c3-42b6-ad3a-ce99ca885c1a",
   "metadata": {
    "execution": {
     "iopub.execute_input": "2022-08-27T05:59:32.665483Z",
     "iopub.status.busy": "2022-08-27T05:59:32.665181Z",
     "iopub.status.idle": "2022-08-27T05:59:32.694291Z",
     "shell.execute_reply": "2022-08-27T05:59:32.693522Z"
    },
    "papermill": {
     "duration": 0.052963,
     "end_time": "2022-08-27T05:59:32.696576",
     "exception": false,
     "start_time": "2022-08-27T05:59:32.643613",
     "status": "completed"
    },
    "tags": []
   },
   "outputs": [
    {
     "name": "stdout",
     "output_type": "stream",
     "text": [
      "Number of gene combinations: 29646\n"
     ]
    }
   ],
   "source": [
    "n = len(gene_chr_objs)\n",
    "n_comb = int(n * (n - 1) / 2.0)\n",
    "print(f\"Number of gene combinations: {n_comb}\", flush=True)"
   ]
  },
  {
   "cell_type": "code",
   "execution_count": 29,
   "id": "cdbb90a1",
   "metadata": {
    "execution": {
     "iopub.execute_input": "2022-08-27T05:59:32.733865Z",
     "iopub.status.busy": "2022-08-27T05:59:32.733587Z",
     "iopub.status.idle": "2022-08-27T06:41:45.911118Z",
     "shell.execute_reply": "2022-08-27T06:41:45.910018Z"
    },
    "papermill": {
     "duration": 2533.199325,
     "end_time": "2022-08-27T06:41:45.913918",
     "exception": false,
     "start_time": "2022-08-27T05:59:32.714593",
     "status": "completed"
    },
    "tags": []
   },
   "outputs": [
    {
     "name": "stderr",
     "output_type": "stream",
     "text": [
      "ENSG00000109536 / ENSG00000109536: : 29890it [42:12, 11.80it/s]\n"
     ]
    },
    {
     "data": {
      "text/plain": [
       "PosixPath('/project/ritchie20/projects/phenoplier/base/results/gls/gene_corrs/cohorts/phenomexcan_rapid_gwas/gtex_v8/mashr/by_chr/gene_corrs-chr4.pkl')"
      ]
     },
     "metadata": {},
     "output_type": "display_data"
    }
   ],
   "source": [
    "gene_corrs = []\n",
    "gene_corrs_data = np.full(\n",
    "    (n, n),\n",
    "    np.nan,\n",
    "    dtype=np.float64,\n",
    ")\n",
    "\n",
    "i = 0\n",
    "with tqdm(ncols=100, total=n_comb) as pbar:\n",
    "    for gene1_idx in range(0, len(gene_chr_objs)):\n",
    "        gene1_obj = gene_chr_objs[gene1_idx]\n",
    "        gene1_tissues = spredixcan_genes_models.loc[gene1_obj.ensembl_id, \"tissue\"]\n",
    "\n",
    "        for gene2_idx in range(gene1_idx, len(gene_chr_objs)):\n",
    "            gene2_obj = gene_chr_objs[gene2_idx]\n",
    "            gene2_tissues = spredixcan_genes_models.loc[gene2_obj.ensembl_id, \"tissue\"]\n",
    "\n",
    "            pbar.set_description(f\"{gene1_obj.ensembl_id} / {gene2_obj.ensembl_id}\")\n",
    "\n",
    "            try:\n",
    "                r = gene1_obj.get_ssm_correlation(\n",
    "                    other_gene=gene2_obj,\n",
    "                    tissues=gene1_tissues,\n",
    "                    other_tissues=gene2_tissues,\n",
    "                    snps_subset=gwas_variants_ids_set,\n",
    "                    condition_number=SMULTIXCAN_CONDITION_NUMBER,\n",
    "                    reference_panel=REFERENCE_PANEL,\n",
    "                    model_type=EQTL_MODEL,\n",
    "                    use_within_distance=COMPUTE_CORRELATIONS_WITHIN_DISTANCE,\n",
    "                )\n",
    "\n",
    "                if r is None:\n",
    "                    # if r is None, it's very likely because:\n",
    "                    #  * one of the genes has no prediction models\n",
    "                    #  * all the SNPs predictors for the gene are not present in the reference\n",
    "                    #    panel\n",
    "\n",
    "                    r = 0.0\n",
    "\n",
    "                gene_corrs.append(r)\n",
    "\n",
    "                gene_corrs_data[gene1_idx, gene2_idx] = r\n",
    "                gene_corrs_data[gene2_idx, gene1_idx] = r\n",
    "            except Warning as e:\n",
    "                if not DEBUG_MODE:\n",
    "                    raise e\n",
    "\n",
    "                print(\n",
    "                    f\"RuntimeWarning for genes {gene1_obj.ensembl_id} and {gene2_obj.ensembl_id}\",\n",
    "                    flush=True,\n",
    "                )\n",
    "                print(traceback.format_exc(), flush=True)\n",
    "\n",
    "                gene_corrs.append(np.nan)\n",
    "            except Exception as e:\n",
    "                if not DEBUG_MODE:\n",
    "                    raise e\n",
    "\n",
    "                print(\n",
    "                    f\"Exception for genes {gene1_obj.ensembl_id} and {gene2_obj.ensembl_id}\",\n",
    "                    flush=True,\n",
    "                )\n",
    "                print(traceback.format_exc(), flush=True)\n",
    "\n",
    "                gene_corrs.append(np.nan)\n",
    "\n",
    "            pbar.update(1)\n",
    "\n",
    "# create a pandas series\n",
    "gene_corrs_flat = pd.Series(gene_corrs)\n",
    "\n",
    "# save\n",
    "# FIXME: consider saving only the condenced matrix here. See here for\n",
    "# more details: https://github.com/greenelab/phenoplier/pull/38#discussion_r634600813\n",
    "# gene_corrs_data = squareform(np.array(gene_corrs, dtype=np.float64))\n",
    "# np.fill_diagonal(gene_corrs_data, 1.0)\n",
    "\n",
    "gene_chr_ids = [g.ensembl_id for g in gene_chr_objs]\n",
    "gene_corrs_df = pd.DataFrame(\n",
    "    data=gene_corrs_data,\n",
    "    index=gene_chr_ids,\n",
    "    columns=gene_chr_ids,\n",
    ")\n",
    "\n",
    "output_dir.mkdir(exist_ok=True, parents=True)\n",
    "display(output_file)\n",
    "\n",
    "gene_corrs_df.to_pickle(output_file)"
   ]
  },
  {
   "cell_type": "markdown",
   "id": "faa67b51-5373-470f-aa72-2ded53fa6dfe",
   "metadata": {
    "papermill": {
     "duration": 1.789049,
     "end_time": "2022-08-27T06:41:49.519896",
     "exception": false,
     "start_time": "2022-08-27T06:41:47.730847",
     "status": "completed"
    },
    "tags": []
   },
   "source": [
    "# Testing"
   ]
  },
  {
   "cell_type": "code",
   "execution_count": 30,
   "id": "14f7d046-4b55-4896-a56b-990127bcc388",
   "metadata": {
    "execution": {
     "iopub.execute_input": "2022-08-27T06:41:53.185877Z",
     "iopub.status.busy": "2022-08-27T06:41:53.185606Z",
     "iopub.status.idle": "2022-08-27T06:41:53.411610Z",
     "shell.execute_reply": "2022-08-27T06:41:53.411097Z"
    },
    "papermill": {
     "duration": 2.061942,
     "end_time": "2022-08-27T06:41:53.413116",
     "exception": false,
     "start_time": "2022-08-27T06:41:51.351174",
     "status": "completed"
    },
    "tags": []
   },
   "outputs": [
    {
     "data": {
      "text/plain": [
       "(244, 244)"
      ]
     },
     "execution_count": 30,
     "metadata": {},
     "output_type": "execute_result"
    }
   ],
   "source": [
    "gene_corrs_df.shape"
   ]
  },
  {
   "cell_type": "code",
   "execution_count": 31,
   "id": "c7d15414-3297-4537-a7c6-7588c0baeb75",
   "metadata": {
    "execution": {
     "iopub.execute_input": "2022-08-27T06:41:57.127937Z",
     "iopub.status.busy": "2022-08-27T06:41:57.127677Z",
     "iopub.status.idle": "2022-08-27T06:41:57.164895Z",
     "shell.execute_reply": "2022-08-27T06:41:57.164361Z"
    },
    "papermill": {
     "duration": 1.89245,
     "end_time": "2022-08-27T06:41:57.166500",
     "exception": false,
     "start_time": "2022-08-27T06:41:55.274050",
     "status": "completed"
    },
    "tags": []
   },
   "outputs": [
    {
     "data": {
      "text/html": [
       "<div>\n",
       "<style scoped>\n",
       "    .dataframe tbody tr th:only-of-type {\n",
       "        vertical-align: middle;\n",
       "    }\n",
       "\n",
       "    .dataframe tbody tr th {\n",
       "        vertical-align: top;\n",
       "    }\n",
       "\n",
       "    .dataframe thead th {\n",
       "        text-align: right;\n",
       "    }\n",
       "</style>\n",
       "<table border=\"1\" class=\"dataframe\">\n",
       "  <thead>\n",
       "    <tr style=\"text-align: right;\">\n",
       "      <th></th>\n",
       "      <th>ENSG00000272602</th>\n",
       "      <th>ENSG00000131127</th>\n",
       "      <th>ENSG00000174227</th>\n",
       "      <th>ENSG00000133256</th>\n",
       "      <th>ENSG00000169020</th>\n",
       "      <th>ENSG00000215375</th>\n",
       "      <th>ENSG00000169026</th>\n",
       "      <th>ENSG00000178950</th>\n",
       "      <th>ENSG00000145214</th>\n",
       "      <th>ENSG00000145217</th>\n",
       "      <th>...</th>\n",
       "      <th>ENSG00000109674</th>\n",
       "      <th>ENSG00000038002</th>\n",
       "      <th>ENSG00000129187</th>\n",
       "      <th>ENSG00000168310</th>\n",
       "      <th>ENSG00000164305</th>\n",
       "      <th>ENSG00000151726</th>\n",
       "      <th>ENSG00000151729</th>\n",
       "      <th>ENSG00000164342</th>\n",
       "      <th>ENSG00000164344</th>\n",
       "      <th>ENSG00000109536</th>\n",
       "    </tr>\n",
       "  </thead>\n",
       "  <tbody>\n",
       "    <tr>\n",
       "      <th>ENSG00000272602</th>\n",
       "      <td>1.000000</td>\n",
       "      <td>0.055309</td>\n",
       "      <td>0.168507</td>\n",
       "      <td>0.098959</td>\n",
       "      <td>0.070859</td>\n",
       "      <td>0.045743</td>\n",
       "      <td>0.078102</td>\n",
       "      <td>0.012452</td>\n",
       "      <td>0.006397</td>\n",
       "      <td>0.001522</td>\n",
       "      <td>...</td>\n",
       "      <td>0.010453</td>\n",
       "      <td>0.005291</td>\n",
       "      <td>0.009087</td>\n",
       "      <td>0.011093</td>\n",
       "      <td>0.008498</td>\n",
       "      <td>0.005795</td>\n",
       "      <td>0.009951</td>\n",
       "      <td>0.006877</td>\n",
       "      <td>0.005255</td>\n",
       "      <td>0.004197</td>\n",
       "    </tr>\n",
       "    <tr>\n",
       "      <th>ENSG00000131127</th>\n",
       "      <td>0.055309</td>\n",
       "      <td>1.000000</td>\n",
       "      <td>0.263795</td>\n",
       "      <td>0.071555</td>\n",
       "      <td>0.030254</td>\n",
       "      <td>0.035401</td>\n",
       "      <td>0.050544</td>\n",
       "      <td>0.007786</td>\n",
       "      <td>0.009576</td>\n",
       "      <td>0.002447</td>\n",
       "      <td>...</td>\n",
       "      <td>0.006911</td>\n",
       "      <td>0.003794</td>\n",
       "      <td>0.003911</td>\n",
       "      <td>0.010176</td>\n",
       "      <td>0.003947</td>\n",
       "      <td>0.008119</td>\n",
       "      <td>0.007841</td>\n",
       "      <td>0.007164</td>\n",
       "      <td>0.002695</td>\n",
       "      <td>0.001828</td>\n",
       "    </tr>\n",
       "    <tr>\n",
       "      <th>ENSG00000174227</th>\n",
       "      <td>0.168507</td>\n",
       "      <td>0.263795</td>\n",
       "      <td>1.000000</td>\n",
       "      <td>0.316623</td>\n",
       "      <td>0.112942</td>\n",
       "      <td>0.070443</td>\n",
       "      <td>0.130364</td>\n",
       "      <td>0.008043</td>\n",
       "      <td>0.008435</td>\n",
       "      <td>0.004094</td>\n",
       "      <td>...</td>\n",
       "      <td>0.006857</td>\n",
       "      <td>0.002898</td>\n",
       "      <td>0.011356</td>\n",
       "      <td>0.006669</td>\n",
       "      <td>0.005326</td>\n",
       "      <td>0.006427</td>\n",
       "      <td>0.006670</td>\n",
       "      <td>0.006852</td>\n",
       "      <td>0.007411</td>\n",
       "      <td>0.001419</td>\n",
       "    </tr>\n",
       "    <tr>\n",
       "      <th>ENSG00000133256</th>\n",
       "      <td>0.098959</td>\n",
       "      <td>0.071555</td>\n",
       "      <td>0.316623</td>\n",
       "      <td>1.000000</td>\n",
       "      <td>0.186029</td>\n",
       "      <td>0.202591</td>\n",
       "      <td>0.307200</td>\n",
       "      <td>0.018232</td>\n",
       "      <td>0.011198</td>\n",
       "      <td>0.002539</td>\n",
       "      <td>...</td>\n",
       "      <td>0.010854</td>\n",
       "      <td>0.005552</td>\n",
       "      <td>0.008010</td>\n",
       "      <td>0.007499</td>\n",
       "      <td>0.005753</td>\n",
       "      <td>0.005603</td>\n",
       "      <td>0.007221</td>\n",
       "      <td>0.008813</td>\n",
       "      <td>0.004890</td>\n",
       "      <td>0.007948</td>\n",
       "    </tr>\n",
       "    <tr>\n",
       "      <th>ENSG00000169020</th>\n",
       "      <td>0.070859</td>\n",
       "      <td>0.030254</td>\n",
       "      <td>0.112942</td>\n",
       "      <td>0.186029</td>\n",
       "      <td>1.000000</td>\n",
       "      <td>0.111069</td>\n",
       "      <td>0.199001</td>\n",
       "      <td>0.006966</td>\n",
       "      <td>0.009914</td>\n",
       "      <td>0.004566</td>\n",
       "      <td>...</td>\n",
       "      <td>0.004374</td>\n",
       "      <td>0.004240</td>\n",
       "      <td>0.004648</td>\n",
       "      <td>0.007046</td>\n",
       "      <td>0.003921</td>\n",
       "      <td>0.004452</td>\n",
       "      <td>0.005060</td>\n",
       "      <td>0.001847</td>\n",
       "      <td>0.001259</td>\n",
       "      <td>0.001967</td>\n",
       "    </tr>\n",
       "  </tbody>\n",
       "</table>\n",
       "<p>5 rows × 244 columns</p>\n",
       "</div>"
      ],
      "text/plain": [
       "                 ENSG00000272602  ENSG00000131127  ENSG00000174227  \\\n",
       "ENSG00000272602         1.000000         0.055309         0.168507   \n",
       "ENSG00000131127         0.055309         1.000000         0.263795   \n",
       "ENSG00000174227         0.168507         0.263795         1.000000   \n",
       "ENSG00000133256         0.098959         0.071555         0.316623   \n",
       "ENSG00000169020         0.070859         0.030254         0.112942   \n",
       "\n",
       "                 ENSG00000133256  ENSG00000169020  ENSG00000215375  \\\n",
       "ENSG00000272602         0.098959         0.070859         0.045743   \n",
       "ENSG00000131127         0.071555         0.030254         0.035401   \n",
       "ENSG00000174227         0.316623         0.112942         0.070443   \n",
       "ENSG00000133256         1.000000         0.186029         0.202591   \n",
       "ENSG00000169020         0.186029         1.000000         0.111069   \n",
       "\n",
       "                 ENSG00000169026  ENSG00000178950  ENSG00000145214  \\\n",
       "ENSG00000272602         0.078102         0.012452         0.006397   \n",
       "ENSG00000131127         0.050544         0.007786         0.009576   \n",
       "ENSG00000174227         0.130364         0.008043         0.008435   \n",
       "ENSG00000133256         0.307200         0.018232         0.011198   \n",
       "ENSG00000169020         0.199001         0.006966         0.009914   \n",
       "\n",
       "                 ENSG00000145217  ...  ENSG00000109674  ENSG00000038002  \\\n",
       "ENSG00000272602         0.001522  ...         0.010453         0.005291   \n",
       "ENSG00000131127         0.002447  ...         0.006911         0.003794   \n",
       "ENSG00000174227         0.004094  ...         0.006857         0.002898   \n",
       "ENSG00000133256         0.002539  ...         0.010854         0.005552   \n",
       "ENSG00000169020         0.004566  ...         0.004374         0.004240   \n",
       "\n",
       "                 ENSG00000129187  ENSG00000168310  ENSG00000164305  \\\n",
       "ENSG00000272602         0.009087         0.011093         0.008498   \n",
       "ENSG00000131127         0.003911         0.010176         0.003947   \n",
       "ENSG00000174227         0.011356         0.006669         0.005326   \n",
       "ENSG00000133256         0.008010         0.007499         0.005753   \n",
       "ENSG00000169020         0.004648         0.007046         0.003921   \n",
       "\n",
       "                 ENSG00000151726  ENSG00000151729  ENSG00000164342  \\\n",
       "ENSG00000272602         0.005795         0.009951         0.006877   \n",
       "ENSG00000131127         0.008119         0.007841         0.007164   \n",
       "ENSG00000174227         0.006427         0.006670         0.006852   \n",
       "ENSG00000133256         0.005603         0.007221         0.008813   \n",
       "ENSG00000169020         0.004452         0.005060         0.001847   \n",
       "\n",
       "                 ENSG00000164344  ENSG00000109536  \n",
       "ENSG00000272602         0.005255         0.004197  \n",
       "ENSG00000131127         0.002695         0.001828  \n",
       "ENSG00000174227         0.007411         0.001419  \n",
       "ENSG00000133256         0.004890         0.007948  \n",
       "ENSG00000169020         0.001259         0.001967  \n",
       "\n",
       "[5 rows x 244 columns]"
      ]
     },
     "execution_count": 31,
     "metadata": {},
     "output_type": "execute_result"
    }
   ],
   "source": [
    "gene_corrs_df.head()"
   ]
  },
  {
   "cell_type": "markdown",
   "id": "dad6603f-01c6-41fb-a6f6-241051207dd8",
   "metadata": {
    "papermill": {
     "duration": 1.848941,
     "end_time": "2022-08-27T06:42:00.815320",
     "exception": false,
     "start_time": "2022-08-27T06:41:58.966379",
     "status": "completed"
    },
    "tags": []
   },
   "source": [
    "## Standard checks and stats"
   ]
  },
  {
   "cell_type": "code",
   "execution_count": 32,
   "id": "286686af-1b7b-4440-8453-6bdcbd8de19c",
   "metadata": {
    "execution": {
     "iopub.execute_input": "2022-08-27T06:42:04.471886Z",
     "iopub.status.busy": "2022-08-27T06:42:04.471621Z",
     "iopub.status.idle": "2022-08-27T06:42:04.496690Z",
     "shell.execute_reply": "2022-08-27T06:42:04.496167Z"
    },
    "papermill": {
     "duration": 1.83726,
     "end_time": "2022-08-27T06:42:04.498326",
     "exception": false,
     "start_time": "2022-08-27T06:42:02.661066",
     "status": "completed"
    },
    "tags": []
   },
   "outputs": [],
   "source": [
    "assert not gene_corrs_df.isna().any().any()"
   ]
  },
  {
   "cell_type": "code",
   "execution_count": 33,
   "id": "00583efc-7068-4270-ad1e-4a418e91db96",
   "metadata": {
    "execution": {
     "iopub.execute_input": "2022-08-27T06:42:08.138289Z",
     "iopub.status.busy": "2022-08-27T06:42:08.138005Z",
     "iopub.status.idle": "2022-08-27T06:42:08.162746Z",
     "shell.execute_reply": "2022-08-27T06:42:08.162226Z"
    },
    "papermill": {
     "duration": 1.869654,
     "end_time": "2022-08-27T06:42:08.164322",
     "exception": false,
     "start_time": "2022-08-27T06:42:06.294668",
     "status": "completed"
    },
    "tags": []
   },
   "outputs": [
    {
     "data": {
      "text/plain": [
       "1.886188613429613e-07"
      ]
     },
     "metadata": {},
     "output_type": "display_data"
    }
   ],
   "source": [
    "_min_val = gene_corrs_df.min().min()\n",
    "display(_min_val)\n",
    "assert _min_val >= -0.05"
   ]
  },
  {
   "cell_type": "code",
   "execution_count": 34,
   "id": "d04fb2cf-1050-475b-b855-f5f7cc04092b",
   "metadata": {
    "execution": {
     "iopub.execute_input": "2022-08-27T06:42:11.807965Z",
     "iopub.status.busy": "2022-08-27T06:42:11.807695Z",
     "iopub.status.idle": "2022-08-27T06:42:11.831521Z",
     "shell.execute_reply": "2022-08-27T06:42:11.830997Z"
    },
    "papermill": {
     "duration": 1.827923,
     "end_time": "2022-08-27T06:42:11.833023",
     "exception": false,
     "start_time": "2022-08-27T06:42:10.005100",
     "status": "completed"
    },
    "tags": []
   },
   "outputs": [
    {
     "data": {
      "text/plain": [
       "1.0000000000000027"
      ]
     },
     "metadata": {},
     "output_type": "display_data"
    }
   ],
   "source": [
    "_max_val = gene_corrs_df.max().max()  # this captures the diagonal\n",
    "display(_max_val)\n",
    "assert _max_val <= 1.05"
   ]
  },
  {
   "cell_type": "code",
   "execution_count": 35,
   "id": "96d02c44-1fba-47be-8a93-8f2608420b9c",
   "metadata": {
    "execution": {
     "iopub.execute_input": "2022-08-27T06:42:15.488049Z",
     "iopub.status.busy": "2022-08-27T06:42:15.487782Z",
     "iopub.status.idle": "2022-08-27T06:42:15.508028Z",
     "shell.execute_reply": "2022-08-27T06:42:15.507520Z"
    },
    "papermill": {
     "duration": 1.875348,
     "end_time": "2022-08-27T06:42:15.509659",
     "exception": false,
     "start_time": "2022-08-27T06:42:13.634311",
     "status": "completed"
    },
    "tags": []
   },
   "outputs": [],
   "source": [
    "# check upper triangular values\n",
    "# assert len(gene_corrs) == int(genes_chr.shape[0] * (genes_chr.shape[0] - 1) / 2)"
   ]
  },
  {
   "cell_type": "code",
   "execution_count": 36,
   "id": "fe283586-c348-40e0-8841-f6d97bfb021c",
   "metadata": {
    "execution": {
     "iopub.execute_input": "2022-08-27T06:42:19.190502Z",
     "iopub.status.busy": "2022-08-27T06:42:19.190227Z",
     "iopub.status.idle": "2022-08-27T06:42:19.219616Z",
     "shell.execute_reply": "2022-08-27T06:42:19.219105Z"
    },
    "papermill": {
     "duration": 1.852822,
     "end_time": "2022-08-27T06:42:19.221067",
     "exception": false,
     "start_time": "2022-08-27T06:42:17.368245",
     "status": "completed"
    },
    "tags": []
   },
   "outputs": [
    {
     "data": {
      "text/plain": [
       "count    2.989000e+04\n",
       "mean     1.534891e-02\n",
       "std      9.219265e-02\n",
       "min      1.886189e-07\n",
       "25%      3.618632e-03\n",
       "50%      5.678595e-03\n",
       "75%      8.007199e-03\n",
       "max      1.000000e+00\n",
       "dtype: float64"
      ]
     },
     "execution_count": 36,
     "metadata": {},
     "output_type": "execute_result"
    }
   ],
   "source": [
    "gene_corrs_flat.describe()"
   ]
  },
  {
   "cell_type": "code",
   "execution_count": 37,
   "id": "b3815678-0f93-4b35-897b-a9d047a2aa78",
   "metadata": {
    "execution": {
     "iopub.execute_input": "2022-08-27T06:42:22.873148Z",
     "iopub.status.busy": "2022-08-27T06:42:22.872861Z",
     "iopub.status.idle": "2022-08-27T06:42:22.897555Z",
     "shell.execute_reply": "2022-08-27T06:42:22.897024Z"
    },
    "papermill": {
     "duration": 1.877176,
     "end_time": "2022-08-27T06:42:22.898990",
     "exception": false,
     "start_time": "2022-08-27T06:42:21.021814",
     "status": "completed"
    },
    "tags": []
   },
   "outputs": [
    {
     "data": {
      "text/plain": [
       "0.00    1.886189e-07\n",
       "0.05    1.327958e-03\n",
       "0.10    2.057213e-03\n",
       "0.15    2.647043e-03\n",
       "0.20    3.167625e-03\n",
       "0.25    3.618632e-03\n",
       "0.30    4.057265e-03\n",
       "0.35    4.486230e-03\n",
       "0.40    4.880384e-03\n",
       "0.45    5.264527e-03\n",
       "0.50    5.678595e-03\n",
       "0.55    6.091003e-03\n",
       "0.60    6.513958e-03\n",
       "0.65    6.955225e-03\n",
       "0.70    7.447446e-03\n",
       "0.75    8.007199e-03\n",
       "0.80    8.616078e-03\n",
       "0.85    9.376148e-03\n",
       "0.90    1.047671e-02\n",
       "0.95    1.219108e-02\n",
       "dtype: float64"
      ]
     },
     "metadata": {},
     "output_type": "display_data"
    }
   ],
   "source": [
    "gene_corrs_quantiles = gene_corrs_flat.quantile(np.arange(0, 1, 0.05))\n",
    "display(gene_corrs_quantiles)"
   ]
  },
  {
   "cell_type": "markdown",
   "id": "87134509-b145-4a10-8bc9-b7e914c2b0fa",
   "metadata": {
    "papermill": {
     "duration": 1.801333,
     "end_time": "2022-08-27T06:42:26.548778",
     "exception": false,
     "start_time": "2022-08-27T06:42:24.747445",
     "status": "completed"
    },
    "tags": []
   },
   "source": [
    "## Positive definiteness"
   ]
  },
  {
   "cell_type": "code",
   "execution_count": 38,
   "id": "07d9a9a1-a4f7-48aa-b916-6d42a8cc6186",
   "metadata": {
    "execution": {
     "iopub.execute_input": "2022-08-27T06:42:30.196697Z",
     "iopub.status.busy": "2022-08-27T06:42:30.196433Z",
     "iopub.status.idle": "2022-08-27T06:42:30.243347Z",
     "shell.execute_reply": "2022-08-27T06:42:30.242814Z"
    },
    "papermill": {
     "duration": 1.910042,
     "end_time": "2022-08-27T06:42:30.244855",
     "exception": false,
     "start_time": "2022-08-27T06:42:28.334813",
     "status": "completed"
    },
    "tags": []
   },
   "outputs": [
    {
     "data": {
      "text/plain": [
       "0"
      ]
     },
     "metadata": {},
     "output_type": "display_data"
    },
    {
     "data": {
      "text/plain": [
       "array([], dtype=float64)"
      ]
     },
     "metadata": {},
     "output_type": "display_data"
    }
   ],
   "source": [
    "# print negative eigenvalues\n",
    "eigs = np.linalg.eigvals(gene_corrs_df.to_numpy())\n",
    "display(len(eigs[eigs < 0]))\n",
    "display(eigs[eigs < 0])"
   ]
  },
  {
   "cell_type": "code",
   "execution_count": 39,
   "id": "6e218436-c3c5-4028-8c94-a4fa6260efce",
   "metadata": {
    "execution": {
     "iopub.execute_input": "2022-08-27T06:42:33.887406Z",
     "iopub.status.busy": "2022-08-27T06:42:33.887123Z",
     "iopub.status.idle": "2022-08-27T06:42:33.914455Z",
     "shell.execute_reply": "2022-08-27T06:42:33.913909Z"
    },
    "papermill": {
     "duration": 1.822307,
     "end_time": "2022-08-27T06:42:33.915906",
     "exception": false,
     "start_time": "2022-08-27T06:42:32.093599",
     "status": "completed"
    },
    "tags": []
   },
   "outputs": [
    {
     "name": "stdout",
     "output_type": "stream",
     "text": [
      "Works!\n"
     ]
    }
   ],
   "source": [
    "try:\n",
    "    chol_mat = np.linalg.cholesky(gene_corrs_df.to_numpy())\n",
    "    cov_inv = np.linalg.inv(chol_mat)\n",
    "    print(\"Works!\")\n",
    "except Exception as e:\n",
    "    print(f\"Cholesky decomposition failed: {str(e)}\")"
   ]
  },
  {
   "cell_type": "code",
   "execution_count": 40,
   "id": "dd8827fb-faf9-4c7c-9454-015e94752706",
   "metadata": {
    "execution": {
     "iopub.execute_input": "2022-08-27T06:42:37.545185Z",
     "iopub.status.busy": "2022-08-27T06:42:37.544892Z",
     "iopub.status.idle": "2022-08-27T06:42:37.570317Z",
     "shell.execute_reply": "2022-08-27T06:42:37.569785Z"
    },
    "papermill": {
     "duration": 1.876151,
     "end_time": "2022-08-27T06:42:37.571918",
     "exception": false,
     "start_time": "2022-08-27T06:42:35.695767",
     "status": "completed"
    },
    "tags": []
   },
   "outputs": [
    {
     "name": "stdout",
     "output_type": "stream",
     "text": [
      "Works!\n"
     ]
    }
   ],
   "source": [
    "try:\n",
    "    # decomposition used by statsmodels.GLS\n",
    "    cholsigmainv = np.linalg.cholesky(np.linalg.inv(gene_corrs_df.to_numpy())).T\n",
    "    print(\"Works!\")\n",
    "except Exception as e:\n",
    "    print(f\"Cholesky decomposition failed (statsmodels.GLS): {str(e)}\")"
   ]
  },
  {
   "cell_type": "markdown",
   "id": "8e60a080-edb2-4e9c-b2ef-22961693200c",
   "metadata": {
    "papermill": {
     "duration": 1.784729,
     "end_time": "2022-08-27T06:42:41.184412",
     "exception": false,
     "start_time": "2022-08-27T06:42:39.399683",
     "status": "completed"
    },
    "tags": []
   },
   "source": [
    "## Plot: distribution"
   ]
  },
  {
   "cell_type": "code",
   "execution_count": 41,
   "id": "8301126b-a7d4-4744-9c7d-f0f86eb6f54c",
   "metadata": {
    "execution": {
     "iopub.execute_input": "2022-08-27T06:42:44.826618Z",
     "iopub.status.busy": "2022-08-27T06:42:44.826342Z",
     "iopub.status.idle": "2022-08-27T06:42:51.929634Z",
     "shell.execute_reply": "2022-08-27T06:42:51.929035Z"
    },
    "papermill": {
     "duration": 8.944687,
     "end_time": "2022-08-27T06:42:51.931309",
     "exception": false,
     "start_time": "2022-08-27T06:42:42.986622",
     "status": "completed"
    },
    "tags": []
   },
   "outputs": [
    {
     "data": {
      "image/png": "[encoded data removed]",
      "text/plain": [
       "<Figure size 504x504 with 1 Axes>"
      ]
     },
     "metadata": {
      "needs_background": "light"
     },
     "output_type": "display_data"
    }
   ],
   "source": [
    "with sns.plotting_context(\"paper\", font_scale=1.5):\n",
    "    g = sns.displot(gene_corrs_flat, kde=True, height=7)\n",
    "    g.ax.set_title(\n",
    "        f\"Distribution of gene correlation values in chromosome {CHROMOSOME}\"\n",
    "    )"
   ]
  },
  {
   "cell_type": "markdown",
   "id": "cbd52bca-d878-4a2f-b684-5c83aa3038d4",
   "metadata": {
    "papermill": {
     "duration": 1.803179,
     "end_time": "2022-08-27T06:42:55.573280",
     "exception": false,
     "start_time": "2022-08-27T06:42:53.770101",
     "status": "completed"
    },
    "tags": []
   },
   "source": [
    "## Plot: heatmap"
   ]
  },
  {
   "cell_type": "code",
   "execution_count": 42,
   "id": "d03fe63a-c7b2-4fb9-a53c-db362ce843c9",
   "metadata": {
    "execution": {
     "iopub.execute_input": "2022-08-27T06:42:59.175491Z",
     "iopub.status.busy": "2022-08-27T06:42:59.175217Z",
     "iopub.status.idle": "2022-08-27T06:42:59.222319Z",
     "shell.execute_reply": "2022-08-27T06:42:59.221785Z"
    },
    "papermill": {
     "duration": 1.876945,
     "end_time": "2022-08-27T06:42:59.223921",
     "exception": false,
     "start_time": "2022-08-27T06:42:57.346976",
     "status": "completed"
    },
    "tags": []
   },
   "outputs": [
    {
     "data": {
      "text/plain": [
       "'0.0 / 0.05'"
      ]
     },
     "metadata": {},
     "output_type": "display_data"
    }
   ],
   "source": [
    "vmin_val = min(0.00, gene_corrs_quantiles[0.10])\n",
    "vmax_val = max(0.05, gene_corrs_quantiles[0.90])\n",
    "display(f\"{vmin_val} / {vmax_val}\")"
   ]
  },
  {
   "cell_type": "code",
   "execution_count": 43,
   "id": "dc41b70b-5bcc-4d9e-9f33-a22c4a94dab5",
   "metadata": {
    "execution": {
     "iopub.execute_input": "2022-08-27T06:43:02.895835Z",
     "iopub.status.busy": "2022-08-27T06:43:02.895565Z",
     "iopub.status.idle": "2022-08-27T06:43:03.127830Z",
     "shell.execute_reply": "2022-08-27T06:43:03.127279Z"
    },
    "papermill": {
     "duration": 2.058197,
     "end_time": "2022-08-27T06:43:03.129544",
     "exception": false,
     "start_time": "2022-08-27T06:43:01.071347",
     "status": "completed"
    },
    "tags": []
   },
   "outputs": [
    {
     "data": {
      "text/plain": [
       "Text(0.5, 1.0, 'Gene correlations in chromosome 4')"
      ]
     },
     "execution_count": 43,
     "metadata": {},
     "output_type": "execute_result"
    },
    {
     "data": {
      "image/png": "[encoded data removed]",
      "text/plain": [
       "<Figure size 720x720 with 2 Axes>"
      ]
     },
     "metadata": {
      "needs_background": "light"
     },
     "output_type": "display_data"
    }
   ],
   "source": [
    "f, ax = plt.subplots(figsize=(10, 10))\n",
    "sns.heatmap(\n",
    "    gene_corrs_df,\n",
    "    xticklabels=False,\n",
    "    yticklabels=False,\n",
    "    square=True,\n",
    "    vmin=vmin_val,\n",
    "    vmax=vmax_val,\n",
    "    cmap=\"rocket_r\",\n",
    "    ax=ax,\n",
    ")\n",
    "ax.set_title(f\"Gene correlations in chromosome {CHROMOSOME}\")"
   ]
  },
  {
   "cell_type": "code",
   "execution_count": null,
   "id": "b25e3ead",
   "metadata": {
    "papermill": {
     "duration": 1.857744,
     "end_time": "2022-08-27T06:43:06.846906",
     "exception": false,
     "start_time": "2022-08-27T06:43:04.989162",
     "status": "completed"
    },
    "tags": []
   },
   "outputs": [],
   "source": []
  }
 ],
 "metadata": {
  "jupytext": {
   "cell_metadata_filter": "all,-execution,-papermill,-trusted",
   "formats": "ipynb,py//py:percent"
  },
  "kernelspec": {
   "display_name": "Python 3 (ipykernel)",
   "language": "python",
   "name": "python3"
  },
  "language_info": {
   "codemirror_mode": {
    "name": "ipython",
    "version": 3
   },
   "file_extension": ".py",
   "mimetype": "text/x-python",
   "name": "python",
   "nbconvert_exporter": "python",
   "pygments_lexer": "ipython3",
   "version": "3.8.13"
  },
  "papermill": {
   "default_parameters": {},
   "duration": 2639.486404,
   "end_time": "2022-08-27T06:43:11.740182",
   "environment_variables": {},
   "exception": null,
   "input_path": "nbs/15_gsa_gls/10-gene_expr_correlations.ipynb",
   "output_path": "nbs/15_gsa_gls/gene_corrs/cohorts/phenomexcan_rapid_gwas/gtex_v8/mashr/10-gene_expr_corrs/10-gene_expr_correlations-chr4.run.ipynb",
   "parameters": {
    "CHROMOSOME": 4,
    "COHORT_NAME": "phenomexcan_rapid_gwas",
    "EQTL_MODEL": "MASHR",
    "REFERENCE_PANEL": "GTEX_V8"
   },
   "start_time": "2022-08-27T05:59:12.253778",
   "version": "2.2.2"
  }
 },
 "nbformat": 4,
 "nbformat_minor": 5
}
