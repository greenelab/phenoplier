{
 "cells": [
  {
   "cell_type": "markdown",
   "id": "5ef66977",
   "metadata": {
    "papermill": {
     "duration": 0.030132,
     "end_time": "2022-08-29T14:27:58.143658",
     "exception": false,
     "start_time": "2022-08-29T14:27:58.113526",
     "status": "completed"
    },
    "tags": []
   },
   "source": [
    "# Description"
   ]
  },
  {
   "cell_type": "markdown",
   "id": "658d4f7c",
   "metadata": {
    "papermill": {
     "duration": 0.01902,
     "end_time": "2022-08-29T14:27:58.184508",
     "exception": false,
     "start_time": "2022-08-29T14:27:58.165488",
     "status": "completed"
    },
    "tags": []
   },
   "source": [
    "(Please, take a look at the README.md file in this directory for instructions on how to run this notebook)\n",
    "\n",
    "This notebook reads all gene correlations across all chromosomes and computes a single correlation matrix by assembling a big correlation matrix with all genes."
   ]
  },
  {
   "cell_type": "markdown",
   "id": "60fa4530",
   "metadata": {
    "papermill": {
     "duration": 0.017308,
     "end_time": "2022-08-29T14:27:58.219835",
     "exception": false,
     "start_time": "2022-08-29T14:27:58.202527",
     "status": "completed"
    },
    "tags": []
   },
   "source": [
    "# Modules"
   ]
  },
  {
   "cell_type": "code",
   "execution_count": 1,
   "id": "d70b0833",
   "metadata": {
    "execution": {
     "iopub.execute_input": "2022-08-29T14:27:58.287978Z",
     "iopub.status.busy": "2022-08-29T14:27:58.287616Z",
     "iopub.status.idle": "2022-08-29T14:27:58.332106Z",
     "shell.execute_reply": "2022-08-29T14:27:58.331351Z"
    },
    "papermill": {
     "duration": 0.096528,
     "end_time": "2022-08-29T14:27:58.334588",
     "exception": false,
     "start_time": "2022-08-29T14:27:58.238060",
     "status": "completed"
    },
    "tags": []
   },
   "outputs": [],
   "source": [
    "%load_ext autoreload\n",
    "%autoreload 2"
   ]
  },
  {
   "cell_type": "code",
   "execution_count": 2,
   "id": "6b2f9ca0",
   "metadata": {
    "execution": {
     "iopub.execute_input": "2022-08-29T14:27:58.365153Z",
     "iopub.status.busy": "2022-08-29T14:27:58.364891Z",
     "iopub.status.idle": "2022-08-29T14:28:00.468083Z",
     "shell.execute_reply": "2022-08-29T14:28:00.467313Z"
    },
    "papermill": {
     "duration": 2.120384,
     "end_time": "2022-08-29T14:28:00.470039",
     "exception": false,
     "start_time": "2022-08-29T14:27:58.349655",
     "status": "completed"
    },
    "tags": []
   },
   "outputs": [],
   "source": [
    "import pickle\n",
    "\n",
    "import numpy as np\n",
    "from scipy.spatial.distance import squareform\n",
    "import pandas as pd\n",
    "import matplotlib.pyplot as plt\n",
    "import seaborn as sns\n",
    "\n",
    "import conf\n",
    "from entity import Gene\n",
    "from correlations import check_pos_def, compare_matrices, correct_corr_mat, adjust_non_pos_def"
   ]
  },
  {
   "cell_type": "markdown",
   "id": "5b96e797",
   "metadata": {
    "papermill": {
     "duration": 0.010671,
     "end_time": "2022-08-29T14:28:00.491810",
     "exception": false,
     "start_time": "2022-08-29T14:28:00.481139",
     "status": "completed"
    },
    "tags": []
   },
   "source": [
    "# Settings"
   ]
  },
  {
   "cell_type": "code",
   "execution_count": 3,
   "id": "4fc1b6a0",
   "metadata": {
    "execution": {
     "iopub.execute_input": "2022-08-29T14:28:00.514057Z",
     "iopub.status.busy": "2022-08-29T14:28:00.513841Z",
     "iopub.status.idle": "2022-08-29T14:28:00.633743Z",
     "shell.execute_reply": "2022-08-29T14:28:00.632787Z"
    },
    "papermill": {
     "duration": 0.134251,
     "end_time": "2022-08-29T14:28:00.636603",
     "exception": false,
     "start_time": "2022-08-29T14:28:00.502352",
     "status": "completed"
    },
    "tags": [
     "parameters"
    ]
   },
   "outputs": [],
   "source": [
    "# a cohort name (it could be something like UK_BIOBANK, etc)\n",
    "COHORT_NAME = None\n",
    "\n",
    "# reference panel such as 1000G or GTEX_V8\n",
    "REFERENCE_PANEL = None\n",
    "\n",
    "# predictions models such as MASHR or ELASTIC_NET\n",
    "EQTL_MODEL = None"
   ]
  },
  {
   "cell_type": "code",
   "execution_count": 4,
   "id": "b42a51e7",
   "metadata": {
    "execution": {
     "iopub.execute_input": "2022-08-29T14:28:00.674573Z",
     "iopub.status.busy": "2022-08-29T14:28:00.674243Z",
     "iopub.status.idle": "2022-08-29T14:28:00.703444Z",
     "shell.execute_reply": "2022-08-29T14:28:00.702596Z"
    },
    "papermill": {
     "duration": 0.051363,
     "end_time": "2022-08-29T14:28:00.705880",
     "exception": false,
     "start_time": "2022-08-29T14:28:00.654517",
     "status": "completed"
    },
    "tags": [
     "injected-parameters"
    ]
   },
   "outputs": [],
   "source": [
    "# Parameters\n",
    "COHORT_NAME = \"phenomexcan_rapid_gwas\"\n",
    "REFERENCE_PANEL = \"GTEX_V8\"\n",
    "EQTL_MODEL = \"MASHR\"\n"
   ]
  },
  {
   "cell_type": "code",
   "execution_count": 5,
   "id": "6dba5c90-40a4-4a62-899e-1711ab4e40bb",
   "metadata": {
    "execution": {
     "iopub.execute_input": "2022-08-29T14:28:00.738538Z",
     "iopub.status.busy": "2022-08-29T14:28:00.738256Z",
     "iopub.status.idle": "2022-08-29T14:28:00.766444Z",
     "shell.execute_reply": "2022-08-29T14:28:00.765780Z"
    },
    "papermill": {
     "duration": 0.04663,
     "end_time": "2022-08-29T14:28:00.768391",
     "exception": false,
     "start_time": "2022-08-29T14:28:00.721761",
     "status": "completed"
    },
    "tags": []
   },
   "outputs": [
    {
     "data": {
      "text/plain": [
       "'Cohort name: phenomexcan_rapid_gwas'"
      ]
     },
     "metadata": {},
     "output_type": "display_data"
    }
   ],
   "source": [
    "assert COHORT_NAME is not None and len(COHORT_NAME) > 0, \"A cohort name must be given\"\n",
    "\n",
    "COHORT_NAME = COHORT_NAME.lower()\n",
    "display(f\"Cohort name: {COHORT_NAME}\")"
   ]
  },
  {
   "cell_type": "code",
   "execution_count": 6,
   "id": "90be4359-19db-4c2d-a3ca-202674476164",
   "metadata": {
    "execution": {
     "iopub.execute_input": "2022-08-29T14:28:00.796200Z",
     "iopub.status.busy": "2022-08-29T14:28:00.796005Z",
     "iopub.status.idle": "2022-08-29T14:28:00.813374Z",
     "shell.execute_reply": "2022-08-29T14:28:00.812683Z"
    },
    "papermill": {
     "duration": 0.032697,
     "end_time": "2022-08-29T14:28:00.814888",
     "exception": false,
     "start_time": "2022-08-29T14:28:00.782191",
     "status": "completed"
    },
    "tags": []
   },
   "outputs": [
    {
     "data": {
      "text/plain": [
       "'Reference panel: GTEX_V8'"
      ]
     },
     "metadata": {},
     "output_type": "display_data"
    }
   ],
   "source": [
    "assert (\n",
    "    REFERENCE_PANEL is not None and len(REFERENCE_PANEL) > 0\n",
    "), \"A reference panel must be given\"\n",
    "\n",
    "display(f\"Reference panel: {REFERENCE_PANEL}\")"
   ]
  },
  {
   "cell_type": "code",
   "execution_count": 7,
   "id": "d959f3f4-8f7b-4313-b3b1-37606e7250bf",
   "metadata": {
    "execution": {
     "iopub.execute_input": "2022-08-29T14:28:00.837381Z",
     "iopub.status.busy": "2022-08-29T14:28:00.837188Z",
     "iopub.status.idle": "2022-08-29T14:28:00.854285Z",
     "shell.execute_reply": "2022-08-29T14:28:00.853607Z"
    },
    "papermill": {
     "duration": 0.030196,
     "end_time": "2022-08-29T14:28:00.855799",
     "exception": false,
     "start_time": "2022-08-29T14:28:00.825603",
     "status": "completed"
    },
    "tags": []
   },
   "outputs": [
    {
     "data": {
      "text/plain": [
       "'eQTL model: MASHR)'"
      ]
     },
     "metadata": {},
     "output_type": "display_data"
    }
   ],
   "source": [
    "assert (\n",
    "    EQTL_MODEL is not None and len(EQTL_MODEL) > 0\n",
    "), \"A prediction/eQTL model must be given\"\n",
    "\n",
    "display(f\"eQTL model: {EQTL_MODEL})\")"
   ]
  },
  {
   "cell_type": "code",
   "execution_count": 8,
   "id": "ac0c0705-90e4-42f8-8298-a457c7e778ff",
   "metadata": {
    "execution": {
     "iopub.execute_input": "2022-08-29T14:28:00.879011Z",
     "iopub.status.busy": "2022-08-29T14:28:00.878819Z",
     "iopub.status.idle": "2022-08-29T14:28:00.898354Z",
     "shell.execute_reply": "2022-08-29T14:28:00.897725Z"
    },
    "papermill": {
     "duration": 0.033376,
     "end_time": "2022-08-29T14:28:00.899909",
     "exception": false,
     "start_time": "2022-08-29T14:28:00.866533",
     "status": "completed"
    },
    "tags": []
   },
   "outputs": [
    {
     "data": {
      "text/plain": [
       "'Using output dir base: /project/ritchie20/projects/phenoplier/base/results/gls/gene_corrs/cohorts/phenomexcan_rapid_gwas/gtex_v8/mashr'"
      ]
     },
     "metadata": {},
     "output_type": "display_data"
    }
   ],
   "source": [
    "OUTPUT_DIR_BASE = (\n",
    "    conf.RESULTS[\"GLS\"]\n",
    "    / \"gene_corrs\"\n",
    "    / \"cohorts\"\n",
    "    / COHORT_NAME\n",
    "    / REFERENCE_PANEL.lower()\n",
    "    / EQTL_MODEL.lower()\n",
    ")\n",
    "OUTPUT_DIR_BASE.mkdir(parents=True, exist_ok=True)\n",
    "\n",
    "display(f\"Using output dir base: {OUTPUT_DIR_BASE}\")"
   ]
  },
  {
   "cell_type": "code",
   "execution_count": 9,
   "id": "1afd50f7",
   "metadata": {
    "execution": {
     "iopub.execute_input": "2022-08-29T14:28:00.922800Z",
     "iopub.status.busy": "2022-08-29T14:28:00.922601Z",
     "iopub.status.idle": "2022-08-29T14:28:00.940294Z",
     "shell.execute_reply": "2022-08-29T14:28:00.939528Z"
    },
    "papermill": {
     "duration": 0.030807,
     "end_time": "2022-08-29T14:28:00.941824",
     "exception": false,
     "start_time": "2022-08-29T14:28:00.911017",
     "status": "completed"
    },
    "tags": []
   },
   "outputs": [
    {
     "data": {
      "text/plain": [
       "'Gene correlations input dir: /project/ritchie20/projects/phenoplier/base/results/gls/gene_corrs/cohorts/phenomexcan_rapid_gwas/gtex_v8/mashr/by_chr'"
      ]
     },
     "metadata": {},
     "output_type": "display_data"
    }
   ],
   "source": [
    "INPUT_DIR = OUTPUT_DIR_BASE / \"by_chr\"\n",
    "\n",
    "display(f\"Gene correlations input dir: {INPUT_DIR}\")\n",
    "assert INPUT_DIR.exists()"
   ]
  },
  {
   "cell_type": "markdown",
   "id": "99ccb166",
   "metadata": {
    "papermill": {
     "duration": 0.011273,
     "end_time": "2022-08-29T14:28:00.964122",
     "exception": false,
     "start_time": "2022-08-29T14:28:00.952849",
     "status": "completed"
    },
    "tags": []
   },
   "source": [
    "# Load data"
   ]
  },
  {
   "cell_type": "markdown",
   "id": "028bdd42",
   "metadata": {
    "papermill": {
     "duration": 0.01094,
     "end_time": "2022-08-29T14:28:00.986244",
     "exception": false,
     "start_time": "2022-08-29T14:28:00.975304",
     "status": "completed"
    },
    "tags": []
   },
   "source": [
    "## Gene correlations"
   ]
  },
  {
   "cell_type": "code",
   "execution_count": 10,
   "id": "04624465",
   "metadata": {
    "execution": {
     "iopub.execute_input": "2022-08-29T14:28:01.009412Z",
     "iopub.status.busy": "2022-08-29T14:28:01.009220Z",
     "iopub.status.idle": "2022-08-29T14:28:01.025860Z",
     "shell.execute_reply": "2022-08-29T14:28:01.025358Z"
    },
    "papermill": {
     "duration": 0.029998,
     "end_time": "2022-08-29T14:28:01.027379",
     "exception": false,
     "start_time": "2022-08-29T14:28:00.997381",
     "status": "completed"
    },
    "tags": []
   },
   "outputs": [],
   "source": [
    "all_gene_corr_files = list(INPUT_DIR.glob(\"gene_corrs-chr*.pkl\"))"
   ]
  },
  {
   "cell_type": "code",
   "execution_count": 11,
   "id": "be5869e7-d0e4-4b8f-8c6d-a1c6a9419fe2",
   "metadata": {
    "execution": {
     "iopub.execute_input": "2022-08-29T14:28:01.050738Z",
     "iopub.status.busy": "2022-08-29T14:28:01.050538Z",
     "iopub.status.idle": "2022-08-29T14:28:01.066242Z",
     "shell.execute_reply": "2022-08-29T14:28:01.065749Z"
    },
    "papermill": {
     "duration": 0.029398,
     "end_time": "2022-08-29T14:28:01.067761",
     "exception": false,
     "start_time": "2022-08-29T14:28:01.038363",
     "status": "completed"
    },
    "tags": []
   },
   "outputs": [],
   "source": [
    "# sort by chromosome\n",
    "all_gene_corr_files = sorted(\n",
    "    all_gene_corr_files, key=lambda x: int(x.name.split(\"-chr\")[1].split(\".pkl\")[0])\n",
    ")"
   ]
  },
  {
   "cell_type": "code",
   "execution_count": 12,
   "id": "7d1168f5",
   "metadata": {
    "execution": {
     "iopub.execute_input": "2022-08-29T14:28:01.091385Z",
     "iopub.status.busy": "2022-08-29T14:28:01.091194Z",
     "iopub.status.idle": "2022-08-29T14:28:01.108579Z",
     "shell.execute_reply": "2022-08-29T14:28:01.107788Z"
    },
    "papermill": {
     "duration": 0.031027,
     "end_time": "2022-08-29T14:28:01.110085",
     "exception": false,
     "start_time": "2022-08-29T14:28:01.079058",
     "status": "completed"
    },
    "tags": []
   },
   "outputs": [
    {
     "data": {
      "text/plain": [
       "22"
      ]
     },
     "execution_count": 12,
     "metadata": {},
     "output_type": "execute_result"
    }
   ],
   "source": [
    "len(all_gene_corr_files)"
   ]
  },
  {
   "cell_type": "code",
   "execution_count": 13,
   "id": "39364170",
   "metadata": {
    "execution": {
     "iopub.execute_input": "2022-08-29T14:28:01.133215Z",
     "iopub.status.busy": "2022-08-29T14:28:01.133023Z",
     "iopub.status.idle": "2022-08-29T14:28:01.150273Z",
     "shell.execute_reply": "2022-08-29T14:28:01.149754Z"
    },
    "papermill": {
     "duration": 0.030736,
     "end_time": "2022-08-29T14:28:01.151700",
     "exception": false,
     "start_time": "2022-08-29T14:28:01.120964",
     "status": "completed"
    },
    "tags": []
   },
   "outputs": [
    {
     "data": {
      "text/plain": [
       "[PosixPath('/project/ritchie20/projects/phenoplier/base/results/gls/gene_corrs/cohorts/phenomexcan_rapid_gwas/gtex_v8/mashr/by_chr/gene_corrs-chr1.pkl'),\n",
       " PosixPath('/project/ritchie20/projects/phenoplier/base/results/gls/gene_corrs/cohorts/phenomexcan_rapid_gwas/gtex_v8/mashr/by_chr/gene_corrs-chr2.pkl'),\n",
       " PosixPath('/project/ritchie20/projects/phenoplier/base/results/gls/gene_corrs/cohorts/phenomexcan_rapid_gwas/gtex_v8/mashr/by_chr/gene_corrs-chr3.pkl'),\n",
       " PosixPath('/project/ritchie20/projects/phenoplier/base/results/gls/gene_corrs/cohorts/phenomexcan_rapid_gwas/gtex_v8/mashr/by_chr/gene_corrs-chr4.pkl'),\n",
       " PosixPath('/project/ritchie20/projects/phenoplier/base/results/gls/gene_corrs/cohorts/phenomexcan_rapid_gwas/gtex_v8/mashr/by_chr/gene_corrs-chr5.pkl'),\n",
       " PosixPath('/project/ritchie20/projects/phenoplier/base/results/gls/gene_corrs/cohorts/phenomexcan_rapid_gwas/gtex_v8/mashr/by_chr/gene_corrs-chr6.pkl'),\n",
       " PosixPath('/project/ritchie20/projects/phenoplier/base/results/gls/gene_corrs/cohorts/phenomexcan_rapid_gwas/gtex_v8/mashr/by_chr/gene_corrs-chr7.pkl'),\n",
       " PosixPath('/project/ritchie20/projects/phenoplier/base/results/gls/gene_corrs/cohorts/phenomexcan_rapid_gwas/gtex_v8/mashr/by_chr/gene_corrs-chr8.pkl'),\n",
       " PosixPath('/project/ritchie20/projects/phenoplier/base/results/gls/gene_corrs/cohorts/phenomexcan_rapid_gwas/gtex_v8/mashr/by_chr/gene_corrs-chr9.pkl'),\n",
       " PosixPath('/project/ritchie20/projects/phenoplier/base/results/gls/gene_corrs/cohorts/phenomexcan_rapid_gwas/gtex_v8/mashr/by_chr/gene_corrs-chr10.pkl'),\n",
       " PosixPath('/project/ritchie20/projects/phenoplier/base/results/gls/gene_corrs/cohorts/phenomexcan_rapid_gwas/gtex_v8/mashr/by_chr/gene_corrs-chr11.pkl'),\n",
       " PosixPath('/project/ritchie20/projects/phenoplier/base/results/gls/gene_corrs/cohorts/phenomexcan_rapid_gwas/gtex_v8/mashr/by_chr/gene_corrs-chr12.pkl'),\n",
       " PosixPath('/project/ritchie20/projects/phenoplier/base/results/gls/gene_corrs/cohorts/phenomexcan_rapid_gwas/gtex_v8/mashr/by_chr/gene_corrs-chr13.pkl'),\n",
       " PosixPath('/project/ritchie20/projects/phenoplier/base/results/gls/gene_corrs/cohorts/phenomexcan_rapid_gwas/gtex_v8/mashr/by_chr/gene_corrs-chr14.pkl'),\n",
       " PosixPath('/project/ritchie20/projects/phenoplier/base/results/gls/gene_corrs/cohorts/phenomexcan_rapid_gwas/gtex_v8/mashr/by_chr/gene_corrs-chr15.pkl'),\n",
       " PosixPath('/project/ritchie20/projects/phenoplier/base/results/gls/gene_corrs/cohorts/phenomexcan_rapid_gwas/gtex_v8/mashr/by_chr/gene_corrs-chr16.pkl'),\n",
       " PosixPath('/project/ritchie20/projects/phenoplier/base/results/gls/gene_corrs/cohorts/phenomexcan_rapid_gwas/gtex_v8/mashr/by_chr/gene_corrs-chr17.pkl'),\n",
       " PosixPath('/project/ritchie20/projects/phenoplier/base/results/gls/gene_corrs/cohorts/phenomexcan_rapid_gwas/gtex_v8/mashr/by_chr/gene_corrs-chr18.pkl'),\n",
       " PosixPath('/project/ritchie20/projects/phenoplier/base/results/gls/gene_corrs/cohorts/phenomexcan_rapid_gwas/gtex_v8/mashr/by_chr/gene_corrs-chr19.pkl'),\n",
       " PosixPath('/project/ritchie20/projects/phenoplier/base/results/gls/gene_corrs/cohorts/phenomexcan_rapid_gwas/gtex_v8/mashr/by_chr/gene_corrs-chr20.pkl'),\n",
       " PosixPath('/project/ritchie20/projects/phenoplier/base/results/gls/gene_corrs/cohorts/phenomexcan_rapid_gwas/gtex_v8/mashr/by_chr/gene_corrs-chr21.pkl'),\n",
       " PosixPath('/project/ritchie20/projects/phenoplier/base/results/gls/gene_corrs/cohorts/phenomexcan_rapid_gwas/gtex_v8/mashr/by_chr/gene_corrs-chr22.pkl')]"
      ]
     },
     "execution_count": 13,
     "metadata": {},
     "output_type": "execute_result"
    }
   ],
   "source": [
    "all_gene_corr_files"
   ]
  },
  {
   "cell_type": "code",
   "execution_count": 14,
   "id": "6e48c284",
   "metadata": {
    "execution": {
     "iopub.execute_input": "2022-08-29T14:28:01.175800Z",
     "iopub.status.busy": "2022-08-29T14:28:01.175554Z",
     "iopub.status.idle": "2022-08-29T14:28:01.191388Z",
     "shell.execute_reply": "2022-08-29T14:28:01.190895Z"
    },
    "papermill": {
     "duration": 0.029654,
     "end_time": "2022-08-29T14:28:01.192977",
     "exception": false,
     "start_time": "2022-08-29T14:28:01.163323",
     "status": "completed"
    },
    "tags": []
   },
   "outputs": [],
   "source": [
    "assert len(all_gene_corr_files) == 22"
   ]
  },
  {
   "cell_type": "markdown",
   "id": "99d01a88-2f71-41eb-a423-a17378bbb174",
   "metadata": {
    "papermill": {
     "duration": 0.011375,
     "end_time": "2022-08-29T14:28:01.215715",
     "exception": false,
     "start_time": "2022-08-29T14:28:01.204340",
     "status": "completed"
    },
    "tags": []
   },
   "source": [
    "## Get common genes"
   ]
  },
  {
   "cell_type": "code",
   "execution_count": 15,
   "id": "6a5e95f0-eeab-4716-8982-b1dbbd8763d8",
   "metadata": {
    "execution": {
     "iopub.execute_input": "2022-08-29T14:28:01.240053Z",
     "iopub.status.busy": "2022-08-29T14:28:01.239861Z",
     "iopub.status.idle": "2022-08-29T14:28:01.314030Z",
     "shell.execute_reply": "2022-08-29T14:28:01.313392Z"
    },
    "papermill": {
     "duration": 0.088542,
     "end_time": "2022-08-29T14:28:01.315845",
     "exception": false,
     "start_time": "2022-08-29T14:28:01.227303",
     "status": "completed"
    },
    "tags": []
   },
   "outputs": [],
   "source": [
    "gene_ids = set()\n",
    "for f in all_gene_corr_files:\n",
    "    chr_genes = pd.read_pickle(f).index.tolist()\n",
    "    gene_ids.update(chr_genes)"
   ]
  },
  {
   "cell_type": "code",
   "execution_count": 16,
   "id": "81ca7c6e-69c4-48c4-b44f-ec9a2b8bb527",
   "metadata": {
    "execution": {
     "iopub.execute_input": "2022-08-29T14:28:01.340256Z",
     "iopub.status.busy": "2022-08-29T14:28:01.340058Z",
     "iopub.status.idle": "2022-08-29T14:28:01.359662Z",
     "shell.execute_reply": "2022-08-29T14:28:01.359120Z"
    },
    "papermill": {
     "duration": 0.03335,
     "end_time": "2022-08-29T14:28:01.361073",
     "exception": false,
     "start_time": "2022-08-29T14:28:01.327723",
     "status": "completed"
    },
    "tags": []
   },
   "outputs": [
    {
     "data": {
      "text/plain": [
       "6428"
      ]
     },
     "metadata": {},
     "output_type": "display_data"
    }
   ],
   "source": [
    "display(len(gene_ids))"
   ]
  },
  {
   "cell_type": "code",
   "execution_count": 17,
   "id": "5e8a7f17-c84b-4d71-bf0d-11116a66084e",
   "metadata": {
    "execution": {
     "iopub.execute_input": "2022-08-29T14:28:01.385706Z",
     "iopub.status.busy": "2022-08-29T14:28:01.385504Z",
     "iopub.status.idle": "2022-08-29T14:28:01.408727Z",
     "shell.execute_reply": "2022-08-29T14:28:01.408224Z"
    },
    "papermill": {
     "duration": 0.037691,
     "end_time": "2022-08-29T14:28:01.410144",
     "exception": false,
     "start_time": "2022-08-29T14:28:01.372453",
     "status": "completed"
    },
    "tags": []
   },
   "outputs": [
    {
     "data": {
      "text/plain": [
       "['ENSG00000000419',\n",
       " 'ENSG00000000938',\n",
       " 'ENSG00000000971',\n",
       " 'ENSG00000001084',\n",
       " 'ENSG00000001167']"
      ]
     },
     "execution_count": 17,
     "metadata": {},
     "output_type": "execute_result"
    }
   ],
   "source": [
    "sorted(list(gene_ids))[:5]"
   ]
  },
  {
   "cell_type": "markdown",
   "id": "afb94d22-07be-4b67-b448-1d15d787e882",
   "metadata": {
    "papermill": {
     "duration": 0.011544,
     "end_time": "2022-08-29T14:28:01.432967",
     "exception": false,
     "start_time": "2022-08-29T14:28:01.421423",
     "status": "completed"
    },
    "tags": []
   },
   "source": [
    "## Gene info"
   ]
  },
  {
   "cell_type": "code",
   "execution_count": 18,
   "id": "66346539-e969-46dd-997d-c1f404646caa",
   "metadata": {
    "execution": {
     "iopub.execute_input": "2022-08-29T14:28:01.457660Z",
     "iopub.status.busy": "2022-08-29T14:28:01.457447Z",
     "iopub.status.idle": "2022-08-29T14:28:01.477967Z",
     "shell.execute_reply": "2022-08-29T14:28:01.477360Z"
    },
    "papermill": {
     "duration": 0.03447,
     "end_time": "2022-08-29T14:28:01.479514",
     "exception": false,
     "start_time": "2022-08-29T14:28:01.445044",
     "status": "completed"
    },
    "tags": []
   },
   "outputs": [],
   "source": [
    "genes_info = pd.read_pickle(OUTPUT_DIR_BASE / \"genes_info.pkl\")"
   ]
  },
  {
   "cell_type": "code",
   "execution_count": 19,
   "id": "6cf6e7f6-5c5c-4ee5-a3d6-1fab3f88fd20",
   "metadata": {
    "execution": {
     "iopub.execute_input": "2022-08-29T14:28:01.504169Z",
     "iopub.status.busy": "2022-08-29T14:28:01.503976Z",
     "iopub.status.idle": "2022-08-29T14:28:01.524417Z",
     "shell.execute_reply": "2022-08-29T14:28:01.523924Z"
    },
    "papermill": {
     "duration": 0.034258,
     "end_time": "2022-08-29T14:28:01.525837",
     "exception": false,
     "start_time": "2022-08-29T14:28:01.491579",
     "status": "completed"
    },
    "tags": []
   },
   "outputs": [
    {
     "data": {
      "text/plain": [
       "(6428, 7)"
      ]
     },
     "execution_count": 19,
     "metadata": {},
     "output_type": "execute_result"
    }
   ],
   "source": [
    "genes_info.shape"
   ]
  },
  {
   "cell_type": "code",
   "execution_count": 20,
   "id": "c0c00e56-a168-4502-bad1-178fa736b055",
   "metadata": {
    "execution": {
     "iopub.execute_input": "2022-08-29T14:28:01.550630Z",
     "iopub.status.busy": "2022-08-29T14:28:01.550416Z",
     "iopub.status.idle": "2022-08-29T14:28:01.576083Z",
     "shell.execute_reply": "2022-08-29T14:28:01.575590Z"
    },
    "papermill": {
     "duration": 0.03949,
     "end_time": "2022-08-29T14:28:01.577537",
     "exception": false,
     "start_time": "2022-08-29T14:28:01.538047",
     "status": "completed"
    },
    "tags": []
   },
   "outputs": [
    {
     "data": {
      "text/html": [
       "<div>\n",
       "<style scoped>\n",
       "    .dataframe tbody tr th:only-of-type {\n",
       "        vertical-align: middle;\n",
       "    }\n",
       "\n",
       "    .dataframe tbody tr th {\n",
       "        vertical-align: top;\n",
       "    }\n",
       "\n",
       "    .dataframe thead th {\n",
       "        text-align: right;\n",
       "    }\n",
       "</style>\n",
       "<table border=\"1\" class=\"dataframe\">\n",
       "  <thead>\n",
       "    <tr style=\"text-align: right;\">\n",
       "      <th></th>\n",
       "      <th>name</th>\n",
       "      <th>id</th>\n",
       "      <th>chr</th>\n",
       "      <th>band</th>\n",
       "      <th>start_position</th>\n",
       "      <th>end_position</th>\n",
       "      <th>gene_length</th>\n",
       "    </tr>\n",
       "  </thead>\n",
       "  <tbody>\n",
       "    <tr>\n",
       "      <th>0</th>\n",
       "      <td>ZNF605</td>\n",
       "      <td>ENSG00000196458</td>\n",
       "      <td>12</td>\n",
       "      <td>12q24.33</td>\n",
       "      <td>132918306</td>\n",
       "      <td>132956306</td>\n",
       "      <td>38000</td>\n",
       "    </tr>\n",
       "    <tr>\n",
       "      <th>1</th>\n",
       "      <td>FBP1</td>\n",
       "      <td>ENSG00000165140</td>\n",
       "      <td>9</td>\n",
       "      <td>9q22.32</td>\n",
       "      <td>94603133</td>\n",
       "      <td>94640249</td>\n",
       "      <td>37116</td>\n",
       "    </tr>\n",
       "    <tr>\n",
       "      <th>2</th>\n",
       "      <td>TAL1</td>\n",
       "      <td>ENSG00000162367</td>\n",
       "      <td>1</td>\n",
       "      <td>1p33</td>\n",
       "      <td>47216290</td>\n",
       "      <td>47232220</td>\n",
       "      <td>15930</td>\n",
       "    </tr>\n",
       "    <tr>\n",
       "      <th>3</th>\n",
       "      <td>MPV17</td>\n",
       "      <td>ENSG00000115204</td>\n",
       "      <td>2</td>\n",
       "      <td>2p23.3</td>\n",
       "      <td>27309492</td>\n",
       "      <td>27325680</td>\n",
       "      <td>16188</td>\n",
       "    </tr>\n",
       "    <tr>\n",
       "      <th>4</th>\n",
       "      <td>PTPRN</td>\n",
       "      <td>ENSG00000054356</td>\n",
       "      <td>2</td>\n",
       "      <td>2q35</td>\n",
       "      <td>219289623</td>\n",
       "      <td>219309648</td>\n",
       "      <td>20025</td>\n",
       "    </tr>\n",
       "  </tbody>\n",
       "</table>\n",
       "</div>"
      ],
      "text/plain": [
       "     name               id  chr      band  start_position  end_position  \\\n",
       "0  ZNF605  ENSG00000196458   12  12q24.33       132918306     132956306   \n",
       "1    FBP1  ENSG00000165140    9   9q22.32        94603133      94640249   \n",
       "2    TAL1  ENSG00000162367    1      1p33        47216290      47232220   \n",
       "3   MPV17  ENSG00000115204    2    2p23.3        27309492      27325680   \n",
       "4   PTPRN  ENSG00000054356    2      2q35       219289623     219309648   \n",
       "\n",
       "   gene_length  \n",
       "0        38000  \n",
       "1        37116  \n",
       "2        15930  \n",
       "3        16188  \n",
       "4        20025  "
      ]
     },
     "execution_count": 20,
     "metadata": {},
     "output_type": "execute_result"
    }
   ],
   "source": [
    "genes_info.head()"
   ]
  },
  {
   "cell_type": "code",
   "execution_count": 21,
   "id": "c6f52a23-0e0c-4def-8ebe-714793743f4e",
   "metadata": {
    "execution": {
     "iopub.execute_input": "2022-08-29T14:28:01.602686Z",
     "iopub.status.busy": "2022-08-29T14:28:01.602485Z",
     "iopub.status.idle": "2022-08-29T14:28:01.624179Z",
     "shell.execute_reply": "2022-08-29T14:28:01.623688Z"
    },
    "papermill": {
     "duration": 0.036054,
     "end_time": "2022-08-29T14:28:01.625707",
     "exception": false,
     "start_time": "2022-08-29T14:28:01.589653",
     "status": "completed"
    },
    "tags": []
   },
   "outputs": [],
   "source": [
    "# keep genes in correlation matrices only\n",
    "genes_info = genes_info[genes_info[\"id\"].isin(gene_ids)]"
   ]
  },
  {
   "cell_type": "code",
   "execution_count": 22,
   "id": "19cde9f2-0cad-4b4e-a409-0cff052cc77c",
   "metadata": {
    "execution": {
     "iopub.execute_input": "2022-08-29T14:28:01.651375Z",
     "iopub.status.busy": "2022-08-29T14:28:01.651182Z",
     "iopub.status.idle": "2022-08-29T14:28:01.672398Z",
     "shell.execute_reply": "2022-08-29T14:28:01.671906Z"
    },
    "papermill": {
     "duration": 0.035439,
     "end_time": "2022-08-29T14:28:01.673812",
     "exception": false,
     "start_time": "2022-08-29T14:28:01.638373",
     "status": "completed"
    },
    "tags": []
   },
   "outputs": [
    {
     "data": {
      "text/plain": [
       "(6428, 7)"
      ]
     },
     "execution_count": 22,
     "metadata": {},
     "output_type": "execute_result"
    }
   ],
   "source": [
    "genes_info.shape"
   ]
  },
  {
   "cell_type": "code",
   "execution_count": 23,
   "id": "f9e52a95-4c6e-4ce6-ae1d-df635d5dbe47",
   "metadata": {
    "execution": {
     "iopub.execute_input": "2022-08-29T14:28:01.698423Z",
     "iopub.status.busy": "2022-08-29T14:28:01.698230Z",
     "iopub.status.idle": "2022-08-29T14:28:01.717661Z",
     "shell.execute_reply": "2022-08-29T14:28:01.717162Z"
    },
    "papermill": {
     "duration": 0.033611,
     "end_time": "2022-08-29T14:28:01.719174",
     "exception": false,
     "start_time": "2022-08-29T14:28:01.685563",
     "status": "completed"
    },
    "tags": []
   },
   "outputs": [],
   "source": [
    "assert not genes_info.isna().any(None)"
   ]
  },
  {
   "cell_type": "code",
   "execution_count": 24,
   "id": "90028a9b-781e-46c7-97b8-9e1676e682d4",
   "metadata": {
    "execution": {
     "iopub.execute_input": "2022-08-29T14:28:01.743909Z",
     "iopub.status.busy": "2022-08-29T14:28:01.743715Z",
     "iopub.status.idle": "2022-08-29T14:28:01.763536Z",
     "shell.execute_reply": "2022-08-29T14:28:01.763040Z"
    },
    "papermill": {
     "duration": 0.033985,
     "end_time": "2022-08-29T14:28:01.765023",
     "exception": false,
     "start_time": "2022-08-29T14:28:01.731038",
     "status": "completed"
    },
    "tags": []
   },
   "outputs": [
    {
     "data": {
      "text/plain": [
       "name              object\n",
       "id                object\n",
       "chr                int64\n",
       "band              object\n",
       "start_position     int64\n",
       "end_position       int64\n",
       "gene_length        int64\n",
       "dtype: object"
      ]
     },
     "execution_count": 24,
     "metadata": {},
     "output_type": "execute_result"
    }
   ],
   "source": [
    "genes_info.dtypes"
   ]
  },
  {
   "cell_type": "code",
   "execution_count": 25,
   "id": "adb6d5ce-d010-41f8-bb63-7b5f66bf2c51",
   "metadata": {
    "execution": {
     "iopub.execute_input": "2022-08-29T14:28:01.790633Z",
     "iopub.status.busy": "2022-08-29T14:28:01.790433Z",
     "iopub.status.idle": "2022-08-29T14:28:01.814942Z",
     "shell.execute_reply": "2022-08-29T14:28:01.814141Z"
    },
    "papermill": {
     "duration": 0.039184,
     "end_time": "2022-08-29T14:28:01.816486",
     "exception": false,
     "start_time": "2022-08-29T14:28:01.777302",
     "status": "completed"
    },
    "tags": []
   },
   "outputs": [
    {
     "data": {
      "text/html": [
       "<div>\n",
       "<style scoped>\n",
       "    .dataframe tbody tr th:only-of-type {\n",
       "        vertical-align: middle;\n",
       "    }\n",
       "\n",
       "    .dataframe tbody tr th {\n",
       "        vertical-align: top;\n",
       "    }\n",
       "\n",
       "    .dataframe thead th {\n",
       "        text-align: right;\n",
       "    }\n",
       "</style>\n",
       "<table border=\"1\" class=\"dataframe\">\n",
       "  <thead>\n",
       "    <tr style=\"text-align: right;\">\n",
       "      <th></th>\n",
       "      <th>name</th>\n",
       "      <th>id</th>\n",
       "      <th>chr</th>\n",
       "      <th>band</th>\n",
       "      <th>start_position</th>\n",
       "      <th>end_position</th>\n",
       "      <th>gene_length</th>\n",
       "    </tr>\n",
       "  </thead>\n",
       "  <tbody>\n",
       "    <tr>\n",
       "      <th>0</th>\n",
       "      <td>ZNF605</td>\n",
       "      <td>ENSG00000196458</td>\n",
       "      <td>12</td>\n",
       "      <td>12q24.33</td>\n",
       "      <td>132918306</td>\n",
       "      <td>132956306</td>\n",
       "      <td>38000</td>\n",
       "    </tr>\n",
       "    <tr>\n",
       "      <th>1</th>\n",
       "      <td>FBP1</td>\n",
       "      <td>ENSG00000165140</td>\n",
       "      <td>9</td>\n",
       "      <td>9q22.32</td>\n",
       "      <td>94603133</td>\n",
       "      <td>94640249</td>\n",
       "      <td>37116</td>\n",
       "    </tr>\n",
       "    <tr>\n",
       "      <th>2</th>\n",
       "      <td>TAL1</td>\n",
       "      <td>ENSG00000162367</td>\n",
       "      <td>1</td>\n",
       "      <td>1p33</td>\n",
       "      <td>47216290</td>\n",
       "      <td>47232220</td>\n",
       "      <td>15930</td>\n",
       "    </tr>\n",
       "    <tr>\n",
       "      <th>3</th>\n",
       "      <td>MPV17</td>\n",
       "      <td>ENSG00000115204</td>\n",
       "      <td>2</td>\n",
       "      <td>2p23.3</td>\n",
       "      <td>27309492</td>\n",
       "      <td>27325680</td>\n",
       "      <td>16188</td>\n",
       "    </tr>\n",
       "    <tr>\n",
       "      <th>4</th>\n",
       "      <td>PTPRN</td>\n",
       "      <td>ENSG00000054356</td>\n",
       "      <td>2</td>\n",
       "      <td>2q35</td>\n",
       "      <td>219289623</td>\n",
       "      <td>219309648</td>\n",
       "      <td>20025</td>\n",
       "    </tr>\n",
       "  </tbody>\n",
       "</table>\n",
       "</div>"
      ],
      "text/plain": [
       "     name               id  chr      band  start_position  end_position  \\\n",
       "0  ZNF605  ENSG00000196458   12  12q24.33       132918306     132956306   \n",
       "1    FBP1  ENSG00000165140    9   9q22.32        94603133      94640249   \n",
       "2    TAL1  ENSG00000162367    1      1p33        47216290      47232220   \n",
       "3   MPV17  ENSG00000115204    2    2p23.3        27309492      27325680   \n",
       "4   PTPRN  ENSG00000054356    2      2q35       219289623     219309648   \n",
       "\n",
       "   gene_length  \n",
       "0        38000  \n",
       "1        37116  \n",
       "2        15930  \n",
       "3        16188  \n",
       "4        20025  "
      ]
     },
     "execution_count": 25,
     "metadata": {},
     "output_type": "execute_result"
    }
   ],
   "source": [
    "genes_info.head()"
   ]
  },
  {
   "cell_type": "markdown",
   "id": "0bc01310-5d9c-4355-8064-b67c5a22311c",
   "metadata": {
    "papermill": {
     "duration": 0.01239,
     "end_time": "2022-08-29T14:28:01.841819",
     "exception": false,
     "start_time": "2022-08-29T14:28:01.829429",
     "status": "completed"
    },
    "tags": []
   },
   "source": [
    "# Create full correlation matrix"
   ]
  },
  {
   "cell_type": "code",
   "execution_count": 26,
   "id": "fad655cb-e830-496d-8ae1-bd9088623515",
   "metadata": {
    "execution": {
     "iopub.execute_input": "2022-08-29T14:28:01.867972Z",
     "iopub.status.busy": "2022-08-29T14:28:01.867781Z",
     "iopub.status.idle": "2022-08-29T14:28:01.896490Z",
     "shell.execute_reply": "2022-08-29T14:28:01.895996Z"
    },
    "papermill": {
     "duration": 0.043308,
     "end_time": "2022-08-29T14:28:01.898078",
     "exception": false,
     "start_time": "2022-08-29T14:28:01.854770",
     "status": "completed"
    },
    "tags": []
   },
   "outputs": [],
   "source": [
    "genes_info = genes_info.sort_values([\"chr\", \"start_position\"])"
   ]
  },
  {
   "cell_type": "code",
   "execution_count": 27,
   "id": "3d93727c-e045-434b-99ec-2bfc661003f4",
   "metadata": {
    "execution": {
     "iopub.execute_input": "2022-08-29T14:28:01.925364Z",
     "iopub.status.busy": "2022-08-29T14:28:01.925172Z",
     "iopub.status.idle": "2022-08-29T14:28:01.956794Z",
     "shell.execute_reply": "2022-08-29T14:28:01.956288Z"
    },
    "papermill": {
     "duration": 0.047379,
     "end_time": "2022-08-29T14:28:01.958199",
     "exception": false,
     "start_time": "2022-08-29T14:28:01.910820",
     "status": "completed"
    },
    "tags": []
   },
   "outputs": [
    {
     "data": {
      "text/html": [
       "<div>\n",
       "<style scoped>\n",
       "    .dataframe tbody tr th:only-of-type {\n",
       "        vertical-align: middle;\n",
       "    }\n",
       "\n",
       "    .dataframe tbody tr th {\n",
       "        vertical-align: top;\n",
       "    }\n",
       "\n",
       "    .dataframe thead th {\n",
       "        text-align: right;\n",
       "    }\n",
       "</style>\n",
       "<table border=\"1\" class=\"dataframe\">\n",
       "  <thead>\n",
       "    <tr style=\"text-align: right;\">\n",
       "      <th></th>\n",
       "      <th>name</th>\n",
       "      <th>id</th>\n",
       "      <th>chr</th>\n",
       "      <th>band</th>\n",
       "      <th>start_position</th>\n",
       "      <th>end_position</th>\n",
       "      <th>gene_length</th>\n",
       "    </tr>\n",
       "  </thead>\n",
       "  <tbody>\n",
       "    <tr>\n",
       "      <th>2860</th>\n",
       "      <td>NOC2L</td>\n",
       "      <td>ENSG00000188976</td>\n",
       "      <td>1</td>\n",
       "      <td>1p36.33</td>\n",
       "      <td>944203</td>\n",
       "      <td>959309</td>\n",
       "      <td>15106</td>\n",
       "    </tr>\n",
       "    <tr>\n",
       "      <th>2380</th>\n",
       "      <td>HES4</td>\n",
       "      <td>ENSG00000188290</td>\n",
       "      <td>1</td>\n",
       "      <td>1p36.33</td>\n",
       "      <td>998962</td>\n",
       "      <td>1000172</td>\n",
       "      <td>1210</td>\n",
       "    </tr>\n",
       "    <tr>\n",
       "      <th>2225</th>\n",
       "      <td>ISG15</td>\n",
       "      <td>ENSG00000187608</td>\n",
       "      <td>1</td>\n",
       "      <td>1p36.33</td>\n",
       "      <td>1001138</td>\n",
       "      <td>1014540</td>\n",
       "      <td>13402</td>\n",
       "    </tr>\n",
       "    <tr>\n",
       "      <th>3545</th>\n",
       "      <td>AGRN</td>\n",
       "      <td>ENSG00000188157</td>\n",
       "      <td>1</td>\n",
       "      <td>1p36.33</td>\n",
       "      <td>1020120</td>\n",
       "      <td>1056118</td>\n",
       "      <td>35998</td>\n",
       "    </tr>\n",
       "    <tr>\n",
       "      <th>1969</th>\n",
       "      <td>TNFRSF18</td>\n",
       "      <td>ENSG00000186891</td>\n",
       "      <td>1</td>\n",
       "      <td>1p36.33</td>\n",
       "      <td>1203508</td>\n",
       "      <td>1206592</td>\n",
       "      <td>3084</td>\n",
       "    </tr>\n",
       "    <tr>\n",
       "      <th>...</th>\n",
       "      <td>...</td>\n",
       "      <td>...</td>\n",
       "      <td>...</td>\n",
       "      <td>...</td>\n",
       "      <td>...</td>\n",
       "      <td>...</td>\n",
       "      <td>...</td>\n",
       "    </tr>\n",
       "    <tr>\n",
       "      <th>5328</th>\n",
       "      <td>CPT1B</td>\n",
       "      <td>ENSG00000205560</td>\n",
       "      <td>22</td>\n",
       "      <td>22q13.33</td>\n",
       "      <td>50568861</td>\n",
       "      <td>50578465</td>\n",
       "      <td>9604</td>\n",
       "    </tr>\n",
       "    <tr>\n",
       "      <th>4481</th>\n",
       "      <td>CHKB</td>\n",
       "      <td>ENSG00000100288</td>\n",
       "      <td>22</td>\n",
       "      <td>22q13.33</td>\n",
       "      <td>50578949</td>\n",
       "      <td>50601455</td>\n",
       "      <td>22506</td>\n",
       "    </tr>\n",
       "    <tr>\n",
       "      <th>4778</th>\n",
       "      <td>MAPK8IP2</td>\n",
       "      <td>ENSG00000008735</td>\n",
       "      <td>22</td>\n",
       "      <td>22q13.33</td>\n",
       "      <td>50600793</td>\n",
       "      <td>50613981</td>\n",
       "      <td>13188</td>\n",
       "    </tr>\n",
       "    <tr>\n",
       "      <th>582</th>\n",
       "      <td>ARSA</td>\n",
       "      <td>ENSG00000100299</td>\n",
       "      <td>22</td>\n",
       "      <td>22q13.33</td>\n",
       "      <td>50622754</td>\n",
       "      <td>50628173</td>\n",
       "      <td>5419</td>\n",
       "    </tr>\n",
       "    <tr>\n",
       "      <th>1466</th>\n",
       "      <td>SHANK3</td>\n",
       "      <td>ENSG00000251322</td>\n",
       "      <td>22</td>\n",
       "      <td>22q13.33</td>\n",
       "      <td>50674415</td>\n",
       "      <td>50733298</td>\n",
       "      <td>58883</td>\n",
       "    </tr>\n",
       "  </tbody>\n",
       "</table>\n",
       "<p>6428 rows × 7 columns</p>\n",
       "</div>"
      ],
      "text/plain": [
       "          name               id  chr      band  start_position  end_position  \\\n",
       "2860     NOC2L  ENSG00000188976    1   1p36.33          944203        959309   \n",
       "2380      HES4  ENSG00000188290    1   1p36.33          998962       1000172   \n",
       "2225     ISG15  ENSG00000187608    1   1p36.33         1001138       1014540   \n",
       "3545      AGRN  ENSG00000188157    1   1p36.33         1020120       1056118   \n",
       "1969  TNFRSF18  ENSG00000186891    1   1p36.33         1203508       1206592   \n",
       "...        ...              ...  ...       ...             ...           ...   \n",
       "5328     CPT1B  ENSG00000205560   22  22q13.33        50568861      50578465   \n",
       "4481      CHKB  ENSG00000100288   22  22q13.33        50578949      50601455   \n",
       "4778  MAPK8IP2  ENSG00000008735   22  22q13.33        50600793      50613981   \n",
       "582       ARSA  ENSG00000100299   22  22q13.33        50622754      50628173   \n",
       "1466    SHANK3  ENSG00000251322   22  22q13.33        50674415      50733298   \n",
       "\n",
       "      gene_length  \n",
       "2860        15106  \n",
       "2380         1210  \n",
       "2225        13402  \n",
       "3545        35998  \n",
       "1969         3084  \n",
       "...           ...  \n",
       "5328         9604  \n",
       "4481        22506  \n",
       "4778        13188  \n",
       "582          5419  \n",
       "1466        58883  \n",
       "\n",
       "[6428 rows x 7 columns]"
      ]
     },
     "execution_count": 27,
     "metadata": {},
     "output_type": "execute_result"
    }
   ],
   "source": [
    "genes_info"
   ]
  },
  {
   "cell_type": "code",
   "execution_count": 28,
   "id": "1277c7cb-6850-476f-932e-0d166362392c",
   "metadata": {
    "execution": {
     "iopub.execute_input": "2022-08-29T14:28:01.985202Z",
     "iopub.status.busy": "2022-08-29T14:28:01.985010Z",
     "iopub.status.idle": "2022-08-29T14:28:02.007204Z",
     "shell.execute_reply": "2022-08-29T14:28:02.006593Z"
    },
    "papermill": {
     "duration": 0.037506,
     "end_time": "2022-08-29T14:28:02.008770",
     "exception": false,
     "start_time": "2022-08-29T14:28:01.971264",
     "status": "completed"
    },
    "tags": []
   },
   "outputs": [],
   "source": [
    "full_corr_matrix = pd.DataFrame(\n",
    "    np.zeros((genes_info.shape[0], genes_info.shape[0])),\n",
    "    index=genes_info[\"id\"].tolist(),\n",
    "    columns=genes_info[\"id\"].tolist(),\n",
    ")"
   ]
  },
  {
   "cell_type": "code",
   "execution_count": 29,
   "id": "5aa375f4-775a-4dab-80c9-a68a52c69adc",
   "metadata": {
    "execution": {
     "iopub.execute_input": "2022-08-29T14:28:02.036270Z",
     "iopub.status.busy": "2022-08-29T14:28:02.036076Z",
     "iopub.status.idle": "2022-08-29T14:28:02.055128Z",
     "shell.execute_reply": "2022-08-29T14:28:02.054622Z"
    },
    "papermill": {
     "duration": 0.034537,
     "end_time": "2022-08-29T14:28:02.056682",
     "exception": false,
     "start_time": "2022-08-29T14:28:02.022145",
     "status": "completed"
    },
    "tags": []
   },
   "outputs": [],
   "source": [
    "assert full_corr_matrix.index.is_unique & full_corr_matrix.columns.is_unique"
   ]
  },
  {
   "cell_type": "code",
   "execution_count": 30,
   "id": "0afc4716-f607-4634-8a02-5f116fd2c318",
   "metadata": {
    "execution": {
     "iopub.execute_input": "2022-08-29T14:28:02.084053Z",
     "iopub.status.busy": "2022-08-29T14:28:02.083851Z",
     "iopub.status.idle": "2022-08-29T14:28:03.483642Z",
     "shell.execute_reply": "2022-08-29T14:28:03.483088Z"
    },
    "papermill": {
     "duration": 1.415262,
     "end_time": "2022-08-29T14:28:03.485240",
     "exception": false,
     "start_time": "2022-08-29T14:28:02.069978",
     "status": "completed"
    },
    "tags": []
   },
   "outputs": [
    {
     "name": "stdout",
     "output_type": "stream",
     "text": [
      "gene_corrs-chr1.pkl... "
     ]
    },
    {
     "data": {
      "text/plain": [
       "'Number of negative eigenvalues: 0'"
      ]
     },
     "metadata": {},
     "output_type": "display_data"
    },
    {
     "data": {
      "text/plain": [
       "'Negative eigenvalues:\\n[]'"
      ]
     },
     "metadata": {},
     "output_type": "display_data"
    },
    {
     "name": "stdout",
     "output_type": "stream",
     "text": [
      "Works! (statsmodels.GLS)\n",
      "Works!\n",
      "all good.\n",
      "\n",
      "\n",
      "gene_corrs-chr2.pkl... "
     ]
    },
    {
     "data": {
      "text/plain": [
       "'Number of negative eigenvalues: 0'"
      ]
     },
     "metadata": {},
     "output_type": "display_data"
    },
    {
     "data": {
      "text/plain": [
       "'Negative eigenvalues:\\n[]'"
      ]
     },
     "metadata": {},
     "output_type": "display_data"
    },
    {
     "name": "stdout",
     "output_type": "stream",
     "text": [
      "Works! (statsmodels.GLS)\n",
      "Works!\n",
      "all good.\n",
      "\n",
      "\n",
      "gene_corrs-chr3.pkl... "
     ]
    },
    {
     "data": {
      "text/plain": [
       "'Number of negative eigenvalues: 0'"
      ]
     },
     "metadata": {},
     "output_type": "display_data"
    },
    {
     "data": {
      "text/plain": [
       "'Negative eigenvalues:\\n[]'"
      ]
     },
     "metadata": {},
     "output_type": "display_data"
    },
    {
     "name": "stdout",
     "output_type": "stream",
     "text": [
      "Works! (statsmodels.GLS)\n",
      "Works!\n",
      "all good.\n",
      "\n",
      "\n",
      "gene_corrs-chr4.pkl... "
     ]
    },
    {
     "data": {
      "text/plain": [
       "'Number of negative eigenvalues: 0'"
      ]
     },
     "metadata": {},
     "output_type": "display_data"
    },
    {
     "data": {
      "text/plain": [
       "'Negative eigenvalues:\\n[]'"
      ]
     },
     "metadata": {},
     "output_type": "display_data"
    },
    {
     "name": "stdout",
     "output_type": "stream",
     "text": [
      "Works! (statsmodels.GLS)\n",
      "Works!\n",
      "all good.\n",
      "\n",
      "\n",
      "gene_corrs-chr5.pkl... "
     ]
    },
    {
     "data": {
      "text/plain": [
       "'Number of negative eigenvalues: 0'"
      ]
     },
     "metadata": {},
     "output_type": "display_data"
    },
    {
     "data": {
      "text/plain": [
       "'Negative eigenvalues:\\n[]'"
      ]
     },
     "metadata": {},
     "output_type": "display_data"
    },
    {
     "name": "stdout",
     "output_type": "stream",
     "text": [
      "Works! (statsmodels.GLS)\n",
      "Works!\n",
      "all good.\n",
      "\n",
      "\n",
      "gene_corrs-chr6.pkl... "
     ]
    },
    {
     "data": {
      "text/plain": [
       "'Number of negative eigenvalues: 0'"
      ]
     },
     "metadata": {},
     "output_type": "display_data"
    },
    {
     "data": {
      "text/plain": [
       "'Negative eigenvalues:\\n[]'"
      ]
     },
     "metadata": {},
     "output_type": "display_data"
    },
    {
     "name": "stdout",
     "output_type": "stream",
     "text": [
      "Works! (statsmodels.GLS)\n",
      "Works!\n",
      "all good.\n",
      "\n",
      "\n",
      "gene_corrs-chr7.pkl... "
     ]
    },
    {
     "data": {
      "text/plain": [
       "'Number of negative eigenvalues: 0'"
      ]
     },
     "metadata": {},
     "output_type": "display_data"
    },
    {
     "data": {
      "text/plain": [
       "'Negative eigenvalues:\\n[]'"
      ]
     },
     "metadata": {},
     "output_type": "display_data"
    },
    {
     "name": "stdout",
     "output_type": "stream",
     "text": [
      "Works! (statsmodels.GLS)\n",
      "Works!\n",
      "all good.\n",
      "\n",
      "\n",
      "gene_corrs-chr8.pkl... "
     ]
    },
    {
     "data": {
      "text/plain": [
       "'Number of negative eigenvalues: 0'"
      ]
     },
     "metadata": {},
     "output_type": "display_data"
    },
    {
     "data": {
      "text/plain": [
       "'Negative eigenvalues:\\n[]'"
      ]
     },
     "metadata": {},
     "output_type": "display_data"
    },
    {
     "name": "stdout",
     "output_type": "stream",
     "text": [
      "Works! (statsmodels.GLS)\n",
      "Works!\n",
      "all good.\n",
      "\n",
      "\n",
      "gene_corrs-chr9.pkl... "
     ]
    },
    {
     "data": {
      "text/plain": [
       "'Number of negative eigenvalues: 0'"
      ]
     },
     "metadata": {},
     "output_type": "display_data"
    },
    {
     "data": {
      "text/plain": [
       "'Negative eigenvalues:\\n[]'"
      ]
     },
     "metadata": {},
     "output_type": "display_data"
    },
    {
     "name": "stdout",
     "output_type": "stream",
     "text": [
      "Works! (statsmodels.GLS)\n",
      "Works!\n",
      "all good.\n",
      "\n",
      "\n",
      "gene_corrs-chr10.pkl... "
     ]
    },
    {
     "data": {
      "text/plain": [
       "'Number of negative eigenvalues: 0'"
      ]
     },
     "metadata": {},
     "output_type": "display_data"
    },
    {
     "data": {
      "text/plain": [
       "'Negative eigenvalues:\\n[]'"
      ]
     },
     "metadata": {},
     "output_type": "display_data"
    },
    {
     "name": "stdout",
     "output_type": "stream",
     "text": [
      "Works! (statsmodels.GLS)\n",
      "Works!\n",
      "all good.\n",
      "\n",
      "\n",
      "gene_corrs-chr11.pkl... "
     ]
    },
    {
     "data": {
      "text/plain": [
       "'Number of negative eigenvalues: 0'"
      ]
     },
     "metadata": {},
     "output_type": "display_data"
    },
    {
     "data": {
      "text/plain": [
       "'Negative eigenvalues:\\n[]'"
      ]
     },
     "metadata": {},
     "output_type": "display_data"
    },
    {
     "name": "stdout",
     "output_type": "stream",
     "text": [
      "Works! (statsmodels.GLS)\n",
      "Works!\n",
      "all good.\n",
      "\n",
      "\n",
      "gene_corrs-chr12.pkl... "
     ]
    },
    {
     "data": {
      "text/plain": [
       "'Number of negative eigenvalues: 0'"
      ]
     },
     "metadata": {},
     "output_type": "display_data"
    },
    {
     "data": {
      "text/plain": [
       "'Negative eigenvalues:\\n[]'"
      ]
     },
     "metadata": {},
     "output_type": "display_data"
    },
    {
     "name": "stdout",
     "output_type": "stream",
     "text": [
      "Works! (statsmodels.GLS)\n",
      "Works!\n",
      "all good.\n",
      "\n",
      "\n",
      "gene_corrs-chr13.pkl... "
     ]
    },
    {
     "data": {
      "text/plain": [
       "'Number of negative eigenvalues: 0'"
      ]
     },
     "metadata": {},
     "output_type": "display_data"
    },
    {
     "data": {
      "text/plain": [
       "'Negative eigenvalues:\\n[]'"
      ]
     },
     "metadata": {},
     "output_type": "display_data"
    },
    {
     "name": "stdout",
     "output_type": "stream",
     "text": [
      "Works! (statsmodels.GLS)\n",
      "Works!\n",
      "all good.\n",
      "\n",
      "\n",
      "gene_corrs-chr14.pkl... "
     ]
    },
    {
     "data": {
      "text/plain": [
       "'Number of negative eigenvalues: 0'"
      ]
     },
     "metadata": {},
     "output_type": "display_data"
    },
    {
     "data": {
      "text/plain": [
       "'Negative eigenvalues:\\n[]'"
      ]
     },
     "metadata": {},
     "output_type": "display_data"
    },
    {
     "name": "stdout",
     "output_type": "stream",
     "text": [
      "Works! (statsmodels.GLS)\n",
      "Works!\n",
      "all good.\n",
      "\n",
      "\n",
      "gene_corrs-chr15.pkl... "
     ]
    },
    {
     "data": {
      "text/plain": [
       "'Number of negative eigenvalues: 0'"
      ]
     },
     "metadata": {},
     "output_type": "display_data"
    },
    {
     "data": {
      "text/plain": [
       "'Negative eigenvalues:\\n[]'"
      ]
     },
     "metadata": {},
     "output_type": "display_data"
    },
    {
     "name": "stdout",
     "output_type": "stream",
     "text": [
      "Works! (statsmodels.GLS)\n",
      "Works!\n",
      "all good.\n",
      "\n",
      "\n",
      "gene_corrs-chr16.pkl... "
     ]
    },
    {
     "data": {
      "text/plain": [
       "'Number of negative eigenvalues: 0'"
      ]
     },
     "metadata": {},
     "output_type": "display_data"
    },
    {
     "data": {
      "text/plain": [
       "'Negative eigenvalues:\\n[]'"
      ]
     },
     "metadata": {},
     "output_type": "display_data"
    },
    {
     "name": "stdout",
     "output_type": "stream",
     "text": [
      "Works! (statsmodels.GLS)\n",
      "Works!\n",
      "all good.\n",
      "\n",
      "\n",
      "gene_corrs-chr17.pkl... "
     ]
    },
    {
     "data": {
      "text/plain": [
       "'Number of negative eigenvalues: 0'"
      ]
     },
     "metadata": {},
     "output_type": "display_data"
    },
    {
     "data": {
      "text/plain": [
       "'Negative eigenvalues:\\n[]'"
      ]
     },
     "metadata": {},
     "output_type": "display_data"
    },
    {
     "name": "stdout",
     "output_type": "stream",
     "text": [
      "Works! (statsmodels.GLS)\n",
      "Works!\n",
      "all good.\n",
      "\n",
      "\n",
      "gene_corrs-chr18.pkl... "
     ]
    },
    {
     "data": {
      "text/plain": [
       "'Number of negative eigenvalues: 0'"
      ]
     },
     "metadata": {},
     "output_type": "display_data"
    },
    {
     "data": {
      "text/plain": [
       "'Negative eigenvalues:\\n[]'"
      ]
     },
     "metadata": {},
     "output_type": "display_data"
    },
    {
     "name": "stdout",
     "output_type": "stream",
     "text": [
      "Works! (statsmodels.GLS)\n",
      "Works!\n",
      "all good.\n",
      "\n",
      "\n",
      "gene_corrs-chr19.pkl... "
     ]
    },
    {
     "data": {
      "text/plain": [
       "'Number of negative eigenvalues: 0'"
      ]
     },
     "metadata": {},
     "output_type": "display_data"
    },
    {
     "data": {
      "text/plain": [
       "'Negative eigenvalues:\\n[]'"
      ]
     },
     "metadata": {},
     "output_type": "display_data"
    },
    {
     "name": "stdout",
     "output_type": "stream",
     "text": [
      "Works! (statsmodels.GLS)\n",
      "Works!\n",
      "all good.\n",
      "\n",
      "\n",
      "gene_corrs-chr20.pkl... "
     ]
    },
    {
     "data": {
      "text/plain": [
       "'Number of negative eigenvalues: 0'"
      ]
     },
     "metadata": {},
     "output_type": "display_data"
    },
    {
     "data": {
      "text/plain": [
       "'Negative eigenvalues:\\n[]'"
      ]
     },
     "metadata": {},
     "output_type": "display_data"
    },
    {
     "name": "stdout",
     "output_type": "stream",
     "text": [
      "Works! (statsmodels.GLS)\n",
      "Works!\n",
      "all good.\n",
      "\n",
      "\n",
      "gene_corrs-chr21.pkl... "
     ]
    },
    {
     "data": {
      "text/plain": [
       "'Number of negative eigenvalues: 0'"
      ]
     },
     "metadata": {},
     "output_type": "display_data"
    },
    {
     "data": {
      "text/plain": [
       "'Negative eigenvalues:\\n[]'"
      ]
     },
     "metadata": {},
     "output_type": "display_data"
    },
    {
     "name": "stdout",
     "output_type": "stream",
     "text": [
      "Works! (statsmodels.GLS)\n",
      "Works!\n",
      "all good.\n",
      "\n",
      "\n",
      "gene_corrs-chr22.pkl... "
     ]
    },
    {
     "data": {
      "text/plain": [
       "'Number of negative eigenvalues: 0'"
      ]
     },
     "metadata": {},
     "output_type": "display_data"
    },
    {
     "data": {
      "text/plain": [
       "'Negative eigenvalues:\\n[]'"
      ]
     },
     "metadata": {},
     "output_type": "display_data"
    },
    {
     "name": "stdout",
     "output_type": "stream",
     "text": [
      "Works! (statsmodels.GLS)\n",
      "Works!\n",
      "all good.\n",
      "\n",
      "\n"
     ]
    }
   ],
   "source": [
    "for chr_corr_file in all_gene_corr_files:\n",
    "    print(chr_corr_file.name, flush=True, end=\"... \")\n",
    "\n",
    "    # get correlation matrix for this chromosome\n",
    "    corr_data = pd.read_pickle(chr_corr_file)\n",
    "\n",
    "    # save gene correlation matrix\n",
    "    full_corr_matrix.loc[corr_data.index, corr_data.columns] = corr_data\n",
    "\n",
    "    # save inverse of Cholesky decomposition of gene correlation matrix\n",
    "    # first, adjust correlation matrix if it is not positive definite\n",
    "    is_pos_def = check_pos_def(corr_data)\n",
    "\n",
    "    if is_pos_def:\n",
    "        print(\"all good.\", flush=True, end=\"\\n\")\n",
    "    else:\n",
    "        print(\"not positive definite, fixing... \", flush=True, end=\"\")\n",
    "        corr_data_adjusted = adjust_non_pos_def(corr_data)\n",
    "\n",
    "        is_pos_def = check_pos_def(corr_data_adjusted)\n",
    "        assert is_pos_def, \"Could not adjust gene correlation matrix\"\n",
    "\n",
    "        print(\"fixed! comparing...\", flush=True, end=\"\\n\")\n",
    "        compare_matrices(corr_data, corr_data_adjusted)\n",
    "\n",
    "        corr_data = corr_data_adjusted\n",
    "\n",
    "        # save\n",
    "        full_corr_matrix.loc[corr_data.index, corr_data.columns] = corr_data\n",
    "\n",
    "    print(\"\\n\")"
   ]
  },
  {
   "cell_type": "code",
   "execution_count": 31,
   "id": "a6be3bf7-d1c1-4f90-b074-a6e74d9285a5",
   "metadata": {
    "execution": {
     "iopub.execute_input": "2022-08-29T14:28:03.521488Z",
     "iopub.status.busy": "2022-08-29T14:28:03.521288Z",
     "iopub.status.idle": "2022-08-29T14:28:03.596258Z",
     "shell.execute_reply": "2022-08-29T14:28:03.595574Z"
    },
    "papermill": {
     "duration": 0.09492,
     "end_time": "2022-08-29T14:28:03.598204",
     "exception": false,
     "start_time": "2022-08-29T14:28:03.503284",
     "status": "completed"
    },
    "tags": []
   },
   "outputs": [
    {
     "data": {
      "text/plain": [
       "(6428, 6428)"
      ]
     },
     "execution_count": 31,
     "metadata": {},
     "output_type": "execute_result"
    }
   ],
   "source": [
    "full_corr_matrix.shape"
   ]
  },
  {
   "cell_type": "code",
   "execution_count": 32,
   "id": "aac21a65-87b3-4b87-b17a-cbe3692c88a9",
   "metadata": {
    "execution": {
     "iopub.execute_input": "2022-08-29T14:28:03.644670Z",
     "iopub.status.busy": "2022-08-29T14:28:03.644471Z",
     "iopub.status.idle": "2022-08-29T14:28:03.676825Z",
     "shell.execute_reply": "2022-08-29T14:28:03.676311Z"
    },
    "papermill": {
     "duration": 0.056786,
     "end_time": "2022-08-29T14:28:03.678250",
     "exception": false,
     "start_time": "2022-08-29T14:28:03.621464",
     "status": "completed"
    },
    "tags": []
   },
   "outputs": [
    {
     "data": {
      "text/html": [
       "<div>\n",
       "<style scoped>\n",
       "    .dataframe tbody tr th:only-of-type {\n",
       "        vertical-align: middle;\n",
       "    }\n",
       "\n",
       "    .dataframe tbody tr th {\n",
       "        vertical-align: top;\n",
       "    }\n",
       "\n",
       "    .dataframe thead th {\n",
       "        text-align: right;\n",
       "    }\n",
       "</style>\n",
       "<table border=\"1\" class=\"dataframe\">\n",
       "  <thead>\n",
       "    <tr style=\"text-align: right;\">\n",
       "      <th></th>\n",
       "      <th>ENSG00000188976</th>\n",
       "      <th>ENSG00000188290</th>\n",
       "      <th>ENSG00000187608</th>\n",
       "      <th>ENSG00000188157</th>\n",
       "      <th>ENSG00000186891</th>\n",
       "      <th>ENSG00000186827</th>\n",
       "      <th>ENSG00000176022</th>\n",
       "      <th>ENSG00000160087</th>\n",
       "      <th>ENSG00000131584</th>\n",
       "      <th>ENSG00000169962</th>\n",
       "      <th>...</th>\n",
       "      <th>ENSG00000196576</th>\n",
       "      <th>ENSG00000128165</th>\n",
       "      <th>ENSG00000100253</th>\n",
       "      <th>ENSG00000130489</th>\n",
       "      <th>ENSG00000025708</th>\n",
       "      <th>ENSG00000205560</th>\n",
       "      <th>ENSG00000100288</th>\n",
       "      <th>ENSG00000008735</th>\n",
       "      <th>ENSG00000100299</th>\n",
       "      <th>ENSG00000251322</th>\n",
       "    </tr>\n",
       "  </thead>\n",
       "  <tbody>\n",
       "    <tr>\n",
       "      <th>ENSG00000188976</th>\n",
       "      <td>1.000000</td>\n",
       "      <td>0.118397</td>\n",
       "      <td>0.103852</td>\n",
       "      <td>0.091980</td>\n",
       "      <td>0.006284</td>\n",
       "      <td>0.007338</td>\n",
       "      <td>0.004868</td>\n",
       "      <td>0.043019</td>\n",
       "      <td>0.012004</td>\n",
       "      <td>0.006924</td>\n",
       "      <td>...</td>\n",
       "      <td>0.0</td>\n",
       "      <td>0.0</td>\n",
       "      <td>0.0</td>\n",
       "      <td>0.0</td>\n",
       "      <td>0.0</td>\n",
       "      <td>0.0</td>\n",
       "      <td>0.0</td>\n",
       "      <td>0.0</td>\n",
       "      <td>0.0</td>\n",
       "      <td>0.0</td>\n",
       "    </tr>\n",
       "    <tr>\n",
       "      <th>ENSG00000188290</th>\n",
       "      <td>0.118397</td>\n",
       "      <td>1.000000</td>\n",
       "      <td>0.849549</td>\n",
       "      <td>0.402466</td>\n",
       "      <td>0.011284</td>\n",
       "      <td>0.008897</td>\n",
       "      <td>0.005317</td>\n",
       "      <td>0.010216</td>\n",
       "      <td>0.002582</td>\n",
       "      <td>0.005373</td>\n",
       "      <td>...</td>\n",
       "      <td>0.0</td>\n",
       "      <td>0.0</td>\n",
       "      <td>0.0</td>\n",
       "      <td>0.0</td>\n",
       "      <td>0.0</td>\n",
       "      <td>0.0</td>\n",
       "      <td>0.0</td>\n",
       "      <td>0.0</td>\n",
       "      <td>0.0</td>\n",
       "      <td>0.0</td>\n",
       "    </tr>\n",
       "    <tr>\n",
       "      <th>ENSG00000187608</th>\n",
       "      <td>0.103852</td>\n",
       "      <td>0.849549</td>\n",
       "      <td>1.000000</td>\n",
       "      <td>0.398077</td>\n",
       "      <td>0.011218</td>\n",
       "      <td>0.011083</td>\n",
       "      <td>0.006313</td>\n",
       "      <td>0.012211</td>\n",
       "      <td>0.003459</td>\n",
       "      <td>0.009198</td>\n",
       "      <td>...</td>\n",
       "      <td>0.0</td>\n",
       "      <td>0.0</td>\n",
       "      <td>0.0</td>\n",
       "      <td>0.0</td>\n",
       "      <td>0.0</td>\n",
       "      <td>0.0</td>\n",
       "      <td>0.0</td>\n",
       "      <td>0.0</td>\n",
       "      <td>0.0</td>\n",
       "      <td>0.0</td>\n",
       "    </tr>\n",
       "    <tr>\n",
       "      <th>ENSG00000188157</th>\n",
       "      <td>0.091980</td>\n",
       "      <td>0.402466</td>\n",
       "      <td>0.398077</td>\n",
       "      <td>1.000000</td>\n",
       "      <td>0.005065</td>\n",
       "      <td>0.011509</td>\n",
       "      <td>0.001824</td>\n",
       "      <td>0.011029</td>\n",
       "      <td>0.005019</td>\n",
       "      <td>0.006681</td>\n",
       "      <td>...</td>\n",
       "      <td>0.0</td>\n",
       "      <td>0.0</td>\n",
       "      <td>0.0</td>\n",
       "      <td>0.0</td>\n",
       "      <td>0.0</td>\n",
       "      <td>0.0</td>\n",
       "      <td>0.0</td>\n",
       "      <td>0.0</td>\n",
       "      <td>0.0</td>\n",
       "      <td>0.0</td>\n",
       "    </tr>\n",
       "    <tr>\n",
       "      <th>ENSG00000186891</th>\n",
       "      <td>0.006284</td>\n",
       "      <td>0.011284</td>\n",
       "      <td>0.011218</td>\n",
       "      <td>0.005065</td>\n",
       "      <td>1.000000</td>\n",
       "      <td>0.337836</td>\n",
       "      <td>0.551124</td>\n",
       "      <td>0.107460</td>\n",
       "      <td>0.193531</td>\n",
       "      <td>0.101072</td>\n",
       "      <td>...</td>\n",
       "      <td>0.0</td>\n",
       "      <td>0.0</td>\n",
       "      <td>0.0</td>\n",
       "      <td>0.0</td>\n",
       "      <td>0.0</td>\n",
       "      <td>0.0</td>\n",
       "      <td>0.0</td>\n",
       "      <td>0.0</td>\n",
       "      <td>0.0</td>\n",
       "      <td>0.0</td>\n",
       "    </tr>\n",
       "  </tbody>\n",
       "</table>\n",
       "<p>5 rows × 6428 columns</p>\n",
       "</div>"
      ],
      "text/plain": [
       "                 ENSG00000188976  ENSG00000188290  ENSG00000187608  \\\n",
       "ENSG00000188976         1.000000         0.118397         0.103852   \n",
       "ENSG00000188290         0.118397         1.000000         0.849549   \n",
       "ENSG00000187608         0.103852         0.849549         1.000000   \n",
       "ENSG00000188157         0.091980         0.402466         0.398077   \n",
       "ENSG00000186891         0.006284         0.011284         0.011218   \n",
       "\n",
       "                 ENSG00000188157  ENSG00000186891  ENSG00000186827  \\\n",
       "ENSG00000188976         0.091980         0.006284         0.007338   \n",
       "ENSG00000188290         0.402466         0.011284         0.008897   \n",
       "ENSG00000187608         0.398077         0.011218         0.011083   \n",
       "ENSG00000188157         1.000000         0.005065         0.011509   \n",
       "ENSG00000186891         0.005065         1.000000         0.337836   \n",
       "\n",
       "                 ENSG00000176022  ENSG00000160087  ENSG00000131584  \\\n",
       "ENSG00000188976         0.004868         0.043019         0.012004   \n",
       "ENSG00000188290         0.005317         0.010216         0.002582   \n",
       "ENSG00000187608         0.006313         0.012211         0.003459   \n",
       "ENSG00000188157         0.001824         0.011029         0.005019   \n",
       "ENSG00000186891         0.551124         0.107460         0.193531   \n",
       "\n",
       "                 ENSG00000169962  ...  ENSG00000196576  ENSG00000128165  \\\n",
       "ENSG00000188976         0.006924  ...              0.0              0.0   \n",
       "ENSG00000188290         0.005373  ...              0.0              0.0   \n",
       "ENSG00000187608         0.009198  ...              0.0              0.0   \n",
       "ENSG00000188157         0.006681  ...              0.0              0.0   \n",
       "ENSG00000186891         0.101072  ...              0.0              0.0   \n",
       "\n",
       "                 ENSG00000100253  ENSG00000130489  ENSG00000025708  \\\n",
       "ENSG00000188976              0.0              0.0              0.0   \n",
       "ENSG00000188290              0.0              0.0              0.0   \n",
       "ENSG00000187608              0.0              0.0              0.0   \n",
       "ENSG00000188157              0.0              0.0              0.0   \n",
       "ENSG00000186891              0.0              0.0              0.0   \n",
       "\n",
       "                 ENSG00000205560  ENSG00000100288  ENSG00000008735  \\\n",
       "ENSG00000188976              0.0              0.0              0.0   \n",
       "ENSG00000188290              0.0              0.0              0.0   \n",
       "ENSG00000187608              0.0              0.0              0.0   \n",
       "ENSG00000188157              0.0              0.0              0.0   \n",
       "ENSG00000186891              0.0              0.0              0.0   \n",
       "\n",
       "                 ENSG00000100299  ENSG00000251322  \n",
       "ENSG00000188976              0.0              0.0  \n",
       "ENSG00000188290              0.0              0.0  \n",
       "ENSG00000187608              0.0              0.0  \n",
       "ENSG00000188157              0.0              0.0  \n",
       "ENSG00000186891              0.0              0.0  \n",
       "\n",
       "[5 rows x 6428 columns]"
      ]
     },
     "execution_count": 32,
     "metadata": {},
     "output_type": "execute_result"
    }
   ],
   "source": [
    "full_corr_matrix.head()"
   ]
  },
  {
   "cell_type": "code",
   "execution_count": 33,
   "id": "0d43f268-ad27-4117-b43b-df581deedae5",
   "metadata": {
    "execution": {
     "iopub.execute_input": "2022-08-29T14:28:03.714863Z",
     "iopub.status.busy": "2022-08-29T14:28:03.714670Z",
     "iopub.status.idle": "2022-08-29T14:28:03.731917Z",
     "shell.execute_reply": "2022-08-29T14:28:03.731417Z"
    },
    "papermill": {
     "duration": 0.037195,
     "end_time": "2022-08-29T14:28:03.733323",
     "exception": false,
     "start_time": "2022-08-29T14:28:03.696128",
     "status": "completed"
    },
    "tags": []
   },
   "outputs": [
    {
     "data": {
      "text/plain": [
       "False"
      ]
     },
     "execution_count": 33,
     "metadata": {},
     "output_type": "execute_result"
    }
   ],
   "source": [
    "np.all(full_corr_matrix.to_numpy().diagonal() == 1.0)"
   ]
  },
  {
   "cell_type": "markdown",
   "id": "1169db4b-9af2-4d3c-a27a-198d7730fa67",
   "metadata": {
    "papermill": {
     "duration": 0.018567,
     "end_time": "2022-08-29T14:28:03.769836",
     "exception": false,
     "start_time": "2022-08-29T14:28:03.751269",
     "status": "completed"
    },
    "tags": []
   },
   "source": [
    "## Some checks"
   ]
  },
  {
   "cell_type": "code",
   "execution_count": 34,
   "id": "31b4e109-a020-4667-9326-c63e6d80a33e",
   "metadata": {
    "execution": {
     "iopub.execute_input": "2022-08-29T14:28:03.806588Z",
     "iopub.status.busy": "2022-08-29T14:28:03.806387Z",
     "iopub.status.idle": "2022-08-29T14:28:04.060891Z",
     "shell.execute_reply": "2022-08-29T14:28:04.060269Z"
    },
    "papermill": {
     "duration": 0.274956,
     "end_time": "2022-08-29T14:28:04.062470",
     "exception": false,
     "start_time": "2022-08-29T14:28:03.787514",
     "status": "completed"
    },
    "tags": []
   },
   "outputs": [
    {
     "data": {
      "text/plain": [
       "0.0"
      ]
     },
     "metadata": {},
     "output_type": "display_data"
    }
   ],
   "source": [
    "_min_val = full_corr_matrix.min().min()\n",
    "display(_min_val)\n",
    "# assert _min_val >= -0.05"
   ]
  },
  {
   "cell_type": "code",
   "execution_count": 35,
   "id": "df674d11-939a-4704-a718-f246527a1880",
   "metadata": {
    "execution": {
     "iopub.execute_input": "2022-08-29T14:28:04.100079Z",
     "iopub.status.busy": "2022-08-29T14:28:04.099869Z",
     "iopub.status.idle": "2022-08-29T14:28:04.351178Z",
     "shell.execute_reply": "2022-08-29T14:28:04.350643Z"
    },
    "papermill": {
     "duration": 0.271454,
     "end_time": "2022-08-29T14:28:04.352704",
     "exception": false,
     "start_time": "2022-08-29T14:28:04.081250",
     "status": "completed"
    },
    "tags": []
   },
   "outputs": [
    {
     "data": {
      "text/plain": [
       "1.0000000000000044"
      ]
     },
     "metadata": {},
     "output_type": "display_data"
    }
   ],
   "source": [
    "_max_val = full_corr_matrix.max().max()\n",
    "display(_max_val)\n",
    "# assert _max_val <= 1.05"
   ]
  },
  {
   "cell_type": "markdown",
   "id": "d6b0f6d2-f191-44ba-97da-41f980163729",
   "metadata": {
    "papermill": {
     "duration": 0.018028,
     "end_time": "2022-08-29T14:28:04.389529",
     "exception": false,
     "start_time": "2022-08-29T14:28:04.371501",
     "status": "completed"
    },
    "tags": []
   },
   "source": [
    "## Positive definiteness"
   ]
  },
  {
   "cell_type": "markdown",
   "id": "bd7c979c-1f9c-4396-92a4-c1eb8be339d0",
   "metadata": {
    "papermill": {
     "duration": 0.01783,
     "end_time": "2022-08-29T14:28:04.425842",
     "exception": false,
     "start_time": "2022-08-29T14:28:04.408012",
     "status": "completed"
    },
    "tags": []
   },
   "source": [
    "In some cases, even if the submatrices are adjusted, the whole one is not.\n",
    "\n",
    "So here I check that again."
   ]
  },
  {
   "cell_type": "code",
   "execution_count": 36,
   "id": "6fc157e7-b798-4977-975b-d20d8c1cda09",
   "metadata": {
    "execution": {
     "iopub.execute_input": "2022-08-29T14:28:04.463771Z",
     "iopub.status.busy": "2022-08-29T14:28:04.463546Z",
     "iopub.status.idle": "2022-08-29T14:30:03.892342Z",
     "shell.execute_reply": "2022-08-29T14:30:03.891591Z"
    },
    "papermill": {
     "duration": 119.46375,
     "end_time": "2022-08-29T14:30:03.907901",
     "exception": false,
     "start_time": "2022-08-29T14:28:04.444151",
     "status": "completed"
    },
    "tags": []
   },
   "outputs": [
    {
     "data": {
      "text/plain": [
       "'Number of negative eigenvalues: 0'"
      ]
     },
     "metadata": {},
     "output_type": "display_data"
    },
    {
     "data": {
      "text/plain": [
       "'Negative eigenvalues:\\n[]'"
      ]
     },
     "metadata": {},
     "output_type": "display_data"
    },
    {
     "name": "stdout",
     "output_type": "stream",
     "text": [
      "Works! (statsmodels.GLS)\n",
      "Works!\n",
      "all good.\n"
     ]
    }
   ],
   "source": [
    "is_pos_def = check_pos_def(full_corr_matrix)\n",
    "\n",
    "if is_pos_def:\n",
    "    print(\"all good.\", flush=True, end=\"\\n\")\n",
    "else:\n",
    "    print(\"not positive definite, fixing... \", flush=True, end=\"\")\n",
    "    corr_data_adjusted = adjust_non_pos_def(full_corr_matrix)\n",
    "\n",
    "    is_pos_def = check_pos_def(corr_data_adjusted)\n",
    "    assert is_pos_def, \"Could not adjust gene correlation matrix\"\n",
    "\n",
    "    print(\"fixed! comparing...\", flush=True, end=\"\\n\")\n",
    "    compare_matrices(full_corr_matrix, corr_data_adjusted)\n",
    "\n",
    "    full_corr_matrix = corr_data_adjusted"
   ]
  },
  {
   "cell_type": "markdown",
   "id": "f328f55d-37d5-4346-97b4-7237281d5757",
   "metadata": {
    "papermill": {
     "duration": 0.018192,
     "end_time": "2022-08-29T14:30:03.944384",
     "exception": false,
     "start_time": "2022-08-29T14:30:03.926192",
     "status": "completed"
    },
    "tags": []
   },
   "source": [
    "## Save"
   ]
  },
  {
   "cell_type": "markdown",
   "id": "0bf781b4-7a49-4823-9c40-d6d4151c17b7",
   "metadata": {
    "papermill": {
     "duration": 0.018467,
     "end_time": "2022-08-29T14:30:03.981189",
     "exception": false,
     "start_time": "2022-08-29T14:30:03.962722",
     "status": "completed"
    },
    "tags": []
   },
   "source": [
    "### Gene corrs with gene symbols"
   ]
  },
  {
   "cell_type": "code",
   "execution_count": 37,
   "id": "cd9323bb-f43e-4271-aeae-c4ff9ba150fe",
   "metadata": {
    "execution": {
     "iopub.execute_input": "2022-08-29T14:30:04.018620Z",
     "iopub.status.busy": "2022-08-29T14:30:04.018382Z",
     "iopub.status.idle": "2022-08-29T14:30:04.283713Z",
     "shell.execute_reply": "2022-08-29T14:30:04.282749Z"
    },
    "papermill": {
     "duration": 0.287447,
     "end_time": "2022-08-29T14:30:04.286499",
     "exception": false,
     "start_time": "2022-08-29T14:30:03.999052",
     "status": "completed"
    },
    "tags": []
   },
   "outputs": [
    {
     "data": {
      "text/plain": [
       "PosixPath('/project/ritchie20/projects/phenoplier/base/results/gls/gene_corrs/cohorts/phenomexcan_rapid_gwas/gtex_v8/mashr/gene_corrs-symbols.pkl')"
      ]
     },
     "metadata": {},
     "output_type": "display_data"
    }
   ],
   "source": [
    "output_file = OUTPUT_DIR_BASE / \"gene_corrs-symbols.pkl\"\n",
    "display(output_file)"
   ]
  },
  {
   "cell_type": "code",
   "execution_count": 38,
   "id": "eae70039-4724-49c2-af7f-af868ee71f52",
   "metadata": {
    "execution": {
     "iopub.execute_input": "2022-08-29T14:30:04.348786Z",
     "iopub.status.busy": "2022-08-29T14:30:04.348480Z",
     "iopub.status.idle": "2022-08-29T14:30:04.578132Z",
     "shell.execute_reply": "2022-08-29T14:30:04.577546Z"
    },
    "papermill": {
     "duration": 0.261035,
     "end_time": "2022-08-29T14:30:04.579982",
     "exception": false,
     "start_time": "2022-08-29T14:30:04.318947",
     "status": "completed"
    },
    "tags": []
   },
   "outputs": [],
   "source": [
    "gene_corrs = full_corr_matrix.rename(\n",
    "    index=Gene.GENE_ID_TO_NAME_MAP, columns=Gene.GENE_ID_TO_NAME_MAP\n",
    ")"
   ]
  },
  {
   "cell_type": "code",
   "execution_count": 39,
   "id": "d095a99d-acf0-4290-873b-64079ba70a3a",
   "metadata": {
    "execution": {
     "iopub.execute_input": "2022-08-29T14:30:04.619155Z",
     "iopub.status.busy": "2022-08-29T14:30:04.618956Z",
     "iopub.status.idle": "2022-08-29T14:30:04.735061Z",
     "shell.execute_reply": "2022-08-29T14:30:04.734450Z"
    },
    "papermill": {
     "duration": 0.13721,
     "end_time": "2022-08-29T14:30:04.736948",
     "exception": false,
     "start_time": "2022-08-29T14:30:04.599738",
     "status": "completed"
    },
    "tags": []
   },
   "outputs": [],
   "source": [
    "assert not gene_corrs.isna().any(None)\n",
    "assert not np.isinf(gene_corrs.to_numpy()).any()\n",
    "assert not np.iscomplex(gene_corrs.to_numpy()).any()"
   ]
  },
  {
   "cell_type": "code",
   "execution_count": 40,
   "id": "8a0ee039-378e-4f51-a18a-24fe2c9d9ba8",
   "metadata": {
    "execution": {
     "iopub.execute_input": "2022-08-29T14:30:04.775297Z",
     "iopub.status.busy": "2022-08-29T14:30:04.775100Z",
     "iopub.status.idle": "2022-08-29T14:30:04.794748Z",
     "shell.execute_reply": "2022-08-29T14:30:04.794245Z"
    },
    "papermill": {
     "duration": 0.040284,
     "end_time": "2022-08-29T14:30:04.796263",
     "exception": false,
     "start_time": "2022-08-29T14:30:04.755979",
     "status": "completed"
    },
    "tags": []
   },
   "outputs": [],
   "source": [
    "assert gene_corrs.index.is_unique\n",
    "assert gene_corrs.columns.is_unique"
   ]
  },
  {
   "cell_type": "code",
   "execution_count": 41,
   "id": "7fe158ee-2def-4c61-91a2-f3ec05687237",
   "metadata": {
    "execution": {
     "iopub.execute_input": "2022-08-29T14:30:04.833497Z",
     "iopub.status.busy": "2022-08-29T14:30:04.833306Z",
     "iopub.status.idle": "2022-08-29T14:30:04.850388Z",
     "shell.execute_reply": "2022-08-29T14:30:04.849896Z"
    },
    "papermill": {
     "duration": 0.03773,
     "end_time": "2022-08-29T14:30:04.851825",
     "exception": false,
     "start_time": "2022-08-29T14:30:04.814095",
     "status": "completed"
    },
    "tags": []
   },
   "outputs": [
    {
     "data": {
      "text/plain": [
       "(6428, 6428)"
      ]
     },
     "execution_count": 41,
     "metadata": {},
     "output_type": "execute_result"
    }
   ],
   "source": [
    "gene_corrs.shape"
   ]
  },
  {
   "cell_type": "code",
   "execution_count": 42,
   "id": "28db69f2-6dc8-4a05-a1da-d44998574749",
   "metadata": {
    "execution": {
     "iopub.execute_input": "2022-08-29T14:30:04.889659Z",
     "iopub.status.busy": "2022-08-29T14:30:04.889465Z",
     "iopub.status.idle": "2022-08-29T14:30:04.921882Z",
     "shell.execute_reply": "2022-08-29T14:30:04.921382Z"
    },
    "papermill": {
     "duration": 0.053188,
     "end_time": "2022-08-29T14:30:04.923292",
     "exception": false,
     "start_time": "2022-08-29T14:30:04.870104",
     "status": "completed"
    },
    "tags": []
   },
   "outputs": [
    {
     "data": {
      "text/html": [
       "<div>\n",
       "<style scoped>\n",
       "    .dataframe tbody tr th:only-of-type {\n",
       "        vertical-align: middle;\n",
       "    }\n",
       "\n",
       "    .dataframe tbody tr th {\n",
       "        vertical-align: top;\n",
       "    }\n",
       "\n",
       "    .dataframe thead th {\n",
       "        text-align: right;\n",
       "    }\n",
       "</style>\n",
       "<table border=\"1\" class=\"dataframe\">\n",
       "  <thead>\n",
       "    <tr style=\"text-align: right;\">\n",
       "      <th></th>\n",
       "      <th>NOC2L</th>\n",
       "      <th>HES4</th>\n",
       "      <th>ISG15</th>\n",
       "      <th>AGRN</th>\n",
       "      <th>TNFRSF18</th>\n",
       "      <th>TNFRSF4</th>\n",
       "      <th>B3GALT6</th>\n",
       "      <th>UBE2J2</th>\n",
       "      <th>ACAP3</th>\n",
       "      <th>TAS1R3</th>\n",
       "      <th>...</th>\n",
       "      <th>PLXNB2</th>\n",
       "      <th>ADM2</th>\n",
       "      <th>MIOX</th>\n",
       "      <th>SCO2</th>\n",
       "      <th>TYMP</th>\n",
       "      <th>CPT1B</th>\n",
       "      <th>CHKB</th>\n",
       "      <th>MAPK8IP2</th>\n",
       "      <th>ARSA</th>\n",
       "      <th>SHANK3</th>\n",
       "    </tr>\n",
       "  </thead>\n",
       "  <tbody>\n",
       "    <tr>\n",
       "      <th>NOC2L</th>\n",
       "      <td>1.000000</td>\n",
       "      <td>0.118397</td>\n",
       "      <td>0.103852</td>\n",
       "      <td>0.091980</td>\n",
       "      <td>0.006284</td>\n",
       "      <td>0.007338</td>\n",
       "      <td>0.004868</td>\n",
       "      <td>0.043019</td>\n",
       "      <td>0.012004</td>\n",
       "      <td>0.006924</td>\n",
       "      <td>...</td>\n",
       "      <td>0.0</td>\n",
       "      <td>0.0</td>\n",
       "      <td>0.0</td>\n",
       "      <td>0.0</td>\n",
       "      <td>0.0</td>\n",
       "      <td>0.0</td>\n",
       "      <td>0.0</td>\n",
       "      <td>0.0</td>\n",
       "      <td>0.0</td>\n",
       "      <td>0.0</td>\n",
       "    </tr>\n",
       "    <tr>\n",
       "      <th>HES4</th>\n",
       "      <td>0.118397</td>\n",
       "      <td>1.000000</td>\n",
       "      <td>0.849549</td>\n",
       "      <td>0.402466</td>\n",
       "      <td>0.011284</td>\n",
       "      <td>0.008897</td>\n",
       "      <td>0.005317</td>\n",
       "      <td>0.010216</td>\n",
       "      <td>0.002582</td>\n",
       "      <td>0.005373</td>\n",
       "      <td>...</td>\n",
       "      <td>0.0</td>\n",
       "      <td>0.0</td>\n",
       "      <td>0.0</td>\n",
       "      <td>0.0</td>\n",
       "      <td>0.0</td>\n",
       "      <td>0.0</td>\n",
       "      <td>0.0</td>\n",
       "      <td>0.0</td>\n",
       "      <td>0.0</td>\n",
       "      <td>0.0</td>\n",
       "    </tr>\n",
       "    <tr>\n",
       "      <th>ISG15</th>\n",
       "      <td>0.103852</td>\n",
       "      <td>0.849549</td>\n",
       "      <td>1.000000</td>\n",
       "      <td>0.398077</td>\n",
       "      <td>0.011218</td>\n",
       "      <td>0.011083</td>\n",
       "      <td>0.006313</td>\n",
       "      <td>0.012211</td>\n",
       "      <td>0.003459</td>\n",
       "      <td>0.009198</td>\n",
       "      <td>...</td>\n",
       "      <td>0.0</td>\n",
       "      <td>0.0</td>\n",
       "      <td>0.0</td>\n",
       "      <td>0.0</td>\n",
       "      <td>0.0</td>\n",
       "      <td>0.0</td>\n",
       "      <td>0.0</td>\n",
       "      <td>0.0</td>\n",
       "      <td>0.0</td>\n",
       "      <td>0.0</td>\n",
       "    </tr>\n",
       "    <tr>\n",
       "      <th>AGRN</th>\n",
       "      <td>0.091980</td>\n",
       "      <td>0.402466</td>\n",
       "      <td>0.398077</td>\n",
       "      <td>1.000000</td>\n",
       "      <td>0.005065</td>\n",
       "      <td>0.011509</td>\n",
       "      <td>0.001824</td>\n",
       "      <td>0.011029</td>\n",
       "      <td>0.005019</td>\n",
       "      <td>0.006681</td>\n",
       "      <td>...</td>\n",
       "      <td>0.0</td>\n",
       "      <td>0.0</td>\n",
       "      <td>0.0</td>\n",
       "      <td>0.0</td>\n",
       "      <td>0.0</td>\n",
       "      <td>0.0</td>\n",
       "      <td>0.0</td>\n",
       "      <td>0.0</td>\n",
       "      <td>0.0</td>\n",
       "      <td>0.0</td>\n",
       "    </tr>\n",
       "    <tr>\n",
       "      <th>TNFRSF18</th>\n",
       "      <td>0.006284</td>\n",
       "      <td>0.011284</td>\n",
       "      <td>0.011218</td>\n",
       "      <td>0.005065</td>\n",
       "      <td>1.000000</td>\n",
       "      <td>0.337836</td>\n",
       "      <td>0.551124</td>\n",
       "      <td>0.107460</td>\n",
       "      <td>0.193531</td>\n",
       "      <td>0.101072</td>\n",
       "      <td>...</td>\n",
       "      <td>0.0</td>\n",
       "      <td>0.0</td>\n",
       "      <td>0.0</td>\n",
       "      <td>0.0</td>\n",
       "      <td>0.0</td>\n",
       "      <td>0.0</td>\n",
       "      <td>0.0</td>\n",
       "      <td>0.0</td>\n",
       "      <td>0.0</td>\n",
       "      <td>0.0</td>\n",
       "    </tr>\n",
       "  </tbody>\n",
       "</table>\n",
       "<p>5 rows × 6428 columns</p>\n",
       "</div>"
      ],
      "text/plain": [
       "             NOC2L      HES4     ISG15      AGRN  TNFRSF18   TNFRSF4  \\\n",
       "NOC2L     1.000000  0.118397  0.103852  0.091980  0.006284  0.007338   \n",
       "HES4      0.118397  1.000000  0.849549  0.402466  0.011284  0.008897   \n",
       "ISG15     0.103852  0.849549  1.000000  0.398077  0.011218  0.011083   \n",
       "AGRN      0.091980  0.402466  0.398077  1.000000  0.005065  0.011509   \n",
       "TNFRSF18  0.006284  0.011284  0.011218  0.005065  1.000000  0.337836   \n",
       "\n",
       "           B3GALT6    UBE2J2     ACAP3    TAS1R3  ...  PLXNB2  ADM2  MIOX  \\\n",
       "NOC2L     0.004868  0.043019  0.012004  0.006924  ...     0.0   0.0   0.0   \n",
       "HES4      0.005317  0.010216  0.002582  0.005373  ...     0.0   0.0   0.0   \n",
       "ISG15     0.006313  0.012211  0.003459  0.009198  ...     0.0   0.0   0.0   \n",
       "AGRN      0.001824  0.011029  0.005019  0.006681  ...     0.0   0.0   0.0   \n",
       "TNFRSF18  0.551124  0.107460  0.193531  0.101072  ...     0.0   0.0   0.0   \n",
       "\n",
       "          SCO2  TYMP  CPT1B  CHKB  MAPK8IP2  ARSA  SHANK3  \n",
       "NOC2L      0.0   0.0    0.0   0.0       0.0   0.0     0.0  \n",
       "HES4       0.0   0.0    0.0   0.0       0.0   0.0     0.0  \n",
       "ISG15      0.0   0.0    0.0   0.0       0.0   0.0     0.0  \n",
       "AGRN       0.0   0.0    0.0   0.0       0.0   0.0     0.0  \n",
       "TNFRSF18   0.0   0.0    0.0   0.0       0.0   0.0     0.0  \n",
       "\n",
       "[5 rows x 6428 columns]"
      ]
     },
     "execution_count": 42,
     "metadata": {},
     "output_type": "execute_result"
    }
   ],
   "source": [
    "gene_corrs.head()"
   ]
  },
  {
   "cell_type": "code",
   "execution_count": 43,
   "id": "19f39ddb-854c-4b6a-886c-60e84b5d31ca",
   "metadata": {
    "execution": {
     "iopub.execute_input": "2022-08-29T14:30:04.961556Z",
     "iopub.status.busy": "2022-08-29T14:30:04.961364Z",
     "iopub.status.idle": "2022-08-29T14:30:05.753359Z",
     "shell.execute_reply": "2022-08-29T14:30:05.752335Z"
    },
    "papermill": {
     "duration": 0.814341,
     "end_time": "2022-08-29T14:30:05.756451",
     "exception": false,
     "start_time": "2022-08-29T14:30:04.942110",
     "status": "completed"
    },
    "tags": []
   },
   "outputs": [],
   "source": [
    "gene_corrs.to_pickle(output_file)"
   ]
  },
  {
   "cell_type": "code",
   "execution_count": 44,
   "id": "738f4cf5-44a9-4274-a2c8-11906113fa45",
   "metadata": {
    "execution": {
     "iopub.execute_input": "2022-08-29T14:30:05.819623Z",
     "iopub.status.busy": "2022-08-29T14:30:05.819323Z",
     "iopub.status.idle": "2022-08-29T14:30:05.843930Z",
     "shell.execute_reply": "2022-08-29T14:30:05.843264Z"
    },
    "papermill": {
     "duration": 0.056534,
     "end_time": "2022-08-29T14:30:05.846006",
     "exception": false,
     "start_time": "2022-08-29T14:30:05.789472",
     "status": "completed"
    },
    "tags": []
   },
   "outputs": [],
   "source": [
    "del gene_corrs"
   ]
  },
  {
   "cell_type": "markdown",
   "id": "551bd31a-ad37-45b5-a0c8-6ff1459faf60",
   "metadata": {
    "papermill": {
     "duration": 0.01945,
     "end_time": "2022-08-29T14:30:05.889834",
     "exception": false,
     "start_time": "2022-08-29T14:30:05.870384",
     "status": "completed"
    },
    "tags": []
   },
   "source": [
    "# Stats"
   ]
  },
  {
   "cell_type": "code",
   "execution_count": 45,
   "id": "33b5482f-7ecf-4365-867f-249f28d09180",
   "metadata": {
    "execution": {
     "iopub.execute_input": "2022-08-29T14:30:05.929525Z",
     "iopub.status.busy": "2022-08-29T14:30:05.929316Z",
     "iopub.status.idle": "2022-08-29T14:30:07.062009Z",
     "shell.execute_reply": "2022-08-29T14:30:07.061410Z"
    },
    "papermill": {
     "duration": 1.155213,
     "end_time": "2022-08-29T14:30:07.063903",
     "exception": false,
     "start_time": "2022-08-29T14:30:05.908690",
     "status": "completed"
    },
    "tags": []
   },
   "outputs": [],
   "source": [
    "full_corr_matrix_flat = full_corr_matrix.mask(\n",
    "    np.triu(np.ones(full_corr_matrix.shape)).astype(bool)\n",
    ").stack()"
   ]
  },
  {
   "cell_type": "code",
   "execution_count": 46,
   "id": "e2d950d1-646a-4ba1-bb91-cf07ad00872d",
   "metadata": {
    "execution": {
     "iopub.execute_input": "2022-08-29T14:30:07.103600Z",
     "iopub.status.busy": "2022-08-29T14:30:07.103370Z",
     "iopub.status.idle": "2022-08-29T14:30:07.122422Z",
     "shell.execute_reply": "2022-08-29T14:30:07.121910Z"
    },
    "papermill": {
     "duration": 0.040691,
     "end_time": "2022-08-29T14:30:07.123845",
     "exception": false,
     "start_time": "2022-08-29T14:30:07.083154",
     "status": "completed"
    },
    "tags": []
   },
   "outputs": [
    {
     "data": {
      "text/plain": [
       "(20656378,)"
      ]
     },
     "metadata": {},
     "output_type": "display_data"
    }
   ],
   "source": [
    "display(full_corr_matrix_flat.shape)\n",
    "assert full_corr_matrix_flat.shape[0] == int(\n",
    "    full_corr_matrix.shape[0] * (full_corr_matrix.shape[0] - 1) / 2\n",
    ")"
   ]
  },
  {
   "cell_type": "markdown",
   "id": "5fd7d482-b7b8-4a84-91b0-749d15f0d2c0",
   "metadata": {
    "papermill": {
     "duration": 0.019662,
     "end_time": "2022-08-29T14:30:07.162298",
     "exception": false,
     "start_time": "2022-08-29T14:30:07.142636",
     "status": "completed"
    },
    "tags": []
   },
   "source": [
    "## On all correlations"
   ]
  },
  {
   "cell_type": "code",
   "execution_count": 47,
   "id": "e58ea199-0cc1-449d-a55e-26970fb674a8",
   "metadata": {
    "execution": {
     "iopub.execute_input": "2022-08-29T14:30:07.201175Z",
     "iopub.status.busy": "2022-08-29T14:30:07.200983Z",
     "iopub.status.idle": "2022-08-29T14:30:07.216313Z",
     "shell.execute_reply": "2022-08-29T14:30:07.215820Z"
    },
    "papermill": {
     "duration": 0.036597,
     "end_time": "2022-08-29T14:30:07.217836",
     "exception": false,
     "start_time": "2022-08-29T14:30:07.181239",
     "status": "completed"
    },
    "tags": []
   },
   "outputs": [],
   "source": [
    "_corr_mat = full_corr_matrix_flat"
   ]
  },
  {
   "cell_type": "code",
   "execution_count": 48,
   "id": "c4e71773-0b74-435f-a9d9-cc8671d7c570",
   "metadata": {
    "execution": {
     "iopub.execute_input": "2022-08-29T14:30:07.257068Z",
     "iopub.status.busy": "2022-08-29T14:30:07.256875Z",
     "iopub.status.idle": "2022-08-29T14:30:07.273762Z",
     "shell.execute_reply": "2022-08-29T14:30:07.273260Z"
    },
    "papermill": {
     "duration": 0.038366,
     "end_time": "2022-08-29T14:30:07.275173",
     "exception": false,
     "start_time": "2022-08-29T14:30:07.236807",
     "status": "completed"
    },
    "tags": []
   },
   "outputs": [
    {
     "data": {
      "text/plain": [
       "(20656378,)"
      ]
     },
     "execution_count": 48,
     "metadata": {},
     "output_type": "execute_result"
    }
   ],
   "source": [
    "_corr_mat.shape"
   ]
  },
  {
   "cell_type": "code",
   "execution_count": 49,
   "id": "9907fbe4-85e1-4690-ae0c-3c6f5a19e9b7",
   "metadata": {
    "execution": {
     "iopub.execute_input": "2022-08-29T14:30:07.315033Z",
     "iopub.status.busy": "2022-08-29T14:30:07.314830Z",
     "iopub.status.idle": "2022-08-29T14:30:07.333181Z",
     "shell.execute_reply": "2022-08-29T14:30:07.332689Z"
    },
    "papermill": {
     "duration": 0.040379,
     "end_time": "2022-08-29T14:30:07.334625",
     "exception": false,
     "start_time": "2022-08-29T14:30:07.294246",
     "status": "completed"
    },
    "tags": []
   },
   "outputs": [
    {
     "data": {
      "text/plain": [
       "ENSG00000188290  ENSG00000188976    0.118397\n",
       "ENSG00000187608  ENSG00000188976    0.103852\n",
       "                 ENSG00000188290    0.849549\n",
       "ENSG00000188157  ENSG00000188976    0.091980\n",
       "                 ENSG00000188290    0.402466\n",
       "dtype: float64"
      ]
     },
     "execution_count": 49,
     "metadata": {},
     "output_type": "execute_result"
    }
   ],
   "source": [
    "_corr_mat.head()"
   ]
  },
  {
   "cell_type": "code",
   "execution_count": 50,
   "id": "cb34e9c9-7488-47f2-aa31-c8a8e83f92ae",
   "metadata": {
    "execution": {
     "iopub.execute_input": "2022-08-29T14:30:07.373885Z",
     "iopub.status.busy": "2022-08-29T14:30:07.373673Z",
     "iopub.status.idle": "2022-08-29T14:30:08.154064Z",
     "shell.execute_reply": "2022-08-29T14:30:08.153526Z"
    },
    "papermill": {
     "duration": 0.801794,
     "end_time": "2022-08-29T14:30:08.155567",
     "exception": false,
     "start_time": "2022-08-29T14:30:07.353773",
     "status": "completed"
    },
    "tags": []
   },
   "outputs": [
    {
     "data": {
      "text/plain": [
       "count                20656378.0\n",
       "mean     0.00046385332583824643\n",
       "std        0.007055918112421635\n",
       "min                         0.0\n",
       "25%                         0.0\n",
       "50%                         0.0\n",
       "75%                         0.0\n",
       "max           0.999997504222484\n",
       "dtype: object"
      ]
     },
     "execution_count": 50,
     "metadata": {},
     "output_type": "execute_result"
    }
   ],
   "source": [
    "_corr_mat.describe().apply(str)"
   ]
  },
  {
   "cell_type": "code",
   "execution_count": 51,
   "id": "ccb2fbfa-e381-40a0-a269-e280c12c6039",
   "metadata": {
    "execution": {
     "iopub.execute_input": "2022-08-29T14:30:08.196571Z",
     "iopub.status.busy": "2022-08-29T14:30:08.196365Z",
     "iopub.status.idle": "2022-08-29T14:30:08.515107Z",
     "shell.execute_reply": "2022-08-29T14:30:08.514570Z"
    },
    "papermill": {
     "duration": 0.340395,
     "end_time": "2022-08-29T14:30:08.516658",
     "exception": false,
     "start_time": "2022-08-29T14:30:08.176263",
     "status": "completed"
    },
    "tags": []
   },
   "outputs": [
    {
     "data": {
      "text/plain": [
       "0.00    0.000000\n",
       "0.05    0.000000\n",
       "0.10    0.000000\n",
       "0.15    0.000000\n",
       "0.20    0.000000\n",
       "0.25    0.000000\n",
       "0.30    0.000000\n",
       "0.35    0.000000\n",
       "0.40    0.000000\n",
       "0.45    0.000000\n",
       "0.50    0.000000\n",
       "0.55    0.000000\n",
       "0.60    0.000000\n",
       "0.65    0.000000\n",
       "0.70    0.000000\n",
       "0.75    0.000000\n",
       "0.80    0.000000\n",
       "0.85    0.000000\n",
       "0.90    0.000000\n",
       "0.95    0.002363\n",
       "dtype: float64"
      ]
     },
     "metadata": {},
     "output_type": "display_data"
    }
   ],
   "source": [
    "display(_corr_mat.quantile(np.arange(0, 1, 0.05)))"
   ]
  },
  {
   "cell_type": "code",
   "execution_count": 52,
   "id": "940dcbd0-3a39-4e0b-9b7c-cd3f905ea8fb",
   "metadata": {
    "execution": {
     "iopub.execute_input": "2022-08-29T14:30:08.557386Z",
     "iopub.status.busy": "2022-08-29T14:30:08.557185Z",
     "iopub.status.idle": "2022-08-29T14:30:08.792747Z",
     "shell.execute_reply": "2022-08-29T14:30:08.792200Z"
    },
    "papermill": {
     "duration": 0.257165,
     "end_time": "2022-08-29T14:30:08.794291",
     "exception": false,
     "start_time": "2022-08-29T14:30:08.537126",
     "status": "completed"
    },
    "tags": []
   },
   "outputs": [
    {
     "data": {
      "text/plain": [
       "0.0000    0.0\n",
       "0.0001    0.0\n",
       "0.0002    0.0\n",
       "0.0003    0.0\n",
       "0.0004    0.0\n",
       "0.0005    0.0\n",
       "0.0006    0.0\n",
       "0.0007    0.0\n",
       "0.0008    0.0\n",
       "0.0009    0.0\n",
       "dtype: float64"
      ]
     },
     "metadata": {},
     "output_type": "display_data"
    }
   ],
   "source": [
    "display(_corr_mat.quantile(np.arange(0, 0.001, 0.0001)))"
   ]
  },
  {
   "cell_type": "code",
   "execution_count": 53,
   "id": "9c76b62b-be13-4037-a95b-a8c2104055a3",
   "metadata": {
    "execution": {
     "iopub.execute_input": "2022-08-29T14:30:08.835176Z",
     "iopub.status.busy": "2022-08-29T14:30:08.834978Z",
     "iopub.status.idle": "2022-08-29T14:30:08.942108Z",
     "shell.execute_reply": "2022-08-29T14:30:08.941579Z"
    },
    "papermill": {
     "duration": 0.128866,
     "end_time": "2022-08-29T14:30:08.943656",
     "exception": false,
     "start_time": "2022-08-29T14:30:08.814790",
     "status": "completed"
    },
    "tags": []
   },
   "outputs": [
    {
     "data": {
      "text/plain": [
       "0.9990    0.016664\n",
       "0.9991    0.017985\n",
       "0.9992    0.020906\n",
       "0.9993    0.026718\n",
       "0.9994    0.035800\n",
       "0.9995    0.051244\n",
       "0.9996    0.080031\n",
       "0.9997    0.133429\n",
       "0.9998    0.237453\n",
       "0.9999    0.396130\n",
       "1.0000    0.999998\n",
       "dtype: float64"
      ]
     },
     "metadata": {},
     "output_type": "display_data"
    }
   ],
   "source": [
    "display(_corr_mat.quantile(np.arange(0.999, 1.0, 0.0001)))"
   ]
  },
  {
   "cell_type": "markdown",
   "id": "0ed3b3a6-f1ea-4f39-9363-f33b835413d2",
   "metadata": {
    "papermill": {
     "duration": 0.019871,
     "end_time": "2022-08-29T14:30:08.984265",
     "exception": false,
     "start_time": "2022-08-29T14:30:08.964394",
     "status": "completed"
    },
    "tags": []
   },
   "source": [
    "### Plot: distribution"
   ]
  },
  {
   "cell_type": "code",
   "execution_count": 54,
   "id": "8301126b-a7d4-4744-9c7d-f0f86eb6f54c",
   "metadata": {
    "execution": {
     "iopub.execute_input": "2022-08-29T14:30:09.024437Z",
     "iopub.status.busy": "2022-08-29T14:30:09.024240Z",
     "iopub.status.idle": "2022-08-29T14:31:20.531388Z",
     "shell.execute_reply": "2022-08-29T14:31:20.530590Z"
    },
    "papermill": {
     "duration": 71.555829,
     "end_time": "2022-08-29T14:31:20.559283",
     "exception": false,
     "start_time": "2022-08-29T14:30:09.003454",
     "status": "completed"
    },
    "tags": []
   },
   "outputs": [
    {
     "data": {
      "image/png": "[encoded data removed]",
      "text/plain": [
       "<Figure size 504x504 with 1 Axes>"
      ]
     },
     "metadata": {
      "needs_background": "light"
     },
     "output_type": "display_data"
    }
   ],
   "source": [
    "with sns.plotting_context(\"paper\", font_scale=1.5):\n",
    "    g = sns.displot(_corr_mat, kde=True, height=7)\n",
    "    g.ax.set_title(\"Distribution of gene correlation values in all chromosomes\")"
   ]
  },
  {
   "cell_type": "markdown",
   "id": "e209767d-44b8-48a4-ad28-478703a3b5bd",
   "metadata": {
    "papermill": {
     "duration": 0.026465,
     "end_time": "2022-08-29T14:31:20.612766",
     "exception": false,
     "start_time": "2022-08-29T14:31:20.586301",
     "status": "completed"
    },
    "tags": []
   },
   "source": [
    "### Plot: heatmap"
   ]
  },
  {
   "cell_type": "code",
   "execution_count": 55,
   "id": "d03fe63a-c7b2-4fb9-a53c-db362ce843c9",
   "metadata": {
    "execution": {
     "iopub.execute_input": "2022-08-29T14:31:20.658525Z",
     "iopub.status.busy": "2022-08-29T14:31:20.658326Z",
     "iopub.status.idle": "2022-08-29T14:31:21.118266Z",
     "shell.execute_reply": "2022-08-29T14:31:21.117732Z"
    },
    "papermill": {
     "duration": 0.482357,
     "end_time": "2022-08-29T14:31:21.119793",
     "exception": false,
     "start_time": "2022-08-29T14:31:20.637436",
     "status": "completed"
    },
    "tags": []
   },
   "outputs": [
    {
     "data": {
      "text/plain": [
       "'0.0 / 0.05'"
      ]
     },
     "metadata": {},
     "output_type": "display_data"
    }
   ],
   "source": [
    "vmin_val = 0.0\n",
    "vmax_val = max(0.05, _corr_mat.quantile(0.99))\n",
    "display(f\"{vmin_val} / {vmax_val}\")"
   ]
  },
  {
   "cell_type": "code",
   "execution_count": 56,
   "id": "dc41b70b-5bcc-4d9e-9f33-a22c4a94dab5",
   "metadata": {
    "execution": {
     "iopub.execute_input": "2022-08-29T14:31:21.161767Z",
     "iopub.status.busy": "2022-08-29T14:31:21.161531Z",
     "iopub.status.idle": "2022-08-29T14:31:49.554306Z",
     "shell.execute_reply": "2022-08-29T14:31:49.553771Z"
    },
    "papermill": {
     "duration": 28.41536,
     "end_time": "2022-08-29T14:31:49.555902",
     "exception": false,
     "start_time": "2022-08-29T14:31:21.140542",
     "status": "completed"
    },
    "tags": []
   },
   "outputs": [
    {
     "data": {
      "text/plain": [
       "Text(0.5, 1.0, 'Gene correlations in all chromosomes')"
      ]
     },
     "execution_count": 56,
     "metadata": {},
     "output_type": "execute_result"
    },
    {
     "data": {
      "image/png": "[encoded data removed]",
      "text/plain": [
       "<Figure size 720x720 with 2 Axes>"
      ]
     },
     "metadata": {
      "needs_background": "light"
     },
     "output_type": "display_data"
    }
   ],
   "source": [
    "f, ax = plt.subplots(figsize=(10, 10))\n",
    "sns.heatmap(\n",
    "    full_corr_matrix,\n",
    "    xticklabels=False,\n",
    "    yticklabels=False,\n",
    "    square=True,\n",
    "    vmin=vmin_val,\n",
    "    vmax=vmax_val,\n",
    "    cmap=\"rocket_r\",\n",
    "    ax=ax,\n",
    ")\n",
    "ax.set_title(\"Gene correlations in all chromosomes\")"
   ]
  },
  {
   "cell_type": "markdown",
   "id": "5a1b7488-1c3b-4c8b-b619-3b063b3f83c6",
   "metadata": {
    "papermill": {
     "duration": 0.021284,
     "end_time": "2022-08-29T14:31:49.599254",
     "exception": false,
     "start_time": "2022-08-29T14:31:49.577970",
     "status": "completed"
    },
    "tags": []
   },
   "source": [
    "## On nonzero correlations"
   ]
  },
  {
   "cell_type": "code",
   "execution_count": 57,
   "id": "0a07752e-b62f-4f01-af30-847efe9bba54",
   "metadata": {
    "execution": {
     "iopub.execute_input": "2022-08-29T14:31:49.642001Z",
     "iopub.status.busy": "2022-08-29T14:31:49.641800Z",
     "iopub.status.idle": "2022-08-29T14:31:49.939273Z",
     "shell.execute_reply": "2022-08-29T14:31:49.938401Z"
    },
    "papermill": {
     "duration": 0.321796,
     "end_time": "2022-08-29T14:31:49.942040",
     "exception": false,
     "start_time": "2022-08-29T14:31:49.620244",
     "status": "completed"
    },
    "tags": []
   },
   "outputs": [],
   "source": [
    "nonzero_corrs = full_corr_matrix_flat[full_corr_matrix_flat > 0.0]"
   ]
  },
  {
   "cell_type": "code",
   "execution_count": 58,
   "id": "3b509dde-e4ec-4e14-a7d5-09e3fe584027",
   "metadata": {
    "execution": {
     "iopub.execute_input": "2022-08-29T14:31:50.002194Z",
     "iopub.status.busy": "2022-08-29T14:31:50.001942Z",
     "iopub.status.idle": "2022-08-29T14:31:50.022954Z",
     "shell.execute_reply": "2022-08-29T14:31:50.022455Z"
    },
    "papermill": {
     "duration": 0.051397,
     "end_time": "2022-08-29T14:31:50.024458",
     "exception": false,
     "start_time": "2022-08-29T14:31:49.973061",
     "status": "completed"
    },
    "tags": []
   },
   "outputs": [],
   "source": [
    "_corr_mat = nonzero_corrs"
   ]
  },
  {
   "cell_type": "code",
   "execution_count": 59,
   "id": "427cd6b6-411c-4bce-9129-f7e128c9992f",
   "metadata": {
    "execution": {
     "iopub.execute_input": "2022-08-29T14:31:50.067555Z",
     "iopub.status.busy": "2022-08-29T14:31:50.067361Z",
     "iopub.status.idle": "2022-08-29T14:31:50.084530Z",
     "shell.execute_reply": "2022-08-29T14:31:50.084037Z"
    },
    "papermill": {
     "duration": 0.040563,
     "end_time": "2022-08-29T14:31:50.085945",
     "exception": false,
     "start_time": "2022-08-29T14:31:50.045382",
     "status": "completed"
    },
    "tags": []
   },
   "outputs": [
    {
     "data": {
      "text/plain": [
       "(1167281,)"
      ]
     },
     "execution_count": 59,
     "metadata": {},
     "output_type": "execute_result"
    }
   ],
   "source": [
    "_corr_mat.shape"
   ]
  },
  {
   "cell_type": "code",
   "execution_count": 60,
   "id": "684ee3aa-d1bf-4f39-883e-1c9cda28f332",
   "metadata": {
    "execution": {
     "iopub.execute_input": "2022-08-29T14:31:50.128761Z",
     "iopub.status.busy": "2022-08-29T14:31:50.128541Z",
     "iopub.status.idle": "2022-08-29T14:31:50.146927Z",
     "shell.execute_reply": "2022-08-29T14:31:50.146428Z"
    },
    "papermill": {
     "duration": 0.0416,
     "end_time": "2022-08-29T14:31:50.148333",
     "exception": false,
     "start_time": "2022-08-29T14:31:50.106733",
     "status": "completed"
    },
    "tags": []
   },
   "outputs": [
    {
     "data": {
      "text/plain": [
       "ENSG00000188290  ENSG00000188976    0.118397\n",
       "ENSG00000187608  ENSG00000188976    0.103852\n",
       "                 ENSG00000188290    0.849549\n",
       "ENSG00000188157  ENSG00000188976    0.091980\n",
       "                 ENSG00000188290    0.402466\n",
       "dtype: float64"
      ]
     },
     "execution_count": 60,
     "metadata": {},
     "output_type": "execute_result"
    }
   ],
   "source": [
    "_corr_mat.head()"
   ]
  },
  {
   "cell_type": "code",
   "execution_count": 61,
   "id": "87467e53-a225-48f9-86ef-d00978925faa",
   "metadata": {
    "execution": {
     "iopub.execute_input": "2022-08-29T14:31:50.191160Z",
     "iopub.status.busy": "2022-08-29T14:31:50.190967Z",
     "iopub.status.idle": "2022-08-29T14:31:50.248521Z",
     "shell.execute_reply": "2022-08-29T14:31:50.247990Z"
    },
    "papermill": {
     "duration": 0.081246,
     "end_time": "2022-08-29T14:31:50.250190",
     "exception": false,
     "start_time": "2022-08-29T14:31:50.168944",
     "status": "completed"
    },
    "tags": []
   },
   "outputs": [
    {
     "data": {
      "text/plain": [
       "count                 1167281.0\n",
       "mean       0.008208417369144202\n",
       "std        0.028591085144003034\n",
       "min      2.3506804396601283e-10\n",
       "25%        0.003695228026351338\n",
       "50%        0.005707702570688223\n",
       "75%        0.008031693056314498\n",
       "max           0.999997504222484\n",
       "dtype: object"
      ]
     },
     "execution_count": 61,
     "metadata": {},
     "output_type": "execute_result"
    }
   ],
   "source": [
    "_corr_mat.describe().apply(str)"
   ]
  },
  {
   "cell_type": "code",
   "execution_count": 62,
   "id": "ece1b4b2-1764-4893-bb0e-837f5d1a6677",
   "metadata": {
    "execution": {
     "iopub.execute_input": "2022-08-29T14:31:50.297112Z",
     "iopub.status.busy": "2022-08-29T14:31:50.296902Z",
     "iopub.status.idle": "2022-08-29T14:31:50.351637Z",
     "shell.execute_reply": "2022-08-29T14:31:50.351109Z"
    },
    "papermill": {
     "duration": 0.079328,
     "end_time": "2022-08-29T14:31:50.353096",
     "exception": false,
     "start_time": "2022-08-29T14:31:50.273768",
     "status": "completed"
    },
    "tags": []
   },
   "outputs": [
    {
     "data": {
      "text/plain": [
       "0.00    2.350680e-10\n",
       "0.05    1.438422e-03\n",
       "0.10    2.175507e-03\n",
       "0.15    2.749511e-03\n",
       "0.20    3.246137e-03\n",
       "0.25    3.695228e-03\n",
       "0.30    4.117347e-03\n",
       "0.35    4.520996e-03\n",
       "0.40    4.916893e-03\n",
       "0.45    5.310650e-03\n",
       "0.50    5.707703e-03\n",
       "0.55    6.113988e-03\n",
       "0.60    6.539368e-03\n",
       "0.65    6.995925e-03\n",
       "0.70    7.487877e-03\n",
       "0.75    8.031693e-03\n",
       "0.80    8.658977e-03\n",
       "0.85    9.426286e-03\n",
       "0.90    1.046485e-02\n",
       "0.95    1.225604e-02\n",
       "dtype: float64"
      ]
     },
     "metadata": {},
     "output_type": "display_data"
    }
   ],
   "source": [
    "display(_corr_mat.quantile(np.arange(0, 1, 0.05)))"
   ]
  },
  {
   "cell_type": "code",
   "execution_count": 63,
   "id": "3543f16e-1453-44e5-ab68-0d03450e559b",
   "metadata": {
    "execution": {
     "iopub.execute_input": "2022-08-29T14:31:50.397429Z",
     "iopub.status.busy": "2022-08-29T14:31:50.397233Z",
     "iopub.status.idle": "2022-08-29T14:31:50.434141Z",
     "shell.execute_reply": "2022-08-29T14:31:50.433629Z"
    },
    "papermill": {
     "duration": 0.060631,
     "end_time": "2022-08-29T14:31:50.435599",
     "exception": false,
     "start_time": "2022-08-29T14:31:50.374968",
     "status": "completed"
    },
    "tags": []
   },
   "outputs": [
    {
     "data": {
      "text/plain": [
       "0.0000    2.350680e-10\n",
       "0.0001    1.264920e-06\n",
       "0.0002    4.110547e-06\n",
       "0.0003    7.751640e-06\n",
       "0.0004    1.226860e-05\n",
       "0.0005    1.704205e-05\n",
       "0.0006    2.264455e-05\n",
       "0.0007    2.890184e-05\n",
       "0.0008    3.470273e-05\n",
       "0.0009    3.966535e-05\n",
       "dtype: float64"
      ]
     },
     "metadata": {},
     "output_type": "display_data"
    }
   ],
   "source": [
    "display(_corr_mat.quantile(np.arange(0, 0.001, 0.0001)))"
   ]
  },
  {
   "cell_type": "code",
   "execution_count": 64,
   "id": "bb34d782-9aaa-48ce-b526-8323522166a3",
   "metadata": {
    "execution": {
     "iopub.execute_input": "2022-08-29T14:31:50.481152Z",
     "iopub.status.busy": "2022-08-29T14:31:50.480955Z",
     "iopub.status.idle": "2022-08-29T14:31:50.504495Z",
     "shell.execute_reply": "2022-08-29T14:31:50.503982Z"
    },
    "papermill": {
     "duration": 0.047973,
     "end_time": "2022-08-29T14:31:50.505949",
     "exception": false,
     "start_time": "2022-08-29T14:31:50.457976",
     "status": "completed"
    },
    "tags": []
   },
   "outputs": [
    {
     "data": {
      "text/plain": [
       "0.9990    0.498304\n",
       "0.9991    0.518947\n",
       "0.9992    0.539115\n",
       "0.9993    0.559985\n",
       "0.9994    0.581795\n",
       "0.9995    0.614021\n",
       "0.9996    0.646098\n",
       "0.9997    0.680520\n",
       "0.9998    0.719515\n",
       "0.9999    0.793944\n",
       "1.0000    0.999998\n",
       "dtype: float64"
      ]
     },
     "metadata": {},
     "output_type": "display_data"
    }
   ],
   "source": [
    "display(_corr_mat.quantile(np.arange(0.999, 1.0, 0.0001)))"
   ]
  },
  {
   "cell_type": "markdown",
   "id": "fd4ce75c-e759-48b5-9b2b-584438302fff",
   "metadata": {
    "papermill": {
     "duration": 0.021635,
     "end_time": "2022-08-29T14:31:50.549748",
     "exception": false,
     "start_time": "2022-08-29T14:31:50.528113",
     "status": "completed"
    },
    "tags": []
   },
   "source": [
    "### Plot: distribution"
   ]
  },
  {
   "cell_type": "code",
   "execution_count": 65,
   "id": "7da6aa50-81da-4f75-9d54-4fad6a3fb5a5",
   "metadata": {
    "execution": {
     "iopub.execute_input": "2022-08-29T14:31:50.597348Z",
     "iopub.status.busy": "2022-08-29T14:31:50.597151Z",
     "iopub.status.idle": "2022-08-29T14:32:15.074363Z",
     "shell.execute_reply": "2022-08-29T14:32:15.073775Z"
    },
    "papermill": {
     "duration": 24.502478,
     "end_time": "2022-08-29T14:32:15.076045",
     "exception": false,
     "start_time": "2022-08-29T14:31:50.573567",
     "status": "completed"
    },
    "tags": []
   },
   "outputs": [
    {
     "data": {
      "image/png": "[encoded data removed]",
      "text/plain": [
       "<Figure size 504x504 with 1 Axes>"
      ]
     },
     "metadata": {
      "needs_background": "light"
     },
     "output_type": "display_data"
    }
   ],
   "source": [
    "with sns.plotting_context(\"paper\", font_scale=1.5):\n",
    "    g = sns.displot(_corr_mat, kde=True, height=7)\n",
    "    g.ax.set_title(\"Distribution of gene correlation values in all chromosomes\")"
   ]
  },
  {
   "cell_type": "code",
   "execution_count": null,
   "id": "38cf09b7",
   "metadata": {
    "papermill": {
     "duration": 0.021968,
     "end_time": "2022-08-29T14:32:15.121242",
     "exception": false,
     "start_time": "2022-08-29T14:32:15.099274",
     "status": "completed"
    },
    "tags": []
   },
   "outputs": [],
   "source": []
  }
 ],
 "metadata": {
  "jupytext": {
   "cell_metadata_filter": "all,-execution,-papermill,-trusted",
   "formats": "ipynb,py//py:percent"
  },
  "kernelspec": {
   "display_name": "Python 3 (ipykernel)",
   "language": "python",
   "name": "python3"
  },
  "language_info": {
   "codemirror_mode": {
    "name": "ipython",
    "version": 3
   },
   "file_extension": ".py",
   "mimetype": "text/x-python",
   "name": "python",
   "nbconvert_exporter": "python",
   "pygments_lexer": "ipython3",
   "version": "3.8.13"
  },
  "papermill": {
   "default_parameters": {},
   "duration": 261.559911,
   "end_time": "2022-08-29T14:32:16.378474",
   "environment_variables": {},
   "exception": null,
   "input_path": "nbs/15_gsa_gls/15-postprocess_gene_expr_correlations.ipynb",
   "output_path": "nbs/15_gsa_gls/gene_corrs/cohorts/phenomexcan_rapid_gwas/gtex_v8/mashr/15-postprocess_gene_expr_correlations.run.ipynb",
   "parameters": {
    "COHORT_NAME": "phenomexcan_rapid_gwas",
    "EQTL_MODEL": "MASHR",
    "REFERENCE_PANEL": "GTEX_V8"
   },
   "start_time": "2022-08-29T14:27:54.818563",
   "version": "2.2.2"
  }
 },
 "nbformat": 4,
 "nbformat_minor": 5
}
