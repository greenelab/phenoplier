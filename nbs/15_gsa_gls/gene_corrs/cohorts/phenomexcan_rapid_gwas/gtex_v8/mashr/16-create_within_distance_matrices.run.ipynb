{
 "cells": [
  {
   "cell_type": "markdown",
   "id": "5ef66977",
   "metadata": {
    "papermill": {
     "duration": 0.015259,
     "end_time": "2022-08-29T16:04:34.351571",
     "exception": false,
     "start_time": "2022-08-29T16:04:34.336312",
     "status": "completed"
    },
    "tags": []
   },
   "source": [
    "# Description"
   ]
  },
  {
   "cell_type": "markdown",
   "id": "658d4f7c",
   "metadata": {
    "papermill": {
     "duration": 0.009962,
     "end_time": "2022-08-29T16:04:34.371811",
     "exception": false,
     "start_time": "2022-08-29T16:04:34.361849",
     "status": "completed"
    },
    "tags": []
   },
   "source": [
    "(Please, take a look at the README.md file in this directory for instructions on how to run this notebook)\n",
    "\n",
    "This notebook reads the correlation matrix generated and creates new matrices with different \"within distances\" across genes.\n",
    "For example, it generates a new correlation matrix with only genes within a distance of 10mb."
   ]
  },
  {
   "cell_type": "markdown",
   "id": "60fa4530",
   "metadata": {
    "papermill": {
     "duration": 0.009521,
     "end_time": "2022-08-29T16:04:34.391013",
     "exception": false,
     "start_time": "2022-08-29T16:04:34.381492",
     "status": "completed"
    },
    "tags": []
   },
   "source": [
    "# Modules"
   ]
  },
  {
   "cell_type": "code",
   "execution_count": 1,
   "id": "d70b0833",
   "metadata": {
    "execution": {
     "iopub.execute_input": "2022-08-29T16:04:34.410968Z",
     "iopub.status.busy": "2022-08-29T16:04:34.410537Z",
     "iopub.status.idle": "2022-08-29T16:04:34.476849Z",
     "shell.execute_reply": "2022-08-29T16:04:34.475844Z"
    },
    "papermill": {
     "duration": 0.080245,
     "end_time": "2022-08-29T16:04:34.480295",
     "exception": false,
     "start_time": "2022-08-29T16:04:34.400050",
     "status": "completed"
    },
    "tags": []
   },
   "outputs": [],
   "source": [
    "%load_ext autoreload\n",
    "%autoreload 2"
   ]
  },
  {
   "cell_type": "code",
   "execution_count": 2,
   "id": "6b2f9ca0",
   "metadata": {
    "execution": {
     "iopub.execute_input": "2022-08-29T16:04:34.499216Z",
     "iopub.status.busy": "2022-08-29T16:04:34.498873Z",
     "iopub.status.idle": "2022-08-29T16:04:36.981100Z",
     "shell.execute_reply": "2022-08-29T16:04:36.980382Z"
    },
    "papermill": {
     "duration": 2.494253,
     "end_time": "2022-08-29T16:04:36.983055",
     "exception": false,
     "start_time": "2022-08-29T16:04:34.488802",
     "status": "completed"
    },
    "tags": []
   },
   "outputs": [],
   "source": [
    "import pickle\n",
    "\n",
    "import numpy as np\n",
    "from scipy.spatial.distance import squareform\n",
    "import pandas as pd\n",
    "import matplotlib.pyplot as plt\n",
    "import seaborn as sns\n",
    "\n",
    "import conf\n",
    "from entity import Gene\n",
    "from correlations import (\n",
    "    check_pos_def,\n",
    "    compare_matrices,\n",
    "    correct_corr_mat,\n",
    "    adjust_non_pos_def,\n",
    ")"
   ]
  },
  {
   "cell_type": "markdown",
   "id": "5b96e797",
   "metadata": {
    "papermill": {
     "duration": 0.005333,
     "end_time": "2022-08-29T16:04:36.994903",
     "exception": false,
     "start_time": "2022-08-29T16:04:36.989570",
     "status": "completed"
    },
    "tags": []
   },
   "source": [
    "# Settings"
   ]
  },
  {
   "cell_type": "code",
   "execution_count": 3,
   "id": "4fc1b6a0",
   "metadata": {
    "execution": {
     "iopub.execute_input": "2022-08-29T16:04:37.006738Z",
     "iopub.status.busy": "2022-08-29T16:04:37.006537Z",
     "iopub.status.idle": "2022-08-29T16:04:37.105174Z",
     "shell.execute_reply": "2022-08-29T16:04:37.104680Z"
    },
    "papermill": {
     "duration": 0.106547,
     "end_time": "2022-08-29T16:04:37.106727",
     "exception": false,
     "start_time": "2022-08-29T16:04:37.000180",
     "status": "completed"
    },
    "tags": [
     "parameters"
    ]
   },
   "outputs": [],
   "source": [
    "# a cohort name (it could be something like UK_BIOBANK, etc)\n",
    "COHORT_NAME = None\n",
    "\n",
    "# reference panel such as 1000G or GTEX_V8\n",
    "REFERENCE_PANEL = None\n",
    "\n",
    "# predictions models such as MASHR or ELASTIC_NET\n",
    "EQTL_MODEL = None\n",
    "\n",
    "# a list with different distances to generate\n",
    "DISTANCES = [10, 5, 2]"
   ]
  },
  {
   "cell_type": "code",
   "execution_count": 4,
   "id": "cb6f5513",
   "metadata": {
    "execution": {
     "iopub.execute_input": "2022-08-29T16:04:37.118730Z",
     "iopub.status.busy": "2022-08-29T16:04:37.118538Z",
     "iopub.status.idle": "2022-08-29T16:04:37.133729Z",
     "shell.execute_reply": "2022-08-29T16:04:37.133232Z"
    },
    "papermill": {
     "duration": 0.022984,
     "end_time": "2022-08-29T16:04:37.135315",
     "exception": false,
     "start_time": "2022-08-29T16:04:37.112331",
     "status": "completed"
    },
    "tags": [
     "injected-parameters"
    ]
   },
   "outputs": [],
   "source": [
    "# Parameters\n",
    "COHORT_NAME = \"phenomexcan_rapid_gwas\"\n",
    "REFERENCE_PANEL = \"GTEX_V8\"\n",
    "EQTL_MODEL = \"MASHR\"\n"
   ]
  },
  {
   "cell_type": "code",
   "execution_count": 5,
   "id": "6dba5c90-40a4-4a62-899e-1711ab4e40bb",
   "metadata": {
    "execution": {
     "iopub.execute_input": "2022-08-29T16:04:37.147756Z",
     "iopub.status.busy": "2022-08-29T16:04:37.147564Z",
     "iopub.status.idle": "2022-08-29T16:04:37.166247Z",
     "shell.execute_reply": "2022-08-29T16:04:37.165652Z"
    },
    "papermill": {
     "duration": 0.026146,
     "end_time": "2022-08-29T16:04:37.167693",
     "exception": false,
     "start_time": "2022-08-29T16:04:37.141547",
     "status": "completed"
    },
    "tags": []
   },
   "outputs": [
    {
     "data": {
      "text/plain": [
       "'Cohort name: phenomexcan_rapid_gwas'"
      ]
     },
     "metadata": {},
     "output_type": "display_data"
    }
   ],
   "source": [
    "assert COHORT_NAME is not None and len(COHORT_NAME) > 0, \"A cohort name must be given\"\n",
    "\n",
    "COHORT_NAME = COHORT_NAME.lower()\n",
    "display(f\"Cohort name: {COHORT_NAME}\")"
   ]
  },
  {
   "cell_type": "code",
   "execution_count": 6,
   "id": "90be4359-19db-4c2d-a3ca-202674476164",
   "metadata": {
    "execution": {
     "iopub.execute_input": "2022-08-29T16:04:37.179784Z",
     "iopub.status.busy": "2022-08-29T16:04:37.179593Z",
     "iopub.status.idle": "2022-08-29T16:04:37.196742Z",
     "shell.execute_reply": "2022-08-29T16:04:37.195982Z"
    },
    "papermill": {
     "duration": 0.025255,
     "end_time": "2022-08-29T16:04:37.198275",
     "exception": false,
     "start_time": "2022-08-29T16:04:37.173020",
     "status": "completed"
    },
    "tags": []
   },
   "outputs": [
    {
     "data": {
      "text/plain": [
       "'Reference panel: GTEX_V8'"
      ]
     },
     "metadata": {},
     "output_type": "display_data"
    }
   ],
   "source": [
    "assert (\n",
    "    REFERENCE_PANEL is not None and len(REFERENCE_PANEL) > 0\n",
    "), \"A reference panel must be given\"\n",
    "\n",
    "display(f\"Reference panel: {REFERENCE_PANEL}\")"
   ]
  },
  {
   "cell_type": "code",
   "execution_count": 7,
   "id": "d959f3f4-8f7b-4313-b3b1-37606e7250bf",
   "metadata": {
    "execution": {
     "iopub.execute_input": "2022-08-29T16:04:37.210103Z",
     "iopub.status.busy": "2022-08-29T16:04:37.209913Z",
     "iopub.status.idle": "2022-08-29T16:04:37.226883Z",
     "shell.execute_reply": "2022-08-29T16:04:37.226311Z"
    },
    "papermill": {
     "duration": 0.024708,
     "end_time": "2022-08-29T16:04:37.228425",
     "exception": false,
     "start_time": "2022-08-29T16:04:37.203717",
     "status": "completed"
    },
    "tags": []
   },
   "outputs": [
    {
     "data": {
      "text/plain": [
       "'eQTL model: MASHR)'"
      ]
     },
     "metadata": {},
     "output_type": "display_data"
    }
   ],
   "source": [
    "assert (\n",
    "    EQTL_MODEL is not None and len(EQTL_MODEL) > 0\n",
    "), \"A prediction/eQTL model must be given\"\n",
    "\n",
    "display(f\"eQTL model: {EQTL_MODEL})\")"
   ]
  },
  {
   "cell_type": "code",
   "execution_count": 8,
   "id": "ac0c0705-90e4-42f8-8298-a457c7e778ff",
   "metadata": {
    "execution": {
     "iopub.execute_input": "2022-08-29T16:04:37.240890Z",
     "iopub.status.busy": "2022-08-29T16:04:37.240697Z",
     "iopub.status.idle": "2022-08-29T16:04:37.259633Z",
     "shell.execute_reply": "2022-08-29T16:04:37.259030Z"
    },
    "papermill": {
     "duration": 0.027007,
     "end_time": "2022-08-29T16:04:37.261171",
     "exception": false,
     "start_time": "2022-08-29T16:04:37.234164",
     "status": "completed"
    },
    "tags": []
   },
   "outputs": [
    {
     "data": {
      "text/plain": [
       "'Using output dir base: /project/ritchie20/projects/phenoplier/base/results/gls/gene_corrs/cohorts/phenomexcan_rapid_gwas/gtex_v8/mashr'"
      ]
     },
     "metadata": {},
     "output_type": "display_data"
    }
   ],
   "source": [
    "OUTPUT_DIR_BASE = (\n",
    "    conf.RESULTS[\"GLS\"]\n",
    "    / \"gene_corrs\"\n",
    "    / \"cohorts\"\n",
    "    / COHORT_NAME\n",
    "    / REFERENCE_PANEL.lower()\n",
    "    / EQTL_MODEL.lower()\n",
    ")\n",
    "assert OUTPUT_DIR_BASE.exists()\n",
    "\n",
    "display(f\"Using output dir base: {OUTPUT_DIR_BASE}\")"
   ]
  },
  {
   "cell_type": "markdown",
   "id": "99ccb166",
   "metadata": {
    "papermill": {
     "duration": 0.006876,
     "end_time": "2022-08-29T16:04:37.274487",
     "exception": false,
     "start_time": "2022-08-29T16:04:37.267611",
     "status": "completed"
    },
    "tags": []
   },
   "source": [
    "# Load data"
   ]
  },
  {
   "cell_type": "markdown",
   "id": "028bdd42",
   "metadata": {
    "papermill": {
     "duration": 0.007186,
     "end_time": "2022-08-29T16:04:37.287746",
     "exception": false,
     "start_time": "2022-08-29T16:04:37.280560",
     "status": "completed"
    },
    "tags": []
   },
   "source": [
    "## Gene correlations"
   ]
  },
  {
   "cell_type": "code",
   "execution_count": 9,
   "id": "04624465",
   "metadata": {
    "execution": {
     "iopub.execute_input": "2022-08-29T16:04:37.300175Z",
     "iopub.status.busy": "2022-08-29T16:04:37.299986Z",
     "iopub.status.idle": "2022-08-29T16:04:37.608915Z",
     "shell.execute_reply": "2022-08-29T16:04:37.608312Z"
    },
    "papermill": {
     "duration": 0.317391,
     "end_time": "2022-08-29T16:04:37.610899",
     "exception": false,
     "start_time": "2022-08-29T16:04:37.293508",
     "status": "completed"
    },
    "tags": []
   },
   "outputs": [],
   "source": [
    "gene_corrs = pd.read_pickle(OUTPUT_DIR_BASE / \"gene_corrs-symbols.pkl\")"
   ]
  },
  {
   "cell_type": "code",
   "execution_count": 10,
   "id": "be5869e7-d0e4-4b8f-8c6d-a1c6a9419fe2",
   "metadata": {
    "execution": {
     "iopub.execute_input": "2022-08-29T16:04:37.623581Z",
     "iopub.status.busy": "2022-08-29T16:04:37.623383Z",
     "iopub.status.idle": "2022-08-29T16:04:37.650071Z",
     "shell.execute_reply": "2022-08-29T16:04:37.649579Z"
    },
    "papermill": {
     "duration": 0.034514,
     "end_time": "2022-08-29T16:04:37.651554",
     "exception": false,
     "start_time": "2022-08-29T16:04:37.617040",
     "status": "completed"
    },
    "tags": []
   },
   "outputs": [
    {
     "data": {
      "text/plain": [
       "(6428, 6428)"
      ]
     },
     "execution_count": 10,
     "metadata": {},
     "output_type": "execute_result"
    }
   ],
   "source": [
    "gene_corrs.shape"
   ]
  },
  {
   "cell_type": "code",
   "execution_count": 11,
   "id": "8a47b0fc-fdf2-45e8-baa9-b203a2b0e74b",
   "metadata": {
    "execution": {
     "iopub.execute_input": "2022-08-29T16:04:37.664219Z",
     "iopub.status.busy": "2022-08-29T16:04:37.664027Z",
     "iopub.status.idle": "2022-08-29T16:04:37.699886Z",
     "shell.execute_reply": "2022-08-29T16:04:37.699263Z"
    },
    "papermill": {
     "duration": 0.043821,
     "end_time": "2022-08-29T16:04:37.701323",
     "exception": false,
     "start_time": "2022-08-29T16:04:37.657502",
     "status": "completed"
    },
    "tags": []
   },
   "outputs": [
    {
     "data": {
      "text/html": [
       "<div>\n",
       "<style scoped>\n",
       "    .dataframe tbody tr th:only-of-type {\n",
       "        vertical-align: middle;\n",
       "    }\n",
       "\n",
       "    .dataframe tbody tr th {\n",
       "        vertical-align: top;\n",
       "    }\n",
       "\n",
       "    .dataframe thead th {\n",
       "        text-align: right;\n",
       "    }\n",
       "</style>\n",
       "<table border=\"1\" class=\"dataframe\">\n",
       "  <thead>\n",
       "    <tr style=\"text-align: right;\">\n",
       "      <th></th>\n",
       "      <th>NOC2L</th>\n",
       "      <th>HES4</th>\n",
       "      <th>ISG15</th>\n",
       "      <th>AGRN</th>\n",
       "      <th>TNFRSF18</th>\n",
       "      <th>TNFRSF4</th>\n",
       "      <th>B3GALT6</th>\n",
       "      <th>UBE2J2</th>\n",
       "      <th>ACAP3</th>\n",
       "      <th>TAS1R3</th>\n",
       "      <th>...</th>\n",
       "      <th>PLXNB2</th>\n",
       "      <th>ADM2</th>\n",
       "      <th>MIOX</th>\n",
       "      <th>SCO2</th>\n",
       "      <th>TYMP</th>\n",
       "      <th>CPT1B</th>\n",
       "      <th>CHKB</th>\n",
       "      <th>MAPK8IP2</th>\n",
       "      <th>ARSA</th>\n",
       "      <th>SHANK3</th>\n",
       "    </tr>\n",
       "  </thead>\n",
       "  <tbody>\n",
       "    <tr>\n",
       "      <th>NOC2L</th>\n",
       "      <td>1.000000</td>\n",
       "      <td>0.118397</td>\n",
       "      <td>0.103852</td>\n",
       "      <td>0.091980</td>\n",
       "      <td>0.006284</td>\n",
       "      <td>0.007338</td>\n",
       "      <td>0.004868</td>\n",
       "      <td>0.043019</td>\n",
       "      <td>0.012004</td>\n",
       "      <td>0.006924</td>\n",
       "      <td>...</td>\n",
       "      <td>0.0</td>\n",
       "      <td>0.0</td>\n",
       "      <td>0.0</td>\n",
       "      <td>0.0</td>\n",
       "      <td>0.0</td>\n",
       "      <td>0.0</td>\n",
       "      <td>0.0</td>\n",
       "      <td>0.0</td>\n",
       "      <td>0.0</td>\n",
       "      <td>0.0</td>\n",
       "    </tr>\n",
       "    <tr>\n",
       "      <th>HES4</th>\n",
       "      <td>0.118397</td>\n",
       "      <td>1.000000</td>\n",
       "      <td>0.849549</td>\n",
       "      <td>0.402466</td>\n",
       "      <td>0.011284</td>\n",
       "      <td>0.008897</td>\n",
       "      <td>0.005317</td>\n",
       "      <td>0.010216</td>\n",
       "      <td>0.002582</td>\n",
       "      <td>0.005373</td>\n",
       "      <td>...</td>\n",
       "      <td>0.0</td>\n",
       "      <td>0.0</td>\n",
       "      <td>0.0</td>\n",
       "      <td>0.0</td>\n",
       "      <td>0.0</td>\n",
       "      <td>0.0</td>\n",
       "      <td>0.0</td>\n",
       "      <td>0.0</td>\n",
       "      <td>0.0</td>\n",
       "      <td>0.0</td>\n",
       "    </tr>\n",
       "    <tr>\n",
       "      <th>ISG15</th>\n",
       "      <td>0.103852</td>\n",
       "      <td>0.849549</td>\n",
       "      <td>1.000000</td>\n",
       "      <td>0.398077</td>\n",
       "      <td>0.011218</td>\n",
       "      <td>0.011083</td>\n",
       "      <td>0.006313</td>\n",
       "      <td>0.012211</td>\n",
       "      <td>0.003459</td>\n",
       "      <td>0.009198</td>\n",
       "      <td>...</td>\n",
       "      <td>0.0</td>\n",
       "      <td>0.0</td>\n",
       "      <td>0.0</td>\n",
       "      <td>0.0</td>\n",
       "      <td>0.0</td>\n",
       "      <td>0.0</td>\n",
       "      <td>0.0</td>\n",
       "      <td>0.0</td>\n",
       "      <td>0.0</td>\n",
       "      <td>0.0</td>\n",
       "    </tr>\n",
       "    <tr>\n",
       "      <th>AGRN</th>\n",
       "      <td>0.091980</td>\n",
       "      <td>0.402466</td>\n",
       "      <td>0.398077</td>\n",
       "      <td>1.000000</td>\n",
       "      <td>0.005065</td>\n",
       "      <td>0.011509</td>\n",
       "      <td>0.001824</td>\n",
       "      <td>0.011029</td>\n",
       "      <td>0.005019</td>\n",
       "      <td>0.006681</td>\n",
       "      <td>...</td>\n",
       "      <td>0.0</td>\n",
       "      <td>0.0</td>\n",
       "      <td>0.0</td>\n",
       "      <td>0.0</td>\n",
       "      <td>0.0</td>\n",
       "      <td>0.0</td>\n",
       "      <td>0.0</td>\n",
       "      <td>0.0</td>\n",
       "      <td>0.0</td>\n",
       "      <td>0.0</td>\n",
       "    </tr>\n",
       "    <tr>\n",
       "      <th>TNFRSF18</th>\n",
       "      <td>0.006284</td>\n",
       "      <td>0.011284</td>\n",
       "      <td>0.011218</td>\n",
       "      <td>0.005065</td>\n",
       "      <td>1.000000</td>\n",
       "      <td>0.337836</td>\n",
       "      <td>0.551124</td>\n",
       "      <td>0.107460</td>\n",
       "      <td>0.193531</td>\n",
       "      <td>0.101072</td>\n",
       "      <td>...</td>\n",
       "      <td>0.0</td>\n",
       "      <td>0.0</td>\n",
       "      <td>0.0</td>\n",
       "      <td>0.0</td>\n",
       "      <td>0.0</td>\n",
       "      <td>0.0</td>\n",
       "      <td>0.0</td>\n",
       "      <td>0.0</td>\n",
       "      <td>0.0</td>\n",
       "      <td>0.0</td>\n",
       "    </tr>\n",
       "  </tbody>\n",
       "</table>\n",
       "<p>5 rows × 6428 columns</p>\n",
       "</div>"
      ],
      "text/plain": [
       "             NOC2L      HES4     ISG15      AGRN  TNFRSF18   TNFRSF4  \\\n",
       "NOC2L     1.000000  0.118397  0.103852  0.091980  0.006284  0.007338   \n",
       "HES4      0.118397  1.000000  0.849549  0.402466  0.011284  0.008897   \n",
       "ISG15     0.103852  0.849549  1.000000  0.398077  0.011218  0.011083   \n",
       "AGRN      0.091980  0.402466  0.398077  1.000000  0.005065  0.011509   \n",
       "TNFRSF18  0.006284  0.011284  0.011218  0.005065  1.000000  0.337836   \n",
       "\n",
       "           B3GALT6    UBE2J2     ACAP3    TAS1R3  ...  PLXNB2  ADM2  MIOX  \\\n",
       "NOC2L     0.004868  0.043019  0.012004  0.006924  ...     0.0   0.0   0.0   \n",
       "HES4      0.005317  0.010216  0.002582  0.005373  ...     0.0   0.0   0.0   \n",
       "ISG15     0.006313  0.012211  0.003459  0.009198  ...     0.0   0.0   0.0   \n",
       "AGRN      0.001824  0.011029  0.005019  0.006681  ...     0.0   0.0   0.0   \n",
       "TNFRSF18  0.551124  0.107460  0.193531  0.101072  ...     0.0   0.0   0.0   \n",
       "\n",
       "          SCO2  TYMP  CPT1B  CHKB  MAPK8IP2  ARSA  SHANK3  \n",
       "NOC2L      0.0   0.0    0.0   0.0       0.0   0.0     0.0  \n",
       "HES4       0.0   0.0    0.0   0.0       0.0   0.0     0.0  \n",
       "ISG15      0.0   0.0    0.0   0.0       0.0   0.0     0.0  \n",
       "AGRN       0.0   0.0    0.0   0.0       0.0   0.0     0.0  \n",
       "TNFRSF18   0.0   0.0    0.0   0.0       0.0   0.0     0.0  \n",
       "\n",
       "[5 rows x 6428 columns]"
      ]
     },
     "execution_count": 11,
     "metadata": {},
     "output_type": "execute_result"
    }
   ],
   "source": [
    "gene_corrs.head()"
   ]
  },
  {
   "cell_type": "code",
   "execution_count": 12,
   "id": "16c50875-d781-4681-b683-5b74f639258c",
   "metadata": {
    "execution": {
     "iopub.execute_input": "2022-08-29T16:04:37.714647Z",
     "iopub.status.busy": "2022-08-29T16:04:37.714454Z",
     "iopub.status.idle": "2022-08-29T16:04:38.056429Z",
     "shell.execute_reply": "2022-08-29T16:04:38.055727Z"
    },
    "papermill": {
     "duration": 0.350489,
     "end_time": "2022-08-29T16:04:38.058134",
     "exception": false,
     "start_time": "2022-08-29T16:04:37.707645",
     "status": "completed"
    },
    "tags": []
   },
   "outputs": [
    {
     "data": {
      "text/plain": [
       "'Number of genes with correlations with other genes: 6428'"
      ]
     },
     "metadata": {},
     "output_type": "display_data"
    }
   ],
   "source": [
    "genes_corrs_sum = gene_corrs.sum()\n",
    "n_genes_included = genes_corrs_sum[genes_corrs_sum > 1.0].shape[0]\n",
    "display(f\"Number of genes with correlations with other genes: {n_genes_included}\")"
   ]
  },
  {
   "cell_type": "code",
   "execution_count": 13,
   "id": "02484bfa-bae0-404b-9f3b-a82f1fc3f227",
   "metadata": {
    "execution": {
     "iopub.execute_input": "2022-08-29T16:04:38.072539Z",
     "iopub.status.busy": "2022-08-29T16:04:38.072334Z",
     "iopub.status.idle": "2022-08-29T16:04:38.324839Z",
     "shell.execute_reply": "2022-08-29T16:04:38.324293Z"
    },
    "papermill": {
     "duration": 0.261163,
     "end_time": "2022-08-29T16:04:38.326375",
     "exception": false,
     "start_time": "2022-08-29T16:04:38.065212",
     "status": "completed"
    },
    "tags": []
   },
   "outputs": [
    {
     "data": {
      "text/plain": [
       "'Number of nonzero cells: 2340990'"
      ]
     },
     "metadata": {},
     "output_type": "display_data"
    }
   ],
   "source": [
    "genes_corrs_nonzero_sum = (gene_corrs > 0.0).astype(int).sum().sum()\n",
    "display(f\"Number of nonzero cells: {genes_corrs_nonzero_sum}\")"
   ]
  },
  {
   "cell_type": "markdown",
   "id": "99d01a88-2f71-41eb-a423-a17378bbb174",
   "metadata": {
    "papermill": {
     "duration": 0.006601,
     "end_time": "2022-08-29T16:04:38.340251",
     "exception": false,
     "start_time": "2022-08-29T16:04:38.333650",
     "status": "completed"
    },
    "tags": []
   },
   "source": [
    "## Get gene objects"
   ]
  },
  {
   "cell_type": "code",
   "execution_count": 14,
   "id": "6a5e95f0-eeab-4716-8982-b1dbbd8763d8",
   "metadata": {
    "execution": {
     "iopub.execute_input": "2022-08-29T16:04:38.354057Z",
     "iopub.status.busy": "2022-08-29T16:04:38.353857Z",
     "iopub.status.idle": "2022-08-29T16:04:38.393390Z",
     "shell.execute_reply": "2022-08-29T16:04:38.392718Z"
    },
    "papermill": {
     "duration": 0.048235,
     "end_time": "2022-08-29T16:04:38.394930",
     "exception": false,
     "start_time": "2022-08-29T16:04:38.346695",
     "status": "completed"
    },
    "tags": []
   },
   "outputs": [],
   "source": [
    "gene_objs = [Gene(name=gene_name) for gene_name in gene_corrs.index]"
   ]
  },
  {
   "cell_type": "code",
   "execution_count": 15,
   "id": "81ca7c6e-69c4-48c4-b44f-ec9a2b8bb527",
   "metadata": {
    "execution": {
     "iopub.execute_input": "2022-08-29T16:04:38.408943Z",
     "iopub.status.busy": "2022-08-29T16:04:38.408750Z",
     "iopub.status.idle": "2022-08-29T16:04:38.427513Z",
     "shell.execute_reply": "2022-08-29T16:04:38.426772Z"
    },
    "papermill": {
     "duration": 0.027194,
     "end_time": "2022-08-29T16:04:38.429040",
     "exception": false,
     "start_time": "2022-08-29T16:04:38.401846",
     "status": "completed"
    },
    "tags": []
   },
   "outputs": [
    {
     "data": {
      "text/plain": [
       "6428"
      ]
     },
     "metadata": {},
     "output_type": "display_data"
    }
   ],
   "source": [
    "display(len(gene_objs))"
   ]
  },
  {
   "cell_type": "markdown",
   "id": "0bc01310-5d9c-4355-8064-b67c5a22311c",
   "metadata": {
    "papermill": {
     "duration": 0.006702,
     "end_time": "2022-08-29T16:04:38.442286",
     "exception": false,
     "start_time": "2022-08-29T16:04:38.435584",
     "status": "completed"
    },
    "tags": []
   },
   "source": [
    "# Subset full correlation matrix using difference \"within distances\" across genes"
   ]
  },
  {
   "cell_type": "code",
   "execution_count": 16,
   "id": "85db0d88-7bd5-4cfd-a9b2-6dc07353ecff",
   "metadata": {
    "execution": {
     "iopub.execute_input": "2022-08-29T16:04:38.481146Z",
     "iopub.status.busy": "2022-08-29T16:04:38.480908Z",
     "iopub.status.idle": "2022-08-29T16:12:28.328977Z",
     "shell.execute_reply": "2022-08-29T16:12:28.327671Z"
    },
    "papermill": {
     "duration": 469.859231,
     "end_time": "2022-08-29T16:12:28.332327",
     "exception": false,
     "start_time": "2022-08-29T16:04:38.473096",
     "status": "completed"
    },
    "tags": []
   },
   "outputs": [
    {
     "name": "stdout",
     "output_type": "stream",
     "text": [
      "Using within distance: 5.0\n"
     ]
    },
    {
     "data": {
      "text/html": [
       "<div>\n",
       "<style scoped>\n",
       "    .dataframe tbody tr th:only-of-type {\n",
       "        vertical-align: middle;\n",
       "    }\n",
       "\n",
       "    .dataframe tbody tr th {\n",
       "        vertical-align: top;\n",
       "    }\n",
       "\n",
       "    .dataframe thead th {\n",
       "        text-align: right;\n",
       "    }\n",
       "</style>\n",
       "<table border=\"1\" class=\"dataframe\">\n",
       "  <thead>\n",
       "    <tr style=\"text-align: right;\">\n",
       "      <th></th>\n",
       "      <th>NOC2L</th>\n",
       "      <th>HES4</th>\n",
       "      <th>ISG15</th>\n",
       "      <th>AGRN</th>\n",
       "      <th>TNFRSF18</th>\n",
       "      <th>TNFRSF4</th>\n",
       "      <th>B3GALT6</th>\n",
       "      <th>UBE2J2</th>\n",
       "      <th>ACAP3</th>\n",
       "      <th>TAS1R3</th>\n",
       "      <th>...</th>\n",
       "      <th>PLXNB2</th>\n",
       "      <th>ADM2</th>\n",
       "      <th>MIOX</th>\n",
       "      <th>SCO2</th>\n",
       "      <th>TYMP</th>\n",
       "      <th>CPT1B</th>\n",
       "      <th>CHKB</th>\n",
       "      <th>MAPK8IP2</th>\n",
       "      <th>ARSA</th>\n",
       "      <th>SHANK3</th>\n",
       "    </tr>\n",
       "  </thead>\n",
       "  <tbody>\n",
       "    <tr>\n",
       "      <th>NOC2L</th>\n",
       "      <td>1.000000</td>\n",
       "      <td>0.118397</td>\n",
       "      <td>0.103852</td>\n",
       "      <td>0.091980</td>\n",
       "      <td>0.006284</td>\n",
       "      <td>0.007338</td>\n",
       "      <td>0.004868</td>\n",
       "      <td>0.043019</td>\n",
       "      <td>0.012004</td>\n",
       "      <td>0.006924</td>\n",
       "      <td>...</td>\n",
       "      <td>0.000000</td>\n",
       "      <td>0.000000</td>\n",
       "      <td>0.000000</td>\n",
       "      <td>0.000000</td>\n",
       "      <td>0.000000</td>\n",
       "      <td>0.000000</td>\n",
       "      <td>0.000000</td>\n",
       "      <td>0.000000</td>\n",
       "      <td>0.000000</td>\n",
       "      <td>0.000000</td>\n",
       "    </tr>\n",
       "    <tr>\n",
       "      <th>HES4</th>\n",
       "      <td>0.118397</td>\n",
       "      <td>1.000000</td>\n",
       "      <td>0.849549</td>\n",
       "      <td>0.402466</td>\n",
       "      <td>0.011284</td>\n",
       "      <td>0.008897</td>\n",
       "      <td>0.005317</td>\n",
       "      <td>0.010216</td>\n",
       "      <td>0.002582</td>\n",
       "      <td>0.005373</td>\n",
       "      <td>...</td>\n",
       "      <td>0.000000</td>\n",
       "      <td>0.000000</td>\n",
       "      <td>0.000000</td>\n",
       "      <td>0.000000</td>\n",
       "      <td>0.000000</td>\n",
       "      <td>0.000000</td>\n",
       "      <td>0.000000</td>\n",
       "      <td>0.000000</td>\n",
       "      <td>0.000000</td>\n",
       "      <td>0.000000</td>\n",
       "    </tr>\n",
       "    <tr>\n",
       "      <th>ISG15</th>\n",
       "      <td>0.103852</td>\n",
       "      <td>0.849549</td>\n",
       "      <td>1.000000</td>\n",
       "      <td>0.398077</td>\n",
       "      <td>0.011218</td>\n",
       "      <td>0.011083</td>\n",
       "      <td>0.006313</td>\n",
       "      <td>0.012211</td>\n",
       "      <td>0.003459</td>\n",
       "      <td>0.009198</td>\n",
       "      <td>...</td>\n",
       "      <td>0.000000</td>\n",
       "      <td>0.000000</td>\n",
       "      <td>0.000000</td>\n",
       "      <td>0.000000</td>\n",
       "      <td>0.000000</td>\n",
       "      <td>0.000000</td>\n",
       "      <td>0.000000</td>\n",
       "      <td>0.000000</td>\n",
       "      <td>0.000000</td>\n",
       "      <td>0.000000</td>\n",
       "    </tr>\n",
       "    <tr>\n",
       "      <th>AGRN</th>\n",
       "      <td>0.091980</td>\n",
       "      <td>0.402466</td>\n",
       "      <td>0.398077</td>\n",
       "      <td>1.000000</td>\n",
       "      <td>0.005065</td>\n",
       "      <td>0.011509</td>\n",
       "      <td>0.001824</td>\n",
       "      <td>0.011029</td>\n",
       "      <td>0.005019</td>\n",
       "      <td>0.006681</td>\n",
       "      <td>...</td>\n",
       "      <td>0.000000</td>\n",
       "      <td>0.000000</td>\n",
       "      <td>0.000000</td>\n",
       "      <td>0.000000</td>\n",
       "      <td>0.000000</td>\n",
       "      <td>0.000000</td>\n",
       "      <td>0.000000</td>\n",
       "      <td>0.000000</td>\n",
       "      <td>0.000000</td>\n",
       "      <td>0.000000</td>\n",
       "    </tr>\n",
       "    <tr>\n",
       "      <th>TNFRSF18</th>\n",
       "      <td>0.006284</td>\n",
       "      <td>0.011284</td>\n",
       "      <td>0.011218</td>\n",
       "      <td>0.005065</td>\n",
       "      <td>1.000000</td>\n",
       "      <td>0.337836</td>\n",
       "      <td>0.551124</td>\n",
       "      <td>0.107460</td>\n",
       "      <td>0.193531</td>\n",
       "      <td>0.101072</td>\n",
       "      <td>...</td>\n",
       "      <td>0.000000</td>\n",
       "      <td>0.000000</td>\n",
       "      <td>0.000000</td>\n",
       "      <td>0.000000</td>\n",
       "      <td>0.000000</td>\n",
       "      <td>0.000000</td>\n",
       "      <td>0.000000</td>\n",
       "      <td>0.000000</td>\n",
       "      <td>0.000000</td>\n",
       "      <td>0.000000</td>\n",
       "    </tr>\n",
       "    <tr>\n",
       "      <th>...</th>\n",
       "      <td>...</td>\n",
       "      <td>...</td>\n",
       "      <td>...</td>\n",
       "      <td>...</td>\n",
       "      <td>...</td>\n",
       "      <td>...</td>\n",
       "      <td>...</td>\n",
       "      <td>...</td>\n",
       "      <td>...</td>\n",
       "      <td>...</td>\n",
       "      <td>...</td>\n",
       "      <td>...</td>\n",
       "      <td>...</td>\n",
       "      <td>...</td>\n",
       "      <td>...</td>\n",
       "      <td>...</td>\n",
       "      <td>...</td>\n",
       "      <td>...</td>\n",
       "      <td>...</td>\n",
       "      <td>...</td>\n",
       "      <td>...</td>\n",
       "    </tr>\n",
       "    <tr>\n",
       "      <th>CPT1B</th>\n",
       "      <td>0.000000</td>\n",
       "      <td>0.000000</td>\n",
       "      <td>0.000000</td>\n",
       "      <td>0.000000</td>\n",
       "      <td>0.000000</td>\n",
       "      <td>0.000000</td>\n",
       "      <td>0.000000</td>\n",
       "      <td>0.000000</td>\n",
       "      <td>0.000000</td>\n",
       "      <td>0.000000</td>\n",
       "      <td>...</td>\n",
       "      <td>0.018582</td>\n",
       "      <td>0.046440</td>\n",
       "      <td>0.013164</td>\n",
       "      <td>0.256685</td>\n",
       "      <td>0.217944</td>\n",
       "      <td>1.000000</td>\n",
       "      <td>0.735633</td>\n",
       "      <td>0.180608</td>\n",
       "      <td>0.035560</td>\n",
       "      <td>0.009659</td>\n",
       "    </tr>\n",
       "    <tr>\n",
       "      <th>CHKB</th>\n",
       "      <td>0.000000</td>\n",
       "      <td>0.000000</td>\n",
       "      <td>0.000000</td>\n",
       "      <td>0.000000</td>\n",
       "      <td>0.000000</td>\n",
       "      <td>0.000000</td>\n",
       "      <td>0.000000</td>\n",
       "      <td>0.000000</td>\n",
       "      <td>0.000000</td>\n",
       "      <td>0.000000</td>\n",
       "      <td>...</td>\n",
       "      <td>0.030862</td>\n",
       "      <td>0.047002</td>\n",
       "      <td>0.013107</td>\n",
       "      <td>0.208659</td>\n",
       "      <td>0.207061</td>\n",
       "      <td>0.735633</td>\n",
       "      <td>1.000000</td>\n",
       "      <td>0.249817</td>\n",
       "      <td>0.041791</td>\n",
       "      <td>0.019987</td>\n",
       "    </tr>\n",
       "    <tr>\n",
       "      <th>MAPK8IP2</th>\n",
       "      <td>0.000000</td>\n",
       "      <td>0.000000</td>\n",
       "      <td>0.000000</td>\n",
       "      <td>0.000000</td>\n",
       "      <td>0.000000</td>\n",
       "      <td>0.000000</td>\n",
       "      <td>0.000000</td>\n",
       "      <td>0.000000</td>\n",
       "      <td>0.000000</td>\n",
       "      <td>0.000000</td>\n",
       "      <td>...</td>\n",
       "      <td>0.044312</td>\n",
       "      <td>0.093409</td>\n",
       "      <td>0.066327</td>\n",
       "      <td>0.052375</td>\n",
       "      <td>0.122987</td>\n",
       "      <td>0.180608</td>\n",
       "      <td>0.249817</td>\n",
       "      <td>1.000000</td>\n",
       "      <td>0.205484</td>\n",
       "      <td>0.040795</td>\n",
       "    </tr>\n",
       "    <tr>\n",
       "      <th>ARSA</th>\n",
       "      <td>0.000000</td>\n",
       "      <td>0.000000</td>\n",
       "      <td>0.000000</td>\n",
       "      <td>0.000000</td>\n",
       "      <td>0.000000</td>\n",
       "      <td>0.000000</td>\n",
       "      <td>0.000000</td>\n",
       "      <td>0.000000</td>\n",
       "      <td>0.000000</td>\n",
       "      <td>0.000000</td>\n",
       "      <td>...</td>\n",
       "      <td>0.012015</td>\n",
       "      <td>0.027591</td>\n",
       "      <td>0.021492</td>\n",
       "      <td>0.027293</td>\n",
       "      <td>0.035620</td>\n",
       "      <td>0.035560</td>\n",
       "      <td>0.041791</td>\n",
       "      <td>0.205484</td>\n",
       "      <td>1.000000</td>\n",
       "      <td>0.013757</td>\n",
       "    </tr>\n",
       "    <tr>\n",
       "      <th>SHANK3</th>\n",
       "      <td>0.000000</td>\n",
       "      <td>0.000000</td>\n",
       "      <td>0.000000</td>\n",
       "      <td>0.000000</td>\n",
       "      <td>0.000000</td>\n",
       "      <td>0.000000</td>\n",
       "      <td>0.000000</td>\n",
       "      <td>0.000000</td>\n",
       "      <td>0.000000</td>\n",
       "      <td>0.000000</td>\n",
       "      <td>...</td>\n",
       "      <td>0.009648</td>\n",
       "      <td>0.009185</td>\n",
       "      <td>0.003298</td>\n",
       "      <td>0.002652</td>\n",
       "      <td>0.002471</td>\n",
       "      <td>0.009659</td>\n",
       "      <td>0.019987</td>\n",
       "      <td>0.040795</td>\n",
       "      <td>0.013757</td>\n",
       "      <td>1.000000</td>\n",
       "    </tr>\n",
       "  </tbody>\n",
       "</table>\n",
       "<p>6428 rows × 6428 columns</p>\n",
       "</div>"
      ],
      "text/plain": [
       "             NOC2L      HES4     ISG15      AGRN  TNFRSF18   TNFRSF4  \\\n",
       "NOC2L     1.000000  0.118397  0.103852  0.091980  0.006284  0.007338   \n",
       "HES4      0.118397  1.000000  0.849549  0.402466  0.011284  0.008897   \n",
       "ISG15     0.103852  0.849549  1.000000  0.398077  0.011218  0.011083   \n",
       "AGRN      0.091980  0.402466  0.398077  1.000000  0.005065  0.011509   \n",
       "TNFRSF18  0.006284  0.011284  0.011218  0.005065  1.000000  0.337836   \n",
       "...            ...       ...       ...       ...       ...       ...   \n",
       "CPT1B     0.000000  0.000000  0.000000  0.000000  0.000000  0.000000   \n",
       "CHKB      0.000000  0.000000  0.000000  0.000000  0.000000  0.000000   \n",
       "MAPK8IP2  0.000000  0.000000  0.000000  0.000000  0.000000  0.000000   \n",
       "ARSA      0.000000  0.000000  0.000000  0.000000  0.000000  0.000000   \n",
       "SHANK3    0.000000  0.000000  0.000000  0.000000  0.000000  0.000000   \n",
       "\n",
       "           B3GALT6    UBE2J2     ACAP3    TAS1R3  ...    PLXNB2      ADM2  \\\n",
       "NOC2L     0.004868  0.043019  0.012004  0.006924  ...  0.000000  0.000000   \n",
       "HES4      0.005317  0.010216  0.002582  0.005373  ...  0.000000  0.000000   \n",
       "ISG15     0.006313  0.012211  0.003459  0.009198  ...  0.000000  0.000000   \n",
       "AGRN      0.001824  0.011029  0.005019  0.006681  ...  0.000000  0.000000   \n",
       "TNFRSF18  0.551124  0.107460  0.193531  0.101072  ...  0.000000  0.000000   \n",
       "...            ...       ...       ...       ...  ...       ...       ...   \n",
       "CPT1B     0.000000  0.000000  0.000000  0.000000  ...  0.018582  0.046440   \n",
       "CHKB      0.000000  0.000000  0.000000  0.000000  ...  0.030862  0.047002   \n",
       "MAPK8IP2  0.000000  0.000000  0.000000  0.000000  ...  0.044312  0.093409   \n",
       "ARSA      0.000000  0.000000  0.000000  0.000000  ...  0.012015  0.027591   \n",
       "SHANK3    0.000000  0.000000  0.000000  0.000000  ...  0.009648  0.009185   \n",
       "\n",
       "              MIOX      SCO2      TYMP     CPT1B      CHKB  MAPK8IP2  \\\n",
       "NOC2L     0.000000  0.000000  0.000000  0.000000  0.000000  0.000000   \n",
       "HES4      0.000000  0.000000  0.000000  0.000000  0.000000  0.000000   \n",
       "ISG15     0.000000  0.000000  0.000000  0.000000  0.000000  0.000000   \n",
       "AGRN      0.000000  0.000000  0.000000  0.000000  0.000000  0.000000   \n",
       "TNFRSF18  0.000000  0.000000  0.000000  0.000000  0.000000  0.000000   \n",
       "...            ...       ...       ...       ...       ...       ...   \n",
       "CPT1B     0.013164  0.256685  0.217944  1.000000  0.735633  0.180608   \n",
       "CHKB      0.013107  0.208659  0.207061  0.735633  1.000000  0.249817   \n",
       "MAPK8IP2  0.066327  0.052375  0.122987  0.180608  0.249817  1.000000   \n",
       "ARSA      0.021492  0.027293  0.035620  0.035560  0.041791  0.205484   \n",
       "SHANK3    0.003298  0.002652  0.002471  0.009659  0.019987  0.040795   \n",
       "\n",
       "              ARSA    SHANK3  \n",
       "NOC2L     0.000000  0.000000  \n",
       "HES4      0.000000  0.000000  \n",
       "ISG15     0.000000  0.000000  \n",
       "AGRN      0.000000  0.000000  \n",
       "TNFRSF18  0.000000  0.000000  \n",
       "...            ...       ...  \n",
       "CPT1B     0.035560  0.009659  \n",
       "CHKB      0.041791  0.019987  \n",
       "MAPK8IP2  0.205484  0.040795  \n",
       "ARSA      1.000000  0.013757  \n",
       "SHANK3    0.013757  1.000000  \n",
       "\n",
       "[6428 rows x 6428 columns]"
      ]
     },
     "metadata": {},
     "output_type": "display_data"
    },
    {
     "data": {
      "text/plain": [
       "'Number of negative eigenvalues: 0'"
      ]
     },
     "metadata": {},
     "output_type": "display_data"
    },
    {
     "data": {
      "text/plain": [
       "'Negative eigenvalues:\\n[]'"
      ]
     },
     "metadata": {},
     "output_type": "display_data"
    },
    {
     "name": "stdout",
     "output_type": "stream",
     "text": [
      "Works! (statsmodels.GLS)\n",
      "Works!\n",
      "all good.\n"
     ]
    },
    {
     "data": {
      "text/plain": [
       "'Number of genes with correlations with other genes: 6428'"
      ]
     },
     "metadata": {},
     "output_type": "display_data"
    },
    {
     "data": {
      "text/plain": [
       "'Number of nonzero cells: 444188'"
      ]
     },
     "metadata": {},
     "output_type": "display_data"
    },
    {
     "data": {
      "text/plain": [
       "count               20656378.0\n",
       "mean     0.0001923394416554181\n",
       "std       0.006923178659069763\n",
       "min                        0.0\n",
       "25%                        0.0\n",
       "50%                        0.0\n",
       "75%                        0.0\n",
       "max          0.999997504222484\n",
       "dtype: object"
      ]
     },
     "metadata": {},
     "output_type": "display_data"
    },
    {
     "data": {
      "text/plain": [
       "PosixPath('/project/ritchie20/projects/phenoplier/base/results/gls/gene_corrs/cohorts/phenomexcan_rapid_gwas/gtex_v8/mashr/gene_corrs-symbols-within_distance_10mb.pkl')"
      ]
     },
     "metadata": {},
     "output_type": "display_data"
    },
    {
     "name": "stdout",
     "output_type": "stream",
     "text": [
      "\n",
      "\n",
      "Using within distance: 2.5\n"
     ]
    },
    {
     "data": {
      "text/html": [
       "<div>\n",
       "<style scoped>\n",
       "    .dataframe tbody tr th:only-of-type {\n",
       "        vertical-align: middle;\n",
       "    }\n",
       "\n",
       "    .dataframe tbody tr th {\n",
       "        vertical-align: top;\n",
       "    }\n",
       "\n",
       "    .dataframe thead th {\n",
       "        text-align: right;\n",
       "    }\n",
       "</style>\n",
       "<table border=\"1\" class=\"dataframe\">\n",
       "  <thead>\n",
       "    <tr style=\"text-align: right;\">\n",
       "      <th></th>\n",
       "      <th>NOC2L</th>\n",
       "      <th>HES4</th>\n",
       "      <th>ISG15</th>\n",
       "      <th>AGRN</th>\n",
       "      <th>TNFRSF18</th>\n",
       "      <th>TNFRSF4</th>\n",
       "      <th>B3GALT6</th>\n",
       "      <th>UBE2J2</th>\n",
       "      <th>ACAP3</th>\n",
       "      <th>TAS1R3</th>\n",
       "      <th>...</th>\n",
       "      <th>PLXNB2</th>\n",
       "      <th>ADM2</th>\n",
       "      <th>MIOX</th>\n",
       "      <th>SCO2</th>\n",
       "      <th>TYMP</th>\n",
       "      <th>CPT1B</th>\n",
       "      <th>CHKB</th>\n",
       "      <th>MAPK8IP2</th>\n",
       "      <th>ARSA</th>\n",
       "      <th>SHANK3</th>\n",
       "    </tr>\n",
       "  </thead>\n",
       "  <tbody>\n",
       "    <tr>\n",
       "      <th>NOC2L</th>\n",
       "      <td>1.000000</td>\n",
       "      <td>0.118397</td>\n",
       "      <td>0.103852</td>\n",
       "      <td>0.091980</td>\n",
       "      <td>0.006284</td>\n",
       "      <td>0.007338</td>\n",
       "      <td>0.004868</td>\n",
       "      <td>0.043019</td>\n",
       "      <td>0.012004</td>\n",
       "      <td>0.006924</td>\n",
       "      <td>...</td>\n",
       "      <td>0.000000</td>\n",
       "      <td>0.000000</td>\n",
       "      <td>0.000000</td>\n",
       "      <td>0.000000</td>\n",
       "      <td>0.000000</td>\n",
       "      <td>0.000000</td>\n",
       "      <td>0.000000</td>\n",
       "      <td>0.000000</td>\n",
       "      <td>0.000000</td>\n",
       "      <td>0.000000</td>\n",
       "    </tr>\n",
       "    <tr>\n",
       "      <th>HES4</th>\n",
       "      <td>0.118397</td>\n",
       "      <td>1.000000</td>\n",
       "      <td>0.849549</td>\n",
       "      <td>0.402466</td>\n",
       "      <td>0.011284</td>\n",
       "      <td>0.008897</td>\n",
       "      <td>0.005317</td>\n",
       "      <td>0.010216</td>\n",
       "      <td>0.002582</td>\n",
       "      <td>0.005373</td>\n",
       "      <td>...</td>\n",
       "      <td>0.000000</td>\n",
       "      <td>0.000000</td>\n",
       "      <td>0.000000</td>\n",
       "      <td>0.000000</td>\n",
       "      <td>0.000000</td>\n",
       "      <td>0.000000</td>\n",
       "      <td>0.000000</td>\n",
       "      <td>0.000000</td>\n",
       "      <td>0.000000</td>\n",
       "      <td>0.000000</td>\n",
       "    </tr>\n",
       "    <tr>\n",
       "      <th>ISG15</th>\n",
       "      <td>0.103852</td>\n",
       "      <td>0.849549</td>\n",
       "      <td>1.000000</td>\n",
       "      <td>0.398077</td>\n",
       "      <td>0.011218</td>\n",
       "      <td>0.011083</td>\n",
       "      <td>0.006313</td>\n",
       "      <td>0.012211</td>\n",
       "      <td>0.003459</td>\n",
       "      <td>0.009198</td>\n",
       "      <td>...</td>\n",
       "      <td>0.000000</td>\n",
       "      <td>0.000000</td>\n",
       "      <td>0.000000</td>\n",
       "      <td>0.000000</td>\n",
       "      <td>0.000000</td>\n",
       "      <td>0.000000</td>\n",
       "      <td>0.000000</td>\n",
       "      <td>0.000000</td>\n",
       "      <td>0.000000</td>\n",
       "      <td>0.000000</td>\n",
       "    </tr>\n",
       "    <tr>\n",
       "      <th>AGRN</th>\n",
       "      <td>0.091980</td>\n",
       "      <td>0.402466</td>\n",
       "      <td>0.398077</td>\n",
       "      <td>1.000000</td>\n",
       "      <td>0.005065</td>\n",
       "      <td>0.011509</td>\n",
       "      <td>0.001824</td>\n",
       "      <td>0.011029</td>\n",
       "      <td>0.005019</td>\n",
       "      <td>0.006681</td>\n",
       "      <td>...</td>\n",
       "      <td>0.000000</td>\n",
       "      <td>0.000000</td>\n",
       "      <td>0.000000</td>\n",
       "      <td>0.000000</td>\n",
       "      <td>0.000000</td>\n",
       "      <td>0.000000</td>\n",
       "      <td>0.000000</td>\n",
       "      <td>0.000000</td>\n",
       "      <td>0.000000</td>\n",
       "      <td>0.000000</td>\n",
       "    </tr>\n",
       "    <tr>\n",
       "      <th>TNFRSF18</th>\n",
       "      <td>0.006284</td>\n",
       "      <td>0.011284</td>\n",
       "      <td>0.011218</td>\n",
       "      <td>0.005065</td>\n",
       "      <td>1.000000</td>\n",
       "      <td>0.337836</td>\n",
       "      <td>0.551124</td>\n",
       "      <td>0.107460</td>\n",
       "      <td>0.193531</td>\n",
       "      <td>0.101072</td>\n",
       "      <td>...</td>\n",
       "      <td>0.000000</td>\n",
       "      <td>0.000000</td>\n",
       "      <td>0.000000</td>\n",
       "      <td>0.000000</td>\n",
       "      <td>0.000000</td>\n",
       "      <td>0.000000</td>\n",
       "      <td>0.000000</td>\n",
       "      <td>0.000000</td>\n",
       "      <td>0.000000</td>\n",
       "      <td>0.000000</td>\n",
       "    </tr>\n",
       "    <tr>\n",
       "      <th>...</th>\n",
       "      <td>...</td>\n",
       "      <td>...</td>\n",
       "      <td>...</td>\n",
       "      <td>...</td>\n",
       "      <td>...</td>\n",
       "      <td>...</td>\n",
       "      <td>...</td>\n",
       "      <td>...</td>\n",
       "      <td>...</td>\n",
       "      <td>...</td>\n",
       "      <td>...</td>\n",
       "      <td>...</td>\n",
       "      <td>...</td>\n",
       "      <td>...</td>\n",
       "      <td>...</td>\n",
       "      <td>...</td>\n",
       "      <td>...</td>\n",
       "      <td>...</td>\n",
       "      <td>...</td>\n",
       "      <td>...</td>\n",
       "      <td>...</td>\n",
       "    </tr>\n",
       "    <tr>\n",
       "      <th>CPT1B</th>\n",
       "      <td>0.000000</td>\n",
       "      <td>0.000000</td>\n",
       "      <td>0.000000</td>\n",
       "      <td>0.000000</td>\n",
       "      <td>0.000000</td>\n",
       "      <td>0.000000</td>\n",
       "      <td>0.000000</td>\n",
       "      <td>0.000000</td>\n",
       "      <td>0.000000</td>\n",
       "      <td>0.000000</td>\n",
       "      <td>...</td>\n",
       "      <td>0.018582</td>\n",
       "      <td>0.046440</td>\n",
       "      <td>0.013164</td>\n",
       "      <td>0.256685</td>\n",
       "      <td>0.217944</td>\n",
       "      <td>1.000000</td>\n",
       "      <td>0.735633</td>\n",
       "      <td>0.180608</td>\n",
       "      <td>0.035560</td>\n",
       "      <td>0.009659</td>\n",
       "    </tr>\n",
       "    <tr>\n",
       "      <th>CHKB</th>\n",
       "      <td>0.000000</td>\n",
       "      <td>0.000000</td>\n",
       "      <td>0.000000</td>\n",
       "      <td>0.000000</td>\n",
       "      <td>0.000000</td>\n",
       "      <td>0.000000</td>\n",
       "      <td>0.000000</td>\n",
       "      <td>0.000000</td>\n",
       "      <td>0.000000</td>\n",
       "      <td>0.000000</td>\n",
       "      <td>...</td>\n",
       "      <td>0.030862</td>\n",
       "      <td>0.047002</td>\n",
       "      <td>0.013107</td>\n",
       "      <td>0.208659</td>\n",
       "      <td>0.207061</td>\n",
       "      <td>0.735633</td>\n",
       "      <td>1.000000</td>\n",
       "      <td>0.249817</td>\n",
       "      <td>0.041791</td>\n",
       "      <td>0.019987</td>\n",
       "    </tr>\n",
       "    <tr>\n",
       "      <th>MAPK8IP2</th>\n",
       "      <td>0.000000</td>\n",
       "      <td>0.000000</td>\n",
       "      <td>0.000000</td>\n",
       "      <td>0.000000</td>\n",
       "      <td>0.000000</td>\n",
       "      <td>0.000000</td>\n",
       "      <td>0.000000</td>\n",
       "      <td>0.000000</td>\n",
       "      <td>0.000000</td>\n",
       "      <td>0.000000</td>\n",
       "      <td>...</td>\n",
       "      <td>0.044312</td>\n",
       "      <td>0.093409</td>\n",
       "      <td>0.066327</td>\n",
       "      <td>0.052375</td>\n",
       "      <td>0.122987</td>\n",
       "      <td>0.180608</td>\n",
       "      <td>0.249817</td>\n",
       "      <td>1.000000</td>\n",
       "      <td>0.205484</td>\n",
       "      <td>0.040795</td>\n",
       "    </tr>\n",
       "    <tr>\n",
       "      <th>ARSA</th>\n",
       "      <td>0.000000</td>\n",
       "      <td>0.000000</td>\n",
       "      <td>0.000000</td>\n",
       "      <td>0.000000</td>\n",
       "      <td>0.000000</td>\n",
       "      <td>0.000000</td>\n",
       "      <td>0.000000</td>\n",
       "      <td>0.000000</td>\n",
       "      <td>0.000000</td>\n",
       "      <td>0.000000</td>\n",
       "      <td>...</td>\n",
       "      <td>0.012015</td>\n",
       "      <td>0.027591</td>\n",
       "      <td>0.021492</td>\n",
       "      <td>0.027293</td>\n",
       "      <td>0.035620</td>\n",
       "      <td>0.035560</td>\n",
       "      <td>0.041791</td>\n",
       "      <td>0.205484</td>\n",
       "      <td>1.000000</td>\n",
       "      <td>0.013757</td>\n",
       "    </tr>\n",
       "    <tr>\n",
       "      <th>SHANK3</th>\n",
       "      <td>0.000000</td>\n",
       "      <td>0.000000</td>\n",
       "      <td>0.000000</td>\n",
       "      <td>0.000000</td>\n",
       "      <td>0.000000</td>\n",
       "      <td>0.000000</td>\n",
       "      <td>0.000000</td>\n",
       "      <td>0.000000</td>\n",
       "      <td>0.000000</td>\n",
       "      <td>0.000000</td>\n",
       "      <td>...</td>\n",
       "      <td>0.009648</td>\n",
       "      <td>0.009185</td>\n",
       "      <td>0.003298</td>\n",
       "      <td>0.002652</td>\n",
       "      <td>0.002471</td>\n",
       "      <td>0.009659</td>\n",
       "      <td>0.019987</td>\n",
       "      <td>0.040795</td>\n",
       "      <td>0.013757</td>\n",
       "      <td>1.000000</td>\n",
       "    </tr>\n",
       "  </tbody>\n",
       "</table>\n",
       "<p>6428 rows × 6428 columns</p>\n",
       "</div>"
      ],
      "text/plain": [
       "             NOC2L      HES4     ISG15      AGRN  TNFRSF18   TNFRSF4  \\\n",
       "NOC2L     1.000000  0.118397  0.103852  0.091980  0.006284  0.007338   \n",
       "HES4      0.118397  1.000000  0.849549  0.402466  0.011284  0.008897   \n",
       "ISG15     0.103852  0.849549  1.000000  0.398077  0.011218  0.011083   \n",
       "AGRN      0.091980  0.402466  0.398077  1.000000  0.005065  0.011509   \n",
       "TNFRSF18  0.006284  0.011284  0.011218  0.005065  1.000000  0.337836   \n",
       "...            ...       ...       ...       ...       ...       ...   \n",
       "CPT1B     0.000000  0.000000  0.000000  0.000000  0.000000  0.000000   \n",
       "CHKB      0.000000  0.000000  0.000000  0.000000  0.000000  0.000000   \n",
       "MAPK8IP2  0.000000  0.000000  0.000000  0.000000  0.000000  0.000000   \n",
       "ARSA      0.000000  0.000000  0.000000  0.000000  0.000000  0.000000   \n",
       "SHANK3    0.000000  0.000000  0.000000  0.000000  0.000000  0.000000   \n",
       "\n",
       "           B3GALT6    UBE2J2     ACAP3    TAS1R3  ...    PLXNB2      ADM2  \\\n",
       "NOC2L     0.004868  0.043019  0.012004  0.006924  ...  0.000000  0.000000   \n",
       "HES4      0.005317  0.010216  0.002582  0.005373  ...  0.000000  0.000000   \n",
       "ISG15     0.006313  0.012211  0.003459  0.009198  ...  0.000000  0.000000   \n",
       "AGRN      0.001824  0.011029  0.005019  0.006681  ...  0.000000  0.000000   \n",
       "TNFRSF18  0.551124  0.107460  0.193531  0.101072  ...  0.000000  0.000000   \n",
       "...            ...       ...       ...       ...  ...       ...       ...   \n",
       "CPT1B     0.000000  0.000000  0.000000  0.000000  ...  0.018582  0.046440   \n",
       "CHKB      0.000000  0.000000  0.000000  0.000000  ...  0.030862  0.047002   \n",
       "MAPK8IP2  0.000000  0.000000  0.000000  0.000000  ...  0.044312  0.093409   \n",
       "ARSA      0.000000  0.000000  0.000000  0.000000  ...  0.012015  0.027591   \n",
       "SHANK3    0.000000  0.000000  0.000000  0.000000  ...  0.009648  0.009185   \n",
       "\n",
       "              MIOX      SCO2      TYMP     CPT1B      CHKB  MAPK8IP2  \\\n",
       "NOC2L     0.000000  0.000000  0.000000  0.000000  0.000000  0.000000   \n",
       "HES4      0.000000  0.000000  0.000000  0.000000  0.000000  0.000000   \n",
       "ISG15     0.000000  0.000000  0.000000  0.000000  0.000000  0.000000   \n",
       "AGRN      0.000000  0.000000  0.000000  0.000000  0.000000  0.000000   \n",
       "TNFRSF18  0.000000  0.000000  0.000000  0.000000  0.000000  0.000000   \n",
       "...            ...       ...       ...       ...       ...       ...   \n",
       "CPT1B     0.013164  0.256685  0.217944  1.000000  0.735633  0.180608   \n",
       "CHKB      0.013107  0.208659  0.207061  0.735633  1.000000  0.249817   \n",
       "MAPK8IP2  0.066327  0.052375  0.122987  0.180608  0.249817  1.000000   \n",
       "ARSA      0.021492  0.027293  0.035620  0.035560  0.041791  0.205484   \n",
       "SHANK3    0.003298  0.002652  0.002471  0.009659  0.019987  0.040795   \n",
       "\n",
       "              ARSA    SHANK3  \n",
       "NOC2L     0.000000  0.000000  \n",
       "HES4      0.000000  0.000000  \n",
       "ISG15     0.000000  0.000000  \n",
       "AGRN      0.000000  0.000000  \n",
       "TNFRSF18  0.000000  0.000000  \n",
       "...            ...       ...  \n",
       "CPT1B     0.035560  0.009659  \n",
       "CHKB      0.041791  0.019987  \n",
       "MAPK8IP2  0.205484  0.040795  \n",
       "ARSA      1.000000  0.013757  \n",
       "SHANK3    0.013757  1.000000  \n",
       "\n",
       "[6428 rows x 6428 columns]"
      ]
     },
     "metadata": {},
     "output_type": "display_data"
    },
    {
     "data": {
      "text/plain": [
       "'Number of negative eigenvalues: 0'"
      ]
     },
     "metadata": {},
     "output_type": "display_data"
    },
    {
     "data": {
      "text/plain": [
       "'Negative eigenvalues:\\n[]'"
      ]
     },
     "metadata": {},
     "output_type": "display_data"
    },
    {
     "name": "stdout",
     "output_type": "stream",
     "text": [
      "Works! (statsmodels.GLS)\n",
      "Works!\n",
      "all good.\n"
     ]
    },
    {
     "data": {
      "text/plain": [
       "'Number of genes with correlations with other genes: 6427'"
      ]
     },
     "metadata": {},
     "output_type": "display_data"
    },
    {
     "data": {
      "text/plain": [
       "'Number of nonzero cells: 261572'"
      ]
     },
     "metadata": {},
     "output_type": "display_data"
    },
    {
     "data": {
      "text/plain": [
       "count                20656378.0\n",
       "mean     0.00016644680736126988\n",
       "std        0.006909642713925704\n",
       "min                         0.0\n",
       "25%                         0.0\n",
       "50%                         0.0\n",
       "75%                         0.0\n",
       "max           0.999997504222484\n",
       "dtype: object"
      ]
     },
     "metadata": {},
     "output_type": "display_data"
    },
    {
     "data": {
      "text/plain": [
       "PosixPath('/project/ritchie20/projects/phenoplier/base/results/gls/gene_corrs/cohorts/phenomexcan_rapid_gwas/gtex_v8/mashr/gene_corrs-symbols-within_distance_5mb.pkl')"
      ]
     },
     "metadata": {},
     "output_type": "display_data"
    },
    {
     "name": "stdout",
     "output_type": "stream",
     "text": [
      "\n",
      "\n",
      "Using within distance: 1.0\n"
     ]
    },
    {
     "data": {
      "text/html": [
       "<div>\n",
       "<style scoped>\n",
       "    .dataframe tbody tr th:only-of-type {\n",
       "        vertical-align: middle;\n",
       "    }\n",
       "\n",
       "    .dataframe tbody tr th {\n",
       "        vertical-align: top;\n",
       "    }\n",
       "\n",
       "    .dataframe thead th {\n",
       "        text-align: right;\n",
       "    }\n",
       "</style>\n",
       "<table border=\"1\" class=\"dataframe\">\n",
       "  <thead>\n",
       "    <tr style=\"text-align: right;\">\n",
       "      <th></th>\n",
       "      <th>NOC2L</th>\n",
       "      <th>HES4</th>\n",
       "      <th>ISG15</th>\n",
       "      <th>AGRN</th>\n",
       "      <th>TNFRSF18</th>\n",
       "      <th>TNFRSF4</th>\n",
       "      <th>B3GALT6</th>\n",
       "      <th>UBE2J2</th>\n",
       "      <th>ACAP3</th>\n",
       "      <th>TAS1R3</th>\n",
       "      <th>...</th>\n",
       "      <th>PLXNB2</th>\n",
       "      <th>ADM2</th>\n",
       "      <th>MIOX</th>\n",
       "      <th>SCO2</th>\n",
       "      <th>TYMP</th>\n",
       "      <th>CPT1B</th>\n",
       "      <th>CHKB</th>\n",
       "      <th>MAPK8IP2</th>\n",
       "      <th>ARSA</th>\n",
       "      <th>SHANK3</th>\n",
       "    </tr>\n",
       "  </thead>\n",
       "  <tbody>\n",
       "    <tr>\n",
       "      <th>NOC2L</th>\n",
       "      <td>1.000000</td>\n",
       "      <td>0.118397</td>\n",
       "      <td>0.103852</td>\n",
       "      <td>0.091980</td>\n",
       "      <td>0.006284</td>\n",
       "      <td>0.007338</td>\n",
       "      <td>0.004868</td>\n",
       "      <td>0.043019</td>\n",
       "      <td>0.012004</td>\n",
       "      <td>0.006924</td>\n",
       "      <td>...</td>\n",
       "      <td>0.000000</td>\n",
       "      <td>0.000000</td>\n",
       "      <td>0.000000</td>\n",
       "      <td>0.000000</td>\n",
       "      <td>0.000000</td>\n",
       "      <td>0.000000</td>\n",
       "      <td>0.000000</td>\n",
       "      <td>0.000000</td>\n",
       "      <td>0.000000</td>\n",
       "      <td>0.000000</td>\n",
       "    </tr>\n",
       "    <tr>\n",
       "      <th>HES4</th>\n",
       "      <td>0.118397</td>\n",
       "      <td>1.000000</td>\n",
       "      <td>0.849549</td>\n",
       "      <td>0.402466</td>\n",
       "      <td>0.011284</td>\n",
       "      <td>0.008897</td>\n",
       "      <td>0.005317</td>\n",
       "      <td>0.010216</td>\n",
       "      <td>0.002582</td>\n",
       "      <td>0.005373</td>\n",
       "      <td>...</td>\n",
       "      <td>0.000000</td>\n",
       "      <td>0.000000</td>\n",
       "      <td>0.000000</td>\n",
       "      <td>0.000000</td>\n",
       "      <td>0.000000</td>\n",
       "      <td>0.000000</td>\n",
       "      <td>0.000000</td>\n",
       "      <td>0.000000</td>\n",
       "      <td>0.000000</td>\n",
       "      <td>0.000000</td>\n",
       "    </tr>\n",
       "    <tr>\n",
       "      <th>ISG15</th>\n",
       "      <td>0.103852</td>\n",
       "      <td>0.849549</td>\n",
       "      <td>1.000000</td>\n",
       "      <td>0.398077</td>\n",
       "      <td>0.011218</td>\n",
       "      <td>0.011083</td>\n",
       "      <td>0.006313</td>\n",
       "      <td>0.012211</td>\n",
       "      <td>0.003459</td>\n",
       "      <td>0.009198</td>\n",
       "      <td>...</td>\n",
       "      <td>0.000000</td>\n",
       "      <td>0.000000</td>\n",
       "      <td>0.000000</td>\n",
       "      <td>0.000000</td>\n",
       "      <td>0.000000</td>\n",
       "      <td>0.000000</td>\n",
       "      <td>0.000000</td>\n",
       "      <td>0.000000</td>\n",
       "      <td>0.000000</td>\n",
       "      <td>0.000000</td>\n",
       "    </tr>\n",
       "    <tr>\n",
       "      <th>AGRN</th>\n",
       "      <td>0.091980</td>\n",
       "      <td>0.402466</td>\n",
       "      <td>0.398077</td>\n",
       "      <td>1.000000</td>\n",
       "      <td>0.005065</td>\n",
       "      <td>0.011509</td>\n",
       "      <td>0.001824</td>\n",
       "      <td>0.011029</td>\n",
       "      <td>0.005019</td>\n",
       "      <td>0.006681</td>\n",
       "      <td>...</td>\n",
       "      <td>0.000000</td>\n",
       "      <td>0.000000</td>\n",
       "      <td>0.000000</td>\n",
       "      <td>0.000000</td>\n",
       "      <td>0.000000</td>\n",
       "      <td>0.000000</td>\n",
       "      <td>0.000000</td>\n",
       "      <td>0.000000</td>\n",
       "      <td>0.000000</td>\n",
       "      <td>0.000000</td>\n",
       "    </tr>\n",
       "    <tr>\n",
       "      <th>TNFRSF18</th>\n",
       "      <td>0.006284</td>\n",
       "      <td>0.011284</td>\n",
       "      <td>0.011218</td>\n",
       "      <td>0.005065</td>\n",
       "      <td>1.000000</td>\n",
       "      <td>0.337836</td>\n",
       "      <td>0.551124</td>\n",
       "      <td>0.107460</td>\n",
       "      <td>0.193531</td>\n",
       "      <td>0.101072</td>\n",
       "      <td>...</td>\n",
       "      <td>0.000000</td>\n",
       "      <td>0.000000</td>\n",
       "      <td>0.000000</td>\n",
       "      <td>0.000000</td>\n",
       "      <td>0.000000</td>\n",
       "      <td>0.000000</td>\n",
       "      <td>0.000000</td>\n",
       "      <td>0.000000</td>\n",
       "      <td>0.000000</td>\n",
       "      <td>0.000000</td>\n",
       "    </tr>\n",
       "    <tr>\n",
       "      <th>...</th>\n",
       "      <td>...</td>\n",
       "      <td>...</td>\n",
       "      <td>...</td>\n",
       "      <td>...</td>\n",
       "      <td>...</td>\n",
       "      <td>...</td>\n",
       "      <td>...</td>\n",
       "      <td>...</td>\n",
       "      <td>...</td>\n",
       "      <td>...</td>\n",
       "      <td>...</td>\n",
       "      <td>...</td>\n",
       "      <td>...</td>\n",
       "      <td>...</td>\n",
       "      <td>...</td>\n",
       "      <td>...</td>\n",
       "      <td>...</td>\n",
       "      <td>...</td>\n",
       "      <td>...</td>\n",
       "      <td>...</td>\n",
       "      <td>...</td>\n",
       "    </tr>\n",
       "    <tr>\n",
       "      <th>CPT1B</th>\n",
       "      <td>0.000000</td>\n",
       "      <td>0.000000</td>\n",
       "      <td>0.000000</td>\n",
       "      <td>0.000000</td>\n",
       "      <td>0.000000</td>\n",
       "      <td>0.000000</td>\n",
       "      <td>0.000000</td>\n",
       "      <td>0.000000</td>\n",
       "      <td>0.000000</td>\n",
       "      <td>0.000000</td>\n",
       "      <td>...</td>\n",
       "      <td>0.018582</td>\n",
       "      <td>0.046440</td>\n",
       "      <td>0.013164</td>\n",
       "      <td>0.256685</td>\n",
       "      <td>0.217944</td>\n",
       "      <td>1.000000</td>\n",
       "      <td>0.735633</td>\n",
       "      <td>0.180608</td>\n",
       "      <td>0.035560</td>\n",
       "      <td>0.009659</td>\n",
       "    </tr>\n",
       "    <tr>\n",
       "      <th>CHKB</th>\n",
       "      <td>0.000000</td>\n",
       "      <td>0.000000</td>\n",
       "      <td>0.000000</td>\n",
       "      <td>0.000000</td>\n",
       "      <td>0.000000</td>\n",
       "      <td>0.000000</td>\n",
       "      <td>0.000000</td>\n",
       "      <td>0.000000</td>\n",
       "      <td>0.000000</td>\n",
       "      <td>0.000000</td>\n",
       "      <td>...</td>\n",
       "      <td>0.030862</td>\n",
       "      <td>0.047002</td>\n",
       "      <td>0.013107</td>\n",
       "      <td>0.208659</td>\n",
       "      <td>0.207061</td>\n",
       "      <td>0.735633</td>\n",
       "      <td>1.000000</td>\n",
       "      <td>0.249817</td>\n",
       "      <td>0.041791</td>\n",
       "      <td>0.019987</td>\n",
       "    </tr>\n",
       "    <tr>\n",
       "      <th>MAPK8IP2</th>\n",
       "      <td>0.000000</td>\n",
       "      <td>0.000000</td>\n",
       "      <td>0.000000</td>\n",
       "      <td>0.000000</td>\n",
       "      <td>0.000000</td>\n",
       "      <td>0.000000</td>\n",
       "      <td>0.000000</td>\n",
       "      <td>0.000000</td>\n",
       "      <td>0.000000</td>\n",
       "      <td>0.000000</td>\n",
       "      <td>...</td>\n",
       "      <td>0.044312</td>\n",
       "      <td>0.093409</td>\n",
       "      <td>0.066327</td>\n",
       "      <td>0.052375</td>\n",
       "      <td>0.122987</td>\n",
       "      <td>0.180608</td>\n",
       "      <td>0.249817</td>\n",
       "      <td>1.000000</td>\n",
       "      <td>0.205484</td>\n",
       "      <td>0.040795</td>\n",
       "    </tr>\n",
       "    <tr>\n",
       "      <th>ARSA</th>\n",
       "      <td>0.000000</td>\n",
       "      <td>0.000000</td>\n",
       "      <td>0.000000</td>\n",
       "      <td>0.000000</td>\n",
       "      <td>0.000000</td>\n",
       "      <td>0.000000</td>\n",
       "      <td>0.000000</td>\n",
       "      <td>0.000000</td>\n",
       "      <td>0.000000</td>\n",
       "      <td>0.000000</td>\n",
       "      <td>...</td>\n",
       "      <td>0.012015</td>\n",
       "      <td>0.027591</td>\n",
       "      <td>0.021492</td>\n",
       "      <td>0.027293</td>\n",
       "      <td>0.035620</td>\n",
       "      <td>0.035560</td>\n",
       "      <td>0.041791</td>\n",
       "      <td>0.205484</td>\n",
       "      <td>1.000000</td>\n",
       "      <td>0.013757</td>\n",
       "    </tr>\n",
       "    <tr>\n",
       "      <th>SHANK3</th>\n",
       "      <td>0.000000</td>\n",
       "      <td>0.000000</td>\n",
       "      <td>0.000000</td>\n",
       "      <td>0.000000</td>\n",
       "      <td>0.000000</td>\n",
       "      <td>0.000000</td>\n",
       "      <td>0.000000</td>\n",
       "      <td>0.000000</td>\n",
       "      <td>0.000000</td>\n",
       "      <td>0.000000</td>\n",
       "      <td>...</td>\n",
       "      <td>0.009648</td>\n",
       "      <td>0.009185</td>\n",
       "      <td>0.003298</td>\n",
       "      <td>0.002652</td>\n",
       "      <td>0.002471</td>\n",
       "      <td>0.009659</td>\n",
       "      <td>0.019987</td>\n",
       "      <td>0.040795</td>\n",
       "      <td>0.013757</td>\n",
       "      <td>1.000000</td>\n",
       "    </tr>\n",
       "  </tbody>\n",
       "</table>\n",
       "<p>6428 rows × 6428 columns</p>\n",
       "</div>"
      ],
      "text/plain": [
       "             NOC2L      HES4     ISG15      AGRN  TNFRSF18   TNFRSF4  \\\n",
       "NOC2L     1.000000  0.118397  0.103852  0.091980  0.006284  0.007338   \n",
       "HES4      0.118397  1.000000  0.849549  0.402466  0.011284  0.008897   \n",
       "ISG15     0.103852  0.849549  1.000000  0.398077  0.011218  0.011083   \n",
       "AGRN      0.091980  0.402466  0.398077  1.000000  0.005065  0.011509   \n",
       "TNFRSF18  0.006284  0.011284  0.011218  0.005065  1.000000  0.337836   \n",
       "...            ...       ...       ...       ...       ...       ...   \n",
       "CPT1B     0.000000  0.000000  0.000000  0.000000  0.000000  0.000000   \n",
       "CHKB      0.000000  0.000000  0.000000  0.000000  0.000000  0.000000   \n",
       "MAPK8IP2  0.000000  0.000000  0.000000  0.000000  0.000000  0.000000   \n",
       "ARSA      0.000000  0.000000  0.000000  0.000000  0.000000  0.000000   \n",
       "SHANK3    0.000000  0.000000  0.000000  0.000000  0.000000  0.000000   \n",
       "\n",
       "           B3GALT6    UBE2J2     ACAP3    TAS1R3  ...    PLXNB2      ADM2  \\\n",
       "NOC2L     0.004868  0.043019  0.012004  0.006924  ...  0.000000  0.000000   \n",
       "HES4      0.005317  0.010216  0.002582  0.005373  ...  0.000000  0.000000   \n",
       "ISG15     0.006313  0.012211  0.003459  0.009198  ...  0.000000  0.000000   \n",
       "AGRN      0.001824  0.011029  0.005019  0.006681  ...  0.000000  0.000000   \n",
       "TNFRSF18  0.551124  0.107460  0.193531  0.101072  ...  0.000000  0.000000   \n",
       "...            ...       ...       ...       ...  ...       ...       ...   \n",
       "CPT1B     0.000000  0.000000  0.000000  0.000000  ...  0.018582  0.046440   \n",
       "CHKB      0.000000  0.000000  0.000000  0.000000  ...  0.030862  0.047002   \n",
       "MAPK8IP2  0.000000  0.000000  0.000000  0.000000  ...  0.044312  0.093409   \n",
       "ARSA      0.000000  0.000000  0.000000  0.000000  ...  0.012015  0.027591   \n",
       "SHANK3    0.000000  0.000000  0.000000  0.000000  ...  0.009648  0.009185   \n",
       "\n",
       "              MIOX      SCO2      TYMP     CPT1B      CHKB  MAPK8IP2  \\\n",
       "NOC2L     0.000000  0.000000  0.000000  0.000000  0.000000  0.000000   \n",
       "HES4      0.000000  0.000000  0.000000  0.000000  0.000000  0.000000   \n",
       "ISG15     0.000000  0.000000  0.000000  0.000000  0.000000  0.000000   \n",
       "AGRN      0.000000  0.000000  0.000000  0.000000  0.000000  0.000000   \n",
       "TNFRSF18  0.000000  0.000000  0.000000  0.000000  0.000000  0.000000   \n",
       "...            ...       ...       ...       ...       ...       ...   \n",
       "CPT1B     0.013164  0.256685  0.217944  1.000000  0.735633  0.180608   \n",
       "CHKB      0.013107  0.208659  0.207061  0.735633  1.000000  0.249817   \n",
       "MAPK8IP2  0.066327  0.052375  0.122987  0.180608  0.249817  1.000000   \n",
       "ARSA      0.021492  0.027293  0.035620  0.035560  0.041791  0.205484   \n",
       "SHANK3    0.003298  0.002652  0.002471  0.009659  0.019987  0.040795   \n",
       "\n",
       "              ARSA    SHANK3  \n",
       "NOC2L     0.000000  0.000000  \n",
       "HES4      0.000000  0.000000  \n",
       "ISG15     0.000000  0.000000  \n",
       "AGRN      0.000000  0.000000  \n",
       "TNFRSF18  0.000000  0.000000  \n",
       "...            ...       ...  \n",
       "CPT1B     0.035560  0.009659  \n",
       "CHKB      0.041791  0.019987  \n",
       "MAPK8IP2  0.205484  0.040795  \n",
       "ARSA      1.000000  0.013757  \n",
       "SHANK3    0.013757  1.000000  \n",
       "\n",
       "[6428 rows x 6428 columns]"
      ]
     },
     "metadata": {},
     "output_type": "display_data"
    },
    {
     "data": {
      "text/plain": [
       "'Number of negative eigenvalues: 0'"
      ]
     },
     "metadata": {},
     "output_type": "display_data"
    },
    {
     "data": {
      "text/plain": [
       "'Negative eigenvalues:\\n[]'"
      ]
     },
     "metadata": {},
     "output_type": "display_data"
    },
    {
     "name": "stdout",
     "output_type": "stream",
     "text": [
      "Works! (statsmodels.GLS)\n",
      "Works!\n",
      "all good.\n"
     ]
    },
    {
     "data": {
      "text/plain": [
       "'Number of genes with correlations with other genes: 6412'"
      ]
     },
     "metadata": {},
     "output_type": "display_data"
    },
    {
     "data": {
      "text/plain": [
       "'Number of nonzero cells: 130502'"
      ]
     },
     "metadata": {},
     "output_type": "display_data"
    },
    {
     "data": {
      "text/plain": [
       "count                20656378.0\n",
       "mean     0.00014667092645341271\n",
       "std        0.006894316373709464\n",
       "min                         0.0\n",
       "25%                         0.0\n",
       "50%                         0.0\n",
       "75%                         0.0\n",
       "max           0.999997504222484\n",
       "dtype: object"
      ]
     },
     "metadata": {},
     "output_type": "display_data"
    },
    {
     "data": {
      "text/plain": [
       "PosixPath('/project/ritchie20/projects/phenoplier/base/results/gls/gene_corrs/cohorts/phenomexcan_rapid_gwas/gtex_v8/mashr/gene_corrs-symbols-within_distance_2mb.pkl')"
      ]
     },
     "metadata": {},
     "output_type": "display_data"
    },
    {
     "name": "stdout",
     "output_type": "stream",
     "text": [
      "\n",
      "\n"
     ]
    }
   ],
   "source": [
    "for full_distance in DISTANCES:\n",
    "    distance = full_distance / 2.0\n",
    "    print(f\"Using within distance: {distance}\", flush=True)\n",
    "\n",
    "    # compute a boolean within distance matrix using the given distance\n",
    "    genes_within_distance = np.eye(len(gene_objs)).astype(bool)\n",
    "    for g0_idx in range(len(gene_objs) - 1):\n",
    "        g0_obj = gene_objs[g0_idx]\n",
    "\n",
    "        for g1_idx in range(g0_idx + 1, len(gene_objs)):\n",
    "            g1_obj = gene_objs[g1_idx]\n",
    "\n",
    "            g0_g1_wd = g0_obj.within_distance(g1_obj, distance * 1e6)\n",
    "\n",
    "            genes_within_distance[g0_idx, g1_idx] = g0_g1_wd\n",
    "            genes_within_distance[g1_idx, g0_idx] = g0_g1_wd\n",
    "\n",
    "    genes_within_distance = pd.DataFrame(\n",
    "        genes_within_distance,\n",
    "        index=gene_corrs.index.copy(),\n",
    "        columns=gene_corrs.columns.copy(),\n",
    "    )\n",
    "\n",
    "    # subset full correlation matrix\n",
    "    gene_corrs_within_distance = gene_corrs[genes_within_distance].fillna(0.0)\n",
    "    assert not gene_corrs_within_distance.equals(gene_corrs)\n",
    "    assert not np.allclose(gene_corrs_within_distance.to_numpy(), gene_corrs.to_numpy())\n",
    "    display(gene_corrs_within_distance)\n",
    "\n",
    "    # check if the new matrix is positive definite\n",
    "    is_pos_def = check_pos_def(gene_corrs_within_distance)\n",
    "\n",
    "    if is_pos_def:\n",
    "        print(\"all good.\", flush=True, end=\"\\n\")\n",
    "    else:\n",
    "        print(\"not positive definite, fixing... \", flush=True, end=\"\")\n",
    "        corr_data_adjusted = adjust_non_pos_def(gene_corrs_within_distance)\n",
    "\n",
    "        is_pos_def = check_pos_def(corr_data_adjusted)\n",
    "        assert is_pos_def, \"Could not adjust gene correlation matrix\"\n",
    "\n",
    "        print(\"fixed! comparing...\", flush=True, end=\"\\n\")\n",
    "        compare_matrices(gene_corrs_within_distance, corr_data_adjusted)\n",
    "\n",
    "        # save\n",
    "        gene_corrs_within_distance = corr_data_adjusted\n",
    "\n",
    "    # checks\n",
    "    assert not gene_corrs_within_distance.isna().any(None)\n",
    "    assert not np.isinf(gene_corrs_within_distance.to_numpy()).any()\n",
    "    assert not np.iscomplex(gene_corrs_within_distance.to_numpy()).any()\n",
    "\n",
    "    # show stats\n",
    "    genes_corrs_sum = gene_corrs_within_distance.sum()\n",
    "    n_genes_included = genes_corrs_sum[genes_corrs_sum > 1.0].shape[0]\n",
    "    display(f\"Number of genes with correlations with other genes: {n_genes_included}\")\n",
    "\n",
    "    genes_corrs_nonzero_sum = (gene_corrs_within_distance > 0.0).astype(int).sum().sum()\n",
    "    display(f\"Number of nonzero cells: {genes_corrs_nonzero_sum}\")\n",
    "\n",
    "    corr_matrix_flat = gene_corrs_within_distance.mask(\n",
    "        np.triu(np.ones(gene_corrs_within_distance.shape)).astype(bool)\n",
    "    ).stack()\n",
    "    display(corr_matrix_flat.describe().apply(str))\n",
    "\n",
    "    # save file\n",
    "    output_filepath = (\n",
    "        OUTPUT_DIR_BASE\n",
    "        / f\"gene_corrs-symbols-within_distance_{int(full_distance)}mb.pkl\"\n",
    "    )\n",
    "    display(output_filepath)\n",
    "\n",
    "    gene_corrs_within_distance.to_pickle(output_filepath)\n",
    "\n",
    "    print(\"\\n\")"
   ]
  },
  {
   "cell_type": "code",
   "execution_count": null,
   "id": "38cf09b7",
   "metadata": {
    "papermill": {
     "duration": 0.014621,
     "end_time": "2022-08-29T16:12:28.363072",
     "exception": false,
     "start_time": "2022-08-29T16:12:28.348451",
     "status": "completed"
    },
    "tags": []
   },
   "outputs": [],
   "source": []
  }
 ],
 "metadata": {
  "jupytext": {
   "cell_metadata_filter": "all,-execution,-papermill,-trusted",
   "formats": "ipynb,py//py:percent"
  },
  "kernelspec": {
   "display_name": "Python 3 (ipykernel)",
   "language": "python",
   "name": "python3"
  },
  "language_info": {
   "codemirror_mode": {
    "name": "ipython",
    "version": 3
   },
   "file_extension": ".py",
   "mimetype": "text/x-python",
   "name": "python",
   "nbconvert_exporter": "python",
   "pygments_lexer": "ipython3",
   "version": "3.8.13"
  },
  "papermill": {
   "default_parameters": {},
   "duration": 476.717446,
   "end_time": "2022-08-29T16:12:28.698775",
   "environment_variables": {},
   "exception": null,
   "input_path": "nbs/15_gsa_gls/16-create_within_distance_matrices.ipynb",
   "output_path": "nbs/15_gsa_gls/gene_corrs/cohorts/phenomexcan_rapid_gwas/gtex_v8/mashr/16-create_within_distance_matrices.run.ipynb",
   "parameters": {
    "COHORT_NAME": "phenomexcan_rapid_gwas",
    "EQTL_MODEL": "MASHR",
    "REFERENCE_PANEL": "GTEX_V8"
   },
   "start_time": "2022-08-29T16:04:31.981329",
   "version": "2.2.2"
  }
 },
 "nbformat": 4,
 "nbformat_minor": 5
}
