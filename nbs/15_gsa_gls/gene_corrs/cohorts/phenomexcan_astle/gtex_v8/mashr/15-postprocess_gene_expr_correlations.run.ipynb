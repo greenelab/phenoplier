{
 "cells": [
  {
   "cell_type": "markdown",
   "id": "5ef66977",
   "metadata": {
    "papermill": {
     "duration": 0.012623,
     "end_time": "2022-08-29T14:29:10.298660",
     "exception": false,
     "start_time": "2022-08-29T14:29:10.286037",
     "status": "completed"
    },
    "tags": []
   },
   "source": [
    "# Description"
   ]
  },
  {
   "cell_type": "markdown",
   "id": "658d4f7c",
   "metadata": {
    "papermill": {
     "duration": 0.011142,
     "end_time": "2022-08-29T14:29:10.320522",
     "exception": false,
     "start_time": "2022-08-29T14:29:10.309380",
     "status": "completed"
    },
    "tags": []
   },
   "source": [
    "(Please, take a look at the README.md file in this directory for instructions on how to run this notebook)\n",
    "\n",
    "This notebook reads all gene correlations across all chromosomes and computes a single correlation matrix by assembling a big correlation matrix with all genes."
   ]
  },
  {
   "cell_type": "markdown",
   "id": "60fa4530",
   "metadata": {
    "papermill": {
     "duration": 0.011154,
     "end_time": "2022-08-29T14:29:10.342645",
     "exception": false,
     "start_time": "2022-08-29T14:29:10.331491",
     "status": "completed"
    },
    "tags": []
   },
   "source": [
    "# Modules"
   ]
  },
  {
   "cell_type": "code",
   "execution_count": 1,
   "id": "d70b0833",
   "metadata": {
    "execution": {
     "iopub.execute_input": "2022-08-29T14:29:10.390459Z",
     "iopub.status.busy": "2022-08-29T14:29:10.390173Z",
     "iopub.status.idle": "2022-08-29T14:29:10.409071Z",
     "shell.execute_reply": "2022-08-29T14:29:10.408476Z"
    },
    "papermill": {
     "duration": 0.056518,
     "end_time": "2022-08-29T14:29:10.411151",
     "exception": false,
     "start_time": "2022-08-29T14:29:10.354633",
     "status": "completed"
    },
    "tags": []
   },
   "outputs": [],
   "source": [
    "%load_ext autoreload\n",
    "%autoreload 2"
   ]
  },
  {
   "cell_type": "code",
   "execution_count": 2,
   "id": "6b2f9ca0",
   "metadata": {
    "execution": {
     "iopub.execute_input": "2022-08-29T14:29:10.436211Z",
     "iopub.status.busy": "2022-08-29T14:29:10.435942Z",
     "iopub.status.idle": "2022-08-29T14:29:11.762440Z",
     "shell.execute_reply": "2022-08-29T14:29:11.761768Z"
    },
    "papermill": {
     "duration": 1.341423,
     "end_time": "2022-08-29T14:29:11.764474",
     "exception": false,
     "start_time": "2022-08-29T14:29:10.423051",
     "status": "completed"
    },
    "tags": []
   },
   "outputs": [],
   "source": [
    "import pickle\n",
    "\n",
    "import numpy as np\n",
    "from scipy.spatial.distance import squareform\n",
    "import pandas as pd\n",
    "import matplotlib.pyplot as plt\n",
    "import seaborn as sns\n",
    "\n",
    "import conf\n",
    "from entity import Gene\n",
    "from correlations import check_pos_def, compare_matrices, correct_corr_mat, adjust_non_pos_def"
   ]
  },
  {
   "cell_type": "markdown",
   "id": "5b96e797",
   "metadata": {
    "papermill": {
     "duration": 0.014242,
     "end_time": "2022-08-29T14:29:11.791136",
     "exception": false,
     "start_time": "2022-08-29T14:29:11.776894",
     "status": "completed"
    },
    "tags": []
   },
   "source": [
    "# Settings"
   ]
  },
  {
   "cell_type": "code",
   "execution_count": 3,
   "id": "4fc1b6a0",
   "metadata": {
    "execution": {
     "iopub.execute_input": "2022-08-29T14:29:11.818474Z",
     "iopub.status.busy": "2022-08-29T14:29:11.818199Z",
     "iopub.status.idle": "2022-08-29T14:29:11.839352Z",
     "shell.execute_reply": "2022-08-29T14:29:11.838717Z"
    },
    "papermill": {
     "duration": 0.037311,
     "end_time": "2022-08-29T14:29:11.841380",
     "exception": false,
     "start_time": "2022-08-29T14:29:11.804069",
     "status": "completed"
    },
    "tags": [
     "parameters"
    ]
   },
   "outputs": [],
   "source": [
    "# a cohort name (it could be something like UK_BIOBANK, etc)\n",
    "COHORT_NAME = None\n",
    "\n",
    "# reference panel such as 1000G or GTEX_V8\n",
    "REFERENCE_PANEL = None\n",
    "\n",
    "# predictions models such as MASHR or ELASTIC_NET\n",
    "EQTL_MODEL = None"
   ]
  },
  {
   "cell_type": "code",
   "execution_count": 4,
   "id": "d14616c9",
   "metadata": {
    "execution": {
     "iopub.execute_input": "2022-08-29T14:29:11.867123Z",
     "iopub.status.busy": "2022-08-29T14:29:11.866838Z",
     "iopub.status.idle": "2022-08-29T14:29:11.888024Z",
     "shell.execute_reply": "2022-08-29T14:29:11.887400Z"
    },
    "papermill": {
     "duration": 0.036789,
     "end_time": "2022-08-29T14:29:11.890067",
     "exception": false,
     "start_time": "2022-08-29T14:29:11.853278",
     "status": "completed"
    },
    "tags": [
     "injected-parameters"
    ]
   },
   "outputs": [],
   "source": [
    "# Parameters\n",
    "COHORT_NAME = \"phenomexcan_astle\"\n",
    "REFERENCE_PANEL = \"GTEX_V8\"\n",
    "EQTL_MODEL = \"MASHR\"\n"
   ]
  },
  {
   "cell_type": "code",
   "execution_count": 5,
   "id": "6dba5c90-40a4-4a62-899e-1711ab4e40bb",
   "metadata": {
    "execution": {
     "iopub.execute_input": "2022-08-29T14:29:11.916174Z",
     "iopub.status.busy": "2022-08-29T14:29:11.915883Z",
     "iopub.status.idle": "2022-08-29T14:29:11.941334Z",
     "shell.execute_reply": "2022-08-29T14:29:11.940662Z"
    },
    "papermill": {
     "duration": 0.040721,
     "end_time": "2022-08-29T14:29:11.943230",
     "exception": false,
     "start_time": "2022-08-29T14:29:11.902509",
     "status": "completed"
    },
    "tags": []
   },
   "outputs": [
    {
     "data": {
      "text/plain": [
       "'Cohort name: phenomexcan_astle'"
      ]
     },
     "metadata": {},
     "output_type": "display_data"
    }
   ],
   "source": [
    "assert COHORT_NAME is not None and len(COHORT_NAME) > 0, \"A cohort name must be given\"\n",
    "\n",
    "COHORT_NAME = COHORT_NAME.lower()\n",
    "display(f\"Cohort name: {COHORT_NAME}\")"
   ]
  },
  {
   "cell_type": "code",
   "execution_count": 6,
   "id": "90be4359-19db-4c2d-a3ca-202674476164",
   "metadata": {
    "execution": {
     "iopub.execute_input": "2022-08-29T14:29:11.970308Z",
     "iopub.status.busy": "2022-08-29T14:29:11.970014Z",
     "iopub.status.idle": "2022-08-29T14:29:11.992191Z",
     "shell.execute_reply": "2022-08-29T14:29:11.991598Z"
    },
    "papermill": {
     "duration": 0.038318,
     "end_time": "2022-08-29T14:29:11.993852",
     "exception": false,
     "start_time": "2022-08-29T14:29:11.955534",
     "status": "completed"
    },
    "tags": []
   },
   "outputs": [
    {
     "data": {
      "text/plain": [
       "'Reference panel: GTEX_V8'"
      ]
     },
     "metadata": {},
     "output_type": "display_data"
    }
   ],
   "source": [
    "assert (\n",
    "    REFERENCE_PANEL is not None and len(REFERENCE_PANEL) > 0\n",
    "), \"A reference panel must be given\"\n",
    "\n",
    "display(f\"Reference panel: {REFERENCE_PANEL}\")"
   ]
  },
  {
   "cell_type": "code",
   "execution_count": 7,
   "id": "d959f3f4-8f7b-4313-b3b1-37606e7250bf",
   "metadata": {
    "execution": {
     "iopub.execute_input": "2022-08-29T14:29:12.020149Z",
     "iopub.status.busy": "2022-08-29T14:29:12.019869Z",
     "iopub.status.idle": "2022-08-29T14:29:12.042588Z",
     "shell.execute_reply": "2022-08-29T14:29:12.042021Z"
    },
    "papermill": {
     "duration": 0.037825,
     "end_time": "2022-08-29T14:29:12.044241",
     "exception": false,
     "start_time": "2022-08-29T14:29:12.006416",
     "status": "completed"
    },
    "tags": []
   },
   "outputs": [
    {
     "data": {
      "text/plain": [
       "'eQTL model: MASHR)'"
      ]
     },
     "metadata": {},
     "output_type": "display_data"
    }
   ],
   "source": [
    "assert (\n",
    "    EQTL_MODEL is not None and len(EQTL_MODEL) > 0\n",
    "), \"A prediction/eQTL model must be given\"\n",
    "\n",
    "display(f\"eQTL model: {EQTL_MODEL})\")"
   ]
  },
  {
   "cell_type": "code",
   "execution_count": 8,
   "id": "ac0c0705-90e4-42f8-8298-a457c7e778ff",
   "metadata": {
    "execution": {
     "iopub.execute_input": "2022-08-29T14:29:12.070833Z",
     "iopub.status.busy": "2022-08-29T14:29:12.070543Z",
     "iopub.status.idle": "2022-08-29T14:29:12.093949Z",
     "shell.execute_reply": "2022-08-29T14:29:12.093338Z"
    },
    "papermill": {
     "duration": 0.039164,
     "end_time": "2022-08-29T14:29:12.095597",
     "exception": false,
     "start_time": "2022-08-29T14:29:12.056433",
     "status": "completed"
    },
    "tags": []
   },
   "outputs": [
    {
     "data": {
      "text/plain": [
       "'Using output dir base: /project/ritchie20/projects/phenoplier/base/results/gls/gene_corrs/cohorts/phenomexcan_astle/gtex_v8/mashr'"
      ]
     },
     "metadata": {},
     "output_type": "display_data"
    }
   ],
   "source": [
    "OUTPUT_DIR_BASE = (\n",
    "    conf.RESULTS[\"GLS\"]\n",
    "    / \"gene_corrs\"\n",
    "    / \"cohorts\"\n",
    "    / COHORT_NAME\n",
    "    / REFERENCE_PANEL.lower()\n",
    "    / EQTL_MODEL.lower()\n",
    ")\n",
    "OUTPUT_DIR_BASE.mkdir(parents=True, exist_ok=True)\n",
    "\n",
    "display(f\"Using output dir base: {OUTPUT_DIR_BASE}\")"
   ]
  },
  {
   "cell_type": "code",
   "execution_count": 9,
   "id": "1afd50f7",
   "metadata": {
    "execution": {
     "iopub.execute_input": "2022-08-29T14:29:12.121207Z",
     "iopub.status.busy": "2022-08-29T14:29:12.120928Z",
     "iopub.status.idle": "2022-08-29T14:29:12.144004Z",
     "shell.execute_reply": "2022-08-29T14:29:12.143427Z"
    },
    "papermill": {
     "duration": 0.037821,
     "end_time": "2022-08-29T14:29:12.145588",
     "exception": false,
     "start_time": "2022-08-29T14:29:12.107767",
     "status": "completed"
    },
    "tags": []
   },
   "outputs": [
    {
     "data": {
      "text/plain": [
       "'Gene correlations input dir: /project/ritchie20/projects/phenoplier/base/results/gls/gene_corrs/cohorts/phenomexcan_astle/gtex_v8/mashr/by_chr'"
      ]
     },
     "metadata": {},
     "output_type": "display_data"
    }
   ],
   "source": [
    "INPUT_DIR = OUTPUT_DIR_BASE / \"by_chr\"\n",
    "\n",
    "display(f\"Gene correlations input dir: {INPUT_DIR}\")\n",
    "assert INPUT_DIR.exists()"
   ]
  },
  {
   "cell_type": "markdown",
   "id": "99ccb166",
   "metadata": {
    "papermill": {
     "duration": 0.011815,
     "end_time": "2022-08-29T14:29:12.170007",
     "exception": false,
     "start_time": "2022-08-29T14:29:12.158192",
     "status": "completed"
    },
    "tags": []
   },
   "source": [
    "# Load data"
   ]
  },
  {
   "cell_type": "markdown",
   "id": "028bdd42",
   "metadata": {
    "papermill": {
     "duration": 0.012426,
     "end_time": "2022-08-29T14:29:12.194310",
     "exception": false,
     "start_time": "2022-08-29T14:29:12.181884",
     "status": "completed"
    },
    "tags": []
   },
   "source": [
    "## Gene correlations"
   ]
  },
  {
   "cell_type": "code",
   "execution_count": 10,
   "id": "04624465",
   "metadata": {
    "execution": {
     "iopub.execute_input": "2022-08-29T14:29:12.220218Z",
     "iopub.status.busy": "2022-08-29T14:29:12.219935Z",
     "iopub.status.idle": "2022-08-29T14:29:12.242493Z",
     "shell.execute_reply": "2022-08-29T14:29:12.241881Z"
    },
    "papermill": {
     "duration": 0.038247,
     "end_time": "2022-08-29T14:29:12.244593",
     "exception": false,
     "start_time": "2022-08-29T14:29:12.206346",
     "status": "completed"
    },
    "tags": []
   },
   "outputs": [],
   "source": [
    "all_gene_corr_files = list(INPUT_DIR.glob(\"gene_corrs-chr*.pkl\"))"
   ]
  },
  {
   "cell_type": "code",
   "execution_count": 11,
   "id": "be5869e7-d0e4-4b8f-8c6d-a1c6a9419fe2",
   "metadata": {
    "execution": {
     "iopub.execute_input": "2022-08-29T14:29:12.271512Z",
     "iopub.status.busy": "2022-08-29T14:29:12.271223Z",
     "iopub.status.idle": "2022-08-29T14:29:12.291962Z",
     "shell.execute_reply": "2022-08-29T14:29:12.291293Z"
    },
    "papermill": {
     "duration": 0.036586,
     "end_time": "2022-08-29T14:29:12.293967",
     "exception": false,
     "start_time": "2022-08-29T14:29:12.257381",
     "status": "completed"
    },
    "tags": []
   },
   "outputs": [],
   "source": [
    "# sort by chromosome\n",
    "all_gene_corr_files = sorted(\n",
    "    all_gene_corr_files, key=lambda x: int(x.name.split(\"-chr\")[1].split(\".pkl\")[0])\n",
    ")"
   ]
  },
  {
   "cell_type": "code",
   "execution_count": 12,
   "id": "7d1168f5",
   "metadata": {
    "execution": {
     "iopub.execute_input": "2022-08-29T14:29:12.321463Z",
     "iopub.status.busy": "2022-08-29T14:29:12.321190Z",
     "iopub.status.idle": "2022-08-29T14:29:12.344252Z",
     "shell.execute_reply": "2022-08-29T14:29:12.343626Z"
    },
    "papermill": {
     "duration": 0.039153,
     "end_time": "2022-08-29T14:29:12.346130",
     "exception": false,
     "start_time": "2022-08-29T14:29:12.306977",
     "status": "completed"
    },
    "tags": []
   },
   "outputs": [
    {
     "data": {
      "text/plain": [
       "22"
      ]
     },
     "execution_count": 12,
     "metadata": {},
     "output_type": "execute_result"
    }
   ],
   "source": [
    "len(all_gene_corr_files)"
   ]
  },
  {
   "cell_type": "code",
   "execution_count": 13,
   "id": "39364170",
   "metadata": {
    "execution": {
     "iopub.execute_input": "2022-08-29T14:29:12.374324Z",
     "iopub.status.busy": "2022-08-29T14:29:12.374052Z",
     "iopub.status.idle": "2022-08-29T14:29:12.396872Z",
     "shell.execute_reply": "2022-08-29T14:29:12.396242Z"
    },
    "papermill": {
     "duration": 0.039014,
     "end_time": "2022-08-29T14:29:12.398592",
     "exception": false,
     "start_time": "2022-08-29T14:29:12.359578",
     "status": "completed"
    },
    "tags": []
   },
   "outputs": [
    {
     "data": {
      "text/plain": [
       "[PosixPath('/project/ritchie20/projects/phenoplier/base/results/gls/gene_corrs/cohorts/phenomexcan_astle/gtex_v8/mashr/by_chr/gene_corrs-chr1.pkl'),\n",
       " PosixPath('/project/ritchie20/projects/phenoplier/base/results/gls/gene_corrs/cohorts/phenomexcan_astle/gtex_v8/mashr/by_chr/gene_corrs-chr2.pkl'),\n",
       " PosixPath('/project/ritchie20/projects/phenoplier/base/results/gls/gene_corrs/cohorts/phenomexcan_astle/gtex_v8/mashr/by_chr/gene_corrs-chr3.pkl'),\n",
       " PosixPath('/project/ritchie20/projects/phenoplier/base/results/gls/gene_corrs/cohorts/phenomexcan_astle/gtex_v8/mashr/by_chr/gene_corrs-chr4.pkl'),\n",
       " PosixPath('/project/ritchie20/projects/phenoplier/base/results/gls/gene_corrs/cohorts/phenomexcan_astle/gtex_v8/mashr/by_chr/gene_corrs-chr5.pkl'),\n",
       " PosixPath('/project/ritchie20/projects/phenoplier/base/results/gls/gene_corrs/cohorts/phenomexcan_astle/gtex_v8/mashr/by_chr/gene_corrs-chr6.pkl'),\n",
       " PosixPath('/project/ritchie20/projects/phenoplier/base/results/gls/gene_corrs/cohorts/phenomexcan_astle/gtex_v8/mashr/by_chr/gene_corrs-chr7.pkl'),\n",
       " PosixPath('/project/ritchie20/projects/phenoplier/base/results/gls/gene_corrs/cohorts/phenomexcan_astle/gtex_v8/mashr/by_chr/gene_corrs-chr8.pkl'),\n",
       " PosixPath('/project/ritchie20/projects/phenoplier/base/results/gls/gene_corrs/cohorts/phenomexcan_astle/gtex_v8/mashr/by_chr/gene_corrs-chr9.pkl'),\n",
       " PosixPath('/project/ritchie20/projects/phenoplier/base/results/gls/gene_corrs/cohorts/phenomexcan_astle/gtex_v8/mashr/by_chr/gene_corrs-chr10.pkl'),\n",
       " PosixPath('/project/ritchie20/projects/phenoplier/base/results/gls/gene_corrs/cohorts/phenomexcan_astle/gtex_v8/mashr/by_chr/gene_corrs-chr11.pkl'),\n",
       " PosixPath('/project/ritchie20/projects/phenoplier/base/results/gls/gene_corrs/cohorts/phenomexcan_astle/gtex_v8/mashr/by_chr/gene_corrs-chr12.pkl'),\n",
       " PosixPath('/project/ritchie20/projects/phenoplier/base/results/gls/gene_corrs/cohorts/phenomexcan_astle/gtex_v8/mashr/by_chr/gene_corrs-chr13.pkl'),\n",
       " PosixPath('/project/ritchie20/projects/phenoplier/base/results/gls/gene_corrs/cohorts/phenomexcan_astle/gtex_v8/mashr/by_chr/gene_corrs-chr14.pkl'),\n",
       " PosixPath('/project/ritchie20/projects/phenoplier/base/results/gls/gene_corrs/cohorts/phenomexcan_astle/gtex_v8/mashr/by_chr/gene_corrs-chr15.pkl'),\n",
       " PosixPath('/project/ritchie20/projects/phenoplier/base/results/gls/gene_corrs/cohorts/phenomexcan_astle/gtex_v8/mashr/by_chr/gene_corrs-chr16.pkl'),\n",
       " PosixPath('/project/ritchie20/projects/phenoplier/base/results/gls/gene_corrs/cohorts/phenomexcan_astle/gtex_v8/mashr/by_chr/gene_corrs-chr17.pkl'),\n",
       " PosixPath('/project/ritchie20/projects/phenoplier/base/results/gls/gene_corrs/cohorts/phenomexcan_astle/gtex_v8/mashr/by_chr/gene_corrs-chr18.pkl'),\n",
       " PosixPath('/project/ritchie20/projects/phenoplier/base/results/gls/gene_corrs/cohorts/phenomexcan_astle/gtex_v8/mashr/by_chr/gene_corrs-chr19.pkl'),\n",
       " PosixPath('/project/ritchie20/projects/phenoplier/base/results/gls/gene_corrs/cohorts/phenomexcan_astle/gtex_v8/mashr/by_chr/gene_corrs-chr20.pkl'),\n",
       " PosixPath('/project/ritchie20/projects/phenoplier/base/results/gls/gene_corrs/cohorts/phenomexcan_astle/gtex_v8/mashr/by_chr/gene_corrs-chr21.pkl'),\n",
       " PosixPath('/project/ritchie20/projects/phenoplier/base/results/gls/gene_corrs/cohorts/phenomexcan_astle/gtex_v8/mashr/by_chr/gene_corrs-chr22.pkl')]"
      ]
     },
     "execution_count": 13,
     "metadata": {},
     "output_type": "execute_result"
    }
   ],
   "source": [
    "all_gene_corr_files"
   ]
  },
  {
   "cell_type": "code",
   "execution_count": 14,
   "id": "6e48c284",
   "metadata": {
    "execution": {
     "iopub.execute_input": "2022-08-29T14:29:12.426248Z",
     "iopub.status.busy": "2022-08-29T14:29:12.425969Z",
     "iopub.status.idle": "2022-08-29T14:29:12.447212Z",
     "shell.execute_reply": "2022-08-29T14:29:12.446589Z"
    },
    "papermill": {
     "duration": 0.037847,
     "end_time": "2022-08-29T14:29:12.449247",
     "exception": false,
     "start_time": "2022-08-29T14:29:12.411400",
     "status": "completed"
    },
    "tags": []
   },
   "outputs": [],
   "source": [
    "assert len(all_gene_corr_files) == 22"
   ]
  },
  {
   "cell_type": "markdown",
   "id": "99d01a88-2f71-41eb-a423-a17378bbb174",
   "metadata": {
    "papermill": {
     "duration": 0.013404,
     "end_time": "2022-08-29T14:29:12.476078",
     "exception": false,
     "start_time": "2022-08-29T14:29:12.462674",
     "status": "completed"
    },
    "tags": []
   },
   "source": [
    "## Get common genes"
   ]
  },
  {
   "cell_type": "code",
   "execution_count": 15,
   "id": "6a5e95f0-eeab-4716-8982-b1dbbd8763d8",
   "metadata": {
    "execution": {
     "iopub.execute_input": "2022-08-29T14:29:12.504629Z",
     "iopub.status.busy": "2022-08-29T14:29:12.504360Z",
     "iopub.status.idle": "2022-08-29T14:29:13.133548Z",
     "shell.execute_reply": "2022-08-29T14:29:13.132894Z"
    },
    "papermill": {
     "duration": 0.646115,
     "end_time": "2022-08-29T14:29:13.135550",
     "exception": false,
     "start_time": "2022-08-29T14:29:12.489435",
     "status": "completed"
    },
    "tags": []
   },
   "outputs": [],
   "source": [
    "gene_ids = set()\n",
    "for f in all_gene_corr_files:\n",
    "    chr_genes = pd.read_pickle(f).index.tolist()\n",
    "    gene_ids.update(chr_genes)"
   ]
  },
  {
   "cell_type": "code",
   "execution_count": 16,
   "id": "81ca7c6e-69c4-48c4-b44f-ec9a2b8bb527",
   "metadata": {
    "execution": {
     "iopub.execute_input": "2022-08-29T14:29:13.163000Z",
     "iopub.status.busy": "2022-08-29T14:29:13.162701Z",
     "iopub.status.idle": "2022-08-29T14:29:13.184764Z",
     "shell.execute_reply": "2022-08-29T14:29:13.184188Z"
    },
    "papermill": {
     "duration": 0.037596,
     "end_time": "2022-08-29T14:29:13.186433",
     "exception": false,
     "start_time": "2022-08-29T14:29:13.148837",
     "status": "completed"
    },
    "tags": []
   },
   "outputs": [
    {
     "data": {
      "text/plain": [
       "6450"
      ]
     },
     "metadata": {},
     "output_type": "display_data"
    }
   ],
   "source": [
    "display(len(gene_ids))"
   ]
  },
  {
   "cell_type": "code",
   "execution_count": 17,
   "id": "5e8a7f17-c84b-4d71-bf0d-11116a66084e",
   "metadata": {
    "execution": {
     "iopub.execute_input": "2022-08-29T14:29:13.213135Z",
     "iopub.status.busy": "2022-08-29T14:29:13.212859Z",
     "iopub.status.idle": "2022-08-29T14:29:13.237934Z",
     "shell.execute_reply": "2022-08-29T14:29:13.237327Z"
    },
    "papermill": {
     "duration": 0.040621,
     "end_time": "2022-08-29T14:29:13.239642",
     "exception": false,
     "start_time": "2022-08-29T14:29:13.199021",
     "status": "completed"
    },
    "tags": []
   },
   "outputs": [
    {
     "data": {
      "text/plain": [
       "['ENSG00000000419',\n",
       " 'ENSG00000000938',\n",
       " 'ENSG00000000971',\n",
       " 'ENSG00000001084',\n",
       " 'ENSG00000001167']"
      ]
     },
     "execution_count": 17,
     "metadata": {},
     "output_type": "execute_result"
    }
   ],
   "source": [
    "sorted(list(gene_ids))[:5]"
   ]
  },
  {
   "cell_type": "markdown",
   "id": "afb94d22-07be-4b67-b448-1d15d787e882",
   "metadata": {
    "papermill": {
     "duration": 0.012922,
     "end_time": "2022-08-29T14:29:13.266057",
     "exception": false,
     "start_time": "2022-08-29T14:29:13.253135",
     "status": "completed"
    },
    "tags": []
   },
   "source": [
    "## Gene info"
   ]
  },
  {
   "cell_type": "code",
   "execution_count": 18,
   "id": "66346539-e969-46dd-997d-c1f404646caa",
   "metadata": {
    "execution": {
     "iopub.execute_input": "2022-08-29T14:29:13.294213Z",
     "iopub.status.busy": "2022-08-29T14:29:13.293941Z",
     "iopub.status.idle": "2022-08-29T14:29:13.367315Z",
     "shell.execute_reply": "2022-08-29T14:29:13.366409Z"
    },
    "papermill": {
     "duration": 0.089959,
     "end_time": "2022-08-29T14:29:13.369505",
     "exception": false,
     "start_time": "2022-08-29T14:29:13.279546",
     "status": "completed"
    },
    "tags": []
   },
   "outputs": [],
   "source": [
    "genes_info = pd.read_pickle(OUTPUT_DIR_BASE / \"genes_info.pkl\")"
   ]
  },
  {
   "cell_type": "code",
   "execution_count": 19,
   "id": "6cf6e7f6-5c5c-4ee5-a3d6-1fab3f88fd20",
   "metadata": {
    "execution": {
     "iopub.execute_input": "2022-08-29T14:29:13.400922Z",
     "iopub.status.busy": "2022-08-29T14:29:13.400625Z",
     "iopub.status.idle": "2022-08-29T14:29:13.425608Z",
     "shell.execute_reply": "2022-08-29T14:29:13.424975Z"
    },
    "papermill": {
     "duration": 0.043677,
     "end_time": "2022-08-29T14:29:13.427492",
     "exception": false,
     "start_time": "2022-08-29T14:29:13.383815",
     "status": "completed"
    },
    "tags": []
   },
   "outputs": [
    {
     "data": {
      "text/plain": [
       "(6450, 7)"
      ]
     },
     "execution_count": 19,
     "metadata": {},
     "output_type": "execute_result"
    }
   ],
   "source": [
    "genes_info.shape"
   ]
  },
  {
   "cell_type": "code",
   "execution_count": 20,
   "id": "c0c00e56-a168-4502-bad1-178fa736b055",
   "metadata": {
    "execution": {
     "iopub.execute_input": "2022-08-29T14:29:13.456789Z",
     "iopub.status.busy": "2022-08-29T14:29:13.456493Z",
     "iopub.status.idle": "2022-08-29T14:29:13.488923Z",
     "shell.execute_reply": "2022-08-29T14:29:13.488280Z"
    },
    "papermill": {
     "duration": 0.049577,
     "end_time": "2022-08-29T14:29:13.490769",
     "exception": false,
     "start_time": "2022-08-29T14:29:13.441192",
     "status": "completed"
    },
    "tags": []
   },
   "outputs": [
    {
     "data": {
      "text/html": [
       "<div>\n",
       "<style scoped>\n",
       "    .dataframe tbody tr th:only-of-type {\n",
       "        vertical-align: middle;\n",
       "    }\n",
       "\n",
       "    .dataframe tbody tr th {\n",
       "        vertical-align: top;\n",
       "    }\n",
       "\n",
       "    .dataframe thead th {\n",
       "        text-align: right;\n",
       "    }\n",
       "</style>\n",
       "<table border=\"1\" class=\"dataframe\">\n",
       "  <thead>\n",
       "    <tr style=\"text-align: right;\">\n",
       "      <th></th>\n",
       "      <th>name</th>\n",
       "      <th>id</th>\n",
       "      <th>chr</th>\n",
       "      <th>band</th>\n",
       "      <th>start_position</th>\n",
       "      <th>end_position</th>\n",
       "      <th>gene_length</th>\n",
       "    </tr>\n",
       "  </thead>\n",
       "  <tbody>\n",
       "    <tr>\n",
       "      <th>0</th>\n",
       "      <td>FBXO34</td>\n",
       "      <td>ENSG00000178974</td>\n",
       "      <td>14</td>\n",
       "      <td>14q22.3</td>\n",
       "      <td>55271421</td>\n",
       "      <td>55361918</td>\n",
       "      <td>90497</td>\n",
       "    </tr>\n",
       "    <tr>\n",
       "      <th>1</th>\n",
       "      <td>ARG1</td>\n",
       "      <td>ENSG00000118520</td>\n",
       "      <td>6</td>\n",
       "      <td>6q23.2</td>\n",
       "      <td>131573144</td>\n",
       "      <td>131584332</td>\n",
       "      <td>11188</td>\n",
       "    </tr>\n",
       "    <tr>\n",
       "      <th>2</th>\n",
       "      <td>FADS2</td>\n",
       "      <td>ENSG00000134824</td>\n",
       "      <td>11</td>\n",
       "      <td>11q12.2</td>\n",
       "      <td>61792980</td>\n",
       "      <td>61867354</td>\n",
       "      <td>74374</td>\n",
       "    </tr>\n",
       "    <tr>\n",
       "      <th>3</th>\n",
       "      <td>CA4</td>\n",
       "      <td>ENSG00000167434</td>\n",
       "      <td>17</td>\n",
       "      <td>17q23.1</td>\n",
       "      <td>60149942</td>\n",
       "      <td>60170899</td>\n",
       "      <td>20957</td>\n",
       "    </tr>\n",
       "    <tr>\n",
       "      <th>4</th>\n",
       "      <td>PFKFB3</td>\n",
       "      <td>ENSG00000170525</td>\n",
       "      <td>10</td>\n",
       "      <td>10p15.1</td>\n",
       "      <td>6144934</td>\n",
       "      <td>6254644</td>\n",
       "      <td>109710</td>\n",
       "    </tr>\n",
       "  </tbody>\n",
       "</table>\n",
       "</div>"
      ],
      "text/plain": [
       "     name               id  chr     band  start_position  end_position  \\\n",
       "0  FBXO34  ENSG00000178974   14  14q22.3        55271421      55361918   \n",
       "1    ARG1  ENSG00000118520    6   6q23.2       131573144     131584332   \n",
       "2   FADS2  ENSG00000134824   11  11q12.2        61792980      61867354   \n",
       "3     CA4  ENSG00000167434   17  17q23.1        60149942      60170899   \n",
       "4  PFKFB3  ENSG00000170525   10  10p15.1         6144934       6254644   \n",
       "\n",
       "   gene_length  \n",
       "0        90497  \n",
       "1        11188  \n",
       "2        74374  \n",
       "3        20957  \n",
       "4       109710  "
      ]
     },
     "execution_count": 20,
     "metadata": {},
     "output_type": "execute_result"
    }
   ],
   "source": [
    "genes_info.head()"
   ]
  },
  {
   "cell_type": "code",
   "execution_count": 21,
   "id": "c6f52a23-0e0c-4def-8ebe-714793743f4e",
   "metadata": {
    "execution": {
     "iopub.execute_input": "2022-08-29T14:29:13.519856Z",
     "iopub.status.busy": "2022-08-29T14:29:13.519577Z",
     "iopub.status.idle": "2022-08-29T14:29:13.543420Z",
     "shell.execute_reply": "2022-08-29T14:29:13.542798Z"
    },
    "papermill": {
     "duration": 0.040912,
     "end_time": "2022-08-29T14:29:13.545447",
     "exception": false,
     "start_time": "2022-08-29T14:29:13.504535",
     "status": "completed"
    },
    "tags": []
   },
   "outputs": [],
   "source": [
    "# keep genes in correlation matrices only\n",
    "genes_info = genes_info[genes_info[\"id\"].isin(gene_ids)]"
   ]
  },
  {
   "cell_type": "code",
   "execution_count": 22,
   "id": "19cde9f2-0cad-4b4e-a409-0cff052cc77c",
   "metadata": {
    "execution": {
     "iopub.execute_input": "2022-08-29T14:29:13.575669Z",
     "iopub.status.busy": "2022-08-29T14:29:13.575391Z",
     "iopub.status.idle": "2022-08-29T14:29:13.598204Z",
     "shell.execute_reply": "2022-08-29T14:29:13.597581Z"
    },
    "papermill": {
     "duration": 0.040558,
     "end_time": "2022-08-29T14:29:13.600055",
     "exception": false,
     "start_time": "2022-08-29T14:29:13.559497",
     "status": "completed"
    },
    "tags": []
   },
   "outputs": [
    {
     "data": {
      "text/plain": [
       "(6450, 7)"
      ]
     },
     "execution_count": 22,
     "metadata": {},
     "output_type": "execute_result"
    }
   ],
   "source": [
    "genes_info.shape"
   ]
  },
  {
   "cell_type": "code",
   "execution_count": 23,
   "id": "f9e52a95-4c6e-4ce6-ae1d-df635d5dbe47",
   "metadata": {
    "execution": {
     "iopub.execute_input": "2022-08-29T14:29:13.629508Z",
     "iopub.status.busy": "2022-08-29T14:29:13.629232Z",
     "iopub.status.idle": "2022-08-29T14:29:13.651527Z",
     "shell.execute_reply": "2022-08-29T14:29:13.650875Z"
    },
    "papermill": {
     "duration": 0.039318,
     "end_time": "2022-08-29T14:29:13.653586",
     "exception": false,
     "start_time": "2022-08-29T14:29:13.614268",
     "status": "completed"
    },
    "tags": []
   },
   "outputs": [],
   "source": [
    "assert not genes_info.isna().any(None)"
   ]
  },
  {
   "cell_type": "code",
   "execution_count": 24,
   "id": "90028a9b-781e-46c7-97b8-9e1676e682d4",
   "metadata": {
    "execution": {
     "iopub.execute_input": "2022-08-29T14:29:13.683933Z",
     "iopub.status.busy": "2022-08-29T14:29:13.683635Z",
     "iopub.status.idle": "2022-08-29T14:29:13.707487Z",
     "shell.execute_reply": "2022-08-29T14:29:13.706839Z"
    },
    "papermill": {
     "duration": 0.041258,
     "end_time": "2022-08-29T14:29:13.709340",
     "exception": false,
     "start_time": "2022-08-29T14:29:13.668082",
     "status": "completed"
    },
    "tags": []
   },
   "outputs": [
    {
     "data": {
      "text/plain": [
       "name              object\n",
       "id                object\n",
       "chr                int64\n",
       "band              object\n",
       "start_position     int64\n",
       "end_position       int64\n",
       "gene_length        int64\n",
       "dtype: object"
      ]
     },
     "execution_count": 24,
     "metadata": {},
     "output_type": "execute_result"
    }
   ],
   "source": [
    "genes_info.dtypes"
   ]
  },
  {
   "cell_type": "code",
   "execution_count": 25,
   "id": "adb6d5ce-d010-41f8-bb63-7b5f66bf2c51",
   "metadata": {
    "execution": {
     "iopub.execute_input": "2022-08-29T14:29:13.740025Z",
     "iopub.status.busy": "2022-08-29T14:29:13.739720Z",
     "iopub.status.idle": "2022-08-29T14:29:13.768078Z",
     "shell.execute_reply": "2022-08-29T14:29:13.767445Z"
    },
    "papermill": {
     "duration": 0.046605,
     "end_time": "2022-08-29T14:29:13.769909",
     "exception": false,
     "start_time": "2022-08-29T14:29:13.723304",
     "status": "completed"
    },
    "tags": []
   },
   "outputs": [
    {
     "data": {
      "text/html": [
       "<div>\n",
       "<style scoped>\n",
       "    .dataframe tbody tr th:only-of-type {\n",
       "        vertical-align: middle;\n",
       "    }\n",
       "\n",
       "    .dataframe tbody tr th {\n",
       "        vertical-align: top;\n",
       "    }\n",
       "\n",
       "    .dataframe thead th {\n",
       "        text-align: right;\n",
       "    }\n",
       "</style>\n",
       "<table border=\"1\" class=\"dataframe\">\n",
       "  <thead>\n",
       "    <tr style=\"text-align: right;\">\n",
       "      <th></th>\n",
       "      <th>name</th>\n",
       "      <th>id</th>\n",
       "      <th>chr</th>\n",
       "      <th>band</th>\n",
       "      <th>start_position</th>\n",
       "      <th>end_position</th>\n",
       "      <th>gene_length</th>\n",
       "    </tr>\n",
       "  </thead>\n",
       "  <tbody>\n",
       "    <tr>\n",
       "      <th>0</th>\n",
       "      <td>FBXO34</td>\n",
       "      <td>ENSG00000178974</td>\n",
       "      <td>14</td>\n",
       "      <td>14q22.3</td>\n",
       "      <td>55271421</td>\n",
       "      <td>55361918</td>\n",
       "      <td>90497</td>\n",
       "    </tr>\n",
       "    <tr>\n",
       "      <th>1</th>\n",
       "      <td>ARG1</td>\n",
       "      <td>ENSG00000118520</td>\n",
       "      <td>6</td>\n",
       "      <td>6q23.2</td>\n",
       "      <td>131573144</td>\n",
       "      <td>131584332</td>\n",
       "      <td>11188</td>\n",
       "    </tr>\n",
       "    <tr>\n",
       "      <th>2</th>\n",
       "      <td>FADS2</td>\n",
       "      <td>ENSG00000134824</td>\n",
       "      <td>11</td>\n",
       "      <td>11q12.2</td>\n",
       "      <td>61792980</td>\n",
       "      <td>61867354</td>\n",
       "      <td>74374</td>\n",
       "    </tr>\n",
       "    <tr>\n",
       "      <th>3</th>\n",
       "      <td>CA4</td>\n",
       "      <td>ENSG00000167434</td>\n",
       "      <td>17</td>\n",
       "      <td>17q23.1</td>\n",
       "      <td>60149942</td>\n",
       "      <td>60170899</td>\n",
       "      <td>20957</td>\n",
       "    </tr>\n",
       "    <tr>\n",
       "      <th>4</th>\n",
       "      <td>PFKFB3</td>\n",
       "      <td>ENSG00000170525</td>\n",
       "      <td>10</td>\n",
       "      <td>10p15.1</td>\n",
       "      <td>6144934</td>\n",
       "      <td>6254644</td>\n",
       "      <td>109710</td>\n",
       "    </tr>\n",
       "  </tbody>\n",
       "</table>\n",
       "</div>"
      ],
      "text/plain": [
       "     name               id  chr     band  start_position  end_position  \\\n",
       "0  FBXO34  ENSG00000178974   14  14q22.3        55271421      55361918   \n",
       "1    ARG1  ENSG00000118520    6   6q23.2       131573144     131584332   \n",
       "2   FADS2  ENSG00000134824   11  11q12.2        61792980      61867354   \n",
       "3     CA4  ENSG00000167434   17  17q23.1        60149942      60170899   \n",
       "4  PFKFB3  ENSG00000170525   10  10p15.1         6144934       6254644   \n",
       "\n",
       "   gene_length  \n",
       "0        90497  \n",
       "1        11188  \n",
       "2        74374  \n",
       "3        20957  \n",
       "4       109710  "
      ]
     },
     "execution_count": 25,
     "metadata": {},
     "output_type": "execute_result"
    }
   ],
   "source": [
    "genes_info.head()"
   ]
  },
  {
   "cell_type": "markdown",
   "id": "0bc01310-5d9c-4355-8064-b67c5a22311c",
   "metadata": {
    "papermill": {
     "duration": 0.014464,
     "end_time": "2022-08-29T14:29:13.798627",
     "exception": false,
     "start_time": "2022-08-29T14:29:13.784163",
     "status": "completed"
    },
    "tags": []
   },
   "source": [
    "# Create full correlation matrix"
   ]
  },
  {
   "cell_type": "code",
   "execution_count": 26,
   "id": "fad655cb-e830-496d-8ae1-bd9088623515",
   "metadata": {
    "execution": {
     "iopub.execute_input": "2022-08-29T14:29:13.829482Z",
     "iopub.status.busy": "2022-08-29T14:29:13.829199Z",
     "iopub.status.idle": "2022-08-29T14:29:13.855684Z",
     "shell.execute_reply": "2022-08-29T14:29:13.855036Z"
    },
    "papermill": {
     "duration": 0.044521,
     "end_time": "2022-08-29T14:29:13.857732",
     "exception": false,
     "start_time": "2022-08-29T14:29:13.813211",
     "status": "completed"
    },
    "tags": []
   },
   "outputs": [],
   "source": [
    "genes_info = genes_info.sort_values([\"chr\", \"start_position\"])"
   ]
  },
  {
   "cell_type": "code",
   "execution_count": 27,
   "id": "3d93727c-e045-434b-99ec-2bfc661003f4",
   "metadata": {
    "execution": {
     "iopub.execute_input": "2022-08-29T14:29:13.888697Z",
     "iopub.status.busy": "2022-08-29T14:29:13.888401Z",
     "iopub.status.idle": "2022-08-29T14:29:13.920024Z",
     "shell.execute_reply": "2022-08-29T14:29:13.919387Z"
    },
    "papermill": {
     "duration": 0.049268,
     "end_time": "2022-08-29T14:29:13.921758",
     "exception": false,
     "start_time": "2022-08-29T14:29:13.872490",
     "status": "completed"
    },
    "tags": []
   },
   "outputs": [
    {
     "data": {
      "text/html": [
       "<div>\n",
       "<style scoped>\n",
       "    .dataframe tbody tr th:only-of-type {\n",
       "        vertical-align: middle;\n",
       "    }\n",
       "\n",
       "    .dataframe tbody tr th {\n",
       "        vertical-align: top;\n",
       "    }\n",
       "\n",
       "    .dataframe thead th {\n",
       "        text-align: right;\n",
       "    }\n",
       "</style>\n",
       "<table border=\"1\" class=\"dataframe\">\n",
       "  <thead>\n",
       "    <tr style=\"text-align: right;\">\n",
       "      <th></th>\n",
       "      <th>name</th>\n",
       "      <th>id</th>\n",
       "      <th>chr</th>\n",
       "      <th>band</th>\n",
       "      <th>start_position</th>\n",
       "      <th>end_position</th>\n",
       "      <th>gene_length</th>\n",
       "    </tr>\n",
       "  </thead>\n",
       "  <tbody>\n",
       "    <tr>\n",
       "      <th>2028</th>\n",
       "      <td>NOC2L</td>\n",
       "      <td>ENSG00000188976</td>\n",
       "      <td>1</td>\n",
       "      <td>1p36.33</td>\n",
       "      <td>944203</td>\n",
       "      <td>959309</td>\n",
       "      <td>15106</td>\n",
       "    </tr>\n",
       "    <tr>\n",
       "      <th>5986</th>\n",
       "      <td>HES4</td>\n",
       "      <td>ENSG00000188290</td>\n",
       "      <td>1</td>\n",
       "      <td>1p36.33</td>\n",
       "      <td>998962</td>\n",
       "      <td>1000172</td>\n",
       "      <td>1210</td>\n",
       "    </tr>\n",
       "    <tr>\n",
       "      <th>2308</th>\n",
       "      <td>ISG15</td>\n",
       "      <td>ENSG00000187608</td>\n",
       "      <td>1</td>\n",
       "      <td>1p36.33</td>\n",
       "      <td>1001138</td>\n",
       "      <td>1014540</td>\n",
       "      <td>13402</td>\n",
       "    </tr>\n",
       "    <tr>\n",
       "      <th>6149</th>\n",
       "      <td>AGRN</td>\n",
       "      <td>ENSG00000188157</td>\n",
       "      <td>1</td>\n",
       "      <td>1p36.33</td>\n",
       "      <td>1020120</td>\n",
       "      <td>1056118</td>\n",
       "      <td>35998</td>\n",
       "    </tr>\n",
       "    <tr>\n",
       "      <th>5093</th>\n",
       "      <td>TNFRSF18</td>\n",
       "      <td>ENSG00000186891</td>\n",
       "      <td>1</td>\n",
       "      <td>1p36.33</td>\n",
       "      <td>1203508</td>\n",
       "      <td>1206592</td>\n",
       "      <td>3084</td>\n",
       "    </tr>\n",
       "    <tr>\n",
       "      <th>...</th>\n",
       "      <td>...</td>\n",
       "      <td>...</td>\n",
       "      <td>...</td>\n",
       "      <td>...</td>\n",
       "      <td>...</td>\n",
       "      <td>...</td>\n",
       "      <td>...</td>\n",
       "    </tr>\n",
       "    <tr>\n",
       "      <th>3409</th>\n",
       "      <td>CPT1B</td>\n",
       "      <td>ENSG00000205560</td>\n",
       "      <td>22</td>\n",
       "      <td>22q13.33</td>\n",
       "      <td>50568861</td>\n",
       "      <td>50578465</td>\n",
       "      <td>9604</td>\n",
       "    </tr>\n",
       "    <tr>\n",
       "      <th>5623</th>\n",
       "      <td>CHKB</td>\n",
       "      <td>ENSG00000100288</td>\n",
       "      <td>22</td>\n",
       "      <td>22q13.33</td>\n",
       "      <td>50578949</td>\n",
       "      <td>50601455</td>\n",
       "      <td>22506</td>\n",
       "    </tr>\n",
       "    <tr>\n",
       "      <th>5972</th>\n",
       "      <td>MAPK8IP2</td>\n",
       "      <td>ENSG00000008735</td>\n",
       "      <td>22</td>\n",
       "      <td>22q13.33</td>\n",
       "      <td>50600793</td>\n",
       "      <td>50613981</td>\n",
       "      <td>13188</td>\n",
       "    </tr>\n",
       "    <tr>\n",
       "      <th>151</th>\n",
       "      <td>ARSA</td>\n",
       "      <td>ENSG00000100299</td>\n",
       "      <td>22</td>\n",
       "      <td>22q13.33</td>\n",
       "      <td>50622754</td>\n",
       "      <td>50628173</td>\n",
       "      <td>5419</td>\n",
       "    </tr>\n",
       "    <tr>\n",
       "      <th>6028</th>\n",
       "      <td>SHANK3</td>\n",
       "      <td>ENSG00000251322</td>\n",
       "      <td>22</td>\n",
       "      <td>22q13.33</td>\n",
       "      <td>50674415</td>\n",
       "      <td>50733298</td>\n",
       "      <td>58883</td>\n",
       "    </tr>\n",
       "  </tbody>\n",
       "</table>\n",
       "<p>6450 rows × 7 columns</p>\n",
       "</div>"
      ],
      "text/plain": [
       "          name               id  chr      band  start_position  end_position  \\\n",
       "2028     NOC2L  ENSG00000188976    1   1p36.33          944203        959309   \n",
       "5986      HES4  ENSG00000188290    1   1p36.33          998962       1000172   \n",
       "2308     ISG15  ENSG00000187608    1   1p36.33         1001138       1014540   \n",
       "6149      AGRN  ENSG00000188157    1   1p36.33         1020120       1056118   \n",
       "5093  TNFRSF18  ENSG00000186891    1   1p36.33         1203508       1206592   \n",
       "...        ...              ...  ...       ...             ...           ...   \n",
       "3409     CPT1B  ENSG00000205560   22  22q13.33        50568861      50578465   \n",
       "5623      CHKB  ENSG00000100288   22  22q13.33        50578949      50601455   \n",
       "5972  MAPK8IP2  ENSG00000008735   22  22q13.33        50600793      50613981   \n",
       "151       ARSA  ENSG00000100299   22  22q13.33        50622754      50628173   \n",
       "6028    SHANK3  ENSG00000251322   22  22q13.33        50674415      50733298   \n",
       "\n",
       "      gene_length  \n",
       "2028        15106  \n",
       "5986         1210  \n",
       "2308        13402  \n",
       "6149        35998  \n",
       "5093         3084  \n",
       "...           ...  \n",
       "3409         9604  \n",
       "5623        22506  \n",
       "5972        13188  \n",
       "151          5419  \n",
       "6028        58883  \n",
       "\n",
       "[6450 rows x 7 columns]"
      ]
     },
     "execution_count": 27,
     "metadata": {},
     "output_type": "execute_result"
    }
   ],
   "source": [
    "genes_info"
   ]
  },
  {
   "cell_type": "code",
   "execution_count": 28,
   "id": "1277c7cb-6850-476f-932e-0d166362392c",
   "metadata": {
    "execution": {
     "iopub.execute_input": "2022-08-29T14:29:13.952642Z",
     "iopub.status.busy": "2022-08-29T14:29:13.952357Z",
     "iopub.status.idle": "2022-08-29T14:29:13.976461Z",
     "shell.execute_reply": "2022-08-29T14:29:13.975843Z"
    },
    "papermill": {
     "duration": 0.042304,
     "end_time": "2022-08-29T14:29:13.978491",
     "exception": false,
     "start_time": "2022-08-29T14:29:13.936187",
     "status": "completed"
    },
    "tags": []
   },
   "outputs": [],
   "source": [
    "full_corr_matrix = pd.DataFrame(\n",
    "    np.zeros((genes_info.shape[0], genes_info.shape[0])),\n",
    "    index=genes_info[\"id\"].tolist(),\n",
    "    columns=genes_info[\"id\"].tolist(),\n",
    ")"
   ]
  },
  {
   "cell_type": "code",
   "execution_count": 29,
   "id": "5aa375f4-775a-4dab-80c9-a68a52c69adc",
   "metadata": {
    "execution": {
     "iopub.execute_input": "2022-08-29T14:29:14.010475Z",
     "iopub.status.busy": "2022-08-29T14:29:14.010199Z",
     "iopub.status.idle": "2022-08-29T14:29:14.032706Z",
     "shell.execute_reply": "2022-08-29T14:29:14.032082Z"
    },
    "papermill": {
     "duration": 0.041359,
     "end_time": "2022-08-29T14:29:14.034841",
     "exception": false,
     "start_time": "2022-08-29T14:29:13.993482",
     "status": "completed"
    },
    "tags": []
   },
   "outputs": [],
   "source": [
    "assert full_corr_matrix.index.is_unique & full_corr_matrix.columns.is_unique"
   ]
  },
  {
   "cell_type": "code",
   "execution_count": 30,
   "id": "0afc4716-f607-4634-8a02-5f116fd2c318",
   "metadata": {
    "execution": {
     "iopub.execute_input": "2022-08-29T14:29:14.065955Z",
     "iopub.status.busy": "2022-08-29T14:29:14.065664Z",
     "iopub.status.idle": "2022-08-29T14:29:15.637896Z",
     "shell.execute_reply": "2022-08-29T14:29:15.637260Z"
    },
    "papermill": {
     "duration": 1.590042,
     "end_time": "2022-08-29T14:29:15.639708",
     "exception": false,
     "start_time": "2022-08-29T14:29:14.049666",
     "status": "completed"
    },
    "tags": []
   },
   "outputs": [
    {
     "name": "stdout",
     "output_type": "stream",
     "text": [
      "gene_corrs-chr1.pkl... "
     ]
    },
    {
     "data": {
      "text/plain": [
       "'Number of negative eigenvalues: 0'"
      ]
     },
     "metadata": {},
     "output_type": "display_data"
    },
    {
     "data": {
      "text/plain": [
       "'Negative eigenvalues:\\n[]'"
      ]
     },
     "metadata": {},
     "output_type": "display_data"
    },
    {
     "name": "stdout",
     "output_type": "stream",
     "text": [
      "Works! (statsmodels.GLS)\n",
      "Works!\n",
      "all good.\n",
      "\n",
      "\n",
      "gene_corrs-chr2.pkl... "
     ]
    },
    {
     "data": {
      "text/plain": [
       "'Number of negative eigenvalues: 0'"
      ]
     },
     "metadata": {},
     "output_type": "display_data"
    },
    {
     "data": {
      "text/plain": [
       "'Negative eigenvalues:\\n[]'"
      ]
     },
     "metadata": {},
     "output_type": "display_data"
    },
    {
     "name": "stdout",
     "output_type": "stream",
     "text": [
      "Works! (statsmodels.GLS)\n",
      "Works!\n",
      "all good.\n",
      "\n",
      "\n",
      "gene_corrs-chr3.pkl... "
     ]
    },
    {
     "data": {
      "text/plain": [
       "'Number of negative eigenvalues: 0'"
      ]
     },
     "metadata": {},
     "output_type": "display_data"
    },
    {
     "data": {
      "text/plain": [
       "'Negative eigenvalues:\\n[]'"
      ]
     },
     "metadata": {},
     "output_type": "display_data"
    },
    {
     "name": "stdout",
     "output_type": "stream",
     "text": [
      "Works! (statsmodels.GLS)\n",
      "Works!\n",
      "all good.\n",
      "\n",
      "\n",
      "gene_corrs-chr4.pkl... "
     ]
    },
    {
     "data": {
      "text/plain": [
       "'Number of negative eigenvalues: 0'"
      ]
     },
     "metadata": {},
     "output_type": "display_data"
    },
    {
     "data": {
      "text/plain": [
       "'Negative eigenvalues:\\n[]'"
      ]
     },
     "metadata": {},
     "output_type": "display_data"
    },
    {
     "name": "stdout",
     "output_type": "stream",
     "text": [
      "Works! (statsmodels.GLS)\n",
      "Works!\n",
      "all good.\n",
      "\n",
      "\n",
      "gene_corrs-chr5.pkl... "
     ]
    },
    {
     "data": {
      "text/plain": [
       "'Number of negative eigenvalues: 0'"
      ]
     },
     "metadata": {},
     "output_type": "display_data"
    },
    {
     "data": {
      "text/plain": [
       "'Negative eigenvalues:\\n[]'"
      ]
     },
     "metadata": {},
     "output_type": "display_data"
    },
    {
     "name": "stdout",
     "output_type": "stream",
     "text": [
      "Works! (statsmodels.GLS)\n",
      "Works!\n",
      "all good.\n",
      "\n",
      "\n",
      "gene_corrs-chr6.pkl... "
     ]
    },
    {
     "data": {
      "text/plain": [
       "'Number of negative eigenvalues: 0'"
      ]
     },
     "metadata": {},
     "output_type": "display_data"
    },
    {
     "data": {
      "text/plain": [
       "'Negative eigenvalues:\\n[]'"
      ]
     },
     "metadata": {},
     "output_type": "display_data"
    },
    {
     "name": "stdout",
     "output_type": "stream",
     "text": [
      "Works! (statsmodels.GLS)\n",
      "Works!\n",
      "all good.\n",
      "\n",
      "\n",
      "gene_corrs-chr7.pkl... "
     ]
    },
    {
     "data": {
      "text/plain": [
       "'Number of negative eigenvalues: 0'"
      ]
     },
     "metadata": {},
     "output_type": "display_data"
    },
    {
     "data": {
      "text/plain": [
       "'Negative eigenvalues:\\n[]'"
      ]
     },
     "metadata": {},
     "output_type": "display_data"
    },
    {
     "name": "stdout",
     "output_type": "stream",
     "text": [
      "Works! (statsmodels.GLS)\n",
      "Works!\n",
      "all good.\n",
      "\n",
      "\n",
      "gene_corrs-chr8.pkl... "
     ]
    },
    {
     "data": {
      "text/plain": [
       "'Number of negative eigenvalues: 0'"
      ]
     },
     "metadata": {},
     "output_type": "display_data"
    },
    {
     "data": {
      "text/plain": [
       "'Negative eigenvalues:\\n[]'"
      ]
     },
     "metadata": {},
     "output_type": "display_data"
    },
    {
     "name": "stdout",
     "output_type": "stream",
     "text": [
      "Works! (statsmodels.GLS)\n",
      "Works!\n",
      "all good.\n",
      "\n",
      "\n",
      "gene_corrs-chr9.pkl... "
     ]
    },
    {
     "data": {
      "text/plain": [
       "'Number of negative eigenvalues: 0'"
      ]
     },
     "metadata": {},
     "output_type": "display_data"
    },
    {
     "data": {
      "text/plain": [
       "'Negative eigenvalues:\\n[]'"
      ]
     },
     "metadata": {},
     "output_type": "display_data"
    },
    {
     "name": "stdout",
     "output_type": "stream",
     "text": [
      "Works! (statsmodels.GLS)\n",
      "Works!\n",
      "all good.\n",
      "\n",
      "\n",
      "gene_corrs-chr10.pkl... "
     ]
    },
    {
     "data": {
      "text/plain": [
       "'Number of negative eigenvalues: 0'"
      ]
     },
     "metadata": {},
     "output_type": "display_data"
    },
    {
     "data": {
      "text/plain": [
       "'Negative eigenvalues:\\n[]'"
      ]
     },
     "metadata": {},
     "output_type": "display_data"
    },
    {
     "name": "stdout",
     "output_type": "stream",
     "text": [
      "Works! (statsmodels.GLS)\n",
      "Works!\n",
      "all good.\n",
      "\n",
      "\n",
      "gene_corrs-chr11.pkl... "
     ]
    },
    {
     "data": {
      "text/plain": [
       "'Number of negative eigenvalues: 0'"
      ]
     },
     "metadata": {},
     "output_type": "display_data"
    },
    {
     "data": {
      "text/plain": [
       "'Negative eigenvalues:\\n[]'"
      ]
     },
     "metadata": {},
     "output_type": "display_data"
    },
    {
     "name": "stdout",
     "output_type": "stream",
     "text": [
      "Works! (statsmodels.GLS)\n",
      "Works!\n",
      "all good.\n",
      "\n",
      "\n",
      "gene_corrs-chr12.pkl... "
     ]
    },
    {
     "data": {
      "text/plain": [
       "'Number of negative eigenvalues: 0'"
      ]
     },
     "metadata": {},
     "output_type": "display_data"
    },
    {
     "data": {
      "text/plain": [
       "'Negative eigenvalues:\\n[]'"
      ]
     },
     "metadata": {},
     "output_type": "display_data"
    },
    {
     "name": "stdout",
     "output_type": "stream",
     "text": [
      "Works! (statsmodels.GLS)\n",
      "Works!\n",
      "all good.\n",
      "\n",
      "\n",
      "gene_corrs-chr13.pkl... "
     ]
    },
    {
     "data": {
      "text/plain": [
       "'Number of negative eigenvalues: 0'"
      ]
     },
     "metadata": {},
     "output_type": "display_data"
    },
    {
     "data": {
      "text/plain": [
       "'Negative eigenvalues:\\n[]'"
      ]
     },
     "metadata": {},
     "output_type": "display_data"
    },
    {
     "name": "stdout",
     "output_type": "stream",
     "text": [
      "Works! (statsmodels.GLS)\n",
      "Works!\n",
      "all good.\n",
      "\n",
      "\n",
      "gene_corrs-chr14.pkl... "
     ]
    },
    {
     "data": {
      "text/plain": [
       "'Number of negative eigenvalues: 0'"
      ]
     },
     "metadata": {},
     "output_type": "display_data"
    },
    {
     "data": {
      "text/plain": [
       "'Negative eigenvalues:\\n[]'"
      ]
     },
     "metadata": {},
     "output_type": "display_data"
    },
    {
     "name": "stdout",
     "output_type": "stream",
     "text": [
      "Works! (statsmodels.GLS)\n",
      "Works!\n",
      "all good.\n",
      "\n",
      "\n",
      "gene_corrs-chr15.pkl... "
     ]
    },
    {
     "data": {
      "text/plain": [
       "'Number of negative eigenvalues: 0'"
      ]
     },
     "metadata": {},
     "output_type": "display_data"
    },
    {
     "data": {
      "text/plain": [
       "'Negative eigenvalues:\\n[]'"
      ]
     },
     "metadata": {},
     "output_type": "display_data"
    },
    {
     "name": "stdout",
     "output_type": "stream",
     "text": [
      "Works! (statsmodels.GLS)\n",
      "Works!\n",
      "all good.\n",
      "\n",
      "\n",
      "gene_corrs-chr16.pkl... "
     ]
    },
    {
     "data": {
      "text/plain": [
       "'Number of negative eigenvalues: 0'"
      ]
     },
     "metadata": {},
     "output_type": "display_data"
    },
    {
     "data": {
      "text/plain": [
       "'Negative eigenvalues:\\n[]'"
      ]
     },
     "metadata": {},
     "output_type": "display_data"
    },
    {
     "name": "stdout",
     "output_type": "stream",
     "text": [
      "Works! (statsmodels.GLS)\n",
      "Works!\n",
      "all good.\n",
      "\n",
      "\n",
      "gene_corrs-chr17.pkl... "
     ]
    },
    {
     "data": {
      "text/plain": [
       "'Number of negative eigenvalues: 0'"
      ]
     },
     "metadata": {},
     "output_type": "display_data"
    },
    {
     "data": {
      "text/plain": [
       "'Negative eigenvalues:\\n[]'"
      ]
     },
     "metadata": {},
     "output_type": "display_data"
    },
    {
     "name": "stdout",
     "output_type": "stream",
     "text": [
      "Works! (statsmodels.GLS)\n",
      "Works!\n",
      "all good.\n",
      "\n",
      "\n",
      "gene_corrs-chr18.pkl... "
     ]
    },
    {
     "data": {
      "text/plain": [
       "'Number of negative eigenvalues: 0'"
      ]
     },
     "metadata": {},
     "output_type": "display_data"
    },
    {
     "data": {
      "text/plain": [
       "'Negative eigenvalues:\\n[]'"
      ]
     },
     "metadata": {},
     "output_type": "display_data"
    },
    {
     "name": "stdout",
     "output_type": "stream",
     "text": [
      "Works! (statsmodels.GLS)\n",
      "Works!\n",
      "all good.\n",
      "\n",
      "\n",
      "gene_corrs-chr19.pkl... "
     ]
    },
    {
     "data": {
      "text/plain": [
       "'Number of negative eigenvalues: 0'"
      ]
     },
     "metadata": {},
     "output_type": "display_data"
    },
    {
     "data": {
      "text/plain": [
       "'Negative eigenvalues:\\n[]'"
      ]
     },
     "metadata": {},
     "output_type": "display_data"
    },
    {
     "name": "stdout",
     "output_type": "stream",
     "text": [
      "Works! (statsmodels.GLS)\n",
      "Works!\n",
      "all good.\n",
      "\n",
      "\n",
      "gene_corrs-chr20.pkl... "
     ]
    },
    {
     "data": {
      "text/plain": [
       "'Number of negative eigenvalues: 0'"
      ]
     },
     "metadata": {},
     "output_type": "display_data"
    },
    {
     "data": {
      "text/plain": [
       "'Negative eigenvalues:\\n[]'"
      ]
     },
     "metadata": {},
     "output_type": "display_data"
    },
    {
     "name": "stdout",
     "output_type": "stream",
     "text": [
      "Works! (statsmodels.GLS)\n",
      "Works!\n",
      "all good.\n",
      "\n",
      "\n",
      "gene_corrs-chr21.pkl... "
     ]
    },
    {
     "data": {
      "text/plain": [
       "'Number of negative eigenvalues: 0'"
      ]
     },
     "metadata": {},
     "output_type": "display_data"
    },
    {
     "data": {
      "text/plain": [
       "'Negative eigenvalues:\\n[]'"
      ]
     },
     "metadata": {},
     "output_type": "display_data"
    },
    {
     "name": "stdout",
     "output_type": "stream",
     "text": [
      "Works! (statsmodels.GLS)\n",
      "Works!\n",
      "all good.\n",
      "\n",
      "\n",
      "gene_corrs-chr22.pkl... "
     ]
    },
    {
     "data": {
      "text/plain": [
       "'Number of negative eigenvalues: 0'"
      ]
     },
     "metadata": {},
     "output_type": "display_data"
    },
    {
     "data": {
      "text/plain": [
       "'Negative eigenvalues:\\n[]'"
      ]
     },
     "metadata": {},
     "output_type": "display_data"
    },
    {
     "name": "stdout",
     "output_type": "stream",
     "text": [
      "Works! (statsmodels.GLS)\n",
      "Works!\n",
      "all good.\n",
      "\n",
      "\n"
     ]
    }
   ],
   "source": [
    "for chr_corr_file in all_gene_corr_files:\n",
    "    print(chr_corr_file.name, flush=True, end=\"... \")\n",
    "\n",
    "    # get correlation matrix for this chromosome\n",
    "    corr_data = pd.read_pickle(chr_corr_file)\n",
    "\n",
    "    # save gene correlation matrix\n",
    "    full_corr_matrix.loc[corr_data.index, corr_data.columns] = corr_data\n",
    "\n",
    "    # save inverse of Cholesky decomposition of gene correlation matrix\n",
    "    # first, adjust correlation matrix if it is not positive definite\n",
    "    is_pos_def = check_pos_def(corr_data)\n",
    "\n",
    "    if is_pos_def:\n",
    "        print(\"all good.\", flush=True, end=\"\\n\")\n",
    "    else:\n",
    "        print(\"not positive definite, fixing... \", flush=True, end=\"\")\n",
    "        corr_data_adjusted = adjust_non_pos_def(corr_data)\n",
    "\n",
    "        is_pos_def = check_pos_def(corr_data_adjusted)\n",
    "        assert is_pos_def, \"Could not adjust gene correlation matrix\"\n",
    "\n",
    "        print(\"fixed! comparing...\", flush=True, end=\"\\n\")\n",
    "        compare_matrices(corr_data, corr_data_adjusted)\n",
    "\n",
    "        corr_data = corr_data_adjusted\n",
    "\n",
    "        # save\n",
    "        full_corr_matrix.loc[corr_data.index, corr_data.columns] = corr_data\n",
    "\n",
    "    print(\"\\n\")"
   ]
  },
  {
   "cell_type": "code",
   "execution_count": 31,
   "id": "a6be3bf7-d1c1-4f90-b074-a6e74d9285a5",
   "metadata": {
    "execution": {
     "iopub.execute_input": "2022-08-29T14:29:15.682473Z",
     "iopub.status.busy": "2022-08-29T14:29:15.682184Z",
     "iopub.status.idle": "2022-08-29T14:29:15.705897Z",
     "shell.execute_reply": "2022-08-29T14:29:15.705256Z"
    },
    "papermill": {
     "duration": 0.047334,
     "end_time": "2022-08-29T14:29:15.707759",
     "exception": false,
     "start_time": "2022-08-29T14:29:15.660425",
     "status": "completed"
    },
    "tags": []
   },
   "outputs": [
    {
     "data": {
      "text/plain": [
       "(6450, 6450)"
      ]
     },
     "execution_count": 31,
     "metadata": {},
     "output_type": "execute_result"
    }
   ],
   "source": [
    "full_corr_matrix.shape"
   ]
  },
  {
   "cell_type": "code",
   "execution_count": 32,
   "id": "aac21a65-87b3-4b87-b17a-cbe3692c88a9",
   "metadata": {
    "execution": {
     "iopub.execute_input": "2022-08-29T14:29:15.750724Z",
     "iopub.status.busy": "2022-08-29T14:29:15.750450Z",
     "iopub.status.idle": "2022-08-29T14:29:15.790174Z",
     "shell.execute_reply": "2022-08-29T14:29:15.789526Z"
    },
    "papermill": {
     "duration": 0.064059,
     "end_time": "2022-08-29T14:29:15.792032",
     "exception": false,
     "start_time": "2022-08-29T14:29:15.727973",
     "status": "completed"
    },
    "tags": []
   },
   "outputs": [
    {
     "data": {
      "text/html": [
       "<div>\n",
       "<style scoped>\n",
       "    .dataframe tbody tr th:only-of-type {\n",
       "        vertical-align: middle;\n",
       "    }\n",
       "\n",
       "    .dataframe tbody tr th {\n",
       "        vertical-align: top;\n",
       "    }\n",
       "\n",
       "    .dataframe thead th {\n",
       "        text-align: right;\n",
       "    }\n",
       "</style>\n",
       "<table border=\"1\" class=\"dataframe\">\n",
       "  <thead>\n",
       "    <tr style=\"text-align: right;\">\n",
       "      <th></th>\n",
       "      <th>ENSG00000188976</th>\n",
       "      <th>ENSG00000188290</th>\n",
       "      <th>ENSG00000187608</th>\n",
       "      <th>ENSG00000188157</th>\n",
       "      <th>ENSG00000186891</th>\n",
       "      <th>ENSG00000186827</th>\n",
       "      <th>ENSG00000176022</th>\n",
       "      <th>ENSG00000160087</th>\n",
       "      <th>ENSG00000131584</th>\n",
       "      <th>ENSG00000169962</th>\n",
       "      <th>...</th>\n",
       "      <th>ENSG00000196576</th>\n",
       "      <th>ENSG00000128165</th>\n",
       "      <th>ENSG00000100253</th>\n",
       "      <th>ENSG00000130489</th>\n",
       "      <th>ENSG00000025708</th>\n",
       "      <th>ENSG00000205560</th>\n",
       "      <th>ENSG00000100288</th>\n",
       "      <th>ENSG00000008735</th>\n",
       "      <th>ENSG00000100299</th>\n",
       "      <th>ENSG00000251322</th>\n",
       "    </tr>\n",
       "  </thead>\n",
       "  <tbody>\n",
       "    <tr>\n",
       "      <th>ENSG00000188976</th>\n",
       "      <td>1.000000</td>\n",
       "      <td>0.111648</td>\n",
       "      <td>0.187064</td>\n",
       "      <td>0.083062</td>\n",
       "      <td>0.006659</td>\n",
       "      <td>0.006887</td>\n",
       "      <td>0.004603</td>\n",
       "      <td>0.011059</td>\n",
       "      <td>0.011335</td>\n",
       "      <td>0.007667</td>\n",
       "      <td>...</td>\n",
       "      <td>0.0</td>\n",
       "      <td>0.0</td>\n",
       "      <td>0.0</td>\n",
       "      <td>0.0</td>\n",
       "      <td>0.0</td>\n",
       "      <td>0.0</td>\n",
       "      <td>0.0</td>\n",
       "      <td>0.0</td>\n",
       "      <td>0.0</td>\n",
       "      <td>0.0</td>\n",
       "    </tr>\n",
       "    <tr>\n",
       "      <th>ENSG00000188290</th>\n",
       "      <td>0.111648</td>\n",
       "      <td>1.000000</td>\n",
       "      <td>0.760347</td>\n",
       "      <td>0.394843</td>\n",
       "      <td>0.011284</td>\n",
       "      <td>0.008897</td>\n",
       "      <td>0.005317</td>\n",
       "      <td>0.006876</td>\n",
       "      <td>0.002582</td>\n",
       "      <td>0.005084</td>\n",
       "      <td>...</td>\n",
       "      <td>0.0</td>\n",
       "      <td>0.0</td>\n",
       "      <td>0.0</td>\n",
       "      <td>0.0</td>\n",
       "      <td>0.0</td>\n",
       "      <td>0.0</td>\n",
       "      <td>0.0</td>\n",
       "      <td>0.0</td>\n",
       "      <td>0.0</td>\n",
       "      <td>0.0</td>\n",
       "    </tr>\n",
       "    <tr>\n",
       "      <th>ENSG00000187608</th>\n",
       "      <td>0.187064</td>\n",
       "      <td>0.760347</td>\n",
       "      <td>1.000000</td>\n",
       "      <td>0.348268</td>\n",
       "      <td>0.011228</td>\n",
       "      <td>0.010204</td>\n",
       "      <td>0.006492</td>\n",
       "      <td>0.010893</td>\n",
       "      <td>0.003592</td>\n",
       "      <td>0.009454</td>\n",
       "      <td>...</td>\n",
       "      <td>0.0</td>\n",
       "      <td>0.0</td>\n",
       "      <td>0.0</td>\n",
       "      <td>0.0</td>\n",
       "      <td>0.0</td>\n",
       "      <td>0.0</td>\n",
       "      <td>0.0</td>\n",
       "      <td>0.0</td>\n",
       "      <td>0.0</td>\n",
       "      <td>0.0</td>\n",
       "    </tr>\n",
       "    <tr>\n",
       "      <th>ENSG00000188157</th>\n",
       "      <td>0.083062</td>\n",
       "      <td>0.394843</td>\n",
       "      <td>0.348268</td>\n",
       "      <td>1.000000</td>\n",
       "      <td>0.006882</td>\n",
       "      <td>0.013548</td>\n",
       "      <td>0.001546</td>\n",
       "      <td>0.002285</td>\n",
       "      <td>0.003513</td>\n",
       "      <td>0.008510</td>\n",
       "      <td>...</td>\n",
       "      <td>0.0</td>\n",
       "      <td>0.0</td>\n",
       "      <td>0.0</td>\n",
       "      <td>0.0</td>\n",
       "      <td>0.0</td>\n",
       "      <td>0.0</td>\n",
       "      <td>0.0</td>\n",
       "      <td>0.0</td>\n",
       "      <td>0.0</td>\n",
       "      <td>0.0</td>\n",
       "    </tr>\n",
       "    <tr>\n",
       "      <th>ENSG00000186891</th>\n",
       "      <td>0.006659</td>\n",
       "      <td>0.011284</td>\n",
       "      <td>0.011228</td>\n",
       "      <td>0.006882</td>\n",
       "      <td>1.000000</td>\n",
       "      <td>0.337836</td>\n",
       "      <td>0.551124</td>\n",
       "      <td>0.154373</td>\n",
       "      <td>0.193531</td>\n",
       "      <td>0.090832</td>\n",
       "      <td>...</td>\n",
       "      <td>0.0</td>\n",
       "      <td>0.0</td>\n",
       "      <td>0.0</td>\n",
       "      <td>0.0</td>\n",
       "      <td>0.0</td>\n",
       "      <td>0.0</td>\n",
       "      <td>0.0</td>\n",
       "      <td>0.0</td>\n",
       "      <td>0.0</td>\n",
       "      <td>0.0</td>\n",
       "    </tr>\n",
       "  </tbody>\n",
       "</table>\n",
       "<p>5 rows × 6450 columns</p>\n",
       "</div>"
      ],
      "text/plain": [
       "                 ENSG00000188976  ENSG00000188290  ENSG00000187608  \\\n",
       "ENSG00000188976         1.000000         0.111648         0.187064   \n",
       "ENSG00000188290         0.111648         1.000000         0.760347   \n",
       "ENSG00000187608         0.187064         0.760347         1.000000   \n",
       "ENSG00000188157         0.083062         0.394843         0.348268   \n",
       "ENSG00000186891         0.006659         0.011284         0.011228   \n",
       "\n",
       "                 ENSG00000188157  ENSG00000186891  ENSG00000186827  \\\n",
       "ENSG00000188976         0.083062         0.006659         0.006887   \n",
       "ENSG00000188290         0.394843         0.011284         0.008897   \n",
       "ENSG00000187608         0.348268         0.011228         0.010204   \n",
       "ENSG00000188157         1.000000         0.006882         0.013548   \n",
       "ENSG00000186891         0.006882         1.000000         0.337836   \n",
       "\n",
       "                 ENSG00000176022  ENSG00000160087  ENSG00000131584  \\\n",
       "ENSG00000188976         0.004603         0.011059         0.011335   \n",
       "ENSG00000188290         0.005317         0.006876         0.002582   \n",
       "ENSG00000187608         0.006492         0.010893         0.003592   \n",
       "ENSG00000188157         0.001546         0.002285         0.003513   \n",
       "ENSG00000186891         0.551124         0.154373         0.193531   \n",
       "\n",
       "                 ENSG00000169962  ...  ENSG00000196576  ENSG00000128165  \\\n",
       "ENSG00000188976         0.007667  ...              0.0              0.0   \n",
       "ENSG00000188290         0.005084  ...              0.0              0.0   \n",
       "ENSG00000187608         0.009454  ...              0.0              0.0   \n",
       "ENSG00000188157         0.008510  ...              0.0              0.0   \n",
       "ENSG00000186891         0.090832  ...              0.0              0.0   \n",
       "\n",
       "                 ENSG00000100253  ENSG00000130489  ENSG00000025708  \\\n",
       "ENSG00000188976              0.0              0.0              0.0   \n",
       "ENSG00000188290              0.0              0.0              0.0   \n",
       "ENSG00000187608              0.0              0.0              0.0   \n",
       "ENSG00000188157              0.0              0.0              0.0   \n",
       "ENSG00000186891              0.0              0.0              0.0   \n",
       "\n",
       "                 ENSG00000205560  ENSG00000100288  ENSG00000008735  \\\n",
       "ENSG00000188976              0.0              0.0              0.0   \n",
       "ENSG00000188290              0.0              0.0              0.0   \n",
       "ENSG00000187608              0.0              0.0              0.0   \n",
       "ENSG00000188157              0.0              0.0              0.0   \n",
       "ENSG00000186891              0.0              0.0              0.0   \n",
       "\n",
       "                 ENSG00000100299  ENSG00000251322  \n",
       "ENSG00000188976              0.0              0.0  \n",
       "ENSG00000188290              0.0              0.0  \n",
       "ENSG00000187608              0.0              0.0  \n",
       "ENSG00000188157              0.0              0.0  \n",
       "ENSG00000186891              0.0              0.0  \n",
       "\n",
       "[5 rows x 6450 columns]"
      ]
     },
     "execution_count": 32,
     "metadata": {},
     "output_type": "execute_result"
    }
   ],
   "source": [
    "full_corr_matrix.head()"
   ]
  },
  {
   "cell_type": "code",
   "execution_count": 33,
   "id": "0d43f268-ad27-4117-b43b-df581deedae5",
   "metadata": {
    "execution": {
     "iopub.execute_input": "2022-08-29T14:29:15.835190Z",
     "iopub.status.busy": "2022-08-29T14:29:15.834905Z",
     "iopub.status.idle": "2022-08-29T14:29:15.858903Z",
     "shell.execute_reply": "2022-08-29T14:29:15.858254Z"
    },
    "papermill": {
     "duration": 0.04787,
     "end_time": "2022-08-29T14:29:15.860900",
     "exception": false,
     "start_time": "2022-08-29T14:29:15.813030",
     "status": "completed"
    },
    "tags": []
   },
   "outputs": [
    {
     "data": {
      "text/plain": [
       "False"
      ]
     },
     "execution_count": 33,
     "metadata": {},
     "output_type": "execute_result"
    }
   ],
   "source": [
    "np.all(full_corr_matrix.to_numpy().diagonal() == 1.0)"
   ]
  },
  {
   "cell_type": "markdown",
   "id": "1169db4b-9af2-4d3c-a27a-198d7730fa67",
   "metadata": {
    "papermill": {
     "duration": 0.021008,
     "end_time": "2022-08-29T14:29:15.902998",
     "exception": false,
     "start_time": "2022-08-29T14:29:15.881990",
     "status": "completed"
    },
    "tags": []
   },
   "source": [
    "## Some checks"
   ]
  },
  {
   "cell_type": "code",
   "execution_count": 34,
   "id": "31b4e109-a020-4667-9326-c63e6d80a33e",
   "metadata": {
    "execution": {
     "iopub.execute_input": "2022-08-29T14:29:15.946687Z",
     "iopub.status.busy": "2022-08-29T14:29:15.946404Z",
     "iopub.status.idle": "2022-08-29T14:29:16.219896Z",
     "shell.execute_reply": "2022-08-29T14:29:16.219143Z"
    },
    "papermill": {
     "duration": 0.297686,
     "end_time": "2022-08-29T14:29:16.221767",
     "exception": false,
     "start_time": "2022-08-29T14:29:15.924081",
     "status": "completed"
    },
    "tags": []
   },
   "outputs": [
    {
     "data": {
      "text/plain": [
       "0.0"
      ]
     },
     "metadata": {},
     "output_type": "display_data"
    }
   ],
   "source": [
    "_min_val = full_corr_matrix.min().min()\n",
    "display(_min_val)\n",
    "# assert _min_val >= -0.05"
   ]
  },
  {
   "cell_type": "code",
   "execution_count": 35,
   "id": "df674d11-939a-4704-a718-f246527a1880",
   "metadata": {
    "execution": {
     "iopub.execute_input": "2022-08-29T14:29:16.264045Z",
     "iopub.status.busy": "2022-08-29T14:29:16.263752Z",
     "iopub.status.idle": "2022-08-29T14:29:16.541131Z",
     "shell.execute_reply": "2022-08-29T14:29:16.540490Z"
    },
    "papermill": {
     "duration": 0.301446,
     "end_time": "2022-08-29T14:29:16.543086",
     "exception": false,
     "start_time": "2022-08-29T14:29:16.241640",
     "status": "completed"
    },
    "tags": []
   },
   "outputs": [
    {
     "data": {
      "text/plain": [
       "1.0000000000000042"
      ]
     },
     "metadata": {},
     "output_type": "display_data"
    }
   ],
   "source": [
    "_max_val = full_corr_matrix.max().max()\n",
    "display(_max_val)\n",
    "# assert _max_val <= 1.05"
   ]
  },
  {
   "cell_type": "markdown",
   "id": "d6b0f6d2-f191-44ba-97da-41f980163729",
   "metadata": {
    "papermill": {
     "duration": 0.020825,
     "end_time": "2022-08-29T14:29:16.586167",
     "exception": false,
     "start_time": "2022-08-29T14:29:16.565342",
     "status": "completed"
    },
    "tags": []
   },
   "source": [
    "## Positive definiteness"
   ]
  },
  {
   "cell_type": "markdown",
   "id": "bd7c979c-1f9c-4396-92a4-c1eb8be339d0",
   "metadata": {
    "papermill": {
     "duration": 0.021713,
     "end_time": "2022-08-29T14:29:16.629618",
     "exception": false,
     "start_time": "2022-08-29T14:29:16.607905",
     "status": "completed"
    },
    "tags": []
   },
   "source": [
    "In some cases, even if the submatrices are adjusted, the whole one is not.\n",
    "\n",
    "So here I check that again."
   ]
  },
  {
   "cell_type": "code",
   "execution_count": 36,
   "id": "6fc157e7-b798-4977-975b-d20d8c1cda09",
   "metadata": {
    "execution": {
     "iopub.execute_input": "2022-08-29T14:29:16.673756Z",
     "iopub.status.busy": "2022-08-29T14:29:16.673464Z",
     "iopub.status.idle": "2022-08-29T14:31:20.795469Z",
     "shell.execute_reply": "2022-08-29T14:31:20.794546Z"
    },
    "papermill": {
     "duration": 124.150372,
     "end_time": "2022-08-29T14:31:20.801481",
     "exception": false,
     "start_time": "2022-08-29T14:29:16.651109",
     "status": "completed"
    },
    "tags": []
   },
   "outputs": [
    {
     "data": {
      "text/plain": [
       "'Number of negative eigenvalues: 0'"
      ]
     },
     "metadata": {},
     "output_type": "display_data"
    },
    {
     "data": {
      "text/plain": [
       "'Negative eigenvalues:\\n[]'"
      ]
     },
     "metadata": {},
     "output_type": "display_data"
    },
    {
     "name": "stdout",
     "output_type": "stream",
     "text": [
      "Works! (statsmodels.GLS)\n",
      "Works!\n",
      "all good.\n"
     ]
    }
   ],
   "source": [
    "is_pos_def = check_pos_def(full_corr_matrix)\n",
    "\n",
    "if is_pos_def:\n",
    "    print(\"all good.\", flush=True, end=\"\\n\")\n",
    "else:\n",
    "    print(\"not positive definite, fixing... \", flush=True, end=\"\")\n",
    "    corr_data_adjusted = adjust_non_pos_def(full_corr_matrix)\n",
    "\n",
    "    is_pos_def = check_pos_def(corr_data_adjusted)\n",
    "    assert is_pos_def, \"Could not adjust gene correlation matrix\"\n",
    "\n",
    "    print(\"fixed! comparing...\", flush=True, end=\"\\n\")\n",
    "    compare_matrices(full_corr_matrix, corr_data_adjusted)\n",
    "\n",
    "    full_corr_matrix = corr_data_adjusted"
   ]
  },
  {
   "cell_type": "markdown",
   "id": "f328f55d-37d5-4346-97b4-7237281d5757",
   "metadata": {
    "papermill": {
     "duration": 0.019333,
     "end_time": "2022-08-29T14:31:20.839855",
     "exception": false,
     "start_time": "2022-08-29T14:31:20.820522",
     "status": "completed"
    },
    "tags": []
   },
   "source": [
    "## Save"
   ]
  },
  {
   "cell_type": "markdown",
   "id": "0bf781b4-7a49-4823-9c40-d6d4151c17b7",
   "metadata": {
    "papermill": {
     "duration": 0.018475,
     "end_time": "2022-08-29T14:31:20.876771",
     "exception": false,
     "start_time": "2022-08-29T14:31:20.858296",
     "status": "completed"
    },
    "tags": []
   },
   "source": [
    "### Gene corrs with gene symbols"
   ]
  },
  {
   "cell_type": "code",
   "execution_count": 37,
   "id": "cd9323bb-f43e-4271-aeae-c4ff9ba150fe",
   "metadata": {
    "execution": {
     "iopub.execute_input": "2022-08-29T14:31:20.914634Z",
     "iopub.status.busy": "2022-08-29T14:31:20.914347Z",
     "iopub.status.idle": "2022-08-29T14:31:20.938167Z",
     "shell.execute_reply": "2022-08-29T14:31:20.937644Z"
    },
    "papermill": {
     "duration": 0.04441,
     "end_time": "2022-08-29T14:31:20.939671",
     "exception": false,
     "start_time": "2022-08-29T14:31:20.895261",
     "status": "completed"
    },
    "tags": []
   },
   "outputs": [
    {
     "data": {
      "text/plain": [
       "PosixPath('/project/ritchie20/projects/phenoplier/base/results/gls/gene_corrs/cohorts/phenomexcan_astle/gtex_v8/mashr/gene_corrs-symbols.pkl')"
      ]
     },
     "metadata": {},
     "output_type": "display_data"
    }
   ],
   "source": [
    "output_file = OUTPUT_DIR_BASE / \"gene_corrs-symbols.pkl\"\n",
    "display(output_file)"
   ]
  },
  {
   "cell_type": "code",
   "execution_count": 38,
   "id": "eae70039-4724-49c2-af7f-af868ee71f52",
   "metadata": {
    "execution": {
     "iopub.execute_input": "2022-08-29T14:31:20.976530Z",
     "iopub.status.busy": "2022-08-29T14:31:20.976338Z",
     "iopub.status.idle": "2022-08-29T14:31:21.200250Z",
     "shell.execute_reply": "2022-08-29T14:31:21.199666Z"
    },
    "papermill": {
     "duration": 0.244593,
     "end_time": "2022-08-29T14:31:21.202131",
     "exception": false,
     "start_time": "2022-08-29T14:31:20.957538",
     "status": "completed"
    },
    "tags": []
   },
   "outputs": [],
   "source": [
    "gene_corrs = full_corr_matrix.rename(\n",
    "    index=Gene.GENE_ID_TO_NAME_MAP, columns=Gene.GENE_ID_TO_NAME_MAP\n",
    ")"
   ]
  },
  {
   "cell_type": "code",
   "execution_count": 39,
   "id": "d095a99d-acf0-4290-873b-64079ba70a3a",
   "metadata": {
    "execution": {
     "iopub.execute_input": "2022-08-29T14:31:21.240779Z",
     "iopub.status.busy": "2022-08-29T14:31:21.240575Z",
     "iopub.status.idle": "2022-08-29T14:31:21.357723Z",
     "shell.execute_reply": "2022-08-29T14:31:21.357144Z"
    },
    "papermill": {
     "duration": 0.138639,
     "end_time": "2022-08-29T14:31:21.359626",
     "exception": false,
     "start_time": "2022-08-29T14:31:21.220987",
     "status": "completed"
    },
    "tags": []
   },
   "outputs": [],
   "source": [
    "assert not gene_corrs.isna().any(None)\n",
    "assert not np.isinf(gene_corrs.to_numpy()).any()\n",
    "assert not np.iscomplex(gene_corrs.to_numpy()).any()"
   ]
  },
  {
   "cell_type": "code",
   "execution_count": 40,
   "id": "8a0ee039-378e-4f51-a18a-24fe2c9d9ba8",
   "metadata": {
    "execution": {
     "iopub.execute_input": "2022-08-29T14:31:21.398079Z",
     "iopub.status.busy": "2022-08-29T14:31:21.397865Z",
     "iopub.status.idle": "2022-08-29T14:31:21.418069Z",
     "shell.execute_reply": "2022-08-29T14:31:21.417567Z"
    },
    "papermill": {
     "duration": 0.040869,
     "end_time": "2022-08-29T14:31:21.419633",
     "exception": false,
     "start_time": "2022-08-29T14:31:21.378764",
     "status": "completed"
    },
    "tags": []
   },
   "outputs": [],
   "source": [
    "assert gene_corrs.index.is_unique\n",
    "assert gene_corrs.columns.is_unique"
   ]
  },
  {
   "cell_type": "code",
   "execution_count": 41,
   "id": "7fe158ee-2def-4c61-91a2-f3ec05687237",
   "metadata": {
    "execution": {
     "iopub.execute_input": "2022-08-29T14:31:21.457343Z",
     "iopub.status.busy": "2022-08-29T14:31:21.457153Z",
     "iopub.status.idle": "2022-08-29T14:31:21.474676Z",
     "shell.execute_reply": "2022-08-29T14:31:21.474182Z"
    },
    "papermill": {
     "duration": 0.038047,
     "end_time": "2022-08-29T14:31:21.476200",
     "exception": false,
     "start_time": "2022-08-29T14:31:21.438153",
     "status": "completed"
    },
    "tags": []
   },
   "outputs": [
    {
     "data": {
      "text/plain": [
       "(6450, 6450)"
      ]
     },
     "execution_count": 41,
     "metadata": {},
     "output_type": "execute_result"
    }
   ],
   "source": [
    "gene_corrs.shape"
   ]
  },
  {
   "cell_type": "code",
   "execution_count": 42,
   "id": "28db69f2-6dc8-4a05-a1da-d44998574749",
   "metadata": {
    "execution": {
     "iopub.execute_input": "2022-08-29T14:31:21.520201Z",
     "iopub.status.busy": "2022-08-29T14:31:21.519998Z",
     "iopub.status.idle": "2022-08-29T14:31:21.553141Z",
     "shell.execute_reply": "2022-08-29T14:31:21.552632Z"
    },
    "papermill": {
     "duration": 0.053724,
     "end_time": "2022-08-29T14:31:21.554580",
     "exception": false,
     "start_time": "2022-08-29T14:31:21.500856",
     "status": "completed"
    },
    "tags": []
   },
   "outputs": [
    {
     "data": {
      "text/html": [
       "<div>\n",
       "<style scoped>\n",
       "    .dataframe tbody tr th:only-of-type {\n",
       "        vertical-align: middle;\n",
       "    }\n",
       "\n",
       "    .dataframe tbody tr th {\n",
       "        vertical-align: top;\n",
       "    }\n",
       "\n",
       "    .dataframe thead th {\n",
       "        text-align: right;\n",
       "    }\n",
       "</style>\n",
       "<table border=\"1\" class=\"dataframe\">\n",
       "  <thead>\n",
       "    <tr style=\"text-align: right;\">\n",
       "      <th></th>\n",
       "      <th>NOC2L</th>\n",
       "      <th>HES4</th>\n",
       "      <th>ISG15</th>\n",
       "      <th>AGRN</th>\n",
       "      <th>TNFRSF18</th>\n",
       "      <th>TNFRSF4</th>\n",
       "      <th>B3GALT6</th>\n",
       "      <th>UBE2J2</th>\n",
       "      <th>ACAP3</th>\n",
       "      <th>TAS1R3</th>\n",
       "      <th>...</th>\n",
       "      <th>PLXNB2</th>\n",
       "      <th>ADM2</th>\n",
       "      <th>MIOX</th>\n",
       "      <th>SCO2</th>\n",
       "      <th>TYMP</th>\n",
       "      <th>CPT1B</th>\n",
       "      <th>CHKB</th>\n",
       "      <th>MAPK8IP2</th>\n",
       "      <th>ARSA</th>\n",
       "      <th>SHANK3</th>\n",
       "    </tr>\n",
       "  </thead>\n",
       "  <tbody>\n",
       "    <tr>\n",
       "      <th>NOC2L</th>\n",
       "      <td>1.000000</td>\n",
       "      <td>0.111648</td>\n",
       "      <td>0.187064</td>\n",
       "      <td>0.083062</td>\n",
       "      <td>0.006659</td>\n",
       "      <td>0.006887</td>\n",
       "      <td>0.004603</td>\n",
       "      <td>0.011059</td>\n",
       "      <td>0.011335</td>\n",
       "      <td>0.007667</td>\n",
       "      <td>...</td>\n",
       "      <td>0.0</td>\n",
       "      <td>0.0</td>\n",
       "      <td>0.0</td>\n",
       "      <td>0.0</td>\n",
       "      <td>0.0</td>\n",
       "      <td>0.0</td>\n",
       "      <td>0.0</td>\n",
       "      <td>0.0</td>\n",
       "      <td>0.0</td>\n",
       "      <td>0.0</td>\n",
       "    </tr>\n",
       "    <tr>\n",
       "      <th>HES4</th>\n",
       "      <td>0.111648</td>\n",
       "      <td>1.000000</td>\n",
       "      <td>0.760347</td>\n",
       "      <td>0.394843</td>\n",
       "      <td>0.011284</td>\n",
       "      <td>0.008897</td>\n",
       "      <td>0.005317</td>\n",
       "      <td>0.006876</td>\n",
       "      <td>0.002582</td>\n",
       "      <td>0.005084</td>\n",
       "      <td>...</td>\n",
       "      <td>0.0</td>\n",
       "      <td>0.0</td>\n",
       "      <td>0.0</td>\n",
       "      <td>0.0</td>\n",
       "      <td>0.0</td>\n",
       "      <td>0.0</td>\n",
       "      <td>0.0</td>\n",
       "      <td>0.0</td>\n",
       "      <td>0.0</td>\n",
       "      <td>0.0</td>\n",
       "    </tr>\n",
       "    <tr>\n",
       "      <th>ISG15</th>\n",
       "      <td>0.187064</td>\n",
       "      <td>0.760347</td>\n",
       "      <td>1.000000</td>\n",
       "      <td>0.348268</td>\n",
       "      <td>0.011228</td>\n",
       "      <td>0.010204</td>\n",
       "      <td>0.006492</td>\n",
       "      <td>0.010893</td>\n",
       "      <td>0.003592</td>\n",
       "      <td>0.009454</td>\n",
       "      <td>...</td>\n",
       "      <td>0.0</td>\n",
       "      <td>0.0</td>\n",
       "      <td>0.0</td>\n",
       "      <td>0.0</td>\n",
       "      <td>0.0</td>\n",
       "      <td>0.0</td>\n",
       "      <td>0.0</td>\n",
       "      <td>0.0</td>\n",
       "      <td>0.0</td>\n",
       "      <td>0.0</td>\n",
       "    </tr>\n",
       "    <tr>\n",
       "      <th>AGRN</th>\n",
       "      <td>0.083062</td>\n",
       "      <td>0.394843</td>\n",
       "      <td>0.348268</td>\n",
       "      <td>1.000000</td>\n",
       "      <td>0.006882</td>\n",
       "      <td>0.013548</td>\n",
       "      <td>0.001546</td>\n",
       "      <td>0.002285</td>\n",
       "      <td>0.003513</td>\n",
       "      <td>0.008510</td>\n",
       "      <td>...</td>\n",
       "      <td>0.0</td>\n",
       "      <td>0.0</td>\n",
       "      <td>0.0</td>\n",
       "      <td>0.0</td>\n",
       "      <td>0.0</td>\n",
       "      <td>0.0</td>\n",
       "      <td>0.0</td>\n",
       "      <td>0.0</td>\n",
       "      <td>0.0</td>\n",
       "      <td>0.0</td>\n",
       "    </tr>\n",
       "    <tr>\n",
       "      <th>TNFRSF18</th>\n",
       "      <td>0.006659</td>\n",
       "      <td>0.011284</td>\n",
       "      <td>0.011228</td>\n",
       "      <td>0.006882</td>\n",
       "      <td>1.000000</td>\n",
       "      <td>0.337836</td>\n",
       "      <td>0.551124</td>\n",
       "      <td>0.154373</td>\n",
       "      <td>0.193531</td>\n",
       "      <td>0.090832</td>\n",
       "      <td>...</td>\n",
       "      <td>0.0</td>\n",
       "      <td>0.0</td>\n",
       "      <td>0.0</td>\n",
       "      <td>0.0</td>\n",
       "      <td>0.0</td>\n",
       "      <td>0.0</td>\n",
       "      <td>0.0</td>\n",
       "      <td>0.0</td>\n",
       "      <td>0.0</td>\n",
       "      <td>0.0</td>\n",
       "    </tr>\n",
       "  </tbody>\n",
       "</table>\n",
       "<p>5 rows × 6450 columns</p>\n",
       "</div>"
      ],
      "text/plain": [
       "             NOC2L      HES4     ISG15      AGRN  TNFRSF18   TNFRSF4  \\\n",
       "NOC2L     1.000000  0.111648  0.187064  0.083062  0.006659  0.006887   \n",
       "HES4      0.111648  1.000000  0.760347  0.394843  0.011284  0.008897   \n",
       "ISG15     0.187064  0.760347  1.000000  0.348268  0.011228  0.010204   \n",
       "AGRN      0.083062  0.394843  0.348268  1.000000  0.006882  0.013548   \n",
       "TNFRSF18  0.006659  0.011284  0.011228  0.006882  1.000000  0.337836   \n",
       "\n",
       "           B3GALT6    UBE2J2     ACAP3    TAS1R3  ...  PLXNB2  ADM2  MIOX  \\\n",
       "NOC2L     0.004603  0.011059  0.011335  0.007667  ...     0.0   0.0   0.0   \n",
       "HES4      0.005317  0.006876  0.002582  0.005084  ...     0.0   0.0   0.0   \n",
       "ISG15     0.006492  0.010893  0.003592  0.009454  ...     0.0   0.0   0.0   \n",
       "AGRN      0.001546  0.002285  0.003513  0.008510  ...     0.0   0.0   0.0   \n",
       "TNFRSF18  0.551124  0.154373  0.193531  0.090832  ...     0.0   0.0   0.0   \n",
       "\n",
       "          SCO2  TYMP  CPT1B  CHKB  MAPK8IP2  ARSA  SHANK3  \n",
       "NOC2L      0.0   0.0    0.0   0.0       0.0   0.0     0.0  \n",
       "HES4       0.0   0.0    0.0   0.0       0.0   0.0     0.0  \n",
       "ISG15      0.0   0.0    0.0   0.0       0.0   0.0     0.0  \n",
       "AGRN       0.0   0.0    0.0   0.0       0.0   0.0     0.0  \n",
       "TNFRSF18   0.0   0.0    0.0   0.0       0.0   0.0     0.0  \n",
       "\n",
       "[5 rows x 6450 columns]"
      ]
     },
     "execution_count": 42,
     "metadata": {},
     "output_type": "execute_result"
    }
   ],
   "source": [
    "gene_corrs.head()"
   ]
  },
  {
   "cell_type": "code",
   "execution_count": 43,
   "id": "19f39ddb-854c-4b6a-886c-60e84b5d31ca",
   "metadata": {
    "execution": {
     "iopub.execute_input": "2022-08-29T14:31:21.592708Z",
     "iopub.status.busy": "2022-08-29T14:31:21.592517Z",
     "iopub.status.idle": "2022-08-29T14:31:22.433717Z",
     "shell.execute_reply": "2022-08-29T14:31:22.433135Z"
    },
    "papermill": {
     "duration": 0.862713,
     "end_time": "2022-08-29T14:31:22.435610",
     "exception": false,
     "start_time": "2022-08-29T14:31:21.572897",
     "status": "completed"
    },
    "tags": []
   },
   "outputs": [],
   "source": [
    "gene_corrs.to_pickle(output_file)"
   ]
  },
  {
   "cell_type": "code",
   "execution_count": 44,
   "id": "738f4cf5-44a9-4274-a2c8-11906113fa45",
   "metadata": {
    "execution": {
     "iopub.execute_input": "2022-08-29T14:31:22.475271Z",
     "iopub.status.busy": "2022-08-29T14:31:22.475074Z",
     "iopub.status.idle": "2022-08-29T14:31:22.493012Z",
     "shell.execute_reply": "2022-08-29T14:31:22.492512Z"
    },
    "papermill": {
     "duration": 0.039456,
     "end_time": "2022-08-29T14:31:22.494533",
     "exception": false,
     "start_time": "2022-08-29T14:31:22.455077",
     "status": "completed"
    },
    "tags": []
   },
   "outputs": [],
   "source": [
    "del gene_corrs"
   ]
  },
  {
   "cell_type": "markdown",
   "id": "551bd31a-ad37-45b5-a0c8-6ff1459faf60",
   "metadata": {
    "papermill": {
     "duration": 0.018759,
     "end_time": "2022-08-29T14:31:22.531980",
     "exception": false,
     "start_time": "2022-08-29T14:31:22.513221",
     "status": "completed"
    },
    "tags": []
   },
   "source": [
    "# Stats"
   ]
  },
  {
   "cell_type": "code",
   "execution_count": 45,
   "id": "33b5482f-7ecf-4365-867f-249f28d09180",
   "metadata": {
    "execution": {
     "iopub.execute_input": "2022-08-29T14:31:22.571070Z",
     "iopub.status.busy": "2022-08-29T14:31:22.570875Z",
     "iopub.status.idle": "2022-08-29T14:31:23.701989Z",
     "shell.execute_reply": "2022-08-29T14:31:23.701400Z"
    },
    "papermill": {
     "duration": 1.152369,
     "end_time": "2022-08-29T14:31:23.703927",
     "exception": false,
     "start_time": "2022-08-29T14:31:22.551558",
     "status": "completed"
    },
    "tags": []
   },
   "outputs": [],
   "source": [
    "full_corr_matrix_flat = full_corr_matrix.mask(\n",
    "    np.triu(np.ones(full_corr_matrix.shape)).astype(bool)\n",
    ").stack()"
   ]
  },
  {
   "cell_type": "code",
   "execution_count": 46,
   "id": "e2d950d1-646a-4ba1-bb91-cf07ad00872d",
   "metadata": {
    "execution": {
     "iopub.execute_input": "2022-08-29T14:31:23.743817Z",
     "iopub.status.busy": "2022-08-29T14:31:23.743594Z",
     "iopub.status.idle": "2022-08-29T14:31:23.763747Z",
     "shell.execute_reply": "2022-08-29T14:31:23.763245Z"
    },
    "papermill": {
     "duration": 0.04136,
     "end_time": "2022-08-29T14:31:23.765238",
     "exception": false,
     "start_time": "2022-08-29T14:31:23.723878",
     "status": "completed"
    },
    "tags": []
   },
   "outputs": [
    {
     "data": {
      "text/plain": [
       "(20798025,)"
      ]
     },
     "metadata": {},
     "output_type": "display_data"
    }
   ],
   "source": [
    "display(full_corr_matrix_flat.shape)\n",
    "assert full_corr_matrix_flat.shape[0] == int(\n",
    "    full_corr_matrix.shape[0] * (full_corr_matrix.shape[0] - 1) / 2\n",
    ")"
   ]
  },
  {
   "cell_type": "markdown",
   "id": "5fd7d482-b7b8-4a84-91b0-749d15f0d2c0",
   "metadata": {
    "papermill": {
     "duration": 0.019901,
     "end_time": "2022-08-29T14:31:23.803912",
     "exception": false,
     "start_time": "2022-08-29T14:31:23.784011",
     "status": "completed"
    },
    "tags": []
   },
   "source": [
    "## On all correlations"
   ]
  },
  {
   "cell_type": "code",
   "execution_count": 47,
   "id": "e58ea199-0cc1-449d-a55e-26970fb674a8",
   "metadata": {
    "execution": {
     "iopub.execute_input": "2022-08-29T14:31:23.842183Z",
     "iopub.status.busy": "2022-08-29T14:31:23.841962Z",
     "iopub.status.idle": "2022-08-29T14:31:23.858506Z",
     "shell.execute_reply": "2022-08-29T14:31:23.857968Z"
    },
    "papermill": {
     "duration": 0.037351,
     "end_time": "2022-08-29T14:31:23.860043",
     "exception": false,
     "start_time": "2022-08-29T14:31:23.822692",
     "status": "completed"
    },
    "tags": []
   },
   "outputs": [],
   "source": [
    "_corr_mat = full_corr_matrix_flat"
   ]
  },
  {
   "cell_type": "code",
   "execution_count": 48,
   "id": "c4e71773-0b74-435f-a9d9-cc8671d7c570",
   "metadata": {
    "execution": {
     "iopub.execute_input": "2022-08-29T14:31:23.901191Z",
     "iopub.status.busy": "2022-08-29T14:31:23.900997Z",
     "iopub.status.idle": "2022-08-29T14:31:23.918453Z",
     "shell.execute_reply": "2022-08-29T14:31:23.917958Z"
    },
    "papermill": {
     "duration": 0.038979,
     "end_time": "2022-08-29T14:31:23.919878",
     "exception": false,
     "start_time": "2022-08-29T14:31:23.880899",
     "status": "completed"
    },
    "tags": []
   },
   "outputs": [
    {
     "data": {
      "text/plain": [
       "(20798025,)"
      ]
     },
     "execution_count": 48,
     "metadata": {},
     "output_type": "execute_result"
    }
   ],
   "source": [
    "_corr_mat.shape"
   ]
  },
  {
   "cell_type": "code",
   "execution_count": 49,
   "id": "9907fbe4-85e1-4690-ae0c-3c6f5a19e9b7",
   "metadata": {
    "execution": {
     "iopub.execute_input": "2022-08-29T14:31:23.958807Z",
     "iopub.status.busy": "2022-08-29T14:31:23.958587Z",
     "iopub.status.idle": "2022-08-29T14:31:23.977541Z",
     "shell.execute_reply": "2022-08-29T14:31:23.977032Z"
    },
    "papermill": {
     "duration": 0.040359,
     "end_time": "2022-08-29T14:31:23.979005",
     "exception": false,
     "start_time": "2022-08-29T14:31:23.938646",
     "status": "completed"
    },
    "tags": []
   },
   "outputs": [
    {
     "data": {
      "text/plain": [
       "ENSG00000188290  ENSG00000188976    0.111648\n",
       "ENSG00000187608  ENSG00000188976    0.187064\n",
       "                 ENSG00000188290    0.760347\n",
       "ENSG00000188157  ENSG00000188976    0.083062\n",
       "                 ENSG00000188290    0.394843\n",
       "dtype: float64"
      ]
     },
     "execution_count": 49,
     "metadata": {},
     "output_type": "execute_result"
    }
   ],
   "source": [
    "_corr_mat.head()"
   ]
  },
  {
   "cell_type": "code",
   "execution_count": 50,
   "id": "cb34e9c9-7488-47f2-aa31-c8a8e83f92ae",
   "metadata": {
    "execution": {
     "iopub.execute_input": "2022-08-29T14:31:24.018564Z",
     "iopub.status.busy": "2022-08-29T14:31:24.018372Z",
     "iopub.status.idle": "2022-08-29T14:31:24.813820Z",
     "shell.execute_reply": "2022-08-29T14:31:24.813277Z"
    },
    "papermill": {
     "duration": 0.817579,
     "end_time": "2022-08-29T14:31:24.815393",
     "exception": false,
     "start_time": "2022-08-29T14:31:23.997814",
     "status": "completed"
    },
    "tags": []
   },
   "outputs": [
    {
     "data": {
      "text/plain": [
       "count               20798025.0\n",
       "mean     0.0004652543039167576\n",
       "std       0.007005370353181854\n",
       "min                        0.0\n",
       "25%                        0.0\n",
       "50%                        0.0\n",
       "75%                        0.0\n",
       "max         0.9999975042224853\n",
       "dtype: object"
      ]
     },
     "execution_count": 50,
     "metadata": {},
     "output_type": "execute_result"
    }
   ],
   "source": [
    "_corr_mat.describe().apply(str)"
   ]
  },
  {
   "cell_type": "code",
   "execution_count": 51,
   "id": "ccb2fbfa-e381-40a0-a269-e280c12c6039",
   "metadata": {
    "execution": {
     "iopub.execute_input": "2022-08-29T14:31:24.856629Z",
     "iopub.status.busy": "2022-08-29T14:31:24.856432Z",
     "iopub.status.idle": "2022-08-29T14:31:25.178971Z",
     "shell.execute_reply": "2022-08-29T14:31:25.178428Z"
    },
    "papermill": {
     "duration": 0.344128,
     "end_time": "2022-08-29T14:31:25.180517",
     "exception": false,
     "start_time": "2022-08-29T14:31:24.836389",
     "status": "completed"
    },
    "tags": []
   },
   "outputs": [
    {
     "data": {
      "text/plain": [
       "0.00    0.000000\n",
       "0.05    0.000000\n",
       "0.10    0.000000\n",
       "0.15    0.000000\n",
       "0.20    0.000000\n",
       "0.25    0.000000\n",
       "0.30    0.000000\n",
       "0.35    0.000000\n",
       "0.40    0.000000\n",
       "0.45    0.000000\n",
       "0.50    0.000000\n",
       "0.55    0.000000\n",
       "0.60    0.000000\n",
       "0.65    0.000000\n",
       "0.70    0.000000\n",
       "0.75    0.000000\n",
       "0.80    0.000000\n",
       "0.85    0.000000\n",
       "0.90    0.000000\n",
       "0.95    0.002409\n",
       "dtype: float64"
      ]
     },
     "metadata": {},
     "output_type": "display_data"
    }
   ],
   "source": [
    "display(_corr_mat.quantile(np.arange(0, 1, 0.05)))"
   ]
  },
  {
   "cell_type": "code",
   "execution_count": 52,
   "id": "940dcbd0-3a39-4e0b-9b7c-cd3f905ea8fb",
   "metadata": {
    "execution": {
     "iopub.execute_input": "2022-08-29T14:31:25.221638Z",
     "iopub.status.busy": "2022-08-29T14:31:25.221435Z",
     "iopub.status.idle": "2022-08-29T14:31:25.459556Z",
     "shell.execute_reply": "2022-08-29T14:31:25.459017Z"
    },
    "papermill": {
     "duration": 0.260377,
     "end_time": "2022-08-29T14:31:25.461110",
     "exception": false,
     "start_time": "2022-08-29T14:31:25.200733",
     "status": "completed"
    },
    "tags": []
   },
   "outputs": [
    {
     "data": {
      "text/plain": [
       "0.0000    0.0\n",
       "0.0001    0.0\n",
       "0.0002    0.0\n",
       "0.0003    0.0\n",
       "0.0004    0.0\n",
       "0.0005    0.0\n",
       "0.0006    0.0\n",
       "0.0007    0.0\n",
       "0.0008    0.0\n",
       "0.0009    0.0\n",
       "dtype: float64"
      ]
     },
     "metadata": {},
     "output_type": "display_data"
    }
   ],
   "source": [
    "display(_corr_mat.quantile(np.arange(0, 0.001, 0.0001)))"
   ]
  },
  {
   "cell_type": "code",
   "execution_count": 53,
   "id": "9c76b62b-be13-4037-a95b-a8c2104055a3",
   "metadata": {
    "execution": {
     "iopub.execute_input": "2022-08-29T14:31:25.504158Z",
     "iopub.status.busy": "2022-08-29T14:31:25.503952Z",
     "iopub.status.idle": "2022-08-29T14:31:25.614043Z",
     "shell.execute_reply": "2022-08-29T14:31:25.613477Z"
    },
    "papermill": {
     "duration": 0.132655,
     "end_time": "2022-08-29T14:31:25.615670",
     "exception": false,
     "start_time": "2022-08-29T14:31:25.483015",
     "status": "completed"
    },
    "tags": []
   },
   "outputs": [
    {
     "data": {
      "text/plain": [
       "0.9990    0.016765\n",
       "0.9991    0.018030\n",
       "0.9992    0.020873\n",
       "0.9993    0.026538\n",
       "0.9994    0.035610\n",
       "0.9995    0.050714\n",
       "0.9996    0.078185\n",
       "0.9997    0.131294\n",
       "0.9998    0.233693\n",
       "0.9999    0.394151\n",
       "1.0000    0.999998\n",
       "dtype: float64"
      ]
     },
     "metadata": {},
     "output_type": "display_data"
    }
   ],
   "source": [
    "display(_corr_mat.quantile(np.arange(0.999, 1.0, 0.0001)))"
   ]
  },
  {
   "cell_type": "markdown",
   "id": "0ed3b3a6-f1ea-4f39-9363-f33b835413d2",
   "metadata": {
    "papermill": {
     "duration": 0.019429,
     "end_time": "2022-08-29T14:31:25.655571",
     "exception": false,
     "start_time": "2022-08-29T14:31:25.636142",
     "status": "completed"
    },
    "tags": []
   },
   "source": [
    "### Plot: distribution"
   ]
  },
  {
   "cell_type": "code",
   "execution_count": 54,
   "id": "8301126b-a7d4-4744-9c7d-f0f86eb6f54c",
   "metadata": {
    "execution": {
     "iopub.execute_input": "2022-08-29T14:31:25.696313Z",
     "iopub.status.busy": "2022-08-29T14:31:25.696106Z",
     "iopub.status.idle": "2022-08-29T14:32:38.522220Z",
     "shell.execute_reply": "2022-08-29T14:32:38.521610Z"
    },
    "papermill": {
     "duration": 72.853166,
     "end_time": "2022-08-29T14:32:38.528429",
     "exception": false,
     "start_time": "2022-08-29T14:31:25.675263",
     "status": "completed"
    },
    "tags": []
   },
   "outputs": [
    {
     "data": {
      "image/png": "[encoded data removed]",
      "text/plain": [
       "<Figure size 504x504 with 1 Axes>"
      ]
     },
     "metadata": {
      "needs_background": "light"
     },
     "output_type": "display_data"
    }
   ],
   "source": [
    "with sns.plotting_context(\"paper\", font_scale=1.5):\n",
    "    g = sns.displot(_corr_mat, kde=True, height=7)\n",
    "    g.ax.set_title(\"Distribution of gene correlation values in all chromosomes\")"
   ]
  },
  {
   "cell_type": "markdown",
   "id": "e209767d-44b8-48a4-ad28-478703a3b5bd",
   "metadata": {
    "papermill": {
     "duration": 0.019602,
     "end_time": "2022-08-29T14:32:38.567679",
     "exception": false,
     "start_time": "2022-08-29T14:32:38.548077",
     "status": "completed"
    },
    "tags": []
   },
   "source": [
    "### Plot: heatmap"
   ]
  },
  {
   "cell_type": "code",
   "execution_count": 55,
   "id": "d03fe63a-c7b2-4fb9-a53c-db362ce843c9",
   "metadata": {
    "execution": {
     "iopub.execute_input": "2022-08-29T14:32:38.608522Z",
     "iopub.status.busy": "2022-08-29T14:32:38.608310Z",
     "iopub.status.idle": "2022-08-29T14:32:38.765237Z",
     "shell.execute_reply": "2022-08-29T14:32:38.764691Z"
    },
    "papermill": {
     "duration": 0.179528,
     "end_time": "2022-08-29T14:32:38.766827",
     "exception": false,
     "start_time": "2022-08-29T14:32:38.587299",
     "status": "completed"
    },
    "tags": []
   },
   "outputs": [
    {
     "data": {
      "text/plain": [
       "'0.0 / 0.05'"
      ]
     },
     "metadata": {},
     "output_type": "display_data"
    }
   ],
   "source": [
    "vmin_val = 0.0\n",
    "vmax_val = max(0.05, _corr_mat.quantile(0.99))\n",
    "display(f\"{vmin_val} / {vmax_val}\")"
   ]
  },
  {
   "cell_type": "code",
   "execution_count": 56,
   "id": "dc41b70b-5bcc-4d9e-9f33-a22c4a94dab5",
   "metadata": {
    "execution": {
     "iopub.execute_input": "2022-08-29T14:32:38.808087Z",
     "iopub.status.busy": "2022-08-29T14:32:38.807866Z",
     "iopub.status.idle": "2022-08-29T14:33:07.189893Z",
     "shell.execute_reply": "2022-08-29T14:33:07.189348Z"
    },
    "papermill": {
     "duration": 28.404274,
     "end_time": "2022-08-29T14:33:07.191509",
     "exception": false,
     "start_time": "2022-08-29T14:32:38.787235",
     "status": "completed"
    },
    "tags": []
   },
   "outputs": [
    {
     "data": {
      "text/plain": [
       "Text(0.5, 1.0, 'Gene correlations in all chromosomes')"
      ]
     },
     "execution_count": 56,
     "metadata": {},
     "output_type": "execute_result"
    },
    {
     "data": {
      "image/png": "[encoded data removed]",
      "text/plain": [
       "<Figure size 720x720 with 2 Axes>"
      ]
     },
     "metadata": {
      "needs_background": "light"
     },
     "output_type": "display_data"
    }
   ],
   "source": [
    "f, ax = plt.subplots(figsize=(10, 10))\n",
    "sns.heatmap(\n",
    "    full_corr_matrix,\n",
    "    xticklabels=False,\n",
    "    yticklabels=False,\n",
    "    square=True,\n",
    "    vmin=vmin_val,\n",
    "    vmax=vmax_val,\n",
    "    cmap=\"rocket_r\",\n",
    "    ax=ax,\n",
    ")\n",
    "ax.set_title(\"Gene correlations in all chromosomes\")"
   ]
  },
  {
   "cell_type": "markdown",
   "id": "5a1b7488-1c3b-4c8b-b619-3b063b3f83c6",
   "metadata": {
    "papermill": {
     "duration": 0.021015,
     "end_time": "2022-08-29T14:33:07.234139",
     "exception": false,
     "start_time": "2022-08-29T14:33:07.213124",
     "status": "completed"
    },
    "tags": []
   },
   "source": [
    "## On nonzero correlations"
   ]
  },
  {
   "cell_type": "code",
   "execution_count": 57,
   "id": "0a07752e-b62f-4f01-af30-847efe9bba54",
   "metadata": {
    "execution": {
     "iopub.execute_input": "2022-08-29T14:33:07.277105Z",
     "iopub.status.busy": "2022-08-29T14:33:07.276906Z",
     "iopub.status.idle": "2022-08-29T14:33:07.349605Z",
     "shell.execute_reply": "2022-08-29T14:33:07.349024Z"
    },
    "papermill": {
     "duration": 0.096861,
     "end_time": "2022-08-29T14:33:07.351465",
     "exception": false,
     "start_time": "2022-08-29T14:33:07.254604",
     "status": "completed"
    },
    "tags": []
   },
   "outputs": [],
   "source": [
    "nonzero_corrs = full_corr_matrix_flat[full_corr_matrix_flat > 0.0]"
   ]
  },
  {
   "cell_type": "code",
   "execution_count": 58,
   "id": "3b509dde-e4ec-4e14-a7d5-09e3fe584027",
   "metadata": {
    "execution": {
     "iopub.execute_input": "2022-08-29T14:33:07.396323Z",
     "iopub.status.busy": "2022-08-29T14:33:07.396087Z",
     "iopub.status.idle": "2022-08-29T14:33:07.414452Z",
     "shell.execute_reply": "2022-08-29T14:33:07.413950Z"
    },
    "papermill": {
     "duration": 0.042645,
     "end_time": "2022-08-29T14:33:07.416054",
     "exception": false,
     "start_time": "2022-08-29T14:33:07.373409",
     "status": "completed"
    },
    "tags": []
   },
   "outputs": [],
   "source": [
    "_corr_mat = nonzero_corrs"
   ]
  },
  {
   "cell_type": "code",
   "execution_count": 59,
   "id": "427cd6b6-411c-4bce-9129-f7e128c9992f",
   "metadata": {
    "execution": {
     "iopub.execute_input": "2022-08-29T14:33:07.461921Z",
     "iopub.status.busy": "2022-08-29T14:33:07.461687Z",
     "iopub.status.idle": "2022-08-29T14:33:07.481083Z",
     "shell.execute_reply": "2022-08-29T14:33:07.480542Z"
    },
    "papermill": {
     "duration": 0.044005,
     "end_time": "2022-08-29T14:33:07.482606",
     "exception": false,
     "start_time": "2022-08-29T14:33:07.438601",
     "status": "completed"
    },
    "tags": []
   },
   "outputs": [
    {
     "data": {
      "text/plain": [
       "(1178737,)"
      ]
     },
     "execution_count": 59,
     "metadata": {},
     "output_type": "execute_result"
    }
   ],
   "source": [
    "_corr_mat.shape"
   ]
  },
  {
   "cell_type": "code",
   "execution_count": 60,
   "id": "684ee3aa-d1bf-4f39-883e-1c9cda28f332",
   "metadata": {
    "execution": {
     "iopub.execute_input": "2022-08-29T14:33:07.528344Z",
     "iopub.status.busy": "2022-08-29T14:33:07.528139Z",
     "iopub.status.idle": "2022-08-29T14:33:07.548227Z",
     "shell.execute_reply": "2022-08-29T14:33:07.547688Z"
    },
    "papermill": {
     "duration": 0.044929,
     "end_time": "2022-08-29T14:33:07.549760",
     "exception": false,
     "start_time": "2022-08-29T14:33:07.504831",
     "status": "completed"
    },
    "tags": []
   },
   "outputs": [
    {
     "data": {
      "text/plain": [
       "ENSG00000188290  ENSG00000188976    0.111648\n",
       "ENSG00000187608  ENSG00000188976    0.187064\n",
       "                 ENSG00000188290    0.760347\n",
       "ENSG00000188157  ENSG00000188976    0.083062\n",
       "                 ENSG00000188290    0.394843\n",
       "dtype: float64"
      ]
     },
     "execution_count": 60,
     "metadata": {},
     "output_type": "execute_result"
    }
   ],
   "source": [
    "_corr_mat.head()"
   ]
  },
  {
   "cell_type": "code",
   "execution_count": 61,
   "id": "87467e53-a225-48f9-86ef-d00978925faa",
   "metadata": {
    "execution": {
     "iopub.execute_input": "2022-08-29T14:33:07.594084Z",
     "iopub.status.busy": "2022-08-29T14:33:07.593825Z",
     "iopub.status.idle": "2022-08-29T14:33:07.660224Z",
     "shell.execute_reply": "2022-08-29T14:33:07.659646Z"
    },
    "papermill": {
     "duration": 0.09069,
     "end_time": "2022-08-29T14:33:07.661838",
     "exception": false,
     "start_time": "2022-08-29T14:33:07.571148",
     "status": "completed"
    },
    "tags": []
   },
   "outputs": [
    {
     "data": {
      "text/plain": [
       "count                1178737.0\n",
       "mean      0.008209100625685212\n",
       "std       0.028325428653142557\n",
       "min      1.772568775271758e-10\n",
       "25%       0.003715984626143291\n",
       "50%       0.005735987283175417\n",
       "75%       0.008067026953006302\n",
       "max         0.9999975042224853\n",
       "dtype: object"
      ]
     },
     "execution_count": 61,
     "metadata": {},
     "output_type": "execute_result"
    }
   ],
   "source": [
    "_corr_mat.describe().apply(str)"
   ]
  },
  {
   "cell_type": "code",
   "execution_count": 62,
   "id": "ece1b4b2-1764-4893-bb0e-837f5d1a6677",
   "metadata": {
    "execution": {
     "iopub.execute_input": "2022-08-29T14:33:07.709302Z",
     "iopub.status.busy": "2022-08-29T14:33:07.709081Z",
     "iopub.status.idle": "2022-08-29T14:33:07.769146Z",
     "shell.execute_reply": "2022-08-29T14:33:07.768579Z"
    },
    "papermill": {
     "duration": 0.085668,
     "end_time": "2022-08-29T14:33:07.770759",
     "exception": false,
     "start_time": "2022-08-29T14:33:07.685091",
     "status": "completed"
    },
    "tags": []
   },
   "outputs": [
    {
     "data": {
      "text/plain": [
       "0.00    1.772569e-10\n",
       "0.05    1.449333e-03\n",
       "0.10    2.192049e-03\n",
       "0.15    2.768914e-03\n",
       "0.20    3.267172e-03\n",
       "0.25    3.715985e-03\n",
       "0.30    4.139756e-03\n",
       "0.35    4.544780e-03\n",
       "0.40    4.940980e-03\n",
       "0.45    5.337907e-03\n",
       "0.50    5.735987e-03\n",
       "0.55    6.146002e-03\n",
       "0.60    6.571381e-03\n",
       "0.65    7.029993e-03\n",
       "0.70    7.522980e-03\n",
       "0.75    8.067027e-03\n",
       "0.80    8.699646e-03\n",
       "0.85    9.473720e-03\n",
       "0.90    1.051994e-02\n",
       "0.95    1.232708e-02\n",
       "dtype: float64"
      ]
     },
     "metadata": {},
     "output_type": "display_data"
    }
   ],
   "source": [
    "display(_corr_mat.quantile(np.arange(0, 1, 0.05)))"
   ]
  },
  {
   "cell_type": "code",
   "execution_count": 63,
   "id": "3543f16e-1453-44e5-ab68-0d03450e559b",
   "metadata": {
    "execution": {
     "iopub.execute_input": "2022-08-29T14:33:07.817758Z",
     "iopub.status.busy": "2022-08-29T14:33:07.817536Z",
     "iopub.status.idle": "2022-08-29T14:33:07.855243Z",
     "shell.execute_reply": "2022-08-29T14:33:07.854684Z"
    },
    "papermill": {
     "duration": 0.063029,
     "end_time": "2022-08-29T14:33:07.856870",
     "exception": false,
     "start_time": "2022-08-29T14:33:07.793841",
     "status": "completed"
    },
    "tags": []
   },
   "outputs": [
    {
     "data": {
      "text/plain": [
       "0.0000    1.772569e-10\n",
       "0.0001    1.377658e-06\n",
       "0.0002    4.361721e-06\n",
       "0.0003    8.485476e-06\n",
       "0.0004    1.294010e-05\n",
       "0.0005    1.772191e-05\n",
       "0.0006    2.349546e-05\n",
       "0.0007    2.977675e-05\n",
       "0.0008    3.509236e-05\n",
       "0.0009    4.026155e-05\n",
       "dtype: float64"
      ]
     },
     "metadata": {},
     "output_type": "display_data"
    }
   ],
   "source": [
    "display(_corr_mat.quantile(np.arange(0, 0.001, 0.0001)))"
   ]
  },
  {
   "cell_type": "code",
   "execution_count": 64,
   "id": "bb34d782-9aaa-48ce-b526-8323522166a3",
   "metadata": {
    "execution": {
     "iopub.execute_input": "2022-08-29T14:33:07.904640Z",
     "iopub.status.busy": "2022-08-29T14:33:07.904424Z",
     "iopub.status.idle": "2022-08-29T14:33:07.930219Z",
     "shell.execute_reply": "2022-08-29T14:33:07.929655Z"
    },
    "papermill": {
     "duration": 0.051569,
     "end_time": "2022-08-29T14:33:07.931839",
     "exception": false,
     "start_time": "2022-08-29T14:33:07.880270",
     "status": "completed"
    },
    "tags": []
   },
   "outputs": [
    {
     "data": {
      "text/plain": [
       "0.9990    0.496640\n",
       "0.9991    0.515398\n",
       "0.9992    0.534244\n",
       "0.9993    0.558116\n",
       "0.9994    0.578373\n",
       "0.9995    0.607361\n",
       "0.9996    0.641940\n",
       "0.9997    0.677050\n",
       "0.9998    0.707566\n",
       "0.9999    0.793635\n",
       "1.0000    0.999998\n",
       "dtype: float64"
      ]
     },
     "metadata": {},
     "output_type": "display_data"
    }
   ],
   "source": [
    "display(_corr_mat.quantile(np.arange(0.999, 1.0, 0.0001)))"
   ]
  },
  {
   "cell_type": "markdown",
   "id": "fd4ce75c-e759-48b5-9b2b-584438302fff",
   "metadata": {
    "papermill": {
     "duration": 0.023244,
     "end_time": "2022-08-29T14:33:07.978712",
     "exception": false,
     "start_time": "2022-08-29T14:33:07.955468",
     "status": "completed"
    },
    "tags": []
   },
   "source": [
    "### Plot: distribution"
   ]
  },
  {
   "cell_type": "code",
   "execution_count": 65,
   "id": "7da6aa50-81da-4f75-9d54-4fad6a3fb5a5",
   "metadata": {
    "execution": {
     "iopub.execute_input": "2022-08-29T14:33:08.027436Z",
     "iopub.status.busy": "2022-08-29T14:33:08.027225Z",
     "iopub.status.idle": "2022-08-29T14:33:40.912040Z",
     "shell.execute_reply": "2022-08-29T14:33:40.911379Z"
    },
    "papermill": {
     "duration": 32.917411,
     "end_time": "2022-08-29T14:33:40.919135",
     "exception": false,
     "start_time": "2022-08-29T14:33:08.001724",
     "status": "completed"
    },
    "tags": []
   },
   "outputs": [
    {
     "data": {
      "image/png": "[encoded data removed]",
      "text/plain": [
       "<Figure size 504x504 with 1 Axes>"
      ]
     },
     "metadata": {
      "needs_background": "light"
     },
     "output_type": "display_data"
    }
   ],
   "source": [
    "with sns.plotting_context(\"paper\", font_scale=1.5):\n",
    "    g = sns.displot(_corr_mat, kde=True, height=7)\n",
    "    g.ax.set_title(\"Distribution of gene correlation values in all chromosomes\")"
   ]
  },
  {
   "cell_type": "code",
   "execution_count": null,
   "id": "38cf09b7",
   "metadata": {
    "papermill": {
     "duration": 0.022043,
     "end_time": "2022-08-29T14:33:40.962915",
     "exception": false,
     "start_time": "2022-08-29T14:33:40.940872",
     "status": "completed"
    },
    "tags": []
   },
   "outputs": [],
   "source": []
  }
 ],
 "metadata": {
  "jupytext": {
   "cell_metadata_filter": "all,-execution,-papermill,-trusted",
   "formats": "ipynb,py//py:percent"
  },
  "kernelspec": {
   "display_name": "Python 3 (ipykernel)",
   "language": "python",
   "name": "python3"
  },
  "language_info": {
   "codemirror_mode": {
    "name": "ipython",
    "version": 3
   },
   "file_extension": ".py",
   "mimetype": "text/x-python",
   "name": "python",
   "nbconvert_exporter": "python",
   "pygments_lexer": "ipython3",
   "version": "3.8.13"
  },
  "papermill": {
   "default_parameters": {},
   "duration": 273.525816,
   "end_time": "2022-08-29T14:33:42.341510",
   "environment_variables": {},
   "exception": null,
   "input_path": "nbs/15_gsa_gls/15-postprocess_gene_expr_correlations.ipynb",
   "output_path": "nbs/15_gsa_gls/gene_corrs/cohorts/phenomexcan_astle/gtex_v8/mashr/15-postprocess_gene_expr_correlations.run.ipynb",
   "parameters": {
    "COHORT_NAME": "phenomexcan_astle",
    "EQTL_MODEL": "MASHR",
    "REFERENCE_PANEL": "GTEX_V8"
   },
   "start_time": "2022-08-29T14:29:08.815694",
   "version": "2.2.2"
  }
 },
 "nbformat": 4,
 "nbformat_minor": 5
}
