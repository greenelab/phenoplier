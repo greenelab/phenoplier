{
 "cells": [
  {
   "cell_type": "markdown",
   "id": "7a6632fb",
   "metadata": {
    "papermill": {
     "duration": 0.019707,
     "end_time": "2022-08-27T06:01:19.422725",
     "exception": false,
     "start_time": "2022-08-27T06:01:19.403018",
     "status": "completed"
    },
    "tags": []
   },
   "source": [
    "# Description"
   ]
  },
  {
   "cell_type": "markdown",
   "id": "7097c346",
   "metadata": {
    "papermill": {
     "duration": 0.01928,
     "end_time": "2022-08-27T06:01:19.460593",
     "exception": false,
     "start_time": "2022-08-27T06:01:19.441313",
     "status": "completed"
    },
    "tags": []
   },
   "source": [
    "(Please, take a look at the README.md file in this directory for instructions on how to run this notebook)\n",
    "\n",
    "This notebook computes predicted expression correlations between all genes in the MultiPLIER models.\n",
    "\n",
    "It also has a parameter set for papermill to run on a single chromosome to run in parallel (see under `Settings` below).\n",
    "\n",
    "This notebook is not directly run. See README.md."
   ]
  },
  {
   "cell_type": "markdown",
   "id": "c61d8427",
   "metadata": {
    "papermill": {
     "duration": 0.014201,
     "end_time": "2022-08-27T06:01:19.491223",
     "exception": false,
     "start_time": "2022-08-27T06:01:19.477022",
     "status": "completed"
    },
    "tags": []
   },
   "source": [
    "# Modules"
   ]
  },
  {
   "cell_type": "code",
   "execution_count": 1,
   "id": "bbc0234f",
   "metadata": {
    "execution": {
     "iopub.execute_input": "2022-08-27T06:01:19.527477Z",
     "iopub.status.busy": "2022-08-27T06:01:19.527138Z",
     "iopub.status.idle": "2022-08-27T06:01:19.552744Z",
     "shell.execute_reply": "2022-08-27T06:01:19.552054Z"
    },
    "papermill": {
     "duration": 0.046961,
     "end_time": "2022-08-27T06:01:19.555181",
     "exception": false,
     "start_time": "2022-08-27T06:01:19.508220",
     "status": "completed"
    },
    "tags": []
   },
   "outputs": [],
   "source": [
    "%load_ext autoreload\n",
    "%autoreload 2"
   ]
  },
  {
   "cell_type": "code",
   "execution_count": 2,
   "id": "1d5f5a59",
   "metadata": {
    "execution": {
     "iopub.execute_input": "2022-08-27T06:01:19.579379Z",
     "iopub.status.busy": "2022-08-27T06:01:19.579134Z",
     "iopub.status.idle": "2022-08-27T06:01:21.716047Z",
     "shell.execute_reply": "2022-08-27T06:01:21.715420Z"
    },
    "papermill": {
     "duration": 2.152213,
     "end_time": "2022-08-27T06:01:21.718064",
     "exception": false,
     "start_time": "2022-08-27T06:01:19.565851",
     "status": "completed"
    },
    "tags": []
   },
   "outputs": [],
   "source": [
    "from random import sample, seed\n",
    "import warnings\n",
    "from pathlib import Path\n",
    "import pickle\n",
    "import traceback\n",
    "\n",
    "import numpy as np\n",
    "from scipy.spatial.distance import squareform\n",
    "import pandas as pd\n",
    "from tqdm import tqdm\n",
    "import matplotlib.pyplot as plt\n",
    "import seaborn as sns\n",
    "\n",
    "import conf\n",
    "from entity import Gene"
   ]
  },
  {
   "cell_type": "markdown",
   "id": "1eac24b5",
   "metadata": {
    "papermill": {
     "duration": 0.021921,
     "end_time": "2022-08-27T06:01:21.792194",
     "exception": false,
     "start_time": "2022-08-27T06:01:21.770273",
     "status": "completed"
    },
    "tags": []
   },
   "source": [
    "# Settings"
   ]
  },
  {
   "cell_type": "code",
   "execution_count": 3,
   "id": "ca4560ba",
   "metadata": {
    "execution": {
     "iopub.execute_input": "2022-08-27T06:01:21.859021Z",
     "iopub.status.busy": "2022-08-27T06:01:21.858745Z",
     "iopub.status.idle": "2022-08-27T06:01:21.887571Z",
     "shell.execute_reply": "2022-08-27T06:01:21.887038Z"
    },
    "papermill": {
     "duration": 0.073153,
     "end_time": "2022-08-27T06:01:21.889200",
     "exception": false,
     "start_time": "2022-08-27T06:01:21.816047",
     "status": "completed"
    },
    "tags": [
     "parameters"
    ]
   },
   "outputs": [],
   "source": [
    "# a cohort name (it could be something like UK_BIOBANK, etc)\n",
    "COHORT_NAME = None\n",
    "\n",
    "# reference panel such as 1000G or GTEX_V8\n",
    "REFERENCE_PANEL = None\n",
    "\n",
    "# predictions models such as MASHR or ELASTIC_NET\n",
    "EQTL_MODEL = None\n",
    "\n",
    "# this is the default value used in S-MultiXcan to select the\n",
    "# top principal components of the expression correlation matrix\n",
    "SMULTIXCAN_CONDITION_NUMBER = 30\n",
    "\n",
    "# specifies a single chromosome value\n",
    "CHROMOSOME = None\n",
    "\n",
    "# If True, computes the correlation between closeby genes only;\n",
    "# otherwise, it computes correlations for all genes in a chromosome\n",
    "COMPUTE_CORRELATIONS_WITHIN_DISTANCE = False\n",
    "\n",
    "# if True, then it will continue if a gene pair correlation fails,\n",
    "# printing the warning/error for debugging. If False, any warning/error\n",
    "# will be thrown\n",
    "DEBUG_MODE = False"
   ]
  },
  {
   "cell_type": "code",
   "execution_count": 4,
   "id": "d6d79111",
   "metadata": {
    "execution": {
     "iopub.execute_input": "2022-08-27T06:01:21.979494Z",
     "iopub.status.busy": "2022-08-27T06:01:21.979154Z",
     "iopub.status.idle": "2022-08-27T06:01:22.006017Z",
     "shell.execute_reply": "2022-08-27T06:01:22.005200Z"
    },
    "papermill": {
     "duration": 0.079034,
     "end_time": "2022-08-27T06:01:22.008374",
     "exception": false,
     "start_time": "2022-08-27T06:01:21.929340",
     "status": "completed"
    },
    "tags": [
     "injected-parameters"
    ]
   },
   "outputs": [],
   "source": [
    "# Parameters\n",
    "COHORT_NAME = \"phenomexcan_astle\"\n",
    "REFERENCE_PANEL = \"GTEX_V8\"\n",
    "EQTL_MODEL = \"MASHR\"\n",
    "CHROMOSOME = 16\n"
   ]
  },
  {
   "cell_type": "code",
   "execution_count": 5,
   "id": "3190631f-27fc-480f-b18e-571d580425a5",
   "metadata": {
    "execution": {
     "iopub.execute_input": "2022-08-27T06:01:22.112884Z",
     "iopub.status.busy": "2022-08-27T06:01:22.112506Z",
     "iopub.status.idle": "2022-08-27T06:01:22.147934Z",
     "shell.execute_reply": "2022-08-27T06:01:22.147107Z"
    },
    "papermill": {
     "duration": 0.094147,
     "end_time": "2022-08-27T06:01:22.150336",
     "exception": false,
     "start_time": "2022-08-27T06:01:22.056189",
     "status": "completed"
    },
    "tags": []
   },
   "outputs": [
    {
     "data": {
      "text/plain": [
       "'Cohort name: phenomexcan_astle'"
      ]
     },
     "metadata": {},
     "output_type": "display_data"
    }
   ],
   "source": [
    "assert COHORT_NAME is not None and len(COHORT_NAME) > 0, \"A cohort name must be given\"\n",
    "\n",
    "COHORT_NAME = COHORT_NAME.lower()\n",
    "display(f\"Cohort name: {COHORT_NAME}\")"
   ]
  },
  {
   "cell_type": "code",
   "execution_count": 6,
   "id": "f53ba19b-0f93-4fa2-a047-63b375939d1a",
   "metadata": {
    "execution": {
     "iopub.execute_input": "2022-08-27T06:01:22.261151Z",
     "iopub.status.busy": "2022-08-27T06:01:22.260725Z",
     "iopub.status.idle": "2022-08-27T06:01:22.294403Z",
     "shell.execute_reply": "2022-08-27T06:01:22.293534Z"
    },
    "papermill": {
     "duration": 0.096712,
     "end_time": "2022-08-27T06:01:22.296890",
     "exception": false,
     "start_time": "2022-08-27T06:01:22.200178",
     "status": "completed"
    },
    "tags": []
   },
   "outputs": [
    {
     "data": {
      "text/plain": [
       "'Reference panel: GTEX_V8'"
      ]
     },
     "metadata": {},
     "output_type": "display_data"
    }
   ],
   "source": [
    "assert (\n",
    "    REFERENCE_PANEL is not None and len(REFERENCE_PANEL) > 0\n",
    "), \"A reference panel must be given\"\n",
    "\n",
    "display(f\"Reference panel: {REFERENCE_PANEL}\")"
   ]
  },
  {
   "cell_type": "code",
   "execution_count": 7,
   "id": "e024d130-c139-429a-9c6e-ccf149e297b0",
   "metadata": {
    "execution": {
     "iopub.execute_input": "2022-08-27T06:01:22.401517Z",
     "iopub.status.busy": "2022-08-27T06:01:22.401027Z",
     "iopub.status.idle": "2022-08-27T06:01:22.442500Z",
     "shell.execute_reply": "2022-08-27T06:01:22.441517Z"
    },
    "papermill": {
     "duration": 0.099892,
     "end_time": "2022-08-27T06:01:22.445313",
     "exception": false,
     "start_time": "2022-08-27T06:01:22.345421",
     "status": "completed"
    },
    "tags": []
   },
   "outputs": [
    {
     "data": {
      "text/plain": [
       "'eQTL model: MASHR) / mashr_'"
      ]
     },
     "metadata": {},
     "output_type": "display_data"
    }
   ],
   "source": [
    "assert (\n",
    "    EQTL_MODEL is not None and len(EQTL_MODEL) > 0\n",
    "), \"A prediction/eQTL model must be given\"\n",
    "\n",
    "EQTL_MODEL_FILES_PREFIX = conf.PHENOMEXCAN[\"PREDICTION_MODELS\"][f\"{EQTL_MODEL}_PREFIX\"]\n",
    "display(f\"eQTL model: {EQTL_MODEL}) / {EQTL_MODEL_FILES_PREFIX}\")"
   ]
  },
  {
   "cell_type": "code",
   "execution_count": 8,
   "id": "552a7f63-a18c-4d3e-bb6a-94f99b431291",
   "metadata": {
    "execution": {
     "iopub.execute_input": "2022-08-27T06:01:22.540842Z",
     "iopub.status.busy": "2022-08-27T06:01:22.540570Z",
     "iopub.status.idle": "2022-08-27T06:01:22.564700Z",
     "shell.execute_reply": "2022-08-27T06:01:22.564045Z"
    },
    "papermill": {
     "duration": 0.07397,
     "end_time": "2022-08-27T06:01:22.566573",
     "exception": false,
     "start_time": "2022-08-27T06:01:22.492603",
     "status": "completed"
    },
    "tags": []
   },
   "outputs": [
    {
     "data": {
      "text/plain": [
       "'S-MultiXcan condition number: 30'"
      ]
     },
     "metadata": {},
     "output_type": "display_data"
    }
   ],
   "source": [
    "assert (\n",
    "    SMULTIXCAN_CONDITION_NUMBER is not None and SMULTIXCAN_CONDITION_NUMBER > 0\n",
    "), \"The S-MultiXcan condition number (positive integer) must be given\"\n",
    "\n",
    "display(f\"S-MultiXcan condition number: {SMULTIXCAN_CONDITION_NUMBER}\")"
   ]
  },
  {
   "cell_type": "code",
   "execution_count": 9,
   "id": "f34a336f-548e-4afe-8955-90eaea4f42c6",
   "metadata": {
    "execution": {
     "iopub.execute_input": "2022-08-27T06:01:22.662787Z",
     "iopub.status.busy": "2022-08-27T06:01:22.662297Z",
     "iopub.status.idle": "2022-08-27T06:01:22.702976Z",
     "shell.execute_reply": "2022-08-27T06:01:22.701960Z"
    },
    "papermill": {
     "duration": 0.095971,
     "end_time": "2022-08-27T06:01:22.705760",
     "exception": false,
     "start_time": "2022-08-27T06:01:22.609789",
     "status": "completed"
    },
    "tags": []
   },
   "outputs": [
    {
     "data": {
      "text/plain": [
       "'Working on chromosome 16'"
      ]
     },
     "metadata": {},
     "output_type": "display_data"
    }
   ],
   "source": [
    "assert CHROMOSOME is not None and (\n",
    "    1 <= CHROMOSOME <= 22\n",
    "), \"You have to select one chromosome (format: number between 1 and 22)\"\n",
    "\n",
    "# CHROMOSOME = str(CHROMOSOME)\n",
    "display(f\"Working on chromosome {CHROMOSOME}\")"
   ]
  },
  {
   "cell_type": "code",
   "execution_count": 10,
   "id": "ab8e96e8-06b5-4363-9dcd-dc4d78cc27f7",
   "metadata": {
    "execution": {
     "iopub.execute_input": "2022-08-27T06:01:22.794815Z",
     "iopub.status.busy": "2022-08-27T06:01:22.794533Z",
     "iopub.status.idle": "2022-08-27T06:01:22.819353Z",
     "shell.execute_reply": "2022-08-27T06:01:22.818677Z"
    },
    "papermill": {
     "duration": 0.069902,
     "end_time": "2022-08-27T06:01:22.821283",
     "exception": false,
     "start_time": "2022-08-27T06:01:22.751381",
     "status": "completed"
    },
    "tags": []
   },
   "outputs": [
    {
     "data": {
      "text/plain": [
       "'Compute correlation within distance False'"
      ]
     },
     "metadata": {},
     "output_type": "display_data"
    }
   ],
   "source": [
    "display(f\"Compute correlation within distance {COMPUTE_CORRELATIONS_WITHIN_DISTANCE}\")"
   ]
  },
  {
   "cell_type": "code",
   "execution_count": 11,
   "id": "396392dc-0340-4540-9b02-e182b833f909",
   "metadata": {
    "execution": {
     "iopub.execute_input": "2022-08-27T06:01:22.929584Z",
     "iopub.status.busy": "2022-08-27T06:01:22.929130Z",
     "iopub.status.idle": "2022-08-27T06:01:23.051202Z",
     "shell.execute_reply": "2022-08-27T06:01:23.050094Z"
    },
    "papermill": {
     "duration": 0.182736,
     "end_time": "2022-08-27T06:01:23.054354",
     "exception": false,
     "start_time": "2022-08-27T06:01:22.871618",
     "status": "completed"
    },
    "tags": []
   },
   "outputs": [
    {
     "data": {
      "text/plain": [
       "'Using output dir base: /project/ritchie20/projects/phenoplier/base/results/gls/gene_corrs/cohorts/phenomexcan_astle/gtex_v8/mashr'"
      ]
     },
     "metadata": {},
     "output_type": "display_data"
    }
   ],
   "source": [
    "OUTPUT_DIR_BASE = (\n",
    "    conf.RESULTS[\"GLS\"]\n",
    "    / \"gene_corrs\"\n",
    "    / \"cohorts\"\n",
    "    / COHORT_NAME\n",
    "    / REFERENCE_PANEL.lower()\n",
    "    / EQTL_MODEL.lower()\n",
    ")\n",
    "OUTPUT_DIR_BASE.mkdir(parents=True, exist_ok=True)\n",
    "\n",
    "display(f\"Using output dir base: {OUTPUT_DIR_BASE}\")"
   ]
  },
  {
   "cell_type": "markdown",
   "id": "d2ba085e",
   "metadata": {
    "papermill": {
     "duration": 0.045354,
     "end_time": "2022-08-27T06:01:23.152568",
     "exception": false,
     "start_time": "2022-08-27T06:01:23.107214",
     "status": "completed"
    },
    "tags": []
   },
   "source": [
    "# Load data"
   ]
  },
  {
   "cell_type": "markdown",
   "id": "7dcb8db7",
   "metadata": {
    "papermill": {
     "duration": 0.045494,
     "end_time": "2022-08-27T06:01:23.236247",
     "exception": false,
     "start_time": "2022-08-27T06:01:23.190753",
     "status": "completed"
    },
    "tags": []
   },
   "source": [
    "## GWAS variants"
   ]
  },
  {
   "cell_type": "code",
   "execution_count": 12,
   "id": "29434c4e-8cd3-4b9b-82e4-b5a251d9dd19",
   "metadata": {
    "execution": {
     "iopub.execute_input": "2022-08-27T06:01:23.339677Z",
     "iopub.status.busy": "2022-08-27T06:01:23.339338Z",
     "iopub.status.idle": "2022-08-27T06:01:26.723075Z",
     "shell.execute_reply": "2022-08-27T06:01:26.722124Z"
    },
    "papermill": {
     "duration": 3.444153,
     "end_time": "2022-08-27T06:01:26.725270",
     "exception": false,
     "start_time": "2022-08-27T06:01:23.281117",
     "status": "completed"
    },
    "tags": []
   },
   "outputs": [],
   "source": [
    "with open(OUTPUT_DIR_BASE / \"gwas_variant_ids.pkl\", \"rb\") as handle:\n",
    "    gwas_variants_ids_set = pickle.load(handle)"
   ]
  },
  {
   "cell_type": "code",
   "execution_count": 13,
   "id": "b9d9dec2-4a76-4bf9-bde2-e24c95acb8a0",
   "metadata": {
    "execution": {
     "iopub.execute_input": "2022-08-27T06:01:26.747522Z",
     "iopub.status.busy": "2022-08-27T06:01:26.747301Z",
     "iopub.status.idle": "2022-08-27T06:01:26.770765Z",
     "shell.execute_reply": "2022-08-27T06:01:26.770267Z"
    },
    "papermill": {
     "duration": 0.035284,
     "end_time": "2022-08-27T06:01:26.772280",
     "exception": false,
     "start_time": "2022-08-27T06:01:26.736996",
     "status": "completed"
    },
    "tags": []
   },
   "outputs": [
    {
     "data": {
      "text/plain": [
       "8871979"
      ]
     },
     "execution_count": 13,
     "metadata": {},
     "output_type": "execute_result"
    }
   ],
   "source": [
    "len(gwas_variants_ids_set)"
   ]
  },
  {
   "cell_type": "code",
   "execution_count": 14,
   "id": "4235b06a-6034-4ee4-a0a3-2ae35d122418",
   "metadata": {
    "execution": {
     "iopub.execute_input": "2022-08-27T06:01:26.793161Z",
     "iopub.status.busy": "2022-08-27T06:01:26.792956Z",
     "iopub.status.idle": "2022-08-27T06:01:27.436712Z",
     "shell.execute_reply": "2022-08-27T06:01:27.436134Z"
    },
    "papermill": {
     "duration": 0.656694,
     "end_time": "2022-08-27T06:01:27.438347",
     "exception": false,
     "start_time": "2022-08-27T06:01:26.781653",
     "status": "completed"
    },
    "tags": []
   },
   "outputs": [
    {
     "data": {
      "text/plain": [
       "['chr6_107162819_G_A_b38',\n",
       " 'chr2_228132815_C_T_b38',\n",
       " 'chr1_158375130_GA_G_b38',\n",
       " 'chr3_80140884_G_A_b38',\n",
       " 'chr5_29296911_G_A_b38']"
      ]
     },
     "execution_count": 14,
     "metadata": {},
     "output_type": "execute_result"
    }
   ],
   "source": [
    "list(gwas_variants_ids_set)[:5]"
   ]
  },
  {
   "cell_type": "markdown",
   "id": "07866999-2305-41f9-a144-e69c9122c212",
   "metadata": {
    "papermill": {
     "duration": 0.014681,
     "end_time": "2022-08-27T06:01:27.467827",
     "exception": false,
     "start_time": "2022-08-27T06:01:27.453146",
     "status": "completed"
    },
    "tags": []
   },
   "source": [
    "## S-PrediXcan tissue models"
   ]
  },
  {
   "cell_type": "code",
   "execution_count": 15,
   "id": "780611d9-77c8-405f-90a4-f271f7b09397",
   "metadata": {
    "execution": {
     "iopub.execute_input": "2022-08-27T06:01:27.516038Z",
     "iopub.status.busy": "2022-08-27T06:01:27.515812Z",
     "iopub.status.idle": "2022-08-27T06:01:28.391325Z",
     "shell.execute_reply": "2022-08-27T06:01:28.390678Z"
    },
    "papermill": {
     "duration": 0.891223,
     "end_time": "2022-08-27T06:01:28.393300",
     "exception": false,
     "start_time": "2022-08-27T06:01:27.502077",
     "status": "completed"
    },
    "tags": []
   },
   "outputs": [],
   "source": [
    "spredixcan_genes_models = pd.read_pickle(OUTPUT_DIR_BASE / \"gene_tissues.pkl\")"
   ]
  },
  {
   "cell_type": "code",
   "execution_count": 16,
   "id": "726dd1f6-9557-4225-91fa-b3b879ea96e1",
   "metadata": {
    "execution": {
     "iopub.execute_input": "2022-08-27T06:01:28.418948Z",
     "iopub.status.busy": "2022-08-27T06:01:28.418722Z",
     "iopub.status.idle": "2022-08-27T06:01:28.440114Z",
     "shell.execute_reply": "2022-08-27T06:01:28.439579Z"
    },
    "papermill": {
     "duration": 0.035713,
     "end_time": "2022-08-27T06:01:28.441613",
     "exception": false,
     "start_time": "2022-08-27T06:01:28.405900",
     "status": "completed"
    },
    "tags": []
   },
   "outputs": [
    {
     "data": {
      "text/plain": [
       "(6450, 3)"
      ]
     },
     "execution_count": 16,
     "metadata": {},
     "output_type": "execute_result"
    }
   ],
   "source": [
    "spredixcan_genes_models.shape"
   ]
  },
  {
   "cell_type": "code",
   "execution_count": 17,
   "id": "944a1b48-222c-4eb0-b252-b9de2cbca215",
   "metadata": {
    "execution": {
     "iopub.execute_input": "2022-08-27T06:01:28.469185Z",
     "iopub.status.busy": "2022-08-27T06:01:28.468982Z",
     "iopub.status.idle": "2022-08-27T06:01:28.502863Z",
     "shell.execute_reply": "2022-08-27T06:01:28.502358Z"
    },
    "papermill": {
     "duration": 0.047694,
     "end_time": "2022-08-27T06:01:28.504411",
     "exception": false,
     "start_time": "2022-08-27T06:01:28.456717",
     "status": "completed"
    },
    "tags": []
   },
   "outputs": [
    {
     "data": {
      "text/html": [
       "<div>\n",
       "<style scoped>\n",
       "    .dataframe tbody tr th:only-of-type {\n",
       "        vertical-align: middle;\n",
       "    }\n",
       "\n",
       "    .dataframe tbody tr th {\n",
       "        vertical-align: top;\n",
       "    }\n",
       "\n",
       "    .dataframe thead th {\n",
       "        text-align: right;\n",
       "    }\n",
       "</style>\n",
       "<table border=\"1\" class=\"dataframe\">\n",
       "  <thead>\n",
       "    <tr style=\"text-align: right;\">\n",
       "      <th></th>\n",
       "      <th>gene_name</th>\n",
       "      <th>tissue</th>\n",
       "      <th>n_tissues</th>\n",
       "    </tr>\n",
       "    <tr>\n",
       "      <th>gene_id</th>\n",
       "      <th></th>\n",
       "      <th></th>\n",
       "      <th></th>\n",
       "    </tr>\n",
       "  </thead>\n",
       "  <tbody>\n",
       "    <tr>\n",
       "      <th>ENSG00000000419</th>\n",
       "      <td>DPM1</td>\n",
       "      <td>(Brain_Hypothalamus, Cells_Cultured_fibroblast...</td>\n",
       "      <td>3</td>\n",
       "    </tr>\n",
       "    <tr>\n",
       "      <th>ENSG00000000938</th>\n",
       "      <td>FGR</td>\n",
       "      <td>(Thyroid, Esophagus_Mucosa, Brain_Frontal_Cort...</td>\n",
       "      <td>36</td>\n",
       "    </tr>\n",
       "    <tr>\n",
       "      <th>ENSG00000000971</th>\n",
       "      <td>CFH</td>\n",
       "      <td>(Thyroid, Brain_Substantia_nigra, Kidney_Corte...</td>\n",
       "      <td>34</td>\n",
       "    </tr>\n",
       "    <tr>\n",
       "      <th>ENSG00000001084</th>\n",
       "      <td>GCLC</td>\n",
       "      <td>(Thyroid, Brain_Substantia_nigra, Artery_Coron...</td>\n",
       "      <td>33</td>\n",
       "    </tr>\n",
       "    <tr>\n",
       "      <th>ENSG00000001167</th>\n",
       "      <td>NFYA</td>\n",
       "      <td>(Thyroid, Vagina, Esophagus_Mucosa, Kidney_Cor...</td>\n",
       "      <td>40</td>\n",
       "    </tr>\n",
       "  </tbody>\n",
       "</table>\n",
       "</div>"
      ],
      "text/plain": [
       "                gene_name                                             tissue  \\\n",
       "gene_id                                                                        \n",
       "ENSG00000000419      DPM1  (Brain_Hypothalamus, Cells_Cultured_fibroblast...   \n",
       "ENSG00000000938       FGR  (Thyroid, Esophagus_Mucosa, Brain_Frontal_Cort...   \n",
       "ENSG00000000971       CFH  (Thyroid, Brain_Substantia_nigra, Kidney_Corte...   \n",
       "ENSG00000001084      GCLC  (Thyroid, Brain_Substantia_nigra, Artery_Coron...   \n",
       "ENSG00000001167      NFYA  (Thyroid, Vagina, Esophagus_Mucosa, Kidney_Cor...   \n",
       "\n",
       "                 n_tissues  \n",
       "gene_id                     \n",
       "ENSG00000000419          3  \n",
       "ENSG00000000938         36  \n",
       "ENSG00000000971         34  \n",
       "ENSG00000001084         33  \n",
       "ENSG00000001167         40  "
      ]
     },
     "execution_count": 17,
     "metadata": {},
     "output_type": "execute_result"
    }
   ],
   "source": [
    "spredixcan_genes_models.head()"
   ]
  },
  {
   "cell_type": "code",
   "execution_count": 18,
   "id": "d1c11bb1-be0b-4f40-b360-633d6827109f",
   "metadata": {
    "execution": {
     "iopub.execute_input": "2022-08-27T06:01:28.533520Z",
     "iopub.status.busy": "2022-08-27T06:01:28.533317Z",
     "iopub.status.idle": "2022-08-27T06:01:28.550240Z",
     "shell.execute_reply": "2022-08-27T06:01:28.549690Z"
    },
    "papermill": {
     "duration": 0.03237,
     "end_time": "2022-08-27T06:01:28.551810",
     "exception": false,
     "start_time": "2022-08-27T06:01:28.519440",
     "status": "completed"
    },
    "tags": []
   },
   "outputs": [],
   "source": [
    "assert spredixcan_genes_models.index.is_unique"
   ]
  },
  {
   "cell_type": "markdown",
   "id": "a5b5092c-a13e-47c4-a92a-480fcc08f3ae",
   "metadata": {
    "papermill": {
     "duration": 0.011043,
     "end_time": "2022-08-27T06:01:28.573676",
     "exception": false,
     "start_time": "2022-08-27T06:01:28.562633",
     "status": "completed"
    },
    "tags": []
   },
   "source": [
    "## Gene info"
   ]
  },
  {
   "cell_type": "code",
   "execution_count": 19,
   "id": "7d6bb224-88e9-4358-ac10-43a41d92cdad",
   "metadata": {
    "execution": {
     "iopub.execute_input": "2022-08-27T06:01:28.600636Z",
     "iopub.status.busy": "2022-08-27T06:01:28.600439Z",
     "iopub.status.idle": "2022-08-27T06:01:28.628125Z",
     "shell.execute_reply": "2022-08-27T06:01:28.627578Z"
    },
    "papermill": {
     "duration": 0.043212,
     "end_time": "2022-08-27T06:01:28.629740",
     "exception": false,
     "start_time": "2022-08-27T06:01:28.586528",
     "status": "completed"
    },
    "tags": []
   },
   "outputs": [],
   "source": [
    "genes_info = pd.read_pickle(OUTPUT_DIR_BASE / \"genes_info.pkl\")"
   ]
  },
  {
   "cell_type": "code",
   "execution_count": 20,
   "id": "9e32abfa-546d-483e-8c18-d526e9e05903",
   "metadata": {
    "execution": {
     "iopub.execute_input": "2022-08-27T06:01:28.674677Z",
     "iopub.status.busy": "2022-08-27T06:01:28.674475Z",
     "iopub.status.idle": "2022-08-27T06:01:28.692370Z",
     "shell.execute_reply": "2022-08-27T06:01:28.691820Z"
    },
    "papermill": {
     "duration": 0.04598,
     "end_time": "2022-08-27T06:01:28.693831",
     "exception": false,
     "start_time": "2022-08-27T06:01:28.647851",
     "status": "completed"
    },
    "tags": []
   },
   "outputs": [
    {
     "data": {
      "text/plain": [
       "(6450, 7)"
      ]
     },
     "execution_count": 20,
     "metadata": {},
     "output_type": "execute_result"
    }
   ],
   "source": [
    "genes_info.shape"
   ]
  },
  {
   "cell_type": "code",
   "execution_count": 21,
   "id": "d16c3e92-85ec-468a-9a56-e25a9774a1cb",
   "metadata": {
    "execution": {
     "iopub.execute_input": "2022-08-27T06:01:28.727829Z",
     "iopub.status.busy": "2022-08-27T06:01:28.727633Z",
     "iopub.status.idle": "2022-08-27T06:01:28.751426Z",
     "shell.execute_reply": "2022-08-27T06:01:28.750875Z"
    },
    "papermill": {
     "duration": 0.042859,
     "end_time": "2022-08-27T06:01:28.752952",
     "exception": false,
     "start_time": "2022-08-27T06:01:28.710093",
     "status": "completed"
    },
    "tags": []
   },
   "outputs": [
    {
     "data": {
      "text/html": [
       "<div>\n",
       "<style scoped>\n",
       "    .dataframe tbody tr th:only-of-type {\n",
       "        vertical-align: middle;\n",
       "    }\n",
       "\n",
       "    .dataframe tbody tr th {\n",
       "        vertical-align: top;\n",
       "    }\n",
       "\n",
       "    .dataframe thead th {\n",
       "        text-align: right;\n",
       "    }\n",
       "</style>\n",
       "<table border=\"1\" class=\"dataframe\">\n",
       "  <thead>\n",
       "    <tr style=\"text-align: right;\">\n",
       "      <th></th>\n",
       "      <th>name</th>\n",
       "      <th>id</th>\n",
       "      <th>chr</th>\n",
       "      <th>band</th>\n",
       "      <th>start_position</th>\n",
       "      <th>end_position</th>\n",
       "      <th>gene_length</th>\n",
       "    </tr>\n",
       "  </thead>\n",
       "  <tbody>\n",
       "    <tr>\n",
       "      <th>0</th>\n",
       "      <td>FBXO34</td>\n",
       "      <td>ENSG00000178974</td>\n",
       "      <td>14</td>\n",
       "      <td>14q22.3</td>\n",
       "      <td>55271421</td>\n",
       "      <td>55361918</td>\n",
       "      <td>90497</td>\n",
       "    </tr>\n",
       "    <tr>\n",
       "      <th>1</th>\n",
       "      <td>ARG1</td>\n",
       "      <td>ENSG00000118520</td>\n",
       "      <td>6</td>\n",
       "      <td>6q23.2</td>\n",
       "      <td>131573144</td>\n",
       "      <td>131584332</td>\n",
       "      <td>11188</td>\n",
       "    </tr>\n",
       "    <tr>\n",
       "      <th>2</th>\n",
       "      <td>FADS2</td>\n",
       "      <td>ENSG00000134824</td>\n",
       "      <td>11</td>\n",
       "      <td>11q12.2</td>\n",
       "      <td>61792980</td>\n",
       "      <td>61867354</td>\n",
       "      <td>74374</td>\n",
       "    </tr>\n",
       "    <tr>\n",
       "      <th>3</th>\n",
       "      <td>CA4</td>\n",
       "      <td>ENSG00000167434</td>\n",
       "      <td>17</td>\n",
       "      <td>17q23.1</td>\n",
       "      <td>60149942</td>\n",
       "      <td>60170899</td>\n",
       "      <td>20957</td>\n",
       "    </tr>\n",
       "    <tr>\n",
       "      <th>4</th>\n",
       "      <td>PFKFB3</td>\n",
       "      <td>ENSG00000170525</td>\n",
       "      <td>10</td>\n",
       "      <td>10p15.1</td>\n",
       "      <td>6144934</td>\n",
       "      <td>6254644</td>\n",
       "      <td>109710</td>\n",
       "    </tr>\n",
       "  </tbody>\n",
       "</table>\n",
       "</div>"
      ],
      "text/plain": [
       "     name               id  chr     band  start_position  end_position  \\\n",
       "0  FBXO34  ENSG00000178974   14  14q22.3        55271421      55361918   \n",
       "1    ARG1  ENSG00000118520    6   6q23.2       131573144     131584332   \n",
       "2   FADS2  ENSG00000134824   11  11q12.2        61792980      61867354   \n",
       "3     CA4  ENSG00000167434   17  17q23.1        60149942      60170899   \n",
       "4  PFKFB3  ENSG00000170525   10  10p15.1         6144934       6254644   \n",
       "\n",
       "   gene_length  \n",
       "0        90497  \n",
       "1        11188  \n",
       "2        74374  \n",
       "3        20957  \n",
       "4       109710  "
      ]
     },
     "execution_count": 21,
     "metadata": {},
     "output_type": "execute_result"
    }
   ],
   "source": [
    "genes_info.head()"
   ]
  },
  {
   "cell_type": "markdown",
   "id": "d3843e06",
   "metadata": {
    "papermill": {
     "duration": 0.020311,
     "end_time": "2022-08-27T06:01:28.799975",
     "exception": false,
     "start_time": "2022-08-27T06:01:28.779664",
     "status": "completed"
    },
    "tags": []
   },
   "source": [
    "# Compute correlations"
   ]
  },
  {
   "cell_type": "code",
   "execution_count": 22,
   "id": "cb859c15-d1f3-4006-a74c-2b83c0db9611",
   "metadata": {
    "execution": {
     "iopub.execute_input": "2022-08-27T06:01:28.836718Z",
     "iopub.status.busy": "2022-08-27T06:01:28.836523Z",
     "iopub.status.idle": "2022-08-27T06:01:28.855599Z",
     "shell.execute_reply": "2022-08-27T06:01:28.855060Z"
    },
    "papermill": {
     "duration": 0.036581,
     "end_time": "2022-08-27T06:01:28.857094",
     "exception": false,
     "start_time": "2022-08-27T06:01:28.820513",
     "status": "completed"
    },
    "tags": []
   },
   "outputs": [
    {
     "data": {
      "text/plain": [
       "PosixPath('/project/ritchie20/projects/phenoplier/base/results/gls/gene_corrs/cohorts/phenomexcan_astle/gtex_v8/mashr/by_chr/gene_corrs-chr16.pkl')"
      ]
     },
     "metadata": {},
     "output_type": "display_data"
    }
   ],
   "source": [
    "output_dir = OUTPUT_DIR_BASE / \"by_chr\"\n",
    "output_dir.mkdir(exist_ok=True, parents=True)\n",
    "output_file = output_dir / f\"gene_corrs-chr{CHROMOSOME}.pkl\"\n",
    "display(output_file)"
   ]
  },
  {
   "cell_type": "code",
   "execution_count": 23,
   "id": "aa674fe4-6794-4eed-98fa-32b39d1d4ace",
   "metadata": {
    "execution": {
     "iopub.execute_input": "2022-08-27T06:01:28.906700Z",
     "iopub.status.busy": "2022-08-27T06:01:28.906506Z",
     "iopub.status.idle": "2022-08-27T06:01:28.922615Z",
     "shell.execute_reply": "2022-08-27T06:01:28.922097Z"
    },
    "papermill": {
     "duration": 0.037839,
     "end_time": "2022-08-27T06:01:28.924242",
     "exception": false,
     "start_time": "2022-08-27T06:01:28.886403",
     "status": "completed"
    },
    "tags": []
   },
   "outputs": [],
   "source": [
    "warnings.filterwarnings(\"error\")"
   ]
  },
  {
   "cell_type": "code",
   "execution_count": 24,
   "id": "44d5450b-3baf-43f1-9e2e-4b06f1a785f8",
   "metadata": {
    "execution": {
     "iopub.execute_input": "2022-08-27T06:01:28.953785Z",
     "iopub.status.busy": "2022-08-27T06:01:28.953591Z",
     "iopub.status.idle": "2022-08-27T06:01:28.970305Z",
     "shell.execute_reply": "2022-08-27T06:01:28.969752Z"
    },
    "papermill": {
     "duration": 0.034882,
     "end_time": "2022-08-27T06:01:28.971886",
     "exception": false,
     "start_time": "2022-08-27T06:01:28.937004",
     "status": "completed"
    },
    "tags": []
   },
   "outputs": [],
   "source": [
    "# standard checks\n",
    "all_chrs = genes_info[\"chr\"].dropna().unique()\n",
    "assert all_chrs.shape[0] == 22\n",
    "\n",
    "# select chromosome given by the user\n",
    "assert CHROMOSOME in all_chrs"
   ]
  },
  {
   "cell_type": "code",
   "execution_count": 25,
   "id": "2d7c043c-92a7-4d35-991b-fa69ac1e0268",
   "metadata": {
    "execution": {
     "iopub.execute_input": "2022-08-27T06:01:28.999300Z",
     "iopub.status.busy": "2022-08-27T06:01:28.999086Z",
     "iopub.status.idle": "2022-08-27T06:01:29.058395Z",
     "shell.execute_reply": "2022-08-27T06:01:29.057828Z"
    },
    "papermill": {
     "duration": 0.073914,
     "end_time": "2022-08-27T06:01:29.060006",
     "exception": false,
     "start_time": "2022-08-27T06:01:28.986092",
     "status": "completed"
    },
    "tags": []
   },
   "outputs": [
    {
     "name": "stdout",
     "output_type": "stream",
     "text": [
      "Number of genes in chromosome: 274\n"
     ]
    }
   ],
   "source": [
    "# run only on the chromosome specified\n",
    "all_chrs = [CHROMOSOME]\n",
    "genes_chr = genes_info[genes_info[\"chr\"] == CHROMOSOME]\n",
    "\n",
    "# For testing purposes\n",
    "# genes_chr = genes_chr.sample(n=20)\n",
    "\n",
    "print(f\"Number of genes in chromosome: {genes_chr.shape[0]}\", flush=True)"
   ]
  },
  {
   "cell_type": "code",
   "execution_count": 26,
   "id": "916015d8-2979-46d3-a9b9-1cf5a0932c6a",
   "metadata": {
    "execution": {
     "iopub.execute_input": "2022-08-27T06:01:29.084357Z",
     "iopub.status.busy": "2022-08-27T06:01:29.084133Z",
     "iopub.status.idle": "2022-08-27T06:01:29.101370Z",
     "shell.execute_reply": "2022-08-27T06:01:29.100794Z"
    },
    "papermill": {
     "duration": 0.030644,
     "end_time": "2022-08-27T06:01:29.103044",
     "exception": false,
     "start_time": "2022-08-27T06:01:29.072400",
     "status": "completed"
    },
    "tags": []
   },
   "outputs": [],
   "source": [
    "# sort genes by starting position to make visualizations better later\n",
    "genes_chr = genes_chr.sort_values(\"start_position\")"
   ]
  },
  {
   "cell_type": "code",
   "execution_count": 27,
   "id": "a38aa74a-8ad3-47f6-8ef9-56be0e011774",
   "metadata": {
    "execution": {
     "iopub.execute_input": "2022-08-27T06:01:29.135950Z",
     "iopub.status.busy": "2022-08-27T06:01:29.135730Z",
     "iopub.status.idle": "2022-08-27T06:01:29.152688Z",
     "shell.execute_reply": "2022-08-27T06:01:29.152155Z"
    },
    "papermill": {
     "duration": 0.034369,
     "end_time": "2022-08-27T06:01:29.154356",
     "exception": false,
     "start_time": "2022-08-27T06:01:29.119987",
     "status": "completed"
    },
    "tags": []
   },
   "outputs": [],
   "source": [
    "gene_chr_objs = [Gene(ensembl_id=gene_id) for gene_id in genes_chr[\"id\"]]"
   ]
  },
  {
   "cell_type": "code",
   "execution_count": 28,
   "id": "570f974f-13c3-42b6-ad3a-ce99ca885c1a",
   "metadata": {
    "execution": {
     "iopub.execute_input": "2022-08-27T06:01:29.182046Z",
     "iopub.status.busy": "2022-08-27T06:01:29.181820Z",
     "iopub.status.idle": "2022-08-27T06:01:29.199758Z",
     "shell.execute_reply": "2022-08-27T06:01:29.199251Z"
    },
    "papermill": {
     "duration": 0.034865,
     "end_time": "2022-08-27T06:01:29.201426",
     "exception": false,
     "start_time": "2022-08-27T06:01:29.166561",
     "status": "completed"
    },
    "tags": []
   },
   "outputs": [
    {
     "name": "stdout",
     "output_type": "stream",
     "text": [
      "Number of gene combinations: 37401\n"
     ]
    }
   ],
   "source": [
    "n = len(gene_chr_objs)\n",
    "n_comb = int(n * (n - 1) / 2.0)\n",
    "print(f\"Number of gene combinations: {n_comb}\", flush=True)"
   ]
  },
  {
   "cell_type": "code",
   "execution_count": 29,
   "id": "cdbb90a1",
   "metadata": {
    "execution": {
     "iopub.execute_input": "2022-08-27T06:01:29.230672Z",
     "iopub.status.busy": "2022-08-27T06:01:29.230477Z",
     "iopub.status.idle": "2022-08-27T06:58:57.526723Z",
     "shell.execute_reply": "2022-08-27T06:58:57.526053Z"
    },
    "papermill": {
     "duration": 3448.311442,
     "end_time": "2022-08-27T06:58:57.528508",
     "exception": false,
     "start_time": "2022-08-27T06:01:29.217066",
     "status": "completed"
    },
    "tags": []
   },
   "outputs": [
    {
     "name": "stderr",
     "output_type": "stream",
     "text": [
      "ENSG00000258947 / ENSG00000258947: : 37675it [57:28, 10.93it/s]\n"
     ]
    },
    {
     "data": {
      "text/plain": [
       "PosixPath('/project/ritchie20/projects/phenoplier/base/results/gls/gene_corrs/cohorts/phenomexcan_astle/gtex_v8/mashr/by_chr/gene_corrs-chr16.pkl')"
      ]
     },
     "metadata": {},
     "output_type": "display_data"
    }
   ],
   "source": [
    "gene_corrs = []\n",
    "gene_corrs_data = np.full(\n",
    "    (n, n),\n",
    "    np.nan,\n",
    "    dtype=np.float64,\n",
    ")\n",
    "\n",
    "i = 0\n",
    "with tqdm(ncols=100, total=n_comb) as pbar:\n",
    "    for gene1_idx in range(0, len(gene_chr_objs)):\n",
    "        gene1_obj = gene_chr_objs[gene1_idx]\n",
    "        gene1_tissues = spredixcan_genes_models.loc[gene1_obj.ensembl_id, \"tissue\"]\n",
    "\n",
    "        for gene2_idx in range(gene1_idx, len(gene_chr_objs)):\n",
    "            gene2_obj = gene_chr_objs[gene2_idx]\n",
    "            gene2_tissues = spredixcan_genes_models.loc[gene2_obj.ensembl_id, \"tissue\"]\n",
    "\n",
    "            pbar.set_description(f\"{gene1_obj.ensembl_id} / {gene2_obj.ensembl_id}\")\n",
    "\n",
    "            try:\n",
    "                r = gene1_obj.get_ssm_correlation(\n",
    "                    other_gene=gene2_obj,\n",
    "                    tissues=gene1_tissues,\n",
    "                    other_tissues=gene2_tissues,\n",
    "                    snps_subset=gwas_variants_ids_set,\n",
    "                    condition_number=SMULTIXCAN_CONDITION_NUMBER,\n",
    "                    reference_panel=REFERENCE_PANEL,\n",
    "                    model_type=EQTL_MODEL,\n",
    "                    use_within_distance=COMPUTE_CORRELATIONS_WITHIN_DISTANCE,\n",
    "                )\n",
    "\n",
    "                if r is None:\n",
    "                    # if r is None, it's very likely because:\n",
    "                    #  * one of the genes has no prediction models\n",
    "                    #  * all the SNPs predictors for the gene are not present in the reference\n",
    "                    #    panel\n",
    "\n",
    "                    r = 0.0\n",
    "\n",
    "                gene_corrs.append(r)\n",
    "\n",
    "                gene_corrs_data[gene1_idx, gene2_idx] = r\n",
    "                gene_corrs_data[gene2_idx, gene1_idx] = r\n",
    "            except Warning as e:\n",
    "                if not DEBUG_MODE:\n",
    "                    raise e\n",
    "\n",
    "                print(\n",
    "                    f\"RuntimeWarning for genes {gene1_obj.ensembl_id} and {gene2_obj.ensembl_id}\",\n",
    "                    flush=True,\n",
    "                )\n",
    "                print(traceback.format_exc(), flush=True)\n",
    "\n",
    "                gene_corrs.append(np.nan)\n",
    "            except Exception as e:\n",
    "                if not DEBUG_MODE:\n",
    "                    raise e\n",
    "\n",
    "                print(\n",
    "                    f\"Exception for genes {gene1_obj.ensembl_id} and {gene2_obj.ensembl_id}\",\n",
    "                    flush=True,\n",
    "                )\n",
    "                print(traceback.format_exc(), flush=True)\n",
    "\n",
    "                gene_corrs.append(np.nan)\n",
    "\n",
    "            pbar.update(1)\n",
    "\n",
    "# create a pandas series\n",
    "gene_corrs_flat = pd.Series(gene_corrs)\n",
    "\n",
    "# save\n",
    "# FIXME: consider saving only the condenced matrix here. See here for\n",
    "# more details: https://github.com/greenelab/phenoplier/pull/38#discussion_r634600813\n",
    "# gene_corrs_data = squareform(np.array(gene_corrs, dtype=np.float64))\n",
    "# np.fill_diagonal(gene_corrs_data, 1.0)\n",
    "\n",
    "gene_chr_ids = [g.ensembl_id for g in gene_chr_objs]\n",
    "gene_corrs_df = pd.DataFrame(\n",
    "    data=gene_corrs_data,\n",
    "    index=gene_chr_ids,\n",
    "    columns=gene_chr_ids,\n",
    ")\n",
    "\n",
    "output_dir.mkdir(exist_ok=True, parents=True)\n",
    "display(output_file)\n",
    "\n",
    "gene_corrs_df.to_pickle(output_file)"
   ]
  },
  {
   "cell_type": "markdown",
   "id": "faa67b51-5373-470f-aa72-2ded53fa6dfe",
   "metadata": {
    "papermill": {
     "duration": 2.336705,
     "end_time": "2022-08-27T06:59:02.132975",
     "exception": false,
     "start_time": "2022-08-27T06:58:59.796270",
     "status": "completed"
    },
    "tags": []
   },
   "source": [
    "# Testing"
   ]
  },
  {
   "cell_type": "code",
   "execution_count": 30,
   "id": "14f7d046-4b55-4896-a56b-990127bcc388",
   "metadata": {
    "execution": {
     "iopub.execute_input": "2022-08-27T06:59:06.763877Z",
     "iopub.status.busy": "2022-08-27T06:59:06.763604Z",
     "iopub.status.idle": "2022-08-27T06:59:07.004515Z",
     "shell.execute_reply": "2022-08-27T06:59:07.003678Z"
    },
    "papermill": {
     "duration": 2.553987,
     "end_time": "2022-08-27T06:59:07.007050",
     "exception": false,
     "start_time": "2022-08-27T06:59:04.453063",
     "status": "completed"
    },
    "tags": []
   },
   "outputs": [
    {
     "data": {
      "text/plain": [
       "(274, 274)"
      ]
     },
     "execution_count": 30,
     "metadata": {},
     "output_type": "execute_result"
    }
   ],
   "source": [
    "gene_corrs_df.shape"
   ]
  },
  {
   "cell_type": "code",
   "execution_count": 31,
   "id": "c7d15414-3297-4537-a7c6-7588c0baeb75",
   "metadata": {
    "execution": {
     "iopub.execute_input": "2022-08-27T06:59:11.628314Z",
     "iopub.status.busy": "2022-08-27T06:59:11.628022Z",
     "iopub.status.idle": "2022-08-27T06:59:11.664753Z",
     "shell.execute_reply": "2022-08-27T06:59:11.664100Z"
    },
    "papermill": {
     "duration": 2.347776,
     "end_time": "2022-08-27T06:59:11.666310",
     "exception": false,
     "start_time": "2022-08-27T06:59:09.318534",
     "status": "completed"
    },
    "tags": []
   },
   "outputs": [
    {
     "data": {
      "text/html": [
       "<div>\n",
       "<style scoped>\n",
       "    .dataframe tbody tr th:only-of-type {\n",
       "        vertical-align: middle;\n",
       "    }\n",
       "\n",
       "    .dataframe tbody tr th {\n",
       "        vertical-align: top;\n",
       "    }\n",
       "\n",
       "    .dataframe thead th {\n",
       "        text-align: right;\n",
       "    }\n",
       "</style>\n",
       "<table border=\"1\" class=\"dataframe\">\n",
       "  <thead>\n",
       "    <tr style=\"text-align: right;\">\n",
       "      <th></th>\n",
       "      <th>ENSG00000161980</th>\n",
       "      <th>ENSG00000103152</th>\n",
       "      <th>ENSG00000206172</th>\n",
       "      <th>ENSG00000086506</th>\n",
       "      <th>ENSG00000076344</th>\n",
       "      <th>ENSG00000103126</th>\n",
       "      <th>ENSG00000086504</th>\n",
       "      <th>ENSG00000103202</th>\n",
       "      <th>ENSG00000242612</th>\n",
       "      <th>ENSG00000090565</th>\n",
       "      <th>...</th>\n",
       "      <th>ENSG00000051523</th>\n",
       "      <th>ENSG00000167508</th>\n",
       "      <th>ENSG00000167513</th>\n",
       "      <th>ENSG00000198931</th>\n",
       "      <th>ENSG00000141012</th>\n",
       "      <th>ENSG00000129993</th>\n",
       "      <th>ENSG00000167526</th>\n",
       "      <th>ENSG00000187741</th>\n",
       "      <th>ENSG00000258839</th>\n",
       "      <th>ENSG00000258947</th>\n",
       "    </tr>\n",
       "  </thead>\n",
       "  <tbody>\n",
       "    <tr>\n",
       "      <th>ENSG00000161980</th>\n",
       "      <td>1.000000</td>\n",
       "      <td>0.227759</td>\n",
       "      <td>0.007120</td>\n",
       "      <td>0.027623</td>\n",
       "      <td>0.012468</td>\n",
       "      <td>0.013222</td>\n",
       "      <td>0.014543</td>\n",
       "      <td>0.013973</td>\n",
       "      <td>0.014986</td>\n",
       "      <td>0.011460</td>\n",
       "      <td>...</td>\n",
       "      <td>0.005853</td>\n",
       "      <td>0.005465</td>\n",
       "      <td>0.003711</td>\n",
       "      <td>0.001553</td>\n",
       "      <td>0.005214</td>\n",
       "      <td>0.005515</td>\n",
       "      <td>0.003291</td>\n",
       "      <td>0.003797</td>\n",
       "      <td>0.011026</td>\n",
       "      <td>0.011151</td>\n",
       "    </tr>\n",
       "    <tr>\n",
       "      <th>ENSG00000103152</th>\n",
       "      <td>0.227759</td>\n",
       "      <td>1.000000</td>\n",
       "      <td>0.031878</td>\n",
       "      <td>0.108837</td>\n",
       "      <td>0.057495</td>\n",
       "      <td>0.024719</td>\n",
       "      <td>0.024518</td>\n",
       "      <td>0.012048</td>\n",
       "      <td>0.009824</td>\n",
       "      <td>0.008932</td>\n",
       "      <td>...</td>\n",
       "      <td>0.007037</td>\n",
       "      <td>0.010907</td>\n",
       "      <td>0.007026</td>\n",
       "      <td>0.004577</td>\n",
       "      <td>0.008902</td>\n",
       "      <td>0.008394</td>\n",
       "      <td>0.009660</td>\n",
       "      <td>0.004330</td>\n",
       "      <td>0.007823</td>\n",
       "      <td>0.016650</td>\n",
       "    </tr>\n",
       "    <tr>\n",
       "      <th>ENSG00000206172</th>\n",
       "      <td>0.007120</td>\n",
       "      <td>0.031878</td>\n",
       "      <td>1.000000</td>\n",
       "      <td>0.059261</td>\n",
       "      <td>0.055879</td>\n",
       "      <td>0.025798</td>\n",
       "      <td>0.033026</td>\n",
       "      <td>0.014314</td>\n",
       "      <td>0.013493</td>\n",
       "      <td>0.011098</td>\n",
       "      <td>...</td>\n",
       "      <td>0.005266</td>\n",
       "      <td>0.008916</td>\n",
       "      <td>0.004529</td>\n",
       "      <td>0.003817</td>\n",
       "      <td>0.001948</td>\n",
       "      <td>0.002297</td>\n",
       "      <td>0.000407</td>\n",
       "      <td>0.001629</td>\n",
       "      <td>0.000950</td>\n",
       "      <td>0.005550</td>\n",
       "    </tr>\n",
       "    <tr>\n",
       "      <th>ENSG00000086506</th>\n",
       "      <td>0.027623</td>\n",
       "      <td>0.108837</td>\n",
       "      <td>0.059261</td>\n",
       "      <td>1.000000</td>\n",
       "      <td>0.168078</td>\n",
       "      <td>0.090416</td>\n",
       "      <td>0.070950</td>\n",
       "      <td>0.014133</td>\n",
       "      <td>0.017900</td>\n",
       "      <td>0.022178</td>\n",
       "      <td>...</td>\n",
       "      <td>0.006746</td>\n",
       "      <td>0.009765</td>\n",
       "      <td>0.005766</td>\n",
       "      <td>0.002963</td>\n",
       "      <td>0.004049</td>\n",
       "      <td>0.004665</td>\n",
       "      <td>0.005203</td>\n",
       "      <td>0.003681</td>\n",
       "      <td>0.006142</td>\n",
       "      <td>0.009180</td>\n",
       "    </tr>\n",
       "    <tr>\n",
       "      <th>ENSG00000076344</th>\n",
       "      <td>0.012468</td>\n",
       "      <td>0.057495</td>\n",
       "      <td>0.055879</td>\n",
       "      <td>0.168078</td>\n",
       "      <td>1.000000</td>\n",
       "      <td>0.131846</td>\n",
       "      <td>0.112805</td>\n",
       "      <td>0.067025</td>\n",
       "      <td>0.024294</td>\n",
       "      <td>0.025707</td>\n",
       "      <td>...</td>\n",
       "      <td>0.002038</td>\n",
       "      <td>0.005548</td>\n",
       "      <td>0.005579</td>\n",
       "      <td>0.003054</td>\n",
       "      <td>0.004978</td>\n",
       "      <td>0.007570</td>\n",
       "      <td>0.001665</td>\n",
       "      <td>0.004381</td>\n",
       "      <td>0.004569</td>\n",
       "      <td>0.005661</td>\n",
       "    </tr>\n",
       "  </tbody>\n",
       "</table>\n",
       "<p>5 rows × 274 columns</p>\n",
       "</div>"
      ],
      "text/plain": [
       "                 ENSG00000161980  ENSG00000103152  ENSG00000206172  \\\n",
       "ENSG00000161980         1.000000         0.227759         0.007120   \n",
       "ENSG00000103152         0.227759         1.000000         0.031878   \n",
       "ENSG00000206172         0.007120         0.031878         1.000000   \n",
       "ENSG00000086506         0.027623         0.108837         0.059261   \n",
       "ENSG00000076344         0.012468         0.057495         0.055879   \n",
       "\n",
       "                 ENSG00000086506  ENSG00000076344  ENSG00000103126  \\\n",
       "ENSG00000161980         0.027623         0.012468         0.013222   \n",
       "ENSG00000103152         0.108837         0.057495         0.024719   \n",
       "ENSG00000206172         0.059261         0.055879         0.025798   \n",
       "ENSG00000086506         1.000000         0.168078         0.090416   \n",
       "ENSG00000076344         0.168078         1.000000         0.131846   \n",
       "\n",
       "                 ENSG00000086504  ENSG00000103202  ENSG00000242612  \\\n",
       "ENSG00000161980         0.014543         0.013973         0.014986   \n",
       "ENSG00000103152         0.024518         0.012048         0.009824   \n",
       "ENSG00000206172         0.033026         0.014314         0.013493   \n",
       "ENSG00000086506         0.070950         0.014133         0.017900   \n",
       "ENSG00000076344         0.112805         0.067025         0.024294   \n",
       "\n",
       "                 ENSG00000090565  ...  ENSG00000051523  ENSG00000167508  \\\n",
       "ENSG00000161980         0.011460  ...         0.005853         0.005465   \n",
       "ENSG00000103152         0.008932  ...         0.007037         0.010907   \n",
       "ENSG00000206172         0.011098  ...         0.005266         0.008916   \n",
       "ENSG00000086506         0.022178  ...         0.006746         0.009765   \n",
       "ENSG00000076344         0.025707  ...         0.002038         0.005548   \n",
       "\n",
       "                 ENSG00000167513  ENSG00000198931  ENSG00000141012  \\\n",
       "ENSG00000161980         0.003711         0.001553         0.005214   \n",
       "ENSG00000103152         0.007026         0.004577         0.008902   \n",
       "ENSG00000206172         0.004529         0.003817         0.001948   \n",
       "ENSG00000086506         0.005766         0.002963         0.004049   \n",
       "ENSG00000076344         0.005579         0.003054         0.004978   \n",
       "\n",
       "                 ENSG00000129993  ENSG00000167526  ENSG00000187741  \\\n",
       "ENSG00000161980         0.005515         0.003291         0.003797   \n",
       "ENSG00000103152         0.008394         0.009660         0.004330   \n",
       "ENSG00000206172         0.002297         0.000407         0.001629   \n",
       "ENSG00000086506         0.004665         0.005203         0.003681   \n",
       "ENSG00000076344         0.007570         0.001665         0.004381   \n",
       "\n",
       "                 ENSG00000258839  ENSG00000258947  \n",
       "ENSG00000161980         0.011026         0.011151  \n",
       "ENSG00000103152         0.007823         0.016650  \n",
       "ENSG00000206172         0.000950         0.005550  \n",
       "ENSG00000086506         0.006142         0.009180  \n",
       "ENSG00000076344         0.004569         0.005661  \n",
       "\n",
       "[5 rows x 274 columns]"
      ]
     },
     "execution_count": 31,
     "metadata": {},
     "output_type": "execute_result"
    }
   ],
   "source": [
    "gene_corrs_df.head()"
   ]
  },
  {
   "cell_type": "markdown",
   "id": "dad6603f-01c6-41fb-a6f6-241051207dd8",
   "metadata": {
    "papermill": {
     "duration": 2.374293,
     "end_time": "2022-08-27T06:59:16.303568",
     "exception": false,
     "start_time": "2022-08-27T06:59:13.929275",
     "status": "completed"
    },
    "tags": []
   },
   "source": [
    "## Standard checks and stats"
   ]
  },
  {
   "cell_type": "code",
   "execution_count": 32,
   "id": "286686af-1b7b-4440-8453-6bdcbd8de19c",
   "metadata": {
    "execution": {
     "iopub.execute_input": "2022-08-27T06:59:20.857232Z",
     "iopub.status.busy": "2022-08-27T06:59:20.856958Z",
     "iopub.status.idle": "2022-08-27T06:59:20.877478Z",
     "shell.execute_reply": "2022-08-27T06:59:20.876941Z"
    },
    "papermill": {
     "duration": 2.307736,
     "end_time": "2022-08-27T06:59:20.879128",
     "exception": false,
     "start_time": "2022-08-27T06:59:18.571392",
     "status": "completed"
    },
    "tags": []
   },
   "outputs": [],
   "source": [
    "assert not gene_corrs_df.isna().any().any()"
   ]
  },
  {
   "cell_type": "code",
   "execution_count": 33,
   "id": "00583efc-7068-4270-ad1e-4a418e91db96",
   "metadata": {
    "execution": {
     "iopub.execute_input": "2022-08-27T06:59:25.448501Z",
     "iopub.status.busy": "2022-08-27T06:59:25.448225Z",
     "iopub.status.idle": "2022-08-27T06:59:25.471091Z",
     "shell.execute_reply": "2022-08-27T06:59:25.470541Z"
    },
    "papermill": {
     "duration": 2.306891,
     "end_time": "2022-08-27T06:59:25.472741",
     "exception": false,
     "start_time": "2022-08-27T06:59:23.165850",
     "status": "completed"
    },
    "tags": []
   },
   "outputs": [
    {
     "data": {
      "text/plain": [
       "1.4800305539324486e-06"
      ]
     },
     "metadata": {},
     "output_type": "display_data"
    }
   ],
   "source": [
    "_min_val = gene_corrs_df.min().min()\n",
    "display(_min_val)\n",
    "assert _min_val >= -0.05"
   ]
  },
  {
   "cell_type": "code",
   "execution_count": 34,
   "id": "d04fb2cf-1050-475b-b855-f5f7cc04092b",
   "metadata": {
    "execution": {
     "iopub.execute_input": "2022-08-27T06:59:30.062763Z",
     "iopub.status.busy": "2022-08-27T06:59:30.062500Z",
     "iopub.status.idle": "2022-08-27T06:59:30.085816Z",
     "shell.execute_reply": "2022-08-27T06:59:30.085102Z"
    },
    "papermill": {
     "duration": 2.293672,
     "end_time": "2022-08-27T06:59:30.087443",
     "exception": false,
     "start_time": "2022-08-27T06:59:27.793771",
     "status": "completed"
    },
    "tags": []
   },
   "outputs": [
    {
     "data": {
      "text/plain": [
       "1.0000000000000033"
      ]
     },
     "metadata": {},
     "output_type": "display_data"
    }
   ],
   "source": [
    "_max_val = gene_corrs_df.max().max()  # this captures the diagonal\n",
    "display(_max_val)\n",
    "assert _max_val <= 1.05"
   ]
  },
  {
   "cell_type": "code",
   "execution_count": 35,
   "id": "96d02c44-1fba-47be-8a93-8f2608420b9c",
   "metadata": {
    "execution": {
     "iopub.execute_input": "2022-08-27T06:59:34.665764Z",
     "iopub.status.busy": "2022-08-27T06:59:34.665492Z",
     "iopub.status.idle": "2022-08-27T06:59:34.685104Z",
     "shell.execute_reply": "2022-08-27T06:59:34.684559Z"
    },
    "papermill": {
     "duration": 2.315523,
     "end_time": "2022-08-27T06:59:34.686767",
     "exception": false,
     "start_time": "2022-08-27T06:59:32.371244",
     "status": "completed"
    },
    "tags": []
   },
   "outputs": [],
   "source": [
    "# check upper triangular values\n",
    "# assert len(gene_corrs) == int(genes_chr.shape[0] * (genes_chr.shape[0] - 1) / 2)"
   ]
  },
  {
   "cell_type": "code",
   "execution_count": 36,
   "id": "fe283586-c348-40e0-8841-f6d97bfb021c",
   "metadata": {
    "execution": {
     "iopub.execute_input": "2022-08-27T06:59:39.285198Z",
     "iopub.status.busy": "2022-08-27T06:59:39.284895Z",
     "iopub.status.idle": "2022-08-27T06:59:39.313322Z",
     "shell.execute_reply": "2022-08-27T06:59:39.312744Z"
    },
    "papermill": {
     "duration": 2.295487,
     "end_time": "2022-08-27T06:59:39.314997",
     "exception": false,
     "start_time": "2022-08-27T06:59:37.019510",
     "status": "completed"
    },
    "tags": []
   },
   "outputs": [
    {
     "data": {
      "text/plain": [
       "count    37675.000000\n",
       "mean         0.018437\n",
       "std          0.095791\n",
       "min          0.000001\n",
       "25%          0.003491\n",
       "50%          0.005495\n",
       "75%          0.007873\n",
       "max          1.000000\n",
       "dtype: float64"
      ]
     },
     "execution_count": 36,
     "metadata": {},
     "output_type": "execute_result"
    }
   ],
   "source": [
    "gene_corrs_flat.describe()"
   ]
  },
  {
   "cell_type": "code",
   "execution_count": 37,
   "id": "b3815678-0f93-4b35-897b-a9d047a2aa78",
   "metadata": {
    "execution": {
     "iopub.execute_input": "2022-08-27T06:59:43.914302Z",
     "iopub.status.busy": "2022-08-27T06:59:43.914011Z",
     "iopub.status.idle": "2022-08-27T06:59:43.939185Z",
     "shell.execute_reply": "2022-08-27T06:59:43.938424Z"
    },
    "papermill": {
     "duration": 2.326668,
     "end_time": "2022-08-27T06:59:43.940843",
     "exception": false,
     "start_time": "2022-08-27T06:59:41.614175",
     "status": "completed"
    },
    "tags": []
   },
   "outputs": [
    {
     "data": {
      "text/plain": [
       "0.00    0.000001\n",
       "0.05    0.001300\n",
       "0.10    0.002018\n",
       "0.15    0.002572\n",
       "0.20    0.003056\n",
       "0.25    0.003491\n",
       "0.30    0.003903\n",
       "0.35    0.004317\n",
       "0.40    0.004708\n",
       "0.45    0.005109\n",
       "0.50    0.005495\n",
       "0.55    0.005894\n",
       "0.60    0.006330\n",
       "0.65    0.006808\n",
       "0.70    0.007298\n",
       "0.75    0.007873\n",
       "0.80    0.008568\n",
       "0.85    0.009483\n",
       "0.90    0.010837\n",
       "0.95    0.014216\n",
       "dtype: float64"
      ]
     },
     "metadata": {},
     "output_type": "display_data"
    }
   ],
   "source": [
    "gene_corrs_quantiles = gene_corrs_flat.quantile(np.arange(0, 1, 0.05))\n",
    "display(gene_corrs_quantiles)"
   ]
  },
  {
   "cell_type": "markdown",
   "id": "87134509-b145-4a10-8bc9-b7e914c2b0fa",
   "metadata": {
    "papermill": {
     "duration": 2.282782,
     "end_time": "2022-08-27T06:59:48.508045",
     "exception": false,
     "start_time": "2022-08-27T06:59:46.225263",
     "status": "completed"
    },
    "tags": []
   },
   "source": [
    "## Positive definiteness"
   ]
  },
  {
   "cell_type": "code",
   "execution_count": 38,
   "id": "07d9a9a1-a4f7-48aa-b916-6d42a8cc6186",
   "metadata": {
    "execution": {
     "iopub.execute_input": "2022-08-27T06:59:53.100501Z",
     "iopub.status.busy": "2022-08-27T06:59:53.100215Z",
     "iopub.status.idle": "2022-08-27T06:59:53.144456Z",
     "shell.execute_reply": "2022-08-27T06:59:53.143905Z"
    },
    "papermill": {
     "duration": 2.36567,
     "end_time": "2022-08-27T06:59:53.145950",
     "exception": false,
     "start_time": "2022-08-27T06:59:50.780280",
     "status": "completed"
    },
    "tags": []
   },
   "outputs": [
    {
     "data": {
      "text/plain": [
       "0"
      ]
     },
     "metadata": {},
     "output_type": "display_data"
    },
    {
     "data": {
      "text/plain": [
       "array([], dtype=float64)"
      ]
     },
     "metadata": {},
     "output_type": "display_data"
    }
   ],
   "source": [
    "# print negative eigenvalues\n",
    "eigs = np.linalg.eigvals(gene_corrs_df.to_numpy())\n",
    "display(len(eigs[eigs < 0]))\n",
    "display(eigs[eigs < 0])"
   ]
  },
  {
   "cell_type": "code",
   "execution_count": 39,
   "id": "6e218436-c3c5-4028-8c94-a4fa6260efce",
   "metadata": {
    "execution": {
     "iopub.execute_input": "2022-08-27T06:59:57.701646Z",
     "iopub.status.busy": "2022-08-27T06:59:57.701380Z",
     "iopub.status.idle": "2022-08-27T06:59:57.734723Z",
     "shell.execute_reply": "2022-08-27T06:59:57.734198Z"
    },
    "papermill": {
     "duration": 2.335556,
     "end_time": "2022-08-27T06:59:57.736266",
     "exception": false,
     "start_time": "2022-08-27T06:59:55.400710",
     "status": "completed"
    },
    "tags": []
   },
   "outputs": [
    {
     "name": "stdout",
     "output_type": "stream",
     "text": [
      "Works!\n"
     ]
    }
   ],
   "source": [
    "try:\n",
    "    chol_mat = np.linalg.cholesky(gene_corrs_df.to_numpy())\n",
    "    cov_inv = np.linalg.inv(chol_mat)\n",
    "    print(\"Works!\")\n",
    "except Exception as e:\n",
    "    print(f\"Cholesky decomposition failed: {str(e)}\")"
   ]
  },
  {
   "cell_type": "code",
   "execution_count": 40,
   "id": "dd8827fb-faf9-4c7c-9454-015e94752706",
   "metadata": {
    "execution": {
     "iopub.execute_input": "2022-08-27T07:00:02.304262Z",
     "iopub.status.busy": "2022-08-27T07:00:02.303972Z",
     "iopub.status.idle": "2022-08-27T07:00:02.331756Z",
     "shell.execute_reply": "2022-08-27T07:00:02.331173Z"
    },
    "papermill": {
     "duration": 2.315773,
     "end_time": "2022-08-27T07:00:02.333345",
     "exception": false,
     "start_time": "2022-08-27T07:00:00.017572",
     "status": "completed"
    },
    "tags": []
   },
   "outputs": [
    {
     "name": "stdout",
     "output_type": "stream",
     "text": [
      "Works!\n"
     ]
    }
   ],
   "source": [
    "try:\n",
    "    # decomposition used by statsmodels.GLS\n",
    "    cholsigmainv = np.linalg.cholesky(np.linalg.inv(gene_corrs_df.to_numpy())).T\n",
    "    print(\"Works!\")\n",
    "except Exception as e:\n",
    "    print(f\"Cholesky decomposition failed (statsmodels.GLS): {str(e)}\")"
   ]
  },
  {
   "cell_type": "markdown",
   "id": "8e60a080-edb2-4e9c-b2ef-22961693200c",
   "metadata": {
    "papermill": {
     "duration": 2.29054,
     "end_time": "2022-08-27T07:00:06.890153",
     "exception": false,
     "start_time": "2022-08-27T07:00:04.599613",
     "status": "completed"
    },
    "tags": []
   },
   "source": [
    "## Plot: distribution"
   ]
  },
  {
   "cell_type": "code",
   "execution_count": 41,
   "id": "8301126b-a7d4-4744-9c7d-f0f86eb6f54c",
   "metadata": {
    "execution": {
     "iopub.execute_input": "2022-08-27T07:00:11.458975Z",
     "iopub.status.busy": "2022-08-27T07:00:11.458687Z",
     "iopub.status.idle": "2022-08-27T07:00:18.243550Z",
     "shell.execute_reply": "2022-08-27T07:00:18.242999Z"
    },
    "papermill": {
     "duration": 9.078399,
     "end_time": "2022-08-27T07:00:18.245290",
     "exception": false,
     "start_time": "2022-08-27T07:00:09.166891",
     "status": "completed"
    },
    "tags": []
   },
   "outputs": [
    {
     "data": {
      "image/png": "[encoded data removed]",
      "text/plain": [
       "<Figure size 504x504 with 1 Axes>"
      ]
     },
     "metadata": {
      "needs_background": "light"
     },
     "output_type": "display_data"
    }
   ],
   "source": [
    "with sns.plotting_context(\"paper\", font_scale=1.5):\n",
    "    g = sns.displot(gene_corrs_flat, kde=True, height=7)\n",
    "    g.ax.set_title(\n",
    "        f\"Distribution of gene correlation values in chromosome {CHROMOSOME}\"\n",
    "    )"
   ]
  },
  {
   "cell_type": "markdown",
   "id": "cbd52bca-d878-4a2f-b684-5c83aa3038d4",
   "metadata": {
    "papermill": {
     "duration": 2.275414,
     "end_time": "2022-08-27T07:00:22.772797",
     "exception": false,
     "start_time": "2022-08-27T07:00:20.497383",
     "status": "completed"
    },
    "tags": []
   },
   "source": [
    "## Plot: heatmap"
   ]
  },
  {
   "cell_type": "code",
   "execution_count": 42,
   "id": "d03fe63a-c7b2-4fb9-a53c-db362ce843c9",
   "metadata": {
    "execution": {
     "iopub.execute_input": "2022-08-27T07:00:27.287682Z",
     "iopub.status.busy": "2022-08-27T07:00:27.287415Z",
     "iopub.status.idle": "2022-08-27T07:00:27.309203Z",
     "shell.execute_reply": "2022-08-27T07:00:27.308659Z"
    },
    "papermill": {
     "duration": 2.289335,
     "end_time": "2022-08-27T07:00:27.310798",
     "exception": false,
     "start_time": "2022-08-27T07:00:25.021463",
     "status": "completed"
    },
    "tags": []
   },
   "outputs": [
    {
     "data": {
      "text/plain": [
       "'0.0 / 0.05'"
      ]
     },
     "metadata": {},
     "output_type": "display_data"
    }
   ],
   "source": [
    "vmin_val = min(0.00, gene_corrs_quantiles[0.10])\n",
    "vmax_val = max(0.05, gene_corrs_quantiles[0.90])\n",
    "display(f\"{vmin_val} / {vmax_val}\")"
   ]
  },
  {
   "cell_type": "code",
   "execution_count": 43,
   "id": "dc41b70b-5bcc-4d9e-9f33-a22c4a94dab5",
   "metadata": {
    "execution": {
     "iopub.execute_input": "2022-08-27T07:00:31.813430Z",
     "iopub.status.busy": "2022-08-27T07:00:31.813129Z",
     "iopub.status.idle": "2022-08-27T07:00:32.711752Z",
     "shell.execute_reply": "2022-08-27T07:00:32.710958Z"
    },
    "papermill": {
     "duration": 3.150294,
     "end_time": "2022-08-27T07:00:32.713411",
     "exception": false,
     "start_time": "2022-08-27T07:00:29.563117",
     "status": "completed"
    },
    "tags": []
   },
   "outputs": [
    {
     "data": {
      "text/plain": [
       "Text(0.5, 1.0, 'Gene correlations in chromosome 16')"
      ]
     },
     "execution_count": 43,
     "metadata": {},
     "output_type": "execute_result"
    },
    {
     "data": {
      "image/png": "[encoded data removed]",
      "text/plain": [
       "<Figure size 720x720 with 2 Axes>"
      ]
     },
     "metadata": {
      "needs_background": "light"
     },
     "output_type": "display_data"
    }
   ],
   "source": [
    "f, ax = plt.subplots(figsize=(10, 10))\n",
    "sns.heatmap(\n",
    "    gene_corrs_df,\n",
    "    xticklabels=False,\n",
    "    yticklabels=False,\n",
    "    square=True,\n",
    "    vmin=vmin_val,\n",
    "    vmax=vmax_val,\n",
    "    cmap=\"rocket_r\",\n",
    "    ax=ax,\n",
    ")\n",
    "ax.set_title(f\"Gene correlations in chromosome {CHROMOSOME}\")"
   ]
  },
  {
   "cell_type": "code",
   "execution_count": null,
   "id": "b25e3ead",
   "metadata": {
    "papermill": {
     "duration": 2.308822,
     "end_time": "2022-08-27T07:00:37.291255",
     "exception": false,
     "start_time": "2022-08-27T07:00:34.982433",
     "status": "completed"
    },
    "tags": []
   },
   "outputs": [],
   "source": []
  }
 ],
 "metadata": {
  "jupytext": {
   "cell_metadata_filter": "all,-execution,-papermill,-trusted",
   "formats": "ipynb,py//py:percent"
  },
  "kernelspec": {
   "display_name": "Python 3 (ipykernel)",
   "language": "python",
   "name": "python3"
  },
  "language_info": {
   "codemirror_mode": {
    "name": "ipython",
    "version": 3
   },
   "file_extension": ".py",
   "mimetype": "text/x-python",
   "name": "python",
   "nbconvert_exporter": "python",
   "pygments_lexer": "ipython3",
   "version": "3.8.13"
  },
  "papermill": {
   "default_parameters": {},
   "duration": 3566.102713,
   "end_time": "2022-08-27T07:00:43.071963",
   "environment_variables": {},
   "exception": null,
   "input_path": "nbs/15_gsa_gls/10-gene_expr_correlations.ipynb",
   "output_path": "nbs/15_gsa_gls/gene_corrs/cohorts/phenomexcan_astle/gtex_v8/mashr/10-gene_expr_corrs/10-gene_expr_correlations-chr16.run.ipynb",
   "parameters": {
    "CHROMOSOME": 16,
    "COHORT_NAME": "phenomexcan_astle",
    "EQTL_MODEL": "MASHR",
    "REFERENCE_PANEL": "GTEX_V8"
   },
   "start_time": "2022-08-27T06:01:16.969250",
   "version": "2.2.2"
  }
 },
 "nbformat": 4,
 "nbformat_minor": 5
}
