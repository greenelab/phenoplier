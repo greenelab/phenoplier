{
 "cells": [
  {
   "cell_type": "markdown",
   "id": "7a6632fb",
   "metadata": {
    "papermill": {
     "duration": 0.02089,
     "end_time": "2022-08-27T06:01:20.270282",
     "exception": false,
     "start_time": "2022-08-27T06:01:20.249392",
     "status": "completed"
    },
    "tags": []
   },
   "source": [
    "# Description"
   ]
  },
  {
   "cell_type": "markdown",
   "id": "7097c346",
   "metadata": {
    "papermill": {
     "duration": 0.020979,
     "end_time": "2022-08-27T06:01:20.307746",
     "exception": false,
     "start_time": "2022-08-27T06:01:20.286767",
     "status": "completed"
    },
    "tags": []
   },
   "source": [
    "(Please, take a look at the README.md file in this directory for instructions on how to run this notebook)\n",
    "\n",
    "This notebook computes predicted expression correlations between all genes in the MultiPLIER models.\n",
    "\n",
    "It also has a parameter set for papermill to run on a single chromosome to run in parallel (see under `Settings` below).\n",
    "\n",
    "This notebook is not directly run. See README.md."
   ]
  },
  {
   "cell_type": "markdown",
   "id": "c61d8427",
   "metadata": {
    "papermill": {
     "duration": 0.01335,
     "end_time": "2022-08-27T06:01:20.334739",
     "exception": false,
     "start_time": "2022-08-27T06:01:20.321389",
     "status": "completed"
    },
    "tags": []
   },
   "source": [
    "# Modules"
   ]
  },
  {
   "cell_type": "code",
   "execution_count": 1,
   "id": "bbc0234f",
   "metadata": {
    "execution": {
     "iopub.execute_input": "2022-08-27T06:01:20.361539Z",
     "iopub.status.busy": "2022-08-27T06:01:20.361138Z",
     "iopub.status.idle": "2022-08-27T06:01:20.415137Z",
     "shell.execute_reply": "2022-08-27T06:01:20.414584Z"
    },
    "papermill": {
     "duration": 0.069466,
     "end_time": "2022-08-27T06:01:20.417005",
     "exception": false,
     "start_time": "2022-08-27T06:01:20.347539",
     "status": "completed"
    },
    "tags": []
   },
   "outputs": [],
   "source": [
    "%load_ext autoreload\n",
    "%autoreload 2"
   ]
  },
  {
   "cell_type": "code",
   "execution_count": 2,
   "id": "1d5f5a59",
   "metadata": {
    "execution": {
     "iopub.execute_input": "2022-08-27T06:01:20.436162Z",
     "iopub.status.busy": "2022-08-27T06:01:20.435960Z",
     "iopub.status.idle": "2022-08-27T06:01:26.211160Z",
     "shell.execute_reply": "2022-08-27T06:01:26.210515Z"
    },
    "papermill": {
     "duration": 5.787396,
     "end_time": "2022-08-27T06:01:26.213155",
     "exception": false,
     "start_time": "2022-08-27T06:01:20.425759",
     "status": "completed"
    },
    "tags": []
   },
   "outputs": [],
   "source": [
    "from random import sample, seed\n",
    "import warnings\n",
    "from pathlib import Path\n",
    "import pickle\n",
    "import traceback\n",
    "\n",
    "import numpy as np\n",
    "from scipy.spatial.distance import squareform\n",
    "import pandas as pd\n",
    "from tqdm import tqdm\n",
    "import matplotlib.pyplot as plt\n",
    "import seaborn as sns\n",
    "\n",
    "import conf\n",
    "from entity import Gene"
   ]
  },
  {
   "cell_type": "markdown",
   "id": "1eac24b5",
   "metadata": {
    "papermill": {
     "duration": 0.00926,
     "end_time": "2022-08-27T06:01:26.262907",
     "exception": false,
     "start_time": "2022-08-27T06:01:26.253647",
     "status": "completed"
    },
    "tags": []
   },
   "source": [
    "# Settings"
   ]
  },
  {
   "cell_type": "code",
   "execution_count": 3,
   "id": "ca4560ba",
   "metadata": {
    "execution": {
     "iopub.execute_input": "2022-08-27T06:01:26.281482Z",
     "iopub.status.busy": "2022-08-27T06:01:26.281202Z",
     "iopub.status.idle": "2022-08-27T06:01:26.403381Z",
     "shell.execute_reply": "2022-08-27T06:01:26.402770Z"
    },
    "papermill": {
     "duration": 0.133756,
     "end_time": "2022-08-27T06:01:26.405296",
     "exception": false,
     "start_time": "2022-08-27T06:01:26.271540",
     "status": "completed"
    },
    "tags": [
     "parameters"
    ]
   },
   "outputs": [],
   "source": [
    "# a cohort name (it could be something like UK_BIOBANK, etc)\n",
    "COHORT_NAME = None\n",
    "\n",
    "# reference panel such as 1000G or GTEX_V8\n",
    "REFERENCE_PANEL = None\n",
    "\n",
    "# predictions models such as MASHR or ELASTIC_NET\n",
    "EQTL_MODEL = None\n",
    "\n",
    "# this is the default value used in S-MultiXcan to select the\n",
    "# top principal components of the expression correlation matrix\n",
    "SMULTIXCAN_CONDITION_NUMBER = 30\n",
    "\n",
    "# specifies a single chromosome value\n",
    "CHROMOSOME = None\n",
    "\n",
    "# If True, computes the correlation between closeby genes only;\n",
    "# otherwise, it computes correlations for all genes in a chromosome\n",
    "COMPUTE_CORRELATIONS_WITHIN_DISTANCE = False\n",
    "\n",
    "# if True, then it will continue if a gene pair correlation fails,\n",
    "# printing the warning/error for debugging. If False, any warning/error\n",
    "# will be thrown\n",
    "DEBUG_MODE = False"
   ]
  },
  {
   "cell_type": "code",
   "execution_count": 4,
   "id": "1af5d9a3",
   "metadata": {
    "execution": {
     "iopub.execute_input": "2022-08-27T06:01:26.426070Z",
     "iopub.status.busy": "2022-08-27T06:01:26.425846Z",
     "iopub.status.idle": "2022-08-27T06:01:26.465219Z",
     "shell.execute_reply": "2022-08-27T06:01:26.464681Z"
    },
    "papermill": {
     "duration": 0.051524,
     "end_time": "2022-08-27T06:01:26.466786",
     "exception": false,
     "start_time": "2022-08-27T06:01:26.415262",
     "status": "completed"
    },
    "tags": [
     "injected-parameters"
    ]
   },
   "outputs": [],
   "source": [
    "# Parameters\n",
    "COHORT_NAME = \"phenomexcan_astle\"\n",
    "REFERENCE_PANEL = \"GTEX_V8\"\n",
    "EQTL_MODEL = \"MASHR\"\n",
    "CHROMOSOME = 8\n"
   ]
  },
  {
   "cell_type": "code",
   "execution_count": 5,
   "id": "3190631f-27fc-480f-b18e-571d580425a5",
   "metadata": {
    "execution": {
     "iopub.execute_input": "2022-08-27T06:01:26.484418Z",
     "iopub.status.busy": "2022-08-27T06:01:26.484217Z",
     "iopub.status.idle": "2022-08-27T06:01:26.504594Z",
     "shell.execute_reply": "2022-08-27T06:01:26.504079Z"
    },
    "papermill": {
     "duration": 0.030971,
     "end_time": "2022-08-27T06:01:26.506082",
     "exception": false,
     "start_time": "2022-08-27T06:01:26.475111",
     "status": "completed"
    },
    "tags": []
   },
   "outputs": [
    {
     "data": {
      "text/plain": [
       "'Cohort name: phenomexcan_astle'"
      ]
     },
     "metadata": {},
     "output_type": "display_data"
    }
   ],
   "source": [
    "assert COHORT_NAME is not None and len(COHORT_NAME) > 0, \"A cohort name must be given\"\n",
    "\n",
    "COHORT_NAME = COHORT_NAME.lower()\n",
    "display(f\"Cohort name: {COHORT_NAME}\")"
   ]
  },
  {
   "cell_type": "code",
   "execution_count": 6,
   "id": "f53ba19b-0f93-4fa2-a047-63b375939d1a",
   "metadata": {
    "execution": {
     "iopub.execute_input": "2022-08-27T06:01:26.526078Z",
     "iopub.status.busy": "2022-08-27T06:01:26.525859Z",
     "iopub.status.idle": "2022-08-27T06:01:26.544359Z",
     "shell.execute_reply": "2022-08-27T06:01:26.543815Z"
    },
    "papermill": {
     "duration": 0.030236,
     "end_time": "2022-08-27T06:01:26.545819",
     "exception": false,
     "start_time": "2022-08-27T06:01:26.515583",
     "status": "completed"
    },
    "tags": []
   },
   "outputs": [
    {
     "data": {
      "text/plain": [
       "'Reference panel: GTEX_V8'"
      ]
     },
     "metadata": {},
     "output_type": "display_data"
    }
   ],
   "source": [
    "assert (\n",
    "    REFERENCE_PANEL is not None and len(REFERENCE_PANEL) > 0\n",
    "), \"A reference panel must be given\"\n",
    "\n",
    "display(f\"Reference panel: {REFERENCE_PANEL}\")"
   ]
  },
  {
   "cell_type": "code",
   "execution_count": 7,
   "id": "e024d130-c139-429a-9c6e-ccf149e297b0",
   "metadata": {
    "execution": {
     "iopub.execute_input": "2022-08-27T06:01:26.566678Z",
     "iopub.status.busy": "2022-08-27T06:01:26.566486Z",
     "iopub.status.idle": "2022-08-27T06:01:26.585320Z",
     "shell.execute_reply": "2022-08-27T06:01:26.584782Z"
    },
    "papermill": {
     "duration": 0.032134,
     "end_time": "2022-08-27T06:01:26.586782",
     "exception": false,
     "start_time": "2022-08-27T06:01:26.554648",
     "status": "completed"
    },
    "tags": []
   },
   "outputs": [
    {
     "data": {
      "text/plain": [
       "'eQTL model: MASHR) / mashr_'"
      ]
     },
     "metadata": {},
     "output_type": "display_data"
    }
   ],
   "source": [
    "assert (\n",
    "    EQTL_MODEL is not None and len(EQTL_MODEL) > 0\n",
    "), \"A prediction/eQTL model must be given\"\n",
    "\n",
    "EQTL_MODEL_FILES_PREFIX = conf.PHENOMEXCAN[\"PREDICTION_MODELS\"][f\"{EQTL_MODEL}_PREFIX\"]\n",
    "display(f\"eQTL model: {EQTL_MODEL}) / {EQTL_MODEL_FILES_PREFIX}\")"
   ]
  },
  {
   "cell_type": "code",
   "execution_count": 8,
   "id": "552a7f63-a18c-4d3e-bb6a-94f99b431291",
   "metadata": {
    "execution": {
     "iopub.execute_input": "2022-08-27T06:01:26.608172Z",
     "iopub.status.busy": "2022-08-27T06:01:26.607884Z",
     "iopub.status.idle": "2022-08-27T06:01:26.629783Z",
     "shell.execute_reply": "2022-08-27T06:01:26.629242Z"
    },
    "papermill": {
     "duration": 0.033409,
     "end_time": "2022-08-27T06:01:26.631395",
     "exception": false,
     "start_time": "2022-08-27T06:01:26.597986",
     "status": "completed"
    },
    "tags": []
   },
   "outputs": [
    {
     "data": {
      "text/plain": [
       "'S-MultiXcan condition number: 30'"
      ]
     },
     "metadata": {},
     "output_type": "display_data"
    }
   ],
   "source": [
    "assert (\n",
    "    SMULTIXCAN_CONDITION_NUMBER is not None and SMULTIXCAN_CONDITION_NUMBER > 0\n",
    "), \"The S-MultiXcan condition number (positive integer) must be given\"\n",
    "\n",
    "display(f\"S-MultiXcan condition number: {SMULTIXCAN_CONDITION_NUMBER}\")"
   ]
  },
  {
   "cell_type": "code",
   "execution_count": 9,
   "id": "f34a336f-548e-4afe-8955-90eaea4f42c6",
   "metadata": {
    "execution": {
     "iopub.execute_input": "2022-08-27T06:01:26.652130Z",
     "iopub.status.busy": "2022-08-27T06:01:26.651840Z",
     "iopub.status.idle": "2022-08-27T06:01:26.674494Z",
     "shell.execute_reply": "2022-08-27T06:01:26.673836Z"
    },
    "papermill": {
     "duration": 0.035194,
     "end_time": "2022-08-27T06:01:26.676362",
     "exception": false,
     "start_time": "2022-08-27T06:01:26.641168",
     "status": "completed"
    },
    "tags": []
   },
   "outputs": [
    {
     "data": {
      "text/plain": [
       "'Working on chromosome 8'"
      ]
     },
     "metadata": {},
     "output_type": "display_data"
    }
   ],
   "source": [
    "assert CHROMOSOME is not None and (\n",
    "    1 <= CHROMOSOME <= 22\n",
    "), \"You have to select one chromosome (format: number between 1 and 22)\"\n",
    "\n",
    "# CHROMOSOME = str(CHROMOSOME)\n",
    "display(f\"Working on chromosome {CHROMOSOME}\")"
   ]
  },
  {
   "cell_type": "code",
   "execution_count": 10,
   "id": "ab8e96e8-06b5-4363-9dcd-dc4d78cc27f7",
   "metadata": {
    "execution": {
     "iopub.execute_input": "2022-08-27T06:01:26.699154Z",
     "iopub.status.busy": "2022-08-27T06:01:26.698850Z",
     "iopub.status.idle": "2022-08-27T06:01:26.724531Z",
     "shell.execute_reply": "2022-08-27T06:01:26.723938Z"
    },
    "papermill": {
     "duration": 0.039506,
     "end_time": "2022-08-27T06:01:26.726250",
     "exception": false,
     "start_time": "2022-08-27T06:01:26.686744",
     "status": "completed"
    },
    "tags": []
   },
   "outputs": [
    {
     "data": {
      "text/plain": [
       "'Compute correlation within distance False'"
      ]
     },
     "metadata": {},
     "output_type": "display_data"
    }
   ],
   "source": [
    "display(f\"Compute correlation within distance {COMPUTE_CORRELATIONS_WITHIN_DISTANCE}\")"
   ]
  },
  {
   "cell_type": "code",
   "execution_count": 11,
   "id": "396392dc-0340-4540-9b02-e182b833f909",
   "metadata": {
    "execution": {
     "iopub.execute_input": "2022-08-27T06:01:26.749725Z",
     "iopub.status.busy": "2022-08-27T06:01:26.749452Z",
     "iopub.status.idle": "2022-08-27T06:01:26.775677Z",
     "shell.execute_reply": "2022-08-27T06:01:26.775086Z"
    },
    "papermill": {
     "duration": 0.0397,
     "end_time": "2022-08-27T06:01:26.777369",
     "exception": false,
     "start_time": "2022-08-27T06:01:26.737669",
     "status": "completed"
    },
    "tags": []
   },
   "outputs": [
    {
     "data": {
      "text/plain": [
       "'Using output dir base: /project/ritchie20/projects/phenoplier/base/results/gls/gene_corrs/cohorts/phenomexcan_astle/gtex_v8/mashr'"
      ]
     },
     "metadata": {},
     "output_type": "display_data"
    }
   ],
   "source": [
    "OUTPUT_DIR_BASE = (\n",
    "    conf.RESULTS[\"GLS\"]\n",
    "    / \"gene_corrs\"\n",
    "    / \"cohorts\"\n",
    "    / COHORT_NAME\n",
    "    / REFERENCE_PANEL.lower()\n",
    "    / EQTL_MODEL.lower()\n",
    ")\n",
    "OUTPUT_DIR_BASE.mkdir(parents=True, exist_ok=True)\n",
    "\n",
    "display(f\"Using output dir base: {OUTPUT_DIR_BASE}\")"
   ]
  },
  {
   "cell_type": "markdown",
   "id": "d2ba085e",
   "metadata": {
    "papermill": {
     "duration": 0.01193,
     "end_time": "2022-08-27T06:01:26.802144",
     "exception": false,
     "start_time": "2022-08-27T06:01:26.790214",
     "status": "completed"
    },
    "tags": []
   },
   "source": [
    "# Load data"
   ]
  },
  {
   "cell_type": "markdown",
   "id": "7dcb8db7",
   "metadata": {
    "papermill": {
     "duration": 0.010387,
     "end_time": "2022-08-27T06:01:26.823177",
     "exception": false,
     "start_time": "2022-08-27T06:01:26.812790",
     "status": "completed"
    },
    "tags": []
   },
   "source": [
    "## GWAS variants"
   ]
  },
  {
   "cell_type": "code",
   "execution_count": 12,
   "id": "29434c4e-8cd3-4b9b-82e4-b5a251d9dd19",
   "metadata": {
    "execution": {
     "iopub.execute_input": "2022-08-27T06:01:26.843562Z",
     "iopub.status.busy": "2022-08-27T06:01:26.843302Z",
     "iopub.status.idle": "2022-08-27T06:01:29.419884Z",
     "shell.execute_reply": "2022-08-27T06:01:29.419289Z"
    },
    "papermill": {
     "duration": 2.589528,
     "end_time": "2022-08-27T06:01:29.421840",
     "exception": false,
     "start_time": "2022-08-27T06:01:26.832312",
     "status": "completed"
    },
    "tags": []
   },
   "outputs": [],
   "source": [
    "with open(OUTPUT_DIR_BASE / \"gwas_variant_ids.pkl\", \"rb\") as handle:\n",
    "    gwas_variants_ids_set = pickle.load(handle)"
   ]
  },
  {
   "cell_type": "code",
   "execution_count": 13,
   "id": "b9d9dec2-4a76-4bf9-bde2-e24c95acb8a0",
   "metadata": {
    "execution": {
     "iopub.execute_input": "2022-08-27T06:01:29.467313Z",
     "iopub.status.busy": "2022-08-27T06:01:29.467019Z",
     "iopub.status.idle": "2022-08-27T06:01:29.721715Z",
     "shell.execute_reply": "2022-08-27T06:01:29.721134Z"
    },
    "papermill": {
     "duration": 0.275412,
     "end_time": "2022-08-27T06:01:29.723368",
     "exception": false,
     "start_time": "2022-08-27T06:01:29.447956",
     "status": "completed"
    },
    "tags": []
   },
   "outputs": [
    {
     "data": {
      "text/plain": [
       "8871979"
      ]
     },
     "execution_count": 13,
     "metadata": {},
     "output_type": "execute_result"
    }
   ],
   "source": [
    "len(gwas_variants_ids_set)"
   ]
  },
  {
   "cell_type": "code",
   "execution_count": 14,
   "id": "4235b06a-6034-4ee4-a0a3-2ae35d122418",
   "metadata": {
    "execution": {
     "iopub.execute_input": "2022-08-27T06:01:29.761106Z",
     "iopub.status.busy": "2022-08-27T06:01:29.760877Z",
     "iopub.status.idle": "2022-08-27T06:01:30.430322Z",
     "shell.execute_reply": "2022-08-27T06:01:30.429585Z"
    },
    "papermill": {
     "duration": 0.691938,
     "end_time": "2022-08-27T06:01:30.432086",
     "exception": false,
     "start_time": "2022-08-27T06:01:29.740148",
     "status": "completed"
    },
    "tags": []
   },
   "outputs": [
    {
     "data": {
      "text/plain": [
       "['chr5_12604485_T_C_b38',\n",
       " 'chr6_78024465_C_T_b38',\n",
       " 'chr1_230751754_C_T_b38',\n",
       " 'chr3_59715704_C_T_b38',\n",
       " 'chr11_69320907_C_G_b38']"
      ]
     },
     "execution_count": 14,
     "metadata": {},
     "output_type": "execute_result"
    }
   ],
   "source": [
    "list(gwas_variants_ids_set)[:5]"
   ]
  },
  {
   "cell_type": "markdown",
   "id": "07866999-2305-41f9-a144-e69c9122c212",
   "metadata": {
    "papermill": {
     "duration": 0.014056,
     "end_time": "2022-08-27T06:01:30.462108",
     "exception": false,
     "start_time": "2022-08-27T06:01:30.448052",
     "status": "completed"
    },
    "tags": []
   },
   "source": [
    "## S-PrediXcan tissue models"
   ]
  },
  {
   "cell_type": "code",
   "execution_count": 15,
   "id": "780611d9-77c8-405f-90a4-f271f7b09397",
   "metadata": {
    "execution": {
     "iopub.execute_input": "2022-08-27T06:01:30.489845Z",
     "iopub.status.busy": "2022-08-27T06:01:30.489639Z",
     "iopub.status.idle": "2022-08-27T06:01:31.517537Z",
     "shell.execute_reply": "2022-08-27T06:01:31.516916Z"
    },
    "papermill": {
     "duration": 1.042913,
     "end_time": "2022-08-27T06:01:31.519465",
     "exception": false,
     "start_time": "2022-08-27T06:01:30.476552",
     "status": "completed"
    },
    "tags": []
   },
   "outputs": [],
   "source": [
    "spredixcan_genes_models = pd.read_pickle(OUTPUT_DIR_BASE / \"gene_tissues.pkl\")"
   ]
  },
  {
   "cell_type": "code",
   "execution_count": 16,
   "id": "726dd1f6-9557-4225-91fa-b3b879ea96e1",
   "metadata": {
    "execution": {
     "iopub.execute_input": "2022-08-27T06:01:31.548369Z",
     "iopub.status.busy": "2022-08-27T06:01:31.548156Z",
     "iopub.status.idle": "2022-08-27T06:01:31.572111Z",
     "shell.execute_reply": "2022-08-27T06:01:31.571569Z"
    },
    "papermill": {
     "duration": 0.04004,
     "end_time": "2022-08-27T06:01:31.573591",
     "exception": false,
     "start_time": "2022-08-27T06:01:31.533551",
     "status": "completed"
    },
    "tags": []
   },
   "outputs": [
    {
     "data": {
      "text/plain": [
       "(6450, 3)"
      ]
     },
     "execution_count": 16,
     "metadata": {},
     "output_type": "execute_result"
    }
   ],
   "source": [
    "spredixcan_genes_models.shape"
   ]
  },
  {
   "cell_type": "code",
   "execution_count": 17,
   "id": "944a1b48-222c-4eb0-b252-b9de2cbca215",
   "metadata": {
    "execution": {
     "iopub.execute_input": "2022-08-27T06:01:31.601355Z",
     "iopub.status.busy": "2022-08-27T06:01:31.601151Z",
     "iopub.status.idle": "2022-08-27T06:01:31.631495Z",
     "shell.execute_reply": "2022-08-27T06:01:31.630897Z"
    },
    "papermill": {
     "duration": 0.045398,
     "end_time": "2022-08-27T06:01:31.633066",
     "exception": false,
     "start_time": "2022-08-27T06:01:31.587668",
     "status": "completed"
    },
    "tags": []
   },
   "outputs": [
    {
     "data": {
      "text/html": [
       "<div>\n",
       "<style scoped>\n",
       "    .dataframe tbody tr th:only-of-type {\n",
       "        vertical-align: middle;\n",
       "    }\n",
       "\n",
       "    .dataframe tbody tr th {\n",
       "        vertical-align: top;\n",
       "    }\n",
       "\n",
       "    .dataframe thead th {\n",
       "        text-align: right;\n",
       "    }\n",
       "</style>\n",
       "<table border=\"1\" class=\"dataframe\">\n",
       "  <thead>\n",
       "    <tr style=\"text-align: right;\">\n",
       "      <th></th>\n",
       "      <th>gene_name</th>\n",
       "      <th>tissue</th>\n",
       "      <th>n_tissues</th>\n",
       "    </tr>\n",
       "    <tr>\n",
       "      <th>gene_id</th>\n",
       "      <th></th>\n",
       "      <th></th>\n",
       "      <th></th>\n",
       "    </tr>\n",
       "  </thead>\n",
       "  <tbody>\n",
       "    <tr>\n",
       "      <th>ENSG00000000419</th>\n",
       "      <td>DPM1</td>\n",
       "      <td>(Brain_Hypothalamus, Brain_Substantia_nigra, C...</td>\n",
       "      <td>3</td>\n",
       "    </tr>\n",
       "    <tr>\n",
       "      <th>ENSG00000000938</th>\n",
       "      <td>FGR</td>\n",
       "      <td>(Liver, Brain_Cerebellar_Hemisphere, Cells_EBV...</td>\n",
       "      <td>36</td>\n",
       "    </tr>\n",
       "    <tr>\n",
       "      <th>ENSG00000000971</th>\n",
       "      <td>CFH</td>\n",
       "      <td>(Brain_Cerebellar_Hemisphere, Heart_Atrial_App...</td>\n",
       "      <td>34</td>\n",
       "    </tr>\n",
       "    <tr>\n",
       "      <th>ENSG00000001084</th>\n",
       "      <td>GCLC</td>\n",
       "      <td>(Brain_Cerebellar_Hemisphere, Cells_EBV-transf...</td>\n",
       "      <td>33</td>\n",
       "    </tr>\n",
       "    <tr>\n",
       "      <th>ENSG00000001167</th>\n",
       "      <td>NFYA</td>\n",
       "      <td>(Brain_Cerebellar_Hemisphere, Heart_Atrial_App...</td>\n",
       "      <td>40</td>\n",
       "    </tr>\n",
       "  </tbody>\n",
       "</table>\n",
       "</div>"
      ],
      "text/plain": [
       "                gene_name                                             tissue  \\\n",
       "gene_id                                                                        \n",
       "ENSG00000000419      DPM1  (Brain_Hypothalamus, Brain_Substantia_nigra, C...   \n",
       "ENSG00000000938       FGR  (Liver, Brain_Cerebellar_Hemisphere, Cells_EBV...   \n",
       "ENSG00000000971       CFH  (Brain_Cerebellar_Hemisphere, Heart_Atrial_App...   \n",
       "ENSG00000001084      GCLC  (Brain_Cerebellar_Hemisphere, Cells_EBV-transf...   \n",
       "ENSG00000001167      NFYA  (Brain_Cerebellar_Hemisphere, Heart_Atrial_App...   \n",
       "\n",
       "                 n_tissues  \n",
       "gene_id                     \n",
       "ENSG00000000419          3  \n",
       "ENSG00000000938         36  \n",
       "ENSG00000000971         34  \n",
       "ENSG00000001084         33  \n",
       "ENSG00000001167         40  "
      ]
     },
     "execution_count": 17,
     "metadata": {},
     "output_type": "execute_result"
    }
   ],
   "source": [
    "spredixcan_genes_models.head()"
   ]
  },
  {
   "cell_type": "code",
   "execution_count": 18,
   "id": "d1c11bb1-be0b-4f40-b360-633d6827109f",
   "metadata": {
    "execution": {
     "iopub.execute_input": "2022-08-27T06:01:31.669255Z",
     "iopub.status.busy": "2022-08-27T06:01:31.668971Z",
     "iopub.status.idle": "2022-08-27T06:01:31.692467Z",
     "shell.execute_reply": "2022-08-27T06:01:31.691851Z"
    },
    "papermill": {
     "duration": 0.04456,
     "end_time": "2022-08-27T06:01:31.694361",
     "exception": false,
     "start_time": "2022-08-27T06:01:31.649801",
     "status": "completed"
    },
    "tags": []
   },
   "outputs": [],
   "source": [
    "assert spredixcan_genes_models.index.is_unique"
   ]
  },
  {
   "cell_type": "markdown",
   "id": "a5b5092c-a13e-47c4-a92a-480fcc08f3ae",
   "metadata": {
    "papermill": {
     "duration": 0.01512,
     "end_time": "2022-08-27T06:01:31.723745",
     "exception": false,
     "start_time": "2022-08-27T06:01:31.708625",
     "status": "completed"
    },
    "tags": []
   },
   "source": [
    "## Gene info"
   ]
  },
  {
   "cell_type": "code",
   "execution_count": 19,
   "id": "7d6bb224-88e9-4358-ac10-43a41d92cdad",
   "metadata": {
    "execution": {
     "iopub.execute_input": "2022-08-27T06:01:31.753111Z",
     "iopub.status.busy": "2022-08-27T06:01:31.752813Z",
     "iopub.status.idle": "2022-08-27T06:01:31.782627Z",
     "shell.execute_reply": "2022-08-27T06:01:31.781976Z"
    },
    "papermill": {
     "duration": 0.047721,
     "end_time": "2022-08-27T06:01:31.784704",
     "exception": false,
     "start_time": "2022-08-27T06:01:31.736983",
     "status": "completed"
    },
    "tags": []
   },
   "outputs": [],
   "source": [
    "genes_info = pd.read_pickle(OUTPUT_DIR_BASE / \"genes_info.pkl\")"
   ]
  },
  {
   "cell_type": "code",
   "execution_count": 20,
   "id": "9e32abfa-546d-483e-8c18-d526e9e05903",
   "metadata": {
    "execution": {
     "iopub.execute_input": "2022-08-27T06:01:31.813953Z",
     "iopub.status.busy": "2022-08-27T06:01:31.813653Z",
     "iopub.status.idle": "2022-08-27T06:01:31.836568Z",
     "shell.execute_reply": "2022-08-27T06:01:31.836018Z"
    },
    "papermill": {
     "duration": 0.039915,
     "end_time": "2022-08-27T06:01:31.838148",
     "exception": false,
     "start_time": "2022-08-27T06:01:31.798233",
     "status": "completed"
    },
    "tags": []
   },
   "outputs": [
    {
     "data": {
      "text/plain": [
       "(6450, 7)"
      ]
     },
     "execution_count": 20,
     "metadata": {},
     "output_type": "execute_result"
    }
   ],
   "source": [
    "genes_info.shape"
   ]
  },
  {
   "cell_type": "code",
   "execution_count": 21,
   "id": "d16c3e92-85ec-468a-9a56-e25a9774a1cb",
   "metadata": {
    "execution": {
     "iopub.execute_input": "2022-08-27T06:01:31.866947Z",
     "iopub.status.busy": "2022-08-27T06:01:31.866729Z",
     "iopub.status.idle": "2022-08-27T06:01:31.892809Z",
     "shell.execute_reply": "2022-08-27T06:01:31.892294Z"
    },
    "papermill": {
     "duration": 0.042015,
     "end_time": "2022-08-27T06:01:31.894354",
     "exception": false,
     "start_time": "2022-08-27T06:01:31.852339",
     "status": "completed"
    },
    "tags": []
   },
   "outputs": [
    {
     "data": {
      "text/html": [
       "<div>\n",
       "<style scoped>\n",
       "    .dataframe tbody tr th:only-of-type {\n",
       "        vertical-align: middle;\n",
       "    }\n",
       "\n",
       "    .dataframe tbody tr th {\n",
       "        vertical-align: top;\n",
       "    }\n",
       "\n",
       "    .dataframe thead th {\n",
       "        text-align: right;\n",
       "    }\n",
       "</style>\n",
       "<table border=\"1\" class=\"dataframe\">\n",
       "  <thead>\n",
       "    <tr style=\"text-align: right;\">\n",
       "      <th></th>\n",
       "      <th>name</th>\n",
       "      <th>id</th>\n",
       "      <th>chr</th>\n",
       "      <th>band</th>\n",
       "      <th>start_position</th>\n",
       "      <th>end_position</th>\n",
       "      <th>gene_length</th>\n",
       "    </tr>\n",
       "  </thead>\n",
       "  <tbody>\n",
       "    <tr>\n",
       "      <th>0</th>\n",
       "      <td>FBXO34</td>\n",
       "      <td>ENSG00000178974</td>\n",
       "      <td>14</td>\n",
       "      <td>14q22.3</td>\n",
       "      <td>55271421</td>\n",
       "      <td>55361918</td>\n",
       "      <td>90497</td>\n",
       "    </tr>\n",
       "    <tr>\n",
       "      <th>1</th>\n",
       "      <td>ARG1</td>\n",
       "      <td>ENSG00000118520</td>\n",
       "      <td>6</td>\n",
       "      <td>6q23.2</td>\n",
       "      <td>131573144</td>\n",
       "      <td>131584332</td>\n",
       "      <td>11188</td>\n",
       "    </tr>\n",
       "    <tr>\n",
       "      <th>2</th>\n",
       "      <td>FADS2</td>\n",
       "      <td>ENSG00000134824</td>\n",
       "      <td>11</td>\n",
       "      <td>11q12.2</td>\n",
       "      <td>61792980</td>\n",
       "      <td>61867354</td>\n",
       "      <td>74374</td>\n",
       "    </tr>\n",
       "    <tr>\n",
       "      <th>3</th>\n",
       "      <td>CA4</td>\n",
       "      <td>ENSG00000167434</td>\n",
       "      <td>17</td>\n",
       "      <td>17q23.1</td>\n",
       "      <td>60149942</td>\n",
       "      <td>60170899</td>\n",
       "      <td>20957</td>\n",
       "    </tr>\n",
       "    <tr>\n",
       "      <th>4</th>\n",
       "      <td>PFKFB3</td>\n",
       "      <td>ENSG00000170525</td>\n",
       "      <td>10</td>\n",
       "      <td>10p15.1</td>\n",
       "      <td>6144934</td>\n",
       "      <td>6254644</td>\n",
       "      <td>109710</td>\n",
       "    </tr>\n",
       "  </tbody>\n",
       "</table>\n",
       "</div>"
      ],
      "text/plain": [
       "     name               id  chr     band  start_position  end_position  \\\n",
       "0  FBXO34  ENSG00000178974   14  14q22.3        55271421      55361918   \n",
       "1    ARG1  ENSG00000118520    6   6q23.2       131573144     131584332   \n",
       "2   FADS2  ENSG00000134824   11  11q12.2        61792980      61867354   \n",
       "3     CA4  ENSG00000167434   17  17q23.1        60149942      60170899   \n",
       "4  PFKFB3  ENSG00000170525   10  10p15.1         6144934       6254644   \n",
       "\n",
       "   gene_length  \n",
       "0        90497  \n",
       "1        11188  \n",
       "2        74374  \n",
       "3        20957  \n",
       "4       109710  "
      ]
     },
     "execution_count": 21,
     "metadata": {},
     "output_type": "execute_result"
    }
   ],
   "source": [
    "genes_info.head()"
   ]
  },
  {
   "cell_type": "markdown",
   "id": "d3843e06",
   "metadata": {
    "papermill": {
     "duration": 0.011788,
     "end_time": "2022-08-27T06:01:31.917592",
     "exception": false,
     "start_time": "2022-08-27T06:01:31.905804",
     "status": "completed"
    },
    "tags": []
   },
   "source": [
    "# Compute correlations"
   ]
  },
  {
   "cell_type": "code",
   "execution_count": 22,
   "id": "cb859c15-d1f3-4006-a74c-2b83c0db9611",
   "metadata": {
    "execution": {
     "iopub.execute_input": "2022-08-27T06:01:31.942817Z",
     "iopub.status.busy": "2022-08-27T06:01:31.942559Z",
     "iopub.status.idle": "2022-08-27T06:01:31.965509Z",
     "shell.execute_reply": "2022-08-27T06:01:31.964965Z"
    },
    "papermill": {
     "duration": 0.037987,
     "end_time": "2022-08-27T06:01:31.967020",
     "exception": false,
     "start_time": "2022-08-27T06:01:31.929033",
     "status": "completed"
    },
    "tags": []
   },
   "outputs": [
    {
     "data": {
      "text/plain": [
       "PosixPath('/project/ritchie20/projects/phenoplier/base/results/gls/gene_corrs/cohorts/phenomexcan_astle/gtex_v8/mashr/by_chr/gene_corrs-chr8.pkl')"
      ]
     },
     "metadata": {},
     "output_type": "display_data"
    }
   ],
   "source": [
    "output_dir = OUTPUT_DIR_BASE / \"by_chr\"\n",
    "output_dir.mkdir(exist_ok=True, parents=True)\n",
    "output_file = output_dir / f\"gene_corrs-chr{CHROMOSOME}.pkl\"\n",
    "display(output_file)"
   ]
  },
  {
   "cell_type": "code",
   "execution_count": 23,
   "id": "aa674fe4-6794-4eed-98fa-32b39d1d4ace",
   "metadata": {
    "execution": {
     "iopub.execute_input": "2022-08-27T06:01:31.994682Z",
     "iopub.status.busy": "2022-08-27T06:01:31.994491Z",
     "iopub.status.idle": "2022-08-27T06:01:32.011181Z",
     "shell.execute_reply": "2022-08-27T06:01:32.010652Z"
    },
    "papermill": {
     "duration": 0.033181,
     "end_time": "2022-08-27T06:01:32.012761",
     "exception": false,
     "start_time": "2022-08-27T06:01:31.979580",
     "status": "completed"
    },
    "tags": []
   },
   "outputs": [],
   "source": [
    "warnings.filterwarnings(\"error\")"
   ]
  },
  {
   "cell_type": "code",
   "execution_count": 24,
   "id": "44d5450b-3baf-43f1-9e2e-4b06f1a785f8",
   "metadata": {
    "execution": {
     "iopub.execute_input": "2022-08-27T06:01:32.039620Z",
     "iopub.status.busy": "2022-08-27T06:01:32.039429Z",
     "iopub.status.idle": "2022-08-27T06:01:32.056840Z",
     "shell.execute_reply": "2022-08-27T06:01:32.056343Z"
    },
    "papermill": {
     "duration": 0.03445,
     "end_time": "2022-08-27T06:01:32.058435",
     "exception": false,
     "start_time": "2022-08-27T06:01:32.023985",
     "status": "completed"
    },
    "tags": []
   },
   "outputs": [],
   "source": [
    "# standard checks\n",
    "all_chrs = genes_info[\"chr\"].dropna().unique()\n",
    "assert all_chrs.shape[0] == 22\n",
    "\n",
    "# select chromosome given by the user\n",
    "assert CHROMOSOME in all_chrs"
   ]
  },
  {
   "cell_type": "code",
   "execution_count": 25,
   "id": "2d7c043c-92a7-4d35-991b-fa69ac1e0268",
   "metadata": {
    "execution": {
     "iopub.execute_input": "2022-08-27T06:01:32.086392Z",
     "iopub.status.busy": "2022-08-27T06:01:32.086176Z",
     "iopub.status.idle": "2022-08-27T06:01:32.149047Z",
     "shell.execute_reply": "2022-08-27T06:01:32.148484Z"
    },
    "papermill": {
     "duration": 0.078887,
     "end_time": "2022-08-27T06:01:32.150713",
     "exception": false,
     "start_time": "2022-08-27T06:01:32.071826",
     "status": "completed"
    },
    "tags": []
   },
   "outputs": [
    {
     "name": "stdout",
     "output_type": "stream",
     "text": [
      "Number of genes in chromosome: 222\n"
     ]
    }
   ],
   "source": [
    "# run only on the chromosome specified\n",
    "all_chrs = [CHROMOSOME]\n",
    "genes_chr = genes_info[genes_info[\"chr\"] == CHROMOSOME]\n",
    "\n",
    "# For testing purposes\n",
    "# genes_chr = genes_chr.sample(n=20)\n",
    "\n",
    "print(f\"Number of genes in chromosome: {genes_chr.shape[0]}\", flush=True)"
   ]
  },
  {
   "cell_type": "code",
   "execution_count": 26,
   "id": "916015d8-2979-46d3-a9b9-1cf5a0932c6a",
   "metadata": {
    "execution": {
     "iopub.execute_input": "2022-08-27T06:01:32.184125Z",
     "iopub.status.busy": "2022-08-27T06:01:32.183904Z",
     "iopub.status.idle": "2022-08-27T06:01:32.620097Z",
     "shell.execute_reply": "2022-08-27T06:01:32.619480Z"
    },
    "papermill": {
     "duration": 0.45559,
     "end_time": "2022-08-27T06:01:32.622045",
     "exception": false,
     "start_time": "2022-08-27T06:01:32.166455",
     "status": "completed"
    },
    "tags": []
   },
   "outputs": [],
   "source": [
    "# sort genes by starting position to make visualizations better later\n",
    "genes_chr = genes_chr.sort_values(\"start_position\")"
   ]
  },
  {
   "cell_type": "code",
   "execution_count": 27,
   "id": "a38aa74a-8ad3-47f6-8ef9-56be0e011774",
   "metadata": {
    "execution": {
     "iopub.execute_input": "2022-08-27T06:01:32.649806Z",
     "iopub.status.busy": "2022-08-27T06:01:32.649599Z",
     "iopub.status.idle": "2022-08-27T06:01:33.164685Z",
     "shell.execute_reply": "2022-08-27T06:01:33.164086Z"
    },
    "papermill": {
     "duration": 0.529331,
     "end_time": "2022-08-27T06:01:33.166592",
     "exception": false,
     "start_time": "2022-08-27T06:01:32.637261",
     "status": "completed"
    },
    "tags": []
   },
   "outputs": [],
   "source": [
    "gene_chr_objs = [Gene(ensembl_id=gene_id) for gene_id in genes_chr[\"id\"]]"
   ]
  },
  {
   "cell_type": "code",
   "execution_count": 28,
   "id": "570f974f-13c3-42b6-ad3a-ce99ca885c1a",
   "metadata": {
    "execution": {
     "iopub.execute_input": "2022-08-27T06:01:33.197939Z",
     "iopub.status.busy": "2022-08-27T06:01:33.197720Z",
     "iopub.status.idle": "2022-08-27T06:01:33.217745Z",
     "shell.execute_reply": "2022-08-27T06:01:33.217191Z"
    },
    "papermill": {
     "duration": 0.036341,
     "end_time": "2022-08-27T06:01:33.219415",
     "exception": false,
     "start_time": "2022-08-27T06:01:33.183074",
     "status": "completed"
    },
    "tags": []
   },
   "outputs": [
    {
     "name": "stdout",
     "output_type": "stream",
     "text": [
      "Number of gene combinations: 24531\n"
     ]
    }
   ],
   "source": [
    "n = len(gene_chr_objs)\n",
    "n_comb = int(n * (n - 1) / 2.0)\n",
    "print(f\"Number of gene combinations: {n_comb}\", flush=True)"
   ]
  },
  {
   "cell_type": "code",
   "execution_count": 29,
   "id": "cdbb90a1",
   "metadata": {
    "execution": {
     "iopub.execute_input": "2022-08-27T06:01:33.248134Z",
     "iopub.status.busy": "2022-08-27T06:01:33.247908Z",
     "iopub.status.idle": "2022-08-27T06:38:45.280359Z",
     "shell.execute_reply": "2022-08-27T06:38:45.278863Z"
    },
    "papermill": {
     "duration": 2232.049771,
     "end_time": "2022-08-27T06:38:45.283798",
     "exception": false,
     "start_time": "2022-08-27T06:01:33.234027",
     "status": "completed"
    },
    "tags": []
   },
   "outputs": [
    {
     "name": "stderr",
     "output_type": "stream",
     "text": [
      "ENSG00000196150 / ENSG00000196150: : 24753it [37:11, 11.09it/s]\n"
     ]
    },
    {
     "data": {
      "text/plain": [
       "PosixPath('/project/ritchie20/projects/phenoplier/base/results/gls/gene_corrs/cohorts/phenomexcan_astle/gtex_v8/mashr/by_chr/gene_corrs-chr8.pkl')"
      ]
     },
     "metadata": {},
     "output_type": "display_data"
    }
   ],
   "source": [
    "gene_corrs = []\n",
    "gene_corrs_data = np.full(\n",
    "    (n, n),\n",
    "    np.nan,\n",
    "    dtype=np.float64,\n",
    ")\n",
    "\n",
    "i = 0\n",
    "with tqdm(ncols=100, total=n_comb) as pbar:\n",
    "    for gene1_idx in range(0, len(gene_chr_objs)):\n",
    "        gene1_obj = gene_chr_objs[gene1_idx]\n",
    "        gene1_tissues = spredixcan_genes_models.loc[gene1_obj.ensembl_id, \"tissue\"]\n",
    "\n",
    "        for gene2_idx in range(gene1_idx, len(gene_chr_objs)):\n",
    "            gene2_obj = gene_chr_objs[gene2_idx]\n",
    "            gene2_tissues = spredixcan_genes_models.loc[gene2_obj.ensembl_id, \"tissue\"]\n",
    "\n",
    "            pbar.set_description(f\"{gene1_obj.ensembl_id} / {gene2_obj.ensembl_id}\")\n",
    "\n",
    "            try:\n",
    "                r = gene1_obj.get_ssm_correlation(\n",
    "                    other_gene=gene2_obj,\n",
    "                    tissues=gene1_tissues,\n",
    "                    other_tissues=gene2_tissues,\n",
    "                    snps_subset=gwas_variants_ids_set,\n",
    "                    condition_number=SMULTIXCAN_CONDITION_NUMBER,\n",
    "                    reference_panel=REFERENCE_PANEL,\n",
    "                    model_type=EQTL_MODEL,\n",
    "                    use_within_distance=COMPUTE_CORRELATIONS_WITHIN_DISTANCE,\n",
    "                )\n",
    "\n",
    "                if r is None:\n",
    "                    # if r is None, it's very likely because:\n",
    "                    #  * one of the genes has no prediction models\n",
    "                    #  * all the SNPs predictors for the gene are not present in the reference\n",
    "                    #    panel\n",
    "\n",
    "                    r = 0.0\n",
    "\n",
    "                gene_corrs.append(r)\n",
    "\n",
    "                gene_corrs_data[gene1_idx, gene2_idx] = r\n",
    "                gene_corrs_data[gene2_idx, gene1_idx] = r\n",
    "            except Warning as e:\n",
    "                if not DEBUG_MODE:\n",
    "                    raise e\n",
    "\n",
    "                print(\n",
    "                    f\"RuntimeWarning for genes {gene1_obj.ensembl_id} and {gene2_obj.ensembl_id}\",\n",
    "                    flush=True,\n",
    "                )\n",
    "                print(traceback.format_exc(), flush=True)\n",
    "\n",
    "                gene_corrs.append(np.nan)\n",
    "            except Exception as e:\n",
    "                if not DEBUG_MODE:\n",
    "                    raise e\n",
    "\n",
    "                print(\n",
    "                    f\"Exception for genes {gene1_obj.ensembl_id} and {gene2_obj.ensembl_id}\",\n",
    "                    flush=True,\n",
    "                )\n",
    "                print(traceback.format_exc(), flush=True)\n",
    "\n",
    "                gene_corrs.append(np.nan)\n",
    "\n",
    "            pbar.update(1)\n",
    "\n",
    "# create a pandas series\n",
    "gene_corrs_flat = pd.Series(gene_corrs)\n",
    "\n",
    "# save\n",
    "# FIXME: consider saving only the condenced matrix here. See here for\n",
    "# more details: https://github.com/greenelab/phenoplier/pull/38#discussion_r634600813\n",
    "# gene_corrs_data = squareform(np.array(gene_corrs, dtype=np.float64))\n",
    "# np.fill_diagonal(gene_corrs_data, 1.0)\n",
    "\n",
    "gene_chr_ids = [g.ensembl_id for g in gene_chr_objs]\n",
    "gene_corrs_df = pd.DataFrame(\n",
    "    data=gene_corrs_data,\n",
    "    index=gene_chr_ids,\n",
    "    columns=gene_chr_ids,\n",
    ")\n",
    "\n",
    "output_dir.mkdir(exist_ok=True, parents=True)\n",
    "display(output_file)\n",
    "\n",
    "gene_corrs_df.to_pickle(output_file)"
   ]
  },
  {
   "cell_type": "markdown",
   "id": "faa67b51-5373-470f-aa72-2ded53fa6dfe",
   "metadata": {
    "papermill": {
     "duration": 1.527335,
     "end_time": "2022-08-27T06:38:48.341358",
     "exception": false,
     "start_time": "2022-08-27T06:38:46.814023",
     "status": "completed"
    },
    "tags": []
   },
   "source": [
    "# Testing"
   ]
  },
  {
   "cell_type": "code",
   "execution_count": 30,
   "id": "14f7d046-4b55-4896-a56b-990127bcc388",
   "metadata": {
    "execution": {
     "iopub.execute_input": "2022-08-27T06:38:51.339671Z",
     "iopub.status.busy": "2022-08-27T06:38:51.339392Z",
     "iopub.status.idle": "2022-08-27T06:38:51.570042Z",
     "shell.execute_reply": "2022-08-27T06:38:51.569507Z"
    },
    "papermill": {
     "duration": 1.754637,
     "end_time": "2022-08-27T06:38:51.571529",
     "exception": false,
     "start_time": "2022-08-27T06:38:49.816892",
     "status": "completed"
    },
    "tags": []
   },
   "outputs": [
    {
     "data": {
      "text/plain": [
       "(222, 222)"
      ]
     },
     "execution_count": 30,
     "metadata": {},
     "output_type": "execute_result"
    }
   ],
   "source": [
    "gene_corrs_df.shape"
   ]
  },
  {
   "cell_type": "code",
   "execution_count": 31,
   "id": "c7d15414-3297-4537-a7c6-7588c0baeb75",
   "metadata": {
    "execution": {
     "iopub.execute_input": "2022-08-27T06:38:54.574093Z",
     "iopub.status.busy": "2022-08-27T06:38:54.573829Z",
     "iopub.status.idle": "2022-08-27T06:38:54.609591Z",
     "shell.execute_reply": "2022-08-27T06:38:54.609091Z"
    },
    "papermill": {
     "duration": 1.563787,
     "end_time": "2022-08-27T06:38:54.611036",
     "exception": false,
     "start_time": "2022-08-27T06:38:53.047249",
     "status": "completed"
    },
    "tags": []
   },
   "outputs": [
    {
     "data": {
      "text/html": [
       "<div>\n",
       "<style scoped>\n",
       "    .dataframe tbody tr th:only-of-type {\n",
       "        vertical-align: middle;\n",
       "    }\n",
       "\n",
       "    .dataframe tbody tr th {\n",
       "        vertical-align: top;\n",
       "    }\n",
       "\n",
       "    .dataframe thead th {\n",
       "        text-align: right;\n",
       "    }\n",
       "</style>\n",
       "<table border=\"1\" class=\"dataframe\">\n",
       "  <thead>\n",
       "    <tr style=\"text-align: right;\">\n",
       "      <th></th>\n",
       "      <th>ENSG00000172748</th>\n",
       "      <th>ENSG00000182372</th>\n",
       "      <th>ENSG00000104728</th>\n",
       "      <th>ENSG00000036448</th>\n",
       "      <th>ENSG00000091879</th>\n",
       "      <th>ENSG00000155189</th>\n",
       "      <th>ENSG00000164821</th>\n",
       "      <th>ENSG00000253958</th>\n",
       "      <th>ENSG00000147324</th>\n",
       "      <th>ENSG00000173281</th>\n",
       "      <th>...</th>\n",
       "      <th>ENSG00000071894</th>\n",
       "      <th>ENSG00000147804</th>\n",
       "      <th>ENSG00000160948</th>\n",
       "      <th>ENSG00000160949</th>\n",
       "      <th>ENSG00000187954</th>\n",
       "      <th>ENSG00000160972</th>\n",
       "      <th>ENSG00000167701</th>\n",
       "      <th>ENSG00000161016</th>\n",
       "      <th>ENSG00000197363</th>\n",
       "      <th>ENSG00000196150</th>\n",
       "    </tr>\n",
       "  </thead>\n",
       "  <tbody>\n",
       "    <tr>\n",
       "      <th>ENSG00000172748</th>\n",
       "      <td>1.000000</td>\n",
       "      <td>0.007217</td>\n",
       "      <td>0.011914</td>\n",
       "      <td>0.008728</td>\n",
       "      <td>0.009417</td>\n",
       "      <td>0.009584</td>\n",
       "      <td>0.009891</td>\n",
       "      <td>0.005530</td>\n",
       "      <td>0.013226</td>\n",
       "      <td>0.008208</td>\n",
       "      <td>...</td>\n",
       "      <td>0.001864</td>\n",
       "      <td>0.006338</td>\n",
       "      <td>0.004455</td>\n",
       "      <td>0.006166</td>\n",
       "      <td>0.006691</td>\n",
       "      <td>0.006283</td>\n",
       "      <td>0.004734</td>\n",
       "      <td>0.002489</td>\n",
       "      <td>0.006311</td>\n",
       "      <td>0.004770</td>\n",
       "    </tr>\n",
       "    <tr>\n",
       "      <th>ENSG00000182372</th>\n",
       "      <td>0.007217</td>\n",
       "      <td>1.000000</td>\n",
       "      <td>0.184415</td>\n",
       "      <td>0.009142</td>\n",
       "      <td>0.007887</td>\n",
       "      <td>0.006501</td>\n",
       "      <td>0.007845</td>\n",
       "      <td>0.004679</td>\n",
       "      <td>0.007810</td>\n",
       "      <td>0.008791</td>\n",
       "      <td>...</td>\n",
       "      <td>0.001825</td>\n",
       "      <td>0.004948</td>\n",
       "      <td>0.000215</td>\n",
       "      <td>0.003492</td>\n",
       "      <td>0.005021</td>\n",
       "      <td>0.008246</td>\n",
       "      <td>0.003511</td>\n",
       "      <td>0.000919</td>\n",
       "      <td>0.004968</td>\n",
       "      <td>0.004775</td>\n",
       "    </tr>\n",
       "    <tr>\n",
       "      <th>ENSG00000104728</th>\n",
       "      <td>0.011914</td>\n",
       "      <td>0.184415</td>\n",
       "      <td>1.000000</td>\n",
       "      <td>0.028969</td>\n",
       "      <td>0.016094</td>\n",
       "      <td>0.016873</td>\n",
       "      <td>0.014933</td>\n",
       "      <td>0.008033</td>\n",
       "      <td>0.013277</td>\n",
       "      <td>0.012815</td>\n",
       "      <td>...</td>\n",
       "      <td>0.005503</td>\n",
       "      <td>0.012220</td>\n",
       "      <td>0.006928</td>\n",
       "      <td>0.007355</td>\n",
       "      <td>0.014188</td>\n",
       "      <td>0.012579</td>\n",
       "      <td>0.011937</td>\n",
       "      <td>0.007141</td>\n",
       "      <td>0.011424</td>\n",
       "      <td>0.009863</td>\n",
       "    </tr>\n",
       "    <tr>\n",
       "      <th>ENSG00000036448</th>\n",
       "      <td>0.008728</td>\n",
       "      <td>0.009142</td>\n",
       "      <td>0.028969</td>\n",
       "      <td>1.000000</td>\n",
       "      <td>0.007763</td>\n",
       "      <td>0.010615</td>\n",
       "      <td>0.008255</td>\n",
       "      <td>0.005208</td>\n",
       "      <td>0.009558</td>\n",
       "      <td>0.006094</td>\n",
       "      <td>...</td>\n",
       "      <td>0.004024</td>\n",
       "      <td>0.008202</td>\n",
       "      <td>0.005528</td>\n",
       "      <td>0.004950</td>\n",
       "      <td>0.007105</td>\n",
       "      <td>0.008124</td>\n",
       "      <td>0.006015</td>\n",
       "      <td>0.001468</td>\n",
       "      <td>0.003367</td>\n",
       "      <td>0.005086</td>\n",
       "    </tr>\n",
       "    <tr>\n",
       "      <th>ENSG00000091879</th>\n",
       "      <td>0.009417</td>\n",
       "      <td>0.007887</td>\n",
       "      <td>0.016094</td>\n",
       "      <td>0.007763</td>\n",
       "      <td>1.000000</td>\n",
       "      <td>0.099820</td>\n",
       "      <td>0.031210</td>\n",
       "      <td>0.005413</td>\n",
       "      <td>0.011595</td>\n",
       "      <td>0.006861</td>\n",
       "      <td>...</td>\n",
       "      <td>0.004385</td>\n",
       "      <td>0.005745</td>\n",
       "      <td>0.003610</td>\n",
       "      <td>0.002835</td>\n",
       "      <td>0.005626</td>\n",
       "      <td>0.006275</td>\n",
       "      <td>0.007817</td>\n",
       "      <td>0.000583</td>\n",
       "      <td>0.001599</td>\n",
       "      <td>0.002434</td>\n",
       "    </tr>\n",
       "  </tbody>\n",
       "</table>\n",
       "<p>5 rows × 222 columns</p>\n",
       "</div>"
      ],
      "text/plain": [
       "                 ENSG00000172748  ENSG00000182372  ENSG00000104728  \\\n",
       "ENSG00000172748         1.000000         0.007217         0.011914   \n",
       "ENSG00000182372         0.007217         1.000000         0.184415   \n",
       "ENSG00000104728         0.011914         0.184415         1.000000   \n",
       "ENSG00000036448         0.008728         0.009142         0.028969   \n",
       "ENSG00000091879         0.009417         0.007887         0.016094   \n",
       "\n",
       "                 ENSG00000036448  ENSG00000091879  ENSG00000155189  \\\n",
       "ENSG00000172748         0.008728         0.009417         0.009584   \n",
       "ENSG00000182372         0.009142         0.007887         0.006501   \n",
       "ENSG00000104728         0.028969         0.016094         0.016873   \n",
       "ENSG00000036448         1.000000         0.007763         0.010615   \n",
       "ENSG00000091879         0.007763         1.000000         0.099820   \n",
       "\n",
       "                 ENSG00000164821  ENSG00000253958  ENSG00000147324  \\\n",
       "ENSG00000172748         0.009891         0.005530         0.013226   \n",
       "ENSG00000182372         0.007845         0.004679         0.007810   \n",
       "ENSG00000104728         0.014933         0.008033         0.013277   \n",
       "ENSG00000036448         0.008255         0.005208         0.009558   \n",
       "ENSG00000091879         0.031210         0.005413         0.011595   \n",
       "\n",
       "                 ENSG00000173281  ...  ENSG00000071894  ENSG00000147804  \\\n",
       "ENSG00000172748         0.008208  ...         0.001864         0.006338   \n",
       "ENSG00000182372         0.008791  ...         0.001825         0.004948   \n",
       "ENSG00000104728         0.012815  ...         0.005503         0.012220   \n",
       "ENSG00000036448         0.006094  ...         0.004024         0.008202   \n",
       "ENSG00000091879         0.006861  ...         0.004385         0.005745   \n",
       "\n",
       "                 ENSG00000160948  ENSG00000160949  ENSG00000187954  \\\n",
       "ENSG00000172748         0.004455         0.006166         0.006691   \n",
       "ENSG00000182372         0.000215         0.003492         0.005021   \n",
       "ENSG00000104728         0.006928         0.007355         0.014188   \n",
       "ENSG00000036448         0.005528         0.004950         0.007105   \n",
       "ENSG00000091879         0.003610         0.002835         0.005626   \n",
       "\n",
       "                 ENSG00000160972  ENSG00000167701  ENSG00000161016  \\\n",
       "ENSG00000172748         0.006283         0.004734         0.002489   \n",
       "ENSG00000182372         0.008246         0.003511         0.000919   \n",
       "ENSG00000104728         0.012579         0.011937         0.007141   \n",
       "ENSG00000036448         0.008124         0.006015         0.001468   \n",
       "ENSG00000091879         0.006275         0.007817         0.000583   \n",
       "\n",
       "                 ENSG00000197363  ENSG00000196150  \n",
       "ENSG00000172748         0.006311         0.004770  \n",
       "ENSG00000182372         0.004968         0.004775  \n",
       "ENSG00000104728         0.011424         0.009863  \n",
       "ENSG00000036448         0.003367         0.005086  \n",
       "ENSG00000091879         0.001599         0.002434  \n",
       "\n",
       "[5 rows x 222 columns]"
      ]
     },
     "execution_count": 31,
     "metadata": {},
     "output_type": "execute_result"
    }
   ],
   "source": [
    "gene_corrs_df.head()"
   ]
  },
  {
   "cell_type": "markdown",
   "id": "dad6603f-01c6-41fb-a6f6-241051207dd8",
   "metadata": {
    "papermill": {
     "duration": 1.595699,
     "end_time": "2022-08-27T06:38:57.707329",
     "exception": false,
     "start_time": "2022-08-27T06:38:56.111630",
     "status": "completed"
    },
    "tags": []
   },
   "source": [
    "## Standard checks and stats"
   ]
  },
  {
   "cell_type": "code",
   "execution_count": 32,
   "id": "286686af-1b7b-4440-8453-6bdcbd8de19c",
   "metadata": {
    "execution": {
     "iopub.execute_input": "2022-08-27T06:39:00.797540Z",
     "iopub.status.busy": "2022-08-27T06:39:00.797259Z",
     "iopub.status.idle": "2022-08-27T06:39:00.822949Z",
     "shell.execute_reply": "2022-08-27T06:39:00.822307Z"
    },
    "papermill": {
     "duration": 1.601962,
     "end_time": "2022-08-27T06:39:00.825016",
     "exception": false,
     "start_time": "2022-08-27T06:38:59.223054",
     "status": "completed"
    },
    "tags": []
   },
   "outputs": [],
   "source": [
    "assert not gene_corrs_df.isna().any().any()"
   ]
  },
  {
   "cell_type": "code",
   "execution_count": 33,
   "id": "00583efc-7068-4270-ad1e-4a418e91db96",
   "metadata": {
    "execution": {
     "iopub.execute_input": "2022-08-27T06:39:03.928870Z",
     "iopub.status.busy": "2022-08-27T06:39:03.928587Z",
     "iopub.status.idle": "2022-08-27T06:39:03.991207Z",
     "shell.execute_reply": "2022-08-27T06:39:03.990660Z"
    },
    "papermill": {
     "duration": 1.646327,
     "end_time": "2022-08-27T06:39:03.992808",
     "exception": false,
     "start_time": "2022-08-27T06:39:02.346481",
     "status": "completed"
    },
    "tags": []
   },
   "outputs": [
    {
     "data": {
      "text/plain": [
       "2.878084759753419e-10"
      ]
     },
     "metadata": {},
     "output_type": "display_data"
    }
   ],
   "source": [
    "_min_val = gene_corrs_df.min().min()\n",
    "display(_min_val)\n",
    "assert _min_val >= -0.05"
   ]
  },
  {
   "cell_type": "code",
   "execution_count": 34,
   "id": "d04fb2cf-1050-475b-b855-f5f7cc04092b",
   "metadata": {
    "execution": {
     "iopub.execute_input": "2022-08-27T06:39:07.108860Z",
     "iopub.status.busy": "2022-08-27T06:39:07.108591Z",
     "iopub.status.idle": "2022-08-27T06:39:07.131312Z",
     "shell.execute_reply": "2022-08-27T06:39:07.130797Z"
    },
    "papermill": {
     "duration": 1.563492,
     "end_time": "2022-08-27T06:39:07.132742",
     "exception": false,
     "start_time": "2022-08-27T06:39:05.569250",
     "status": "completed"
    },
    "tags": []
   },
   "outputs": [
    {
     "data": {
      "text/plain": [
       "1.0000000000000033"
      ]
     },
     "metadata": {},
     "output_type": "display_data"
    }
   ],
   "source": [
    "_max_val = gene_corrs_df.max().max()  # this captures the diagonal\n",
    "display(_max_val)\n",
    "assert _max_val <= 1.05"
   ]
  },
  {
   "cell_type": "code",
   "execution_count": 35,
   "id": "96d02c44-1fba-47be-8a93-8f2608420b9c",
   "metadata": {
    "execution": {
     "iopub.execute_input": "2022-08-27T06:39:10.313403Z",
     "iopub.status.busy": "2022-08-27T06:39:10.313135Z",
     "iopub.status.idle": "2022-08-27T06:39:10.332069Z",
     "shell.execute_reply": "2022-08-27T06:39:10.331557Z"
    },
    "papermill": {
     "duration": 1.624135,
     "end_time": "2022-08-27T06:39:10.333597",
     "exception": false,
     "start_time": "2022-08-27T06:39:08.709462",
     "status": "completed"
    },
    "tags": []
   },
   "outputs": [],
   "source": [
    "# check upper triangular values\n",
    "# assert len(gene_corrs) == int(genes_chr.shape[0] * (genes_chr.shape[0] - 1) / 2)"
   ]
  },
  {
   "cell_type": "code",
   "execution_count": 36,
   "id": "fe283586-c348-40e0-8841-f6d97bfb021c",
   "metadata": {
    "execution": {
     "iopub.execute_input": "2022-08-27T06:39:13.444302Z",
     "iopub.status.busy": "2022-08-27T06:39:13.444046Z",
     "iopub.status.idle": "2022-08-27T06:39:13.470443Z",
     "shell.execute_reply": "2022-08-27T06:39:13.469936Z"
    },
    "papermill": {
     "duration": 1.534231,
     "end_time": "2022-08-27T06:39:13.471911",
     "exception": false,
     "start_time": "2022-08-27T06:39:11.937680",
     "status": "completed"
    },
    "tags": []
   },
   "outputs": [
    {
     "data": {
      "text/plain": [
       "count    2.475300e+04\n",
       "mean     1.710640e-02\n",
       "std      9.672104e-02\n",
       "min      2.878085e-10\n",
       "25%      4.120780e-03\n",
       "50%      6.192709e-03\n",
       "75%      8.595437e-03\n",
       "max      1.000000e+00\n",
       "dtype: float64"
      ]
     },
     "execution_count": 36,
     "metadata": {},
     "output_type": "execute_result"
    }
   ],
   "source": [
    "gene_corrs_flat.describe()"
   ]
  },
  {
   "cell_type": "code",
   "execution_count": 37,
   "id": "b3815678-0f93-4b35-897b-a9d047a2aa78",
   "metadata": {
    "execution": {
     "iopub.execute_input": "2022-08-27T06:39:16.507938Z",
     "iopub.status.busy": "2022-08-27T06:39:16.507674Z",
     "iopub.status.idle": "2022-08-27T06:39:16.658066Z",
     "shell.execute_reply": "2022-08-27T06:39:16.657544Z"
    },
    "papermill": {
     "duration": 1.687987,
     "end_time": "2022-08-27T06:39:16.659521",
     "exception": false,
     "start_time": "2022-08-27T06:39:14.971534",
     "status": "completed"
    },
    "tags": []
   },
   "outputs": [
    {
     "data": {
      "text/plain": [
       "0.00    2.878085e-10\n",
       "0.05    1.604201e-03\n",
       "0.10    2.443874e-03\n",
       "0.15    3.074101e-03\n",
       "0.20    3.624899e-03\n",
       "0.25    4.120780e-03\n",
       "0.30    4.555673e-03\n",
       "0.35    4.965492e-03\n",
       "0.40    5.377864e-03\n",
       "0.45    5.782638e-03\n",
       "0.50    6.192709e-03\n",
       "0.55    6.628324e-03\n",
       "0.60    7.073565e-03\n",
       "0.65    7.515736e-03\n",
       "0.70    8.038742e-03\n",
       "0.75    8.595437e-03\n",
       "0.80    9.298126e-03\n",
       "0.85    1.015563e-02\n",
       "0.90    1.129918e-02\n",
       "0.95    1.344495e-02\n",
       "dtype: float64"
      ]
     },
     "metadata": {},
     "output_type": "display_data"
    }
   ],
   "source": [
    "gene_corrs_quantiles = gene_corrs_flat.quantile(np.arange(0, 1, 0.05))\n",
    "display(gene_corrs_quantiles)"
   ]
  },
  {
   "cell_type": "markdown",
   "id": "87134509-b145-4a10-8bc9-b7e914c2b0fa",
   "metadata": {
    "papermill": {
     "duration": 1.53965,
     "end_time": "2022-08-27T06:39:19.691869",
     "exception": false,
     "start_time": "2022-08-27T06:39:18.152219",
     "status": "completed"
    },
    "tags": []
   },
   "source": [
    "## Positive definiteness"
   ]
  },
  {
   "cell_type": "code",
   "execution_count": 38,
   "id": "07d9a9a1-a4f7-48aa-b916-6d42a8cc6186",
   "metadata": {
    "execution": {
     "iopub.execute_input": "2022-08-27T06:39:22.721623Z",
     "iopub.status.busy": "2022-08-27T06:39:22.721362Z",
     "iopub.status.idle": "2022-08-27T06:39:22.790818Z",
     "shell.execute_reply": "2022-08-27T06:39:22.790312Z"
    },
    "papermill": {
     "duration": 1.604283,
     "end_time": "2022-08-27T06:39:22.792319",
     "exception": false,
     "start_time": "2022-08-27T06:39:21.188036",
     "status": "completed"
    },
    "tags": []
   },
   "outputs": [
    {
     "data": {
      "text/plain": [
       "0"
      ]
     },
     "metadata": {},
     "output_type": "display_data"
    },
    {
     "data": {
      "text/plain": [
       "array([], dtype=float64)"
      ]
     },
     "metadata": {},
     "output_type": "display_data"
    }
   ],
   "source": [
    "# print negative eigenvalues\n",
    "eigs = np.linalg.eigvals(gene_corrs_df.to_numpy())\n",
    "display(len(eigs[eigs < 0]))\n",
    "display(eigs[eigs < 0])"
   ]
  },
  {
   "cell_type": "code",
   "execution_count": 39,
   "id": "6e218436-c3c5-4028-8c94-a4fa6260efce",
   "metadata": {
    "execution": {
     "iopub.execute_input": "2022-08-27T06:39:25.841597Z",
     "iopub.status.busy": "2022-08-27T06:39:25.841337Z",
     "iopub.status.idle": "2022-08-27T06:39:25.866562Z",
     "shell.execute_reply": "2022-08-27T06:39:25.866025Z"
    },
    "papermill": {
     "duration": 1.524459,
     "end_time": "2022-08-27T06:39:25.868019",
     "exception": false,
     "start_time": "2022-08-27T06:39:24.343560",
     "status": "completed"
    },
    "tags": []
   },
   "outputs": [
    {
     "name": "stdout",
     "output_type": "stream",
     "text": [
      "Works!\n"
     ]
    }
   ],
   "source": [
    "try:\n",
    "    chol_mat = np.linalg.cholesky(gene_corrs_df.to_numpy())\n",
    "    cov_inv = np.linalg.inv(chol_mat)\n",
    "    print(\"Works!\")\n",
    "except Exception as e:\n",
    "    print(f\"Cholesky decomposition failed: {str(e)}\")"
   ]
  },
  {
   "cell_type": "code",
   "execution_count": 40,
   "id": "dd8827fb-faf9-4c7c-9454-015e94752706",
   "metadata": {
    "execution": {
     "iopub.execute_input": "2022-08-27T06:39:28.899971Z",
     "iopub.status.busy": "2022-08-27T06:39:28.899651Z",
     "iopub.status.idle": "2022-08-27T06:39:28.963746Z",
     "shell.execute_reply": "2022-08-27T06:39:28.963208Z"
    },
    "papermill": {
     "duration": 1.603145,
     "end_time": "2022-08-27T06:39:28.965269",
     "exception": false,
     "start_time": "2022-08-27T06:39:27.362124",
     "status": "completed"
    },
    "tags": []
   },
   "outputs": [
    {
     "name": "stdout",
     "output_type": "stream",
     "text": [
      "Works!\n"
     ]
    }
   ],
   "source": [
    "try:\n",
    "    # decomposition used by statsmodels.GLS\n",
    "    cholsigmainv = np.linalg.cholesky(np.linalg.inv(gene_corrs_df.to_numpy())).T\n",
    "    print(\"Works!\")\n",
    "except Exception as e:\n",
    "    print(f\"Cholesky decomposition failed (statsmodels.GLS): {str(e)}\")"
   ]
  },
  {
   "cell_type": "markdown",
   "id": "8e60a080-edb2-4e9c-b2ef-22961693200c",
   "metadata": {
    "papermill": {
     "duration": 1.494561,
     "end_time": "2022-08-27T06:39:32.016316",
     "exception": false,
     "start_time": "2022-08-27T06:39:30.521755",
     "status": "completed"
    },
    "tags": []
   },
   "source": [
    "## Plot: distribution"
   ]
  },
  {
   "cell_type": "code",
   "execution_count": 41,
   "id": "8301126b-a7d4-4744-9c7d-f0f86eb6f54c",
   "metadata": {
    "execution": {
     "iopub.execute_input": "2022-08-27T06:39:35.050956Z",
     "iopub.status.busy": "2022-08-27T06:39:35.050691Z",
     "iopub.status.idle": "2022-08-27T06:39:41.727205Z",
     "shell.execute_reply": "2022-08-27T06:39:41.726650Z"
    },
    "papermill": {
     "duration": 8.21396,
     "end_time": "2022-08-27T06:39:41.728804",
     "exception": false,
     "start_time": "2022-08-27T06:39:33.514844",
     "status": "completed"
    },
    "tags": []
   },
   "outputs": [
    {
     "data": {
      "image/png": "[encoded data removed]",
      "text/plain": [
       "<Figure size 504x504 with 1 Axes>"
      ]
     },
     "metadata": {
      "needs_background": "light"
     },
     "output_type": "display_data"
    }
   ],
   "source": [
    "with sns.plotting_context(\"paper\", font_scale=1.5):\n",
    "    g = sns.displot(gene_corrs_flat, kde=True, height=7)\n",
    "    g.ax.set_title(\n",
    "        f\"Distribution of gene correlation values in chromosome {CHROMOSOME}\"\n",
    "    )"
   ]
  },
  {
   "cell_type": "markdown",
   "id": "cbd52bca-d878-4a2f-b684-5c83aa3038d4",
   "metadata": {
    "papermill": {
     "duration": 1.543344,
     "end_time": "2022-08-27T06:39:44.749598",
     "exception": false,
     "start_time": "2022-08-27T06:39:43.206254",
     "status": "completed"
    },
    "tags": []
   },
   "source": [
    "## Plot: heatmap"
   ]
  },
  {
   "cell_type": "code",
   "execution_count": 42,
   "id": "d03fe63a-c7b2-4fb9-a53c-db362ce843c9",
   "metadata": {
    "execution": {
     "iopub.execute_input": "2022-08-27T06:39:47.774238Z",
     "iopub.status.busy": "2022-08-27T06:39:47.773975Z",
     "iopub.status.idle": "2022-08-27T06:39:47.799775Z",
     "shell.execute_reply": "2022-08-27T06:39:47.799261Z"
    },
    "papermill": {
     "duration": 1.549575,
     "end_time": "2022-08-27T06:39:47.801315",
     "exception": false,
     "start_time": "2022-08-27T06:39:46.251740",
     "status": "completed"
    },
    "tags": []
   },
   "outputs": [
    {
     "data": {
      "text/plain": [
       "'0.0 / 0.05'"
      ]
     },
     "metadata": {},
     "output_type": "display_data"
    }
   ],
   "source": [
    "vmin_val = min(0.00, gene_corrs_quantiles[0.10])\n",
    "vmax_val = max(0.05, gene_corrs_quantiles[0.90])\n",
    "display(f\"{vmin_val} / {vmax_val}\")"
   ]
  },
  {
   "cell_type": "code",
   "execution_count": 43,
   "id": "dc41b70b-5bcc-4d9e-9f33-a22c4a94dab5",
   "metadata": {
    "execution": {
     "iopub.execute_input": "2022-08-27T06:39:50.789882Z",
     "iopub.status.busy": "2022-08-27T06:39:50.789612Z",
     "iopub.status.idle": "2022-08-27T06:39:51.606625Z",
     "shell.execute_reply": "2022-08-27T06:39:51.606084Z"
    },
    "papermill": {
     "duration": 2.332146,
     "end_time": "2022-08-27T06:39:51.608277",
     "exception": false,
     "start_time": "2022-08-27T06:39:49.276131",
     "status": "completed"
    },
    "tags": []
   },
   "outputs": [
    {
     "data": {
      "text/plain": [
       "Text(0.5, 1.0, 'Gene correlations in chromosome 8')"
      ]
     },
     "execution_count": 43,
     "metadata": {},
     "output_type": "execute_result"
    },
    {
     "data": {
      "image/png": "[encoded data removed]",
      "text/plain": [
       "<Figure size 720x720 with 2 Axes>"
      ]
     },
     "metadata": {
      "needs_background": "light"
     },
     "output_type": "display_data"
    }
   ],
   "source": [
    "f, ax = plt.subplots(figsize=(10, 10))\n",
    "sns.heatmap(\n",
    "    gene_corrs_df,\n",
    "    xticklabels=False,\n",
    "    yticklabels=False,\n",
    "    square=True,\n",
    "    vmin=vmin_val,\n",
    "    vmax=vmax_val,\n",
    "    cmap=\"rocket_r\",\n",
    "    ax=ax,\n",
    ")\n",
    "ax.set_title(f\"Gene correlations in chromosome {CHROMOSOME}\")"
   ]
  },
  {
   "cell_type": "code",
   "execution_count": null,
   "id": "b25e3ead",
   "metadata": {
    "papermill": {
     "duration": 1.509694,
     "end_time": "2022-08-27T06:39:54.607859",
     "exception": false,
     "start_time": "2022-08-27T06:39:53.098165",
     "status": "completed"
    },
    "tags": []
   },
   "outputs": [],
   "source": []
  }
 ],
 "metadata": {
  "jupytext": {
   "cell_metadata_filter": "all,-execution,-papermill,-trusted",
   "formats": "ipynb,py//py:percent"
  },
  "kernelspec": {
   "display_name": "Python 3 (ipykernel)",
   "language": "python",
   "name": "python3"
  },
  "language_info": {
   "codemirror_mode": {
    "name": "ipython",
    "version": 3
   },
   "file_extension": ".py",
   "mimetype": "text/x-python",
   "name": "python",
   "nbconvert_exporter": "python",
   "pygments_lexer": "ipython3",
   "version": "3.8.13"
  },
  "papermill": {
   "default_parameters": {},
   "duration": 2321.527709,
   "end_time": "2022-08-27T06:39:59.591039",
   "environment_variables": {},
   "exception": null,
   "input_path": "nbs/15_gsa_gls/10-gene_expr_correlations.ipynb",
   "output_path": "nbs/15_gsa_gls/gene_corrs/cohorts/phenomexcan_astle/gtex_v8/mashr/10-gene_expr_corrs/10-gene_expr_correlations-chr8.run.ipynb",
   "parameters": {
    "CHROMOSOME": 8,
    "COHORT_NAME": "phenomexcan_astle",
    "EQTL_MODEL": "MASHR",
    "REFERENCE_PANEL": "GTEX_V8"
   },
   "start_time": "2022-08-27T06:01:18.063330",
   "version": "2.2.2"
  }
 },
 "nbformat": 4,
 "nbformat_minor": 5
}
