{
 "cells": [
  {
   "cell_type": "markdown",
   "id": "7a6632fb",
   "metadata": {
    "papermill": {
     "duration": 0.026168,
     "end_time": "2022-08-27T06:01:19.189682",
     "exception": false,
     "start_time": "2022-08-27T06:01:19.163514",
     "status": "completed"
    },
    "tags": []
   },
   "source": [
    "# Description"
   ]
  },
  {
   "cell_type": "markdown",
   "id": "7097c346",
   "metadata": {
    "papermill": {
     "duration": 0.01346,
     "end_time": "2022-08-27T06:01:19.217787",
     "exception": false,
     "start_time": "2022-08-27T06:01:19.204327",
     "status": "completed"
    },
    "tags": []
   },
   "source": [
    "(Please, take a look at the README.md file in this directory for instructions on how to run this notebook)\n",
    "\n",
    "This notebook computes predicted expression correlations between all genes in the MultiPLIER models.\n",
    "\n",
    "It also has a parameter set for papermill to run on a single chromosome to run in parallel (see under `Settings` below).\n",
    "\n",
    "This notebook is not directly run. See README.md."
   ]
  },
  {
   "cell_type": "markdown",
   "id": "c61d8427",
   "metadata": {
    "papermill": {
     "duration": 0.011471,
     "end_time": "2022-08-27T06:01:19.241849",
     "exception": false,
     "start_time": "2022-08-27T06:01:19.230378",
     "status": "completed"
    },
    "tags": []
   },
   "source": [
    "# Modules"
   ]
  },
  {
   "cell_type": "code",
   "execution_count": 1,
   "id": "bbc0234f",
   "metadata": {
    "execution": {
     "iopub.execute_input": "2022-08-27T06:01:19.265384Z",
     "iopub.status.busy": "2022-08-27T06:01:19.265058Z",
     "iopub.status.idle": "2022-08-27T06:01:19.289870Z",
     "shell.execute_reply": "2022-08-27T06:01:19.289319Z"
    },
    "papermill": {
     "duration": 0.038753,
     "end_time": "2022-08-27T06:01:19.291931",
     "exception": false,
     "start_time": "2022-08-27T06:01:19.253178",
     "status": "completed"
    },
    "tags": []
   },
   "outputs": [],
   "source": [
    "%load_ext autoreload\n",
    "%autoreload 2"
   ]
  },
  {
   "cell_type": "code",
   "execution_count": 2,
   "id": "1d5f5a59",
   "metadata": {
    "execution": {
     "iopub.execute_input": "2022-08-27T06:01:19.313035Z",
     "iopub.status.busy": "2022-08-27T06:01:19.312815Z",
     "iopub.status.idle": "2022-08-27T06:01:21.003825Z",
     "shell.execute_reply": "2022-08-27T06:01:21.003318Z"
    },
    "papermill": {
     "duration": 1.704185,
     "end_time": "2022-08-27T06:01:21.005661",
     "exception": false,
     "start_time": "2022-08-27T06:01:19.301476",
     "status": "completed"
    },
    "tags": []
   },
   "outputs": [],
   "source": [
    "from random import sample, seed\n",
    "import warnings\n",
    "from pathlib import Path\n",
    "import pickle\n",
    "import traceback\n",
    "\n",
    "import numpy as np\n",
    "from scipy.spatial.distance import squareform\n",
    "import pandas as pd\n",
    "from tqdm import tqdm\n",
    "import matplotlib.pyplot as plt\n",
    "import seaborn as sns\n",
    "\n",
    "import conf\n",
    "from entity import Gene"
   ]
  },
  {
   "cell_type": "markdown",
   "id": "1eac24b5",
   "metadata": {
    "papermill": {
     "duration": 0.008004,
     "end_time": "2022-08-27T06:01:21.056278",
     "exception": false,
     "start_time": "2022-08-27T06:01:21.048274",
     "status": "completed"
    },
    "tags": []
   },
   "source": [
    "# Settings"
   ]
  },
  {
   "cell_type": "code",
   "execution_count": 3,
   "id": "ca4560ba",
   "metadata": {
    "execution": {
     "iopub.execute_input": "2022-08-27T06:01:21.116585Z",
     "iopub.status.busy": "2022-08-27T06:01:21.116216Z",
     "iopub.status.idle": "2022-08-27T06:01:21.156135Z",
     "shell.execute_reply": "2022-08-27T06:01:21.155479Z"
    },
    "papermill": {
     "duration": 0.056109,
     "end_time": "2022-08-27T06:01:21.158194",
     "exception": false,
     "start_time": "2022-08-27T06:01:21.102085",
     "status": "completed"
    },
    "tags": [
     "parameters"
    ]
   },
   "outputs": [],
   "source": [
    "# a cohort name (it could be something like UK_BIOBANK, etc)\n",
    "COHORT_NAME = None\n",
    "\n",
    "# reference panel such as 1000G or GTEX_V8\n",
    "REFERENCE_PANEL = None\n",
    "\n",
    "# predictions models such as MASHR or ELASTIC_NET\n",
    "EQTL_MODEL = None\n",
    "\n",
    "# this is the default value used in S-MultiXcan to select the\n",
    "# top principal components of the expression correlation matrix\n",
    "SMULTIXCAN_CONDITION_NUMBER = 30\n",
    "\n",
    "# specifies a single chromosome value\n",
    "CHROMOSOME = None\n",
    "\n",
    "# If True, computes the correlation between closeby genes only;\n",
    "# otherwise, it computes correlations for all genes in a chromosome\n",
    "COMPUTE_CORRELATIONS_WITHIN_DISTANCE = False\n",
    "\n",
    "# if True, then it will continue if a gene pair correlation fails,\n",
    "# printing the warning/error for debugging. If False, any warning/error\n",
    "# will be thrown\n",
    "DEBUG_MODE = False"
   ]
  },
  {
   "cell_type": "code",
   "execution_count": 4,
   "id": "e880e9bc",
   "metadata": {
    "execution": {
     "iopub.execute_input": "2022-08-27T06:01:21.201437Z",
     "iopub.status.busy": "2022-08-27T06:01:21.201203Z",
     "iopub.status.idle": "2022-08-27T06:01:21.222761Z",
     "shell.execute_reply": "2022-08-27T06:01:21.222296Z"
    },
    "papermill": {
     "duration": 0.039204,
     "end_time": "2022-08-27T06:01:21.224378",
     "exception": false,
     "start_time": "2022-08-27T06:01:21.185174",
     "status": "completed"
    },
    "tags": [
     "injected-parameters"
    ]
   },
   "outputs": [],
   "source": [
    "# Parameters\n",
    "COHORT_NAME = \"phenomexcan_astle\"\n",
    "REFERENCE_PANEL = \"GTEX_V8\"\n",
    "EQTL_MODEL = \"MASHR\"\n",
    "CHROMOSOME = 14\n"
   ]
  },
  {
   "cell_type": "code",
   "execution_count": 5,
   "id": "3190631f-27fc-480f-b18e-571d580425a5",
   "metadata": {
    "execution": {
     "iopub.execute_input": "2022-08-27T06:01:21.247199Z",
     "iopub.status.busy": "2022-08-27T06:01:21.247009Z",
     "iopub.status.idle": "2022-08-27T06:01:21.269012Z",
     "shell.execute_reply": "2022-08-27T06:01:21.268602Z"
    },
    "papermill": {
     "duration": 0.034039,
     "end_time": "2022-08-27T06:01:21.270391",
     "exception": false,
     "start_time": "2022-08-27T06:01:21.236352",
     "status": "completed"
    },
    "tags": []
   },
   "outputs": [
    {
     "data": {
      "text/plain": [
       "'Cohort name: phenomexcan_astle'"
      ]
     },
     "metadata": {},
     "output_type": "display_data"
    }
   ],
   "source": [
    "assert COHORT_NAME is not None and len(COHORT_NAME) > 0, \"A cohort name must be given\"\n",
    "\n",
    "COHORT_NAME = COHORT_NAME.lower()\n",
    "display(f\"Cohort name: {COHORT_NAME}\")"
   ]
  },
  {
   "cell_type": "code",
   "execution_count": 6,
   "id": "f53ba19b-0f93-4fa2-a047-63b375939d1a",
   "metadata": {
    "execution": {
     "iopub.execute_input": "2022-08-27T06:01:21.294621Z",
     "iopub.status.busy": "2022-08-27T06:01:21.294448Z",
     "iopub.status.idle": "2022-08-27T06:01:21.311838Z",
     "shell.execute_reply": "2022-08-27T06:01:21.311469Z"
    },
    "papermill": {
     "duration": 0.030461,
     "end_time": "2022-08-27T06:01:21.313020",
     "exception": false,
     "start_time": "2022-08-27T06:01:21.282559",
     "status": "completed"
    },
    "tags": []
   },
   "outputs": [
    {
     "data": {
      "text/plain": [
       "'Reference panel: GTEX_V8'"
      ]
     },
     "metadata": {},
     "output_type": "display_data"
    }
   ],
   "source": [
    "assert (\n",
    "    REFERENCE_PANEL is not None and len(REFERENCE_PANEL) > 0\n",
    "), \"A reference panel must be given\"\n",
    "\n",
    "display(f\"Reference panel: {REFERENCE_PANEL}\")"
   ]
  },
  {
   "cell_type": "code",
   "execution_count": 7,
   "id": "e024d130-c139-429a-9c6e-ccf149e297b0",
   "metadata": {
    "execution": {
     "iopub.execute_input": "2022-08-27T06:01:21.349037Z",
     "iopub.status.busy": "2022-08-27T06:01:21.348876Z",
     "iopub.status.idle": "2022-08-27T06:01:21.366165Z",
     "shell.execute_reply": "2022-08-27T06:01:21.365807Z"
    },
    "papermill": {
     "duration": 0.04242,
     "end_time": "2022-08-27T06:01:21.367315",
     "exception": false,
     "start_time": "2022-08-27T06:01:21.324895",
     "status": "completed"
    },
    "tags": []
   },
   "outputs": [
    {
     "data": {
      "text/plain": [
       "'eQTL model: MASHR) / mashr_'"
      ]
     },
     "metadata": {},
     "output_type": "display_data"
    }
   ],
   "source": [
    "assert (\n",
    "    EQTL_MODEL is not None and len(EQTL_MODEL) > 0\n",
    "), \"A prediction/eQTL model must be given\"\n",
    "\n",
    "EQTL_MODEL_FILES_PREFIX = conf.PHENOMEXCAN[\"PREDICTION_MODELS\"][f\"{EQTL_MODEL}_PREFIX\"]\n",
    "display(f\"eQTL model: {EQTL_MODEL}) / {EQTL_MODEL_FILES_PREFIX}\")"
   ]
  },
  {
   "cell_type": "code",
   "execution_count": 8,
   "id": "552a7f63-a18c-4d3e-bb6a-94f99b431291",
   "metadata": {
    "execution": {
     "iopub.execute_input": "2022-08-27T06:01:21.384057Z",
     "iopub.status.busy": "2022-08-27T06:01:21.383893Z",
     "iopub.status.idle": "2022-08-27T06:01:21.400635Z",
     "shell.execute_reply": "2022-08-27T06:01:21.400275Z"
    },
    "papermill": {
     "duration": 0.026746,
     "end_time": "2022-08-27T06:01:21.401771",
     "exception": false,
     "start_time": "2022-08-27T06:01:21.375025",
     "status": "completed"
    },
    "tags": []
   },
   "outputs": [
    {
     "data": {
      "text/plain": [
       "'S-MultiXcan condition number: 30'"
      ]
     },
     "metadata": {},
     "output_type": "display_data"
    }
   ],
   "source": [
    "assert (\n",
    "    SMULTIXCAN_CONDITION_NUMBER is not None and SMULTIXCAN_CONDITION_NUMBER > 0\n",
    "), \"The S-MultiXcan condition number (positive integer) must be given\"\n",
    "\n",
    "display(f\"S-MultiXcan condition number: {SMULTIXCAN_CONDITION_NUMBER}\")"
   ]
  },
  {
   "cell_type": "code",
   "execution_count": 9,
   "id": "f34a336f-548e-4afe-8955-90eaea4f42c6",
   "metadata": {
    "execution": {
     "iopub.execute_input": "2022-08-27T06:01:21.428796Z",
     "iopub.status.busy": "2022-08-27T06:01:21.428638Z",
     "iopub.status.idle": "2022-08-27T06:01:21.445051Z",
     "shell.execute_reply": "2022-08-27T06:01:21.444692Z"
    },
    "papermill": {
     "duration": 0.030623,
     "end_time": "2022-08-27T06:01:21.446187",
     "exception": false,
     "start_time": "2022-08-27T06:01:21.415564",
     "status": "completed"
    },
    "tags": []
   },
   "outputs": [
    {
     "data": {
      "text/plain": [
       "'Working on chromosome 14'"
      ]
     },
     "metadata": {},
     "output_type": "display_data"
    }
   ],
   "source": [
    "assert CHROMOSOME is not None and (\n",
    "    1 <= CHROMOSOME <= 22\n",
    "), \"You have to select one chromosome (format: number between 1 and 22)\"\n",
    "\n",
    "# CHROMOSOME = str(CHROMOSOME)\n",
    "display(f\"Working on chromosome {CHROMOSOME}\")"
   ]
  },
  {
   "cell_type": "code",
   "execution_count": 10,
   "id": "ab8e96e8-06b5-4363-9dcd-dc4d78cc27f7",
   "metadata": {
    "execution": {
     "iopub.execute_input": "2022-08-27T06:01:21.476106Z",
     "iopub.status.busy": "2022-08-27T06:01:21.475948Z",
     "iopub.status.idle": "2022-08-27T06:01:21.492744Z",
     "shell.execute_reply": "2022-08-27T06:01:21.492383Z"
    },
    "papermill": {
     "duration": 0.032367,
     "end_time": "2022-08-27T06:01:21.493871",
     "exception": false,
     "start_time": "2022-08-27T06:01:21.461504",
     "status": "completed"
    },
    "tags": []
   },
   "outputs": [
    {
     "data": {
      "text/plain": [
       "'Compute correlation within distance False'"
      ]
     },
     "metadata": {},
     "output_type": "display_data"
    }
   ],
   "source": [
    "display(f\"Compute correlation within distance {COMPUTE_CORRELATIONS_WITHIN_DISTANCE}\")"
   ]
  },
  {
   "cell_type": "code",
   "execution_count": 11,
   "id": "396392dc-0340-4540-9b02-e182b833f909",
   "metadata": {
    "execution": {
     "iopub.execute_input": "2022-08-27T06:01:21.548983Z",
     "iopub.status.busy": "2022-08-27T06:01:21.548684Z",
     "iopub.status.idle": "2022-08-27T06:01:21.597878Z",
     "shell.execute_reply": "2022-08-27T06:01:21.597300Z"
    },
    "papermill": {
     "duration": 0.080256,
     "end_time": "2022-08-27T06:01:21.599692",
     "exception": false,
     "start_time": "2022-08-27T06:01:21.519436",
     "status": "completed"
    },
    "tags": []
   },
   "outputs": [
    {
     "data": {
      "text/plain": [
       "'Using output dir base: /project/ritchie20/projects/phenoplier/base/results/gls/gene_corrs/cohorts/phenomexcan_astle/gtex_v8/mashr'"
      ]
     },
     "metadata": {},
     "output_type": "display_data"
    }
   ],
   "source": [
    "OUTPUT_DIR_BASE = (\n",
    "    conf.RESULTS[\"GLS\"]\n",
    "    / \"gene_corrs\"\n",
    "    / \"cohorts\"\n",
    "    / COHORT_NAME\n",
    "    / REFERENCE_PANEL.lower()\n",
    "    / EQTL_MODEL.lower()\n",
    ")\n",
    "OUTPUT_DIR_BASE.mkdir(parents=True, exist_ok=True)\n",
    "\n",
    "display(f\"Using output dir base: {OUTPUT_DIR_BASE}\")"
   ]
  },
  {
   "cell_type": "markdown",
   "id": "d2ba085e",
   "metadata": {
    "papermill": {
     "duration": 0.026699,
     "end_time": "2022-08-27T06:01:21.648698",
     "exception": false,
     "start_time": "2022-08-27T06:01:21.621999",
     "status": "completed"
    },
    "tags": []
   },
   "source": [
    "# Load data"
   ]
  },
  {
   "cell_type": "markdown",
   "id": "7dcb8db7",
   "metadata": {
    "papermill": {
     "duration": 0.027532,
     "end_time": "2022-08-27T06:01:21.699513",
     "exception": false,
     "start_time": "2022-08-27T06:01:21.671981",
     "status": "completed"
    },
    "tags": []
   },
   "source": [
    "## GWAS variants"
   ]
  },
  {
   "cell_type": "code",
   "execution_count": 12,
   "id": "29434c4e-8cd3-4b9b-82e4-b5a251d9dd19",
   "metadata": {
    "execution": {
     "iopub.execute_input": "2022-08-27T06:01:21.746534Z",
     "iopub.status.busy": "2022-08-27T06:01:21.746355Z",
     "iopub.status.idle": "2022-08-27T06:01:25.755472Z",
     "shell.execute_reply": "2022-08-27T06:01:25.754725Z"
    },
    "papermill": {
     "duration": 4.036595,
     "end_time": "2022-08-27T06:01:25.757304",
     "exception": false,
     "start_time": "2022-08-27T06:01:21.720709",
     "status": "completed"
    },
    "tags": []
   },
   "outputs": [],
   "source": [
    "with open(OUTPUT_DIR_BASE / \"gwas_variant_ids.pkl\", \"rb\") as handle:\n",
    "    gwas_variants_ids_set = pickle.load(handle)"
   ]
  },
  {
   "cell_type": "code",
   "execution_count": 13,
   "id": "b9d9dec2-4a76-4bf9-bde2-e24c95acb8a0",
   "metadata": {
    "execution": {
     "iopub.execute_input": "2022-08-27T06:01:25.774969Z",
     "iopub.status.busy": "2022-08-27T06:01:25.774777Z",
     "iopub.status.idle": "2022-08-27T06:01:25.796715Z",
     "shell.execute_reply": "2022-08-27T06:01:25.796349Z"
    },
    "papermill": {
     "duration": 0.032164,
     "end_time": "2022-08-27T06:01:25.797917",
     "exception": false,
     "start_time": "2022-08-27T06:01:25.765753",
     "status": "completed"
    },
    "tags": []
   },
   "outputs": [
    {
     "data": {
      "text/plain": [
       "8871979"
      ]
     },
     "execution_count": 13,
     "metadata": {},
     "output_type": "execute_result"
    }
   ],
   "source": [
    "len(gwas_variants_ids_set)"
   ]
  },
  {
   "cell_type": "code",
   "execution_count": 14,
   "id": "4235b06a-6034-4ee4-a0a3-2ae35d122418",
   "metadata": {
    "execution": {
     "iopub.execute_input": "2022-08-27T06:01:25.815221Z",
     "iopub.status.busy": "2022-08-27T06:01:25.815049Z",
     "iopub.status.idle": "2022-08-27T06:01:26.324317Z",
     "shell.execute_reply": "2022-08-27T06:01:26.323879Z"
    },
    "papermill": {
     "duration": 0.519208,
     "end_time": "2022-08-27T06:01:26.325626",
     "exception": false,
     "start_time": "2022-08-27T06:01:25.806418",
     "status": "completed"
    },
    "tags": []
   },
   "outputs": [
    {
     "data": {
      "text/plain": [
       "['chr1_26085708_T_G_b38',\n",
       " 'chr10_119133610_G_T_b38',\n",
       " 'chr8_93578786_A_T_b38',\n",
       " 'chr2_21902883_A_G_b38',\n",
       " 'chr3_107081166_G_C_b38']"
      ]
     },
     "execution_count": 14,
     "metadata": {},
     "output_type": "execute_result"
    }
   ],
   "source": [
    "list(gwas_variants_ids_set)[:5]"
   ]
  },
  {
   "cell_type": "markdown",
   "id": "07866999-2305-41f9-a144-e69c9122c212",
   "metadata": {
    "papermill": {
     "duration": 0.008878,
     "end_time": "2022-08-27T06:01:26.344756",
     "exception": false,
     "start_time": "2022-08-27T06:01:26.335878",
     "status": "completed"
    },
    "tags": []
   },
   "source": [
    "## S-PrediXcan tissue models"
   ]
  },
  {
   "cell_type": "code",
   "execution_count": 15,
   "id": "780611d9-77c8-405f-90a4-f271f7b09397",
   "metadata": {
    "execution": {
     "iopub.execute_input": "2022-08-27T06:01:26.361814Z",
     "iopub.status.busy": "2022-08-27T06:01:26.361640Z",
     "iopub.status.idle": "2022-08-27T06:01:27.279648Z",
     "shell.execute_reply": "2022-08-27T06:01:27.279147Z"
    },
    "papermill": {
     "duration": 0.928567,
     "end_time": "2022-08-27T06:01:27.281395",
     "exception": false,
     "start_time": "2022-08-27T06:01:26.352828",
     "status": "completed"
    },
    "tags": []
   },
   "outputs": [],
   "source": [
    "spredixcan_genes_models = pd.read_pickle(OUTPUT_DIR_BASE / \"gene_tissues.pkl\")"
   ]
  },
  {
   "cell_type": "code",
   "execution_count": 16,
   "id": "726dd1f6-9557-4225-91fa-b3b879ea96e1",
   "metadata": {
    "execution": {
     "iopub.execute_input": "2022-08-27T06:01:27.301888Z",
     "iopub.status.busy": "2022-08-27T06:01:27.301685Z",
     "iopub.status.idle": "2022-08-27T06:01:27.321462Z",
     "shell.execute_reply": "2022-08-27T06:01:27.321079Z"
    },
    "papermill": {
     "duration": 0.02999,
     "end_time": "2022-08-27T06:01:27.322636",
     "exception": false,
     "start_time": "2022-08-27T06:01:27.292646",
     "status": "completed"
    },
    "tags": []
   },
   "outputs": [
    {
     "data": {
      "text/plain": [
       "(6450, 3)"
      ]
     },
     "execution_count": 16,
     "metadata": {},
     "output_type": "execute_result"
    }
   ],
   "source": [
    "spredixcan_genes_models.shape"
   ]
  },
  {
   "cell_type": "code",
   "execution_count": 17,
   "id": "944a1b48-222c-4eb0-b252-b9de2cbca215",
   "metadata": {
    "execution": {
     "iopub.execute_input": "2022-08-27T06:01:27.339972Z",
     "iopub.status.busy": "2022-08-27T06:01:27.339800Z",
     "iopub.status.idle": "2022-08-27T06:01:27.368133Z",
     "shell.execute_reply": "2022-08-27T06:01:27.367765Z"
    },
    "papermill": {
     "duration": 0.038305,
     "end_time": "2022-08-27T06:01:27.369353",
     "exception": false,
     "start_time": "2022-08-27T06:01:27.331048",
     "status": "completed"
    },
    "tags": []
   },
   "outputs": [
    {
     "data": {
      "text/html": [
       "<div>\n",
       "<style scoped>\n",
       "    .dataframe tbody tr th:only-of-type {\n",
       "        vertical-align: middle;\n",
       "    }\n",
       "\n",
       "    .dataframe tbody tr th {\n",
       "        vertical-align: top;\n",
       "    }\n",
       "\n",
       "    .dataframe thead th {\n",
       "        text-align: right;\n",
       "    }\n",
       "</style>\n",
       "<table border=\"1\" class=\"dataframe\">\n",
       "  <thead>\n",
       "    <tr style=\"text-align: right;\">\n",
       "      <th></th>\n",
       "      <th>gene_name</th>\n",
       "      <th>tissue</th>\n",
       "      <th>n_tissues</th>\n",
       "    </tr>\n",
       "    <tr>\n",
       "      <th>gene_id</th>\n",
       "      <th></th>\n",
       "      <th></th>\n",
       "      <th></th>\n",
       "    </tr>\n",
       "  </thead>\n",
       "  <tbody>\n",
       "    <tr>\n",
       "      <th>ENSG00000000419</th>\n",
       "      <td>DPM1</td>\n",
       "      <td>(Brain_Hypothalamus, Cells_Cultured_fibroblast...</td>\n",
       "      <td>3</td>\n",
       "    </tr>\n",
       "    <tr>\n",
       "      <th>ENSG00000000938</th>\n",
       "      <td>FGR</td>\n",
       "      <td>(Lung, Testis, Brain_Spinal_cord_cervical_c-1,...</td>\n",
       "      <td>36</td>\n",
       "    </tr>\n",
       "    <tr>\n",
       "      <th>ENSG00000000971</th>\n",
       "      <td>CFH</td>\n",
       "      <td>(Brain_Putamen_basal_ganglia, Lung, Testis, Br...</td>\n",
       "      <td>34</td>\n",
       "    </tr>\n",
       "    <tr>\n",
       "      <th>ENSG00000001084</th>\n",
       "      <td>GCLC</td>\n",
       "      <td>(Brain_Putamen_basal_ganglia, Brain_Amygdala, ...</td>\n",
       "      <td>33</td>\n",
       "    </tr>\n",
       "    <tr>\n",
       "      <th>ENSG00000001167</th>\n",
       "      <td>NFYA</td>\n",
       "      <td>(Brain_Putamen_basal_ganglia, Lung, Testis, Br...</td>\n",
       "      <td>40</td>\n",
       "    </tr>\n",
       "  </tbody>\n",
       "</table>\n",
       "</div>"
      ],
      "text/plain": [
       "                gene_name                                             tissue  \\\n",
       "gene_id                                                                        \n",
       "ENSG00000000419      DPM1  (Brain_Hypothalamus, Cells_Cultured_fibroblast...   \n",
       "ENSG00000000938       FGR  (Lung, Testis, Brain_Spinal_cord_cervical_c-1,...   \n",
       "ENSG00000000971       CFH  (Brain_Putamen_basal_ganglia, Lung, Testis, Br...   \n",
       "ENSG00000001084      GCLC  (Brain_Putamen_basal_ganglia, Brain_Amygdala, ...   \n",
       "ENSG00000001167      NFYA  (Brain_Putamen_basal_ganglia, Lung, Testis, Br...   \n",
       "\n",
       "                 n_tissues  \n",
       "gene_id                     \n",
       "ENSG00000000419          3  \n",
       "ENSG00000000938         36  \n",
       "ENSG00000000971         34  \n",
       "ENSG00000001084         33  \n",
       "ENSG00000001167         40  "
      ]
     },
     "execution_count": 17,
     "metadata": {},
     "output_type": "execute_result"
    }
   ],
   "source": [
    "spredixcan_genes_models.head()"
   ]
  },
  {
   "cell_type": "code",
   "execution_count": 18,
   "id": "d1c11bb1-be0b-4f40-b360-633d6827109f",
   "metadata": {
    "execution": {
     "iopub.execute_input": "2022-08-27T06:01:27.391428Z",
     "iopub.status.busy": "2022-08-27T06:01:27.391220Z",
     "iopub.status.idle": "2022-08-27T06:01:27.407857Z",
     "shell.execute_reply": "2022-08-27T06:01:27.407497Z"
    },
    "papermill": {
     "duration": 0.026657,
     "end_time": "2022-08-27T06:01:27.409116",
     "exception": false,
     "start_time": "2022-08-27T06:01:27.382459",
     "status": "completed"
    },
    "tags": []
   },
   "outputs": [],
   "source": [
    "assert spredixcan_genes_models.index.is_unique"
   ]
  },
  {
   "cell_type": "markdown",
   "id": "a5b5092c-a13e-47c4-a92a-480fcc08f3ae",
   "metadata": {
    "papermill": {
     "duration": 0.013249,
     "end_time": "2022-08-27T06:01:27.435651",
     "exception": false,
     "start_time": "2022-08-27T06:01:27.422402",
     "status": "completed"
    },
    "tags": []
   },
   "source": [
    "## Gene info"
   ]
  },
  {
   "cell_type": "code",
   "execution_count": 19,
   "id": "7d6bb224-88e9-4358-ac10-43a41d92cdad",
   "metadata": {
    "execution": {
     "iopub.execute_input": "2022-08-27T06:01:27.461962Z",
     "iopub.status.busy": "2022-08-27T06:01:27.461798Z",
     "iopub.status.idle": "2022-08-27T06:01:27.497492Z",
     "shell.execute_reply": "2022-08-27T06:01:27.497084Z"
    },
    "papermill": {
     "duration": 0.051156,
     "end_time": "2022-08-27T06:01:27.498786",
     "exception": false,
     "start_time": "2022-08-27T06:01:27.447630",
     "status": "completed"
    },
    "tags": []
   },
   "outputs": [],
   "source": [
    "genes_info = pd.read_pickle(OUTPUT_DIR_BASE / \"genes_info.pkl\")"
   ]
  },
  {
   "cell_type": "code",
   "execution_count": 20,
   "id": "9e32abfa-546d-483e-8c18-d526e9e05903",
   "metadata": {
    "execution": {
     "iopub.execute_input": "2022-08-27T06:01:27.520345Z",
     "iopub.status.busy": "2022-08-27T06:01:27.520172Z",
     "iopub.status.idle": "2022-08-27T06:01:27.537187Z",
     "shell.execute_reply": "2022-08-27T06:01:27.536825Z"
    },
    "papermill": {
     "duration": 0.028921,
     "end_time": "2022-08-27T06:01:27.538329",
     "exception": false,
     "start_time": "2022-08-27T06:01:27.509408",
     "status": "completed"
    },
    "tags": []
   },
   "outputs": [
    {
     "data": {
      "text/plain": [
       "(6450, 7)"
      ]
     },
     "execution_count": 20,
     "metadata": {},
     "output_type": "execute_result"
    }
   ],
   "source": [
    "genes_info.shape"
   ]
  },
  {
   "cell_type": "code",
   "execution_count": 21,
   "id": "d16c3e92-85ec-468a-9a56-e25a9774a1cb",
   "metadata": {
    "execution": {
     "iopub.execute_input": "2022-08-27T06:01:27.566967Z",
     "iopub.status.busy": "2022-08-27T06:01:27.566799Z",
     "iopub.status.idle": "2022-08-27T06:01:27.587342Z",
     "shell.execute_reply": "2022-08-27T06:01:27.586975Z"
    },
    "papermill": {
     "duration": 0.036553,
     "end_time": "2022-08-27T06:01:27.588483",
     "exception": false,
     "start_time": "2022-08-27T06:01:27.551930",
     "status": "completed"
    },
    "tags": []
   },
   "outputs": [
    {
     "data": {
      "text/html": [
       "<div>\n",
       "<style scoped>\n",
       "    .dataframe tbody tr th:only-of-type {\n",
       "        vertical-align: middle;\n",
       "    }\n",
       "\n",
       "    .dataframe tbody tr th {\n",
       "        vertical-align: top;\n",
       "    }\n",
       "\n",
       "    .dataframe thead th {\n",
       "        text-align: right;\n",
       "    }\n",
       "</style>\n",
       "<table border=\"1\" class=\"dataframe\">\n",
       "  <thead>\n",
       "    <tr style=\"text-align: right;\">\n",
       "      <th></th>\n",
       "      <th>name</th>\n",
       "      <th>id</th>\n",
       "      <th>chr</th>\n",
       "      <th>band</th>\n",
       "      <th>start_position</th>\n",
       "      <th>end_position</th>\n",
       "      <th>gene_length</th>\n",
       "    </tr>\n",
       "  </thead>\n",
       "  <tbody>\n",
       "    <tr>\n",
       "      <th>0</th>\n",
       "      <td>FBXO34</td>\n",
       "      <td>ENSG00000178974</td>\n",
       "      <td>14</td>\n",
       "      <td>14q22.3</td>\n",
       "      <td>55271421</td>\n",
       "      <td>55361918</td>\n",
       "      <td>90497</td>\n",
       "    </tr>\n",
       "    <tr>\n",
       "      <th>1</th>\n",
       "      <td>ARG1</td>\n",
       "      <td>ENSG00000118520</td>\n",
       "      <td>6</td>\n",
       "      <td>6q23.2</td>\n",
       "      <td>131573144</td>\n",
       "      <td>131584332</td>\n",
       "      <td>11188</td>\n",
       "    </tr>\n",
       "    <tr>\n",
       "      <th>2</th>\n",
       "      <td>FADS2</td>\n",
       "      <td>ENSG00000134824</td>\n",
       "      <td>11</td>\n",
       "      <td>11q12.2</td>\n",
       "      <td>61792980</td>\n",
       "      <td>61867354</td>\n",
       "      <td>74374</td>\n",
       "    </tr>\n",
       "    <tr>\n",
       "      <th>3</th>\n",
       "      <td>CA4</td>\n",
       "      <td>ENSG00000167434</td>\n",
       "      <td>17</td>\n",
       "      <td>17q23.1</td>\n",
       "      <td>60149942</td>\n",
       "      <td>60170899</td>\n",
       "      <td>20957</td>\n",
       "    </tr>\n",
       "    <tr>\n",
       "      <th>4</th>\n",
       "      <td>PFKFB3</td>\n",
       "      <td>ENSG00000170525</td>\n",
       "      <td>10</td>\n",
       "      <td>10p15.1</td>\n",
       "      <td>6144934</td>\n",
       "      <td>6254644</td>\n",
       "      <td>109710</td>\n",
       "    </tr>\n",
       "  </tbody>\n",
       "</table>\n",
       "</div>"
      ],
      "text/plain": [
       "     name               id  chr     band  start_position  end_position  \\\n",
       "0  FBXO34  ENSG00000178974   14  14q22.3        55271421      55361918   \n",
       "1    ARG1  ENSG00000118520    6   6q23.2       131573144     131584332   \n",
       "2   FADS2  ENSG00000134824   11  11q12.2        61792980      61867354   \n",
       "3     CA4  ENSG00000167434   17  17q23.1        60149942      60170899   \n",
       "4  PFKFB3  ENSG00000170525   10  10p15.1         6144934       6254644   \n",
       "\n",
       "   gene_length  \n",
       "0        90497  \n",
       "1        11188  \n",
       "2        74374  \n",
       "3        20957  \n",
       "4       109710  "
      ]
     },
     "execution_count": 21,
     "metadata": {},
     "output_type": "execute_result"
    }
   ],
   "source": [
    "genes_info.head()"
   ]
  },
  {
   "cell_type": "markdown",
   "id": "d3843e06",
   "metadata": {
    "papermill": {
     "duration": 0.010758,
     "end_time": "2022-08-27T06:01:27.608628",
     "exception": false,
     "start_time": "2022-08-27T06:01:27.597870",
     "status": "completed"
    },
    "tags": []
   },
   "source": [
    "# Compute correlations"
   ]
  },
  {
   "cell_type": "code",
   "execution_count": 22,
   "id": "cb859c15-d1f3-4006-a74c-2b83c0db9611",
   "metadata": {
    "execution": {
     "iopub.execute_input": "2022-08-27T06:01:27.639695Z",
     "iopub.status.busy": "2022-08-27T06:01:27.639526Z",
     "iopub.status.idle": "2022-08-27T06:01:27.657323Z",
     "shell.execute_reply": "2022-08-27T06:01:27.656941Z"
    },
    "papermill": {
     "duration": 0.033201,
     "end_time": "2022-08-27T06:01:27.658523",
     "exception": false,
     "start_time": "2022-08-27T06:01:27.625322",
     "status": "completed"
    },
    "tags": []
   },
   "outputs": [
    {
     "data": {
      "text/plain": [
       "PosixPath('/project/ritchie20/projects/phenoplier/base/results/gls/gene_corrs/cohorts/phenomexcan_astle/gtex_v8/mashr/by_chr/gene_corrs-chr14.pkl')"
      ]
     },
     "metadata": {},
     "output_type": "display_data"
    }
   ],
   "source": [
    "output_dir = OUTPUT_DIR_BASE / \"by_chr\"\n",
    "output_dir.mkdir(exist_ok=True, parents=True)\n",
    "output_file = output_dir / f\"gene_corrs-chr{CHROMOSOME}.pkl\"\n",
    "display(output_file)"
   ]
  },
  {
   "cell_type": "code",
   "execution_count": 23,
   "id": "aa674fe4-6794-4eed-98fa-32b39d1d4ace",
   "metadata": {
    "execution": {
     "iopub.execute_input": "2022-08-27T06:01:27.679565Z",
     "iopub.status.busy": "2022-08-27T06:01:27.679404Z",
     "iopub.status.idle": "2022-08-27T06:01:27.694610Z",
     "shell.execute_reply": "2022-08-27T06:01:27.694252Z"
    },
    "papermill": {
     "duration": 0.028339,
     "end_time": "2022-08-27T06:01:27.695866",
     "exception": false,
     "start_time": "2022-08-27T06:01:27.667527",
     "status": "completed"
    },
    "tags": []
   },
   "outputs": [],
   "source": [
    "warnings.filterwarnings(\"error\")"
   ]
  },
  {
   "cell_type": "code",
   "execution_count": 24,
   "id": "44d5450b-3baf-43f1-9e2e-4b06f1a785f8",
   "metadata": {
    "execution": {
     "iopub.execute_input": "2022-08-27T06:01:27.724835Z",
     "iopub.status.busy": "2022-08-27T06:01:27.724675Z",
     "iopub.status.idle": "2022-08-27T06:01:27.740457Z",
     "shell.execute_reply": "2022-08-27T06:01:27.740096Z"
    },
    "papermill": {
     "duration": 0.03223,
     "end_time": "2022-08-27T06:01:27.741726",
     "exception": false,
     "start_time": "2022-08-27T06:01:27.709496",
     "status": "completed"
    },
    "tags": []
   },
   "outputs": [],
   "source": [
    "# standard checks\n",
    "all_chrs = genes_info[\"chr\"].dropna().unique()\n",
    "assert all_chrs.shape[0] == 22\n",
    "\n",
    "# select chromosome given by the user\n",
    "assert CHROMOSOME in all_chrs"
   ]
  },
  {
   "cell_type": "code",
   "execution_count": 25,
   "id": "2d7c043c-92a7-4d35-991b-fa69ac1e0268",
   "metadata": {
    "execution": {
     "iopub.execute_input": "2022-08-27T06:01:27.760861Z",
     "iopub.status.busy": "2022-08-27T06:01:27.760696Z",
     "iopub.status.idle": "2022-08-27T06:01:27.804577Z",
     "shell.execute_reply": "2022-08-27T06:01:27.804181Z"
    },
    "papermill": {
     "duration": 0.05509,
     "end_time": "2022-08-27T06:01:27.805790",
     "exception": false,
     "start_time": "2022-08-27T06:01:27.750700",
     "status": "completed"
    },
    "tags": []
   },
   "outputs": [
    {
     "name": "stdout",
     "output_type": "stream",
     "text": [
      "Number of genes in chromosome: 211\n"
     ]
    }
   ],
   "source": [
    "# run only on the chromosome specified\n",
    "all_chrs = [CHROMOSOME]\n",
    "genes_chr = genes_info[genes_info[\"chr\"] == CHROMOSOME]\n",
    "\n",
    "# For testing purposes\n",
    "# genes_chr = genes_chr.sample(n=20)\n",
    "\n",
    "print(f\"Number of genes in chromosome: {genes_chr.shape[0]}\", flush=True)"
   ]
  },
  {
   "cell_type": "code",
   "execution_count": 26,
   "id": "916015d8-2979-46d3-a9b9-1cf5a0932c6a",
   "metadata": {
    "execution": {
     "iopub.execute_input": "2022-08-27T06:01:27.825485Z",
     "iopub.status.busy": "2022-08-27T06:01:27.825317Z",
     "iopub.status.idle": "2022-08-27T06:01:27.841090Z",
     "shell.execute_reply": "2022-08-27T06:01:27.840731Z"
    },
    "papermill": {
     "duration": 0.027615,
     "end_time": "2022-08-27T06:01:27.842360",
     "exception": false,
     "start_time": "2022-08-27T06:01:27.814745",
     "status": "completed"
    },
    "tags": []
   },
   "outputs": [],
   "source": [
    "# sort genes by starting position to make visualizations better later\n",
    "genes_chr = genes_chr.sort_values(\"start_position\")"
   ]
  },
  {
   "cell_type": "code",
   "execution_count": 27,
   "id": "a38aa74a-8ad3-47f6-8ef9-56be0e011774",
   "metadata": {
    "execution": {
     "iopub.execute_input": "2022-08-27T06:01:27.864054Z",
     "iopub.status.busy": "2022-08-27T06:01:27.863889Z",
     "iopub.status.idle": "2022-08-27T06:01:27.879647Z",
     "shell.execute_reply": "2022-08-27T06:01:27.879283Z"
    },
    "papermill": {
     "duration": 0.028102,
     "end_time": "2022-08-27T06:01:27.880913",
     "exception": false,
     "start_time": "2022-08-27T06:01:27.852811",
     "status": "completed"
    },
    "tags": []
   },
   "outputs": [],
   "source": [
    "gene_chr_objs = [Gene(ensembl_id=gene_id) for gene_id in genes_chr[\"id\"]]"
   ]
  },
  {
   "cell_type": "code",
   "execution_count": 28,
   "id": "570f974f-13c3-42b6-ad3a-ce99ca885c1a",
   "metadata": {
    "execution": {
     "iopub.execute_input": "2022-08-27T06:01:27.907342Z",
     "iopub.status.busy": "2022-08-27T06:01:27.907159Z",
     "iopub.status.idle": "2022-08-27T06:01:27.923763Z",
     "shell.execute_reply": "2022-08-27T06:01:27.923400Z"
    },
    "papermill": {
     "duration": 0.031727,
     "end_time": "2022-08-27T06:01:27.925027",
     "exception": false,
     "start_time": "2022-08-27T06:01:27.893300",
     "status": "completed"
    },
    "tags": []
   },
   "outputs": [
    {
     "name": "stdout",
     "output_type": "stream",
     "text": [
      "Number of gene combinations: 22155\n"
     ]
    }
   ],
   "source": [
    "n = len(gene_chr_objs)\n",
    "n_comb = int(n * (n - 1) / 2.0)\n",
    "print(f\"Number of gene combinations: {n_comb}\", flush=True)"
   ]
  },
  {
   "cell_type": "code",
   "execution_count": 29,
   "id": "cdbb90a1",
   "metadata": {
    "execution": {
     "iopub.execute_input": "2022-08-27T06:01:27.953717Z",
     "iopub.status.busy": "2022-08-27T06:01:27.953558Z",
     "iopub.status.idle": "2022-08-27T06:25:37.724902Z",
     "shell.execute_reply": "2022-08-27T06:25:37.723837Z"
    },
    "papermill": {
     "duration": 1449.786787,
     "end_time": "2022-08-27T06:25:37.727771",
     "exception": false,
     "start_time": "2022-08-27T06:01:27.940984",
     "status": "completed"
    },
    "tags": []
   },
   "outputs": [
    {
     "name": "stderr",
     "output_type": "stream",
     "text": [
      "ENSG00000182979 / ENSG00000182979: : 22366it [24:09, 15.43it/s]\n"
     ]
    },
    {
     "data": {
      "text/plain": [
       "PosixPath('/project/ritchie20/projects/phenoplier/base/results/gls/gene_corrs/cohorts/phenomexcan_astle/gtex_v8/mashr/by_chr/gene_corrs-chr14.pkl')"
      ]
     },
     "metadata": {},
     "output_type": "display_data"
    }
   ],
   "source": [
    "gene_corrs = []\n",
    "gene_corrs_data = np.full(\n",
    "    (n, n),\n",
    "    np.nan,\n",
    "    dtype=np.float64,\n",
    ")\n",
    "\n",
    "i = 0\n",
    "with tqdm(ncols=100, total=n_comb) as pbar:\n",
    "    for gene1_idx in range(0, len(gene_chr_objs)):\n",
    "        gene1_obj = gene_chr_objs[gene1_idx]\n",
    "        gene1_tissues = spredixcan_genes_models.loc[gene1_obj.ensembl_id, \"tissue\"]\n",
    "\n",
    "        for gene2_idx in range(gene1_idx, len(gene_chr_objs)):\n",
    "            gene2_obj = gene_chr_objs[gene2_idx]\n",
    "            gene2_tissues = spredixcan_genes_models.loc[gene2_obj.ensembl_id, \"tissue\"]\n",
    "\n",
    "            pbar.set_description(f\"{gene1_obj.ensembl_id} / {gene2_obj.ensembl_id}\")\n",
    "\n",
    "            try:\n",
    "                r = gene1_obj.get_ssm_correlation(\n",
    "                    other_gene=gene2_obj,\n",
    "                    tissues=gene1_tissues,\n",
    "                    other_tissues=gene2_tissues,\n",
    "                    snps_subset=gwas_variants_ids_set,\n",
    "                    condition_number=SMULTIXCAN_CONDITION_NUMBER,\n",
    "                    reference_panel=REFERENCE_PANEL,\n",
    "                    model_type=EQTL_MODEL,\n",
    "                    use_within_distance=COMPUTE_CORRELATIONS_WITHIN_DISTANCE,\n",
    "                )\n",
    "\n",
    "                if r is None:\n",
    "                    # if r is None, it's very likely because:\n",
    "                    #  * one of the genes has no prediction models\n",
    "                    #  * all the SNPs predictors for the gene are not present in the reference\n",
    "                    #    panel\n",
    "\n",
    "                    r = 0.0\n",
    "\n",
    "                gene_corrs.append(r)\n",
    "\n",
    "                gene_corrs_data[gene1_idx, gene2_idx] = r\n",
    "                gene_corrs_data[gene2_idx, gene1_idx] = r\n",
    "            except Warning as e:\n",
    "                if not DEBUG_MODE:\n",
    "                    raise e\n",
    "\n",
    "                print(\n",
    "                    f\"RuntimeWarning for genes {gene1_obj.ensembl_id} and {gene2_obj.ensembl_id}\",\n",
    "                    flush=True,\n",
    "                )\n",
    "                print(traceback.format_exc(), flush=True)\n",
    "\n",
    "                gene_corrs.append(np.nan)\n",
    "            except Exception as e:\n",
    "                if not DEBUG_MODE:\n",
    "                    raise e\n",
    "\n",
    "                print(\n",
    "                    f\"Exception for genes {gene1_obj.ensembl_id} and {gene2_obj.ensembl_id}\",\n",
    "                    flush=True,\n",
    "                )\n",
    "                print(traceback.format_exc(), flush=True)\n",
    "\n",
    "                gene_corrs.append(np.nan)\n",
    "\n",
    "            pbar.update(1)\n",
    "\n",
    "# create a pandas series\n",
    "gene_corrs_flat = pd.Series(gene_corrs)\n",
    "\n",
    "# save\n",
    "# FIXME: consider saving only the condenced matrix here. See here for\n",
    "# more details: https://github.com/greenelab/phenoplier/pull/38#discussion_r634600813\n",
    "# gene_corrs_data = squareform(np.array(gene_corrs, dtype=np.float64))\n",
    "# np.fill_diagonal(gene_corrs_data, 1.0)\n",
    "\n",
    "gene_chr_ids = [g.ensembl_id for g in gene_chr_objs]\n",
    "gene_corrs_df = pd.DataFrame(\n",
    "    data=gene_corrs_data,\n",
    "    index=gene_chr_ids,\n",
    "    columns=gene_chr_ids,\n",
    ")\n",
    "\n",
    "output_dir.mkdir(exist_ok=True, parents=True)\n",
    "display(output_file)\n",
    "\n",
    "gene_corrs_df.to_pickle(output_file)"
   ]
  },
  {
   "cell_type": "markdown",
   "id": "faa67b51-5373-470f-aa72-2ded53fa6dfe",
   "metadata": {
    "papermill": {
     "duration": 1.157911,
     "end_time": "2022-08-27T06:25:40.050460",
     "exception": false,
     "start_time": "2022-08-27T06:25:38.892549",
     "status": "completed"
    },
    "tags": []
   },
   "source": [
    "# Testing"
   ]
  },
  {
   "cell_type": "code",
   "execution_count": 30,
   "id": "14f7d046-4b55-4896-a56b-990127bcc388",
   "metadata": {
    "execution": {
     "iopub.execute_input": "2022-08-27T06:25:42.274285Z",
     "iopub.status.busy": "2022-08-27T06:25:42.274019Z",
     "iopub.status.idle": "2022-08-27T06:25:42.512812Z",
     "shell.execute_reply": "2022-08-27T06:25:42.512388Z"
    },
    "papermill": {
     "duration": 1.350597,
     "end_time": "2022-08-27T06:25:42.514125",
     "exception": false,
     "start_time": "2022-08-27T06:25:41.163528",
     "status": "completed"
    },
    "tags": []
   },
   "outputs": [
    {
     "data": {
      "text/plain": [
       "(211, 211)"
      ]
     },
     "execution_count": 30,
     "metadata": {},
     "output_type": "execute_result"
    }
   ],
   "source": [
    "gene_corrs_df.shape"
   ]
  },
  {
   "cell_type": "code",
   "execution_count": 31,
   "id": "c7d15414-3297-4537-a7c6-7588c0baeb75",
   "metadata": {
    "execution": {
     "iopub.execute_input": "2022-08-27T06:25:44.764830Z",
     "iopub.status.busy": "2022-08-27T06:25:44.764584Z",
     "iopub.status.idle": "2022-08-27T06:25:44.796332Z",
     "shell.execute_reply": "2022-08-27T06:25:44.795906Z"
    },
    "papermill": {
     "duration": 1.179361,
     "end_time": "2022-08-27T06:25:44.797619",
     "exception": false,
     "start_time": "2022-08-27T06:25:43.618258",
     "status": "completed"
    },
    "tags": []
   },
   "outputs": [
    {
     "data": {
      "text/html": [
       "<div>\n",
       "<style scoped>\n",
       "    .dataframe tbody tr th:only-of-type {\n",
       "        vertical-align: middle;\n",
       "    }\n",
       "\n",
       "    .dataframe tbody tr th {\n",
       "        vertical-align: top;\n",
       "    }\n",
       "\n",
       "    .dataframe thead th {\n",
       "        text-align: right;\n",
       "    }\n",
       "</style>\n",
       "<table border=\"1\" class=\"dataframe\">\n",
       "  <thead>\n",
       "    <tr style=\"text-align: right;\">\n",
       "      <th></th>\n",
       "      <th>ENSG00000222036</th>\n",
       "      <th>ENSG00000136319</th>\n",
       "      <th>ENSG00000129484</th>\n",
       "      <th>ENSG00000129566</th>\n",
       "      <th>ENSG00000100823</th>\n",
       "      <th>ENSG00000198805</th>\n",
       "      <th>ENSG00000214274</th>\n",
       "      <th>ENSG00000258818</th>\n",
       "      <th>ENSG00000169413</th>\n",
       "      <th>ENSG00000169397</th>\n",
       "      <th>...</th>\n",
       "      <th>ENSG00000126215</th>\n",
       "      <th>ENSG00000088808</th>\n",
       "      <th>ENSG00000066735</th>\n",
       "      <th>ENSG00000185100</th>\n",
       "      <th>ENSG00000142208</th>\n",
       "      <th>ENSG00000166428</th>\n",
       "      <th>ENSG00000183484</th>\n",
       "      <th>ENSG00000184916</th>\n",
       "      <th>ENSG00000185024</th>\n",
       "      <th>ENSG00000182979</th>\n",
       "    </tr>\n",
       "  </thead>\n",
       "  <tbody>\n",
       "    <tr>\n",
       "      <th>ENSG00000222036</th>\n",
       "      <td>1.000000</td>\n",
       "      <td>0.002445</td>\n",
       "      <td>0.002823</td>\n",
       "      <td>0.001665</td>\n",
       "      <td>0.002821</td>\n",
       "      <td>0.000813</td>\n",
       "      <td>0.001106</td>\n",
       "      <td>0.000676</td>\n",
       "      <td>0.002136</td>\n",
       "      <td>0.000778</td>\n",
       "      <td>...</td>\n",
       "      <td>0.003893</td>\n",
       "      <td>0.008991</td>\n",
       "      <td>0.002828</td>\n",
       "      <td>0.002972</td>\n",
       "      <td>0.004833</td>\n",
       "      <td>0.003988</td>\n",
       "      <td>0.000896</td>\n",
       "      <td>0.005412</td>\n",
       "      <td>0.001522</td>\n",
       "      <td>0.001369</td>\n",
       "    </tr>\n",
       "    <tr>\n",
       "      <th>ENSG00000136319</th>\n",
       "      <td>0.002445</td>\n",
       "      <td>1.000000</td>\n",
       "      <td>0.417271</td>\n",
       "      <td>0.015764</td>\n",
       "      <td>0.009537</td>\n",
       "      <td>0.008146</td>\n",
       "      <td>0.006864</td>\n",
       "      <td>0.005215</td>\n",
       "      <td>0.008762</td>\n",
       "      <td>0.003998</td>\n",
       "      <td>...</td>\n",
       "      <td>0.004504</td>\n",
       "      <td>0.004610</td>\n",
       "      <td>0.006891</td>\n",
       "      <td>0.004100</td>\n",
       "      <td>0.004183</td>\n",
       "      <td>0.004084</td>\n",
       "      <td>0.001489</td>\n",
       "      <td>0.007950</td>\n",
       "      <td>0.004679</td>\n",
       "      <td>0.003075</td>\n",
       "    </tr>\n",
       "    <tr>\n",
       "      <th>ENSG00000129484</th>\n",
       "      <td>0.002823</td>\n",
       "      <td>0.417271</td>\n",
       "      <td>1.000000</td>\n",
       "      <td>0.009467</td>\n",
       "      <td>0.005799</td>\n",
       "      <td>0.007476</td>\n",
       "      <td>0.004688</td>\n",
       "      <td>0.003682</td>\n",
       "      <td>0.004720</td>\n",
       "      <td>0.003468</td>\n",
       "      <td>...</td>\n",
       "      <td>0.005294</td>\n",
       "      <td>0.006236</td>\n",
       "      <td>0.007639</td>\n",
       "      <td>0.004626</td>\n",
       "      <td>0.008376</td>\n",
       "      <td>0.006168</td>\n",
       "      <td>0.002743</td>\n",
       "      <td>0.007631</td>\n",
       "      <td>0.004590</td>\n",
       "      <td>0.002771</td>\n",
       "    </tr>\n",
       "    <tr>\n",
       "      <th>ENSG00000129566</th>\n",
       "      <td>0.001665</td>\n",
       "      <td>0.015764</td>\n",
       "      <td>0.009467</td>\n",
       "      <td>1.000000</td>\n",
       "      <td>0.038900</td>\n",
       "      <td>0.010790</td>\n",
       "      <td>0.008312</td>\n",
       "      <td>0.009701</td>\n",
       "      <td>0.004215</td>\n",
       "      <td>0.005278</td>\n",
       "      <td>...</td>\n",
       "      <td>0.003060</td>\n",
       "      <td>0.003191</td>\n",
       "      <td>0.008571</td>\n",
       "      <td>0.005892</td>\n",
       "      <td>0.007216</td>\n",
       "      <td>0.005247</td>\n",
       "      <td>0.003945</td>\n",
       "      <td>0.005916</td>\n",
       "      <td>0.006541</td>\n",
       "      <td>0.002698</td>\n",
       "    </tr>\n",
       "    <tr>\n",
       "      <th>ENSG00000100823</th>\n",
       "      <td>0.002821</td>\n",
       "      <td>0.009537</td>\n",
       "      <td>0.005799</td>\n",
       "      <td>0.038900</td>\n",
       "      <td>1.000000</td>\n",
       "      <td>0.349131</td>\n",
       "      <td>0.004823</td>\n",
       "      <td>0.004009</td>\n",
       "      <td>0.010096</td>\n",
       "      <td>0.010190</td>\n",
       "      <td>...</td>\n",
       "      <td>0.004454</td>\n",
       "      <td>0.005927</td>\n",
       "      <td>0.007031</td>\n",
       "      <td>0.004591</td>\n",
       "      <td>0.008363</td>\n",
       "      <td>0.009381</td>\n",
       "      <td>0.010473</td>\n",
       "      <td>0.009029</td>\n",
       "      <td>0.007436</td>\n",
       "      <td>0.005463</td>\n",
       "    </tr>\n",
       "  </tbody>\n",
       "</table>\n",
       "<p>5 rows × 211 columns</p>\n",
       "</div>"
      ],
      "text/plain": [
       "                 ENSG00000222036  ENSG00000136319  ENSG00000129484  \\\n",
       "ENSG00000222036         1.000000         0.002445         0.002823   \n",
       "ENSG00000136319         0.002445         1.000000         0.417271   \n",
       "ENSG00000129484         0.002823         0.417271         1.000000   \n",
       "ENSG00000129566         0.001665         0.015764         0.009467   \n",
       "ENSG00000100823         0.002821         0.009537         0.005799   \n",
       "\n",
       "                 ENSG00000129566  ENSG00000100823  ENSG00000198805  \\\n",
       "ENSG00000222036         0.001665         0.002821         0.000813   \n",
       "ENSG00000136319         0.015764         0.009537         0.008146   \n",
       "ENSG00000129484         0.009467         0.005799         0.007476   \n",
       "ENSG00000129566         1.000000         0.038900         0.010790   \n",
       "ENSG00000100823         0.038900         1.000000         0.349131   \n",
       "\n",
       "                 ENSG00000214274  ENSG00000258818  ENSG00000169413  \\\n",
       "ENSG00000222036         0.001106         0.000676         0.002136   \n",
       "ENSG00000136319         0.006864         0.005215         0.008762   \n",
       "ENSG00000129484         0.004688         0.003682         0.004720   \n",
       "ENSG00000129566         0.008312         0.009701         0.004215   \n",
       "ENSG00000100823         0.004823         0.004009         0.010096   \n",
       "\n",
       "                 ENSG00000169397  ...  ENSG00000126215  ENSG00000088808  \\\n",
       "ENSG00000222036         0.000778  ...         0.003893         0.008991   \n",
       "ENSG00000136319         0.003998  ...         0.004504         0.004610   \n",
       "ENSG00000129484         0.003468  ...         0.005294         0.006236   \n",
       "ENSG00000129566         0.005278  ...         0.003060         0.003191   \n",
       "ENSG00000100823         0.010190  ...         0.004454         0.005927   \n",
       "\n",
       "                 ENSG00000066735  ENSG00000185100  ENSG00000142208  \\\n",
       "ENSG00000222036         0.002828         0.002972         0.004833   \n",
       "ENSG00000136319         0.006891         0.004100         0.004183   \n",
       "ENSG00000129484         0.007639         0.004626         0.008376   \n",
       "ENSG00000129566         0.008571         0.005892         0.007216   \n",
       "ENSG00000100823         0.007031         0.004591         0.008363   \n",
       "\n",
       "                 ENSG00000166428  ENSG00000183484  ENSG00000184916  \\\n",
       "ENSG00000222036         0.003988         0.000896         0.005412   \n",
       "ENSG00000136319         0.004084         0.001489         0.007950   \n",
       "ENSG00000129484         0.006168         0.002743         0.007631   \n",
       "ENSG00000129566         0.005247         0.003945         0.005916   \n",
       "ENSG00000100823         0.009381         0.010473         0.009029   \n",
       "\n",
       "                 ENSG00000185024  ENSG00000182979  \n",
       "ENSG00000222036         0.001522         0.001369  \n",
       "ENSG00000136319         0.004679         0.003075  \n",
       "ENSG00000129484         0.004590         0.002771  \n",
       "ENSG00000129566         0.006541         0.002698  \n",
       "ENSG00000100823         0.007436         0.005463  \n",
       "\n",
       "[5 rows x 211 columns]"
      ]
     },
     "execution_count": 31,
     "metadata": {},
     "output_type": "execute_result"
    }
   ],
   "source": [
    "gene_corrs_df.head()"
   ]
  },
  {
   "cell_type": "markdown",
   "id": "dad6603f-01c6-41fb-a6f6-241051207dd8",
   "metadata": {
    "papermill": {
     "duration": 1.100128,
     "end_time": "2022-08-27T06:25:47.028879",
     "exception": false,
     "start_time": "2022-08-27T06:25:45.928751",
     "status": "completed"
    },
    "tags": []
   },
   "source": [
    "## Standard checks and stats"
   ]
  },
  {
   "cell_type": "code",
   "execution_count": 32,
   "id": "286686af-1b7b-4440-8453-6bdcbd8de19c",
   "metadata": {
    "execution": {
     "iopub.execute_input": "2022-08-27T06:25:49.274635Z",
     "iopub.status.busy": "2022-08-27T06:25:49.274390Z",
     "iopub.status.idle": "2022-08-27T06:25:49.294021Z",
     "shell.execute_reply": "2022-08-27T06:25:49.293596Z"
    },
    "papermill": {
     "duration": 1.121385,
     "end_time": "2022-08-27T06:25:49.295431",
     "exception": false,
     "start_time": "2022-08-27T06:25:48.174046",
     "status": "completed"
    },
    "tags": []
   },
   "outputs": [],
   "source": [
    "assert not gene_corrs_df.isna().any().any()"
   ]
  },
  {
   "cell_type": "code",
   "execution_count": 33,
   "id": "00583efc-7068-4270-ad1e-4a418e91db96",
   "metadata": {
    "execution": {
     "iopub.execute_input": "2022-08-27T06:25:51.548013Z",
     "iopub.status.busy": "2022-08-27T06:25:51.547770Z",
     "iopub.status.idle": "2022-08-27T06:25:51.569638Z",
     "shell.execute_reply": "2022-08-27T06:25:51.569221Z"
    },
    "papermill": {
     "duration": 1.123633,
     "end_time": "2022-08-27T06:25:51.570877",
     "exception": false,
     "start_time": "2022-08-27T06:25:50.447244",
     "status": "completed"
    },
    "tags": []
   },
   "outputs": [
    {
     "data": {
      "text/plain": [
       "3.8000847030716356e-07"
      ]
     },
     "metadata": {},
     "output_type": "display_data"
    }
   ],
   "source": [
    "_min_val = gene_corrs_df.min().min()\n",
    "display(_min_val)\n",
    "assert _min_val >= -0.05"
   ]
  },
  {
   "cell_type": "code",
   "execution_count": 34,
   "id": "d04fb2cf-1050-475b-b855-f5f7cc04092b",
   "metadata": {
    "execution": {
     "iopub.execute_input": "2022-08-27T06:25:53.774811Z",
     "iopub.status.busy": "2022-08-27T06:25:53.774565Z",
     "iopub.status.idle": "2022-08-27T06:25:53.796124Z",
     "shell.execute_reply": "2022-08-27T06:25:53.795714Z"
    },
    "papermill": {
     "duration": 1.114801,
     "end_time": "2022-08-27T06:25:53.797359",
     "exception": false,
     "start_time": "2022-08-27T06:25:52.682558",
     "status": "completed"
    },
    "tags": []
   },
   "outputs": [
    {
     "data": {
      "text/plain": [
       "1.0000000000000033"
      ]
     },
     "metadata": {},
     "output_type": "display_data"
    }
   ],
   "source": [
    "_max_val = gene_corrs_df.max().max()  # this captures the diagonal\n",
    "display(_max_val)\n",
    "assert _max_val <= 1.05"
   ]
  },
  {
   "cell_type": "code",
   "execution_count": 35,
   "id": "96d02c44-1fba-47be-8a93-8f2608420b9c",
   "metadata": {
    "execution": {
     "iopub.execute_input": "2022-08-27T06:25:56.042903Z",
     "iopub.status.busy": "2022-08-27T06:25:56.042652Z",
     "iopub.status.idle": "2022-08-27T06:25:56.061206Z",
     "shell.execute_reply": "2022-08-27T06:25:56.060793Z"
    },
    "papermill": {
     "duration": 1.124016,
     "end_time": "2022-08-27T06:25:56.062584",
     "exception": false,
     "start_time": "2022-08-27T06:25:54.938568",
     "status": "completed"
    },
    "tags": []
   },
   "outputs": [],
   "source": [
    "# check upper triangular values\n",
    "# assert len(gene_corrs) == int(genes_chr.shape[0] * (genes_chr.shape[0] - 1) / 2)"
   ]
  },
  {
   "cell_type": "code",
   "execution_count": 36,
   "id": "fe283586-c348-40e0-8841-f6d97bfb021c",
   "metadata": {
    "execution": {
     "iopub.execute_input": "2022-08-27T06:25:58.307123Z",
     "iopub.status.busy": "2022-08-27T06:25:58.306878Z",
     "iopub.status.idle": "2022-08-27T06:25:58.330590Z",
     "shell.execute_reply": "2022-08-27T06:25:58.330167Z"
    },
    "papermill": {
     "duration": 1.168482,
     "end_time": "2022-08-27T06:25:58.331816",
     "exception": false,
     "start_time": "2022-08-27T06:25:57.163334",
     "status": "completed"
    },
    "tags": []
   },
   "outputs": [
    {
     "data": {
      "text/plain": [
       "count    2.236600e+04\n",
       "mean     1.865153e-02\n",
       "std      1.012349e-01\n",
       "min      3.800085e-07\n",
       "25%      4.267255e-03\n",
       "50%      6.263127e-03\n",
       "75%      8.550827e-03\n",
       "max      1.000000e+00\n",
       "dtype: float64"
      ]
     },
     "execution_count": 36,
     "metadata": {},
     "output_type": "execute_result"
    }
   ],
   "source": [
    "gene_corrs_flat.describe()"
   ]
  },
  {
   "cell_type": "code",
   "execution_count": 37,
   "id": "b3815678-0f93-4b35-897b-a9d047a2aa78",
   "metadata": {
    "execution": {
     "iopub.execute_input": "2022-08-27T06:26:00.611324Z",
     "iopub.status.busy": "2022-08-27T06:26:00.611069Z",
     "iopub.status.idle": "2022-08-27T06:26:00.634243Z",
     "shell.execute_reply": "2022-08-27T06:26:00.633830Z"
    },
    "papermill": {
     "duration": 1.171187,
     "end_time": "2022-08-27T06:26:00.635539",
     "exception": false,
     "start_time": "2022-08-27T06:25:59.464352",
     "status": "completed"
    },
    "tags": []
   },
   "outputs": [
    {
     "data": {
      "text/plain": [
       "0.00    3.800085e-07\n",
       "0.05    1.909996e-03\n",
       "0.10    2.712165e-03\n",
       "0.15    3.326724e-03\n",
       "0.20    3.825552e-03\n",
       "0.25    4.267255e-03\n",
       "0.30    4.707943e-03\n",
       "0.35    5.102253e-03\n",
       "0.40    5.487802e-03\n",
       "0.45    5.879314e-03\n",
       "0.50    6.263127e-03\n",
       "0.55    6.668695e-03\n",
       "0.60    7.106922e-03\n",
       "0.65    7.531821e-03\n",
       "0.70    8.011432e-03\n",
       "0.75    8.550827e-03\n",
       "0.80    9.220593e-03\n",
       "0.85    1.004208e-02\n",
       "0.90    1.115886e-02\n",
       "0.95    1.346182e-02\n",
       "dtype: float64"
      ]
     },
     "metadata": {},
     "output_type": "display_data"
    }
   ],
   "source": [
    "gene_corrs_quantiles = gene_corrs_flat.quantile(np.arange(0, 1, 0.05))\n",
    "display(gene_corrs_quantiles)"
   ]
  },
  {
   "cell_type": "markdown",
   "id": "87134509-b145-4a10-8bc9-b7e914c2b0fa",
   "metadata": {
    "papermill": {
     "duration": 1.097386,
     "end_time": "2022-08-27T06:26:02.855780",
     "exception": false,
     "start_time": "2022-08-27T06:26:01.758394",
     "status": "completed"
    },
    "tags": []
   },
   "source": [
    "## Positive definiteness"
   ]
  },
  {
   "cell_type": "code",
   "execution_count": 38,
   "id": "07d9a9a1-a4f7-48aa-b916-6d42a8cc6186",
   "metadata": {
    "execution": {
     "iopub.execute_input": "2022-08-27T06:26:05.100028Z",
     "iopub.status.busy": "2022-08-27T06:26:05.099786Z",
     "iopub.status.idle": "2022-08-27T06:26:05.130052Z",
     "shell.execute_reply": "2022-08-27T06:26:05.129658Z"
    },
    "papermill": {
     "duration": 1.1771,
     "end_time": "2022-08-27T06:26:05.131293",
     "exception": false,
     "start_time": "2022-08-27T06:26:03.954193",
     "status": "completed"
    },
    "tags": []
   },
   "outputs": [
    {
     "data": {
      "text/plain": [
       "0"
      ]
     },
     "metadata": {},
     "output_type": "display_data"
    },
    {
     "data": {
      "text/plain": [
       "array([], dtype=float64)"
      ]
     },
     "metadata": {},
     "output_type": "display_data"
    }
   ],
   "source": [
    "# print negative eigenvalues\n",
    "eigs = np.linalg.eigvals(gene_corrs_df.to_numpy())\n",
    "display(len(eigs[eigs < 0]))\n",
    "display(eigs[eigs < 0])"
   ]
  },
  {
   "cell_type": "code",
   "execution_count": 39,
   "id": "6e218436-c3c5-4028-8c94-a4fa6260efce",
   "metadata": {
    "execution": {
     "iopub.execute_input": "2022-08-27T06:26:07.297556Z",
     "iopub.status.busy": "2022-08-27T06:26:07.297308Z",
     "iopub.status.idle": "2022-08-27T06:26:07.320279Z",
     "shell.execute_reply": "2022-08-27T06:26:07.319851Z"
    },
    "papermill": {
     "duration": 1.104179,
     "end_time": "2022-08-27T06:26:07.321530",
     "exception": false,
     "start_time": "2022-08-27T06:26:06.217351",
     "status": "completed"
    },
    "tags": []
   },
   "outputs": [
    {
     "name": "stdout",
     "output_type": "stream",
     "text": [
      "Works!\n"
     ]
    }
   ],
   "source": [
    "try:\n",
    "    chol_mat = np.linalg.cholesky(gene_corrs_df.to_numpy())\n",
    "    cov_inv = np.linalg.inv(chol_mat)\n",
    "    print(\"Works!\")\n",
    "except Exception as e:\n",
    "    print(f\"Cholesky decomposition failed: {str(e)}\")"
   ]
  },
  {
   "cell_type": "code",
   "execution_count": 40,
   "id": "dd8827fb-faf9-4c7c-9454-015e94752706",
   "metadata": {
    "execution": {
     "iopub.execute_input": "2022-08-27T06:26:09.542631Z",
     "iopub.status.busy": "2022-08-27T06:26:09.542383Z",
     "iopub.status.idle": "2022-08-27T06:26:09.564474Z",
     "shell.execute_reply": "2022-08-27T06:26:09.564068Z"
    },
    "papermill": {
     "duration": 1.104316,
     "end_time": "2022-08-27T06:26:09.565673",
     "exception": false,
     "start_time": "2022-08-27T06:26:08.461357",
     "status": "completed"
    },
    "tags": []
   },
   "outputs": [
    {
     "name": "stdout",
     "output_type": "stream",
     "text": [
      "Works!\n"
     ]
    }
   ],
   "source": [
    "try:\n",
    "    # decomposition used by statsmodels.GLS\n",
    "    cholsigmainv = np.linalg.cholesky(np.linalg.inv(gene_corrs_df.to_numpy())).T\n",
    "    print(\"Works!\")\n",
    "except Exception as e:\n",
    "    print(f\"Cholesky decomposition failed (statsmodels.GLS): {str(e)}\")"
   ]
  },
  {
   "cell_type": "markdown",
   "id": "8e60a080-edb2-4e9c-b2ef-22961693200c",
   "metadata": {
    "papermill": {
     "duration": 1.141676,
     "end_time": "2022-08-27T06:26:11.787465",
     "exception": false,
     "start_time": "2022-08-27T06:26:10.645789",
     "status": "completed"
    },
    "tags": []
   },
   "source": [
    "## Plot: distribution"
   ]
  },
  {
   "cell_type": "code",
   "execution_count": 41,
   "id": "8301126b-a7d4-4744-9c7d-f0f86eb6f54c",
   "metadata": {
    "execution": {
     "iopub.execute_input": "2022-08-27T06:26:13.991137Z",
     "iopub.status.busy": "2022-08-27T06:26:13.990885Z",
     "iopub.status.idle": "2022-08-27T06:26:19.076939Z",
     "shell.execute_reply": "2022-08-27T06:26:19.076471Z"
    },
    "papermill": {
     "duration": 6.181223,
     "end_time": "2022-08-27T06:26:19.078438",
     "exception": false,
     "start_time": "2022-08-27T06:26:12.897215",
     "status": "completed"
    },
    "tags": []
   },
   "outputs": [
    {
     "data": {
      "image/png": "[encoded data removed]",
      "text/plain": [
       "<Figure size 504x504 with 1 Axes>"
      ]
     },
     "metadata": {
      "needs_background": "light"
     },
     "output_type": "display_data"
    }
   ],
   "source": [
    "with sns.plotting_context(\"paper\", font_scale=1.5):\n",
    "    g = sns.displot(gene_corrs_flat, kde=True, height=7)\n",
    "    g.ax.set_title(\n",
    "        f\"Distribution of gene correlation values in chromosome {CHROMOSOME}\"\n",
    "    )"
   ]
  },
  {
   "cell_type": "markdown",
   "id": "cbd52bca-d878-4a2f-b684-5c83aa3038d4",
   "metadata": {
    "papermill": {
     "duration": 1.102491,
     "end_time": "2022-08-27T06:26:21.315797",
     "exception": false,
     "start_time": "2022-08-27T06:26:20.213306",
     "status": "completed"
    },
    "tags": []
   },
   "source": [
    "## Plot: heatmap"
   ]
  },
  {
   "cell_type": "code",
   "execution_count": 42,
   "id": "d03fe63a-c7b2-4fb9-a53c-db362ce843c9",
   "metadata": {
    "execution": {
     "iopub.execute_input": "2022-08-27T06:26:23.545165Z",
     "iopub.status.busy": "2022-08-27T06:26:23.544922Z",
     "iopub.status.idle": "2022-08-27T06:26:23.566097Z",
     "shell.execute_reply": "2022-08-27T06:26:23.565694Z"
    },
    "papermill": {
     "duration": 1.11316,
     "end_time": "2022-08-27T06:26:23.567340",
     "exception": false,
     "start_time": "2022-08-27T06:26:22.454180",
     "status": "completed"
    },
    "tags": []
   },
   "outputs": [
    {
     "data": {
      "text/plain": [
       "'0.0 / 0.05'"
      ]
     },
     "metadata": {},
     "output_type": "display_data"
    }
   ],
   "source": [
    "vmin_val = min(0.00, gene_corrs_quantiles[0.10])\n",
    "vmax_val = max(0.05, gene_corrs_quantiles[0.90])\n",
    "display(f\"{vmin_val} / {vmax_val}\")"
   ]
  },
  {
   "cell_type": "code",
   "execution_count": 43,
   "id": "dc41b70b-5bcc-4d9e-9f33-a22c4a94dab5",
   "metadata": {
    "execution": {
     "iopub.execute_input": "2022-08-27T06:26:25.769465Z",
     "iopub.status.busy": "2022-08-27T06:26:25.769204Z",
     "iopub.status.idle": "2022-08-27T06:26:25.960194Z",
     "shell.execute_reply": "2022-08-27T06:26:25.959761Z"
    },
    "papermill": {
     "duration": 1.286444,
     "end_time": "2022-08-27T06:26:25.961642",
     "exception": false,
     "start_time": "2022-08-27T06:26:24.675198",
     "status": "completed"
    },
    "tags": []
   },
   "outputs": [
    {
     "data": {
      "text/plain": [
       "Text(0.5, 1.0, 'Gene correlations in chromosome 14')"
      ]
     },
     "execution_count": 43,
     "metadata": {},
     "output_type": "execute_result"
    },
    {
     "data": {
      "image/png": "[encoded data removed]",
      "text/plain": [
       "<Figure size 720x720 with 2 Axes>"
      ]
     },
     "metadata": {
      "needs_background": "light"
     },
     "output_type": "display_data"
    }
   ],
   "source": [
    "f, ax = plt.subplots(figsize=(10, 10))\n",
    "sns.heatmap(\n",
    "    gene_corrs_df,\n",
    "    xticklabels=False,\n",
    "    yticklabels=False,\n",
    "    square=True,\n",
    "    vmin=vmin_val,\n",
    "    vmax=vmax_val,\n",
    "    cmap=\"rocket_r\",\n",
    "    ax=ax,\n",
    ")\n",
    "ax.set_title(f\"Gene correlations in chromosome {CHROMOSOME}\")"
   ]
  },
  {
   "cell_type": "code",
   "execution_count": null,
   "id": "b25e3ead",
   "metadata": {
    "papermill": {
     "duration": 1.102155,
     "end_time": "2022-08-27T06:26:28.215307",
     "exception": false,
     "start_time": "2022-08-27T06:26:27.113152",
     "status": "completed"
    },
    "tags": []
   },
   "outputs": [],
   "source": []
  }
 ],
 "metadata": {
  "jupytext": {
   "cell_metadata_filter": "all,-execution,-papermill,-trusted",
   "formats": "ipynb,py//py:percent"
  },
  "kernelspec": {
   "display_name": "Python 3 (ipykernel)",
   "language": "python",
   "name": "python3"
  },
  "language_info": {
   "codemirror_mode": {
    "name": "ipython",
    "version": 3
   },
   "file_extension": ".py",
   "mimetype": "text/x-python",
   "name": "python",
   "nbconvert_exporter": "python",
   "pygments_lexer": "ipython3",
   "version": "3.8.13"
  },
  "papermill": {
   "default_parameters": {},
   "duration": 1515.882146,
   "end_time": "2022-08-27T06:26:32.880336",
   "environment_variables": {},
   "exception": null,
   "input_path": "nbs/15_gsa_gls/10-gene_expr_correlations.ipynb",
   "output_path": "nbs/15_gsa_gls/gene_corrs/cohorts/phenomexcan_astle/gtex_v8/mashr/10-gene_expr_corrs/10-gene_expr_correlations-chr14.run.ipynb",
   "parameters": {
    "CHROMOSOME": 14,
    "COHORT_NAME": "phenomexcan_astle",
    "EQTL_MODEL": "MASHR",
    "REFERENCE_PANEL": "GTEX_V8"
   },
   "start_time": "2022-08-27T06:01:16.998190",
   "version": "2.2.2"
  }
 },
 "nbformat": 4,
 "nbformat_minor": 5
}
