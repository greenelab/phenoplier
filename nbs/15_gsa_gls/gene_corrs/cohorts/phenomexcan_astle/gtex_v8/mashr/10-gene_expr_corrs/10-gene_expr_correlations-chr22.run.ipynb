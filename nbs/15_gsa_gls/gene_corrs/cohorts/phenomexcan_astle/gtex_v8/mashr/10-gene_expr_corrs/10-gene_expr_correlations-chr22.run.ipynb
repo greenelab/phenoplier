{
 "cells": [
  {
   "cell_type": "markdown",
   "id": "7a6632fb",
   "metadata": {
    "papermill": {
     "duration": 0.019763,
     "end_time": "2022-08-27T06:01:19.032661",
     "exception": false,
     "start_time": "2022-08-27T06:01:19.012898",
     "status": "completed"
    },
    "tags": []
   },
   "source": [
    "# Description"
   ]
  },
  {
   "cell_type": "markdown",
   "id": "7097c346",
   "metadata": {
    "papermill": {
     "duration": 0.014593,
     "end_time": "2022-08-27T06:01:19.062927",
     "exception": false,
     "start_time": "2022-08-27T06:01:19.048334",
     "status": "completed"
    },
    "tags": []
   },
   "source": [
    "(Please, take a look at the README.md file in this directory for instructions on how to run this notebook)\n",
    "\n",
    "This notebook computes predicted expression correlations between all genes in the MultiPLIER models.\n",
    "\n",
    "It also has a parameter set for papermill to run on a single chromosome to run in parallel (see under `Settings` below).\n",
    "\n",
    "This notebook is not directly run. See README.md."
   ]
  },
  {
   "cell_type": "markdown",
   "id": "c61d8427",
   "metadata": {
    "papermill": {
     "duration": 0.012899,
     "end_time": "2022-08-27T06:01:19.089397",
     "exception": false,
     "start_time": "2022-08-27T06:01:19.076498",
     "status": "completed"
    },
    "tags": []
   },
   "source": [
    "# Modules"
   ]
  },
  {
   "cell_type": "code",
   "execution_count": 1,
   "id": "bbc0234f",
   "metadata": {
    "execution": {
     "iopub.execute_input": "2022-08-27T06:01:19.118940Z",
     "iopub.status.busy": "2022-08-27T06:01:19.118557Z",
     "iopub.status.idle": "2022-08-27T06:01:19.143930Z",
     "shell.execute_reply": "2022-08-27T06:01:19.143235Z"
    },
    "papermill": {
     "duration": 0.044486,
     "end_time": "2022-08-27T06:01:19.146343",
     "exception": false,
     "start_time": "2022-08-27T06:01:19.101857",
     "status": "completed"
    },
    "tags": []
   },
   "outputs": [],
   "source": [
    "%load_ext autoreload\n",
    "%autoreload 2"
   ]
  },
  {
   "cell_type": "code",
   "execution_count": 2,
   "id": "1d5f5a59",
   "metadata": {
    "execution": {
     "iopub.execute_input": "2022-08-27T06:01:19.169617Z",
     "iopub.status.busy": "2022-08-27T06:01:19.169370Z",
     "iopub.status.idle": "2022-08-27T06:01:20.860440Z",
     "shell.execute_reply": "2022-08-27T06:01:20.859782Z"
    },
    "papermill": {
     "duration": 1.705144,
     "end_time": "2022-08-27T06:01:20.862409",
     "exception": false,
     "start_time": "2022-08-27T06:01:19.157265",
     "status": "completed"
    },
    "tags": []
   },
   "outputs": [],
   "source": [
    "from random import sample, seed\n",
    "import warnings\n",
    "from pathlib import Path\n",
    "import pickle\n",
    "import traceback\n",
    "\n",
    "import numpy as np\n",
    "from scipy.spatial.distance import squareform\n",
    "import pandas as pd\n",
    "from tqdm import tqdm\n",
    "import matplotlib.pyplot as plt\n",
    "import seaborn as sns\n",
    "\n",
    "import conf\n",
    "from entity import Gene"
   ]
  },
  {
   "cell_type": "markdown",
   "id": "1eac24b5",
   "metadata": {
    "papermill": {
     "duration": 0.008341,
     "end_time": "2022-08-27T06:01:20.912981",
     "exception": false,
     "start_time": "2022-08-27T06:01:20.904640",
     "status": "completed"
    },
    "tags": []
   },
   "source": [
    "# Settings"
   ]
  },
  {
   "cell_type": "code",
   "execution_count": 3,
   "id": "ca4560ba",
   "metadata": {
    "execution": {
     "iopub.execute_input": "2022-08-27T06:01:20.931006Z",
     "iopub.status.busy": "2022-08-27T06:01:20.930750Z",
     "iopub.status.idle": "2022-08-27T06:01:20.950692Z",
     "shell.execute_reply": "2022-08-27T06:01:20.950167Z"
    },
    "papermill": {
     "duration": 0.031196,
     "end_time": "2022-08-27T06:01:20.952313",
     "exception": false,
     "start_time": "2022-08-27T06:01:20.921117",
     "status": "completed"
    },
    "tags": [
     "parameters"
    ]
   },
   "outputs": [],
   "source": [
    "# a cohort name (it could be something like UK_BIOBANK, etc)\n",
    "COHORT_NAME = None\n",
    "\n",
    "# reference panel such as 1000G or GTEX_V8\n",
    "REFERENCE_PANEL = None\n",
    "\n",
    "# predictions models such as MASHR or ELASTIC_NET\n",
    "EQTL_MODEL = None\n",
    "\n",
    "# this is the default value used in S-MultiXcan to select the\n",
    "# top principal components of the expression correlation matrix\n",
    "SMULTIXCAN_CONDITION_NUMBER = 30\n",
    "\n",
    "# specifies a single chromosome value\n",
    "CHROMOSOME = None\n",
    "\n",
    "# If True, computes the correlation between closeby genes only;\n",
    "# otherwise, it computes correlations for all genes in a chromosome\n",
    "COMPUTE_CORRELATIONS_WITHIN_DISTANCE = False\n",
    "\n",
    "# if True, then it will continue if a gene pair correlation fails,\n",
    "# printing the warning/error for debugging. If False, any warning/error\n",
    "# will be thrown\n",
    "DEBUG_MODE = False"
   ]
  },
  {
   "cell_type": "code",
   "execution_count": 4,
   "id": "f3fa9334",
   "metadata": {
    "execution": {
     "iopub.execute_input": "2022-08-27T06:01:20.970069Z",
     "iopub.status.busy": "2022-08-27T06:01:20.969854Z",
     "iopub.status.idle": "2022-08-27T06:01:20.985976Z",
     "shell.execute_reply": "2022-08-27T06:01:20.985488Z"
    },
    "papermill": {
     "duration": 0.026988,
     "end_time": "2022-08-27T06:01:20.987571",
     "exception": false,
     "start_time": "2022-08-27T06:01:20.960583",
     "status": "completed"
    },
    "tags": [
     "injected-parameters"
    ]
   },
   "outputs": [],
   "source": [
    "# Parameters\n",
    "COHORT_NAME = \"phenomexcan_astle\"\n",
    "REFERENCE_PANEL = \"GTEX_V8\"\n",
    "EQTL_MODEL = \"MASHR\"\n",
    "CHROMOSOME = 22\n"
   ]
  },
  {
   "cell_type": "code",
   "execution_count": 5,
   "id": "3190631f-27fc-480f-b18e-571d580425a5",
   "metadata": {
    "execution": {
     "iopub.execute_input": "2022-08-27T06:01:21.007123Z",
     "iopub.status.busy": "2022-08-27T06:01:21.006905Z",
     "iopub.status.idle": "2022-08-27T06:01:21.026575Z",
     "shell.execute_reply": "2022-08-27T06:01:21.026065Z"
    },
    "papermill": {
     "duration": 0.031341,
     "end_time": "2022-08-27T06:01:21.028062",
     "exception": false,
     "start_time": "2022-08-27T06:01:20.996721",
     "status": "completed"
    },
    "tags": []
   },
   "outputs": [
    {
     "data": {
      "text/plain": [
       "'Cohort name: phenomexcan_astle'"
      ]
     },
     "metadata": {},
     "output_type": "display_data"
    }
   ],
   "source": [
    "assert COHORT_NAME is not None and len(COHORT_NAME) > 0, \"A cohort name must be given\"\n",
    "\n",
    "COHORT_NAME = COHORT_NAME.lower()\n",
    "display(f\"Cohort name: {COHORT_NAME}\")"
   ]
  },
  {
   "cell_type": "code",
   "execution_count": 6,
   "id": "f53ba19b-0f93-4fa2-a047-63b375939d1a",
   "metadata": {
    "execution": {
     "iopub.execute_input": "2022-08-27T06:01:21.055840Z",
     "iopub.status.busy": "2022-08-27T06:01:21.055649Z",
     "iopub.status.idle": "2022-08-27T06:01:21.074401Z",
     "shell.execute_reply": "2022-08-27T06:01:21.073841Z"
    },
    "papermill": {
     "duration": 0.031751,
     "end_time": "2022-08-27T06:01:21.075864",
     "exception": false,
     "start_time": "2022-08-27T06:01:21.044113",
     "status": "completed"
    },
    "tags": []
   },
   "outputs": [
    {
     "data": {
      "text/plain": [
       "'Reference panel: GTEX_V8'"
      ]
     },
     "metadata": {},
     "output_type": "display_data"
    }
   ],
   "source": [
    "assert (\n",
    "    REFERENCE_PANEL is not None and len(REFERENCE_PANEL) > 0\n",
    "), \"A reference panel must be given\"\n",
    "\n",
    "display(f\"Reference panel: {REFERENCE_PANEL}\")"
   ]
  },
  {
   "cell_type": "code",
   "execution_count": 7,
   "id": "e024d130-c139-429a-9c6e-ccf149e297b0",
   "metadata": {
    "execution": {
     "iopub.execute_input": "2022-08-27T06:01:21.121226Z",
     "iopub.status.busy": "2022-08-27T06:01:21.121009Z",
     "iopub.status.idle": "2022-08-27T06:01:21.140863Z",
     "shell.execute_reply": "2022-08-27T06:01:21.140325Z"
    },
    "papermill": {
     "duration": 0.034504,
     "end_time": "2022-08-27T06:01:21.142391",
     "exception": false,
     "start_time": "2022-08-27T06:01:21.107887",
     "status": "completed"
    },
    "tags": []
   },
   "outputs": [
    {
     "data": {
      "text/plain": [
       "'eQTL model: MASHR) / mashr_'"
      ]
     },
     "metadata": {},
     "output_type": "display_data"
    }
   ],
   "source": [
    "assert (\n",
    "    EQTL_MODEL is not None and len(EQTL_MODEL) > 0\n",
    "), \"A prediction/eQTL model must be given\"\n",
    "\n",
    "EQTL_MODEL_FILES_PREFIX = conf.PHENOMEXCAN[\"PREDICTION_MODELS\"][f\"{EQTL_MODEL}_PREFIX\"]\n",
    "display(f\"eQTL model: {EQTL_MODEL}) / {EQTL_MODEL_FILES_PREFIX}\")"
   ]
  },
  {
   "cell_type": "code",
   "execution_count": 8,
   "id": "552a7f63-a18c-4d3e-bb6a-94f99b431291",
   "metadata": {
    "execution": {
     "iopub.execute_input": "2022-08-27T06:01:21.191100Z",
     "iopub.status.busy": "2022-08-27T06:01:21.190873Z",
     "iopub.status.idle": "2022-08-27T06:01:21.210369Z",
     "shell.execute_reply": "2022-08-27T06:01:21.209771Z"
    },
    "papermill": {
     "duration": 0.033923,
     "end_time": "2022-08-27T06:01:21.211900",
     "exception": false,
     "start_time": "2022-08-27T06:01:21.177977",
     "status": "completed"
    },
    "tags": []
   },
   "outputs": [
    {
     "data": {
      "text/plain": [
       "'S-MultiXcan condition number: 30'"
      ]
     },
     "metadata": {},
     "output_type": "display_data"
    }
   ],
   "source": [
    "assert (\n",
    "    SMULTIXCAN_CONDITION_NUMBER is not None and SMULTIXCAN_CONDITION_NUMBER > 0\n",
    "), \"The S-MultiXcan condition number (positive integer) must be given\"\n",
    "\n",
    "display(f\"S-MultiXcan condition number: {SMULTIXCAN_CONDITION_NUMBER}\")"
   ]
  },
  {
   "cell_type": "code",
   "execution_count": 9,
   "id": "f34a336f-548e-4afe-8955-90eaea4f42c6",
   "metadata": {
    "execution": {
     "iopub.execute_input": "2022-08-27T06:01:21.236189Z",
     "iopub.status.busy": "2022-08-27T06:01:21.235968Z",
     "iopub.status.idle": "2022-08-27T06:01:21.254353Z",
     "shell.execute_reply": "2022-08-27T06:01:21.253815Z"
    },
    "papermill": {
     "duration": 0.031054,
     "end_time": "2022-08-27T06:01:21.255790",
     "exception": false,
     "start_time": "2022-08-27T06:01:21.224736",
     "status": "completed"
    },
    "tags": []
   },
   "outputs": [
    {
     "data": {
      "text/plain": [
       "'Working on chromosome 22'"
      ]
     },
     "metadata": {},
     "output_type": "display_data"
    }
   ],
   "source": [
    "assert CHROMOSOME is not None and (\n",
    "    1 <= CHROMOSOME <= 22\n",
    "), \"You have to select one chromosome (format: number between 1 and 22)\"\n",
    "\n",
    "# CHROMOSOME = str(CHROMOSOME)\n",
    "display(f\"Working on chromosome {CHROMOSOME}\")"
   ]
  },
  {
   "cell_type": "code",
   "execution_count": 10,
   "id": "ab8e96e8-06b5-4363-9dcd-dc4d78cc27f7",
   "metadata": {
    "execution": {
     "iopub.execute_input": "2022-08-27T06:01:21.291733Z",
     "iopub.status.busy": "2022-08-27T06:01:21.291546Z",
     "iopub.status.idle": "2022-08-27T06:01:21.309193Z",
     "shell.execute_reply": "2022-08-27T06:01:21.308669Z"
    },
    "papermill": {
     "duration": 0.031454,
     "end_time": "2022-08-27T06:01:21.310648",
     "exception": false,
     "start_time": "2022-08-27T06:01:21.279194",
     "status": "completed"
    },
    "tags": []
   },
   "outputs": [
    {
     "data": {
      "text/plain": [
       "'Compute correlation within distance False'"
      ]
     },
     "metadata": {},
     "output_type": "display_data"
    }
   ],
   "source": [
    "display(f\"Compute correlation within distance {COMPUTE_CORRELATIONS_WITHIN_DISTANCE}\")"
   ]
  },
  {
   "cell_type": "code",
   "execution_count": 11,
   "id": "396392dc-0340-4540-9b02-e182b833f909",
   "metadata": {
    "execution": {
     "iopub.execute_input": "2022-08-27T06:01:21.349306Z",
     "iopub.status.busy": "2022-08-27T06:01:21.349103Z",
     "iopub.status.idle": "2022-08-27T06:01:21.370201Z",
     "shell.execute_reply": "2022-08-27T06:01:21.369683Z"
    },
    "papermill": {
     "duration": 0.046714,
     "end_time": "2022-08-27T06:01:21.371688",
     "exception": false,
     "start_time": "2022-08-27T06:01:21.324974",
     "status": "completed"
    },
    "tags": []
   },
   "outputs": [
    {
     "data": {
      "text/plain": [
       "'Using output dir base: /project/ritchie20/projects/phenoplier/base/results/gls/gene_corrs/cohorts/phenomexcan_astle/gtex_v8/mashr'"
      ]
     },
     "metadata": {},
     "output_type": "display_data"
    }
   ],
   "source": [
    "OUTPUT_DIR_BASE = (\n",
    "    conf.RESULTS[\"GLS\"]\n",
    "    / \"gene_corrs\"\n",
    "    / \"cohorts\"\n",
    "    / COHORT_NAME\n",
    "    / REFERENCE_PANEL.lower()\n",
    "    / EQTL_MODEL.lower()\n",
    ")\n",
    "OUTPUT_DIR_BASE.mkdir(parents=True, exist_ok=True)\n",
    "\n",
    "display(f\"Using output dir base: {OUTPUT_DIR_BASE}\")"
   ]
  },
  {
   "cell_type": "markdown",
   "id": "d2ba085e",
   "metadata": {
    "papermill": {
     "duration": 0.02598,
     "end_time": "2022-08-27T06:01:21.407158",
     "exception": false,
     "start_time": "2022-08-27T06:01:21.381178",
     "status": "completed"
    },
    "tags": []
   },
   "source": [
    "# Load data"
   ]
  },
  {
   "cell_type": "markdown",
   "id": "7dcb8db7",
   "metadata": {
    "papermill": {
     "duration": 0.013545,
     "end_time": "2022-08-27T06:01:21.434514",
     "exception": false,
     "start_time": "2022-08-27T06:01:21.420969",
     "status": "completed"
    },
    "tags": []
   },
   "source": [
    "## GWAS variants"
   ]
  },
  {
   "cell_type": "code",
   "execution_count": 12,
   "id": "29434c4e-8cd3-4b9b-82e4-b5a251d9dd19",
   "metadata": {
    "execution": {
     "iopub.execute_input": "2022-08-27T06:01:21.468872Z",
     "iopub.status.busy": "2022-08-27T06:01:21.468668Z",
     "iopub.status.idle": "2022-08-27T06:01:25.241892Z",
     "shell.execute_reply": "2022-08-27T06:01:25.241066Z"
    },
    "papermill": {
     "duration": 3.794903,
     "end_time": "2022-08-27T06:01:25.243951",
     "exception": false,
     "start_time": "2022-08-27T06:01:21.449048",
     "status": "completed"
    },
    "tags": []
   },
   "outputs": [],
   "source": [
    "with open(OUTPUT_DIR_BASE / \"gwas_variant_ids.pkl\", \"rb\") as handle:\n",
    "    gwas_variants_ids_set = pickle.load(handle)"
   ]
  },
  {
   "cell_type": "code",
   "execution_count": 13,
   "id": "b9d9dec2-4a76-4bf9-bde2-e24c95acb8a0",
   "metadata": {
    "execution": {
     "iopub.execute_input": "2022-08-27T06:01:25.264645Z",
     "iopub.status.busy": "2022-08-27T06:01:25.264440Z",
     "iopub.status.idle": "2022-08-27T06:01:25.287661Z",
     "shell.execute_reply": "2022-08-27T06:01:25.287145Z"
    },
    "papermill": {
     "duration": 0.035323,
     "end_time": "2022-08-27T06:01:25.289135",
     "exception": false,
     "start_time": "2022-08-27T06:01:25.253812",
     "status": "completed"
    },
    "tags": []
   },
   "outputs": [
    {
     "data": {
      "text/plain": [
       "8871979"
      ]
     },
     "execution_count": 13,
     "metadata": {},
     "output_type": "execute_result"
    }
   ],
   "source": [
    "len(gwas_variants_ids_set)"
   ]
  },
  {
   "cell_type": "code",
   "execution_count": 14,
   "id": "4235b06a-6034-4ee4-a0a3-2ae35d122418",
   "metadata": {
    "execution": {
     "iopub.execute_input": "2022-08-27T06:01:25.309158Z",
     "iopub.status.busy": "2022-08-27T06:01:25.308938Z",
     "iopub.status.idle": "2022-08-27T06:01:25.974962Z",
     "shell.execute_reply": "2022-08-27T06:01:25.974426Z"
    },
    "papermill": {
     "duration": 0.677981,
     "end_time": "2022-08-27T06:01:25.976547",
     "exception": false,
     "start_time": "2022-08-27T06:01:25.298566",
     "status": "completed"
    },
    "tags": []
   },
   "outputs": [
    {
     "data": {
      "text/plain": [
       "['chr19_5215815_T_G_b38',\n",
       " 'chr9_109456548_G_A_b38',\n",
       " 'chr6_162662016_G_A_b38',\n",
       " 'chr21_23891295_T_C_b38',\n",
       " 'chr11_79675379_C_G_b38']"
      ]
     },
     "execution_count": 14,
     "metadata": {},
     "output_type": "execute_result"
    }
   ],
   "source": [
    "list(gwas_variants_ids_set)[:5]"
   ]
  },
  {
   "cell_type": "markdown",
   "id": "07866999-2305-41f9-a144-e69c9122c212",
   "metadata": {
    "papermill": {
     "duration": 0.009341,
     "end_time": "2022-08-27T06:01:25.997184",
     "exception": false,
     "start_time": "2022-08-27T06:01:25.987843",
     "status": "completed"
    },
    "tags": []
   },
   "source": [
    "## S-PrediXcan tissue models"
   ]
  },
  {
   "cell_type": "code",
   "execution_count": 15,
   "id": "780611d9-77c8-405f-90a4-f271f7b09397",
   "metadata": {
    "execution": {
     "iopub.execute_input": "2022-08-27T06:01:26.019251Z",
     "iopub.status.busy": "2022-08-27T06:01:26.019045Z",
     "iopub.status.idle": "2022-08-27T06:01:26.917517Z",
     "shell.execute_reply": "2022-08-27T06:01:26.916894Z"
    },
    "papermill": {
     "duration": 0.911215,
     "end_time": "2022-08-27T06:01:26.919464",
     "exception": false,
     "start_time": "2022-08-27T06:01:26.008249",
     "status": "completed"
    },
    "tags": []
   },
   "outputs": [],
   "source": [
    "spredixcan_genes_models = pd.read_pickle(OUTPUT_DIR_BASE / \"gene_tissues.pkl\")"
   ]
  },
  {
   "cell_type": "code",
   "execution_count": 16,
   "id": "726dd1f6-9557-4225-91fa-b3b879ea96e1",
   "metadata": {
    "execution": {
     "iopub.execute_input": "2022-08-27T06:01:26.952139Z",
     "iopub.status.busy": "2022-08-27T06:01:26.951915Z",
     "iopub.status.idle": "2022-08-27T06:01:26.972405Z",
     "shell.execute_reply": "2022-08-27T06:01:26.971855Z"
    },
    "papermill": {
     "duration": 0.038315,
     "end_time": "2022-08-27T06:01:26.973881",
     "exception": false,
     "start_time": "2022-08-27T06:01:26.935566",
     "status": "completed"
    },
    "tags": []
   },
   "outputs": [
    {
     "data": {
      "text/plain": [
       "(6450, 3)"
      ]
     },
     "execution_count": 16,
     "metadata": {},
     "output_type": "execute_result"
    }
   ],
   "source": [
    "spredixcan_genes_models.shape"
   ]
  },
  {
   "cell_type": "code",
   "execution_count": 17,
   "id": "944a1b48-222c-4eb0-b252-b9de2cbca215",
   "metadata": {
    "execution": {
     "iopub.execute_input": "2022-08-27T06:01:27.005198Z",
     "iopub.status.busy": "2022-08-27T06:01:27.004975Z",
     "iopub.status.idle": "2022-08-27T06:01:27.034213Z",
     "shell.execute_reply": "2022-08-27T06:01:27.033681Z"
    },
    "papermill": {
     "duration": 0.044697,
     "end_time": "2022-08-27T06:01:27.035682",
     "exception": false,
     "start_time": "2022-08-27T06:01:26.990985",
     "status": "completed"
    },
    "tags": []
   },
   "outputs": [
    {
     "data": {
      "text/html": [
       "<div>\n",
       "<style scoped>\n",
       "    .dataframe tbody tr th:only-of-type {\n",
       "        vertical-align: middle;\n",
       "    }\n",
       "\n",
       "    .dataframe tbody tr th {\n",
       "        vertical-align: top;\n",
       "    }\n",
       "\n",
       "    .dataframe thead th {\n",
       "        text-align: right;\n",
       "    }\n",
       "</style>\n",
       "<table border=\"1\" class=\"dataframe\">\n",
       "  <thead>\n",
       "    <tr style=\"text-align: right;\">\n",
       "      <th></th>\n",
       "      <th>gene_name</th>\n",
       "      <th>tissue</th>\n",
       "      <th>n_tissues</th>\n",
       "    </tr>\n",
       "    <tr>\n",
       "      <th>gene_id</th>\n",
       "      <th></th>\n",
       "      <th></th>\n",
       "      <th></th>\n",
       "    </tr>\n",
       "  </thead>\n",
       "  <tbody>\n",
       "    <tr>\n",
       "      <th>ENSG00000000419</th>\n",
       "      <td>DPM1</td>\n",
       "      <td>(Brain_Substantia_nigra, Cells_Cultured_fibrob...</td>\n",
       "      <td>3</td>\n",
       "    </tr>\n",
       "    <tr>\n",
       "      <th>ENSG00000000938</th>\n",
       "      <td>FGR</td>\n",
       "      <td>(Adipose_Subcutaneous, Cells_EBV-transformed_l...</td>\n",
       "      <td>36</td>\n",
       "    </tr>\n",
       "    <tr>\n",
       "      <th>ENSG00000000971</th>\n",
       "      <td>CFH</td>\n",
       "      <td>(Artery_Aorta, Artery_Coronary, Skin_Sun_Expos...</td>\n",
       "      <td>34</td>\n",
       "    </tr>\n",
       "    <tr>\n",
       "      <th>ENSG00000001084</th>\n",
       "      <td>GCLC</td>\n",
       "      <td>(Adipose_Subcutaneous, Cells_EBV-transformed_l...</td>\n",
       "      <td>33</td>\n",
       "    </tr>\n",
       "    <tr>\n",
       "      <th>ENSG00000001167</th>\n",
       "      <td>NFYA</td>\n",
       "      <td>(Adipose_Subcutaneous, Artery_Aorta, Artery_Co...</td>\n",
       "      <td>40</td>\n",
       "    </tr>\n",
       "  </tbody>\n",
       "</table>\n",
       "</div>"
      ],
      "text/plain": [
       "                gene_name                                             tissue  \\\n",
       "gene_id                                                                        \n",
       "ENSG00000000419      DPM1  (Brain_Substantia_nigra, Cells_Cultured_fibrob...   \n",
       "ENSG00000000938       FGR  (Adipose_Subcutaneous, Cells_EBV-transformed_l...   \n",
       "ENSG00000000971       CFH  (Artery_Aorta, Artery_Coronary, Skin_Sun_Expos...   \n",
       "ENSG00000001084      GCLC  (Adipose_Subcutaneous, Cells_EBV-transformed_l...   \n",
       "ENSG00000001167      NFYA  (Adipose_Subcutaneous, Artery_Aorta, Artery_Co...   \n",
       "\n",
       "                 n_tissues  \n",
       "gene_id                     \n",
       "ENSG00000000419          3  \n",
       "ENSG00000000938         36  \n",
       "ENSG00000000971         34  \n",
       "ENSG00000001084         33  \n",
       "ENSG00000001167         40  "
      ]
     },
     "execution_count": 17,
     "metadata": {},
     "output_type": "execute_result"
    }
   ],
   "source": [
    "spredixcan_genes_models.head()"
   ]
  },
  {
   "cell_type": "code",
   "execution_count": 18,
   "id": "d1c11bb1-be0b-4f40-b360-633d6827109f",
   "metadata": {
    "execution": {
     "iopub.execute_input": "2022-08-27T06:01:27.065630Z",
     "iopub.status.busy": "2022-08-27T06:01:27.065434Z",
     "iopub.status.idle": "2022-08-27T06:01:27.082407Z",
     "shell.execute_reply": "2022-08-27T06:01:27.081868Z"
    },
    "papermill": {
     "duration": 0.028924,
     "end_time": "2022-08-27T06:01:27.083937",
     "exception": false,
     "start_time": "2022-08-27T06:01:27.055013",
     "status": "completed"
    },
    "tags": []
   },
   "outputs": [],
   "source": [
    "assert spredixcan_genes_models.index.is_unique"
   ]
  },
  {
   "cell_type": "markdown",
   "id": "a5b5092c-a13e-47c4-a92a-480fcc08f3ae",
   "metadata": {
    "papermill": {
     "duration": 0.012428,
     "end_time": "2022-08-27T06:01:27.105959",
     "exception": false,
     "start_time": "2022-08-27T06:01:27.093531",
     "status": "completed"
    },
    "tags": []
   },
   "source": [
    "## Gene info"
   ]
  },
  {
   "cell_type": "code",
   "execution_count": 19,
   "id": "7d6bb224-88e9-4358-ac10-43a41d92cdad",
   "metadata": {
    "execution": {
     "iopub.execute_input": "2022-08-27T06:01:27.129419Z",
     "iopub.status.busy": "2022-08-27T06:01:27.129189Z",
     "iopub.status.idle": "2022-08-27T06:01:27.152552Z",
     "shell.execute_reply": "2022-08-27T06:01:27.152006Z"
    },
    "papermill": {
     "duration": 0.036354,
     "end_time": "2022-08-27T06:01:27.154166",
     "exception": false,
     "start_time": "2022-08-27T06:01:27.117812",
     "status": "completed"
    },
    "tags": []
   },
   "outputs": [],
   "source": [
    "genes_info = pd.read_pickle(OUTPUT_DIR_BASE / \"genes_info.pkl\")"
   ]
  },
  {
   "cell_type": "code",
   "execution_count": 20,
   "id": "9e32abfa-546d-483e-8c18-d526e9e05903",
   "metadata": {
    "execution": {
     "iopub.execute_input": "2022-08-27T06:01:27.174567Z",
     "iopub.status.busy": "2022-08-27T06:01:27.174341Z",
     "iopub.status.idle": "2022-08-27T06:01:27.192084Z",
     "shell.execute_reply": "2022-08-27T06:01:27.191575Z"
    },
    "papermill": {
     "duration": 0.029717,
     "end_time": "2022-08-27T06:01:27.193545",
     "exception": false,
     "start_time": "2022-08-27T06:01:27.163828",
     "status": "completed"
    },
    "tags": []
   },
   "outputs": [
    {
     "data": {
      "text/plain": [
       "(6450, 7)"
      ]
     },
     "execution_count": 20,
     "metadata": {},
     "output_type": "execute_result"
    }
   ],
   "source": [
    "genes_info.shape"
   ]
  },
  {
   "cell_type": "code",
   "execution_count": 21,
   "id": "d16c3e92-85ec-468a-9a56-e25a9774a1cb",
   "metadata": {
    "execution": {
     "iopub.execute_input": "2022-08-27T06:01:27.217357Z",
     "iopub.status.busy": "2022-08-27T06:01:27.217137Z",
     "iopub.status.idle": "2022-08-27T06:01:27.239654Z",
     "shell.execute_reply": "2022-08-27T06:01:27.239141Z"
    },
    "papermill": {
     "duration": 0.035795,
     "end_time": "2022-08-27T06:01:27.241124",
     "exception": false,
     "start_time": "2022-08-27T06:01:27.205329",
     "status": "completed"
    },
    "tags": []
   },
   "outputs": [
    {
     "data": {
      "text/html": [
       "<div>\n",
       "<style scoped>\n",
       "    .dataframe tbody tr th:only-of-type {\n",
       "        vertical-align: middle;\n",
       "    }\n",
       "\n",
       "    .dataframe tbody tr th {\n",
       "        vertical-align: top;\n",
       "    }\n",
       "\n",
       "    .dataframe thead th {\n",
       "        text-align: right;\n",
       "    }\n",
       "</style>\n",
       "<table border=\"1\" class=\"dataframe\">\n",
       "  <thead>\n",
       "    <tr style=\"text-align: right;\">\n",
       "      <th></th>\n",
       "      <th>name</th>\n",
       "      <th>id</th>\n",
       "      <th>chr</th>\n",
       "      <th>band</th>\n",
       "      <th>start_position</th>\n",
       "      <th>end_position</th>\n",
       "      <th>gene_length</th>\n",
       "    </tr>\n",
       "  </thead>\n",
       "  <tbody>\n",
       "    <tr>\n",
       "      <th>0</th>\n",
       "      <td>FBXO34</td>\n",
       "      <td>ENSG00000178974</td>\n",
       "      <td>14</td>\n",
       "      <td>14q22.3</td>\n",
       "      <td>55271421</td>\n",
       "      <td>55361918</td>\n",
       "      <td>90497</td>\n",
       "    </tr>\n",
       "    <tr>\n",
       "      <th>1</th>\n",
       "      <td>ARG1</td>\n",
       "      <td>ENSG00000118520</td>\n",
       "      <td>6</td>\n",
       "      <td>6q23.2</td>\n",
       "      <td>131573144</td>\n",
       "      <td>131584332</td>\n",
       "      <td>11188</td>\n",
       "    </tr>\n",
       "    <tr>\n",
       "      <th>2</th>\n",
       "      <td>FADS2</td>\n",
       "      <td>ENSG00000134824</td>\n",
       "      <td>11</td>\n",
       "      <td>11q12.2</td>\n",
       "      <td>61792980</td>\n",
       "      <td>61867354</td>\n",
       "      <td>74374</td>\n",
       "    </tr>\n",
       "    <tr>\n",
       "      <th>3</th>\n",
       "      <td>CA4</td>\n",
       "      <td>ENSG00000167434</td>\n",
       "      <td>17</td>\n",
       "      <td>17q23.1</td>\n",
       "      <td>60149942</td>\n",
       "      <td>60170899</td>\n",
       "      <td>20957</td>\n",
       "    </tr>\n",
       "    <tr>\n",
       "      <th>4</th>\n",
       "      <td>PFKFB3</td>\n",
       "      <td>ENSG00000170525</td>\n",
       "      <td>10</td>\n",
       "      <td>10p15.1</td>\n",
       "      <td>6144934</td>\n",
       "      <td>6254644</td>\n",
       "      <td>109710</td>\n",
       "    </tr>\n",
       "  </tbody>\n",
       "</table>\n",
       "</div>"
      ],
      "text/plain": [
       "     name               id  chr     band  start_position  end_position  \\\n",
       "0  FBXO34  ENSG00000178974   14  14q22.3        55271421      55361918   \n",
       "1    ARG1  ENSG00000118520    6   6q23.2       131573144     131584332   \n",
       "2   FADS2  ENSG00000134824   11  11q12.2        61792980      61867354   \n",
       "3     CA4  ENSG00000167434   17  17q23.1        60149942      60170899   \n",
       "4  PFKFB3  ENSG00000170525   10  10p15.1         6144934       6254644   \n",
       "\n",
       "   gene_length  \n",
       "0        90497  \n",
       "1        11188  \n",
       "2        74374  \n",
       "3        20957  \n",
       "4       109710  "
      ]
     },
     "execution_count": 21,
     "metadata": {},
     "output_type": "execute_result"
    }
   ],
   "source": [
    "genes_info.head()"
   ]
  },
  {
   "cell_type": "markdown",
   "id": "d3843e06",
   "metadata": {
    "papermill": {
     "duration": 0.009735,
     "end_time": "2022-08-27T06:01:27.261138",
     "exception": false,
     "start_time": "2022-08-27T06:01:27.251403",
     "status": "completed"
    },
    "tags": []
   },
   "source": [
    "# Compute correlations"
   ]
  },
  {
   "cell_type": "code",
   "execution_count": 22,
   "id": "cb859c15-d1f3-4006-a74c-2b83c0db9611",
   "metadata": {
    "execution": {
     "iopub.execute_input": "2022-08-27T06:01:27.287236Z",
     "iopub.status.busy": "2022-08-27T06:01:27.287015Z",
     "iopub.status.idle": "2022-08-27T06:01:27.305785Z",
     "shell.execute_reply": "2022-08-27T06:01:27.305280Z"
    },
    "papermill": {
     "duration": 0.034225,
     "end_time": "2022-08-27T06:01:27.307263",
     "exception": false,
     "start_time": "2022-08-27T06:01:27.273038",
     "status": "completed"
    },
    "tags": []
   },
   "outputs": [
    {
     "data": {
      "text/plain": [
       "PosixPath('/project/ritchie20/projects/phenoplier/base/results/gls/gene_corrs/cohorts/phenomexcan_astle/gtex_v8/mashr/by_chr/gene_corrs-chr22.pkl')"
      ]
     },
     "metadata": {},
     "output_type": "display_data"
    }
   ],
   "source": [
    "output_dir = OUTPUT_DIR_BASE / \"by_chr\"\n",
    "output_dir.mkdir(exist_ok=True, parents=True)\n",
    "output_file = output_dir / f\"gene_corrs-chr{CHROMOSOME}.pkl\"\n",
    "display(output_file)"
   ]
  },
  {
   "cell_type": "code",
   "execution_count": 23,
   "id": "aa674fe4-6794-4eed-98fa-32b39d1d4ace",
   "metadata": {
    "execution": {
     "iopub.execute_input": "2022-08-27T06:01:27.329599Z",
     "iopub.status.busy": "2022-08-27T06:01:27.329410Z",
     "iopub.status.idle": "2022-08-27T06:01:27.345224Z",
     "shell.execute_reply": "2022-08-27T06:01:27.344709Z"
    },
    "papermill": {
     "duration": 0.028473,
     "end_time": "2022-08-27T06:01:27.346771",
     "exception": false,
     "start_time": "2022-08-27T06:01:27.318298",
     "status": "completed"
    },
    "tags": []
   },
   "outputs": [],
   "source": [
    "warnings.filterwarnings(\"error\")"
   ]
  },
  {
   "cell_type": "code",
   "execution_count": 24,
   "id": "44d5450b-3baf-43f1-9e2e-4b06f1a785f8",
   "metadata": {
    "execution": {
     "iopub.execute_input": "2022-08-27T06:01:27.377044Z",
     "iopub.status.busy": "2022-08-27T06:01:27.376835Z",
     "iopub.status.idle": "2022-08-27T06:01:27.393408Z",
     "shell.execute_reply": "2022-08-27T06:01:27.392876Z"
    },
    "papermill": {
     "duration": 0.033763,
     "end_time": "2022-08-27T06:01:27.394942",
     "exception": false,
     "start_time": "2022-08-27T06:01:27.361179",
     "status": "completed"
    },
    "tags": []
   },
   "outputs": [],
   "source": [
    "# standard checks\n",
    "all_chrs = genes_info[\"chr\"].dropna().unique()\n",
    "assert all_chrs.shape[0] == 22\n",
    "\n",
    "# select chromosome given by the user\n",
    "assert CHROMOSOME in all_chrs"
   ]
  },
  {
   "cell_type": "code",
   "execution_count": 25,
   "id": "2d7c043c-92a7-4d35-991b-fa69ac1e0268",
   "metadata": {
    "execution": {
     "iopub.execute_input": "2022-08-27T06:01:27.424068Z",
     "iopub.status.busy": "2022-08-27T06:01:27.423857Z",
     "iopub.status.idle": "2022-08-27T06:01:27.480944Z",
     "shell.execute_reply": "2022-08-27T06:01:27.480438Z"
    },
    "papermill": {
     "duration": 0.074679,
     "end_time": "2022-08-27T06:01:27.482557",
     "exception": false,
     "start_time": "2022-08-27T06:01:27.407878",
     "status": "completed"
    },
    "tags": []
   },
   "outputs": [
    {
     "name": "stdout",
     "output_type": "stream",
     "text": [
      "Number of genes in chromosome: 170\n"
     ]
    }
   ],
   "source": [
    "# run only on the chromosome specified\n",
    "all_chrs = [CHROMOSOME]\n",
    "genes_chr = genes_info[genes_info[\"chr\"] == CHROMOSOME]\n",
    "\n",
    "# For testing purposes\n",
    "# genes_chr = genes_chr.sample(n=20)\n",
    "\n",
    "print(f\"Number of genes in chromosome: {genes_chr.shape[0]}\", flush=True)"
   ]
  },
  {
   "cell_type": "code",
   "execution_count": 26,
   "id": "916015d8-2979-46d3-a9b9-1cf5a0932c6a",
   "metadata": {
    "execution": {
     "iopub.execute_input": "2022-08-27T06:01:27.517828Z",
     "iopub.status.busy": "2022-08-27T06:01:27.517640Z",
     "iopub.status.idle": "2022-08-27T06:01:27.534003Z",
     "shell.execute_reply": "2022-08-27T06:01:27.533507Z"
    },
    "papermill": {
     "duration": 0.031812,
     "end_time": "2022-08-27T06:01:27.535593",
     "exception": false,
     "start_time": "2022-08-27T06:01:27.503781",
     "status": "completed"
    },
    "tags": []
   },
   "outputs": [],
   "source": [
    "# sort genes by starting position to make visualizations better later\n",
    "genes_chr = genes_chr.sort_values(\"start_position\")"
   ]
  },
  {
   "cell_type": "code",
   "execution_count": 27,
   "id": "a38aa74a-8ad3-47f6-8ef9-56be0e011774",
   "metadata": {
    "execution": {
     "iopub.execute_input": "2022-08-27T06:01:27.568958Z",
     "iopub.status.busy": "2022-08-27T06:01:27.568770Z",
     "iopub.status.idle": "2022-08-27T06:01:27.585303Z",
     "shell.execute_reply": "2022-08-27T06:01:27.584774Z"
    },
    "papermill": {
     "duration": 0.035588,
     "end_time": "2022-08-27T06:01:27.586864",
     "exception": false,
     "start_time": "2022-08-27T06:01:27.551276",
     "status": "completed"
    },
    "tags": []
   },
   "outputs": [],
   "source": [
    "gene_chr_objs = [Gene(ensembl_id=gene_id) for gene_id in genes_chr[\"id\"]]"
   ]
  },
  {
   "cell_type": "code",
   "execution_count": 28,
   "id": "570f974f-13c3-42b6-ad3a-ce99ca885c1a",
   "metadata": {
    "execution": {
     "iopub.execute_input": "2022-08-27T06:01:27.612295Z",
     "iopub.status.busy": "2022-08-27T06:01:27.612095Z",
     "iopub.status.idle": "2022-08-27T06:01:27.629770Z",
     "shell.execute_reply": "2022-08-27T06:01:27.629256Z"
    },
    "papermill": {
     "duration": 0.033869,
     "end_time": "2022-08-27T06:01:27.631384",
     "exception": false,
     "start_time": "2022-08-27T06:01:27.597515",
     "status": "completed"
    },
    "tags": []
   },
   "outputs": [
    {
     "name": "stdout",
     "output_type": "stream",
     "text": [
      "Number of gene combinations: 14365\n"
     ]
    }
   ],
   "source": [
    "n = len(gene_chr_objs)\n",
    "n_comb = int(n * (n - 1) / 2.0)\n",
    "print(f\"Number of gene combinations: {n_comb}\", flush=True)"
   ]
  },
  {
   "cell_type": "code",
   "execution_count": 29,
   "id": "cdbb90a1",
   "metadata": {
    "execution": {
     "iopub.execute_input": "2022-08-27T06:01:27.656358Z",
     "iopub.status.busy": "2022-08-27T06:01:27.656143Z",
     "iopub.status.idle": "2022-08-27T06:26:44.352072Z",
     "shell.execute_reply": "2022-08-27T06:26:44.350979Z"
    },
    "papermill": {
     "duration": 1516.709697,
     "end_time": "2022-08-27T06:26:44.354720",
     "exception": false,
     "start_time": "2022-08-27T06:01:27.645023",
     "status": "completed"
    },
    "tags": []
   },
   "outputs": [
    {
     "name": "stderr",
     "output_type": "stream",
     "text": [
      "ENSG00000251322 / ENSG00000251322: : 14535it [25:16,  9.58it/s]\n"
     ]
    },
    {
     "data": {
      "text/plain": [
       "PosixPath('/project/ritchie20/projects/phenoplier/base/results/gls/gene_corrs/cohorts/phenomexcan_astle/gtex_v8/mashr/by_chr/gene_corrs-chr22.pkl')"
      ]
     },
     "metadata": {},
     "output_type": "display_data"
    }
   ],
   "source": [
    "gene_corrs = []\n",
    "gene_corrs_data = np.full(\n",
    "    (n, n),\n",
    "    np.nan,\n",
    "    dtype=np.float64,\n",
    ")\n",
    "\n",
    "i = 0\n",
    "with tqdm(ncols=100, total=n_comb) as pbar:\n",
    "    for gene1_idx in range(0, len(gene_chr_objs)):\n",
    "        gene1_obj = gene_chr_objs[gene1_idx]\n",
    "        gene1_tissues = spredixcan_genes_models.loc[gene1_obj.ensembl_id, \"tissue\"]\n",
    "\n",
    "        for gene2_idx in range(gene1_idx, len(gene_chr_objs)):\n",
    "            gene2_obj = gene_chr_objs[gene2_idx]\n",
    "            gene2_tissues = spredixcan_genes_models.loc[gene2_obj.ensembl_id, \"tissue\"]\n",
    "\n",
    "            pbar.set_description(f\"{gene1_obj.ensembl_id} / {gene2_obj.ensembl_id}\")\n",
    "\n",
    "            try:\n",
    "                r = gene1_obj.get_ssm_correlation(\n",
    "                    other_gene=gene2_obj,\n",
    "                    tissues=gene1_tissues,\n",
    "                    other_tissues=gene2_tissues,\n",
    "                    snps_subset=gwas_variants_ids_set,\n",
    "                    condition_number=SMULTIXCAN_CONDITION_NUMBER,\n",
    "                    reference_panel=REFERENCE_PANEL,\n",
    "                    model_type=EQTL_MODEL,\n",
    "                    use_within_distance=COMPUTE_CORRELATIONS_WITHIN_DISTANCE,\n",
    "                )\n",
    "\n",
    "                if r is None:\n",
    "                    # if r is None, it's very likely because:\n",
    "                    #  * one of the genes has no prediction models\n",
    "                    #  * all the SNPs predictors for the gene are not present in the reference\n",
    "                    #    panel\n",
    "\n",
    "                    r = 0.0\n",
    "\n",
    "                gene_corrs.append(r)\n",
    "\n",
    "                gene_corrs_data[gene1_idx, gene2_idx] = r\n",
    "                gene_corrs_data[gene2_idx, gene1_idx] = r\n",
    "            except Warning as e:\n",
    "                if not DEBUG_MODE:\n",
    "                    raise e\n",
    "\n",
    "                print(\n",
    "                    f\"RuntimeWarning for genes {gene1_obj.ensembl_id} and {gene2_obj.ensembl_id}\",\n",
    "                    flush=True,\n",
    "                )\n",
    "                print(traceback.format_exc(), flush=True)\n",
    "\n",
    "                gene_corrs.append(np.nan)\n",
    "            except Exception as e:\n",
    "                if not DEBUG_MODE:\n",
    "                    raise e\n",
    "\n",
    "                print(\n",
    "                    f\"Exception for genes {gene1_obj.ensembl_id} and {gene2_obj.ensembl_id}\",\n",
    "                    flush=True,\n",
    "                )\n",
    "                print(traceback.format_exc(), flush=True)\n",
    "\n",
    "                gene_corrs.append(np.nan)\n",
    "\n",
    "            pbar.update(1)\n",
    "\n",
    "# create a pandas series\n",
    "gene_corrs_flat = pd.Series(gene_corrs)\n",
    "\n",
    "# save\n",
    "# FIXME: consider saving only the condenced matrix here. See here for\n",
    "# more details: https://github.com/greenelab/phenoplier/pull/38#discussion_r634600813\n",
    "# gene_corrs_data = squareform(np.array(gene_corrs, dtype=np.float64))\n",
    "# np.fill_diagonal(gene_corrs_data, 1.0)\n",
    "\n",
    "gene_chr_ids = [g.ensembl_id for g in gene_chr_objs]\n",
    "gene_corrs_df = pd.DataFrame(\n",
    "    data=gene_corrs_data,\n",
    "    index=gene_chr_ids,\n",
    "    columns=gene_chr_ids,\n",
    ")\n",
    "\n",
    "output_dir.mkdir(exist_ok=True, parents=True)\n",
    "display(output_file)\n",
    "\n",
    "gene_corrs_df.to_pickle(output_file)"
   ]
  },
  {
   "cell_type": "markdown",
   "id": "faa67b51-5373-470f-aa72-2ded53fa6dfe",
   "metadata": {
    "papermill": {
     "duration": 0.91039,
     "end_time": "2022-08-27T06:26:46.229400",
     "exception": false,
     "start_time": "2022-08-27T06:26:45.319010",
     "status": "completed"
    },
    "tags": []
   },
   "source": [
    "# Testing"
   ]
  },
  {
   "cell_type": "code",
   "execution_count": 30,
   "id": "14f7d046-4b55-4896-a56b-990127bcc388",
   "metadata": {
    "execution": {
     "iopub.execute_input": "2022-08-27T06:26:48.146954Z",
     "iopub.status.busy": "2022-08-27T06:26:48.146687Z",
     "iopub.status.idle": "2022-08-27T06:26:48.389935Z",
     "shell.execute_reply": "2022-08-27T06:26:48.389439Z"
    },
    "papermill": {
     "duration": 1.183861,
     "end_time": "2022-08-27T06:26:48.391355",
     "exception": false,
     "start_time": "2022-08-27T06:26:47.207494",
     "status": "completed"
    },
    "tags": []
   },
   "outputs": [
    {
     "data": {
      "text/plain": [
       "(170, 170)"
      ]
     },
     "execution_count": 30,
     "metadata": {},
     "output_type": "execute_result"
    }
   ],
   "source": [
    "gene_corrs_df.shape"
   ]
  },
  {
   "cell_type": "code",
   "execution_count": 31,
   "id": "c7d15414-3297-4537-a7c6-7588c0baeb75",
   "metadata": {
    "execution": {
     "iopub.execute_input": "2022-08-27T06:26:50.272398Z",
     "iopub.status.busy": "2022-08-27T06:26:50.272115Z",
     "iopub.status.idle": "2022-08-27T06:26:50.307898Z",
     "shell.execute_reply": "2022-08-27T06:26:50.307381Z"
    },
    "papermill": {
     "duration": 1.012397,
     "end_time": "2022-08-27T06:26:50.309492",
     "exception": false,
     "start_time": "2022-08-27T06:26:49.297095",
     "status": "completed"
    },
    "tags": []
   },
   "outputs": [
    {
     "data": {
      "text/html": [
       "<div>\n",
       "<style scoped>\n",
       "    .dataframe tbody tr th:only-of-type {\n",
       "        vertical-align: middle;\n",
       "    }\n",
       "\n",
       "    .dataframe tbody tr th {\n",
       "        vertical-align: top;\n",
       "    }\n",
       "\n",
       "    .dataframe thead th {\n",
       "        text-align: right;\n",
       "    }\n",
       "</style>\n",
       "<table border=\"1\" class=\"dataframe\">\n",
       "  <thead>\n",
       "    <tr style=\"text-align: right;\">\n",
       "      <th></th>\n",
       "      <th>ENSG00000177663</th>\n",
       "      <th>ENSG00000131100</th>\n",
       "      <th>ENSG00000099968</th>\n",
       "      <th>ENSG00000015475</th>\n",
       "      <th>ENSG00000243156</th>\n",
       "      <th>ENSG00000215193</th>\n",
       "      <th>ENSG00000183785</th>\n",
       "      <th>ENSG00000184979</th>\n",
       "      <th>ENSG00000100033</th>\n",
       "      <th>ENSG00000100075</th>\n",
       "      <th>...</th>\n",
       "      <th>ENSG00000196576</th>\n",
       "      <th>ENSG00000128165</th>\n",
       "      <th>ENSG00000100253</th>\n",
       "      <th>ENSG00000130489</th>\n",
       "      <th>ENSG00000025708</th>\n",
       "      <th>ENSG00000205560</th>\n",
       "      <th>ENSG00000100288</th>\n",
       "      <th>ENSG00000008735</th>\n",
       "      <th>ENSG00000100299</th>\n",
       "      <th>ENSG00000251322</th>\n",
       "    </tr>\n",
       "  </thead>\n",
       "  <tbody>\n",
       "    <tr>\n",
       "      <th>ENSG00000177663</th>\n",
       "      <td>1.000000</td>\n",
       "      <td>0.002467</td>\n",
       "      <td>0.005414</td>\n",
       "      <td>0.007105</td>\n",
       "      <td>0.006540</td>\n",
       "      <td>0.009564</td>\n",
       "      <td>0.010262</td>\n",
       "      <td>0.010411</td>\n",
       "      <td>0.007188</td>\n",
       "      <td>0.002409</td>\n",
       "      <td>...</td>\n",
       "      <td>0.007739</td>\n",
       "      <td>0.008804</td>\n",
       "      <td>0.004350</td>\n",
       "      <td>0.006371</td>\n",
       "      <td>0.005791</td>\n",
       "      <td>0.006881</td>\n",
       "      <td>0.005391</td>\n",
       "      <td>0.008730</td>\n",
       "      <td>0.003802</td>\n",
       "      <td>0.002217</td>\n",
       "    </tr>\n",
       "    <tr>\n",
       "      <th>ENSG00000131100</th>\n",
       "      <td>0.002467</td>\n",
       "      <td>1.000000</td>\n",
       "      <td>0.542060</td>\n",
       "      <td>0.281444</td>\n",
       "      <td>0.008466</td>\n",
       "      <td>0.003632</td>\n",
       "      <td>0.003618</td>\n",
       "      <td>0.004632</td>\n",
       "      <td>0.006246</td>\n",
       "      <td>0.005870</td>\n",
       "      <td>...</td>\n",
       "      <td>0.008279</td>\n",
       "      <td>0.008120</td>\n",
       "      <td>0.011249</td>\n",
       "      <td>0.004244</td>\n",
       "      <td>0.006401</td>\n",
       "      <td>0.004357</td>\n",
       "      <td>0.003251</td>\n",
       "      <td>0.005618</td>\n",
       "      <td>0.002933</td>\n",
       "      <td>0.001345</td>\n",
       "    </tr>\n",
       "    <tr>\n",
       "      <th>ENSG00000099968</th>\n",
       "      <td>0.005414</td>\n",
       "      <td>0.542060</td>\n",
       "      <td>1.000000</td>\n",
       "      <td>0.428165</td>\n",
       "      <td>0.017324</td>\n",
       "      <td>0.006779</td>\n",
       "      <td>0.008181</td>\n",
       "      <td>0.008139</td>\n",
       "      <td>0.010043</td>\n",
       "      <td>0.008414</td>\n",
       "      <td>...</td>\n",
       "      <td>0.012223</td>\n",
       "      <td>0.009704</td>\n",
       "      <td>0.010688</td>\n",
       "      <td>0.006931</td>\n",
       "      <td>0.007030</td>\n",
       "      <td>0.006061</td>\n",
       "      <td>0.006575</td>\n",
       "      <td>0.007914</td>\n",
       "      <td>0.006866</td>\n",
       "      <td>0.005879</td>\n",
       "    </tr>\n",
       "    <tr>\n",
       "      <th>ENSG00000015475</th>\n",
       "      <td>0.007105</td>\n",
       "      <td>0.281444</td>\n",
       "      <td>0.428165</td>\n",
       "      <td>1.000000</td>\n",
       "      <td>0.018044</td>\n",
       "      <td>0.009272</td>\n",
       "      <td>0.008372</td>\n",
       "      <td>0.009734</td>\n",
       "      <td>0.011667</td>\n",
       "      <td>0.004081</td>\n",
       "      <td>...</td>\n",
       "      <td>0.012668</td>\n",
       "      <td>0.013209</td>\n",
       "      <td>0.012419</td>\n",
       "      <td>0.008255</td>\n",
       "      <td>0.008687</td>\n",
       "      <td>0.005644</td>\n",
       "      <td>0.007272</td>\n",
       "      <td>0.012210</td>\n",
       "      <td>0.005257</td>\n",
       "      <td>0.005525</td>\n",
       "    </tr>\n",
       "    <tr>\n",
       "      <th>ENSG00000243156</th>\n",
       "      <td>0.006540</td>\n",
       "      <td>0.008466</td>\n",
       "      <td>0.017324</td>\n",
       "      <td>0.018044</td>\n",
       "      <td>1.000000</td>\n",
       "      <td>0.041806</td>\n",
       "      <td>0.023262</td>\n",
       "      <td>0.028209</td>\n",
       "      <td>0.008704</td>\n",
       "      <td>0.004369</td>\n",
       "      <td>...</td>\n",
       "      <td>0.017627</td>\n",
       "      <td>0.016883</td>\n",
       "      <td>0.008314</td>\n",
       "      <td>0.006860</td>\n",
       "      <td>0.010774</td>\n",
       "      <td>0.009537</td>\n",
       "      <td>0.011242</td>\n",
       "      <td>0.011824</td>\n",
       "      <td>0.005827</td>\n",
       "      <td>0.008861</td>\n",
       "    </tr>\n",
       "  </tbody>\n",
       "</table>\n",
       "<p>5 rows × 170 columns</p>\n",
       "</div>"
      ],
      "text/plain": [
       "                 ENSG00000177663  ENSG00000131100  ENSG00000099968  \\\n",
       "ENSG00000177663         1.000000         0.002467         0.005414   \n",
       "ENSG00000131100         0.002467         1.000000         0.542060   \n",
       "ENSG00000099968         0.005414         0.542060         1.000000   \n",
       "ENSG00000015475         0.007105         0.281444         0.428165   \n",
       "ENSG00000243156         0.006540         0.008466         0.017324   \n",
       "\n",
       "                 ENSG00000015475  ENSG00000243156  ENSG00000215193  \\\n",
       "ENSG00000177663         0.007105         0.006540         0.009564   \n",
       "ENSG00000131100         0.281444         0.008466         0.003632   \n",
       "ENSG00000099968         0.428165         0.017324         0.006779   \n",
       "ENSG00000015475         1.000000         0.018044         0.009272   \n",
       "ENSG00000243156         0.018044         1.000000         0.041806   \n",
       "\n",
       "                 ENSG00000183785  ENSG00000184979  ENSG00000100033  \\\n",
       "ENSG00000177663         0.010262         0.010411         0.007188   \n",
       "ENSG00000131100         0.003618         0.004632         0.006246   \n",
       "ENSG00000099968         0.008181         0.008139         0.010043   \n",
       "ENSG00000015475         0.008372         0.009734         0.011667   \n",
       "ENSG00000243156         0.023262         0.028209         0.008704   \n",
       "\n",
       "                 ENSG00000100075  ...  ENSG00000196576  ENSG00000128165  \\\n",
       "ENSG00000177663         0.002409  ...         0.007739         0.008804   \n",
       "ENSG00000131100         0.005870  ...         0.008279         0.008120   \n",
       "ENSG00000099968         0.008414  ...         0.012223         0.009704   \n",
       "ENSG00000015475         0.004081  ...         0.012668         0.013209   \n",
       "ENSG00000243156         0.004369  ...         0.017627         0.016883   \n",
       "\n",
       "                 ENSG00000100253  ENSG00000130489  ENSG00000025708  \\\n",
       "ENSG00000177663         0.004350         0.006371         0.005791   \n",
       "ENSG00000131100         0.011249         0.004244         0.006401   \n",
       "ENSG00000099968         0.010688         0.006931         0.007030   \n",
       "ENSG00000015475         0.012419         0.008255         0.008687   \n",
       "ENSG00000243156         0.008314         0.006860         0.010774   \n",
       "\n",
       "                 ENSG00000205560  ENSG00000100288  ENSG00000008735  \\\n",
       "ENSG00000177663         0.006881         0.005391         0.008730   \n",
       "ENSG00000131100         0.004357         0.003251         0.005618   \n",
       "ENSG00000099968         0.006061         0.006575         0.007914   \n",
       "ENSG00000015475         0.005644         0.007272         0.012210   \n",
       "ENSG00000243156         0.009537         0.011242         0.011824   \n",
       "\n",
       "                 ENSG00000100299  ENSG00000251322  \n",
       "ENSG00000177663         0.003802         0.002217  \n",
       "ENSG00000131100         0.002933         0.001345  \n",
       "ENSG00000099968         0.006866         0.005879  \n",
       "ENSG00000015475         0.005257         0.005525  \n",
       "ENSG00000243156         0.005827         0.008861  \n",
       "\n",
       "[5 rows x 170 columns]"
      ]
     },
     "execution_count": 31,
     "metadata": {},
     "output_type": "execute_result"
    }
   ],
   "source": [
    "gene_corrs_df.head()"
   ]
  },
  {
   "cell_type": "markdown",
   "id": "dad6603f-01c6-41fb-a6f6-241051207dd8",
   "metadata": {
    "papermill": {
     "duration": 0.929426,
     "end_time": "2022-08-27T06:26:52.144807",
     "exception": false,
     "start_time": "2022-08-27T06:26:51.215381",
     "status": "completed"
    },
    "tags": []
   },
   "source": [
    "## Standard checks and stats"
   ]
  },
  {
   "cell_type": "code",
   "execution_count": 32,
   "id": "286686af-1b7b-4440-8453-6bdcbd8de19c",
   "metadata": {
    "execution": {
     "iopub.execute_input": "2022-08-27T06:26:54.060041Z",
     "iopub.status.busy": "2022-08-27T06:26:54.059766Z",
     "iopub.status.idle": "2022-08-27T06:26:54.080069Z",
     "shell.execute_reply": "2022-08-27T06:26:54.079543Z"
    },
    "papermill": {
     "duration": 0.966658,
     "end_time": "2022-08-27T06:26:54.081640",
     "exception": false,
     "start_time": "2022-08-27T06:26:53.114982",
     "status": "completed"
    },
    "tags": []
   },
   "outputs": [],
   "source": [
    "assert not gene_corrs_df.isna().any().any()"
   ]
  },
  {
   "cell_type": "code",
   "execution_count": 33,
   "id": "00583efc-7068-4270-ad1e-4a418e91db96",
   "metadata": {
    "execution": {
     "iopub.execute_input": "2022-08-27T06:26:55.917864Z",
     "iopub.status.busy": "2022-08-27T06:26:55.917603Z",
     "iopub.status.idle": "2022-08-27T06:26:55.939735Z",
     "shell.execute_reply": "2022-08-27T06:26:55.939193Z"
    },
    "papermill": {
     "duration": 0.925592,
     "end_time": "2022-08-27T06:26:55.941280",
     "exception": false,
     "start_time": "2022-08-27T06:26:55.015688",
     "status": "completed"
    },
    "tags": []
   },
   "outputs": [
    {
     "data": {
      "text/plain": [
       "2.2322840744406003e-07"
      ]
     },
     "metadata": {},
     "output_type": "display_data"
    }
   ],
   "source": [
    "_min_val = gene_corrs_df.min().min()\n",
    "display(_min_val)\n",
    "assert _min_val >= -0.05"
   ]
  },
  {
   "cell_type": "code",
   "execution_count": 34,
   "id": "d04fb2cf-1050-475b-b855-f5f7cc04092b",
   "metadata": {
    "execution": {
     "iopub.execute_input": "2022-08-27T06:26:57.838428Z",
     "iopub.status.busy": "2022-08-27T06:26:57.838165Z",
     "iopub.status.idle": "2022-08-27T06:26:57.864678Z",
     "shell.execute_reply": "2022-08-27T06:26:57.864154Z"
    },
    "papermill": {
     "duration": 0.983512,
     "end_time": "2022-08-27T06:26:57.866205",
     "exception": false,
     "start_time": "2022-08-27T06:26:56.882693",
     "status": "completed"
    },
    "tags": []
   },
   "outputs": [
    {
     "data": {
      "text/plain": [
       "1.0000000000000038"
      ]
     },
     "metadata": {},
     "output_type": "display_data"
    }
   ],
   "source": [
    "_max_val = gene_corrs_df.max().max()  # this captures the diagonal\n",
    "display(_max_val)\n",
    "assert _max_val <= 1.05"
   ]
  },
  {
   "cell_type": "code",
   "execution_count": 35,
   "id": "96d02c44-1fba-47be-8a93-8f2608420b9c",
   "metadata": {
    "execution": {
     "iopub.execute_input": "2022-08-27T06:26:59.777120Z",
     "iopub.status.busy": "2022-08-27T06:26:59.776847Z",
     "iopub.status.idle": "2022-08-27T06:26:59.796043Z",
     "shell.execute_reply": "2022-08-27T06:26:59.795519Z"
    },
    "papermill": {
     "duration": 0.963441,
     "end_time": "2022-08-27T06:26:59.797628",
     "exception": false,
     "start_time": "2022-08-27T06:26:58.834187",
     "status": "completed"
    },
    "tags": []
   },
   "outputs": [],
   "source": [
    "# check upper triangular values\n",
    "# assert len(gene_corrs) == int(genes_chr.shape[0] * (genes_chr.shape[0] - 1) / 2)"
   ]
  },
  {
   "cell_type": "code",
   "execution_count": 36,
   "id": "fe283586-c348-40e0-8841-f6d97bfb021c",
   "metadata": {
    "execution": {
     "iopub.execute_input": "2022-08-27T06:27:01.677587Z",
     "iopub.status.busy": "2022-08-27T06:27:01.677330Z",
     "iopub.status.idle": "2022-08-27T06:27:01.701976Z",
     "shell.execute_reply": "2022-08-27T06:27:01.701472Z"
    },
    "papermill": {
     "duration": 1.00154,
     "end_time": "2022-08-27T06:27:01.703412",
     "exception": false,
     "start_time": "2022-08-27T06:27:00.701872",
     "status": "completed"
    },
    "tags": []
   },
   "outputs": [
    {
     "data": {
      "text/plain": [
       "count    1.453500e+04\n",
       "mean     2.297528e-02\n",
       "std      1.135903e-01\n",
       "min      2.232284e-07\n",
       "25%      4.163393e-03\n",
       "50%      6.264636e-03\n",
       "75%      8.725407e-03\n",
       "max      1.000000e+00\n",
       "dtype: float64"
      ]
     },
     "execution_count": 36,
     "metadata": {},
     "output_type": "execute_result"
    }
   ],
   "source": [
    "gene_corrs_flat.describe()"
   ]
  },
  {
   "cell_type": "code",
   "execution_count": 37,
   "id": "b3815678-0f93-4b35-897b-a9d047a2aa78",
   "metadata": {
    "execution": {
     "iopub.execute_input": "2022-08-27T06:27:03.539372Z",
     "iopub.status.busy": "2022-08-27T06:27:03.539087Z",
     "iopub.status.idle": "2022-08-27T06:27:03.561970Z",
     "shell.execute_reply": "2022-08-27T06:27:03.561472Z"
    },
    "papermill": {
     "duration": 0.957804,
     "end_time": "2022-08-27T06:27:03.563385",
     "exception": false,
     "start_time": "2022-08-27T06:27:02.605581",
     "status": "completed"
    },
    "tags": []
   },
   "outputs": [
    {
     "data": {
      "text/plain": [
       "0.00    2.232284e-07\n",
       "0.05    1.722180e-03\n",
       "0.10    2.536843e-03\n",
       "0.15    3.174851e-03\n",
       "0.20    3.664868e-03\n",
       "0.25    4.163393e-03\n",
       "0.30    4.594738e-03\n",
       "0.35    5.013386e-03\n",
       "0.40    5.412225e-03\n",
       "0.45    5.835369e-03\n",
       "0.50    6.264636e-03\n",
       "0.55    6.675902e-03\n",
       "0.60    7.153132e-03\n",
       "0.65    7.639103e-03\n",
       "0.70    8.157408e-03\n",
       "0.75    8.725407e-03\n",
       "0.80    9.405476e-03\n",
       "0.85    1.031796e-02\n",
       "0.90    1.172062e-02\n",
       "0.95    1.602014e-02\n",
       "dtype: float64"
      ]
     },
     "metadata": {},
     "output_type": "display_data"
    }
   ],
   "source": [
    "gene_corrs_quantiles = gene_corrs_flat.quantile(np.arange(0, 1, 0.05))\n",
    "display(gene_corrs_quantiles)"
   ]
  },
  {
   "cell_type": "markdown",
   "id": "87134509-b145-4a10-8bc9-b7e914c2b0fa",
   "metadata": {
    "papermill": {
     "duration": 0.970117,
     "end_time": "2022-08-27T06:27:05.511625",
     "exception": false,
     "start_time": "2022-08-27T06:27:04.541508",
     "status": "completed"
    },
    "tags": []
   },
   "source": [
    "## Positive definiteness"
   ]
  },
  {
   "cell_type": "code",
   "execution_count": 38,
   "id": "07d9a9a1-a4f7-48aa-b916-6d42a8cc6186",
   "metadata": {
    "execution": {
     "iopub.execute_input": "2022-08-27T06:27:07.351467Z",
     "iopub.status.busy": "2022-08-27T06:27:07.351201Z",
     "iopub.status.idle": "2022-08-27T06:27:07.381247Z",
     "shell.execute_reply": "2022-08-27T06:27:07.380718Z"
    },
    "papermill": {
     "duration": 0.929794,
     "end_time": "2022-08-27T06:27:07.382713",
     "exception": false,
     "start_time": "2022-08-27T06:27:06.452919",
     "status": "completed"
    },
    "tags": []
   },
   "outputs": [
    {
     "data": {
      "text/plain": [
       "0"
      ]
     },
     "metadata": {},
     "output_type": "display_data"
    },
    {
     "data": {
      "text/plain": [
       "array([], dtype=float64)"
      ]
     },
     "metadata": {},
     "output_type": "display_data"
    }
   ],
   "source": [
    "# print negative eigenvalues\n",
    "eigs = np.linalg.eigvals(gene_corrs_df.to_numpy())\n",
    "display(len(eigs[eigs < 0]))\n",
    "display(eigs[eigs < 0])"
   ]
  },
  {
   "cell_type": "code",
   "execution_count": 39,
   "id": "6e218436-c3c5-4028-8c94-a4fa6260efce",
   "metadata": {
    "execution": {
     "iopub.execute_input": "2022-08-27T06:27:09.254063Z",
     "iopub.status.busy": "2022-08-27T06:27:09.253792Z",
     "iopub.status.idle": "2022-08-27T06:27:09.276918Z",
     "shell.execute_reply": "2022-08-27T06:27:09.276389Z"
    },
    "papermill": {
     "duration": 0.956601,
     "end_time": "2022-08-27T06:27:09.278395",
     "exception": false,
     "start_time": "2022-08-27T06:27:08.321794",
     "status": "completed"
    },
    "tags": []
   },
   "outputs": [
    {
     "name": "stdout",
     "output_type": "stream",
     "text": [
      "Works!\n"
     ]
    }
   ],
   "source": [
    "try:\n",
    "    chol_mat = np.linalg.cholesky(gene_corrs_df.to_numpy())\n",
    "    cov_inv = np.linalg.inv(chol_mat)\n",
    "    print(\"Works!\")\n",
    "except Exception as e:\n",
    "    print(f\"Cholesky decomposition failed: {str(e)}\")"
   ]
  },
  {
   "cell_type": "code",
   "execution_count": 40,
   "id": "dd8827fb-faf9-4c7c-9454-015e94752706",
   "metadata": {
    "execution": {
     "iopub.execute_input": "2022-08-27T06:27:11.194843Z",
     "iopub.status.busy": "2022-08-27T06:27:11.194580Z",
     "iopub.status.idle": "2022-08-27T06:27:11.217130Z",
     "shell.execute_reply": "2022-08-27T06:27:11.216596Z"
    },
    "papermill": {
     "duration": 0.96924,
     "end_time": "2022-08-27T06:27:11.218596",
     "exception": false,
     "start_time": "2022-08-27T06:27:10.249356",
     "status": "completed"
    },
    "tags": []
   },
   "outputs": [
    {
     "name": "stdout",
     "output_type": "stream",
     "text": [
      "Works!\n"
     ]
    }
   ],
   "source": [
    "try:\n",
    "    # decomposition used by statsmodels.GLS\n",
    "    cholsigmainv = np.linalg.cholesky(np.linalg.inv(gene_corrs_df.to_numpy())).T\n",
    "    print(\"Works!\")\n",
    "except Exception as e:\n",
    "    print(f\"Cholesky decomposition failed (statsmodels.GLS): {str(e)}\")"
   ]
  },
  {
   "cell_type": "markdown",
   "id": "8e60a080-edb2-4e9c-b2ef-22961693200c",
   "metadata": {
    "papermill": {
     "duration": 0.977412,
     "end_time": "2022-08-27T06:27:13.092110",
     "exception": false,
     "start_time": "2022-08-27T06:27:12.114698",
     "status": "completed"
    },
    "tags": []
   },
   "source": [
    "## Plot: distribution"
   ]
  },
  {
   "cell_type": "code",
   "execution_count": 41,
   "id": "8301126b-a7d4-4744-9c7d-f0f86eb6f54c",
   "metadata": {
    "execution": {
     "iopub.execute_input": "2022-08-27T06:27:14.927335Z",
     "iopub.status.busy": "2022-08-27T06:27:14.927070Z",
     "iopub.status.idle": "2022-08-27T06:27:22.299337Z",
     "shell.execute_reply": "2022-08-27T06:27:22.298691Z"
    },
    "papermill": {
     "duration": 8.308916,
     "end_time": "2022-08-27T06:27:22.301010",
     "exception": false,
     "start_time": "2022-08-27T06:27:13.992094",
     "status": "completed"
    },
    "tags": []
   },
   "outputs": [
    {
     "data": {
      "image/png": "[encoded data removed]",
      "text/plain": [
       "<Figure size 504x504 with 1 Axes>"
      ]
     },
     "metadata": {
      "needs_background": "light"
     },
     "output_type": "display_data"
    }
   ],
   "source": [
    "with sns.plotting_context(\"paper\", font_scale=1.5):\n",
    "    g = sns.displot(gene_corrs_flat, kde=True, height=7)\n",
    "    g.ax.set_title(\n",
    "        f\"Distribution of gene correlation values in chromosome {CHROMOSOME}\"\n",
    "    )"
   ]
  },
  {
   "cell_type": "markdown",
   "id": "cbd52bca-d878-4a2f-b684-5c83aa3038d4",
   "metadata": {
    "papermill": {
     "duration": 0.902786,
     "end_time": "2022-08-27T06:27:24.180252",
     "exception": false,
     "start_time": "2022-08-27T06:27:23.277466",
     "status": "completed"
    },
    "tags": []
   },
   "source": [
    "## Plot: heatmap"
   ]
  },
  {
   "cell_type": "code",
   "execution_count": 42,
   "id": "d03fe63a-c7b2-4fb9-a53c-db362ce843c9",
   "metadata": {
    "execution": {
     "iopub.execute_input": "2022-08-27T06:27:26.065427Z",
     "iopub.status.busy": "2022-08-27T06:27:26.065151Z",
     "iopub.status.idle": "2022-08-27T06:27:26.097382Z",
     "shell.execute_reply": "2022-08-27T06:27:26.096827Z"
    },
    "papermill": {
     "duration": 0.946975,
     "end_time": "2022-08-27T06:27:26.098949",
     "exception": false,
     "start_time": "2022-08-27T06:27:25.151974",
     "status": "completed"
    },
    "tags": []
   },
   "outputs": [
    {
     "data": {
      "text/plain": [
       "'0.0 / 0.05'"
      ]
     },
     "metadata": {},
     "output_type": "display_data"
    }
   ],
   "source": [
    "vmin_val = min(0.00, gene_corrs_quantiles[0.10])\n",
    "vmax_val = max(0.05, gene_corrs_quantiles[0.90])\n",
    "display(f\"{vmin_val} / {vmax_val}\")"
   ]
  },
  {
   "cell_type": "code",
   "execution_count": 43,
   "id": "dc41b70b-5bcc-4d9e-9f33-a22c4a94dab5",
   "metadata": {
    "execution": {
     "iopub.execute_input": "2022-08-27T06:27:28.053470Z",
     "iopub.status.busy": "2022-08-27T06:27:28.053190Z",
     "iopub.status.idle": "2022-08-27T06:27:28.241965Z",
     "shell.execute_reply": "2022-08-27T06:27:28.241460Z"
    },
    "papermill": {
     "duration": 1.189734,
     "end_time": "2022-08-27T06:27:28.243508",
     "exception": false,
     "start_time": "2022-08-27T06:27:27.053774",
     "status": "completed"
    },
    "tags": []
   },
   "outputs": [
    {
     "data": {
      "text/plain": [
       "Text(0.5, 1.0, 'Gene correlations in chromosome 22')"
      ]
     },
     "execution_count": 43,
     "metadata": {},
     "output_type": "execute_result"
    },
    {
     "data": {
      "image/png": "[encoded data removed]",
      "text/plain": [
       "<Figure size 720x720 with 2 Axes>"
      ]
     },
     "metadata": {
      "needs_background": "light"
     },
     "output_type": "display_data"
    }
   ],
   "source": [
    "f, ax = plt.subplots(figsize=(10, 10))\n",
    "sns.heatmap(\n",
    "    gene_corrs_df,\n",
    "    xticklabels=False,\n",
    "    yticklabels=False,\n",
    "    square=True,\n",
    "    vmin=vmin_val,\n",
    "    vmax=vmax_val,\n",
    "    cmap=\"rocket_r\",\n",
    "    ax=ax,\n",
    ")\n",
    "ax.set_title(f\"Gene correlations in chromosome {CHROMOSOME}\")"
   ]
  },
  {
   "cell_type": "code",
   "execution_count": null,
   "id": "b25e3ead",
   "metadata": {
    "papermill": {
     "duration": 0.974596,
     "end_time": "2022-08-27T06:27:30.116955",
     "exception": false,
     "start_time": "2022-08-27T06:27:29.142359",
     "status": "completed"
    },
    "tags": []
   },
   "outputs": [],
   "source": []
  }
 ],
 "metadata": {
  "jupytext": {
   "cell_metadata_filter": "all,-execution,-papermill,-trusted",
   "formats": "ipynb,py//py:percent"
  },
  "kernelspec": {
   "display_name": "Python 3 (ipykernel)",
   "language": "python",
   "name": "python3"
  },
  "language_info": {
   "codemirror_mode": {
    "name": "ipython",
    "version": 3
   },
   "file_extension": ".py",
   "mimetype": "text/x-python",
   "name": "python",
   "nbconvert_exporter": "python",
   "pygments_lexer": "ipython3",
   "version": "3.8.13"
  },
  "papermill": {
   "default_parameters": {},
   "duration": 1577.461108,
   "end_time": "2022-08-27T06:27:34.293250",
   "environment_variables": {},
   "exception": null,
   "input_path": "nbs/15_gsa_gls/10-gene_expr_correlations.ipynb",
   "output_path": "nbs/15_gsa_gls/gene_corrs/cohorts/phenomexcan_astle/gtex_v8/mashr/10-gene_expr_corrs/10-gene_expr_correlations-chr22.run.ipynb",
   "parameters": {
    "CHROMOSOME": 22,
    "COHORT_NAME": "phenomexcan_astle",
    "EQTL_MODEL": "MASHR",
    "REFERENCE_PANEL": "GTEX_V8"
   },
   "start_time": "2022-08-27T06:01:16.832142",
   "version": "2.2.2"
  }
 },
 "nbformat": 4,
 "nbformat_minor": 5
}
