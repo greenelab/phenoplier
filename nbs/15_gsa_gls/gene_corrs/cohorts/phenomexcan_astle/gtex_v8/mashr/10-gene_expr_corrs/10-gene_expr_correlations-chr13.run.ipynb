{
 "cells": [
  {
   "cell_type": "markdown",
   "id": "7a6632fb",
   "metadata": {
    "papermill": {
     "duration": 0.020568,
     "end_time": "2022-08-27T06:01:19.625914",
     "exception": false,
     "start_time": "2022-08-27T06:01:19.605346",
     "status": "completed"
    },
    "tags": []
   },
   "source": [
    "# Description"
   ]
  },
  {
   "cell_type": "markdown",
   "id": "7097c346",
   "metadata": {
    "papermill": {
     "duration": 0.015039,
     "end_time": "2022-08-27T06:01:19.657253",
     "exception": false,
     "start_time": "2022-08-27T06:01:19.642214",
     "status": "completed"
    },
    "tags": []
   },
   "source": [
    "(Please, take a look at the README.md file in this directory for instructions on how to run this notebook)\n",
    "\n",
    "This notebook computes predicted expression correlations between all genes in the MultiPLIER models.\n",
    "\n",
    "It also has a parameter set for papermill to run on a single chromosome to run in parallel (see under `Settings` below).\n",
    "\n",
    "This notebook is not directly run. See README.md."
   ]
  },
  {
   "cell_type": "markdown",
   "id": "c61d8427",
   "metadata": {
    "papermill": {
     "duration": 0.012723,
     "end_time": "2022-08-27T06:01:19.684405",
     "exception": false,
     "start_time": "2022-08-27T06:01:19.671682",
     "status": "completed"
    },
    "tags": []
   },
   "source": [
    "# Modules"
   ]
  },
  {
   "cell_type": "code",
   "execution_count": 1,
   "id": "bbc0234f",
   "metadata": {
    "execution": {
     "iopub.execute_input": "2022-08-27T06:01:19.714380Z",
     "iopub.status.busy": "2022-08-27T06:01:19.713963Z",
     "iopub.status.idle": "2022-08-27T06:01:19.739908Z",
     "shell.execute_reply": "2022-08-27T06:01:19.739222Z"
    },
    "papermill": {
     "duration": 0.044909,
     "end_time": "2022-08-27T06:01:19.742282",
     "exception": false,
     "start_time": "2022-08-27T06:01:19.697373",
     "status": "completed"
    },
    "tags": []
   },
   "outputs": [],
   "source": [
    "%load_ext autoreload\n",
    "%autoreload 2"
   ]
  },
  {
   "cell_type": "code",
   "execution_count": 2,
   "id": "1d5f5a59",
   "metadata": {
    "execution": {
     "iopub.execute_input": "2022-08-27T06:01:19.764955Z",
     "iopub.status.busy": "2022-08-27T06:01:19.764741Z",
     "iopub.status.idle": "2022-08-27T06:01:21.940144Z",
     "shell.execute_reply": "2022-08-27T06:01:21.939511Z"
    },
    "papermill": {
     "duration": 2.189229,
     "end_time": "2022-08-27T06:01:21.942201",
     "exception": false,
     "start_time": "2022-08-27T06:01:19.752972",
     "status": "completed"
    },
    "tags": []
   },
   "outputs": [],
   "source": [
    "from random import sample, seed\n",
    "import warnings\n",
    "from pathlib import Path\n",
    "import pickle\n",
    "import traceback\n",
    "\n",
    "import numpy as np\n",
    "from scipy.spatial.distance import squareform\n",
    "import pandas as pd\n",
    "from tqdm import tqdm\n",
    "import matplotlib.pyplot as plt\n",
    "import seaborn as sns\n",
    "\n",
    "import conf\n",
    "from entity import Gene"
   ]
  },
  {
   "cell_type": "markdown",
   "id": "1eac24b5",
   "metadata": {
    "papermill": {
     "duration": 0.056201,
     "end_time": "2022-08-27T06:01:22.083859",
     "exception": false,
     "start_time": "2022-08-27T06:01:22.027658",
     "status": "completed"
    },
    "tags": []
   },
   "source": [
    "# Settings"
   ]
  },
  {
   "cell_type": "code",
   "execution_count": 3,
   "id": "ca4560ba",
   "metadata": {
    "execution": {
     "iopub.execute_input": "2022-08-27T06:01:22.178429Z",
     "iopub.status.busy": "2022-08-27T06:01:22.178103Z",
     "iopub.status.idle": "2022-08-27T06:01:22.201999Z",
     "shell.execute_reply": "2022-08-27T06:01:22.201450Z"
    },
    "papermill": {
     "duration": 0.073171,
     "end_time": "2022-08-27T06:01:22.203631",
     "exception": false,
     "start_time": "2022-08-27T06:01:22.130460",
     "status": "completed"
    },
    "tags": [
     "parameters"
    ]
   },
   "outputs": [],
   "source": [
    "# a cohort name (it could be something like UK_BIOBANK, etc)\n",
    "COHORT_NAME = None\n",
    "\n",
    "# reference panel such as 1000G or GTEX_V8\n",
    "REFERENCE_PANEL = None\n",
    "\n",
    "# predictions models such as MASHR or ELASTIC_NET\n",
    "EQTL_MODEL = None\n",
    "\n",
    "# this is the default value used in S-MultiXcan to select the\n",
    "# top principal components of the expression correlation matrix\n",
    "SMULTIXCAN_CONDITION_NUMBER = 30\n",
    "\n",
    "# specifies a single chromosome value\n",
    "CHROMOSOME = None\n",
    "\n",
    "# If True, computes the correlation between closeby genes only;\n",
    "# otherwise, it computes correlations for all genes in a chromosome\n",
    "COMPUTE_CORRELATIONS_WITHIN_DISTANCE = False\n",
    "\n",
    "# if True, then it will continue if a gene pair correlation fails,\n",
    "# printing the warning/error for debugging. If False, any warning/error\n",
    "# will be thrown\n",
    "DEBUG_MODE = False"
   ]
  },
  {
   "cell_type": "code",
   "execution_count": 4,
   "id": "ce673b08",
   "metadata": {
    "execution": {
     "iopub.execute_input": "2022-08-27T06:01:22.324026Z",
     "iopub.status.busy": "2022-08-27T06:01:22.323603Z",
     "iopub.status.idle": "2022-08-27T06:01:22.355420Z",
     "shell.execute_reply": "2022-08-27T06:01:22.354567Z"
    },
    "papermill": {
     "duration": 0.099409,
     "end_time": "2022-08-27T06:01:22.358131",
     "exception": false,
     "start_time": "2022-08-27T06:01:22.258722",
     "status": "completed"
    },
    "tags": [
     "injected-parameters"
    ]
   },
   "outputs": [],
   "source": [
    "# Parameters\n",
    "COHORT_NAME = \"phenomexcan_astle\"\n",
    "REFERENCE_PANEL = \"GTEX_V8\"\n",
    "EQTL_MODEL = \"MASHR\"\n",
    "CHROMOSOME = 13\n"
   ]
  },
  {
   "cell_type": "code",
   "execution_count": 5,
   "id": "3190631f-27fc-480f-b18e-571d580425a5",
   "metadata": {
    "execution": {
     "iopub.execute_input": "2022-08-27T06:01:22.472136Z",
     "iopub.status.busy": "2022-08-27T06:01:22.471859Z",
     "iopub.status.idle": "2022-08-27T06:01:22.494409Z",
     "shell.execute_reply": "2022-08-27T06:01:22.493890Z"
    },
    "papermill": {
     "duration": 0.075325,
     "end_time": "2022-08-27T06:01:22.495913",
     "exception": false,
     "start_time": "2022-08-27T06:01:22.420588",
     "status": "completed"
    },
    "tags": []
   },
   "outputs": [
    {
     "data": {
      "text/plain": [
       "'Cohort name: phenomexcan_astle'"
      ]
     },
     "metadata": {},
     "output_type": "display_data"
    }
   ],
   "source": [
    "assert COHORT_NAME is not None and len(COHORT_NAME) > 0, \"A cohort name must be given\"\n",
    "\n",
    "COHORT_NAME = COHORT_NAME.lower()\n",
    "display(f\"Cohort name: {COHORT_NAME}\")"
   ]
  },
  {
   "cell_type": "code",
   "execution_count": 6,
   "id": "f53ba19b-0f93-4fa2-a047-63b375939d1a",
   "metadata": {
    "execution": {
     "iopub.execute_input": "2022-08-27T06:01:22.589818Z",
     "iopub.status.busy": "2022-08-27T06:01:22.589457Z",
     "iopub.status.idle": "2022-08-27T06:01:22.620785Z",
     "shell.execute_reply": "2022-08-27T06:01:22.620007Z"
    },
    "papermill": {
     "duration": 0.083611,
     "end_time": "2022-08-27T06:01:22.623105",
     "exception": false,
     "start_time": "2022-08-27T06:01:22.539494",
     "status": "completed"
    },
    "tags": []
   },
   "outputs": [
    {
     "data": {
      "text/plain": [
       "'Reference panel: GTEX_V8'"
      ]
     },
     "metadata": {},
     "output_type": "display_data"
    }
   ],
   "source": [
    "assert (\n",
    "    REFERENCE_PANEL is not None and len(REFERENCE_PANEL) > 0\n",
    "), \"A reference panel must be given\"\n",
    "\n",
    "display(f\"Reference panel: {REFERENCE_PANEL}\")"
   ]
  },
  {
   "cell_type": "code",
   "execution_count": 7,
   "id": "e024d130-c139-429a-9c6e-ccf149e297b0",
   "metadata": {
    "execution": {
     "iopub.execute_input": "2022-08-27T06:01:22.734557Z",
     "iopub.status.busy": "2022-08-27T06:01:22.734332Z",
     "iopub.status.idle": "2022-08-27T06:01:22.755259Z",
     "shell.execute_reply": "2022-08-27T06:01:22.754703Z"
    },
    "papermill": {
     "duration": 0.075431,
     "end_time": "2022-08-27T06:01:22.756753",
     "exception": false,
     "start_time": "2022-08-27T06:01:22.681322",
     "status": "completed"
    },
    "tags": []
   },
   "outputs": [
    {
     "data": {
      "text/plain": [
       "'eQTL model: MASHR) / mashr_'"
      ]
     },
     "metadata": {},
     "output_type": "display_data"
    }
   ],
   "source": [
    "assert (\n",
    "    EQTL_MODEL is not None and len(EQTL_MODEL) > 0\n",
    "), \"A prediction/eQTL model must be given\"\n",
    "\n",
    "EQTL_MODEL_FILES_PREFIX = conf.PHENOMEXCAN[\"PREDICTION_MODELS\"][f\"{EQTL_MODEL}_PREFIX\"]\n",
    "display(f\"eQTL model: {EQTL_MODEL}) / {EQTL_MODEL_FILES_PREFIX}\")"
   ]
  },
  {
   "cell_type": "code",
   "execution_count": 8,
   "id": "552a7f63-a18c-4d3e-bb6a-94f99b431291",
   "metadata": {
    "execution": {
     "iopub.execute_input": "2022-08-27T06:01:22.863987Z",
     "iopub.status.busy": "2022-08-27T06:01:22.863489Z",
     "iopub.status.idle": "2022-08-27T06:01:22.903960Z",
     "shell.execute_reply": "2022-08-27T06:01:22.902982Z"
    },
    "papermill": {
     "duration": 0.106228,
     "end_time": "2022-08-27T06:01:22.906630",
     "exception": false,
     "start_time": "2022-08-27T06:01:22.800402",
     "status": "completed"
    },
    "tags": []
   },
   "outputs": [
    {
     "data": {
      "text/plain": [
       "'S-MultiXcan condition number: 30'"
      ]
     },
     "metadata": {},
     "output_type": "display_data"
    }
   ],
   "source": [
    "assert (\n",
    "    SMULTIXCAN_CONDITION_NUMBER is not None and SMULTIXCAN_CONDITION_NUMBER > 0\n",
    "), \"The S-MultiXcan condition number (positive integer) must be given\"\n",
    "\n",
    "display(f\"S-MultiXcan condition number: {SMULTIXCAN_CONDITION_NUMBER}\")"
   ]
  },
  {
   "cell_type": "code",
   "execution_count": 9,
   "id": "f34a336f-548e-4afe-8955-90eaea4f42c6",
   "metadata": {
    "execution": {
     "iopub.execute_input": "2022-08-27T06:01:23.012859Z",
     "iopub.status.busy": "2022-08-27T06:01:23.012609Z",
     "iopub.status.idle": "2022-08-27T06:01:23.034659Z",
     "shell.execute_reply": "2022-08-27T06:01:23.034132Z"
    },
    "papermill": {
     "duration": 0.072754,
     "end_time": "2022-08-27T06:01:23.036175",
     "exception": false,
     "start_time": "2022-08-27T06:01:22.963421",
     "status": "completed"
    },
    "tags": []
   },
   "outputs": [
    {
     "data": {
      "text/plain": [
       "'Working on chromosome 13'"
      ]
     },
     "metadata": {},
     "output_type": "display_data"
    }
   ],
   "source": [
    "assert CHROMOSOME is not None and (\n",
    "    1 <= CHROMOSOME <= 22\n",
    "), \"You have to select one chromosome (format: number between 1 and 22)\"\n",
    "\n",
    "# CHROMOSOME = str(CHROMOSOME)\n",
    "display(f\"Working on chromosome {CHROMOSOME}\")"
   ]
  },
  {
   "cell_type": "code",
   "execution_count": 10,
   "id": "ab8e96e8-06b5-4363-9dcd-dc4d78cc27f7",
   "metadata": {
    "execution": {
     "iopub.execute_input": "2022-08-27T06:01:23.144844Z",
     "iopub.status.busy": "2022-08-27T06:01:23.144424Z",
     "iopub.status.idle": "2022-08-27T06:01:23.180908Z",
     "shell.execute_reply": "2022-08-27T06:01:23.179978Z"
    },
    "papermill": {
     "duration": 0.099148,
     "end_time": "2022-08-27T06:01:23.183571",
     "exception": false,
     "start_time": "2022-08-27T06:01:23.084423",
     "status": "completed"
    },
    "tags": []
   },
   "outputs": [
    {
     "data": {
      "text/plain": [
       "'Compute correlation within distance False'"
      ]
     },
     "metadata": {},
     "output_type": "display_data"
    }
   ],
   "source": [
    "display(f\"Compute correlation within distance {COMPUTE_CORRELATIONS_WITHIN_DISTANCE}\")"
   ]
  },
  {
   "cell_type": "code",
   "execution_count": 11,
   "id": "396392dc-0340-4540-9b02-e182b833f909",
   "metadata": {
    "execution": {
     "iopub.execute_input": "2022-08-27T06:01:23.293042Z",
     "iopub.status.busy": "2022-08-27T06:01:23.292653Z",
     "iopub.status.idle": "2022-08-27T06:01:23.399338Z",
     "shell.execute_reply": "2022-08-27T06:01:23.398207Z"
    },
    "papermill": {
     "duration": 0.169968,
     "end_time": "2022-08-27T06:01:23.402564",
     "exception": false,
     "start_time": "2022-08-27T06:01:23.232596",
     "status": "completed"
    },
    "tags": []
   },
   "outputs": [
    {
     "data": {
      "text/plain": [
       "'Using output dir base: /project/ritchie20/projects/phenoplier/base/results/gls/gene_corrs/cohorts/phenomexcan_astle/gtex_v8/mashr'"
      ]
     },
     "metadata": {},
     "output_type": "display_data"
    }
   ],
   "source": [
    "OUTPUT_DIR_BASE = (\n",
    "    conf.RESULTS[\"GLS\"]\n",
    "    / \"gene_corrs\"\n",
    "    / \"cohorts\"\n",
    "    / COHORT_NAME\n",
    "    / REFERENCE_PANEL.lower()\n",
    "    / EQTL_MODEL.lower()\n",
    ")\n",
    "OUTPUT_DIR_BASE.mkdir(parents=True, exist_ok=True)\n",
    "\n",
    "display(f\"Using output dir base: {OUTPUT_DIR_BASE}\")"
   ]
  },
  {
   "cell_type": "markdown",
   "id": "d2ba085e",
   "metadata": {
    "papermill": {
     "duration": 0.053906,
     "end_time": "2022-08-27T06:01:23.513495",
     "exception": false,
     "start_time": "2022-08-27T06:01:23.459589",
     "status": "completed"
    },
    "tags": []
   },
   "source": [
    "# Load data"
   ]
  },
  {
   "cell_type": "markdown",
   "id": "7dcb8db7",
   "metadata": {
    "papermill": {
     "duration": 0.057911,
     "end_time": "2022-08-27T06:01:23.639350",
     "exception": false,
     "start_time": "2022-08-27T06:01:23.581439",
     "status": "completed"
    },
    "tags": []
   },
   "source": [
    "## GWAS variants"
   ]
  },
  {
   "cell_type": "code",
   "execution_count": 12,
   "id": "29434c4e-8cd3-4b9b-82e4-b5a251d9dd19",
   "metadata": {
    "execution": {
     "iopub.execute_input": "2022-08-27T06:01:23.752012Z",
     "iopub.status.busy": "2022-08-27T06:01:23.751492Z",
     "iopub.status.idle": "2022-08-27T06:01:27.010119Z",
     "shell.execute_reply": "2022-08-27T06:01:27.009277Z"
    },
    "papermill": {
     "duration": 3.321094,
     "end_time": "2022-08-27T06:01:27.012249",
     "exception": false,
     "start_time": "2022-08-27T06:01:23.691155",
     "status": "completed"
    },
    "tags": []
   },
   "outputs": [],
   "source": [
    "with open(OUTPUT_DIR_BASE / \"gwas_variant_ids.pkl\", \"rb\") as handle:\n",
    "    gwas_variants_ids_set = pickle.load(handle)"
   ]
  },
  {
   "cell_type": "code",
   "execution_count": 13,
   "id": "b9d9dec2-4a76-4bf9-bde2-e24c95acb8a0",
   "metadata": {
    "execution": {
     "iopub.execute_input": "2022-08-27T06:01:27.043021Z",
     "iopub.status.busy": "2022-08-27T06:01:27.042779Z",
     "iopub.status.idle": "2022-08-27T06:01:27.065751Z",
     "shell.execute_reply": "2022-08-27T06:01:27.065256Z"
    },
    "papermill": {
     "duration": 0.040613,
     "end_time": "2022-08-27T06:01:27.067273",
     "exception": false,
     "start_time": "2022-08-27T06:01:27.026660",
     "status": "completed"
    },
    "tags": []
   },
   "outputs": [
    {
     "data": {
      "text/plain": [
       "8871979"
      ]
     },
     "execution_count": 13,
     "metadata": {},
     "output_type": "execute_result"
    }
   ],
   "source": [
    "len(gwas_variants_ids_set)"
   ]
  },
  {
   "cell_type": "code",
   "execution_count": 14,
   "id": "4235b06a-6034-4ee4-a0a3-2ae35d122418",
   "metadata": {
    "execution": {
     "iopub.execute_input": "2022-08-27T06:01:27.089717Z",
     "iopub.status.busy": "2022-08-27T06:01:27.089504Z",
     "iopub.status.idle": "2022-08-27T06:01:27.784208Z",
     "shell.execute_reply": "2022-08-27T06:01:27.783615Z"
    },
    "papermill": {
     "duration": 0.706352,
     "end_time": "2022-08-27T06:01:27.785767",
     "exception": false,
     "start_time": "2022-08-27T06:01:27.079415",
     "status": "completed"
    },
    "tags": []
   },
   "outputs": [
    {
     "data": {
      "text/plain": [
       "['chr14_42574928_T_G_b38',\n",
       " 'chr8_6258839_G_A_b38',\n",
       " 'chr7_155258218_A_G_b38',\n",
       " 'chr3_73388294_C_T_b38',\n",
       " 'chr11_48802470_G_A_b38']"
      ]
     },
     "execution_count": 14,
     "metadata": {},
     "output_type": "execute_result"
    }
   ],
   "source": [
    "list(gwas_variants_ids_set)[:5]"
   ]
  },
  {
   "cell_type": "markdown",
   "id": "07866999-2305-41f9-a144-e69c9122c212",
   "metadata": {
    "papermill": {
     "duration": 0.012508,
     "end_time": "2022-08-27T06:01:27.810969",
     "exception": false,
     "start_time": "2022-08-27T06:01:27.798461",
     "status": "completed"
    },
    "tags": []
   },
   "source": [
    "## S-PrediXcan tissue models"
   ]
  },
  {
   "cell_type": "code",
   "execution_count": 15,
   "id": "780611d9-77c8-405f-90a4-f271f7b09397",
   "metadata": {
    "execution": {
     "iopub.execute_input": "2022-08-27T06:01:27.832217Z",
     "iopub.status.busy": "2022-08-27T06:01:27.831978Z",
     "iopub.status.idle": "2022-08-27T06:01:28.720588Z",
     "shell.execute_reply": "2022-08-27T06:01:28.719991Z"
    },
    "papermill": {
     "duration": 0.900664,
     "end_time": "2022-08-27T06:01:28.722573",
     "exception": false,
     "start_time": "2022-08-27T06:01:27.821909",
     "status": "completed"
    },
    "tags": []
   },
   "outputs": [],
   "source": [
    "spredixcan_genes_models = pd.read_pickle(OUTPUT_DIR_BASE / \"gene_tissues.pkl\")"
   ]
  },
  {
   "cell_type": "code",
   "execution_count": 16,
   "id": "726dd1f6-9557-4225-91fa-b3b879ea96e1",
   "metadata": {
    "execution": {
     "iopub.execute_input": "2022-08-27T06:01:28.756653Z",
     "iopub.status.busy": "2022-08-27T06:01:28.756453Z",
     "iopub.status.idle": "2022-08-27T06:01:28.777252Z",
     "shell.execute_reply": "2022-08-27T06:01:28.776690Z"
    },
    "papermill": {
     "duration": 0.03694,
     "end_time": "2022-08-27T06:01:28.778729",
     "exception": false,
     "start_time": "2022-08-27T06:01:28.741789",
     "status": "completed"
    },
    "tags": []
   },
   "outputs": [
    {
     "data": {
      "text/plain": [
       "(6450, 3)"
      ]
     },
     "execution_count": 16,
     "metadata": {},
     "output_type": "execute_result"
    }
   ],
   "source": [
    "spredixcan_genes_models.shape"
   ]
  },
  {
   "cell_type": "code",
   "execution_count": 17,
   "id": "944a1b48-222c-4eb0-b252-b9de2cbca215",
   "metadata": {
    "execution": {
     "iopub.execute_input": "2022-08-27T06:01:28.819058Z",
     "iopub.status.busy": "2022-08-27T06:01:28.818829Z",
     "iopub.status.idle": "2022-08-27T06:01:28.849617Z",
     "shell.execute_reply": "2022-08-27T06:01:28.849102Z"
    },
    "papermill": {
     "duration": 0.053014,
     "end_time": "2022-08-27T06:01:28.851168",
     "exception": false,
     "start_time": "2022-08-27T06:01:28.798154",
     "status": "completed"
    },
    "tags": []
   },
   "outputs": [
    {
     "data": {
      "text/html": [
       "<div>\n",
       "<style scoped>\n",
       "    .dataframe tbody tr th:only-of-type {\n",
       "        vertical-align: middle;\n",
       "    }\n",
       "\n",
       "    .dataframe tbody tr th {\n",
       "        vertical-align: top;\n",
       "    }\n",
       "\n",
       "    .dataframe thead th {\n",
       "        text-align: right;\n",
       "    }\n",
       "</style>\n",
       "<table border=\"1\" class=\"dataframe\">\n",
       "  <thead>\n",
       "    <tr style=\"text-align: right;\">\n",
       "      <th></th>\n",
       "      <th>gene_name</th>\n",
       "      <th>tissue</th>\n",
       "      <th>n_tissues</th>\n",
       "    </tr>\n",
       "    <tr>\n",
       "      <th>gene_id</th>\n",
       "      <th></th>\n",
       "      <th></th>\n",
       "      <th></th>\n",
       "    </tr>\n",
       "  </thead>\n",
       "  <tbody>\n",
       "    <tr>\n",
       "      <th>ENSG00000000419</th>\n",
       "      <td>DPM1</td>\n",
       "      <td>(Cells_Cultured_fibroblasts, Brain_Substantia_...</td>\n",
       "      <td>3</td>\n",
       "    </tr>\n",
       "    <tr>\n",
       "      <th>ENSG00000000938</th>\n",
       "      <td>FGR</td>\n",
       "      <td>(Cells_EBV-transformed_lymphocytes, Esophagus_...</td>\n",
       "      <td>36</td>\n",
       "    </tr>\n",
       "    <tr>\n",
       "      <th>ENSG00000000971</th>\n",
       "      <td>CFH</td>\n",
       "      <td>(Esophagus_Gastroesophageal_Junction, Brain_Ca...</td>\n",
       "      <td>34</td>\n",
       "    </tr>\n",
       "    <tr>\n",
       "      <th>ENSG00000001084</th>\n",
       "      <td>GCLC</td>\n",
       "      <td>(Cells_EBV-transformed_lymphocytes, Brain_Caud...</td>\n",
       "      <td>33</td>\n",
       "    </tr>\n",
       "    <tr>\n",
       "      <th>ENSG00000001167</th>\n",
       "      <td>NFYA</td>\n",
       "      <td>(Esophagus_Gastroesophageal_Junction, Brain_Ca...</td>\n",
       "      <td>40</td>\n",
       "    </tr>\n",
       "  </tbody>\n",
       "</table>\n",
       "</div>"
      ],
      "text/plain": [
       "                gene_name                                             tissue  \\\n",
       "gene_id                                                                        \n",
       "ENSG00000000419      DPM1  (Cells_Cultured_fibroblasts, Brain_Substantia_...   \n",
       "ENSG00000000938       FGR  (Cells_EBV-transformed_lymphocytes, Esophagus_...   \n",
       "ENSG00000000971       CFH  (Esophagus_Gastroesophageal_Junction, Brain_Ca...   \n",
       "ENSG00000001084      GCLC  (Cells_EBV-transformed_lymphocytes, Brain_Caud...   \n",
       "ENSG00000001167      NFYA  (Esophagus_Gastroesophageal_Junction, Brain_Ca...   \n",
       "\n",
       "                 n_tissues  \n",
       "gene_id                     \n",
       "ENSG00000000419          3  \n",
       "ENSG00000000938         36  \n",
       "ENSG00000000971         34  \n",
       "ENSG00000001084         33  \n",
       "ENSG00000001167         40  "
      ]
     },
     "execution_count": 17,
     "metadata": {},
     "output_type": "execute_result"
    }
   ],
   "source": [
    "spredixcan_genes_models.head()"
   ]
  },
  {
   "cell_type": "code",
   "execution_count": 18,
   "id": "d1c11bb1-be0b-4f40-b360-633d6827109f",
   "metadata": {
    "execution": {
     "iopub.execute_input": "2022-08-27T06:01:28.894630Z",
     "iopub.status.busy": "2022-08-27T06:01:28.894424Z",
     "iopub.status.idle": "2022-08-27T06:01:28.913415Z",
     "shell.execute_reply": "2022-08-27T06:01:28.912894Z"
    },
    "papermill": {
     "duration": 0.044612,
     "end_time": "2022-08-27T06:01:28.915052",
     "exception": false,
     "start_time": "2022-08-27T06:01:28.870440",
     "status": "completed"
    },
    "tags": []
   },
   "outputs": [],
   "source": [
    "assert spredixcan_genes_models.index.is_unique"
   ]
  },
  {
   "cell_type": "markdown",
   "id": "a5b5092c-a13e-47c4-a92a-480fcc08f3ae",
   "metadata": {
    "papermill": {
     "duration": 0.016507,
     "end_time": "2022-08-27T06:01:28.944875",
     "exception": false,
     "start_time": "2022-08-27T06:01:28.928368",
     "status": "completed"
    },
    "tags": []
   },
   "source": [
    "## Gene info"
   ]
  },
  {
   "cell_type": "code",
   "execution_count": 19,
   "id": "7d6bb224-88e9-4358-ac10-43a41d92cdad",
   "metadata": {
    "execution": {
     "iopub.execute_input": "2022-08-27T06:01:28.979259Z",
     "iopub.status.busy": "2022-08-27T06:01:28.979016Z",
     "iopub.status.idle": "2022-08-27T06:01:29.005542Z",
     "shell.execute_reply": "2022-08-27T06:01:29.004978Z"
    },
    "papermill": {
     "duration": 0.0449,
     "end_time": "2022-08-27T06:01:29.007218",
     "exception": false,
     "start_time": "2022-08-27T06:01:28.962318",
     "status": "completed"
    },
    "tags": []
   },
   "outputs": [],
   "source": [
    "genes_info = pd.read_pickle(OUTPUT_DIR_BASE / \"genes_info.pkl\")"
   ]
  },
  {
   "cell_type": "code",
   "execution_count": 20,
   "id": "9e32abfa-546d-483e-8c18-d526e9e05903",
   "metadata": {
    "execution": {
     "iopub.execute_input": "2022-08-27T06:01:29.039285Z",
     "iopub.status.busy": "2022-08-27T06:01:29.039058Z",
     "iopub.status.idle": "2022-08-27T06:01:29.058360Z",
     "shell.execute_reply": "2022-08-27T06:01:29.057800Z"
    },
    "papermill": {
     "duration": 0.037318,
     "end_time": "2022-08-27T06:01:29.059853",
     "exception": false,
     "start_time": "2022-08-27T06:01:29.022535",
     "status": "completed"
    },
    "tags": []
   },
   "outputs": [
    {
     "data": {
      "text/plain": [
       "(6450, 7)"
      ]
     },
     "execution_count": 20,
     "metadata": {},
     "output_type": "execute_result"
    }
   ],
   "source": [
    "genes_info.shape"
   ]
  },
  {
   "cell_type": "code",
   "execution_count": 21,
   "id": "d16c3e92-85ec-468a-9a56-e25a9774a1cb",
   "metadata": {
    "execution": {
     "iopub.execute_input": "2022-08-27T06:01:29.084655Z",
     "iopub.status.busy": "2022-08-27T06:01:29.084463Z",
     "iopub.status.idle": "2022-08-27T06:01:29.107197Z",
     "shell.execute_reply": "2022-08-27T06:01:29.106651Z"
    },
    "papermill": {
     "duration": 0.036015,
     "end_time": "2022-08-27T06:01:29.108663",
     "exception": false,
     "start_time": "2022-08-27T06:01:29.072648",
     "status": "completed"
    },
    "tags": []
   },
   "outputs": [
    {
     "data": {
      "text/html": [
       "<div>\n",
       "<style scoped>\n",
       "    .dataframe tbody tr th:only-of-type {\n",
       "        vertical-align: middle;\n",
       "    }\n",
       "\n",
       "    .dataframe tbody tr th {\n",
       "        vertical-align: top;\n",
       "    }\n",
       "\n",
       "    .dataframe thead th {\n",
       "        text-align: right;\n",
       "    }\n",
       "</style>\n",
       "<table border=\"1\" class=\"dataframe\">\n",
       "  <thead>\n",
       "    <tr style=\"text-align: right;\">\n",
       "      <th></th>\n",
       "      <th>name</th>\n",
       "      <th>id</th>\n",
       "      <th>chr</th>\n",
       "      <th>band</th>\n",
       "      <th>start_position</th>\n",
       "      <th>end_position</th>\n",
       "      <th>gene_length</th>\n",
       "    </tr>\n",
       "  </thead>\n",
       "  <tbody>\n",
       "    <tr>\n",
       "      <th>0</th>\n",
       "      <td>FBXO34</td>\n",
       "      <td>ENSG00000178974</td>\n",
       "      <td>14</td>\n",
       "      <td>14q22.3</td>\n",
       "      <td>55271421</td>\n",
       "      <td>55361918</td>\n",
       "      <td>90497</td>\n",
       "    </tr>\n",
       "    <tr>\n",
       "      <th>1</th>\n",
       "      <td>ARG1</td>\n",
       "      <td>ENSG00000118520</td>\n",
       "      <td>6</td>\n",
       "      <td>6q23.2</td>\n",
       "      <td>131573144</td>\n",
       "      <td>131584332</td>\n",
       "      <td>11188</td>\n",
       "    </tr>\n",
       "    <tr>\n",
       "      <th>2</th>\n",
       "      <td>FADS2</td>\n",
       "      <td>ENSG00000134824</td>\n",
       "      <td>11</td>\n",
       "      <td>11q12.2</td>\n",
       "      <td>61792980</td>\n",
       "      <td>61867354</td>\n",
       "      <td>74374</td>\n",
       "    </tr>\n",
       "    <tr>\n",
       "      <th>3</th>\n",
       "      <td>CA4</td>\n",
       "      <td>ENSG00000167434</td>\n",
       "      <td>17</td>\n",
       "      <td>17q23.1</td>\n",
       "      <td>60149942</td>\n",
       "      <td>60170899</td>\n",
       "      <td>20957</td>\n",
       "    </tr>\n",
       "    <tr>\n",
       "      <th>4</th>\n",
       "      <td>PFKFB3</td>\n",
       "      <td>ENSG00000170525</td>\n",
       "      <td>10</td>\n",
       "      <td>10p15.1</td>\n",
       "      <td>6144934</td>\n",
       "      <td>6254644</td>\n",
       "      <td>109710</td>\n",
       "    </tr>\n",
       "  </tbody>\n",
       "</table>\n",
       "</div>"
      ],
      "text/plain": [
       "     name               id  chr     band  start_position  end_position  \\\n",
       "0  FBXO34  ENSG00000178974   14  14q22.3        55271421      55361918   \n",
       "1    ARG1  ENSG00000118520    6   6q23.2       131573144     131584332   \n",
       "2   FADS2  ENSG00000134824   11  11q12.2        61792980      61867354   \n",
       "3     CA4  ENSG00000167434   17  17q23.1        60149942      60170899   \n",
       "4  PFKFB3  ENSG00000170525   10  10p15.1         6144934       6254644   \n",
       "\n",
       "   gene_length  \n",
       "0        90497  \n",
       "1        11188  \n",
       "2        74374  \n",
       "3        20957  \n",
       "4       109710  "
      ]
     },
     "execution_count": 21,
     "metadata": {},
     "output_type": "execute_result"
    }
   ],
   "source": [
    "genes_info.head()"
   ]
  },
  {
   "cell_type": "markdown",
   "id": "d3843e06",
   "metadata": {
    "papermill": {
     "duration": 0.012751,
     "end_time": "2022-08-27T06:01:29.139959",
     "exception": false,
     "start_time": "2022-08-27T06:01:29.127208",
     "status": "completed"
    },
    "tags": []
   },
   "source": [
    "# Compute correlations"
   ]
  },
  {
   "cell_type": "code",
   "execution_count": 22,
   "id": "cb859c15-d1f3-4006-a74c-2b83c0db9611",
   "metadata": {
    "execution": {
     "iopub.execute_input": "2022-08-27T06:01:29.166263Z",
     "iopub.status.busy": "2022-08-27T06:01:29.166031Z",
     "iopub.status.idle": "2022-08-27T06:01:29.185850Z",
     "shell.execute_reply": "2022-08-27T06:01:29.185357Z"
    },
    "papermill": {
     "duration": 0.033881,
     "end_time": "2022-08-27T06:01:29.187357",
     "exception": false,
     "start_time": "2022-08-27T06:01:29.153476",
     "status": "completed"
    },
    "tags": []
   },
   "outputs": [
    {
     "data": {
      "text/plain": [
       "PosixPath('/project/ritchie20/projects/phenoplier/base/results/gls/gene_corrs/cohorts/phenomexcan_astle/gtex_v8/mashr/by_chr/gene_corrs-chr13.pkl')"
      ]
     },
     "metadata": {},
     "output_type": "display_data"
    }
   ],
   "source": [
    "output_dir = OUTPUT_DIR_BASE / \"by_chr\"\n",
    "output_dir.mkdir(exist_ok=True, parents=True)\n",
    "output_file = output_dir / f\"gene_corrs-chr{CHROMOSOME}.pkl\"\n",
    "display(output_file)"
   ]
  },
  {
   "cell_type": "code",
   "execution_count": 23,
   "id": "aa674fe4-6794-4eed-98fa-32b39d1d4ace",
   "metadata": {
    "execution": {
     "iopub.execute_input": "2022-08-27T06:01:29.220627Z",
     "iopub.status.busy": "2022-08-27T06:01:29.220435Z",
     "iopub.status.idle": "2022-08-27T06:01:29.236545Z",
     "shell.execute_reply": "2022-08-27T06:01:29.236018Z"
    },
    "papermill": {
     "duration": 0.034392,
     "end_time": "2022-08-27T06:01:29.238153",
     "exception": false,
     "start_time": "2022-08-27T06:01:29.203761",
     "status": "completed"
    },
    "tags": []
   },
   "outputs": [],
   "source": [
    "warnings.filterwarnings(\"error\")"
   ]
  },
  {
   "cell_type": "code",
   "execution_count": 24,
   "id": "44d5450b-3baf-43f1-9e2e-4b06f1a785f8",
   "metadata": {
    "execution": {
     "iopub.execute_input": "2022-08-27T06:01:29.284256Z",
     "iopub.status.busy": "2022-08-27T06:01:29.284022Z",
     "iopub.status.idle": "2022-08-27T06:01:29.300833Z",
     "shell.execute_reply": "2022-08-27T06:01:29.300340Z"
    },
    "papermill": {
     "duration": 0.040029,
     "end_time": "2022-08-27T06:01:29.302462",
     "exception": false,
     "start_time": "2022-08-27T06:01:29.262433",
     "status": "completed"
    },
    "tags": []
   },
   "outputs": [],
   "source": [
    "# standard checks\n",
    "all_chrs = genes_info[\"chr\"].dropna().unique()\n",
    "assert all_chrs.shape[0] == 22\n",
    "\n",
    "# select chromosome given by the user\n",
    "assert CHROMOSOME in all_chrs"
   ]
  },
  {
   "cell_type": "code",
   "execution_count": 25,
   "id": "2d7c043c-92a7-4d35-991b-fa69ac1e0268",
   "metadata": {
    "execution": {
     "iopub.execute_input": "2022-08-27T06:01:29.340011Z",
     "iopub.status.busy": "2022-08-27T06:01:29.339787Z",
     "iopub.status.idle": "2022-08-27T06:01:29.402114Z",
     "shell.execute_reply": "2022-08-27T06:01:29.401540Z"
    },
    "papermill": {
     "duration": 0.089132,
     "end_time": "2022-08-27T06:01:29.403770",
     "exception": false,
     "start_time": "2022-08-27T06:01:29.314638",
     "status": "completed"
    },
    "tags": []
   },
   "outputs": [
    {
     "name": "stdout",
     "output_type": "stream",
     "text": [
      "Number of genes in chromosome: 118\n"
     ]
    }
   ],
   "source": [
    "# run only on the chromosome specified\n",
    "all_chrs = [CHROMOSOME]\n",
    "genes_chr = genes_info[genes_info[\"chr\"] == CHROMOSOME]\n",
    "\n",
    "# For testing purposes\n",
    "# genes_chr = genes_chr.sample(n=20)\n",
    "\n",
    "print(f\"Number of genes in chromosome: {genes_chr.shape[0]}\", flush=True)"
   ]
  },
  {
   "cell_type": "code",
   "execution_count": 26,
   "id": "916015d8-2979-46d3-a9b9-1cf5a0932c6a",
   "metadata": {
    "execution": {
     "iopub.execute_input": "2022-08-27T06:01:29.448177Z",
     "iopub.status.busy": "2022-08-27T06:01:29.447949Z",
     "iopub.status.idle": "2022-08-27T06:01:29.466538Z",
     "shell.execute_reply": "2022-08-27T06:01:29.465979Z"
    },
    "papermill": {
     "duration": 0.04615,
     "end_time": "2022-08-27T06:01:29.468154",
     "exception": false,
     "start_time": "2022-08-27T06:01:29.422004",
     "status": "completed"
    },
    "tags": []
   },
   "outputs": [],
   "source": [
    "# sort genes by starting position to make visualizations better later\n",
    "genes_chr = genes_chr.sort_values(\"start_position\")"
   ]
  },
  {
   "cell_type": "code",
   "execution_count": 27,
   "id": "a38aa74a-8ad3-47f6-8ef9-56be0e011774",
   "metadata": {
    "execution": {
     "iopub.execute_input": "2022-08-27T06:01:29.500820Z",
     "iopub.status.busy": "2022-08-27T06:01:29.500625Z",
     "iopub.status.idle": "2022-08-27T06:01:29.518558Z",
     "shell.execute_reply": "2022-08-27T06:01:29.518005Z"
    },
    "papermill": {
     "duration": 0.038141,
     "end_time": "2022-08-27T06:01:29.520234",
     "exception": false,
     "start_time": "2022-08-27T06:01:29.482093",
     "status": "completed"
    },
    "tags": []
   },
   "outputs": [],
   "source": [
    "gene_chr_objs = [Gene(ensembl_id=gene_id) for gene_id in genes_chr[\"id\"]]"
   ]
  },
  {
   "cell_type": "code",
   "execution_count": 28,
   "id": "570f974f-13c3-42b6-ad3a-ce99ca885c1a",
   "metadata": {
    "execution": {
     "iopub.execute_input": "2022-08-27T06:01:29.552384Z",
     "iopub.status.busy": "2022-08-27T06:01:29.552160Z",
     "iopub.status.idle": "2022-08-27T06:01:29.569703Z",
     "shell.execute_reply": "2022-08-27T06:01:29.569204Z"
    },
    "papermill": {
     "duration": 0.03635,
     "end_time": "2022-08-27T06:01:29.571325",
     "exception": false,
     "start_time": "2022-08-27T06:01:29.534975",
     "status": "completed"
    },
    "tags": []
   },
   "outputs": [
    {
     "name": "stdout",
     "output_type": "stream",
     "text": [
      "Number of gene combinations: 6903\n"
     ]
    }
   ],
   "source": [
    "n = len(gene_chr_objs)\n",
    "n_comb = int(n * (n - 1) / 2.0)\n",
    "print(f\"Number of gene combinations: {n_comb}\", flush=True)"
   ]
  },
  {
   "cell_type": "code",
   "execution_count": 29,
   "id": "cdbb90a1",
   "metadata": {
    "execution": {
     "iopub.execute_input": "2022-08-27T06:01:29.601922Z",
     "iopub.status.busy": "2022-08-27T06:01:29.601704Z",
     "iopub.status.idle": "2022-08-27T06:11:04.744243Z",
     "shell.execute_reply": "2022-08-27T06:11:04.743346Z"
    },
    "papermill": {
     "duration": 575.159643,
     "end_time": "2022-08-27T06:11:04.746441",
     "exception": false,
     "start_time": "2022-08-27T06:01:29.586798",
     "status": "completed"
    },
    "tags": []
   },
   "outputs": [
    {
     "name": "stderr",
     "output_type": "stream",
     "text": [
      "ENSG00000169062 / ENSG00000169062: : 7021it [09:35, 12.21it/s]\n"
     ]
    },
    {
     "data": {
      "text/plain": [
       "PosixPath('/project/ritchie20/projects/phenoplier/base/results/gls/gene_corrs/cohorts/phenomexcan_astle/gtex_v8/mashr/by_chr/gene_corrs-chr13.pkl')"
      ]
     },
     "metadata": {},
     "output_type": "display_data"
    }
   ],
   "source": [
    "gene_corrs = []\n",
    "gene_corrs_data = np.full(\n",
    "    (n, n),\n",
    "    np.nan,\n",
    "    dtype=np.float64,\n",
    ")\n",
    "\n",
    "i = 0\n",
    "with tqdm(ncols=100, total=n_comb) as pbar:\n",
    "    for gene1_idx in range(0, len(gene_chr_objs)):\n",
    "        gene1_obj = gene_chr_objs[gene1_idx]\n",
    "        gene1_tissues = spredixcan_genes_models.loc[gene1_obj.ensembl_id, \"tissue\"]\n",
    "\n",
    "        for gene2_idx in range(gene1_idx, len(gene_chr_objs)):\n",
    "            gene2_obj = gene_chr_objs[gene2_idx]\n",
    "            gene2_tissues = spredixcan_genes_models.loc[gene2_obj.ensembl_id, \"tissue\"]\n",
    "\n",
    "            pbar.set_description(f\"{gene1_obj.ensembl_id} / {gene2_obj.ensembl_id}\")\n",
    "\n",
    "            try:\n",
    "                r = gene1_obj.get_ssm_correlation(\n",
    "                    other_gene=gene2_obj,\n",
    "                    tissues=gene1_tissues,\n",
    "                    other_tissues=gene2_tissues,\n",
    "                    snps_subset=gwas_variants_ids_set,\n",
    "                    condition_number=SMULTIXCAN_CONDITION_NUMBER,\n",
    "                    reference_panel=REFERENCE_PANEL,\n",
    "                    model_type=EQTL_MODEL,\n",
    "                    use_within_distance=COMPUTE_CORRELATIONS_WITHIN_DISTANCE,\n",
    "                )\n",
    "\n",
    "                if r is None:\n",
    "                    # if r is None, it's very likely because:\n",
    "                    #  * one of the genes has no prediction models\n",
    "                    #  * all the SNPs predictors for the gene are not present in the reference\n",
    "                    #    panel\n",
    "\n",
    "                    r = 0.0\n",
    "\n",
    "                gene_corrs.append(r)\n",
    "\n",
    "                gene_corrs_data[gene1_idx, gene2_idx] = r\n",
    "                gene_corrs_data[gene2_idx, gene1_idx] = r\n",
    "            except Warning as e:\n",
    "                if not DEBUG_MODE:\n",
    "                    raise e\n",
    "\n",
    "                print(\n",
    "                    f\"RuntimeWarning for genes {gene1_obj.ensembl_id} and {gene2_obj.ensembl_id}\",\n",
    "                    flush=True,\n",
    "                )\n",
    "                print(traceback.format_exc(), flush=True)\n",
    "\n",
    "                gene_corrs.append(np.nan)\n",
    "            except Exception as e:\n",
    "                if not DEBUG_MODE:\n",
    "                    raise e\n",
    "\n",
    "                print(\n",
    "                    f\"Exception for genes {gene1_obj.ensembl_id} and {gene2_obj.ensembl_id}\",\n",
    "                    flush=True,\n",
    "                )\n",
    "                print(traceback.format_exc(), flush=True)\n",
    "\n",
    "                gene_corrs.append(np.nan)\n",
    "\n",
    "            pbar.update(1)\n",
    "\n",
    "# create a pandas series\n",
    "gene_corrs_flat = pd.Series(gene_corrs)\n",
    "\n",
    "# save\n",
    "# FIXME: consider saving only the condenced matrix here. See here for\n",
    "# more details: https://github.com/greenelab/phenoplier/pull/38#discussion_r634600813\n",
    "# gene_corrs_data = squareform(np.array(gene_corrs, dtype=np.float64))\n",
    "# np.fill_diagonal(gene_corrs_data, 1.0)\n",
    "\n",
    "gene_chr_ids = [g.ensembl_id for g in gene_chr_objs]\n",
    "gene_corrs_df = pd.DataFrame(\n",
    "    data=gene_corrs_data,\n",
    "    index=gene_chr_ids,\n",
    "    columns=gene_chr_ids,\n",
    ")\n",
    "\n",
    "output_dir.mkdir(exist_ok=True, parents=True)\n",
    "display(output_file)\n",
    "\n",
    "gene_corrs_df.to_pickle(output_file)"
   ]
  },
  {
   "cell_type": "markdown",
   "id": "faa67b51-5373-470f-aa72-2ded53fa6dfe",
   "metadata": {
    "papermill": {
     "duration": 0.43718,
     "end_time": "2022-08-27T06:11:05.595468",
     "exception": false,
     "start_time": "2022-08-27T06:11:05.158288",
     "status": "completed"
    },
    "tags": []
   },
   "source": [
    "# Testing"
   ]
  },
  {
   "cell_type": "code",
   "execution_count": 30,
   "id": "14f7d046-4b55-4896-a56b-990127bcc388",
   "metadata": {
    "execution": {
     "iopub.execute_input": "2022-08-27T06:11:06.425716Z",
     "iopub.status.busy": "2022-08-27T06:11:06.425443Z",
     "iopub.status.idle": "2022-08-27T06:11:06.682048Z",
     "shell.execute_reply": "2022-08-27T06:11:06.681509Z"
    },
    "papermill": {
     "duration": 0.685759,
     "end_time": "2022-08-27T06:11:06.683592",
     "exception": false,
     "start_time": "2022-08-27T06:11:05.997833",
     "status": "completed"
    },
    "tags": []
   },
   "outputs": [
    {
     "data": {
      "text/plain": [
       "(118, 118)"
      ]
     },
     "execution_count": 30,
     "metadata": {},
     "output_type": "execute_result"
    }
   ],
   "source": [
    "gene_corrs_df.shape"
   ]
  },
  {
   "cell_type": "code",
   "execution_count": 31,
   "id": "c7d15414-3297-4537-a7c6-7588c0baeb75",
   "metadata": {
    "execution": {
     "iopub.execute_input": "2022-08-27T06:11:07.509075Z",
     "iopub.status.busy": "2022-08-27T06:11:07.508761Z",
     "iopub.status.idle": "2022-08-27T06:11:07.545712Z",
     "shell.execute_reply": "2022-08-27T06:11:07.545191Z"
    },
    "papermill": {
     "duration": 0.463628,
     "end_time": "2022-08-27T06:11:07.547291",
     "exception": false,
     "start_time": "2022-08-27T06:11:07.083663",
     "status": "completed"
    },
    "tags": []
   },
   "outputs": [
    {
     "data": {
      "text/html": [
       "<div>\n",
       "<style scoped>\n",
       "    .dataframe tbody tr th:only-of-type {\n",
       "        vertical-align: middle;\n",
       "    }\n",
       "\n",
       "    .dataframe tbody tr th {\n",
       "        vertical-align: top;\n",
       "    }\n",
       "\n",
       "    .dataframe thead th {\n",
       "        text-align: right;\n",
       "    }\n",
       "</style>\n",
       "<table border=\"1\" class=\"dataframe\">\n",
       "  <thead>\n",
       "    <tr style=\"text-align: right;\">\n",
       "      <th></th>\n",
       "      <th>ENSG00000121741</th>\n",
       "      <th>ENSG00000121743</th>\n",
       "      <th>ENSG00000121742</th>\n",
       "      <th>ENSG00000032742</th>\n",
       "      <th>ENSG00000150457</th>\n",
       "      <th>ENSG00000150459</th>\n",
       "      <th>ENSG00000102678</th>\n",
       "      <th>ENSG00000127863</th>\n",
       "      <th>ENSG00000228741</th>\n",
       "      <th>ENSG00000102699</th>\n",
       "      <th>...</th>\n",
       "      <th>ENSG00000126217</th>\n",
       "      <th>ENSG00000057593</th>\n",
       "      <th>ENSG00000126231</th>\n",
       "      <th>ENSG00000139842</th>\n",
       "      <th>ENSG00000185896</th>\n",
       "      <th>ENSG00000198176</th>\n",
       "      <th>ENSG00000183087</th>\n",
       "      <th>ENSG00000185989</th>\n",
       "      <th>ENSG00000130177</th>\n",
       "      <th>ENSG00000169062</th>\n",
       "    </tr>\n",
       "  </thead>\n",
       "  <tbody>\n",
       "    <tr>\n",
       "      <th>ENSG00000121741</th>\n",
       "      <td>1.000000</td>\n",
       "      <td>0.012097</td>\n",
       "      <td>0.010611</td>\n",
       "      <td>0.002913</td>\n",
       "      <td>0.002772</td>\n",
       "      <td>0.002715</td>\n",
       "      <td>0.003777</td>\n",
       "      <td>0.008712</td>\n",
       "      <td>0.008212</td>\n",
       "      <td>0.005306</td>\n",
       "      <td>...</td>\n",
       "      <td>0.002273</td>\n",
       "      <td>0.002316</td>\n",
       "      <td>0.004024</td>\n",
       "      <td>0.002655</td>\n",
       "      <td>0.003584</td>\n",
       "      <td>0.005325</td>\n",
       "      <td>0.005457</td>\n",
       "      <td>0.004928</td>\n",
       "      <td>0.000120</td>\n",
       "      <td>0.002413</td>\n",
       "    </tr>\n",
       "    <tr>\n",
       "      <th>ENSG00000121743</th>\n",
       "      <td>0.012097</td>\n",
       "      <td>1.000000</td>\n",
       "      <td>0.027526</td>\n",
       "      <td>0.009339</td>\n",
       "      <td>0.013014</td>\n",
       "      <td>0.006677</td>\n",
       "      <td>0.005292</td>\n",
       "      <td>0.008399</td>\n",
       "      <td>0.006535</td>\n",
       "      <td>0.006577</td>\n",
       "      <td>...</td>\n",
       "      <td>0.014572</td>\n",
       "      <td>0.004869</td>\n",
       "      <td>0.004806</td>\n",
       "      <td>0.005822</td>\n",
       "      <td>0.007454</td>\n",
       "      <td>0.009804</td>\n",
       "      <td>0.012113</td>\n",
       "      <td>0.008139</td>\n",
       "      <td>0.003269</td>\n",
       "      <td>0.008925</td>\n",
       "    </tr>\n",
       "    <tr>\n",
       "      <th>ENSG00000121742</th>\n",
       "      <td>0.010611</td>\n",
       "      <td>0.027526</td>\n",
       "      <td>1.000000</td>\n",
       "      <td>0.010526</td>\n",
       "      <td>0.004309</td>\n",
       "      <td>0.006239</td>\n",
       "      <td>0.006270</td>\n",
       "      <td>0.011896</td>\n",
       "      <td>0.009944</td>\n",
       "      <td>0.005128</td>\n",
       "      <td>...</td>\n",
       "      <td>0.008928</td>\n",
       "      <td>0.004119</td>\n",
       "      <td>0.009162</td>\n",
       "      <td>0.009611</td>\n",
       "      <td>0.009891</td>\n",
       "      <td>0.007001</td>\n",
       "      <td>0.008803</td>\n",
       "      <td>0.010102</td>\n",
       "      <td>0.001320</td>\n",
       "      <td>0.005237</td>\n",
       "    </tr>\n",
       "    <tr>\n",
       "      <th>ENSG00000032742</th>\n",
       "      <td>0.002913</td>\n",
       "      <td>0.009339</td>\n",
       "      <td>0.010526</td>\n",
       "      <td>1.000000</td>\n",
       "      <td>0.017365</td>\n",
       "      <td>0.008454</td>\n",
       "      <td>0.005574</td>\n",
       "      <td>0.006960</td>\n",
       "      <td>0.008102</td>\n",
       "      <td>0.007006</td>\n",
       "      <td>...</td>\n",
       "      <td>0.008673</td>\n",
       "      <td>0.005617</td>\n",
       "      <td>0.005969</td>\n",
       "      <td>0.005758</td>\n",
       "      <td>0.005553</td>\n",
       "      <td>0.004665</td>\n",
       "      <td>0.006509</td>\n",
       "      <td>0.006436</td>\n",
       "      <td>0.003023</td>\n",
       "      <td>0.009008</td>\n",
       "    </tr>\n",
       "    <tr>\n",
       "      <th>ENSG00000150457</th>\n",
       "      <td>0.002772</td>\n",
       "      <td>0.013014</td>\n",
       "      <td>0.004309</td>\n",
       "      <td>0.017365</td>\n",
       "      <td>1.000000</td>\n",
       "      <td>0.003355</td>\n",
       "      <td>0.009925</td>\n",
       "      <td>0.014761</td>\n",
       "      <td>0.005899</td>\n",
       "      <td>0.005084</td>\n",
       "      <td>...</td>\n",
       "      <td>0.008614</td>\n",
       "      <td>0.005953</td>\n",
       "      <td>0.005296</td>\n",
       "      <td>0.005839</td>\n",
       "      <td>0.005654</td>\n",
       "      <td>0.006113</td>\n",
       "      <td>0.009551</td>\n",
       "      <td>0.005073</td>\n",
       "      <td>0.000634</td>\n",
       "      <td>0.003519</td>\n",
       "    </tr>\n",
       "  </tbody>\n",
       "</table>\n",
       "<p>5 rows × 118 columns</p>\n",
       "</div>"
      ],
      "text/plain": [
       "                 ENSG00000121741  ENSG00000121743  ENSG00000121742  \\\n",
       "ENSG00000121741         1.000000         0.012097         0.010611   \n",
       "ENSG00000121743         0.012097         1.000000         0.027526   \n",
       "ENSG00000121742         0.010611         0.027526         1.000000   \n",
       "ENSG00000032742         0.002913         0.009339         0.010526   \n",
       "ENSG00000150457         0.002772         0.013014         0.004309   \n",
       "\n",
       "                 ENSG00000032742  ENSG00000150457  ENSG00000150459  \\\n",
       "ENSG00000121741         0.002913         0.002772         0.002715   \n",
       "ENSG00000121743         0.009339         0.013014         0.006677   \n",
       "ENSG00000121742         0.010526         0.004309         0.006239   \n",
       "ENSG00000032742         1.000000         0.017365         0.008454   \n",
       "ENSG00000150457         0.017365         1.000000         0.003355   \n",
       "\n",
       "                 ENSG00000102678  ENSG00000127863  ENSG00000228741  \\\n",
       "ENSG00000121741         0.003777         0.008712         0.008212   \n",
       "ENSG00000121743         0.005292         0.008399         0.006535   \n",
       "ENSG00000121742         0.006270         0.011896         0.009944   \n",
       "ENSG00000032742         0.005574         0.006960         0.008102   \n",
       "ENSG00000150457         0.009925         0.014761         0.005899   \n",
       "\n",
       "                 ENSG00000102699  ...  ENSG00000126217  ENSG00000057593  \\\n",
       "ENSG00000121741         0.005306  ...         0.002273         0.002316   \n",
       "ENSG00000121743         0.006577  ...         0.014572         0.004869   \n",
       "ENSG00000121742         0.005128  ...         0.008928         0.004119   \n",
       "ENSG00000032742         0.007006  ...         0.008673         0.005617   \n",
       "ENSG00000150457         0.005084  ...         0.008614         0.005953   \n",
       "\n",
       "                 ENSG00000126231  ENSG00000139842  ENSG00000185896  \\\n",
       "ENSG00000121741         0.004024         0.002655         0.003584   \n",
       "ENSG00000121743         0.004806         0.005822         0.007454   \n",
       "ENSG00000121742         0.009162         0.009611         0.009891   \n",
       "ENSG00000032742         0.005969         0.005758         0.005553   \n",
       "ENSG00000150457         0.005296         0.005839         0.005654   \n",
       "\n",
       "                 ENSG00000198176  ENSG00000183087  ENSG00000185989  \\\n",
       "ENSG00000121741         0.005325         0.005457         0.004928   \n",
       "ENSG00000121743         0.009804         0.012113         0.008139   \n",
       "ENSG00000121742         0.007001         0.008803         0.010102   \n",
       "ENSG00000032742         0.004665         0.006509         0.006436   \n",
       "ENSG00000150457         0.006113         0.009551         0.005073   \n",
       "\n",
       "                 ENSG00000130177  ENSG00000169062  \n",
       "ENSG00000121741         0.000120         0.002413  \n",
       "ENSG00000121743         0.003269         0.008925  \n",
       "ENSG00000121742         0.001320         0.005237  \n",
       "ENSG00000032742         0.003023         0.009008  \n",
       "ENSG00000150457         0.000634         0.003519  \n",
       "\n",
       "[5 rows x 118 columns]"
      ]
     },
     "execution_count": 31,
     "metadata": {},
     "output_type": "execute_result"
    }
   ],
   "source": [
    "gene_corrs_df.head()"
   ]
  },
  {
   "cell_type": "markdown",
   "id": "dad6603f-01c6-41fb-a6f6-241051207dd8",
   "metadata": {
    "papermill": {
     "duration": 0.432594,
     "end_time": "2022-08-27T06:11:08.397505",
     "exception": false,
     "start_time": "2022-08-27T06:11:07.964911",
     "status": "completed"
    },
    "tags": []
   },
   "source": [
    "## Standard checks and stats"
   ]
  },
  {
   "cell_type": "code",
   "execution_count": 32,
   "id": "286686af-1b7b-4440-8453-6bdcbd8de19c",
   "metadata": {
    "execution": {
     "iopub.execute_input": "2022-08-27T06:11:09.227072Z",
     "iopub.status.busy": "2022-08-27T06:11:09.226795Z",
     "iopub.status.idle": "2022-08-27T06:11:09.247118Z",
     "shell.execute_reply": "2022-08-27T06:11:09.246578Z"
    },
    "papermill": {
     "duration": 0.452469,
     "end_time": "2022-08-27T06:11:09.248752",
     "exception": false,
     "start_time": "2022-08-27T06:11:08.796283",
     "status": "completed"
    },
    "tags": []
   },
   "outputs": [],
   "source": [
    "assert not gene_corrs_df.isna().any().any()"
   ]
  },
  {
   "cell_type": "code",
   "execution_count": 33,
   "id": "00583efc-7068-4270-ad1e-4a418e91db96",
   "metadata": {
    "execution": {
     "iopub.execute_input": "2022-08-27T06:11:10.064844Z",
     "iopub.status.busy": "2022-08-27T06:11:10.064573Z",
     "iopub.status.idle": "2022-08-27T06:11:10.087419Z",
     "shell.execute_reply": "2022-08-27T06:11:10.086886Z"
    },
    "papermill": {
     "duration": 0.431572,
     "end_time": "2022-08-27T06:11:10.088954",
     "exception": false,
     "start_time": "2022-08-27T06:11:09.657382",
     "status": "completed"
    },
    "tags": []
   },
   "outputs": [
    {
     "data": {
      "text/plain": [
       "4.361751120732284e-06"
      ]
     },
     "metadata": {},
     "output_type": "display_data"
    }
   ],
   "source": [
    "_min_val = gene_corrs_df.min().min()\n",
    "display(_min_val)\n",
    "assert _min_val >= -0.05"
   ]
  },
  {
   "cell_type": "code",
   "execution_count": 34,
   "id": "d04fb2cf-1050-475b-b855-f5f7cc04092b",
   "metadata": {
    "execution": {
     "iopub.execute_input": "2022-08-27T06:11:10.946806Z",
     "iopub.status.busy": "2022-08-27T06:11:10.946534Z",
     "iopub.status.idle": "2022-08-27T06:11:10.968877Z",
     "shell.execute_reply": "2022-08-27T06:11:10.968337Z"
    },
    "papermill": {
     "duration": 0.437198,
     "end_time": "2022-08-27T06:11:10.970394",
     "exception": false,
     "start_time": "2022-08-27T06:11:10.533196",
     "status": "completed"
    },
    "tags": []
   },
   "outputs": [
    {
     "data": {
      "text/plain": [
       "1.0000000000000029"
      ]
     },
     "metadata": {},
     "output_type": "display_data"
    }
   ],
   "source": [
    "_max_val = gene_corrs_df.max().max()  # this captures the diagonal\n",
    "display(_max_val)\n",
    "assert _max_val <= 1.05"
   ]
  },
  {
   "cell_type": "code",
   "execution_count": 35,
   "id": "96d02c44-1fba-47be-8a93-8f2608420b9c",
   "metadata": {
    "execution": {
     "iopub.execute_input": "2022-08-27T06:11:11.813386Z",
     "iopub.status.busy": "2022-08-27T06:11:11.813110Z",
     "iopub.status.idle": "2022-08-27T06:11:11.832463Z",
     "shell.execute_reply": "2022-08-27T06:11:11.831941Z"
    },
    "papermill": {
     "duration": 0.436915,
     "end_time": "2022-08-27T06:11:11.834181",
     "exception": false,
     "start_time": "2022-08-27T06:11:11.397266",
     "status": "completed"
    },
    "tags": []
   },
   "outputs": [],
   "source": [
    "# check upper triangular values\n",
    "# assert len(gene_corrs) == int(genes_chr.shape[0] * (genes_chr.shape[0] - 1) / 2)"
   ]
  },
  {
   "cell_type": "code",
   "execution_count": 36,
   "id": "fe283586-c348-40e0-8841-f6d97bfb021c",
   "metadata": {
    "execution": {
     "iopub.execute_input": "2022-08-27T06:11:12.670464Z",
     "iopub.status.busy": "2022-08-27T06:11:12.670193Z",
     "iopub.status.idle": "2022-08-27T06:11:12.695018Z",
     "shell.execute_reply": "2022-08-27T06:11:12.694465Z"
    },
    "papermill": {
     "duration": 0.425604,
     "end_time": "2022-08-27T06:11:12.696568",
     "exception": false,
     "start_time": "2022-08-27T06:11:12.270964",
     "status": "completed"
    },
    "tags": []
   },
   "outputs": [
    {
     "data": {
      "text/plain": [
       "count    7021.000000\n",
       "mean        0.026601\n",
       "std         0.132057\n",
       "min         0.000004\n",
       "25%         0.004540\n",
       "50%         0.006660\n",
       "75%         0.009228\n",
       "max         1.000000\n",
       "dtype: float64"
      ]
     },
     "execution_count": 36,
     "metadata": {},
     "output_type": "execute_result"
    }
   ],
   "source": [
    "gene_corrs_flat.describe()"
   ]
  },
  {
   "cell_type": "code",
   "execution_count": 37,
   "id": "b3815678-0f93-4b35-897b-a9d047a2aa78",
   "metadata": {
    "execution": {
     "iopub.execute_input": "2022-08-27T06:11:13.518636Z",
     "iopub.status.busy": "2022-08-27T06:11:13.518370Z",
     "iopub.status.idle": "2022-08-27T06:11:13.542426Z",
     "shell.execute_reply": "2022-08-27T06:11:13.541900Z"
    },
    "papermill": {
     "duration": 0.421747,
     "end_time": "2022-08-27T06:11:13.543915",
     "exception": false,
     "start_time": "2022-08-27T06:11:13.122168",
     "status": "completed"
    },
    "tags": []
   },
   "outputs": [
    {
     "data": {
      "text/plain": [
       "0.00    0.000004\n",
       "0.05    0.002061\n",
       "0.10    0.002954\n",
       "0.15    0.003554\n",
       "0.20    0.004074\n",
       "0.25    0.004540\n",
       "0.30    0.005024\n",
       "0.35    0.005431\n",
       "0.40    0.005853\n",
       "0.45    0.006258\n",
       "0.50    0.006660\n",
       "0.55    0.007127\n",
       "0.60    0.007588\n",
       "0.65    0.008056\n",
       "0.70    0.008596\n",
       "0.75    0.009228\n",
       "0.80    0.009870\n",
       "0.85    0.010769\n",
       "0.90    0.011991\n",
       "0.95    0.014429\n",
       "dtype: float64"
      ]
     },
     "metadata": {},
     "output_type": "display_data"
    }
   ],
   "source": [
    "gene_corrs_quantiles = gene_corrs_flat.quantile(np.arange(0, 1, 0.05))\n",
    "display(gene_corrs_quantiles)"
   ]
  },
  {
   "cell_type": "markdown",
   "id": "87134509-b145-4a10-8bc9-b7e914c2b0fa",
   "metadata": {
    "papermill": {
     "duration": 0.395806,
     "end_time": "2022-08-27T06:11:14.364012",
     "exception": false,
     "start_time": "2022-08-27T06:11:13.968206",
     "status": "completed"
    },
    "tags": []
   },
   "source": [
    "## Positive definiteness"
   ]
  },
  {
   "cell_type": "code",
   "execution_count": 38,
   "id": "07d9a9a1-a4f7-48aa-b916-6d42a8cc6186",
   "metadata": {
    "execution": {
     "iopub.execute_input": "2022-08-27T06:11:15.184380Z",
     "iopub.status.busy": "2022-08-27T06:11:15.184082Z",
     "iopub.status.idle": "2022-08-27T06:11:15.210371Z",
     "shell.execute_reply": "2022-08-27T06:11:15.209816Z"
    },
    "papermill": {
     "duration": 0.45212,
     "end_time": "2022-08-27T06:11:15.211841",
     "exception": false,
     "start_time": "2022-08-27T06:11:14.759721",
     "status": "completed"
    },
    "tags": []
   },
   "outputs": [
    {
     "data": {
      "text/plain": [
       "0"
      ]
     },
     "metadata": {},
     "output_type": "display_data"
    },
    {
     "data": {
      "text/plain": [
       "array([], dtype=float64)"
      ]
     },
     "metadata": {},
     "output_type": "display_data"
    }
   ],
   "source": [
    "# print negative eigenvalues\n",
    "eigs = np.linalg.eigvals(gene_corrs_df.to_numpy())\n",
    "display(len(eigs[eigs < 0]))\n",
    "display(eigs[eigs < 0])"
   ]
  },
  {
   "cell_type": "code",
   "execution_count": 39,
   "id": "6e218436-c3c5-4028-8c94-a4fa6260efce",
   "metadata": {
    "execution": {
     "iopub.execute_input": "2022-08-27T06:11:16.033203Z",
     "iopub.status.busy": "2022-08-27T06:11:16.032914Z",
     "iopub.status.idle": "2022-08-27T06:11:16.055561Z",
     "shell.execute_reply": "2022-08-27T06:11:16.055009Z"
    },
    "papermill": {
     "duration": 0.448372,
     "end_time": "2022-08-27T06:11:16.057245",
     "exception": false,
     "start_time": "2022-08-27T06:11:15.608873",
     "status": "completed"
    },
    "tags": []
   },
   "outputs": [
    {
     "name": "stdout",
     "output_type": "stream",
     "text": [
      "Works!\n"
     ]
    }
   ],
   "source": [
    "try:\n",
    "    chol_mat = np.linalg.cholesky(gene_corrs_df.to_numpy())\n",
    "    cov_inv = np.linalg.inv(chol_mat)\n",
    "    print(\"Works!\")\n",
    "except Exception as e:\n",
    "    print(f\"Cholesky decomposition failed: {str(e)}\")"
   ]
  },
  {
   "cell_type": "code",
   "execution_count": 40,
   "id": "dd8827fb-faf9-4c7c-9454-015e94752706",
   "metadata": {
    "execution": {
     "iopub.execute_input": "2022-08-27T06:11:16.896869Z",
     "iopub.status.busy": "2022-08-27T06:11:16.896591Z",
     "iopub.status.idle": "2022-08-27T06:11:16.923391Z",
     "shell.execute_reply": "2022-08-27T06:11:16.922849Z"
    },
    "papermill": {
     "duration": 0.459217,
     "end_time": "2022-08-27T06:11:16.924926",
     "exception": false,
     "start_time": "2022-08-27T06:11:16.465709",
     "status": "completed"
    },
    "tags": []
   },
   "outputs": [
    {
     "name": "stdout",
     "output_type": "stream",
     "text": [
      "Works!\n"
     ]
    }
   ],
   "source": [
    "try:\n",
    "    # decomposition used by statsmodels.GLS\n",
    "    cholsigmainv = np.linalg.cholesky(np.linalg.inv(gene_corrs_df.to_numpy())).T\n",
    "    print(\"Works!\")\n",
    "except Exception as e:\n",
    "    print(f\"Cholesky decomposition failed (statsmodels.GLS): {str(e)}\")"
   ]
  },
  {
   "cell_type": "markdown",
   "id": "8e60a080-edb2-4e9c-b2ef-22961693200c",
   "metadata": {
    "papermill": {
     "duration": 0.42976,
     "end_time": "2022-08-27T06:11:17.759953",
     "exception": false,
     "start_time": "2022-08-27T06:11:17.330193",
     "status": "completed"
    },
    "tags": []
   },
   "source": [
    "## Plot: distribution"
   ]
  },
  {
   "cell_type": "code",
   "execution_count": 41,
   "id": "8301126b-a7d4-4744-9c7d-f0f86eb6f54c",
   "metadata": {
    "execution": {
     "iopub.execute_input": "2022-08-27T06:11:18.585399Z",
     "iopub.status.busy": "2022-08-27T06:11:18.585127Z",
     "iopub.status.idle": "2022-08-27T06:11:23.217352Z",
     "shell.execute_reply": "2022-08-27T06:11:23.216762Z"
    },
    "papermill": {
     "duration": 5.061642,
     "end_time": "2022-08-27T06:11:23.219027",
     "exception": false,
     "start_time": "2022-08-27T06:11:18.157385",
     "status": "completed"
    },
    "tags": []
   },
   "outputs": [
    {
     "data": {
      "image/png": "[encoded data removed]",
      "text/plain": [
       "<Figure size 504x504 with 1 Axes>"
      ]
     },
     "metadata": {
      "needs_background": "light"
     },
     "output_type": "display_data"
    }
   ],
   "source": [
    "with sns.plotting_context(\"paper\", font_scale=1.5):\n",
    "    g = sns.displot(gene_corrs_flat, kde=True, height=7)\n",
    "    g.ax.set_title(\n",
    "        f\"Distribution of gene correlation values in chromosome {CHROMOSOME}\"\n",
    "    )"
   ]
  },
  {
   "cell_type": "markdown",
   "id": "cbd52bca-d878-4a2f-b684-5c83aa3038d4",
   "metadata": {
    "papermill": {
     "duration": 0.397134,
     "end_time": "2022-08-27T06:11:24.015298",
     "exception": false,
     "start_time": "2022-08-27T06:11:23.618164",
     "status": "completed"
    },
    "tags": []
   },
   "source": [
    "## Plot: heatmap"
   ]
  },
  {
   "cell_type": "code",
   "execution_count": 42,
   "id": "d03fe63a-c7b2-4fb9-a53c-db362ce843c9",
   "metadata": {
    "execution": {
     "iopub.execute_input": "2022-08-27T06:11:24.829401Z",
     "iopub.status.busy": "2022-08-27T06:11:24.829105Z",
     "iopub.status.idle": "2022-08-27T06:11:24.852029Z",
     "shell.execute_reply": "2022-08-27T06:11:24.851491Z"
    },
    "papermill": {
     "duration": 0.419624,
     "end_time": "2022-08-27T06:11:24.853683",
     "exception": false,
     "start_time": "2022-08-27T06:11:24.434059",
     "status": "completed"
    },
    "tags": []
   },
   "outputs": [
    {
     "data": {
      "text/plain": [
       "'0.0 / 0.05'"
      ]
     },
     "metadata": {},
     "output_type": "display_data"
    }
   ],
   "source": [
    "vmin_val = min(0.00, gene_corrs_quantiles[0.10])\n",
    "vmax_val = max(0.05, gene_corrs_quantiles[0.90])\n",
    "display(f\"{vmin_val} / {vmax_val}\")"
   ]
  },
  {
   "cell_type": "code",
   "execution_count": 43,
   "id": "dc41b70b-5bcc-4d9e-9f33-a22c4a94dab5",
   "metadata": {
    "execution": {
     "iopub.execute_input": "2022-08-27T06:11:25.678803Z",
     "iopub.status.busy": "2022-08-27T06:11:25.678538Z",
     "iopub.status.idle": "2022-08-27T06:11:25.848346Z",
     "shell.execute_reply": "2022-08-27T06:11:25.847761Z"
    },
    "papermill": {
     "duration": 0.568257,
     "end_time": "2022-08-27T06:11:25.850030",
     "exception": false,
     "start_time": "2022-08-27T06:11:25.281773",
     "status": "completed"
    },
    "tags": []
   },
   "outputs": [
    {
     "data": {
      "text/plain": [
       "Text(0.5, 1.0, 'Gene correlations in chromosome 13')"
      ]
     },
     "execution_count": 43,
     "metadata": {},
     "output_type": "execute_result"
    },
    {
     "data": {
      "image/png": "[encoded data removed]",
      "text/plain": [
       "<Figure size 720x720 with 2 Axes>"
      ]
     },
     "metadata": {
      "needs_background": "light"
     },
     "output_type": "display_data"
    }
   ],
   "source": [
    "f, ax = plt.subplots(figsize=(10, 10))\n",
    "sns.heatmap(\n",
    "    gene_corrs_df,\n",
    "    xticklabels=False,\n",
    "    yticklabels=False,\n",
    "    square=True,\n",
    "    vmin=vmin_val,\n",
    "    vmax=vmax_val,\n",
    "    cmap=\"rocket_r\",\n",
    "    ax=ax,\n",
    ")\n",
    "ax.set_title(f\"Gene correlations in chromosome {CHROMOSOME}\")"
   ]
  },
  {
   "cell_type": "code",
   "execution_count": null,
   "id": "b25e3ead",
   "metadata": {
    "papermill": {
     "duration": 0.399907,
     "end_time": "2022-08-27T06:11:26.676583",
     "exception": false,
     "start_time": "2022-08-27T06:11:26.276676",
     "status": "completed"
    },
    "tags": []
   },
   "outputs": [],
   "source": []
  }
 ],
 "metadata": {
  "jupytext": {
   "cell_metadata_filter": "all,-execution,-papermill,-trusted",
   "formats": "ipynb,py//py:percent"
  },
  "kernelspec": {
   "display_name": "Python 3 (ipykernel)",
   "language": "python",
   "name": "python3"
  },
  "language_info": {
   "codemirror_mode": {
    "name": "ipython",
    "version": 3
   },
   "file_extension": ".py",
   "mimetype": "text/x-python",
   "name": "python",
   "nbconvert_exporter": "python",
   "pygments_lexer": "ipython3",
   "version": "3.8.13"
  },
  "papermill": {
   "default_parameters": {},
   "duration": 613.203806,
   "end_time": "2022-08-27T06:11:30.674652",
   "environment_variables": {},
   "exception": null,
   "input_path": "nbs/15_gsa_gls/10-gene_expr_correlations.ipynb",
   "output_path": "nbs/15_gsa_gls/gene_corrs/cohorts/phenomexcan_astle/gtex_v8/mashr/10-gene_expr_corrs/10-gene_expr_correlations-chr13.run.ipynb",
   "parameters": {
    "CHROMOSOME": 13,
    "COHORT_NAME": "phenomexcan_astle",
    "EQTL_MODEL": "MASHR",
    "REFERENCE_PANEL": "GTEX_V8"
   },
   "start_time": "2022-08-27T06:01:17.470846",
   "version": "2.2.2"
  }
 },
 "nbformat": 4,
 "nbformat_minor": 5
}
