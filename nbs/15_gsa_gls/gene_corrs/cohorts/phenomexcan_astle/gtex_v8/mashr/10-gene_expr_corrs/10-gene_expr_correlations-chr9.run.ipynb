{
 "cells": [
  {
   "cell_type": "markdown",
   "id": "7a6632fb",
   "metadata": {
    "papermill": {
     "duration": 0.011964,
     "end_time": "2022-08-27T06:01:19.370028",
     "exception": false,
     "start_time": "2022-08-27T06:01:19.358064",
     "status": "completed"
    },
    "tags": []
   },
   "source": [
    "# Description"
   ]
  },
  {
   "cell_type": "markdown",
   "id": "7097c346",
   "metadata": {
    "papermill": {
     "duration": 0.009446,
     "end_time": "2022-08-27T06:01:19.388784",
     "exception": false,
     "start_time": "2022-08-27T06:01:19.379338",
     "status": "completed"
    },
    "tags": []
   },
   "source": [
    "(Please, take a look at the README.md file in this directory for instructions on how to run this notebook)\n",
    "\n",
    "This notebook computes predicted expression correlations between all genes in the MultiPLIER models.\n",
    "\n",
    "It also has a parameter set for papermill to run on a single chromosome to run in parallel (see under `Settings` below).\n",
    "\n",
    "This notebook is not directly run. See README.md."
   ]
  },
  {
   "cell_type": "markdown",
   "id": "c61d8427",
   "metadata": {
    "papermill": {
     "duration": 0.009634,
     "end_time": "2022-08-27T06:01:19.407102",
     "exception": false,
     "start_time": "2022-08-27T06:01:19.397468",
     "status": "completed"
    },
    "tags": []
   },
   "source": [
    "# Modules"
   ]
  },
  {
   "cell_type": "code",
   "execution_count": 1,
   "id": "bbc0234f",
   "metadata": {
    "execution": {
     "iopub.execute_input": "2022-08-27T06:01:19.425545Z",
     "iopub.status.busy": "2022-08-27T06:01:19.425311Z",
     "iopub.status.idle": "2022-08-27T06:01:19.444301Z",
     "shell.execute_reply": "2022-08-27T06:01:19.443768Z"
    },
    "papermill": {
     "duration": 0.030137,
     "end_time": "2022-08-27T06:01:19.446119",
     "exception": false,
     "start_time": "2022-08-27T06:01:19.415982",
     "status": "completed"
    },
    "tags": []
   },
   "outputs": [],
   "source": [
    "%load_ext autoreload\n",
    "%autoreload 2"
   ]
  },
  {
   "cell_type": "code",
   "execution_count": 2,
   "id": "1d5f5a59",
   "metadata": {
    "execution": {
     "iopub.execute_input": "2022-08-27T06:01:19.470203Z",
     "iopub.status.busy": "2022-08-27T06:01:19.470001Z",
     "iopub.status.idle": "2022-08-27T06:01:21.282652Z",
     "shell.execute_reply": "2022-08-27T06:01:21.281974Z"
    },
    "papermill": {
     "duration": 1.826035,
     "end_time": "2022-08-27T06:01:21.284815",
     "exception": false,
     "start_time": "2022-08-27T06:01:19.458780",
     "status": "completed"
    },
    "tags": []
   },
   "outputs": [],
   "source": [
    "from random import sample, seed\n",
    "import warnings\n",
    "from pathlib import Path\n",
    "import pickle\n",
    "import traceback\n",
    "\n",
    "import numpy as np\n",
    "from scipy.spatial.distance import squareform\n",
    "import pandas as pd\n",
    "from tqdm import tqdm\n",
    "import matplotlib.pyplot as plt\n",
    "import seaborn as sns\n",
    "\n",
    "import conf\n",
    "from entity import Gene"
   ]
  },
  {
   "cell_type": "markdown",
   "id": "1eac24b5",
   "metadata": {
    "papermill": {
     "duration": 0.018635,
     "end_time": "2022-08-27T06:01:21.354810",
     "exception": false,
     "start_time": "2022-08-27T06:01:21.336175",
     "status": "completed"
    },
    "tags": []
   },
   "source": [
    "# Settings"
   ]
  },
  {
   "cell_type": "code",
   "execution_count": 3,
   "id": "ca4560ba",
   "metadata": {
    "execution": {
     "iopub.execute_input": "2022-08-27T06:01:21.403358Z",
     "iopub.status.busy": "2022-08-27T06:01:21.402929Z",
     "iopub.status.idle": "2022-08-27T06:01:21.435161Z",
     "shell.execute_reply": "2022-08-27T06:01:21.434394Z"
    },
    "papermill": {
     "duration": 0.066092,
     "end_time": "2022-08-27T06:01:21.437636",
     "exception": false,
     "start_time": "2022-08-27T06:01:21.371544",
     "status": "completed"
    },
    "tags": [
     "parameters"
    ]
   },
   "outputs": [],
   "source": [
    "# a cohort name (it could be something like UK_BIOBANK, etc)\n",
    "COHORT_NAME = None\n",
    "\n",
    "# reference panel such as 1000G or GTEX_V8\n",
    "REFERENCE_PANEL = None\n",
    "\n",
    "# predictions models such as MASHR or ELASTIC_NET\n",
    "EQTL_MODEL = None\n",
    "\n",
    "# this is the default value used in S-MultiXcan to select the\n",
    "# top principal components of the expression correlation matrix\n",
    "SMULTIXCAN_CONDITION_NUMBER = 30\n",
    "\n",
    "# specifies a single chromosome value\n",
    "CHROMOSOME = None\n",
    "\n",
    "# If True, computes the correlation between closeby genes only;\n",
    "# otherwise, it computes correlations for all genes in a chromosome\n",
    "COMPUTE_CORRELATIONS_WITHIN_DISTANCE = False\n",
    "\n",
    "# if True, then it will continue if a gene pair correlation fails,\n",
    "# printing the warning/error for debugging. If False, any warning/error\n",
    "# will be thrown\n",
    "DEBUG_MODE = False"
   ]
  },
  {
   "cell_type": "code",
   "execution_count": 4,
   "id": "fd7b26f4",
   "metadata": {
    "execution": {
     "iopub.execute_input": "2022-08-27T06:01:21.474617Z",
     "iopub.status.busy": "2022-08-27T06:01:21.474341Z",
     "iopub.status.idle": "2022-08-27T06:01:21.495933Z",
     "shell.execute_reply": "2022-08-27T06:01:21.495290Z"
    },
    "papermill": {
     "duration": 0.042405,
     "end_time": "2022-08-27T06:01:21.497955",
     "exception": false,
     "start_time": "2022-08-27T06:01:21.455550",
     "status": "completed"
    },
    "tags": [
     "injected-parameters"
    ]
   },
   "outputs": [],
   "source": [
    "# Parameters\n",
    "COHORT_NAME = \"phenomexcan_astle\"\n",
    "REFERENCE_PANEL = \"GTEX_V8\"\n",
    "EQTL_MODEL = \"MASHR\"\n",
    "CHROMOSOME = 9\n"
   ]
  },
  {
   "cell_type": "code",
   "execution_count": 5,
   "id": "3190631f-27fc-480f-b18e-571d580425a5",
   "metadata": {
    "execution": {
     "iopub.execute_input": "2022-08-27T06:01:21.553547Z",
     "iopub.status.busy": "2022-08-27T06:01:21.553327Z",
     "iopub.status.idle": "2022-08-27T06:01:21.574674Z",
     "shell.execute_reply": "2022-08-27T06:01:21.574130Z"
    },
    "papermill": {
     "duration": 0.043419,
     "end_time": "2022-08-27T06:01:21.576247",
     "exception": false,
     "start_time": "2022-08-27T06:01:21.532828",
     "status": "completed"
    },
    "tags": []
   },
   "outputs": [
    {
     "data": {
      "text/plain": [
       "'Cohort name: phenomexcan_astle'"
      ]
     },
     "metadata": {},
     "output_type": "display_data"
    }
   ],
   "source": [
    "assert COHORT_NAME is not None and len(COHORT_NAME) > 0, \"A cohort name must be given\"\n",
    "\n",
    "COHORT_NAME = COHORT_NAME.lower()\n",
    "display(f\"Cohort name: {COHORT_NAME}\")"
   ]
  },
  {
   "cell_type": "code",
   "execution_count": 6,
   "id": "f53ba19b-0f93-4fa2-a047-63b375939d1a",
   "metadata": {
    "execution": {
     "iopub.execute_input": "2022-08-27T06:01:21.627485Z",
     "iopub.status.busy": "2022-08-27T06:01:21.627274Z",
     "iopub.status.idle": "2022-08-27T06:01:21.645341Z",
     "shell.execute_reply": "2022-08-27T06:01:21.644825Z"
    },
    "papermill": {
     "duration": 0.041199,
     "end_time": "2022-08-27T06:01:21.646943",
     "exception": false,
     "start_time": "2022-08-27T06:01:21.605744",
     "status": "completed"
    },
    "tags": []
   },
   "outputs": [
    {
     "data": {
      "text/plain": [
       "'Reference panel: GTEX_V8'"
      ]
     },
     "metadata": {},
     "output_type": "display_data"
    }
   ],
   "source": [
    "assert (\n",
    "    REFERENCE_PANEL is not None and len(REFERENCE_PANEL) > 0\n",
    "), \"A reference panel must be given\"\n",
    "\n",
    "display(f\"Reference panel: {REFERENCE_PANEL}\")"
   ]
  },
  {
   "cell_type": "code",
   "execution_count": 7,
   "id": "e024d130-c139-429a-9c6e-ccf149e297b0",
   "metadata": {
    "execution": {
     "iopub.execute_input": "2022-08-27T06:01:21.699665Z",
     "iopub.status.busy": "2022-08-27T06:01:21.699426Z",
     "iopub.status.idle": "2022-08-27T06:01:21.719496Z",
     "shell.execute_reply": "2022-08-27T06:01:21.719002Z"
    },
    "papermill": {
     "duration": 0.053491,
     "end_time": "2022-08-27T06:01:21.721075",
     "exception": false,
     "start_time": "2022-08-27T06:01:21.667584",
     "status": "completed"
    },
    "tags": []
   },
   "outputs": [
    {
     "data": {
      "text/plain": [
       "'eQTL model: MASHR) / mashr_'"
      ]
     },
     "metadata": {},
     "output_type": "display_data"
    }
   ],
   "source": [
    "assert (\n",
    "    EQTL_MODEL is not None and len(EQTL_MODEL) > 0\n",
    "), \"A prediction/eQTL model must be given\"\n",
    "\n",
    "EQTL_MODEL_FILES_PREFIX = conf.PHENOMEXCAN[\"PREDICTION_MODELS\"][f\"{EQTL_MODEL}_PREFIX\"]\n",
    "display(f\"eQTL model: {EQTL_MODEL}) / {EQTL_MODEL_FILES_PREFIX}\")"
   ]
  },
  {
   "cell_type": "code",
   "execution_count": 8,
   "id": "552a7f63-a18c-4d3e-bb6a-94f99b431291",
   "metadata": {
    "execution": {
     "iopub.execute_input": "2022-08-27T06:01:21.764946Z",
     "iopub.status.busy": "2022-08-27T06:01:21.764708Z",
     "iopub.status.idle": "2022-08-27T06:01:21.786252Z",
     "shell.execute_reply": "2022-08-27T06:01:21.785716Z"
    },
    "papermill": {
     "duration": 0.041518,
     "end_time": "2022-08-27T06:01:21.787862",
     "exception": false,
     "start_time": "2022-08-27T06:01:21.746344",
     "status": "completed"
    },
    "tags": []
   },
   "outputs": [
    {
     "data": {
      "text/plain": [
       "'S-MultiXcan condition number: 30'"
      ]
     },
     "metadata": {},
     "output_type": "display_data"
    }
   ],
   "source": [
    "assert (\n",
    "    SMULTIXCAN_CONDITION_NUMBER is not None and SMULTIXCAN_CONDITION_NUMBER > 0\n",
    "), \"The S-MultiXcan condition number (positive integer) must be given\"\n",
    "\n",
    "display(f\"S-MultiXcan condition number: {SMULTIXCAN_CONDITION_NUMBER}\")"
   ]
  },
  {
   "cell_type": "code",
   "execution_count": 9,
   "id": "f34a336f-548e-4afe-8955-90eaea4f42c6",
   "metadata": {
    "execution": {
     "iopub.execute_input": "2022-08-27T06:01:21.853384Z",
     "iopub.status.busy": "2022-08-27T06:01:21.853163Z",
     "iopub.status.idle": "2022-08-27T06:01:21.873240Z",
     "shell.execute_reply": "2022-08-27T06:01:21.872678Z"
    },
    "papermill": {
     "duration": 0.061357,
     "end_time": "2022-08-27T06:01:21.874824",
     "exception": false,
     "start_time": "2022-08-27T06:01:21.813467",
     "status": "completed"
    },
    "tags": []
   },
   "outputs": [
    {
     "data": {
      "text/plain": [
       "'Working on chromosome 9'"
      ]
     },
     "metadata": {},
     "output_type": "display_data"
    }
   ],
   "source": [
    "assert CHROMOSOME is not None and (\n",
    "    1 <= CHROMOSOME <= 22\n",
    "), \"You have to select one chromosome (format: number between 1 and 22)\"\n",
    "\n",
    "# CHROMOSOME = str(CHROMOSOME)\n",
    "display(f\"Working on chromosome {CHROMOSOME}\")"
   ]
  },
  {
   "cell_type": "code",
   "execution_count": 10,
   "id": "ab8e96e8-06b5-4363-9dcd-dc4d78cc27f7",
   "metadata": {
    "execution": {
     "iopub.execute_input": "2022-08-27T06:01:21.968418Z",
     "iopub.status.busy": "2022-08-27T06:01:21.968224Z",
     "iopub.status.idle": "2022-08-27T06:01:21.986084Z",
     "shell.execute_reply": "2022-08-27T06:01:21.985542Z"
    },
    "papermill": {
     "duration": 0.066768,
     "end_time": "2022-08-27T06:01:21.987598",
     "exception": false,
     "start_time": "2022-08-27T06:01:21.920830",
     "status": "completed"
    },
    "tags": []
   },
   "outputs": [
    {
     "data": {
      "text/plain": [
       "'Compute correlation within distance False'"
      ]
     },
     "metadata": {},
     "output_type": "display_data"
    }
   ],
   "source": [
    "display(f\"Compute correlation within distance {COMPUTE_CORRELATIONS_WITHIN_DISTANCE}\")"
   ]
  },
  {
   "cell_type": "code",
   "execution_count": 11,
   "id": "396392dc-0340-4540-9b02-e182b833f909",
   "metadata": {
    "execution": {
     "iopub.execute_input": "2022-08-27T06:01:22.103634Z",
     "iopub.status.busy": "2022-08-27T06:01:22.103305Z",
     "iopub.status.idle": "2022-08-27T06:01:22.182520Z",
     "shell.execute_reply": "2022-08-27T06:01:22.181337Z"
    },
    "papermill": {
     "duration": 0.140142,
     "end_time": "2022-08-27T06:01:22.186020",
     "exception": false,
     "start_time": "2022-08-27T06:01:22.045878",
     "status": "completed"
    },
    "tags": []
   },
   "outputs": [
    {
     "data": {
      "text/plain": [
       "'Using output dir base: /project/ritchie20/projects/phenoplier/base/results/gls/gene_corrs/cohorts/phenomexcan_astle/gtex_v8/mashr'"
      ]
     },
     "metadata": {},
     "output_type": "display_data"
    }
   ],
   "source": [
    "OUTPUT_DIR_BASE = (\n",
    "    conf.RESULTS[\"GLS\"]\n",
    "    / \"gene_corrs\"\n",
    "    / \"cohorts\"\n",
    "    / COHORT_NAME\n",
    "    / REFERENCE_PANEL.lower()\n",
    "    / EQTL_MODEL.lower()\n",
    ")\n",
    "OUTPUT_DIR_BASE.mkdir(parents=True, exist_ok=True)\n",
    "\n",
    "display(f\"Using output dir base: {OUTPUT_DIR_BASE}\")"
   ]
  },
  {
   "cell_type": "markdown",
   "id": "d2ba085e",
   "metadata": {
    "papermill": {
     "duration": 0.067335,
     "end_time": "2022-08-27T06:01:22.320873",
     "exception": false,
     "start_time": "2022-08-27T06:01:22.253538",
     "status": "completed"
    },
    "tags": []
   },
   "source": [
    "# Load data"
   ]
  },
  {
   "cell_type": "markdown",
   "id": "7dcb8db7",
   "metadata": {
    "papermill": {
     "duration": 0.067736,
     "end_time": "2022-08-27T06:01:22.456539",
     "exception": false,
     "start_time": "2022-08-27T06:01:22.388803",
     "status": "completed"
    },
    "tags": []
   },
   "source": [
    "## GWAS variants"
   ]
  },
  {
   "cell_type": "code",
   "execution_count": 12,
   "id": "29434c4e-8cd3-4b9b-82e4-b5a251d9dd19",
   "metadata": {
    "execution": {
     "iopub.execute_input": "2022-08-27T06:01:22.590990Z",
     "iopub.status.busy": "2022-08-27T06:01:22.590558Z",
     "iopub.status.idle": "2022-08-27T06:01:26.651048Z",
     "shell.execute_reply": "2022-08-27T06:01:26.650059Z"
    },
    "papermill": {
     "duration": 4.128427,
     "end_time": "2022-08-27T06:01:26.653503",
     "exception": false,
     "start_time": "2022-08-27T06:01:22.525076",
     "status": "completed"
    },
    "tags": []
   },
   "outputs": [],
   "source": [
    "with open(OUTPUT_DIR_BASE / \"gwas_variant_ids.pkl\", \"rb\") as handle:\n",
    "    gwas_variants_ids_set = pickle.load(handle)"
   ]
  },
  {
   "cell_type": "code",
   "execution_count": 13,
   "id": "b9d9dec2-4a76-4bf9-bde2-e24c95acb8a0",
   "metadata": {
    "execution": {
     "iopub.execute_input": "2022-08-27T06:01:26.677566Z",
     "iopub.status.busy": "2022-08-27T06:01:26.677322Z",
     "iopub.status.idle": "2022-08-27T06:01:26.702959Z",
     "shell.execute_reply": "2022-08-27T06:01:26.702399Z"
    },
    "papermill": {
     "duration": 0.038957,
     "end_time": "2022-08-27T06:01:26.704553",
     "exception": false,
     "start_time": "2022-08-27T06:01:26.665596",
     "status": "completed"
    },
    "tags": []
   },
   "outputs": [
    {
     "data": {
      "text/plain": [
       "8871979"
      ]
     },
     "execution_count": 13,
     "metadata": {},
     "output_type": "execute_result"
    }
   ],
   "source": [
    "len(gwas_variants_ids_set)"
   ]
  },
  {
   "cell_type": "code",
   "execution_count": 14,
   "id": "4235b06a-6034-4ee4-a0a3-2ae35d122418",
   "metadata": {
    "execution": {
     "iopub.execute_input": "2022-08-27T06:01:26.725675Z",
     "iopub.status.busy": "2022-08-27T06:01:26.725435Z",
     "iopub.status.idle": "2022-08-27T06:01:27.454500Z",
     "shell.execute_reply": "2022-08-27T06:01:27.453884Z"
    },
    "papermill": {
     "duration": 0.742072,
     "end_time": "2022-08-27T06:01:27.456377",
     "exception": false,
     "start_time": "2022-08-27T06:01:26.714305",
     "status": "completed"
    },
    "tags": []
   },
   "outputs": [
    {
     "data": {
      "text/plain": [
       "['chr4_12868330_C_T_b38',\n",
       " 'chr11_106776785_T_A_b38',\n",
       " 'chr11_48395868_G_C_b38',\n",
       " 'chr6_96898025_A_G_b38',\n",
       " 'chr8_46762414_T_G_b38']"
      ]
     },
     "execution_count": 14,
     "metadata": {},
     "output_type": "execute_result"
    }
   ],
   "source": [
    "list(gwas_variants_ids_set)[:5]"
   ]
  },
  {
   "cell_type": "markdown",
   "id": "07866999-2305-41f9-a144-e69c9122c212",
   "metadata": {
    "papermill": {
     "duration": 0.029869,
     "end_time": "2022-08-27T06:01:27.500573",
     "exception": false,
     "start_time": "2022-08-27T06:01:27.470704",
     "status": "completed"
    },
    "tags": []
   },
   "source": [
    "## S-PrediXcan tissue models"
   ]
  },
  {
   "cell_type": "code",
   "execution_count": 15,
   "id": "780611d9-77c8-405f-90a4-f271f7b09397",
   "metadata": {
    "execution": {
     "iopub.execute_input": "2022-08-27T06:01:27.529095Z",
     "iopub.status.busy": "2022-08-27T06:01:27.528827Z",
     "iopub.status.idle": "2022-08-27T06:01:28.501681Z",
     "shell.execute_reply": "2022-08-27T06:01:28.500967Z"
    },
    "papermill": {
     "duration": 0.990037,
     "end_time": "2022-08-27T06:01:28.503859",
     "exception": false,
     "start_time": "2022-08-27T06:01:27.513822",
     "status": "completed"
    },
    "tags": []
   },
   "outputs": [],
   "source": [
    "spredixcan_genes_models = pd.read_pickle(OUTPUT_DIR_BASE / \"gene_tissues.pkl\")"
   ]
  },
  {
   "cell_type": "code",
   "execution_count": 16,
   "id": "726dd1f6-9557-4225-91fa-b3b879ea96e1",
   "metadata": {
    "execution": {
     "iopub.execute_input": "2022-08-27T06:01:28.534248Z",
     "iopub.status.busy": "2022-08-27T06:01:28.534020Z",
     "iopub.status.idle": "2022-08-27T06:01:28.555862Z",
     "shell.execute_reply": "2022-08-27T06:01:28.555312Z"
    },
    "papermill": {
     "duration": 0.03812,
     "end_time": "2022-08-27T06:01:28.557487",
     "exception": false,
     "start_time": "2022-08-27T06:01:28.519367",
     "status": "completed"
    },
    "tags": []
   },
   "outputs": [
    {
     "data": {
      "text/plain": [
       "(6450, 3)"
      ]
     },
     "execution_count": 16,
     "metadata": {},
     "output_type": "execute_result"
    }
   ],
   "source": [
    "spredixcan_genes_models.shape"
   ]
  },
  {
   "cell_type": "code",
   "execution_count": 17,
   "id": "944a1b48-222c-4eb0-b252-b9de2cbca215",
   "metadata": {
    "execution": {
     "iopub.execute_input": "2022-08-27T06:01:28.581615Z",
     "iopub.status.busy": "2022-08-27T06:01:28.581398Z",
     "iopub.status.idle": "2022-08-27T06:01:28.615352Z",
     "shell.execute_reply": "2022-08-27T06:01:28.614830Z"
    },
    "papermill": {
     "duration": 0.046873,
     "end_time": "2022-08-27T06:01:28.616916",
     "exception": false,
     "start_time": "2022-08-27T06:01:28.570043",
     "status": "completed"
    },
    "tags": []
   },
   "outputs": [
    {
     "data": {
      "text/html": [
       "<div>\n",
       "<style scoped>\n",
       "    .dataframe tbody tr th:only-of-type {\n",
       "        vertical-align: middle;\n",
       "    }\n",
       "\n",
       "    .dataframe tbody tr th {\n",
       "        vertical-align: top;\n",
       "    }\n",
       "\n",
       "    .dataframe thead th {\n",
       "        text-align: right;\n",
       "    }\n",
       "</style>\n",
       "<table border=\"1\" class=\"dataframe\">\n",
       "  <thead>\n",
       "    <tr style=\"text-align: right;\">\n",
       "      <th></th>\n",
       "      <th>gene_name</th>\n",
       "      <th>tissue</th>\n",
       "      <th>n_tissues</th>\n",
       "    </tr>\n",
       "    <tr>\n",
       "      <th>gene_id</th>\n",
       "      <th></th>\n",
       "      <th></th>\n",
       "      <th></th>\n",
       "    </tr>\n",
       "  </thead>\n",
       "  <tbody>\n",
       "    <tr>\n",
       "      <th>ENSG00000000419</th>\n",
       "      <td>DPM1</td>\n",
       "      <td>(Brain_Hypothalamus, Brain_Substantia_nigra, C...</td>\n",
       "      <td>3</td>\n",
       "    </tr>\n",
       "    <tr>\n",
       "      <th>ENSG00000000938</th>\n",
       "      <td>FGR</td>\n",
       "      <td>(Artery_Aorta, Breast_Mammary_Tissue, Skin_Not...</td>\n",
       "      <td>36</td>\n",
       "    </tr>\n",
       "    <tr>\n",
       "      <th>ENSG00000000971</th>\n",
       "      <td>CFH</td>\n",
       "      <td>(Artery_Aorta, Breast_Mammary_Tissue, Kidney_C...</td>\n",
       "      <td>34</td>\n",
       "    </tr>\n",
       "    <tr>\n",
       "      <th>ENSG00000001084</th>\n",
       "      <td>GCLC</td>\n",
       "      <td>(Artery_Aorta, Adrenal_Gland, Brain_Putamen_ba...</td>\n",
       "      <td>33</td>\n",
       "    </tr>\n",
       "    <tr>\n",
       "      <th>ENSG00000001167</th>\n",
       "      <td>NFYA</td>\n",
       "      <td>(Artery_Aorta, Breast_Mammary_Tissue, Kidney_C...</td>\n",
       "      <td>40</td>\n",
       "    </tr>\n",
       "  </tbody>\n",
       "</table>\n",
       "</div>"
      ],
      "text/plain": [
       "                gene_name                                             tissue  \\\n",
       "gene_id                                                                        \n",
       "ENSG00000000419      DPM1  (Brain_Hypothalamus, Brain_Substantia_nigra, C...   \n",
       "ENSG00000000938       FGR  (Artery_Aorta, Breast_Mammary_Tissue, Skin_Not...   \n",
       "ENSG00000000971       CFH  (Artery_Aorta, Breast_Mammary_Tissue, Kidney_C...   \n",
       "ENSG00000001084      GCLC  (Artery_Aorta, Adrenal_Gland, Brain_Putamen_ba...   \n",
       "ENSG00000001167      NFYA  (Artery_Aorta, Breast_Mammary_Tissue, Kidney_C...   \n",
       "\n",
       "                 n_tissues  \n",
       "gene_id                     \n",
       "ENSG00000000419          3  \n",
       "ENSG00000000938         36  \n",
       "ENSG00000000971         34  \n",
       "ENSG00000001084         33  \n",
       "ENSG00000001167         40  "
      ]
     },
     "execution_count": 17,
     "metadata": {},
     "output_type": "execute_result"
    }
   ],
   "source": [
    "spredixcan_genes_models.head()"
   ]
  },
  {
   "cell_type": "code",
   "execution_count": 18,
   "id": "d1c11bb1-be0b-4f40-b360-633d6827109f",
   "metadata": {
    "execution": {
     "iopub.execute_input": "2022-08-27T06:01:28.653742Z",
     "iopub.status.busy": "2022-08-27T06:01:28.653489Z",
     "iopub.status.idle": "2022-08-27T06:01:28.672692Z",
     "shell.execute_reply": "2022-08-27T06:01:28.672167Z"
    },
    "papermill": {
     "duration": 0.037016,
     "end_time": "2022-08-27T06:01:28.674361",
     "exception": false,
     "start_time": "2022-08-27T06:01:28.637345",
     "status": "completed"
    },
    "tags": []
   },
   "outputs": [],
   "source": [
    "assert spredixcan_genes_models.index.is_unique"
   ]
  },
  {
   "cell_type": "markdown",
   "id": "a5b5092c-a13e-47c4-a92a-480fcc08f3ae",
   "metadata": {
    "papermill": {
     "duration": 0.015711,
     "end_time": "2022-08-27T06:01:28.707935",
     "exception": false,
     "start_time": "2022-08-27T06:01:28.692224",
     "status": "completed"
    },
    "tags": []
   },
   "source": [
    "## Gene info"
   ]
  },
  {
   "cell_type": "code",
   "execution_count": 19,
   "id": "7d6bb224-88e9-4358-ac10-43a41d92cdad",
   "metadata": {
    "execution": {
     "iopub.execute_input": "2022-08-27T06:01:28.743797Z",
     "iopub.status.busy": "2022-08-27T06:01:28.743569Z",
     "iopub.status.idle": "2022-08-27T06:01:28.780217Z",
     "shell.execute_reply": "2022-08-27T06:01:28.779645Z"
    },
    "papermill": {
     "duration": 0.058262,
     "end_time": "2022-08-27T06:01:28.782032",
     "exception": false,
     "start_time": "2022-08-27T06:01:28.723770",
     "status": "completed"
    },
    "tags": []
   },
   "outputs": [],
   "source": [
    "genes_info = pd.read_pickle(OUTPUT_DIR_BASE / \"genes_info.pkl\")"
   ]
  },
  {
   "cell_type": "code",
   "execution_count": 20,
   "id": "9e32abfa-546d-483e-8c18-d526e9e05903",
   "metadata": {
    "execution": {
     "iopub.execute_input": "2022-08-27T06:01:28.821471Z",
     "iopub.status.busy": "2022-08-27T06:01:28.821258Z",
     "iopub.status.idle": "2022-08-27T06:01:28.840275Z",
     "shell.execute_reply": "2022-08-27T06:01:28.839760Z"
    },
    "papermill": {
     "duration": 0.039784,
     "end_time": "2022-08-27T06:01:28.841776",
     "exception": false,
     "start_time": "2022-08-27T06:01:28.801992",
     "status": "completed"
    },
    "tags": []
   },
   "outputs": [
    {
     "data": {
      "text/plain": [
       "(6450, 7)"
      ]
     },
     "execution_count": 20,
     "metadata": {},
     "output_type": "execute_result"
    }
   ],
   "source": [
    "genes_info.shape"
   ]
  },
  {
   "cell_type": "code",
   "execution_count": 21,
   "id": "d16c3e92-85ec-468a-9a56-e25a9774a1cb",
   "metadata": {
    "execution": {
     "iopub.execute_input": "2022-08-27T06:01:28.879878Z",
     "iopub.status.busy": "2022-08-27T06:01:28.879667Z",
     "iopub.status.idle": "2022-08-27T06:01:28.902638Z",
     "shell.execute_reply": "2022-08-27T06:01:28.902094Z"
    },
    "papermill": {
     "duration": 0.048915,
     "end_time": "2022-08-27T06:01:28.904209",
     "exception": false,
     "start_time": "2022-08-27T06:01:28.855294",
     "status": "completed"
    },
    "tags": []
   },
   "outputs": [
    {
     "data": {
      "text/html": [
       "<div>\n",
       "<style scoped>\n",
       "    .dataframe tbody tr th:only-of-type {\n",
       "        vertical-align: middle;\n",
       "    }\n",
       "\n",
       "    .dataframe tbody tr th {\n",
       "        vertical-align: top;\n",
       "    }\n",
       "\n",
       "    .dataframe thead th {\n",
       "        text-align: right;\n",
       "    }\n",
       "</style>\n",
       "<table border=\"1\" class=\"dataframe\">\n",
       "  <thead>\n",
       "    <tr style=\"text-align: right;\">\n",
       "      <th></th>\n",
       "      <th>name</th>\n",
       "      <th>id</th>\n",
       "      <th>chr</th>\n",
       "      <th>band</th>\n",
       "      <th>start_position</th>\n",
       "      <th>end_position</th>\n",
       "      <th>gene_length</th>\n",
       "    </tr>\n",
       "  </thead>\n",
       "  <tbody>\n",
       "    <tr>\n",
       "      <th>0</th>\n",
       "      <td>FBXO34</td>\n",
       "      <td>ENSG00000178974</td>\n",
       "      <td>14</td>\n",
       "      <td>14q22.3</td>\n",
       "      <td>55271421</td>\n",
       "      <td>55361918</td>\n",
       "      <td>90497</td>\n",
       "    </tr>\n",
       "    <tr>\n",
       "      <th>1</th>\n",
       "      <td>ARG1</td>\n",
       "      <td>ENSG00000118520</td>\n",
       "      <td>6</td>\n",
       "      <td>6q23.2</td>\n",
       "      <td>131573144</td>\n",
       "      <td>131584332</td>\n",
       "      <td>11188</td>\n",
       "    </tr>\n",
       "    <tr>\n",
       "      <th>2</th>\n",
       "      <td>FADS2</td>\n",
       "      <td>ENSG00000134824</td>\n",
       "      <td>11</td>\n",
       "      <td>11q12.2</td>\n",
       "      <td>61792980</td>\n",
       "      <td>61867354</td>\n",
       "      <td>74374</td>\n",
       "    </tr>\n",
       "    <tr>\n",
       "      <th>3</th>\n",
       "      <td>CA4</td>\n",
       "      <td>ENSG00000167434</td>\n",
       "      <td>17</td>\n",
       "      <td>17q23.1</td>\n",
       "      <td>60149942</td>\n",
       "      <td>60170899</td>\n",
       "      <td>20957</td>\n",
       "    </tr>\n",
       "    <tr>\n",
       "      <th>4</th>\n",
       "      <td>PFKFB3</td>\n",
       "      <td>ENSG00000170525</td>\n",
       "      <td>10</td>\n",
       "      <td>10p15.1</td>\n",
       "      <td>6144934</td>\n",
       "      <td>6254644</td>\n",
       "      <td>109710</td>\n",
       "    </tr>\n",
       "  </tbody>\n",
       "</table>\n",
       "</div>"
      ],
      "text/plain": [
       "     name               id  chr     band  start_position  end_position  \\\n",
       "0  FBXO34  ENSG00000178974   14  14q22.3        55271421      55361918   \n",
       "1    ARG1  ENSG00000118520    6   6q23.2       131573144     131584332   \n",
       "2   FADS2  ENSG00000134824   11  11q12.2        61792980      61867354   \n",
       "3     CA4  ENSG00000167434   17  17q23.1        60149942      60170899   \n",
       "4  PFKFB3  ENSG00000170525   10  10p15.1         6144934       6254644   \n",
       "\n",
       "   gene_length  \n",
       "0        90497  \n",
       "1        11188  \n",
       "2        74374  \n",
       "3        20957  \n",
       "4       109710  "
      ]
     },
     "execution_count": 21,
     "metadata": {},
     "output_type": "execute_result"
    }
   ],
   "source": [
    "genes_info.head()"
   ]
  },
  {
   "cell_type": "markdown",
   "id": "d3843e06",
   "metadata": {
    "papermill": {
     "duration": 0.012731,
     "end_time": "2022-08-27T06:01:28.930790",
     "exception": false,
     "start_time": "2022-08-27T06:01:28.918059",
     "status": "completed"
    },
    "tags": []
   },
   "source": [
    "# Compute correlations"
   ]
  },
  {
   "cell_type": "code",
   "execution_count": 22,
   "id": "cb859c15-d1f3-4006-a74c-2b83c0db9611",
   "metadata": {
    "execution": {
     "iopub.execute_input": "2022-08-27T06:01:28.961996Z",
     "iopub.status.busy": "2022-08-27T06:01:28.961784Z",
     "iopub.status.idle": "2022-08-27T06:01:28.981952Z",
     "shell.execute_reply": "2022-08-27T06:01:28.981389Z"
    },
    "papermill": {
     "duration": 0.038443,
     "end_time": "2022-08-27T06:01:28.983487",
     "exception": false,
     "start_time": "2022-08-27T06:01:28.945044",
     "status": "completed"
    },
    "tags": []
   },
   "outputs": [
    {
     "data": {
      "text/plain": [
       "PosixPath('/project/ritchie20/projects/phenoplier/base/results/gls/gene_corrs/cohorts/phenomexcan_astle/gtex_v8/mashr/by_chr/gene_corrs-chr9.pkl')"
      ]
     },
     "metadata": {},
     "output_type": "display_data"
    }
   ],
   "source": [
    "output_dir = OUTPUT_DIR_BASE / \"by_chr\"\n",
    "output_dir.mkdir(exist_ok=True, parents=True)\n",
    "output_file = output_dir / f\"gene_corrs-chr{CHROMOSOME}.pkl\"\n",
    "display(output_file)"
   ]
  },
  {
   "cell_type": "code",
   "execution_count": 23,
   "id": "aa674fe4-6794-4eed-98fa-32b39d1d4ace",
   "metadata": {
    "execution": {
     "iopub.execute_input": "2022-08-27T06:01:29.013402Z",
     "iopub.status.busy": "2022-08-27T06:01:29.013202Z",
     "iopub.status.idle": "2022-08-27T06:01:29.029307Z",
     "shell.execute_reply": "2022-08-27T06:01:29.028759Z"
    },
    "papermill": {
     "duration": 0.033926,
     "end_time": "2022-08-27T06:01:29.030962",
     "exception": false,
     "start_time": "2022-08-27T06:01:28.997036",
     "status": "completed"
    },
    "tags": []
   },
   "outputs": [],
   "source": [
    "warnings.filterwarnings(\"error\")"
   ]
  },
  {
   "cell_type": "code",
   "execution_count": 24,
   "id": "44d5450b-3baf-43f1-9e2e-4b06f1a785f8",
   "metadata": {
    "execution": {
     "iopub.execute_input": "2022-08-27T06:01:29.059999Z",
     "iopub.status.busy": "2022-08-27T06:01:29.059766Z",
     "iopub.status.idle": "2022-08-27T06:01:29.077768Z",
     "shell.execute_reply": "2022-08-27T06:01:29.077232Z"
    },
    "papermill": {
     "duration": 0.033012,
     "end_time": "2022-08-27T06:01:29.079444",
     "exception": false,
     "start_time": "2022-08-27T06:01:29.046432",
     "status": "completed"
    },
    "tags": []
   },
   "outputs": [],
   "source": [
    "# standard checks\n",
    "all_chrs = genes_info[\"chr\"].dropna().unique()\n",
    "assert all_chrs.shape[0] == 22\n",
    "\n",
    "# select chromosome given by the user\n",
    "assert CHROMOSOME in all_chrs"
   ]
  },
  {
   "cell_type": "code",
   "execution_count": 25,
   "id": "2d7c043c-92a7-4d35-991b-fa69ac1e0268",
   "metadata": {
    "execution": {
     "iopub.execute_input": "2022-08-27T06:01:29.112223Z",
     "iopub.status.busy": "2022-08-27T06:01:29.112021Z",
     "iopub.status.idle": "2022-08-27T06:01:29.158339Z",
     "shell.execute_reply": "2022-08-27T06:01:29.157804Z"
    },
    "papermill": {
     "duration": 0.063338,
     "end_time": "2022-08-27T06:01:29.160023",
     "exception": false,
     "start_time": "2022-08-27T06:01:29.096685",
     "status": "completed"
    },
    "tags": []
   },
   "outputs": [
    {
     "name": "stdout",
     "output_type": "stream",
     "text": [
      "Number of genes in chromosome: 245\n"
     ]
    }
   ],
   "source": [
    "# run only on the chromosome specified\n",
    "all_chrs = [CHROMOSOME]\n",
    "genes_chr = genes_info[genes_info[\"chr\"] == CHROMOSOME]\n",
    "\n",
    "# For testing purposes\n",
    "# genes_chr = genes_chr.sample(n=20)\n",
    "\n",
    "print(f\"Number of genes in chromosome: {genes_chr.shape[0]}\", flush=True)"
   ]
  },
  {
   "cell_type": "code",
   "execution_count": 26,
   "id": "916015d8-2979-46d3-a9b9-1cf5a0932c6a",
   "metadata": {
    "execution": {
     "iopub.execute_input": "2022-08-27T06:01:29.191069Z",
     "iopub.status.busy": "2022-08-27T06:01:29.190852Z",
     "iopub.status.idle": "2022-08-27T06:01:29.209359Z",
     "shell.execute_reply": "2022-08-27T06:01:29.208827Z"
    },
    "papermill": {
     "duration": 0.035272,
     "end_time": "2022-08-27T06:01:29.210942",
     "exception": false,
     "start_time": "2022-08-27T06:01:29.175670",
     "status": "completed"
    },
    "tags": []
   },
   "outputs": [],
   "source": [
    "# sort genes by starting position to make visualizations better later\n",
    "genes_chr = genes_chr.sort_values(\"start_position\")"
   ]
  },
  {
   "cell_type": "code",
   "execution_count": 27,
   "id": "a38aa74a-8ad3-47f6-8ef9-56be0e011774",
   "metadata": {
    "execution": {
     "iopub.execute_input": "2022-08-27T06:01:29.240659Z",
     "iopub.status.busy": "2022-08-27T06:01:29.240434Z",
     "iopub.status.idle": "2022-08-27T06:01:29.258157Z",
     "shell.execute_reply": "2022-08-27T06:01:29.257628Z"
    },
    "papermill": {
     "duration": 0.035074,
     "end_time": "2022-08-27T06:01:29.259793",
     "exception": false,
     "start_time": "2022-08-27T06:01:29.224719",
     "status": "completed"
    },
    "tags": []
   },
   "outputs": [],
   "source": [
    "gene_chr_objs = [Gene(ensembl_id=gene_id) for gene_id in genes_chr[\"id\"]]"
   ]
  },
  {
   "cell_type": "code",
   "execution_count": 28,
   "id": "570f974f-13c3-42b6-ad3a-ce99ca885c1a",
   "metadata": {
    "execution": {
     "iopub.execute_input": "2022-08-27T06:01:29.295673Z",
     "iopub.status.busy": "2022-08-27T06:01:29.295447Z",
     "iopub.status.idle": "2022-08-27T06:01:29.313614Z",
     "shell.execute_reply": "2022-08-27T06:01:29.313085Z"
    },
    "papermill": {
     "duration": 0.035529,
     "end_time": "2022-08-27T06:01:29.315245",
     "exception": false,
     "start_time": "2022-08-27T06:01:29.279716",
     "status": "completed"
    },
    "tags": []
   },
   "outputs": [
    {
     "name": "stdout",
     "output_type": "stream",
     "text": [
      "Number of gene combinations: 29890\n"
     ]
    }
   ],
   "source": [
    "n = len(gene_chr_objs)\n",
    "n_comb = int(n * (n - 1) / 2.0)\n",
    "print(f\"Number of gene combinations: {n_comb}\", flush=True)"
   ]
  },
  {
   "cell_type": "code",
   "execution_count": 29,
   "id": "cdbb90a1",
   "metadata": {
    "execution": {
     "iopub.execute_input": "2022-08-27T06:01:29.367540Z",
     "iopub.status.busy": "2022-08-27T06:01:29.367340Z",
     "iopub.status.idle": "2022-08-27T06:50:23.216722Z",
     "shell.execute_reply": "2022-08-27T06:50:23.215993Z"
    },
    "papermill": {
     "duration": 2933.878867,
     "end_time": "2022-08-27T06:50:23.218637",
     "exception": false,
     "start_time": "2022-08-27T06:01:29.339770",
     "status": "completed"
    },
    "tags": []
   },
   "outputs": [
    {
     "name": "stderr",
     "output_type": "stream",
     "text": [
      "ENSG00000181090 / ENSG00000181090: : 30135it [48:53, 10.27it/s]\n"
     ]
    },
    {
     "data": {
      "text/plain": [
       "PosixPath('/project/ritchie20/projects/phenoplier/base/results/gls/gene_corrs/cohorts/phenomexcan_astle/gtex_v8/mashr/by_chr/gene_corrs-chr9.pkl')"
      ]
     },
     "metadata": {},
     "output_type": "display_data"
    }
   ],
   "source": [
    "gene_corrs = []\n",
    "gene_corrs_data = np.full(\n",
    "    (n, n),\n",
    "    np.nan,\n",
    "    dtype=np.float64,\n",
    ")\n",
    "\n",
    "i = 0\n",
    "with tqdm(ncols=100, total=n_comb) as pbar:\n",
    "    for gene1_idx in range(0, len(gene_chr_objs)):\n",
    "        gene1_obj = gene_chr_objs[gene1_idx]\n",
    "        gene1_tissues = spredixcan_genes_models.loc[gene1_obj.ensembl_id, \"tissue\"]\n",
    "\n",
    "        for gene2_idx in range(gene1_idx, len(gene_chr_objs)):\n",
    "            gene2_obj = gene_chr_objs[gene2_idx]\n",
    "            gene2_tissues = spredixcan_genes_models.loc[gene2_obj.ensembl_id, \"tissue\"]\n",
    "\n",
    "            pbar.set_description(f\"{gene1_obj.ensembl_id} / {gene2_obj.ensembl_id}\")\n",
    "\n",
    "            try:\n",
    "                r = gene1_obj.get_ssm_correlation(\n",
    "                    other_gene=gene2_obj,\n",
    "                    tissues=gene1_tissues,\n",
    "                    other_tissues=gene2_tissues,\n",
    "                    snps_subset=gwas_variants_ids_set,\n",
    "                    condition_number=SMULTIXCAN_CONDITION_NUMBER,\n",
    "                    reference_panel=REFERENCE_PANEL,\n",
    "                    model_type=EQTL_MODEL,\n",
    "                    use_within_distance=COMPUTE_CORRELATIONS_WITHIN_DISTANCE,\n",
    "                )\n",
    "\n",
    "                if r is None:\n",
    "                    # if r is None, it's very likely because:\n",
    "                    #  * one of the genes has no prediction models\n",
    "                    #  * all the SNPs predictors for the gene are not present in the reference\n",
    "                    #    panel\n",
    "\n",
    "                    r = 0.0\n",
    "\n",
    "                gene_corrs.append(r)\n",
    "\n",
    "                gene_corrs_data[gene1_idx, gene2_idx] = r\n",
    "                gene_corrs_data[gene2_idx, gene1_idx] = r\n",
    "            except Warning as e:\n",
    "                if not DEBUG_MODE:\n",
    "                    raise e\n",
    "\n",
    "                print(\n",
    "                    f\"RuntimeWarning for genes {gene1_obj.ensembl_id} and {gene2_obj.ensembl_id}\",\n",
    "                    flush=True,\n",
    "                )\n",
    "                print(traceback.format_exc(), flush=True)\n",
    "\n",
    "                gene_corrs.append(np.nan)\n",
    "            except Exception as e:\n",
    "                if not DEBUG_MODE:\n",
    "                    raise e\n",
    "\n",
    "                print(\n",
    "                    f\"Exception for genes {gene1_obj.ensembl_id} and {gene2_obj.ensembl_id}\",\n",
    "                    flush=True,\n",
    "                )\n",
    "                print(traceback.format_exc(), flush=True)\n",
    "\n",
    "                gene_corrs.append(np.nan)\n",
    "\n",
    "            pbar.update(1)\n",
    "\n",
    "# create a pandas series\n",
    "gene_corrs_flat = pd.Series(gene_corrs)\n",
    "\n",
    "# save\n",
    "# FIXME: consider saving only the condenced matrix here. See here for\n",
    "# more details: https://github.com/greenelab/phenoplier/pull/38#discussion_r634600813\n",
    "# gene_corrs_data = squareform(np.array(gene_corrs, dtype=np.float64))\n",
    "# np.fill_diagonal(gene_corrs_data, 1.0)\n",
    "\n",
    "gene_chr_ids = [g.ensembl_id for g in gene_chr_objs]\n",
    "gene_corrs_df = pd.DataFrame(\n",
    "    data=gene_corrs_data,\n",
    "    index=gene_chr_ids,\n",
    "    columns=gene_chr_ids,\n",
    ")\n",
    "\n",
    "output_dir.mkdir(exist_ok=True, parents=True)\n",
    "display(output_file)\n",
    "\n",
    "gene_corrs_df.to_pickle(output_file)"
   ]
  },
  {
   "cell_type": "markdown",
   "id": "faa67b51-5373-470f-aa72-2ded53fa6dfe",
   "metadata": {
    "papermill": {
     "duration": 2.103762,
     "end_time": "2022-08-27T06:50:27.398826",
     "exception": false,
     "start_time": "2022-08-27T06:50:25.295064",
     "status": "completed"
    },
    "tags": []
   },
   "source": [
    "# Testing"
   ]
  },
  {
   "cell_type": "code",
   "execution_count": 30,
   "id": "14f7d046-4b55-4896-a56b-990127bcc388",
   "metadata": {
    "execution": {
     "iopub.execute_input": "2022-08-27T06:50:31.523218Z",
     "iopub.status.busy": "2022-08-27T06:50:31.522891Z",
     "iopub.status.idle": "2022-08-27T06:50:31.761008Z",
     "shell.execute_reply": "2022-08-27T06:50:31.760433Z"
    },
    "papermill": {
     "duration": 2.336441,
     "end_time": "2022-08-27T06:50:31.762695",
     "exception": false,
     "start_time": "2022-08-27T06:50:29.426254",
     "status": "completed"
    },
    "tags": []
   },
   "outputs": [
    {
     "data": {
      "text/plain": [
       "(245, 245)"
      ]
     },
     "execution_count": 30,
     "metadata": {},
     "output_type": "execute_result"
    }
   ],
   "source": [
    "gene_corrs_df.shape"
   ]
  },
  {
   "cell_type": "code",
   "execution_count": 31,
   "id": "c7d15414-3297-4537-a7c6-7588c0baeb75",
   "metadata": {
    "execution": {
     "iopub.execute_input": "2022-08-27T06:50:35.871867Z",
     "iopub.status.busy": "2022-08-27T06:50:35.871529Z",
     "iopub.status.idle": "2022-08-27T06:50:35.915283Z",
     "shell.execute_reply": "2022-08-27T06:50:35.914723Z"
    },
    "papermill": {
     "duration": 2.132659,
     "end_time": "2022-08-27T06:50:35.916910",
     "exception": false,
     "start_time": "2022-08-27T06:50:33.784251",
     "status": "completed"
    },
    "tags": []
   },
   "outputs": [
    {
     "data": {
      "text/html": [
       "<div>\n",
       "<style scoped>\n",
       "    .dataframe tbody tr th:only-of-type {\n",
       "        vertical-align: middle;\n",
       "    }\n",
       "\n",
       "    .dataframe tbody tr th {\n",
       "        vertical-align: top;\n",
       "    }\n",
       "\n",
       "    .dataframe thead th {\n",
       "        text-align: right;\n",
       "    }\n",
       "</style>\n",
       "<table border=\"1\" class=\"dataframe\">\n",
       "  <thead>\n",
       "    <tr style=\"text-align: right;\">\n",
       "      <th></th>\n",
       "      <th>ENSG00000107099</th>\n",
       "      <th>ENSG00000080503</th>\n",
       "      <th>ENSG00000147852</th>\n",
       "      <th>ENSG00000107249</th>\n",
       "      <th>ENSG00000147853</th>\n",
       "      <th>ENSG00000096968</th>\n",
       "      <th>ENSG00000107014</th>\n",
       "      <th>ENSG00000120217</th>\n",
       "      <th>ENSG00000197646</th>\n",
       "      <th>ENSG00000178445</th>\n",
       "      <th>...</th>\n",
       "      <th>ENSG00000107317</th>\n",
       "      <th>ENSG00000169583</th>\n",
       "      <th>ENSG00000107331</th>\n",
       "      <th>ENSG00000054179</th>\n",
       "      <th>ENSG00000177239</th>\n",
       "      <th>ENSG00000176248</th>\n",
       "      <th>ENSG00000176101</th>\n",
       "      <th>ENSG00000188747</th>\n",
       "      <th>ENSG00000182154</th>\n",
       "      <th>ENSG00000181090</th>\n",
       "    </tr>\n",
       "  </thead>\n",
       "  <tbody>\n",
       "    <tr>\n",
       "      <th>ENSG00000107099</th>\n",
       "      <td>1.000000</td>\n",
       "      <td>0.005930</td>\n",
       "      <td>0.014322</td>\n",
       "      <td>0.011442</td>\n",
       "      <td>0.008862</td>\n",
       "      <td>0.011062</td>\n",
       "      <td>0.007307</td>\n",
       "      <td>0.011101</td>\n",
       "      <td>0.004339</td>\n",
       "      <td>0.008632</td>\n",
       "      <td>...</td>\n",
       "      <td>0.006190</td>\n",
       "      <td>0.006495</td>\n",
       "      <td>0.006644</td>\n",
       "      <td>0.007965</td>\n",
       "      <td>0.006119</td>\n",
       "      <td>0.006453</td>\n",
       "      <td>0.005777</td>\n",
       "      <td>0.012566</td>\n",
       "      <td>0.002313</td>\n",
       "      <td>0.003391</td>\n",
       "    </tr>\n",
       "    <tr>\n",
       "      <th>ENSG00000080503</th>\n",
       "      <td>0.005930</td>\n",
       "      <td>1.000000</td>\n",
       "      <td>0.015906</td>\n",
       "      <td>0.011142</td>\n",
       "      <td>0.010265</td>\n",
       "      <td>0.009074</td>\n",
       "      <td>0.006467</td>\n",
       "      <td>0.010095</td>\n",
       "      <td>0.007373</td>\n",
       "      <td>0.011738</td>\n",
       "      <td>...</td>\n",
       "      <td>0.008870</td>\n",
       "      <td>0.012905</td>\n",
       "      <td>0.007444</td>\n",
       "      <td>0.009560</td>\n",
       "      <td>0.006070</td>\n",
       "      <td>0.010375</td>\n",
       "      <td>0.009859</td>\n",
       "      <td>0.008127</td>\n",
       "      <td>0.005142</td>\n",
       "      <td>0.008602</td>\n",
       "    </tr>\n",
       "    <tr>\n",
       "      <th>ENSG00000147852</th>\n",
       "      <td>0.014322</td>\n",
       "      <td>0.015906</td>\n",
       "      <td>1.000000</td>\n",
       "      <td>0.015231</td>\n",
       "      <td>0.014896</td>\n",
       "      <td>0.018180</td>\n",
       "      <td>0.015215</td>\n",
       "      <td>0.020026</td>\n",
       "      <td>0.009762</td>\n",
       "      <td>0.015644</td>\n",
       "      <td>...</td>\n",
       "      <td>0.016989</td>\n",
       "      <td>0.018800</td>\n",
       "      <td>0.012539</td>\n",
       "      <td>0.018910</td>\n",
       "      <td>0.014555</td>\n",
       "      <td>0.011733</td>\n",
       "      <td>0.004997</td>\n",
       "      <td>0.012166</td>\n",
       "      <td>0.008359</td>\n",
       "      <td>0.012062</td>\n",
       "    </tr>\n",
       "    <tr>\n",
       "      <th>ENSG00000107249</th>\n",
       "      <td>0.011442</td>\n",
       "      <td>0.011142</td>\n",
       "      <td>0.015231</td>\n",
       "      <td>1.000000</td>\n",
       "      <td>0.012101</td>\n",
       "      <td>0.013699</td>\n",
       "      <td>0.009367</td>\n",
       "      <td>0.014768</td>\n",
       "      <td>0.004463</td>\n",
       "      <td>0.013731</td>\n",
       "      <td>...</td>\n",
       "      <td>0.014505</td>\n",
       "      <td>0.015179</td>\n",
       "      <td>0.008846</td>\n",
       "      <td>0.010025</td>\n",
       "      <td>0.011756</td>\n",
       "      <td>0.011086</td>\n",
       "      <td>0.004231</td>\n",
       "      <td>0.011682</td>\n",
       "      <td>0.004521</td>\n",
       "      <td>0.006689</td>\n",
       "    </tr>\n",
       "    <tr>\n",
       "      <th>ENSG00000147853</th>\n",
       "      <td>0.008862</td>\n",
       "      <td>0.010265</td>\n",
       "      <td>0.014896</td>\n",
       "      <td>0.012101</td>\n",
       "      <td>1.000000</td>\n",
       "      <td>0.033637</td>\n",
       "      <td>0.010442</td>\n",
       "      <td>0.013697</td>\n",
       "      <td>0.008295</td>\n",
       "      <td>0.014879</td>\n",
       "      <td>...</td>\n",
       "      <td>0.011066</td>\n",
       "      <td>0.013870</td>\n",
       "      <td>0.009705</td>\n",
       "      <td>0.008064</td>\n",
       "      <td>0.005574</td>\n",
       "      <td>0.004156</td>\n",
       "      <td>0.001787</td>\n",
       "      <td>0.006773</td>\n",
       "      <td>0.007409</td>\n",
       "      <td>0.007038</td>\n",
       "    </tr>\n",
       "  </tbody>\n",
       "</table>\n",
       "<p>5 rows × 245 columns</p>\n",
       "</div>"
      ],
      "text/plain": [
       "                 ENSG00000107099  ENSG00000080503  ENSG00000147852  \\\n",
       "ENSG00000107099         1.000000         0.005930         0.014322   \n",
       "ENSG00000080503         0.005930         1.000000         0.015906   \n",
       "ENSG00000147852         0.014322         0.015906         1.000000   \n",
       "ENSG00000107249         0.011442         0.011142         0.015231   \n",
       "ENSG00000147853         0.008862         0.010265         0.014896   \n",
       "\n",
       "                 ENSG00000107249  ENSG00000147853  ENSG00000096968  \\\n",
       "ENSG00000107099         0.011442         0.008862         0.011062   \n",
       "ENSG00000080503         0.011142         0.010265         0.009074   \n",
       "ENSG00000147852         0.015231         0.014896         0.018180   \n",
       "ENSG00000107249         1.000000         0.012101         0.013699   \n",
       "ENSG00000147853         0.012101         1.000000         0.033637   \n",
       "\n",
       "                 ENSG00000107014  ENSG00000120217  ENSG00000197646  \\\n",
       "ENSG00000107099         0.007307         0.011101         0.004339   \n",
       "ENSG00000080503         0.006467         0.010095         0.007373   \n",
       "ENSG00000147852         0.015215         0.020026         0.009762   \n",
       "ENSG00000107249         0.009367         0.014768         0.004463   \n",
       "ENSG00000147853         0.010442         0.013697         0.008295   \n",
       "\n",
       "                 ENSG00000178445  ...  ENSG00000107317  ENSG00000169583  \\\n",
       "ENSG00000107099         0.008632  ...         0.006190         0.006495   \n",
       "ENSG00000080503         0.011738  ...         0.008870         0.012905   \n",
       "ENSG00000147852         0.015644  ...         0.016989         0.018800   \n",
       "ENSG00000107249         0.013731  ...         0.014505         0.015179   \n",
       "ENSG00000147853         0.014879  ...         0.011066         0.013870   \n",
       "\n",
       "                 ENSG00000107331  ENSG00000054179  ENSG00000177239  \\\n",
       "ENSG00000107099         0.006644         0.007965         0.006119   \n",
       "ENSG00000080503         0.007444         0.009560         0.006070   \n",
       "ENSG00000147852         0.012539         0.018910         0.014555   \n",
       "ENSG00000107249         0.008846         0.010025         0.011756   \n",
       "ENSG00000147853         0.009705         0.008064         0.005574   \n",
       "\n",
       "                 ENSG00000176248  ENSG00000176101  ENSG00000188747  \\\n",
       "ENSG00000107099         0.006453         0.005777         0.012566   \n",
       "ENSG00000080503         0.010375         0.009859         0.008127   \n",
       "ENSG00000147852         0.011733         0.004997         0.012166   \n",
       "ENSG00000107249         0.011086         0.004231         0.011682   \n",
       "ENSG00000147853         0.004156         0.001787         0.006773   \n",
       "\n",
       "                 ENSG00000182154  ENSG00000181090  \n",
       "ENSG00000107099         0.002313         0.003391  \n",
       "ENSG00000080503         0.005142         0.008602  \n",
       "ENSG00000147852         0.008359         0.012062  \n",
       "ENSG00000107249         0.004521         0.006689  \n",
       "ENSG00000147853         0.007409         0.007038  \n",
       "\n",
       "[5 rows x 245 columns]"
      ]
     },
     "execution_count": 31,
     "metadata": {},
     "output_type": "execute_result"
    }
   ],
   "source": [
    "gene_corrs_df.head()"
   ]
  },
  {
   "cell_type": "markdown",
   "id": "dad6603f-01c6-41fb-a6f6-241051207dd8",
   "metadata": {
    "papermill": {
     "duration": 2.078825,
     "end_time": "2022-08-27T06:50:40.009322",
     "exception": false,
     "start_time": "2022-08-27T06:50:37.930497",
     "status": "completed"
    },
    "tags": []
   },
   "source": [
    "## Standard checks and stats"
   ]
  },
  {
   "cell_type": "code",
   "execution_count": 32,
   "id": "286686af-1b7b-4440-8453-6bdcbd8de19c",
   "metadata": {
    "execution": {
     "iopub.execute_input": "2022-08-27T06:50:44.089307Z",
     "iopub.status.busy": "2022-08-27T06:50:44.089000Z",
     "iopub.status.idle": "2022-08-27T06:50:44.112626Z",
     "shell.execute_reply": "2022-08-27T06:50:44.112057Z"
    },
    "papermill": {
     "duration": 2.09954,
     "end_time": "2022-08-27T06:50:44.114428",
     "exception": false,
     "start_time": "2022-08-27T06:50:42.014888",
     "status": "completed"
    },
    "tags": []
   },
   "outputs": [],
   "source": [
    "assert not gene_corrs_df.isna().any().any()"
   ]
  },
  {
   "cell_type": "code",
   "execution_count": 33,
   "id": "00583efc-7068-4270-ad1e-4a418e91db96",
   "metadata": {
    "execution": {
     "iopub.execute_input": "2022-08-27T06:50:48.268969Z",
     "iopub.status.busy": "2022-08-27T06:50:48.268665Z",
     "iopub.status.idle": "2022-08-27T06:50:48.294631Z",
     "shell.execute_reply": "2022-08-27T06:50:48.294063Z"
    },
    "papermill": {
     "duration": 2.117585,
     "end_time": "2022-08-27T06:50:48.296356",
     "exception": false,
     "start_time": "2022-08-27T06:50:46.178771",
     "status": "completed"
    },
    "tags": []
   },
   "outputs": [
    {
     "data": {
      "text/plain": [
       "1.1199333351450828e-07"
      ]
     },
     "metadata": {},
     "output_type": "display_data"
    }
   ],
   "source": [
    "_min_val = gene_corrs_df.min().min()\n",
    "display(_min_val)\n",
    "assert _min_val >= -0.05"
   ]
  },
  {
   "cell_type": "code",
   "execution_count": 34,
   "id": "d04fb2cf-1050-475b-b855-f5f7cc04092b",
   "metadata": {
    "execution": {
     "iopub.execute_input": "2022-08-27T06:50:52.398023Z",
     "iopub.status.busy": "2022-08-27T06:50:52.397713Z",
     "iopub.status.idle": "2022-08-27T06:50:52.422358Z",
     "shell.execute_reply": "2022-08-27T06:50:52.421814Z"
    },
    "papermill": {
     "duration": 2.114458,
     "end_time": "2022-08-27T06:50:52.423975",
     "exception": false,
     "start_time": "2022-08-27T06:50:50.309517",
     "status": "completed"
    },
    "tags": []
   },
   "outputs": [
    {
     "data": {
      "text/plain": [
       "1.0000000000000029"
      ]
     },
     "metadata": {},
     "output_type": "display_data"
    }
   ],
   "source": [
    "_max_val = gene_corrs_df.max().max()  # this captures the diagonal\n",
    "display(_max_val)\n",
    "assert _max_val <= 1.05"
   ]
  },
  {
   "cell_type": "code",
   "execution_count": 35,
   "id": "96d02c44-1fba-47be-8a93-8f2608420b9c",
   "metadata": {
    "execution": {
     "iopub.execute_input": "2022-08-27T06:50:56.513572Z",
     "iopub.status.busy": "2022-08-27T06:50:56.513269Z",
     "iopub.status.idle": "2022-08-27T06:50:56.536275Z",
     "shell.execute_reply": "2022-08-27T06:50:56.535714Z"
    },
    "papermill": {
     "duration": 2.110559,
     "end_time": "2022-08-27T06:50:56.538062",
     "exception": false,
     "start_time": "2022-08-27T06:50:54.427503",
     "status": "completed"
    },
    "tags": []
   },
   "outputs": [],
   "source": [
    "# check upper triangular values\n",
    "# assert len(gene_corrs) == int(genes_chr.shape[0] * (genes_chr.shape[0] - 1) / 2)"
   ]
  },
  {
   "cell_type": "code",
   "execution_count": 36,
   "id": "fe283586-c348-40e0-8841-f6d97bfb021c",
   "metadata": {
    "execution": {
     "iopub.execute_input": "2022-08-27T06:51:00.629330Z",
     "iopub.status.busy": "2022-08-27T06:51:00.629022Z",
     "iopub.status.idle": "2022-08-27T06:51:00.660221Z",
     "shell.execute_reply": "2022-08-27T06:51:00.659675Z"
    },
    "papermill": {
     "duration": 2.116771,
     "end_time": "2022-08-27T06:51:00.661827",
     "exception": false,
     "start_time": "2022-08-27T06:50:58.545056",
     "status": "completed"
    },
    "tags": []
   },
   "outputs": [
    {
     "data": {
      "text/plain": [
       "count    3.013500e+04\n",
       "mean     1.654459e-02\n",
       "std      9.320922e-02\n",
       "min      1.119933e-07\n",
       "25%      3.909479e-03\n",
       "50%      6.093244e-03\n",
       "75%      8.553459e-03\n",
       "max      1.000000e+00\n",
       "dtype: float64"
      ]
     },
     "execution_count": 36,
     "metadata": {},
     "output_type": "execute_result"
    }
   ],
   "source": [
    "gene_corrs_flat.describe()"
   ]
  },
  {
   "cell_type": "code",
   "execution_count": 37,
   "id": "b3815678-0f93-4b35-897b-a9d047a2aa78",
   "metadata": {
    "execution": {
     "iopub.execute_input": "2022-08-27T06:51:04.777081Z",
     "iopub.status.busy": "2022-08-27T06:51:04.776767Z",
     "iopub.status.idle": "2022-08-27T06:51:04.805718Z",
     "shell.execute_reply": "2022-08-27T06:51:04.805168Z"
    },
    "papermill": {
     "duration": 2.124687,
     "end_time": "2022-08-27T06:51:04.807292",
     "exception": false,
     "start_time": "2022-08-27T06:51:02.682605",
     "status": "completed"
    },
    "tags": []
   },
   "outputs": [
    {
     "data": {
      "text/plain": [
       "0.00    1.119933e-07\n",
       "0.05    1.509421e-03\n",
       "0.10    2.278769e-03\n",
       "0.15    2.892716e-03\n",
       "0.20    3.430996e-03\n",
       "0.25    3.909479e-03\n",
       "0.30    4.365245e-03\n",
       "0.35    4.805515e-03\n",
       "0.40    5.237573e-03\n",
       "0.45    5.656895e-03\n",
       "0.50    6.093244e-03\n",
       "0.55    6.486982e-03\n",
       "0.60    6.949236e-03\n",
       "0.65    7.423544e-03\n",
       "0.70    7.954925e-03\n",
       "0.75    8.553459e-03\n",
       "0.80    9.264205e-03\n",
       "0.85    1.007094e-02\n",
       "0.90    1.117679e-02\n",
       "0.95    1.334551e-02\n",
       "dtype: float64"
      ]
     },
     "metadata": {},
     "output_type": "display_data"
    }
   ],
   "source": [
    "gene_corrs_quantiles = gene_corrs_flat.quantile(np.arange(0, 1, 0.05))\n",
    "display(gene_corrs_quantiles)"
   ]
  },
  {
   "cell_type": "markdown",
   "id": "87134509-b145-4a10-8bc9-b7e914c2b0fa",
   "metadata": {
    "papermill": {
     "duration": 2.084657,
     "end_time": "2022-08-27T06:51:08.956284",
     "exception": false,
     "start_time": "2022-08-27T06:51:06.871627",
     "status": "completed"
    },
    "tags": []
   },
   "source": [
    "## Positive definiteness"
   ]
  },
  {
   "cell_type": "code",
   "execution_count": 38,
   "id": "07d9a9a1-a4f7-48aa-b916-6d42a8cc6186",
   "metadata": {
    "execution": {
     "iopub.execute_input": "2022-08-27T06:51:13.074553Z",
     "iopub.status.busy": "2022-08-27T06:51:13.074250Z",
     "iopub.status.idle": "2022-08-27T06:51:13.118061Z",
     "shell.execute_reply": "2022-08-27T06:51:13.117376Z"
    },
    "papermill": {
     "duration": 2.164954,
     "end_time": "2022-08-27T06:51:13.119677",
     "exception": false,
     "start_time": "2022-08-27T06:51:10.954723",
     "status": "completed"
    },
    "tags": []
   },
   "outputs": [
    {
     "data": {
      "text/plain": [
       "0"
      ]
     },
     "metadata": {},
     "output_type": "display_data"
    },
    {
     "data": {
      "text/plain": [
       "array([], dtype=float64)"
      ]
     },
     "metadata": {},
     "output_type": "display_data"
    }
   ],
   "source": [
    "# print negative eigenvalues\n",
    "eigs = np.linalg.eigvals(gene_corrs_df.to_numpy())\n",
    "display(len(eigs[eigs < 0]))\n",
    "display(eigs[eigs < 0])"
   ]
  },
  {
   "cell_type": "code",
   "execution_count": 39,
   "id": "6e218436-c3c5-4028-8c94-a4fa6260efce",
   "metadata": {
    "execution": {
     "iopub.execute_input": "2022-08-27T06:51:17.189763Z",
     "iopub.status.busy": "2022-08-27T06:51:17.189434Z",
     "iopub.status.idle": "2022-08-27T06:51:17.218150Z",
     "shell.execute_reply": "2022-08-27T06:51:17.217563Z"
    },
    "papermill": {
     "duration": 2.101608,
     "end_time": "2022-08-27T06:51:17.219807",
     "exception": false,
     "start_time": "2022-08-27T06:51:15.118199",
     "status": "completed"
    },
    "tags": []
   },
   "outputs": [
    {
     "name": "stdout",
     "output_type": "stream",
     "text": [
      "Works!\n"
     ]
    }
   ],
   "source": [
    "try:\n",
    "    chol_mat = np.linalg.cholesky(gene_corrs_df.to_numpy())\n",
    "    cov_inv = np.linalg.inv(chol_mat)\n",
    "    print(\"Works!\")\n",
    "except Exception as e:\n",
    "    print(f\"Cholesky decomposition failed: {str(e)}\")"
   ]
  },
  {
   "cell_type": "code",
   "execution_count": 40,
   "id": "dd8827fb-faf9-4c7c-9454-015e94752706",
   "metadata": {
    "execution": {
     "iopub.execute_input": "2022-08-27T06:51:21.288108Z",
     "iopub.status.busy": "2022-08-27T06:51:21.287797Z",
     "iopub.status.idle": "2022-08-27T06:51:21.505008Z",
     "shell.execute_reply": "2022-08-27T06:51:21.504436Z"
    },
    "papermill": {
     "duration": 2.284579,
     "end_time": "2022-08-27T06:51:21.506662",
     "exception": false,
     "start_time": "2022-08-27T06:51:19.222083",
     "status": "completed"
    },
    "tags": []
   },
   "outputs": [
    {
     "name": "stdout",
     "output_type": "stream",
     "text": [
      "Works!\n"
     ]
    }
   ],
   "source": [
    "try:\n",
    "    # decomposition used by statsmodels.GLS\n",
    "    cholsigmainv = np.linalg.cholesky(np.linalg.inv(gene_corrs_df.to_numpy())).T\n",
    "    print(\"Works!\")\n",
    "except Exception as e:\n",
    "    print(f\"Cholesky decomposition failed (statsmodels.GLS): {str(e)}\")"
   ]
  },
  {
   "cell_type": "markdown",
   "id": "8e60a080-edb2-4e9c-b2ef-22961693200c",
   "metadata": {
    "papermill": {
     "duration": 2.059914,
     "end_time": "2022-08-27T06:51:25.567559",
     "exception": false,
     "start_time": "2022-08-27T06:51:23.507645",
     "status": "completed"
    },
    "tags": []
   },
   "source": [
    "## Plot: distribution"
   ]
  },
  {
   "cell_type": "code",
   "execution_count": 41,
   "id": "8301126b-a7d4-4744-9c7d-f0f86eb6f54c",
   "metadata": {
    "execution": {
     "iopub.execute_input": "2022-08-27T06:51:29.727584Z",
     "iopub.status.busy": "2022-08-27T06:51:29.727279Z",
     "iopub.status.idle": "2022-08-27T06:51:36.730103Z",
     "shell.execute_reply": "2022-08-27T06:51:36.729493Z"
    },
    "papermill": {
     "duration": 9.107148,
     "end_time": "2022-08-27T06:51:36.731827",
     "exception": false,
     "start_time": "2022-08-27T06:51:27.624679",
     "status": "completed"
    },
    "tags": []
   },
   "outputs": [
    {
     "data": {
      "image/png": "[encoded data removed]",
      "text/plain": [
       "<Figure size 504x504 with 1 Axes>"
      ]
     },
     "metadata": {
      "needs_background": "light"
     },
     "output_type": "display_data"
    }
   ],
   "source": [
    "with sns.plotting_context(\"paper\", font_scale=1.5):\n",
    "    g = sns.displot(gene_corrs_flat, kde=True, height=7)\n",
    "    g.ax.set_title(\n",
    "        f\"Distribution of gene correlation values in chromosome {CHROMOSOME}\"\n",
    "    )"
   ]
  },
  {
   "cell_type": "markdown",
   "id": "cbd52bca-d878-4a2f-b684-5c83aa3038d4",
   "metadata": {
    "papermill": {
     "duration": 2.084989,
     "end_time": "2022-08-27T06:51:40.811045",
     "exception": false,
     "start_time": "2022-08-27T06:51:38.726056",
     "status": "completed"
    },
    "tags": []
   },
   "source": [
    "## Plot: heatmap"
   ]
  },
  {
   "cell_type": "code",
   "execution_count": 42,
   "id": "d03fe63a-c7b2-4fb9-a53c-db362ce843c9",
   "metadata": {
    "execution": {
     "iopub.execute_input": "2022-08-27T06:51:44.889408Z",
     "iopub.status.busy": "2022-08-27T06:51:44.889105Z",
     "iopub.status.idle": "2022-08-27T06:51:44.943487Z",
     "shell.execute_reply": "2022-08-27T06:51:44.942957Z"
    },
    "papermill": {
     "duration": 2.132043,
     "end_time": "2022-08-27T06:51:44.945104",
     "exception": false,
     "start_time": "2022-08-27T06:51:42.813061",
     "status": "completed"
    },
    "tags": []
   },
   "outputs": [
    {
     "data": {
      "text/plain": [
       "'0.0 / 0.05'"
      ]
     },
     "metadata": {},
     "output_type": "display_data"
    }
   ],
   "source": [
    "vmin_val = min(0.00, gene_corrs_quantiles[0.10])\n",
    "vmax_val = max(0.05, gene_corrs_quantiles[0.90])\n",
    "display(f\"{vmin_val} / {vmax_val}\")"
   ]
  },
  {
   "cell_type": "code",
   "execution_count": 43,
   "id": "dc41b70b-5bcc-4d9e-9f33-a22c4a94dab5",
   "metadata": {
    "execution": {
     "iopub.execute_input": "2022-08-27T06:51:49.040610Z",
     "iopub.status.busy": "2022-08-27T06:51:49.040287Z",
     "iopub.status.idle": "2022-08-27T06:51:49.287177Z",
     "shell.execute_reply": "2022-08-27T06:51:49.286626Z"
    },
    "papermill": {
     "duration": 2.347836,
     "end_time": "2022-08-27T06:51:49.289390",
     "exception": false,
     "start_time": "2022-08-27T06:51:46.941554",
     "status": "completed"
    },
    "tags": []
   },
   "outputs": [
    {
     "data": {
      "text/plain": [
       "Text(0.5, 1.0, 'Gene correlations in chromosome 9')"
      ]
     },
     "execution_count": 43,
     "metadata": {},
     "output_type": "execute_result"
    },
    {
     "data": {
      "image/png": "[encoded data removed]",
      "text/plain": [
       "<Figure size 720x720 with 2 Axes>"
      ]
     },
     "metadata": {
      "needs_background": "light"
     },
     "output_type": "display_data"
    }
   ],
   "source": [
    "f, ax = plt.subplots(figsize=(10, 10))\n",
    "sns.heatmap(\n",
    "    gene_corrs_df,\n",
    "    xticklabels=False,\n",
    "    yticklabels=False,\n",
    "    square=True,\n",
    "    vmin=vmin_val,\n",
    "    vmax=vmax_val,\n",
    "    cmap=\"rocket_r\",\n",
    "    ax=ax,\n",
    ")\n",
    "ax.set_title(f\"Gene correlations in chromosome {CHROMOSOME}\")"
   ]
  },
  {
   "cell_type": "code",
   "execution_count": null,
   "id": "b25e3ead",
   "metadata": {
    "papermill": {
     "duration": 2.077463,
     "end_time": "2022-08-27T06:51:53.362827",
     "exception": false,
     "start_time": "2022-08-27T06:51:51.285364",
     "status": "completed"
    },
    "tags": []
   },
   "outputs": [],
   "source": []
  }
 ],
 "metadata": {
  "jupytext": {
   "cell_metadata_filter": "all,-execution,-papermill,-trusted",
   "formats": "ipynb,py//py:percent"
  },
  "kernelspec": {
   "display_name": "Python 3 (ipykernel)",
   "language": "python",
   "name": "python3"
  },
  "language_info": {
   "codemirror_mode": {
    "name": "ipython",
    "version": 3
   },
   "file_extension": ".py",
   "mimetype": "text/x-python",
   "name": "python",
   "nbconvert_exporter": "python",
   "pygments_lexer": "ipython3",
   "version": "3.8.13"
  },
  "papermill": {
   "default_parameters": {},
   "duration": 3041.045726,
   "end_time": "2022-08-27T06:51:58.453378",
   "environment_variables": {},
   "exception": null,
   "input_path": "nbs/15_gsa_gls/10-gene_expr_correlations.ipynb",
   "output_path": "nbs/15_gsa_gls/gene_corrs/cohorts/phenomexcan_astle/gtex_v8/mashr/10-gene_expr_corrs/10-gene_expr_correlations-chr9.run.ipynb",
   "parameters": {
    "CHROMOSOME": 9,
    "COHORT_NAME": "phenomexcan_astle",
    "EQTL_MODEL": "MASHR",
    "REFERENCE_PANEL": "GTEX_V8"
   },
   "start_time": "2022-08-27T06:01:17.407652",
   "version": "2.2.2"
  }
 },
 "nbformat": 4,
 "nbformat_minor": 5
}
