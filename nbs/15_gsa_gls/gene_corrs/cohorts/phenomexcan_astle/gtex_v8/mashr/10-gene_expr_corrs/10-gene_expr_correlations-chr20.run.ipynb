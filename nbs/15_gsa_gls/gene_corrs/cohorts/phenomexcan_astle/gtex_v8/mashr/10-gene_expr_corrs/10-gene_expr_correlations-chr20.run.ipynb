{
 "cells": [
  {
   "cell_type": "markdown",
   "id": "7a6632fb",
   "metadata": {
    "papermill": {
     "duration": 0.01863,
     "end_time": "2022-08-27T06:01:19.101842",
     "exception": false,
     "start_time": "2022-08-27T06:01:19.083212",
     "status": "completed"
    },
    "tags": []
   },
   "source": [
    "# Description"
   ]
  },
  {
   "cell_type": "markdown",
   "id": "7097c346",
   "metadata": {
    "papermill": {
     "duration": 0.013969,
     "end_time": "2022-08-27T06:01:19.131003",
     "exception": false,
     "start_time": "2022-08-27T06:01:19.117034",
     "status": "completed"
    },
    "tags": []
   },
   "source": [
    "(Please, take a look at the README.md file in this directory for instructions on how to run this notebook)\n",
    "\n",
    "This notebook computes predicted expression correlations between all genes in the MultiPLIER models.\n",
    "\n",
    "It also has a parameter set for papermill to run on a single chromosome to run in parallel (see under `Settings` below).\n",
    "\n",
    "This notebook is not directly run. See README.md."
   ]
  },
  {
   "cell_type": "markdown",
   "id": "c61d8427",
   "metadata": {
    "papermill": {
     "duration": 0.01352,
     "end_time": "2022-08-27T06:01:19.159884",
     "exception": false,
     "start_time": "2022-08-27T06:01:19.146364",
     "status": "completed"
    },
    "tags": []
   },
   "source": [
    "# Modules"
   ]
  },
  {
   "cell_type": "code",
   "execution_count": 1,
   "id": "bbc0234f",
   "metadata": {
    "execution": {
     "iopub.execute_input": "2022-08-27T06:01:19.185839Z",
     "iopub.status.busy": "2022-08-27T06:01:19.185509Z",
     "iopub.status.idle": "2022-08-27T06:01:19.209394Z",
     "shell.execute_reply": "2022-08-27T06:01:19.208689Z"
    },
    "papermill": {
     "duration": 0.039934,
     "end_time": "2022-08-27T06:01:19.211694",
     "exception": false,
     "start_time": "2022-08-27T06:01:19.171760",
     "status": "completed"
    },
    "tags": []
   },
   "outputs": [],
   "source": [
    "%load_ext autoreload\n",
    "%autoreload 2"
   ]
  },
  {
   "cell_type": "code",
   "execution_count": 2,
   "id": "1d5f5a59",
   "metadata": {
    "execution": {
     "iopub.execute_input": "2022-08-27T06:01:19.233621Z",
     "iopub.status.busy": "2022-08-27T06:01:19.233412Z",
     "iopub.status.idle": "2022-08-27T06:01:20.966447Z",
     "shell.execute_reply": "2022-08-27T06:01:20.965789Z"
    },
    "papermill": {
     "duration": 1.746923,
     "end_time": "2022-08-27T06:01:20.968502",
     "exception": false,
     "start_time": "2022-08-27T06:01:19.221579",
     "status": "completed"
    },
    "tags": []
   },
   "outputs": [],
   "source": [
    "from random import sample, seed\n",
    "import warnings\n",
    "from pathlib import Path\n",
    "import pickle\n",
    "import traceback\n",
    "\n",
    "import numpy as np\n",
    "from scipy.spatial.distance import squareform\n",
    "import pandas as pd\n",
    "from tqdm import tqdm\n",
    "import matplotlib.pyplot as plt\n",
    "import seaborn as sns\n",
    "\n",
    "import conf\n",
    "from entity import Gene"
   ]
  },
  {
   "cell_type": "markdown",
   "id": "1eac24b5",
   "metadata": {
    "papermill": {
     "duration": 0.023316,
     "end_time": "2022-08-27T06:01:21.033564",
     "exception": false,
     "start_time": "2022-08-27T06:01:21.010248",
     "status": "completed"
    },
    "tags": []
   },
   "source": [
    "# Settings"
   ]
  },
  {
   "cell_type": "code",
   "execution_count": 3,
   "id": "ca4560ba",
   "metadata": {
    "execution": {
     "iopub.execute_input": "2022-08-27T06:01:21.074016Z",
     "iopub.status.busy": "2022-08-27T06:01:21.073748Z",
     "iopub.status.idle": "2022-08-27T06:01:21.120657Z",
     "shell.execute_reply": "2022-08-27T06:01:21.120103Z"
    },
    "papermill": {
     "duration": 0.070883,
     "end_time": "2022-08-27T06:01:21.122270",
     "exception": false,
     "start_time": "2022-08-27T06:01:21.051387",
     "status": "completed"
    },
    "tags": [
     "parameters"
    ]
   },
   "outputs": [],
   "source": [
    "# a cohort name (it could be something like UK_BIOBANK, etc)\n",
    "COHORT_NAME = None\n",
    "\n",
    "# reference panel such as 1000G or GTEX_V8\n",
    "REFERENCE_PANEL = None\n",
    "\n",
    "# predictions models such as MASHR or ELASTIC_NET\n",
    "EQTL_MODEL = None\n",
    "\n",
    "# this is the default value used in S-MultiXcan to select the\n",
    "# top principal components of the expression correlation matrix\n",
    "SMULTIXCAN_CONDITION_NUMBER = 30\n",
    "\n",
    "# specifies a single chromosome value\n",
    "CHROMOSOME = None\n",
    "\n",
    "# If True, computes the correlation between closeby genes only;\n",
    "# otherwise, it computes correlations for all genes in a chromosome\n",
    "COMPUTE_CORRELATIONS_WITHIN_DISTANCE = False\n",
    "\n",
    "# if True, then it will continue if a gene pair correlation fails,\n",
    "# printing the warning/error for debugging. If False, any warning/error\n",
    "# will be thrown\n",
    "DEBUG_MODE = False"
   ]
  },
  {
   "cell_type": "code",
   "execution_count": 4,
   "id": "cc2e3ea3",
   "metadata": {
    "execution": {
     "iopub.execute_input": "2022-08-27T06:01:21.189150Z",
     "iopub.status.busy": "2022-08-27T06:01:21.188788Z",
     "iopub.status.idle": "2022-08-27T06:01:21.215801Z",
     "shell.execute_reply": "2022-08-27T06:01:21.215003Z"
    },
    "papermill": {
     "duration": 0.051182,
     "end_time": "2022-08-27T06:01:21.218300",
     "exception": false,
     "start_time": "2022-08-27T06:01:21.167118",
     "status": "completed"
    },
    "tags": [
     "injected-parameters"
    ]
   },
   "outputs": [],
   "source": [
    "# Parameters\n",
    "COHORT_NAME = \"phenomexcan_astle\"\n",
    "REFERENCE_PANEL = \"GTEX_V8\"\n",
    "EQTL_MODEL = \"MASHR\"\n",
    "CHROMOSOME = 20\n"
   ]
  },
  {
   "cell_type": "code",
   "execution_count": 5,
   "id": "3190631f-27fc-480f-b18e-571d580425a5",
   "metadata": {
    "execution": {
     "iopub.execute_input": "2022-08-27T06:01:21.245481Z",
     "iopub.status.busy": "2022-08-27T06:01:21.245189Z",
     "iopub.status.idle": "2022-08-27T06:01:21.270932Z",
     "shell.execute_reply": "2022-08-27T06:01:21.270273Z"
    },
    "papermill": {
     "duration": 0.040315,
     "end_time": "2022-08-27T06:01:21.272840",
     "exception": false,
     "start_time": "2022-08-27T06:01:21.232525",
     "status": "completed"
    },
    "tags": []
   },
   "outputs": [
    {
     "data": {
      "text/plain": [
       "'Cohort name: phenomexcan_astle'"
      ]
     },
     "metadata": {},
     "output_type": "display_data"
    }
   ],
   "source": [
    "assert COHORT_NAME is not None and len(COHORT_NAME) > 0, \"A cohort name must be given\"\n",
    "\n",
    "COHORT_NAME = COHORT_NAME.lower()\n",
    "display(f\"Cohort name: {COHORT_NAME}\")"
   ]
  },
  {
   "cell_type": "code",
   "execution_count": 6,
   "id": "f53ba19b-0f93-4fa2-a047-63b375939d1a",
   "metadata": {
    "execution": {
     "iopub.execute_input": "2022-08-27T06:01:21.298781Z",
     "iopub.status.busy": "2022-08-27T06:01:21.298554Z",
     "iopub.status.idle": "2022-08-27T06:01:21.315968Z",
     "shell.execute_reply": "2022-08-27T06:01:21.315449Z"
    },
    "papermill": {
     "duration": 0.031005,
     "end_time": "2022-08-27T06:01:21.317460",
     "exception": false,
     "start_time": "2022-08-27T06:01:21.286455",
     "status": "completed"
    },
    "tags": []
   },
   "outputs": [
    {
     "data": {
      "text/plain": [
       "'Reference panel: GTEX_V8'"
      ]
     },
     "metadata": {},
     "output_type": "display_data"
    }
   ],
   "source": [
    "assert (\n",
    "    REFERENCE_PANEL is not None and len(REFERENCE_PANEL) > 0\n",
    "), \"A reference panel must be given\"\n",
    "\n",
    "display(f\"Reference panel: {REFERENCE_PANEL}\")"
   ]
  },
  {
   "cell_type": "code",
   "execution_count": 7,
   "id": "e024d130-c139-429a-9c6e-ccf149e297b0",
   "metadata": {
    "execution": {
     "iopub.execute_input": "2022-08-27T06:01:21.360752Z",
     "iopub.status.busy": "2022-08-27T06:01:21.360534Z",
     "iopub.status.idle": "2022-08-27T06:01:21.378885Z",
     "shell.execute_reply": "2022-08-27T06:01:21.378320Z"
    },
    "papermill": {
     "duration": 0.03085,
     "end_time": "2022-08-27T06:01:21.380528",
     "exception": false,
     "start_time": "2022-08-27T06:01:21.349678",
     "status": "completed"
    },
    "tags": []
   },
   "outputs": [
    {
     "data": {
      "text/plain": [
       "'eQTL model: MASHR) / mashr_'"
      ]
     },
     "metadata": {},
     "output_type": "display_data"
    }
   ],
   "source": [
    "assert (\n",
    "    EQTL_MODEL is not None and len(EQTL_MODEL) > 0\n",
    "), \"A prediction/eQTL model must be given\"\n",
    "\n",
    "EQTL_MODEL_FILES_PREFIX = conf.PHENOMEXCAN[\"PREDICTION_MODELS\"][f\"{EQTL_MODEL}_PREFIX\"]\n",
    "display(f\"eQTL model: {EQTL_MODEL}) / {EQTL_MODEL_FILES_PREFIX}\")"
   ]
  },
  {
   "cell_type": "code",
   "execution_count": 8,
   "id": "552a7f63-a18c-4d3e-bb6a-94f99b431291",
   "metadata": {
    "execution": {
     "iopub.execute_input": "2022-08-27T06:01:21.418949Z",
     "iopub.status.busy": "2022-08-27T06:01:21.418756Z",
     "iopub.status.idle": "2022-08-27T06:01:21.436314Z",
     "shell.execute_reply": "2022-08-27T06:01:21.435794Z"
    },
    "papermill": {
     "duration": 0.033109,
     "end_time": "2022-08-27T06:01:21.437809",
     "exception": false,
     "start_time": "2022-08-27T06:01:21.404700",
     "status": "completed"
    },
    "tags": []
   },
   "outputs": [
    {
     "data": {
      "text/plain": [
       "'S-MultiXcan condition number: 30'"
      ]
     },
     "metadata": {},
     "output_type": "display_data"
    }
   ],
   "source": [
    "assert (\n",
    "    SMULTIXCAN_CONDITION_NUMBER is not None and SMULTIXCAN_CONDITION_NUMBER > 0\n",
    "), \"The S-MultiXcan condition number (positive integer) must be given\"\n",
    "\n",
    "display(f\"S-MultiXcan condition number: {SMULTIXCAN_CONDITION_NUMBER}\")"
   ]
  },
  {
   "cell_type": "code",
   "execution_count": 9,
   "id": "f34a336f-548e-4afe-8955-90eaea4f42c6",
   "metadata": {
    "execution": {
     "iopub.execute_input": "2022-08-27T06:01:21.472425Z",
     "iopub.status.busy": "2022-08-27T06:01:21.472206Z",
     "iopub.status.idle": "2022-08-27T06:01:21.489781Z",
     "shell.execute_reply": "2022-08-27T06:01:21.489233Z"
    },
    "papermill": {
     "duration": 0.037779,
     "end_time": "2022-08-27T06:01:21.491254",
     "exception": false,
     "start_time": "2022-08-27T06:01:21.453475",
     "status": "completed"
    },
    "tags": []
   },
   "outputs": [
    {
     "data": {
      "text/plain": [
       "'Working on chromosome 20'"
      ]
     },
     "metadata": {},
     "output_type": "display_data"
    }
   ],
   "source": [
    "assert CHROMOSOME is not None and (\n",
    "    1 <= CHROMOSOME <= 22\n",
    "), \"You have to select one chromosome (format: number between 1 and 22)\"\n",
    "\n",
    "# CHROMOSOME = str(CHROMOSOME)\n",
    "display(f\"Working on chromosome {CHROMOSOME}\")"
   ]
  },
  {
   "cell_type": "code",
   "execution_count": 10,
   "id": "ab8e96e8-06b5-4363-9dcd-dc4d78cc27f7",
   "metadata": {
    "execution": {
     "iopub.execute_input": "2022-08-27T06:01:21.548950Z",
     "iopub.status.busy": "2022-08-27T06:01:21.548594Z",
     "iopub.status.idle": "2022-08-27T06:01:21.578819Z",
     "shell.execute_reply": "2022-08-27T06:01:21.577968Z"
    },
    "papermill": {
     "duration": 0.066396,
     "end_time": "2022-08-27T06:01:21.581135",
     "exception": false,
     "start_time": "2022-08-27T06:01:21.514739",
     "status": "completed"
    },
    "tags": []
   },
   "outputs": [
    {
     "data": {
      "text/plain": [
       "'Compute correlation within distance False'"
      ]
     },
     "metadata": {},
     "output_type": "display_data"
    }
   ],
   "source": [
    "display(f\"Compute correlation within distance {COMPUTE_CORRELATIONS_WITHIN_DISTANCE}\")"
   ]
  },
  {
   "cell_type": "code",
   "execution_count": 11,
   "id": "396392dc-0340-4540-9b02-e182b833f909",
   "metadata": {
    "execution": {
     "iopub.execute_input": "2022-08-27T06:01:21.638974Z",
     "iopub.status.busy": "2022-08-27T06:01:21.638712Z",
     "iopub.status.idle": "2022-08-27T06:01:21.682970Z",
     "shell.execute_reply": "2022-08-27T06:01:21.682451Z"
    },
    "papermill": {
     "duration": 0.074937,
     "end_time": "2022-08-27T06:01:21.684475",
     "exception": false,
     "start_time": "2022-08-27T06:01:21.609538",
     "status": "completed"
    },
    "tags": []
   },
   "outputs": [
    {
     "data": {
      "text/plain": [
       "'Using output dir base: /project/ritchie20/projects/phenoplier/base/results/gls/gene_corrs/cohorts/phenomexcan_astle/gtex_v8/mashr'"
      ]
     },
     "metadata": {},
     "output_type": "display_data"
    }
   ],
   "source": [
    "OUTPUT_DIR_BASE = (\n",
    "    conf.RESULTS[\"GLS\"]\n",
    "    / \"gene_corrs\"\n",
    "    / \"cohorts\"\n",
    "    / COHORT_NAME\n",
    "    / REFERENCE_PANEL.lower()\n",
    "    / EQTL_MODEL.lower()\n",
    ")\n",
    "OUTPUT_DIR_BASE.mkdir(parents=True, exist_ok=True)\n",
    "\n",
    "display(f\"Using output dir base: {OUTPUT_DIR_BASE}\")"
   ]
  },
  {
   "cell_type": "markdown",
   "id": "d2ba085e",
   "metadata": {
    "papermill": {
     "duration": 0.02371,
     "end_time": "2022-08-27T06:01:21.731028",
     "exception": false,
     "start_time": "2022-08-27T06:01:21.707318",
     "status": "completed"
    },
    "tags": []
   },
   "source": [
    "# Load data"
   ]
  },
  {
   "cell_type": "markdown",
   "id": "7dcb8db7",
   "metadata": {
    "papermill": {
     "duration": 0.025017,
     "end_time": "2022-08-27T06:01:21.778874",
     "exception": false,
     "start_time": "2022-08-27T06:01:21.753857",
     "status": "completed"
    },
    "tags": []
   },
   "source": [
    "## GWAS variants"
   ]
  },
  {
   "cell_type": "code",
   "execution_count": 12,
   "id": "29434c4e-8cd3-4b9b-82e4-b5a251d9dd19",
   "metadata": {
    "execution": {
     "iopub.execute_input": "2022-08-27T06:01:21.841850Z",
     "iopub.status.busy": "2022-08-27T06:01:21.841656Z",
     "iopub.status.idle": "2022-08-27T06:01:25.767652Z",
     "shell.execute_reply": "2022-08-27T06:01:25.766746Z"
    },
    "papermill": {
     "duration": 3.962465,
     "end_time": "2022-08-27T06:01:25.769855",
     "exception": false,
     "start_time": "2022-08-27T06:01:21.807390",
     "status": "completed"
    },
    "tags": []
   },
   "outputs": [],
   "source": [
    "with open(OUTPUT_DIR_BASE / \"gwas_variant_ids.pkl\", \"rb\") as handle:\n",
    "    gwas_variants_ids_set = pickle.load(handle)"
   ]
  },
  {
   "cell_type": "code",
   "execution_count": 13,
   "id": "b9d9dec2-4a76-4bf9-bde2-e24c95acb8a0",
   "metadata": {
    "execution": {
     "iopub.execute_input": "2022-08-27T06:01:25.791101Z",
     "iopub.status.busy": "2022-08-27T06:01:25.790875Z",
     "iopub.status.idle": "2022-08-27T06:01:25.814000Z",
     "shell.execute_reply": "2022-08-27T06:01:25.813482Z"
    },
    "papermill": {
     "duration": 0.035498,
     "end_time": "2022-08-27T06:01:25.815604",
     "exception": false,
     "start_time": "2022-08-27T06:01:25.780106",
     "status": "completed"
    },
    "tags": []
   },
   "outputs": [
    {
     "data": {
      "text/plain": [
       "8871979"
      ]
     },
     "execution_count": 13,
     "metadata": {},
     "output_type": "execute_result"
    }
   ],
   "source": [
    "len(gwas_variants_ids_set)"
   ]
  },
  {
   "cell_type": "code",
   "execution_count": 14,
   "id": "4235b06a-6034-4ee4-a0a3-2ae35d122418",
   "metadata": {
    "execution": {
     "iopub.execute_input": "2022-08-27T06:01:25.835227Z",
     "iopub.status.busy": "2022-08-27T06:01:25.835035Z",
     "iopub.status.idle": "2022-08-27T06:01:26.458757Z",
     "shell.execute_reply": "2022-08-27T06:01:26.458175Z"
    },
    "papermill": {
     "duration": 0.635567,
     "end_time": "2022-08-27T06:01:26.460342",
     "exception": false,
     "start_time": "2022-08-27T06:01:25.824775",
     "status": "completed"
    },
    "tags": []
   },
   "outputs": [
    {
     "data": {
      "text/plain": [
       "['chr1_21795563_C_A_b38',\n",
       " 'chr15_24750110_C_A_b38',\n",
       " 'chr10_2851043_C_T_b38',\n",
       " 'chr3_84722039_G_A_b38',\n",
       " 'chr3_155967304_C_T_b38']"
      ]
     },
     "execution_count": 14,
     "metadata": {},
     "output_type": "execute_result"
    }
   ],
   "source": [
    "list(gwas_variants_ids_set)[:5]"
   ]
  },
  {
   "cell_type": "markdown",
   "id": "07866999-2305-41f9-a144-e69c9122c212",
   "metadata": {
    "papermill": {
     "duration": 0.009478,
     "end_time": "2022-08-27T06:01:26.479892",
     "exception": false,
     "start_time": "2022-08-27T06:01:26.470414",
     "status": "completed"
    },
    "tags": []
   },
   "source": [
    "## S-PrediXcan tissue models"
   ]
  },
  {
   "cell_type": "code",
   "execution_count": 15,
   "id": "780611d9-77c8-405f-90a4-f271f7b09397",
   "metadata": {
    "execution": {
     "iopub.execute_input": "2022-08-27T06:01:26.502629Z",
     "iopub.status.busy": "2022-08-27T06:01:26.502411Z",
     "iopub.status.idle": "2022-08-27T06:01:27.576396Z",
     "shell.execute_reply": "2022-08-27T06:01:27.575790Z"
    },
    "papermill": {
     "duration": 1.087608,
     "end_time": "2022-08-27T06:01:27.578355",
     "exception": false,
     "start_time": "2022-08-27T06:01:26.490747",
     "status": "completed"
    },
    "tags": []
   },
   "outputs": [],
   "source": [
    "spredixcan_genes_models = pd.read_pickle(OUTPUT_DIR_BASE / \"gene_tissues.pkl\")"
   ]
  },
  {
   "cell_type": "code",
   "execution_count": 16,
   "id": "726dd1f6-9557-4225-91fa-b3b879ea96e1",
   "metadata": {
    "execution": {
     "iopub.execute_input": "2022-08-27T06:01:27.599854Z",
     "iopub.status.busy": "2022-08-27T06:01:27.599648Z",
     "iopub.status.idle": "2022-08-27T06:01:27.621095Z",
     "shell.execute_reply": "2022-08-27T06:01:27.620588Z"
    },
    "papermill": {
     "duration": 0.033348,
     "end_time": "2022-08-27T06:01:27.622624",
     "exception": false,
     "start_time": "2022-08-27T06:01:27.589276",
     "status": "completed"
    },
    "tags": []
   },
   "outputs": [
    {
     "data": {
      "text/plain": [
       "(6450, 3)"
      ]
     },
     "execution_count": 16,
     "metadata": {},
     "output_type": "execute_result"
    }
   ],
   "source": [
    "spredixcan_genes_models.shape"
   ]
  },
  {
   "cell_type": "code",
   "execution_count": 17,
   "id": "944a1b48-222c-4eb0-b252-b9de2cbca215",
   "metadata": {
    "execution": {
     "iopub.execute_input": "2022-08-27T06:01:27.651444Z",
     "iopub.status.busy": "2022-08-27T06:01:27.651223Z",
     "iopub.status.idle": "2022-08-27T06:01:27.679091Z",
     "shell.execute_reply": "2022-08-27T06:01:27.678587Z"
    },
    "papermill": {
     "duration": 0.044234,
     "end_time": "2022-08-27T06:01:27.680633",
     "exception": false,
     "start_time": "2022-08-27T06:01:27.636399",
     "status": "completed"
    },
    "tags": []
   },
   "outputs": [
    {
     "data": {
      "text/html": [
       "<div>\n",
       "<style scoped>\n",
       "    .dataframe tbody tr th:only-of-type {\n",
       "        vertical-align: middle;\n",
       "    }\n",
       "\n",
       "    .dataframe tbody tr th {\n",
       "        vertical-align: top;\n",
       "    }\n",
       "\n",
       "    .dataframe thead th {\n",
       "        text-align: right;\n",
       "    }\n",
       "</style>\n",
       "<table border=\"1\" class=\"dataframe\">\n",
       "  <thead>\n",
       "    <tr style=\"text-align: right;\">\n",
       "      <th></th>\n",
       "      <th>gene_name</th>\n",
       "      <th>tissue</th>\n",
       "      <th>n_tissues</th>\n",
       "    </tr>\n",
       "    <tr>\n",
       "      <th>gene_id</th>\n",
       "      <th></th>\n",
       "      <th></th>\n",
       "      <th></th>\n",
       "    </tr>\n",
       "  </thead>\n",
       "  <tbody>\n",
       "    <tr>\n",
       "      <th>ENSG00000000419</th>\n",
       "      <td>DPM1</td>\n",
       "      <td>(Brain_Substantia_nigra, Cells_Cultured_fibrob...</td>\n",
       "      <td>3</td>\n",
       "    </tr>\n",
       "    <tr>\n",
       "      <th>ENSG00000000938</th>\n",
       "      <td>FGR</td>\n",
       "      <td>(Pituitary, Brain_Hippocampus, Brain_Cortex, S...</td>\n",
       "      <td>36</td>\n",
       "    </tr>\n",
       "    <tr>\n",
       "      <th>ENSG00000000971</th>\n",
       "      <td>CFH</td>\n",
       "      <td>(Pituitary, Brain_Hippocampus, Cells_Cultured_...</td>\n",
       "      <td>34</td>\n",
       "    </tr>\n",
       "    <tr>\n",
       "      <th>ENSG00000001084</th>\n",
       "      <td>GCLC</td>\n",
       "      <td>(Pituitary, Brain_Hippocampus, Cells_Cultured_...</td>\n",
       "      <td>33</td>\n",
       "    </tr>\n",
       "    <tr>\n",
       "      <th>ENSG00000001167</th>\n",
       "      <td>NFYA</td>\n",
       "      <td>(Brain_Hippocampus, Vagina, Cells_Cultured_fib...</td>\n",
       "      <td>40</td>\n",
       "    </tr>\n",
       "  </tbody>\n",
       "</table>\n",
       "</div>"
      ],
      "text/plain": [
       "                gene_name                                             tissue  \\\n",
       "gene_id                                                                        \n",
       "ENSG00000000419      DPM1  (Brain_Substantia_nigra, Cells_Cultured_fibrob...   \n",
       "ENSG00000000938       FGR  (Pituitary, Brain_Hippocampus, Brain_Cortex, S...   \n",
       "ENSG00000000971       CFH  (Pituitary, Brain_Hippocampus, Cells_Cultured_...   \n",
       "ENSG00000001084      GCLC  (Pituitary, Brain_Hippocampus, Cells_Cultured_...   \n",
       "ENSG00000001167      NFYA  (Brain_Hippocampus, Vagina, Cells_Cultured_fib...   \n",
       "\n",
       "                 n_tissues  \n",
       "gene_id                     \n",
       "ENSG00000000419          3  \n",
       "ENSG00000000938         36  \n",
       "ENSG00000000971         34  \n",
       "ENSG00000001084         33  \n",
       "ENSG00000001167         40  "
      ]
     },
     "execution_count": 17,
     "metadata": {},
     "output_type": "execute_result"
    }
   ],
   "source": [
    "spredixcan_genes_models.head()"
   ]
  },
  {
   "cell_type": "code",
   "execution_count": 18,
   "id": "d1c11bb1-be0b-4f40-b360-633d6827109f",
   "metadata": {
    "execution": {
     "iopub.execute_input": "2022-08-27T06:01:27.710155Z",
     "iopub.status.busy": "2022-08-27T06:01:27.709960Z",
     "iopub.status.idle": "2022-08-27T06:01:27.726102Z",
     "shell.execute_reply": "2022-08-27T06:01:27.725603Z"
    },
    "papermill": {
     "duration": 0.032843,
     "end_time": "2022-08-27T06:01:27.727713",
     "exception": false,
     "start_time": "2022-08-27T06:01:27.694870",
     "status": "completed"
    },
    "tags": []
   },
   "outputs": [],
   "source": [
    "assert spredixcan_genes_models.index.is_unique"
   ]
  },
  {
   "cell_type": "markdown",
   "id": "a5b5092c-a13e-47c4-a92a-480fcc08f3ae",
   "metadata": {
    "papermill": {
     "duration": 0.010141,
     "end_time": "2022-08-27T06:01:27.750146",
     "exception": false,
     "start_time": "2022-08-27T06:01:27.740005",
     "status": "completed"
    },
    "tags": []
   },
   "source": [
    "## Gene info"
   ]
  },
  {
   "cell_type": "code",
   "execution_count": 19,
   "id": "7d6bb224-88e9-4358-ac10-43a41d92cdad",
   "metadata": {
    "execution": {
     "iopub.execute_input": "2022-08-27T06:01:27.772075Z",
     "iopub.status.busy": "2022-08-27T06:01:27.771880Z",
     "iopub.status.idle": "2022-08-27T06:01:27.796997Z",
     "shell.execute_reply": "2022-08-27T06:01:27.796471Z"
    },
    "papermill": {
     "duration": 0.038426,
     "end_time": "2022-08-27T06:01:27.798636",
     "exception": false,
     "start_time": "2022-08-27T06:01:27.760210",
     "status": "completed"
    },
    "tags": []
   },
   "outputs": [],
   "source": [
    "genes_info = pd.read_pickle(OUTPUT_DIR_BASE / \"genes_info.pkl\")"
   ]
  },
  {
   "cell_type": "code",
   "execution_count": 20,
   "id": "9e32abfa-546d-483e-8c18-d526e9e05903",
   "metadata": {
    "execution": {
     "iopub.execute_input": "2022-08-27T06:01:27.822348Z",
     "iopub.status.busy": "2022-08-27T06:01:27.822125Z",
     "iopub.status.idle": "2022-08-27T06:01:27.839353Z",
     "shell.execute_reply": "2022-08-27T06:01:27.838826Z"
    },
    "papermill": {
     "duration": 0.029752,
     "end_time": "2022-08-27T06:01:27.840930",
     "exception": false,
     "start_time": "2022-08-27T06:01:27.811178",
     "status": "completed"
    },
    "tags": []
   },
   "outputs": [
    {
     "data": {
      "text/plain": [
       "(6450, 7)"
      ]
     },
     "execution_count": 20,
     "metadata": {},
     "output_type": "execute_result"
    }
   ],
   "source": [
    "genes_info.shape"
   ]
  },
  {
   "cell_type": "code",
   "execution_count": 21,
   "id": "d16c3e92-85ec-468a-9a56-e25a9774a1cb",
   "metadata": {
    "execution": {
     "iopub.execute_input": "2022-08-27T06:01:27.864603Z",
     "iopub.status.busy": "2022-08-27T06:01:27.864383Z",
     "iopub.status.idle": "2022-08-27T06:01:27.886130Z",
     "shell.execute_reply": "2022-08-27T06:01:27.885626Z"
    },
    "papermill": {
     "duration": 0.035934,
     "end_time": "2022-08-27T06:01:27.887648",
     "exception": false,
     "start_time": "2022-08-27T06:01:27.851714",
     "status": "completed"
    },
    "tags": []
   },
   "outputs": [
    {
     "data": {
      "text/html": [
       "<div>\n",
       "<style scoped>\n",
       "    .dataframe tbody tr th:only-of-type {\n",
       "        vertical-align: middle;\n",
       "    }\n",
       "\n",
       "    .dataframe tbody tr th {\n",
       "        vertical-align: top;\n",
       "    }\n",
       "\n",
       "    .dataframe thead th {\n",
       "        text-align: right;\n",
       "    }\n",
       "</style>\n",
       "<table border=\"1\" class=\"dataframe\">\n",
       "  <thead>\n",
       "    <tr style=\"text-align: right;\">\n",
       "      <th></th>\n",
       "      <th>name</th>\n",
       "      <th>id</th>\n",
       "      <th>chr</th>\n",
       "      <th>band</th>\n",
       "      <th>start_position</th>\n",
       "      <th>end_position</th>\n",
       "      <th>gene_length</th>\n",
       "    </tr>\n",
       "  </thead>\n",
       "  <tbody>\n",
       "    <tr>\n",
       "      <th>0</th>\n",
       "      <td>FBXO34</td>\n",
       "      <td>ENSG00000178974</td>\n",
       "      <td>14</td>\n",
       "      <td>14q22.3</td>\n",
       "      <td>55271421</td>\n",
       "      <td>55361918</td>\n",
       "      <td>90497</td>\n",
       "    </tr>\n",
       "    <tr>\n",
       "      <th>1</th>\n",
       "      <td>ARG1</td>\n",
       "      <td>ENSG00000118520</td>\n",
       "      <td>6</td>\n",
       "      <td>6q23.2</td>\n",
       "      <td>131573144</td>\n",
       "      <td>131584332</td>\n",
       "      <td>11188</td>\n",
       "    </tr>\n",
       "    <tr>\n",
       "      <th>2</th>\n",
       "      <td>FADS2</td>\n",
       "      <td>ENSG00000134824</td>\n",
       "      <td>11</td>\n",
       "      <td>11q12.2</td>\n",
       "      <td>61792980</td>\n",
       "      <td>61867354</td>\n",
       "      <td>74374</td>\n",
       "    </tr>\n",
       "    <tr>\n",
       "      <th>3</th>\n",
       "      <td>CA4</td>\n",
       "      <td>ENSG00000167434</td>\n",
       "      <td>17</td>\n",
       "      <td>17q23.1</td>\n",
       "      <td>60149942</td>\n",
       "      <td>60170899</td>\n",
       "      <td>20957</td>\n",
       "    </tr>\n",
       "    <tr>\n",
       "      <th>4</th>\n",
       "      <td>PFKFB3</td>\n",
       "      <td>ENSG00000170525</td>\n",
       "      <td>10</td>\n",
       "      <td>10p15.1</td>\n",
       "      <td>6144934</td>\n",
       "      <td>6254644</td>\n",
       "      <td>109710</td>\n",
       "    </tr>\n",
       "  </tbody>\n",
       "</table>\n",
       "</div>"
      ],
      "text/plain": [
       "     name               id  chr     band  start_position  end_position  \\\n",
       "0  FBXO34  ENSG00000178974   14  14q22.3        55271421      55361918   \n",
       "1    ARG1  ENSG00000118520    6   6q23.2       131573144     131584332   \n",
       "2   FADS2  ENSG00000134824   11  11q12.2        61792980      61867354   \n",
       "3     CA4  ENSG00000167434   17  17q23.1        60149942      60170899   \n",
       "4  PFKFB3  ENSG00000170525   10  10p15.1         6144934       6254644   \n",
       "\n",
       "   gene_length  \n",
       "0        90497  \n",
       "1        11188  \n",
       "2        74374  \n",
       "3        20957  \n",
       "4       109710  "
      ]
     },
     "execution_count": 21,
     "metadata": {},
     "output_type": "execute_result"
    }
   ],
   "source": [
    "genes_info.head()"
   ]
  },
  {
   "cell_type": "markdown",
   "id": "d3843e06",
   "metadata": {
    "papermill": {
     "duration": 0.011674,
     "end_time": "2022-08-27T06:01:27.914666",
     "exception": false,
     "start_time": "2022-08-27T06:01:27.902992",
     "status": "completed"
    },
    "tags": []
   },
   "source": [
    "# Compute correlations"
   ]
  },
  {
   "cell_type": "code",
   "execution_count": 22,
   "id": "cb859c15-d1f3-4006-a74c-2b83c0db9611",
   "metadata": {
    "execution": {
     "iopub.execute_input": "2022-08-27T06:01:27.948093Z",
     "iopub.status.busy": "2022-08-27T06:01:27.947898Z",
     "iopub.status.idle": "2022-08-27T06:01:27.966881Z",
     "shell.execute_reply": "2022-08-27T06:01:27.966340Z"
    },
    "papermill": {
     "duration": 0.042251,
     "end_time": "2022-08-27T06:01:27.968374",
     "exception": false,
     "start_time": "2022-08-27T06:01:27.926123",
     "status": "completed"
    },
    "tags": []
   },
   "outputs": [
    {
     "data": {
      "text/plain": [
       "PosixPath('/project/ritchie20/projects/phenoplier/base/results/gls/gene_corrs/cohorts/phenomexcan_astle/gtex_v8/mashr/by_chr/gene_corrs-chr20.pkl')"
      ]
     },
     "metadata": {},
     "output_type": "display_data"
    }
   ],
   "source": [
    "output_dir = OUTPUT_DIR_BASE / \"by_chr\"\n",
    "output_dir.mkdir(exist_ok=True, parents=True)\n",
    "output_file = output_dir / f\"gene_corrs-chr{CHROMOSOME}.pkl\"\n",
    "display(output_file)"
   ]
  },
  {
   "cell_type": "code",
   "execution_count": 23,
   "id": "aa674fe4-6794-4eed-98fa-32b39d1d4ace",
   "metadata": {
    "execution": {
     "iopub.execute_input": "2022-08-27T06:01:27.992489Z",
     "iopub.status.busy": "2022-08-27T06:01:27.992262Z",
     "iopub.status.idle": "2022-08-27T06:01:28.007889Z",
     "shell.execute_reply": "2022-08-27T06:01:28.007375Z"
    },
    "papermill": {
     "duration": 0.029459,
     "end_time": "2022-08-27T06:01:28.009488",
     "exception": false,
     "start_time": "2022-08-27T06:01:27.980029",
     "status": "completed"
    },
    "tags": []
   },
   "outputs": [],
   "source": [
    "warnings.filterwarnings(\"error\")"
   ]
  },
  {
   "cell_type": "code",
   "execution_count": 24,
   "id": "44d5450b-3baf-43f1-9e2e-4b06f1a785f8",
   "metadata": {
    "execution": {
     "iopub.execute_input": "2022-08-27T06:01:28.032052Z",
     "iopub.status.busy": "2022-08-27T06:01:28.031860Z",
     "iopub.status.idle": "2022-08-27T06:01:28.047966Z",
     "shell.execute_reply": "2022-08-27T06:01:28.047433Z"
    },
    "papermill": {
     "duration": 0.029754,
     "end_time": "2022-08-27T06:01:28.049584",
     "exception": false,
     "start_time": "2022-08-27T06:01:28.019830",
     "status": "completed"
    },
    "tags": []
   },
   "outputs": [],
   "source": [
    "# standard checks\n",
    "all_chrs = genes_info[\"chr\"].dropna().unique()\n",
    "assert all_chrs.shape[0] == 22\n",
    "\n",
    "# select chromosome given by the user\n",
    "assert CHROMOSOME in all_chrs"
   ]
  },
  {
   "cell_type": "code",
   "execution_count": 25,
   "id": "2d7c043c-92a7-4d35-991b-fa69ac1e0268",
   "metadata": {
    "execution": {
     "iopub.execute_input": "2022-08-27T06:01:28.071236Z",
     "iopub.status.busy": "2022-08-27T06:01:28.071043Z",
     "iopub.status.idle": "2022-08-27T06:01:28.098620Z",
     "shell.execute_reply": "2022-08-27T06:01:28.098062Z"
    },
    "papermill": {
     "duration": 0.040212,
     "end_time": "2022-08-27T06:01:28.100220",
     "exception": false,
     "start_time": "2022-08-27T06:01:28.060008",
     "status": "completed"
    },
    "tags": []
   },
   "outputs": [
    {
     "name": "stdout",
     "output_type": "stream",
     "text": [
      "Number of genes in chromosome: 187\n"
     ]
    }
   ],
   "source": [
    "# run only on the chromosome specified\n",
    "all_chrs = [CHROMOSOME]\n",
    "genes_chr = genes_info[genes_info[\"chr\"] == CHROMOSOME]\n",
    "\n",
    "# For testing purposes\n",
    "# genes_chr = genes_chr.sample(n=20)\n",
    "\n",
    "print(f\"Number of genes in chromosome: {genes_chr.shape[0]}\", flush=True)"
   ]
  },
  {
   "cell_type": "code",
   "execution_count": 26,
   "id": "916015d8-2979-46d3-a9b9-1cf5a0932c6a",
   "metadata": {
    "execution": {
     "iopub.execute_input": "2022-08-27T06:01:28.124239Z",
     "iopub.status.busy": "2022-08-27T06:01:28.124032Z",
     "iopub.status.idle": "2022-08-27T06:01:28.140701Z",
     "shell.execute_reply": "2022-08-27T06:01:28.140128Z"
    },
    "papermill": {
     "duration": 0.030907,
     "end_time": "2022-08-27T06:01:28.142377",
     "exception": false,
     "start_time": "2022-08-27T06:01:28.111470",
     "status": "completed"
    },
    "tags": []
   },
   "outputs": [],
   "source": [
    "# sort genes by starting position to make visualizations better later\n",
    "genes_chr = genes_chr.sort_values(\"start_position\")"
   ]
  },
  {
   "cell_type": "code",
   "execution_count": 27,
   "id": "a38aa74a-8ad3-47f6-8ef9-56be0e011774",
   "metadata": {
    "execution": {
     "iopub.execute_input": "2022-08-27T06:01:28.167249Z",
     "iopub.status.busy": "2022-08-27T06:01:28.167057Z",
     "iopub.status.idle": "2022-08-27T06:01:28.183747Z",
     "shell.execute_reply": "2022-08-27T06:01:28.183190Z"
    },
    "papermill": {
     "duration": 0.032581,
     "end_time": "2022-08-27T06:01:28.185429",
     "exception": false,
     "start_time": "2022-08-27T06:01:28.152848",
     "status": "completed"
    },
    "tags": []
   },
   "outputs": [],
   "source": [
    "gene_chr_objs = [Gene(ensembl_id=gene_id) for gene_id in genes_chr[\"id\"]]"
   ]
  },
  {
   "cell_type": "code",
   "execution_count": 28,
   "id": "570f974f-13c3-42b6-ad3a-ce99ca885c1a",
   "metadata": {
    "execution": {
     "iopub.execute_input": "2022-08-27T06:01:28.210102Z",
     "iopub.status.busy": "2022-08-27T06:01:28.209909Z",
     "iopub.status.idle": "2022-08-27T06:01:28.227129Z",
     "shell.execute_reply": "2022-08-27T06:01:28.226617Z"
    },
    "papermill": {
     "duration": 0.032014,
     "end_time": "2022-08-27T06:01:28.228820",
     "exception": false,
     "start_time": "2022-08-27T06:01:28.196806",
     "status": "completed"
    },
    "tags": []
   },
   "outputs": [
    {
     "name": "stdout",
     "output_type": "stream",
     "text": [
      "Number of gene combinations: 17391\n"
     ]
    }
   ],
   "source": [
    "n = len(gene_chr_objs)\n",
    "n_comb = int(n * (n - 1) / 2.0)\n",
    "print(f\"Number of gene combinations: {n_comb}\", flush=True)"
   ]
  },
  {
   "cell_type": "code",
   "execution_count": 29,
   "id": "cdbb90a1",
   "metadata": {
    "execution": {
     "iopub.execute_input": "2022-08-27T06:01:28.251729Z",
     "iopub.status.busy": "2022-08-27T06:01:28.251524Z",
     "iopub.status.idle": "2022-08-27T06:31:45.792855Z",
     "shell.execute_reply": "2022-08-27T06:31:45.791296Z"
    },
    "papermill": {
     "duration": 1817.557798,
     "end_time": "2022-08-27T06:31:45.796877",
     "exception": false,
     "start_time": "2022-08-27T06:01:28.239079",
     "status": "completed"
    },
    "tags": []
   },
   "outputs": [
    {
     "name": "stderr",
     "output_type": "stream",
     "text": [
      "ENSG00000125510 / ENSG00000125510: : 17578it [30:17,  9.67it/s]\n"
     ]
    },
    {
     "data": {
      "text/plain": [
       "PosixPath('/project/ritchie20/projects/phenoplier/base/results/gls/gene_corrs/cohorts/phenomexcan_astle/gtex_v8/mashr/by_chr/gene_corrs-chr20.pkl')"
      ]
     },
     "metadata": {},
     "output_type": "display_data"
    }
   ],
   "source": [
    "gene_corrs = []\n",
    "gene_corrs_data = np.full(\n",
    "    (n, n),\n",
    "    np.nan,\n",
    "    dtype=np.float64,\n",
    ")\n",
    "\n",
    "i = 0\n",
    "with tqdm(ncols=100, total=n_comb) as pbar:\n",
    "    for gene1_idx in range(0, len(gene_chr_objs)):\n",
    "        gene1_obj = gene_chr_objs[gene1_idx]\n",
    "        gene1_tissues = spredixcan_genes_models.loc[gene1_obj.ensembl_id, \"tissue\"]\n",
    "\n",
    "        for gene2_idx in range(gene1_idx, len(gene_chr_objs)):\n",
    "            gene2_obj = gene_chr_objs[gene2_idx]\n",
    "            gene2_tissues = spredixcan_genes_models.loc[gene2_obj.ensembl_id, \"tissue\"]\n",
    "\n",
    "            pbar.set_description(f\"{gene1_obj.ensembl_id} / {gene2_obj.ensembl_id}\")\n",
    "\n",
    "            try:\n",
    "                r = gene1_obj.get_ssm_correlation(\n",
    "                    other_gene=gene2_obj,\n",
    "                    tissues=gene1_tissues,\n",
    "                    other_tissues=gene2_tissues,\n",
    "                    snps_subset=gwas_variants_ids_set,\n",
    "                    condition_number=SMULTIXCAN_CONDITION_NUMBER,\n",
    "                    reference_panel=REFERENCE_PANEL,\n",
    "                    model_type=EQTL_MODEL,\n",
    "                    use_within_distance=COMPUTE_CORRELATIONS_WITHIN_DISTANCE,\n",
    "                )\n",
    "\n",
    "                if r is None:\n",
    "                    # if r is None, it's very likely because:\n",
    "                    #  * one of the genes has no prediction models\n",
    "                    #  * all the SNPs predictors for the gene are not present in the reference\n",
    "                    #    panel\n",
    "\n",
    "                    r = 0.0\n",
    "\n",
    "                gene_corrs.append(r)\n",
    "\n",
    "                gene_corrs_data[gene1_idx, gene2_idx] = r\n",
    "                gene_corrs_data[gene2_idx, gene1_idx] = r\n",
    "            except Warning as e:\n",
    "                if not DEBUG_MODE:\n",
    "                    raise e\n",
    "\n",
    "                print(\n",
    "                    f\"RuntimeWarning for genes {gene1_obj.ensembl_id} and {gene2_obj.ensembl_id}\",\n",
    "                    flush=True,\n",
    "                )\n",
    "                print(traceback.format_exc(), flush=True)\n",
    "\n",
    "                gene_corrs.append(np.nan)\n",
    "            except Exception as e:\n",
    "                if not DEBUG_MODE:\n",
    "                    raise e\n",
    "\n",
    "                print(\n",
    "                    f\"Exception for genes {gene1_obj.ensembl_id} and {gene2_obj.ensembl_id}\",\n",
    "                    flush=True,\n",
    "                )\n",
    "                print(traceback.format_exc(), flush=True)\n",
    "\n",
    "                gene_corrs.append(np.nan)\n",
    "\n",
    "            pbar.update(1)\n",
    "\n",
    "# create a pandas series\n",
    "gene_corrs_flat = pd.Series(gene_corrs)\n",
    "\n",
    "# save\n",
    "# FIXME: consider saving only the condenced matrix here. See here for\n",
    "# more details: https://github.com/greenelab/phenoplier/pull/38#discussion_r634600813\n",
    "# gene_corrs_data = squareform(np.array(gene_corrs, dtype=np.float64))\n",
    "# np.fill_diagonal(gene_corrs_data, 1.0)\n",
    "\n",
    "gene_chr_ids = [g.ensembl_id for g in gene_chr_objs]\n",
    "gene_corrs_df = pd.DataFrame(\n",
    "    data=gene_corrs_data,\n",
    "    index=gene_chr_ids,\n",
    "    columns=gene_chr_ids,\n",
    ")\n",
    "\n",
    "output_dir.mkdir(exist_ok=True, parents=True)\n",
    "display(output_file)\n",
    "\n",
    "gene_corrs_df.to_pickle(output_file)"
   ]
  },
  {
   "cell_type": "markdown",
   "id": "faa67b51-5373-470f-aa72-2ded53fa6dfe",
   "metadata": {
    "papermill": {
     "duration": 1.254955,
     "end_time": "2022-08-27T06:31:48.319462",
     "exception": false,
     "start_time": "2022-08-27T06:31:47.064507",
     "status": "completed"
    },
    "tags": []
   },
   "source": [
    "# Testing"
   ]
  },
  {
   "cell_type": "code",
   "execution_count": 30,
   "id": "14f7d046-4b55-4896-a56b-990127bcc388",
   "metadata": {
    "execution": {
     "iopub.execute_input": "2022-08-27T06:31:50.743938Z",
     "iopub.status.busy": "2022-08-27T06:31:50.743645Z",
     "iopub.status.idle": "2022-08-27T06:31:50.960519Z",
     "shell.execute_reply": "2022-08-27T06:31:50.959927Z"
    },
    "papermill": {
     "duration": 1.443396,
     "end_time": "2022-08-27T06:31:50.962136",
     "exception": false,
     "start_time": "2022-08-27T06:31:49.518740",
     "status": "completed"
    },
    "tags": []
   },
   "outputs": [
    {
     "data": {
      "text/plain": [
       "(187, 187)"
      ]
     },
     "execution_count": 30,
     "metadata": {},
     "output_type": "execute_result"
    }
   ],
   "source": [
    "gene_corrs_df.shape"
   ]
  },
  {
   "cell_type": "code",
   "execution_count": 31,
   "id": "c7d15414-3297-4537-a7c6-7588c0baeb75",
   "metadata": {
    "execution": {
     "iopub.execute_input": "2022-08-27T06:31:53.373863Z",
     "iopub.status.busy": "2022-08-27T06:31:53.373579Z",
     "iopub.status.idle": "2022-08-27T06:31:53.410921Z",
     "shell.execute_reply": "2022-08-27T06:31:53.410372Z"
    },
    "papermill": {
     "duration": 1.258841,
     "end_time": "2022-08-27T06:31:53.412478",
     "exception": false,
     "start_time": "2022-08-27T06:31:52.153637",
     "status": "completed"
    },
    "tags": []
   },
   "outputs": [
    {
     "data": {
      "text/html": [
       "<div>\n",
       "<style scoped>\n",
       "    .dataframe tbody tr th:only-of-type {\n",
       "        vertical-align: middle;\n",
       "    }\n",
       "\n",
       "    .dataframe tbody tr th {\n",
       "        vertical-align: top;\n",
       "    }\n",
       "\n",
       "    .dataframe thead th {\n",
       "        text-align: right;\n",
       "    }\n",
       "</style>\n",
       "<table border=\"1\" class=\"dataframe\">\n",
       "  <thead>\n",
       "    <tr style=\"text-align: right;\">\n",
       "      <th></th>\n",
       "      <th>ENSG00000101255</th>\n",
       "      <th>ENSG00000125826</th>\n",
       "      <th>ENSG00000101266</th>\n",
       "      <th>ENSG00000101280</th>\n",
       "      <th>ENSG00000125818</th>\n",
       "      <th>ENSG00000101298</th>\n",
       "      <th>ENSG00000088832</th>\n",
       "      <th>ENSG00000101307</th>\n",
       "      <th>ENSG00000089012</th>\n",
       "      <th>ENSG00000198053</th>\n",
       "      <th>...</th>\n",
       "      <th>ENSG00000092758</th>\n",
       "      <th>ENSG00000101191</th>\n",
       "      <th>ENSG00000101199</th>\n",
       "      <th>ENSG00000243509</th>\n",
       "      <th>ENSG00000203896</th>\n",
       "      <th>ENSG00000101152</th>\n",
       "      <th>ENSG00000198276</th>\n",
       "      <th>ENSG00000101161</th>\n",
       "      <th>ENSG00000171700</th>\n",
       "      <th>ENSG00000125510</th>\n",
       "    </tr>\n",
       "  </thead>\n",
       "  <tbody>\n",
       "    <tr>\n",
       "      <th>ENSG00000101255</th>\n",
       "      <td>1.000000</td>\n",
       "      <td>0.059724</td>\n",
       "      <td>0.017944</td>\n",
       "      <td>0.006776</td>\n",
       "      <td>0.001715</td>\n",
       "      <td>0.007769</td>\n",
       "      <td>0.004279</td>\n",
       "      <td>0.001429</td>\n",
       "      <td>0.004735</td>\n",
       "      <td>0.007948</td>\n",
       "      <td>...</td>\n",
       "      <td>0.008097</td>\n",
       "      <td>0.006479</td>\n",
       "      <td>0.003528</td>\n",
       "      <td>0.003689</td>\n",
       "      <td>0.004437</td>\n",
       "      <td>0.004096</td>\n",
       "      <td>0.004953</td>\n",
       "      <td>0.003903</td>\n",
       "      <td>0.006731</td>\n",
       "      <td>0.007004</td>\n",
       "    </tr>\n",
       "    <tr>\n",
       "      <th>ENSG00000125826</th>\n",
       "      <td>0.059724</td>\n",
       "      <td>1.000000</td>\n",
       "      <td>0.059804</td>\n",
       "      <td>0.009671</td>\n",
       "      <td>0.001098</td>\n",
       "      <td>0.007251</td>\n",
       "      <td>0.008844</td>\n",
       "      <td>0.005858</td>\n",
       "      <td>0.005351</td>\n",
       "      <td>0.007779</td>\n",
       "      <td>...</td>\n",
       "      <td>0.016728</td>\n",
       "      <td>0.004381</td>\n",
       "      <td>0.003153</td>\n",
       "      <td>0.009080</td>\n",
       "      <td>0.011099</td>\n",
       "      <td>0.005442</td>\n",
       "      <td>0.010397</td>\n",
       "      <td>0.005669</td>\n",
       "      <td>0.003872</td>\n",
       "      <td>0.006186</td>\n",
       "    </tr>\n",
       "    <tr>\n",
       "      <th>ENSG00000101266</th>\n",
       "      <td>0.017944</td>\n",
       "      <td>0.059804</td>\n",
       "      <td>1.000000</td>\n",
       "      <td>0.013558</td>\n",
       "      <td>0.007299</td>\n",
       "      <td>0.008002</td>\n",
       "      <td>0.004531</td>\n",
       "      <td>0.003621</td>\n",
       "      <td>0.006560</td>\n",
       "      <td>0.009373</td>\n",
       "      <td>...</td>\n",
       "      <td>0.010498</td>\n",
       "      <td>0.004541</td>\n",
       "      <td>0.005871</td>\n",
       "      <td>0.010738</td>\n",
       "      <td>0.005084</td>\n",
       "      <td>0.005631</td>\n",
       "      <td>0.007585</td>\n",
       "      <td>0.004329</td>\n",
       "      <td>0.006662</td>\n",
       "      <td>0.005166</td>\n",
       "    </tr>\n",
       "    <tr>\n",
       "      <th>ENSG00000101280</th>\n",
       "      <td>0.006776</td>\n",
       "      <td>0.009671</td>\n",
       "      <td>0.013558</td>\n",
       "      <td>1.000000</td>\n",
       "      <td>0.002424</td>\n",
       "      <td>0.014114</td>\n",
       "      <td>0.010529</td>\n",
       "      <td>0.006447</td>\n",
       "      <td>0.007568</td>\n",
       "      <td>0.009558</td>\n",
       "      <td>...</td>\n",
       "      <td>0.011007</td>\n",
       "      <td>0.006206</td>\n",
       "      <td>0.009392</td>\n",
       "      <td>0.012976</td>\n",
       "      <td>0.006206</td>\n",
       "      <td>0.003377</td>\n",
       "      <td>0.010968</td>\n",
       "      <td>0.009743</td>\n",
       "      <td>0.006963</td>\n",
       "      <td>0.003093</td>\n",
       "    </tr>\n",
       "    <tr>\n",
       "      <th>ENSG00000125818</th>\n",
       "      <td>0.001715</td>\n",
       "      <td>0.001098</td>\n",
       "      <td>0.007299</td>\n",
       "      <td>0.002424</td>\n",
       "      <td>1.000000</td>\n",
       "      <td>0.005772</td>\n",
       "      <td>0.014527</td>\n",
       "      <td>0.000558</td>\n",
       "      <td>0.006267</td>\n",
       "      <td>0.004206</td>\n",
       "      <td>...</td>\n",
       "      <td>0.008793</td>\n",
       "      <td>0.002832</td>\n",
       "      <td>0.001146</td>\n",
       "      <td>0.007038</td>\n",
       "      <td>0.002838</td>\n",
       "      <td>0.002058</td>\n",
       "      <td>0.003925</td>\n",
       "      <td>0.004864</td>\n",
       "      <td>0.005298</td>\n",
       "      <td>0.000381</td>\n",
       "    </tr>\n",
       "  </tbody>\n",
       "</table>\n",
       "<p>5 rows × 187 columns</p>\n",
       "</div>"
      ],
      "text/plain": [
       "                 ENSG00000101255  ENSG00000125826  ENSG00000101266  \\\n",
       "ENSG00000101255         1.000000         0.059724         0.017944   \n",
       "ENSG00000125826         0.059724         1.000000         0.059804   \n",
       "ENSG00000101266         0.017944         0.059804         1.000000   \n",
       "ENSG00000101280         0.006776         0.009671         0.013558   \n",
       "ENSG00000125818         0.001715         0.001098         0.007299   \n",
       "\n",
       "                 ENSG00000101280  ENSG00000125818  ENSG00000101298  \\\n",
       "ENSG00000101255         0.006776         0.001715         0.007769   \n",
       "ENSG00000125826         0.009671         0.001098         0.007251   \n",
       "ENSG00000101266         0.013558         0.007299         0.008002   \n",
       "ENSG00000101280         1.000000         0.002424         0.014114   \n",
       "ENSG00000125818         0.002424         1.000000         0.005772   \n",
       "\n",
       "                 ENSG00000088832  ENSG00000101307  ENSG00000089012  \\\n",
       "ENSG00000101255         0.004279         0.001429         0.004735   \n",
       "ENSG00000125826         0.008844         0.005858         0.005351   \n",
       "ENSG00000101266         0.004531         0.003621         0.006560   \n",
       "ENSG00000101280         0.010529         0.006447         0.007568   \n",
       "ENSG00000125818         0.014527         0.000558         0.006267   \n",
       "\n",
       "                 ENSG00000198053  ...  ENSG00000092758  ENSG00000101191  \\\n",
       "ENSG00000101255         0.007948  ...         0.008097         0.006479   \n",
       "ENSG00000125826         0.007779  ...         0.016728         0.004381   \n",
       "ENSG00000101266         0.009373  ...         0.010498         0.004541   \n",
       "ENSG00000101280         0.009558  ...         0.011007         0.006206   \n",
       "ENSG00000125818         0.004206  ...         0.008793         0.002832   \n",
       "\n",
       "                 ENSG00000101199  ENSG00000243509  ENSG00000203896  \\\n",
       "ENSG00000101255         0.003528         0.003689         0.004437   \n",
       "ENSG00000125826         0.003153         0.009080         0.011099   \n",
       "ENSG00000101266         0.005871         0.010738         0.005084   \n",
       "ENSG00000101280         0.009392         0.012976         0.006206   \n",
       "ENSG00000125818         0.001146         0.007038         0.002838   \n",
       "\n",
       "                 ENSG00000101152  ENSG00000198276  ENSG00000101161  \\\n",
       "ENSG00000101255         0.004096         0.004953         0.003903   \n",
       "ENSG00000125826         0.005442         0.010397         0.005669   \n",
       "ENSG00000101266         0.005631         0.007585         0.004329   \n",
       "ENSG00000101280         0.003377         0.010968         0.009743   \n",
       "ENSG00000125818         0.002058         0.003925         0.004864   \n",
       "\n",
       "                 ENSG00000171700  ENSG00000125510  \n",
       "ENSG00000101255         0.006731         0.007004  \n",
       "ENSG00000125826         0.003872         0.006186  \n",
       "ENSG00000101266         0.006662         0.005166  \n",
       "ENSG00000101280         0.006963         0.003093  \n",
       "ENSG00000125818         0.005298         0.000381  \n",
       "\n",
       "[5 rows x 187 columns]"
      ]
     },
     "execution_count": 31,
     "metadata": {},
     "output_type": "execute_result"
    }
   ],
   "source": [
    "gene_corrs_df.head()"
   ]
  },
  {
   "cell_type": "markdown",
   "id": "dad6603f-01c6-41fb-a6f6-241051207dd8",
   "metadata": {
    "papermill": {
     "duration": 1.222996,
     "end_time": "2022-08-27T06:31:55.860959",
     "exception": false,
     "start_time": "2022-08-27T06:31:54.637963",
     "status": "completed"
    },
    "tags": []
   },
   "source": [
    "## Standard checks and stats"
   ]
  },
  {
   "cell_type": "code",
   "execution_count": 32,
   "id": "286686af-1b7b-4440-8453-6bdcbd8de19c",
   "metadata": {
    "execution": {
     "iopub.execute_input": "2022-08-27T06:31:58.346633Z",
     "iopub.status.busy": "2022-08-27T06:31:58.346349Z",
     "iopub.status.idle": "2022-08-27T06:31:58.366613Z",
     "shell.execute_reply": "2022-08-27T06:31:58.366038Z"
    },
    "papermill": {
     "duration": 1.295578,
     "end_time": "2022-08-27T06:31:58.368349",
     "exception": false,
     "start_time": "2022-08-27T06:31:57.072771",
     "status": "completed"
    },
    "tags": []
   },
   "outputs": [],
   "source": [
    "assert not gene_corrs_df.isna().any().any()"
   ]
  },
  {
   "cell_type": "code",
   "execution_count": 33,
   "id": "00583efc-7068-4270-ad1e-4a418e91db96",
   "metadata": {
    "execution": {
     "iopub.execute_input": "2022-08-27T06:32:00.803930Z",
     "iopub.status.busy": "2022-08-27T06:32:00.803649Z",
     "iopub.status.idle": "2022-08-27T06:32:00.826741Z",
     "shell.execute_reply": "2022-08-27T06:32:00.826145Z"
    },
    "papermill": {
     "duration": 1.255104,
     "end_time": "2022-08-27T06:32:00.828378",
     "exception": false,
     "start_time": "2022-08-27T06:31:59.573274",
     "status": "completed"
    },
    "tags": []
   },
   "outputs": [
    {
     "data": {
      "text/plain": [
       "3.343921103487202e-06"
      ]
     },
     "metadata": {},
     "output_type": "display_data"
    }
   ],
   "source": [
    "_min_val = gene_corrs_df.min().min()\n",
    "display(_min_val)\n",
    "assert _min_val >= -0.05"
   ]
  },
  {
   "cell_type": "code",
   "execution_count": 34,
   "id": "d04fb2cf-1050-475b-b855-f5f7cc04092b",
   "metadata": {
    "execution": {
     "iopub.execute_input": "2022-08-27T06:32:03.301460Z",
     "iopub.status.busy": "2022-08-27T06:32:03.301164Z",
     "iopub.status.idle": "2022-08-27T06:32:03.323995Z",
     "shell.execute_reply": "2022-08-27T06:32:03.323418Z"
    },
    "papermill": {
     "duration": 1.257778,
     "end_time": "2022-08-27T06:32:03.325568",
     "exception": false,
     "start_time": "2022-08-27T06:32:02.067790",
     "status": "completed"
    },
    "tags": []
   },
   "outputs": [
    {
     "data": {
      "text/plain": [
       "1.0000000000000029"
      ]
     },
     "metadata": {},
     "output_type": "display_data"
    }
   ],
   "source": [
    "_max_val = gene_corrs_df.max().max()  # this captures the diagonal\n",
    "display(_max_val)\n",
    "assert _max_val <= 1.05"
   ]
  },
  {
   "cell_type": "code",
   "execution_count": 35,
   "id": "96d02c44-1fba-47be-8a93-8f2608420b9c",
   "metadata": {
    "execution": {
     "iopub.execute_input": "2022-08-27T06:32:05.775114Z",
     "iopub.status.busy": "2022-08-27T06:32:05.774829Z",
     "iopub.status.idle": "2022-08-27T06:32:05.793639Z",
     "shell.execute_reply": "2022-08-27T06:32:05.793102Z"
    },
    "papermill": {
     "duration": 1.256817,
     "end_time": "2022-08-27T06:32:05.795265",
     "exception": false,
     "start_time": "2022-08-27T06:32:04.538448",
     "status": "completed"
    },
    "tags": []
   },
   "outputs": [],
   "source": [
    "# check upper triangular values\n",
    "# assert len(gene_corrs) == int(genes_chr.shape[0] * (genes_chr.shape[0] - 1) / 2)"
   ]
  },
  {
   "cell_type": "code",
   "execution_count": 36,
   "id": "fe283586-c348-40e0-8841-f6d97bfb021c",
   "metadata": {
    "execution": {
     "iopub.execute_input": "2022-08-27T06:32:08.240199Z",
     "iopub.status.busy": "2022-08-27T06:32:08.239916Z",
     "iopub.status.idle": "2022-08-27T06:32:08.264967Z",
     "shell.execute_reply": "2022-08-27T06:32:08.264381Z"
    },
    "papermill": {
     "duration": 1.25271,
     "end_time": "2022-08-27T06:32:08.266612",
     "exception": false,
     "start_time": "2022-08-27T06:32:07.013902",
     "status": "completed"
    },
    "tags": []
   },
   "outputs": [
    {
     "data": {
      "text/plain": [
       "count    17578.000000\n",
       "mean         0.021089\n",
       "std          0.108672\n",
       "min          0.000003\n",
       "25%          0.004055\n",
       "50%          0.006232\n",
       "75%          0.008943\n",
       "max          1.000000\n",
       "dtype: float64"
      ]
     },
     "execution_count": 36,
     "metadata": {},
     "output_type": "execute_result"
    }
   ],
   "source": [
    "gene_corrs_flat.describe()"
   ]
  },
  {
   "cell_type": "code",
   "execution_count": 37,
   "id": "b3815678-0f93-4b35-897b-a9d047a2aa78",
   "metadata": {
    "execution": {
     "iopub.execute_input": "2022-08-27T06:32:10.743981Z",
     "iopub.status.busy": "2022-08-27T06:32:10.743690Z",
     "iopub.status.idle": "2022-08-27T06:32:10.776033Z",
     "shell.execute_reply": "2022-08-27T06:32:10.775451Z"
    },
    "papermill": {
     "duration": 1.281481,
     "end_time": "2022-08-27T06:32:10.777677",
     "exception": false,
     "start_time": "2022-08-27T06:32:09.496196",
     "status": "completed"
    },
    "tags": []
   },
   "outputs": [
    {
     "data": {
      "text/plain": [
       "0.00    0.000003\n",
       "0.05    0.001775\n",
       "0.10    0.002560\n",
       "0.15    0.003124\n",
       "0.20    0.003619\n",
       "0.25    0.004055\n",
       "0.30    0.004509\n",
       "0.35    0.004942\n",
       "0.40    0.005375\n",
       "0.45    0.005803\n",
       "0.50    0.006232\n",
       "0.55    0.006715\n",
       "0.60    0.007223\n",
       "0.65    0.007739\n",
       "0.70    0.008266\n",
       "0.75    0.008943\n",
       "0.80    0.009644\n",
       "0.85    0.010619\n",
       "0.90    0.011993\n",
       "0.95    0.015175\n",
       "dtype: float64"
      ]
     },
     "metadata": {},
     "output_type": "display_data"
    }
   ],
   "source": [
    "gene_corrs_quantiles = gene_corrs_flat.quantile(np.arange(0, 1, 0.05))\n",
    "display(gene_corrs_quantiles)"
   ]
  },
  {
   "cell_type": "markdown",
   "id": "87134509-b145-4a10-8bc9-b7e914c2b0fa",
   "metadata": {
    "papermill": {
     "duration": 1.244503,
     "end_time": "2022-08-27T06:32:13.309798",
     "exception": false,
     "start_time": "2022-08-27T06:32:12.065295",
     "status": "completed"
    },
    "tags": []
   },
   "source": [
    "## Positive definiteness"
   ]
  },
  {
   "cell_type": "code",
   "execution_count": 38,
   "id": "07d9a9a1-a4f7-48aa-b916-6d42a8cc6186",
   "metadata": {
    "execution": {
     "iopub.execute_input": "2022-08-27T06:32:15.800529Z",
     "iopub.status.busy": "2022-08-27T06:32:15.800231Z",
     "iopub.status.idle": "2022-08-27T06:32:15.834980Z",
     "shell.execute_reply": "2022-08-27T06:32:15.834409Z"
    },
    "papermill": {
     "duration": 1.278282,
     "end_time": "2022-08-27T06:32:15.836611",
     "exception": false,
     "start_time": "2022-08-27T06:32:14.558329",
     "status": "completed"
    },
    "tags": []
   },
   "outputs": [
    {
     "data": {
      "text/plain": [
       "0"
      ]
     },
     "metadata": {},
     "output_type": "display_data"
    },
    {
     "data": {
      "text/plain": [
       "array([], dtype=float64)"
      ]
     },
     "metadata": {},
     "output_type": "display_data"
    }
   ],
   "source": [
    "# print negative eigenvalues\n",
    "eigs = np.linalg.eigvals(gene_corrs_df.to_numpy())\n",
    "display(len(eigs[eigs < 0]))\n",
    "display(eigs[eigs < 0])"
   ]
  },
  {
   "cell_type": "code",
   "execution_count": 39,
   "id": "6e218436-c3c5-4028-8c94-a4fa6260efce",
   "metadata": {
    "execution": {
     "iopub.execute_input": "2022-08-27T06:32:18.366811Z",
     "iopub.status.busy": "2022-08-27T06:32:18.366539Z",
     "iopub.status.idle": "2022-08-27T06:32:18.390673Z",
     "shell.execute_reply": "2022-08-27T06:32:18.390105Z"
    },
    "papermill": {
     "duration": 1.276737,
     "end_time": "2022-08-27T06:32:18.392381",
     "exception": false,
     "start_time": "2022-08-27T06:32:17.115644",
     "status": "completed"
    },
    "tags": []
   },
   "outputs": [
    {
     "name": "stdout",
     "output_type": "stream",
     "text": [
      "Works!\n"
     ]
    }
   ],
   "source": [
    "try:\n",
    "    chol_mat = np.linalg.cholesky(gene_corrs_df.to_numpy())\n",
    "    cov_inv = np.linalg.inv(chol_mat)\n",
    "    print(\"Works!\")\n",
    "except Exception as e:\n",
    "    print(f\"Cholesky decomposition failed: {str(e)}\")"
   ]
  },
  {
   "cell_type": "code",
   "execution_count": 40,
   "id": "dd8827fb-faf9-4c7c-9454-015e94752706",
   "metadata": {
    "execution": {
     "iopub.execute_input": "2022-08-27T06:32:20.889385Z",
     "iopub.status.busy": "2022-08-27T06:32:20.889107Z",
     "iopub.status.idle": "2022-08-27T06:32:20.915807Z",
     "shell.execute_reply": "2022-08-27T06:32:20.915242Z"
    },
    "papermill": {
     "duration": 1.279875,
     "end_time": "2022-08-27T06:32:20.917390",
     "exception": false,
     "start_time": "2022-08-27T06:32:19.637515",
     "status": "completed"
    },
    "tags": []
   },
   "outputs": [
    {
     "name": "stdout",
     "output_type": "stream",
     "text": [
      "Works!\n"
     ]
    }
   ],
   "source": [
    "try:\n",
    "    # decomposition used by statsmodels.GLS\n",
    "    cholsigmainv = np.linalg.cholesky(np.linalg.inv(gene_corrs_df.to_numpy())).T\n",
    "    print(\"Works!\")\n",
    "except Exception as e:\n",
    "    print(f\"Cholesky decomposition failed (statsmodels.GLS): {str(e)}\")"
   ]
  },
  {
   "cell_type": "markdown",
   "id": "8e60a080-edb2-4e9c-b2ef-22961693200c",
   "metadata": {
    "papermill": {
     "duration": 1.278373,
     "end_time": "2022-08-27T06:32:23.431140",
     "exception": false,
     "start_time": "2022-08-27T06:32:22.152767",
     "status": "completed"
    },
    "tags": []
   },
   "source": [
    "## Plot: distribution"
   ]
  },
  {
   "cell_type": "code",
   "execution_count": 41,
   "id": "8301126b-a7d4-4744-9c7d-f0f86eb6f54c",
   "metadata": {
    "execution": {
     "iopub.execute_input": "2022-08-27T06:32:25.911688Z",
     "iopub.status.busy": "2022-08-27T06:32:25.911409Z",
     "iopub.status.idle": "2022-08-27T06:32:33.211099Z",
     "shell.execute_reply": "2022-08-27T06:32:33.210482Z"
    },
    "papermill": {
     "duration": 8.552727,
     "end_time": "2022-08-27T06:32:33.212926",
     "exception": false,
     "start_time": "2022-08-27T06:32:24.660199",
     "status": "completed"
    },
    "tags": []
   },
   "outputs": [
    {
     "data": {
      "image/png": "[encoded data removed]",
      "text/plain": [
       "<Figure size 504x504 with 1 Axes>"
      ]
     },
     "metadata": {
      "needs_background": "light"
     },
     "output_type": "display_data"
    }
   ],
   "source": [
    "with sns.plotting_context(\"paper\", font_scale=1.5):\n",
    "    g = sns.displot(gene_corrs_flat, kde=True, height=7)\n",
    "    g.ax.set_title(\n",
    "        f\"Distribution of gene correlation values in chromosome {CHROMOSOME}\"\n",
    "    )"
   ]
  },
  {
   "cell_type": "markdown",
   "id": "cbd52bca-d878-4a2f-b684-5c83aa3038d4",
   "metadata": {
    "papermill": {
     "duration": 1.238358,
     "end_time": "2022-08-27T06:32:35.677947",
     "exception": false,
     "start_time": "2022-08-27T06:32:34.439589",
     "status": "completed"
    },
    "tags": []
   },
   "source": [
    "## Plot: heatmap"
   ]
  },
  {
   "cell_type": "code",
   "execution_count": 42,
   "id": "d03fe63a-c7b2-4fb9-a53c-db362ce843c9",
   "metadata": {
    "execution": {
     "iopub.execute_input": "2022-08-27T06:32:38.178862Z",
     "iopub.status.busy": "2022-08-27T06:32:38.178575Z",
     "iopub.status.idle": "2022-08-27T06:32:38.201910Z",
     "shell.execute_reply": "2022-08-27T06:32:38.201336Z"
    },
    "papermill": {
     "duration": 1.255277,
     "end_time": "2022-08-27T06:32:38.203545",
     "exception": false,
     "start_time": "2022-08-27T06:32:36.948268",
     "status": "completed"
    },
    "tags": []
   },
   "outputs": [
    {
     "data": {
      "text/plain": [
       "'0.0 / 0.05'"
      ]
     },
     "metadata": {},
     "output_type": "display_data"
    }
   ],
   "source": [
    "vmin_val = min(0.00, gene_corrs_quantiles[0.10])\n",
    "vmax_val = max(0.05, gene_corrs_quantiles[0.90])\n",
    "display(f\"{vmin_val} / {vmax_val}\")"
   ]
  },
  {
   "cell_type": "code",
   "execution_count": 43,
   "id": "dc41b70b-5bcc-4d9e-9f33-a22c4a94dab5",
   "metadata": {
    "execution": {
     "iopub.execute_input": "2022-08-27T06:32:40.695144Z",
     "iopub.status.busy": "2022-08-27T06:32:40.694861Z",
     "iopub.status.idle": "2022-08-27T06:32:41.479521Z",
     "shell.execute_reply": "2022-08-27T06:32:41.478901Z"
    },
    "papermill": {
     "duration": 2.02915,
     "end_time": "2022-08-27T06:32:41.481353",
     "exception": false,
     "start_time": "2022-08-27T06:32:39.452203",
     "status": "completed"
    },
    "tags": []
   },
   "outputs": [
    {
     "data": {
      "text/plain": [
       "Text(0.5, 1.0, 'Gene correlations in chromosome 20')"
      ]
     },
     "execution_count": 43,
     "metadata": {},
     "output_type": "execute_result"
    },
    {
     "data": {
      "image/png": "[encoded data removed]",
      "text/plain": [
       "<Figure size 720x720 with 2 Axes>"
      ]
     },
     "metadata": {
      "needs_background": "light"
     },
     "output_type": "display_data"
    }
   ],
   "source": [
    "f, ax = plt.subplots(figsize=(10, 10))\n",
    "sns.heatmap(\n",
    "    gene_corrs_df,\n",
    "    xticklabels=False,\n",
    "    yticklabels=False,\n",
    "    square=True,\n",
    "    vmin=vmin_val,\n",
    "    vmax=vmax_val,\n",
    "    cmap=\"rocket_r\",\n",
    "    ax=ax,\n",
    ")\n",
    "ax.set_title(f\"Gene correlations in chromosome {CHROMOSOME}\")"
   ]
  },
  {
   "cell_type": "code",
   "execution_count": null,
   "id": "b25e3ead",
   "metadata": {
    "papermill": {
     "duration": 1.260678,
     "end_time": "2022-08-27T06:32:43.973142",
     "exception": false,
     "start_time": "2022-08-27T06:32:42.712464",
     "status": "completed"
    },
    "tags": []
   },
   "outputs": [],
   "source": []
  }
 ],
 "metadata": {
  "jupytext": {
   "cell_metadata_filter": "all,-execution,-papermill,-trusted",
   "formats": "ipynb,py//py:percent"
  },
  "kernelspec": {
   "display_name": "Python 3 (ipykernel)",
   "language": "python",
   "name": "python3"
  },
  "language_info": {
   "codemirror_mode": {
    "name": "ipython",
    "version": 3
   },
   "file_extension": ".py",
   "mimetype": "text/x-python",
   "name": "python",
   "nbconvert_exporter": "python",
   "pygments_lexer": "ipython3",
   "version": "3.8.13"
  },
  "papermill": {
   "default_parameters": {},
   "duration": 1891.351561,
   "end_time": "2022-08-27T06:32:48.237865",
   "environment_variables": {},
   "exception": null,
   "input_path": "nbs/15_gsa_gls/10-gene_expr_correlations.ipynb",
   "output_path": "nbs/15_gsa_gls/gene_corrs/cohorts/phenomexcan_astle/gtex_v8/mashr/10-gene_expr_corrs/10-gene_expr_correlations-chr20.run.ipynb",
   "parameters": {
    "CHROMOSOME": 20,
    "COHORT_NAME": "phenomexcan_astle",
    "EQTL_MODEL": "MASHR",
    "REFERENCE_PANEL": "GTEX_V8"
   },
   "start_time": "2022-08-27T06:01:16.886304",
   "version": "2.2.2"
  }
 },
 "nbformat": 4,
 "nbformat_minor": 5
}
