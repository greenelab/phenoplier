{
 "cells": [
  {
   "cell_type": "markdown",
   "id": "7a6632fb",
   "metadata": {
    "papermill": {
     "duration": 0.019853,
     "end_time": "2022-08-27T06:01:18.941400",
     "exception": false,
     "start_time": "2022-08-27T06:01:18.921547",
     "status": "completed"
    },
    "tags": []
   },
   "source": [
    "# Description"
   ]
  },
  {
   "cell_type": "markdown",
   "id": "7097c346",
   "metadata": {
    "papermill": {
     "duration": 0.014097,
     "end_time": "2022-08-27T06:01:18.971267",
     "exception": false,
     "start_time": "2022-08-27T06:01:18.957170",
     "status": "completed"
    },
    "tags": []
   },
   "source": [
    "(Please, take a look at the README.md file in this directory for instructions on how to run this notebook)\n",
    "\n",
    "This notebook computes predicted expression correlations between all genes in the MultiPLIER models.\n",
    "\n",
    "It also has a parameter set for papermill to run on a single chromosome to run in parallel (see under `Settings` below).\n",
    "\n",
    "This notebook is not directly run. See README.md."
   ]
  },
  {
   "cell_type": "markdown",
   "id": "c61d8427",
   "metadata": {
    "papermill": {
     "duration": 0.012354,
     "end_time": "2022-08-27T06:01:18.996895",
     "exception": false,
     "start_time": "2022-08-27T06:01:18.984541",
     "status": "completed"
    },
    "tags": []
   },
   "source": [
    "# Modules"
   ]
  },
  {
   "cell_type": "code",
   "execution_count": 1,
   "id": "bbc0234f",
   "metadata": {
    "execution": {
     "iopub.execute_input": "2022-08-27T06:01:19.021731Z",
     "iopub.status.busy": "2022-08-27T06:01:19.021370Z",
     "iopub.status.idle": "2022-08-27T06:01:19.047540Z",
     "shell.execute_reply": "2022-08-27T06:01:19.046792Z"
    },
    "papermill": {
     "duration": 0.04121,
     "end_time": "2022-08-27T06:01:19.049871",
     "exception": false,
     "start_time": "2022-08-27T06:01:19.008661",
     "status": "completed"
    },
    "tags": []
   },
   "outputs": [],
   "source": [
    "%load_ext autoreload\n",
    "%autoreload 2"
   ]
  },
  {
   "cell_type": "code",
   "execution_count": 2,
   "id": "1d5f5a59",
   "metadata": {
    "execution": {
     "iopub.execute_input": "2022-08-27T06:01:19.075501Z",
     "iopub.status.busy": "2022-08-27T06:01:19.075242Z",
     "iopub.status.idle": "2022-08-27T06:01:20.759272Z",
     "shell.execute_reply": "2022-08-27T06:01:20.758612Z"
    },
    "papermill": {
     "duration": 1.699191,
     "end_time": "2022-08-27T06:01:20.761311",
     "exception": false,
     "start_time": "2022-08-27T06:01:19.062120",
     "status": "completed"
    },
    "tags": []
   },
   "outputs": [],
   "source": [
    "from random import sample, seed\n",
    "import warnings\n",
    "from pathlib import Path\n",
    "import pickle\n",
    "import traceback\n",
    "\n",
    "import numpy as np\n",
    "from scipy.spatial.distance import squareform\n",
    "import pandas as pd\n",
    "from tqdm import tqdm\n",
    "import matplotlib.pyplot as plt\n",
    "import seaborn as sns\n",
    "\n",
    "import conf\n",
    "from entity import Gene"
   ]
  },
  {
   "cell_type": "markdown",
   "id": "1eac24b5",
   "metadata": {
    "papermill": {
     "duration": 0.008636,
     "end_time": "2022-08-27T06:01:20.809533",
     "exception": false,
     "start_time": "2022-08-27T06:01:20.800897",
     "status": "completed"
    },
    "tags": []
   },
   "source": [
    "# Settings"
   ]
  },
  {
   "cell_type": "code",
   "execution_count": 3,
   "id": "ca4560ba",
   "metadata": {
    "execution": {
     "iopub.execute_input": "2022-08-27T06:01:20.827880Z",
     "iopub.status.busy": "2022-08-27T06:01:20.827643Z",
     "iopub.status.idle": "2022-08-27T06:01:20.847500Z",
     "shell.execute_reply": "2022-08-27T06:01:20.846958Z"
    },
    "papermill": {
     "duration": 0.030716,
     "end_time": "2022-08-27T06:01:20.849108",
     "exception": false,
     "start_time": "2022-08-27T06:01:20.818392",
     "status": "completed"
    },
    "tags": [
     "parameters"
    ]
   },
   "outputs": [],
   "source": [
    "# a cohort name (it could be something like UK_BIOBANK, etc)\n",
    "COHORT_NAME = None\n",
    "\n",
    "# reference panel such as 1000G or GTEX_V8\n",
    "REFERENCE_PANEL = None\n",
    "\n",
    "# predictions models such as MASHR or ELASTIC_NET\n",
    "EQTL_MODEL = None\n",
    "\n",
    "# this is the default value used in S-MultiXcan to select the\n",
    "# top principal components of the expression correlation matrix\n",
    "SMULTIXCAN_CONDITION_NUMBER = 30\n",
    "\n",
    "# specifies a single chromosome value\n",
    "CHROMOSOME = None\n",
    "\n",
    "# If True, computes the correlation between closeby genes only;\n",
    "# otherwise, it computes correlations for all genes in a chromosome\n",
    "COMPUTE_CORRELATIONS_WITHIN_DISTANCE = False\n",
    "\n",
    "# if True, then it will continue if a gene pair correlation fails,\n",
    "# printing the warning/error for debugging. If False, any warning/error\n",
    "# will be thrown\n",
    "DEBUG_MODE = False"
   ]
  },
  {
   "cell_type": "code",
   "execution_count": 4,
   "id": "63717f89",
   "metadata": {
    "execution": {
     "iopub.execute_input": "2022-08-27T06:01:20.867676Z",
     "iopub.status.busy": "2022-08-27T06:01:20.867451Z",
     "iopub.status.idle": "2022-08-27T06:01:20.885595Z",
     "shell.execute_reply": "2022-08-27T06:01:20.885024Z"
    },
    "papermill": {
     "duration": 0.029194,
     "end_time": "2022-08-27T06:01:20.887321",
     "exception": false,
     "start_time": "2022-08-27T06:01:20.858127",
     "status": "completed"
    },
    "tags": [
     "injected-parameters"
    ]
   },
   "outputs": [],
   "source": [
    "# Parameters\n",
    "COHORT_NAME = \"phenomexcan_astle\"\n",
    "REFERENCE_PANEL = \"GTEX_V8\"\n",
    "EQTL_MODEL = \"MASHR\"\n",
    "CHROMOSOME = 4\n"
   ]
  },
  {
   "cell_type": "code",
   "execution_count": 5,
   "id": "3190631f-27fc-480f-b18e-571d580425a5",
   "metadata": {
    "execution": {
     "iopub.execute_input": "2022-08-27T06:01:20.905484Z",
     "iopub.status.busy": "2022-08-27T06:01:20.905257Z",
     "iopub.status.idle": "2022-08-27T06:01:20.926082Z",
     "shell.execute_reply": "2022-08-27T06:01:20.925498Z"
    },
    "papermill": {
     "duration": 0.031982,
     "end_time": "2022-08-27T06:01:20.927628",
     "exception": false,
     "start_time": "2022-08-27T06:01:20.895646",
     "status": "completed"
    },
    "tags": []
   },
   "outputs": [
    {
     "data": {
      "text/plain": [
       "'Cohort name: phenomexcan_astle'"
      ]
     },
     "metadata": {},
     "output_type": "display_data"
    }
   ],
   "source": [
    "assert COHORT_NAME is not None and len(COHORT_NAME) > 0, \"A cohort name must be given\"\n",
    "\n",
    "COHORT_NAME = COHORT_NAME.lower()\n",
    "display(f\"Cohort name: {COHORT_NAME}\")"
   ]
  },
  {
   "cell_type": "code",
   "execution_count": 6,
   "id": "f53ba19b-0f93-4fa2-a047-63b375939d1a",
   "metadata": {
    "execution": {
     "iopub.execute_input": "2022-08-27T06:01:20.947674Z",
     "iopub.status.busy": "2022-08-27T06:01:20.947440Z",
     "iopub.status.idle": "2022-08-27T06:01:20.966647Z",
     "shell.execute_reply": "2022-08-27T06:01:20.966074Z"
    },
    "papermill": {
     "duration": 0.030248,
     "end_time": "2022-08-27T06:01:20.968165",
     "exception": false,
     "start_time": "2022-08-27T06:01:20.937917",
     "status": "completed"
    },
    "tags": []
   },
   "outputs": [
    {
     "data": {
      "text/plain": [
       "'Reference panel: GTEX_V8'"
      ]
     },
     "metadata": {},
     "output_type": "display_data"
    }
   ],
   "source": [
    "assert (\n",
    "    REFERENCE_PANEL is not None and len(REFERENCE_PANEL) > 0\n",
    "), \"A reference panel must be given\"\n",
    "\n",
    "display(f\"Reference panel: {REFERENCE_PANEL}\")"
   ]
  },
  {
   "cell_type": "code",
   "execution_count": 7,
   "id": "e024d130-c139-429a-9c6e-ccf149e297b0",
   "metadata": {
    "execution": {
     "iopub.execute_input": "2022-08-27T06:01:20.987438Z",
     "iopub.status.busy": "2022-08-27T06:01:20.987196Z",
     "iopub.status.idle": "2022-08-27T06:01:21.006528Z",
     "shell.execute_reply": "2022-08-27T06:01:21.005982Z"
    },
    "papermill": {
     "duration": 0.030656,
     "end_time": "2022-08-27T06:01:21.008042",
     "exception": false,
     "start_time": "2022-08-27T06:01:20.977386",
     "status": "completed"
    },
    "tags": []
   },
   "outputs": [
    {
     "data": {
      "text/plain": [
       "'eQTL model: MASHR) / mashr_'"
      ]
     },
     "metadata": {},
     "output_type": "display_data"
    }
   ],
   "source": [
    "assert (\n",
    "    EQTL_MODEL is not None and len(EQTL_MODEL) > 0\n",
    "), \"A prediction/eQTL model must be given\"\n",
    "\n",
    "EQTL_MODEL_FILES_PREFIX = conf.PHENOMEXCAN[\"PREDICTION_MODELS\"][f\"{EQTL_MODEL}_PREFIX\"]\n",
    "display(f\"eQTL model: {EQTL_MODEL}) / {EQTL_MODEL_FILES_PREFIX}\")"
   ]
  },
  {
   "cell_type": "code",
   "execution_count": 8,
   "id": "552a7f63-a18c-4d3e-bb6a-94f99b431291",
   "metadata": {
    "execution": {
     "iopub.execute_input": "2022-08-27T06:01:21.040854Z",
     "iopub.status.busy": "2022-08-27T06:01:21.040658Z",
     "iopub.status.idle": "2022-08-27T06:01:21.060049Z",
     "shell.execute_reply": "2022-08-27T06:01:21.059505Z"
    },
    "papermill": {
     "duration": 0.04118,
     "end_time": "2022-08-27T06:01:21.061616",
     "exception": false,
     "start_time": "2022-08-27T06:01:21.020436",
     "status": "completed"
    },
    "tags": []
   },
   "outputs": [
    {
     "data": {
      "text/plain": [
       "'S-MultiXcan condition number: 30'"
      ]
     },
     "metadata": {},
     "output_type": "display_data"
    }
   ],
   "source": [
    "assert (\n",
    "    SMULTIXCAN_CONDITION_NUMBER is not None and SMULTIXCAN_CONDITION_NUMBER > 0\n",
    "), \"The S-MultiXcan condition number (positive integer) must be given\"\n",
    "\n",
    "display(f\"S-MultiXcan condition number: {SMULTIXCAN_CONDITION_NUMBER}\")"
   ]
  },
  {
   "cell_type": "code",
   "execution_count": 9,
   "id": "f34a336f-548e-4afe-8955-90eaea4f42c6",
   "metadata": {
    "execution": {
     "iopub.execute_input": "2022-08-27T06:01:21.125666Z",
     "iopub.status.busy": "2022-08-27T06:01:21.125331Z",
     "iopub.status.idle": "2022-08-27T06:01:21.155641Z",
     "shell.execute_reply": "2022-08-27T06:01:21.154874Z"
    },
    "papermill": {
     "duration": 0.054106,
     "end_time": "2022-08-27T06:01:21.157832",
     "exception": false,
     "start_time": "2022-08-27T06:01:21.103726",
     "status": "completed"
    },
    "tags": []
   },
   "outputs": [
    {
     "data": {
      "text/plain": [
       "'Working on chromosome 4'"
      ]
     },
     "metadata": {},
     "output_type": "display_data"
    }
   ],
   "source": [
    "assert CHROMOSOME is not None and (\n",
    "    1 <= CHROMOSOME <= 22\n",
    "), \"You have to select one chromosome (format: number between 1 and 22)\"\n",
    "\n",
    "# CHROMOSOME = str(CHROMOSOME)\n",
    "display(f\"Working on chromosome {CHROMOSOME}\")"
   ]
  },
  {
   "cell_type": "code",
   "execution_count": 10,
   "id": "ab8e96e8-06b5-4363-9dcd-dc4d78cc27f7",
   "metadata": {
    "execution": {
     "iopub.execute_input": "2022-08-27T06:01:21.197024Z",
     "iopub.status.busy": "2022-08-27T06:01:21.196775Z",
     "iopub.status.idle": "2022-08-27T06:01:21.219267Z",
     "shell.execute_reply": "2022-08-27T06:01:21.218763Z"
    },
    "papermill": {
     "duration": 0.041326,
     "end_time": "2022-08-27T06:01:21.220788",
     "exception": false,
     "start_time": "2022-08-27T06:01:21.179462",
     "status": "completed"
    },
    "tags": []
   },
   "outputs": [
    {
     "data": {
      "text/plain": [
       "'Compute correlation within distance False'"
      ]
     },
     "metadata": {},
     "output_type": "display_data"
    }
   ],
   "source": [
    "display(f\"Compute correlation within distance {COMPUTE_CORRELATIONS_WITHIN_DISTANCE}\")"
   ]
  },
  {
   "cell_type": "code",
   "execution_count": 11,
   "id": "396392dc-0340-4540-9b02-e182b833f909",
   "metadata": {
    "execution": {
     "iopub.execute_input": "2022-08-27T06:01:21.241716Z",
     "iopub.status.busy": "2022-08-27T06:01:21.241483Z",
     "iopub.status.idle": "2022-08-27T06:01:21.277899Z",
     "shell.execute_reply": "2022-08-27T06:01:21.277346Z"
    },
    "papermill": {
     "duration": 0.047733,
     "end_time": "2022-08-27T06:01:21.279508",
     "exception": false,
     "start_time": "2022-08-27T06:01:21.231775",
     "status": "completed"
    },
    "tags": []
   },
   "outputs": [
    {
     "data": {
      "text/plain": [
       "'Using output dir base: /project/ritchie20/projects/phenoplier/base/results/gls/gene_corrs/cohorts/phenomexcan_astle/gtex_v8/mashr'"
      ]
     },
     "metadata": {},
     "output_type": "display_data"
    }
   ],
   "source": [
    "OUTPUT_DIR_BASE = (\n",
    "    conf.RESULTS[\"GLS\"]\n",
    "    / \"gene_corrs\"\n",
    "    / \"cohorts\"\n",
    "    / COHORT_NAME\n",
    "    / REFERENCE_PANEL.lower()\n",
    "    / EQTL_MODEL.lower()\n",
    ")\n",
    "OUTPUT_DIR_BASE.mkdir(parents=True, exist_ok=True)\n",
    "\n",
    "display(f\"Using output dir base: {OUTPUT_DIR_BASE}\")"
   ]
  },
  {
   "cell_type": "markdown",
   "id": "d2ba085e",
   "metadata": {
    "papermill": {
     "duration": 0.011472,
     "end_time": "2022-08-27T06:01:21.302832",
     "exception": false,
     "start_time": "2022-08-27T06:01:21.291360",
     "status": "completed"
    },
    "tags": []
   },
   "source": [
    "# Load data"
   ]
  },
  {
   "cell_type": "markdown",
   "id": "7dcb8db7",
   "metadata": {
    "papermill": {
     "duration": 0.027417,
     "end_time": "2022-08-27T06:01:21.347769",
     "exception": false,
     "start_time": "2022-08-27T06:01:21.320352",
     "status": "completed"
    },
    "tags": []
   },
   "source": [
    "## GWAS variants"
   ]
  },
  {
   "cell_type": "code",
   "execution_count": 12,
   "id": "29434c4e-8cd3-4b9b-82e4-b5a251d9dd19",
   "metadata": {
    "execution": {
     "iopub.execute_input": "2022-08-27T06:01:21.369310Z",
     "iopub.status.busy": "2022-08-27T06:01:21.369087Z",
     "iopub.status.idle": "2022-08-27T06:01:24.826193Z",
     "shell.execute_reply": "2022-08-27T06:01:24.825338Z"
    },
    "papermill": {
     "duration": 3.469649,
     "end_time": "2022-08-27T06:01:24.828345",
     "exception": false,
     "start_time": "2022-08-27T06:01:21.358696",
     "status": "completed"
    },
    "tags": []
   },
   "outputs": [],
   "source": [
    "with open(OUTPUT_DIR_BASE / \"gwas_variant_ids.pkl\", \"rb\") as handle:\n",
    "    gwas_variants_ids_set = pickle.load(handle)"
   ]
  },
  {
   "cell_type": "code",
   "execution_count": 13,
   "id": "b9d9dec2-4a76-4bf9-bde2-e24c95acb8a0",
   "metadata": {
    "execution": {
     "iopub.execute_input": "2022-08-27T06:01:24.860676Z",
     "iopub.status.busy": "2022-08-27T06:01:24.860445Z",
     "iopub.status.idle": "2022-08-27T06:01:24.884275Z",
     "shell.execute_reply": "2022-08-27T06:01:24.883723Z"
    },
    "papermill": {
     "duration": 0.040497,
     "end_time": "2022-08-27T06:01:24.885836",
     "exception": false,
     "start_time": "2022-08-27T06:01:24.845339",
     "status": "completed"
    },
    "tags": []
   },
   "outputs": [
    {
     "data": {
      "text/plain": [
       "8871979"
      ]
     },
     "execution_count": 13,
     "metadata": {},
     "output_type": "execute_result"
    }
   ],
   "source": [
    "len(gwas_variants_ids_set)"
   ]
  },
  {
   "cell_type": "code",
   "execution_count": 14,
   "id": "4235b06a-6034-4ee4-a0a3-2ae35d122418",
   "metadata": {
    "execution": {
     "iopub.execute_input": "2022-08-27T06:01:24.915907Z",
     "iopub.status.busy": "2022-08-27T06:01:24.915713Z",
     "iopub.status.idle": "2022-08-27T06:01:25.509056Z",
     "shell.execute_reply": "2022-08-27T06:01:25.508463Z"
    },
    "papermill": {
     "duration": 0.610814,
     "end_time": "2022-08-27T06:01:25.510697",
     "exception": false,
     "start_time": "2022-08-27T06:01:24.899883",
     "status": "completed"
    },
    "tags": []
   },
   "outputs": [
    {
     "data": {
      "text/plain": [
       "['chr6_51787787_A_G_b38',\n",
       " 'chr1_30976919_A_G_b38',\n",
       " 'chr7_122943345_T_C_b38',\n",
       " 'chr2_75603486_T_C_b38',\n",
       " 'chr3_142822845_T_C_b38']"
      ]
     },
     "execution_count": 14,
     "metadata": {},
     "output_type": "execute_result"
    }
   ],
   "source": [
    "list(gwas_variants_ids_set)[:5]"
   ]
  },
  {
   "cell_type": "markdown",
   "id": "07866999-2305-41f9-a144-e69c9122c212",
   "metadata": {
    "papermill": {
     "duration": 0.009799,
     "end_time": "2022-08-27T06:01:25.530786",
     "exception": false,
     "start_time": "2022-08-27T06:01:25.520987",
     "status": "completed"
    },
    "tags": []
   },
   "source": [
    "## S-PrediXcan tissue models"
   ]
  },
  {
   "cell_type": "code",
   "execution_count": 15,
   "id": "780611d9-77c8-405f-90a4-f271f7b09397",
   "metadata": {
    "execution": {
     "iopub.execute_input": "2022-08-27T06:01:25.551065Z",
     "iopub.status.busy": "2022-08-27T06:01:25.550844Z",
     "iopub.status.idle": "2022-08-27T06:01:26.498991Z",
     "shell.execute_reply": "2022-08-27T06:01:26.498356Z"
    },
    "papermill": {
     "duration": 0.960519,
     "end_time": "2022-08-27T06:01:26.500994",
     "exception": false,
     "start_time": "2022-08-27T06:01:25.540475",
     "status": "completed"
    },
    "tags": []
   },
   "outputs": [],
   "source": [
    "spredixcan_genes_models = pd.read_pickle(OUTPUT_DIR_BASE / \"gene_tissues.pkl\")"
   ]
  },
  {
   "cell_type": "code",
   "execution_count": 16,
   "id": "726dd1f6-9557-4225-91fa-b3b879ea96e1",
   "metadata": {
    "execution": {
     "iopub.execute_input": "2022-08-27T06:01:26.522552Z",
     "iopub.status.busy": "2022-08-27T06:01:26.522344Z",
     "iopub.status.idle": "2022-08-27T06:01:26.543126Z",
     "shell.execute_reply": "2022-08-27T06:01:26.542615Z"
    },
    "papermill": {
     "duration": 0.033347,
     "end_time": "2022-08-27T06:01:26.544654",
     "exception": false,
     "start_time": "2022-08-27T06:01:26.511307",
     "status": "completed"
    },
    "tags": []
   },
   "outputs": [
    {
     "data": {
      "text/plain": [
       "(6450, 3)"
      ]
     },
     "execution_count": 16,
     "metadata": {},
     "output_type": "execute_result"
    }
   ],
   "source": [
    "spredixcan_genes_models.shape"
   ]
  },
  {
   "cell_type": "code",
   "execution_count": 17,
   "id": "944a1b48-222c-4eb0-b252-b9de2cbca215",
   "metadata": {
    "execution": {
     "iopub.execute_input": "2022-08-27T06:01:26.566235Z",
     "iopub.status.busy": "2022-08-27T06:01:26.566043Z",
     "iopub.status.idle": "2022-08-27T06:01:26.596143Z",
     "shell.execute_reply": "2022-08-27T06:01:26.595636Z"
    },
    "papermill": {
     "duration": 0.043263,
     "end_time": "2022-08-27T06:01:26.597668",
     "exception": false,
     "start_time": "2022-08-27T06:01:26.554405",
     "status": "completed"
    },
    "tags": []
   },
   "outputs": [
    {
     "data": {
      "text/html": [
       "<div>\n",
       "<style scoped>\n",
       "    .dataframe tbody tr th:only-of-type {\n",
       "        vertical-align: middle;\n",
       "    }\n",
       "\n",
       "    .dataframe tbody tr th {\n",
       "        vertical-align: top;\n",
       "    }\n",
       "\n",
       "    .dataframe thead th {\n",
       "        text-align: right;\n",
       "    }\n",
       "</style>\n",
       "<table border=\"1\" class=\"dataframe\">\n",
       "  <thead>\n",
       "    <tr style=\"text-align: right;\">\n",
       "      <th></th>\n",
       "      <th>gene_name</th>\n",
       "      <th>tissue</th>\n",
       "      <th>n_tissues</th>\n",
       "    </tr>\n",
       "    <tr>\n",
       "      <th>gene_id</th>\n",
       "      <th></th>\n",
       "      <th></th>\n",
       "      <th></th>\n",
       "    </tr>\n",
       "  </thead>\n",
       "  <tbody>\n",
       "    <tr>\n",
       "      <th>ENSG00000000419</th>\n",
       "      <td>DPM1</td>\n",
       "      <td>(Brain_Hypothalamus, Cells_Cultured_fibroblast...</td>\n",
       "      <td>3</td>\n",
       "    </tr>\n",
       "    <tr>\n",
       "      <th>ENSG00000000938</th>\n",
       "      <td>FGR</td>\n",
       "      <td>(Colon_Sigmoid, Muscle_Skeletal, Esophagus_Gas...</td>\n",
       "      <td>36</td>\n",
       "    </tr>\n",
       "    <tr>\n",
       "      <th>ENSG00000000971</th>\n",
       "      <td>CFH</td>\n",
       "      <td>(Colon_Sigmoid, Esophagus_Gastroesophageal_Jun...</td>\n",
       "      <td>34</td>\n",
       "    </tr>\n",
       "    <tr>\n",
       "      <th>ENSG00000001084</th>\n",
       "      <td>GCLC</td>\n",
       "      <td>(Muscle_Skeletal, Brain_Frontal_Cortex_BA9, Br...</td>\n",
       "      <td>33</td>\n",
       "    </tr>\n",
       "    <tr>\n",
       "      <th>ENSG00000001167</th>\n",
       "      <td>NFYA</td>\n",
       "      <td>(Colon_Sigmoid, Muscle_Skeletal, Esophagus_Gas...</td>\n",
       "      <td>40</td>\n",
       "    </tr>\n",
       "  </tbody>\n",
       "</table>\n",
       "</div>"
      ],
      "text/plain": [
       "                gene_name                                             tissue  \\\n",
       "gene_id                                                                        \n",
       "ENSG00000000419      DPM1  (Brain_Hypothalamus, Cells_Cultured_fibroblast...   \n",
       "ENSG00000000938       FGR  (Colon_Sigmoid, Muscle_Skeletal, Esophagus_Gas...   \n",
       "ENSG00000000971       CFH  (Colon_Sigmoid, Esophagus_Gastroesophageal_Jun...   \n",
       "ENSG00000001084      GCLC  (Muscle_Skeletal, Brain_Frontal_Cortex_BA9, Br...   \n",
       "ENSG00000001167      NFYA  (Colon_Sigmoid, Muscle_Skeletal, Esophagus_Gas...   \n",
       "\n",
       "                 n_tissues  \n",
       "gene_id                     \n",
       "ENSG00000000419          3  \n",
       "ENSG00000000938         36  \n",
       "ENSG00000000971         34  \n",
       "ENSG00000001084         33  \n",
       "ENSG00000001167         40  "
      ]
     },
     "execution_count": 17,
     "metadata": {},
     "output_type": "execute_result"
    }
   ],
   "source": [
    "spredixcan_genes_models.head()"
   ]
  },
  {
   "cell_type": "code",
   "execution_count": 18,
   "id": "d1c11bb1-be0b-4f40-b360-633d6827109f",
   "metadata": {
    "execution": {
     "iopub.execute_input": "2022-08-27T06:01:26.621557Z",
     "iopub.status.busy": "2022-08-27T06:01:26.621343Z",
     "iopub.status.idle": "2022-08-27T06:01:26.639617Z",
     "shell.execute_reply": "2022-08-27T06:01:26.639073Z"
    },
    "papermill": {
     "duration": 0.03337,
     "end_time": "2022-08-27T06:01:26.641265",
     "exception": false,
     "start_time": "2022-08-27T06:01:26.607895",
     "status": "completed"
    },
    "tags": []
   },
   "outputs": [],
   "source": [
    "assert spredixcan_genes_models.index.is_unique"
   ]
  },
  {
   "cell_type": "markdown",
   "id": "a5b5092c-a13e-47c4-a92a-480fcc08f3ae",
   "metadata": {
    "papermill": {
     "duration": 0.011709,
     "end_time": "2022-08-27T06:01:26.663887",
     "exception": false,
     "start_time": "2022-08-27T06:01:26.652178",
     "status": "completed"
    },
    "tags": []
   },
   "source": [
    "## Gene info"
   ]
  },
  {
   "cell_type": "code",
   "execution_count": 19,
   "id": "7d6bb224-88e9-4358-ac10-43a41d92cdad",
   "metadata": {
    "execution": {
     "iopub.execute_input": "2022-08-27T06:01:26.684890Z",
     "iopub.status.busy": "2022-08-27T06:01:26.684687Z",
     "iopub.status.idle": "2022-08-27T06:01:26.708973Z",
     "shell.execute_reply": "2022-08-27T06:01:26.708434Z"
    },
    "papermill": {
     "duration": 0.036947,
     "end_time": "2022-08-27T06:01:26.710683",
     "exception": false,
     "start_time": "2022-08-27T06:01:26.673736",
     "status": "completed"
    },
    "tags": []
   },
   "outputs": [],
   "source": [
    "genes_info = pd.read_pickle(OUTPUT_DIR_BASE / \"genes_info.pkl\")"
   ]
  },
  {
   "cell_type": "code",
   "execution_count": 20,
   "id": "9e32abfa-546d-483e-8c18-d526e9e05903",
   "metadata": {
    "execution": {
     "iopub.execute_input": "2022-08-27T06:01:26.732422Z",
     "iopub.status.busy": "2022-08-27T06:01:26.732168Z",
     "iopub.status.idle": "2022-08-27T06:01:26.751970Z",
     "shell.execute_reply": "2022-08-27T06:01:26.751397Z"
    },
    "papermill": {
     "duration": 0.033243,
     "end_time": "2022-08-27T06:01:26.753486",
     "exception": false,
     "start_time": "2022-08-27T06:01:26.720243",
     "status": "completed"
    },
    "tags": []
   },
   "outputs": [
    {
     "data": {
      "text/plain": [
       "(6450, 7)"
      ]
     },
     "execution_count": 20,
     "metadata": {},
     "output_type": "execute_result"
    }
   ],
   "source": [
    "genes_info.shape"
   ]
  },
  {
   "cell_type": "code",
   "execution_count": 21,
   "id": "d16c3e92-85ec-468a-9a56-e25a9774a1cb",
   "metadata": {
    "execution": {
     "iopub.execute_input": "2022-08-27T06:01:26.775552Z",
     "iopub.status.busy": "2022-08-27T06:01:26.775347Z",
     "iopub.status.idle": "2022-08-27T06:01:26.799151Z",
     "shell.execute_reply": "2022-08-27T06:01:26.798647Z"
    },
    "papermill": {
     "duration": 0.036626,
     "end_time": "2022-08-27T06:01:26.800692",
     "exception": false,
     "start_time": "2022-08-27T06:01:26.764066",
     "status": "completed"
    },
    "tags": []
   },
   "outputs": [
    {
     "data": {
      "text/html": [
       "<div>\n",
       "<style scoped>\n",
       "    .dataframe tbody tr th:only-of-type {\n",
       "        vertical-align: middle;\n",
       "    }\n",
       "\n",
       "    .dataframe tbody tr th {\n",
       "        vertical-align: top;\n",
       "    }\n",
       "\n",
       "    .dataframe thead th {\n",
       "        text-align: right;\n",
       "    }\n",
       "</style>\n",
       "<table border=\"1\" class=\"dataframe\">\n",
       "  <thead>\n",
       "    <tr style=\"text-align: right;\">\n",
       "      <th></th>\n",
       "      <th>name</th>\n",
       "      <th>id</th>\n",
       "      <th>chr</th>\n",
       "      <th>band</th>\n",
       "      <th>start_position</th>\n",
       "      <th>end_position</th>\n",
       "      <th>gene_length</th>\n",
       "    </tr>\n",
       "  </thead>\n",
       "  <tbody>\n",
       "    <tr>\n",
       "      <th>0</th>\n",
       "      <td>FBXO34</td>\n",
       "      <td>ENSG00000178974</td>\n",
       "      <td>14</td>\n",
       "      <td>14q22.3</td>\n",
       "      <td>55271421</td>\n",
       "      <td>55361918</td>\n",
       "      <td>90497</td>\n",
       "    </tr>\n",
       "    <tr>\n",
       "      <th>1</th>\n",
       "      <td>ARG1</td>\n",
       "      <td>ENSG00000118520</td>\n",
       "      <td>6</td>\n",
       "      <td>6q23.2</td>\n",
       "      <td>131573144</td>\n",
       "      <td>131584332</td>\n",
       "      <td>11188</td>\n",
       "    </tr>\n",
       "    <tr>\n",
       "      <th>2</th>\n",
       "      <td>FADS2</td>\n",
       "      <td>ENSG00000134824</td>\n",
       "      <td>11</td>\n",
       "      <td>11q12.2</td>\n",
       "      <td>61792980</td>\n",
       "      <td>61867354</td>\n",
       "      <td>74374</td>\n",
       "    </tr>\n",
       "    <tr>\n",
       "      <th>3</th>\n",
       "      <td>CA4</td>\n",
       "      <td>ENSG00000167434</td>\n",
       "      <td>17</td>\n",
       "      <td>17q23.1</td>\n",
       "      <td>60149942</td>\n",
       "      <td>60170899</td>\n",
       "      <td>20957</td>\n",
       "    </tr>\n",
       "    <tr>\n",
       "      <th>4</th>\n",
       "      <td>PFKFB3</td>\n",
       "      <td>ENSG00000170525</td>\n",
       "      <td>10</td>\n",
       "      <td>10p15.1</td>\n",
       "      <td>6144934</td>\n",
       "      <td>6254644</td>\n",
       "      <td>109710</td>\n",
       "    </tr>\n",
       "  </tbody>\n",
       "</table>\n",
       "</div>"
      ],
      "text/plain": [
       "     name               id  chr     band  start_position  end_position  \\\n",
       "0  FBXO34  ENSG00000178974   14  14q22.3        55271421      55361918   \n",
       "1    ARG1  ENSG00000118520    6   6q23.2       131573144     131584332   \n",
       "2   FADS2  ENSG00000134824   11  11q12.2        61792980      61867354   \n",
       "3     CA4  ENSG00000167434   17  17q23.1        60149942      60170899   \n",
       "4  PFKFB3  ENSG00000170525   10  10p15.1         6144934       6254644   \n",
       "\n",
       "   gene_length  \n",
       "0        90497  \n",
       "1        11188  \n",
       "2        74374  \n",
       "3        20957  \n",
       "4       109710  "
      ]
     },
     "execution_count": 21,
     "metadata": {},
     "output_type": "execute_result"
    }
   ],
   "source": [
    "genes_info.head()"
   ]
  },
  {
   "cell_type": "markdown",
   "id": "d3843e06",
   "metadata": {
    "papermill": {
     "duration": 0.011435,
     "end_time": "2022-08-27T06:01:26.823743",
     "exception": false,
     "start_time": "2022-08-27T06:01:26.812308",
     "status": "completed"
    },
    "tags": []
   },
   "source": [
    "# Compute correlations"
   ]
  },
  {
   "cell_type": "code",
   "execution_count": 22,
   "id": "cb859c15-d1f3-4006-a74c-2b83c0db9611",
   "metadata": {
    "execution": {
     "iopub.execute_input": "2022-08-27T06:01:26.845485Z",
     "iopub.status.busy": "2022-08-27T06:01:26.845259Z",
     "iopub.status.idle": "2022-08-27T06:01:26.864323Z",
     "shell.execute_reply": "2022-08-27T06:01:26.863800Z"
    },
    "papermill": {
     "duration": 0.032277,
     "end_time": "2022-08-27T06:01:26.865822",
     "exception": false,
     "start_time": "2022-08-27T06:01:26.833545",
     "status": "completed"
    },
    "tags": []
   },
   "outputs": [
    {
     "data": {
      "text/plain": [
       "PosixPath('/project/ritchie20/projects/phenoplier/base/results/gls/gene_corrs/cohorts/phenomexcan_astle/gtex_v8/mashr/by_chr/gene_corrs-chr4.pkl')"
      ]
     },
     "metadata": {},
     "output_type": "display_data"
    }
   ],
   "source": [
    "output_dir = OUTPUT_DIR_BASE / \"by_chr\"\n",
    "output_dir.mkdir(exist_ok=True, parents=True)\n",
    "output_file = output_dir / f\"gene_corrs-chr{CHROMOSOME}.pkl\"\n",
    "display(output_file)"
   ]
  },
  {
   "cell_type": "code",
   "execution_count": 23,
   "id": "aa674fe4-6794-4eed-98fa-32b39d1d4ace",
   "metadata": {
    "execution": {
     "iopub.execute_input": "2022-08-27T06:01:26.907127Z",
     "iopub.status.busy": "2022-08-27T06:01:26.906934Z",
     "iopub.status.idle": "2022-08-27T06:01:26.923430Z",
     "shell.execute_reply": "2022-08-27T06:01:26.922895Z"
    },
    "papermill": {
     "duration": 0.03905,
     "end_time": "2022-08-27T06:01:26.925022",
     "exception": false,
     "start_time": "2022-08-27T06:01:26.885972",
     "status": "completed"
    },
    "tags": []
   },
   "outputs": [],
   "source": [
    "warnings.filterwarnings(\"error\")"
   ]
  },
  {
   "cell_type": "code",
   "execution_count": 24,
   "id": "44d5450b-3baf-43f1-9e2e-4b06f1a785f8",
   "metadata": {
    "execution": {
     "iopub.execute_input": "2022-08-27T06:01:26.957348Z",
     "iopub.status.busy": "2022-08-27T06:01:26.957126Z",
     "iopub.status.idle": "2022-08-27T06:01:26.974977Z",
     "shell.execute_reply": "2022-08-27T06:01:26.974449Z"
    },
    "papermill": {
     "duration": 0.037834,
     "end_time": "2022-08-27T06:01:26.976673",
     "exception": false,
     "start_time": "2022-08-27T06:01:26.938839",
     "status": "completed"
    },
    "tags": []
   },
   "outputs": [],
   "source": [
    "# standard checks\n",
    "all_chrs = genes_info[\"chr\"].dropna().unique()\n",
    "assert all_chrs.shape[0] == 22\n",
    "\n",
    "# select chromosome given by the user\n",
    "assert CHROMOSOME in all_chrs"
   ]
  },
  {
   "cell_type": "code",
   "execution_count": 25,
   "id": "2d7c043c-92a7-4d35-991b-fa69ac1e0268",
   "metadata": {
    "execution": {
     "iopub.execute_input": "2022-08-27T06:01:27.008775Z",
     "iopub.status.busy": "2022-08-27T06:01:27.008562Z",
     "iopub.status.idle": "2022-08-27T06:01:27.067059Z",
     "shell.execute_reply": "2022-08-27T06:01:27.066493Z"
    },
    "papermill": {
     "duration": 0.074165,
     "end_time": "2022-08-27T06:01:27.068713",
     "exception": false,
     "start_time": "2022-08-27T06:01:26.994548",
     "status": "completed"
    },
    "tags": []
   },
   "outputs": [
    {
     "name": "stdout",
     "output_type": "stream",
     "text": [
      "Number of genes in chromosome: 244\n"
     ]
    }
   ],
   "source": [
    "# run only on the chromosome specified\n",
    "all_chrs = [CHROMOSOME]\n",
    "genes_chr = genes_info[genes_info[\"chr\"] == CHROMOSOME]\n",
    "\n",
    "# For testing purposes\n",
    "# genes_chr = genes_chr.sample(n=20)\n",
    "\n",
    "print(f\"Number of genes in chromosome: {genes_chr.shape[0]}\", flush=True)"
   ]
  },
  {
   "cell_type": "code",
   "execution_count": 26,
   "id": "916015d8-2979-46d3-a9b9-1cf5a0932c6a",
   "metadata": {
    "execution": {
     "iopub.execute_input": "2022-08-27T06:01:27.092733Z",
     "iopub.status.busy": "2022-08-27T06:01:27.092519Z",
     "iopub.status.idle": "2022-08-27T06:01:27.110030Z",
     "shell.execute_reply": "2022-08-27T06:01:27.109488Z"
    },
    "papermill": {
     "duration": 0.030492,
     "end_time": "2022-08-27T06:01:27.111657",
     "exception": false,
     "start_time": "2022-08-27T06:01:27.081165",
     "status": "completed"
    },
    "tags": []
   },
   "outputs": [],
   "source": [
    "# sort genes by starting position to make visualizations better later\n",
    "genes_chr = genes_chr.sort_values(\"start_position\")"
   ]
  },
  {
   "cell_type": "code",
   "execution_count": 27,
   "id": "a38aa74a-8ad3-47f6-8ef9-56be0e011774",
   "metadata": {
    "execution": {
     "iopub.execute_input": "2022-08-27T06:01:27.134760Z",
     "iopub.status.busy": "2022-08-27T06:01:27.134533Z",
     "iopub.status.idle": "2022-08-27T06:01:27.151923Z",
     "shell.execute_reply": "2022-08-27T06:01:27.151382Z"
    },
    "papermill": {
     "duration": 0.030145,
     "end_time": "2022-08-27T06:01:27.153550",
     "exception": false,
     "start_time": "2022-08-27T06:01:27.123405",
     "status": "completed"
    },
    "tags": []
   },
   "outputs": [],
   "source": [
    "gene_chr_objs = [Gene(ensembl_id=gene_id) for gene_id in genes_chr[\"id\"]]"
   ]
  },
  {
   "cell_type": "code",
   "execution_count": 28,
   "id": "570f974f-13c3-42b6-ad3a-ce99ca885c1a",
   "metadata": {
    "execution": {
     "iopub.execute_input": "2022-08-27T06:01:27.175460Z",
     "iopub.status.busy": "2022-08-27T06:01:27.175234Z",
     "iopub.status.idle": "2022-08-27T06:01:27.193714Z",
     "shell.execute_reply": "2022-08-27T06:01:27.193128Z"
    },
    "papermill": {
     "duration": 0.031494,
     "end_time": "2022-08-27T06:01:27.195325",
     "exception": false,
     "start_time": "2022-08-27T06:01:27.163831",
     "status": "completed"
    },
    "tags": []
   },
   "outputs": [
    {
     "name": "stdout",
     "output_type": "stream",
     "text": [
      "Number of gene combinations: 29646\n"
     ]
    }
   ],
   "source": [
    "n = len(gene_chr_objs)\n",
    "n_comb = int(n * (n - 1) / 2.0)\n",
    "print(f\"Number of gene combinations: {n_comb}\", flush=True)"
   ]
  },
  {
   "cell_type": "code",
   "execution_count": 29,
   "id": "cdbb90a1",
   "metadata": {
    "execution": {
     "iopub.execute_input": "2022-08-27T06:01:27.219794Z",
     "iopub.status.busy": "2022-08-27T06:01:27.219569Z",
     "iopub.status.idle": "2022-08-27T06:43:59.882334Z",
     "shell.execute_reply": "2022-08-27T06:43:59.881317Z"
    },
    "papermill": {
     "duration": 2552.67841,
     "end_time": "2022-08-27T06:43:59.884879",
     "exception": false,
     "start_time": "2022-08-27T06:01:27.206469",
     "status": "completed"
    },
    "tags": []
   },
   "outputs": [
    {
     "name": "stderr",
     "output_type": "stream",
     "text": [
      "ENSG00000109536 / ENSG00000109536: : 29890it [42:32, 11.71it/s]\n"
     ]
    },
    {
     "data": {
      "text/plain": [
       "PosixPath('/project/ritchie20/projects/phenoplier/base/results/gls/gene_corrs/cohorts/phenomexcan_astle/gtex_v8/mashr/by_chr/gene_corrs-chr4.pkl')"
      ]
     },
     "metadata": {},
     "output_type": "display_data"
    }
   ],
   "source": [
    "gene_corrs = []\n",
    "gene_corrs_data = np.full(\n",
    "    (n, n),\n",
    "    np.nan,\n",
    "    dtype=np.float64,\n",
    ")\n",
    "\n",
    "i = 0\n",
    "with tqdm(ncols=100, total=n_comb) as pbar:\n",
    "    for gene1_idx in range(0, len(gene_chr_objs)):\n",
    "        gene1_obj = gene_chr_objs[gene1_idx]\n",
    "        gene1_tissues = spredixcan_genes_models.loc[gene1_obj.ensembl_id, \"tissue\"]\n",
    "\n",
    "        for gene2_idx in range(gene1_idx, len(gene_chr_objs)):\n",
    "            gene2_obj = gene_chr_objs[gene2_idx]\n",
    "            gene2_tissues = spredixcan_genes_models.loc[gene2_obj.ensembl_id, \"tissue\"]\n",
    "\n",
    "            pbar.set_description(f\"{gene1_obj.ensembl_id} / {gene2_obj.ensembl_id}\")\n",
    "\n",
    "            try:\n",
    "                r = gene1_obj.get_ssm_correlation(\n",
    "                    other_gene=gene2_obj,\n",
    "                    tissues=gene1_tissues,\n",
    "                    other_tissues=gene2_tissues,\n",
    "                    snps_subset=gwas_variants_ids_set,\n",
    "                    condition_number=SMULTIXCAN_CONDITION_NUMBER,\n",
    "                    reference_panel=REFERENCE_PANEL,\n",
    "                    model_type=EQTL_MODEL,\n",
    "                    use_within_distance=COMPUTE_CORRELATIONS_WITHIN_DISTANCE,\n",
    "                )\n",
    "\n",
    "                if r is None:\n",
    "                    # if r is None, it's very likely because:\n",
    "                    #  * one of the genes has no prediction models\n",
    "                    #  * all the SNPs predictors for the gene are not present in the reference\n",
    "                    #    panel\n",
    "\n",
    "                    r = 0.0\n",
    "\n",
    "                gene_corrs.append(r)\n",
    "\n",
    "                gene_corrs_data[gene1_idx, gene2_idx] = r\n",
    "                gene_corrs_data[gene2_idx, gene1_idx] = r\n",
    "            except Warning as e:\n",
    "                if not DEBUG_MODE:\n",
    "                    raise e\n",
    "\n",
    "                print(\n",
    "                    f\"RuntimeWarning for genes {gene1_obj.ensembl_id} and {gene2_obj.ensembl_id}\",\n",
    "                    flush=True,\n",
    "                )\n",
    "                print(traceback.format_exc(), flush=True)\n",
    "\n",
    "                gene_corrs.append(np.nan)\n",
    "            except Exception as e:\n",
    "                if not DEBUG_MODE:\n",
    "                    raise e\n",
    "\n",
    "                print(\n",
    "                    f\"Exception for genes {gene1_obj.ensembl_id} and {gene2_obj.ensembl_id}\",\n",
    "                    flush=True,\n",
    "                )\n",
    "                print(traceback.format_exc(), flush=True)\n",
    "\n",
    "                gene_corrs.append(np.nan)\n",
    "\n",
    "            pbar.update(1)\n",
    "\n",
    "# create a pandas series\n",
    "gene_corrs_flat = pd.Series(gene_corrs)\n",
    "\n",
    "# save\n",
    "# FIXME: consider saving only the condenced matrix here. See here for\n",
    "# more details: https://github.com/greenelab/phenoplier/pull/38#discussion_r634600813\n",
    "# gene_corrs_data = squareform(np.array(gene_corrs, dtype=np.float64))\n",
    "# np.fill_diagonal(gene_corrs_data, 1.0)\n",
    "\n",
    "gene_chr_ids = [g.ensembl_id for g in gene_chr_objs]\n",
    "gene_corrs_df = pd.DataFrame(\n",
    "    data=gene_corrs_data,\n",
    "    index=gene_chr_ids,\n",
    "    columns=gene_chr_ids,\n",
    ")\n",
    "\n",
    "output_dir.mkdir(exist_ok=True, parents=True)\n",
    "display(output_file)\n",
    "\n",
    "gene_corrs_df.to_pickle(output_file)"
   ]
  },
  {
   "cell_type": "markdown",
   "id": "faa67b51-5373-470f-aa72-2ded53fa6dfe",
   "metadata": {
    "papermill": {
     "duration": 1.790351,
     "end_time": "2022-08-27T06:44:03.445677",
     "exception": false,
     "start_time": "2022-08-27T06:44:01.655326",
     "status": "completed"
    },
    "tags": []
   },
   "source": [
    "# Testing"
   ]
  },
  {
   "cell_type": "code",
   "execution_count": 30,
   "id": "14f7d046-4b55-4896-a56b-990127bcc388",
   "metadata": {
    "execution": {
     "iopub.execute_input": "2022-08-27T06:44:06.923326Z",
     "iopub.status.busy": "2022-08-27T06:44:06.923037Z",
     "iopub.status.idle": "2022-08-27T06:44:07.166838Z",
     "shell.execute_reply": "2022-08-27T06:44:07.166264Z"
    },
    "papermill": {
     "duration": 2.013359,
     "end_time": "2022-08-27T06:44:07.168439",
     "exception": false,
     "start_time": "2022-08-27T06:44:05.155080",
     "status": "completed"
    },
    "tags": []
   },
   "outputs": [
    {
     "data": {
      "text/plain": [
       "(244, 244)"
      ]
     },
     "execution_count": 30,
     "metadata": {},
     "output_type": "execute_result"
    }
   ],
   "source": [
    "gene_corrs_df.shape"
   ]
  },
  {
   "cell_type": "code",
   "execution_count": 31,
   "id": "c7d15414-3297-4537-a7c6-7588c0baeb75",
   "metadata": {
    "execution": {
     "iopub.execute_input": "2022-08-27T06:44:10.812207Z",
     "iopub.status.busy": "2022-08-27T06:44:10.811941Z",
     "iopub.status.idle": "2022-08-27T06:44:10.847380Z",
     "shell.execute_reply": "2022-08-27T06:44:10.846835Z"
    },
    "papermill": {
     "duration": 1.866082,
     "end_time": "2022-08-27T06:44:10.848881",
     "exception": false,
     "start_time": "2022-08-27T06:44:08.982799",
     "status": "completed"
    },
    "tags": []
   },
   "outputs": [
    {
     "data": {
      "text/html": [
       "<div>\n",
       "<style scoped>\n",
       "    .dataframe tbody tr th:only-of-type {\n",
       "        vertical-align: middle;\n",
       "    }\n",
       "\n",
       "    .dataframe tbody tr th {\n",
       "        vertical-align: top;\n",
       "    }\n",
       "\n",
       "    .dataframe thead th {\n",
       "        text-align: right;\n",
       "    }\n",
       "</style>\n",
       "<table border=\"1\" class=\"dataframe\">\n",
       "  <thead>\n",
       "    <tr style=\"text-align: right;\">\n",
       "      <th></th>\n",
       "      <th>ENSG00000272602</th>\n",
       "      <th>ENSG00000131127</th>\n",
       "      <th>ENSG00000174227</th>\n",
       "      <th>ENSG00000133256</th>\n",
       "      <th>ENSG00000169020</th>\n",
       "      <th>ENSG00000215375</th>\n",
       "      <th>ENSG00000169026</th>\n",
       "      <th>ENSG00000178950</th>\n",
       "      <th>ENSG00000145214</th>\n",
       "      <th>ENSG00000145217</th>\n",
       "      <th>...</th>\n",
       "      <th>ENSG00000109674</th>\n",
       "      <th>ENSG00000038002</th>\n",
       "      <th>ENSG00000129187</th>\n",
       "      <th>ENSG00000168310</th>\n",
       "      <th>ENSG00000164305</th>\n",
       "      <th>ENSG00000151726</th>\n",
       "      <th>ENSG00000151729</th>\n",
       "      <th>ENSG00000164342</th>\n",
       "      <th>ENSG00000164344</th>\n",
       "      <th>ENSG00000109536</th>\n",
       "    </tr>\n",
       "  </thead>\n",
       "  <tbody>\n",
       "    <tr>\n",
       "      <th>ENSG00000272602</th>\n",
       "      <td>1.000000</td>\n",
       "      <td>0.026111</td>\n",
       "      <td>0.032643</td>\n",
       "      <td>0.031783</td>\n",
       "      <td>0.012578</td>\n",
       "      <td>0.023088</td>\n",
       "      <td>0.022914</td>\n",
       "      <td>0.012772</td>\n",
       "      <td>0.007096</td>\n",
       "      <td>0.006890</td>\n",
       "      <td>...</td>\n",
       "      <td>0.009255</td>\n",
       "      <td>0.005937</td>\n",
       "      <td>0.006624</td>\n",
       "      <td>0.008613</td>\n",
       "      <td>0.005220</td>\n",
       "      <td>0.007602</td>\n",
       "      <td>0.009546</td>\n",
       "      <td>0.007089</td>\n",
       "      <td>0.004597</td>\n",
       "      <td>0.008170</td>\n",
       "    </tr>\n",
       "    <tr>\n",
       "      <th>ENSG00000131127</th>\n",
       "      <td>0.026111</td>\n",
       "      <td>1.000000</td>\n",
       "      <td>0.257021</td>\n",
       "      <td>0.071254</td>\n",
       "      <td>0.030254</td>\n",
       "      <td>0.034861</td>\n",
       "      <td>0.044006</td>\n",
       "      <td>0.007786</td>\n",
       "      <td>0.009555</td>\n",
       "      <td>0.003751</td>\n",
       "      <td>...</td>\n",
       "      <td>0.006911</td>\n",
       "      <td>0.003794</td>\n",
       "      <td>0.003840</td>\n",
       "      <td>0.010176</td>\n",
       "      <td>0.003947</td>\n",
       "      <td>0.008119</td>\n",
       "      <td>0.007841</td>\n",
       "      <td>0.007164</td>\n",
       "      <td>0.002698</td>\n",
       "      <td>0.003345</td>\n",
       "    </tr>\n",
       "    <tr>\n",
       "      <th>ENSG00000174227</th>\n",
       "      <td>0.032643</td>\n",
       "      <td>0.257021</td>\n",
       "      <td>1.000000</td>\n",
       "      <td>0.308906</td>\n",
       "      <td>0.117340</td>\n",
       "      <td>0.070778</td>\n",
       "      <td>0.110667</td>\n",
       "      <td>0.008234</td>\n",
       "      <td>0.008717</td>\n",
       "      <td>0.008874</td>\n",
       "      <td>...</td>\n",
       "      <td>0.006389</td>\n",
       "      <td>0.003422</td>\n",
       "      <td>0.010180</td>\n",
       "      <td>0.006208</td>\n",
       "      <td>0.005705</td>\n",
       "      <td>0.005502</td>\n",
       "      <td>0.006750</td>\n",
       "      <td>0.007962</td>\n",
       "      <td>0.006986</td>\n",
       "      <td>0.004239</td>\n",
       "    </tr>\n",
       "    <tr>\n",
       "      <th>ENSG00000133256</th>\n",
       "      <td>0.031783</td>\n",
       "      <td>0.071254</td>\n",
       "      <td>0.308906</td>\n",
       "      <td>1.000000</td>\n",
       "      <td>0.186049</td>\n",
       "      <td>0.202650</td>\n",
       "      <td>0.249903</td>\n",
       "      <td>0.018498</td>\n",
       "      <td>0.011095</td>\n",
       "      <td>0.006746</td>\n",
       "      <td>...</td>\n",
       "      <td>0.010938</td>\n",
       "      <td>0.005234</td>\n",
       "      <td>0.008156</td>\n",
       "      <td>0.007375</td>\n",
       "      <td>0.005593</td>\n",
       "      <td>0.005453</td>\n",
       "      <td>0.007038</td>\n",
       "      <td>0.008955</td>\n",
       "      <td>0.004631</td>\n",
       "      <td>0.008280</td>\n",
       "    </tr>\n",
       "    <tr>\n",
       "      <th>ENSG00000169020</th>\n",
       "      <td>0.012578</td>\n",
       "      <td>0.030254</td>\n",
       "      <td>0.117340</td>\n",
       "      <td>0.186049</td>\n",
       "      <td>1.000000</td>\n",
       "      <td>0.110423</td>\n",
       "      <td>0.176379</td>\n",
       "      <td>0.006966</td>\n",
       "      <td>0.010265</td>\n",
       "      <td>0.026473</td>\n",
       "      <td>...</td>\n",
       "      <td>0.004374</td>\n",
       "      <td>0.004240</td>\n",
       "      <td>0.004668</td>\n",
       "      <td>0.007046</td>\n",
       "      <td>0.003921</td>\n",
       "      <td>0.004452</td>\n",
       "      <td>0.005060</td>\n",
       "      <td>0.001847</td>\n",
       "      <td>0.001256</td>\n",
       "      <td>0.003673</td>\n",
       "    </tr>\n",
       "  </tbody>\n",
       "</table>\n",
       "<p>5 rows × 244 columns</p>\n",
       "</div>"
      ],
      "text/plain": [
       "                 ENSG00000272602  ENSG00000131127  ENSG00000174227  \\\n",
       "ENSG00000272602         1.000000         0.026111         0.032643   \n",
       "ENSG00000131127         0.026111         1.000000         0.257021   \n",
       "ENSG00000174227         0.032643         0.257021         1.000000   \n",
       "ENSG00000133256         0.031783         0.071254         0.308906   \n",
       "ENSG00000169020         0.012578         0.030254         0.117340   \n",
       "\n",
       "                 ENSG00000133256  ENSG00000169020  ENSG00000215375  \\\n",
       "ENSG00000272602         0.031783         0.012578         0.023088   \n",
       "ENSG00000131127         0.071254         0.030254         0.034861   \n",
       "ENSG00000174227         0.308906         0.117340         0.070778   \n",
       "ENSG00000133256         1.000000         0.186049         0.202650   \n",
       "ENSG00000169020         0.186049         1.000000         0.110423   \n",
       "\n",
       "                 ENSG00000169026  ENSG00000178950  ENSG00000145214  \\\n",
       "ENSG00000272602         0.022914         0.012772         0.007096   \n",
       "ENSG00000131127         0.044006         0.007786         0.009555   \n",
       "ENSG00000174227         0.110667         0.008234         0.008717   \n",
       "ENSG00000133256         0.249903         0.018498         0.011095   \n",
       "ENSG00000169020         0.176379         0.006966         0.010265   \n",
       "\n",
       "                 ENSG00000145217  ...  ENSG00000109674  ENSG00000038002  \\\n",
       "ENSG00000272602         0.006890  ...         0.009255         0.005937   \n",
       "ENSG00000131127         0.003751  ...         0.006911         0.003794   \n",
       "ENSG00000174227         0.008874  ...         0.006389         0.003422   \n",
       "ENSG00000133256         0.006746  ...         0.010938         0.005234   \n",
       "ENSG00000169020         0.026473  ...         0.004374         0.004240   \n",
       "\n",
       "                 ENSG00000129187  ENSG00000168310  ENSG00000164305  \\\n",
       "ENSG00000272602         0.006624         0.008613         0.005220   \n",
       "ENSG00000131127         0.003840         0.010176         0.003947   \n",
       "ENSG00000174227         0.010180         0.006208         0.005705   \n",
       "ENSG00000133256         0.008156         0.007375         0.005593   \n",
       "ENSG00000169020         0.004668         0.007046         0.003921   \n",
       "\n",
       "                 ENSG00000151726  ENSG00000151729  ENSG00000164342  \\\n",
       "ENSG00000272602         0.007602         0.009546         0.007089   \n",
       "ENSG00000131127         0.008119         0.007841         0.007164   \n",
       "ENSG00000174227         0.005502         0.006750         0.007962   \n",
       "ENSG00000133256         0.005453         0.007038         0.008955   \n",
       "ENSG00000169020         0.004452         0.005060         0.001847   \n",
       "\n",
       "                 ENSG00000164344  ENSG00000109536  \n",
       "ENSG00000272602         0.004597         0.008170  \n",
       "ENSG00000131127         0.002698         0.003345  \n",
       "ENSG00000174227         0.006986         0.004239  \n",
       "ENSG00000133256         0.004631         0.008280  \n",
       "ENSG00000169020         0.001256         0.003673  \n",
       "\n",
       "[5 rows x 244 columns]"
      ]
     },
     "execution_count": 31,
     "metadata": {},
     "output_type": "execute_result"
    }
   ],
   "source": [
    "gene_corrs_df.head()"
   ]
  },
  {
   "cell_type": "markdown",
   "id": "dad6603f-01c6-41fb-a6f6-241051207dd8",
   "metadata": {
    "papermill": {
     "duration": 1.803203,
     "end_time": "2022-08-27T06:44:14.392752",
     "exception": false,
     "start_time": "2022-08-27T06:44:12.589549",
     "status": "completed"
    },
    "tags": []
   },
   "source": [
    "## Standard checks and stats"
   ]
  },
  {
   "cell_type": "code",
   "execution_count": 32,
   "id": "286686af-1b7b-4440-8453-6bdcbd8de19c",
   "metadata": {
    "execution": {
     "iopub.execute_input": "2022-08-27T06:44:18.011398Z",
     "iopub.status.busy": "2022-08-27T06:44:18.011105Z",
     "iopub.status.idle": "2022-08-27T06:44:18.036237Z",
     "shell.execute_reply": "2022-08-27T06:44:18.035709Z"
    },
    "papermill": {
     "duration": 1.871434,
     "end_time": "2022-08-27T06:44:18.037932",
     "exception": false,
     "start_time": "2022-08-27T06:44:16.166498",
     "status": "completed"
    },
    "tags": []
   },
   "outputs": [],
   "source": [
    "assert not gene_corrs_df.isna().any().any()"
   ]
  },
  {
   "cell_type": "code",
   "execution_count": 33,
   "id": "00583efc-7068-4270-ad1e-4a418e91db96",
   "metadata": {
    "execution": {
     "iopub.execute_input": "2022-08-27T06:44:21.684905Z",
     "iopub.status.busy": "2022-08-27T06:44:21.684629Z",
     "iopub.status.idle": "2022-08-27T06:44:21.709432Z",
     "shell.execute_reply": "2022-08-27T06:44:21.708874Z"
    },
    "papermill": {
     "duration": 1.829455,
     "end_time": "2022-08-27T06:44:21.710991",
     "exception": false,
     "start_time": "2022-08-27T06:44:19.881536",
     "status": "completed"
    },
    "tags": []
   },
   "outputs": [
    {
     "data": {
      "text/plain": [
       "8.69861517183112e-08"
      ]
     },
     "metadata": {},
     "output_type": "display_data"
    }
   ],
   "source": [
    "_min_val = gene_corrs_df.min().min()\n",
    "display(_min_val)\n",
    "assert _min_val >= -0.05"
   ]
  },
  {
   "cell_type": "code",
   "execution_count": 34,
   "id": "d04fb2cf-1050-475b-b855-f5f7cc04092b",
   "metadata": {
    "execution": {
     "iopub.execute_input": "2022-08-27T06:44:25.414619Z",
     "iopub.status.busy": "2022-08-27T06:44:25.414334Z",
     "iopub.status.idle": "2022-08-27T06:44:25.438088Z",
     "shell.execute_reply": "2022-08-27T06:44:25.437541Z"
    },
    "papermill": {
     "duration": 1.883163,
     "end_time": "2022-08-27T06:44:25.439661",
     "exception": false,
     "start_time": "2022-08-27T06:44:23.556498",
     "status": "completed"
    },
    "tags": []
   },
   "outputs": [
    {
     "data": {
      "text/plain": [
       "1.0000000000000029"
      ]
     },
     "metadata": {},
     "output_type": "display_data"
    }
   ],
   "source": [
    "_max_val = gene_corrs_df.max().max()  # this captures the diagonal\n",
    "display(_max_val)\n",
    "assert _max_val <= 1.05"
   ]
  },
  {
   "cell_type": "code",
   "execution_count": 35,
   "id": "96d02c44-1fba-47be-8a93-8f2608420b9c",
   "metadata": {
    "execution": {
     "iopub.execute_input": "2022-08-27T06:44:29.075998Z",
     "iopub.status.busy": "2022-08-27T06:44:29.075731Z",
     "iopub.status.idle": "2022-08-27T06:44:29.095631Z",
     "shell.execute_reply": "2022-08-27T06:44:29.095060Z"
    },
    "papermill": {
     "duration": 1.840062,
     "end_time": "2022-08-27T06:44:29.097260",
     "exception": false,
     "start_time": "2022-08-27T06:44:27.257198",
     "status": "completed"
    },
    "tags": []
   },
   "outputs": [],
   "source": [
    "# check upper triangular values\n",
    "# assert len(gene_corrs) == int(genes_chr.shape[0] * (genes_chr.shape[0] - 1) / 2)"
   ]
  },
  {
   "cell_type": "code",
   "execution_count": 36,
   "id": "fe283586-c348-40e0-8841-f6d97bfb021c",
   "metadata": {
    "execution": {
     "iopub.execute_input": "2022-08-27T06:44:32.789123Z",
     "iopub.status.busy": "2022-08-27T06:44:32.788860Z",
     "iopub.status.idle": "2022-08-27T06:44:32.817561Z",
     "shell.execute_reply": "2022-08-27T06:44:32.816994Z"
    },
    "papermill": {
     "duration": 1.875335,
     "end_time": "2022-08-27T06:44:32.819245",
     "exception": false,
     "start_time": "2022-08-27T06:44:30.943910",
     "status": "completed"
    },
    "tags": []
   },
   "outputs": [
    {
     "data": {
      "text/plain": [
       "count    2.989000e+04\n",
       "mean     1.542526e-02\n",
       "std      9.211299e-02\n",
       "min      8.698615e-08\n",
       "25%      3.742960e-03\n",
       "50%      5.789324e-03\n",
       "75%      8.085836e-03\n",
       "max      1.000000e+00\n",
       "dtype: float64"
      ]
     },
     "execution_count": 36,
     "metadata": {},
     "output_type": "execute_result"
    }
   ],
   "source": [
    "gene_corrs_flat.describe()"
   ]
  },
  {
   "cell_type": "code",
   "execution_count": 37,
   "id": "b3815678-0f93-4b35-897b-a9d047a2aa78",
   "metadata": {
    "execution": {
     "iopub.execute_input": "2022-08-27T06:44:36.531326Z",
     "iopub.status.busy": "2022-08-27T06:44:36.531036Z",
     "iopub.status.idle": "2022-08-27T06:44:36.556093Z",
     "shell.execute_reply": "2022-08-27T06:44:36.555551Z"
    },
    "papermill": {
     "duration": 1.876335,
     "end_time": "2022-08-27T06:44:36.557660",
     "exception": false,
     "start_time": "2022-08-27T06:44:34.681325",
     "status": "completed"
    },
    "tags": []
   },
   "outputs": [
    {
     "data": {
      "text/plain": [
       "0.00    8.698615e-08\n",
       "0.05    1.419779e-03\n",
       "0.10    2.164445e-03\n",
       "0.15    2.767272e-03\n",
       "0.20    3.276900e-03\n",
       "0.25    3.742960e-03\n",
       "0.30    4.190280e-03\n",
       "0.35    4.597192e-03\n",
       "0.40    4.983150e-03\n",
       "0.45    5.383240e-03\n",
       "0.50    5.789324e-03\n",
       "0.55    6.185604e-03\n",
       "0.60    6.592367e-03\n",
       "0.65    7.050197e-03\n",
       "0.70    7.546417e-03\n",
       "0.75    8.085836e-03\n",
       "0.80    8.720172e-03\n",
       "0.85    9.464341e-03\n",
       "0.90    1.054544e-02\n",
       "0.95    1.227961e-02\n",
       "dtype: float64"
      ]
     },
     "metadata": {},
     "output_type": "display_data"
    }
   ],
   "source": [
    "gene_corrs_quantiles = gene_corrs_flat.quantile(np.arange(0, 1, 0.05))\n",
    "display(gene_corrs_quantiles)"
   ]
  },
  {
   "cell_type": "markdown",
   "id": "87134509-b145-4a10-8bc9-b7e914c2b0fa",
   "metadata": {
    "papermill": {
     "duration": 1.87449,
     "end_time": "2022-08-27T06:44:40.261375",
     "exception": false,
     "start_time": "2022-08-27T06:44:38.386885",
     "status": "completed"
    },
    "tags": []
   },
   "source": [
    "## Positive definiteness"
   ]
  },
  {
   "cell_type": "code",
   "execution_count": 38,
   "id": "07d9a9a1-a4f7-48aa-b916-6d42a8cc6186",
   "metadata": {
    "execution": {
     "iopub.execute_input": "2022-08-27T06:44:43.937804Z",
     "iopub.status.busy": "2022-08-27T06:44:43.937522Z",
     "iopub.status.idle": "2022-08-27T06:44:43.984882Z",
     "shell.execute_reply": "2022-08-27T06:44:43.984346Z"
    },
    "papermill": {
     "duration": 1.873861,
     "end_time": "2022-08-27T06:44:43.986413",
     "exception": false,
     "start_time": "2022-08-27T06:44:42.112552",
     "status": "completed"
    },
    "tags": []
   },
   "outputs": [
    {
     "data": {
      "text/plain": [
       "0"
      ]
     },
     "metadata": {},
     "output_type": "display_data"
    },
    {
     "data": {
      "text/plain": [
       "array([], dtype=float64)"
      ]
     },
     "metadata": {},
     "output_type": "display_data"
    }
   ],
   "source": [
    "# print negative eigenvalues\n",
    "eigs = np.linalg.eigvals(gene_corrs_df.to_numpy())\n",
    "display(len(eigs[eigs < 0]))\n",
    "display(eigs[eigs < 0])"
   ]
  },
  {
   "cell_type": "code",
   "execution_count": 39,
   "id": "6e218436-c3c5-4028-8c94-a4fa6260efce",
   "metadata": {
    "execution": {
     "iopub.execute_input": "2022-08-27T06:44:47.649180Z",
     "iopub.status.busy": "2022-08-27T06:44:47.648912Z",
     "iopub.status.idle": "2022-08-27T06:44:47.675760Z",
     "shell.execute_reply": "2022-08-27T06:44:47.675201Z"
    },
    "papermill": {
     "duration": 1.841377,
     "end_time": "2022-08-27T06:44:47.677286",
     "exception": false,
     "start_time": "2022-08-27T06:44:45.835909",
     "status": "completed"
    },
    "tags": []
   },
   "outputs": [
    {
     "name": "stdout",
     "output_type": "stream",
     "text": [
      "Works!\n"
     ]
    }
   ],
   "source": [
    "try:\n",
    "    chol_mat = np.linalg.cholesky(gene_corrs_df.to_numpy())\n",
    "    cov_inv = np.linalg.inv(chol_mat)\n",
    "    print(\"Works!\")\n",
    "except Exception as e:\n",
    "    print(f\"Cholesky decomposition failed: {str(e)}\")"
   ]
  },
  {
   "cell_type": "code",
   "execution_count": 40,
   "id": "dd8827fb-faf9-4c7c-9454-015e94752706",
   "metadata": {
    "execution": {
     "iopub.execute_input": "2022-08-27T06:44:51.375062Z",
     "iopub.status.busy": "2022-08-27T06:44:51.374790Z",
     "iopub.status.idle": "2022-08-27T06:44:51.400617Z",
     "shell.execute_reply": "2022-08-27T06:44:51.400051Z"
    },
    "papermill": {
     "duration": 1.858374,
     "end_time": "2022-08-27T06:44:51.402249",
     "exception": false,
     "start_time": "2022-08-27T06:44:49.543875",
     "status": "completed"
    },
    "tags": []
   },
   "outputs": [
    {
     "name": "stdout",
     "output_type": "stream",
     "text": [
      "Works!\n"
     ]
    }
   ],
   "source": [
    "try:\n",
    "    # decomposition used by statsmodels.GLS\n",
    "    cholsigmainv = np.linalg.cholesky(np.linalg.inv(gene_corrs_df.to_numpy())).T\n",
    "    print(\"Works!\")\n",
    "except Exception as e:\n",
    "    print(f\"Cholesky decomposition failed (statsmodels.GLS): {str(e)}\")"
   ]
  },
  {
   "cell_type": "markdown",
   "id": "8e60a080-edb2-4e9c-b2ef-22961693200c",
   "metadata": {
    "papermill": {
     "duration": 1.861708,
     "end_time": "2022-08-27T06:44:55.097718",
     "exception": false,
     "start_time": "2022-08-27T06:44:53.236010",
     "status": "completed"
    },
    "tags": []
   },
   "source": [
    "## Plot: distribution"
   ]
  },
  {
   "cell_type": "code",
   "execution_count": 41,
   "id": "8301126b-a7d4-4744-9c7d-f0f86eb6f54c",
   "metadata": {
    "execution": {
     "iopub.execute_input": "2022-08-27T06:44:58.724086Z",
     "iopub.status.busy": "2022-08-27T06:44:58.723818Z",
     "iopub.status.idle": "2022-08-27T06:45:05.861407Z",
     "shell.execute_reply": "2022-08-27T06:45:05.860809Z"
    },
    "papermill": {
     "duration": 8.931906,
     "end_time": "2022-08-27T06:45:05.863172",
     "exception": false,
     "start_time": "2022-08-27T06:44:56.931266",
     "status": "completed"
    },
    "tags": []
   },
   "outputs": [
    {
     "data": {
      "image/png": "[encoded data removed]",
      "text/plain": [
       "<Figure size 504x504 with 1 Axes>"
      ]
     },
     "metadata": {
      "needs_background": "light"
     },
     "output_type": "display_data"
    }
   ],
   "source": [
    "with sns.plotting_context(\"paper\", font_scale=1.5):\n",
    "    g = sns.displot(gene_corrs_flat, kde=True, height=7)\n",
    "    g.ax.set_title(\n",
    "        f\"Distribution of gene correlation values in chromosome {CHROMOSOME}\"\n",
    "    )"
   ]
  },
  {
   "cell_type": "markdown",
   "id": "cbd52bca-d878-4a2f-b684-5c83aa3038d4",
   "metadata": {
    "papermill": {
     "duration": 1.861053,
     "end_time": "2022-08-27T06:45:09.558956",
     "exception": false,
     "start_time": "2022-08-27T06:45:07.697903",
     "status": "completed"
    },
    "tags": []
   },
   "source": [
    "## Plot: heatmap"
   ]
  },
  {
   "cell_type": "code",
   "execution_count": 42,
   "id": "d03fe63a-c7b2-4fb9-a53c-db362ce843c9",
   "metadata": {
    "execution": {
     "iopub.execute_input": "2022-08-27T06:45:13.157995Z",
     "iopub.status.busy": "2022-08-27T06:45:13.157725Z",
     "iopub.status.idle": "2022-08-27T06:45:13.216243Z",
     "shell.execute_reply": "2022-08-27T06:45:13.215663Z"
    },
    "papermill": {
     "duration": 1.873097,
     "end_time": "2022-08-27T06:45:13.217966",
     "exception": false,
     "start_time": "2022-08-27T06:45:11.344869",
     "status": "completed"
    },
    "tags": []
   },
   "outputs": [
    {
     "data": {
      "text/plain": [
       "'0.0 / 0.05'"
      ]
     },
     "metadata": {},
     "output_type": "display_data"
    }
   ],
   "source": [
    "vmin_val = min(0.00, gene_corrs_quantiles[0.10])\n",
    "vmax_val = max(0.05, gene_corrs_quantiles[0.90])\n",
    "display(f\"{vmin_val} / {vmax_val}\")"
   ]
  },
  {
   "cell_type": "code",
   "execution_count": 43,
   "id": "dc41b70b-5bcc-4d9e-9f33-a22c4a94dab5",
   "metadata": {
    "execution": {
     "iopub.execute_input": "2022-08-27T06:45:16.938766Z",
     "iopub.status.busy": "2022-08-27T06:45:16.938495Z",
     "iopub.status.idle": "2022-08-27T06:45:17.174607Z",
     "shell.execute_reply": "2022-08-27T06:45:17.174028Z"
    },
    "papermill": {
     "duration": 2.102798,
     "end_time": "2022-08-27T06:45:17.176224",
     "exception": false,
     "start_time": "2022-08-27T06:45:15.073426",
     "status": "completed"
    },
    "tags": []
   },
   "outputs": [
    {
     "data": {
      "text/plain": [
       "Text(0.5, 1.0, 'Gene correlations in chromosome 4')"
      ]
     },
     "execution_count": 43,
     "metadata": {},
     "output_type": "execute_result"
    },
    {
     "data": {
      "image/png": "[encoded data removed]",
      "text/plain": [
       "<Figure size 720x720 with 2 Axes>"
      ]
     },
     "metadata": {
      "needs_background": "light"
     },
     "output_type": "display_data"
    }
   ],
   "source": [
    "f, ax = plt.subplots(figsize=(10, 10))\n",
    "sns.heatmap(\n",
    "    gene_corrs_df,\n",
    "    xticklabels=False,\n",
    "    yticklabels=False,\n",
    "    square=True,\n",
    "    vmin=vmin_val,\n",
    "    vmax=vmax_val,\n",
    "    cmap=\"rocket_r\",\n",
    "    ax=ax,\n",
    ")\n",
    "ax.set_title(f\"Gene correlations in chromosome {CHROMOSOME}\")"
   ]
  },
  {
   "cell_type": "code",
   "execution_count": null,
   "id": "b25e3ead",
   "metadata": {
    "papermill": {
     "duration": 1.815438,
     "end_time": "2022-08-27T06:45:20.820053",
     "exception": false,
     "start_time": "2022-08-27T06:45:19.004615",
     "status": "completed"
    },
    "tags": []
   },
   "outputs": [],
   "source": []
  }
 ],
 "metadata": {
  "jupytext": {
   "cell_metadata_filter": "all,-execution,-papermill,-trusted",
   "formats": "ipynb,py//py:percent"
  },
  "kernelspec": {
   "display_name": "Python 3 (ipykernel)",
   "language": "python",
   "name": "python3"
  },
  "language_info": {
   "codemirror_mode": {
    "name": "ipython",
    "version": 3
   },
   "file_extension": ".py",
   "mimetype": "text/x-python",
   "name": "python",
   "nbconvert_exporter": "python",
   "pygments_lexer": "ipython3",
   "version": "3.8.13"
  },
  "papermill": {
   "default_parameters": {},
   "duration": 2648.780376,
   "end_time": "2022-08-27T06:45:25.593301",
   "environment_variables": {},
   "exception": null,
   "input_path": "nbs/15_gsa_gls/10-gene_expr_correlations.ipynb",
   "output_path": "nbs/15_gsa_gls/gene_corrs/cohorts/phenomexcan_astle/gtex_v8/mashr/10-gene_expr_corrs/10-gene_expr_correlations-chr4.run.ipynb",
   "parameters": {
    "CHROMOSOME": 4,
    "COHORT_NAME": "phenomexcan_astle",
    "EQTL_MODEL": "MASHR",
    "REFERENCE_PANEL": "GTEX_V8"
   },
   "start_time": "2022-08-27T06:01:16.812925",
   "version": "2.2.2"
  }
 },
 "nbformat": 4,
 "nbformat_minor": 5
}
