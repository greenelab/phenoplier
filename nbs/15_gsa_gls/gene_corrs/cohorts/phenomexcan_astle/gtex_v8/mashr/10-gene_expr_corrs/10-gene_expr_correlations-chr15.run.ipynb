{
 "cells": [
  {
   "cell_type": "markdown",
   "id": "7a6632fb",
   "metadata": {
    "papermill": {
     "duration": 0.02351,
     "end_time": "2022-08-27T06:01:19.264256",
     "exception": false,
     "start_time": "2022-08-27T06:01:19.240746",
     "status": "completed"
    },
    "tags": []
   },
   "source": [
    "# Description"
   ]
  },
  {
   "cell_type": "markdown",
   "id": "7097c346",
   "metadata": {
    "papermill": {
     "duration": 0.014447,
     "end_time": "2022-08-27T06:01:19.295447",
     "exception": false,
     "start_time": "2022-08-27T06:01:19.281000",
     "status": "completed"
    },
    "tags": []
   },
   "source": [
    "(Please, take a look at the README.md file in this directory for instructions on how to run this notebook)\n",
    "\n",
    "This notebook computes predicted expression correlations between all genes in the MultiPLIER models.\n",
    "\n",
    "It also has a parameter set for papermill to run on a single chromosome to run in parallel (see under `Settings` below).\n",
    "\n",
    "This notebook is not directly run. See README.md."
   ]
  },
  {
   "cell_type": "markdown",
   "id": "c61d8427",
   "metadata": {
    "papermill": {
     "duration": 0.012966,
     "end_time": "2022-08-27T06:01:19.322503",
     "exception": false,
     "start_time": "2022-08-27T06:01:19.309537",
     "status": "completed"
    },
    "tags": []
   },
   "source": [
    "# Modules"
   ]
  },
  {
   "cell_type": "code",
   "execution_count": 1,
   "id": "bbc0234f",
   "metadata": {
    "execution": {
     "iopub.execute_input": "2022-08-27T06:01:19.351328Z",
     "iopub.status.busy": "2022-08-27T06:01:19.350997Z",
     "iopub.status.idle": "2022-08-27T06:01:19.376871Z",
     "shell.execute_reply": "2022-08-27T06:01:19.376272Z"
    },
    "papermill": {
     "duration": 0.042185,
     "end_time": "2022-08-27T06:01:19.379033",
     "exception": false,
     "start_time": "2022-08-27T06:01:19.336848",
     "status": "completed"
    },
    "tags": []
   },
   "outputs": [],
   "source": [
    "%load_ext autoreload\n",
    "%autoreload 2"
   ]
  },
  {
   "cell_type": "code",
   "execution_count": 2,
   "id": "1d5f5a59",
   "metadata": {
    "execution": {
     "iopub.execute_input": "2022-08-27T06:01:19.402288Z",
     "iopub.status.busy": "2022-08-27T06:01:19.402057Z",
     "iopub.status.idle": "2022-08-27T06:01:21.144121Z",
     "shell.execute_reply": "2022-08-27T06:01:21.143610Z"
    },
    "papermill": {
     "duration": 1.755636,
     "end_time": "2022-08-27T06:01:21.145943",
     "exception": false,
     "start_time": "2022-08-27T06:01:19.390307",
     "status": "completed"
    },
    "tags": []
   },
   "outputs": [],
   "source": [
    "from random import sample, seed\n",
    "import warnings\n",
    "from pathlib import Path\n",
    "import pickle\n",
    "import traceback\n",
    "\n",
    "import numpy as np\n",
    "from scipy.spatial.distance import squareform\n",
    "import pandas as pd\n",
    "from tqdm import tqdm\n",
    "import matplotlib.pyplot as plt\n",
    "import seaborn as sns\n",
    "\n",
    "import conf\n",
    "from entity import Gene"
   ]
  },
  {
   "cell_type": "markdown",
   "id": "1eac24b5",
   "metadata": {
    "papermill": {
     "duration": 0.012373,
     "end_time": "2022-08-27T06:01:21.199497",
     "exception": false,
     "start_time": "2022-08-27T06:01:21.187124",
     "status": "completed"
    },
    "tags": []
   },
   "source": [
    "# Settings"
   ]
  },
  {
   "cell_type": "code",
   "execution_count": 3,
   "id": "ca4560ba",
   "metadata": {
    "execution": {
     "iopub.execute_input": "2022-08-27T06:01:21.251905Z",
     "iopub.status.busy": "2022-08-27T06:01:21.251536Z",
     "iopub.status.idle": "2022-08-27T06:01:21.293954Z",
     "shell.execute_reply": "2022-08-27T06:01:21.293318Z"
    },
    "papermill": {
     "duration": 0.058255,
     "end_time": "2022-08-27T06:01:21.295961",
     "exception": false,
     "start_time": "2022-08-27T06:01:21.237706",
     "status": "completed"
    },
    "tags": [
     "parameters"
    ]
   },
   "outputs": [],
   "source": [
    "# a cohort name (it could be something like UK_BIOBANK, etc)\n",
    "COHORT_NAME = None\n",
    "\n",
    "# reference panel such as 1000G or GTEX_V8\n",
    "REFERENCE_PANEL = None\n",
    "\n",
    "# predictions models such as MASHR or ELASTIC_NET\n",
    "EQTL_MODEL = None\n",
    "\n",
    "# this is the default value used in S-MultiXcan to select the\n",
    "# top principal components of the expression correlation matrix\n",
    "SMULTIXCAN_CONDITION_NUMBER = 30\n",
    "\n",
    "# specifies a single chromosome value\n",
    "CHROMOSOME = None\n",
    "\n",
    "# If True, computes the correlation between closeby genes only;\n",
    "# otherwise, it computes correlations for all genes in a chromosome\n",
    "COMPUTE_CORRELATIONS_WITHIN_DISTANCE = False\n",
    "\n",
    "# if True, then it will continue if a gene pair correlation fails,\n",
    "# printing the warning/error for debugging. If False, any warning/error\n",
    "# will be thrown\n",
    "DEBUG_MODE = False"
   ]
  },
  {
   "cell_type": "code",
   "execution_count": 4,
   "id": "73f158e2",
   "metadata": {
    "execution": {
     "iopub.execute_input": "2022-08-27T06:01:21.324845Z",
     "iopub.status.busy": "2022-08-27T06:01:21.324595Z",
     "iopub.status.idle": "2022-08-27T06:01:21.345879Z",
     "shell.execute_reply": "2022-08-27T06:01:21.345389Z"
    },
    "papermill": {
     "duration": 0.037734,
     "end_time": "2022-08-27T06:01:21.347483",
     "exception": false,
     "start_time": "2022-08-27T06:01:21.309749",
     "status": "completed"
    },
    "tags": [
     "injected-parameters"
    ]
   },
   "outputs": [],
   "source": [
    "# Parameters\n",
    "COHORT_NAME = \"phenomexcan_astle\"\n",
    "REFERENCE_PANEL = \"GTEX_V8\"\n",
    "EQTL_MODEL = \"MASHR\"\n",
    "CHROMOSOME = 15\n"
   ]
  },
  {
   "cell_type": "code",
   "execution_count": 5,
   "id": "3190631f-27fc-480f-b18e-571d580425a5",
   "metadata": {
    "execution": {
     "iopub.execute_input": "2022-08-27T06:01:21.368092Z",
     "iopub.status.busy": "2022-08-27T06:01:21.367902Z",
     "iopub.status.idle": "2022-08-27T06:01:21.389201Z",
     "shell.execute_reply": "2022-08-27T06:01:21.388789Z"
    },
    "papermill": {
     "duration": 0.032975,
     "end_time": "2022-08-27T06:01:21.390498",
     "exception": false,
     "start_time": "2022-08-27T06:01:21.357523",
     "status": "completed"
    },
    "tags": []
   },
   "outputs": [
    {
     "data": {
      "text/plain": [
       "'Cohort name: phenomexcan_astle'"
      ]
     },
     "metadata": {},
     "output_type": "display_data"
    }
   ],
   "source": [
    "assert COHORT_NAME is not None and len(COHORT_NAME) > 0, \"A cohort name must be given\"\n",
    "\n",
    "COHORT_NAME = COHORT_NAME.lower()\n",
    "display(f\"Cohort name: {COHORT_NAME}\")"
   ]
  },
  {
   "cell_type": "code",
   "execution_count": 6,
   "id": "f53ba19b-0f93-4fa2-a047-63b375939d1a",
   "metadata": {
    "execution": {
     "iopub.execute_input": "2022-08-27T06:01:21.424834Z",
     "iopub.status.busy": "2022-08-27T06:01:21.424665Z",
     "iopub.status.idle": "2022-08-27T06:01:21.441811Z",
     "shell.execute_reply": "2022-08-27T06:01:21.441434Z"
    },
    "papermill": {
     "duration": 0.031458,
     "end_time": "2022-08-27T06:01:21.442972",
     "exception": false,
     "start_time": "2022-08-27T06:01:21.411514",
     "status": "completed"
    },
    "tags": []
   },
   "outputs": [
    {
     "data": {
      "text/plain": [
       "'Reference panel: GTEX_V8'"
      ]
     },
     "metadata": {},
     "output_type": "display_data"
    }
   ],
   "source": [
    "assert (\n",
    "    REFERENCE_PANEL is not None and len(REFERENCE_PANEL) > 0\n",
    "), \"A reference panel must be given\"\n",
    "\n",
    "display(f\"Reference panel: {REFERENCE_PANEL}\")"
   ]
  },
  {
   "cell_type": "code",
   "execution_count": 7,
   "id": "e024d130-c139-429a-9c6e-ccf149e297b0",
   "metadata": {
    "execution": {
     "iopub.execute_input": "2022-08-27T06:01:21.473364Z",
     "iopub.status.busy": "2022-08-27T06:01:21.473198Z",
     "iopub.status.idle": "2022-08-27T06:01:21.492695Z",
     "shell.execute_reply": "2022-08-27T06:01:21.492324Z"
    },
    "papermill": {
     "duration": 0.037487,
     "end_time": "2022-08-27T06:01:21.494054",
     "exception": false,
     "start_time": "2022-08-27T06:01:21.456567",
     "status": "completed"
    },
    "tags": []
   },
   "outputs": [
    {
     "data": {
      "text/plain": [
       "'eQTL model: MASHR) / mashr_'"
      ]
     },
     "metadata": {},
     "output_type": "display_data"
    }
   ],
   "source": [
    "assert (\n",
    "    EQTL_MODEL is not None and len(EQTL_MODEL) > 0\n",
    "), \"A prediction/eQTL model must be given\"\n",
    "\n",
    "EQTL_MODEL_FILES_PREFIX = conf.PHENOMEXCAN[\"PREDICTION_MODELS\"][f\"{EQTL_MODEL}_PREFIX\"]\n",
    "display(f\"eQTL model: {EQTL_MODEL}) / {EQTL_MODEL_FILES_PREFIX}\")"
   ]
  },
  {
   "cell_type": "code",
   "execution_count": 8,
   "id": "552a7f63-a18c-4d3e-bb6a-94f99b431291",
   "metadata": {
    "execution": {
     "iopub.execute_input": "2022-08-27T06:01:21.546883Z",
     "iopub.status.busy": "2022-08-27T06:01:21.546724Z",
     "iopub.status.idle": "2022-08-27T06:01:21.563592Z",
     "shell.execute_reply": "2022-08-27T06:01:21.563203Z"
    },
    "papermill": {
     "duration": 0.044838,
     "end_time": "2022-08-27T06:01:21.564773",
     "exception": false,
     "start_time": "2022-08-27T06:01:21.519935",
     "status": "completed"
    },
    "tags": []
   },
   "outputs": [
    {
     "data": {
      "text/plain": [
       "'S-MultiXcan condition number: 30'"
      ]
     },
     "metadata": {},
     "output_type": "display_data"
    }
   ],
   "source": [
    "assert (\n",
    "    SMULTIXCAN_CONDITION_NUMBER is not None and SMULTIXCAN_CONDITION_NUMBER > 0\n",
    "), \"The S-MultiXcan condition number (positive integer) must be given\"\n",
    "\n",
    "display(f\"S-MultiXcan condition number: {SMULTIXCAN_CONDITION_NUMBER}\")"
   ]
  },
  {
   "cell_type": "code",
   "execution_count": 9,
   "id": "f34a336f-548e-4afe-8955-90eaea4f42c6",
   "metadata": {
    "execution": {
     "iopub.execute_input": "2022-08-27T06:01:21.607616Z",
     "iopub.status.busy": "2022-08-27T06:01:21.607453Z",
     "iopub.status.idle": "2022-08-27T06:01:21.624299Z",
     "shell.execute_reply": "2022-08-27T06:01:21.623937Z"
    },
    "papermill": {
     "duration": 0.041504,
     "end_time": "2022-08-27T06:01:21.625456",
     "exception": false,
     "start_time": "2022-08-27T06:01:21.583952",
     "status": "completed"
    },
    "tags": []
   },
   "outputs": [
    {
     "data": {
      "text/plain": [
       "'Working on chromosome 15'"
      ]
     },
     "metadata": {},
     "output_type": "display_data"
    }
   ],
   "source": [
    "assert CHROMOSOME is not None and (\n",
    "    1 <= CHROMOSOME <= 22\n",
    "), \"You have to select one chromosome (format: number between 1 and 22)\"\n",
    "\n",
    "# CHROMOSOME = str(CHROMOSOME)\n",
    "display(f\"Working on chromosome {CHROMOSOME}\")"
   ]
  },
  {
   "cell_type": "code",
   "execution_count": 10,
   "id": "ab8e96e8-06b5-4363-9dcd-dc4d78cc27f7",
   "metadata": {
    "execution": {
     "iopub.execute_input": "2022-08-27T06:01:21.678854Z",
     "iopub.status.busy": "2022-08-27T06:01:21.678688Z",
     "iopub.status.idle": "2022-08-27T06:01:21.695365Z",
     "shell.execute_reply": "2022-08-27T06:01:21.695000Z"
    },
    "papermill": {
     "duration": 0.039566,
     "end_time": "2022-08-27T06:01:21.696505",
     "exception": false,
     "start_time": "2022-08-27T06:01:21.656939",
     "status": "completed"
    },
    "tags": []
   },
   "outputs": [
    {
     "data": {
      "text/plain": [
       "'Compute correlation within distance False'"
      ]
     },
     "metadata": {},
     "output_type": "display_data"
    }
   ],
   "source": [
    "display(f\"Compute correlation within distance {COMPUTE_CORRELATIONS_WITHIN_DISTANCE}\")"
   ]
  },
  {
   "cell_type": "code",
   "execution_count": 11,
   "id": "396392dc-0340-4540-9b02-e182b833f909",
   "metadata": {
    "execution": {
     "iopub.execute_input": "2022-08-27T06:01:21.745102Z",
     "iopub.status.busy": "2022-08-27T06:01:21.744946Z",
     "iopub.status.idle": "2022-08-27T06:01:21.784633Z",
     "shell.execute_reply": "2022-08-27T06:01:21.784239Z"
    },
    "papermill": {
     "duration": 0.066757,
     "end_time": "2022-08-27T06:01:21.785799",
     "exception": false,
     "start_time": "2022-08-27T06:01:21.719042",
     "status": "completed"
    },
    "tags": []
   },
   "outputs": [
    {
     "data": {
      "text/plain": [
       "'Using output dir base: /project/ritchie20/projects/phenoplier/base/results/gls/gene_corrs/cohorts/phenomexcan_astle/gtex_v8/mashr'"
      ]
     },
     "metadata": {},
     "output_type": "display_data"
    }
   ],
   "source": [
    "OUTPUT_DIR_BASE = (\n",
    "    conf.RESULTS[\"GLS\"]\n",
    "    / \"gene_corrs\"\n",
    "    / \"cohorts\"\n",
    "    / COHORT_NAME\n",
    "    / REFERENCE_PANEL.lower()\n",
    "    / EQTL_MODEL.lower()\n",
    ")\n",
    "OUTPUT_DIR_BASE.mkdir(parents=True, exist_ok=True)\n",
    "\n",
    "display(f\"Using output dir base: {OUTPUT_DIR_BASE}\")"
   ]
  },
  {
   "cell_type": "markdown",
   "id": "d2ba085e",
   "metadata": {
    "papermill": {
     "duration": 0.031504,
     "end_time": "2022-08-27T06:01:21.840695",
     "exception": false,
     "start_time": "2022-08-27T06:01:21.809191",
     "status": "completed"
    },
    "tags": []
   },
   "source": [
    "# Load data"
   ]
  },
  {
   "cell_type": "markdown",
   "id": "7dcb8db7",
   "metadata": {
    "papermill": {
     "duration": 0.035521,
     "end_time": "2022-08-27T06:01:21.914266",
     "exception": false,
     "start_time": "2022-08-27T06:01:21.878745",
     "status": "completed"
    },
    "tags": []
   },
   "source": [
    "## GWAS variants"
   ]
  },
  {
   "cell_type": "code",
   "execution_count": 12,
   "id": "29434c4e-8cd3-4b9b-82e4-b5a251d9dd19",
   "metadata": {
    "execution": {
     "iopub.execute_input": "2022-08-27T06:01:22.021721Z",
     "iopub.status.busy": "2022-08-27T06:01:22.021284Z",
     "iopub.status.idle": "2022-08-27T06:01:26.126737Z",
     "shell.execute_reply": "2022-08-27T06:01:26.125992Z"
    },
    "papermill": {
     "duration": 4.167519,
     "end_time": "2022-08-27T06:01:26.128616",
     "exception": false,
     "start_time": "2022-08-27T06:01:21.961097",
     "status": "completed"
    },
    "tags": []
   },
   "outputs": [],
   "source": [
    "with open(OUTPUT_DIR_BASE / \"gwas_variant_ids.pkl\", \"rb\") as handle:\n",
    "    gwas_variants_ids_set = pickle.load(handle)"
   ]
  },
  {
   "cell_type": "code",
   "execution_count": 13,
   "id": "b9d9dec2-4a76-4bf9-bde2-e24c95acb8a0",
   "metadata": {
    "execution": {
     "iopub.execute_input": "2022-08-27T06:01:26.146619Z",
     "iopub.status.busy": "2022-08-27T06:01:26.146424Z",
     "iopub.status.idle": "2022-08-27T06:01:26.168073Z",
     "shell.execute_reply": "2022-08-27T06:01:26.167704Z"
    },
    "papermill": {
     "duration": 0.031724,
     "end_time": "2022-08-27T06:01:26.169233",
     "exception": false,
     "start_time": "2022-08-27T06:01:26.137509",
     "status": "completed"
    },
    "tags": []
   },
   "outputs": [
    {
     "data": {
      "text/plain": [
       "8871979"
      ]
     },
     "execution_count": 13,
     "metadata": {},
     "output_type": "execute_result"
    }
   ],
   "source": [
    "len(gwas_variants_ids_set)"
   ]
  },
  {
   "cell_type": "code",
   "execution_count": 14,
   "id": "4235b06a-6034-4ee4-a0a3-2ae35d122418",
   "metadata": {
    "execution": {
     "iopub.execute_input": "2022-08-27T06:01:26.187737Z",
     "iopub.status.busy": "2022-08-27T06:01:26.187558Z",
     "iopub.status.idle": "2022-08-27T06:01:26.697770Z",
     "shell.execute_reply": "2022-08-27T06:01:26.697333Z"
    },
    "papermill": {
     "duration": 0.520223,
     "end_time": "2022-08-27T06:01:26.699109",
     "exception": false,
     "start_time": "2022-08-27T06:01:26.178886",
     "status": "completed"
    },
    "tags": []
   },
   "outputs": [
    {
     "data": {
      "text/plain": [
       "['chr6_88792400_G_C_b38',\n",
       " 'chr3_90354159_G_A_b38',\n",
       " 'chr15_99504796_G_C_b38',\n",
       " 'chr12_64630617_A_G_b38',\n",
       " 'chr9_133967764_TC_T_b38']"
      ]
     },
     "execution_count": 14,
     "metadata": {},
     "output_type": "execute_result"
    }
   ],
   "source": [
    "list(gwas_variants_ids_set)[:5]"
   ]
  },
  {
   "cell_type": "markdown",
   "id": "07866999-2305-41f9-a144-e69c9122c212",
   "metadata": {
    "papermill": {
     "duration": 0.008191,
     "end_time": "2022-08-27T06:01:26.717056",
     "exception": false,
     "start_time": "2022-08-27T06:01:26.708865",
     "status": "completed"
    },
    "tags": []
   },
   "source": [
    "## S-PrediXcan tissue models"
   ]
  },
  {
   "cell_type": "code",
   "execution_count": 15,
   "id": "780611d9-77c8-405f-90a4-f271f7b09397",
   "metadata": {
    "execution": {
     "iopub.execute_input": "2022-08-27T06:01:26.735031Z",
     "iopub.status.busy": "2022-08-27T06:01:26.734853Z",
     "iopub.status.idle": "2022-08-27T06:01:27.639439Z",
     "shell.execute_reply": "2022-08-27T06:01:27.638970Z"
    },
    "papermill": {
     "duration": 0.915755,
     "end_time": "2022-08-27T06:01:27.641184",
     "exception": false,
     "start_time": "2022-08-27T06:01:26.725429",
     "status": "completed"
    },
    "tags": []
   },
   "outputs": [],
   "source": [
    "spredixcan_genes_models = pd.read_pickle(OUTPUT_DIR_BASE / \"gene_tissues.pkl\")"
   ]
  },
  {
   "cell_type": "code",
   "execution_count": 16,
   "id": "726dd1f6-9557-4225-91fa-b3b879ea96e1",
   "metadata": {
    "execution": {
     "iopub.execute_input": "2022-08-27T06:01:27.660950Z",
     "iopub.status.busy": "2022-08-27T06:01:27.660756Z",
     "iopub.status.idle": "2022-08-27T06:01:27.680887Z",
     "shell.execute_reply": "2022-08-27T06:01:27.680510Z"
    },
    "papermill": {
     "duration": 0.030396,
     "end_time": "2022-08-27T06:01:27.682056",
     "exception": false,
     "start_time": "2022-08-27T06:01:27.651660",
     "status": "completed"
    },
    "tags": []
   },
   "outputs": [
    {
     "data": {
      "text/plain": [
       "(6450, 3)"
      ]
     },
     "execution_count": 16,
     "metadata": {},
     "output_type": "execute_result"
    }
   ],
   "source": [
    "spredixcan_genes_models.shape"
   ]
  },
  {
   "cell_type": "code",
   "execution_count": 17,
   "id": "944a1b48-222c-4eb0-b252-b9de2cbca215",
   "metadata": {
    "execution": {
     "iopub.execute_input": "2022-08-27T06:01:27.709468Z",
     "iopub.status.busy": "2022-08-27T06:01:27.709301Z",
     "iopub.status.idle": "2022-08-27T06:01:27.737004Z",
     "shell.execute_reply": "2022-08-27T06:01:27.736634Z"
    },
    "papermill": {
     "duration": 0.042682,
     "end_time": "2022-08-27T06:01:27.738200",
     "exception": false,
     "start_time": "2022-08-27T06:01:27.695518",
     "status": "completed"
    },
    "tags": []
   },
   "outputs": [
    {
     "data": {
      "text/html": [
       "<div>\n",
       "<style scoped>\n",
       "    .dataframe tbody tr th:only-of-type {\n",
       "        vertical-align: middle;\n",
       "    }\n",
       "\n",
       "    .dataframe tbody tr th {\n",
       "        vertical-align: top;\n",
       "    }\n",
       "\n",
       "    .dataframe thead th {\n",
       "        text-align: right;\n",
       "    }\n",
       "</style>\n",
       "<table border=\"1\" class=\"dataframe\">\n",
       "  <thead>\n",
       "    <tr style=\"text-align: right;\">\n",
       "      <th></th>\n",
       "      <th>gene_name</th>\n",
       "      <th>tissue</th>\n",
       "      <th>n_tissues</th>\n",
       "    </tr>\n",
       "    <tr>\n",
       "      <th>gene_id</th>\n",
       "      <th></th>\n",
       "      <th></th>\n",
       "      <th></th>\n",
       "    </tr>\n",
       "  </thead>\n",
       "  <tbody>\n",
       "    <tr>\n",
       "      <th>ENSG00000000419</th>\n",
       "      <td>DPM1</td>\n",
       "      <td>(Brain_Substantia_nigra, Cells_Cultured_fibrob...</td>\n",
       "      <td>3</td>\n",
       "    </tr>\n",
       "    <tr>\n",
       "      <th>ENSG00000000938</th>\n",
       "      <td>FGR</td>\n",
       "      <td>(Esophagus_Gastroesophageal_Junction, Nerve_Ti...</td>\n",
       "      <td>36</td>\n",
       "    </tr>\n",
       "    <tr>\n",
       "      <th>ENSG00000000971</th>\n",
       "      <td>CFH</td>\n",
       "      <td>(Esophagus_Gastroesophageal_Junction, Nerve_Ti...</td>\n",
       "      <td>34</td>\n",
       "    </tr>\n",
       "    <tr>\n",
       "      <th>ENSG00000001084</th>\n",
       "      <td>GCLC</td>\n",
       "      <td>(Nerve_Tibial, Skin_Not_Sun_Exposed_Suprapubic...</td>\n",
       "      <td>33</td>\n",
       "    </tr>\n",
       "    <tr>\n",
       "      <th>ENSG00000001167</th>\n",
       "      <td>NFYA</td>\n",
       "      <td>(Esophagus_Gastroesophageal_Junction, Nerve_Ti...</td>\n",
       "      <td>40</td>\n",
       "    </tr>\n",
       "  </tbody>\n",
       "</table>\n",
       "</div>"
      ],
      "text/plain": [
       "                gene_name                                             tissue  \\\n",
       "gene_id                                                                        \n",
       "ENSG00000000419      DPM1  (Brain_Substantia_nigra, Cells_Cultured_fibrob...   \n",
       "ENSG00000000938       FGR  (Esophagus_Gastroesophageal_Junction, Nerve_Ti...   \n",
       "ENSG00000000971       CFH  (Esophagus_Gastroesophageal_Junction, Nerve_Ti...   \n",
       "ENSG00000001084      GCLC  (Nerve_Tibial, Skin_Not_Sun_Exposed_Suprapubic...   \n",
       "ENSG00000001167      NFYA  (Esophagus_Gastroesophageal_Junction, Nerve_Ti...   \n",
       "\n",
       "                 n_tissues  \n",
       "gene_id                     \n",
       "ENSG00000000419          3  \n",
       "ENSG00000000938         36  \n",
       "ENSG00000000971         34  \n",
       "ENSG00000001084         33  \n",
       "ENSG00000001167         40  "
      ]
     },
     "execution_count": 17,
     "metadata": {},
     "output_type": "execute_result"
    }
   ],
   "source": [
    "spredixcan_genes_models.head()"
   ]
  },
  {
   "cell_type": "code",
   "execution_count": 18,
   "id": "d1c11bb1-be0b-4f40-b360-633d6827109f",
   "metadata": {
    "execution": {
     "iopub.execute_input": "2022-08-27T06:01:27.757356Z",
     "iopub.status.busy": "2022-08-27T06:01:27.757185Z",
     "iopub.status.idle": "2022-08-27T06:01:27.773495Z",
     "shell.execute_reply": "2022-08-27T06:01:27.773137Z"
    },
    "papermill": {
     "duration": 0.027907,
     "end_time": "2022-08-27T06:01:27.774770",
     "exception": false,
     "start_time": "2022-08-27T06:01:27.746863",
     "status": "completed"
    },
    "tags": []
   },
   "outputs": [],
   "source": [
    "assert spredixcan_genes_models.index.is_unique"
   ]
  },
  {
   "cell_type": "markdown",
   "id": "a5b5092c-a13e-47c4-a92a-480fcc08f3ae",
   "metadata": {
    "papermill": {
     "duration": 0.009168,
     "end_time": "2022-08-27T06:01:27.798403",
     "exception": false,
     "start_time": "2022-08-27T06:01:27.789235",
     "status": "completed"
    },
    "tags": []
   },
   "source": [
    "## Gene info"
   ]
  },
  {
   "cell_type": "code",
   "execution_count": 19,
   "id": "7d6bb224-88e9-4358-ac10-43a41d92cdad",
   "metadata": {
    "execution": {
     "iopub.execute_input": "2022-08-27T06:01:27.818912Z",
     "iopub.status.busy": "2022-08-27T06:01:27.818743Z",
     "iopub.status.idle": "2022-08-27T06:01:27.840211Z",
     "shell.execute_reply": "2022-08-27T06:01:27.839835Z"
    },
    "papermill": {
     "duration": 0.032022,
     "end_time": "2022-08-27T06:01:27.841511",
     "exception": false,
     "start_time": "2022-08-27T06:01:27.809489",
     "status": "completed"
    },
    "tags": []
   },
   "outputs": [],
   "source": [
    "genes_info = pd.read_pickle(OUTPUT_DIR_BASE / \"genes_info.pkl\")"
   ]
  },
  {
   "cell_type": "code",
   "execution_count": 20,
   "id": "9e32abfa-546d-483e-8c18-d526e9e05903",
   "metadata": {
    "execution": {
     "iopub.execute_input": "2022-08-27T06:01:27.862848Z",
     "iopub.status.busy": "2022-08-27T06:01:27.862675Z",
     "iopub.status.idle": "2022-08-27T06:01:27.880204Z",
     "shell.execute_reply": "2022-08-27T06:01:27.879830Z"
    },
    "papermill": {
     "duration": 0.030207,
     "end_time": "2022-08-27T06:01:27.881364",
     "exception": false,
     "start_time": "2022-08-27T06:01:27.851157",
     "status": "completed"
    },
    "tags": []
   },
   "outputs": [
    {
     "data": {
      "text/plain": [
       "(6450, 7)"
      ]
     },
     "execution_count": 20,
     "metadata": {},
     "output_type": "execute_result"
    }
   ],
   "source": [
    "genes_info.shape"
   ]
  },
  {
   "cell_type": "code",
   "execution_count": 21,
   "id": "d16c3e92-85ec-468a-9a56-e25a9774a1cb",
   "metadata": {
    "execution": {
     "iopub.execute_input": "2022-08-27T06:01:27.907739Z",
     "iopub.status.busy": "2022-08-27T06:01:27.907554Z",
     "iopub.status.idle": "2022-08-27T06:01:27.928023Z",
     "shell.execute_reply": "2022-08-27T06:01:27.927658Z"
    },
    "papermill": {
     "duration": 0.035305,
     "end_time": "2022-08-27T06:01:27.929161",
     "exception": false,
     "start_time": "2022-08-27T06:01:27.893856",
     "status": "completed"
    },
    "tags": []
   },
   "outputs": [
    {
     "data": {
      "text/html": [
       "<div>\n",
       "<style scoped>\n",
       "    .dataframe tbody tr th:only-of-type {\n",
       "        vertical-align: middle;\n",
       "    }\n",
       "\n",
       "    .dataframe tbody tr th {\n",
       "        vertical-align: top;\n",
       "    }\n",
       "\n",
       "    .dataframe thead th {\n",
       "        text-align: right;\n",
       "    }\n",
       "</style>\n",
       "<table border=\"1\" class=\"dataframe\">\n",
       "  <thead>\n",
       "    <tr style=\"text-align: right;\">\n",
       "      <th></th>\n",
       "      <th>name</th>\n",
       "      <th>id</th>\n",
       "      <th>chr</th>\n",
       "      <th>band</th>\n",
       "      <th>start_position</th>\n",
       "      <th>end_position</th>\n",
       "      <th>gene_length</th>\n",
       "    </tr>\n",
       "  </thead>\n",
       "  <tbody>\n",
       "    <tr>\n",
       "      <th>0</th>\n",
       "      <td>FBXO34</td>\n",
       "      <td>ENSG00000178974</td>\n",
       "      <td>14</td>\n",
       "      <td>14q22.3</td>\n",
       "      <td>55271421</td>\n",
       "      <td>55361918</td>\n",
       "      <td>90497</td>\n",
       "    </tr>\n",
       "    <tr>\n",
       "      <th>1</th>\n",
       "      <td>ARG1</td>\n",
       "      <td>ENSG00000118520</td>\n",
       "      <td>6</td>\n",
       "      <td>6q23.2</td>\n",
       "      <td>131573144</td>\n",
       "      <td>131584332</td>\n",
       "      <td>11188</td>\n",
       "    </tr>\n",
       "    <tr>\n",
       "      <th>2</th>\n",
       "      <td>FADS2</td>\n",
       "      <td>ENSG00000134824</td>\n",
       "      <td>11</td>\n",
       "      <td>11q12.2</td>\n",
       "      <td>61792980</td>\n",
       "      <td>61867354</td>\n",
       "      <td>74374</td>\n",
       "    </tr>\n",
       "    <tr>\n",
       "      <th>3</th>\n",
       "      <td>CA4</td>\n",
       "      <td>ENSG00000167434</td>\n",
       "      <td>17</td>\n",
       "      <td>17q23.1</td>\n",
       "      <td>60149942</td>\n",
       "      <td>60170899</td>\n",
       "      <td>20957</td>\n",
       "    </tr>\n",
       "    <tr>\n",
       "      <th>4</th>\n",
       "      <td>PFKFB3</td>\n",
       "      <td>ENSG00000170525</td>\n",
       "      <td>10</td>\n",
       "      <td>10p15.1</td>\n",
       "      <td>6144934</td>\n",
       "      <td>6254644</td>\n",
       "      <td>109710</td>\n",
       "    </tr>\n",
       "  </tbody>\n",
       "</table>\n",
       "</div>"
      ],
      "text/plain": [
       "     name               id  chr     band  start_position  end_position  \\\n",
       "0  FBXO34  ENSG00000178974   14  14q22.3        55271421      55361918   \n",
       "1    ARG1  ENSG00000118520    6   6q23.2       131573144     131584332   \n",
       "2   FADS2  ENSG00000134824   11  11q12.2        61792980      61867354   \n",
       "3     CA4  ENSG00000167434   17  17q23.1        60149942      60170899   \n",
       "4  PFKFB3  ENSG00000170525   10  10p15.1         6144934       6254644   \n",
       "\n",
       "   gene_length  \n",
       "0        90497  \n",
       "1        11188  \n",
       "2        74374  \n",
       "3        20957  \n",
       "4       109710  "
      ]
     },
     "execution_count": 21,
     "metadata": {},
     "output_type": "execute_result"
    }
   ],
   "source": [
    "genes_info.head()"
   ]
  },
  {
   "cell_type": "markdown",
   "id": "d3843e06",
   "metadata": {
    "papermill": {
     "duration": 0.011821,
     "end_time": "2022-08-27T06:01:27.961295",
     "exception": false,
     "start_time": "2022-08-27T06:01:27.949474",
     "status": "completed"
    },
    "tags": []
   },
   "source": [
    "# Compute correlations"
   ]
  },
  {
   "cell_type": "code",
   "execution_count": 22,
   "id": "cb859c15-d1f3-4006-a74c-2b83c0db9611",
   "metadata": {
    "execution": {
     "iopub.execute_input": "2022-08-27T06:01:27.984552Z",
     "iopub.status.busy": "2022-08-27T06:01:27.984390Z",
     "iopub.status.idle": "2022-08-27T06:01:28.002136Z",
     "shell.execute_reply": "2022-08-27T06:01:28.001775Z"
    },
    "papermill": {
     "duration": 0.029809,
     "end_time": "2022-08-27T06:01:28.003314",
     "exception": false,
     "start_time": "2022-08-27T06:01:27.973505",
     "status": "completed"
    },
    "tags": []
   },
   "outputs": [
    {
     "data": {
      "text/plain": [
       "PosixPath('/project/ritchie20/projects/phenoplier/base/results/gls/gene_corrs/cohorts/phenomexcan_astle/gtex_v8/mashr/by_chr/gene_corrs-chr15.pkl')"
      ]
     },
     "metadata": {},
     "output_type": "display_data"
    }
   ],
   "source": [
    "output_dir = OUTPUT_DIR_BASE / \"by_chr\"\n",
    "output_dir.mkdir(exist_ok=True, parents=True)\n",
    "output_file = output_dir / f\"gene_corrs-chr{CHROMOSOME}.pkl\"\n",
    "display(output_file)"
   ]
  },
  {
   "cell_type": "code",
   "execution_count": 23,
   "id": "aa674fe4-6794-4eed-98fa-32b39d1d4ace",
   "metadata": {
    "execution": {
     "iopub.execute_input": "2022-08-27T06:01:28.021863Z",
     "iopub.status.busy": "2022-08-27T06:01:28.021706Z",
     "iopub.status.idle": "2022-08-27T06:01:28.036838Z",
     "shell.execute_reply": "2022-08-27T06:01:28.036479Z"
    },
    "papermill": {
     "duration": 0.026419,
     "end_time": "2022-08-27T06:01:28.038088",
     "exception": false,
     "start_time": "2022-08-27T06:01:28.011669",
     "status": "completed"
    },
    "tags": []
   },
   "outputs": [],
   "source": [
    "warnings.filterwarnings(\"error\")"
   ]
  },
  {
   "cell_type": "code",
   "execution_count": 24,
   "id": "44d5450b-3baf-43f1-9e2e-4b06f1a785f8",
   "metadata": {
    "execution": {
     "iopub.execute_input": "2022-08-27T06:01:28.056947Z",
     "iopub.status.busy": "2022-08-27T06:01:28.056782Z",
     "iopub.status.idle": "2022-08-27T06:01:28.072749Z",
     "shell.execute_reply": "2022-08-27T06:01:28.072390Z"
    },
    "papermill": {
     "duration": 0.027354,
     "end_time": "2022-08-27T06:01:28.074005",
     "exception": false,
     "start_time": "2022-08-27T06:01:28.046651",
     "status": "completed"
    },
    "tags": []
   },
   "outputs": [],
   "source": [
    "# standard checks\n",
    "all_chrs = genes_info[\"chr\"].dropna().unique()\n",
    "assert all_chrs.shape[0] == 22\n",
    "\n",
    "# select chromosome given by the user\n",
    "assert CHROMOSOME in all_chrs"
   ]
  },
  {
   "cell_type": "code",
   "execution_count": 25,
   "id": "2d7c043c-92a7-4d35-991b-fa69ac1e0268",
   "metadata": {
    "execution": {
     "iopub.execute_input": "2022-08-27T06:01:28.093244Z",
     "iopub.status.busy": "2022-08-27T06:01:28.093075Z",
     "iopub.status.idle": "2022-08-27T06:01:28.127751Z",
     "shell.execute_reply": "2022-08-27T06:01:28.127363Z"
    },
    "papermill": {
     "duration": 0.04558,
     "end_time": "2022-08-27T06:01:28.129079",
     "exception": false,
     "start_time": "2022-08-27T06:01:28.083499",
     "status": "completed"
    },
    "tags": []
   },
   "outputs": [
    {
     "name": "stdout",
     "output_type": "stream",
     "text": [
      "Number of genes in chromosome: 187\n"
     ]
    }
   ],
   "source": [
    "# run only on the chromosome specified\n",
    "all_chrs = [CHROMOSOME]\n",
    "genes_chr = genes_info[genes_info[\"chr\"] == CHROMOSOME]\n",
    "\n",
    "# For testing purposes\n",
    "# genes_chr = genes_chr.sample(n=20)\n",
    "\n",
    "print(f\"Number of genes in chromosome: {genes_chr.shape[0]}\", flush=True)"
   ]
  },
  {
   "cell_type": "code",
   "execution_count": 26,
   "id": "916015d8-2979-46d3-a9b9-1cf5a0932c6a",
   "metadata": {
    "execution": {
     "iopub.execute_input": "2022-08-27T06:01:28.147407Z",
     "iopub.status.busy": "2022-08-27T06:01:28.147237Z",
     "iopub.status.idle": "2022-08-27T06:01:28.162949Z",
     "shell.execute_reply": "2022-08-27T06:01:28.162577Z"
    },
    "papermill": {
     "duration": 0.026439,
     "end_time": "2022-08-27T06:01:28.164216",
     "exception": false,
     "start_time": "2022-08-27T06:01:28.137777",
     "status": "completed"
    },
    "tags": []
   },
   "outputs": [],
   "source": [
    "# sort genes by starting position to make visualizations better later\n",
    "genes_chr = genes_chr.sort_values(\"start_position\")"
   ]
  },
  {
   "cell_type": "code",
   "execution_count": 27,
   "id": "a38aa74a-8ad3-47f6-8ef9-56be0e011774",
   "metadata": {
    "execution": {
     "iopub.execute_input": "2022-08-27T06:01:28.185243Z",
     "iopub.status.busy": "2022-08-27T06:01:28.185084Z",
     "iopub.status.idle": "2022-08-27T06:01:28.200892Z",
     "shell.execute_reply": "2022-08-27T06:01:28.200519Z"
    },
    "papermill": {
     "duration": 0.028199,
     "end_time": "2022-08-27T06:01:28.202159",
     "exception": false,
     "start_time": "2022-08-27T06:01:28.173960",
     "status": "completed"
    },
    "tags": []
   },
   "outputs": [],
   "source": [
    "gene_chr_objs = [Gene(ensembl_id=gene_id) for gene_id in genes_chr[\"id\"]]"
   ]
  },
  {
   "cell_type": "code",
   "execution_count": 28,
   "id": "570f974f-13c3-42b6-ad3a-ce99ca885c1a",
   "metadata": {
    "execution": {
     "iopub.execute_input": "2022-08-27T06:01:28.229167Z",
     "iopub.status.busy": "2022-08-27T06:01:28.229011Z",
     "iopub.status.idle": "2022-08-27T06:01:28.245468Z",
     "shell.execute_reply": "2022-08-27T06:01:28.245105Z"
    },
    "papermill": {
     "duration": 0.03092,
     "end_time": "2022-08-27T06:01:28.246748",
     "exception": false,
     "start_time": "2022-08-27T06:01:28.215828",
     "status": "completed"
    },
    "tags": []
   },
   "outputs": [
    {
     "name": "stdout",
     "output_type": "stream",
     "text": [
      "Number of gene combinations: 17391\n"
     ]
    }
   ],
   "source": [
    "n = len(gene_chr_objs)\n",
    "n_comb = int(n * (n - 1) / 2.0)\n",
    "print(f\"Number of gene combinations: {n_comb}\", flush=True)"
   ]
  },
  {
   "cell_type": "code",
   "execution_count": 29,
   "id": "cdbb90a1",
   "metadata": {
    "execution": {
     "iopub.execute_input": "2022-08-27T06:01:28.266599Z",
     "iopub.status.busy": "2022-08-27T06:01:28.266433Z",
     "iopub.status.idle": "2022-08-27T06:20:15.790843Z",
     "shell.execute_reply": "2022-08-27T06:20:15.789493Z"
    },
    "papermill": {
     "duration": 1127.538751,
     "end_time": "2022-08-27T06:20:15.794241",
     "exception": false,
     "start_time": "2022-08-27T06:01:28.255490",
     "status": "completed"
    },
    "tags": []
   },
   "outputs": [
    {
     "name": "stderr",
     "output_type": "stream",
     "text": [
      "ENSG00000185418 / ENSG00000185418: : 17578it [18:47, 15.59it/s]\n"
     ]
    },
    {
     "data": {
      "text/plain": [
       "PosixPath('/project/ritchie20/projects/phenoplier/base/results/gls/gene_corrs/cohorts/phenomexcan_astle/gtex_v8/mashr/by_chr/gene_corrs-chr15.pkl')"
      ]
     },
     "metadata": {},
     "output_type": "display_data"
    }
   ],
   "source": [
    "gene_corrs = []\n",
    "gene_corrs_data = np.full(\n",
    "    (n, n),\n",
    "    np.nan,\n",
    "    dtype=np.float64,\n",
    ")\n",
    "\n",
    "i = 0\n",
    "with tqdm(ncols=100, total=n_comb) as pbar:\n",
    "    for gene1_idx in range(0, len(gene_chr_objs)):\n",
    "        gene1_obj = gene_chr_objs[gene1_idx]\n",
    "        gene1_tissues = spredixcan_genes_models.loc[gene1_obj.ensembl_id, \"tissue\"]\n",
    "\n",
    "        for gene2_idx in range(gene1_idx, len(gene_chr_objs)):\n",
    "            gene2_obj = gene_chr_objs[gene2_idx]\n",
    "            gene2_tissues = spredixcan_genes_models.loc[gene2_obj.ensembl_id, \"tissue\"]\n",
    "\n",
    "            pbar.set_description(f\"{gene1_obj.ensembl_id} / {gene2_obj.ensembl_id}\")\n",
    "\n",
    "            try:\n",
    "                r = gene1_obj.get_ssm_correlation(\n",
    "                    other_gene=gene2_obj,\n",
    "                    tissues=gene1_tissues,\n",
    "                    other_tissues=gene2_tissues,\n",
    "                    snps_subset=gwas_variants_ids_set,\n",
    "                    condition_number=SMULTIXCAN_CONDITION_NUMBER,\n",
    "                    reference_panel=REFERENCE_PANEL,\n",
    "                    model_type=EQTL_MODEL,\n",
    "                    use_within_distance=COMPUTE_CORRELATIONS_WITHIN_DISTANCE,\n",
    "                )\n",
    "\n",
    "                if r is None:\n",
    "                    # if r is None, it's very likely because:\n",
    "                    #  * one of the genes has no prediction models\n",
    "                    #  * all the SNPs predictors for the gene are not present in the reference\n",
    "                    #    panel\n",
    "\n",
    "                    r = 0.0\n",
    "\n",
    "                gene_corrs.append(r)\n",
    "\n",
    "                gene_corrs_data[gene1_idx, gene2_idx] = r\n",
    "                gene_corrs_data[gene2_idx, gene1_idx] = r\n",
    "            except Warning as e:\n",
    "                if not DEBUG_MODE:\n",
    "                    raise e\n",
    "\n",
    "                print(\n",
    "                    f\"RuntimeWarning for genes {gene1_obj.ensembl_id} and {gene2_obj.ensembl_id}\",\n",
    "                    flush=True,\n",
    "                )\n",
    "                print(traceback.format_exc(), flush=True)\n",
    "\n",
    "                gene_corrs.append(np.nan)\n",
    "            except Exception as e:\n",
    "                if not DEBUG_MODE:\n",
    "                    raise e\n",
    "\n",
    "                print(\n",
    "                    f\"Exception for genes {gene1_obj.ensembl_id} and {gene2_obj.ensembl_id}\",\n",
    "                    flush=True,\n",
    "                )\n",
    "                print(traceback.format_exc(), flush=True)\n",
    "\n",
    "                gene_corrs.append(np.nan)\n",
    "\n",
    "            pbar.update(1)\n",
    "\n",
    "# create a pandas series\n",
    "gene_corrs_flat = pd.Series(gene_corrs)\n",
    "\n",
    "# save\n",
    "# FIXME: consider saving only the condenced matrix here. See here for\n",
    "# more details: https://github.com/greenelab/phenoplier/pull/38#discussion_r634600813\n",
    "# gene_corrs_data = squareform(np.array(gene_corrs, dtype=np.float64))\n",
    "# np.fill_diagonal(gene_corrs_data, 1.0)\n",
    "\n",
    "gene_chr_ids = [g.ensembl_id for g in gene_chr_objs]\n",
    "gene_corrs_df = pd.DataFrame(\n",
    "    data=gene_corrs_data,\n",
    "    index=gene_chr_ids,\n",
    "    columns=gene_chr_ids,\n",
    ")\n",
    "\n",
    "output_dir.mkdir(exist_ok=True, parents=True)\n",
    "display(output_file)\n",
    "\n",
    "gene_corrs_df.to_pickle(output_file)"
   ]
  },
  {
   "cell_type": "markdown",
   "id": "faa67b51-5373-470f-aa72-2ded53fa6dfe",
   "metadata": {
    "papermill": {
     "duration": 0.859553,
     "end_time": "2022-08-27T06:20:17.579280",
     "exception": false,
     "start_time": "2022-08-27T06:20:16.719727",
     "status": "completed"
    },
    "tags": []
   },
   "source": [
    "# Testing"
   ]
  },
  {
   "cell_type": "code",
   "execution_count": 30,
   "id": "14f7d046-4b55-4896-a56b-990127bcc388",
   "metadata": {
    "execution": {
     "iopub.execute_input": "2022-08-27T06:20:19.255724Z",
     "iopub.status.busy": "2022-08-27T06:20:19.255464Z",
     "iopub.status.idle": "2022-08-27T06:20:19.503388Z",
     "shell.execute_reply": "2022-08-27T06:20:19.503000Z"
    },
    "papermill": {
     "duration": 1.091355,
     "end_time": "2022-08-27T06:20:19.504613",
     "exception": false,
     "start_time": "2022-08-27T06:20:18.413258",
     "status": "completed"
    },
    "tags": []
   },
   "outputs": [
    {
     "data": {
      "text/plain": [
       "(187, 187)"
      ]
     },
     "execution_count": 30,
     "metadata": {},
     "output_type": "execute_result"
    }
   ],
   "source": [
    "gene_corrs_df.shape"
   ]
  },
  {
   "cell_type": "code",
   "execution_count": 31,
   "id": "c7d15414-3297-4537-a7c6-7588c0baeb75",
   "metadata": {
    "execution": {
     "iopub.execute_input": "2022-08-27T06:20:21.234098Z",
     "iopub.status.busy": "2022-08-27T06:20:21.233866Z",
     "iopub.status.idle": "2022-08-27T06:20:21.264820Z",
     "shell.execute_reply": "2022-08-27T06:20:21.264420Z"
    },
    "papermill": {
     "duration": 0.906967,
     "end_time": "2022-08-27T06:20:21.266056",
     "exception": false,
     "start_time": "2022-08-27T06:20:20.359089",
     "status": "completed"
    },
    "tags": []
   },
   "outputs": [
    {
     "data": {
      "text/html": [
       "<div>\n",
       "<style scoped>\n",
       "    .dataframe tbody tr th:only-of-type {\n",
       "        vertical-align: middle;\n",
       "    }\n",
       "\n",
       "    .dataframe tbody tr th {\n",
       "        vertical-align: top;\n",
       "    }\n",
       "\n",
       "    .dataframe thead th {\n",
       "        text-align: right;\n",
       "    }\n",
       "</style>\n",
       "<table border=\"1\" class=\"dataframe\">\n",
       "  <thead>\n",
       "    <tr style=\"text-align: right;\">\n",
       "      <th></th>\n",
       "      <th>ENSG00000273749</th>\n",
       "      <th>ENSG00000275835</th>\n",
       "      <th>ENSG00000182636</th>\n",
       "      <th>ENSG00000273173</th>\n",
       "      <th>ENSG00000114062</th>\n",
       "      <th>ENSG00000206190</th>\n",
       "      <th>ENSG00000128731</th>\n",
       "      <th>ENSG00000034053</th>\n",
       "      <th>ENSG00000198690</th>\n",
       "      <th>ENSG00000166912</th>\n",
       "      <th>...</th>\n",
       "      <th>ENSG00000182175</th>\n",
       "      <th>ENSG00000140450</th>\n",
       "      <th>ENSG00000140443</th>\n",
       "      <th>ENSG00000068305</th>\n",
       "      <th>ENSG00000183475</th>\n",
       "      <th>ENSG00000184254</th>\n",
       "      <th>ENSG00000131873</th>\n",
       "      <th>ENSG00000131876</th>\n",
       "      <th>ENSG00000140479</th>\n",
       "      <th>ENSG00000185418</th>\n",
       "    </tr>\n",
       "  </thead>\n",
       "  <tbody>\n",
       "    <tr>\n",
       "      <th>ENSG00000273749</th>\n",
       "      <td>1.000000</td>\n",
       "      <td>0.059892</td>\n",
       "      <td>0.007858</td>\n",
       "      <td>0.010011</td>\n",
       "      <td>0.008227</td>\n",
       "      <td>0.017115</td>\n",
       "      <td>0.007910</td>\n",
       "      <td>0.012677</td>\n",
       "      <td>0.010963</td>\n",
       "      <td>0.009146</td>\n",
       "      <td>...</td>\n",
       "      <td>0.013049</td>\n",
       "      <td>0.008654</td>\n",
       "      <td>0.015235</td>\n",
       "      <td>0.012714</td>\n",
       "      <td>0.009655</td>\n",
       "      <td>0.016528</td>\n",
       "      <td>0.013432</td>\n",
       "      <td>0.006835</td>\n",
       "      <td>0.016496</td>\n",
       "      <td>0.011815</td>\n",
       "    </tr>\n",
       "    <tr>\n",
       "      <th>ENSG00000275835</th>\n",
       "      <td>0.059892</td>\n",
       "      <td>1.000000</td>\n",
       "      <td>0.006969</td>\n",
       "      <td>0.005470</td>\n",
       "      <td>0.013226</td>\n",
       "      <td>0.010891</td>\n",
       "      <td>0.004917</td>\n",
       "      <td>0.006072</td>\n",
       "      <td>0.006372</td>\n",
       "      <td>0.006427</td>\n",
       "      <td>...</td>\n",
       "      <td>0.010716</td>\n",
       "      <td>0.004130</td>\n",
       "      <td>0.007063</td>\n",
       "      <td>0.006684</td>\n",
       "      <td>0.008759</td>\n",
       "      <td>0.009399</td>\n",
       "      <td>0.006996</td>\n",
       "      <td>0.001993</td>\n",
       "      <td>0.010195</td>\n",
       "      <td>0.011174</td>\n",
       "    </tr>\n",
       "    <tr>\n",
       "      <th>ENSG00000182636</th>\n",
       "      <td>0.007858</td>\n",
       "      <td>0.006969</td>\n",
       "      <td>1.000000</td>\n",
       "      <td>0.006649</td>\n",
       "      <td>0.002817</td>\n",
       "      <td>0.006553</td>\n",
       "      <td>0.002721</td>\n",
       "      <td>0.005449</td>\n",
       "      <td>0.004193</td>\n",
       "      <td>0.002655</td>\n",
       "      <td>...</td>\n",
       "      <td>0.007108</td>\n",
       "      <td>0.003556</td>\n",
       "      <td>0.009934</td>\n",
       "      <td>0.005937</td>\n",
       "      <td>0.003900</td>\n",
       "      <td>0.008911</td>\n",
       "      <td>0.006874</td>\n",
       "      <td>0.001616</td>\n",
       "      <td>0.009652</td>\n",
       "      <td>0.006682</td>\n",
       "    </tr>\n",
       "    <tr>\n",
       "      <th>ENSG00000273173</th>\n",
       "      <td>0.010011</td>\n",
       "      <td>0.005470</td>\n",
       "      <td>0.006649</td>\n",
       "      <td>1.000000</td>\n",
       "      <td>0.003644</td>\n",
       "      <td>0.010707</td>\n",
       "      <td>0.002173</td>\n",
       "      <td>0.005024</td>\n",
       "      <td>0.008288</td>\n",
       "      <td>0.001972</td>\n",
       "      <td>...</td>\n",
       "      <td>0.006183</td>\n",
       "      <td>0.001866</td>\n",
       "      <td>0.005139</td>\n",
       "      <td>0.004713</td>\n",
       "      <td>0.004148</td>\n",
       "      <td>0.006153</td>\n",
       "      <td>0.004745</td>\n",
       "      <td>0.001522</td>\n",
       "      <td>0.012111</td>\n",
       "      <td>0.006320</td>\n",
       "    </tr>\n",
       "    <tr>\n",
       "      <th>ENSG00000114062</th>\n",
       "      <td>0.008227</td>\n",
       "      <td>0.013226</td>\n",
       "      <td>0.002817</td>\n",
       "      <td>0.003644</td>\n",
       "      <td>1.000000</td>\n",
       "      <td>0.006961</td>\n",
       "      <td>0.002030</td>\n",
       "      <td>0.002669</td>\n",
       "      <td>0.004967</td>\n",
       "      <td>0.005470</td>\n",
       "      <td>...</td>\n",
       "      <td>0.001974</td>\n",
       "      <td>0.002423</td>\n",
       "      <td>0.007618</td>\n",
       "      <td>0.007527</td>\n",
       "      <td>0.001972</td>\n",
       "      <td>0.007805</td>\n",
       "      <td>0.006153</td>\n",
       "      <td>0.001831</td>\n",
       "      <td>0.007192</td>\n",
       "      <td>0.005771</td>\n",
       "    </tr>\n",
       "  </tbody>\n",
       "</table>\n",
       "<p>5 rows × 187 columns</p>\n",
       "</div>"
      ],
      "text/plain": [
       "                 ENSG00000273749  ENSG00000275835  ENSG00000182636  \\\n",
       "ENSG00000273749         1.000000         0.059892         0.007858   \n",
       "ENSG00000275835         0.059892         1.000000         0.006969   \n",
       "ENSG00000182636         0.007858         0.006969         1.000000   \n",
       "ENSG00000273173         0.010011         0.005470         0.006649   \n",
       "ENSG00000114062         0.008227         0.013226         0.002817   \n",
       "\n",
       "                 ENSG00000273173  ENSG00000114062  ENSG00000206190  \\\n",
       "ENSG00000273749         0.010011         0.008227         0.017115   \n",
       "ENSG00000275835         0.005470         0.013226         0.010891   \n",
       "ENSG00000182636         0.006649         0.002817         0.006553   \n",
       "ENSG00000273173         1.000000         0.003644         0.010707   \n",
       "ENSG00000114062         0.003644         1.000000         0.006961   \n",
       "\n",
       "                 ENSG00000128731  ENSG00000034053  ENSG00000198690  \\\n",
       "ENSG00000273749         0.007910         0.012677         0.010963   \n",
       "ENSG00000275835         0.004917         0.006072         0.006372   \n",
       "ENSG00000182636         0.002721         0.005449         0.004193   \n",
       "ENSG00000273173         0.002173         0.005024         0.008288   \n",
       "ENSG00000114062         0.002030         0.002669         0.004967   \n",
       "\n",
       "                 ENSG00000166912  ...  ENSG00000182175  ENSG00000140450  \\\n",
       "ENSG00000273749         0.009146  ...         0.013049         0.008654   \n",
       "ENSG00000275835         0.006427  ...         0.010716         0.004130   \n",
       "ENSG00000182636         0.002655  ...         0.007108         0.003556   \n",
       "ENSG00000273173         0.001972  ...         0.006183         0.001866   \n",
       "ENSG00000114062         0.005470  ...         0.001974         0.002423   \n",
       "\n",
       "                 ENSG00000140443  ENSG00000068305  ENSG00000183475  \\\n",
       "ENSG00000273749         0.015235         0.012714         0.009655   \n",
       "ENSG00000275835         0.007063         0.006684         0.008759   \n",
       "ENSG00000182636         0.009934         0.005937         0.003900   \n",
       "ENSG00000273173         0.005139         0.004713         0.004148   \n",
       "ENSG00000114062         0.007618         0.007527         0.001972   \n",
       "\n",
       "                 ENSG00000184254  ENSG00000131873  ENSG00000131876  \\\n",
       "ENSG00000273749         0.016528         0.013432         0.006835   \n",
       "ENSG00000275835         0.009399         0.006996         0.001993   \n",
       "ENSG00000182636         0.008911         0.006874         0.001616   \n",
       "ENSG00000273173         0.006153         0.004745         0.001522   \n",
       "ENSG00000114062         0.007805         0.006153         0.001831   \n",
       "\n",
       "                 ENSG00000140479  ENSG00000185418  \n",
       "ENSG00000273749         0.016496         0.011815  \n",
       "ENSG00000275835         0.010195         0.011174  \n",
       "ENSG00000182636         0.009652         0.006682  \n",
       "ENSG00000273173         0.012111         0.006320  \n",
       "ENSG00000114062         0.007192         0.005771  \n",
       "\n",
       "[5 rows x 187 columns]"
      ]
     },
     "execution_count": 31,
     "metadata": {},
     "output_type": "execute_result"
    }
   ],
   "source": [
    "gene_corrs_df.head()"
   ]
  },
  {
   "cell_type": "markdown",
   "id": "dad6603f-01c6-41fb-a6f6-241051207dd8",
   "metadata": {
    "papermill": {
     "duration": 0.83738,
     "end_time": "2022-08-27T06:20:22.954331",
     "exception": false,
     "start_time": "2022-08-27T06:20:22.116951",
     "status": "completed"
    },
    "tags": []
   },
   "source": [
    "## Standard checks and stats"
   ]
  },
  {
   "cell_type": "code",
   "execution_count": 32,
   "id": "286686af-1b7b-4440-8453-6bdcbd8de19c",
   "metadata": {
    "execution": {
     "iopub.execute_input": "2022-08-27T06:20:24.647385Z",
     "iopub.status.busy": "2022-08-27T06:20:24.647140Z",
     "iopub.status.idle": "2022-08-27T06:20:24.666527Z",
     "shell.execute_reply": "2022-08-27T06:20:24.666112Z"
    },
    "papermill": {
     "duration": 0.877619,
     "end_time": "2022-08-27T06:20:24.667898",
     "exception": false,
     "start_time": "2022-08-27T06:20:23.790279",
     "status": "completed"
    },
    "tags": []
   },
   "outputs": [],
   "source": [
    "assert not gene_corrs_df.isna().any().any()"
   ]
  },
  {
   "cell_type": "code",
   "execution_count": 33,
   "id": "00583efc-7068-4270-ad1e-4a418e91db96",
   "metadata": {
    "execution": {
     "iopub.execute_input": "2022-08-27T06:20:26.354548Z",
     "iopub.status.busy": "2022-08-27T06:20:26.354303Z",
     "iopub.status.idle": "2022-08-27T06:20:26.375211Z",
     "shell.execute_reply": "2022-08-27T06:20:26.374734Z"
    },
    "papermill": {
     "duration": 0.858235,
     "end_time": "2022-08-27T06:20:26.376545",
     "exception": false,
     "start_time": "2022-08-27T06:20:25.518310",
     "status": "completed"
    },
    "tags": []
   },
   "outputs": [
    {
     "data": {
      "text/plain": [
       "2.9690984676582316e-06"
      ]
     },
     "metadata": {},
     "output_type": "display_data"
    }
   ],
   "source": [
    "_min_val = gene_corrs_df.min().min()\n",
    "display(_min_val)\n",
    "assert _min_val >= -0.05"
   ]
  },
  {
   "cell_type": "code",
   "execution_count": 34,
   "id": "d04fb2cf-1050-475b-b855-f5f7cc04092b",
   "metadata": {
    "execution": {
     "iopub.execute_input": "2022-08-27T06:20:28.054706Z",
     "iopub.status.busy": "2022-08-27T06:20:28.054455Z",
     "iopub.status.idle": "2022-08-27T06:20:28.079417Z",
     "shell.execute_reply": "2022-08-27T06:20:28.079024Z"
    },
    "papermill": {
     "duration": 0.866587,
     "end_time": "2022-08-27T06:20:28.080610",
     "exception": false,
     "start_time": "2022-08-27T06:20:27.214023",
     "status": "completed"
    },
    "tags": []
   },
   "outputs": [
    {
     "data": {
      "text/plain": [
       "1.0000000000000024"
      ]
     },
     "metadata": {},
     "output_type": "display_data"
    }
   ],
   "source": [
    "_max_val = gene_corrs_df.max().max()  # this captures the diagonal\n",
    "display(_max_val)\n",
    "assert _max_val <= 1.05"
   ]
  },
  {
   "cell_type": "code",
   "execution_count": 35,
   "id": "96d02c44-1fba-47be-8a93-8f2608420b9c",
   "metadata": {
    "execution": {
     "iopub.execute_input": "2022-08-27T06:20:29.752628Z",
     "iopub.status.busy": "2022-08-27T06:20:29.752387Z",
     "iopub.status.idle": "2022-08-27T06:20:29.770039Z",
     "shell.execute_reply": "2022-08-27T06:20:29.769614Z"
    },
    "papermill": {
     "duration": 0.853274,
     "end_time": "2022-08-27T06:20:29.771384",
     "exception": false,
     "start_time": "2022-08-27T06:20:28.918110",
     "status": "completed"
    },
    "tags": []
   },
   "outputs": [],
   "source": [
    "# check upper triangular values\n",
    "# assert len(gene_corrs) == int(genes_chr.shape[0] * (genes_chr.shape[0] - 1) / 2)"
   ]
  },
  {
   "cell_type": "code",
   "execution_count": 36,
   "id": "fe283586-c348-40e0-8841-f6d97bfb021c",
   "metadata": {
    "execution": {
     "iopub.execute_input": "2022-08-27T06:20:31.443056Z",
     "iopub.status.busy": "2022-08-27T06:20:31.442824Z",
     "iopub.status.idle": "2022-08-27T06:20:31.465756Z",
     "shell.execute_reply": "2022-08-27T06:20:31.465352Z"
    },
    "papermill": {
     "duration": 0.8599,
     "end_time": "2022-08-27T06:20:31.466979",
     "exception": false,
     "start_time": "2022-08-27T06:20:30.607079",
     "status": "completed"
    },
    "tags": []
   },
   "outputs": [
    {
     "data": {
      "text/plain": [
       "count    17578.000000\n",
       "mean         0.020566\n",
       "std          0.108237\n",
       "min          0.000003\n",
       "25%          0.003968\n",
       "50%          0.006003\n",
       "75%          0.008496\n",
       "max          1.000000\n",
       "dtype: float64"
      ]
     },
     "execution_count": 36,
     "metadata": {},
     "output_type": "execute_result"
    }
   ],
   "source": [
    "gene_corrs_flat.describe()"
   ]
  },
  {
   "cell_type": "code",
   "execution_count": 37,
   "id": "b3815678-0f93-4b35-897b-a9d047a2aa78",
   "metadata": {
    "execution": {
     "iopub.execute_input": "2022-08-27T06:20:33.148846Z",
     "iopub.status.busy": "2022-08-27T06:20:33.148585Z",
     "iopub.status.idle": "2022-08-27T06:20:33.171589Z",
     "shell.execute_reply": "2022-08-27T06:20:33.171190Z"
    },
    "papermill": {
     "duration": 0.858641,
     "end_time": "2022-08-27T06:20:33.172820",
     "exception": false,
     "start_time": "2022-08-27T06:20:32.314179",
     "status": "completed"
    },
    "tags": []
   },
   "outputs": [
    {
     "data": {
      "text/plain": [
       "0.00    0.000003\n",
       "0.05    0.001698\n",
       "0.10    0.002430\n",
       "0.15    0.003000\n",
       "0.20    0.003526\n",
       "0.25    0.003968\n",
       "0.30    0.004401\n",
       "0.35    0.004796\n",
       "0.40    0.005185\n",
       "0.45    0.005580\n",
       "0.50    0.006003\n",
       "0.55    0.006424\n",
       "0.60    0.006891\n",
       "0.65    0.007391\n",
       "0.70    0.007940\n",
       "0.75    0.008496\n",
       "0.80    0.009156\n",
       "0.85    0.010056\n",
       "0.90    0.011379\n",
       "0.95    0.014028\n",
       "dtype: float64"
      ]
     },
     "metadata": {},
     "output_type": "display_data"
    }
   ],
   "source": [
    "gene_corrs_quantiles = gene_corrs_flat.quantile(np.arange(0, 1, 0.05))\n",
    "display(gene_corrs_quantiles)"
   ]
  },
  {
   "cell_type": "markdown",
   "id": "87134509-b145-4a10-8bc9-b7e914c2b0fa",
   "metadata": {
    "papermill": {
     "duration": 0.833276,
     "end_time": "2022-08-27T06:20:34.887005",
     "exception": false,
     "start_time": "2022-08-27T06:20:34.053729",
     "status": "completed"
    },
    "tags": []
   },
   "source": [
    "## Positive definiteness"
   ]
  },
  {
   "cell_type": "code",
   "execution_count": 38,
   "id": "07d9a9a1-a4f7-48aa-b916-6d42a8cc6186",
   "metadata": {
    "execution": {
     "iopub.execute_input": "2022-08-27T06:20:36.553529Z",
     "iopub.status.busy": "2022-08-27T06:20:36.553287Z",
     "iopub.status.idle": "2022-08-27T06:20:36.581172Z",
     "shell.execute_reply": "2022-08-27T06:20:36.580779Z"
    },
    "papermill": {
     "duration": 0.865196,
     "end_time": "2022-08-27T06:20:36.582340",
     "exception": false,
     "start_time": "2022-08-27T06:20:35.717144",
     "status": "completed"
    },
    "tags": []
   },
   "outputs": [
    {
     "data": {
      "text/plain": [
       "0"
      ]
     },
     "metadata": {},
     "output_type": "display_data"
    },
    {
     "data": {
      "text/plain": [
       "array([], dtype=float64)"
      ]
     },
     "metadata": {},
     "output_type": "display_data"
    }
   ],
   "source": [
    "# print negative eigenvalues\n",
    "eigs = np.linalg.eigvals(gene_corrs_df.to_numpy())\n",
    "display(len(eigs[eigs < 0]))\n",
    "display(eigs[eigs < 0])"
   ]
  },
  {
   "cell_type": "code",
   "execution_count": 39,
   "id": "6e218436-c3c5-4028-8c94-a4fa6260efce",
   "metadata": {
    "execution": {
     "iopub.execute_input": "2022-08-27T06:20:38.284792Z",
     "iopub.status.busy": "2022-08-27T06:20:38.284536Z",
     "iopub.status.idle": "2022-08-27T06:20:38.306135Z",
     "shell.execute_reply": "2022-08-27T06:20:38.305702Z"
    },
    "papermill": {
     "duration": 0.867351,
     "end_time": "2022-08-27T06:20:38.307473",
     "exception": false,
     "start_time": "2022-08-27T06:20:37.440122",
     "status": "completed"
    },
    "tags": []
   },
   "outputs": [
    {
     "name": "stdout",
     "output_type": "stream",
     "text": [
      "Works!\n"
     ]
    }
   ],
   "source": [
    "try:\n",
    "    chol_mat = np.linalg.cholesky(gene_corrs_df.to_numpy())\n",
    "    cov_inv = np.linalg.inv(chol_mat)\n",
    "    print(\"Works!\")\n",
    "except Exception as e:\n",
    "    print(f\"Cholesky decomposition failed: {str(e)}\")"
   ]
  },
  {
   "cell_type": "code",
   "execution_count": 40,
   "id": "dd8827fb-faf9-4c7c-9454-015e94752706",
   "metadata": {
    "execution": {
     "iopub.execute_input": "2022-08-27T06:20:39.989519Z",
     "iopub.status.busy": "2022-08-27T06:20:39.989286Z",
     "iopub.status.idle": "2022-08-27T06:20:40.011832Z",
     "shell.execute_reply": "2022-08-27T06:20:40.011425Z"
    },
    "papermill": {
     "duration": 0.876662,
     "end_time": "2022-08-27T06:20:40.013117",
     "exception": false,
     "start_time": "2022-08-27T06:20:39.136455",
     "status": "completed"
    },
    "tags": []
   },
   "outputs": [
    {
     "name": "stdout",
     "output_type": "stream",
     "text": [
      "Works!\n"
     ]
    }
   ],
   "source": [
    "try:\n",
    "    # decomposition used by statsmodels.GLS\n",
    "    cholsigmainv = np.linalg.cholesky(np.linalg.inv(gene_corrs_df.to_numpy())).T\n",
    "    print(\"Works!\")\n",
    "except Exception as e:\n",
    "    print(f\"Cholesky decomposition failed (statsmodels.GLS): {str(e)}\")"
   ]
  },
  {
   "cell_type": "markdown",
   "id": "8e60a080-edb2-4e9c-b2ef-22961693200c",
   "metadata": {
    "papermill": {
     "duration": 0.82638,
     "end_time": "2022-08-27T06:20:41.679893",
     "exception": false,
     "start_time": "2022-08-27T06:20:40.853513",
     "status": "completed"
    },
    "tags": []
   },
   "source": [
    "## Plot: distribution"
   ]
  },
  {
   "cell_type": "code",
   "execution_count": 41,
   "id": "8301126b-a7d4-4744-9c7d-f0f86eb6f54c",
   "metadata": {
    "execution": {
     "iopub.execute_input": "2022-08-27T06:20:43.369060Z",
     "iopub.status.busy": "2022-08-27T06:20:43.368828Z",
     "iopub.status.idle": "2022-08-27T06:20:48.270774Z",
     "shell.execute_reply": "2022-08-27T06:20:48.270269Z"
    },
    "papermill": {
     "duration": 5.771109,
     "end_time": "2022-08-27T06:20:48.272332",
     "exception": false,
     "start_time": "2022-08-27T06:20:42.501223",
     "status": "completed"
    },
    "tags": []
   },
   "outputs": [
    {
     "data": {
      "image/png": "[encoded data removed]",
      "text/plain": [
       "<Figure size 504x504 with 1 Axes>"
      ]
     },
     "metadata": {
      "needs_background": "light"
     },
     "output_type": "display_data"
    }
   ],
   "source": [
    "with sns.plotting_context(\"paper\", font_scale=1.5):\n",
    "    g = sns.displot(gene_corrs_flat, kde=True, height=7)\n",
    "    g.ax.set_title(\n",
    "        f\"Distribution of gene correlation values in chromosome {CHROMOSOME}\"\n",
    "    )"
   ]
  },
  {
   "cell_type": "markdown",
   "id": "cbd52bca-d878-4a2f-b684-5c83aa3038d4",
   "metadata": {
    "papermill": {
     "duration": 0.838937,
     "end_time": "2022-08-27T06:20:49.945356",
     "exception": false,
     "start_time": "2022-08-27T06:20:49.106419",
     "status": "completed"
    },
    "tags": []
   },
   "source": [
    "## Plot: heatmap"
   ]
  },
  {
   "cell_type": "code",
   "execution_count": 42,
   "id": "d03fe63a-c7b2-4fb9-a53c-db362ce843c9",
   "metadata": {
    "execution": {
     "iopub.execute_input": "2022-08-27T06:20:51.610453Z",
     "iopub.status.busy": "2022-08-27T06:20:51.610208Z",
     "iopub.status.idle": "2022-08-27T06:20:51.633267Z",
     "shell.execute_reply": "2022-08-27T06:20:51.632878Z"
    },
    "papermill": {
     "duration": 0.856706,
     "end_time": "2022-08-27T06:20:51.634518",
     "exception": false,
     "start_time": "2022-08-27T06:20:50.777812",
     "status": "completed"
    },
    "tags": []
   },
   "outputs": [
    {
     "data": {
      "text/plain": [
       "'0.0 / 0.05'"
      ]
     },
     "metadata": {},
     "output_type": "display_data"
    }
   ],
   "source": [
    "vmin_val = min(0.00, gene_corrs_quantiles[0.10])\n",
    "vmax_val = max(0.05, gene_corrs_quantiles[0.90])\n",
    "display(f\"{vmin_val} / {vmax_val}\")"
   ]
  },
  {
   "cell_type": "code",
   "execution_count": 43,
   "id": "dc41b70b-5bcc-4d9e-9f33-a22c4a94dab5",
   "metadata": {
    "execution": {
     "iopub.execute_input": "2022-08-27T06:20:53.298459Z",
     "iopub.status.busy": "2022-08-27T06:20:53.298212Z",
     "iopub.status.idle": "2022-08-27T06:20:53.470499Z",
     "shell.execute_reply": "2022-08-27T06:20:53.470075Z"
    },
    "papermill": {
     "duration": 1.008081,
     "end_time": "2022-08-27T06:20:53.471888",
     "exception": false,
     "start_time": "2022-08-27T06:20:52.463807",
     "status": "completed"
    },
    "tags": []
   },
   "outputs": [
    {
     "data": {
      "text/plain": [
       "Text(0.5, 1.0, 'Gene correlations in chromosome 15')"
      ]
     },
     "execution_count": 43,
     "metadata": {},
     "output_type": "execute_result"
    },
    {
     "data": {
      "image/png": "[encoded data removed]",
      "text/plain": [
       "<Figure size 720x720 with 2 Axes>"
      ]
     },
     "metadata": {
      "needs_background": "light"
     },
     "output_type": "display_data"
    }
   ],
   "source": [
    "f, ax = plt.subplots(figsize=(10, 10))\n",
    "sns.heatmap(\n",
    "    gene_corrs_df,\n",
    "    xticklabels=False,\n",
    "    yticklabels=False,\n",
    "    square=True,\n",
    "    vmin=vmin_val,\n",
    "    vmax=vmax_val,\n",
    "    cmap=\"rocket_r\",\n",
    "    ax=ax,\n",
    ")\n",
    "ax.set_title(f\"Gene correlations in chromosome {CHROMOSOME}\")"
   ]
  },
  {
   "cell_type": "code",
   "execution_count": null,
   "id": "b25e3ead",
   "metadata": {
    "papermill": {
     "duration": 0.82584,
     "end_time": "2022-08-27T06:20:55.132155",
     "exception": false,
     "start_time": "2022-08-27T06:20:54.306315",
     "status": "completed"
    },
    "tags": []
   },
   "outputs": [],
   "source": []
  }
 ],
 "metadata": {
  "jupytext": {
   "cell_metadata_filter": "all,-execution,-papermill,-trusted",
   "formats": "ipynb,py//py:percent"
  },
  "kernelspec": {
   "display_name": "Python 3 (ipykernel)",
   "language": "python",
   "name": "python3"
  },
  "language_info": {
   "codemirror_mode": {
    "name": "ipython",
    "version": 3
   },
   "file_extension": ".py",
   "mimetype": "text/x-python",
   "name": "python",
   "nbconvert_exporter": "python",
   "pygments_lexer": "ipython3",
   "version": "3.8.13"
  },
  "papermill": {
   "default_parameters": {},
   "duration": 1181.759345,
   "end_time": "2022-08-27T06:20:59.053997",
   "environment_variables": {},
   "exception": null,
   "input_path": "nbs/15_gsa_gls/10-gene_expr_correlations.ipynb",
   "output_path": "nbs/15_gsa_gls/gene_corrs/cohorts/phenomexcan_astle/gtex_v8/mashr/10-gene_expr_corrs/10-gene_expr_correlations-chr15.run.ipynb",
   "parameters": {
    "CHROMOSOME": 15,
    "COHORT_NAME": "phenomexcan_astle",
    "EQTL_MODEL": "MASHR",
    "REFERENCE_PANEL": "GTEX_V8"
   },
   "start_time": "2022-08-27T06:01:17.294652",
   "version": "2.2.2"
  }
 },
 "nbformat": 4,
 "nbformat_minor": 5
}
