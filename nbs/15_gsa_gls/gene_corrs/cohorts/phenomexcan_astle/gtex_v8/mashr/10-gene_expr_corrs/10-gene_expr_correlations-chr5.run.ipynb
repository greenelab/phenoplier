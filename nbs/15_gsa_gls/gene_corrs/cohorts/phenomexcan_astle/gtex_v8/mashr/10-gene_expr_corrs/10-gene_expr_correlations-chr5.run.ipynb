{
 "cells": [
  {
   "cell_type": "markdown",
   "id": "7a6632fb",
   "metadata": {
    "papermill": {
     "duration": 0.022975,
     "end_time": "2022-08-27T06:01:18.759674",
     "exception": false,
     "start_time": "2022-08-27T06:01:18.736699",
     "status": "completed"
    },
    "tags": []
   },
   "source": [
    "# Description"
   ]
  },
  {
   "cell_type": "markdown",
   "id": "7097c346",
   "metadata": {
    "papermill": {
     "duration": 0.014445,
     "end_time": "2022-08-27T06:01:18.789743",
     "exception": false,
     "start_time": "2022-08-27T06:01:18.775298",
     "status": "completed"
    },
    "tags": []
   },
   "source": [
    "(Please, take a look at the README.md file in this directory for instructions on how to run this notebook)\n",
    "\n",
    "This notebook computes predicted expression correlations between all genes in the MultiPLIER models.\n",
    "\n",
    "It also has a parameter set for papermill to run on a single chromosome to run in parallel (see under `Settings` below).\n",
    "\n",
    "This notebook is not directly run. See README.md."
   ]
  },
  {
   "cell_type": "markdown",
   "id": "c61d8427",
   "metadata": {
    "papermill": {
     "duration": 0.012358,
     "end_time": "2022-08-27T06:01:18.815387",
     "exception": false,
     "start_time": "2022-08-27T06:01:18.803029",
     "status": "completed"
    },
    "tags": []
   },
   "source": [
    "# Modules"
   ]
  },
  {
   "cell_type": "code",
   "execution_count": 1,
   "id": "bbc0234f",
   "metadata": {
    "execution": {
     "iopub.execute_input": "2022-08-27T06:01:18.840250Z",
     "iopub.status.busy": "2022-08-27T06:01:18.839918Z",
     "iopub.status.idle": "2022-08-27T06:01:18.863710Z",
     "shell.execute_reply": "2022-08-27T06:01:18.863062Z"
    },
    "papermill": {
     "duration": 0.038797,
     "end_time": "2022-08-27T06:01:18.865962",
     "exception": false,
     "start_time": "2022-08-27T06:01:18.827165",
     "status": "completed"
    },
    "tags": []
   },
   "outputs": [],
   "source": [
    "%load_ext autoreload\n",
    "%autoreload 2"
   ]
  },
  {
   "cell_type": "code",
   "execution_count": 2,
   "id": "1d5f5a59",
   "metadata": {
    "execution": {
     "iopub.execute_input": "2022-08-27T06:01:18.890651Z",
     "iopub.status.busy": "2022-08-27T06:01:18.890417Z",
     "iopub.status.idle": "2022-08-27T06:01:20.475445Z",
     "shell.execute_reply": "2022-08-27T06:01:20.474862Z"
    },
    "papermill": {
     "duration": 1.60003,
     "end_time": "2022-08-27T06:01:20.477439",
     "exception": false,
     "start_time": "2022-08-27T06:01:18.877409",
     "status": "completed"
    },
    "tags": []
   },
   "outputs": [],
   "source": [
    "from random import sample, seed\n",
    "import warnings\n",
    "from pathlib import Path\n",
    "import pickle\n",
    "import traceback\n",
    "\n",
    "import numpy as np\n",
    "from scipy.spatial.distance import squareform\n",
    "import pandas as pd\n",
    "from tqdm import tqdm\n",
    "import matplotlib.pyplot as plt\n",
    "import seaborn as sns\n",
    "\n",
    "import conf\n",
    "from entity import Gene"
   ]
  },
  {
   "cell_type": "markdown",
   "id": "1eac24b5",
   "metadata": {
    "papermill": {
     "duration": 0.00859,
     "end_time": "2022-08-27T06:01:20.526885",
     "exception": false,
     "start_time": "2022-08-27T06:01:20.518295",
     "status": "completed"
    },
    "tags": []
   },
   "source": [
    "# Settings"
   ]
  },
  {
   "cell_type": "code",
   "execution_count": 3,
   "id": "ca4560ba",
   "metadata": {
    "execution": {
     "iopub.execute_input": "2022-08-27T06:01:20.546240Z",
     "iopub.status.busy": "2022-08-27T06:01:20.545997Z",
     "iopub.status.idle": "2022-08-27T06:01:20.564505Z",
     "shell.execute_reply": "2022-08-27T06:01:20.564018Z"
    },
    "papermill": {
     "duration": 0.029843,
     "end_time": "2022-08-27T06:01:20.566043",
     "exception": false,
     "start_time": "2022-08-27T06:01:20.536200",
     "status": "completed"
    },
    "tags": [
     "parameters"
    ]
   },
   "outputs": [],
   "source": [
    "# a cohort name (it could be something like UK_BIOBANK, etc)\n",
    "COHORT_NAME = None\n",
    "\n",
    "# reference panel such as 1000G or GTEX_V8\n",
    "REFERENCE_PANEL = None\n",
    "\n",
    "# predictions models such as MASHR or ELASTIC_NET\n",
    "EQTL_MODEL = None\n",
    "\n",
    "# this is the default value used in S-MultiXcan to select the\n",
    "# top principal components of the expression correlation matrix\n",
    "SMULTIXCAN_CONDITION_NUMBER = 30\n",
    "\n",
    "# specifies a single chromosome value\n",
    "CHROMOSOME = None\n",
    "\n",
    "# If True, computes the correlation between closeby genes only;\n",
    "# otherwise, it computes correlations for all genes in a chromosome\n",
    "COMPUTE_CORRELATIONS_WITHIN_DISTANCE = False\n",
    "\n",
    "# if True, then it will continue if a gene pair correlation fails,\n",
    "# printing the warning/error for debugging. If False, any warning/error\n",
    "# will be thrown\n",
    "DEBUG_MODE = False"
   ]
  },
  {
   "cell_type": "code",
   "execution_count": 4,
   "id": "1158a543",
   "metadata": {
    "execution": {
     "iopub.execute_input": "2022-08-27T06:01:20.584176Z",
     "iopub.status.busy": "2022-08-27T06:01:20.583985Z",
     "iopub.status.idle": "2022-08-27T06:01:20.599380Z",
     "shell.execute_reply": "2022-08-27T06:01:20.598908Z"
    },
    "papermill": {
     "duration": 0.026081,
     "end_time": "2022-08-27T06:01:20.600888",
     "exception": false,
     "start_time": "2022-08-27T06:01:20.574807",
     "status": "completed"
    },
    "tags": [
     "injected-parameters"
    ]
   },
   "outputs": [],
   "source": [
    "# Parameters\n",
    "COHORT_NAME = \"phenomexcan_astle\"\n",
    "REFERENCE_PANEL = \"GTEX_V8\"\n",
    "EQTL_MODEL = \"MASHR\"\n",
    "CHROMOSOME = 5\n"
   ]
  },
  {
   "cell_type": "code",
   "execution_count": 5,
   "id": "3190631f-27fc-480f-b18e-571d580425a5",
   "metadata": {
    "execution": {
     "iopub.execute_input": "2022-08-27T06:01:20.618828Z",
     "iopub.status.busy": "2022-08-27T06:01:20.618637Z",
     "iopub.status.idle": "2022-08-27T06:01:20.637517Z",
     "shell.execute_reply": "2022-08-27T06:01:20.637036Z"
    },
    "papermill": {
     "duration": 0.029343,
     "end_time": "2022-08-27T06:01:20.638928",
     "exception": false,
     "start_time": "2022-08-27T06:01:20.609585",
     "status": "completed"
    },
    "tags": []
   },
   "outputs": [
    {
     "data": {
      "text/plain": [
       "'Cohort name: phenomexcan_astle'"
      ]
     },
     "metadata": {},
     "output_type": "display_data"
    }
   ],
   "source": [
    "assert COHORT_NAME is not None and len(COHORT_NAME) > 0, \"A cohort name must be given\"\n",
    "\n",
    "COHORT_NAME = COHORT_NAME.lower()\n",
    "display(f\"Cohort name: {COHORT_NAME}\")"
   ]
  },
  {
   "cell_type": "code",
   "execution_count": 6,
   "id": "f53ba19b-0f93-4fa2-a047-63b375939d1a",
   "metadata": {
    "execution": {
     "iopub.execute_input": "2022-08-27T06:01:20.657244Z",
     "iopub.status.busy": "2022-08-27T06:01:20.657054Z",
     "iopub.status.idle": "2022-08-27T06:01:20.674137Z",
     "shell.execute_reply": "2022-08-27T06:01:20.673652Z"
    },
    "papermill": {
     "duration": 0.027909,
     "end_time": "2022-08-27T06:01:20.675550",
     "exception": false,
     "start_time": "2022-08-27T06:01:20.647641",
     "status": "completed"
    },
    "tags": []
   },
   "outputs": [
    {
     "data": {
      "text/plain": [
       "'Reference panel: GTEX_V8'"
      ]
     },
     "metadata": {},
     "output_type": "display_data"
    }
   ],
   "source": [
    "assert (\n",
    "    REFERENCE_PANEL is not None and len(REFERENCE_PANEL) > 0\n",
    "), \"A reference panel must be given\"\n",
    "\n",
    "display(f\"Reference panel: {REFERENCE_PANEL}\")"
   ]
  },
  {
   "cell_type": "code",
   "execution_count": 7,
   "id": "e024d130-c139-429a-9c6e-ccf149e297b0",
   "metadata": {
    "execution": {
     "iopub.execute_input": "2022-08-27T06:01:20.694198Z",
     "iopub.status.busy": "2022-08-27T06:01:20.693998Z",
     "iopub.status.idle": "2022-08-27T06:01:20.711461Z",
     "shell.execute_reply": "2022-08-27T06:01:20.710985Z"
    },
    "papermill": {
     "duration": 0.028589,
     "end_time": "2022-08-27T06:01:20.712858",
     "exception": false,
     "start_time": "2022-08-27T06:01:20.684269",
     "status": "completed"
    },
    "tags": []
   },
   "outputs": [
    {
     "data": {
      "text/plain": [
       "'eQTL model: MASHR) / mashr_'"
      ]
     },
     "metadata": {},
     "output_type": "display_data"
    }
   ],
   "source": [
    "assert (\n",
    "    EQTL_MODEL is not None and len(EQTL_MODEL) > 0\n",
    "), \"A prediction/eQTL model must be given\"\n",
    "\n",
    "EQTL_MODEL_FILES_PREFIX = conf.PHENOMEXCAN[\"PREDICTION_MODELS\"][f\"{EQTL_MODEL}_PREFIX\"]\n",
    "display(f\"eQTL model: {EQTL_MODEL}) / {EQTL_MODEL_FILES_PREFIX}\")"
   ]
  },
  {
   "cell_type": "code",
   "execution_count": 8,
   "id": "552a7f63-a18c-4d3e-bb6a-94f99b431291",
   "metadata": {
    "execution": {
     "iopub.execute_input": "2022-08-27T06:01:20.731754Z",
     "iopub.status.busy": "2022-08-27T06:01:20.731565Z",
     "iopub.status.idle": "2022-08-27T06:01:20.748510Z",
     "shell.execute_reply": "2022-08-27T06:01:20.748032Z"
    },
    "papermill": {
     "duration": 0.028066,
     "end_time": "2022-08-27T06:01:20.749926",
     "exception": false,
     "start_time": "2022-08-27T06:01:20.721860",
     "status": "completed"
    },
    "tags": []
   },
   "outputs": [
    {
     "data": {
      "text/plain": [
       "'S-MultiXcan condition number: 30'"
      ]
     },
     "metadata": {},
     "output_type": "display_data"
    }
   ],
   "source": [
    "assert (\n",
    "    SMULTIXCAN_CONDITION_NUMBER is not None and SMULTIXCAN_CONDITION_NUMBER > 0\n",
    "), \"The S-MultiXcan condition number (positive integer) must be given\"\n",
    "\n",
    "display(f\"S-MultiXcan condition number: {SMULTIXCAN_CONDITION_NUMBER}\")"
   ]
  },
  {
   "cell_type": "code",
   "execution_count": 9,
   "id": "f34a336f-548e-4afe-8955-90eaea4f42c6",
   "metadata": {
    "execution": {
     "iopub.execute_input": "2022-08-27T06:01:20.768457Z",
     "iopub.status.busy": "2022-08-27T06:01:20.768268Z",
     "iopub.status.idle": "2022-08-27T06:01:20.785292Z",
     "shell.execute_reply": "2022-08-27T06:01:20.784798Z"
    },
    "papermill": {
     "duration": 0.02815,
     "end_time": "2022-08-27T06:01:20.786802",
     "exception": false,
     "start_time": "2022-08-27T06:01:20.758652",
     "status": "completed"
    },
    "tags": []
   },
   "outputs": [
    {
     "data": {
      "text/plain": [
       "'Working on chromosome 5'"
      ]
     },
     "metadata": {},
     "output_type": "display_data"
    }
   ],
   "source": [
    "assert CHROMOSOME is not None and (\n",
    "    1 <= CHROMOSOME <= 22\n",
    "), \"You have to select one chromosome (format: number between 1 and 22)\"\n",
    "\n",
    "# CHROMOSOME = str(CHROMOSOME)\n",
    "display(f\"Working on chromosome {CHROMOSOME}\")"
   ]
  },
  {
   "cell_type": "code",
   "execution_count": 10,
   "id": "ab8e96e8-06b5-4363-9dcd-dc4d78cc27f7",
   "metadata": {
    "execution": {
     "iopub.execute_input": "2022-08-27T06:01:20.805299Z",
     "iopub.status.busy": "2022-08-27T06:01:20.805112Z",
     "iopub.status.idle": "2022-08-27T06:01:20.822082Z",
     "shell.execute_reply": "2022-08-27T06:01:20.821597Z"
    },
    "papermill": {
     "duration": 0.027878,
     "end_time": "2022-08-27T06:01:20.823482",
     "exception": false,
     "start_time": "2022-08-27T06:01:20.795604",
     "status": "completed"
    },
    "tags": []
   },
   "outputs": [
    {
     "data": {
      "text/plain": [
       "'Compute correlation within distance False'"
      ]
     },
     "metadata": {},
     "output_type": "display_data"
    }
   ],
   "source": [
    "display(f\"Compute correlation within distance {COMPUTE_CORRELATIONS_WITHIN_DISTANCE}\")"
   ]
  },
  {
   "cell_type": "code",
   "execution_count": 11,
   "id": "396392dc-0340-4540-9b02-e182b833f909",
   "metadata": {
    "execution": {
     "iopub.execute_input": "2022-08-27T06:01:20.842716Z",
     "iopub.status.busy": "2022-08-27T06:01:20.842528Z",
     "iopub.status.idle": "2022-08-27T06:01:20.861521Z",
     "shell.execute_reply": "2022-08-27T06:01:20.861050Z"
    },
    "papermill": {
     "duration": 0.030802,
     "end_time": "2022-08-27T06:01:20.862942",
     "exception": false,
     "start_time": "2022-08-27T06:01:20.832140",
     "status": "completed"
    },
    "tags": []
   },
   "outputs": [
    {
     "data": {
      "text/plain": [
       "'Using output dir base: /project/ritchie20/projects/phenoplier/base/results/gls/gene_corrs/cohorts/phenomexcan_astle/gtex_v8/mashr'"
      ]
     },
     "metadata": {},
     "output_type": "display_data"
    }
   ],
   "source": [
    "OUTPUT_DIR_BASE = (\n",
    "    conf.RESULTS[\"GLS\"]\n",
    "    / \"gene_corrs\"\n",
    "    / \"cohorts\"\n",
    "    / COHORT_NAME\n",
    "    / REFERENCE_PANEL.lower()\n",
    "    / EQTL_MODEL.lower()\n",
    ")\n",
    "OUTPUT_DIR_BASE.mkdir(parents=True, exist_ok=True)\n",
    "\n",
    "display(f\"Using output dir base: {OUTPUT_DIR_BASE}\")"
   ]
  },
  {
   "cell_type": "markdown",
   "id": "d2ba085e",
   "metadata": {
    "papermill": {
     "duration": 0.009085,
     "end_time": "2022-08-27T06:01:20.880829",
     "exception": false,
     "start_time": "2022-08-27T06:01:20.871744",
     "status": "completed"
    },
    "tags": []
   },
   "source": [
    "# Load data"
   ]
  },
  {
   "cell_type": "markdown",
   "id": "7dcb8db7",
   "metadata": {
    "papermill": {
     "duration": 0.008679,
     "end_time": "2022-08-27T06:01:20.898219",
     "exception": false,
     "start_time": "2022-08-27T06:01:20.889540",
     "status": "completed"
    },
    "tags": []
   },
   "source": [
    "## GWAS variants"
   ]
  },
  {
   "cell_type": "code",
   "execution_count": 12,
   "id": "29434c4e-8cd3-4b9b-82e4-b5a251d9dd19",
   "metadata": {
    "execution": {
     "iopub.execute_input": "2022-08-27T06:01:20.917657Z",
     "iopub.status.busy": "2022-08-27T06:01:20.917468Z",
     "iopub.status.idle": "2022-08-27T06:01:23.645974Z",
     "shell.execute_reply": "2022-08-27T06:01:23.645388Z"
    },
    "papermill": {
     "duration": 2.739932,
     "end_time": "2022-08-27T06:01:23.647880",
     "exception": false,
     "start_time": "2022-08-27T06:01:20.907948",
     "status": "completed"
    },
    "tags": []
   },
   "outputs": [],
   "source": [
    "with open(OUTPUT_DIR_BASE / \"gwas_variant_ids.pkl\", \"rb\") as handle:\n",
    "    gwas_variants_ids_set = pickle.load(handle)"
   ]
  },
  {
   "cell_type": "code",
   "execution_count": 13,
   "id": "b9d9dec2-4a76-4bf9-bde2-e24c95acb8a0",
   "metadata": {
    "execution": {
     "iopub.execute_input": "2022-08-27T06:01:23.739680Z",
     "iopub.status.busy": "2022-08-27T06:01:23.739199Z",
     "iopub.status.idle": "2022-08-27T06:01:23.780562Z",
     "shell.execute_reply": "2022-08-27T06:01:23.779609Z"
    },
    "papermill": {
     "duration": 0.096549,
     "end_time": "2022-08-27T06:01:23.783297",
     "exception": false,
     "start_time": "2022-08-27T06:01:23.686748",
     "status": "completed"
    },
    "tags": []
   },
   "outputs": [
    {
     "data": {
      "text/plain": [
       "8871979"
      ]
     },
     "execution_count": 13,
     "metadata": {},
     "output_type": "execute_result"
    }
   ],
   "source": [
    "len(gwas_variants_ids_set)"
   ]
  },
  {
   "cell_type": "code",
   "execution_count": 14,
   "id": "4235b06a-6034-4ee4-a0a3-2ae35d122418",
   "metadata": {
    "execution": {
     "iopub.execute_input": "2022-08-27T06:01:23.913749Z",
     "iopub.status.busy": "2022-08-27T06:01:23.913272Z",
     "iopub.status.idle": "2022-08-27T06:01:24.520119Z",
     "shell.execute_reply": "2022-08-27T06:01:24.519564Z"
    },
    "papermill": {
     "duration": 0.683706,
     "end_time": "2022-08-27T06:01:24.521670",
     "exception": false,
     "start_time": "2022-08-27T06:01:23.837964",
     "status": "completed"
    },
    "tags": []
   },
   "outputs": [
    {
     "data": {
      "text/plain": [
       "['chr2_2396363_T_C_b38',\n",
       " 'chr8_30876194_C_T_b38',\n",
       " 'chr6_99317908_T_G_b38',\n",
       " 'chr11_49870882_C_T_b38',\n",
       " 'chr1_209048841_C_T_b38']"
      ]
     },
     "execution_count": 14,
     "metadata": {},
     "output_type": "execute_result"
    }
   ],
   "source": [
    "list(gwas_variants_ids_set)[:5]"
   ]
  },
  {
   "cell_type": "markdown",
   "id": "07866999-2305-41f9-a144-e69c9122c212",
   "metadata": {
    "papermill": {
     "duration": 0.022921,
     "end_time": "2022-08-27T06:01:24.567126",
     "exception": false,
     "start_time": "2022-08-27T06:01:24.544205",
     "status": "completed"
    },
    "tags": []
   },
   "source": [
    "## S-PrediXcan tissue models"
   ]
  },
  {
   "cell_type": "code",
   "execution_count": 15,
   "id": "780611d9-77c8-405f-90a4-f271f7b09397",
   "metadata": {
    "execution": {
     "iopub.execute_input": "2022-08-27T06:01:24.612548Z",
     "iopub.status.busy": "2022-08-27T06:01:24.612353Z",
     "iopub.status.idle": "2022-08-27T06:01:25.588393Z",
     "shell.execute_reply": "2022-08-27T06:01:25.587639Z"
    },
    "papermill": {
     "duration": 0.999384,
     "end_time": "2022-08-27T06:01:25.590382",
     "exception": false,
     "start_time": "2022-08-27T06:01:24.590998",
     "status": "completed"
    },
    "tags": []
   },
   "outputs": [],
   "source": [
    "spredixcan_genes_models = pd.read_pickle(OUTPUT_DIR_BASE / \"gene_tissues.pkl\")"
   ]
  },
  {
   "cell_type": "code",
   "execution_count": 16,
   "id": "726dd1f6-9557-4225-91fa-b3b879ea96e1",
   "metadata": {
    "execution": {
     "iopub.execute_input": "2022-08-27T06:01:25.610692Z",
     "iopub.status.busy": "2022-08-27T06:01:25.610488Z",
     "iopub.status.idle": "2022-08-27T06:01:25.631811Z",
     "shell.execute_reply": "2022-08-27T06:01:25.631332Z"
    },
    "papermill": {
     "duration": 0.032966,
     "end_time": "2022-08-27T06:01:25.633226",
     "exception": false,
     "start_time": "2022-08-27T06:01:25.600260",
     "status": "completed"
    },
    "tags": []
   },
   "outputs": [
    {
     "data": {
      "text/plain": [
       "(6450, 3)"
      ]
     },
     "execution_count": 16,
     "metadata": {},
     "output_type": "execute_result"
    }
   ],
   "source": [
    "spredixcan_genes_models.shape"
   ]
  },
  {
   "cell_type": "code",
   "execution_count": 17,
   "id": "944a1b48-222c-4eb0-b252-b9de2cbca215",
   "metadata": {
    "execution": {
     "iopub.execute_input": "2022-08-27T06:01:25.652946Z",
     "iopub.status.busy": "2022-08-27T06:01:25.652749Z",
     "iopub.status.idle": "2022-08-27T06:01:25.677852Z",
     "shell.execute_reply": "2022-08-27T06:01:25.677352Z"
    },
    "papermill": {
     "duration": 0.036585,
     "end_time": "2022-08-27T06:01:25.679365",
     "exception": false,
     "start_time": "2022-08-27T06:01:25.642780",
     "status": "completed"
    },
    "tags": []
   },
   "outputs": [
    {
     "data": {
      "text/html": [
       "<div>\n",
       "<style scoped>\n",
       "    .dataframe tbody tr th:only-of-type {\n",
       "        vertical-align: middle;\n",
       "    }\n",
       "\n",
       "    .dataframe tbody tr th {\n",
       "        vertical-align: top;\n",
       "    }\n",
       "\n",
       "    .dataframe thead th {\n",
       "        text-align: right;\n",
       "    }\n",
       "</style>\n",
       "<table border=\"1\" class=\"dataframe\">\n",
       "  <thead>\n",
       "    <tr style=\"text-align: right;\">\n",
       "      <th></th>\n",
       "      <th>gene_name</th>\n",
       "      <th>tissue</th>\n",
       "      <th>n_tissues</th>\n",
       "    </tr>\n",
       "    <tr>\n",
       "      <th>gene_id</th>\n",
       "      <th></th>\n",
       "      <th></th>\n",
       "      <th></th>\n",
       "    </tr>\n",
       "  </thead>\n",
       "  <tbody>\n",
       "    <tr>\n",
       "      <th>ENSG00000000419</th>\n",
       "      <td>DPM1</td>\n",
       "      <td>(Brain_Hypothalamus, Brain_Substantia_nigra, C...</td>\n",
       "      <td>3</td>\n",
       "    </tr>\n",
       "    <tr>\n",
       "      <th>ENSG00000000938</th>\n",
       "      <td>FGR</td>\n",
       "      <td>(Skin_Sun_Exposed_Lower_leg, Adipose_Visceral_...</td>\n",
       "      <td>36</td>\n",
       "    </tr>\n",
       "    <tr>\n",
       "      <th>ENSG00000000971</th>\n",
       "      <td>CFH</td>\n",
       "      <td>(Uterus, Skin_Sun_Exposed_Lower_leg, Brain_Sub...</td>\n",
       "      <td>34</td>\n",
       "    </tr>\n",
       "    <tr>\n",
       "      <th>ENSG00000001084</th>\n",
       "      <td>GCLC</td>\n",
       "      <td>(Skin_Sun_Exposed_Lower_leg, Brain_Substantia_...</td>\n",
       "      <td>33</td>\n",
       "    </tr>\n",
       "    <tr>\n",
       "      <th>ENSG00000001167</th>\n",
       "      <td>NFYA</td>\n",
       "      <td>(Skin_Sun_Exposed_Lower_leg, Adipose_Visceral_...</td>\n",
       "      <td>40</td>\n",
       "    </tr>\n",
       "  </tbody>\n",
       "</table>\n",
       "</div>"
      ],
      "text/plain": [
       "                gene_name                                             tissue  \\\n",
       "gene_id                                                                        \n",
       "ENSG00000000419      DPM1  (Brain_Hypothalamus, Brain_Substantia_nigra, C...   \n",
       "ENSG00000000938       FGR  (Skin_Sun_Exposed_Lower_leg, Adipose_Visceral_...   \n",
       "ENSG00000000971       CFH  (Uterus, Skin_Sun_Exposed_Lower_leg, Brain_Sub...   \n",
       "ENSG00000001084      GCLC  (Skin_Sun_Exposed_Lower_leg, Brain_Substantia_...   \n",
       "ENSG00000001167      NFYA  (Skin_Sun_Exposed_Lower_leg, Adipose_Visceral_...   \n",
       "\n",
       "                 n_tissues  \n",
       "gene_id                     \n",
       "ENSG00000000419          3  \n",
       "ENSG00000000938         36  \n",
       "ENSG00000000971         34  \n",
       "ENSG00000001084         33  \n",
       "ENSG00000001167         40  "
      ]
     },
     "execution_count": 17,
     "metadata": {},
     "output_type": "execute_result"
    }
   ],
   "source": [
    "spredixcan_genes_models.head()"
   ]
  },
  {
   "cell_type": "code",
   "execution_count": 18,
   "id": "d1c11bb1-be0b-4f40-b360-633d6827109f",
   "metadata": {
    "execution": {
     "iopub.execute_input": "2022-08-27T06:01:25.699135Z",
     "iopub.status.busy": "2022-08-27T06:01:25.698919Z",
     "iopub.status.idle": "2022-08-27T06:01:25.715546Z",
     "shell.execute_reply": "2022-08-27T06:01:25.715028Z"
    },
    "papermill": {
     "duration": 0.028342,
     "end_time": "2022-08-27T06:01:25.717207",
     "exception": false,
     "start_time": "2022-08-27T06:01:25.688865",
     "status": "completed"
    },
    "tags": []
   },
   "outputs": [],
   "source": [
    "assert spredixcan_genes_models.index.is_unique"
   ]
  },
  {
   "cell_type": "markdown",
   "id": "a5b5092c-a13e-47c4-a92a-480fcc08f3ae",
   "metadata": {
    "papermill": {
     "duration": 0.009989,
     "end_time": "2022-08-27T06:01:25.737189",
     "exception": false,
     "start_time": "2022-08-27T06:01:25.727200",
     "status": "completed"
    },
    "tags": []
   },
   "source": [
    "## Gene info"
   ]
  },
  {
   "cell_type": "code",
   "execution_count": 19,
   "id": "7d6bb224-88e9-4358-ac10-43a41d92cdad",
   "metadata": {
    "execution": {
     "iopub.execute_input": "2022-08-27T06:01:25.758089Z",
     "iopub.status.busy": "2022-08-27T06:01:25.757863Z",
     "iopub.status.idle": "2022-08-27T06:01:25.822041Z",
     "shell.execute_reply": "2022-08-27T06:01:25.821540Z"
    },
    "papermill": {
     "duration": 0.076474,
     "end_time": "2022-08-27T06:01:25.823566",
     "exception": false,
     "start_time": "2022-08-27T06:01:25.747092",
     "status": "completed"
    },
    "tags": []
   },
   "outputs": [],
   "source": [
    "genes_info = pd.read_pickle(OUTPUT_DIR_BASE / \"genes_info.pkl\")"
   ]
  },
  {
   "cell_type": "code",
   "execution_count": 20,
   "id": "9e32abfa-546d-483e-8c18-d526e9e05903",
   "metadata": {
    "execution": {
     "iopub.execute_input": "2022-08-27T06:01:25.843876Z",
     "iopub.status.busy": "2022-08-27T06:01:25.843676Z",
     "iopub.status.idle": "2022-08-27T06:01:25.860412Z",
     "shell.execute_reply": "2022-08-27T06:01:25.859930Z"
    },
    "papermill": {
     "duration": 0.028452,
     "end_time": "2022-08-27T06:01:25.861800",
     "exception": false,
     "start_time": "2022-08-27T06:01:25.833348",
     "status": "completed"
    },
    "tags": []
   },
   "outputs": [
    {
     "data": {
      "text/plain": [
       "(6450, 7)"
      ]
     },
     "execution_count": 20,
     "metadata": {},
     "output_type": "execute_result"
    }
   ],
   "source": [
    "genes_info.shape"
   ]
  },
  {
   "cell_type": "code",
   "execution_count": 21,
   "id": "d16c3e92-85ec-468a-9a56-e25a9774a1cb",
   "metadata": {
    "execution": {
     "iopub.execute_input": "2022-08-27T06:01:25.881571Z",
     "iopub.status.busy": "2022-08-27T06:01:25.881375Z",
     "iopub.status.idle": "2022-08-27T06:01:25.903565Z",
     "shell.execute_reply": "2022-08-27T06:01:25.903071Z"
    },
    "papermill": {
     "duration": 0.034074,
     "end_time": "2022-08-27T06:01:25.905031",
     "exception": false,
     "start_time": "2022-08-27T06:01:25.870957",
     "status": "completed"
    },
    "tags": []
   },
   "outputs": [
    {
     "data": {
      "text/html": [
       "<div>\n",
       "<style scoped>\n",
       "    .dataframe tbody tr th:only-of-type {\n",
       "        vertical-align: middle;\n",
       "    }\n",
       "\n",
       "    .dataframe tbody tr th {\n",
       "        vertical-align: top;\n",
       "    }\n",
       "\n",
       "    .dataframe thead th {\n",
       "        text-align: right;\n",
       "    }\n",
       "</style>\n",
       "<table border=\"1\" class=\"dataframe\">\n",
       "  <thead>\n",
       "    <tr style=\"text-align: right;\">\n",
       "      <th></th>\n",
       "      <th>name</th>\n",
       "      <th>id</th>\n",
       "      <th>chr</th>\n",
       "      <th>band</th>\n",
       "      <th>start_position</th>\n",
       "      <th>end_position</th>\n",
       "      <th>gene_length</th>\n",
       "    </tr>\n",
       "  </thead>\n",
       "  <tbody>\n",
       "    <tr>\n",
       "      <th>0</th>\n",
       "      <td>FBXO34</td>\n",
       "      <td>ENSG00000178974</td>\n",
       "      <td>14</td>\n",
       "      <td>14q22.3</td>\n",
       "      <td>55271421</td>\n",
       "      <td>55361918</td>\n",
       "      <td>90497</td>\n",
       "    </tr>\n",
       "    <tr>\n",
       "      <th>1</th>\n",
       "      <td>ARG1</td>\n",
       "      <td>ENSG00000118520</td>\n",
       "      <td>6</td>\n",
       "      <td>6q23.2</td>\n",
       "      <td>131573144</td>\n",
       "      <td>131584332</td>\n",
       "      <td>11188</td>\n",
       "    </tr>\n",
       "    <tr>\n",
       "      <th>2</th>\n",
       "      <td>FADS2</td>\n",
       "      <td>ENSG00000134824</td>\n",
       "      <td>11</td>\n",
       "      <td>11q12.2</td>\n",
       "      <td>61792980</td>\n",
       "      <td>61867354</td>\n",
       "      <td>74374</td>\n",
       "    </tr>\n",
       "    <tr>\n",
       "      <th>3</th>\n",
       "      <td>CA4</td>\n",
       "      <td>ENSG00000167434</td>\n",
       "      <td>17</td>\n",
       "      <td>17q23.1</td>\n",
       "      <td>60149942</td>\n",
       "      <td>60170899</td>\n",
       "      <td>20957</td>\n",
       "    </tr>\n",
       "    <tr>\n",
       "      <th>4</th>\n",
       "      <td>PFKFB3</td>\n",
       "      <td>ENSG00000170525</td>\n",
       "      <td>10</td>\n",
       "      <td>10p15.1</td>\n",
       "      <td>6144934</td>\n",
       "      <td>6254644</td>\n",
       "      <td>109710</td>\n",
       "    </tr>\n",
       "  </tbody>\n",
       "</table>\n",
       "</div>"
      ],
      "text/plain": [
       "     name               id  chr     band  start_position  end_position  \\\n",
       "0  FBXO34  ENSG00000178974   14  14q22.3        55271421      55361918   \n",
       "1    ARG1  ENSG00000118520    6   6q23.2       131573144     131584332   \n",
       "2   FADS2  ENSG00000134824   11  11q12.2        61792980      61867354   \n",
       "3     CA4  ENSG00000167434   17  17q23.1        60149942      60170899   \n",
       "4  PFKFB3  ENSG00000170525   10  10p15.1         6144934       6254644   \n",
       "\n",
       "   gene_length  \n",
       "0        90497  \n",
       "1        11188  \n",
       "2        74374  \n",
       "3        20957  \n",
       "4       109710  "
      ]
     },
     "execution_count": 21,
     "metadata": {},
     "output_type": "execute_result"
    }
   ],
   "source": [
    "genes_info.head()"
   ]
  },
  {
   "cell_type": "markdown",
   "id": "d3843e06",
   "metadata": {
    "papermill": {
     "duration": 0.010219,
     "end_time": "2022-08-27T06:01:25.926340",
     "exception": false,
     "start_time": "2022-08-27T06:01:25.916121",
     "status": "completed"
    },
    "tags": []
   },
   "source": [
    "# Compute correlations"
   ]
  },
  {
   "cell_type": "code",
   "execution_count": 22,
   "id": "cb859c15-d1f3-4006-a74c-2b83c0db9611",
   "metadata": {
    "execution": {
     "iopub.execute_input": "2022-08-27T06:01:25.948603Z",
     "iopub.status.busy": "2022-08-27T06:01:25.948414Z",
     "iopub.status.idle": "2022-08-27T06:01:26.051391Z",
     "shell.execute_reply": "2022-08-27T06:01:26.050576Z"
    },
    "papermill": {
     "duration": 0.116809,
     "end_time": "2022-08-27T06:01:26.053720",
     "exception": false,
     "start_time": "2022-08-27T06:01:25.936911",
     "status": "completed"
    },
    "tags": []
   },
   "outputs": [
    {
     "data": {
      "text/plain": [
       "PosixPath('/project/ritchie20/projects/phenoplier/base/results/gls/gene_corrs/cohorts/phenomexcan_astle/gtex_v8/mashr/by_chr/gene_corrs-chr5.pkl')"
      ]
     },
     "metadata": {},
     "output_type": "display_data"
    }
   ],
   "source": [
    "output_dir = OUTPUT_DIR_BASE / \"by_chr\"\n",
    "output_dir.mkdir(exist_ok=True, parents=True)\n",
    "output_file = output_dir / f\"gene_corrs-chr{CHROMOSOME}.pkl\"\n",
    "display(output_file)"
   ]
  },
  {
   "cell_type": "code",
   "execution_count": 23,
   "id": "aa674fe4-6794-4eed-98fa-32b39d1d4ace",
   "metadata": {
    "execution": {
     "iopub.execute_input": "2022-08-27T06:01:26.084885Z",
     "iopub.status.busy": "2022-08-27T06:01:26.084602Z",
     "iopub.status.idle": "2022-08-27T06:01:26.106523Z",
     "shell.execute_reply": "2022-08-27T06:01:26.105893Z"
    },
    "papermill": {
     "duration": 0.039388,
     "end_time": "2022-08-27T06:01:26.108557",
     "exception": false,
     "start_time": "2022-08-27T06:01:26.069169",
     "status": "completed"
    },
    "tags": []
   },
   "outputs": [],
   "source": [
    "warnings.filterwarnings(\"error\")"
   ]
  },
  {
   "cell_type": "code",
   "execution_count": 24,
   "id": "44d5450b-3baf-43f1-9e2e-4b06f1a785f8",
   "metadata": {
    "execution": {
     "iopub.execute_input": "2022-08-27T06:01:26.135743Z",
     "iopub.status.busy": "2022-08-27T06:01:26.135506Z",
     "iopub.status.idle": "2022-08-27T06:01:26.151424Z",
     "shell.execute_reply": "2022-08-27T06:01:26.150951Z"
    },
    "papermill": {
     "duration": 0.031495,
     "end_time": "2022-08-27T06:01:26.152934",
     "exception": false,
     "start_time": "2022-08-27T06:01:26.121439",
     "status": "completed"
    },
    "tags": []
   },
   "outputs": [],
   "source": [
    "# standard checks\n",
    "all_chrs = genes_info[\"chr\"].dropna().unique()\n",
    "assert all_chrs.shape[0] == 22\n",
    "\n",
    "# select chromosome given by the user\n",
    "assert CHROMOSOME in all_chrs"
   ]
  },
  {
   "cell_type": "code",
   "execution_count": 25,
   "id": "2d7c043c-92a7-4d35-991b-fa69ac1e0268",
   "metadata": {
    "execution": {
     "iopub.execute_input": "2022-08-27T06:01:26.176054Z",
     "iopub.status.busy": "2022-08-27T06:01:26.175835Z",
     "iopub.status.idle": "2022-08-27T06:01:26.202643Z",
     "shell.execute_reply": "2022-08-27T06:01:26.202160Z"
    },
    "papermill": {
     "duration": 0.041602,
     "end_time": "2022-08-27T06:01:26.204207",
     "exception": false,
     "start_time": "2022-08-27T06:01:26.162605",
     "status": "completed"
    },
    "tags": []
   },
   "outputs": [
    {
     "name": "stdout",
     "output_type": "stream",
     "text": [
      "Number of genes in chromosome: 306\n"
     ]
    }
   ],
   "source": [
    "# run only on the chromosome specified\n",
    "all_chrs = [CHROMOSOME]\n",
    "genes_chr = genes_info[genes_info[\"chr\"] == CHROMOSOME]\n",
    "\n",
    "# For testing purposes\n",
    "# genes_chr = genes_chr.sample(n=20)\n",
    "\n",
    "print(f\"Number of genes in chromosome: {genes_chr.shape[0]}\", flush=True)"
   ]
  },
  {
   "cell_type": "code",
   "execution_count": 26,
   "id": "916015d8-2979-46d3-a9b9-1cf5a0932c6a",
   "metadata": {
    "execution": {
     "iopub.execute_input": "2022-08-27T06:01:26.225819Z",
     "iopub.status.busy": "2022-08-27T06:01:26.225631Z",
     "iopub.status.idle": "2022-08-27T06:01:26.241218Z",
     "shell.execute_reply": "2022-08-27T06:01:26.240720Z"
    },
    "papermill": {
     "duration": 0.028121,
     "end_time": "2022-08-27T06:01:26.242730",
     "exception": false,
     "start_time": "2022-08-27T06:01:26.214609",
     "status": "completed"
    },
    "tags": []
   },
   "outputs": [],
   "source": [
    "# sort genes by starting position to make visualizations better later\n",
    "genes_chr = genes_chr.sort_values(\"start_position\")"
   ]
  },
  {
   "cell_type": "code",
   "execution_count": 27,
   "id": "a38aa74a-8ad3-47f6-8ef9-56be0e011774",
   "metadata": {
    "execution": {
     "iopub.execute_input": "2022-08-27T06:01:26.266805Z",
     "iopub.status.busy": "2022-08-27T06:01:26.266615Z",
     "iopub.status.idle": "2022-08-27T06:01:26.282760Z",
     "shell.execute_reply": "2022-08-27T06:01:26.282276Z"
    },
    "papermill": {
     "duration": 0.029846,
     "end_time": "2022-08-27T06:01:26.284277",
     "exception": false,
     "start_time": "2022-08-27T06:01:26.254431",
     "status": "completed"
    },
    "tags": []
   },
   "outputs": [],
   "source": [
    "gene_chr_objs = [Gene(ensembl_id=gene_id) for gene_id in genes_chr[\"id\"]]"
   ]
  },
  {
   "cell_type": "code",
   "execution_count": 28,
   "id": "570f974f-13c3-42b6-ad3a-ce99ca885c1a",
   "metadata": {
    "execution": {
     "iopub.execute_input": "2022-08-27T06:01:26.305540Z",
     "iopub.status.busy": "2022-08-27T06:01:26.305351Z",
     "iopub.status.idle": "2022-08-27T06:01:26.322642Z",
     "shell.execute_reply": "2022-08-27T06:01:26.322085Z"
    },
    "papermill": {
     "duration": 0.030003,
     "end_time": "2022-08-27T06:01:26.324298",
     "exception": false,
     "start_time": "2022-08-27T06:01:26.294295",
     "status": "completed"
    },
    "tags": []
   },
   "outputs": [
    {
     "name": "stdout",
     "output_type": "stream",
     "text": [
      "Number of gene combinations: 46665\n"
     ]
    }
   ],
   "source": [
    "n = len(gene_chr_objs)\n",
    "n_comb = int(n * (n - 1) / 2.0)\n",
    "print(f\"Number of gene combinations: {n_comb}\", flush=True)"
   ]
  },
  {
   "cell_type": "code",
   "execution_count": 29,
   "id": "cdbb90a1",
   "metadata": {
    "execution": {
     "iopub.execute_input": "2022-08-27T06:01:26.348280Z",
     "iopub.status.busy": "2022-08-27T06:01:26.348053Z",
     "iopub.status.idle": "2022-08-27T07:09:59.700535Z",
     "shell.execute_reply": "2022-08-27T07:09:59.699830Z"
    },
    "papermill": {
     "duration": 4113.365897,
     "end_time": "2022-08-27T07:09:59.702362",
     "exception": false,
     "start_time": "2022-08-27T06:01:26.336465",
     "status": "completed"
    },
    "tags": []
   },
   "outputs": [
    {
     "name": "stderr",
     "output_type": "stream",
     "text": [
      "ENSG00000165810 / ENSG00000165810: : 46971it [1:08:33, 11.42it/s]\n"
     ]
    },
    {
     "data": {
      "text/plain": [
       "PosixPath('/project/ritchie20/projects/phenoplier/base/results/gls/gene_corrs/cohorts/phenomexcan_astle/gtex_v8/mashr/by_chr/gene_corrs-chr5.pkl')"
      ]
     },
     "metadata": {},
     "output_type": "display_data"
    }
   ],
   "source": [
    "gene_corrs = []\n",
    "gene_corrs_data = np.full(\n",
    "    (n, n),\n",
    "    np.nan,\n",
    "    dtype=np.float64,\n",
    ")\n",
    "\n",
    "i = 0\n",
    "with tqdm(ncols=100, total=n_comb) as pbar:\n",
    "    for gene1_idx in range(0, len(gene_chr_objs)):\n",
    "        gene1_obj = gene_chr_objs[gene1_idx]\n",
    "        gene1_tissues = spredixcan_genes_models.loc[gene1_obj.ensembl_id, \"tissue\"]\n",
    "\n",
    "        for gene2_idx in range(gene1_idx, len(gene_chr_objs)):\n",
    "            gene2_obj = gene_chr_objs[gene2_idx]\n",
    "            gene2_tissues = spredixcan_genes_models.loc[gene2_obj.ensembl_id, \"tissue\"]\n",
    "\n",
    "            pbar.set_description(f\"{gene1_obj.ensembl_id} / {gene2_obj.ensembl_id}\")\n",
    "\n",
    "            try:\n",
    "                r = gene1_obj.get_ssm_correlation(\n",
    "                    other_gene=gene2_obj,\n",
    "                    tissues=gene1_tissues,\n",
    "                    other_tissues=gene2_tissues,\n",
    "                    snps_subset=gwas_variants_ids_set,\n",
    "                    condition_number=SMULTIXCAN_CONDITION_NUMBER,\n",
    "                    reference_panel=REFERENCE_PANEL,\n",
    "                    model_type=EQTL_MODEL,\n",
    "                    use_within_distance=COMPUTE_CORRELATIONS_WITHIN_DISTANCE,\n",
    "                )\n",
    "\n",
    "                if r is None:\n",
    "                    # if r is None, it's very likely because:\n",
    "                    #  * one of the genes has no prediction models\n",
    "                    #  * all the SNPs predictors for the gene are not present in the reference\n",
    "                    #    panel\n",
    "\n",
    "                    r = 0.0\n",
    "\n",
    "                gene_corrs.append(r)\n",
    "\n",
    "                gene_corrs_data[gene1_idx, gene2_idx] = r\n",
    "                gene_corrs_data[gene2_idx, gene1_idx] = r\n",
    "            except Warning as e:\n",
    "                if not DEBUG_MODE:\n",
    "                    raise e\n",
    "\n",
    "                print(\n",
    "                    f\"RuntimeWarning for genes {gene1_obj.ensembl_id} and {gene2_obj.ensembl_id}\",\n",
    "                    flush=True,\n",
    "                )\n",
    "                print(traceback.format_exc(), flush=True)\n",
    "\n",
    "                gene_corrs.append(np.nan)\n",
    "            except Exception as e:\n",
    "                if not DEBUG_MODE:\n",
    "                    raise e\n",
    "\n",
    "                print(\n",
    "                    f\"Exception for genes {gene1_obj.ensembl_id} and {gene2_obj.ensembl_id}\",\n",
    "                    flush=True,\n",
    "                )\n",
    "                print(traceback.format_exc(), flush=True)\n",
    "\n",
    "                gene_corrs.append(np.nan)\n",
    "\n",
    "            pbar.update(1)\n",
    "\n",
    "# create a pandas series\n",
    "gene_corrs_flat = pd.Series(gene_corrs)\n",
    "\n",
    "# save\n",
    "# FIXME: consider saving only the condenced matrix here. See here for\n",
    "# more details: https://github.com/greenelab/phenoplier/pull/38#discussion_r634600813\n",
    "# gene_corrs_data = squareform(np.array(gene_corrs, dtype=np.float64))\n",
    "# np.fill_diagonal(gene_corrs_data, 1.0)\n",
    "\n",
    "gene_chr_ids = [g.ensembl_id for g in gene_chr_objs]\n",
    "gene_corrs_df = pd.DataFrame(\n",
    "    data=gene_corrs_data,\n",
    "    index=gene_chr_ids,\n",
    "    columns=gene_chr_ids,\n",
    ")\n",
    "\n",
    "output_dir.mkdir(exist_ok=True, parents=True)\n",
    "display(output_file)\n",
    "\n",
    "gene_corrs_df.to_pickle(output_file)"
   ]
  },
  {
   "cell_type": "markdown",
   "id": "faa67b51-5373-470f-aa72-2ded53fa6dfe",
   "metadata": {
    "papermill": {
     "duration": 2.887712,
     "end_time": "2022-08-27T07:10:05.553178",
     "exception": false,
     "start_time": "2022-08-27T07:10:02.665466",
     "status": "completed"
    },
    "tags": []
   },
   "source": [
    "# Testing"
   ]
  },
  {
   "cell_type": "code",
   "execution_count": 30,
   "id": "14f7d046-4b55-4896-a56b-990127bcc388",
   "metadata": {
    "execution": {
     "iopub.execute_input": "2022-08-27T07:10:11.351052Z",
     "iopub.status.busy": "2022-08-27T07:10:11.350771Z",
     "iopub.status.idle": "2022-08-27T07:10:11.606541Z",
     "shell.execute_reply": "2022-08-27T07:10:11.606047Z"
    },
    "papermill": {
     "duration": 3.228762,
     "end_time": "2022-08-27T07:10:11.608026",
     "exception": false,
     "start_time": "2022-08-27T07:10:08.379264",
     "status": "completed"
    },
    "tags": []
   },
   "outputs": [
    {
     "data": {
      "text/plain": [
       "(306, 306)"
      ]
     },
     "execution_count": 30,
     "metadata": {},
     "output_type": "execute_result"
    }
   ],
   "source": [
    "gene_corrs_df.shape"
   ]
  },
  {
   "cell_type": "code",
   "execution_count": 31,
   "id": "c7d15414-3297-4537-a7c6-7588c0baeb75",
   "metadata": {
    "execution": {
     "iopub.execute_input": "2022-08-27T07:10:17.280033Z",
     "iopub.status.busy": "2022-08-27T07:10:17.279760Z",
     "iopub.status.idle": "2022-08-27T07:10:17.315673Z",
     "shell.execute_reply": "2022-08-27T07:10:17.315160Z"
    },
    "papermill": {
     "duration": 2.829703,
     "end_time": "2022-08-27T07:10:17.317187",
     "exception": false,
     "start_time": "2022-08-27T07:10:14.487484",
     "status": "completed"
    },
    "tags": []
   },
   "outputs": [
    {
     "data": {
      "text/html": [
       "<div>\n",
       "<style scoped>\n",
       "    .dataframe tbody tr th:only-of-type {\n",
       "        vertical-align: middle;\n",
       "    }\n",
       "\n",
       "    .dataframe tbody tr th {\n",
       "        vertical-align: top;\n",
       "    }\n",
       "\n",
       "    .dataframe thead th {\n",
       "        text-align: right;\n",
       "    }\n",
       "</style>\n",
       "<table border=\"1\" class=\"dataframe\">\n",
       "  <thead>\n",
       "    <tr style=\"text-align: right;\">\n",
       "      <th></th>\n",
       "      <th>ENSG00000073578</th>\n",
       "      <th>ENSG00000180104</th>\n",
       "      <th>ENSG00000066230</th>\n",
       "      <th>ENSG00000112877</th>\n",
       "      <th>ENSG00000113504</th>\n",
       "      <th>ENSG00000174358</th>\n",
       "      <th>ENSG00000164362</th>\n",
       "      <th>ENSG00000049656</th>\n",
       "      <th>ENSG00000153395</th>\n",
       "      <th>ENSG00000171421</th>\n",
       "      <th>...</th>\n",
       "      <th>ENSG00000161021</th>\n",
       "      <th>ENSG00000161013</th>\n",
       "      <th>ENSG00000161011</th>\n",
       "      <th>ENSG00000050748</th>\n",
       "      <th>ENSG00000131459</th>\n",
       "      <th>ENSG00000113300</th>\n",
       "      <th>ENSG00000037280</th>\n",
       "      <th>ENSG00000131446</th>\n",
       "      <th>ENSG00000113303</th>\n",
       "      <th>ENSG00000165810</th>\n",
       "    </tr>\n",
       "  </thead>\n",
       "  <tbody>\n",
       "    <tr>\n",
       "      <th>ENSG00000073578</th>\n",
       "      <td>1.000000</td>\n",
       "      <td>0.239571</td>\n",
       "      <td>0.162900</td>\n",
       "      <td>0.051667</td>\n",
       "      <td>0.015268</td>\n",
       "      <td>0.012268</td>\n",
       "      <td>0.008419</td>\n",
       "      <td>0.010114</td>\n",
       "      <td>0.013563</td>\n",
       "      <td>0.008446</td>\n",
       "      <td>...</td>\n",
       "      <td>0.008851</td>\n",
       "      <td>0.009531</td>\n",
       "      <td>0.009930</td>\n",
       "      <td>0.011092</td>\n",
       "      <td>0.014091</td>\n",
       "      <td>0.007913</td>\n",
       "      <td>0.011395</td>\n",
       "      <td>0.015369</td>\n",
       "      <td>0.012327</td>\n",
       "      <td>0.008405</td>\n",
       "    </tr>\n",
       "    <tr>\n",
       "      <th>ENSG00000180104</th>\n",
       "      <td>0.239571</td>\n",
       "      <td>1.000000</td>\n",
       "      <td>0.408468</td>\n",
       "      <td>0.093307</td>\n",
       "      <td>0.006041</td>\n",
       "      <td>0.010583</td>\n",
       "      <td>0.007395</td>\n",
       "      <td>0.004405</td>\n",
       "      <td>0.004180</td>\n",
       "      <td>0.006060</td>\n",
       "      <td>...</td>\n",
       "      <td>0.007577</td>\n",
       "      <td>0.003478</td>\n",
       "      <td>0.004978</td>\n",
       "      <td>0.007614</td>\n",
       "      <td>0.008764</td>\n",
       "      <td>0.005807</td>\n",
       "      <td>0.006721</td>\n",
       "      <td>0.006953</td>\n",
       "      <td>0.003056</td>\n",
       "      <td>0.004174</td>\n",
       "    </tr>\n",
       "    <tr>\n",
       "      <th>ENSG00000066230</th>\n",
       "      <td>0.162900</td>\n",
       "      <td>0.408468</td>\n",
       "      <td>1.000000</td>\n",
       "      <td>0.213732</td>\n",
       "      <td>0.013236</td>\n",
       "      <td>0.008794</td>\n",
       "      <td>0.006561</td>\n",
       "      <td>0.009028</td>\n",
       "      <td>0.013473</td>\n",
       "      <td>0.008190</td>\n",
       "      <td>...</td>\n",
       "      <td>0.007653</td>\n",
       "      <td>0.005753</td>\n",
       "      <td>0.007700</td>\n",
       "      <td>0.006731</td>\n",
       "      <td>0.009927</td>\n",
       "      <td>0.004379</td>\n",
       "      <td>0.007381</td>\n",
       "      <td>0.006230</td>\n",
       "      <td>0.002811</td>\n",
       "      <td>0.005943</td>\n",
       "    </tr>\n",
       "    <tr>\n",
       "      <th>ENSG00000112877</th>\n",
       "      <td>0.051667</td>\n",
       "      <td>0.093307</td>\n",
       "      <td>0.213732</td>\n",
       "      <td>1.000000</td>\n",
       "      <td>0.022615</td>\n",
       "      <td>0.007627</td>\n",
       "      <td>0.007430</td>\n",
       "      <td>0.008044</td>\n",
       "      <td>0.011842</td>\n",
       "      <td>0.003048</td>\n",
       "      <td>...</td>\n",
       "      <td>0.008470</td>\n",
       "      <td>0.007707</td>\n",
       "      <td>0.008924</td>\n",
       "      <td>0.009342</td>\n",
       "      <td>0.013724</td>\n",
       "      <td>0.009809</td>\n",
       "      <td>0.011839</td>\n",
       "      <td>0.008700</td>\n",
       "      <td>0.005133</td>\n",
       "      <td>0.005326</td>\n",
       "    </tr>\n",
       "    <tr>\n",
       "      <th>ENSG00000113504</th>\n",
       "      <td>0.015268</td>\n",
       "      <td>0.006041</td>\n",
       "      <td>0.013236</td>\n",
       "      <td>0.022615</td>\n",
       "      <td>1.000000</td>\n",
       "      <td>0.023223</td>\n",
       "      <td>0.009763</td>\n",
       "      <td>0.008337</td>\n",
       "      <td>0.115432</td>\n",
       "      <td>0.008149</td>\n",
       "      <td>...</td>\n",
       "      <td>0.011940</td>\n",
       "      <td>0.004965</td>\n",
       "      <td>0.007881</td>\n",
       "      <td>0.010171</td>\n",
       "      <td>0.011843</td>\n",
       "      <td>0.010911</td>\n",
       "      <td>0.013643</td>\n",
       "      <td>0.009886</td>\n",
       "      <td>0.007719</td>\n",
       "      <td>0.008003</td>\n",
       "    </tr>\n",
       "  </tbody>\n",
       "</table>\n",
       "<p>5 rows × 306 columns</p>\n",
       "</div>"
      ],
      "text/plain": [
       "                 ENSG00000073578  ENSG00000180104  ENSG00000066230  \\\n",
       "ENSG00000073578         1.000000         0.239571         0.162900   \n",
       "ENSG00000180104         0.239571         1.000000         0.408468   \n",
       "ENSG00000066230         0.162900         0.408468         1.000000   \n",
       "ENSG00000112877         0.051667         0.093307         0.213732   \n",
       "ENSG00000113504         0.015268         0.006041         0.013236   \n",
       "\n",
       "                 ENSG00000112877  ENSG00000113504  ENSG00000174358  \\\n",
       "ENSG00000073578         0.051667         0.015268         0.012268   \n",
       "ENSG00000180104         0.093307         0.006041         0.010583   \n",
       "ENSG00000066230         0.213732         0.013236         0.008794   \n",
       "ENSG00000112877         1.000000         0.022615         0.007627   \n",
       "ENSG00000113504         0.022615         1.000000         0.023223   \n",
       "\n",
       "                 ENSG00000164362  ENSG00000049656  ENSG00000153395  \\\n",
       "ENSG00000073578         0.008419         0.010114         0.013563   \n",
       "ENSG00000180104         0.007395         0.004405         0.004180   \n",
       "ENSG00000066230         0.006561         0.009028         0.013473   \n",
       "ENSG00000112877         0.007430         0.008044         0.011842   \n",
       "ENSG00000113504         0.009763         0.008337         0.115432   \n",
       "\n",
       "                 ENSG00000171421  ...  ENSG00000161021  ENSG00000161013  \\\n",
       "ENSG00000073578         0.008446  ...         0.008851         0.009531   \n",
       "ENSG00000180104         0.006060  ...         0.007577         0.003478   \n",
       "ENSG00000066230         0.008190  ...         0.007653         0.005753   \n",
       "ENSG00000112877         0.003048  ...         0.008470         0.007707   \n",
       "ENSG00000113504         0.008149  ...         0.011940         0.004965   \n",
       "\n",
       "                 ENSG00000161011  ENSG00000050748  ENSG00000131459  \\\n",
       "ENSG00000073578         0.009930         0.011092         0.014091   \n",
       "ENSG00000180104         0.004978         0.007614         0.008764   \n",
       "ENSG00000066230         0.007700         0.006731         0.009927   \n",
       "ENSG00000112877         0.008924         0.009342         0.013724   \n",
       "ENSG00000113504         0.007881         0.010171         0.011843   \n",
       "\n",
       "                 ENSG00000113300  ENSG00000037280  ENSG00000131446  \\\n",
       "ENSG00000073578         0.007913         0.011395         0.015369   \n",
       "ENSG00000180104         0.005807         0.006721         0.006953   \n",
       "ENSG00000066230         0.004379         0.007381         0.006230   \n",
       "ENSG00000112877         0.009809         0.011839         0.008700   \n",
       "ENSG00000113504         0.010911         0.013643         0.009886   \n",
       "\n",
       "                 ENSG00000113303  ENSG00000165810  \n",
       "ENSG00000073578         0.012327         0.008405  \n",
       "ENSG00000180104         0.003056         0.004174  \n",
       "ENSG00000066230         0.002811         0.005943  \n",
       "ENSG00000112877         0.005133         0.005326  \n",
       "ENSG00000113504         0.007719         0.008003  \n",
       "\n",
       "[5 rows x 306 columns]"
      ]
     },
     "execution_count": 31,
     "metadata": {},
     "output_type": "execute_result"
    }
   ],
   "source": [
    "gene_corrs_df.head()"
   ]
  },
  {
   "cell_type": "markdown",
   "id": "dad6603f-01c6-41fb-a6f6-241051207dd8",
   "metadata": {
    "papermill": {
     "duration": 2.946778,
     "end_time": "2022-08-27T07:10:23.164161",
     "exception": false,
     "start_time": "2022-08-27T07:10:20.217383",
     "status": "completed"
    },
    "tags": []
   },
   "source": [
    "## Standard checks and stats"
   ]
  },
  {
   "cell_type": "code",
   "execution_count": 32,
   "id": "286686af-1b7b-4440-8453-6bdcbd8de19c",
   "metadata": {
    "execution": {
     "iopub.execute_input": "2022-08-27T07:10:28.877700Z",
     "iopub.status.busy": "2022-08-27T07:10:28.877434Z",
     "iopub.status.idle": "2022-08-27T07:10:28.897566Z",
     "shell.execute_reply": "2022-08-27T07:10:28.897061Z"
    },
    "papermill": {
     "duration": 2.843306,
     "end_time": "2022-08-27T07:10:28.899183",
     "exception": false,
     "start_time": "2022-08-27T07:10:26.055877",
     "status": "completed"
    },
    "tags": []
   },
   "outputs": [],
   "source": [
    "assert not gene_corrs_df.isna().any().any()"
   ]
  },
  {
   "cell_type": "code",
   "execution_count": 33,
   "id": "00583efc-7068-4270-ad1e-4a418e91db96",
   "metadata": {
    "execution": {
     "iopub.execute_input": "2022-08-27T07:10:34.708724Z",
     "iopub.status.busy": "2022-08-27T07:10:34.708464Z",
     "iopub.status.idle": "2022-08-27T07:10:34.731080Z",
     "shell.execute_reply": "2022-08-27T07:10:34.730567Z"
    },
    "papermill": {
     "duration": 2.908769,
     "end_time": "2022-08-27T07:10:34.732552",
     "exception": false,
     "start_time": "2022-08-27T07:10:31.823783",
     "status": "completed"
    },
    "tags": []
   },
   "outputs": [
    {
     "data": {
      "text/plain": [
       "5.660295774762319e-09"
      ]
     },
     "metadata": {},
     "output_type": "display_data"
    }
   ],
   "source": [
    "_min_val = gene_corrs_df.min().min()\n",
    "display(_min_val)\n",
    "assert _min_val >= -0.05"
   ]
  },
  {
   "cell_type": "code",
   "execution_count": 34,
   "id": "d04fb2cf-1050-475b-b855-f5f7cc04092b",
   "metadata": {
    "execution": {
     "iopub.execute_input": "2022-08-27T07:10:40.444091Z",
     "iopub.status.busy": "2022-08-27T07:10:40.443815Z",
     "iopub.status.idle": "2022-08-27T07:10:40.466263Z",
     "shell.execute_reply": "2022-08-27T07:10:40.465745Z"
    },
    "papermill": {
     "duration": 2.877731,
     "end_time": "2022-08-27T07:10:40.467772",
     "exception": false,
     "start_time": "2022-08-27T07:10:37.590041",
     "status": "completed"
    },
    "tags": []
   },
   "outputs": [
    {
     "data": {
      "text/plain": [
       "1.0000000000000022"
      ]
     },
     "metadata": {},
     "output_type": "display_data"
    }
   ],
   "source": [
    "_max_val = gene_corrs_df.max().max()  # this captures the diagonal\n",
    "display(_max_val)\n",
    "assert _max_val <= 1.05"
   ]
  },
  {
   "cell_type": "code",
   "execution_count": 35,
   "id": "96d02c44-1fba-47be-8a93-8f2608420b9c",
   "metadata": {
    "execution": {
     "iopub.execute_input": "2022-08-27T07:10:46.303368Z",
     "iopub.status.busy": "2022-08-27T07:10:46.303096Z",
     "iopub.status.idle": "2022-08-27T07:10:46.324292Z",
     "shell.execute_reply": "2022-08-27T07:10:46.323778Z"
    },
    "papermill": {
     "duration": 2.925321,
     "end_time": "2022-08-27T07:10:46.325908",
     "exception": false,
     "start_time": "2022-08-27T07:10:43.400587",
     "status": "completed"
    },
    "tags": []
   },
   "outputs": [],
   "source": [
    "# check upper triangular values\n",
    "# assert len(gene_corrs) == int(genes_chr.shape[0] * (genes_chr.shape[0] - 1) / 2)"
   ]
  },
  {
   "cell_type": "code",
   "execution_count": 36,
   "id": "fe283586-c348-40e0-8841-f6d97bfb021c",
   "metadata": {
    "execution": {
     "iopub.execute_input": "2022-08-27T07:10:52.073324Z",
     "iopub.status.busy": "2022-08-27T07:10:52.073051Z",
     "iopub.status.idle": "2022-08-27T07:10:52.098985Z",
     "shell.execute_reply": "2022-08-27T07:10:52.098457Z"
    },
    "papermill": {
     "duration": 2.953515,
     "end_time": "2022-08-27T07:10:52.100601",
     "exception": false,
     "start_time": "2022-08-27T07:10:49.147086",
     "status": "completed"
    },
    "tags": []
   },
   "outputs": [
    {
     "data": {
      "text/plain": [
       "count    4.697100e+04\n",
       "mean     1.465899e-02\n",
       "std      8.486581e-02\n",
       "min      5.660296e-09\n",
       "25%      3.979976e-03\n",
       "50%      5.987490e-03\n",
       "75%      8.262904e-03\n",
       "max      1.000000e+00\n",
       "dtype: float64"
      ]
     },
     "execution_count": 36,
     "metadata": {},
     "output_type": "execute_result"
    }
   ],
   "source": [
    "gene_corrs_flat.describe()"
   ]
  },
  {
   "cell_type": "code",
   "execution_count": 37,
   "id": "b3815678-0f93-4b35-897b-a9d047a2aa78",
   "metadata": {
    "execution": {
     "iopub.execute_input": "2022-08-27T07:10:57.819304Z",
     "iopub.status.busy": "2022-08-27T07:10:57.819036Z",
     "iopub.status.idle": "2022-08-27T07:10:57.843396Z",
     "shell.execute_reply": "2022-08-27T07:10:57.842887Z"
    },
    "papermill": {
     "duration": 2.815618,
     "end_time": "2022-08-27T07:10:57.844897",
     "exception": false,
     "start_time": "2022-08-27T07:10:55.029279",
     "status": "completed"
    },
    "tags": []
   },
   "outputs": [
    {
     "data": {
      "text/plain": [
       "0.00    5.660296e-09\n",
       "0.05    1.612442e-03\n",
       "0.10    2.389741e-03\n",
       "0.15    2.993666e-03\n",
       "0.20    3.513559e-03\n",
       "0.25    3.979976e-03\n",
       "0.30    4.411026e-03\n",
       "0.35    4.813319e-03\n",
       "0.40    5.210947e-03\n",
       "0.45    5.582790e-03\n",
       "0.50    5.987490e-03\n",
       "0.55    6.396390e-03\n",
       "0.60    6.807761e-03\n",
       "0.65    7.255113e-03\n",
       "0.70    7.722775e-03\n",
       "0.75    8.262904e-03\n",
       "0.80    8.887740e-03\n",
       "0.85    9.642841e-03\n",
       "0.90    1.065931e-02\n",
       "0.95    1.242223e-02\n",
       "dtype: float64"
      ]
     },
     "metadata": {},
     "output_type": "display_data"
    }
   ],
   "source": [
    "gene_corrs_quantiles = gene_corrs_flat.quantile(np.arange(0, 1, 0.05))\n",
    "display(gene_corrs_quantiles)"
   ]
  },
  {
   "cell_type": "markdown",
   "id": "87134509-b145-4a10-8bc9-b7e914c2b0fa",
   "metadata": {
    "papermill": {
     "duration": 2.917754,
     "end_time": "2022-08-27T07:11:03.639074",
     "exception": false,
     "start_time": "2022-08-27T07:11:00.721320",
     "status": "completed"
    },
    "tags": []
   },
   "source": [
    "## Positive definiteness"
   ]
  },
  {
   "cell_type": "code",
   "execution_count": 38,
   "id": "07d9a9a1-a4f7-48aa-b916-6d42a8cc6186",
   "metadata": {
    "execution": {
     "iopub.execute_input": "2022-08-27T07:11:09.309653Z",
     "iopub.status.busy": "2022-08-27T07:11:09.309385Z",
     "iopub.status.idle": "2022-08-27T07:11:09.362445Z",
     "shell.execute_reply": "2022-08-27T07:11:09.361948Z"
    },
    "papermill": {
     "duration": 2.853863,
     "end_time": "2022-08-27T07:11:09.363950",
     "exception": false,
     "start_time": "2022-08-27T07:11:06.510087",
     "status": "completed"
    },
    "tags": []
   },
   "outputs": [
    {
     "data": {
      "text/plain": [
       "0"
      ]
     },
     "metadata": {},
     "output_type": "display_data"
    },
    {
     "data": {
      "text/plain": [
       "array([], dtype=float64)"
      ]
     },
     "metadata": {},
     "output_type": "display_data"
    }
   ],
   "source": [
    "# print negative eigenvalues\n",
    "eigs = np.linalg.eigvals(gene_corrs_df.to_numpy())\n",
    "display(len(eigs[eigs < 0]))\n",
    "display(eigs[eigs < 0])"
   ]
  },
  {
   "cell_type": "code",
   "execution_count": 39,
   "id": "6e218436-c3c5-4028-8c94-a4fa6260efce",
   "metadata": {
    "execution": {
     "iopub.execute_input": "2022-08-27T07:11:15.161852Z",
     "iopub.status.busy": "2022-08-27T07:11:15.161584Z",
     "iopub.status.idle": "2022-08-27T07:11:15.362366Z",
     "shell.execute_reply": "2022-08-27T07:11:15.361817Z"
    },
    "papermill": {
     "duration": 3.087959,
     "end_time": "2022-08-27T07:11:15.363875",
     "exception": false,
     "start_time": "2022-08-27T07:11:12.275916",
     "status": "completed"
    },
    "tags": []
   },
   "outputs": [
    {
     "name": "stdout",
     "output_type": "stream",
     "text": [
      "Works!\n"
     ]
    }
   ],
   "source": [
    "try:\n",
    "    chol_mat = np.linalg.cholesky(gene_corrs_df.to_numpy())\n",
    "    cov_inv = np.linalg.inv(chol_mat)\n",
    "    print(\"Works!\")\n",
    "except Exception as e:\n",
    "    print(f\"Cholesky decomposition failed: {str(e)}\")"
   ]
  },
  {
   "cell_type": "code",
   "execution_count": 40,
   "id": "dd8827fb-faf9-4c7c-9454-015e94752706",
   "metadata": {
    "execution": {
     "iopub.execute_input": "2022-08-27T07:11:20.987581Z",
     "iopub.status.busy": "2022-08-27T07:11:20.987314Z",
     "iopub.status.idle": "2022-08-27T07:11:21.017398Z",
     "shell.execute_reply": "2022-08-27T07:11:21.016880Z"
    },
    "papermill": {
     "duration": 2.876785,
     "end_time": "2022-08-27T07:11:21.018909",
     "exception": false,
     "start_time": "2022-08-27T07:11:18.142124",
     "status": "completed"
    },
    "tags": []
   },
   "outputs": [
    {
     "name": "stdout",
     "output_type": "stream",
     "text": [
      "Works!\n"
     ]
    }
   ],
   "source": [
    "try:\n",
    "    # decomposition used by statsmodels.GLS\n",
    "    cholsigmainv = np.linalg.cholesky(np.linalg.inv(gene_corrs_df.to_numpy())).T\n",
    "    print(\"Works!\")\n",
    "except Exception as e:\n",
    "    print(f\"Cholesky decomposition failed (statsmodels.GLS): {str(e)}\")"
   ]
  },
  {
   "cell_type": "markdown",
   "id": "8e60a080-edb2-4e9c-b2ef-22961693200c",
   "metadata": {
    "papermill": {
     "duration": 2.869148,
     "end_time": "2022-08-27T07:11:26.802701",
     "exception": false,
     "start_time": "2022-08-27T07:11:23.933553",
     "status": "completed"
    },
    "tags": []
   },
   "source": [
    "## Plot: distribution"
   ]
  },
  {
   "cell_type": "code",
   "execution_count": 41,
   "id": "8301126b-a7d4-4744-9c7d-f0f86eb6f54c",
   "metadata": {
    "execution": {
     "iopub.execute_input": "2022-08-27T07:11:32.515706Z",
     "iopub.status.busy": "2022-08-27T07:11:32.515439Z",
     "iopub.status.idle": "2022-08-27T07:11:40.367388Z",
     "shell.execute_reply": "2022-08-27T07:11:40.366672Z"
    },
    "papermill": {
     "duration": 10.770644,
     "end_time": "2022-08-27T07:11:40.369114",
     "exception": false,
     "start_time": "2022-08-27T07:11:29.598470",
     "status": "completed"
    },
    "tags": []
   },
   "outputs": [
    {
     "data": {
      "image/png": "[encoded data removed]",
      "text/plain": [
       "<Figure size 504x504 with 1 Axes>"
      ]
     },
     "metadata": {
      "needs_background": "light"
     },
     "output_type": "display_data"
    }
   ],
   "source": [
    "with sns.plotting_context(\"paper\", font_scale=1.5):\n",
    "    g = sns.displot(gene_corrs_flat, kde=True, height=7)\n",
    "    g.ax.set_title(\n",
    "        f\"Distribution of gene correlation values in chromosome {CHROMOSOME}\"\n",
    "    )"
   ]
  },
  {
   "cell_type": "markdown",
   "id": "cbd52bca-d878-4a2f-b684-5c83aa3038d4",
   "metadata": {
    "papermill": {
     "duration": 2.847673,
     "end_time": "2022-08-27T07:11:46.088004",
     "exception": false,
     "start_time": "2022-08-27T07:11:43.240331",
     "status": "completed"
    },
    "tags": []
   },
   "source": [
    "## Plot: heatmap"
   ]
  },
  {
   "cell_type": "code",
   "execution_count": 42,
   "id": "d03fe63a-c7b2-4fb9-a53c-db362ce843c9",
   "metadata": {
    "execution": {
     "iopub.execute_input": "2022-08-27T07:11:51.849855Z",
     "iopub.status.busy": "2022-08-27T07:11:51.849571Z",
     "iopub.status.idle": "2022-08-27T07:11:51.876157Z",
     "shell.execute_reply": "2022-08-27T07:11:51.875642Z"
    },
    "papermill": {
     "duration": 2.935097,
     "end_time": "2022-08-27T07:11:51.877676",
     "exception": false,
     "start_time": "2022-08-27T07:11:48.942579",
     "status": "completed"
    },
    "tags": []
   },
   "outputs": [
    {
     "data": {
      "text/plain": [
       "'0.0 / 0.05'"
      ]
     },
     "metadata": {},
     "output_type": "display_data"
    }
   ],
   "source": [
    "vmin_val = min(0.00, gene_corrs_quantiles[0.10])\n",
    "vmax_val = max(0.05, gene_corrs_quantiles[0.90])\n",
    "display(f\"{vmin_val} / {vmax_val}\")"
   ]
  },
  {
   "cell_type": "code",
   "execution_count": 43,
   "id": "dc41b70b-5bcc-4d9e-9f33-a22c4a94dab5",
   "metadata": {
    "execution": {
     "iopub.execute_input": "2022-08-27T07:11:57.628946Z",
     "iopub.status.busy": "2022-08-27T07:11:57.628673Z",
     "iopub.status.idle": "2022-08-27T07:11:57.903019Z",
     "shell.execute_reply": "2022-08-27T07:11:57.902457Z"
    },
    "papermill": {
     "duration": 3.140509,
     "end_time": "2022-08-27T07:11:57.904757",
     "exception": false,
     "start_time": "2022-08-27T07:11:54.764248",
     "status": "completed"
    },
    "tags": []
   },
   "outputs": [
    {
     "data": {
      "text/plain": [
       "Text(0.5, 1.0, 'Gene correlations in chromosome 5')"
      ]
     },
     "execution_count": 43,
     "metadata": {},
     "output_type": "execute_result"
    },
    {
     "data": {
      "image/png": "[encoded data removed]",
      "text/plain": [
       "<Figure size 720x720 with 2 Axes>"
      ]
     },
     "metadata": {
      "needs_background": "light"
     },
     "output_type": "display_data"
    }
   ],
   "source": [
    "f, ax = plt.subplots(figsize=(10, 10))\n",
    "sns.heatmap(\n",
    "    gene_corrs_df,\n",
    "    xticklabels=False,\n",
    "    yticklabels=False,\n",
    "    square=True,\n",
    "    vmin=vmin_val,\n",
    "    vmax=vmax_val,\n",
    "    cmap=\"rocket_r\",\n",
    "    ax=ax,\n",
    ")\n",
    "ax.set_title(f\"Gene correlations in chromosome {CHROMOSOME}\")"
   ]
  },
  {
   "cell_type": "code",
   "execution_count": null,
   "id": "b25e3ead",
   "metadata": {
    "papermill": {
     "duration": 2.859123,
     "end_time": "2022-08-27T07:12:03.684575",
     "exception": false,
     "start_time": "2022-08-27T07:12:00.825452",
     "status": "completed"
    },
    "tags": []
   },
   "outputs": [],
   "source": []
  }
 ],
 "metadata": {
  "jupytext": {
   "cell_metadata_filter": "all,-execution,-papermill,-trusted",
   "formats": "ipynb,py//py:percent"
  },
  "kernelspec": {
   "display_name": "Python 3 (ipykernel)",
   "language": "python",
   "name": "python3"
  },
  "language_info": {
   "codemirror_mode": {
    "name": "ipython",
    "version": 3
   },
   "file_extension": ".py",
   "mimetype": "text/x-python",
   "name": "python",
   "nbconvert_exporter": "python",
   "pygments_lexer": "ipython3",
   "version": "3.8.13"
  },
  "papermill": {
   "default_parameters": {},
   "duration": 4252.651305,
   "end_time": "2022-08-27T07:12:09.487808",
   "environment_variables": {},
   "exception": null,
   "input_path": "nbs/15_gsa_gls/10-gene_expr_correlations.ipynb",
   "output_path": "nbs/15_gsa_gls/gene_corrs/cohorts/phenomexcan_astle/gtex_v8/mashr/10-gene_expr_corrs/10-gene_expr_correlations-chr5.run.ipynb",
   "parameters": {
    "CHROMOSOME": 5,
    "COHORT_NAME": "phenomexcan_astle",
    "EQTL_MODEL": "MASHR",
    "REFERENCE_PANEL": "GTEX_V8"
   },
   "start_time": "2022-08-27T06:01:16.836503",
   "version": "2.2.2"
  }
 },
 "nbformat": 4,
 "nbformat_minor": 5
}
