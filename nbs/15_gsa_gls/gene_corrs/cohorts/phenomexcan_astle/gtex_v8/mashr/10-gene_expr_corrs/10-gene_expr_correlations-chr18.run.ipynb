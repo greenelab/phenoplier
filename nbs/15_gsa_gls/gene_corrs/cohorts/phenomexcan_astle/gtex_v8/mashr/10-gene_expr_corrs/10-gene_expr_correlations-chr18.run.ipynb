{
 "cells": [
  {
   "cell_type": "markdown",
   "id": "7a6632fb",
   "metadata": {
    "papermill": {
     "duration": 0.020341,
     "end_time": "2022-08-27T06:01:19.258179",
     "exception": false,
     "start_time": "2022-08-27T06:01:19.237838",
     "status": "completed"
    },
    "tags": []
   },
   "source": [
    "# Description"
   ]
  },
  {
   "cell_type": "markdown",
   "id": "7097c346",
   "metadata": {
    "papermill": {
     "duration": 0.013972,
     "end_time": "2022-08-27T06:01:19.288022",
     "exception": false,
     "start_time": "2022-08-27T06:01:19.274050",
     "status": "completed"
    },
    "tags": []
   },
   "source": [
    "(Please, take a look at the README.md file in this directory for instructions on how to run this notebook)\n",
    "\n",
    "This notebook computes predicted expression correlations between all genes in the MultiPLIER models.\n",
    "\n",
    "It also has a parameter set for papermill to run on a single chromosome to run in parallel (see under `Settings` below).\n",
    "\n",
    "This notebook is not directly run. See README.md."
   ]
  },
  {
   "cell_type": "markdown",
   "id": "c61d8427",
   "metadata": {
    "papermill": {
     "duration": 0.012792,
     "end_time": "2022-08-27T06:01:19.313970",
     "exception": false,
     "start_time": "2022-08-27T06:01:19.301178",
     "status": "completed"
    },
    "tags": []
   },
   "source": [
    "# Modules"
   ]
  },
  {
   "cell_type": "code",
   "execution_count": 1,
   "id": "bbc0234f",
   "metadata": {
    "execution": {
     "iopub.execute_input": "2022-08-27T06:01:19.341109Z",
     "iopub.status.busy": "2022-08-27T06:01:19.340784Z",
     "iopub.status.idle": "2022-08-27T06:01:19.366585Z",
     "shell.execute_reply": "2022-08-27T06:01:19.366004Z"
    },
    "papermill": {
     "duration": 0.0426,
     "end_time": "2022-08-27T06:01:19.368762",
     "exception": false,
     "start_time": "2022-08-27T06:01:19.326162",
     "status": "completed"
    },
    "tags": []
   },
   "outputs": [],
   "source": [
    "%load_ext autoreload\n",
    "%autoreload 2"
   ]
  },
  {
   "cell_type": "code",
   "execution_count": 2,
   "id": "1d5f5a59",
   "metadata": {
    "execution": {
     "iopub.execute_input": "2022-08-27T06:01:19.392266Z",
     "iopub.status.busy": "2022-08-27T06:01:19.392046Z",
     "iopub.status.idle": "2022-08-27T06:01:21.109817Z",
     "shell.execute_reply": "2022-08-27T06:01:21.109327Z"
    },
    "papermill": {
     "duration": 1.732136,
     "end_time": "2022-08-27T06:01:21.111596",
     "exception": false,
     "start_time": "2022-08-27T06:01:19.379460",
     "status": "completed"
    },
    "tags": []
   },
   "outputs": [],
   "source": [
    "from random import sample, seed\n",
    "import warnings\n",
    "from pathlib import Path\n",
    "import pickle\n",
    "import traceback\n",
    "\n",
    "import numpy as np\n",
    "from scipy.spatial.distance import squareform\n",
    "import pandas as pd\n",
    "from tqdm import tqdm\n",
    "import matplotlib.pyplot as plt\n",
    "import seaborn as sns\n",
    "\n",
    "import conf\n",
    "from entity import Gene"
   ]
  },
  {
   "cell_type": "markdown",
   "id": "1eac24b5",
   "metadata": {
    "papermill": {
     "duration": 0.010799,
     "end_time": "2022-08-27T06:01:21.190170",
     "exception": false,
     "start_time": "2022-08-27T06:01:21.179371",
     "status": "completed"
    },
    "tags": []
   },
   "source": [
    "# Settings"
   ]
  },
  {
   "cell_type": "code",
   "execution_count": 3,
   "id": "ca4560ba",
   "metadata": {
    "execution": {
     "iopub.execute_input": "2022-08-27T06:01:21.212523Z",
     "iopub.status.busy": "2022-08-27T06:01:21.212285Z",
     "iopub.status.idle": "2022-08-27T06:01:21.231790Z",
     "shell.execute_reply": "2022-08-27T06:01:21.231381Z"
    },
    "papermill": {
     "duration": 0.029661,
     "end_time": "2022-08-27T06:01:21.233124",
     "exception": false,
     "start_time": "2022-08-27T06:01:21.203463",
     "status": "completed"
    },
    "tags": [
     "parameters"
    ]
   },
   "outputs": [],
   "source": [
    "# a cohort name (it could be something like UK_BIOBANK, etc)\n",
    "COHORT_NAME = None\n",
    "\n",
    "# reference panel such as 1000G or GTEX_V8\n",
    "REFERENCE_PANEL = None\n",
    "\n",
    "# predictions models such as MASHR or ELASTIC_NET\n",
    "EQTL_MODEL = None\n",
    "\n",
    "# this is the default value used in S-MultiXcan to select the\n",
    "# top principal components of the expression correlation matrix\n",
    "SMULTIXCAN_CONDITION_NUMBER = 30\n",
    "\n",
    "# specifies a single chromosome value\n",
    "CHROMOSOME = None\n",
    "\n",
    "# If True, computes the correlation between closeby genes only;\n",
    "# otherwise, it computes correlations for all genes in a chromosome\n",
    "COMPUTE_CORRELATIONS_WITHIN_DISTANCE = False\n",
    "\n",
    "# if True, then it will continue if a gene pair correlation fails,\n",
    "# printing the warning/error for debugging. If False, any warning/error\n",
    "# will be thrown\n",
    "DEBUG_MODE = False"
   ]
  },
  {
   "cell_type": "code",
   "execution_count": 4,
   "id": "8ad35c34",
   "metadata": {
    "execution": {
     "iopub.execute_input": "2022-08-27T06:01:21.248485Z",
     "iopub.status.busy": "2022-08-27T06:01:21.248310Z",
     "iopub.status.idle": "2022-08-27T06:01:21.264865Z",
     "shell.execute_reply": "2022-08-27T06:01:21.264484Z"
    },
    "papermill": {
     "duration": 0.025648,
     "end_time": "2022-08-27T06:01:21.266208",
     "exception": false,
     "start_time": "2022-08-27T06:01:21.240560",
     "status": "completed"
    },
    "tags": [
     "injected-parameters"
    ]
   },
   "outputs": [],
   "source": [
    "# Parameters\n",
    "COHORT_NAME = \"phenomexcan_astle\"\n",
    "REFERENCE_PANEL = \"GTEX_V8\"\n",
    "EQTL_MODEL = \"MASHR\"\n",
    "CHROMOSOME = 18\n"
   ]
  },
  {
   "cell_type": "code",
   "execution_count": 5,
   "id": "3190631f-27fc-480f-b18e-571d580425a5",
   "metadata": {
    "execution": {
     "iopub.execute_input": "2022-08-27T06:01:21.287366Z",
     "iopub.status.busy": "2022-08-27T06:01:21.287206Z",
     "iopub.status.idle": "2022-08-27T06:01:21.305695Z",
     "shell.execute_reply": "2022-08-27T06:01:21.305325Z"
    },
    "papermill": {
     "duration": 0.030978,
     "end_time": "2022-08-27T06:01:21.306842",
     "exception": false,
     "start_time": "2022-08-27T06:01:21.275864",
     "status": "completed"
    },
    "tags": []
   },
   "outputs": [
    {
     "data": {
      "text/plain": [
       "'Cohort name: phenomexcan_astle'"
      ]
     },
     "metadata": {},
     "output_type": "display_data"
    }
   ],
   "source": [
    "assert COHORT_NAME is not None and len(COHORT_NAME) > 0, \"A cohort name must be given\"\n",
    "\n",
    "COHORT_NAME = COHORT_NAME.lower()\n",
    "display(f\"Cohort name: {COHORT_NAME}\")"
   ]
  },
  {
   "cell_type": "code",
   "execution_count": 6,
   "id": "f53ba19b-0f93-4fa2-a047-63b375939d1a",
   "metadata": {
    "execution": {
     "iopub.execute_input": "2022-08-27T06:01:21.347846Z",
     "iopub.status.busy": "2022-08-27T06:01:21.347676Z",
     "iopub.status.idle": "2022-08-27T06:01:21.364616Z",
     "shell.execute_reply": "2022-08-27T06:01:21.364223Z"
    },
    "papermill": {
     "duration": 0.04876,
     "end_time": "2022-08-27T06:01:21.365834",
     "exception": false,
     "start_time": "2022-08-27T06:01:21.317074",
     "status": "completed"
    },
    "tags": []
   },
   "outputs": [
    {
     "data": {
      "text/plain": [
       "'Reference panel: GTEX_V8'"
      ]
     },
     "metadata": {},
     "output_type": "display_data"
    }
   ],
   "source": [
    "assert (\n",
    "    REFERENCE_PANEL is not None and len(REFERENCE_PANEL) > 0\n",
    "), \"A reference panel must be given\"\n",
    "\n",
    "display(f\"Reference panel: {REFERENCE_PANEL}\")"
   ]
  },
  {
   "cell_type": "code",
   "execution_count": 7,
   "id": "e024d130-c139-429a-9c6e-ccf149e297b0",
   "metadata": {
    "execution": {
     "iopub.execute_input": "2022-08-27T06:01:21.382436Z",
     "iopub.status.busy": "2022-08-27T06:01:21.382265Z",
     "iopub.status.idle": "2022-08-27T06:01:21.399191Z",
     "shell.execute_reply": "2022-08-27T06:01:21.398833Z"
    },
    "papermill": {
     "duration": 0.026639,
     "end_time": "2022-08-27T06:01:21.400322",
     "exception": false,
     "start_time": "2022-08-27T06:01:21.373683",
     "status": "completed"
    },
    "tags": []
   },
   "outputs": [
    {
     "data": {
      "text/plain": [
       "'eQTL model: MASHR) / mashr_'"
      ]
     },
     "metadata": {},
     "output_type": "display_data"
    }
   ],
   "source": [
    "assert (\n",
    "    EQTL_MODEL is not None and len(EQTL_MODEL) > 0\n",
    "), \"A prediction/eQTL model must be given\"\n",
    "\n",
    "EQTL_MODEL_FILES_PREFIX = conf.PHENOMEXCAN[\"PREDICTION_MODELS\"][f\"{EQTL_MODEL}_PREFIX\"]\n",
    "display(f\"eQTL model: {EQTL_MODEL}) / {EQTL_MODEL_FILES_PREFIX}\")"
   ]
  },
  {
   "cell_type": "code",
   "execution_count": 8,
   "id": "552a7f63-a18c-4d3e-bb6a-94f99b431291",
   "metadata": {
    "execution": {
     "iopub.execute_input": "2022-08-27T06:01:21.427420Z",
     "iopub.status.busy": "2022-08-27T06:01:21.427261Z",
     "iopub.status.idle": "2022-08-27T06:01:21.443847Z",
     "shell.execute_reply": "2022-08-27T06:01:21.443480Z"
    },
    "papermill": {
     "duration": 0.030692,
     "end_time": "2022-08-27T06:01:21.444997",
     "exception": false,
     "start_time": "2022-08-27T06:01:21.414305",
     "status": "completed"
    },
    "tags": []
   },
   "outputs": [
    {
     "data": {
      "text/plain": [
       "'S-MultiXcan condition number: 30'"
      ]
     },
     "metadata": {},
     "output_type": "display_data"
    }
   ],
   "source": [
    "assert (\n",
    "    SMULTIXCAN_CONDITION_NUMBER is not None and SMULTIXCAN_CONDITION_NUMBER > 0\n",
    "), \"The S-MultiXcan condition number (positive integer) must be given\"\n",
    "\n",
    "display(f\"S-MultiXcan condition number: {SMULTIXCAN_CONDITION_NUMBER}\")"
   ]
  },
  {
   "cell_type": "code",
   "execution_count": 9,
   "id": "f34a336f-548e-4afe-8955-90eaea4f42c6",
   "metadata": {
    "execution": {
     "iopub.execute_input": "2022-08-27T06:01:21.474159Z",
     "iopub.status.busy": "2022-08-27T06:01:21.474001Z",
     "iopub.status.idle": "2022-08-27T06:01:21.490760Z",
     "shell.execute_reply": "2022-08-27T06:01:21.490395Z"
    },
    "papermill": {
     "duration": 0.033579,
     "end_time": "2022-08-27T06:01:21.491899",
     "exception": false,
     "start_time": "2022-08-27T06:01:21.458320",
     "status": "completed"
    },
    "tags": []
   },
   "outputs": [
    {
     "data": {
      "text/plain": [
       "'Working on chromosome 18'"
      ]
     },
     "metadata": {},
     "output_type": "display_data"
    }
   ],
   "source": [
    "assert CHROMOSOME is not None and (\n",
    "    1 <= CHROMOSOME <= 22\n",
    "), \"You have to select one chromosome (format: number between 1 and 22)\"\n",
    "\n",
    "# CHROMOSOME = str(CHROMOSOME)\n",
    "display(f\"Working on chromosome {CHROMOSOME}\")"
   ]
  },
  {
   "cell_type": "code",
   "execution_count": 10,
   "id": "ab8e96e8-06b5-4363-9dcd-dc4d78cc27f7",
   "metadata": {
    "execution": {
     "iopub.execute_input": "2022-08-27T06:01:21.546910Z",
     "iopub.status.busy": "2022-08-27T06:01:21.546742Z",
     "iopub.status.idle": "2022-08-27T06:01:21.563350Z",
     "shell.execute_reply": "2022-08-27T06:01:21.562991Z"
    },
    "papermill": {
     "duration": 0.050306,
     "end_time": "2022-08-27T06:01:21.564489",
     "exception": false,
     "start_time": "2022-08-27T06:01:21.514183",
     "status": "completed"
    },
    "tags": []
   },
   "outputs": [
    {
     "data": {
      "text/plain": [
       "'Compute correlation within distance False'"
      ]
     },
     "metadata": {},
     "output_type": "display_data"
    }
   ],
   "source": [
    "display(f\"Compute correlation within distance {COMPUTE_CORRELATIONS_WITHIN_DISTANCE}\")"
   ]
  },
  {
   "cell_type": "code",
   "execution_count": 11,
   "id": "396392dc-0340-4540-9b02-e182b833f909",
   "metadata": {
    "execution": {
     "iopub.execute_input": "2022-08-27T06:01:21.610446Z",
     "iopub.status.busy": "2022-08-27T06:01:21.610279Z",
     "iopub.status.idle": "2022-08-27T06:01:21.651250Z",
     "shell.execute_reply": "2022-08-27T06:01:21.650879Z"
    },
    "papermill": {
     "duration": 0.06518,
     "end_time": "2022-08-27T06:01:21.652417",
     "exception": false,
     "start_time": "2022-08-27T06:01:21.587237",
     "status": "completed"
    },
    "tags": []
   },
   "outputs": [
    {
     "data": {
      "text/plain": [
       "'Using output dir base: /project/ritchie20/projects/phenoplier/base/results/gls/gene_corrs/cohorts/phenomexcan_astle/gtex_v8/mashr'"
      ]
     },
     "metadata": {},
     "output_type": "display_data"
    }
   ],
   "source": [
    "OUTPUT_DIR_BASE = (\n",
    "    conf.RESULTS[\"GLS\"]\n",
    "    / \"gene_corrs\"\n",
    "    / \"cohorts\"\n",
    "    / COHORT_NAME\n",
    "    / REFERENCE_PANEL.lower()\n",
    "    / EQTL_MODEL.lower()\n",
    ")\n",
    "OUTPUT_DIR_BASE.mkdir(parents=True, exist_ok=True)\n",
    "\n",
    "display(f\"Using output dir base: {OUTPUT_DIR_BASE}\")"
   ]
  },
  {
   "cell_type": "markdown",
   "id": "d2ba085e",
   "metadata": {
    "papermill": {
     "duration": 0.02686,
     "end_time": "2022-08-27T06:01:21.704844",
     "exception": false,
     "start_time": "2022-08-27T06:01:21.677984",
     "status": "completed"
    },
    "tags": []
   },
   "source": [
    "# Load data"
   ]
  },
  {
   "cell_type": "markdown",
   "id": "7dcb8db7",
   "metadata": {
    "papermill": {
     "duration": 0.025943,
     "end_time": "2022-08-27T06:01:21.748780",
     "exception": false,
     "start_time": "2022-08-27T06:01:21.722837",
     "status": "completed"
    },
    "tags": []
   },
   "source": [
    "## GWAS variants"
   ]
  },
  {
   "cell_type": "code",
   "execution_count": 12,
   "id": "29434c4e-8cd3-4b9b-82e4-b5a251d9dd19",
   "metadata": {
    "execution": {
     "iopub.execute_input": "2022-08-27T06:01:21.792157Z",
     "iopub.status.busy": "2022-08-27T06:01:21.791986Z",
     "iopub.status.idle": "2022-08-27T06:01:25.888242Z",
     "shell.execute_reply": "2022-08-27T06:01:25.887487Z"
    },
    "papermill": {
     "duration": 4.125574,
     "end_time": "2022-08-27T06:01:25.890141",
     "exception": false,
     "start_time": "2022-08-27T06:01:21.764567",
     "status": "completed"
    },
    "tags": []
   },
   "outputs": [],
   "source": [
    "with open(OUTPUT_DIR_BASE / \"gwas_variant_ids.pkl\", \"rb\") as handle:\n",
    "    gwas_variants_ids_set = pickle.load(handle)"
   ]
  },
  {
   "cell_type": "code",
   "execution_count": 13,
   "id": "b9d9dec2-4a76-4bf9-bde2-e24c95acb8a0",
   "metadata": {
    "execution": {
     "iopub.execute_input": "2022-08-27T06:01:25.907669Z",
     "iopub.status.busy": "2022-08-27T06:01:25.907463Z",
     "iopub.status.idle": "2022-08-27T06:01:25.929420Z",
     "shell.execute_reply": "2022-08-27T06:01:25.929025Z"
    },
    "papermill": {
     "duration": 0.032043,
     "end_time": "2022-08-27T06:01:25.930688",
     "exception": false,
     "start_time": "2022-08-27T06:01:25.898645",
     "status": "completed"
    },
    "tags": []
   },
   "outputs": [
    {
     "data": {
      "text/plain": [
       "8871979"
      ]
     },
     "execution_count": 13,
     "metadata": {},
     "output_type": "execute_result"
    }
   ],
   "source": [
    "len(gwas_variants_ids_set)"
   ]
  },
  {
   "cell_type": "code",
   "execution_count": 14,
   "id": "4235b06a-6034-4ee4-a0a3-2ae35d122418",
   "metadata": {
    "execution": {
     "iopub.execute_input": "2022-08-27T06:01:25.948864Z",
     "iopub.status.busy": "2022-08-27T06:01:25.948697Z",
     "iopub.status.idle": "2022-08-27T06:01:26.456421Z",
     "shell.execute_reply": "2022-08-27T06:01:26.455995Z"
    },
    "papermill": {
     "duration": 0.518532,
     "end_time": "2022-08-27T06:01:26.457741",
     "exception": false,
     "start_time": "2022-08-27T06:01:25.939209",
     "status": "completed"
    },
    "tags": []
   },
   "outputs": [
    {
     "data": {
      "text/plain": [
       "['chr4_189251385_C_A_b38',\n",
       " 'chr19_20035663_C_T_b38',\n",
       " 'chr2_46650116_G_T_b38',\n",
       " 'chr10_92929258_A_T_b38',\n",
       " 'chr10_6865452_A_G_b38']"
      ]
     },
     "execution_count": 14,
     "metadata": {},
     "output_type": "execute_result"
    }
   ],
   "source": [
    "list(gwas_variants_ids_set)[:5]"
   ]
  },
  {
   "cell_type": "markdown",
   "id": "07866999-2305-41f9-a144-e69c9122c212",
   "metadata": {
    "papermill": {
     "duration": 0.00806,
     "end_time": "2022-08-27T06:01:26.474391",
     "exception": false,
     "start_time": "2022-08-27T06:01:26.466331",
     "status": "completed"
    },
    "tags": []
   },
   "source": [
    "## S-PrediXcan tissue models"
   ]
  },
  {
   "cell_type": "code",
   "execution_count": 15,
   "id": "780611d9-77c8-405f-90a4-f271f7b09397",
   "metadata": {
    "execution": {
     "iopub.execute_input": "2022-08-27T06:01:26.492910Z",
     "iopub.status.busy": "2022-08-27T06:01:26.492723Z",
     "iopub.status.idle": "2022-08-27T06:01:27.396400Z",
     "shell.execute_reply": "2022-08-27T06:01:27.395913Z"
    },
    "papermill": {
     "duration": 0.915629,
     "end_time": "2022-08-27T06:01:27.398139",
     "exception": false,
     "start_time": "2022-08-27T06:01:26.482510",
     "status": "completed"
    },
    "tags": []
   },
   "outputs": [],
   "source": [
    "spredixcan_genes_models = pd.read_pickle(OUTPUT_DIR_BASE / \"gene_tissues.pkl\")"
   ]
  },
  {
   "cell_type": "code",
   "execution_count": 16,
   "id": "726dd1f6-9557-4225-91fa-b3b879ea96e1",
   "metadata": {
    "execution": {
     "iopub.execute_input": "2022-08-27T06:01:27.424663Z",
     "iopub.status.busy": "2022-08-27T06:01:27.424440Z",
     "iopub.status.idle": "2022-08-27T06:01:27.446555Z",
     "shell.execute_reply": "2022-08-27T06:01:27.446178Z"
    },
    "papermill": {
     "duration": 0.03731,
     "end_time": "2022-08-27T06:01:27.447740",
     "exception": false,
     "start_time": "2022-08-27T06:01:27.410430",
     "status": "completed"
    },
    "tags": []
   },
   "outputs": [
    {
     "data": {
      "text/plain": [
       "(6450, 3)"
      ]
     },
     "execution_count": 16,
     "metadata": {},
     "output_type": "execute_result"
    }
   ],
   "source": [
    "spredixcan_genes_models.shape"
   ]
  },
  {
   "cell_type": "code",
   "execution_count": 17,
   "id": "944a1b48-222c-4eb0-b252-b9de2cbca215",
   "metadata": {
    "execution": {
     "iopub.execute_input": "2022-08-27T06:01:27.472719Z",
     "iopub.status.busy": "2022-08-27T06:01:27.472528Z",
     "iopub.status.idle": "2022-08-27T06:01:27.507665Z",
     "shell.execute_reply": "2022-08-27T06:01:27.507264Z"
    },
    "papermill": {
     "duration": 0.047791,
     "end_time": "2022-08-27T06:01:27.508886",
     "exception": false,
     "start_time": "2022-08-27T06:01:27.461095",
     "status": "completed"
    },
    "tags": []
   },
   "outputs": [
    {
     "data": {
      "text/html": [
       "<div>\n",
       "<style scoped>\n",
       "    .dataframe tbody tr th:only-of-type {\n",
       "        vertical-align: middle;\n",
       "    }\n",
       "\n",
       "    .dataframe tbody tr th {\n",
       "        vertical-align: top;\n",
       "    }\n",
       "\n",
       "    .dataframe thead th {\n",
       "        text-align: right;\n",
       "    }\n",
       "</style>\n",
       "<table border=\"1\" class=\"dataframe\">\n",
       "  <thead>\n",
       "    <tr style=\"text-align: right;\">\n",
       "      <th></th>\n",
       "      <th>gene_name</th>\n",
       "      <th>tissue</th>\n",
       "      <th>n_tissues</th>\n",
       "    </tr>\n",
       "    <tr>\n",
       "      <th>gene_id</th>\n",
       "      <th></th>\n",
       "      <th></th>\n",
       "      <th></th>\n",
       "    </tr>\n",
       "  </thead>\n",
       "  <tbody>\n",
       "    <tr>\n",
       "      <th>ENSG00000000419</th>\n",
       "      <td>DPM1</td>\n",
       "      <td>(Brain_Substantia_nigra, Brain_Hypothalamus, C...</td>\n",
       "      <td>3</td>\n",
       "    </tr>\n",
       "    <tr>\n",
       "      <th>ENSG00000000938</th>\n",
       "      <td>FGR</td>\n",
       "      <td>(Muscle_Skeletal, Liver, Nerve_Tibial, Whole_B...</td>\n",
       "      <td>36</td>\n",
       "    </tr>\n",
       "    <tr>\n",
       "      <th>ENSG00000000971</th>\n",
       "      <td>CFH</td>\n",
       "      <td>(Nerve_Tibial, Whole_Blood, Thyroid, Kidney_Co...</td>\n",
       "      <td>34</td>\n",
       "    </tr>\n",
       "    <tr>\n",
       "      <th>ENSG00000001084</th>\n",
       "      <td>GCLC</td>\n",
       "      <td>(Muscle_Skeletal, Nerve_Tibial, Whole_Blood, T...</td>\n",
       "      <td>33</td>\n",
       "    </tr>\n",
       "    <tr>\n",
       "      <th>ENSG00000001167</th>\n",
       "      <td>NFYA</td>\n",
       "      <td>(Muscle_Skeletal, Nerve_Tibial, Whole_Blood, T...</td>\n",
       "      <td>40</td>\n",
       "    </tr>\n",
       "  </tbody>\n",
       "</table>\n",
       "</div>"
      ],
      "text/plain": [
       "                gene_name                                             tissue  \\\n",
       "gene_id                                                                        \n",
       "ENSG00000000419      DPM1  (Brain_Substantia_nigra, Brain_Hypothalamus, C...   \n",
       "ENSG00000000938       FGR  (Muscle_Skeletal, Liver, Nerve_Tibial, Whole_B...   \n",
       "ENSG00000000971       CFH  (Nerve_Tibial, Whole_Blood, Thyroid, Kidney_Co...   \n",
       "ENSG00000001084      GCLC  (Muscle_Skeletal, Nerve_Tibial, Whole_Blood, T...   \n",
       "ENSG00000001167      NFYA  (Muscle_Skeletal, Nerve_Tibial, Whole_Blood, T...   \n",
       "\n",
       "                 n_tissues  \n",
       "gene_id                     \n",
       "ENSG00000000419          3  \n",
       "ENSG00000000938         36  \n",
       "ENSG00000000971         34  \n",
       "ENSG00000001084         33  \n",
       "ENSG00000001167         40  "
      ]
     },
     "execution_count": 17,
     "metadata": {},
     "output_type": "execute_result"
    }
   ],
   "source": [
    "spredixcan_genes_models.head()"
   ]
  },
  {
   "cell_type": "code",
   "execution_count": 18,
   "id": "d1c11bb1-be0b-4f40-b360-633d6827109f",
   "metadata": {
    "execution": {
     "iopub.execute_input": "2022-08-27T06:01:27.531585Z",
     "iopub.status.busy": "2022-08-27T06:01:27.531415Z",
     "iopub.status.idle": "2022-08-27T06:01:27.548428Z",
     "shell.execute_reply": "2022-08-27T06:01:27.548070Z"
    },
    "papermill": {
     "duration": 0.031125,
     "end_time": "2022-08-27T06:01:27.549723",
     "exception": false,
     "start_time": "2022-08-27T06:01:27.518598",
     "status": "completed"
    },
    "tags": []
   },
   "outputs": [],
   "source": [
    "assert spredixcan_genes_models.index.is_unique"
   ]
  },
  {
   "cell_type": "markdown",
   "id": "a5b5092c-a13e-47c4-a92a-480fcc08f3ae",
   "metadata": {
    "papermill": {
     "duration": 0.019454,
     "end_time": "2022-08-27T06:01:27.618890",
     "exception": false,
     "start_time": "2022-08-27T06:01:27.599436",
     "status": "completed"
    },
    "tags": []
   },
   "source": [
    "## Gene info"
   ]
  },
  {
   "cell_type": "code",
   "execution_count": 19,
   "id": "7d6bb224-88e9-4358-ac10-43a41d92cdad",
   "metadata": {
    "execution": {
     "iopub.execute_input": "2022-08-27T06:01:27.652372Z",
     "iopub.status.busy": "2022-08-27T06:01:27.652129Z",
     "iopub.status.idle": "2022-08-27T06:01:27.684124Z",
     "shell.execute_reply": "2022-08-27T06:01:27.683607Z"
    },
    "papermill": {
     "duration": 0.049979,
     "end_time": "2022-08-27T06:01:27.685886",
     "exception": false,
     "start_time": "2022-08-27T06:01:27.635907",
     "status": "completed"
    },
    "tags": []
   },
   "outputs": [],
   "source": [
    "genes_info = pd.read_pickle(OUTPUT_DIR_BASE / \"genes_info.pkl\")"
   ]
  },
  {
   "cell_type": "code",
   "execution_count": 20,
   "id": "9e32abfa-546d-483e-8c18-d526e9e05903",
   "metadata": {
    "execution": {
     "iopub.execute_input": "2022-08-27T06:01:27.718739Z",
     "iopub.status.busy": "2022-08-27T06:01:27.718518Z",
     "iopub.status.idle": "2022-08-27T06:01:27.739434Z",
     "shell.execute_reply": "2022-08-27T06:01:27.738994Z"
    },
    "papermill": {
     "duration": 0.038413,
     "end_time": "2022-08-27T06:01:27.740824",
     "exception": false,
     "start_time": "2022-08-27T06:01:27.702411",
     "status": "completed"
    },
    "tags": []
   },
   "outputs": [
    {
     "data": {
      "text/plain": [
       "(6450, 7)"
      ]
     },
     "execution_count": 20,
     "metadata": {},
     "output_type": "execute_result"
    }
   ],
   "source": [
    "genes_info.shape"
   ]
  },
  {
   "cell_type": "code",
   "execution_count": 21,
   "id": "d16c3e92-85ec-468a-9a56-e25a9774a1cb",
   "metadata": {
    "execution": {
     "iopub.execute_input": "2022-08-27T06:01:27.761981Z",
     "iopub.status.busy": "2022-08-27T06:01:27.761796Z",
     "iopub.status.idle": "2022-08-27T06:01:27.784277Z",
     "shell.execute_reply": "2022-08-27T06:01:27.783887Z"
    },
    "papermill": {
     "duration": 0.034015,
     "end_time": "2022-08-27T06:01:27.785511",
     "exception": false,
     "start_time": "2022-08-27T06:01:27.751496",
     "status": "completed"
    },
    "tags": []
   },
   "outputs": [
    {
     "data": {
      "text/html": [
       "<div>\n",
       "<style scoped>\n",
       "    .dataframe tbody tr th:only-of-type {\n",
       "        vertical-align: middle;\n",
       "    }\n",
       "\n",
       "    .dataframe tbody tr th {\n",
       "        vertical-align: top;\n",
       "    }\n",
       "\n",
       "    .dataframe thead th {\n",
       "        text-align: right;\n",
       "    }\n",
       "</style>\n",
       "<table border=\"1\" class=\"dataframe\">\n",
       "  <thead>\n",
       "    <tr style=\"text-align: right;\">\n",
       "      <th></th>\n",
       "      <th>name</th>\n",
       "      <th>id</th>\n",
       "      <th>chr</th>\n",
       "      <th>band</th>\n",
       "      <th>start_position</th>\n",
       "      <th>end_position</th>\n",
       "      <th>gene_length</th>\n",
       "    </tr>\n",
       "  </thead>\n",
       "  <tbody>\n",
       "    <tr>\n",
       "      <th>0</th>\n",
       "      <td>FBXO34</td>\n",
       "      <td>ENSG00000178974</td>\n",
       "      <td>14</td>\n",
       "      <td>14q22.3</td>\n",
       "      <td>55271421</td>\n",
       "      <td>55361918</td>\n",
       "      <td>90497</td>\n",
       "    </tr>\n",
       "    <tr>\n",
       "      <th>1</th>\n",
       "      <td>ARG1</td>\n",
       "      <td>ENSG00000118520</td>\n",
       "      <td>6</td>\n",
       "      <td>6q23.2</td>\n",
       "      <td>131573144</td>\n",
       "      <td>131584332</td>\n",
       "      <td>11188</td>\n",
       "    </tr>\n",
       "    <tr>\n",
       "      <th>2</th>\n",
       "      <td>FADS2</td>\n",
       "      <td>ENSG00000134824</td>\n",
       "      <td>11</td>\n",
       "      <td>11q12.2</td>\n",
       "      <td>61792980</td>\n",
       "      <td>61867354</td>\n",
       "      <td>74374</td>\n",
       "    </tr>\n",
       "    <tr>\n",
       "      <th>3</th>\n",
       "      <td>CA4</td>\n",
       "      <td>ENSG00000167434</td>\n",
       "      <td>17</td>\n",
       "      <td>17q23.1</td>\n",
       "      <td>60149942</td>\n",
       "      <td>60170899</td>\n",
       "      <td>20957</td>\n",
       "    </tr>\n",
       "    <tr>\n",
       "      <th>4</th>\n",
       "      <td>PFKFB3</td>\n",
       "      <td>ENSG00000170525</td>\n",
       "      <td>10</td>\n",
       "      <td>10p15.1</td>\n",
       "      <td>6144934</td>\n",
       "      <td>6254644</td>\n",
       "      <td>109710</td>\n",
       "    </tr>\n",
       "  </tbody>\n",
       "</table>\n",
       "</div>"
      ],
      "text/plain": [
       "     name               id  chr     band  start_position  end_position  \\\n",
       "0  FBXO34  ENSG00000178974   14  14q22.3        55271421      55361918   \n",
       "1    ARG1  ENSG00000118520    6   6q23.2       131573144     131584332   \n",
       "2   FADS2  ENSG00000134824   11  11q12.2        61792980      61867354   \n",
       "3     CA4  ENSG00000167434   17  17q23.1        60149942      60170899   \n",
       "4  PFKFB3  ENSG00000170525   10  10p15.1         6144934       6254644   \n",
       "\n",
       "   gene_length  \n",
       "0        90497  \n",
       "1        11188  \n",
       "2        74374  \n",
       "3        20957  \n",
       "4       109710  "
      ]
     },
     "execution_count": 21,
     "metadata": {},
     "output_type": "execute_result"
    }
   ],
   "source": [
    "genes_info.head()"
   ]
  },
  {
   "cell_type": "markdown",
   "id": "d3843e06",
   "metadata": {
    "papermill": {
     "duration": 0.018429,
     "end_time": "2022-08-27T06:01:27.815451",
     "exception": false,
     "start_time": "2022-08-27T06:01:27.797022",
     "status": "completed"
    },
    "tags": []
   },
   "source": [
    "# Compute correlations"
   ]
  },
  {
   "cell_type": "code",
   "execution_count": 22,
   "id": "cb859c15-d1f3-4006-a74c-2b83c0db9611",
   "metadata": {
    "execution": {
     "iopub.execute_input": "2022-08-27T06:01:27.837063Z",
     "iopub.status.busy": "2022-08-27T06:01:27.836883Z",
     "iopub.status.idle": "2022-08-27T06:01:27.854770Z",
     "shell.execute_reply": "2022-08-27T06:01:27.854395Z"
    },
    "papermill": {
     "duration": 0.030902,
     "end_time": "2022-08-27T06:01:27.855969",
     "exception": false,
     "start_time": "2022-08-27T06:01:27.825067",
     "status": "completed"
    },
    "tags": []
   },
   "outputs": [
    {
     "data": {
      "text/plain": [
       "PosixPath('/project/ritchie20/projects/phenoplier/base/results/gls/gene_corrs/cohorts/phenomexcan_astle/gtex_v8/mashr/by_chr/gene_corrs-chr18.pkl')"
      ]
     },
     "metadata": {},
     "output_type": "display_data"
    }
   ],
   "source": [
    "output_dir = OUTPUT_DIR_BASE / \"by_chr\"\n",
    "output_dir.mkdir(exist_ok=True, parents=True)\n",
    "output_file = output_dir / f\"gene_corrs-chr{CHROMOSOME}.pkl\"\n",
    "display(output_file)"
   ]
  },
  {
   "cell_type": "code",
   "execution_count": 23,
   "id": "aa674fe4-6794-4eed-98fa-32b39d1d4ace",
   "metadata": {
    "execution": {
     "iopub.execute_input": "2022-08-27T06:01:27.877381Z",
     "iopub.status.busy": "2022-08-27T06:01:27.877218Z",
     "iopub.status.idle": "2022-08-27T06:01:27.892862Z",
     "shell.execute_reply": "2022-08-27T06:01:27.892475Z"
    },
    "papermill": {
     "duration": 0.027748,
     "end_time": "2022-08-27T06:01:27.894182",
     "exception": false,
     "start_time": "2022-08-27T06:01:27.866434",
     "status": "completed"
    },
    "tags": []
   },
   "outputs": [],
   "source": [
    "warnings.filterwarnings(\"error\")"
   ]
  },
  {
   "cell_type": "code",
   "execution_count": 24,
   "id": "44d5450b-3baf-43f1-9e2e-4b06f1a785f8",
   "metadata": {
    "execution": {
     "iopub.execute_input": "2022-08-27T06:01:27.918839Z",
     "iopub.status.busy": "2022-08-27T06:01:27.918671Z",
     "iopub.status.idle": "2022-08-27T06:01:27.934720Z",
     "shell.execute_reply": "2022-08-27T06:01:27.934360Z"
    },
    "papermill": {
     "duration": 0.028077,
     "end_time": "2022-08-27T06:01:27.936109",
     "exception": false,
     "start_time": "2022-08-27T06:01:27.908032",
     "status": "completed"
    },
    "tags": []
   },
   "outputs": [],
   "source": [
    "# standard checks\n",
    "all_chrs = genes_info[\"chr\"].dropna().unique()\n",
    "assert all_chrs.shape[0] == 22\n",
    "\n",
    "# select chromosome given by the user\n",
    "assert CHROMOSOME in all_chrs"
   ]
  },
  {
   "cell_type": "code",
   "execution_count": 25,
   "id": "2d7c043c-92a7-4d35-991b-fa69ac1e0268",
   "metadata": {
    "execution": {
     "iopub.execute_input": "2022-08-27T06:01:27.963083Z",
     "iopub.status.busy": "2022-08-27T06:01:27.962915Z",
     "iopub.status.idle": "2022-08-27T06:01:27.997357Z",
     "shell.execute_reply": "2022-08-27T06:01:27.996992Z"
    },
    "papermill": {
     "duration": 0.04752,
     "end_time": "2022-08-27T06:01:27.998570",
     "exception": false,
     "start_time": "2022-08-27T06:01:27.951050",
     "status": "completed"
    },
    "tags": []
   },
   "outputs": [
    {
     "name": "stdout",
     "output_type": "stream",
     "text": [
      "Number of genes in chromosome: 96\n"
     ]
    }
   ],
   "source": [
    "# run only on the chromosome specified\n",
    "all_chrs = [CHROMOSOME]\n",
    "genes_chr = genes_info[genes_info[\"chr\"] == CHROMOSOME]\n",
    "\n",
    "# For testing purposes\n",
    "# genes_chr = genes_chr.sample(n=20)\n",
    "\n",
    "print(f\"Number of genes in chromosome: {genes_chr.shape[0]}\", flush=True)"
   ]
  },
  {
   "cell_type": "code",
   "execution_count": 26,
   "id": "916015d8-2979-46d3-a9b9-1cf5a0932c6a",
   "metadata": {
    "execution": {
     "iopub.execute_input": "2022-08-27T06:01:28.016949Z",
     "iopub.status.busy": "2022-08-27T06:01:28.016775Z",
     "iopub.status.idle": "2022-08-27T06:01:28.032639Z",
     "shell.execute_reply": "2022-08-27T06:01:28.032268Z"
    },
    "papermill": {
     "duration": 0.026794,
     "end_time": "2022-08-27T06:01:28.033911",
     "exception": false,
     "start_time": "2022-08-27T06:01:28.007117",
     "status": "completed"
    },
    "tags": []
   },
   "outputs": [],
   "source": [
    "# sort genes by starting position to make visualizations better later\n",
    "genes_chr = genes_chr.sort_values(\"start_position\")"
   ]
  },
  {
   "cell_type": "code",
   "execution_count": 27,
   "id": "a38aa74a-8ad3-47f6-8ef9-56be0e011774",
   "metadata": {
    "execution": {
     "iopub.execute_input": "2022-08-27T06:01:28.054585Z",
     "iopub.status.busy": "2022-08-27T06:01:28.054427Z",
     "iopub.status.idle": "2022-08-27T06:01:28.070131Z",
     "shell.execute_reply": "2022-08-27T06:01:28.069771Z"
    },
    "papermill": {
     "duration": 0.028099,
     "end_time": "2022-08-27T06:01:28.071400",
     "exception": false,
     "start_time": "2022-08-27T06:01:28.043301",
     "status": "completed"
    },
    "tags": []
   },
   "outputs": [],
   "source": [
    "gene_chr_objs = [Gene(ensembl_id=gene_id) for gene_id in genes_chr[\"id\"]]"
   ]
  },
  {
   "cell_type": "code",
   "execution_count": 28,
   "id": "570f974f-13c3-42b6-ad3a-ce99ca885c1a",
   "metadata": {
    "execution": {
     "iopub.execute_input": "2022-08-27T06:01:28.091534Z",
     "iopub.status.busy": "2022-08-27T06:01:28.091368Z",
     "iopub.status.idle": "2022-08-27T06:01:28.108176Z",
     "shell.execute_reply": "2022-08-27T06:01:28.107815Z"
    },
    "papermill": {
     "duration": 0.027586,
     "end_time": "2022-08-27T06:01:28.109320",
     "exception": false,
     "start_time": "2022-08-27T06:01:28.081734",
     "status": "completed"
    },
    "tags": []
   },
   "outputs": [
    {
     "name": "stdout",
     "output_type": "stream",
     "text": [
      "Number of gene combinations: 4560\n"
     ]
    }
   ],
   "source": [
    "n = len(gene_chr_objs)\n",
    "n_comb = int(n * (n - 1) / 2.0)\n",
    "print(f\"Number of gene combinations: {n_comb}\", flush=True)"
   ]
  },
  {
   "cell_type": "code",
   "execution_count": 29,
   "id": "cdbb90a1",
   "metadata": {
    "execution": {
     "iopub.execute_input": "2022-08-27T06:01:28.130147Z",
     "iopub.status.busy": "2022-08-27T06:01:28.129981Z",
     "iopub.status.idle": "2022-08-27T06:07:21.524662Z",
     "shell.execute_reply": "2022-08-27T06:07:21.523810Z"
    },
    "papermill": {
     "duration": 353.407047,
     "end_time": "2022-08-27T06:07:21.527002",
     "exception": false,
     "start_time": "2022-08-27T06:01:28.119955",
     "status": "completed"
    },
    "tags": []
   },
   "outputs": [
    {
     "name": "stderr",
     "output_type": "stream",
     "text": [
      "ENSG00000178184 / ENSG00000178184: : 4656it [05:53, 13.18it/s]\n"
     ]
    },
    {
     "data": {
      "text/plain": [
       "PosixPath('/project/ritchie20/projects/phenoplier/base/results/gls/gene_corrs/cohorts/phenomexcan_astle/gtex_v8/mashr/by_chr/gene_corrs-chr18.pkl')"
      ]
     },
     "metadata": {},
     "output_type": "display_data"
    }
   ],
   "source": [
    "gene_corrs = []\n",
    "gene_corrs_data = np.full(\n",
    "    (n, n),\n",
    "    np.nan,\n",
    "    dtype=np.float64,\n",
    ")\n",
    "\n",
    "i = 0\n",
    "with tqdm(ncols=100, total=n_comb) as pbar:\n",
    "    for gene1_idx in range(0, len(gene_chr_objs)):\n",
    "        gene1_obj = gene_chr_objs[gene1_idx]\n",
    "        gene1_tissues = spredixcan_genes_models.loc[gene1_obj.ensembl_id, \"tissue\"]\n",
    "\n",
    "        for gene2_idx in range(gene1_idx, len(gene_chr_objs)):\n",
    "            gene2_obj = gene_chr_objs[gene2_idx]\n",
    "            gene2_tissues = spredixcan_genes_models.loc[gene2_obj.ensembl_id, \"tissue\"]\n",
    "\n",
    "            pbar.set_description(f\"{gene1_obj.ensembl_id} / {gene2_obj.ensembl_id}\")\n",
    "\n",
    "            try:\n",
    "                r = gene1_obj.get_ssm_correlation(\n",
    "                    other_gene=gene2_obj,\n",
    "                    tissues=gene1_tissues,\n",
    "                    other_tissues=gene2_tissues,\n",
    "                    snps_subset=gwas_variants_ids_set,\n",
    "                    condition_number=SMULTIXCAN_CONDITION_NUMBER,\n",
    "                    reference_panel=REFERENCE_PANEL,\n",
    "                    model_type=EQTL_MODEL,\n",
    "                    use_within_distance=COMPUTE_CORRELATIONS_WITHIN_DISTANCE,\n",
    "                )\n",
    "\n",
    "                if r is None:\n",
    "                    # if r is None, it's very likely because:\n",
    "                    #  * one of the genes has no prediction models\n",
    "                    #  * all the SNPs predictors for the gene are not present in the reference\n",
    "                    #    panel\n",
    "\n",
    "                    r = 0.0\n",
    "\n",
    "                gene_corrs.append(r)\n",
    "\n",
    "                gene_corrs_data[gene1_idx, gene2_idx] = r\n",
    "                gene_corrs_data[gene2_idx, gene1_idx] = r\n",
    "            except Warning as e:\n",
    "                if not DEBUG_MODE:\n",
    "                    raise e\n",
    "\n",
    "                print(\n",
    "                    f\"RuntimeWarning for genes {gene1_obj.ensembl_id} and {gene2_obj.ensembl_id}\",\n",
    "                    flush=True,\n",
    "                )\n",
    "                print(traceback.format_exc(), flush=True)\n",
    "\n",
    "                gene_corrs.append(np.nan)\n",
    "            except Exception as e:\n",
    "                if not DEBUG_MODE:\n",
    "                    raise e\n",
    "\n",
    "                print(\n",
    "                    f\"Exception for genes {gene1_obj.ensembl_id} and {gene2_obj.ensembl_id}\",\n",
    "                    flush=True,\n",
    "                )\n",
    "                print(traceback.format_exc(), flush=True)\n",
    "\n",
    "                gene_corrs.append(np.nan)\n",
    "\n",
    "            pbar.update(1)\n",
    "\n",
    "# create a pandas series\n",
    "gene_corrs_flat = pd.Series(gene_corrs)\n",
    "\n",
    "# save\n",
    "# FIXME: consider saving only the condenced matrix here. See here for\n",
    "# more details: https://github.com/greenelab/phenoplier/pull/38#discussion_r634600813\n",
    "# gene_corrs_data = squareform(np.array(gene_corrs, dtype=np.float64))\n",
    "# np.fill_diagonal(gene_corrs_data, 1.0)\n",
    "\n",
    "gene_chr_ids = [g.ensembl_id for g in gene_chr_objs]\n",
    "gene_corrs_df = pd.DataFrame(\n",
    "    data=gene_corrs_data,\n",
    "    index=gene_chr_ids,\n",
    "    columns=gene_chr_ids,\n",
    ")\n",
    "\n",
    "output_dir.mkdir(exist_ok=True, parents=True)\n",
    "display(output_file)\n",
    "\n",
    "gene_corrs_df.to_pickle(output_file)"
   ]
  },
  {
   "cell_type": "markdown",
   "id": "faa67b51-5373-470f-aa72-2ded53fa6dfe",
   "metadata": {
    "papermill": {
     "duration": 0.223074,
     "end_time": "2022-08-27T06:07:22.043010",
     "exception": false,
     "start_time": "2022-08-27T06:07:21.819936",
     "status": "completed"
    },
    "tags": []
   },
   "source": [
    "# Testing"
   ]
  },
  {
   "cell_type": "code",
   "execution_count": 30,
   "id": "14f7d046-4b55-4896-a56b-990127bcc388",
   "metadata": {
    "execution": {
     "iopub.execute_input": "2022-08-27T06:07:22.514356Z",
     "iopub.status.busy": "2022-08-27T06:07:22.514097Z",
     "iopub.status.idle": "2022-08-27T06:07:22.769207Z",
     "shell.execute_reply": "2022-08-27T06:07:22.768819Z"
    },
    "papermill": {
     "duration": 0.508194,
     "end_time": "2022-08-27T06:07:22.770418",
     "exception": false,
     "start_time": "2022-08-27T06:07:22.262224",
     "status": "completed"
    },
    "tags": []
   },
   "outputs": [
    {
     "data": {
      "text/plain": [
       "(96, 96)"
      ]
     },
     "execution_count": 30,
     "metadata": {},
     "output_type": "execute_result"
    }
   ],
   "source": [
    "gene_corrs_df.shape"
   ]
  },
  {
   "cell_type": "code",
   "execution_count": 31,
   "id": "c7d15414-3297-4537-a7c6-7588c0baeb75",
   "metadata": {
    "execution": {
     "iopub.execute_input": "2022-08-27T06:07:23.218511Z",
     "iopub.status.busy": "2022-08-27T06:07:23.218270Z",
     "iopub.status.idle": "2022-08-27T06:07:23.249085Z",
     "shell.execute_reply": "2022-08-27T06:07:23.248694Z"
    },
    "papermill": {
     "duration": 0.253403,
     "end_time": "2022-08-27T06:07:23.250310",
     "exception": false,
     "start_time": "2022-08-27T06:07:22.996907",
     "status": "completed"
    },
    "tags": []
   },
   "outputs": [
    {
     "data": {
      "text/html": [
       "<div>\n",
       "<style scoped>\n",
       "    .dataframe tbody tr th:only-of-type {\n",
       "        vertical-align: middle;\n",
       "    }\n",
       "\n",
       "    .dataframe tbody tr th {\n",
       "        vertical-align: top;\n",
       "    }\n",
       "\n",
       "    .dataframe thead th {\n",
       "        text-align: right;\n",
       "    }\n",
       "</style>\n",
       "<table border=\"1\" class=\"dataframe\">\n",
       "  <thead>\n",
       "    <tr style=\"text-align: right;\">\n",
       "      <th></th>\n",
       "      <th>ENSG00000079134</th>\n",
       "      <th>ENSG00000158270</th>\n",
       "      <th>ENSG00000176890</th>\n",
       "      <th>ENSG00000176105</th>\n",
       "      <th>ENSG00000080986</th>\n",
       "      <th>ENSG00000132205</th>\n",
       "      <th>ENSG00000101577</th>\n",
       "      <th>ENSG00000101608</th>\n",
       "      <th>ENSG00000118680</th>\n",
       "      <th>ENSG00000177426</th>\n",
       "      <th>...</th>\n",
       "      <th>ENSG00000166347</th>\n",
       "      <th>ENSG00000133313</th>\n",
       "      <th>ENSG00000166573</th>\n",
       "      <th>ENSG00000166377</th>\n",
       "      <th>ENSG00000131196</th>\n",
       "      <th>ENSG00000060069</th>\n",
       "      <th>ENSG00000178342</th>\n",
       "      <th>ENSG00000122490</th>\n",
       "      <th>ENSG00000141759</th>\n",
       "      <th>ENSG00000178184</th>\n",
       "    </tr>\n",
       "  </thead>\n",
       "  <tbody>\n",
       "    <tr>\n",
       "      <th>ENSG00000079134</th>\n",
       "      <td>1.000000</td>\n",
       "      <td>0.029268</td>\n",
       "      <td>0.014530</td>\n",
       "      <td>0.005950</td>\n",
       "      <td>0.005183</td>\n",
       "      <td>0.011772</td>\n",
       "      <td>0.009002</td>\n",
       "      <td>0.009353</td>\n",
       "      <td>0.008110</td>\n",
       "      <td>0.010012</td>\n",
       "      <td>...</td>\n",
       "      <td>0.009845</td>\n",
       "      <td>0.007215</td>\n",
       "      <td>0.007683</td>\n",
       "      <td>0.010323</td>\n",
       "      <td>0.013048</td>\n",
       "      <td>0.005111</td>\n",
       "      <td>0.010722</td>\n",
       "      <td>0.015075</td>\n",
       "      <td>0.009969</td>\n",
       "      <td>0.006618</td>\n",
       "    </tr>\n",
       "    <tr>\n",
       "      <th>ENSG00000158270</th>\n",
       "      <td>0.029268</td>\n",
       "      <td>1.000000</td>\n",
       "      <td>0.018172</td>\n",
       "      <td>0.012277</td>\n",
       "      <td>0.009597</td>\n",
       "      <td>0.014609</td>\n",
       "      <td>0.015734</td>\n",
       "      <td>0.010912</td>\n",
       "      <td>0.009845</td>\n",
       "      <td>0.012734</td>\n",
       "      <td>...</td>\n",
       "      <td>0.010529</td>\n",
       "      <td>0.007532</td>\n",
       "      <td>0.009009</td>\n",
       "      <td>0.011652</td>\n",
       "      <td>0.010398</td>\n",
       "      <td>0.008813</td>\n",
       "      <td>0.011256</td>\n",
       "      <td>0.015073</td>\n",
       "      <td>0.014072</td>\n",
       "      <td>0.014047</td>\n",
       "    </tr>\n",
       "    <tr>\n",
       "      <th>ENSG00000176890</th>\n",
       "      <td>0.014530</td>\n",
       "      <td>0.018172</td>\n",
       "      <td>1.000000</td>\n",
       "      <td>0.146130</td>\n",
       "      <td>0.014352</td>\n",
       "      <td>0.013612</td>\n",
       "      <td>0.013636</td>\n",
       "      <td>0.009174</td>\n",
       "      <td>0.009741</td>\n",
       "      <td>0.009155</td>\n",
       "      <td>...</td>\n",
       "      <td>0.009996</td>\n",
       "      <td>0.009503</td>\n",
       "      <td>0.010159</td>\n",
       "      <td>0.005894</td>\n",
       "      <td>0.011967</td>\n",
       "      <td>0.007656</td>\n",
       "      <td>0.012707</td>\n",
       "      <td>0.013614</td>\n",
       "      <td>0.012801</td>\n",
       "      <td>0.009856</td>\n",
       "    </tr>\n",
       "    <tr>\n",
       "      <th>ENSG00000176105</th>\n",
       "      <td>0.005950</td>\n",
       "      <td>0.012277</td>\n",
       "      <td>0.146130</td>\n",
       "      <td>1.000000</td>\n",
       "      <td>0.006168</td>\n",
       "      <td>0.003886</td>\n",
       "      <td>0.007149</td>\n",
       "      <td>0.005115</td>\n",
       "      <td>0.003666</td>\n",
       "      <td>0.009098</td>\n",
       "      <td>...</td>\n",
       "      <td>0.004665</td>\n",
       "      <td>0.006388</td>\n",
       "      <td>0.005225</td>\n",
       "      <td>0.006264</td>\n",
       "      <td>0.006956</td>\n",
       "      <td>0.009834</td>\n",
       "      <td>0.009986</td>\n",
       "      <td>0.008190</td>\n",
       "      <td>0.004653</td>\n",
       "      <td>0.006023</td>\n",
       "    </tr>\n",
       "    <tr>\n",
       "      <th>ENSG00000080986</th>\n",
       "      <td>0.005183</td>\n",
       "      <td>0.009597</td>\n",
       "      <td>0.014352</td>\n",
       "      <td>0.006168</td>\n",
       "      <td>1.000000</td>\n",
       "      <td>0.015926</td>\n",
       "      <td>0.015374</td>\n",
       "      <td>0.005943</td>\n",
       "      <td>0.008231</td>\n",
       "      <td>0.004584</td>\n",
       "      <td>...</td>\n",
       "      <td>0.006332</td>\n",
       "      <td>0.005498</td>\n",
       "      <td>0.010306</td>\n",
       "      <td>0.004781</td>\n",
       "      <td>0.008183</td>\n",
       "      <td>0.006147</td>\n",
       "      <td>0.009669</td>\n",
       "      <td>0.008051</td>\n",
       "      <td>0.005833</td>\n",
       "      <td>0.003790</td>\n",
       "    </tr>\n",
       "  </tbody>\n",
       "</table>\n",
       "<p>5 rows × 96 columns</p>\n",
       "</div>"
      ],
      "text/plain": [
       "                 ENSG00000079134  ENSG00000158270  ENSG00000176890  \\\n",
       "ENSG00000079134         1.000000         0.029268         0.014530   \n",
       "ENSG00000158270         0.029268         1.000000         0.018172   \n",
       "ENSG00000176890         0.014530         0.018172         1.000000   \n",
       "ENSG00000176105         0.005950         0.012277         0.146130   \n",
       "ENSG00000080986         0.005183         0.009597         0.014352   \n",
       "\n",
       "                 ENSG00000176105  ENSG00000080986  ENSG00000132205  \\\n",
       "ENSG00000079134         0.005950         0.005183         0.011772   \n",
       "ENSG00000158270         0.012277         0.009597         0.014609   \n",
       "ENSG00000176890         0.146130         0.014352         0.013612   \n",
       "ENSG00000176105         1.000000         0.006168         0.003886   \n",
       "ENSG00000080986         0.006168         1.000000         0.015926   \n",
       "\n",
       "                 ENSG00000101577  ENSG00000101608  ENSG00000118680  \\\n",
       "ENSG00000079134         0.009002         0.009353         0.008110   \n",
       "ENSG00000158270         0.015734         0.010912         0.009845   \n",
       "ENSG00000176890         0.013636         0.009174         0.009741   \n",
       "ENSG00000176105         0.007149         0.005115         0.003666   \n",
       "ENSG00000080986         0.015374         0.005943         0.008231   \n",
       "\n",
       "                 ENSG00000177426  ...  ENSG00000166347  ENSG00000133313  \\\n",
       "ENSG00000079134         0.010012  ...         0.009845         0.007215   \n",
       "ENSG00000158270         0.012734  ...         0.010529         0.007532   \n",
       "ENSG00000176890         0.009155  ...         0.009996         0.009503   \n",
       "ENSG00000176105         0.009098  ...         0.004665         0.006388   \n",
       "ENSG00000080986         0.004584  ...         0.006332         0.005498   \n",
       "\n",
       "                 ENSG00000166573  ENSG00000166377  ENSG00000131196  \\\n",
       "ENSG00000079134         0.007683         0.010323         0.013048   \n",
       "ENSG00000158270         0.009009         0.011652         0.010398   \n",
       "ENSG00000176890         0.010159         0.005894         0.011967   \n",
       "ENSG00000176105         0.005225         0.006264         0.006956   \n",
       "ENSG00000080986         0.010306         0.004781         0.008183   \n",
       "\n",
       "                 ENSG00000060069  ENSG00000178342  ENSG00000122490  \\\n",
       "ENSG00000079134         0.005111         0.010722         0.015075   \n",
       "ENSG00000158270         0.008813         0.011256         0.015073   \n",
       "ENSG00000176890         0.007656         0.012707         0.013614   \n",
       "ENSG00000176105         0.009834         0.009986         0.008190   \n",
       "ENSG00000080986         0.006147         0.009669         0.008051   \n",
       "\n",
       "                 ENSG00000141759  ENSG00000178184  \n",
       "ENSG00000079134         0.009969         0.006618  \n",
       "ENSG00000158270         0.014072         0.014047  \n",
       "ENSG00000176890         0.012801         0.009856  \n",
       "ENSG00000176105         0.004653         0.006023  \n",
       "ENSG00000080986         0.005833         0.003790  \n",
       "\n",
       "[5 rows x 96 columns]"
      ]
     },
     "execution_count": 31,
     "metadata": {},
     "output_type": "execute_result"
    }
   ],
   "source": [
    "gene_corrs_df.head()"
   ]
  },
  {
   "cell_type": "markdown",
   "id": "dad6603f-01c6-41fb-a6f6-241051207dd8",
   "metadata": {
    "papermill": {
     "duration": 0.221329,
     "end_time": "2022-08-27T06:07:23.729271",
     "exception": false,
     "start_time": "2022-08-27T06:07:23.507942",
     "status": "completed"
    },
    "tags": []
   },
   "source": [
    "## Standard checks and stats"
   ]
  },
  {
   "cell_type": "code",
   "execution_count": 32,
   "id": "286686af-1b7b-4440-8453-6bdcbd8de19c",
   "metadata": {
    "execution": {
     "iopub.execute_input": "2022-08-27T06:07:24.171284Z",
     "iopub.status.busy": "2022-08-27T06:07:24.171041Z",
     "iopub.status.idle": "2022-08-27T06:07:24.189909Z",
     "shell.execute_reply": "2022-08-27T06:07:24.189519Z"
    },
    "papermill": {
     "duration": 0.242091,
     "end_time": "2022-08-27T06:07:24.191246",
     "exception": false,
     "start_time": "2022-08-27T06:07:23.949155",
     "status": "completed"
    },
    "tags": []
   },
   "outputs": [],
   "source": [
    "assert not gene_corrs_df.isna().any().any()"
   ]
  },
  {
   "cell_type": "code",
   "execution_count": 33,
   "id": "00583efc-7068-4270-ad1e-4a418e91db96",
   "metadata": {
    "execution": {
     "iopub.execute_input": "2022-08-27T06:07:24.662039Z",
     "iopub.status.busy": "2022-08-27T06:07:24.661797Z",
     "iopub.status.idle": "2022-08-27T06:07:24.682338Z",
     "shell.execute_reply": "2022-08-27T06:07:24.681960Z"
    },
    "papermill": {
     "duration": 0.243087,
     "end_time": "2022-08-27T06:07:24.683523",
     "exception": false,
     "start_time": "2022-08-27T06:07:24.440436",
     "status": "completed"
    },
    "tags": []
   },
   "outputs": [
    {
     "data": {
      "text/plain": [
       "6.961089756410937e-07"
      ]
     },
     "metadata": {},
     "output_type": "display_data"
    }
   ],
   "source": [
    "_min_val = gene_corrs_df.min().min()\n",
    "display(_min_val)\n",
    "assert _min_val >= -0.05"
   ]
  },
  {
   "cell_type": "code",
   "execution_count": 34,
   "id": "d04fb2cf-1050-475b-b855-f5f7cc04092b",
   "metadata": {
    "execution": {
     "iopub.execute_input": "2022-08-27T06:07:25.152808Z",
     "iopub.status.busy": "2022-08-27T06:07:25.152537Z",
     "iopub.status.idle": "2022-08-27T06:07:25.173244Z",
     "shell.execute_reply": "2022-08-27T06:07:25.172830Z"
    },
    "papermill": {
     "duration": 0.271202,
     "end_time": "2022-08-27T06:07:25.174531",
     "exception": false,
     "start_time": "2022-08-27T06:07:24.903329",
     "status": "completed"
    },
    "tags": []
   },
   "outputs": [
    {
     "data": {
      "text/plain": [
       "1.0000000000000024"
      ]
     },
     "metadata": {},
     "output_type": "display_data"
    }
   ],
   "source": [
    "_max_val = gene_corrs_df.max().max()  # this captures the diagonal\n",
    "display(_max_val)\n",
    "assert _max_val <= 1.05"
   ]
  },
  {
   "cell_type": "code",
   "execution_count": 35,
   "id": "96d02c44-1fba-47be-8a93-8f2608420b9c",
   "metadata": {
    "execution": {
     "iopub.execute_input": "2022-08-27T06:07:25.614943Z",
     "iopub.status.busy": "2022-08-27T06:07:25.614704Z",
     "iopub.status.idle": "2022-08-27T06:07:25.632683Z",
     "shell.execute_reply": "2022-08-27T06:07:25.632287Z"
    },
    "papermill": {
     "duration": 0.239289,
     "end_time": "2022-08-27T06:07:25.633999",
     "exception": false,
     "start_time": "2022-08-27T06:07:25.394710",
     "status": "completed"
    },
    "tags": []
   },
   "outputs": [],
   "source": [
    "# check upper triangular values\n",
    "# assert len(gene_corrs) == int(genes_chr.shape[0] * (genes_chr.shape[0] - 1) / 2)"
   ]
  },
  {
   "cell_type": "code",
   "execution_count": 36,
   "id": "fe283586-c348-40e0-8841-f6d97bfb021c",
   "metadata": {
    "execution": {
     "iopub.execute_input": "2022-08-27T06:07:26.103132Z",
     "iopub.status.busy": "2022-08-27T06:07:26.102883Z",
     "iopub.status.idle": "2022-08-27T06:07:26.125612Z",
     "shell.execute_reply": "2022-08-27T06:07:26.125204Z"
    },
    "papermill": {
     "duration": 0.243617,
     "end_time": "2022-08-27T06:07:26.126857",
     "exception": false,
     "start_time": "2022-08-27T06:07:25.883240",
     "status": "completed"
    },
    "tags": []
   },
   "outputs": [
    {
     "data": {
      "text/plain": [
       "count    4.656000e+03\n",
       "mean     2.950020e-02\n",
       "std      1.425031e-01\n",
       "min      6.961090e-07\n",
       "25%      5.064512e-03\n",
       "50%      7.247146e-03\n",
       "75%      9.733619e-03\n",
       "max      1.000000e+00\n",
       "dtype: float64"
      ]
     },
     "execution_count": 36,
     "metadata": {},
     "output_type": "execute_result"
    }
   ],
   "source": [
    "gene_corrs_flat.describe()"
   ]
  },
  {
   "cell_type": "code",
   "execution_count": 37,
   "id": "b3815678-0f93-4b35-897b-a9d047a2aa78",
   "metadata": {
    "execution": {
     "iopub.execute_input": "2022-08-27T06:07:26.575747Z",
     "iopub.status.busy": "2022-08-27T06:07:26.575490Z",
     "iopub.status.idle": "2022-08-27T06:07:26.598679Z",
     "shell.execute_reply": "2022-08-27T06:07:26.598278Z"
    },
    "papermill": {
     "duration": 0.251444,
     "end_time": "2022-08-27T06:07:26.599987",
     "exception": false,
     "start_time": "2022-08-27T06:07:26.348543",
     "status": "completed"
    },
    "tags": []
   },
   "outputs": [
    {
     "data": {
      "text/plain": [
       "0.00    6.961090e-07\n",
       "0.05    2.380985e-03\n",
       "0.10    3.338092e-03\n",
       "0.15    3.970822e-03\n",
       "0.20    4.546992e-03\n",
       "0.25    5.064512e-03\n",
       "0.30    5.469926e-03\n",
       "0.35    5.930217e-03\n",
       "0.40    6.338432e-03\n",
       "0.45    6.785034e-03\n",
       "0.50    7.247146e-03\n",
       "0.55    7.664999e-03\n",
       "0.60    8.136544e-03\n",
       "0.65    8.602648e-03\n",
       "0.70    9.148332e-03\n",
       "0.75    9.733619e-03\n",
       "0.80    1.039804e-02\n",
       "0.85    1.124077e-02\n",
       "0.90    1.239551e-02\n",
       "0.95    1.466809e-02\n",
       "dtype: float64"
      ]
     },
     "metadata": {},
     "output_type": "display_data"
    }
   ],
   "source": [
    "gene_corrs_quantiles = gene_corrs_flat.quantile(np.arange(0, 1, 0.05))\n",
    "display(gene_corrs_quantiles)"
   ]
  },
  {
   "cell_type": "markdown",
   "id": "87134509-b145-4a10-8bc9-b7e914c2b0fa",
   "metadata": {
    "papermill": {
     "duration": 0.216725,
     "end_time": "2022-08-27T06:07:27.081513",
     "exception": false,
     "start_time": "2022-08-27T06:07:26.864788",
     "status": "completed"
    },
    "tags": []
   },
   "source": [
    "## Positive definiteness"
   ]
  },
  {
   "cell_type": "code",
   "execution_count": 38,
   "id": "07d9a9a1-a4f7-48aa-b916-6d42a8cc6186",
   "metadata": {
    "execution": {
     "iopub.execute_input": "2022-08-27T06:07:27.549030Z",
     "iopub.status.busy": "2022-08-27T06:07:27.548793Z",
     "iopub.status.idle": "2022-08-27T06:07:27.572115Z",
     "shell.execute_reply": "2022-08-27T06:07:27.571734Z"
    },
    "papermill": {
     "duration": 0.274891,
     "end_time": "2022-08-27T06:07:27.573329",
     "exception": false,
     "start_time": "2022-08-27T06:07:27.298438",
     "status": "completed"
    },
    "tags": []
   },
   "outputs": [
    {
     "data": {
      "text/plain": [
       "0"
      ]
     },
     "metadata": {},
     "output_type": "display_data"
    },
    {
     "data": {
      "text/plain": [
       "array([], dtype=float64)"
      ]
     },
     "metadata": {},
     "output_type": "display_data"
    }
   ],
   "source": [
    "# print negative eigenvalues\n",
    "eigs = np.linalg.eigvals(gene_corrs_df.to_numpy())\n",
    "display(len(eigs[eigs < 0]))\n",
    "display(eigs[eigs < 0])"
   ]
  },
  {
   "cell_type": "code",
   "execution_count": 39,
   "id": "6e218436-c3c5-4028-8c94-a4fa6260efce",
   "metadata": {
    "execution": {
     "iopub.execute_input": "2022-08-27T06:07:28.013071Z",
     "iopub.status.busy": "2022-08-27T06:07:28.012831Z",
     "iopub.status.idle": "2022-08-27T06:07:28.033173Z",
     "shell.execute_reply": "2022-08-27T06:07:28.032783Z"
    },
    "papermill": {
     "duration": 0.240664,
     "end_time": "2022-08-27T06:07:28.034359",
     "exception": false,
     "start_time": "2022-08-27T06:07:27.793695",
     "status": "completed"
    },
    "tags": []
   },
   "outputs": [
    {
     "name": "stdout",
     "output_type": "stream",
     "text": [
      "Works!\n"
     ]
    }
   ],
   "source": [
    "try:\n",
    "    chol_mat = np.linalg.cholesky(gene_corrs_df.to_numpy())\n",
    "    cov_inv = np.linalg.inv(chol_mat)\n",
    "    print(\"Works!\")\n",
    "except Exception as e:\n",
    "    print(f\"Cholesky decomposition failed: {str(e)}\")"
   ]
  },
  {
   "cell_type": "code",
   "execution_count": 40,
   "id": "dd8827fb-faf9-4c7c-9454-015e94752706",
   "metadata": {
    "execution": {
     "iopub.execute_input": "2022-08-27T06:07:28.506700Z",
     "iopub.status.busy": "2022-08-27T06:07:28.506438Z",
     "iopub.status.idle": "2022-08-27T06:07:28.526343Z",
     "shell.execute_reply": "2022-08-27T06:07:28.525954Z"
    },
    "papermill": {
     "duration": 0.241456,
     "end_time": "2022-08-27T06:07:28.527682",
     "exception": false,
     "start_time": "2022-08-27T06:07:28.286226",
     "status": "completed"
    },
    "tags": []
   },
   "outputs": [
    {
     "name": "stdout",
     "output_type": "stream",
     "text": [
      "Works!\n"
     ]
    }
   ],
   "source": [
    "try:\n",
    "    # decomposition used by statsmodels.GLS\n",
    "    cholsigmainv = np.linalg.cholesky(np.linalg.inv(gene_corrs_df.to_numpy())).T\n",
    "    print(\"Works!\")\n",
    "except Exception as e:\n",
    "    print(f\"Cholesky decomposition failed (statsmodels.GLS): {str(e)}\")"
   ]
  },
  {
   "cell_type": "markdown",
   "id": "8e60a080-edb2-4e9c-b2ef-22961693200c",
   "metadata": {
    "papermill": {
     "duration": 0.220396,
     "end_time": "2022-08-27T06:07:28.966103",
     "exception": false,
     "start_time": "2022-08-27T06:07:28.745707",
     "status": "completed"
    },
    "tags": []
   },
   "source": [
    "## Plot: distribution"
   ]
  },
  {
   "cell_type": "code",
   "execution_count": 41,
   "id": "8301126b-a7d4-4744-9c7d-f0f86eb6f54c",
   "metadata": {
    "execution": {
     "iopub.execute_input": "2022-08-27T06:07:29.430978Z",
     "iopub.status.busy": "2022-08-27T06:07:29.430733Z",
     "iopub.status.idle": "2022-08-27T06:07:33.295478Z",
     "shell.execute_reply": "2022-08-27T06:07:33.295022Z"
    },
    "papermill": {
     "duration": 4.084353,
     "end_time": "2022-08-27T06:07:33.296884",
     "exception": false,
     "start_time": "2022-08-27T06:07:29.212531",
     "status": "completed"
    },
    "tags": []
   },
   "outputs": [
    {
     "data": {
      "image/png": "[encoded data removed]",
      "text/plain": [
       "<Figure size 504x504 with 1 Axes>"
      ]
     },
     "metadata": {
      "needs_background": "light"
     },
     "output_type": "display_data"
    }
   ],
   "source": [
    "with sns.plotting_context(\"paper\", font_scale=1.5):\n",
    "    g = sns.displot(gene_corrs_flat, kde=True, height=7)\n",
    "    g.ax.set_title(\n",
    "        f\"Distribution of gene correlation values in chromosome {CHROMOSOME}\"\n",
    "    )"
   ]
  },
  {
   "cell_type": "markdown",
   "id": "cbd52bca-d878-4a2f-b684-5c83aa3038d4",
   "metadata": {
    "papermill": {
     "duration": 0.252318,
     "end_time": "2022-08-27T06:07:33.777464",
     "exception": false,
     "start_time": "2022-08-27T06:07:33.525146",
     "status": "completed"
    },
    "tags": []
   },
   "source": [
    "## Plot: heatmap"
   ]
  },
  {
   "cell_type": "code",
   "execution_count": 42,
   "id": "d03fe63a-c7b2-4fb9-a53c-db362ce843c9",
   "metadata": {
    "execution": {
     "iopub.execute_input": "2022-08-27T06:07:34.216656Z",
     "iopub.status.busy": "2022-08-27T06:07:34.216391Z",
     "iopub.status.idle": "2022-08-27T06:07:34.241677Z",
     "shell.execute_reply": "2022-08-27T06:07:34.241289Z"
    },
    "papermill": {
     "duration": 0.246928,
     "end_time": "2022-08-27T06:07:34.242862",
     "exception": false,
     "start_time": "2022-08-27T06:07:33.995934",
     "status": "completed"
    },
    "tags": []
   },
   "outputs": [
    {
     "data": {
      "text/plain": [
       "'0.0 / 0.05'"
      ]
     },
     "metadata": {},
     "output_type": "display_data"
    }
   ],
   "source": [
    "vmin_val = min(0.00, gene_corrs_quantiles[0.10])\n",
    "vmax_val = max(0.05, gene_corrs_quantiles[0.90])\n",
    "display(f\"{vmin_val} / {vmax_val}\")"
   ]
  },
  {
   "cell_type": "code",
   "execution_count": 43,
   "id": "dc41b70b-5bcc-4d9e-9f33-a22c4a94dab5",
   "metadata": {
    "execution": {
     "iopub.execute_input": "2022-08-27T06:07:34.712155Z",
     "iopub.status.busy": "2022-08-27T06:07:34.711917Z",
     "iopub.status.idle": "2022-08-27T06:07:34.841690Z",
     "shell.execute_reply": "2022-08-27T06:07:34.841286Z"
    },
    "papermill": {
     "duration": 0.350792,
     "end_time": "2022-08-27T06:07:34.842925",
     "exception": false,
     "start_time": "2022-08-27T06:07:34.492133",
     "status": "completed"
    },
    "tags": []
   },
   "outputs": [
    {
     "data": {
      "text/plain": [
       "Text(0.5, 1.0, 'Gene correlations in chromosome 18')"
      ]
     },
     "execution_count": 43,
     "metadata": {},
     "output_type": "execute_result"
    },
    {
     "data": {
      "image/png": "[encoded data removed]",
      "text/plain": [
       "<Figure size 720x720 with 2 Axes>"
      ]
     },
     "metadata": {
      "needs_background": "light"
     },
     "output_type": "display_data"
    }
   ],
   "source": [
    "f, ax = plt.subplots(figsize=(10, 10))\n",
    "sns.heatmap(\n",
    "    gene_corrs_df,\n",
    "    xticklabels=False,\n",
    "    yticklabels=False,\n",
    "    square=True,\n",
    "    vmin=vmin_val,\n",
    "    vmax=vmax_val,\n",
    "    cmap=\"rocket_r\",\n",
    "    ax=ax,\n",
    ")\n",
    "ax.set_title(f\"Gene correlations in chromosome {CHROMOSOME}\")"
   ]
  },
  {
   "cell_type": "code",
   "execution_count": null,
   "id": "b25e3ead",
   "metadata": {
    "papermill": {
     "duration": 0.226443,
     "end_time": "2022-08-27T06:07:35.289489",
     "exception": false,
     "start_time": "2022-08-27T06:07:35.063046",
     "status": "completed"
    },
    "tags": []
   },
   "outputs": [],
   "source": []
  }
 ],
 "metadata": {
  "jupytext": {
   "cell_metadata_filter": "all,-execution,-papermill,-trusted",
   "formats": "ipynb,py//py:percent"
  },
  "kernelspec": {
   "display_name": "Python 3 (ipykernel)",
   "language": "python",
   "name": "python3"
  },
  "language_info": {
   "codemirror_mode": {
    "name": "ipython",
    "version": 3
   },
   "file_extension": ".py",
   "mimetype": "text/x-python",
   "name": "python",
   "nbconvert_exporter": "python",
   "pygments_lexer": "ipython3",
   "version": "3.8.13"
  },
  "papermill": {
   "default_parameters": {},
   "duration": 381.918848,
   "end_time": "2022-08-27T06:07:38.870461",
   "environment_variables": {},
   "exception": null,
   "input_path": "nbs/15_gsa_gls/10-gene_expr_correlations.ipynb",
   "output_path": "nbs/15_gsa_gls/gene_corrs/cohorts/phenomexcan_astle/gtex_v8/mashr/10-gene_expr_corrs/10-gene_expr_correlations-chr18.run.ipynb",
   "parameters": {
    "CHROMOSOME": 18,
    "COHORT_NAME": "phenomexcan_astle",
    "EQTL_MODEL": "MASHR",
    "REFERENCE_PANEL": "GTEX_V8"
   },
   "start_time": "2022-08-27T06:01:16.951613",
   "version": "2.2.2"
  }
 },
 "nbformat": 4,
 "nbformat_minor": 5
}
