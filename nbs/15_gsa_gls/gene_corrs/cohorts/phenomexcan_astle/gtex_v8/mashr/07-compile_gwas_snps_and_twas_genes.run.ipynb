{
 "cells": [
  {
   "cell_type": "markdown",
   "id": "7a6632fb",
   "metadata": {
    "papermill": {
     "duration": 0.022097,
     "end_time": "2022-08-27T04:16:07.684066",
     "exception": false,
     "start_time": "2022-08-27T04:16:07.661969",
     "status": "completed"
    },
    "tags": []
   },
   "source": [
    "# Description"
   ]
  },
  {
   "cell_type": "markdown",
   "id": "7097c346",
   "metadata": {
    "papermill": {
     "duration": 0.020562,
     "end_time": "2022-08-27T04:16:07.724720",
     "exception": false,
     "start_time": "2022-08-27T04:16:07.704158",
     "status": "completed"
    },
    "tags": []
   },
   "source": [
    "(Please, take a look at the README.md file in this directory for instructions on how to run this notebook)\n",
    "\n",
    "This notebook compiles information about the GWAS and TWAS for a particular cohort. For example, the set of GWAS variants, variance of predicted expression of genes, etc.\n",
    "\n",
    "It has specicfic parameters for papermill (see under `Settings` below).\n",
    "\n",
    "This notebook is not directly run. See README.md."
   ]
  },
  {
   "cell_type": "markdown",
   "id": "c61d8427",
   "metadata": {
    "papermill": {
     "duration": 0.019822,
     "end_time": "2022-08-27T04:16:07.767570",
     "exception": false,
     "start_time": "2022-08-27T04:16:07.747748",
     "status": "completed"
    },
    "tags": []
   },
   "source": [
    "# Modules"
   ]
  },
  {
   "cell_type": "code",
   "execution_count": 1,
   "id": "bbc0234f",
   "metadata": {
    "execution": {
     "iopub.execute_input": "2022-08-27T04:16:07.821620Z",
     "iopub.status.busy": "2022-08-27T04:16:07.821317Z",
     "iopub.status.idle": "2022-08-27T04:16:07.840388Z",
     "shell.execute_reply": "2022-08-27T04:16:07.839793Z"
    },
    "papermill": {
     "duration": 0.04339,
     "end_time": "2022-08-27T04:16:07.842557",
     "exception": false,
     "start_time": "2022-08-27T04:16:07.799167",
     "status": "completed"
    },
    "tags": []
   },
   "outputs": [],
   "source": [
    "%load_ext autoreload\n",
    "%autoreload 2"
   ]
  },
  {
   "cell_type": "code",
   "execution_count": 2,
   "id": "1d5f5a59",
   "metadata": {
    "execution": {
     "iopub.execute_input": "2022-08-27T04:16:07.883466Z",
     "iopub.status.busy": "2022-08-27T04:16:07.883212Z",
     "iopub.status.idle": "2022-08-27T04:16:08.514095Z",
     "shell.execute_reply": "2022-08-27T04:16:08.513257Z"
    },
    "papermill": {
     "duration": 0.653809,
     "end_time": "2022-08-27T04:16:08.516273",
     "exception": false,
     "start_time": "2022-08-27T04:16:07.862464",
     "status": "completed"
    },
    "tags": []
   },
   "outputs": [],
   "source": [
    "from pathlib import Path\n",
    "import pickle\n",
    "\n",
    "import numpy as np\n",
    "import pandas as pd\n",
    "\n",
    "import conf\n",
    "from entity import Gene"
   ]
  },
  {
   "cell_type": "markdown",
   "id": "1eac24b5",
   "metadata": {
    "papermill": {
     "duration": 0.019042,
     "end_time": "2022-08-27T04:16:08.557534",
     "exception": false,
     "start_time": "2022-08-27T04:16:08.538492",
     "status": "completed"
    },
    "tags": []
   },
   "source": [
    "# Settings"
   ]
  },
  {
   "cell_type": "code",
   "execution_count": 3,
   "id": "ca4560ba",
   "metadata": {
    "execution": {
     "iopub.execute_input": "2022-08-27T04:16:08.598394Z",
     "iopub.status.busy": "2022-08-27T04:16:08.598120Z",
     "iopub.status.idle": "2022-08-27T04:16:08.617395Z",
     "shell.execute_reply": "2022-08-27T04:16:08.616749Z"
    },
    "papermill": {
     "duration": 0.042176,
     "end_time": "2022-08-27T04:16:08.619138",
     "exception": false,
     "start_time": "2022-08-27T04:16:08.576962",
     "status": "completed"
    },
    "tags": [
     "parameters"
    ]
   },
   "outputs": [],
   "source": [
    "# a cohort name (it could be something like UK_BIOBANK, etc)\n",
    "COHORT_NAME = None\n",
    "\n",
    "# reference panel such as 1000G or GTEX_V8\n",
    "REFERENCE_PANEL = None\n",
    "\n",
    "# predictions models such as MASHR or ELASTIC_NET\n",
    "EQTL_MODEL = None\n",
    "\n",
    "# a string with a path pointing to an imputed GWAS\n",
    "GWAS_FILE = None\n",
    "\n",
    "# a string with a path pointing where S-PrediXcan results (tissue-specific are located\n",
    "SPREDIXCAN_FOLDER = None\n",
    "\n",
    "# an f-string with one placeholder {tissue}\n",
    "SPREDIXCAN_FILE_PATTERN = None\n",
    "\n",
    "# a string with a path pointing to an S-MultiXcan result\n",
    "SMULTIXCAN_FILE = None"
   ]
  },
  {
   "cell_type": "code",
   "execution_count": 4,
   "id": "37bc4924",
   "metadata": {
    "execution": {
     "iopub.execute_input": "2022-08-27T04:16:08.660909Z",
     "iopub.status.busy": "2022-08-27T04:16:08.660634Z",
     "iopub.status.idle": "2022-08-27T04:16:08.677980Z",
     "shell.execute_reply": "2022-08-27T04:16:08.677322Z"
    },
    "papermill": {
     "duration": 0.040747,
     "end_time": "2022-08-27T04:16:08.679906",
     "exception": false,
     "start_time": "2022-08-27T04:16:08.639159",
     "status": "completed"
    },
    "tags": [
     "injected-parameters"
    ]
   },
   "outputs": [],
   "source": [
    "# Parameters\n",
    "COHORT_NAME = \"phenomexcan_astle\"\n",
    "REFERENCE_PANEL = \"GTEX_V8\"\n",
    "EQTL_MODEL = \"MASHR\"\n",
    "GWAS_FILE = \"/project/ritchie20/projects/phenoplier/base/data/phenomexcan/gwas_parsing/full/Astle_et_al_2016_Eosinophil_counts.txt.gz\"\n",
    "SPREDIXCAN_FOLDER = \"/project/ritchie20/projects/phenoplier/base/data/phenomexcan/spredixcan/gtex_gwas/Astle_et_al_2016_Eosinophil_counts/\"\n",
    "SPREDIXCAN_FILE_PATTERN = (\n",
    "    \"spredixcan_igwas_gtexmashrv8_Astle_et_al_2016_Eosinophil_counts__PM__{tissue}.csv\"\n",
    ")\n",
    "SMULTIXCAN_FILE = \"/project/ritchie20/projects/phenoplier/base/data/phenomexcan/smultixcan/gtex_gwas/Astle_et_al_2016_Eosinophil_counts_smultixcan_imputed_gwas_gtexv8mashr_ccn30.txt.gz\"\n"
   ]
  },
  {
   "cell_type": "code",
   "execution_count": 5,
   "id": "8fe24bef",
   "metadata": {
    "execution": {
     "iopub.execute_input": "2022-08-27T04:16:08.721130Z",
     "iopub.status.busy": "2022-08-27T04:16:08.720850Z",
     "iopub.status.idle": "2022-08-27T04:16:08.745621Z",
     "shell.execute_reply": "2022-08-27T04:16:08.745039Z"
    },
    "papermill": {
     "duration": 0.047388,
     "end_time": "2022-08-27T04:16:08.747249",
     "exception": false,
     "start_time": "2022-08-27T04:16:08.699861",
     "status": "completed"
    },
    "tags": []
   },
   "outputs": [
    {
     "data": {
      "text/plain": [
       "'Cohort name: phenomexcan_astle'"
      ]
     },
     "metadata": {},
     "output_type": "display_data"
    }
   ],
   "source": [
    "assert COHORT_NAME is not None and len(COHORT_NAME) > 0, \"A cohort name must be given\"\n",
    "\n",
    "COHORT_NAME = COHORT_NAME.lower()\n",
    "display(f\"Cohort name: {COHORT_NAME}\")"
   ]
  },
  {
   "cell_type": "code",
   "execution_count": 6,
   "id": "f53ba19b-0f93-4fa2-a047-63b375939d1a",
   "metadata": {
    "execution": {
     "iopub.execute_input": "2022-08-27T04:16:08.788691Z",
     "iopub.status.busy": "2022-08-27T04:16:08.788420Z",
     "iopub.status.idle": "2022-08-27T04:16:08.807518Z",
     "shell.execute_reply": "2022-08-27T04:16:08.806939Z"
    },
    "papermill": {
     "duration": 0.04222,
     "end_time": "2022-08-27T04:16:08.809183",
     "exception": false,
     "start_time": "2022-08-27T04:16:08.766963",
     "status": "completed"
    },
    "tags": []
   },
   "outputs": [
    {
     "data": {
      "text/plain": [
       "'Reference panel: GTEX_V8'"
      ]
     },
     "metadata": {},
     "output_type": "display_data"
    }
   ],
   "source": [
    "assert (\n",
    "    REFERENCE_PANEL is not None and len(REFERENCE_PANEL) > 0\n",
    "), \"A reference panel must be given\"\n",
    "\n",
    "display(f\"Reference panel: {REFERENCE_PANEL}\")"
   ]
  },
  {
   "cell_type": "code",
   "execution_count": 7,
   "id": "7a970044-2d34-4e5b-a850-eff44079afe8",
   "metadata": {
    "execution": {
     "iopub.execute_input": "2022-08-27T04:16:08.852100Z",
     "iopub.status.busy": "2022-08-27T04:16:08.851817Z",
     "iopub.status.idle": "2022-08-27T04:16:08.872562Z",
     "shell.execute_reply": "2022-08-27T04:16:08.871962Z"
    },
    "papermill": {
     "duration": 0.044407,
     "end_time": "2022-08-27T04:16:08.874322",
     "exception": false,
     "start_time": "2022-08-27T04:16:08.829915",
     "status": "completed"
    },
    "tags": []
   },
   "outputs": [
    {
     "data": {
      "text/plain": [
       "'GWAS file path: /project/ritchie20/projects/phenoplier/base/data/phenomexcan/gwas_parsing/full/Astle_et_al_2016_Eosinophil_counts.txt.gz'"
      ]
     },
     "metadata": {},
     "output_type": "display_data"
    }
   ],
   "source": [
    "assert GWAS_FILE is not None and len(GWAS_FILE) > 0, \"A GWAS file path must be given\"\n",
    "GWAS_FILE = Path(GWAS_FILE).resolve()\n",
    "assert GWAS_FILE.exists(), \"GWAS file does not exist\"\n",
    "\n",
    "display(f\"GWAS file path: {str(GWAS_FILE)}\")"
   ]
  },
  {
   "cell_type": "code",
   "execution_count": 8,
   "id": "552a7f63-a18c-4d3e-bb6a-94f99b431291",
   "metadata": {
    "execution": {
     "iopub.execute_input": "2022-08-27T04:16:08.916985Z",
     "iopub.status.busy": "2022-08-27T04:16:08.916705Z",
     "iopub.status.idle": "2022-08-27T04:16:08.936746Z",
     "shell.execute_reply": "2022-08-27T04:16:08.936174Z"
    },
    "papermill": {
     "duration": 0.043898,
     "end_time": "2022-08-27T04:16:08.938446",
     "exception": false,
     "start_time": "2022-08-27T04:16:08.894548",
     "status": "completed"
    },
    "tags": []
   },
   "outputs": [
    {
     "data": {
      "text/plain": [
       "'S-PrediXcan folder path: /project/ritchie20/projects/phenoplier/base/data/phenomexcan/spredixcan/gtex_gwas/Astle_et_al_2016_Eosinophil_counts'"
      ]
     },
     "metadata": {},
     "output_type": "display_data"
    }
   ],
   "source": [
    "assert (\n",
    "    SPREDIXCAN_FOLDER is not None and len(SPREDIXCAN_FOLDER) > 0\n",
    "), \"An S-PrediXcan folder path must be given\"\n",
    "SPREDIXCAN_FOLDER = Path(SPREDIXCAN_FOLDER).resolve()\n",
    "assert SPREDIXCAN_FOLDER.exists(), \"S-PrediXcan folder does not exist\"\n",
    "\n",
    "display(f\"S-PrediXcan folder path: {str(SPREDIXCAN_FOLDER)}\")"
   ]
  },
  {
   "cell_type": "code",
   "execution_count": 9,
   "id": "6e2000dc-f1dc-4db8-93d5-9a7209a2e121",
   "metadata": {
    "execution": {
     "iopub.execute_input": "2022-08-27T04:16:08.981714Z",
     "iopub.status.busy": "2022-08-27T04:16:08.981425Z",
     "iopub.status.idle": "2022-08-27T04:16:09.000545Z",
     "shell.execute_reply": "2022-08-27T04:16:08.999966Z"
    },
    "papermill": {
     "duration": 0.042796,
     "end_time": "2022-08-27T04:16:09.002198",
     "exception": false,
     "start_time": "2022-08-27T04:16:08.959402",
     "status": "completed"
    },
    "tags": []
   },
   "outputs": [
    {
     "data": {
      "text/plain": [
       "'S-PrediXcan file template: spredixcan_igwas_gtexmashrv8_Astle_et_al_2016_Eosinophil_counts__PM__{tissue}.csv'"
      ]
     },
     "metadata": {},
     "output_type": "display_data"
    }
   ],
   "source": [
    "assert (\n",
    "    SPREDIXCAN_FILE_PATTERN is not None and len(SPREDIXCAN_FILE_PATTERN) > 0\n",
    "), \"An S-PrediXcan file pattern must be given\"\n",
    "assert (\n",
    "    \"{tissue}\" in SPREDIXCAN_FILE_PATTERN\n",
    "), \"S-PrediXcan file pattern must have a '{tissue}' placeholder\"\n",
    "\n",
    "display(f\"S-PrediXcan file template: {SPREDIXCAN_FILE_PATTERN}\")"
   ]
  },
  {
   "cell_type": "code",
   "execution_count": 10,
   "id": "f5a5aa9d-c6f3-4fb5-9351-37382b6e67bc",
   "metadata": {
    "execution": {
     "iopub.execute_input": "2022-08-27T04:16:09.046557Z",
     "iopub.status.busy": "2022-08-27T04:16:09.046290Z",
     "iopub.status.idle": "2022-08-27T04:16:09.065857Z",
     "shell.execute_reply": "2022-08-27T04:16:09.065264Z"
    },
    "papermill": {
     "duration": 0.044359,
     "end_time": "2022-08-27T04:16:09.067489",
     "exception": false,
     "start_time": "2022-08-27T04:16:09.023130",
     "status": "completed"
    },
    "tags": []
   },
   "outputs": [
    {
     "data": {
      "text/plain": [
       "'S-MultiXcan file path: /project/ritchie20/projects/phenoplier/base/data/phenomexcan/smultixcan/gtex_gwas/Astle_et_al_2016_Eosinophil_counts_smultixcan_imputed_gwas_gtexv8mashr_ccn30.txt.gz'"
      ]
     },
     "metadata": {},
     "output_type": "display_data"
    }
   ],
   "source": [
    "assert (\n",
    "    SMULTIXCAN_FILE is not None and len(SMULTIXCAN_FILE) > 0\n",
    "), \"An S-MultiXcan result file path must be given\"\n",
    "SMULTIXCAN_FILE = Path(SMULTIXCAN_FILE).resolve()\n",
    "assert SMULTIXCAN_FILE.exists(), \"S-MultiXcan result file does not exist\"\n",
    "\n",
    "display(f\"S-MultiXcan file path: {str(SMULTIXCAN_FILE)}\")"
   ]
  },
  {
   "cell_type": "code",
   "execution_count": 11,
   "id": "0723dc2f-34d1-407c-a55b-d6d13c55d63d",
   "metadata": {
    "execution": {
     "iopub.execute_input": "2022-08-27T04:16:09.111244Z",
     "iopub.status.busy": "2022-08-27T04:16:09.110962Z",
     "iopub.status.idle": "2022-08-27T04:16:09.130598Z",
     "shell.execute_reply": "2022-08-27T04:16:09.129942Z"
    },
    "papermill": {
     "duration": 0.042877,
     "end_time": "2022-08-27T04:16:09.132471",
     "exception": false,
     "start_time": "2022-08-27T04:16:09.089594",
     "status": "completed"
    },
    "tags": []
   },
   "outputs": [
    {
     "data": {
      "text/plain": [
       "'eQTL model: MASHR'"
      ]
     },
     "metadata": {},
     "output_type": "display_data"
    }
   ],
   "source": [
    "assert (\n",
    "    EQTL_MODEL is not None and len(EQTL_MODEL) > 0\n",
    "), \"A prediction/eQTL model must be given\"\n",
    "\n",
    "display(f\"eQTL model: {EQTL_MODEL}\")"
   ]
  },
  {
   "cell_type": "code",
   "execution_count": 12,
   "id": "396392dc-0340-4540-9b02-e182b833f909",
   "metadata": {
    "execution": {
     "iopub.execute_input": "2022-08-27T04:16:09.176656Z",
     "iopub.status.busy": "2022-08-27T04:16:09.176383Z",
     "iopub.status.idle": "2022-08-27T04:16:09.197455Z",
     "shell.execute_reply": "2022-08-27T04:16:09.196797Z"
    },
    "papermill": {
     "duration": 0.045419,
     "end_time": "2022-08-27T04:16:09.199497",
     "exception": false,
     "start_time": "2022-08-27T04:16:09.154078",
     "status": "completed"
    },
    "tags": []
   },
   "outputs": [
    {
     "data": {
      "text/plain": [
       "'Using output dir base: /project/ritchie20/projects/phenoplier/base/results/gls/gene_corrs/cohorts/phenomexcan_astle/gtex_v8/mashr'"
      ]
     },
     "metadata": {},
     "output_type": "display_data"
    }
   ],
   "source": [
    "OUTPUT_DIR_BASE = (\n",
    "    conf.RESULTS[\"GLS\"]\n",
    "    / \"gene_corrs\"\n",
    "    / \"cohorts\"\n",
    "    / COHORT_NAME\n",
    "    / REFERENCE_PANEL.lower()\n",
    "    / EQTL_MODEL.lower()\n",
    ")\n",
    "\n",
    "OUTPUT_DIR_BASE.mkdir(parents=True, exist_ok=True)\n",
    "\n",
    "display(f\"Using output dir base: {OUTPUT_DIR_BASE}\")"
   ]
  },
  {
   "cell_type": "markdown",
   "id": "b6ebb422-8204-494b-8c72-360a71ce9863",
   "metadata": {
    "papermill": {
     "duration": 0.021796,
     "end_time": "2022-08-27T04:16:09.243101",
     "exception": false,
     "start_time": "2022-08-27T04:16:09.221305",
     "status": "completed"
    },
    "tags": []
   },
   "source": [
    "# Load MultiPLIER Z genes"
   ]
  },
  {
   "cell_type": "code",
   "execution_count": 13,
   "id": "c48ef527",
   "metadata": {
    "execution": {
     "iopub.execute_input": "2022-08-27T04:16:09.287259Z",
     "iopub.status.busy": "2022-08-27T04:16:09.286985Z",
     "iopub.status.idle": "2022-08-27T04:16:09.324325Z",
     "shell.execute_reply": "2022-08-27T04:16:09.323665Z"
    },
    "papermill": {
     "duration": 0.061771,
     "end_time": "2022-08-27T04:16:09.326301",
     "exception": false,
     "start_time": "2022-08-27T04:16:09.264530",
     "status": "completed"
    },
    "tags": []
   },
   "outputs": [],
   "source": [
    "multiplier_z_genes = pd.read_pickle(\n",
    "    conf.MULTIPLIER[\"MODEL_Z_MATRIX_FILE\"]\n",
    ").index.tolist()"
   ]
  },
  {
   "cell_type": "code",
   "execution_count": 14,
   "id": "0a4ecbd9",
   "metadata": {
    "execution": {
     "iopub.execute_input": "2022-08-27T04:16:09.368592Z",
     "iopub.status.busy": "2022-08-27T04:16:09.368348Z",
     "iopub.status.idle": "2022-08-27T04:16:09.386594Z",
     "shell.execute_reply": "2022-08-27T04:16:09.386056Z"
    },
    "papermill": {
     "duration": 0.041009,
     "end_time": "2022-08-27T04:16:09.388190",
     "exception": false,
     "start_time": "2022-08-27T04:16:09.347181",
     "status": "completed"
    },
    "tags": []
   },
   "outputs": [
    {
     "data": {
      "text/plain": [
       "6750"
      ]
     },
     "execution_count": 14,
     "metadata": {},
     "output_type": "execute_result"
    }
   ],
   "source": [
    "len(multiplier_z_genes)"
   ]
  },
  {
   "cell_type": "code",
   "execution_count": 15,
   "id": "a18ce359-0759-4260-ae6f-053e8c0041b7",
   "metadata": {
    "execution": {
     "iopub.execute_input": "2022-08-27T04:16:09.430888Z",
     "iopub.status.busy": "2022-08-27T04:16:09.430623Z",
     "iopub.status.idle": "2022-08-27T04:16:09.447488Z",
     "shell.execute_reply": "2022-08-27T04:16:09.446950Z"
    },
    "papermill": {
     "duration": 0.040367,
     "end_time": "2022-08-27T04:16:09.449161",
     "exception": false,
     "start_time": "2022-08-27T04:16:09.408794",
     "status": "completed"
    },
    "tags": []
   },
   "outputs": [],
   "source": [
    "assert len(multiplier_z_genes) == len(set(multiplier_z_genes))"
   ]
  },
  {
   "cell_type": "code",
   "execution_count": 16,
   "id": "115e8864",
   "metadata": {
    "execution": {
     "iopub.execute_input": "2022-08-27T04:16:09.492688Z",
     "iopub.status.busy": "2022-08-27T04:16:09.492408Z",
     "iopub.status.idle": "2022-08-27T04:16:09.511391Z",
     "shell.execute_reply": "2022-08-27T04:16:09.510823Z"
    },
    "papermill": {
     "duration": 0.043123,
     "end_time": "2022-08-27T04:16:09.513018",
     "exception": false,
     "start_time": "2022-08-27T04:16:09.469895",
     "status": "completed"
    },
    "tags": []
   },
   "outputs": [
    {
     "data": {
      "text/plain": [
       "['GAS6', 'MMP14', 'DSP', 'MARCKSL1', 'SPARC']"
      ]
     },
     "execution_count": 16,
     "metadata": {},
     "output_type": "execute_result"
    }
   ],
   "source": [
    "multiplier_z_genes[:5]"
   ]
  },
  {
   "cell_type": "markdown",
   "id": "7bed0ce0-e7c7-4300-9a61-5412450b1904",
   "metadata": {
    "papermill": {
     "duration": 0.021077,
     "end_time": "2022-08-27T04:16:09.555035",
     "exception": false,
     "start_time": "2022-08-27T04:16:09.533958",
     "status": "completed"
    },
    "tags": []
   },
   "source": [
    "# GWAS"
   ]
  },
  {
   "cell_type": "code",
   "execution_count": 17,
   "id": "331e5691-c014-43e4-b94c-060c64d329df",
   "metadata": {
    "execution": {
     "iopub.execute_input": "2022-08-27T04:16:09.598278Z",
     "iopub.status.busy": "2022-08-27T04:16:09.598013Z",
     "iopub.status.idle": "2022-08-27T04:16:09.626152Z",
     "shell.execute_reply": "2022-08-27T04:16:09.625511Z"
    },
    "papermill": {
     "duration": 0.052555,
     "end_time": "2022-08-27T04:16:09.628188",
     "exception": false,
     "start_time": "2022-08-27T04:16:09.575633",
     "status": "completed"
    },
    "tags": []
   },
   "outputs": [],
   "source": [
    "gwas_file_columns = pd.read_csv(GWAS_FILE, sep=\"\\t\", nrows=2).columns\n",
    "assert (\n",
    "    \"panel_variant_id\" in gwas_file_columns\n",
    "), \"GWAS file must be final imputed one with column 'panel_variant_id'\"\n",
    "# FIXME: add other needed columns here"
   ]
  },
  {
   "cell_type": "code",
   "execution_count": 18,
   "id": "8d419629-8f4d-4c83-bed3-cfc071a58090",
   "metadata": {
    "execution": {
     "iopub.execute_input": "2022-08-27T04:16:09.674312Z",
     "iopub.status.busy": "2022-08-27T04:16:09.674046Z",
     "iopub.status.idle": "2022-08-27T04:16:25.079873Z",
     "shell.execute_reply": "2022-08-27T04:16:25.078968Z"
    },
    "papermill": {
     "duration": 15.431386,
     "end_time": "2022-08-27T04:16:25.082004",
     "exception": false,
     "start_time": "2022-08-27T04:16:09.650618",
     "status": "completed"
    },
    "tags": []
   },
   "outputs": [],
   "source": [
    "gwas_data = pd.read_csv(\n",
    "    GWAS_FILE,\n",
    "    sep=\"\\t\",\n",
    "    usecols=[\"panel_variant_id\", \"pvalue\", \"zscore\"],\n",
    ")"
   ]
  },
  {
   "cell_type": "code",
   "execution_count": 19,
   "id": "3f4e814e-6b41-407e-9099-86795eec6ed9",
   "metadata": {
    "execution": {
     "iopub.execute_input": "2022-08-27T04:16:25.125828Z",
     "iopub.status.busy": "2022-08-27T04:16:25.125543Z",
     "iopub.status.idle": "2022-08-27T04:16:25.147307Z",
     "shell.execute_reply": "2022-08-27T04:16:25.146713Z"
    },
    "papermill": {
     "duration": 0.045255,
     "end_time": "2022-08-27T04:16:25.148888",
     "exception": false,
     "start_time": "2022-08-27T04:16:25.103633",
     "status": "completed"
    },
    "tags": []
   },
   "outputs": [
    {
     "data": {
      "text/plain": [
       "(8871979, 3)"
      ]
     },
     "execution_count": 19,
     "metadata": {},
     "output_type": "execute_result"
    }
   ],
   "source": [
    "gwas_data.shape"
   ]
  },
  {
   "cell_type": "code",
   "execution_count": 20,
   "id": "b4a906e9-c80a-47fc-9d73-5adb046f8b76",
   "metadata": {
    "execution": {
     "iopub.execute_input": "2022-08-27T04:16:25.193078Z",
     "iopub.status.busy": "2022-08-27T04:16:25.192813Z",
     "iopub.status.idle": "2022-08-27T04:16:25.217277Z",
     "shell.execute_reply": "2022-08-27T04:16:25.216703Z"
    },
    "papermill": {
     "duration": 0.048525,
     "end_time": "2022-08-27T04:16:25.218903",
     "exception": false,
     "start_time": "2022-08-27T04:16:25.170378",
     "status": "completed"
    },
    "tags": []
   },
   "outputs": [
    {
     "data": {
      "text/html": [
       "<div>\n",
       "<style scoped>\n",
       "    .dataframe tbody tr th:only-of-type {\n",
       "        vertical-align: middle;\n",
       "    }\n",
       "\n",
       "    .dataframe tbody tr th {\n",
       "        vertical-align: top;\n",
       "    }\n",
       "\n",
       "    .dataframe thead th {\n",
       "        text-align: right;\n",
       "    }\n",
       "</style>\n",
       "<table border=\"1\" class=\"dataframe\">\n",
       "  <thead>\n",
       "    <tr style=\"text-align: right;\">\n",
       "      <th></th>\n",
       "      <th>panel_variant_id</th>\n",
       "      <th>zscore</th>\n",
       "      <th>pvalue</th>\n",
       "    </tr>\n",
       "  </thead>\n",
       "  <tbody>\n",
       "    <tr>\n",
       "      <th>0</th>\n",
       "      <td>chr1_13550_G_A_b38</td>\n",
       "      <td>0.063804</td>\n",
       "      <td>0.949126</td>\n",
       "    </tr>\n",
       "    <tr>\n",
       "      <th>1</th>\n",
       "      <td>chr1_14671_G_C_b38</td>\n",
       "      <td>0.143863</td>\n",
       "      <td>0.885609</td>\n",
       "    </tr>\n",
       "    <tr>\n",
       "      <th>2</th>\n",
       "      <td>chr1_14677_G_A_b38</td>\n",
       "      <td>-0.320118</td>\n",
       "      <td>0.748879</td>\n",
       "    </tr>\n",
       "    <tr>\n",
       "      <th>3</th>\n",
       "      <td>chr1_14933_G_A_b38</td>\n",
       "      <td>-0.372259</td>\n",
       "      <td>0.709700</td>\n",
       "    </tr>\n",
       "    <tr>\n",
       "      <th>4</th>\n",
       "      <td>chr1_16841_G_T_b38</td>\n",
       "      <td>0.625319</td>\n",
       "      <td>0.531762</td>\n",
       "    </tr>\n",
       "  </tbody>\n",
       "</table>\n",
       "</div>"
      ],
      "text/plain": [
       "     panel_variant_id    zscore    pvalue\n",
       "0  chr1_13550_G_A_b38  0.063804  0.949126\n",
       "1  chr1_14671_G_C_b38  0.143863  0.885609\n",
       "2  chr1_14677_G_A_b38 -0.320118  0.748879\n",
       "3  chr1_14933_G_A_b38 -0.372259  0.709700\n",
       "4  chr1_16841_G_T_b38  0.625319  0.531762"
      ]
     },
     "execution_count": 20,
     "metadata": {},
     "output_type": "execute_result"
    }
   ],
   "source": [
    "gwas_data.head()"
   ]
  },
  {
   "cell_type": "code",
   "execution_count": 21,
   "id": "033c24fb-9c60-4ffd-929e-b0e6089820ae",
   "metadata": {
    "execution": {
     "iopub.execute_input": "2022-08-27T04:16:25.263120Z",
     "iopub.status.busy": "2022-08-27T04:16:25.262855Z",
     "iopub.status.idle": "2022-08-27T04:16:26.132774Z",
     "shell.execute_reply": "2022-08-27T04:16:26.132201Z"
    },
    "papermill": {
     "duration": 0.894061,
     "end_time": "2022-08-27T04:16:26.134394",
     "exception": false,
     "start_time": "2022-08-27T04:16:25.240333",
     "status": "completed"
    },
    "tags": []
   },
   "outputs": [
    {
     "data": {
      "text/plain": [
       "(8871979, 3)"
      ]
     },
     "execution_count": 21,
     "metadata": {},
     "output_type": "execute_result"
    }
   ],
   "source": [
    "gwas_data.dropna().shape"
   ]
  },
  {
   "cell_type": "code",
   "execution_count": 22,
   "id": "28232ce5-0afd-464e-9be3-64c3a68c2b25",
   "metadata": {
    "execution": {
     "iopub.execute_input": "2022-08-27T04:16:26.179853Z",
     "iopub.status.busy": "2022-08-27T04:16:26.179625Z",
     "iopub.status.idle": "2022-08-27T04:16:26.865188Z",
     "shell.execute_reply": "2022-08-27T04:16:26.864560Z"
    },
    "papermill": {
     "duration": 0.711357,
     "end_time": "2022-08-27T04:16:26.867173",
     "exception": false,
     "start_time": "2022-08-27T04:16:26.155816",
     "status": "completed"
    },
    "tags": []
   },
   "outputs": [],
   "source": [
    "# remove SNPs with no results\n",
    "gwas_data = gwas_data.dropna()"
   ]
  },
  {
   "cell_type": "code",
   "execution_count": 23,
   "id": "d9a6c31f-eedd-43e5-b762-5a9663be1b77",
   "metadata": {
    "execution": {
     "iopub.execute_input": "2022-08-27T04:16:26.912334Z",
     "iopub.status.busy": "2022-08-27T04:16:26.912068Z",
     "iopub.status.idle": "2022-08-27T04:16:26.930660Z",
     "shell.execute_reply": "2022-08-27T04:16:26.930104Z"
    },
    "papermill": {
     "duration": 0.043036,
     "end_time": "2022-08-27T04:16:26.932252",
     "exception": false,
     "start_time": "2022-08-27T04:16:26.889216",
     "status": "completed"
    },
    "tags": []
   },
   "outputs": [
    {
     "data": {
      "text/plain": [
       "(8871979, 3)"
      ]
     },
     "execution_count": 23,
     "metadata": {},
     "output_type": "execute_result"
    }
   ],
   "source": [
    "gwas_data.shape"
   ]
  },
  {
   "cell_type": "markdown",
   "id": "8da344de-2aa5-48a9-98ec-e8c3397ae7e6",
   "metadata": {
    "papermill": {
     "duration": 0.021794,
     "end_time": "2022-08-27T04:16:26.975086",
     "exception": false,
     "start_time": "2022-08-27T04:16:26.953292",
     "status": "completed"
    },
    "tags": []
   },
   "source": [
    "## Save GWAS variants"
   ]
  },
  {
   "cell_type": "code",
   "execution_count": 24,
   "id": "ac11fb33-ea3c-4d5c-a90b-0ceebdac43d3",
   "metadata": {
    "execution": {
     "iopub.execute_input": "2022-08-27T04:16:27.019525Z",
     "iopub.status.busy": "2022-08-27T04:16:27.019259Z",
     "iopub.status.idle": "2022-08-27T04:16:27.042178Z",
     "shell.execute_reply": "2022-08-27T04:16:27.041594Z"
    },
    "papermill": {
     "duration": 0.047157,
     "end_time": "2022-08-27T04:16:27.043812",
     "exception": false,
     "start_time": "2022-08-27T04:16:26.996655",
     "status": "completed"
    },
    "tags": []
   },
   "outputs": [
    {
     "data": {
      "text/html": [
       "<div>\n",
       "<style scoped>\n",
       "    .dataframe tbody tr th:only-of-type {\n",
       "        vertical-align: middle;\n",
       "    }\n",
       "\n",
       "    .dataframe tbody tr th {\n",
       "        vertical-align: top;\n",
       "    }\n",
       "\n",
       "    .dataframe thead th {\n",
       "        text-align: right;\n",
       "    }\n",
       "</style>\n",
       "<table border=\"1\" class=\"dataframe\">\n",
       "  <thead>\n",
       "    <tr style=\"text-align: right;\">\n",
       "      <th></th>\n",
       "      <th>panel_variant_id</th>\n",
       "      <th>zscore</th>\n",
       "      <th>pvalue</th>\n",
       "    </tr>\n",
       "  </thead>\n",
       "  <tbody>\n",
       "    <tr>\n",
       "      <th>0</th>\n",
       "      <td>chr1_13550_G_A_b38</td>\n",
       "      <td>0.063804</td>\n",
       "      <td>0.949126</td>\n",
       "    </tr>\n",
       "    <tr>\n",
       "      <th>1</th>\n",
       "      <td>chr1_14671_G_C_b38</td>\n",
       "      <td>0.143863</td>\n",
       "      <td>0.885609</td>\n",
       "    </tr>\n",
       "    <tr>\n",
       "      <th>2</th>\n",
       "      <td>chr1_14677_G_A_b38</td>\n",
       "      <td>-0.320118</td>\n",
       "      <td>0.748879</td>\n",
       "    </tr>\n",
       "    <tr>\n",
       "      <th>3</th>\n",
       "      <td>chr1_14933_G_A_b38</td>\n",
       "      <td>-0.372259</td>\n",
       "      <td>0.709700</td>\n",
       "    </tr>\n",
       "    <tr>\n",
       "      <th>4</th>\n",
       "      <td>chr1_16841_G_T_b38</td>\n",
       "      <td>0.625319</td>\n",
       "      <td>0.531762</td>\n",
       "    </tr>\n",
       "  </tbody>\n",
       "</table>\n",
       "</div>"
      ],
      "text/plain": [
       "     panel_variant_id    zscore    pvalue\n",
       "0  chr1_13550_G_A_b38  0.063804  0.949126\n",
       "1  chr1_14671_G_C_b38  0.143863  0.885609\n",
       "2  chr1_14677_G_A_b38 -0.320118  0.748879\n",
       "3  chr1_14933_G_A_b38 -0.372259  0.709700\n",
       "4  chr1_16841_G_T_b38  0.625319  0.531762"
      ]
     },
     "execution_count": 24,
     "metadata": {},
     "output_type": "execute_result"
    }
   ],
   "source": [
    "gwas_data.head()"
   ]
  },
  {
   "cell_type": "code",
   "execution_count": 25,
   "id": "5f34bb3d-761a-4860-a179-77ea5f5784ad",
   "metadata": {
    "execution": {
     "iopub.execute_input": "2022-08-27T04:16:27.088673Z",
     "iopub.status.busy": "2022-08-27T04:16:27.088373Z",
     "iopub.status.idle": "2022-08-27T04:16:31.266693Z",
     "shell.execute_reply": "2022-08-27T04:16:31.266093Z"
    },
    "papermill": {
     "duration": 4.203231,
     "end_time": "2022-08-27T04:16:31.268655",
     "exception": false,
     "start_time": "2022-08-27T04:16:27.065424",
     "status": "completed"
    },
    "tags": []
   },
   "outputs": [],
   "source": [
    "assert gwas_data[\"panel_variant_id\"].is_unique"
   ]
  },
  {
   "cell_type": "code",
   "execution_count": 26,
   "id": "d4f23b2f-01a3-4a45-a2b6-31b245b5778e",
   "metadata": {
    "execution": {
     "iopub.execute_input": "2022-08-27T04:16:31.314143Z",
     "iopub.status.busy": "2022-08-27T04:16:31.313848Z",
     "iopub.status.idle": "2022-08-27T04:16:33.969044Z",
     "shell.execute_reply": "2022-08-27T04:16:33.968409Z"
    },
    "papermill": {
     "duration": 2.680092,
     "end_time": "2022-08-27T04:16:33.970677",
     "exception": false,
     "start_time": "2022-08-27T04:16:31.290585",
     "status": "completed"
    },
    "tags": []
   },
   "outputs": [
    {
     "data": {
      "text/plain": [
       "['chr4_161001237_TA_T_b38',\n",
       " 'chr4_65766978_G_T_b38',\n",
       " 'chr3_117230163_A_G_b38',\n",
       " 'chr10_28222316_T_C_b38',\n",
       " 'chr12_93801905_C_T_b38']"
      ]
     },
     "execution_count": 26,
     "metadata": {},
     "output_type": "execute_result"
    }
   ],
   "source": [
    "gwas_variants_ids_set = frozenset(gwas_data[\"panel_variant_id\"])\n",
    "list(gwas_variants_ids_set)[:5]"
   ]
  },
  {
   "cell_type": "code",
   "execution_count": 27,
   "id": "b4a441df-07d7-48dc-be36-cdb3f92be651",
   "metadata": {
    "execution": {
     "iopub.execute_input": "2022-08-27T04:16:34.015178Z",
     "iopub.status.busy": "2022-08-27T04:16:34.014910Z",
     "iopub.status.idle": "2022-08-27T04:16:37.229829Z",
     "shell.execute_reply": "2022-08-27T04:16:37.229223Z"
    },
    "papermill": {
     "duration": 3.239472,
     "end_time": "2022-08-27T04:16:37.231813",
     "exception": false,
     "start_time": "2022-08-27T04:16:33.992341",
     "status": "completed"
    },
    "tags": []
   },
   "outputs": [],
   "source": [
    "with open(OUTPUT_DIR_BASE / \"gwas_variant_ids.pkl\", \"wb\") as handle:\n",
    "    pickle.dump(gwas_variants_ids_set, handle, protocol=pickle.HIGHEST_PROTOCOL)"
   ]
  },
  {
   "cell_type": "markdown",
   "id": "abcc4b3d",
   "metadata": {
    "papermill": {
     "duration": 0.026276,
     "end_time": "2022-08-27T04:16:37.281051",
     "exception": false,
     "start_time": "2022-08-27T04:16:37.254775",
     "status": "completed"
    },
    "tags": []
   },
   "source": [
    "# TWAS"
   ]
  },
  {
   "cell_type": "markdown",
   "id": "2fbc7358-0563-4fc6-bc47-a0fbcc5cdfd4",
   "metadata": {
    "papermill": {
     "duration": 0.021779,
     "end_time": "2022-08-27T04:16:37.324662",
     "exception": false,
     "start_time": "2022-08-27T04:16:37.302883",
     "status": "completed"
    },
    "tags": []
   },
   "source": [
    "## Available tissues for eQTL model"
   ]
  },
  {
   "cell_type": "code",
   "execution_count": 28,
   "id": "f32c0a84-030a-436b-b597-852b6150d2ac",
   "metadata": {
    "execution": {
     "iopub.execute_input": "2022-08-27T04:16:37.370511Z",
     "iopub.status.busy": "2022-08-27T04:16:37.370245Z",
     "iopub.status.idle": "2022-08-27T04:16:37.386598Z",
     "shell.execute_reply": "2022-08-27T04:16:37.386028Z"
    },
    "papermill": {
     "duration": 0.042178,
     "end_time": "2022-08-27T04:16:37.388272",
     "exception": false,
     "start_time": "2022-08-27T04:16:37.346094",
     "status": "completed"
    },
    "tags": []
   },
   "outputs": [],
   "source": [
    "prediction_model_tissues = conf.PHENOMEXCAN[\"PREDICTION_MODELS\"][\n",
    "    f\"{EQTL_MODEL}_TISSUES\"\n",
    "].split(\" \")"
   ]
  },
  {
   "cell_type": "code",
   "execution_count": 29,
   "id": "0e760d0e-f23d-4590-abfb-811a43f7c237",
   "metadata": {
    "execution": {
     "iopub.execute_input": "2022-08-27T04:16:37.434794Z",
     "iopub.status.busy": "2022-08-27T04:16:37.434522Z",
     "iopub.status.idle": "2022-08-27T04:16:37.453455Z",
     "shell.execute_reply": "2022-08-27T04:16:37.452880Z"
    },
    "papermill": {
     "duration": 0.044267,
     "end_time": "2022-08-27T04:16:37.455078",
     "exception": false,
     "start_time": "2022-08-27T04:16:37.410811",
     "status": "completed"
    },
    "tags": []
   },
   "outputs": [
    {
     "data": {
      "text/plain": [
       "49"
      ]
     },
     "execution_count": 29,
     "metadata": {},
     "output_type": "execute_result"
    }
   ],
   "source": [
    "len(prediction_model_tissues)"
   ]
  },
  {
   "cell_type": "code",
   "execution_count": 30,
   "id": "fa4d942c-cd67-4b31-9491-585c887c0ee3",
   "metadata": {
    "execution": {
     "iopub.execute_input": "2022-08-27T04:16:37.501450Z",
     "iopub.status.busy": "2022-08-27T04:16:37.501186Z",
     "iopub.status.idle": "2022-08-27T04:16:37.520162Z",
     "shell.execute_reply": "2022-08-27T04:16:37.519551Z"
    },
    "papermill": {
     "duration": 0.044613,
     "end_time": "2022-08-27T04:16:37.521928",
     "exception": false,
     "start_time": "2022-08-27T04:16:37.477315",
     "status": "completed"
    },
    "tags": []
   },
   "outputs": [
    {
     "data": {
      "text/plain": [
       "['Whole_Blood',\n",
       " 'Brain_Hypothalamus',\n",
       " 'Brain_Amygdala',\n",
       " 'Brain_Nucleus_accumbens_basal_ganglia',\n",
       " 'Artery_Coronary']"
      ]
     },
     "execution_count": 30,
     "metadata": {},
     "output_type": "execute_result"
    }
   ],
   "source": [
    "prediction_model_tissues[:5]"
   ]
  },
  {
   "cell_type": "markdown",
   "id": "fab4814d-757c-4247-b5e4-891bc4863db7",
   "metadata": {
    "papermill": {
     "duration": 0.022612,
     "end_time": "2022-08-27T04:16:37.567849",
     "exception": false,
     "start_time": "2022-08-27T04:16:37.545237",
     "status": "completed"
    },
    "tags": []
   },
   "source": [
    "## S-MultiXcan results"
   ]
  },
  {
   "cell_type": "code",
   "execution_count": 31,
   "id": "2b73c11e-9aa2-410e-84b4-a70be34d02e4",
   "metadata": {
    "execution": {
     "iopub.execute_input": "2022-08-27T04:16:37.614579Z",
     "iopub.status.busy": "2022-08-27T04:16:37.614313Z",
     "iopub.status.idle": "2022-08-27T04:16:37.715864Z",
     "shell.execute_reply": "2022-08-27T04:16:37.715243Z"
    },
    "papermill": {
     "duration": 0.12726,
     "end_time": "2022-08-27T04:16:37.717858",
     "exception": false,
     "start_time": "2022-08-27T04:16:37.590598",
     "status": "completed"
    },
    "tags": []
   },
   "outputs": [],
   "source": [
    "smultixcan_results = pd.read_csv(\n",
    "    SMULTIXCAN_FILE, sep=\"\\t\", usecols=[\"gene\", \"gene_name\", \"pvalue\", \"n\", \"n_indep\"]\n",
    ")"
   ]
  },
  {
   "cell_type": "code",
   "execution_count": 32,
   "id": "8b5abebd-baab-4188-9e3d-655ebbe32401",
   "metadata": {
    "execution": {
     "iopub.execute_input": "2022-08-27T04:16:37.764871Z",
     "iopub.status.busy": "2022-08-27T04:16:37.764596Z",
     "iopub.status.idle": "2022-08-27T04:16:37.783759Z",
     "shell.execute_reply": "2022-08-27T04:16:37.783177Z"
    },
    "papermill": {
     "duration": 0.044546,
     "end_time": "2022-08-27T04:16:37.785389",
     "exception": false,
     "start_time": "2022-08-27T04:16:37.740843",
     "status": "completed"
    },
    "tags": []
   },
   "outputs": [
    {
     "data": {
      "text/plain": [
       "(22516, 5)"
      ]
     },
     "execution_count": 32,
     "metadata": {},
     "output_type": "execute_result"
    }
   ],
   "source": [
    "smultixcan_results.shape"
   ]
  },
  {
   "cell_type": "code",
   "execution_count": 33,
   "id": "c65e233f-9ef6-4883-9386-7abf1d6d1cbd",
   "metadata": {
    "execution": {
     "iopub.execute_input": "2022-08-27T04:16:37.832577Z",
     "iopub.status.busy": "2022-08-27T04:16:37.832306Z",
     "iopub.status.idle": "2022-08-27T04:16:37.853477Z",
     "shell.execute_reply": "2022-08-27T04:16:37.852883Z"
    },
    "papermill": {
     "duration": 0.046924,
     "end_time": "2022-08-27T04:16:37.855213",
     "exception": false,
     "start_time": "2022-08-27T04:16:37.808289",
     "status": "completed"
    },
    "tags": []
   },
   "outputs": [],
   "source": [
    "smultixcan_results = smultixcan_results.dropna()"
   ]
  },
  {
   "cell_type": "code",
   "execution_count": 34,
   "id": "57d2d311-4a42-4725-9e37-b124ed13ad33",
   "metadata": {
    "execution": {
     "iopub.execute_input": "2022-08-27T04:16:37.901870Z",
     "iopub.status.busy": "2022-08-27T04:16:37.901601Z",
     "iopub.status.idle": "2022-08-27T04:16:37.920475Z",
     "shell.execute_reply": "2022-08-27T04:16:37.919904Z"
    },
    "papermill": {
     "duration": 0.044128,
     "end_time": "2022-08-27T04:16:37.922102",
     "exception": false,
     "start_time": "2022-08-27T04:16:37.877974",
     "status": "completed"
    },
    "tags": []
   },
   "outputs": [
    {
     "data": {
      "text/plain": [
       "(22513, 5)"
      ]
     },
     "execution_count": 34,
     "metadata": {},
     "output_type": "execute_result"
    }
   ],
   "source": [
    "smultixcan_results.shape"
   ]
  },
  {
   "cell_type": "code",
   "execution_count": 35,
   "id": "a36b5b59-f4b6-45bf-b241-ffc9671b357f",
   "metadata": {
    "execution": {
     "iopub.execute_input": "2022-08-27T04:16:37.970726Z",
     "iopub.status.busy": "2022-08-27T04:16:37.970461Z",
     "iopub.status.idle": "2022-08-27T04:16:38.491608Z",
     "shell.execute_reply": "2022-08-27T04:16:38.490973Z"
    },
    "papermill": {
     "duration": 0.547786,
     "end_time": "2022-08-27T04:16:38.493497",
     "exception": false,
     "start_time": "2022-08-27T04:16:37.945711",
     "status": "completed"
    },
    "tags": []
   },
   "outputs": [],
   "source": [
    "smultixcan_results = smultixcan_results.assign(\n",
    "    gene_id=smultixcan_results[\"gene\"].apply(lambda g: g.split(\".\")[0])\n",
    ")"
   ]
  },
  {
   "cell_type": "code",
   "execution_count": 36,
   "id": "c49f62a9-a01a-44af-87da-47d195b0ef7e",
   "metadata": {
    "execution": {
     "iopub.execute_input": "2022-08-27T04:16:38.545704Z",
     "iopub.status.busy": "2022-08-27T04:16:38.545424Z",
     "iopub.status.idle": "2022-08-27T04:16:38.570020Z",
     "shell.execute_reply": "2022-08-27T04:16:38.569425Z"
    },
    "papermill": {
     "duration": 0.05072,
     "end_time": "2022-08-27T04:16:38.571667",
     "exception": false,
     "start_time": "2022-08-27T04:16:38.520947",
     "status": "completed"
    },
    "tags": []
   },
   "outputs": [
    {
     "data": {
      "text/html": [
       "<div>\n",
       "<style scoped>\n",
       "    .dataframe tbody tr th:only-of-type {\n",
       "        vertical-align: middle;\n",
       "    }\n",
       "\n",
       "    .dataframe tbody tr th {\n",
       "        vertical-align: top;\n",
       "    }\n",
       "\n",
       "    .dataframe thead th {\n",
       "        text-align: right;\n",
       "    }\n",
       "</style>\n",
       "<table border=\"1\" class=\"dataframe\">\n",
       "  <thead>\n",
       "    <tr style=\"text-align: right;\">\n",
       "      <th></th>\n",
       "      <th>gene</th>\n",
       "      <th>gene_name</th>\n",
       "      <th>pvalue</th>\n",
       "      <th>n</th>\n",
       "      <th>n_indep</th>\n",
       "      <th>gene_id</th>\n",
       "    </tr>\n",
       "  </thead>\n",
       "  <tbody>\n",
       "    <tr>\n",
       "      <th>0</th>\n",
       "      <td>ENSG00000115604.10</td>\n",
       "      <td>IL18R1</td>\n",
       "      <td>2.447651e-130</td>\n",
       "      <td>48.0</td>\n",
       "      <td>6.0</td>\n",
       "      <td>ENSG00000115604</td>\n",
       "    </tr>\n",
       "    <tr>\n",
       "      <th>1</th>\n",
       "      <td>ENSG00000169194.9</td>\n",
       "      <td>IL13</td>\n",
       "      <td>2.350407e-128</td>\n",
       "      <td>26.0</td>\n",
       "      <td>6.0</td>\n",
       "      <td>ENSG00000169194</td>\n",
       "    </tr>\n",
       "    <tr>\n",
       "      <th>2</th>\n",
       "      <td>ENSG00000113522.13</td>\n",
       "      <td>RAD50</td>\n",
       "      <td>9.485137e-110</td>\n",
       "      <td>43.0</td>\n",
       "      <td>8.0</td>\n",
       "      <td>ENSG00000113522</td>\n",
       "    </tr>\n",
       "    <tr>\n",
       "      <th>3</th>\n",
       "      <td>ENSG00000115607.9</td>\n",
       "      <td>IL18RAP</td>\n",
       "      <td>8.595031e-94</td>\n",
       "      <td>49.0</td>\n",
       "      <td>6.0</td>\n",
       "      <td>ENSG00000115607</td>\n",
       "    </tr>\n",
       "    <tr>\n",
       "      <th>4</th>\n",
       "      <td>ENSG00000072682.18</td>\n",
       "      <td>P4HA2</td>\n",
       "      <td>3.829648e-91</td>\n",
       "      <td>46.0</td>\n",
       "      <td>4.0</td>\n",
       "      <td>ENSG00000072682</td>\n",
       "    </tr>\n",
       "  </tbody>\n",
       "</table>\n",
       "</div>"
      ],
      "text/plain": [
       "                 gene gene_name         pvalue     n  n_indep          gene_id\n",
       "0  ENSG00000115604.10    IL18R1  2.447651e-130  48.0      6.0  ENSG00000115604\n",
       "1   ENSG00000169194.9      IL13  2.350407e-128  26.0      6.0  ENSG00000169194\n",
       "2  ENSG00000113522.13     RAD50  9.485137e-110  43.0      8.0  ENSG00000113522\n",
       "3   ENSG00000115607.9   IL18RAP   8.595031e-94  49.0      6.0  ENSG00000115607\n",
       "4  ENSG00000072682.18     P4HA2   3.829648e-91  46.0      4.0  ENSG00000072682"
      ]
     },
     "execution_count": 36,
     "metadata": {},
     "output_type": "execute_result"
    }
   ],
   "source": [
    "smultixcan_results.head()"
   ]
  },
  {
   "cell_type": "code",
   "execution_count": 37,
   "id": "9c4c023c-86d6-4c4b-8d57-c2b6b93aaf84",
   "metadata": {
    "execution": {
     "iopub.execute_input": "2022-08-27T04:16:38.619641Z",
     "iopub.status.busy": "2022-08-27T04:16:38.619420Z",
     "iopub.status.idle": "2022-08-27T04:16:38.637832Z",
     "shell.execute_reply": "2022-08-27T04:16:38.637258Z"
    },
    "papermill": {
     "duration": 0.044421,
     "end_time": "2022-08-27T04:16:38.639568",
     "exception": false,
     "start_time": "2022-08-27T04:16:38.595147",
     "status": "completed"
    },
    "tags": []
   },
   "outputs": [],
   "source": [
    "assert smultixcan_results[\"gene_id\"].is_unique"
   ]
  },
  {
   "cell_type": "markdown",
   "id": "1f9939f1-4200-40d9-a8bf-8e4fd68bee48",
   "metadata": {
    "papermill": {
     "duration": 0.022884,
     "end_time": "2022-08-27T04:16:38.685980",
     "exception": false,
     "start_time": "2022-08-27T04:16:38.663096",
     "status": "completed"
    },
    "tags": []
   },
   "source": [
    "### Get common genes with MultiPLIER"
   ]
  },
  {
   "cell_type": "code",
   "execution_count": 38,
   "id": "c820e6cf-6350-45af-b49a-0abd94f570ff",
   "metadata": {
    "execution": {
     "iopub.execute_input": "2022-08-27T04:16:38.731473Z",
     "iopub.status.busy": "2022-08-27T04:16:38.731252Z",
     "iopub.status.idle": "2022-08-27T04:16:38.751529Z",
     "shell.execute_reply": "2022-08-27T04:16:38.750993Z"
    },
    "papermill": {
     "duration": 0.044696,
     "end_time": "2022-08-27T04:16:38.753090",
     "exception": false,
     "start_time": "2022-08-27T04:16:38.708394",
     "status": "completed"
    },
    "tags": []
   },
   "outputs": [],
   "source": [
    "common_genes = set(multiplier_z_genes).intersection(\n",
    "    set(smultixcan_results[\"gene_name\"])\n",
    ")"
   ]
  },
  {
   "cell_type": "code",
   "execution_count": 39,
   "id": "0a7328f9-96c7-4ac6-a9a6-ae4fa121a4cd",
   "metadata": {
    "execution": {
     "iopub.execute_input": "2022-08-27T04:16:38.803620Z",
     "iopub.status.busy": "2022-08-27T04:16:38.803363Z",
     "iopub.status.idle": "2022-08-27T04:16:38.821420Z",
     "shell.execute_reply": "2022-08-27T04:16:38.820854Z"
    },
    "papermill": {
     "duration": 0.047669,
     "end_time": "2022-08-27T04:16:38.823052",
     "exception": false,
     "start_time": "2022-08-27T04:16:38.775383",
     "status": "completed"
    },
    "tags": []
   },
   "outputs": [
    {
     "data": {
      "text/plain": [
       "6452"
      ]
     },
     "execution_count": 39,
     "metadata": {},
     "output_type": "execute_result"
    }
   ],
   "source": [
    "len(common_genes)"
   ]
  },
  {
   "cell_type": "code",
   "execution_count": 40,
   "id": "5b08d362-44c8-4db2-9258-670e2e2a9cc0",
   "metadata": {
    "execution": {
     "iopub.execute_input": "2022-08-27T04:16:38.874001Z",
     "iopub.status.busy": "2022-08-27T04:16:38.873723Z",
     "iopub.status.idle": "2022-08-27T04:16:38.894331Z",
     "shell.execute_reply": "2022-08-27T04:16:38.893784Z"
    },
    "papermill": {
     "duration": 0.049043,
     "end_time": "2022-08-27T04:16:38.895966",
     "exception": false,
     "start_time": "2022-08-27T04:16:38.846923",
     "status": "completed"
    },
    "tags": []
   },
   "outputs": [
    {
     "data": {
      "text/plain": [
       "['A2M', 'AAAS', 'AANAT', 'AARS', 'AARS2']"
      ]
     },
     "execution_count": 40,
     "metadata": {},
     "output_type": "execute_result"
    }
   ],
   "source": [
    "sorted(list(common_genes))[:5]"
   ]
  },
  {
   "cell_type": "markdown",
   "id": "7f51338b-8a75-42c3-a7e5-a0961cefb663",
   "metadata": {
    "papermill": {
     "duration": 0.024057,
     "end_time": "2022-08-27T04:16:38.948907",
     "exception": false,
     "start_time": "2022-08-27T04:16:38.924850",
     "status": "completed"
    },
    "tags": []
   },
   "source": [
    "## Genes info"
   ]
  },
  {
   "cell_type": "code",
   "execution_count": 41,
   "id": "bb932812",
   "metadata": {
    "execution": {
     "iopub.execute_input": "2022-08-27T04:16:39.010516Z",
     "iopub.status.busy": "2022-08-27T04:16:39.010248Z",
     "iopub.status.idle": "2022-08-27T04:16:39.035362Z",
     "shell.execute_reply": "2022-08-27T04:16:39.034764Z"
    },
    "papermill": {
     "duration": 0.06439,
     "end_time": "2022-08-27T04:16:39.037203",
     "exception": false,
     "start_time": "2022-08-27T04:16:38.972813",
     "status": "completed"
    },
    "tags": []
   },
   "outputs": [],
   "source": [
    "multiplier_gene_obj = {\n",
    "    gene_name: Gene(name=gene_name)\n",
    "    for gene_name in common_genes\n",
    "    if gene_name in Gene.GENE_NAME_TO_ID_MAP\n",
    "}"
   ]
  },
  {
   "cell_type": "code",
   "execution_count": 42,
   "id": "cb9d7a45-2b7d-4d10-80dc-212a625b5ae7",
   "metadata": {
    "execution": {
     "iopub.execute_input": "2022-08-27T04:16:39.085848Z",
     "iopub.status.busy": "2022-08-27T04:16:39.085553Z",
     "iopub.status.idle": "2022-08-27T04:16:39.102865Z",
     "shell.execute_reply": "2022-08-27T04:16:39.102241Z"
    },
    "papermill": {
     "duration": 0.043919,
     "end_time": "2022-08-27T04:16:39.104707",
     "exception": false,
     "start_time": "2022-08-27T04:16:39.060788",
     "status": "completed"
    },
    "tags": []
   },
   "outputs": [],
   "source": [
    "# delete common_genes, from now on, genes_info should be used for common genes\n",
    "del common_genes"
   ]
  },
  {
   "cell_type": "code",
   "execution_count": 43,
   "id": "39533214",
   "metadata": {
    "execution": {
     "iopub.execute_input": "2022-08-27T04:16:39.152595Z",
     "iopub.status.busy": "2022-08-27T04:16:39.152327Z",
     "iopub.status.idle": "2022-08-27T04:16:39.171058Z",
     "shell.execute_reply": "2022-08-27T04:16:39.170495Z"
    },
    "papermill": {
     "duration": 0.044705,
     "end_time": "2022-08-27T04:16:39.172801",
     "exception": false,
     "start_time": "2022-08-27T04:16:39.128096",
     "status": "completed"
    },
    "tags": []
   },
   "outputs": [
    {
     "data": {
      "text/plain": [
       "6452"
      ]
     },
     "execution_count": 43,
     "metadata": {},
     "output_type": "execute_result"
    }
   ],
   "source": [
    "len(multiplier_gene_obj)"
   ]
  },
  {
   "cell_type": "code",
   "execution_count": 44,
   "id": "9a5d0b84",
   "metadata": {
    "execution": {
     "iopub.execute_input": "2022-08-27T04:16:39.221088Z",
     "iopub.status.busy": "2022-08-27T04:16:39.220831Z",
     "iopub.status.idle": "2022-08-27T04:16:39.236863Z",
     "shell.execute_reply": "2022-08-27T04:16:39.236272Z"
    },
    "papermill": {
     "duration": 0.041799,
     "end_time": "2022-08-27T04:16:39.238640",
     "exception": false,
     "start_time": "2022-08-27T04:16:39.196841",
     "status": "completed"
    },
    "tags": []
   },
   "outputs": [],
   "source": [
    "assert multiplier_gene_obj[\"GAS6\"].ensembl_id == \"ENSG00000183087\""
   ]
  },
  {
   "cell_type": "code",
   "execution_count": 45,
   "id": "e3ffabc7",
   "metadata": {
    "execution": {
     "iopub.execute_input": "2022-08-27T04:16:39.287139Z",
     "iopub.status.busy": "2022-08-27T04:16:39.286885Z",
     "iopub.status.idle": "2022-08-27T04:16:42.602224Z",
     "shell.execute_reply": "2022-08-27T04:16:42.601545Z"
    },
    "papermill": {
     "duration": 3.341499,
     "end_time": "2022-08-27T04:16:42.604291",
     "exception": false,
     "start_time": "2022-08-27T04:16:39.262792",
     "status": "completed"
    },
    "tags": []
   },
   "outputs": [],
   "source": [
    "_gene_obj = list(multiplier_gene_obj.values())\n",
    "\n",
    "genes_info = pd.DataFrame(\n",
    "    {\n",
    "        \"name\": [g.name for g in _gene_obj],\n",
    "        \"id\": [g.ensembl_id for g in _gene_obj],\n",
    "        \"chr\": [g.chromosome for g in _gene_obj],\n",
    "        \"band\": [g.band for g in _gene_obj],\n",
    "        \"start_position\": [g.get_attribute(\"start_position\") for g in _gene_obj],\n",
    "        \"end_position\": [g.get_attribute(\"end_position\") for g in _gene_obj],\n",
    "    }\n",
    ")"
   ]
  },
  {
   "cell_type": "code",
   "execution_count": 46,
   "id": "00475e72-1cfc-485f-8b4e-1d9cce695f58",
   "metadata": {
    "execution": {
     "iopub.execute_input": "2022-08-27T04:16:42.654979Z",
     "iopub.status.busy": "2022-08-27T04:16:42.654668Z",
     "iopub.status.idle": "2022-08-27T04:16:43.338060Z",
     "shell.execute_reply": "2022-08-27T04:16:43.337451Z"
    },
    "papermill": {
     "duration": 0.711454,
     "end_time": "2022-08-27T04:16:43.340082",
     "exception": false,
     "start_time": "2022-08-27T04:16:42.628628",
     "status": "completed"
    },
    "tags": []
   },
   "outputs": [],
   "source": [
    "genes_info = genes_info.assign(\n",
    "    gene_length=genes_info.apply(\n",
    "        lambda x: x[\"end_position\"] - x[\"start_position\"], axis=1\n",
    "    )\n",
    ")"
   ]
  },
  {
   "cell_type": "code",
   "execution_count": 47,
   "id": "3af1a166-08a0-4333-bc09-b8bc762aa7ef",
   "metadata": {
    "execution": {
     "iopub.execute_input": "2022-08-27T04:16:43.400975Z",
     "iopub.status.busy": "2022-08-27T04:16:43.400697Z",
     "iopub.status.idle": "2022-08-27T04:16:43.420080Z",
     "shell.execute_reply": "2022-08-27T04:16:43.419523Z"
    },
    "papermill": {
     "duration": 0.046083,
     "end_time": "2022-08-27T04:16:43.421642",
     "exception": false,
     "start_time": "2022-08-27T04:16:43.375559",
     "status": "completed"
    },
    "tags": []
   },
   "outputs": [
    {
     "data": {
      "text/plain": [
       "name               object\n",
       "id                 object\n",
       "chr                object\n",
       "band               object\n",
       "start_position    float64\n",
       "end_position      float64\n",
       "gene_length       float64\n",
       "dtype: object"
      ]
     },
     "execution_count": 47,
     "metadata": {},
     "output_type": "execute_result"
    }
   ],
   "source": [
    "genes_info.dtypes"
   ]
  },
  {
   "cell_type": "code",
   "execution_count": 48,
   "id": "08a23f6f-87f6-4072-88c8-010b90a411cd",
   "metadata": {
    "execution": {
     "iopub.execute_input": "2022-08-27T04:16:43.482777Z",
     "iopub.status.busy": "2022-08-27T04:16:43.482499Z",
     "iopub.status.idle": "2022-08-27T04:16:43.510013Z",
     "shell.execute_reply": "2022-08-27T04:16:43.509417Z"
    },
    "papermill": {
     "duration": 0.055023,
     "end_time": "2022-08-27T04:16:43.511732",
     "exception": false,
     "start_time": "2022-08-27T04:16:43.456709",
     "status": "completed"
    },
    "tags": []
   },
   "outputs": [
    {
     "data": {
      "text/html": [
       "<div>\n",
       "<style scoped>\n",
       "    .dataframe tbody tr th:only-of-type {\n",
       "        vertical-align: middle;\n",
       "    }\n",
       "\n",
       "    .dataframe tbody tr th {\n",
       "        vertical-align: top;\n",
       "    }\n",
       "\n",
       "    .dataframe thead th {\n",
       "        text-align: right;\n",
       "    }\n",
       "</style>\n",
       "<table border=\"1\" class=\"dataframe\">\n",
       "  <thead>\n",
       "    <tr style=\"text-align: right;\">\n",
       "      <th></th>\n",
       "      <th>name</th>\n",
       "      <th>id</th>\n",
       "      <th>chr</th>\n",
       "      <th>band</th>\n",
       "      <th>start_position</th>\n",
       "      <th>end_position</th>\n",
       "      <th>gene_length</th>\n",
       "    </tr>\n",
       "  </thead>\n",
       "  <tbody>\n",
       "    <tr>\n",
       "      <th>5287</th>\n",
       "      <td>TBCE</td>\n",
       "      <td>ENSG00000116957</td>\n",
       "      <td>None</td>\n",
       "      <td>None</td>\n",
       "      <td>NaN</td>\n",
       "      <td>NaN</td>\n",
       "      <td>NaN</td>\n",
       "    </tr>\n",
       "    <tr>\n",
       "      <th>6356</th>\n",
       "      <td>TMEM133</td>\n",
       "      <td>ENSG00000170647</td>\n",
       "      <td>None</td>\n",
       "      <td>None</td>\n",
       "      <td>NaN</td>\n",
       "      <td>NaN</td>\n",
       "      <td>NaN</td>\n",
       "    </tr>\n",
       "  </tbody>\n",
       "</table>\n",
       "</div>"
      ],
      "text/plain": [
       "         name               id   chr  band  start_position  end_position  \\\n",
       "5287     TBCE  ENSG00000116957  None  None             NaN           NaN   \n",
       "6356  TMEM133  ENSG00000170647  None  None             NaN           NaN   \n",
       "\n",
       "      gene_length  \n",
       "5287          NaN  \n",
       "6356          NaN  "
      ]
     },
     "metadata": {},
     "output_type": "display_data"
    }
   ],
   "source": [
    "_tmp = genes_info[genes_info.isna().any(axis=1)]\n",
    "display(_tmp)\n",
    "assert _tmp.shape[0] < 5"
   ]
  },
  {
   "cell_type": "code",
   "execution_count": 49,
   "id": "87c010f0-8ad9-4bf0-b12d-02f37a93853a",
   "metadata": {
    "execution": {
     "iopub.execute_input": "2022-08-27T04:16:43.572043Z",
     "iopub.status.busy": "2022-08-27T04:16:43.571771Z",
     "iopub.status.idle": "2022-08-27T04:16:43.591780Z",
     "shell.execute_reply": "2022-08-27T04:16:43.591173Z"
    },
    "papermill": {
     "duration": 0.046761,
     "end_time": "2022-08-27T04:16:43.593529",
     "exception": false,
     "start_time": "2022-08-27T04:16:43.546768",
     "status": "completed"
    },
    "tags": []
   },
   "outputs": [],
   "source": [
    "genes_info = genes_info.dropna()"
   ]
  },
  {
   "cell_type": "code",
   "execution_count": 50,
   "id": "61833f43-3a92-47e9-bca3-e05b6673c7d9",
   "metadata": {
    "execution": {
     "iopub.execute_input": "2022-08-27T04:16:43.642166Z",
     "iopub.status.busy": "2022-08-27T04:16:43.641893Z",
     "iopub.status.idle": "2022-08-27T04:16:44.396045Z",
     "shell.execute_reply": "2022-08-27T04:16:44.395383Z"
    },
    "papermill": {
     "duration": 0.781189,
     "end_time": "2022-08-27T04:16:44.398181",
     "exception": false,
     "start_time": "2022-08-27T04:16:43.616992",
     "status": "completed"
    },
    "tags": []
   },
   "outputs": [],
   "source": [
    "genes_info[\"chr\"] = genes_info[\"chr\"].apply(pd.to_numeric, downcast=\"integer\")\n",
    "genes_info[\"start_position\"] = genes_info[\"start_position\"].astype(int)\n",
    "genes_info[\"end_position\"] = genes_info[\"end_position\"].astype(int)\n",
    "genes_info[\"gene_length\"] = genes_info[\"gene_length\"].astype(int)"
   ]
  },
  {
   "cell_type": "code",
   "execution_count": 51,
   "id": "e4b9ae23-3edb-41a4-97aa-80cc7db6d393",
   "metadata": {
    "execution": {
     "iopub.execute_input": "2022-08-27T04:16:44.447819Z",
     "iopub.status.busy": "2022-08-27T04:16:44.447543Z",
     "iopub.status.idle": "2022-08-27T04:16:44.495237Z",
     "shell.execute_reply": "2022-08-27T04:16:44.494631Z"
    },
    "papermill": {
     "duration": 0.074364,
     "end_time": "2022-08-27T04:16:44.496958",
     "exception": false,
     "start_time": "2022-08-27T04:16:44.422594",
     "status": "completed"
    },
    "tags": []
   },
   "outputs": [
    {
     "data": {
      "text/plain": [
       "name              object\n",
       "id                object\n",
       "chr                int64\n",
       "band              object\n",
       "start_position     int64\n",
       "end_position       int64\n",
       "gene_length        int64\n",
       "dtype: object"
      ]
     },
     "execution_count": 51,
     "metadata": {},
     "output_type": "execute_result"
    }
   ],
   "source": [
    "genes_info.dtypes"
   ]
  },
  {
   "cell_type": "code",
   "execution_count": 52,
   "id": "09d6320a-b1c4-4200-a23e-184bc4be69c7",
   "metadata": {
    "execution": {
     "iopub.execute_input": "2022-08-27T04:16:44.545194Z",
     "iopub.status.busy": "2022-08-27T04:16:44.544917Z",
     "iopub.status.idle": "2022-08-27T04:16:44.562745Z",
     "shell.execute_reply": "2022-08-27T04:16:44.562180Z"
    },
    "papermill": {
     "duration": 0.043734,
     "end_time": "2022-08-27T04:16:44.564419",
     "exception": false,
     "start_time": "2022-08-27T04:16:44.520685",
     "status": "completed"
    },
    "tags": []
   },
   "outputs": [],
   "source": [
    "assert genes_info[\"name\"].is_unique"
   ]
  },
  {
   "cell_type": "code",
   "execution_count": 53,
   "id": "009d11e4-f8cb-4a81-823d-c7f10b906d3b",
   "metadata": {
    "execution": {
     "iopub.execute_input": "2022-08-27T04:16:44.615848Z",
     "iopub.status.busy": "2022-08-27T04:16:44.615551Z",
     "iopub.status.idle": "2022-08-27T04:16:44.633752Z",
     "shell.execute_reply": "2022-08-27T04:16:44.633181Z"
    },
    "papermill": {
     "duration": 0.046271,
     "end_time": "2022-08-27T04:16:44.635448",
     "exception": false,
     "start_time": "2022-08-27T04:16:44.589177",
     "status": "completed"
    },
    "tags": []
   },
   "outputs": [],
   "source": [
    "assert genes_info[\"id\"].is_unique"
   ]
  },
  {
   "cell_type": "code",
   "execution_count": 54,
   "id": "e23519b8",
   "metadata": {
    "execution": {
     "iopub.execute_input": "2022-08-27T04:16:44.692804Z",
     "iopub.status.busy": "2022-08-27T04:16:44.692526Z",
     "iopub.status.idle": "2022-08-27T04:16:44.710846Z",
     "shell.execute_reply": "2022-08-27T04:16:44.710285Z"
    },
    "papermill": {
     "duration": 0.04454,
     "end_time": "2022-08-27T04:16:44.712402",
     "exception": false,
     "start_time": "2022-08-27T04:16:44.667862",
     "status": "completed"
    },
    "tags": []
   },
   "outputs": [
    {
     "data": {
      "text/plain": [
       "(6450, 7)"
      ]
     },
     "execution_count": 54,
     "metadata": {},
     "output_type": "execute_result"
    }
   ],
   "source": [
    "genes_info.shape"
   ]
  },
  {
   "cell_type": "code",
   "execution_count": 55,
   "id": "0d71881c",
   "metadata": {
    "execution": {
     "iopub.execute_input": "2022-08-27T04:16:44.778451Z",
     "iopub.status.busy": "2022-08-27T04:16:44.778183Z",
     "iopub.status.idle": "2022-08-27T04:16:44.801156Z",
     "shell.execute_reply": "2022-08-27T04:16:44.800593Z"
    },
    "papermill": {
     "duration": 0.049696,
     "end_time": "2022-08-27T04:16:44.802756",
     "exception": false,
     "start_time": "2022-08-27T04:16:44.753060",
     "status": "completed"
    },
    "tags": []
   },
   "outputs": [
    {
     "data": {
      "text/html": [
       "<div>\n",
       "<style scoped>\n",
       "    .dataframe tbody tr th:only-of-type {\n",
       "        vertical-align: middle;\n",
       "    }\n",
       "\n",
       "    .dataframe tbody tr th {\n",
       "        vertical-align: top;\n",
       "    }\n",
       "\n",
       "    .dataframe thead th {\n",
       "        text-align: right;\n",
       "    }\n",
       "</style>\n",
       "<table border=\"1\" class=\"dataframe\">\n",
       "  <thead>\n",
       "    <tr style=\"text-align: right;\">\n",
       "      <th></th>\n",
       "      <th>name</th>\n",
       "      <th>id</th>\n",
       "      <th>chr</th>\n",
       "      <th>band</th>\n",
       "      <th>start_position</th>\n",
       "      <th>end_position</th>\n",
       "      <th>gene_length</th>\n",
       "    </tr>\n",
       "  </thead>\n",
       "  <tbody>\n",
       "    <tr>\n",
       "      <th>0</th>\n",
       "      <td>FBXO34</td>\n",
       "      <td>ENSG00000178974</td>\n",
       "      <td>14</td>\n",
       "      <td>14q22.3</td>\n",
       "      <td>55271421</td>\n",
       "      <td>55361918</td>\n",
       "      <td>90497</td>\n",
       "    </tr>\n",
       "    <tr>\n",
       "      <th>1</th>\n",
       "      <td>ARG1</td>\n",
       "      <td>ENSG00000118520</td>\n",
       "      <td>6</td>\n",
       "      <td>6q23.2</td>\n",
       "      <td>131573144</td>\n",
       "      <td>131584332</td>\n",
       "      <td>11188</td>\n",
       "    </tr>\n",
       "    <tr>\n",
       "      <th>2</th>\n",
       "      <td>FADS2</td>\n",
       "      <td>ENSG00000134824</td>\n",
       "      <td>11</td>\n",
       "      <td>11q12.2</td>\n",
       "      <td>61792980</td>\n",
       "      <td>61867354</td>\n",
       "      <td>74374</td>\n",
       "    </tr>\n",
       "    <tr>\n",
       "      <th>3</th>\n",
       "      <td>CA4</td>\n",
       "      <td>ENSG00000167434</td>\n",
       "      <td>17</td>\n",
       "      <td>17q23.1</td>\n",
       "      <td>60149942</td>\n",
       "      <td>60170899</td>\n",
       "      <td>20957</td>\n",
       "    </tr>\n",
       "    <tr>\n",
       "      <th>4</th>\n",
       "      <td>PFKFB3</td>\n",
       "      <td>ENSG00000170525</td>\n",
       "      <td>10</td>\n",
       "      <td>10p15.1</td>\n",
       "      <td>6144934</td>\n",
       "      <td>6254644</td>\n",
       "      <td>109710</td>\n",
       "    </tr>\n",
       "  </tbody>\n",
       "</table>\n",
       "</div>"
      ],
      "text/plain": [
       "     name               id  chr     band  start_position  end_position  \\\n",
       "0  FBXO34  ENSG00000178974   14  14q22.3        55271421      55361918   \n",
       "1    ARG1  ENSG00000118520    6   6q23.2       131573144     131584332   \n",
       "2   FADS2  ENSG00000134824   11  11q12.2        61792980      61867354   \n",
       "3     CA4  ENSG00000167434   17  17q23.1        60149942      60170899   \n",
       "4  PFKFB3  ENSG00000170525   10  10p15.1         6144934       6254644   \n",
       "\n",
       "   gene_length  \n",
       "0        90497  \n",
       "1        11188  \n",
       "2        74374  \n",
       "3        20957  \n",
       "4       109710  "
      ]
     },
     "execution_count": 55,
     "metadata": {},
     "output_type": "execute_result"
    }
   ],
   "source": [
    "genes_info.head()"
   ]
  },
  {
   "cell_type": "code",
   "execution_count": 56,
   "id": "eb968287-d9cf-40f6-a93e-6b322b844404",
   "metadata": {
    "execution": {
     "iopub.execute_input": "2022-08-27T04:16:44.856888Z",
     "iopub.status.busy": "2022-08-27T04:16:44.856610Z",
     "iopub.status.idle": "2022-08-27T04:16:44.885035Z",
     "shell.execute_reply": "2022-08-27T04:16:44.884469Z"
    },
    "papermill": {
     "duration": 0.054604,
     "end_time": "2022-08-27T04:16:44.886623",
     "exception": false,
     "start_time": "2022-08-27T04:16:44.832019",
     "status": "completed"
    },
    "tags": []
   },
   "outputs": [
    {
     "data": {
      "text/html": [
       "<div>\n",
       "<style scoped>\n",
       "    .dataframe tbody tr th:only-of-type {\n",
       "        vertical-align: middle;\n",
       "    }\n",
       "\n",
       "    .dataframe tbody tr th {\n",
       "        vertical-align: top;\n",
       "    }\n",
       "\n",
       "    .dataframe thead th {\n",
       "        text-align: right;\n",
       "    }\n",
       "</style>\n",
       "<table border=\"1\" class=\"dataframe\">\n",
       "  <thead>\n",
       "    <tr style=\"text-align: right;\">\n",
       "      <th></th>\n",
       "      <th>name</th>\n",
       "      <th>id</th>\n",
       "      <th>chr</th>\n",
       "      <th>band</th>\n",
       "      <th>start_position</th>\n",
       "      <th>end_position</th>\n",
       "      <th>gene_length</th>\n",
       "    </tr>\n",
       "  </thead>\n",
       "  <tbody>\n",
       "    <tr>\n",
       "      <th>6451</th>\n",
       "      <td>EPS15</td>\n",
       "      <td>ENSG00000085832</td>\n",
       "      <td>1</td>\n",
       "      <td>1p32.3</td>\n",
       "      <td>51354263</td>\n",
       "      <td>51519266</td>\n",
       "      <td>165003</td>\n",
       "    </tr>\n",
       "    <tr>\n",
       "      <th>6209</th>\n",
       "      <td>UQCRH</td>\n",
       "      <td>ENSG00000173660</td>\n",
       "      <td>1</td>\n",
       "      <td>1p33</td>\n",
       "      <td>46303698</td>\n",
       "      <td>46316776</td>\n",
       "      <td>13078</td>\n",
       "    </tr>\n",
       "    <tr>\n",
       "      <th>5549</th>\n",
       "      <td>TROVE2</td>\n",
       "      <td>ENSG00000116747</td>\n",
       "      <td>1</td>\n",
       "      <td>1q31.2</td>\n",
       "      <td>193059422</td>\n",
       "      <td>193091777</td>\n",
       "      <td>32355</td>\n",
       "    </tr>\n",
       "    <tr>\n",
       "      <th>2692</th>\n",
       "      <td>PHGDH</td>\n",
       "      <td>ENSG00000092621</td>\n",
       "      <td>1</td>\n",
       "      <td>1p12</td>\n",
       "      <td>119648411</td>\n",
       "      <td>119744226</td>\n",
       "      <td>95815</td>\n",
       "    </tr>\n",
       "    <tr>\n",
       "      <th>540</th>\n",
       "      <td>NCSTN</td>\n",
       "      <td>ENSG00000162736</td>\n",
       "      <td>1</td>\n",
       "      <td>1q23.2</td>\n",
       "      <td>160343316</td>\n",
       "      <td>160358952</td>\n",
       "      <td>15636</td>\n",
       "    </tr>\n",
       "    <tr>\n",
       "      <th>...</th>\n",
       "      <td>...</td>\n",
       "      <td>...</td>\n",
       "      <td>...</td>\n",
       "      <td>...</td>\n",
       "      <td>...</td>\n",
       "      <td>...</td>\n",
       "      <td>...</td>\n",
       "    </tr>\n",
       "    <tr>\n",
       "      <th>1015</th>\n",
       "      <td>TNRC6B</td>\n",
       "      <td>ENSG00000100354</td>\n",
       "      <td>22</td>\n",
       "      <td>22q13.1</td>\n",
       "      <td>40044817</td>\n",
       "      <td>40335808</td>\n",
       "      <td>290991</td>\n",
       "    </tr>\n",
       "    <tr>\n",
       "      <th>5296</th>\n",
       "      <td>TUBGCP6</td>\n",
       "      <td>ENSG00000128159</td>\n",
       "      <td>22</td>\n",
       "      <td>22q13.33</td>\n",
       "      <td>50217689</td>\n",
       "      <td>50245023</td>\n",
       "      <td>27334</td>\n",
       "    </tr>\n",
       "    <tr>\n",
       "      <th>5295</th>\n",
       "      <td>UBE2L3</td>\n",
       "      <td>ENSG00000185651</td>\n",
       "      <td>22</td>\n",
       "      <td>22q11.21</td>\n",
       "      <td>21549447</td>\n",
       "      <td>21624034</td>\n",
       "      <td>74587</td>\n",
       "    </tr>\n",
       "    <tr>\n",
       "      <th>908</th>\n",
       "      <td>OSM</td>\n",
       "      <td>ENSG00000099985</td>\n",
       "      <td>22</td>\n",
       "      <td>22q12.2</td>\n",
       "      <td>30262829</td>\n",
       "      <td>30266851</td>\n",
       "      <td>4022</td>\n",
       "    </tr>\n",
       "    <tr>\n",
       "      <th>5964</th>\n",
       "      <td>MIOX</td>\n",
       "      <td>ENSG00000100253</td>\n",
       "      <td>22</td>\n",
       "      <td>22q13.33</td>\n",
       "      <td>50486784</td>\n",
       "      <td>50490648</td>\n",
       "      <td>3864</td>\n",
       "    </tr>\n",
       "  </tbody>\n",
       "</table>\n",
       "<p>6450 rows × 7 columns</p>\n",
       "</div>"
      ],
      "text/plain": [
       "         name               id  chr      band  start_position  end_position  \\\n",
       "6451    EPS15  ENSG00000085832    1    1p32.3        51354263      51519266   \n",
       "6209    UQCRH  ENSG00000173660    1      1p33        46303698      46316776   \n",
       "5549   TROVE2  ENSG00000116747    1    1q31.2       193059422     193091777   \n",
       "2692    PHGDH  ENSG00000092621    1      1p12       119648411     119744226   \n",
       "540     NCSTN  ENSG00000162736    1    1q23.2       160343316     160358952   \n",
       "...       ...              ...  ...       ...             ...           ...   \n",
       "1015   TNRC6B  ENSG00000100354   22   22q13.1        40044817      40335808   \n",
       "5296  TUBGCP6  ENSG00000128159   22  22q13.33        50217689      50245023   \n",
       "5295   UBE2L3  ENSG00000185651   22  22q11.21        21549447      21624034   \n",
       "908       OSM  ENSG00000099985   22   22q12.2        30262829      30266851   \n",
       "5964     MIOX  ENSG00000100253   22  22q13.33        50486784      50490648   \n",
       "\n",
       "      gene_length  \n",
       "6451       165003  \n",
       "6209        13078  \n",
       "5549        32355  \n",
       "2692        95815  \n",
       "540         15636  \n",
       "...           ...  \n",
       "1015       290991  \n",
       "5296        27334  \n",
       "5295        74587  \n",
       "908          4022  \n",
       "5964         3864  \n",
       "\n",
       "[6450 rows x 7 columns]"
      ]
     },
     "execution_count": 56,
     "metadata": {},
     "output_type": "execute_result"
    }
   ],
   "source": [
    "genes_info.sort_values(\"chr\")"
   ]
  },
  {
   "cell_type": "markdown",
   "id": "7282b84d-f4f3-4e8c-9dd8-6319505ed4b5",
   "metadata": {
    "papermill": {
     "duration": 0.024408,
     "end_time": "2022-08-27T04:16:44.941213",
     "exception": false,
     "start_time": "2022-08-27T04:16:44.916805",
     "status": "completed"
    },
    "tags": []
   },
   "source": [
    "### Save"
   ]
  },
  {
   "cell_type": "code",
   "execution_count": 57,
   "id": "32cf6566-03bb-4a85-81e1-da46fc9f37ad",
   "metadata": {
    "execution": {
     "iopub.execute_input": "2022-08-27T04:16:44.993103Z",
     "iopub.status.busy": "2022-08-27T04:16:44.992830Z",
     "iopub.status.idle": "2022-08-27T04:16:45.019377Z",
     "shell.execute_reply": "2022-08-27T04:16:45.018728Z"
    },
    "papermill": {
     "duration": 0.055005,
     "end_time": "2022-08-27T04:16:45.021401",
     "exception": false,
     "start_time": "2022-08-27T04:16:44.966396",
     "status": "completed"
    },
    "tags": []
   },
   "outputs": [],
   "source": [
    "genes_info.to_pickle(OUTPUT_DIR_BASE / \"genes_info.pkl\")"
   ]
  },
  {
   "cell_type": "markdown",
   "id": "5b9f384a-5a91-4a8d-9007-cfe43f2d86f8",
   "metadata": {
    "papermill": {
     "duration": 0.024857,
     "end_time": "2022-08-27T04:16:45.071511",
     "exception": false,
     "start_time": "2022-08-27T04:16:45.046654",
     "status": "completed"
    },
    "tags": []
   },
   "source": [
    "## S-PrediXcan results"
   ]
  },
  {
   "cell_type": "markdown",
   "id": "fc0a2a4c-960c-4a0a-9b23-b66c3d5d6e07",
   "metadata": {
    "papermill": {
     "duration": 0.024392,
     "end_time": "2022-08-27T04:16:45.120988",
     "exception": false,
     "start_time": "2022-08-27T04:16:45.096596",
     "status": "completed"
    },
    "tags": []
   },
   "source": [
    "### Load results across all tissues"
   ]
  },
  {
   "cell_type": "code",
   "execution_count": 58,
   "id": "0b4867d7-a608-4b08-9d77-1782be3a0c94",
   "metadata": {
    "execution": {
     "iopub.execute_input": "2022-08-27T04:16:45.170824Z",
     "iopub.status.busy": "2022-08-27T04:16:45.170555Z",
     "iopub.status.idle": "2022-08-27T04:16:45.187223Z",
     "shell.execute_reply": "2022-08-27T04:16:45.186671Z"
    },
    "papermill": {
     "duration": 0.04379,
     "end_time": "2022-08-27T04:16:45.188934",
     "exception": false,
     "start_time": "2022-08-27T04:16:45.145144",
     "status": "completed"
    },
    "tags": []
   },
   "outputs": [],
   "source": [
    "spredixcan_result_files = {\n",
    "    t: SPREDIXCAN_FOLDER / SPREDIXCAN_FILE_PATTERN.format(tissue=t)\n",
    "    for t in prediction_model_tissues\n",
    "}"
   ]
  },
  {
   "cell_type": "code",
   "execution_count": 59,
   "id": "0ce270dd-46ac-4eaa-9d86-2b201d67d82f",
   "metadata": {
    "execution": {
     "iopub.execute_input": "2022-08-27T04:16:45.240238Z",
     "iopub.status.busy": "2022-08-27T04:16:45.239967Z",
     "iopub.status.idle": "2022-08-27T04:16:45.258339Z",
     "shell.execute_reply": "2022-08-27T04:16:45.257794Z"
    },
    "papermill": {
     "duration": 0.045631,
     "end_time": "2022-08-27T04:16:45.259893",
     "exception": false,
     "start_time": "2022-08-27T04:16:45.214262",
     "status": "completed"
    },
    "tags": []
   },
   "outputs": [
    {
     "data": {
      "text/plain": [
       "[PosixPath('/project/ritchie20/projects/phenoplier/base/data/phenomexcan/spredixcan/gtex_gwas/Astle_et_al_2016_Eosinophil_counts/spredixcan_igwas_gtexmashrv8_Astle_et_al_2016_Eosinophil_counts__PM__Whole_Blood.csv'),\n",
       " PosixPath('/project/ritchie20/projects/phenoplier/base/data/phenomexcan/spredixcan/gtex_gwas/Astle_et_al_2016_Eosinophil_counts/spredixcan_igwas_gtexmashrv8_Astle_et_al_2016_Eosinophil_counts__PM__Brain_Hypothalamus.csv'),\n",
       " PosixPath('/project/ritchie20/projects/phenoplier/base/data/phenomexcan/spredixcan/gtex_gwas/Astle_et_al_2016_Eosinophil_counts/spredixcan_igwas_gtexmashrv8_Astle_et_al_2016_Eosinophil_counts__PM__Brain_Amygdala.csv'),\n",
       " PosixPath('/project/ritchie20/projects/phenoplier/base/data/phenomexcan/spredixcan/gtex_gwas/Astle_et_al_2016_Eosinophil_counts/spredixcan_igwas_gtexmashrv8_Astle_et_al_2016_Eosinophil_counts__PM__Brain_Nucleus_accumbens_basal_ganglia.csv'),\n",
       " PosixPath('/project/ritchie20/projects/phenoplier/base/data/phenomexcan/spredixcan/gtex_gwas/Astle_et_al_2016_Eosinophil_counts/spredixcan_igwas_gtexmashrv8_Astle_et_al_2016_Eosinophil_counts__PM__Artery_Coronary.csv')]"
      ]
     },
     "metadata": {},
     "output_type": "display_data"
    }
   ],
   "source": [
    "assert len(spredixcan_result_files) == len(prediction_model_tissues)\n",
    "display(list(spredixcan_result_files.values())[:5])"
   ]
  },
  {
   "cell_type": "code",
   "execution_count": 60,
   "id": "aa140259-303e-4912-b2bf-e7adce662f88",
   "metadata": {
    "execution": {
     "iopub.execute_input": "2022-08-27T04:16:45.309030Z",
     "iopub.status.busy": "2022-08-27T04:16:45.308788Z",
     "iopub.status.idle": "2022-08-27T04:16:45.360444Z",
     "shell.execute_reply": "2022-08-27T04:16:45.359832Z"
    },
    "papermill": {
     "duration": 0.077868,
     "end_time": "2022-08-27T04:16:45.362091",
     "exception": false,
     "start_time": "2022-08-27T04:16:45.284223",
     "status": "completed"
    },
    "tags": []
   },
   "outputs": [
    {
     "data": {
      "text/html": [
       "<div>\n",
       "<style scoped>\n",
       "    .dataframe tbody tr th:only-of-type {\n",
       "        vertical-align: middle;\n",
       "    }\n",
       "\n",
       "    .dataframe tbody tr th {\n",
       "        vertical-align: top;\n",
       "    }\n",
       "\n",
       "    .dataframe thead th {\n",
       "        text-align: right;\n",
       "    }\n",
       "</style>\n",
       "<table border=\"1\" class=\"dataframe\">\n",
       "  <thead>\n",
       "    <tr style=\"text-align: right;\">\n",
       "      <th></th>\n",
       "      <th>gene</th>\n",
       "      <th>gene_name</th>\n",
       "      <th>zscore</th>\n",
       "      <th>effect_size</th>\n",
       "      <th>pvalue</th>\n",
       "      <th>var_g</th>\n",
       "      <th>pred_perf_r2</th>\n",
       "      <th>pred_perf_pval</th>\n",
       "      <th>pred_perf_qval</th>\n",
       "      <th>n_snps_used</th>\n",
       "      <th>n_snps_in_cov</th>\n",
       "      <th>n_snps_in_model</th>\n",
       "      <th>best_gwas_p</th>\n",
       "      <th>largest_weight</th>\n",
       "    </tr>\n",
       "  </thead>\n",
       "  <tbody>\n",
       "    <tr>\n",
       "      <th>0</th>\n",
       "      <td>ENSG00000125347.13</td>\n",
       "      <td>IRF1</td>\n",
       "      <td>-19.033953</td>\n",
       "      <td>NaN</td>\n",
       "      <td>8.925903e-81</td>\n",
       "      <td>0.000823</td>\n",
       "      <td>NaN</td>\n",
       "      <td>NaN</td>\n",
       "      <td>NaN</td>\n",
       "      <td>1</td>\n",
       "      <td>1.0</td>\n",
       "      <td>1</td>\n",
       "      <td>8.925903e-81</td>\n",
       "      <td>0.041317</td>\n",
       "    </tr>\n",
       "    <tr>\n",
       "      <th>1</th>\n",
       "      <td>ENSG00000197375.12</td>\n",
       "      <td>SLC22A5</td>\n",
       "      <td>18.863247</td>\n",
       "      <td>NaN</td>\n",
       "      <td>2.287329e-79</td>\n",
       "      <td>0.193396</td>\n",
       "      <td>NaN</td>\n",
       "      <td>NaN</td>\n",
       "      <td>NaN</td>\n",
       "      <td>3</td>\n",
       "      <td>3.0</td>\n",
       "      <td>3</td>\n",
       "      <td>2.003017e-82</td>\n",
       "      <td>0.451456</td>\n",
       "    </tr>\n",
       "    <tr>\n",
       "      <th>2</th>\n",
       "      <td>ENSG00000206503.12</td>\n",
       "      <td>HLA-A</td>\n",
       "      <td>17.611916</td>\n",
       "      <td>NaN</td>\n",
       "      <td>1.995745e-69</td>\n",
       "      <td>0.220252</td>\n",
       "      <td>NaN</td>\n",
       "      <td>NaN</td>\n",
       "      <td>NaN</td>\n",
       "      <td>4</td>\n",
       "      <td>4.0</td>\n",
       "      <td>4</td>\n",
       "      <td>1.594004e-55</td>\n",
       "      <td>0.328422</td>\n",
       "    </tr>\n",
       "    <tr>\n",
       "      <th>3</th>\n",
       "      <td>ENSG00000197208.5</td>\n",
       "      <td>SLC22A4</td>\n",
       "      <td>16.625332</td>\n",
       "      <td>NaN</td>\n",
       "      <td>4.568259e-62</td>\n",
       "      <td>0.007605</td>\n",
       "      <td>NaN</td>\n",
       "      <td>NaN</td>\n",
       "      <td>NaN</td>\n",
       "      <td>2</td>\n",
       "      <td>2.0</td>\n",
       "      <td>2</td>\n",
       "      <td>1.518975e-82</td>\n",
       "      <td>0.076218</td>\n",
       "    </tr>\n",
       "    <tr>\n",
       "      <th>4</th>\n",
       "      <td>ENSG00000244731.7</td>\n",
       "      <td>C4A</td>\n",
       "      <td>15.247881</td>\n",
       "      <td>NaN</td>\n",
       "      <td>1.700641e-52</td>\n",
       "      <td>0.217746</td>\n",
       "      <td>NaN</td>\n",
       "      <td>NaN</td>\n",
       "      <td>NaN</td>\n",
       "      <td>2</td>\n",
       "      <td>2.0</td>\n",
       "      <td>2</td>\n",
       "      <td>7.674050e-56</td>\n",
       "      <td>1.032148</td>\n",
       "    </tr>\n",
       "  </tbody>\n",
       "</table>\n",
       "</div>"
      ],
      "text/plain": [
       "                 gene gene_name     zscore  effect_size        pvalue  \\\n",
       "0  ENSG00000125347.13      IRF1 -19.033953          NaN  8.925903e-81   \n",
       "1  ENSG00000197375.12   SLC22A5  18.863247          NaN  2.287329e-79   \n",
       "2  ENSG00000206503.12     HLA-A  17.611916          NaN  1.995745e-69   \n",
       "3   ENSG00000197208.5   SLC22A4  16.625332          NaN  4.568259e-62   \n",
       "4   ENSG00000244731.7       C4A  15.247881          NaN  1.700641e-52   \n",
       "\n",
       "      var_g  pred_perf_r2  pred_perf_pval  pred_perf_qval  n_snps_used  \\\n",
       "0  0.000823           NaN             NaN             NaN            1   \n",
       "1  0.193396           NaN             NaN             NaN            3   \n",
       "2  0.220252           NaN             NaN             NaN            4   \n",
       "3  0.007605           NaN             NaN             NaN            2   \n",
       "4  0.217746           NaN             NaN             NaN            2   \n",
       "\n",
       "   n_snps_in_cov  n_snps_in_model   best_gwas_p  largest_weight  \n",
       "0            1.0                1  8.925903e-81        0.041317  \n",
       "1            3.0                3  2.003017e-82        0.451456  \n",
       "2            4.0                4  1.594004e-55        0.328422  \n",
       "3            2.0                2  1.518975e-82        0.076218  \n",
       "4            2.0                2  7.674050e-56        1.032148  "
      ]
     },
     "execution_count": 60,
     "metadata": {},
     "output_type": "execute_result"
    }
   ],
   "source": [
    "# look at the structure of one result\n",
    "pd.read_csv(spredixcan_result_files[\"Whole_Blood\"]).head()"
   ]
  },
  {
   "cell_type": "code",
   "execution_count": 61,
   "id": "4381b9ff-6ab5-47f1-89d1-560f88fdf07f",
   "metadata": {
    "execution": {
     "iopub.execute_input": "2022-08-27T04:16:45.414895Z",
     "iopub.status.busy": "2022-08-27T04:16:45.414622Z",
     "iopub.status.idle": "2022-08-27T04:16:45.438078Z",
     "shell.execute_reply": "2022-08-27T04:16:45.437503Z"
    },
    "papermill": {
     "duration": 0.051694,
     "end_time": "2022-08-27T04:16:45.439776",
     "exception": false,
     "start_time": "2022-08-27T04:16:45.388082",
     "status": "completed"
    },
    "tags": []
   },
   "outputs": [],
   "source": [
    "assert all(f.exists() for f in spredixcan_result_files.values())"
   ]
  },
  {
   "cell_type": "code",
   "execution_count": 62,
   "id": "d477157f-51e9-4c7c-b826-7ab5f4fdf3e3",
   "metadata": {
    "execution": {
     "iopub.execute_input": "2022-08-27T04:16:45.490882Z",
     "iopub.status.busy": "2022-08-27T04:16:45.490611Z",
     "iopub.status.idle": "2022-08-27T04:16:46.778289Z",
     "shell.execute_reply": "2022-08-27T04:16:46.777660Z"
    },
    "papermill": {
     "duration": 1.315303,
     "end_time": "2022-08-27T04:16:46.780319",
     "exception": false,
     "start_time": "2022-08-27T04:16:45.465016",
     "status": "completed"
    },
    "tags": []
   },
   "outputs": [],
   "source": [
    "spredixcan_dfs = [\n",
    "    pd.read_csv(\n",
    "        f,\n",
    "        usecols=[\n",
    "            \"gene\",\n",
    "            \"zscore\",\n",
    "            \"pvalue\",\n",
    "            \"n_snps_used\",\n",
    "            \"n_snps_in_model\",\n",
    "        ],\n",
    "    )\n",
    "    .dropna(subset=[\"gene\", \"zscore\", \"pvalue\"])\n",
    "    .assign(tissue=t)\n",
    "    for t, f in spredixcan_result_files.items()\n",
    "]"
   ]
  },
  {
   "cell_type": "code",
   "execution_count": 63,
   "id": "9730bd37-b769-411f-bb6b-bb658d1ff88c",
   "metadata": {
    "execution": {
     "iopub.execute_input": "2022-08-27T04:16:46.846093Z",
     "iopub.status.busy": "2022-08-27T04:16:46.845808Z",
     "iopub.status.idle": "2022-08-27T04:16:46.915454Z",
     "shell.execute_reply": "2022-08-27T04:16:46.914825Z"
    },
    "papermill": {
     "duration": 0.098271,
     "end_time": "2022-08-27T04:16:46.917425",
     "exception": false,
     "start_time": "2022-08-27T04:16:46.819154",
     "status": "completed"
    },
    "tags": []
   },
   "outputs": [],
   "source": [
    "assert len(spredixcan_dfs) == len(prediction_model_tissues)"
   ]
  },
  {
   "cell_type": "code",
   "execution_count": 64,
   "id": "bcd73f53-1283-4ff6-bbb5-25fb71f5cb72",
   "metadata": {
    "execution": {
     "iopub.execute_input": "2022-08-27T04:16:47.003571Z",
     "iopub.status.busy": "2022-08-27T04:16:47.003301Z",
     "iopub.status.idle": "2022-08-27T04:16:47.108602Z",
     "shell.execute_reply": "2022-08-27T04:16:47.107981Z"
    },
    "papermill": {
     "duration": 0.133157,
     "end_time": "2022-08-27T04:16:47.110583",
     "exception": false,
     "start_time": "2022-08-27T04:16:46.977426",
     "status": "completed"
    },
    "tags": []
   },
   "outputs": [],
   "source": [
    "spredixcan_dfs = pd.concat(spredixcan_dfs)"
   ]
  },
  {
   "cell_type": "code",
   "execution_count": 65,
   "id": "ae99c7b5-14fc-4b39-a6b2-40fc703acd0a",
   "metadata": {
    "execution": {
     "iopub.execute_input": "2022-08-27T04:16:47.168490Z",
     "iopub.status.busy": "2022-08-27T04:16:47.168221Z",
     "iopub.status.idle": "2022-08-27T04:16:47.223701Z",
     "shell.execute_reply": "2022-08-27T04:16:47.223044Z"
    },
    "papermill": {
     "duration": 0.083685,
     "end_time": "2022-08-27T04:16:47.225666",
     "exception": false,
     "start_time": "2022-08-27T04:16:47.141981",
     "status": "completed"
    },
    "tags": []
   },
   "outputs": [],
   "source": [
    "assert spredixcan_dfs[\"tissue\"].unique().shape[0] == len(prediction_model_tissues)"
   ]
  },
  {
   "cell_type": "code",
   "execution_count": 66,
   "id": "b7223a23-e40f-4cd3-8988-72033f8739bd",
   "metadata": {
    "execution": {
     "iopub.execute_input": "2022-08-27T04:16:47.279059Z",
     "iopub.status.busy": "2022-08-27T04:16:47.278810Z",
     "iopub.status.idle": "2022-08-27T04:16:47.297664Z",
     "shell.execute_reply": "2022-08-27T04:16:47.297065Z"
    },
    "papermill": {
     "duration": 0.04623,
     "end_time": "2022-08-27T04:16:47.299338",
     "exception": false,
     "start_time": "2022-08-27T04:16:47.253108",
     "status": "completed"
    },
    "tags": []
   },
   "outputs": [
    {
     "data": {
      "text/plain": [
       "(684434, 6)"
      ]
     },
     "execution_count": 66,
     "metadata": {},
     "output_type": "execute_result"
    }
   ],
   "source": [
    "spredixcan_dfs.shape"
   ]
  },
  {
   "cell_type": "code",
   "execution_count": 67,
   "id": "4987073a-3b70-4162-93fb-beeb351ebfe0",
   "metadata": {
    "execution": {
     "iopub.execute_input": "2022-08-27T04:16:47.351406Z",
     "iopub.status.busy": "2022-08-27T04:16:47.351140Z",
     "iopub.status.idle": "2022-08-27T04:16:47.601438Z",
     "shell.execute_reply": "2022-08-27T04:16:47.600826Z"
    },
    "papermill": {
     "duration": 0.278306,
     "end_time": "2022-08-27T04:16:47.603403",
     "exception": false,
     "start_time": "2022-08-27T04:16:47.325097",
     "status": "completed"
    },
    "tags": []
   },
   "outputs": [],
   "source": [
    "spredixcan_dfs = spredixcan_dfs.assign(\n",
    "    gene_id=spredixcan_dfs[\"gene\"].apply(lambda g: g.split(\".\")[0])\n",
    ")"
   ]
  },
  {
   "cell_type": "code",
   "execution_count": 68,
   "id": "6b47d026-01c0-4f7c-a90e-f0baa13235f4",
   "metadata": {
    "execution": {
     "iopub.execute_input": "2022-08-27T04:16:47.655999Z",
     "iopub.status.busy": "2022-08-27T04:16:47.655723Z",
     "iopub.status.idle": "2022-08-27T04:16:47.681142Z",
     "shell.execute_reply": "2022-08-27T04:16:47.680524Z"
    },
    "papermill": {
     "duration": 0.054084,
     "end_time": "2022-08-27T04:16:47.682793",
     "exception": false,
     "start_time": "2022-08-27T04:16:47.628709",
     "status": "completed"
    },
    "tags": []
   },
   "outputs": [
    {
     "data": {
      "text/html": [
       "<div>\n",
       "<style scoped>\n",
       "    .dataframe tbody tr th:only-of-type {\n",
       "        vertical-align: middle;\n",
       "    }\n",
       "\n",
       "    .dataframe tbody tr th {\n",
       "        vertical-align: top;\n",
       "    }\n",
       "\n",
       "    .dataframe thead th {\n",
       "        text-align: right;\n",
       "    }\n",
       "</style>\n",
       "<table border=\"1\" class=\"dataframe\">\n",
       "  <thead>\n",
       "    <tr style=\"text-align: right;\">\n",
       "      <th></th>\n",
       "      <th>gene</th>\n",
       "      <th>zscore</th>\n",
       "      <th>pvalue</th>\n",
       "      <th>n_snps_used</th>\n",
       "      <th>n_snps_in_model</th>\n",
       "      <th>tissue</th>\n",
       "      <th>gene_id</th>\n",
       "    </tr>\n",
       "  </thead>\n",
       "  <tbody>\n",
       "    <tr>\n",
       "      <th>0</th>\n",
       "      <td>ENSG00000125347.13</td>\n",
       "      <td>-19.033953</td>\n",
       "      <td>8.925903e-81</td>\n",
       "      <td>1</td>\n",
       "      <td>1</td>\n",
       "      <td>Whole_Blood</td>\n",
       "      <td>ENSG00000125347</td>\n",
       "    </tr>\n",
       "    <tr>\n",
       "      <th>1</th>\n",
       "      <td>ENSG00000197375.12</td>\n",
       "      <td>18.863247</td>\n",
       "      <td>2.287329e-79</td>\n",
       "      <td>3</td>\n",
       "      <td>3</td>\n",
       "      <td>Whole_Blood</td>\n",
       "      <td>ENSG00000197375</td>\n",
       "    </tr>\n",
       "    <tr>\n",
       "      <th>2</th>\n",
       "      <td>ENSG00000206503.12</td>\n",
       "      <td>17.611916</td>\n",
       "      <td>1.995745e-69</td>\n",
       "      <td>4</td>\n",
       "      <td>4</td>\n",
       "      <td>Whole_Blood</td>\n",
       "      <td>ENSG00000206503</td>\n",
       "    </tr>\n",
       "    <tr>\n",
       "      <th>3</th>\n",
       "      <td>ENSG00000197208.5</td>\n",
       "      <td>16.625332</td>\n",
       "      <td>4.568259e-62</td>\n",
       "      <td>2</td>\n",
       "      <td>2</td>\n",
       "      <td>Whole_Blood</td>\n",
       "      <td>ENSG00000197208</td>\n",
       "    </tr>\n",
       "    <tr>\n",
       "      <th>4</th>\n",
       "      <td>ENSG00000244731.7</td>\n",
       "      <td>15.247881</td>\n",
       "      <td>1.700641e-52</td>\n",
       "      <td>2</td>\n",
       "      <td>2</td>\n",
       "      <td>Whole_Blood</td>\n",
       "      <td>ENSG00000244731</td>\n",
       "    </tr>\n",
       "  </tbody>\n",
       "</table>\n",
       "</div>"
      ],
      "text/plain": [
       "                 gene     zscore        pvalue  n_snps_used  n_snps_in_model  \\\n",
       "0  ENSG00000125347.13 -19.033953  8.925903e-81            1                1   \n",
       "1  ENSG00000197375.12  18.863247  2.287329e-79            3                3   \n",
       "2  ENSG00000206503.12  17.611916  1.995745e-69            4                4   \n",
       "3   ENSG00000197208.5  16.625332  4.568259e-62            2                2   \n",
       "4   ENSG00000244731.7  15.247881  1.700641e-52            2                2   \n",
       "\n",
       "        tissue          gene_id  \n",
       "0  Whole_Blood  ENSG00000125347  \n",
       "1  Whole_Blood  ENSG00000197375  \n",
       "2  Whole_Blood  ENSG00000206503  \n",
       "3  Whole_Blood  ENSG00000197208  \n",
       "4  Whole_Blood  ENSG00000244731  "
      ]
     },
     "execution_count": 68,
     "metadata": {},
     "output_type": "execute_result"
    }
   ],
   "source": [
    "spredixcan_dfs.head()"
   ]
  },
  {
   "cell_type": "code",
   "execution_count": 69,
   "id": "d5dbdb2e-b7eb-4665-9fd4-9ce714d6af0c",
   "metadata": {
    "execution": {
     "iopub.execute_input": "2022-08-27T04:16:47.736644Z",
     "iopub.status.busy": "2022-08-27T04:16:47.736380Z",
     "iopub.status.idle": "2022-08-27T04:16:47.885629Z",
     "shell.execute_reply": "2022-08-27T04:16:47.885013Z"
    },
    "papermill": {
     "duration": 0.178235,
     "end_time": "2022-08-27T04:16:47.887581",
     "exception": false,
     "start_time": "2022-08-27T04:16:47.709346",
     "status": "completed"
    },
    "tags": []
   },
   "outputs": [],
   "source": [
    "# leave only common genes\n",
    "spredixcan_dfs = spredixcan_dfs[spredixcan_dfs[\"gene_id\"].isin(set(genes_info[\"id\"]))]"
   ]
  },
  {
   "cell_type": "code",
   "execution_count": 70,
   "id": "8d34f99a-6b43-47aa-bb07-dfc67e169538",
   "metadata": {
    "execution": {
     "iopub.execute_input": "2022-08-27T04:16:47.939438Z",
     "iopub.status.busy": "2022-08-27T04:16:47.939170Z",
     "iopub.status.idle": "2022-08-27T04:16:47.957366Z",
     "shell.execute_reply": "2022-08-27T04:16:47.956809Z"
    },
    "papermill": {
     "duration": 0.046058,
     "end_time": "2022-08-27T04:16:47.958901",
     "exception": false,
     "start_time": "2022-08-27T04:16:47.912843",
     "status": "completed"
    },
    "tags": []
   },
   "outputs": [
    {
     "data": {
      "text/plain": [
       "(243990, 7)"
      ]
     },
     "execution_count": 70,
     "metadata": {},
     "output_type": "execute_result"
    }
   ],
   "source": [
    "spredixcan_dfs.shape"
   ]
  },
  {
   "cell_type": "markdown",
   "id": "5ecfd141-ecb8-47cf-905e-25cc1b4d3f9d",
   "metadata": {
    "papermill": {
     "duration": 0.027397,
     "end_time": "2022-08-27T04:16:48.011879",
     "exception": false,
     "start_time": "2022-08-27T04:16:47.984482",
     "status": "completed"
    },
    "tags": []
   },
   "source": [
    "### Count number of tissues available per gene"
   ]
  },
  {
   "cell_type": "code",
   "execution_count": 71,
   "id": "86fe37e1-a303-4221-a12e-3a54a04dd510",
   "metadata": {
    "execution": {
     "iopub.execute_input": "2022-08-27T04:16:48.063548Z",
     "iopub.status.busy": "2022-08-27T04:16:48.063284Z",
     "iopub.status.idle": "2022-08-27T04:16:48.149323Z",
     "shell.execute_reply": "2022-08-27T04:16:48.148699Z"
    },
    "papermill": {
     "duration": 0.114433,
     "end_time": "2022-08-27T04:16:48.151277",
     "exception": false,
     "start_time": "2022-08-27T04:16:48.036844",
     "status": "completed"
    },
    "tags": []
   },
   "outputs": [],
   "source": [
    "spredixcan_genes_n_models = spredixcan_dfs.groupby(\"gene_id\")[\"tissue\"].nunique()"
   ]
  },
  {
   "cell_type": "code",
   "execution_count": 72,
   "id": "31416d48-1e4d-463f-9a5c-34d29803c3f8",
   "metadata": {
    "execution": {
     "iopub.execute_input": "2022-08-27T04:16:48.204555Z",
     "iopub.status.busy": "2022-08-27T04:16:48.204276Z",
     "iopub.status.idle": "2022-08-27T04:16:48.226138Z",
     "shell.execute_reply": "2022-08-27T04:16:48.225505Z"
    },
    "papermill": {
     "duration": 0.050698,
     "end_time": "2022-08-27T04:16:48.227780",
     "exception": false,
     "start_time": "2022-08-27T04:16:48.177082",
     "status": "completed"
    },
    "tags": []
   },
   "outputs": [
    {
     "data": {
      "text/plain": [
       "gene_id\n",
       "ENSG00000000419     3\n",
       "ENSG00000000938    36\n",
       "ENSG00000000971    34\n",
       "ENSG00000001084    33\n",
       "ENSG00000001167    40\n",
       "                   ..\n",
       "ENSG00000278540    36\n",
       "ENSG00000278828     4\n",
       "ENSG00000278845    49\n",
       "ENSG00000281005    49\n",
       "ENSG00000282608    36\n",
       "Name: tissue, Length: 6450, dtype: int64"
      ]
     },
     "execution_count": 72,
     "metadata": {},
     "output_type": "execute_result"
    }
   ],
   "source": [
    "spredixcan_genes_n_models"
   ]
  },
  {
   "cell_type": "code",
   "execution_count": 73,
   "id": "d737ad4f-f821-4546-9a3e-6703fe264b49",
   "metadata": {
    "execution": {
     "iopub.execute_input": "2022-08-27T04:16:48.297621Z",
     "iopub.status.busy": "2022-08-27T04:16:48.297354Z",
     "iopub.status.idle": "2022-08-27T04:16:48.332052Z",
     "shell.execute_reply": "2022-08-27T04:16:48.331397Z"
    },
    "papermill": {
     "duration": 0.072869,
     "end_time": "2022-08-27T04:16:48.334158",
     "exception": false,
     "start_time": "2022-08-27T04:16:48.261289",
     "status": "completed"
    },
    "tags": []
   },
   "outputs": [],
   "source": [
    "# testing that in S-MultiXcan I get the same number of tissues per gene\n",
    "_tmp_smultixcan_results_n_models = (\n",
    "    smultixcan_results.set_index(\"gene_id\")[\"n\"].astype(int).rename(\"tissue\")\n",
    ")\n",
    "\n",
    "_cg = _tmp_smultixcan_results_n_models.index.intersection(\n",
    "    spredixcan_genes_n_models.index\n",
    ")\n",
    "_tmp_smultixcan_results_n_models = _tmp_smultixcan_results_n_models.loc[_cg]\n",
    "_spredixcan = spredixcan_genes_n_models.loc[_cg]\n",
    "\n",
    "assert _spredixcan.shape[0] == _tmp_smultixcan_results_n_models.shape[0]\n",
    "assert _spredixcan.equals(_tmp_smultixcan_results_n_models.loc[_spredixcan.index])"
   ]
  },
  {
   "cell_type": "markdown",
   "id": "904d7d30-9c2d-4c3e-b674-3f081954fe8b",
   "metadata": {
    "papermill": {
     "duration": 0.025331,
     "end_time": "2022-08-27T04:16:48.385969",
     "exception": false,
     "start_time": "2022-08-27T04:16:48.360638",
     "status": "completed"
    },
    "tags": []
   },
   "source": [
    "### Get tissues available per gene"
   ]
  },
  {
   "cell_type": "code",
   "execution_count": 74,
   "id": "cf014e81-4b4e-4c46-9265-67718b3ab08e",
   "metadata": {
    "execution": {
     "iopub.execute_input": "2022-08-27T04:16:48.450438Z",
     "iopub.status.busy": "2022-08-27T04:16:48.450173Z",
     "iopub.status.idle": "2022-08-27T04:16:48.653237Z",
     "shell.execute_reply": "2022-08-27T04:16:48.652577Z"
    },
    "papermill": {
     "duration": 0.23248,
     "end_time": "2022-08-27T04:16:48.655269",
     "exception": false,
     "start_time": "2022-08-27T04:16:48.422789",
     "status": "completed"
    },
    "tags": []
   },
   "outputs": [],
   "source": [
    "spredixcan_genes_models = spredixcan_dfs.groupby(\"gene_id\")[\"tissue\"].apply(\n",
    "    lambda x: frozenset(x.tolist())\n",
    ")"
   ]
  },
  {
   "cell_type": "code",
   "execution_count": 75,
   "id": "5df09d7f-39c9-408f-9fef-5189e8ca1c87",
   "metadata": {
    "execution": {
     "iopub.execute_input": "2022-08-27T04:16:48.711399Z",
     "iopub.status.busy": "2022-08-27T04:16:48.711102Z",
     "iopub.status.idle": "2022-08-27T04:16:48.733996Z",
     "shell.execute_reply": "2022-08-27T04:16:48.733401Z"
    },
    "papermill": {
     "duration": 0.052252,
     "end_time": "2022-08-27T04:16:48.735647",
     "exception": false,
     "start_time": "2022-08-27T04:16:48.683395",
     "status": "completed"
    },
    "tags": []
   },
   "outputs": [
    {
     "data": {
      "text/plain": [
       "gene_id\n",
       "ENSG00000000419    (Brain_Hypothalamus, Cells_Cultured_fibroblast...\n",
       "ENSG00000000938    (Brain_Nucleus_accumbens_basal_ganglia, Liver,...\n",
       "ENSG00000000971    (Brain_Cerebellar_Hemisphere, Brain_Cerebellum...\n",
       "ENSG00000001084    (Adrenal_Gland, Brain_Nucleus_accumbens_basal_...\n",
       "ENSG00000001167    (Adrenal_Gland, Brain_Nucleus_accumbens_basal_...\n",
       "                                         ...                        \n",
       "ENSG00000278540    (Brain_Nucleus_accumbens_basal_ganglia, Liver,...\n",
       "ENSG00000278828    (Adipose_Visceral_Omentum, Cells_EBV-transform...\n",
       "ENSG00000278845    (Adrenal_Gland, Brain_Nucleus_accumbens_basal_...\n",
       "ENSG00000281005    (Adrenal_Gland, Brain_Nucleus_accumbens_basal_...\n",
       "ENSG00000282608    (Adrenal_Gland, Brain_Nucleus_accumbens_basal_...\n",
       "Name: tissue, Length: 6450, dtype: object"
      ]
     },
     "execution_count": 75,
     "metadata": {},
     "output_type": "execute_result"
    }
   ],
   "source": [
    "spredixcan_genes_models"
   ]
  },
  {
   "cell_type": "code",
   "execution_count": 76,
   "id": "97c46886-5a48-4813-b890-1dcdb09ec09d",
   "metadata": {
    "execution": {
     "iopub.execute_input": "2022-08-27T04:16:48.789981Z",
     "iopub.status.busy": "2022-08-27T04:16:48.789693Z",
     "iopub.status.idle": "2022-08-27T04:16:48.806162Z",
     "shell.execute_reply": "2022-08-27T04:16:48.805623Z"
    },
    "papermill": {
     "duration": 0.045286,
     "end_time": "2022-08-27T04:16:48.807892",
     "exception": false,
     "start_time": "2022-08-27T04:16:48.762606",
     "status": "completed"
    },
    "tags": []
   },
   "outputs": [],
   "source": [
    "assert spredixcan_genes_n_models.shape[0] == spredixcan_genes_models.shape[0]"
   ]
  },
  {
   "cell_type": "code",
   "execution_count": 77,
   "id": "abc13913-a681-4297-a0e6-dde62f43c36f",
   "metadata": {
    "execution": {
     "iopub.execute_input": "2022-08-27T04:16:48.860499Z",
     "iopub.status.busy": "2022-08-27T04:16:48.860258Z",
     "iopub.status.idle": "2022-08-27T04:16:48.877425Z",
     "shell.execute_reply": "2022-08-27T04:16:48.876862Z"
    },
    "papermill": {
     "duration": 0.046076,
     "end_time": "2022-08-27T04:16:48.879176",
     "exception": false,
     "start_time": "2022-08-27T04:16:48.833100",
     "status": "completed"
    },
    "tags": []
   },
   "outputs": [],
   "source": [
    "assert spredixcan_genes_n_models.index.equals(spredixcan_genes_models.index)"
   ]
  },
  {
   "cell_type": "code",
   "execution_count": 78,
   "id": "995a02e7-b836-471b-b438-17c8c46e4fde",
   "metadata": {
    "execution": {
     "iopub.execute_input": "2022-08-27T04:16:48.932196Z",
     "iopub.status.busy": "2022-08-27T04:16:48.931938Z",
     "iopub.status.idle": "2022-08-27T04:16:48.950463Z",
     "shell.execute_reply": "2022-08-27T04:16:48.949894Z"
    },
    "papermill": {
     "duration": 0.047084,
     "end_time": "2022-08-27T04:16:48.952172",
     "exception": false,
     "start_time": "2022-08-27T04:16:48.905088",
     "status": "completed"
    },
    "tags": []
   },
   "outputs": [],
   "source": [
    "assert (spredixcan_genes_models.apply(len) <= len(prediction_model_tissues)).all()"
   ]
  },
  {
   "cell_type": "code",
   "execution_count": 79,
   "id": "0c1d0c68-1a06-480c-b6d6-d3c4fdf0f5aa",
   "metadata": {
    "execution": {
     "iopub.execute_input": "2022-08-27T04:16:49.004873Z",
     "iopub.status.busy": "2022-08-27T04:16:49.004617Z",
     "iopub.status.idle": "2022-08-27T04:16:49.027344Z",
     "shell.execute_reply": "2022-08-27T04:16:49.026779Z"
    },
    "papermill": {
     "duration": 0.05137,
     "end_time": "2022-08-27T04:16:49.028936",
     "exception": false,
     "start_time": "2022-08-27T04:16:48.977566",
     "status": "completed"
    },
    "tags": []
   },
   "outputs": [
    {
     "data": {
      "text/plain": [
       "count    6450.000000\n",
       "mean       37.827907\n",
       "std        12.462709\n",
       "min         1.000000\n",
       "25%        32.000000\n",
       "50%        43.000000\n",
       "75%        47.000000\n",
       "max        49.000000\n",
       "Name: tissue, dtype: float64"
      ]
     },
     "execution_count": 79,
     "metadata": {},
     "output_type": "execute_result"
    }
   ],
   "source": [
    "spredixcan_genes_models.apply(len).describe()"
   ]
  },
  {
   "cell_type": "code",
   "execution_count": 80,
   "id": "991b9441-6bb5-4b72-9285-5fd579875e40",
   "metadata": {
    "execution": {
     "iopub.execute_input": "2022-08-27T04:16:49.083264Z",
     "iopub.status.busy": "2022-08-27T04:16:49.082995Z",
     "iopub.status.idle": "2022-08-27T04:16:49.103784Z",
     "shell.execute_reply": "2022-08-27T04:16:49.103186Z"
    },
    "papermill": {
     "duration": 0.049879,
     "end_time": "2022-08-27T04:16:49.105503",
     "exception": false,
     "start_time": "2022-08-27T04:16:49.055624",
     "status": "completed"
    },
    "tags": []
   },
   "outputs": [],
   "source": [
    "# testing\n",
    "assert (\n",
    "    spredixcan_genes_models.loc[spredixcan_genes_n_models.index]\n",
    "    .apply(len)\n",
    "    .equals(spredixcan_genes_n_models)\n",
    ")"
   ]
  },
  {
   "cell_type": "markdown",
   "id": "3042b22d-9d88-4e21-b112-ab23cf8d24ea",
   "metadata": {
    "papermill": {
     "duration": 0.025459,
     "end_time": "2022-08-27T04:16:49.156855",
     "exception": false,
     "start_time": "2022-08-27T04:16:49.131396",
     "status": "completed"
    },
    "tags": []
   },
   "source": [
    "### Add gene name and set index"
   ]
  },
  {
   "cell_type": "code",
   "execution_count": 81,
   "id": "3b7b0e76-7aca-44bf-beff-5f1c1b6193ee",
   "metadata": {
    "execution": {
     "iopub.execute_input": "2022-08-27T04:16:49.208864Z",
     "iopub.status.busy": "2022-08-27T04:16:49.208596Z",
     "iopub.status.idle": "2022-08-27T04:16:49.226234Z",
     "shell.execute_reply": "2022-08-27T04:16:49.225641Z"
    },
    "papermill": {
     "duration": 0.045681,
     "end_time": "2022-08-27T04:16:49.227895",
     "exception": false,
     "start_time": "2022-08-27T04:16:49.182214",
     "status": "completed"
    },
    "tags": []
   },
   "outputs": [],
   "source": [
    "spredixcan_genes_models = spredixcan_genes_models.to_frame().reset_index()"
   ]
  },
  {
   "cell_type": "code",
   "execution_count": 82,
   "id": "ffab4b61-c2d4-4bcc-a147-23a4bf30f715",
   "metadata": {
    "execution": {
     "iopub.execute_input": "2022-08-27T04:16:49.287664Z",
     "iopub.status.busy": "2022-08-27T04:16:49.287400Z",
     "iopub.status.idle": "2022-08-27T04:16:49.310222Z",
     "shell.execute_reply": "2022-08-27T04:16:49.309663Z"
    },
    "papermill": {
     "duration": 0.057453,
     "end_time": "2022-08-27T04:16:49.311799",
     "exception": false,
     "start_time": "2022-08-27T04:16:49.254346",
     "status": "completed"
    },
    "tags": []
   },
   "outputs": [
    {
     "data": {
      "text/html": [
       "<div>\n",
       "<style scoped>\n",
       "    .dataframe tbody tr th:only-of-type {\n",
       "        vertical-align: middle;\n",
       "    }\n",
       "\n",
       "    .dataframe tbody tr th {\n",
       "        vertical-align: top;\n",
       "    }\n",
       "\n",
       "    .dataframe thead th {\n",
       "        text-align: right;\n",
       "    }\n",
       "</style>\n",
       "<table border=\"1\" class=\"dataframe\">\n",
       "  <thead>\n",
       "    <tr style=\"text-align: right;\">\n",
       "      <th></th>\n",
       "      <th>gene_id</th>\n",
       "      <th>tissue</th>\n",
       "    </tr>\n",
       "  </thead>\n",
       "  <tbody>\n",
       "    <tr>\n",
       "      <th>0</th>\n",
       "      <td>ENSG00000000419</td>\n",
       "      <td>(Brain_Hypothalamus, Cells_Cultured_fibroblast...</td>\n",
       "    </tr>\n",
       "    <tr>\n",
       "      <th>1</th>\n",
       "      <td>ENSG00000000938</td>\n",
       "      <td>(Brain_Nucleus_accumbens_basal_ganglia, Liver,...</td>\n",
       "    </tr>\n",
       "    <tr>\n",
       "      <th>2</th>\n",
       "      <td>ENSG00000000971</td>\n",
       "      <td>(Brain_Cerebellar_Hemisphere, Brain_Cerebellum...</td>\n",
       "    </tr>\n",
       "    <tr>\n",
       "      <th>3</th>\n",
       "      <td>ENSG00000001084</td>\n",
       "      <td>(Adrenal_Gland, Brain_Nucleus_accumbens_basal_...</td>\n",
       "    </tr>\n",
       "    <tr>\n",
       "      <th>4</th>\n",
       "      <td>ENSG00000001167</td>\n",
       "      <td>(Adrenal_Gland, Brain_Nucleus_accumbens_basal_...</td>\n",
       "    </tr>\n",
       "  </tbody>\n",
       "</table>\n",
       "</div>"
      ],
      "text/plain": [
       "           gene_id                                             tissue\n",
       "0  ENSG00000000419  (Brain_Hypothalamus, Cells_Cultured_fibroblast...\n",
       "1  ENSG00000000938  (Brain_Nucleus_accumbens_basal_ganglia, Liver,...\n",
       "2  ENSG00000000971  (Brain_Cerebellar_Hemisphere, Brain_Cerebellum...\n",
       "3  ENSG00000001084  (Adrenal_Gland, Brain_Nucleus_accumbens_basal_...\n",
       "4  ENSG00000001167  (Adrenal_Gland, Brain_Nucleus_accumbens_basal_..."
      ]
     },
     "execution_count": 82,
     "metadata": {},
     "output_type": "execute_result"
    }
   ],
   "source": [
    "spredixcan_genes_models.head()"
   ]
  },
  {
   "cell_type": "code",
   "execution_count": 83,
   "id": "e1cb2fe5-969f-4526-bca7-a3b8919b3509",
   "metadata": {
    "execution": {
     "iopub.execute_input": "2022-08-27T04:16:49.364661Z",
     "iopub.status.busy": "2022-08-27T04:16:49.364397Z",
     "iopub.status.idle": "2022-08-27T04:16:49.385497Z",
     "shell.execute_reply": "2022-08-27T04:16:49.384853Z"
    },
    "papermill": {
     "duration": 0.049637,
     "end_time": "2022-08-27T04:16:49.387415",
     "exception": false,
     "start_time": "2022-08-27T04:16:49.337778",
     "status": "completed"
    },
    "tags": []
   },
   "outputs": [],
   "source": [
    "spredixcan_genes_models = spredixcan_genes_models.assign(\n",
    "    gene_name=spredixcan_genes_models[\"gene_id\"].apply(\n",
    "        lambda g: Gene.GENE_ID_TO_NAME_MAP[g]\n",
    "    )\n",
    ")"
   ]
  },
  {
   "cell_type": "code",
   "execution_count": 84,
   "id": "ff078ce5-3f18-442e-a593-3326436c758e",
   "metadata": {
    "execution": {
     "iopub.execute_input": "2022-08-27T04:16:49.443721Z",
     "iopub.status.busy": "2022-08-27T04:16:49.443457Z",
     "iopub.status.idle": "2022-08-27T04:16:49.462114Z",
     "shell.execute_reply": "2022-08-27T04:16:49.461505Z"
    },
    "papermill": {
     "duration": 0.048809,
     "end_time": "2022-08-27T04:16:49.464114",
     "exception": false,
     "start_time": "2022-08-27T04:16:49.415305",
     "status": "completed"
    },
    "tags": []
   },
   "outputs": [],
   "source": [
    "spredixcan_genes_models = spredixcan_genes_models[[\"gene_id\", \"gene_name\", \"tissue\"]]"
   ]
  },
  {
   "cell_type": "code",
   "execution_count": 85,
   "id": "a65c8bf2-5ecd-4f80-a857-11f8a0c019c4",
   "metadata": {
    "execution": {
     "iopub.execute_input": "2022-08-27T04:16:49.519391Z",
     "iopub.status.busy": "2022-08-27T04:16:49.519124Z",
     "iopub.status.idle": "2022-08-27T04:16:49.537071Z",
     "shell.execute_reply": "2022-08-27T04:16:49.536481Z"
    },
    "papermill": {
     "duration": 0.047966,
     "end_time": "2022-08-27T04:16:49.538830",
     "exception": false,
     "start_time": "2022-08-27T04:16:49.490864",
     "status": "completed"
    },
    "tags": []
   },
   "outputs": [],
   "source": [
    "spredixcan_genes_models = spredixcan_genes_models.set_index(\"gene_id\")"
   ]
  },
  {
   "cell_type": "code",
   "execution_count": 86,
   "id": "af6b40b9-fc58-47a1-a1b5-4404034b008b",
   "metadata": {
    "execution": {
     "iopub.execute_input": "2022-08-27T04:16:49.593021Z",
     "iopub.status.busy": "2022-08-27T04:16:49.592744Z",
     "iopub.status.idle": "2022-08-27T04:16:49.616313Z",
     "shell.execute_reply": "2022-08-27T04:16:49.615767Z"
    },
    "papermill": {
     "duration": 0.052208,
     "end_time": "2022-08-27T04:16:49.617918",
     "exception": false,
     "start_time": "2022-08-27T04:16:49.565710",
     "status": "completed"
    },
    "tags": []
   },
   "outputs": [
    {
     "data": {
      "text/html": [
       "<div>\n",
       "<style scoped>\n",
       "    .dataframe tbody tr th:only-of-type {\n",
       "        vertical-align: middle;\n",
       "    }\n",
       "\n",
       "    .dataframe tbody tr th {\n",
       "        vertical-align: top;\n",
       "    }\n",
       "\n",
       "    .dataframe thead th {\n",
       "        text-align: right;\n",
       "    }\n",
       "</style>\n",
       "<table border=\"1\" class=\"dataframe\">\n",
       "  <thead>\n",
       "    <tr style=\"text-align: right;\">\n",
       "      <th></th>\n",
       "      <th>gene_name</th>\n",
       "      <th>tissue</th>\n",
       "    </tr>\n",
       "    <tr>\n",
       "      <th>gene_id</th>\n",
       "      <th></th>\n",
       "      <th></th>\n",
       "    </tr>\n",
       "  </thead>\n",
       "  <tbody>\n",
       "    <tr>\n",
       "      <th>ENSG00000000419</th>\n",
       "      <td>DPM1</td>\n",
       "      <td>(Brain_Hypothalamus, Cells_Cultured_fibroblast...</td>\n",
       "    </tr>\n",
       "    <tr>\n",
       "      <th>ENSG00000000938</th>\n",
       "      <td>FGR</td>\n",
       "      <td>(Brain_Nucleus_accumbens_basal_ganglia, Liver,...</td>\n",
       "    </tr>\n",
       "    <tr>\n",
       "      <th>ENSG00000000971</th>\n",
       "      <td>CFH</td>\n",
       "      <td>(Brain_Cerebellar_Hemisphere, Brain_Cerebellum...</td>\n",
       "    </tr>\n",
       "    <tr>\n",
       "      <th>ENSG00000001084</th>\n",
       "      <td>GCLC</td>\n",
       "      <td>(Adrenal_Gland, Brain_Nucleus_accumbens_basal_...</td>\n",
       "    </tr>\n",
       "    <tr>\n",
       "      <th>ENSG00000001167</th>\n",
       "      <td>NFYA</td>\n",
       "      <td>(Adrenal_Gland, Brain_Nucleus_accumbens_basal_...</td>\n",
       "    </tr>\n",
       "  </tbody>\n",
       "</table>\n",
       "</div>"
      ],
      "text/plain": [
       "                gene_name                                             tissue\n",
       "gene_id                                                                     \n",
       "ENSG00000000419      DPM1  (Brain_Hypothalamus, Cells_Cultured_fibroblast...\n",
       "ENSG00000000938       FGR  (Brain_Nucleus_accumbens_basal_ganglia, Liver,...\n",
       "ENSG00000000971       CFH  (Brain_Cerebellar_Hemisphere, Brain_Cerebellum...\n",
       "ENSG00000001084      GCLC  (Adrenal_Gland, Brain_Nucleus_accumbens_basal_...\n",
       "ENSG00000001167      NFYA  (Adrenal_Gland, Brain_Nucleus_accumbens_basal_..."
      ]
     },
     "execution_count": 86,
     "metadata": {},
     "output_type": "execute_result"
    }
   ],
   "source": [
    "spredixcan_genes_models.head()"
   ]
  },
  {
   "cell_type": "markdown",
   "id": "d1e67be9-9094-4a07-b89d-3a0815d503e6",
   "metadata": {
    "papermill": {
     "duration": 0.026643,
     "end_time": "2022-08-27T04:16:49.671607",
     "exception": false,
     "start_time": "2022-08-27T04:16:49.644964",
     "status": "completed"
    },
    "tags": []
   },
   "source": [
    "### Add number of tissues"
   ]
  },
  {
   "cell_type": "code",
   "execution_count": 87,
   "id": "b2702bdb-b3bc-48e6-9c3e-855924d9e74b",
   "metadata": {
    "execution": {
     "iopub.execute_input": "2022-08-27T04:16:49.727987Z",
     "iopub.status.busy": "2022-08-27T04:16:49.727714Z",
     "iopub.status.idle": "2022-08-27T04:16:49.747130Z",
     "shell.execute_reply": "2022-08-27T04:16:49.746526Z"
    },
    "papermill": {
     "duration": 0.049651,
     "end_time": "2022-08-27T04:16:49.749123",
     "exception": false,
     "start_time": "2022-08-27T04:16:49.699472",
     "status": "completed"
    },
    "tags": []
   },
   "outputs": [],
   "source": [
    "spredixcan_genes_models = spredixcan_genes_models.assign(\n",
    "    n_tissues=spredixcan_genes_models[\"tissue\"].apply(len)\n",
    ")"
   ]
  },
  {
   "cell_type": "code",
   "execution_count": 88,
   "id": "4a5eb4b8-5e11-45a3-a991-0515bd83fc03",
   "metadata": {
    "execution": {
     "iopub.execute_input": "2022-08-27T04:16:49.806864Z",
     "iopub.status.busy": "2022-08-27T04:16:49.806568Z",
     "iopub.status.idle": "2022-08-27T04:16:49.830436Z",
     "shell.execute_reply": "2022-08-27T04:16:49.829892Z"
    },
    "papermill": {
     "duration": 0.054212,
     "end_time": "2022-08-27T04:16:49.832051",
     "exception": false,
     "start_time": "2022-08-27T04:16:49.777839",
     "status": "completed"
    },
    "tags": []
   },
   "outputs": [
    {
     "data": {
      "text/html": [
       "<div>\n",
       "<style scoped>\n",
       "    .dataframe tbody tr th:only-of-type {\n",
       "        vertical-align: middle;\n",
       "    }\n",
       "\n",
       "    .dataframe tbody tr th {\n",
       "        vertical-align: top;\n",
       "    }\n",
       "\n",
       "    .dataframe thead th {\n",
       "        text-align: right;\n",
       "    }\n",
       "</style>\n",
       "<table border=\"1\" class=\"dataframe\">\n",
       "  <thead>\n",
       "    <tr style=\"text-align: right;\">\n",
       "      <th></th>\n",
       "      <th>gene_name</th>\n",
       "      <th>tissue</th>\n",
       "      <th>n_tissues</th>\n",
       "    </tr>\n",
       "    <tr>\n",
       "      <th>gene_id</th>\n",
       "      <th></th>\n",
       "      <th></th>\n",
       "      <th></th>\n",
       "    </tr>\n",
       "  </thead>\n",
       "  <tbody>\n",
       "    <tr>\n",
       "      <th>ENSG00000000419</th>\n",
       "      <td>DPM1</td>\n",
       "      <td>(Brain_Hypothalamus, Cells_Cultured_fibroblast...</td>\n",
       "      <td>3</td>\n",
       "    </tr>\n",
       "    <tr>\n",
       "      <th>ENSG00000000938</th>\n",
       "      <td>FGR</td>\n",
       "      <td>(Brain_Nucleus_accumbens_basal_ganglia, Liver,...</td>\n",
       "      <td>36</td>\n",
       "    </tr>\n",
       "    <tr>\n",
       "      <th>ENSG00000000971</th>\n",
       "      <td>CFH</td>\n",
       "      <td>(Brain_Cerebellar_Hemisphere, Brain_Cerebellum...</td>\n",
       "      <td>34</td>\n",
       "    </tr>\n",
       "    <tr>\n",
       "      <th>ENSG00000001084</th>\n",
       "      <td>GCLC</td>\n",
       "      <td>(Adrenal_Gland, Brain_Nucleus_accumbens_basal_...</td>\n",
       "      <td>33</td>\n",
       "    </tr>\n",
       "    <tr>\n",
       "      <th>ENSG00000001167</th>\n",
       "      <td>NFYA</td>\n",
       "      <td>(Adrenal_Gland, Brain_Nucleus_accumbens_basal_...</td>\n",
       "      <td>40</td>\n",
       "    </tr>\n",
       "  </tbody>\n",
       "</table>\n",
       "</div>"
      ],
      "text/plain": [
       "                gene_name                                             tissue  \\\n",
       "gene_id                                                                        \n",
       "ENSG00000000419      DPM1  (Brain_Hypothalamus, Cells_Cultured_fibroblast...   \n",
       "ENSG00000000938       FGR  (Brain_Nucleus_accumbens_basal_ganglia, Liver,...   \n",
       "ENSG00000000971       CFH  (Brain_Cerebellar_Hemisphere, Brain_Cerebellum...   \n",
       "ENSG00000001084      GCLC  (Adrenal_Gland, Brain_Nucleus_accumbens_basal_...   \n",
       "ENSG00000001167      NFYA  (Adrenal_Gland, Brain_Nucleus_accumbens_basal_...   \n",
       "\n",
       "                 n_tissues  \n",
       "gene_id                     \n",
       "ENSG00000000419          3  \n",
       "ENSG00000000938         36  \n",
       "ENSG00000000971         34  \n",
       "ENSG00000001084         33  \n",
       "ENSG00000001167         40  "
      ]
     },
     "execution_count": 88,
     "metadata": {},
     "output_type": "execute_result"
    }
   ],
   "source": [
    "spredixcan_genes_models.head()"
   ]
  },
  {
   "cell_type": "markdown",
   "id": "2abce820-1cb4-4a58-9dc5-b3e37d3ff037",
   "metadata": {
    "papermill": {
     "duration": 0.026332,
     "end_time": "2022-08-27T04:16:49.885726",
     "exception": false,
     "start_time": "2022-08-27T04:16:49.859394",
     "status": "completed"
    },
    "tags": []
   },
   "source": [
    "### Save"
   ]
  },
  {
   "cell_type": "markdown",
   "id": "28462e2a-da49-44c4-ae71-b3830a2b108f",
   "metadata": {
    "papermill": {
     "duration": 0.027592,
     "end_time": "2022-08-27T04:16:49.939323",
     "exception": false,
     "start_time": "2022-08-27T04:16:49.911731",
     "status": "completed"
    },
    "tags": []
   },
   "source": [
    "Here I quickly save these results to a file, given that the next steps (covariates) are slow to compute."
   ]
  },
  {
   "cell_type": "code",
   "execution_count": 89,
   "id": "9cfb687d-5ab2-4e85-9944-f5c685de8046",
   "metadata": {
    "execution": {
     "iopub.execute_input": "2022-08-27T04:16:49.994789Z",
     "iopub.status.busy": "2022-08-27T04:16:49.994508Z",
     "iopub.status.idle": "2022-08-27T04:16:50.022775Z",
     "shell.execute_reply": "2022-08-27T04:16:50.022160Z"
    },
    "papermill": {
     "duration": 0.058839,
     "end_time": "2022-08-27T04:16:50.024680",
     "exception": false,
     "start_time": "2022-08-27T04:16:49.965841",
     "status": "completed"
    },
    "tags": []
   },
   "outputs": [],
   "source": [
    "# this is important, other scripts depend on gene_name to be unique\n",
    "assert spredixcan_genes_models[\"gene_name\"].is_unique"
   ]
  },
  {
   "cell_type": "code",
   "execution_count": 90,
   "id": "b2d9bd26-afaa-4aff-a707-3109e13af9bb",
   "metadata": {
    "execution": {
     "iopub.execute_input": "2022-08-27T04:16:50.080569Z",
     "iopub.status.busy": "2022-08-27T04:16:50.080308Z",
     "iopub.status.idle": "2022-08-27T04:16:50.098200Z",
     "shell.execute_reply": "2022-08-27T04:16:50.097589Z"
    },
    "papermill": {
     "duration": 0.048129,
     "end_time": "2022-08-27T04:16:50.099963",
     "exception": false,
     "start_time": "2022-08-27T04:16:50.051834",
     "status": "completed"
    },
    "tags": []
   },
   "outputs": [],
   "source": [
    "assert not spredixcan_genes_models.isna().any(None)"
   ]
  },
  {
   "cell_type": "code",
   "execution_count": 91,
   "id": "074b103c-2960-4299-a3ac-fa37ab6f2784",
   "metadata": {
    "execution": {
     "iopub.execute_input": "2022-08-27T04:16:50.155733Z",
     "iopub.status.busy": "2022-08-27T04:16:50.155471Z",
     "iopub.status.idle": "2022-08-27T04:16:50.191277Z",
     "shell.execute_reply": "2022-08-27T04:16:50.190675Z"
    },
    "papermill": {
     "duration": 0.066026,
     "end_time": "2022-08-27T04:16:50.193171",
     "exception": false,
     "start_time": "2022-08-27T04:16:50.127145",
     "status": "completed"
    },
    "tags": []
   },
   "outputs": [],
   "source": [
    "spredixcan_genes_models.to_pickle(OUTPUT_DIR_BASE / \"gene_tissues.pkl\")"
   ]
  },
  {
   "cell_type": "markdown",
   "id": "ae18f693-4da8-48ae-85b6-8194abcca684",
   "metadata": {
    "papermill": {
     "duration": 0.026247,
     "end_time": "2022-08-27T04:16:50.246591",
     "exception": false,
     "start_time": "2022-08-27T04:16:50.220344",
     "status": "completed"
    },
    "tags": []
   },
   "source": [
    "## Add covariates based on S-PrediXcan results"
   ]
  },
  {
   "cell_type": "markdown",
   "id": "bed7a46c-4906-40b9-9dd8-0bfb584e6d2a",
   "metadata": {
    "papermill": {
     "duration": 0.026843,
     "end_time": "2022-08-27T04:16:50.299983",
     "exception": false,
     "start_time": "2022-08-27T04:16:50.273140",
     "status": "completed"
    },
    "tags": []
   },
   "source": [
    "This extend the previous file with more columns"
   ]
  },
  {
   "cell_type": "markdown",
   "id": "850c554f-2ace-40a3-a33a-477246bb07c7",
   "metadata": {
    "papermill": {
     "duration": 0.02731,
     "end_time": "2022-08-27T04:16:50.354388",
     "exception": false,
     "start_time": "2022-08-27T04:16:50.327078",
     "status": "completed"
    },
    "tags": []
   },
   "source": [
    "### Get gene's objects"
   ]
  },
  {
   "cell_type": "code",
   "execution_count": 92,
   "id": "dfd93711-5c91-4cb6-8561-f366e270b6b1",
   "metadata": {
    "execution": {
     "iopub.execute_input": "2022-08-27T04:16:50.411233Z",
     "iopub.status.busy": "2022-08-27T04:16:50.410968Z",
     "iopub.status.idle": "2022-08-27T04:16:50.437193Z",
     "shell.execute_reply": "2022-08-27T04:16:50.436580Z"
    },
    "papermill": {
     "duration": 0.057072,
     "end_time": "2022-08-27T04:16:50.439035",
     "exception": false,
     "start_time": "2022-08-27T04:16:50.381963",
     "status": "completed"
    },
    "tags": []
   },
   "outputs": [],
   "source": [
    "spredixcan_gene_obj = {\n",
    "    gene_id: Gene(ensembl_id=gene_id) for gene_id in spredixcan_genes_models.index\n",
    "}"
   ]
  },
  {
   "cell_type": "code",
   "execution_count": 93,
   "id": "59efbedc-0b5d-4d0b-bd82-95e74c0ba793",
   "metadata": {
    "execution": {
     "iopub.execute_input": "2022-08-27T04:16:50.495780Z",
     "iopub.status.busy": "2022-08-27T04:16:50.495475Z",
     "iopub.status.idle": "2022-08-27T04:16:50.514089Z",
     "shell.execute_reply": "2022-08-27T04:16:50.513511Z"
    },
    "papermill": {
     "duration": 0.048812,
     "end_time": "2022-08-27T04:16:50.515736",
     "exception": false,
     "start_time": "2022-08-27T04:16:50.466924",
     "status": "completed"
    },
    "tags": []
   },
   "outputs": [
    {
     "data": {
      "text/plain": [
       "6450"
      ]
     },
     "execution_count": 93,
     "metadata": {},
     "output_type": "execute_result"
    }
   ],
   "source": [
    "len(spredixcan_gene_obj)"
   ]
  },
  {
   "cell_type": "markdown",
   "id": "27ac1828-755a-424a-b416-6aef1f0c2e45",
   "metadata": {
    "papermill": {
     "duration": 0.029451,
     "end_time": "2022-08-27T04:16:50.573747",
     "exception": false,
     "start_time": "2022-08-27T04:16:50.544296",
     "status": "completed"
    },
    "tags": []
   },
   "source": [
    "### Add genes' variance captured by principal components"
   ]
  },
  {
   "cell_type": "code",
   "execution_count": 94,
   "id": "893b3418-054c-44d2-9ce0-7fa590aef00e",
   "metadata": {
    "execution": {
     "iopub.execute_input": "2022-08-27T04:16:50.633887Z",
     "iopub.status.busy": "2022-08-27T04:16:50.633597Z",
     "iopub.status.idle": "2022-08-27T04:16:50.652172Z",
     "shell.execute_reply": "2022-08-27T04:16:50.651536Z"
    },
    "papermill": {
     "duration": 0.051081,
     "end_time": "2022-08-27T04:16:50.653967",
     "exception": false,
     "start_time": "2022-08-27T04:16:50.602886",
     "status": "completed"
    },
    "tags": []
   },
   "outputs": [],
   "source": [
    "def _get_gene_pc_variance(gene_row):\n",
    "    gene_id = gene_row.name\n",
    "    gene_tissues = gene_row[\"tissue\"]\n",
    "    gene_obj = spredixcan_gene_obj[gene_id]\n",
    "\n",
    "    u, s, vt = gene_obj.get_tissues_correlations_svd(\n",
    "        tissues=gene_tissues,\n",
    "        snps_subset=gwas_variants_ids_set,\n",
    "        reference_panel=REFERENCE_PANEL,\n",
    "        model_type=EQTL_MODEL,\n",
    "        # use_covariance_matrix=True,\n",
    "    )\n",
    "\n",
    "    return s"
   ]
  },
  {
   "cell_type": "code",
   "execution_count": 95,
   "id": "083afa33-cea0-40d3-af20-94a1307a6607",
   "metadata": {
    "execution": {
     "iopub.execute_input": "2022-08-27T04:16:50.712225Z",
     "iopub.status.busy": "2022-08-27T04:16:50.711956Z",
     "iopub.status.idle": "2022-08-27T04:16:54.403527Z",
     "shell.execute_reply": "2022-08-27T04:16:54.402761Z"
    },
    "papermill": {
     "duration": 3.722448,
     "end_time": "2022-08-27T04:16:54.405439",
     "exception": false,
     "start_time": "2022-08-27T04:16:50.682991",
     "status": "completed"
    },
    "tags": []
   },
   "outputs": [
    {
     "data": {
      "text/plain": [
       "array([35.60509556,  3.87543604,  2.16044422,  1.41758395,  1.26548868])"
      ]
     },
     "execution_count": 95,
     "metadata": {},
     "output_type": "execute_result"
    }
   ],
   "source": [
    "_tmp = spredixcan_genes_models.loc[\"ENSG00000188976\"]\n",
    "_get_gene_pc_variance(_tmp)"
   ]
  },
  {
   "cell_type": "code",
   "execution_count": 96,
   "id": "80f7720d-79c9-4183-bb7e-b1480f31ed87",
   "metadata": {
    "execution": {
     "iopub.execute_input": "2022-08-27T04:16:54.464543Z",
     "iopub.status.busy": "2022-08-27T04:16:54.464273Z",
     "iopub.status.idle": "2022-08-27T05:51:38.073118Z",
     "shell.execute_reply": "2022-08-27T05:51:38.072291Z"
    },
    "papermill": {
     "duration": 5683.640716,
     "end_time": "2022-08-27T05:51:38.075326",
     "exception": false,
     "start_time": "2022-08-27T04:16:54.434610",
     "status": "completed"
    },
    "tags": []
   },
   "outputs": [],
   "source": [
    "spredixcan_genes_tissues_pc_variance = spredixcan_genes_models.apply(\n",
    "    _get_gene_pc_variance, axis=1\n",
    ")"
   ]
  },
  {
   "cell_type": "code",
   "execution_count": 97,
   "id": "621302a1-1407-4400-9282-e37798bb18b3",
   "metadata": {
    "execution": {
     "iopub.execute_input": "2022-08-27T05:51:38.134284Z",
     "iopub.status.busy": "2022-08-27T05:51:38.133985Z",
     "iopub.status.idle": "2022-08-27T05:51:38.157667Z",
     "shell.execute_reply": "2022-08-27T05:51:38.157121Z"
    },
    "papermill": {
     "duration": 0.054372,
     "end_time": "2022-08-27T05:51:38.159238",
     "exception": false,
     "start_time": "2022-08-27T05:51:38.104866",
     "status": "completed"
    },
    "tags": []
   },
   "outputs": [
    {
     "data": {
      "text/plain": [
       "gene_id\n",
       "ENSG00000000419    [1.052540658399403, 1.024362410165966, 0.92309...\n",
       "ENSG00000000938    [31.632669336371276, 2.078367751851144, 1.2716...\n",
       "ENSG00000000971    [21.560769925683285, 7.3101709870454705, 1.837...\n",
       "ENSG00000001084    [21.74736589643257, 4.70064578668365, 2.249949...\n",
       "ENSG00000001167                                  [38.28994327673914]\n",
       "                                         ...                        \n",
       "ENSG00000278540    [30.23954027295475, 3.0448326465798883, 1.6793...\n",
       "ENSG00000278828              [3.062182335109642, 0.9378176648903573]\n",
       "ENSG00000278845              [45.614380145881576, 2.270555362800342]\n",
       "ENSG00000281005                                  [48.30170739785572]\n",
       "ENSG00000282608    [22.6535140812371, 6.245520030604545, 2.555945...\n",
       "Length: 6450, dtype: object"
      ]
     },
     "execution_count": 97,
     "metadata": {},
     "output_type": "execute_result"
    }
   ],
   "source": [
    "spredixcan_genes_tissues_pc_variance"
   ]
  },
  {
   "cell_type": "code",
   "execution_count": 98,
   "id": "9ac9e0fb-e0cc-4fea-ad01-2e76d40afb3c",
   "metadata": {
    "execution": {
     "iopub.execute_input": "2022-08-27T05:51:38.214855Z",
     "iopub.status.busy": "2022-08-27T05:51:38.214584Z",
     "iopub.status.idle": "2022-08-27T05:51:38.231218Z",
     "shell.execute_reply": "2022-08-27T05:51:38.230663Z"
    },
    "papermill": {
     "duration": 0.046163,
     "end_time": "2022-08-27T05:51:38.232875",
     "exception": false,
     "start_time": "2022-08-27T05:51:38.186712",
     "status": "completed"
    },
    "tags": []
   },
   "outputs": [],
   "source": [
    "# # testing\n",
    "# assert spredixcan_genes_tissues_pc_variance.loc[\n",
    "#     \"ENSG00000188976\"\n",
    "# ].sum() == pytest.approx(44.01605629086847)\n",
    "# # this is using the covariance:\n",
    "# # assert spredixcan_genes_tissues_pc_variance.loc[\"ENSG00000188976\"].sum() == pytest.approx(1.1492946006449425)"
   ]
  },
  {
   "cell_type": "code",
   "execution_count": 99,
   "id": "700ed8c8-16e3-4f44-80ff-a4355349ac26",
   "metadata": {
    "execution": {
     "iopub.execute_input": "2022-08-27T05:51:38.287760Z",
     "iopub.status.busy": "2022-08-27T05:51:38.287486Z",
     "iopub.status.idle": "2022-08-27T05:51:38.307053Z",
     "shell.execute_reply": "2022-08-27T05:51:38.306474Z"
    },
    "papermill": {
     "duration": 0.048858,
     "end_time": "2022-08-27T05:51:38.308795",
     "exception": false,
     "start_time": "2022-08-27T05:51:38.259937",
     "status": "completed"
    },
    "tags": []
   },
   "outputs": [],
   "source": [
    "# add to spredixcan_genes_models\n",
    "spredixcan_genes_models = spredixcan_genes_models.join(\n",
    "    spredixcan_genes_tissues_pc_variance.rename(\"tissues_pc_variances\")\n",
    ")"
   ]
  },
  {
   "cell_type": "code",
   "execution_count": 100,
   "id": "597f7dff-2425-490d-84d6-537f8bd0f147",
   "metadata": {
    "execution": {
     "iopub.execute_input": "2022-08-27T05:51:38.365154Z",
     "iopub.status.busy": "2022-08-27T05:51:38.364888Z",
     "iopub.status.idle": "2022-08-27T05:51:38.383208Z",
     "shell.execute_reply": "2022-08-27T05:51:38.382660Z"
    },
    "papermill": {
     "duration": 0.048199,
     "end_time": "2022-08-27T05:51:38.384788",
     "exception": false,
     "start_time": "2022-08-27T05:51:38.336589",
     "status": "completed"
    },
    "tags": []
   },
   "outputs": [
    {
     "data": {
      "text/plain": [
       "(6450, 4)"
      ]
     },
     "execution_count": 100,
     "metadata": {},
     "output_type": "execute_result"
    }
   ],
   "source": [
    "spredixcan_genes_models.shape"
   ]
  },
  {
   "cell_type": "code",
   "execution_count": 101,
   "id": "41bdb249-f7e3-4b07-a534-2c3e46db72dc",
   "metadata": {
    "execution": {
     "iopub.execute_input": "2022-08-27T05:51:38.440993Z",
     "iopub.status.busy": "2022-08-27T05:51:38.440706Z",
     "iopub.status.idle": "2022-08-27T05:51:38.466386Z",
     "shell.execute_reply": "2022-08-27T05:51:38.465836Z"
    },
    "papermill": {
     "duration": 0.055452,
     "end_time": "2022-08-27T05:51:38.467929",
     "exception": false,
     "start_time": "2022-08-27T05:51:38.412477",
     "status": "completed"
    },
    "tags": []
   },
   "outputs": [
    {
     "data": {
      "text/html": [
       "<div>\n",
       "<style scoped>\n",
       "    .dataframe tbody tr th:only-of-type {\n",
       "        vertical-align: middle;\n",
       "    }\n",
       "\n",
       "    .dataframe tbody tr th {\n",
       "        vertical-align: top;\n",
       "    }\n",
       "\n",
       "    .dataframe thead th {\n",
       "        text-align: right;\n",
       "    }\n",
       "</style>\n",
       "<table border=\"1\" class=\"dataframe\">\n",
       "  <thead>\n",
       "    <tr style=\"text-align: right;\">\n",
       "      <th></th>\n",
       "      <th>gene_name</th>\n",
       "      <th>tissue</th>\n",
       "      <th>n_tissues</th>\n",
       "      <th>tissues_pc_variances</th>\n",
       "    </tr>\n",
       "    <tr>\n",
       "      <th>gene_id</th>\n",
       "      <th></th>\n",
       "      <th></th>\n",
       "      <th></th>\n",
       "      <th></th>\n",
       "    </tr>\n",
       "  </thead>\n",
       "  <tbody>\n",
       "    <tr>\n",
       "      <th>ENSG00000000419</th>\n",
       "      <td>DPM1</td>\n",
       "      <td>(Brain_Hypothalamus, Cells_Cultured_fibroblast...</td>\n",
       "      <td>3</td>\n",
       "      <td>[1.052540658399403, 1.024362410165966, 0.92309...</td>\n",
       "    </tr>\n",
       "    <tr>\n",
       "      <th>ENSG00000000938</th>\n",
       "      <td>FGR</td>\n",
       "      <td>(Brain_Nucleus_accumbens_basal_ganglia, Liver,...</td>\n",
       "      <td>36</td>\n",
       "      <td>[31.632669336371276, 2.078367751851144, 1.2716...</td>\n",
       "    </tr>\n",
       "    <tr>\n",
       "      <th>ENSG00000000971</th>\n",
       "      <td>CFH</td>\n",
       "      <td>(Brain_Cerebellar_Hemisphere, Brain_Cerebellum...</td>\n",
       "      <td>34</td>\n",
       "      <td>[21.560769925683285, 7.3101709870454705, 1.837...</td>\n",
       "    </tr>\n",
       "    <tr>\n",
       "      <th>ENSG00000001084</th>\n",
       "      <td>GCLC</td>\n",
       "      <td>(Adrenal_Gland, Brain_Nucleus_accumbens_basal_...</td>\n",
       "      <td>33</td>\n",
       "      <td>[21.74736589643257, 4.70064578668365, 2.249949...</td>\n",
       "    </tr>\n",
       "    <tr>\n",
       "      <th>ENSG00000001167</th>\n",
       "      <td>NFYA</td>\n",
       "      <td>(Adrenal_Gland, Brain_Nucleus_accumbens_basal_...</td>\n",
       "      <td>40</td>\n",
       "      <td>[38.28994327673914]</td>\n",
       "    </tr>\n",
       "  </tbody>\n",
       "</table>\n",
       "</div>"
      ],
      "text/plain": [
       "                gene_name                                             tissue  \\\n",
       "gene_id                                                                        \n",
       "ENSG00000000419      DPM1  (Brain_Hypothalamus, Cells_Cultured_fibroblast...   \n",
       "ENSG00000000938       FGR  (Brain_Nucleus_accumbens_basal_ganglia, Liver,...   \n",
       "ENSG00000000971       CFH  (Brain_Cerebellar_Hemisphere, Brain_Cerebellum...   \n",
       "ENSG00000001084      GCLC  (Adrenal_Gland, Brain_Nucleus_accumbens_basal_...   \n",
       "ENSG00000001167      NFYA  (Adrenal_Gland, Brain_Nucleus_accumbens_basal_...   \n",
       "\n",
       "                 n_tissues                               tissues_pc_variances  \n",
       "gene_id                                                                        \n",
       "ENSG00000000419          3  [1.052540658399403, 1.024362410165966, 0.92309...  \n",
       "ENSG00000000938         36  [31.632669336371276, 2.078367751851144, 1.2716...  \n",
       "ENSG00000000971         34  [21.560769925683285, 7.3101709870454705, 1.837...  \n",
       "ENSG00000001084         33  [21.74736589643257, 4.70064578668365, 2.249949...  \n",
       "ENSG00000001167         40                                [38.28994327673914]  "
      ]
     },
     "execution_count": 101,
     "metadata": {},
     "output_type": "execute_result"
    }
   ],
   "source": [
    "spredixcan_genes_models.head()"
   ]
  },
  {
   "cell_type": "markdown",
   "id": "ef1c76d7-485b-4e8a-932e-fd01382d5520",
   "metadata": {
    "papermill": {
     "duration": 0.026883,
     "end_time": "2022-08-27T05:51:38.522996",
     "exception": false,
     "start_time": "2022-08-27T05:51:38.496113",
     "status": "completed"
    },
    "tags": []
   },
   "source": [
    "### Add gene variance per tissue"
   ]
  },
  {
   "cell_type": "code",
   "execution_count": 102,
   "id": "530f7941-6ad7-4a29-b9e4-a006949282e0",
   "metadata": {
    "execution": {
     "iopub.execute_input": "2022-08-27T05:51:38.582087Z",
     "iopub.status.busy": "2022-08-27T05:51:38.581817Z",
     "iopub.status.idle": "2022-08-27T05:51:38.600068Z",
     "shell.execute_reply": "2022-08-27T05:51:38.599458Z"
    },
    "papermill": {
     "duration": 0.051593,
     "end_time": "2022-08-27T05:51:38.601762",
     "exception": false,
     "start_time": "2022-08-27T05:51:38.550169",
     "status": "completed"
    },
    "tags": []
   },
   "outputs": [],
   "source": [
    "def _get_gene_variances(gene_row):\n",
    "    gene_id = gene_row.name\n",
    "    gene_tissues = gene_row[\"tissue\"]\n",
    "\n",
    "    tissue_variances = {}\n",
    "    gene_obj = spredixcan_gene_obj[gene_id]\n",
    "\n",
    "    for tissue in gene_tissues:\n",
    "        tissue_var = gene_obj.get_pred_expression_variance(\n",
    "            tissue=tissue,\n",
    "            reference_panel=REFERENCE_PANEL,\n",
    "            model_type=EQTL_MODEL,\n",
    "            snps_subset=gwas_variants_ids_set,\n",
    "        )\n",
    "\n",
    "        if tissue_var is not None:\n",
    "            tissue_variances[tissue] = tissue_var\n",
    "\n",
    "    return tissue_variances"
   ]
  },
  {
   "cell_type": "code",
   "execution_count": 103,
   "id": "01eb9e6a-4505-44e6-9e6e-9788e257f319",
   "metadata": {
    "execution": {
     "iopub.execute_input": "2022-08-27T05:51:38.660841Z",
     "iopub.status.busy": "2022-08-27T05:51:38.660569Z",
     "iopub.status.idle": "2022-08-27T05:51:38.987640Z",
     "shell.execute_reply": "2022-08-27T05:51:38.987061Z"
    },
    "papermill": {
     "duration": 0.359236,
     "end_time": "2022-08-27T05:51:38.989333",
     "exception": false,
     "start_time": "2022-08-27T05:51:38.630097",
     "status": "completed"
    },
    "tags": []
   },
   "outputs": [
    {
     "data": {
      "text/plain": [
       "{'Brain_Hypothalamus': 0.013162153504206677,\n",
       " 'Cells_Cultured_fibroblasts': 0.0030618005265686445,\n",
       " 'Brain_Substantia_nigra': 0.0004867380334260178}"
      ]
     },
     "execution_count": 103,
     "metadata": {},
     "output_type": "execute_result"
    }
   ],
   "source": [
    "_tmp = spredixcan_genes_models.loc[\"ENSG00000000419\"]\n",
    "_get_gene_variances(_tmp)"
   ]
  },
  {
   "cell_type": "code",
   "execution_count": 104,
   "id": "447061ec-4847-4911-a1d6-8b86d15e4aac",
   "metadata": {
    "execution": {
     "iopub.execute_input": "2022-08-27T05:51:39.047913Z",
     "iopub.status.busy": "2022-08-27T05:51:39.047640Z",
     "iopub.status.idle": "2022-08-27T06:54:20.361747Z",
     "shell.execute_reply": "2022-08-27T06:54:20.360924Z"
    },
    "papermill": {
     "duration": 3761.34566,
     "end_time": "2022-08-27T06:54:20.363888",
     "exception": false,
     "start_time": "2022-08-27T05:51:39.018228",
     "status": "completed"
    },
    "tags": []
   },
   "outputs": [],
   "source": [
    "spredixcan_genes_tissues_variance = spredixcan_genes_models.apply(\n",
    "    _get_gene_variances, axis=1\n",
    ")"
   ]
  },
  {
   "cell_type": "code",
   "execution_count": 105,
   "id": "816cbdd2-d667-4eaa-bbf7-335550854ee8",
   "metadata": {
    "execution": {
     "iopub.execute_input": "2022-08-27T06:54:20.422284Z",
     "iopub.status.busy": "2022-08-27T06:54:20.421993Z",
     "iopub.status.idle": "2022-08-27T06:54:20.449787Z",
     "shell.execute_reply": "2022-08-27T06:54:20.449231Z"
    },
    "papermill": {
     "duration": 0.058,
     "end_time": "2022-08-27T06:54:20.451436",
     "exception": false,
     "start_time": "2022-08-27T06:54:20.393436",
     "status": "completed"
    },
    "tags": []
   },
   "outputs": [
    {
     "data": {
      "text/plain": [
       "gene_id\n",
       "ENSG00000000419    {'Brain_Hypothalamus': 0.013162153504206677, '...\n",
       "ENSG00000000938    {'Brain_Nucleus_accumbens_basal_ganglia': 0.00...\n",
       "ENSG00000000971    {'Brain_Cerebellar_Hemisphere': 0.004684718231...\n",
       "ENSG00000001084    {'Adrenal_Gland': 0.06137290979890946, 'Brain_...\n",
       "ENSG00000001167    {'Adrenal_Gland': 0.02899058013527157, 'Brain_...\n",
       "                                         ...                        \n",
       "ENSG00000278540    {'Brain_Nucleus_accumbens_basal_ganglia': 0.00...\n",
       "ENSG00000278828    {'Adipose_Visceral_Omentum': 0.000128291681544...\n",
       "ENSG00000278845    {'Adrenal_Gland': 0.010716456192195224, 'Brain...\n",
       "ENSG00000281005    {'Adrenal_Gland': 0.07845587015162056, 'Brain_...\n",
       "ENSG00000282608    {'Adrenal_Gland': 0.004261017756140718, 'Brain...\n",
       "Length: 6450, dtype: object"
      ]
     },
     "execution_count": 105,
     "metadata": {},
     "output_type": "execute_result"
    }
   ],
   "source": [
    "spredixcan_genes_tissues_variance"
   ]
  },
  {
   "cell_type": "code",
   "execution_count": 106,
   "id": "68c65eb6-15c0-494d-992f-93bc84268a59",
   "metadata": {
    "execution": {
     "iopub.execute_input": "2022-08-27T06:54:20.508600Z",
     "iopub.status.busy": "2022-08-27T06:54:20.508336Z",
     "iopub.status.idle": "2022-08-27T06:54:20.525346Z",
     "shell.execute_reply": "2022-08-27T06:54:20.524794Z"
    },
    "papermill": {
     "duration": 0.047309,
     "end_time": "2022-08-27T06:54:20.527063",
     "exception": false,
     "start_time": "2022-08-27T06:54:20.479754",
     "status": "completed"
    },
    "tags": []
   },
   "outputs": [],
   "source": [
    "# # testing\n",
    "# _gene_id = \"ENSG00000188976\"\n",
    "# x = spredixcan_genes_tissues_variance.loc[_gene_id]\n",
    "# # expected value obtained by sum of PCA eigenvalues on this gene's predicted expression\n",
    "# assert np.sum(list(x.values())) == pytest.approx(1.2326202607409493)"
   ]
  },
  {
   "cell_type": "code",
   "execution_count": 107,
   "id": "1996453a-fdfc-44e9-bbdf-b83e3b3b1aee",
   "metadata": {
    "execution": {
     "iopub.execute_input": "2022-08-27T06:54:20.585338Z",
     "iopub.status.busy": "2022-08-27T06:54:20.585077Z",
     "iopub.status.idle": "2022-08-27T06:54:20.604041Z",
     "shell.execute_reply": "2022-08-27T06:54:20.603455Z"
    },
    "papermill": {
     "duration": 0.049445,
     "end_time": "2022-08-27T06:54:20.605604",
     "exception": false,
     "start_time": "2022-08-27T06:54:20.556159",
     "status": "completed"
    },
    "tags": []
   },
   "outputs": [
    {
     "data": {
      "text/plain": [
       "{'Brain_Hypothalamus': 0.013162153504206677,\n",
       " 'Cells_Cultured_fibroblasts': 0.0030618005265686445,\n",
       " 'Brain_Substantia_nigra': 0.0004867380334260178}"
      ]
     },
     "execution_count": 107,
     "metadata": {},
     "output_type": "execute_result"
    }
   ],
   "source": [
    "# testing\n",
    "spredixcan_genes_tissues_variance.loc[\"ENSG00000000419\"]"
   ]
  },
  {
   "cell_type": "code",
   "execution_count": 108,
   "id": "62572b31-7e49-4ed0-ac1b-42552f3e264f",
   "metadata": {
    "execution": {
     "iopub.execute_input": "2022-08-27T06:54:20.663415Z",
     "iopub.status.busy": "2022-08-27T06:54:20.663129Z",
     "iopub.status.idle": "2022-08-27T06:54:20.680192Z",
     "shell.execute_reply": "2022-08-27T06:54:20.679621Z"
    },
    "papermill": {
     "duration": 0.047939,
     "end_time": "2022-08-27T06:54:20.681908",
     "exception": false,
     "start_time": "2022-08-27T06:54:20.633969",
     "status": "completed"
    },
    "tags": []
   },
   "outputs": [],
   "source": [
    "# FIXME: maybe add more tests, these differt from GTEX V8\n",
    "# # testing\n",
    "# # here values were obtained from S-PrediXcan results, where the reference panel is GTEX V8, not 1000G, so just approximations)\n",
    "# _gene_id = \"ENSG00000000419\"\n",
    "# assert spredixcan_genes_tissues_variance.loc[_gene_id][\"Brain_Substantia_nigra\"] == pytest.approx(0.0004266255268163448)\n",
    "# assert spredixcan_genes_tissues_variance.loc[_gene_id][\"Brain_Hypothalamus\"] == pytest.approx(0.011235877515236132)"
   ]
  },
  {
   "cell_type": "code",
   "execution_count": 109,
   "id": "88e42a97-801b-43a4-a829-4eaac03360b8",
   "metadata": {
    "execution": {
     "iopub.execute_input": "2022-08-27T06:54:20.740317Z",
     "iopub.status.busy": "2022-08-27T06:54:20.740042Z",
     "iopub.status.idle": "2022-08-27T06:54:20.759399Z",
     "shell.execute_reply": "2022-08-27T06:54:20.758807Z"
    },
    "papermill": {
     "duration": 0.050545,
     "end_time": "2022-08-27T06:54:20.761118",
     "exception": false,
     "start_time": "2022-08-27T06:54:20.710573",
     "status": "completed"
    },
    "tags": []
   },
   "outputs": [],
   "source": [
    "# add to spredixcan_genes_models\n",
    "spredixcan_genes_models = spredixcan_genes_models.join(\n",
    "    spredixcan_genes_tissues_variance.rename(\"tissues_variances\")\n",
    ")"
   ]
  },
  {
   "cell_type": "code",
   "execution_count": 110,
   "id": "cb177ca4-fdcb-432f-a102-9c6bd6bd7fa0",
   "metadata": {
    "execution": {
     "iopub.execute_input": "2022-08-27T06:54:20.818807Z",
     "iopub.status.busy": "2022-08-27T06:54:20.818537Z",
     "iopub.status.idle": "2022-08-27T06:54:20.837350Z",
     "shell.execute_reply": "2022-08-27T06:54:20.836812Z"
    },
    "papermill": {
     "duration": 0.049064,
     "end_time": "2022-08-27T06:54:20.838958",
     "exception": false,
     "start_time": "2022-08-27T06:54:20.789894",
     "status": "completed"
    },
    "tags": []
   },
   "outputs": [
    {
     "data": {
      "text/plain": [
       "(6450, 5)"
      ]
     },
     "execution_count": 110,
     "metadata": {},
     "output_type": "execute_result"
    }
   ],
   "source": [
    "spredixcan_genes_models.shape"
   ]
  },
  {
   "cell_type": "code",
   "execution_count": 111,
   "id": "ccabe1fa-20ae-4893-bf12-9a3359b213b8",
   "metadata": {
    "execution": {
     "iopub.execute_input": "2022-08-27T06:54:20.897503Z",
     "iopub.status.busy": "2022-08-27T06:54:20.897245Z",
     "iopub.status.idle": "2022-08-27T06:54:20.927397Z",
     "shell.execute_reply": "2022-08-27T06:54:20.926846Z"
    },
    "papermill": {
     "duration": 0.061872,
     "end_time": "2022-08-27T06:54:20.928986",
     "exception": false,
     "start_time": "2022-08-27T06:54:20.867114",
     "status": "completed"
    },
    "tags": []
   },
   "outputs": [
    {
     "data": {
      "text/html": [
       "<div>\n",
       "<style scoped>\n",
       "    .dataframe tbody tr th:only-of-type {\n",
       "        vertical-align: middle;\n",
       "    }\n",
       "\n",
       "    .dataframe tbody tr th {\n",
       "        vertical-align: top;\n",
       "    }\n",
       "\n",
       "    .dataframe thead th {\n",
       "        text-align: right;\n",
       "    }\n",
       "</style>\n",
       "<table border=\"1\" class=\"dataframe\">\n",
       "  <thead>\n",
       "    <tr style=\"text-align: right;\">\n",
       "      <th></th>\n",
       "      <th>gene_name</th>\n",
       "      <th>tissue</th>\n",
       "      <th>n_tissues</th>\n",
       "      <th>tissues_pc_variances</th>\n",
       "      <th>tissues_variances</th>\n",
       "    </tr>\n",
       "    <tr>\n",
       "      <th>gene_id</th>\n",
       "      <th></th>\n",
       "      <th></th>\n",
       "      <th></th>\n",
       "      <th></th>\n",
       "      <th></th>\n",
       "    </tr>\n",
       "  </thead>\n",
       "  <tbody>\n",
       "    <tr>\n",
       "      <th>ENSG00000000419</th>\n",
       "      <td>DPM1</td>\n",
       "      <td>(Brain_Hypothalamus, Cells_Cultured_fibroblast...</td>\n",
       "      <td>3</td>\n",
       "      <td>[1.052540658399403, 1.024362410165966, 0.92309...</td>\n",
       "      <td>{'Brain_Hypothalamus': 0.013162153504206677, '...</td>\n",
       "    </tr>\n",
       "    <tr>\n",
       "      <th>ENSG00000000938</th>\n",
       "      <td>FGR</td>\n",
       "      <td>(Brain_Nucleus_accumbens_basal_ganglia, Liver,...</td>\n",
       "      <td>36</td>\n",
       "      <td>[31.632669336371276, 2.078367751851144, 1.2716...</td>\n",
       "      <td>{'Brain_Nucleus_accumbens_basal_ganglia': 0.00...</td>\n",
       "    </tr>\n",
       "    <tr>\n",
       "      <th>ENSG00000000971</th>\n",
       "      <td>CFH</td>\n",
       "      <td>(Brain_Cerebellar_Hemisphere, Brain_Cerebellum...</td>\n",
       "      <td>34</td>\n",
       "      <td>[21.560769925683285, 7.3101709870454705, 1.837...</td>\n",
       "      <td>{'Brain_Cerebellar_Hemisphere': 0.004684718231...</td>\n",
       "    </tr>\n",
       "    <tr>\n",
       "      <th>ENSG00000001084</th>\n",
       "      <td>GCLC</td>\n",
       "      <td>(Adrenal_Gland, Brain_Nucleus_accumbens_basal_...</td>\n",
       "      <td>33</td>\n",
       "      <td>[21.74736589643257, 4.70064578668365, 2.249949...</td>\n",
       "      <td>{'Adrenal_Gland': 0.06137290979890946, 'Brain_...</td>\n",
       "    </tr>\n",
       "    <tr>\n",
       "      <th>ENSG00000001167</th>\n",
       "      <td>NFYA</td>\n",
       "      <td>(Adrenal_Gland, Brain_Nucleus_accumbens_basal_...</td>\n",
       "      <td>40</td>\n",
       "      <td>[38.28994327673914]</td>\n",
       "      <td>{'Adrenal_Gland': 0.02899058013527157, 'Brain_...</td>\n",
       "    </tr>\n",
       "  </tbody>\n",
       "</table>\n",
       "</div>"
      ],
      "text/plain": [
       "                gene_name                                             tissue  \\\n",
       "gene_id                                                                        \n",
       "ENSG00000000419      DPM1  (Brain_Hypothalamus, Cells_Cultured_fibroblast...   \n",
       "ENSG00000000938       FGR  (Brain_Nucleus_accumbens_basal_ganglia, Liver,...   \n",
       "ENSG00000000971       CFH  (Brain_Cerebellar_Hemisphere, Brain_Cerebellum...   \n",
       "ENSG00000001084      GCLC  (Adrenal_Gland, Brain_Nucleus_accumbens_basal_...   \n",
       "ENSG00000001167      NFYA  (Adrenal_Gland, Brain_Nucleus_accumbens_basal_...   \n",
       "\n",
       "                 n_tissues                               tissues_pc_variances  \\\n",
       "gene_id                                                                         \n",
       "ENSG00000000419          3  [1.052540658399403, 1.024362410165966, 0.92309...   \n",
       "ENSG00000000938         36  [31.632669336371276, 2.078367751851144, 1.2716...   \n",
       "ENSG00000000971         34  [21.560769925683285, 7.3101709870454705, 1.837...   \n",
       "ENSG00000001084         33  [21.74736589643257, 4.70064578668365, 2.249949...   \n",
       "ENSG00000001167         40                                [38.28994327673914]   \n",
       "\n",
       "                                                 tissues_variances  \n",
       "gene_id                                                             \n",
       "ENSG00000000419  {'Brain_Hypothalamus': 0.013162153504206677, '...  \n",
       "ENSG00000000938  {'Brain_Nucleus_accumbens_basal_ganglia': 0.00...  \n",
       "ENSG00000000971  {'Brain_Cerebellar_Hemisphere': 0.004684718231...  \n",
       "ENSG00000001084  {'Adrenal_Gland': 0.06137290979890946, 'Brain_...  \n",
       "ENSG00000001167  {'Adrenal_Gland': 0.02899058013527157, 'Brain_...  "
      ]
     },
     "execution_count": 111,
     "metadata": {},
     "output_type": "execute_result"
    }
   ],
   "source": [
    "spredixcan_genes_models.head()"
   ]
  },
  {
   "cell_type": "markdown",
   "id": "ab6ff41a-0949-4eea-abef-7dc4f0b373fc",
   "metadata": {
    "papermill": {
     "duration": 0.028703,
     "end_time": "2022-08-27T06:54:20.986634",
     "exception": false,
     "start_time": "2022-08-27T06:54:20.957931",
     "status": "completed"
    },
    "tags": []
   },
   "source": [
    "### Count number of SNPs predictors used across tissue models"
   ]
  },
  {
   "cell_type": "code",
   "execution_count": 112,
   "id": "c8f6cc6f-5812-45c9-b775-6f2193f8a360",
   "metadata": {
    "execution": {
     "iopub.execute_input": "2022-08-27T06:54:21.044310Z",
     "iopub.status.busy": "2022-08-27T06:54:21.044009Z",
     "iopub.status.idle": "2022-08-27T06:54:21.097300Z",
     "shell.execute_reply": "2022-08-27T06:54:21.096693Z"
    },
    "papermill": {
     "duration": 0.084544,
     "end_time": "2022-08-27T06:54:21.099256",
     "exception": false,
     "start_time": "2022-08-27T06:54:21.014712",
     "status": "completed"
    },
    "tags": []
   },
   "outputs": [],
   "source": [
    "spredixcan_genes_sum_of_n_snps_used = (\n",
    "    spredixcan_dfs.groupby(\"gene_id\")[\"n_snps_used\"].sum().rename(\"n_snps_used_sum\")\n",
    ")"
   ]
  },
  {
   "cell_type": "code",
   "execution_count": 113,
   "id": "7255df64-7b9f-4504-a4fa-1f2a9aa56ec0",
   "metadata": {
    "execution": {
     "iopub.execute_input": "2022-08-27T06:54:21.157429Z",
     "iopub.status.busy": "2022-08-27T06:54:21.157170Z",
     "iopub.status.idle": "2022-08-27T06:54:21.177711Z",
     "shell.execute_reply": "2022-08-27T06:54:21.177152Z"
    },
    "papermill": {
     "duration": 0.051262,
     "end_time": "2022-08-27T06:54:21.179248",
     "exception": false,
     "start_time": "2022-08-27T06:54:21.127986",
     "status": "completed"
    },
    "tags": []
   },
   "outputs": [
    {
     "data": {
      "text/plain": [
       "gene_id\n",
       "ENSG00000000419     3\n",
       "ENSG00000000938    40\n",
       "ENSG00000000971    44\n",
       "ENSG00000001084    47\n",
       "ENSG00000001167    48\n",
       "                   ..\n",
       "ENSG00000278540    44\n",
       "ENSG00000278828     5\n",
       "ENSG00000278845    91\n",
       "ENSG00000281005    81\n",
       "ENSG00000282608    40\n",
       "Name: n_snps_used_sum, Length: 6450, dtype: int64"
      ]
     },
     "execution_count": 113,
     "metadata": {},
     "output_type": "execute_result"
    }
   ],
   "source": [
    "spredixcan_genes_sum_of_n_snps_used"
   ]
  },
  {
   "cell_type": "code",
   "execution_count": 114,
   "id": "44bc1222-b334-4ce2-8997-494d0e584cf9",
   "metadata": {
    "execution": {
     "iopub.execute_input": "2022-08-27T06:54:21.237630Z",
     "iopub.status.busy": "2022-08-27T06:54:21.237368Z",
     "iopub.status.idle": "2022-08-27T06:54:21.256716Z",
     "shell.execute_reply": "2022-08-27T06:54:21.256154Z"
    },
    "papermill": {
     "duration": 0.050412,
     "end_time": "2022-08-27T06:54:21.258379",
     "exception": false,
     "start_time": "2022-08-27T06:54:21.207967",
     "status": "completed"
    },
    "tags": []
   },
   "outputs": [],
   "source": [
    "# add sum of snps used to spredixcan_genes_models\n",
    "spredixcan_genes_models = spredixcan_genes_models.join(\n",
    "    spredixcan_genes_sum_of_n_snps_used\n",
    ")"
   ]
  },
  {
   "cell_type": "code",
   "execution_count": 115,
   "id": "5e5e6d7f-b970-4f21-9322-b76bc22afd71",
   "metadata": {
    "execution": {
     "iopub.execute_input": "2022-08-27T06:54:21.316597Z",
     "iopub.status.busy": "2022-08-27T06:54:21.316337Z",
     "iopub.status.idle": "2022-08-27T06:54:21.334716Z",
     "shell.execute_reply": "2022-08-27T06:54:21.334182Z"
    },
    "papermill": {
     "duration": 0.048911,
     "end_time": "2022-08-27T06:54:21.336280",
     "exception": false,
     "start_time": "2022-08-27T06:54:21.287369",
     "status": "completed"
    },
    "tags": []
   },
   "outputs": [
    {
     "data": {
      "text/plain": [
       "(6450, 6)"
      ]
     },
     "execution_count": 115,
     "metadata": {},
     "output_type": "execute_result"
    }
   ],
   "source": [
    "spredixcan_genes_models.shape"
   ]
  },
  {
   "cell_type": "code",
   "execution_count": 116,
   "id": "22c096c2-213a-4001-8454-1633997d404f",
   "metadata": {
    "execution": {
     "iopub.execute_input": "2022-08-27T06:54:21.395812Z",
     "iopub.status.busy": "2022-08-27T06:54:21.395528Z",
     "iopub.status.idle": "2022-08-27T06:54:21.426431Z",
     "shell.execute_reply": "2022-08-27T06:54:21.425880Z"
    },
    "papermill": {
     "duration": 0.06246,
     "end_time": "2022-08-27T06:54:21.428073",
     "exception": false,
     "start_time": "2022-08-27T06:54:21.365613",
     "status": "completed"
    },
    "tags": []
   },
   "outputs": [
    {
     "data": {
      "text/html": [
       "<div>\n",
       "<style scoped>\n",
       "    .dataframe tbody tr th:only-of-type {\n",
       "        vertical-align: middle;\n",
       "    }\n",
       "\n",
       "    .dataframe tbody tr th {\n",
       "        vertical-align: top;\n",
       "    }\n",
       "\n",
       "    .dataframe thead th {\n",
       "        text-align: right;\n",
       "    }\n",
       "</style>\n",
       "<table border=\"1\" class=\"dataframe\">\n",
       "  <thead>\n",
       "    <tr style=\"text-align: right;\">\n",
       "      <th></th>\n",
       "      <th>gene_name</th>\n",
       "      <th>tissue</th>\n",
       "      <th>n_tissues</th>\n",
       "      <th>tissues_pc_variances</th>\n",
       "      <th>tissues_variances</th>\n",
       "      <th>n_snps_used_sum</th>\n",
       "    </tr>\n",
       "    <tr>\n",
       "      <th>gene_id</th>\n",
       "      <th></th>\n",
       "      <th></th>\n",
       "      <th></th>\n",
       "      <th></th>\n",
       "      <th></th>\n",
       "      <th></th>\n",
       "    </tr>\n",
       "  </thead>\n",
       "  <tbody>\n",
       "    <tr>\n",
       "      <th>ENSG00000000419</th>\n",
       "      <td>DPM1</td>\n",
       "      <td>(Brain_Hypothalamus, Cells_Cultured_fibroblast...</td>\n",
       "      <td>3</td>\n",
       "      <td>[1.052540658399403, 1.024362410165966, 0.92309...</td>\n",
       "      <td>{'Brain_Hypothalamus': 0.013162153504206677, '...</td>\n",
       "      <td>3</td>\n",
       "    </tr>\n",
       "    <tr>\n",
       "      <th>ENSG00000000938</th>\n",
       "      <td>FGR</td>\n",
       "      <td>(Brain_Nucleus_accumbens_basal_ganglia, Liver,...</td>\n",
       "      <td>36</td>\n",
       "      <td>[31.632669336371276, 2.078367751851144, 1.2716...</td>\n",
       "      <td>{'Brain_Nucleus_accumbens_basal_ganglia': 0.00...</td>\n",
       "      <td>40</td>\n",
       "    </tr>\n",
       "    <tr>\n",
       "      <th>ENSG00000000971</th>\n",
       "      <td>CFH</td>\n",
       "      <td>(Brain_Cerebellar_Hemisphere, Brain_Cerebellum...</td>\n",
       "      <td>34</td>\n",
       "      <td>[21.560769925683285, 7.3101709870454705, 1.837...</td>\n",
       "      <td>{'Brain_Cerebellar_Hemisphere': 0.004684718231...</td>\n",
       "      <td>44</td>\n",
       "    </tr>\n",
       "    <tr>\n",
       "      <th>ENSG00000001084</th>\n",
       "      <td>GCLC</td>\n",
       "      <td>(Adrenal_Gland, Brain_Nucleus_accumbens_basal_...</td>\n",
       "      <td>33</td>\n",
       "      <td>[21.74736589643257, 4.70064578668365, 2.249949...</td>\n",
       "      <td>{'Adrenal_Gland': 0.06137290979890946, 'Brain_...</td>\n",
       "      <td>47</td>\n",
       "    </tr>\n",
       "    <tr>\n",
       "      <th>ENSG00000001167</th>\n",
       "      <td>NFYA</td>\n",
       "      <td>(Adrenal_Gland, Brain_Nucleus_accumbens_basal_...</td>\n",
       "      <td>40</td>\n",
       "      <td>[38.28994327673914]</td>\n",
       "      <td>{'Adrenal_Gland': 0.02899058013527157, 'Brain_...</td>\n",
       "      <td>48</td>\n",
       "    </tr>\n",
       "  </tbody>\n",
       "</table>\n",
       "</div>"
      ],
      "text/plain": [
       "                gene_name                                             tissue  \\\n",
       "gene_id                                                                        \n",
       "ENSG00000000419      DPM1  (Brain_Hypothalamus, Cells_Cultured_fibroblast...   \n",
       "ENSG00000000938       FGR  (Brain_Nucleus_accumbens_basal_ganglia, Liver,...   \n",
       "ENSG00000000971       CFH  (Brain_Cerebellar_Hemisphere, Brain_Cerebellum...   \n",
       "ENSG00000001084      GCLC  (Adrenal_Gland, Brain_Nucleus_accumbens_basal_...   \n",
       "ENSG00000001167      NFYA  (Adrenal_Gland, Brain_Nucleus_accumbens_basal_...   \n",
       "\n",
       "                 n_tissues                               tissues_pc_variances  \\\n",
       "gene_id                                                                         \n",
       "ENSG00000000419          3  [1.052540658399403, 1.024362410165966, 0.92309...   \n",
       "ENSG00000000938         36  [31.632669336371276, 2.078367751851144, 1.2716...   \n",
       "ENSG00000000971         34  [21.560769925683285, 7.3101709870454705, 1.837...   \n",
       "ENSG00000001084         33  [21.74736589643257, 4.70064578668365, 2.249949...   \n",
       "ENSG00000001167         40                                [38.28994327673914]   \n",
       "\n",
       "                                                 tissues_variances  \\\n",
       "gene_id                                                              \n",
       "ENSG00000000419  {'Brain_Hypothalamus': 0.013162153504206677, '...   \n",
       "ENSG00000000938  {'Brain_Nucleus_accumbens_basal_ganglia': 0.00...   \n",
       "ENSG00000000971  {'Brain_Cerebellar_Hemisphere': 0.004684718231...   \n",
       "ENSG00000001084  {'Adrenal_Gland': 0.06137290979890946, 'Brain_...   \n",
       "ENSG00000001167  {'Adrenal_Gland': 0.02899058013527157, 'Brain_...   \n",
       "\n",
       "                 n_snps_used_sum  \n",
       "gene_id                           \n",
       "ENSG00000000419                3  \n",
       "ENSG00000000938               40  \n",
       "ENSG00000000971               44  \n",
       "ENSG00000001084               47  \n",
       "ENSG00000001167               48  "
      ]
     },
     "execution_count": 116,
     "metadata": {},
     "output_type": "execute_result"
    }
   ],
   "source": [
    "spredixcan_genes_models.head()"
   ]
  },
  {
   "cell_type": "markdown",
   "id": "f4692315-d7be-465e-b756-f6d76fec949e",
   "metadata": {
    "papermill": {
     "duration": 0.028999,
     "end_time": "2022-08-27T06:54:21.486843",
     "exception": false,
     "start_time": "2022-08-27T06:54:21.457844",
     "status": "completed"
    },
    "tags": []
   },
   "source": [
    "### Count number of SNPs predictors in models across tissue models"
   ]
  },
  {
   "cell_type": "code",
   "execution_count": 117,
   "id": "08eed385-36eb-4e42-b28e-51333f9cfcd3",
   "metadata": {
    "execution": {
     "iopub.execute_input": "2022-08-27T06:54:21.547002Z",
     "iopub.status.busy": "2022-08-27T06:54:21.546718Z",
     "iopub.status.idle": "2022-08-27T06:54:21.599449Z",
     "shell.execute_reply": "2022-08-27T06:54:21.598818Z"
    },
    "papermill": {
     "duration": 0.085081,
     "end_time": "2022-08-27T06:54:21.601417",
     "exception": false,
     "start_time": "2022-08-27T06:54:21.516336",
     "status": "completed"
    },
    "tags": []
   },
   "outputs": [],
   "source": [
    "spredixcan_genes_sum_of_n_snps_in_model = (\n",
    "    spredixcan_dfs.groupby(\"gene_id\")[\"n_snps_in_model\"]\n",
    "    .sum()\n",
    "    .rename(\"n_snps_in_model_sum\")\n",
    ")"
   ]
  },
  {
   "cell_type": "code",
   "execution_count": 118,
   "id": "10431f5c-1f56-4664-a09f-53c608bec631",
   "metadata": {
    "execution": {
     "iopub.execute_input": "2022-08-27T06:54:21.662361Z",
     "iopub.status.busy": "2022-08-27T06:54:21.662082Z",
     "iopub.status.idle": "2022-08-27T06:54:21.682820Z",
     "shell.execute_reply": "2022-08-27T06:54:21.682275Z"
    },
    "papermill": {
     "duration": 0.053073,
     "end_time": "2022-08-27T06:54:21.684428",
     "exception": false,
     "start_time": "2022-08-27T06:54:21.631355",
     "status": "completed"
    },
    "tags": []
   },
   "outputs": [
    {
     "data": {
      "text/plain": [
       "gene_id\n",
       "ENSG00000000419     3\n",
       "ENSG00000000938    40\n",
       "ENSG00000000971    44\n",
       "ENSG00000001084    47\n",
       "ENSG00000001167    48\n",
       "                   ..\n",
       "ENSG00000278540    44\n",
       "ENSG00000278828     5\n",
       "ENSG00000278845    91\n",
       "ENSG00000281005    81\n",
       "ENSG00000282608    40\n",
       "Name: n_snps_in_model_sum, Length: 6450, dtype: int64"
      ]
     },
     "execution_count": 118,
     "metadata": {},
     "output_type": "execute_result"
    }
   ],
   "source": [
    "spredixcan_genes_sum_of_n_snps_in_model"
   ]
  },
  {
   "cell_type": "code",
   "execution_count": 119,
   "id": "d13e1d65-0dcb-4a94-aba8-bcdcd09d17c3",
   "metadata": {
    "execution": {
     "iopub.execute_input": "2022-08-27T06:54:21.744089Z",
     "iopub.status.busy": "2022-08-27T06:54:21.743812Z",
     "iopub.status.idle": "2022-08-27T06:54:21.763183Z",
     "shell.execute_reply": "2022-08-27T06:54:21.762617Z"
    },
    "papermill": {
     "duration": 0.050955,
     "end_time": "2022-08-27T06:54:21.764922",
     "exception": false,
     "start_time": "2022-08-27T06:54:21.713967",
     "status": "completed"
    },
    "tags": []
   },
   "outputs": [],
   "source": [
    "# add sum of snps in model to spredixcan_genes_models\n",
    "spredixcan_genes_models = spredixcan_genes_models.join(\n",
    "    spredixcan_genes_sum_of_n_snps_in_model\n",
    ")"
   ]
  },
  {
   "cell_type": "code",
   "execution_count": 120,
   "id": "0d3973d8-5da2-4c9d-b406-2525f615035c",
   "metadata": {
    "execution": {
     "iopub.execute_input": "2022-08-27T06:54:21.824774Z",
     "iopub.status.busy": "2022-08-27T06:54:21.824502Z",
     "iopub.status.idle": "2022-08-27T06:54:21.843446Z",
     "shell.execute_reply": "2022-08-27T06:54:21.842872Z"
    },
    "papermill": {
     "duration": 0.05002,
     "end_time": "2022-08-27T06:54:21.845022",
     "exception": false,
     "start_time": "2022-08-27T06:54:21.795002",
     "status": "completed"
    },
    "tags": []
   },
   "outputs": [
    {
     "data": {
      "text/plain": [
       "(6450, 7)"
      ]
     },
     "execution_count": 120,
     "metadata": {},
     "output_type": "execute_result"
    }
   ],
   "source": [
    "spredixcan_genes_models.shape"
   ]
  },
  {
   "cell_type": "code",
   "execution_count": 121,
   "id": "76c27f05-c5c6-4ed9-9363-fcba871a3572",
   "metadata": {
    "execution": {
     "iopub.execute_input": "2022-08-27T06:54:21.906519Z",
     "iopub.status.busy": "2022-08-27T06:54:21.906257Z",
     "iopub.status.idle": "2022-08-27T06:54:21.937200Z",
     "shell.execute_reply": "2022-08-27T06:54:21.936644Z"
    },
    "papermill": {
     "duration": 0.063204,
     "end_time": "2022-08-27T06:54:21.938801",
     "exception": false,
     "start_time": "2022-08-27T06:54:21.875597",
     "status": "completed"
    },
    "tags": []
   },
   "outputs": [
    {
     "data": {
      "text/html": [
       "<div>\n",
       "<style scoped>\n",
       "    .dataframe tbody tr th:only-of-type {\n",
       "        vertical-align: middle;\n",
       "    }\n",
       "\n",
       "    .dataframe tbody tr th {\n",
       "        vertical-align: top;\n",
       "    }\n",
       "\n",
       "    .dataframe thead th {\n",
       "        text-align: right;\n",
       "    }\n",
       "</style>\n",
       "<table border=\"1\" class=\"dataframe\">\n",
       "  <thead>\n",
       "    <tr style=\"text-align: right;\">\n",
       "      <th></th>\n",
       "      <th>gene_name</th>\n",
       "      <th>tissue</th>\n",
       "      <th>n_tissues</th>\n",
       "      <th>tissues_pc_variances</th>\n",
       "      <th>tissues_variances</th>\n",
       "      <th>n_snps_used_sum</th>\n",
       "      <th>n_snps_in_model_sum</th>\n",
       "    </tr>\n",
       "    <tr>\n",
       "      <th>gene_id</th>\n",
       "      <th></th>\n",
       "      <th></th>\n",
       "      <th></th>\n",
       "      <th></th>\n",
       "      <th></th>\n",
       "      <th></th>\n",
       "      <th></th>\n",
       "    </tr>\n",
       "  </thead>\n",
       "  <tbody>\n",
       "    <tr>\n",
       "      <th>ENSG00000000419</th>\n",
       "      <td>DPM1</td>\n",
       "      <td>(Brain_Hypothalamus, Cells_Cultured_fibroblast...</td>\n",
       "      <td>3</td>\n",
       "      <td>[1.052540658399403, 1.024362410165966, 0.92309...</td>\n",
       "      <td>{'Brain_Hypothalamus': 0.013162153504206677, '...</td>\n",
       "      <td>3</td>\n",
       "      <td>3</td>\n",
       "    </tr>\n",
       "    <tr>\n",
       "      <th>ENSG00000000938</th>\n",
       "      <td>FGR</td>\n",
       "      <td>(Brain_Nucleus_accumbens_basal_ganglia, Liver,...</td>\n",
       "      <td>36</td>\n",
       "      <td>[31.632669336371276, 2.078367751851144, 1.2716...</td>\n",
       "      <td>{'Brain_Nucleus_accumbens_basal_ganglia': 0.00...</td>\n",
       "      <td>40</td>\n",
       "      <td>40</td>\n",
       "    </tr>\n",
       "    <tr>\n",
       "      <th>ENSG00000000971</th>\n",
       "      <td>CFH</td>\n",
       "      <td>(Brain_Cerebellar_Hemisphere, Brain_Cerebellum...</td>\n",
       "      <td>34</td>\n",
       "      <td>[21.560769925683285, 7.3101709870454705, 1.837...</td>\n",
       "      <td>{'Brain_Cerebellar_Hemisphere': 0.004684718231...</td>\n",
       "      <td>44</td>\n",
       "      <td>44</td>\n",
       "    </tr>\n",
       "    <tr>\n",
       "      <th>ENSG00000001084</th>\n",
       "      <td>GCLC</td>\n",
       "      <td>(Adrenal_Gland, Brain_Nucleus_accumbens_basal_...</td>\n",
       "      <td>33</td>\n",
       "      <td>[21.74736589643257, 4.70064578668365, 2.249949...</td>\n",
       "      <td>{'Adrenal_Gland': 0.06137290979890946, 'Brain_...</td>\n",
       "      <td>47</td>\n",
       "      <td>47</td>\n",
       "    </tr>\n",
       "    <tr>\n",
       "      <th>ENSG00000001167</th>\n",
       "      <td>NFYA</td>\n",
       "      <td>(Adrenal_Gland, Brain_Nucleus_accumbens_basal_...</td>\n",
       "      <td>40</td>\n",
       "      <td>[38.28994327673914]</td>\n",
       "      <td>{'Adrenal_Gland': 0.02899058013527157, 'Brain_...</td>\n",
       "      <td>48</td>\n",
       "      <td>48</td>\n",
       "    </tr>\n",
       "  </tbody>\n",
       "</table>\n",
       "</div>"
      ],
      "text/plain": [
       "                gene_name                                             tissue  \\\n",
       "gene_id                                                                        \n",
       "ENSG00000000419      DPM1  (Brain_Hypothalamus, Cells_Cultured_fibroblast...   \n",
       "ENSG00000000938       FGR  (Brain_Nucleus_accumbens_basal_ganglia, Liver,...   \n",
       "ENSG00000000971       CFH  (Brain_Cerebellar_Hemisphere, Brain_Cerebellum...   \n",
       "ENSG00000001084      GCLC  (Adrenal_Gland, Brain_Nucleus_accumbens_basal_...   \n",
       "ENSG00000001167      NFYA  (Adrenal_Gland, Brain_Nucleus_accumbens_basal_...   \n",
       "\n",
       "                 n_tissues                               tissues_pc_variances  \\\n",
       "gene_id                                                                         \n",
       "ENSG00000000419          3  [1.052540658399403, 1.024362410165966, 0.92309...   \n",
       "ENSG00000000938         36  [31.632669336371276, 2.078367751851144, 1.2716...   \n",
       "ENSG00000000971         34  [21.560769925683285, 7.3101709870454705, 1.837...   \n",
       "ENSG00000001084         33  [21.74736589643257, 4.70064578668365, 2.249949...   \n",
       "ENSG00000001167         40                                [38.28994327673914]   \n",
       "\n",
       "                                                 tissues_variances  \\\n",
       "gene_id                                                              \n",
       "ENSG00000000419  {'Brain_Hypothalamus': 0.013162153504206677, '...   \n",
       "ENSG00000000938  {'Brain_Nucleus_accumbens_basal_ganglia': 0.00...   \n",
       "ENSG00000000971  {'Brain_Cerebellar_Hemisphere': 0.004684718231...   \n",
       "ENSG00000001084  {'Adrenal_Gland': 0.06137290979890946, 'Brain_...   \n",
       "ENSG00000001167  {'Adrenal_Gland': 0.02899058013527157, 'Brain_...   \n",
       "\n",
       "                 n_snps_used_sum  n_snps_in_model_sum  \n",
       "gene_id                                                \n",
       "ENSG00000000419                3                    3  \n",
       "ENSG00000000938               40                   40  \n",
       "ENSG00000000971               44                   44  \n",
       "ENSG00000001084               47                   47  \n",
       "ENSG00000001167               48                   48  "
      ]
     },
     "execution_count": 121,
     "metadata": {},
     "output_type": "execute_result"
    }
   ],
   "source": [
    "spredixcan_genes_models.head()"
   ]
  },
  {
   "cell_type": "markdown",
   "id": "e9f61a50-a5b5-4c85-9dec-3ceaaf65c61d",
   "metadata": {
    "papermill": {
     "duration": 0.029039,
     "end_time": "2022-08-27T06:54:21.997971",
     "exception": false,
     "start_time": "2022-08-27T06:54:21.968932",
     "status": "completed"
    },
    "tags": []
   },
   "source": [
    "### Summarize prediction models for each gene"
   ]
  },
  {
   "cell_type": "code",
   "execution_count": 122,
   "id": "4f44928f-b401-4abb-ac00-3b15b2746504",
   "metadata": {
    "execution": {
     "iopub.execute_input": "2022-08-27T06:54:22.058605Z",
     "iopub.status.busy": "2022-08-27T06:54:22.058329Z",
     "iopub.status.idle": "2022-08-27T06:54:22.077767Z",
     "shell.execute_reply": "2022-08-27T06:54:22.077211Z"
    },
    "papermill": {
     "duration": 0.052139,
     "end_time": "2022-08-27T06:54:22.079431",
     "exception": false,
     "start_time": "2022-08-27T06:54:22.027292",
     "status": "completed"
    },
    "tags": []
   },
   "outputs": [],
   "source": [
    "def _summarize_gene_models(gene_id):\n",
    "    \"\"\"\n",
    "    For a given gene ID, it returns a dataframe with predictor SNPs in rows and tissues in columns, where\n",
    "    values are the weights of SNPs in those tissues.\n",
    "    It can contain NaNs.\n",
    "    \"\"\"\n",
    "    gene_obj = spredixcan_gene_obj[gene_id]\n",
    "    gene_tissues = spredixcan_genes_models.loc[gene_id, \"tissue\"]\n",
    "\n",
    "    gene_models = {}\n",
    "    gene_unique_snps = set()\n",
    "    for t in gene_tissues:\n",
    "        gene_model = gene_obj.get_prediction_weights(tissue=t, model_type=EQTL_MODEL)\n",
    "        gene_models[t] = gene_model\n",
    "\n",
    "        gene_unique_snps.update(set(gene_model.index))\n",
    "\n",
    "    df = pd.DataFrame(\n",
    "        data=np.nan, index=list(gene_unique_snps), columns=list(gene_tissues)\n",
    "    )\n",
    "\n",
    "    for t in df.columns:\n",
    "        for snp in df.index:\n",
    "            gene_model = gene_models[t]\n",
    "\n",
    "            if snp in gene_model.index:\n",
    "                df.loc[snp, t] = gene_model.loc[snp]\n",
    "\n",
    "    return df"
   ]
  },
  {
   "cell_type": "code",
   "execution_count": 123,
   "id": "71bb0b5a-fe44-4076-91df-d8077ff85c71",
   "metadata": {
    "execution": {
     "iopub.execute_input": "2022-08-27T06:54:22.140045Z",
     "iopub.status.busy": "2022-08-27T06:54:22.139771Z",
     "iopub.status.idle": "2022-08-27T06:54:22.164451Z",
     "shell.execute_reply": "2022-08-27T06:54:22.163880Z"
    },
    "papermill": {
     "duration": 0.057255,
     "end_time": "2022-08-27T06:54:22.166101",
     "exception": false,
     "start_time": "2022-08-27T06:54:22.108846",
     "status": "completed"
    },
    "tags": []
   },
   "outputs": [
    {
     "data": {
      "text/plain": [
       "varID\n",
       "chr20_50862947_C_T_b38    0.431375\n",
       "Name: weight, dtype: float64"
      ]
     },
     "execution_count": 123,
     "metadata": {},
     "output_type": "execute_result"
    }
   ],
   "source": [
    "# testing\n",
    "spredixcan_gene_obj[\"ENSG00000000419\"].get_prediction_weights(\n",
    "    tissue=\"Brain_Hypothalamus\", model_type=EQTL_MODEL\n",
    ")"
   ]
  },
  {
   "cell_type": "code",
   "execution_count": 124,
   "id": "ad18b2d9-f585-445b-a809-bd694d417a8a",
   "metadata": {
    "execution": {
     "iopub.execute_input": "2022-08-27T06:54:22.230153Z",
     "iopub.status.busy": "2022-08-27T06:54:22.229891Z",
     "iopub.status.idle": "2022-08-27T06:54:22.253506Z",
     "shell.execute_reply": "2022-08-27T06:54:22.252908Z"
    },
    "papermill": {
     "duration": 0.057964,
     "end_time": "2022-08-27T06:54:22.255169",
     "exception": false,
     "start_time": "2022-08-27T06:54:22.197205",
     "status": "completed"
    },
    "tags": []
   },
   "outputs": [
    {
     "data": {
      "text/plain": [
       "varID\n",
       "chr20_50957480_C_T_b38   -0.146796\n",
       "Name: weight, dtype: float64"
      ]
     },
     "execution_count": 124,
     "metadata": {},
     "output_type": "execute_result"
    }
   ],
   "source": [
    "spredixcan_gene_obj[\"ENSG00000000419\"].get_prediction_weights(\n",
    "    tissue=\"Brain_Substantia_nigra\", model_type=EQTL_MODEL\n",
    ")"
   ]
  },
  {
   "cell_type": "code",
   "execution_count": 125,
   "id": "82ef5dec-283c-44ee-a118-b28d87a5b298",
   "metadata": {
    "execution": {
     "iopub.execute_input": "2022-08-27T06:54:22.315503Z",
     "iopub.status.busy": "2022-08-27T06:54:22.315227Z",
     "iopub.status.idle": "2022-08-27T06:54:22.332254Z",
     "shell.execute_reply": "2022-08-27T06:54:22.331706Z"
    },
    "papermill": {
     "duration": 0.048947,
     "end_time": "2022-08-27T06:54:22.334026",
     "exception": false,
     "start_time": "2022-08-27T06:54:22.285079",
     "status": "completed"
    },
    "tags": []
   },
   "outputs": [],
   "source": [
    "# # testing\n",
    "# _gene_id = \"ENSG00000000419\"\n",
    "\n",
    "# _gene_model = _summarize_gene_models(_gene_id)\n",
    "# assert (\n",
    "#     _gene_model.loc[\"chr20_50862947_C_T_b38\", \"Brain_Hypothalamus\"].round(5) == 0.43138\n",
    "# )\n",
    "# assert pd.isnull(_gene_model.loc[\"chr20_50957480_C_T_b38\", \"Brain_Hypothalamus\"])\n",
    "\n",
    "# assert pd.isnull(_gene_model.loc[\"chr20_50862947_C_T_b38\", \"Brain_Substantia_nigra\"])\n",
    "# assert (\n",
    "#     _gene_model.loc[\"chr20_50957480_C_T_b38\", \"Brain_Substantia_nigra\"].round(5)\n",
    "#     == -0.1468\n",
    "# )"
   ]
  },
  {
   "cell_type": "code",
   "execution_count": 126,
   "id": "134a7533-69e8-4858-8763-1fd45cbdec77",
   "metadata": {
    "execution": {
     "iopub.execute_input": "2022-08-27T06:54:22.395826Z",
     "iopub.status.busy": "2022-08-27T06:54:22.395557Z",
     "iopub.status.idle": "2022-08-27T07:12:43.385261Z",
     "shell.execute_reply": "2022-08-27T07:12:43.384437Z"
    },
    "papermill": {
     "duration": 1101.023723,
     "end_time": "2022-08-27T07:12:43.387319",
     "exception": false,
     "start_time": "2022-08-27T06:54:22.363596",
     "status": "completed"
    },
    "tags": []
   },
   "outputs": [],
   "source": [
    "gene_models = {}\n",
    "\n",
    "for gene_id in spredixcan_genes_models.index:\n",
    "    gene_models[gene_id] = _summarize_gene_models(gene_id)"
   ]
  },
  {
   "cell_type": "code",
   "execution_count": 127,
   "id": "97117dc0-0476-4e7b-98cb-6738dbb28c8a",
   "metadata": {
    "execution": {
     "iopub.execute_input": "2022-08-27T07:12:43.448393Z",
     "iopub.status.busy": "2022-08-27T07:12:43.448123Z",
     "iopub.status.idle": "2022-08-27T07:12:43.466908Z",
     "shell.execute_reply": "2022-08-27T07:12:43.466324Z"
    },
    "papermill": {
     "duration": 0.050864,
     "end_time": "2022-08-27T07:12:43.468490",
     "exception": false,
     "start_time": "2022-08-27T07:12:43.417626",
     "status": "completed"
    },
    "tags": []
   },
   "outputs": [],
   "source": [
    "# # testing\n",
    "# _gene_id = \"ENSG00000000419\"\n",
    "\n",
    "# _gene_model = gene_models[_gene_id]\n",
    "# assert (\n",
    "#     _gene_model.loc[\"chr20_50862947_C_T_b38\", \"Brain_Hypothalamus\"].round(5) == 0.43138\n",
    "# )\n",
    "# assert pd.isnull(_gene_model.loc[\"chr20_50957480_C_T_b38\", \"Brain_Hypothalamus\"])\n",
    "\n",
    "# assert pd.isnull(_gene_model.loc[\"chr20_50862947_C_T_b38\", \"Brain_Substantia_nigra\"])\n",
    "# assert (\n",
    "#     _gene_model.loc[\"chr20_50957480_C_T_b38\", \"Brain_Substantia_nigra\"].round(5)\n",
    "#     == -0.1468\n",
    "# )"
   ]
  },
  {
   "cell_type": "code",
   "execution_count": 128,
   "id": "806cd4a5-51b1-4ed3-8aa3-4970c128ccff",
   "metadata": {
    "execution": {
     "iopub.execute_input": "2022-08-27T07:12:43.529325Z",
     "iopub.status.busy": "2022-08-27T07:12:43.529038Z",
     "iopub.status.idle": "2022-08-27T07:12:46.574030Z",
     "shell.execute_reply": "2022-08-27T07:12:46.573438Z"
    },
    "papermill": {
     "duration": 3.078046,
     "end_time": "2022-08-27T07:12:46.575830",
     "exception": false,
     "start_time": "2022-08-27T07:12:43.497784",
     "status": "completed"
    },
    "tags": []
   },
   "outputs": [],
   "source": [
    "# save\n",
    "import gzip\n",
    "\n",
    "with gzip.GzipFile(OUTPUT_DIR_BASE / \"gene_tissues_models.pkl.gz\", \"w\") as f:\n",
    "    pickle.dump(gene_models, f)"
   ]
  },
  {
   "cell_type": "code",
   "execution_count": 129,
   "id": "a12a9597-dd0a-40a0-9a42-f288af22e0d2",
   "metadata": {
    "execution": {
     "iopub.execute_input": "2022-08-27T07:12:46.634388Z",
     "iopub.status.busy": "2022-08-27T07:12:46.634106Z",
     "iopub.status.idle": "2022-08-27T07:12:48.416980Z",
     "shell.execute_reply": "2022-08-27T07:12:48.416167Z"
    },
    "papermill": {
     "duration": 1.814526,
     "end_time": "2022-08-27T07:12:48.418953",
     "exception": false,
     "start_time": "2022-08-27T07:12:46.604427",
     "status": "completed"
    },
    "tags": []
   },
   "outputs": [],
   "source": [
    "# testing saved file\n",
    "with gzip.GzipFile(OUTPUT_DIR_BASE / \"gene_tissues_models.pkl.gz\", \"r\") as f:\n",
    "    _tmp = pickle.load(f)"
   ]
  },
  {
   "cell_type": "code",
   "execution_count": 130,
   "id": "a90a8f83-75db-4f73-8f1a-7e0563ba3685",
   "metadata": {
    "execution": {
     "iopub.execute_input": "2022-08-27T07:12:48.476344Z",
     "iopub.status.busy": "2022-08-27T07:12:48.476131Z",
     "iopub.status.idle": "2022-08-27T07:12:48.493804Z",
     "shell.execute_reply": "2022-08-27T07:12:48.493295Z"
    },
    "papermill": {
     "duration": 0.047916,
     "end_time": "2022-08-27T07:12:48.495320",
     "exception": false,
     "start_time": "2022-08-27T07:12:48.447404",
     "status": "completed"
    },
    "tags": []
   },
   "outputs": [],
   "source": [
    "assert len(gene_models) == len(_tmp)\n",
    "assert gene_models[\"ENSG00000000419\"].equals(_tmp[\"ENSG00000000419\"])"
   ]
  },
  {
   "cell_type": "markdown",
   "id": "a147f3a8-4efd-457b-9581-00cbfacd4b3d",
   "metadata": {
    "papermill": {
     "duration": 0.027634,
     "end_time": "2022-08-27T07:12:48.550604",
     "exception": false,
     "start_time": "2022-08-27T07:12:48.522970",
     "status": "completed"
    },
    "tags": []
   },
   "source": [
    "### Count number of _unique_ SNPs predictors used and available across tissue models"
   ]
  },
  {
   "cell_type": "code",
   "execution_count": 131,
   "id": "38d5bc57-3c25-4abe-93bd-09bbe200f2ef",
   "metadata": {
    "execution": {
     "iopub.execute_input": "2022-08-27T07:12:48.607473Z",
     "iopub.status.busy": "2022-08-27T07:12:48.607273Z",
     "iopub.status.idle": "2022-08-27T07:12:48.621944Z",
     "shell.execute_reply": "2022-08-27T07:12:48.621435Z"
    },
    "papermill": {
     "duration": 0.04496,
     "end_time": "2022-08-27T07:12:48.623461",
     "exception": false,
     "start_time": "2022-08-27T07:12:48.578501",
     "status": "completed"
    },
    "tags": []
   },
   "outputs": [],
   "source": [
    "def _count_unique_snps(gene_id):\n",
    "    \"\"\"\n",
    "    For a gene_id, it counts unique SNPs in all models and their intersection with GWAS SNPs (therefore, used by S-PrediXcan).\n",
    "    \"\"\"\n",
    "    gene_tissues = spredixcan_genes_models.loc[gene_id, \"tissue\"]\n",
    "\n",
    "    gene_unique_snps = set()\n",
    "    for t in gene_tissues:\n",
    "        t_snps = set(gene_models[gene_id].index)\n",
    "        gene_unique_snps.update(t_snps)\n",
    "\n",
    "    gene_unique_snps_in_gwas = gwas_variants_ids_set.intersection(gene_unique_snps)\n",
    "\n",
    "    return pd.Series(\n",
    "        {\n",
    "            \"unique_n_snps_in_model\": len(gene_unique_snps),\n",
    "            \"unique_n_snps_used\": len(gene_unique_snps_in_gwas),\n",
    "        }\n",
    "    )"
   ]
  },
  {
   "cell_type": "code",
   "execution_count": 132,
   "id": "059c6e02-67e2-4376-a3e5-b815070779c9",
   "metadata": {
    "execution": {
     "iopub.execute_input": "2022-08-27T07:12:48.679441Z",
     "iopub.status.busy": "2022-08-27T07:12:48.679251Z",
     "iopub.status.idle": "2022-08-27T07:12:48.705145Z",
     "shell.execute_reply": "2022-08-27T07:12:48.704635Z"
    },
    "papermill": {
     "duration": 0.055743,
     "end_time": "2022-08-27T07:12:48.706592",
     "exception": false,
     "start_time": "2022-08-27T07:12:48.650849",
     "status": "completed"
    },
    "tags": []
   },
   "outputs": [
    {
     "data": {
      "text/html": [
       "<div>\n",
       "<style scoped>\n",
       "    .dataframe tbody tr th:only-of-type {\n",
       "        vertical-align: middle;\n",
       "    }\n",
       "\n",
       "    .dataframe tbody tr th {\n",
       "        vertical-align: top;\n",
       "    }\n",
       "\n",
       "    .dataframe thead th {\n",
       "        text-align: right;\n",
       "    }\n",
       "</style>\n",
       "<table border=\"1\" class=\"dataframe\">\n",
       "  <thead>\n",
       "    <tr style=\"text-align: right;\">\n",
       "      <th></th>\n",
       "      <th>gene_name</th>\n",
       "      <th>tissue</th>\n",
       "      <th>n_tissues</th>\n",
       "      <th>tissues_pc_variances</th>\n",
       "      <th>tissues_variances</th>\n",
       "      <th>n_snps_used_sum</th>\n",
       "      <th>n_snps_in_model_sum</th>\n",
       "    </tr>\n",
       "    <tr>\n",
       "      <th>gene_id</th>\n",
       "      <th></th>\n",
       "      <th></th>\n",
       "      <th></th>\n",
       "      <th></th>\n",
       "      <th></th>\n",
       "      <th></th>\n",
       "      <th></th>\n",
       "    </tr>\n",
       "  </thead>\n",
       "  <tbody>\n",
       "    <tr>\n",
       "      <th>ENSG00000010256</th>\n",
       "      <td>UQCRC1</td>\n",
       "      <td>(Thyroid, Whole_Blood)</td>\n",
       "      <td>2</td>\n",
       "      <td>[1.1048350039574655, 0.8951649960425345]</td>\n",
       "      <td>{'Thyroid': 0.0008025245652862433, 'Whole_Bloo...</td>\n",
       "      <td>2</td>\n",
       "      <td>2</td>\n",
       "    </tr>\n",
       "    <tr>\n",
       "      <th>ENSG00000017427</th>\n",
       "      <td>IGF1</td>\n",
       "      <td>(Brain_Amygdala, Testis)</td>\n",
       "      <td>2</td>\n",
       "      <td>[1.0389319526404415, 0.9610680473595585]</td>\n",
       "      <td>{'Brain_Amygdala': 0.02059332044751194, 'Testi...</td>\n",
       "      <td>2</td>\n",
       "      <td>2</td>\n",
       "    </tr>\n",
       "    <tr>\n",
       "      <th>ENSG00000043093</th>\n",
       "      <td>DCUN1D1</td>\n",
       "      <td>(Esophagus_Gastroesophageal_Junction, Esophagu...</td>\n",
       "      <td>2</td>\n",
       "      <td>[1.4951653523020276, 0.5048346476979725]</td>\n",
       "      <td>{'Esophagus_Gastroesophageal_Junction': 0.0002...</td>\n",
       "      <td>2</td>\n",
       "      <td>2</td>\n",
       "    </tr>\n",
       "    <tr>\n",
       "      <th>ENSG00000081377</th>\n",
       "      <td>CDC14B</td>\n",
       "      <td>(Brain_Nucleus_accumbens_basal_ganglia, Muscle...</td>\n",
       "      <td>2</td>\n",
       "      <td>[1.1285007973441137, 0.8714992026558863]</td>\n",
       "      <td>{'Brain_Nucleus_accumbens_basal_ganglia': 0.01...</td>\n",
       "      <td>2</td>\n",
       "      <td>2</td>\n",
       "    </tr>\n",
       "    <tr>\n",
       "      <th>ENSG00000104856</th>\n",
       "      <td>RELB</td>\n",
       "      <td>(Esophagus_Gastroesophageal_Junction, Brain_Ce...</td>\n",
       "      <td>2</td>\n",
       "      <td>[1.065634630043069, 0.9343653699569308]</td>\n",
       "      <td>{'Esophagus_Gastroesophageal_Junction': 0.0001...</td>\n",
       "      <td>2</td>\n",
       "      <td>2</td>\n",
       "    </tr>\n",
       "  </tbody>\n",
       "</table>\n",
       "</div>"
      ],
      "text/plain": [
       "                gene_name                                             tissue  \\\n",
       "gene_id                                                                        \n",
       "ENSG00000010256    UQCRC1                             (Thyroid, Whole_Blood)   \n",
       "ENSG00000017427      IGF1                           (Brain_Amygdala, Testis)   \n",
       "ENSG00000043093   DCUN1D1  (Esophagus_Gastroesophageal_Junction, Esophagu...   \n",
       "ENSG00000081377    CDC14B  (Brain_Nucleus_accumbens_basal_ganglia, Muscle...   \n",
       "ENSG00000104856      RELB  (Esophagus_Gastroesophageal_Junction, Brain_Ce...   \n",
       "\n",
       "                 n_tissues                      tissues_pc_variances  \\\n",
       "gene_id                                                                \n",
       "ENSG00000010256          2  [1.1048350039574655, 0.8951649960425345]   \n",
       "ENSG00000017427          2  [1.0389319526404415, 0.9610680473595585]   \n",
       "ENSG00000043093          2  [1.4951653523020276, 0.5048346476979725]   \n",
       "ENSG00000081377          2  [1.1285007973441137, 0.8714992026558863]   \n",
       "ENSG00000104856          2   [1.065634630043069, 0.9343653699569308]   \n",
       "\n",
       "                                                 tissues_variances  \\\n",
       "gene_id                                                              \n",
       "ENSG00000010256  {'Thyroid': 0.0008025245652862433, 'Whole_Bloo...   \n",
       "ENSG00000017427  {'Brain_Amygdala': 0.02059332044751194, 'Testi...   \n",
       "ENSG00000043093  {'Esophagus_Gastroesophageal_Junction': 0.0002...   \n",
       "ENSG00000081377  {'Brain_Nucleus_accumbens_basal_ganglia': 0.01...   \n",
       "ENSG00000104856  {'Esophagus_Gastroesophageal_Junction': 0.0001...   \n",
       "\n",
       "                 n_snps_used_sum  n_snps_in_model_sum  \n",
       "gene_id                                                \n",
       "ENSG00000010256                2                    2  \n",
       "ENSG00000017427                2                    2  \n",
       "ENSG00000043093                2                    2  \n",
       "ENSG00000081377                2                    2  \n",
       "ENSG00000104856                2                    2  "
      ]
     },
     "execution_count": 132,
     "metadata": {},
     "output_type": "execute_result"
    }
   ],
   "source": [
    "# testing\n",
    "spredixcan_genes_models[spredixcan_genes_models[\"n_snps_used_sum\"] == 2].head()"
   ]
  },
  {
   "cell_type": "code",
   "execution_count": 133,
   "id": "4f8a444c-c3e2-4688-a50b-08481d41f614",
   "metadata": {
    "execution": {
     "iopub.execute_input": "2022-08-27T07:12:48.763748Z",
     "iopub.status.busy": "2022-08-27T07:12:48.763550Z",
     "iopub.status.idle": "2022-08-27T07:12:48.782334Z",
     "shell.execute_reply": "2022-08-27T07:12:48.781835Z"
    },
    "papermill": {
     "duration": 0.049289,
     "end_time": "2022-08-27T07:12:48.783790",
     "exception": false,
     "start_time": "2022-08-27T07:12:48.734501",
     "status": "completed"
    },
    "tags": []
   },
   "outputs": [
    {
     "data": {
      "text/plain": [
       "varID\n",
       "chr20_50862947_C_T_b38    0.431375\n",
       "Name: weight, dtype: float64"
      ]
     },
     "metadata": {},
     "output_type": "display_data"
    },
    {
     "data": {
      "text/plain": [
       "varID\n",
       "chr20_50957480_C_T_b38   -0.146796\n",
       "Name: weight, dtype: float64"
      ]
     },
     "metadata": {},
     "output_type": "display_data"
    }
   ],
   "source": [
    "# case with two snps, not repeated across tissues\n",
    "_gene_id = \"ENSG00000000419\"\n",
    "display(\n",
    "    spredixcan_gene_obj[_gene_id].get_prediction_weights(\n",
    "        tissue=\"Brain_Hypothalamus\", model_type=EQTL_MODEL\n",
    "    )\n",
    ")\n",
    "display(\n",
    "    spredixcan_gene_obj[_gene_id].get_prediction_weights(\n",
    "        tissue=\"Brain_Substantia_nigra\", model_type=EQTL_MODEL\n",
    "    )\n",
    ")"
   ]
  },
  {
   "cell_type": "code",
   "execution_count": 134,
   "id": "f835cf57-eea6-4468-aaf2-d85c8164d177",
   "metadata": {
    "execution": {
     "iopub.execute_input": "2022-08-27T07:12:48.840273Z",
     "iopub.status.busy": "2022-08-27T07:12:48.840082Z",
     "iopub.status.idle": "2022-08-27T07:12:48.853476Z",
     "shell.execute_reply": "2022-08-27T07:12:48.852977Z"
    },
    "papermill": {
     "duration": 0.043568,
     "end_time": "2022-08-27T07:12:48.854989",
     "exception": false,
     "start_time": "2022-08-27T07:12:48.811421",
     "status": "completed"
    },
    "tags": []
   },
   "outputs": [],
   "source": [
    "# _tmp = _count_unique_snps(_gene_id)\n",
    "# assert _tmp.shape[0] == 2\n",
    "# assert _tmp[\"unique_n_snps_in_model\"] == 2\n",
    "# assert _tmp[\"unique_n_snps_used\"] == 2"
   ]
  },
  {
   "cell_type": "code",
   "execution_count": 135,
   "id": "520837f6-5cdd-4958-aa98-00cd1ebab484",
   "metadata": {
    "execution": {
     "iopub.execute_input": "2022-08-27T07:12:48.913081Z",
     "iopub.status.busy": "2022-08-27T07:12:48.912861Z",
     "iopub.status.idle": "2022-08-27T07:12:51.405897Z",
     "shell.execute_reply": "2022-08-27T07:12:51.405304Z"
    },
    "papermill": {
     "duration": 2.523815,
     "end_time": "2022-08-27T07:12:51.407745",
     "exception": false,
     "start_time": "2022-08-27T07:12:48.883930",
     "status": "completed"
    },
    "tags": []
   },
   "outputs": [],
   "source": [
    "# get unique snps for all genes\n",
    "spredixcan_genes_unique_n_snps = spredixcan_genes_models.groupby(\"gene_id\").apply(\n",
    "    lambda x: _count_unique_snps(x.name)\n",
    ")"
   ]
  },
  {
   "cell_type": "code",
   "execution_count": 136,
   "id": "72633373-73d7-4796-b915-06fcb18feca0",
   "metadata": {
    "execution": {
     "iopub.execute_input": "2022-08-27T07:12:51.466219Z",
     "iopub.status.busy": "2022-08-27T07:12:51.466005Z",
     "iopub.status.idle": "2022-08-27T07:12:51.485795Z",
     "shell.execute_reply": "2022-08-27T07:12:51.485271Z"
    },
    "papermill": {
     "duration": 0.049703,
     "end_time": "2022-08-27T07:12:51.487290",
     "exception": false,
     "start_time": "2022-08-27T07:12:51.437587",
     "status": "completed"
    },
    "tags": []
   },
   "outputs": [
    {
     "data": {
      "text/html": [
       "<div>\n",
       "<style scoped>\n",
       "    .dataframe tbody tr th:only-of-type {\n",
       "        vertical-align: middle;\n",
       "    }\n",
       "\n",
       "    .dataframe tbody tr th {\n",
       "        vertical-align: top;\n",
       "    }\n",
       "\n",
       "    .dataframe thead th {\n",
       "        text-align: right;\n",
       "    }\n",
       "</style>\n",
       "<table border=\"1\" class=\"dataframe\">\n",
       "  <thead>\n",
       "    <tr style=\"text-align: right;\">\n",
       "      <th></th>\n",
       "      <th>unique_n_snps_in_model</th>\n",
       "      <th>unique_n_snps_used</th>\n",
       "    </tr>\n",
       "    <tr>\n",
       "      <th>gene_id</th>\n",
       "      <th></th>\n",
       "      <th></th>\n",
       "    </tr>\n",
       "  </thead>\n",
       "  <tbody>\n",
       "    <tr>\n",
       "      <th>ENSG00000000419</th>\n",
       "      <td>3</td>\n",
       "      <td>3</td>\n",
       "    </tr>\n",
       "    <tr>\n",
       "      <th>ENSG00000000938</th>\n",
       "      <td>5</td>\n",
       "      <td>5</td>\n",
       "    </tr>\n",
       "    <tr>\n",
       "      <th>ENSG00000000971</th>\n",
       "      <td>12</td>\n",
       "      <td>12</td>\n",
       "    </tr>\n",
       "    <tr>\n",
       "      <th>ENSG00000001084</th>\n",
       "      <td>24</td>\n",
       "      <td>24</td>\n",
       "    </tr>\n",
       "    <tr>\n",
       "      <th>ENSG00000001167</th>\n",
       "      <td>14</td>\n",
       "      <td>14</td>\n",
       "    </tr>\n",
       "  </tbody>\n",
       "</table>\n",
       "</div>"
      ],
      "text/plain": [
       "                 unique_n_snps_in_model  unique_n_snps_used\n",
       "gene_id                                                    \n",
       "ENSG00000000419                       3                   3\n",
       "ENSG00000000938                       5                   5\n",
       "ENSG00000000971                      12                  12\n",
       "ENSG00000001084                      24                  24\n",
       "ENSG00000001167                      14                  14"
      ]
     },
     "execution_count": 136,
     "metadata": {},
     "output_type": "execute_result"
    }
   ],
   "source": [
    "spredixcan_genes_unique_n_snps.head()"
   ]
  },
  {
   "cell_type": "code",
   "execution_count": 137,
   "id": "3d2b6676-2168-44b8-8d02-d29b934ba2ec",
   "metadata": {
    "execution": {
     "iopub.execute_input": "2022-08-27T07:12:51.544046Z",
     "iopub.status.busy": "2022-08-27T07:12:51.543837Z",
     "iopub.status.idle": "2022-08-27T07:12:51.557977Z",
     "shell.execute_reply": "2022-08-27T07:12:51.557469Z"
    },
    "papermill": {
     "duration": 0.044121,
     "end_time": "2022-08-27T07:12:51.559490",
     "exception": false,
     "start_time": "2022-08-27T07:12:51.515369",
     "status": "completed"
    },
    "tags": []
   },
   "outputs": [],
   "source": [
    "assert (\n",
    "    spredixcan_genes_unique_n_snps[\"unique_n_snps_in_model\"]\n",
    "    >= spredixcan_genes_unique_n_snps[\"unique_n_snps_used\"]\n",
    ").all()"
   ]
  },
  {
   "cell_type": "code",
   "execution_count": 138,
   "id": "6accf2fe-93fe-4f7c-86ff-5f0ea3d17e11",
   "metadata": {
    "execution": {
     "iopub.execute_input": "2022-08-27T07:12:51.616931Z",
     "iopub.status.busy": "2022-08-27T07:12:51.616713Z",
     "iopub.status.idle": "2022-08-27T07:12:51.633795Z",
     "shell.execute_reply": "2022-08-27T07:12:51.633283Z"
    },
    "papermill": {
     "duration": 0.047623,
     "end_time": "2022-08-27T07:12:51.635304",
     "exception": false,
     "start_time": "2022-08-27T07:12:51.587681",
     "status": "completed"
    },
    "tags": []
   },
   "outputs": [],
   "source": [
    "# add unique snps to spredixcan_genes_models\n",
    "spredixcan_genes_models = spredixcan_genes_models.join(spredixcan_genes_unique_n_snps)"
   ]
  },
  {
   "cell_type": "code",
   "execution_count": 139,
   "id": "25a28358-843b-4421-9d8f-8edc41f016e3",
   "metadata": {
    "execution": {
     "iopub.execute_input": "2022-08-27T07:12:51.693777Z",
     "iopub.status.busy": "2022-08-27T07:12:51.693580Z",
     "iopub.status.idle": "2022-08-27T07:12:51.708617Z",
     "shell.execute_reply": "2022-08-27T07:12:51.708116Z"
    },
    "papermill": {
     "duration": 0.045794,
     "end_time": "2022-08-27T07:12:51.710042",
     "exception": false,
     "start_time": "2022-08-27T07:12:51.664248",
     "status": "completed"
    },
    "tags": []
   },
   "outputs": [
    {
     "data": {
      "text/plain": [
       "(6450, 9)"
      ]
     },
     "execution_count": 139,
     "metadata": {},
     "output_type": "execute_result"
    }
   ],
   "source": [
    "spredixcan_genes_models.shape"
   ]
  },
  {
   "cell_type": "code",
   "execution_count": 140,
   "id": "ae4f0cd6-a823-4f55-82cf-1a78f0392acf",
   "metadata": {
    "execution": {
     "iopub.execute_input": "2022-08-27T07:12:51.767570Z",
     "iopub.status.busy": "2022-08-27T07:12:51.767344Z",
     "iopub.status.idle": "2022-08-27T07:12:51.794246Z",
     "shell.execute_reply": "2022-08-27T07:12:51.793743Z"
    },
    "papermill": {
     "duration": 0.057596,
     "end_time": "2022-08-27T07:12:51.795661",
     "exception": false,
     "start_time": "2022-08-27T07:12:51.738065",
     "status": "completed"
    },
    "tags": []
   },
   "outputs": [
    {
     "data": {
      "text/html": [
       "<div>\n",
       "<style scoped>\n",
       "    .dataframe tbody tr th:only-of-type {\n",
       "        vertical-align: middle;\n",
       "    }\n",
       "\n",
       "    .dataframe tbody tr th {\n",
       "        vertical-align: top;\n",
       "    }\n",
       "\n",
       "    .dataframe thead th {\n",
       "        text-align: right;\n",
       "    }\n",
       "</style>\n",
       "<table border=\"1\" class=\"dataframe\">\n",
       "  <thead>\n",
       "    <tr style=\"text-align: right;\">\n",
       "      <th></th>\n",
       "      <th>gene_name</th>\n",
       "      <th>tissue</th>\n",
       "      <th>n_tissues</th>\n",
       "      <th>tissues_pc_variances</th>\n",
       "      <th>tissues_variances</th>\n",
       "      <th>n_snps_used_sum</th>\n",
       "      <th>n_snps_in_model_sum</th>\n",
       "      <th>unique_n_snps_in_model</th>\n",
       "      <th>unique_n_snps_used</th>\n",
       "    </tr>\n",
       "    <tr>\n",
       "      <th>gene_id</th>\n",
       "      <th></th>\n",
       "      <th></th>\n",
       "      <th></th>\n",
       "      <th></th>\n",
       "      <th></th>\n",
       "      <th></th>\n",
       "      <th></th>\n",
       "      <th></th>\n",
       "      <th></th>\n",
       "    </tr>\n",
       "  </thead>\n",
       "  <tbody>\n",
       "    <tr>\n",
       "      <th>ENSG00000000419</th>\n",
       "      <td>DPM1</td>\n",
       "      <td>(Brain_Hypothalamus, Cells_Cultured_fibroblast...</td>\n",
       "      <td>3</td>\n",
       "      <td>[1.052540658399403, 1.024362410165966, 0.92309...</td>\n",
       "      <td>{'Brain_Hypothalamus': 0.013162153504206677, '...</td>\n",
       "      <td>3</td>\n",
       "      <td>3</td>\n",
       "      <td>3</td>\n",
       "      <td>3</td>\n",
       "    </tr>\n",
       "    <tr>\n",
       "      <th>ENSG00000000938</th>\n",
       "      <td>FGR</td>\n",
       "      <td>(Brain_Nucleus_accumbens_basal_ganglia, Liver,...</td>\n",
       "      <td>36</td>\n",
       "      <td>[31.632669336371276, 2.078367751851144, 1.2716...</td>\n",
       "      <td>{'Brain_Nucleus_accumbens_basal_ganglia': 0.00...</td>\n",
       "      <td>40</td>\n",
       "      <td>40</td>\n",
       "      <td>5</td>\n",
       "      <td>5</td>\n",
       "    </tr>\n",
       "    <tr>\n",
       "      <th>ENSG00000000971</th>\n",
       "      <td>CFH</td>\n",
       "      <td>(Brain_Cerebellar_Hemisphere, Brain_Cerebellum...</td>\n",
       "      <td>34</td>\n",
       "      <td>[21.560769925683285, 7.3101709870454705, 1.837...</td>\n",
       "      <td>{'Brain_Cerebellar_Hemisphere': 0.004684718231...</td>\n",
       "      <td>44</td>\n",
       "      <td>44</td>\n",
       "      <td>12</td>\n",
       "      <td>12</td>\n",
       "    </tr>\n",
       "    <tr>\n",
       "      <th>ENSG00000001084</th>\n",
       "      <td>GCLC</td>\n",
       "      <td>(Adrenal_Gland, Brain_Nucleus_accumbens_basal_...</td>\n",
       "      <td>33</td>\n",
       "      <td>[21.74736589643257, 4.70064578668365, 2.249949...</td>\n",
       "      <td>{'Adrenal_Gland': 0.06137290979890946, 'Brain_...</td>\n",
       "      <td>47</td>\n",
       "      <td>47</td>\n",
       "      <td>24</td>\n",
       "      <td>24</td>\n",
       "    </tr>\n",
       "    <tr>\n",
       "      <th>ENSG00000001167</th>\n",
       "      <td>NFYA</td>\n",
       "      <td>(Adrenal_Gland, Brain_Nucleus_accumbens_basal_...</td>\n",
       "      <td>40</td>\n",
       "      <td>[38.28994327673914]</td>\n",
       "      <td>{'Adrenal_Gland': 0.02899058013527157, 'Brain_...</td>\n",
       "      <td>48</td>\n",
       "      <td>48</td>\n",
       "      <td>14</td>\n",
       "      <td>14</td>\n",
       "    </tr>\n",
       "  </tbody>\n",
       "</table>\n",
       "</div>"
      ],
      "text/plain": [
       "                gene_name                                             tissue  \\\n",
       "gene_id                                                                        \n",
       "ENSG00000000419      DPM1  (Brain_Hypothalamus, Cells_Cultured_fibroblast...   \n",
       "ENSG00000000938       FGR  (Brain_Nucleus_accumbens_basal_ganglia, Liver,...   \n",
       "ENSG00000000971       CFH  (Brain_Cerebellar_Hemisphere, Brain_Cerebellum...   \n",
       "ENSG00000001084      GCLC  (Adrenal_Gland, Brain_Nucleus_accumbens_basal_...   \n",
       "ENSG00000001167      NFYA  (Adrenal_Gland, Brain_Nucleus_accumbens_basal_...   \n",
       "\n",
       "                 n_tissues                               tissues_pc_variances  \\\n",
       "gene_id                                                                         \n",
       "ENSG00000000419          3  [1.052540658399403, 1.024362410165966, 0.92309...   \n",
       "ENSG00000000938         36  [31.632669336371276, 2.078367751851144, 1.2716...   \n",
       "ENSG00000000971         34  [21.560769925683285, 7.3101709870454705, 1.837...   \n",
       "ENSG00000001084         33  [21.74736589643257, 4.70064578668365, 2.249949...   \n",
       "ENSG00000001167         40                                [38.28994327673914]   \n",
       "\n",
       "                                                 tissues_variances  \\\n",
       "gene_id                                                              \n",
       "ENSG00000000419  {'Brain_Hypothalamus': 0.013162153504206677, '...   \n",
       "ENSG00000000938  {'Brain_Nucleus_accumbens_basal_ganglia': 0.00...   \n",
       "ENSG00000000971  {'Brain_Cerebellar_Hemisphere': 0.004684718231...   \n",
       "ENSG00000001084  {'Adrenal_Gland': 0.06137290979890946, 'Brain_...   \n",
       "ENSG00000001167  {'Adrenal_Gland': 0.02899058013527157, 'Brain_...   \n",
       "\n",
       "                 n_snps_used_sum  n_snps_in_model_sum  unique_n_snps_in_model  \\\n",
       "gene_id                                                                         \n",
       "ENSG00000000419                3                    3                       3   \n",
       "ENSG00000000938               40                   40                       5   \n",
       "ENSG00000000971               44                   44                      12   \n",
       "ENSG00000001084               47                   47                      24   \n",
       "ENSG00000001167               48                   48                      14   \n",
       "\n",
       "                 unique_n_snps_used  \n",
       "gene_id                              \n",
       "ENSG00000000419                   3  \n",
       "ENSG00000000938                   5  \n",
       "ENSG00000000971                  12  \n",
       "ENSG00000001084                  24  \n",
       "ENSG00000001167                  14  "
      ]
     },
     "execution_count": 140,
     "metadata": {},
     "output_type": "execute_result"
    }
   ],
   "source": [
    "spredixcan_genes_models.head()"
   ]
  },
  {
   "cell_type": "markdown",
   "id": "d6947d45-ea78-4c6b-bf71-f7413d1687e3",
   "metadata": {
    "papermill": {
     "duration": 0.028765,
     "end_time": "2022-08-27T07:12:51.852979",
     "exception": false,
     "start_time": "2022-08-27T07:12:51.824214",
     "status": "completed"
    },
    "tags": []
   },
   "source": [
    "### Save"
   ]
  },
  {
   "cell_type": "code",
   "execution_count": 141,
   "id": "ebc3a430-7bd5-4099-8b01-aa77e704e3e7",
   "metadata": {
    "execution": {
     "iopub.execute_input": "2022-08-27T07:12:51.910919Z",
     "iopub.status.busy": "2022-08-27T07:12:51.910675Z",
     "iopub.status.idle": "2022-08-27T07:12:51.925461Z",
     "shell.execute_reply": "2022-08-27T07:12:51.924959Z"
    },
    "papermill": {
     "duration": 0.045045,
     "end_time": "2022-08-27T07:12:51.926984",
     "exception": false,
     "start_time": "2022-08-27T07:12:51.881939",
     "status": "completed"
    },
    "tags": []
   },
   "outputs": [],
   "source": [
    "# this is important, other scripts depend on gene_name to be unique\n",
    "assert spredixcan_genes_models[\"gene_name\"].is_unique"
   ]
  },
  {
   "cell_type": "code",
   "execution_count": 142,
   "id": "e2db5302-3051-4492-97e1-e759d2fb512f",
   "metadata": {
    "execution": {
     "iopub.execute_input": "2022-08-27T07:12:51.984970Z",
     "iopub.status.busy": "2022-08-27T07:12:51.984778Z",
     "iopub.status.idle": "2022-08-27T07:12:51.999827Z",
     "shell.execute_reply": "2022-08-27T07:12:51.999319Z"
    },
    "papermill": {
     "duration": 0.04555,
     "end_time": "2022-08-27T07:12:52.001342",
     "exception": false,
     "start_time": "2022-08-27T07:12:51.955792",
     "status": "completed"
    },
    "tags": []
   },
   "outputs": [],
   "source": [
    "assert not spredixcan_genes_models.isna().any(None)"
   ]
  },
  {
   "cell_type": "code",
   "execution_count": 143,
   "id": "10e19441-8390-4eb1-8da4-24752597bb54",
   "metadata": {
    "execution": {
     "iopub.execute_input": "2022-08-27T07:12:52.058576Z",
     "iopub.status.busy": "2022-08-27T07:12:52.058385Z",
     "iopub.status.idle": "2022-08-27T07:12:52.796570Z",
     "shell.execute_reply": "2022-08-27T07:12:52.795974Z"
    },
    "papermill": {
     "duration": 0.769151,
     "end_time": "2022-08-27T07:12:52.798518",
     "exception": false,
     "start_time": "2022-08-27T07:12:52.029367",
     "status": "completed"
    },
    "tags": []
   },
   "outputs": [],
   "source": [
    "spredixcan_genes_models.to_pickle(OUTPUT_DIR_BASE / \"gene_tissues.pkl\")"
   ]
  },
  {
   "cell_type": "code",
   "execution_count": null,
   "id": "b25e3ead",
   "metadata": {
    "papermill": {
     "duration": 0.028747,
     "end_time": "2022-08-27T07:12:52.857323",
     "exception": false,
     "start_time": "2022-08-27T07:12:52.828576",
     "status": "completed"
    },
    "tags": []
   },
   "outputs": [],
   "source": []
  }
 ],
 "metadata": {
  "jupytext": {
   "cell_metadata_filter": "all,-execution,-papermill,-trusted",
   "formats": "ipynb,py//py:percent"
  },
  "kernelspec": {
   "display_name": "Python 3 (ipykernel)",
   "language": "python",
   "name": "python3"
  },
  "language_info": {
   "codemirror_mode": {
    "name": "ipython",
    "version": 3
   },
   "file_extension": ".py",
   "mimetype": "text/x-python",
   "name": "python",
   "nbconvert_exporter": "python",
   "pygments_lexer": "ipython3",
   "version": "3.8.13"
  },
  "papermill": {
   "default_parameters": {},
   "duration": 10609.695194,
   "end_time": "2022-08-27T07:12:55.513855",
   "environment_variables": {},
   "exception": null,
   "input_path": "nbs/15_gsa_gls/07-compile_gwas_snps_and_twas_genes.ipynb",
   "output_path": "nbs/15_gsa_gls/gene_corrs/cohorts/phenomexcan_astle/gtex_v8/mashr/07-compile_gwas_snps_and_twas_genes.run.ipynb",
   "parameters": {
    "COHORT_NAME": "phenomexcan_astle",
    "EQTL_MODEL": "MASHR",
    "GWAS_FILE": "/project/ritchie20/projects/phenoplier/base/data/phenomexcan/gwas_parsing/full/Astle_et_al_2016_Eosinophil_counts.txt.gz",
    "REFERENCE_PANEL": "GTEX_V8",
    "SMULTIXCAN_FILE": "/project/ritchie20/projects/phenoplier/base/data/phenomexcan/smultixcan/gtex_gwas/Astle_et_al_2016_Eosinophil_counts_smultixcan_imputed_gwas_gtexv8mashr_ccn30.txt.gz",
    "SPREDIXCAN_FILE_PATTERN": "spredixcan_igwas_gtexmashrv8_Astle_et_al_2016_Eosinophil_counts__PM__{tissue}.csv",
    "SPREDIXCAN_FOLDER": "/project/ritchie20/projects/phenoplier/base/data/phenomexcan/spredixcan/gtex_gwas/Astle_et_al_2016_Eosinophil_counts/"
   },
   "start_time": "2022-08-27T04:16:05.818661",
   "version": "2.2.2"
  },
  "toc-autonumbering": true
 },
 "nbformat": 4,
 "nbformat_minor": 5
}
