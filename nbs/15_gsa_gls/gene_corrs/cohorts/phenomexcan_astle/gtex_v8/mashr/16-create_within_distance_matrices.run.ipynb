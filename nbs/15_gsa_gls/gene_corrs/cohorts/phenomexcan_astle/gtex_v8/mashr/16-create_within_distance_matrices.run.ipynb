{
 "cells": [
  {
   "cell_type": "markdown",
   "id": "5ef66977",
   "metadata": {
    "papermill": {
     "duration": 0.00831,
     "end_time": "2022-08-29T16:04:40.627451",
     "exception": false,
     "start_time": "2022-08-29T16:04:40.619141",
     "status": "completed"
    },
    "tags": []
   },
   "source": [
    "# Description"
   ]
  },
  {
   "cell_type": "markdown",
   "id": "658d4f7c",
   "metadata": {
    "papermill": {
     "duration": 0.005529,
     "end_time": "2022-08-29T16:04:40.638340",
     "exception": false,
     "start_time": "2022-08-29T16:04:40.632811",
     "status": "completed"
    },
    "tags": []
   },
   "source": [
    "(Please, take a look at the README.md file in this directory for instructions on how to run this notebook)\n",
    "\n",
    "This notebook reads the correlation matrix generated and creates new matrices with different \"within distances\" across genes.\n",
    "For example, it generates a new correlation matrix with only genes within a distance of 10mb."
   ]
  },
  {
   "cell_type": "markdown",
   "id": "60fa4530",
   "metadata": {
    "papermill": {
     "duration": 0.005586,
     "end_time": "2022-08-29T16:04:40.649355",
     "exception": false,
     "start_time": "2022-08-29T16:04:40.643769",
     "status": "completed"
    },
    "tags": []
   },
   "source": [
    "# Modules"
   ]
  },
  {
   "cell_type": "code",
   "execution_count": 1,
   "id": "d70b0833",
   "metadata": {
    "execution": {
     "iopub.execute_input": "2022-08-29T16:04:40.661339Z",
     "iopub.status.busy": "2022-08-29T16:04:40.661109Z",
     "iopub.status.idle": "2022-08-29T16:04:40.704724Z",
     "shell.execute_reply": "2022-08-29T16:04:40.703992Z"
    },
    "papermill": {
     "duration": 0.051672,
     "end_time": "2022-08-29T16:04:40.706389",
     "exception": false,
     "start_time": "2022-08-29T16:04:40.654717",
     "status": "completed"
    },
    "tags": []
   },
   "outputs": [],
   "source": [
    "%load_ext autoreload\n",
    "%autoreload 2"
   ]
  },
  {
   "cell_type": "code",
   "execution_count": 2,
   "id": "6b2f9ca0",
   "metadata": {
    "execution": {
     "iopub.execute_input": "2022-08-29T16:04:40.717909Z",
     "iopub.status.busy": "2022-08-29T16:04:40.717707Z",
     "iopub.status.idle": "2022-08-29T16:04:42.705889Z",
     "shell.execute_reply": "2022-08-29T16:04:42.705176Z"
    },
    "papermill": {
     "duration": 1.996196,
     "end_time": "2022-08-29T16:04:42.708084",
     "exception": false,
     "start_time": "2022-08-29T16:04:40.711888",
     "status": "completed"
    },
    "tags": []
   },
   "outputs": [],
   "source": [
    "import pickle\n",
    "\n",
    "import numpy as np\n",
    "from scipy.spatial.distance import squareform\n",
    "import pandas as pd\n",
    "import matplotlib.pyplot as plt\n",
    "import seaborn as sns\n",
    "\n",
    "import conf\n",
    "from entity import Gene\n",
    "from correlations import (\n",
    "    check_pos_def,\n",
    "    compare_matrices,\n",
    "    correct_corr_mat,\n",
    "    adjust_non_pos_def,\n",
    ")"
   ]
  },
  {
   "cell_type": "markdown",
   "id": "5b96e797",
   "metadata": {
    "papermill": {
     "duration": 0.005402,
     "end_time": "2022-08-29T16:04:42.719624",
     "exception": false,
     "start_time": "2022-08-29T16:04:42.714222",
     "status": "completed"
    },
    "tags": []
   },
   "source": [
    "# Settings"
   ]
  },
  {
   "cell_type": "code",
   "execution_count": 3,
   "id": "4fc1b6a0",
   "metadata": {
    "execution": {
     "iopub.execute_input": "2022-08-29T16:04:42.731357Z",
     "iopub.status.busy": "2022-08-29T16:04:42.731141Z",
     "iopub.status.idle": "2022-08-29T16:04:42.813257Z",
     "shell.execute_reply": "2022-08-29T16:04:42.812610Z"
    },
    "papermill": {
     "duration": 0.090167,
     "end_time": "2022-08-29T16:04:42.815016",
     "exception": false,
     "start_time": "2022-08-29T16:04:42.724849",
     "status": "completed"
    },
    "tags": [
     "parameters"
    ]
   },
   "outputs": [],
   "source": [
    "# a cohort name (it could be something like UK_BIOBANK, etc)\n",
    "COHORT_NAME = None\n",
    "\n",
    "# reference panel such as 1000G or GTEX_V8\n",
    "REFERENCE_PANEL = None\n",
    "\n",
    "# predictions models such as MASHR or ELASTIC_NET\n",
    "EQTL_MODEL = None\n",
    "\n",
    "# a list with different distances to generate\n",
    "DISTANCES = [10, 5, 2]"
   ]
  },
  {
   "cell_type": "code",
   "execution_count": 4,
   "id": "fa52bb5c",
   "metadata": {
    "execution": {
     "iopub.execute_input": "2022-08-29T16:04:42.826773Z",
     "iopub.status.busy": "2022-08-29T16:04:42.826531Z",
     "iopub.status.idle": "2022-08-29T16:04:42.845045Z",
     "shell.execute_reply": "2022-08-29T16:04:42.844511Z"
    },
    "papermill": {
     "duration": 0.026483,
     "end_time": "2022-08-29T16:04:42.846789",
     "exception": false,
     "start_time": "2022-08-29T16:04:42.820306",
     "status": "completed"
    },
    "tags": [
     "injected-parameters"
    ]
   },
   "outputs": [],
   "source": [
    "# Parameters\n",
    "COHORT_NAME = \"phenomexcan_astle\"\n",
    "REFERENCE_PANEL = \"GTEX_V8\"\n",
    "EQTL_MODEL = \"MASHR\"\n"
   ]
  },
  {
   "cell_type": "code",
   "execution_count": 5,
   "id": "6dba5c90-40a4-4a62-899e-1711ab4e40bb",
   "metadata": {
    "execution": {
     "iopub.execute_input": "2022-08-29T16:04:42.858255Z",
     "iopub.status.busy": "2022-08-29T16:04:42.858047Z",
     "iopub.status.idle": "2022-08-29T16:04:42.879182Z",
     "shell.execute_reply": "2022-08-29T16:04:42.878557Z"
    },
    "papermill": {
     "duration": 0.028348,
     "end_time": "2022-08-29T16:04:42.880637",
     "exception": false,
     "start_time": "2022-08-29T16:04:42.852289",
     "status": "completed"
    },
    "tags": []
   },
   "outputs": [
    {
     "data": {
      "text/plain": [
       "'Cohort name: phenomexcan_astle'"
      ]
     },
     "metadata": {},
     "output_type": "display_data"
    }
   ],
   "source": [
    "assert COHORT_NAME is not None and len(COHORT_NAME) > 0, \"A cohort name must be given\"\n",
    "\n",
    "COHORT_NAME = COHORT_NAME.lower()\n",
    "display(f\"Cohort name: {COHORT_NAME}\")"
   ]
  },
  {
   "cell_type": "code",
   "execution_count": 6,
   "id": "90be4359-19db-4c2d-a3ca-202674476164",
   "metadata": {
    "execution": {
     "iopub.execute_input": "2022-08-29T16:04:42.892863Z",
     "iopub.status.busy": "2022-08-29T16:04:42.892647Z",
     "iopub.status.idle": "2022-08-29T16:04:42.913077Z",
     "shell.execute_reply": "2022-08-29T16:04:42.912510Z"
    },
    "papermill": {
     "duration": 0.028442,
     "end_time": "2022-08-29T16:04:42.914647",
     "exception": false,
     "start_time": "2022-08-29T16:04:42.886205",
     "status": "completed"
    },
    "tags": []
   },
   "outputs": [
    {
     "data": {
      "text/plain": [
       "'Reference panel: GTEX_V8'"
      ]
     },
     "metadata": {},
     "output_type": "display_data"
    }
   ],
   "source": [
    "assert (\n",
    "    REFERENCE_PANEL is not None and len(REFERENCE_PANEL) > 0\n",
    "), \"A reference panel must be given\"\n",
    "\n",
    "display(f\"Reference panel: {REFERENCE_PANEL}\")"
   ]
  },
  {
   "cell_type": "code",
   "execution_count": 7,
   "id": "d959f3f4-8f7b-4313-b3b1-37606e7250bf",
   "metadata": {
    "execution": {
     "iopub.execute_input": "2022-08-29T16:04:42.927023Z",
     "iopub.status.busy": "2022-08-29T16:04:42.926816Z",
     "iopub.status.idle": "2022-08-29T16:04:42.946421Z",
     "shell.execute_reply": "2022-08-29T16:04:42.945873Z"
    },
    "papermill": {
     "duration": 0.027951,
     "end_time": "2022-08-29T16:04:42.948056",
     "exception": false,
     "start_time": "2022-08-29T16:04:42.920105",
     "status": "completed"
    },
    "tags": []
   },
   "outputs": [
    {
     "data": {
      "text/plain": [
       "'eQTL model: MASHR)'"
      ]
     },
     "metadata": {},
     "output_type": "display_data"
    }
   ],
   "source": [
    "assert (\n",
    "    EQTL_MODEL is not None and len(EQTL_MODEL) > 0\n",
    "), \"A prediction/eQTL model must be given\"\n",
    "\n",
    "display(f\"eQTL model: {EQTL_MODEL})\")"
   ]
  },
  {
   "cell_type": "code",
   "execution_count": 8,
   "id": "ac0c0705-90e4-42f8-8298-a457c7e778ff",
   "metadata": {
    "execution": {
     "iopub.execute_input": "2022-08-29T16:04:42.960732Z",
     "iopub.status.busy": "2022-08-29T16:04:42.960517Z",
     "iopub.status.idle": "2022-08-29T16:04:42.981406Z",
     "shell.execute_reply": "2022-08-29T16:04:42.980910Z"
    },
    "papermill": {
     "duration": 0.029309,
     "end_time": "2022-08-29T16:04:42.983064",
     "exception": false,
     "start_time": "2022-08-29T16:04:42.953755",
     "status": "completed"
    },
    "tags": []
   },
   "outputs": [
    {
     "data": {
      "text/plain": [
       "'Using output dir base: /project/ritchie20/projects/phenoplier/base/results/gls/gene_corrs/cohorts/phenomexcan_astle/gtex_v8/mashr'"
      ]
     },
     "metadata": {},
     "output_type": "display_data"
    }
   ],
   "source": [
    "OUTPUT_DIR_BASE = (\n",
    "    conf.RESULTS[\"GLS\"]\n",
    "    / \"gene_corrs\"\n",
    "    / \"cohorts\"\n",
    "    / COHORT_NAME\n",
    "    / REFERENCE_PANEL.lower()\n",
    "    / EQTL_MODEL.lower()\n",
    ")\n",
    "assert OUTPUT_DIR_BASE.exists()\n",
    "\n",
    "display(f\"Using output dir base: {OUTPUT_DIR_BASE}\")"
   ]
  },
  {
   "cell_type": "markdown",
   "id": "99ccb166",
   "metadata": {
    "papermill": {
     "duration": 0.005637,
     "end_time": "2022-08-29T16:04:42.994517",
     "exception": false,
     "start_time": "2022-08-29T16:04:42.988880",
     "status": "completed"
    },
    "tags": []
   },
   "source": [
    "# Load data"
   ]
  },
  {
   "cell_type": "markdown",
   "id": "028bdd42",
   "metadata": {
    "papermill": {
     "duration": 0.005554,
     "end_time": "2022-08-29T16:04:43.006203",
     "exception": false,
     "start_time": "2022-08-29T16:04:43.000649",
     "status": "completed"
    },
    "tags": []
   },
   "source": [
    "## Gene correlations"
   ]
  },
  {
   "cell_type": "code",
   "execution_count": 9,
   "id": "04624465",
   "metadata": {
    "execution": {
     "iopub.execute_input": "2022-08-29T16:04:43.018885Z",
     "iopub.status.busy": "2022-08-29T16:04:43.018660Z",
     "iopub.status.idle": "2022-08-29T16:04:43.578980Z",
     "shell.execute_reply": "2022-08-29T16:04:43.578351Z"
    },
    "papermill": {
     "duration": 0.569177,
     "end_time": "2022-08-29T16:04:43.581012",
     "exception": false,
     "start_time": "2022-08-29T16:04:43.011835",
     "status": "completed"
    },
    "tags": []
   },
   "outputs": [],
   "source": [
    "gene_corrs = pd.read_pickle(OUTPUT_DIR_BASE / \"gene_corrs-symbols.pkl\")"
   ]
  },
  {
   "cell_type": "code",
   "execution_count": 10,
   "id": "be5869e7-d0e4-4b8f-8c6d-a1c6a9419fe2",
   "metadata": {
    "execution": {
     "iopub.execute_input": "2022-08-29T16:04:43.594105Z",
     "iopub.status.busy": "2022-08-29T16:04:43.593899Z",
     "iopub.status.idle": "2022-08-29T16:04:43.616319Z",
     "shell.execute_reply": "2022-08-29T16:04:43.615472Z"
    },
    "papermill": {
     "duration": 0.030332,
     "end_time": "2022-08-29T16:04:43.617999",
     "exception": false,
     "start_time": "2022-08-29T16:04:43.587667",
     "status": "completed"
    },
    "tags": []
   },
   "outputs": [
    {
     "data": {
      "text/plain": [
       "(6450, 6450)"
      ]
     },
     "execution_count": 10,
     "metadata": {},
     "output_type": "execute_result"
    }
   ],
   "source": [
    "gene_corrs.shape"
   ]
  },
  {
   "cell_type": "code",
   "execution_count": 11,
   "id": "8a47b0fc-fdf2-45e8-baa9-b203a2b0e74b",
   "metadata": {
    "execution": {
     "iopub.execute_input": "2022-08-29T16:04:43.631544Z",
     "iopub.status.busy": "2022-08-29T16:04:43.631333Z",
     "iopub.status.idle": "2022-08-29T16:04:43.669306Z",
     "shell.execute_reply": "2022-08-29T16:04:43.668763Z"
    },
    "papermill": {
     "duration": 0.046749,
     "end_time": "2022-08-29T16:04:43.670861",
     "exception": false,
     "start_time": "2022-08-29T16:04:43.624112",
     "status": "completed"
    },
    "tags": []
   },
   "outputs": [
    {
     "data": {
      "text/html": [
       "<div>\n",
       "<style scoped>\n",
       "    .dataframe tbody tr th:only-of-type {\n",
       "        vertical-align: middle;\n",
       "    }\n",
       "\n",
       "    .dataframe tbody tr th {\n",
       "        vertical-align: top;\n",
       "    }\n",
       "\n",
       "    .dataframe thead th {\n",
       "        text-align: right;\n",
       "    }\n",
       "</style>\n",
       "<table border=\"1\" class=\"dataframe\">\n",
       "  <thead>\n",
       "    <tr style=\"text-align: right;\">\n",
       "      <th></th>\n",
       "      <th>NOC2L</th>\n",
       "      <th>HES4</th>\n",
       "      <th>ISG15</th>\n",
       "      <th>AGRN</th>\n",
       "      <th>TNFRSF18</th>\n",
       "      <th>TNFRSF4</th>\n",
       "      <th>B3GALT6</th>\n",
       "      <th>UBE2J2</th>\n",
       "      <th>ACAP3</th>\n",
       "      <th>TAS1R3</th>\n",
       "      <th>...</th>\n",
       "      <th>PLXNB2</th>\n",
       "      <th>ADM2</th>\n",
       "      <th>MIOX</th>\n",
       "      <th>SCO2</th>\n",
       "      <th>TYMP</th>\n",
       "      <th>CPT1B</th>\n",
       "      <th>CHKB</th>\n",
       "      <th>MAPK8IP2</th>\n",
       "      <th>ARSA</th>\n",
       "      <th>SHANK3</th>\n",
       "    </tr>\n",
       "  </thead>\n",
       "  <tbody>\n",
       "    <tr>\n",
       "      <th>NOC2L</th>\n",
       "      <td>1.000000</td>\n",
       "      <td>0.111648</td>\n",
       "      <td>0.187064</td>\n",
       "      <td>0.083062</td>\n",
       "      <td>0.006659</td>\n",
       "      <td>0.006887</td>\n",
       "      <td>0.004603</td>\n",
       "      <td>0.011059</td>\n",
       "      <td>0.011335</td>\n",
       "      <td>0.007667</td>\n",
       "      <td>...</td>\n",
       "      <td>0.0</td>\n",
       "      <td>0.0</td>\n",
       "      <td>0.0</td>\n",
       "      <td>0.0</td>\n",
       "      <td>0.0</td>\n",
       "      <td>0.0</td>\n",
       "      <td>0.0</td>\n",
       "      <td>0.0</td>\n",
       "      <td>0.0</td>\n",
       "      <td>0.0</td>\n",
       "    </tr>\n",
       "    <tr>\n",
       "      <th>HES4</th>\n",
       "      <td>0.111648</td>\n",
       "      <td>1.000000</td>\n",
       "      <td>0.760347</td>\n",
       "      <td>0.394843</td>\n",
       "      <td>0.011284</td>\n",
       "      <td>0.008897</td>\n",
       "      <td>0.005317</td>\n",
       "      <td>0.006876</td>\n",
       "      <td>0.002582</td>\n",
       "      <td>0.005084</td>\n",
       "      <td>...</td>\n",
       "      <td>0.0</td>\n",
       "      <td>0.0</td>\n",
       "      <td>0.0</td>\n",
       "      <td>0.0</td>\n",
       "      <td>0.0</td>\n",
       "      <td>0.0</td>\n",
       "      <td>0.0</td>\n",
       "      <td>0.0</td>\n",
       "      <td>0.0</td>\n",
       "      <td>0.0</td>\n",
       "    </tr>\n",
       "    <tr>\n",
       "      <th>ISG15</th>\n",
       "      <td>0.187064</td>\n",
       "      <td>0.760347</td>\n",
       "      <td>1.000000</td>\n",
       "      <td>0.348268</td>\n",
       "      <td>0.011228</td>\n",
       "      <td>0.010204</td>\n",
       "      <td>0.006492</td>\n",
       "      <td>0.010893</td>\n",
       "      <td>0.003592</td>\n",
       "      <td>0.009454</td>\n",
       "      <td>...</td>\n",
       "      <td>0.0</td>\n",
       "      <td>0.0</td>\n",
       "      <td>0.0</td>\n",
       "      <td>0.0</td>\n",
       "      <td>0.0</td>\n",
       "      <td>0.0</td>\n",
       "      <td>0.0</td>\n",
       "      <td>0.0</td>\n",
       "      <td>0.0</td>\n",
       "      <td>0.0</td>\n",
       "    </tr>\n",
       "    <tr>\n",
       "      <th>AGRN</th>\n",
       "      <td>0.083062</td>\n",
       "      <td>0.394843</td>\n",
       "      <td>0.348268</td>\n",
       "      <td>1.000000</td>\n",
       "      <td>0.006882</td>\n",
       "      <td>0.013548</td>\n",
       "      <td>0.001546</td>\n",
       "      <td>0.002285</td>\n",
       "      <td>0.003513</td>\n",
       "      <td>0.008510</td>\n",
       "      <td>...</td>\n",
       "      <td>0.0</td>\n",
       "      <td>0.0</td>\n",
       "      <td>0.0</td>\n",
       "      <td>0.0</td>\n",
       "      <td>0.0</td>\n",
       "      <td>0.0</td>\n",
       "      <td>0.0</td>\n",
       "      <td>0.0</td>\n",
       "      <td>0.0</td>\n",
       "      <td>0.0</td>\n",
       "    </tr>\n",
       "    <tr>\n",
       "      <th>TNFRSF18</th>\n",
       "      <td>0.006659</td>\n",
       "      <td>0.011284</td>\n",
       "      <td>0.011228</td>\n",
       "      <td>0.006882</td>\n",
       "      <td>1.000000</td>\n",
       "      <td>0.337836</td>\n",
       "      <td>0.551124</td>\n",
       "      <td>0.154373</td>\n",
       "      <td>0.193531</td>\n",
       "      <td>0.090832</td>\n",
       "      <td>...</td>\n",
       "      <td>0.0</td>\n",
       "      <td>0.0</td>\n",
       "      <td>0.0</td>\n",
       "      <td>0.0</td>\n",
       "      <td>0.0</td>\n",
       "      <td>0.0</td>\n",
       "      <td>0.0</td>\n",
       "      <td>0.0</td>\n",
       "      <td>0.0</td>\n",
       "      <td>0.0</td>\n",
       "    </tr>\n",
       "  </tbody>\n",
       "</table>\n",
       "<p>5 rows × 6450 columns</p>\n",
       "</div>"
      ],
      "text/plain": [
       "             NOC2L      HES4     ISG15      AGRN  TNFRSF18   TNFRSF4  \\\n",
       "NOC2L     1.000000  0.111648  0.187064  0.083062  0.006659  0.006887   \n",
       "HES4      0.111648  1.000000  0.760347  0.394843  0.011284  0.008897   \n",
       "ISG15     0.187064  0.760347  1.000000  0.348268  0.011228  0.010204   \n",
       "AGRN      0.083062  0.394843  0.348268  1.000000  0.006882  0.013548   \n",
       "TNFRSF18  0.006659  0.011284  0.011228  0.006882  1.000000  0.337836   \n",
       "\n",
       "           B3GALT6    UBE2J2     ACAP3    TAS1R3  ...  PLXNB2  ADM2  MIOX  \\\n",
       "NOC2L     0.004603  0.011059  0.011335  0.007667  ...     0.0   0.0   0.0   \n",
       "HES4      0.005317  0.006876  0.002582  0.005084  ...     0.0   0.0   0.0   \n",
       "ISG15     0.006492  0.010893  0.003592  0.009454  ...     0.0   0.0   0.0   \n",
       "AGRN      0.001546  0.002285  0.003513  0.008510  ...     0.0   0.0   0.0   \n",
       "TNFRSF18  0.551124  0.154373  0.193531  0.090832  ...     0.0   0.0   0.0   \n",
       "\n",
       "          SCO2  TYMP  CPT1B  CHKB  MAPK8IP2  ARSA  SHANK3  \n",
       "NOC2L      0.0   0.0    0.0   0.0       0.0   0.0     0.0  \n",
       "HES4       0.0   0.0    0.0   0.0       0.0   0.0     0.0  \n",
       "ISG15      0.0   0.0    0.0   0.0       0.0   0.0     0.0  \n",
       "AGRN       0.0   0.0    0.0   0.0       0.0   0.0     0.0  \n",
       "TNFRSF18   0.0   0.0    0.0   0.0       0.0   0.0     0.0  \n",
       "\n",
       "[5 rows x 6450 columns]"
      ]
     },
     "execution_count": 11,
     "metadata": {},
     "output_type": "execute_result"
    }
   ],
   "source": [
    "gene_corrs.head()"
   ]
  },
  {
   "cell_type": "code",
   "execution_count": 12,
   "id": "16c50875-d781-4681-b683-5b74f639258c",
   "metadata": {
    "execution": {
     "iopub.execute_input": "2022-08-29T16:04:43.684493Z",
     "iopub.status.busy": "2022-08-29T16:04:43.684294Z",
     "iopub.status.idle": "2022-08-29T16:04:44.047734Z",
     "shell.execute_reply": "2022-08-29T16:04:44.047082Z"
    },
    "papermill": {
     "duration": 0.372123,
     "end_time": "2022-08-29T16:04:44.049517",
     "exception": false,
     "start_time": "2022-08-29T16:04:43.677394",
     "status": "completed"
    },
    "tags": []
   },
   "outputs": [
    {
     "data": {
      "text/plain": [
       "'Number of genes with correlations with other genes: 6450'"
      ]
     },
     "metadata": {},
     "output_type": "display_data"
    }
   ],
   "source": [
    "genes_corrs_sum = gene_corrs.sum()\n",
    "n_genes_included = genes_corrs_sum[genes_corrs_sum > 1.0].shape[0]\n",
    "display(f\"Number of genes with correlations with other genes: {n_genes_included}\")"
   ]
  },
  {
   "cell_type": "code",
   "execution_count": 13,
   "id": "02484bfa-bae0-404b-9f3b-a82f1fc3f227",
   "metadata": {
    "execution": {
     "iopub.execute_input": "2022-08-29T16:04:44.063488Z",
     "iopub.status.busy": "2022-08-29T16:04:44.063225Z",
     "iopub.status.idle": "2022-08-29T16:04:44.295470Z",
     "shell.execute_reply": "2022-08-29T16:04:44.294882Z"
    },
    "papermill": {
     "duration": 0.240993,
     "end_time": "2022-08-29T16:04:44.297137",
     "exception": false,
     "start_time": "2022-08-29T16:04:44.056144",
     "status": "completed"
    },
    "tags": []
   },
   "outputs": [
    {
     "data": {
      "text/plain": [
       "'Number of nonzero cells: 2363924'"
      ]
     },
     "metadata": {},
     "output_type": "display_data"
    }
   ],
   "source": [
    "genes_corrs_nonzero_sum = (gene_corrs > 0.0).astype(int).sum().sum()\n",
    "display(f\"Number of nonzero cells: {genes_corrs_nonzero_sum}\")"
   ]
  },
  {
   "cell_type": "markdown",
   "id": "99d01a88-2f71-41eb-a423-a17378bbb174",
   "metadata": {
    "papermill": {
     "duration": 0.006846,
     "end_time": "2022-08-29T16:04:44.310939",
     "exception": false,
     "start_time": "2022-08-29T16:04:44.304093",
     "status": "completed"
    },
    "tags": []
   },
   "source": [
    "## Get gene objects"
   ]
  },
  {
   "cell_type": "code",
   "execution_count": 14,
   "id": "6a5e95f0-eeab-4716-8982-b1dbbd8763d8",
   "metadata": {
    "execution": {
     "iopub.execute_input": "2022-08-29T16:04:44.324950Z",
     "iopub.status.busy": "2022-08-29T16:04:44.324712Z",
     "iopub.status.idle": "2022-08-29T16:04:44.372721Z",
     "shell.execute_reply": "2022-08-29T16:04:44.372196Z"
    },
    "papermill": {
     "duration": 0.056975,
     "end_time": "2022-08-29T16:04:44.374396",
     "exception": false,
     "start_time": "2022-08-29T16:04:44.317421",
     "status": "completed"
    },
    "tags": []
   },
   "outputs": [],
   "source": [
    "gene_objs = [Gene(name=gene_name) for gene_name in gene_corrs.index]"
   ]
  },
  {
   "cell_type": "code",
   "execution_count": 15,
   "id": "81ca7c6e-69c4-48c4-b44f-ec9a2b8bb527",
   "metadata": {
    "execution": {
     "iopub.execute_input": "2022-08-29T16:04:44.389295Z",
     "iopub.status.busy": "2022-08-29T16:04:44.389044Z",
     "iopub.status.idle": "2022-08-29T16:04:44.410814Z",
     "shell.execute_reply": "2022-08-29T16:04:44.410238Z"
    },
    "papermill": {
     "duration": 0.030585,
     "end_time": "2022-08-29T16:04:44.412269",
     "exception": false,
     "start_time": "2022-08-29T16:04:44.381684",
     "status": "completed"
    },
    "tags": []
   },
   "outputs": [
    {
     "data": {
      "text/plain": [
       "6450"
      ]
     },
     "metadata": {},
     "output_type": "display_data"
    }
   ],
   "source": [
    "display(len(gene_objs))"
   ]
  },
  {
   "cell_type": "markdown",
   "id": "0bc01310-5d9c-4355-8064-b67c5a22311c",
   "metadata": {
    "papermill": {
     "duration": 0.006506,
     "end_time": "2022-08-29T16:04:44.425509",
     "exception": false,
     "start_time": "2022-08-29T16:04:44.419003",
     "status": "completed"
    },
    "tags": []
   },
   "source": [
    "# Subset full correlation matrix using difference \"within distances\" across genes"
   ]
  },
  {
   "cell_type": "code",
   "execution_count": 16,
   "id": "85db0d88-7bd5-4cfd-a9b2-6dc07353ecff",
   "metadata": {
    "execution": {
     "iopub.execute_input": "2022-08-29T16:04:44.469700Z",
     "iopub.status.busy": "2022-08-29T16:04:44.469447Z",
     "iopub.status.idle": "2022-08-29T16:12:54.414561Z",
     "shell.execute_reply": "2022-08-29T16:12:54.413828Z"
    },
    "papermill": {
     "duration": 489.954777,
     "end_time": "2022-08-29T16:12:54.416354",
     "exception": false,
     "start_time": "2022-08-29T16:04:44.461577",
     "status": "completed"
    },
    "tags": []
   },
   "outputs": [
    {
     "name": "stdout",
     "output_type": "stream",
     "text": [
      "Using within distance: 5.0\n"
     ]
    },
    {
     "data": {
      "text/html": [
       "<div>\n",
       "<style scoped>\n",
       "    .dataframe tbody tr th:only-of-type {\n",
       "        vertical-align: middle;\n",
       "    }\n",
       "\n",
       "    .dataframe tbody tr th {\n",
       "        vertical-align: top;\n",
       "    }\n",
       "\n",
       "    .dataframe thead th {\n",
       "        text-align: right;\n",
       "    }\n",
       "</style>\n",
       "<table border=\"1\" class=\"dataframe\">\n",
       "  <thead>\n",
       "    <tr style=\"text-align: right;\">\n",
       "      <th></th>\n",
       "      <th>NOC2L</th>\n",
       "      <th>HES4</th>\n",
       "      <th>ISG15</th>\n",
       "      <th>AGRN</th>\n",
       "      <th>TNFRSF18</th>\n",
       "      <th>TNFRSF4</th>\n",
       "      <th>B3GALT6</th>\n",
       "      <th>UBE2J2</th>\n",
       "      <th>ACAP3</th>\n",
       "      <th>TAS1R3</th>\n",
       "      <th>...</th>\n",
       "      <th>PLXNB2</th>\n",
       "      <th>ADM2</th>\n",
       "      <th>MIOX</th>\n",
       "      <th>SCO2</th>\n",
       "      <th>TYMP</th>\n",
       "      <th>CPT1B</th>\n",
       "      <th>CHKB</th>\n",
       "      <th>MAPK8IP2</th>\n",
       "      <th>ARSA</th>\n",
       "      <th>SHANK3</th>\n",
       "    </tr>\n",
       "  </thead>\n",
       "  <tbody>\n",
       "    <tr>\n",
       "      <th>NOC2L</th>\n",
       "      <td>1.000000</td>\n",
       "      <td>0.111648</td>\n",
       "      <td>0.187064</td>\n",
       "      <td>0.083062</td>\n",
       "      <td>0.006659</td>\n",
       "      <td>0.006887</td>\n",
       "      <td>0.004603</td>\n",
       "      <td>0.011059</td>\n",
       "      <td>0.011335</td>\n",
       "      <td>0.007667</td>\n",
       "      <td>...</td>\n",
       "      <td>0.000000</td>\n",
       "      <td>0.000000</td>\n",
       "      <td>0.000000</td>\n",
       "      <td>0.000000</td>\n",
       "      <td>0.000000</td>\n",
       "      <td>0.000000</td>\n",
       "      <td>0.000000</td>\n",
       "      <td>0.000000</td>\n",
       "      <td>0.000000</td>\n",
       "      <td>0.000000</td>\n",
       "    </tr>\n",
       "    <tr>\n",
       "      <th>HES4</th>\n",
       "      <td>0.111648</td>\n",
       "      <td>1.000000</td>\n",
       "      <td>0.760347</td>\n",
       "      <td>0.394843</td>\n",
       "      <td>0.011284</td>\n",
       "      <td>0.008897</td>\n",
       "      <td>0.005317</td>\n",
       "      <td>0.006876</td>\n",
       "      <td>0.002582</td>\n",
       "      <td>0.005084</td>\n",
       "      <td>...</td>\n",
       "      <td>0.000000</td>\n",
       "      <td>0.000000</td>\n",
       "      <td>0.000000</td>\n",
       "      <td>0.000000</td>\n",
       "      <td>0.000000</td>\n",
       "      <td>0.000000</td>\n",
       "      <td>0.000000</td>\n",
       "      <td>0.000000</td>\n",
       "      <td>0.000000</td>\n",
       "      <td>0.000000</td>\n",
       "    </tr>\n",
       "    <tr>\n",
       "      <th>ISG15</th>\n",
       "      <td>0.187064</td>\n",
       "      <td>0.760347</td>\n",
       "      <td>1.000000</td>\n",
       "      <td>0.348268</td>\n",
       "      <td>0.011228</td>\n",
       "      <td>0.010204</td>\n",
       "      <td>0.006492</td>\n",
       "      <td>0.010893</td>\n",
       "      <td>0.003592</td>\n",
       "      <td>0.009454</td>\n",
       "      <td>...</td>\n",
       "      <td>0.000000</td>\n",
       "      <td>0.000000</td>\n",
       "      <td>0.000000</td>\n",
       "      <td>0.000000</td>\n",
       "      <td>0.000000</td>\n",
       "      <td>0.000000</td>\n",
       "      <td>0.000000</td>\n",
       "      <td>0.000000</td>\n",
       "      <td>0.000000</td>\n",
       "      <td>0.000000</td>\n",
       "    </tr>\n",
       "    <tr>\n",
       "      <th>AGRN</th>\n",
       "      <td>0.083062</td>\n",
       "      <td>0.394843</td>\n",
       "      <td>0.348268</td>\n",
       "      <td>1.000000</td>\n",
       "      <td>0.006882</td>\n",
       "      <td>0.013548</td>\n",
       "      <td>0.001546</td>\n",
       "      <td>0.002285</td>\n",
       "      <td>0.003513</td>\n",
       "      <td>0.008510</td>\n",
       "      <td>...</td>\n",
       "      <td>0.000000</td>\n",
       "      <td>0.000000</td>\n",
       "      <td>0.000000</td>\n",
       "      <td>0.000000</td>\n",
       "      <td>0.000000</td>\n",
       "      <td>0.000000</td>\n",
       "      <td>0.000000</td>\n",
       "      <td>0.000000</td>\n",
       "      <td>0.000000</td>\n",
       "      <td>0.000000</td>\n",
       "    </tr>\n",
       "    <tr>\n",
       "      <th>TNFRSF18</th>\n",
       "      <td>0.006659</td>\n",
       "      <td>0.011284</td>\n",
       "      <td>0.011228</td>\n",
       "      <td>0.006882</td>\n",
       "      <td>1.000000</td>\n",
       "      <td>0.337836</td>\n",
       "      <td>0.551124</td>\n",
       "      <td>0.154373</td>\n",
       "      <td>0.193531</td>\n",
       "      <td>0.090832</td>\n",
       "      <td>...</td>\n",
       "      <td>0.000000</td>\n",
       "      <td>0.000000</td>\n",
       "      <td>0.000000</td>\n",
       "      <td>0.000000</td>\n",
       "      <td>0.000000</td>\n",
       "      <td>0.000000</td>\n",
       "      <td>0.000000</td>\n",
       "      <td>0.000000</td>\n",
       "      <td>0.000000</td>\n",
       "      <td>0.000000</td>\n",
       "    </tr>\n",
       "    <tr>\n",
       "      <th>...</th>\n",
       "      <td>...</td>\n",
       "      <td>...</td>\n",
       "      <td>...</td>\n",
       "      <td>...</td>\n",
       "      <td>...</td>\n",
       "      <td>...</td>\n",
       "      <td>...</td>\n",
       "      <td>...</td>\n",
       "      <td>...</td>\n",
       "      <td>...</td>\n",
       "      <td>...</td>\n",
       "      <td>...</td>\n",
       "      <td>...</td>\n",
       "      <td>...</td>\n",
       "      <td>...</td>\n",
       "      <td>...</td>\n",
       "      <td>...</td>\n",
       "      <td>...</td>\n",
       "      <td>...</td>\n",
       "      <td>...</td>\n",
       "      <td>...</td>\n",
       "    </tr>\n",
       "    <tr>\n",
       "      <th>CPT1B</th>\n",
       "      <td>0.000000</td>\n",
       "      <td>0.000000</td>\n",
       "      <td>0.000000</td>\n",
       "      <td>0.000000</td>\n",
       "      <td>0.000000</td>\n",
       "      <td>0.000000</td>\n",
       "      <td>0.000000</td>\n",
       "      <td>0.000000</td>\n",
       "      <td>0.000000</td>\n",
       "      <td>0.000000</td>\n",
       "      <td>...</td>\n",
       "      <td>0.018582</td>\n",
       "      <td>0.046440</td>\n",
       "      <td>0.013164</td>\n",
       "      <td>0.256685</td>\n",
       "      <td>0.217213</td>\n",
       "      <td>1.000000</td>\n",
       "      <td>0.735570</td>\n",
       "      <td>0.180608</td>\n",
       "      <td>0.035560</td>\n",
       "      <td>0.009659</td>\n",
       "    </tr>\n",
       "    <tr>\n",
       "      <th>CHKB</th>\n",
       "      <td>0.000000</td>\n",
       "      <td>0.000000</td>\n",
       "      <td>0.000000</td>\n",
       "      <td>0.000000</td>\n",
       "      <td>0.000000</td>\n",
       "      <td>0.000000</td>\n",
       "      <td>0.000000</td>\n",
       "      <td>0.000000</td>\n",
       "      <td>0.000000</td>\n",
       "      <td>0.000000</td>\n",
       "      <td>...</td>\n",
       "      <td>0.030880</td>\n",
       "      <td>0.047012</td>\n",
       "      <td>0.013125</td>\n",
       "      <td>0.208761</td>\n",
       "      <td>0.205824</td>\n",
       "      <td>0.735570</td>\n",
       "      <td>1.000000</td>\n",
       "      <td>0.249788</td>\n",
       "      <td>0.041717</td>\n",
       "      <td>0.020105</td>\n",
       "    </tr>\n",
       "    <tr>\n",
       "      <th>MAPK8IP2</th>\n",
       "      <td>0.000000</td>\n",
       "      <td>0.000000</td>\n",
       "      <td>0.000000</td>\n",
       "      <td>0.000000</td>\n",
       "      <td>0.000000</td>\n",
       "      <td>0.000000</td>\n",
       "      <td>0.000000</td>\n",
       "      <td>0.000000</td>\n",
       "      <td>0.000000</td>\n",
       "      <td>0.000000</td>\n",
       "      <td>...</td>\n",
       "      <td>0.044312</td>\n",
       "      <td>0.093409</td>\n",
       "      <td>0.066327</td>\n",
       "      <td>0.052375</td>\n",
       "      <td>0.125790</td>\n",
       "      <td>0.180608</td>\n",
       "      <td>0.249788</td>\n",
       "      <td>1.000000</td>\n",
       "      <td>0.205484</td>\n",
       "      <td>0.040795</td>\n",
       "    </tr>\n",
       "    <tr>\n",
       "      <th>ARSA</th>\n",
       "      <td>0.000000</td>\n",
       "      <td>0.000000</td>\n",
       "      <td>0.000000</td>\n",
       "      <td>0.000000</td>\n",
       "      <td>0.000000</td>\n",
       "      <td>0.000000</td>\n",
       "      <td>0.000000</td>\n",
       "      <td>0.000000</td>\n",
       "      <td>0.000000</td>\n",
       "      <td>0.000000</td>\n",
       "      <td>...</td>\n",
       "      <td>0.012015</td>\n",
       "      <td>0.027591</td>\n",
       "      <td>0.021492</td>\n",
       "      <td>0.027293</td>\n",
       "      <td>0.035763</td>\n",
       "      <td>0.035560</td>\n",
       "      <td>0.041717</td>\n",
       "      <td>0.205484</td>\n",
       "      <td>1.000000</td>\n",
       "      <td>0.013757</td>\n",
       "    </tr>\n",
       "    <tr>\n",
       "      <th>SHANK3</th>\n",
       "      <td>0.000000</td>\n",
       "      <td>0.000000</td>\n",
       "      <td>0.000000</td>\n",
       "      <td>0.000000</td>\n",
       "      <td>0.000000</td>\n",
       "      <td>0.000000</td>\n",
       "      <td>0.000000</td>\n",
       "      <td>0.000000</td>\n",
       "      <td>0.000000</td>\n",
       "      <td>0.000000</td>\n",
       "      <td>...</td>\n",
       "      <td>0.009648</td>\n",
       "      <td>0.009185</td>\n",
       "      <td>0.003298</td>\n",
       "      <td>0.002652</td>\n",
       "      <td>0.002527</td>\n",
       "      <td>0.009659</td>\n",
       "      <td>0.020105</td>\n",
       "      <td>0.040795</td>\n",
       "      <td>0.013757</td>\n",
       "      <td>1.000000</td>\n",
       "    </tr>\n",
       "  </tbody>\n",
       "</table>\n",
       "<p>6450 rows × 6450 columns</p>\n",
       "</div>"
      ],
      "text/plain": [
       "             NOC2L      HES4     ISG15      AGRN  TNFRSF18   TNFRSF4  \\\n",
       "NOC2L     1.000000  0.111648  0.187064  0.083062  0.006659  0.006887   \n",
       "HES4      0.111648  1.000000  0.760347  0.394843  0.011284  0.008897   \n",
       "ISG15     0.187064  0.760347  1.000000  0.348268  0.011228  0.010204   \n",
       "AGRN      0.083062  0.394843  0.348268  1.000000  0.006882  0.013548   \n",
       "TNFRSF18  0.006659  0.011284  0.011228  0.006882  1.000000  0.337836   \n",
       "...            ...       ...       ...       ...       ...       ...   \n",
       "CPT1B     0.000000  0.000000  0.000000  0.000000  0.000000  0.000000   \n",
       "CHKB      0.000000  0.000000  0.000000  0.000000  0.000000  0.000000   \n",
       "MAPK8IP2  0.000000  0.000000  0.000000  0.000000  0.000000  0.000000   \n",
       "ARSA      0.000000  0.000000  0.000000  0.000000  0.000000  0.000000   \n",
       "SHANK3    0.000000  0.000000  0.000000  0.000000  0.000000  0.000000   \n",
       "\n",
       "           B3GALT6    UBE2J2     ACAP3    TAS1R3  ...    PLXNB2      ADM2  \\\n",
       "NOC2L     0.004603  0.011059  0.011335  0.007667  ...  0.000000  0.000000   \n",
       "HES4      0.005317  0.006876  0.002582  0.005084  ...  0.000000  0.000000   \n",
       "ISG15     0.006492  0.010893  0.003592  0.009454  ...  0.000000  0.000000   \n",
       "AGRN      0.001546  0.002285  0.003513  0.008510  ...  0.000000  0.000000   \n",
       "TNFRSF18  0.551124  0.154373  0.193531  0.090832  ...  0.000000  0.000000   \n",
       "...            ...       ...       ...       ...  ...       ...       ...   \n",
       "CPT1B     0.000000  0.000000  0.000000  0.000000  ...  0.018582  0.046440   \n",
       "CHKB      0.000000  0.000000  0.000000  0.000000  ...  0.030880  0.047012   \n",
       "MAPK8IP2  0.000000  0.000000  0.000000  0.000000  ...  0.044312  0.093409   \n",
       "ARSA      0.000000  0.000000  0.000000  0.000000  ...  0.012015  0.027591   \n",
       "SHANK3    0.000000  0.000000  0.000000  0.000000  ...  0.009648  0.009185   \n",
       "\n",
       "              MIOX      SCO2      TYMP     CPT1B      CHKB  MAPK8IP2  \\\n",
       "NOC2L     0.000000  0.000000  0.000000  0.000000  0.000000  0.000000   \n",
       "HES4      0.000000  0.000000  0.000000  0.000000  0.000000  0.000000   \n",
       "ISG15     0.000000  0.000000  0.000000  0.000000  0.000000  0.000000   \n",
       "AGRN      0.000000  0.000000  0.000000  0.000000  0.000000  0.000000   \n",
       "TNFRSF18  0.000000  0.000000  0.000000  0.000000  0.000000  0.000000   \n",
       "...            ...       ...       ...       ...       ...       ...   \n",
       "CPT1B     0.013164  0.256685  0.217213  1.000000  0.735570  0.180608   \n",
       "CHKB      0.013125  0.208761  0.205824  0.735570  1.000000  0.249788   \n",
       "MAPK8IP2  0.066327  0.052375  0.125790  0.180608  0.249788  1.000000   \n",
       "ARSA      0.021492  0.027293  0.035763  0.035560  0.041717  0.205484   \n",
       "SHANK3    0.003298  0.002652  0.002527  0.009659  0.020105  0.040795   \n",
       "\n",
       "              ARSA    SHANK3  \n",
       "NOC2L     0.000000  0.000000  \n",
       "HES4      0.000000  0.000000  \n",
       "ISG15     0.000000  0.000000  \n",
       "AGRN      0.000000  0.000000  \n",
       "TNFRSF18  0.000000  0.000000  \n",
       "...            ...       ...  \n",
       "CPT1B     0.035560  0.009659  \n",
       "CHKB      0.041717  0.020105  \n",
       "MAPK8IP2  0.205484  0.040795  \n",
       "ARSA      1.000000  0.013757  \n",
       "SHANK3    0.013757  1.000000  \n",
       "\n",
       "[6450 rows x 6450 columns]"
      ]
     },
     "metadata": {},
     "output_type": "display_data"
    },
    {
     "data": {
      "text/plain": [
       "'Number of negative eigenvalues: 0'"
      ]
     },
     "metadata": {},
     "output_type": "display_data"
    },
    {
     "data": {
      "text/plain": [
       "'Negative eigenvalues:\\n[]'"
      ]
     },
     "metadata": {},
     "output_type": "display_data"
    },
    {
     "name": "stdout",
     "output_type": "stream",
     "text": [
      "Works! (statsmodels.GLS)\n",
      "Works!\n",
      "all good.\n"
     ]
    },
    {
     "data": {
      "text/plain": [
       "'Number of genes with correlations with other genes: 6450'"
      ]
     },
     "metadata": {},
     "output_type": "display_data"
    },
    {
     "data": {
      "text/plain": [
       "'Number of nonzero cells: 446888'"
      ]
     },
     "metadata": {},
     "output_type": "display_data"
    },
    {
     "data": {
      "text/plain": [
       "count               20798025.0\n",
       "mean     0.0001912420209368383\n",
       "std       0.006869588775880235\n",
       "min                        0.0\n",
       "25%                        0.0\n",
       "50%                        0.0\n",
       "75%                        0.0\n",
       "max         0.9999975042224853\n",
       "dtype: object"
      ]
     },
     "metadata": {},
     "output_type": "display_data"
    },
    {
     "data": {
      "text/plain": [
       "PosixPath('/project/ritchie20/projects/phenoplier/base/results/gls/gene_corrs/cohorts/phenomexcan_astle/gtex_v8/mashr/gene_corrs-symbols-within_distance_10mb.pkl')"
      ]
     },
     "metadata": {},
     "output_type": "display_data"
    },
    {
     "name": "stdout",
     "output_type": "stream",
     "text": [
      "\n",
      "\n",
      "Using within distance: 2.5\n"
     ]
    },
    {
     "data": {
      "text/html": [
       "<div>\n",
       "<style scoped>\n",
       "    .dataframe tbody tr th:only-of-type {\n",
       "        vertical-align: middle;\n",
       "    }\n",
       "\n",
       "    .dataframe tbody tr th {\n",
       "        vertical-align: top;\n",
       "    }\n",
       "\n",
       "    .dataframe thead th {\n",
       "        text-align: right;\n",
       "    }\n",
       "</style>\n",
       "<table border=\"1\" class=\"dataframe\">\n",
       "  <thead>\n",
       "    <tr style=\"text-align: right;\">\n",
       "      <th></th>\n",
       "      <th>NOC2L</th>\n",
       "      <th>HES4</th>\n",
       "      <th>ISG15</th>\n",
       "      <th>AGRN</th>\n",
       "      <th>TNFRSF18</th>\n",
       "      <th>TNFRSF4</th>\n",
       "      <th>B3GALT6</th>\n",
       "      <th>UBE2J2</th>\n",
       "      <th>ACAP3</th>\n",
       "      <th>TAS1R3</th>\n",
       "      <th>...</th>\n",
       "      <th>PLXNB2</th>\n",
       "      <th>ADM2</th>\n",
       "      <th>MIOX</th>\n",
       "      <th>SCO2</th>\n",
       "      <th>TYMP</th>\n",
       "      <th>CPT1B</th>\n",
       "      <th>CHKB</th>\n",
       "      <th>MAPK8IP2</th>\n",
       "      <th>ARSA</th>\n",
       "      <th>SHANK3</th>\n",
       "    </tr>\n",
       "  </thead>\n",
       "  <tbody>\n",
       "    <tr>\n",
       "      <th>NOC2L</th>\n",
       "      <td>1.000000</td>\n",
       "      <td>0.111648</td>\n",
       "      <td>0.187064</td>\n",
       "      <td>0.083062</td>\n",
       "      <td>0.006659</td>\n",
       "      <td>0.006887</td>\n",
       "      <td>0.004603</td>\n",
       "      <td>0.011059</td>\n",
       "      <td>0.011335</td>\n",
       "      <td>0.007667</td>\n",
       "      <td>...</td>\n",
       "      <td>0.000000</td>\n",
       "      <td>0.000000</td>\n",
       "      <td>0.000000</td>\n",
       "      <td>0.000000</td>\n",
       "      <td>0.000000</td>\n",
       "      <td>0.000000</td>\n",
       "      <td>0.000000</td>\n",
       "      <td>0.000000</td>\n",
       "      <td>0.000000</td>\n",
       "      <td>0.000000</td>\n",
       "    </tr>\n",
       "    <tr>\n",
       "      <th>HES4</th>\n",
       "      <td>0.111648</td>\n",
       "      <td>1.000000</td>\n",
       "      <td>0.760347</td>\n",
       "      <td>0.394843</td>\n",
       "      <td>0.011284</td>\n",
       "      <td>0.008897</td>\n",
       "      <td>0.005317</td>\n",
       "      <td>0.006876</td>\n",
       "      <td>0.002582</td>\n",
       "      <td>0.005084</td>\n",
       "      <td>...</td>\n",
       "      <td>0.000000</td>\n",
       "      <td>0.000000</td>\n",
       "      <td>0.000000</td>\n",
       "      <td>0.000000</td>\n",
       "      <td>0.000000</td>\n",
       "      <td>0.000000</td>\n",
       "      <td>0.000000</td>\n",
       "      <td>0.000000</td>\n",
       "      <td>0.000000</td>\n",
       "      <td>0.000000</td>\n",
       "    </tr>\n",
       "    <tr>\n",
       "      <th>ISG15</th>\n",
       "      <td>0.187064</td>\n",
       "      <td>0.760347</td>\n",
       "      <td>1.000000</td>\n",
       "      <td>0.348268</td>\n",
       "      <td>0.011228</td>\n",
       "      <td>0.010204</td>\n",
       "      <td>0.006492</td>\n",
       "      <td>0.010893</td>\n",
       "      <td>0.003592</td>\n",
       "      <td>0.009454</td>\n",
       "      <td>...</td>\n",
       "      <td>0.000000</td>\n",
       "      <td>0.000000</td>\n",
       "      <td>0.000000</td>\n",
       "      <td>0.000000</td>\n",
       "      <td>0.000000</td>\n",
       "      <td>0.000000</td>\n",
       "      <td>0.000000</td>\n",
       "      <td>0.000000</td>\n",
       "      <td>0.000000</td>\n",
       "      <td>0.000000</td>\n",
       "    </tr>\n",
       "    <tr>\n",
       "      <th>AGRN</th>\n",
       "      <td>0.083062</td>\n",
       "      <td>0.394843</td>\n",
       "      <td>0.348268</td>\n",
       "      <td>1.000000</td>\n",
       "      <td>0.006882</td>\n",
       "      <td>0.013548</td>\n",
       "      <td>0.001546</td>\n",
       "      <td>0.002285</td>\n",
       "      <td>0.003513</td>\n",
       "      <td>0.008510</td>\n",
       "      <td>...</td>\n",
       "      <td>0.000000</td>\n",
       "      <td>0.000000</td>\n",
       "      <td>0.000000</td>\n",
       "      <td>0.000000</td>\n",
       "      <td>0.000000</td>\n",
       "      <td>0.000000</td>\n",
       "      <td>0.000000</td>\n",
       "      <td>0.000000</td>\n",
       "      <td>0.000000</td>\n",
       "      <td>0.000000</td>\n",
       "    </tr>\n",
       "    <tr>\n",
       "      <th>TNFRSF18</th>\n",
       "      <td>0.006659</td>\n",
       "      <td>0.011284</td>\n",
       "      <td>0.011228</td>\n",
       "      <td>0.006882</td>\n",
       "      <td>1.000000</td>\n",
       "      <td>0.337836</td>\n",
       "      <td>0.551124</td>\n",
       "      <td>0.154373</td>\n",
       "      <td>0.193531</td>\n",
       "      <td>0.090832</td>\n",
       "      <td>...</td>\n",
       "      <td>0.000000</td>\n",
       "      <td>0.000000</td>\n",
       "      <td>0.000000</td>\n",
       "      <td>0.000000</td>\n",
       "      <td>0.000000</td>\n",
       "      <td>0.000000</td>\n",
       "      <td>0.000000</td>\n",
       "      <td>0.000000</td>\n",
       "      <td>0.000000</td>\n",
       "      <td>0.000000</td>\n",
       "    </tr>\n",
       "    <tr>\n",
       "      <th>...</th>\n",
       "      <td>...</td>\n",
       "      <td>...</td>\n",
       "      <td>...</td>\n",
       "      <td>...</td>\n",
       "      <td>...</td>\n",
       "      <td>...</td>\n",
       "      <td>...</td>\n",
       "      <td>...</td>\n",
       "      <td>...</td>\n",
       "      <td>...</td>\n",
       "      <td>...</td>\n",
       "      <td>...</td>\n",
       "      <td>...</td>\n",
       "      <td>...</td>\n",
       "      <td>...</td>\n",
       "      <td>...</td>\n",
       "      <td>...</td>\n",
       "      <td>...</td>\n",
       "      <td>...</td>\n",
       "      <td>...</td>\n",
       "      <td>...</td>\n",
       "    </tr>\n",
       "    <tr>\n",
       "      <th>CPT1B</th>\n",
       "      <td>0.000000</td>\n",
       "      <td>0.000000</td>\n",
       "      <td>0.000000</td>\n",
       "      <td>0.000000</td>\n",
       "      <td>0.000000</td>\n",
       "      <td>0.000000</td>\n",
       "      <td>0.000000</td>\n",
       "      <td>0.000000</td>\n",
       "      <td>0.000000</td>\n",
       "      <td>0.000000</td>\n",
       "      <td>...</td>\n",
       "      <td>0.018582</td>\n",
       "      <td>0.046440</td>\n",
       "      <td>0.013164</td>\n",
       "      <td>0.256685</td>\n",
       "      <td>0.217213</td>\n",
       "      <td>1.000000</td>\n",
       "      <td>0.735570</td>\n",
       "      <td>0.180608</td>\n",
       "      <td>0.035560</td>\n",
       "      <td>0.009659</td>\n",
       "    </tr>\n",
       "    <tr>\n",
       "      <th>CHKB</th>\n",
       "      <td>0.000000</td>\n",
       "      <td>0.000000</td>\n",
       "      <td>0.000000</td>\n",
       "      <td>0.000000</td>\n",
       "      <td>0.000000</td>\n",
       "      <td>0.000000</td>\n",
       "      <td>0.000000</td>\n",
       "      <td>0.000000</td>\n",
       "      <td>0.000000</td>\n",
       "      <td>0.000000</td>\n",
       "      <td>...</td>\n",
       "      <td>0.030880</td>\n",
       "      <td>0.047012</td>\n",
       "      <td>0.013125</td>\n",
       "      <td>0.208761</td>\n",
       "      <td>0.205824</td>\n",
       "      <td>0.735570</td>\n",
       "      <td>1.000000</td>\n",
       "      <td>0.249788</td>\n",
       "      <td>0.041717</td>\n",
       "      <td>0.020105</td>\n",
       "    </tr>\n",
       "    <tr>\n",
       "      <th>MAPK8IP2</th>\n",
       "      <td>0.000000</td>\n",
       "      <td>0.000000</td>\n",
       "      <td>0.000000</td>\n",
       "      <td>0.000000</td>\n",
       "      <td>0.000000</td>\n",
       "      <td>0.000000</td>\n",
       "      <td>0.000000</td>\n",
       "      <td>0.000000</td>\n",
       "      <td>0.000000</td>\n",
       "      <td>0.000000</td>\n",
       "      <td>...</td>\n",
       "      <td>0.044312</td>\n",
       "      <td>0.093409</td>\n",
       "      <td>0.066327</td>\n",
       "      <td>0.052375</td>\n",
       "      <td>0.125790</td>\n",
       "      <td>0.180608</td>\n",
       "      <td>0.249788</td>\n",
       "      <td>1.000000</td>\n",
       "      <td>0.205484</td>\n",
       "      <td>0.040795</td>\n",
       "    </tr>\n",
       "    <tr>\n",
       "      <th>ARSA</th>\n",
       "      <td>0.000000</td>\n",
       "      <td>0.000000</td>\n",
       "      <td>0.000000</td>\n",
       "      <td>0.000000</td>\n",
       "      <td>0.000000</td>\n",
       "      <td>0.000000</td>\n",
       "      <td>0.000000</td>\n",
       "      <td>0.000000</td>\n",
       "      <td>0.000000</td>\n",
       "      <td>0.000000</td>\n",
       "      <td>...</td>\n",
       "      <td>0.012015</td>\n",
       "      <td>0.027591</td>\n",
       "      <td>0.021492</td>\n",
       "      <td>0.027293</td>\n",
       "      <td>0.035763</td>\n",
       "      <td>0.035560</td>\n",
       "      <td>0.041717</td>\n",
       "      <td>0.205484</td>\n",
       "      <td>1.000000</td>\n",
       "      <td>0.013757</td>\n",
       "    </tr>\n",
       "    <tr>\n",
       "      <th>SHANK3</th>\n",
       "      <td>0.000000</td>\n",
       "      <td>0.000000</td>\n",
       "      <td>0.000000</td>\n",
       "      <td>0.000000</td>\n",
       "      <td>0.000000</td>\n",
       "      <td>0.000000</td>\n",
       "      <td>0.000000</td>\n",
       "      <td>0.000000</td>\n",
       "      <td>0.000000</td>\n",
       "      <td>0.000000</td>\n",
       "      <td>...</td>\n",
       "      <td>0.009648</td>\n",
       "      <td>0.009185</td>\n",
       "      <td>0.003298</td>\n",
       "      <td>0.002652</td>\n",
       "      <td>0.002527</td>\n",
       "      <td>0.009659</td>\n",
       "      <td>0.020105</td>\n",
       "      <td>0.040795</td>\n",
       "      <td>0.013757</td>\n",
       "      <td>1.000000</td>\n",
       "    </tr>\n",
       "  </tbody>\n",
       "</table>\n",
       "<p>6450 rows × 6450 columns</p>\n",
       "</div>"
      ],
      "text/plain": [
       "             NOC2L      HES4     ISG15      AGRN  TNFRSF18   TNFRSF4  \\\n",
       "NOC2L     1.000000  0.111648  0.187064  0.083062  0.006659  0.006887   \n",
       "HES4      0.111648  1.000000  0.760347  0.394843  0.011284  0.008897   \n",
       "ISG15     0.187064  0.760347  1.000000  0.348268  0.011228  0.010204   \n",
       "AGRN      0.083062  0.394843  0.348268  1.000000  0.006882  0.013548   \n",
       "TNFRSF18  0.006659  0.011284  0.011228  0.006882  1.000000  0.337836   \n",
       "...            ...       ...       ...       ...       ...       ...   \n",
       "CPT1B     0.000000  0.000000  0.000000  0.000000  0.000000  0.000000   \n",
       "CHKB      0.000000  0.000000  0.000000  0.000000  0.000000  0.000000   \n",
       "MAPK8IP2  0.000000  0.000000  0.000000  0.000000  0.000000  0.000000   \n",
       "ARSA      0.000000  0.000000  0.000000  0.000000  0.000000  0.000000   \n",
       "SHANK3    0.000000  0.000000  0.000000  0.000000  0.000000  0.000000   \n",
       "\n",
       "           B3GALT6    UBE2J2     ACAP3    TAS1R3  ...    PLXNB2      ADM2  \\\n",
       "NOC2L     0.004603  0.011059  0.011335  0.007667  ...  0.000000  0.000000   \n",
       "HES4      0.005317  0.006876  0.002582  0.005084  ...  0.000000  0.000000   \n",
       "ISG15     0.006492  0.010893  0.003592  0.009454  ...  0.000000  0.000000   \n",
       "AGRN      0.001546  0.002285  0.003513  0.008510  ...  0.000000  0.000000   \n",
       "TNFRSF18  0.551124  0.154373  0.193531  0.090832  ...  0.000000  0.000000   \n",
       "...            ...       ...       ...       ...  ...       ...       ...   \n",
       "CPT1B     0.000000  0.000000  0.000000  0.000000  ...  0.018582  0.046440   \n",
       "CHKB      0.000000  0.000000  0.000000  0.000000  ...  0.030880  0.047012   \n",
       "MAPK8IP2  0.000000  0.000000  0.000000  0.000000  ...  0.044312  0.093409   \n",
       "ARSA      0.000000  0.000000  0.000000  0.000000  ...  0.012015  0.027591   \n",
       "SHANK3    0.000000  0.000000  0.000000  0.000000  ...  0.009648  0.009185   \n",
       "\n",
       "              MIOX      SCO2      TYMP     CPT1B      CHKB  MAPK8IP2  \\\n",
       "NOC2L     0.000000  0.000000  0.000000  0.000000  0.000000  0.000000   \n",
       "HES4      0.000000  0.000000  0.000000  0.000000  0.000000  0.000000   \n",
       "ISG15     0.000000  0.000000  0.000000  0.000000  0.000000  0.000000   \n",
       "AGRN      0.000000  0.000000  0.000000  0.000000  0.000000  0.000000   \n",
       "TNFRSF18  0.000000  0.000000  0.000000  0.000000  0.000000  0.000000   \n",
       "...            ...       ...       ...       ...       ...       ...   \n",
       "CPT1B     0.013164  0.256685  0.217213  1.000000  0.735570  0.180608   \n",
       "CHKB      0.013125  0.208761  0.205824  0.735570  1.000000  0.249788   \n",
       "MAPK8IP2  0.066327  0.052375  0.125790  0.180608  0.249788  1.000000   \n",
       "ARSA      0.021492  0.027293  0.035763  0.035560  0.041717  0.205484   \n",
       "SHANK3    0.003298  0.002652  0.002527  0.009659  0.020105  0.040795   \n",
       "\n",
       "              ARSA    SHANK3  \n",
       "NOC2L     0.000000  0.000000  \n",
       "HES4      0.000000  0.000000  \n",
       "ISG15     0.000000  0.000000  \n",
       "AGRN      0.000000  0.000000  \n",
       "TNFRSF18  0.000000  0.000000  \n",
       "...            ...       ...  \n",
       "CPT1B     0.035560  0.009659  \n",
       "CHKB      0.041717  0.020105  \n",
       "MAPK8IP2  0.205484  0.040795  \n",
       "ARSA      1.000000  0.013757  \n",
       "SHANK3    0.013757  1.000000  \n",
       "\n",
       "[6450 rows x 6450 columns]"
      ]
     },
     "metadata": {},
     "output_type": "display_data"
    },
    {
     "data": {
      "text/plain": [
       "'Number of negative eigenvalues: 0'"
      ]
     },
     "metadata": {},
     "output_type": "display_data"
    },
    {
     "data": {
      "text/plain": [
       "'Negative eigenvalues:\\n[]'"
      ]
     },
     "metadata": {},
     "output_type": "display_data"
    },
    {
     "name": "stdout",
     "output_type": "stream",
     "text": [
      "Works! (statsmodels.GLS)\n",
      "Works!\n",
      "all good.\n"
     ]
    },
    {
     "data": {
      "text/plain": [
       "'Number of genes with correlations with other genes: 6449'"
      ]
     },
     "metadata": {},
     "output_type": "display_data"
    },
    {
     "data": {
      "text/plain": [
       "'Number of nonzero cells: 262770'"
      ]
     },
     "metadata": {},
     "output_type": "display_data"
    },
    {
     "data": {
      "text/plain": [
       "count                20798025.0\n",
       "mean     0.00016517902985301234\n",
       "std        0.006855778293494092\n",
       "min                         0.0\n",
       "25%                         0.0\n",
       "50%                         0.0\n",
       "75%                         0.0\n",
       "max          0.9999975042224853\n",
       "dtype: object"
      ]
     },
     "metadata": {},
     "output_type": "display_data"
    },
    {
     "data": {
      "text/plain": [
       "PosixPath('/project/ritchie20/projects/phenoplier/base/results/gls/gene_corrs/cohorts/phenomexcan_astle/gtex_v8/mashr/gene_corrs-symbols-within_distance_5mb.pkl')"
      ]
     },
     "metadata": {},
     "output_type": "display_data"
    },
    {
     "name": "stdout",
     "output_type": "stream",
     "text": [
      "\n",
      "\n",
      "Using within distance: 1.0\n"
     ]
    },
    {
     "data": {
      "text/html": [
       "<div>\n",
       "<style scoped>\n",
       "    .dataframe tbody tr th:only-of-type {\n",
       "        vertical-align: middle;\n",
       "    }\n",
       "\n",
       "    .dataframe tbody tr th {\n",
       "        vertical-align: top;\n",
       "    }\n",
       "\n",
       "    .dataframe thead th {\n",
       "        text-align: right;\n",
       "    }\n",
       "</style>\n",
       "<table border=\"1\" class=\"dataframe\">\n",
       "  <thead>\n",
       "    <tr style=\"text-align: right;\">\n",
       "      <th></th>\n",
       "      <th>NOC2L</th>\n",
       "      <th>HES4</th>\n",
       "      <th>ISG15</th>\n",
       "      <th>AGRN</th>\n",
       "      <th>TNFRSF18</th>\n",
       "      <th>TNFRSF4</th>\n",
       "      <th>B3GALT6</th>\n",
       "      <th>UBE2J2</th>\n",
       "      <th>ACAP3</th>\n",
       "      <th>TAS1R3</th>\n",
       "      <th>...</th>\n",
       "      <th>PLXNB2</th>\n",
       "      <th>ADM2</th>\n",
       "      <th>MIOX</th>\n",
       "      <th>SCO2</th>\n",
       "      <th>TYMP</th>\n",
       "      <th>CPT1B</th>\n",
       "      <th>CHKB</th>\n",
       "      <th>MAPK8IP2</th>\n",
       "      <th>ARSA</th>\n",
       "      <th>SHANK3</th>\n",
       "    </tr>\n",
       "  </thead>\n",
       "  <tbody>\n",
       "    <tr>\n",
       "      <th>NOC2L</th>\n",
       "      <td>1.000000</td>\n",
       "      <td>0.111648</td>\n",
       "      <td>0.187064</td>\n",
       "      <td>0.083062</td>\n",
       "      <td>0.006659</td>\n",
       "      <td>0.006887</td>\n",
       "      <td>0.004603</td>\n",
       "      <td>0.011059</td>\n",
       "      <td>0.011335</td>\n",
       "      <td>0.007667</td>\n",
       "      <td>...</td>\n",
       "      <td>0.000000</td>\n",
       "      <td>0.000000</td>\n",
       "      <td>0.000000</td>\n",
       "      <td>0.000000</td>\n",
       "      <td>0.000000</td>\n",
       "      <td>0.000000</td>\n",
       "      <td>0.000000</td>\n",
       "      <td>0.000000</td>\n",
       "      <td>0.000000</td>\n",
       "      <td>0.000000</td>\n",
       "    </tr>\n",
       "    <tr>\n",
       "      <th>HES4</th>\n",
       "      <td>0.111648</td>\n",
       "      <td>1.000000</td>\n",
       "      <td>0.760347</td>\n",
       "      <td>0.394843</td>\n",
       "      <td>0.011284</td>\n",
       "      <td>0.008897</td>\n",
       "      <td>0.005317</td>\n",
       "      <td>0.006876</td>\n",
       "      <td>0.002582</td>\n",
       "      <td>0.005084</td>\n",
       "      <td>...</td>\n",
       "      <td>0.000000</td>\n",
       "      <td>0.000000</td>\n",
       "      <td>0.000000</td>\n",
       "      <td>0.000000</td>\n",
       "      <td>0.000000</td>\n",
       "      <td>0.000000</td>\n",
       "      <td>0.000000</td>\n",
       "      <td>0.000000</td>\n",
       "      <td>0.000000</td>\n",
       "      <td>0.000000</td>\n",
       "    </tr>\n",
       "    <tr>\n",
       "      <th>ISG15</th>\n",
       "      <td>0.187064</td>\n",
       "      <td>0.760347</td>\n",
       "      <td>1.000000</td>\n",
       "      <td>0.348268</td>\n",
       "      <td>0.011228</td>\n",
       "      <td>0.010204</td>\n",
       "      <td>0.006492</td>\n",
       "      <td>0.010893</td>\n",
       "      <td>0.003592</td>\n",
       "      <td>0.009454</td>\n",
       "      <td>...</td>\n",
       "      <td>0.000000</td>\n",
       "      <td>0.000000</td>\n",
       "      <td>0.000000</td>\n",
       "      <td>0.000000</td>\n",
       "      <td>0.000000</td>\n",
       "      <td>0.000000</td>\n",
       "      <td>0.000000</td>\n",
       "      <td>0.000000</td>\n",
       "      <td>0.000000</td>\n",
       "      <td>0.000000</td>\n",
       "    </tr>\n",
       "    <tr>\n",
       "      <th>AGRN</th>\n",
       "      <td>0.083062</td>\n",
       "      <td>0.394843</td>\n",
       "      <td>0.348268</td>\n",
       "      <td>1.000000</td>\n",
       "      <td>0.006882</td>\n",
       "      <td>0.013548</td>\n",
       "      <td>0.001546</td>\n",
       "      <td>0.002285</td>\n",
       "      <td>0.003513</td>\n",
       "      <td>0.008510</td>\n",
       "      <td>...</td>\n",
       "      <td>0.000000</td>\n",
       "      <td>0.000000</td>\n",
       "      <td>0.000000</td>\n",
       "      <td>0.000000</td>\n",
       "      <td>0.000000</td>\n",
       "      <td>0.000000</td>\n",
       "      <td>0.000000</td>\n",
       "      <td>0.000000</td>\n",
       "      <td>0.000000</td>\n",
       "      <td>0.000000</td>\n",
       "    </tr>\n",
       "    <tr>\n",
       "      <th>TNFRSF18</th>\n",
       "      <td>0.006659</td>\n",
       "      <td>0.011284</td>\n",
       "      <td>0.011228</td>\n",
       "      <td>0.006882</td>\n",
       "      <td>1.000000</td>\n",
       "      <td>0.337836</td>\n",
       "      <td>0.551124</td>\n",
       "      <td>0.154373</td>\n",
       "      <td>0.193531</td>\n",
       "      <td>0.090832</td>\n",
       "      <td>...</td>\n",
       "      <td>0.000000</td>\n",
       "      <td>0.000000</td>\n",
       "      <td>0.000000</td>\n",
       "      <td>0.000000</td>\n",
       "      <td>0.000000</td>\n",
       "      <td>0.000000</td>\n",
       "      <td>0.000000</td>\n",
       "      <td>0.000000</td>\n",
       "      <td>0.000000</td>\n",
       "      <td>0.000000</td>\n",
       "    </tr>\n",
       "    <tr>\n",
       "      <th>...</th>\n",
       "      <td>...</td>\n",
       "      <td>...</td>\n",
       "      <td>...</td>\n",
       "      <td>...</td>\n",
       "      <td>...</td>\n",
       "      <td>...</td>\n",
       "      <td>...</td>\n",
       "      <td>...</td>\n",
       "      <td>...</td>\n",
       "      <td>...</td>\n",
       "      <td>...</td>\n",
       "      <td>...</td>\n",
       "      <td>...</td>\n",
       "      <td>...</td>\n",
       "      <td>...</td>\n",
       "      <td>...</td>\n",
       "      <td>...</td>\n",
       "      <td>...</td>\n",
       "      <td>...</td>\n",
       "      <td>...</td>\n",
       "      <td>...</td>\n",
       "    </tr>\n",
       "    <tr>\n",
       "      <th>CPT1B</th>\n",
       "      <td>0.000000</td>\n",
       "      <td>0.000000</td>\n",
       "      <td>0.000000</td>\n",
       "      <td>0.000000</td>\n",
       "      <td>0.000000</td>\n",
       "      <td>0.000000</td>\n",
       "      <td>0.000000</td>\n",
       "      <td>0.000000</td>\n",
       "      <td>0.000000</td>\n",
       "      <td>0.000000</td>\n",
       "      <td>...</td>\n",
       "      <td>0.018582</td>\n",
       "      <td>0.046440</td>\n",
       "      <td>0.013164</td>\n",
       "      <td>0.256685</td>\n",
       "      <td>0.217213</td>\n",
       "      <td>1.000000</td>\n",
       "      <td>0.735570</td>\n",
       "      <td>0.180608</td>\n",
       "      <td>0.035560</td>\n",
       "      <td>0.009659</td>\n",
       "    </tr>\n",
       "    <tr>\n",
       "      <th>CHKB</th>\n",
       "      <td>0.000000</td>\n",
       "      <td>0.000000</td>\n",
       "      <td>0.000000</td>\n",
       "      <td>0.000000</td>\n",
       "      <td>0.000000</td>\n",
       "      <td>0.000000</td>\n",
       "      <td>0.000000</td>\n",
       "      <td>0.000000</td>\n",
       "      <td>0.000000</td>\n",
       "      <td>0.000000</td>\n",
       "      <td>...</td>\n",
       "      <td>0.030880</td>\n",
       "      <td>0.047012</td>\n",
       "      <td>0.013125</td>\n",
       "      <td>0.208761</td>\n",
       "      <td>0.205824</td>\n",
       "      <td>0.735570</td>\n",
       "      <td>1.000000</td>\n",
       "      <td>0.249788</td>\n",
       "      <td>0.041717</td>\n",
       "      <td>0.020105</td>\n",
       "    </tr>\n",
       "    <tr>\n",
       "      <th>MAPK8IP2</th>\n",
       "      <td>0.000000</td>\n",
       "      <td>0.000000</td>\n",
       "      <td>0.000000</td>\n",
       "      <td>0.000000</td>\n",
       "      <td>0.000000</td>\n",
       "      <td>0.000000</td>\n",
       "      <td>0.000000</td>\n",
       "      <td>0.000000</td>\n",
       "      <td>0.000000</td>\n",
       "      <td>0.000000</td>\n",
       "      <td>...</td>\n",
       "      <td>0.044312</td>\n",
       "      <td>0.093409</td>\n",
       "      <td>0.066327</td>\n",
       "      <td>0.052375</td>\n",
       "      <td>0.125790</td>\n",
       "      <td>0.180608</td>\n",
       "      <td>0.249788</td>\n",
       "      <td>1.000000</td>\n",
       "      <td>0.205484</td>\n",
       "      <td>0.040795</td>\n",
       "    </tr>\n",
       "    <tr>\n",
       "      <th>ARSA</th>\n",
       "      <td>0.000000</td>\n",
       "      <td>0.000000</td>\n",
       "      <td>0.000000</td>\n",
       "      <td>0.000000</td>\n",
       "      <td>0.000000</td>\n",
       "      <td>0.000000</td>\n",
       "      <td>0.000000</td>\n",
       "      <td>0.000000</td>\n",
       "      <td>0.000000</td>\n",
       "      <td>0.000000</td>\n",
       "      <td>...</td>\n",
       "      <td>0.012015</td>\n",
       "      <td>0.027591</td>\n",
       "      <td>0.021492</td>\n",
       "      <td>0.027293</td>\n",
       "      <td>0.035763</td>\n",
       "      <td>0.035560</td>\n",
       "      <td>0.041717</td>\n",
       "      <td>0.205484</td>\n",
       "      <td>1.000000</td>\n",
       "      <td>0.013757</td>\n",
       "    </tr>\n",
       "    <tr>\n",
       "      <th>SHANK3</th>\n",
       "      <td>0.000000</td>\n",
       "      <td>0.000000</td>\n",
       "      <td>0.000000</td>\n",
       "      <td>0.000000</td>\n",
       "      <td>0.000000</td>\n",
       "      <td>0.000000</td>\n",
       "      <td>0.000000</td>\n",
       "      <td>0.000000</td>\n",
       "      <td>0.000000</td>\n",
       "      <td>0.000000</td>\n",
       "      <td>...</td>\n",
       "      <td>0.009648</td>\n",
       "      <td>0.009185</td>\n",
       "      <td>0.003298</td>\n",
       "      <td>0.002652</td>\n",
       "      <td>0.002527</td>\n",
       "      <td>0.009659</td>\n",
       "      <td>0.020105</td>\n",
       "      <td>0.040795</td>\n",
       "      <td>0.013757</td>\n",
       "      <td>1.000000</td>\n",
       "    </tr>\n",
       "  </tbody>\n",
       "</table>\n",
       "<p>6450 rows × 6450 columns</p>\n",
       "</div>"
      ],
      "text/plain": [
       "             NOC2L      HES4     ISG15      AGRN  TNFRSF18   TNFRSF4  \\\n",
       "NOC2L     1.000000  0.111648  0.187064  0.083062  0.006659  0.006887   \n",
       "HES4      0.111648  1.000000  0.760347  0.394843  0.011284  0.008897   \n",
       "ISG15     0.187064  0.760347  1.000000  0.348268  0.011228  0.010204   \n",
       "AGRN      0.083062  0.394843  0.348268  1.000000  0.006882  0.013548   \n",
       "TNFRSF18  0.006659  0.011284  0.011228  0.006882  1.000000  0.337836   \n",
       "...            ...       ...       ...       ...       ...       ...   \n",
       "CPT1B     0.000000  0.000000  0.000000  0.000000  0.000000  0.000000   \n",
       "CHKB      0.000000  0.000000  0.000000  0.000000  0.000000  0.000000   \n",
       "MAPK8IP2  0.000000  0.000000  0.000000  0.000000  0.000000  0.000000   \n",
       "ARSA      0.000000  0.000000  0.000000  0.000000  0.000000  0.000000   \n",
       "SHANK3    0.000000  0.000000  0.000000  0.000000  0.000000  0.000000   \n",
       "\n",
       "           B3GALT6    UBE2J2     ACAP3    TAS1R3  ...    PLXNB2      ADM2  \\\n",
       "NOC2L     0.004603  0.011059  0.011335  0.007667  ...  0.000000  0.000000   \n",
       "HES4      0.005317  0.006876  0.002582  0.005084  ...  0.000000  0.000000   \n",
       "ISG15     0.006492  0.010893  0.003592  0.009454  ...  0.000000  0.000000   \n",
       "AGRN      0.001546  0.002285  0.003513  0.008510  ...  0.000000  0.000000   \n",
       "TNFRSF18  0.551124  0.154373  0.193531  0.090832  ...  0.000000  0.000000   \n",
       "...            ...       ...       ...       ...  ...       ...       ...   \n",
       "CPT1B     0.000000  0.000000  0.000000  0.000000  ...  0.018582  0.046440   \n",
       "CHKB      0.000000  0.000000  0.000000  0.000000  ...  0.030880  0.047012   \n",
       "MAPK8IP2  0.000000  0.000000  0.000000  0.000000  ...  0.044312  0.093409   \n",
       "ARSA      0.000000  0.000000  0.000000  0.000000  ...  0.012015  0.027591   \n",
       "SHANK3    0.000000  0.000000  0.000000  0.000000  ...  0.009648  0.009185   \n",
       "\n",
       "              MIOX      SCO2      TYMP     CPT1B      CHKB  MAPK8IP2  \\\n",
       "NOC2L     0.000000  0.000000  0.000000  0.000000  0.000000  0.000000   \n",
       "HES4      0.000000  0.000000  0.000000  0.000000  0.000000  0.000000   \n",
       "ISG15     0.000000  0.000000  0.000000  0.000000  0.000000  0.000000   \n",
       "AGRN      0.000000  0.000000  0.000000  0.000000  0.000000  0.000000   \n",
       "TNFRSF18  0.000000  0.000000  0.000000  0.000000  0.000000  0.000000   \n",
       "...            ...       ...       ...       ...       ...       ...   \n",
       "CPT1B     0.013164  0.256685  0.217213  1.000000  0.735570  0.180608   \n",
       "CHKB      0.013125  0.208761  0.205824  0.735570  1.000000  0.249788   \n",
       "MAPK8IP2  0.066327  0.052375  0.125790  0.180608  0.249788  1.000000   \n",
       "ARSA      0.021492  0.027293  0.035763  0.035560  0.041717  0.205484   \n",
       "SHANK3    0.003298  0.002652  0.002527  0.009659  0.020105  0.040795   \n",
       "\n",
       "              ARSA    SHANK3  \n",
       "NOC2L     0.000000  0.000000  \n",
       "HES4      0.000000  0.000000  \n",
       "ISG15     0.000000  0.000000  \n",
       "AGRN      0.000000  0.000000  \n",
       "TNFRSF18  0.000000  0.000000  \n",
       "...            ...       ...  \n",
       "CPT1B     0.035560  0.009659  \n",
       "CHKB      0.041717  0.020105  \n",
       "MAPK8IP2  0.205484  0.040795  \n",
       "ARSA      1.000000  0.013757  \n",
       "SHANK3    0.013757  1.000000  \n",
       "\n",
       "[6450 rows x 6450 columns]"
      ]
     },
     "metadata": {},
     "output_type": "display_data"
    },
    {
     "data": {
      "text/plain": [
       "'Number of negative eigenvalues: 0'"
      ]
     },
     "metadata": {},
     "output_type": "display_data"
    },
    {
     "data": {
      "text/plain": [
       "'Negative eigenvalues:\\n[]'"
      ]
     },
     "metadata": {},
     "output_type": "display_data"
    },
    {
     "name": "stdout",
     "output_type": "stream",
     "text": [
      "Works! (statsmodels.GLS)\n",
      "Works!\n",
      "all good.\n"
     ]
    },
    {
     "data": {
      "text/plain": [
       "'Number of genes with correlations with other genes: 6436'"
      ]
     },
     "metadata": {},
     "output_type": "display_data"
    },
    {
     "data": {
      "text/plain": [
       "'Number of nonzero cells: 131028'"
      ]
     },
     "metadata": {},
     "output_type": "display_data"
    },
    {
     "data": {
      "text/plain": [
       "count                20798025.0\n",
       "mean     0.00014532124999310308\n",
       "std        0.006840571937983463\n",
       "min                         0.0\n",
       "25%                         0.0\n",
       "50%                         0.0\n",
       "75%                         0.0\n",
       "max          0.9999975042224853\n",
       "dtype: object"
      ]
     },
     "metadata": {},
     "output_type": "display_data"
    },
    {
     "data": {
      "text/plain": [
       "PosixPath('/project/ritchie20/projects/phenoplier/base/results/gls/gene_corrs/cohorts/phenomexcan_astle/gtex_v8/mashr/gene_corrs-symbols-within_distance_2mb.pkl')"
      ]
     },
     "metadata": {},
     "output_type": "display_data"
    },
    {
     "name": "stdout",
     "output_type": "stream",
     "text": [
      "\n",
      "\n"
     ]
    }
   ],
   "source": [
    "for full_distance in DISTANCES:\n",
    "    distance = full_distance / 2.0\n",
    "    print(f\"Using within distance: {distance}\", flush=True)\n",
    "\n",
    "    # compute a boolean within distance matrix using the given distance\n",
    "    genes_within_distance = np.eye(len(gene_objs)).astype(bool)\n",
    "    for g0_idx in range(len(gene_objs) - 1):\n",
    "        g0_obj = gene_objs[g0_idx]\n",
    "\n",
    "        for g1_idx in range(g0_idx + 1, len(gene_objs)):\n",
    "            g1_obj = gene_objs[g1_idx]\n",
    "\n",
    "            g0_g1_wd = g0_obj.within_distance(g1_obj, distance * 1e6)\n",
    "\n",
    "            genes_within_distance[g0_idx, g1_idx] = g0_g1_wd\n",
    "            genes_within_distance[g1_idx, g0_idx] = g0_g1_wd\n",
    "\n",
    "    genes_within_distance = pd.DataFrame(\n",
    "        genes_within_distance,\n",
    "        index=gene_corrs.index.copy(),\n",
    "        columns=gene_corrs.columns.copy(),\n",
    "    )\n",
    "\n",
    "    # subset full correlation matrix\n",
    "    gene_corrs_within_distance = gene_corrs[genes_within_distance].fillna(0.0)\n",
    "    assert not gene_corrs_within_distance.equals(gene_corrs)\n",
    "    assert not np.allclose(gene_corrs_within_distance.to_numpy(), gene_corrs.to_numpy())\n",
    "    display(gene_corrs_within_distance)\n",
    "\n",
    "    # check if the new matrix is positive definite\n",
    "    is_pos_def = check_pos_def(gene_corrs_within_distance)\n",
    "\n",
    "    if is_pos_def:\n",
    "        print(\"all good.\", flush=True, end=\"\\n\")\n",
    "    else:\n",
    "        print(\"not positive definite, fixing... \", flush=True, end=\"\")\n",
    "        corr_data_adjusted = adjust_non_pos_def(gene_corrs_within_distance)\n",
    "\n",
    "        is_pos_def = check_pos_def(corr_data_adjusted)\n",
    "        assert is_pos_def, \"Could not adjust gene correlation matrix\"\n",
    "\n",
    "        print(\"fixed! comparing...\", flush=True, end=\"\\n\")\n",
    "        compare_matrices(gene_corrs_within_distance, corr_data_adjusted)\n",
    "\n",
    "        # save\n",
    "        gene_corrs_within_distance = corr_data_adjusted\n",
    "\n",
    "    # checks\n",
    "    assert not gene_corrs_within_distance.isna().any(None)\n",
    "    assert not np.isinf(gene_corrs_within_distance.to_numpy()).any()\n",
    "    assert not np.iscomplex(gene_corrs_within_distance.to_numpy()).any()\n",
    "\n",
    "    # show stats\n",
    "    genes_corrs_sum = gene_corrs_within_distance.sum()\n",
    "    n_genes_included = genes_corrs_sum[genes_corrs_sum > 1.0].shape[0]\n",
    "    display(f\"Number of genes with correlations with other genes: {n_genes_included}\")\n",
    "\n",
    "    genes_corrs_nonzero_sum = (gene_corrs_within_distance > 0.0).astype(int).sum().sum()\n",
    "    display(f\"Number of nonzero cells: {genes_corrs_nonzero_sum}\")\n",
    "\n",
    "    corr_matrix_flat = gene_corrs_within_distance.mask(\n",
    "        np.triu(np.ones(gene_corrs_within_distance.shape)).astype(bool)\n",
    "    ).stack()\n",
    "    display(corr_matrix_flat.describe().apply(str))\n",
    "\n",
    "    # save file\n",
    "    output_filepath = (\n",
    "        OUTPUT_DIR_BASE\n",
    "        / f\"gene_corrs-symbols-within_distance_{int(full_distance)}mb.pkl\"\n",
    "    )\n",
    "    display(output_filepath)\n",
    "\n",
    "    gene_corrs_within_distance.to_pickle(output_filepath)\n",
    "\n",
    "    print(\"\\n\")"
   ]
  },
  {
   "cell_type": "code",
   "execution_count": null,
   "id": "38cf09b7",
   "metadata": {
    "papermill": {
     "duration": 0.009686,
     "end_time": "2022-08-29T16:12:54.435718",
     "exception": false,
     "start_time": "2022-08-29T16:12:54.426032",
     "status": "completed"
    },
    "tags": []
   },
   "outputs": [],
   "source": []
  }
 ],
 "metadata": {
  "jupytext": {
   "cell_metadata_filter": "all,-execution,-papermill,-trusted",
   "formats": "ipynb,py//py:percent"
  },
  "kernelspec": {
   "display_name": "Python 3 (ipykernel)",
   "language": "python",
   "name": "python3"
  },
  "language_info": {
   "codemirror_mode": {
    "name": "ipython",
    "version": 3
   },
   "file_extension": ".py",
   "mimetype": "text/x-python",
   "name": "python",
   "nbconvert_exporter": "python",
   "pygments_lexer": "ipython3",
   "version": "3.8.13"
  },
  "papermill": {
   "default_parameters": {},
   "duration": 496.386366,
   "end_time": "2022-08-29T16:12:54.872438",
   "environment_variables": {},
   "exception": null,
   "input_path": "nbs/15_gsa_gls/16-create_within_distance_matrices.ipynb",
   "output_path": "nbs/15_gsa_gls/gene_corrs/cohorts/phenomexcan_astle/gtex_v8/mashr/16-create_within_distance_matrices.run.ipynb",
   "parameters": {
    "COHORT_NAME": "phenomexcan_astle",
    "EQTL_MODEL": "MASHR",
    "REFERENCE_PANEL": "GTEX_V8"
   },
   "start_time": "2022-08-29T16:04:38.486072",
   "version": "2.2.2"
  }
 },
 "nbformat": 4,
 "nbformat_minor": 5
}
