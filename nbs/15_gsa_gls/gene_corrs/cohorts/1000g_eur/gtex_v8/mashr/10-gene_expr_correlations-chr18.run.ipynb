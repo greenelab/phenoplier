{
 "cells": [
  {
   "cell_type": "markdown",
   "id": "7a6632fb",
   "metadata": {
    "papermill": {
     "duration": 0.026114,
     "end_time": "2022-08-03T02:16:31.922520",
     "exception": false,
     "start_time": "2022-08-03T02:16:31.896406",
     "status": "completed"
    },
    "tags": []
   },
   "source": [
    "# Description"
   ]
  },
  {
   "cell_type": "markdown",
   "id": "7097c346",
   "metadata": {
    "papermill": {
     "duration": 0.060366,
     "end_time": "2022-08-03T02:16:32.008174",
     "exception": false,
     "start_time": "2022-08-03T02:16:31.947808",
     "status": "completed"
    },
    "tags": []
   },
   "source": [
    "(Please, take a look at the README.md file in this directory for instructions on how to run this notebook)\n",
    "\n",
    "This notebook computes predicted expression correlations between all genes in the MultiPLIER models.\n",
    "\n",
    "It also has a parameter set for papermill to run on a single chromosome to run in parallel (see under `Settings` below).\n",
    "\n",
    "This notebook is not directly run. See README.md."
   ]
  },
  {
   "cell_type": "markdown",
   "id": "c61d8427",
   "metadata": {
    "papermill": {
     "duration": 0.013665,
     "end_time": "2022-08-03T02:16:32.033484",
     "exception": false,
     "start_time": "2022-08-03T02:16:32.019819",
     "status": "completed"
    },
    "tags": []
   },
   "source": [
    "# Modules"
   ]
  },
  {
   "cell_type": "code",
   "execution_count": 1,
   "id": "bbc0234f",
   "metadata": {
    "execution": {
     "iopub.execute_input": "2022-08-03T02:16:32.058616Z",
     "iopub.status.busy": "2022-08-03T02:16:32.058263Z",
     "iopub.status.idle": "2022-08-03T02:16:32.207232Z",
     "shell.execute_reply": "2022-08-03T02:16:32.206702Z"
    },
    "papermill": {
     "duration": 0.164034,
     "end_time": "2022-08-03T02:16:32.208978",
     "exception": false,
     "start_time": "2022-08-03T02:16:32.044944",
     "status": "completed"
    },
    "tags": []
   },
   "outputs": [],
   "source": [
    "%load_ext autoreload\n",
    "%autoreload 2"
   ]
  },
  {
   "cell_type": "code",
   "execution_count": 2,
   "id": "1d5f5a59",
   "metadata": {
    "execution": {
     "iopub.execute_input": "2022-08-03T02:16:32.235043Z",
     "iopub.status.busy": "2022-08-03T02:16:32.234815Z",
     "iopub.status.idle": "2022-08-03T02:16:35.187828Z",
     "shell.execute_reply": "2022-08-03T02:16:35.187189Z"
    },
    "papermill": {
     "duration": 2.968996,
     "end_time": "2022-08-03T02:16:35.189876",
     "exception": false,
     "start_time": "2022-08-03T02:16:32.220880",
     "status": "completed"
    },
    "tags": []
   },
   "outputs": [],
   "source": [
    "from random import sample, seed\n",
    "import warnings\n",
    "from pathlib import Path\n",
    "import pickle\n",
    "import traceback\n",
    "\n",
    "import numpy as np\n",
    "from scipy.spatial.distance import squareform\n",
    "import pandas as pd\n",
    "from tqdm import tqdm\n",
    "import matplotlib.pyplot as plt\n",
    "import seaborn as sns\n",
    "\n",
    "import conf\n",
    "from entity import Gene"
   ]
  },
  {
   "cell_type": "markdown",
   "id": "1eac24b5",
   "metadata": {
    "papermill": {
     "duration": 0.015623,
     "end_time": "2022-08-03T02:16:35.218373",
     "exception": false,
     "start_time": "2022-08-03T02:16:35.202750",
     "status": "completed"
    },
    "tags": []
   },
   "source": [
    "# Settings"
   ]
  },
  {
   "cell_type": "code",
   "execution_count": 3,
   "id": "ca4560ba",
   "metadata": {
    "execution": {
     "iopub.execute_input": "2022-08-03T02:16:35.244726Z",
     "iopub.status.busy": "2022-08-03T02:16:35.244459Z",
     "iopub.status.idle": "2022-08-03T02:16:36.167514Z",
     "shell.execute_reply": "2022-08-03T02:16:36.166912Z"
    },
    "papermill": {
     "duration": 0.937799,
     "end_time": "2022-08-03T02:16:36.169483",
     "exception": false,
     "start_time": "2022-08-03T02:16:35.231684",
     "status": "completed"
    },
    "tags": [
     "parameters"
    ]
   },
   "outputs": [],
   "source": [
    "# a cohort name (it could be something like UK_BIOBANK, etc)\n",
    "COHORT_NAME = None\n",
    "\n",
    "# reference panel such as 1000G or GTEX_V8\n",
    "REFERENCE_PANEL = None\n",
    "\n",
    "# predictions models such as MASHR or ELASTIC_NET\n",
    "EQTL_MODEL = None\n",
    "\n",
    "# this is the default value used in S-MultiXcan to select the\n",
    "# top principal components of the expression correlation matrix\n",
    "SMULTIXCAN_CONDITION_NUMBER = 30\n",
    "\n",
    "# specifies a single chromosome value\n",
    "CHROMOSOME = None\n",
    "\n",
    "# If True, computes the correlation between closeby genes only;\n",
    "# otherwise, it computes correlations for all genes in a chromosome\n",
    "COMPUTE_CORRELATIONS_WITHIN_DISTANCE = False\n",
    "\n",
    "# if True, then it will continue if a gene pair correlation fails,\n",
    "# printing the warning/error for debugging. If False, any warning/error\n",
    "# will be thrown\n",
    "DEBUG_MODE = False"
   ]
  },
  {
   "cell_type": "code",
   "execution_count": 4,
   "id": "80cc7538",
   "metadata": {
    "execution": {
     "iopub.execute_input": "2022-08-03T02:16:36.203189Z",
     "iopub.status.busy": "2022-08-03T02:16:36.202970Z",
     "iopub.status.idle": "2022-08-03T02:16:36.242382Z",
     "shell.execute_reply": "2022-08-03T02:16:36.241827Z"
    },
    "papermill": {
     "duration": 0.065107,
     "end_time": "2022-08-03T02:16:36.244058",
     "exception": false,
     "start_time": "2022-08-03T02:16:36.178951",
     "status": "completed"
    },
    "tags": [
     "injected-parameters"
    ]
   },
   "outputs": [],
   "source": [
    "# Parameters\n",
    "COHORT_NAME = \"1000G_EUR\"\n",
    "REFERENCE_PANEL = \"GTEX_V8\"\n",
    "EQTL_MODEL = \"MASHR\"\n",
    "CHROMOSOME = 18\n"
   ]
  },
  {
   "cell_type": "code",
   "execution_count": 5,
   "id": "3190631f-27fc-480f-b18e-571d580425a5",
   "metadata": {
    "execution": {
     "iopub.execute_input": "2022-08-03T02:16:36.279995Z",
     "iopub.status.busy": "2022-08-03T02:16:36.279778Z",
     "iopub.status.idle": "2022-08-03T02:16:36.306432Z",
     "shell.execute_reply": "2022-08-03T02:16:36.305899Z"
    },
    "papermill": {
     "duration": 0.045403,
     "end_time": "2022-08-03T02:16:36.307976",
     "exception": false,
     "start_time": "2022-08-03T02:16:36.262573",
     "status": "completed"
    },
    "tags": []
   },
   "outputs": [
    {
     "data": {
      "text/plain": [
       "'Cohort name: 1000g_eur'"
      ]
     },
     "metadata": {},
     "output_type": "display_data"
    }
   ],
   "source": [
    "assert COHORT_NAME is not None and len(COHORT_NAME) > 0, \"A cohort name must be given\"\n",
    "\n",
    "COHORT_NAME = COHORT_NAME.lower()\n",
    "display(f\"Cohort name: {COHORT_NAME}\")"
   ]
  },
  {
   "cell_type": "code",
   "execution_count": 6,
   "id": "f53ba19b-0f93-4fa2-a047-63b375939d1a",
   "metadata": {
    "execution": {
     "iopub.execute_input": "2022-08-03T02:16:36.333172Z",
     "iopub.status.busy": "2022-08-03T02:16:36.332961Z",
     "iopub.status.idle": "2022-08-03T02:16:36.358787Z",
     "shell.execute_reply": "2022-08-03T02:16:36.358257Z"
    },
    "papermill": {
     "duration": 0.041937,
     "end_time": "2022-08-03T02:16:36.360332",
     "exception": false,
     "start_time": "2022-08-03T02:16:36.318395",
     "status": "completed"
    },
    "tags": []
   },
   "outputs": [
    {
     "data": {
      "text/plain": [
       "'Reference panel: GTEX_V8'"
      ]
     },
     "metadata": {},
     "output_type": "display_data"
    }
   ],
   "source": [
    "assert (\n",
    "    REFERENCE_PANEL is not None and len(REFERENCE_PANEL) > 0\n",
    "), \"A reference panel must be given\"\n",
    "\n",
    "display(f\"Reference panel: {REFERENCE_PANEL}\")"
   ]
  },
  {
   "cell_type": "code",
   "execution_count": 7,
   "id": "e024d130-c139-429a-9c6e-ccf149e297b0",
   "metadata": {
    "execution": {
     "iopub.execute_input": "2022-08-03T02:16:36.380291Z",
     "iopub.status.busy": "2022-08-03T02:16:36.380084Z",
     "iopub.status.idle": "2022-08-03T02:16:36.436312Z",
     "shell.execute_reply": "2022-08-03T02:16:36.435727Z"
    },
    "papermill": {
     "duration": 0.067603,
     "end_time": "2022-08-03T02:16:36.437976",
     "exception": false,
     "start_time": "2022-08-03T02:16:36.370373",
     "status": "completed"
    },
    "tags": []
   },
   "outputs": [
    {
     "data": {
      "text/plain": [
       "'eQTL model: MASHR) / mashr_'"
      ]
     },
     "metadata": {},
     "output_type": "display_data"
    }
   ],
   "source": [
    "assert (\n",
    "    EQTL_MODEL is not None and len(EQTL_MODEL) > 0\n",
    "), \"A prediction/eQTL model must be given\"\n",
    "\n",
    "EQTL_MODEL_FILES_PREFIX = conf.PHENOMEXCAN[\"PREDICTION_MODELS\"][f\"{EQTL_MODEL}_PREFIX\"]\n",
    "display(f\"eQTL model: {EQTL_MODEL}) / {EQTL_MODEL_FILES_PREFIX}\")"
   ]
  },
  {
   "cell_type": "code",
   "execution_count": 8,
   "id": "552a7f63-a18c-4d3e-bb6a-94f99b431291",
   "metadata": {
    "execution": {
     "iopub.execute_input": "2022-08-03T02:16:36.458939Z",
     "iopub.status.busy": "2022-08-03T02:16:36.458646Z",
     "iopub.status.idle": "2022-08-03T02:16:36.508849Z",
     "shell.execute_reply": "2022-08-03T02:16:36.508270Z"
    },
    "papermill": {
     "duration": 0.062567,
     "end_time": "2022-08-03T02:16:36.510529",
     "exception": false,
     "start_time": "2022-08-03T02:16:36.447962",
     "status": "completed"
    },
    "tags": []
   },
   "outputs": [
    {
     "data": {
      "text/plain": [
       "'S-MultiXcan condition number: 30'"
      ]
     },
     "metadata": {},
     "output_type": "display_data"
    }
   ],
   "source": [
    "assert (\n",
    "    SMULTIXCAN_CONDITION_NUMBER is not None and SMULTIXCAN_CONDITION_NUMBER > 0\n",
    "), \"The S-MultiXcan condition number (positive integer) must be given\"\n",
    "\n",
    "display(f\"S-MultiXcan condition number: {SMULTIXCAN_CONDITION_NUMBER}\")"
   ]
  },
  {
   "cell_type": "code",
   "execution_count": 9,
   "id": "f34a336f-548e-4afe-8955-90eaea4f42c6",
   "metadata": {
    "execution": {
     "iopub.execute_input": "2022-08-03T02:16:36.534929Z",
     "iopub.status.busy": "2022-08-03T02:16:36.534635Z",
     "iopub.status.idle": "2022-08-03T02:16:36.579271Z",
     "shell.execute_reply": "2022-08-03T02:16:36.578697Z"
    },
    "papermill": {
     "duration": 0.060507,
     "end_time": "2022-08-03T02:16:36.580925",
     "exception": false,
     "start_time": "2022-08-03T02:16:36.520418",
     "status": "completed"
    },
    "tags": []
   },
   "outputs": [
    {
     "data": {
      "text/plain": [
       "'Working on chromosome 18'"
      ]
     },
     "metadata": {},
     "output_type": "display_data"
    }
   ],
   "source": [
    "assert CHROMOSOME is not None and (\n",
    "    1 <= CHROMOSOME <= 22\n",
    "), \"You have to select one chromosome (format: number between 1 and 22)\"\n",
    "\n",
    "CHROMOSOME = str(CHROMOSOME)\n",
    "display(f\"Working on chromosome {CHROMOSOME}\")"
   ]
  },
  {
   "cell_type": "code",
   "execution_count": 10,
   "id": "ab8e96e8-06b5-4363-9dcd-dc4d78cc27f7",
   "metadata": {
    "execution": {
     "iopub.execute_input": "2022-08-03T02:16:36.606589Z",
     "iopub.status.busy": "2022-08-03T02:16:36.606329Z",
     "iopub.status.idle": "2022-08-03T02:16:36.636370Z",
     "shell.execute_reply": "2022-08-03T02:16:36.635819Z"
    },
    "papermill": {
     "duration": 0.045927,
     "end_time": "2022-08-03T02:16:36.637952",
     "exception": false,
     "start_time": "2022-08-03T02:16:36.592025",
     "status": "completed"
    },
    "tags": []
   },
   "outputs": [
    {
     "data": {
      "text/plain": [
       "'Compute correlation within distance False'"
      ]
     },
     "metadata": {},
     "output_type": "display_data"
    }
   ],
   "source": [
    "display(f\"Compute correlation within distance {COMPUTE_CORRELATIONS_WITHIN_DISTANCE}\")"
   ]
  },
  {
   "cell_type": "code",
   "execution_count": 11,
   "id": "396392dc-0340-4540-9b02-e182b833f909",
   "metadata": {
    "execution": {
     "iopub.execute_input": "2022-08-03T02:16:36.659225Z",
     "iopub.status.busy": "2022-08-03T02:16:36.659007Z",
     "iopub.status.idle": "2022-08-03T02:16:36.724768Z",
     "shell.execute_reply": "2022-08-03T02:16:36.724208Z"
    },
    "papermill": {
     "duration": 0.078135,
     "end_time": "2022-08-03T02:16:36.726390",
     "exception": false,
     "start_time": "2022-08-03T02:16:36.648255",
     "status": "completed"
    },
    "tags": []
   },
   "outputs": [
    {
     "data": {
      "text/plain": [
       "'Using output dir base: /project/ritchie20/projects/phenoplier/base/results/gls/gene_corrs/cohorts/1000g_eur/gtex_v8/mashr'"
      ]
     },
     "metadata": {},
     "output_type": "display_data"
    }
   ],
   "source": [
    "OUTPUT_DIR_BASE = (\n",
    "    conf.RESULTS[\"GLS\"]\n",
    "    / \"gene_corrs\"\n",
    "    / \"cohorts\"\n",
    "    / COHORT_NAME\n",
    "    / REFERENCE_PANEL.lower()\n",
    "    / EQTL_MODEL.lower()\n",
    ")\n",
    "OUTPUT_DIR_BASE.mkdir(parents=True, exist_ok=True)\n",
    "\n",
    "display(f\"Using output dir base: {OUTPUT_DIR_BASE}\")"
   ]
  },
  {
   "cell_type": "markdown",
   "id": "d2ba085e",
   "metadata": {
    "papermill": {
     "duration": 0.023048,
     "end_time": "2022-08-03T02:16:36.768489",
     "exception": false,
     "start_time": "2022-08-03T02:16:36.745441",
     "status": "completed"
    },
    "tags": []
   },
   "source": [
    "# Load data"
   ]
  },
  {
   "cell_type": "markdown",
   "id": "7dcb8db7",
   "metadata": {
    "papermill": {
     "duration": 0.023521,
     "end_time": "2022-08-03T02:16:36.815673",
     "exception": false,
     "start_time": "2022-08-03T02:16:36.792152",
     "status": "completed"
    },
    "tags": []
   },
   "source": [
    "## GWAS variants"
   ]
  },
  {
   "cell_type": "code",
   "execution_count": 12,
   "id": "29434c4e-8cd3-4b9b-82e4-b5a251d9dd19",
   "metadata": {
    "execution": {
     "iopub.execute_input": "2022-08-03T02:16:36.870287Z",
     "iopub.status.busy": "2022-08-03T02:16:36.870014Z",
     "iopub.status.idle": "2022-08-03T02:16:39.739778Z",
     "shell.execute_reply": "2022-08-03T02:16:39.738898Z"
    },
    "papermill": {
     "duration": 2.908342,
     "end_time": "2022-08-03T02:16:39.741927",
     "exception": false,
     "start_time": "2022-08-03T02:16:36.833585",
     "status": "completed"
    },
    "tags": []
   },
   "outputs": [],
   "source": [
    "with open(OUTPUT_DIR_BASE / \"gwas_variant_ids.pkl\", \"rb\") as handle:\n",
    "    gwas_variants_ids_set = pickle.load(handle)"
   ]
  },
  {
   "cell_type": "code",
   "execution_count": 13,
   "id": "b9d9dec2-4a76-4bf9-bde2-e24c95acb8a0",
   "metadata": {
    "execution": {
     "iopub.execute_input": "2022-08-03T02:16:39.764256Z",
     "iopub.status.busy": "2022-08-03T02:16:39.764035Z",
     "iopub.status.idle": "2022-08-03T02:16:39.859880Z",
     "shell.execute_reply": "2022-08-03T02:16:39.859324Z"
    },
    "papermill": {
     "duration": 0.108193,
     "end_time": "2022-08-03T02:16:39.861486",
     "exception": false,
     "start_time": "2022-08-03T02:16:39.753293",
     "status": "completed"
    },
    "tags": []
   },
   "outputs": [
    {
     "data": {
      "text/plain": [
       "8325729"
      ]
     },
     "execution_count": 13,
     "metadata": {},
     "output_type": "execute_result"
    }
   ],
   "source": [
    "len(gwas_variants_ids_set)"
   ]
  },
  {
   "cell_type": "code",
   "execution_count": 14,
   "id": "4235b06a-6034-4ee4-a0a3-2ae35d122418",
   "metadata": {
    "execution": {
     "iopub.execute_input": "2022-08-03T02:16:39.882457Z",
     "iopub.status.busy": "2022-08-03T02:16:39.882186Z",
     "iopub.status.idle": "2022-08-03T02:16:40.432040Z",
     "shell.execute_reply": "2022-08-03T02:16:40.431461Z"
    },
    "papermill": {
     "duration": 0.562071,
     "end_time": "2022-08-03T02:16:40.433645",
     "exception": false,
     "start_time": "2022-08-03T02:16:39.871574",
     "status": "completed"
    },
    "tags": []
   },
   "outputs": [
    {
     "data": {
      "text/plain": [
       "['chr20_59515301_G_A_b38',\n",
       " 'chr17_66053439_G_A_b38',\n",
       " 'chr1_177344142_C_T_b38',\n",
       " 'chr8_141594348_T_C_b38',\n",
       " 'chr10_106306221_G_C_b38']"
      ]
     },
     "execution_count": 14,
     "metadata": {},
     "output_type": "execute_result"
    }
   ],
   "source": [
    "list(gwas_variants_ids_set)[:5]"
   ]
  },
  {
   "cell_type": "markdown",
   "id": "07866999-2305-41f9-a144-e69c9122c212",
   "metadata": {
    "papermill": {
     "duration": 0.009034,
     "end_time": "2022-08-03T02:16:40.453189",
     "exception": false,
     "start_time": "2022-08-03T02:16:40.444155",
     "status": "completed"
    },
    "tags": []
   },
   "source": [
    "## S-PrediXcan tissue models"
   ]
  },
  {
   "cell_type": "code",
   "execution_count": 15,
   "id": "780611d9-77c8-405f-90a4-f271f7b09397",
   "metadata": {
    "execution": {
     "iopub.execute_input": "2022-08-03T02:16:40.472545Z",
     "iopub.status.busy": "2022-08-03T02:16:40.472338Z",
     "iopub.status.idle": "2022-08-03T02:16:41.480070Z",
     "shell.execute_reply": "2022-08-03T02:16:41.479448Z"
    },
    "papermill": {
     "duration": 1.019647,
     "end_time": "2022-08-03T02:16:41.482027",
     "exception": false,
     "start_time": "2022-08-03T02:16:40.462380",
     "status": "completed"
    },
    "tags": []
   },
   "outputs": [],
   "source": [
    "spredixcan_genes_models = pd.read_pickle(OUTPUT_DIR_BASE / \"gene_tissues.pkl\")"
   ]
  },
  {
   "cell_type": "code",
   "execution_count": 16,
   "id": "726dd1f6-9557-4225-91fa-b3b879ea96e1",
   "metadata": {
    "execution": {
     "iopub.execute_input": "2022-08-03T02:16:41.525723Z",
     "iopub.status.busy": "2022-08-03T02:16:41.525460Z",
     "iopub.status.idle": "2022-08-03T02:16:41.792109Z",
     "shell.execute_reply": "2022-08-03T02:16:41.791567Z"
    },
    "papermill": {
     "duration": 0.293712,
     "end_time": "2022-08-03T02:16:41.793648",
     "exception": false,
     "start_time": "2022-08-03T02:16:41.499936",
     "status": "completed"
    },
    "tags": []
   },
   "outputs": [
    {
     "data": {
      "text/plain": [
       "(6444, 10)"
      ]
     },
     "execution_count": 16,
     "metadata": {},
     "output_type": "execute_result"
    }
   ],
   "source": [
    "spredixcan_genes_models.shape"
   ]
  },
  {
   "cell_type": "code",
   "execution_count": 17,
   "id": "944a1b48-222c-4eb0-b252-b9de2cbca215",
   "metadata": {
    "execution": {
     "iopub.execute_input": "2022-08-03T02:16:41.829300Z",
     "iopub.status.busy": "2022-08-03T02:16:41.829077Z",
     "iopub.status.idle": "2022-08-03T02:16:41.879277Z",
     "shell.execute_reply": "2022-08-03T02:16:41.878710Z"
    },
    "papermill": {
     "duration": 0.066849,
     "end_time": "2022-08-03T02:16:41.880787",
     "exception": false,
     "start_time": "2022-08-03T02:16:41.813938",
     "status": "completed"
    },
    "tags": []
   },
   "outputs": [
    {
     "data": {
      "text/html": [
       "<div>\n",
       "<style scoped>\n",
       "    .dataframe tbody tr th:only-of-type {\n",
       "        vertical-align: middle;\n",
       "    }\n",
       "\n",
       "    .dataframe tbody tr th {\n",
       "        vertical-align: top;\n",
       "    }\n",
       "\n",
       "    .dataframe thead th {\n",
       "        text-align: right;\n",
       "    }\n",
       "</style>\n",
       "<table border=\"1\" class=\"dataframe\">\n",
       "  <thead>\n",
       "    <tr style=\"text-align: right;\">\n",
       "      <th></th>\n",
       "      <th>gene_name</th>\n",
       "      <th>tissue</th>\n",
       "      <th>n_tissues</th>\n",
       "      <th>tissues_pc_variances</th>\n",
       "      <th>tissues_pc_variances_cov</th>\n",
       "      <th>tissues_variances</th>\n",
       "      <th>n_snps_used_sum</th>\n",
       "      <th>n_snps_in_model_sum</th>\n",
       "      <th>unique_n_snps_in_model</th>\n",
       "      <th>unique_n_snps_used</th>\n",
       "    </tr>\n",
       "    <tr>\n",
       "      <th>gene_id</th>\n",
       "      <th></th>\n",
       "      <th></th>\n",
       "      <th></th>\n",
       "      <th></th>\n",
       "      <th></th>\n",
       "      <th></th>\n",
       "      <th></th>\n",
       "      <th></th>\n",
       "      <th></th>\n",
       "      <th></th>\n",
       "    </tr>\n",
       "  </thead>\n",
       "  <tbody>\n",
       "    <tr>\n",
       "      <th>ENSG00000000419</th>\n",
       "      <td>DPM1</td>\n",
       "      <td>(Brain_Substantia_nigra, Brain_Hypothalamus)</td>\n",
       "      <td>2</td>\n",
       "      <td>[1.0442398458252409, 0.9557601541747592]</td>\n",
       "      <td>[0.013163142634155849, 0.00048574890347684763]</td>\n",
       "      <td>{'Brain_Hypothalamus': 0.013162153504206677, '...</td>\n",
       "      <td>2</td>\n",
       "      <td>2</td>\n",
       "      <td>2</td>\n",
       "      <td>2</td>\n",
       "    </tr>\n",
       "    <tr>\n",
       "      <th>ENSG00000000938</th>\n",
       "      <td>FGR</td>\n",
       "      <td>(Cells_EBV-transformed_lymphocytes, Lung, Skin...</td>\n",
       "      <td>36</td>\n",
       "      <td>[31.63266933637129, 2.078367751851144, 1.27161...</td>\n",
       "      <td>[0.1715948657078027]</td>\n",
       "      <td>{'Esophagus_Muscularis': 0.006536602044478473,...</td>\n",
       "      <td>40</td>\n",
       "      <td>40</td>\n",
       "      <td>5</td>\n",
       "      <td>5</td>\n",
       "    </tr>\n",
       "    <tr>\n",
       "      <th>ENSG00000000971</th>\n",
       "      <td>CFH</td>\n",
       "      <td>(Brain_Putamen_basal_ganglia, Lung, Skin_Not_S...</td>\n",
       "      <td>34</td>\n",
       "      <td>[21.56076992568329, 7.310170987045463, 1.83778...</td>\n",
       "      <td>[0.2093060319587451, 0.058234347656008024, 0.0...</td>\n",
       "      <td>{'Esophagus_Muscularis': 0.01739410990047228, ...</td>\n",
       "      <td>44</td>\n",
       "      <td>44</td>\n",
       "      <td>12</td>\n",
       "      <td>12</td>\n",
       "    </tr>\n",
       "    <tr>\n",
       "      <th>ENSG00000001084</th>\n",
       "      <td>GCLC</td>\n",
       "      <td>(Cells_EBV-transformed_lymphocytes, Brain_Puta...</td>\n",
       "      <td>32</td>\n",
       "      <td>[21.291939080546538, 4.699418748743195, 2.2489...</td>\n",
       "      <td>[0.39430527375123775, 0.11627488888534836, 0.0...</td>\n",
       "      <td>{'Thyroid': 0.009654918580686024, 'Brain_Corte...</td>\n",
       "      <td>46</td>\n",
       "      <td>46</td>\n",
       "      <td>23</td>\n",
       "      <td>23</td>\n",
       "    </tr>\n",
       "    <tr>\n",
       "      <th>ENSG00000001167</th>\n",
       "      <td>NFYA</td>\n",
       "      <td>(Brain_Putamen_basal_ganglia, Lung, Skin_Not_S...</td>\n",
       "      <td>40</td>\n",
       "      <td>[37.3356602954977, 1.3914019604538357]</td>\n",
       "      <td>[1.1642639979821048, 0.05742881287671712]</td>\n",
       "      <td>{'Esophagus_Muscularis': 0.0318781600881541, '...</td>\n",
       "      <td>47</td>\n",
       "      <td>48</td>\n",
       "      <td>14</td>\n",
       "      <td>13</td>\n",
       "    </tr>\n",
       "  </tbody>\n",
       "</table>\n",
       "</div>"
      ],
      "text/plain": [
       "                gene_name                                             tissue  \\\n",
       "gene_id                                                                        \n",
       "ENSG00000000419      DPM1       (Brain_Substantia_nigra, Brain_Hypothalamus)   \n",
       "ENSG00000000938       FGR  (Cells_EBV-transformed_lymphocytes, Lung, Skin...   \n",
       "ENSG00000000971       CFH  (Brain_Putamen_basal_ganglia, Lung, Skin_Not_S...   \n",
       "ENSG00000001084      GCLC  (Cells_EBV-transformed_lymphocytes, Brain_Puta...   \n",
       "ENSG00000001167      NFYA  (Brain_Putamen_basal_ganglia, Lung, Skin_Not_S...   \n",
       "\n",
       "                 n_tissues                               tissues_pc_variances  \\\n",
       "gene_id                                                                         \n",
       "ENSG00000000419          2           [1.0442398458252409, 0.9557601541747592]   \n",
       "ENSG00000000938         36  [31.63266933637129, 2.078367751851144, 1.27161...   \n",
       "ENSG00000000971         34  [21.56076992568329, 7.310170987045463, 1.83778...   \n",
       "ENSG00000001084         32  [21.291939080546538, 4.699418748743195, 2.2489...   \n",
       "ENSG00000001167         40             [37.3356602954977, 1.3914019604538357]   \n",
       "\n",
       "                                          tissues_pc_variances_cov  \\\n",
       "gene_id                                                              \n",
       "ENSG00000000419     [0.013163142634155849, 0.00048574890347684763]   \n",
       "ENSG00000000938                               [0.1715948657078027]   \n",
       "ENSG00000000971  [0.2093060319587451, 0.058234347656008024, 0.0...   \n",
       "ENSG00000001084  [0.39430527375123775, 0.11627488888534836, 0.0...   \n",
       "ENSG00000001167          [1.1642639979821048, 0.05742881287671712]   \n",
       "\n",
       "                                                 tissues_variances  \\\n",
       "gene_id                                                              \n",
       "ENSG00000000419  {'Brain_Hypothalamus': 0.013162153504206677, '...   \n",
       "ENSG00000000938  {'Esophagus_Muscularis': 0.006536602044478473,...   \n",
       "ENSG00000000971  {'Esophagus_Muscularis': 0.01739410990047228, ...   \n",
       "ENSG00000001084  {'Thyroid': 0.009654918580686024, 'Brain_Corte...   \n",
       "ENSG00000001167  {'Esophagus_Muscularis': 0.0318781600881541, '...   \n",
       "\n",
       "                 n_snps_used_sum  n_snps_in_model_sum  unique_n_snps_in_model  \\\n",
       "gene_id                                                                         \n",
       "ENSG00000000419                2                    2                       2   \n",
       "ENSG00000000938               40                   40                       5   \n",
       "ENSG00000000971               44                   44                      12   \n",
       "ENSG00000001084               46                   46                      23   \n",
       "ENSG00000001167               47                   48                      14   \n",
       "\n",
       "                 unique_n_snps_used  \n",
       "gene_id                              \n",
       "ENSG00000000419                   2  \n",
       "ENSG00000000938                   5  \n",
       "ENSG00000000971                  12  \n",
       "ENSG00000001084                  23  \n",
       "ENSG00000001167                  13  "
      ]
     },
     "execution_count": 17,
     "metadata": {},
     "output_type": "execute_result"
    }
   ],
   "source": [
    "spredixcan_genes_models.head()"
   ]
  },
  {
   "cell_type": "code",
   "execution_count": 18,
   "id": "d1c11bb1-be0b-4f40-b360-633d6827109f",
   "metadata": {
    "execution": {
     "iopub.execute_input": "2022-08-03T02:16:41.915716Z",
     "iopub.status.busy": "2022-08-03T02:16:41.915511Z",
     "iopub.status.idle": "2022-08-03T02:16:41.941274Z",
     "shell.execute_reply": "2022-08-03T02:16:41.940754Z"
    },
    "papermill": {
     "duration": 0.04428,
     "end_time": "2022-08-03T02:16:41.942904",
     "exception": false,
     "start_time": "2022-08-03T02:16:41.898624",
     "status": "completed"
    },
    "tags": []
   },
   "outputs": [],
   "source": [
    "assert spredixcan_genes_models.index.is_unique"
   ]
  },
  {
   "cell_type": "markdown",
   "id": "a5b5092c-a13e-47c4-a92a-480fcc08f3ae",
   "metadata": {
    "papermill": {
     "duration": 0.015361,
     "end_time": "2022-08-03T02:16:41.978205",
     "exception": false,
     "start_time": "2022-08-03T02:16:41.962844",
     "status": "completed"
    },
    "tags": []
   },
   "source": [
    "## Gene info"
   ]
  },
  {
   "cell_type": "code",
   "execution_count": 19,
   "id": "7d6bb224-88e9-4358-ac10-43a41d92cdad",
   "metadata": {
    "execution": {
     "iopub.execute_input": "2022-08-03T02:16:42.009792Z",
     "iopub.status.busy": "2022-08-03T02:16:42.009587Z",
     "iopub.status.idle": "2022-08-03T02:16:42.048042Z",
     "shell.execute_reply": "2022-08-03T02:16:42.047493Z"
    },
    "papermill": {
     "duration": 0.057894,
     "end_time": "2022-08-03T02:16:42.049683",
     "exception": false,
     "start_time": "2022-08-03T02:16:41.991789",
     "status": "completed"
    },
    "tags": []
   },
   "outputs": [],
   "source": [
    "genes_info = pd.read_pickle(OUTPUT_DIR_BASE / \"genes_info.pkl\")"
   ]
  },
  {
   "cell_type": "code",
   "execution_count": 20,
   "id": "9e32abfa-546d-483e-8c18-d526e9e05903",
   "metadata": {
    "execution": {
     "iopub.execute_input": "2022-08-03T02:16:42.081450Z",
     "iopub.status.busy": "2022-08-03T02:16:42.081244Z",
     "iopub.status.idle": "2022-08-03T02:16:42.355283Z",
     "shell.execute_reply": "2022-08-03T02:16:42.354753Z"
    },
    "papermill": {
     "duration": 0.292519,
     "end_time": "2022-08-03T02:16:42.356793",
     "exception": false,
     "start_time": "2022-08-03T02:16:42.064274",
     "status": "completed"
    },
    "tags": []
   },
   "outputs": [
    {
     "data": {
      "text/plain": [
       "(6444, 7)"
      ]
     },
     "execution_count": 20,
     "metadata": {},
     "output_type": "execute_result"
    }
   ],
   "source": [
    "genes_info.shape"
   ]
  },
  {
   "cell_type": "code",
   "execution_count": 21,
   "id": "d16c3e92-85ec-468a-9a56-e25a9774a1cb",
   "metadata": {
    "execution": {
     "iopub.execute_input": "2022-08-03T02:16:42.402275Z",
     "iopub.status.busy": "2022-08-03T02:16:42.402069Z",
     "iopub.status.idle": "2022-08-03T02:16:42.471304Z",
     "shell.execute_reply": "2022-08-03T02:16:42.470735Z"
    },
    "papermill": {
     "duration": 0.088818,
     "end_time": "2022-08-03T02:16:42.472926",
     "exception": false,
     "start_time": "2022-08-03T02:16:42.384108",
     "status": "completed"
    },
    "tags": []
   },
   "outputs": [
    {
     "data": {
      "text/html": [
       "<div>\n",
       "<style scoped>\n",
       "    .dataframe tbody tr th:only-of-type {\n",
       "        vertical-align: middle;\n",
       "    }\n",
       "\n",
       "    .dataframe tbody tr th {\n",
       "        vertical-align: top;\n",
       "    }\n",
       "\n",
       "    .dataframe thead th {\n",
       "        text-align: right;\n",
       "    }\n",
       "</style>\n",
       "<table border=\"1\" class=\"dataframe\">\n",
       "  <thead>\n",
       "    <tr style=\"text-align: right;\">\n",
       "      <th></th>\n",
       "      <th>name</th>\n",
       "      <th>id</th>\n",
       "      <th>chr</th>\n",
       "      <th>band</th>\n",
       "      <th>start_position</th>\n",
       "      <th>end_position</th>\n",
       "      <th>gene_length</th>\n",
       "    </tr>\n",
       "  </thead>\n",
       "  <tbody>\n",
       "    <tr>\n",
       "      <th>0</th>\n",
       "      <td>HEYL</td>\n",
       "      <td>ENSG00000163909</td>\n",
       "      <td>1</td>\n",
       "      <td>1p34.2</td>\n",
       "      <td>39623435.0</td>\n",
       "      <td>39639643.0</td>\n",
       "      <td>16208.0</td>\n",
       "    </tr>\n",
       "    <tr>\n",
       "      <th>1</th>\n",
       "      <td>CYP24A1</td>\n",
       "      <td>ENSG00000019186</td>\n",
       "      <td>20</td>\n",
       "      <td>20q13.2</td>\n",
       "      <td>54153446.0</td>\n",
       "      <td>54173986.0</td>\n",
       "      <td>20540.0</td>\n",
       "    </tr>\n",
       "    <tr>\n",
       "      <th>2</th>\n",
       "      <td>ITGB4</td>\n",
       "      <td>ENSG00000132470</td>\n",
       "      <td>17</td>\n",
       "      <td>17q25.1</td>\n",
       "      <td>75721328.0</td>\n",
       "      <td>75757818.0</td>\n",
       "      <td>36490.0</td>\n",
       "    </tr>\n",
       "    <tr>\n",
       "      <th>3</th>\n",
       "      <td>SPINT1</td>\n",
       "      <td>ENSG00000166145</td>\n",
       "      <td>15</td>\n",
       "      <td>15q15.1</td>\n",
       "      <td>40844018.0</td>\n",
       "      <td>40858207.0</td>\n",
       "      <td>14189.0</td>\n",
       "    </tr>\n",
       "    <tr>\n",
       "      <th>4</th>\n",
       "      <td>PCSK6</td>\n",
       "      <td>ENSG00000140479</td>\n",
       "      <td>15</td>\n",
       "      <td>15q26.3</td>\n",
       "      <td>101297142.0</td>\n",
       "      <td>101525202.0</td>\n",
       "      <td>228060.0</td>\n",
       "    </tr>\n",
       "  </tbody>\n",
       "</table>\n",
       "</div>"
      ],
      "text/plain": [
       "      name               id chr     band  start_position  end_position  \\\n",
       "0     HEYL  ENSG00000163909   1   1p34.2      39623435.0    39639643.0   \n",
       "1  CYP24A1  ENSG00000019186  20  20q13.2      54153446.0    54173986.0   \n",
       "2    ITGB4  ENSG00000132470  17  17q25.1      75721328.0    75757818.0   \n",
       "3   SPINT1  ENSG00000166145  15  15q15.1      40844018.0    40858207.0   \n",
       "4    PCSK6  ENSG00000140479  15  15q26.3     101297142.0   101525202.0   \n",
       "\n",
       "   gene_length  \n",
       "0      16208.0  \n",
       "1      20540.0  \n",
       "2      36490.0  \n",
       "3      14189.0  \n",
       "4     228060.0  "
      ]
     },
     "execution_count": 21,
     "metadata": {},
     "output_type": "execute_result"
    }
   ],
   "source": [
    "genes_info.head()"
   ]
  },
  {
   "cell_type": "markdown",
   "id": "d3843e06",
   "metadata": {
    "papermill": {
     "duration": 0.015633,
     "end_time": "2022-08-03T02:16:42.514079",
     "exception": false,
     "start_time": "2022-08-03T02:16:42.498446",
     "status": "completed"
    },
    "tags": []
   },
   "source": [
    "# Compute correlations"
   ]
  },
  {
   "cell_type": "code",
   "execution_count": 22,
   "id": "cb859c15-d1f3-4006-a74c-2b83c0db9611",
   "metadata": {
    "execution": {
     "iopub.execute_input": "2022-08-03T02:16:42.555710Z",
     "iopub.status.busy": "2022-08-03T02:16:42.555449Z",
     "iopub.status.idle": "2022-08-03T02:16:42.703031Z",
     "shell.execute_reply": "2022-08-03T02:16:42.702466Z"
    },
    "papermill": {
     "duration": 0.166657,
     "end_time": "2022-08-03T02:16:42.704643",
     "exception": false,
     "start_time": "2022-08-03T02:16:42.537986",
     "status": "completed"
    },
    "tags": []
   },
   "outputs": [
    {
     "data": {
      "text/plain": [
       "PosixPath('/project/ritchie20/projects/phenoplier/base/results/gls/gene_corrs/cohorts/1000g_eur/gtex_v8/mashr/by_chr/gene_corrs-chr18.pkl')"
      ]
     },
     "metadata": {},
     "output_type": "display_data"
    }
   ],
   "source": [
    "output_dir = OUTPUT_DIR_BASE / \"by_chr\"\n",
    "output_dir.mkdir(exist_ok=True, parents=True)\n",
    "output_file = output_dir / f\"gene_corrs-chr{CHROMOSOME}.pkl\"\n",
    "display(output_file)"
   ]
  },
  {
   "cell_type": "code",
   "execution_count": 23,
   "id": "aa674fe4-6794-4eed-98fa-32b39d1d4ace",
   "metadata": {
    "execution": {
     "iopub.execute_input": "2022-08-03T02:16:42.755577Z",
     "iopub.status.busy": "2022-08-03T02:16:42.755367Z",
     "iopub.status.idle": "2022-08-03T02:16:42.789129Z",
     "shell.execute_reply": "2022-08-03T02:16:42.788605Z"
    },
    "papermill": {
     "duration": 0.050134,
     "end_time": "2022-08-03T02:16:42.790797",
     "exception": false,
     "start_time": "2022-08-03T02:16:42.740663",
     "status": "completed"
    },
    "tags": []
   },
   "outputs": [],
   "source": [
    "warnings.filterwarnings(\"error\")"
   ]
  },
  {
   "cell_type": "code",
   "execution_count": 24,
   "id": "44d5450b-3baf-43f1-9e2e-4b06f1a785f8",
   "metadata": {
    "execution": {
     "iopub.execute_input": "2022-08-03T02:16:42.830841Z",
     "iopub.status.busy": "2022-08-03T02:16:42.830565Z",
     "iopub.status.idle": "2022-08-03T02:16:42.851876Z",
     "shell.execute_reply": "2022-08-03T02:16:42.851274Z"
    },
    "papermill": {
     "duration": 0.040688,
     "end_time": "2022-08-03T02:16:42.853881",
     "exception": false,
     "start_time": "2022-08-03T02:16:42.813193",
     "status": "completed"
    },
    "tags": []
   },
   "outputs": [],
   "source": [
    "# standard checks\n",
    "all_chrs = genes_info[\"chr\"].dropna().unique()\n",
    "assert all_chrs.shape[0] == 22\n",
    "\n",
    "# select chromosome given by the user\n",
    "assert CHROMOSOME in all_chrs"
   ]
  },
  {
   "cell_type": "code",
   "execution_count": 25,
   "id": "2d7c043c-92a7-4d35-991b-fa69ac1e0268",
   "metadata": {
    "execution": {
     "iopub.execute_input": "2022-08-03T02:16:42.898002Z",
     "iopub.status.busy": "2022-08-03T02:16:42.897729Z",
     "iopub.status.idle": "2022-08-03T02:16:42.933818Z",
     "shell.execute_reply": "2022-08-03T02:16:42.933238Z"
    },
    "papermill": {
     "duration": 0.067566,
     "end_time": "2022-08-03T02:16:42.935491",
     "exception": false,
     "start_time": "2022-08-03T02:16:42.867925",
     "status": "completed"
    },
    "tags": []
   },
   "outputs": [
    {
     "name": "stdout",
     "output_type": "stream",
     "text": [
      "Number of genes in chromosome: 96\n"
     ]
    }
   ],
   "source": [
    "# run only on the chromosome specified\n",
    "all_chrs = [CHROMOSOME]\n",
    "genes_chr = genes_info[genes_info[\"chr\"] == CHROMOSOME]\n",
    "\n",
    "# For testing purposes\n",
    "# genes_chr = genes_chr.sample(n=20)\n",
    "\n",
    "print(f\"Number of genes in chromosome: {genes_chr.shape[0]}\", flush=True)"
   ]
  },
  {
   "cell_type": "code",
   "execution_count": 26,
   "id": "916015d8-2979-46d3-a9b9-1cf5a0932c6a",
   "metadata": {
    "execution": {
     "iopub.execute_input": "2022-08-03T02:16:42.964300Z",
     "iopub.status.busy": "2022-08-03T02:16:42.964087Z",
     "iopub.status.idle": "2022-08-03T02:16:43.007661Z",
     "shell.execute_reply": "2022-08-03T02:16:43.007132Z"
    },
    "papermill": {
     "duration": 0.059087,
     "end_time": "2022-08-03T02:16:43.009297",
     "exception": false,
     "start_time": "2022-08-03T02:16:42.950210",
     "status": "completed"
    },
    "tags": []
   },
   "outputs": [],
   "source": [
    "# sort genes by starting position to make visualizations better later\n",
    "genes_chr = genes_chr.sort_values(\"start_position\")"
   ]
  },
  {
   "cell_type": "code",
   "execution_count": 27,
   "id": "a38aa74a-8ad3-47f6-8ef9-56be0e011774",
   "metadata": {
    "execution": {
     "iopub.execute_input": "2022-08-03T02:16:43.044560Z",
     "iopub.status.busy": "2022-08-03T02:16:43.044356Z",
     "iopub.status.idle": "2022-08-03T02:16:43.116056Z",
     "shell.execute_reply": "2022-08-03T02:16:43.115479Z"
    },
    "papermill": {
     "duration": 0.094426,
     "end_time": "2022-08-03T02:16:43.117697",
     "exception": false,
     "start_time": "2022-08-03T02:16:43.023271",
     "status": "completed"
    },
    "tags": []
   },
   "outputs": [],
   "source": [
    "gene_chr_objs = [Gene(ensembl_id=gene_id) for gene_id in genes_chr[\"id\"]]"
   ]
  },
  {
   "cell_type": "code",
   "execution_count": 28,
   "id": "570f974f-13c3-42b6-ad3a-ce99ca885c1a",
   "metadata": {
    "execution": {
     "iopub.execute_input": "2022-08-03T02:16:43.154729Z",
     "iopub.status.busy": "2022-08-03T02:16:43.154525Z",
     "iopub.status.idle": "2022-08-03T02:16:43.290110Z",
     "shell.execute_reply": "2022-08-03T02:16:43.289555Z"
    },
    "papermill": {
     "duration": 0.155773,
     "end_time": "2022-08-03T02:16:43.291743",
     "exception": false,
     "start_time": "2022-08-03T02:16:43.135970",
     "status": "completed"
    },
    "tags": []
   },
   "outputs": [
    {
     "name": "stdout",
     "output_type": "stream",
     "text": [
      "Number of gene combinations: 4560\n"
     ]
    }
   ],
   "source": [
    "n = len(gene_chr_objs)\n",
    "n_comb = int(n * (n - 1) / 2.0)\n",
    "print(f\"Number of gene combinations: {n_comb}\", flush=True)"
   ]
  },
  {
   "cell_type": "code",
   "execution_count": 29,
   "id": "cdbb90a1",
   "metadata": {
    "execution": {
     "iopub.execute_input": "2022-08-03T02:16:43.326133Z",
     "iopub.status.busy": "2022-08-03T02:16:43.325929Z",
     "iopub.status.idle": "2022-08-03T02:24:16.925701Z",
     "shell.execute_reply": "2022-08-03T02:24:16.924737Z"
    },
    "papermill": {
     "duration": 453.619094,
     "end_time": "2022-08-03T02:24:16.928260",
     "exception": false,
     "start_time": "2022-08-03T02:16:43.309166",
     "status": "completed"
    },
    "tags": []
   },
   "outputs": [
    {
     "name": "stderr",
     "output_type": "stream",
     "text": [
      "ENSG00000141759 / ENSG00000178184: 100%|████████████████████████| 4560/4560 [07:33<00:00, 10.06it/s]\n"
     ]
    },
    {
     "data": {
      "text/plain": [
       "PosixPath('/project/ritchie20/projects/phenoplier/base/results/gls/gene_corrs/cohorts/1000g_eur/gtex_v8/mashr/by_chr/gene_corrs-chr18.pkl')"
      ]
     },
     "metadata": {},
     "output_type": "display_data"
    }
   ],
   "source": [
    "gene_corrs = []\n",
    "\n",
    "i = 0\n",
    "with tqdm(ncols=100, total=n_comb) as pbar:\n",
    "    for gene1_idx in range(0, len(gene_chr_objs) - 1):\n",
    "        gene1_obj = gene_chr_objs[gene1_idx]\n",
    "        gene1_tissues = spredixcan_genes_models.loc[gene1_obj.ensembl_id, \"tissue\"]\n",
    "\n",
    "        for gene2_idx in range(gene1_idx + 1, len(gene_chr_objs)):\n",
    "            gene2_obj = gene_chr_objs[gene2_idx]\n",
    "            gene2_tissues = spredixcan_genes_models.loc[gene2_obj.ensembl_id, \"tissue\"]\n",
    "\n",
    "            pbar.set_description(f\"{gene1_obj.ensembl_id} / {gene2_obj.ensembl_id}\")\n",
    "\n",
    "            try:\n",
    "                r = gene1_obj.get_ssm_correlation(\n",
    "                    other_gene=gene2_obj,\n",
    "                    tissues=gene1_tissues,\n",
    "                    other_tissues=gene2_tissues,\n",
    "                    snps_subset=gwas_variants_ids_set,\n",
    "                    condition_number=SMULTIXCAN_CONDITION_NUMBER,\n",
    "                    reference_panel=REFERENCE_PANEL,\n",
    "                    model_type=EQTL_MODEL,\n",
    "                    use_within_distance=COMPUTE_CORRELATIONS_WITHIN_DISTANCE,\n",
    "                )\n",
    "\n",
    "                if r is None:\n",
    "                    # if r is None, it's very likely because:\n",
    "                    #  * one of the genes has no prediction models\n",
    "                    #  * all the SNPs predictors for the gene are not present in the reference\n",
    "                    #    panel\n",
    "\n",
    "                    r = 0.0\n",
    "\n",
    "                gene_corrs.append(r)\n",
    "            except Warning as e:\n",
    "                if not DEBUG_MODE:\n",
    "                    raise e\n",
    "\n",
    "                print(\n",
    "                    f\"RuntimeWarning for genes {gene1_obj.ensembl_id} and {gene2_obj.ensembl_id}\",\n",
    "                    flush=True,\n",
    "                )\n",
    "                print(traceback.format_exc(), flush=True)\n",
    "\n",
    "                gene_corrs.append(np.nan)\n",
    "            except Exception as e:\n",
    "                if not DEBUG_MODE:\n",
    "                    raise e\n",
    "\n",
    "                print(\n",
    "                    f\"Exception for genes {gene1_obj.ensembl_id} and {gene2_obj.ensembl_id}\",\n",
    "                    flush=True,\n",
    "                )\n",
    "                print(traceback.format_exc(), flush=True)\n",
    "\n",
    "                gene_corrs.append(np.nan)\n",
    "\n",
    "            pbar.update(1)\n",
    "\n",
    "# create a pandas series\n",
    "gene_corrs_flat = pd.Series(gene_corrs)\n",
    "\n",
    "# save\n",
    "# FIXME: consider saving only the condenced matrix here. See here for\n",
    "# more details: https://github.com/greenelab/phenoplier/pull/38#discussion_r634600813\n",
    "gene_corrs_data = squareform(np.array(gene_corrs, dtype=np.float64))\n",
    "np.fill_diagonal(gene_corrs_data, 1.0)\n",
    "\n",
    "gene_chr_ids = [g.ensembl_id for g in gene_chr_objs]\n",
    "gene_corrs_df = pd.DataFrame(\n",
    "    data=gene_corrs_data,\n",
    "    index=gene_chr_ids,\n",
    "    columns=gene_chr_ids,\n",
    ")\n",
    "\n",
    "output_dir.mkdir(exist_ok=True, parents=True)\n",
    "display(output_file)\n",
    "\n",
    "gene_corrs_df.to_pickle(output_file)"
   ]
  },
  {
   "cell_type": "markdown",
   "id": "faa67b51-5373-470f-aa72-2ded53fa6dfe",
   "metadata": {
    "papermill": {
     "duration": 0.284082,
     "end_time": "2022-08-03T02:24:17.517641",
     "exception": false,
     "start_time": "2022-08-03T02:24:17.233559",
     "status": "completed"
    },
    "tags": []
   },
   "source": [
    "# Testing"
   ]
  },
  {
   "cell_type": "code",
   "execution_count": 30,
   "id": "14f7d046-4b55-4896-a56b-990127bcc388",
   "metadata": {
    "execution": {
     "iopub.execute_input": "2022-08-03T02:24:18.133708Z",
     "iopub.status.busy": "2022-08-03T02:24:18.133431Z",
     "iopub.status.idle": "2022-08-03T02:24:18.379515Z",
     "shell.execute_reply": "2022-08-03T02:24:18.378966Z"
    },
    "papermill": {
     "duration": 0.538408,
     "end_time": "2022-08-03T02:24:18.381128",
     "exception": false,
     "start_time": "2022-08-03T02:24:17.842720",
     "status": "completed"
    },
    "tags": []
   },
   "outputs": [
    {
     "data": {
      "text/plain": [
       "(96, 96)"
      ]
     },
     "execution_count": 30,
     "metadata": {},
     "output_type": "execute_result"
    }
   ],
   "source": [
    "gene_corrs_df.shape"
   ]
  },
  {
   "cell_type": "code",
   "execution_count": 31,
   "id": "c7d15414-3297-4537-a7c6-7588c0baeb75",
   "metadata": {
    "execution": {
     "iopub.execute_input": "2022-08-03T02:24:18.988068Z",
     "iopub.status.busy": "2022-08-03T02:24:18.987766Z",
     "iopub.status.idle": "2022-08-03T02:24:19.026095Z",
     "shell.execute_reply": "2022-08-03T02:24:19.025500Z"
    },
    "papermill": {
     "duration": 0.350241,
     "end_time": "2022-08-03T02:24:19.027728",
     "exception": false,
     "start_time": "2022-08-03T02:24:18.677487",
     "status": "completed"
    },
    "tags": []
   },
   "outputs": [
    {
     "data": {
      "text/html": [
       "<div>\n",
       "<style scoped>\n",
       "    .dataframe tbody tr th:only-of-type {\n",
       "        vertical-align: middle;\n",
       "    }\n",
       "\n",
       "    .dataframe tbody tr th {\n",
       "        vertical-align: top;\n",
       "    }\n",
       "\n",
       "    .dataframe thead th {\n",
       "        text-align: right;\n",
       "    }\n",
       "</style>\n",
       "<table border=\"1\" class=\"dataframe\">\n",
       "  <thead>\n",
       "    <tr style=\"text-align: right;\">\n",
       "      <th></th>\n",
       "      <th>ENSG00000079134</th>\n",
       "      <th>ENSG00000158270</th>\n",
       "      <th>ENSG00000176890</th>\n",
       "      <th>ENSG00000176105</th>\n",
       "      <th>ENSG00000080986</th>\n",
       "      <th>ENSG00000132205</th>\n",
       "      <th>ENSG00000101577</th>\n",
       "      <th>ENSG00000101608</th>\n",
       "      <th>ENSG00000118680</th>\n",
       "      <th>ENSG00000177426</th>\n",
       "      <th>...</th>\n",
       "      <th>ENSG00000166347</th>\n",
       "      <th>ENSG00000133313</th>\n",
       "      <th>ENSG00000166573</th>\n",
       "      <th>ENSG00000166377</th>\n",
       "      <th>ENSG00000131196</th>\n",
       "      <th>ENSG00000060069</th>\n",
       "      <th>ENSG00000178342</th>\n",
       "      <th>ENSG00000122490</th>\n",
       "      <th>ENSG00000141759</th>\n",
       "      <th>ENSG00000178184</th>\n",
       "    </tr>\n",
       "  </thead>\n",
       "  <tbody>\n",
       "    <tr>\n",
       "      <th>ENSG00000079134</th>\n",
       "      <td>1.000000</td>\n",
       "      <td>0.029305</td>\n",
       "      <td>0.013882</td>\n",
       "      <td>0.005950</td>\n",
       "      <td>0.005183</td>\n",
       "      <td>0.012554</td>\n",
       "      <td>0.009131</td>\n",
       "      <td>0.009353</td>\n",
       "      <td>0.007307</td>\n",
       "      <td>0.010012</td>\n",
       "      <td>...</td>\n",
       "      <td>0.008454</td>\n",
       "      <td>0.007036</td>\n",
       "      <td>0.007683</td>\n",
       "      <td>0.010245</td>\n",
       "      <td>0.011029</td>\n",
       "      <td>0.005111</td>\n",
       "      <td>0.008828</td>\n",
       "      <td>0.014122</td>\n",
       "      <td>0.007873</td>\n",
       "      <td>0.006508</td>\n",
       "    </tr>\n",
       "    <tr>\n",
       "      <th>ENSG00000158270</th>\n",
       "      <td>0.029305</td>\n",
       "      <td>1.000000</td>\n",
       "      <td>0.019775</td>\n",
       "      <td>0.012679</td>\n",
       "      <td>0.009545</td>\n",
       "      <td>0.014871</td>\n",
       "      <td>0.015987</td>\n",
       "      <td>0.010495</td>\n",
       "      <td>0.009077</td>\n",
       "      <td>0.013425</td>\n",
       "      <td>...</td>\n",
       "      <td>0.010546</td>\n",
       "      <td>0.007464</td>\n",
       "      <td>0.009267</td>\n",
       "      <td>0.012360</td>\n",
       "      <td>0.009260</td>\n",
       "      <td>0.008293</td>\n",
       "      <td>0.011034</td>\n",
       "      <td>0.013615</td>\n",
       "      <td>0.008953</td>\n",
       "      <td>0.014019</td>\n",
       "    </tr>\n",
       "    <tr>\n",
       "      <th>ENSG00000176890</th>\n",
       "      <td>0.013882</td>\n",
       "      <td>0.019775</td>\n",
       "      <td>1.000000</td>\n",
       "      <td>0.146938</td>\n",
       "      <td>0.013808</td>\n",
       "      <td>0.013879</td>\n",
       "      <td>0.011692</td>\n",
       "      <td>0.009375</td>\n",
       "      <td>0.009894</td>\n",
       "      <td>0.009753</td>\n",
       "      <td>...</td>\n",
       "      <td>0.008767</td>\n",
       "      <td>0.008129</td>\n",
       "      <td>0.009717</td>\n",
       "      <td>0.006060</td>\n",
       "      <td>0.010982</td>\n",
       "      <td>0.009868</td>\n",
       "      <td>0.010699</td>\n",
       "      <td>0.013568</td>\n",
       "      <td>0.013722</td>\n",
       "      <td>0.010427</td>\n",
       "    </tr>\n",
       "    <tr>\n",
       "      <th>ENSG00000176105</th>\n",
       "      <td>0.005950</td>\n",
       "      <td>0.012679</td>\n",
       "      <td>0.146938</td>\n",
       "      <td>1.000000</td>\n",
       "      <td>0.006168</td>\n",
       "      <td>0.004893</td>\n",
       "      <td>0.007443</td>\n",
       "      <td>0.005115</td>\n",
       "      <td>0.001838</td>\n",
       "      <td>0.009098</td>\n",
       "      <td>...</td>\n",
       "      <td>0.003879</td>\n",
       "      <td>0.006295</td>\n",
       "      <td>0.005225</td>\n",
       "      <td>0.006308</td>\n",
       "      <td>0.006937</td>\n",
       "      <td>0.009834</td>\n",
       "      <td>0.011135</td>\n",
       "      <td>0.004686</td>\n",
       "      <td>0.004601</td>\n",
       "      <td>0.006430</td>\n",
       "    </tr>\n",
       "    <tr>\n",
       "      <th>ENSG00000080986</th>\n",
       "      <td>0.005183</td>\n",
       "      <td>0.009545</td>\n",
       "      <td>0.013808</td>\n",
       "      <td>0.006168</td>\n",
       "      <td>1.000000</td>\n",
       "      <td>0.013972</td>\n",
       "      <td>0.015091</td>\n",
       "      <td>0.005943</td>\n",
       "      <td>0.007946</td>\n",
       "      <td>0.004584</td>\n",
       "      <td>...</td>\n",
       "      <td>0.005524</td>\n",
       "      <td>0.005384</td>\n",
       "      <td>0.010306</td>\n",
       "      <td>0.004825</td>\n",
       "      <td>0.007560</td>\n",
       "      <td>0.006147</td>\n",
       "      <td>0.009038</td>\n",
       "      <td>0.007745</td>\n",
       "      <td>0.005143</td>\n",
       "      <td>0.004009</td>\n",
       "    </tr>\n",
       "  </tbody>\n",
       "</table>\n",
       "<p>5 rows × 96 columns</p>\n",
       "</div>"
      ],
      "text/plain": [
       "                 ENSG00000079134  ENSG00000158270  ENSG00000176890  \\\n",
       "ENSG00000079134         1.000000         0.029305         0.013882   \n",
       "ENSG00000158270         0.029305         1.000000         0.019775   \n",
       "ENSG00000176890         0.013882         0.019775         1.000000   \n",
       "ENSG00000176105         0.005950         0.012679         0.146938   \n",
       "ENSG00000080986         0.005183         0.009545         0.013808   \n",
       "\n",
       "                 ENSG00000176105  ENSG00000080986  ENSG00000132205  \\\n",
       "ENSG00000079134         0.005950         0.005183         0.012554   \n",
       "ENSG00000158270         0.012679         0.009545         0.014871   \n",
       "ENSG00000176890         0.146938         0.013808         0.013879   \n",
       "ENSG00000176105         1.000000         0.006168         0.004893   \n",
       "ENSG00000080986         0.006168         1.000000         0.013972   \n",
       "\n",
       "                 ENSG00000101577  ENSG00000101608  ENSG00000118680  \\\n",
       "ENSG00000079134         0.009131         0.009353         0.007307   \n",
       "ENSG00000158270         0.015987         0.010495         0.009077   \n",
       "ENSG00000176890         0.011692         0.009375         0.009894   \n",
       "ENSG00000176105         0.007443         0.005115         0.001838   \n",
       "ENSG00000080986         0.015091         0.005943         0.007946   \n",
       "\n",
       "                 ENSG00000177426  ...  ENSG00000166347  ENSG00000133313  \\\n",
       "ENSG00000079134         0.010012  ...         0.008454         0.007036   \n",
       "ENSG00000158270         0.013425  ...         0.010546         0.007464   \n",
       "ENSG00000176890         0.009753  ...         0.008767         0.008129   \n",
       "ENSG00000176105         0.009098  ...         0.003879         0.006295   \n",
       "ENSG00000080986         0.004584  ...         0.005524         0.005384   \n",
       "\n",
       "                 ENSG00000166573  ENSG00000166377  ENSG00000131196  \\\n",
       "ENSG00000079134         0.007683         0.010245         0.011029   \n",
       "ENSG00000158270         0.009267         0.012360         0.009260   \n",
       "ENSG00000176890         0.009717         0.006060         0.010982   \n",
       "ENSG00000176105         0.005225         0.006308         0.006937   \n",
       "ENSG00000080986         0.010306         0.004825         0.007560   \n",
       "\n",
       "                 ENSG00000060069  ENSG00000178342  ENSG00000122490  \\\n",
       "ENSG00000079134         0.005111         0.008828         0.014122   \n",
       "ENSG00000158270         0.008293         0.011034         0.013615   \n",
       "ENSG00000176890         0.009868         0.010699         0.013568   \n",
       "ENSG00000176105         0.009834         0.011135         0.004686   \n",
       "ENSG00000080986         0.006147         0.009038         0.007745   \n",
       "\n",
       "                 ENSG00000141759  ENSG00000178184  \n",
       "ENSG00000079134         0.007873         0.006508  \n",
       "ENSG00000158270         0.008953         0.014019  \n",
       "ENSG00000176890         0.013722         0.010427  \n",
       "ENSG00000176105         0.004601         0.006430  \n",
       "ENSG00000080986         0.005143         0.004009  \n",
       "\n",
       "[5 rows x 96 columns]"
      ]
     },
     "execution_count": 31,
     "metadata": {},
     "output_type": "execute_result"
    }
   ],
   "source": [
    "gene_corrs_df.head()"
   ]
  },
  {
   "cell_type": "markdown",
   "id": "dad6603f-01c6-41fb-a6f6-241051207dd8",
   "metadata": {
    "papermill": {
     "duration": 0.285892,
     "end_time": "2022-08-03T02:24:19.601418",
     "exception": false,
     "start_time": "2022-08-03T02:24:19.315526",
     "status": "completed"
    },
    "tags": []
   },
   "source": [
    "## Standard checks and stats"
   ]
  },
  {
   "cell_type": "code",
   "execution_count": 32,
   "id": "286686af-1b7b-4440-8453-6bdcbd8de19c",
   "metadata": {
    "execution": {
     "iopub.execute_input": "2022-08-03T02:24:20.195351Z",
     "iopub.status.busy": "2022-08-03T02:24:20.195066Z",
     "iopub.status.idle": "2022-08-03T02:24:20.216581Z",
     "shell.execute_reply": "2022-08-03T02:24:20.215955Z"
    },
    "papermill": {
     "duration": 0.308537,
     "end_time": "2022-08-03T02:24:20.218632",
     "exception": false,
     "start_time": "2022-08-03T02:24:19.910095",
     "status": "completed"
    },
    "tags": []
   },
   "outputs": [],
   "source": [
    "assert not gene_corrs_df.isna().any().any()"
   ]
  },
  {
   "cell_type": "code",
   "execution_count": 33,
   "id": "00583efc-7068-4270-ad1e-4a418e91db96",
   "metadata": {
    "execution": {
     "iopub.execute_input": "2022-08-03T02:24:20.817452Z",
     "iopub.status.busy": "2022-08-03T02:24:20.817180Z",
     "iopub.status.idle": "2022-08-03T02:24:20.840137Z",
     "shell.execute_reply": "2022-08-03T02:24:20.839582Z"
    },
    "papermill": {
     "duration": 0.334205,
     "end_time": "2022-08-03T02:24:20.841693",
     "exception": false,
     "start_time": "2022-08-03T02:24:20.507488",
     "status": "completed"
    },
    "tags": []
   },
   "outputs": [
    {
     "data": {
      "text/plain": [
       "6.96108975641094e-07"
      ]
     },
     "metadata": {},
     "output_type": "display_data"
    }
   ],
   "source": [
    "_min_val = gene_corrs_df.min().min()\n",
    "display(_min_val)\n",
    "assert _min_val >= 0.0"
   ]
  },
  {
   "cell_type": "code",
   "execution_count": 34,
   "id": "d04fb2cf-1050-475b-b855-f5f7cc04092b",
   "metadata": {
    "execution": {
     "iopub.execute_input": "2022-08-03T02:24:21.411820Z",
     "iopub.status.busy": "2022-08-03T02:24:21.411546Z",
     "iopub.status.idle": "2022-08-03T02:24:21.434449Z",
     "shell.execute_reply": "2022-08-03T02:24:21.433886Z"
    },
    "papermill": {
     "duration": 0.309034,
     "end_time": "2022-08-03T02:24:21.436044",
     "exception": false,
     "start_time": "2022-08-03T02:24:21.127010",
     "status": "completed"
    },
    "tags": []
   },
   "outputs": [
    {
     "data": {
      "text/plain": [
       "1.0"
      ]
     },
     "metadata": {},
     "output_type": "display_data"
    }
   ],
   "source": [
    "_max_val = gene_corrs_df.max().max()  # this captures the diagonal\n",
    "display(_max_val)\n",
    "assert _max_val <= 1.0"
   ]
  },
  {
   "cell_type": "code",
   "execution_count": 35,
   "id": "96d02c44-1fba-47be-8a93-8f2608420b9c",
   "metadata": {
    "execution": {
     "iopub.execute_input": "2022-08-03T02:24:22.028535Z",
     "iopub.status.busy": "2022-08-03T02:24:22.028264Z",
     "iopub.status.idle": "2022-08-03T02:24:22.048157Z",
     "shell.execute_reply": "2022-08-03T02:24:22.047614Z"
    },
    "papermill": {
     "duration": 0.302318,
     "end_time": "2022-08-03T02:24:22.049809",
     "exception": false,
     "start_time": "2022-08-03T02:24:21.747491",
     "status": "completed"
    },
    "tags": []
   },
   "outputs": [],
   "source": [
    "# check upper triangular values\n",
    "assert len(gene_corrs) == int(genes_chr.shape[0] * (genes_chr.shape[0] - 1) / 2)"
   ]
  },
  {
   "cell_type": "code",
   "execution_count": 36,
   "id": "fe283586-c348-40e0-8841-f6d97bfb021c",
   "metadata": {
    "execution": {
     "iopub.execute_input": "2022-08-03T02:24:22.643651Z",
     "iopub.status.busy": "2022-08-03T02:24:22.643379Z",
     "iopub.status.idle": "2022-08-03T02:24:22.667934Z",
     "shell.execute_reply": "2022-08-03T02:24:22.667370Z"
    },
    "papermill": {
     "duration": 0.339176,
     "end_time": "2022-08-03T02:24:22.669583",
     "exception": false,
     "start_time": "2022-08-03T02:24:22.330407",
     "status": "completed"
    },
    "tags": []
   },
   "outputs": [
    {
     "data": {
      "text/plain": [
       "count    4.560000e+03\n",
       "mean     8.947646e-03\n",
       "std      2.208664e-02\n",
       "min      6.961090e-07\n",
       "25%      4.912122e-03\n",
       "50%      7.000703e-03\n",
       "75%      9.357841e-03\n",
       "max      7.134178e-01\n",
       "dtype: float64"
      ]
     },
     "execution_count": 36,
     "metadata": {},
     "output_type": "execute_result"
    }
   ],
   "source": [
    "gene_corrs_flat.describe()"
   ]
  },
  {
   "cell_type": "code",
   "execution_count": 37,
   "id": "b3815678-0f93-4b35-897b-a9d047a2aa78",
   "metadata": {
    "execution": {
     "iopub.execute_input": "2022-08-03T02:24:23.242129Z",
     "iopub.status.busy": "2022-08-03T02:24:23.241844Z",
     "iopub.status.idle": "2022-08-03T02:24:23.273096Z",
     "shell.execute_reply": "2022-08-03T02:24:23.272534Z"
    },
    "papermill": {
     "duration": 0.318028,
     "end_time": "2022-08-03T02:24:23.274687",
     "exception": false,
     "start_time": "2022-08-03T02:24:22.956659",
     "status": "completed"
    },
    "tags": []
   },
   "outputs": [
    {
     "data": {
      "text/plain": [
       "0.00    6.961090e-07\n",
       "0.05    2.282969e-03\n",
       "0.10    3.284370e-03\n",
       "0.15    3.896865e-03\n",
       "0.20    4.464195e-03\n",
       "0.25    4.912122e-03\n",
       "0.30    5.312200e-03\n",
       "0.35    5.742143e-03\n",
       "0.40    6.156074e-03\n",
       "0.45    6.581966e-03\n",
       "0.50    7.000703e-03\n",
       "0.55    7.467236e-03\n",
       "0.60    7.867376e-03\n",
       "0.65    8.319927e-03\n",
       "0.70    8.815873e-03\n",
       "0.75    9.357841e-03\n",
       "0.80    9.978320e-03\n",
       "0.85    1.069883e-02\n",
       "0.90    1.171891e-02\n",
       "0.95    1.328918e-02\n",
       "dtype: float64"
      ]
     },
     "metadata": {},
     "output_type": "display_data"
    }
   ],
   "source": [
    "gene_corrs_quantiles = gene_corrs_flat.quantile(np.arange(0, 1, 0.05))\n",
    "display(gene_corrs_quantiles)"
   ]
  },
  {
   "cell_type": "markdown",
   "id": "87134509-b145-4a10-8bc9-b7e914c2b0fa",
   "metadata": {
    "papermill": {
     "duration": 0.319967,
     "end_time": "2022-08-03T02:24:23.886963",
     "exception": false,
     "start_time": "2022-08-03T02:24:23.566996",
     "status": "completed"
    },
    "tags": []
   },
   "source": [
    "## Positive definiteness"
   ]
  },
  {
   "cell_type": "code",
   "execution_count": 38,
   "id": "07d9a9a1-a4f7-48aa-b916-6d42a8cc6186",
   "metadata": {
    "execution": {
     "iopub.execute_input": "2022-08-03T02:24:24.460310Z",
     "iopub.status.busy": "2022-08-03T02:24:24.460025Z",
     "iopub.status.idle": "2022-08-03T02:24:24.486227Z",
     "shell.execute_reply": "2022-08-03T02:24:24.485659Z"
    },
    "papermill": {
     "duration": 0.312427,
     "end_time": "2022-08-03T02:24:24.487766",
     "exception": false,
     "start_time": "2022-08-03T02:24:24.175339",
     "status": "completed"
    },
    "tags": []
   },
   "outputs": [
    {
     "data": {
      "text/plain": [
       "0"
      ]
     },
     "metadata": {},
     "output_type": "display_data"
    },
    {
     "data": {
      "text/plain": [
       "array([], dtype=float64)"
      ]
     },
     "metadata": {},
     "output_type": "display_data"
    }
   ],
   "source": [
    "# print negative eigenvalues\n",
    "eigs = np.linalg.eigvals(gene_corrs_df.to_numpy())\n",
    "display(len(eigs[eigs < 0]))\n",
    "display(eigs[eigs < 0])"
   ]
  },
  {
   "cell_type": "code",
   "execution_count": 39,
   "id": "6e218436-c3c5-4028-8c94-a4fa6260efce",
   "metadata": {
    "execution": {
     "iopub.execute_input": "2022-08-03T02:24:25.084820Z",
     "iopub.status.busy": "2022-08-03T02:24:25.084555Z",
     "iopub.status.idle": "2022-08-03T02:24:25.107393Z",
     "shell.execute_reply": "2022-08-03T02:24:25.106812Z"
    },
    "papermill": {
     "duration": 0.309208,
     "end_time": "2022-08-03T02:24:25.108976",
     "exception": false,
     "start_time": "2022-08-03T02:24:24.799768",
     "status": "completed"
    },
    "tags": []
   },
   "outputs": [
    {
     "name": "stdout",
     "output_type": "stream",
     "text": [
      "Works!\n"
     ]
    }
   ],
   "source": [
    "try:\n",
    "    chol_mat = np.linalg.cholesky(gene_corrs_df.to_numpy())\n",
    "    cov_inv = np.linalg.inv(chol_mat)\n",
    "    print(\"Works!\")\n",
    "except:\n",
    "    print(\"Cholesky decomposition failed\")"
   ]
  },
  {
   "cell_type": "markdown",
   "id": "8e60a080-edb2-4e9c-b2ef-22961693200c",
   "metadata": {
    "papermill": {
     "duration": 0.312059,
     "end_time": "2022-08-03T02:24:25.712630",
     "exception": false,
     "start_time": "2022-08-03T02:24:25.400571",
     "status": "completed"
    },
    "tags": []
   },
   "source": [
    "## Plot: distribution"
   ]
  },
  {
   "cell_type": "code",
   "execution_count": 40,
   "id": "8301126b-a7d4-4744-9c7d-f0f86eb6f54c",
   "metadata": {
    "execution": {
     "iopub.execute_input": "2022-08-03T02:24:26.291090Z",
     "iopub.status.busy": "2022-08-03T02:24:26.290792Z",
     "iopub.status.idle": "2022-08-03T02:24:30.712889Z",
     "shell.execute_reply": "2022-08-03T02:24:30.712124Z"
    },
    "papermill": {
     "duration": 4.714709,
     "end_time": "2022-08-03T02:24:30.715038",
     "exception": false,
     "start_time": "2022-08-03T02:24:26.000329",
     "status": "completed"
    },
    "tags": []
   },
   "outputs": [
    {
     "data": {
      "image/png": "[encoded data removed]",
      "text/plain": [
       "<Figure size 504x504 with 1 Axes>"
      ]
     },
     "metadata": {
      "needs_background": "light"
     },
     "output_type": "display_data"
    }
   ],
   "source": [
    "with sns.plotting_context(\"paper\", font_scale=1.5):\n",
    "    g = sns.displot(gene_corrs_flat, kde=True, height=7)\n",
    "    g.ax.set_title(\n",
    "        f\"Distribution of gene correlation values in chromosome {CHROMOSOME}\"\n",
    "    )"
   ]
  },
  {
   "cell_type": "markdown",
   "id": "cbd52bca-d878-4a2f-b684-5c83aa3038d4",
   "metadata": {
    "papermill": {
     "duration": 0.28754,
     "end_time": "2022-08-03T02:24:31.340446",
     "exception": false,
     "start_time": "2022-08-03T02:24:31.052906",
     "status": "completed"
    },
    "tags": []
   },
   "source": [
    "## Plot: heatmap"
   ]
  },
  {
   "cell_type": "code",
   "execution_count": 41,
   "id": "d03fe63a-c7b2-4fb9-a53c-db362ce843c9",
   "metadata": {
    "execution": {
     "iopub.execute_input": "2022-08-03T02:24:31.935122Z",
     "iopub.status.busy": "2022-08-03T02:24:31.934824Z",
     "iopub.status.idle": "2022-08-03T02:24:31.984025Z",
     "shell.execute_reply": "2022-08-03T02:24:31.983468Z"
    },
    "papermill": {
     "duration": 0.359127,
     "end_time": "2022-08-03T02:24:31.985597",
     "exception": false,
     "start_time": "2022-08-03T02:24:31.626470",
     "status": "completed"
    },
    "tags": []
   },
   "outputs": [
    {
     "data": {
      "text/plain": [
       "'0.0 / 0.05'"
      ]
     },
     "metadata": {},
     "output_type": "display_data"
    }
   ],
   "source": [
    "vmin_val = min(0.00, gene_corrs_quantiles[0.10])\n",
    "vmax_val = max(0.05, gene_corrs_quantiles[0.90])\n",
    "display(f\"{vmin_val} / {vmax_val}\")"
   ]
  },
  {
   "cell_type": "code",
   "execution_count": 42,
   "id": "dc41b70b-5bcc-4d9e-9f33-a22c4a94dab5",
   "metadata": {
    "execution": {
     "iopub.execute_input": "2022-08-03T02:24:32.560523Z",
     "iopub.status.busy": "2022-08-03T02:24:32.560254Z",
     "iopub.status.idle": "2022-08-03T02:24:32.722508Z",
     "shell.execute_reply": "2022-08-03T02:24:32.721925Z"
    },
    "papermill": {
     "duration": 0.450164,
     "end_time": "2022-08-03T02:24:32.724291",
     "exception": false,
     "start_time": "2022-08-03T02:24:32.274127",
     "status": "completed"
    },
    "tags": []
   },
   "outputs": [
    {
     "data": {
      "text/plain": [
       "Text(0.5, 1.0, 'Gene correlations in chromosome 18')"
      ]
     },
     "execution_count": 42,
     "metadata": {},
     "output_type": "execute_result"
    },
    {
     "data": {
      "image/png": "[encoded data removed]",
      "text/plain": [
       "<Figure size 720x720 with 2 Axes>"
      ]
     },
     "metadata": {
      "needs_background": "light"
     },
     "output_type": "display_data"
    }
   ],
   "source": [
    "f, ax = plt.subplots(figsize=(10, 10))\n",
    "sns.heatmap(\n",
    "    gene_corrs_df,\n",
    "    xticklabels=False,\n",
    "    yticklabels=False,\n",
    "    square=True,\n",
    "    vmin=vmin_val,\n",
    "    vmax=vmax_val,\n",
    "    cmap=\"rocket_r\",\n",
    "    ax=ax,\n",
    ")\n",
    "ax.set_title(f\"Gene correlations in chromosome {CHROMOSOME}\")"
   ]
  },
  {
   "cell_type": "code",
   "execution_count": null,
   "id": "b25e3ead",
   "metadata": {
    "papermill": {
     "duration": 0.293448,
     "end_time": "2022-08-03T02:24:33.337502",
     "exception": false,
     "start_time": "2022-08-03T02:24:33.044054",
     "status": "completed"
    },
    "tags": []
   },
   "outputs": [],
   "source": []
  }
 ],
 "metadata": {
  "jupytext": {
   "cell_metadata_filter": "all,-execution,-papermill,-trusted",
   "formats": "ipynb,py//py:percent"
  },
  "kernelspec": {
   "display_name": "Python 3 (ipykernel)",
   "language": "python",
   "name": "python3"
  },
  "language_info": {
   "codemirror_mode": {
    "name": "ipython",
    "version": 3
   },
   "file_extension": ".py",
   "mimetype": "text/x-python",
   "name": "python",
   "nbconvert_exporter": "python",
   "pygments_lexer": "ipython3",
   "version": "3.8.13"
  },
  "papermill": {
   "default_parameters": {},
   "duration": 487.067591,
   "end_time": "2022-08-03T02:24:36.616940",
   "environment_variables": {},
   "exception": null,
   "input_path": "nbs/15_gsa_gls/10-gene_expr_correlations.ipynb",
   "output_path": "nbs/15_gsa_gls/gene_corrs/cohorts/1000g_eur/gtex_v8/mashr/10-gene_expr_correlations-chr18.run.ipynb",
   "parameters": {
    "CHROMOSOME": 18,
    "COHORT_NAME": "1000G_EUR",
    "EQTL_MODEL": "MASHR",
    "REFERENCE_PANEL": "GTEX_V8"
   },
   "start_time": "2022-08-03T02:16:29.549349",
   "version": "2.2.2"
  }
 },
 "nbformat": 4,
 "nbformat_minor": 5
}
