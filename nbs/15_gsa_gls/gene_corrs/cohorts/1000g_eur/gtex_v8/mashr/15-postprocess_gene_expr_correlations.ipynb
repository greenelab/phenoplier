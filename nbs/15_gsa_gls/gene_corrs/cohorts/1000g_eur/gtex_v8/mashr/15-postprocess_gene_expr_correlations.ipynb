{
 "cells": [
  {
   "cell_type": "markdown",
   "id": "5ef66977",
   "metadata": {
    "papermill": {
     "duration": 0.031339,
     "end_time": "2022-08-04T15:32:02.272658",
     "exception": false,
     "start_time": "2022-08-04T15:32:02.241319",
     "status": "completed"
    },
    "tags": []
   },
   "source": [
    "# Description"
   ]
  },
  {
   "cell_type": "markdown",
   "id": "658d4f7c",
   "metadata": {
    "papermill": {
     "duration": 0.022916,
     "end_time": "2022-08-04T15:32:02.321253",
     "exception": false,
     "start_time": "2022-08-04T15:32:02.298337",
     "status": "completed"
    },
    "tags": []
   },
   "source": [
    "(Please, take a look at the README.md file in this directory for instructions on how to run this notebook)\n",
    "\n",
    "This notebook reads all gene correlations across all chromosomes and computes a single correlation matrix by assembling a big correlation matrix with all genes."
   ]
  },
  {
   "cell_type": "markdown",
   "id": "60fa4530",
   "metadata": {
    "papermill": {
     "duration": 0.021502,
     "end_time": "2022-08-04T15:32:02.364588",
     "exception": false,
     "start_time": "2022-08-04T15:32:02.343086",
     "status": "completed"
    },
    "tags": []
   },
   "source": [
    "# Modules"
   ]
  },
  {
   "cell_type": "code",
   "execution_count": 1,
   "id": "d70b0833",
   "metadata": {
    "execution": {
     "iopub.execute_input": "2022-08-04T15:32:02.406798Z",
     "iopub.status.busy": "2022-08-04T15:32:02.406444Z",
     "iopub.status.idle": "2022-08-04T15:32:02.477845Z",
     "shell.execute_reply": "2022-08-04T15:32:02.476766Z"
    },
    "papermill": {
     "duration": 0.096713,
     "end_time": "2022-08-04T15:32:02.481691",
     "exception": false,
     "start_time": "2022-08-04T15:32:02.384978",
     "status": "completed"
    },
    "tags": []
   },
   "outputs": [],
   "source": [
    "%load_ext autoreload\n",
    "%autoreload 2"
   ]
  },
  {
   "cell_type": "code",
   "execution_count": 2,
   "id": "6b2f9ca0",
   "metadata": {
    "execution": {
     "iopub.execute_input": "2022-08-04T15:32:02.533359Z",
     "iopub.status.busy": "2022-08-04T15:32:02.532995Z",
     "iopub.status.idle": "2022-08-04T15:32:04.822570Z",
     "shell.execute_reply": "2022-08-04T15:32:04.822049Z"
    },
    "papermill": {
     "duration": 2.316819,
     "end_time": "2022-08-04T15:32:04.824433",
     "exception": false,
     "start_time": "2022-08-04T15:32:02.507614",
     "status": "completed"
    },
    "tags": []
   },
   "outputs": [],
   "source": [
    "import pickle\n",
    "\n",
    "import numpy as np\n",
    "from scipy.spatial.distance import squareform\n",
    "import pandas as pd\n",
    "import matplotlib.pyplot as plt\n",
    "import seaborn as sns\n",
    "\n",
    "import conf\n",
    "from entity import Gene"
   ]
  },
  {
   "cell_type": "markdown",
   "id": "5b96e797",
   "metadata": {
    "papermill": {
     "duration": 0.011417,
     "end_time": "2022-08-04T15:32:04.847673",
     "exception": false,
     "start_time": "2022-08-04T15:32:04.836256",
     "status": "completed"
    },
    "tags": []
   },
   "source": [
    "# Settings"
   ]
  },
  {
   "cell_type": "code",
   "execution_count": 3,
   "id": "4fc1b6a0",
   "metadata": {
    "execution": {
     "iopub.execute_input": "2022-08-04T15:32:04.871311Z",
     "iopub.status.busy": "2022-08-04T15:32:04.871085Z",
     "iopub.status.idle": "2022-08-04T15:32:04.891015Z",
     "shell.execute_reply": "2022-08-04T15:32:04.890619Z"
    },
    "papermill": {
     "duration": 0.033599,
     "end_time": "2022-08-04T15:32:04.892388",
     "exception": false,
     "start_time": "2022-08-04T15:32:04.858789",
     "status": "completed"
    },
    "tags": [
     "parameters"
    ]
   },
   "outputs": [],
   "source": [
    "# a cohort name (it could be something like UK_BIOBANK, etc)\n",
    "COHORT_NAME = None\n",
    "\n",
    "# reference panel such as 1000G or GTEX_V8\n",
    "REFERENCE_PANEL = None\n",
    "\n",
    "# predictions models such as MASHR or ELASTIC_NET\n",
    "EQTL_MODEL = None"
   ]
  },
  {
   "cell_type": "code",
   "execution_count": 4,
   "id": "dca07512",
   "metadata": {
    "execution": {
     "iopub.execute_input": "2022-08-04T15:32:04.915425Z",
     "iopub.status.busy": "2022-08-04T15:32:04.915246Z",
     "iopub.status.idle": "2022-08-04T15:32:04.932060Z",
     "shell.execute_reply": "2022-08-04T15:32:04.931675Z"
    },
    "papermill": {
     "duration": 0.029979,
     "end_time": "2022-08-04T15:32:04.933435",
     "exception": false,
     "start_time": "2022-08-04T15:32:04.903456",
     "status": "completed"
    },
    "tags": [
     "injected-parameters"
    ]
   },
   "outputs": [],
   "source": [
    "# Parameters\n",
    "COHORT_NAME = \"1000G_EUR\"\n",
    "REFERENCE_PANEL = \"GTEX_V8\"\n",
    "EQTL_MODEL = \"MASHR\"\n"
   ]
  },
  {
   "cell_type": "code",
   "execution_count": 5,
   "id": "6dba5c90-40a4-4a62-899e-1711ab4e40bb",
   "metadata": {
    "execution": {
     "iopub.execute_input": "2022-08-04T15:32:04.956783Z",
     "iopub.status.busy": "2022-08-04T15:32:04.956600Z",
     "iopub.status.idle": "2022-08-04T15:32:04.976932Z",
     "shell.execute_reply": "2022-08-04T15:32:04.976540Z"
    },
    "papermill": {
     "duration": 0.033509,
     "end_time": "2022-08-04T15:32:04.978171",
     "exception": false,
     "start_time": "2022-08-04T15:32:04.944662",
     "status": "completed"
    },
    "tags": []
   },
   "outputs": [
    {
     "data": {
      "text/plain": [
       "'Cohort name: 1000g_eur'"
      ]
     },
     "metadata": {},
     "output_type": "display_data"
    }
   ],
   "source": [
    "assert COHORT_NAME is not None and len(COHORT_NAME) > 0, \"A cohort name must be given\"\n",
    "\n",
    "COHORT_NAME = COHORT_NAME.lower()\n",
    "display(f\"Cohort name: {COHORT_NAME}\")"
   ]
  },
  {
   "cell_type": "code",
   "execution_count": 6,
   "id": "90be4359-19db-4c2d-a3ca-202674476164",
   "metadata": {
    "execution": {
     "iopub.execute_input": "2022-08-04T15:32:05.002327Z",
     "iopub.status.busy": "2022-08-04T15:32:05.002142Z",
     "iopub.status.idle": "2022-08-04T15:32:05.020831Z",
     "shell.execute_reply": "2022-08-04T15:32:05.020445Z"
    },
    "papermill": {
     "duration": 0.032008,
     "end_time": "2022-08-04T15:32:05.022055",
     "exception": false,
     "start_time": "2022-08-04T15:32:04.990047",
     "status": "completed"
    },
    "tags": []
   },
   "outputs": [
    {
     "data": {
      "text/plain": [
       "'Reference panel: GTEX_V8'"
      ]
     },
     "metadata": {},
     "output_type": "display_data"
    }
   ],
   "source": [
    "assert (\n",
    "    REFERENCE_PANEL is not None and len(REFERENCE_PANEL) > 0\n",
    "), \"A reference panel must be given\"\n",
    "\n",
    "display(f\"Reference panel: {REFERENCE_PANEL}\")"
   ]
  },
  {
   "cell_type": "code",
   "execution_count": 7,
   "id": "d959f3f4-8f7b-4313-b3b1-37606e7250bf",
   "metadata": {
    "execution": {
     "iopub.execute_input": "2022-08-04T15:32:05.045915Z",
     "iopub.status.busy": "2022-08-04T15:32:05.045740Z",
     "iopub.status.idle": "2022-08-04T15:32:05.064214Z",
     "shell.execute_reply": "2022-08-04T15:32:05.063819Z"
    },
    "papermill": {
     "duration": 0.031626,
     "end_time": "2022-08-04T15:32:05.065410",
     "exception": false,
     "start_time": "2022-08-04T15:32:05.033784",
     "status": "completed"
    },
    "tags": []
   },
   "outputs": [
    {
     "data": {
      "text/plain": [
       "'eQTL model: MASHR)'"
      ]
     },
     "metadata": {},
     "output_type": "display_data"
    }
   ],
   "source": [
    "assert (\n",
    "    EQTL_MODEL is not None and len(EQTL_MODEL) > 0\n",
    "), \"A prediction/eQTL model must be given\"\n",
    "\n",
    "display(f\"eQTL model: {EQTL_MODEL})\")"
   ]
  },
  {
   "cell_type": "code",
   "execution_count": 8,
   "id": "ac0c0705-90e4-42f8-8298-a457c7e778ff",
   "metadata": {
    "execution": {
     "iopub.execute_input": "2022-08-04T15:32:05.089593Z",
     "iopub.status.busy": "2022-08-04T15:32:05.089424Z",
     "iopub.status.idle": "2022-08-04T15:32:05.109442Z",
     "shell.execute_reply": "2022-08-04T15:32:05.108790Z"
    },
    "papermill": {
     "duration": 0.033822,
     "end_time": "2022-08-04T15:32:05.110741",
     "exception": false,
     "start_time": "2022-08-04T15:32:05.076919",
     "status": "completed"
    },
    "tags": []
   },
   "outputs": [
    {
     "data": {
      "text/plain": [
       "'Using output dir base: /project/ritchie20/projects/phenoplier/base/results/gls/gene_corrs/cohorts/1000g_eur/gtex_v8/mashr'"
      ]
     },
     "metadata": {},
     "output_type": "display_data"
    }
   ],
   "source": [
    "OUTPUT_DIR_BASE = (\n",
    "    conf.RESULTS[\"GLS\"]\n",
    "    / \"gene_corrs\"\n",
    "    / \"cohorts\"\n",
    "    / COHORT_NAME\n",
    "    / REFERENCE_PANEL.lower()\n",
    "    / EQTL_MODEL.lower()\n",
    ")\n",
    "OUTPUT_DIR_BASE.mkdir(parents=True, exist_ok=True)\n",
    "\n",
    "display(f\"Using output dir base: {OUTPUT_DIR_BASE}\")"
   ]
  },
  {
   "cell_type": "code",
   "execution_count": 9,
   "id": "1afd50f7",
   "metadata": {
    "execution": {
     "iopub.execute_input": "2022-08-04T15:32:05.135511Z",
     "iopub.status.busy": "2022-08-04T15:32:05.135342Z",
     "iopub.status.idle": "2022-08-04T15:32:05.152811Z",
     "shell.execute_reply": "2022-08-04T15:32:05.152262Z"
    },
    "papermill": {
     "duration": 0.031289,
     "end_time": "2022-08-04T15:32:05.154067",
     "exception": false,
     "start_time": "2022-08-04T15:32:05.122778",
     "status": "completed"
    },
    "tags": []
   },
   "outputs": [
    {
     "data": {
      "text/plain": [
       "'Gene correlations input dir: /project/ritchie20/projects/phenoplier/base/results/gls/gene_corrs/cohorts/1000g_eur/gtex_v8/mashr/by_chr'"
      ]
     },
     "metadata": {},
     "output_type": "display_data"
    }
   ],
   "source": [
    "INPUT_DIR = OUTPUT_DIR_BASE / \"by_chr\"\n",
    "\n",
    "display(f\"Gene correlations input dir: {INPUT_DIR}\")\n",
    "assert INPUT_DIR.exists()"
   ]
  },
  {
   "cell_type": "markdown",
   "id": "99ccb166",
   "metadata": {
    "papermill": {
     "duration": 0.011226,
     "end_time": "2022-08-04T15:32:05.176751",
     "exception": false,
     "start_time": "2022-08-04T15:32:05.165525",
     "status": "completed"
    },
    "tags": []
   },
   "source": [
    "# Load data"
   ]
  },
  {
   "cell_type": "markdown",
   "id": "028bdd42",
   "metadata": {
    "papermill": {
     "duration": 0.012225,
     "end_time": "2022-08-04T15:32:05.200303",
     "exception": false,
     "start_time": "2022-08-04T15:32:05.188078",
     "status": "completed"
    },
    "tags": []
   },
   "source": [
    "## Gene correlations"
   ]
  },
  {
   "cell_type": "code",
   "execution_count": 10,
   "id": "04624465",
   "metadata": {
    "execution": {
     "iopub.execute_input": "2022-08-04T15:32:05.224614Z",
     "iopub.status.busy": "2022-08-04T15:32:05.224450Z",
     "iopub.status.idle": "2022-08-04T15:32:05.241286Z",
     "shell.execute_reply": "2022-08-04T15:32:05.240768Z"
    },
    "papermill": {
     "duration": 0.030479,
     "end_time": "2022-08-04T15:32:05.242563",
     "exception": false,
     "start_time": "2022-08-04T15:32:05.212084",
     "status": "completed"
    },
    "tags": []
   },
   "outputs": [],
   "source": [
    "all_gene_corr_files = list(INPUT_DIR.glob(\"gene_corrs-chr*.pkl\"))"
   ]
  },
  {
   "cell_type": "code",
   "execution_count": 11,
   "id": "be5869e7-d0e4-4b8f-8c6d-a1c6a9419fe2",
   "metadata": {
    "execution": {
     "iopub.execute_input": "2022-08-04T15:32:05.266305Z",
     "iopub.status.busy": "2022-08-04T15:32:05.266125Z",
     "iopub.status.idle": "2022-08-04T15:32:05.281748Z",
     "shell.execute_reply": "2022-08-04T15:32:05.281209Z"
    },
    "papermill": {
     "duration": 0.029101,
     "end_time": "2022-08-04T15:32:05.283090",
     "exception": false,
     "start_time": "2022-08-04T15:32:05.253989",
     "status": "completed"
    },
    "tags": []
   },
   "outputs": [],
   "source": [
    "# sort by chromosome\n",
    "all_gene_corr_files = sorted(\n",
    "    all_gene_corr_files, key=lambda x: int(x.name.split(\"-chr\")[1].split(\".pkl\")[0])\n",
    ")"
   ]
  },
  {
   "cell_type": "code",
   "execution_count": 12,
   "id": "7d1168f5",
   "metadata": {
    "execution": {
     "iopub.execute_input": "2022-08-04T15:32:05.306980Z",
     "iopub.status.busy": "2022-08-04T15:32:05.306812Z",
     "iopub.status.idle": "2022-08-04T15:32:05.323443Z",
     "shell.execute_reply": "2022-08-04T15:32:05.323075Z"
    },
    "papermill": {
     "duration": 0.030214,
     "end_time": "2022-08-04T15:32:05.324584",
     "exception": false,
     "start_time": "2022-08-04T15:32:05.294370",
     "status": "completed"
    },
    "tags": []
   },
   "outputs": [
    {
     "data": {
      "text/plain": [
       "22"
      ]
     },
     "execution_count": 12,
     "metadata": {},
     "output_type": "execute_result"
    }
   ],
   "source": [
    "len(all_gene_corr_files)"
   ]
  },
  {
   "cell_type": "code",
   "execution_count": 13,
   "id": "39364170",
   "metadata": {
    "execution": {
     "iopub.execute_input": "2022-08-04T15:32:05.348886Z",
     "iopub.status.busy": "2022-08-04T15:32:05.348717Z",
     "iopub.status.idle": "2022-08-04T15:32:05.365918Z",
     "shell.execute_reply": "2022-08-04T15:32:05.365510Z"
    },
    "papermill": {
     "duration": 0.03089,
     "end_time": "2022-08-04T15:32:05.367144",
     "exception": false,
     "start_time": "2022-08-04T15:32:05.336254",
     "status": "completed"
    },
    "tags": []
   },
   "outputs": [
    {
     "data": {
      "text/plain": [
       "[PosixPath('/project/ritchie20/projects/phenoplier/base/results/gls/gene_corrs/cohorts/1000g_eur/gtex_v8/mashr/by_chr/gene_corrs-chr1.pkl'),\n",
       " PosixPath('/project/ritchie20/projects/phenoplier/base/results/gls/gene_corrs/cohorts/1000g_eur/gtex_v8/mashr/by_chr/gene_corrs-chr2.pkl'),\n",
       " PosixPath('/project/ritchie20/projects/phenoplier/base/results/gls/gene_corrs/cohorts/1000g_eur/gtex_v8/mashr/by_chr/gene_corrs-chr3.pkl'),\n",
       " PosixPath('/project/ritchie20/projects/phenoplier/base/results/gls/gene_corrs/cohorts/1000g_eur/gtex_v8/mashr/by_chr/gene_corrs-chr4.pkl'),\n",
       " PosixPath('/project/ritchie20/projects/phenoplier/base/results/gls/gene_corrs/cohorts/1000g_eur/gtex_v8/mashr/by_chr/gene_corrs-chr5.pkl'),\n",
       " PosixPath('/project/ritchie20/projects/phenoplier/base/results/gls/gene_corrs/cohorts/1000g_eur/gtex_v8/mashr/by_chr/gene_corrs-chr6.pkl'),\n",
       " PosixPath('/project/ritchie20/projects/phenoplier/base/results/gls/gene_corrs/cohorts/1000g_eur/gtex_v8/mashr/by_chr/gene_corrs-chr7.pkl'),\n",
       " PosixPath('/project/ritchie20/projects/phenoplier/base/results/gls/gene_corrs/cohorts/1000g_eur/gtex_v8/mashr/by_chr/gene_corrs-chr8.pkl'),\n",
       " PosixPath('/project/ritchie20/projects/phenoplier/base/results/gls/gene_corrs/cohorts/1000g_eur/gtex_v8/mashr/by_chr/gene_corrs-chr9.pkl'),\n",
       " PosixPath('/project/ritchie20/projects/phenoplier/base/results/gls/gene_corrs/cohorts/1000g_eur/gtex_v8/mashr/by_chr/gene_corrs-chr10.pkl'),\n",
       " PosixPath('/project/ritchie20/projects/phenoplier/base/results/gls/gene_corrs/cohorts/1000g_eur/gtex_v8/mashr/by_chr/gene_corrs-chr11.pkl'),\n",
       " PosixPath('/project/ritchie20/projects/phenoplier/base/results/gls/gene_corrs/cohorts/1000g_eur/gtex_v8/mashr/by_chr/gene_corrs-chr12.pkl'),\n",
       " PosixPath('/project/ritchie20/projects/phenoplier/base/results/gls/gene_corrs/cohorts/1000g_eur/gtex_v8/mashr/by_chr/gene_corrs-chr13.pkl'),\n",
       " PosixPath('/project/ritchie20/projects/phenoplier/base/results/gls/gene_corrs/cohorts/1000g_eur/gtex_v8/mashr/by_chr/gene_corrs-chr14.pkl'),\n",
       " PosixPath('/project/ritchie20/projects/phenoplier/base/results/gls/gene_corrs/cohorts/1000g_eur/gtex_v8/mashr/by_chr/gene_corrs-chr15.pkl'),\n",
       " PosixPath('/project/ritchie20/projects/phenoplier/base/results/gls/gene_corrs/cohorts/1000g_eur/gtex_v8/mashr/by_chr/gene_corrs-chr16.pkl'),\n",
       " PosixPath('/project/ritchie20/projects/phenoplier/base/results/gls/gene_corrs/cohorts/1000g_eur/gtex_v8/mashr/by_chr/gene_corrs-chr17.pkl'),\n",
       " PosixPath('/project/ritchie20/projects/phenoplier/base/results/gls/gene_corrs/cohorts/1000g_eur/gtex_v8/mashr/by_chr/gene_corrs-chr18.pkl'),\n",
       " PosixPath('/project/ritchie20/projects/phenoplier/base/results/gls/gene_corrs/cohorts/1000g_eur/gtex_v8/mashr/by_chr/gene_corrs-chr19.pkl'),\n",
       " PosixPath('/project/ritchie20/projects/phenoplier/base/results/gls/gene_corrs/cohorts/1000g_eur/gtex_v8/mashr/by_chr/gene_corrs-chr20.pkl'),\n",
       " PosixPath('/project/ritchie20/projects/phenoplier/base/results/gls/gene_corrs/cohorts/1000g_eur/gtex_v8/mashr/by_chr/gene_corrs-chr21.pkl'),\n",
       " PosixPath('/project/ritchie20/projects/phenoplier/base/results/gls/gene_corrs/cohorts/1000g_eur/gtex_v8/mashr/by_chr/gene_corrs-chr22.pkl')]"
      ]
     },
     "execution_count": 13,
     "metadata": {},
     "output_type": "execute_result"
    }
   ],
   "source": [
    "all_gene_corr_files"
   ]
  },
  {
   "cell_type": "code",
   "execution_count": 14,
   "id": "6e48c284",
   "metadata": {
    "execution": {
     "iopub.execute_input": "2022-08-04T15:32:05.391275Z",
     "iopub.status.busy": "2022-08-04T15:32:05.391094Z",
     "iopub.status.idle": "2022-08-04T15:32:05.406727Z",
     "shell.execute_reply": "2022-08-04T15:32:05.406344Z"
    },
    "papermill": {
     "duration": 0.029339,
     "end_time": "2022-08-04T15:32:05.408087",
     "exception": false,
     "start_time": "2022-08-04T15:32:05.378748",
     "status": "completed"
    },
    "tags": []
   },
   "outputs": [],
   "source": [
    "assert len(all_gene_corr_files) == 22"
   ]
  },
  {
   "cell_type": "markdown",
   "id": "99d01a88-2f71-41eb-a423-a17378bbb174",
   "metadata": {
    "papermill": {
     "duration": 0.011894,
     "end_time": "2022-08-04T15:32:05.432182",
     "exception": false,
     "start_time": "2022-08-04T15:32:05.420288",
     "status": "completed"
    },
    "tags": []
   },
   "source": [
    "## Get common genes"
   ]
  },
  {
   "cell_type": "code",
   "execution_count": 15,
   "id": "6a5e95f0-eeab-4716-8982-b1dbbd8763d8",
   "metadata": {
    "execution": {
     "iopub.execute_input": "2022-08-04T15:32:05.456454Z",
     "iopub.status.busy": "2022-08-04T15:32:05.456276Z",
     "iopub.status.idle": "2022-08-04T15:32:05.544342Z",
     "shell.execute_reply": "2022-08-04T15:32:05.543853Z"
    },
    "papermill": {
     "duration": 0.102318,
     "end_time": "2022-08-04T15:32:05.546102",
     "exception": false,
     "start_time": "2022-08-04T15:32:05.443784",
     "status": "completed"
    },
    "tags": []
   },
   "outputs": [],
   "source": [
    "gene_ids = set()\n",
    "for f in all_gene_corr_files:\n",
    "    chr_genes = pd.read_pickle(f).index.tolist()\n",
    "    gene_ids.update(chr_genes)"
   ]
  },
  {
   "cell_type": "code",
   "execution_count": 16,
   "id": "81ca7c6e-69c4-48c4-b44f-ec9a2b8bb527",
   "metadata": {
    "execution": {
     "iopub.execute_input": "2022-08-04T15:32:05.571316Z",
     "iopub.status.busy": "2022-08-04T15:32:05.571084Z",
     "iopub.status.idle": "2022-08-04T15:32:05.595426Z",
     "shell.execute_reply": "2022-08-04T15:32:05.595016Z"
    },
    "papermill": {
     "duration": 0.038438,
     "end_time": "2022-08-04T15:32:05.596678",
     "exception": false,
     "start_time": "2022-08-04T15:32:05.558240",
     "status": "completed"
    },
    "tags": []
   },
   "outputs": [
    {
     "data": {
      "text/plain": [
       "6442"
      ]
     },
     "metadata": {},
     "output_type": "display_data"
    }
   ],
   "source": [
    "display(len(gene_ids))"
   ]
  },
  {
   "cell_type": "code",
   "execution_count": 17,
   "id": "5e8a7f17-c84b-4d71-bf0d-11116a66084e",
   "metadata": {
    "execution": {
     "iopub.execute_input": "2022-08-04T15:32:05.622360Z",
     "iopub.status.busy": "2022-08-04T15:32:05.622156Z",
     "iopub.status.idle": "2022-08-04T15:32:05.643312Z",
     "shell.execute_reply": "2022-08-04T15:32:05.642900Z"
    },
    "papermill": {
     "duration": 0.035528,
     "end_time": "2022-08-04T15:32:05.644560",
     "exception": false,
     "start_time": "2022-08-04T15:32:05.609032",
     "status": "completed"
    },
    "tags": []
   },
   "outputs": [
    {
     "data": {
      "text/plain": [
       "['ENSG00000000419',\n",
       " 'ENSG00000000938',\n",
       " 'ENSG00000000971',\n",
       " 'ENSG00000001084',\n",
       " 'ENSG00000001167']"
      ]
     },
     "execution_count": 17,
     "metadata": {},
     "output_type": "execute_result"
    }
   ],
   "source": [
    "sorted(list(gene_ids))[:5]"
   ]
  },
  {
   "cell_type": "markdown",
   "id": "afb94d22-07be-4b67-b448-1d15d787e882",
   "metadata": {
    "papermill": {
     "duration": 0.01223,
     "end_time": "2022-08-04T15:32:05.669121",
     "exception": false,
     "start_time": "2022-08-04T15:32:05.656891",
     "status": "completed"
    },
    "tags": []
   },
   "source": [
    "## Gene info"
   ]
  },
  {
   "cell_type": "code",
   "execution_count": 18,
   "id": "66346539-e969-46dd-997d-c1f404646caa",
   "metadata": {
    "execution": {
     "iopub.execute_input": "2022-08-04T15:32:05.695656Z",
     "iopub.status.busy": "2022-08-04T15:32:05.695422Z",
     "iopub.status.idle": "2022-08-04T15:32:05.719370Z",
     "shell.execute_reply": "2022-08-04T15:32:05.718915Z"
    },
    "papermill": {
     "duration": 0.039045,
     "end_time": "2022-08-04T15:32:05.720928",
     "exception": false,
     "start_time": "2022-08-04T15:32:05.681883",
     "status": "completed"
    },
    "tags": []
   },
   "outputs": [],
   "source": [
    "genes_info = pd.read_pickle(OUTPUT_DIR_BASE / \"genes_info.pkl\")"
   ]
  },
  {
   "cell_type": "code",
   "execution_count": 19,
   "id": "6cf6e7f6-5c5c-4ee5-a3d6-1fab3f88fd20",
   "metadata": {
    "execution": {
     "iopub.execute_input": "2022-08-04T15:32:05.746728Z",
     "iopub.status.busy": "2022-08-04T15:32:05.746504Z",
     "iopub.status.idle": "2022-08-04T15:32:05.769978Z",
     "shell.execute_reply": "2022-08-04T15:32:05.769569Z"
    },
    "papermill": {
     "duration": 0.038185,
     "end_time": "2022-08-04T15:32:05.771243",
     "exception": false,
     "start_time": "2022-08-04T15:32:05.733058",
     "status": "completed"
    },
    "tags": []
   },
   "outputs": [
    {
     "data": {
      "text/plain": [
       "(6444, 7)"
      ]
     },
     "execution_count": 19,
     "metadata": {},
     "output_type": "execute_result"
    }
   ],
   "source": [
    "genes_info.shape"
   ]
  },
  {
   "cell_type": "code",
   "execution_count": 20,
   "id": "c0c00e56-a168-4502-bad1-178fa736b055",
   "metadata": {
    "execution": {
     "iopub.execute_input": "2022-08-04T15:32:05.796584Z",
     "iopub.status.busy": "2022-08-04T15:32:05.796396Z",
     "iopub.status.idle": "2022-08-04T15:32:05.824614Z",
     "shell.execute_reply": "2022-08-04T15:32:05.824198Z"
    },
    "papermill": {
     "duration": 0.042386,
     "end_time": "2022-08-04T15:32:05.825898",
     "exception": false,
     "start_time": "2022-08-04T15:32:05.783512",
     "status": "completed"
    },
    "tags": []
   },
   "outputs": [
    {
     "data": {
      "text/html": [
       "<div>\n",
       "<style scoped>\n",
       "    .dataframe tbody tr th:only-of-type {\n",
       "        vertical-align: middle;\n",
       "    }\n",
       "\n",
       "    .dataframe tbody tr th {\n",
       "        vertical-align: top;\n",
       "    }\n",
       "\n",
       "    .dataframe thead th {\n",
       "        text-align: right;\n",
       "    }\n",
       "</style>\n",
       "<table border=\"1\" class=\"dataframe\">\n",
       "  <thead>\n",
       "    <tr style=\"text-align: right;\">\n",
       "      <th></th>\n",
       "      <th>name</th>\n",
       "      <th>id</th>\n",
       "      <th>chr</th>\n",
       "      <th>band</th>\n",
       "      <th>start_position</th>\n",
       "      <th>end_position</th>\n",
       "      <th>gene_length</th>\n",
       "    </tr>\n",
       "  </thead>\n",
       "  <tbody>\n",
       "    <tr>\n",
       "      <th>0</th>\n",
       "      <td>HEYL</td>\n",
       "      <td>ENSG00000163909</td>\n",
       "      <td>1</td>\n",
       "      <td>1p34.2</td>\n",
       "      <td>39623435.0</td>\n",
       "      <td>39639643.0</td>\n",
       "      <td>16208.0</td>\n",
       "    </tr>\n",
       "    <tr>\n",
       "      <th>1</th>\n",
       "      <td>CYP24A1</td>\n",
       "      <td>ENSG00000019186</td>\n",
       "      <td>20</td>\n",
       "      <td>20q13.2</td>\n",
       "      <td>54153446.0</td>\n",
       "      <td>54173986.0</td>\n",
       "      <td>20540.0</td>\n",
       "    </tr>\n",
       "    <tr>\n",
       "      <th>2</th>\n",
       "      <td>ITGB4</td>\n",
       "      <td>ENSG00000132470</td>\n",
       "      <td>17</td>\n",
       "      <td>17q25.1</td>\n",
       "      <td>75721328.0</td>\n",
       "      <td>75757818.0</td>\n",
       "      <td>36490.0</td>\n",
       "    </tr>\n",
       "    <tr>\n",
       "      <th>3</th>\n",
       "      <td>SPINT1</td>\n",
       "      <td>ENSG00000166145</td>\n",
       "      <td>15</td>\n",
       "      <td>15q15.1</td>\n",
       "      <td>40844018.0</td>\n",
       "      <td>40858207.0</td>\n",
       "      <td>14189.0</td>\n",
       "    </tr>\n",
       "    <tr>\n",
       "      <th>4</th>\n",
       "      <td>PCSK6</td>\n",
       "      <td>ENSG00000140479</td>\n",
       "      <td>15</td>\n",
       "      <td>15q26.3</td>\n",
       "      <td>101297142.0</td>\n",
       "      <td>101525202.0</td>\n",
       "      <td>228060.0</td>\n",
       "    </tr>\n",
       "  </tbody>\n",
       "</table>\n",
       "</div>"
      ],
      "text/plain": [
       "      name               id chr     band  start_position  end_position  \\\n",
       "0     HEYL  ENSG00000163909   1   1p34.2      39623435.0    39639643.0   \n",
       "1  CYP24A1  ENSG00000019186  20  20q13.2      54153446.0    54173986.0   \n",
       "2    ITGB4  ENSG00000132470  17  17q25.1      75721328.0    75757818.0   \n",
       "3   SPINT1  ENSG00000166145  15  15q15.1      40844018.0    40858207.0   \n",
       "4    PCSK6  ENSG00000140479  15  15q26.3     101297142.0   101525202.0   \n",
       "\n",
       "   gene_length  \n",
       "0      16208.0  \n",
       "1      20540.0  \n",
       "2      36490.0  \n",
       "3      14189.0  \n",
       "4     228060.0  "
      ]
     },
     "execution_count": 20,
     "metadata": {},
     "output_type": "execute_result"
    }
   ],
   "source": [
    "genes_info.head()"
   ]
  },
  {
   "cell_type": "code",
   "execution_count": 21,
   "id": "c6f52a23-0e0c-4def-8ebe-714793743f4e",
   "metadata": {
    "execution": {
     "iopub.execute_input": "2022-08-04T15:32:05.852542Z",
     "iopub.status.busy": "2022-08-04T15:32:05.852340Z",
     "iopub.status.idle": "2022-08-04T15:32:05.874553Z",
     "shell.execute_reply": "2022-08-04T15:32:05.874141Z"
    },
    "papermill": {
     "duration": 0.036923,
     "end_time": "2022-08-04T15:32:05.875988",
     "exception": false,
     "start_time": "2022-08-04T15:32:05.839065",
     "status": "completed"
    },
    "tags": []
   },
   "outputs": [],
   "source": [
    "# keep genes in correlation matrices only\n",
    "genes_info = genes_info[genes_info[\"id\"].isin(gene_ids)]"
   ]
  },
  {
   "cell_type": "code",
   "execution_count": 22,
   "id": "19cde9f2-0cad-4b4e-a409-0cff052cc77c",
   "metadata": {
    "execution": {
     "iopub.execute_input": "2022-08-04T15:32:05.902593Z",
     "iopub.status.busy": "2022-08-04T15:32:05.902400Z",
     "iopub.status.idle": "2022-08-04T15:32:05.926690Z",
     "shell.execute_reply": "2022-08-04T15:32:05.926296Z"
    },
    "papermill": {
     "duration": 0.038832,
     "end_time": "2022-08-04T15:32:05.927930",
     "exception": false,
     "start_time": "2022-08-04T15:32:05.889098",
     "status": "completed"
    },
    "tags": []
   },
   "outputs": [
    {
     "data": {
      "text/plain": [
       "(6442, 7)"
      ]
     },
     "execution_count": 22,
     "metadata": {},
     "output_type": "execute_result"
    }
   ],
   "source": [
    "genes_info.shape"
   ]
  },
  {
   "cell_type": "code",
   "execution_count": 23,
   "id": "f9e52a95-4c6e-4ce6-ae1d-df635d5dbe47",
   "metadata": {
    "execution": {
     "iopub.execute_input": "2022-08-04T15:32:05.954024Z",
     "iopub.status.busy": "2022-08-04T15:32:05.953837Z",
     "iopub.status.idle": "2022-08-04T15:32:05.973212Z",
     "shell.execute_reply": "2022-08-04T15:32:05.972819Z"
    },
    "papermill": {
     "duration": 0.034075,
     "end_time": "2022-08-04T15:32:05.974597",
     "exception": false,
     "start_time": "2022-08-04T15:32:05.940522",
     "status": "completed"
    },
    "tags": []
   },
   "outputs": [],
   "source": [
    "assert not genes_info.isna().any().any()"
   ]
  },
  {
   "cell_type": "code",
   "execution_count": 24,
   "id": "683d8106-61e7-4484-a97c-4b3f48780647",
   "metadata": {
    "execution": {
     "iopub.execute_input": "2022-08-04T15:32:06.000442Z",
     "iopub.status.busy": "2022-08-04T15:32:06.000259Z",
     "iopub.status.idle": "2022-08-04T15:32:06.023210Z",
     "shell.execute_reply": "2022-08-04T15:32:06.022819Z"
    },
    "papermill": {
     "duration": 0.037186,
     "end_time": "2022-08-04T15:32:06.024441",
     "exception": false,
     "start_time": "2022-08-04T15:32:05.987255",
     "status": "completed"
    },
    "tags": []
   },
   "outputs": [
    {
     "data": {
      "text/plain": [
       "name               object\n",
       "id                 object\n",
       "chr                object\n",
       "band               object\n",
       "start_position    float64\n",
       "end_position      float64\n",
       "gene_length       float64\n",
       "dtype: object"
      ]
     },
     "execution_count": 24,
     "metadata": {},
     "output_type": "execute_result"
    }
   ],
   "source": [
    "genes_info.dtypes"
   ]
  },
  {
   "cell_type": "code",
   "execution_count": 25,
   "id": "4e10fc0f-3287-4595-afa4-5b6db9ad6b6e",
   "metadata": {
    "execution": {
     "iopub.execute_input": "2022-08-04T15:32:06.051434Z",
     "iopub.status.busy": "2022-08-04T15:32:06.051200Z",
     "iopub.status.idle": "2022-08-04T15:32:06.552944Z",
     "shell.execute_reply": "2022-08-04T15:32:06.552372Z"
    },
    "papermill": {
     "duration": 0.517447,
     "end_time": "2022-08-04T15:32:06.554702",
     "exception": false,
     "start_time": "2022-08-04T15:32:06.037255",
     "status": "completed"
    },
    "tags": []
   },
   "outputs": [],
   "source": [
    "genes_info[\"chr\"] = genes_info[\"chr\"].apply(pd.to_numeric, downcast=\"integer\")\n",
    "genes_info[\"start_position\"] = genes_info[\"start_position\"].astype(int)\n",
    "genes_info[\"end_position\"] = genes_info[\"end_position\"].astype(int)\n",
    "genes_info[\"gene_length\"] = genes_info[\"gene_length\"].astype(int)"
   ]
  },
  {
   "cell_type": "code",
   "execution_count": 26,
   "id": "90028a9b-781e-46c7-97b8-9e1676e682d4",
   "metadata": {
    "execution": {
     "iopub.execute_input": "2022-08-04T15:32:06.581023Z",
     "iopub.status.busy": "2022-08-04T15:32:06.580826Z",
     "iopub.status.idle": "2022-08-04T15:32:06.601080Z",
     "shell.execute_reply": "2022-08-04T15:32:06.600515Z"
    },
    "papermill": {
     "duration": 0.035211,
     "end_time": "2022-08-04T15:32:06.602454",
     "exception": false,
     "start_time": "2022-08-04T15:32:06.567243",
     "status": "completed"
    },
    "tags": []
   },
   "outputs": [
    {
     "data": {
      "text/plain": [
       "name              object\n",
       "id                object\n",
       "chr                int64\n",
       "band              object\n",
       "start_position     int64\n",
       "end_position       int64\n",
       "gene_length        int64\n",
       "dtype: object"
      ]
     },
     "execution_count": 26,
     "metadata": {},
     "output_type": "execute_result"
    }
   ],
   "source": [
    "genes_info.dtypes"
   ]
  },
  {
   "cell_type": "code",
   "execution_count": 27,
   "id": "9a46994f-4625-45ee-9357-1e06b9ba1d2a",
   "metadata": {
    "execution": {
     "iopub.execute_input": "2022-08-04T15:32:06.628481Z",
     "iopub.status.busy": "2022-08-04T15:32:06.628308Z",
     "iopub.status.idle": "2022-08-04T15:32:06.645515Z",
     "shell.execute_reply": "2022-08-04T15:32:06.645139Z"
    },
    "papermill": {
     "duration": 0.031862,
     "end_time": "2022-08-04T15:32:06.646798",
     "exception": false,
     "start_time": "2022-08-04T15:32:06.614936",
     "status": "completed"
    },
    "tags": []
   },
   "outputs": [],
   "source": [
    "assert not genes_info.isna().any(None)"
   ]
  },
  {
   "cell_type": "code",
   "execution_count": 28,
   "id": "adb6d5ce-d010-41f8-bb63-7b5f66bf2c51",
   "metadata": {
    "execution": {
     "iopub.execute_input": "2022-08-04T15:32:06.672698Z",
     "iopub.status.busy": "2022-08-04T15:32:06.672518Z",
     "iopub.status.idle": "2022-08-04T15:32:06.693582Z",
     "shell.execute_reply": "2022-08-04T15:32:06.693065Z"
    },
    "papermill": {
     "duration": 0.035443,
     "end_time": "2022-08-04T15:32:06.694801",
     "exception": false,
     "start_time": "2022-08-04T15:32:06.659358",
     "status": "completed"
    },
    "tags": []
   },
   "outputs": [
    {
     "data": {
      "text/html": [
       "<div>\n",
       "<style scoped>\n",
       "    .dataframe tbody tr th:only-of-type {\n",
       "        vertical-align: middle;\n",
       "    }\n",
       "\n",
       "    .dataframe tbody tr th {\n",
       "        vertical-align: top;\n",
       "    }\n",
       "\n",
       "    .dataframe thead th {\n",
       "        text-align: right;\n",
       "    }\n",
       "</style>\n",
       "<table border=\"1\" class=\"dataframe\">\n",
       "  <thead>\n",
       "    <tr style=\"text-align: right;\">\n",
       "      <th></th>\n",
       "      <th>name</th>\n",
       "      <th>id</th>\n",
       "      <th>chr</th>\n",
       "      <th>band</th>\n",
       "      <th>start_position</th>\n",
       "      <th>end_position</th>\n",
       "      <th>gene_length</th>\n",
       "    </tr>\n",
       "  </thead>\n",
       "  <tbody>\n",
       "    <tr>\n",
       "      <th>0</th>\n",
       "      <td>HEYL</td>\n",
       "      <td>ENSG00000163909</td>\n",
       "      <td>1</td>\n",
       "      <td>1p34.2</td>\n",
       "      <td>39623435</td>\n",
       "      <td>39639643</td>\n",
       "      <td>16208</td>\n",
       "    </tr>\n",
       "    <tr>\n",
       "      <th>1</th>\n",
       "      <td>CYP24A1</td>\n",
       "      <td>ENSG00000019186</td>\n",
       "      <td>20</td>\n",
       "      <td>20q13.2</td>\n",
       "      <td>54153446</td>\n",
       "      <td>54173986</td>\n",
       "      <td>20540</td>\n",
       "    </tr>\n",
       "    <tr>\n",
       "      <th>2</th>\n",
       "      <td>ITGB4</td>\n",
       "      <td>ENSG00000132470</td>\n",
       "      <td>17</td>\n",
       "      <td>17q25.1</td>\n",
       "      <td>75721328</td>\n",
       "      <td>75757818</td>\n",
       "      <td>36490</td>\n",
       "    </tr>\n",
       "    <tr>\n",
       "      <th>3</th>\n",
       "      <td>SPINT1</td>\n",
       "      <td>ENSG00000166145</td>\n",
       "      <td>15</td>\n",
       "      <td>15q15.1</td>\n",
       "      <td>40844018</td>\n",
       "      <td>40858207</td>\n",
       "      <td>14189</td>\n",
       "    </tr>\n",
       "    <tr>\n",
       "      <th>4</th>\n",
       "      <td>PCSK6</td>\n",
       "      <td>ENSG00000140479</td>\n",
       "      <td>15</td>\n",
       "      <td>15q26.3</td>\n",
       "      <td>101297142</td>\n",
       "      <td>101525202</td>\n",
       "      <td>228060</td>\n",
       "    </tr>\n",
       "  </tbody>\n",
       "</table>\n",
       "</div>"
      ],
      "text/plain": [
       "      name               id  chr     band  start_position  end_position  \\\n",
       "0     HEYL  ENSG00000163909    1   1p34.2        39623435      39639643   \n",
       "1  CYP24A1  ENSG00000019186   20  20q13.2        54153446      54173986   \n",
       "2    ITGB4  ENSG00000132470   17  17q25.1        75721328      75757818   \n",
       "3   SPINT1  ENSG00000166145   15  15q15.1        40844018      40858207   \n",
       "4    PCSK6  ENSG00000140479   15  15q26.3       101297142     101525202   \n",
       "\n",
       "   gene_length  \n",
       "0        16208  \n",
       "1        20540  \n",
       "2        36490  \n",
       "3        14189  \n",
       "4       228060  "
      ]
     },
     "execution_count": 28,
     "metadata": {},
     "output_type": "execute_result"
    }
   ],
   "source": [
    "genes_info.head()"
   ]
  },
  {
   "cell_type": "markdown",
   "id": "f4d4f177",
   "metadata": {
    "papermill": {
     "duration": 0.012912,
     "end_time": "2022-08-04T15:32:06.720549",
     "exception": false,
     "start_time": "2022-08-04T15:32:06.707637",
     "status": "completed"
    },
    "tags": []
   },
   "source": [
    "# Create full correlation matrix"
   ]
  },
  {
   "cell_type": "code",
   "execution_count": 29,
   "id": "fad655cb-e830-496d-8ae1-bd9088623515",
   "metadata": {
    "execution": {
     "iopub.execute_input": "2022-08-04T15:32:06.747354Z",
     "iopub.status.busy": "2022-08-04T15:32:06.747149Z",
     "iopub.status.idle": "2022-08-04T15:32:06.768372Z",
     "shell.execute_reply": "2022-08-04T15:32:06.767987Z"
    },
    "papermill": {
     "duration": 0.036229,
     "end_time": "2022-08-04T15:32:06.769707",
     "exception": false,
     "start_time": "2022-08-04T15:32:06.733478",
     "status": "completed"
    },
    "tags": []
   },
   "outputs": [],
   "source": [
    "genes_info = genes_info.sort_values([\"chr\", \"start_position\"])"
   ]
  },
  {
   "cell_type": "code",
   "execution_count": 30,
   "id": "3d93727c-e045-434b-99ec-2bfc661003f4",
   "metadata": {
    "execution": {
     "iopub.execute_input": "2022-08-04T15:32:06.795790Z",
     "iopub.status.busy": "2022-08-04T15:32:06.795609Z",
     "iopub.status.idle": "2022-08-04T15:32:06.819685Z",
     "shell.execute_reply": "2022-08-04T15:32:06.819315Z"
    },
    "papermill": {
     "duration": 0.038783,
     "end_time": "2022-08-04T15:32:06.820848",
     "exception": false,
     "start_time": "2022-08-04T15:32:06.782065",
     "status": "completed"
    },
    "tags": []
   },
   "outputs": [
    {
     "data": {
      "text/html": [
       "<div>\n",
       "<style scoped>\n",
       "    .dataframe tbody tr th:only-of-type {\n",
       "        vertical-align: middle;\n",
       "    }\n",
       "\n",
       "    .dataframe tbody tr th {\n",
       "        vertical-align: top;\n",
       "    }\n",
       "\n",
       "    .dataframe thead th {\n",
       "        text-align: right;\n",
       "    }\n",
       "</style>\n",
       "<table border=\"1\" class=\"dataframe\">\n",
       "  <thead>\n",
       "    <tr style=\"text-align: right;\">\n",
       "      <th></th>\n",
       "      <th>name</th>\n",
       "      <th>id</th>\n",
       "      <th>chr</th>\n",
       "      <th>band</th>\n",
       "      <th>start_position</th>\n",
       "      <th>end_position</th>\n",
       "      <th>gene_length</th>\n",
       "    </tr>\n",
       "  </thead>\n",
       "  <tbody>\n",
       "    <tr>\n",
       "      <th>5467</th>\n",
       "      <td>NOC2L</td>\n",
       "      <td>ENSG00000188976</td>\n",
       "      <td>1</td>\n",
       "      <td>1p36.33</td>\n",
       "      <td>944203</td>\n",
       "      <td>959309</td>\n",
       "      <td>15106</td>\n",
       "    </tr>\n",
       "    <tr>\n",
       "      <th>4418</th>\n",
       "      <td>HES4</td>\n",
       "      <td>ENSG00000188290</td>\n",
       "      <td>1</td>\n",
       "      <td>1p36.33</td>\n",
       "      <td>998962</td>\n",
       "      <td>1000172</td>\n",
       "      <td>1210</td>\n",
       "    </tr>\n",
       "    <tr>\n",
       "      <th>3925</th>\n",
       "      <td>ISG15</td>\n",
       "      <td>ENSG00000187608</td>\n",
       "      <td>1</td>\n",
       "      <td>1p36.33</td>\n",
       "      <td>1001138</td>\n",
       "      <td>1014540</td>\n",
       "      <td>13402</td>\n",
       "    </tr>\n",
       "    <tr>\n",
       "      <th>3937</th>\n",
       "      <td>AGRN</td>\n",
       "      <td>ENSG00000188157</td>\n",
       "      <td>1</td>\n",
       "      <td>1p36.33</td>\n",
       "      <td>1020120</td>\n",
       "      <td>1056118</td>\n",
       "      <td>35998</td>\n",
       "    </tr>\n",
       "    <tr>\n",
       "      <th>4181</th>\n",
       "      <td>TNFRSF18</td>\n",
       "      <td>ENSG00000186891</td>\n",
       "      <td>1</td>\n",
       "      <td>1p36.33</td>\n",
       "      <td>1203508</td>\n",
       "      <td>1206592</td>\n",
       "      <td>3084</td>\n",
       "    </tr>\n",
       "    <tr>\n",
       "      <th>...</th>\n",
       "      <td>...</td>\n",
       "      <td>...</td>\n",
       "      <td>...</td>\n",
       "      <td>...</td>\n",
       "      <td>...</td>\n",
       "      <td>...</td>\n",
       "      <td>...</td>\n",
       "    </tr>\n",
       "    <tr>\n",
       "      <th>4386</th>\n",
       "      <td>CPT1B</td>\n",
       "      <td>ENSG00000205560</td>\n",
       "      <td>22</td>\n",
       "      <td>22q13.33</td>\n",
       "      <td>50568861</td>\n",
       "      <td>50578465</td>\n",
       "      <td>9604</td>\n",
       "    </tr>\n",
       "    <tr>\n",
       "      <th>5567</th>\n",
       "      <td>CHKB</td>\n",
       "      <td>ENSG00000100288</td>\n",
       "      <td>22</td>\n",
       "      <td>22q13.33</td>\n",
       "      <td>50578949</td>\n",
       "      <td>50601455</td>\n",
       "      <td>22506</td>\n",
       "    </tr>\n",
       "    <tr>\n",
       "      <th>3320</th>\n",
       "      <td>MAPK8IP2</td>\n",
       "      <td>ENSG00000008735</td>\n",
       "      <td>22</td>\n",
       "      <td>22q13.33</td>\n",
       "      <td>50600793</td>\n",
       "      <td>50613981</td>\n",
       "      <td>13188</td>\n",
       "    </tr>\n",
       "    <tr>\n",
       "      <th>3680</th>\n",
       "      <td>ARSA</td>\n",
       "      <td>ENSG00000100299</td>\n",
       "      <td>22</td>\n",
       "      <td>22q13.33</td>\n",
       "      <td>50622754</td>\n",
       "      <td>50628173</td>\n",
       "      <td>5419</td>\n",
       "    </tr>\n",
       "    <tr>\n",
       "      <th>2687</th>\n",
       "      <td>SHANK3</td>\n",
       "      <td>ENSG00000251322</td>\n",
       "      <td>22</td>\n",
       "      <td>22q13.33</td>\n",
       "      <td>50674415</td>\n",
       "      <td>50733298</td>\n",
       "      <td>58883</td>\n",
       "    </tr>\n",
       "  </tbody>\n",
       "</table>\n",
       "<p>6442 rows × 7 columns</p>\n",
       "</div>"
      ],
      "text/plain": [
       "          name               id  chr      band  start_position  end_position  \\\n",
       "5467     NOC2L  ENSG00000188976    1   1p36.33          944203        959309   \n",
       "4418      HES4  ENSG00000188290    1   1p36.33          998962       1000172   \n",
       "3925     ISG15  ENSG00000187608    1   1p36.33         1001138       1014540   \n",
       "3937      AGRN  ENSG00000188157    1   1p36.33         1020120       1056118   \n",
       "4181  TNFRSF18  ENSG00000186891    1   1p36.33         1203508       1206592   \n",
       "...        ...              ...  ...       ...             ...           ...   \n",
       "4386     CPT1B  ENSG00000205560   22  22q13.33        50568861      50578465   \n",
       "5567      CHKB  ENSG00000100288   22  22q13.33        50578949      50601455   \n",
       "3320  MAPK8IP2  ENSG00000008735   22  22q13.33        50600793      50613981   \n",
       "3680      ARSA  ENSG00000100299   22  22q13.33        50622754      50628173   \n",
       "2687    SHANK3  ENSG00000251322   22  22q13.33        50674415      50733298   \n",
       "\n",
       "      gene_length  \n",
       "5467        15106  \n",
       "4418         1210  \n",
       "3925        13402  \n",
       "3937        35998  \n",
       "4181         3084  \n",
       "...           ...  \n",
       "4386         9604  \n",
       "5567        22506  \n",
       "3320        13188  \n",
       "3680         5419  \n",
       "2687        58883  \n",
       "\n",
       "[6442 rows x 7 columns]"
      ]
     },
     "execution_count": 30,
     "metadata": {},
     "output_type": "execute_result"
    }
   ],
   "source": [
    "genes_info"
   ]
  },
  {
   "cell_type": "code",
   "execution_count": 31,
   "id": "1277c7cb-6850-476f-932e-0d166362392c",
   "metadata": {
    "execution": {
     "iopub.execute_input": "2022-08-04T15:32:06.847993Z",
     "iopub.status.busy": "2022-08-04T15:32:06.847822Z",
     "iopub.status.idle": "2022-08-04T15:32:06.865707Z",
     "shell.execute_reply": "2022-08-04T15:32:06.865343Z"
    },
    "papermill": {
     "duration": 0.032922,
     "end_time": "2022-08-04T15:32:06.866995",
     "exception": false,
     "start_time": "2022-08-04T15:32:06.834073",
     "status": "completed"
    },
    "tags": []
   },
   "outputs": [],
   "source": [
    "full_corr_matrix = pd.DataFrame(\n",
    "    np.zeros((genes_info.shape[0], genes_info.shape[0])),\n",
    "    index=genes_info[\"id\"].tolist(),\n",
    "    columns=genes_info[\"id\"].tolist(),\n",
    ")"
   ]
  },
  {
   "cell_type": "code",
   "execution_count": 32,
   "id": "5aa375f4-775a-4dab-80c9-a68a52c69adc",
   "metadata": {
    "execution": {
     "iopub.execute_input": "2022-08-04T15:32:06.894555Z",
     "iopub.status.busy": "2022-08-04T15:32:06.894379Z",
     "iopub.status.idle": "2022-08-04T15:32:06.915586Z",
     "shell.execute_reply": "2022-08-04T15:32:06.915201Z"
    },
    "papermill": {
     "duration": 0.036739,
     "end_time": "2022-08-04T15:32:06.916941",
     "exception": false,
     "start_time": "2022-08-04T15:32:06.880202",
     "status": "completed"
    },
    "tags": []
   },
   "outputs": [],
   "source": [
    "assert full_corr_matrix.index.is_unique & full_corr_matrix.columns.is_unique"
   ]
  },
  {
   "cell_type": "code",
   "execution_count": 33,
   "id": "0afc4716-f607-4634-8a02-5f116fd2c318",
   "metadata": {
    "execution": {
     "iopub.execute_input": "2022-08-04T15:32:06.944059Z",
     "iopub.status.busy": "2022-08-04T15:32:06.943884Z",
     "iopub.status.idle": "2022-08-04T15:32:07.141599Z",
     "shell.execute_reply": "2022-08-04T15:32:07.141169Z"
    },
    "papermill": {
     "duration": 0.213328,
     "end_time": "2022-08-04T15:32:07.143058",
     "exception": false,
     "start_time": "2022-08-04T15:32:06.929730",
     "status": "completed"
    },
    "tags": []
   },
   "outputs": [
    {
     "name": "stdout",
     "output_type": "stream",
     "text": [
      "gene_corrs-chr1.pkl\n",
      "gene_corrs-chr2.pkl\n",
      "gene_corrs-chr3.pkl\n",
      "gene_corrs-chr4.pkl\n",
      "gene_corrs-chr5.pkl\n",
      "gene_corrs-chr6.pkl\n",
      "gene_corrs-chr7.pkl\n",
      "gene_corrs-chr8.pkl\n",
      "gene_corrs-chr9.pkl\n",
      "gene_corrs-chr10.pkl\n",
      "gene_corrs-chr11.pkl\n",
      "gene_corrs-chr12.pkl\n",
      "gene_corrs-chr13.pkl\n",
      "gene_corrs-chr14.pkl\n",
      "gene_corrs-chr15.pkl\n",
      "gene_corrs-chr16.pkl\n",
      "gene_corrs-chr17.pkl\n",
      "gene_corrs-chr18.pkl\n",
      "gene_corrs-chr19.pkl\n",
      "gene_corrs-chr20.pkl\n",
      "gene_corrs-chr21.pkl\n",
      "gene_corrs-chr22.pkl\n"
     ]
    }
   ],
   "source": [
    "for chr_corr_file in all_gene_corr_files:\n",
    "    print(chr_corr_file.name, flush=True)\n",
    "\n",
    "    corr_data = pd.read_pickle(chr_corr_file)\n",
    "    full_corr_matrix.loc[corr_data.index, corr_data.columns] = corr_data"
   ]
  },
  {
   "cell_type": "code",
   "execution_count": 34,
   "id": "a6be3bf7-d1c1-4f90-b074-a6e74d9285a5",
   "metadata": {
    "execution": {
     "iopub.execute_input": "2022-08-04T15:32:07.172578Z",
     "iopub.status.busy": "2022-08-04T15:32:07.172385Z",
     "iopub.status.idle": "2022-08-04T15:32:07.192102Z",
     "shell.execute_reply": "2022-08-04T15:32:07.191701Z"
    },
    "papermill": {
     "duration": 0.035985,
     "end_time": "2022-08-04T15:32:07.193336",
     "exception": false,
     "start_time": "2022-08-04T15:32:07.157351",
     "status": "completed"
    },
    "tags": []
   },
   "outputs": [
    {
     "data": {
      "text/plain": [
       "(6442, 6442)"
      ]
     },
     "execution_count": 34,
     "metadata": {},
     "output_type": "execute_result"
    }
   ],
   "source": [
    "full_corr_matrix.shape"
   ]
  },
  {
   "cell_type": "code",
   "execution_count": 35,
   "id": "aac21a65-87b3-4b87-b17a-cbe3692c88a9",
   "metadata": {
    "execution": {
     "iopub.execute_input": "2022-08-04T15:32:07.224113Z",
     "iopub.status.busy": "2022-08-04T15:32:07.223927Z",
     "iopub.status.idle": "2022-08-04T15:32:07.256406Z",
     "shell.execute_reply": "2022-08-04T15:32:07.255900Z"
    },
    "papermill": {
     "duration": 0.050501,
     "end_time": "2022-08-04T15:32:07.257699",
     "exception": false,
     "start_time": "2022-08-04T15:32:07.207198",
     "status": "completed"
    },
    "tags": []
   },
   "outputs": [
    {
     "data": {
      "text/html": [
       "<div>\n",
       "<style scoped>\n",
       "    .dataframe tbody tr th:only-of-type {\n",
       "        vertical-align: middle;\n",
       "    }\n",
       "\n",
       "    .dataframe tbody tr th {\n",
       "        vertical-align: top;\n",
       "    }\n",
       "\n",
       "    .dataframe thead th {\n",
       "        text-align: right;\n",
       "    }\n",
       "</style>\n",
       "<table border=\"1\" class=\"dataframe\">\n",
       "  <thead>\n",
       "    <tr style=\"text-align: right;\">\n",
       "      <th></th>\n",
       "      <th>ENSG00000188976</th>\n",
       "      <th>ENSG00000188290</th>\n",
       "      <th>ENSG00000187608</th>\n",
       "      <th>ENSG00000188157</th>\n",
       "      <th>ENSG00000186891</th>\n",
       "      <th>ENSG00000186827</th>\n",
       "      <th>ENSG00000176022</th>\n",
       "      <th>ENSG00000160087</th>\n",
       "      <th>ENSG00000131584</th>\n",
       "      <th>ENSG00000169962</th>\n",
       "      <th>...</th>\n",
       "      <th>ENSG00000196576</th>\n",
       "      <th>ENSG00000128165</th>\n",
       "      <th>ENSG00000100253</th>\n",
       "      <th>ENSG00000130489</th>\n",
       "      <th>ENSG00000025708</th>\n",
       "      <th>ENSG00000205560</th>\n",
       "      <th>ENSG00000100288</th>\n",
       "      <th>ENSG00000008735</th>\n",
       "      <th>ENSG00000100299</th>\n",
       "      <th>ENSG00000251322</th>\n",
       "    </tr>\n",
       "  </thead>\n",
       "  <tbody>\n",
       "    <tr>\n",
       "      <th>ENSG00000188976</th>\n",
       "      <td>1.000000</td>\n",
       "      <td>0.120590</td>\n",
       "      <td>0.177063</td>\n",
       "      <td>0.085746</td>\n",
       "      <td>0.006792</td>\n",
       "      <td>0.007685</td>\n",
       "      <td>0.004673</td>\n",
       "      <td>0.010734</td>\n",
       "      <td>0.011200</td>\n",
       "      <td>0.007529</td>\n",
       "      <td>...</td>\n",
       "      <td>0.0</td>\n",
       "      <td>0.0</td>\n",
       "      <td>0.0</td>\n",
       "      <td>0.0</td>\n",
       "      <td>0.0</td>\n",
       "      <td>0.0</td>\n",
       "      <td>0.0</td>\n",
       "      <td>0.0</td>\n",
       "      <td>0.0</td>\n",
       "      <td>0.0</td>\n",
       "    </tr>\n",
       "    <tr>\n",
       "      <th>ENSG00000188290</th>\n",
       "      <td>0.120590</td>\n",
       "      <td>1.000000</td>\n",
       "      <td>0.672060</td>\n",
       "      <td>0.391127</td>\n",
       "      <td>0.011695</td>\n",
       "      <td>0.009275</td>\n",
       "      <td>0.005970</td>\n",
       "      <td>0.007385</td>\n",
       "      <td>0.002641</td>\n",
       "      <td>0.004767</td>\n",
       "      <td>...</td>\n",
       "      <td>0.0</td>\n",
       "      <td>0.0</td>\n",
       "      <td>0.0</td>\n",
       "      <td>0.0</td>\n",
       "      <td>0.0</td>\n",
       "      <td>0.0</td>\n",
       "      <td>0.0</td>\n",
       "      <td>0.0</td>\n",
       "      <td>0.0</td>\n",
       "      <td>0.0</td>\n",
       "    </tr>\n",
       "    <tr>\n",
       "      <th>ENSG00000187608</th>\n",
       "      <td>0.177063</td>\n",
       "      <td>0.672060</td>\n",
       "      <td>1.000000</td>\n",
       "      <td>0.424696</td>\n",
       "      <td>0.013929</td>\n",
       "      <td>0.013311</td>\n",
       "      <td>0.008466</td>\n",
       "      <td>0.010608</td>\n",
       "      <td>0.006689</td>\n",
       "      <td>0.011659</td>\n",
       "      <td>...</td>\n",
       "      <td>0.0</td>\n",
       "      <td>0.0</td>\n",
       "      <td>0.0</td>\n",
       "      <td>0.0</td>\n",
       "      <td>0.0</td>\n",
       "      <td>0.0</td>\n",
       "      <td>0.0</td>\n",
       "      <td>0.0</td>\n",
       "      <td>0.0</td>\n",
       "      <td>0.0</td>\n",
       "    </tr>\n",
       "    <tr>\n",
       "      <th>ENSG00000188157</th>\n",
       "      <td>0.085746</td>\n",
       "      <td>0.391127</td>\n",
       "      <td>0.424696</td>\n",
       "      <td>1.000000</td>\n",
       "      <td>0.005309</td>\n",
       "      <td>0.011848</td>\n",
       "      <td>0.002161</td>\n",
       "      <td>0.002535</td>\n",
       "      <td>0.005359</td>\n",
       "      <td>0.007012</td>\n",
       "      <td>...</td>\n",
       "      <td>0.0</td>\n",
       "      <td>0.0</td>\n",
       "      <td>0.0</td>\n",
       "      <td>0.0</td>\n",
       "      <td>0.0</td>\n",
       "      <td>0.0</td>\n",
       "      <td>0.0</td>\n",
       "      <td>0.0</td>\n",
       "      <td>0.0</td>\n",
       "      <td>0.0</td>\n",
       "    </tr>\n",
       "    <tr>\n",
       "      <th>ENSG00000186891</th>\n",
       "      <td>0.006792</td>\n",
       "      <td>0.011695</td>\n",
       "      <td>0.013929</td>\n",
       "      <td>0.005309</td>\n",
       "      <td>1.000000</td>\n",
       "      <td>0.338085</td>\n",
       "      <td>0.550817</td>\n",
       "      <td>0.154394</td>\n",
       "      <td>0.193627</td>\n",
       "      <td>0.101004</td>\n",
       "      <td>...</td>\n",
       "      <td>0.0</td>\n",
       "      <td>0.0</td>\n",
       "      <td>0.0</td>\n",
       "      <td>0.0</td>\n",
       "      <td>0.0</td>\n",
       "      <td>0.0</td>\n",
       "      <td>0.0</td>\n",
       "      <td>0.0</td>\n",
       "      <td>0.0</td>\n",
       "      <td>0.0</td>\n",
       "    </tr>\n",
       "  </tbody>\n",
       "</table>\n",
       "<p>5 rows × 6442 columns</p>\n",
       "</div>"
      ],
      "text/plain": [
       "                 ENSG00000188976  ENSG00000188290  ENSG00000187608  \\\n",
       "ENSG00000188976         1.000000         0.120590         0.177063   \n",
       "ENSG00000188290         0.120590         1.000000         0.672060   \n",
       "ENSG00000187608         0.177063         0.672060         1.000000   \n",
       "ENSG00000188157         0.085746         0.391127         0.424696   \n",
       "ENSG00000186891         0.006792         0.011695         0.013929   \n",
       "\n",
       "                 ENSG00000188157  ENSG00000186891  ENSG00000186827  \\\n",
       "ENSG00000188976         0.085746         0.006792         0.007685   \n",
       "ENSG00000188290         0.391127         0.011695         0.009275   \n",
       "ENSG00000187608         0.424696         0.013929         0.013311   \n",
       "ENSG00000188157         1.000000         0.005309         0.011848   \n",
       "ENSG00000186891         0.005309         1.000000         0.338085   \n",
       "\n",
       "                 ENSG00000176022  ENSG00000160087  ENSG00000131584  \\\n",
       "ENSG00000188976         0.004673         0.010734         0.011200   \n",
       "ENSG00000188290         0.005970         0.007385         0.002641   \n",
       "ENSG00000187608         0.008466         0.010608         0.006689   \n",
       "ENSG00000188157         0.002161         0.002535         0.005359   \n",
       "ENSG00000186891         0.550817         0.154394         0.193627   \n",
       "\n",
       "                 ENSG00000169962  ...  ENSG00000196576  ENSG00000128165  \\\n",
       "ENSG00000188976         0.007529  ...              0.0              0.0   \n",
       "ENSG00000188290         0.004767  ...              0.0              0.0   \n",
       "ENSG00000187608         0.011659  ...              0.0              0.0   \n",
       "ENSG00000188157         0.007012  ...              0.0              0.0   \n",
       "ENSG00000186891         0.101004  ...              0.0              0.0   \n",
       "\n",
       "                 ENSG00000100253  ENSG00000130489  ENSG00000025708  \\\n",
       "ENSG00000188976              0.0              0.0              0.0   \n",
       "ENSG00000188290              0.0              0.0              0.0   \n",
       "ENSG00000187608              0.0              0.0              0.0   \n",
       "ENSG00000188157              0.0              0.0              0.0   \n",
       "ENSG00000186891              0.0              0.0              0.0   \n",
       "\n",
       "                 ENSG00000205560  ENSG00000100288  ENSG00000008735  \\\n",
       "ENSG00000188976              0.0              0.0              0.0   \n",
       "ENSG00000188290              0.0              0.0              0.0   \n",
       "ENSG00000187608              0.0              0.0              0.0   \n",
       "ENSG00000188157              0.0              0.0              0.0   \n",
       "ENSG00000186891              0.0              0.0              0.0   \n",
       "\n",
       "                 ENSG00000100299  ENSG00000251322  \n",
       "ENSG00000188976              0.0              0.0  \n",
       "ENSG00000188290              0.0              0.0  \n",
       "ENSG00000187608              0.0              0.0  \n",
       "ENSG00000188157              0.0              0.0  \n",
       "ENSG00000186891              0.0              0.0  \n",
       "\n",
       "[5 rows x 6442 columns]"
      ]
     },
     "execution_count": 35,
     "metadata": {},
     "output_type": "execute_result"
    }
   ],
   "source": [
    "full_corr_matrix.head()"
   ]
  },
  {
   "cell_type": "code",
   "execution_count": 36,
   "id": "0d43f268-ad27-4117-b43b-df581deedae5",
   "metadata": {
    "execution": {
     "iopub.execute_input": "2022-08-04T15:32:07.291302Z",
     "iopub.status.busy": "2022-08-04T15:32:07.291101Z",
     "iopub.status.idle": "2022-08-04T15:32:07.310438Z",
     "shell.execute_reply": "2022-08-04T15:32:07.310024Z"
    },
    "papermill": {
     "duration": 0.036427,
     "end_time": "2022-08-04T15:32:07.311681",
     "exception": false,
     "start_time": "2022-08-04T15:32:07.275254",
     "status": "completed"
    },
    "tags": []
   },
   "outputs": [
    {
     "data": {
      "text/plain": [
       "True"
      ]
     },
     "execution_count": 36,
     "metadata": {},
     "output_type": "execute_result"
    }
   ],
   "source": [
    "np.all(full_corr_matrix.to_numpy().diagonal() == 1.0)"
   ]
  },
  {
   "cell_type": "markdown",
   "id": "1169db4b-9af2-4d3c-a27a-198d7730fa67",
   "metadata": {
    "papermill": {
     "duration": 0.014671,
     "end_time": "2022-08-04T15:32:07.341490",
     "exception": false,
     "start_time": "2022-08-04T15:32:07.326819",
     "status": "completed"
    },
    "tags": []
   },
   "source": [
    "## Some checks"
   ]
  },
  {
   "cell_type": "code",
   "execution_count": 37,
   "id": "776749ae-cf4d-46d8-9fae-49ea728f9002",
   "metadata": {
    "execution": {
     "iopub.execute_input": "2022-08-04T15:32:07.371187Z",
     "iopub.status.busy": "2022-08-04T15:32:07.371000Z",
     "iopub.status.idle": "2022-08-04T15:32:07.498329Z",
     "shell.execute_reply": "2022-08-04T15:32:07.497829Z"
    },
    "papermill": {
     "duration": 0.144462,
     "end_time": "2022-08-04T15:32:07.500157",
     "exception": false,
     "start_time": "2022-08-04T15:32:07.355695",
     "status": "completed"
    },
    "tags": []
   },
   "outputs": [],
   "source": [
    "assert not full_corr_matrix.isna().any(None)\n",
    "assert not np.isinf(full_corr_matrix.to_numpy()).any()\n",
    "assert not np.iscomplex(full_corr_matrix.to_numpy()).any()"
   ]
  },
  {
   "cell_type": "code",
   "execution_count": 38,
   "id": "31b4e109-a020-4667-9326-c63e6d80a33e",
   "metadata": {
    "execution": {
     "iopub.execute_input": "2022-08-04T15:32:07.531871Z",
     "iopub.status.busy": "2022-08-04T15:32:07.531652Z",
     "iopub.status.idle": "2022-08-04T15:32:07.809471Z",
     "shell.execute_reply": "2022-08-04T15:32:07.809042Z"
    },
    "papermill": {
     "duration": 0.295703,
     "end_time": "2022-08-04T15:32:07.810828",
     "exception": false,
     "start_time": "2022-08-04T15:32:07.515125",
     "status": "completed"
    },
    "tags": []
   },
   "outputs": [
    {
     "data": {
      "text/plain": [
       "0.0"
      ]
     },
     "metadata": {},
     "output_type": "display_data"
    }
   ],
   "source": [
    "_min_val = full_corr_matrix.min().min()\n",
    "display(_min_val)\n",
    "assert _min_val >= 0.0"
   ]
  },
  {
   "cell_type": "code",
   "execution_count": 39,
   "id": "df674d11-939a-4704-a718-f246527a1880",
   "metadata": {
    "execution": {
     "iopub.execute_input": "2022-08-04T15:32:07.841530Z",
     "iopub.status.busy": "2022-08-04T15:32:07.841344Z",
     "iopub.status.idle": "2022-08-04T15:32:08.121750Z",
     "shell.execute_reply": "2022-08-04T15:32:08.121309Z"
    },
    "papermill": {
     "duration": 0.297437,
     "end_time": "2022-08-04T15:32:08.123104",
     "exception": false,
     "start_time": "2022-08-04T15:32:07.825667",
     "status": "completed"
    },
    "tags": []
   },
   "outputs": [
    {
     "data": {
      "text/plain": [
       "1.0"
      ]
     },
     "metadata": {},
     "output_type": "display_data"
    }
   ],
   "source": [
    "_max_val = full_corr_matrix.max().max()  # this will capture the 1.0 in the diagonal\n",
    "display(_max_val)\n",
    "assert _max_val <= 1.00"
   ]
  },
  {
   "cell_type": "markdown",
   "id": "f328f55d-37d5-4346-97b4-7237281d5757",
   "metadata": {
    "papermill": {
     "duration": 0.016619,
     "end_time": "2022-08-04T15:32:08.154766",
     "exception": false,
     "start_time": "2022-08-04T15:32:08.138147",
     "status": "completed"
    },
    "tags": []
   },
   "source": [
    "## Save original matrix"
   ]
  },
  {
   "cell_type": "markdown",
   "id": "0bf781b4-7a49-4823-9c40-d6d4151c17b7",
   "metadata": {
    "papermill": {
     "duration": 0.014716,
     "end_time": "2022-08-04T15:32:08.183841",
     "exception": false,
     "start_time": "2022-08-04T15:32:08.169125",
     "status": "completed"
    },
    "tags": []
   },
   "source": [
    "### With gene symbols"
   ]
  },
  {
   "cell_type": "code",
   "execution_count": 40,
   "id": "cd9323bb-f43e-4271-aeae-c4ff9ba150fe",
   "metadata": {
    "execution": {
     "iopub.execute_input": "2022-08-04T15:32:08.213830Z",
     "iopub.status.busy": "2022-08-04T15:32:08.213643Z",
     "iopub.status.idle": "2022-08-04T15:32:08.232356Z",
     "shell.execute_reply": "2022-08-04T15:32:08.231986Z"
    },
    "papermill": {
     "duration": 0.035367,
     "end_time": "2022-08-04T15:32:08.233500",
     "exception": false,
     "start_time": "2022-08-04T15:32:08.198133",
     "status": "completed"
    },
    "tags": []
   },
   "outputs": [
    {
     "data": {
      "text/plain": [
       "PosixPath('/project/ritchie20/projects/phenoplier/base/results/gls/gene_corrs/cohorts/1000g_eur/gtex_v8/mashr/gene_corrs-symbols-orig.pkl')"
      ]
     },
     "metadata": {},
     "output_type": "display_data"
    }
   ],
   "source": [
    "output_file = OUTPUT_DIR_BASE / \"gene_corrs-symbols-orig.pkl\"\n",
    "display(output_file)"
   ]
  },
  {
   "cell_type": "code",
   "execution_count": 41,
   "id": "eae70039-4724-49c2-af7f-af868ee71f52",
   "metadata": {
    "execution": {
     "iopub.execute_input": "2022-08-04T15:32:08.264374Z",
     "iopub.status.busy": "2022-08-04T15:32:08.264192Z",
     "iopub.status.idle": "2022-08-04T15:32:08.441854Z",
     "shell.execute_reply": "2022-08-04T15:32:08.441392Z"
    },
    "papermill": {
     "duration": 0.194651,
     "end_time": "2022-08-04T15:32:08.443644",
     "exception": false,
     "start_time": "2022-08-04T15:32:08.248993",
     "status": "completed"
    },
    "tags": []
   },
   "outputs": [],
   "source": [
    "gene_corrs = full_corr_matrix.rename(\n",
    "    index=Gene.GENE_ID_TO_NAME_MAP, columns=Gene.GENE_ID_TO_NAME_MAP\n",
    ")"
   ]
  },
  {
   "cell_type": "code",
   "execution_count": 42,
   "id": "d095a99d-acf0-4290-873b-64079ba70a3a",
   "metadata": {
    "execution": {
     "iopub.execute_input": "2022-08-04T15:32:08.475188Z",
     "iopub.status.busy": "2022-08-04T15:32:08.474977Z",
     "iopub.status.idle": "2022-08-04T15:32:08.642135Z",
     "shell.execute_reply": "2022-08-04T15:32:08.641652Z"
    },
    "papermill": {
     "duration": 0.185134,
     "end_time": "2022-08-04T15:32:08.643941",
     "exception": false,
     "start_time": "2022-08-04T15:32:08.458807",
     "status": "completed"
    },
    "tags": []
   },
   "outputs": [],
   "source": [
    "assert not gene_corrs.isna().any(None)\n",
    "assert not np.isinf(gene_corrs.to_numpy()).any()\n",
    "assert not np.iscomplex(gene_corrs.to_numpy()).any()"
   ]
  },
  {
   "cell_type": "code",
   "execution_count": 43,
   "id": "8a0ee039-378e-4f51-a18a-24fe2c9d9ba8",
   "metadata": {
    "execution": {
     "iopub.execute_input": "2022-08-04T15:32:08.675589Z",
     "iopub.status.busy": "2022-08-04T15:32:08.675364Z",
     "iopub.status.idle": "2022-08-04T15:32:08.695266Z",
     "shell.execute_reply": "2022-08-04T15:32:08.694864Z"
    },
    "papermill": {
     "duration": 0.037178,
     "end_time": "2022-08-04T15:32:08.696626",
     "exception": false,
     "start_time": "2022-08-04T15:32:08.659448",
     "status": "completed"
    },
    "tags": []
   },
   "outputs": [],
   "source": [
    "assert gene_corrs.index.is_unique\n",
    "assert gene_corrs.columns.is_unique"
   ]
  },
  {
   "cell_type": "code",
   "execution_count": 44,
   "id": "7fe158ee-2def-4c61-91a2-f3ec05687237",
   "metadata": {
    "execution": {
     "iopub.execute_input": "2022-08-04T15:32:08.726613Z",
     "iopub.status.busy": "2022-08-04T15:32:08.726434Z",
     "iopub.status.idle": "2022-08-04T15:32:08.744455Z",
     "shell.execute_reply": "2022-08-04T15:32:08.744042Z"
    },
    "papermill": {
     "duration": 0.03455,
     "end_time": "2022-08-04T15:32:08.745710",
     "exception": false,
     "start_time": "2022-08-04T15:32:08.711160",
     "status": "completed"
    },
    "tags": []
   },
   "outputs": [
    {
     "data": {
      "text/plain": [
       "(6442, 6442)"
      ]
     },
     "execution_count": 44,
     "metadata": {},
     "output_type": "execute_result"
    }
   ],
   "source": [
    "gene_corrs.shape"
   ]
  },
  {
   "cell_type": "code",
   "execution_count": 45,
   "id": "28db69f2-6dc8-4a05-a1da-d44998574749",
   "metadata": {
    "execution": {
     "iopub.execute_input": "2022-08-04T15:32:08.778029Z",
     "iopub.status.busy": "2022-08-04T15:32:08.777776Z",
     "iopub.status.idle": "2022-08-04T15:32:08.809817Z",
     "shell.execute_reply": "2022-08-04T15:32:08.809375Z"
    },
    "papermill": {
     "duration": 0.050003,
     "end_time": "2022-08-04T15:32:08.811269",
     "exception": false,
     "start_time": "2022-08-04T15:32:08.761266",
     "status": "completed"
    },
    "tags": []
   },
   "outputs": [
    {
     "data": {
      "text/html": [
       "<div>\n",
       "<style scoped>\n",
       "    .dataframe tbody tr th:only-of-type {\n",
       "        vertical-align: middle;\n",
       "    }\n",
       "\n",
       "    .dataframe tbody tr th {\n",
       "        vertical-align: top;\n",
       "    }\n",
       "\n",
       "    .dataframe thead th {\n",
       "        text-align: right;\n",
       "    }\n",
       "</style>\n",
       "<table border=\"1\" class=\"dataframe\">\n",
       "  <thead>\n",
       "    <tr style=\"text-align: right;\">\n",
       "      <th></th>\n",
       "      <th>NOC2L</th>\n",
       "      <th>HES4</th>\n",
       "      <th>ISG15</th>\n",
       "      <th>AGRN</th>\n",
       "      <th>TNFRSF18</th>\n",
       "      <th>TNFRSF4</th>\n",
       "      <th>B3GALT6</th>\n",
       "      <th>UBE2J2</th>\n",
       "      <th>ACAP3</th>\n",
       "      <th>TAS1R3</th>\n",
       "      <th>...</th>\n",
       "      <th>PLXNB2</th>\n",
       "      <th>ADM2</th>\n",
       "      <th>MIOX</th>\n",
       "      <th>SCO2</th>\n",
       "      <th>TYMP</th>\n",
       "      <th>CPT1B</th>\n",
       "      <th>CHKB</th>\n",
       "      <th>MAPK8IP2</th>\n",
       "      <th>ARSA</th>\n",
       "      <th>SHANK3</th>\n",
       "    </tr>\n",
       "  </thead>\n",
       "  <tbody>\n",
       "    <tr>\n",
       "      <th>NOC2L</th>\n",
       "      <td>1.000000</td>\n",
       "      <td>0.120590</td>\n",
       "      <td>0.177063</td>\n",
       "      <td>0.085746</td>\n",
       "      <td>0.006792</td>\n",
       "      <td>0.007685</td>\n",
       "      <td>0.004673</td>\n",
       "      <td>0.010734</td>\n",
       "      <td>0.011200</td>\n",
       "      <td>0.007529</td>\n",
       "      <td>...</td>\n",
       "      <td>0.0</td>\n",
       "      <td>0.0</td>\n",
       "      <td>0.0</td>\n",
       "      <td>0.0</td>\n",
       "      <td>0.0</td>\n",
       "      <td>0.0</td>\n",
       "      <td>0.0</td>\n",
       "      <td>0.0</td>\n",
       "      <td>0.0</td>\n",
       "      <td>0.0</td>\n",
       "    </tr>\n",
       "    <tr>\n",
       "      <th>HES4</th>\n",
       "      <td>0.120590</td>\n",
       "      <td>1.000000</td>\n",
       "      <td>0.672060</td>\n",
       "      <td>0.391127</td>\n",
       "      <td>0.011695</td>\n",
       "      <td>0.009275</td>\n",
       "      <td>0.005970</td>\n",
       "      <td>0.007385</td>\n",
       "      <td>0.002641</td>\n",
       "      <td>0.004767</td>\n",
       "      <td>...</td>\n",
       "      <td>0.0</td>\n",
       "      <td>0.0</td>\n",
       "      <td>0.0</td>\n",
       "      <td>0.0</td>\n",
       "      <td>0.0</td>\n",
       "      <td>0.0</td>\n",
       "      <td>0.0</td>\n",
       "      <td>0.0</td>\n",
       "      <td>0.0</td>\n",
       "      <td>0.0</td>\n",
       "    </tr>\n",
       "    <tr>\n",
       "      <th>ISG15</th>\n",
       "      <td>0.177063</td>\n",
       "      <td>0.672060</td>\n",
       "      <td>1.000000</td>\n",
       "      <td>0.424696</td>\n",
       "      <td>0.013929</td>\n",
       "      <td>0.013311</td>\n",
       "      <td>0.008466</td>\n",
       "      <td>0.010608</td>\n",
       "      <td>0.006689</td>\n",
       "      <td>0.011659</td>\n",
       "      <td>...</td>\n",
       "      <td>0.0</td>\n",
       "      <td>0.0</td>\n",
       "      <td>0.0</td>\n",
       "      <td>0.0</td>\n",
       "      <td>0.0</td>\n",
       "      <td>0.0</td>\n",
       "      <td>0.0</td>\n",
       "      <td>0.0</td>\n",
       "      <td>0.0</td>\n",
       "      <td>0.0</td>\n",
       "    </tr>\n",
       "    <tr>\n",
       "      <th>AGRN</th>\n",
       "      <td>0.085746</td>\n",
       "      <td>0.391127</td>\n",
       "      <td>0.424696</td>\n",
       "      <td>1.000000</td>\n",
       "      <td>0.005309</td>\n",
       "      <td>0.011848</td>\n",
       "      <td>0.002161</td>\n",
       "      <td>0.002535</td>\n",
       "      <td>0.005359</td>\n",
       "      <td>0.007012</td>\n",
       "      <td>...</td>\n",
       "      <td>0.0</td>\n",
       "      <td>0.0</td>\n",
       "      <td>0.0</td>\n",
       "      <td>0.0</td>\n",
       "      <td>0.0</td>\n",
       "      <td>0.0</td>\n",
       "      <td>0.0</td>\n",
       "      <td>0.0</td>\n",
       "      <td>0.0</td>\n",
       "      <td>0.0</td>\n",
       "    </tr>\n",
       "    <tr>\n",
       "      <th>TNFRSF18</th>\n",
       "      <td>0.006792</td>\n",
       "      <td>0.011695</td>\n",
       "      <td>0.013929</td>\n",
       "      <td>0.005309</td>\n",
       "      <td>1.000000</td>\n",
       "      <td>0.338085</td>\n",
       "      <td>0.550817</td>\n",
       "      <td>0.154394</td>\n",
       "      <td>0.193627</td>\n",
       "      <td>0.101004</td>\n",
       "      <td>...</td>\n",
       "      <td>0.0</td>\n",
       "      <td>0.0</td>\n",
       "      <td>0.0</td>\n",
       "      <td>0.0</td>\n",
       "      <td>0.0</td>\n",
       "      <td>0.0</td>\n",
       "      <td>0.0</td>\n",
       "      <td>0.0</td>\n",
       "      <td>0.0</td>\n",
       "      <td>0.0</td>\n",
       "    </tr>\n",
       "  </tbody>\n",
       "</table>\n",
       "<p>5 rows × 6442 columns</p>\n",
       "</div>"
      ],
      "text/plain": [
       "             NOC2L      HES4     ISG15      AGRN  TNFRSF18   TNFRSF4  \\\n",
       "NOC2L     1.000000  0.120590  0.177063  0.085746  0.006792  0.007685   \n",
       "HES4      0.120590  1.000000  0.672060  0.391127  0.011695  0.009275   \n",
       "ISG15     0.177063  0.672060  1.000000  0.424696  0.013929  0.013311   \n",
       "AGRN      0.085746  0.391127  0.424696  1.000000  0.005309  0.011848   \n",
       "TNFRSF18  0.006792  0.011695  0.013929  0.005309  1.000000  0.338085   \n",
       "\n",
       "           B3GALT6    UBE2J2     ACAP3    TAS1R3  ...  PLXNB2  ADM2  MIOX  \\\n",
       "NOC2L     0.004673  0.010734  0.011200  0.007529  ...     0.0   0.0   0.0   \n",
       "HES4      0.005970  0.007385  0.002641  0.004767  ...     0.0   0.0   0.0   \n",
       "ISG15     0.008466  0.010608  0.006689  0.011659  ...     0.0   0.0   0.0   \n",
       "AGRN      0.002161  0.002535  0.005359  0.007012  ...     0.0   0.0   0.0   \n",
       "TNFRSF18  0.550817  0.154394  0.193627  0.101004  ...     0.0   0.0   0.0   \n",
       "\n",
       "          SCO2  TYMP  CPT1B  CHKB  MAPK8IP2  ARSA  SHANK3  \n",
       "NOC2L      0.0   0.0    0.0   0.0       0.0   0.0     0.0  \n",
       "HES4       0.0   0.0    0.0   0.0       0.0   0.0     0.0  \n",
       "ISG15      0.0   0.0    0.0   0.0       0.0   0.0     0.0  \n",
       "AGRN       0.0   0.0    0.0   0.0       0.0   0.0     0.0  \n",
       "TNFRSF18   0.0   0.0    0.0   0.0       0.0   0.0     0.0  \n",
       "\n",
       "[5 rows x 6442 columns]"
      ]
     },
     "execution_count": 45,
     "metadata": {},
     "output_type": "execute_result"
    }
   ],
   "source": [
    "gene_corrs.head()"
   ]
  },
  {
   "cell_type": "code",
   "execution_count": 46,
   "id": "19f39ddb-854c-4b6a-886c-60e84b5d31ca",
   "metadata": {
    "execution": {
     "iopub.execute_input": "2022-08-04T15:32:08.844471Z",
     "iopub.status.busy": "2022-08-04T15:32:08.844205Z",
     "iopub.status.idle": "2022-08-04T15:32:09.636310Z",
     "shell.execute_reply": "2022-08-04T15:32:09.635367Z"
    },
    "papermill": {
     "duration": 0.812022,
     "end_time": "2022-08-04T15:32:09.639625",
     "exception": false,
     "start_time": "2022-08-04T15:32:08.827603",
     "status": "completed"
    },
    "tags": []
   },
   "outputs": [],
   "source": [
    "gene_corrs.to_pickle(output_file)"
   ]
  },
  {
   "cell_type": "code",
   "execution_count": 47,
   "id": "738f4cf5-44a9-4274-a2c8-11906113fa45",
   "metadata": {
    "execution": {
     "iopub.execute_input": "2022-08-04T15:32:09.698796Z",
     "iopub.status.busy": "2022-08-04T15:32:09.698455Z",
     "iopub.status.idle": "2022-08-04T15:32:09.725511Z",
     "shell.execute_reply": "2022-08-04T15:32:09.724874Z"
    },
    "papermill": {
     "duration": 0.057558,
     "end_time": "2022-08-04T15:32:09.727655",
     "exception": false,
     "start_time": "2022-08-04T15:32:09.670097",
     "status": "completed"
    },
    "tags": []
   },
   "outputs": [],
   "source": [
    "del gene_corrs"
   ]
  },
  {
   "cell_type": "markdown",
   "id": "c44e801b-ef0c-424e-a880-85c1a75e9782",
   "metadata": {
    "papermill": {
     "duration": 0.020301,
     "end_time": "2022-08-04T15:32:09.769800",
     "exception": false,
     "start_time": "2022-08-04T15:32:09.749499",
     "status": "completed"
    },
    "tags": []
   },
   "source": [
    "# Positive definiteness"
   ]
  },
  {
   "cell_type": "code",
   "execution_count": 48,
   "id": "07d9a9a1-a4f7-48aa-b916-6d42a8cc6186",
   "metadata": {
    "execution": {
     "iopub.execute_input": "2022-08-04T15:32:09.808051Z",
     "iopub.status.busy": "2022-08-04T15:32:09.807778Z",
     "iopub.status.idle": "2022-08-04T15:33:28.487996Z",
     "shell.execute_reply": "2022-08-04T15:33:28.487312Z"
    },
    "papermill": {
     "duration": 78.714477,
     "end_time": "2022-08-04T15:33:28.503116",
     "exception": false,
     "start_time": "2022-08-04T15:32:09.788639",
     "status": "completed"
    },
    "tags": []
   },
   "outputs": [
    {
     "data": {
      "text/plain": [
       "2"
      ]
     },
     "metadata": {},
     "output_type": "display_data"
    },
    {
     "data": {
      "text/plain": [
       "array([-1.15916467e-08, -5.54504096e-17])"
      ]
     },
     "metadata": {},
     "output_type": "display_data"
    }
   ],
   "source": [
    "# print negative eigenvalues\n",
    "eigs = np.linalg.eigvals(full_corr_matrix.to_numpy())\n",
    "display(len(eigs[eigs < 0]))\n",
    "display(eigs[eigs < 0])"
   ]
  },
  {
   "cell_type": "code",
   "execution_count": 49,
   "id": "e514a575-dc67-45bc-9550-276389349bd1",
   "metadata": {
    "execution": {
     "iopub.execute_input": "2022-08-04T15:33:28.536746Z",
     "iopub.status.busy": "2022-08-04T15:33:28.536477Z",
     "iopub.status.idle": "2022-08-04T15:33:29.387211Z",
     "shell.execute_reply": "2022-08-04T15:33:29.386742Z"
    },
    "papermill": {
     "duration": 0.869765,
     "end_time": "2022-08-04T15:33:29.388639",
     "exception": false,
     "start_time": "2022-08-04T15:33:28.518874",
     "status": "completed"
    },
    "tags": []
   },
   "outputs": [
    {
     "name": "stdout",
     "output_type": "stream",
     "text": [
      "Cholesky decomposition failed: Matrix is not positive definite\n"
     ]
    }
   ],
   "source": [
    "CHOL_DECOMPOSITION_FAILED = None\n",
    "\n",
    "try:\n",
    "    chol_mat = np.linalg.cholesky(full_corr_matrix.to_numpy())\n",
    "    cov_inv = np.linalg.inv(chol_mat)\n",
    "    print(\"Works!\")\n",
    "    CHOL_DECOMPOSITION_FAILED = False\n",
    "except Exception as e:\n",
    "    print(f\"Cholesky decomposition failed: {str(e)}\")\n",
    "    CHOL_DECOMPOSITION_FAILED = True"
   ]
  },
  {
   "cell_type": "markdown",
   "id": "e33fce11-235d-42c3-aad3-dd6577518ab8",
   "metadata": {
    "papermill": {
     "duration": 0.015887,
     "end_time": "2022-08-04T15:33:29.421613",
     "exception": false,
     "start_time": "2022-08-04T15:33:29.405726",
     "status": "completed"
    },
    "tags": []
   },
   "source": [
    "## Adjust"
   ]
  },
  {
   "cell_type": "code",
   "execution_count": 50,
   "id": "8b0f307d-046f-480c-a246-2b777a26a031",
   "metadata": {
    "execution": {
     "iopub.execute_input": "2022-08-04T15:33:29.455092Z",
     "iopub.status.busy": "2022-08-04T15:33:29.454881Z",
     "iopub.status.idle": "2022-08-04T15:33:30.502379Z",
     "shell.execute_reply": "2022-08-04T15:33:30.501805Z"
    },
    "papermill": {
     "duration": 1.065587,
     "end_time": "2022-08-04T15:33:30.504211",
     "exception": false,
     "start_time": "2022-08-04T15:33:29.438624",
     "status": "completed"
    },
    "tags": []
   },
   "outputs": [],
   "source": [
    "%load_ext rpy2.ipython"
   ]
  },
  {
   "cell_type": "code",
   "execution_count": 51,
   "id": "45b1b1dd-e5c8-4137-85e4-15a14739404d",
   "metadata": {
    "execution": {
     "iopub.execute_input": "2022-08-04T15:33:30.537470Z",
     "iopub.status.busy": "2022-08-04T15:33:30.537157Z",
     "iopub.status.idle": "2022-08-04T15:33:30.612258Z",
     "shell.execute_reply": "2022-08-04T15:33:30.611766Z"
    },
    "papermill": {
     "duration": 0.09366,
     "end_time": "2022-08-04T15:33:30.613890",
     "exception": false,
     "start_time": "2022-08-04T15:33:30.520230",
     "status": "completed"
    },
    "tags": []
   },
   "outputs": [],
   "source": [
    "%%R\n",
    "# taken and adapted from https://www.r-bloggers.com/2013/08/correcting-a-pseudo-correlation-matrix-to-be-positive-semidefinite/\n",
    "CorrectCM <- function(CM, p = 0) {\n",
    "  n <- dim(CM)[1L]\n",
    "  E <- eigen(CM)\n",
    "  CM1 <- E$vectors %*% tcrossprod(diag(pmax(E$values, p), n), E$vectors)\n",
    "  Balance <- diag(1 / sqrt(diag(CM1)))\n",
    "  CM2 <- Balance %*% CM1 %*% Balance\n",
    "  return(CM2)\n",
    "}"
   ]
  },
  {
   "cell_type": "code",
   "execution_count": 52,
   "id": "e072d1dc-fa74-44da-8a09-67a092f2adaf",
   "metadata": {
    "execution": {
     "iopub.execute_input": "2022-08-04T15:33:30.649719Z",
     "iopub.status.busy": "2022-08-04T15:33:30.649461Z",
     "iopub.status.idle": "2022-08-04T15:34:41.519019Z",
     "shell.execute_reply": "2022-08-04T15:34:41.518518Z"
    },
    "papermill": {
     "duration": 70.89462,
     "end_time": "2022-08-04T15:34:41.526022",
     "exception": false,
     "start_time": "2022-08-04T15:33:30.631402",
     "status": "completed"
    },
    "tags": []
   },
   "outputs": [
    {
     "data": {
      "text/plain": [
       "(6442, 6442)"
      ]
     },
     "metadata": {},
     "output_type": "display_data"
    },
    {
     "data": {
      "text/plain": [
       "(6442, 6442)"
      ]
     },
     "metadata": {},
     "output_type": "display_data"
    },
    {
     "data": {
      "text/html": [
       "<div>\n",
       "<style scoped>\n",
       "    .dataframe tbody tr th:only-of-type {\n",
       "        vertical-align: middle;\n",
       "    }\n",
       "\n",
       "    .dataframe tbody tr th {\n",
       "        vertical-align: top;\n",
       "    }\n",
       "\n",
       "    .dataframe thead th {\n",
       "        text-align: right;\n",
       "    }\n",
       "</style>\n",
       "<table border=\"1\" class=\"dataframe\">\n",
       "  <thead>\n",
       "    <tr style=\"text-align: right;\">\n",
       "      <th></th>\n",
       "      <th>ENSG00000188976</th>\n",
       "      <th>ENSG00000188290</th>\n",
       "      <th>ENSG00000187608</th>\n",
       "      <th>ENSG00000188157</th>\n",
       "      <th>ENSG00000186891</th>\n",
       "      <th>ENSG00000186827</th>\n",
       "      <th>ENSG00000176022</th>\n",
       "      <th>ENSG00000160087</th>\n",
       "      <th>ENSG00000131584</th>\n",
       "      <th>ENSG00000169962</th>\n",
       "      <th>...</th>\n",
       "      <th>ENSG00000196576</th>\n",
       "      <th>ENSG00000128165</th>\n",
       "      <th>ENSG00000100253</th>\n",
       "      <th>ENSG00000130489</th>\n",
       "      <th>ENSG00000025708</th>\n",
       "      <th>ENSG00000205560</th>\n",
       "      <th>ENSG00000100288</th>\n",
       "      <th>ENSG00000008735</th>\n",
       "      <th>ENSG00000100299</th>\n",
       "      <th>ENSG00000251322</th>\n",
       "    </tr>\n",
       "  </thead>\n",
       "  <tbody>\n",
       "    <tr>\n",
       "      <th>ENSG00000188976</th>\n",
       "      <td>1.000000</td>\n",
       "      <td>0.120590</td>\n",
       "      <td>0.177063</td>\n",
       "      <td>0.085746</td>\n",
       "      <td>0.006792</td>\n",
       "      <td>0.007685</td>\n",
       "      <td>0.004673</td>\n",
       "      <td>0.010734</td>\n",
       "      <td>0.011200</td>\n",
       "      <td>0.007529</td>\n",
       "      <td>...</td>\n",
       "      <td>0.000000</td>\n",
       "      <td>0.000000</td>\n",
       "      <td>0.000000</td>\n",
       "      <td>0.000000</td>\n",
       "      <td>0.000000</td>\n",
       "      <td>0.000000</td>\n",
       "      <td>0.000000</td>\n",
       "      <td>0.000000</td>\n",
       "      <td>0.000000</td>\n",
       "      <td>0.000000</td>\n",
       "    </tr>\n",
       "    <tr>\n",
       "      <th>ENSG00000188290</th>\n",
       "      <td>0.120590</td>\n",
       "      <td>1.000000</td>\n",
       "      <td>0.672060</td>\n",
       "      <td>0.391127</td>\n",
       "      <td>0.011695</td>\n",
       "      <td>0.009275</td>\n",
       "      <td>0.005970</td>\n",
       "      <td>0.007385</td>\n",
       "      <td>0.002641</td>\n",
       "      <td>0.004767</td>\n",
       "      <td>...</td>\n",
       "      <td>0.000000</td>\n",
       "      <td>0.000000</td>\n",
       "      <td>0.000000</td>\n",
       "      <td>0.000000</td>\n",
       "      <td>0.000000</td>\n",
       "      <td>0.000000</td>\n",
       "      <td>0.000000</td>\n",
       "      <td>0.000000</td>\n",
       "      <td>0.000000</td>\n",
       "      <td>0.000000</td>\n",
       "    </tr>\n",
       "    <tr>\n",
       "      <th>ENSG00000187608</th>\n",
       "      <td>0.177063</td>\n",
       "      <td>0.672060</td>\n",
       "      <td>1.000000</td>\n",
       "      <td>0.424696</td>\n",
       "      <td>0.013929</td>\n",
       "      <td>0.013311</td>\n",
       "      <td>0.008466</td>\n",
       "      <td>0.010608</td>\n",
       "      <td>0.006689</td>\n",
       "      <td>0.011659</td>\n",
       "      <td>...</td>\n",
       "      <td>0.000000</td>\n",
       "      <td>0.000000</td>\n",
       "      <td>0.000000</td>\n",
       "      <td>0.000000</td>\n",
       "      <td>0.000000</td>\n",
       "      <td>0.000000</td>\n",
       "      <td>0.000000</td>\n",
       "      <td>0.000000</td>\n",
       "      <td>0.000000</td>\n",
       "      <td>0.000000</td>\n",
       "    </tr>\n",
       "    <tr>\n",
       "      <th>ENSG00000188157</th>\n",
       "      <td>0.085746</td>\n",
       "      <td>0.391127</td>\n",
       "      <td>0.424696</td>\n",
       "      <td>1.000000</td>\n",
       "      <td>0.005309</td>\n",
       "      <td>0.011848</td>\n",
       "      <td>0.002161</td>\n",
       "      <td>0.002535</td>\n",
       "      <td>0.005359</td>\n",
       "      <td>0.007012</td>\n",
       "      <td>...</td>\n",
       "      <td>0.000000</td>\n",
       "      <td>0.000000</td>\n",
       "      <td>0.000000</td>\n",
       "      <td>0.000000</td>\n",
       "      <td>0.000000</td>\n",
       "      <td>0.000000</td>\n",
       "      <td>0.000000</td>\n",
       "      <td>0.000000</td>\n",
       "      <td>0.000000</td>\n",
       "      <td>0.000000</td>\n",
       "    </tr>\n",
       "    <tr>\n",
       "      <th>ENSG00000186891</th>\n",
       "      <td>0.006792</td>\n",
       "      <td>0.011695</td>\n",
       "      <td>0.013929</td>\n",
       "      <td>0.005309</td>\n",
       "      <td>1.000000</td>\n",
       "      <td>0.338085</td>\n",
       "      <td>0.550817</td>\n",
       "      <td>0.154394</td>\n",
       "      <td>0.193627</td>\n",
       "      <td>0.101004</td>\n",
       "      <td>...</td>\n",
       "      <td>0.000000</td>\n",
       "      <td>0.000000</td>\n",
       "      <td>0.000000</td>\n",
       "      <td>0.000000</td>\n",
       "      <td>0.000000</td>\n",
       "      <td>0.000000</td>\n",
       "      <td>0.000000</td>\n",
       "      <td>0.000000</td>\n",
       "      <td>0.000000</td>\n",
       "      <td>0.000000</td>\n",
       "    </tr>\n",
       "    <tr>\n",
       "      <th>...</th>\n",
       "      <td>...</td>\n",
       "      <td>...</td>\n",
       "      <td>...</td>\n",
       "      <td>...</td>\n",
       "      <td>...</td>\n",
       "      <td>...</td>\n",
       "      <td>...</td>\n",
       "      <td>...</td>\n",
       "      <td>...</td>\n",
       "      <td>...</td>\n",
       "      <td>...</td>\n",
       "      <td>...</td>\n",
       "      <td>...</td>\n",
       "      <td>...</td>\n",
       "      <td>...</td>\n",
       "      <td>...</td>\n",
       "      <td>...</td>\n",
       "      <td>...</td>\n",
       "      <td>...</td>\n",
       "      <td>...</td>\n",
       "      <td>...</td>\n",
       "    </tr>\n",
       "    <tr>\n",
       "      <th>ENSG00000205560</th>\n",
       "      <td>0.000000</td>\n",
       "      <td>0.000000</td>\n",
       "      <td>0.000000</td>\n",
       "      <td>0.000000</td>\n",
       "      <td>0.000000</td>\n",
       "      <td>0.000000</td>\n",
       "      <td>0.000000</td>\n",
       "      <td>0.000000</td>\n",
       "      <td>0.000000</td>\n",
       "      <td>0.000000</td>\n",
       "      <td>...</td>\n",
       "      <td>0.018598</td>\n",
       "      <td>0.067904</td>\n",
       "      <td>0.013164</td>\n",
       "      <td>0.255355</td>\n",
       "      <td>0.219822</td>\n",
       "      <td>1.000000</td>\n",
       "      <td>0.728282</td>\n",
       "      <td>0.180608</td>\n",
       "      <td>0.037057</td>\n",
       "      <td>0.008848</td>\n",
       "    </tr>\n",
       "    <tr>\n",
       "      <th>ENSG00000100288</th>\n",
       "      <td>0.000000</td>\n",
       "      <td>0.000000</td>\n",
       "      <td>0.000000</td>\n",
       "      <td>0.000000</td>\n",
       "      <td>0.000000</td>\n",
       "      <td>0.000000</td>\n",
       "      <td>0.000000</td>\n",
       "      <td>0.000000</td>\n",
       "      <td>0.000000</td>\n",
       "      <td>0.000000</td>\n",
       "      <td>...</td>\n",
       "      <td>0.030619</td>\n",
       "      <td>0.063087</td>\n",
       "      <td>0.013264</td>\n",
       "      <td>0.200121</td>\n",
       "      <td>0.200591</td>\n",
       "      <td>0.728282</td>\n",
       "      <td>1.000000</td>\n",
       "      <td>0.245883</td>\n",
       "      <td>0.040220</td>\n",
       "      <td>0.016923</td>\n",
       "    </tr>\n",
       "    <tr>\n",
       "      <th>ENSG00000008735</th>\n",
       "      <td>0.000000</td>\n",
       "      <td>0.000000</td>\n",
       "      <td>0.000000</td>\n",
       "      <td>0.000000</td>\n",
       "      <td>0.000000</td>\n",
       "      <td>0.000000</td>\n",
       "      <td>0.000000</td>\n",
       "      <td>0.000000</td>\n",
       "      <td>0.000000</td>\n",
       "      <td>0.000000</td>\n",
       "      <td>...</td>\n",
       "      <td>0.044210</td>\n",
       "      <td>0.100652</td>\n",
       "      <td>0.066327</td>\n",
       "      <td>0.051949</td>\n",
       "      <td>0.123002</td>\n",
       "      <td>0.180608</td>\n",
       "      <td>0.245883</td>\n",
       "      <td>1.000000</td>\n",
       "      <td>0.205749</td>\n",
       "      <td>0.020812</td>\n",
       "    </tr>\n",
       "    <tr>\n",
       "      <th>ENSG00000100299</th>\n",
       "      <td>0.000000</td>\n",
       "      <td>0.000000</td>\n",
       "      <td>0.000000</td>\n",
       "      <td>0.000000</td>\n",
       "      <td>0.000000</td>\n",
       "      <td>0.000000</td>\n",
       "      <td>0.000000</td>\n",
       "      <td>0.000000</td>\n",
       "      <td>0.000000</td>\n",
       "      <td>0.000000</td>\n",
       "      <td>...</td>\n",
       "      <td>0.012038</td>\n",
       "      <td>0.032331</td>\n",
       "      <td>0.021297</td>\n",
       "      <td>0.028119</td>\n",
       "      <td>0.037330</td>\n",
       "      <td>0.037057</td>\n",
       "      <td>0.040220</td>\n",
       "      <td>0.205749</td>\n",
       "      <td>1.000000</td>\n",
       "      <td>0.013044</td>\n",
       "    </tr>\n",
       "    <tr>\n",
       "      <th>ENSG00000251322</th>\n",
       "      <td>0.000000</td>\n",
       "      <td>0.000000</td>\n",
       "      <td>0.000000</td>\n",
       "      <td>0.000000</td>\n",
       "      <td>0.000000</td>\n",
       "      <td>0.000000</td>\n",
       "      <td>0.000000</td>\n",
       "      <td>0.000000</td>\n",
       "      <td>0.000000</td>\n",
       "      <td>0.000000</td>\n",
       "      <td>...</td>\n",
       "      <td>0.009329</td>\n",
       "      <td>0.009770</td>\n",
       "      <td>0.002724</td>\n",
       "      <td>0.002172</td>\n",
       "      <td>0.001206</td>\n",
       "      <td>0.008848</td>\n",
       "      <td>0.016923</td>\n",
       "      <td>0.020812</td>\n",
       "      <td>0.013044</td>\n",
       "      <td>1.000000</td>\n",
       "    </tr>\n",
       "  </tbody>\n",
       "</table>\n",
       "<p>6442 rows × 6442 columns</p>\n",
       "</div>"
      ],
      "text/plain": [
       "                 ENSG00000188976  ENSG00000188290  ENSG00000187608  \\\n",
       "ENSG00000188976         1.000000         0.120590         0.177063   \n",
       "ENSG00000188290         0.120590         1.000000         0.672060   \n",
       "ENSG00000187608         0.177063         0.672060         1.000000   \n",
       "ENSG00000188157         0.085746         0.391127         0.424696   \n",
       "ENSG00000186891         0.006792         0.011695         0.013929   \n",
       "...                          ...              ...              ...   \n",
       "ENSG00000205560         0.000000         0.000000         0.000000   \n",
       "ENSG00000100288         0.000000         0.000000         0.000000   \n",
       "ENSG00000008735         0.000000         0.000000         0.000000   \n",
       "ENSG00000100299         0.000000         0.000000         0.000000   \n",
       "ENSG00000251322         0.000000         0.000000         0.000000   \n",
       "\n",
       "                 ENSG00000188157  ENSG00000186891  ENSG00000186827  \\\n",
       "ENSG00000188976         0.085746         0.006792         0.007685   \n",
       "ENSG00000188290         0.391127         0.011695         0.009275   \n",
       "ENSG00000187608         0.424696         0.013929         0.013311   \n",
       "ENSG00000188157         1.000000         0.005309         0.011848   \n",
       "ENSG00000186891         0.005309         1.000000         0.338085   \n",
       "...                          ...              ...              ...   \n",
       "ENSG00000205560         0.000000         0.000000         0.000000   \n",
       "ENSG00000100288         0.000000         0.000000         0.000000   \n",
       "ENSG00000008735         0.000000         0.000000         0.000000   \n",
       "ENSG00000100299         0.000000         0.000000         0.000000   \n",
       "ENSG00000251322         0.000000         0.000000         0.000000   \n",
       "\n",
       "                 ENSG00000176022  ENSG00000160087  ENSG00000131584  \\\n",
       "ENSG00000188976         0.004673         0.010734         0.011200   \n",
       "ENSG00000188290         0.005970         0.007385         0.002641   \n",
       "ENSG00000187608         0.008466         0.010608         0.006689   \n",
       "ENSG00000188157         0.002161         0.002535         0.005359   \n",
       "ENSG00000186891         0.550817         0.154394         0.193627   \n",
       "...                          ...              ...              ...   \n",
       "ENSG00000205560         0.000000         0.000000         0.000000   \n",
       "ENSG00000100288         0.000000         0.000000         0.000000   \n",
       "ENSG00000008735         0.000000         0.000000         0.000000   \n",
       "ENSG00000100299         0.000000         0.000000         0.000000   \n",
       "ENSG00000251322         0.000000         0.000000         0.000000   \n",
       "\n",
       "                 ENSG00000169962  ...  ENSG00000196576  ENSG00000128165  \\\n",
       "ENSG00000188976         0.007529  ...         0.000000         0.000000   \n",
       "ENSG00000188290         0.004767  ...         0.000000         0.000000   \n",
       "ENSG00000187608         0.011659  ...         0.000000         0.000000   \n",
       "ENSG00000188157         0.007012  ...         0.000000         0.000000   \n",
       "ENSG00000186891         0.101004  ...         0.000000         0.000000   \n",
       "...                          ...  ...              ...              ...   \n",
       "ENSG00000205560         0.000000  ...         0.018598         0.067904   \n",
       "ENSG00000100288         0.000000  ...         0.030619         0.063087   \n",
       "ENSG00000008735         0.000000  ...         0.044210         0.100652   \n",
       "ENSG00000100299         0.000000  ...         0.012038         0.032331   \n",
       "ENSG00000251322         0.000000  ...         0.009329         0.009770   \n",
       "\n",
       "                 ENSG00000100253  ENSG00000130489  ENSG00000025708  \\\n",
       "ENSG00000188976         0.000000         0.000000         0.000000   \n",
       "ENSG00000188290         0.000000         0.000000         0.000000   \n",
       "ENSG00000187608         0.000000         0.000000         0.000000   \n",
       "ENSG00000188157         0.000000         0.000000         0.000000   \n",
       "ENSG00000186891         0.000000         0.000000         0.000000   \n",
       "...                          ...              ...              ...   \n",
       "ENSG00000205560         0.013164         0.255355         0.219822   \n",
       "ENSG00000100288         0.013264         0.200121         0.200591   \n",
       "ENSG00000008735         0.066327         0.051949         0.123002   \n",
       "ENSG00000100299         0.021297         0.028119         0.037330   \n",
       "ENSG00000251322         0.002724         0.002172         0.001206   \n",
       "\n",
       "                 ENSG00000205560  ENSG00000100288  ENSG00000008735  \\\n",
       "ENSG00000188976         0.000000         0.000000         0.000000   \n",
       "ENSG00000188290         0.000000         0.000000         0.000000   \n",
       "ENSG00000187608         0.000000         0.000000         0.000000   \n",
       "ENSG00000188157         0.000000         0.000000         0.000000   \n",
       "ENSG00000186891         0.000000         0.000000         0.000000   \n",
       "...                          ...              ...              ...   \n",
       "ENSG00000205560         1.000000         0.728282         0.180608   \n",
       "ENSG00000100288         0.728282         1.000000         0.245883   \n",
       "ENSG00000008735         0.180608         0.245883         1.000000   \n",
       "ENSG00000100299         0.037057         0.040220         0.205749   \n",
       "ENSG00000251322         0.008848         0.016923         0.020812   \n",
       "\n",
       "                 ENSG00000100299  ENSG00000251322  \n",
       "ENSG00000188976         0.000000         0.000000  \n",
       "ENSG00000188290         0.000000         0.000000  \n",
       "ENSG00000187608         0.000000         0.000000  \n",
       "ENSG00000188157         0.000000         0.000000  \n",
       "ENSG00000186891         0.000000         0.000000  \n",
       "...                          ...              ...  \n",
       "ENSG00000205560         0.037057         0.008848  \n",
       "ENSG00000100288         0.040220         0.016923  \n",
       "ENSG00000008735         0.205749         0.020812  \n",
       "ENSG00000100299         1.000000         0.013044  \n",
       "ENSG00000251322         0.013044         1.000000  \n",
       "\n",
       "[6442 rows x 6442 columns]"
      ]
     },
     "metadata": {},
     "output_type": "display_data"
    }
   ],
   "source": [
    "if CHOL_DECOMPOSITION_FAILED:\n",
    "    corr_mat_r = full_corr_matrix.to_numpy()\n",
    "\n",
    "    %Rpush corr_mat_r\n",
    "    %R -o corr_mat_r_fixed corr_mat_r_fixed <- CorrectCM(corr_mat_r, 1e-5)\n",
    "\n",
    "    display(corr_mat_r_fixed.shape)\n",
    "\n",
    "    full_corr_matrix_fixed = pd.DataFrame(\n",
    "        corr_mat_r_fixed,\n",
    "        index=full_corr_matrix.index.copy(),\n",
    "        columns=full_corr_matrix.columns.copy(),\n",
    "    )\n",
    "    display(full_corr_matrix_fixed.shape)\n",
    "    display(full_corr_matrix_fixed)\n",
    "else:\n",
    "    print(\"No adjustment was necessary\")"
   ]
  },
  {
   "cell_type": "markdown",
   "id": "024b04c6-e0bf-4a88-98af-5ca7a96a8753",
   "metadata": {
    "papermill": {
     "duration": 0.016075,
     "end_time": "2022-08-04T15:34:41.558505",
     "exception": false,
     "start_time": "2022-08-04T15:34:41.542430",
     "status": "completed"
    },
    "tags": []
   },
   "source": [
    "## Make sure the new matrix is positive definite"
   ]
  },
  {
   "cell_type": "code",
   "execution_count": 53,
   "id": "6908be87-1086-45bd-b8f0-4cf923755683",
   "metadata": {
    "execution": {
     "iopub.execute_input": "2022-08-04T15:34:41.592170Z",
     "iopub.status.busy": "2022-08-04T15:34:41.591974Z",
     "iopub.status.idle": "2022-08-04T15:36:08.031896Z",
     "shell.execute_reply": "2022-08-04T15:36:08.031161Z"
    },
    "papermill": {
     "duration": 86.458854,
     "end_time": "2022-08-04T15:36:08.033904",
     "exception": false,
     "start_time": "2022-08-04T15:34:41.575050",
     "status": "completed"
    },
    "tags": []
   },
   "outputs": [
    {
     "data": {
      "text/plain": [
       "0"
      ]
     },
     "metadata": {},
     "output_type": "display_data"
    },
    {
     "data": {
      "text/plain": [
       "array([], dtype=float64)"
      ]
     },
     "metadata": {},
     "output_type": "display_data"
    }
   ],
   "source": [
    "if CHOL_DECOMPOSITION_FAILED:\n",
    "    # print negative eigenvalues\n",
    "    eigs = np.linalg.eigvals(full_corr_matrix_fixed.to_numpy())\n",
    "    display(len(eigs[eigs < 0]))\n",
    "    display(eigs[eigs < 0])\n",
    "\n",
    "    chol_mat = np.linalg.cholesky(full_corr_matrix_fixed.to_numpy())\n",
    "    cov_inv = np.linalg.inv(chol_mat)\n",
    "\n",
    "    assert not np.isnan(chol_mat).any()\n",
    "    assert not np.isinf(chol_mat).any()\n",
    "    assert not np.iscomplex(chol_mat).any()\n",
    "\n",
    "    assert not np.isnan(cov_inv).any()\n",
    "    assert not np.isinf(cov_inv).any()\n",
    "    assert not np.iscomplex(cov_inv).any()\n",
    "else:\n",
    "    print(\"No adjustment was necessary\")"
   ]
  },
  {
   "cell_type": "markdown",
   "id": "ce84a6b4-9590-4b99-9fd6-83724f6d8f29",
   "metadata": {
    "papermill": {
     "duration": 0.015943,
     "end_time": "2022-08-04T15:36:08.067271",
     "exception": false,
     "start_time": "2022-08-04T15:36:08.051328",
     "status": "completed"
    },
    "tags": []
   },
   "source": [
    "## Compare adjusted and original correlation matrix"
   ]
  },
  {
   "cell_type": "code",
   "execution_count": 54,
   "id": "79e6972e-1832-4fd2-8e34-b4732f42a495",
   "metadata": {
    "execution": {
     "iopub.execute_input": "2022-08-04T15:36:08.100524Z",
     "iopub.status.busy": "2022-08-04T15:36:08.100307Z",
     "iopub.status.idle": "2022-08-04T15:36:09.387008Z",
     "shell.execute_reply": "2022-08-04T15:36:09.386338Z"
    },
    "papermill": {
     "duration": 1.305196,
     "end_time": "2022-08-04T15:36:09.388525",
     "exception": false,
     "start_time": "2022-08-04T15:36:08.083329",
     "status": "completed"
    },
    "tags": []
   },
   "outputs": [
    {
     "data": {
      "text/plain": [
       "4.1407621992692324e-10"
      ]
     },
     "metadata": {},
     "output_type": "display_data"
    }
   ],
   "source": [
    "if CHOL_DECOMPOSITION_FAILED:\n",
    "    # print the element-wise difference between the original and the adjusted matrix\n",
    "    _diff = ((full_corr_matrix - full_corr_matrix_fixed) ** 2).unstack().sum()\n",
    "    display(_diff)\n",
    "    assert _diff < 1e-5\n",
    "else:\n",
    "    print(\"No adjustment was necessary\")"
   ]
  },
  {
   "cell_type": "markdown",
   "id": "bd9fd435-7a5c-4c52-b00e-32167287cc01",
   "metadata": {
    "papermill": {
     "duration": 0.0172,
     "end_time": "2022-08-04T15:36:09.422957",
     "exception": false,
     "start_time": "2022-08-04T15:36:09.405757",
     "status": "completed"
    },
    "tags": []
   },
   "source": [
    "## Replace original matrix with adjusted one"
   ]
  },
  {
   "cell_type": "code",
   "execution_count": 55,
   "id": "fc8a4108-e93b-478f-b09f-4d64635fe4d5",
   "metadata": {
    "execution": {
     "iopub.execute_input": "2022-08-04T15:36:09.457839Z",
     "iopub.status.busy": "2022-08-04T15:36:09.457653Z",
     "iopub.status.idle": "2022-08-04T15:36:09.476081Z",
     "shell.execute_reply": "2022-08-04T15:36:09.475412Z"
    },
    "papermill": {
     "duration": 0.037554,
     "end_time": "2022-08-04T15:36:09.477370",
     "exception": false,
     "start_time": "2022-08-04T15:36:09.439816",
     "status": "completed"
    },
    "tags": []
   },
   "outputs": [],
   "source": [
    "if CHOL_DECOMPOSITION_FAILED:\n",
    "    full_corr_matrix = full_corr_matrix_fixed\n",
    "else:\n",
    "    print(\"No adjustment was necessary\")"
   ]
  },
  {
   "cell_type": "markdown",
   "id": "551bd31a-ad37-45b5-a0c8-6ff1459faf60",
   "metadata": {
    "papermill": {
     "duration": 0.01623,
     "end_time": "2022-08-04T15:36:09.510270",
     "exception": false,
     "start_time": "2022-08-04T15:36:09.494040",
     "status": "completed"
    },
    "tags": []
   },
   "source": [
    "# Stats"
   ]
  },
  {
   "cell_type": "code",
   "execution_count": 56,
   "id": "33b5482f-7ecf-4365-867f-249f28d09180",
   "metadata": {
    "execution": {
     "iopub.execute_input": "2022-08-04T15:36:09.544471Z",
     "iopub.status.busy": "2022-08-04T15:36:09.544307Z",
     "iopub.status.idle": "2022-08-04T15:36:10.765381Z",
     "shell.execute_reply": "2022-08-04T15:36:10.764731Z"
    },
    "papermill": {
     "duration": 1.240209,
     "end_time": "2022-08-04T15:36:10.767213",
     "exception": false,
     "start_time": "2022-08-04T15:36:09.527004",
     "status": "completed"
    },
    "tags": []
   },
   "outputs": [],
   "source": [
    "full_corr_matrix_flat = full_corr_matrix.mask(\n",
    "    np.triu(np.ones(full_corr_matrix.shape)).astype(bool)\n",
    ").stack()"
   ]
  },
  {
   "cell_type": "code",
   "execution_count": 57,
   "id": "e2d950d1-646a-4ba1-bb91-cf07ad00872d",
   "metadata": {
    "execution": {
     "iopub.execute_input": "2022-08-04T15:36:10.802634Z",
     "iopub.status.busy": "2022-08-04T15:36:10.802425Z",
     "iopub.status.idle": "2022-08-04T15:36:10.822615Z",
     "shell.execute_reply": "2022-08-04T15:36:10.822241Z"
    },
    "papermill": {
     "duration": 0.038955,
     "end_time": "2022-08-04T15:36:10.823920",
     "exception": false,
     "start_time": "2022-08-04T15:36:10.784965",
     "status": "completed"
    },
    "tags": []
   },
   "outputs": [
    {
     "data": {
      "text/plain": [
       "(20746461,)"
      ]
     },
     "metadata": {},
     "output_type": "display_data"
    }
   ],
   "source": [
    "display(full_corr_matrix_flat.shape)\n",
    "assert full_corr_matrix_flat.shape[0] == int(\n",
    "    full_corr_matrix.shape[0] * (full_corr_matrix.shape[0] - 1) / 2\n",
    ")"
   ]
  },
  {
   "cell_type": "markdown",
   "id": "5fd7d482-b7b8-4a84-91b0-749d15f0d2c0",
   "metadata": {
    "papermill": {
     "duration": 0.016613,
     "end_time": "2022-08-04T15:36:10.857339",
     "exception": false,
     "start_time": "2022-08-04T15:36:10.840726",
     "status": "completed"
    },
    "tags": []
   },
   "source": [
    "## On all correlations"
   ]
  },
  {
   "cell_type": "code",
   "execution_count": 58,
   "id": "e58ea199-0cc1-449d-a55e-26970fb674a8",
   "metadata": {
    "execution": {
     "iopub.execute_input": "2022-08-04T15:36:10.891447Z",
     "iopub.status.busy": "2022-08-04T15:36:10.891273Z",
     "iopub.status.idle": "2022-08-04T15:36:10.908967Z",
     "shell.execute_reply": "2022-08-04T15:36:10.908338Z"
    },
    "papermill": {
     "duration": 0.036575,
     "end_time": "2022-08-04T15:36:10.910284",
     "exception": false,
     "start_time": "2022-08-04T15:36:10.873709",
     "status": "completed"
    },
    "tags": []
   },
   "outputs": [],
   "source": [
    "_corr_mat = full_corr_matrix_flat"
   ]
  },
  {
   "cell_type": "code",
   "execution_count": 59,
   "id": "c4e71773-0b74-435f-a9d9-cc8671d7c570",
   "metadata": {
    "execution": {
     "iopub.execute_input": "2022-08-04T15:36:10.944902Z",
     "iopub.status.busy": "2022-08-04T15:36:10.944732Z",
     "iopub.status.idle": "2022-08-04T15:36:10.962640Z",
     "shell.execute_reply": "2022-08-04T15:36:10.962069Z"
    },
    "papermill": {
     "duration": 0.037137,
     "end_time": "2022-08-04T15:36:10.963942",
     "exception": false,
     "start_time": "2022-08-04T15:36:10.926805",
     "status": "completed"
    },
    "tags": []
   },
   "outputs": [
    {
     "data": {
      "text/plain": [
       "(20746461,)"
      ]
     },
     "execution_count": 59,
     "metadata": {},
     "output_type": "execute_result"
    }
   ],
   "source": [
    "_corr_mat.shape"
   ]
  },
  {
   "cell_type": "code",
   "execution_count": 60,
   "id": "9907fbe4-85e1-4690-ae0c-3c6f5a19e9b7",
   "metadata": {
    "execution": {
     "iopub.execute_input": "2022-08-04T15:36:10.999050Z",
     "iopub.status.busy": "2022-08-04T15:36:10.998881Z",
     "iopub.status.idle": "2022-08-04T15:36:11.017970Z",
     "shell.execute_reply": "2022-08-04T15:36:11.017473Z"
    },
    "papermill": {
     "duration": 0.038491,
     "end_time": "2022-08-04T15:36:11.019273",
     "exception": false,
     "start_time": "2022-08-04T15:36:10.980782",
     "status": "completed"
    },
    "tags": []
   },
   "outputs": [
    {
     "data": {
      "text/plain": [
       "ENSG00000188290  ENSG00000188976    0.120590\n",
       "ENSG00000187608  ENSG00000188976    0.177063\n",
       "                 ENSG00000188290    0.672060\n",
       "ENSG00000188157  ENSG00000188976    0.085746\n",
       "                 ENSG00000188290    0.391127\n",
       "dtype: float64"
      ]
     },
     "execution_count": 60,
     "metadata": {},
     "output_type": "execute_result"
    }
   ],
   "source": [
    "_corr_mat.head()"
   ]
  },
  {
   "cell_type": "code",
   "execution_count": 61,
   "id": "cb34e9c9-7488-47f2-aa31-c8a8e83f92ae",
   "metadata": {
    "execution": {
     "iopub.execute_input": "2022-08-04T15:36:11.054776Z",
     "iopub.status.busy": "2022-08-04T15:36:11.054608Z",
     "iopub.status.idle": "2022-08-04T15:36:11.941531Z",
     "shell.execute_reply": "2022-08-04T15:36:11.941029Z"
    },
    "papermill": {
     "duration": 0.906853,
     "end_time": "2022-08-04T15:36:11.943150",
     "exception": false,
     "start_time": "2022-08-04T15:36:11.036297",
     "status": "completed"
    },
    "tags": []
   },
   "outputs": [
    {
     "data": {
      "text/plain": [
       "count                20746461.0\n",
       "mean      0.0004600835740433629\n",
       "std        0.007105219182000988\n",
       "min      -9.258862459872184e-15\n",
       "25%                         0.0\n",
       "50%                         0.0\n",
       "75%                         0.0\n",
       "max          0.9999900000499999\n",
       "dtype: object"
      ]
     },
     "execution_count": 61,
     "metadata": {},
     "output_type": "execute_result"
    }
   ],
   "source": [
    "_corr_mat.describe().apply(str)"
   ]
  },
  {
   "cell_type": "code",
   "execution_count": 62,
   "id": "ccb2fbfa-e381-40a0-a269-e280c12c6039",
   "metadata": {
    "execution": {
     "iopub.execute_input": "2022-08-04T15:36:11.979008Z",
     "iopub.status.busy": "2022-08-04T15:36:11.978809Z",
     "iopub.status.idle": "2022-08-04T15:36:12.332348Z",
     "shell.execute_reply": "2022-08-04T15:36:12.331907Z"
    },
    "papermill": {
     "duration": 0.372717,
     "end_time": "2022-08-04T15:36:12.333753",
     "exception": false,
     "start_time": "2022-08-04T15:36:11.961036",
     "status": "completed"
    },
    "tags": []
   },
   "outputs": [
    {
     "data": {
      "text/plain": [
       "0.00   -9.258862e-15\n",
       "0.05    0.000000e+00\n",
       "0.10    0.000000e+00\n",
       "0.15    0.000000e+00\n",
       "0.20    0.000000e+00\n",
       "0.25    0.000000e+00\n",
       "0.30    0.000000e+00\n",
       "0.35    0.000000e+00\n",
       "0.40    0.000000e+00\n",
       "0.45    0.000000e+00\n",
       "0.50    0.000000e+00\n",
       "0.55    0.000000e+00\n",
       "0.60    0.000000e+00\n",
       "0.65    0.000000e+00\n",
       "0.70    0.000000e+00\n",
       "0.75    0.000000e+00\n",
       "0.80    0.000000e+00\n",
       "0.85    0.000000e+00\n",
       "0.90    0.000000e+00\n",
       "0.95    2.315100e-03\n",
       "dtype: float64"
      ]
     },
     "metadata": {},
     "output_type": "display_data"
    }
   ],
   "source": [
    "display(_corr_mat.quantile(np.arange(0, 1, 0.05)))"
   ]
  },
  {
   "cell_type": "code",
   "execution_count": 63,
   "id": "940dcbd0-3a39-4e0b-9b7c-cd3f905ea8fb",
   "metadata": {
    "execution": {
     "iopub.execute_input": "2022-08-04T15:36:12.369983Z",
     "iopub.status.busy": "2022-08-04T15:36:12.369799Z",
     "iopub.status.idle": "2022-08-04T15:36:12.623646Z",
     "shell.execute_reply": "2022-08-04T15:36:12.623135Z"
    },
    "papermill": {
     "duration": 0.273328,
     "end_time": "2022-08-04T15:36:12.625159",
     "exception": false,
     "start_time": "2022-08-04T15:36:12.351831",
     "status": "completed"
    },
    "tags": []
   },
   "outputs": [
    {
     "data": {
      "text/plain": [
       "0.0000   -9.258862e-15\n",
       "0.0001    0.000000e+00\n",
       "0.0002    0.000000e+00\n",
       "0.0003    0.000000e+00\n",
       "0.0004    0.000000e+00\n",
       "0.0005    0.000000e+00\n",
       "0.0006    0.000000e+00\n",
       "0.0007    0.000000e+00\n",
       "0.0008    0.000000e+00\n",
       "0.0009    0.000000e+00\n",
       "dtype: float64"
      ]
     },
     "metadata": {},
     "output_type": "display_data"
    }
   ],
   "source": [
    "display(_corr_mat.quantile(np.arange(0, 0.001, 0.0001)))"
   ]
  },
  {
   "cell_type": "code",
   "execution_count": 64,
   "id": "9c76b62b-be13-4037-a95b-a8c2104055a3",
   "metadata": {
    "execution": {
     "iopub.execute_input": "2022-08-04T15:36:12.661351Z",
     "iopub.status.busy": "2022-08-04T15:36:12.661151Z",
     "iopub.status.idle": "2022-08-04T15:36:12.785754Z",
     "shell.execute_reply": "2022-08-04T15:36:12.785246Z"
    },
    "papermill": {
     "duration": 0.14414,
     "end_time": "2022-08-04T15:36:12.787114",
     "exception": false,
     "start_time": "2022-08-04T15:36:12.642974",
     "status": "completed"
    },
    "tags": []
   },
   "outputs": [
    {
     "data": {
      "text/plain": [
       "0.9990    0.016501\n",
       "0.9991    0.017751\n",
       "0.9992    0.020514\n",
       "0.9993    0.026226\n",
       "0.9994    0.035300\n",
       "0.9995    0.050956\n",
       "0.9996    0.079768\n",
       "0.9997    0.133637\n",
       "0.9998    0.238272\n",
       "0.9999    0.399870\n",
       "1.0000    0.999990\n",
       "dtype: float64"
      ]
     },
     "metadata": {},
     "output_type": "display_data"
    }
   ],
   "source": [
    "display(_corr_mat.quantile(np.arange(0.999, 1.0, 0.0001)))"
   ]
  },
  {
   "cell_type": "markdown",
   "id": "0ed3b3a6-f1ea-4f39-9363-f33b835413d2",
   "metadata": {
    "papermill": {
     "duration": 0.017093,
     "end_time": "2022-08-04T15:36:12.821956",
     "exception": false,
     "start_time": "2022-08-04T15:36:12.804863",
     "status": "completed"
    },
    "tags": []
   },
   "source": [
    "### Plot: distribution"
   ]
  },
  {
   "cell_type": "code",
   "execution_count": 65,
   "id": "8301126b-a7d4-4744-9c7d-f0f86eb6f54c",
   "metadata": {
    "execution": {
     "iopub.execute_input": "2022-08-04T15:36:12.856310Z",
     "iopub.status.busy": "2022-08-04T15:36:12.856123Z",
     "iopub.status.idle": "2022-08-04T15:37:18.371830Z",
     "shell.execute_reply": "2022-08-04T15:37:18.371257Z"
    },
    "papermill": {
     "duration": 65.549223,
     "end_time": "2022-08-04T15:37:18.387826",
     "exception": false,
     "start_time": "2022-08-04T15:36:12.838603",
     "status": "completed"
    },
    "tags": []
   },
   "outputs": [
    {
     "data": {
      "image/png": "[encoded data removed]",
      "text/plain": [
       "<Figure size 504x504 with 1 Axes>"
      ]
     },
     "metadata": {
      "needs_background": "light"
     },
     "output_type": "display_data"
    }
   ],
   "source": [
    "with sns.plotting_context(\"paper\", font_scale=1.5):\n",
    "    g = sns.displot(_corr_mat, kde=True, height=7)\n",
    "    g.ax.set_title(\"Distribution of gene correlation values in all chromosomes\")"
   ]
  },
  {
   "cell_type": "markdown",
   "id": "e209767d-44b8-48a4-ad28-478703a3b5bd",
   "metadata": {
    "papermill": {
     "duration": 0.017537,
     "end_time": "2022-08-04T15:37:18.422667",
     "exception": false,
     "start_time": "2022-08-04T15:37:18.405130",
     "status": "completed"
    },
    "tags": []
   },
   "source": [
    "### Plot: heatmap"
   ]
  },
  {
   "cell_type": "code",
   "execution_count": 66,
   "id": "d03fe63a-c7b2-4fb9-a53c-db362ce843c9",
   "metadata": {
    "execution": {
     "iopub.execute_input": "2022-08-04T15:37:18.459876Z",
     "iopub.status.busy": "2022-08-04T15:37:18.459687Z",
     "iopub.status.idle": "2022-08-04T15:37:19.008634Z",
     "shell.execute_reply": "2022-08-04T15:37:19.008030Z"
    },
    "papermill": {
     "duration": 0.569631,
     "end_time": "2022-08-04T15:37:19.010429",
     "exception": false,
     "start_time": "2022-08-04T15:37:18.440798",
     "status": "completed"
    },
    "tags": []
   },
   "outputs": [
    {
     "data": {
      "text/plain": [
       "'0.0 / 0.05'"
      ]
     },
     "metadata": {},
     "output_type": "display_data"
    }
   ],
   "source": [
    "vmin_val = 0.0\n",
    "vmax_val = max(0.05, _corr_mat.quantile(0.99))\n",
    "display(f\"{vmin_val} / {vmax_val}\")"
   ]
  },
  {
   "cell_type": "code",
   "execution_count": 67,
   "id": "dc41b70b-5bcc-4d9e-9f33-a22c4a94dab5",
   "metadata": {
    "execution": {
     "iopub.execute_input": "2022-08-04T15:37:19.054474Z",
     "iopub.status.busy": "2022-08-04T15:37:19.054251Z",
     "iopub.status.idle": "2022-08-04T15:37:44.650925Z",
     "shell.execute_reply": "2022-08-04T15:37:44.650369Z"
    },
    "papermill": {
     "duration": 25.619527,
     "end_time": "2022-08-04T15:37:44.652190",
     "exception": false,
     "start_time": "2022-08-04T15:37:19.032663",
     "status": "completed"
    },
    "tags": []
   },
   "outputs": [
    {
     "data": {
      "text/plain": [
       "Text(0.5, 1.0, 'Gene correlations in all chromosomes')"
      ]
     },
     "execution_count": 67,
     "metadata": {},
     "output_type": "execute_result"
    },
    {
     "data": {
      "image/png": "[encoded data removed]",
      "text/plain": [
       "<Figure size 720x720 with 2 Axes>"
      ]
     },
     "metadata": {
      "needs_background": "light"
     },
     "output_type": "display_data"
    }
   ],
   "source": [
    "f, ax = plt.subplots(figsize=(10, 10))\n",
    "sns.heatmap(\n",
    "    full_corr_matrix,\n",
    "    xticklabels=False,\n",
    "    yticklabels=False,\n",
    "    square=True,\n",
    "    vmin=vmin_val,\n",
    "    vmax=vmax_val,\n",
    "    cmap=\"rocket_r\",\n",
    "    ax=ax,\n",
    ")\n",
    "ax.set_title(\"Gene correlations in all chromosomes\")"
   ]
  },
  {
   "cell_type": "markdown",
   "id": "5a1b7488-1c3b-4c8b-b619-3b063b3f83c6",
   "metadata": {
    "papermill": {
     "duration": 0.019847,
     "end_time": "2022-08-04T15:37:44.691953",
     "exception": false,
     "start_time": "2022-08-04T15:37:44.672106",
     "status": "completed"
    },
    "tags": []
   },
   "source": [
    "## On nonzero correlations"
   ]
  },
  {
   "cell_type": "code",
   "execution_count": 68,
   "id": "0a07752e-b62f-4f01-af30-847efe9bba54",
   "metadata": {
    "execution": {
     "iopub.execute_input": "2022-08-04T15:37:44.735168Z",
     "iopub.status.busy": "2022-08-04T15:37:44.734973Z",
     "iopub.status.idle": "2022-08-04T15:37:44.803897Z",
     "shell.execute_reply": "2022-08-04T15:37:44.803292Z"
    },
    "papermill": {
     "duration": 0.094864,
     "end_time": "2022-08-04T15:37:44.805648",
     "exception": false,
     "start_time": "2022-08-04T15:37:44.710784",
     "status": "completed"
    },
    "tags": []
   },
   "outputs": [],
   "source": [
    "nonzero_corrs = full_corr_matrix_flat[full_corr_matrix_flat > 0.0]"
   ]
  },
  {
   "cell_type": "code",
   "execution_count": 69,
   "id": "3b509dde-e4ec-4e14-a7d5-09e3fe584027",
   "metadata": {
    "execution": {
     "iopub.execute_input": "2022-08-04T15:37:44.873941Z",
     "iopub.status.busy": "2022-08-04T15:37:44.873681Z",
     "iopub.status.idle": "2022-08-04T15:37:44.896665Z",
     "shell.execute_reply": "2022-08-04T15:37:44.896098Z"
    },
    "papermill": {
     "duration": 0.073837,
     "end_time": "2022-08-04T15:37:44.898342",
     "exception": false,
     "start_time": "2022-08-04T15:37:44.824505",
     "status": "completed"
    },
    "tags": []
   },
   "outputs": [],
   "source": [
    "_corr_mat = nonzero_corrs"
   ]
  },
  {
   "cell_type": "code",
   "execution_count": 70,
   "id": "427cd6b6-411c-4bce-9129-f7e128c9992f",
   "metadata": {
    "execution": {
     "iopub.execute_input": "2022-08-04T15:37:44.954046Z",
     "iopub.status.busy": "2022-08-04T15:37:44.953846Z",
     "iopub.status.idle": "2022-08-04T15:37:44.975999Z",
     "shell.execute_reply": "2022-08-04T15:37:44.975523Z"
    },
    "papermill": {
     "duration": 0.049802,
     "end_time": "2022-08-04T15:37:44.977451",
     "exception": false,
     "start_time": "2022-08-04T15:37:44.927649",
     "status": "completed"
    },
    "tags": []
   },
   "outputs": [
    {
     "data": {
      "text/plain": [
       "(1175424,)"
      ]
     },
     "execution_count": 70,
     "metadata": {},
     "output_type": "execute_result"
    }
   ],
   "source": [
    "_corr_mat.shape"
   ]
  },
  {
   "cell_type": "code",
   "execution_count": 71,
   "id": "684ee3aa-d1bf-4f39-883e-1c9cda28f332",
   "metadata": {
    "execution": {
     "iopub.execute_input": "2022-08-04T15:37:45.024016Z",
     "iopub.status.busy": "2022-08-04T15:37:45.023828Z",
     "iopub.status.idle": "2022-08-04T15:37:45.044990Z",
     "shell.execute_reply": "2022-08-04T15:37:45.044577Z"
    },
    "papermill": {
     "duration": 0.046036,
     "end_time": "2022-08-04T15:37:45.046316",
     "exception": false,
     "start_time": "2022-08-04T15:37:45.000280",
     "status": "completed"
    },
    "tags": []
   },
   "outputs": [
    {
     "data": {
      "text/plain": [
       "ENSG00000188290  ENSG00000188976    0.120590\n",
       "ENSG00000187608  ENSG00000188976    0.177063\n",
       "                 ENSG00000188290    0.672060\n",
       "ENSG00000188157  ENSG00000188976    0.085746\n",
       "                 ENSG00000188290    0.391127\n",
       "dtype: float64"
      ]
     },
     "execution_count": 71,
     "metadata": {},
     "output_type": "execute_result"
    }
   ],
   "source": [
    "_corr_mat.head()"
   ]
  },
  {
   "cell_type": "code",
   "execution_count": 72,
   "id": "87467e53-a225-48f9-86ef-d00978925faa",
   "metadata": {
    "execution": {
     "iopub.execute_input": "2022-08-04T15:37:45.128515Z",
     "iopub.status.busy": "2022-08-04T15:37:45.128179Z",
     "iopub.status.idle": "2022-08-04T15:37:45.228320Z",
     "shell.execute_reply": "2022-08-04T15:37:45.227753Z"
    },
    "papermill": {
     "duration": 0.140988,
     "end_time": "2022-08-04T15:37:45.230093",
     "exception": false,
     "start_time": "2022-08-04T15:37:45.089105",
     "status": "completed"
    },
    "tags": []
   },
   "outputs": [
    {
     "data": {
      "text/plain": [
       "count                1175424.0\n",
       "mean       0.00812056409060158\n",
       "std        0.02878972160919992\n",
       "min      1.772569924300621e-10\n",
       "25%       0.003610011770910453\n",
       "50%       0.005611477737393171\n",
       "75%       0.007924554806352813\n",
       "max         0.9999900000499999\n",
       "dtype: object"
      ]
     },
     "execution_count": 72,
     "metadata": {},
     "output_type": "execute_result"
    }
   ],
   "source": [
    "_corr_mat.describe().apply(str)"
   ]
  },
  {
   "cell_type": "code",
   "execution_count": 73,
   "id": "ece1b4b2-1764-4893-bb0e-837f5d1a6677",
   "metadata": {
    "execution": {
     "iopub.execute_input": "2022-08-04T15:37:45.303930Z",
     "iopub.status.busy": "2022-08-04T15:37:45.303660Z",
     "iopub.status.idle": "2022-08-04T15:37:45.380900Z",
     "shell.execute_reply": "2022-08-04T15:37:45.380304Z"
    },
    "papermill": {
     "duration": 0.126275,
     "end_time": "2022-08-04T15:37:45.382482",
     "exception": false,
     "start_time": "2022-08-04T15:37:45.256207",
     "status": "completed"
    },
    "tags": []
   },
   "outputs": [
    {
     "data": {
      "text/plain": [
       "0.00    1.772570e-10\n",
       "0.05    1.376817e-03\n",
       "0.10    2.103061e-03\n",
       "0.15    2.673603e-03\n",
       "0.20    3.164142e-03\n",
       "0.25    3.610012e-03\n",
       "0.30    4.028999e-03\n",
       "0.35    4.431617e-03\n",
       "0.40    4.825607e-03\n",
       "0.45    5.219056e-03\n",
       "0.50    5.611478e-03\n",
       "0.55    6.020045e-03\n",
       "0.60    6.441637e-03\n",
       "0.65    6.893464e-03\n",
       "0.70    7.383680e-03\n",
       "0.75    7.924555e-03\n",
       "0.80    8.548471e-03\n",
       "0.85    9.313649e-03\n",
       "0.90    1.034614e-02\n",
       "0.95    1.213213e-02\n",
       "dtype: float64"
      ]
     },
     "metadata": {},
     "output_type": "display_data"
    }
   ],
   "source": [
    "display(_corr_mat.quantile(np.arange(0, 1, 0.05)))"
   ]
  },
  {
   "cell_type": "code",
   "execution_count": 74,
   "id": "3543f16e-1453-44e5-ab68-0d03450e559b",
   "metadata": {
    "execution": {
     "iopub.execute_input": "2022-08-04T15:37:45.446379Z",
     "iopub.status.busy": "2022-08-04T15:37:45.446090Z",
     "iopub.status.idle": "2022-08-04T15:37:45.502374Z",
     "shell.execute_reply": "2022-08-04T15:37:45.501836Z"
    },
    "papermill": {
     "duration": 0.093921,
     "end_time": "2022-08-04T15:37:45.504038",
     "exception": false,
     "start_time": "2022-08-04T15:37:45.410117",
     "status": "completed"
    },
    "tags": []
   },
   "outputs": [
    {
     "data": {
      "text/plain": [
       "0.0000    1.772570e-10\n",
       "0.0001    1.089498e-06\n",
       "0.0002    3.299784e-06\n",
       "0.0003    6.496161e-06\n",
       "0.0004    1.028796e-05\n",
       "0.0005    1.460692e-05\n",
       "0.0006    1.871180e-05\n",
       "0.0007    2.344684e-05\n",
       "0.0008    2.887152e-05\n",
       "0.0009    3.387836e-05\n",
       "dtype: float64"
      ]
     },
     "metadata": {},
     "output_type": "display_data"
    }
   ],
   "source": [
    "display(_corr_mat.quantile(np.arange(0, 0.001, 0.0001)))"
   ]
  },
  {
   "cell_type": "code",
   "execution_count": 75,
   "id": "bb34d782-9aaa-48ce-b526-8323522166a3",
   "metadata": {
    "execution": {
     "iopub.execute_input": "2022-08-04T15:37:45.554544Z",
     "iopub.status.busy": "2022-08-04T15:37:45.554320Z",
     "iopub.status.idle": "2022-08-04T15:37:45.584493Z",
     "shell.execute_reply": "2022-08-04T15:37:45.584013Z"
    },
    "papermill": {
     "duration": 0.056693,
     "end_time": "2022-08-04T15:37:45.585925",
     "exception": false,
     "start_time": "2022-08-04T15:37:45.529232",
     "status": "completed"
    },
    "tags": []
   },
   "outputs": [
    {
     "data": {
      "text/plain": [
       "0.9990    0.503479\n",
       "0.9991    0.521125\n",
       "0.9992    0.542781\n",
       "0.9993    0.565972\n",
       "0.9994    0.587782\n",
       "0.9995    0.614514\n",
       "0.9996    0.645528\n",
       "0.9997    0.678799\n",
       "0.9998    0.725961\n",
       "0.9999    0.804971\n",
       "1.0000    0.999990\n",
       "dtype: float64"
      ]
     },
     "metadata": {},
     "output_type": "display_data"
    }
   ],
   "source": [
    "display(_corr_mat.quantile(np.arange(0.999, 1.0, 0.0001)))"
   ]
  },
  {
   "cell_type": "markdown",
   "id": "fd4ce75c-e759-48b5-9b2b-584438302fff",
   "metadata": {
    "papermill": {
     "duration": 0.036809,
     "end_time": "2022-08-04T15:37:45.655216",
     "exception": false,
     "start_time": "2022-08-04T15:37:45.618407",
     "status": "completed"
    },
    "tags": []
   },
   "source": [
    "### Plot: distribution"
   ]
  },
  {
   "cell_type": "code",
   "execution_count": 76,
   "id": "7da6aa50-81da-4f75-9d54-4fad6a3fb5a5",
   "metadata": {
    "execution": {
     "iopub.execute_input": "2022-08-04T15:37:45.718066Z",
     "iopub.status.busy": "2022-08-04T15:37:45.717812Z",
     "iopub.status.idle": "2022-08-04T15:38:04.149143Z",
     "shell.execute_reply": "2022-08-04T15:38:04.148605Z"
    },
    "papermill": {
     "duration": 18.463623,
     "end_time": "2022-08-04T15:38:04.150745",
     "exception": false,
     "start_time": "2022-08-04T15:37:45.687122",
     "status": "completed"
    },
    "tags": []
   },
   "outputs": [
    {
     "data": {
      "image/png": "[encoded data removed]",
      "text/plain": [
       "<Figure size 504x504 with 1 Axes>"
      ]
     },
     "metadata": {
      "needs_background": "light"
     },
     "output_type": "display_data"
    }
   ],
   "source": [
    "with sns.plotting_context(\"paper\", font_scale=1.5):\n",
    "    g = sns.displot(_corr_mat, kde=True, height=7)\n",
    "    g.ax.set_title(\"Distribution of gene correlation values in all chromosomes\")"
   ]
  },
  {
   "cell_type": "markdown",
   "id": "e34db3c2",
   "metadata": {
    "papermill": {
     "duration": 0.019653,
     "end_time": "2022-08-04T15:38:04.191799",
     "exception": false,
     "start_time": "2022-08-04T15:38:04.172146",
     "status": "completed"
    },
    "tags": []
   },
   "source": [
    "# Save"
   ]
  },
  {
   "cell_type": "markdown",
   "id": "510183a9",
   "metadata": {
    "papermill": {
     "duration": 0.018799,
     "end_time": "2022-08-04T15:38:04.230003",
     "exception": false,
     "start_time": "2022-08-04T15:38:04.211204",
     "status": "completed"
    },
    "tags": []
   },
   "source": [
    "## With ensemble ids"
   ]
  },
  {
   "cell_type": "markdown",
   "id": "7f9816a6",
   "metadata": {
    "papermill": {
     "duration": 0.019476,
     "end_time": "2022-08-04T15:38:04.268469",
     "exception": false,
     "start_time": "2022-08-04T15:38:04.248993",
     "status": "completed"
    },
    "tags": []
   },
   "source": [
    "## With gene symbols"
   ]
  },
  {
   "cell_type": "code",
   "execution_count": 77,
   "id": "2f174f95-2be3-4b63-95fb-451413ad361d",
   "metadata": {
    "execution": {
     "iopub.execute_input": "2022-08-04T15:38:04.309760Z",
     "iopub.status.busy": "2022-08-04T15:38:04.309543Z",
     "iopub.status.idle": "2022-08-04T15:38:04.367841Z",
     "shell.execute_reply": "2022-08-04T15:38:04.367031Z"
    },
    "papermill": {
     "duration": 0.081658,
     "end_time": "2022-08-04T15:38:04.369791",
     "exception": false,
     "start_time": "2022-08-04T15:38:04.288133",
     "status": "completed"
    },
    "tags": []
   },
   "outputs": [
    {
     "data": {
      "text/plain": [
       "PosixPath('/project/ritchie20/projects/phenoplier/base/results/gls/gene_corrs/cohorts/1000g_eur/gtex_v8/mashr/gene_corrs-symbols.pkl')"
      ]
     },
     "metadata": {},
     "output_type": "display_data"
    }
   ],
   "source": [
    "output_file = OUTPUT_DIR_BASE / \"gene_corrs-symbols.pkl\"\n",
    "display(output_file)"
   ]
  },
  {
   "cell_type": "code",
   "execution_count": 78,
   "id": "1436a25d",
   "metadata": {
    "execution": {
     "iopub.execute_input": "2022-08-04T15:38:04.473069Z",
     "iopub.status.busy": "2022-08-04T15:38:04.472806Z",
     "iopub.status.idle": "2022-08-04T15:38:04.635242Z",
     "shell.execute_reply": "2022-08-04T15:38:04.634770Z"
    },
    "papermill": {
     "duration": 0.238481,
     "end_time": "2022-08-04T15:38:04.636961",
     "exception": false,
     "start_time": "2022-08-04T15:38:04.398480",
     "status": "completed"
    },
    "tags": []
   },
   "outputs": [],
   "source": [
    "gene_corrs = full_corr_matrix.rename(\n",
    "    index=Gene.GENE_ID_TO_NAME_MAP, columns=Gene.GENE_ID_TO_NAME_MAP\n",
    ")"
   ]
  },
  {
   "cell_type": "code",
   "execution_count": 79,
   "id": "90794835-3f5b-49d7-aec8-94b0e6a1ba06",
   "metadata": {
    "execution": {
     "iopub.execute_input": "2022-08-04T15:38:04.677820Z",
     "iopub.status.busy": "2022-08-04T15:38:04.677623Z",
     "iopub.status.idle": "2022-08-04T15:38:04.795351Z",
     "shell.execute_reply": "2022-08-04T15:38:04.794964Z"
    },
    "papermill": {
     "duration": 0.13939,
     "end_time": "2022-08-04T15:38:04.796671",
     "exception": false,
     "start_time": "2022-08-04T15:38:04.657281",
     "status": "completed"
    },
    "tags": []
   },
   "outputs": [],
   "source": [
    "assert not gene_corrs.isna().any(None)\n",
    "assert not np.isinf(gene_corrs.to_numpy()).any()\n",
    "assert not np.iscomplex(gene_corrs.to_numpy()).any()"
   ]
  },
  {
   "cell_type": "code",
   "execution_count": 80,
   "id": "b2014f92",
   "metadata": {
    "execution": {
     "iopub.execute_input": "2022-08-04T15:38:04.836036Z",
     "iopub.status.busy": "2022-08-04T15:38:04.835865Z",
     "iopub.status.idle": "2022-08-04T15:38:04.854319Z",
     "shell.execute_reply": "2022-08-04T15:38:04.853954Z"
    },
    "papermill": {
     "duration": 0.039584,
     "end_time": "2022-08-04T15:38:04.855598",
     "exception": false,
     "start_time": "2022-08-04T15:38:04.816014",
     "status": "completed"
    },
    "tags": []
   },
   "outputs": [],
   "source": [
    "assert gene_corrs.index.is_unique\n",
    "assert gene_corrs.columns.is_unique"
   ]
  },
  {
   "cell_type": "code",
   "execution_count": 81,
   "id": "d9e18eab",
   "metadata": {
    "execution": {
     "iopub.execute_input": "2022-08-04T15:38:04.895174Z",
     "iopub.status.busy": "2022-08-04T15:38:04.895010Z",
     "iopub.status.idle": "2022-08-04T15:38:04.913199Z",
     "shell.execute_reply": "2022-08-04T15:38:04.912839Z"
    },
    "papermill": {
     "duration": 0.039242,
     "end_time": "2022-08-04T15:38:04.914365",
     "exception": false,
     "start_time": "2022-08-04T15:38:04.875123",
     "status": "completed"
    },
    "tags": []
   },
   "outputs": [
    {
     "data": {
      "text/plain": [
       "(6442, 6442)"
      ]
     },
     "execution_count": 81,
     "metadata": {},
     "output_type": "execute_result"
    }
   ],
   "source": [
    "gene_corrs.shape"
   ]
  },
  {
   "cell_type": "code",
   "execution_count": 82,
   "id": "44e83e62",
   "metadata": {
    "execution": {
     "iopub.execute_input": "2022-08-04T15:38:04.953782Z",
     "iopub.status.busy": "2022-08-04T15:38:04.953620Z",
     "iopub.status.idle": "2022-08-04T15:38:04.982212Z",
     "shell.execute_reply": "2022-08-04T15:38:04.981842Z"
    },
    "papermill": {
     "duration": 0.050074,
     "end_time": "2022-08-04T15:38:04.983396",
     "exception": false,
     "start_time": "2022-08-04T15:38:04.933322",
     "status": "completed"
    },
    "tags": []
   },
   "outputs": [
    {
     "data": {
      "text/html": [
       "<div>\n",
       "<style scoped>\n",
       "    .dataframe tbody tr th:only-of-type {\n",
       "        vertical-align: middle;\n",
       "    }\n",
       "\n",
       "    .dataframe tbody tr th {\n",
       "        vertical-align: top;\n",
       "    }\n",
       "\n",
       "    .dataframe thead th {\n",
       "        text-align: right;\n",
       "    }\n",
       "</style>\n",
       "<table border=\"1\" class=\"dataframe\">\n",
       "  <thead>\n",
       "    <tr style=\"text-align: right;\">\n",
       "      <th></th>\n",
       "      <th>NOC2L</th>\n",
       "      <th>HES4</th>\n",
       "      <th>ISG15</th>\n",
       "      <th>AGRN</th>\n",
       "      <th>TNFRSF18</th>\n",
       "      <th>TNFRSF4</th>\n",
       "      <th>B3GALT6</th>\n",
       "      <th>UBE2J2</th>\n",
       "      <th>ACAP3</th>\n",
       "      <th>TAS1R3</th>\n",
       "      <th>...</th>\n",
       "      <th>PLXNB2</th>\n",
       "      <th>ADM2</th>\n",
       "      <th>MIOX</th>\n",
       "      <th>SCO2</th>\n",
       "      <th>TYMP</th>\n",
       "      <th>CPT1B</th>\n",
       "      <th>CHKB</th>\n",
       "      <th>MAPK8IP2</th>\n",
       "      <th>ARSA</th>\n",
       "      <th>SHANK3</th>\n",
       "    </tr>\n",
       "  </thead>\n",
       "  <tbody>\n",
       "    <tr>\n",
       "      <th>NOC2L</th>\n",
       "      <td>1.000000</td>\n",
       "      <td>0.120590</td>\n",
       "      <td>0.177063</td>\n",
       "      <td>0.085746</td>\n",
       "      <td>0.006792</td>\n",
       "      <td>0.007685</td>\n",
       "      <td>0.004673</td>\n",
       "      <td>0.010734</td>\n",
       "      <td>0.011200</td>\n",
       "      <td>0.007529</td>\n",
       "      <td>...</td>\n",
       "      <td>0.0</td>\n",
       "      <td>0.0</td>\n",
       "      <td>0.0</td>\n",
       "      <td>0.0</td>\n",
       "      <td>0.0</td>\n",
       "      <td>0.0</td>\n",
       "      <td>0.0</td>\n",
       "      <td>0.0</td>\n",
       "      <td>0.0</td>\n",
       "      <td>0.0</td>\n",
       "    </tr>\n",
       "    <tr>\n",
       "      <th>HES4</th>\n",
       "      <td>0.120590</td>\n",
       "      <td>1.000000</td>\n",
       "      <td>0.672060</td>\n",
       "      <td>0.391127</td>\n",
       "      <td>0.011695</td>\n",
       "      <td>0.009275</td>\n",
       "      <td>0.005970</td>\n",
       "      <td>0.007385</td>\n",
       "      <td>0.002641</td>\n",
       "      <td>0.004767</td>\n",
       "      <td>...</td>\n",
       "      <td>0.0</td>\n",
       "      <td>0.0</td>\n",
       "      <td>0.0</td>\n",
       "      <td>0.0</td>\n",
       "      <td>0.0</td>\n",
       "      <td>0.0</td>\n",
       "      <td>0.0</td>\n",
       "      <td>0.0</td>\n",
       "      <td>0.0</td>\n",
       "      <td>0.0</td>\n",
       "    </tr>\n",
       "    <tr>\n",
       "      <th>ISG15</th>\n",
       "      <td>0.177063</td>\n",
       "      <td>0.672060</td>\n",
       "      <td>1.000000</td>\n",
       "      <td>0.424696</td>\n",
       "      <td>0.013929</td>\n",
       "      <td>0.013311</td>\n",
       "      <td>0.008466</td>\n",
       "      <td>0.010608</td>\n",
       "      <td>0.006689</td>\n",
       "      <td>0.011659</td>\n",
       "      <td>...</td>\n",
       "      <td>0.0</td>\n",
       "      <td>0.0</td>\n",
       "      <td>0.0</td>\n",
       "      <td>0.0</td>\n",
       "      <td>0.0</td>\n",
       "      <td>0.0</td>\n",
       "      <td>0.0</td>\n",
       "      <td>0.0</td>\n",
       "      <td>0.0</td>\n",
       "      <td>0.0</td>\n",
       "    </tr>\n",
       "    <tr>\n",
       "      <th>AGRN</th>\n",
       "      <td>0.085746</td>\n",
       "      <td>0.391127</td>\n",
       "      <td>0.424696</td>\n",
       "      <td>1.000000</td>\n",
       "      <td>0.005309</td>\n",
       "      <td>0.011848</td>\n",
       "      <td>0.002161</td>\n",
       "      <td>0.002535</td>\n",
       "      <td>0.005359</td>\n",
       "      <td>0.007012</td>\n",
       "      <td>...</td>\n",
       "      <td>0.0</td>\n",
       "      <td>0.0</td>\n",
       "      <td>0.0</td>\n",
       "      <td>0.0</td>\n",
       "      <td>0.0</td>\n",
       "      <td>0.0</td>\n",
       "      <td>0.0</td>\n",
       "      <td>0.0</td>\n",
       "      <td>0.0</td>\n",
       "      <td>0.0</td>\n",
       "    </tr>\n",
       "    <tr>\n",
       "      <th>TNFRSF18</th>\n",
       "      <td>0.006792</td>\n",
       "      <td>0.011695</td>\n",
       "      <td>0.013929</td>\n",
       "      <td>0.005309</td>\n",
       "      <td>1.000000</td>\n",
       "      <td>0.338085</td>\n",
       "      <td>0.550817</td>\n",
       "      <td>0.154394</td>\n",
       "      <td>0.193627</td>\n",
       "      <td>0.101004</td>\n",
       "      <td>...</td>\n",
       "      <td>0.0</td>\n",
       "      <td>0.0</td>\n",
       "      <td>0.0</td>\n",
       "      <td>0.0</td>\n",
       "      <td>0.0</td>\n",
       "      <td>0.0</td>\n",
       "      <td>0.0</td>\n",
       "      <td>0.0</td>\n",
       "      <td>0.0</td>\n",
       "      <td>0.0</td>\n",
       "    </tr>\n",
       "  </tbody>\n",
       "</table>\n",
       "<p>5 rows × 6442 columns</p>\n",
       "</div>"
      ],
      "text/plain": [
       "             NOC2L      HES4     ISG15      AGRN  TNFRSF18   TNFRSF4  \\\n",
       "NOC2L     1.000000  0.120590  0.177063  0.085746  0.006792  0.007685   \n",
       "HES4      0.120590  1.000000  0.672060  0.391127  0.011695  0.009275   \n",
       "ISG15     0.177063  0.672060  1.000000  0.424696  0.013929  0.013311   \n",
       "AGRN      0.085746  0.391127  0.424696  1.000000  0.005309  0.011848   \n",
       "TNFRSF18  0.006792  0.011695  0.013929  0.005309  1.000000  0.338085   \n",
       "\n",
       "           B3GALT6    UBE2J2     ACAP3    TAS1R3  ...  PLXNB2  ADM2  MIOX  \\\n",
       "NOC2L     0.004673  0.010734  0.011200  0.007529  ...     0.0   0.0   0.0   \n",
       "HES4      0.005970  0.007385  0.002641  0.004767  ...     0.0   0.0   0.0   \n",
       "ISG15     0.008466  0.010608  0.006689  0.011659  ...     0.0   0.0   0.0   \n",
       "AGRN      0.002161  0.002535  0.005359  0.007012  ...     0.0   0.0   0.0   \n",
       "TNFRSF18  0.550817  0.154394  0.193627  0.101004  ...     0.0   0.0   0.0   \n",
       "\n",
       "          SCO2  TYMP  CPT1B  CHKB  MAPK8IP2  ARSA  SHANK3  \n",
       "NOC2L      0.0   0.0    0.0   0.0       0.0   0.0     0.0  \n",
       "HES4       0.0   0.0    0.0   0.0       0.0   0.0     0.0  \n",
       "ISG15      0.0   0.0    0.0   0.0       0.0   0.0     0.0  \n",
       "AGRN       0.0   0.0    0.0   0.0       0.0   0.0     0.0  \n",
       "TNFRSF18   0.0   0.0    0.0   0.0       0.0   0.0     0.0  \n",
       "\n",
       "[5 rows x 6442 columns]"
      ]
     },
     "execution_count": 82,
     "metadata": {},
     "output_type": "execute_result"
    }
   ],
   "source": [
    "gene_corrs.head()"
   ]
  },
  {
   "cell_type": "code",
   "execution_count": 83,
   "id": "04ec6c52",
   "metadata": {
    "execution": {
     "iopub.execute_input": "2022-08-04T15:38:05.023368Z",
     "iopub.status.busy": "2022-08-04T15:38:05.023195Z",
     "iopub.status.idle": "2022-08-04T15:38:05.903722Z",
     "shell.execute_reply": "2022-08-04T15:38:05.902776Z"
    },
    "papermill": {
     "duration": 0.903863,
     "end_time": "2022-08-04T15:38:05.907006",
     "exception": false,
     "start_time": "2022-08-04T15:38:05.003143",
     "status": "completed"
    },
    "tags": []
   },
   "outputs": [],
   "source": [
    "gene_corrs.to_pickle(output_file)"
   ]
  },
  {
   "cell_type": "code",
   "execution_count": null,
   "id": "38cf09b7",
   "metadata": {
    "papermill": {
     "duration": 0.034518,
     "end_time": "2022-08-04T15:38:05.981407",
     "exception": false,
     "start_time": "2022-08-04T15:38:05.946889",
     "status": "completed"
    },
    "tags": []
   },
   "outputs": [],
   "source": []
  }
 ],
 "metadata": {
  "jupytext": {
   "cell_metadata_filter": "all,-execution,-papermill,-trusted",
   "formats": "ipynb,py//py:percent"
  },
  "kernelspec": {
   "display_name": "Python 3 (ipykernel)",
   "language": "python",
   "name": "python3"
  },
  "language_info": {
   "codemirror_mode": {
    "name": "ipython",
    "version": 3
   },
   "file_extension": ".py",
   "mimetype": "text/x-python",
   "name": "python",
   "nbconvert_exporter": "python",
   "pygments_lexer": "ipython3",
   "version": "3.8.13"
  },
  "papermill": {
   "default_parameters": {},
   "duration": 368.139012,
   "end_time": "2022-08-04T15:38:07.653546",
   "environment_variables": {},
   "exception": null,
   "input_path": "nbs/15_gsa_gls/15-postprocess_gene_expr_correlations.ipynb",
   "output_path": "nbs/15_gsa_gls/gene_corrs/cohorts/1000g_eur/gtex_v8/mashr/15-postprocess_gene_expr_correlations.ipynb",
   "parameters": {
    "COHORT_NAME": "1000G_EUR",
    "EQTL_MODEL": "MASHR",
    "REFERENCE_PANEL": "GTEX_V8"
   },
   "start_time": "2022-08-04T15:31:59.514534",
   "version": "2.2.2"
  }
 },
 "nbformat": 4,
 "nbformat_minor": 5
}
