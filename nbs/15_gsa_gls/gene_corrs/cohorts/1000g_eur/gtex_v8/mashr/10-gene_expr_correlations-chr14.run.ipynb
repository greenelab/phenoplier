{
 "cells": [
  {
   "cell_type": "markdown",
   "id": "7a6632fb",
   "metadata": {
    "papermill": {
     "duration": 0.02202,
     "end_time": "2022-08-03T02:16:31.895363",
     "exception": false,
     "start_time": "2022-08-03T02:16:31.873343",
     "status": "completed"
    },
    "tags": []
   },
   "source": [
    "# Description"
   ]
  },
  {
   "cell_type": "markdown",
   "id": "7097c346",
   "metadata": {
    "papermill": {
     "duration": 0.058587,
     "end_time": "2022-08-03T02:16:31.978875",
     "exception": false,
     "start_time": "2022-08-03T02:16:31.920288",
     "status": "completed"
    },
    "tags": []
   },
   "source": [
    "(Please, take a look at the README.md file in this directory for instructions on how to run this notebook)\n",
    "\n",
    "This notebook computes predicted expression correlations between all genes in the MultiPLIER models.\n",
    "\n",
    "It also has a parameter set for papermill to run on a single chromosome to run in parallel (see under `Settings` below).\n",
    "\n",
    "This notebook is not directly run. See README.md."
   ]
  },
  {
   "cell_type": "markdown",
   "id": "c61d8427",
   "metadata": {
    "papermill": {
     "duration": 0.010983,
     "end_time": "2022-08-03T02:16:32.002061",
     "exception": false,
     "start_time": "2022-08-03T02:16:31.991078",
     "status": "completed"
    },
    "tags": []
   },
   "source": [
    "# Modules"
   ]
  },
  {
   "cell_type": "code",
   "execution_count": 1,
   "id": "bbc0234f",
   "metadata": {
    "execution": {
     "iopub.execute_input": "2022-08-03T02:16:32.024799Z",
     "iopub.status.busy": "2022-08-03T02:16:32.024434Z",
     "iopub.status.idle": "2022-08-03T02:16:32.083547Z",
     "shell.execute_reply": "2022-08-03T02:16:32.083036Z"
    },
    "papermill": {
     "duration": 0.071909,
     "end_time": "2022-08-03T02:16:32.085296",
     "exception": false,
     "start_time": "2022-08-03T02:16:32.013387",
     "status": "completed"
    },
    "tags": []
   },
   "outputs": [],
   "source": [
    "%load_ext autoreload\n",
    "%autoreload 2"
   ]
  },
  {
   "cell_type": "code",
   "execution_count": 2,
   "id": "1d5f5a59",
   "metadata": {
    "execution": {
     "iopub.execute_input": "2022-08-03T02:16:32.105636Z",
     "iopub.status.busy": "2022-08-03T02:16:32.105445Z",
     "iopub.status.idle": "2022-08-03T02:16:34.970846Z",
     "shell.execute_reply": "2022-08-03T02:16:34.970337Z"
    },
    "papermill": {
     "duration": 2.876374,
     "end_time": "2022-08-03T02:16:34.972669",
     "exception": false,
     "start_time": "2022-08-03T02:16:32.096295",
     "status": "completed"
    },
    "tags": []
   },
   "outputs": [],
   "source": [
    "from random import sample, seed\n",
    "import warnings\n",
    "from pathlib import Path\n",
    "import pickle\n",
    "import traceback\n",
    "\n",
    "import numpy as np\n",
    "from scipy.spatial.distance import squareform\n",
    "import pandas as pd\n",
    "from tqdm import tqdm\n",
    "import matplotlib.pyplot as plt\n",
    "import seaborn as sns\n",
    "\n",
    "import conf\n",
    "from entity import Gene"
   ]
  },
  {
   "cell_type": "markdown",
   "id": "1eac24b5",
   "metadata": {
    "papermill": {
     "duration": 0.008897,
     "end_time": "2022-08-03T02:16:34.989404",
     "exception": false,
     "start_time": "2022-08-03T02:16:34.980507",
     "status": "completed"
    },
    "tags": []
   },
   "source": [
    "# Settings"
   ]
  },
  {
   "cell_type": "code",
   "execution_count": 3,
   "id": "ca4560ba",
   "metadata": {
    "execution": {
     "iopub.execute_input": "2022-08-03T02:16:35.006390Z",
     "iopub.status.busy": "2022-08-03T02:16:35.006122Z",
     "iopub.status.idle": "2022-08-03T02:16:35.193165Z",
     "shell.execute_reply": "2022-08-03T02:16:35.192699Z"
    },
    "papermill": {
     "duration": 0.19824,
     "end_time": "2022-08-03T02:16:35.194957",
     "exception": false,
     "start_time": "2022-08-03T02:16:34.996717",
     "status": "completed"
    },
    "tags": [
     "parameters"
    ]
   },
   "outputs": [],
   "source": [
    "# a cohort name (it could be something like UK_BIOBANK, etc)\n",
    "COHORT_NAME = None\n",
    "\n",
    "# reference panel such as 1000G or GTEX_V8\n",
    "REFERENCE_PANEL = None\n",
    "\n",
    "# predictions models such as MASHR or ELASTIC_NET\n",
    "EQTL_MODEL = None\n",
    "\n",
    "# this is the default value used in S-MultiXcan to select the\n",
    "# top principal components of the expression correlation matrix\n",
    "SMULTIXCAN_CONDITION_NUMBER = 30\n",
    "\n",
    "# specifies a single chromosome value\n",
    "CHROMOSOME = None\n",
    "\n",
    "# If True, computes the correlation between closeby genes only;\n",
    "# otherwise, it computes correlations for all genes in a chromosome\n",
    "COMPUTE_CORRELATIONS_WITHIN_DISTANCE = False\n",
    "\n",
    "# if True, then it will continue if a gene pair correlation fails,\n",
    "# printing the warning/error for debugging. If False, any warning/error\n",
    "# will be thrown\n",
    "DEBUG_MODE = False"
   ]
  },
  {
   "cell_type": "code",
   "execution_count": 4,
   "id": "646adf09",
   "metadata": {
    "execution": {
     "iopub.execute_input": "2022-08-03T02:16:35.221571Z",
     "iopub.status.busy": "2022-08-03T02:16:35.221371Z",
     "iopub.status.idle": "2022-08-03T02:16:35.239593Z",
     "shell.execute_reply": "2022-08-03T02:16:35.239189Z"
    },
    "papermill": {
     "duration": 0.034115,
     "end_time": "2022-08-03T02:16:35.241050",
     "exception": false,
     "start_time": "2022-08-03T02:16:35.206935",
     "status": "completed"
    },
    "tags": [
     "injected-parameters"
    ]
   },
   "outputs": [],
   "source": [
    "# Parameters\n",
    "COHORT_NAME = \"1000G_EUR\"\n",
    "REFERENCE_PANEL = \"GTEX_V8\"\n",
    "EQTL_MODEL = \"MASHR\"\n",
    "CHROMOSOME = 14\n"
   ]
  },
  {
   "cell_type": "code",
   "execution_count": 5,
   "id": "3190631f-27fc-480f-b18e-571d580425a5",
   "metadata": {
    "execution": {
     "iopub.execute_input": "2022-08-03T02:16:35.259807Z",
     "iopub.status.busy": "2022-08-03T02:16:35.259627Z",
     "iopub.status.idle": "2022-08-03T02:16:35.279124Z",
     "shell.execute_reply": "2022-08-03T02:16:35.278749Z"
    },
    "papermill": {
     "duration": 0.030175,
     "end_time": "2022-08-03T02:16:35.280350",
     "exception": false,
     "start_time": "2022-08-03T02:16:35.250175",
     "status": "completed"
    },
    "tags": []
   },
   "outputs": [
    {
     "data": {
      "text/plain": [
       "'Cohort name: 1000g_eur'"
      ]
     },
     "metadata": {},
     "output_type": "display_data"
    }
   ],
   "source": [
    "assert COHORT_NAME is not None and len(COHORT_NAME) > 0, \"A cohort name must be given\"\n",
    "\n",
    "COHORT_NAME = COHORT_NAME.lower()\n",
    "display(f\"Cohort name: {COHORT_NAME}\")"
   ]
  },
  {
   "cell_type": "code",
   "execution_count": 6,
   "id": "f53ba19b-0f93-4fa2-a047-63b375939d1a",
   "metadata": {
    "execution": {
     "iopub.execute_input": "2022-08-03T02:16:35.301597Z",
     "iopub.status.busy": "2022-08-03T02:16:35.301419Z",
     "iopub.status.idle": "2022-08-03T02:16:35.318936Z",
     "shell.execute_reply": "2022-08-03T02:16:35.318558Z"
    },
    "papermill": {
     "duration": 0.029553,
     "end_time": "2022-08-03T02:16:35.320122",
     "exception": false,
     "start_time": "2022-08-03T02:16:35.290569",
     "status": "completed"
    },
    "tags": []
   },
   "outputs": [
    {
     "data": {
      "text/plain": [
       "'Reference panel: GTEX_V8'"
      ]
     },
     "metadata": {},
     "output_type": "display_data"
    }
   ],
   "source": [
    "assert (\n",
    "    REFERENCE_PANEL is not None and len(REFERENCE_PANEL) > 0\n",
    "), \"A reference panel must be given\"\n",
    "\n",
    "display(f\"Reference panel: {REFERENCE_PANEL}\")"
   ]
  },
  {
   "cell_type": "code",
   "execution_count": 7,
   "id": "e024d130-c139-429a-9c6e-ccf149e297b0",
   "metadata": {
    "execution": {
     "iopub.execute_input": "2022-08-03T02:16:35.345349Z",
     "iopub.status.busy": "2022-08-03T02:16:35.345154Z",
     "iopub.status.idle": "2022-08-03T02:16:35.367586Z",
     "shell.execute_reply": "2022-08-03T02:16:35.367180Z"
    },
    "papermill": {
     "duration": 0.037184,
     "end_time": "2022-08-03T02:16:35.368868",
     "exception": false,
     "start_time": "2022-08-03T02:16:35.331684",
     "status": "completed"
    },
    "tags": []
   },
   "outputs": [
    {
     "data": {
      "text/plain": [
       "'eQTL model: MASHR) / mashr_'"
      ]
     },
     "metadata": {},
     "output_type": "display_data"
    }
   ],
   "source": [
    "assert (\n",
    "    EQTL_MODEL is not None and len(EQTL_MODEL) > 0\n",
    "), \"A prediction/eQTL model must be given\"\n",
    "\n",
    "EQTL_MODEL_FILES_PREFIX = conf.PHENOMEXCAN[\"PREDICTION_MODELS\"][f\"{EQTL_MODEL}_PREFIX\"]\n",
    "display(f\"eQTL model: {EQTL_MODEL}) / {EQTL_MODEL_FILES_PREFIX}\")"
   ]
  },
  {
   "cell_type": "code",
   "execution_count": 8,
   "id": "552a7f63-a18c-4d3e-bb6a-94f99b431291",
   "metadata": {
    "execution": {
     "iopub.execute_input": "2022-08-03T02:16:35.389172Z",
     "iopub.status.busy": "2022-08-03T02:16:35.388985Z",
     "iopub.status.idle": "2022-08-03T02:16:35.408721Z",
     "shell.execute_reply": "2022-08-03T02:16:35.408325Z"
    },
    "papermill": {
     "duration": 0.030449,
     "end_time": "2022-08-03T02:16:35.409967",
     "exception": false,
     "start_time": "2022-08-03T02:16:35.379518",
     "status": "completed"
    },
    "tags": []
   },
   "outputs": [
    {
     "data": {
      "text/plain": [
       "'S-MultiXcan condition number: 30'"
      ]
     },
     "metadata": {},
     "output_type": "display_data"
    }
   ],
   "source": [
    "assert (\n",
    "    SMULTIXCAN_CONDITION_NUMBER is not None and SMULTIXCAN_CONDITION_NUMBER > 0\n",
    "), \"The S-MultiXcan condition number (positive integer) must be given\"\n",
    "\n",
    "display(f\"S-MultiXcan condition number: {SMULTIXCAN_CONDITION_NUMBER}\")"
   ]
  },
  {
   "cell_type": "code",
   "execution_count": 9,
   "id": "f34a336f-548e-4afe-8955-90eaea4f42c6",
   "metadata": {
    "execution": {
     "iopub.execute_input": "2022-08-03T02:16:35.430773Z",
     "iopub.status.busy": "2022-08-03T02:16:35.430584Z",
     "iopub.status.idle": "2022-08-03T02:16:35.450274Z",
     "shell.execute_reply": "2022-08-03T02:16:35.449870Z"
    },
    "papermill": {
     "duration": 0.030776,
     "end_time": "2022-08-03T02:16:35.451512",
     "exception": false,
     "start_time": "2022-08-03T02:16:35.420736",
     "status": "completed"
    },
    "tags": []
   },
   "outputs": [
    {
     "data": {
      "text/plain": [
       "'Working on chromosome 14'"
      ]
     },
     "metadata": {},
     "output_type": "display_data"
    }
   ],
   "source": [
    "assert CHROMOSOME is not None and (\n",
    "    1 <= CHROMOSOME <= 22\n",
    "), \"You have to select one chromosome (format: number between 1 and 22)\"\n",
    "\n",
    "CHROMOSOME = str(CHROMOSOME)\n",
    "display(f\"Working on chromosome {CHROMOSOME}\")"
   ]
  },
  {
   "cell_type": "code",
   "execution_count": 10,
   "id": "ab8e96e8-06b5-4363-9dcd-dc4d78cc27f7",
   "metadata": {
    "execution": {
     "iopub.execute_input": "2022-08-03T02:16:35.500095Z",
     "iopub.status.busy": "2022-08-03T02:16:35.499904Z",
     "iopub.status.idle": "2022-08-03T02:16:35.708448Z",
     "shell.execute_reply": "2022-08-03T02:16:35.708034Z"
    },
    "papermill": {
     "duration": 0.235973,
     "end_time": "2022-08-03T02:16:35.709737",
     "exception": false,
     "start_time": "2022-08-03T02:16:35.473764",
     "status": "completed"
    },
    "tags": []
   },
   "outputs": [
    {
     "data": {
      "text/plain": [
       "'Compute correlation within distance False'"
      ]
     },
     "metadata": {},
     "output_type": "display_data"
    }
   ],
   "source": [
    "display(f\"Compute correlation within distance {COMPUTE_CORRELATIONS_WITHIN_DISTANCE}\")"
   ]
  },
  {
   "cell_type": "code",
   "execution_count": 11,
   "id": "396392dc-0340-4540-9b02-e182b833f909",
   "metadata": {
    "execution": {
     "iopub.execute_input": "2022-08-03T02:16:35.759501Z",
     "iopub.status.busy": "2022-08-03T02:16:35.759301Z",
     "iopub.status.idle": "2022-08-03T02:16:36.091740Z",
     "shell.execute_reply": "2022-08-03T02:16:36.091291Z"
    },
    "papermill": {
     "duration": 0.358293,
     "end_time": "2022-08-03T02:16:36.093154",
     "exception": false,
     "start_time": "2022-08-03T02:16:35.734861",
     "status": "completed"
    },
    "tags": []
   },
   "outputs": [
    {
     "data": {
      "text/plain": [
       "'Using output dir base: /project/ritchie20/projects/phenoplier/base/results/gls/gene_corrs/cohorts/1000g_eur/gtex_v8/mashr'"
      ]
     },
     "metadata": {},
     "output_type": "display_data"
    }
   ],
   "source": [
    "OUTPUT_DIR_BASE = (\n",
    "    conf.RESULTS[\"GLS\"]\n",
    "    / \"gene_corrs\"\n",
    "    / \"cohorts\"\n",
    "    / COHORT_NAME\n",
    "    / REFERENCE_PANEL.lower()\n",
    "    / EQTL_MODEL.lower()\n",
    ")\n",
    "OUTPUT_DIR_BASE.mkdir(parents=True, exist_ok=True)\n",
    "\n",
    "display(f\"Using output dir base: {OUTPUT_DIR_BASE}\")"
   ]
  },
  {
   "cell_type": "markdown",
   "id": "d2ba085e",
   "metadata": {
    "papermill": {
     "duration": 0.009032,
     "end_time": "2022-08-03T02:16:36.111029",
     "exception": false,
     "start_time": "2022-08-03T02:16:36.101997",
     "status": "completed"
    },
    "tags": []
   },
   "source": [
    "# Load data"
   ]
  },
  {
   "cell_type": "markdown",
   "id": "7dcb8db7",
   "metadata": {
    "papermill": {
     "duration": 0.010447,
     "end_time": "2022-08-03T02:16:36.130940",
     "exception": false,
     "start_time": "2022-08-03T02:16:36.120493",
     "status": "completed"
    },
    "tags": []
   },
   "source": [
    "## GWAS variants"
   ]
  },
  {
   "cell_type": "code",
   "execution_count": 12,
   "id": "29434c4e-8cd3-4b9b-82e4-b5a251d9dd19",
   "metadata": {
    "execution": {
     "iopub.execute_input": "2022-08-03T02:16:36.151565Z",
     "iopub.status.busy": "2022-08-03T02:16:36.151380Z",
     "iopub.status.idle": "2022-08-03T02:16:38.681093Z",
     "shell.execute_reply": "2022-08-03T02:16:38.680343Z"
    },
    "papermill": {
     "duration": 2.540314,
     "end_time": "2022-08-03T02:16:38.683089",
     "exception": false,
     "start_time": "2022-08-03T02:16:36.142775",
     "status": "completed"
    },
    "tags": []
   },
   "outputs": [],
   "source": [
    "with open(OUTPUT_DIR_BASE / \"gwas_variant_ids.pkl\", \"rb\") as handle:\n",
    "    gwas_variants_ids_set = pickle.load(handle)"
   ]
  },
  {
   "cell_type": "code",
   "execution_count": 13,
   "id": "b9d9dec2-4a76-4bf9-bde2-e24c95acb8a0",
   "metadata": {
    "execution": {
     "iopub.execute_input": "2022-08-03T02:16:38.702604Z",
     "iopub.status.busy": "2022-08-03T02:16:38.702361Z",
     "iopub.status.idle": "2022-08-03T02:16:38.822886Z",
     "shell.execute_reply": "2022-08-03T02:16:38.822445Z"
    },
    "papermill": {
     "duration": 0.13148,
     "end_time": "2022-08-03T02:16:38.824310",
     "exception": false,
     "start_time": "2022-08-03T02:16:38.692830",
     "status": "completed"
    },
    "tags": []
   },
   "outputs": [
    {
     "data": {
      "text/plain": [
       "8325729"
      ]
     },
     "execution_count": 13,
     "metadata": {},
     "output_type": "execute_result"
    }
   ],
   "source": [
    "len(gwas_variants_ids_set)"
   ]
  },
  {
   "cell_type": "code",
   "execution_count": 14,
   "id": "4235b06a-6034-4ee4-a0a3-2ae35d122418",
   "metadata": {
    "execution": {
     "iopub.execute_input": "2022-08-03T02:16:38.841753Z",
     "iopub.status.busy": "2022-08-03T02:16:38.841565Z",
     "iopub.status.idle": "2022-08-03T02:16:39.321304Z",
     "shell.execute_reply": "2022-08-03T02:16:39.320824Z"
    },
    "papermill": {
     "duration": 0.48982,
     "end_time": "2022-08-03T02:16:39.322738",
     "exception": false,
     "start_time": "2022-08-03T02:16:38.832918",
     "status": "completed"
    },
    "tags": []
   },
   "outputs": [
    {
     "data": {
      "text/plain": [
       "['chr17_81282503_A_G_b38',\n",
       " 'chr10_5059927_A_AG_b38',\n",
       " 'chr6_86972742_G_A_b38',\n",
       " 'chr4_163282355_A_G_b38',\n",
       " 'chr1_214816704_G_A_b38']"
      ]
     },
     "execution_count": 14,
     "metadata": {},
     "output_type": "execute_result"
    }
   ],
   "source": [
    "list(gwas_variants_ids_set)[:5]"
   ]
  },
  {
   "cell_type": "markdown",
   "id": "07866999-2305-41f9-a144-e69c9122c212",
   "metadata": {
    "papermill": {
     "duration": 0.007924,
     "end_time": "2022-08-03T02:16:39.339290",
     "exception": false,
     "start_time": "2022-08-03T02:16:39.331366",
     "status": "completed"
    },
    "tags": []
   },
   "source": [
    "## S-PrediXcan tissue models"
   ]
  },
  {
   "cell_type": "code",
   "execution_count": 15,
   "id": "780611d9-77c8-405f-90a4-f271f7b09397",
   "metadata": {
    "execution": {
     "iopub.execute_input": "2022-08-03T02:16:39.355734Z",
     "iopub.status.busy": "2022-08-03T02:16:39.355532Z",
     "iopub.status.idle": "2022-08-03T02:16:40.343124Z",
     "shell.execute_reply": "2022-08-03T02:16:40.342641Z"
    },
    "papermill": {
     "duration": 0.997811,
     "end_time": "2022-08-03T02:16:40.344911",
     "exception": false,
     "start_time": "2022-08-03T02:16:39.347100",
     "status": "completed"
    },
    "tags": []
   },
   "outputs": [],
   "source": [
    "spredixcan_genes_models = pd.read_pickle(OUTPUT_DIR_BASE / \"gene_tissues.pkl\")"
   ]
  },
  {
   "cell_type": "code",
   "execution_count": 16,
   "id": "726dd1f6-9557-4225-91fa-b3b879ea96e1",
   "metadata": {
    "execution": {
     "iopub.execute_input": "2022-08-03T02:16:40.362904Z",
     "iopub.status.busy": "2022-08-03T02:16:40.362697Z",
     "iopub.status.idle": "2022-08-03T02:16:40.382821Z",
     "shell.execute_reply": "2022-08-03T02:16:40.382434Z"
    },
    "papermill": {
     "duration": 0.030503,
     "end_time": "2022-08-03T02:16:40.384021",
     "exception": false,
     "start_time": "2022-08-03T02:16:40.353518",
     "status": "completed"
    },
    "tags": []
   },
   "outputs": [
    {
     "data": {
      "text/plain": [
       "(6444, 10)"
      ]
     },
     "execution_count": 16,
     "metadata": {},
     "output_type": "execute_result"
    }
   ],
   "source": [
    "spredixcan_genes_models.shape"
   ]
  },
  {
   "cell_type": "code",
   "execution_count": 17,
   "id": "944a1b48-222c-4eb0-b252-b9de2cbca215",
   "metadata": {
    "execution": {
     "iopub.execute_input": "2022-08-03T02:16:40.401724Z",
     "iopub.status.busy": "2022-08-03T02:16:40.401544Z",
     "iopub.status.idle": "2022-08-03T02:16:40.434366Z",
     "shell.execute_reply": "2022-08-03T02:16:40.433982Z"
    },
    "papermill": {
     "duration": 0.042614,
     "end_time": "2022-08-03T02:16:40.435561",
     "exception": false,
     "start_time": "2022-08-03T02:16:40.392947",
     "status": "completed"
    },
    "tags": []
   },
   "outputs": [
    {
     "data": {
      "text/html": [
       "<div>\n",
       "<style scoped>\n",
       "    .dataframe tbody tr th:only-of-type {\n",
       "        vertical-align: middle;\n",
       "    }\n",
       "\n",
       "    .dataframe tbody tr th {\n",
       "        vertical-align: top;\n",
       "    }\n",
       "\n",
       "    .dataframe thead th {\n",
       "        text-align: right;\n",
       "    }\n",
       "</style>\n",
       "<table border=\"1\" class=\"dataframe\">\n",
       "  <thead>\n",
       "    <tr style=\"text-align: right;\">\n",
       "      <th></th>\n",
       "      <th>gene_name</th>\n",
       "      <th>tissue</th>\n",
       "      <th>n_tissues</th>\n",
       "      <th>tissues_pc_variances</th>\n",
       "      <th>tissues_pc_variances_cov</th>\n",
       "      <th>tissues_variances</th>\n",
       "      <th>n_snps_used_sum</th>\n",
       "      <th>n_snps_in_model_sum</th>\n",
       "      <th>unique_n_snps_in_model</th>\n",
       "      <th>unique_n_snps_used</th>\n",
       "    </tr>\n",
       "    <tr>\n",
       "      <th>gene_id</th>\n",
       "      <th></th>\n",
       "      <th></th>\n",
       "      <th></th>\n",
       "      <th></th>\n",
       "      <th></th>\n",
       "      <th></th>\n",
       "      <th></th>\n",
       "      <th></th>\n",
       "      <th></th>\n",
       "      <th></th>\n",
       "    </tr>\n",
       "  </thead>\n",
       "  <tbody>\n",
       "    <tr>\n",
       "      <th>ENSG00000000419</th>\n",
       "      <td>DPM1</td>\n",
       "      <td>(Brain_Substantia_nigra, Brain_Hypothalamus)</td>\n",
       "      <td>2</td>\n",
       "      <td>[1.0442398458252409, 0.9557601541747592]</td>\n",
       "      <td>[0.013163142634155849, 0.00048574890347684763]</td>\n",
       "      <td>{'Brain_Hypothalamus': 0.013162153504206677, '...</td>\n",
       "      <td>2</td>\n",
       "      <td>2</td>\n",
       "      <td>2</td>\n",
       "      <td>2</td>\n",
       "    </tr>\n",
       "    <tr>\n",
       "      <th>ENSG00000000938</th>\n",
       "      <td>FGR</td>\n",
       "      <td>(Brain_Cerebellum, Spleen, Stomach, Heart_Left...</td>\n",
       "      <td>36</td>\n",
       "      <td>[31.63266933637129, 2.078367751851144, 1.27161...</td>\n",
       "      <td>[0.1715948657078027]</td>\n",
       "      <td>{'Esophagus_Muscularis': 0.006536602044478473,...</td>\n",
       "      <td>40</td>\n",
       "      <td>40</td>\n",
       "      <td>5</td>\n",
       "      <td>5</td>\n",
       "    </tr>\n",
       "    <tr>\n",
       "      <th>ENSG00000000971</th>\n",
       "      <td>CFH</td>\n",
       "      <td>(Uterus, Brain_Cerebellum, Stomach, Heart_Left...</td>\n",
       "      <td>34</td>\n",
       "      <td>[21.56076992568329, 7.310170987045463, 1.83778...</td>\n",
       "      <td>[0.2093060319587451, 0.058234347656008024, 0.0...</td>\n",
       "      <td>{'Esophagus_Muscularis': 0.01739410990047228, ...</td>\n",
       "      <td>44</td>\n",
       "      <td>44</td>\n",
       "      <td>12</td>\n",
       "      <td>12</td>\n",
       "    </tr>\n",
       "    <tr>\n",
       "      <th>ENSG00000001084</th>\n",
       "      <td>GCLC</td>\n",
       "      <td>(Brain_Cerebellum, Spleen, Heart_Left_Ventricl...</td>\n",
       "      <td>32</td>\n",
       "      <td>[21.291939080546538, 4.699418748743195, 2.2489...</td>\n",
       "      <td>[0.39430527375123775, 0.11627488888534836, 0.0...</td>\n",
       "      <td>{'Thyroid': 0.009654918580686024, 'Brain_Corte...</td>\n",
       "      <td>46</td>\n",
       "      <td>46</td>\n",
       "      <td>23</td>\n",
       "      <td>23</td>\n",
       "    </tr>\n",
       "    <tr>\n",
       "      <th>ENSG00000001167</th>\n",
       "      <td>NFYA</td>\n",
       "      <td>(Brain_Cerebellum, Stomach, Heart_Left_Ventric...</td>\n",
       "      <td>40</td>\n",
       "      <td>[37.3356602954977, 1.3914019604538357]</td>\n",
       "      <td>[1.1642639979821048, 0.05742881287671712]</td>\n",
       "      <td>{'Esophagus_Muscularis': 0.0318781600881541, '...</td>\n",
       "      <td>47</td>\n",
       "      <td>48</td>\n",
       "      <td>14</td>\n",
       "      <td>13</td>\n",
       "    </tr>\n",
       "  </tbody>\n",
       "</table>\n",
       "</div>"
      ],
      "text/plain": [
       "                gene_name                                             tissue  \\\n",
       "gene_id                                                                        \n",
       "ENSG00000000419      DPM1       (Brain_Substantia_nigra, Brain_Hypothalamus)   \n",
       "ENSG00000000938       FGR  (Brain_Cerebellum, Spleen, Stomach, Heart_Left...   \n",
       "ENSG00000000971       CFH  (Uterus, Brain_Cerebellum, Stomach, Heart_Left...   \n",
       "ENSG00000001084      GCLC  (Brain_Cerebellum, Spleen, Heart_Left_Ventricl...   \n",
       "ENSG00000001167      NFYA  (Brain_Cerebellum, Stomach, Heart_Left_Ventric...   \n",
       "\n",
       "                 n_tissues                               tissues_pc_variances  \\\n",
       "gene_id                                                                         \n",
       "ENSG00000000419          2           [1.0442398458252409, 0.9557601541747592]   \n",
       "ENSG00000000938         36  [31.63266933637129, 2.078367751851144, 1.27161...   \n",
       "ENSG00000000971         34  [21.56076992568329, 7.310170987045463, 1.83778...   \n",
       "ENSG00000001084         32  [21.291939080546538, 4.699418748743195, 2.2489...   \n",
       "ENSG00000001167         40             [37.3356602954977, 1.3914019604538357]   \n",
       "\n",
       "                                          tissues_pc_variances_cov  \\\n",
       "gene_id                                                              \n",
       "ENSG00000000419     [0.013163142634155849, 0.00048574890347684763]   \n",
       "ENSG00000000938                               [0.1715948657078027]   \n",
       "ENSG00000000971  [0.2093060319587451, 0.058234347656008024, 0.0...   \n",
       "ENSG00000001084  [0.39430527375123775, 0.11627488888534836, 0.0...   \n",
       "ENSG00000001167          [1.1642639979821048, 0.05742881287671712]   \n",
       "\n",
       "                                                 tissues_variances  \\\n",
       "gene_id                                                              \n",
       "ENSG00000000419  {'Brain_Hypothalamus': 0.013162153504206677, '...   \n",
       "ENSG00000000938  {'Esophagus_Muscularis': 0.006536602044478473,...   \n",
       "ENSG00000000971  {'Esophagus_Muscularis': 0.01739410990047228, ...   \n",
       "ENSG00000001084  {'Thyroid': 0.009654918580686024, 'Brain_Corte...   \n",
       "ENSG00000001167  {'Esophagus_Muscularis': 0.0318781600881541, '...   \n",
       "\n",
       "                 n_snps_used_sum  n_snps_in_model_sum  unique_n_snps_in_model  \\\n",
       "gene_id                                                                         \n",
       "ENSG00000000419                2                    2                       2   \n",
       "ENSG00000000938               40                   40                       5   \n",
       "ENSG00000000971               44                   44                      12   \n",
       "ENSG00000001084               46                   46                      23   \n",
       "ENSG00000001167               47                   48                      14   \n",
       "\n",
       "                 unique_n_snps_used  \n",
       "gene_id                              \n",
       "ENSG00000000419                   2  \n",
       "ENSG00000000938                   5  \n",
       "ENSG00000000971                  12  \n",
       "ENSG00000001084                  23  \n",
       "ENSG00000001167                  13  "
      ]
     },
     "execution_count": 17,
     "metadata": {},
     "output_type": "execute_result"
    }
   ],
   "source": [
    "spredixcan_genes_models.head()"
   ]
  },
  {
   "cell_type": "code",
   "execution_count": 18,
   "id": "d1c11bb1-be0b-4f40-b360-633d6827109f",
   "metadata": {
    "execution": {
     "iopub.execute_input": "2022-08-03T02:16:40.453554Z",
     "iopub.status.busy": "2022-08-03T02:16:40.453373Z",
     "iopub.status.idle": "2022-08-03T02:16:40.470375Z",
     "shell.execute_reply": "2022-08-03T02:16:40.470001Z"
    },
    "papermill": {
     "duration": 0.0272,
     "end_time": "2022-08-03T02:16:40.471679",
     "exception": false,
     "start_time": "2022-08-03T02:16:40.444479",
     "status": "completed"
    },
    "tags": []
   },
   "outputs": [],
   "source": [
    "assert spredixcan_genes_models.index.is_unique"
   ]
  },
  {
   "cell_type": "markdown",
   "id": "a5b5092c-a13e-47c4-a92a-480fcc08f3ae",
   "metadata": {
    "papermill": {
     "duration": 0.008318,
     "end_time": "2022-08-03T02:16:40.488433",
     "exception": false,
     "start_time": "2022-08-03T02:16:40.480115",
     "status": "completed"
    },
    "tags": []
   },
   "source": [
    "## Gene info"
   ]
  },
  {
   "cell_type": "code",
   "execution_count": 19,
   "id": "7d6bb224-88e9-4358-ac10-43a41d92cdad",
   "metadata": {
    "execution": {
     "iopub.execute_input": "2022-08-03T02:16:40.506194Z",
     "iopub.status.busy": "2022-08-03T02:16:40.506025Z",
     "iopub.status.idle": "2022-08-03T02:16:40.526156Z",
     "shell.execute_reply": "2022-08-03T02:16:40.525773Z"
    },
    "papermill": {
     "duration": 0.030463,
     "end_time": "2022-08-03T02:16:40.527500",
     "exception": false,
     "start_time": "2022-08-03T02:16:40.497037",
     "status": "completed"
    },
    "tags": []
   },
   "outputs": [],
   "source": [
    "genes_info = pd.read_pickle(OUTPUT_DIR_BASE / \"genes_info.pkl\")"
   ]
  },
  {
   "cell_type": "code",
   "execution_count": 20,
   "id": "9e32abfa-546d-483e-8c18-d526e9e05903",
   "metadata": {
    "execution": {
     "iopub.execute_input": "2022-08-03T02:16:40.546192Z",
     "iopub.status.busy": "2022-08-03T02:16:40.546022Z",
     "iopub.status.idle": "2022-08-03T02:16:40.563716Z",
     "shell.execute_reply": "2022-08-03T02:16:40.563344Z"
    },
    "papermill": {
     "duration": 0.028146,
     "end_time": "2022-08-03T02:16:40.564896",
     "exception": false,
     "start_time": "2022-08-03T02:16:40.536750",
     "status": "completed"
    },
    "tags": []
   },
   "outputs": [
    {
     "data": {
      "text/plain": [
       "(6444, 7)"
      ]
     },
     "execution_count": 20,
     "metadata": {},
     "output_type": "execute_result"
    }
   ],
   "source": [
    "genes_info.shape"
   ]
  },
  {
   "cell_type": "code",
   "execution_count": 21,
   "id": "d16c3e92-85ec-468a-9a56-e25a9774a1cb",
   "metadata": {
    "execution": {
     "iopub.execute_input": "2022-08-03T02:16:40.583382Z",
     "iopub.status.busy": "2022-08-03T02:16:40.583196Z",
     "iopub.status.idle": "2022-08-03T02:16:40.605710Z",
     "shell.execute_reply": "2022-08-03T02:16:40.605327Z"
    },
    "papermill": {
     "duration": 0.03313,
     "end_time": "2022-08-03T02:16:40.606957",
     "exception": false,
     "start_time": "2022-08-03T02:16:40.573827",
     "status": "completed"
    },
    "tags": []
   },
   "outputs": [
    {
     "data": {
      "text/html": [
       "<div>\n",
       "<style scoped>\n",
       "    .dataframe tbody tr th:only-of-type {\n",
       "        vertical-align: middle;\n",
       "    }\n",
       "\n",
       "    .dataframe tbody tr th {\n",
       "        vertical-align: top;\n",
       "    }\n",
       "\n",
       "    .dataframe thead th {\n",
       "        text-align: right;\n",
       "    }\n",
       "</style>\n",
       "<table border=\"1\" class=\"dataframe\">\n",
       "  <thead>\n",
       "    <tr style=\"text-align: right;\">\n",
       "      <th></th>\n",
       "      <th>name</th>\n",
       "      <th>id</th>\n",
       "      <th>chr</th>\n",
       "      <th>band</th>\n",
       "      <th>start_position</th>\n",
       "      <th>end_position</th>\n",
       "      <th>gene_length</th>\n",
       "    </tr>\n",
       "  </thead>\n",
       "  <tbody>\n",
       "    <tr>\n",
       "      <th>0</th>\n",
       "      <td>HEYL</td>\n",
       "      <td>ENSG00000163909</td>\n",
       "      <td>1</td>\n",
       "      <td>1p34.2</td>\n",
       "      <td>39623435.0</td>\n",
       "      <td>39639643.0</td>\n",
       "      <td>16208.0</td>\n",
       "    </tr>\n",
       "    <tr>\n",
       "      <th>1</th>\n",
       "      <td>CYP24A1</td>\n",
       "      <td>ENSG00000019186</td>\n",
       "      <td>20</td>\n",
       "      <td>20q13.2</td>\n",
       "      <td>54153446.0</td>\n",
       "      <td>54173986.0</td>\n",
       "      <td>20540.0</td>\n",
       "    </tr>\n",
       "    <tr>\n",
       "      <th>2</th>\n",
       "      <td>ITGB4</td>\n",
       "      <td>ENSG00000132470</td>\n",
       "      <td>17</td>\n",
       "      <td>17q25.1</td>\n",
       "      <td>75721328.0</td>\n",
       "      <td>75757818.0</td>\n",
       "      <td>36490.0</td>\n",
       "    </tr>\n",
       "    <tr>\n",
       "      <th>3</th>\n",
       "      <td>SPINT1</td>\n",
       "      <td>ENSG00000166145</td>\n",
       "      <td>15</td>\n",
       "      <td>15q15.1</td>\n",
       "      <td>40844018.0</td>\n",
       "      <td>40858207.0</td>\n",
       "      <td>14189.0</td>\n",
       "    </tr>\n",
       "    <tr>\n",
       "      <th>4</th>\n",
       "      <td>PCSK6</td>\n",
       "      <td>ENSG00000140479</td>\n",
       "      <td>15</td>\n",
       "      <td>15q26.3</td>\n",
       "      <td>101297142.0</td>\n",
       "      <td>101525202.0</td>\n",
       "      <td>228060.0</td>\n",
       "    </tr>\n",
       "  </tbody>\n",
       "</table>\n",
       "</div>"
      ],
      "text/plain": [
       "      name               id chr     band  start_position  end_position  \\\n",
       "0     HEYL  ENSG00000163909   1   1p34.2      39623435.0    39639643.0   \n",
       "1  CYP24A1  ENSG00000019186  20  20q13.2      54153446.0    54173986.0   \n",
       "2    ITGB4  ENSG00000132470  17  17q25.1      75721328.0    75757818.0   \n",
       "3   SPINT1  ENSG00000166145  15  15q15.1      40844018.0    40858207.0   \n",
       "4    PCSK6  ENSG00000140479  15  15q26.3     101297142.0   101525202.0   \n",
       "\n",
       "   gene_length  \n",
       "0      16208.0  \n",
       "1      20540.0  \n",
       "2      36490.0  \n",
       "3      14189.0  \n",
       "4     228060.0  "
      ]
     },
     "execution_count": 21,
     "metadata": {},
     "output_type": "execute_result"
    }
   ],
   "source": [
    "genes_info.head()"
   ]
  },
  {
   "cell_type": "markdown",
   "id": "d3843e06",
   "metadata": {
    "papermill": {
     "duration": 0.008664,
     "end_time": "2022-08-03T02:16:40.624937",
     "exception": false,
     "start_time": "2022-08-03T02:16:40.616273",
     "status": "completed"
    },
    "tags": []
   },
   "source": [
    "# Compute correlations"
   ]
  },
  {
   "cell_type": "code",
   "execution_count": 22,
   "id": "cb859c15-d1f3-4006-a74c-2b83c0db9611",
   "metadata": {
    "execution": {
     "iopub.execute_input": "2022-08-03T02:16:40.643453Z",
     "iopub.status.busy": "2022-08-03T02:16:40.643274Z",
     "iopub.status.idle": "2022-08-03T02:16:40.661483Z",
     "shell.execute_reply": "2022-08-03T02:16:40.661104Z"
    },
    "papermill": {
     "duration": 0.028946,
     "end_time": "2022-08-03T02:16:40.662660",
     "exception": false,
     "start_time": "2022-08-03T02:16:40.633714",
     "status": "completed"
    },
    "tags": []
   },
   "outputs": [
    {
     "data": {
      "text/plain": [
       "PosixPath('/project/ritchie20/projects/phenoplier/base/results/gls/gene_corrs/cohorts/1000g_eur/gtex_v8/mashr/by_chr/gene_corrs-chr14.pkl')"
      ]
     },
     "metadata": {},
     "output_type": "display_data"
    }
   ],
   "source": [
    "output_dir = OUTPUT_DIR_BASE / \"by_chr\"\n",
    "output_dir.mkdir(exist_ok=True, parents=True)\n",
    "output_file = output_dir / f\"gene_corrs-chr{CHROMOSOME}.pkl\"\n",
    "display(output_file)"
   ]
  },
  {
   "cell_type": "code",
   "execution_count": 23,
   "id": "aa674fe4-6794-4eed-98fa-32b39d1d4ace",
   "metadata": {
    "execution": {
     "iopub.execute_input": "2022-08-03T02:16:40.682441Z",
     "iopub.status.busy": "2022-08-03T02:16:40.682273Z",
     "iopub.status.idle": "2022-08-03T02:16:40.698274Z",
     "shell.execute_reply": "2022-08-03T02:16:40.697900Z"
    },
    "papermill": {
     "duration": 0.028248,
     "end_time": "2022-08-03T02:16:40.699575",
     "exception": false,
     "start_time": "2022-08-03T02:16:40.671327",
     "status": "completed"
    },
    "tags": []
   },
   "outputs": [],
   "source": [
    "warnings.filterwarnings(\"error\")"
   ]
  },
  {
   "cell_type": "code",
   "execution_count": 24,
   "id": "44d5450b-3baf-43f1-9e2e-4b06f1a785f8",
   "metadata": {
    "execution": {
     "iopub.execute_input": "2022-08-03T02:16:40.720845Z",
     "iopub.status.busy": "2022-08-03T02:16:40.720678Z",
     "iopub.status.idle": "2022-08-03T02:16:40.738002Z",
     "shell.execute_reply": "2022-08-03T02:16:40.737625Z"
    },
    "papermill": {
     "duration": 0.030143,
     "end_time": "2022-08-03T02:16:40.739333",
     "exception": false,
     "start_time": "2022-08-03T02:16:40.709190",
     "status": "completed"
    },
    "tags": []
   },
   "outputs": [],
   "source": [
    "# standard checks\n",
    "all_chrs = genes_info[\"chr\"].dropna().unique()\n",
    "assert all_chrs.shape[0] == 22\n",
    "\n",
    "# select chromosome given by the user\n",
    "assert CHROMOSOME in all_chrs"
   ]
  },
  {
   "cell_type": "code",
   "execution_count": 25,
   "id": "2d7c043c-92a7-4d35-991b-fa69ac1e0268",
   "metadata": {
    "execution": {
     "iopub.execute_input": "2022-08-03T02:16:40.761412Z",
     "iopub.status.busy": "2022-08-03T02:16:40.761237Z",
     "iopub.status.idle": "2022-08-03T02:16:40.779653Z",
     "shell.execute_reply": "2022-08-03T02:16:40.779258Z"
    },
    "papermill": {
     "duration": 0.029211,
     "end_time": "2022-08-03T02:16:40.780979",
     "exception": false,
     "start_time": "2022-08-03T02:16:40.751768",
     "status": "completed"
    },
    "tags": []
   },
   "outputs": [
    {
     "name": "stdout",
     "output_type": "stream",
     "text": [
      "Number of genes in chromosome: 209\n"
     ]
    }
   ],
   "source": [
    "# run only on the chromosome specified\n",
    "all_chrs = [CHROMOSOME]\n",
    "genes_chr = genes_info[genes_info[\"chr\"] == CHROMOSOME]\n",
    "\n",
    "# For testing purposes\n",
    "# genes_chr = genes_chr.sample(n=20)\n",
    "\n",
    "print(f\"Number of genes in chromosome: {genes_chr.shape[0]}\", flush=True)"
   ]
  },
  {
   "cell_type": "code",
   "execution_count": 26,
   "id": "916015d8-2979-46d3-a9b9-1cf5a0932c6a",
   "metadata": {
    "execution": {
     "iopub.execute_input": "2022-08-03T02:16:40.811412Z",
     "iopub.status.busy": "2022-08-03T02:16:40.811226Z",
     "iopub.status.idle": "2022-08-03T02:16:40.827298Z",
     "shell.execute_reply": "2022-08-03T02:16:40.826915Z"
    },
    "papermill": {
     "duration": 0.037817,
     "end_time": "2022-08-03T02:16:40.828600",
     "exception": false,
     "start_time": "2022-08-03T02:16:40.790783",
     "status": "completed"
    },
    "tags": []
   },
   "outputs": [],
   "source": [
    "# sort genes by starting position to make visualizations better later\n",
    "genes_chr = genes_chr.sort_values(\"start_position\")"
   ]
  },
  {
   "cell_type": "code",
   "execution_count": 27,
   "id": "a38aa74a-8ad3-47f6-8ef9-56be0e011774",
   "metadata": {
    "execution": {
     "iopub.execute_input": "2022-08-03T02:16:40.867264Z",
     "iopub.status.busy": "2022-08-03T02:16:40.867097Z",
     "iopub.status.idle": "2022-08-03T02:16:40.883359Z",
     "shell.execute_reply": "2022-08-03T02:16:40.882976Z"
    },
    "papermill": {
     "duration": 0.0294,
     "end_time": "2022-08-03T02:16:40.884662",
     "exception": false,
     "start_time": "2022-08-03T02:16:40.855262",
     "status": "completed"
    },
    "tags": []
   },
   "outputs": [],
   "source": [
    "gene_chr_objs = [Gene(ensembl_id=gene_id) for gene_id in genes_chr[\"id\"]]"
   ]
  },
  {
   "cell_type": "code",
   "execution_count": 28,
   "id": "570f974f-13c3-42b6-ad3a-ce99ca885c1a",
   "metadata": {
    "execution": {
     "iopub.execute_input": "2022-08-03T02:16:40.930826Z",
     "iopub.status.busy": "2022-08-03T02:16:40.930648Z",
     "iopub.status.idle": "2022-08-03T02:16:40.947783Z",
     "shell.execute_reply": "2022-08-03T02:16:40.947409Z"
    },
    "papermill": {
     "duration": 0.042197,
     "end_time": "2022-08-03T02:16:40.949083",
     "exception": false,
     "start_time": "2022-08-03T02:16:40.906886",
     "status": "completed"
    },
    "tags": []
   },
   "outputs": [
    {
     "name": "stdout",
     "output_type": "stream",
     "text": [
      "Number of gene combinations: 21736\n"
     ]
    }
   ],
   "source": [
    "n = len(gene_chr_objs)\n",
    "n_comb = int(n * (n - 1) / 2.0)\n",
    "print(f\"Number of gene combinations: {n_comb}\", flush=True)"
   ]
  },
  {
   "cell_type": "code",
   "execution_count": 29,
   "id": "cdbb90a1",
   "metadata": {
    "execution": {
     "iopub.execute_input": "2022-08-03T02:16:40.989800Z",
     "iopub.status.busy": "2022-08-03T02:16:40.989623Z",
     "iopub.status.idle": "2022-08-03T02:39:15.515689Z",
     "shell.execute_reply": "2022-08-03T02:39:15.514535Z"
    },
    "papermill": {
     "duration": 1354.540841,
     "end_time": "2022-08-03T02:39:15.518815",
     "exception": false,
     "start_time": "2022-08-03T02:16:40.977974",
     "status": "completed"
    },
    "tags": []
   },
   "outputs": [
    {
     "name": "stderr",
     "output_type": "stream",
     "text": [
      "ENSG00000185024 / ENSG00000182979: 100%|██████████████████████| 21736/21736 [22:34<00:00, 16.05it/s]\n"
     ]
    },
    {
     "data": {
      "text/plain": [
       "PosixPath('/project/ritchie20/projects/phenoplier/base/results/gls/gene_corrs/cohorts/1000g_eur/gtex_v8/mashr/by_chr/gene_corrs-chr14.pkl')"
      ]
     },
     "metadata": {},
     "output_type": "display_data"
    }
   ],
   "source": [
    "gene_corrs = []\n",
    "\n",
    "i = 0\n",
    "with tqdm(ncols=100, total=n_comb) as pbar:\n",
    "    for gene1_idx in range(0, len(gene_chr_objs) - 1):\n",
    "        gene1_obj = gene_chr_objs[gene1_idx]\n",
    "        gene1_tissues = spredixcan_genes_models.loc[gene1_obj.ensembl_id, \"tissue\"]\n",
    "\n",
    "        for gene2_idx in range(gene1_idx + 1, len(gene_chr_objs)):\n",
    "            gene2_obj = gene_chr_objs[gene2_idx]\n",
    "            gene2_tissues = spredixcan_genes_models.loc[gene2_obj.ensembl_id, \"tissue\"]\n",
    "\n",
    "            pbar.set_description(f\"{gene1_obj.ensembl_id} / {gene2_obj.ensembl_id}\")\n",
    "\n",
    "            try:\n",
    "                r = gene1_obj.get_ssm_correlation(\n",
    "                    other_gene=gene2_obj,\n",
    "                    tissues=gene1_tissues,\n",
    "                    other_tissues=gene2_tissues,\n",
    "                    snps_subset=gwas_variants_ids_set,\n",
    "                    condition_number=SMULTIXCAN_CONDITION_NUMBER,\n",
    "                    reference_panel=REFERENCE_PANEL,\n",
    "                    model_type=EQTL_MODEL,\n",
    "                    use_within_distance=COMPUTE_CORRELATIONS_WITHIN_DISTANCE,\n",
    "                )\n",
    "\n",
    "                if r is None:\n",
    "                    # if r is None, it's very likely because:\n",
    "                    #  * one of the genes has no prediction models\n",
    "                    #  * all the SNPs predictors for the gene are not present in the reference\n",
    "                    #    panel\n",
    "\n",
    "                    r = 0.0\n",
    "\n",
    "                gene_corrs.append(r)\n",
    "            except Warning as e:\n",
    "                if not DEBUG_MODE:\n",
    "                    raise e\n",
    "\n",
    "                print(\n",
    "                    f\"RuntimeWarning for genes {gene1_obj.ensembl_id} and {gene2_obj.ensembl_id}\",\n",
    "                    flush=True,\n",
    "                )\n",
    "                print(traceback.format_exc(), flush=True)\n",
    "\n",
    "                gene_corrs.append(np.nan)\n",
    "            except Exception as e:\n",
    "                if not DEBUG_MODE:\n",
    "                    raise e\n",
    "\n",
    "                print(\n",
    "                    f\"Exception for genes {gene1_obj.ensembl_id} and {gene2_obj.ensembl_id}\",\n",
    "                    flush=True,\n",
    "                )\n",
    "                print(traceback.format_exc(), flush=True)\n",
    "\n",
    "                gene_corrs.append(np.nan)\n",
    "\n",
    "            pbar.update(1)\n",
    "\n",
    "# create a pandas series\n",
    "gene_corrs_flat = pd.Series(gene_corrs)\n",
    "\n",
    "# save\n",
    "# FIXME: consider saving only the condenced matrix here. See here for\n",
    "# more details: https://github.com/greenelab/phenoplier/pull/38#discussion_r634600813\n",
    "gene_corrs_data = squareform(np.array(gene_corrs, dtype=np.float64))\n",
    "np.fill_diagonal(gene_corrs_data, 1.0)\n",
    "\n",
    "gene_chr_ids = [g.ensembl_id for g in gene_chr_objs]\n",
    "gene_corrs_df = pd.DataFrame(\n",
    "    data=gene_corrs_data,\n",
    "    index=gene_chr_ids,\n",
    "    columns=gene_chr_ids,\n",
    ")\n",
    "\n",
    "output_dir.mkdir(exist_ok=True, parents=True)\n",
    "display(output_file)\n",
    "\n",
    "gene_corrs_df.to_pickle(output_file)"
   ]
  },
  {
   "cell_type": "markdown",
   "id": "faa67b51-5373-470f-aa72-2ded53fa6dfe",
   "metadata": {
    "papermill": {
     "duration": 1.079883,
     "end_time": "2022-08-03T02:39:17.784876",
     "exception": false,
     "start_time": "2022-08-03T02:39:16.704993",
     "status": "completed"
    },
    "tags": []
   },
   "source": [
    "# Testing"
   ]
  },
  {
   "cell_type": "code",
   "execution_count": 30,
   "id": "14f7d046-4b55-4896-a56b-990127bcc388",
   "metadata": {
    "execution": {
     "iopub.execute_input": "2022-08-03T02:39:19.960901Z",
     "iopub.status.busy": "2022-08-03T02:39:19.960645Z",
     "iopub.status.idle": "2022-08-03T02:39:20.197194Z",
     "shell.execute_reply": "2022-08-03T02:39:20.196766Z"
    },
    "papermill": {
     "duration": 1.347466,
     "end_time": "2022-08-03T02:39:20.198560",
     "exception": false,
     "start_time": "2022-08-03T02:39:18.851094",
     "status": "completed"
    },
    "tags": []
   },
   "outputs": [
    {
     "data": {
      "text/plain": [
       "(209, 209)"
      ]
     },
     "execution_count": 30,
     "metadata": {},
     "output_type": "execute_result"
    }
   ],
   "source": [
    "gene_corrs_df.shape"
   ]
  },
  {
   "cell_type": "code",
   "execution_count": 31,
   "id": "c7d15414-3297-4537-a7c6-7588c0baeb75",
   "metadata": {
    "execution": {
     "iopub.execute_input": "2022-08-03T02:39:22.353783Z",
     "iopub.status.busy": "2022-08-03T02:39:22.353540Z",
     "iopub.status.idle": "2022-08-03T02:39:22.390967Z",
     "shell.execute_reply": "2022-08-03T02:39:22.390501Z"
    },
    "papermill": {
     "duration": 1.111532,
     "end_time": "2022-08-03T02:39:22.392422",
     "exception": false,
     "start_time": "2022-08-03T02:39:21.280890",
     "status": "completed"
    },
    "tags": []
   },
   "outputs": [
    {
     "data": {
      "text/html": [
       "<div>\n",
       "<style scoped>\n",
       "    .dataframe tbody tr th:only-of-type {\n",
       "        vertical-align: middle;\n",
       "    }\n",
       "\n",
       "    .dataframe tbody tr th {\n",
       "        vertical-align: top;\n",
       "    }\n",
       "\n",
       "    .dataframe thead th {\n",
       "        text-align: right;\n",
       "    }\n",
       "</style>\n",
       "<table border=\"1\" class=\"dataframe\">\n",
       "  <thead>\n",
       "    <tr style=\"text-align: right;\">\n",
       "      <th></th>\n",
       "      <th>ENSG00000136319</th>\n",
       "      <th>ENSG00000129484</th>\n",
       "      <th>ENSG00000129566</th>\n",
       "      <th>ENSG00000100823</th>\n",
       "      <th>ENSG00000198805</th>\n",
       "      <th>ENSG00000214274</th>\n",
       "      <th>ENSG00000258818</th>\n",
       "      <th>ENSG00000169413</th>\n",
       "      <th>ENSG00000169397</th>\n",
       "      <th>ENSG00000169385</th>\n",
       "      <th>...</th>\n",
       "      <th>ENSG00000126215</th>\n",
       "      <th>ENSG00000088808</th>\n",
       "      <th>ENSG00000066735</th>\n",
       "      <th>ENSG00000185100</th>\n",
       "      <th>ENSG00000142208</th>\n",
       "      <th>ENSG00000166428</th>\n",
       "      <th>ENSG00000183484</th>\n",
       "      <th>ENSG00000184916</th>\n",
       "      <th>ENSG00000185024</th>\n",
       "      <th>ENSG00000182979</th>\n",
       "    </tr>\n",
       "  </thead>\n",
       "  <tbody>\n",
       "    <tr>\n",
       "      <th>ENSG00000136319</th>\n",
       "      <td>1.000000</td>\n",
       "      <td>0.408377</td>\n",
       "      <td>0.016761</td>\n",
       "      <td>0.011939</td>\n",
       "      <td>0.010830</td>\n",
       "      <td>0.007584</td>\n",
       "      <td>0.005983</td>\n",
       "      <td>0.009894</td>\n",
       "      <td>0.005839</td>\n",
       "      <td>0.007804</td>\n",
       "      <td>...</td>\n",
       "      <td>0.004266</td>\n",
       "      <td>0.005180</td>\n",
       "      <td>0.007589</td>\n",
       "      <td>0.003272</td>\n",
       "      <td>0.004592</td>\n",
       "      <td>0.003982</td>\n",
       "      <td>0.002128</td>\n",
       "      <td>0.008078</td>\n",
       "      <td>0.004296</td>\n",
       "      <td>0.002818</td>\n",
       "    </tr>\n",
       "    <tr>\n",
       "      <th>ENSG00000129484</th>\n",
       "      <td>0.408377</td>\n",
       "      <td>1.000000</td>\n",
       "      <td>0.009006</td>\n",
       "      <td>0.005022</td>\n",
       "      <td>0.008506</td>\n",
       "      <td>0.004598</td>\n",
       "      <td>0.003830</td>\n",
       "      <td>0.005981</td>\n",
       "      <td>0.003778</td>\n",
       "      <td>0.001958</td>\n",
       "      <td>...</td>\n",
       "      <td>0.005737</td>\n",
       "      <td>0.006233</td>\n",
       "      <td>0.006612</td>\n",
       "      <td>0.004318</td>\n",
       "      <td>0.008486</td>\n",
       "      <td>0.004286</td>\n",
       "      <td>0.002501</td>\n",
       "      <td>0.009363</td>\n",
       "      <td>0.004564</td>\n",
       "      <td>0.003327</td>\n",
       "    </tr>\n",
       "    <tr>\n",
       "      <th>ENSG00000129566</th>\n",
       "      <td>0.016761</td>\n",
       "      <td>0.009006</td>\n",
       "      <td>1.000000</td>\n",
       "      <td>0.038817</td>\n",
       "      <td>0.010472</td>\n",
       "      <td>0.008212</td>\n",
       "      <td>0.009654</td>\n",
       "      <td>0.005394</td>\n",
       "      <td>0.005310</td>\n",
       "      <td>0.003982</td>\n",
       "      <td>...</td>\n",
       "      <td>0.003041</td>\n",
       "      <td>0.003204</td>\n",
       "      <td>0.008305</td>\n",
       "      <td>0.005700</td>\n",
       "      <td>0.007254</td>\n",
       "      <td>0.004444</td>\n",
       "      <td>0.003860</td>\n",
       "      <td>0.005874</td>\n",
       "      <td>0.006159</td>\n",
       "      <td>0.002683</td>\n",
       "    </tr>\n",
       "    <tr>\n",
       "      <th>ENSG00000100823</th>\n",
       "      <td>0.011939</td>\n",
       "      <td>0.005022</td>\n",
       "      <td>0.038817</td>\n",
       "      <td>1.000000</td>\n",
       "      <td>0.292907</td>\n",
       "      <td>0.004649</td>\n",
       "      <td>0.004009</td>\n",
       "      <td>0.009684</td>\n",
       "      <td>0.010182</td>\n",
       "      <td>0.009390</td>\n",
       "      <td>...</td>\n",
       "      <td>0.004454</td>\n",
       "      <td>0.005920</td>\n",
       "      <td>0.006960</td>\n",
       "      <td>0.004608</td>\n",
       "      <td>0.008380</td>\n",
       "      <td>0.007682</td>\n",
       "      <td>0.010452</td>\n",
       "      <td>0.009029</td>\n",
       "      <td>0.007515</td>\n",
       "      <td>0.005463</td>\n",
       "    </tr>\n",
       "    <tr>\n",
       "      <th>ENSG00000198805</th>\n",
       "      <td>0.010830</td>\n",
       "      <td>0.008506</td>\n",
       "      <td>0.010472</td>\n",
       "      <td>0.292907</td>\n",
       "      <td>1.000000</td>\n",
       "      <td>0.003908</td>\n",
       "      <td>0.003859</td>\n",
       "      <td>0.010229</td>\n",
       "      <td>0.005374</td>\n",
       "      <td>0.009092</td>\n",
       "      <td>...</td>\n",
       "      <td>0.005652</td>\n",
       "      <td>0.004315</td>\n",
       "      <td>0.008890</td>\n",
       "      <td>0.003471</td>\n",
       "      <td>0.006663</td>\n",
       "      <td>0.005304</td>\n",
       "      <td>0.004839</td>\n",
       "      <td>0.008469</td>\n",
       "      <td>0.012078</td>\n",
       "      <td>0.002410</td>\n",
       "    </tr>\n",
       "  </tbody>\n",
       "</table>\n",
       "<p>5 rows × 209 columns</p>\n",
       "</div>"
      ],
      "text/plain": [
       "                 ENSG00000136319  ENSG00000129484  ENSG00000129566  \\\n",
       "ENSG00000136319         1.000000         0.408377         0.016761   \n",
       "ENSG00000129484         0.408377         1.000000         0.009006   \n",
       "ENSG00000129566         0.016761         0.009006         1.000000   \n",
       "ENSG00000100823         0.011939         0.005022         0.038817   \n",
       "ENSG00000198805         0.010830         0.008506         0.010472   \n",
       "\n",
       "                 ENSG00000100823  ENSG00000198805  ENSG00000214274  \\\n",
       "ENSG00000136319         0.011939         0.010830         0.007584   \n",
       "ENSG00000129484         0.005022         0.008506         0.004598   \n",
       "ENSG00000129566         0.038817         0.010472         0.008212   \n",
       "ENSG00000100823         1.000000         0.292907         0.004649   \n",
       "ENSG00000198805         0.292907         1.000000         0.003908   \n",
       "\n",
       "                 ENSG00000258818  ENSG00000169413  ENSG00000169397  \\\n",
       "ENSG00000136319         0.005983         0.009894         0.005839   \n",
       "ENSG00000129484         0.003830         0.005981         0.003778   \n",
       "ENSG00000129566         0.009654         0.005394         0.005310   \n",
       "ENSG00000100823         0.004009         0.009684         0.010182   \n",
       "ENSG00000198805         0.003859         0.010229         0.005374   \n",
       "\n",
       "                 ENSG00000169385  ...  ENSG00000126215  ENSG00000088808  \\\n",
       "ENSG00000136319         0.007804  ...         0.004266         0.005180   \n",
       "ENSG00000129484         0.001958  ...         0.005737         0.006233   \n",
       "ENSG00000129566         0.003982  ...         0.003041         0.003204   \n",
       "ENSG00000100823         0.009390  ...         0.004454         0.005920   \n",
       "ENSG00000198805         0.009092  ...         0.005652         0.004315   \n",
       "\n",
       "                 ENSG00000066735  ENSG00000185100  ENSG00000142208  \\\n",
       "ENSG00000136319         0.007589         0.003272         0.004592   \n",
       "ENSG00000129484         0.006612         0.004318         0.008486   \n",
       "ENSG00000129566         0.008305         0.005700         0.007254   \n",
       "ENSG00000100823         0.006960         0.004608         0.008380   \n",
       "ENSG00000198805         0.008890         0.003471         0.006663   \n",
       "\n",
       "                 ENSG00000166428  ENSG00000183484  ENSG00000184916  \\\n",
       "ENSG00000136319         0.003982         0.002128         0.008078   \n",
       "ENSG00000129484         0.004286         0.002501         0.009363   \n",
       "ENSG00000129566         0.004444         0.003860         0.005874   \n",
       "ENSG00000100823         0.007682         0.010452         0.009029   \n",
       "ENSG00000198805         0.005304         0.004839         0.008469   \n",
       "\n",
       "                 ENSG00000185024  ENSG00000182979  \n",
       "ENSG00000136319         0.004296         0.002818  \n",
       "ENSG00000129484         0.004564         0.003327  \n",
       "ENSG00000129566         0.006159         0.002683  \n",
       "ENSG00000100823         0.007515         0.005463  \n",
       "ENSG00000198805         0.012078         0.002410  \n",
       "\n",
       "[5 rows x 209 columns]"
      ]
     },
     "execution_count": 31,
     "metadata": {},
     "output_type": "execute_result"
    }
   ],
   "source": [
    "gene_corrs_df.head()"
   ]
  },
  {
   "cell_type": "markdown",
   "id": "dad6603f-01c6-41fb-a6f6-241051207dd8",
   "metadata": {
    "papermill": {
     "duration": 1.075163,
     "end_time": "2022-08-03T02:39:24.597016",
     "exception": false,
     "start_time": "2022-08-03T02:39:23.521853",
     "status": "completed"
    },
    "tags": []
   },
   "source": [
    "## Standard checks and stats"
   ]
  },
  {
   "cell_type": "code",
   "execution_count": 32,
   "id": "286686af-1b7b-4440-8453-6bdcbd8de19c",
   "metadata": {
    "execution": {
     "iopub.execute_input": "2022-08-03T02:39:26.768487Z",
     "iopub.status.busy": "2022-08-03T02:39:26.768226Z",
     "iopub.status.idle": "2022-08-03T02:39:26.788697Z",
     "shell.execute_reply": "2022-08-03T02:39:26.788271Z"
    },
    "papermill": {
     "duration": 1.095888,
     "end_time": "2022-08-03T02:39:26.790142",
     "exception": false,
     "start_time": "2022-08-03T02:39:25.694254",
     "status": "completed"
    },
    "tags": []
   },
   "outputs": [],
   "source": [
    "assert not gene_corrs_df.isna().any().any()"
   ]
  },
  {
   "cell_type": "code",
   "execution_count": 33,
   "id": "00583efc-7068-4270-ad1e-4a418e91db96",
   "metadata": {
    "execution": {
     "iopub.execute_input": "2022-08-03T02:39:28.966035Z",
     "iopub.status.busy": "2022-08-03T02:39:28.965743Z",
     "iopub.status.idle": "2022-08-03T02:39:28.989335Z",
     "shell.execute_reply": "2022-08-03T02:39:28.988862Z"
    },
    "papermill": {
     "duration": 1.090217,
     "end_time": "2022-08-03T02:39:28.990703",
     "exception": false,
     "start_time": "2022-08-03T02:39:27.900486",
     "status": "completed"
    },
    "tags": []
   },
   "outputs": [
    {
     "data": {
      "text/plain": [
       "3.8000847030716356e-07"
      ]
     },
     "metadata": {},
     "output_type": "display_data"
    }
   ],
   "source": [
    "_min_val = gene_corrs_df.min().min()\n",
    "display(_min_val)\n",
    "assert _min_val >= 0.0"
   ]
  },
  {
   "cell_type": "code",
   "execution_count": 34,
   "id": "d04fb2cf-1050-475b-b855-f5f7cc04092b",
   "metadata": {
    "execution": {
     "iopub.execute_input": "2022-08-03T02:39:31.126866Z",
     "iopub.status.busy": "2022-08-03T02:39:31.126607Z",
     "iopub.status.idle": "2022-08-03T02:39:31.148422Z",
     "shell.execute_reply": "2022-08-03T02:39:31.147951Z"
    },
    "papermill": {
     "duration": 1.092241,
     "end_time": "2022-08-03T02:39:31.149701",
     "exception": false,
     "start_time": "2022-08-03T02:39:30.057460",
     "status": "completed"
    },
    "tags": []
   },
   "outputs": [
    {
     "data": {
      "text/plain": [
       "1.0"
      ]
     },
     "metadata": {},
     "output_type": "display_data"
    }
   ],
   "source": [
    "_max_val = gene_corrs_df.max().max()  # this captures the diagonal\n",
    "display(_max_val)\n",
    "assert _max_val <= 1.0"
   ]
  },
  {
   "cell_type": "code",
   "execution_count": 35,
   "id": "96d02c44-1fba-47be-8a93-8f2608420b9c",
   "metadata": {
    "execution": {
     "iopub.execute_input": "2022-08-03T02:39:33.341460Z",
     "iopub.status.busy": "2022-08-03T02:39:33.341168Z",
     "iopub.status.idle": "2022-08-03T02:39:33.527190Z",
     "shell.execute_reply": "2022-08-03T02:39:33.526688Z"
    },
    "papermill": {
     "duration": 1.265906,
     "end_time": "2022-08-03T02:39:33.528774",
     "exception": false,
     "start_time": "2022-08-03T02:39:32.262868",
     "status": "completed"
    },
    "tags": []
   },
   "outputs": [],
   "source": [
    "# check upper triangular values\n",
    "assert len(gene_corrs) == int(genes_chr.shape[0] * (genes_chr.shape[0] - 1) / 2)"
   ]
  },
  {
   "cell_type": "code",
   "execution_count": 36,
   "id": "fe283586-c348-40e0-8841-f6d97bfb021c",
   "metadata": {
    "execution": {
     "iopub.execute_input": "2022-08-03T02:39:35.723121Z",
     "iopub.status.busy": "2022-08-03T02:39:35.722874Z",
     "iopub.status.idle": "2022-08-03T02:39:35.751645Z",
     "shell.execute_reply": "2022-08-03T02:39:35.751215Z"
    },
    "papermill": {
     "duration": 1.149413,
     "end_time": "2022-08-03T02:39:35.752946",
     "exception": false,
     "start_time": "2022-08-03T02:39:34.603533",
     "status": "completed"
    },
    "tags": []
   },
   "outputs": [
    {
     "data": {
      "text/plain": [
       "count    2.173600e+04\n",
       "mean     9.409652e-03\n",
       "std      3.444504e-02\n",
       "min      3.800085e-07\n",
       "25%      4.156510e-03\n",
       "50%      6.177063e-03\n",
       "75%      8.420120e-03\n",
       "max      9.689544e-01\n",
       "dtype: float64"
      ]
     },
     "execution_count": 36,
     "metadata": {},
     "output_type": "execute_result"
    }
   ],
   "source": [
    "gene_corrs_flat.describe()"
   ]
  },
  {
   "cell_type": "code",
   "execution_count": 37,
   "id": "b3815678-0f93-4b35-897b-a9d047a2aa78",
   "metadata": {
    "execution": {
     "iopub.execute_input": "2022-08-03T02:39:37.937785Z",
     "iopub.status.busy": "2022-08-03T02:39:37.937539Z",
     "iopub.status.idle": "2022-08-03T02:39:37.961405Z",
     "shell.execute_reply": "2022-08-03T02:39:37.960964Z"
    },
    "papermill": {
     "duration": 1.100147,
     "end_time": "2022-08-03T02:39:37.962722",
     "exception": false,
     "start_time": "2022-08-03T02:39:36.862575",
     "status": "completed"
    },
    "tags": []
   },
   "outputs": [
    {
     "data": {
      "text/plain": [
       "0.00    3.800085e-07\n",
       "0.05    1.838951e-03\n",
       "0.10    2.617541e-03\n",
       "0.15    3.225673e-03\n",
       "0.20    3.721126e-03\n",
       "0.25    4.156510e-03\n",
       "0.30    4.616027e-03\n",
       "0.35    5.012423e-03\n",
       "0.40    5.394579e-03\n",
       "0.45    5.773367e-03\n",
       "0.50    6.177063e-03\n",
       "0.55    6.546865e-03\n",
       "0.60    6.966399e-03\n",
       "0.65    7.423889e-03\n",
       "0.70    7.907326e-03\n",
       "0.75    8.420120e-03\n",
       "0.80    9.065417e-03\n",
       "0.85    9.832290e-03\n",
       "0.90    1.092578e-02\n",
       "0.95    1.283232e-02\n",
       "dtype: float64"
      ]
     },
     "metadata": {},
     "output_type": "display_data"
    }
   ],
   "source": [
    "gene_corrs_quantiles = gene_corrs_flat.quantile(np.arange(0, 1, 0.05))\n",
    "display(gene_corrs_quantiles)"
   ]
  },
  {
   "cell_type": "markdown",
   "id": "87134509-b145-4a10-8bc9-b7e914c2b0fa",
   "metadata": {
    "papermill": {
     "duration": 1.108874,
     "end_time": "2022-08-03T02:39:40.148360",
     "exception": false,
     "start_time": "2022-08-03T02:39:39.039486",
     "status": "completed"
    },
    "tags": []
   },
   "source": [
    "## Positive definiteness"
   ]
  },
  {
   "cell_type": "code",
   "execution_count": 38,
   "id": "07d9a9a1-a4f7-48aa-b916-6d42a8cc6186",
   "metadata": {
    "execution": {
     "iopub.execute_input": "2022-08-03T02:39:42.314724Z",
     "iopub.status.busy": "2022-08-03T02:39:42.314474Z",
     "iopub.status.idle": "2022-08-03T02:39:42.346037Z",
     "shell.execute_reply": "2022-08-03T02:39:42.345638Z"
    },
    "papermill": {
     "duration": 1.125328,
     "end_time": "2022-08-03T02:39:42.347256",
     "exception": false,
     "start_time": "2022-08-03T02:39:41.221928",
     "status": "completed"
    },
    "tags": []
   },
   "outputs": [
    {
     "data": {
      "text/plain": [
       "0"
      ]
     },
     "metadata": {},
     "output_type": "display_data"
    },
    {
     "data": {
      "text/plain": [
       "array([], dtype=float64)"
      ]
     },
     "metadata": {},
     "output_type": "display_data"
    }
   ],
   "source": [
    "# print negative eigenvalues\n",
    "eigs = np.linalg.eigvals(gene_corrs_df.to_numpy())\n",
    "display(len(eigs[eigs < 0]))\n",
    "display(eigs[eigs < 0])"
   ]
  },
  {
   "cell_type": "code",
   "execution_count": 39,
   "id": "6e218436-c3c5-4028-8c94-a4fa6260efce",
   "metadata": {
    "execution": {
     "iopub.execute_input": "2022-08-03T02:39:44.538374Z",
     "iopub.status.busy": "2022-08-03T02:39:44.538123Z",
     "iopub.status.idle": "2022-08-03T02:39:44.583001Z",
     "shell.execute_reply": "2022-08-03T02:39:44.582577Z"
    },
    "papermill": {
     "duration": 1.168427,
     "end_time": "2022-08-03T02:39:44.584255",
     "exception": false,
     "start_time": "2022-08-03T02:39:43.415828",
     "status": "completed"
    },
    "tags": []
   },
   "outputs": [
    {
     "name": "stdout",
     "output_type": "stream",
     "text": [
      "Works!\n"
     ]
    }
   ],
   "source": [
    "try:\n",
    "    chol_mat = np.linalg.cholesky(gene_corrs_df.to_numpy())\n",
    "    cov_inv = np.linalg.inv(chol_mat)\n",
    "    print(\"Works!\")\n",
    "except:\n",
    "    print(\"Cholesky decomposition failed\")"
   ]
  },
  {
   "cell_type": "markdown",
   "id": "8e60a080-edb2-4e9c-b2ef-22961693200c",
   "metadata": {
    "papermill": {
     "duration": 1.075323,
     "end_time": "2022-08-03T02:39:46.738430",
     "exception": false,
     "start_time": "2022-08-03T02:39:45.663107",
     "status": "completed"
    },
    "tags": []
   },
   "source": [
    "## Plot: distribution"
   ]
  },
  {
   "cell_type": "code",
   "execution_count": 40,
   "id": "8301126b-a7d4-4744-9c7d-f0f86eb6f54c",
   "metadata": {
    "execution": {
     "iopub.execute_input": "2022-08-03T02:39:48.927325Z",
     "iopub.status.busy": "2022-08-03T02:39:48.927067Z",
     "iopub.status.idle": "2022-08-03T02:39:55.673615Z",
     "shell.execute_reply": "2022-08-03T02:39:55.673155Z"
    },
    "papermill": {
     "duration": 7.868064,
     "end_time": "2022-08-03T02:39:55.674985",
     "exception": false,
     "start_time": "2022-08-03T02:39:47.806921",
     "status": "completed"
    },
    "tags": []
   },
   "outputs": [
    {
     "data": {
      "image/png": "[encoded data removed]",
      "text/plain": [
       "<Figure size 504x504 with 1 Axes>"
      ]
     },
     "metadata": {
      "needs_background": "light"
     },
     "output_type": "display_data"
    }
   ],
   "source": [
    "with sns.plotting_context(\"paper\", font_scale=1.5):\n",
    "    g = sns.displot(gene_corrs_flat, kde=True, height=7)\n",
    "    g.ax.set_title(\n",
    "        f\"Distribution of gene correlation values in chromosome {CHROMOSOME}\"\n",
    "    )"
   ]
  },
  {
   "cell_type": "markdown",
   "id": "cbd52bca-d878-4a2f-b684-5c83aa3038d4",
   "metadata": {
    "papermill": {
     "duration": 1.065862,
     "end_time": "2022-08-03T02:39:57.812845",
     "exception": false,
     "start_time": "2022-08-03T02:39:56.746983",
     "status": "completed"
    },
    "tags": []
   },
   "source": [
    "## Plot: heatmap"
   ]
  },
  {
   "cell_type": "code",
   "execution_count": 41,
   "id": "d03fe63a-c7b2-4fb9-a53c-db362ce843c9",
   "metadata": {
    "execution": {
     "iopub.execute_input": "2022-08-03T02:40:00.009671Z",
     "iopub.status.busy": "2022-08-03T02:40:00.009425Z",
     "iopub.status.idle": "2022-08-03T02:40:00.212801Z",
     "shell.execute_reply": "2022-08-03T02:40:00.212376Z"
    },
    "papermill": {
     "duration": 1.283387,
     "end_time": "2022-08-03T02:40:00.214093",
     "exception": false,
     "start_time": "2022-08-03T02:39:58.930706",
     "status": "completed"
    },
    "tags": []
   },
   "outputs": [
    {
     "data": {
      "text/plain": [
       "'0.0 / 0.05'"
      ]
     },
     "metadata": {},
     "output_type": "display_data"
    }
   ],
   "source": [
    "vmin_val = min(0.00, gene_corrs_quantiles[0.10])\n",
    "vmax_val = max(0.05, gene_corrs_quantiles[0.90])\n",
    "display(f\"{vmin_val} / {vmax_val}\")"
   ]
  },
  {
   "cell_type": "code",
   "execution_count": 42,
   "id": "dc41b70b-5bcc-4d9e-9f33-a22c4a94dab5",
   "metadata": {
    "execution": {
     "iopub.execute_input": "2022-08-03T02:40:02.381625Z",
     "iopub.status.busy": "2022-08-03T02:40:02.381384Z",
     "iopub.status.idle": "2022-08-03T02:40:03.213645Z",
     "shell.execute_reply": "2022-08-03T02:40:03.213195Z"
    },
    "papermill": {
     "duration": 1.907615,
     "end_time": "2022-08-03T02:40:03.215138",
     "exception": false,
     "start_time": "2022-08-03T02:40:01.307523",
     "status": "completed"
    },
    "tags": []
   },
   "outputs": [
    {
     "data": {
      "text/plain": [
       "Text(0.5, 1.0, 'Gene correlations in chromosome 14')"
      ]
     },
     "execution_count": 42,
     "metadata": {},
     "output_type": "execute_result"
    },
    {
     "data": {
      "image/png": "[encoded data removed]",
      "text/plain": [
       "<Figure size 720x720 with 2 Axes>"
      ]
     },
     "metadata": {
      "needs_background": "light"
     },
     "output_type": "display_data"
    }
   ],
   "source": [
    "f, ax = plt.subplots(figsize=(10, 10))\n",
    "sns.heatmap(\n",
    "    gene_corrs_df,\n",
    "    xticklabels=False,\n",
    "    yticklabels=False,\n",
    "    square=True,\n",
    "    vmin=vmin_val,\n",
    "    vmax=vmax_val,\n",
    "    cmap=\"rocket_r\",\n",
    "    ax=ax,\n",
    ")\n",
    "ax.set_title(f\"Gene correlations in chromosome {CHROMOSOME}\")"
   ]
  },
  {
   "cell_type": "code",
   "execution_count": null,
   "id": "b25e3ead",
   "metadata": {
    "papermill": {
     "duration": 1.069337,
     "end_time": "2022-08-03T02:40:05.407821",
     "exception": false,
     "start_time": "2022-08-03T02:40:04.338484",
     "status": "completed"
    },
    "tags": []
   },
   "outputs": [],
   "source": []
  }
 ],
 "metadata": {
  "jupytext": {
   "cell_metadata_filter": "all,-execution,-papermill,-trusted",
   "formats": "ipynb,py//py:percent"
  },
  "kernelspec": {
   "display_name": "Python 3 (ipykernel)",
   "language": "python",
   "name": "python3"
  },
  "language_info": {
   "codemirror_mode": {
    "name": "ipython",
    "version": 3
   },
   "file_extension": ".py",
   "mimetype": "text/x-python",
   "name": "python",
   "nbconvert_exporter": "python",
   "pygments_lexer": "ipython3",
   "version": "3.8.13"
  },
  "papermill": {
   "default_parameters": {},
   "duration": 1420.254776,
   "end_time": "2022-08-03T02:40:09.936637",
   "environment_variables": {},
   "exception": null,
   "input_path": "nbs/15_gsa_gls/10-gene_expr_correlations.ipynb",
   "output_path": "nbs/15_gsa_gls/gene_corrs/cohorts/1000g_eur/gtex_v8/mashr/10-gene_expr_correlations-chr14.run.ipynb",
   "parameters": {
    "CHROMOSOME": 14,
    "COHORT_NAME": "1000G_EUR",
    "EQTL_MODEL": "MASHR",
    "REFERENCE_PANEL": "GTEX_V8"
   },
   "start_time": "2022-08-03T02:16:29.681861",
   "version": "2.2.2"
  }
 },
 "nbformat": 4,
 "nbformat_minor": 5
}
