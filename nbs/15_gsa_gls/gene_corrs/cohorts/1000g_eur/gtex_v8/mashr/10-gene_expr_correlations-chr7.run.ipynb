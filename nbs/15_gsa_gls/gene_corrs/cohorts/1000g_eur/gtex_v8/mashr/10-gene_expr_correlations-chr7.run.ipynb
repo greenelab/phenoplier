{
 "cells": [
  {
   "cell_type": "markdown",
   "id": "7a6632fb",
   "metadata": {
    "papermill": {
     "duration": 0.007256,
     "end_time": "2022-08-08T05:57:36.033192",
     "exception": false,
     "start_time": "2022-08-08T05:57:36.025936",
     "status": "completed"
    },
    "tags": []
   },
   "source": [
    "# Description"
   ]
  },
  {
   "cell_type": "markdown",
   "id": "7097c346",
   "metadata": {
    "papermill": {
     "duration": 0.005217,
     "end_time": "2022-08-08T05:57:36.043961",
     "exception": false,
     "start_time": "2022-08-08T05:57:36.038744",
     "status": "completed"
    },
    "tags": []
   },
   "source": [
    "(Please, take a look at the README.md file in this directory for instructions on how to run this notebook)\n",
    "\n",
    "This notebook computes predicted expression correlations between all genes in the MultiPLIER models.\n",
    "\n",
    "It also has a parameter set for papermill to run on a single chromosome to run in parallel (see under `Settings` below).\n",
    "\n",
    "This notebook is not directly run. See README.md."
   ]
  },
  {
   "cell_type": "markdown",
   "id": "c61d8427",
   "metadata": {
    "papermill": {
     "duration": 0.005414,
     "end_time": "2022-08-08T05:57:36.054807",
     "exception": false,
     "start_time": "2022-08-08T05:57:36.049393",
     "status": "completed"
    },
    "tags": []
   },
   "source": [
    "# Modules"
   ]
  },
  {
   "cell_type": "code",
   "execution_count": 1,
   "id": "bbc0234f",
   "metadata": {
    "execution": {
     "iopub.execute_input": "2022-08-08T05:57:36.066741Z",
     "iopub.status.busy": "2022-08-08T05:57:36.066514Z",
     "iopub.status.idle": "2022-08-08T05:57:36.082404Z",
     "shell.execute_reply": "2022-08-08T05:57:36.081952Z"
    },
    "papermill": {
     "duration": 0.023303,
     "end_time": "2022-08-08T05:57:36.083886",
     "exception": false,
     "start_time": "2022-08-08T05:57:36.060583",
     "status": "completed"
    },
    "tags": []
   },
   "outputs": [],
   "source": [
    "%load_ext autoreload\n",
    "%autoreload 2"
   ]
  },
  {
   "cell_type": "code",
   "execution_count": 2,
   "id": "1d5f5a59",
   "metadata": {
    "execution": {
     "iopub.execute_input": "2022-08-08T05:57:36.096417Z",
     "iopub.status.busy": "2022-08-08T05:57:36.096220Z",
     "iopub.status.idle": "2022-08-08T05:57:36.988781Z",
     "shell.execute_reply": "2022-08-08T05:57:36.988373Z"
    },
    "papermill": {
     "duration": 0.900484,
     "end_time": "2022-08-08T05:57:36.990116",
     "exception": false,
     "start_time": "2022-08-08T05:57:36.089632",
     "status": "completed"
    },
    "tags": []
   },
   "outputs": [],
   "source": [
    "from random import sample, seed\n",
    "import warnings\n",
    "from pathlib import Path\n",
    "import pickle\n",
    "import traceback\n",
    "\n",
    "import numpy as np\n",
    "from scipy.spatial.distance import squareform\n",
    "import pandas as pd\n",
    "from tqdm import tqdm\n",
    "import matplotlib.pyplot as plt\n",
    "import seaborn as sns\n",
    "\n",
    "import conf\n",
    "from entity import Gene"
   ]
  },
  {
   "cell_type": "markdown",
   "id": "1eac24b5",
   "metadata": {
    "papermill": {
     "duration": 0.005863,
     "end_time": "2022-08-08T05:57:37.028018",
     "exception": false,
     "start_time": "2022-08-08T05:57:37.022155",
     "status": "completed"
    },
    "tags": []
   },
   "source": [
    "# Settings"
   ]
  },
  {
   "cell_type": "code",
   "execution_count": 3,
   "id": "ca4560ba",
   "metadata": {
    "execution": {
     "iopub.execute_input": "2022-08-08T05:57:37.040273Z",
     "iopub.status.busy": "2022-08-08T05:57:37.040069Z",
     "iopub.status.idle": "2022-08-08T05:57:37.055105Z",
     "shell.execute_reply": "2022-08-08T05:57:37.054693Z"
    },
    "papermill": {
     "duration": 0.022575,
     "end_time": "2022-08-08T05:57:37.056484",
     "exception": false,
     "start_time": "2022-08-08T05:57:37.033909",
     "status": "completed"
    },
    "tags": [
     "parameters"
    ]
   },
   "outputs": [],
   "source": [
    "# a cohort name (it could be something like UK_BIOBANK, etc)\n",
    "COHORT_NAME = None\n",
    "\n",
    "# reference panel such as 1000G or GTEX_V8\n",
    "REFERENCE_PANEL = None\n",
    "\n",
    "# predictions models such as MASHR or ELASTIC_NET\n",
    "EQTL_MODEL = None\n",
    "\n",
    "# this is the default value used in S-MultiXcan to select the\n",
    "# top principal components of the expression correlation matrix\n",
    "SMULTIXCAN_CONDITION_NUMBER = 30\n",
    "\n",
    "# specifies a single chromosome value\n",
    "CHROMOSOME = None\n",
    "\n",
    "# If True, computes the correlation between closeby genes only;\n",
    "# otherwise, it computes correlations for all genes in a chromosome\n",
    "COMPUTE_CORRELATIONS_WITHIN_DISTANCE = False\n",
    "\n",
    "# if True, then it will continue if a gene pair correlation fails,\n",
    "# printing the warning/error for debugging. If False, any warning/error\n",
    "# will be thrown\n",
    "DEBUG_MODE = False"
   ]
  },
  {
   "cell_type": "code",
   "execution_count": 4,
   "id": "d981a1e7",
   "metadata": {
    "execution": {
     "iopub.execute_input": "2022-08-08T05:57:37.069764Z",
     "iopub.status.busy": "2022-08-08T05:57:37.069554Z",
     "iopub.status.idle": "2022-08-08T05:57:37.083647Z",
     "shell.execute_reply": "2022-08-08T05:57:37.083194Z"
    },
    "papermill": {
     "duration": 0.022637,
     "end_time": "2022-08-08T05:57:37.084892",
     "exception": false,
     "start_time": "2022-08-08T05:57:37.062255",
     "status": "completed"
    },
    "tags": [
     "injected-parameters"
    ]
   },
   "outputs": [],
   "source": [
    "# Parameters\n",
    "COHORT_NAME = \"1000G_EUR\"\n",
    "REFERENCE_PANEL = \"GTEX_V8\"\n",
    "EQTL_MODEL = \"MASHR\"\n",
    "CHROMOSOME = 7\n"
   ]
  },
  {
   "cell_type": "code",
   "execution_count": 5,
   "id": "3190631f-27fc-480f-b18e-571d580425a5",
   "metadata": {
    "execution": {
     "iopub.execute_input": "2022-08-08T05:57:37.096715Z",
     "iopub.status.busy": "2022-08-08T05:57:37.096330Z",
     "iopub.status.idle": "2022-08-08T05:57:37.112435Z",
     "shell.execute_reply": "2022-08-08T05:57:37.111984Z"
    },
    "papermill": {
     "duration": 0.023454,
     "end_time": "2022-08-08T05:57:37.113813",
     "exception": false,
     "start_time": "2022-08-08T05:57:37.090359",
     "status": "completed"
    },
    "tags": []
   },
   "outputs": [
    {
     "data": {
      "text/plain": [
       "'Cohort name: 1000g_eur'"
      ]
     },
     "metadata": {},
     "output_type": "display_data"
    }
   ],
   "source": [
    "assert COHORT_NAME is not None and len(COHORT_NAME) > 0, \"A cohort name must be given\"\n",
    "\n",
    "COHORT_NAME = COHORT_NAME.lower()\n",
    "display(f\"Cohort name: {COHORT_NAME}\")"
   ]
  },
  {
   "cell_type": "code",
   "execution_count": 6,
   "id": "f53ba19b-0f93-4fa2-a047-63b375939d1a",
   "metadata": {
    "execution": {
     "iopub.execute_input": "2022-08-08T05:57:37.125661Z",
     "iopub.status.busy": "2022-08-08T05:57:37.125444Z",
     "iopub.status.idle": "2022-08-08T05:57:37.140357Z",
     "shell.execute_reply": "2022-08-08T05:57:37.139925Z"
    },
    "papermill": {
     "duration": 0.022271,
     "end_time": "2022-08-08T05:57:37.141584",
     "exception": false,
     "start_time": "2022-08-08T05:57:37.119313",
     "status": "completed"
    },
    "tags": []
   },
   "outputs": [
    {
     "data": {
      "text/plain": [
       "'Reference panel: GTEX_V8'"
      ]
     },
     "metadata": {},
     "output_type": "display_data"
    }
   ],
   "source": [
    "assert (\n",
    "    REFERENCE_PANEL is not None and len(REFERENCE_PANEL) > 0\n",
    "), \"A reference panel must be given\"\n",
    "\n",
    "display(f\"Reference panel: {REFERENCE_PANEL}\")"
   ]
  },
  {
   "cell_type": "code",
   "execution_count": 7,
   "id": "e024d130-c139-429a-9c6e-ccf149e297b0",
   "metadata": {
    "execution": {
     "iopub.execute_input": "2022-08-08T05:57:37.155987Z",
     "iopub.status.busy": "2022-08-08T05:57:37.155710Z",
     "iopub.status.idle": "2022-08-08T05:57:37.170774Z",
     "shell.execute_reply": "2022-08-08T05:57:37.170349Z"
    },
    "papermill": {
     "duration": 0.023628,
     "end_time": "2022-08-08T05:57:37.172026",
     "exception": false,
     "start_time": "2022-08-08T05:57:37.148398",
     "status": "completed"
    },
    "tags": []
   },
   "outputs": [
    {
     "data": {
      "text/plain": [
       "'eQTL model: MASHR) / mashr_'"
      ]
     },
     "metadata": {},
     "output_type": "display_data"
    }
   ],
   "source": [
    "assert (\n",
    "    EQTL_MODEL is not None and len(EQTL_MODEL) > 0\n",
    "), \"A prediction/eQTL model must be given\"\n",
    "\n",
    "EQTL_MODEL_FILES_PREFIX = conf.PHENOMEXCAN[\"PREDICTION_MODELS\"][f\"{EQTL_MODEL}_PREFIX\"]\n",
    "display(f\"eQTL model: {EQTL_MODEL}) / {EQTL_MODEL_FILES_PREFIX}\")"
   ]
  },
  {
   "cell_type": "code",
   "execution_count": 8,
   "id": "552a7f63-a18c-4d3e-bb6a-94f99b431291",
   "metadata": {
    "execution": {
     "iopub.execute_input": "2022-08-08T05:57:37.185018Z",
     "iopub.status.busy": "2022-08-08T05:57:37.184245Z",
     "iopub.status.idle": "2022-08-08T05:57:37.202661Z",
     "shell.execute_reply": "2022-08-08T05:57:37.202226Z"
    },
    "papermill": {
     "duration": 0.02595,
     "end_time": "2022-08-08T05:57:37.203824",
     "exception": false,
     "start_time": "2022-08-08T05:57:37.177874",
     "status": "completed"
    },
    "tags": []
   },
   "outputs": [
    {
     "data": {
      "text/plain": [
       "'S-MultiXcan condition number: 30'"
      ]
     },
     "metadata": {},
     "output_type": "display_data"
    }
   ],
   "source": [
    "assert (\n",
    "    SMULTIXCAN_CONDITION_NUMBER is not None and SMULTIXCAN_CONDITION_NUMBER > 0\n",
    "), \"The S-MultiXcan condition number (positive integer) must be given\"\n",
    "\n",
    "display(f\"S-MultiXcan condition number: {SMULTIXCAN_CONDITION_NUMBER}\")"
   ]
  },
  {
   "cell_type": "code",
   "execution_count": 9,
   "id": "f34a336f-548e-4afe-8955-90eaea4f42c6",
   "metadata": {
    "execution": {
     "iopub.execute_input": "2022-08-08T05:57:37.216163Z",
     "iopub.status.busy": "2022-08-08T05:57:37.215972Z",
     "iopub.status.idle": "2022-08-08T05:57:37.230404Z",
     "shell.execute_reply": "2022-08-08T05:57:37.230000Z"
    },
    "papermill": {
     "duration": 0.021923,
     "end_time": "2022-08-08T05:57:37.231515",
     "exception": false,
     "start_time": "2022-08-08T05:57:37.209592",
     "status": "completed"
    },
    "tags": []
   },
   "outputs": [
    {
     "data": {
      "text/plain": [
       "'Working on chromosome 7'"
      ]
     },
     "metadata": {},
     "output_type": "display_data"
    }
   ],
   "source": [
    "assert CHROMOSOME is not None and (\n",
    "    1 <= CHROMOSOME <= 22\n",
    "), \"You have to select one chromosome (format: number between 1 and 22)\"\n",
    "\n",
    "# CHROMOSOME = str(CHROMOSOME)\n",
    "display(f\"Working on chromosome {CHROMOSOME}\")"
   ]
  },
  {
   "cell_type": "code",
   "execution_count": 10,
   "id": "ab8e96e8-06b5-4363-9dcd-dc4d78cc27f7",
   "metadata": {
    "execution": {
     "iopub.execute_input": "2022-08-08T05:57:37.244138Z",
     "iopub.status.busy": "2022-08-08T05:57:37.243816Z",
     "iopub.status.idle": "2022-08-08T05:57:37.259269Z",
     "shell.execute_reply": "2022-08-08T05:57:37.258821Z"
    },
    "papermill": {
     "duration": 0.02304,
     "end_time": "2022-08-08T05:57:37.260518",
     "exception": false,
     "start_time": "2022-08-08T05:57:37.237478",
     "status": "completed"
    },
    "tags": []
   },
   "outputs": [
    {
     "data": {
      "text/plain": [
       "'Compute correlation within distance False'"
      ]
     },
     "metadata": {},
     "output_type": "display_data"
    }
   ],
   "source": [
    "display(f\"Compute correlation within distance {COMPUTE_CORRELATIONS_WITHIN_DISTANCE}\")"
   ]
  },
  {
   "cell_type": "code",
   "execution_count": 11,
   "id": "396392dc-0340-4540-9b02-e182b833f909",
   "metadata": {
    "execution": {
     "iopub.execute_input": "2022-08-08T05:57:37.273319Z",
     "iopub.status.busy": "2022-08-08T05:57:37.273107Z",
     "iopub.status.idle": "2022-08-08T05:57:37.288661Z",
     "shell.execute_reply": "2022-08-08T05:57:37.288242Z"
    },
    "papermill": {
     "duration": 0.023193,
     "end_time": "2022-08-08T05:57:37.289831",
     "exception": false,
     "start_time": "2022-08-08T05:57:37.266638",
     "status": "completed"
    },
    "tags": []
   },
   "outputs": [
    {
     "data": {
      "text/plain": [
       "'Using output dir base: /opt/data/results/gls/gene_corrs/cohorts/1000g_eur/gtex_v8/mashr'"
      ]
     },
     "metadata": {},
     "output_type": "display_data"
    }
   ],
   "source": [
    "OUTPUT_DIR_BASE = (\n",
    "    conf.RESULTS[\"GLS\"]\n",
    "    / \"gene_corrs\"\n",
    "    / \"cohorts\"\n",
    "    / COHORT_NAME\n",
    "    / REFERENCE_PANEL.lower()\n",
    "    / EQTL_MODEL.lower()\n",
    ")\n",
    "OUTPUT_DIR_BASE.mkdir(parents=True, exist_ok=True)\n",
    "\n",
    "display(f\"Using output dir base: {OUTPUT_DIR_BASE}\")"
   ]
  },
  {
   "cell_type": "markdown",
   "id": "d2ba085e",
   "metadata": {
    "papermill": {
     "duration": 0.00576,
     "end_time": "2022-08-08T05:57:37.301734",
     "exception": false,
     "start_time": "2022-08-08T05:57:37.295974",
     "status": "completed"
    },
    "tags": []
   },
   "source": [
    "# Load data"
   ]
  },
  {
   "cell_type": "markdown",
   "id": "7dcb8db7",
   "metadata": {
    "papermill": {
     "duration": 0.006194,
     "end_time": "2022-08-08T05:57:37.313759",
     "exception": false,
     "start_time": "2022-08-08T05:57:37.307565",
     "status": "completed"
    },
    "tags": []
   },
   "source": [
    "## GWAS variants"
   ]
  },
  {
   "cell_type": "code",
   "execution_count": 12,
   "id": "29434c4e-8cd3-4b9b-82e4-b5a251d9dd19",
   "metadata": {
    "execution": {
     "iopub.execute_input": "2022-08-08T05:57:37.326710Z",
     "iopub.status.busy": "2022-08-08T05:57:37.326485Z",
     "iopub.status.idle": "2022-08-08T05:57:39.877171Z",
     "shell.execute_reply": "2022-08-08T05:57:39.876681Z"
    },
    "papermill": {
     "duration": 2.55876,
     "end_time": "2022-08-08T05:57:39.878759",
     "exception": false,
     "start_time": "2022-08-08T05:57:37.319999",
     "status": "completed"
    },
    "tags": []
   },
   "outputs": [],
   "source": [
    "with open(OUTPUT_DIR_BASE / \"gwas_variant_ids.pkl\", \"rb\") as handle:\n",
    "    gwas_variants_ids_set = pickle.load(handle)"
   ]
  },
  {
   "cell_type": "code",
   "execution_count": 13,
   "id": "b9d9dec2-4a76-4bf9-bde2-e24c95acb8a0",
   "metadata": {
    "execution": {
     "iopub.execute_input": "2022-08-08T05:57:39.899152Z",
     "iopub.status.busy": "2022-08-08T05:57:39.898880Z",
     "iopub.status.idle": "2022-08-08T05:57:39.914756Z",
     "shell.execute_reply": "2022-08-08T05:57:39.914296Z"
    },
    "papermill": {
     "duration": 0.029591,
     "end_time": "2022-08-08T05:57:39.916150",
     "exception": false,
     "start_time": "2022-08-08T05:57:39.886559",
     "status": "completed"
    },
    "tags": []
   },
   "outputs": [
    {
     "data": {
      "text/plain": [
       "8325729"
      ]
     },
     "execution_count": 13,
     "metadata": {},
     "output_type": "execute_result"
    }
   ],
   "source": [
    "len(gwas_variants_ids_set)"
   ]
  },
  {
   "cell_type": "code",
   "execution_count": 14,
   "id": "4235b06a-6034-4ee4-a0a3-2ae35d122418",
   "metadata": {
    "execution": {
     "iopub.execute_input": "2022-08-08T05:57:39.929826Z",
     "iopub.status.busy": "2022-08-08T05:57:39.929628Z",
     "iopub.status.idle": "2022-08-08T05:57:40.409405Z",
     "shell.execute_reply": "2022-08-08T05:57:40.408943Z"
    },
    "papermill": {
     "duration": 0.488171,
     "end_time": "2022-08-08T05:57:40.410896",
     "exception": false,
     "start_time": "2022-08-08T05:57:39.922725",
     "status": "completed"
    },
    "tags": []
   },
   "outputs": [
    {
     "data": {
      "text/plain": [
       "['chr10_1871004_A_G_b38',\n",
       " 'chr15_41147693_A_G_b38',\n",
       " 'chr15_81285167_T_G_b38',\n",
       " 'chr7_157938577_A_G_b38',\n",
       " 'chr4_43093160_C_T_b38']"
      ]
     },
     "execution_count": 14,
     "metadata": {},
     "output_type": "execute_result"
    }
   ],
   "source": [
    "list(gwas_variants_ids_set)[:5]"
   ]
  },
  {
   "cell_type": "markdown",
   "id": "07866999-2305-41f9-a144-e69c9122c212",
   "metadata": {
    "papermill": {
     "duration": 0.007132,
     "end_time": "2022-08-08T05:57:40.425468",
     "exception": false,
     "start_time": "2022-08-08T05:57:40.418336",
     "status": "completed"
    },
    "tags": []
   },
   "source": [
    "## S-PrediXcan tissue models"
   ]
  },
  {
   "cell_type": "code",
   "execution_count": 15,
   "id": "780611d9-77c8-405f-90a4-f271f7b09397",
   "metadata": {
    "execution": {
     "iopub.execute_input": "2022-08-08T05:57:40.440545Z",
     "iopub.status.busy": "2022-08-08T05:57:40.440161Z",
     "iopub.status.idle": "2022-08-08T05:57:41.243727Z",
     "shell.execute_reply": "2022-08-08T05:57:41.243297Z"
    },
    "papermill": {
     "duration": 0.8126,
     "end_time": "2022-08-08T05:57:41.245237",
     "exception": false,
     "start_time": "2022-08-08T05:57:40.432637",
     "status": "completed"
    },
    "tags": []
   },
   "outputs": [],
   "source": [
    "spredixcan_genes_models = pd.read_pickle(OUTPUT_DIR_BASE / \"gene_tissues.pkl\")"
   ]
  },
  {
   "cell_type": "code",
   "execution_count": 16,
   "id": "726dd1f6-9557-4225-91fa-b3b879ea96e1",
   "metadata": {
    "execution": {
     "iopub.execute_input": "2022-08-08T05:57:41.259295Z",
     "iopub.status.busy": "2022-08-08T05:57:41.258947Z",
     "iopub.status.idle": "2022-08-08T05:57:41.273802Z",
     "shell.execute_reply": "2022-08-08T05:57:41.273356Z"
    },
    "papermill": {
     "duration": 0.025192,
     "end_time": "2022-08-08T05:57:41.277108",
     "exception": false,
     "start_time": "2022-08-08T05:57:41.251916",
     "status": "completed"
    },
    "tags": []
   },
   "outputs": [
    {
     "data": {
      "text/plain": [
       "(6442, 10)"
      ]
     },
     "execution_count": 16,
     "metadata": {},
     "output_type": "execute_result"
    }
   ],
   "source": [
    "spredixcan_genes_models.shape"
   ]
  },
  {
   "cell_type": "code",
   "execution_count": 17,
   "id": "944a1b48-222c-4eb0-b252-b9de2cbca215",
   "metadata": {
    "execution": {
     "iopub.execute_input": "2022-08-08T05:57:41.290856Z",
     "iopub.status.busy": "2022-08-08T05:57:41.290622Z",
     "iopub.status.idle": "2022-08-08T05:57:41.318484Z",
     "shell.execute_reply": "2022-08-08T05:57:41.318034Z"
    },
    "papermill": {
     "duration": 0.036279,
     "end_time": "2022-08-08T05:57:41.319760",
     "exception": false,
     "start_time": "2022-08-08T05:57:41.283481",
     "status": "completed"
    },
    "tags": []
   },
   "outputs": [
    {
     "data": {
      "text/html": [
       "<div>\n",
       "<style scoped>\n",
       "    .dataframe tbody tr th:only-of-type {\n",
       "        vertical-align: middle;\n",
       "    }\n",
       "\n",
       "    .dataframe tbody tr th {\n",
       "        vertical-align: top;\n",
       "    }\n",
       "\n",
       "    .dataframe thead th {\n",
       "        text-align: right;\n",
       "    }\n",
       "</style>\n",
       "<table border=\"1\" class=\"dataframe\">\n",
       "  <thead>\n",
       "    <tr style=\"text-align: right;\">\n",
       "      <th></th>\n",
       "      <th>gene_name</th>\n",
       "      <th>tissue</th>\n",
       "      <th>n_tissues</th>\n",
       "      <th>tissues_pc_variances</th>\n",
       "      <th>tissues_pc_variances_cov</th>\n",
       "      <th>tissues_variances</th>\n",
       "      <th>n_snps_used_sum</th>\n",
       "      <th>n_snps_in_model_sum</th>\n",
       "      <th>unique_n_snps_in_model</th>\n",
       "      <th>unique_n_snps_used</th>\n",
       "    </tr>\n",
       "    <tr>\n",
       "      <th>gene_id</th>\n",
       "      <th></th>\n",
       "      <th></th>\n",
       "      <th></th>\n",
       "      <th></th>\n",
       "      <th></th>\n",
       "      <th></th>\n",
       "      <th></th>\n",
       "      <th></th>\n",
       "      <th></th>\n",
       "      <th></th>\n",
       "    </tr>\n",
       "  </thead>\n",
       "  <tbody>\n",
       "    <tr>\n",
       "      <th>ENSG00000000419</th>\n",
       "      <td>DPM1</td>\n",
       "      <td>(Brain_Substantia_nigra, Brain_Hypothalamus)</td>\n",
       "      <td>2</td>\n",
       "      <td>[1.0442398458252409, 0.9557601541747592]</td>\n",
       "      <td>[0.013163142634155849, 0.00048574890347684763]</td>\n",
       "      <td>{'Brain_Hypothalamus': 0.013162153504206677, '...</td>\n",
       "      <td>2</td>\n",
       "      <td>2</td>\n",
       "      <td>2</td>\n",
       "      <td>2</td>\n",
       "    </tr>\n",
       "    <tr>\n",
       "      <th>ENSG00000000938</th>\n",
       "      <td>FGR</td>\n",
       "      <td>(Skin_Sun_Exposed_Lower_leg, Brain_Cerebellar_...</td>\n",
       "      <td>36</td>\n",
       "      <td>[31.632669336371276, 2.078367751851144, 1.2716...</td>\n",
       "      <td>[0.17159486570780275]</td>\n",
       "      <td>{'Brain_Frontal_Cortex_BA9': 0.005461342207578...</td>\n",
       "      <td>40</td>\n",
       "      <td>40</td>\n",
       "      <td>5</td>\n",
       "      <td>5</td>\n",
       "    </tr>\n",
       "    <tr>\n",
       "      <th>ENSG00000000971</th>\n",
       "      <td>CFH</td>\n",
       "      <td>(Skin_Sun_Exposed_Lower_leg, Brain_Cerebellar_...</td>\n",
       "      <td>34</td>\n",
       "      <td>[21.560769925683292, 7.310170987045467, 1.8377...</td>\n",
       "      <td>[0.20930603195874506, 0.05823434765600799, 0.0...</td>\n",
       "      <td>{'Brain_Frontal_Cortex_BA9': 0.005194353597795...</td>\n",
       "      <td>44</td>\n",
       "      <td>44</td>\n",
       "      <td>12</td>\n",
       "      <td>12</td>\n",
       "    </tr>\n",
       "    <tr>\n",
       "      <th>ENSG00000001084</th>\n",
       "      <td>GCLC</td>\n",
       "      <td>(Skin_Sun_Exposed_Lower_leg, Brain_Cerebellar_...</td>\n",
       "      <td>32</td>\n",
       "      <td>[21.291939080546523, 4.699418748743194, 2.2489...</td>\n",
       "      <td>[0.3943052737512377, 0.11627488888534836, 0.01...</td>\n",
       "      <td>{'Brain_Frontal_Cortex_BA9': 0.015455998643262...</td>\n",
       "      <td>46</td>\n",
       "      <td>46</td>\n",
       "      <td>23</td>\n",
       "      <td>23</td>\n",
       "    </tr>\n",
       "    <tr>\n",
       "      <th>ENSG00000001167</th>\n",
       "      <td>NFYA</td>\n",
       "      <td>(Skin_Sun_Exposed_Lower_leg, Brain_Cerebellar_...</td>\n",
       "      <td>40</td>\n",
       "      <td>[37.33566029549769, 1.3914019604538361]</td>\n",
       "      <td>[1.164263997982105, 0.05742881287671713]</td>\n",
       "      <td>{'Heart_Left_Ventricle': 0.01552640772964782, ...</td>\n",
       "      <td>47</td>\n",
       "      <td>48</td>\n",
       "      <td>14</td>\n",
       "      <td>13</td>\n",
       "    </tr>\n",
       "  </tbody>\n",
       "</table>\n",
       "</div>"
      ],
      "text/plain": [
       "                gene_name                                             tissue  \\\n",
       "gene_id                                                                        \n",
       "ENSG00000000419      DPM1       (Brain_Substantia_nigra, Brain_Hypothalamus)   \n",
       "ENSG00000000938       FGR  (Skin_Sun_Exposed_Lower_leg, Brain_Cerebellar_...   \n",
       "ENSG00000000971       CFH  (Skin_Sun_Exposed_Lower_leg, Brain_Cerebellar_...   \n",
       "ENSG00000001084      GCLC  (Skin_Sun_Exposed_Lower_leg, Brain_Cerebellar_...   \n",
       "ENSG00000001167      NFYA  (Skin_Sun_Exposed_Lower_leg, Brain_Cerebellar_...   \n",
       "\n",
       "                 n_tissues                               tissues_pc_variances  \\\n",
       "gene_id                                                                         \n",
       "ENSG00000000419          2           [1.0442398458252409, 0.9557601541747592]   \n",
       "ENSG00000000938         36  [31.632669336371276, 2.078367751851144, 1.2716...   \n",
       "ENSG00000000971         34  [21.560769925683292, 7.310170987045467, 1.8377...   \n",
       "ENSG00000001084         32  [21.291939080546523, 4.699418748743194, 2.2489...   \n",
       "ENSG00000001167         40            [37.33566029549769, 1.3914019604538361]   \n",
       "\n",
       "                                          tissues_pc_variances_cov  \\\n",
       "gene_id                                                              \n",
       "ENSG00000000419     [0.013163142634155849, 0.00048574890347684763]   \n",
       "ENSG00000000938                              [0.17159486570780275]   \n",
       "ENSG00000000971  [0.20930603195874506, 0.05823434765600799, 0.0...   \n",
       "ENSG00000001084  [0.3943052737512377, 0.11627488888534836, 0.01...   \n",
       "ENSG00000001167           [1.164263997982105, 0.05742881287671713]   \n",
       "\n",
       "                                                 tissues_variances  \\\n",
       "gene_id                                                              \n",
       "ENSG00000000419  {'Brain_Hypothalamus': 0.013162153504206677, '...   \n",
       "ENSG00000000938  {'Brain_Frontal_Cortex_BA9': 0.005461342207578...   \n",
       "ENSG00000000971  {'Brain_Frontal_Cortex_BA9': 0.005194353597795...   \n",
       "ENSG00000001084  {'Brain_Frontal_Cortex_BA9': 0.015455998643262...   \n",
       "ENSG00000001167  {'Heart_Left_Ventricle': 0.01552640772964782, ...   \n",
       "\n",
       "                 n_snps_used_sum  n_snps_in_model_sum  unique_n_snps_in_model  \\\n",
       "gene_id                                                                         \n",
       "ENSG00000000419                2                    2                       2   \n",
       "ENSG00000000938               40                   40                       5   \n",
       "ENSG00000000971               44                   44                      12   \n",
       "ENSG00000001084               46                   46                      23   \n",
       "ENSG00000001167               47                   48                      14   \n",
       "\n",
       "                 unique_n_snps_used  \n",
       "gene_id                              \n",
       "ENSG00000000419                   2  \n",
       "ENSG00000000938                   5  \n",
       "ENSG00000000971                  12  \n",
       "ENSG00000001084                  23  \n",
       "ENSG00000001167                  13  "
      ]
     },
     "execution_count": 17,
     "metadata": {},
     "output_type": "execute_result"
    }
   ],
   "source": [
    "spredixcan_genes_models.head()"
   ]
  },
  {
   "cell_type": "code",
   "execution_count": 18,
   "id": "d1c11bb1-be0b-4f40-b360-633d6827109f",
   "metadata": {
    "execution": {
     "iopub.execute_input": "2022-08-08T05:57:41.335111Z",
     "iopub.status.busy": "2022-08-08T05:57:41.334556Z",
     "iopub.status.idle": "2022-08-08T05:57:41.349013Z",
     "shell.execute_reply": "2022-08-08T05:57:41.348488Z"
    },
    "papermill": {
     "duration": 0.023024,
     "end_time": "2022-08-08T05:57:41.350483",
     "exception": false,
     "start_time": "2022-08-08T05:57:41.327459",
     "status": "completed"
    },
    "tags": []
   },
   "outputs": [],
   "source": [
    "assert spredixcan_genes_models.index.is_unique"
   ]
  },
  {
   "cell_type": "markdown",
   "id": "a5b5092c-a13e-47c4-a92a-480fcc08f3ae",
   "metadata": {
    "papermill": {
     "duration": 0.006204,
     "end_time": "2022-08-08T05:57:41.363301",
     "exception": false,
     "start_time": "2022-08-08T05:57:41.357097",
     "status": "completed"
    },
    "tags": []
   },
   "source": [
    "## Gene info"
   ]
  },
  {
   "cell_type": "code",
   "execution_count": 19,
   "id": "7d6bb224-88e9-4358-ac10-43a41d92cdad",
   "metadata": {
    "execution": {
     "iopub.execute_input": "2022-08-08T05:57:41.376900Z",
     "iopub.status.busy": "2022-08-08T05:57:41.376556Z",
     "iopub.status.idle": "2022-08-08T05:57:41.392648Z",
     "shell.execute_reply": "2022-08-08T05:57:41.392112Z"
    },
    "papermill": {
     "duration": 0.024359,
     "end_time": "2022-08-08T05:57:41.393979",
     "exception": false,
     "start_time": "2022-08-08T05:57:41.369620",
     "status": "completed"
    },
    "tags": []
   },
   "outputs": [],
   "source": [
    "genes_info = pd.read_pickle(OUTPUT_DIR_BASE / \"genes_info.pkl\")"
   ]
  },
  {
   "cell_type": "code",
   "execution_count": 20,
   "id": "9e32abfa-546d-483e-8c18-d526e9e05903",
   "metadata": {
    "execution": {
     "iopub.execute_input": "2022-08-08T05:57:41.408723Z",
     "iopub.status.busy": "2022-08-08T05:57:41.408526Z",
     "iopub.status.idle": "2022-08-08T05:57:41.423126Z",
     "shell.execute_reply": "2022-08-08T05:57:41.422635Z"
    },
    "papermill": {
     "duration": 0.023379,
     "end_time": "2022-08-08T05:57:41.424325",
     "exception": false,
     "start_time": "2022-08-08T05:57:41.400946",
     "status": "completed"
    },
    "tags": []
   },
   "outputs": [
    {
     "data": {
      "text/plain": [
       "(6442, 7)"
      ]
     },
     "execution_count": 20,
     "metadata": {},
     "output_type": "execute_result"
    }
   ],
   "source": [
    "genes_info.shape"
   ]
  },
  {
   "cell_type": "code",
   "execution_count": 21,
   "id": "d16c3e92-85ec-468a-9a56-e25a9774a1cb",
   "metadata": {
    "execution": {
     "iopub.execute_input": "2022-08-08T05:57:41.438482Z",
     "iopub.status.busy": "2022-08-08T05:57:41.438287Z",
     "iopub.status.idle": "2022-08-08T05:57:41.456684Z",
     "shell.execute_reply": "2022-08-08T05:57:41.456180Z"
    },
    "papermill": {
     "duration": 0.026935,
     "end_time": "2022-08-08T05:57:41.458100",
     "exception": false,
     "start_time": "2022-08-08T05:57:41.431165",
     "status": "completed"
    },
    "tags": []
   },
   "outputs": [
    {
     "data": {
      "text/html": [
       "<div>\n",
       "<style scoped>\n",
       "    .dataframe tbody tr th:only-of-type {\n",
       "        vertical-align: middle;\n",
       "    }\n",
       "\n",
       "    .dataframe tbody tr th {\n",
       "        vertical-align: top;\n",
       "    }\n",
       "\n",
       "    .dataframe thead th {\n",
       "        text-align: right;\n",
       "    }\n",
       "</style>\n",
       "<table border=\"1\" class=\"dataframe\">\n",
       "  <thead>\n",
       "    <tr style=\"text-align: right;\">\n",
       "      <th></th>\n",
       "      <th>name</th>\n",
       "      <th>id</th>\n",
       "      <th>chr</th>\n",
       "      <th>band</th>\n",
       "      <th>start_position</th>\n",
       "      <th>end_position</th>\n",
       "      <th>gene_length</th>\n",
       "    </tr>\n",
       "  </thead>\n",
       "  <tbody>\n",
       "    <tr>\n",
       "      <th>0</th>\n",
       "      <td>FKBP8</td>\n",
       "      <td>ENSG00000105701</td>\n",
       "      <td>19</td>\n",
       "      <td>19p13.11</td>\n",
       "      <td>18531751</td>\n",
       "      <td>18544077</td>\n",
       "      <td>12326</td>\n",
       "    </tr>\n",
       "    <tr>\n",
       "      <th>1</th>\n",
       "      <td>HERPUD1</td>\n",
       "      <td>ENSG00000051108</td>\n",
       "      <td>16</td>\n",
       "      <td>16q13</td>\n",
       "      <td>56932142</td>\n",
       "      <td>56944864</td>\n",
       "      <td>12722</td>\n",
       "    </tr>\n",
       "    <tr>\n",
       "      <th>2</th>\n",
       "      <td>SEPT2</td>\n",
       "      <td>ENSG00000168385</td>\n",
       "      <td>2</td>\n",
       "      <td>2q37.3</td>\n",
       "      <td>241315100</td>\n",
       "      <td>241354027</td>\n",
       "      <td>38927</td>\n",
       "    </tr>\n",
       "    <tr>\n",
       "      <th>3</th>\n",
       "      <td>FXYD6</td>\n",
       "      <td>ENSG00000137726</td>\n",
       "      <td>11</td>\n",
       "      <td>11q23.3</td>\n",
       "      <td>117836976</td>\n",
       "      <td>117877486</td>\n",
       "      <td>40510</td>\n",
       "    </tr>\n",
       "    <tr>\n",
       "      <th>4</th>\n",
       "      <td>RBM15</td>\n",
       "      <td>ENSG00000162775</td>\n",
       "      <td>1</td>\n",
       "      <td>1p13.3</td>\n",
       "      <td>110338506</td>\n",
       "      <td>110346681</td>\n",
       "      <td>8175</td>\n",
       "    </tr>\n",
       "  </tbody>\n",
       "</table>\n",
       "</div>"
      ],
      "text/plain": [
       "      name               id  chr      band  start_position  end_position  \\\n",
       "0    FKBP8  ENSG00000105701   19  19p13.11        18531751      18544077   \n",
       "1  HERPUD1  ENSG00000051108   16     16q13        56932142      56944864   \n",
       "2    SEPT2  ENSG00000168385    2    2q37.3       241315100     241354027   \n",
       "3    FXYD6  ENSG00000137726   11   11q23.3       117836976     117877486   \n",
       "4    RBM15  ENSG00000162775    1    1p13.3       110338506     110346681   \n",
       "\n",
       "   gene_length  \n",
       "0        12326  \n",
       "1        12722  \n",
       "2        38927  \n",
       "3        40510  \n",
       "4         8175  "
      ]
     },
     "execution_count": 21,
     "metadata": {},
     "output_type": "execute_result"
    }
   ],
   "source": [
    "genes_info.head()"
   ]
  },
  {
   "cell_type": "markdown",
   "id": "d3843e06",
   "metadata": {
    "papermill": {
     "duration": 0.006624,
     "end_time": "2022-08-08T05:57:41.471812",
     "exception": false,
     "start_time": "2022-08-08T05:57:41.465188",
     "status": "completed"
    },
    "tags": []
   },
   "source": [
    "# Compute correlations"
   ]
  },
  {
   "cell_type": "code",
   "execution_count": 22,
   "id": "cb859c15-d1f3-4006-a74c-2b83c0db9611",
   "metadata": {
    "execution": {
     "iopub.execute_input": "2022-08-08T05:57:41.487197Z",
     "iopub.status.busy": "2022-08-08T05:57:41.486865Z",
     "iopub.status.idle": "2022-08-08T05:57:41.502390Z",
     "shell.execute_reply": "2022-08-08T05:57:41.501932Z"
    },
    "papermill": {
     "duration": 0.024619,
     "end_time": "2022-08-08T05:57:41.503593",
     "exception": false,
     "start_time": "2022-08-08T05:57:41.478974",
     "status": "completed"
    },
    "tags": []
   },
   "outputs": [
    {
     "data": {
      "text/plain": [
       "PosixPath('/opt/data/results/gls/gene_corrs/cohorts/1000g_eur/gtex_v8/mashr/by_chr/gene_corrs-chr7.pkl')"
      ]
     },
     "metadata": {},
     "output_type": "display_data"
    }
   ],
   "source": [
    "output_dir = OUTPUT_DIR_BASE / \"by_chr\"\n",
    "output_dir.mkdir(exist_ok=True, parents=True)\n",
    "output_file = output_dir / f\"gene_corrs-chr{CHROMOSOME}.pkl\"\n",
    "display(output_file)"
   ]
  },
  {
   "cell_type": "code",
   "execution_count": 23,
   "id": "aa674fe4-6794-4eed-98fa-32b39d1d4ace",
   "metadata": {
    "execution": {
     "iopub.execute_input": "2022-08-08T05:57:41.518678Z",
     "iopub.status.busy": "2022-08-08T05:57:41.518338Z",
     "iopub.status.idle": "2022-08-08T05:57:41.533210Z",
     "shell.execute_reply": "2022-08-08T05:57:41.532766Z"
    },
    "papermill": {
     "duration": 0.023901,
     "end_time": "2022-08-08T05:57:41.534442",
     "exception": false,
     "start_time": "2022-08-08T05:57:41.510541",
     "status": "completed"
    },
    "tags": []
   },
   "outputs": [],
   "source": [
    "warnings.filterwarnings(\"error\")"
   ]
  },
  {
   "cell_type": "code",
   "execution_count": 24,
   "id": "44d5450b-3baf-43f1-9e2e-4b06f1a785f8",
   "metadata": {
    "execution": {
     "iopub.execute_input": "2022-08-08T05:57:41.550007Z",
     "iopub.status.busy": "2022-08-08T05:57:41.549679Z",
     "iopub.status.idle": "2022-08-08T05:57:41.564437Z",
     "shell.execute_reply": "2022-08-08T05:57:41.564047Z"
    },
    "papermill": {
     "duration": 0.023894,
     "end_time": "2022-08-08T05:57:41.565665",
     "exception": false,
     "start_time": "2022-08-08T05:57:41.541771",
     "status": "completed"
    },
    "tags": []
   },
   "outputs": [],
   "source": [
    "# standard checks\n",
    "all_chrs = genes_info[\"chr\"].dropna().unique()\n",
    "assert all_chrs.shape[0] == 22\n",
    "\n",
    "# select chromosome given by the user\n",
    "assert CHROMOSOME in all_chrs"
   ]
  },
  {
   "cell_type": "code",
   "execution_count": 25,
   "id": "2d7c043c-92a7-4d35-991b-fa69ac1e0268",
   "metadata": {
    "execution": {
     "iopub.execute_input": "2022-08-08T05:57:41.581157Z",
     "iopub.status.busy": "2022-08-08T05:57:41.580811Z",
     "iopub.status.idle": "2022-08-08T05:57:41.614641Z",
     "shell.execute_reply": "2022-08-08T05:57:41.614260Z"
    },
    "papermill": {
     "duration": 0.042723,
     "end_time": "2022-08-08T05:57:41.615855",
     "exception": false,
     "start_time": "2022-08-08T05:57:41.573132",
     "status": "completed"
    },
    "tags": []
   },
   "outputs": [
    {
     "name": "stdout",
     "output_type": "stream",
     "text": [
      "Number of genes in chromosome: 281\n"
     ]
    }
   ],
   "source": [
    "# run only on the chromosome specified\n",
    "all_chrs = [CHROMOSOME]\n",
    "genes_chr = genes_info[genes_info[\"chr\"] == CHROMOSOME]\n",
    "\n",
    "# For testing purposes\n",
    "# genes_chr = genes_chr.sample(n=20)\n",
    "\n",
    "print(f\"Number of genes in chromosome: {genes_chr.shape[0]}\", flush=True)"
   ]
  },
  {
   "cell_type": "code",
   "execution_count": 26,
   "id": "916015d8-2979-46d3-a9b9-1cf5a0932c6a",
   "metadata": {
    "execution": {
     "iopub.execute_input": "2022-08-08T05:57:41.630844Z",
     "iopub.status.busy": "2022-08-08T05:57:41.630456Z",
     "iopub.status.idle": "2022-08-08T05:57:41.645029Z",
     "shell.execute_reply": "2022-08-08T05:57:41.644476Z"
    },
    "papermill": {
     "duration": 0.023651,
     "end_time": "2022-08-08T05:57:41.646514",
     "exception": false,
     "start_time": "2022-08-08T05:57:41.622863",
     "status": "completed"
    },
    "tags": []
   },
   "outputs": [],
   "source": [
    "# sort genes by starting position to make visualizations better later\n",
    "genes_chr = genes_chr.sort_values(\"start_position\")"
   ]
  },
  {
   "cell_type": "code",
   "execution_count": 27,
   "id": "a38aa74a-8ad3-47f6-8ef9-56be0e011774",
   "metadata": {
    "execution": {
     "iopub.execute_input": "2022-08-08T05:57:41.661131Z",
     "iopub.status.busy": "2022-08-08T05:57:41.660948Z",
     "iopub.status.idle": "2022-08-08T05:57:41.675840Z",
     "shell.execute_reply": "2022-08-08T05:57:41.675316Z"
    },
    "papermill": {
     "duration": 0.023729,
     "end_time": "2022-08-08T05:57:41.677194",
     "exception": false,
     "start_time": "2022-08-08T05:57:41.653465",
     "status": "completed"
    },
    "tags": []
   },
   "outputs": [],
   "source": [
    "gene_chr_objs = [Gene(ensembl_id=gene_id) for gene_id in genes_chr[\"id\"]]"
   ]
  },
  {
   "cell_type": "code",
   "execution_count": 28,
   "id": "570f974f-13c3-42b6-ad3a-ce99ca885c1a",
   "metadata": {
    "execution": {
     "iopub.execute_input": "2022-08-08T05:57:41.693157Z",
     "iopub.status.busy": "2022-08-08T05:57:41.692647Z",
     "iopub.status.idle": "2022-08-08T05:57:41.709005Z",
     "shell.execute_reply": "2022-08-08T05:57:41.708529Z"
    },
    "papermill": {
     "duration": 0.025342,
     "end_time": "2022-08-08T05:57:41.710186",
     "exception": false,
     "start_time": "2022-08-08T05:57:41.684844",
     "status": "completed"
    },
    "tags": []
   },
   "outputs": [
    {
     "name": "stdout",
     "output_type": "stream",
     "text": [
      "Number of gene combinations: 39340\n"
     ]
    }
   ],
   "source": [
    "n = len(gene_chr_objs)\n",
    "n_comb = int(n * (n - 1) / 2.0)\n",
    "print(f\"Number of gene combinations: {n_comb}\", flush=True)"
   ]
  },
  {
   "cell_type": "code",
   "execution_count": 29,
   "id": "cdbb90a1",
   "metadata": {
    "execution": {
     "iopub.execute_input": "2022-08-08T05:57:41.726272Z",
     "iopub.status.busy": "2022-08-08T05:57:41.725984Z",
     "iopub.status.idle": "2022-08-08T06:44:51.540057Z",
     "shell.execute_reply": "2022-08-08T06:44:51.539610Z"
    },
    "papermill": {
     "duration": 2829.823773,
     "end_time": "2022-08-08T06:44:51.541345",
     "exception": false,
     "start_time": "2022-08-08T05:57:41.717572",
     "status": "completed"
    },
    "tags": []
   },
   "outputs": [
    {
     "name": "stderr",
     "output_type": "stream",
     "text": [
      "ENSG00000155093 / ENSG00000106018: 100%|██████████████████████| 39340/39340 [47:09<00:00, 13.90it/s]\n"
     ]
    },
    {
     "data": {
      "text/plain": [
       "PosixPath('/opt/data/results/gls/gene_corrs/cohorts/1000g_eur/gtex_v8/mashr/by_chr/gene_corrs-chr7.pkl')"
      ]
     },
     "metadata": {},
     "output_type": "display_data"
    }
   ],
   "source": [
    "gene_corrs = []\n",
    "\n",
    "i = 0\n",
    "with tqdm(ncols=100, total=n_comb) as pbar:\n",
    "    for gene1_idx in range(0, len(gene_chr_objs) - 1):\n",
    "        gene1_obj = gene_chr_objs[gene1_idx]\n",
    "        gene1_tissues = spredixcan_genes_models.loc[gene1_obj.ensembl_id, \"tissue\"]\n",
    "\n",
    "        for gene2_idx in range(gene1_idx + 1, len(gene_chr_objs)):\n",
    "            gene2_obj = gene_chr_objs[gene2_idx]\n",
    "            gene2_tissues = spredixcan_genes_models.loc[gene2_obj.ensembl_id, \"tissue\"]\n",
    "\n",
    "            pbar.set_description(f\"{gene1_obj.ensembl_id} / {gene2_obj.ensembl_id}\")\n",
    "\n",
    "            try:\n",
    "                r = gene1_obj.get_ssm_correlation(\n",
    "                    other_gene=gene2_obj,\n",
    "                    tissues=gene1_tissues,\n",
    "                    other_tissues=gene2_tissues,\n",
    "                    snps_subset=gwas_variants_ids_set,\n",
    "                    condition_number=SMULTIXCAN_CONDITION_NUMBER,\n",
    "                    reference_panel=REFERENCE_PANEL,\n",
    "                    model_type=EQTL_MODEL,\n",
    "                    use_within_distance=COMPUTE_CORRELATIONS_WITHIN_DISTANCE,\n",
    "                )\n",
    "\n",
    "                if r is None:\n",
    "                    # if r is None, it's very likely because:\n",
    "                    #  * one of the genes has no prediction models\n",
    "                    #  * all the SNPs predictors for the gene are not present in the reference\n",
    "                    #    panel\n",
    "\n",
    "                    r = 0.0\n",
    "\n",
    "                gene_corrs.append(r)\n",
    "            except Warning as e:\n",
    "                if not DEBUG_MODE:\n",
    "                    raise e\n",
    "\n",
    "                print(\n",
    "                    f\"RuntimeWarning for genes {gene1_obj.ensembl_id} and {gene2_obj.ensembl_id}\",\n",
    "                    flush=True,\n",
    "                )\n",
    "                print(traceback.format_exc(), flush=True)\n",
    "\n",
    "                gene_corrs.append(np.nan)\n",
    "            except Exception as e:\n",
    "                if not DEBUG_MODE:\n",
    "                    raise e\n",
    "\n",
    "                print(\n",
    "                    f\"Exception for genes {gene1_obj.ensembl_id} and {gene2_obj.ensembl_id}\",\n",
    "                    flush=True,\n",
    "                )\n",
    "                print(traceback.format_exc(), flush=True)\n",
    "\n",
    "                gene_corrs.append(np.nan)\n",
    "\n",
    "            pbar.update(1)\n",
    "\n",
    "# create a pandas series\n",
    "gene_corrs_flat = pd.Series(gene_corrs)\n",
    "\n",
    "# save\n",
    "# FIXME: consider saving only the condenced matrix here. See here for\n",
    "# more details: https://github.com/greenelab/phenoplier/pull/38#discussion_r634600813\n",
    "gene_corrs_data = squareform(np.array(gene_corrs, dtype=np.float64))\n",
    "np.fill_diagonal(gene_corrs_data, 1.0)\n",
    "\n",
    "gene_chr_ids = [g.ensembl_id for g in gene_chr_objs]\n",
    "gene_corrs_df = pd.DataFrame(\n",
    "    data=gene_corrs_data,\n",
    "    index=gene_chr_ids,\n",
    "    columns=gene_chr_ids,\n",
    ")\n",
    "\n",
    "output_dir.mkdir(exist_ok=True, parents=True)\n",
    "display(output_file)\n",
    "\n",
    "gene_corrs_df.to_pickle(output_file)"
   ]
  },
  {
   "cell_type": "markdown",
   "id": "faa67b51-5373-470f-aa72-2ded53fa6dfe",
   "metadata": {
    "papermill": {
     "duration": 2.084958,
     "end_time": "2022-08-08T06:44:55.728335",
     "exception": false,
     "start_time": "2022-08-08T06:44:53.643377",
     "status": "completed"
    },
    "tags": []
   },
   "source": [
    "# Testing"
   ]
  },
  {
   "cell_type": "code",
   "execution_count": 30,
   "id": "14f7d046-4b55-4896-a56b-990127bcc388",
   "metadata": {
    "execution": {
     "iopub.execute_input": "2022-08-08T06:44:59.972437Z",
     "iopub.status.busy": "2022-08-08T06:44:59.972213Z",
     "iopub.status.idle": "2022-08-08T06:44:59.988254Z",
     "shell.execute_reply": "2022-08-08T06:44:59.987850Z"
    },
    "papermill": {
     "duration": 2.081561,
     "end_time": "2022-08-08T06:44:59.989391",
     "exception": false,
     "start_time": "2022-08-08T06:44:57.907830",
     "status": "completed"
    },
    "tags": []
   },
   "outputs": [
    {
     "data": {
      "text/plain": [
       "(281, 281)"
      ]
     },
     "execution_count": 30,
     "metadata": {},
     "output_type": "execute_result"
    }
   ],
   "source": [
    "gene_corrs_df.shape"
   ]
  },
  {
   "cell_type": "code",
   "execution_count": 31,
   "id": "c7d15414-3297-4537-a7c6-7588c0baeb75",
   "metadata": {
    "execution": {
     "iopub.execute_input": "2022-08-08T06:45:04.152937Z",
     "iopub.status.busy": "2022-08-08T06:45:04.152774Z",
     "iopub.status.idle": "2022-08-08T06:45:04.179971Z",
     "shell.execute_reply": "2022-08-08T06:45:04.179531Z"
    },
    "papermill": {
     "duration": 2.169948,
     "end_time": "2022-08-08T06:45:04.181079",
     "exception": false,
     "start_time": "2022-08-08T06:45:02.011131",
     "status": "completed"
    },
    "tags": []
   },
   "outputs": [
    {
     "data": {
      "text/html": [
       "<div>\n",
       "<style scoped>\n",
       "    .dataframe tbody tr th:only-of-type {\n",
       "        vertical-align: middle;\n",
       "    }\n",
       "\n",
       "    .dataframe tbody tr th {\n",
       "        vertical-align: top;\n",
       "    }\n",
       "\n",
       "    .dataframe thead th {\n",
       "        text-align: right;\n",
       "    }\n",
       "</style>\n",
       "<table border=\"1\" class=\"dataframe\">\n",
       "  <thead>\n",
       "    <tr style=\"text-align: right;\">\n",
       "      <th></th>\n",
       "      <th>ENSG00000197461</th>\n",
       "      <th>ENSG00000188191</th>\n",
       "      <th>ENSG00000105963</th>\n",
       "      <th>ENSG00000198517</th>\n",
       "      <th>ENSG00000002822</th>\n",
       "      <th>ENSG00000106263</th>\n",
       "      <th>ENSG00000136213</th>\n",
       "      <th>ENSG00000106003</th>\n",
       "      <th>ENSG00000146535</th>\n",
       "      <th>ENSG00000198286</th>\n",
       "      <th>...</th>\n",
       "      <th>ENSG00000164889</th>\n",
       "      <th>ENSG00000033100</th>\n",
       "      <th>ENSG00000082014</th>\n",
       "      <th>ENSG00000013374</th>\n",
       "      <th>ENSG00000106615</th>\n",
       "      <th>ENSG00000106617</th>\n",
       "      <th>ENSG00000178234</th>\n",
       "      <th>ENSG00000009335</th>\n",
       "      <th>ENSG00000155093</th>\n",
       "      <th>ENSG00000106018</th>\n",
       "    </tr>\n",
       "  </thead>\n",
       "  <tbody>\n",
       "    <tr>\n",
       "      <th>ENSG00000197461</th>\n",
       "      <td>1.000000</td>\n",
       "      <td>0.083157</td>\n",
       "      <td>0.033978</td>\n",
       "      <td>0.003060</td>\n",
       "      <td>0.013065</td>\n",
       "      <td>0.009004</td>\n",
       "      <td>0.019057</td>\n",
       "      <td>0.012376</td>\n",
       "      <td>0.009323</td>\n",
       "      <td>0.014266</td>\n",
       "      <td>...</td>\n",
       "      <td>0.010152</td>\n",
       "      <td>0.010507</td>\n",
       "      <td>0.011161</td>\n",
       "      <td>0.013909</td>\n",
       "      <td>0.004774</td>\n",
       "      <td>0.011164</td>\n",
       "      <td>0.006936</td>\n",
       "      <td>0.007883</td>\n",
       "      <td>0.006058</td>\n",
       "      <td>0.014371</td>\n",
       "    </tr>\n",
       "    <tr>\n",
       "      <th>ENSG00000188191</th>\n",
       "      <td>0.083157</td>\n",
       "      <td>1.000000</td>\n",
       "      <td>0.078571</td>\n",
       "      <td>0.004194</td>\n",
       "      <td>0.009341</td>\n",
       "      <td>0.002894</td>\n",
       "      <td>0.009530</td>\n",
       "      <td>0.004923</td>\n",
       "      <td>0.002948</td>\n",
       "      <td>0.008014</td>\n",
       "      <td>...</td>\n",
       "      <td>0.008760</td>\n",
       "      <td>0.006333</td>\n",
       "      <td>0.004605</td>\n",
       "      <td>0.007523</td>\n",
       "      <td>0.003973</td>\n",
       "      <td>0.008225</td>\n",
       "      <td>0.003197</td>\n",
       "      <td>0.007478</td>\n",
       "      <td>0.008958</td>\n",
       "      <td>0.009820</td>\n",
       "    </tr>\n",
       "    <tr>\n",
       "      <th>ENSG00000105963</th>\n",
       "      <td>0.033978</td>\n",
       "      <td>0.078571</td>\n",
       "      <td>1.000000</td>\n",
       "      <td>0.011125</td>\n",
       "      <td>0.016978</td>\n",
       "      <td>0.006438</td>\n",
       "      <td>0.012195</td>\n",
       "      <td>0.010466</td>\n",
       "      <td>0.010922</td>\n",
       "      <td>0.018232</td>\n",
       "      <td>...</td>\n",
       "      <td>0.011512</td>\n",
       "      <td>0.012182</td>\n",
       "      <td>0.012324</td>\n",
       "      <td>0.018159</td>\n",
       "      <td>0.007264</td>\n",
       "      <td>0.019251</td>\n",
       "      <td>0.004451</td>\n",
       "      <td>0.013767</td>\n",
       "      <td>0.013310</td>\n",
       "      <td>0.018882</td>\n",
       "    </tr>\n",
       "    <tr>\n",
       "      <th>ENSG00000198517</th>\n",
       "      <td>0.003060</td>\n",
       "      <td>0.004194</td>\n",
       "      <td>0.011125</td>\n",
       "      <td>1.000000</td>\n",
       "      <td>0.008667</td>\n",
       "      <td>0.008283</td>\n",
       "      <td>0.012122</td>\n",
       "      <td>0.007604</td>\n",
       "      <td>0.003988</td>\n",
       "      <td>0.005604</td>\n",
       "      <td>...</td>\n",
       "      <td>0.005793</td>\n",
       "      <td>0.007669</td>\n",
       "      <td>0.004659</td>\n",
       "      <td>0.009741</td>\n",
       "      <td>0.003398</td>\n",
       "      <td>0.006290</td>\n",
       "      <td>0.003330</td>\n",
       "      <td>0.002767</td>\n",
       "      <td>0.013355</td>\n",
       "      <td>0.002594</td>\n",
       "    </tr>\n",
       "    <tr>\n",
       "      <th>ENSG00000002822</th>\n",
       "      <td>0.013065</td>\n",
       "      <td>0.009341</td>\n",
       "      <td>0.016978</td>\n",
       "      <td>0.008667</td>\n",
       "      <td>1.000000</td>\n",
       "      <td>0.022969</td>\n",
       "      <td>0.045137</td>\n",
       "      <td>0.019808</td>\n",
       "      <td>0.014915</td>\n",
       "      <td>0.018587</td>\n",
       "      <td>...</td>\n",
       "      <td>0.009881</td>\n",
       "      <td>0.014991</td>\n",
       "      <td>0.014940</td>\n",
       "      <td>0.016616</td>\n",
       "      <td>0.007119</td>\n",
       "      <td>0.017551</td>\n",
       "      <td>0.004579</td>\n",
       "      <td>0.011575</td>\n",
       "      <td>0.009440</td>\n",
       "      <td>0.014025</td>\n",
       "    </tr>\n",
       "  </tbody>\n",
       "</table>\n",
       "<p>5 rows × 281 columns</p>\n",
       "</div>"
      ],
      "text/plain": [
       "                 ENSG00000197461  ENSG00000188191  ENSG00000105963  \\\n",
       "ENSG00000197461         1.000000         0.083157         0.033978   \n",
       "ENSG00000188191         0.083157         1.000000         0.078571   \n",
       "ENSG00000105963         0.033978         0.078571         1.000000   \n",
       "ENSG00000198517         0.003060         0.004194         0.011125   \n",
       "ENSG00000002822         0.013065         0.009341         0.016978   \n",
       "\n",
       "                 ENSG00000198517  ENSG00000002822  ENSG00000106263  \\\n",
       "ENSG00000197461         0.003060         0.013065         0.009004   \n",
       "ENSG00000188191         0.004194         0.009341         0.002894   \n",
       "ENSG00000105963         0.011125         0.016978         0.006438   \n",
       "ENSG00000198517         1.000000         0.008667         0.008283   \n",
       "ENSG00000002822         0.008667         1.000000         0.022969   \n",
       "\n",
       "                 ENSG00000136213  ENSG00000106003  ENSG00000146535  \\\n",
       "ENSG00000197461         0.019057         0.012376         0.009323   \n",
       "ENSG00000188191         0.009530         0.004923         0.002948   \n",
       "ENSG00000105963         0.012195         0.010466         0.010922   \n",
       "ENSG00000198517         0.012122         0.007604         0.003988   \n",
       "ENSG00000002822         0.045137         0.019808         0.014915   \n",
       "\n",
       "                 ENSG00000198286  ...  ENSG00000164889  ENSG00000033100  \\\n",
       "ENSG00000197461         0.014266  ...         0.010152         0.010507   \n",
       "ENSG00000188191         0.008014  ...         0.008760         0.006333   \n",
       "ENSG00000105963         0.018232  ...         0.011512         0.012182   \n",
       "ENSG00000198517         0.005604  ...         0.005793         0.007669   \n",
       "ENSG00000002822         0.018587  ...         0.009881         0.014991   \n",
       "\n",
       "                 ENSG00000082014  ENSG00000013374  ENSG00000106615  \\\n",
       "ENSG00000197461         0.011161         0.013909         0.004774   \n",
       "ENSG00000188191         0.004605         0.007523         0.003973   \n",
       "ENSG00000105963         0.012324         0.018159         0.007264   \n",
       "ENSG00000198517         0.004659         0.009741         0.003398   \n",
       "ENSG00000002822         0.014940         0.016616         0.007119   \n",
       "\n",
       "                 ENSG00000106617  ENSG00000178234  ENSG00000009335  \\\n",
       "ENSG00000197461         0.011164         0.006936         0.007883   \n",
       "ENSG00000188191         0.008225         0.003197         0.007478   \n",
       "ENSG00000105963         0.019251         0.004451         0.013767   \n",
       "ENSG00000198517         0.006290         0.003330         0.002767   \n",
       "ENSG00000002822         0.017551         0.004579         0.011575   \n",
       "\n",
       "                 ENSG00000155093  ENSG00000106018  \n",
       "ENSG00000197461         0.006058         0.014371  \n",
       "ENSG00000188191         0.008958         0.009820  \n",
       "ENSG00000105963         0.013310         0.018882  \n",
       "ENSG00000198517         0.013355         0.002594  \n",
       "ENSG00000002822         0.009440         0.014025  \n",
       "\n",
       "[5 rows x 281 columns]"
      ]
     },
     "execution_count": 31,
     "metadata": {},
     "output_type": "execute_result"
    }
   ],
   "source": [
    "gene_corrs_df.head()"
   ]
  },
  {
   "cell_type": "markdown",
   "id": "dad6603f-01c6-41fb-a6f6-241051207dd8",
   "metadata": {
    "papermill": {
     "duration": 2.028243,
     "end_time": "2022-08-08T06:45:08.367868",
     "exception": false,
     "start_time": "2022-08-08T06:45:06.339625",
     "status": "completed"
    },
    "tags": []
   },
   "source": [
    "## Standard checks and stats"
   ]
  },
  {
   "cell_type": "code",
   "execution_count": 32,
   "id": "286686af-1b7b-4440-8453-6bdcbd8de19c",
   "metadata": {
    "execution": {
     "iopub.execute_input": "2022-08-08T06:45:12.513146Z",
     "iopub.status.busy": "2022-08-08T06:45:12.512932Z",
     "iopub.status.idle": "2022-08-08T06:45:12.532896Z",
     "shell.execute_reply": "2022-08-08T06:45:12.532389Z"
    },
    "papermill": {
     "duration": 2.107181,
     "end_time": "2022-08-08T06:45:12.534498",
     "exception": false,
     "start_time": "2022-08-08T06:45:10.427317",
     "status": "completed"
    },
    "tags": []
   },
   "outputs": [],
   "source": [
    "assert not gene_corrs_df.isna().any().any()"
   ]
  },
  {
   "cell_type": "code",
   "execution_count": 33,
   "id": "00583efc-7068-4270-ad1e-4a418e91db96",
   "metadata": {
    "execution": {
     "iopub.execute_input": "2022-08-08T06:45:17.249776Z",
     "iopub.status.busy": "2022-08-08T06:45:17.249512Z",
     "iopub.status.idle": "2022-08-08T06:45:17.271768Z",
     "shell.execute_reply": "2022-08-08T06:45:17.271244Z"
    },
    "papermill": {
     "duration": 2.381242,
     "end_time": "2022-08-08T06:45:17.273271",
     "exception": false,
     "start_time": "2022-08-08T06:45:14.892029",
     "status": "completed"
    },
    "tags": []
   },
   "outputs": [
    {
     "data": {
      "text/plain": [
       "4.344717339317816e-07"
      ]
     },
     "metadata": {},
     "output_type": "display_data"
    }
   ],
   "source": [
    "_min_val = gene_corrs_df.min().min()\n",
    "display(_min_val)\n",
    "assert _min_val >= 0.0"
   ]
  },
  {
   "cell_type": "code",
   "execution_count": 34,
   "id": "d04fb2cf-1050-475b-b855-f5f7cc04092b",
   "metadata": {
    "execution": {
     "iopub.execute_input": "2022-08-08T06:45:22.018243Z",
     "iopub.status.busy": "2022-08-08T06:45:22.018023Z",
     "iopub.status.idle": "2022-08-08T06:45:22.040416Z",
     "shell.execute_reply": "2022-08-08T06:45:22.039819Z"
    },
    "papermill": {
     "duration": 2.399787,
     "end_time": "2022-08-08T06:45:22.042050",
     "exception": false,
     "start_time": "2022-08-08T06:45:19.642263",
     "status": "completed"
    },
    "tags": []
   },
   "outputs": [
    {
     "data": {
      "text/plain": [
       "1.0"
      ]
     },
     "metadata": {},
     "output_type": "display_data"
    }
   ],
   "source": [
    "_max_val = gene_corrs_df.max().max()  # this captures the diagonal\n",
    "display(_max_val)\n",
    "assert _max_val <= 1.0"
   ]
  },
  {
   "cell_type": "code",
   "execution_count": 35,
   "id": "96d02c44-1fba-47be-8a93-8f2608420b9c",
   "metadata": {
    "execution": {
     "iopub.execute_input": "2022-08-08T06:45:26.296293Z",
     "iopub.status.busy": "2022-08-08T06:45:26.296094Z",
     "iopub.status.idle": "2022-08-08T06:45:26.313634Z",
     "shell.execute_reply": "2022-08-08T06:45:26.313077Z"
    },
    "papermill": {
     "duration": 2.169801,
     "end_time": "2022-08-08T06:45:26.315142",
     "exception": false,
     "start_time": "2022-08-08T06:45:24.145341",
     "status": "completed"
    },
    "tags": []
   },
   "outputs": [],
   "source": [
    "# check upper triangular values\n",
    "assert len(gene_corrs) == int(genes_chr.shape[0] * (genes_chr.shape[0] - 1) / 2)"
   ]
  },
  {
   "cell_type": "code",
   "execution_count": 36,
   "id": "fe283586-c348-40e0-8841-f6d97bfb021c",
   "metadata": {
    "execution": {
     "iopub.execute_input": "2022-08-08T06:45:30.984219Z",
     "iopub.status.busy": "2022-08-08T06:45:30.984038Z",
     "iopub.status.idle": "2022-08-08T06:45:31.005316Z",
     "shell.execute_reply": "2022-08-08T06:45:31.004896Z"
    },
    "papermill": {
     "duration": 2.277611,
     "end_time": "2022-08-08T06:45:31.006529",
     "exception": false,
     "start_time": "2022-08-08T06:45:28.728918",
     "status": "completed"
    },
    "tags": []
   },
   "outputs": [
    {
     "data": {
      "text/plain": [
       "count    3.934000e+04\n",
       "mean     8.748159e-03\n",
       "std      2.995194e-02\n",
       "min      4.344717e-07\n",
       "25%      3.966728e-03\n",
       "50%      5.997381e-03\n",
       "75%      8.360326e-03\n",
       "max      9.605890e-01\n",
       "dtype: float64"
      ]
     },
     "execution_count": 36,
     "metadata": {},
     "output_type": "execute_result"
    }
   ],
   "source": [
    "gene_corrs_flat.describe()"
   ]
  },
  {
   "cell_type": "code",
   "execution_count": 37,
   "id": "b3815678-0f93-4b35-897b-a9d047a2aa78",
   "metadata": {
    "execution": {
     "iopub.execute_input": "2022-08-08T06:45:35.218673Z",
     "iopub.status.busy": "2022-08-08T06:45:35.218507Z",
     "iopub.status.idle": "2022-08-08T06:45:35.239220Z",
     "shell.execute_reply": "2022-08-08T06:45:35.238814Z"
    },
    "papermill": {
     "duration": 2.081114,
     "end_time": "2022-08-08T06:45:35.240610",
     "exception": false,
     "start_time": "2022-08-08T06:45:33.159496",
     "status": "completed"
    },
    "tags": []
   },
   "outputs": [
    {
     "data": {
      "text/plain": [
       "0.00    4.344717e-07\n",
       "0.05    1.650175e-03\n",
       "0.10    2.439443e-03\n",
       "0.15    3.020385e-03\n",
       "0.20    3.509440e-03\n",
       "0.25    3.966728e-03\n",
       "0.30    4.390681e-03\n",
       "0.35    4.803149e-03\n",
       "0.40    5.199963e-03\n",
       "0.45    5.594836e-03\n",
       "0.50    5.997381e-03\n",
       "0.55    6.419049e-03\n",
       "0.60    6.848506e-03\n",
       "0.65    7.298064e-03\n",
       "0.70    7.793506e-03\n",
       "0.75    8.360326e-03\n",
       "0.80    8.988610e-03\n",
       "0.85    9.749410e-03\n",
       "0.90    1.081742e-02\n",
       "0.95    1.270835e-02\n",
       "dtype: float64"
      ]
     },
     "metadata": {},
     "output_type": "display_data"
    }
   ],
   "source": [
    "gene_corrs_quantiles = gene_corrs_flat.quantile(np.arange(0, 1, 0.05))\n",
    "display(gene_corrs_quantiles)"
   ]
  },
  {
   "cell_type": "markdown",
   "id": "87134509-b145-4a10-8bc9-b7e914c2b0fa",
   "metadata": {
    "papermill": {
     "duration": 2.123384,
     "end_time": "2022-08-08T06:45:39.593183",
     "exception": false,
     "start_time": "2022-08-08T06:45:37.469799",
     "status": "completed"
    },
    "tags": []
   },
   "source": [
    "## Positive definiteness"
   ]
  },
  {
   "cell_type": "code",
   "execution_count": 38,
   "id": "07d9a9a1-a4f7-48aa-b916-6d42a8cc6186",
   "metadata": {
    "execution": {
     "iopub.execute_input": "2022-08-08T06:45:43.982213Z",
     "iopub.status.busy": "2022-08-08T06:45:43.981740Z",
     "iopub.status.idle": "2022-08-08T06:45:44.035381Z",
     "shell.execute_reply": "2022-08-08T06:45:44.034922Z"
    },
    "papermill": {
     "duration": 2.125509,
     "end_time": "2022-08-08T06:45:44.036607",
     "exception": false,
     "start_time": "2022-08-08T06:45:41.911098",
     "status": "completed"
    },
    "tags": []
   },
   "outputs": [
    {
     "data": {
      "text/plain": [
       "0"
      ]
     },
     "metadata": {},
     "output_type": "display_data"
    },
    {
     "data": {
      "text/plain": [
       "array([], dtype=float64)"
      ]
     },
     "metadata": {},
     "output_type": "display_data"
    }
   ],
   "source": [
    "# print negative eigenvalues\n",
    "eigs = np.linalg.eigvals(gene_corrs_df.to_numpy())\n",
    "display(len(eigs[eigs < 0]))\n",
    "display(eigs[eigs < 0])"
   ]
  },
  {
   "cell_type": "code",
   "execution_count": 39,
   "id": "6e218436-c3c5-4028-8c94-a4fa6260efce",
   "metadata": {
    "execution": {
     "iopub.execute_input": "2022-08-08T06:45:48.285780Z",
     "iopub.status.busy": "2022-08-08T06:45:48.285582Z",
     "iopub.status.idle": "2022-08-08T06:45:48.315111Z",
     "shell.execute_reply": "2022-08-08T06:45:48.314708Z"
    },
    "papermill": {
     "duration": 2.108669,
     "end_time": "2022-08-08T06:45:48.316289",
     "exception": false,
     "start_time": "2022-08-08T06:45:46.207620",
     "status": "completed"
    },
    "tags": []
   },
   "outputs": [
    {
     "name": "stdout",
     "output_type": "stream",
     "text": [
      "Works!\n"
     ]
    }
   ],
   "source": [
    "try:\n",
    "    chol_mat = np.linalg.cholesky(gene_corrs_df.to_numpy())\n",
    "    cov_inv = np.linalg.inv(chol_mat)\n",
    "    print(\"Works!\")\n",
    "except:\n",
    "    print(\"Cholesky decomposition failed\")"
   ]
  },
  {
   "cell_type": "markdown",
   "id": "8e60a080-edb2-4e9c-b2ef-22961693200c",
   "metadata": {
    "papermill": {
     "duration": 2.056691,
     "end_time": "2022-08-08T06:45:52.456743",
     "exception": false,
     "start_time": "2022-08-08T06:45:50.400052",
     "status": "completed"
    },
    "tags": []
   },
   "source": [
    "## Plot: distribution"
   ]
  },
  {
   "cell_type": "code",
   "execution_count": 40,
   "id": "8301126b-a7d4-4744-9c7d-f0f86eb6f54c",
   "metadata": {
    "execution": {
     "iopub.execute_input": "2022-08-08T06:45:56.630293Z",
     "iopub.status.busy": "2022-08-08T06:45:56.630130Z",
     "iopub.status.idle": "2022-08-08T06:46:03.233287Z",
     "shell.execute_reply": "2022-08-08T06:46:03.232746Z"
    },
    "papermill": {
     "duration": 8.684767,
     "end_time": "2022-08-08T06:46:03.234651",
     "exception": false,
     "start_time": "2022-08-08T06:45:54.549884",
     "status": "completed"
    },
    "tags": []
   },
   "outputs": [
    {
     "data": {
      "image/png": "[encoded data removed]",
      "text/plain": [
       "<Figure size 504x504 with 1 Axes>"
      ]
     },
     "metadata": {
      "needs_background": "light"
     },
     "output_type": "display_data"
    }
   ],
   "source": [
    "with sns.plotting_context(\"paper\", font_scale=1.5):\n",
    "    g = sns.displot(gene_corrs_flat, kde=True, height=7)\n",
    "    g.ax.set_title(\n",
    "        f\"Distribution of gene correlation values in chromosome {CHROMOSOME}\"\n",
    "    )"
   ]
  },
  {
   "cell_type": "markdown",
   "id": "cbd52bca-d878-4a2f-b684-5c83aa3038d4",
   "metadata": {
    "papermill": {
     "duration": 2.113163,
     "end_time": "2022-08-08T06:46:07.401152",
     "exception": false,
     "start_time": "2022-08-08T06:46:05.287989",
     "status": "completed"
    },
    "tags": []
   },
   "source": [
    "## Plot: heatmap"
   ]
  },
  {
   "cell_type": "code",
   "execution_count": 41,
   "id": "d03fe63a-c7b2-4fb9-a53c-db362ce843c9",
   "metadata": {
    "execution": {
     "iopub.execute_input": "2022-08-08T06:46:11.587055Z",
     "iopub.status.busy": "2022-08-08T06:46:11.586889Z",
     "iopub.status.idle": "2022-08-08T06:46:11.603639Z",
     "shell.execute_reply": "2022-08-08T06:46:11.603151Z"
    },
    "papermill": {
     "duration": 2.051879,
     "end_time": "2022-08-08T06:46:11.604861",
     "exception": false,
     "start_time": "2022-08-08T06:46:09.552982",
     "status": "completed"
    },
    "tags": []
   },
   "outputs": [
    {
     "data": {
      "text/plain": [
       "'0.0 / 0.05'"
      ]
     },
     "metadata": {},
     "output_type": "display_data"
    }
   ],
   "source": [
    "vmin_val = min(0.00, gene_corrs_quantiles[0.10])\n",
    "vmax_val = max(0.05, gene_corrs_quantiles[0.90])\n",
    "display(f\"{vmin_val} / {vmax_val}\")"
   ]
  },
  {
   "cell_type": "code",
   "execution_count": 42,
   "id": "dc41b70b-5bcc-4d9e-9f33-a22c4a94dab5",
   "metadata": {
    "execution": {
     "iopub.execute_input": "2022-08-08T06:46:15.835825Z",
     "iopub.status.busy": "2022-08-08T06:46:15.835297Z",
     "iopub.status.idle": "2022-08-08T06:46:16.085519Z",
     "shell.execute_reply": "2022-08-08T06:46:16.085100Z"
    },
    "papermill": {
     "duration": 2.370581,
     "end_time": "2022-08-08T06:46:16.089109",
     "exception": false,
     "start_time": "2022-08-08T06:46:13.718528",
     "status": "completed"
    },
    "tags": []
   },
   "outputs": [
    {
     "data": {
      "text/plain": [
       "Text(0.5, 1.0, 'Gene correlations in chromosome 7')"
      ]
     },
     "execution_count": 42,
     "metadata": {},
     "output_type": "execute_result"
    },
    {
     "data": {
      "image/png": "[encoded data removed]",
      "text/plain": [
       "<Figure size 720x720 with 2 Axes>"
      ]
     },
     "metadata": {
      "needs_background": "light"
     },
     "output_type": "display_data"
    }
   ],
   "source": [
    "f, ax = plt.subplots(figsize=(10, 10))\n",
    "sns.heatmap(\n",
    "    gene_corrs_df,\n",
    "    xticklabels=False,\n",
    "    yticklabels=False,\n",
    "    square=True,\n",
    "    vmin=vmin_val,\n",
    "    vmax=vmax_val,\n",
    "    cmap=\"rocket_r\",\n",
    "    ax=ax,\n",
    ")\n",
    "ax.set_title(f\"Gene correlations in chromosome {CHROMOSOME}\")"
   ]
  },
  {
   "cell_type": "code",
   "execution_count": null,
   "id": "b25e3ead",
   "metadata": {
    "papermill": {
     "duration": 2.075454,
     "end_time": "2022-08-08T06:46:20.274558",
     "exception": false,
     "start_time": "2022-08-08T06:46:18.199104",
     "status": "completed"
    },
    "tags": []
   },
   "outputs": [],
   "source": []
  }
 ],
 "metadata": {
  "jupytext": {
   "cell_metadata_filter": "all,-execution,-papermill,-trusted",
   "formats": "ipynb,py//py:percent"
  },
  "kernelspec": {
   "display_name": "Python 3 (ipykernel)",
   "language": "python",
   "name": "python3"
  },
  "language_info": {
   "codemirror_mode": {
    "name": "ipython",
    "version": 3
   },
   "file_extension": ".py",
   "mimetype": "text/x-python",
   "name": "python",
   "nbconvert_exporter": "python",
   "pygments_lexer": "ipython3",
   "version": "3.8.13"
  },
  "papermill": {
   "default_parameters": {},
   "duration": 2931.204273,
   "end_time": "2022-08-08T06:46:25.880671",
   "environment_variables": {},
   "exception": null,
   "input_path": "nbs/15_gsa_gls/10-gene_expr_correlations.ipynb",
   "output_path": "nbs/15_gsa_gls/gene_corrs/cohorts/1000g_eur/gtex_v8/mashr/10-gene_expr_correlations-chr7.run.ipynb",
   "parameters": {
    "CHROMOSOME": 7,
    "COHORT_NAME": "1000G_EUR",
    "EQTL_MODEL": "MASHR",
    "REFERENCE_PANEL": "GTEX_V8"
   },
   "start_time": "2022-08-08T05:57:34.676398",
   "version": "2.2.2"
  }
 },
 "nbformat": 4,
 "nbformat_minor": 5
}
